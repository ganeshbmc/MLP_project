{
 "cells": [
  {
   "cell_type": "code",
   "execution_count": 1,
   "id": "a1c8b8dd",
   "metadata": {
    "_cell_guid": "b1076dfc-b9ad-4769-8c92-a6c4dae69d19",
    "_uuid": "8f2839f25d086af736a60e9eeb907d3b93b6e0e5",
    "execution": {
     "iopub.execute_input": "2023-01-07T17:21:52.035598Z",
     "iopub.status.busy": "2023-01-07T17:21:52.035146Z",
     "iopub.status.idle": "2023-01-07T17:21:52.048190Z",
     "shell.execute_reply": "2023-01-07T17:21:52.046907Z"
    },
    "papermill": {
     "duration": 0.026499,
     "end_time": "2023-01-07T17:21:52.050735",
     "exception": false,
     "start_time": "2023-01-07T17:21:52.024236",
     "status": "completed"
    },
    "tags": []
   },
   "outputs": [
    {
     "name": "stdout",
     "output_type": "stream",
     "text": [
      "/kaggle/input/e-commerce-shoppers-behaviour-understanding/test_data_v2.csv\n",
      "/kaggle/input/e-commerce-shoppers-behaviour-understanding/train_data_v2.csv\n",
      "/kaggle/input/e-commerce-shoppers-behaviour-understanding/sample.csv\n"
     ]
    }
   ],
   "source": [
    "# This Python 3 environment comes with many helpful analytics libraries installed\n",
    "# It is defined by the kaggle/python Docker image: https://github.com/kaggle/docker-python\n",
    "# For example, here's several helpful packages to load\n",
    "\n",
    "import numpy as np # linear algebra\n",
    "import pandas as pd # data processing, CSV file I/O (e.g. pd.read_csv)\n",
    "\n",
    "# Input data files are available in the read-only \"../input/\" directory\n",
    "# For example, running this (by clicking run or pressing Shift+Enter) will list all files under the input directory\n",
    "\n",
    "import os\n",
    "for dirname, _, filenames in os.walk('/kaggle/input'):\n",
    "    for filename in filenames:\n",
    "        print(os.path.join(dirname, filename))\n",
    "\n",
    "# You can write up to 20GB to the current directory (/kaggle/working/) that gets preserved as output when you create a version using \"Save & Run All\" \n",
    "# You can also write temporary files to /kaggle/temp/, but they won't be saved outside of the current session"
   ]
  },
  {
   "cell_type": "code",
   "execution_count": 2,
   "id": "69c34ff1",
   "metadata": {
    "execution": {
     "iopub.execute_input": "2023-01-07T17:21:52.068515Z",
     "iopub.status.busy": "2023-01-07T17:21:52.068132Z",
     "iopub.status.idle": "2023-01-07T17:21:52.184753Z",
     "shell.execute_reply": "2023-01-07T17:21:52.183604Z"
    },
    "papermill": {
     "duration": 0.128292,
     "end_time": "2023-01-07T17:21:52.187179",
     "exception": false,
     "start_time": "2023-01-07T17:21:52.058887",
     "status": "completed"
    },
    "tags": []
   },
   "outputs": [
    {
     "data": {
      "text/html": [
       "<div>\n",
       "<style scoped>\n",
       "    .dataframe tbody tr th:only-of-type {\n",
       "        vertical-align: middle;\n",
       "    }\n",
       "\n",
       "    .dataframe tbody tr th {\n",
       "        vertical-align: top;\n",
       "    }\n",
       "\n",
       "    .dataframe thead th {\n",
       "        text-align: right;\n",
       "    }\n",
       "</style>\n",
       "<table border=\"1\" class=\"dataframe\">\n",
       "  <thead>\n",
       "    <tr style=\"text-align: right;\">\n",
       "      <th></th>\n",
       "      <th>HomePage</th>\n",
       "      <th>HomePage_Duration</th>\n",
       "      <th>LandingPage</th>\n",
       "      <th>LandingPage_Duration</th>\n",
       "      <th>ProductDescriptionPage</th>\n",
       "      <th>ProductDescriptionPage_Duration</th>\n",
       "      <th>GoogleMetric:Bounce Rates</th>\n",
       "      <th>GoogleMetric:Exit Rates</th>\n",
       "      <th>GoogleMetric:Page Values</th>\n",
       "      <th>SeasonalPurchase</th>\n",
       "      <th>...</th>\n",
       "      <th>SearchEngine</th>\n",
       "      <th>Zone</th>\n",
       "      <th>Type of Traffic</th>\n",
       "      <th>CustomerType</th>\n",
       "      <th>Gender</th>\n",
       "      <th>Cookies Setting</th>\n",
       "      <th>Education</th>\n",
       "      <th>Marital Status</th>\n",
       "      <th>WeekendPurchase</th>\n",
       "      <th>Made_Purchase</th>\n",
       "    </tr>\n",
       "  </thead>\n",
       "  <tbody>\n",
       "    <tr>\n",
       "      <th>0</th>\n",
       "      <td>0.0</td>\n",
       "      <td>0.0</td>\n",
       "      <td>0.0</td>\n",
       "      <td>0.0</td>\n",
       "      <td>1.0</td>\n",
       "      <td>0.000000</td>\n",
       "      <td>0.20</td>\n",
       "      <td>0.20</td>\n",
       "      <td>0.0</td>\n",
       "      <td>0.0</td>\n",
       "      <td>...</td>\n",
       "      <td>1.0</td>\n",
       "      <td>9.0</td>\n",
       "      <td>3.0</td>\n",
       "      <td>Returning_Visitor</td>\n",
       "      <td>Not Specified</td>\n",
       "      <td>Deny</td>\n",
       "      <td>Not Specified</td>\n",
       "      <td>Other</td>\n",
       "      <td>0.0</td>\n",
       "      <td>False</td>\n",
       "    </tr>\n",
       "    <tr>\n",
       "      <th>1</th>\n",
       "      <td>0.0</td>\n",
       "      <td>0.0</td>\n",
       "      <td>0.0</td>\n",
       "      <td>0.0</td>\n",
       "      <td>2.0</td>\n",
       "      <td>2.666667</td>\n",
       "      <td>0.05</td>\n",
       "      <td>0.14</td>\n",
       "      <td>0.0</td>\n",
       "      <td>0.0</td>\n",
       "      <td>...</td>\n",
       "      <td>2.0</td>\n",
       "      <td>2.0</td>\n",
       "      <td>4.0</td>\n",
       "      <td>Returning_Visitor</td>\n",
       "      <td>Female</td>\n",
       "      <td>Deny</td>\n",
       "      <td>Others</td>\n",
       "      <td>Married</td>\n",
       "      <td>0.0</td>\n",
       "      <td>False</td>\n",
       "    </tr>\n",
       "    <tr>\n",
       "      <th>2</th>\n",
       "      <td>0.0</td>\n",
       "      <td>0.0</td>\n",
       "      <td>0.0</td>\n",
       "      <td>0.0</td>\n",
       "      <td>10.0</td>\n",
       "      <td>627.500000</td>\n",
       "      <td>0.02</td>\n",
       "      <td>0.05</td>\n",
       "      <td>0.0</td>\n",
       "      <td>0.0</td>\n",
       "      <td>...</td>\n",
       "      <td>3.0</td>\n",
       "      <td>1.0</td>\n",
       "      <td>4.0</td>\n",
       "      <td>Returning_Visitor</td>\n",
       "      <td>Female</td>\n",
       "      <td>ALL</td>\n",
       "      <td>Others</td>\n",
       "      <td>Married</td>\n",
       "      <td>1.0</td>\n",
       "      <td>False</td>\n",
       "    </tr>\n",
       "    <tr>\n",
       "      <th>3</th>\n",
       "      <td>0.0</td>\n",
       "      <td>0.0</td>\n",
       "      <td>0.0</td>\n",
       "      <td>0.0</td>\n",
       "      <td>1.0</td>\n",
       "      <td>0.000000</td>\n",
       "      <td>0.20</td>\n",
       "      <td>0.20</td>\n",
       "      <td>0.0</td>\n",
       "      <td>0.4</td>\n",
       "      <td>...</td>\n",
       "      <td>4.0</td>\n",
       "      <td>3.0</td>\n",
       "      <td>3.0</td>\n",
       "      <td>Returning_Visitor</td>\n",
       "      <td>Male</td>\n",
       "      <td>ALL</td>\n",
       "      <td>Diploma</td>\n",
       "      <td>Single</td>\n",
       "      <td>0.0</td>\n",
       "      <td>False</td>\n",
       "    </tr>\n",
       "    <tr>\n",
       "      <th>4</th>\n",
       "      <td>1.0</td>\n",
       "      <td>0.0</td>\n",
       "      <td>0.0</td>\n",
       "      <td>0.0</td>\n",
       "      <td>0.0</td>\n",
       "      <td>0.000000</td>\n",
       "      <td>0.20</td>\n",
       "      <td>0.20</td>\n",
       "      <td>0.0</td>\n",
       "      <td>0.0</td>\n",
       "      <td>...</td>\n",
       "      <td>2.0</td>\n",
       "      <td>1.0</td>\n",
       "      <td>5.0</td>\n",
       "      <td>Returning_Visitor</td>\n",
       "      <td>Male</td>\n",
       "      <td>Deny</td>\n",
       "      <td>Diploma</td>\n",
       "      <td>Other</td>\n",
       "      <td>1.0</td>\n",
       "      <td>False</td>\n",
       "    </tr>\n",
       "  </tbody>\n",
       "</table>\n",
       "<p>5 rows × 22 columns</p>\n",
       "</div>"
      ],
      "text/plain": [
       "   HomePage  HomePage_Duration  LandingPage  LandingPage_Duration  \\\n",
       "0       0.0                0.0          0.0                   0.0   \n",
       "1       0.0                0.0          0.0                   0.0   \n",
       "2       0.0                0.0          0.0                   0.0   \n",
       "3       0.0                0.0          0.0                   0.0   \n",
       "4       1.0                0.0          0.0                   0.0   \n",
       "\n",
       "   ProductDescriptionPage  ProductDescriptionPage_Duration  \\\n",
       "0                     1.0                         0.000000   \n",
       "1                     2.0                         2.666667   \n",
       "2                    10.0                       627.500000   \n",
       "3                     1.0                         0.000000   \n",
       "4                     0.0                         0.000000   \n",
       "\n",
       "   GoogleMetric:Bounce Rates  GoogleMetric:Exit Rates  \\\n",
       "0                       0.20                     0.20   \n",
       "1                       0.05                     0.14   \n",
       "2                       0.02                     0.05   \n",
       "3                       0.20                     0.20   \n",
       "4                       0.20                     0.20   \n",
       "\n",
       "   GoogleMetric:Page Values  SeasonalPurchase  ... SearchEngine  Zone  \\\n",
       "0                       0.0               0.0  ...          1.0   9.0   \n",
       "1                       0.0               0.0  ...          2.0   2.0   \n",
       "2                       0.0               0.0  ...          3.0   1.0   \n",
       "3                       0.0               0.4  ...          4.0   3.0   \n",
       "4                       0.0               0.0  ...          2.0   1.0   \n",
       "\n",
       "   Type of Traffic       CustomerType         Gender Cookies Setting  \\\n",
       "0              3.0  Returning_Visitor  Not Specified            Deny   \n",
       "1              4.0  Returning_Visitor         Female            Deny   \n",
       "2              4.0  Returning_Visitor         Female             ALL   \n",
       "3              3.0  Returning_Visitor           Male             ALL   \n",
       "4              5.0  Returning_Visitor           Male            Deny   \n",
       "\n",
       "       Education Marital Status WeekendPurchase Made_Purchase  \n",
       "0  Not Specified          Other             0.0         False  \n",
       "1         Others        Married             0.0         False  \n",
       "2         Others        Married             1.0         False  \n",
       "3        Diploma         Single             0.0         False  \n",
       "4        Diploma          Other             1.0         False  \n",
       "\n",
       "[5 rows x 22 columns]"
      ]
     },
     "execution_count": 2,
     "metadata": {},
     "output_type": "execute_result"
    }
   ],
   "source": [
    "train_df = pd.read_csv(\"/kaggle/input/e-commerce-shoppers-behaviour-understanding/train_data_v2.csv\")\n",
    "train_df.head()"
   ]
  },
  {
   "cell_type": "code",
   "execution_count": 3,
   "id": "7f39e484",
   "metadata": {
    "execution": {
     "iopub.execute_input": "2023-01-07T17:21:52.205079Z",
     "iopub.status.busy": "2023-01-07T17:21:52.204666Z",
     "iopub.status.idle": "2023-01-07T17:21:52.211782Z",
     "shell.execute_reply": "2023-01-07T17:21:52.210530Z"
    },
    "papermill": {
     "duration": 0.01859,
     "end_time": "2023-01-07T17:21:52.213973",
     "exception": false,
     "start_time": "2023-01-07T17:21:52.195383",
     "status": "completed"
    },
    "tags": []
   },
   "outputs": [
    {
     "data": {
      "text/plain": [
       "(14731, 22)"
      ]
     },
     "execution_count": 3,
     "metadata": {},
     "output_type": "execute_result"
    }
   ],
   "source": [
    "train_df.shape"
   ]
  },
  {
   "cell_type": "code",
   "execution_count": 4,
   "id": "5d06cc7c",
   "metadata": {
    "execution": {
     "iopub.execute_input": "2023-01-07T17:21:52.232535Z",
     "iopub.status.busy": "2023-01-07T17:21:52.232142Z",
     "iopub.status.idle": "2023-01-07T17:21:52.239173Z",
     "shell.execute_reply": "2023-01-07T17:21:52.238053Z"
    },
    "papermill": {
     "duration": 0.018782,
     "end_time": "2023-01-07T17:21:52.241287",
     "exception": false,
     "start_time": "2023-01-07T17:21:52.222505",
     "status": "completed"
    },
    "tags": []
   },
   "outputs": [
    {
     "data": {
      "text/plain": [
       "Index(['HomePage', 'HomePage_Duration', 'LandingPage', 'LandingPage_Duration',\n",
       "       'ProductDescriptionPage', 'ProductDescriptionPage_Duration',\n",
       "       'GoogleMetric:Bounce Rates', 'GoogleMetric:Exit Rates',\n",
       "       'GoogleMetric:Page Values', 'SeasonalPurchase',\n",
       "       'Month_SeasonalPurchase', 'OS', 'SearchEngine', 'Zone',\n",
       "       'Type of Traffic', 'CustomerType', 'Gender', 'Cookies Setting',\n",
       "       'Education', 'Marital Status', 'WeekendPurchase', 'Made_Purchase'],\n",
       "      dtype='object')"
      ]
     },
     "execution_count": 4,
     "metadata": {},
     "output_type": "execute_result"
    }
   ],
   "source": [
    "train_df.columns"
   ]
  },
  {
   "cell_type": "markdown",
   "id": "7917b85e",
   "metadata": {
    "papermill": {
     "duration": 0.007931,
     "end_time": "2023-01-07T17:21:52.257553",
     "exception": false,
     "start_time": "2023-01-07T17:21:52.249622",
     "status": "completed"
    },
    "tags": []
   },
   "source": []
  },
  {
   "cell_type": "code",
   "execution_count": 5,
   "id": "2601d98b",
   "metadata": {
    "execution": {
     "iopub.execute_input": "2023-01-07T17:21:52.277689Z",
     "iopub.status.busy": "2023-01-07T17:21:52.277295Z",
     "iopub.status.idle": "2023-01-07T17:21:52.288472Z",
     "shell.execute_reply": "2023-01-07T17:21:52.287265Z"
    },
    "papermill": {
     "duration": 0.023327,
     "end_time": "2023-01-07T17:21:52.290646",
     "exception": false,
     "start_time": "2023-01-07T17:21:52.267319",
     "status": "completed"
    },
    "tags": []
   },
   "outputs": [
    {
     "data": {
      "text/plain": [
       "((14731, 21), (14731,))"
      ]
     },
     "execution_count": 5,
     "metadata": {},
     "output_type": "execute_result"
    }
   ],
   "source": [
    "X, y = train_df.iloc[:, :-1], train_df.iloc[:, -1]\n",
    "X.shape, y.shape"
   ]
  },
  {
   "cell_type": "code",
   "execution_count": 6,
   "id": "59e4dec9",
   "metadata": {
    "execution": {
     "iopub.execute_input": "2023-01-07T17:21:52.309488Z",
     "iopub.status.busy": "2023-01-07T17:21:52.309051Z",
     "iopub.status.idle": "2023-01-07T17:21:52.339757Z",
     "shell.execute_reply": "2023-01-07T17:21:52.338927Z"
    },
    "papermill": {
     "duration": 0.04291,
     "end_time": "2023-01-07T17:21:52.342278",
     "exception": false,
     "start_time": "2023-01-07T17:21:52.299368",
     "status": "completed"
    },
    "tags": []
   },
   "outputs": [
    {
     "data": {
      "text/html": [
       "<div>\n",
       "<style scoped>\n",
       "    .dataframe tbody tr th:only-of-type {\n",
       "        vertical-align: middle;\n",
       "    }\n",
       "\n",
       "    .dataframe tbody tr th {\n",
       "        vertical-align: top;\n",
       "    }\n",
       "\n",
       "    .dataframe thead th {\n",
       "        text-align: right;\n",
       "    }\n",
       "</style>\n",
       "<table border=\"1\" class=\"dataframe\">\n",
       "  <thead>\n",
       "    <tr style=\"text-align: right;\">\n",
       "      <th></th>\n",
       "      <th>HomePage</th>\n",
       "      <th>HomePage_Duration</th>\n",
       "      <th>LandingPage</th>\n",
       "      <th>LandingPage_Duration</th>\n",
       "      <th>ProductDescriptionPage</th>\n",
       "      <th>ProductDescriptionPage_Duration</th>\n",
       "      <th>GoogleMetric:Bounce Rates</th>\n",
       "      <th>GoogleMetric:Exit Rates</th>\n",
       "      <th>GoogleMetric:Page Values</th>\n",
       "      <th>SeasonalPurchase</th>\n",
       "      <th>...</th>\n",
       "      <th>OS</th>\n",
       "      <th>SearchEngine</th>\n",
       "      <th>Zone</th>\n",
       "      <th>Type of Traffic</th>\n",
       "      <th>CustomerType</th>\n",
       "      <th>Gender</th>\n",
       "      <th>Cookies Setting</th>\n",
       "      <th>Education</th>\n",
       "      <th>Marital Status</th>\n",
       "      <th>WeekendPurchase</th>\n",
       "    </tr>\n",
       "  </thead>\n",
       "  <tbody>\n",
       "    <tr>\n",
       "      <th>0</th>\n",
       "      <td>0.0</td>\n",
       "      <td>0.0</td>\n",
       "      <td>0.0</td>\n",
       "      <td>0.0</td>\n",
       "      <td>1.0</td>\n",
       "      <td>0.000000</td>\n",
       "      <td>0.20</td>\n",
       "      <td>0.20</td>\n",
       "      <td>0.0</td>\n",
       "      <td>0.0</td>\n",
       "      <td>...</td>\n",
       "      <td>4.0</td>\n",
       "      <td>1.0</td>\n",
       "      <td>9.0</td>\n",
       "      <td>3.0</td>\n",
       "      <td>Returning_Visitor</td>\n",
       "      <td>Not Specified</td>\n",
       "      <td>Deny</td>\n",
       "      <td>Not Specified</td>\n",
       "      <td>Other</td>\n",
       "      <td>0.0</td>\n",
       "    </tr>\n",
       "    <tr>\n",
       "      <th>1</th>\n",
       "      <td>0.0</td>\n",
       "      <td>0.0</td>\n",
       "      <td>0.0</td>\n",
       "      <td>0.0</td>\n",
       "      <td>2.0</td>\n",
       "      <td>2.666667</td>\n",
       "      <td>0.05</td>\n",
       "      <td>0.14</td>\n",
       "      <td>0.0</td>\n",
       "      <td>0.0</td>\n",
       "      <td>...</td>\n",
       "      <td>3.0</td>\n",
       "      <td>2.0</td>\n",
       "      <td>2.0</td>\n",
       "      <td>4.0</td>\n",
       "      <td>Returning_Visitor</td>\n",
       "      <td>Female</td>\n",
       "      <td>Deny</td>\n",
       "      <td>Others</td>\n",
       "      <td>Married</td>\n",
       "      <td>0.0</td>\n",
       "    </tr>\n",
       "    <tr>\n",
       "      <th>2</th>\n",
       "      <td>0.0</td>\n",
       "      <td>0.0</td>\n",
       "      <td>0.0</td>\n",
       "      <td>0.0</td>\n",
       "      <td>10.0</td>\n",
       "      <td>627.500000</td>\n",
       "      <td>0.02</td>\n",
       "      <td>0.05</td>\n",
       "      <td>0.0</td>\n",
       "      <td>0.0</td>\n",
       "      <td>...</td>\n",
       "      <td>3.0</td>\n",
       "      <td>3.0</td>\n",
       "      <td>1.0</td>\n",
       "      <td>4.0</td>\n",
       "      <td>Returning_Visitor</td>\n",
       "      <td>Female</td>\n",
       "      <td>ALL</td>\n",
       "      <td>Others</td>\n",
       "      <td>Married</td>\n",
       "      <td>1.0</td>\n",
       "    </tr>\n",
       "    <tr>\n",
       "      <th>3</th>\n",
       "      <td>0.0</td>\n",
       "      <td>0.0</td>\n",
       "      <td>0.0</td>\n",
       "      <td>0.0</td>\n",
       "      <td>1.0</td>\n",
       "      <td>0.000000</td>\n",
       "      <td>0.20</td>\n",
       "      <td>0.20</td>\n",
       "      <td>0.0</td>\n",
       "      <td>0.4</td>\n",
       "      <td>...</td>\n",
       "      <td>2.0</td>\n",
       "      <td>4.0</td>\n",
       "      <td>3.0</td>\n",
       "      <td>3.0</td>\n",
       "      <td>Returning_Visitor</td>\n",
       "      <td>Male</td>\n",
       "      <td>ALL</td>\n",
       "      <td>Diploma</td>\n",
       "      <td>Single</td>\n",
       "      <td>0.0</td>\n",
       "    </tr>\n",
       "    <tr>\n",
       "      <th>4</th>\n",
       "      <td>1.0</td>\n",
       "      <td>0.0</td>\n",
       "      <td>0.0</td>\n",
       "      <td>0.0</td>\n",
       "      <td>0.0</td>\n",
       "      <td>0.000000</td>\n",
       "      <td>0.20</td>\n",
       "      <td>0.20</td>\n",
       "      <td>0.0</td>\n",
       "      <td>0.0</td>\n",
       "      <td>...</td>\n",
       "      <td>1.0</td>\n",
       "      <td>2.0</td>\n",
       "      <td>1.0</td>\n",
       "      <td>5.0</td>\n",
       "      <td>Returning_Visitor</td>\n",
       "      <td>Male</td>\n",
       "      <td>Deny</td>\n",
       "      <td>Diploma</td>\n",
       "      <td>Other</td>\n",
       "      <td>1.0</td>\n",
       "    </tr>\n",
       "  </tbody>\n",
       "</table>\n",
       "<p>5 rows × 21 columns</p>\n",
       "</div>"
      ],
      "text/plain": [
       "   HomePage  HomePage_Duration  LandingPage  LandingPage_Duration  \\\n",
       "0       0.0                0.0          0.0                   0.0   \n",
       "1       0.0                0.0          0.0                   0.0   \n",
       "2       0.0                0.0          0.0                   0.0   \n",
       "3       0.0                0.0          0.0                   0.0   \n",
       "4       1.0                0.0          0.0                   0.0   \n",
       "\n",
       "   ProductDescriptionPage  ProductDescriptionPage_Duration  \\\n",
       "0                     1.0                         0.000000   \n",
       "1                     2.0                         2.666667   \n",
       "2                    10.0                       627.500000   \n",
       "3                     1.0                         0.000000   \n",
       "4                     0.0                         0.000000   \n",
       "\n",
       "   GoogleMetric:Bounce Rates  GoogleMetric:Exit Rates  \\\n",
       "0                       0.20                     0.20   \n",
       "1                       0.05                     0.14   \n",
       "2                       0.02                     0.05   \n",
       "3                       0.20                     0.20   \n",
       "4                       0.20                     0.20   \n",
       "\n",
       "   GoogleMetric:Page Values  SeasonalPurchase  ...   OS  SearchEngine  Zone  \\\n",
       "0                       0.0               0.0  ...  4.0           1.0   9.0   \n",
       "1                       0.0               0.0  ...  3.0           2.0   2.0   \n",
       "2                       0.0               0.0  ...  3.0           3.0   1.0   \n",
       "3                       0.0               0.4  ...  2.0           4.0   3.0   \n",
       "4                       0.0               0.0  ...  1.0           2.0   1.0   \n",
       "\n",
       "   Type of Traffic       CustomerType         Gender Cookies Setting  \\\n",
       "0              3.0  Returning_Visitor  Not Specified            Deny   \n",
       "1              4.0  Returning_Visitor         Female            Deny   \n",
       "2              4.0  Returning_Visitor         Female             ALL   \n",
       "3              3.0  Returning_Visitor           Male             ALL   \n",
       "4              5.0  Returning_Visitor           Male            Deny   \n",
       "\n",
       "       Education Marital Status WeekendPurchase  \n",
       "0  Not Specified          Other             0.0  \n",
       "1         Others        Married             0.0  \n",
       "2         Others        Married             1.0  \n",
       "3        Diploma         Single             0.0  \n",
       "4        Diploma          Other             1.0  \n",
       "\n",
       "[5 rows x 21 columns]"
      ]
     },
     "execution_count": 6,
     "metadata": {},
     "output_type": "execute_result"
    }
   ],
   "source": [
    "X.head()"
   ]
  },
  {
   "cell_type": "code",
   "execution_count": 7,
   "id": "2e4dcbae",
   "metadata": {
    "execution": {
     "iopub.execute_input": "2023-01-07T17:21:52.362459Z",
     "iopub.status.busy": "2023-01-07T17:21:52.361449Z",
     "iopub.status.idle": "2023-01-07T17:21:52.369565Z",
     "shell.execute_reply": "2023-01-07T17:21:52.368297Z"
    },
    "papermill": {
     "duration": 0.020472,
     "end_time": "2023-01-07T17:21:52.371741",
     "exception": false,
     "start_time": "2023-01-07T17:21:52.351269",
     "status": "completed"
    },
    "tags": []
   },
   "outputs": [
    {
     "data": {
      "text/plain": [
       "0    False\n",
       "1    False\n",
       "2    False\n",
       "3    False\n",
       "4    False\n",
       "Name: Made_Purchase, dtype: bool"
      ]
     },
     "execution_count": 7,
     "metadata": {},
     "output_type": "execute_result"
    }
   ],
   "source": [
    "y.head()"
   ]
  },
  {
   "cell_type": "code",
   "execution_count": 8,
   "id": "b5076afd",
   "metadata": {
    "execution": {
     "iopub.execute_input": "2023-01-07T17:21:52.391435Z",
     "iopub.status.busy": "2023-01-07T17:21:52.391022Z",
     "iopub.status.idle": "2023-01-07T17:21:53.248715Z",
     "shell.execute_reply": "2023-01-07T17:21:53.247616Z"
    },
    "papermill": {
     "duration": 0.870313,
     "end_time": "2023-01-07T17:21:53.251011",
     "exception": false,
     "start_time": "2023-01-07T17:21:52.380698",
     "status": "completed"
    },
    "tags": []
   },
   "outputs": [
    {
     "data": {
      "text/plain": [
       "DummyClassifier()"
      ]
     },
     "execution_count": 8,
     "metadata": {},
     "output_type": "execute_result"
    }
   ],
   "source": [
    "from sklearn.dummy import DummyClassifier\n",
    "dummy_clf = DummyClassifier(strategy=\"prior\")\n",
    "dummy_clf"
   ]
  },
  {
   "cell_type": "code",
   "execution_count": 9,
   "id": "a874f861",
   "metadata": {
    "execution": {
     "iopub.execute_input": "2023-01-07T17:21:53.270495Z",
     "iopub.status.busy": "2023-01-07T17:21:53.270089Z",
     "iopub.status.idle": "2023-01-07T17:21:53.279592Z",
     "shell.execute_reply": "2023-01-07T17:21:53.278511Z"
    },
    "papermill": {
     "duration": 0.021727,
     "end_time": "2023-01-07T17:21:53.281795",
     "exception": false,
     "start_time": "2023-01-07T17:21:53.260068",
     "status": "completed"
    },
    "tags": []
   },
   "outputs": [
    {
     "data": {
      "text/plain": [
       "DummyClassifier()"
      ]
     },
     "execution_count": 9,
     "metadata": {},
     "output_type": "execute_result"
    }
   ],
   "source": [
    "dummy_clf.fit(X, y)"
   ]
  },
  {
   "cell_type": "code",
   "execution_count": 10,
   "id": "8deaaa81",
   "metadata": {
    "execution": {
     "iopub.execute_input": "2023-01-07T17:21:53.302649Z",
     "iopub.status.busy": "2023-01-07T17:21:53.301841Z",
     "iopub.status.idle": "2023-01-07T17:21:53.306887Z",
     "shell.execute_reply": "2023-01-07T17:21:53.306151Z"
    },
    "papermill": {
     "duration": 0.017819,
     "end_time": "2023-01-07T17:21:53.309019",
     "exception": false,
     "start_time": "2023-01-07T17:21:53.291200",
     "status": "completed"
    },
    "tags": []
   },
   "outputs": [],
   "source": [
    "y_pred = dummy_clf.predict(X)"
   ]
  },
  {
   "cell_type": "code",
   "execution_count": 11,
   "id": "71bed826",
   "metadata": {
    "execution": {
     "iopub.execute_input": "2023-01-07T17:21:53.329136Z",
     "iopub.status.busy": "2023-01-07T17:21:53.328748Z",
     "iopub.status.idle": "2023-01-07T17:21:53.383459Z",
     "shell.execute_reply": "2023-01-07T17:21:53.382289Z"
    },
    "papermill": {
     "duration": 0.068134,
     "end_time": "2023-01-07T17:21:53.386168",
     "exception": false,
     "start_time": "2023-01-07T17:21:53.318034",
     "status": "completed"
    },
    "tags": []
   },
   "outputs": [],
   "source": [
    "from sklearn.metrics import classification_report"
   ]
  },
  {
   "cell_type": "code",
   "execution_count": 12,
   "id": "c4641dcb",
   "metadata": {
    "execution": {
     "iopub.execute_input": "2023-01-07T17:21:53.406718Z",
     "iopub.status.busy": "2023-01-07T17:21:53.405766Z",
     "iopub.status.idle": "2023-01-07T17:21:53.437459Z",
     "shell.execute_reply": "2023-01-07T17:21:53.435682Z"
    },
    "papermill": {
     "duration": 0.044675,
     "end_time": "2023-01-07T17:21:53.439987",
     "exception": false,
     "start_time": "2023-01-07T17:21:53.395312",
     "status": "completed"
    },
    "tags": []
   },
   "outputs": [
    {
     "name": "stdout",
     "output_type": "stream",
     "text": [
      "              precision    recall  f1-score   support\n",
      "\n",
      "       False       0.62      1.00      0.76      9065\n",
      "        True       0.00      0.00      0.00      5666\n",
      "\n",
      "    accuracy                           0.62     14731\n",
      "   macro avg       0.31      0.50      0.38     14731\n",
      "weighted avg       0.38      0.62      0.47     14731\n",
      "\n"
     ]
    },
    {
     "name": "stderr",
     "output_type": "stream",
     "text": [
      "/opt/conda/lib/python3.7/site-packages/sklearn/metrics/_classification.py:1318: UndefinedMetricWarning: Precision and F-score are ill-defined and being set to 0.0 in labels with no predicted samples. Use `zero_division` parameter to control this behavior.\n",
      "  _warn_prf(average, modifier, msg_start, len(result))\n",
      "/opt/conda/lib/python3.7/site-packages/sklearn/metrics/_classification.py:1318: UndefinedMetricWarning: Precision and F-score are ill-defined and being set to 0.0 in labels with no predicted samples. Use `zero_division` parameter to control this behavior.\n",
      "  _warn_prf(average, modifier, msg_start, len(result))\n",
      "/opt/conda/lib/python3.7/site-packages/sklearn/metrics/_classification.py:1318: UndefinedMetricWarning: Precision and F-score are ill-defined and being set to 0.0 in labels with no predicted samples. Use `zero_division` parameter to control this behavior.\n",
      "  _warn_prf(average, modifier, msg_start, len(result))\n"
     ]
    }
   ],
   "source": [
    "print(classification_report(y, y_pred))"
   ]
  },
  {
   "cell_type": "markdown",
   "id": "141d0574",
   "metadata": {
    "papermill": {
     "duration": 0.008926,
     "end_time": "2023-01-07T17:21:53.458300",
     "exception": false,
     "start_time": "2023-01-07T17:21:53.449374",
     "status": "completed"
    },
    "tags": []
   },
   "source": [
    "`Test file`  "
   ]
  },
  {
   "cell_type": "code",
   "execution_count": 13,
   "id": "918b727f",
   "metadata": {
    "execution": {
     "iopub.execute_input": "2023-01-07T17:21:53.479569Z",
     "iopub.status.busy": "2023-01-07T17:21:53.478820Z",
     "iopub.status.idle": "2023-01-07T17:21:53.546731Z",
     "shell.execute_reply": "2023-01-07T17:21:53.545634Z"
    },
    "papermill": {
     "duration": 0.081484,
     "end_time": "2023-01-07T17:21:53.549284",
     "exception": false,
     "start_time": "2023-01-07T17:21:53.467800",
     "status": "completed"
    },
    "tags": []
   },
   "outputs": [
    {
     "data": {
      "text/html": [
       "<div>\n",
       "<style scoped>\n",
       "    .dataframe tbody tr th:only-of-type {\n",
       "        vertical-align: middle;\n",
       "    }\n",
       "\n",
       "    .dataframe tbody tr th {\n",
       "        vertical-align: top;\n",
       "    }\n",
       "\n",
       "    .dataframe thead th {\n",
       "        text-align: right;\n",
       "    }\n",
       "</style>\n",
       "<table border=\"1\" class=\"dataframe\">\n",
       "  <thead>\n",
       "    <tr style=\"text-align: right;\">\n",
       "      <th></th>\n",
       "      <th>HomePage</th>\n",
       "      <th>HomePage_Duration</th>\n",
       "      <th>LandingPage</th>\n",
       "      <th>LandingPage_Duration</th>\n",
       "      <th>ProductDescriptionPage</th>\n",
       "      <th>ProductDescriptionPage_Duration</th>\n",
       "      <th>GoogleMetric:Bounce Rates</th>\n",
       "      <th>GoogleMetric:Exit Rates</th>\n",
       "      <th>GoogleMetric:Page Values</th>\n",
       "      <th>SeasonalPurchase</th>\n",
       "      <th>...</th>\n",
       "      <th>OS</th>\n",
       "      <th>SearchEngine</th>\n",
       "      <th>Zone</th>\n",
       "      <th>Type of Traffic</th>\n",
       "      <th>CustomerType</th>\n",
       "      <th>Gender</th>\n",
       "      <th>Cookies Setting</th>\n",
       "      <th>Education</th>\n",
       "      <th>Marital Status</th>\n",
       "      <th>WeekendPurchase</th>\n",
       "    </tr>\n",
       "  </thead>\n",
       "  <tbody>\n",
       "    <tr>\n",
       "      <th>0</th>\n",
       "      <td>0.0</td>\n",
       "      <td>0.0</td>\n",
       "      <td>0.0</td>\n",
       "      <td>0.0</td>\n",
       "      <td>1.0</td>\n",
       "      <td>0.000000</td>\n",
       "      <td>0.200000</td>\n",
       "      <td>0.200000</td>\n",
       "      <td>0.0</td>\n",
       "      <td>0.0</td>\n",
       "      <td>...</td>\n",
       "      <td>1.0</td>\n",
       "      <td>1.0</td>\n",
       "      <td>1.0</td>\n",
       "      <td>1.0</td>\n",
       "      <td>Returning_Visitor</td>\n",
       "      <td>Not Specified</td>\n",
       "      <td>Deny</td>\n",
       "      <td>Not Specified</td>\n",
       "      <td>Single</td>\n",
       "      <td>0.0</td>\n",
       "    </tr>\n",
       "    <tr>\n",
       "      <th>1</th>\n",
       "      <td>0.0</td>\n",
       "      <td>0.0</td>\n",
       "      <td>0.0</td>\n",
       "      <td>0.0</td>\n",
       "      <td>2.0</td>\n",
       "      <td>64.000000</td>\n",
       "      <td>0.000000</td>\n",
       "      <td>0.100000</td>\n",
       "      <td>0.0</td>\n",
       "      <td>0.0</td>\n",
       "      <td>...</td>\n",
       "      <td>2.0</td>\n",
       "      <td>2.0</td>\n",
       "      <td>1.0</td>\n",
       "      <td>2.0</td>\n",
       "      <td>Returning_Visitor</td>\n",
       "      <td>Not Specified</td>\n",
       "      <td>ALL</td>\n",
       "      <td>Graduate</td>\n",
       "      <td>Married</td>\n",
       "      <td>0.0</td>\n",
       "    </tr>\n",
       "    <tr>\n",
       "      <th>2</th>\n",
       "      <td>0.0</td>\n",
       "      <td>0.0</td>\n",
       "      <td>0.0</td>\n",
       "      <td>0.0</td>\n",
       "      <td>19.0</td>\n",
       "      <td>154.216667</td>\n",
       "      <td>0.015789</td>\n",
       "      <td>0.024561</td>\n",
       "      <td>0.0</td>\n",
       "      <td>0.0</td>\n",
       "      <td>...</td>\n",
       "      <td>2.0</td>\n",
       "      <td>2.0</td>\n",
       "      <td>1.0</td>\n",
       "      <td>3.0</td>\n",
       "      <td>Returning_Visitor</td>\n",
       "      <td>Female</td>\n",
       "      <td>Required</td>\n",
       "      <td>Diploma</td>\n",
       "      <td>Other</td>\n",
       "      <td>0.0</td>\n",
       "    </tr>\n",
       "    <tr>\n",
       "      <th>3</th>\n",
       "      <td>0.0</td>\n",
       "      <td>0.0</td>\n",
       "      <td>0.0</td>\n",
       "      <td>0.0</td>\n",
       "      <td>2.0</td>\n",
       "      <td>37.000000</td>\n",
       "      <td>0.000000</td>\n",
       "      <td>0.100000</td>\n",
       "      <td>0.0</td>\n",
       "      <td>0.8</td>\n",
       "      <td>...</td>\n",
       "      <td>2.0</td>\n",
       "      <td>2.0</td>\n",
       "      <td>2.0</td>\n",
       "      <td>3.0</td>\n",
       "      <td>Returning_Visitor</td>\n",
       "      <td>Not Specified</td>\n",
       "      <td>Required</td>\n",
       "      <td>Graduate</td>\n",
       "      <td>Other</td>\n",
       "      <td>0.0</td>\n",
       "    </tr>\n",
       "    <tr>\n",
       "      <th>4</th>\n",
       "      <td>0.0</td>\n",
       "      <td>0.0</td>\n",
       "      <td>0.0</td>\n",
       "      <td>0.0</td>\n",
       "      <td>16.0</td>\n",
       "      <td>407.750000</td>\n",
       "      <td>0.018750</td>\n",
       "      <td>0.025833</td>\n",
       "      <td>0.0</td>\n",
       "      <td>0.4</td>\n",
       "      <td>...</td>\n",
       "      <td>1.0</td>\n",
       "      <td>1.0</td>\n",
       "      <td>4.0</td>\n",
       "      <td>3.0</td>\n",
       "      <td>Returning_Visitor</td>\n",
       "      <td>Female</td>\n",
       "      <td>Deny</td>\n",
       "      <td>Others</td>\n",
       "      <td>Other</td>\n",
       "      <td>0.0</td>\n",
       "    </tr>\n",
       "  </tbody>\n",
       "</table>\n",
       "<p>5 rows × 21 columns</p>\n",
       "</div>"
      ],
      "text/plain": [
       "   HomePage  HomePage_Duration  LandingPage  LandingPage_Duration  \\\n",
       "0       0.0                0.0          0.0                   0.0   \n",
       "1       0.0                0.0          0.0                   0.0   \n",
       "2       0.0                0.0          0.0                   0.0   \n",
       "3       0.0                0.0          0.0                   0.0   \n",
       "4       0.0                0.0          0.0                   0.0   \n",
       "\n",
       "   ProductDescriptionPage  ProductDescriptionPage_Duration  \\\n",
       "0                     1.0                         0.000000   \n",
       "1                     2.0                        64.000000   \n",
       "2                    19.0                       154.216667   \n",
       "3                     2.0                        37.000000   \n",
       "4                    16.0                       407.750000   \n",
       "\n",
       "   GoogleMetric:Bounce Rates  GoogleMetric:Exit Rates  \\\n",
       "0                   0.200000                 0.200000   \n",
       "1                   0.000000                 0.100000   \n",
       "2                   0.015789                 0.024561   \n",
       "3                   0.000000                 0.100000   \n",
       "4                   0.018750                 0.025833   \n",
       "\n",
       "   GoogleMetric:Page Values  SeasonalPurchase  ...   OS  SearchEngine  Zone  \\\n",
       "0                       0.0               0.0  ...  1.0           1.0   1.0   \n",
       "1                       0.0               0.0  ...  2.0           2.0   1.0   \n",
       "2                       0.0               0.0  ...  2.0           2.0   1.0   \n",
       "3                       0.0               0.8  ...  2.0           2.0   2.0   \n",
       "4                       0.0               0.4  ...  1.0           1.0   4.0   \n",
       "\n",
       "   Type of Traffic       CustomerType         Gender Cookies Setting  \\\n",
       "0              1.0  Returning_Visitor  Not Specified            Deny   \n",
       "1              2.0  Returning_Visitor  Not Specified             ALL   \n",
       "2              3.0  Returning_Visitor         Female        Required   \n",
       "3              3.0  Returning_Visitor  Not Specified        Required   \n",
       "4              3.0  Returning_Visitor         Female            Deny   \n",
       "\n",
       "       Education Marital Status WeekendPurchase  \n",
       "0  Not Specified         Single             0.0  \n",
       "1       Graduate        Married             0.0  \n",
       "2        Diploma          Other             0.0  \n",
       "3       Graduate          Other             0.0  \n",
       "4         Others          Other             0.0  \n",
       "\n",
       "[5 rows x 21 columns]"
      ]
     },
     "execution_count": 13,
     "metadata": {},
     "output_type": "execute_result"
    }
   ],
   "source": [
    "test_df = pd.read_csv(\"/kaggle/input/e-commerce-shoppers-behaviour-understanding/test_data_v2.csv\")\n",
    "test_df.head()"
   ]
  },
  {
   "cell_type": "code",
   "execution_count": 14,
   "id": "47842750",
   "metadata": {
    "execution": {
     "iopub.execute_input": "2023-01-07T17:21:53.570680Z",
     "iopub.status.busy": "2023-01-07T17:21:53.570270Z",
     "iopub.status.idle": "2023-01-07T17:21:53.576889Z",
     "shell.execute_reply": "2023-01-07T17:21:53.575729Z"
    },
    "papermill": {
     "duration": 0.02004,
     "end_time": "2023-01-07T17:21:53.579192",
     "exception": false,
     "start_time": "2023-01-07T17:21:53.559152",
     "status": "completed"
    },
    "tags": []
   },
   "outputs": [
    {
     "data": {
      "text/plain": [
       "(6599, 21)"
      ]
     },
     "execution_count": 14,
     "metadata": {},
     "output_type": "execute_result"
    }
   ],
   "source": [
    "test_df.shape"
   ]
  },
  {
   "cell_type": "code",
   "execution_count": 15,
   "id": "0c595037",
   "metadata": {
    "execution": {
     "iopub.execute_input": "2023-01-07T17:21:53.600868Z",
     "iopub.status.busy": "2023-01-07T17:21:53.600179Z",
     "iopub.status.idle": "2023-01-07T17:21:53.607358Z",
     "shell.execute_reply": "2023-01-07T17:21:53.606256Z"
    },
    "papermill": {
     "duration": 0.020539,
     "end_time": "2023-01-07T17:21:53.609479",
     "exception": false,
     "start_time": "2023-01-07T17:21:53.588940",
     "status": "completed"
    },
    "tags": []
   },
   "outputs": [
    {
     "data": {
      "text/plain": [
       "Index(['HomePage', 'HomePage_Duration', 'LandingPage', 'LandingPage_Duration',\n",
       "       'ProductDescriptionPage', 'ProductDescriptionPage_Duration',\n",
       "       'GoogleMetric:Bounce Rates', 'GoogleMetric:Exit Rates',\n",
       "       'GoogleMetric:Page Values', 'SeasonalPurchase',\n",
       "       'Month_SeasonalPurchase', 'OS', 'SearchEngine', 'Zone',\n",
       "       'Type of Traffic', 'CustomerType', 'Gender', 'Cookies Setting',\n",
       "       'Education', 'Marital Status', 'WeekendPurchase'],\n",
       "      dtype='object')"
      ]
     },
     "execution_count": 15,
     "metadata": {},
     "output_type": "execute_result"
    }
   ],
   "source": [
    "test_df.columns"
   ]
  },
  {
   "cell_type": "code",
   "execution_count": 16,
   "id": "97424e06",
   "metadata": {
    "execution": {
     "iopub.execute_input": "2023-01-07T17:21:53.631739Z",
     "iopub.status.busy": "2023-01-07T17:21:53.631046Z",
     "iopub.status.idle": "2023-01-07T17:21:53.637751Z",
     "shell.execute_reply": "2023-01-07T17:21:53.636886Z"
    },
    "papermill": {
     "duration": 0.020438,
     "end_time": "2023-01-07T17:21:53.639924",
     "exception": false,
     "start_time": "2023-01-07T17:21:53.619486",
     "status": "completed"
    },
    "tags": []
   },
   "outputs": [
    {
     "data": {
      "text/plain": [
       "(6599, 21)"
      ]
     },
     "execution_count": 16,
     "metadata": {},
     "output_type": "execute_result"
    }
   ],
   "source": [
    "X_test = test_df\n",
    "X_test.shape"
   ]
  },
  {
   "cell_type": "code",
   "execution_count": 17,
   "id": "0f53410d",
   "metadata": {
    "execution": {
     "iopub.execute_input": "2023-01-07T17:21:53.661951Z",
     "iopub.status.busy": "2023-01-07T17:21:53.661267Z",
     "iopub.status.idle": "2023-01-07T17:21:53.668448Z",
     "shell.execute_reply": "2023-01-07T17:21:53.667564Z"
    },
    "papermill": {
     "duration": 0.020848,
     "end_time": "2023-01-07T17:21:53.670648",
     "exception": false,
     "start_time": "2023-01-07T17:21:53.649800",
     "status": "completed"
    },
    "tags": []
   },
   "outputs": [
    {
     "data": {
      "text/plain": [
       "array([False, False, False, ..., False, False, False])"
      ]
     },
     "execution_count": 17,
     "metadata": {},
     "output_type": "execute_result"
    }
   ],
   "source": [
    "y_test = dummy_clf.predict(X_test)\n",
    "y_test"
   ]
  },
  {
   "cell_type": "code",
   "execution_count": 18,
   "id": "88b0b878",
   "metadata": {
    "execution": {
     "iopub.execute_input": "2023-01-07T17:21:53.693053Z",
     "iopub.status.busy": "2023-01-07T17:21:53.692622Z",
     "iopub.status.idle": "2023-01-07T17:21:53.699057Z",
     "shell.execute_reply": "2023-01-07T17:21:53.697940Z"
    },
    "papermill": {
     "duration": 0.020439,
     "end_time": "2023-01-07T17:21:53.701267",
     "exception": false,
     "start_time": "2023-01-07T17:21:53.680828",
     "status": "completed"
    },
    "tags": []
   },
   "outputs": [
    {
     "data": {
      "text/plain": [
       "(6599,)"
      ]
     },
     "execution_count": 18,
     "metadata": {},
     "output_type": "execute_result"
    }
   ],
   "source": [
    "y_test.shape"
   ]
  },
  {
   "cell_type": "code",
   "execution_count": 19,
   "id": "cdccddb3",
   "metadata": {
    "execution": {
     "iopub.execute_input": "2023-01-07T17:21:53.724018Z",
     "iopub.status.busy": "2023-01-07T17:21:53.723617Z",
     "iopub.status.idle": "2023-01-07T17:21:53.735110Z",
     "shell.execute_reply": "2023-01-07T17:21:53.734073Z"
    },
    "papermill": {
     "duration": 0.025865,
     "end_time": "2023-01-07T17:21:53.737433",
     "exception": false,
     "start_time": "2023-01-07T17:21:53.711568",
     "status": "completed"
    },
    "tags": []
   },
   "outputs": [
    {
     "data": {
      "text/html": [
       "<div>\n",
       "<style scoped>\n",
       "    .dataframe tbody tr th:only-of-type {\n",
       "        vertical-align: middle;\n",
       "    }\n",
       "\n",
       "    .dataframe tbody tr th {\n",
       "        vertical-align: top;\n",
       "    }\n",
       "\n",
       "    .dataframe thead th {\n",
       "        text-align: right;\n",
       "    }\n",
       "</style>\n",
       "<table border=\"1\" class=\"dataframe\">\n",
       "  <thead>\n",
       "    <tr style=\"text-align: right;\">\n",
       "      <th></th>\n",
       "      <th>Made_Purchase</th>\n",
       "    </tr>\n",
       "    <tr>\n",
       "      <th>id</th>\n",
       "      <th></th>\n",
       "    </tr>\n",
       "  </thead>\n",
       "  <tbody>\n",
       "    <tr>\n",
       "      <th>0</th>\n",
       "      <td>False</td>\n",
       "    </tr>\n",
       "    <tr>\n",
       "      <th>1</th>\n",
       "      <td>False</td>\n",
       "    </tr>\n",
       "    <tr>\n",
       "      <th>2</th>\n",
       "      <td>False</td>\n",
       "    </tr>\n",
       "    <tr>\n",
       "      <th>3</th>\n",
       "      <td>False</td>\n",
       "    </tr>\n",
       "    <tr>\n",
       "      <th>4</th>\n",
       "      <td>False</td>\n",
       "    </tr>\n",
       "    <tr>\n",
       "      <th>...</th>\n",
       "      <td>...</td>\n",
       "    </tr>\n",
       "    <tr>\n",
       "      <th>6594</th>\n",
       "      <td>False</td>\n",
       "    </tr>\n",
       "    <tr>\n",
       "      <th>6595</th>\n",
       "      <td>False</td>\n",
       "    </tr>\n",
       "    <tr>\n",
       "      <th>6596</th>\n",
       "      <td>False</td>\n",
       "    </tr>\n",
       "    <tr>\n",
       "      <th>6597</th>\n",
       "      <td>False</td>\n",
       "    </tr>\n",
       "    <tr>\n",
       "      <th>6598</th>\n",
       "      <td>False</td>\n",
       "    </tr>\n",
       "  </tbody>\n",
       "</table>\n",
       "<p>6599 rows × 1 columns</p>\n",
       "</div>"
      ],
      "text/plain": [
       "      Made_Purchase\n",
       "id                 \n",
       "0             False\n",
       "1             False\n",
       "2             False\n",
       "3             False\n",
       "4             False\n",
       "...             ...\n",
       "6594          False\n",
       "6595          False\n",
       "6596          False\n",
       "6597          False\n",
       "6598          False\n",
       "\n",
       "[6599 rows x 1 columns]"
      ]
     },
     "execution_count": 19,
     "metadata": {},
     "output_type": "execute_result"
    }
   ],
   "source": [
    "submission = pd.DataFrame(y_test, columns=[\"Made_Purchase\"])\n",
    "submission.index.names = [\"id\"]\n",
    "submission"
   ]
  },
  {
   "cell_type": "code",
   "execution_count": 20,
   "id": "727bd695",
   "metadata": {
    "execution": {
     "iopub.execute_input": "2023-01-07T17:21:53.763175Z",
     "iopub.status.busy": "2023-01-07T17:21:53.762782Z",
     "iopub.status.idle": "2023-01-07T17:21:53.777958Z",
     "shell.execute_reply": "2023-01-07T17:21:53.776858Z"
    },
    "papermill": {
     "duration": 0.029272,
     "end_time": "2023-01-07T17:21:53.780306",
     "exception": false,
     "start_time": "2023-01-07T17:21:53.751034",
     "status": "completed"
    },
    "tags": []
   },
   "outputs": [],
   "source": [
    "submission.to_csv(\"/kaggle/working/submission.csv\")"
   ]
  },
  {
   "cell_type": "markdown",
   "id": "72c57463",
   "metadata": {
    "papermill": {
     "duration": 0.010293,
     "end_time": "2023-01-07T17:21:53.801303",
     "exception": false,
     "start_time": "2023-01-07T17:21:53.791010",
     "status": "completed"
    },
    "tags": []
   },
   "source": [
    "`Dummy classifier 2`  "
   ]
  },
  {
   "cell_type": "code",
   "execution_count": 21,
   "id": "f30fd109",
   "metadata": {
    "execution": {
     "iopub.execute_input": "2023-01-07T17:21:53.824763Z",
     "iopub.status.busy": "2023-01-07T17:21:53.823646Z",
     "iopub.status.idle": "2023-01-07T17:21:53.830531Z",
     "shell.execute_reply": "2023-01-07T17:21:53.829786Z"
    },
    "papermill": {
     "duration": 0.020669,
     "end_time": "2023-01-07T17:21:53.832538",
     "exception": false,
     "start_time": "2023-01-07T17:21:53.811869",
     "status": "completed"
    },
    "tags": []
   },
   "outputs": [
    {
     "data": {
      "text/plain": [
       "DummyClassifier(constant=True, strategy='constant')"
      ]
     },
     "execution_count": 21,
     "metadata": {},
     "output_type": "execute_result"
    }
   ],
   "source": [
    "dummy_clf_2 = DummyClassifier(strategy=\"constant\", constant=True)\n",
    "dummy_clf_2"
   ]
  },
  {
   "cell_type": "code",
   "execution_count": 22,
   "id": "42c49afe",
   "metadata": {
    "execution": {
     "iopub.execute_input": "2023-01-07T17:21:53.856127Z",
     "iopub.status.busy": "2023-01-07T17:21:53.855259Z",
     "iopub.status.idle": "2023-01-07T17:21:53.862528Z",
     "shell.execute_reply": "2023-01-07T17:21:53.861675Z"
    },
    "papermill": {
     "duration": 0.021185,
     "end_time": "2023-01-07T17:21:53.864527",
     "exception": false,
     "start_time": "2023-01-07T17:21:53.843342",
     "status": "completed"
    },
    "tags": []
   },
   "outputs": [
    {
     "data": {
      "text/plain": [
       "DummyClassifier(constant=True, strategy='constant')"
      ]
     },
     "execution_count": 22,
     "metadata": {},
     "output_type": "execute_result"
    }
   ],
   "source": [
    "dummy_clf_2.fit(X, y)"
   ]
  },
  {
   "cell_type": "code",
   "execution_count": 23,
   "id": "1509292b",
   "metadata": {
    "execution": {
     "iopub.execute_input": "2023-01-07T17:21:53.888125Z",
     "iopub.status.busy": "2023-01-07T17:21:53.887705Z",
     "iopub.status.idle": "2023-01-07T17:21:53.894716Z",
     "shell.execute_reply": "2023-01-07T17:21:53.893465Z"
    },
    "papermill": {
     "duration": 0.021871,
     "end_time": "2023-01-07T17:21:53.897080",
     "exception": false,
     "start_time": "2023-01-07T17:21:53.875209",
     "status": "completed"
    },
    "tags": []
   },
   "outputs": [
    {
     "data": {
      "text/plain": [
       "array([ True,  True,  True, ...,  True,  True,  True])"
      ]
     },
     "execution_count": 23,
     "metadata": {},
     "output_type": "execute_result"
    }
   ],
   "source": [
    "y_test_2 = dummy_clf_2.predict(X_test)\n",
    "y_test_2"
   ]
  },
  {
   "cell_type": "code",
   "execution_count": 24,
   "id": "61c8e132",
   "metadata": {
    "execution": {
     "iopub.execute_input": "2023-01-07T17:21:53.920971Z",
     "iopub.status.busy": "2023-01-07T17:21:53.920012Z",
     "iopub.status.idle": "2023-01-07T17:21:53.932649Z",
     "shell.execute_reply": "2023-01-07T17:21:53.931494Z"
    },
    "papermill": {
     "duration": 0.027108,
     "end_time": "2023-01-07T17:21:53.935042",
     "exception": false,
     "start_time": "2023-01-07T17:21:53.907934",
     "status": "completed"
    },
    "tags": []
   },
   "outputs": [
    {
     "data": {
      "text/html": [
       "<div>\n",
       "<style scoped>\n",
       "    .dataframe tbody tr th:only-of-type {\n",
       "        vertical-align: middle;\n",
       "    }\n",
       "\n",
       "    .dataframe tbody tr th {\n",
       "        vertical-align: top;\n",
       "    }\n",
       "\n",
       "    .dataframe thead th {\n",
       "        text-align: right;\n",
       "    }\n",
       "</style>\n",
       "<table border=\"1\" class=\"dataframe\">\n",
       "  <thead>\n",
       "    <tr style=\"text-align: right;\">\n",
       "      <th></th>\n",
       "      <th>Made_Purchase</th>\n",
       "    </tr>\n",
       "    <tr>\n",
       "      <th>id</th>\n",
       "      <th></th>\n",
       "    </tr>\n",
       "  </thead>\n",
       "  <tbody>\n",
       "    <tr>\n",
       "      <th>0</th>\n",
       "      <td>True</td>\n",
       "    </tr>\n",
       "    <tr>\n",
       "      <th>1</th>\n",
       "      <td>True</td>\n",
       "    </tr>\n",
       "    <tr>\n",
       "      <th>2</th>\n",
       "      <td>True</td>\n",
       "    </tr>\n",
       "    <tr>\n",
       "      <th>3</th>\n",
       "      <td>True</td>\n",
       "    </tr>\n",
       "    <tr>\n",
       "      <th>4</th>\n",
       "      <td>True</td>\n",
       "    </tr>\n",
       "    <tr>\n",
       "      <th>...</th>\n",
       "      <td>...</td>\n",
       "    </tr>\n",
       "    <tr>\n",
       "      <th>6594</th>\n",
       "      <td>True</td>\n",
       "    </tr>\n",
       "    <tr>\n",
       "      <th>6595</th>\n",
       "      <td>True</td>\n",
       "    </tr>\n",
       "    <tr>\n",
       "      <th>6596</th>\n",
       "      <td>True</td>\n",
       "    </tr>\n",
       "    <tr>\n",
       "      <th>6597</th>\n",
       "      <td>True</td>\n",
       "    </tr>\n",
       "    <tr>\n",
       "      <th>6598</th>\n",
       "      <td>True</td>\n",
       "    </tr>\n",
       "  </tbody>\n",
       "</table>\n",
       "<p>6599 rows × 1 columns</p>\n",
       "</div>"
      ],
      "text/plain": [
       "      Made_Purchase\n",
       "id                 \n",
       "0              True\n",
       "1              True\n",
       "2              True\n",
       "3              True\n",
       "4              True\n",
       "...             ...\n",
       "6594           True\n",
       "6595           True\n",
       "6596           True\n",
       "6597           True\n",
       "6598           True\n",
       "\n",
       "[6599 rows x 1 columns]"
      ]
     },
     "execution_count": 24,
     "metadata": {},
     "output_type": "execute_result"
    }
   ],
   "source": [
    "submission = pd.DataFrame(y_test_2, columns=[\"Made_Purchase\"])\n",
    "submission.index.names = [\"id\"]\n",
    "submission"
   ]
  },
  {
   "cell_type": "code",
   "execution_count": 25,
   "id": "1a022953",
   "metadata": {
    "execution": {
     "iopub.execute_input": "2023-01-07T17:21:53.958486Z",
     "iopub.status.busy": "2023-01-07T17:21:53.958057Z",
     "iopub.status.idle": "2023-01-07T17:21:53.972675Z",
     "shell.execute_reply": "2023-01-07T17:21:53.971749Z"
    },
    "papermill": {
     "duration": 0.029121,
     "end_time": "2023-01-07T17:21:53.975100",
     "exception": false,
     "start_time": "2023-01-07T17:21:53.945979",
     "status": "completed"
    },
    "tags": []
   },
   "outputs": [],
   "source": [
    "submission.to_csv(\"/kaggle/working/submission.csv\")"
   ]
  },
  {
   "cell_type": "markdown",
   "id": "a624b888",
   "metadata": {
    "papermill": {
     "duration": 0.010756,
     "end_time": "2023-01-07T17:21:53.996844",
     "exception": false,
     "start_time": "2023-01-07T17:21:53.986088",
     "status": "completed"
    },
    "tags": []
   },
   "source": [
    "`Random prediction`  "
   ]
  },
  {
   "cell_type": "code",
   "execution_count": 26,
   "id": "ba2237f7",
   "metadata": {
    "execution": {
     "iopub.execute_input": "2023-01-07T17:21:54.022053Z",
     "iopub.status.busy": "2023-01-07T17:21:54.021632Z",
     "iopub.status.idle": "2023-01-07T17:21:54.037022Z",
     "shell.execute_reply": "2023-01-07T17:21:54.035475Z"
    },
    "papermill": {
     "duration": 0.032363,
     "end_time": "2023-01-07T17:21:54.040183",
     "exception": false,
     "start_time": "2023-01-07T17:21:54.007820",
     "status": "completed"
    },
    "tags": []
   },
   "outputs": [
    {
     "data": {
      "text/plain": [
       "False    9065\n",
       "True     5666\n",
       "Name: Made_Purchase, dtype: int64"
      ]
     },
     "execution_count": 26,
     "metadata": {},
     "output_type": "execute_result"
    }
   ],
   "source": [
    "y.value_counts()"
   ]
  },
  {
   "cell_type": "code",
   "execution_count": 27,
   "id": "32a38924",
   "metadata": {
    "execution": {
     "iopub.execute_input": "2023-01-07T17:21:54.069131Z",
     "iopub.status.busy": "2023-01-07T17:21:54.068238Z",
     "iopub.status.idle": "2023-01-07T17:21:54.085255Z",
     "shell.execute_reply": "2023-01-07T17:21:54.084497Z"
    },
    "papermill": {
     "duration": 0.035125,
     "end_time": "2023-01-07T17:21:54.087324",
     "exception": false,
     "start_time": "2023-01-07T17:21:54.052199",
     "status": "completed"
    },
    "tags": []
   },
   "outputs": [
    {
     "data": {
      "text/plain": [
       "array([False,  True,  True, ..., False,  True,  True])"
      ]
     },
     "execution_count": 27,
     "metadata": {},
     "output_type": "execute_result"
    }
   ],
   "source": [
    "import random\n",
    "y_random_array= np.array([random.choice([True, False]) for i in range(6599)])\n",
    "y_random_array"
   ]
  },
  {
   "cell_type": "code",
   "execution_count": 28,
   "id": "b3ad93c8",
   "metadata": {
    "execution": {
     "iopub.execute_input": "2023-01-07T17:21:54.112364Z",
     "iopub.status.busy": "2023-01-07T17:21:54.111297Z",
     "iopub.status.idle": "2023-01-07T17:21:54.122738Z",
     "shell.execute_reply": "2023-01-07T17:21:54.122024Z"
    },
    "papermill": {
     "duration": 0.026134,
     "end_time": "2023-01-07T17:21:54.124905",
     "exception": false,
     "start_time": "2023-01-07T17:21:54.098771",
     "status": "completed"
    },
    "tags": []
   },
   "outputs": [
    {
     "data": {
      "text/html": [
       "<div>\n",
       "<style scoped>\n",
       "    .dataframe tbody tr th:only-of-type {\n",
       "        vertical-align: middle;\n",
       "    }\n",
       "\n",
       "    .dataframe tbody tr th {\n",
       "        vertical-align: top;\n",
       "    }\n",
       "\n",
       "    .dataframe thead th {\n",
       "        text-align: right;\n",
       "    }\n",
       "</style>\n",
       "<table border=\"1\" class=\"dataframe\">\n",
       "  <thead>\n",
       "    <tr style=\"text-align: right;\">\n",
       "      <th></th>\n",
       "      <th>Made_Purchase</th>\n",
       "    </tr>\n",
       "    <tr>\n",
       "      <th>id</th>\n",
       "      <th></th>\n",
       "    </tr>\n",
       "  </thead>\n",
       "  <tbody>\n",
       "    <tr>\n",
       "      <th>0</th>\n",
       "      <td>False</td>\n",
       "    </tr>\n",
       "    <tr>\n",
       "      <th>1</th>\n",
       "      <td>True</td>\n",
       "    </tr>\n",
       "    <tr>\n",
       "      <th>2</th>\n",
       "      <td>True</td>\n",
       "    </tr>\n",
       "    <tr>\n",
       "      <th>3</th>\n",
       "      <td>False</td>\n",
       "    </tr>\n",
       "    <tr>\n",
       "      <th>4</th>\n",
       "      <td>True</td>\n",
       "    </tr>\n",
       "    <tr>\n",
       "      <th>...</th>\n",
       "      <td>...</td>\n",
       "    </tr>\n",
       "    <tr>\n",
       "      <th>6594</th>\n",
       "      <td>False</td>\n",
       "    </tr>\n",
       "    <tr>\n",
       "      <th>6595</th>\n",
       "      <td>True</td>\n",
       "    </tr>\n",
       "    <tr>\n",
       "      <th>6596</th>\n",
       "      <td>False</td>\n",
       "    </tr>\n",
       "    <tr>\n",
       "      <th>6597</th>\n",
       "      <td>True</td>\n",
       "    </tr>\n",
       "    <tr>\n",
       "      <th>6598</th>\n",
       "      <td>True</td>\n",
       "    </tr>\n",
       "  </tbody>\n",
       "</table>\n",
       "<p>6599 rows × 1 columns</p>\n",
       "</div>"
      ],
      "text/plain": [
       "      Made_Purchase\n",
       "id                 \n",
       "0             False\n",
       "1              True\n",
       "2              True\n",
       "3             False\n",
       "4              True\n",
       "...             ...\n",
       "6594          False\n",
       "6595           True\n",
       "6596          False\n",
       "6597           True\n",
       "6598           True\n",
       "\n",
       "[6599 rows x 1 columns]"
      ]
     },
     "execution_count": 28,
     "metadata": {},
     "output_type": "execute_result"
    }
   ],
   "source": [
    "submission = pd.DataFrame(y_random_array, columns=[\"Made_Purchase\"])\n",
    "submission.index.names = [\"id\"]\n",
    "submission"
   ]
  },
  {
   "cell_type": "code",
   "execution_count": 29,
   "id": "15fd5a4f",
   "metadata": {
    "execution": {
     "iopub.execute_input": "2023-01-07T17:21:54.149402Z",
     "iopub.status.busy": "2023-01-07T17:21:54.148993Z",
     "iopub.status.idle": "2023-01-07T17:21:54.161899Z",
     "shell.execute_reply": "2023-01-07T17:21:54.161031Z"
    },
    "papermill": {
     "duration": 0.027678,
     "end_time": "2023-01-07T17:21:54.163958",
     "exception": false,
     "start_time": "2023-01-07T17:21:54.136280",
     "status": "completed"
    },
    "tags": []
   },
   "outputs": [
    {
     "data": {
      "text/plain": [
       "Made_Purchase\n",
       "False            3383\n",
       "True             3216\n",
       "dtype: int64"
      ]
     },
     "execution_count": 29,
     "metadata": {},
     "output_type": "execute_result"
    }
   ],
   "source": [
    "submission.value_counts()"
   ]
  },
  {
   "cell_type": "code",
   "execution_count": 30,
   "id": "319c274f",
   "metadata": {
    "execution": {
     "iopub.execute_input": "2023-01-07T17:21:54.188376Z",
     "iopub.status.busy": "2023-01-07T17:21:54.187985Z",
     "iopub.status.idle": "2023-01-07T17:21:54.201215Z",
     "shell.execute_reply": "2023-01-07T17:21:54.200371Z"
    },
    "papermill": {
     "duration": 0.027997,
     "end_time": "2023-01-07T17:21:54.203383",
     "exception": false,
     "start_time": "2023-01-07T17:21:54.175386",
     "status": "completed"
    },
    "tags": []
   },
   "outputs": [],
   "source": [
    "submission.to_csv(\"/kaggle/working/submission.csv\")"
   ]
  }
 ],
 "metadata": {
  "kernelspec": {
   "display_name": "Python 3",
   "language": "python",
   "name": "python3"
  },
  "language_info": {
   "codemirror_mode": {
    "name": "ipython",
    "version": 3
   },
   "file_extension": ".py",
   "mimetype": "text/x-python",
   "name": "python",
   "nbconvert_exporter": "python",
   "pygments_lexer": "ipython3",
   "version": "3.7.12"
  },
  "papermill": {
   "default_parameters": {},
   "duration": 11.13228,
   "end_time": "2023-01-07T17:21:54.936199",
   "environment_variables": {},
   "exception": null,
   "input_path": "__notebook__.ipynb",
   "output_path": "__notebook__.ipynb",
   "parameters": {},
   "start_time": "2023-01-07T17:21:43.803919",
   "version": "2.3.4"
  }
 },
 "nbformat": 4,
 "nbformat_minor": 5
}
