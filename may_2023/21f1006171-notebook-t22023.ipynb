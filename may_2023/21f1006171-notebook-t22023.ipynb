{
 "cells": [
  {
   "cell_type": "code",
   "execution_count": 1,
   "id": "0562387a",
   "metadata": {
    "_cell_guid": "b1076dfc-b9ad-4769-8c92-a6c4dae69d19",
    "_uuid": "8f2839f25d086af736a60e9eeb907d3b93b6e0e5",
    "execution": {
     "iopub.execute_input": "2023-05-28T16:45:37.528137Z",
     "iopub.status.busy": "2023-05-28T16:45:37.527720Z",
     "iopub.status.idle": "2023-05-28T16:45:37.544528Z",
     "shell.execute_reply": "2023-05-28T16:45:37.543465Z"
    },
    "papermill": {
     "duration": 0.027463,
     "end_time": "2023-05-28T16:45:37.547377",
     "exception": false,
     "start_time": "2023-05-28T16:45:37.519914",
     "status": "completed"
    },
    "tags": []
   },
   "outputs": [
    {
     "name": "stdout",
     "output_type": "stream",
     "text": [
      "/kaggle/input/sentiment-prediction-on-movie-reviews/movies.csv\n",
      "/kaggle/input/sentiment-prediction-on-movie-reviews/sample.csv\n",
      "/kaggle/input/sentiment-prediction-on-movie-reviews/train.csv\n",
      "/kaggle/input/sentiment-prediction-on-movie-reviews/test.csv\n"
     ]
    }
   ],
   "source": [
    "# This Python 3 environment comes with many helpful analytics libraries installed\n",
    "# It is defined by the kaggle/python Docker image: https://github.com/kaggle/docker-python\n",
    "# For example, here's several helpful packages to load\n",
    "\n",
    "import numpy as np # linear algebra\n",
    "import pandas as pd # data processing, CSV file I/O (e.g. pd.read_csv)\n",
    "\n",
    "# Input data files are available in the read-only \"../input/\" directory\n",
    "# For example, running this (by clicking run or pressing Shift+Enter) will list all files under the input directory\n",
    "\n",
    "import os\n",
    "for dirname, _, filenames in os.walk('/kaggle/input'):\n",
    "    for filename in filenames:\n",
    "        print(os.path.join(dirname, filename))\n",
    "\n",
    "# You can write up to 20GB to the current directory (/kaggle/working/) that gets preserved as output when you create a version using \"Save & Run All\" \n",
    "# You can also write temporary files to /kaggle/temp/, but they won't be saved outside of the current session"
   ]
  },
  {
   "attachments": {},
   "cell_type": "markdown",
   "id": "82fefcc7",
   "metadata": {
    "papermill": {
     "duration": 0.005457,
     "end_time": "2023-05-28T16:45:37.558911",
     "exception": false,
     "start_time": "2023-05-28T16:45:37.553454",
     "status": "completed"
    },
    "tags": []
   },
   "source": [
    "# Load data  "
   ]
  },
  {
   "cell_type": "code",
   "execution_count": 2,
   "id": "c8ef1dd6",
   "metadata": {
    "execution": {
     "iopub.execute_input": "2023-05-28T16:45:37.572888Z",
     "iopub.status.busy": "2023-05-28T16:45:37.571702Z",
     "iopub.status.idle": "2023-05-28T16:45:38.511258Z",
     "shell.execute_reply": "2023-05-28T16:45:38.510201Z"
    },
    "papermill": {
     "duration": 0.948912,
     "end_time": "2023-05-28T16:45:38.513644",
     "exception": false,
     "start_time": "2023-05-28T16:45:37.564732",
     "status": "completed"
    },
    "tags": []
   },
   "outputs": [
    {
     "data": {
      "text/plain": [
       "((162758, 5),\n",
       "                                              movieid         reviewerName  \\\n",
       " 0                                   marvelous_pirate       Benjamin Henry   \n",
       " 1          tony_montana_frodo_baggins_v_rocky_balboa        Felicia Lopez   \n",
       " 2  darth_vader_katniss_everdeen_sorcerer_donnie_d...  Mr. Charles Burgess   \n",
       " 3                                 lara_croft_glimmer         Ryan Barrett   \n",
       " 4  jason_bourne_surreal_the_terminator_indiana_jones     Alexander Glover   \n",
       " \n",
       "    isFrequentReviewer                                         reviewText  \\\n",
       " 0               False  Henry Selick’s first movie since 2009’s Corali...   \n",
       " 1               False  With a cast that reads like the Vogue Oscar pa...   \n",
       " 2                True  Creed II does not give us anything but another...   \n",
       " 3               False  I know what you're thinking, but this is no Li...   \n",
       " 4               False  Director Fernando Meirelles tells the story wi...   \n",
       " \n",
       "   sentiment  \n",
       " 0  POSITIVE  \n",
       " 1  NEGATIVE  \n",
       " 2  POSITIVE  \n",
       " 3  POSITIVE  \n",
       " 4  POSITIVE  )"
      ]
     },
     "execution_count": 2,
     "metadata": {},
     "output_type": "execute_result"
    }
   ],
   "source": [
    "# Training data\n",
    "\n",
    "train = pd.read_csv(\"/kaggle/input/sentiment-prediction-on-movie-reviews/train.csv\")\n",
    "train.shape, train.head()"
   ]
  },
  {
   "cell_type": "code",
   "execution_count": 3,
   "id": "420567da",
   "metadata": {
    "execution": {
     "iopub.execute_input": "2023-05-28T16:45:38.527733Z",
     "iopub.status.busy": "2023-05-28T16:45:38.527380Z",
     "iopub.status.idle": "2023-05-28T16:45:38.533914Z",
     "shell.execute_reply": "2023-05-28T16:45:38.532888Z"
    },
    "papermill": {
     "duration": 0.016226,
     "end_time": "2023-05-28T16:45:38.536142",
     "exception": false,
     "start_time": "2023-05-28T16:45:38.519916",
     "status": "completed"
    },
    "tags": []
   },
   "outputs": [
    {
     "data": {
      "text/plain": [
       "Index(['movieid', 'reviewerName', 'isFrequentReviewer', 'reviewText',\n",
       "       'sentiment'],\n",
       "      dtype='object')"
      ]
     },
     "execution_count": 3,
     "metadata": {},
     "output_type": "execute_result"
    }
   ],
   "source": [
    "train.columns"
   ]
  },
  {
   "cell_type": "code",
   "execution_count": 4,
   "id": "e74f22a9",
   "metadata": {
    "execution": {
     "iopub.execute_input": "2023-05-28T16:45:38.550084Z",
     "iopub.status.busy": "2023-05-28T16:45:38.549723Z",
     "iopub.status.idle": "2023-05-28T16:45:38.558428Z",
     "shell.execute_reply": "2023-05-28T16:45:38.557305Z"
    },
    "papermill": {
     "duration": 0.018354,
     "end_time": "2023-05-28T16:45:38.560686",
     "exception": false,
     "start_time": "2023-05-28T16:45:38.542332",
     "status": "completed"
    },
    "tags": []
   },
   "outputs": [
    {
     "data": {
      "text/plain": [
       "movieid               object\n",
       "reviewerName          object\n",
       "isFrequentReviewer      bool\n",
       "reviewText            object\n",
       "sentiment             object\n",
       "dtype: object"
      ]
     },
     "execution_count": 4,
     "metadata": {},
     "output_type": "execute_result"
    }
   ],
   "source": [
    "train.dtypes"
   ]
  },
  {
   "cell_type": "code",
   "execution_count": 5,
   "id": "b86d8f45",
   "metadata": {
    "execution": {
     "iopub.execute_input": "2023-05-28T16:45:38.575308Z",
     "iopub.status.busy": "2023-05-28T16:45:38.574917Z",
     "iopub.status.idle": "2023-05-28T16:45:38.895262Z",
     "shell.execute_reply": "2023-05-28T16:45:38.894143Z"
    },
    "papermill": {
     "duration": 0.330688,
     "end_time": "2023-05-28T16:45:38.897720",
     "exception": false,
     "start_time": "2023-05-28T16:45:38.567032",
     "status": "completed"
    },
    "tags": []
   },
   "outputs": [
    {
     "data": {
      "text/plain": [
       "((55315, 4),\n",
       "                                movieid     reviewerName  isTopCritic  \\\n",
       " 0            legend_marty_mcfly_oracle         John Kim        False   \n",
       " 1  terminator_katniss_everdeen_glimmer     Brian Chaney        False   \n",
       " 2          james_bond_labyrinth_gollum  Danielle Parker        False   \n",
       " 3            v_quest_han_solo_wondrous    Brittany Lane        False   \n",
       " 4        enigma_hulk_surreal_starlight    Justin Willis        False   \n",
       " \n",
       "                                           reviewText  \n",
       " 0  Green slowly cranks up the dread with style an...  \n",
       " 1  Philip Noyce's direction is elegant and unforc...  \n",
       " 2  It wouldn't do to say what path Maria ultimate...  \n",
       " 3  Pig is not exactly the arthouse John Wick that...  \n",
       " 4  An imaginative no-budget musical of sorts abou...  )"
      ]
     },
     "execution_count": 5,
     "metadata": {},
     "output_type": "execute_result"
    }
   ],
   "source": [
    "# Test data  \n",
    "\n",
    "test = pd.read_csv(\"/kaggle/input/sentiment-prediction-on-movie-reviews/test.csv\")\n",
    "test.shape, test.head()"
   ]
  },
  {
   "cell_type": "code",
   "execution_count": 6,
   "id": "036e4ec6",
   "metadata": {
    "execution": {
     "iopub.execute_input": "2023-05-28T16:45:38.915766Z",
     "iopub.status.busy": "2023-05-28T16:45:38.913968Z",
     "iopub.status.idle": "2023-05-28T16:45:38.922071Z",
     "shell.execute_reply": "2023-05-28T16:45:38.920937Z"
    },
    "papermill": {
     "duration": 0.018521,
     "end_time": "2023-05-28T16:45:38.924563",
     "exception": false,
     "start_time": "2023-05-28T16:45:38.906042",
     "status": "completed"
    },
    "tags": []
   },
   "outputs": [
    {
     "data": {
      "text/plain": [
       "Index(['movieid', 'reviewerName', 'isTopCritic', 'reviewText'], dtype='object')"
      ]
     },
     "execution_count": 6,
     "metadata": {},
     "output_type": "execute_result"
    }
   ],
   "source": [
    "test.columns"
   ]
  },
  {
   "cell_type": "code",
   "execution_count": 7,
   "id": "385028cd",
   "metadata": {
    "execution": {
     "iopub.execute_input": "2023-05-28T16:45:38.940192Z",
     "iopub.status.busy": "2023-05-28T16:45:38.939064Z",
     "iopub.status.idle": "2023-05-28T16:45:38.947351Z",
     "shell.execute_reply": "2023-05-28T16:45:38.946447Z"
    },
    "papermill": {
     "duration": 0.018394,
     "end_time": "2023-05-28T16:45:38.949554",
     "exception": false,
     "start_time": "2023-05-28T16:45:38.931160",
     "status": "completed"
    },
    "tags": []
   },
   "outputs": [
    {
     "data": {
      "text/plain": [
       "movieid         object\n",
       "reviewerName    object\n",
       "isTopCritic       bool\n",
       "reviewText      object\n",
       "dtype: object"
      ]
     },
     "execution_count": 7,
     "metadata": {},
     "output_type": "execute_result"
    }
   ],
   "source": [
    "test.dtypes"
   ]
  },
  {
   "attachments": {},
   "cell_type": "markdown",
   "id": "f861e262",
   "metadata": {
    "papermill": {
     "duration": 0.006724,
     "end_time": "2023-05-28T16:45:38.963074",
     "exception": false,
     "start_time": "2023-05-28T16:45:38.956350",
     "status": "completed"
    },
    "tags": []
   },
   "source": [
    "# Preparing training data  "
   ]
  },
  {
   "cell_type": "code",
   "execution_count": 8,
   "id": "2240389d",
   "metadata": {
    "execution": {
     "iopub.execute_input": "2023-05-28T16:45:38.978406Z",
     "iopub.status.busy": "2023-05-28T16:45:38.978005Z",
     "iopub.status.idle": "2023-05-28T16:45:38.996687Z",
     "shell.execute_reply": "2023-05-28T16:45:38.995536Z"
    },
    "papermill": {
     "duration": 0.029408,
     "end_time": "2023-05-28T16:45:38.999326",
     "exception": false,
     "start_time": "2023-05-28T16:45:38.969918",
     "status": "completed"
    },
    "tags": []
   },
   "outputs": [
    {
     "data": {
      "text/plain": [
       "((162758, 4), (162758,))"
      ]
     },
     "execution_count": 8,
     "metadata": {},
     "output_type": "execute_result"
    }
   ],
   "source": [
    "X_train = train.iloc[:, :-1]\n",
    "y_train = train.iloc[:, -1]\n",
    "X_train.shape, y_train.shape"
   ]
  },
  {
   "attachments": {},
   "cell_type": "markdown",
   "id": "5de538b5",
   "metadata": {
    "papermill": {
     "duration": 0.006699,
     "end_time": "2023-05-28T16:45:39.013414",
     "exception": false,
     "start_time": "2023-05-28T16:45:39.006715",
     "status": "completed"
    },
    "tags": []
   },
   "source": [
    "# Dummy classifier  "
   ]
  },
  {
   "cell_type": "code",
   "execution_count": 9,
   "id": "2da49b78",
   "metadata": {
    "execution": {
     "iopub.execute_input": "2023-05-28T16:45:39.029763Z",
     "iopub.status.busy": "2023-05-28T16:45:39.028970Z",
     "iopub.status.idle": "2023-05-28T16:45:40.387511Z",
     "shell.execute_reply": "2023-05-28T16:45:40.386432Z"
    },
    "papermill": {
     "duration": 1.369405,
     "end_time": "2023-05-28T16:45:40.389861",
     "exception": false,
     "start_time": "2023-05-28T16:45:39.020456",
     "status": "completed"
    },
    "tags": []
   },
   "outputs": [
    {
     "data": {
      "text/html": [
       "<style>#sk-container-id-1 {color: black;background-color: white;}#sk-container-id-1 pre{padding: 0;}#sk-container-id-1 div.sk-toggleable {background-color: white;}#sk-container-id-1 label.sk-toggleable__label {cursor: pointer;display: block;width: 100%;margin-bottom: 0;padding: 0.3em;box-sizing: border-box;text-align: center;}#sk-container-id-1 label.sk-toggleable__label-arrow:before {content: \"▸\";float: left;margin-right: 0.25em;color: #696969;}#sk-container-id-1 label.sk-toggleable__label-arrow:hover:before {color: black;}#sk-container-id-1 div.sk-estimator:hover label.sk-toggleable__label-arrow:before {color: black;}#sk-container-id-1 div.sk-toggleable__content {max-height: 0;max-width: 0;overflow: hidden;text-align: left;background-color: #f0f8ff;}#sk-container-id-1 div.sk-toggleable__content pre {margin: 0.2em;color: black;border-radius: 0.25em;background-color: #f0f8ff;}#sk-container-id-1 input.sk-toggleable__control:checked~div.sk-toggleable__content {max-height: 200px;max-width: 100%;overflow: auto;}#sk-container-id-1 input.sk-toggleable__control:checked~label.sk-toggleable__label-arrow:before {content: \"▾\";}#sk-container-id-1 div.sk-estimator input.sk-toggleable__control:checked~label.sk-toggleable__label {background-color: #d4ebff;}#sk-container-id-1 div.sk-label input.sk-toggleable__control:checked~label.sk-toggleable__label {background-color: #d4ebff;}#sk-container-id-1 input.sk-hidden--visually {border: 0;clip: rect(1px 1px 1px 1px);clip: rect(1px, 1px, 1px, 1px);height: 1px;margin: -1px;overflow: hidden;padding: 0;position: absolute;width: 1px;}#sk-container-id-1 div.sk-estimator {font-family: monospace;background-color: #f0f8ff;border: 1px dotted black;border-radius: 0.25em;box-sizing: border-box;margin-bottom: 0.5em;}#sk-container-id-1 div.sk-estimator:hover {background-color: #d4ebff;}#sk-container-id-1 div.sk-parallel-item::after {content: \"\";width: 100%;border-bottom: 1px solid gray;flex-grow: 1;}#sk-container-id-1 div.sk-label:hover label.sk-toggleable__label {background-color: #d4ebff;}#sk-container-id-1 div.sk-serial::before {content: \"\";position: absolute;border-left: 1px solid gray;box-sizing: border-box;top: 0;bottom: 0;left: 50%;z-index: 0;}#sk-container-id-1 div.sk-serial {display: flex;flex-direction: column;align-items: center;background-color: white;padding-right: 0.2em;padding-left: 0.2em;position: relative;}#sk-container-id-1 div.sk-item {position: relative;z-index: 1;}#sk-container-id-1 div.sk-parallel {display: flex;align-items: stretch;justify-content: center;background-color: white;position: relative;}#sk-container-id-1 div.sk-item::before, #sk-container-id-1 div.sk-parallel-item::before {content: \"\";position: absolute;border-left: 1px solid gray;box-sizing: border-box;top: 0;bottom: 0;left: 50%;z-index: -1;}#sk-container-id-1 div.sk-parallel-item {display: flex;flex-direction: column;z-index: 1;position: relative;background-color: white;}#sk-container-id-1 div.sk-parallel-item:first-child::after {align-self: flex-end;width: 50%;}#sk-container-id-1 div.sk-parallel-item:last-child::after {align-self: flex-start;width: 50%;}#sk-container-id-1 div.sk-parallel-item:only-child::after {width: 0;}#sk-container-id-1 div.sk-dashed-wrapped {border: 1px dashed gray;margin: 0 0.4em 0.5em 0.4em;box-sizing: border-box;padding-bottom: 0.4em;background-color: white;}#sk-container-id-1 div.sk-label label {font-family: monospace;font-weight: bold;display: inline-block;line-height: 1.2em;}#sk-container-id-1 div.sk-label-container {text-align: center;}#sk-container-id-1 div.sk-container {/* jupyter's `normalize.less` sets `[hidden] { display: none; }` but bootstrap.min.css set `[hidden] { display: none !important; }` so we also need the `!important` here to be able to override the default hidden behavior on the sphinx rendered scikit-learn.org. See: https://github.com/scikit-learn/scikit-learn/issues/21755 */display: inline-block !important;position: relative;}#sk-container-id-1 div.sk-text-repr-fallback {display: none;}</style><div id=\"sk-container-id-1\" class=\"sk-top-container\"><div class=\"sk-text-repr-fallback\"><pre>DummyClassifier(strategy=&#x27;most_frequent&#x27;)</pre><b>In a Jupyter environment, please rerun this cell to show the HTML representation or trust the notebook. <br />On GitHub, the HTML representation is unable to render, please try loading this page with nbviewer.org.</b></div><div class=\"sk-container\" hidden><div class=\"sk-item\"><div class=\"sk-estimator sk-toggleable\"><input class=\"sk-toggleable__control sk-hidden--visually\" id=\"sk-estimator-id-1\" type=\"checkbox\" checked><label for=\"sk-estimator-id-1\" class=\"sk-toggleable__label sk-toggleable__label-arrow\">DummyClassifier</label><div class=\"sk-toggleable__content\"><pre>DummyClassifier(strategy=&#x27;most_frequent&#x27;)</pre></div></div></div></div></div>"
      ],
      "text/plain": [
       "DummyClassifier(strategy='most_frequent')"
      ]
     },
     "execution_count": 9,
     "metadata": {},
     "output_type": "execute_result"
    }
   ],
   "source": [
    "from sklearn.dummy import DummyClassifier\n",
    "dummy_classifier = DummyClassifier(strategy=\"most_frequent\")\n",
    "dummy_classifier"
   ]
  },
  {
   "cell_type": "code",
   "execution_count": 10,
   "id": "fc0b5360",
   "metadata": {
    "execution": {
     "iopub.execute_input": "2023-05-28T16:45:40.405688Z",
     "iopub.status.busy": "2023-05-28T16:45:40.405315Z",
     "iopub.status.idle": "2023-05-28T16:45:40.614446Z",
     "shell.execute_reply": "2023-05-28T16:45:40.613673Z"
    },
    "papermill": {
     "duration": 0.219806,
     "end_time": "2023-05-28T16:45:40.616825",
     "exception": false,
     "start_time": "2023-05-28T16:45:40.397019",
     "status": "completed"
    },
    "tags": []
   },
   "outputs": [
    {
     "data": {
      "text/html": [
       "<style>#sk-container-id-2 {color: black;background-color: white;}#sk-container-id-2 pre{padding: 0;}#sk-container-id-2 div.sk-toggleable {background-color: white;}#sk-container-id-2 label.sk-toggleable__label {cursor: pointer;display: block;width: 100%;margin-bottom: 0;padding: 0.3em;box-sizing: border-box;text-align: center;}#sk-container-id-2 label.sk-toggleable__label-arrow:before {content: \"▸\";float: left;margin-right: 0.25em;color: #696969;}#sk-container-id-2 label.sk-toggleable__label-arrow:hover:before {color: black;}#sk-container-id-2 div.sk-estimator:hover label.sk-toggleable__label-arrow:before {color: black;}#sk-container-id-2 div.sk-toggleable__content {max-height: 0;max-width: 0;overflow: hidden;text-align: left;background-color: #f0f8ff;}#sk-container-id-2 div.sk-toggleable__content pre {margin: 0.2em;color: black;border-radius: 0.25em;background-color: #f0f8ff;}#sk-container-id-2 input.sk-toggleable__control:checked~div.sk-toggleable__content {max-height: 200px;max-width: 100%;overflow: auto;}#sk-container-id-2 input.sk-toggleable__control:checked~label.sk-toggleable__label-arrow:before {content: \"▾\";}#sk-container-id-2 div.sk-estimator input.sk-toggleable__control:checked~label.sk-toggleable__label {background-color: #d4ebff;}#sk-container-id-2 div.sk-label input.sk-toggleable__control:checked~label.sk-toggleable__label {background-color: #d4ebff;}#sk-container-id-2 input.sk-hidden--visually {border: 0;clip: rect(1px 1px 1px 1px);clip: rect(1px, 1px, 1px, 1px);height: 1px;margin: -1px;overflow: hidden;padding: 0;position: absolute;width: 1px;}#sk-container-id-2 div.sk-estimator {font-family: monospace;background-color: #f0f8ff;border: 1px dotted black;border-radius: 0.25em;box-sizing: border-box;margin-bottom: 0.5em;}#sk-container-id-2 div.sk-estimator:hover {background-color: #d4ebff;}#sk-container-id-2 div.sk-parallel-item::after {content: \"\";width: 100%;border-bottom: 1px solid gray;flex-grow: 1;}#sk-container-id-2 div.sk-label:hover label.sk-toggleable__label {background-color: #d4ebff;}#sk-container-id-2 div.sk-serial::before {content: \"\";position: absolute;border-left: 1px solid gray;box-sizing: border-box;top: 0;bottom: 0;left: 50%;z-index: 0;}#sk-container-id-2 div.sk-serial {display: flex;flex-direction: column;align-items: center;background-color: white;padding-right: 0.2em;padding-left: 0.2em;position: relative;}#sk-container-id-2 div.sk-item {position: relative;z-index: 1;}#sk-container-id-2 div.sk-parallel {display: flex;align-items: stretch;justify-content: center;background-color: white;position: relative;}#sk-container-id-2 div.sk-item::before, #sk-container-id-2 div.sk-parallel-item::before {content: \"\";position: absolute;border-left: 1px solid gray;box-sizing: border-box;top: 0;bottom: 0;left: 50%;z-index: -1;}#sk-container-id-2 div.sk-parallel-item {display: flex;flex-direction: column;z-index: 1;position: relative;background-color: white;}#sk-container-id-2 div.sk-parallel-item:first-child::after {align-self: flex-end;width: 50%;}#sk-container-id-2 div.sk-parallel-item:last-child::after {align-self: flex-start;width: 50%;}#sk-container-id-2 div.sk-parallel-item:only-child::after {width: 0;}#sk-container-id-2 div.sk-dashed-wrapped {border: 1px dashed gray;margin: 0 0.4em 0.5em 0.4em;box-sizing: border-box;padding-bottom: 0.4em;background-color: white;}#sk-container-id-2 div.sk-label label {font-family: monospace;font-weight: bold;display: inline-block;line-height: 1.2em;}#sk-container-id-2 div.sk-label-container {text-align: center;}#sk-container-id-2 div.sk-container {/* jupyter's `normalize.less` sets `[hidden] { display: none; }` but bootstrap.min.css set `[hidden] { display: none !important; }` so we also need the `!important` here to be able to override the default hidden behavior on the sphinx rendered scikit-learn.org. See: https://github.com/scikit-learn/scikit-learn/issues/21755 */display: inline-block !important;position: relative;}#sk-container-id-2 div.sk-text-repr-fallback {display: none;}</style><div id=\"sk-container-id-2\" class=\"sk-top-container\"><div class=\"sk-text-repr-fallback\"><pre>DummyClassifier(strategy=&#x27;most_frequent&#x27;)</pre><b>In a Jupyter environment, please rerun this cell to show the HTML representation or trust the notebook. <br />On GitHub, the HTML representation is unable to render, please try loading this page with nbviewer.org.</b></div><div class=\"sk-container\" hidden><div class=\"sk-item\"><div class=\"sk-estimator sk-toggleable\"><input class=\"sk-toggleable__control sk-hidden--visually\" id=\"sk-estimator-id-2\" type=\"checkbox\" checked><label for=\"sk-estimator-id-2\" class=\"sk-toggleable__label sk-toggleable__label-arrow\">DummyClassifier</label><div class=\"sk-toggleable__content\"><pre>DummyClassifier(strategy=&#x27;most_frequent&#x27;)</pre></div></div></div></div></div>"
      ],
      "text/plain": [
       "DummyClassifier(strategy='most_frequent')"
      ]
     },
     "execution_count": 10,
     "metadata": {},
     "output_type": "execute_result"
    }
   ],
   "source": [
    "dummy_classifier.fit(X_train, y_train)"
   ]
  },
  {
   "attachments": {},
   "cell_type": "markdown",
   "id": "a303252e",
   "metadata": {
    "papermill": {
     "duration": 0.007048,
     "end_time": "2023-05-28T16:45:40.631387",
     "exception": false,
     "start_time": "2023-05-28T16:45:40.624339",
     "status": "completed"
    },
    "tags": []
   },
   "source": [
    "# Look at the sample file  \n"
   ]
  },
  {
   "cell_type": "code",
   "execution_count": 11,
   "id": "e664a6e0",
   "metadata": {
    "execution": {
     "iopub.execute_input": "2023-05-28T16:45:40.647783Z",
     "iopub.status.busy": "2023-05-28T16:45:40.647409Z",
     "iopub.status.idle": "2023-05-28T16:45:40.689432Z",
     "shell.execute_reply": "2023-05-28T16:45:40.688209Z"
    },
    "papermill": {
     "duration": 0.05345,
     "end_time": "2023-05-28T16:45:40.692081",
     "exception": false,
     "start_time": "2023-05-28T16:45:40.638631",
     "status": "completed"
    },
    "tags": []
   },
   "outputs": [
    {
     "data": {
      "text/plain": [
       "((55315, 2),\n",
       "    id sentiment\n",
       " 0   0  NEGATIVE\n",
       " 1   1  NEGATIVE\n",
       " 2   2  NEGATIVE\n",
       " 3   3  NEGATIVE\n",
       " 4   4  NEGATIVE,\n",
       "           id sentiment\n",
       " 55310  55310  NEGATIVE\n",
       " 55311  55311  NEGATIVE\n",
       " 55312  55312  NEGATIVE\n",
       " 55313  55313  NEGATIVE\n",
       " 55314  55314  NEGATIVE)"
      ]
     },
     "execution_count": 11,
     "metadata": {},
     "output_type": "execute_result"
    }
   ],
   "source": [
    "sample = pd.read_csv(\"/kaggle/input/sentiment-prediction-on-movie-reviews/sample.csv\")\n",
    "sample.shape, sample.head(), sample.tail()"
   ]
  },
  {
   "attachments": {},
   "cell_type": "markdown",
   "id": "e263d295",
   "metadata": {
    "papermill": {
     "duration": 0.0074,
     "end_time": "2023-05-28T16:45:40.707343",
     "exception": false,
     "start_time": "2023-05-28T16:45:40.699943",
     "status": "completed"
    },
    "tags": []
   },
   "source": [
    "# First submission  "
   ]
  },
  {
   "cell_type": "code",
   "execution_count": 12,
   "id": "0472c9a3",
   "metadata": {
    "execution": {
     "iopub.execute_input": "2023-05-28T16:45:40.724183Z",
     "iopub.status.busy": "2023-05-28T16:45:40.723757Z",
     "iopub.status.idle": "2023-05-28T16:45:40.912810Z",
     "shell.execute_reply": "2023-05-28T16:45:40.911730Z"
    },
    "papermill": {
     "duration": 0.200492,
     "end_time": "2023-05-28T16:45:40.915434",
     "exception": false,
     "start_time": "2023-05-28T16:45:40.714942",
     "status": "completed"
    },
    "tags": []
   },
   "outputs": [
    {
     "name": "stdout",
     "output_type": "stream",
     "text": [
      "submission.csv file generated!\n"
     ]
    }
   ],
   "source": [
    "X_test = test.copy()\n",
    "y_test = dummy_classifier.predict(X_test)\n",
    "\n",
    "submission1 = pd.DataFrame(y_test)\n",
    "submission1.columns = [\"sentiment\"]\n",
    "submission1.to_csv(\"submission.csv\", index_label=\"id\")\n",
    "print(\"submission.csv file generated!\")"
   ]
  }
 ],
 "metadata": {
  "kernelspec": {
   "display_name": "Python 3",
   "language": "python",
   "name": "python3"
  },
  "language_info": {
   "codemirror_mode": {
    "name": "ipython",
    "version": 3
   },
   "file_extension": ".py",
   "mimetype": "text/x-python",
   "name": "python",
   "nbconvert_exporter": "python",
   "pygments_lexer": "ipython3",
   "version": "3.10.10"
  },
  "papermill": {
   "default_parameters": {},
   "duration": 16.486859,
   "end_time": "2023-05-28T16:45:41.945882",
   "environment_variables": {},
   "exception": null,
   "input_path": "__notebook__.ipynb",
   "output_path": "__notebook__.ipynb",
   "parameters": {},
   "start_time": "2023-05-28T16:45:25.459023",
   "version": "2.4.0"
  }
 },
 "nbformat": 4,
 "nbformat_minor": 5
}
