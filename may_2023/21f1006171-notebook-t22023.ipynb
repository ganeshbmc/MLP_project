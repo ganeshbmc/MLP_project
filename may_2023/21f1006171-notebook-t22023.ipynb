{
 "cells": [
  {
   "cell_type": "markdown",
   "id": "10bab21f",
   "metadata": {},
   "source": [
    "# MLP Project (T2 2023) by Ganesh P\n"
   ]
  },
  {
   "cell_type": "markdown",
   "id": "4feac334",
   "metadata": {},
   "source": [
    "`Disclaimer`   \n",
    "\n",
    ">> This final notebook contains only the most relevant code to show the path/flow of my project work over few weeks. Rest of the code is in [my github repo](https://github.com/ganeshbmc/MLP_project) which is private at present (I will make it public after the project is over).  "
   ]
  },
  {
   "cell_type": "markdown",
   "id": "c31b4944",
   "metadata": {},
   "source": [
    "`Overview`  \n",
    "\n",
    "1.\t> Screen the datasets and import them.  \n",
    "2.\t> Perform EDA (first round).\n",
    "3.\t> Data cleaning.\n",
    "4.\t> Basic models including dummy model.\n",
    "5.\t> Because this is a text sentiment analysis project, focus on 'reviewText' column, work on cleaning text data and vectorising/tokenising it, build several models till the best possible score is reached.\n",
    "6.\t> Merge train and movies dataset.\n",
    "7.\t> Perform EDA (second round) on merged dataset.\n",
    "8.\t> Data cleaning.\n",
    "9.\t> Build models on merged dataset.\n",
    "10.\t> Understand the results and do another round of EDA if needed.\n",
    "11.\t> Build final model.  \n"
   ]
  },
  {
   "cell_type": "markdown",
   "id": "acb8dbb8",
   "metadata": {},
   "source": [
    "`Default code on Kaggle notebook`  "
   ]
  },
  {
   "cell_type": "code",
   "execution_count": 1,
   "id": "88e58253",
   "metadata": {
    "_cell_guid": "b1076dfc-b9ad-4769-8c92-a6c4dae69d19",
    "_uuid": "8f2839f25d086af736a60e9eeb907d3b93b6e0e5",
    "execution": {
     "iopub.execute_input": "2023-07-03T19:55:44.874861Z",
     "iopub.status.busy": "2023-07-03T19:55:44.874391Z",
     "iopub.status.idle": "2023-07-03T19:55:44.888967Z",
     "shell.execute_reply": "2023-07-03T19:55:44.887727Z"
    },
    "papermill": {
     "duration": 0.049594,
     "end_time": "2023-07-03T19:55:44.891461",
     "exception": false,
     "start_time": "2023-07-03T19:55:44.841867",
     "status": "completed"
    },
    "tags": []
   },
   "outputs": [],
   "source": [
    "# This Python 3 environment comes with many helpful analytics libraries installed\n",
    "# It is defined by the kaggle/python Docker image: https://github.com/kaggle/docker-python\n",
    "# For example, here's several helpful packages to load\n",
    "\n",
    "import numpy as np # linear algebra\n",
    "import pandas as pd # data processing, CSV file I/O (e.g. pd.read_csv)\n",
    "\n",
    "# Input data files are available in the read-only \"../input/\" directory\n",
    "# For example, running this (by clicking run or pressing Shift+Enter) will list all files under the input directory\n",
    "\n",
    "import os\n",
    "for dirname, _, filenames in os.walk('/kaggle/input'):\n",
    "    for filename in filenames:\n",
    "        print(os.path.join(dirname, filename))\n",
    "\n",
    "# You can write up to 20GB to the current directory (/kaggle/working/) that gets preserved as output when you create a version using \"Save & Run All\" \n",
    "# You can also write temporary files to /kaggle/temp/, but they won't be saved outside of the current session"
   ]
  },
  {
   "cell_type": "markdown",
   "id": "6273d4aa",
   "metadata": {
    "papermill": {
     "duration": 0.03027,
     "end_time": "2023-07-03T19:55:44.952462",
     "exception": false,
     "start_time": "2023-07-03T19:55:44.922192",
     "status": "completed"
    },
    "tags": []
   },
   "source": [
    "## Import remaining libraries  "
   ]
  },
  {
   "cell_type": "code",
   "execution_count": 20,
   "id": "e5230670",
   "metadata": {
    "execution": {
     "iopub.execute_input": "2023-07-03T19:55:45.017685Z",
     "iopub.status.busy": "2023-07-03T19:55:45.017151Z",
     "iopub.status.idle": "2023-07-03T19:55:47.429755Z",
     "shell.execute_reply": "2023-07-03T19:55:47.428320Z"
    },
    "papermill": {
     "duration": 2.447981,
     "end_time": "2023-07-03T19:55:47.432685",
     "exception": false,
     "start_time": "2023-07-03T19:55:44.984704",
     "status": "completed"
    },
    "tags": []
   },
   "outputs": [
    {
     "name": "stdout",
     "output_type": "stream",
     "text": [
      "Imports done.\n"
     ]
    }
   ],
   "source": [
    "# import pandas as pd\n",
    "# import numpy as np\n",
    "import matplotlib.pyplot as plt\n",
    "import seaborn as sns\n",
    "import re\n",
    "\n",
    "from sklearn.pipeline import Pipeline, FeatureUnion\n",
    "from sklearn.compose import ColumnTransformer\n",
    "from sklearn.metrics import classification_report, confusion_matrix\n",
    "from sklearn.feature_extraction.text import TfidfVectorizer, CountVectorizer\n",
    "from sklearn.preprocessing import FunctionTransformer\n",
    "from sklearn.preprocessing import StandardScaler, MinMaxScaler, OneHotEncoder, LabelEncoder\n",
    "from sklearn.impute import SimpleImputer\n",
    "from sklearn.linear_model import LogisticRegression\n",
    "from sklearn.ensemble import RandomForestClassifier\n",
    "from sklearn.svm import LinearSVC\n",
    "from sklearn.naive_bayes import MultinomialNB\n",
    "from sklearn.model_selection import train_test_split, GridSearchCV, cross_val_score\n",
    "from sklearn.decomposition import PCA, TruncatedSVD\n",
    "\n",
    "from scipy.stats import stats\n",
    "\n",
    "print(\"Imports done.\")"
   ]
  },
  {
   "cell_type": "markdown",
   "id": "0cb0694e",
   "metadata": {
    "papermill": {
     "duration": 0.030336,
     "end_time": "2023-07-03T19:55:47.494637",
     "exception": false,
     "start_time": "2023-07-03T19:55:47.464301",
     "status": "completed"
    },
    "tags": []
   },
   "source": [
    "## Load datasets  "
   ]
  },
  {
   "cell_type": "code",
   "execution_count": 4,
   "id": "6ea63ee9",
   "metadata": {
    "execution": {
     "iopub.execute_input": "2023-07-03T19:55:47.558092Z",
     "iopub.status.busy": "2023-07-03T19:55:47.557664Z",
     "iopub.status.idle": "2023-07-03T19:55:48.510114Z",
     "shell.execute_reply": "2023-07-03T19:55:48.509240Z"
    },
    "papermill": {
     "duration": 0.986421,
     "end_time": "2023-07-03T19:55:48.512434",
     "exception": false,
     "start_time": "2023-07-03T19:55:47.526013",
     "status": "completed"
    },
    "tags": []
   },
   "outputs": [
    {
     "data": {
      "text/plain": [
       "(162758, 5)"
      ]
     },
     "execution_count": 4,
     "metadata": {},
     "output_type": "execute_result"
    }
   ],
   "source": [
    "traindf = pd.read_csv(\"data/train.csv\")\n",
    "traindf.shape"
   ]
  },
  {
   "cell_type": "code",
   "execution_count": 5,
   "id": "37718495",
   "metadata": {
    "execution": {
     "iopub.execute_input": "2023-07-03T19:55:48.575836Z",
     "iopub.status.busy": "2023-07-03T19:55:48.575259Z",
     "iopub.status.idle": "2023-07-03T19:55:48.906484Z",
     "shell.execute_reply": "2023-07-03T19:55:48.905342Z"
    },
    "papermill": {
     "duration": 0.366071,
     "end_time": "2023-07-03T19:55:48.909265",
     "exception": false,
     "start_time": "2023-07-03T19:55:48.543194",
     "status": "completed"
    },
    "tags": []
   },
   "outputs": [
    {
     "data": {
      "text/plain": [
       "(55315, 4)"
      ]
     },
     "execution_count": 5,
     "metadata": {},
     "output_type": "execute_result"
    }
   ],
   "source": [
    "testdf = pd.read_csv(\"data/test.csv\")\n",
    "testdf.shape"
   ]
  },
  {
   "cell_type": "markdown",
   "id": "61bc20ee",
   "metadata": {
    "papermill": {
     "duration": 0.03163,
     "end_time": "2023-07-03T19:55:48.972833",
     "exception": false,
     "start_time": "2023-07-03T19:55:48.941203",
     "status": "completed"
    },
    "tags": []
   },
   "source": [
    "## Getting data ready for training and evaluating models  \n",
    "\n",
    "`Handle missing data. Current strategy is to fill in some custom text.`  \n",
    "`Separate features and labels from traindf`  \n",
    "`Split training data into training and testing parts`"
   ]
  },
  {
   "cell_type": "code",
   "execution_count": 6,
   "id": "a9691eab",
   "metadata": {
    "execution": {
     "iopub.execute_input": "2023-07-03T19:55:49.037023Z",
     "iopub.status.busy": "2023-07-03T19:55:49.035792Z",
     "iopub.status.idle": "2023-07-03T19:55:49.043022Z",
     "shell.execute_reply": "2023-07-03T19:55:49.041950Z"
    },
    "papermill": {
     "duration": 0.041523,
     "end_time": "2023-07-03T19:55:49.045179",
     "exception": false,
     "start_time": "2023-07-03T19:55:49.003656",
     "status": "completed"
    },
    "tags": []
   },
   "outputs": [
    {
     "data": {
      "text/plain": [
       "(162758, 5)"
      ]
     },
     "execution_count": 6,
     "metadata": {},
     "output_type": "execute_result"
    }
   ],
   "source": [
    "traindf.shape"
   ]
  },
  {
   "cell_type": "code",
   "execution_count": 7,
   "id": "8a4f79a3",
   "metadata": {
    "execution": {
     "iopub.execute_input": "2023-07-03T19:55:49.110102Z",
     "iopub.status.busy": "2023-07-03T19:55:49.109633Z",
     "iopub.status.idle": "2023-07-03T19:55:49.355343Z",
     "shell.execute_reply": "2023-07-03T19:55:49.354143Z"
    },
    "papermill": {
     "duration": 0.280983,
     "end_time": "2023-07-03T19:55:49.357722",
     "exception": false,
     "start_time": "2023-07-03T19:55:49.076739",
     "status": "completed"
    },
    "tags": []
   },
   "outputs": [
    {
     "name": "stdout",
     "output_type": "stream",
     "text": [
      "<class 'pandas.core.frame.DataFrame'>\n",
      "RangeIndex: 162758 entries, 0 to 162757\n",
      "Data columns (total 5 columns):\n",
      " #   Column              Non-Null Count   Dtype \n",
      "---  ------              --------------   ----- \n",
      " 0   movieid             162758 non-null  object\n",
      " 1   reviewerName        162758 non-null  object\n",
      " 2   isFrequentReviewer  162758 non-null  bool  \n",
      " 3   reviewText          156311 non-null  object\n",
      " 4   sentiment           162758 non-null  object\n",
      "dtypes: bool(1), object(4)\n",
      "memory usage: 5.1+ MB\n"
     ]
    }
   ],
   "source": [
    "traindf.info()"
   ]
  },
  {
   "cell_type": "code",
   "execution_count": 8,
   "id": "b2e5fef6",
   "metadata": {
    "execution": {
     "iopub.execute_input": "2023-07-03T19:55:49.421721Z",
     "iopub.status.busy": "2023-07-03T19:55:49.420964Z",
     "iopub.status.idle": "2023-07-03T19:55:49.636399Z",
     "shell.execute_reply": "2023-07-03T19:55:49.635295Z"
    },
    "papermill": {
     "duration": 0.250455,
     "end_time": "2023-07-03T19:55:49.638973",
     "exception": false,
     "start_time": "2023-07-03T19:55:49.388518",
     "status": "completed"
    },
    "tags": []
   },
   "outputs": [
    {
     "data": {
      "text/plain": [
       "movieid                  0\n",
       "reviewerName             0\n",
       "isFrequentReviewer       0\n",
       "reviewText            6447\n",
       "sentiment                0\n",
       "dtype: int64"
      ]
     },
     "execution_count": 8,
     "metadata": {},
     "output_type": "execute_result"
    }
   ],
   "source": [
    "traindf.isna().sum()"
   ]
  },
  {
   "cell_type": "markdown",
   "id": "c98f8dcc",
   "metadata": {
    "papermill": {
     "duration": 0.031985,
     "end_time": "2023-07-03T19:55:49.702226",
     "exception": false,
     "start_time": "2023-07-03T19:55:49.670241",
     "status": "completed"
    },
    "tags": []
   },
   "source": [
    "### Fill empty reviewText with custom text  "
   ]
  },
  {
   "cell_type": "code",
   "execution_count": 9,
   "id": "7839085e",
   "metadata": {
    "execution": {
     "iopub.execute_input": "2023-07-03T19:55:49.767926Z",
     "iopub.status.busy": "2023-07-03T19:55:49.767500Z",
     "iopub.status.idle": "2023-07-03T19:55:50.005929Z",
     "shell.execute_reply": "2023-07-03T19:55:50.004739Z"
    },
    "papermill": {
     "duration": 0.273838,
     "end_time": "2023-07-03T19:55:50.008658",
     "exception": false,
     "start_time": "2023-07-03T19:55:49.734820",
     "status": "completed"
    },
    "tags": []
   },
   "outputs": [
    {
     "data": {
      "text/plain": [
       "movieid               0\n",
       "reviewerName          0\n",
       "isFrequentReviewer    0\n",
       "reviewText            0\n",
       "sentiment             0\n",
       "dtype: int64"
      ]
     },
     "execution_count": 9,
     "metadata": {},
     "output_type": "execute_result"
    }
   ],
   "source": [
    "traindf[\"reviewText\"].fillna(\"empty\", inplace=True)\n",
    "traindf.isna().sum()"
   ]
  },
  {
   "cell_type": "markdown",
   "id": "58b30966",
   "metadata": {},
   "source": [
    "### EDA  "
   ]
  },
  {
   "cell_type": "code",
   "execution_count": 17,
   "id": "4998da57",
   "metadata": {},
   "outputs": [
    {
     "data": {
      "image/png": "[encoded data removed]",
      "text/plain": [
       "<Figure size 432x288 with 1 Axes>"
      ]
     },
     "metadata": {},
     "output_type": "display_data"
    }
   ],
   "source": [
    "# Pie chart for sentiment column\n",
    "plt.figure(figsize=(6, 4))\n",
    "traindf[\"sentiment\"].value_counts().plot(kind='pie', autopct='%1.0f%%', colors=[\"red\", \"yellow\", \"green\"])\n",
    "plt.title(\"Pie chart for sentiment column\")\n",
    "plt.show()"
   ]
  },
  {
   "cell_type": "code",
   "execution_count": 23,
   "id": "996a31ae",
   "metadata": {},
   "outputs": [
    {
     "name": "stdout",
     "output_type": "stream",
     "text": [
      "sentiment           NEGATIVE  POSITIVE\n",
      "isFrequentReviewer                    \n",
      "False                  35760     77429\n",
      "True                   18237     31332\n"
     ]
    },
    {
     "ename": "AttributeError",
     "evalue": "module 'scipy.stats.stats' has no attribute 'chi2_contingency'",
     "output_type": "error",
     "traceback": [
      "\u001b[1;31m---------------------------------------------------------------------------\u001b[0m",
      "\u001b[1;31mAttributeError\u001b[0m                            Traceback (most recent call last)",
      "\u001b[1;32mC:\\Users\\GANESH~1\\AppData\\Local\\Temp/ipykernel_4124/1351989582.py\u001b[0m in \u001b[0;36m<module>\u001b[1;34m\u001b[0m\n\u001b[0;32m      3\u001b[0m \u001b[0mcontingency_table\u001b[0m \u001b[1;33m=\u001b[0m \u001b[0mpd\u001b[0m\u001b[1;33m.\u001b[0m\u001b[0mcrosstab\u001b[0m\u001b[1;33m(\u001b[0m\u001b[0mtraindf\u001b[0m\u001b[1;33m[\u001b[0m\u001b[1;34m'isFrequentReviewer'\u001b[0m\u001b[1;33m]\u001b[0m\u001b[1;33m,\u001b[0m \u001b[0mtraindf\u001b[0m\u001b[1;33m[\u001b[0m\u001b[1;34m'sentiment'\u001b[0m\u001b[1;33m]\u001b[0m\u001b[1;33m)\u001b[0m\u001b[1;33m\u001b[0m\u001b[1;33m\u001b[0m\u001b[0m\n\u001b[0;32m      4\u001b[0m \u001b[0mprint\u001b[0m\u001b[1;33m(\u001b[0m\u001b[0mcontingency_table\u001b[0m\u001b[1;33m)\u001b[0m\u001b[1;33m\u001b[0m\u001b[1;33m\u001b[0m\u001b[0m\n\u001b[1;32m----> 5\u001b[1;33m \u001b[0mstats\u001b[0m\u001b[1;33m.\u001b[0m\u001b[0mchi2_contingency\u001b[0m\u001b[1;33m(\u001b[0m\u001b[0mcontingency_table\u001b[0m\u001b[1;33m)\u001b[0m\u001b[1;33m\u001b[0m\u001b[1;33m\u001b[0m\u001b[0m\n\u001b[0m",
      "\u001b[1;31mAttributeError\u001b[0m: module 'scipy.stats.stats' has no attribute 'chi2_contingency'"
     ]
    }
   ],
   "source": [
    "# Chi-square test for isFrequentReviewer column and sentiment column   \n",
    "\n",
    "contingency_table = pd.crosstab(traindf['isFrequentReviewer'], traindf['sentiment'])\n",
    "print(contingency_table)\n",
    "stats.chi2_contingency(contingency_table)\n"
   ]
  },
  {
   "cell_type": "markdown",
   "id": "8e01a9f0",
   "metadata": {
    "papermill": {
     "duration": 0.037176,
     "end_time": "2023-07-03T19:55:50.078068",
     "exception": false,
     "start_time": "2023-07-03T19:55:50.040892",
     "status": "completed"
    },
    "tags": []
   },
   "source": [
    "### Separate features and labels  "
   ]
  },
  {
   "cell_type": "code",
   "execution_count": 10,
   "id": "14f60b37",
   "metadata": {
    "execution": {
     "iopub.execute_input": "2023-07-03T19:55:50.159317Z",
     "iopub.status.busy": "2023-07-03T19:55:50.158935Z",
     "iopub.status.idle": "2023-07-03T19:55:50.166542Z",
     "shell.execute_reply": "2023-07-03T19:55:50.165615Z"
    },
    "papermill": {
     "duration": 0.046465,
     "end_time": "2023-07-03T19:55:50.168715",
     "exception": false,
     "start_time": "2023-07-03T19:55:50.122250",
     "status": "completed"
    },
    "tags": []
   },
   "outputs": [
    {
     "data": {
      "text/plain": [
       "((162758,), (162758,))"
      ]
     },
     "execution_count": 10,
     "metadata": {},
     "output_type": "execute_result"
    }
   ],
   "source": [
    "train_features = traindf[\"reviewText\"]\n",
    "train_labels = traindf.iloc[:, -1]\n",
    "train_features.shape, train_labels.shape"
   ]
  },
  {
   "cell_type": "markdown",
   "id": "1b12c17e",
   "metadata": {
    "papermill": {
     "duration": 0.03193,
     "end_time": "2023-07-03T19:55:50.232004",
     "exception": false,
     "start_time": "2023-07-03T19:55:50.200074",
     "status": "completed"
    },
    "tags": []
   },
   "source": [
    "### Split traindf into training and testing parts  "
   ]
  },
  {
   "cell_type": "code",
   "execution_count": 10,
   "id": "284543ac",
   "metadata": {
    "execution": {
     "iopub.execute_input": "2023-07-03T19:55:50.299862Z",
     "iopub.status.busy": "2023-07-03T19:55:50.298621Z",
     "iopub.status.idle": "2023-07-03T19:55:50.338006Z",
     "shell.execute_reply": "2023-07-03T19:55:50.336787Z"
    },
    "papermill": {
     "duration": 0.077298,
     "end_time": "2023-07-03T19:55:50.340595",
     "exception": false,
     "start_time": "2023-07-03T19:55:50.263297",
     "status": "completed"
    },
    "tags": []
   },
   "outputs": [
    {
     "data": {
      "text/plain": [
       "((122068,), (40690,), (122068,), (40690,))"
      ]
     },
     "execution_count": 10,
     "metadata": {},
     "output_type": "execute_result"
    }
   ],
   "source": [
    "X_train, X_test, y_train, y_test = train_test_split(train_features, train_labels, test_size=0.25, random_state=42)\n",
    "X_train.shape, X_test.shape, y_train.shape, y_test.shape"
   ]
  },
  {
   "cell_type": "markdown",
   "id": "4b4f6c2b",
   "metadata": {
    "papermill": {
     "duration": 0.031485,
     "end_time": "2023-07-03T19:55:50.403884",
     "exception": false,
     "start_time": "2023-07-03T19:55:50.372399",
     "status": "completed"
    },
    "tags": []
   },
   "source": [
    "### Needs further exploration  \n",
    "\n",
    "`stratify based on reviewer type?`  \n",
    "`play with test size`  "
   ]
  },
  {
   "cell_type": "markdown",
   "id": "f5c4f2f2",
   "metadata": {
    "papermill": {
     "duration": 0.031429,
     "end_time": "2023-07-03T19:55:50.466975",
     "exception": false,
     "start_time": "2023-07-03T19:55:50.435546",
     "status": "completed"
    },
    "tags": []
   },
   "source": [
    "## Model evaluation plan and code  "
   ]
  },
  {
   "cell_type": "code",
   "execution_count": 11,
   "id": "9006174e",
   "metadata": {
    "execution": {
     "iopub.execute_input": "2023-07-03T19:55:50.533669Z",
     "iopub.status.busy": "2023-07-03T19:55:50.532974Z",
     "iopub.status.idle": "2023-07-03T19:55:50.537258Z",
     "shell.execute_reply": "2023-07-03T19:55:50.536493Z"
    },
    "papermill": {
     "duration": 0.039352,
     "end_time": "2023-07-03T19:55:50.539439",
     "exception": false,
     "start_time": "2023-07-03T19:55:50.500087",
     "status": "completed"
    },
    "tags": []
   },
   "outputs": [],
   "source": [
    "from sklearn.metrics import classification_report, confusion_matrix, ConfusionMatrixDisplay\n",
    "from sklearn.metrics import f1_score"
   ]
  },
  {
   "cell_type": "code",
   "execution_count": 12,
   "id": "28da001b",
   "metadata": {
    "execution": {
     "iopub.execute_input": "2023-07-03T19:55:50.606343Z",
     "iopub.status.busy": "2023-07-03T19:55:50.605084Z",
     "iopub.status.idle": "2023-07-03T19:55:50.610640Z",
     "shell.execute_reply": "2023-07-03T19:55:50.609848Z"
    },
    "papermill": {
     "duration": 0.04092,
     "end_time": "2023-07-03T19:55:50.612951",
     "exception": false,
     "start_time": "2023-07-03T19:55:50.572031",
     "status": "completed"
    },
    "tags": []
   },
   "outputs": [],
   "source": [
    "def evaluate(y_test, y_pred):\n",
    "    print(classification_report(y_test, y_pred))\n",
    "    print(confusion_matrix(y_test, y_pred))\n",
    "    # print(f1_score(y_test, y_pred))\n",
    "    ConfusionMatrixDisplay(y_test, y_pred)\n",
    "    return"
   ]
  },
  {
   "cell_type": "markdown",
   "id": "502a7b8b",
   "metadata": {
    "papermill": {
     "duration": 0.031487,
     "end_time": "2023-07-03T19:55:50.676570",
     "exception": false,
     "start_time": "2023-07-03T19:55:50.645083",
     "status": "completed"
    },
    "tags": []
   },
   "source": [
    "# Data preprocessing  "
   ]
  },
  {
   "cell_type": "markdown",
   "id": "bc92841a",
   "metadata": {
    "papermill": {
     "duration": 0.031271,
     "end_time": "2023-07-03T19:55:50.739346",
     "exception": false,
     "start_time": "2023-07-03T19:55:50.708075",
     "status": "completed"
    },
    "tags": []
   },
   "source": [
    "## Define stop words  "
   ]
  },
  {
   "cell_type": "code",
   "execution_count": 13,
   "id": "b0b8d3b4",
   "metadata": {
    "execution": {
     "iopub.execute_input": "2023-07-03T19:55:50.804411Z",
     "iopub.status.busy": "2023-07-03T19:55:50.803931Z",
     "iopub.status.idle": "2023-07-03T19:55:50.809536Z",
     "shell.execute_reply": "2023-07-03T19:55:50.808150Z"
    },
    "papermill": {
     "duration": 0.040993,
     "end_time": "2023-07-03T19:55:50.811991",
     "exception": false,
     "start_time": "2023-07-03T19:55:50.770998",
     "status": "completed"
    },
    "tags": []
   },
   "outputs": [],
   "source": [
    "from sklearn.feature_extraction.text import TfidfVectorizer, CountVectorizer"
   ]
  },
  {
   "cell_type": "code",
   "execution_count": 14,
   "id": "d65705c0",
   "metadata": {
    "execution": {
     "iopub.execute_input": "2023-07-03T19:55:50.877728Z",
     "iopub.status.busy": "2023-07-03T19:55:50.877320Z",
     "iopub.status.idle": "2023-07-03T19:55:50.945317Z",
     "shell.execute_reply": "2023-07-03T19:55:50.944214Z"
    },
    "papermill": {
     "duration": 0.103893,
     "end_time": "2023-07-03T19:55:50.947691",
     "exception": false,
     "start_time": "2023-07-03T19:55:50.843798",
     "status": "completed"
    },
    "tags": []
   },
   "outputs": [
    {
     "data": {
      "text/plain": [
       "(list, 1160)"
      ]
     },
     "execution_count": 14,
     "metadata": {},
     "output_type": "execute_result"
    }
   ],
   "source": [
    "stop_words = [\"0o\", \"0s\", \"3a\", \"3b\", \"3d\", \"6b\", \"6o\", \"a\", \"a1\", \"a2\", \"a3\", \"a4\", \"ab\", \"able\", \"about\", \"above\", \"abst\", \"ac\", \"accordance\", \"according\", \"accordingly\", \"across\", \"act\", \"actually\", \"ad\", \"added\", \"adj\", \"ae\", \"af\", \"affected\", \"affecting\", \"affects\", \"after\", \"afterwards\", \"ag\", \"again\", \"against\", \"ah\", \"ain\", \"ain't\", \"aj\", \"al\", \"all\", \"allow\", \"allows\", \"almost\", \"alone\", \"along\", \"already\", \"also\", \"although\", \"always\", \"am\", \"among\", \"amongst\", \"amoungst\", \"amount\", \"an\", \"and\", \"announce\", \"another\", \"any\", \"anybody\", \"anyhow\", \"anymore\", \"anyone\", \"anything\", \"anyway\", \"anyways\", \"anywhere\", \"ao\", \"ap\", \"apart\", \"apparently\", \"appear\", \"appreciate\", \"appropriate\", \"approximately\", \"ar\", \"are\", \"aren\", \"arent\", \"aren't\", \"arise\", \"around\", \"as\", \"a's\", \"aside\", \"ask\", \"asking\", \"associated\", \"at\", \"au\", \"auth\", \"av\", \"available\", \"aw\", \"away\", \"awfully\", \"ax\", \"ay\", \"az\", \"b\", \"b1\", \"b2\", \"b3\", \"ba\", \"back\", \"bc\", \"bd\", \"be\", \"became\", \"because\", \"become\", \"becomes\", \"becoming\", \"been\", \"before\", \"beforehand\", \"begin\", \"beginning\", \"beginnings\", \"begins\", \"behind\", \"being\", \"believe\", \"below\", \"beside\", \"besides\", \"best\", \"better\", \"between\", \"beyond\", \"bi\", \"bill\", \"biol\", \"bj\", \"bk\", \"bl\", \"bn\", \"both\", \"bottom\", \"bp\", \"br\", \"brief\", \"briefly\", \"bs\", \"bt\", \"bu\", \"but\", \"bx\", \"by\", \"c\", \"c1\", \"c2\", \"c3\", \"ca\", \"call\", \"came\", \"can\", \"cannot\", \"cant\", \"can't\", \"cause\", \"causes\", \"cc\", \"cd\", \"ce\", \"certain\", \"certainly\", \"cf\", \"cg\", \"ch\", \"changes\", \"ci\", \"cit\", \"cj\", \"cl\", \"clearly\", \"cm\", \"c'mon\", \"cn\", \"co\", \"com\", \"come\", \"comes\", \"con\", \"concerning\", \"consequently\", \"consider\", \"considering\", \"contain\", \"containing\", \"contains\", \"corresponding\", \"could\", \"couldn\", \"couldnt\", \"couldn't\", \"course\", \"cp\", \"cq\", \"cr\", \"cry\", \"cs\", \"c's\", \"ct\", \"cu\", \"currently\", \"cv\", \"cx\", \"cy\", \"cz\", \"d\", \"d2\", \"da\", \"date\", \"dc\", \"dd\", \"de\", \"definitely\", \"describe\", \"described\", \"despite\", \"detail\", \"df\", \"di\", \"did\", \"didn\", \"didn't\", \"different\", \"dj\", \"dk\", \"dl\", \"do\", \"does\", \"doesn\", \"doesn't\", \"doing\", \"don\", \"done\", \"don't\", \"down\", \"downwards\", \"dp\", \"dr\", \"ds\", \"dt\", \"du\", \"due\", \"during\", \"dx\", \"dy\", \"e\", \"e2\", \"e3\", \"ea\", \"each\", \"ec\", \"ed\", \"edu\", \"ee\", \"ef\", \"effect\", \"eg\", \"ei\", \"eight\", \"eighty\", \"either\", \"ej\", \"el\", \"eleven\", \"else\", \"elsewhere\", \"em\", \"empty\", \"en\", \"end\", \"ending\", \"enough\", \"entirely\", \"eo\", \"ep\", \"eq\", \"er\", \"es\", \"especially\", \"est\", \"et\", \"et-al\", \"etc\", \"eu\", \"ev\", \"even\", \"ever\", \"every\", \"everybody\", \"everyone\", \"everything\", \"everywhere\", \"ex\", \"exactly\", \"example\", \"except\", \"ey\", \"f\", \"f2\", \"fa\", \"far\", \"fc\", \"few\", \"ff\", \"fi\", \"fifteen\", \"fifth\", \"fify\", \"fill\", \"find\", \"fire\", \"first\", \"five\", \"fix\", \"fj\", \"fl\", \"fn\", \"fo\", \"followed\", \"following\", \"follows\", \"for\", \"former\", \"formerly\", \"forth\", \"forty\", \"found\", \"four\", \"fr\", \"from\", \"front\", \"fs\", \"ft\", \"fu\", \"full\", \"further\", \"furthermore\", \"fy\", \"g\", \"ga\", \"gave\", \"ge\", \"get\", \"gets\", \"getting\", \"gi\", \"give\", \"given\", \"gives\", \"giving\", \"gj\", \"gl\", \"go\", \"goes\", \"going\", \"gone\", \"got\", \"gotten\", \"gr\", \"greetings\", \"gs\", \"gy\", \"h\", \"h2\", \"h3\", \"had\", \"hadn\", \"hadn't\", \"happens\", \"hardly\", \"has\", \"hasn\", \"hasnt\", \"hasn't\", \"have\", \"haven\", \"haven't\", \"having\", \"he\", \"hed\", \"he'd\", \"he'll\", \"hello\", \"help\", \"hence\", \"her\", \"here\", \"hereafter\", \"hereby\", \"herein\", \"heres\", \"here's\", \"hereupon\", \"hers\", \"herself\", \"hes\", \"he's\", \"hh\", \"hi\", \"hid\", \"him\", \"himself\", \"his\", \"hither\", \"hj\", \"ho\", \"home\", \"hopefully\", \"how\", \"howbeit\", \"however\", \"how's\", \"hr\", \"hs\", \"http\", \"hu\", \"hundred\", \"hy\", \"i\", \"i2\", \"i3\", \"i4\", \"i6\", \"i7\", \"i8\", \"ia\", \"ib\", \"ibid\", \"ic\", \"id\", \"i'd\", \"ie\", \"if\", \"ig\", \"ignored\", \"ih\", \"ii\", \"ij\", \"il\", \"i'll\", \"im\", \"i'm\", \"immediate\", \"immediately\", \"importance\", \"important\", \"in\", \"inasmuch\", \"inc\", \"indeed\", \"index\", \"indicate\", \"indicated\", \"indicates\", \"information\", \"inner\", \"insofar\", \"instead\", \"interest\", \"into\", \"invention\", \"inward\", \"io\", \"ip\", \"iq\", \"ir\", \"is\", \"isn\", \"isn't\", \"it\", \"itd\", \"it'd\", \"it'll\", \"its\", \"it's\", \"itself\", \"iv\", \"i've\", \"ix\", \"iy\", \"iz\", \"j\", \"jj\", \"jr\", \"js\", \"jt\", \"ju\", \"just\", \"k\", \"ke\", \"keep\", \"keeps\", \"kept\", \"kg\", \"kj\", \"km\", \"know\", \"known\", \"knows\", \"ko\", \"l\", \"l2\", \"la\", \"largely\", \"last\", \"lately\", \"later\", \"latter\", \"latterly\", \"lb\", \"lc\", \"le\", \"least\", \"les\", \"less\", \"lest\", \"let\", \"lets\", \"let's\", \"lf\", \"like\", \"liked\", \"likely\", \"line\", \"little\", \"lj\", \"ll\", \"ll\", \"ln\", \"lo\", \"look\", \"looking\", \"looks\", \"los\", \"lr\", \"ls\", \"lt\", \"ltd\", \"m\", \"m2\", \"ma\", \"made\", \"mainly\", \"make\", \"makes\", \"many\", \"may\", \"maybe\", \"me\", \"mean\", \"means\", \"meantime\", \"meanwhile\", \"merely\", \"mg\", \"might\", \"mightn\", \"mightn't\", \"mill\", \"million\", \"mine\", \"miss\", \"ml\", \"mn\", \"mo\", \"more\", \"moreover\", \"most\", \"mostly\", \"move\", \"mr\", \"mrs\", \"ms\", \"mt\", \"mu\", \"much\", \"mug\", \"must\", \"mustn\", \"mustn't\", \"my\", \"myself\", \"n\", \"n2\", \"na\", \"name\", \"namely\", \"nay\", \"nc\", \"nd\", \"ne\", \"near\", \"nearly\", \"necessarily\", \"necessary\", \"need\", \"needn\", \"needn't\", \"needs\", \"neither\", \"never\", \"nevertheless\", \"new\", \"next\", \"ng\", \"ni\", \"nine\", \"ninety\", \"nj\", \"nl\", \"nn\", \"no\", \"nobody\", \"non\", \"none\", \"nonetheless\", \"noone\", \"nor\", \"normally\", \"nos\", \"not\", \"noted\", \"nothing\", \"novel\", \"now\", \"nowhere\", \"nr\", \"ns\", \"nt\", \"ny\", \"o\", \"oa\", \"ob\", \"obtain\", \"obtained\", \"obviously\", \"oc\", \"od\", \"of\", \"off\", \"often\", \"og\", \"oh\", \"oi\", \"oj\", \"ok\", \"okay\", \"ol\", \"old\", \"om\", \"omitted\", \"on\", \"once\", \"one\", \"ones\", \"only\", \"onto\", \"oo\", \"op\", \"oq\", \"or\", \"ord\", \"os\", \"ot\", \"other\", \"others\", \"otherwise\", \"ou\", \"ought\", \"our\", \"ours\", \"ourselves\", \"out\", \"outside\", \"over\", \"overall\", \"ow\", \"owing\", \"own\", \"ox\", \"oz\", \"p\", \"p1\", \"p2\", \"p3\", \"page\", \"pagecount\", \"pages\", \"par\", \"part\", \"particular\", \"particularly\", \"pas\", \"past\", \"pc\", \"pd\", \"pe\", \"per\", \"perhaps\", \"pf\", \"ph\", \"pi\", \"pj\", \"pk\", \"pl\", \"placed\", \"please\", \"plus\", \"pm\", \"pn\", \"po\", \"poorly\", \"possible\", \"possibly\", \"potentially\", \"pp\", \"pq\", \"pr\", \"predominantly\", \"present\", \"presumably\", \"previously\", \"primarily\", \"probably\", \"promptly\", \"proud\", \"provides\", \"ps\", \"pt\", \"pu\", \"put\", \"py\", \"q\", \"qj\", \"qu\", \"que\", \"quickly\", \"quite\", \"qv\", \"r\", \"r2\", \"ra\", \"ran\", \"rather\", \"rc\", \"rd\", \"re\", \"readily\", \"really\", \"reasonably\", \"recent\", \"recently\", \"ref\", \"refs\", \"regarding\", \"regardless\", \"regards\", \"related\", \"relatively\", \"research\", \"research-articl\", \"respectively\", \"resulted\", \"resulting\", \"results\", \"rf\", \"rh\", \"ri\", \"right\", \"rj\", \"rl\", \"rm\", \"rn\", \"ro\", \"rq\", \"rr\", \"rs\", \"rt\", \"ru\", \"run\", \"rv\", \"ry\", \"s\", \"s2\", \"sa\", \"said\", \"same\", \"saw\", \"say\", \"saying\", \"says\", \"sc\", \"sd\", \"se\", \"sec\", \"second\", \"secondly\", \"section\", \"see\", \"seeing\", \"seem\", \"seemed\", \"seeming\", \"seems\", \"seen\", \"self\", \"selves\", \"sensible\", \"sent\", \"serious\", \"seriously\", \"seven\", \"several\", \"sf\", \"shall\", \"shan\", \"shan't\", \"she\", \"shed\", \"she'd\", \"she'll\", \"shes\", \"she's\", \"should\", \"shouldn\", \"shouldn't\", \"should've\", \"show\", \"showed\", \"shown\", \"showns\", \"shows\", \"si\", \"side\", \"significant\", \"significantly\", \"similar\", \"similarly\", \"since\", \"sincere\", \"six\", \"sixty\", \"sj\", \"sl\", \"slightly\", \"sm\", \"sn\", \"so\", \"some\", \"somebody\", \"somehow\", \"someone\", \"somethan\", \"something\", \"sometime\", \"sometimes\", \"somewhat\", \"somewhere\", \"soon\", \"sorry\", \"sp\", \"specifically\", \"specified\", \"specify\", \"specifying\", \"sq\", \"sr\", \"ss\", \"st\", \"still\", \"stop\", \"strongly\", \"sub\", \"substantially\", \"successfully\", \"such\", \"sufficiently\", \"suggest\", \"sup\", \"sure\", \"sy\", \"system\", \"sz\", \"t\", \"t1\", \"t2\", \"t3\", \"take\", \"taken\", \"taking\", \"tb\", \"tc\", \"td\", \"te\", \"tell\", \"ten\", \"tends\", \"tf\", \"th\", \"than\", \"thank\", \"thanks\", \"thanx\", \"that\", \"that'll\", \"thats\", \"that's\", \"that've\", \"the\", \"their\", \"theirs\", \"them\", \"themselves\", \"then\", \"thence\", \"there\", \"thereafter\", \"thereby\", \"thered\", \"therefore\", \"therein\", \"there'll\", \"thereof\", \"therere\", \"theres\", \"there's\", \"thereto\", \"thereupon\", \"there've\", \"these\", \"they\", \"theyd\", \"they'd\", \"they'll\", \"theyre\", \"they're\", \"they've\", \"thickv\", \"thin\", \"think\", \"third\", \"this\", \"thorough\", \"thoroughly\", \"those\", \"thou\", \"though\", \"thoughh\", \"thousand\", \"three\", \"throug\", \"through\", \"throughout\", \"thru\", \"thus\", \"ti\", \"til\", \"tip\", \"tj\", \"tl\", \"tm\", \"tn\", \"to\", \"together\", \"too\", \"took\", \"top\", \"toward\", \"towards\", \"tp\", \"tq\", \"tr\", \"tried\", \"tries\", \"truly\", \"try\", \"trying\", \"ts\", \"t's\", \"tt\", \"tv\", \"twelve\", \"twenty\", \"twice\", \"two\", \"tx\", \"u\", \"u201d\", \"ue\", \"ui\", \"uj\", \"uk\", \"um\", \"un\", \"under\", \"unfortunately\", \"unless\", \"unlike\", \"unlikely\", \"until\", \"unto\", \"uo\", \"up\", \"upon\", \"ups\", \"ur\", \"us\", \"use\", \"used\", \"useful\", \"usefully\", \"usefulness\", \"uses\", \"using\", \"usually\", \"ut\", \"v\", \"va\", \"value\", \"various\", \"vd\", \"ve\", \"ve\", \"very\", \"via\", \"viz\", \"vj\", \"vo\", \"vol\", \"vols\", \"volumtype\", \"vq\", \"vs\", \"vt\", \"vu\", \"w\", \"wa\", \"want\", \"wants\", \"was\", \"wasn\", \"wasnt\", \"wasn't\", \"way\", \"we\", \"wed\", \"we'd\", \"welcome\", \"well\", \"we'll\", \"well-b\", \"went\", \"were\", \"we're\", \"weren\", \"werent\", \"weren't\", \"we've\", \"what\", \"whatever\", \"what'll\", \"whats\", \"what's\", \"when\", \"whence\", \"whenever\", \"when's\", \"where\", \"whereafter\", \"whereas\", \"whereby\", \"wherein\", \"wheres\", \"where's\", \"whereupon\", \"wherever\", \"whether\", \"which\", \"while\", \"whim\", \"whither\", \"who\", \"whod\", \"whoever\", \"whole\", \"who'll\", \"whom\", \"whomever\", \"whos\", \"who's\", \"whose\", \"why\", \"why's\", \"wi\", \"widely\", \"will\", \"willing\", \"wish\", \"with\", \"within\", \"without\", \"wo\", \"won\", \"wonder\", \"wont\", \"won't\", \"words\", \"world\", \"would\", \"wouldn\", \"wouldnt\", \"wouldn't\", \"www\", \"x\", \"x1\", \"x2\", \"x3\", \"xf\", \"xi\", \"xj\", \"xk\", \"xl\", \"xn\", \"xo\", \"xs\", \"xt\", \"xv\", \"xx\", \"y\", \"y2\", \"yes\", \"yet\", \"yj\", \"yl\", \"you\", \"youd\", \"you'd\", \"you'll\", \"your\", \"youre\", \"you're\", \"yours\", \"yourself\", \"yourselves\", \"you've\", \"yr\", \"ys\", \"yt\", \"z\", \"zero\", \"zi\", \"zz\"]\n",
    "type(stop_words), len(stop_words)"
   ]
  },
  {
   "cell_type": "markdown",
   "id": "ecc05304",
   "metadata": {
    "papermill": {
     "duration": 0.031281,
     "end_time": "2023-07-03T19:55:51.011639",
     "exception": false,
     "start_time": "2023-07-03T19:55:50.980358",
     "status": "completed"
    },
    "tags": []
   },
   "source": [
    "## Feature extraction  "
   ]
  },
  {
   "cell_type": "markdown",
   "id": "9d79c521",
   "metadata": {
    "papermill": {
     "duration": 0.034562,
     "end_time": "2023-07-03T19:55:51.078887",
     "exception": false,
     "start_time": "2023-07-03T19:55:51.044325",
     "status": "completed"
    },
    "tags": []
   },
   "source": [
    "### Understand CountVectorizer and TfidfVectorizer  "
   ]
  },
  {
   "cell_type": "code",
   "execution_count": 15,
   "id": "a37c9f12",
   "metadata": {
    "execution": {
     "iopub.execute_input": "2023-07-03T19:55:51.145941Z",
     "iopub.status.busy": "2023-07-03T19:55:51.145506Z",
     "iopub.status.idle": "2023-07-03T19:55:51.150191Z",
     "shell.execute_reply": "2023-07-03T19:55:51.149070Z"
    },
    "papermill": {
     "duration": 0.040645,
     "end_time": "2023-07-03T19:55:51.152459",
     "exception": false,
     "start_time": "2023-07-03T19:55:51.111814",
     "status": "completed"
    },
    "tags": []
   },
   "outputs": [],
   "source": [
    "# text = X_train.copy()\n",
    "# text.head()"
   ]
  },
  {
   "cell_type": "code",
   "execution_count": 16,
   "id": "06f23a8a",
   "metadata": {
    "execution": {
     "iopub.execute_input": "2023-07-03T19:55:51.218202Z",
     "iopub.status.busy": "2023-07-03T19:55:51.217174Z",
     "iopub.status.idle": "2023-07-03T19:55:51.222053Z",
     "shell.execute_reply": "2023-07-03T19:55:51.221223Z"
    },
    "papermill": {
     "duration": 0.04035,
     "end_time": "2023-07-03T19:55:51.224372",
     "exception": false,
     "start_time": "2023-07-03T19:55:51.184022",
     "status": "completed"
    },
    "tags": []
   },
   "outputs": [],
   "source": [
    "# vectorizer = TfidfVectorizer(stop_words=stop_words)\n",
    "# vectorized_text = vectorizer.fit_transform(text[\"reviewText\"])\n",
    "# vectorized_text"
   ]
  },
  {
   "cell_type": "markdown",
   "id": "1317ff31",
   "metadata": {
    "papermill": {
     "duration": 0.031549,
     "end_time": "2023-07-03T19:55:51.288079",
     "exception": false,
     "start_time": "2023-07-03T19:55:51.256530",
     "status": "completed"
    },
    "tags": []
   },
   "source": [
    "`Without stop words`  \n",
    "<122068x58624 sparse matrix of type '<class 'numpy.float64'>'\n",
    "\twith 2312222 stored elements in Compressed Sparse Row format>\n",
    "\n",
    "`With stop words`  \n",
    "<122068x57784 sparse matrix of type '<class 'numpy.float64'>'\n",
    "\twith 1188395 stored elements in Compressed Sparse Row format>   "
   ]
  },
  {
   "cell_type": "code",
   "execution_count": 17,
   "id": "646f7b74",
   "metadata": {
    "execution": {
     "iopub.execute_input": "2023-07-03T19:55:51.353713Z",
     "iopub.status.busy": "2023-07-03T19:55:51.352952Z",
     "iopub.status.idle": "2023-07-03T19:55:51.357757Z",
     "shell.execute_reply": "2023-07-03T19:55:51.356979Z"
    },
    "papermill": {
     "duration": 0.039999,
     "end_time": "2023-07-03T19:55:51.359905",
     "exception": false,
     "start_time": "2023-07-03T19:55:51.319906",
     "status": "completed"
    },
    "tags": []
   },
   "outputs": [],
   "source": [
    "# vectorizer2 = CountVectorizer(stop_words=stop_words)\n",
    "# vectorized_text2 = vectorizer2.fit_transform(text[\"reviewText\"])\n",
    "# vectorized_text2"
   ]
  },
  {
   "cell_type": "markdown",
   "id": "d0985bad",
   "metadata": {
    "papermill": {
     "duration": 0.031471,
     "end_time": "2023-07-03T19:55:51.423039",
     "exception": false,
     "start_time": "2023-07-03T19:55:51.391568",
     "status": "completed"
    },
    "tags": []
   },
   "source": [
    "`Without stop words`  \n",
    "<122068x58624 sparse matrix of type '<class 'numpy.int64'>'\n",
    "\twith 2312222 stored elements in Compressed Sparse Row format>\n",
    "\n",
    "`With stop words`  \n",
    "<122068x57784 sparse matrix of type '<class 'numpy.int64'>'\n",
    "\twith 1188395 stored elements in Compressed Sparse Row format>"
   ]
  },
  {
   "cell_type": "markdown",
   "id": "884c97ba",
   "metadata": {
    "papermill": {
     "duration": 0.031165,
     "end_time": "2023-07-03T19:55:51.485736",
     "exception": false,
     "start_time": "2023-07-03T19:55:51.454571",
     "status": "completed"
    },
    "tags": []
   },
   "source": [
    "### Conclusion   \n",
    "`TfidfVectorizer is equivalent to CountVectorizer followed by TfidfTransformer.`  \n",
    "\n",
    "https://scikit-learn.org/stable/modules/generated/sklearn.feature_extraction.text.TfidfVectorizer.html"
   ]
  },
  {
   "cell_type": "markdown",
   "id": "4d13bbd6",
   "metadata": {
    "papermill": {
     "duration": 0.031197,
     "end_time": "2023-07-03T19:55:51.548512",
     "exception": false,
     "start_time": "2023-07-03T19:55:51.517315",
     "status": "completed"
    },
    "tags": []
   },
   "source": [
    "## Model building workflow  \n",
    "\n",
    "`Make pipeline for preprocesing and model training and predictions`  \n"
   ]
  },
  {
   "cell_type": "code",
   "execution_count": 18,
   "id": "f68d97de",
   "metadata": {
    "execution": {
     "iopub.execute_input": "2023-07-03T19:55:51.615154Z",
     "iopub.status.busy": "2023-07-03T19:55:51.614254Z",
     "iopub.status.idle": "2023-07-03T19:55:51.618630Z",
     "shell.execute_reply": "2023-07-03T19:55:51.617850Z"
    },
    "papermill": {
     "duration": 0.03998,
     "end_time": "2023-07-03T19:55:51.620954",
     "exception": false,
     "start_time": "2023-07-03T19:55:51.580974",
     "status": "completed"
    },
    "tags": []
   },
   "outputs": [],
   "source": [
    "from sklearn.pipeline import Pipeline"
   ]
  },
  {
   "cell_type": "code",
   "execution_count": 19,
   "id": "7cbdf6a2",
   "metadata": {
    "execution": {
     "iopub.execute_input": "2023-07-03T19:55:51.686727Z",
     "iopub.status.busy": "2023-07-03T19:55:51.686358Z",
     "iopub.status.idle": "2023-07-03T19:55:51.693719Z",
     "shell.execute_reply": "2023-07-03T19:55:51.692665Z"
    },
    "papermill": {
     "duration": 0.043175,
     "end_time": "2023-07-03T19:55:51.696067",
     "exception": false,
     "start_time": "2023-07-03T19:55:51.652892",
     "status": "completed"
    },
    "tags": []
   },
   "outputs": [],
   "source": [
    "def preprocess_n_train(X_train, y_train, preprocessor, model):\n",
    "    pipe = Pipeline(steps=[\n",
    "                            (\"preprocessor\", preprocessor),\n",
    "                            (\"model\", model)\n",
    "                        ])\n",
    "    \n",
    "    pipe.fit(X_train, y_train)\n",
    "\n",
    "    print(\"Given model has been trained. Use predict method to get predictions array.\")\n",
    "    return pipe\n",
    "\n",
    "\n",
    "def predict_n_evaluate(pipeline, X_test, y_test):\n",
    "    y_pred = pipeline.predict(X_test)\n",
    "    print(f\"y_pred shape: {y_pred.shape}\")\n",
    "    print(f\"Summary of predictions: {np.unique(y_pred, return_counts=True)}\")\n",
    "    print(classification_report(y_test, y_pred))\n",
    "    print(confusion_matrix(y_test, y_pred))\n",
    "    return y_pred\n",
    "\n",
    "# def evaluate(y_test, y_pred):\n",
    "#     print(classification_report(y_test, y_pred))\n",
    "#     print(confusion_matrix(y_test, y_pred))\n",
    "#     # print(f1_score(y_test, y_pred))\n",
    "#     ConfusionMatrixDisplay(y_test, y_pred)\n",
    "#     return"
   ]
  },
  {
   "cell_type": "markdown",
   "id": "624b7203",
   "metadata": {
    "papermill": {
     "duration": 0.031368,
     "end_time": "2023-07-03T19:55:51.759494",
     "exception": false,
     "start_time": "2023-07-03T19:55:51.728126",
     "status": "completed"
    },
    "tags": []
   },
   "source": [
    "## Preprocessor(s)  "
   ]
  },
  {
   "cell_type": "code",
   "execution_count": 20,
   "id": "1867929b",
   "metadata": {
    "execution": {
     "iopub.execute_input": "2023-07-03T19:55:51.825328Z",
     "iopub.status.busy": "2023-07-03T19:55:51.824882Z",
     "iopub.status.idle": "2023-07-03T19:55:51.829089Z",
     "shell.execute_reply": "2023-07-03T19:55:51.828022Z"
    },
    "papermill": {
     "duration": 0.039804,
     "end_time": "2023-07-03T19:55:51.831489",
     "exception": false,
     "start_time": "2023-07-03T19:55:51.791685",
     "status": "completed"
    },
    "tags": []
   },
   "outputs": [],
   "source": [
    "# tvec = TfidfVectorizer()\n",
    "# tvec_sw = TfidfVectorizer(stop_words=stop_words)"
   ]
  },
  {
   "cell_type": "markdown",
   "id": "906c70ce",
   "metadata": {
    "papermill": {
     "duration": 0.032102,
     "end_time": "2023-07-03T19:55:51.896017",
     "exception": false,
     "start_time": "2023-07-03T19:55:51.863915",
     "status": "completed"
    },
    "tags": []
   },
   "source": [
    "## Logistic Regression with TfidVectorizer for preprocessing  "
   ]
  },
  {
   "cell_type": "code",
   "execution_count": 21,
   "id": "d4db05ac",
   "metadata": {
    "execution": {
     "iopub.execute_input": "2023-07-03T19:55:51.963061Z",
     "iopub.status.busy": "2023-07-03T19:55:51.962667Z",
     "iopub.status.idle": "2023-07-03T19:55:51.967241Z",
     "shell.execute_reply": "2023-07-03T19:55:51.966182Z"
    },
    "papermill": {
     "duration": 0.041634,
     "end_time": "2023-07-03T19:55:51.969757",
     "exception": false,
     "start_time": "2023-07-03T19:55:51.928123",
     "status": "completed"
    },
    "tags": []
   },
   "outputs": [],
   "source": [
    "from sklearn.linear_model import LogisticRegression"
   ]
  },
  {
   "cell_type": "code",
   "execution_count": 22,
   "id": "60a342b2",
   "metadata": {
    "execution": {
     "iopub.execute_input": "2023-07-03T19:55:52.035305Z",
     "iopub.status.busy": "2023-07-03T19:55:52.034926Z",
     "iopub.status.idle": "2023-07-03T19:55:52.039196Z",
     "shell.execute_reply": "2023-07-03T19:55:52.038131Z"
    },
    "papermill": {
     "duration": 0.039874,
     "end_time": "2023-07-03T19:55:52.041508",
     "exception": false,
     "start_time": "2023-07-03T19:55:52.001634",
     "status": "completed"
    },
    "tags": []
   },
   "outputs": [],
   "source": [
    "# logreg = LogisticRegression(max_iter=1000)\n",
    "# logreg"
   ]
  },
  {
   "cell_type": "code",
   "execution_count": 23,
   "id": "09c7318f",
   "metadata": {
    "execution": {
     "iopub.execute_input": "2023-07-03T19:55:52.108670Z",
     "iopub.status.busy": "2023-07-03T19:55:52.108306Z",
     "iopub.status.idle": "2023-07-03T19:55:52.112802Z",
     "shell.execute_reply": "2023-07-03T19:55:52.111590Z"
    },
    "papermill": {
     "duration": 0.040027,
     "end_time": "2023-07-03T19:55:52.115286",
     "exception": false,
     "start_time": "2023-07-03T19:55:52.075259",
     "status": "completed"
    },
    "tags": []
   },
   "outputs": [],
   "source": [
    "# tvec = TfidfVectorizer()\n",
    "# cvec = CountVectorizer()        # Note that TfidfVectorizer and CountVectorizer+TfidsTransformer do the same function\n",
    "# tvec, cvec"
   ]
  },
  {
   "cell_type": "code",
   "execution_count": 24,
   "id": "97678ced",
   "metadata": {
    "execution": {
     "iopub.execute_input": "2023-07-03T19:55:52.181351Z",
     "iopub.status.busy": "2023-07-03T19:55:52.180974Z",
     "iopub.status.idle": "2023-07-03T19:55:52.185548Z",
     "shell.execute_reply": "2023-07-03T19:55:52.184470Z"
    },
    "papermill": {
     "duration": 0.039779,
     "end_time": "2023-07-03T19:55:52.187724",
     "exception": false,
     "start_time": "2023-07-03T19:55:52.147945",
     "status": "completed"
    },
    "tags": []
   },
   "outputs": [],
   "source": [
    "# logreg_pipe = preprocess_n_train(X_train, y_train, tvec, logreg)\n",
    "# logreg_pipe"
   ]
  },
  {
   "cell_type": "code",
   "execution_count": 25,
   "id": "9a572a07",
   "metadata": {
    "execution": {
     "iopub.execute_input": "2023-07-03T19:55:52.253608Z",
     "iopub.status.busy": "2023-07-03T19:55:52.252965Z",
     "iopub.status.idle": "2023-07-03T19:55:52.256566Z",
     "shell.execute_reply": "2023-07-03T19:55:52.255847Z"
    },
    "papermill": {
     "duration": 0.039048,
     "end_time": "2023-07-03T19:55:52.258962",
     "exception": false,
     "start_time": "2023-07-03T19:55:52.219914",
     "status": "completed"
    },
    "tags": []
   },
   "outputs": [],
   "source": [
    "# y_pred_logreg = predict_n_evaluate(logreg_pipe, X_test, y_test)\n",
    "# y_pred_logreg"
   ]
  },
  {
   "cell_type": "markdown",
   "id": "bf57956c",
   "metadata": {
    "papermill": {
     "duration": 0.032459,
     "end_time": "2023-07-03T19:55:52.324507",
     "exception": false,
     "start_time": "2023-07-03T19:55:52.292048",
     "status": "completed"
    },
    "tags": []
   },
   "source": [
    "### Logistic Regression with stop words  "
   ]
  },
  {
   "cell_type": "code",
   "execution_count": 26,
   "id": "6b134bfc",
   "metadata": {
    "execution": {
     "iopub.execute_input": "2023-07-03T19:55:52.390690Z",
     "iopub.status.busy": "2023-07-03T19:55:52.390022Z",
     "iopub.status.idle": "2023-07-03T19:55:52.393747Z",
     "shell.execute_reply": "2023-07-03T19:55:52.393007Z"
    },
    "papermill": {
     "duration": 0.039249,
     "end_time": "2023-07-03T19:55:52.395895",
     "exception": false,
     "start_time": "2023-07-03T19:55:52.356646",
     "status": "completed"
    },
    "tags": []
   },
   "outputs": [],
   "source": [
    "# tvec_sw = TfidfVectorizer(stop_words=stop_words)"
   ]
  },
  {
   "cell_type": "code",
   "execution_count": 27,
   "id": "54d5823e",
   "metadata": {
    "execution": {
     "iopub.execute_input": "2023-07-03T19:55:52.461319Z",
     "iopub.status.busy": "2023-07-03T19:55:52.460893Z",
     "iopub.status.idle": "2023-07-03T19:55:52.466073Z",
     "shell.execute_reply": "2023-07-03T19:55:52.464926Z"
    },
    "papermill": {
     "duration": 0.040642,
     "end_time": "2023-07-03T19:55:52.468440",
     "exception": false,
     "start_time": "2023-07-03T19:55:52.427798",
     "status": "completed"
    },
    "tags": []
   },
   "outputs": [],
   "source": [
    "# logreg_sw_pipe = preprocess_n_train(X_train, y_train, tvec_sw, logreg)\n",
    "# logreg_sw_pipe"
   ]
  },
  {
   "cell_type": "code",
   "execution_count": 28,
   "id": "bb0d6497",
   "metadata": {
    "execution": {
     "iopub.execute_input": "2023-07-03T19:55:52.534258Z",
     "iopub.status.busy": "2023-07-03T19:55:52.533481Z",
     "iopub.status.idle": "2023-07-03T19:55:52.537573Z",
     "shell.execute_reply": "2023-07-03T19:55:52.536732Z"
    },
    "papermill": {
     "duration": 0.039534,
     "end_time": "2023-07-03T19:55:52.539729",
     "exception": false,
     "start_time": "2023-07-03T19:55:52.500195",
     "status": "completed"
    },
    "tags": []
   },
   "outputs": [],
   "source": [
    "# y_pred_logreg_sw = predict_n_evaluate(logreg_sw_pipe, X_test, y_test)\n",
    "# y_pred_logreg_sw"
   ]
  },
  {
   "cell_type": "markdown",
   "id": "a9b13400",
   "metadata": {
    "papermill": {
     "duration": 0.031338,
     "end_time": "2023-07-03T19:55:52.602685",
     "exception": false,
     "start_time": "2023-07-03T19:55:52.571347",
     "status": "completed"
    },
    "tags": []
   },
   "source": [
    "### Logistic regression with different ngram ranges  "
   ]
  },
  {
   "cell_type": "markdown",
   "id": "c3564dd6",
   "metadata": {
    "papermill": {
     "duration": 0.031425,
     "end_time": "2023-07-03T19:55:52.666439",
     "exception": false,
     "start_time": "2023-07-03T19:55:52.635014",
     "status": "completed"
    },
    "tags": []
   },
   "source": [
    "#### ngram range (1,2)  "
   ]
  },
  {
   "cell_type": "code",
   "execution_count": 29,
   "id": "b9c1d572",
   "metadata": {
    "execution": {
     "iopub.execute_input": "2023-07-03T19:55:52.732097Z",
     "iopub.status.busy": "2023-07-03T19:55:52.731680Z",
     "iopub.status.idle": "2023-07-03T19:55:52.736193Z",
     "shell.execute_reply": "2023-07-03T19:55:52.735046Z"
    },
    "papermill": {
     "duration": 0.040117,
     "end_time": "2023-07-03T19:55:52.738436",
     "exception": false,
     "start_time": "2023-07-03T19:55:52.698319",
     "status": "completed"
    },
    "tags": []
   },
   "outputs": [],
   "source": [
    "# tvec_ngram_2 = TfidfVectorizer(ngram_range=(1,2))"
   ]
  },
  {
   "cell_type": "code",
   "execution_count": 30,
   "id": "708163e0",
   "metadata": {
    "execution": {
     "iopub.execute_input": "2023-07-03T19:55:52.805038Z",
     "iopub.status.busy": "2023-07-03T19:55:52.804298Z",
     "iopub.status.idle": "2023-07-03T19:55:52.808507Z",
     "shell.execute_reply": "2023-07-03T19:55:52.807602Z"
    },
    "papermill": {
     "duration": 0.040298,
     "end_time": "2023-07-03T19:55:52.810674",
     "exception": false,
     "start_time": "2023-07-03T19:55:52.770376",
     "status": "completed"
    },
    "tags": []
   },
   "outputs": [],
   "source": [
    "# logreg_ng2_pipe = preprocess_n_train(X_train, y_train, tvec_ngram_2, logreg)\n",
    "# logreg_ng2_pipe"
   ]
  },
  {
   "cell_type": "code",
   "execution_count": 31,
   "id": "8791716c",
   "metadata": {
    "execution": {
     "iopub.execute_input": "2023-07-03T19:55:52.876857Z",
     "iopub.status.busy": "2023-07-03T19:55:52.875679Z",
     "iopub.status.idle": "2023-07-03T19:55:52.880433Z",
     "shell.execute_reply": "2023-07-03T19:55:52.879481Z"
    },
    "papermill": {
     "duration": 0.039856,
     "end_time": "2023-07-03T19:55:52.882478",
     "exception": false,
     "start_time": "2023-07-03T19:55:52.842622",
     "status": "completed"
    },
    "tags": []
   },
   "outputs": [],
   "source": [
    "# y_pred_logreg_ng2 = predict_n_evaluate(logreg_ng2_pipe, X_test, y_test)\n",
    "# y_pred_logreg_ng2"
   ]
  },
  {
   "cell_type": "markdown",
   "id": "6c742f61",
   "metadata": {
    "papermill": {
     "duration": 0.031648,
     "end_time": "2023-07-03T19:55:52.945896",
     "exception": false,
     "start_time": "2023-07-03T19:55:52.914248",
     "status": "completed"
    },
    "tags": []
   },
   "source": [
    "### Logistic regression with C=2, ngram range (1,2), stop words as None and min_df, max_df adjusted\n",
    "### Class weight balanced"
   ]
  },
  {
   "cell_type": "code",
   "execution_count": 32,
   "id": "e810772e",
   "metadata": {
    "execution": {
     "iopub.execute_input": "2023-07-03T19:55:53.010970Z",
     "iopub.status.busy": "2023-07-03T19:55:53.010560Z",
     "iopub.status.idle": "2023-07-03T19:55:53.015215Z",
     "shell.execute_reply": "2023-07-03T19:55:53.013986Z"
    },
    "papermill": {
     "duration": 0.039925,
     "end_time": "2023-07-03T19:55:53.017480",
     "exception": false,
     "start_time": "2023-07-03T19:55:52.977555",
     "status": "completed"
    },
    "tags": []
   },
   "outputs": [],
   "source": [
    "# logreg = LogisticRegression(max_iter=100000, C=2, class_weight=\"balanced\")"
   ]
  },
  {
   "cell_type": "code",
   "execution_count": 33,
   "id": "bbbd7d60",
   "metadata": {
    "execution": {
     "iopub.execute_input": "2023-07-03T19:55:53.085682Z",
     "iopub.status.busy": "2023-07-03T19:55:53.084389Z",
     "iopub.status.idle": "2023-07-03T19:55:53.089819Z",
     "shell.execute_reply": "2023-07-03T19:55:53.088761Z"
    },
    "papermill": {
     "duration": 0.042245,
     "end_time": "2023-07-03T19:55:53.092134",
     "exception": false,
     "start_time": "2023-07-03T19:55:53.049889",
     "status": "completed"
    },
    "tags": []
   },
   "outputs": [],
   "source": [
    "# tvec_ngram_2_sw_df = TfidfVectorizer(ngram_range=(1,2), stop_words=None, min_df=0.0001, max_df=0.50)\n",
    "# tvec_ngram_2_sw_df"
   ]
  },
  {
   "cell_type": "code",
   "execution_count": 34,
   "id": "99e12be1",
   "metadata": {
    "execution": {
     "iopub.execute_input": "2023-07-03T19:55:53.159313Z",
     "iopub.status.busy": "2023-07-03T19:55:53.158159Z",
     "iopub.status.idle": "2023-07-03T19:55:53.162436Z",
     "shell.execute_reply": "2023-07-03T19:55:53.161633Z"
    },
    "papermill": {
     "duration": 0.039213,
     "end_time": "2023-07-03T19:55:53.164540",
     "exception": false,
     "start_time": "2023-07-03T19:55:53.125327",
     "status": "completed"
    },
    "tags": []
   },
   "outputs": [],
   "source": [
    "# logreg_ng2_sw_df_pipe = preprocess_n_train(X_train, y_train, tvec_ngram_2_sw_df, logreg)\n",
    "# logreg_ng2_sw_df_pipe"
   ]
  },
  {
   "cell_type": "code",
   "execution_count": 35,
   "id": "5ad3643e",
   "metadata": {
    "execution": {
     "iopub.execute_input": "2023-07-03T19:55:53.230345Z",
     "iopub.status.busy": "2023-07-03T19:55:53.229740Z",
     "iopub.status.idle": "2023-07-03T19:55:53.233750Z",
     "shell.execute_reply": "2023-07-03T19:55:53.232794Z"
    },
    "papermill": {
     "duration": 0.039975,
     "end_time": "2023-07-03T19:55:53.236223",
     "exception": false,
     "start_time": "2023-07-03T19:55:53.196248",
     "status": "completed"
    },
    "tags": []
   },
   "outputs": [],
   "source": [
    "# y_pred_logreg_ng2_sw_df = predict_n_evaluate(logreg_ng2_sw_df_pipe, X_test, y_test)\n",
    "# y_pred_logreg_ng2_sw_df"
   ]
  },
  {
   "cell_type": "markdown",
   "id": "82aa5feb",
   "metadata": {
    "papermill": {
     "duration": 0.031486,
     "end_time": "2023-07-03T19:55:53.299758",
     "exception": false,
     "start_time": "2023-07-03T19:55:53.268272",
     "status": "completed"
    },
    "tags": []
   },
   "source": [
    "## Log reg with parameters from GridSearchCV  \n",
    "\n",
    "`This is the best score with \"reviewText column alone for analysis`  "
   ]
  },
  {
   "cell_type": "code",
   "execution_count": 36,
   "id": "622296f9",
   "metadata": {
    "execution": {
     "iopub.execute_input": "2023-07-03T19:55:53.365355Z",
     "iopub.status.busy": "2023-07-03T19:55:53.364972Z",
     "iopub.status.idle": "2023-07-03T19:55:53.369145Z",
     "shell.execute_reply": "2023-07-03T19:55:53.368144Z"
    },
    "papermill": {
     "duration": 0.039665,
     "end_time": "2023-07-03T19:55:53.371329",
     "exception": false,
     "start_time": "2023-07-03T19:55:53.331664",
     "status": "completed"
    },
    "tags": []
   },
   "outputs": [],
   "source": [
    "# logreg_cv1 = LogisticRegression(max_iter=100000, C=10)\n",
    "# tvec_cv1 = TfidfVectorizer(max_features=None, ngram_range=(1,2))"
   ]
  },
  {
   "cell_type": "code",
   "execution_count": 37,
   "id": "17b02b09",
   "metadata": {
    "execution": {
     "iopub.execute_input": "2023-07-03T19:55:53.436694Z",
     "iopub.status.busy": "2023-07-03T19:55:53.436316Z",
     "iopub.status.idle": "2023-07-03T19:55:53.440587Z",
     "shell.execute_reply": "2023-07-03T19:55:53.439482Z"
    },
    "papermill": {
     "duration": 0.039791,
     "end_time": "2023-07-03T19:55:53.442792",
     "exception": false,
     "start_time": "2023-07-03T19:55:53.403001",
     "status": "completed"
    },
    "tags": []
   },
   "outputs": [],
   "source": [
    "# pipe_cv1 = Pipeline(steps=[\n",
    "#     (\"preprocessor\", tvec_cv1),\n",
    "#     (\"model\", logreg_cv1)\n",
    "# ])"
   ]
  },
  {
   "cell_type": "code",
   "execution_count": 38,
   "id": "6f5977dc",
   "metadata": {
    "execution": {
     "iopub.execute_input": "2023-07-03T19:55:53.508091Z",
     "iopub.status.busy": "2023-07-03T19:55:53.507463Z",
     "iopub.status.idle": "2023-07-03T19:55:53.511770Z",
     "shell.execute_reply": "2023-07-03T19:55:53.510575Z"
    },
    "papermill": {
     "duration": 0.040558,
     "end_time": "2023-07-03T19:55:53.514873",
     "exception": false,
     "start_time": "2023-07-03T19:55:53.474315",
     "status": "completed"
    },
    "tags": []
   },
   "outputs": [],
   "source": [
    "# pipe_cv1.fit(X_train, y_train)"
   ]
  },
  {
   "cell_type": "markdown",
   "id": "d1b98d27",
   "metadata": {
    "papermill": {
     "duration": 0.031847,
     "end_time": "2023-07-03T19:55:53.579081",
     "exception": false,
     "start_time": "2023-07-03T19:55:53.547234",
     "status": "completed"
    },
    "tags": []
   },
   "source": [
    "## SVM model  "
   ]
  },
  {
   "cell_type": "code",
   "execution_count": 39,
   "id": "f9ace57e",
   "metadata": {
    "execution": {
     "iopub.execute_input": "2023-07-03T19:55:53.645306Z",
     "iopub.status.busy": "2023-07-03T19:55:53.644666Z",
     "iopub.status.idle": "2023-07-03T19:55:53.650197Z",
     "shell.execute_reply": "2023-07-03T19:55:53.649041Z"
    },
    "papermill": {
     "duration": 0.041307,
     "end_time": "2023-07-03T19:55:53.652593",
     "exception": false,
     "start_time": "2023-07-03T19:55:53.611286",
     "status": "completed"
    },
    "tags": []
   },
   "outputs": [],
   "source": [
    "# from sklearn.svm import LinearSVC"
   ]
  },
  {
   "cell_type": "code",
   "execution_count": 40,
   "id": "0ae89413",
   "metadata": {
    "execution": {
     "iopub.execute_input": "2023-07-03T19:55:53.718514Z",
     "iopub.status.busy": "2023-07-03T19:55:53.718099Z",
     "iopub.status.idle": "2023-07-03T19:55:53.722581Z",
     "shell.execute_reply": "2023-07-03T19:55:53.721604Z"
    },
    "papermill": {
     "duration": 0.039715,
     "end_time": "2023-07-03T19:55:53.724896",
     "exception": false,
     "start_time": "2023-07-03T19:55:53.685181",
     "status": "completed"
    },
    "tags": []
   },
   "outputs": [],
   "source": [
    "# svm = LinearSVC()\n",
    "# svm"
   ]
  },
  {
   "cell_type": "code",
   "execution_count": 41,
   "id": "89c2de26",
   "metadata": {
    "execution": {
     "iopub.execute_input": "2023-07-03T19:55:53.791005Z",
     "iopub.status.busy": "2023-07-03T19:55:53.790595Z",
     "iopub.status.idle": "2023-07-03T19:55:53.794759Z",
     "shell.execute_reply": "2023-07-03T19:55:53.793977Z"
    },
    "papermill": {
     "duration": 0.039669,
     "end_time": "2023-07-03T19:55:53.796802",
     "exception": false,
     "start_time": "2023-07-03T19:55:53.757133",
     "status": "completed"
    },
    "tags": []
   },
   "outputs": [],
   "source": [
    "# svm_pipe = preprocess_n_train(X_train, y_train, tvec, svm)\n",
    "# svm_pipe"
   ]
  },
  {
   "cell_type": "code",
   "execution_count": 42,
   "id": "7ed8314d",
   "metadata": {
    "execution": {
     "iopub.execute_input": "2023-07-03T19:55:53.861823Z",
     "iopub.status.busy": "2023-07-03T19:55:53.861398Z",
     "iopub.status.idle": "2023-07-03T19:55:53.865997Z",
     "shell.execute_reply": "2023-07-03T19:55:53.865002Z"
    },
    "papermill": {
     "duration": 0.039384,
     "end_time": "2023-07-03T19:55:53.867955",
     "exception": false,
     "start_time": "2023-07-03T19:55:53.828571",
     "status": "completed"
    },
    "tags": []
   },
   "outputs": [],
   "source": [
    "# y_pred_svm = predict_n_evaluate(svm_pipe, X_test, y_test)\n",
    "# y_pred_svm"
   ]
  },
  {
   "cell_type": "markdown",
   "id": "336250e0",
   "metadata": {
    "papermill": {
     "duration": 0.031421,
     "end_time": "2023-07-03T19:55:53.930969",
     "exception": false,
     "start_time": "2023-07-03T19:55:53.899548",
     "status": "completed"
    },
    "tags": []
   },
   "source": [
    "### SVM model with stop words  "
   ]
  },
  {
   "cell_type": "code",
   "execution_count": 43,
   "id": "e06e5ed1",
   "metadata": {
    "execution": {
     "iopub.execute_input": "2023-07-03T19:55:53.996155Z",
     "iopub.status.busy": "2023-07-03T19:55:53.995770Z",
     "iopub.status.idle": "2023-07-03T19:55:54.000081Z",
     "shell.execute_reply": "2023-07-03T19:55:53.998889Z"
    },
    "papermill": {
     "duration": 0.039363,
     "end_time": "2023-07-03T19:55:54.002198",
     "exception": false,
     "start_time": "2023-07-03T19:55:53.962835",
     "status": "completed"
    },
    "tags": []
   },
   "outputs": [],
   "source": [
    "# svm_sw_pipe = preprocess_n_train(X_train, y_train, tvec_sw, svm)\n",
    "# svm_sw_pipe"
   ]
  },
  {
   "cell_type": "code",
   "execution_count": 44,
   "id": "4d15ea75",
   "metadata": {
    "execution": {
     "iopub.execute_input": "2023-07-03T19:55:54.067610Z",
     "iopub.status.busy": "2023-07-03T19:55:54.067242Z",
     "iopub.status.idle": "2023-07-03T19:55:54.071232Z",
     "shell.execute_reply": "2023-07-03T19:55:54.070253Z"
    },
    "papermill": {
     "duration": 0.039989,
     "end_time": "2023-07-03T19:55:54.074179",
     "exception": false,
     "start_time": "2023-07-03T19:55:54.034190",
     "status": "completed"
    },
    "tags": []
   },
   "outputs": [],
   "source": [
    "# y_pred_svm_sw = predict_n_evaluate(svm_sw_pipe, X_test, y_test)\n",
    "# y_pred_svm_sw"
   ]
  },
  {
   "cell_type": "markdown",
   "id": "e2fb6810",
   "metadata": {
    "papermill": {
     "duration": 0.031873,
     "end_time": "2023-07-03T19:55:54.140552",
     "exception": false,
     "start_time": "2023-07-03T19:55:54.108679",
     "status": "completed"
    },
    "tags": []
   },
   "source": [
    "## Naive Bayes model  "
   ]
  },
  {
   "cell_type": "markdown",
   "id": "bc74aa67",
   "metadata": {
    "papermill": {
     "duration": 0.032541,
     "end_time": "2023-07-03T19:55:54.206383",
     "exception": false,
     "start_time": "2023-07-03T19:55:54.173842",
     "status": "completed"
    },
    "tags": []
   },
   "source": [
    "### MultinomialNB  "
   ]
  },
  {
   "cell_type": "code",
   "execution_count": 45,
   "id": "ab5510f1",
   "metadata": {
    "execution": {
     "iopub.execute_input": "2023-07-03T19:55:54.272403Z",
     "iopub.status.busy": "2023-07-03T19:55:54.272021Z",
     "iopub.status.idle": "2023-07-03T19:55:54.276681Z",
     "shell.execute_reply": "2023-07-03T19:55:54.275612Z"
    },
    "papermill": {
     "duration": 0.040659,
     "end_time": "2023-07-03T19:55:54.278941",
     "exception": false,
     "start_time": "2023-07-03T19:55:54.238282",
     "status": "completed"
    },
    "tags": []
   },
   "outputs": [],
   "source": [
    "# from sklearn.naive_bayes import GaussianNB, BernoulliNB, CategoricalNB, ComplementNB, MultinomialNB"
   ]
  },
  {
   "cell_type": "code",
   "execution_count": 46,
   "id": "981e8eb0",
   "metadata": {
    "execution": {
     "iopub.execute_input": "2023-07-03T19:55:54.344369Z",
     "iopub.status.busy": "2023-07-03T19:55:54.343994Z",
     "iopub.status.idle": "2023-07-03T19:55:54.347904Z",
     "shell.execute_reply": "2023-07-03T19:55:54.347116Z"
    },
    "papermill": {
     "duration": 0.0392,
     "end_time": "2023-07-03T19:55:54.349948",
     "exception": false,
     "start_time": "2023-07-03T19:55:54.310748",
     "status": "completed"
    },
    "tags": []
   },
   "outputs": [],
   "source": [
    "# mnb = MultinomialNB()\n",
    "# mnb"
   ]
  },
  {
   "cell_type": "code",
   "execution_count": 47,
   "id": "1048f1f4",
   "metadata": {
    "execution": {
     "iopub.execute_input": "2023-07-03T19:55:54.416033Z",
     "iopub.status.busy": "2023-07-03T19:55:54.415663Z",
     "iopub.status.idle": "2023-07-03T19:55:54.419614Z",
     "shell.execute_reply": "2023-07-03T19:55:54.418526Z"
    },
    "papermill": {
     "duration": 0.039437,
     "end_time": "2023-07-03T19:55:54.421827",
     "exception": false,
     "start_time": "2023-07-03T19:55:54.382390",
     "status": "completed"
    },
    "tags": []
   },
   "outputs": [],
   "source": [
    "# mnb_pipe = preprocess_n_train(X_train, y_train, tvec, mnb)\n",
    "# mnb_pipe"
   ]
  },
  {
   "cell_type": "code",
   "execution_count": 48,
   "id": "754e2eb0",
   "metadata": {
    "execution": {
     "iopub.execute_input": "2023-07-03T19:55:54.488199Z",
     "iopub.status.busy": "2023-07-03T19:55:54.487827Z",
     "iopub.status.idle": "2023-07-03T19:55:54.492324Z",
     "shell.execute_reply": "2023-07-03T19:55:54.491135Z"
    },
    "papermill": {
     "duration": 0.041043,
     "end_time": "2023-07-03T19:55:54.494605",
     "exception": false,
     "start_time": "2023-07-03T19:55:54.453562",
     "status": "completed"
    },
    "tags": []
   },
   "outputs": [],
   "source": [
    "# y_pred_mnb = predict_n_evaluate(mnb_pipe, X_test, y_test)\n",
    "# y_pred_mnb"
   ]
  },
  {
   "cell_type": "markdown",
   "id": "a968cb26",
   "metadata": {
    "papermill": {
     "duration": 0.031157,
     "end_time": "2023-07-03T19:55:54.557428",
     "exception": false,
     "start_time": "2023-07-03T19:55:54.526271",
     "status": "completed"
    },
    "tags": []
   },
   "source": [
    "### GaussianNB  "
   ]
  },
  {
   "cell_type": "markdown",
   "id": "121084ea",
   "metadata": {
    "papermill": {
     "duration": 0.031023,
     "end_time": "2023-07-03T19:55:54.619768",
     "exception": false,
     "start_time": "2023-07-03T19:55:54.588745",
     "status": "completed"
    },
    "tags": []
   },
   "source": [
    "https://stackoverflow.com/questions/28384680/scikit-learns-pipeline-a-sparse-matrix-was-passed-but-dense-data-is-required"
   ]
  },
  {
   "cell_type": "code",
   "execution_count": 49,
   "id": "2e94821c",
   "metadata": {
    "execution": {
     "iopub.execute_input": "2023-07-03T19:55:54.684616Z",
     "iopub.status.busy": "2023-07-03T19:55:54.684241Z",
     "iopub.status.idle": "2023-07-03T19:55:54.688784Z",
     "shell.execute_reply": "2023-07-03T19:55:54.687662Z"
    },
    "papermill": {
     "duration": 0.039658,
     "end_time": "2023-07-03T19:55:54.690914",
     "exception": false,
     "start_time": "2023-07-03T19:55:54.651256",
     "status": "completed"
    },
    "tags": []
   },
   "outputs": [],
   "source": [
    "# gnb = GaussianNB()\n",
    "# gnb"
   ]
  },
  {
   "cell_type": "code",
   "execution_count": 50,
   "id": "238a33ce",
   "metadata": {
    "execution": {
     "iopub.execute_input": "2023-07-03T19:55:54.757573Z",
     "iopub.status.busy": "2023-07-03T19:55:54.757214Z",
     "iopub.status.idle": "2023-07-03T19:55:54.760972Z",
     "shell.execute_reply": "2023-07-03T19:55:54.760228Z"
    },
    "papermill": {
     "duration": 0.039186,
     "end_time": "2023-07-03T19:55:54.762898",
     "exception": false,
     "start_time": "2023-07-03T19:55:54.723712",
     "status": "completed"
    },
    "tags": []
   },
   "outputs": [],
   "source": [
    "# gnb_pipe = preprocess_n_train(X_train, y_train, tvec, gnb)\n",
    "# gnb_pipe"
   ]
  },
  {
   "cell_type": "markdown",
   "id": "555cdf00",
   "metadata": {
    "papermill": {
     "duration": 0.031286,
     "end_time": "2023-07-03T19:55:54.826023",
     "exception": false,
     "start_time": "2023-07-03T19:55:54.794737",
     "status": "completed"
    },
    "tags": []
   },
   "source": [
    "## Submitting predictions to Kaggle competition  "
   ]
  },
  {
   "cell_type": "code",
   "execution_count": 51,
   "id": "6f20f035",
   "metadata": {
    "execution": {
     "iopub.execute_input": "2023-07-03T19:55:54.890292Z",
     "iopub.status.busy": "2023-07-03T19:55:54.889902Z",
     "iopub.status.idle": "2023-07-03T19:55:54.895057Z",
     "shell.execute_reply": "2023-07-03T19:55:54.893995Z"
    },
    "papermill": {
     "duration": 0.040206,
     "end_time": "2023-07-03T19:55:54.897500",
     "exception": false,
     "start_time": "2023-07-03T19:55:54.857294",
     "status": "completed"
    },
    "tags": []
   },
   "outputs": [],
   "source": [
    "# def submit(selected_model=logreg, selected_preprocessor=tvec):\n",
    "    \n",
    "#     # Retrain on the whole train.csv file  \n",
    "#     traindf = pd.read_csv(\"/kaggle/input/sentiment-prediction-on-movie-reviews/train.csv\")\n",
    "#     X_train = traindf[\"reviewText\"]\n",
    "#     X_train.fillna(\"empty\", inplace=True)\n",
    "#     y_train = traindf[\"sentiment\"]\n",
    "#     pipe = preprocess_n_train(X_train, y_train, selected_preprocessor, selected_model)\n",
    "    \n",
    "#     # Predict on test.csv file\n",
    "#     testdf = pd.read_csv(\"/kaggle/input/sentiment-prediction-on-movie-reviews/test.csv\")\n",
    "#     X_test = testdf[\"reviewText\"]\n",
    "#     X_test.fillna(\"empty\", inplace=True)\n",
    "    \n",
    "#     y_pred = pipe.predict(X_test)\n",
    "    \n",
    "#     pred_df = pd.DataFrame(y_pred)\n",
    "#     pred_df.columns = [\"sentiment\"]\n",
    "#     pred_df.index.name = \"id\"\n",
    "#     pred_df.to_csv(\"submission.csv\")\n",
    "    \n",
    "#     return \"Successfully created the submission file!!!\""
   ]
  },
  {
   "cell_type": "code",
   "execution_count": 52,
   "id": "2460cfab",
   "metadata": {
    "execution": {
     "iopub.execute_input": "2023-07-03T19:55:54.962482Z",
     "iopub.status.busy": "2023-07-03T19:55:54.962079Z",
     "iopub.status.idle": "2023-07-03T19:55:54.966267Z",
     "shell.execute_reply": "2023-07-03T19:55:54.965226Z"
    },
    "papermill": {
     "duration": 0.039684,
     "end_time": "2023-07-03T19:55:54.968577",
     "exception": false,
     "start_time": "2023-07-03T19:55:54.928893",
     "status": "completed"
    },
    "tags": []
   },
   "outputs": [],
   "source": [
    "# submit(logreg_cv1, tvec_cv1)"
   ]
  },
  {
   "cell_type": "markdown",
   "id": "293f3d04",
   "metadata": {
    "papermill": {
     "duration": 0.031872,
     "end_time": "2023-07-03T19:55:55.032124",
     "exception": false,
     "start_time": "2023-07-03T19:55:55.000252",
     "status": "completed"
    },
    "tags": []
   },
   "source": [
    "## Part 2: Merge \"movies.csv\" with \"train.csv\" to see if score improves  "
   ]
  },
  {
   "cell_type": "markdown",
   "id": "1fdee4e9",
   "metadata": {
    "papermill": {
     "duration": 0.031554,
     "end_time": "2023-07-03T19:55:55.095148",
     "exception": false,
     "start_time": "2023-07-03T19:55:55.063594",
     "status": "completed"
    },
    "tags": []
   },
   "source": [
    "### Custom functions  "
   ]
  },
  {
   "cell_type": "code",
   "execution_count": 53,
   "id": "fb7dd8a3",
   "metadata": {
    "execution": {
     "iopub.execute_input": "2023-07-03T19:55:55.161120Z",
     "iopub.status.busy": "2023-07-03T19:55:55.160703Z",
     "iopub.status.idle": "2023-07-03T19:55:55.165958Z",
     "shell.execute_reply": "2023-07-03T19:55:55.164835Z"
    },
    "papermill": {
     "duration": 0.040395,
     "end_time": "2023-07-03T19:55:55.168059",
     "exception": false,
     "start_time": "2023-07-03T19:55:55.127664",
     "status": "completed"
    },
    "tags": []
   },
   "outputs": [],
   "source": [
    "def load_csv(filename: str):\n",
    "    df = pd.read_csv(f\"/kaggle/input/sentiment-prediction-on-movie-reviews/{filename}.csv\")\n",
    "    return df"
   ]
  },
  {
   "cell_type": "code",
   "execution_count": 54,
   "id": "b93bb2e3",
   "metadata": {
    "execution": {
     "iopub.execute_input": "2023-07-03T19:55:55.234467Z",
     "iopub.status.busy": "2023-07-03T19:55:55.233508Z",
     "iopub.status.idle": "2023-07-03T19:55:55.238919Z",
     "shell.execute_reply": "2023-07-03T19:55:55.238164Z"
    },
    "papermill": {
     "duration": 0.041214,
     "end_time": "2023-07-03T19:55:55.241056",
     "exception": false,
     "start_time": "2023-07-03T19:55:55.199842",
     "status": "completed"
    },
    "tags": []
   },
   "outputs": [],
   "source": [
    "def inspect(df: pd.DataFrame):\n",
    "    print(f\"Shape of the dataframe: {df.shape}\")\n",
    "    print()\n",
    "    print(f\"Columns in the dataframe:\\n{df.columns}\")\n",
    "    print()\n",
    "    print(f\"{df.info()}\")\n",
    "    print()\n",
    "    # print(f\"Summary: {df.describe()}\")\n",
    "    print(f\"Missing values:\\n{df.isna().sum()}\")\n",
    "    return"
   ]
  },
  {
   "cell_type": "code",
   "execution_count": 55,
   "id": "bae162ef",
   "metadata": {
    "execution": {
     "iopub.execute_input": "2023-07-03T19:55:55.308478Z",
     "iopub.status.busy": "2023-07-03T19:55:55.307763Z",
     "iopub.status.idle": "2023-07-03T19:55:55.318193Z",
     "shell.execute_reply": "2023-07-03T19:55:55.317447Z"
    },
    "papermill": {
     "duration": 0.045948,
     "end_time": "2023-07-03T19:55:55.320426",
     "exception": false,
     "start_time": "2023-07-03T19:55:55.274478",
     "status": "completed"
    },
    "tags": []
   },
   "outputs": [],
   "source": [
    "def select_features(df: pd.DataFrame, moviesdf: pd.DataFrame):\n",
    "    '''\n",
    "    This function merges the given dataframes. Note that the first df must be \"train\" or \"test\" and\n",
    "    the second df should be \"movies\".\n",
    "    Note: Sentiment column is present only in \"train.csv\" file and not \"test.csv\" file.\n",
    "    '''\n",
    "    \n",
    "    # Drop duplicates from moviesdf\n",
    "    movies_unique = moviesdf.drop_duplicates(subset=[\"movieid\"])\n",
    "\n",
    "    # Merge df and movies_unique\n",
    "    df_merged = pd.merge(df, movies_unique, on=\"movieid\")\n",
    "    \n",
    "    # Rename \"isTopCritic\" column, if it exists, to \"isFrequentReviewer\"\n",
    "    df_merged.rename(columns={\"isTopCritic\": \"isFrequentReviewer\"}, inplace=True)\n",
    "    \n",
    "    # Drop columns\n",
    "    df_merged = df_merged.drop(columns=[\"title\", \"ratingContents\", \"releaseDateTheaters\", \"releaseDateStreaming\", \"boxOffice\", \"distributor\", \"soundType\"])\n",
    "\n",
    "    # Fill missing values in \"reviewText\" with empty string\n",
    "    final = df_merged.copy()\n",
    "    final[\"reviewText\"] = final[\"reviewText\"].fillna(\"\")\n",
    "    \n",
    "    # Fill missing values in \"rating\", \"genre\", original columns with the word \"Unknown\"\n",
    "    final[\"rating\"] = final[\"rating\"].fillna(\"Unknown\")\n",
    "    final[\"genre\"] = final[\"genre\"].fillna(\"Unknown\")\n",
    "    final[\"originalLanguage\"] = final[\"originalLanguage\"].fillna(\"Unknown\")\n",
    "\n",
    "    # Impute missing values for \"audienceScore\" and \"runtimeMinutes\" columns\n",
    "    final[\"audienceScore\"] = final[\"audienceScore\"].fillna(final[\"audienceScore\"].mean())\n",
    "    final[\"runtimeMinutes\"] = final[\"runtimeMinutes\"].fillna(final[\"runtimeMinutes\"].mean())\n",
    "    \n",
    "    # Clean language names\n",
    "    final[\"originalLanguage\"].replace({\"English (United Kingdom)\": \"English\", \n",
    "                                            \"English (Australia)\" : \"English\",\n",
    "                                            \"French (France)\": \"French\", \n",
    "                                            \"French (Canada)\": \"French\",\n",
    "                                            \"Portuguese (Brazil)\": \"Portuguese\",\n",
    "                                            \"Spanish (Spain)\": \"Spanish\"},                                         \n",
    "                                            inplace=True)\n",
    "\n",
    "    return final"
   ]
  },
  {
   "cell_type": "code",
   "execution_count": 56,
   "id": "d109e548",
   "metadata": {
    "execution": {
     "iopub.execute_input": "2023-07-03T19:55:55.388703Z",
     "iopub.status.busy": "2023-07-03T19:55:55.387999Z",
     "iopub.status.idle": "2023-07-03T19:55:55.395178Z",
     "shell.execute_reply": "2023-07-03T19:55:55.393990Z"
    },
    "papermill": {
     "duration": 0.043573,
     "end_time": "2023-07-03T19:55:55.397626",
     "exception": false,
     "start_time": "2023-07-03T19:55:55.354053",
     "status": "completed"
    },
    "tags": []
   },
   "outputs": [],
   "source": [
    "def split_train_predict(features, labels, pipeline, test_size=0.25, random_state=42):\n",
    "    # cols = features.columns\n",
    "    if len(features.shape) == 1:\n",
    "        features = features.to_numpy().reshape(-1, 1)  # reshape to 2D array\n",
    "    features = pd.DataFrame(features)\n",
    "    X_train, X_test, y_train, y_test = train_test_split(features, labels, test_size=test_size, random_state=random_state)\n",
    "    pipeline.fit(X_train, y_train)\n",
    "    y_pred = pipeline.predict(X_test)\n",
    "    print(classification_report(y_test, y_pred))\n",
    "    print(confusion_matrix(y_test, y_pred))\n",
    "    return pipeline"
   ]
  },
  {
   "cell_type": "markdown",
   "id": "3a0923d8",
   "metadata": {
    "papermill": {
     "duration": 0.03123,
     "end_time": "2023-07-03T19:55:55.460393",
     "exception": false,
     "start_time": "2023-07-03T19:55:55.429163",
     "status": "completed"
    },
    "tags": []
   },
   "source": [
    "### Merge \"train.csv\" file with \"movies.csv\" file  "
   ]
  },
  {
   "cell_type": "code",
   "execution_count": 57,
   "id": "59ecf444",
   "metadata": {
    "execution": {
     "iopub.execute_input": "2023-07-03T19:55:55.525337Z",
     "iopub.status.busy": "2023-07-03T19:55:55.524739Z",
     "iopub.status.idle": "2023-07-03T19:55:58.534337Z",
     "shell.execute_reply": "2023-07-03T19:55:58.533014Z"
    },
    "papermill": {
     "duration": 3.045157,
     "end_time": "2023-07-03T19:55:58.536890",
     "exception": false,
     "start_time": "2023-07-03T19:55:55.491733",
     "status": "completed"
    },
    "tags": []
   },
   "outputs": [
    {
     "name": "stdout",
     "output_type": "stream",
     "text": [
      "Shape of the dataframe: (162758, 11)\n",
      "\n",
      "Columns in the dataframe:\n",
      "Index(['movieid', 'reviewerName', 'isFrequentReviewer', 'reviewText',\n",
      "       'sentiment', 'audienceScore', 'rating', 'runtimeMinutes', 'genre',\n",
      "       'originalLanguage', 'director'],\n",
      "      dtype='object')\n",
      "\n",
      "<class 'pandas.core.frame.DataFrame'>\n",
      "Int64Index: 162758 entries, 0 to 162757\n",
      "Data columns (total 11 columns):\n",
      " #   Column              Non-Null Count   Dtype  \n",
      "---  ------              --------------   -----  \n",
      " 0   movieid             162758 non-null  object \n",
      " 1   reviewerName        162758 non-null  object \n",
      " 2   isFrequentReviewer  162758 non-null  bool   \n",
      " 3   reviewText          162758 non-null  object \n",
      " 4   sentiment           162758 non-null  object \n",
      " 5   audienceScore       162758 non-null  float64\n",
      " 6   rating              162758 non-null  object \n",
      " 7   runtimeMinutes      162758 non-null  float64\n",
      " 8   genre               162758 non-null  object \n",
      " 9   originalLanguage    162758 non-null  object \n",
      " 10  director            162758 non-null  object \n",
      "dtypes: bool(1), float64(2), object(8)\n",
      "memory usage: 13.8+ MB\n",
      "None\n",
      "\n",
      "Missing values:\n",
      "movieid               0\n",
      "reviewerName          0\n",
      "isFrequentReviewer    0\n",
      "reviewText            0\n",
      "sentiment             0\n",
      "audienceScore         0\n",
      "rating                0\n",
      "runtimeMinutes        0\n",
      "genre                 0\n",
      "originalLanguage      0\n",
      "director              0\n",
      "dtype: int64\n"
     ]
    }
   ],
   "source": [
    "merged = select_features(load_csv(\"train\"), load_csv(\"movies\"))\n",
    "inspect(merged)"
   ]
  },
  {
   "cell_type": "markdown",
   "id": "5cbf2a2d",
   "metadata": {},
   "source": [
    "## EDA  "
   ]
  },
  {
   "cell_type": "code",
   "execution_count": null,
   "id": "8dad2b28",
   "metadata": {},
   "outputs": [],
   "source": [
    "## Box plot audienceScore and sentiment  \n",
    "plt.figure(figsize=(6, 4))\n",
    "sns.boxplot(x=\"sentiment\", y=\"audienceScore\", data=merged)\n",
    "plt.title(\"Box plot audienceScore and sentiment\")\n",
    "plt.show()\n"
   ]
  },
  {
   "cell_type": "code",
   "execution_count": null,
   "id": "eba7fef4",
   "metadata": {},
   "outputs": [],
   "source": [
    "## Bar plot for sentiment and genre columns\n",
    "plt.figure(figsize=(6, 4))\n",
    "sns.countplot(x=\"sentiment\", hue=\"genre\", data=merged)\n",
    "plt.title(\"Bar plot for sentiment and genre columns\")\n",
    "plt.show()"
   ]
  },
  {
   "cell_type": "code",
   "execution_count": null,
   "id": "5d10327e",
   "metadata": {},
   "outputs": [],
   "source": [
    "## Column chart for sentiment and rating columns\n",
    "plt.figure(figsize=(6, 4))\n",
    "sns.countplot(x=\"sentiment\", hue=\"rating\", data=merged)\n",
    "plt.title(\"Column chart for sentiment and rating columns\")\n",
    "plt.show()\n"
   ]
  },
  {
   "cell_type": "code",
   "execution_count": 25,
   "id": "6f80ec06",
   "metadata": {},
   "outputs": [
    {
     "ename": "NameError",
     "evalue": "name 'merged' is not defined",
     "output_type": "error",
     "traceback": [
      "\u001b[1;31m---------------------------------------------------------------------------\u001b[0m",
      "\u001b[1;31mNameError\u001b[0m                                 Traceback (most recent call last)",
      "\u001b[1;32mC:\\Users\\GANESH~1\\AppData\\Local\\Temp/ipykernel_4124/232809597.py\u001b[0m in \u001b[0;36m<module>\u001b[1;34m\u001b[0m\n\u001b[0;32m      1\u001b[0m \u001b[1;31m# Correlation heatmap\u001b[0m\u001b[1;33m\u001b[0m\u001b[1;33m\u001b[0m\u001b[0m\n\u001b[0;32m      2\u001b[0m \u001b[0mplt\u001b[0m\u001b[1;33m.\u001b[0m\u001b[0mfigure\u001b[0m\u001b[1;33m(\u001b[0m\u001b[0mfigsize\u001b[0m\u001b[1;33m=\u001b[0m\u001b[1;33m(\u001b[0m\u001b[1;36m10\u001b[0m\u001b[1;33m,\u001b[0m \u001b[1;36m8\u001b[0m\u001b[1;33m)\u001b[0m\u001b[1;33m)\u001b[0m\u001b[1;33m\u001b[0m\u001b[1;33m\u001b[0m\u001b[0m\n\u001b[1;32m----> 3\u001b[1;33m \u001b[0msns\u001b[0m\u001b[1;33m.\u001b[0m\u001b[0mheatmap\u001b[0m\u001b[1;33m(\u001b[0m\u001b[0mmerged\u001b[0m\u001b[1;33m.\u001b[0m\u001b[0mcorr\u001b[0m\u001b[1;33m(\u001b[0m\u001b[1;33m)\u001b[0m\u001b[1;33m,\u001b[0m \u001b[0mannot\u001b[0m\u001b[1;33m=\u001b[0m\u001b[1;32mTrue\u001b[0m\u001b[1;33m,\u001b[0m \u001b[0mcmap\u001b[0m\u001b[1;33m=\u001b[0m\u001b[1;34m\"coolwarm\"\u001b[0m\u001b[1;33m)\u001b[0m\u001b[1;33m\u001b[0m\u001b[1;33m\u001b[0m\u001b[0m\n\u001b[0m\u001b[0;32m      4\u001b[0m \u001b[0mplt\u001b[0m\u001b[1;33m.\u001b[0m\u001b[0mtitle\u001b[0m\u001b[1;33m(\u001b[0m\u001b[1;34m\"Correlation heatmap\"\u001b[0m\u001b[1;33m)\u001b[0m\u001b[1;33m\u001b[0m\u001b[1;33m\u001b[0m\u001b[0m\n\u001b[0;32m      5\u001b[0m \u001b[0mplt\u001b[0m\u001b[1;33m.\u001b[0m\u001b[0mshow\u001b[0m\u001b[1;33m(\u001b[0m\u001b[1;33m)\u001b[0m\u001b[1;33m\u001b[0m\u001b[1;33m\u001b[0m\u001b[0m\n",
      "\u001b[1;31mNameError\u001b[0m: name 'merged' is not defined"
     ]
    },
    {
     "data": {
      "text/plain": [
       "<Figure size 720x576 with 0 Axes>"
      ]
     },
     "metadata": {},
     "output_type": "display_data"
    }
   ],
   "source": [
    "# Correlation heatmap  \n",
    "plt.figure(figsize=(10, 8))\n",
    "sns.heatmap(merged.corr(), annot=True, cmap=\"coolwarm\")\n",
    "plt.title(\"Correlation heatmap\")\n",
    "plt.show()"
   ]
  },
  {
   "cell_type": "markdown",
   "id": "ea81f334",
   "metadata": {},
   "source": [
    "### Separate features and labels from merged dataset  "
   ]
  },
  {
   "cell_type": "code",
   "execution_count": 58,
   "id": "71e448a5",
   "metadata": {
    "execution": {
     "iopub.execute_input": "2023-07-03T19:55:58.604276Z",
     "iopub.status.busy": "2023-07-03T19:55:58.603109Z",
     "iopub.status.idle": "2023-07-03T19:55:58.666521Z",
     "shell.execute_reply": "2023-07-03T19:55:58.665445Z"
    },
    "papermill": {
     "duration": 0.099854,
     "end_time": "2023-07-03T19:55:58.669086",
     "exception": false,
     "start_time": "2023-07-03T19:55:58.569232",
     "status": "completed"
    },
    "tags": []
   },
   "outputs": [
    {
     "data": {
      "text/plain": [
       "(162758, 10)"
      ]
     },
     "execution_count": 58,
     "metadata": {},
     "output_type": "execute_result"
    }
   ],
   "source": [
    "merged_train_features = merged[['movieid', 'reviewerName', 'isFrequentReviewer', 'reviewText',\n",
    "       'audienceScore', 'rating', 'runtimeMinutes', 'genre',\n",
    "       'originalLanguage', 'director']]\n",
    "merged_train_features.shape"
   ]
  },
  {
   "cell_type": "code",
   "execution_count": 59,
   "id": "475cb3d0",
   "metadata": {
    "execution": {
     "iopub.execute_input": "2023-07-03T19:55:58.735732Z",
     "iopub.status.busy": "2023-07-03T19:55:58.735344Z",
     "iopub.status.idle": "2023-07-03T19:55:58.742919Z",
     "shell.execute_reply": "2023-07-03T19:55:58.741927Z"
    },
    "papermill": {
     "duration": 0.043682,
     "end_time": "2023-07-03T19:55:58.745267",
     "exception": false,
     "start_time": "2023-07-03T19:55:58.701585",
     "status": "completed"
    },
    "tags": []
   },
   "outputs": [
    {
     "data": {
      "text/plain": [
       "(162758,)"
      ]
     },
     "execution_count": 59,
     "metadata": {},
     "output_type": "execute_result"
    }
   ],
   "source": [
    "merged_train_labels = merged[\"sentiment\"]\n",
    "merged_train_labels.shape"
   ]
  },
  {
   "cell_type": "markdown",
   "id": "554f4a3e",
   "metadata": {
    "papermill": {
     "duration": 0.033109,
     "end_time": "2023-07-03T19:55:58.810818",
     "exception": false,
     "start_time": "2023-07-03T19:55:58.777709",
     "status": "completed"
    },
    "tags": []
   },
   "source": [
    "### Identify variable types for different preprocessing pipes  "
   ]
  },
  {
   "cell_type": "code",
   "execution_count": 60,
   "id": "3059ccd1",
   "metadata": {
    "execution": {
     "iopub.execute_input": "2023-07-03T19:55:58.876877Z",
     "iopub.status.busy": "2023-07-03T19:55:58.876455Z",
     "iopub.status.idle": "2023-07-03T19:55:58.881975Z",
     "shell.execute_reply": "2023-07-03T19:55:58.880860Z"
    },
    "papermill": {
     "duration": 0.041373,
     "end_time": "2023-07-03T19:55:58.884360",
     "exception": false,
     "start_time": "2023-07-03T19:55:58.842987",
     "status": "completed"
    },
    "tags": []
   },
   "outputs": [],
   "source": [
    "num_vars = [\"audienceScore\", \"runtimeMinutes\"]\n",
    "txt_vars = [\"originalLanguage\", \"genre\", \"director\", \"reviewerName\", \"reviewText\"]\n",
    "cat_vars = [\"rating\", \"isFrequentReviewer\"]"
   ]
  },
  {
   "cell_type": "code",
   "execution_count": 61,
   "id": "9abca006",
   "metadata": {
    "execution": {
     "iopub.execute_input": "2023-07-03T19:55:58.951468Z",
     "iopub.status.busy": "2023-07-03T19:55:58.951093Z",
     "iopub.status.idle": "2023-07-03T19:55:58.964168Z",
     "shell.execute_reply": "2023-07-03T19:55:58.963424Z"
    },
    "papermill": {
     "duration": 0.049775,
     "end_time": "2023-07-03T19:55:58.966246",
     "exception": false,
     "start_time": "2023-07-03T19:55:58.916471",
     "status": "completed"
    },
    "tags": []
   },
   "outputs": [
    {
     "data": {
      "text/html": [
       "<style>#sk-container-id-1 {color: black;background-color: white;}#sk-container-id-1 pre{padding: 0;}#sk-container-id-1 div.sk-toggleable {background-color: white;}#sk-container-id-1 label.sk-toggleable__label {cursor: pointer;display: block;width: 100%;margin-bottom: 0;padding: 0.3em;box-sizing: border-box;text-align: center;}#sk-container-id-1 label.sk-toggleable__label-arrow:before {content: \"▸\";float: left;margin-right: 0.25em;color: #696969;}#sk-container-id-1 label.sk-toggleable__label-arrow:hover:before {color: black;}#sk-container-id-1 div.sk-estimator:hover label.sk-toggleable__label-arrow:before {color: black;}#sk-container-id-1 div.sk-toggleable__content {max-height: 0;max-width: 0;overflow: hidden;text-align: left;background-color: #f0f8ff;}#sk-container-id-1 div.sk-toggleable__content pre {margin: 0.2em;color: black;border-radius: 0.25em;background-color: #f0f8ff;}#sk-container-id-1 input.sk-toggleable__control:checked~div.sk-toggleable__content {max-height: 200px;max-width: 100%;overflow: auto;}#sk-container-id-1 input.sk-toggleable__control:checked~label.sk-toggleable__label-arrow:before {content: \"▾\";}#sk-container-id-1 div.sk-estimator input.sk-toggleable__control:checked~label.sk-toggleable__label {background-color: #d4ebff;}#sk-container-id-1 div.sk-label input.sk-toggleable__control:checked~label.sk-toggleable__label {background-color: #d4ebff;}#sk-container-id-1 input.sk-hidden--visually {border: 0;clip: rect(1px 1px 1px 1px);clip: rect(1px, 1px, 1px, 1px);height: 1px;margin: -1px;overflow: hidden;padding: 0;position: absolute;width: 1px;}#sk-container-id-1 div.sk-estimator {font-family: monospace;background-color: #f0f8ff;border: 1px dotted black;border-radius: 0.25em;box-sizing: border-box;margin-bottom: 0.5em;}#sk-container-id-1 div.sk-estimator:hover {background-color: #d4ebff;}#sk-container-id-1 div.sk-parallel-item::after {content: \"\";width: 100%;border-bottom: 1px solid gray;flex-grow: 1;}#sk-container-id-1 div.sk-label:hover label.sk-toggleable__label {background-color: #d4ebff;}#sk-container-id-1 div.sk-serial::before {content: \"\";position: absolute;border-left: 1px solid gray;box-sizing: border-box;top: 0;bottom: 0;left: 50%;z-index: 0;}#sk-container-id-1 div.sk-serial {display: flex;flex-direction: column;align-items: center;background-color: white;padding-right: 0.2em;padding-left: 0.2em;position: relative;}#sk-container-id-1 div.sk-item {position: relative;z-index: 1;}#sk-container-id-1 div.sk-parallel {display: flex;align-items: stretch;justify-content: center;background-color: white;position: relative;}#sk-container-id-1 div.sk-item::before, #sk-container-id-1 div.sk-parallel-item::before {content: \"\";position: absolute;border-left: 1px solid gray;box-sizing: border-box;top: 0;bottom: 0;left: 50%;z-index: -1;}#sk-container-id-1 div.sk-parallel-item {display: flex;flex-direction: column;z-index: 1;position: relative;background-color: white;}#sk-container-id-1 div.sk-parallel-item:first-child::after {align-self: flex-end;width: 50%;}#sk-container-id-1 div.sk-parallel-item:last-child::after {align-self: flex-start;width: 50%;}#sk-container-id-1 div.sk-parallel-item:only-child::after {width: 0;}#sk-container-id-1 div.sk-dashed-wrapped {border: 1px dashed gray;margin: 0 0.4em 0.5em 0.4em;box-sizing: border-box;padding-bottom: 0.4em;background-color: white;}#sk-container-id-1 div.sk-label label {font-family: monospace;font-weight: bold;display: inline-block;line-height: 1.2em;}#sk-container-id-1 div.sk-label-container {text-align: center;}#sk-container-id-1 div.sk-container {/* jupyter's `normalize.less` sets `[hidden] { display: none; }` but bootstrap.min.css set `[hidden] { display: none !important; }` so we also need the `!important` here to be able to override the default hidden behavior on the sphinx rendered scikit-learn.org. See: https://github.com/scikit-learn/scikit-learn/issues/21755 */display: inline-block !important;position: relative;}#sk-container-id-1 div.sk-text-repr-fallback {display: none;}</style><div id=\"sk-container-id-1\" class=\"sk-top-container\"><div class=\"sk-text-repr-fallback\"><pre>Pipeline(steps=[(&#x27;imputer&#x27;, SimpleImputer()), (&#x27;scaler&#x27;, MinMaxScaler())])</pre><b>In a Jupyter environment, please rerun this cell to show the HTML representation or trust the notebook. <br />On GitHub, the HTML representation is unable to render, please try loading this page with nbviewer.org.</b></div><div class=\"sk-container\" hidden><div class=\"sk-item sk-dashed-wrapped\"><div class=\"sk-label-container\"><div class=\"sk-label sk-toggleable\"><input class=\"sk-toggleable__control sk-hidden--visually\" id=\"sk-estimator-id-1\" type=\"checkbox\" ><label for=\"sk-estimator-id-1\" class=\"sk-toggleable__label sk-toggleable__label-arrow\">Pipeline</label><div class=\"sk-toggleable__content\"><pre>Pipeline(steps=[(&#x27;imputer&#x27;, SimpleImputer()), (&#x27;scaler&#x27;, MinMaxScaler())])</pre></div></div></div><div class=\"sk-serial\"><div class=\"sk-item\"><div class=\"sk-estimator sk-toggleable\"><input class=\"sk-toggleable__control sk-hidden--visually\" id=\"sk-estimator-id-2\" type=\"checkbox\" ><label for=\"sk-estimator-id-2\" class=\"sk-toggleable__label sk-toggleable__label-arrow\">SimpleImputer</label><div class=\"sk-toggleable__content\"><pre>SimpleImputer()</pre></div></div></div><div class=\"sk-item\"><div class=\"sk-estimator sk-toggleable\"><input class=\"sk-toggleable__control sk-hidden--visually\" id=\"sk-estimator-id-3\" type=\"checkbox\" ><label for=\"sk-estimator-id-3\" class=\"sk-toggleable__label sk-toggleable__label-arrow\">MinMaxScaler</label><div class=\"sk-toggleable__content\"><pre>MinMaxScaler()</pre></div></div></div></div></div></div></div>"
      ],
      "text/plain": [
       "Pipeline(steps=[('imputer', SimpleImputer()), ('scaler', MinMaxScaler())])"
      ]
     },
     "execution_count": 61,
     "metadata": {},
     "output_type": "execute_result"
    }
   ],
   "source": [
    "num_pipe = Pipeline(steps=[\n",
    "                            (\"imputer\", SimpleImputer(strategy=\"mean\", missing_values=np.nan)),\n",
    "                            (\"scaler\", MinMaxScaler())\n",
    "                        ])\n",
    "num_pipe"
   ]
  },
  {
   "cell_type": "code",
   "execution_count": 62,
   "id": "a819b8bd",
   "metadata": {
    "execution": {
     "iopub.execute_input": "2023-07-03T19:55:59.033349Z",
     "iopub.status.busy": "2023-07-03T19:55:59.032932Z",
     "iopub.status.idle": "2023-07-03T19:55:59.042951Z",
     "shell.execute_reply": "2023-07-03T19:55:59.041753Z"
    },
    "papermill": {
     "duration": 0.046602,
     "end_time": "2023-07-03T19:55:59.045535",
     "exception": false,
     "start_time": "2023-07-03T19:55:58.998933",
     "status": "completed"
    },
    "tags": []
   },
   "outputs": [
    {
     "data": {
      "text/html": [
       "<style>#sk-container-id-2 {color: black;background-color: white;}#sk-container-id-2 pre{padding: 0;}#sk-container-id-2 div.sk-toggleable {background-color: white;}#sk-container-id-2 label.sk-toggleable__label {cursor: pointer;display: block;width: 100%;margin-bottom: 0;padding: 0.3em;box-sizing: border-box;text-align: center;}#sk-container-id-2 label.sk-toggleable__label-arrow:before {content: \"▸\";float: left;margin-right: 0.25em;color: #696969;}#sk-container-id-2 label.sk-toggleable__label-arrow:hover:before {color: black;}#sk-container-id-2 div.sk-estimator:hover label.sk-toggleable__label-arrow:before {color: black;}#sk-container-id-2 div.sk-toggleable__content {max-height: 0;max-width: 0;overflow: hidden;text-align: left;background-color: #f0f8ff;}#sk-container-id-2 div.sk-toggleable__content pre {margin: 0.2em;color: black;border-radius: 0.25em;background-color: #f0f8ff;}#sk-container-id-2 input.sk-toggleable__control:checked~div.sk-toggleable__content {max-height: 200px;max-width: 100%;overflow: auto;}#sk-container-id-2 input.sk-toggleable__control:checked~label.sk-toggleable__label-arrow:before {content: \"▾\";}#sk-container-id-2 div.sk-estimator input.sk-toggleable__control:checked~label.sk-toggleable__label {background-color: #d4ebff;}#sk-container-id-2 div.sk-label input.sk-toggleable__control:checked~label.sk-toggleable__label {background-color: #d4ebff;}#sk-container-id-2 input.sk-hidden--visually {border: 0;clip: rect(1px 1px 1px 1px);clip: rect(1px, 1px, 1px, 1px);height: 1px;margin: -1px;overflow: hidden;padding: 0;position: absolute;width: 1px;}#sk-container-id-2 div.sk-estimator {font-family: monospace;background-color: #f0f8ff;border: 1px dotted black;border-radius: 0.25em;box-sizing: border-box;margin-bottom: 0.5em;}#sk-container-id-2 div.sk-estimator:hover {background-color: #d4ebff;}#sk-container-id-2 div.sk-parallel-item::after {content: \"\";width: 100%;border-bottom: 1px solid gray;flex-grow: 1;}#sk-container-id-2 div.sk-label:hover label.sk-toggleable__label {background-color: #d4ebff;}#sk-container-id-2 div.sk-serial::before {content: \"\";position: absolute;border-left: 1px solid gray;box-sizing: border-box;top: 0;bottom: 0;left: 50%;z-index: 0;}#sk-container-id-2 div.sk-serial {display: flex;flex-direction: column;align-items: center;background-color: white;padding-right: 0.2em;padding-left: 0.2em;position: relative;}#sk-container-id-2 div.sk-item {position: relative;z-index: 1;}#sk-container-id-2 div.sk-parallel {display: flex;align-items: stretch;justify-content: center;background-color: white;position: relative;}#sk-container-id-2 div.sk-item::before, #sk-container-id-2 div.sk-parallel-item::before {content: \"\";position: absolute;border-left: 1px solid gray;box-sizing: border-box;top: 0;bottom: 0;left: 50%;z-index: -1;}#sk-container-id-2 div.sk-parallel-item {display: flex;flex-direction: column;z-index: 1;position: relative;background-color: white;}#sk-container-id-2 div.sk-parallel-item:first-child::after {align-self: flex-end;width: 50%;}#sk-container-id-2 div.sk-parallel-item:last-child::after {align-self: flex-start;width: 50%;}#sk-container-id-2 div.sk-parallel-item:only-child::after {width: 0;}#sk-container-id-2 div.sk-dashed-wrapped {border: 1px dashed gray;margin: 0 0.4em 0.5em 0.4em;box-sizing: border-box;padding-bottom: 0.4em;background-color: white;}#sk-container-id-2 div.sk-label label {font-family: monospace;font-weight: bold;display: inline-block;line-height: 1.2em;}#sk-container-id-2 div.sk-label-container {text-align: center;}#sk-container-id-2 div.sk-container {/* jupyter's `normalize.less` sets `[hidden] { display: none; }` but bootstrap.min.css set `[hidden] { display: none !important; }` so we also need the `!important` here to be able to override the default hidden behavior on the sphinx rendered scikit-learn.org. See: https://github.com/scikit-learn/scikit-learn/issues/21755 */display: inline-block !important;position: relative;}#sk-container-id-2 div.sk-text-repr-fallback {display: none;}</style><div id=\"sk-container-id-2\" class=\"sk-top-container\"><div class=\"sk-text-repr-fallback\"><pre>Pipeline(steps=[(&#x27;tvec&#x27;, TfidfVectorizer())])</pre><b>In a Jupyter environment, please rerun this cell to show the HTML representation or trust the notebook. <br />On GitHub, the HTML representation is unable to render, please try loading this page with nbviewer.org.</b></div><div class=\"sk-container\" hidden><div class=\"sk-item sk-dashed-wrapped\"><div class=\"sk-label-container\"><div class=\"sk-label sk-toggleable\"><input class=\"sk-toggleable__control sk-hidden--visually\" id=\"sk-estimator-id-4\" type=\"checkbox\" ><label for=\"sk-estimator-id-4\" class=\"sk-toggleable__label sk-toggleable__label-arrow\">Pipeline</label><div class=\"sk-toggleable__content\"><pre>Pipeline(steps=[(&#x27;tvec&#x27;, TfidfVectorizer())])</pre></div></div></div><div class=\"sk-serial\"><div class=\"sk-item\"><div class=\"sk-estimator sk-toggleable\"><input class=\"sk-toggleable__control sk-hidden--visually\" id=\"sk-estimator-id-5\" type=\"checkbox\" ><label for=\"sk-estimator-id-5\" class=\"sk-toggleable__label sk-toggleable__label-arrow\">TfidfVectorizer</label><div class=\"sk-toggleable__content\"><pre>TfidfVectorizer()</pre></div></div></div></div></div></div></div>"
      ],
      "text/plain": [
       "Pipeline(steps=[('tvec', TfidfVectorizer())])"
      ]
     },
     "execution_count": 62,
     "metadata": {},
     "output_type": "execute_result"
    }
   ],
   "source": [
    "txt_pipe = Pipeline(steps=[\n",
    "                            (\"tvec\", TfidfVectorizer())\n",
    "                        ])\n",
    "txt_pipe"
   ]
  },
  {
   "cell_type": "code",
   "execution_count": 63,
   "id": "feaccc8d",
   "metadata": {
    "execution": {
     "iopub.execute_input": "2023-07-03T19:55:59.118066Z",
     "iopub.status.busy": "2023-07-03T19:55:59.117444Z",
     "iopub.status.idle": "2023-07-03T19:55:59.125962Z",
     "shell.execute_reply": "2023-07-03T19:55:59.124722Z"
    },
    "papermill": {
     "duration": 0.049747,
     "end_time": "2023-07-03T19:55:59.128306",
     "exception": false,
     "start_time": "2023-07-03T19:55:59.078559",
     "status": "completed"
    },
    "tags": []
   },
   "outputs": [
    {
     "data": {
      "text/html": [
       "<style>#sk-container-id-3 {color: black;background-color: white;}#sk-container-id-3 pre{padding: 0;}#sk-container-id-3 div.sk-toggleable {background-color: white;}#sk-container-id-3 label.sk-toggleable__label {cursor: pointer;display: block;width: 100%;margin-bottom: 0;padding: 0.3em;box-sizing: border-box;text-align: center;}#sk-container-id-3 label.sk-toggleable__label-arrow:before {content: \"▸\";float: left;margin-right: 0.25em;color: #696969;}#sk-container-id-3 label.sk-toggleable__label-arrow:hover:before {color: black;}#sk-container-id-3 div.sk-estimator:hover label.sk-toggleable__label-arrow:before {color: black;}#sk-container-id-3 div.sk-toggleable__content {max-height: 0;max-width: 0;overflow: hidden;text-align: left;background-color: #f0f8ff;}#sk-container-id-3 div.sk-toggleable__content pre {margin: 0.2em;color: black;border-radius: 0.25em;background-color: #f0f8ff;}#sk-container-id-3 input.sk-toggleable__control:checked~div.sk-toggleable__content {max-height: 200px;max-width: 100%;overflow: auto;}#sk-container-id-3 input.sk-toggleable__control:checked~label.sk-toggleable__label-arrow:before {content: \"▾\";}#sk-container-id-3 div.sk-estimator input.sk-toggleable__control:checked~label.sk-toggleable__label {background-color: #d4ebff;}#sk-container-id-3 div.sk-label input.sk-toggleable__control:checked~label.sk-toggleable__label {background-color: #d4ebff;}#sk-container-id-3 input.sk-hidden--visually {border: 0;clip: rect(1px 1px 1px 1px);clip: rect(1px, 1px, 1px, 1px);height: 1px;margin: -1px;overflow: hidden;padding: 0;position: absolute;width: 1px;}#sk-container-id-3 div.sk-estimator {font-family: monospace;background-color: #f0f8ff;border: 1px dotted black;border-radius: 0.25em;box-sizing: border-box;margin-bottom: 0.5em;}#sk-container-id-3 div.sk-estimator:hover {background-color: #d4ebff;}#sk-container-id-3 div.sk-parallel-item::after {content: \"\";width: 100%;border-bottom: 1px solid gray;flex-grow: 1;}#sk-container-id-3 div.sk-label:hover label.sk-toggleable__label {background-color: #d4ebff;}#sk-container-id-3 div.sk-serial::before {content: \"\";position: absolute;border-left: 1px solid gray;box-sizing: border-box;top: 0;bottom: 0;left: 50%;z-index: 0;}#sk-container-id-3 div.sk-serial {display: flex;flex-direction: column;align-items: center;background-color: white;padding-right: 0.2em;padding-left: 0.2em;position: relative;}#sk-container-id-3 div.sk-item {position: relative;z-index: 1;}#sk-container-id-3 div.sk-parallel {display: flex;align-items: stretch;justify-content: center;background-color: white;position: relative;}#sk-container-id-3 div.sk-item::before, #sk-container-id-3 div.sk-parallel-item::before {content: \"\";position: absolute;border-left: 1px solid gray;box-sizing: border-box;top: 0;bottom: 0;left: 50%;z-index: -1;}#sk-container-id-3 div.sk-parallel-item {display: flex;flex-direction: column;z-index: 1;position: relative;background-color: white;}#sk-container-id-3 div.sk-parallel-item:first-child::after {align-self: flex-end;width: 50%;}#sk-container-id-3 div.sk-parallel-item:last-child::after {align-self: flex-start;width: 50%;}#sk-container-id-3 div.sk-parallel-item:only-child::after {width: 0;}#sk-container-id-3 div.sk-dashed-wrapped {border: 1px dashed gray;margin: 0 0.4em 0.5em 0.4em;box-sizing: border-box;padding-bottom: 0.4em;background-color: white;}#sk-container-id-3 div.sk-label label {font-family: monospace;font-weight: bold;display: inline-block;line-height: 1.2em;}#sk-container-id-3 div.sk-label-container {text-align: center;}#sk-container-id-3 div.sk-container {/* jupyter's `normalize.less` sets `[hidden] { display: none; }` but bootstrap.min.css set `[hidden] { display: none !important; }` so we also need the `!important` here to be able to override the default hidden behavior on the sphinx rendered scikit-learn.org. See: https://github.com/scikit-learn/scikit-learn/issues/21755 */display: inline-block !important;position: relative;}#sk-container-id-3 div.sk-text-repr-fallback {display: none;}</style><div id=\"sk-container-id-3\" class=\"sk-top-container\"><div class=\"sk-text-repr-fallback\"><pre>Pipeline(steps=[(&#x27;ohe&#x27;, OneHotEncoder(handle_unknown=&#x27;ignore&#x27;))])</pre><b>In a Jupyter environment, please rerun this cell to show the HTML representation or trust the notebook. <br />On GitHub, the HTML representation is unable to render, please try loading this page with nbviewer.org.</b></div><div class=\"sk-container\" hidden><div class=\"sk-item sk-dashed-wrapped\"><div class=\"sk-label-container\"><div class=\"sk-label sk-toggleable\"><input class=\"sk-toggleable__control sk-hidden--visually\" id=\"sk-estimator-id-6\" type=\"checkbox\" ><label for=\"sk-estimator-id-6\" class=\"sk-toggleable__label sk-toggleable__label-arrow\">Pipeline</label><div class=\"sk-toggleable__content\"><pre>Pipeline(steps=[(&#x27;ohe&#x27;, OneHotEncoder(handle_unknown=&#x27;ignore&#x27;))])</pre></div></div></div><div class=\"sk-serial\"><div class=\"sk-item\"><div class=\"sk-estimator sk-toggleable\"><input class=\"sk-toggleable__control sk-hidden--visually\" id=\"sk-estimator-id-7\" type=\"checkbox\" ><label for=\"sk-estimator-id-7\" class=\"sk-toggleable__label sk-toggleable__label-arrow\">OneHotEncoder</label><div class=\"sk-toggleable__content\"><pre>OneHotEncoder(handle_unknown=&#x27;ignore&#x27;)</pre></div></div></div></div></div></div></div>"
      ],
      "text/plain": [
       "Pipeline(steps=[('ohe', OneHotEncoder(handle_unknown='ignore'))])"
      ]
     },
     "execution_count": 63,
     "metadata": {},
     "output_type": "execute_result"
    }
   ],
   "source": [
    "cat_pipe = Pipeline(steps=[\n",
    "                            (\"ohe\", OneHotEncoder(handle_unknown=\"ignore\"))\n",
    "                        ])\n",
    "cat_pipe"
   ]
  },
  {
   "cell_type": "code",
   "execution_count": 64,
   "id": "4aa50514",
   "metadata": {
    "execution": {
     "iopub.execute_input": "2023-07-03T19:55:59.198588Z",
     "iopub.status.busy": "2023-07-03T19:55:59.197290Z",
     "iopub.status.idle": "2023-07-03T19:55:59.252237Z",
     "shell.execute_reply": "2023-07-03T19:55:59.251110Z"
    },
    "papermill": {
     "duration": 0.093316,
     "end_time": "2023-07-03T19:55:59.254835",
     "exception": false,
     "start_time": "2023-07-03T19:55:59.161519",
     "status": "completed"
    },
    "tags": []
   },
   "outputs": [
    {
     "data": {
      "text/html": [
       "<style>#sk-container-id-4 {color: black;background-color: white;}#sk-container-id-4 pre{padding: 0;}#sk-container-id-4 div.sk-toggleable {background-color: white;}#sk-container-id-4 label.sk-toggleable__label {cursor: pointer;display: block;width: 100%;margin-bottom: 0;padding: 0.3em;box-sizing: border-box;text-align: center;}#sk-container-id-4 label.sk-toggleable__label-arrow:before {content: \"▸\";float: left;margin-right: 0.25em;color: #696969;}#sk-container-id-4 label.sk-toggleable__label-arrow:hover:before {color: black;}#sk-container-id-4 div.sk-estimator:hover label.sk-toggleable__label-arrow:before {color: black;}#sk-container-id-4 div.sk-toggleable__content {max-height: 0;max-width: 0;overflow: hidden;text-align: left;background-color: #f0f8ff;}#sk-container-id-4 div.sk-toggleable__content pre {margin: 0.2em;color: black;border-radius: 0.25em;background-color: #f0f8ff;}#sk-container-id-4 input.sk-toggleable__control:checked~div.sk-toggleable__content {max-height: 200px;max-width: 100%;overflow: auto;}#sk-container-id-4 input.sk-toggleable__control:checked~label.sk-toggleable__label-arrow:before {content: \"▾\";}#sk-container-id-4 div.sk-estimator input.sk-toggleable__control:checked~label.sk-toggleable__label {background-color: #d4ebff;}#sk-container-id-4 div.sk-label input.sk-toggleable__control:checked~label.sk-toggleable__label {background-color: #d4ebff;}#sk-container-id-4 input.sk-hidden--visually {border: 0;clip: rect(1px 1px 1px 1px);clip: rect(1px, 1px, 1px, 1px);height: 1px;margin: -1px;overflow: hidden;padding: 0;position: absolute;width: 1px;}#sk-container-id-4 div.sk-estimator {font-family: monospace;background-color: #f0f8ff;border: 1px dotted black;border-radius: 0.25em;box-sizing: border-box;margin-bottom: 0.5em;}#sk-container-id-4 div.sk-estimator:hover {background-color: #d4ebff;}#sk-container-id-4 div.sk-parallel-item::after {content: \"\";width: 100%;border-bottom: 1px solid gray;flex-grow: 1;}#sk-container-id-4 div.sk-label:hover label.sk-toggleable__label {background-color: #d4ebff;}#sk-container-id-4 div.sk-serial::before {content: \"\";position: absolute;border-left: 1px solid gray;box-sizing: border-box;top: 0;bottom: 0;left: 50%;z-index: 0;}#sk-container-id-4 div.sk-serial {display: flex;flex-direction: column;align-items: center;background-color: white;padding-right: 0.2em;padding-left: 0.2em;position: relative;}#sk-container-id-4 div.sk-item {position: relative;z-index: 1;}#sk-container-id-4 div.sk-parallel {display: flex;align-items: stretch;justify-content: center;background-color: white;position: relative;}#sk-container-id-4 div.sk-item::before, #sk-container-id-4 div.sk-parallel-item::before {content: \"\";position: absolute;border-left: 1px solid gray;box-sizing: border-box;top: 0;bottom: 0;left: 50%;z-index: -1;}#sk-container-id-4 div.sk-parallel-item {display: flex;flex-direction: column;z-index: 1;position: relative;background-color: white;}#sk-container-id-4 div.sk-parallel-item:first-child::after {align-self: flex-end;width: 50%;}#sk-container-id-4 div.sk-parallel-item:last-child::after {align-self: flex-start;width: 50%;}#sk-container-id-4 div.sk-parallel-item:only-child::after {width: 0;}#sk-container-id-4 div.sk-dashed-wrapped {border: 1px dashed gray;margin: 0 0.4em 0.5em 0.4em;box-sizing: border-box;padding-bottom: 0.4em;background-color: white;}#sk-container-id-4 div.sk-label label {font-family: monospace;font-weight: bold;display: inline-block;line-height: 1.2em;}#sk-container-id-4 div.sk-label-container {text-align: center;}#sk-container-id-4 div.sk-container {/* jupyter's `normalize.less` sets `[hidden] { display: none; }` but bootstrap.min.css set `[hidden] { display: none !important; }` so we also need the `!important` here to be able to override the default hidden behavior on the sphinx rendered scikit-learn.org. See: https://github.com/scikit-learn/scikit-learn/issues/21755 */display: inline-block !important;position: relative;}#sk-container-id-4 div.sk-text-repr-fallback {display: none;}</style><div id=\"sk-container-id-4\" class=\"sk-top-container\"><div class=\"sk-text-repr-fallback\"><pre>ColumnTransformer(n_jobs=1,\n",
       "                  transformers=[(&#x27;num&#x27;,\n",
       "                                 Pipeline(steps=[(&#x27;imputer&#x27;, SimpleImputer()),\n",
       "                                                 (&#x27;scaler&#x27;, MinMaxScaler())]),\n",
       "                                 [&#x27;audienceScore&#x27;, &#x27;runtimeMinutes&#x27;]),\n",
       "                                (&#x27;txt1&#x27;,\n",
       "                                 Pipeline(steps=[(&#x27;tvec&#x27;, TfidfVectorizer())]),\n",
       "                                 &#x27;originalLanguage&#x27;),\n",
       "                                (&#x27;txt2&#x27;,\n",
       "                                 Pipeline(steps=[(&#x27;tvec&#x27;, TfidfVectorizer())]),\n",
       "                                 &#x27;genre&#x27;),\n",
       "                                (&#x27;txt3&#x27;,\n",
       "                                 Pipeline(steps=[(&#x27;tvec&#x27;, TfidfVectorizer())]),\n",
       "                                 &#x27;director&#x27;),\n",
       "                                (&#x27;cat&#x27;,\n",
       "                                 Pipeline(steps=[(&#x27;ohe&#x27;,\n",
       "                                                  OneHotEncoder(handle_unknown=&#x27;ignore&#x27;))]),\n",
       "                                 [&#x27;rating&#x27;, &#x27;isFrequentReviewer&#x27;]),\n",
       "                                (&#x27;txt4&#x27;, TfidfVectorizer(ngram_range=(1, 2)),\n",
       "                                 &#x27;reviewText&#x27;)])</pre><b>In a Jupyter environment, please rerun this cell to show the HTML representation or trust the notebook. <br />On GitHub, the HTML representation is unable to render, please try loading this page with nbviewer.org.</b></div><div class=\"sk-container\" hidden><div class=\"sk-item sk-dashed-wrapped\"><div class=\"sk-label-container\"><div class=\"sk-label sk-toggleable\"><input class=\"sk-toggleable__control sk-hidden--visually\" id=\"sk-estimator-id-8\" type=\"checkbox\" ><label for=\"sk-estimator-id-8\" class=\"sk-toggleable__label sk-toggleable__label-arrow\">ColumnTransformer</label><div class=\"sk-toggleable__content\"><pre>ColumnTransformer(n_jobs=1,\n",
       "                  transformers=[(&#x27;num&#x27;,\n",
       "                                 Pipeline(steps=[(&#x27;imputer&#x27;, SimpleImputer()),\n",
       "                                                 (&#x27;scaler&#x27;, MinMaxScaler())]),\n",
       "                                 [&#x27;audienceScore&#x27;, &#x27;runtimeMinutes&#x27;]),\n",
       "                                (&#x27;txt1&#x27;,\n",
       "                                 Pipeline(steps=[(&#x27;tvec&#x27;, TfidfVectorizer())]),\n",
       "                                 &#x27;originalLanguage&#x27;),\n",
       "                                (&#x27;txt2&#x27;,\n",
       "                                 Pipeline(steps=[(&#x27;tvec&#x27;, TfidfVectorizer())]),\n",
       "                                 &#x27;genre&#x27;),\n",
       "                                (&#x27;txt3&#x27;,\n",
       "                                 Pipeline(steps=[(&#x27;tvec&#x27;, TfidfVectorizer())]),\n",
       "                                 &#x27;director&#x27;),\n",
       "                                (&#x27;cat&#x27;,\n",
       "                                 Pipeline(steps=[(&#x27;ohe&#x27;,\n",
       "                                                  OneHotEncoder(handle_unknown=&#x27;ignore&#x27;))]),\n",
       "                                 [&#x27;rating&#x27;, &#x27;isFrequentReviewer&#x27;]),\n",
       "                                (&#x27;txt4&#x27;, TfidfVectorizer(ngram_range=(1, 2)),\n",
       "                                 &#x27;reviewText&#x27;)])</pre></div></div></div><div class=\"sk-parallel\"><div class=\"sk-parallel-item\"><div class=\"sk-item\"><div class=\"sk-label-container\"><div class=\"sk-label sk-toggleable\"><input class=\"sk-toggleable__control sk-hidden--visually\" id=\"sk-estimator-id-9\" type=\"checkbox\" ><label for=\"sk-estimator-id-9\" class=\"sk-toggleable__label sk-toggleable__label-arrow\">num</label><div class=\"sk-toggleable__content\"><pre>[&#x27;audienceScore&#x27;, &#x27;runtimeMinutes&#x27;]</pre></div></div></div><div class=\"sk-serial\"><div class=\"sk-item\"><div class=\"sk-serial\"><div class=\"sk-item\"><div class=\"sk-estimator sk-toggleable\"><input class=\"sk-toggleable__control sk-hidden--visually\" id=\"sk-estimator-id-10\" type=\"checkbox\" ><label for=\"sk-estimator-id-10\" class=\"sk-toggleable__label sk-toggleable__label-arrow\">SimpleImputer</label><div class=\"sk-toggleable__content\"><pre>SimpleImputer()</pre></div></div></div><div class=\"sk-item\"><div class=\"sk-estimator sk-toggleable\"><input class=\"sk-toggleable__control sk-hidden--visually\" id=\"sk-estimator-id-11\" type=\"checkbox\" ><label for=\"sk-estimator-id-11\" class=\"sk-toggleable__label sk-toggleable__label-arrow\">MinMaxScaler</label><div class=\"sk-toggleable__content\"><pre>MinMaxScaler()</pre></div></div></div></div></div></div></div></div><div class=\"sk-parallel-item\"><div class=\"sk-item\"><div class=\"sk-label-container\"><div class=\"sk-label sk-toggleable\"><input class=\"sk-toggleable__control sk-hidden--visually\" id=\"sk-estimator-id-12\" type=\"checkbox\" ><label for=\"sk-estimator-id-12\" class=\"sk-toggleable__label sk-toggleable__label-arrow\">txt1</label><div class=\"sk-toggleable__content\"><pre>originalLanguage</pre></div></div></div><div class=\"sk-serial\"><div class=\"sk-item\"><div class=\"sk-serial\"><div class=\"sk-item\"><div class=\"sk-estimator sk-toggleable\"><input class=\"sk-toggleable__control sk-hidden--visually\" id=\"sk-estimator-id-13\" type=\"checkbox\" ><label for=\"sk-estimator-id-13\" class=\"sk-toggleable__label sk-toggleable__label-arrow\">TfidfVectorizer</label><div class=\"sk-toggleable__content\"><pre>TfidfVectorizer()</pre></div></div></div></div></div></div></div></div><div class=\"sk-parallel-item\"><div class=\"sk-item\"><div class=\"sk-label-container\"><div class=\"sk-label sk-toggleable\"><input class=\"sk-toggleable__control sk-hidden--visually\" id=\"sk-estimator-id-14\" type=\"checkbox\" ><label for=\"sk-estimator-id-14\" class=\"sk-toggleable__label sk-toggleable__label-arrow\">txt2</label><div class=\"sk-toggleable__content\"><pre>genre</pre></div></div></div><div class=\"sk-serial\"><div class=\"sk-item\"><div class=\"sk-serial\"><div class=\"sk-item\"><div class=\"sk-estimator sk-toggleable\"><input class=\"sk-toggleable__control sk-hidden--visually\" id=\"sk-estimator-id-15\" type=\"checkbox\" ><label for=\"sk-estimator-id-15\" class=\"sk-toggleable__label sk-toggleable__label-arrow\">TfidfVectorizer</label><div class=\"sk-toggleable__content\"><pre>TfidfVectorizer()</pre></div></div></div></div></div></div></div></div><div class=\"sk-parallel-item\"><div class=\"sk-item\"><div class=\"sk-label-container\"><div class=\"sk-label sk-toggleable\"><input class=\"sk-toggleable__control sk-hidden--visually\" id=\"sk-estimator-id-16\" type=\"checkbox\" ><label for=\"sk-estimator-id-16\" class=\"sk-toggleable__label sk-toggleable__label-arrow\">txt3</label><div class=\"sk-toggleable__content\"><pre>director</pre></div></div></div><div class=\"sk-serial\"><div class=\"sk-item\"><div class=\"sk-serial\"><div class=\"sk-item\"><div class=\"sk-estimator sk-toggleable\"><input class=\"sk-toggleable__control sk-hidden--visually\" id=\"sk-estimator-id-17\" type=\"checkbox\" ><label for=\"sk-estimator-id-17\" class=\"sk-toggleable__label sk-toggleable__label-arrow\">TfidfVectorizer</label><div class=\"sk-toggleable__content\"><pre>TfidfVectorizer()</pre></div></div></div></div></div></div></div></div><div class=\"sk-parallel-item\"><div class=\"sk-item\"><div class=\"sk-label-container\"><div class=\"sk-label sk-toggleable\"><input class=\"sk-toggleable__control sk-hidden--visually\" id=\"sk-estimator-id-18\" type=\"checkbox\" ><label for=\"sk-estimator-id-18\" class=\"sk-toggleable__label sk-toggleable__label-arrow\">cat</label><div class=\"sk-toggleable__content\"><pre>[&#x27;rating&#x27;, &#x27;isFrequentReviewer&#x27;]</pre></div></div></div><div class=\"sk-serial\"><div class=\"sk-item\"><div class=\"sk-serial\"><div class=\"sk-item\"><div class=\"sk-estimator sk-toggleable\"><input class=\"sk-toggleable__control sk-hidden--visually\" id=\"sk-estimator-id-19\" type=\"checkbox\" ><label for=\"sk-estimator-id-19\" class=\"sk-toggleable__label sk-toggleable__label-arrow\">OneHotEncoder</label><div class=\"sk-toggleable__content\"><pre>OneHotEncoder(handle_unknown=&#x27;ignore&#x27;)</pre></div></div></div></div></div></div></div></div><div class=\"sk-parallel-item\"><div class=\"sk-item\"><div class=\"sk-label-container\"><div class=\"sk-label sk-toggleable\"><input class=\"sk-toggleable__control sk-hidden--visually\" id=\"sk-estimator-id-20\" type=\"checkbox\" ><label for=\"sk-estimator-id-20\" class=\"sk-toggleable__label sk-toggleable__label-arrow\">txt4</label><div class=\"sk-toggleable__content\"><pre>reviewText</pre></div></div></div><div class=\"sk-serial\"><div class=\"sk-item\"><div class=\"sk-estimator sk-toggleable\"><input class=\"sk-toggleable__control sk-hidden--visually\" id=\"sk-estimator-id-21\" type=\"checkbox\" ><label for=\"sk-estimator-id-21\" class=\"sk-toggleable__label sk-toggleable__label-arrow\">TfidfVectorizer</label><div class=\"sk-toggleable__content\"><pre>TfidfVectorizer(ngram_range=(1, 2))</pre></div></div></div></div></div></div></div></div></div></div>"
      ],
      "text/plain": [
       "ColumnTransformer(n_jobs=1,\n",
       "                  transformers=[('num',\n",
       "                                 Pipeline(steps=[('imputer', SimpleImputer()),\n",
       "                                                 ('scaler', MinMaxScaler())]),\n",
       "                                 ['audienceScore', 'runtimeMinutes']),\n",
       "                                ('txt1',\n",
       "                                 Pipeline(steps=[('tvec', TfidfVectorizer())]),\n",
       "                                 'originalLanguage'),\n",
       "                                ('txt2',\n",
       "                                 Pipeline(steps=[('tvec', TfidfVectorizer())]),\n",
       "                                 'genre'),\n",
       "                                ('txt3',\n",
       "                                 Pipeline(steps=[('tvec', TfidfVectorizer())]),\n",
       "                                 'director'),\n",
       "                                ('cat',\n",
       "                                 Pipeline(steps=[('ohe',\n",
       "                                                  OneHotEncoder(handle_unknown='ignore'))]),\n",
       "                                 ['rating', 'isFrequentReviewer']),\n",
       "                                ('txt4', TfidfVectorizer(ngram_range=(1, 2)),\n",
       "                                 'reviewText')])"
      ]
     },
     "execution_count": 64,
     "metadata": {},
     "output_type": "execute_result"
    }
   ],
   "source": [
    "ct_final = ColumnTransformer(transformers=[\n",
    "                                        (\"num\", num_pipe, num_vars),\n",
    "                                        (\"txt1\", txt_pipe, \"originalLanguage\"),\n",
    "                                        (\"txt2\", txt_pipe, \"genre\"),\n",
    "                                        (\"txt3\", txt_pipe, \"director\"),\n",
    "                                        (\"cat\", cat_pipe, cat_vars),\n",
    "                                        (\"txt4\", TfidfVectorizer(ngram_range=(1,2)), \"reviewText\"),\n",
    "#                                         (\"cat2\", cat_pipe, [\"isFrequentReviewer\"])\n",
    "                                        ], remainder=\"drop\", n_jobs=1)\n",
    "\n",
    "# Note that this transformer drops \"movieid\" column and \"reviewerName\" column  \n",
    "ct_final"
   ]
  },
  {
   "cell_type": "code",
   "execution_count": 65,
   "id": "b58049c0",
   "metadata": {
    "execution": {
     "iopub.execute_input": "2023-07-03T19:55:59.324641Z",
     "iopub.status.busy": "2023-07-03T19:55:59.324195Z",
     "iopub.status.idle": "2023-07-03T19:55:59.481061Z",
     "shell.execute_reply": "2023-07-03T19:55:59.479955Z"
    },
    "papermill": {
     "duration": 0.194911,
     "end_time": "2023-07-03T19:55:59.483677",
     "exception": false,
     "start_time": "2023-07-03T19:55:59.288766",
     "status": "completed"
    },
    "tags": []
   },
   "outputs": [
    {
     "data": {
      "text/html": [
       "<style>#sk-container-id-5 {color: black;background-color: white;}#sk-container-id-5 pre{padding: 0;}#sk-container-id-5 div.sk-toggleable {background-color: white;}#sk-container-id-5 label.sk-toggleable__label {cursor: pointer;display: block;width: 100%;margin-bottom: 0;padding: 0.3em;box-sizing: border-box;text-align: center;}#sk-container-id-5 label.sk-toggleable__label-arrow:before {content: \"▸\";float: left;margin-right: 0.25em;color: #696969;}#sk-container-id-5 label.sk-toggleable__label-arrow:hover:before {color: black;}#sk-container-id-5 div.sk-estimator:hover label.sk-toggleable__label-arrow:before {color: black;}#sk-container-id-5 div.sk-toggleable__content {max-height: 0;max-width: 0;overflow: hidden;text-align: left;background-color: #f0f8ff;}#sk-container-id-5 div.sk-toggleable__content pre {margin: 0.2em;color: black;border-radius: 0.25em;background-color: #f0f8ff;}#sk-container-id-5 input.sk-toggleable__control:checked~div.sk-toggleable__content {max-height: 200px;max-width: 100%;overflow: auto;}#sk-container-id-5 input.sk-toggleable__control:checked~label.sk-toggleable__label-arrow:before {content: \"▾\";}#sk-container-id-5 div.sk-estimator input.sk-toggleable__control:checked~label.sk-toggleable__label {background-color: #d4ebff;}#sk-container-id-5 div.sk-label input.sk-toggleable__control:checked~label.sk-toggleable__label {background-color: #d4ebff;}#sk-container-id-5 input.sk-hidden--visually {border: 0;clip: rect(1px 1px 1px 1px);clip: rect(1px, 1px, 1px, 1px);height: 1px;margin: -1px;overflow: hidden;padding: 0;position: absolute;width: 1px;}#sk-container-id-5 div.sk-estimator {font-family: monospace;background-color: #f0f8ff;border: 1px dotted black;border-radius: 0.25em;box-sizing: border-box;margin-bottom: 0.5em;}#sk-container-id-5 div.sk-estimator:hover {background-color: #d4ebff;}#sk-container-id-5 div.sk-parallel-item::after {content: \"\";width: 100%;border-bottom: 1px solid gray;flex-grow: 1;}#sk-container-id-5 div.sk-label:hover label.sk-toggleable__label {background-color: #d4ebff;}#sk-container-id-5 div.sk-serial::before {content: \"\";position: absolute;border-left: 1px solid gray;box-sizing: border-box;top: 0;bottom: 0;left: 50%;z-index: 0;}#sk-container-id-5 div.sk-serial {display: flex;flex-direction: column;align-items: center;background-color: white;padding-right: 0.2em;padding-left: 0.2em;position: relative;}#sk-container-id-5 div.sk-item {position: relative;z-index: 1;}#sk-container-id-5 div.sk-parallel {display: flex;align-items: stretch;justify-content: center;background-color: white;position: relative;}#sk-container-id-5 div.sk-item::before, #sk-container-id-5 div.sk-parallel-item::before {content: \"\";position: absolute;border-left: 1px solid gray;box-sizing: border-box;top: 0;bottom: 0;left: 50%;z-index: -1;}#sk-container-id-5 div.sk-parallel-item {display: flex;flex-direction: column;z-index: 1;position: relative;background-color: white;}#sk-container-id-5 div.sk-parallel-item:first-child::after {align-self: flex-end;width: 50%;}#sk-container-id-5 div.sk-parallel-item:last-child::after {align-self: flex-start;width: 50%;}#sk-container-id-5 div.sk-parallel-item:only-child::after {width: 0;}#sk-container-id-5 div.sk-dashed-wrapped {border: 1px dashed gray;margin: 0 0.4em 0.5em 0.4em;box-sizing: border-box;padding-bottom: 0.4em;background-color: white;}#sk-container-id-5 div.sk-label label {font-family: monospace;font-weight: bold;display: inline-block;line-height: 1.2em;}#sk-container-id-5 div.sk-label-container {text-align: center;}#sk-container-id-5 div.sk-container {/* jupyter's `normalize.less` sets `[hidden] { display: none; }` but bootstrap.min.css set `[hidden] { display: none !important; }` so we also need the `!important` here to be able to override the default hidden behavior on the sphinx rendered scikit-learn.org. See: https://github.com/scikit-learn/scikit-learn/issues/21755 */display: inline-block !important;position: relative;}#sk-container-id-5 div.sk-text-repr-fallback {display: none;}</style><div id=\"sk-container-id-5\" class=\"sk-top-container\"><div class=\"sk-text-repr-fallback\"><pre>Pipeline(steps=[(&#x27;preprocessor&#x27;,\n",
       "                 ColumnTransformer(n_jobs=1,\n",
       "                                   transformers=[(&#x27;num&#x27;,\n",
       "                                                  Pipeline(steps=[(&#x27;imputer&#x27;,\n",
       "                                                                   SimpleImputer()),\n",
       "                                                                  (&#x27;scaler&#x27;,\n",
       "                                                                   MinMaxScaler())]),\n",
       "                                                  [&#x27;audienceScore&#x27;,\n",
       "                                                   &#x27;runtimeMinutes&#x27;]),\n",
       "                                                 (&#x27;txt1&#x27;,\n",
       "                                                  Pipeline(steps=[(&#x27;tvec&#x27;,\n",
       "                                                                   TfidfVectorizer())]),\n",
       "                                                  &#x27;originalLanguage&#x27;),\n",
       "                                                 (&#x27;txt2&#x27;,\n",
       "                                                  Pipeline(steps=[(&#x27;tvec&#x27;,\n",
       "                                                                   TfidfVectorizer())]),\n",
       "                                                  &#x27;genre&#x27;),\n",
       "                                                 (&#x27;txt3&#x27;,\n",
       "                                                  Pipeline(steps=[(&#x27;tvec&#x27;,\n",
       "                                                                   TfidfVectorizer())]),\n",
       "                                                  &#x27;director&#x27;),\n",
       "                                                 (&#x27;cat&#x27;,\n",
       "                                                  Pipeline(steps=[(&#x27;ohe&#x27;,\n",
       "                                                                   OneHotEncoder(handle_unknown=&#x27;ignore&#x27;))]),\n",
       "                                                  [&#x27;rating&#x27;,\n",
       "                                                   &#x27;isFrequentReviewer&#x27;]),\n",
       "                                                 (&#x27;txt4&#x27;,\n",
       "                                                  TfidfVectorizer(ngram_range=(1,\n",
       "                                                                               2)),\n",
       "                                                  &#x27;reviewText&#x27;)])),\n",
       "                (&#x27;model&#x27;, LogisticRegression(max_iter=100000))])</pre><b>In a Jupyter environment, please rerun this cell to show the HTML representation or trust the notebook. <br />On GitHub, the HTML representation is unable to render, please try loading this page with nbviewer.org.</b></div><div class=\"sk-container\" hidden><div class=\"sk-item sk-dashed-wrapped\"><div class=\"sk-label-container\"><div class=\"sk-label sk-toggleable\"><input class=\"sk-toggleable__control sk-hidden--visually\" id=\"sk-estimator-id-22\" type=\"checkbox\" ><label for=\"sk-estimator-id-22\" class=\"sk-toggleable__label sk-toggleable__label-arrow\">Pipeline</label><div class=\"sk-toggleable__content\"><pre>Pipeline(steps=[(&#x27;preprocessor&#x27;,\n",
       "                 ColumnTransformer(n_jobs=1,\n",
       "                                   transformers=[(&#x27;num&#x27;,\n",
       "                                                  Pipeline(steps=[(&#x27;imputer&#x27;,\n",
       "                                                                   SimpleImputer()),\n",
       "                                                                  (&#x27;scaler&#x27;,\n",
       "                                                                   MinMaxScaler())]),\n",
       "                                                  [&#x27;audienceScore&#x27;,\n",
       "                                                   &#x27;runtimeMinutes&#x27;]),\n",
       "                                                 (&#x27;txt1&#x27;,\n",
       "                                                  Pipeline(steps=[(&#x27;tvec&#x27;,\n",
       "                                                                   TfidfVectorizer())]),\n",
       "                                                  &#x27;originalLanguage&#x27;),\n",
       "                                                 (&#x27;txt2&#x27;,\n",
       "                                                  Pipeline(steps=[(&#x27;tvec&#x27;,\n",
       "                                                                   TfidfVectorizer())]),\n",
       "                                                  &#x27;genre&#x27;),\n",
       "                                                 (&#x27;txt3&#x27;,\n",
       "                                                  Pipeline(steps=[(&#x27;tvec&#x27;,\n",
       "                                                                   TfidfVectorizer())]),\n",
       "                                                  &#x27;director&#x27;),\n",
       "                                                 (&#x27;cat&#x27;,\n",
       "                                                  Pipeline(steps=[(&#x27;ohe&#x27;,\n",
       "                                                                   OneHotEncoder(handle_unknown=&#x27;ignore&#x27;))]),\n",
       "                                                  [&#x27;rating&#x27;,\n",
       "                                                   &#x27;isFrequentReviewer&#x27;]),\n",
       "                                                 (&#x27;txt4&#x27;,\n",
       "                                                  TfidfVectorizer(ngram_range=(1,\n",
       "                                                                               2)),\n",
       "                                                  &#x27;reviewText&#x27;)])),\n",
       "                (&#x27;model&#x27;, LogisticRegression(max_iter=100000))])</pre></div></div></div><div class=\"sk-serial\"><div class=\"sk-item sk-dashed-wrapped\"><div class=\"sk-label-container\"><div class=\"sk-label sk-toggleable\"><input class=\"sk-toggleable__control sk-hidden--visually\" id=\"sk-estimator-id-23\" type=\"checkbox\" ><label for=\"sk-estimator-id-23\" class=\"sk-toggleable__label sk-toggleable__label-arrow\">preprocessor: ColumnTransformer</label><div class=\"sk-toggleable__content\"><pre>ColumnTransformer(n_jobs=1,\n",
       "                  transformers=[(&#x27;num&#x27;,\n",
       "                                 Pipeline(steps=[(&#x27;imputer&#x27;, SimpleImputer()),\n",
       "                                                 (&#x27;scaler&#x27;, MinMaxScaler())]),\n",
       "                                 [&#x27;audienceScore&#x27;, &#x27;runtimeMinutes&#x27;]),\n",
       "                                (&#x27;txt1&#x27;,\n",
       "                                 Pipeline(steps=[(&#x27;tvec&#x27;, TfidfVectorizer())]),\n",
       "                                 &#x27;originalLanguage&#x27;),\n",
       "                                (&#x27;txt2&#x27;,\n",
       "                                 Pipeline(steps=[(&#x27;tvec&#x27;, TfidfVectorizer())]),\n",
       "                                 &#x27;genre&#x27;),\n",
       "                                (&#x27;txt3&#x27;,\n",
       "                                 Pipeline(steps=[(&#x27;tvec&#x27;, TfidfVectorizer())]),\n",
       "                                 &#x27;director&#x27;),\n",
       "                                (&#x27;cat&#x27;,\n",
       "                                 Pipeline(steps=[(&#x27;ohe&#x27;,\n",
       "                                                  OneHotEncoder(handle_unknown=&#x27;ignore&#x27;))]),\n",
       "                                 [&#x27;rating&#x27;, &#x27;isFrequentReviewer&#x27;]),\n",
       "                                (&#x27;txt4&#x27;, TfidfVectorizer(ngram_range=(1, 2)),\n",
       "                                 &#x27;reviewText&#x27;)])</pre></div></div></div><div class=\"sk-parallel\"><div class=\"sk-parallel-item\"><div class=\"sk-item\"><div class=\"sk-label-container\"><div class=\"sk-label sk-toggleable\"><input class=\"sk-toggleable__control sk-hidden--visually\" id=\"sk-estimator-id-24\" type=\"checkbox\" ><label for=\"sk-estimator-id-24\" class=\"sk-toggleable__label sk-toggleable__label-arrow\">num</label><div class=\"sk-toggleable__content\"><pre>[&#x27;audienceScore&#x27;, &#x27;runtimeMinutes&#x27;]</pre></div></div></div><div class=\"sk-serial\"><div class=\"sk-item\"><div class=\"sk-serial\"><div class=\"sk-item\"><div class=\"sk-estimator sk-toggleable\"><input class=\"sk-toggleable__control sk-hidden--visually\" id=\"sk-estimator-id-25\" type=\"checkbox\" ><label for=\"sk-estimator-id-25\" class=\"sk-toggleable__label sk-toggleable__label-arrow\">SimpleImputer</label><div class=\"sk-toggleable__content\"><pre>SimpleImputer()</pre></div></div></div><div class=\"sk-item\"><div class=\"sk-estimator sk-toggleable\"><input class=\"sk-toggleable__control sk-hidden--visually\" id=\"sk-estimator-id-26\" type=\"checkbox\" ><label for=\"sk-estimator-id-26\" class=\"sk-toggleable__label sk-toggleable__label-arrow\">MinMaxScaler</label><div class=\"sk-toggleable__content\"><pre>MinMaxScaler()</pre></div></div></div></div></div></div></div></div><div class=\"sk-parallel-item\"><div class=\"sk-item\"><div class=\"sk-label-container\"><div class=\"sk-label sk-toggleable\"><input class=\"sk-toggleable__control sk-hidden--visually\" id=\"sk-estimator-id-27\" type=\"checkbox\" ><label for=\"sk-estimator-id-27\" class=\"sk-toggleable__label sk-toggleable__label-arrow\">txt1</label><div class=\"sk-toggleable__content\"><pre>originalLanguage</pre></div></div></div><div class=\"sk-serial\"><div class=\"sk-item\"><div class=\"sk-serial\"><div class=\"sk-item\"><div class=\"sk-estimator sk-toggleable\"><input class=\"sk-toggleable__control sk-hidden--visually\" id=\"sk-estimator-id-28\" type=\"checkbox\" ><label for=\"sk-estimator-id-28\" class=\"sk-toggleable__label sk-toggleable__label-arrow\">TfidfVectorizer</label><div class=\"sk-toggleable__content\"><pre>TfidfVectorizer()</pre></div></div></div></div></div></div></div></div><div class=\"sk-parallel-item\"><div class=\"sk-item\"><div class=\"sk-label-container\"><div class=\"sk-label sk-toggleable\"><input class=\"sk-toggleable__control sk-hidden--visually\" id=\"sk-estimator-id-29\" type=\"checkbox\" ><label for=\"sk-estimator-id-29\" class=\"sk-toggleable__label sk-toggleable__label-arrow\">txt2</label><div class=\"sk-toggleable__content\"><pre>genre</pre></div></div></div><div class=\"sk-serial\"><div class=\"sk-item\"><div class=\"sk-serial\"><div class=\"sk-item\"><div class=\"sk-estimator sk-toggleable\"><input class=\"sk-toggleable__control sk-hidden--visually\" id=\"sk-estimator-id-30\" type=\"checkbox\" ><label for=\"sk-estimator-id-30\" class=\"sk-toggleable__label sk-toggleable__label-arrow\">TfidfVectorizer</label><div class=\"sk-toggleable__content\"><pre>TfidfVectorizer()</pre></div></div></div></div></div></div></div></div><div class=\"sk-parallel-item\"><div class=\"sk-item\"><div class=\"sk-label-container\"><div class=\"sk-label sk-toggleable\"><input class=\"sk-toggleable__control sk-hidden--visually\" id=\"sk-estimator-id-31\" type=\"checkbox\" ><label for=\"sk-estimator-id-31\" class=\"sk-toggleable__label sk-toggleable__label-arrow\">txt3</label><div class=\"sk-toggleable__content\"><pre>director</pre></div></div></div><div class=\"sk-serial\"><div class=\"sk-item\"><div class=\"sk-serial\"><div class=\"sk-item\"><div class=\"sk-estimator sk-toggleable\"><input class=\"sk-toggleable__control sk-hidden--visually\" id=\"sk-estimator-id-32\" type=\"checkbox\" ><label for=\"sk-estimator-id-32\" class=\"sk-toggleable__label sk-toggleable__label-arrow\">TfidfVectorizer</label><div class=\"sk-toggleable__content\"><pre>TfidfVectorizer()</pre></div></div></div></div></div></div></div></div><div class=\"sk-parallel-item\"><div class=\"sk-item\"><div class=\"sk-label-container\"><div class=\"sk-label sk-toggleable\"><input class=\"sk-toggleable__control sk-hidden--visually\" id=\"sk-estimator-id-33\" type=\"checkbox\" ><label for=\"sk-estimator-id-33\" class=\"sk-toggleable__label sk-toggleable__label-arrow\">cat</label><div class=\"sk-toggleable__content\"><pre>[&#x27;rating&#x27;, &#x27;isFrequentReviewer&#x27;]</pre></div></div></div><div class=\"sk-serial\"><div class=\"sk-item\"><div class=\"sk-serial\"><div class=\"sk-item\"><div class=\"sk-estimator sk-toggleable\"><input class=\"sk-toggleable__control sk-hidden--visually\" id=\"sk-estimator-id-34\" type=\"checkbox\" ><label for=\"sk-estimator-id-34\" class=\"sk-toggleable__label sk-toggleable__label-arrow\">OneHotEncoder</label><div class=\"sk-toggleable__content\"><pre>OneHotEncoder(handle_unknown=&#x27;ignore&#x27;)</pre></div></div></div></div></div></div></div></div><div class=\"sk-parallel-item\"><div class=\"sk-item\"><div class=\"sk-label-container\"><div class=\"sk-label sk-toggleable\"><input class=\"sk-toggleable__control sk-hidden--visually\" id=\"sk-estimator-id-35\" type=\"checkbox\" ><label for=\"sk-estimator-id-35\" class=\"sk-toggleable__label sk-toggleable__label-arrow\">txt4</label><div class=\"sk-toggleable__content\"><pre>reviewText</pre></div></div></div><div class=\"sk-serial\"><div class=\"sk-item\"><div class=\"sk-estimator sk-toggleable\"><input class=\"sk-toggleable__control sk-hidden--visually\" id=\"sk-estimator-id-36\" type=\"checkbox\" ><label for=\"sk-estimator-id-36\" class=\"sk-toggleable__label sk-toggleable__label-arrow\">TfidfVectorizer</label><div class=\"sk-toggleable__content\"><pre>TfidfVectorizer(ngram_range=(1, 2))</pre></div></div></div></div></div></div></div></div><div class=\"sk-item\"><div class=\"sk-estimator sk-toggleable\"><input class=\"sk-toggleable__control sk-hidden--visually\" id=\"sk-estimator-id-37\" type=\"checkbox\" ><label for=\"sk-estimator-id-37\" class=\"sk-toggleable__label sk-toggleable__label-arrow\">LogisticRegression</label><div class=\"sk-toggleable__content\"><pre>LogisticRegression(max_iter=100000)</pre></div></div></div></div></div></div></div>"
      ],
      "text/plain": [
       "Pipeline(steps=[('preprocessor',\n",
       "                 ColumnTransformer(n_jobs=1,\n",
       "                                   transformers=[('num',\n",
       "                                                  Pipeline(steps=[('imputer',\n",
       "                                                                   SimpleImputer()),\n",
       "                                                                  ('scaler',\n",
       "                                                                   MinMaxScaler())]),\n",
       "                                                  ['audienceScore',\n",
       "                                                   'runtimeMinutes']),\n",
       "                                                 ('txt1',\n",
       "                                                  Pipeline(steps=[('tvec',\n",
       "                                                                   TfidfVectorizer())]),\n",
       "                                                  'originalLanguage'),\n",
       "                                                 ('txt2',\n",
       "                                                  Pipeline(steps=[('tvec',\n",
       "                                                                   TfidfVectorizer())]),\n",
       "                                                  'genre'),\n",
       "                                                 ('txt3',\n",
       "                                                  Pipeline(steps=[('tvec',\n",
       "                                                                   TfidfVectorizer())]),\n",
       "                                                  'director'),\n",
       "                                                 ('cat',\n",
       "                                                  Pipeline(steps=[('ohe',\n",
       "                                                                   OneHotEncoder(handle_unknown='ignore'))]),\n",
       "                                                  ['rating',\n",
       "                                                   'isFrequentReviewer']),\n",
       "                                                 ('txt4',\n",
       "                                                  TfidfVectorizer(ngram_range=(1,\n",
       "                                                                               2)),\n",
       "                                                  'reviewText')])),\n",
       "                ('model', LogisticRegression(max_iter=100000))])"
      ]
     },
     "execution_count": 65,
     "metadata": {},
     "output_type": "execute_result"
    }
   ],
   "source": [
    "pipe_final = Pipeline(steps=[\n",
    "                        (\"preprocessor\", ct_final),\n",
    "                        (\"model\", LogisticRegression(max_iter=100000))\n",
    "                    ])\n",
    "pipe_final"
   ]
  },
  {
   "cell_type": "code",
   "execution_count": 66,
   "id": "4009ccb1",
   "metadata": {
    "execution": {
     "iopub.execute_input": "2023-07-03T19:55:59.554843Z",
     "iopub.status.busy": "2023-07-03T19:55:59.553965Z",
     "iopub.status.idle": "2023-07-03T19:55:59.561270Z",
     "shell.execute_reply": "2023-07-03T19:55:59.560236Z"
    },
    "papermill": {
     "duration": 0.045115,
     "end_time": "2023-07-03T19:55:59.563649",
     "exception": false,
     "start_time": "2023-07-03T19:55:59.518534",
     "status": "completed"
    },
    "tags": []
   },
   "outputs": [
    {
     "data": {
      "text/plain": [
       "(9,\n",
       " ['audienceScore',\n",
       "  'runtimeMinutes',\n",
       "  'originalLanguage',\n",
       "  'genre',\n",
       "  'director',\n",
       "  'reviewerName',\n",
       "  'reviewText',\n",
       "  'rating',\n",
       "  'isFrequentReviewer'])"
      ]
     },
     "execution_count": 66,
     "metadata": {},
     "output_type": "execute_result"
    }
   ],
   "source": [
    "final_vars = num_vars + txt_vars + cat_vars\n",
    "len(final_vars), final_vars"
   ]
  },
  {
   "cell_type": "code",
   "execution_count": 67,
   "id": "20ee60e8",
   "metadata": {
    "execution": {
     "iopub.execute_input": "2023-07-03T19:55:59.634139Z",
     "iopub.status.busy": "2023-07-03T19:55:59.633701Z",
     "iopub.status.idle": "2023-07-03T19:55:59.638727Z",
     "shell.execute_reply": "2023-07-03T19:55:59.637492Z"
    },
    "papermill": {
     "duration": 0.042931,
     "end_time": "2023-07-03T19:55:59.641190",
     "exception": false,
     "start_time": "2023-07-03T19:55:59.598259",
     "status": "completed"
    },
    "tags": []
   },
   "outputs": [],
   "source": [
    "# split_train_predict(merged_train_features, merged_train_labels, pipe_final, test_size=0.25, random_state=42)"
   ]
  },
  {
   "cell_type": "markdown",
   "id": "30f92b46",
   "metadata": {
    "papermill": {
     "duration": 0.034052,
     "end_time": "2023-07-03T19:55:59.709897",
     "exception": false,
     "start_time": "2023-07-03T19:55:59.675845",
     "status": "completed"
    },
    "tags": []
   },
   "source": [
    "### Merge and preprocess \"test.csv\" and \"movies.csv\" files  "
   ]
  },
  {
   "cell_type": "code",
   "execution_count": 68,
   "id": "5abea435",
   "metadata": {
    "execution": {
     "iopub.execute_input": "2023-07-03T19:55:59.781252Z",
     "iopub.status.busy": "2023-07-03T19:55:59.780871Z",
     "iopub.status.idle": "2023-07-03T19:56:01.246016Z",
     "shell.execute_reply": "2023-07-03T19:56:01.244875Z"
    },
    "papermill": {
     "duration": 1.503982,
     "end_time": "2023-07-03T19:56:01.248901",
     "exception": false,
     "start_time": "2023-07-03T19:55:59.744919",
     "status": "completed"
    },
    "tags": []
   },
   "outputs": [
    {
     "name": "stdout",
     "output_type": "stream",
     "text": [
      "Shape of the dataframe: (55315, 10)\n",
      "\n",
      "Columns in the dataframe:\n",
      "Index(['movieid', 'reviewerName', 'isFrequentReviewer', 'reviewText',\n",
      "       'audienceScore', 'rating', 'runtimeMinutes', 'genre',\n",
      "       'originalLanguage', 'director'],\n",
      "      dtype='object')\n",
      "\n",
      "<class 'pandas.core.frame.DataFrame'>\n",
      "Int64Index: 55315 entries, 0 to 55314\n",
      "Data columns (total 10 columns):\n",
      " #   Column              Non-Null Count  Dtype  \n",
      "---  ------              --------------  -----  \n",
      " 0   movieid             55315 non-null  object \n",
      " 1   reviewerName        55315 non-null  object \n",
      " 2   isFrequentReviewer  55315 non-null  bool   \n",
      " 3   reviewText          55315 non-null  object \n",
      " 4   audienceScore       55315 non-null  float64\n",
      " 5   rating              55315 non-null  object \n",
      " 6   runtimeMinutes      55315 non-null  float64\n",
      " 7   genre               55315 non-null  object \n",
      " 8   originalLanguage    55315 non-null  object \n",
      " 9   director            55315 non-null  object \n",
      "dtypes: bool(1), float64(2), object(7)\n",
      "memory usage: 4.3+ MB\n",
      "None\n",
      "\n",
      "Missing values:\n",
      "movieid               0\n",
      "reviewerName          0\n",
      "isFrequentReviewer    0\n",
      "reviewText            0\n",
      "audienceScore         0\n",
      "rating                0\n",
      "runtimeMinutes        0\n",
      "genre                 0\n",
      "originalLanguage      0\n",
      "director              0\n",
      "dtype: int64\n"
     ]
    }
   ],
   "source": [
    "merged_test = select_features(load_csv(\"test\"), load_csv(\"movies\"))\n",
    "inspect(merged_test)"
   ]
  },
  {
   "cell_type": "markdown",
   "id": "8a2e6ff3",
   "metadata": {
    "papermill": {
     "duration": 0.034904,
     "end_time": "2023-07-03T19:56:01.319193",
     "exception": false,
     "start_time": "2023-07-03T19:56:01.284289",
     "status": "completed"
    },
    "tags": []
   },
   "source": [
    "## Try the best four features obtained on local machine  "
   ]
  },
  {
   "cell_type": "code",
   "execution_count": 69,
   "id": "347544c4",
   "metadata": {
    "execution": {
     "iopub.execute_input": "2023-07-03T19:56:01.390253Z",
     "iopub.status.busy": "2023-07-03T19:56:01.389879Z",
     "iopub.status.idle": "2023-07-03T19:56:01.474369Z",
     "shell.execute_reply": "2023-07-03T19:56:01.473281Z"
    },
    "papermill": {
     "duration": 0.122897,
     "end_time": "2023-07-03T19:56:01.476895",
     "exception": false,
     "start_time": "2023-07-03T19:56:01.353998",
     "status": "completed"
    },
    "tags": []
   },
   "outputs": [
    {
     "data": {
      "text/html": [
       "<style>#sk-container-id-6 {color: black;background-color: white;}#sk-container-id-6 pre{padding: 0;}#sk-container-id-6 div.sk-toggleable {background-color: white;}#sk-container-id-6 label.sk-toggleable__label {cursor: pointer;display: block;width: 100%;margin-bottom: 0;padding: 0.3em;box-sizing: border-box;text-align: center;}#sk-container-id-6 label.sk-toggleable__label-arrow:before {content: \"▸\";float: left;margin-right: 0.25em;color: #696969;}#sk-container-id-6 label.sk-toggleable__label-arrow:hover:before {color: black;}#sk-container-id-6 div.sk-estimator:hover label.sk-toggleable__label-arrow:before {color: black;}#sk-container-id-6 div.sk-toggleable__content {max-height: 0;max-width: 0;overflow: hidden;text-align: left;background-color: #f0f8ff;}#sk-container-id-6 div.sk-toggleable__content pre {margin: 0.2em;color: black;border-radius: 0.25em;background-color: #f0f8ff;}#sk-container-id-6 input.sk-toggleable__control:checked~div.sk-toggleable__content {max-height: 200px;max-width: 100%;overflow: auto;}#sk-container-id-6 input.sk-toggleable__control:checked~label.sk-toggleable__label-arrow:before {content: \"▾\";}#sk-container-id-6 div.sk-estimator input.sk-toggleable__control:checked~label.sk-toggleable__label {background-color: #d4ebff;}#sk-container-id-6 div.sk-label input.sk-toggleable__control:checked~label.sk-toggleable__label {background-color: #d4ebff;}#sk-container-id-6 input.sk-hidden--visually {border: 0;clip: rect(1px 1px 1px 1px);clip: rect(1px, 1px, 1px, 1px);height: 1px;margin: -1px;overflow: hidden;padding: 0;position: absolute;width: 1px;}#sk-container-id-6 div.sk-estimator {font-family: monospace;background-color: #f0f8ff;border: 1px dotted black;border-radius: 0.25em;box-sizing: border-box;margin-bottom: 0.5em;}#sk-container-id-6 div.sk-estimator:hover {background-color: #d4ebff;}#sk-container-id-6 div.sk-parallel-item::after {content: \"\";width: 100%;border-bottom: 1px solid gray;flex-grow: 1;}#sk-container-id-6 div.sk-label:hover label.sk-toggleable__label {background-color: #d4ebff;}#sk-container-id-6 div.sk-serial::before {content: \"\";position: absolute;border-left: 1px solid gray;box-sizing: border-box;top: 0;bottom: 0;left: 50%;z-index: 0;}#sk-container-id-6 div.sk-serial {display: flex;flex-direction: column;align-items: center;background-color: white;padding-right: 0.2em;padding-left: 0.2em;position: relative;}#sk-container-id-6 div.sk-item {position: relative;z-index: 1;}#sk-container-id-6 div.sk-parallel {display: flex;align-items: stretch;justify-content: center;background-color: white;position: relative;}#sk-container-id-6 div.sk-item::before, #sk-container-id-6 div.sk-parallel-item::before {content: \"\";position: absolute;border-left: 1px solid gray;box-sizing: border-box;top: 0;bottom: 0;left: 50%;z-index: -1;}#sk-container-id-6 div.sk-parallel-item {display: flex;flex-direction: column;z-index: 1;position: relative;background-color: white;}#sk-container-id-6 div.sk-parallel-item:first-child::after {align-self: flex-end;width: 50%;}#sk-container-id-6 div.sk-parallel-item:last-child::after {align-self: flex-start;width: 50%;}#sk-container-id-6 div.sk-parallel-item:only-child::after {width: 0;}#sk-container-id-6 div.sk-dashed-wrapped {border: 1px dashed gray;margin: 0 0.4em 0.5em 0.4em;box-sizing: border-box;padding-bottom: 0.4em;background-color: white;}#sk-container-id-6 div.sk-label label {font-family: monospace;font-weight: bold;display: inline-block;line-height: 1.2em;}#sk-container-id-6 div.sk-label-container {text-align: center;}#sk-container-id-6 div.sk-container {/* jupyter's `normalize.less` sets `[hidden] { display: none; }` but bootstrap.min.css set `[hidden] { display: none !important; }` so we also need the `!important` here to be able to override the default hidden behavior on the sphinx rendered scikit-learn.org. See: https://github.com/scikit-learn/scikit-learn/issues/21755 */display: inline-block !important;position: relative;}#sk-container-id-6 div.sk-text-repr-fallback {display: none;}</style><div id=\"sk-container-id-6\" class=\"sk-top-container\"><div class=\"sk-text-repr-fallback\"><pre>Pipeline(steps=[(&#x27;preprocessor&#x27;,\n",
       "                 ColumnTransformer(transformers=[(&#x27;num&#x27;,\n",
       "                                                  Pipeline(steps=[(&#x27;imputer&#x27;,\n",
       "                                                                   SimpleImputer()),\n",
       "                                                                  (&#x27;scaler&#x27;,\n",
       "                                                                   MinMaxScaler())]),\n",
       "                                                  [&#x27;audienceScore&#x27;]),\n",
       "                                                 (&#x27;cat&#x27;,\n",
       "                                                  Pipeline(steps=[(&#x27;ohe&#x27;,\n",
       "                                                                   OneHotEncoder(handle_unknown=&#x27;ignore&#x27;))]),\n",
       "                                                  [&#x27;rating&#x27;,\n",
       "                                                   &#x27;isFrequentReviewer&#x27;]),\n",
       "                                                 (&#x27;tvec&#x27;,\n",
       "                                                  TfidfVectorizer(ngram_range=(1,\n",
       "                                                                               2)),\n",
       "                                                  &#x27;reviewText&#x27;)])),\n",
       "                (&#x27;model&#x27;, LogisticRegression(C=10, max_iter=100000))])</pre><b>In a Jupyter environment, please rerun this cell to show the HTML representation or trust the notebook. <br />On GitHub, the HTML representation is unable to render, please try loading this page with nbviewer.org.</b></div><div class=\"sk-container\" hidden><div class=\"sk-item sk-dashed-wrapped\"><div class=\"sk-label-container\"><div class=\"sk-label sk-toggleable\"><input class=\"sk-toggleable__control sk-hidden--visually\" id=\"sk-estimator-id-38\" type=\"checkbox\" ><label for=\"sk-estimator-id-38\" class=\"sk-toggleable__label sk-toggleable__label-arrow\">Pipeline</label><div class=\"sk-toggleable__content\"><pre>Pipeline(steps=[(&#x27;preprocessor&#x27;,\n",
       "                 ColumnTransformer(transformers=[(&#x27;num&#x27;,\n",
       "                                                  Pipeline(steps=[(&#x27;imputer&#x27;,\n",
       "                                                                   SimpleImputer()),\n",
       "                                                                  (&#x27;scaler&#x27;,\n",
       "                                                                   MinMaxScaler())]),\n",
       "                                                  [&#x27;audienceScore&#x27;]),\n",
       "                                                 (&#x27;cat&#x27;,\n",
       "                                                  Pipeline(steps=[(&#x27;ohe&#x27;,\n",
       "                                                                   OneHotEncoder(handle_unknown=&#x27;ignore&#x27;))]),\n",
       "                                                  [&#x27;rating&#x27;,\n",
       "                                                   &#x27;isFrequentReviewer&#x27;]),\n",
       "                                                 (&#x27;tvec&#x27;,\n",
       "                                                  TfidfVectorizer(ngram_range=(1,\n",
       "                                                                               2)),\n",
       "                                                  &#x27;reviewText&#x27;)])),\n",
       "                (&#x27;model&#x27;, LogisticRegression(C=10, max_iter=100000))])</pre></div></div></div><div class=\"sk-serial\"><div class=\"sk-item sk-dashed-wrapped\"><div class=\"sk-label-container\"><div class=\"sk-label sk-toggleable\"><input class=\"sk-toggleable__control sk-hidden--visually\" id=\"sk-estimator-id-39\" type=\"checkbox\" ><label for=\"sk-estimator-id-39\" class=\"sk-toggleable__label sk-toggleable__label-arrow\">preprocessor: ColumnTransformer</label><div class=\"sk-toggleable__content\"><pre>ColumnTransformer(transformers=[(&#x27;num&#x27;,\n",
       "                                 Pipeline(steps=[(&#x27;imputer&#x27;, SimpleImputer()),\n",
       "                                                 (&#x27;scaler&#x27;, MinMaxScaler())]),\n",
       "                                 [&#x27;audienceScore&#x27;]),\n",
       "                                (&#x27;cat&#x27;,\n",
       "                                 Pipeline(steps=[(&#x27;ohe&#x27;,\n",
       "                                                  OneHotEncoder(handle_unknown=&#x27;ignore&#x27;))]),\n",
       "                                 [&#x27;rating&#x27;, &#x27;isFrequentReviewer&#x27;]),\n",
       "                                (&#x27;tvec&#x27;, TfidfVectorizer(ngram_range=(1, 2)),\n",
       "                                 &#x27;reviewText&#x27;)])</pre></div></div></div><div class=\"sk-parallel\"><div class=\"sk-parallel-item\"><div class=\"sk-item\"><div class=\"sk-label-container\"><div class=\"sk-label sk-toggleable\"><input class=\"sk-toggleable__control sk-hidden--visually\" id=\"sk-estimator-id-40\" type=\"checkbox\" ><label for=\"sk-estimator-id-40\" class=\"sk-toggleable__label sk-toggleable__label-arrow\">num</label><div class=\"sk-toggleable__content\"><pre>[&#x27;audienceScore&#x27;]</pre></div></div></div><div class=\"sk-serial\"><div class=\"sk-item\"><div class=\"sk-serial\"><div class=\"sk-item\"><div class=\"sk-estimator sk-toggleable\"><input class=\"sk-toggleable__control sk-hidden--visually\" id=\"sk-estimator-id-41\" type=\"checkbox\" ><label for=\"sk-estimator-id-41\" class=\"sk-toggleable__label sk-toggleable__label-arrow\">SimpleImputer</label><div class=\"sk-toggleable__content\"><pre>SimpleImputer()</pre></div></div></div><div class=\"sk-item\"><div class=\"sk-estimator sk-toggleable\"><input class=\"sk-toggleable__control sk-hidden--visually\" id=\"sk-estimator-id-42\" type=\"checkbox\" ><label for=\"sk-estimator-id-42\" class=\"sk-toggleable__label sk-toggleable__label-arrow\">MinMaxScaler</label><div class=\"sk-toggleable__content\"><pre>MinMaxScaler()</pre></div></div></div></div></div></div></div></div><div class=\"sk-parallel-item\"><div class=\"sk-item\"><div class=\"sk-label-container\"><div class=\"sk-label sk-toggleable\"><input class=\"sk-toggleable__control sk-hidden--visually\" id=\"sk-estimator-id-43\" type=\"checkbox\" ><label for=\"sk-estimator-id-43\" class=\"sk-toggleable__label sk-toggleable__label-arrow\">cat</label><div class=\"sk-toggleable__content\"><pre>[&#x27;rating&#x27;, &#x27;isFrequentReviewer&#x27;]</pre></div></div></div><div class=\"sk-serial\"><div class=\"sk-item\"><div class=\"sk-serial\"><div class=\"sk-item\"><div class=\"sk-estimator sk-toggleable\"><input class=\"sk-toggleable__control sk-hidden--visually\" id=\"sk-estimator-id-44\" type=\"checkbox\" ><label for=\"sk-estimator-id-44\" class=\"sk-toggleable__label sk-toggleable__label-arrow\">OneHotEncoder</label><div class=\"sk-toggleable__content\"><pre>OneHotEncoder(handle_unknown=&#x27;ignore&#x27;)</pre></div></div></div></div></div></div></div></div><div class=\"sk-parallel-item\"><div class=\"sk-item\"><div class=\"sk-label-container\"><div class=\"sk-label sk-toggleable\"><input class=\"sk-toggleable__control sk-hidden--visually\" id=\"sk-estimator-id-45\" type=\"checkbox\" ><label for=\"sk-estimator-id-45\" class=\"sk-toggleable__label sk-toggleable__label-arrow\">tvec</label><div class=\"sk-toggleable__content\"><pre>reviewText</pre></div></div></div><div class=\"sk-serial\"><div class=\"sk-item\"><div class=\"sk-estimator sk-toggleable\"><input class=\"sk-toggleable__control sk-hidden--visually\" id=\"sk-estimator-id-46\" type=\"checkbox\" ><label for=\"sk-estimator-id-46\" class=\"sk-toggleable__label sk-toggleable__label-arrow\">TfidfVectorizer</label><div class=\"sk-toggleable__content\"><pre>TfidfVectorizer(ngram_range=(1, 2))</pre></div></div></div></div></div></div></div></div><div class=\"sk-item\"><div class=\"sk-estimator sk-toggleable\"><input class=\"sk-toggleable__control sk-hidden--visually\" id=\"sk-estimator-id-47\" type=\"checkbox\" ><label for=\"sk-estimator-id-47\" class=\"sk-toggleable__label sk-toggleable__label-arrow\">LogisticRegression</label><div class=\"sk-toggleable__content\"><pre>LogisticRegression(C=10, max_iter=100000)</pre></div></div></div></div></div></div></div>"
      ],
      "text/plain": [
       "Pipeline(steps=[('preprocessor',\n",
       "                 ColumnTransformer(transformers=[('num',\n",
       "                                                  Pipeline(steps=[('imputer',\n",
       "                                                                   SimpleImputer()),\n",
       "                                                                  ('scaler',\n",
       "                                                                   MinMaxScaler())]),\n",
       "                                                  ['audienceScore']),\n",
       "                                                 ('cat',\n",
       "                                                  Pipeline(steps=[('ohe',\n",
       "                                                                   OneHotEncoder(handle_unknown='ignore'))]),\n",
       "                                                  ['rating',\n",
       "                                                   'isFrequentReviewer']),\n",
       "                                                 ('tvec',\n",
       "                                                  TfidfVectorizer(ngram_range=(1,\n",
       "                                                                               2)),\n",
       "                                                  'reviewText')])),\n",
       "                ('model', LogisticRegression(C=10, max_iter=100000))])"
      ]
     },
     "execution_count": 69,
     "metadata": {},
     "output_type": "execute_result"
    }
   ],
   "source": [
    "ct_best4 = ColumnTransformer(transformers=[\n",
    "    (\"num\", num_pipe, [\"audienceScore\"]),\n",
    "    (\"cat\", cat_pipe, [\"rating\", \"isFrequentReviewer\"]),\n",
    "    (\"tvec\", TfidfVectorizer(ngram_range=(1,2)), \"reviewText\")\n",
    "])\n",
    "\n",
    "pipe_best4 = Pipeline(steps=[\n",
    "    (\"preprocessor\", ct_best4),\n",
    "    (\"model\", LogisticRegression())\n",
    "])\n",
    "\n",
    "pipe_best4.set_params(model__C=10, model__max_iter=100000)\n",
    "\n",
    "pipe_best4"
   ]
  },
  {
   "cell_type": "code",
   "execution_count": 70,
   "id": "83b9ebe7",
   "metadata": {
    "execution": {
     "iopub.execute_input": "2023-07-03T19:56:01.549485Z",
     "iopub.status.busy": "2023-07-03T19:56:01.549113Z",
     "iopub.status.idle": "2023-07-03T19:56:01.553579Z",
     "shell.execute_reply": "2023-07-03T19:56:01.552342Z"
    },
    "papermill": {
     "duration": 0.043367,
     "end_time": "2023-07-03T19:56:01.556043",
     "exception": false,
     "start_time": "2023-07-03T19:56:01.512676",
     "status": "completed"
    },
    "tags": []
   },
   "outputs": [],
   "source": [
    "# split_train_predict(merged[[\"audienceScore\", \"rating\", \"isFrequentReviewer\", \"reviewText\"]], merged[\"sentiment\"], pipe_best4, test_size=0.25)"
   ]
  },
  {
   "cell_type": "markdown",
   "id": "3ba91a48",
   "metadata": {
    "papermill": {
     "duration": 0.03478,
     "end_time": "2023-07-03T19:56:01.625990",
     "exception": false,
     "start_time": "2023-07-03T19:56:01.591210",
     "status": "completed"
    },
    "tags": []
   },
   "source": [
    "## Submit_v2 for merged file models"
   ]
  },
  {
   "cell_type": "code",
   "execution_count": 71,
   "id": "38345285",
   "metadata": {
    "execution": {
     "iopub.execute_input": "2023-07-03T19:56:01.697680Z",
     "iopub.status.busy": "2023-07-03T19:56:01.697311Z",
     "iopub.status.idle": "2023-07-03T19:56:01.705454Z",
     "shell.execute_reply": "2023-07-03T19:56:01.704264Z"
    },
    "papermill": {
     "duration": 0.046843,
     "end_time": "2023-07-03T19:56:01.707567",
     "exception": false,
     "start_time": "2023-07-03T19:56:01.660724",
     "status": "completed"
    },
    "tags": []
   },
   "outputs": [],
   "source": [
    "def submit_v2(selected_model=pipe_final):\n",
    "    '''\n",
    "    Note that \"selected_preprocessor\" is already used within selected_model or pipeline\n",
    "    '''\n",
    "    # Retrain on the whole train.csv file  \n",
    "    merged = select_features(load_csv(\"train\"), load_csv(\"movies\"))\n",
    "    X_train = merged.drop(labels=\"sentiment\", axis=1)\n",
    "    y_train = merged[\"sentiment\"]\n",
    "    selected_model.fit(X_train, y_train)\n",
    "    \n",
    "    # Predict on test.csv file\n",
    "    merged_test = select_features(load_csv(\"test\"), load_csv(\"movies\"))\n",
    "    X_test = merged_test.copy()\n",
    "    \n",
    "    y_pred = selected_model.predict(X_test)\n",
    "    \n",
    "    pred_df = pd.DataFrame(y_pred)\n",
    "    pred_df.columns = [\"sentiment\"]\n",
    "    pred_df.index.name = \"id\"\n",
    "    pred_df.to_csv(\"submission.csv\")\n",
    "    \n",
    "    return \"Successfully created the submission file!!!\""
   ]
  },
  {
   "cell_type": "code",
   "execution_count": 72,
   "id": "a5c5ad05",
   "metadata": {
    "execution": {
     "iopub.execute_input": "2023-07-03T19:56:01.778914Z",
     "iopub.status.busy": "2023-07-03T19:56:01.778484Z",
     "iopub.status.idle": "2023-07-03T19:56:01.782721Z",
     "shell.execute_reply": "2023-07-03T19:56:01.781698Z"
    },
    "papermill": {
     "duration": 0.042798,
     "end_time": "2023-07-03T19:56:01.784977",
     "exception": false,
     "start_time": "2023-07-03T19:56:01.742179",
     "status": "completed"
    },
    "tags": []
   },
   "outputs": [],
   "source": [
    "# submit_v2(pipe_best4)"
   ]
  },
  {
   "cell_type": "markdown",
   "id": "0452b572",
   "metadata": {
    "papermill": {
     "duration": 0.034739,
     "end_time": "2023-07-03T19:56:01.855390",
     "exception": false,
     "start_time": "2023-07-03T19:56:01.820651",
     "status": "completed"
    },
    "tags": []
   },
   "source": [
    "## submit_v3 for merged file models - does not retrain on whole data  "
   ]
  },
  {
   "cell_type": "code",
   "execution_count": 73,
   "id": "6f77d7d2",
   "metadata": {
    "execution": {
     "iopub.execute_input": "2023-07-03T19:56:01.953383Z",
     "iopub.status.busy": "2023-07-03T19:56:01.953003Z",
     "iopub.status.idle": "2023-07-03T19:56:01.961302Z",
     "shell.execute_reply": "2023-07-03T19:56:01.959866Z"
    },
    "papermill": {
     "duration": 0.046984,
     "end_time": "2023-07-03T19:56:01.963607",
     "exception": false,
     "start_time": "2023-07-03T19:56:01.916623",
     "status": "completed"
    },
    "tags": []
   },
   "outputs": [],
   "source": [
    "# Incomplete! \n",
    "def submit_v3(selected_model=pipe_final):\n",
    "    '''\n",
    "    Note that \"selected_preprocessor\" is already used within selected_model or pipeline\n",
    "    '''\n",
    "    # Train on merged file\n",
    "    merged = select_features(load_csv(\"train\"), load_csv(\"movies\"))\n",
    "    X_train = merged.drop(labels=\"sentiment\", axis=1)\n",
    "    y_train = merged[\"sentiment\"]\n",
    "    pipe = split_train_predict(merged[[\"audienceScore\", \"rating\", \"isFrequentReviewer\", \"reviewText\"]], merged[\"sentiment\"], selected_model, test_size=0.25)\n",
    "    \n",
    "    # Predict on test.csv file\n",
    "    merged_test = select_features(load_csv(\"test\"), load_csv(\"movies\"))\n",
    "    X_test = merged_test.copy()\n",
    "    \n",
    "    y_pred = pipe.predict(X_test)    # This line is different from submit__v2\n",
    "    \n",
    "    pred_df = pd.DataFrame(y_pred)\n",
    "    pred_df.columns = [\"sentiment\"]\n",
    "    pred_df.index.name = \"id\"\n",
    "    pred_df.to_csv(\"submission.csv\")\n",
    "    \n",
    "    return \"Successfully created the submission file!!!\""
   ]
  },
  {
   "cell_type": "code",
   "execution_count": 74,
   "id": "ab92cc2e",
   "metadata": {
    "execution": {
     "iopub.execute_input": "2023-07-03T19:56:02.035574Z",
     "iopub.status.busy": "2023-07-03T19:56:02.035193Z",
     "iopub.status.idle": "2023-07-03T20:01:20.487689Z",
     "shell.execute_reply": "2023-07-03T20:01:20.486632Z"
    },
    "papermill": {
     "duration": 318.491713,
     "end_time": "2023-07-03T20:01:20.490353",
     "exception": false,
     "start_time": "2023-07-03T19:56:01.998640",
     "status": "completed"
    },
    "tags": []
   },
   "outputs": [
    {
     "name": "stdout",
     "output_type": "stream",
     "text": [
      "              precision    recall  f1-score   support\n",
      "\n",
      "    NEGATIVE       0.79      0.67      0.73     13717\n",
      "    POSITIVE       0.84      0.91      0.88     26973\n",
      "\n",
      "    accuracy                           0.83     40690\n",
      "   macro avg       0.82      0.79      0.80     40690\n",
      "weighted avg       0.83      0.83      0.83     40690\n",
      "\n",
      "[[ 9161  4556]\n",
      " [ 2388 24585]]\n"
     ]
    },
    {
     "data": {
      "text/plain": [
       "'Successfully created the submission file!!!'"
      ]
     },
     "execution_count": 74,
     "metadata": {},
     "output_type": "execute_result"
    }
   ],
   "source": [
    "submit_v3(selected_model=pipe_best4)"
   ]
  },
  {
   "cell_type": "markdown",
   "id": "ac40ba95",
   "metadata": {
    "papermill": {
     "duration": 0.034794,
     "end_time": "2023-07-03T20:01:20.560308",
     "exception": false,
     "start_time": "2023-07-03T20:01:20.525514",
     "status": "completed"
    },
    "tags": []
   },
   "source": [
    "## Implement KNN classifier  "
   ]
  },
  {
   "cell_type": "code",
   "execution_count": 75,
   "id": "22a49bb5",
   "metadata": {
    "execution": {
     "iopub.execute_input": "2023-07-03T20:01:20.632123Z",
     "iopub.status.busy": "2023-07-03T20:01:20.631463Z",
     "iopub.status.idle": "2023-07-03T20:01:20.636254Z",
     "shell.execute_reply": "2023-07-03T20:01:20.635249Z"
    },
    "papermill": {
     "duration": 0.043366,
     "end_time": "2023-07-03T20:01:20.638385",
     "exception": false,
     "start_time": "2023-07-03T20:01:20.595019",
     "status": "completed"
    },
    "tags": []
   },
   "outputs": [],
   "source": [
    "from sklearn.neighbors import KNeighborsClassifier"
   ]
  },
  {
   "cell_type": "code",
   "execution_count": 76,
   "id": "14b4110f",
   "metadata": {
    "execution": {
     "iopub.execute_input": "2023-07-03T20:01:20.710679Z",
     "iopub.status.busy": "2023-07-03T20:01:20.709970Z",
     "iopub.status.idle": "2023-07-03T20:01:20.714381Z",
     "shell.execute_reply": "2023-07-03T20:01:20.713308Z"
    },
    "papermill": {
     "duration": 0.043301,
     "end_time": "2023-07-03T20:01:20.716657",
     "exception": false,
     "start_time": "2023-07-03T20:01:20.673356",
     "status": "completed"
    },
    "tags": []
   },
   "outputs": [],
   "source": [
    "# Note that we are borrowing \"ct_final\" column transformer from above  "
   ]
  },
  {
   "cell_type": "code",
   "execution_count": 77,
   "id": "74da67d8",
   "metadata": {
    "execution": {
     "iopub.execute_input": "2023-07-03T20:01:20.789446Z",
     "iopub.status.busy": "2023-07-03T20:01:20.788595Z",
     "iopub.status.idle": "2023-07-03T20:01:20.947164Z",
     "shell.execute_reply": "2023-07-03T20:01:20.946083Z"
    },
    "papermill": {
     "duration": 0.197762,
     "end_time": "2023-07-03T20:01:20.949664",
     "exception": false,
     "start_time": "2023-07-03T20:01:20.751902",
     "status": "completed"
    },
    "tags": []
   },
   "outputs": [
    {
     "data": {
      "text/html": [
       "<style>#sk-container-id-7 {color: black;background-color: white;}#sk-container-id-7 pre{padding: 0;}#sk-container-id-7 div.sk-toggleable {background-color: white;}#sk-container-id-7 label.sk-toggleable__label {cursor: pointer;display: block;width: 100%;margin-bottom: 0;padding: 0.3em;box-sizing: border-box;text-align: center;}#sk-container-id-7 label.sk-toggleable__label-arrow:before {content: \"▸\";float: left;margin-right: 0.25em;color: #696969;}#sk-container-id-7 label.sk-toggleable__label-arrow:hover:before {color: black;}#sk-container-id-7 div.sk-estimator:hover label.sk-toggleable__label-arrow:before {color: black;}#sk-container-id-7 div.sk-toggleable__content {max-height: 0;max-width: 0;overflow: hidden;text-align: left;background-color: #f0f8ff;}#sk-container-id-7 div.sk-toggleable__content pre {margin: 0.2em;color: black;border-radius: 0.25em;background-color: #f0f8ff;}#sk-container-id-7 input.sk-toggleable__control:checked~div.sk-toggleable__content {max-height: 200px;max-width: 100%;overflow: auto;}#sk-container-id-7 input.sk-toggleable__control:checked~label.sk-toggleable__label-arrow:before {content: \"▾\";}#sk-container-id-7 div.sk-estimator input.sk-toggleable__control:checked~label.sk-toggleable__label {background-color: #d4ebff;}#sk-container-id-7 div.sk-label input.sk-toggleable__control:checked~label.sk-toggleable__label {background-color: #d4ebff;}#sk-container-id-7 input.sk-hidden--visually {border: 0;clip: rect(1px 1px 1px 1px);clip: rect(1px, 1px, 1px, 1px);height: 1px;margin: -1px;overflow: hidden;padding: 0;position: absolute;width: 1px;}#sk-container-id-7 div.sk-estimator {font-family: monospace;background-color: #f0f8ff;border: 1px dotted black;border-radius: 0.25em;box-sizing: border-box;margin-bottom: 0.5em;}#sk-container-id-7 div.sk-estimator:hover {background-color: #d4ebff;}#sk-container-id-7 div.sk-parallel-item::after {content: \"\";width: 100%;border-bottom: 1px solid gray;flex-grow: 1;}#sk-container-id-7 div.sk-label:hover label.sk-toggleable__label {background-color: #d4ebff;}#sk-container-id-7 div.sk-serial::before {content: \"\";position: absolute;border-left: 1px solid gray;box-sizing: border-box;top: 0;bottom: 0;left: 50%;z-index: 0;}#sk-container-id-7 div.sk-serial {display: flex;flex-direction: column;align-items: center;background-color: white;padding-right: 0.2em;padding-left: 0.2em;position: relative;}#sk-container-id-7 div.sk-item {position: relative;z-index: 1;}#sk-container-id-7 div.sk-parallel {display: flex;align-items: stretch;justify-content: center;background-color: white;position: relative;}#sk-container-id-7 div.sk-item::before, #sk-container-id-7 div.sk-parallel-item::before {content: \"\";position: absolute;border-left: 1px solid gray;box-sizing: border-box;top: 0;bottom: 0;left: 50%;z-index: -1;}#sk-container-id-7 div.sk-parallel-item {display: flex;flex-direction: column;z-index: 1;position: relative;background-color: white;}#sk-container-id-7 div.sk-parallel-item:first-child::after {align-self: flex-end;width: 50%;}#sk-container-id-7 div.sk-parallel-item:last-child::after {align-self: flex-start;width: 50%;}#sk-container-id-7 div.sk-parallel-item:only-child::after {width: 0;}#sk-container-id-7 div.sk-dashed-wrapped {border: 1px dashed gray;margin: 0 0.4em 0.5em 0.4em;box-sizing: border-box;padding-bottom: 0.4em;background-color: white;}#sk-container-id-7 div.sk-label label {font-family: monospace;font-weight: bold;display: inline-block;line-height: 1.2em;}#sk-container-id-7 div.sk-label-container {text-align: center;}#sk-container-id-7 div.sk-container {/* jupyter's `normalize.less` sets `[hidden] { display: none; }` but bootstrap.min.css set `[hidden] { display: none !important; }` so we also need the `!important` here to be able to override the default hidden behavior on the sphinx rendered scikit-learn.org. See: https://github.com/scikit-learn/scikit-learn/issues/21755 */display: inline-block !important;position: relative;}#sk-container-id-7 div.sk-text-repr-fallback {display: none;}</style><div id=\"sk-container-id-7\" class=\"sk-top-container\"><div class=\"sk-text-repr-fallback\"><pre>Pipeline(steps=[(&#x27;preprocessor&#x27;,\n",
       "                 ColumnTransformer(n_jobs=1,\n",
       "                                   transformers=[(&#x27;num&#x27;,\n",
       "                                                  Pipeline(steps=[(&#x27;imputer&#x27;,\n",
       "                                                                   SimpleImputer()),\n",
       "                                                                  (&#x27;scaler&#x27;,\n",
       "                                                                   MinMaxScaler())]),\n",
       "                                                  [&#x27;audienceScore&#x27;,\n",
       "                                                   &#x27;runtimeMinutes&#x27;]),\n",
       "                                                 (&#x27;txt1&#x27;,\n",
       "                                                  Pipeline(steps=[(&#x27;tvec&#x27;,\n",
       "                                                                   TfidfVectorizer())]),\n",
       "                                                  &#x27;originalLanguage&#x27;),\n",
       "                                                 (&#x27;txt2&#x27;,\n",
       "                                                  Pipeline(steps=[(&#x27;tvec&#x27;,\n",
       "                                                                   TfidfVectorizer())]),\n",
       "                                                  &#x27;genre&#x27;),\n",
       "                                                 (&#x27;txt3&#x27;,\n",
       "                                                  Pipeline(steps=[(&#x27;tvec&#x27;,\n",
       "                                                                   TfidfVectorizer())]),\n",
       "                                                  &#x27;director&#x27;),\n",
       "                                                 (&#x27;cat&#x27;,\n",
       "                                                  Pipeline(steps=[(&#x27;ohe&#x27;,\n",
       "                                                                   OneHotEncoder(handle_unknown=&#x27;ignore&#x27;))]),\n",
       "                                                  [&#x27;rating&#x27;,\n",
       "                                                   &#x27;isFrequentReviewer&#x27;]),\n",
       "                                                 (&#x27;txt4&#x27;,\n",
       "                                                  TfidfVectorizer(ngram_range=(1,\n",
       "                                                                               2)),\n",
       "                                                  &#x27;reviewText&#x27;)])),\n",
       "                (&#x27;model&#x27;, KNeighborsClassifier())])</pre><b>In a Jupyter environment, please rerun this cell to show the HTML representation or trust the notebook. <br />On GitHub, the HTML representation is unable to render, please try loading this page with nbviewer.org.</b></div><div class=\"sk-container\" hidden><div class=\"sk-item sk-dashed-wrapped\"><div class=\"sk-label-container\"><div class=\"sk-label sk-toggleable\"><input class=\"sk-toggleable__control sk-hidden--visually\" id=\"sk-estimator-id-48\" type=\"checkbox\" ><label for=\"sk-estimator-id-48\" class=\"sk-toggleable__label sk-toggleable__label-arrow\">Pipeline</label><div class=\"sk-toggleable__content\"><pre>Pipeline(steps=[(&#x27;preprocessor&#x27;,\n",
       "                 ColumnTransformer(n_jobs=1,\n",
       "                                   transformers=[(&#x27;num&#x27;,\n",
       "                                                  Pipeline(steps=[(&#x27;imputer&#x27;,\n",
       "                                                                   SimpleImputer()),\n",
       "                                                                  (&#x27;scaler&#x27;,\n",
       "                                                                   MinMaxScaler())]),\n",
       "                                                  [&#x27;audienceScore&#x27;,\n",
       "                                                   &#x27;runtimeMinutes&#x27;]),\n",
       "                                                 (&#x27;txt1&#x27;,\n",
       "                                                  Pipeline(steps=[(&#x27;tvec&#x27;,\n",
       "                                                                   TfidfVectorizer())]),\n",
       "                                                  &#x27;originalLanguage&#x27;),\n",
       "                                                 (&#x27;txt2&#x27;,\n",
       "                                                  Pipeline(steps=[(&#x27;tvec&#x27;,\n",
       "                                                                   TfidfVectorizer())]),\n",
       "                                                  &#x27;genre&#x27;),\n",
       "                                                 (&#x27;txt3&#x27;,\n",
       "                                                  Pipeline(steps=[(&#x27;tvec&#x27;,\n",
       "                                                                   TfidfVectorizer())]),\n",
       "                                                  &#x27;director&#x27;),\n",
       "                                                 (&#x27;cat&#x27;,\n",
       "                                                  Pipeline(steps=[(&#x27;ohe&#x27;,\n",
       "                                                                   OneHotEncoder(handle_unknown=&#x27;ignore&#x27;))]),\n",
       "                                                  [&#x27;rating&#x27;,\n",
       "                                                   &#x27;isFrequentReviewer&#x27;]),\n",
       "                                                 (&#x27;txt4&#x27;,\n",
       "                                                  TfidfVectorizer(ngram_range=(1,\n",
       "                                                                               2)),\n",
       "                                                  &#x27;reviewText&#x27;)])),\n",
       "                (&#x27;model&#x27;, KNeighborsClassifier())])</pre></div></div></div><div class=\"sk-serial\"><div class=\"sk-item sk-dashed-wrapped\"><div class=\"sk-label-container\"><div class=\"sk-label sk-toggleable\"><input class=\"sk-toggleable__control sk-hidden--visually\" id=\"sk-estimator-id-49\" type=\"checkbox\" ><label for=\"sk-estimator-id-49\" class=\"sk-toggleable__label sk-toggleable__label-arrow\">preprocessor: ColumnTransformer</label><div class=\"sk-toggleable__content\"><pre>ColumnTransformer(n_jobs=1,\n",
       "                  transformers=[(&#x27;num&#x27;,\n",
       "                                 Pipeline(steps=[(&#x27;imputer&#x27;, SimpleImputer()),\n",
       "                                                 (&#x27;scaler&#x27;, MinMaxScaler())]),\n",
       "                                 [&#x27;audienceScore&#x27;, &#x27;runtimeMinutes&#x27;]),\n",
       "                                (&#x27;txt1&#x27;,\n",
       "                                 Pipeline(steps=[(&#x27;tvec&#x27;, TfidfVectorizer())]),\n",
       "                                 &#x27;originalLanguage&#x27;),\n",
       "                                (&#x27;txt2&#x27;,\n",
       "                                 Pipeline(steps=[(&#x27;tvec&#x27;, TfidfVectorizer())]),\n",
       "                                 &#x27;genre&#x27;),\n",
       "                                (&#x27;txt3&#x27;,\n",
       "                                 Pipeline(steps=[(&#x27;tvec&#x27;, TfidfVectorizer())]),\n",
       "                                 &#x27;director&#x27;),\n",
       "                                (&#x27;cat&#x27;,\n",
       "                                 Pipeline(steps=[(&#x27;ohe&#x27;,\n",
       "                                                  OneHotEncoder(handle_unknown=&#x27;ignore&#x27;))]),\n",
       "                                 [&#x27;rating&#x27;, &#x27;isFrequentReviewer&#x27;]),\n",
       "                                (&#x27;txt4&#x27;, TfidfVectorizer(ngram_range=(1, 2)),\n",
       "                                 &#x27;reviewText&#x27;)])</pre></div></div></div><div class=\"sk-parallel\"><div class=\"sk-parallel-item\"><div class=\"sk-item\"><div class=\"sk-label-container\"><div class=\"sk-label sk-toggleable\"><input class=\"sk-toggleable__control sk-hidden--visually\" id=\"sk-estimator-id-50\" type=\"checkbox\" ><label for=\"sk-estimator-id-50\" class=\"sk-toggleable__label sk-toggleable__label-arrow\">num</label><div class=\"sk-toggleable__content\"><pre>[&#x27;audienceScore&#x27;, &#x27;runtimeMinutes&#x27;]</pre></div></div></div><div class=\"sk-serial\"><div class=\"sk-item\"><div class=\"sk-serial\"><div class=\"sk-item\"><div class=\"sk-estimator sk-toggleable\"><input class=\"sk-toggleable__control sk-hidden--visually\" id=\"sk-estimator-id-51\" type=\"checkbox\" ><label for=\"sk-estimator-id-51\" class=\"sk-toggleable__label sk-toggleable__label-arrow\">SimpleImputer</label><div class=\"sk-toggleable__content\"><pre>SimpleImputer()</pre></div></div></div><div class=\"sk-item\"><div class=\"sk-estimator sk-toggleable\"><input class=\"sk-toggleable__control sk-hidden--visually\" id=\"sk-estimator-id-52\" type=\"checkbox\" ><label for=\"sk-estimator-id-52\" class=\"sk-toggleable__label sk-toggleable__label-arrow\">MinMaxScaler</label><div class=\"sk-toggleable__content\"><pre>MinMaxScaler()</pre></div></div></div></div></div></div></div></div><div class=\"sk-parallel-item\"><div class=\"sk-item\"><div class=\"sk-label-container\"><div class=\"sk-label sk-toggleable\"><input class=\"sk-toggleable__control sk-hidden--visually\" id=\"sk-estimator-id-53\" type=\"checkbox\" ><label for=\"sk-estimator-id-53\" class=\"sk-toggleable__label sk-toggleable__label-arrow\">txt1</label><div class=\"sk-toggleable__content\"><pre>originalLanguage</pre></div></div></div><div class=\"sk-serial\"><div class=\"sk-item\"><div class=\"sk-serial\"><div class=\"sk-item\"><div class=\"sk-estimator sk-toggleable\"><input class=\"sk-toggleable__control sk-hidden--visually\" id=\"sk-estimator-id-54\" type=\"checkbox\" ><label for=\"sk-estimator-id-54\" class=\"sk-toggleable__label sk-toggleable__label-arrow\">TfidfVectorizer</label><div class=\"sk-toggleable__content\"><pre>TfidfVectorizer()</pre></div></div></div></div></div></div></div></div><div class=\"sk-parallel-item\"><div class=\"sk-item\"><div class=\"sk-label-container\"><div class=\"sk-label sk-toggleable\"><input class=\"sk-toggleable__control sk-hidden--visually\" id=\"sk-estimator-id-55\" type=\"checkbox\" ><label for=\"sk-estimator-id-55\" class=\"sk-toggleable__label sk-toggleable__label-arrow\">txt2</label><div class=\"sk-toggleable__content\"><pre>genre</pre></div></div></div><div class=\"sk-serial\"><div class=\"sk-item\"><div class=\"sk-serial\"><div class=\"sk-item\"><div class=\"sk-estimator sk-toggleable\"><input class=\"sk-toggleable__control sk-hidden--visually\" id=\"sk-estimator-id-56\" type=\"checkbox\" ><label for=\"sk-estimator-id-56\" class=\"sk-toggleable__label sk-toggleable__label-arrow\">TfidfVectorizer</label><div class=\"sk-toggleable__content\"><pre>TfidfVectorizer()</pre></div></div></div></div></div></div></div></div><div class=\"sk-parallel-item\"><div class=\"sk-item\"><div class=\"sk-label-container\"><div class=\"sk-label sk-toggleable\"><input class=\"sk-toggleable__control sk-hidden--visually\" id=\"sk-estimator-id-57\" type=\"checkbox\" ><label for=\"sk-estimator-id-57\" class=\"sk-toggleable__label sk-toggleable__label-arrow\">txt3</label><div class=\"sk-toggleable__content\"><pre>director</pre></div></div></div><div class=\"sk-serial\"><div class=\"sk-item\"><div class=\"sk-serial\"><div class=\"sk-item\"><div class=\"sk-estimator sk-toggleable\"><input class=\"sk-toggleable__control sk-hidden--visually\" id=\"sk-estimator-id-58\" type=\"checkbox\" ><label for=\"sk-estimator-id-58\" class=\"sk-toggleable__label sk-toggleable__label-arrow\">TfidfVectorizer</label><div class=\"sk-toggleable__content\"><pre>TfidfVectorizer()</pre></div></div></div></div></div></div></div></div><div class=\"sk-parallel-item\"><div class=\"sk-item\"><div class=\"sk-label-container\"><div class=\"sk-label sk-toggleable\"><input class=\"sk-toggleable__control sk-hidden--visually\" id=\"sk-estimator-id-59\" type=\"checkbox\" ><label for=\"sk-estimator-id-59\" class=\"sk-toggleable__label sk-toggleable__label-arrow\">cat</label><div class=\"sk-toggleable__content\"><pre>[&#x27;rating&#x27;, &#x27;isFrequentReviewer&#x27;]</pre></div></div></div><div class=\"sk-serial\"><div class=\"sk-item\"><div class=\"sk-serial\"><div class=\"sk-item\"><div class=\"sk-estimator sk-toggleable\"><input class=\"sk-toggleable__control sk-hidden--visually\" id=\"sk-estimator-id-60\" type=\"checkbox\" ><label for=\"sk-estimator-id-60\" class=\"sk-toggleable__label sk-toggleable__label-arrow\">OneHotEncoder</label><div class=\"sk-toggleable__content\"><pre>OneHotEncoder(handle_unknown=&#x27;ignore&#x27;)</pre></div></div></div></div></div></div></div></div><div class=\"sk-parallel-item\"><div class=\"sk-item\"><div class=\"sk-label-container\"><div class=\"sk-label sk-toggleable\"><input class=\"sk-toggleable__control sk-hidden--visually\" id=\"sk-estimator-id-61\" type=\"checkbox\" ><label for=\"sk-estimator-id-61\" class=\"sk-toggleable__label sk-toggleable__label-arrow\">txt4</label><div class=\"sk-toggleable__content\"><pre>reviewText</pre></div></div></div><div class=\"sk-serial\"><div class=\"sk-item\"><div class=\"sk-estimator sk-toggleable\"><input class=\"sk-toggleable__control sk-hidden--visually\" id=\"sk-estimator-id-62\" type=\"checkbox\" ><label for=\"sk-estimator-id-62\" class=\"sk-toggleable__label sk-toggleable__label-arrow\">TfidfVectorizer</label><div class=\"sk-toggleable__content\"><pre>TfidfVectorizer(ngram_range=(1, 2))</pre></div></div></div></div></div></div></div></div><div class=\"sk-item\"><div class=\"sk-estimator sk-toggleable\"><input class=\"sk-toggleable__control sk-hidden--visually\" id=\"sk-estimator-id-63\" type=\"checkbox\" ><label for=\"sk-estimator-id-63\" class=\"sk-toggleable__label sk-toggleable__label-arrow\">KNeighborsClassifier</label><div class=\"sk-toggleable__content\"><pre>KNeighborsClassifier()</pre></div></div></div></div></div></div></div>"
      ],
      "text/plain": [
       "Pipeline(steps=[('preprocessor',\n",
       "                 ColumnTransformer(n_jobs=1,\n",
       "                                   transformers=[('num',\n",
       "                                                  Pipeline(steps=[('imputer',\n",
       "                                                                   SimpleImputer()),\n",
       "                                                                  ('scaler',\n",
       "                                                                   MinMaxScaler())]),\n",
       "                                                  ['audienceScore',\n",
       "                                                   'runtimeMinutes']),\n",
       "                                                 ('txt1',\n",
       "                                                  Pipeline(steps=[('tvec',\n",
       "                                                                   TfidfVectorizer())]),\n",
       "                                                  'originalLanguage'),\n",
       "                                                 ('txt2',\n",
       "                                                  Pipeline(steps=[('tvec',\n",
       "                                                                   TfidfVectorizer())]),\n",
       "                                                  'genre'),\n",
       "                                                 ('txt3',\n",
       "                                                  Pipeline(steps=[('tvec',\n",
       "                                                                   TfidfVectorizer())]),\n",
       "                                                  'director'),\n",
       "                                                 ('cat',\n",
       "                                                  Pipeline(steps=[('ohe',\n",
       "                                                                   OneHotEncoder(handle_unknown='ignore'))]),\n",
       "                                                  ['rating',\n",
       "                                                   'isFrequentReviewer']),\n",
       "                                                 ('txt4',\n",
       "                                                  TfidfVectorizer(ngram_range=(1,\n",
       "                                                                               2)),\n",
       "                                                  'reviewText')])),\n",
       "                ('model', KNeighborsClassifier())])"
      ]
     },
     "execution_count": 77,
     "metadata": {},
     "output_type": "execute_result"
    }
   ],
   "source": [
    "pipe_knn = Pipeline(steps=[\n",
    "                        (\"preprocessor\", ct_final),\n",
    "                        (\"model\", KNeighborsClassifier())\n",
    "                    ])\n",
    "pipe_knn"
   ]
  },
  {
   "cell_type": "code",
   "execution_count": 78,
   "id": "2ba6bf33",
   "metadata": {
    "execution": {
     "iopub.execute_input": "2023-07-03T20:01:21.024663Z",
     "iopub.status.busy": "2023-07-03T20:01:21.024243Z",
     "iopub.status.idle": "2023-07-03T20:01:21.029361Z",
     "shell.execute_reply": "2023-07-03T20:01:21.028189Z"
    },
    "papermill": {
     "duration": 0.045615,
     "end_time": "2023-07-03T20:01:21.031866",
     "exception": false,
     "start_time": "2023-07-03T20:01:20.986251",
     "status": "completed"
    },
    "tags": []
   },
   "outputs": [],
   "source": [
    "# Train and predict on merged training data  \n",
    "# split_train_predict(merged_train_features, merged_train_labels, pipe_knn, test_size=0.25, random_state=42)"
   ]
  }
 ],
 "metadata": {
  "kernelspec": {
   "display_name": "Python 3",
   "language": "python",
   "name": "python3"
  },
  "language_info": {
   "codemirror_mode": {
    "name": "ipython",
    "version": 3
   },
   "file_extension": ".py",
   "mimetype": "text/x-python",
   "name": "python",
   "nbconvert_exporter": "python",
   "pygments_lexer": "ipython3",
   "version": "3.9.7"
  },
  "papermill": {
   "default_parameters": {},
   "duration": 350.431209,
   "end_time": "2023-07-03T20:01:22.293265",
   "environment_variables": {},
   "exception": null,
   "input_path": "__notebook__.ipynb",
   "output_path": "__notebook__.ipynb",
   "parameters": {},
   "start_time": "2023-07-03T19:55:31.862056",
   "version": "2.4.0"
  }
 },
 "nbformat": 4,
 "nbformat_minor": 5
}
