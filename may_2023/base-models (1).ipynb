{
 "cells": [
  {
   "cell_type": "code",
   "execution_count": 1,
   "id": "a705f1c8",
   "metadata": {
    "_cell_guid": "b1076dfc-b9ad-4769-8c92-a6c4dae69d19",
    "_uuid": "8f2839f25d086af736a60e9eeb907d3b93b6e0e5",
    "execution": {
     "iopub.execute_input": "2023-06-05T20:36:35.288071Z",
     "iopub.status.busy": "2023-06-05T20:36:35.287495Z",
     "iopub.status.idle": "2023-06-05T20:36:35.297926Z",
     "shell.execute_reply": "2023-06-05T20:36:35.297030Z"
    },
    "papermill": {
     "duration": 0.028392,
     "end_time": "2023-06-05T20:36:35.300111",
     "exception": false,
     "start_time": "2023-06-05T20:36:35.271719",
     "status": "completed"
    },
    "tags": []
   },
   "outputs": [
    {
     "name": "stdout",
     "output_type": "stream",
     "text": [
      "/kaggle/input/sentiment-prediction-on-movie-reviews/movies.csv\n",
      "/kaggle/input/sentiment-prediction-on-movie-reviews/sample.csv\n",
      "/kaggle/input/sentiment-prediction-on-movie-reviews/train.csv\n",
      "/kaggle/input/sentiment-prediction-on-movie-reviews/test.csv\n"
     ]
    }
   ],
   "source": [
    "# This Python 3 environment comes with many helpful analytics libraries installed\n",
    "# It is defined by the kaggle/python Docker image: https://github.com/kaggle/docker-python\n",
    "# For example, here's several helpful packages to load\n",
    "\n",
    "import numpy as np # linear algebra\n",
    "import pandas as pd # data processing, CSV file I/O (e.g. pd.read_csv)\n",
    "\n",
    "# Input data files are available in the read-only \"../input/\" directory\n",
    "# For example, running this (by clicking run or pressing Shift+Enter) will list all files under the input directory\n",
    "\n",
    "import os\n",
    "for dirname, _, filenames in os.walk('/kaggle/input'):\n",
    "    for filename in filenames:\n",
    "        print(os.path.join(dirname, filename))\n",
    "\n",
    "# You can write up to 20GB to the current directory (/kaggle/working/) that gets preserved as output when you create a version using \"Save & Run All\" \n",
    "# You can also write temporary files to /kaggle/temp/, but they won't be saved outside of the current session"
   ]
  },
  {
   "cell_type": "markdown",
   "id": "128202e0",
   "metadata": {
    "papermill": {
     "duration": 0.012641,
     "end_time": "2023-06-05T20:36:35.326003",
     "exception": false,
     "start_time": "2023-06-05T20:36:35.313362",
     "status": "completed"
    },
    "tags": []
   },
   "source": [
    "## Import remaining libraries  "
   ]
  },
  {
   "cell_type": "code",
   "execution_count": 2,
   "id": "cd5ccc6e",
   "metadata": {
    "execution": {
     "iopub.execute_input": "2023-06-05T20:36:35.352884Z",
     "iopub.status.busy": "2023-06-05T20:36:35.352537Z",
     "iopub.status.idle": "2023-06-05T20:36:36.670107Z",
     "shell.execute_reply": "2023-06-05T20:36:36.669384Z"
    },
    "papermill": {
     "duration": 1.333584,
     "end_time": "2023-06-05T20:36:36.672264",
     "exception": false,
     "start_time": "2023-06-05T20:36:35.338680",
     "status": "completed"
    },
    "tags": []
   },
   "outputs": [],
   "source": [
    "from sklearn.model_selection import train_test_split"
   ]
  },
  {
   "cell_type": "markdown",
   "id": "77eeb169",
   "metadata": {
    "papermill": {
     "duration": 0.012132,
     "end_time": "2023-06-05T20:36:36.697539",
     "exception": false,
     "start_time": "2023-06-05T20:36:36.685407",
     "status": "completed"
    },
    "tags": []
   },
   "source": [
    "## Load datasets  "
   ]
  },
  {
   "cell_type": "code",
   "execution_count": 3,
   "id": "5a8d346c",
   "metadata": {
    "execution": {
     "iopub.execute_input": "2023-06-05T20:36:36.725849Z",
     "iopub.status.busy": "2023-06-05T20:36:36.724745Z",
     "iopub.status.idle": "2023-06-05T20:36:37.483818Z",
     "shell.execute_reply": "2023-06-05T20:36:37.482808Z"
    },
    "papermill": {
     "duration": 0.776221,
     "end_time": "2023-06-05T20:36:37.486187",
     "exception": false,
     "start_time": "2023-06-05T20:36:36.709966",
     "status": "completed"
    },
    "tags": []
   },
   "outputs": [
    {
     "data": {
      "text/plain": [
       "(162758, 5)"
      ]
     },
     "execution_count": 3,
     "metadata": {},
     "output_type": "execute_result"
    }
   ],
   "source": [
    "traindf = pd.read_csv(\"/kaggle/input/sentiment-prediction-on-movie-reviews/train.csv\")\n",
    "traindf.shape"
   ]
  },
  {
   "cell_type": "code",
   "execution_count": 4,
   "id": "2c4f612a",
   "metadata": {
    "execution": {
     "iopub.execute_input": "2023-06-05T20:36:37.514549Z",
     "iopub.status.busy": "2023-06-05T20:36:37.514211Z",
     "iopub.status.idle": "2023-06-05T20:36:37.767579Z",
     "shell.execute_reply": "2023-06-05T20:36:37.766572Z"
    },
    "papermill": {
     "duration": 0.270116,
     "end_time": "2023-06-05T20:36:37.769765",
     "exception": false,
     "start_time": "2023-06-05T20:36:37.499649",
     "status": "completed"
    },
    "tags": []
   },
   "outputs": [
    {
     "data": {
      "text/plain": [
       "(55315, 4)"
      ]
     },
     "execution_count": 4,
     "metadata": {},
     "output_type": "execute_result"
    }
   ],
   "source": [
    "testdf = pd.read_csv(\"/kaggle/input/sentiment-prediction-on-movie-reviews/test.csv\")\n",
    "testdf.shape"
   ]
  },
  {
   "cell_type": "markdown",
   "id": "bbf3c059",
   "metadata": {
    "papermill": {
     "duration": 0.016128,
     "end_time": "2023-06-05T20:36:37.801303",
     "exception": false,
     "start_time": "2023-06-05T20:36:37.785175",
     "status": "completed"
    },
    "tags": []
   },
   "source": [
    "## Getting data ready for training and evaluating models  \n",
    "\n",
    "`Handle missing data. Current strategy is to fill in some custom text.`  \n",
    "`Separate features and labels from traindf`  \n",
    "`Split training data into training and testing parts`"
   ]
  },
  {
   "cell_type": "code",
   "execution_count": 5,
   "id": "c03e0616",
   "metadata": {
    "execution": {
     "iopub.execute_input": "2023-06-05T20:36:37.828859Z",
     "iopub.status.busy": "2023-06-05T20:36:37.828502Z",
     "iopub.status.idle": "2023-06-05T20:36:37.834834Z",
     "shell.execute_reply": "2023-06-05T20:36:37.833587Z"
    },
    "papermill": {
     "duration": 0.022103,
     "end_time": "2023-06-05T20:36:37.836648",
     "exception": false,
     "start_time": "2023-06-05T20:36:37.814545",
     "status": "completed"
    },
    "tags": []
   },
   "outputs": [
    {
     "data": {
      "text/plain": [
       "(162758, 5)"
      ]
     },
     "execution_count": 5,
     "metadata": {},
     "output_type": "execute_result"
    }
   ],
   "source": [
    "traindf.shape"
   ]
  },
  {
   "cell_type": "code",
   "execution_count": 6,
   "id": "17d49ef8",
   "metadata": {
    "execution": {
     "iopub.execute_input": "2023-06-05T20:36:37.866560Z",
     "iopub.status.busy": "2023-06-05T20:36:37.865492Z",
     "iopub.status.idle": "2023-06-05T20:36:37.991923Z",
     "shell.execute_reply": "2023-06-05T20:36:37.990454Z"
    },
    "papermill": {
     "duration": 0.143829,
     "end_time": "2023-06-05T20:36:37.993990",
     "exception": false,
     "start_time": "2023-06-05T20:36:37.850161",
     "status": "completed"
    },
    "tags": []
   },
   "outputs": [
    {
     "name": "stdout",
     "output_type": "stream",
     "text": [
      "<class 'pandas.core.frame.DataFrame'>\n",
      "RangeIndex: 162758 entries, 0 to 162757\n",
      "Data columns (total 5 columns):\n",
      " #   Column              Non-Null Count   Dtype \n",
      "---  ------              --------------   ----- \n",
      " 0   movieid             162758 non-null  object\n",
      " 1   reviewerName        162758 non-null  object\n",
      " 2   isFrequentReviewer  162758 non-null  bool  \n",
      " 3   reviewText          156311 non-null  object\n",
      " 4   sentiment           162758 non-null  object\n",
      "dtypes: bool(1), object(4)\n",
      "memory usage: 5.1+ MB\n"
     ]
    }
   ],
   "source": [
    "traindf.info()"
   ]
  },
  {
   "cell_type": "code",
   "execution_count": 7,
   "id": "a95cf4e5",
   "metadata": {
    "execution": {
     "iopub.execute_input": "2023-06-05T20:36:38.022226Z",
     "iopub.status.busy": "2023-06-05T20:36:38.021901Z",
     "iopub.status.idle": "2023-06-05T20:36:38.124233Z",
     "shell.execute_reply": "2023-06-05T20:36:38.123023Z"
    },
    "papermill": {
     "duration": 0.11876,
     "end_time": "2023-06-05T20:36:38.126201",
     "exception": false,
     "start_time": "2023-06-05T20:36:38.007441",
     "status": "completed"
    },
    "tags": []
   },
   "outputs": [
    {
     "data": {
      "text/plain": [
       "movieid                  0\n",
       "reviewerName             0\n",
       "isFrequentReviewer       0\n",
       "reviewText            6447\n",
       "sentiment                0\n",
       "dtype: int64"
      ]
     },
     "execution_count": 7,
     "metadata": {},
     "output_type": "execute_result"
    }
   ],
   "source": [
    "traindf.isna().sum()"
   ]
  },
  {
   "cell_type": "markdown",
   "id": "7246657a",
   "metadata": {
    "papermill": {
     "duration": 0.013309,
     "end_time": "2023-06-05T20:36:38.153155",
     "exception": false,
     "start_time": "2023-06-05T20:36:38.139846",
     "status": "completed"
    },
    "tags": []
   },
   "source": [
    "### Fill empty reviewText with custom text  "
   ]
  },
  {
   "cell_type": "code",
   "execution_count": 8,
   "id": "7dcef6e9",
   "metadata": {
    "execution": {
     "iopub.execute_input": "2023-06-05T20:36:38.180644Z",
     "iopub.status.busy": "2023-06-05T20:36:38.180313Z",
     "iopub.status.idle": "2023-06-05T20:36:38.299279Z",
     "shell.execute_reply": "2023-06-05T20:36:38.298142Z"
    },
    "papermill": {
     "duration": 0.135765,
     "end_time": "2023-06-05T20:36:38.301838",
     "exception": false,
     "start_time": "2023-06-05T20:36:38.166073",
     "status": "completed"
    },
    "tags": []
   },
   "outputs": [
    {
     "data": {
      "text/plain": [
       "movieid               0\n",
       "reviewerName          0\n",
       "isFrequentReviewer    0\n",
       "reviewText            0\n",
       "sentiment             0\n",
       "dtype: int64"
      ]
     },
     "execution_count": 8,
     "metadata": {},
     "output_type": "execute_result"
    }
   ],
   "source": [
    "traindf[\"reviewText\"].fillna(\"empty\", inplace=True)\n",
    "traindf.isna().sum()"
   ]
  },
  {
   "cell_type": "markdown",
   "id": "9beec266",
   "metadata": {
    "papermill": {
     "duration": 0.013792,
     "end_time": "2023-06-05T20:36:38.329368",
     "exception": false,
     "start_time": "2023-06-05T20:36:38.315576",
     "status": "completed"
    },
    "tags": []
   },
   "source": [
    "### Separate features and labels  "
   ]
  },
  {
   "cell_type": "code",
   "execution_count": 9,
   "id": "c5e1bd01",
   "metadata": {
    "execution": {
     "iopub.execute_input": "2023-06-05T20:36:38.357833Z",
     "iopub.status.busy": "2023-06-05T20:36:38.357467Z",
     "iopub.status.idle": "2023-06-05T20:36:38.365224Z",
     "shell.execute_reply": "2023-06-05T20:36:38.364272Z"
    },
    "papermill": {
     "duration": 0.024205,
     "end_time": "2023-06-05T20:36:38.367032",
     "exception": false,
     "start_time": "2023-06-05T20:36:38.342827",
     "status": "completed"
    },
    "tags": []
   },
   "outputs": [
    {
     "data": {
      "text/plain": [
       "((162758,), (162758,))"
      ]
     },
     "execution_count": 9,
     "metadata": {},
     "output_type": "execute_result"
    }
   ],
   "source": [
    "train_features = traindf[\"reviewText\"]\n",
    "train_labels = traindf.iloc[:, -1]\n",
    "train_features.shape, train_labels.shape"
   ]
  },
  {
   "cell_type": "markdown",
   "id": "e9cb349b",
   "metadata": {
    "papermill": {
     "duration": 0.013734,
     "end_time": "2023-06-05T20:36:38.394823",
     "exception": false,
     "start_time": "2023-06-05T20:36:38.381089",
     "status": "completed"
    },
    "tags": []
   },
   "source": [
    "### Split traindf into training and testing parts  "
   ]
  },
  {
   "cell_type": "code",
   "execution_count": 10,
   "id": "da467a28",
   "metadata": {
    "execution": {
     "iopub.execute_input": "2023-06-05T20:36:38.424217Z",
     "iopub.status.busy": "2023-06-05T20:36:38.423202Z",
     "iopub.status.idle": "2023-06-05T20:36:38.461152Z",
     "shell.execute_reply": "2023-06-05T20:36:38.460258Z"
    },
    "papermill": {
     "duration": 0.055089,
     "end_time": "2023-06-05T20:36:38.463565",
     "exception": false,
     "start_time": "2023-06-05T20:36:38.408476",
     "status": "completed"
    },
    "tags": []
   },
   "outputs": [
    {
     "data": {
      "text/plain": [
       "((122068,), (40690,), (122068,), (40690,))"
      ]
     },
     "execution_count": 10,
     "metadata": {},
     "output_type": "execute_result"
    }
   ],
   "source": [
    "X_train, X_test, y_train, y_test = train_test_split(train_features, train_labels, test_size=0.25, random_state=42)\n",
    "X_train.shape, X_test.shape, y_train.shape, y_test.shape"
   ]
  },
  {
   "cell_type": "markdown",
   "id": "d7386913",
   "metadata": {
    "papermill": {
     "duration": 0.013922,
     "end_time": "2023-06-05T20:36:38.491706",
     "exception": false,
     "start_time": "2023-06-05T20:36:38.477784",
     "status": "completed"
    },
    "tags": []
   },
   "source": [
    "### Needs further exploration  \n",
    "\n",
    "`stratify based on reviewer type?`  \n",
    "`play with test size`  "
   ]
  },
  {
   "cell_type": "markdown",
   "id": "b0c425f8",
   "metadata": {
    "papermill": {
     "duration": 0.013427,
     "end_time": "2023-06-05T20:36:38.519250",
     "exception": false,
     "start_time": "2023-06-05T20:36:38.505823",
     "status": "completed"
    },
    "tags": []
   },
   "source": [
    "## Model evaluation plan and code  "
   ]
  },
  {
   "cell_type": "code",
   "execution_count": 11,
   "id": "cbbc4d4b",
   "metadata": {
    "execution": {
     "iopub.execute_input": "2023-06-05T20:36:38.548230Z",
     "iopub.status.busy": "2023-06-05T20:36:38.547883Z",
     "iopub.status.idle": "2023-06-05T20:36:38.552757Z",
     "shell.execute_reply": "2023-06-05T20:36:38.551871Z"
    },
    "papermill": {
     "duration": 0.021543,
     "end_time": "2023-06-05T20:36:38.554503",
     "exception": false,
     "start_time": "2023-06-05T20:36:38.532960",
     "status": "completed"
    },
    "tags": []
   },
   "outputs": [],
   "source": [
    "from sklearn.metrics import classification_report, confusion_matrix, ConfusionMatrixDisplay\n",
    "from sklearn.metrics import f1_score"
   ]
  },
  {
   "cell_type": "code",
   "execution_count": 12,
   "id": "bd522830",
   "metadata": {
    "execution": {
     "iopub.execute_input": "2023-06-05T20:36:38.583397Z",
     "iopub.status.busy": "2023-06-05T20:36:38.582532Z",
     "iopub.status.idle": "2023-06-05T20:36:38.587836Z",
     "shell.execute_reply": "2023-06-05T20:36:38.586518Z"
    },
    "papermill": {
     "duration": 0.021888,
     "end_time": "2023-06-05T20:36:38.589756",
     "exception": false,
     "start_time": "2023-06-05T20:36:38.567868",
     "status": "completed"
    },
    "tags": []
   },
   "outputs": [],
   "source": [
    "def evaluate(y_test, y_pred):\n",
    "    print(classification_report(y_test, y_pred))\n",
    "    print(confusion_matrix(y_test, y_pred))\n",
    "    # print(f1_score(y_test, y_pred))\n",
    "    ConfusionMatrixDisplay(y_test, y_pred)\n",
    "    return"
   ]
  },
  {
   "cell_type": "markdown",
   "id": "44855b7e",
   "metadata": {
    "papermill": {
     "duration": 0.012807,
     "end_time": "2023-06-05T20:36:38.616748",
     "exception": false,
     "start_time": "2023-06-05T20:36:38.603941",
     "status": "completed"
    },
    "tags": []
   },
   "source": [
    "# Data preprocessing  "
   ]
  },
  {
   "cell_type": "markdown",
   "id": "8d174305",
   "metadata": {
    "papermill": {
     "duration": 0.012719,
     "end_time": "2023-06-05T20:36:38.642458",
     "exception": false,
     "start_time": "2023-06-05T20:36:38.629739",
     "status": "completed"
    },
    "tags": []
   },
   "source": [
    "## Define stop words  "
   ]
  },
  {
   "cell_type": "code",
   "execution_count": 13,
   "id": "43bbf6de",
   "metadata": {
    "execution": {
     "iopub.execute_input": "2023-06-05T20:36:38.670969Z",
     "iopub.status.busy": "2023-06-05T20:36:38.670149Z",
     "iopub.status.idle": "2023-06-05T20:36:38.687676Z",
     "shell.execute_reply": "2023-06-05T20:36:38.686940Z"
    },
    "papermill": {
     "duration": 0.033888,
     "end_time": "2023-06-05T20:36:38.689727",
     "exception": false,
     "start_time": "2023-06-05T20:36:38.655839",
     "status": "completed"
    },
    "tags": []
   },
   "outputs": [],
   "source": [
    "from sklearn.feature_extraction.text import TfidfVectorizer, CountVectorizer"
   ]
  },
  {
   "cell_type": "code",
   "execution_count": 14,
   "id": "2fd761b1",
   "metadata": {
    "execution": {
     "iopub.execute_input": "2023-06-05T20:36:38.720303Z",
     "iopub.status.busy": "2023-06-05T20:36:38.719011Z",
     "iopub.status.idle": "2023-06-05T20:36:38.761111Z",
     "shell.execute_reply": "2023-06-05T20:36:38.760237Z"
    },
    "papermill": {
     "duration": 0.058831,
     "end_time": "2023-06-05T20:36:38.762925",
     "exception": false,
     "start_time": "2023-06-05T20:36:38.704094",
     "status": "completed"
    },
    "tags": []
   },
   "outputs": [
    {
     "data": {
      "text/plain": [
       "(list, 1160)"
      ]
     },
     "execution_count": 14,
     "metadata": {},
     "output_type": "execute_result"
    }
   ],
   "source": [
    "stop_words = [\"0o\", \"0s\", \"3a\", \"3b\", \"3d\", \"6b\", \"6o\", \"a\", \"a1\", \"a2\", \"a3\", \"a4\", \"ab\", \"able\", \"about\", \"above\", \"abst\", \"ac\", \"accordance\", \"according\", \"accordingly\", \"across\", \"act\", \"actually\", \"ad\", \"added\", \"adj\", \"ae\", \"af\", \"affected\", \"affecting\", \"affects\", \"after\", \"afterwards\", \"ag\", \"again\", \"against\", \"ah\", \"ain\", \"ain't\", \"aj\", \"al\", \"all\", \"allow\", \"allows\", \"almost\", \"alone\", \"along\", \"already\", \"also\", \"although\", \"always\", \"am\", \"among\", \"amongst\", \"amoungst\", \"amount\", \"an\", \"and\", \"announce\", \"another\", \"any\", \"anybody\", \"anyhow\", \"anymore\", \"anyone\", \"anything\", \"anyway\", \"anyways\", \"anywhere\", \"ao\", \"ap\", \"apart\", \"apparently\", \"appear\", \"appreciate\", \"appropriate\", \"approximately\", \"ar\", \"are\", \"aren\", \"arent\", \"aren't\", \"arise\", \"around\", \"as\", \"a's\", \"aside\", \"ask\", \"asking\", \"associated\", \"at\", \"au\", \"auth\", \"av\", \"available\", \"aw\", \"away\", \"awfully\", \"ax\", \"ay\", \"az\", \"b\", \"b1\", \"b2\", \"b3\", \"ba\", \"back\", \"bc\", \"bd\", \"be\", \"became\", \"because\", \"become\", \"becomes\", \"becoming\", \"been\", \"before\", \"beforehand\", \"begin\", \"beginning\", \"beginnings\", \"begins\", \"behind\", \"being\", \"believe\", \"below\", \"beside\", \"besides\", \"best\", \"better\", \"between\", \"beyond\", \"bi\", \"bill\", \"biol\", \"bj\", \"bk\", \"bl\", \"bn\", \"both\", \"bottom\", \"bp\", \"br\", \"brief\", \"briefly\", \"bs\", \"bt\", \"bu\", \"but\", \"bx\", \"by\", \"c\", \"c1\", \"c2\", \"c3\", \"ca\", \"call\", \"came\", \"can\", \"cannot\", \"cant\", \"can't\", \"cause\", \"causes\", \"cc\", \"cd\", \"ce\", \"certain\", \"certainly\", \"cf\", \"cg\", \"ch\", \"changes\", \"ci\", \"cit\", \"cj\", \"cl\", \"clearly\", \"cm\", \"c'mon\", \"cn\", \"co\", \"com\", \"come\", \"comes\", \"con\", \"concerning\", \"consequently\", \"consider\", \"considering\", \"contain\", \"containing\", \"contains\", \"corresponding\", \"could\", \"couldn\", \"couldnt\", \"couldn't\", \"course\", \"cp\", \"cq\", \"cr\", \"cry\", \"cs\", \"c's\", \"ct\", \"cu\", \"currently\", \"cv\", \"cx\", \"cy\", \"cz\", \"d\", \"d2\", \"da\", \"date\", \"dc\", \"dd\", \"de\", \"definitely\", \"describe\", \"described\", \"despite\", \"detail\", \"df\", \"di\", \"did\", \"didn\", \"didn't\", \"different\", \"dj\", \"dk\", \"dl\", \"do\", \"does\", \"doesn\", \"doesn't\", \"doing\", \"don\", \"done\", \"don't\", \"down\", \"downwards\", \"dp\", \"dr\", \"ds\", \"dt\", \"du\", \"due\", \"during\", \"dx\", \"dy\", \"e\", \"e2\", \"e3\", \"ea\", \"each\", \"ec\", \"ed\", \"edu\", \"ee\", \"ef\", \"effect\", \"eg\", \"ei\", \"eight\", \"eighty\", \"either\", \"ej\", \"el\", \"eleven\", \"else\", \"elsewhere\", \"em\", \"empty\", \"en\", \"end\", \"ending\", \"enough\", \"entirely\", \"eo\", \"ep\", \"eq\", \"er\", \"es\", \"especially\", \"est\", \"et\", \"et-al\", \"etc\", \"eu\", \"ev\", \"even\", \"ever\", \"every\", \"everybody\", \"everyone\", \"everything\", \"everywhere\", \"ex\", \"exactly\", \"example\", \"except\", \"ey\", \"f\", \"f2\", \"fa\", \"far\", \"fc\", \"few\", \"ff\", \"fi\", \"fifteen\", \"fifth\", \"fify\", \"fill\", \"find\", \"fire\", \"first\", \"five\", \"fix\", \"fj\", \"fl\", \"fn\", \"fo\", \"followed\", \"following\", \"follows\", \"for\", \"former\", \"formerly\", \"forth\", \"forty\", \"found\", \"four\", \"fr\", \"from\", \"front\", \"fs\", \"ft\", \"fu\", \"full\", \"further\", \"furthermore\", \"fy\", \"g\", \"ga\", \"gave\", \"ge\", \"get\", \"gets\", \"getting\", \"gi\", \"give\", \"given\", \"gives\", \"giving\", \"gj\", \"gl\", \"go\", \"goes\", \"going\", \"gone\", \"got\", \"gotten\", \"gr\", \"greetings\", \"gs\", \"gy\", \"h\", \"h2\", \"h3\", \"had\", \"hadn\", \"hadn't\", \"happens\", \"hardly\", \"has\", \"hasn\", \"hasnt\", \"hasn't\", \"have\", \"haven\", \"haven't\", \"having\", \"he\", \"hed\", \"he'd\", \"he'll\", \"hello\", \"help\", \"hence\", \"her\", \"here\", \"hereafter\", \"hereby\", \"herein\", \"heres\", \"here's\", \"hereupon\", \"hers\", \"herself\", \"hes\", \"he's\", \"hh\", \"hi\", \"hid\", \"him\", \"himself\", \"his\", \"hither\", \"hj\", \"ho\", \"home\", \"hopefully\", \"how\", \"howbeit\", \"however\", \"how's\", \"hr\", \"hs\", \"http\", \"hu\", \"hundred\", \"hy\", \"i\", \"i2\", \"i3\", \"i4\", \"i6\", \"i7\", \"i8\", \"ia\", \"ib\", \"ibid\", \"ic\", \"id\", \"i'd\", \"ie\", \"if\", \"ig\", \"ignored\", \"ih\", \"ii\", \"ij\", \"il\", \"i'll\", \"im\", \"i'm\", \"immediate\", \"immediately\", \"importance\", \"important\", \"in\", \"inasmuch\", \"inc\", \"indeed\", \"index\", \"indicate\", \"indicated\", \"indicates\", \"information\", \"inner\", \"insofar\", \"instead\", \"interest\", \"into\", \"invention\", \"inward\", \"io\", \"ip\", \"iq\", \"ir\", \"is\", \"isn\", \"isn't\", \"it\", \"itd\", \"it'd\", \"it'll\", \"its\", \"it's\", \"itself\", \"iv\", \"i've\", \"ix\", \"iy\", \"iz\", \"j\", \"jj\", \"jr\", \"js\", \"jt\", \"ju\", \"just\", \"k\", \"ke\", \"keep\", \"keeps\", \"kept\", \"kg\", \"kj\", \"km\", \"know\", \"known\", \"knows\", \"ko\", \"l\", \"l2\", \"la\", \"largely\", \"last\", \"lately\", \"later\", \"latter\", \"latterly\", \"lb\", \"lc\", \"le\", \"least\", \"les\", \"less\", \"lest\", \"let\", \"lets\", \"let's\", \"lf\", \"like\", \"liked\", \"likely\", \"line\", \"little\", \"lj\", \"ll\", \"ll\", \"ln\", \"lo\", \"look\", \"looking\", \"looks\", \"los\", \"lr\", \"ls\", \"lt\", \"ltd\", \"m\", \"m2\", \"ma\", \"made\", \"mainly\", \"make\", \"makes\", \"many\", \"may\", \"maybe\", \"me\", \"mean\", \"means\", \"meantime\", \"meanwhile\", \"merely\", \"mg\", \"might\", \"mightn\", \"mightn't\", \"mill\", \"million\", \"mine\", \"miss\", \"ml\", \"mn\", \"mo\", \"more\", \"moreover\", \"most\", \"mostly\", \"move\", \"mr\", \"mrs\", \"ms\", \"mt\", \"mu\", \"much\", \"mug\", \"must\", \"mustn\", \"mustn't\", \"my\", \"myself\", \"n\", \"n2\", \"na\", \"name\", \"namely\", \"nay\", \"nc\", \"nd\", \"ne\", \"near\", \"nearly\", \"necessarily\", \"necessary\", \"need\", \"needn\", \"needn't\", \"needs\", \"neither\", \"never\", \"nevertheless\", \"new\", \"next\", \"ng\", \"ni\", \"nine\", \"ninety\", \"nj\", \"nl\", \"nn\", \"no\", \"nobody\", \"non\", \"none\", \"nonetheless\", \"noone\", \"nor\", \"normally\", \"nos\", \"not\", \"noted\", \"nothing\", \"novel\", \"now\", \"nowhere\", \"nr\", \"ns\", \"nt\", \"ny\", \"o\", \"oa\", \"ob\", \"obtain\", \"obtained\", \"obviously\", \"oc\", \"od\", \"of\", \"off\", \"often\", \"og\", \"oh\", \"oi\", \"oj\", \"ok\", \"okay\", \"ol\", \"old\", \"om\", \"omitted\", \"on\", \"once\", \"one\", \"ones\", \"only\", \"onto\", \"oo\", \"op\", \"oq\", \"or\", \"ord\", \"os\", \"ot\", \"other\", \"others\", \"otherwise\", \"ou\", \"ought\", \"our\", \"ours\", \"ourselves\", \"out\", \"outside\", \"over\", \"overall\", \"ow\", \"owing\", \"own\", \"ox\", \"oz\", \"p\", \"p1\", \"p2\", \"p3\", \"page\", \"pagecount\", \"pages\", \"par\", \"part\", \"particular\", \"particularly\", \"pas\", \"past\", \"pc\", \"pd\", \"pe\", \"per\", \"perhaps\", \"pf\", \"ph\", \"pi\", \"pj\", \"pk\", \"pl\", \"placed\", \"please\", \"plus\", \"pm\", \"pn\", \"po\", \"poorly\", \"possible\", \"possibly\", \"potentially\", \"pp\", \"pq\", \"pr\", \"predominantly\", \"present\", \"presumably\", \"previously\", \"primarily\", \"probably\", \"promptly\", \"proud\", \"provides\", \"ps\", \"pt\", \"pu\", \"put\", \"py\", \"q\", \"qj\", \"qu\", \"que\", \"quickly\", \"quite\", \"qv\", \"r\", \"r2\", \"ra\", \"ran\", \"rather\", \"rc\", \"rd\", \"re\", \"readily\", \"really\", \"reasonably\", \"recent\", \"recently\", \"ref\", \"refs\", \"regarding\", \"regardless\", \"regards\", \"related\", \"relatively\", \"research\", \"research-articl\", \"respectively\", \"resulted\", \"resulting\", \"results\", \"rf\", \"rh\", \"ri\", \"right\", \"rj\", \"rl\", \"rm\", \"rn\", \"ro\", \"rq\", \"rr\", \"rs\", \"rt\", \"ru\", \"run\", \"rv\", \"ry\", \"s\", \"s2\", \"sa\", \"said\", \"same\", \"saw\", \"say\", \"saying\", \"says\", \"sc\", \"sd\", \"se\", \"sec\", \"second\", \"secondly\", \"section\", \"see\", \"seeing\", \"seem\", \"seemed\", \"seeming\", \"seems\", \"seen\", \"self\", \"selves\", \"sensible\", \"sent\", \"serious\", \"seriously\", \"seven\", \"several\", \"sf\", \"shall\", \"shan\", \"shan't\", \"she\", \"shed\", \"she'd\", \"she'll\", \"shes\", \"she's\", \"should\", \"shouldn\", \"shouldn't\", \"should've\", \"show\", \"showed\", \"shown\", \"showns\", \"shows\", \"si\", \"side\", \"significant\", \"significantly\", \"similar\", \"similarly\", \"since\", \"sincere\", \"six\", \"sixty\", \"sj\", \"sl\", \"slightly\", \"sm\", \"sn\", \"so\", \"some\", \"somebody\", \"somehow\", \"someone\", \"somethan\", \"something\", \"sometime\", \"sometimes\", \"somewhat\", \"somewhere\", \"soon\", \"sorry\", \"sp\", \"specifically\", \"specified\", \"specify\", \"specifying\", \"sq\", \"sr\", \"ss\", \"st\", \"still\", \"stop\", \"strongly\", \"sub\", \"substantially\", \"successfully\", \"such\", \"sufficiently\", \"suggest\", \"sup\", \"sure\", \"sy\", \"system\", \"sz\", \"t\", \"t1\", \"t2\", \"t3\", \"take\", \"taken\", \"taking\", \"tb\", \"tc\", \"td\", \"te\", \"tell\", \"ten\", \"tends\", \"tf\", \"th\", \"than\", \"thank\", \"thanks\", \"thanx\", \"that\", \"that'll\", \"thats\", \"that's\", \"that've\", \"the\", \"their\", \"theirs\", \"them\", \"themselves\", \"then\", \"thence\", \"there\", \"thereafter\", \"thereby\", \"thered\", \"therefore\", \"therein\", \"there'll\", \"thereof\", \"therere\", \"theres\", \"there's\", \"thereto\", \"thereupon\", \"there've\", \"these\", \"they\", \"theyd\", \"they'd\", \"they'll\", \"theyre\", \"they're\", \"they've\", \"thickv\", \"thin\", \"think\", \"third\", \"this\", \"thorough\", \"thoroughly\", \"those\", \"thou\", \"though\", \"thoughh\", \"thousand\", \"three\", \"throug\", \"through\", \"throughout\", \"thru\", \"thus\", \"ti\", \"til\", \"tip\", \"tj\", \"tl\", \"tm\", \"tn\", \"to\", \"together\", \"too\", \"took\", \"top\", \"toward\", \"towards\", \"tp\", \"tq\", \"tr\", \"tried\", \"tries\", \"truly\", \"try\", \"trying\", \"ts\", \"t's\", \"tt\", \"tv\", \"twelve\", \"twenty\", \"twice\", \"two\", \"tx\", \"u\", \"u201d\", \"ue\", \"ui\", \"uj\", \"uk\", \"um\", \"un\", \"under\", \"unfortunately\", \"unless\", \"unlike\", \"unlikely\", \"until\", \"unto\", \"uo\", \"up\", \"upon\", \"ups\", \"ur\", \"us\", \"use\", \"used\", \"useful\", \"usefully\", \"usefulness\", \"uses\", \"using\", \"usually\", \"ut\", \"v\", \"va\", \"value\", \"various\", \"vd\", \"ve\", \"ve\", \"very\", \"via\", \"viz\", \"vj\", \"vo\", \"vol\", \"vols\", \"volumtype\", \"vq\", \"vs\", \"vt\", \"vu\", \"w\", \"wa\", \"want\", \"wants\", \"was\", \"wasn\", \"wasnt\", \"wasn't\", \"way\", \"we\", \"wed\", \"we'd\", \"welcome\", \"well\", \"we'll\", \"well-b\", \"went\", \"were\", \"we're\", \"weren\", \"werent\", \"weren't\", \"we've\", \"what\", \"whatever\", \"what'll\", \"whats\", \"what's\", \"when\", \"whence\", \"whenever\", \"when's\", \"where\", \"whereafter\", \"whereas\", \"whereby\", \"wherein\", \"wheres\", \"where's\", \"whereupon\", \"wherever\", \"whether\", \"which\", \"while\", \"whim\", \"whither\", \"who\", \"whod\", \"whoever\", \"whole\", \"who'll\", \"whom\", \"whomever\", \"whos\", \"who's\", \"whose\", \"why\", \"why's\", \"wi\", \"widely\", \"will\", \"willing\", \"wish\", \"with\", \"within\", \"without\", \"wo\", \"won\", \"wonder\", \"wont\", \"won't\", \"words\", \"world\", \"would\", \"wouldn\", \"wouldnt\", \"wouldn't\", \"www\", \"x\", \"x1\", \"x2\", \"x3\", \"xf\", \"xi\", \"xj\", \"xk\", \"xl\", \"xn\", \"xo\", \"xs\", \"xt\", \"xv\", \"xx\", \"y\", \"y2\", \"yes\", \"yet\", \"yj\", \"yl\", \"you\", \"youd\", \"you'd\", \"you'll\", \"your\", \"youre\", \"you're\", \"yours\", \"yourself\", \"yourselves\", \"you've\", \"yr\", \"ys\", \"yt\", \"z\", \"zero\", \"zi\", \"zz\"]\n",
    "type(stop_words), len(stop_words)"
   ]
  },
  {
   "cell_type": "markdown",
   "id": "0321f3c9",
   "metadata": {
    "papermill": {
     "duration": 0.012936,
     "end_time": "2023-06-05T20:36:38.789627",
     "exception": false,
     "start_time": "2023-06-05T20:36:38.776691",
     "status": "completed"
    },
    "tags": []
   },
   "source": [
    "## Feature extraction  "
   ]
  },
  {
   "cell_type": "markdown",
   "id": "8043efa0",
   "metadata": {
    "papermill": {
     "duration": 0.012811,
     "end_time": "2023-06-05T20:36:38.815440",
     "exception": false,
     "start_time": "2023-06-05T20:36:38.802629",
     "status": "completed"
    },
    "tags": []
   },
   "source": [
    "### Understand CountVectorizer and TfidfVectorizer  "
   ]
  },
  {
   "cell_type": "code",
   "execution_count": 15,
   "id": "072752d6",
   "metadata": {
    "execution": {
     "iopub.execute_input": "2023-06-05T20:36:38.843545Z",
     "iopub.status.busy": "2023-06-05T20:36:38.843165Z",
     "iopub.status.idle": "2023-06-05T20:36:38.846265Z",
     "shell.execute_reply": "2023-06-05T20:36:38.845715Z"
    },
    "papermill": {
     "duration": 0.018937,
     "end_time": "2023-06-05T20:36:38.847704",
     "exception": false,
     "start_time": "2023-06-05T20:36:38.828767",
     "status": "completed"
    },
    "tags": []
   },
   "outputs": [],
   "source": [
    "# text = X_train.copy()\n",
    "# text.head()"
   ]
  },
  {
   "cell_type": "code",
   "execution_count": 16,
   "id": "4be151d1",
   "metadata": {
    "execution": {
     "iopub.execute_input": "2023-06-05T20:36:38.876733Z",
     "iopub.status.busy": "2023-06-05T20:36:38.875976Z",
     "iopub.status.idle": "2023-06-05T20:36:38.880739Z",
     "shell.execute_reply": "2023-06-05T20:36:38.879614Z"
    },
    "papermill": {
     "duration": 0.021444,
     "end_time": "2023-06-05T20:36:38.882854",
     "exception": false,
     "start_time": "2023-06-05T20:36:38.861410",
     "status": "completed"
    },
    "tags": []
   },
   "outputs": [],
   "source": [
    "# vectorizer = TfidfVectorizer(stop_words=stop_words)\n",
    "# vectorized_text = vectorizer.fit_transform(text[\"reviewText\"])\n",
    "# vectorized_text"
   ]
  },
  {
   "cell_type": "markdown",
   "id": "42c8b68e",
   "metadata": {
    "papermill": {
     "duration": 0.013473,
     "end_time": "2023-06-05T20:36:38.911219",
     "exception": false,
     "start_time": "2023-06-05T20:36:38.897746",
     "status": "completed"
    },
    "tags": []
   },
   "source": [
    "`Without stop words`  \n",
    "<122068x58624 sparse matrix of type '<class 'numpy.float64'>'\n",
    "\twith 2312222 stored elements in Compressed Sparse Row format>\n",
    "\n",
    "`With stop words`  \n",
    "<122068x57784 sparse matrix of type '<class 'numpy.float64'>'\n",
    "\twith 1188395 stored elements in Compressed Sparse Row format>   "
   ]
  },
  {
   "cell_type": "code",
   "execution_count": 17,
   "id": "9cd8195b",
   "metadata": {
    "execution": {
     "iopub.execute_input": "2023-06-05T20:36:38.940492Z",
     "iopub.status.busy": "2023-06-05T20:36:38.939283Z",
     "iopub.status.idle": "2023-06-05T20:36:38.943561Z",
     "shell.execute_reply": "2023-06-05T20:36:38.942967Z"
    },
    "papermill": {
     "duration": 0.020642,
     "end_time": "2023-06-05T20:36:38.945415",
     "exception": false,
     "start_time": "2023-06-05T20:36:38.924773",
     "status": "completed"
    },
    "tags": []
   },
   "outputs": [],
   "source": [
    "# vectorizer2 = CountVectorizer(stop_words=stop_words)\n",
    "# vectorized_text2 = vectorizer2.fit_transform(text[\"reviewText\"])\n",
    "# vectorized_text2"
   ]
  },
  {
   "cell_type": "markdown",
   "id": "f06b3b9f",
   "metadata": {
    "papermill": {
     "duration": 0.01386,
     "end_time": "2023-06-05T20:36:38.973552",
     "exception": false,
     "start_time": "2023-06-05T20:36:38.959692",
     "status": "completed"
    },
    "tags": []
   },
   "source": [
    "`Without stop words`  \n",
    "<122068x58624 sparse matrix of type '<class 'numpy.int64'>'\n",
    "\twith 2312222 stored elements in Compressed Sparse Row format>\n",
    "\n",
    "`With stop words`  \n",
    "<122068x57784 sparse matrix of type '<class 'numpy.int64'>'\n",
    "\twith 1188395 stored elements in Compressed Sparse Row format>"
   ]
  },
  {
   "cell_type": "markdown",
   "id": "9bf1c859",
   "metadata": {
    "papermill": {
     "duration": 0.013362,
     "end_time": "2023-06-05T20:36:39.000890",
     "exception": false,
     "start_time": "2023-06-05T20:36:38.987528",
     "status": "completed"
    },
    "tags": []
   },
   "source": [
    "### Conclusion   \n",
    "`TfidfVectorizer is equivalent to CountVectorizer followed by TfidfTransformer.`  \n",
    "\n",
    "https://scikit-learn.org/stable/modules/generated/sklearn.feature_extraction.text.TfidfVectorizer.html"
   ]
  },
  {
   "cell_type": "markdown",
   "id": "0a801ad6",
   "metadata": {
    "papermill": {
     "duration": 0.014555,
     "end_time": "2023-06-05T20:36:39.030033",
     "exception": false,
     "start_time": "2023-06-05T20:36:39.015478",
     "status": "completed"
    },
    "tags": []
   },
   "source": [
    "## Model building workflow  \n",
    "\n",
    "`Make pipeline for preprocesing and model training and predictions`  \n"
   ]
  },
  {
   "cell_type": "code",
   "execution_count": 18,
   "id": "ade10865",
   "metadata": {
    "execution": {
     "iopub.execute_input": "2023-06-05T20:36:39.059529Z",
     "iopub.status.busy": "2023-06-05T20:36:39.058700Z",
     "iopub.status.idle": "2023-06-05T20:36:39.070690Z",
     "shell.execute_reply": "2023-06-05T20:36:39.069755Z"
    },
    "papermill": {
     "duration": 0.029178,
     "end_time": "2023-06-05T20:36:39.072993",
     "exception": false,
     "start_time": "2023-06-05T20:36:39.043815",
     "status": "completed"
    },
    "tags": []
   },
   "outputs": [],
   "source": [
    "from sklearn.pipeline import Pipeline"
   ]
  },
  {
   "cell_type": "code",
   "execution_count": 19,
   "id": "8c2126e3",
   "metadata": {
    "execution": {
     "iopub.execute_input": "2023-06-05T20:36:39.102637Z",
     "iopub.status.busy": "2023-06-05T20:36:39.102287Z",
     "iopub.status.idle": "2023-06-05T20:36:39.109335Z",
     "shell.execute_reply": "2023-06-05T20:36:39.108160Z"
    },
    "papermill": {
     "duration": 0.023659,
     "end_time": "2023-06-05T20:36:39.111109",
     "exception": false,
     "start_time": "2023-06-05T20:36:39.087450",
     "status": "completed"
    },
    "tags": []
   },
   "outputs": [],
   "source": [
    "def preprocess_n_train(X_train, y_train, preprocessor, model):\n",
    "    pipe = Pipeline(steps=[\n",
    "                            (\"preprocessor\", preprocessor),\n",
    "                            (\"model\", model)\n",
    "                        ])\n",
    "    \n",
    "    pipe.fit(X_train, y_train)\n",
    "\n",
    "    print(\"Given model has been trained. Use predict method to get predictions array.\")\n",
    "    return pipe\n",
    "\n",
    "\n",
    "def predict_n_evaluate(pipeline, X_test, y_test):\n",
    "    y_pred = pipeline.predict(X_test)\n",
    "    print(f\"y_pred shape: {y_pred.shape}\")\n",
    "    print(f\"Summary of predictions: {np.unique(y_pred, return_counts=True)}\")\n",
    "    print(classification_report(y_test, y_pred))\n",
    "    print(confusion_matrix(y_test, y_pred))\n",
    "    return y_pred\n",
    "\n",
    "# def evaluate(y_test, y_pred):\n",
    "#     print(classification_report(y_test, y_pred))\n",
    "#     print(confusion_matrix(y_test, y_pred))\n",
    "#     # print(f1_score(y_test, y_pred))\n",
    "#     ConfusionMatrixDisplay(y_test, y_pred)\n",
    "#     return"
   ]
  },
  {
   "cell_type": "markdown",
   "id": "d993fa0e",
   "metadata": {
    "papermill": {
     "duration": 0.0131,
     "end_time": "2023-06-05T20:36:39.138101",
     "exception": false,
     "start_time": "2023-06-05T20:36:39.125001",
     "status": "completed"
    },
    "tags": []
   },
   "source": [
    "## Preprocessor(s)  "
   ]
  },
  {
   "cell_type": "code",
   "execution_count": 20,
   "id": "b00f689b",
   "metadata": {
    "execution": {
     "iopub.execute_input": "2023-06-05T20:36:39.166536Z",
     "iopub.status.busy": "2023-06-05T20:36:39.166212Z",
     "iopub.status.idle": "2023-06-05T20:36:39.171044Z",
     "shell.execute_reply": "2023-06-05T20:36:39.169896Z"
    },
    "papermill": {
     "duration": 0.021467,
     "end_time": "2023-06-05T20:36:39.172994",
     "exception": false,
     "start_time": "2023-06-05T20:36:39.151527",
     "status": "completed"
    },
    "tags": []
   },
   "outputs": [],
   "source": [
    "tvec = TfidfVectorizer()\n",
    "tvec_sw = TfidfVectorizer(stop_words=stop_words)"
   ]
  },
  {
   "cell_type": "markdown",
   "id": "3161dbde",
   "metadata": {
    "papermill": {
     "duration": 0.013152,
     "end_time": "2023-06-05T20:36:39.199712",
     "exception": false,
     "start_time": "2023-06-05T20:36:39.186560",
     "status": "completed"
    },
    "tags": []
   },
   "source": [
    "## Logistic Regression with TfidVectorizer for preprocessing  "
   ]
  },
  {
   "cell_type": "code",
   "execution_count": 21,
   "id": "e9b08acd",
   "metadata": {
    "execution": {
     "iopub.execute_input": "2023-06-05T20:36:39.228814Z",
     "iopub.status.busy": "2023-06-05T20:36:39.227494Z",
     "iopub.status.idle": "2023-06-05T20:36:39.321275Z",
     "shell.execute_reply": "2023-06-05T20:36:39.320205Z"
    },
    "papermill": {
     "duration": 0.11046,
     "end_time": "2023-06-05T20:36:39.323467",
     "exception": false,
     "start_time": "2023-06-05T20:36:39.213007",
     "status": "completed"
    },
    "tags": []
   },
   "outputs": [],
   "source": [
    "from sklearn.linear_model import LogisticRegression"
   ]
  },
  {
   "cell_type": "code",
   "execution_count": 22,
   "id": "30b724dd",
   "metadata": {
    "execution": {
     "iopub.execute_input": "2023-06-05T20:36:39.353462Z",
     "iopub.status.busy": "2023-06-05T20:36:39.352074Z",
     "iopub.status.idle": "2023-06-05T20:36:39.365526Z",
     "shell.execute_reply": "2023-06-05T20:36:39.364317Z"
    },
    "papermill": {
     "duration": 0.030205,
     "end_time": "2023-06-05T20:36:39.367462",
     "exception": false,
     "start_time": "2023-06-05T20:36:39.337257",
     "status": "completed"
    },
    "tags": []
   },
   "outputs": [
    {
     "data": {
      "text/html": [
       "<style>#sk-container-id-1 {color: black;background-color: white;}#sk-container-id-1 pre{padding: 0;}#sk-container-id-1 div.sk-toggleable {background-color: white;}#sk-container-id-1 label.sk-toggleable__label {cursor: pointer;display: block;width: 100%;margin-bottom: 0;padding: 0.3em;box-sizing: border-box;text-align: center;}#sk-container-id-1 label.sk-toggleable__label-arrow:before {content: \"▸\";float: left;margin-right: 0.25em;color: #696969;}#sk-container-id-1 label.sk-toggleable__label-arrow:hover:before {color: black;}#sk-container-id-1 div.sk-estimator:hover label.sk-toggleable__label-arrow:before {color: black;}#sk-container-id-1 div.sk-toggleable__content {max-height: 0;max-width: 0;overflow: hidden;text-align: left;background-color: #f0f8ff;}#sk-container-id-1 div.sk-toggleable__content pre {margin: 0.2em;color: black;border-radius: 0.25em;background-color: #f0f8ff;}#sk-container-id-1 input.sk-toggleable__control:checked~div.sk-toggleable__content {max-height: 200px;max-width: 100%;overflow: auto;}#sk-container-id-1 input.sk-toggleable__control:checked~label.sk-toggleable__label-arrow:before {content: \"▾\";}#sk-container-id-1 div.sk-estimator input.sk-toggleable__control:checked~label.sk-toggleable__label {background-color: #d4ebff;}#sk-container-id-1 div.sk-label input.sk-toggleable__control:checked~label.sk-toggleable__label {background-color: #d4ebff;}#sk-container-id-1 input.sk-hidden--visually {border: 0;clip: rect(1px 1px 1px 1px);clip: rect(1px, 1px, 1px, 1px);height: 1px;margin: -1px;overflow: hidden;padding: 0;position: absolute;width: 1px;}#sk-container-id-1 div.sk-estimator {font-family: monospace;background-color: #f0f8ff;border: 1px dotted black;border-radius: 0.25em;box-sizing: border-box;margin-bottom: 0.5em;}#sk-container-id-1 div.sk-estimator:hover {background-color: #d4ebff;}#sk-container-id-1 div.sk-parallel-item::after {content: \"\";width: 100%;border-bottom: 1px solid gray;flex-grow: 1;}#sk-container-id-1 div.sk-label:hover label.sk-toggleable__label {background-color: #d4ebff;}#sk-container-id-1 div.sk-serial::before {content: \"\";position: absolute;border-left: 1px solid gray;box-sizing: border-box;top: 0;bottom: 0;left: 50%;z-index: 0;}#sk-container-id-1 div.sk-serial {display: flex;flex-direction: column;align-items: center;background-color: white;padding-right: 0.2em;padding-left: 0.2em;position: relative;}#sk-container-id-1 div.sk-item {position: relative;z-index: 1;}#sk-container-id-1 div.sk-parallel {display: flex;align-items: stretch;justify-content: center;background-color: white;position: relative;}#sk-container-id-1 div.sk-item::before, #sk-container-id-1 div.sk-parallel-item::before {content: \"\";position: absolute;border-left: 1px solid gray;box-sizing: border-box;top: 0;bottom: 0;left: 50%;z-index: -1;}#sk-container-id-1 div.sk-parallel-item {display: flex;flex-direction: column;z-index: 1;position: relative;background-color: white;}#sk-container-id-1 div.sk-parallel-item:first-child::after {align-self: flex-end;width: 50%;}#sk-container-id-1 div.sk-parallel-item:last-child::after {align-self: flex-start;width: 50%;}#sk-container-id-1 div.sk-parallel-item:only-child::after {width: 0;}#sk-container-id-1 div.sk-dashed-wrapped {border: 1px dashed gray;margin: 0 0.4em 0.5em 0.4em;box-sizing: border-box;padding-bottom: 0.4em;background-color: white;}#sk-container-id-1 div.sk-label label {font-family: monospace;font-weight: bold;display: inline-block;line-height: 1.2em;}#sk-container-id-1 div.sk-label-container {text-align: center;}#sk-container-id-1 div.sk-container {/* jupyter's `normalize.less` sets `[hidden] { display: none; }` but bootstrap.min.css set `[hidden] { display: none !important; }` so we also need the `!important` here to be able to override the default hidden behavior on the sphinx rendered scikit-learn.org. See: https://github.com/scikit-learn/scikit-learn/issues/21755 */display: inline-block !important;position: relative;}#sk-container-id-1 div.sk-text-repr-fallback {display: none;}</style><div id=\"sk-container-id-1\" class=\"sk-top-container\"><div class=\"sk-text-repr-fallback\"><pre>LogisticRegression(max_iter=1000)</pre><b>In a Jupyter environment, please rerun this cell to show the HTML representation or trust the notebook. <br />On GitHub, the HTML representation is unable to render, please try loading this page with nbviewer.org.</b></div><div class=\"sk-container\" hidden><div class=\"sk-item\"><div class=\"sk-estimator sk-toggleable\"><input class=\"sk-toggleable__control sk-hidden--visually\" id=\"sk-estimator-id-1\" type=\"checkbox\" checked><label for=\"sk-estimator-id-1\" class=\"sk-toggleable__label sk-toggleable__label-arrow\">LogisticRegression</label><div class=\"sk-toggleable__content\"><pre>LogisticRegression(max_iter=1000)</pre></div></div></div></div></div>"
      ],
      "text/plain": [
       "LogisticRegression(max_iter=1000)"
      ]
     },
     "execution_count": 22,
     "metadata": {},
     "output_type": "execute_result"
    }
   ],
   "source": [
    "logreg = LogisticRegression(max_iter=1000)\n",
    "logreg"
   ]
  },
  {
   "cell_type": "code",
   "execution_count": 23,
   "id": "5b3fb410",
   "metadata": {
    "execution": {
     "iopub.execute_input": "2023-06-05T20:36:39.397318Z",
     "iopub.status.busy": "2023-06-05T20:36:39.396963Z",
     "iopub.status.idle": "2023-06-05T20:36:39.403623Z",
     "shell.execute_reply": "2023-06-05T20:36:39.402562Z"
    },
    "papermill": {
     "duration": 0.023539,
     "end_time": "2023-06-05T20:36:39.405297",
     "exception": false,
     "start_time": "2023-06-05T20:36:39.381758",
     "status": "completed"
    },
    "tags": []
   },
   "outputs": [
    {
     "data": {
      "text/plain": [
       "(TfidfVectorizer(), CountVectorizer())"
      ]
     },
     "execution_count": 23,
     "metadata": {},
     "output_type": "execute_result"
    }
   ],
   "source": [
    "tvec = TfidfVectorizer()\n",
    "cvec = CountVectorizer()        # Note that TfidfVectorizer and CountVectorizer+TfidsTransformer do the same function\n",
    "tvec, cvec"
   ]
  },
  {
   "cell_type": "code",
   "execution_count": 24,
   "id": "dcbe3d21",
   "metadata": {
    "execution": {
     "iopub.execute_input": "2023-06-05T20:36:39.435712Z",
     "iopub.status.busy": "2023-06-05T20:36:39.435126Z",
     "iopub.status.idle": "2023-06-05T20:36:39.438940Z",
     "shell.execute_reply": "2023-06-05T20:36:39.438088Z"
    },
    "papermill": {
     "duration": 0.021048,
     "end_time": "2023-06-05T20:36:39.440588",
     "exception": false,
     "start_time": "2023-06-05T20:36:39.419540",
     "status": "completed"
    },
    "tags": []
   },
   "outputs": [],
   "source": [
    "# logreg_pipe = preprocess_n_train(X_train, y_train, tvec, logreg)\n",
    "# logreg_pipe"
   ]
  },
  {
   "cell_type": "code",
   "execution_count": 25,
   "id": "41f6d30d",
   "metadata": {
    "execution": {
     "iopub.execute_input": "2023-06-05T20:36:39.471227Z",
     "iopub.status.busy": "2023-06-05T20:36:39.470215Z",
     "iopub.status.idle": "2023-06-05T20:36:39.474810Z",
     "shell.execute_reply": "2023-06-05T20:36:39.473914Z"
    },
    "papermill": {
     "duration": 0.021486,
     "end_time": "2023-06-05T20:36:39.476369",
     "exception": false,
     "start_time": "2023-06-05T20:36:39.454883",
     "status": "completed"
    },
    "tags": []
   },
   "outputs": [],
   "source": [
    "# y_pred_logreg = predict_n_evaluate(logreg_pipe, X_test, y_test)\n",
    "# y_pred_logreg"
   ]
  },
  {
   "cell_type": "markdown",
   "id": "0ded6083",
   "metadata": {
    "papermill": {
     "duration": 0.013226,
     "end_time": "2023-06-05T20:36:39.503219",
     "exception": false,
     "start_time": "2023-06-05T20:36:39.489993",
     "status": "completed"
    },
    "tags": []
   },
   "source": [
    "### Logistic Regression with stop words  "
   ]
  },
  {
   "cell_type": "code",
   "execution_count": 26,
   "id": "b07f6eb8",
   "metadata": {
    "execution": {
     "iopub.execute_input": "2023-06-05T20:36:39.531329Z",
     "iopub.status.busy": "2023-06-05T20:36:39.530983Z",
     "iopub.status.idle": "2023-06-05T20:36:39.535039Z",
     "shell.execute_reply": "2023-06-05T20:36:39.534222Z"
    },
    "papermill": {
     "duration": 0.020254,
     "end_time": "2023-06-05T20:36:39.536710",
     "exception": false,
     "start_time": "2023-06-05T20:36:39.516456",
     "status": "completed"
    },
    "tags": []
   },
   "outputs": [],
   "source": [
    "# tvec_sw = TfidfVectorizer(stop_words=stop_words)"
   ]
  },
  {
   "cell_type": "code",
   "execution_count": 27,
   "id": "22ba5aaa",
   "metadata": {
    "execution": {
     "iopub.execute_input": "2023-06-05T20:36:39.565834Z",
     "iopub.status.busy": "2023-06-05T20:36:39.565445Z",
     "iopub.status.idle": "2023-06-05T20:36:39.569402Z",
     "shell.execute_reply": "2023-06-05T20:36:39.568533Z"
    },
    "papermill": {
     "duration": 0.020434,
     "end_time": "2023-06-05T20:36:39.570928",
     "exception": false,
     "start_time": "2023-06-05T20:36:39.550494",
     "status": "completed"
    },
    "tags": []
   },
   "outputs": [],
   "source": [
    "# logreg_sw_pipe = preprocess_n_train(X_train, y_train, tvec_sw, logreg)\n",
    "# logreg_sw_pipe"
   ]
  },
  {
   "cell_type": "code",
   "execution_count": 28,
   "id": "c1a27b24",
   "metadata": {
    "execution": {
     "iopub.execute_input": "2023-06-05T20:36:39.599406Z",
     "iopub.status.busy": "2023-06-05T20:36:39.599055Z",
     "iopub.status.idle": "2023-06-05T20:36:39.602418Z",
     "shell.execute_reply": "2023-06-05T20:36:39.601844Z"
    },
    "papermill": {
     "duration": 0.019379,
     "end_time": "2023-06-05T20:36:39.603838",
     "exception": false,
     "start_time": "2023-06-05T20:36:39.584459",
     "status": "completed"
    },
    "tags": []
   },
   "outputs": [],
   "source": [
    "# y_pred_logreg_sw = predict_n_evaluate(logreg_sw_pipe, X_test, y_test)\n",
    "# y_pred_logreg_sw"
   ]
  },
  {
   "cell_type": "markdown",
   "id": "ce3f3f09",
   "metadata": {
    "papermill": {
     "duration": 0.013351,
     "end_time": "2023-06-05T20:36:39.630832",
     "exception": false,
     "start_time": "2023-06-05T20:36:39.617481",
     "status": "completed"
    },
    "tags": []
   },
   "source": [
    "### Logistic regression with different ngram ranges  "
   ]
  },
  {
   "cell_type": "markdown",
   "id": "f98f09a3",
   "metadata": {
    "papermill": {
     "duration": 0.013312,
     "end_time": "2023-06-05T20:36:39.657628",
     "exception": false,
     "start_time": "2023-06-05T20:36:39.644316",
     "status": "completed"
    },
    "tags": []
   },
   "source": [
    "#### ngram range (1,2)  "
   ]
  },
  {
   "cell_type": "code",
   "execution_count": 29,
   "id": "dfd37708",
   "metadata": {
    "execution": {
     "iopub.execute_input": "2023-06-05T20:36:39.686462Z",
     "iopub.status.busy": "2023-06-05T20:36:39.685672Z",
     "iopub.status.idle": "2023-06-05T20:36:39.689085Z",
     "shell.execute_reply": "2023-06-05T20:36:39.688521Z"
    },
    "papermill": {
     "duration": 0.019472,
     "end_time": "2023-06-05T20:36:39.690553",
     "exception": false,
     "start_time": "2023-06-05T20:36:39.671081",
     "status": "completed"
    },
    "tags": []
   },
   "outputs": [],
   "source": [
    "# tvec_ngram_2 = TfidfVectorizer(ngram_range=(1,2))"
   ]
  },
  {
   "cell_type": "code",
   "execution_count": 30,
   "id": "3316b8aa",
   "metadata": {
    "execution": {
     "iopub.execute_input": "2023-06-05T20:36:39.719489Z",
     "iopub.status.busy": "2023-06-05T20:36:39.718992Z",
     "iopub.status.idle": "2023-06-05T20:36:39.722246Z",
     "shell.execute_reply": "2023-06-05T20:36:39.721373Z"
    },
    "papermill": {
     "duration": 0.02033,
     "end_time": "2023-06-05T20:36:39.724467",
     "exception": false,
     "start_time": "2023-06-05T20:36:39.704137",
     "status": "completed"
    },
    "tags": []
   },
   "outputs": [],
   "source": [
    "# logreg_ng2_pipe = preprocess_n_train(X_train, y_train, tvec_ngram_2, logreg)\n",
    "# logreg_ng2_pipe"
   ]
  },
  {
   "cell_type": "code",
   "execution_count": 31,
   "id": "6441680f",
   "metadata": {
    "execution": {
     "iopub.execute_input": "2023-06-05T20:36:39.753289Z",
     "iopub.status.busy": "2023-06-05T20:36:39.752943Z",
     "iopub.status.idle": "2023-06-05T20:36:39.756741Z",
     "shell.execute_reply": "2023-06-05T20:36:39.755881Z"
    },
    "papermill": {
     "duration": 0.020093,
     "end_time": "2023-06-05T20:36:39.758320",
     "exception": false,
     "start_time": "2023-06-05T20:36:39.738227",
     "status": "completed"
    },
    "tags": []
   },
   "outputs": [],
   "source": [
    "# y_pred_logreg_ng2 = predict_n_evaluate(logreg_ng2_pipe, X_test, y_test)\n",
    "# y_pred_logreg_ng2"
   ]
  },
  {
   "cell_type": "markdown",
   "id": "49b30e89",
   "metadata": {
    "papermill": {
     "duration": 0.013408,
     "end_time": "2023-06-05T20:36:39.786183",
     "exception": false,
     "start_time": "2023-06-05T20:36:39.772775",
     "status": "completed"
    },
    "tags": []
   },
   "source": [
    "### Logistic regression with C=2, ngram range (1,2), stop words as None and min_df, max_df adjusted     "
   ]
  },
  {
   "cell_type": "code",
   "execution_count": 32,
   "id": "e3b87c23",
   "metadata": {
    "execution": {
     "iopub.execute_input": "2023-06-05T20:36:39.814825Z",
     "iopub.status.busy": "2023-06-05T20:36:39.814477Z",
     "iopub.status.idle": "2023-06-05T20:36:39.818792Z",
     "shell.execute_reply": "2023-06-05T20:36:39.817879Z"
    },
    "papermill": {
     "duration": 0.020532,
     "end_time": "2023-06-05T20:36:39.820442",
     "exception": false,
     "start_time": "2023-06-05T20:36:39.799910",
     "status": "completed"
    },
    "tags": []
   },
   "outputs": [],
   "source": [
    "logreg = LogisticRegression(max_iter=100000, C=2)"
   ]
  },
  {
   "cell_type": "code",
   "execution_count": 33,
   "id": "8620dabb",
   "metadata": {
    "execution": {
     "iopub.execute_input": "2023-06-05T20:36:39.848727Z",
     "iopub.status.busy": "2023-06-05T20:36:39.848415Z",
     "iopub.status.idle": "2023-06-05T20:36:39.855894Z",
     "shell.execute_reply": "2023-06-05T20:36:39.854935Z"
    },
    "papermill": {
     "duration": 0.023793,
     "end_time": "2023-06-05T20:36:39.857749",
     "exception": false,
     "start_time": "2023-06-05T20:36:39.833956",
     "status": "completed"
    },
    "tags": []
   },
   "outputs": [
    {
     "data": {
      "text/html": [
       "<style>#sk-container-id-2 {color: black;background-color: white;}#sk-container-id-2 pre{padding: 0;}#sk-container-id-2 div.sk-toggleable {background-color: white;}#sk-container-id-2 label.sk-toggleable__label {cursor: pointer;display: block;width: 100%;margin-bottom: 0;padding: 0.3em;box-sizing: border-box;text-align: center;}#sk-container-id-2 label.sk-toggleable__label-arrow:before {content: \"▸\";float: left;margin-right: 0.25em;color: #696969;}#sk-container-id-2 label.sk-toggleable__label-arrow:hover:before {color: black;}#sk-container-id-2 div.sk-estimator:hover label.sk-toggleable__label-arrow:before {color: black;}#sk-container-id-2 div.sk-toggleable__content {max-height: 0;max-width: 0;overflow: hidden;text-align: left;background-color: #f0f8ff;}#sk-container-id-2 div.sk-toggleable__content pre {margin: 0.2em;color: black;border-radius: 0.25em;background-color: #f0f8ff;}#sk-container-id-2 input.sk-toggleable__control:checked~div.sk-toggleable__content {max-height: 200px;max-width: 100%;overflow: auto;}#sk-container-id-2 input.sk-toggleable__control:checked~label.sk-toggleable__label-arrow:before {content: \"▾\";}#sk-container-id-2 div.sk-estimator input.sk-toggleable__control:checked~label.sk-toggleable__label {background-color: #d4ebff;}#sk-container-id-2 div.sk-label input.sk-toggleable__control:checked~label.sk-toggleable__label {background-color: #d4ebff;}#sk-container-id-2 input.sk-hidden--visually {border: 0;clip: rect(1px 1px 1px 1px);clip: rect(1px, 1px, 1px, 1px);height: 1px;margin: -1px;overflow: hidden;padding: 0;position: absolute;width: 1px;}#sk-container-id-2 div.sk-estimator {font-family: monospace;background-color: #f0f8ff;border: 1px dotted black;border-radius: 0.25em;box-sizing: border-box;margin-bottom: 0.5em;}#sk-container-id-2 div.sk-estimator:hover {background-color: #d4ebff;}#sk-container-id-2 div.sk-parallel-item::after {content: \"\";width: 100%;border-bottom: 1px solid gray;flex-grow: 1;}#sk-container-id-2 div.sk-label:hover label.sk-toggleable__label {background-color: #d4ebff;}#sk-container-id-2 div.sk-serial::before {content: \"\";position: absolute;border-left: 1px solid gray;box-sizing: border-box;top: 0;bottom: 0;left: 50%;z-index: 0;}#sk-container-id-2 div.sk-serial {display: flex;flex-direction: column;align-items: center;background-color: white;padding-right: 0.2em;padding-left: 0.2em;position: relative;}#sk-container-id-2 div.sk-item {position: relative;z-index: 1;}#sk-container-id-2 div.sk-parallel {display: flex;align-items: stretch;justify-content: center;background-color: white;position: relative;}#sk-container-id-2 div.sk-item::before, #sk-container-id-2 div.sk-parallel-item::before {content: \"\";position: absolute;border-left: 1px solid gray;box-sizing: border-box;top: 0;bottom: 0;left: 50%;z-index: -1;}#sk-container-id-2 div.sk-parallel-item {display: flex;flex-direction: column;z-index: 1;position: relative;background-color: white;}#sk-container-id-2 div.sk-parallel-item:first-child::after {align-self: flex-end;width: 50%;}#sk-container-id-2 div.sk-parallel-item:last-child::after {align-self: flex-start;width: 50%;}#sk-container-id-2 div.sk-parallel-item:only-child::after {width: 0;}#sk-container-id-2 div.sk-dashed-wrapped {border: 1px dashed gray;margin: 0 0.4em 0.5em 0.4em;box-sizing: border-box;padding-bottom: 0.4em;background-color: white;}#sk-container-id-2 div.sk-label label {font-family: monospace;font-weight: bold;display: inline-block;line-height: 1.2em;}#sk-container-id-2 div.sk-label-container {text-align: center;}#sk-container-id-2 div.sk-container {/* jupyter's `normalize.less` sets `[hidden] { display: none; }` but bootstrap.min.css set `[hidden] { display: none !important; }` so we also need the `!important` here to be able to override the default hidden behavior on the sphinx rendered scikit-learn.org. See: https://github.com/scikit-learn/scikit-learn/issues/21755 */display: inline-block !important;position: relative;}#sk-container-id-2 div.sk-text-repr-fallback {display: none;}</style><div id=\"sk-container-id-2\" class=\"sk-top-container\"><div class=\"sk-text-repr-fallback\"><pre>TfidfVectorizer(max_df=0.5, min_df=0.0001, ngram_range=(1, 2))</pre><b>In a Jupyter environment, please rerun this cell to show the HTML representation or trust the notebook. <br />On GitHub, the HTML representation is unable to render, please try loading this page with nbviewer.org.</b></div><div class=\"sk-container\" hidden><div class=\"sk-item\"><div class=\"sk-estimator sk-toggleable\"><input class=\"sk-toggleable__control sk-hidden--visually\" id=\"sk-estimator-id-2\" type=\"checkbox\" checked><label for=\"sk-estimator-id-2\" class=\"sk-toggleable__label sk-toggleable__label-arrow\">TfidfVectorizer</label><div class=\"sk-toggleable__content\"><pre>TfidfVectorizer(max_df=0.5, min_df=0.0001, ngram_range=(1, 2))</pre></div></div></div></div></div>"
      ],
      "text/plain": [
       "TfidfVectorizer(max_df=0.5, min_df=0.0001, ngram_range=(1, 2))"
      ]
     },
     "execution_count": 33,
     "metadata": {},
     "output_type": "execute_result"
    }
   ],
   "source": [
    "tvec_ngram_2_sw_df = TfidfVectorizer(ngram_range=(1,2), stop_words=None, min_df=0.0001, max_df=0.50)\n",
    "tvec_ngram_2_sw_df"
   ]
  },
  {
   "cell_type": "code",
   "execution_count": 34,
   "id": "ffdd979f",
   "metadata": {
    "execution": {
     "iopub.execute_input": "2023-06-05T20:36:39.887120Z",
     "iopub.status.busy": "2023-06-05T20:36:39.886779Z",
     "iopub.status.idle": "2023-06-05T20:36:57.391045Z",
     "shell.execute_reply": "2023-06-05T20:36:57.390189Z"
    },
    "papermill": {
     "duration": 17.521448,
     "end_time": "2023-06-05T20:36:57.393178",
     "exception": false,
     "start_time": "2023-06-05T20:36:39.871730",
     "status": "completed"
    },
    "tags": []
   },
   "outputs": [
    {
     "name": "stdout",
     "output_type": "stream",
     "text": [
      "Given model has been trained. Use predict method to get predictions array.\n"
     ]
    },
    {
     "data": {
      "text/html": [
       "<style>#sk-container-id-3 {color: black;background-color: white;}#sk-container-id-3 pre{padding: 0;}#sk-container-id-3 div.sk-toggleable {background-color: white;}#sk-container-id-3 label.sk-toggleable__label {cursor: pointer;display: block;width: 100%;margin-bottom: 0;padding: 0.3em;box-sizing: border-box;text-align: center;}#sk-container-id-3 label.sk-toggleable__label-arrow:before {content: \"▸\";float: left;margin-right: 0.25em;color: #696969;}#sk-container-id-3 label.sk-toggleable__label-arrow:hover:before {color: black;}#sk-container-id-3 div.sk-estimator:hover label.sk-toggleable__label-arrow:before {color: black;}#sk-container-id-3 div.sk-toggleable__content {max-height: 0;max-width: 0;overflow: hidden;text-align: left;background-color: #f0f8ff;}#sk-container-id-3 div.sk-toggleable__content pre {margin: 0.2em;color: black;border-radius: 0.25em;background-color: #f0f8ff;}#sk-container-id-3 input.sk-toggleable__control:checked~div.sk-toggleable__content {max-height: 200px;max-width: 100%;overflow: auto;}#sk-container-id-3 input.sk-toggleable__control:checked~label.sk-toggleable__label-arrow:before {content: \"▾\";}#sk-container-id-3 div.sk-estimator input.sk-toggleable__control:checked~label.sk-toggleable__label {background-color: #d4ebff;}#sk-container-id-3 div.sk-label input.sk-toggleable__control:checked~label.sk-toggleable__label {background-color: #d4ebff;}#sk-container-id-3 input.sk-hidden--visually {border: 0;clip: rect(1px 1px 1px 1px);clip: rect(1px, 1px, 1px, 1px);height: 1px;margin: -1px;overflow: hidden;padding: 0;position: absolute;width: 1px;}#sk-container-id-3 div.sk-estimator {font-family: monospace;background-color: #f0f8ff;border: 1px dotted black;border-radius: 0.25em;box-sizing: border-box;margin-bottom: 0.5em;}#sk-container-id-3 div.sk-estimator:hover {background-color: #d4ebff;}#sk-container-id-3 div.sk-parallel-item::after {content: \"\";width: 100%;border-bottom: 1px solid gray;flex-grow: 1;}#sk-container-id-3 div.sk-label:hover label.sk-toggleable__label {background-color: #d4ebff;}#sk-container-id-3 div.sk-serial::before {content: \"\";position: absolute;border-left: 1px solid gray;box-sizing: border-box;top: 0;bottom: 0;left: 50%;z-index: 0;}#sk-container-id-3 div.sk-serial {display: flex;flex-direction: column;align-items: center;background-color: white;padding-right: 0.2em;padding-left: 0.2em;position: relative;}#sk-container-id-3 div.sk-item {position: relative;z-index: 1;}#sk-container-id-3 div.sk-parallel {display: flex;align-items: stretch;justify-content: center;background-color: white;position: relative;}#sk-container-id-3 div.sk-item::before, #sk-container-id-3 div.sk-parallel-item::before {content: \"\";position: absolute;border-left: 1px solid gray;box-sizing: border-box;top: 0;bottom: 0;left: 50%;z-index: -1;}#sk-container-id-3 div.sk-parallel-item {display: flex;flex-direction: column;z-index: 1;position: relative;background-color: white;}#sk-container-id-3 div.sk-parallel-item:first-child::after {align-self: flex-end;width: 50%;}#sk-container-id-3 div.sk-parallel-item:last-child::after {align-self: flex-start;width: 50%;}#sk-container-id-3 div.sk-parallel-item:only-child::after {width: 0;}#sk-container-id-3 div.sk-dashed-wrapped {border: 1px dashed gray;margin: 0 0.4em 0.5em 0.4em;box-sizing: border-box;padding-bottom: 0.4em;background-color: white;}#sk-container-id-3 div.sk-label label {font-family: monospace;font-weight: bold;display: inline-block;line-height: 1.2em;}#sk-container-id-3 div.sk-label-container {text-align: center;}#sk-container-id-3 div.sk-container {/* jupyter's `normalize.less` sets `[hidden] { display: none; }` but bootstrap.min.css set `[hidden] { display: none !important; }` so we also need the `!important` here to be able to override the default hidden behavior on the sphinx rendered scikit-learn.org. See: https://github.com/scikit-learn/scikit-learn/issues/21755 */display: inline-block !important;position: relative;}#sk-container-id-3 div.sk-text-repr-fallback {display: none;}</style><div id=\"sk-container-id-3\" class=\"sk-top-container\"><div class=\"sk-text-repr-fallback\"><pre>Pipeline(steps=[(&#x27;preprocessor&#x27;,\n",
       "                 TfidfVectorizer(max_df=0.5, min_df=0.0001,\n",
       "                                 ngram_range=(1, 2))),\n",
       "                (&#x27;model&#x27;, LogisticRegression(C=2, max_iter=100000))])</pre><b>In a Jupyter environment, please rerun this cell to show the HTML representation or trust the notebook. <br />On GitHub, the HTML representation is unable to render, please try loading this page with nbviewer.org.</b></div><div class=\"sk-container\" hidden><div class=\"sk-item sk-dashed-wrapped\"><div class=\"sk-label-container\"><div class=\"sk-label sk-toggleable\"><input class=\"sk-toggleable__control sk-hidden--visually\" id=\"sk-estimator-id-3\" type=\"checkbox\" ><label for=\"sk-estimator-id-3\" class=\"sk-toggleable__label sk-toggleable__label-arrow\">Pipeline</label><div class=\"sk-toggleable__content\"><pre>Pipeline(steps=[(&#x27;preprocessor&#x27;,\n",
       "                 TfidfVectorizer(max_df=0.5, min_df=0.0001,\n",
       "                                 ngram_range=(1, 2))),\n",
       "                (&#x27;model&#x27;, LogisticRegression(C=2, max_iter=100000))])</pre></div></div></div><div class=\"sk-serial\"><div class=\"sk-item\"><div class=\"sk-estimator sk-toggleable\"><input class=\"sk-toggleable__control sk-hidden--visually\" id=\"sk-estimator-id-4\" type=\"checkbox\" ><label for=\"sk-estimator-id-4\" class=\"sk-toggleable__label sk-toggleable__label-arrow\">TfidfVectorizer</label><div class=\"sk-toggleable__content\"><pre>TfidfVectorizer(max_df=0.5, min_df=0.0001, ngram_range=(1, 2))</pre></div></div></div><div class=\"sk-item\"><div class=\"sk-estimator sk-toggleable\"><input class=\"sk-toggleable__control sk-hidden--visually\" id=\"sk-estimator-id-5\" type=\"checkbox\" ><label for=\"sk-estimator-id-5\" class=\"sk-toggleable__label sk-toggleable__label-arrow\">LogisticRegression</label><div class=\"sk-toggleable__content\"><pre>LogisticRegression(C=2, max_iter=100000)</pre></div></div></div></div></div></div></div>"
      ],
      "text/plain": [
       "Pipeline(steps=[('preprocessor',\n",
       "                 TfidfVectorizer(max_df=0.5, min_df=0.0001,\n",
       "                                 ngram_range=(1, 2))),\n",
       "                ('model', LogisticRegression(C=2, max_iter=100000))])"
      ]
     },
     "execution_count": 34,
     "metadata": {},
     "output_type": "execute_result"
    }
   ],
   "source": [
    "logreg_ng2_sw_df_pipe = preprocess_n_train(X_train, y_train, tvec_ngram_2_sw_df, logreg)\n",
    "logreg_ng2_sw_df_pipe"
   ]
  },
  {
   "cell_type": "code",
   "execution_count": 35,
   "id": "9dbe33a9",
   "metadata": {
    "execution": {
     "iopub.execute_input": "2023-06-05T20:36:57.457036Z",
     "iopub.status.busy": "2023-06-05T20:36:57.455977Z",
     "iopub.status.idle": "2023-06-05T20:37:00.588572Z",
     "shell.execute_reply": "2023-06-05T20:37:00.587870Z"
    },
    "papermill": {
     "duration": 3.1684,
     "end_time": "2023-06-05T20:37:00.590780",
     "exception": false,
     "start_time": "2023-06-05T20:36:57.422380",
     "status": "completed"
    },
    "tags": []
   },
   "outputs": [
    {
     "name": "stdout",
     "output_type": "stream",
     "text": [
      "y_pred shape: (40690,)\n",
      "Summary of predictions: (array(['NEGATIVE', 'POSITIVE'], dtype=object), array([10733, 29957]))\n",
      "              precision    recall  f1-score   support\n",
      "\n",
      "    NEGATIVE       0.77      0.61      0.68     13430\n",
      "    POSITIVE       0.83      0.91      0.87     27260\n",
      "\n",
      "    accuracy                           0.81     40690\n",
      "   macro avg       0.80      0.76      0.77     40690\n",
      "weighted avg       0.81      0.81      0.80     40690\n",
      "\n",
      "[[ 8227  5203]\n",
      " [ 2506 24754]]\n"
     ]
    },
    {
     "data": {
      "text/plain": [
       "array(['POSITIVE', 'NEGATIVE', 'NEGATIVE', ..., 'POSITIVE', 'POSITIVE',\n",
       "       'POSITIVE'], dtype=object)"
      ]
     },
     "execution_count": 35,
     "metadata": {},
     "output_type": "execute_result"
    }
   ],
   "source": [
    "y_pred_logreg_ng2_sw_df = predict_n_evaluate(logreg_ng2_sw_df_pipe, X_test, y_test)\n",
    "y_pred_logreg_ng2_sw_df"
   ]
  },
  {
   "cell_type": "markdown",
   "id": "9c8e1840",
   "metadata": {
    "papermill": {
     "duration": 0.015482,
     "end_time": "2023-06-05T20:37:00.621842",
     "exception": false,
     "start_time": "2023-06-05T20:37:00.606360",
     "status": "completed"
    },
    "tags": []
   },
   "source": [
    "## SVM model  "
   ]
  },
  {
   "cell_type": "code",
   "execution_count": 36,
   "id": "4c9da0d7",
   "metadata": {
    "execution": {
     "iopub.execute_input": "2023-06-05T20:37:00.654092Z",
     "iopub.status.busy": "2023-06-05T20:37:00.653471Z",
     "iopub.status.idle": "2023-06-05T20:37:00.658490Z",
     "shell.execute_reply": "2023-06-05T20:37:00.657064Z"
    },
    "papermill": {
     "duration": 0.023886,
     "end_time": "2023-06-05T20:37:00.660895",
     "exception": false,
     "start_time": "2023-06-05T20:37:00.637009",
     "status": "completed"
    },
    "tags": []
   },
   "outputs": [],
   "source": [
    "from sklearn.svm import LinearSVC"
   ]
  },
  {
   "cell_type": "code",
   "execution_count": 37,
   "id": "64c284b4",
   "metadata": {
    "execution": {
     "iopub.execute_input": "2023-06-05T20:37:00.692386Z",
     "iopub.status.busy": "2023-06-05T20:37:00.692029Z",
     "iopub.status.idle": "2023-06-05T20:37:00.696602Z",
     "shell.execute_reply": "2023-06-05T20:37:00.695218Z"
    },
    "papermill": {
     "duration": 0.022841,
     "end_time": "2023-06-05T20:37:00.698933",
     "exception": false,
     "start_time": "2023-06-05T20:37:00.676092",
     "status": "completed"
    },
    "tags": []
   },
   "outputs": [],
   "source": [
    "# svm = LinearSVC()\n",
    "# svm"
   ]
  },
  {
   "cell_type": "code",
   "execution_count": 38,
   "id": "ccedbec4",
   "metadata": {
    "execution": {
     "iopub.execute_input": "2023-06-05T20:37:00.731297Z",
     "iopub.status.busy": "2023-06-05T20:37:00.730927Z",
     "iopub.status.idle": "2023-06-05T20:37:00.735884Z",
     "shell.execute_reply": "2023-06-05T20:37:00.734577Z"
    },
    "papermill": {
     "duration": 0.023612,
     "end_time": "2023-06-05T20:37:00.738207",
     "exception": false,
     "start_time": "2023-06-05T20:37:00.714595",
     "status": "completed"
    },
    "tags": []
   },
   "outputs": [],
   "source": [
    "# svm_pipe = preprocess_n_train(X_train, y_train, tvec, svm)\n",
    "# svm_pipe"
   ]
  },
  {
   "cell_type": "code",
   "execution_count": 39,
   "id": "171f338f",
   "metadata": {
    "execution": {
     "iopub.execute_input": "2023-06-05T20:37:00.770386Z",
     "iopub.status.busy": "2023-06-05T20:37:00.770038Z",
     "iopub.status.idle": "2023-06-05T20:37:00.774164Z",
     "shell.execute_reply": "2023-06-05T20:37:00.773255Z"
    },
    "papermill": {
     "duration": 0.022389,
     "end_time": "2023-06-05T20:37:00.775961",
     "exception": false,
     "start_time": "2023-06-05T20:37:00.753572",
     "status": "completed"
    },
    "tags": []
   },
   "outputs": [],
   "source": [
    "# y_pred_svm = predict_n_evaluate(svm_pipe, X_test, y_test)\n",
    "# y_pred_svm"
   ]
  },
  {
   "cell_type": "markdown",
   "id": "8c46356b",
   "metadata": {
    "papermill": {
     "duration": 0.01441,
     "end_time": "2023-06-05T20:37:00.805484",
     "exception": false,
     "start_time": "2023-06-05T20:37:00.791074",
     "status": "completed"
    },
    "tags": []
   },
   "source": [
    "### SVM model with stop words  "
   ]
  },
  {
   "cell_type": "code",
   "execution_count": 40,
   "id": "7c602a46",
   "metadata": {
    "execution": {
     "iopub.execute_input": "2023-06-05T20:37:00.838429Z",
     "iopub.status.busy": "2023-06-05T20:37:00.838099Z",
     "iopub.status.idle": "2023-06-05T20:37:00.842775Z",
     "shell.execute_reply": "2023-06-05T20:37:00.841458Z"
    },
    "papermill": {
     "duration": 0.022921,
     "end_time": "2023-06-05T20:37:00.844529",
     "exception": false,
     "start_time": "2023-06-05T20:37:00.821608",
     "status": "completed"
    },
    "tags": []
   },
   "outputs": [],
   "source": [
    "# svm_sw_pipe = preprocess_n_train(X_train, y_train, tvec_sw, svm)\n",
    "# svm_sw_pipe"
   ]
  },
  {
   "cell_type": "code",
   "execution_count": 41,
   "id": "5d3a1c52",
   "metadata": {
    "execution": {
     "iopub.execute_input": "2023-06-05T20:37:00.877046Z",
     "iopub.status.busy": "2023-06-05T20:37:00.875501Z",
     "iopub.status.idle": "2023-06-05T20:37:00.881028Z",
     "shell.execute_reply": "2023-06-05T20:37:00.880076Z"
    },
    "papermill": {
     "duration": 0.023545,
     "end_time": "2023-06-05T20:37:00.882990",
     "exception": false,
     "start_time": "2023-06-05T20:37:00.859445",
     "status": "completed"
    },
    "tags": []
   },
   "outputs": [],
   "source": [
    "# y_pred_svm_sw = predict_n_evaluate(svm_sw_pipe, X_test, y_test)\n",
    "# y_pred_svm_sw"
   ]
  },
  {
   "cell_type": "markdown",
   "id": "43af7104",
   "metadata": {
    "papermill": {
     "duration": 0.015021,
     "end_time": "2023-06-05T20:37:00.912962",
     "exception": false,
     "start_time": "2023-06-05T20:37:00.897941",
     "status": "completed"
    },
    "tags": []
   },
   "source": [
    "## Naive Bayes model  "
   ]
  },
  {
   "cell_type": "markdown",
   "id": "470abbc3",
   "metadata": {
    "papermill": {
     "duration": 0.014057,
     "end_time": "2023-06-05T20:37:00.941471",
     "exception": false,
     "start_time": "2023-06-05T20:37:00.927414",
     "status": "completed"
    },
    "tags": []
   },
   "source": [
    "### MultinomialNB  "
   ]
  },
  {
   "cell_type": "code",
   "execution_count": 42,
   "id": "8a6c8514",
   "metadata": {
    "execution": {
     "iopub.execute_input": "2023-06-05T20:37:00.971850Z",
     "iopub.status.busy": "2023-06-05T20:37:00.971493Z",
     "iopub.status.idle": "2023-06-05T20:37:00.984406Z",
     "shell.execute_reply": "2023-06-05T20:37:00.982988Z"
    },
    "papermill": {
     "duration": 0.031316,
     "end_time": "2023-06-05T20:37:00.987174",
     "exception": false,
     "start_time": "2023-06-05T20:37:00.955858",
     "status": "completed"
    },
    "tags": []
   },
   "outputs": [],
   "source": [
    "from sklearn.naive_bayes import GaussianNB, BernoulliNB, CategoricalNB, ComplementNB, MultinomialNB"
   ]
  },
  {
   "cell_type": "code",
   "execution_count": 43,
   "id": "93e9ef56",
   "metadata": {
    "execution": {
     "iopub.execute_input": "2023-06-05T20:37:01.018302Z",
     "iopub.status.busy": "2023-06-05T20:37:01.017913Z",
     "iopub.status.idle": "2023-06-05T20:37:01.022491Z",
     "shell.execute_reply": "2023-06-05T20:37:01.021403Z"
    },
    "papermill": {
     "duration": 0.02211,
     "end_time": "2023-06-05T20:37:01.024253",
     "exception": false,
     "start_time": "2023-06-05T20:37:01.002143",
     "status": "completed"
    },
    "tags": []
   },
   "outputs": [],
   "source": [
    "# mnb = MultinomialNB()\n",
    "# mnb"
   ]
  },
  {
   "cell_type": "code",
   "execution_count": 44,
   "id": "c40b92da",
   "metadata": {
    "execution": {
     "iopub.execute_input": "2023-06-05T20:37:01.056752Z",
     "iopub.status.busy": "2023-06-05T20:37:01.056372Z",
     "iopub.status.idle": "2023-06-05T20:37:01.060477Z",
     "shell.execute_reply": "2023-06-05T20:37:01.059559Z"
    },
    "papermill": {
     "duration": 0.022198,
     "end_time": "2023-06-05T20:37:01.062119",
     "exception": false,
     "start_time": "2023-06-05T20:37:01.039921",
     "status": "completed"
    },
    "tags": []
   },
   "outputs": [],
   "source": [
    "# mnb_pipe = preprocess_n_train(X_train, y_train, tvec, mnb)\n",
    "# mnb_pipe"
   ]
  },
  {
   "cell_type": "code",
   "execution_count": 45,
   "id": "55f67799",
   "metadata": {
    "execution": {
     "iopub.execute_input": "2023-06-05T20:37:01.094017Z",
     "iopub.status.busy": "2023-06-05T20:37:01.093708Z",
     "iopub.status.idle": "2023-06-05T20:37:01.097244Z",
     "shell.execute_reply": "2023-06-05T20:37:01.096309Z"
    },
    "papermill": {
     "duration": 0.021544,
     "end_time": "2023-06-05T20:37:01.098813",
     "exception": false,
     "start_time": "2023-06-05T20:37:01.077269",
     "status": "completed"
    },
    "tags": []
   },
   "outputs": [],
   "source": [
    "# y_pred_mnb = predict_n_evaluate(mnb_pipe, X_test, y_test)\n",
    "# y_pred_mnb"
   ]
  },
  {
   "cell_type": "markdown",
   "id": "e8ec28fc",
   "metadata": {
    "papermill": {
     "duration": 0.013993,
     "end_time": "2023-06-05T20:37:01.127298",
     "exception": false,
     "start_time": "2023-06-05T20:37:01.113305",
     "status": "completed"
    },
    "tags": []
   },
   "source": [
    "### GaussianNB  "
   ]
  },
  {
   "cell_type": "markdown",
   "id": "c579fbe0",
   "metadata": {
    "papermill": {
     "duration": 0.014065,
     "end_time": "2023-06-05T20:37:01.155697",
     "exception": false,
     "start_time": "2023-06-05T20:37:01.141632",
     "status": "completed"
    },
    "tags": []
   },
   "source": [
    "https://stackoverflow.com/questions/28384680/scikit-learns-pipeline-a-sparse-matrix-was-passed-but-dense-data-is-required"
   ]
  },
  {
   "cell_type": "code",
   "execution_count": 46,
   "id": "ff2877c1",
   "metadata": {
    "execution": {
     "iopub.execute_input": "2023-06-05T20:37:01.186648Z",
     "iopub.status.busy": "2023-06-05T20:37:01.186281Z",
     "iopub.status.idle": "2023-06-05T20:37:01.189630Z",
     "shell.execute_reply": "2023-06-05T20:37:01.188955Z"
    },
    "papermill": {
     "duration": 0.021713,
     "end_time": "2023-06-05T20:37:01.191804",
     "exception": false,
     "start_time": "2023-06-05T20:37:01.170091",
     "status": "completed"
    },
    "tags": []
   },
   "outputs": [],
   "source": [
    "# gnb = GaussianNB()\n",
    "# gnb"
   ]
  },
  {
   "cell_type": "code",
   "execution_count": 47,
   "id": "058c0532",
   "metadata": {
    "execution": {
     "iopub.execute_input": "2023-06-05T20:37:01.222828Z",
     "iopub.status.busy": "2023-06-05T20:37:01.222493Z",
     "iopub.status.idle": "2023-06-05T20:37:01.225637Z",
     "shell.execute_reply": "2023-06-05T20:37:01.225058Z"
    },
    "papermill": {
     "duration": 0.020673,
     "end_time": "2023-06-05T20:37:01.227286",
     "exception": false,
     "start_time": "2023-06-05T20:37:01.206613",
     "status": "completed"
    },
    "tags": []
   },
   "outputs": [],
   "source": [
    "# gnb_pipe = preprocess_n_train(X_train, y_train, tvec, gnb)\n",
    "# gnb_pipe"
   ]
  },
  {
   "cell_type": "markdown",
   "id": "ad99e240",
   "metadata": {
    "papermill": {
     "duration": 0.014078,
     "end_time": "2023-06-05T20:37:01.256040",
     "exception": false,
     "start_time": "2023-06-05T20:37:01.241962",
     "status": "completed"
    },
    "tags": []
   },
   "source": [
    "## Submitting predictions to Kaggle competition  "
   ]
  },
  {
   "cell_type": "code",
   "execution_count": 48,
   "id": "5b3b978f",
   "metadata": {
    "execution": {
     "iopub.execute_input": "2023-06-05T20:37:01.286700Z",
     "iopub.status.busy": "2023-06-05T20:37:01.286324Z",
     "iopub.status.idle": "2023-06-05T20:37:01.294956Z",
     "shell.execute_reply": "2023-06-05T20:37:01.294028Z"
    },
    "papermill": {
     "duration": 0.026207,
     "end_time": "2023-06-05T20:37:01.296720",
     "exception": false,
     "start_time": "2023-06-05T20:37:01.270513",
     "status": "completed"
    },
    "tags": []
   },
   "outputs": [],
   "source": [
    "def submit(selected_model=logreg, selected_preprocessor=tvec):\n",
    "    \n",
    "    # Retrain on the whole train.csv file  \n",
    "    traindf = pd.read_csv(\"/kaggle/input/sentiment-prediction-on-movie-reviews/train.csv\")\n",
    "    X_train = traindf[\"reviewText\"]\n",
    "    X_train.fillna(\"empty\", inplace=True)\n",
    "    y_train = traindf[\"sentiment\"]\n",
    "    pipe = preprocess_n_train(X_train, y_train, selected_preprocessor, selected_model)\n",
    "    \n",
    "    # Predict on test.csv file\n",
    "    testdf = pd.read_csv(\"/kaggle/input/sentiment-prediction-on-movie-reviews/test.csv\")\n",
    "    X_test = testdf[\"reviewText\"]\n",
    "    X_test.fillna(\"empty\", inplace=True)\n",
    "    \n",
    "    y_pred = pipe.predict(X_test)\n",
    "    \n",
    "    pred_df = pd.DataFrame(y_pred)\n",
    "    pred_df.columns = [\"sentiment\"]\n",
    "    pred_df.index.name = \"id\"\n",
    "    pred_df.to_csv(\"submission.csv\")\n",
    "    \n",
    "    return \"Successfully created the submission file!!!\""
   ]
  },
  {
   "cell_type": "code",
   "execution_count": 49,
   "id": "e359eeda",
   "metadata": {
    "execution": {
     "iopub.execute_input": "2023-06-05T20:37:01.327923Z",
     "iopub.status.busy": "2023-06-05T20:37:01.327568Z",
     "iopub.status.idle": "2023-06-05T20:37:34.297206Z",
     "shell.execute_reply": "2023-06-05T20:37:34.296248Z"
    },
    "papermill": {
     "duration": 32.987121,
     "end_time": "2023-06-05T20:37:34.299133",
     "exception": false,
     "start_time": "2023-06-05T20:37:01.312012",
     "status": "completed"
    },
    "tags": []
   },
   "outputs": [
    {
     "name": "stdout",
     "output_type": "stream",
     "text": [
      "Given model has been trained. Use predict method to get predictions array.\n"
     ]
    },
    {
     "data": {
      "text/plain": [
       "'Successfully created the submission file!!!'"
      ]
     },
     "execution_count": 49,
     "metadata": {},
     "output_type": "execute_result"
    }
   ],
   "source": [
    "submit(logreg, tvec_ngram_2_sw_df)"
   ]
  }
 ],
 "metadata": {
  "kernelspec": {
   "display_name": "Python 3",
   "language": "python",
   "name": "python3"
  },
  "language_info": {
   "codemirror_mode": {
    "name": "ipython",
    "version": 3
   },
   "file_extension": ".py",
   "mimetype": "text/x-python",
   "name": "python",
   "nbconvert_exporter": "python",
   "pygments_lexer": "ipython3",
   "version": "3.10.10"
  },
  "papermill": {
   "default_parameters": {},
   "duration": 68.729819,
   "end_time": "2023-06-05T20:37:35.334162",
   "environment_variables": {},
   "exception": null,
   "input_path": "__notebook__.ipynb",
   "output_path": "__notebook__.ipynb",
   "parameters": {},
   "start_time": "2023-06-05T20:36:26.604343",
   "version": "2.4.0"
  }
 },
 "nbformat": 4,
 "nbformat_minor": 5
}
