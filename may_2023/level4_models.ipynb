{
 "cells": [
  {
   "cell_type": "code",
   "execution_count": 1,
   "id": "a705f1c8",
   "metadata": {
    "_cell_guid": "b1076dfc-b9ad-4769-8c92-a6c4dae69d19",
    "_uuid": "8f2839f25d086af736a60e9eeb907d3b93b6e0e5",
    "execution": {
     "iopub.execute_input": "2023-06-05T20:36:35.288071Z",
     "iopub.status.busy": "2023-06-05T20:36:35.287495Z",
     "iopub.status.idle": "2023-06-05T20:36:35.297926Z",
     "shell.execute_reply": "2023-06-05T20:36:35.297030Z"
    },
    "papermill": {
     "duration": 0.028392,
     "end_time": "2023-06-05T20:36:35.300111",
     "exception": false,
     "start_time": "2023-06-05T20:36:35.271719",
     "status": "completed"
    },
    "tags": []
   },
   "outputs": [],
   "source": [
    "# This Python 3 environment comes with many helpful analytics libraries installed\n",
    "# It is defined by the kaggle/python Docker image: https://github.com/kaggle/docker-python\n",
    "# For example, here's several helpful packages to load\n",
    "\n",
    "import numpy as np # linear algebra\n",
    "import pandas as pd # data processing, CSV file I/O (e.g. pd.read_csv)\n",
    "\n",
    "# Input data files are available in the read-only \"../input/\" directory\n",
    "# For example, running this (by clicking run or pressing Shift+Enter) will list all files under the input directory\n",
    "\n",
    "import os\n",
    "for dirname, _, filenames in os.walk('/kaggle/input'):\n",
    "    for filename in filenames:\n",
    "        print(os.path.join(dirname, filename))\n",
    "\n",
    "# You can write up to 20GB to the current directory (/kaggle/working/) that gets preserved as output when you create a version using \"Save & Run All\" \n",
    "# You can also write temporary files to /kaggle/temp/, but they won't be saved outside of the current session"
   ]
  },
  {
   "attachments": {},
   "cell_type": "markdown",
   "id": "128202e0",
   "metadata": {
    "papermill": {
     "duration": 0.012641,
     "end_time": "2023-06-05T20:36:35.326003",
     "exception": false,
     "start_time": "2023-06-05T20:36:35.313362",
     "status": "completed"
    },
    "tags": []
   },
   "source": [
    "## Import remaining libraries  "
   ]
  },
  {
   "cell_type": "code",
   "execution_count": 2,
   "id": "cd5ccc6e",
   "metadata": {
    "execution": {
     "iopub.execute_input": "2023-06-05T20:36:35.352884Z",
     "iopub.status.busy": "2023-06-05T20:36:35.352537Z",
     "iopub.status.idle": "2023-06-05T20:36:36.670107Z",
     "shell.execute_reply": "2023-06-05T20:36:36.669384Z"
    },
    "papermill": {
     "duration": 1.333584,
     "end_time": "2023-06-05T20:36:36.672264",
     "exception": false,
     "start_time": "2023-06-05T20:36:35.338680",
     "status": "completed"
    },
    "tags": []
   },
   "outputs": [
    {
     "name": "stdout",
     "output_type": "stream",
     "text": [
      "Successfully imported all libraries!\n"
     ]
    }
   ],
   "source": [
    "# Custom tools\n",
    "from mytools import *\n",
    "\n",
    "# General tools\n",
    "import re\n",
    "import pandas as pd\n",
    "import numpy as np\n",
    "\n",
    "# Visualization\n",
    "import matplotlib.pyplot as plt\n",
    "import seaborn as sns\n",
    "\n",
    "# Preprocessing\n",
    "from sklearn.model_selection import train_test_split\n",
    "from sklearn.feature_extraction.text import TfidfVectorizer, CountVectorizer, HashingVectorizer\n",
    "from sklearn.pipeline import Pipeline\n",
    "from sklearn.compose import ColumnTransformer\n",
    "\n",
    "# Models\n",
    "from sklearn.linear_model import LogisticRegression\n",
    "from sklearn.naive_bayes import MultinomialNB\n",
    "from sklearn.ensemble import RandomForestClassifier, GradientBoostingClassifier\n",
    "from sklearn.svm import LinearSVC\n",
    "\n",
    "# Tuning and model selection\n",
    "from sklearn.model_selection import GridSearchCV, cross_val_score\n",
    "\n",
    "# Evaluation\n",
    "from sklearn.metrics import accuracy_score, confusion_matrix, classification_report\n",
    "\n",
    "print(\"Successfully imported all libraries!\")\n"
   ]
  },
  {
   "attachments": {},
   "cell_type": "markdown",
   "id": "77eeb169",
   "metadata": {
    "papermill": {
     "duration": 0.012132,
     "end_time": "2023-06-05T20:36:36.697539",
     "exception": false,
     "start_time": "2023-06-05T20:36:36.685407",
     "status": "completed"
    },
    "tags": []
   },
   "source": [
    "## Load datasets  "
   ]
  },
  {
   "cell_type": "code",
   "execution_count": 3,
   "id": "5a8d346c",
   "metadata": {
    "execution": {
     "iopub.execute_input": "2023-06-05T20:36:36.725849Z",
     "iopub.status.busy": "2023-06-05T20:36:36.724745Z",
     "iopub.status.idle": "2023-06-05T20:36:37.483818Z",
     "shell.execute_reply": "2023-06-05T20:36:37.482808Z"
    },
    "papermill": {
     "duration": 0.776221,
     "end_time": "2023-06-05T20:36:37.486187",
     "exception": false,
     "start_time": "2023-06-05T20:36:36.709966",
     "status": "completed"
    },
    "tags": []
   },
   "outputs": [
    {
     "data": {
      "text/plain": [
       "(162758, 5)"
      ]
     },
     "execution_count": 3,
     "metadata": {},
     "output_type": "execute_result"
    }
   ],
   "source": [
    "traindf = load_csv(\"train\")\n",
    "traindf.shape"
   ]
  },
  {
   "cell_type": "code",
   "execution_count": 4,
   "id": "2c4f612a",
   "metadata": {
    "execution": {
     "iopub.execute_input": "2023-06-05T20:36:37.514549Z",
     "iopub.status.busy": "2023-06-05T20:36:37.514211Z",
     "iopub.status.idle": "2023-06-05T20:36:37.767579Z",
     "shell.execute_reply": "2023-06-05T20:36:37.766572Z"
    },
    "papermill": {
     "duration": 0.270116,
     "end_time": "2023-06-05T20:36:37.769765",
     "exception": false,
     "start_time": "2023-06-05T20:36:37.499649",
     "status": "completed"
    },
    "tags": []
   },
   "outputs": [
    {
     "data": {
      "text/plain": [
       "(55315, 4)"
      ]
     },
     "execution_count": 4,
     "metadata": {},
     "output_type": "execute_result"
    }
   ],
   "source": [
    "testdf = load_csv(\"test\")\n",
    "testdf.shape"
   ]
  },
  {
   "attachments": {},
   "cell_type": "markdown",
   "id": "bbf3c059",
   "metadata": {
    "papermill": {
     "duration": 0.016128,
     "end_time": "2023-06-05T20:36:37.801303",
     "exception": false,
     "start_time": "2023-06-05T20:36:37.785175",
     "status": "completed"
    },
    "tags": []
   },
   "source": [
    "## Getting data ready for training and evaluating models  \n",
    "\n",
    "`Handle missing data. Current strategy is to fill in some custom text.`  \n",
    "`Separate features and labels from traindf`  \n",
    "`Split training data into training and testing parts`"
   ]
  },
  {
   "cell_type": "code",
   "execution_count": 5,
   "id": "c03e0616",
   "metadata": {
    "execution": {
     "iopub.execute_input": "2023-06-05T20:36:37.828859Z",
     "iopub.status.busy": "2023-06-05T20:36:37.828502Z",
     "iopub.status.idle": "2023-06-05T20:36:37.834834Z",
     "shell.execute_reply": "2023-06-05T20:36:37.833587Z"
    },
    "papermill": {
     "duration": 0.022103,
     "end_time": "2023-06-05T20:36:37.836648",
     "exception": false,
     "start_time": "2023-06-05T20:36:37.814545",
     "status": "completed"
    },
    "tags": []
   },
   "outputs": [
    {
     "data": {
      "text/plain": [
       "(162758, 5)"
      ]
     },
     "execution_count": 5,
     "metadata": {},
     "output_type": "execute_result"
    }
   ],
   "source": [
    "traindf.shape"
   ]
  },
  {
   "cell_type": "code",
   "execution_count": 6,
   "id": "17d49ef8",
   "metadata": {
    "execution": {
     "iopub.execute_input": "2023-06-05T20:36:37.866560Z",
     "iopub.status.busy": "2023-06-05T20:36:37.865492Z",
     "iopub.status.idle": "2023-06-05T20:36:37.991923Z",
     "shell.execute_reply": "2023-06-05T20:36:37.990454Z"
    },
    "papermill": {
     "duration": 0.143829,
     "end_time": "2023-06-05T20:36:37.993990",
     "exception": false,
     "start_time": "2023-06-05T20:36:37.850161",
     "status": "completed"
    },
    "tags": []
   },
   "outputs": [
    {
     "name": "stdout",
     "output_type": "stream",
     "text": [
      "<class 'pandas.core.frame.DataFrame'>\n",
      "RangeIndex: 162758 entries, 0 to 162757\n",
      "Data columns (total 5 columns):\n",
      " #   Column              Non-Null Count   Dtype \n",
      "---  ------              --------------   ----- \n",
      " 0   movieid             162758 non-null  object\n",
      " 1   reviewerName        162758 non-null  object\n",
      " 2   isFrequentReviewer  162758 non-null  bool  \n",
      " 3   reviewText          156311 non-null  object\n",
      " 4   sentiment           162758 non-null  object\n",
      "dtypes: bool(1), object(4)\n",
      "memory usage: 5.1+ MB\n"
     ]
    }
   ],
   "source": [
    "traindf.info()"
   ]
  },
  {
   "cell_type": "code",
   "execution_count": 7,
   "id": "a95cf4e5",
   "metadata": {
    "execution": {
     "iopub.execute_input": "2023-06-05T20:36:38.022226Z",
     "iopub.status.busy": "2023-06-05T20:36:38.021901Z",
     "iopub.status.idle": "2023-06-05T20:36:38.124233Z",
     "shell.execute_reply": "2023-06-05T20:36:38.123023Z"
    },
    "papermill": {
     "duration": 0.11876,
     "end_time": "2023-06-05T20:36:38.126201",
     "exception": false,
     "start_time": "2023-06-05T20:36:38.007441",
     "status": "completed"
    },
    "tags": []
   },
   "outputs": [
    {
     "data": {
      "text/plain": [
       "movieid                  0\n",
       "reviewerName             0\n",
       "isFrequentReviewer       0\n",
       "reviewText            6447\n",
       "sentiment                0\n",
       "dtype: int64"
      ]
     },
     "execution_count": 7,
     "metadata": {},
     "output_type": "execute_result"
    }
   ],
   "source": [
    "traindf.isna().sum()"
   ]
  },
  {
   "attachments": {},
   "cell_type": "markdown",
   "id": "7246657a",
   "metadata": {
    "papermill": {
     "duration": 0.013309,
     "end_time": "2023-06-05T20:36:38.153155",
     "exception": false,
     "start_time": "2023-06-05T20:36:38.139846",
     "status": "completed"
    },
    "tags": []
   },
   "source": [
    "### Fill empty reviewText with custom text  "
   ]
  },
  {
   "cell_type": "code",
   "execution_count": 8,
   "id": "7dcef6e9",
   "metadata": {
    "execution": {
     "iopub.execute_input": "2023-06-05T20:36:38.180644Z",
     "iopub.status.busy": "2023-06-05T20:36:38.180313Z",
     "iopub.status.idle": "2023-06-05T20:36:38.299279Z",
     "shell.execute_reply": "2023-06-05T20:36:38.298142Z"
    },
    "papermill": {
     "duration": 0.135765,
     "end_time": "2023-06-05T20:36:38.301838",
     "exception": false,
     "start_time": "2023-06-05T20:36:38.166073",
     "status": "completed"
    },
    "tags": []
   },
   "outputs": [
    {
     "data": {
      "text/plain": [
       "movieid               0\n",
       "reviewerName          0\n",
       "isFrequentReviewer    0\n",
       "reviewText            0\n",
       "sentiment             0\n",
       "dtype: int64"
      ]
     },
     "execution_count": 8,
     "metadata": {},
     "output_type": "execute_result"
    }
   ],
   "source": [
    "traindf[\"reviewText\"].fillna(\" \", inplace=True)\n",
    "traindf.isna().sum()"
   ]
  },
  {
   "attachments": {},
   "cell_type": "markdown",
   "id": "9beec266",
   "metadata": {
    "papermill": {
     "duration": 0.013792,
     "end_time": "2023-06-05T20:36:38.329368",
     "exception": false,
     "start_time": "2023-06-05T20:36:38.315576",
     "status": "completed"
    },
    "tags": []
   },
   "source": [
    "### Separate features and labels  "
   ]
  },
  {
   "cell_type": "code",
   "execution_count": 9,
   "id": "c5e1bd01",
   "metadata": {
    "execution": {
     "iopub.execute_input": "2023-06-05T20:36:38.357833Z",
     "iopub.status.busy": "2023-06-05T20:36:38.357467Z",
     "iopub.status.idle": "2023-06-05T20:36:38.365224Z",
     "shell.execute_reply": "2023-06-05T20:36:38.364272Z"
    },
    "papermill": {
     "duration": 0.024205,
     "end_time": "2023-06-05T20:36:38.367032",
     "exception": false,
     "start_time": "2023-06-05T20:36:38.342827",
     "status": "completed"
    },
    "tags": []
   },
   "outputs": [
    {
     "data": {
      "text/plain": [
       "((162758,), (162758,))"
      ]
     },
     "execution_count": 9,
     "metadata": {},
     "output_type": "execute_result"
    }
   ],
   "source": [
    "train_features = traindf[\"reviewText\"]\n",
    "train_labels = traindf.iloc[:, -1]\n",
    "train_features.shape, train_labels.shape"
   ]
  },
  {
   "attachments": {},
   "cell_type": "markdown",
   "id": "e9cb349b",
   "metadata": {
    "papermill": {
     "duration": 0.013734,
     "end_time": "2023-06-05T20:36:38.394823",
     "exception": false,
     "start_time": "2023-06-05T20:36:38.381089",
     "status": "completed"
    },
    "tags": []
   },
   "source": [
    "### Split traindf into training and testing parts  "
   ]
  },
  {
   "cell_type": "code",
   "execution_count": 10,
   "id": "da467a28",
   "metadata": {
    "execution": {
     "iopub.execute_input": "2023-06-05T20:36:38.424217Z",
     "iopub.status.busy": "2023-06-05T20:36:38.423202Z",
     "iopub.status.idle": "2023-06-05T20:36:38.461152Z",
     "shell.execute_reply": "2023-06-05T20:36:38.460258Z"
    },
    "papermill": {
     "duration": 0.055089,
     "end_time": "2023-06-05T20:36:38.463565",
     "exception": false,
     "start_time": "2023-06-05T20:36:38.408476",
     "status": "completed"
    },
    "tags": []
   },
   "outputs": [
    {
     "data": {
      "text/plain": [
       "((122068,), (40690,), (122068,), (40690,))"
      ]
     },
     "execution_count": 10,
     "metadata": {},
     "output_type": "execute_result"
    }
   ],
   "source": [
    "X_train, X_test, y_train, y_test = train_test_split(train_features, train_labels, test_size=0.25, random_state=42)\n",
    "X_train.shape, X_test.shape, y_train.shape, y_test.shape"
   ]
  },
  {
   "attachments": {},
   "cell_type": "markdown",
   "id": "d7386913",
   "metadata": {
    "papermill": {
     "duration": 0.013922,
     "end_time": "2023-06-05T20:36:38.491706",
     "exception": false,
     "start_time": "2023-06-05T20:36:38.477784",
     "status": "completed"
    },
    "tags": []
   },
   "source": [
    "### Needs further exploration  \n",
    "\n",
    "`stratify based on reviewer type?`  \n",
    "`play with test size`  "
   ]
  },
  {
   "attachments": {},
   "cell_type": "markdown",
   "id": "b0c425f8",
   "metadata": {
    "papermill": {
     "duration": 0.013427,
     "end_time": "2023-06-05T20:36:38.519250",
     "exception": false,
     "start_time": "2023-06-05T20:36:38.505823",
     "status": "completed"
    },
    "tags": []
   },
   "source": [
    "## Model evaluation plan and code  "
   ]
  },
  {
   "attachments": {},
   "cell_type": "markdown",
   "id": "44855b7e",
   "metadata": {
    "papermill": {
     "duration": 0.012807,
     "end_time": "2023-06-05T20:36:38.616748",
     "exception": false,
     "start_time": "2023-06-05T20:36:38.603941",
     "status": "completed"
    },
    "tags": []
   },
   "source": [
    "# Data preprocessing  "
   ]
  },
  {
   "attachments": {},
   "cell_type": "markdown",
   "id": "8d174305",
   "metadata": {
    "papermill": {
     "duration": 0.012719,
     "end_time": "2023-06-05T20:36:38.642458",
     "exception": false,
     "start_time": "2023-06-05T20:36:38.629739",
     "status": "completed"
    },
    "tags": []
   },
   "source": [
    "## Define stop words  "
   ]
  },
  {
   "cell_type": "code",
   "execution_count": 11,
   "id": "2fd761b1",
   "metadata": {
    "execution": {
     "iopub.execute_input": "2023-06-05T20:36:38.720303Z",
     "iopub.status.busy": "2023-06-05T20:36:38.719011Z",
     "iopub.status.idle": "2023-06-05T20:36:38.761111Z",
     "shell.execute_reply": "2023-06-05T20:36:38.760237Z"
    },
    "papermill": {
     "duration": 0.058831,
     "end_time": "2023-06-05T20:36:38.762925",
     "exception": false,
     "start_time": "2023-06-05T20:36:38.704094",
     "status": "completed"
    },
    "tags": []
   },
   "outputs": [
    {
     "data": {
      "text/plain": [
       "(list, 1160)"
      ]
     },
     "execution_count": 11,
     "metadata": {},
     "output_type": "execute_result"
    }
   ],
   "source": [
    "stop_words = [\"0o\", \"0s\", \"3a\", \"3b\", \"3d\", \"6b\", \"6o\", \"a\", \"a1\", \"a2\", \"a3\", \"a4\", \"ab\", \"able\", \"about\", \"above\", \"abst\", \"ac\", \"accordance\", \"according\", \"accordingly\", \"across\", \"act\", \"actually\", \"ad\", \"added\", \"adj\", \"ae\", \"af\", \"affected\", \"affecting\", \"affects\", \"after\", \"afterwards\", \"ag\", \"again\", \"against\", \"ah\", \"ain\", \"ain't\", \"aj\", \"al\", \"all\", \"allow\", \"allows\", \"almost\", \"alone\", \"along\", \"already\", \"also\", \"although\", \"always\", \"am\", \"among\", \"amongst\", \"amoungst\", \"amount\", \"an\", \"and\", \"announce\", \"another\", \"any\", \"anybody\", \"anyhow\", \"anymore\", \"anyone\", \"anything\", \"anyway\", \"anyways\", \"anywhere\", \"ao\", \"ap\", \"apart\", \"apparently\", \"appear\", \"appreciate\", \"appropriate\", \"approximately\", \"ar\", \"are\", \"aren\", \"arent\", \"aren't\", \"arise\", \"around\", \"as\", \"a's\", \"aside\", \"ask\", \"asking\", \"associated\", \"at\", \"au\", \"auth\", \"av\", \"available\", \"aw\", \"away\", \"awfully\", \"ax\", \"ay\", \"az\", \"b\", \"b1\", \"b2\", \"b3\", \"ba\", \"back\", \"bc\", \"bd\", \"be\", \"became\", \"because\", \"become\", \"becomes\", \"becoming\", \"been\", \"before\", \"beforehand\", \"begin\", \"beginning\", \"beginnings\", \"begins\", \"behind\", \"being\", \"believe\", \"below\", \"beside\", \"besides\", \"best\", \"better\", \"between\", \"beyond\", \"bi\", \"bill\", \"biol\", \"bj\", \"bk\", \"bl\", \"bn\", \"both\", \"bottom\", \"bp\", \"br\", \"brief\", \"briefly\", \"bs\", \"bt\", \"bu\", \"but\", \"bx\", \"by\", \"c\", \"c1\", \"c2\", \"c3\", \"ca\", \"call\", \"came\", \"can\", \"cannot\", \"cant\", \"can't\", \"cause\", \"causes\", \"cc\", \"cd\", \"ce\", \"certain\", \"certainly\", \"cf\", \"cg\", \"ch\", \"changes\", \"ci\", \"cit\", \"cj\", \"cl\", \"clearly\", \"cm\", \"c'mon\", \"cn\", \"co\", \"com\", \"come\", \"comes\", \"con\", \"concerning\", \"consequently\", \"consider\", \"considering\", \"contain\", \"containing\", \"contains\", \"corresponding\", \"could\", \"couldn\", \"couldnt\", \"couldn't\", \"course\", \"cp\", \"cq\", \"cr\", \"cry\", \"cs\", \"c's\", \"ct\", \"cu\", \"currently\", \"cv\", \"cx\", \"cy\", \"cz\", \"d\", \"d2\", \"da\", \"date\", \"dc\", \"dd\", \"de\", \"definitely\", \"describe\", \"described\", \"despite\", \"detail\", \"df\", \"di\", \"did\", \"didn\", \"didn't\", \"different\", \"dj\", \"dk\", \"dl\", \"do\", \"does\", \"doesn\", \"doesn't\", \"doing\", \"don\", \"done\", \"don't\", \"down\", \"downwards\", \"dp\", \"dr\", \"ds\", \"dt\", \"du\", \"due\", \"during\", \"dx\", \"dy\", \"e\", \"e2\", \"e3\", \"ea\", \"each\", \"ec\", \"ed\", \"edu\", \"ee\", \"ef\", \"effect\", \"eg\", \"ei\", \"eight\", \"eighty\", \"either\", \"ej\", \"el\", \"eleven\", \"else\", \"elsewhere\", \"em\", \"empty\", \"en\", \"end\", \"ending\", \"enough\", \"entirely\", \"eo\", \"ep\", \"eq\", \"er\", \"es\", \"especially\", \"est\", \"et\", \"et-al\", \"etc\", \"eu\", \"ev\", \"even\", \"ever\", \"every\", \"everybody\", \"everyone\", \"everything\", \"everywhere\", \"ex\", \"exactly\", \"example\", \"except\", \"ey\", \"f\", \"f2\", \"fa\", \"far\", \"fc\", \"few\", \"ff\", \"fi\", \"fifteen\", \"fifth\", \"fify\", \"fill\", \"find\", \"fire\", \"first\", \"five\", \"fix\", \"fj\", \"fl\", \"fn\", \"fo\", \"followed\", \"following\", \"follows\", \"for\", \"former\", \"formerly\", \"forth\", \"forty\", \"found\", \"four\", \"fr\", \"from\", \"front\", \"fs\", \"ft\", \"fu\", \"full\", \"further\", \"furthermore\", \"fy\", \"g\", \"ga\", \"gave\", \"ge\", \"get\", \"gets\", \"getting\", \"gi\", \"give\", \"given\", \"gives\", \"giving\", \"gj\", \"gl\", \"go\", \"goes\", \"going\", \"gone\", \"got\", \"gotten\", \"gr\", \"greetings\", \"gs\", \"gy\", \"h\", \"h2\", \"h3\", \"had\", \"hadn\", \"hadn't\", \"happens\", \"hardly\", \"has\", \"hasn\", \"hasnt\", \"hasn't\", \"have\", \"haven\", \"haven't\", \"having\", \"he\", \"hed\", \"he'd\", \"he'll\", \"hello\", \"help\", \"hence\", \"her\", \"here\", \"hereafter\", \"hereby\", \"herein\", \"heres\", \"here's\", \"hereupon\", \"hers\", \"herself\", \"hes\", \"he's\", \"hh\", \"hi\", \"hid\", \"him\", \"himself\", \"his\", \"hither\", \"hj\", \"ho\", \"home\", \"hopefully\", \"how\", \"howbeit\", \"however\", \"how's\", \"hr\", \"hs\", \"http\", \"hu\", \"hundred\", \"hy\", \"i\", \"i2\", \"i3\", \"i4\", \"i6\", \"i7\", \"i8\", \"ia\", \"ib\", \"ibid\", \"ic\", \"id\", \"i'd\", \"ie\", \"if\", \"ig\", \"ignored\", \"ih\", \"ii\", \"ij\", \"il\", \"i'll\", \"im\", \"i'm\", \"immediate\", \"immediately\", \"importance\", \"important\", \"in\", \"inasmuch\", \"inc\", \"indeed\", \"index\", \"indicate\", \"indicated\", \"indicates\", \"information\", \"inner\", \"insofar\", \"instead\", \"interest\", \"into\", \"invention\", \"inward\", \"io\", \"ip\", \"iq\", \"ir\", \"is\", \"isn\", \"isn't\", \"it\", \"itd\", \"it'd\", \"it'll\", \"its\", \"it's\", \"itself\", \"iv\", \"i've\", \"ix\", \"iy\", \"iz\", \"j\", \"jj\", \"jr\", \"js\", \"jt\", \"ju\", \"just\", \"k\", \"ke\", \"keep\", \"keeps\", \"kept\", \"kg\", \"kj\", \"km\", \"know\", \"known\", \"knows\", \"ko\", \"l\", \"l2\", \"la\", \"largely\", \"last\", \"lately\", \"later\", \"latter\", \"latterly\", \"lb\", \"lc\", \"le\", \"least\", \"les\", \"less\", \"lest\", \"let\", \"lets\", \"let's\", \"lf\", \"like\", \"liked\", \"likely\", \"line\", \"little\", \"lj\", \"ll\", \"ll\", \"ln\", \"lo\", \"look\", \"looking\", \"looks\", \"los\", \"lr\", \"ls\", \"lt\", \"ltd\", \"m\", \"m2\", \"ma\", \"made\", \"mainly\", \"make\", \"makes\", \"many\", \"may\", \"maybe\", \"me\", \"mean\", \"means\", \"meantime\", \"meanwhile\", \"merely\", \"mg\", \"might\", \"mightn\", \"mightn't\", \"mill\", \"million\", \"mine\", \"miss\", \"ml\", \"mn\", \"mo\", \"more\", \"moreover\", \"most\", \"mostly\", \"move\", \"mr\", \"mrs\", \"ms\", \"mt\", \"mu\", \"much\", \"mug\", \"must\", \"mustn\", \"mustn't\", \"my\", \"myself\", \"n\", \"n2\", \"na\", \"name\", \"namely\", \"nay\", \"nc\", \"nd\", \"ne\", \"near\", \"nearly\", \"necessarily\", \"necessary\", \"need\", \"needn\", \"needn't\", \"needs\", \"neither\", \"never\", \"nevertheless\", \"new\", \"next\", \"ng\", \"ni\", \"nine\", \"ninety\", \"nj\", \"nl\", \"nn\", \"no\", \"nobody\", \"non\", \"none\", \"nonetheless\", \"noone\", \"nor\", \"normally\", \"nos\", \"not\", \"noted\", \"nothing\", \"novel\", \"now\", \"nowhere\", \"nr\", \"ns\", \"nt\", \"ny\", \"o\", \"oa\", \"ob\", \"obtain\", \"obtained\", \"obviously\", \"oc\", \"od\", \"of\", \"off\", \"often\", \"og\", \"oh\", \"oi\", \"oj\", \"ok\", \"okay\", \"ol\", \"old\", \"om\", \"omitted\", \"on\", \"once\", \"one\", \"ones\", \"only\", \"onto\", \"oo\", \"op\", \"oq\", \"or\", \"ord\", \"os\", \"ot\", \"other\", \"others\", \"otherwise\", \"ou\", \"ought\", \"our\", \"ours\", \"ourselves\", \"out\", \"outside\", \"over\", \"overall\", \"ow\", \"owing\", \"own\", \"ox\", \"oz\", \"p\", \"p1\", \"p2\", \"p3\", \"page\", \"pagecount\", \"pages\", \"par\", \"part\", \"particular\", \"particularly\", \"pas\", \"past\", \"pc\", \"pd\", \"pe\", \"per\", \"perhaps\", \"pf\", \"ph\", \"pi\", \"pj\", \"pk\", \"pl\", \"placed\", \"please\", \"plus\", \"pm\", \"pn\", \"po\", \"poorly\", \"possible\", \"possibly\", \"potentially\", \"pp\", \"pq\", \"pr\", \"predominantly\", \"present\", \"presumably\", \"previously\", \"primarily\", \"probably\", \"promptly\", \"proud\", \"provides\", \"ps\", \"pt\", \"pu\", \"put\", \"py\", \"q\", \"qj\", \"qu\", \"que\", \"quickly\", \"quite\", \"qv\", \"r\", \"r2\", \"ra\", \"ran\", \"rather\", \"rc\", \"rd\", \"re\", \"readily\", \"really\", \"reasonably\", \"recent\", \"recently\", \"ref\", \"refs\", \"regarding\", \"regardless\", \"regards\", \"related\", \"relatively\", \"research\", \"research-articl\", \"respectively\", \"resulted\", \"resulting\", \"results\", \"rf\", \"rh\", \"ri\", \"right\", \"rj\", \"rl\", \"rm\", \"rn\", \"ro\", \"rq\", \"rr\", \"rs\", \"rt\", \"ru\", \"run\", \"rv\", \"ry\", \"s\", \"s2\", \"sa\", \"said\", \"same\", \"saw\", \"say\", \"saying\", \"says\", \"sc\", \"sd\", \"se\", \"sec\", \"second\", \"secondly\", \"section\", \"see\", \"seeing\", \"seem\", \"seemed\", \"seeming\", \"seems\", \"seen\", \"self\", \"selves\", \"sensible\", \"sent\", \"serious\", \"seriously\", \"seven\", \"several\", \"sf\", \"shall\", \"shan\", \"shan't\", \"she\", \"shed\", \"she'd\", \"she'll\", \"shes\", \"she's\", \"should\", \"shouldn\", \"shouldn't\", \"should've\", \"show\", \"showed\", \"shown\", \"showns\", \"shows\", \"si\", \"side\", \"significant\", \"significantly\", \"similar\", \"similarly\", \"since\", \"sincere\", \"six\", \"sixty\", \"sj\", \"sl\", \"slightly\", \"sm\", \"sn\", \"so\", \"some\", \"somebody\", \"somehow\", \"someone\", \"somethan\", \"something\", \"sometime\", \"sometimes\", \"somewhat\", \"somewhere\", \"soon\", \"sorry\", \"sp\", \"specifically\", \"specified\", \"specify\", \"specifying\", \"sq\", \"sr\", \"ss\", \"st\", \"still\", \"stop\", \"strongly\", \"sub\", \"substantially\", \"successfully\", \"such\", \"sufficiently\", \"suggest\", \"sup\", \"sure\", \"sy\", \"system\", \"sz\", \"t\", \"t1\", \"t2\", \"t3\", \"take\", \"taken\", \"taking\", \"tb\", \"tc\", \"td\", \"te\", \"tell\", \"ten\", \"tends\", \"tf\", \"th\", \"than\", \"thank\", \"thanks\", \"thanx\", \"that\", \"that'll\", \"thats\", \"that's\", \"that've\", \"the\", \"their\", \"theirs\", \"them\", \"themselves\", \"then\", \"thence\", \"there\", \"thereafter\", \"thereby\", \"thered\", \"therefore\", \"therein\", \"there'll\", \"thereof\", \"therere\", \"theres\", \"there's\", \"thereto\", \"thereupon\", \"there've\", \"these\", \"they\", \"theyd\", \"they'd\", \"they'll\", \"theyre\", \"they're\", \"they've\", \"thickv\", \"thin\", \"think\", \"third\", \"this\", \"thorough\", \"thoroughly\", \"those\", \"thou\", \"though\", \"thoughh\", \"thousand\", \"three\", \"throug\", \"through\", \"throughout\", \"thru\", \"thus\", \"ti\", \"til\", \"tip\", \"tj\", \"tl\", \"tm\", \"tn\", \"to\", \"together\", \"too\", \"took\", \"top\", \"toward\", \"towards\", \"tp\", \"tq\", \"tr\", \"tried\", \"tries\", \"truly\", \"try\", \"trying\", \"ts\", \"t's\", \"tt\", \"tv\", \"twelve\", \"twenty\", \"twice\", \"two\", \"tx\", \"u\", \"u201d\", \"ue\", \"ui\", \"uj\", \"uk\", \"um\", \"un\", \"under\", \"unfortunately\", \"unless\", \"unlike\", \"unlikely\", \"until\", \"unto\", \"uo\", \"up\", \"upon\", \"ups\", \"ur\", \"us\", \"use\", \"used\", \"useful\", \"usefully\", \"usefulness\", \"uses\", \"using\", \"usually\", \"ut\", \"v\", \"va\", \"value\", \"various\", \"vd\", \"ve\", \"ve\", \"very\", \"via\", \"viz\", \"vj\", \"vo\", \"vol\", \"vols\", \"volumtype\", \"vq\", \"vs\", \"vt\", \"vu\", \"w\", \"wa\", \"want\", \"wants\", \"was\", \"wasn\", \"wasnt\", \"wasn't\", \"way\", \"we\", \"wed\", \"we'd\", \"welcome\", \"well\", \"we'll\", \"well-b\", \"went\", \"were\", \"we're\", \"weren\", \"werent\", \"weren't\", \"we've\", \"what\", \"whatever\", \"what'll\", \"whats\", \"what's\", \"when\", \"whence\", \"whenever\", \"when's\", \"where\", \"whereafter\", \"whereas\", \"whereby\", \"wherein\", \"wheres\", \"where's\", \"whereupon\", \"wherever\", \"whether\", \"which\", \"while\", \"whim\", \"whither\", \"who\", \"whod\", \"whoever\", \"whole\", \"who'll\", \"whom\", \"whomever\", \"whos\", \"who's\", \"whose\", \"why\", \"why's\", \"wi\", \"widely\", \"will\", \"willing\", \"wish\", \"with\", \"within\", \"without\", \"wo\", \"won\", \"wonder\", \"wont\", \"won't\", \"words\", \"world\", \"would\", \"wouldn\", \"wouldnt\", \"wouldn't\", \"www\", \"x\", \"x1\", \"x2\", \"x3\", \"xf\", \"xi\", \"xj\", \"xk\", \"xl\", \"xn\", \"xo\", \"xs\", \"xt\", \"xv\", \"xx\", \"y\", \"y2\", \"yes\", \"yet\", \"yj\", \"yl\", \"you\", \"youd\", \"you'd\", \"you'll\", \"your\", \"youre\", \"you're\", \"yours\", \"yourself\", \"yourselves\", \"you've\", \"yr\", \"ys\", \"yt\", \"z\", \"zero\", \"zi\", \"zz\"]\n",
    "type(stop_words), len(stop_words)"
   ]
  },
  {
   "attachments": {},
   "cell_type": "markdown",
   "id": "0321f3c9",
   "metadata": {
    "papermill": {
     "duration": 0.012936,
     "end_time": "2023-06-05T20:36:38.789627",
     "exception": false,
     "start_time": "2023-06-05T20:36:38.776691",
     "status": "completed"
    },
    "tags": []
   },
   "source": [
    "## Feature extraction  "
   ]
  },
  {
   "attachments": {},
   "cell_type": "markdown",
   "id": "0a801ad6",
   "metadata": {
    "papermill": {
     "duration": 0.014555,
     "end_time": "2023-06-05T20:36:39.030033",
     "exception": false,
     "start_time": "2023-06-05T20:36:39.015478",
     "status": "completed"
    },
    "tags": []
   },
   "source": [
    "## Model building workflow  \n",
    "\n",
    "`Make pipeline for preprocesing and model training and predictions`  \n"
   ]
  },
  {
   "attachments": {},
   "cell_type": "markdown",
   "id": "d993fa0e",
   "metadata": {
    "papermill": {
     "duration": 0.0131,
     "end_time": "2023-06-05T20:36:39.138101",
     "exception": false,
     "start_time": "2023-06-05T20:36:39.125001",
     "status": "completed"
    },
    "tags": []
   },
   "source": [
    "## Preprocessor(s)  "
   ]
  },
  {
   "cell_type": "code",
   "execution_count": 12,
   "id": "b00f689b",
   "metadata": {
    "execution": {
     "iopub.execute_input": "2023-06-05T20:36:39.166536Z",
     "iopub.status.busy": "2023-06-05T20:36:39.166212Z",
     "iopub.status.idle": "2023-06-05T20:36:39.171044Z",
     "shell.execute_reply": "2023-06-05T20:36:39.169896Z"
    },
    "papermill": {
     "duration": 0.021467,
     "end_time": "2023-06-05T20:36:39.172994",
     "exception": false,
     "start_time": "2023-06-05T20:36:39.151527",
     "status": "completed"
    },
    "tags": []
   },
   "outputs": [],
   "source": [
    "tvec = TfidfVectorizer()\n",
    "tvec_sw = TfidfVectorizer(stop_words=stop_words)"
   ]
  },
  {
   "attachments": {},
   "cell_type": "markdown",
   "id": "3161dbde",
   "metadata": {
    "papermill": {
     "duration": 0.013152,
     "end_time": "2023-06-05T20:36:39.199712",
     "exception": false,
     "start_time": "2023-06-05T20:36:39.186560",
     "status": "completed"
    },
    "tags": []
   },
   "source": [
    "## Logistic Regression with TfidVectorizer for preprocessing  "
   ]
  },
  {
   "cell_type": "code",
   "execution_count": 13,
   "id": "30b724dd",
   "metadata": {
    "execution": {
     "iopub.execute_input": "2023-06-05T20:36:39.353462Z",
     "iopub.status.busy": "2023-06-05T20:36:39.352074Z",
     "iopub.status.idle": "2023-06-05T20:36:39.365526Z",
     "shell.execute_reply": "2023-06-05T20:36:39.364317Z"
    },
    "papermill": {
     "duration": 0.030205,
     "end_time": "2023-06-05T20:36:39.367462",
     "exception": false,
     "start_time": "2023-06-05T20:36:39.337257",
     "status": "completed"
    },
    "tags": []
   },
   "outputs": [
    {
     "data": {
      "text/plain": [
       "LogisticRegression(max_iter=100000)"
      ]
     },
     "execution_count": 13,
     "metadata": {},
     "output_type": "execute_result"
    }
   ],
   "source": [
    "logreg = LogisticRegression(max_iter=100000)\n",
    "logreg"
   ]
  },
  {
   "cell_type": "code",
   "execution_count": 14,
   "id": "5b3fb410",
   "metadata": {
    "execution": {
     "iopub.execute_input": "2023-06-05T20:36:39.397318Z",
     "iopub.status.busy": "2023-06-05T20:36:39.396963Z",
     "iopub.status.idle": "2023-06-05T20:36:39.403623Z",
     "shell.execute_reply": "2023-06-05T20:36:39.402562Z"
    },
    "papermill": {
     "duration": 0.023539,
     "end_time": "2023-06-05T20:36:39.405297",
     "exception": false,
     "start_time": "2023-06-05T20:36:39.381758",
     "status": "completed"
    },
    "tags": []
   },
   "outputs": [
    {
     "data": {
      "text/plain": [
       "(TfidfVectorizer(), CountVectorizer())"
      ]
     },
     "execution_count": 14,
     "metadata": {},
     "output_type": "execute_result"
    }
   ],
   "source": [
    "tvec = TfidfVectorizer()\n",
    "cvec = CountVectorizer()        # Note that TfidfVectorizer and CountVectorizer+TfidsTransformer do the same function\n",
    "tvec, cvec"
   ]
  },
  {
   "cell_type": "code",
   "execution_count": 15,
   "id": "dcbe3d21",
   "metadata": {
    "execution": {
     "iopub.execute_input": "2023-06-05T20:36:39.435712Z",
     "iopub.status.busy": "2023-06-05T20:36:39.435126Z",
     "iopub.status.idle": "2023-06-05T20:36:39.438940Z",
     "shell.execute_reply": "2023-06-05T20:36:39.438088Z"
    },
    "papermill": {
     "duration": 0.021048,
     "end_time": "2023-06-05T20:36:39.440588",
     "exception": false,
     "start_time": "2023-06-05T20:36:39.419540",
     "status": "completed"
    },
    "tags": []
   },
   "outputs": [],
   "source": [
    "# logreg_pipe = preprocess_n_train(X_train, y_train, tvec, logreg)\n",
    "# logreg_pipe"
   ]
  },
  {
   "cell_type": "code",
   "execution_count": 16,
   "id": "41f6d30d",
   "metadata": {
    "execution": {
     "iopub.execute_input": "2023-06-05T20:36:39.471227Z",
     "iopub.status.busy": "2023-06-05T20:36:39.470215Z",
     "iopub.status.idle": "2023-06-05T20:36:39.474810Z",
     "shell.execute_reply": "2023-06-05T20:36:39.473914Z"
    },
    "papermill": {
     "duration": 0.021486,
     "end_time": "2023-06-05T20:36:39.476369",
     "exception": false,
     "start_time": "2023-06-05T20:36:39.454883",
     "status": "completed"
    },
    "tags": []
   },
   "outputs": [],
   "source": [
    "# y_pred_logreg = predict_n_evaluate(logreg_pipe, X_test, y_test)\n",
    "# y_pred_logreg"
   ]
  },
  {
   "cell_type": "code",
   "execution_count": 17,
   "id": "3708002e",
   "metadata": {},
   "outputs": [],
   "source": [
    "def display_scores(scores):\n",
    "    print(f\"Scores: {scores}\")\n",
    "    print(f\"Mean: {scores.mean()}\")\n",
    "    print(f\"Standard deviation: {scores.std()}\")"
   ]
  },
  {
   "cell_type": "code",
   "execution_count": 18,
   "id": "d9ee8f54",
   "metadata": {},
   "outputs": [
    {
     "data": {
      "text/plain": [
       "Pipeline(steps=[('preprocessor', TfidfVectorizer()),\n",
       "                ('model', LogisticRegression(max_iter=100000))])"
      ]
     },
     "execution_count": 18,
     "metadata": {},
     "output_type": "execute_result"
    }
   ],
   "source": [
    "pipe = Pipeline(steps=[(\"preprocessor\", tvec), (\"model\", logreg)])\n",
    "pipe"
   ]
  },
  {
   "cell_type": "code",
   "execution_count": 19,
   "id": "49e01ab3",
   "metadata": {},
   "outputs": [
    {
     "name": "stdout",
     "output_type": "stream",
     "text": [
      "Scores: [0.79270091 0.79560908 0.79831244 0.79236472 0.79670667]\n",
      "Mean: 0.7951387652281181\n",
      "Standard deviation: 0.0022973989377842036\n"
     ]
    }
   ],
   "source": [
    "scores = cross_val_score(pipe, X_train, y_train, cv=5, scoring=\"f1_micro\")\n",
    "display_scores(scores)"
   ]
  },
  {
   "attachments": {},
   "cell_type": "markdown",
   "id": "929a7bb0",
   "metadata": {},
   "source": [
    "### With n_gram and min/max_df defined in TfidfVectorizer  "
   ]
  },
  {
   "cell_type": "code",
   "execution_count": 20,
   "id": "d8b41ca3",
   "metadata": {},
   "outputs": [],
   "source": [
    "logreg_2 = LogisticRegression(max_iter=100000, C=2)"
   ]
  },
  {
   "cell_type": "code",
   "execution_count": 21,
   "id": "1b1305a5",
   "metadata": {},
   "outputs": [
    {
     "data": {
      "text/plain": [
       "TfidfVectorizer(max_df=0.5, min_df=0.0001, ngram_range=(1, 2))"
      ]
     },
     "execution_count": 21,
     "metadata": {},
     "output_type": "execute_result"
    }
   ],
   "source": [
    "tvec_ngram_2_df = TfidfVectorizer(ngram_range=(1,2), stop_words=None, min_df=0.0001, max_df=0.50)\n",
    "tvec_ngram_2_df"
   ]
  },
  {
   "cell_type": "code",
   "execution_count": 22,
   "id": "68c591f0",
   "metadata": {},
   "outputs": [
    {
     "data": {
      "text/plain": [
       "Pipeline(steps=[('preprocessor',\n",
       "                 TfidfVectorizer(max_df=0.5, min_df=0.0001,\n",
       "                                 ngram_range=(1, 2))),\n",
       "                ('model', LogisticRegression(C=2, max_iter=100000))])"
      ]
     },
     "execution_count": 22,
     "metadata": {},
     "output_type": "execute_result"
    }
   ],
   "source": [
    "pipe_2 = Pipeline(steps=[(\"preprocessor\", tvec_ngram_2_df), (\"model\", logreg_2)])\n",
    "pipe_2"
   ]
  },
  {
   "cell_type": "code",
   "execution_count": 23,
   "id": "7313f6ee",
   "metadata": {},
   "outputs": [
    {
     "name": "stdout",
     "output_type": "stream",
     "text": [
      "Scores: [0.81023183 0.80883919 0.81101008 0.80707    0.80833982]\n",
      "Mean: 0.8090981847286199\n",
      "Standard deviation: 0.0013925663353970697\n"
     ]
    }
   ],
   "source": [
    "scores_2 = cross_val_score(pipe_2, X_train, y_train, cv=5, scoring=\"f1_micro\")\n",
    "display_scores(scores_2)"
   ]
  },
  {
   "attachments": {},
   "cell_type": "markdown",
   "id": "1474412f",
   "metadata": {},
   "source": [
    "### GridSearchCV  "
   ]
  },
  {
   "cell_type": "code",
   "execution_count": 24,
   "id": "6911bbd0",
   "metadata": {},
   "outputs": [
    {
     "data": {
      "text/plain": [
       "Pipeline(steps=[('preprocessor', TfidfVectorizer()),\n",
       "                ('model', LogisticRegression(max_iter=100000))])"
      ]
     },
     "execution_count": 24,
     "metadata": {},
     "output_type": "execute_result"
    }
   ],
   "source": [
    "pipe"
   ]
  },
  {
   "cell_type": "code",
   "execution_count": 25,
   "id": "605dca7b",
   "metadata": {},
   "outputs": [
    {
     "data": {
      "text/plain": [
       "{'preprocessor__ngram_range': [(1, 1), (1, 2)],\n",
       " 'preprocessor__max_features': [1000, 5000, 10000, 30000, None],\n",
       " 'model__C': [0.1, 1, 10, 100]}"
      ]
     },
     "execution_count": 25,
     "metadata": {},
     "output_type": "execute_result"
    }
   ],
   "source": [
    "param_grid = {\n",
    "    \"preprocessor__ngram_range\": [(1,1), (1,2)],\n",
    "    # \"preprocessor__stop_words\": [None, \"english\"],\n",
    "    \"preprocessor__max_features\": [1000, 5000, 10000, 30000, None],\n",
    "    \"model__C\": [0.1, 1, 10, 100]\n",
    "}\n",
    "param_grid"
   ]
  },
  {
   "cell_type": "code",
   "execution_count": 26,
   "id": "c3dc8e3c",
   "metadata": {},
   "outputs": [
    {
     "data": {
      "text/plain": [
       "GridSearchCV(cv=5,\n",
       "             estimator=Pipeline(steps=[('preprocessor', TfidfVectorizer()),\n",
       "                                       ('model',\n",
       "                                        LogisticRegression(max_iter=100000))]),\n",
       "             n_jobs=-1,\n",
       "             param_grid={'model__C': [0.1, 1, 10, 100],\n",
       "                         'preprocessor__max_features': [1000, 5000, 10000,\n",
       "                                                        30000, None],\n",
       "                         'preprocessor__ngram_range': [(1, 1), (1, 2)]},\n",
       "             scoring='f1_micro')"
      ]
     },
     "execution_count": 26,
     "metadata": {},
     "output_type": "execute_result"
    }
   ],
   "source": [
    "search = GridSearchCV(pipe, param_grid, cv=5, scoring=\"f1_micro\", n_jobs=-1)\n",
    "search"
   ]
  },
  {
   "cell_type": "code",
   "execution_count": 27,
   "id": "f732568f",
   "metadata": {},
   "outputs": [
    {
     "data": {
      "text/plain": [
       "GridSearchCV(cv=5,\n",
       "             estimator=Pipeline(steps=[('preprocessor', TfidfVectorizer()),\n",
       "                                       ('model',\n",
       "                                        LogisticRegression(max_iter=100000))]),\n",
       "             n_jobs=-1,\n",
       "             param_grid={'model__C': [0.1, 1, 10, 100],\n",
       "                         'preprocessor__max_features': [1000, 5000, 10000,\n",
       "                                                        30000, None],\n",
       "                         'preprocessor__ngram_range': [(1, 1), (1, 2)]},\n",
       "             scoring='f1_micro')"
      ]
     },
     "execution_count": 27,
     "metadata": {},
     "output_type": "execute_result"
    }
   ],
   "source": [
    "search.fit(X_train, y_train)"
   ]
  },
  {
   "cell_type": "code",
   "execution_count": 28,
   "id": "73935fb0",
   "metadata": {},
   "outputs": [
    {
     "name": "stdout",
     "output_type": "stream",
     "text": [
      "Best score: 0.8152341104465025\n"
     ]
    }
   ],
   "source": [
    "print(f\"Best score: {search.best_score_}\")"
   ]
  },
  {
   "cell_type": "code",
   "execution_count": 29,
   "id": "3ded1e09",
   "metadata": {},
   "outputs": [
    {
     "name": "stdout",
     "output_type": "stream",
     "text": [
      "Best params: {'model__C': 10, 'preprocessor__max_features': None, 'preprocessor__ngram_range': (1, 2)}\n"
     ]
    }
   ],
   "source": [
    "print(f\"Best params: {search.best_params_}\")"
   ]
  },
  {
   "attachments": {},
   "cell_type": "markdown",
   "id": "0ded6083",
   "metadata": {
    "papermill": {
     "duration": 0.013226,
     "end_time": "2023-06-05T20:36:39.503219",
     "exception": false,
     "start_time": "2023-06-05T20:36:39.489993",
     "status": "completed"
    },
    "tags": []
   },
   "source": [
    "### Logistic Regression with stop words  "
   ]
  },
  {
   "cell_type": "code",
   "execution_count": 30,
   "id": "b07f6eb8",
   "metadata": {
    "execution": {
     "iopub.execute_input": "2023-06-05T20:36:39.531329Z",
     "iopub.status.busy": "2023-06-05T20:36:39.530983Z",
     "iopub.status.idle": "2023-06-05T20:36:39.535039Z",
     "shell.execute_reply": "2023-06-05T20:36:39.534222Z"
    },
    "papermill": {
     "duration": 0.020254,
     "end_time": "2023-06-05T20:36:39.536710",
     "exception": false,
     "start_time": "2023-06-05T20:36:39.516456",
     "status": "completed"
    },
    "tags": []
   },
   "outputs": [],
   "source": [
    "# tvec_sw = TfidfVectorizer(stop_words=stop_words)"
   ]
  },
  {
   "cell_type": "code",
   "execution_count": 31,
   "id": "22ba5aaa",
   "metadata": {
    "execution": {
     "iopub.execute_input": "2023-06-05T20:36:39.565834Z",
     "iopub.status.busy": "2023-06-05T20:36:39.565445Z",
     "iopub.status.idle": "2023-06-05T20:36:39.569402Z",
     "shell.execute_reply": "2023-06-05T20:36:39.568533Z"
    },
    "papermill": {
     "duration": 0.020434,
     "end_time": "2023-06-05T20:36:39.570928",
     "exception": false,
     "start_time": "2023-06-05T20:36:39.550494",
     "status": "completed"
    },
    "tags": []
   },
   "outputs": [],
   "source": [
    "# logreg_sw_pipe = preprocess_n_train(X_train, y_train, tvec_sw, logreg)\n",
    "# logreg_sw_pipe"
   ]
  },
  {
   "cell_type": "code",
   "execution_count": 32,
   "id": "c1a27b24",
   "metadata": {
    "execution": {
     "iopub.execute_input": "2023-06-05T20:36:39.599406Z",
     "iopub.status.busy": "2023-06-05T20:36:39.599055Z",
     "iopub.status.idle": "2023-06-05T20:36:39.602418Z",
     "shell.execute_reply": "2023-06-05T20:36:39.601844Z"
    },
    "papermill": {
     "duration": 0.019379,
     "end_time": "2023-06-05T20:36:39.603838",
     "exception": false,
     "start_time": "2023-06-05T20:36:39.584459",
     "status": "completed"
    },
    "tags": []
   },
   "outputs": [],
   "source": [
    "# y_pred_logreg_sw = predict_n_evaluate(logreg_sw_pipe, X_test, y_test)\n",
    "# y_pred_logreg_sw"
   ]
  },
  {
   "attachments": {},
   "cell_type": "markdown",
   "id": "ce3f3f09",
   "metadata": {
    "papermill": {
     "duration": 0.013351,
     "end_time": "2023-06-05T20:36:39.630832",
     "exception": false,
     "start_time": "2023-06-05T20:36:39.617481",
     "status": "completed"
    },
    "tags": []
   },
   "source": [
    "### Logistic regression with different ngram ranges  "
   ]
  },
  {
   "attachments": {},
   "cell_type": "markdown",
   "id": "f98f09a3",
   "metadata": {
    "papermill": {
     "duration": 0.013312,
     "end_time": "2023-06-05T20:36:39.657628",
     "exception": false,
     "start_time": "2023-06-05T20:36:39.644316",
     "status": "completed"
    },
    "tags": []
   },
   "source": [
    "#### ngram range (1,2)  "
   ]
  },
  {
   "cell_type": "code",
   "execution_count": 33,
   "id": "dfd37708",
   "metadata": {
    "execution": {
     "iopub.execute_input": "2023-06-05T20:36:39.686462Z",
     "iopub.status.busy": "2023-06-05T20:36:39.685672Z",
     "iopub.status.idle": "2023-06-05T20:36:39.689085Z",
     "shell.execute_reply": "2023-06-05T20:36:39.688521Z"
    },
    "papermill": {
     "duration": 0.019472,
     "end_time": "2023-06-05T20:36:39.690553",
     "exception": false,
     "start_time": "2023-06-05T20:36:39.671081",
     "status": "completed"
    },
    "tags": []
   },
   "outputs": [],
   "source": [
    "# tvec_ngram_2 = TfidfVectorizer(ngram_range=(1,2))"
   ]
  },
  {
   "cell_type": "code",
   "execution_count": 34,
   "id": "3316b8aa",
   "metadata": {
    "execution": {
     "iopub.execute_input": "2023-06-05T20:36:39.719489Z",
     "iopub.status.busy": "2023-06-05T20:36:39.718992Z",
     "iopub.status.idle": "2023-06-05T20:36:39.722246Z",
     "shell.execute_reply": "2023-06-05T20:36:39.721373Z"
    },
    "papermill": {
     "duration": 0.02033,
     "end_time": "2023-06-05T20:36:39.724467",
     "exception": false,
     "start_time": "2023-06-05T20:36:39.704137",
     "status": "completed"
    },
    "tags": []
   },
   "outputs": [],
   "source": [
    "# logreg_ng2_pipe = preprocess_n_train(X_train, y_train, tvec_ngram_2, logreg)\n",
    "# logreg_ng2_pipe"
   ]
  },
  {
   "cell_type": "code",
   "execution_count": 35,
   "id": "6441680f",
   "metadata": {
    "execution": {
     "iopub.execute_input": "2023-06-05T20:36:39.753289Z",
     "iopub.status.busy": "2023-06-05T20:36:39.752943Z",
     "iopub.status.idle": "2023-06-05T20:36:39.756741Z",
     "shell.execute_reply": "2023-06-05T20:36:39.755881Z"
    },
    "papermill": {
     "duration": 0.020093,
     "end_time": "2023-06-05T20:36:39.758320",
     "exception": false,
     "start_time": "2023-06-05T20:36:39.738227",
     "status": "completed"
    },
    "tags": []
   },
   "outputs": [],
   "source": [
    "# y_pred_logreg_ng2 = predict_n_evaluate(logreg_ng2_pipe, X_test, y_test)\n",
    "# y_pred_logreg_ng2"
   ]
  },
  {
   "attachments": {},
   "cell_type": "markdown",
   "id": "49b30e89",
   "metadata": {
    "papermill": {
     "duration": 0.013408,
     "end_time": "2023-06-05T20:36:39.786183",
     "exception": false,
     "start_time": "2023-06-05T20:36:39.772775",
     "status": "completed"
    },
    "tags": []
   },
   "source": [
    "### Logistic regression with C=2, ngram range (1,2), stop words as None and min_df, max_df adjusted     "
   ]
  },
  {
   "cell_type": "code",
   "execution_count": 36,
   "id": "e3b87c23",
   "metadata": {
    "execution": {
     "iopub.execute_input": "2023-06-05T20:36:39.814825Z",
     "iopub.status.busy": "2023-06-05T20:36:39.814477Z",
     "iopub.status.idle": "2023-06-05T20:36:39.818792Z",
     "shell.execute_reply": "2023-06-05T20:36:39.817879Z"
    },
    "papermill": {
     "duration": 0.020532,
     "end_time": "2023-06-05T20:36:39.820442",
     "exception": false,
     "start_time": "2023-06-05T20:36:39.799910",
     "status": "completed"
    },
    "tags": []
   },
   "outputs": [],
   "source": [
    "# logreg = LogisticRegression(max_iter=100000, C=2)"
   ]
  },
  {
   "cell_type": "code",
   "execution_count": 37,
   "id": "8620dabb",
   "metadata": {
    "execution": {
     "iopub.execute_input": "2023-06-05T20:36:39.848727Z",
     "iopub.status.busy": "2023-06-05T20:36:39.848415Z",
     "iopub.status.idle": "2023-06-05T20:36:39.855894Z",
     "shell.execute_reply": "2023-06-05T20:36:39.854935Z"
    },
    "papermill": {
     "duration": 0.023793,
     "end_time": "2023-06-05T20:36:39.857749",
     "exception": false,
     "start_time": "2023-06-05T20:36:39.833956",
     "status": "completed"
    },
    "tags": []
   },
   "outputs": [],
   "source": [
    "# tvec_ngram_2_sw_df = TfidfVectorizer(ngram_range=(1,2), stop_words=None, min_df=0.0001, max_df=0.50)\n",
    "# tvec_ngram_2_sw_df"
   ]
  },
  {
   "cell_type": "code",
   "execution_count": 38,
   "id": "ffdd979f",
   "metadata": {
    "execution": {
     "iopub.execute_input": "2023-06-05T20:36:39.887120Z",
     "iopub.status.busy": "2023-06-05T20:36:39.886779Z",
     "iopub.status.idle": "2023-06-05T20:36:57.391045Z",
     "shell.execute_reply": "2023-06-05T20:36:57.390189Z"
    },
    "papermill": {
     "duration": 17.521448,
     "end_time": "2023-06-05T20:36:57.393178",
     "exception": false,
     "start_time": "2023-06-05T20:36:39.871730",
     "status": "completed"
    },
    "tags": []
   },
   "outputs": [],
   "source": [
    "# logreg_ng2_sw_df_pipe = preprocess_n_train(X_train, y_train, tvec_ngram_2_sw_df, logreg)\n",
    "# logreg_ng2_sw_df_pipe"
   ]
  },
  {
   "cell_type": "code",
   "execution_count": 39,
   "id": "9dbe33a9",
   "metadata": {
    "execution": {
     "iopub.execute_input": "2023-06-05T20:36:57.457036Z",
     "iopub.status.busy": "2023-06-05T20:36:57.455977Z",
     "iopub.status.idle": "2023-06-05T20:37:00.588572Z",
     "shell.execute_reply": "2023-06-05T20:37:00.587870Z"
    },
    "papermill": {
     "duration": 3.1684,
     "end_time": "2023-06-05T20:37:00.590780",
     "exception": false,
     "start_time": "2023-06-05T20:36:57.422380",
     "status": "completed"
    },
    "tags": []
   },
   "outputs": [],
   "source": [
    "# y_pred_logreg_ng2_sw_df = predict_n_evaluate(logreg_ng2_sw_df_pipe, X_test, y_test)\n",
    "# y_pred_logreg_ng2_sw_df"
   ]
  },
  {
   "attachments": {},
   "cell_type": "markdown",
   "id": "9c8e1840",
   "metadata": {
    "papermill": {
     "duration": 0.015482,
     "end_time": "2023-06-05T20:37:00.621842",
     "exception": false,
     "start_time": "2023-06-05T20:37:00.606360",
     "status": "completed"
    },
    "tags": []
   },
   "source": [
    "## SVM model  "
   ]
  },
  {
   "cell_type": "code",
   "execution_count": 40,
   "id": "64c284b4",
   "metadata": {
    "execution": {
     "iopub.execute_input": "2023-06-05T20:37:00.692386Z",
     "iopub.status.busy": "2023-06-05T20:37:00.692029Z",
     "iopub.status.idle": "2023-06-05T20:37:00.696602Z",
     "shell.execute_reply": "2023-06-05T20:37:00.695218Z"
    },
    "papermill": {
     "duration": 0.022841,
     "end_time": "2023-06-05T20:37:00.698933",
     "exception": false,
     "start_time": "2023-06-05T20:37:00.676092",
     "status": "completed"
    },
    "tags": []
   },
   "outputs": [],
   "source": [
    "# svm = LinearSVC()\n",
    "# svm"
   ]
  },
  {
   "cell_type": "code",
   "execution_count": 41,
   "id": "ccedbec4",
   "metadata": {
    "execution": {
     "iopub.execute_input": "2023-06-05T20:37:00.731297Z",
     "iopub.status.busy": "2023-06-05T20:37:00.730927Z",
     "iopub.status.idle": "2023-06-05T20:37:00.735884Z",
     "shell.execute_reply": "2023-06-05T20:37:00.734577Z"
    },
    "papermill": {
     "duration": 0.023612,
     "end_time": "2023-06-05T20:37:00.738207",
     "exception": false,
     "start_time": "2023-06-05T20:37:00.714595",
     "status": "completed"
    },
    "tags": []
   },
   "outputs": [],
   "source": [
    "# svm_pipe = preprocess_n_train(X_train, y_train, tvec, svm)\n",
    "# svm_pipe"
   ]
  },
  {
   "cell_type": "code",
   "execution_count": 42,
   "id": "171f338f",
   "metadata": {
    "execution": {
     "iopub.execute_input": "2023-06-05T20:37:00.770386Z",
     "iopub.status.busy": "2023-06-05T20:37:00.770038Z",
     "iopub.status.idle": "2023-06-05T20:37:00.774164Z",
     "shell.execute_reply": "2023-06-05T20:37:00.773255Z"
    },
    "papermill": {
     "duration": 0.022389,
     "end_time": "2023-06-05T20:37:00.775961",
     "exception": false,
     "start_time": "2023-06-05T20:37:00.753572",
     "status": "completed"
    },
    "tags": []
   },
   "outputs": [],
   "source": [
    "# y_pred_svm = predict_n_evaluate(svm_pipe, X_test, y_test)\n",
    "# y_pred_svm"
   ]
  },
  {
   "attachments": {},
   "cell_type": "markdown",
   "id": "8c46356b",
   "metadata": {
    "papermill": {
     "duration": 0.01441,
     "end_time": "2023-06-05T20:37:00.805484",
     "exception": false,
     "start_time": "2023-06-05T20:37:00.791074",
     "status": "completed"
    },
    "tags": []
   },
   "source": [
    "### SVM model with stop words  "
   ]
  },
  {
   "cell_type": "code",
   "execution_count": 43,
   "id": "7c602a46",
   "metadata": {
    "execution": {
     "iopub.execute_input": "2023-06-05T20:37:00.838429Z",
     "iopub.status.busy": "2023-06-05T20:37:00.838099Z",
     "iopub.status.idle": "2023-06-05T20:37:00.842775Z",
     "shell.execute_reply": "2023-06-05T20:37:00.841458Z"
    },
    "papermill": {
     "duration": 0.022921,
     "end_time": "2023-06-05T20:37:00.844529",
     "exception": false,
     "start_time": "2023-06-05T20:37:00.821608",
     "status": "completed"
    },
    "tags": []
   },
   "outputs": [],
   "source": [
    "# svm_sw_pipe = preprocess_n_train(X_train, y_train, tvec_sw, svm)\n",
    "# svm_sw_pipe"
   ]
  },
  {
   "cell_type": "code",
   "execution_count": 44,
   "id": "5d3a1c52",
   "metadata": {
    "execution": {
     "iopub.execute_input": "2023-06-05T20:37:00.877046Z",
     "iopub.status.busy": "2023-06-05T20:37:00.875501Z",
     "iopub.status.idle": "2023-06-05T20:37:00.881028Z",
     "shell.execute_reply": "2023-06-05T20:37:00.880076Z"
    },
    "papermill": {
     "duration": 0.023545,
     "end_time": "2023-06-05T20:37:00.882990",
     "exception": false,
     "start_time": "2023-06-05T20:37:00.859445",
     "status": "completed"
    },
    "tags": []
   },
   "outputs": [],
   "source": [
    "# y_pred_svm_sw = predict_n_evaluate(svm_sw_pipe, X_test, y_test)\n",
    "# y_pred_svm_sw"
   ]
  },
  {
   "attachments": {},
   "cell_type": "markdown",
   "id": "43af7104",
   "metadata": {
    "papermill": {
     "duration": 0.015021,
     "end_time": "2023-06-05T20:37:00.912962",
     "exception": false,
     "start_time": "2023-06-05T20:37:00.897941",
     "status": "completed"
    },
    "tags": []
   },
   "source": [
    "## Naive Bayes model  "
   ]
  },
  {
   "attachments": {},
   "cell_type": "markdown",
   "id": "470abbc3",
   "metadata": {
    "papermill": {
     "duration": 0.014057,
     "end_time": "2023-06-05T20:37:00.941471",
     "exception": false,
     "start_time": "2023-06-05T20:37:00.927414",
     "status": "completed"
    },
    "tags": []
   },
   "source": [
    "### MultinomialNB  "
   ]
  },
  {
   "cell_type": "code",
   "execution_count": 45,
   "id": "93e9ef56",
   "metadata": {
    "execution": {
     "iopub.execute_input": "2023-06-05T20:37:01.018302Z",
     "iopub.status.busy": "2023-06-05T20:37:01.017913Z",
     "iopub.status.idle": "2023-06-05T20:37:01.022491Z",
     "shell.execute_reply": "2023-06-05T20:37:01.021403Z"
    },
    "papermill": {
     "duration": 0.02211,
     "end_time": "2023-06-05T20:37:01.024253",
     "exception": false,
     "start_time": "2023-06-05T20:37:01.002143",
     "status": "completed"
    },
    "tags": []
   },
   "outputs": [],
   "source": [
    "# mnb = MultinomialNB()\n",
    "# mnb"
   ]
  },
  {
   "cell_type": "code",
   "execution_count": 46,
   "id": "c40b92da",
   "metadata": {
    "execution": {
     "iopub.execute_input": "2023-06-05T20:37:01.056752Z",
     "iopub.status.busy": "2023-06-05T20:37:01.056372Z",
     "iopub.status.idle": "2023-06-05T20:37:01.060477Z",
     "shell.execute_reply": "2023-06-05T20:37:01.059559Z"
    },
    "papermill": {
     "duration": 0.022198,
     "end_time": "2023-06-05T20:37:01.062119",
     "exception": false,
     "start_time": "2023-06-05T20:37:01.039921",
     "status": "completed"
    },
    "tags": []
   },
   "outputs": [],
   "source": [
    "# mnb_pipe = preprocess_n_train(X_train, y_train, tvec, mnb)\n",
    "# mnb_pipe"
   ]
  },
  {
   "cell_type": "code",
   "execution_count": 47,
   "id": "55f67799",
   "metadata": {
    "execution": {
     "iopub.execute_input": "2023-06-05T20:37:01.094017Z",
     "iopub.status.busy": "2023-06-05T20:37:01.093708Z",
     "iopub.status.idle": "2023-06-05T20:37:01.097244Z",
     "shell.execute_reply": "2023-06-05T20:37:01.096309Z"
    },
    "papermill": {
     "duration": 0.021544,
     "end_time": "2023-06-05T20:37:01.098813",
     "exception": false,
     "start_time": "2023-06-05T20:37:01.077269",
     "status": "completed"
    },
    "tags": []
   },
   "outputs": [],
   "source": [
    "# y_pred_mnb = predict_n_evaluate(mnb_pipe, X_test, y_test)\n",
    "# y_pred_mnb"
   ]
  },
  {
   "attachments": {},
   "cell_type": "markdown",
   "id": "e8ec28fc",
   "metadata": {
    "papermill": {
     "duration": 0.013993,
     "end_time": "2023-06-05T20:37:01.127298",
     "exception": false,
     "start_time": "2023-06-05T20:37:01.113305",
     "status": "completed"
    },
    "tags": []
   },
   "source": [
    "### GaussianNB  "
   ]
  },
  {
   "attachments": {},
   "cell_type": "markdown",
   "id": "c579fbe0",
   "metadata": {
    "papermill": {
     "duration": 0.014065,
     "end_time": "2023-06-05T20:37:01.155697",
     "exception": false,
     "start_time": "2023-06-05T20:37:01.141632",
     "status": "completed"
    },
    "tags": []
   },
   "source": [
    "https://stackoverflow.com/questions/28384680/scikit-learns-pipeline-a-sparse-matrix-was-passed-but-dense-data-is-required"
   ]
  },
  {
   "cell_type": "code",
   "execution_count": 48,
   "id": "ff2877c1",
   "metadata": {
    "execution": {
     "iopub.execute_input": "2023-06-05T20:37:01.186648Z",
     "iopub.status.busy": "2023-06-05T20:37:01.186281Z",
     "iopub.status.idle": "2023-06-05T20:37:01.189630Z",
     "shell.execute_reply": "2023-06-05T20:37:01.188955Z"
    },
    "papermill": {
     "duration": 0.021713,
     "end_time": "2023-06-05T20:37:01.191804",
     "exception": false,
     "start_time": "2023-06-05T20:37:01.170091",
     "status": "completed"
    },
    "tags": []
   },
   "outputs": [],
   "source": [
    "# gnb = GaussianNB()\n",
    "# gnb"
   ]
  },
  {
   "cell_type": "code",
   "execution_count": 49,
   "id": "058c0532",
   "metadata": {
    "execution": {
     "iopub.execute_input": "2023-06-05T20:37:01.222828Z",
     "iopub.status.busy": "2023-06-05T20:37:01.222493Z",
     "iopub.status.idle": "2023-06-05T20:37:01.225637Z",
     "shell.execute_reply": "2023-06-05T20:37:01.225058Z"
    },
    "papermill": {
     "duration": 0.020673,
     "end_time": "2023-06-05T20:37:01.227286",
     "exception": false,
     "start_time": "2023-06-05T20:37:01.206613",
     "status": "completed"
    },
    "tags": []
   },
   "outputs": [],
   "source": [
    "# gnb_pipe = preprocess_n_train(X_train, y_train, tvec, gnb)\n",
    "# gnb_pipe"
   ]
  },
  {
   "attachments": {},
   "cell_type": "markdown",
   "id": "ad99e240",
   "metadata": {
    "papermill": {
     "duration": 0.014078,
     "end_time": "2023-06-05T20:37:01.256040",
     "exception": false,
     "start_time": "2023-06-05T20:37:01.241962",
     "status": "completed"
    },
    "tags": []
   },
   "source": [
    "## Submitting predictions to Kaggle competition  "
   ]
  },
  {
   "cell_type": "code",
   "execution_count": 50,
   "id": "5b3b978f",
   "metadata": {
    "execution": {
     "iopub.execute_input": "2023-06-05T20:37:01.286700Z",
     "iopub.status.busy": "2023-06-05T20:37:01.286324Z",
     "iopub.status.idle": "2023-06-05T20:37:01.294956Z",
     "shell.execute_reply": "2023-06-05T20:37:01.294028Z"
    },
    "papermill": {
     "duration": 0.026207,
     "end_time": "2023-06-05T20:37:01.296720",
     "exception": false,
     "start_time": "2023-06-05T20:37:01.270513",
     "status": "completed"
    },
    "tags": []
   },
   "outputs": [],
   "source": [
    "def submit(selected_model=logreg, selected_preprocessor=tvec):\n",
    "    \n",
    "    # Retrain on the whole train.csv file  \n",
    "    traindf = pd.read_csv(\"/kaggle/input/sentiment-prediction-on-movie-reviews/train.csv\")\n",
    "    X_train = traindf[\"reviewText\"]\n",
    "    X_train.fillna(\"empty\", inplace=True)\n",
    "    y_train = traindf[\"sentiment\"]\n",
    "    pipe = preprocess_n_train(X_train, y_train, selected_preprocessor, selected_model)\n",
    "    \n",
    "    # Predict on test.csv file\n",
    "    testdf = pd.read_csv(\"/kaggle/input/sentiment-prediction-on-movie-reviews/test.csv\")\n",
    "    X_test = testdf[\"reviewText\"]\n",
    "    X_test.fillna(\"empty\", inplace=True)\n",
    "    \n",
    "    y_pred = pipe.predict(X_test)\n",
    "    \n",
    "    pred_df = pd.DataFrame(y_pred)\n",
    "    pred_df.columns = [\"sentiment\"]\n",
    "    pred_df.index.name = \"id\"\n",
    "    pred_df.to_csv(\"submission.csv\")\n",
    "    \n",
    "    return \"Successfully created the submission file!!!\""
   ]
  },
  {
   "cell_type": "code",
   "execution_count": 51,
   "id": "e359eeda",
   "metadata": {
    "execution": {
     "iopub.execute_input": "2023-06-05T20:37:01.327923Z",
     "iopub.status.busy": "2023-06-05T20:37:01.327568Z",
     "iopub.status.idle": "2023-06-05T20:37:34.297206Z",
     "shell.execute_reply": "2023-06-05T20:37:34.296248Z"
    },
    "papermill": {
     "duration": 32.987121,
     "end_time": "2023-06-05T20:37:34.299133",
     "exception": false,
     "start_time": "2023-06-05T20:37:01.312012",
     "status": "completed"
    },
    "tags": []
   },
   "outputs": [],
   "source": [
    "# submit(logreg, tvec_ngram_2_sw_df)"
   ]
  }
 ],
 "metadata": {
  "kernelspec": {
   "display_name": "Python 3",
   "language": "python",
   "name": "python3"
  },
  "language_info": {
   "codemirror_mode": {
    "name": "ipython",
    "version": 3
   },
   "file_extension": ".py",
   "mimetype": "text/x-python",
   "name": "python",
   "nbconvert_exporter": "python",
   "pygments_lexer": "ipython3",
   "version": "3.9.7"
  },
  "papermill": {
   "default_parameters": {},
   "duration": 68.729819,
   "end_time": "2023-06-05T20:37:35.334162",
   "environment_variables": {},
   "exception": null,
   "input_path": "__notebook__.ipynb",
   "output_path": "__notebook__.ipynb",
   "parameters": {},
   "start_time": "2023-06-05T20:36:26.604343",
   "version": "2.4.0"
  }
 },
 "nbformat": 4,
 "nbformat_minor": 5
}
