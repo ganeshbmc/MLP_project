{
 "cells": [
  {
   "cell_type": "code",
   "execution_count": 1,
   "metadata": {},
   "outputs": [],
   "source": [
    "import pandas as pd"
   ]
  },
  {
   "cell_type": "code",
   "execution_count": null,
   "metadata": {},
   "outputs": [],
   "source": [
    "def audienceScore_vocab(df_list, scores=(57, 73), ngram_range_list=[(1,1), (2,2), (3,3)]):\n",
    "    train = df_list[0]\n",
    "    test = df_list[1]\n",
    "\n",
    "    lower_bound = scores[0]\n",
    "    upper_bound = scores[1]\n",
    "\n",
    "    common_1_2_3_grams = get_common_vocab([train, test], ngram_range_list=[(1,1), (2,2), (3,3)])\n",
    "\n",
    "    pos_scores = train[['reviewText', 'sentiment']].loc[(train['audienceScore'] > upper_bound) & (train['sentiment'] == 'POSITIVE')].copy()\n",
    "    neg_scores = train[['reviewText', 'sentiment']].loc[(train['audienceScore'] < lower_bound) & (train['sentiment'] == 'NEGATIVE')].copy()\n",
    "\n",
    "    pos_vocab = get_common_vocab([pos_scores, pos_scores], ngram_range_list=[(1,1), (2,2), (3,3)])\n",
    "    neg_vocab = get_common_vocab([neg_scores, neg_scores], ngram_range_list=[(1,1), (2,2), (3,3)])\n",
    "\n",
    "    pure_common_pos = common_1_2_3_grams & (pos_vocab - neg_vocab)\n",
    "    pure_common_neg = common_1_2_3_grams & (neg_vocab - pos_vocab)\n",
    "\n",
    "    return pure_common_pos, pure_common_neg\n",
    "\n",
    "\n"
   ]
  }
 ],
 "metadata": {
  "kernelspec": {
   "display_name": "Python 3",
   "language": "python",
   "name": "python3"
  },
  "language_info": {
   "codemirror_mode": {
    "name": "ipython",
    "version": 3
   },
   "file_extension": ".py",
   "mimetype": "text/x-python",
   "name": "python",
   "nbconvert_exporter": "python",
   "pygments_lexer": "ipython3",
   "version": "3.9.7"
  },
  "orig_nbformat": 4
 },
 "nbformat": 4,
 "nbformat_minor": 2
}
