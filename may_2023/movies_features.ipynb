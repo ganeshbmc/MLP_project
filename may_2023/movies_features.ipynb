{
 "cells": [
  {
   "cell_type": "code",
   "execution_count": 1,
   "metadata": {},
   "outputs": [
    {
     "name": "stdout",
     "output_type": "stream",
     "text": [
      "Imports done.\n"
     ]
    }
   ],
   "source": [
    "from mytools import *\n",
    "\n",
    "import pandas as pd\n",
    "import numpy as np\n",
    "import matplotlib.pyplot as plt\n",
    "import seaborn as sns\n",
    "import re\n",
    "\n",
    "from sklearn.pipeline import Pipeline, FeatureUnion\n",
    "from sklearn.compose import ColumnTransformer\n",
    "from sklearn.metrics import classification_report, confusion_matrix\n",
    "from sklearn.feature_extraction.text import TfidfVectorizer, CountVectorizer\n",
    "from sklearn.preprocessing import FunctionTransformer\n",
    "from sklearn.preprocessing import StandardScaler, MinMaxScaler, OneHotEncoder, LabelEncoder\n",
    "from sklearn.impute import SimpleImputer\n",
    "from sklearn.linear_model import LogisticRegression\n",
    "from sklearn.ensemble import RandomForestClassifier\n",
    "from sklearn.svm import LinearSVC\n",
    "from sklearn.naive_bayes import MultinomialNB\n",
    "from sklearn.model_selection import train_test_split, GridSearchCV, cross_val_score\n",
    "\n",
    "\n",
    "print(\"Imports done.\")"
   ]
  },
  {
   "attachments": {},
   "cell_type": "markdown",
   "metadata": {},
   "source": [
    "## Merge train.csv and movies.csv file  "
   ]
  },
  {
   "cell_type": "code",
   "execution_count": 2,
   "metadata": {},
   "outputs": [
    {
     "data": {
      "text/html": [
       "<div>\n",
       "<style scoped>\n",
       "    .dataframe tbody tr th:only-of-type {\n",
       "        vertical-align: middle;\n",
       "    }\n",
       "\n",
       "    .dataframe tbody tr th {\n",
       "        vertical-align: top;\n",
       "    }\n",
       "\n",
       "    .dataframe thead th {\n",
       "        text-align: right;\n",
       "    }\n",
       "</style>\n",
       "<table border=\"1\" class=\"dataframe\">\n",
       "  <thead>\n",
       "    <tr style=\"text-align: right;\">\n",
       "      <th></th>\n",
       "      <th>movieid</th>\n",
       "      <th>reviewerName</th>\n",
       "      <th>isFrequentReviewer</th>\n",
       "      <th>reviewText</th>\n",
       "      <th>sentiment</th>\n",
       "      <th>audienceScore</th>\n",
       "      <th>rating</th>\n",
       "      <th>runtimeMinutes</th>\n",
       "      <th>genre</th>\n",
       "      <th>originalLanguage</th>\n",
       "      <th>director</th>\n",
       "    </tr>\n",
       "  </thead>\n",
       "  <tbody>\n",
       "    <tr>\n",
       "      <th>0</th>\n",
       "      <td>marvelous_pirate</td>\n",
       "      <td>Benjamin Henry</td>\n",
       "      <td>False</td>\n",
       "      <td>Henry Selick’s first movie since 2009’s Corali...</td>\n",
       "      <td>POSITIVE</td>\n",
       "      <td>65.0</td>\n",
       "      <td>PG-13</td>\n",
       "      <td>105.0</td>\n",
       "      <td>Comedy, Animation, Adventure, Fantasy</td>\n",
       "      <td>English</td>\n",
       "      <td>Bennie Basso</td>\n",
       "    </tr>\n",
       "    <tr>\n",
       "      <th>1</th>\n",
       "      <td>marvelous_pirate</td>\n",
       "      <td>Sharon Foster</td>\n",
       "      <td>False</td>\n",
       "      <td>&amp;#91;T&amp;#93;he haphazard way this story is asse...</td>\n",
       "      <td>NEGATIVE</td>\n",
       "      <td>65.0</td>\n",
       "      <td>PG-13</td>\n",
       "      <td>105.0</td>\n",
       "      <td>Comedy, Animation, Adventure, Fantasy</td>\n",
       "      <td>English</td>\n",
       "      <td>Bennie Basso</td>\n",
       "    </tr>\n",
       "    <tr>\n",
       "      <th>2</th>\n",
       "      <td>marvelous_pirate</td>\n",
       "      <td>Melinda Dunn</td>\n",
       "      <td>False</td>\n",
       "      <td>The stop-motion artistry of Wendell &amp;amp; Wild...</td>\n",
       "      <td>POSITIVE</td>\n",
       "      <td>65.0</td>\n",
       "      <td>PG-13</td>\n",
       "      <td>105.0</td>\n",
       "      <td>Comedy, Animation, Adventure, Fantasy</td>\n",
       "      <td>English</td>\n",
       "      <td>Bennie Basso</td>\n",
       "    </tr>\n",
       "    <tr>\n",
       "      <th>3</th>\n",
       "      <td>marvelous_pirate</td>\n",
       "      <td>Mr. Wayne Smith</td>\n",
       "      <td>False</td>\n",
       "      <td>Wendell &amp;amp; Wild is narratively overstuffed ...</td>\n",
       "      <td>NEGATIVE</td>\n",
       "      <td>65.0</td>\n",
       "      <td>PG-13</td>\n",
       "      <td>105.0</td>\n",
       "      <td>Comedy, Animation, Adventure, Fantasy</td>\n",
       "      <td>English</td>\n",
       "      <td>Bennie Basso</td>\n",
       "    </tr>\n",
       "    <tr>\n",
       "      <th>4</th>\n",
       "      <td>marvelous_pirate</td>\n",
       "      <td>Connor Nelson</td>\n",
       "      <td>False</td>\n",
       "      <td>For being about the Netherworlds&amp;#44; it&amp;#8217...</td>\n",
       "      <td>POSITIVE</td>\n",
       "      <td>65.0</td>\n",
       "      <td>PG-13</td>\n",
       "      <td>105.0</td>\n",
       "      <td>Comedy, Animation, Adventure, Fantasy</td>\n",
       "      <td>English</td>\n",
       "      <td>Bennie Basso</td>\n",
       "    </tr>\n",
       "  </tbody>\n",
       "</table>\n",
       "</div>"
      ],
      "text/plain": [
       "            movieid     reviewerName  isFrequentReviewer  \\\n",
       "0  marvelous_pirate   Benjamin Henry               False   \n",
       "1  marvelous_pirate    Sharon Foster               False   \n",
       "2  marvelous_pirate     Melinda Dunn               False   \n",
       "3  marvelous_pirate  Mr. Wayne Smith               False   \n",
       "4  marvelous_pirate    Connor Nelson               False   \n",
       "\n",
       "                                          reviewText sentiment  audienceScore  \\\n",
       "0  Henry Selick’s first movie since 2009’s Corali...  POSITIVE           65.0   \n",
       "1  &#91;T&#93;he haphazard way this story is asse...  NEGATIVE           65.0   \n",
       "2  The stop-motion artistry of Wendell &amp; Wild...  POSITIVE           65.0   \n",
       "3  Wendell &amp; Wild is narratively overstuffed ...  NEGATIVE           65.0   \n",
       "4  For being about the Netherworlds&#44; it&#8217...  POSITIVE           65.0   \n",
       "\n",
       "  rating  runtimeMinutes                                  genre  \\\n",
       "0  PG-13           105.0  Comedy, Animation, Adventure, Fantasy   \n",
       "1  PG-13           105.0  Comedy, Animation, Adventure, Fantasy   \n",
       "2  PG-13           105.0  Comedy, Animation, Adventure, Fantasy   \n",
       "3  PG-13           105.0  Comedy, Animation, Adventure, Fantasy   \n",
       "4  PG-13           105.0  Comedy, Animation, Adventure, Fantasy   \n",
       "\n",
       "  originalLanguage      director  \n",
       "0          English  Bennie Basso  \n",
       "1          English  Bennie Basso  \n",
       "2          English  Bennie Basso  \n",
       "3          English  Bennie Basso  \n",
       "4          English  Bennie Basso  "
      ]
     },
     "execution_count": 2,
     "metadata": {},
     "output_type": "execute_result"
    }
   ],
   "source": [
    "merged = select_features(load_csv(\"train\"), load_csv(\"movies\"))\n",
    "merged.head()"
   ]
  },
  {
   "cell_type": "code",
   "execution_count": 3,
   "metadata": {},
   "outputs": [
    {
     "name": "stdout",
     "output_type": "stream",
     "text": [
      "Shape of the dataframe: (162758, 11)\n",
      "\n",
      "Columns in the dataframe:\n",
      "Index(['movieid', 'reviewerName', 'isFrequentReviewer', 'reviewText',\n",
      "       'sentiment', 'audienceScore', 'rating', 'runtimeMinutes', 'genre',\n",
      "       'originalLanguage', 'director'],\n",
      "      dtype='object')\n",
      "\n",
      "<class 'pandas.core.frame.DataFrame'>\n",
      "Int64Index: 162758 entries, 0 to 162757\n",
      "Data columns (total 11 columns):\n",
      " #   Column              Non-Null Count   Dtype  \n",
      "---  ------              --------------   -----  \n",
      " 0   movieid             162758 non-null  object \n",
      " 1   reviewerName        162758 non-null  object \n",
      " 2   isFrequentReviewer  162758 non-null  bool   \n",
      " 3   reviewText          162758 non-null  object \n",
      " 4   sentiment           162758 non-null  object \n",
      " 5   audienceScore       149510 non-null  float64\n",
      " 6   rating              162758 non-null  object \n",
      " 7   runtimeMinutes      159382 non-null  float64\n",
      " 8   genre               160320 non-null  object \n",
      " 9   originalLanguage    159468 non-null  object \n",
      " 10  director            162758 non-null  object \n",
      "dtypes: bool(1), float64(2), object(8)\n",
      "memory usage: 13.8+ MB\n",
      "None\n",
      "\n",
      "Missing values:\n",
      "movieid                   0\n",
      "reviewerName              0\n",
      "isFrequentReviewer        0\n",
      "reviewText                0\n",
      "sentiment                 0\n",
      "audienceScore         13248\n",
      "rating                    0\n",
      "runtimeMinutes         3376\n",
      "genre                  2438\n",
      "originalLanguage       3290\n",
      "director                  0\n",
      "dtype: int64\n"
     ]
    }
   ],
   "source": [
    "inspect(merged)"
   ]
  },
  {
   "attachments": {},
   "cell_type": "markdown",
   "metadata": {},
   "source": [
    "## Evaluate numerical features one by one  "
   ]
  },
  {
   "cell_type": "code",
   "execution_count": 4,
   "metadata": {},
   "outputs": [
    {
     "data": {
      "text/plain": [
       "Pipeline(steps=[('imputer', SimpleImputer()), ('scaler', MinMaxScaler())])"
      ]
     },
     "execution_count": 4,
     "metadata": {},
     "output_type": "execute_result"
    }
   ],
   "source": [
    "pipe_num = Pipeline(steps=[\n",
    "                            (\"imputer\", SimpleImputer(strategy=\"mean\", missing_values=np.nan)),\n",
    "                            (\"scaler\", MinMaxScaler())\n",
    "                        ])\n",
    "pipe_num"
   ]
  },
  {
   "cell_type": "code",
   "execution_count": 5,
   "metadata": {},
   "outputs": [
    {
     "data": {
      "text/plain": [
       "Pipeline(steps=[('preprocessor',\n",
       "                 Pipeline(steps=[('imputer', SimpleImputer()),\n",
       "                                 ('scaler', MinMaxScaler())])),\n",
       "                ('model', LogisticRegression())])"
      ]
     },
     "execution_count": 5,
     "metadata": {},
     "output_type": "execute_result"
    }
   ],
   "source": [
    "pipe = Pipeline(steps=[\n",
    "                        (\"preprocessor\", pipe_num),\n",
    "                        (\"model\", LogisticRegression())\n",
    "                    ])\n",
    "pipe"
   ]
  },
  {
   "cell_type": "code",
   "execution_count": 6,
   "metadata": {},
   "outputs": [],
   "source": [
    "def split_train_predict(features, labels, pipeline, test_size=0.25, random_state=42):\n",
    "    # cols = features.columns\n",
    "    if len(features.shape) == 1:\n",
    "        features = features.to_numpy().reshape(-1, 1)  # reshape to 2D array\n",
    "    features = pd.DataFrame(features)\n",
    "    X_train, X_test, y_train, y_test = train_test_split(features, labels, test_size=test_size, random_state=random_state)\n",
    "    pipeline.fit(X_train, y_train)\n",
    "    y_pred = pipeline.predict(X_test)\n",
    "    print(classification_report(y_test, y_pred))\n",
    "    print(confusion_matrix(y_test, y_pred))\n",
    "    return #y_pred"
   ]
  },
  {
   "cell_type": "code",
   "execution_count": 7,
   "metadata": {},
   "outputs": [
    {
     "name": "stdout",
     "output_type": "stream",
     "text": [
      "              precision    recall  f1-score   support\n",
      "\n",
      "    NEGATIVE       0.58      0.25      0.35     13717\n",
      "    POSITIVE       0.70      0.91      0.79     26973\n",
      "\n",
      "    accuracy                           0.69     40690\n",
      "   macro avg       0.64      0.58      0.57     40690\n",
      "weighted avg       0.66      0.69      0.64     40690\n",
      "\n",
      "[[ 3446 10271]\n",
      " [ 2449 24524]]\n"
     ]
    }
   ],
   "source": [
    "split_train_predict(merged[\"audienceScore\"], merged[\"sentiment\"], pipe)"
   ]
  },
  {
   "cell_type": "code",
   "execution_count": 8,
   "metadata": {},
   "outputs": [
    {
     "name": "stderr",
     "output_type": "stream",
     "text": [
      "c:\\Users\\All users\\Anaconda3\\lib\\site-packages\\sklearn\\metrics\\_classification.py:1248: UndefinedMetricWarning: Precision and F-score are ill-defined and being set to 0.0 in labels with no predicted samples. Use `zero_division` parameter to control this behavior.\n",
      "  _warn_prf(average, modifier, msg_start, len(result))\n",
      "c:\\Users\\All users\\Anaconda3\\lib\\site-packages\\sklearn\\metrics\\_classification.py:1248: UndefinedMetricWarning: Precision and F-score are ill-defined and being set to 0.0 in labels with no predicted samples. Use `zero_division` parameter to control this behavior.\n",
      "  _warn_prf(average, modifier, msg_start, len(result))\n"
     ]
    },
    {
     "name": "stdout",
     "output_type": "stream",
     "text": [
      "              precision    recall  f1-score   support\n",
      "\n",
      "    NEGATIVE       0.00      0.00      0.00     13717\n",
      "    POSITIVE       0.66      1.00      0.80     26973\n",
      "\n",
      "    accuracy                           0.66     40690\n",
      "   macro avg       0.33      0.50      0.40     40690\n",
      "weighted avg       0.44      0.66      0.53     40690\n",
      "\n",
      "[[    0 13717]\n",
      " [    0 26973]]\n"
     ]
    },
    {
     "name": "stderr",
     "output_type": "stream",
     "text": [
      "c:\\Users\\All users\\Anaconda3\\lib\\site-packages\\sklearn\\metrics\\_classification.py:1248: UndefinedMetricWarning: Precision and F-score are ill-defined and being set to 0.0 in labels with no predicted samples. Use `zero_division` parameter to control this behavior.\n",
      "  _warn_prf(average, modifier, msg_start, len(result))\n"
     ]
    }
   ],
   "source": [
    "split_train_predict(merged[\"runtimeMinutes\"], merged[\"sentiment\"], pipe)"
   ]
  },
  {
   "cell_type": "code",
   "execution_count": 9,
   "metadata": {},
   "outputs": [
    {
     "name": "stdout",
     "output_type": "stream",
     "text": [
      "              precision    recall  f1-score   support\n",
      "\n",
      "    NEGATIVE       0.58      0.26      0.36     13717\n",
      "    POSITIVE       0.71      0.91      0.79     26973\n",
      "\n",
      "    accuracy                           0.69     40690\n",
      "   macro avg       0.65      0.58      0.58     40690\n",
      "weighted avg       0.66      0.69      0.65     40690\n",
      "\n",
      "[[ 3524 10193]\n",
      " [ 2506 24467]]\n"
     ]
    }
   ],
   "source": [
    "split_train_predict(merged[[\"audienceScore\", \"runtimeMinutes\"]], merged[\"sentiment\"], pipe)"
   ]
  },
  {
   "attachments": {},
   "cell_type": "markdown",
   "metadata": {},
   "source": [
    "## Consider other columns in movies.csv file  "
   ]
  },
  {
   "cell_type": "code",
   "execution_count": 54,
   "metadata": {},
   "outputs": [
    {
     "data": {
      "text/plain": [
       "movieid                   0\n",
       "reviewerName              0\n",
       "isFrequentReviewer        0\n",
       "reviewText                0\n",
       "sentiment                 0\n",
       "audienceScore         13248\n",
       "rating                    0\n",
       "runtimeMinutes         3376\n",
       "genre                  2438\n",
       "originalLanguage       3290\n",
       "director                  0\n",
       "dtype: int64"
      ]
     },
     "execution_count": 54,
     "metadata": {},
     "output_type": "execute_result"
    }
   ],
   "source": [
    "merged.isna().sum()"
   ]
  },
  {
   "cell_type": "code",
   "execution_count": 55,
   "metadata": {},
   "outputs": [],
   "source": [
    "merged[\"audienceScore\"].fillna(merged[\"audienceScore\"].mean(), inplace=True)\n",
    "merged[\"runtimeMinutes\"].fillna(merged[\"runtimeMinutes\"].mean(), inplace=True)"
   ]
  },
  {
   "cell_type": "code",
   "execution_count": 58,
   "metadata": {},
   "outputs": [],
   "source": [
    "merged[\"genre\"].fillna(\"Unknown\", inplace=True)\n",
    "merged[\"originalLanguage\"].fillna(\"Unknown\", inplace=True)"
   ]
  },
  {
   "cell_type": "code",
   "execution_count": 59,
   "metadata": {},
   "outputs": [
    {
     "data": {
      "text/plain": [
       "movieid               0\n",
       "reviewerName          0\n",
       "isFrequentReviewer    0\n",
       "reviewText            0\n",
       "sentiment             0\n",
       "audienceScore         0\n",
       "rating                0\n",
       "runtimeMinutes        0\n",
       "genre                 0\n",
       "originalLanguage      0\n",
       "director              0\n",
       "dtype: int64"
      ]
     },
     "execution_count": 59,
     "metadata": {},
     "output_type": "execute_result"
    }
   ],
   "source": [
    "merged.isna().sum()"
   ]
  },
  {
   "cell_type": "code",
   "execution_count": 60,
   "metadata": {},
   "outputs": [
    {
     "data": {
      "text/plain": [
       "Index(['movieid', 'reviewerName', 'isFrequentReviewer', 'reviewText',\n",
       "       'sentiment', 'audienceScore', 'rating', 'runtimeMinutes', 'genre',\n",
       "       'originalLanguage', 'director'],\n",
       "      dtype='object')"
      ]
     },
     "execution_count": 60,
     "metadata": {},
     "output_type": "execute_result"
    }
   ],
   "source": [
    "merged.columns"
   ]
  },
  {
   "cell_type": "code",
   "execution_count": 61,
   "metadata": {},
   "outputs": [
    {
     "data": {
      "text/plain": [
       "86"
      ]
     },
     "execution_count": 61,
     "metadata": {},
     "output_type": "execute_result"
    }
   ],
   "source": [
    "len(merged[\"originalLanguage\"].unique())"
   ]
  },
  {
   "cell_type": "code",
   "execution_count": 62,
   "metadata": {},
   "outputs": [
    {
     "data": {
      "text/plain": [
       "TfidfVectorizer()"
      ]
     },
     "execution_count": 62,
     "metadata": {},
     "output_type": "execute_result"
    }
   ],
   "source": [
    "tvec = TfidfVectorizer()\n",
    "tvec"
   ]
  },
  {
   "cell_type": "code",
   "execution_count": 63,
   "metadata": {},
   "outputs": [
    {
     "data": {
      "text/plain": [
       "Pipeline(steps=[('tvec', TfidfVectorizer())])"
      ]
     },
     "execution_count": 63,
     "metadata": {},
     "output_type": "execute_result"
    }
   ],
   "source": [
    "pipe_txt = Pipeline(steps=[\n",
    "                            # (\"imputer\", SimpleImputer(strategy=\"most_frequent\", missing_values=np.nan)),\n",
    "                            # (\"dfmaker\", FunctionTransformer(np.reshape, kw_args={'newshape':-1})),\n",
    "                            (\"tvec\", tvec)\n",
    "                        ])\n",
    "pipe_txt"
   ]
  },
  {
   "cell_type": "code",
   "execution_count": 85,
   "metadata": {},
   "outputs": [
    {
     "data": {
      "text/plain": [
       "ColumnTransformer(n_jobs=1,\n",
       "                  transformers=[('tvec',\n",
       "                                 Pipeline(steps=[('tvec', TfidfVectorizer())]),\n",
       "                                 'originalLanguage'),\n",
       "                                ('tvec2',\n",
       "                                 Pipeline(steps=[('tvec', TfidfVectorizer())]),\n",
       "                                 'genre'),\n",
       "                                ('tvec3',\n",
       "                                 Pipeline(steps=[('tvec', TfidfVectorizer())]),\n",
       "                                 'director')])"
      ]
     },
     "execution_count": 85,
     "metadata": {},
     "output_type": "execute_result"
    }
   ],
   "source": [
    "ct_txt = ColumnTransformer(transformers=[\n",
    "                                        (\"tvec\", pipe_txt, \"originalLanguage\"),\n",
    "                                        (\"tvec2\", pipe_txt, \"genre\"),\n",
    "                                        (\"tvec3\", pipe_txt, \"director\")\n",
    "                                        ], remainder=\"drop\", n_jobs=1)\n",
    "ct_txt"
   ]
  },
  {
   "cell_type": "code",
   "execution_count": 86,
   "metadata": {},
   "outputs": [
    {
     "data": {
      "text/plain": [
       "(162758, 6989)"
      ]
     },
     "execution_count": 86,
     "metadata": {},
     "output_type": "execute_result"
    }
   ],
   "source": [
    "# dff = ct_txt.fit_transform(merged[[\"originalLanguage\", \"genre\", \"director\"]])\n",
    "# dff.shape"
   ]
  },
  {
   "cell_type": "code",
   "execution_count": 87,
   "metadata": {},
   "outputs": [
    {
     "data": {
      "text/plain": [
       "Pipeline(steps=[('preprocessor',\n",
       "                 ColumnTransformer(n_jobs=1,\n",
       "                                   transformers=[('tvec',\n",
       "                                                  Pipeline(steps=[('tvec',\n",
       "                                                                   TfidfVectorizer())]),\n",
       "                                                  'originalLanguage'),\n",
       "                                                 ('tvec2',\n",
       "                                                  Pipeline(steps=[('tvec',\n",
       "                                                                   TfidfVectorizer())]),\n",
       "                                                  'genre'),\n",
       "                                                 ('tvec3',\n",
       "                                                  Pipeline(steps=[('tvec',\n",
       "                                                                   TfidfVectorizer())]),\n",
       "                                                  'director')])),\n",
       "                ('model', LogisticRegression(max_iter=100000))])"
      ]
     },
     "execution_count": 87,
     "metadata": {},
     "output_type": "execute_result"
    }
   ],
   "source": [
    "pipe2 = Pipeline(steps=[\n",
    "                        (\"preprocessor\", ct_txt),\n",
    "                        (\"model\", LogisticRegression(max_iter=100000))\n",
    "                    ])\n",
    "pipe2"
   ]
  },
  {
   "cell_type": "code",
   "execution_count": 88,
   "metadata": {},
   "outputs": [
    {
     "name": "stdout",
     "output_type": "stream",
     "text": [
      "              precision    recall  f1-score   support\n",
      "\n",
      "    NEGATIVE       0.62      0.33      0.43     13717\n",
      "    POSITIVE       0.72      0.90      0.80     26973\n",
      "\n",
      "    accuracy                           0.71     40690\n",
      "   macro avg       0.67      0.61      0.62     40690\n",
      "weighted avg       0.69      0.71      0.68     40690\n",
      "\n",
      "[[ 4530  9187]\n",
      " [ 2795 24178]]\n"
     ]
    }
   ],
   "source": [
    "split_train_predict(merged[[\"originalLanguage\", \"genre\", \"director\"]], merged[\"sentiment\"], pipe2)"
   ]
  },
  {
   "cell_type": "code",
   "execution_count": 77,
   "metadata": {},
   "outputs": [
    {
     "data": {
      "text/plain": [
       "Index(['movieid', 'reviewerName', 'isFrequentReviewer', 'reviewText',\n",
       "       'sentiment', 'audienceScore', 'rating', 'runtimeMinutes', 'genre',\n",
       "       'originalLanguage', 'director'],\n",
       "      dtype='object')"
      ]
     },
     "execution_count": 77,
     "metadata": {},
     "output_type": "execute_result"
    }
   ],
   "source": [
    "merged.columns"
   ]
  },
  {
   "attachments": {},
   "cell_type": "markdown",
   "metadata": {},
   "source": [
    "## Rating column  "
   ]
  },
  {
   "cell_type": "code",
   "execution_count": 80,
   "metadata": {},
   "outputs": [
    {
     "data": {
      "text/plain": [
       "array(['PG-13', 'NA', 'R', 'PG', 'NC-17', 'TV14', 'TVPG', 'TVMA'],\n",
       "      dtype=object)"
      ]
     },
     "execution_count": 80,
     "metadata": {},
     "output_type": "execute_result"
    }
   ],
   "source": [
    "merged[\"rating\"].unique()"
   ]
  },
  {
   "cell_type": "code",
   "execution_count": 78,
   "metadata": {},
   "outputs": [
    {
     "data": {
      "text/plain": [
       "Pipeline(steps=[('ohe', OneHotEncoder(handle_unknown='ignore'))])"
      ]
     },
     "execution_count": 78,
     "metadata": {},
     "output_type": "execute_result"
    }
   ],
   "source": [
    "pipe_rating = Pipeline(steps=[\n",
    "                            (\"ohe\", OneHotEncoder(handle_unknown=\"ignore\"))\n",
    "                        ])\n",
    "pipe_rating"
   ]
  },
  {
   "cell_type": "code",
   "execution_count": 81,
   "metadata": {},
   "outputs": [
    {
     "data": {
      "text/plain": [
       "Pipeline(steps=[('preprocessor',\n",
       "                 Pipeline(steps=[('ohe',\n",
       "                                  OneHotEncoder(handle_unknown='ignore'))])),\n",
       "                ('model', LogisticRegression(max_iter=100000))])"
      ]
     },
     "execution_count": 81,
     "metadata": {},
     "output_type": "execute_result"
    }
   ],
   "source": [
    "pipe3 = Pipeline(steps=[\n",
    "                        (\"preprocessor\", pipe_rating),\n",
    "                        (\"model\", LogisticRegression(max_iter=100000))\n",
    "                    ])\n",
    "pipe3"
   ]
  },
  {
   "cell_type": "code",
   "execution_count": 83,
   "metadata": {},
   "outputs": [
    {
     "name": "stderr",
     "output_type": "stream",
     "text": [
      "c:\\Users\\All users\\Anaconda3\\lib\\site-packages\\sklearn\\metrics\\_classification.py:1248: UndefinedMetricWarning: Precision and F-score are ill-defined and being set to 0.0 in labels with no predicted samples. Use `zero_division` parameter to control this behavior.\n",
      "  _warn_prf(average, modifier, msg_start, len(result))\n",
      "c:\\Users\\All users\\Anaconda3\\lib\\site-packages\\sklearn\\metrics\\_classification.py:1248: UndefinedMetricWarning: Precision and F-score are ill-defined and being set to 0.0 in labels with no predicted samples. Use `zero_division` parameter to control this behavior.\n",
      "  _warn_prf(average, modifier, msg_start, len(result))\n"
     ]
    },
    {
     "name": "stdout",
     "output_type": "stream",
     "text": [
      "              precision    recall  f1-score   support\n",
      "\n",
      "    NEGATIVE       0.00      0.00      0.00     13717\n",
      "    POSITIVE       0.66      1.00      0.80     26973\n",
      "\n",
      "    accuracy                           0.66     40690\n",
      "   macro avg       0.33      0.50      0.40     40690\n",
      "weighted avg       0.44      0.66      0.53     40690\n",
      "\n",
      "[[    0 13717]\n",
      " [    0 26973]]\n"
     ]
    },
    {
     "name": "stderr",
     "output_type": "stream",
     "text": [
      "c:\\Users\\All users\\Anaconda3\\lib\\site-packages\\sklearn\\metrics\\_classification.py:1248: UndefinedMetricWarning: Precision and F-score are ill-defined and being set to 0.0 in labels with no predicted samples. Use `zero_division` parameter to control this behavior.\n",
      "  _warn_prf(average, modifier, msg_start, len(result))\n"
     ]
    }
   ],
   "source": [
    "split_train_predict(merged[\"rating\"], merged[\"sentiment\"], pipe3)"
   ]
  },
  {
   "attachments": {},
   "cell_type": "markdown",
   "metadata": {},
   "source": [
    "## Use all columns of movies.csv  "
   ]
  },
  {
   "cell_type": "code",
   "execution_count": 84,
   "metadata": {},
   "outputs": [
    {
     "data": {
      "text/plain": [
       "Index(['movieid', 'reviewerName', 'isFrequentReviewer', 'reviewText',\n",
       "       'sentiment', 'audienceScore', 'rating', 'runtimeMinutes', 'genre',\n",
       "       'originalLanguage', 'director'],\n",
       "      dtype='object')"
      ]
     },
     "execution_count": 84,
     "metadata": {},
     "output_type": "execute_result"
    }
   ],
   "source": [
    "merged.columns"
   ]
  },
  {
   "cell_type": "code",
   "execution_count": 89,
   "metadata": {},
   "outputs": [],
   "source": [
    "num_vars = [\"audienceScore\", \"runtimeMinutes\"]\n",
    "txt_vars = [\"originalLanguage\", \"genre\", \"director\"]\n",
    "cat_vars = [\"rating\"]"
   ]
  },
  {
   "cell_type": "code",
   "execution_count": 90,
   "metadata": {},
   "outputs": [
    {
     "data": {
      "text/plain": [
       "Pipeline(steps=[('imputer', SimpleImputer()), ('scaler', MinMaxScaler())])"
      ]
     },
     "execution_count": 90,
     "metadata": {},
     "output_type": "execute_result"
    }
   ],
   "source": [
    "num_pipe = Pipeline(steps=[\n",
    "                            (\"imputer\", SimpleImputer(strategy=\"mean\", missing_values=np.nan)),\n",
    "                            (\"scaler\", MinMaxScaler())\n",
    "                        ])\n",
    "num_pipe"
   ]
  },
  {
   "cell_type": "code",
   "execution_count": 91,
   "metadata": {},
   "outputs": [
    {
     "data": {
      "text/plain": [
       "Pipeline(steps=[('tvec', TfidfVectorizer())])"
      ]
     },
     "execution_count": 91,
     "metadata": {},
     "output_type": "execute_result"
    }
   ],
   "source": [
    "txt_pipe = Pipeline(steps=[\n",
    "                            (\"tvec\", TfidfVectorizer())\n",
    "                        ])\n",
    "txt_pipe"
   ]
  },
  {
   "cell_type": "code",
   "execution_count": 92,
   "metadata": {},
   "outputs": [
    {
     "data": {
      "text/plain": [
       "Pipeline(steps=[('ohe', OneHotEncoder(handle_unknown='ignore'))])"
      ]
     },
     "execution_count": 92,
     "metadata": {},
     "output_type": "execute_result"
    }
   ],
   "source": [
    "cat_pipe = Pipeline(steps=[\n",
    "                            (\"ohe\", OneHotEncoder(handle_unknown=\"ignore\"))\n",
    "                        ])\n",
    "cat_pipe"
   ]
  },
  {
   "cell_type": "code",
   "execution_count": 115,
   "metadata": {},
   "outputs": [
    {
     "data": {
      "text/plain": [
       "ColumnTransformer(n_jobs=1,\n",
       "                  transformers=[('num',\n",
       "                                 Pipeline(steps=[('imputer', SimpleImputer()),\n",
       "                                                 ('scaler', MinMaxScaler())]),\n",
       "                                 ['audienceScore', 'runtimeMinutes']),\n",
       "                                ('txt1',\n",
       "                                 Pipeline(steps=[('tvec', TfidfVectorizer())]),\n",
       "                                 'originalLanguage'),\n",
       "                                ('txt2',\n",
       "                                 Pipeline(steps=[('tvec', TfidfVectorizer())]),\n",
       "                                 'genre'),\n",
       "                                ('txt3',\n",
       "                                 Pipeline(steps=[('tvec', TfidfVectorizer())]),\n",
       "                                 'director'),\n",
       "                                ('cat',\n",
       "                                 Pipeline(steps=[('ohe',\n",
       "                                                  OneHotEncoder(handle_unknown='ignore'))]),\n",
       "                                 ['rating'])])"
      ]
     },
     "execution_count": 115,
     "metadata": {},
     "output_type": "execute_result"
    }
   ],
   "source": [
    "ct_all = ColumnTransformer(transformers=[\n",
    "                                        (\"num\", num_pipe, num_vars),\n",
    "                                        # (\"txt\", txt_pipe, txt_vars),\n",
    "                                        (\"txt1\", txt_pipe, \"originalLanguage\"),\n",
    "                                        (\"txt2\", txt_pipe, \"genre\"),\n",
    "                                        (\"txt3\", txt_pipe, \"director\"),\n",
    "                                        (\"cat\", cat_pipe, cat_vars)\n",
    "                                        ], remainder=\"drop\", n_jobs=1)\n",
    "ct_all"
   ]
  },
  {
   "cell_type": "code",
   "execution_count": 116,
   "metadata": {},
   "outputs": [
    {
     "data": {
      "text/plain": [
       "Pipeline(steps=[('preprocessor',\n",
       "                 ColumnTransformer(n_jobs=1,\n",
       "                                   transformers=[('num',\n",
       "                                                  Pipeline(steps=[('imputer',\n",
       "                                                                   SimpleImputer()),\n",
       "                                                                  ('scaler',\n",
       "                                                                   MinMaxScaler())]),\n",
       "                                                  ['audienceScore',\n",
       "                                                   'runtimeMinutes']),\n",
       "                                                 ('txt1',\n",
       "                                                  Pipeline(steps=[('tvec',\n",
       "                                                                   TfidfVectorizer())]),\n",
       "                                                  'originalLanguage'),\n",
       "                                                 ('txt2',\n",
       "                                                  Pipeline(steps=[('tvec',\n",
       "                                                                   TfidfVectorizer())]),\n",
       "                                                  'genre'),\n",
       "                                                 ('txt3',\n",
       "                                                  Pipeline(steps=[('tvec',\n",
       "                                                                   TfidfVectorizer())]),\n",
       "                                                  'director'),\n",
       "                                                 ('cat',\n",
       "                                                  Pipeline(steps=[('ohe',\n",
       "                                                                   OneHotEncoder(handle_unknown='ignore'))]),\n",
       "                                                  ['rating'])])),\n",
       "                ('model', LogisticRegression(max_iter=100000))])"
      ]
     },
     "execution_count": 116,
     "metadata": {},
     "output_type": "execute_result"
    }
   ],
   "source": [
    "pipe_all = Pipeline(steps=[\n",
    "                        (\"preprocessor\", ct_all),\n",
    "                        (\"model\", LogisticRegression(max_iter=100000))\n",
    "                    ])\n",
    "pipe_all"
   ]
  },
  {
   "cell_type": "code",
   "execution_count": 117,
   "metadata": {},
   "outputs": [
    {
     "data": {
      "text/plain": [
       "['audienceScore',\n",
       " 'runtimeMinutes',\n",
       " 'originalLanguage',\n",
       " 'genre',\n",
       " 'director',\n",
       " 'rating']"
      ]
     },
     "execution_count": 117,
     "metadata": {},
     "output_type": "execute_result"
    }
   ],
   "source": [
    "vars = num_vars + txt_vars + cat_vars\n",
    "vars"
   ]
  },
  {
   "cell_type": "code",
   "execution_count": 118,
   "metadata": {},
   "outputs": [
    {
     "name": "stdout",
     "output_type": "stream",
     "text": [
      "              precision    recall  f1-score   support\n",
      "\n",
      "    NEGATIVE       0.64      0.40      0.49     13717\n",
      "    POSITIVE       0.74      0.89      0.81     26973\n",
      "\n",
      "    accuracy                           0.72     40690\n",
      "   macro avg       0.69      0.64      0.65     40690\n",
      "weighted avg       0.71      0.72      0.70     40690\n",
      "\n",
      "[[ 5527  8190]\n",
      " [ 3097 23876]]\n"
     ]
    }
   ],
   "source": [
    "split_train_predict(merged[vars], merged[\"sentiment\"], pipe_all)"
   ]
  },
  {
   "attachments": {},
   "cell_type": "markdown",
   "metadata": {},
   "source": [
    "## Use reviewText, isFrequentReviewer also in final pipeline  "
   ]
  },
  {
   "cell_type": "code",
   "execution_count": 119,
   "metadata": {},
   "outputs": [
    {
     "data": {
      "text/plain": [
       "Index(['movieid', 'reviewerName', 'isFrequentReviewer', 'reviewText',\n",
       "       'sentiment', 'audienceScore', 'rating', 'runtimeMinutes', 'genre',\n",
       "       'originalLanguage', 'director'],\n",
       "      dtype='object')"
      ]
     },
     "execution_count": 119,
     "metadata": {},
     "output_type": "execute_result"
    }
   ],
   "source": [
    "merged.columns"
   ]
  },
  {
   "cell_type": "code",
   "execution_count": 1,
   "metadata": {},
   "outputs": [
    {
     "ename": "NameError",
     "evalue": "name 'ColumnTransformer' is not defined",
     "output_type": "error",
     "traceback": [
      "\u001b[1;31m---------------------------------------------------------------------------\u001b[0m",
      "\u001b[1;31mNameError\u001b[0m                                 Traceback (most recent call last)",
      "\u001b[1;32mC:\\Users\\GANESH~1\\AppData\\Local\\Temp/ipykernel_2628/268556744.py\u001b[0m in \u001b[0;36m<module>\u001b[1;34m\u001b[0m\n\u001b[1;32m----> 1\u001b[1;33m ct_final = ColumnTransformer(transformers=[\n\u001b[0m\u001b[0;32m      2\u001b[0m                                         \u001b[1;33m(\u001b[0m\u001b[1;34m\"num\"\u001b[0m\u001b[1;33m,\u001b[0m \u001b[0mnum_pipe\u001b[0m\u001b[1;33m,\u001b[0m \u001b[0mnum_vars\u001b[0m\u001b[1;33m)\u001b[0m\u001b[1;33m,\u001b[0m\u001b[1;33m\u001b[0m\u001b[1;33m\u001b[0m\u001b[0m\n\u001b[0;32m      3\u001b[0m                                         \u001b[1;33m(\u001b[0m\u001b[1;34m\"txt1\"\u001b[0m\u001b[1;33m,\u001b[0m \u001b[0mtxt_pipe\u001b[0m\u001b[1;33m,\u001b[0m \u001b[1;34m\"originalLanguage\"\u001b[0m\u001b[1;33m)\u001b[0m\u001b[1;33m,\u001b[0m\u001b[1;33m\u001b[0m\u001b[1;33m\u001b[0m\u001b[0m\n\u001b[0;32m      4\u001b[0m                                         \u001b[1;33m(\u001b[0m\u001b[1;34m\"txt2\"\u001b[0m\u001b[1;33m,\u001b[0m \u001b[0mtxt_pipe\u001b[0m\u001b[1;33m,\u001b[0m \u001b[1;34m\"genre\"\u001b[0m\u001b[1;33m)\u001b[0m\u001b[1;33m,\u001b[0m\u001b[1;33m\u001b[0m\u001b[1;33m\u001b[0m\u001b[0m\n\u001b[0;32m      5\u001b[0m                                         \u001b[1;33m(\u001b[0m\u001b[1;34m\"txt3\"\u001b[0m\u001b[1;33m,\u001b[0m \u001b[0mtxt_pipe\u001b[0m\u001b[1;33m,\u001b[0m \u001b[1;34m\"director\"\u001b[0m\u001b[1;33m)\u001b[0m\u001b[1;33m,\u001b[0m\u001b[1;33m\u001b[0m\u001b[1;33m\u001b[0m\u001b[0m\n",
      "\u001b[1;31mNameError\u001b[0m: name 'ColumnTransformer' is not defined"
     ]
    }
   ],
   "source": [
    "ct_final = ColumnTransformer(transformers=[\n",
    "                                        (\"num\", num_pipe, num_vars),\n",
    "                                        (\"txt1\", txt_pipe, \"originalLanguage\"),\n",
    "                                        (\"txt2\", txt_pipe, \"genre\"),\n",
    "                                        (\"txt3\", txt_pipe, \"director\"),\n",
    "                                        (\"cat\", cat_pipe, cat_vars),\n",
    "                                        (\"txt4\", TfidfVectorizer(ngram_range=(1,2)), \"reviewText\"),\n",
    "                                        (\"cat2\", cat_pipe, [\"isFrequentReviewer\"])\n",
    "                                        ], remainder=\"drop\", n_jobs=1)\n",
    "\n",
    "# Note that this transformer drops \"movieid\" column\n",
    "ct_final"
   ]
  },
  {
   "cell_type": "code",
   "execution_count": 131,
   "metadata": {},
   "outputs": [],
   "source": [
    "train_vars = [\"reviewText\", \"isFrequentReviewer\"]"
   ]
  },
  {
   "cell_type": "code",
   "execution_count": 132,
   "metadata": {},
   "outputs": [
    {
     "data": {
      "text/plain": [
       "['audienceScore',\n",
       " 'runtimeMinutes',\n",
       " 'originalLanguage',\n",
       " 'genre',\n",
       " 'director',\n",
       " 'rating',\n",
       " 'reviewText',\n",
       " 'isFrequentReviewer']"
      ]
     },
     "execution_count": 132,
     "metadata": {},
     "output_type": "execute_result"
    }
   ],
   "source": [
    "final_vars = num_vars + txt_vars + cat_vars + train_vars\n",
    "final_vars"
   ]
  },
  {
   "cell_type": "code",
   "execution_count": 133,
   "metadata": {},
   "outputs": [
    {
     "data": {
      "text/plain": [
       "Pipeline(steps=[('preprocessor',\n",
       "                 ColumnTransformer(n_jobs=1,\n",
       "                                   transformers=[('num',\n",
       "                                                  Pipeline(steps=[('imputer',\n",
       "                                                                   SimpleImputer()),\n",
       "                                                                  ('scaler',\n",
       "                                                                   MinMaxScaler())]),\n",
       "                                                  ['audienceScore',\n",
       "                                                   'runtimeMinutes']),\n",
       "                                                 ('txt1',\n",
       "                                                  Pipeline(steps=[('tvec',\n",
       "                                                                   TfidfVectorizer())]),\n",
       "                                                  'originalLanguage'),\n",
       "                                                 ('txt2',\n",
       "                                                  Pipeline(steps=[('tvec',\n",
       "                                                                   TfidfVectorizer())]),\n",
       "                                                  'genre'),\n",
       "                                                 ('txt3',\n",
       "                                                  Pipeline(steps=[('tvec',\n",
       "                                                                   TfidfVectorizer())]),\n",
       "                                                  'director'),\n",
       "                                                 ('cat',\n",
       "                                                  Pipeline(steps=[('ohe',\n",
       "                                                                   OneHotEncoder(handle_unknown='ignore'))]),\n",
       "                                                  ['rating']),\n",
       "                                                 ('txt4',\n",
       "                                                  TfidfVectorizer(ngram_range=(1,\n",
       "                                                                               2)),\n",
       "                                                  'reviewText'),\n",
       "                                                 ('cat2',\n",
       "                                                  Pipeline(steps=[('ohe',\n",
       "                                                                   OneHotEncoder(handle_unknown='ignore'))]),\n",
       "                                                  ['isFrequentReviewer'])])),\n",
       "                ('model', LogisticRegression(max_iter=100000))])"
      ]
     },
     "execution_count": 133,
     "metadata": {},
     "output_type": "execute_result"
    }
   ],
   "source": [
    "pipe_final = Pipeline(steps=[\n",
    "                        (\"preprocessor\", ct_final),\n",
    "                        (\"model\", LogisticRegression(max_iter=100000))\n",
    "                    ])\n",
    "pipe_final"
   ]
  },
  {
   "cell_type": "code",
   "execution_count": 134,
   "metadata": {},
   "outputs": [
    {
     "name": "stdout",
     "output_type": "stream",
     "text": [
      "              precision    recall  f1-score   support\n",
      "\n",
      "    NEGATIVE       0.80      0.64      0.71     13717\n",
      "    POSITIVE       0.83      0.92      0.87     26973\n",
      "\n",
      "    accuracy                           0.82     40690\n",
      "   macro avg       0.81      0.78      0.79     40690\n",
      "weighted avg       0.82      0.82      0.82     40690\n",
      "\n",
      "[[ 8711  5006]\n",
      " [ 2218 24755]]\n"
     ]
    }
   ],
   "source": [
    "split_train_predict(merged[final_vars], merged[\"sentiment\"], pipe_final)"
   ]
  }
 ],
 "metadata": {
  "kernelspec": {
   "display_name": "Python 3",
   "language": "python",
   "name": "python3"
  },
  "language_info": {
   "codemirror_mode": {
    "name": "ipython",
    "version": 3
   },
   "file_extension": ".py",
   "mimetype": "text/x-python",
   "name": "python",
   "nbconvert_exporter": "python",
   "pygments_lexer": "ipython3",
   "version": "3.9.7"
  },
  "orig_nbformat": 4
 },
 "nbformat": 4,
 "nbformat_minor": 2
}
