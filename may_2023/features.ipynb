{
 "cells": [
  {
   "cell_type": "code",
   "execution_count": 6,
   "metadata": {},
   "outputs": [
    {
     "name": "stdout",
     "output_type": "stream",
     "text": [
      "Successfully imported libraries!\n"
     ]
    }
   ],
   "source": [
    "from mytools import *\n",
    "\n",
    "import pandas as pd\n",
    "import numpy as np\n",
    "import matplotlib.pyplot as plt\n",
    "import seaborn as sns\n",
    "import os\n",
    "import re\n",
    "import datetime\n",
    "\n",
    "from sklearn.feature_extraction.text import CountVectorizer, TfidfVectorizer\n",
    "from sklearn.model_selection import train_test_split, cross_val_score, GridSearchCV\n",
    "from sklearn.linear_model import LogisticRegression\n",
    "from sklearn.metrics import confusion_matrix, classification_report\n",
    "from sklearn.pipeline import Pipeline\n",
    "from sklearn.compose import ColumnTransformer\n",
    "\n",
    "print(\"Successfully imported libraries!\")"
   ]
  },
  {
   "attachments": {},
   "cell_type": "markdown",
   "metadata": {},
   "source": [
    "## Train data   "
   ]
  },
  {
   "cell_type": "code",
   "execution_count": 9,
   "metadata": {},
   "outputs": [
    {
     "data": {
      "text/html": [
       "<div>\n",
       "<style scoped>\n",
       "    .dataframe tbody tr th:only-of-type {\n",
       "        vertical-align: middle;\n",
       "    }\n",
       "\n",
       "    .dataframe tbody tr th {\n",
       "        vertical-align: top;\n",
       "    }\n",
       "\n",
       "    .dataframe thead th {\n",
       "        text-align: right;\n",
       "    }\n",
       "</style>\n",
       "<table border=\"1\" class=\"dataframe\">\n",
       "  <thead>\n",
       "    <tr style=\"text-align: right;\">\n",
       "      <th></th>\n",
       "      <th>movieid</th>\n",
       "      <th>reviewerName</th>\n",
       "      <th>isFrequentReviewer</th>\n",
       "      <th>reviewText</th>\n",
       "      <th>sentiment</th>\n",
       "    </tr>\n",
       "  </thead>\n",
       "  <tbody>\n",
       "    <tr>\n",
       "      <th>0</th>\n",
       "      <td>marvelous_pirate</td>\n",
       "      <td>Benjamin Henry</td>\n",
       "      <td>False</td>\n",
       "      <td>Henry Selick’s first movie since 2009’s Corali...</td>\n",
       "      <td>POSITIVE</td>\n",
       "    </tr>\n",
       "    <tr>\n",
       "      <th>1</th>\n",
       "      <td>tony_montana_frodo_baggins_v_rocky_balboa</td>\n",
       "      <td>Felicia Lopez</td>\n",
       "      <td>False</td>\n",
       "      <td>With a cast that reads like the Vogue Oscar pa...</td>\n",
       "      <td>NEGATIVE</td>\n",
       "    </tr>\n",
       "    <tr>\n",
       "      <th>2</th>\n",
       "      <td>darth_vader_katniss_everdeen_sorcerer_donnie_d...</td>\n",
       "      <td>Mr. Charles Burgess</td>\n",
       "      <td>True</td>\n",
       "      <td>Creed II does not give us anything but another...</td>\n",
       "      <td>POSITIVE</td>\n",
       "    </tr>\n",
       "    <tr>\n",
       "      <th>3</th>\n",
       "      <td>lara_croft_glimmer</td>\n",
       "      <td>Ryan Barrett</td>\n",
       "      <td>False</td>\n",
       "      <td>I know what you're thinking, but this is no Li...</td>\n",
       "      <td>POSITIVE</td>\n",
       "    </tr>\n",
       "    <tr>\n",
       "      <th>4</th>\n",
       "      <td>jason_bourne_surreal_the_terminator_indiana_jones</td>\n",
       "      <td>Alexander Glover</td>\n",
       "      <td>False</td>\n",
       "      <td>Director Fernando Meirelles tells the story wi...</td>\n",
       "      <td>POSITIVE</td>\n",
       "    </tr>\n",
       "  </tbody>\n",
       "</table>\n",
       "</div>"
      ],
      "text/plain": [
       "                                             movieid         reviewerName  \\\n",
       "0                                   marvelous_pirate       Benjamin Henry   \n",
       "1          tony_montana_frodo_baggins_v_rocky_balboa        Felicia Lopez   \n",
       "2  darth_vader_katniss_everdeen_sorcerer_donnie_d...  Mr. Charles Burgess   \n",
       "3                                 lara_croft_glimmer         Ryan Barrett   \n",
       "4  jason_bourne_surreal_the_terminator_indiana_jones     Alexander Glover   \n",
       "\n",
       "   isFrequentReviewer                                         reviewText  \\\n",
       "0               False  Henry Selick’s first movie since 2009’s Corali...   \n",
       "1               False  With a cast that reads like the Vogue Oscar pa...   \n",
       "2                True  Creed II does not give us anything but another...   \n",
       "3               False  I know what you're thinking, but this is no Li...   \n",
       "4               False  Director Fernando Meirelles tells the story wi...   \n",
       "\n",
       "  sentiment  \n",
       "0  POSITIVE  \n",
       "1  NEGATIVE  \n",
       "2  POSITIVE  \n",
       "3  POSITIVE  \n",
       "4  POSITIVE  "
      ]
     },
     "execution_count": 9,
     "metadata": {},
     "output_type": "execute_result"
    }
   ],
   "source": [
    "traindf = load_csv(\"train\")\n",
    "traindf.head()"
   ]
  },
  {
   "cell_type": "code",
   "execution_count": 16,
   "metadata": {},
   "outputs": [
    {
     "data": {
      "text/plain": [
       "(162758, 5)"
      ]
     },
     "execution_count": 16,
     "metadata": {},
     "output_type": "execute_result"
    }
   ],
   "source": [
    "traindf.shape"
   ]
  },
  {
   "cell_type": "code",
   "execution_count": 17,
   "metadata": {},
   "outputs": [
    {
     "data": {
      "text/plain": [
       "Index(['movieid', 'reviewerName', 'isFrequentReviewer', 'reviewText',\n",
       "       'sentiment'],\n",
       "      dtype='object')"
      ]
     },
     "execution_count": 17,
     "metadata": {},
     "output_type": "execute_result"
    }
   ],
   "source": [
    "traindf.columns"
   ]
  },
  {
   "cell_type": "code",
   "execution_count": 14,
   "metadata": {},
   "outputs": [
    {
     "name": "stdout",
     "output_type": "stream",
     "text": [
      "<class 'pandas.core.frame.DataFrame'>\n",
      "RangeIndex: 162758 entries, 0 to 162757\n",
      "Data columns (total 5 columns):\n",
      " #   Column              Non-Null Count   Dtype \n",
      "---  ------              --------------   ----- \n",
      " 0   movieid             162758 non-null  object\n",
      " 1   reviewerName        162758 non-null  object\n",
      " 2   isFrequentReviewer  162758 non-null  bool  \n",
      " 3   reviewText          156311 non-null  object\n",
      " 4   sentiment           162758 non-null  object\n",
      "dtypes: bool(1), object(4)\n",
      "memory usage: 5.1+ MB\n"
     ]
    }
   ],
   "source": [
    "traindf.info()"
   ]
  },
  {
   "cell_type": "code",
   "execution_count": 15,
   "metadata": {},
   "outputs": [
    {
     "data": {
      "text/plain": [
       "movieid                  0\n",
       "reviewerName             0\n",
       "isFrequentReviewer       0\n",
       "reviewText            6447\n",
       "sentiment                0\n",
       "dtype: int64"
      ]
     },
     "execution_count": 15,
     "metadata": {},
     "output_type": "execute_result"
    }
   ],
   "source": [
    "traindf.isna().sum()"
   ]
  },
  {
   "attachments": {},
   "cell_type": "markdown",
   "metadata": {},
   "source": [
    "## Movies data  "
   ]
  },
  {
   "cell_type": "code",
   "execution_count": 10,
   "metadata": {},
   "outputs": [
    {
     "data": {
      "text/html": [
       "<div>\n",
       "<style scoped>\n",
       "    .dataframe tbody tr th:only-of-type {\n",
       "        vertical-align: middle;\n",
       "    }\n",
       "\n",
       "    .dataframe tbody tr th {\n",
       "        vertical-align: top;\n",
       "    }\n",
       "\n",
       "    .dataframe thead th {\n",
       "        text-align: right;\n",
       "    }\n",
       "</style>\n",
       "<table border=\"1\" class=\"dataframe\">\n",
       "  <thead>\n",
       "    <tr style=\"text-align: right;\">\n",
       "      <th></th>\n",
       "      <th>movieid</th>\n",
       "      <th>title</th>\n",
       "      <th>audienceScore</th>\n",
       "      <th>rating</th>\n",
       "      <th>ratingContents</th>\n",
       "      <th>releaseDateTheaters</th>\n",
       "      <th>releaseDateStreaming</th>\n",
       "      <th>runtimeMinutes</th>\n",
       "      <th>genre</th>\n",
       "      <th>originalLanguage</th>\n",
       "      <th>director</th>\n",
       "      <th>boxOffice</th>\n",
       "      <th>distributor</th>\n",
       "      <th>soundType</th>\n",
       "    </tr>\n",
       "  </thead>\n",
       "  <tbody>\n",
       "    <tr>\n",
       "      <th>0</th>\n",
       "      <td>han_solo_heroic_myth_wonder_woman</td>\n",
       "      <td>Han Solo Heroic Myth Wonder Woman</td>\n",
       "      <td>50.0</td>\n",
       "      <td>NaN</td>\n",
       "      <td>NaN</td>\n",
       "      <td>NaN</td>\n",
       "      <td>2018-08-25</td>\n",
       "      <td>75.0</td>\n",
       "      <td>Comedy, Horror, Sci-fi</td>\n",
       "      <td>English</td>\n",
       "      <td>Claude Nicolet</td>\n",
       "      <td>NaN</td>\n",
       "      <td>NaN</td>\n",
       "      <td>NaN</td>\n",
       "    </tr>\n",
       "    <tr>\n",
       "      <th>1</th>\n",
       "      <td>voyage_tyler_durden_han_solo_stardust</td>\n",
       "      <td>Voyage Tyler Durden Han Solo Stardust</td>\n",
       "      <td>NaN</td>\n",
       "      <td>NaN</td>\n",
       "      <td>NaN</td>\n",
       "      <td>NaN</td>\n",
       "      <td>2020-02-11</td>\n",
       "      <td>114.0</td>\n",
       "      <td>Drama</td>\n",
       "      <td>English</td>\n",
       "      <td>Nathan Haack</td>\n",
       "      <td>NaN</td>\n",
       "      <td>NaN</td>\n",
       "      <td>NaN</td>\n",
       "    </tr>\n",
       "    <tr>\n",
       "      <th>2</th>\n",
       "      <td>norman_bates_ferris_bueller_hermione_granger_v...</td>\n",
       "      <td>Norman Bates Ferris Bueller Hermione Granger V...</td>\n",
       "      <td>43.0</td>\n",
       "      <td>NaN</td>\n",
       "      <td>NaN</td>\n",
       "      <td>NaN</td>\n",
       "      <td>NaN</td>\n",
       "      <td>120.0</td>\n",
       "      <td>Drama</td>\n",
       "      <td>Korean</td>\n",
       "      <td>Theresa Smith</td>\n",
       "      <td>NaN</td>\n",
       "      <td>NaN</td>\n",
       "      <td>NaN</td>\n",
       "    </tr>\n",
       "    <tr>\n",
       "      <th>3</th>\n",
       "      <td>elegant_hermione_granger</td>\n",
       "      <td>Elegant Hermione Granger</td>\n",
       "      <td>60.0</td>\n",
       "      <td>NaN</td>\n",
       "      <td>NaN</td>\n",
       "      <td>NaN</td>\n",
       "      <td>2020-10-23</td>\n",
       "      <td>90.0</td>\n",
       "      <td>Action, Mystery &amp; thriller</td>\n",
       "      <td>English</td>\n",
       "      <td>Donald Lewis</td>\n",
       "      <td>NaN</td>\n",
       "      <td>NaN</td>\n",
       "      <td>NaN</td>\n",
       "    </tr>\n",
       "    <tr>\n",
       "      <th>4</th>\n",
       "      <td>adventure_rocky_balboa</td>\n",
       "      <td>Adventure Rocky Balboa</td>\n",
       "      <td>70.0</td>\n",
       "      <td>NaN</td>\n",
       "      <td>NaN</td>\n",
       "      <td>NaN</td>\n",
       "      <td>2017-03-27</td>\n",
       "      <td>80.0</td>\n",
       "      <td>Fantasy, Adventure, Animation</td>\n",
       "      <td>English</td>\n",
       "      <td>Howard Simms</td>\n",
       "      <td>NaN</td>\n",
       "      <td>NaN</td>\n",
       "      <td>NaN</td>\n",
       "    </tr>\n",
       "  </tbody>\n",
       "</table>\n",
       "</div>"
      ],
      "text/plain": [
       "                                             movieid  \\\n",
       "0                  han_solo_heroic_myth_wonder_woman   \n",
       "1              voyage_tyler_durden_han_solo_stardust   \n",
       "2  norman_bates_ferris_bueller_hermione_granger_v...   \n",
       "3                           elegant_hermione_granger   \n",
       "4                             adventure_rocky_balboa   \n",
       "\n",
       "                                               title  audienceScore rating  \\\n",
       "0                  Han Solo Heroic Myth Wonder Woman           50.0    NaN   \n",
       "1              Voyage Tyler Durden Han Solo Stardust            NaN    NaN   \n",
       "2  Norman Bates Ferris Bueller Hermione Granger V...           43.0    NaN   \n",
       "3                           Elegant Hermione Granger           60.0    NaN   \n",
       "4                             Adventure Rocky Balboa           70.0    NaN   \n",
       "\n",
       "  ratingContents releaseDateTheaters releaseDateStreaming  runtimeMinutes  \\\n",
       "0            NaN                 NaN           2018-08-25            75.0   \n",
       "1            NaN                 NaN           2020-02-11           114.0   \n",
       "2            NaN                 NaN                  NaN           120.0   \n",
       "3            NaN                 NaN           2020-10-23            90.0   \n",
       "4            NaN                 NaN           2017-03-27            80.0   \n",
       "\n",
       "                           genre originalLanguage        director boxOffice  \\\n",
       "0         Comedy, Horror, Sci-fi          English  Claude Nicolet       NaN   \n",
       "1                          Drama          English    Nathan Haack       NaN   \n",
       "2                          Drama           Korean   Theresa Smith       NaN   \n",
       "3     Action, Mystery & thriller          English    Donald Lewis       NaN   \n",
       "4  Fantasy, Adventure, Animation          English    Howard Simms       NaN   \n",
       "\n",
       "  distributor soundType  \n",
       "0         NaN       NaN  \n",
       "1         NaN       NaN  \n",
       "2         NaN       NaN  \n",
       "3         NaN       NaN  \n",
       "4         NaN       NaN  "
      ]
     },
     "execution_count": 10,
     "metadata": {},
     "output_type": "execute_result"
    }
   ],
   "source": [
    "moviesdf = load_csv(\"movies\")\n",
    "moviesdf.head()"
   ]
  },
  {
   "cell_type": "code",
   "execution_count": 19,
   "metadata": {},
   "outputs": [
    {
     "data": {
      "text/plain": [
       "(143258, 14)"
      ]
     },
     "execution_count": 19,
     "metadata": {},
     "output_type": "execute_result"
    }
   ],
   "source": [
    "moviesdf.shape"
   ]
  },
  {
   "cell_type": "code",
   "execution_count": 20,
   "metadata": {},
   "outputs": [
    {
     "data": {
      "text/plain": [
       "Index(['movieid', 'title', 'audienceScore', 'rating', 'ratingContents',\n",
       "       'releaseDateTheaters', 'releaseDateStreaming', 'runtimeMinutes',\n",
       "       'genre', 'originalLanguage', 'director', 'boxOffice', 'distributor',\n",
       "       'soundType'],\n",
       "      dtype='object')"
      ]
     },
     "execution_count": 20,
     "metadata": {},
     "output_type": "execute_result"
    }
   ],
   "source": [
    "moviesdf.columns"
   ]
  },
  {
   "cell_type": "code",
   "execution_count": 11,
   "metadata": {},
   "outputs": [
    {
     "name": "stdout",
     "output_type": "stream",
     "text": [
      "<class 'pandas.core.frame.DataFrame'>\n",
      "RangeIndex: 143258 entries, 0 to 143257\n",
      "Data columns (total 14 columns):\n",
      " #   Column                Non-Null Count   Dtype  \n",
      "---  ------                --------------   -----  \n",
      " 0   movieid               143258 non-null  object \n",
      " 1   title                 143258 non-null  object \n",
      " 2   audienceScore         73248 non-null   float64\n",
      " 3   rating                13991 non-null   object \n",
      " 4   ratingContents        13991 non-null   object \n",
      " 5   releaseDateTheaters   30773 non-null   object \n",
      " 6   releaseDateStreaming  79420 non-null   object \n",
      " 7   runtimeMinutes        129431 non-null  float64\n",
      " 8   genre                 132175 non-null  object \n",
      " 9   originalLanguage      129400 non-null  object \n",
      " 10  director              143258 non-null  object \n",
      " 11  boxOffice             14743 non-null   object \n",
      " 12  distributor           23005 non-null   object \n",
      " 13  soundType             15917 non-null   object \n",
      "dtypes: float64(2), object(12)\n",
      "memory usage: 15.3+ MB\n"
     ]
    }
   ],
   "source": [
    "moviesdf.info()"
   ]
  },
  {
   "cell_type": "code",
   "execution_count": 12,
   "metadata": {},
   "outputs": [
    {
     "data": {
      "text/plain": [
       "movieid                      0\n",
       "title                        0\n",
       "audienceScore            70010\n",
       "rating                  129267\n",
       "ratingContents          129267\n",
       "releaseDateTheaters     112485\n",
       "releaseDateStreaming     63838\n",
       "runtimeMinutes           13827\n",
       "genre                    11083\n",
       "originalLanguage         13858\n",
       "director                     0\n",
       "boxOffice               128515\n",
       "distributor             120253\n",
       "soundType               127341\n",
       "dtype: int64"
      ]
     },
     "execution_count": 12,
     "metadata": {},
     "output_type": "execute_result"
    }
   ],
   "source": [
    "moviesdf.isna().sum()"
   ]
  },
  {
   "cell_type": "code",
   "execution_count": 23,
   "metadata": {},
   "outputs": [
    {
     "data": {
      "text/plain": [
       "(126404, 14)"
      ]
     },
     "execution_count": 23,
     "metadata": {},
     "output_type": "execute_result"
    }
   ],
   "source": [
    "movies_unique = moviesdf.copy()\n",
    "# movies_unique[\"movieid\"].astype(\"str\", inplace=True)\n",
    "movies_unique.drop_duplicates(subset=[\"movieid\"], inplace=True)\n",
    "movies_unique.shape"
   ]
  },
  {
   "cell_type": "code",
   "execution_count": 13,
   "metadata": {},
   "outputs": [
    {
     "name": "stdout",
     "output_type": "stream",
     "text": [
      "\u001b[1;31mSignature:\u001b[0m\n",
      "\u001b[0mpd\u001b[0m\u001b[1;33m.\u001b[0m\u001b[0mmerge\u001b[0m\u001b[1;33m(\u001b[0m\u001b[1;33m\n",
      "\u001b[0m    \u001b[0mleft\u001b[0m\u001b[1;33m:\u001b[0m \u001b[1;34m'DataFrame | Series'\u001b[0m\u001b[1;33m,\u001b[0m\u001b[1;33m\n",
      "\u001b[0m    \u001b[0mright\u001b[0m\u001b[1;33m:\u001b[0m \u001b[1;34m'DataFrame | Series'\u001b[0m\u001b[1;33m,\u001b[0m\u001b[1;33m\n",
      "\u001b[0m    \u001b[0mhow\u001b[0m\u001b[1;33m:\u001b[0m \u001b[1;34m'str'\u001b[0m \u001b[1;33m=\u001b[0m \u001b[1;34m'inner'\u001b[0m\u001b[1;33m,\u001b[0m\u001b[1;33m\n",
      "\u001b[0m    \u001b[0mon\u001b[0m\u001b[1;33m:\u001b[0m \u001b[1;34m'IndexLabel | None'\u001b[0m \u001b[1;33m=\u001b[0m \u001b[1;32mNone\u001b[0m\u001b[1;33m,\u001b[0m\u001b[1;33m\n",
      "\u001b[0m    \u001b[0mleft_on\u001b[0m\u001b[1;33m:\u001b[0m \u001b[1;34m'IndexLabel | None'\u001b[0m \u001b[1;33m=\u001b[0m \u001b[1;32mNone\u001b[0m\u001b[1;33m,\u001b[0m\u001b[1;33m\n",
      "\u001b[0m    \u001b[0mright_on\u001b[0m\u001b[1;33m:\u001b[0m \u001b[1;34m'IndexLabel | None'\u001b[0m \u001b[1;33m=\u001b[0m \u001b[1;32mNone\u001b[0m\u001b[1;33m,\u001b[0m\u001b[1;33m\n",
      "\u001b[0m    \u001b[0mleft_index\u001b[0m\u001b[1;33m:\u001b[0m \u001b[1;34m'bool'\u001b[0m \u001b[1;33m=\u001b[0m \u001b[1;32mFalse\u001b[0m\u001b[1;33m,\u001b[0m\u001b[1;33m\n",
      "\u001b[0m    \u001b[0mright_index\u001b[0m\u001b[1;33m:\u001b[0m \u001b[1;34m'bool'\u001b[0m \u001b[1;33m=\u001b[0m \u001b[1;32mFalse\u001b[0m\u001b[1;33m,\u001b[0m\u001b[1;33m\n",
      "\u001b[0m    \u001b[0msort\u001b[0m\u001b[1;33m:\u001b[0m \u001b[1;34m'bool'\u001b[0m \u001b[1;33m=\u001b[0m \u001b[1;32mFalse\u001b[0m\u001b[1;33m,\u001b[0m\u001b[1;33m\n",
      "\u001b[0m    \u001b[0msuffixes\u001b[0m\u001b[1;33m:\u001b[0m \u001b[1;34m'Suffixes'\u001b[0m \u001b[1;33m=\u001b[0m \u001b[1;33m(\u001b[0m\u001b[1;34m'_x'\u001b[0m\u001b[1;33m,\u001b[0m \u001b[1;34m'_y'\u001b[0m\u001b[1;33m)\u001b[0m\u001b[1;33m,\u001b[0m\u001b[1;33m\n",
      "\u001b[0m    \u001b[0mcopy\u001b[0m\u001b[1;33m:\u001b[0m \u001b[1;34m'bool'\u001b[0m \u001b[1;33m=\u001b[0m \u001b[1;32mTrue\u001b[0m\u001b[1;33m,\u001b[0m\u001b[1;33m\n",
      "\u001b[0m    \u001b[0mindicator\u001b[0m\u001b[1;33m:\u001b[0m \u001b[1;34m'bool'\u001b[0m \u001b[1;33m=\u001b[0m \u001b[1;32mFalse\u001b[0m\u001b[1;33m,\u001b[0m\u001b[1;33m\n",
      "\u001b[0m    \u001b[0mvalidate\u001b[0m\u001b[1;33m:\u001b[0m \u001b[1;34m'str | None'\u001b[0m \u001b[1;33m=\u001b[0m \u001b[1;32mNone\u001b[0m\u001b[1;33m,\u001b[0m\u001b[1;33m\n",
      "\u001b[0m\u001b[1;33m)\u001b[0m \u001b[1;33m->\u001b[0m \u001b[1;34m'DataFrame'\u001b[0m\u001b[1;33m\u001b[0m\u001b[1;33m\u001b[0m\u001b[0m\n",
      "\u001b[1;31mDocstring:\u001b[0m\n",
      "Merge DataFrame or named Series objects with a database-style join.\n",
      "\n",
      "A named Series object is treated as a DataFrame with a single named column.\n",
      "\n",
      "The join is done on columns or indexes. If joining columns on\n",
      "columns, the DataFrame indexes *will be ignored*. Otherwise if joining indexes\n",
      "on indexes or indexes on a column or columns, the index will be passed on.\n",
      "When performing a cross merge, no column specifications to merge on are\n",
      "allowed.\n",
      "\n",
      ".. warning::\n",
      "\n",
      "    If both key columns contain rows where the key is a null value, those\n",
      "    rows will be matched against each other. This is different from usual SQL\n",
      "    join behaviour and can lead to unexpected results.\n",
      "\n",
      "Parameters\n",
      "----------\n",
      "left : DataFrame\n",
      "right : DataFrame or named Series\n",
      "    Object to merge with.\n",
      "how : {'left', 'right', 'outer', 'inner', 'cross'}, default 'inner'\n",
      "    Type of merge to be performed.\n",
      "\n",
      "    * left: use only keys from left frame, similar to a SQL left outer join;\n",
      "      preserve key order.\n",
      "    * right: use only keys from right frame, similar to a SQL right outer join;\n",
      "      preserve key order.\n",
      "    * outer: use union of keys from both frames, similar to a SQL full outer\n",
      "      join; sort keys lexicographically.\n",
      "    * inner: use intersection of keys from both frames, similar to a SQL inner\n",
      "      join; preserve the order of the left keys.\n",
      "    * cross: creates the cartesian product from both frames, preserves the order\n",
      "      of the left keys.\n",
      "\n",
      "      .. versionadded:: 1.2.0\n",
      "\n",
      "on : label or list\n",
      "    Column or index level names to join on. These must be found in both\n",
      "    DataFrames. If `on` is None and not merging on indexes then this defaults\n",
      "    to the intersection of the columns in both DataFrames.\n",
      "left_on : label or list, or array-like\n",
      "    Column or index level names to join on in the left DataFrame. Can also\n",
      "    be an array or list of arrays of the length of the left DataFrame.\n",
      "    These arrays are treated as if they are columns.\n",
      "right_on : label or list, or array-like\n",
      "    Column or index level names to join on in the right DataFrame. Can also\n",
      "    be an array or list of arrays of the length of the right DataFrame.\n",
      "    These arrays are treated as if they are columns.\n",
      "left_index : bool, default False\n",
      "    Use the index from the left DataFrame as the join key(s). If it is a\n",
      "    MultiIndex, the number of keys in the other DataFrame (either the index\n",
      "    or a number of columns) must match the number of levels.\n",
      "right_index : bool, default False\n",
      "    Use the index from the right DataFrame as the join key. Same caveats as\n",
      "    left_index.\n",
      "sort : bool, default False\n",
      "    Sort the join keys lexicographically in the result DataFrame. If False,\n",
      "    the order of the join keys depends on the join type (how keyword).\n",
      "suffixes : list-like, default is (\"_x\", \"_y\")\n",
      "    A length-2 sequence where each element is optionally a string\n",
      "    indicating the suffix to add to overlapping column names in\n",
      "    `left` and `right` respectively. Pass a value of `None` instead\n",
      "    of a string to indicate that the column name from `left` or\n",
      "    `right` should be left as-is, with no suffix. At least one of the\n",
      "    values must not be None.\n",
      "copy : bool, default True\n",
      "    If False, avoid copy if possible.\n",
      "indicator : bool or str, default False\n",
      "    If True, adds a column to the output DataFrame called \"_merge\" with\n",
      "    information on the source of each row. The column can be given a different\n",
      "    name by providing a string argument. The column will have a Categorical\n",
      "    type with the value of \"left_only\" for observations whose merge key only\n",
      "    appears in the left DataFrame, \"right_only\" for observations\n",
      "    whose merge key only appears in the right DataFrame, and \"both\"\n",
      "    if the observation's merge key is found in both DataFrames.\n",
      "\n",
      "validate : str, optional\n",
      "    If specified, checks if merge is of specified type.\n",
      "\n",
      "    * \"one_to_one\" or \"1:1\": check if merge keys are unique in both\n",
      "      left and right datasets.\n",
      "    * \"one_to_many\" or \"1:m\": check if merge keys are unique in left\n",
      "      dataset.\n",
      "    * \"many_to_one\" or \"m:1\": check if merge keys are unique in right\n",
      "      dataset.\n",
      "    * \"many_to_many\" or \"m:m\": allowed, but does not result in checks.\n",
      "\n",
      "Returns\n",
      "-------\n",
      "DataFrame\n",
      "    A DataFrame of the two merged objects.\n",
      "\n",
      "See Also\n",
      "--------\n",
      "merge_ordered : Merge with optional filling/interpolation.\n",
      "merge_asof : Merge on nearest keys.\n",
      "DataFrame.join : Similar method using indices.\n",
      "\n",
      "Notes\n",
      "-----\n",
      "Support for specifying index levels as the `on`, `left_on`, and\n",
      "`right_on` parameters was added in version 0.23.0\n",
      "Support for merging named Series objects was added in version 0.24.0\n",
      "\n",
      "Examples\n",
      "--------\n",
      ">>> df1 = pd.DataFrame({'lkey': ['foo', 'bar', 'baz', 'foo'],\n",
      "...                     'value': [1, 2, 3, 5]})\n",
      ">>> df2 = pd.DataFrame({'rkey': ['foo', 'bar', 'baz', 'foo'],\n",
      "...                     'value': [5, 6, 7, 8]})\n",
      ">>> df1\n",
      "    lkey value\n",
      "0   foo      1\n",
      "1   bar      2\n",
      "2   baz      3\n",
      "3   foo      5\n",
      ">>> df2\n",
      "    rkey value\n",
      "0   foo      5\n",
      "1   bar      6\n",
      "2   baz      7\n",
      "3   foo      8\n",
      "\n",
      "Merge df1 and df2 on the lkey and rkey columns. The value columns have\n",
      "the default suffixes, _x and _y, appended.\n",
      "\n",
      ">>> df1.merge(df2, left_on='lkey', right_on='rkey')\n",
      "  lkey  value_x rkey  value_y\n",
      "0  foo        1  foo        5\n",
      "1  foo        1  foo        8\n",
      "2  foo        5  foo        5\n",
      "3  foo        5  foo        8\n",
      "4  bar        2  bar        6\n",
      "5  baz        3  baz        7\n",
      "\n",
      "Merge DataFrames df1 and df2 with specified left and right suffixes\n",
      "appended to any overlapping columns.\n",
      "\n",
      ">>> df1.merge(df2, left_on='lkey', right_on='rkey',\n",
      "...           suffixes=('_left', '_right'))\n",
      "  lkey  value_left rkey  value_right\n",
      "0  foo           1  foo            5\n",
      "1  foo           1  foo            8\n",
      "2  foo           5  foo            5\n",
      "3  foo           5  foo            8\n",
      "4  bar           2  bar            6\n",
      "5  baz           3  baz            7\n",
      "\n",
      "Merge DataFrames df1 and df2, but raise an exception if the DataFrames have\n",
      "any overlapping columns.\n",
      "\n",
      ">>> df1.merge(df2, left_on='lkey', right_on='rkey', suffixes=(False, False))\n",
      "Traceback (most recent call last):\n",
      "...\n",
      "ValueError: columns overlap but no suffix specified:\n",
      "    Index(['value'], dtype='object')\n",
      "\n",
      ">>> df1 = pd.DataFrame({'a': ['foo', 'bar'], 'b': [1, 2]})\n",
      ">>> df2 = pd.DataFrame({'a': ['foo', 'baz'], 'c': [3, 4]})\n",
      ">>> df1\n",
      "      a  b\n",
      "0   foo  1\n",
      "1   bar  2\n",
      ">>> df2\n",
      "      a  c\n",
      "0   foo  3\n",
      "1   baz  4\n",
      "\n",
      ">>> df1.merge(df2, how='inner', on='a')\n",
      "      a  b  c\n",
      "0   foo  1  3\n",
      "\n",
      ">>> df1.merge(df2, how='left', on='a')\n",
      "      a  b  c\n",
      "0   foo  1  3.0\n",
      "1   bar  2  NaN\n",
      "\n",
      ">>> df1 = pd.DataFrame({'left': ['foo', 'bar']})\n",
      ">>> df2 = pd.DataFrame({'right': [7, 8]})\n",
      ">>> df1\n",
      "    left\n",
      "0   foo\n",
      "1   bar\n",
      ">>> df2\n",
      "    right\n",
      "0   7\n",
      "1   8\n",
      "\n",
      ">>> df1.merge(df2, how='cross')\n",
      "   left  right\n",
      "0   foo      7\n",
      "1   foo      8\n",
      "2   bar      7\n",
      "3   bar      8\n",
      "\u001b[1;31mFile:\u001b[0m      c:\\programdata\\anaconda3\\lib\\site-packages\\pandas\\core\\reshape\\merge.py\n",
      "\u001b[1;31mType:\u001b[0m      function"
     ]
    }
   ],
   "source": [
    "?pd.merge"
   ]
  },
  {
   "attachments": {},
   "cell_type": "markdown",
   "metadata": {},
   "source": [
    "## Merge train and movies data  "
   ]
  },
  {
   "cell_type": "code",
   "execution_count": 25,
   "metadata": {},
   "outputs": [
    {
     "data": {
      "text/html": [
       "<div>\n",
       "<style scoped>\n",
       "    .dataframe tbody tr th:only-of-type {\n",
       "        vertical-align: middle;\n",
       "    }\n",
       "\n",
       "    .dataframe tbody tr th {\n",
       "        vertical-align: top;\n",
       "    }\n",
       "\n",
       "    .dataframe thead th {\n",
       "        text-align: right;\n",
       "    }\n",
       "</style>\n",
       "<table border=\"1\" class=\"dataframe\">\n",
       "  <thead>\n",
       "    <tr style=\"text-align: right;\">\n",
       "      <th></th>\n",
       "      <th>movieid</th>\n",
       "      <th>reviewerName</th>\n",
       "      <th>isFrequentReviewer</th>\n",
       "      <th>reviewText</th>\n",
       "      <th>sentiment</th>\n",
       "      <th>title</th>\n",
       "      <th>audienceScore</th>\n",
       "      <th>rating</th>\n",
       "      <th>ratingContents</th>\n",
       "      <th>releaseDateTheaters</th>\n",
       "      <th>releaseDateStreaming</th>\n",
       "      <th>runtimeMinutes</th>\n",
       "      <th>genre</th>\n",
       "      <th>originalLanguage</th>\n",
       "      <th>director</th>\n",
       "      <th>boxOffice</th>\n",
       "      <th>distributor</th>\n",
       "      <th>soundType</th>\n",
       "    </tr>\n",
       "  </thead>\n",
       "  <tbody>\n",
       "    <tr>\n",
       "      <th>0</th>\n",
       "      <td>marvelous_pirate</td>\n",
       "      <td>Benjamin Henry</td>\n",
       "      <td>False</td>\n",
       "      <td>Henry Selick’s first movie since 2009’s Corali...</td>\n",
       "      <td>POSITIVE</td>\n",
       "      <td>Marvelous Pirate</td>\n",
       "      <td>65.0</td>\n",
       "      <td>PG-13</td>\n",
       "      <td>['Violence', 'Brief Strong Language', 'Substan...</td>\n",
       "      <td>2022-10-21</td>\n",
       "      <td>2022-10-28</td>\n",
       "      <td>105.0</td>\n",
       "      <td>Comedy, Animation, Adventure, Fantasy</td>\n",
       "      <td>English</td>\n",
       "      <td>Bennie Basso</td>\n",
       "      <td>NaN</td>\n",
       "      <td>Netflix</td>\n",
       "      <td>NaN</td>\n",
       "    </tr>\n",
       "    <tr>\n",
       "      <th>1</th>\n",
       "      <td>marvelous_pirate</td>\n",
       "      <td>Sharon Foster</td>\n",
       "      <td>False</td>\n",
       "      <td>&amp;#91;T&amp;#93;he haphazard way this story is asse...</td>\n",
       "      <td>NEGATIVE</td>\n",
       "      <td>Marvelous Pirate</td>\n",
       "      <td>65.0</td>\n",
       "      <td>PG-13</td>\n",
       "      <td>['Violence', 'Brief Strong Language', 'Substan...</td>\n",
       "      <td>2022-10-21</td>\n",
       "      <td>2022-10-28</td>\n",
       "      <td>105.0</td>\n",
       "      <td>Comedy, Animation, Adventure, Fantasy</td>\n",
       "      <td>English</td>\n",
       "      <td>Bennie Basso</td>\n",
       "      <td>NaN</td>\n",
       "      <td>Netflix</td>\n",
       "      <td>NaN</td>\n",
       "    </tr>\n",
       "    <tr>\n",
       "      <th>2</th>\n",
       "      <td>marvelous_pirate</td>\n",
       "      <td>Melinda Dunn</td>\n",
       "      <td>False</td>\n",
       "      <td>The stop-motion artistry of Wendell &amp;amp; Wild...</td>\n",
       "      <td>POSITIVE</td>\n",
       "      <td>Marvelous Pirate</td>\n",
       "      <td>65.0</td>\n",
       "      <td>PG-13</td>\n",
       "      <td>['Violence', 'Brief Strong Language', 'Substan...</td>\n",
       "      <td>2022-10-21</td>\n",
       "      <td>2022-10-28</td>\n",
       "      <td>105.0</td>\n",
       "      <td>Comedy, Animation, Adventure, Fantasy</td>\n",
       "      <td>English</td>\n",
       "      <td>Bennie Basso</td>\n",
       "      <td>NaN</td>\n",
       "      <td>Netflix</td>\n",
       "      <td>NaN</td>\n",
       "    </tr>\n",
       "    <tr>\n",
       "      <th>3</th>\n",
       "      <td>marvelous_pirate</td>\n",
       "      <td>Mr. Wayne Smith</td>\n",
       "      <td>False</td>\n",
       "      <td>Wendell &amp;amp; Wild is narratively overstuffed ...</td>\n",
       "      <td>NEGATIVE</td>\n",
       "      <td>Marvelous Pirate</td>\n",
       "      <td>65.0</td>\n",
       "      <td>PG-13</td>\n",
       "      <td>['Violence', 'Brief Strong Language', 'Substan...</td>\n",
       "      <td>2022-10-21</td>\n",
       "      <td>2022-10-28</td>\n",
       "      <td>105.0</td>\n",
       "      <td>Comedy, Animation, Adventure, Fantasy</td>\n",
       "      <td>English</td>\n",
       "      <td>Bennie Basso</td>\n",
       "      <td>NaN</td>\n",
       "      <td>Netflix</td>\n",
       "      <td>NaN</td>\n",
       "    </tr>\n",
       "    <tr>\n",
       "      <th>4</th>\n",
       "      <td>marvelous_pirate</td>\n",
       "      <td>Connor Nelson</td>\n",
       "      <td>False</td>\n",
       "      <td>For being about the Netherworlds&amp;#44; it&amp;#8217...</td>\n",
       "      <td>POSITIVE</td>\n",
       "      <td>Marvelous Pirate</td>\n",
       "      <td>65.0</td>\n",
       "      <td>PG-13</td>\n",
       "      <td>['Violence', 'Brief Strong Language', 'Substan...</td>\n",
       "      <td>2022-10-21</td>\n",
       "      <td>2022-10-28</td>\n",
       "      <td>105.0</td>\n",
       "      <td>Comedy, Animation, Adventure, Fantasy</td>\n",
       "      <td>English</td>\n",
       "      <td>Bennie Basso</td>\n",
       "      <td>NaN</td>\n",
       "      <td>Netflix</td>\n",
       "      <td>NaN</td>\n",
       "    </tr>\n",
       "  </tbody>\n",
       "</table>\n",
       "</div>"
      ],
      "text/plain": [
       "            movieid     reviewerName  isFrequentReviewer  \\\n",
       "0  marvelous_pirate   Benjamin Henry               False   \n",
       "1  marvelous_pirate    Sharon Foster               False   \n",
       "2  marvelous_pirate     Melinda Dunn               False   \n",
       "3  marvelous_pirate  Mr. Wayne Smith               False   \n",
       "4  marvelous_pirate    Connor Nelson               False   \n",
       "\n",
       "                                          reviewText sentiment  \\\n",
       "0  Henry Selick’s first movie since 2009’s Corali...  POSITIVE   \n",
       "1  &#91;T&#93;he haphazard way this story is asse...  NEGATIVE   \n",
       "2  The stop-motion artistry of Wendell &amp; Wild...  POSITIVE   \n",
       "3  Wendell &amp; Wild is narratively overstuffed ...  NEGATIVE   \n",
       "4  For being about the Netherworlds&#44; it&#8217...  POSITIVE   \n",
       "\n",
       "              title  audienceScore rating  \\\n",
       "0  Marvelous Pirate           65.0  PG-13   \n",
       "1  Marvelous Pirate           65.0  PG-13   \n",
       "2  Marvelous Pirate           65.0  PG-13   \n",
       "3  Marvelous Pirate           65.0  PG-13   \n",
       "4  Marvelous Pirate           65.0  PG-13   \n",
       "\n",
       "                                      ratingContents releaseDateTheaters  \\\n",
       "0  ['Violence', 'Brief Strong Language', 'Substan...          2022-10-21   \n",
       "1  ['Violence', 'Brief Strong Language', 'Substan...          2022-10-21   \n",
       "2  ['Violence', 'Brief Strong Language', 'Substan...          2022-10-21   \n",
       "3  ['Violence', 'Brief Strong Language', 'Substan...          2022-10-21   \n",
       "4  ['Violence', 'Brief Strong Language', 'Substan...          2022-10-21   \n",
       "\n",
       "  releaseDateStreaming  runtimeMinutes                                  genre  \\\n",
       "0           2022-10-28           105.0  Comedy, Animation, Adventure, Fantasy   \n",
       "1           2022-10-28           105.0  Comedy, Animation, Adventure, Fantasy   \n",
       "2           2022-10-28           105.0  Comedy, Animation, Adventure, Fantasy   \n",
       "3           2022-10-28           105.0  Comedy, Animation, Adventure, Fantasy   \n",
       "4           2022-10-28           105.0  Comedy, Animation, Adventure, Fantasy   \n",
       "\n",
       "  originalLanguage      director boxOffice distributor soundType  \n",
       "0          English  Bennie Basso       NaN     Netflix       NaN  \n",
       "1          English  Bennie Basso       NaN     Netflix       NaN  \n",
       "2          English  Bennie Basso       NaN     Netflix       NaN  \n",
       "3          English  Bennie Basso       NaN     Netflix       NaN  \n",
       "4          English  Bennie Basso       NaN     Netflix       NaN  "
      ]
     },
     "execution_count": 25,
     "metadata": {},
     "output_type": "execute_result"
    }
   ],
   "source": [
    "train_merged = pd.merge(traindf, movies_unique, on=\"movieid\")\n",
    "train_merged.head()"
   ]
  },
  {
   "cell_type": "code",
   "execution_count": 26,
   "metadata": {},
   "outputs": [
    {
     "data": {
      "text/plain": [
       "(162758, 18)"
      ]
     },
     "execution_count": 26,
     "metadata": {},
     "output_type": "execute_result"
    }
   ],
   "source": [
    "train_merged.shape"
   ]
  },
  {
   "cell_type": "code",
   "execution_count": 27,
   "metadata": {},
   "outputs": [
    {
     "data": {
      "text/plain": [
       "Index(['movieid', 'reviewerName', 'isFrequentReviewer', 'reviewText',\n",
       "       'sentiment', 'title', 'audienceScore', 'rating', 'ratingContents',\n",
       "       'releaseDateTheaters', 'releaseDateStreaming', 'runtimeMinutes',\n",
       "       'genre', 'originalLanguage', 'director', 'boxOffice', 'distributor',\n",
       "       'soundType'],\n",
       "      dtype='object')"
      ]
     },
     "execution_count": 27,
     "metadata": {},
     "output_type": "execute_result"
    }
   ],
   "source": [
    "train_merged.columns"
   ]
  },
  {
   "cell_type": "code",
   "execution_count": 28,
   "metadata": {},
   "outputs": [
    {
     "name": "stdout",
     "output_type": "stream",
     "text": [
      "<class 'pandas.core.frame.DataFrame'>\n",
      "Int64Index: 162758 entries, 0 to 162757\n",
      "Data columns (total 18 columns):\n",
      " #   Column                Non-Null Count   Dtype  \n",
      "---  ------                --------------   -----  \n",
      " 0   movieid               162758 non-null  object \n",
      " 1   reviewerName          162758 non-null  object \n",
      " 2   isFrequentReviewer    162758 non-null  bool   \n",
      " 3   reviewText            156311 non-null  object \n",
      " 4   sentiment             162758 non-null  object \n",
      " 5   title                 162758 non-null  object \n",
      " 6   audienceScore         149510 non-null  float64\n",
      " 7   rating                99034 non-null   object \n",
      " 8   ratingContents        99034 non-null   object \n",
      " 9   releaseDateTheaters   126924 non-null  object \n",
      " 10  releaseDateStreaming  146573 non-null  object \n",
      " 11  runtimeMinutes        159382 non-null  float64\n",
      " 12  genre                 160320 non-null  object \n",
      " 13  originalLanguage      159468 non-null  object \n",
      " 14  director              162758 non-null  object \n",
      " 15  boxOffice             109982 non-null  object \n",
      " 16  distributor           122095 non-null  object \n",
      " 17  soundType             77391 non-null   object \n",
      "dtypes: bool(1), float64(2), object(15)\n",
      "memory usage: 22.5+ MB\n"
     ]
    }
   ],
   "source": [
    "train_merged.info()"
   ]
  },
  {
   "cell_type": "code",
   "execution_count": 29,
   "metadata": {},
   "outputs": [
    {
     "data": {
      "text/plain": [
       "movieid                     0\n",
       "reviewerName                0\n",
       "isFrequentReviewer          0\n",
       "reviewText               6447\n",
       "sentiment                   0\n",
       "title                       0\n",
       "audienceScore           13248\n",
       "rating                  63724\n",
       "ratingContents          63724\n",
       "releaseDateTheaters     35834\n",
       "releaseDateStreaming    16185\n",
       "runtimeMinutes           3376\n",
       "genre                    2438\n",
       "originalLanguage         3290\n",
       "director                    0\n",
       "boxOffice               52776\n",
       "distributor             40663\n",
       "soundType               85367\n",
       "dtype: int64"
      ]
     },
     "execution_count": 29,
     "metadata": {},
     "output_type": "execute_result"
    }
   ],
   "source": [
    "train_merged.isna().sum()"
   ]
  },
  {
   "attachments": {},
   "cell_type": "markdown",
   "metadata": {},
   "source": [
    "## Preprocess train_merged df  "
   ]
  },
  {
   "cell_type": "code",
   "execution_count": 30,
   "metadata": {},
   "outputs": [
    {
     "data": {
      "text/plain": [
       "Index(['movieid', 'reviewerName', 'isFrequentReviewer', 'reviewText',\n",
       "       'sentiment', 'title', 'audienceScore', 'rating', 'ratingContents',\n",
       "       'releaseDateTheaters', 'releaseDateStreaming', 'runtimeMinutes',\n",
       "       'genre', 'originalLanguage', 'director', 'boxOffice', 'distributor',\n",
       "       'soundType'],\n",
       "      dtype='object')"
      ]
     },
     "execution_count": 30,
     "metadata": {},
     "output_type": "execute_result"
    }
   ],
   "source": [
    "train_merged.columns"
   ]
  },
  {
   "cell_type": "code",
   "execution_count": null,
   "metadata": {},
   "outputs": [],
   "source": [
    "train_final = train_merged.copy()\n",
    "train_final[\"reviewText\"].fillna(\"\", inplace=True)\n",
    "train_final.drop_columns([\"title\", ], inplace=True)"
   ]
  },
  {
   "cell_type": "code",
   "execution_count": null,
   "metadata": {},
   "outputs": [],
   "source": []
  }
 ],
 "metadata": {
  "kernelspec": {
   "display_name": "base",
   "language": "python",
   "name": "python3"
  },
  "language_info": {
   "codemirror_mode": {
    "name": "ipython",
    "version": 3
   },
   "file_extension": ".py",
   "mimetype": "text/x-python",
   "name": "python",
   "nbconvert_exporter": "python",
   "pygments_lexer": "ipython3",
   "version": "3.10.9"
  },
  "orig_nbformat": 4
 },
 "nbformat": 4,
 "nbformat_minor": 2
}
