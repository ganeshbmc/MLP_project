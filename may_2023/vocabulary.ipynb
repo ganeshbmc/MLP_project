{
 "cells": [
  {
   "cell_type": "code",
   "execution_count": 1,
   "metadata": {},
   "outputs": [
    {
     "name": "stdout",
     "output_type": "stream",
     "text": [
      "All modules imported.\n"
     ]
    }
   ],
   "source": [
    "from mytools import *\n",
    "\n",
    "import pandas as pd\n",
    "import numpy as np\n",
    "import re\n",
    "import json \n",
    "\n",
    "import matplotlib.pyplot as plt\n",
    "import seaborn as sns\n",
    "\n",
    "from sklearn.feature_extraction.text import CountVectorizer, TfidfVectorizer\n",
    "from sklearn.model_selection import train_test_split, cross_val_score, GridSearchCV\n",
    "from sklearn.pipeline import Pipeline\n",
    "from sklearn.compose import ColumnTransformer\n",
    "\n",
    "from sklearn.linear_model import LogisticRegression\n",
    "\n",
    "print(\"All modules imported.\")"
   ]
  },
  {
   "cell_type": "code",
   "execution_count": 2,
   "metadata": {},
   "outputs": [
    {
     "data": {
      "text/html": [
       "<div>\n",
       "<style scoped>\n",
       "    .dataframe tbody tr th:only-of-type {\n",
       "        vertical-align: middle;\n",
       "    }\n",
       "\n",
       "    .dataframe tbody tr th {\n",
       "        vertical-align: top;\n",
       "    }\n",
       "\n",
       "    .dataframe thead th {\n",
       "        text-align: right;\n",
       "    }\n",
       "</style>\n",
       "<table border=\"1\" class=\"dataframe\">\n",
       "  <thead>\n",
       "    <tr style=\"text-align: right;\">\n",
       "      <th></th>\n",
       "      <th>movieid</th>\n",
       "      <th>reviewerName</th>\n",
       "      <th>isFrequentReviewer</th>\n",
       "      <th>reviewText</th>\n",
       "      <th>sentiment</th>\n",
       "    </tr>\n",
       "  </thead>\n",
       "  <tbody>\n",
       "    <tr>\n",
       "      <th>0</th>\n",
       "      <td>marvelous_pirate</td>\n",
       "      <td>Benjamin Henry</td>\n",
       "      <td>False</td>\n",
       "      <td>Henry Selick’s first movie since 2009’s Corali...</td>\n",
       "      <td>POSITIVE</td>\n",
       "    </tr>\n",
       "    <tr>\n",
       "      <th>1</th>\n",
       "      <td>tony_montana_frodo_baggins_v_rocky_balboa</td>\n",
       "      <td>Felicia Lopez</td>\n",
       "      <td>False</td>\n",
       "      <td>With a cast that reads like the Vogue Oscar pa...</td>\n",
       "      <td>NEGATIVE</td>\n",
       "    </tr>\n",
       "    <tr>\n",
       "      <th>2</th>\n",
       "      <td>darth_vader_katniss_everdeen_sorcerer_donnie_d...</td>\n",
       "      <td>Mr. Charles Burgess</td>\n",
       "      <td>True</td>\n",
       "      <td>Creed II does not give us anything but another...</td>\n",
       "      <td>POSITIVE</td>\n",
       "    </tr>\n",
       "    <tr>\n",
       "      <th>3</th>\n",
       "      <td>lara_croft_glimmer</td>\n",
       "      <td>Ryan Barrett</td>\n",
       "      <td>False</td>\n",
       "      <td>I know what you're thinking, but this is no Li...</td>\n",
       "      <td>POSITIVE</td>\n",
       "    </tr>\n",
       "    <tr>\n",
       "      <th>4</th>\n",
       "      <td>jason_bourne_surreal_the_terminator_indiana_jones</td>\n",
       "      <td>Alexander Glover</td>\n",
       "      <td>False</td>\n",
       "      <td>Director Fernando Meirelles tells the story wi...</td>\n",
       "      <td>POSITIVE</td>\n",
       "    </tr>\n",
       "  </tbody>\n",
       "</table>\n",
       "</div>"
      ],
      "text/plain": [
       "                                             movieid         reviewerName  \\\n",
       "0                                   marvelous_pirate       Benjamin Henry   \n",
       "1          tony_montana_frodo_baggins_v_rocky_balboa        Felicia Lopez   \n",
       "2  darth_vader_katniss_everdeen_sorcerer_donnie_d...  Mr. Charles Burgess   \n",
       "3                                 lara_croft_glimmer         Ryan Barrett   \n",
       "4  jason_bourne_surreal_the_terminator_indiana_jones     Alexander Glover   \n",
       "\n",
       "   isFrequentReviewer                                         reviewText  \\\n",
       "0               False  Henry Selick’s first movie since 2009’s Corali...   \n",
       "1               False  With a cast that reads like the Vogue Oscar pa...   \n",
       "2                True  Creed II does not give us anything but another...   \n",
       "3               False  I know what you're thinking, but this is no Li...   \n",
       "4               False  Director Fernando Meirelles tells the story wi...   \n",
       "\n",
       "  sentiment  \n",
       "0  POSITIVE  \n",
       "1  NEGATIVE  \n",
       "2  POSITIVE  \n",
       "3  POSITIVE  \n",
       "4  POSITIVE  "
      ]
     },
     "execution_count": 2,
     "metadata": {},
     "output_type": "execute_result"
    }
   ],
   "source": [
    "traindf = load_csv(\"train\")\n",
    "traindf.head()"
   ]
  },
  {
   "cell_type": "code",
   "execution_count": 3,
   "metadata": {},
   "outputs": [
    {
     "data": {
      "text/plain": [
       "((162758,), (162758,))"
      ]
     },
     "execution_count": 3,
     "metadata": {},
     "output_type": "execute_result"
    }
   ],
   "source": [
    "train_features = traindf[\"reviewText\"]\n",
    "train_labels = traindf[\"sentiment\"]\n",
    "\n",
    "train_features.shape, train_labels.shape"
   ]
  },
  {
   "cell_type": "code",
   "execution_count": 4,
   "metadata": {},
   "outputs": [],
   "source": [
    "train_features.fillna(\" \", inplace=True)"
   ]
  },
  {
   "cell_type": "code",
   "execution_count": 5,
   "metadata": {},
   "outputs": [],
   "source": [
    "def make_vocab_file(df, stopwords=None, max_features=100, min_df=1, max_df=1.0):\n",
    "    vocab = get_tfidf_vocab(df, stop_words=stopwords, max_features=max_features, min_df=min_df, max_df=max_df)\n",
    "    if type(stopwords) == \"list\":\n",
    "        filename = f\"vocab/vocab_{stopwords}_{max_features}_{min_df}_{max_df}.json\"\n",
    "    else:\n",
    "        filename = f\"vocab/vocab_sw_all_{max_features}_{min_df}_{max_df}.json\"\n",
    "    with open(filename, \"w\") as f:\n",
    "        json.dump(vocab, f)\n",
    "        print(\"Job done!\")"
   ]
  },
  {
   "attachments": {},
   "cell_type": "markdown",
   "metadata": {},
   "source": [
    "## Stop words  "
   ]
  },
  {
   "cell_type": "code",
   "execution_count": 6,
   "metadata": {},
   "outputs": [
    {
     "data": {
      "text/plain": [
       "(list, 1160)"
      ]
     },
     "execution_count": 6,
     "metadata": {},
     "output_type": "execute_result"
    }
   ],
   "source": [
    "stop_words_all = json.load(open(\"stop_words.json\", \"r\"))\n",
    "type(stop_words_all), len(stop_words_all)"
   ]
  },
  {
   "attachments": {},
   "cell_type": "markdown",
   "metadata": {},
   "source": [
    "## Create and check various vocab files  "
   ]
  },
  {
   "cell_type": "code",
   "execution_count": 7,
   "metadata": {},
   "outputs": [
    {
     "name": "stdout",
     "output_type": "stream",
     "text": [
      "Job done!\n"
     ]
    }
   ],
   "source": [
    "make_vocab_file(traindf, stopwords=\"english\", max_features=100)"
   ]
  },
  {
   "cell_type": "code",
   "execution_count": 8,
   "metadata": {},
   "outputs": [
    {
     "name": "stdout",
     "output_type": "stream",
     "text": [
      "Job done!\n"
     ]
    }
   ],
   "source": [
    "make_vocab_file(traindf, stopwords=None, max_features=100)"
   ]
  },
  {
   "cell_type": "code",
   "execution_count": 9,
   "metadata": {},
   "outputs": [
    {
     "name": "stdout",
     "output_type": "stream",
     "text": [
      "Job done!\n"
     ]
    }
   ],
   "source": [
    "make_vocab_file(traindf, stopwords=\"english\", max_features=100, max_df=0.3)"
   ]
  },
  {
   "cell_type": "code",
   "execution_count": 10,
   "metadata": {},
   "outputs": [
    {
     "name": "stderr",
     "output_type": "stream",
     "text": [
      "c:\\Users\\All users\\Anaconda3\\lib\\site-packages\\sklearn\\feature_extraction\\text.py:388: UserWarning: Your stop_words may be inconsistent with your preprocessing. Tokenizing the stop words generated tokens ['articl', 'mon'] not in stop_words.\n",
      "  warnings.warn('Your stop_words may be inconsistent with '\n"
     ]
    },
    {
     "name": "stdout",
     "output_type": "stream",
     "text": [
      "Job done!\n"
     ]
    }
   ],
   "source": [
    "make_vocab_file(traindf, stopwords=stop_words_all, max_features=100, max_df=0.3)"
   ]
  },
  {
   "attachments": {},
   "cell_type": "markdown",
   "metadata": {},
   "source": [
    "## Checking document specific stop_words  "
   ]
  },
  {
   "cell_type": "code",
   "execution_count": 11,
   "metadata": {},
   "outputs": [
    {
     "data": {
      "text/plain": [
       "0    Henry Selick’s first movie since 2009’s Corali...\n",
       "1    With a cast that reads like the Vogue Oscar pa...\n",
       "2    Creed II does not give us anything but another...\n",
       "3    I know what you're thinking, but this is no Li...\n",
       "4    Director Fernando Meirelles tells the story wi...\n",
       "Name: reviewText, dtype: object"
      ]
     },
     "execution_count": 11,
     "metadata": {},
     "output_type": "execute_result"
    }
   ],
   "source": [
    "train_features.head()"
   ]
  },
  {
   "cell_type": "code",
   "execution_count": 61,
   "metadata": {},
   "outputs": [],
   "source": [
    "tvec = TfidfVectorizer(ngram_range=(1,2), max_df=0.01)\n",
    "# tvec_alpha = TfidfVectorizer(token_pattern=u'(?u)\\b\\w*[a-zA-Z]\\w*\\b')"
   ]
  },
  {
   "cell_type": "code",
   "execution_count": 62,
   "metadata": {},
   "outputs": [
    {
     "data": {
      "text/plain": [
       "TfidfVectorizer(max_df=0.01, ngram_range=(1, 2))"
      ]
     },
     "execution_count": 62,
     "metadata": {},
     "output_type": "execute_result"
    }
   ],
   "source": [
    "tvec.fit(train_features)"
   ]
  },
  {
   "cell_type": "code",
   "execution_count": 63,
   "metadata": {},
   "outputs": [
    {
     "data": {
      "text/plain": [
       "1096298"
      ]
     },
     "execution_count": 63,
     "metadata": {},
     "output_type": "execute_result"
    }
   ],
   "source": [
    "len(tvec.get_feature_names())"
   ]
  },
  {
   "cell_type": "code",
   "execution_count": 65,
   "metadata": {},
   "outputs": [
    {
     "data": {
      "text/plain": [
       "{'44',\n",
       " '46',\n",
       " '8217',\n",
       " 'about',\n",
       " 'about the',\n",
       " 'action',\n",
       " 'after',\n",
       " 'all',\n",
       " 'all the',\n",
       " 'almost',\n",
       " 'also',\n",
       " 'an',\n",
       " 'and',\n",
       " 'and it',\n",
       " 'and the',\n",
       " 'another',\n",
       " 'any',\n",
       " 'are',\n",
       " 'as',\n",
       " 'as it',\n",
       " 'as the',\n",
       " 'at',\n",
       " 'at the',\n",
       " 'audience',\n",
       " 'back',\n",
       " 'bad',\n",
       " 'be',\n",
       " 'because',\n",
       " 'been',\n",
       " 'before',\n",
       " 'being',\n",
       " 'best',\n",
       " 'better',\n",
       " 'between',\n",
       " 'big',\n",
       " 'bit',\n",
       " 'both',\n",
       " 'but',\n",
       " 'but it',\n",
       " 'but the',\n",
       " 'by',\n",
       " 'by the',\n",
       " 'can',\n",
       " 'cast',\n",
       " 'character',\n",
       " 'characters',\n",
       " 'come',\n",
       " 'comedy',\n",
       " 'comes',\n",
       " 'could',\n",
       " 'despite',\n",
       " 'director',\n",
       " 'do',\n",
       " 'documentary',\n",
       " 'does',\n",
       " 'doesn',\n",
       " 'don',\n",
       " 'down',\n",
       " 'drama',\n",
       " 'emotional',\n",
       " 'end',\n",
       " 'enough',\n",
       " 'entertaining',\n",
       " 'even',\n",
       " 'ever',\n",
       " 'every',\n",
       " 'family',\n",
       " 'far',\n",
       " 'feel',\n",
       " 'feels',\n",
       " 'few',\n",
       " 'film',\n",
       " 'film is',\n",
       " 'film that',\n",
       " 'films',\n",
       " 'find',\n",
       " 'first',\n",
       " 'for',\n",
       " 'for the',\n",
       " 'from',\n",
       " 'from the',\n",
       " 'full',\n",
       " 'full review',\n",
       " 'fun',\n",
       " 'funny',\n",
       " 'genre',\n",
       " 'get',\n",
       " 'gets',\n",
       " 'go',\n",
       " 'going',\n",
       " 'good',\n",
       " 'great',\n",
       " 'had',\n",
       " 'hard',\n",
       " 'has',\n",
       " 'have',\n",
       " 'have been',\n",
       " 'he',\n",
       " 'heart',\n",
       " 'her',\n",
       " 'here',\n",
       " 'high',\n",
       " 'his',\n",
       " 'horror',\n",
       " 'how',\n",
       " 'human',\n",
       " 'humor',\n",
       " 'if',\n",
       " 'if you',\n",
       " 'in',\n",
       " 'in its',\n",
       " 'in spanish',\n",
       " 'in the',\n",
       " 'in this',\n",
       " 'into',\n",
       " 'into the',\n",
       " 'is',\n",
       " 'is an',\n",
       " 'is not',\n",
       " 'is the',\n",
       " 'isn',\n",
       " 'it',\n",
       " 'it is',\n",
       " 'its',\n",
       " 'itself',\n",
       " 'just',\n",
       " 'kind',\n",
       " 'kind of',\n",
       " 'know',\n",
       " 'less',\n",
       " 'life',\n",
       " 'like',\n",
       " 'little',\n",
       " 'll',\n",
       " 'long',\n",
       " 'look',\n",
       " 'lot',\n",
       " 'love',\n",
       " 'made',\n",
       " 'make',\n",
       " 'makes',\n",
       " 'making',\n",
       " 'man',\n",
       " 'many',\n",
       " 'may',\n",
       " 'me',\n",
       " 'might',\n",
       " 'moments',\n",
       " 'more',\n",
       " 'more than',\n",
       " 'most',\n",
       " 'movie',\n",
       " 'movie that',\n",
       " 'movies',\n",
       " 'much',\n",
       " 'narrative',\n",
       " 'never',\n",
       " 'new',\n",
       " 'no',\n",
       " 'not',\n",
       " 'nothing',\n",
       " 'of',\n",
       " 'of its',\n",
       " 'of the',\n",
       " 'off',\n",
       " 'often',\n",
       " 'old',\n",
       " 'on',\n",
       " 'on the',\n",
       " 'one',\n",
       " 'one of',\n",
       " 'only',\n",
       " 'or',\n",
       " 'original',\n",
       " 'other',\n",
       " 'our',\n",
       " 'out',\n",
       " 'out of',\n",
       " 'over',\n",
       " 'own',\n",
       " 'people',\n",
       " 'performance',\n",
       " 'performances',\n",
       " 'picture',\n",
       " 'plot',\n",
       " 'quite',\n",
       " 'rather',\n",
       " 're',\n",
       " 'real',\n",
       " 'really',\n",
       " 'review',\n",
       " 'review in',\n",
       " 'right',\n",
       " 'same',\n",
       " 'say',\n",
       " 'scenes',\n",
       " 'screen',\n",
       " 'script',\n",
       " 'see',\n",
       " 'seems',\n",
       " 'seen',\n",
       " 'self',\n",
       " 'sense',\n",
       " 'she',\n",
       " 'should',\n",
       " 'so',\n",
       " 'some',\n",
       " 'something',\n",
       " 'spanish',\n",
       " 'star',\n",
       " 'still',\n",
       " 'story',\n",
       " 'style',\n",
       " 'such',\n",
       " 'take',\n",
       " 'takes',\n",
       " 'tale',\n",
       " 'than',\n",
       " 'that',\n",
       " 'that is',\n",
       " 'that it',\n",
       " 'that the',\n",
       " 'the',\n",
       " 'the best',\n",
       " 'the film',\n",
       " 'the first',\n",
       " 'the most',\n",
       " 'the movie',\n",
       " 'the same',\n",
       " 'the story',\n",
       " 'their',\n",
       " 'them',\n",
       " 'there',\n",
       " 'these',\n",
       " 'they',\n",
       " 'thing',\n",
       " 'things',\n",
       " 'this',\n",
       " 'this film',\n",
       " 'this is',\n",
       " 'those',\n",
       " 'though',\n",
       " 'thriller',\n",
       " 'through',\n",
       " 'time',\n",
       " 'times',\n",
       " 'to',\n",
       " 'to be',\n",
       " 'to make',\n",
       " 'to see',\n",
       " 'to the',\n",
       " 'too',\n",
       " 'two',\n",
       " 'up',\n",
       " 'us',\n",
       " 've',\n",
       " 'very',\n",
       " 'was',\n",
       " 'watch',\n",
       " 'way',\n",
       " 'we',\n",
       " 'well',\n",
       " 'what',\n",
       " 'when',\n",
       " 'where',\n",
       " 'which',\n",
       " 'while',\n",
       " 'who',\n",
       " 'will',\n",
       " 'with',\n",
       " 'with the',\n",
       " 'without',\n",
       " 'work',\n",
       " 'world',\n",
       " 'worth',\n",
       " 'would',\n",
       " 'year',\n",
       " 'yet',\n",
       " 'you',\n",
       " 'your'}"
      ]
     },
     "execution_count": 65,
     "metadata": {},
     "output_type": "execute_result"
    }
   ],
   "source": [
    "tvec.stop_words_"
   ]
  },
  {
   "cell_type": "code",
   "execution_count": null,
   "metadata": {},
   "outputs": [
    {
     "data": {
      "text/plain": [
       "280"
      ]
     },
     "execution_count": 56,
     "metadata": {},
     "output_type": "execute_result"
    }
   ],
   "source": [
    "len(tvec.stop_words_)"
   ]
  }
 ],
 "metadata": {
  "kernelspec": {
   "display_name": "base",
   "language": "python",
   "name": "python3"
  },
  "language_info": {
   "codemirror_mode": {
    "name": "ipython",
    "version": 3
   },
   "file_extension": ".py",
   "mimetype": "text/x-python",
   "name": "python",
   "nbconvert_exporter": "python",
   "pygments_lexer": "ipython3",
   "version": "3.9.7"
  },
  "orig_nbformat": 4
 },
 "nbformat": 4,
 "nbformat_minor": 2
}
