{
 "cells": [
  {
   "cell_type": "code",
   "execution_count": 21,
   "metadata": {},
   "outputs": [
    {
     "name": "stdout",
     "output_type": "stream",
     "text": [
      "Imports done\n"
     ]
    }
   ],
   "source": [
    "from mytools import *\n",
    "import pandas as pd\n",
    "import numpy as np\n",
    "import matplotlib.pyplot as plt\n",
    "import seaborn as sns\n",
    "import re\n",
    "import os\n",
    "import json\n",
    "\n",
    "from sklearn.model_selection import train_test_split\n",
    "from sklearn.preprocessing import StandardScaler, MinMaxScaler\n",
    "from sklearn.metrics import confusion_matrix, classification_report\n",
    "from sklearn.model_selection import GridSearchCV, RandomizedSearchCV\n",
    "from sklearn.ensemble import RandomForestClassifier\n",
    "from sklearn.linear_model import LogisticRegression\n",
    "from sklearn.svm import LinearSVC\n",
    "from sklearn.pipeline import Pipeline\n",
    "from sklearn.feature_extraction.text import TfidfVectorizer, CountVectorizer\n",
    "from sklearn.compose import ColumnTransformer\n",
    "# sklearn configuration\n",
    "from sklearn import set_config\n",
    "set_config(display='diagram')\n",
    "\n",
    "print('Imports done')"
   ]
  },
  {
   "cell_type": "markdown",
   "metadata": {},
   "source": [
    "## Submit to kaggle function  \n",
    "\n",
    "`Inputs`\n",
    ">> Features dictionary: Keys will be 'cat', 'num', 'txt', values will be lists of features.   \n",
    "\n",
    ">> Model: Model to be used for prediction.  "
   ]
  },
  {
   "cell_type": "code",
   "execution_count": 22,
   "metadata": {},
   "outputs": [],
   "source": [
    "def build_pipeline(selected_model=LogisticRegression(), selected_features={'txt': ['reviewText']}):\n",
    "    # Encoders  \n",
    "    ohe = OneHotEncoder(sparse=False, handle_unknown='ignore')\n",
    "    scaler = MinMaxScaler()\n",
    "    tfidf_vec = TfidfVectorizer(ngram_range=(1,2))\n",
    "\n",
    "    # Basic pipes  \n",
    "    TFs = []\n",
    "    for c in selected_features['cat']:\n",
    "        TFs.append((f\"cat_{c}\", ohe, [c]))\n",
    "    for t in selected_features['num']:\n",
    "        TFs.append((f\"num_{t}\", scaler, [t]))\n",
    "    for t in selected_features['txt']:\n",
    "        TFs.append((f\"txt_{t}\", tfidf_vec, t))\n",
    "\n",
    "\n",
    "    # Build ColumnTransformer  \n",
    "    ct = ColumnTransformer(transformers=TFs, remainder='drop')\n",
    "\n",
    "    # Build Pipeline\n",
    "    pipe = Pipeline(steps=[('ct', ct), ('model', selected_model)])\n",
    "    return pipe"
   ]
  },
  {
   "cell_type": "code",
   "execution_count": 23,
   "metadata": {},
   "outputs": [
    {
     "data": {
      "text/plain": [
       "{'cat': ['rating', 'isFrequentReviewer'],\n",
       " 'num': ['audienceScore', 'runtimeMinutes'],\n",
       " 'txt': ['originalLanguage',\n",
       "  'genre',\n",
       "  'director',\n",
       "  'reviewerName',\n",
       "  'reviewText']}"
      ]
     },
     "execution_count": 23,
     "metadata": {},
     "output_type": "execute_result"
    }
   ],
   "source": [
    "num_vars = [\"audienceScore\", \"runtimeMinutes\"]\n",
    "txt_vars = [\"originalLanguage\", \"genre\", \"director\", \"reviewerName\", \"reviewText\"]\n",
    "cat_vars = [\"rating\", \"isFrequentReviewer\"]\n",
    "\n",
    "SFs = {'cat': cat_vars, 'num': num_vars, 'txt': txt_vars}\n",
    "SFs"
   ]
  },
  {
   "cell_type": "code",
   "execution_count": 24,
   "metadata": {},
   "outputs": [
    {
     "data": {
      "text/plain": [
       "['rating',\n",
       " 'isFrequentReviewer',\n",
       " 'audienceScore',\n",
       " 'runtimeMinutes',\n",
       " 'originalLanguage',\n",
       " 'genre',\n",
       " 'director',\n",
       " 'reviewerName',\n",
       " 'reviewText']"
      ]
     },
     "execution_count": 24,
     "metadata": {},
     "output_type": "execute_result"
    }
   ],
   "source": [
    "features = []\n",
    "for item in SFs.values():\n",
    "    features.extend(item)\n",
    "features"
   ]
  },
  {
   "cell_type": "code",
   "execution_count": 27,
   "metadata": {},
   "outputs": [
    {
     "data": {
      "text/html": [
       "<style>#sk-cb5daca7-17ca-4de6-991c-330b13ff308c {color: black;background-color: white;}#sk-cb5daca7-17ca-4de6-991c-330b13ff308c pre{padding: 0;}#sk-cb5daca7-17ca-4de6-991c-330b13ff308c div.sk-toggleable {background-color: white;}#sk-cb5daca7-17ca-4de6-991c-330b13ff308c label.sk-toggleable__label {cursor: pointer;display: block;width: 100%;margin-bottom: 0;padding: 0.2em 0.3em;box-sizing: border-box;text-align: center;}#sk-cb5daca7-17ca-4de6-991c-330b13ff308c div.sk-toggleable__content {max-height: 0;max-width: 0;overflow: hidden;text-align: left;background-color: #f0f8ff;}#sk-cb5daca7-17ca-4de6-991c-330b13ff308c div.sk-toggleable__content pre {margin: 0.2em;color: black;border-radius: 0.25em;background-color: #f0f8ff;}#sk-cb5daca7-17ca-4de6-991c-330b13ff308c input.sk-toggleable__control:checked~div.sk-toggleable__content {max-height: 200px;max-width: 100%;overflow: auto;}#sk-cb5daca7-17ca-4de6-991c-330b13ff308c div.sk-estimator input.sk-toggleable__control:checked~label.sk-toggleable__label {background-color: #d4ebff;}#sk-cb5daca7-17ca-4de6-991c-330b13ff308c div.sk-label input.sk-toggleable__control:checked~label.sk-toggleable__label {background-color: #d4ebff;}#sk-cb5daca7-17ca-4de6-991c-330b13ff308c input.sk-hidden--visually {border: 0;clip: rect(1px 1px 1px 1px);clip: rect(1px, 1px, 1px, 1px);height: 1px;margin: -1px;overflow: hidden;padding: 0;position: absolute;width: 1px;}#sk-cb5daca7-17ca-4de6-991c-330b13ff308c div.sk-estimator {font-family: monospace;background-color: #f0f8ff;margin: 0.25em 0.25em;border: 1px dotted black;border-radius: 0.25em;box-sizing: border-box;}#sk-cb5daca7-17ca-4de6-991c-330b13ff308c div.sk-estimator:hover {background-color: #d4ebff;}#sk-cb5daca7-17ca-4de6-991c-330b13ff308c div.sk-parallel-item::after {content: \"\";width: 100%;border-bottom: 1px solid gray;flex-grow: 1;}#sk-cb5daca7-17ca-4de6-991c-330b13ff308c div.sk-label:hover label.sk-toggleable__label {background-color: #d4ebff;}#sk-cb5daca7-17ca-4de6-991c-330b13ff308c div.sk-serial::before {content: \"\";position: absolute;border-left: 1px solid gray;box-sizing: border-box;top: 2em;bottom: 0;left: 50%;}#sk-cb5daca7-17ca-4de6-991c-330b13ff308c div.sk-serial {display: flex;flex-direction: column;align-items: center;background-color: white;}#sk-cb5daca7-17ca-4de6-991c-330b13ff308c div.sk-item {z-index: 1;}#sk-cb5daca7-17ca-4de6-991c-330b13ff308c div.sk-parallel {display: flex;align-items: stretch;justify-content: center;background-color: white;}#sk-cb5daca7-17ca-4de6-991c-330b13ff308c div.sk-parallel-item {display: flex;flex-direction: column;position: relative;background-color: white;}#sk-cb5daca7-17ca-4de6-991c-330b13ff308c div.sk-parallel-item:first-child::after {align-self: flex-end;width: 50%;}#sk-cb5daca7-17ca-4de6-991c-330b13ff308c div.sk-parallel-item:last-child::after {align-self: flex-start;width: 50%;}#sk-cb5daca7-17ca-4de6-991c-330b13ff308c div.sk-parallel-item:only-child::after {width: 0;}#sk-cb5daca7-17ca-4de6-991c-330b13ff308c div.sk-dashed-wrapped {border: 1px dashed gray;margin: 0.2em;box-sizing: border-box;padding-bottom: 0.1em;background-color: white;position: relative;}#sk-cb5daca7-17ca-4de6-991c-330b13ff308c div.sk-label label {font-family: monospace;font-weight: bold;background-color: white;display: inline-block;line-height: 1.2em;}#sk-cb5daca7-17ca-4de6-991c-330b13ff308c div.sk-label-container {position: relative;z-index: 2;text-align: center;}#sk-cb5daca7-17ca-4de6-991c-330b13ff308c div.sk-container {display: inline-block;position: relative;}</style><div id=\"sk-cb5daca7-17ca-4de6-991c-330b13ff308c\" class\"sk-top-container\"><div class=\"sk-container\"><div class=\"sk-item sk-dashed-wrapped\"><div class=\"sk-label-container\"><div class=\"sk-label sk-toggleable\"><input class=\"sk-toggleable__control sk-hidden--visually\" id=\"60b694db-2202-40d1-bbdf-a87e2ebba0fa\" type=\"checkbox\" ><label class=\"sk-toggleable__label\" for=\"60b694db-2202-40d1-bbdf-a87e2ebba0fa\">Pipeline</label><div class=\"sk-toggleable__content\"><pre>Pipeline(steps=[('ct',\n",
       "                 ColumnTransformer(transformers=[('cat_rating',\n",
       "                                                  OneHotEncoder(handle_unknown='ignore',\n",
       "                                                                sparse=False),\n",
       "                                                  ['rating']),\n",
       "                                                 ('cat_isFrequentReviewer',\n",
       "                                                  OneHotEncoder(handle_unknown='ignore',\n",
       "                                                                sparse=False),\n",
       "                                                  ['isFrequentReviewer']),\n",
       "                                                 ('num_audienceScore',\n",
       "                                                  MinMaxScaler(),\n",
       "                                                  ['audienceScore']),\n",
       "                                                 ('num_runtimeMinutes',\n",
       "                                                  MinMaxScaler(),\n",
       "                                                  ['runtimeMinutes']),\n",
       "                                                 ('tx...',\n",
       "                                                  TfidfVectorizer(ngram_range=(1,\n",
       "                                                                               2)),\n",
       "                                                  'originalLanguage'),\n",
       "                                                 ('txt_genre',\n",
       "                                                  TfidfVectorizer(ngram_range=(1,\n",
       "                                                                               2)),\n",
       "                                                  'genre'),\n",
       "                                                 ('txt_director',\n",
       "                                                  TfidfVectorizer(ngram_range=(1,\n",
       "                                                                               2)),\n",
       "                                                  'director'),\n",
       "                                                 ('txt_reviewerName',\n",
       "                                                  TfidfVectorizer(ngram_range=(1,\n",
       "                                                                               2)),\n",
       "                                                  'reviewerName'),\n",
       "                                                 ('txt_reviewText',\n",
       "                                                  TfidfVectorizer(ngram_range=(1,\n",
       "                                                                               2)),\n",
       "                                                  'reviewText')])),\n",
       "                ('model', LogisticRegression())])</pre></div></div></div><div class=\"sk-serial\"><div class=\"sk-item sk-dashed-wrapped\"><div class=\"sk-label-container\"><div class=\"sk-label sk-toggleable\"><input class=\"sk-toggleable__control sk-hidden--visually\" id=\"c2205ba0-7ce5-4f43-a6bc-6762340dae98\" type=\"checkbox\" ><label class=\"sk-toggleable__label\" for=\"c2205ba0-7ce5-4f43-a6bc-6762340dae98\">ct: ColumnTransformer</label><div class=\"sk-toggleable__content\"><pre>ColumnTransformer(transformers=[('cat_rating',\n",
       "                                 OneHotEncoder(handle_unknown='ignore',\n",
       "                                               sparse=False),\n",
       "                                 ['rating']),\n",
       "                                ('cat_isFrequentReviewer',\n",
       "                                 OneHotEncoder(handle_unknown='ignore',\n",
       "                                               sparse=False),\n",
       "                                 ['isFrequentReviewer']),\n",
       "                                ('num_audienceScore', MinMaxScaler(),\n",
       "                                 ['audienceScore']),\n",
       "                                ('num_runtimeMinutes', MinMaxScaler(),\n",
       "                                 ['runtimeMinutes']),\n",
       "                                ('txt_originalLanguage',\n",
       "                                 TfidfVectorizer(ngram_range=(1, 2)),\n",
       "                                 'originalLanguage'),\n",
       "                                ('txt_genre',\n",
       "                                 TfidfVectorizer(ngram_range=(1, 2)), 'genre'),\n",
       "                                ('txt_director',\n",
       "                                 TfidfVectorizer(ngram_range=(1, 2)),\n",
       "                                 'director'),\n",
       "                                ('txt_reviewerName',\n",
       "                                 TfidfVectorizer(ngram_range=(1, 2)),\n",
       "                                 'reviewerName'),\n",
       "                                ('txt_reviewText',\n",
       "                                 TfidfVectorizer(ngram_range=(1, 2)),\n",
       "                                 'reviewText')])</pre></div></div></div><div class=\"sk-parallel\"><div class=\"sk-parallel-item\"><div class=\"sk-item\"><div class=\"sk-label-container\"><div class=\"sk-label sk-toggleable\"><input class=\"sk-toggleable__control sk-hidden--visually\" id=\"44b545df-c451-49c0-a62c-cb1457b6b117\" type=\"checkbox\" ><label class=\"sk-toggleable__label\" for=\"44b545df-c451-49c0-a62c-cb1457b6b117\">cat_rating</label><div class=\"sk-toggleable__content\"><pre>['rating']</pre></div></div></div><div class=\"sk-serial\"><div class=\"sk-item\"><div class=\"sk-estimator sk-toggleable\"><input class=\"sk-toggleable__control sk-hidden--visually\" id=\"a2f9d3b5-bf63-478b-a821-cde182731e10\" type=\"checkbox\" ><label class=\"sk-toggleable__label\" for=\"a2f9d3b5-bf63-478b-a821-cde182731e10\">OneHotEncoder</label><div class=\"sk-toggleable__content\"><pre>OneHotEncoder(handle_unknown='ignore', sparse=False)</pre></div></div></div></div></div></div><div class=\"sk-parallel-item\"><div class=\"sk-item\"><div class=\"sk-label-container\"><div class=\"sk-label sk-toggleable\"><input class=\"sk-toggleable__control sk-hidden--visually\" id=\"e143f0b0-371b-42d4-8233-fb06b324b275\" type=\"checkbox\" ><label class=\"sk-toggleable__label\" for=\"e143f0b0-371b-42d4-8233-fb06b324b275\">cat_isFrequentReviewer</label><div class=\"sk-toggleable__content\"><pre>['isFrequentReviewer']</pre></div></div></div><div class=\"sk-serial\"><div class=\"sk-item\"><div class=\"sk-estimator sk-toggleable\"><input class=\"sk-toggleable__control sk-hidden--visually\" id=\"fe729a28-5b13-44b8-b937-26851f2a31fe\" type=\"checkbox\" ><label class=\"sk-toggleable__label\" for=\"fe729a28-5b13-44b8-b937-26851f2a31fe\">OneHotEncoder</label><div class=\"sk-toggleable__content\"><pre>OneHotEncoder(handle_unknown='ignore', sparse=False)</pre></div></div></div></div></div></div><div class=\"sk-parallel-item\"><div class=\"sk-item\"><div class=\"sk-label-container\"><div class=\"sk-label sk-toggleable\"><input class=\"sk-toggleable__control sk-hidden--visually\" id=\"06aa1ea2-8959-485c-9804-6e0310b5d07e\" type=\"checkbox\" ><label class=\"sk-toggleable__label\" for=\"06aa1ea2-8959-485c-9804-6e0310b5d07e\">num_audienceScore</label><div class=\"sk-toggleable__content\"><pre>['audienceScore']</pre></div></div></div><div class=\"sk-serial\"><div class=\"sk-item\"><div class=\"sk-estimator sk-toggleable\"><input class=\"sk-toggleable__control sk-hidden--visually\" id=\"9928d384-2949-47e5-84e3-d2847a0dd027\" type=\"checkbox\" ><label class=\"sk-toggleable__label\" for=\"9928d384-2949-47e5-84e3-d2847a0dd027\">MinMaxScaler</label><div class=\"sk-toggleable__content\"><pre>MinMaxScaler()</pre></div></div></div></div></div></div><div class=\"sk-parallel-item\"><div class=\"sk-item\"><div class=\"sk-label-container\"><div class=\"sk-label sk-toggleable\"><input class=\"sk-toggleable__control sk-hidden--visually\" id=\"3d6cb41f-4bad-40be-a534-9a347cac4089\" type=\"checkbox\" ><label class=\"sk-toggleable__label\" for=\"3d6cb41f-4bad-40be-a534-9a347cac4089\">num_runtimeMinutes</label><div class=\"sk-toggleable__content\"><pre>['runtimeMinutes']</pre></div></div></div><div class=\"sk-serial\"><div class=\"sk-item\"><div class=\"sk-estimator sk-toggleable\"><input class=\"sk-toggleable__control sk-hidden--visually\" id=\"b78f999d-3959-415b-a8e0-c7a6b8c3dd52\" type=\"checkbox\" ><label class=\"sk-toggleable__label\" for=\"b78f999d-3959-415b-a8e0-c7a6b8c3dd52\">MinMaxScaler</label><div class=\"sk-toggleable__content\"><pre>MinMaxScaler()</pre></div></div></div></div></div></div><div class=\"sk-parallel-item\"><div class=\"sk-item\"><div class=\"sk-label-container\"><div class=\"sk-label sk-toggleable\"><input class=\"sk-toggleable__control sk-hidden--visually\" id=\"5784556f-7368-426f-925d-6fbeb4d222ed\" type=\"checkbox\" ><label class=\"sk-toggleable__label\" for=\"5784556f-7368-426f-925d-6fbeb4d222ed\">txt_originalLanguage</label><div class=\"sk-toggleable__content\"><pre>originalLanguage</pre></div></div></div><div class=\"sk-serial\"><div class=\"sk-item\"><div class=\"sk-estimator sk-toggleable\"><input class=\"sk-toggleable__control sk-hidden--visually\" id=\"942f26d2-91e4-4b9a-ab1f-208c586d1e53\" type=\"checkbox\" ><label class=\"sk-toggleable__label\" for=\"942f26d2-91e4-4b9a-ab1f-208c586d1e53\">TfidfVectorizer</label><div class=\"sk-toggleable__content\"><pre>TfidfVectorizer(ngram_range=(1, 2))</pre></div></div></div></div></div></div><div class=\"sk-parallel-item\"><div class=\"sk-item\"><div class=\"sk-label-container\"><div class=\"sk-label sk-toggleable\"><input class=\"sk-toggleable__control sk-hidden--visually\" id=\"98470cd7-c451-42bd-8402-4ecb4ddb6141\" type=\"checkbox\" ><label class=\"sk-toggleable__label\" for=\"98470cd7-c451-42bd-8402-4ecb4ddb6141\">txt_genre</label><div class=\"sk-toggleable__content\"><pre>genre</pre></div></div></div><div class=\"sk-serial\"><div class=\"sk-item\"><div class=\"sk-estimator sk-toggleable\"><input class=\"sk-toggleable__control sk-hidden--visually\" id=\"4311abf4-4da3-48f6-bcf9-1aef887106ca\" type=\"checkbox\" ><label class=\"sk-toggleable__label\" for=\"4311abf4-4da3-48f6-bcf9-1aef887106ca\">TfidfVectorizer</label><div class=\"sk-toggleable__content\"><pre>TfidfVectorizer(ngram_range=(1, 2))</pre></div></div></div></div></div></div><div class=\"sk-parallel-item\"><div class=\"sk-item\"><div class=\"sk-label-container\"><div class=\"sk-label sk-toggleable\"><input class=\"sk-toggleable__control sk-hidden--visually\" id=\"0546497e-1b24-4488-9169-0f05af97b9c5\" type=\"checkbox\" ><label class=\"sk-toggleable__label\" for=\"0546497e-1b24-4488-9169-0f05af97b9c5\">txt_director</label><div class=\"sk-toggleable__content\"><pre>director</pre></div></div></div><div class=\"sk-serial\"><div class=\"sk-item\"><div class=\"sk-estimator sk-toggleable\"><input class=\"sk-toggleable__control sk-hidden--visually\" id=\"fb00cd86-9503-464f-bfcb-6de5fb3128b0\" type=\"checkbox\" ><label class=\"sk-toggleable__label\" for=\"fb00cd86-9503-464f-bfcb-6de5fb3128b0\">TfidfVectorizer</label><div class=\"sk-toggleable__content\"><pre>TfidfVectorizer(ngram_range=(1, 2))</pre></div></div></div></div></div></div><div class=\"sk-parallel-item\"><div class=\"sk-item\"><div class=\"sk-label-container\"><div class=\"sk-label sk-toggleable\"><input class=\"sk-toggleable__control sk-hidden--visually\" id=\"bb1c2ccb-66fb-4205-bbf9-71dadcaf3c90\" type=\"checkbox\" ><label class=\"sk-toggleable__label\" for=\"bb1c2ccb-66fb-4205-bbf9-71dadcaf3c90\">txt_reviewerName</label><div class=\"sk-toggleable__content\"><pre>reviewerName</pre></div></div></div><div class=\"sk-serial\"><div class=\"sk-item\"><div class=\"sk-estimator sk-toggleable\"><input class=\"sk-toggleable__control sk-hidden--visually\" id=\"50cd8954-b1ea-4ea0-9e85-5fda7dcbe830\" type=\"checkbox\" ><label class=\"sk-toggleable__label\" for=\"50cd8954-b1ea-4ea0-9e85-5fda7dcbe830\">TfidfVectorizer</label><div class=\"sk-toggleable__content\"><pre>TfidfVectorizer(ngram_range=(1, 2))</pre></div></div></div></div></div></div><div class=\"sk-parallel-item\"><div class=\"sk-item\"><div class=\"sk-label-container\"><div class=\"sk-label sk-toggleable\"><input class=\"sk-toggleable__control sk-hidden--visually\" id=\"dd48882c-0794-406b-a003-9d6b2c297740\" type=\"checkbox\" ><label class=\"sk-toggleable__label\" for=\"dd48882c-0794-406b-a003-9d6b2c297740\">txt_reviewText</label><div class=\"sk-toggleable__content\"><pre>reviewText</pre></div></div></div><div class=\"sk-serial\"><div class=\"sk-item\"><div class=\"sk-estimator sk-toggleable\"><input class=\"sk-toggleable__control sk-hidden--visually\" id=\"2d48713c-a5a4-4832-9332-090ac174d959\" type=\"checkbox\" ><label class=\"sk-toggleable__label\" for=\"2d48713c-a5a4-4832-9332-090ac174d959\">TfidfVectorizer</label><div class=\"sk-toggleable__content\"><pre>TfidfVectorizer(ngram_range=(1, 2))</pre></div></div></div></div></div></div></div></div><div class=\"sk-item\"><div class=\"sk-estimator sk-toggleable\"><input class=\"sk-toggleable__control sk-hidden--visually\" id=\"f59c1d99-8d96-4fb7-9c54-9a5adf95b5c7\" type=\"checkbox\" ><label class=\"sk-toggleable__label\" for=\"f59c1d99-8d96-4fb7-9c54-9a5adf95b5c7\">LogisticRegression</label><div class=\"sk-toggleable__content\"><pre>LogisticRegression()</pre></div></div></div></div></div></div></div>"
      ],
      "text/plain": [
       "Pipeline(steps=[('ct',\n",
       "                 ColumnTransformer(transformers=[('cat_rating',\n",
       "                                                  OneHotEncoder(handle_unknown='ignore',\n",
       "                                                                sparse=False),\n",
       "                                                  ['rating']),\n",
       "                                                 ('cat_isFrequentReviewer',\n",
       "                                                  OneHotEncoder(handle_unknown='ignore',\n",
       "                                                                sparse=False),\n",
       "                                                  ['isFrequentReviewer']),\n",
       "                                                 ('num_audienceScore',\n",
       "                                                  MinMaxScaler(),\n",
       "                                                  ['audienceScore']),\n",
       "                                                 ('num_runtimeMinutes',\n",
       "                                                  MinMaxScaler(),\n",
       "                                                  ['runtimeMinutes']),\n",
       "                                                 ('tx...',\n",
       "                                                  TfidfVectorizer(ngram_range=(1,\n",
       "                                                                               2)),\n",
       "                                                  'originalLanguage'),\n",
       "                                                 ('txt_genre',\n",
       "                                                  TfidfVectorizer(ngram_range=(1,\n",
       "                                                                               2)),\n",
       "                                                  'genre'),\n",
       "                                                 ('txt_director',\n",
       "                                                  TfidfVectorizer(ngram_range=(1,\n",
       "                                                                               2)),\n",
       "                                                  'director'),\n",
       "                                                 ('txt_reviewerName',\n",
       "                                                  TfidfVectorizer(ngram_range=(1,\n",
       "                                                                               2)),\n",
       "                                                  'reviewerName'),\n",
       "                                                 ('txt_reviewText',\n",
       "                                                  TfidfVectorizer(ngram_range=(1,\n",
       "                                                                               2)),\n",
       "                                                  'reviewText')])),\n",
       "                ('model', LogisticRegression())])"
      ]
     },
     "execution_count": 27,
     "metadata": {},
     "output_type": "execute_result"
    }
   ],
   "source": [
    "build_pipeline(selected_features=SFs)"
   ]
  },
  {
   "cell_type": "code",
   "execution_count": 8,
   "metadata": {},
   "outputs": [],
   "source": [
    "def submit_v4(selected_model=LogisticRegression(), selected_features={'txt': ['reviewText']}):\n",
    "\n",
    "    # Build Pipeline\n",
    "    pipe = build_pipeline(selected_model, selected_features)\n",
    "\n",
    "    # Features list\n",
    "    features = selected_features['cat'] + selected_features['num'] + selected_features['txt']\n",
    "\n",
    "    # Retrain on the whole train.csv file  \n",
    "    merged = select_features(load_csv(\"train\"), load_csv(\"movies\"))\n",
    "    X_train = merged.drop(labels=\"sentiment\", axis=1)\n",
    "    y_train = merged[\"sentiment\"]\n",
    "\n",
    "    X_train = X_train[features]\n",
    "    \n",
    "    # Check1\n",
    "    print(X_train.shape)\n",
    "    print(X_train.head())\n",
    "    try:\n",
    "        print(selected_model.named_steps['model'].intercept_, selected_model.named_steps['model'].coef_)\n",
    "    except:\n",
    "        print(\"Model not trained yet!\")\n",
    "    \n",
    "    # Fit \n",
    "    pipe.fit(X_train, y_train)\n",
    "    \n",
    "    # Check2\n",
    "    print(selected_model.named_steps['model'].intercept_, selected_model.named_steps['model'].coef_)\n",
    "    \n",
    "    # Predict on test.csv file\n",
    "    merged_test = select_features(load_csv(\"test\"), load_csv(\"movies\"))\n",
    "    X_test = merged_test.copy()\n",
    "\n",
    "    X_test = X_test[features]\n",
    "    \n",
    "    # Check3\n",
    "    print(X_test.shape)\n",
    "    print(X_test.head())\n",
    "    \n",
    "    y_pred = pipe.predict(X_test)\n",
    "    \n",
    "    pred_df = pd.DataFrame(y_pred)\n",
    "    pred_df.columns = [\"sentiment\"]\n",
    "    pred_df.index.name = \"id\"\n",
    "    pred_df.to_csv(\"submission.csv\")\n",
    "    \n",
    "    return \"Successfully created the submission file!!!\""
   ]
  }
 ],
 "metadata": {
  "kernelspec": {
   "display_name": "Python 3",
   "language": "python",
   "name": "python3"
  },
  "language_info": {
   "codemirror_mode": {
    "name": "ipython",
    "version": 3
   },
   "file_extension": ".py",
   "mimetype": "text/x-python",
   "name": "python",
   "nbconvert_exporter": "python",
   "pygments_lexer": "ipython3",
   "version": "3.9.7"
  },
  "orig_nbformat": 4
 },
 "nbformat": 4,
 "nbformat_minor": 2
}
