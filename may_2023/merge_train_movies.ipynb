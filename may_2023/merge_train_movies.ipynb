{
 "cells": [
  {
   "cell_type": "code",
   "execution_count": 1,
   "metadata": {},
   "outputs": [],
   "source": [
    "import pandas as pd\n",
    "import numpy as np"
   ]
  },
  {
   "cell_type": "code",
   "execution_count": 4,
   "metadata": {},
   "outputs": [
    {
     "data": {
      "text/plain": [
       "(162758, 5)"
      ]
     },
     "execution_count": 4,
     "metadata": {},
     "output_type": "execute_result"
    }
   ],
   "source": [
    "traindf = pd.read_csv(\"data/train.csv\")\n",
    "traindf.shape"
   ]
  },
  {
   "cell_type": "code",
   "execution_count": 6,
   "metadata": {},
   "outputs": [
    {
     "data": {
      "text/plain": [
       "(143258, 14)"
      ]
     },
     "execution_count": 6,
     "metadata": {},
     "output_type": "execute_result"
    }
   ],
   "source": [
    "moviesdf = pd.read_csv(\"data/movies.csv\")\n",
    "moviesdf.shape"
   ]
  },
  {
   "cell_type": "code",
   "execution_count": 7,
   "metadata": {},
   "outputs": [
    {
     "data": {
      "text/plain": [
       "(Index(['movieid', 'reviewerName', 'isFrequentReviewer', 'reviewText',\n",
       "        'sentiment'],\n",
       "       dtype='object'),\n",
       " Index(['movieid', 'title', 'audienceScore', 'rating', 'ratingContents',\n",
       "        'releaseDateTheaters', 'releaseDateStreaming', 'runtimeMinutes',\n",
       "        'genre', 'originalLanguage', 'director', 'boxOffice', 'distributor',\n",
       "        'soundType'],\n",
       "       dtype='object'))"
      ]
     },
     "execution_count": 7,
     "metadata": {},
     "output_type": "execute_result"
    }
   ],
   "source": [
    "traindf.columns, moviesdf.columns"
   ]
  },
  {
   "cell_type": "code",
   "execution_count": 10,
   "metadata": {},
   "outputs": [
    {
     "data": {
      "text/plain": [
       "English            85034\n",
       "Spanish             4786\n",
       "Japanese            3482\n",
       "Hindi               3309\n",
       "French (Canada)     3282\n",
       "                   ...  \n",
       "Bhojpuri               1\n",
       "Hawaiian               1\n",
       "Yoruba                 1\n",
       "smi                    1\n",
       "Aramaic                1\n",
       "Name: originalLanguage, Length: 112, dtype: int64"
      ]
     },
     "execution_count": 10,
     "metadata": {},
     "output_type": "execute_result"
    }
   ],
   "source": [
    "# moviesdf[moviesdf[\"originalLanguage\"]==\"English\"].shape\n",
    "moviesdf[\"originalLanguage\"].value_counts()"
   ]
  },
  {
   "cell_type": "code",
   "execution_count": 13,
   "metadata": {},
   "outputs": [
    {
     "data": {
      "text/plain": [
       "(16812, numpy.ndarray)"
      ]
     },
     "execution_count": 13,
     "metadata": {},
     "output_type": "execute_result"
    }
   ],
   "source": [
    "unique_movies = traindf[\"movieid\"].unique()\n",
    "len(unique_movies), type(unique_movies)"
   ]
  },
  {
   "cell_type": "code",
   "execution_count": 21,
   "metadata": {},
   "outputs": [
    {
     "data": {
      "text/plain": [
       "English                     17560\n",
       "French (France)               613\n",
       "English (United Kingdom)      557\n",
       "French (Canada)               541\n",
       "Spanish                       460\n",
       "                            ...  \n",
       "Welsh                           1\n",
       "Irish                           1\n",
       "Somali                          1\n",
       "Luxembourgish                   1\n",
       "Aramaic                         1\n",
       "Name: originalLanguage, Length: 96, dtype: int64"
      ]
     },
     "execution_count": 21,
     "metadata": {},
     "output_type": "execute_result"
    }
   ],
   "source": [
    "moviesdf[moviesdf[\"movieid\"].isin(unique_movies)][\"originalLanguage\"].value_counts()"
   ]
  },
  {
   "cell_type": "code",
   "execution_count": 22,
   "metadata": {},
   "outputs": [
    {
     "data": {
      "text/plain": [
       "escape_the_terminator_tyler_durden_astonish         367\n",
       "silent_mystery_the_terminator                        17\n",
       "crimson_james_t._kirk_marty_mcfly_hulk               17\n",
       "darth_vader_dazzling_courageous_holly_golightly      16\n",
       "rocky_balboa_wonder_woman_majestic_emerald           16\n",
       "                                                   ... \n",
       "anakin_skywalker_frodo_baggins_t-800_black_widow      1\n",
       "phantom_hannibal_lecter_don_vito_corleone_pirate      1\n",
       "v_bruce_wayne_stardust                                1\n",
       "mystery_lara_croft_tony_montana                       1\n",
       "wonder_hermione_granger_hulk_v                        1\n",
       "Name: movieid, Length: 126404, dtype: int64"
      ]
     },
     "execution_count": 22,
     "metadata": {},
     "output_type": "execute_result"
    }
   ],
   "source": [
    "moviesdf[\"movieid\"].value_counts()"
   ]
  },
  {
   "cell_type": "code",
   "execution_count": 27,
   "metadata": {},
   "outputs": [
    {
     "data": {
      "text/html": [
       "<div>\n",
       "<style scoped>\n",
       "    .dataframe tbody tr th:only-of-type {\n",
       "        vertical-align: middle;\n",
       "    }\n",
       "\n",
       "    .dataframe tbody tr th {\n",
       "        vertical-align: top;\n",
       "    }\n",
       "\n",
       "    .dataframe thead th {\n",
       "        text-align: right;\n",
       "    }\n",
       "</style>\n",
       "<table border=\"1\" class=\"dataframe\">\n",
       "  <thead>\n",
       "    <tr style=\"text-align: right;\">\n",
       "      <th></th>\n",
       "      <th>movieid</th>\n",
       "      <th>title</th>\n",
       "      <th>audienceScore</th>\n",
       "      <th>rating</th>\n",
       "      <th>ratingContents</th>\n",
       "      <th>releaseDateTheaters</th>\n",
       "      <th>releaseDateStreaming</th>\n",
       "      <th>runtimeMinutes</th>\n",
       "      <th>genre</th>\n",
       "      <th>originalLanguage</th>\n",
       "      <th>director</th>\n",
       "      <th>boxOffice</th>\n",
       "      <th>distributor</th>\n",
       "      <th>soundType</th>\n",
       "    </tr>\n",
       "  </thead>\n",
       "  <tbody>\n",
       "    <tr>\n",
       "      <th>15649</th>\n",
       "      <td>silent_mystery_the_terminator</td>\n",
       "      <td>Silent Mystery The Terminator</td>\n",
       "      <td>21.0</td>\n",
       "      <td>R</td>\n",
       "      <td>['Violence', 'Some Language']</td>\n",
       "      <td>NaN</td>\n",
       "      <td>2010-06-01</td>\n",
       "      <td>90.0</td>\n",
       "      <td>Action, Mystery &amp; thriller</td>\n",
       "      <td>English</td>\n",
       "      <td>Kenneth Silverwood</td>\n",
       "      <td>NaN</td>\n",
       "      <td>NaN</td>\n",
       "      <td>NaN</td>\n",
       "    </tr>\n",
       "    <tr>\n",
       "      <th>35010</th>\n",
       "      <td>silent_mystery_the_terminator</td>\n",
       "      <td>Silent Mystery The Terminator</td>\n",
       "      <td>0.0</td>\n",
       "      <td>NaN</td>\n",
       "      <td>NaN</td>\n",
       "      <td>NaN</td>\n",
       "      <td>NaN</td>\n",
       "      <td>100.0</td>\n",
       "      <td>Sci-fi</td>\n",
       "      <td>English</td>\n",
       "      <td>Tyler Moore</td>\n",
       "      <td>NaN</td>\n",
       "      <td>NaN</td>\n",
       "      <td>NaN</td>\n",
       "    </tr>\n",
       "    <tr>\n",
       "      <th>45236</th>\n",
       "      <td>silent_mystery_the_terminator</td>\n",
       "      <td>Silent Mystery The Terminator</td>\n",
       "      <td>97.0</td>\n",
       "      <td>NaN</td>\n",
       "      <td>NaN</td>\n",
       "      <td>NaN</td>\n",
       "      <td>2018-01-06</td>\n",
       "      <td>120.0</td>\n",
       "      <td>Drama</td>\n",
       "      <td>Bangla</td>\n",
       "      <td>Fermin Dreher</td>\n",
       "      <td>NaN</td>\n",
       "      <td>NaN</td>\n",
       "      <td>Mono</td>\n",
       "    </tr>\n",
       "    <tr>\n",
       "      <th>47556</th>\n",
       "      <td>silent_mystery_the_terminator</td>\n",
       "      <td>Silent Mystery The Terminator</td>\n",
       "      <td>NaN</td>\n",
       "      <td>NaN</td>\n",
       "      <td>NaN</td>\n",
       "      <td>NaN</td>\n",
       "      <td>2017-03-10</td>\n",
       "      <td>15.0</td>\n",
       "      <td>Drama, Mystery &amp; thriller</td>\n",
       "      <td>English</td>\n",
       "      <td>Elva Simmons</td>\n",
       "      <td>NaN</td>\n",
       "      <td>NaN</td>\n",
       "      <td>NaN</td>\n",
       "    </tr>\n",
       "    <tr>\n",
       "      <th>53301</th>\n",
       "      <td>silent_mystery_the_terminator</td>\n",
       "      <td>Silent Mystery The Terminator</td>\n",
       "      <td>81.0</td>\n",
       "      <td>NaN</td>\n",
       "      <td>NaN</td>\n",
       "      <td>1946-05-25</td>\n",
       "      <td>2005-03-29</td>\n",
       "      <td>95.0</td>\n",
       "      <td>Mystery &amp; thriller</td>\n",
       "      <td>English</td>\n",
       "      <td>Jesus Routh</td>\n",
       "      <td>NaN</td>\n",
       "      <td>RKO Radio Pictures</td>\n",
       "      <td>NaN</td>\n",
       "    </tr>\n",
       "    <tr>\n",
       "      <th>59002</th>\n",
       "      <td>silent_mystery_the_terminator</td>\n",
       "      <td>Silent Mystery The Terminator</td>\n",
       "      <td>68.0</td>\n",
       "      <td>NaN</td>\n",
       "      <td>NaN</td>\n",
       "      <td>NaN</td>\n",
       "      <td>2022-10-19</td>\n",
       "      <td>117.0</td>\n",
       "      <td>Crime, Drama, Mystery &amp; thriller</td>\n",
       "      <td>English</td>\n",
       "      <td>Olga Turner</td>\n",
       "      <td>NaN</td>\n",
       "      <td>NaN</td>\n",
       "      <td>NaN</td>\n",
       "    </tr>\n",
       "    <tr>\n",
       "      <th>64469</th>\n",
       "      <td>silent_mystery_the_terminator</td>\n",
       "      <td>Silent Mystery The Terminator</td>\n",
       "      <td>NaN</td>\n",
       "      <td>NaN</td>\n",
       "      <td>NaN</td>\n",
       "      <td>NaN</td>\n",
       "      <td>NaN</td>\n",
       "      <td>82.0</td>\n",
       "      <td>Documentary</td>\n",
       "      <td>English</td>\n",
       "      <td>Matthew Provencal</td>\n",
       "      <td>NaN</td>\n",
       "      <td>NaN</td>\n",
       "      <td>NaN</td>\n",
       "    </tr>\n",
       "    <tr>\n",
       "      <th>68314</th>\n",
       "      <td>silent_mystery_the_terminator</td>\n",
       "      <td>Silent Mystery The Terminator</td>\n",
       "      <td>50.0</td>\n",
       "      <td>NaN</td>\n",
       "      <td>NaN</td>\n",
       "      <td>NaN</td>\n",
       "      <td>2013-10-11</td>\n",
       "      <td>88.0</td>\n",
       "      <td>Mystery &amp; thriller</td>\n",
       "      <td>English</td>\n",
       "      <td>Sharan Hoyos</td>\n",
       "      <td>$24.8K</td>\n",
       "      <td>NaN</td>\n",
       "      <td>Surround</td>\n",
       "    </tr>\n",
       "    <tr>\n",
       "      <th>78370</th>\n",
       "      <td>silent_mystery_the_terminator</td>\n",
       "      <td>Silent Mystery The Terminator</td>\n",
       "      <td>NaN</td>\n",
       "      <td>NaN</td>\n",
       "      <td>NaN</td>\n",
       "      <td>NaN</td>\n",
       "      <td>NaN</td>\n",
       "      <td>96.0</td>\n",
       "      <td>Drama</td>\n",
       "      <td>Turkish</td>\n",
       "      <td>Vicky Chapman</td>\n",
       "      <td>NaN</td>\n",
       "      <td>NaN</td>\n",
       "      <td>NaN</td>\n",
       "    </tr>\n",
       "    <tr>\n",
       "      <th>83611</th>\n",
       "      <td>silent_mystery_the_terminator</td>\n",
       "      <td>Silent Mystery The Terminator</td>\n",
       "      <td>69.0</td>\n",
       "      <td>NaN</td>\n",
       "      <td>NaN</td>\n",
       "      <td>NaN</td>\n",
       "      <td>NaN</td>\n",
       "      <td>105.0</td>\n",
       "      <td>Drama</td>\n",
       "      <td>French (Canada)</td>\n",
       "      <td>Eura Leon</td>\n",
       "      <td>NaN</td>\n",
       "      <td>NaN</td>\n",
       "      <td>NaN</td>\n",
       "    </tr>\n",
       "  </tbody>\n",
       "</table>\n",
       "</div>"
      ],
      "text/plain": [
       "                             movieid                          title  \\\n",
       "15649  silent_mystery_the_terminator  Silent Mystery The Terminator   \n",
       "35010  silent_mystery_the_terminator  Silent Mystery The Terminator   \n",
       "45236  silent_mystery_the_terminator  Silent Mystery The Terminator   \n",
       "47556  silent_mystery_the_terminator  Silent Mystery The Terminator   \n",
       "53301  silent_mystery_the_terminator  Silent Mystery The Terminator   \n",
       "59002  silent_mystery_the_terminator  Silent Mystery The Terminator   \n",
       "64469  silent_mystery_the_terminator  Silent Mystery The Terminator   \n",
       "68314  silent_mystery_the_terminator  Silent Mystery The Terminator   \n",
       "78370  silent_mystery_the_terminator  Silent Mystery The Terminator   \n",
       "83611  silent_mystery_the_terminator  Silent Mystery The Terminator   \n",
       "\n",
       "       audienceScore rating                 ratingContents  \\\n",
       "15649           21.0      R  ['Violence', 'Some Language']   \n",
       "35010            0.0    NaN                            NaN   \n",
       "45236           97.0    NaN                            NaN   \n",
       "47556            NaN    NaN                            NaN   \n",
       "53301           81.0    NaN                            NaN   \n",
       "59002           68.0    NaN                            NaN   \n",
       "64469            NaN    NaN                            NaN   \n",
       "68314           50.0    NaN                            NaN   \n",
       "78370            NaN    NaN                            NaN   \n",
       "83611           69.0    NaN                            NaN   \n",
       "\n",
       "      releaseDateTheaters releaseDateStreaming  runtimeMinutes  \\\n",
       "15649                 NaN           2010-06-01            90.0   \n",
       "35010                 NaN                  NaN           100.0   \n",
       "45236                 NaN           2018-01-06           120.0   \n",
       "47556                 NaN           2017-03-10            15.0   \n",
       "53301          1946-05-25           2005-03-29            95.0   \n",
       "59002                 NaN           2022-10-19           117.0   \n",
       "64469                 NaN                  NaN            82.0   \n",
       "68314                 NaN           2013-10-11            88.0   \n",
       "78370                 NaN                  NaN            96.0   \n",
       "83611                 NaN                  NaN           105.0   \n",
       "\n",
       "                                  genre originalLanguage            director  \\\n",
       "15649        Action, Mystery & thriller          English  Kenneth Silverwood   \n",
       "35010                            Sci-fi          English         Tyler Moore   \n",
       "45236                             Drama           Bangla       Fermin Dreher   \n",
       "47556         Drama, Mystery & thriller          English        Elva Simmons   \n",
       "53301                Mystery & thriller          English         Jesus Routh   \n",
       "59002  Crime, Drama, Mystery & thriller          English         Olga Turner   \n",
       "64469                       Documentary          English   Matthew Provencal   \n",
       "68314                Mystery & thriller          English        Sharan Hoyos   \n",
       "78370                             Drama          Turkish       Vicky Chapman   \n",
       "83611                             Drama  French (Canada)           Eura Leon   \n",
       "\n",
       "      boxOffice         distributor soundType  \n",
       "15649       NaN                 NaN       NaN  \n",
       "35010       NaN                 NaN       NaN  \n",
       "45236       NaN                 NaN      Mono  \n",
       "47556       NaN                 NaN       NaN  \n",
       "53301       NaN  RKO Radio Pictures       NaN  \n",
       "59002       NaN                 NaN       NaN  \n",
       "64469       NaN                 NaN       NaN  \n",
       "68314    $24.8K                 NaN  Surround  \n",
       "78370       NaN                 NaN       NaN  \n",
       "83611       NaN                 NaN       NaN  "
      ]
     },
     "execution_count": 27,
     "metadata": {},
     "output_type": "execute_result"
    }
   ],
   "source": [
    "moviesdf[moviesdf[\"movieid\"] == \"silent_mystery_the_terminator\"].head(10)"
   ]
  }
 ],
 "metadata": {
  "kernelspec": {
   "display_name": "Python 3",
   "language": "python",
   "name": "python3"
  },
  "language_info": {
   "codemirror_mode": {
    "name": "ipython",
    "version": 3
   },
   "file_extension": ".py",
   "mimetype": "text/x-python",
   "name": "python",
   "nbconvert_exporter": "python",
   "pygments_lexer": "ipython3",
   "version": "3.9.7"
  },
  "orig_nbformat": 4
 },
 "nbformat": 4,
 "nbformat_minor": 2
}
