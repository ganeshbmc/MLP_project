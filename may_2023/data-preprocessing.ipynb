{
 "cells": [
  {
   "cell_type": "code",
   "execution_count": 1,
   "id": "fd470976",
   "metadata": {
    "_cell_guid": "b1076dfc-b9ad-4769-8c92-a6c4dae69d19",
    "_uuid": "8f2839f25d086af736a60e9eeb907d3b93b6e0e5",
    "execution": {
     "iopub.execute_input": "2023-06-04T09:36:25.034876Z",
     "iopub.status.busy": "2023-06-04T09:36:25.034436Z",
     "iopub.status.idle": "2023-06-04T09:36:25.049695Z",
     "shell.execute_reply": "2023-06-04T09:36:25.048326Z"
    },
    "papermill": {
     "duration": 0.028681,
     "end_time": "2023-06-04T09:36:25.052021",
     "exception": false,
     "start_time": "2023-06-04T09:36:25.023340",
     "status": "completed"
    },
    "tags": []
   },
   "outputs": [],
   "source": [
    "# This Python 3 environment comes with many helpful analytics libraries installed\n",
    "# It is defined by the kaggle/python Docker image: https://github.com/kaggle/docker-python\n",
    "# For example, here's several helpful packages to load\n",
    "\n",
    "import numpy as np # linear algebra\n",
    "import pandas as pd # data processing, CSV file I/O (e.g. pd.read_csv)\n",
    "\n",
    "# Input data files are available in the read-only \"../input/\" directory\n",
    "# For example, running this (by clicking run or pressing Shift+Enter) will list all files under the input directory\n",
    "\n",
    "import os\n",
    "for dirname, _, filenames in os.walk('/kaggle/input'):\n",
    "    for filename in filenames:\n",
    "        print(os.path.join(dirname, filename))\n",
    "\n",
    "# You can write up to 20GB to the current directory (/kaggle/working/) that gets preserved as output when you create a version using \"Save & Run All\" \n",
    "# You can also write temporary files to /kaggle/temp/, but they won't be saved outside of the current session"
   ]
  },
  {
   "cell_type": "code",
   "execution_count": 6,
   "id": "386c4a8c",
   "metadata": {
    "execution": {
     "iopub.execute_input": "2023-06-04T09:36:25.071147Z",
     "iopub.status.busy": "2023-06-04T09:36:25.070780Z",
     "iopub.status.idle": "2023-06-04T09:36:26.109926Z",
     "shell.execute_reply": "2023-06-04T09:36:26.108634Z"
    },
    "papermill": {
     "duration": 1.05149,
     "end_time": "2023-06-04T09:36:26.112273",
     "exception": false,
     "start_time": "2023-06-04T09:36:25.060783",
     "status": "completed"
    },
    "tags": []
   },
   "outputs": [
    {
     "data": {
      "text/plain": [
       "(162758, 5)"
      ]
     },
     "execution_count": 6,
     "metadata": {},
     "output_type": "execute_result"
    }
   ],
   "source": [
    "traindf = pd.read_csv(\"data/train.csv\")\n",
    "traindf.shape"
   ]
  },
  {
   "cell_type": "code",
   "execution_count": 7,
   "id": "7618826f",
   "metadata": {
    "execution": {
     "iopub.execute_input": "2023-06-04T09:36:26.131856Z",
     "iopub.status.busy": "2023-06-04T09:36:26.131442Z",
     "iopub.status.idle": "2023-06-04T09:36:26.466084Z",
     "shell.execute_reply": "2023-06-04T09:36:26.464836Z"
    },
    "papermill": {
     "duration": 0.347849,
     "end_time": "2023-06-04T09:36:26.468982",
     "exception": false,
     "start_time": "2023-06-04T09:36:26.121133",
     "status": "completed"
    },
    "tags": []
   },
   "outputs": [
    {
     "data": {
      "text/plain": [
       "(55315, 4)"
      ]
     },
     "execution_count": 7,
     "metadata": {},
     "output_type": "execute_result"
    }
   ],
   "source": [
    "testdf = pd.read_csv(\"data/test.csv\")\n",
    "testdf.shape"
   ]
  },
  {
   "cell_type": "code",
   "execution_count": 8,
   "id": "574774a1",
   "metadata": {
    "execution": {
     "iopub.execute_input": "2023-06-04T09:36:26.488914Z",
     "iopub.status.busy": "2023-06-04T09:36:26.488492Z",
     "iopub.status.idle": "2023-06-04T09:36:26.527889Z",
     "shell.execute_reply": "2023-06-04T09:36:26.526687Z"
    },
    "papermill": {
     "duration": 0.052544,
     "end_time": "2023-06-04T09:36:26.530561",
     "exception": false,
     "start_time": "2023-06-04T09:36:26.478017",
     "status": "completed"
    },
    "tags": []
   },
   "outputs": [
    {
     "data": {
      "text/plain": [
       "0         Henry Selick’s first movie since 2009’s Corali...\n",
       "1         With a cast that reads like the Vogue Oscar pa...\n",
       "2         Creed II does not give us anything but another...\n",
       "3         I know what you're thinking, but this is no Li...\n",
       "4         Director Fernando Meirelles tells the story wi...\n",
       "                                ...                        \n",
       "162753    A top-notch thriller with genuine surprises an...\n",
       "162754    Some people find Derek Zoolander funny and lik...\n",
       "162755    This fun, gentle comedy focuses mainly on them...\n",
       "162756    The film is rescued by a strong third act, but...\n",
       "162757            A peerless exercise in stimulus response.\n",
       "Name: reviewText, Length: 162758, dtype: object"
      ]
     },
     "execution_count": 8,
     "metadata": {},
     "output_type": "execute_result"
    }
   ],
   "source": [
    "X_train = traindf[\"reviewText\"]\n",
    "X_train.fillna(\"neutral\", inplace=True)\n",
    "X_train"
   ]
  },
  {
   "cell_type": "code",
   "execution_count": 9,
   "id": "5122997e",
   "metadata": {
    "execution": {
     "iopub.execute_input": "2023-06-04T09:36:26.552191Z",
     "iopub.status.busy": "2023-06-04T09:36:26.551798Z",
     "iopub.status.idle": "2023-06-04T09:36:26.560726Z",
     "shell.execute_reply": "2023-06-04T09:36:26.559659Z"
    },
    "papermill": {
     "duration": 0.021833,
     "end_time": "2023-06-04T09:36:26.563173",
     "exception": false,
     "start_time": "2023-06-04T09:36:26.541340",
     "status": "completed"
    },
    "tags": []
   },
   "outputs": [
    {
     "data": {
      "text/plain": [
       "0         POSITIVE\n",
       "1         NEGATIVE\n",
       "2         POSITIVE\n",
       "3         POSITIVE\n",
       "4         POSITIVE\n",
       "            ...   \n",
       "162753    POSITIVE\n",
       "162754    NEGATIVE\n",
       "162755    POSITIVE\n",
       "162756    NEGATIVE\n",
       "162757    POSITIVE\n",
       "Name: sentiment, Length: 162758, dtype: object"
      ]
     },
     "execution_count": 9,
     "metadata": {},
     "output_type": "execute_result"
    }
   ],
   "source": [
    "y_train = traindf['sentiment']\n",
    "y_train"
   ]
  },
  {
   "cell_type": "code",
   "execution_count": 10,
   "id": "be0f5da3",
   "metadata": {
    "execution": {
     "iopub.execute_input": "2023-06-04T09:36:26.583823Z",
     "iopub.status.busy": "2023-06-04T09:36:26.583406Z",
     "iopub.status.idle": "2023-06-04T09:36:26.601905Z",
     "shell.execute_reply": "2023-06-04T09:36:26.600870Z"
    },
    "papermill": {
     "duration": 0.031447,
     "end_time": "2023-06-04T09:36:26.604227",
     "exception": false,
     "start_time": "2023-06-04T09:36:26.572780",
     "status": "completed"
    },
    "tags": []
   },
   "outputs": [
    {
     "data": {
      "text/plain": [
       "0        Green slowly cranks up the dread with style an...\n",
       "1        Philip Noyce's direction is elegant and unforc...\n",
       "2        It wouldn't do to say what path Maria ultimate...\n",
       "3        Pig is not exactly the arthouse John Wick that...\n",
       "4        An imaginative no-budget musical of sorts abou...\n",
       "                               ...                        \n",
       "55310    Ron Howard delivers an unconventional romantic...\n",
       "55311    As an oddball art film that openly invites you...\n",
       "55312    Nicholson wears his devilish grin from his fir...\n",
       "55313    It's hard not be entertained by two dozen of C...\n",
       "55314    Not clever enough for Smith fans, not gross en...\n",
       "Name: reviewText, Length: 55315, dtype: object"
      ]
     },
     "execution_count": 10,
     "metadata": {},
     "output_type": "execute_result"
    }
   ],
   "source": [
    "X_test = testdf[\"reviewText\"]\n",
    "X_test.fillna(\"neutral\", inplace=True)\n",
    "X_test"
   ]
  },
  {
   "cell_type": "code",
   "execution_count": 11,
   "id": "4e819d94",
   "metadata": {
    "execution": {
     "iopub.execute_input": "2023-06-04T09:36:26.626132Z",
     "iopub.status.busy": "2023-06-04T09:36:26.625005Z",
     "iopub.status.idle": "2023-06-04T09:36:28.289756Z",
     "shell.execute_reply": "2023-06-04T09:36:28.288573Z"
    },
    "papermill": {
     "duration": 1.678618,
     "end_time": "2023-06-04T09:36:28.292575",
     "exception": false,
     "start_time": "2023-06-04T09:36:26.613957",
     "status": "completed"
    },
    "tags": []
   },
   "outputs": [],
   "source": [
    "from sklearn.feature_extraction.text import TfidfVectorizer, CountVectorizer\n",
    "from sklearn.pipeline import Pipeline\n",
    "from sklearn.linear_model import LogisticRegression"
   ]
  },
  {
   "attachments": {},
   "cell_type": "markdown",
   "id": "325829c9",
   "metadata": {
    "papermill": {
     "duration": 0.00978,
     "end_time": "2023-06-04T09:36:28.312103",
     "exception": false,
     "start_time": "2023-06-04T09:36:28.302323",
     "status": "completed"
    },
    "tags": []
   },
   "source": [
    "## Define stop words  "
   ]
  },
  {
   "cell_type": "code",
   "execution_count": 12,
   "id": "d8fb9fc4",
   "metadata": {
    "execution": {
     "iopub.execute_input": "2023-06-04T09:36:28.334924Z",
     "iopub.status.busy": "2023-06-04T09:36:28.334510Z",
     "iopub.status.idle": "2023-06-04T09:36:28.408334Z",
     "shell.execute_reply": "2023-06-04T09:36:28.407527Z"
    },
    "papermill": {
     "duration": 0.088641,
     "end_time": "2023-06-04T09:36:28.410746",
     "exception": false,
     "start_time": "2023-06-04T09:36:28.322105",
     "status": "completed"
    },
    "tags": []
   },
   "outputs": [
    {
     "data": {
      "text/plain": [
       "(list, 1160)"
      ]
     },
     "execution_count": 12,
     "metadata": {},
     "output_type": "execute_result"
    }
   ],
   "source": [
    "stop_words = [\"0o\", \"0s\", \"3a\", \"3b\", \"3d\", \"6b\", \"6o\", \"a\", \"a1\", \"a2\", \"a3\", \"a4\", \"ab\", \"able\", \"about\", \"above\", \"abst\", \"ac\", \"accordance\", \"according\", \"accordingly\", \"across\", \"act\", \"actually\", \"ad\", \"added\", \"adj\", \"ae\", \"af\", \"affected\", \"affecting\", \"affects\", \"after\", \"afterwards\", \"ag\", \"again\", \"against\", \"ah\", \"ain\", \"ain't\", \"aj\", \"al\", \"all\", \"allow\", \"allows\", \"almost\", \"alone\", \"along\", \"already\", \"also\", \"although\", \"always\", \"am\", \"among\", \"amongst\", \"amoungst\", \"amount\", \"an\", \"and\", \"announce\", \"another\", \"any\", \"anybody\", \"anyhow\", \"anymore\", \"anyone\", \"anything\", \"anyway\", \"anyways\", \"anywhere\", \"ao\", \"ap\", \"apart\", \"apparently\", \"appear\", \"appreciate\", \"appropriate\", \"approximately\", \"ar\", \"are\", \"aren\", \"arent\", \"aren't\", \"arise\", \"around\", \"as\", \"a's\", \"aside\", \"ask\", \"asking\", \"associated\", \"at\", \"au\", \"auth\", \"av\", \"available\", \"aw\", \"away\", \"awfully\", \"ax\", \"ay\", \"az\", \"b\", \"b1\", \"b2\", \"b3\", \"ba\", \"back\", \"bc\", \"bd\", \"be\", \"became\", \"because\", \"become\", \"becomes\", \"becoming\", \"been\", \"before\", \"beforehand\", \"begin\", \"beginning\", \"beginnings\", \"begins\", \"behind\", \"being\", \"believe\", \"below\", \"beside\", \"besides\", \"best\", \"better\", \"between\", \"beyond\", \"bi\", \"bill\", \"biol\", \"bj\", \"bk\", \"bl\", \"bn\", \"both\", \"bottom\", \"bp\", \"br\", \"brief\", \"briefly\", \"bs\", \"bt\", \"bu\", \"but\", \"bx\", \"by\", \"c\", \"c1\", \"c2\", \"c3\", \"ca\", \"call\", \"came\", \"can\", \"cannot\", \"cant\", \"can't\", \"cause\", \"causes\", \"cc\", \"cd\", \"ce\", \"certain\", \"certainly\", \"cf\", \"cg\", \"ch\", \"changes\", \"ci\", \"cit\", \"cj\", \"cl\", \"clearly\", \"cm\", \"c'mon\", \"cn\", \"co\", \"com\", \"come\", \"comes\", \"con\", \"concerning\", \"consequently\", \"consider\", \"considering\", \"contain\", \"containing\", \"contains\", \"corresponding\", \"could\", \"couldn\", \"couldnt\", \"couldn't\", \"course\", \"cp\", \"cq\", \"cr\", \"cry\", \"cs\", \"c's\", \"ct\", \"cu\", \"currently\", \"cv\", \"cx\", \"cy\", \"cz\", \"d\", \"d2\", \"da\", \"date\", \"dc\", \"dd\", \"de\", \"definitely\", \"describe\", \"described\", \"despite\", \"detail\", \"df\", \"di\", \"did\", \"didn\", \"didn't\", \"different\", \"dj\", \"dk\", \"dl\", \"do\", \"does\", \"doesn\", \"doesn't\", \"doing\", \"don\", \"done\", \"don't\", \"down\", \"downwards\", \"dp\", \"dr\", \"ds\", \"dt\", \"du\", \"due\", \"during\", \"dx\", \"dy\", \"e\", \"e2\", \"e3\", \"ea\", \"each\", \"ec\", \"ed\", \"edu\", \"ee\", \"ef\", \"effect\", \"eg\", \"ei\", \"eight\", \"eighty\", \"either\", \"ej\", \"el\", \"eleven\", \"else\", \"elsewhere\", \"em\", \"empty\", \"en\", \"end\", \"ending\", \"enough\", \"entirely\", \"eo\", \"ep\", \"eq\", \"er\", \"es\", \"especially\", \"est\", \"et\", \"et-al\", \"etc\", \"eu\", \"ev\", \"even\", \"ever\", \"every\", \"everybody\", \"everyone\", \"everything\", \"everywhere\", \"ex\", \"exactly\", \"example\", \"except\", \"ey\", \"f\", \"f2\", \"fa\", \"far\", \"fc\", \"few\", \"ff\", \"fi\", \"fifteen\", \"fifth\", \"fify\", \"fill\", \"find\", \"fire\", \"first\", \"five\", \"fix\", \"fj\", \"fl\", \"fn\", \"fo\", \"followed\", \"following\", \"follows\", \"for\", \"former\", \"formerly\", \"forth\", \"forty\", \"found\", \"four\", \"fr\", \"from\", \"front\", \"fs\", \"ft\", \"fu\", \"full\", \"further\", \"furthermore\", \"fy\", \"g\", \"ga\", \"gave\", \"ge\", \"get\", \"gets\", \"getting\", \"gi\", \"give\", \"given\", \"gives\", \"giving\", \"gj\", \"gl\", \"go\", \"goes\", \"going\", \"gone\", \"got\", \"gotten\", \"gr\", \"greetings\", \"gs\", \"gy\", \"h\", \"h2\", \"h3\", \"had\", \"hadn\", \"hadn't\", \"happens\", \"hardly\", \"has\", \"hasn\", \"hasnt\", \"hasn't\", \"have\", \"haven\", \"haven't\", \"having\", \"he\", \"hed\", \"he'd\", \"he'll\", \"hello\", \"help\", \"hence\", \"her\", \"here\", \"hereafter\", \"hereby\", \"herein\", \"heres\", \"here's\", \"hereupon\", \"hers\", \"herself\", \"hes\", \"he's\", \"hh\", \"hi\", \"hid\", \"him\", \"himself\", \"his\", \"hither\", \"hj\", \"ho\", \"home\", \"hopefully\", \"how\", \"howbeit\", \"however\", \"how's\", \"hr\", \"hs\", \"http\", \"hu\", \"hundred\", \"hy\", \"i\", \"i2\", \"i3\", \"i4\", \"i6\", \"i7\", \"i8\", \"ia\", \"ib\", \"ibid\", \"ic\", \"id\", \"i'd\", \"ie\", \"if\", \"ig\", \"ignored\", \"ih\", \"ii\", \"ij\", \"il\", \"i'll\", \"im\", \"i'm\", \"immediate\", \"immediately\", \"importance\", \"important\", \"in\", \"inasmuch\", \"inc\", \"indeed\", \"index\", \"indicate\", \"indicated\", \"indicates\", \"information\", \"inner\", \"insofar\", \"instead\", \"interest\", \"into\", \"invention\", \"inward\", \"io\", \"ip\", \"iq\", \"ir\", \"is\", \"isn\", \"isn't\", \"it\", \"itd\", \"it'd\", \"it'll\", \"its\", \"it's\", \"itself\", \"iv\", \"i've\", \"ix\", \"iy\", \"iz\", \"j\", \"jj\", \"jr\", \"js\", \"jt\", \"ju\", \"just\", \"k\", \"ke\", \"keep\", \"keeps\", \"kept\", \"kg\", \"kj\", \"km\", \"know\", \"known\", \"knows\", \"ko\", \"l\", \"l2\", \"la\", \"largely\", \"last\", \"lately\", \"later\", \"latter\", \"latterly\", \"lb\", \"lc\", \"le\", \"least\", \"les\", \"less\", \"lest\", \"let\", \"lets\", \"let's\", \"lf\", \"like\", \"liked\", \"likely\", \"line\", \"little\", \"lj\", \"ll\", \"ll\", \"ln\", \"lo\", \"look\", \"looking\", \"looks\", \"los\", \"lr\", \"ls\", \"lt\", \"ltd\", \"m\", \"m2\", \"ma\", \"made\", \"mainly\", \"make\", \"makes\", \"many\", \"may\", \"maybe\", \"me\", \"mean\", \"means\", \"meantime\", \"meanwhile\", \"merely\", \"mg\", \"might\", \"mightn\", \"mightn't\", \"mill\", \"million\", \"mine\", \"miss\", \"ml\", \"mn\", \"mo\", \"more\", \"moreover\", \"most\", \"mostly\", \"move\", \"mr\", \"mrs\", \"ms\", \"mt\", \"mu\", \"much\", \"mug\", \"must\", \"mustn\", \"mustn't\", \"my\", \"myself\", \"n\", \"n2\", \"na\", \"name\", \"namely\", \"nay\", \"nc\", \"nd\", \"ne\", \"near\", \"nearly\", \"necessarily\", \"necessary\", \"need\", \"needn\", \"needn't\", \"needs\", \"neither\", \"never\", \"nevertheless\", \"new\", \"next\", \"ng\", \"ni\", \"nine\", \"ninety\", \"nj\", \"nl\", \"nn\", \"no\", \"nobody\", \"non\", \"none\", \"nonetheless\", \"noone\", \"nor\", \"normally\", \"nos\", \"not\", \"noted\", \"nothing\", \"novel\", \"now\", \"nowhere\", \"nr\", \"ns\", \"nt\", \"ny\", \"o\", \"oa\", \"ob\", \"obtain\", \"obtained\", \"obviously\", \"oc\", \"od\", \"of\", \"off\", \"often\", \"og\", \"oh\", \"oi\", \"oj\", \"ok\", \"okay\", \"ol\", \"old\", \"om\", \"omitted\", \"on\", \"once\", \"one\", \"ones\", \"only\", \"onto\", \"oo\", \"op\", \"oq\", \"or\", \"ord\", \"os\", \"ot\", \"other\", \"others\", \"otherwise\", \"ou\", \"ought\", \"our\", \"ours\", \"ourselves\", \"out\", \"outside\", \"over\", \"overall\", \"ow\", \"owing\", \"own\", \"ox\", \"oz\", \"p\", \"p1\", \"p2\", \"p3\", \"page\", \"pagecount\", \"pages\", \"par\", \"part\", \"particular\", \"particularly\", \"pas\", \"past\", \"pc\", \"pd\", \"pe\", \"per\", \"perhaps\", \"pf\", \"ph\", \"pi\", \"pj\", \"pk\", \"pl\", \"placed\", \"please\", \"plus\", \"pm\", \"pn\", \"po\", \"poorly\", \"possible\", \"possibly\", \"potentially\", \"pp\", \"pq\", \"pr\", \"predominantly\", \"present\", \"presumably\", \"previously\", \"primarily\", \"probably\", \"promptly\", \"proud\", \"provides\", \"ps\", \"pt\", \"pu\", \"put\", \"py\", \"q\", \"qj\", \"qu\", \"que\", \"quickly\", \"quite\", \"qv\", \"r\", \"r2\", \"ra\", \"ran\", \"rather\", \"rc\", \"rd\", \"re\", \"readily\", \"really\", \"reasonably\", \"recent\", \"recently\", \"ref\", \"refs\", \"regarding\", \"regardless\", \"regards\", \"related\", \"relatively\", \"research\", \"research-articl\", \"respectively\", \"resulted\", \"resulting\", \"results\", \"rf\", \"rh\", \"ri\", \"right\", \"rj\", \"rl\", \"rm\", \"rn\", \"ro\", \"rq\", \"rr\", \"rs\", \"rt\", \"ru\", \"run\", \"rv\", \"ry\", \"s\", \"s2\", \"sa\", \"said\", \"same\", \"saw\", \"say\", \"saying\", \"says\", \"sc\", \"sd\", \"se\", \"sec\", \"second\", \"secondly\", \"section\", \"see\", \"seeing\", \"seem\", \"seemed\", \"seeming\", \"seems\", \"seen\", \"self\", \"selves\", \"sensible\", \"sent\", \"serious\", \"seriously\", \"seven\", \"several\", \"sf\", \"shall\", \"shan\", \"shan't\", \"she\", \"shed\", \"she'd\", \"she'll\", \"shes\", \"she's\", \"should\", \"shouldn\", \"shouldn't\", \"should've\", \"show\", \"showed\", \"shown\", \"showns\", \"shows\", \"si\", \"side\", \"significant\", \"significantly\", \"similar\", \"similarly\", \"since\", \"sincere\", \"six\", \"sixty\", \"sj\", \"sl\", \"slightly\", \"sm\", \"sn\", \"so\", \"some\", \"somebody\", \"somehow\", \"someone\", \"somethan\", \"something\", \"sometime\", \"sometimes\", \"somewhat\", \"somewhere\", \"soon\", \"sorry\", \"sp\", \"specifically\", \"specified\", \"specify\", \"specifying\", \"sq\", \"sr\", \"ss\", \"st\", \"still\", \"stop\", \"strongly\", \"sub\", \"substantially\", \"successfully\", \"such\", \"sufficiently\", \"suggest\", \"sup\", \"sure\", \"sy\", \"system\", \"sz\", \"t\", \"t1\", \"t2\", \"t3\", \"take\", \"taken\", \"taking\", \"tb\", \"tc\", \"td\", \"te\", \"tell\", \"ten\", \"tends\", \"tf\", \"th\", \"than\", \"thank\", \"thanks\", \"thanx\", \"that\", \"that'll\", \"thats\", \"that's\", \"that've\", \"the\", \"their\", \"theirs\", \"them\", \"themselves\", \"then\", \"thence\", \"there\", \"thereafter\", \"thereby\", \"thered\", \"therefore\", \"therein\", \"there'll\", \"thereof\", \"therere\", \"theres\", \"there's\", \"thereto\", \"thereupon\", \"there've\", \"these\", \"they\", \"theyd\", \"they'd\", \"they'll\", \"theyre\", \"they're\", \"they've\", \"thickv\", \"thin\", \"think\", \"third\", \"this\", \"thorough\", \"thoroughly\", \"those\", \"thou\", \"though\", \"thoughh\", \"thousand\", \"three\", \"throug\", \"through\", \"throughout\", \"thru\", \"thus\", \"ti\", \"til\", \"tip\", \"tj\", \"tl\", \"tm\", \"tn\", \"to\", \"together\", \"too\", \"took\", \"top\", \"toward\", \"towards\", \"tp\", \"tq\", \"tr\", \"tried\", \"tries\", \"truly\", \"try\", \"trying\", \"ts\", \"t's\", \"tt\", \"tv\", \"twelve\", \"twenty\", \"twice\", \"two\", \"tx\", \"u\", \"u201d\", \"ue\", \"ui\", \"uj\", \"uk\", \"um\", \"un\", \"under\", \"unfortunately\", \"unless\", \"unlike\", \"unlikely\", \"until\", \"unto\", \"uo\", \"up\", \"upon\", \"ups\", \"ur\", \"us\", \"use\", \"used\", \"useful\", \"usefully\", \"usefulness\", \"uses\", \"using\", \"usually\", \"ut\", \"v\", \"va\", \"value\", \"various\", \"vd\", \"ve\", \"ve\", \"very\", \"via\", \"viz\", \"vj\", \"vo\", \"vol\", \"vols\", \"volumtype\", \"vq\", \"vs\", \"vt\", \"vu\", \"w\", \"wa\", \"want\", \"wants\", \"was\", \"wasn\", \"wasnt\", \"wasn't\", \"way\", \"we\", \"wed\", \"we'd\", \"welcome\", \"well\", \"we'll\", \"well-b\", \"went\", \"were\", \"we're\", \"weren\", \"werent\", \"weren't\", \"we've\", \"what\", \"whatever\", \"what'll\", \"whats\", \"what's\", \"when\", \"whence\", \"whenever\", \"when's\", \"where\", \"whereafter\", \"whereas\", \"whereby\", \"wherein\", \"wheres\", \"where's\", \"whereupon\", \"wherever\", \"whether\", \"which\", \"while\", \"whim\", \"whither\", \"who\", \"whod\", \"whoever\", \"whole\", \"who'll\", \"whom\", \"whomever\", \"whos\", \"who's\", \"whose\", \"why\", \"why's\", \"wi\", \"widely\", \"will\", \"willing\", \"wish\", \"with\", \"within\", \"without\", \"wo\", \"won\", \"wonder\", \"wont\", \"won't\", \"words\", \"world\", \"would\", \"wouldn\", \"wouldnt\", \"wouldn't\", \"www\", \"x\", \"x1\", \"x2\", \"x3\", \"xf\", \"xi\", \"xj\", \"xk\", \"xl\", \"xn\", \"xo\", \"xs\", \"xt\", \"xv\", \"xx\", \"y\", \"y2\", \"yes\", \"yet\", \"yj\", \"yl\", \"you\", \"youd\", \"you'd\", \"you'll\", \"your\", \"youre\", \"you're\", \"yours\", \"yourself\", \"yourselves\", \"you've\", \"yr\", \"ys\", \"yt\", \"z\", \"zero\", \"zi\", \"zz\"]\n",
    "type(stop_words), len(stop_words)"
   ]
  },
  {
   "attachments": {},
   "cell_type": "markdown",
   "id": "49d52202",
   "metadata": {},
   "source": [
    "## Model evaluation plan and code  "
   ]
  },
  {
   "cell_type": "code",
   "execution_count": 29,
   "id": "5172e479",
   "metadata": {},
   "outputs": [],
   "source": [
    "from sklearn.metrics import classification_report, confusion_matrix, ConfusionMatrixDisplay\n",
    "from sklearn.metrics import f1_score"
   ]
  },
  {
   "cell_type": "code",
   "execution_count": 30,
   "id": "1fe404fc",
   "metadata": {},
   "outputs": [],
   "source": [
    "def evaluate(y_test, y_pred):\n",
    "    print(classification_report(y_test, y_pred))\n",
    "    print(confusion_matrix(y_test, y_pred))\n",
    "    print(f1_score(y_test, y_pred))\n",
    "    ConfusionMatrixDisplay(y_test, y_pred)\n",
    "    return"
   ]
  },
  {
   "attachments": {},
   "cell_type": "markdown",
   "id": "280cb6d1",
   "metadata": {
    "papermill": {
     "duration": 0.014062,
     "end_time": "2023-06-04T09:36:28.437109",
     "exception": false,
     "start_time": "2023-06-04T09:36:28.423047",
     "status": "completed"
    },
    "tags": []
   },
   "source": [
    "## Logistic Regression with TfidVectorizer for preprocessing  "
   ]
  },
  {
   "cell_type": "code",
   "execution_count": 13,
   "id": "3af63acf",
   "metadata": {
    "execution": {
     "iopub.execute_input": "2023-06-04T09:36:28.461996Z",
     "iopub.status.busy": "2023-06-04T09:36:28.461543Z",
     "iopub.status.idle": "2023-06-04T09:36:28.475204Z",
     "shell.execute_reply": "2023-06-04T09:36:28.474077Z"
    },
    "papermill": {
     "duration": 0.027907,
     "end_time": "2023-06-04T09:36:28.477774",
     "exception": false,
     "start_time": "2023-06-04T09:36:28.449867",
     "status": "completed"
    },
    "tags": []
   },
   "outputs": [
    {
     "data": {
      "text/plain": [
       "LogisticRegression(max_iter=1000)"
      ]
     },
     "execution_count": 13,
     "metadata": {},
     "output_type": "execute_result"
    }
   ],
   "source": [
    "logreg = LogisticRegression(max_iter=1000)\n",
    "logreg"
   ]
  },
  {
   "cell_type": "code",
   "execution_count": 14,
   "id": "cab0bd13",
   "metadata": {
    "execution": {
     "iopub.execute_input": "2023-06-04T09:36:28.499904Z",
     "iopub.status.busy": "2023-06-04T09:36:28.499114Z",
     "iopub.status.idle": "2023-06-04T09:36:28.517143Z",
     "shell.execute_reply": "2023-06-04T09:36:28.516003Z"
    },
    "papermill": {
     "duration": 0.032035,
     "end_time": "2023-06-04T09:36:28.519650",
     "exception": false,
     "start_time": "2023-06-04T09:36:28.487615",
     "status": "completed"
    },
    "tags": []
   },
   "outputs": [
    {
     "data": {
      "text/plain": [
       "(TfidfVectorizer(stop_words=['0o', '0s', '3a', '3b', '3d', '6b', '6o', 'a', 'a1',\n",
       "                             'a2', 'a3', 'a4', 'ab', 'able', 'about', 'above',\n",
       "                             'abst', 'ac', 'accordance', 'according',\n",
       "                             'accordingly', 'across', 'act', 'actually', 'ad',\n",
       "                             'added', 'adj', 'ae', 'af', 'affected', ...]),\n",
       " CountVectorizer(stop_words=['0o', '0s', '3a', '3b', '3d', '6b', '6o', 'a', 'a1',\n",
       "                             'a2', 'a3', 'a4', 'ab', 'able', 'about', 'above',\n",
       "                             'abst', 'ac', 'accordance', 'according',\n",
       "                             'accordingly', 'across', 'act', 'actually', 'ad',\n",
       "                             'added', 'adj', 'ae', 'af', 'affected', ...]))"
      ]
     },
     "execution_count": 14,
     "metadata": {},
     "output_type": "execute_result"
    }
   ],
   "source": [
    "tvec = TfidfVectorizer(stop_words=stop_words)\n",
    "cvec = CountVectorizer(stop_words=stop_words)\n",
    "tvec, cvec"
   ]
  },
  {
   "cell_type": "code",
   "execution_count": 15,
   "id": "b11e56fc",
   "metadata": {
    "execution": {
     "iopub.execute_input": "2023-06-04T09:36:28.542840Z",
     "iopub.status.busy": "2023-06-04T09:36:28.541997Z",
     "iopub.status.idle": "2023-06-04T09:36:28.600559Z",
     "shell.execute_reply": "2023-06-04T09:36:28.599462Z"
    },
    "papermill": {
     "duration": 0.073306,
     "end_time": "2023-06-04T09:36:28.603280",
     "exception": false,
     "start_time": "2023-06-04T09:36:28.529974",
     "status": "completed"
    },
    "tags": []
   },
   "outputs": [
    {
     "data": {
      "text/plain": [
       "Pipeline(steps=[('vectorizer',\n",
       "                 TfidfVectorizer(stop_words=['0o', '0s', '3a', '3b', '3d', '6b',\n",
       "                                             '6o', 'a', 'a1', 'a2', 'a3', 'a4',\n",
       "                                             'ab', 'able', 'about', 'above',\n",
       "                                             'abst', 'ac', 'accordance',\n",
       "                                             'according', 'accordingly',\n",
       "                                             'across', 'act', 'actually', 'ad',\n",
       "                                             'added', 'adj', 'ae', 'af',\n",
       "                                             'affected', ...])),\n",
       "                ('LogisticRegression', LogisticRegression(max_iter=1000))])"
      ]
     },
     "execution_count": 15,
     "metadata": {},
     "output_type": "execute_result"
    }
   ],
   "source": [
    "pipe = Pipeline(steps=[\n",
    "    (\"vectorizer\", tvec),\n",
    "    (\"LogisticRegression\", logreg)\n",
    "])\n",
    "pipe"
   ]
  },
  {
   "cell_type": "code",
   "execution_count": 16,
   "id": "a3c7c92a",
   "metadata": {
    "execution": {
     "iopub.execute_input": "2023-06-04T09:36:28.626638Z",
     "iopub.status.busy": "2023-06-04T09:36:28.625491Z",
     "iopub.status.idle": "2023-06-04T09:36:55.490195Z",
     "shell.execute_reply": "2023-06-04T09:36:55.489245Z"
    },
    "papermill": {
     "duration": 26.878828,
     "end_time": "2023-06-04T09:36:55.492477",
     "exception": false,
     "start_time": "2023-06-04T09:36:28.613649",
     "status": "completed"
    },
    "tags": []
   },
   "outputs": [
    {
     "name": "stderr",
     "output_type": "stream",
     "text": [
      "c:\\Users\\All users\\Anaconda3\\lib\\site-packages\\sklearn\\feature_extraction\\text.py:388: UserWarning: Your stop_words may be inconsistent with your preprocessing. Tokenizing the stop words generated tokens ['articl', 'mon'] not in stop_words.\n",
      "  warnings.warn('Your stop_words may be inconsistent with '\n"
     ]
    },
    {
     "data": {
      "text/plain": [
       "Pipeline(steps=[('vectorizer',\n",
       "                 TfidfVectorizer(stop_words=['0o', '0s', '3a', '3b', '3d', '6b',\n",
       "                                             '6o', 'a', 'a1', 'a2', 'a3', 'a4',\n",
       "                                             'ab', 'able', 'about', 'above',\n",
       "                                             'abst', 'ac', 'accordance',\n",
       "                                             'according', 'accordingly',\n",
       "                                             'across', 'act', 'actually', 'ad',\n",
       "                                             'added', 'adj', 'ae', 'af',\n",
       "                                             'affected', ...])),\n",
       "                ('LogisticRegression', LogisticRegression(max_iter=1000))])"
      ]
     },
     "execution_count": 16,
     "metadata": {},
     "output_type": "execute_result"
    }
   ],
   "source": [
    "pipe.fit(X_train, y_train)"
   ]
  },
  {
   "cell_type": "code",
   "execution_count": 17,
   "id": "d987cd2b",
   "metadata": {
    "execution": {
     "iopub.execute_input": "2023-06-04T09:36:55.516665Z",
     "iopub.status.busy": "2023-06-04T09:36:55.515673Z",
     "iopub.status.idle": "2023-06-04T09:36:57.126863Z",
     "shell.execute_reply": "2023-06-04T09:36:57.126080Z"
    },
    "jupyter": {
     "source_hidden": true
    },
    "papermill": {
     "duration": 1.625654,
     "end_time": "2023-06-04T09:36:57.129043",
     "exception": false,
     "start_time": "2023-06-04T09:36:55.503389",
     "status": "completed"
    },
    "tags": []
   },
   "outputs": [
    {
     "data": {
      "text/plain": [
       "array(['POSITIVE', 'POSITIVE', 'POSITIVE', ..., 'NEGATIVE', 'POSITIVE',\n",
       "       'NEGATIVE'], dtype=object)"
      ]
     },
     "execution_count": 17,
     "metadata": {},
     "output_type": "execute_result"
    }
   ],
   "source": [
    "y_pred = pipe.predict(X_test)\n",
    "y_pred"
   ]
  },
  {
   "cell_type": "code",
   "execution_count": 18,
   "id": "c970a344",
   "metadata": {
    "execution": {
     "iopub.execute_input": "2023-06-04T09:36:57.153130Z",
     "iopub.status.busy": "2023-06-04T09:36:57.152206Z",
     "iopub.status.idle": "2023-06-04T09:36:57.159636Z",
     "shell.execute_reply": "2023-06-04T09:36:57.158659Z"
    },
    "papermill": {
     "duration": 0.02168,
     "end_time": "2023-06-04T09:36:57.161742",
     "exception": false,
     "start_time": "2023-06-04T09:36:57.140062",
     "status": "completed"
    },
    "tags": []
   },
   "outputs": [
    {
     "data": {
      "text/plain": [
       "(55315,)"
      ]
     },
     "execution_count": 18,
     "metadata": {},
     "output_type": "execute_result"
    }
   ],
   "source": [
    "y_pred.shape"
   ]
  },
  {
   "cell_type": "code",
   "execution_count": 19,
   "id": "1c25bfff",
   "metadata": {
    "execution": {
     "iopub.execute_input": "2023-06-04T09:36:57.186966Z",
     "iopub.status.busy": "2023-06-04T09:36:57.185789Z",
     "iopub.status.idle": "2023-06-04T09:36:57.248113Z",
     "shell.execute_reply": "2023-06-04T09:36:57.247028Z"
    },
    "papermill": {
     "duration": 0.077688,
     "end_time": "2023-06-04T09:36:57.250494",
     "exception": false,
     "start_time": "2023-06-04T09:36:57.172806",
     "status": "completed"
    },
    "tags": []
   },
   "outputs": [
    {
     "data": {
      "text/plain": [
       "(array(['NEGATIVE', 'POSITIVE'], dtype=object),\n",
       " array([12884, 42431], dtype=int64))"
      ]
     },
     "execution_count": 19,
     "metadata": {},
     "output_type": "execute_result"
    }
   ],
   "source": [
    "np.unique(y_pred, return_counts=True)"
   ]
  },
  {
   "cell_type": "code",
   "execution_count": 20,
   "id": "959a9de2",
   "metadata": {
    "execution": {
     "iopub.execute_input": "2023-06-04T09:36:57.275673Z",
     "iopub.status.busy": "2023-06-04T09:36:57.275229Z",
     "iopub.status.idle": "2023-06-04T09:36:57.281558Z",
     "shell.execute_reply": "2023-06-04T09:36:57.280375Z"
    },
    "papermill": {
     "duration": 0.021619,
     "end_time": "2023-06-04T09:36:57.284021",
     "exception": false,
     "start_time": "2023-06-04T09:36:57.262402",
     "status": "completed"
    },
    "tags": []
   },
   "outputs": [],
   "source": [
    "def submit(y_pred):\n",
    "    pred_df = pd.DataFrame(y_pred)\n",
    "    pred_df.columns = [\"sentiment\"]\n",
    "    pred_df.index.name = \"id\"\n",
    "    pred_df.to_csv(\"submission.csv\")\n",
    "    return \"Successfully created the submission file!!!\""
   ]
  },
  {
   "cell_type": "code",
   "execution_count": 21,
   "id": "5eeec35f",
   "metadata": {
    "execution": {
     "iopub.execute_input": "2023-06-04T09:36:57.308784Z",
     "iopub.status.busy": "2023-06-04T09:36:57.308373Z",
     "iopub.status.idle": "2023-06-04T09:36:57.485648Z",
     "shell.execute_reply": "2023-06-04T09:36:57.484607Z"
    },
    "papermill": {
     "duration": 0.192489,
     "end_time": "2023-06-04T09:36:57.488255",
     "exception": false,
     "start_time": "2023-06-04T09:36:57.295766",
     "status": "completed"
    },
    "tags": []
   },
   "outputs": [
    {
     "data": {
      "text/plain": [
       "'Successfully created the submission file!!!'"
      ]
     },
     "execution_count": 21,
     "metadata": {},
     "output_type": "execute_result"
    }
   ],
   "source": [
    "submit(y_pred)"
   ]
  },
  {
   "cell_type": "code",
   "execution_count": 31,
   "id": "3670168d",
   "metadata": {},
   "outputs": [
    {
     "name": "stdout",
     "output_type": "stream",
     "text": [
      "              precision    recall  f1-score   support\n",
      "\n",
      "    NEGATIVE       1.00      1.00      1.00     53997\n",
      "    POSITIVE       1.00      1.00      1.00    108761\n",
      "\n",
      "    accuracy                           1.00    162758\n",
      "   macro avg       1.00      1.00      1.00    162758\n",
      "weighted avg       1.00      1.00      1.00    162758\n",
      "\n",
      "[[ 53997      0]\n",
      " [     0 108761]]\n"
     ]
    },
    {
     "ename": "ValueError",
     "evalue": "pos_label=1 is not a valid label. It should be one of ['NEGATIVE', 'POSITIVE']",
     "output_type": "error",
     "traceback": [
      "\u001b[1;31m---------------------------------------------------------------------------\u001b[0m",
      "\u001b[1;31mValueError\u001b[0m                                Traceback (most recent call last)",
      "\u001b[1;32mC:\\Users\\GANESH~1\\AppData\\Local\\Temp/ipykernel_13412/2860539252.py\u001b[0m in \u001b[0;36m<module>\u001b[1;34m\u001b[0m\n\u001b[0;32m      1\u001b[0m \u001b[0myp\u001b[0m \u001b[1;33m=\u001b[0m \u001b[0mpipe\u001b[0m\u001b[1;33m.\u001b[0m\u001b[0mpredict\u001b[0m\u001b[1;33m(\u001b[0m\u001b[0my_train\u001b[0m\u001b[1;33m)\u001b[0m\u001b[1;33m\u001b[0m\u001b[1;33m\u001b[0m\u001b[0m\n\u001b[1;32m----> 2\u001b[1;33m \u001b[0mevaluate\u001b[0m\u001b[1;33m(\u001b[0m\u001b[0my_train\u001b[0m\u001b[1;33m,\u001b[0m \u001b[0myp\u001b[0m\u001b[1;33m)\u001b[0m\u001b[1;33m\u001b[0m\u001b[1;33m\u001b[0m\u001b[0m\n\u001b[0m",
      "\u001b[1;32mC:\\Users\\GANESH~1\\AppData\\Local\\Temp/ipykernel_13412/1135262011.py\u001b[0m in \u001b[0;36mevaluate\u001b[1;34m(y_test, y_pred)\u001b[0m\n\u001b[0;32m      2\u001b[0m     \u001b[0mprint\u001b[0m\u001b[1;33m(\u001b[0m\u001b[0mclassification_report\u001b[0m\u001b[1;33m(\u001b[0m\u001b[0my_test\u001b[0m\u001b[1;33m,\u001b[0m \u001b[0my_pred\u001b[0m\u001b[1;33m)\u001b[0m\u001b[1;33m)\u001b[0m\u001b[1;33m\u001b[0m\u001b[1;33m\u001b[0m\u001b[0m\n\u001b[0;32m      3\u001b[0m     \u001b[0mprint\u001b[0m\u001b[1;33m(\u001b[0m\u001b[0mconfusion_matrix\u001b[0m\u001b[1;33m(\u001b[0m\u001b[0my_test\u001b[0m\u001b[1;33m,\u001b[0m \u001b[0my_pred\u001b[0m\u001b[1;33m)\u001b[0m\u001b[1;33m)\u001b[0m\u001b[1;33m\u001b[0m\u001b[1;33m\u001b[0m\u001b[0m\n\u001b[1;32m----> 4\u001b[1;33m     \u001b[0mprint\u001b[0m\u001b[1;33m(\u001b[0m\u001b[0mf1_score\u001b[0m\u001b[1;33m(\u001b[0m\u001b[0my_test\u001b[0m\u001b[1;33m,\u001b[0m \u001b[0my_pred\u001b[0m\u001b[1;33m)\u001b[0m\u001b[1;33m)\u001b[0m\u001b[1;33m\u001b[0m\u001b[1;33m\u001b[0m\u001b[0m\n\u001b[0m\u001b[0;32m      5\u001b[0m     \u001b[0mConfusionMatrixDisplay\u001b[0m\u001b[1;33m(\u001b[0m\u001b[0my_test\u001b[0m\u001b[1;33m,\u001b[0m \u001b[0my_pred\u001b[0m\u001b[1;33m)\u001b[0m\u001b[1;33m\u001b[0m\u001b[1;33m\u001b[0m\u001b[0m\n\u001b[0;32m      6\u001b[0m     \u001b[1;32mreturn\u001b[0m\u001b[1;33m\u001b[0m\u001b[1;33m\u001b[0m\u001b[0m\n",
      "\u001b[1;32mc:\\Users\\All users\\Anaconda3\\lib\\site-packages\\sklearn\\utils\\validation.py\u001b[0m in \u001b[0;36minner_f\u001b[1;34m(*args, **kwargs)\u001b[0m\n\u001b[0;32m     61\u001b[0m             \u001b[0mextra_args\u001b[0m \u001b[1;33m=\u001b[0m \u001b[0mlen\u001b[0m\u001b[1;33m(\u001b[0m\u001b[0margs\u001b[0m\u001b[1;33m)\u001b[0m \u001b[1;33m-\u001b[0m \u001b[0mlen\u001b[0m\u001b[1;33m(\u001b[0m\u001b[0mall_args\u001b[0m\u001b[1;33m)\u001b[0m\u001b[1;33m\u001b[0m\u001b[1;33m\u001b[0m\u001b[0m\n\u001b[0;32m     62\u001b[0m             \u001b[1;32mif\u001b[0m \u001b[0mextra_args\u001b[0m \u001b[1;33m<=\u001b[0m \u001b[1;36m0\u001b[0m\u001b[1;33m:\u001b[0m\u001b[1;33m\u001b[0m\u001b[1;33m\u001b[0m\u001b[0m\n\u001b[1;32m---> 63\u001b[1;33m                 \u001b[1;32mreturn\u001b[0m \u001b[0mf\u001b[0m\u001b[1;33m(\u001b[0m\u001b[1;33m*\u001b[0m\u001b[0margs\u001b[0m\u001b[1;33m,\u001b[0m \u001b[1;33m**\u001b[0m\u001b[0mkwargs\u001b[0m\u001b[1;33m)\u001b[0m\u001b[1;33m\u001b[0m\u001b[1;33m\u001b[0m\u001b[0m\n\u001b[0m\u001b[0;32m     64\u001b[0m \u001b[1;33m\u001b[0m\u001b[0m\n\u001b[0;32m     65\u001b[0m             \u001b[1;31m# extra_args > 0\u001b[0m\u001b[1;33m\u001b[0m\u001b[1;33m\u001b[0m\u001b[0m\n",
      "\u001b[1;32mc:\\Users\\All users\\Anaconda3\\lib\\site-packages\\sklearn\\metrics\\_classification.py\u001b[0m in \u001b[0;36mf1_score\u001b[1;34m(y_true, y_pred, labels, pos_label, average, sample_weight, zero_division)\u001b[0m\n\u001b[0;32m   1069\u001b[0m     \u001b[0mmodified\u001b[0m \u001b[1;32mwith\u001b[0m\u001b[0;31m \u001b[0m\u001b[0;31m`\u001b[0m\u001b[0;31m`\u001b[0m\u001b[0mzero_division\u001b[0m\u001b[0;31m`\u001b[0m\u001b[0;31m`\u001b[0m\u001b[1;33m.\u001b[0m\u001b[1;33m\u001b[0m\u001b[1;33m\u001b[0m\u001b[0m\n\u001b[0;32m   1070\u001b[0m     \"\"\"\n\u001b[1;32m-> 1071\u001b[1;33m     return fbeta_score(y_true, y_pred, beta=1, labels=labels,\n\u001b[0m\u001b[0;32m   1072\u001b[0m                        \u001b[0mpos_label\u001b[0m\u001b[1;33m=\u001b[0m\u001b[0mpos_label\u001b[0m\u001b[1;33m,\u001b[0m \u001b[0maverage\u001b[0m\u001b[1;33m=\u001b[0m\u001b[0maverage\u001b[0m\u001b[1;33m,\u001b[0m\u001b[1;33m\u001b[0m\u001b[1;33m\u001b[0m\u001b[0m\n\u001b[0;32m   1073\u001b[0m                        \u001b[0msample_weight\u001b[0m\u001b[1;33m=\u001b[0m\u001b[0msample_weight\u001b[0m\u001b[1;33m,\u001b[0m\u001b[1;33m\u001b[0m\u001b[1;33m\u001b[0m\u001b[0m\n",
      "\u001b[1;32mc:\\Users\\All users\\Anaconda3\\lib\\site-packages\\sklearn\\utils\\validation.py\u001b[0m in \u001b[0;36minner_f\u001b[1;34m(*args, **kwargs)\u001b[0m\n\u001b[0;32m     61\u001b[0m             \u001b[0mextra_args\u001b[0m \u001b[1;33m=\u001b[0m \u001b[0mlen\u001b[0m\u001b[1;33m(\u001b[0m\u001b[0margs\u001b[0m\u001b[1;33m)\u001b[0m \u001b[1;33m-\u001b[0m \u001b[0mlen\u001b[0m\u001b[1;33m(\u001b[0m\u001b[0mall_args\u001b[0m\u001b[1;33m)\u001b[0m\u001b[1;33m\u001b[0m\u001b[1;33m\u001b[0m\u001b[0m\n\u001b[0;32m     62\u001b[0m             \u001b[1;32mif\u001b[0m \u001b[0mextra_args\u001b[0m \u001b[1;33m<=\u001b[0m \u001b[1;36m0\u001b[0m\u001b[1;33m:\u001b[0m\u001b[1;33m\u001b[0m\u001b[1;33m\u001b[0m\u001b[0m\n\u001b[1;32m---> 63\u001b[1;33m                 \u001b[1;32mreturn\u001b[0m \u001b[0mf\u001b[0m\u001b[1;33m(\u001b[0m\u001b[1;33m*\u001b[0m\u001b[0margs\u001b[0m\u001b[1;33m,\u001b[0m \u001b[1;33m**\u001b[0m\u001b[0mkwargs\u001b[0m\u001b[1;33m)\u001b[0m\u001b[1;33m\u001b[0m\u001b[1;33m\u001b[0m\u001b[0m\n\u001b[0m\u001b[0;32m     64\u001b[0m \u001b[1;33m\u001b[0m\u001b[0m\n\u001b[0;32m     65\u001b[0m             \u001b[1;31m# extra_args > 0\u001b[0m\u001b[1;33m\u001b[0m\u001b[1;33m\u001b[0m\u001b[0m\n",
      "\u001b[1;32mc:\\Users\\All users\\Anaconda3\\lib\\site-packages\\sklearn\\metrics\\_classification.py\u001b[0m in \u001b[0;36mfbeta_score\u001b[1;34m(y_true, y_pred, beta, labels, pos_label, average, sample_weight, zero_division)\u001b[0m\n\u001b[0;32m   1193\u001b[0m     \"\"\"\n\u001b[0;32m   1194\u001b[0m \u001b[1;33m\u001b[0m\u001b[0m\n\u001b[1;32m-> 1195\u001b[1;33m     _, _, f, _ = precision_recall_fscore_support(y_true, y_pred,\n\u001b[0m\u001b[0;32m   1196\u001b[0m                                                  \u001b[0mbeta\u001b[0m\u001b[1;33m=\u001b[0m\u001b[0mbeta\u001b[0m\u001b[1;33m,\u001b[0m\u001b[1;33m\u001b[0m\u001b[1;33m\u001b[0m\u001b[0m\n\u001b[0;32m   1197\u001b[0m                                                  \u001b[0mlabels\u001b[0m\u001b[1;33m=\u001b[0m\u001b[0mlabels\u001b[0m\u001b[1;33m,\u001b[0m\u001b[1;33m\u001b[0m\u001b[1;33m\u001b[0m\u001b[0m\n",
      "\u001b[1;32mc:\\Users\\All users\\Anaconda3\\lib\\site-packages\\sklearn\\utils\\validation.py\u001b[0m in \u001b[0;36minner_f\u001b[1;34m(*args, **kwargs)\u001b[0m\n\u001b[0;32m     61\u001b[0m             \u001b[0mextra_args\u001b[0m \u001b[1;33m=\u001b[0m \u001b[0mlen\u001b[0m\u001b[1;33m(\u001b[0m\u001b[0margs\u001b[0m\u001b[1;33m)\u001b[0m \u001b[1;33m-\u001b[0m \u001b[0mlen\u001b[0m\u001b[1;33m(\u001b[0m\u001b[0mall_args\u001b[0m\u001b[1;33m)\u001b[0m\u001b[1;33m\u001b[0m\u001b[1;33m\u001b[0m\u001b[0m\n\u001b[0;32m     62\u001b[0m             \u001b[1;32mif\u001b[0m \u001b[0mextra_args\u001b[0m \u001b[1;33m<=\u001b[0m \u001b[1;36m0\u001b[0m\u001b[1;33m:\u001b[0m\u001b[1;33m\u001b[0m\u001b[1;33m\u001b[0m\u001b[0m\n\u001b[1;32m---> 63\u001b[1;33m                 \u001b[1;32mreturn\u001b[0m \u001b[0mf\u001b[0m\u001b[1;33m(\u001b[0m\u001b[1;33m*\u001b[0m\u001b[0margs\u001b[0m\u001b[1;33m,\u001b[0m \u001b[1;33m**\u001b[0m\u001b[0mkwargs\u001b[0m\u001b[1;33m)\u001b[0m\u001b[1;33m\u001b[0m\u001b[1;33m\u001b[0m\u001b[0m\n\u001b[0m\u001b[0;32m     64\u001b[0m \u001b[1;33m\u001b[0m\u001b[0m\n\u001b[0;32m     65\u001b[0m             \u001b[1;31m# extra_args > 0\u001b[0m\u001b[1;33m\u001b[0m\u001b[1;33m\u001b[0m\u001b[0m\n",
      "\u001b[1;32mc:\\Users\\All users\\Anaconda3\\lib\\site-packages\\sklearn\\metrics\\_classification.py\u001b[0m in \u001b[0;36mprecision_recall_fscore_support\u001b[1;34m(y_true, y_pred, beta, labels, pos_label, average, warn_for, sample_weight, zero_division)\u001b[0m\n\u001b[0;32m   1462\u001b[0m     \u001b[1;32mif\u001b[0m \u001b[0mbeta\u001b[0m \u001b[1;33m<\u001b[0m \u001b[1;36m0\u001b[0m\u001b[1;33m:\u001b[0m\u001b[1;33m\u001b[0m\u001b[1;33m\u001b[0m\u001b[0m\n\u001b[0;32m   1463\u001b[0m         \u001b[1;32mraise\u001b[0m \u001b[0mValueError\u001b[0m\u001b[1;33m(\u001b[0m\u001b[1;34m\"beta should be >=0 in the F-beta score\"\u001b[0m\u001b[1;33m)\u001b[0m\u001b[1;33m\u001b[0m\u001b[1;33m\u001b[0m\u001b[0m\n\u001b[1;32m-> 1464\u001b[1;33m     labels = _check_set_wise_labels(y_true, y_pred, average, labels,\n\u001b[0m\u001b[0;32m   1465\u001b[0m                                     pos_label)\n\u001b[0;32m   1466\u001b[0m \u001b[1;33m\u001b[0m\u001b[0m\n",
      "\u001b[1;32mc:\\Users\\All users\\Anaconda3\\lib\\site-packages\\sklearn\\metrics\\_classification.py\u001b[0m in \u001b[0;36m_check_set_wise_labels\u001b[1;34m(y_true, y_pred, average, labels, pos_label)\u001b[0m\n\u001b[0;32m   1283\u001b[0m             \u001b[1;32mif\u001b[0m \u001b[0mpos_label\u001b[0m \u001b[1;32mnot\u001b[0m \u001b[1;32min\u001b[0m \u001b[0mpresent_labels\u001b[0m\u001b[1;33m:\u001b[0m\u001b[1;33m\u001b[0m\u001b[1;33m\u001b[0m\u001b[0m\n\u001b[0;32m   1284\u001b[0m                 \u001b[1;32mif\u001b[0m \u001b[0mlen\u001b[0m\u001b[1;33m(\u001b[0m\u001b[0mpresent_labels\u001b[0m\u001b[1;33m)\u001b[0m \u001b[1;33m>=\u001b[0m \u001b[1;36m2\u001b[0m\u001b[1;33m:\u001b[0m\u001b[1;33m\u001b[0m\u001b[1;33m\u001b[0m\u001b[0m\n\u001b[1;32m-> 1285\u001b[1;33m                     raise ValueError(\n\u001b[0m\u001b[0;32m   1286\u001b[0m                         \u001b[1;34mf\"pos_label={pos_label} is not a valid label. It \"\u001b[0m\u001b[1;33m\u001b[0m\u001b[1;33m\u001b[0m\u001b[0m\n\u001b[0;32m   1287\u001b[0m                         \u001b[1;34mf\"should be one of {present_labels}\"\u001b[0m\u001b[1;33m\u001b[0m\u001b[1;33m\u001b[0m\u001b[0m\n",
      "\u001b[1;31mValueError\u001b[0m: pos_label=1 is not a valid label. It should be one of ['NEGATIVE', 'POSITIVE']"
     ]
    }
   ],
   "source": [
    "# yp = pipe.predict(y_train)\n",
    "# evaluate(y_train, yp)"
   ]
  },
  {
   "attachments": {},
   "cell_type": "markdown",
   "id": "dd472593",
   "metadata": {
    "papermill": {
     "duration": 0.010994,
     "end_time": "2023-06-04T09:36:57.510880",
     "exception": false,
     "start_time": "2023-06-04T09:36:57.499886",
     "status": "completed"
    },
    "tags": []
   },
   "source": [
    "## Logistic Regression with CountVectorizer for preprocessing  "
   ]
  },
  {
   "cell_type": "code",
   "execution_count": 22,
   "id": "af7075af",
   "metadata": {
    "execution": {
     "iopub.execute_input": "2023-06-04T09:36:57.535718Z",
     "iopub.status.busy": "2023-06-04T09:36:57.535096Z",
     "iopub.status.idle": "2023-06-04T09:36:57.593796Z",
     "shell.execute_reply": "2023-06-04T09:36:57.592695Z"
    },
    "papermill": {
     "duration": 0.074583,
     "end_time": "2023-06-04T09:36:57.596670",
     "exception": false,
     "start_time": "2023-06-04T09:36:57.522087",
     "status": "completed"
    },
    "tags": []
   },
   "outputs": [
    {
     "data": {
      "text/plain": [
       "Pipeline(steps=[('vectorizer',\n",
       "                 CountVectorizer(stop_words=['0o', '0s', '3a', '3b', '3d', '6b',\n",
       "                                             '6o', 'a', 'a1', 'a2', 'a3', 'a4',\n",
       "                                             'ab', 'able', 'about', 'above',\n",
       "                                             'abst', 'ac', 'accordance',\n",
       "                                             'according', 'accordingly',\n",
       "                                             'across', 'act', 'actually', 'ad',\n",
       "                                             'added', 'adj', 'ae', 'af',\n",
       "                                             'affected', ...])),\n",
       "                ('LogisticRegression', LogisticRegression(max_iter=1000))])"
      ]
     },
     "execution_count": 22,
     "metadata": {},
     "output_type": "execute_result"
    }
   ],
   "source": [
    "pipe_cvec = Pipeline(steps=[\n",
    "    (\"vectorizer\", cvec),\n",
    "    (\"LogisticRegression\", logreg)\n",
    "])\n",
    "pipe_cvec"
   ]
  },
  {
   "cell_type": "code",
   "execution_count": 23,
   "id": "9a628162",
   "metadata": {
    "execution": {
     "iopub.execute_input": "2023-06-04T09:36:57.621718Z",
     "iopub.status.busy": "2023-06-04T09:36:57.621296Z",
     "iopub.status.idle": "2023-06-04T09:36:57.625981Z",
     "shell.execute_reply": "2023-06-04T09:36:57.624852Z"
    },
    "papermill": {
     "duration": 0.019844,
     "end_time": "2023-06-04T09:36:57.628251",
     "exception": false,
     "start_time": "2023-06-04T09:36:57.608407",
     "status": "completed"
    },
    "tags": []
   },
   "outputs": [],
   "source": [
    "# pipe_cvec.fit(X_train, y_train)"
   ]
  },
  {
   "cell_type": "code",
   "execution_count": 24,
   "id": "b2046745",
   "metadata": {
    "execution": {
     "iopub.execute_input": "2023-06-04T09:36:57.654210Z",
     "iopub.status.busy": "2023-06-04T09:36:57.653358Z",
     "iopub.status.idle": "2023-06-04T09:36:57.657754Z",
     "shell.execute_reply": "2023-06-04T09:36:57.656628Z"
    },
    "papermill": {
     "duration": 0.019801,
     "end_time": "2023-06-04T09:36:57.660262",
     "exception": false,
     "start_time": "2023-06-04T09:36:57.640461",
     "status": "completed"
    },
    "tags": []
   },
   "outputs": [],
   "source": [
    "# y_pred_cvec = pipe_cvec.predict(X_test)\n",
    "# y_pred_cvec"
   ]
  },
  {
   "cell_type": "code",
   "execution_count": 25,
   "id": "64658b24",
   "metadata": {
    "execution": {
     "iopub.execute_input": "2023-06-04T09:36:57.686029Z",
     "iopub.status.busy": "2023-06-04T09:36:57.685550Z",
     "iopub.status.idle": "2023-06-04T09:36:57.690088Z",
     "shell.execute_reply": "2023-06-04T09:36:57.689020Z"
    },
    "papermill": {
     "duration": 0.019999,
     "end_time": "2023-06-04T09:36:57.692486",
     "exception": false,
     "start_time": "2023-06-04T09:36:57.672487",
     "status": "completed"
    },
    "tags": []
   },
   "outputs": [],
   "source": [
    "# y_pred_cvec.shape"
   ]
  },
  {
   "cell_type": "code",
   "execution_count": 26,
   "id": "7fc3a1ed",
   "metadata": {
    "execution": {
     "iopub.execute_input": "2023-06-04T09:36:57.718271Z",
     "iopub.status.busy": "2023-06-04T09:36:57.717887Z",
     "iopub.status.idle": "2023-06-04T09:36:57.722447Z",
     "shell.execute_reply": "2023-06-04T09:36:57.721387Z"
    },
    "papermill": {
     "duration": 0.01983,
     "end_time": "2023-06-04T09:36:57.724768",
     "exception": false,
     "start_time": "2023-06-04T09:36:57.704938",
     "status": "completed"
    },
    "tags": []
   },
   "outputs": [],
   "source": [
    "# np.unique(y_pred_cvec, return_counts=True)"
   ]
  },
  {
   "cell_type": "code",
   "execution_count": 27,
   "id": "5c85b5e3",
   "metadata": {
    "execution": {
     "iopub.execute_input": "2023-06-04T09:36:57.749938Z",
     "iopub.status.busy": "2023-06-04T09:36:57.749523Z",
     "iopub.status.idle": "2023-06-04T09:36:57.754279Z",
     "shell.execute_reply": "2023-06-04T09:36:57.753204Z"
    },
    "papermill": {
     "duration": 0.020331,
     "end_time": "2023-06-04T09:36:57.756699",
     "exception": false,
     "start_time": "2023-06-04T09:36:57.736368",
     "status": "completed"
    },
    "tags": []
   },
   "outputs": [],
   "source": [
    "# submit(y_pred_cvec)"
   ]
  }
 ],
 "metadata": {
  "kernelspec": {
   "display_name": "Python 3",
   "language": "python",
   "name": "python3"
  },
  "language_info": {
   "codemirror_mode": {
    "name": "ipython",
    "version": 3
   },
   "file_extension": ".py",
   "mimetype": "text/x-python",
   "name": "python",
   "nbconvert_exporter": "python",
   "pygments_lexer": "ipython3",
   "version": "3.9.7"
  },
  "papermill": {
   "default_parameters": {},
   "duration": 46.244844,
   "end_time": "2023-06-04T09:36:58.791799",
   "environment_variables": {},
   "exception": null,
   "input_path": "__notebook__.ipynb",
   "output_path": "__notebook__.ipynb",
   "parameters": {},
   "start_time": "2023-06-04T09:36:12.546955",
   "version": "2.4.0"
  }
 },
 "nbformat": 4,
 "nbformat_minor": 5
}
