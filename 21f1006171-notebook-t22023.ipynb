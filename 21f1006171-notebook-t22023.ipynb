{
 "cells": [
  {
   "cell_type": "markdown",
   "id": "7c1cd2aa",
   "metadata": {
    "papermill": {
     "duration": 0.094648,
     "end_time": "2023-08-12T03:18:58.678709",
     "exception": false,
     "start_time": "2023-08-12T03:18:58.584061",
     "status": "completed"
    },
    "tags": []
   },
   "source": [
    "# MLP Project (T2 2023) by Ganesh P  "
   ]
  },
  {
   "cell_type": "markdown",
   "id": "ba2887d7",
   "metadata": {
    "papermill": {
     "duration": 0.09299,
     "end_time": "2023-08-12T03:18:58.864507",
     "exception": false,
     "start_time": "2023-08-12T03:18:58.771517",
     "status": "completed"
    },
    "tags": []
   },
   "source": [
    "`Disclaimer`   \n",
    "\n",
    "> This final notebook contains only the most relevant code to show the path/flow of my project work over few weeks. Rest of the code is in [my github repo](https://github.com/ganeshbmc/MLP_project) which is private at present (I will make it public after the project is over).  "
   ]
  },
  {
   "cell_type": "markdown",
   "id": "ca69c256",
   "metadata": {
    "papermill": {
     "duration": 0.094682,
     "end_time": "2023-08-12T03:18:59.054803",
     "exception": false,
     "start_time": "2023-08-12T03:18:58.960121",
     "status": "completed"
    },
    "tags": []
   },
   "source": [
    "`Strengths`  \n",
    "\n",
    "> * Modular code (DRY principle)  \n",
    "> * End to end pipeline in one function (with helper functions)   "
   ]
  },
  {
   "cell_type": "markdown",
   "id": "20752e00",
   "metadata": {
    "papermill": {
     "duration": 0.091869,
     "end_time": "2023-08-12T03:18:59.240298",
     "exception": false,
     "start_time": "2023-08-12T03:18:59.148429",
     "status": "completed"
    },
    "tags": []
   },
   "source": [
    "`Overview`  \n",
    "\n",
    "`PART I`  \n",
    "\n",
    "1.\t> Screen the datasets and import them.  \n",
    "2.\t> Perform EDA (first round).\n",
    "3.\t> Data cleaning.\n",
    "4.\t> Basic models including dummy model.\n",
    "5.\t> Because this is a text sentiment analysis project, focus on 'reviewText' column, work on cleaning text data and vectorising/tokenising it, build several models till the best possible score is reached.  \n",
    "\n",
    "`PART II`  \n",
    "\n",
    "6.\t> Merge train and movies dataset.\n",
    "7.\t> Perform EDA (second round) on merged dataset.\n",
    "8.\t> Data cleaning.\n",
    "9.\t> Build models on merged dataset.\n",
    "10.\t> Understand the results and do another round of EDA if needed.\n",
    "11.\t> Build final model.  \n",
    "\n",
    "`PART III (After project window closes)`  \n",
    "\n",
    "12. > Use NLTK library for further processing text data.  \n",
    "13. > Try to address comments from different languages, special characters etc.  \n",
    "14. > Try imblearn library to address class imbalance.  \n",
    "15. > Try to use currently available LLMs and see how my model performs agains them.  "
   ]
  },
  {
   "cell_type": "markdown",
   "id": "4061c5e5",
   "metadata": {
    "papermill": {
     "duration": 0.091737,
     "end_time": "2023-08-12T03:18:59.424550",
     "exception": false,
     "start_time": "2023-08-12T03:18:59.332813",
     "status": "completed"
    },
    "tags": []
   },
   "source": [
    "`Default code on Kaggle notebook`  "
   ]
  },
  {
   "cell_type": "code",
   "execution_count": 1,
   "id": "35e4864e",
   "metadata": {
    "_cell_guid": "b1076dfc-b9ad-4769-8c92-a6c4dae69d19",
    "_uuid": "8f2839f25d086af736a60e9eeb907d3b93b6e0e5",
    "execution": {
     "iopub.execute_input": "2023-08-12T03:18:59.614753Z",
     "iopub.status.busy": "2023-08-12T03:18:59.614341Z",
     "iopub.status.idle": "2023-08-12T03:18:59.630249Z",
     "shell.execute_reply": "2023-08-12T03:18:59.629456Z"
    },
    "papermill": {
     "duration": 0.115356,
     "end_time": "2023-08-12T03:18:59.633006",
     "exception": false,
     "start_time": "2023-08-12T03:18:59.517650",
     "status": "completed"
    },
    "tags": []
   },
   "outputs": [
    {
     "name": "stdout",
     "output_type": "stream",
     "text": [
      "/kaggle/input/sentiment-prediction-on-movie-reviews/movies.csv\n",
      "/kaggle/input/sentiment-prediction-on-movie-reviews/sample.csv\n",
      "/kaggle/input/sentiment-prediction-on-movie-reviews/train.csv\n",
      "/kaggle/input/sentiment-prediction-on-movie-reviews/test.csv\n"
     ]
    }
   ],
   "source": [
    "# This Python 3 environment comes with many helpful analytics libraries installed\n",
    "# It is defined by the kaggle/python Docker image: https://github.com/kaggle/docker-python\n",
    "# For example, here's several helpful packages to load\n",
    "\n",
    "import numpy as np # linear algebra\n",
    "import pandas as pd # data processing, CSV file I/O (e.g. pd.read_csv)\n",
    "\n",
    "# Input data files are available in the read-only \"../input/\" directory\n",
    "# For example, running this (by clicking run or pressing Shift+Enter) will list all files under the input directory\n",
    "\n",
    "import os\n",
    "for dirname, _, filenames in os.walk('/kaggle/input'):\n",
    "    for filename in filenames:\n",
    "        print(os.path.join(dirname, filename))\n",
    "\n",
    "# You can write up to 20GB to the current directory (/kaggle/working/) that gets preserved as output when you create a version using \"Save & Run All\" \n",
    "# You can also write temporary files to /kaggle/temp/, but they won't be saved outside of the current session"
   ]
  },
  {
   "cell_type": "markdown",
   "id": "87759bb8",
   "metadata": {
    "papermill": {
     "duration": 0.095048,
     "end_time": "2023-08-12T03:18:59.820572",
     "exception": false,
     "start_time": "2023-08-12T03:18:59.725524",
     "status": "completed"
    },
    "tags": []
   },
   "source": [
    "### Specify platform  "
   ]
  },
  {
   "cell_type": "code",
   "execution_count": 2,
   "id": "c784419a",
   "metadata": {
    "execution": {
     "iopub.execute_input": "2023-08-12T03:19:00.026097Z",
     "iopub.status.busy": "2023-08-12T03:19:00.024507Z",
     "iopub.status.idle": "2023-08-12T03:19:00.030642Z",
     "shell.execute_reply": "2023-08-12T03:19:00.029695Z"
    },
    "papermill": {
     "duration": 0.116773,
     "end_time": "2023-08-12T03:19:00.033310",
     "exception": false,
     "start_time": "2023-08-12T03:18:59.916537",
     "status": "completed"
    },
    "tags": []
   },
   "outputs": [],
   "source": [
    "platform = 'kaggle'  "
   ]
  },
  {
   "cell_type": "markdown",
   "id": "21af9ed7",
   "metadata": {
    "papermill": {
     "duration": 0.09143,
     "end_time": "2023-08-12T03:19:00.220615",
     "exception": false,
     "start_time": "2023-08-12T03:19:00.129185",
     "status": "completed"
    },
    "tags": []
   },
   "source": [
    "### Import libraries  "
   ]
  },
  {
   "cell_type": "code",
   "execution_count": 3,
   "id": "3ce74180",
   "metadata": {
    "execution": {
     "iopub.execute_input": "2023-08-12T03:19:00.407845Z",
     "iopub.status.busy": "2023-08-12T03:19:00.407070Z",
     "iopub.status.idle": "2023-08-12T03:19:02.795190Z",
     "shell.execute_reply": "2023-08-12T03:19:02.793951Z"
    },
    "papermill": {
     "duration": 2.484652,
     "end_time": "2023-08-12T03:19:02.797895",
     "exception": false,
     "start_time": "2023-08-12T03:19:00.313243",
     "status": "completed"
    },
    "tags": []
   },
   "outputs": [
    {
     "name": "stdout",
     "output_type": "stream",
     "text": [
      "Imports done.\n"
     ]
    }
   ],
   "source": [
    "import pandas as pd\n",
    "import numpy as np\n",
    "import matplotlib.pyplot as plt\n",
    "import seaborn as sns\n",
    "import re\n",
    "from itertools import compress\n",
    "\n",
    "from sklearn.dummy import DummyClassifier\n",
    "from sklearn.pipeline import Pipeline, FeatureUnion\n",
    "from sklearn.compose import ColumnTransformer\n",
    "from sklearn.metrics import classification_report, confusion_matrix,f1_score\n",
    "from sklearn.feature_extraction.text import TfidfVectorizer, CountVectorizer\n",
    "from sklearn.preprocessing import FunctionTransformer\n",
    "from sklearn.preprocessing import StandardScaler, MinMaxScaler, RobustScaler, OneHotEncoder, LabelEncoder\n",
    "from sklearn.impute import SimpleImputer\n",
    "from sklearn.linear_model import LogisticRegression, SGDClassifier\n",
    "from sklearn.tree import DecisionTreeClassifier\n",
    "from sklearn.ensemble import RandomForestClassifier, AdaBoostClassifier\n",
    "from sklearn.svm import LinearSVC\n",
    "from sklearn.naive_bayes import GaussianNB, BernoulliNB, CategoricalNB, ComplementNB, MultinomialNB\n",
    "from sklearn.model_selection import train_test_split, GridSearchCV, cross_val_score\n",
    "from sklearn.decomposition import PCA, TruncatedSVD\n",
    "from sklearn.feature_selection import RFECV\n",
    "from sklearn.feature_selection import RFE\n",
    "from sklearn.neural_network import MLPClassifier\n",
    "\n",
    "# import lightgbm as ltb\n",
    "\n",
    "import scipy.stats as stats\n",
    "print(\"Imports done.\")"
   ]
  },
  {
   "cell_type": "markdown",
   "id": "c0dfd239",
   "metadata": {
    "papermill": {
     "duration": 0.094487,
     "end_time": "2023-08-12T03:19:02.983791",
     "exception": false,
     "start_time": "2023-08-12T03:19:02.889304",
     "status": "completed"
    },
    "tags": []
   },
   "source": [
    "# PART I  "
   ]
  },
  {
   "cell_type": "markdown",
   "id": "34b50fc3",
   "metadata": {
    "papermill": {
     "duration": 0.091359,
     "end_time": "2023-08-12T03:19:03.167347",
     "exception": false,
     "start_time": "2023-08-12T03:19:03.075988",
     "status": "completed"
    },
    "tags": []
   },
   "source": [
    "## Load datasets  "
   ]
  },
  {
   "cell_type": "code",
   "execution_count": 4,
   "id": "dce1af5f",
   "metadata": {
    "execution": {
     "iopub.execute_input": "2023-08-12T03:19:03.354660Z",
     "iopub.status.busy": "2023-08-12T03:19:03.353724Z",
     "iopub.status.idle": "2023-08-12T03:19:04.553308Z",
     "shell.execute_reply": "2023-08-12T03:19:04.552201Z"
    },
    "papermill": {
     "duration": 1.297332,
     "end_time": "2023-08-12T03:19:04.555900",
     "exception": false,
     "start_time": "2023-08-12T03:19:03.258568",
     "status": "completed"
    },
    "tags": []
   },
   "outputs": [
    {
     "data": {
      "text/plain": [
       "(162758, 5)"
      ]
     },
     "execution_count": 4,
     "metadata": {},
     "output_type": "execute_result"
    }
   ],
   "source": [
    "if platform == 'vscode':\n",
    "    traindf = pd.read_csv(\"data/train.csv\")\n",
    "else:\n",
    "    traindf = pd.read_csv(\"/kaggle/input/sentiment-prediction-on-movie-reviews/train.csv\")\n",
    "    \n",
    "traindf.shape"
   ]
  },
  {
   "cell_type": "code",
   "execution_count": 5,
   "id": "cb493f2e",
   "metadata": {
    "execution": {
     "iopub.execute_input": "2023-08-12T03:19:04.749059Z",
     "iopub.status.busy": "2023-08-12T03:19:04.748360Z",
     "iopub.status.idle": "2023-08-12T03:19:05.123106Z",
     "shell.execute_reply": "2023-08-12T03:19:05.121947Z"
    },
    "papermill": {
     "duration": 0.475113,
     "end_time": "2023-08-12T03:19:05.125956",
     "exception": false,
     "start_time": "2023-08-12T03:19:04.650843",
     "status": "completed"
    },
    "tags": []
   },
   "outputs": [
    {
     "data": {
      "text/plain": [
       "(55315, 4)"
      ]
     },
     "execution_count": 5,
     "metadata": {},
     "output_type": "execute_result"
    }
   ],
   "source": [
    "if platform == 'vscode':\n",
    "    testdf = pd.read_csv(\"data/test.csv\")\n",
    "else:\n",
    "    testdf = pd.read_csv(\"/kaggle/input/sentiment-prediction-on-movie-reviews/test.csv\")\n",
    "\n",
    "testdf.shape"
   ]
  },
  {
   "cell_type": "markdown",
   "id": "a62bdc69",
   "metadata": {
    "papermill": {
     "duration": 0.093864,
     "end_time": "2023-08-12T03:19:05.312620",
     "exception": false,
     "start_time": "2023-08-12T03:19:05.218756",
     "status": "completed"
    },
    "tags": []
   },
   "source": [
    "### Understanding the data and getting it ready for training and evaluating models  \n"
   ]
  },
  {
   "cell_type": "code",
   "execution_count": 6,
   "id": "98a492e9",
   "metadata": {
    "execution": {
     "iopub.execute_input": "2023-08-12T03:19:05.498019Z",
     "iopub.status.busy": "2023-08-12T03:19:05.497589Z",
     "iopub.status.idle": "2023-08-12T03:19:05.504494Z",
     "shell.execute_reply": "2023-08-12T03:19:05.503375Z"
    },
    "papermill": {
     "duration": 0.102248,
     "end_time": "2023-08-12T03:19:05.506789",
     "exception": false,
     "start_time": "2023-08-12T03:19:05.404541",
     "status": "completed"
    },
    "tags": []
   },
   "outputs": [
    {
     "data": {
      "text/plain": [
       "(162758, 5)"
      ]
     },
     "execution_count": 6,
     "metadata": {},
     "output_type": "execute_result"
    }
   ],
   "source": [
    "traindf.shape"
   ]
  },
  {
   "cell_type": "code",
   "execution_count": 7,
   "id": "886e00af",
   "metadata": {
    "execution": {
     "iopub.execute_input": "2023-08-12T03:19:05.696754Z",
     "iopub.status.busy": "2023-08-12T03:19:05.696328Z",
     "iopub.status.idle": "2023-08-12T03:19:05.936049Z",
     "shell.execute_reply": "2023-08-12T03:19:05.934631Z"
    },
    "papermill": {
     "duration": 0.340158,
     "end_time": "2023-08-12T03:19:05.938909",
     "exception": false,
     "start_time": "2023-08-12T03:19:05.598751",
     "status": "completed"
    },
    "tags": []
   },
   "outputs": [
    {
     "name": "stdout",
     "output_type": "stream",
     "text": [
      "<class 'pandas.core.frame.DataFrame'>\n",
      "RangeIndex: 162758 entries, 0 to 162757\n",
      "Data columns (total 5 columns):\n",
      " #   Column              Non-Null Count   Dtype \n",
      "---  ------              --------------   ----- \n",
      " 0   movieid             162758 non-null  object\n",
      " 1   reviewerName        162758 non-null  object\n",
      " 2   isFrequentReviewer  162758 non-null  bool  \n",
      " 3   reviewText          156311 non-null  object\n",
      " 4   sentiment           162758 non-null  object\n",
      "dtypes: bool(1), object(4)\n",
      "memory usage: 5.1+ MB\n"
     ]
    }
   ],
   "source": [
    "traindf.info()"
   ]
  },
  {
   "cell_type": "code",
   "execution_count": 8,
   "id": "2a565993",
   "metadata": {
    "execution": {
     "iopub.execute_input": "2023-08-12T03:19:06.131259Z",
     "iopub.status.busy": "2023-08-12T03:19:06.130870Z",
     "iopub.status.idle": "2023-08-12T03:19:06.347021Z",
     "shell.execute_reply": "2023-08-12T03:19:06.345875Z"
    },
    "papermill": {
     "duration": 0.313016,
     "end_time": "2023-08-12T03:19:06.349541",
     "exception": false,
     "start_time": "2023-08-12T03:19:06.036525",
     "status": "completed"
    },
    "tags": []
   },
   "outputs": [
    {
     "data": {
      "text/plain": [
       "movieid                  0\n",
       "reviewerName             0\n",
       "isFrequentReviewer       0\n",
       "reviewText            6447\n",
       "sentiment                0\n",
       "dtype: int64"
      ]
     },
     "execution_count": 8,
     "metadata": {},
     "output_type": "execute_result"
    }
   ],
   "source": [
    "traindf.isna().sum()"
   ]
  },
  {
   "cell_type": "markdown",
   "id": "cbbb9a50",
   "metadata": {
    "papermill": {
     "duration": 0.092928,
     "end_time": "2023-08-12T03:19:06.601126",
     "exception": false,
     "start_time": "2023-08-12T03:19:06.508198",
     "status": "completed"
    },
    "tags": []
   },
   "source": [
    "### Fill empty reviewText with custom text  "
   ]
  },
  {
   "cell_type": "code",
   "execution_count": 9,
   "id": "b0f13906",
   "metadata": {
    "execution": {
     "iopub.execute_input": "2023-08-12T03:19:06.791967Z",
     "iopub.status.busy": "2023-08-12T03:19:06.791132Z",
     "iopub.status.idle": "2023-08-12T03:19:07.031125Z",
     "shell.execute_reply": "2023-08-12T03:19:07.029868Z"
    },
    "papermill": {
     "duration": 0.338401,
     "end_time": "2023-08-12T03:19:07.033715",
     "exception": false,
     "start_time": "2023-08-12T03:19:06.695314",
     "status": "completed"
    },
    "tags": []
   },
   "outputs": [
    {
     "data": {
      "text/plain": [
       "movieid               0\n",
       "reviewerName          0\n",
       "isFrequentReviewer    0\n",
       "reviewText            0\n",
       "sentiment             0\n",
       "dtype: int64"
      ]
     },
     "execution_count": 9,
     "metadata": {},
     "output_type": "execute_result"
    }
   ],
   "source": [
    "traindf[\"reviewText\"].fillna(\"empty\", inplace=True)\n",
    "traindf.isna().sum()"
   ]
  },
  {
   "cell_type": "markdown",
   "id": "e0e61af4",
   "metadata": {
    "papermill": {
     "duration": 0.09416,
     "end_time": "2023-08-12T03:19:07.221814",
     "exception": false,
     "start_time": "2023-08-12T03:19:07.127654",
     "status": "completed"
    },
    "tags": []
   },
   "source": [
    "## EDA  \n"
   ]
  },
  {
   "cell_type": "code",
   "execution_count": 10,
   "id": "6915b504",
   "metadata": {
    "execution": {
     "iopub.execute_input": "2023-08-12T03:19:07.412158Z",
     "iopub.status.busy": "2023-08-12T03:19:07.411732Z",
     "iopub.status.idle": "2023-08-12T03:19:07.681013Z",
     "shell.execute_reply": "2023-08-12T03:19:07.679285Z"
    },
    "papermill": {
     "duration": 0.370141,
     "end_time": "2023-08-12T03:19:07.686931",
     "exception": false,
     "start_time": "2023-08-12T03:19:07.316790",
     "status": "completed"
    },
    "tags": []
   },
   "outputs": [
    {
     "data": {
      "image/png": "[encoded data removed]",
      "text/plain": [
       "<Figure size 600x400 with 1 Axes>"
      ]
     },
     "metadata": {},
     "output_type": "display_data"
    }
   ],
   "source": [
    "# Pie chart for sentiment column\n",
    "plt.figure(figsize=(6, 4))\n",
    "traindf[\"sentiment\"].value_counts().plot(kind='pie', autopct='%1.0f%%', colors=[\"lightgreen\", \"crimson\"])\n",
    "plt.title(\"Pie chart for sentiment column\")\n",
    "plt.show()"
   ]
  },
  {
   "cell_type": "code",
   "execution_count": 11,
   "id": "ae3f5fc5",
   "metadata": {
    "execution": {
     "iopub.execute_input": "2023-08-12T03:19:07.898686Z",
     "iopub.status.busy": "2023-08-12T03:19:07.898237Z",
     "iopub.status.idle": "2023-08-12T03:19:07.981551Z",
     "shell.execute_reply": "2023-08-12T03:19:07.979765Z"
    },
    "papermill": {
     "duration": 0.180754,
     "end_time": "2023-08-12T03:19:07.984304",
     "exception": false,
     "start_time": "2023-08-12T03:19:07.803550",
     "status": "completed"
    },
    "tags": []
   },
   "outputs": [
    {
     "name": "stdout",
     "output_type": "stream",
     "text": [
      "sentiment           NEGATIVE  POSITIVE\n",
      "isFrequentReviewer                    \n",
      "False                  35760     77429\n",
      "True                   18237     31332\n"
     ]
    },
    {
     "data": {
      "text/plain": [
       "Chi2ContingencyResult(statistic=419.89235425657796, pvalue=2.5755894769493255e-93, dof=1, expected_freq=array([[37551.86493444, 75637.13506556],\n",
       "       [16445.13506556, 33123.86493444]]))"
      ]
     },
     "execution_count": 11,
     "metadata": {},
     "output_type": "execute_result"
    }
   ],
   "source": [
    "# Chi-square test for isFrequentReviewer column and sentiment column   \n",
    "\n",
    "contingency_table = pd.crosstab(traindf['isFrequentReviewer'], traindf['sentiment'])\n",
    "print(contingency_table)\n",
    "stats.chi2_contingency(contingency_table)"
   ]
  },
  {
   "cell_type": "markdown",
   "id": "17fc83cf",
   "metadata": {
    "papermill": {
     "duration": 0.093946,
     "end_time": "2023-08-12T03:19:08.175627",
     "exception": false,
     "start_time": "2023-08-12T03:19:08.081681",
     "status": "completed"
    },
    "tags": []
   },
   "source": [
    "### Separate features and labels  "
   ]
  },
  {
   "cell_type": "code",
   "execution_count": 12,
   "id": "edf546ad",
   "metadata": {
    "execution": {
     "iopub.execute_input": "2023-08-12T03:19:08.366319Z",
     "iopub.status.busy": "2023-08-12T03:19:08.365242Z",
     "iopub.status.idle": "2023-08-12T03:19:08.372801Z",
     "shell.execute_reply": "2023-08-12T03:19:08.371695Z"
    },
    "papermill": {
     "duration": 0.105354,
     "end_time": "2023-08-12T03:19:08.375244",
     "exception": false,
     "start_time": "2023-08-12T03:19:08.269890",
     "status": "completed"
    },
    "tags": []
   },
   "outputs": [
    {
     "data": {
      "text/plain": [
       "((162758,), (162758,))"
      ]
     },
     "execution_count": 12,
     "metadata": {},
     "output_type": "execute_result"
    }
   ],
   "source": [
    "train_features = traindf[\"reviewText\"]\n",
    "train_labels = traindf.iloc[:, -1]\n",
    "train_features.shape, train_labels.shape"
   ]
  },
  {
   "cell_type": "markdown",
   "id": "05dc4c31",
   "metadata": {
    "papermill": {
     "duration": 0.094533,
     "end_time": "2023-08-12T03:19:08.563360",
     "exception": false,
     "start_time": "2023-08-12T03:19:08.468827",
     "status": "completed"
    },
    "tags": []
   },
   "source": [
    "### Split traindf into training and testing parts  "
   ]
  },
  {
   "cell_type": "code",
   "execution_count": 13,
   "id": "36c6d04a",
   "metadata": {
    "execution": {
     "iopub.execute_input": "2023-08-12T03:19:08.757545Z",
     "iopub.status.busy": "2023-08-12T03:19:08.757113Z",
     "iopub.status.idle": "2023-08-12T03:19:08.795831Z",
     "shell.execute_reply": "2023-08-12T03:19:08.795030Z"
    },
    "papermill": {
     "duration": 0.137757,
     "end_time": "2023-08-12T03:19:08.798054",
     "exception": false,
     "start_time": "2023-08-12T03:19:08.660297",
     "status": "completed"
    },
    "tags": []
   },
   "outputs": [
    {
     "data": {
      "text/plain": [
       "((122068,), (40690,), (122068,), (40690,))"
      ]
     },
     "execution_count": 13,
     "metadata": {},
     "output_type": "execute_result"
    }
   ],
   "source": [
    "X_train, X_test, y_train, y_test = train_test_split(train_features, train_labels, test_size=0.25, random_state=42)\n",
    "X_train.shape, X_test.shape, y_train.shape, y_test.shape"
   ]
  },
  {
   "cell_type": "markdown",
   "id": "27c00259",
   "metadata": {
    "papermill": {
     "duration": 0.099856,
     "end_time": "2023-08-12T03:19:08.992471",
     "exception": false,
     "start_time": "2023-08-12T03:19:08.892615",
     "status": "completed"
    },
    "tags": []
   },
   "source": [
    "## Model evaluation plan and code  "
   ]
  },
  {
   "cell_type": "code",
   "execution_count": 14,
   "id": "e95d5f45",
   "metadata": {
    "execution": {
     "iopub.execute_input": "2023-08-12T03:19:09.185407Z",
     "iopub.status.busy": "2023-08-12T03:19:09.184963Z",
     "iopub.status.idle": "2023-08-12T03:19:09.189956Z",
     "shell.execute_reply": "2023-08-12T03:19:09.188767Z"
    },
    "papermill": {
     "duration": 0.103625,
     "end_time": "2023-08-12T03:19:09.192160",
     "exception": false,
     "start_time": "2023-08-12T03:19:09.088535",
     "status": "completed"
    },
    "tags": []
   },
   "outputs": [],
   "source": [
    "# from sklearn.metrics import classification_report, confusion_matrix, ConfusionMatrixDisplay\n",
    "# from sklearn.metrics import f1_score"
   ]
  },
  {
   "cell_type": "code",
   "execution_count": 15,
   "id": "40f7ab01",
   "metadata": {
    "execution": {
     "iopub.execute_input": "2023-08-12T03:19:09.387142Z",
     "iopub.status.busy": "2023-08-12T03:19:09.385694Z",
     "iopub.status.idle": "2023-08-12T03:19:09.391281Z",
     "shell.execute_reply": "2023-08-12T03:19:09.390468Z"
    },
    "papermill": {
     "duration": 0.105639,
     "end_time": "2023-08-12T03:19:09.393747",
     "exception": false,
     "start_time": "2023-08-12T03:19:09.288108",
     "status": "completed"
    },
    "tags": []
   },
   "outputs": [],
   "source": [
    "# def evaluate(y_test, y_pred):\n",
    "#     print(classification_report(y_test, y_pred))\n",
    "#     print(confusion_matrix(y_test, y_pred))\n",
    "#     # print(f1_score(y_test, y_pred))\n",
    "#     ConfusionMatrixDisplay(y_test, y_pred)\n",
    "#     return"
   ]
  },
  {
   "cell_type": "markdown",
   "id": "1b755376",
   "metadata": {
    "papermill": {
     "duration": 0.094287,
     "end_time": "2023-08-12T03:19:09.583466",
     "exception": false,
     "start_time": "2023-08-12T03:19:09.489179",
     "status": "completed"
    },
    "tags": []
   },
   "source": [
    "### Data preprocessing  "
   ]
  },
  {
   "cell_type": "markdown",
   "id": "f586eaac",
   "metadata": {
    "papermill": {
     "duration": 0.095999,
     "end_time": "2023-08-12T03:19:09.776020",
     "exception": false,
     "start_time": "2023-08-12T03:19:09.680021",
     "status": "completed"
    },
    "tags": []
   },
   "source": [
    "`Define stop words`  "
   ]
  },
  {
   "cell_type": "code",
   "execution_count": 16,
   "id": "4b5e50c3",
   "metadata": {
    "execution": {
     "iopub.execute_input": "2023-08-12T03:19:09.980776Z",
     "iopub.status.busy": "2023-08-12T03:19:09.979836Z",
     "iopub.status.idle": "2023-08-12T03:19:09.984938Z",
     "shell.execute_reply": "2023-08-12T03:19:09.984124Z"
    },
    "papermill": {
     "duration": 0.112811,
     "end_time": "2023-08-12T03:19:09.987488",
     "exception": false,
     "start_time": "2023-08-12T03:19:09.874677",
     "status": "completed"
    },
    "tags": []
   },
   "outputs": [],
   "source": [
    "# stop_words = [\"able\", \"about\", \"above\", \"abst\", \"ac\"]     # Deprecated  \n",
    "# type(stop_words), len(stop_words)"
   ]
  },
  {
   "cell_type": "markdown",
   "id": "0ba6556a",
   "metadata": {
    "papermill": {
     "duration": 0.096613,
     "end_time": "2023-08-12T03:19:10.194235",
     "exception": false,
     "start_time": "2023-08-12T03:19:10.097622",
     "status": "completed"
    },
    "tags": []
   },
   "source": [
    "## Feature extraction  "
   ]
  },
  {
   "cell_type": "markdown",
   "id": "5c2c02a4",
   "metadata": {
    "papermill": {
     "duration": 0.093875,
     "end_time": "2023-08-12T03:19:10.382315",
     "exception": false,
     "start_time": "2023-08-12T03:19:10.288440",
     "status": "completed"
    },
    "tags": []
   },
   "source": [
    "### Understand CountVectorizer and TfidfVectorizer  "
   ]
  },
  {
   "cell_type": "code",
   "execution_count": 17,
   "id": "bc432499",
   "metadata": {
    "execution": {
     "iopub.execute_input": "2023-08-12T03:19:10.574871Z",
     "iopub.status.busy": "2023-08-12T03:19:10.574056Z",
     "iopub.status.idle": "2023-08-12T03:19:10.579435Z",
     "shell.execute_reply": "2023-08-12T03:19:10.578227Z"
    },
    "papermill": {
     "duration": 0.105497,
     "end_time": "2023-08-12T03:19:10.582036",
     "exception": false,
     "start_time": "2023-08-12T03:19:10.476539",
     "status": "completed"
    },
    "tags": []
   },
   "outputs": [],
   "source": [
    "# text = X_train.copy()\n",
    "# text.head()"
   ]
  },
  {
   "cell_type": "code",
   "execution_count": 18,
   "id": "6c23f6fa",
   "metadata": {
    "execution": {
     "iopub.execute_input": "2023-08-12T03:19:10.775413Z",
     "iopub.status.busy": "2023-08-12T03:19:10.774677Z",
     "iopub.status.idle": "2023-08-12T03:19:10.779241Z",
     "shell.execute_reply": "2023-08-12T03:19:10.778521Z"
    },
    "papermill": {
     "duration": 0.104036,
     "end_time": "2023-08-12T03:19:10.781525",
     "exception": false,
     "start_time": "2023-08-12T03:19:10.677489",
     "status": "completed"
    },
    "tags": []
   },
   "outputs": [],
   "source": [
    "# vectorizer = TfidfVectorizer(stop_words=stop_words)\n",
    "# vectorized_text = vectorizer.fit_transform(text[\"reviewText\"])\n",
    "# vectorized_text"
   ]
  },
  {
   "cell_type": "markdown",
   "id": "0f24e864",
   "metadata": {
    "papermill": {
     "duration": 0.093193,
     "end_time": "2023-08-12T03:19:10.968477",
     "exception": false,
     "start_time": "2023-08-12T03:19:10.875284",
     "status": "completed"
    },
    "tags": []
   },
   "source": [
    "`Without stop words`  \n",
    "<122068x58624 sparse matrix of type '<class 'numpy.float64'>'\n",
    "\twith 2312222 stored elements in Compressed Sparse Row format>\n",
    "\n",
    "`With stop words`  \n",
    "<122068x57784 sparse matrix of type '<class 'numpy.float64'>'\n",
    "\twith 1188395 stored elements in Compressed Sparse Row format>   "
   ]
  },
  {
   "cell_type": "code",
   "execution_count": 19,
   "id": "51a2b0f8",
   "metadata": {
    "execution": {
     "iopub.execute_input": "2023-08-12T03:19:11.166167Z",
     "iopub.status.busy": "2023-08-12T03:19:11.165441Z",
     "iopub.status.idle": "2023-08-12T03:19:11.170117Z",
     "shell.execute_reply": "2023-08-12T03:19:11.169299Z"
    },
    "papermill": {
     "duration": 0.104274,
     "end_time": "2023-08-12T03:19:11.172414",
     "exception": false,
     "start_time": "2023-08-12T03:19:11.068140",
     "status": "completed"
    },
    "tags": []
   },
   "outputs": [],
   "source": [
    "# vectorizer2 = CountVectorizer(stop_words=stop_words)\n",
    "# vectorized_text2 = vectorizer2.fit_transform(text[\"reviewText\"])\n",
    "# vectorized_text2"
   ]
  },
  {
   "cell_type": "markdown",
   "id": "7ed97fe7",
   "metadata": {
    "papermill": {
     "duration": 0.094468,
     "end_time": "2023-08-12T03:19:11.360656",
     "exception": false,
     "start_time": "2023-08-12T03:19:11.266188",
     "status": "completed"
    },
    "tags": []
   },
   "source": [
    "`Without stop words`  \n",
    "<122068x58624 sparse matrix of type '<class 'numpy.int64'>'\n",
    "\twith 2312222 stored elements in Compressed Sparse Row format>\n",
    "\n",
    "`With stop words`  \n",
    "<122068x57784 sparse matrix of type '<class 'numpy.int64'>'\n",
    "\twith 1188395 stored elements in Compressed Sparse Row format>"
   ]
  },
  {
   "cell_type": "markdown",
   "id": "d15bffbe",
   "metadata": {
    "papermill": {
     "duration": 0.096337,
     "end_time": "2023-08-12T03:19:11.553095",
     "exception": false,
     "start_time": "2023-08-12T03:19:11.456758",
     "status": "completed"
    },
    "tags": []
   },
   "source": [
    "### Conclusion   \n",
    "`TfidfVectorizer is equivalent to CountVectorizer followed by TfidfTransformer.`  \n",
    "\n",
    "https://scikit-learn.org/stable/modules/generated/sklearn.feature_extraction.text.TfidfVectorizer.html"
   ]
  },
  {
   "cell_type": "markdown",
   "id": "69c12a0b",
   "metadata": {
    "papermill": {
     "duration": 0.094895,
     "end_time": "2023-08-12T03:19:11.742576",
     "exception": false,
     "start_time": "2023-08-12T03:19:11.647681",
     "status": "completed"
    },
    "tags": []
   },
   "source": [
    "## Model building workflow  \n",
    "\n",
    "`Make pipeline for preprocesing and model training and predictions`  \n"
   ]
  },
  {
   "cell_type": "code",
   "execution_count": 20,
   "id": "9bacc4f4",
   "metadata": {
    "execution": {
     "iopub.execute_input": "2023-08-12T03:19:11.935126Z",
     "iopub.status.busy": "2023-08-12T03:19:11.934509Z",
     "iopub.status.idle": "2023-08-12T03:19:11.939767Z",
     "shell.execute_reply": "2023-08-12T03:19:11.938930Z"
    },
    "papermill": {
     "duration": 0.104243,
     "end_time": "2023-08-12T03:19:11.942091",
     "exception": false,
     "start_time": "2023-08-12T03:19:11.837848",
     "status": "completed"
    },
    "tags": []
   },
   "outputs": [],
   "source": [
    "# def preprocess_n_train(X_train, y_train, preprocessor, model):\n",
    "#     pipe = Pipeline(steps=[\n",
    "#                             (\"preprocessor\", preprocessor),\n",
    "#                             (\"model\", model)\n",
    "#                         ])\n",
    "    \n",
    "#     pipe.fit(X_train, y_train)\n",
    "\n",
    "#     print(\"Given model has been trained. Use predict method to get predictions array.\")\n",
    "#     return pipe\n",
    "\n",
    "\n",
    "# def predict_n_evaluate(pipeline, X_test, y_test):\n",
    "#     y_pred = pipeline.predict(X_test)\n",
    "#     print(f\"y_pred shape: {y_pred.shape}\")\n",
    "#     print(f\"Summary of predictions: {np.unique(y_pred, return_counts=True)}\")\n",
    "#     print(classification_report(y_test, y_pred))\n",
    "#     print(confusion_matrix(y_test, y_pred))\n",
    "#     return y_pred"
   ]
  },
  {
   "cell_type": "markdown",
   "id": "4e614718",
   "metadata": {
    "papermill": {
     "duration": 0.095258,
     "end_time": "2023-08-12T03:19:12.135577",
     "exception": false,
     "start_time": "2023-08-12T03:19:12.040319",
     "status": "completed"
    },
    "tags": []
   },
   "source": [
    "## Building 3 basic models  "
   ]
  },
  {
   "cell_type": "markdown",
   "id": "33d23114",
   "metadata": {
    "papermill": {
     "duration": 0.093842,
     "end_time": "2023-08-12T03:19:12.323552",
     "exception": false,
     "start_time": "2023-08-12T03:19:12.229710",
     "status": "completed"
    },
    "tags": []
   },
   "source": [
    "### Text preprocessors  "
   ]
  },
  {
   "cell_type": "code",
   "execution_count": 21,
   "id": "4cb7f42a",
   "metadata": {
    "execution": {
     "iopub.execute_input": "2023-08-12T03:19:12.514561Z",
     "iopub.status.busy": "2023-08-12T03:19:12.513893Z",
     "iopub.status.idle": "2023-08-12T03:19:12.518351Z",
     "shell.execute_reply": "2023-08-12T03:19:12.517571Z"
    },
    "papermill": {
     "duration": 0.102551,
     "end_time": "2023-08-12T03:19:12.520562",
     "exception": false,
     "start_time": "2023-08-12T03:19:12.418011",
     "status": "completed"
    },
    "tags": []
   },
   "outputs": [],
   "source": [
    "# tvec = TfidfVectorizer()\n",
    "# cvec = CountVectorizer()        # Note that TfidfVectorizer and CountVectorizer+TfidsTransformer do the same function\n",
    "# tvec, cvec"
   ]
  },
  {
   "cell_type": "markdown",
   "id": "99435464",
   "metadata": {
    "papermill": {
     "duration": 0.094185,
     "end_time": "2023-08-12T03:19:12.710696",
     "exception": false,
     "start_time": "2023-08-12T03:19:12.616511",
     "status": "completed"
    },
    "tags": []
   },
   "source": [
    "### Logistic Regression with TfidVectorizer for preprocessing  "
   ]
  },
  {
   "cell_type": "code",
   "execution_count": 22,
   "id": "9b127040",
   "metadata": {
    "execution": {
     "iopub.execute_input": "2023-08-12T03:19:12.902699Z",
     "iopub.status.busy": "2023-08-12T03:19:12.902271Z",
     "iopub.status.idle": "2023-08-12T03:19:12.906166Z",
     "shell.execute_reply": "2023-08-12T03:19:12.905350Z"
    },
    "papermill": {
     "duration": 0.102007,
     "end_time": "2023-08-12T03:19:12.908203",
     "exception": false,
     "start_time": "2023-08-12T03:19:12.806196",
     "status": "completed"
    },
    "tags": []
   },
   "outputs": [],
   "source": [
    "# logreg = LogisticRegression(max_iter=1000)\n",
    "# logreg_pipe = preprocess_n_train(X_train, y_train, tvec, logreg)\n",
    "# y_pred_logreg = predict_n_evaluate(logreg_pipe, X_test, y_test)\n",
    "# y_pred_logreg"
   ]
  },
  {
   "cell_type": "markdown",
   "id": "b85785ca",
   "metadata": {
    "papermill": {
     "duration": 0.159166,
     "end_time": "2023-08-12T03:19:13.164771",
     "exception": false,
     "start_time": "2023-08-12T03:19:13.005605",
     "status": "completed"
    },
    "tags": []
   },
   "source": [
    "### SVM model  "
   ]
  },
  {
   "cell_type": "code",
   "execution_count": 23,
   "id": "9e7835fb",
   "metadata": {
    "execution": {
     "iopub.execute_input": "2023-08-12T03:19:13.358008Z",
     "iopub.status.busy": "2023-08-12T03:19:13.356889Z",
     "iopub.status.idle": "2023-08-12T03:19:13.361776Z",
     "shell.execute_reply": "2023-08-12T03:19:13.360501Z"
    },
    "papermill": {
     "duration": 0.103627,
     "end_time": "2023-08-12T03:19:13.364164",
     "exception": false,
     "start_time": "2023-08-12T03:19:13.260537",
     "status": "completed"
    },
    "tags": []
   },
   "outputs": [],
   "source": [
    "# svm = LinearSVC()\n",
    "# svm_pipe = preprocess_n_train(X_train, y_train, tvec, svm)\n",
    "# y_pred_svm = predict_n_evaluate(svm_pipe, X_test, y_test)\n",
    "# y_pred_svm"
   ]
  },
  {
   "cell_type": "markdown",
   "id": "a752ddf1",
   "metadata": {
    "papermill": {
     "duration": 0.093786,
     "end_time": "2023-08-12T03:19:13.552245",
     "exception": false,
     "start_time": "2023-08-12T03:19:13.458459",
     "status": "completed"
    },
    "tags": []
   },
   "source": [
    "### Naive Bayes model  "
   ]
  },
  {
   "cell_type": "markdown",
   "id": "e5fbfcc2",
   "metadata": {
    "papermill": {
     "duration": 0.096502,
     "end_time": "2023-08-12T03:19:13.743729",
     "exception": false,
     "start_time": "2023-08-12T03:19:13.647227",
     "status": "completed"
    },
    "tags": []
   },
   "source": [
    "#### MultinomialNB  "
   ]
  },
  {
   "cell_type": "code",
   "execution_count": 24,
   "id": "c53942a4",
   "metadata": {
    "execution": {
     "iopub.execute_input": "2023-08-12T03:19:13.934736Z",
     "iopub.status.busy": "2023-08-12T03:19:13.934314Z",
     "iopub.status.idle": "2023-08-12T03:19:13.939462Z",
     "shell.execute_reply": "2023-08-12T03:19:13.938119Z"
    },
    "papermill": {
     "duration": 0.102943,
     "end_time": "2023-08-12T03:19:13.941817",
     "exception": false,
     "start_time": "2023-08-12T03:19:13.838874",
     "status": "completed"
    },
    "tags": []
   },
   "outputs": [],
   "source": [
    "# mnb = MultinomialNB()\n",
    "# mnb_pipe = preprocess_n_train(X_train, y_train, tvec, mnb)\n",
    "# y_pred_mnb = predict_n_evaluate(mnb_pipe, X_test, y_test)\n",
    "# y_pred_mnb"
   ]
  },
  {
   "cell_type": "markdown",
   "id": "3ff9d05b",
   "metadata": {
    "papermill": {
     "duration": 0.094422,
     "end_time": "2023-08-12T03:19:14.134535",
     "exception": false,
     "start_time": "2023-08-12T03:19:14.040113",
     "status": "completed"
    },
    "tags": []
   },
   "source": [
    "## Submitting predictions to Kaggle competition  "
   ]
  },
  {
   "cell_type": "code",
   "execution_count": 25,
   "id": "c6a7944e",
   "metadata": {
    "execution": {
     "iopub.execute_input": "2023-08-12T03:19:14.325648Z",
     "iopub.status.busy": "2023-08-12T03:19:14.324297Z",
     "iopub.status.idle": "2023-08-12T03:19:14.330181Z",
     "shell.execute_reply": "2023-08-12T03:19:14.329429Z"
    },
    "papermill": {
     "duration": 0.104112,
     "end_time": "2023-08-12T03:19:14.332476",
     "exception": false,
     "start_time": "2023-08-12T03:19:14.228364",
     "status": "completed"
    },
    "tags": []
   },
   "outputs": [],
   "source": [
    "# def submit(selected_model=logreg, selected_preprocessor=tvec):\n",
    "    \n",
    "#     # Retrain on the whole train.csv file  \n",
    "#     traindf = pd.read_csv(\"/kaggle/input/sentiment-prediction-on-movie-reviews/train.csv\")\n",
    "#     X_train = traindf[\"reviewText\"]\n",
    "#     X_train.fillna(\"empty\", inplace=True)\n",
    "#     y_train = traindf[\"sentiment\"]\n",
    "#     pipe = preprocess_n_train(X_train, y_train, selected_preprocessor, selected_model)\n",
    "    \n",
    "#     # Predict on test.csv file\n",
    "#     testdf = pd.read_csv(\"/kaggle/input/sentiment-prediction-on-movie-reviews/test.csv\")\n",
    "#     X_test = testdf[\"reviewText\"]\n",
    "#     X_test.fillna(\"empty\", inplace=True)\n",
    "    \n",
    "#     y_pred = pipe.predict(X_test)\n",
    "    \n",
    "#     pred_df = pd.DataFrame(y_pred)\n",
    "#     pred_df.columns = [\"sentiment\"]\n",
    "#     pred_df.index.name = \"id\"\n",
    "#     pred_df.to_csv(\"submission.csv\")\n",
    "    \n",
    "#     return \"Successfully created the submission file!!!\""
   ]
  },
  {
   "cell_type": "code",
   "execution_count": 26,
   "id": "c5cc416c",
   "metadata": {
    "execution": {
     "iopub.execute_input": "2023-08-12T03:19:14.525763Z",
     "iopub.status.busy": "2023-08-12T03:19:14.524914Z",
     "iopub.status.idle": "2023-08-12T03:19:14.530035Z",
     "shell.execute_reply": "2023-08-12T03:19:14.528895Z"
    },
    "papermill": {
     "duration": 0.104376,
     "end_time": "2023-08-12T03:19:14.532505",
     "exception": false,
     "start_time": "2023-08-12T03:19:14.428129",
     "status": "completed"
    },
    "tags": []
   },
   "outputs": [],
   "source": [
    "# submit(logreg_cv1, tvec_cv1)"
   ]
  },
  {
   "cell_type": "markdown",
   "id": "71f1a55d",
   "metadata": {
    "papermill": {
     "duration": 0.096053,
     "end_time": "2023-08-12T03:19:14.724216",
     "exception": false,
     "start_time": "2023-08-12T03:19:14.628163",
     "status": "completed"
    },
    "tags": []
   },
   "source": [
    "# PART II  "
   ]
  },
  {
   "cell_type": "markdown",
   "id": "c8b0f43a",
   "metadata": {
    "papermill": {
     "duration": 0.098934,
     "end_time": "2023-08-12T03:19:14.921682",
     "exception": false,
     "start_time": "2023-08-12T03:19:14.822748",
     "status": "completed"
    },
    "tags": []
   },
   "source": [
    "## Merge \"movies.csv\" with \"train.csv\" and \"test.csv\"  "
   ]
  },
  {
   "cell_type": "markdown",
   "id": "e08e0a6e",
   "metadata": {
    "papermill": {
     "duration": 0.095245,
     "end_time": "2023-08-12T03:19:15.114121",
     "exception": false,
     "start_time": "2023-08-12T03:19:15.018876",
     "status": "completed"
    },
    "tags": []
   },
   "source": [
    "### Helper functions  "
   ]
  },
  {
   "cell_type": "code",
   "execution_count": 27,
   "id": "f2dd0452",
   "metadata": {
    "execution": {
     "iopub.execute_input": "2023-08-12T03:19:15.304780Z",
     "iopub.status.busy": "2023-08-12T03:19:15.304108Z",
     "iopub.status.idle": "2023-08-12T03:19:15.310279Z",
     "shell.execute_reply": "2023-08-12T03:19:15.309052Z"
    },
    "papermill": {
     "duration": 0.104168,
     "end_time": "2023-08-12T03:19:15.312602",
     "exception": false,
     "start_time": "2023-08-12T03:19:15.208434",
     "status": "completed"
    },
    "tags": []
   },
   "outputs": [],
   "source": [
    "# Helper function for loading files  \n",
    "\n",
    "def load_csv(filename: str):\n",
    "    if platform == \"vscode\":\n",
    "        df = pd.read_csv(f\"data/{filename}.csv\")\n",
    "    else:\n",
    "        df = pd.read_csv(f\"/kaggle/input/sentiment-prediction-on-movie-reviews/{filename}.csv\")\n",
    "        \n",
    "    return df"
   ]
  },
  {
   "cell_type": "code",
   "execution_count": 28,
   "id": "563ab425",
   "metadata": {
    "execution": {
     "iopub.execute_input": "2023-08-12T03:19:15.505040Z",
     "iopub.status.busy": "2023-08-12T03:19:15.504306Z",
     "iopub.status.idle": "2023-08-12T03:19:15.510096Z",
     "shell.execute_reply": "2023-08-12T03:19:15.508946Z"
    },
    "papermill": {
     "duration": 0.105417,
     "end_time": "2023-08-12T03:19:15.512789",
     "exception": false,
     "start_time": "2023-08-12T03:19:15.407372",
     "status": "completed"
    },
    "tags": []
   },
   "outputs": [],
   "source": [
    "def inspect(df: pd.DataFrame):\n",
    "    print(f\"Shape of the dataframe: {df.shape}\")\n",
    "    print()\n",
    "    print(f\"Columns in the dataframe:\\n{df.columns}\")\n",
    "    print()\n",
    "    print(f\"{df.info()}\")\n",
    "    print()\n",
    "    # print(f\"Summary: {df.describe()}\")\n",
    "    print(f\"Missing values:\\n{df.isna().sum()}\")\n",
    "    return"
   ]
  },
  {
   "cell_type": "code",
   "execution_count": 29,
   "id": "fb7565ef",
   "metadata": {
    "execution": {
     "iopub.execute_input": "2023-08-12T03:19:15.705927Z",
     "iopub.status.busy": "2023-08-12T03:19:15.705065Z",
     "iopub.status.idle": "2023-08-12T03:19:15.710739Z",
     "shell.execute_reply": "2023-08-12T03:19:15.709910Z"
    },
    "papermill": {
     "duration": 0.104046,
     "end_time": "2023-08-12T03:19:15.712975",
     "exception": false,
     "start_time": "2023-08-12T03:19:15.608929",
     "status": "completed"
    },
    "tags": []
   },
   "outputs": [],
   "source": [
    "def name_fl(name):\n",
    "    l = name.split()\n",
    "    n = ' '.join((l[0], l[-1]))\n",
    "    return n"
   ]
  },
  {
   "cell_type": "code",
   "execution_count": 30,
   "id": "11313f53",
   "metadata": {
    "execution": {
     "iopub.execute_input": "2023-08-12T03:19:15.906223Z",
     "iopub.status.busy": "2023-08-12T03:19:15.905550Z",
     "iopub.status.idle": "2023-08-12T03:19:15.935518Z",
     "shell.execute_reply": "2023-08-12T03:19:15.934569Z"
    },
    "papermill": {
     "duration": 0.128951,
     "end_time": "2023-08-12T03:19:15.938031",
     "exception": false,
     "start_time": "2023-08-12T03:19:15.809080",
     "status": "completed"
    },
    "tags": []
   },
   "outputs": [],
   "source": [
    "def select_features(df: pd.DataFrame, moviesdf: pd.DataFrame, row_thresh_null=None):\n",
    "    '''\n",
    "    This function merges the given dataframes. Note that the first df must be \"train\" or \"test\" and\n",
    "    the second df should be \"movies\".\n",
    "    Note: Sentiment column is present only in \"train.csv\" file and not \"test.csv\" file.\n",
    "    '''\n",
    "    \n",
    "    # Drop duplicates from moviesdf\n",
    "#     movies_unique = moviesdf.drop_duplicates(subset=[\"movieid\"])\n",
    "\n",
    "    # Drop duplicates using groupby - clubs similar rows and fills in missing values better\n",
    "    movies_unique = moviesdf.fillna(value=np.nan).groupby(\"movieid\").first().reset_index()\n",
    "    \n",
    "\n",
    "    # Handle missing values in movies.csv better than just dropping duplicates?\n",
    "#     movies_unique = moviesdf.copy()\n",
    "#     movies_unique[[\"audienceScore\", \"runtimeMinutes\"]] = movies_unique[[\"audienceScore\", \"runtimeMinutes\"]].interpolate(method='linear', axis=0)\n",
    "#     movies_unique = movies_unique.fillna(value=np.nan).groupby(\"movieid\").first().fillna(method='ffill').reset_index()\n",
    "\n",
    "    \n",
    "\n",
    "    # Merge df and movies_unique\n",
    "    df_merged = pd.merge(df, movies_unique, on=\"movieid\", how='left')\n",
    "    \n",
    "    # Rename \"isTopCritic\" column, if it exists, to \"isFrequentReviewer\"\n",
    "    df_merged.rename(columns={\"isTopCritic\": \"isFrequentReviewer\"}, inplace=True)\n",
    "    \n",
    "    # Drop columns\n",
    "#     df_merged = df_merged.drop(columns=[\"title\", \"ratingContents\", \"releaseDateTheaters\", \"releaseDateStreaming\", \"distributor\", \"soundType\"])\n",
    "#     df_merged = df_merged.drop(columns=[\"title\", \"soundType\"])\n",
    "    \n",
    "    # Drop rows (OPTIONAL: Uses kwarg row_thresh_null)\n",
    "    if row_thresh_null != None:\n",
    "        df_merged.dropna(axis=0, thresh=(df_merged.shape[1] - row_thresh_null), inplace=True)\n",
    "        \n",
    "\n",
    "    # Create new columns based on reviewText\n",
    "    final = df_merged.copy()\n",
    "    final[\"reviewYN\"] = np.where(final[\"reviewText\"].isnull(), 1, 0)    # Feature engineering - adding a new column\n",
    "    final[\"reviewWC\"] = final.apply(lambda x: len(str(x[\"reviewText\"]).split()), axis=1)    # Feature engineering - adding second new column\n",
    "    \n",
    "    # Clean text (replace numbers with empty string) and fill missing values in \"reviewText\" with empty string\n",
    "    final[\"reviewText\"] = final[\"reviewText\"].str.replace('\\d+', '', regex=True)\n",
    "    final[\"reviewText\"] = final[\"reviewText\"].fillna(\"neutral\")\n",
    "    \n",
    "    # Fill missing values in \"rating\", \"genre\", original columns with the word \"unknown\"\n",
    "    final[\"rating\"] = final[\"rating\"].fillna(\"unknown\")\n",
    "    final[\"originalLanguage\"] = final[\"originalLanguage\"].fillna(\"unknown\")\n",
    "    final[\"genre\"] = final[\"genre\"].fillna(\"unknown\")\n",
    "    final[\"genre\"] = final[\"genre\"].apply(lambda x: re.sub(r\"-\", \"\", x))\n",
    "    final[\"genreSorted\"] = final[\"genre\"].apply(lambda x: (\",\").join(sorted(x.split(\", \"))))\n",
    "#     final[\"genre\"] = final[\"genre\"].replace(to_replace={\"&\": \"\"})\n",
    "\n",
    "    # Impute missing values for \"audienceScore\" and \"runtimeMinutes\" columns\n",
    "#     final[\"audienceScore\"] = final[\"audienceScore\"].fillna(final[\"audienceScore\"].mean())        # MOVED\n",
    "#     final[\"runtimeMinutes\"] = final[\"runtimeMinutes\"].fillna(final[\"runtimeMinutes\"].median())   # MOVED\n",
    "    \n",
    "    # Preprocess and impute missing values in \"boxOffice\" column\n",
    "    final[\"boxOffice\"] = final[\"boxOffice\"].str[1:]\n",
    "    final[\"boxOffice\"] = final[\"boxOffice\"].replace(to_replace={\"M\": \"*1000000\", \"K\": \"*1000\"}, regex=True)\n",
    "    final[\"boxOffice\"] = final[\"boxOffice\"].loc[final[\"boxOffice\"].notnull()].apply(lambda x: eval(str(x)))\n",
    "#     final[\"boxOffice\"] = final[\"boxOffice\"].fillna(final[\"boxOffice\"].median())                  # MOVED\n",
    "    # (Optional) Replace outliers in boxOffice with median\n",
    "#     median = final[\"boxOffice\"].describe()['50%']\n",
    "#     iqr = final[\"boxOffice\"].describe()['75%'] - final[\"boxOffice\"].describe()['25%']\n",
    "#     ll = median - (1.5*iqr)\n",
    "#     ul = median + (1.5*iqr)\n",
    "#     final.loc[final[\"boxOffice\"] > ul, \"boxOffice\"] = median\n",
    "    \n",
    "    # Clean language names\n",
    "    final[\"originalLanguage\"].replace({\"English (United Kingdom)\": \"English\", \n",
    "                                            \"English (Australia)\" : \"English\",\n",
    "                                            \"French (France)\": \"French\", \n",
    "                                            \"French (Canada)\": \"French\",\n",
    "                                            \"Portuguese (Brazil)\": \"Portuguese\",\n",
    "                                            \"Spanish (Spain)\": \"Spanish\"},                                         \n",
    "                                            inplace=True)\n",
    "    \n",
    "    # Clean reviewerName column\n",
    "    pre_post_fixes = {\"Mr. \": \"\", \"Mrs. \": \"\", \"Ms. \": \"\", \"Dr. \": \"\", \n",
    "                      \" MD\": \"\", \" DDS\": \"\", \" DVM\": \"\", \" Jr.\": \"\", \" PhD\": \"\", \" II\": \"\", \" IV\": \"\"}\n",
    "    final[\"reviewerName\"] = final[\"reviewerName\"].replace(pre_post_fixes, regex=True)\n",
    "    final[\"reviewerName\"] = final[\"reviewerName\"].apply(name_fl)\n",
    "    \n",
    "    # Handle 'ratingContents' column\n",
    "    final[\"ratingContents\"] = final[\"ratingContents\"].fillna(\"neutral\")\n",
    "    final[\"rcSorted\"] = final[\"ratingContents\"].apply(lambda x: (\",\").join(sorted(x.strip(\"][\").split(\", \"))))\n",
    "    final[\"rcSorted\"] = final[\"rcSorted\"].apply(lambda x: re.sub(r\"'\", \"\", x))\n",
    "    final[\"rcSorted\"] = final[\"rcSorted\"].apply(lambda x: re.sub(r\"[/\\s]\", \"_\", x))  \n",
    "    \n",
    "    # Handle 'ratingContents' column\n",
    "    final[\"distributor\"] = final[\"distributor\"].fillna(\"unknown\")\n",
    "    \n",
    "    # Work with 'releaseDateTheaters', releaseDateStreaming column\n",
    "    final[[\"releaseDateTheaters\", \"releaseDateStreaming\"]] = final[[\"releaseDateTheaters\", \"releaseDateStreaming\"]].astype('datetime64[ns]')\n",
    "\n",
    "    final[\"releaseDate\"] = final[[\"releaseDateTheaters\", \"releaseDateStreaming\"]].min(axis=1, skipna=False)\n",
    "#     final[\"releaseDate\"] = final[\"releaseDate\"].fillna(final[\"releaseDate\"].median())               # MOVED\n",
    "\n",
    "    final[\"releaseYear\"] = final[\"releaseDate\"].dt.year\n",
    "    final[\"releaseMonth\"] = final[\"releaseDate\"].dt.month\n",
    "    \n",
    "    # Compute \"releaseDiff\" column and fill missing values in \"releaseDiff\" and (optional) replace outliers\n",
    "    final[\"releaseDiff\"] = (final[\"releaseDateStreaming\"] - final[\"releaseDateTheaters\"]) / np.timedelta64(1, 'D')\n",
    "    final[\"releaseDiff\"] = final[\"releaseDiff\"].apply(lambda x: abs(x))\n",
    "    final[\"releaseDiff\"] = final[\"releaseDiff\"].fillna(value=0)\n",
    "#     final[\"releaseDiff\"] = final[\"releaseDiff\"].fillna(final[\"releaseDiff\"].median())\n",
    "    # median = final[\"releaseDiff\"].describe()['50%']\n",
    "    # iqr = final[\"releaseDiff\"].describe()['75%'] - final[\"releaseDiff\"].describe()['25%']\n",
    "    # ll = median - (1.5*iqr)\n",
    "    # ul = median + (1.5*iqr)\n",
    "    # final.loc[final[\"releaseDiff\"] > ul, \"releaseDiff\"] = median\n",
    "    # final.loc[final[\"releaseDiff\"] < ll, \"releaseDiff\"] = median\n",
    "    \n",
    "    # Create new feature columns\n",
    "    \n",
    "    # Convert audienceScore to categories  \n",
    "    num_bins_as = 20\n",
    "    final[\"audScoreBins\"] = pd.cut(final['audienceScore'], bins=num_bins_as, labels=False)\n",
    "    \n",
    "    # Convert runtimeMinutes to categories  \n",
    "#     num_bins_rt = 20\n",
    "    final[\"runtimeBins\"] = pd.cut(final['runtimeMinutes'], bins=[0,75,120,180,565], labels=[4,3,2,1])\n",
    "    \n",
    "    # Convert boxOffice to categories  \n",
    "    num_bins_bo = 5\n",
    "    final[\"boxOfficeBins\"] = pd.cut(final['boxOffice'], bins=num_bins_bo, labels=False)\n",
    "    \n",
    "    # Convert releaseDiff to categories  \n",
    "    num_bins_rd = 5\n",
    "    final[\"releaseDiffBins\"] = pd.cut(final['releaseDiff'], bins=[-1, 180, 360, 1000, 40000], labels=[0, 1, 2, 3])\n",
    "\n",
    "    return final"
   ]
  },
  {
   "cell_type": "code",
   "execution_count": 31,
   "id": "cc0124c5",
   "metadata": {
    "execution": {
     "iopub.execute_input": "2023-08-12T03:19:16.135754Z",
     "iopub.status.busy": "2023-08-12T03:19:16.135052Z",
     "iopub.status.idle": "2023-08-12T03:19:16.143180Z",
     "shell.execute_reply": "2023-08-12T03:19:16.141983Z"
    },
    "papermill": {
     "duration": 0.106287,
     "end_time": "2023-08-12T03:19:16.145494",
     "exception": false,
     "start_time": "2023-08-12T03:19:16.039207",
     "status": "completed"
    },
    "tags": []
   },
   "outputs": [],
   "source": [
    "def split_train_predict(features, labels, pipeline, test_size=0.25, random_state=42):\n",
    "    # cols = features.columns\n",
    "    if len(features.shape) == 1:\n",
    "        features = features.to_numpy().reshape(-1, 1)  # reshape to 2D array\n",
    "    features = pd.DataFrame(features)\n",
    "    X_train, X_test, y_train, y_test = train_test_split(features, labels, test_size=test_size, random_state=random_state)\n",
    "    pipeline.fit(X_train, y_train)\n",
    "    y_pred = pipeline.predict(X_test)\n",
    "    print(classification_report(y_test, y_pred))\n",
    "    print(confusion_matrix(y_test, y_pred))\n",
    "    return pipeline"
   ]
  },
  {
   "cell_type": "markdown",
   "id": "a02df5c1",
   "metadata": {
    "papermill": {
     "duration": 0.093629,
     "end_time": "2023-08-12T03:19:16.332780",
     "exception": false,
     "start_time": "2023-08-12T03:19:16.239151",
     "status": "completed"
    },
    "tags": []
   },
   "source": [
    "### Merge \"train.csv\" file with \"movies.csv\" file  "
   ]
  },
  {
   "cell_type": "code",
   "execution_count": 32,
   "id": "ce52efc8",
   "metadata": {
    "execution": {
     "iopub.execute_input": "2023-08-12T03:19:16.522220Z",
     "iopub.status.busy": "2023-08-12T03:19:16.521443Z",
     "iopub.status.idle": "2023-08-12T03:19:31.129277Z",
     "shell.execute_reply": "2023-08-12T03:19:31.128111Z"
    },
    "papermill": {
     "duration": 14.705777,
     "end_time": "2023-08-12T03:19:31.132010",
     "exception": false,
     "start_time": "2023-08-12T03:19:16.426233",
     "status": "completed"
    },
    "tags": []
   },
   "outputs": [],
   "source": [
    "merged = select_features(load_csv(\"train\"), load_csv(\"movies\"), row_thresh_null=None)"
   ]
  },
  {
   "cell_type": "code",
   "execution_count": 33,
   "id": "7be581dd",
   "metadata": {
    "execution": {
     "iopub.execute_input": "2023-08-12T03:19:31.325082Z",
     "iopub.status.busy": "2023-08-12T03:19:31.324375Z",
     "iopub.status.idle": "2023-08-12T03:19:31.328311Z",
     "shell.execute_reply": "2023-08-12T03:19:31.327505Z"
    },
    "papermill": {
     "duration": 0.102875,
     "end_time": "2023-08-12T03:19:31.330606",
     "exception": false,
     "start_time": "2023-08-12T03:19:31.227731",
     "status": "completed"
    },
    "tags": []
   },
   "outputs": [],
   "source": [
    "# inspect(merged)    # Note missing values in ['audienceScore', 'runtimeMinutes', 'boxOffice'] columns  "
   ]
  },
  {
   "cell_type": "code",
   "execution_count": 34,
   "id": "f627d48b",
   "metadata": {
    "execution": {
     "iopub.execute_input": "2023-08-12T03:19:31.525253Z",
     "iopub.status.busy": "2023-08-12T03:19:31.524540Z",
     "iopub.status.idle": "2023-08-12T03:19:31.619990Z",
     "shell.execute_reply": "2023-08-12T03:19:31.619148Z"
    },
    "papermill": {
     "duration": 0.195533,
     "end_time": "2023-08-12T03:19:31.622428",
     "exception": false,
     "start_time": "2023-08-12T03:19:31.426895",
     "status": "completed"
    },
    "tags": []
   },
   "outputs": [
    {
     "data": {
      "text/plain": [
       "array([6.80e+01, 1.04e+02, 1.43e+07])"
      ]
     },
     "execution_count": 34,
     "metadata": {},
     "output_type": "execute_result"
    }
   ],
   "source": [
    "# Simple Imputer for ['audienceScore', 'runtimeMinutes', 'boxOffice'] columns\n",
    "si = SimpleImputer(strategy='median')\n",
    "merged[['audienceScore', 'runtimeMinutes', 'boxOffice']] = si.fit_transform(merged[['audienceScore', 'runtimeMinutes', 'boxOffice']])\n",
    "si.statistics_"
   ]
  },
  {
   "cell_type": "code",
   "execution_count": 35,
   "id": "5584dde3",
   "metadata": {
    "execution": {
     "iopub.execute_input": "2023-08-12T03:19:31.813578Z",
     "iopub.status.busy": "2023-08-12T03:19:31.813119Z",
     "iopub.status.idle": "2023-08-12T03:19:31.827153Z",
     "shell.execute_reply": "2023-08-12T03:19:31.826129Z"
    },
    "papermill": {
     "duration": 0.113296,
     "end_time": "2023-08-12T03:19:31.829826",
     "exception": false,
     "start_time": "2023-08-12T03:19:31.716530",
     "status": "completed"
    },
    "tags": []
   },
   "outputs": [],
   "source": [
    "# Fill 'releaseDate' column with median  \n",
    "merged['releaseDate'] = merged[\"releaseDate\"].fillna(merged[\"releaseDate\"].median())"
   ]
  },
  {
   "cell_type": "code",
   "execution_count": 36,
   "id": "c8bee90f",
   "metadata": {
    "execution": {
     "iopub.execute_input": "2023-08-12T03:19:32.023700Z",
     "iopub.status.busy": "2023-08-12T03:19:32.023224Z",
     "iopub.status.idle": "2023-08-12T03:19:33.487909Z",
     "shell.execute_reply": "2023-08-12T03:19:33.485913Z"
    },
    "papermill": {
     "duration": 1.565486,
     "end_time": "2023-08-12T03:19:33.490510",
     "exception": false,
     "start_time": "2023-08-12T03:19:31.925024",
     "status": "completed"
    },
    "tags": []
   },
   "outputs": [
    {
     "name": "stdout",
     "output_type": "stream",
     "text": [
      "Shape of the dataframe: (162758, 30)\n",
      "\n",
      "Columns in the dataframe:\n",
      "Index(['movieid', 'reviewerName', 'isFrequentReviewer', 'reviewText',\n",
      "       'sentiment', 'title', 'audienceScore', 'rating', 'ratingContents',\n",
      "       'releaseDateTheaters', 'releaseDateStreaming', 'runtimeMinutes',\n",
      "       'genre', 'originalLanguage', 'director', 'boxOffice', 'distributor',\n",
      "       'soundType', 'reviewYN', 'reviewWC', 'genreSorted', 'rcSorted',\n",
      "       'releaseDate', 'releaseYear', 'releaseMonth', 'releaseDiff',\n",
      "       'audScoreBins', 'runtimeBins', 'boxOfficeBins', 'releaseDiffBins'],\n",
      "      dtype='object')\n",
      "\n",
      "<class 'pandas.core.frame.DataFrame'>\n",
      "Int64Index: 162758 entries, 0 to 162757\n",
      "Data columns (total 30 columns):\n",
      " #   Column                Non-Null Count   Dtype         \n",
      "---  ------                --------------   -----         \n",
      " 0   movieid               162758 non-null  object        \n",
      " 1   reviewerName          162758 non-null  object        \n",
      " 2   isFrequentReviewer    162758 non-null  bool          \n",
      " 3   reviewText            162758 non-null  object        \n",
      " 4   sentiment             162758 non-null  object        \n",
      " 5   title                 162758 non-null  object        \n",
      " 6   audienceScore         162758 non-null  float64       \n",
      " 7   rating                162758 non-null  object        \n",
      " 8   ratingContents        162758 non-null  object        \n",
      " 9   releaseDateTheaters   146403 non-null  datetime64[ns]\n",
      " 10  releaseDateStreaming  157353 non-null  datetime64[ns]\n",
      " 11  runtimeMinutes        162758 non-null  float64       \n",
      " 12  genre                 162758 non-null  object        \n",
      " 13  originalLanguage      162758 non-null  object        \n",
      " 14  director              162758 non-null  object        \n",
      " 15  boxOffice             162758 non-null  float64       \n",
      " 16  distributor           162758 non-null  object        \n",
      " 17  soundType             93466 non-null   object        \n",
      " 18  reviewYN              162758 non-null  int64         \n",
      " 19  reviewWC              162758 non-null  int64         \n",
      " 20  genreSorted           162758 non-null  object        \n",
      " 21  rcSorted              162758 non-null  object        \n",
      " 22  releaseDate           162758 non-null  datetime64[ns]\n",
      " 23  releaseYear           143073 non-null  float64       \n",
      " 24  releaseMonth          143073 non-null  float64       \n",
      " 25  releaseDiff           162758 non-null  float64       \n",
      " 26  audScoreBins          159922 non-null  float64       \n",
      " 27  runtimeBins           162016 non-null  category      \n",
      " 28  boxOfficeBins         130581 non-null  float64       \n",
      " 29  releaseDiffBins       162758 non-null  category      \n",
      "dtypes: bool(1), category(2), datetime64[ns](3), float64(8), int64(2), object(14)\n",
      "memory usage: 35.2+ MB\n",
      "None\n",
      "\n",
      "Missing values:\n",
      "movieid                     0\n",
      "reviewerName                0\n",
      "isFrequentReviewer          0\n",
      "reviewText                  0\n",
      "sentiment                   0\n",
      "title                       0\n",
      "audienceScore               0\n",
      "rating                      0\n",
      "ratingContents              0\n",
      "releaseDateTheaters     16355\n",
      "releaseDateStreaming     5405\n",
      "runtimeMinutes              0\n",
      "genre                       0\n",
      "originalLanguage            0\n",
      "director                    0\n",
      "boxOffice                   0\n",
      "distributor                 0\n",
      "soundType               69292\n",
      "reviewYN                    0\n",
      "reviewWC                    0\n",
      "genreSorted                 0\n",
      "rcSorted                    0\n",
      "releaseDate                 0\n",
      "releaseYear             19685\n",
      "releaseMonth            19685\n",
      "releaseDiff                 0\n",
      "audScoreBins             2836\n",
      "runtimeBins               742\n",
      "boxOfficeBins           32177\n",
      "releaseDiffBins             0\n",
      "dtype: int64\n"
     ]
    }
   ],
   "source": [
    "# Check out 'merged' df after imputation  \n",
    "inspect(merged)"
   ]
  },
  {
   "cell_type": "code",
   "execution_count": 37,
   "id": "50bb7713",
   "metadata": {
    "execution": {
     "iopub.execute_input": "2023-08-12T03:19:33.683832Z",
     "iopub.status.busy": "2023-08-12T03:19:33.683441Z",
     "iopub.status.idle": "2023-08-12T03:19:33.743953Z",
     "shell.execute_reply": "2023-08-12T03:19:33.742721Z"
    },
    "papermill": {
     "duration": 0.160075,
     "end_time": "2023-08-12T03:19:33.746372",
     "exception": false,
     "start_time": "2023-08-12T03:19:33.586297",
     "status": "completed"
    },
    "tags": []
   },
   "outputs": [
    {
     "data": {
      "text/html": [
       "<div>\n",
       "<style scoped>\n",
       "    .dataframe tbody tr th:only-of-type {\n",
       "        vertical-align: middle;\n",
       "    }\n",
       "\n",
       "    .dataframe tbody tr th {\n",
       "        vertical-align: top;\n",
       "    }\n",
       "\n",
       "    .dataframe thead th {\n",
       "        text-align: right;\n",
       "    }\n",
       "</style>\n",
       "<table border=\"1\" class=\"dataframe\">\n",
       "  <thead>\n",
       "    <tr style=\"text-align: right;\">\n",
       "      <th></th>\n",
       "      <th>audienceScore</th>\n",
       "      <th>runtimeMinutes</th>\n",
       "      <th>boxOffice</th>\n",
       "    </tr>\n",
       "  </thead>\n",
       "  <tbody>\n",
       "    <tr>\n",
       "      <th>count</th>\n",
       "      <td>162758.000000</td>\n",
       "      <td>162758.000000</td>\n",
       "      <td>1.627580e+05</td>\n",
       "    </tr>\n",
       "    <tr>\n",
       "      <th>mean</th>\n",
       "      <td>65.062565</td>\n",
       "      <td>106.992019</td>\n",
       "      <td>4.160983e+07</td>\n",
       "    </tr>\n",
       "    <tr>\n",
       "      <th>std</th>\n",
       "      <td>19.844000</td>\n",
       "      <td>22.203778</td>\n",
       "      <td>7.932291e+07</td>\n",
       "    </tr>\n",
       "    <tr>\n",
       "      <th>min</th>\n",
       "      <td>0.000000</td>\n",
       "      <td>4.000000</td>\n",
       "      <td>0.000000e+00</td>\n",
       "    </tr>\n",
       "    <tr>\n",
       "      <th>25%</th>\n",
       "      <td>51.000000</td>\n",
       "      <td>93.000000</td>\n",
       "      <td>2.000000e+06</td>\n",
       "    </tr>\n",
       "    <tr>\n",
       "      <th>50%</th>\n",
       "      <td>68.000000</td>\n",
       "      <td>104.000000</td>\n",
       "      <td>1.430000e+07</td>\n",
       "    </tr>\n",
       "    <tr>\n",
       "      <th>75%</th>\n",
       "      <td>81.000000</td>\n",
       "      <td>118.000000</td>\n",
       "      <td>4.200000e+07</td>\n",
       "    </tr>\n",
       "    <tr>\n",
       "      <th>max</th>\n",
       "      <td>100.000000</td>\n",
       "      <td>561.000000</td>\n",
       "      <td>8.584000e+08</td>\n",
       "    </tr>\n",
       "  </tbody>\n",
       "</table>\n",
       "</div>"
      ],
      "text/plain": [
       "       audienceScore  runtimeMinutes     boxOffice\n",
       "count  162758.000000   162758.000000  1.627580e+05\n",
       "mean       65.062565      106.992019  4.160983e+07\n",
       "std        19.844000       22.203778  7.932291e+07\n",
       "min         0.000000        4.000000  0.000000e+00\n",
       "25%        51.000000       93.000000  2.000000e+06\n",
       "50%        68.000000      104.000000  1.430000e+07\n",
       "75%        81.000000      118.000000  4.200000e+07\n",
       "max       100.000000      561.000000  8.584000e+08"
      ]
     },
     "execution_count": 37,
     "metadata": {},
     "output_type": "execute_result"
    }
   ],
   "source": [
    "merged[['audienceScore', 'runtimeMinutes', 'boxOffice']].describe()"
   ]
  },
  {
   "cell_type": "markdown",
   "id": "7b597182",
   "metadata": {
    "papermill": {
     "duration": 0.096563,
     "end_time": "2023-08-12T03:19:33.939377",
     "exception": false,
     "start_time": "2023-08-12T03:19:33.842814",
     "status": "completed"
    },
    "tags": []
   },
   "source": [
    "### EDA releaseDiff  "
   ]
  },
  {
   "cell_type": "code",
   "execution_count": 38,
   "id": "1c34ba97",
   "metadata": {
    "execution": {
     "iopub.execute_input": "2023-08-12T03:19:34.137936Z",
     "iopub.status.busy": "2023-08-12T03:19:34.137513Z",
     "iopub.status.idle": "2023-08-12T03:19:34.156210Z",
     "shell.execute_reply": "2023-08-12T03:19:34.155128Z"
    },
    "papermill": {
     "duration": 0.120595,
     "end_time": "2023-08-12T03:19:34.158791",
     "exception": false,
     "start_time": "2023-08-12T03:19:34.038196",
     "status": "completed"
    },
    "tags": []
   },
   "outputs": [
    {
     "data": {
      "text/plain": [
       "count    162758.000000\n",
       "mean       1653.469015\n",
       "std        4581.420922\n",
       "min           0.000000\n",
       "25%          65.000000\n",
       "50%         116.000000\n",
       "75%         375.000000\n",
       "max       38922.000000\n",
       "Name: releaseDiff, dtype: float64"
      ]
     },
     "execution_count": 38,
     "metadata": {},
     "output_type": "execute_result"
    }
   ],
   "source": [
    "# abs values\n",
    "merged[\"releaseDiff\"].describe()"
   ]
  },
  {
   "cell_type": "code",
   "execution_count": 39,
   "id": "54a34424",
   "metadata": {
    "execution": {
     "iopub.execute_input": "2023-08-12T03:19:34.352373Z",
     "iopub.status.busy": "2023-08-12T03:19:34.351939Z",
     "iopub.status.idle": "2023-08-12T03:19:34.362947Z",
     "shell.execute_reply": "2023-08-12T03:19:34.361765Z"
    },
    "papermill": {
     "duration": 0.110303,
     "end_time": "2023-08-12T03:19:34.365444",
     "exception": false,
     "start_time": "2023-08-12T03:19:34.255141",
     "status": "completed"
    },
    "tags": []
   },
   "outputs": [
    {
     "data": {
      "text/plain": [
       "0    111750\n",
       "3     32557\n",
       "1      9920\n",
       "2      8531\n",
       "Name: releaseDiffBins, dtype: int64"
      ]
     },
     "execution_count": 39,
     "metadata": {},
     "output_type": "execute_result"
    }
   ],
   "source": [
    "merged['releaseDiffBins'].value_counts()"
   ]
  },
  {
   "cell_type": "code",
   "execution_count": 40,
   "id": "2ec1a349",
   "metadata": {
    "execution": {
     "iopub.execute_input": "2023-08-12T03:19:34.559796Z",
     "iopub.status.busy": "2023-08-12T03:19:34.559340Z",
     "iopub.status.idle": "2023-08-12T03:19:34.944478Z",
     "shell.execute_reply": "2023-08-12T03:19:34.943190Z"
    },
    "papermill": {
     "duration": 0.48445,
     "end_time": "2023-08-12T03:19:34.946987",
     "exception": false,
     "start_time": "2023-08-12T03:19:34.462537",
     "status": "completed"
    },
    "tags": []
   },
   "outputs": [
    {
     "data": {
      "text/plain": [
       "<Axes: xlabel='sentiment', ylabel='releaseDiff'>"
      ]
     },
     "execution_count": 40,
     "metadata": {},
     "output_type": "execute_result"
    },
    {
     "data": {
      "image/png": "[encoded data removed]",
      "text/plain": [
       "<Figure size 640x480 with 1 Axes>"
      ]
     },
     "metadata": {},
     "output_type": "display_data"
    }
   ],
   "source": [
    "sns.boxplot(x=merged['sentiment'], y=merged['releaseDiff'], showfliers=False)"
   ]
  },
  {
   "cell_type": "code",
   "execution_count": 41,
   "id": "2b5ad629",
   "metadata": {
    "execution": {
     "iopub.execute_input": "2023-08-12T03:19:35.143025Z",
     "iopub.status.busy": "2023-08-12T03:19:35.142238Z",
     "iopub.status.idle": "2023-08-12T03:19:35.849478Z",
     "shell.execute_reply": "2023-08-12T03:19:35.848292Z"
    },
    "papermill": {
     "duration": 0.807997,
     "end_time": "2023-08-12T03:19:35.852035",
     "exception": false,
     "start_time": "2023-08-12T03:19:35.044038",
     "status": "completed"
    },
    "tags": []
   },
   "outputs": [
    {
     "data": {
      "text/plain": [
       "<seaborn.axisgrid.FacetGrid at 0x7c945e741810>"
      ]
     },
     "execution_count": 41,
     "metadata": {},
     "output_type": "execute_result"
    },
    {
     "data": {
      "image/png": "[encoded data removed]",
      "text/plain": [
       "<Figure size 500x500 with 1 Axes>"
      ]
     },
     "metadata": {},
     "output_type": "display_data"
    }
   ],
   "source": [
    "sns.displot(merged['releaseDiffBins'])"
   ]
  },
  {
   "cell_type": "code",
   "execution_count": 42,
   "id": "5eddcac7",
   "metadata": {
    "execution": {
     "iopub.execute_input": "2023-08-12T03:19:36.048837Z",
     "iopub.status.busy": "2023-08-12T03:19:36.047963Z",
     "iopub.status.idle": "2023-08-12T03:19:36.067946Z",
     "shell.execute_reply": "2023-08-12T03:19:36.066747Z"
    },
    "papermill": {
     "duration": 0.122296,
     "end_time": "2023-08-12T03:19:36.071009",
     "exception": false,
     "start_time": "2023-08-12T03:19:35.948713",
     "status": "completed"
    },
    "tags": []
   },
   "outputs": [
    {
     "data": {
      "text/plain": [
       "POSITIVE    34446\n",
       "NEGATIVE    16562\n",
       "Name: sentiment, dtype: int64"
      ]
     },
     "execution_count": 42,
     "metadata": {},
     "output_type": "execute_result"
    }
   ],
   "source": [
    "merged['sentiment'].loc[merged['releaseDiffBins'] > 0].value_counts()"
   ]
  },
  {
   "cell_type": "code",
   "execution_count": 43,
   "id": "cb7bd5d3",
   "metadata": {
    "execution": {
     "iopub.execute_input": "2023-08-12T03:19:36.267144Z",
     "iopub.status.busy": "2023-08-12T03:19:36.266295Z",
     "iopub.status.idle": "2023-08-12T03:19:36.278311Z",
     "shell.execute_reply": "2023-08-12T03:19:36.276897Z"
    },
    "papermill": {
     "duration": 0.112421,
     "end_time": "2023-08-12T03:19:36.280771",
     "exception": false,
     "start_time": "2023-08-12T03:19:36.168350",
     "status": "completed"
    },
    "tags": []
   },
   "outputs": [
    {
     "data": {
      "text/plain": [
       "count     162758\n",
       "unique         4\n",
       "top            0\n",
       "freq      111750\n",
       "Name: releaseDiffBins, dtype: int64"
      ]
     },
     "execution_count": 43,
     "metadata": {},
     "output_type": "execute_result"
    }
   ],
   "source": [
    "merged['releaseDiffBins'].describe()"
   ]
  },
  {
   "cell_type": "markdown",
   "id": "f3b94b88",
   "metadata": {
    "papermill": {
     "duration": 0.097259,
     "end_time": "2023-08-12T03:19:36.474898",
     "exception": false,
     "start_time": "2023-08-12T03:19:36.377639",
     "status": "completed"
    },
    "tags": []
   },
   "source": [
    "### EDA 'distributor'  "
   ]
  },
  {
   "cell_type": "code",
   "execution_count": 44,
   "id": "0e35fa4b",
   "metadata": {
    "execution": {
     "iopub.execute_input": "2023-08-12T03:19:36.738510Z",
     "iopub.status.busy": "2023-08-12T03:19:36.737754Z",
     "iopub.status.idle": "2023-08-12T03:19:36.772768Z",
     "shell.execute_reply": "2023-08-12T03:19:36.771999Z"
    },
    "papermill": {
     "duration": 0.137364,
     "end_time": "2023-08-12T03:19:36.774969",
     "exception": false,
     "start_time": "2023-08-12T03:19:36.637605",
     "status": "completed"
    },
    "tags": []
   },
   "outputs": [
    {
     "data": {
      "text/plain": [
       "unknown                              20489\n",
       "Universal Pictures                    8847\n",
       "Warner Bros. Pictures                 8722\n",
       "Paramount Pictures                    7773\n",
       "20th Century Fox                      7007\n",
       "                                     ...  \n",
       "Almi Pictures                            1\n",
       "Koch Lorber                              1\n",
       "Magic Lamp                               1\n",
       "Fine Line Features, Miramax Films        1\n",
       "American Film Co.                        1\n",
       "Name: distributor, Length: 1796, dtype: int64"
      ]
     },
     "execution_count": 44,
     "metadata": {},
     "output_type": "execute_result"
    }
   ],
   "source": [
    "merged[\"distributor\"].value_counts()"
   ]
  },
  {
   "cell_type": "code",
   "execution_count": 45,
   "id": "78412f28",
   "metadata": {
    "execution": {
     "iopub.execute_input": "2023-08-12T03:19:36.972025Z",
     "iopub.status.busy": "2023-08-12T03:19:36.971039Z",
     "iopub.status.idle": "2023-08-12T03:19:36.989037Z",
     "shell.execute_reply": "2023-08-12T03:19:36.988122Z"
    },
    "papermill": {
     "duration": 0.119792,
     "end_time": "2023-08-12T03:19:36.991312",
     "exception": false,
     "start_time": "2023-08-12T03:19:36.871520",
     "status": "completed"
    },
    "tags": []
   },
   "outputs": [
    {
     "data": {
      "text/plain": [
       "count    162758.000000\n",
       "mean        106.992019\n",
       "std          22.203778\n",
       "min           4.000000\n",
       "25%          93.000000\n",
       "50%         104.000000\n",
       "75%         118.000000\n",
       "max         561.000000\n",
       "Name: runtimeMinutes, dtype: float64"
      ]
     },
     "execution_count": 45,
     "metadata": {},
     "output_type": "execute_result"
    }
   ],
   "source": [
    "merged[\"runtimeMinutes\"].describe()"
   ]
  },
  {
   "cell_type": "code",
   "execution_count": 46,
   "id": "280a4c71",
   "metadata": {
    "execution": {
     "iopub.execute_input": "2023-08-12T03:19:37.190551Z",
     "iopub.status.busy": "2023-08-12T03:19:37.189447Z",
     "iopub.status.idle": "2023-08-12T03:19:37.596521Z",
     "shell.execute_reply": "2023-08-12T03:19:37.595313Z"
    },
    "papermill": {
     "duration": 0.508859,
     "end_time": "2023-08-12T03:19:37.599018",
     "exception": false,
     "start_time": "2023-08-12T03:19:37.090159",
     "status": "completed"
    },
    "tags": []
   },
   "outputs": [
    {
     "data": {
      "text/plain": [
       "<Axes: xlabel='sentiment', ylabel='runtimeMinutes'>"
      ]
     },
     "execution_count": 46,
     "metadata": {},
     "output_type": "execute_result"
    },
    {
     "data": {
      "image/png": "[encoded data removed]",
      "text/plain": [
       "<Figure size 640x480 with 1 Axes>"
      ]
     },
     "metadata": {},
     "output_type": "display_data"
    }
   ],
   "source": [
    "sns.boxplot(y=merged[\"runtimeMinutes\"], x=merged[\"sentiment\"])"
   ]
  },
  {
   "cell_type": "code",
   "execution_count": 47,
   "id": "8346c9ec",
   "metadata": {
    "execution": {
     "iopub.execute_input": "2023-08-12T03:19:37.797675Z",
     "iopub.status.busy": "2023-08-12T03:19:37.797252Z",
     "iopub.status.idle": "2023-08-12T03:19:38.491736Z",
     "shell.execute_reply": "2023-08-12T03:19:38.490612Z"
    },
    "papermill": {
     "duration": 0.796807,
     "end_time": "2023-08-12T03:19:38.494186",
     "exception": false,
     "start_time": "2023-08-12T03:19:37.697379",
     "status": "completed"
    },
    "tags": []
   },
   "outputs": [
    {
     "name": "stdout",
     "output_type": "stream",
     "text": [
      "0.0    121579\n",
      "1.0      6474\n",
      "2.0      1819\n",
      "3.0       433\n",
      "4.0       276\n",
      "Name: boxOfficeBins, dtype: int64\n"
     ]
    },
    {
     "data": {
      "text/plain": [
       "<seaborn.axisgrid.FacetGrid at 0x7c945e73c370>"
      ]
     },
     "execution_count": 47,
     "metadata": {},
     "output_type": "execute_result"
    },
    {
     "data": {
      "image/png": "[encoded data removed]",
      "text/plain": [
       "<Figure size 500x500 with 1 Axes>"
      ]
     },
     "metadata": {},
     "output_type": "display_data"
    }
   ],
   "source": [
    "print(merged[\"boxOfficeBins\"].value_counts())\n",
    "sns.displot(merged[\"boxOfficeBins\"])"
   ]
  },
  {
   "cell_type": "code",
   "execution_count": 48,
   "id": "2a2ff552",
   "metadata": {
    "execution": {
     "iopub.execute_input": "2023-08-12T03:19:38.699038Z",
     "iopub.status.busy": "2023-08-12T03:19:38.698359Z",
     "iopub.status.idle": "2023-08-12T03:19:38.707148Z",
     "shell.execute_reply": "2023-08-12T03:19:38.705981Z"
    },
    "papermill": {
     "duration": 0.113501,
     "end_time": "2023-08-12T03:19:38.709323",
     "exception": false,
     "start_time": "2023-08-12T03:19:38.595822",
     "status": "completed"
    },
    "tags": []
   },
   "outputs": [
    {
     "data": {
      "text/plain": [
       "0    Henry Selick’s first movie since ’s Coraline. ...\n",
       "1    With a cast that reads like the Vogue Oscar pa...\n",
       "2    Creed II does not give us anything but another...\n",
       "3    I know what you're thinking, but this is no Li...\n",
       "4    Director Fernando Meirelles tells the story wi...\n",
       "Name: reviewText, dtype: object"
      ]
     },
     "execution_count": 48,
     "metadata": {},
     "output_type": "execute_result"
    }
   ],
   "source": [
    "merged[\"reviewText\"].head()"
   ]
  },
  {
   "cell_type": "code",
   "execution_count": 49,
   "id": "c568ed09",
   "metadata": {
    "execution": {
     "iopub.execute_input": "2023-08-12T03:19:38.911186Z",
     "iopub.status.busy": "2023-08-12T03:19:38.910794Z",
     "iopub.status.idle": "2023-08-12T03:19:38.918448Z",
     "shell.execute_reply": "2023-08-12T03:19:38.917205Z"
    },
    "papermill": {
     "duration": 0.111445,
     "end_time": "2023-08-12T03:19:38.920991",
     "exception": false,
     "start_time": "2023-08-12T03:19:38.809546",
     "status": "completed"
    },
    "tags": []
   },
   "outputs": [
    {
     "data": {
      "text/plain": [
       "6447"
      ]
     },
     "execution_count": 49,
     "metadata": {},
     "output_type": "execute_result"
    }
   ],
   "source": [
    "merged[\"reviewYN\"].sum()"
   ]
  },
  {
   "cell_type": "code",
   "execution_count": 50,
   "id": "7bcd864f",
   "metadata": {
    "execution": {
     "iopub.execute_input": "2023-08-12T03:19:39.122907Z",
     "iopub.status.busy": "2023-08-12T03:19:39.122084Z",
     "iopub.status.idle": "2023-08-12T03:19:39.130228Z",
     "shell.execute_reply": "2023-08-12T03:19:39.129352Z"
    },
    "papermill": {
     "duration": 0.111638,
     "end_time": "2023-08-12T03:19:39.132333",
     "exception": false,
     "start_time": "2023-08-12T03:19:39.020695",
     "status": "completed"
    },
    "tags": []
   },
   "outputs": [
    {
     "data": {
      "text/plain": [
       "0    11\n",
       "1    24\n",
       "2    22\n",
       "3    34\n",
       "4    20\n",
       "Name: reviewWC, dtype: int64"
      ]
     },
     "execution_count": 50,
     "metadata": {},
     "output_type": "execute_result"
    }
   ],
   "source": [
    "merged[\"reviewWC\"].head()"
   ]
  },
  {
   "cell_type": "code",
   "execution_count": 51,
   "id": "f221d4a9",
   "metadata": {
    "execution": {
     "iopub.execute_input": "2023-08-12T03:19:39.332368Z",
     "iopub.status.busy": "2023-08-12T03:19:39.331155Z",
     "iopub.status.idle": "2023-08-12T03:19:39.348796Z",
     "shell.execute_reply": "2023-08-12T03:19:39.347717Z"
    },
    "papermill": {
     "duration": 0.120426,
     "end_time": "2023-08-12T03:19:39.351269",
     "exception": false,
     "start_time": "2023-08-12T03:19:39.230843",
     "status": "completed"
    },
    "tags": []
   },
   "outputs": [
    {
     "data": {
      "text/plain": [
       "count    162758.000000\n",
       "mean         21.013707\n",
       "std          10.216532\n",
       "min           1.000000\n",
       "25%          14.000000\n",
       "50%          21.000000\n",
       "75%          28.000000\n",
       "max          54.000000\n",
       "Name: reviewWC, dtype: float64"
      ]
     },
     "execution_count": 51,
     "metadata": {},
     "output_type": "execute_result"
    }
   ],
   "source": [
    "merged[\"reviewWC\"].describe()"
   ]
  },
  {
   "cell_type": "code",
   "execution_count": 52,
   "id": "6eef5bfb",
   "metadata": {
    "execution": {
     "iopub.execute_input": "2023-08-12T03:19:39.554271Z",
     "iopub.status.busy": "2023-08-12T03:19:39.553564Z",
     "iopub.status.idle": "2023-08-12T03:19:40.429289Z",
     "shell.execute_reply": "2023-08-12T03:19:40.428452Z"
    },
    "papermill": {
     "duration": 0.979856,
     "end_time": "2023-08-12T03:19:40.431703",
     "exception": false,
     "start_time": "2023-08-12T03:19:39.451847",
     "status": "completed"
    },
    "tags": []
   },
   "outputs": [
    {
     "data": {
      "text/plain": [
       "<Axes: xlabel='reviewWC', ylabel='Count'>"
      ]
     },
     "execution_count": 52,
     "metadata": {},
     "output_type": "execute_result"
    },
    {
     "data": {
      "image/png": "[encoded data removed]",
      "text/plain": [
       "<Figure size 640x480 with 1 Axes>"
      ]
     },
     "metadata": {},
     "output_type": "display_data"
    }
   ],
   "source": [
    "sns.histplot(merged[\"reviewWC\"])"
   ]
  },
  {
   "cell_type": "code",
   "execution_count": 53,
   "id": "dfbacb79",
   "metadata": {
    "execution": {
     "iopub.execute_input": "2023-08-12T03:19:40.634137Z",
     "iopub.status.busy": "2023-08-12T03:19:40.633697Z",
     "iopub.status.idle": "2023-08-12T03:19:40.665812Z",
     "shell.execute_reply": "2023-08-12T03:19:40.664637Z"
    },
    "papermill": {
     "duration": 0.136365,
     "end_time": "2023-08-12T03:19:40.668089",
     "exception": false,
     "start_time": "2023-08-12T03:19:40.531724",
     "status": "completed"
    },
    "tags": []
   },
   "outputs": [
    {
     "data": {
      "text/plain": [
       "R          60248\n",
       "unknown    44587\n",
       "PG-13      42697\n",
       "PG         13669\n",
       "TV14         947\n",
       "NC-17        285\n",
       "TVPG         281\n",
       "TVMA          44\n",
       "Name: rating, dtype: int64"
      ]
     },
     "execution_count": 53,
     "metadata": {},
     "output_type": "execute_result"
    }
   ],
   "source": [
    "merged['rating'].value_counts()"
   ]
  },
  {
   "cell_type": "code",
   "execution_count": 54,
   "id": "ed80861b",
   "metadata": {
    "execution": {
     "iopub.execute_input": "2023-08-12T03:19:40.874370Z",
     "iopub.status.busy": "2023-08-12T03:19:40.873967Z",
     "iopub.status.idle": "2023-08-12T03:19:40.884846Z",
     "shell.execute_reply": "2023-08-12T03:19:40.883723Z"
    },
    "papermill": {
     "duration": 0.117609,
     "end_time": "2023-08-12T03:19:40.887137",
     "exception": false,
     "start_time": "2023-08-12T03:19:40.769528",
     "status": "completed"
    },
    "tags": []
   },
   "outputs": [
    {
     "data": {
      "text/plain": [
       "False    113189\n",
       "True      49569\n",
       "Name: isFrequentReviewer, dtype: int64"
      ]
     },
     "execution_count": 54,
     "metadata": {},
     "output_type": "execute_result"
    }
   ],
   "source": [
    "merged['isFrequentReviewer'].value_counts()"
   ]
  },
  {
   "cell_type": "code",
   "execution_count": 55,
   "id": "c3fbd430",
   "metadata": {
    "execution": {
     "iopub.execute_input": "2023-08-12T03:19:41.091782Z",
     "iopub.status.busy": "2023-08-12T03:19:41.091332Z",
     "iopub.status.idle": "2023-08-12T03:19:41.099992Z",
     "shell.execute_reply": "2023-08-12T03:19:41.099000Z"
    },
    "papermill": {
     "duration": 0.11546,
     "end_time": "2023-08-12T03:19:41.102571",
     "exception": false,
     "start_time": "2023-08-12T03:19:40.987111",
     "status": "completed"
    },
    "tags": []
   },
   "outputs": [
    {
     "data": {
      "text/plain": [
       "0      Benjamin Henry\n",
       "1       Felicia Lopez\n",
       "2     Charles Burgess\n",
       "3        Ryan Barrett\n",
       "4    Alexander Glover\n",
       "Name: reviewerName, dtype: object"
      ]
     },
     "execution_count": 55,
     "metadata": {},
     "output_type": "execute_result"
    }
   ],
   "source": [
    "merged[\"reviewerName\"].head()"
   ]
  },
  {
   "cell_type": "code",
   "execution_count": 56,
   "id": "be381af6",
   "metadata": {
    "execution": {
     "iopub.execute_input": "2023-08-12T03:19:41.307574Z",
     "iopub.status.busy": "2023-08-12T03:19:41.306853Z",
     "iopub.status.idle": "2023-08-12T03:19:41.320236Z",
     "shell.execute_reply": "2023-08-12T03:19:41.319472Z"
    },
    "papermill": {
     "duration": 0.118855,
     "end_time": "2023-08-12T03:19:41.322624",
     "exception": false,
     "start_time": "2023-08-12T03:19:41.203769",
     "status": "completed"
    },
    "tags": []
   },
   "outputs": [
    {
     "data": {
      "text/plain": [
       "14300000.0    32327\n",
       "2000000.0       922\n",
       "1100000.0       891\n",
       "1000000.0       834\n",
       "1200000.0       802\n",
       "              ...  \n",
       "58500.0           1\n",
       "500800.0          1\n",
       "265600.0          1\n",
       "292500.0          1\n",
       "799400.0          1\n",
       "Name: boxOffice, Length: 3819, dtype: int64"
      ]
     },
     "execution_count": 56,
     "metadata": {},
     "output_type": "execute_result"
    }
   ],
   "source": [
    "merged['boxOffice'].value_counts()"
   ]
  },
  {
   "cell_type": "code",
   "execution_count": 57,
   "id": "66409707",
   "metadata": {
    "execution": {
     "iopub.execute_input": "2023-08-12T03:19:41.527803Z",
     "iopub.status.busy": "2023-08-12T03:19:41.527020Z",
     "iopub.status.idle": "2023-08-12T03:19:41.531884Z",
     "shell.execute_reply": "2023-08-12T03:19:41.530855Z"
    },
    "papermill": {
     "duration": 0.109877,
     "end_time": "2023-08-12T03:19:41.534288",
     "exception": false,
     "start_time": "2023-08-12T03:19:41.424411",
     "status": "completed"
    },
    "tags": []
   },
   "outputs": [],
   "source": [
    "# Check correlation between 'boxOffice' and ''sentiment'\n",
    "# bo_df = merged.copy()\n",
    "# print(bo_df[\"boxOffice\"])\n",
    "# bo_df[\"boxOffice\"] = bo_df[\"boxOffice\"].str[1:]\n",
    "# bo_df[\"boxOffice\"] = bo_df[\"boxOffice\"].replace(to_replace={\"M\": \"*1000000\", \"K\": \"*1000\"}, regex=True)\n",
    "# bo_df[\"boxOffice\"] = bo_df[\"boxOffice\"].loc[bo_df[\"boxOffice\"].notnull()].apply(lambda x: eval(str(x)))\n",
    "# bo_df[\"boxOffice\"] = bo_df[\"boxOffice\"].fillna(bo_df[\"boxOffice\"].median())\n",
    "# bo_df[\"boxOffice\"].describe()"
   ]
  },
  {
   "cell_type": "code",
   "execution_count": 58,
   "id": "4b5a221c",
   "metadata": {
    "execution": {
     "iopub.execute_input": "2023-08-12T03:19:41.737948Z",
     "iopub.status.busy": "2023-08-12T03:19:41.737190Z",
     "iopub.status.idle": "2023-08-12T03:19:41.741900Z",
     "shell.execute_reply": "2023-08-12T03:19:41.740784Z"
    },
    "papermill": {
     "duration": 0.109159,
     "end_time": "2023-08-12T03:19:41.744459",
     "exception": false,
     "start_time": "2023-08-12T03:19:41.635300",
     "status": "completed"
    },
    "tags": []
   },
   "outputs": [],
   "source": [
    "# median = bo_df[\"boxOffice\"].describe()['50%']\n",
    "# iqr = bo_df[\"boxOffice\"].describe()['75%'] - bo_df[\"boxOffice\"].describe()['25%']\n",
    "# median, iqr"
   ]
  },
  {
   "cell_type": "code",
   "execution_count": 59,
   "id": "50a54497",
   "metadata": {
    "execution": {
     "iopub.execute_input": "2023-08-12T03:19:41.949010Z",
     "iopub.status.busy": "2023-08-12T03:19:41.948556Z",
     "iopub.status.idle": "2023-08-12T03:19:41.953357Z",
     "shell.execute_reply": "2023-08-12T03:19:41.952005Z"
    },
    "papermill": {
     "duration": 0.109262,
     "end_time": "2023-08-12T03:19:41.955868",
     "exception": false,
     "start_time": "2023-08-12T03:19:41.846606",
     "status": "completed"
    },
    "tags": []
   },
   "outputs": [],
   "source": [
    "# ll = median - (1.5*iqr)\n",
    "# ul = median + (1.5*iqr)\n",
    "# ll, ul"
   ]
  },
  {
   "cell_type": "code",
   "execution_count": 60,
   "id": "96bd1c90",
   "metadata": {
    "execution": {
     "iopub.execute_input": "2023-08-12T03:19:42.165725Z",
     "iopub.status.busy": "2023-08-12T03:19:42.165277Z",
     "iopub.status.idle": "2023-08-12T03:19:42.170201Z",
     "shell.execute_reply": "2023-08-12T03:19:42.168969Z"
    },
    "papermill": {
     "duration": 0.111955,
     "end_time": "2023-08-12T03:19:42.172647",
     "exception": false,
     "start_time": "2023-08-12T03:19:42.060692",
     "status": "completed"
    },
    "tags": []
   },
   "outputs": [],
   "source": [
    "# bo_df[\"boxOffice\"].mean()"
   ]
  },
  {
   "cell_type": "code",
   "execution_count": 61,
   "id": "51eb4876",
   "metadata": {
    "execution": {
     "iopub.execute_input": "2023-08-12T03:19:42.375060Z",
     "iopub.status.busy": "2023-08-12T03:19:42.373925Z",
     "iopub.status.idle": "2023-08-12T03:19:42.379234Z",
     "shell.execute_reply": "2023-08-12T03:19:42.378095Z"
    },
    "papermill": {
     "duration": 0.109082,
     "end_time": "2023-08-12T03:19:42.381679",
     "exception": false,
     "start_time": "2023-08-12T03:19:42.272597",
     "status": "completed"
    },
    "tags": []
   },
   "outputs": [],
   "source": [
    "# bo_df.loc[bo_df[\"boxOffice\"] > ul, \"boxOffice\"] = median\n",
    "# bo_df[\"boxOffice\"].mean()"
   ]
  },
  {
   "cell_type": "code",
   "execution_count": 62,
   "id": "d9055899",
   "metadata": {
    "execution": {
     "iopub.execute_input": "2023-08-12T03:19:42.584214Z",
     "iopub.status.busy": "2023-08-12T03:19:42.583801Z",
     "iopub.status.idle": "2023-08-12T03:19:42.588983Z",
     "shell.execute_reply": "2023-08-12T03:19:42.587851Z"
    },
    "papermill": {
     "duration": 0.109635,
     "end_time": "2023-08-12T03:19:42.591426",
     "exception": false,
     "start_time": "2023-08-12T03:19:42.481791",
     "status": "completed"
    },
    "tags": []
   },
   "outputs": [],
   "source": [
    "# bo_df[\"boxOffice\"].min(), bo_df[\"boxOffice\"].max()"
   ]
  },
  {
   "cell_type": "code",
   "execution_count": 63,
   "id": "bd47e70b",
   "metadata": {
    "execution": {
     "iopub.execute_input": "2023-08-12T03:19:42.797973Z",
     "iopub.status.busy": "2023-08-12T03:19:42.797534Z",
     "iopub.status.idle": "2023-08-12T03:19:42.803103Z",
     "shell.execute_reply": "2023-08-12T03:19:42.801656Z"
    },
    "papermill": {
     "duration": 0.111036,
     "end_time": "2023-08-12T03:19:42.805498",
     "exception": false,
     "start_time": "2023-08-12T03:19:42.694462",
     "status": "completed"
    },
    "tags": []
   },
   "outputs": [],
   "source": [
    "# sns.boxplot(x=\"sentiment\", y=\"boxOffice\", data=bo_df, showfliers = False)"
   ]
  },
  {
   "cell_type": "markdown",
   "id": "4fed4aa6",
   "metadata": {
    "papermill": {
     "duration": 0.104541,
     "end_time": "2023-08-12T03:19:43.011574",
     "exception": false,
     "start_time": "2023-08-12T03:19:42.907033",
     "status": "completed"
    },
    "tags": []
   },
   "source": [
    "## EDA  "
   ]
  },
  {
   "cell_type": "markdown",
   "id": "ea455961",
   "metadata": {
    "papermill": {
     "duration": 0.163938,
     "end_time": "2023-08-12T03:19:43.278638",
     "exception": false,
     "start_time": "2023-08-12T03:19:43.114700",
     "status": "completed"
    },
    "tags": []
   },
   "source": [
    "### An interesting finding through exploration  \n",
    "  \n",
    "* OHE and TfidfVectorizer on director column give the same result when ngram_range(2,2) is used (see code below)!"
   ]
  },
  {
   "cell_type": "code",
   "execution_count": 64,
   "id": "51ff6821",
   "metadata": {
    "execution": {
     "iopub.execute_input": "2023-08-12T03:19:43.481098Z",
     "iopub.status.busy": "2023-08-12T03:19:43.480312Z",
     "iopub.status.idle": "2023-08-12T03:19:56.391983Z",
     "shell.execute_reply": "2023-08-12T03:19:56.390332Z"
    },
    "papermill": {
     "duration": 13.016126,
     "end_time": "2023-08-12T03:19:56.394448",
     "exception": false,
     "start_time": "2023-08-12T03:19:43.378322",
     "status": "completed"
    },
    "tags": []
   },
   "outputs": [
    {
     "name": "stdout",
     "output_type": "stream",
     "text": [
      "(162758,)\n",
      "9476\n",
      "(162758, 9476) <class 'numpy.ndarray'>\n",
      "(162758,)\n",
      "(162758, 9476) <class 'numpy.ndarray'>\n",
      "True\n"
     ]
    }
   ],
   "source": [
    "# Compare OHE and TfidfVectorizer on director column\n",
    "\n",
    "dirs = merged[\"director\"].copy()\n",
    "print(dirs.shape)\n",
    "dirs_uniq = merged[\"director\"].unique()\n",
    "print(len(dirs_uniq))\n",
    "\n",
    "du_ohe = OneHotEncoder(handle_unknown=\"ignore\", sparse_output=False).fit_transform(dirs.to_numpy().reshape(-1, 1))\n",
    "print(du_ohe.shape, type(du_ohe))\n",
    "\n",
    "dirs_2 = merged[\"director\"].copy()\n",
    "print(dirs_2.shape)\n",
    "du_tfidf = TfidfVectorizer(ngram_range=(2,2)).fit_transform(dirs_2).toarray()\n",
    "print(du_tfidf.shape, type(du_tfidf))\n",
    "\n",
    "print(np.array_equal(du_ohe, du_tfidf))"
   ]
  },
  {
   "cell_type": "code",
   "execution_count": 65,
   "id": "868da753",
   "metadata": {
    "execution": {
     "iopub.execute_input": "2023-08-12T03:19:56.601019Z",
     "iopub.status.busy": "2023-08-12T03:19:56.600332Z",
     "iopub.status.idle": "2023-08-12T03:19:56.971218Z",
     "shell.execute_reply": "2023-08-12T03:19:56.969750Z"
    },
    "papermill": {
     "duration": 0.477954,
     "end_time": "2023-08-12T03:19:56.973911",
     "exception": false,
     "start_time": "2023-08-12T03:19:56.495957",
     "status": "completed"
    },
    "tags": []
   },
   "outputs": [
    {
     "name": "stdout",
     "output_type": "stream",
     "text": [
      "0       Bennie Basso\n",
      "1         Alma White\n",
      "2       Bobby Oleary\n",
      "3    Eric Hutcherson\n",
      "4         John Trent\n",
      "Name: director, dtype: object\n"
     ]
    },
    {
     "data": {
      "text/plain": [
       "2    162758\n",
       "Name: director, dtype: int64"
      ]
     },
     "execution_count": 65,
     "metadata": {},
     "output_type": "execute_result"
    }
   ],
   "source": [
    "print(dirs.head())\n",
    "d = dirs.copy()\n",
    "d[\"name_len\"] = d.apply(lambda x: len(x.split()))\n",
    "d[\"name_len\"].value_counts()"
   ]
  },
  {
   "cell_type": "code",
   "execution_count": 66,
   "id": "d62194f3",
   "metadata": {
    "execution": {
     "iopub.execute_input": "2023-08-12T03:19:57.185871Z",
     "iopub.status.busy": "2023-08-12T03:19:57.185454Z",
     "iopub.status.idle": "2023-08-12T03:19:57.191757Z",
     "shell.execute_reply": "2023-08-12T03:19:57.190619Z"
    },
    "papermill": {
     "duration": 0.115696,
     "end_time": "2023-08-12T03:19:57.193963",
     "exception": false,
     "start_time": "2023-08-12T03:19:57.078267",
     "status": "completed"
    },
    "tags": []
   },
   "outputs": [],
   "source": [
    "# Compare OHE and TfidfVectorizer on reviewerName column\n",
    "# Note: reviewerName column has salutations like \"Mr. \" etc, and some names appear middle names. Therefore needs cleaning\n",
    "\n",
    "# def name_fl(name):\n",
    "#     l = name.split()\n",
    "#     n = ' '.join((l[0], l[-1]))\n",
    "#     return n\n",
    "\n",
    "# reviewers = merged[\"reviewerName\"].copy()\n",
    "# reviewers = pd.DataFrame(reviewers)\n",
    "# reviewers = reviewers.replace({\"Mr. \": \"\", \"Mrs. \": \"\"}, regex=True)\n",
    "# reviewers[\"reviewerName\"] = reviewers[\"reviewerName\"].apply(name_fl)\n",
    "# print(reviewers.shape)\n",
    "\n",
    "# reviewers_uniq = merged[\"reviewerName\"].unique()\n",
    "# print(len(reviewers_uniq))\n",
    "\n",
    "# reviewers_ohe = OneHotEncoder(handle_unknown=\"ignore\", sparse_output=False).fit_transform(reviewers.to_numpy().reshape(-1, 1))\n",
    "# print(reviewers_ohe.shape, type(reviewers_ohe))\n",
    "\n",
    "# reviewers_2 = merged[\"reviewerName\"].copy()\n",
    "# reviewers_2 = pd.DataFrame(reviewers_2)\n",
    "# print(reviewers_2.head())\n",
    "# reviewers_2 = reviewers_2.replace({\"Mr. \": \"\", \"Mrs. \": \"\"}, regex=True)\n",
    "# reviewers_2[\"reviewerName\"] = reviewers_2[\"reviewerName\"].apply(name_fl)\n",
    "# reviewers_2 = reviewers_2.squeeze()\n",
    "# print(reviewers_2.shape)\n",
    "# print(reviewers_2.head())\n",
    "\n",
    "# reviewers_tfidf = TfidfVectorizer(ngram_range=(2,2)).fit_transform(reviewers_2).toarray()\n",
    "# print(reviewers_tfidf.shape, type(reviewers_tfidf))\n",
    "\n",
    "# print(np.array_equal(reviewers_ohe, reviewers_tfidf))"
   ]
  },
  {
   "cell_type": "code",
   "execution_count": 67,
   "id": "d853d8b9",
   "metadata": {
    "execution": {
     "iopub.execute_input": "2023-08-12T03:19:57.403450Z",
     "iopub.status.busy": "2023-08-12T03:19:57.402978Z",
     "iopub.status.idle": "2023-08-12T03:19:57.408128Z",
     "shell.execute_reply": "2023-08-12T03:19:57.406918Z"
    },
    "papermill": {
     "duration": 0.112783,
     "end_time": "2023-08-12T03:19:57.410911",
     "exception": false,
     "start_time": "2023-08-12T03:19:57.298128",
     "status": "completed"
    },
    "tags": []
   },
   "outputs": [],
   "source": [
    "# def name_fl(name):\n",
    "#     l = name.split()\n",
    "#     n = ' '.join((l[0], l[-1]))\n",
    "#     return n"
   ]
  },
  {
   "cell_type": "code",
   "execution_count": 68,
   "id": "ad3ed544",
   "metadata": {
    "execution": {
     "iopub.execute_input": "2023-08-12T03:19:57.620709Z",
     "iopub.status.busy": "2023-08-12T03:19:57.620296Z",
     "iopub.status.idle": "2023-08-12T03:19:57.624793Z",
     "shell.execute_reply": "2023-08-12T03:19:57.623781Z"
    },
    "papermill": {
     "duration": 0.111535,
     "end_time": "2023-08-12T03:19:57.626893",
     "exception": false,
     "start_time": "2023-08-12T03:19:57.515358",
     "status": "completed"
    },
    "tags": []
   },
   "outputs": [],
   "source": [
    "# print(reviewers.head())\n",
    "# r = pd.DataFrame(reviewers.copy())\n",
    "# r[\"reviewerName\"] = r[\"reviewerName\"].apply(name_fl)\n",
    "# r[\"name_len\"] = r[\"reviewerName\"].apply(lambda x: len(x.split()))\n",
    "# print(r.shape)\n",
    "# print(r.head())\n",
    "# print(r['name_len'].value_counts())"
   ]
  },
  {
   "cell_type": "code",
   "execution_count": 69,
   "id": "9e8d1403",
   "metadata": {
    "execution": {
     "iopub.execute_input": "2023-08-12T03:19:57.834417Z",
     "iopub.status.busy": "2023-08-12T03:19:57.833965Z",
     "iopub.status.idle": "2023-08-12T03:19:57.838779Z",
     "shell.execute_reply": "2023-08-12T03:19:57.837760Z"
    },
    "papermill": {
     "duration": 0.110086,
     "end_time": "2023-08-12T03:19:57.840948",
     "exception": false,
     "start_time": "2023-08-12T03:19:57.730862",
     "status": "completed"
    },
    "tags": []
   },
   "outputs": [],
   "source": [
    "## Box plot audienceScore and sentiment  \n",
    "# plt.figure(figsize=(6, 4))\n",
    "# sns.boxplot(x=\"sentiment\", y=\"audienceScore\", data=merged, width=0.3)\n",
    "# plt.title(\"Box plot audienceScore and sentiment\")\n",
    "# plt.show()"
   ]
  },
  {
   "cell_type": "code",
   "execution_count": 70,
   "id": "adcdefbb",
   "metadata": {
    "execution": {
     "iopub.execute_input": "2023-08-12T03:19:58.048705Z",
     "iopub.status.busy": "2023-08-12T03:19:58.048261Z",
     "iopub.status.idle": "2023-08-12T03:19:58.053207Z",
     "shell.execute_reply": "2023-08-12T03:19:58.052001Z"
    },
    "papermill": {
     "duration": 0.113271,
     "end_time": "2023-08-12T03:19:58.055531",
     "exception": false,
     "start_time": "2023-08-12T03:19:57.942260",
     "status": "completed"
    },
    "tags": []
   },
   "outputs": [],
   "source": [
    "## Box plot runtimeMinutes and sentiment  \n",
    "# plt.figure(figsize=(6, 4))\n",
    "# sns.boxplot(x=\"sentiment\", y=\"runtimeMinutes\", data=merged, width=0.3)\n",
    "# plt.title(\"Box plot runtimeMinutes and sentiment\")\n",
    "# plt.show()"
   ]
  },
  {
   "cell_type": "code",
   "execution_count": 71,
   "id": "1669416f",
   "metadata": {
    "execution": {
     "iopub.execute_input": "2023-08-12T03:19:58.262599Z",
     "iopub.status.busy": "2023-08-12T03:19:58.262159Z",
     "iopub.status.idle": "2023-08-12T03:19:58.267746Z",
     "shell.execute_reply": "2023-08-12T03:19:58.266348Z"
    },
    "papermill": {
     "duration": 0.112609,
     "end_time": "2023-08-12T03:19:58.270097",
     "exception": false,
     "start_time": "2023-08-12T03:19:58.157488",
     "status": "completed"
    },
    "tags": []
   },
   "outputs": [],
   "source": [
    "## Column chart for sentiment and rating columns\n",
    "# plt.figure(figsize=(6, 4))\n",
    "# sns.countplot(x=\"sentiment\", hue=\"rating\", data=merged)\n",
    "# plt.title(\"Column chart for sentiment and rating columns\")\n",
    "# plt.show()"
   ]
  },
  {
   "cell_type": "code",
   "execution_count": 72,
   "id": "f84ed32f",
   "metadata": {
    "execution": {
     "iopub.execute_input": "2023-08-12T03:19:58.476743Z",
     "iopub.status.busy": "2023-08-12T03:19:58.476299Z",
     "iopub.status.idle": "2023-08-12T03:19:58.481419Z",
     "shell.execute_reply": "2023-08-12T03:19:58.480225Z"
    },
    "papermill": {
     "duration": 0.111944,
     "end_time": "2023-08-12T03:19:58.484160",
     "exception": false,
     "start_time": "2023-08-12T03:19:58.372216",
     "status": "completed"
    },
    "tags": []
   },
   "outputs": [],
   "source": [
    "# Correlation heatmap  \n",
    "# plt.figure(figsize=(10, 8))\n",
    "# sns.heatmap(merged.corr(), annot=True, cmap=\"coolwarm\")\n",
    "# plt.title(\"Correlation heatmap\")\n",
    "# plt.show()"
   ]
  },
  {
   "cell_type": "markdown",
   "id": "7e35dc67",
   "metadata": {
    "papermill": {
     "duration": 0.10141,
     "end_time": "2023-08-12T03:19:58.687957",
     "exception": false,
     "start_time": "2023-08-12T03:19:58.586547",
     "status": "completed"
    },
    "tags": []
   },
   "source": [
    "## Merge and preprocess \"test.csv\" and \"movies.csv\" files  "
   ]
  },
  {
   "cell_type": "code",
   "execution_count": 73,
   "id": "5b6a8b94",
   "metadata": {
    "execution": {
     "iopub.execute_input": "2023-08-12T03:19:58.895085Z",
     "iopub.status.busy": "2023-08-12T03:19:58.894664Z",
     "iopub.status.idle": "2023-08-12T03:20:05.029440Z",
     "shell.execute_reply": "2023-08-12T03:20:05.027869Z"
    },
    "papermill": {
     "duration": 6.24375,
     "end_time": "2023-08-12T03:20:05.032354",
     "exception": false,
     "start_time": "2023-08-12T03:19:58.788604",
     "status": "completed"
    },
    "tags": []
   },
   "outputs": [],
   "source": [
    "# Merge test and movies  \n",
    "merged_test = select_features(load_csv(\"test\"), load_csv(\"movies\"))"
   ]
  },
  {
   "cell_type": "code",
   "execution_count": 74,
   "id": "0c60b9ba",
   "metadata": {
    "execution": {
     "iopub.execute_input": "2023-08-12T03:20:05.240525Z",
     "iopub.status.busy": "2023-08-12T03:20:05.240095Z",
     "iopub.status.idle": "2023-08-12T03:20:05.245205Z",
     "shell.execute_reply": "2023-08-12T03:20:05.244042Z"
    },
    "papermill": {
     "duration": 0.113104,
     "end_time": "2023-08-12T03:20:05.247714",
     "exception": false,
     "start_time": "2023-08-12T03:20:05.134610",
     "status": "completed"
    },
    "tags": []
   },
   "outputs": [],
   "source": [
    "# inspect(merged_test)      # Note the missing values in ['audienceScore', 'runtimeMinutes', 'boxOffice']"
   ]
  },
  {
   "cell_type": "code",
   "execution_count": 75,
   "id": "2a3f5d29",
   "metadata": {
    "execution": {
     "iopub.execute_input": "2023-08-12T03:20:05.452089Z",
     "iopub.status.busy": "2023-08-12T03:20:05.451667Z",
     "iopub.status.idle": "2023-08-12T03:20:05.469440Z",
     "shell.execute_reply": "2023-08-12T03:20:05.468278Z"
    },
    "papermill": {
     "duration": 0.122738,
     "end_time": "2023-08-12T03:20:05.471722",
     "exception": false,
     "start_time": "2023-08-12T03:20:05.348984",
     "status": "completed"
    },
    "tags": []
   },
   "outputs": [
    {
     "data": {
      "text/plain": [
       "array([6.80e+01, 1.04e+02, 1.43e+07])"
      ]
     },
     "execution_count": 75,
     "metadata": {},
     "output_type": "execute_result"
    }
   ],
   "source": [
    "# Transform ['audienceScore', 'runtimeMinutes', 'boxOffice'] columns in merged_test using 'si' fitted on 'merged' df  \n",
    "merged_test[['audienceScore', 'runtimeMinutes', 'boxOffice']] = si.transform(merged_test[['audienceScore', 'runtimeMinutes', 'boxOffice']])\n",
    "si.statistics_"
   ]
  },
  {
   "cell_type": "code",
   "execution_count": 76,
   "id": "92022f5f",
   "metadata": {
    "execution": {
     "iopub.execute_input": "2023-08-12T03:20:05.681257Z",
     "iopub.status.busy": "2023-08-12T03:20:05.680844Z",
     "iopub.status.idle": "2023-08-12T03:20:05.691779Z",
     "shell.execute_reply": "2023-08-12T03:20:05.690611Z"
    },
    "papermill": {
     "duration": 0.119047,
     "end_time": "2023-08-12T03:20:05.694463",
     "exception": false,
     "start_time": "2023-08-12T03:20:05.575416",
     "status": "completed"
    },
    "tags": []
   },
   "outputs": [],
   "source": [
    "# Fill 'releaseDate' column in 'merged_test' df with median from the train (merged) df  \n",
    "merged_test['releaseDate'] = merged_test[\"releaseDate\"].fillna(merged[\"releaseDate\"].median())"
   ]
  },
  {
   "cell_type": "code",
   "execution_count": 77,
   "id": "44f962c8",
   "metadata": {
    "execution": {
     "iopub.execute_input": "2023-08-12T03:20:05.900561Z",
     "iopub.status.busy": "2023-08-12T03:20:05.900110Z",
     "iopub.status.idle": "2023-08-12T03:20:06.396609Z",
     "shell.execute_reply": "2023-08-12T03:20:06.395069Z"
    },
    "papermill": {
     "duration": 0.60228,
     "end_time": "2023-08-12T03:20:06.399104",
     "exception": false,
     "start_time": "2023-08-12T03:20:05.796824",
     "status": "completed"
    },
    "tags": []
   },
   "outputs": [
    {
     "name": "stdout",
     "output_type": "stream",
     "text": [
      "Shape of the dataframe: (55315, 29)\n",
      "\n",
      "Columns in the dataframe:\n",
      "Index(['movieid', 'reviewerName', 'isFrequentReviewer', 'reviewText', 'title',\n",
      "       'audienceScore', 'rating', 'ratingContents', 'releaseDateTheaters',\n",
      "       'releaseDateStreaming', 'runtimeMinutes', 'genre', 'originalLanguage',\n",
      "       'director', 'boxOffice', 'distributor', 'soundType', 'reviewYN',\n",
      "       'reviewWC', 'genreSorted', 'rcSorted', 'releaseDate', 'releaseYear',\n",
      "       'releaseMonth', 'releaseDiff', 'audScoreBins', 'runtimeBins',\n",
      "       'boxOfficeBins', 'releaseDiffBins'],\n",
      "      dtype='object')\n",
      "\n",
      "<class 'pandas.core.frame.DataFrame'>\n",
      "Int64Index: 55315 entries, 0 to 55314\n",
      "Data columns (total 29 columns):\n",
      " #   Column                Non-Null Count  Dtype         \n",
      "---  ------                --------------  -----         \n",
      " 0   movieid               55315 non-null  object        \n",
      " 1   reviewerName          55315 non-null  object        \n",
      " 2   isFrequentReviewer    55315 non-null  bool          \n",
      " 3   reviewText            55315 non-null  object        \n",
      " 4   title                 55315 non-null  object        \n",
      " 5   audienceScore         55315 non-null  float64       \n",
      " 6   rating                55315 non-null  object        \n",
      " 7   ratingContents        55315 non-null  object        \n",
      " 8   releaseDateTheaters   47844 non-null  datetime64[ns]\n",
      " 9   releaseDateStreaming  52929 non-null  datetime64[ns]\n",
      " 10  runtimeMinutes        55315 non-null  float64       \n",
      " 11  genre                 55315 non-null  object        \n",
      " 12  originalLanguage      55315 non-null  object        \n",
      " 13  director              55315 non-null  object        \n",
      " 14  boxOffice             55315 non-null  float64       \n",
      " 15  distributor           55315 non-null  object        \n",
      " 16  soundType             29845 non-null  object        \n",
      " 17  reviewYN              55315 non-null  int64         \n",
      " 18  reviewWC              55315 non-null  int64         \n",
      " 19  genreSorted           55315 non-null  object        \n",
      " 20  rcSorted              55315 non-null  object        \n",
      " 21  releaseDate           55315 non-null  datetime64[ns]\n",
      " 22  releaseYear           46626 non-null  float64       \n",
      " 23  releaseMonth          46626 non-null  float64       \n",
      " 24  releaseDiff           55315 non-null  float64       \n",
      " 25  audScoreBins          53866 non-null  float64       \n",
      " 26  runtimeBins           54937 non-null  category      \n",
      " 27  boxOfficeBins         41756 non-null  float64       \n",
      " 28  releaseDiffBins       55315 non-null  category      \n",
      "dtypes: bool(1), category(2), datetime64[ns](3), float64(8), int64(2), object(13)\n",
      "memory usage: 11.6+ MB\n",
      "None\n",
      "\n",
      "Missing values:\n",
      "movieid                     0\n",
      "reviewerName                0\n",
      "isFrequentReviewer          0\n",
      "reviewText                  0\n",
      "title                       0\n",
      "audienceScore               0\n",
      "rating                      0\n",
      "ratingContents              0\n",
      "releaseDateTheaters      7471\n",
      "releaseDateStreaming     2386\n",
      "runtimeMinutes              0\n",
      "genre                       0\n",
      "originalLanguage            0\n",
      "director                    0\n",
      "boxOffice                   0\n",
      "distributor                 0\n",
      "soundType               25470\n",
      "reviewYN                    0\n",
      "reviewWC                    0\n",
      "genreSorted                 0\n",
      "rcSorted                    0\n",
      "releaseDate                 0\n",
      "releaseYear              8689\n",
      "releaseMonth             8689\n",
      "releaseDiff                 0\n",
      "audScoreBins             1449\n",
      "runtimeBins               378\n",
      "boxOfficeBins           13559\n",
      "releaseDiffBins             0\n",
      "dtype: int64\n"
     ]
    }
   ],
   "source": [
    "# After transforming merged_test  \n",
    "inspect(merged_test)"
   ]
  },
  {
   "cell_type": "code",
   "execution_count": 78,
   "id": "32119088",
   "metadata": {
    "execution": {
     "iopub.execute_input": "2023-08-12T03:20:06.608460Z",
     "iopub.status.busy": "2023-08-12T03:20:06.608009Z",
     "iopub.status.idle": "2023-08-12T03:20:06.615569Z",
     "shell.execute_reply": "2023-08-12T03:20:06.614072Z"
    },
    "papermill": {
     "duration": 0.114716,
     "end_time": "2023-08-12T03:20:06.617780",
     "exception": false,
     "start_time": "2023-08-12T03:20:06.503064",
     "status": "completed"
    },
    "tags": []
   },
   "outputs": [
    {
     "name": "stdout",
     "output_type": "stream",
     "text": [
      "2510\n",
      "4.537648015908886\n"
     ]
    }
   ],
   "source": [
    "print(merged_test[\"reviewYN\"].sum())\n",
    "print(merged_test[\"reviewYN\"].sum() * 100 / merged_test.shape[0])"
   ]
  },
  {
   "cell_type": "code",
   "execution_count": 79,
   "id": "e509083c",
   "metadata": {
    "execution": {
     "iopub.execute_input": "2023-08-12T03:20:06.827424Z",
     "iopub.status.busy": "2023-08-12T03:20:06.826998Z",
     "iopub.status.idle": "2023-08-12T03:20:06.843977Z",
     "shell.execute_reply": "2023-08-12T03:20:06.842736Z"
    },
    "papermill": {
     "duration": 0.125204,
     "end_time": "2023-08-12T03:20:06.846326",
     "exception": false,
     "start_time": "2023-08-12T03:20:06.721122",
     "status": "completed"
    },
    "tags": []
   },
   "outputs": [
    {
     "data": {
      "text/plain": [
       "R          18934\n",
       "unknown    18386\n",
       "PG-13      13220\n",
       "PG          4200\n",
       "TV14         333\n",
       "TVPG         109\n",
       "NC-17        108\n",
       "TVMA          25\n",
       "Name: rating, dtype: int64"
      ]
     },
     "execution_count": 79,
     "metadata": {},
     "output_type": "execute_result"
    }
   ],
   "source": [
    "merged_test['rating'].value_counts()"
   ]
  },
  {
   "cell_type": "code",
   "execution_count": 80,
   "id": "0294293b",
   "metadata": {
    "execution": {
     "iopub.execute_input": "2023-08-12T03:20:07.052892Z",
     "iopub.status.busy": "2023-08-12T03:20:07.052497Z",
     "iopub.status.idle": "2023-08-12T03:20:07.061870Z",
     "shell.execute_reply": "2023-08-12T03:20:07.060614Z"
    },
    "papermill": {
     "duration": 0.115344,
     "end_time": "2023-08-12T03:20:07.064016",
     "exception": false,
     "start_time": "2023-08-12T03:20:06.948672",
     "status": "completed"
    },
    "tags": []
   },
   "outputs": [
    {
     "data": {
      "text/plain": [
       "False    38428\n",
       "True     16887\n",
       "Name: isFrequentReviewer, dtype: int64"
      ]
     },
     "execution_count": 80,
     "metadata": {},
     "output_type": "execute_result"
    }
   ],
   "source": [
    "merged_test['isFrequentReviewer'].value_counts()"
   ]
  },
  {
   "cell_type": "code",
   "execution_count": 81,
   "id": "6f6eac2b",
   "metadata": {
    "execution": {
     "iopub.execute_input": "2023-08-12T03:20:07.272402Z",
     "iopub.status.busy": "2023-08-12T03:20:07.271986Z",
     "iopub.status.idle": "2023-08-12T03:20:07.283801Z",
     "shell.execute_reply": "2023-08-12T03:20:07.282939Z"
    },
    "papermill": {
     "duration": 0.119722,
     "end_time": "2023-08-12T03:20:07.285885",
     "exception": false,
     "start_time": "2023-08-12T03:20:07.166163",
     "status": "completed"
    },
    "tags": []
   },
   "outputs": [
    {
     "data": {
      "text/plain": [
       "14300000.0    13593\n",
       "1100000.0       311\n",
       "1000000.0       272\n",
       "1300000.0       263\n",
       "2000000.0       256\n",
       "              ...  \n",
       "200400.0          1\n",
       "23800000.0        1\n",
       "111200.0          1\n",
       "277800.0          1\n",
       "100600.0          1\n",
       "Name: boxOffice, Length: 3816, dtype: int64"
      ]
     },
     "execution_count": 81,
     "metadata": {},
     "output_type": "execute_result"
    }
   ],
   "source": [
    "merged_test['boxOffice'].value_counts()"
   ]
  },
  {
   "cell_type": "markdown",
   "id": "1b564a11",
   "metadata": {
    "papermill": {
     "duration": 0.101779,
     "end_time": "2023-08-12T03:20:07.489777",
     "exception": false,
     "start_time": "2023-08-12T03:20:07.387998",
     "status": "completed"
    },
    "tags": []
   },
   "source": [
    "## Work on vocabulary  \n",
    "\n",
    "`Build vocabulary from 'reviewText' column`  "
   ]
  },
  {
   "cell_type": "code",
   "execution_count": 82,
   "id": "3e3a7a0d",
   "metadata": {
    "execution": {
     "iopub.execute_input": "2023-08-12T03:20:07.767740Z",
     "iopub.status.busy": "2023-08-12T03:20:07.767331Z",
     "iopub.status.idle": "2023-08-12T03:20:07.788635Z",
     "shell.execute_reply": "2023-08-12T03:20:07.787571Z"
    },
    "papermill": {
     "duration": 0.129558,
     "end_time": "2023-08-12T03:20:07.791122",
     "exception": false,
     "start_time": "2023-08-12T03:20:07.661564",
     "status": "completed"
    },
    "tags": []
   },
   "outputs": [
    {
     "data": {
      "text/plain": [
       "((162758, 2),\n",
       "                                           reviewText sentiment\n",
       " 0  Henry Selick’s first movie since ’s Coraline. ...  POSITIVE\n",
       " 1  With a cast that reads like the Vogue Oscar pa...  NEGATIVE\n",
       " 2  Creed II does not give us anything but another...  POSITIVE\n",
       " 3  I know what you're thinking, but this is no Li...  POSITIVE\n",
       " 4  Director Fernando Meirelles tells the story wi...  POSITIVE)"
      ]
     },
     "execution_count": 82,
     "metadata": {},
     "output_type": "execute_result"
    }
   ],
   "source": [
    "rt_senti = merged[[\"reviewText\", \"sentiment\"]].copy()\n",
    "rt_senti.shape, rt_senti.head()"
   ]
  },
  {
   "cell_type": "code",
   "execution_count": 83,
   "id": "47a4573c",
   "metadata": {
    "execution": {
     "iopub.execute_input": "2023-08-12T03:20:08.001765Z",
     "iopub.status.busy": "2023-08-12T03:20:08.001350Z",
     "iopub.status.idle": "2023-08-12T03:20:08.015811Z",
     "shell.execute_reply": "2023-08-12T03:20:08.014459Z"
    },
    "papermill": {
     "duration": 0.122633,
     "end_time": "2023-08-12T03:20:08.018520",
     "exception": false,
     "start_time": "2023-08-12T03:20:07.895887",
     "status": "completed"
    },
    "tags": []
   },
   "outputs": [
    {
     "data": {
      "text/plain": [
       "((55315, 1),\n",
       "                                           reviewText\n",
       " 0  Green slowly cranks up the dread with style an...\n",
       " 1  Philip Noyce's direction is elegant and unforc...\n",
       " 2  It wouldn't do to say what path Maria ultimate...\n",
       " 3  Pig is not exactly the arthouse John Wick that...\n",
       " 4  An imaginative no-budget musical of sorts abou...)"
      ]
     },
     "execution_count": 83,
     "metadata": {},
     "output_type": "execute_result"
    }
   ],
   "source": [
    "rt_test = pd.DataFrame(merged_test[\"reviewText\"].copy())\n",
    "rt_test.shape, rt_test.head()"
   ]
  },
  {
   "cell_type": "code",
   "execution_count": 84,
   "id": "1d652328",
   "metadata": {
    "execution": {
     "iopub.execute_input": "2023-08-12T03:20:08.228357Z",
     "iopub.status.busy": "2023-08-12T03:20:08.227749Z",
     "iopub.status.idle": "2023-08-12T03:20:08.234087Z",
     "shell.execute_reply": "2023-08-12T03:20:08.232895Z"
    },
    "papermill": {
     "duration": 0.115301,
     "end_time": "2023-08-12T03:20:08.236433",
     "exception": false,
     "start_time": "2023-08-12T03:20:08.121132",
     "status": "completed"
    },
    "tags": []
   },
   "outputs": [],
   "source": [
    "def get_vocab(text_df, ngram_range=(1,1)):\n",
    "    print(f\"Generating vocabulary for ngram_range: {ngram_range}...\")\n",
    "    tvec1 = CountVectorizer(ngram_range=ngram_range, stop_words='english', strip_accents='unicode')\n",
    "    tvec1.fit(text_df)\n",
    "    voc_ngram = set(tvec1.vocabulary_.keys())\n",
    "    return voc_ngram"
   ]
  },
  {
   "cell_type": "code",
   "execution_count": 85,
   "id": "b46e71ed",
   "metadata": {
    "execution": {
     "iopub.execute_input": "2023-08-12T03:20:08.444936Z",
     "iopub.status.busy": "2023-08-12T03:20:08.444513Z",
     "iopub.status.idle": "2023-08-12T03:20:08.454269Z",
     "shell.execute_reply": "2023-08-12T03:20:08.453439Z"
    },
    "papermill": {
     "duration": 0.115822,
     "end_time": "2023-08-12T03:20:08.456439",
     "exception": false,
     "start_time": "2023-08-12T03:20:08.340617",
     "status": "completed"
    },
    "tags": []
   },
   "outputs": [],
   "source": [
    "def get_common_vocab(df_list: list, ngram_range_list: list):\n",
    "    \"\"\"\n",
    "    Get common vocabulary from a list of dataframes.\n",
    "    \"\"\"\n",
    "    final_common_vocab = set()\n",
    "    # Get vocabulary from each dataframe for a given ngram-range\n",
    "    for ngram_range in ngram_range_list:\n",
    "        vocab_ngram = set()\n",
    "        for num, df in enumerate(df_list, start=1):\n",
    "            print(f\"Working on DF#{num} in the list of DFs provided\")\n",
    "            vocab_ngram_df = set(get_vocab(df['reviewText'], ngram_range))\n",
    "            print(f\"Vocabulary size for ngram-range {ngram_range} in DF#{num}: {len(vocab_ngram_df)}\\n\")\n",
    "            if len(vocab_ngram) > 0:\n",
    "                print(f\"Keeping only the common (intersection) words for ngram-range {ngram_range}...\")\n",
    "                vocab_ngram = vocab_ngram.intersection(vocab_ngram_df)\n",
    "            else:\n",
    "                print(f\"Words from the first df for ngram-range {ngram_range} added.\\n\")\n",
    "                vocab_ngram = vocab_ngram_df\n",
    "        print(f\"Common vocabulary for ngram-range {ngram_range}: {len(vocab_ngram)}\\n\")\n",
    "        \n",
    "        if len(final_common_vocab) > 0:\n",
    "            print(f\"Fusing (union) with final common vocabulary: ngram-range = {ngram_range}.\\n\")\n",
    "            final_common_vocab = final_common_vocab.union(vocab_ngram)\n",
    "        else:\n",
    "            print(f\"Appended first time to final common vocabulary: ngram-range = {ngram_range}.\\n\")\n",
    "            final_common_vocab = vocab_ngram\n",
    "    return final_common_vocab"
   ]
  },
  {
   "cell_type": "code",
   "execution_count": 86,
   "id": "a8a0dcfc",
   "metadata": {
    "execution": {
     "iopub.execute_input": "2023-08-12T03:20:08.666462Z",
     "iopub.status.busy": "2023-08-12T03:20:08.666000Z",
     "iopub.status.idle": "2023-08-12T03:20:08.671447Z",
     "shell.execute_reply": "2023-08-12T03:20:08.669959Z"
    },
    "papermill": {
     "duration": 0.113691,
     "end_time": "2023-08-12T03:20:08.673824",
     "exception": false,
     "start_time": "2023-08-12T03:20:08.560133",
     "status": "completed"
    },
    "tags": []
   },
   "outputs": [],
   "source": [
    "# voc_1gram = get_vocab(rt_senti[\"reviewText\"], ngram_range=(1,1))\n",
    "# len(voc_1gram), voc_1gram[:10]"
   ]
  },
  {
   "cell_type": "code",
   "execution_count": 87,
   "id": "57af4af0",
   "metadata": {
    "execution": {
     "iopub.execute_input": "2023-08-12T03:20:08.885299Z",
     "iopub.status.busy": "2023-08-12T03:20:08.884857Z",
     "iopub.status.idle": "2023-08-12T03:20:08.890002Z",
     "shell.execute_reply": "2023-08-12T03:20:08.888636Z"
    },
    "papermill": {
     "duration": 0.113659,
     "end_time": "2023-08-12T03:20:08.892246",
     "exception": false,
     "start_time": "2023-08-12T03:20:08.778587",
     "status": "completed"
    },
    "tags": []
   },
   "outputs": [],
   "source": [
    "# voc_2gram = get_vocab(rt_senti[\"reviewText\"], ngram_range=(2,2))\n",
    "# len(voc_2gram), voc_2gram[:10]"
   ]
  },
  {
   "cell_type": "code",
   "execution_count": 88,
   "id": "ba00f194",
   "metadata": {
    "execution": {
     "iopub.execute_input": "2023-08-12T03:20:09.103316Z",
     "iopub.status.busy": "2023-08-12T03:20:09.102833Z",
     "iopub.status.idle": "2023-08-12T03:20:09.106997Z",
     "shell.execute_reply": "2023-08-12T03:20:09.106080Z"
    },
    "papermill": {
     "duration": 0.11161,
     "end_time": "2023-08-12T03:20:09.109316",
     "exception": false,
     "start_time": "2023-08-12T03:20:08.997706",
     "status": "completed"
    },
    "tags": []
   },
   "outputs": [],
   "source": [
    "# voc_3gram = get_vocab(rt_senti[\"reviewText\"], ngram_range=(3,3))\n",
    "# len(voc_3gram), voc_3gram[:10]"
   ]
  },
  {
   "cell_type": "code",
   "execution_count": 89,
   "id": "417c0598",
   "metadata": {
    "execution": {
     "iopub.execute_input": "2023-08-12T03:20:09.320323Z",
     "iopub.status.busy": "2023-08-12T03:20:09.319578Z",
     "iopub.status.idle": "2023-08-12T03:20:09.323876Z",
     "shell.execute_reply": "2023-08-12T03:20:09.322797Z"
    },
    "papermill": {
     "duration": 0.113063,
     "end_time": "2023-08-12T03:20:09.326347",
     "exception": false,
     "start_time": "2023-08-12T03:20:09.213284",
     "status": "completed"
    },
    "tags": []
   },
   "outputs": [],
   "source": [
    "# common_unigrams = get_common_vocab([rt_senti, rt_test], ngram_range_list=[(1,1)])\n",
    "# print(len(common_unigrams))\n",
    "# # sorted(list(common_unigrams))"
   ]
  },
  {
   "cell_type": "code",
   "execution_count": 90,
   "id": "1554045d",
   "metadata": {
    "execution": {
     "iopub.execute_input": "2023-08-12T03:20:09.537241Z",
     "iopub.status.busy": "2023-08-12T03:20:09.536826Z",
     "iopub.status.idle": "2023-08-12T03:20:09.542115Z",
     "shell.execute_reply": "2023-08-12T03:20:09.540646Z"
    },
    "papermill": {
     "duration": 0.113628,
     "end_time": "2023-08-12T03:20:09.544803",
     "exception": false,
     "start_time": "2023-08-12T03:20:09.431175",
     "status": "completed"
    },
    "tags": []
   },
   "outputs": [],
   "source": [
    "# common_bigrams = get_common_vocab([rt_senti, rt_test], ngram_range_list=[(2,2)])\n",
    "# print(len(common_bigrams))\n",
    "# # # common_bigrams"
   ]
  },
  {
   "cell_type": "code",
   "execution_count": 91,
   "id": "81fc3725",
   "metadata": {
    "execution": {
     "iopub.execute_input": "2023-08-12T03:20:09.761506Z",
     "iopub.status.busy": "2023-08-12T03:20:09.761085Z",
     "iopub.status.idle": "2023-08-12T03:20:09.765926Z",
     "shell.execute_reply": "2023-08-12T03:20:09.764838Z"
    },
    "papermill": {
     "duration": 0.115515,
     "end_time": "2023-08-12T03:20:09.768186",
     "exception": false,
     "start_time": "2023-08-12T03:20:09.652671",
     "status": "completed"
    },
    "tags": []
   },
   "outputs": [],
   "source": [
    "# common_1_2_grams = get_common_vocab([rt_senti, rt_test], ngram_range_list=[(1,1), (2,2)])\n",
    "# print(len(common_1_2_grams))\n",
    "# # sorted(list(common_1_2_grams))\n",
    "\n",
    "# # common_1_2_grams = common_unigrams | common_bigrams    # older code"
   ]
  },
  {
   "cell_type": "code",
   "execution_count": 92,
   "id": "a5d3d602",
   "metadata": {
    "execution": {
     "iopub.execute_input": "2023-08-12T03:20:09.994273Z",
     "iopub.status.busy": "2023-08-12T03:20:09.993766Z",
     "iopub.status.idle": "2023-08-12T03:20:09.999578Z",
     "shell.execute_reply": "2023-08-12T03:20:09.998323Z"
    },
    "papermill": {
     "duration": 0.126059,
     "end_time": "2023-08-12T03:20:10.002975",
     "exception": false,
     "start_time": "2023-08-12T03:20:09.876916",
     "status": "completed"
    },
    "tags": []
   },
   "outputs": [],
   "source": [
    "# common_trigrams = get_common_vocab([rt_senti, rt_test], ngram_range_list=[(3,3)])\n",
    "# print(len(common_trigrams))\n",
    "# # common_trigrams"
   ]
  },
  {
   "cell_type": "code",
   "execution_count": 93,
   "id": "36f4c14b",
   "metadata": {
    "execution": {
     "iopub.execute_input": "2023-08-12T03:20:10.225938Z",
     "iopub.status.busy": "2023-08-12T03:20:10.225428Z",
     "iopub.status.idle": "2023-08-12T03:20:10.231462Z",
     "shell.execute_reply": "2023-08-12T03:20:10.229822Z"
    },
    "papermill": {
     "duration": 0.11413,
     "end_time": "2023-08-12T03:20:10.233918",
     "exception": false,
     "start_time": "2023-08-12T03:20:10.119788",
     "status": "completed"
    },
    "tags": []
   },
   "outputs": [],
   "source": [
    "# common_1_2_3_grams = get_common_vocab([rt_senti, rt_test], ngram_range_list=[(1,1), (2,2), (3,3)])\n",
    "# print(len(common_1_2_3_grams))\n",
    "# # sorted((common_1_2_3_grams))\n",
    "\n",
    "# # common_1_2_3_grams = common_unigrams | common_bigrams | common_trigrams    # Older code  "
   ]
  },
  {
   "cell_type": "markdown",
   "id": "ba394a3f",
   "metadata": {
    "papermill": {
     "duration": 0.102793,
     "end_time": "2023-08-12T03:20:10.441806",
     "exception": false,
     "start_time": "2023-08-12T03:20:10.339013",
     "status": "completed"
    },
    "tags": []
   },
   "source": [
    "### Find common vocabulary between text with positive and negative sentiments in training dataset  "
   ]
  },
  {
   "cell_type": "code",
   "execution_count": 94,
   "id": "0e2dd858",
   "metadata": {
    "execution": {
     "iopub.execute_input": "2023-08-12T03:20:10.652288Z",
     "iopub.status.busy": "2023-08-12T03:20:10.651314Z",
     "iopub.status.idle": "2023-08-12T03:20:10.699737Z",
     "shell.execute_reply": "2023-08-12T03:20:10.698840Z"
    },
    "papermill": {
     "duration": 0.157349,
     "end_time": "2023-08-12T03:20:10.702186",
     "exception": false,
     "start_time": "2023-08-12T03:20:10.544837",
     "status": "completed"
    },
    "tags": []
   },
   "outputs": [
    {
     "data": {
      "text/plain": [
       "(108761, 2)"
      ]
     },
     "execution_count": 94,
     "metadata": {},
     "output_type": "execute_result"
    }
   ],
   "source": [
    "# Dataframe for positive sentiment\n",
    "rt_senti_pos = rt_senti.loc[rt_senti['sentiment'] == 'POSITIVE'].copy()\n",
    "rt_senti_pos.shape"
   ]
  },
  {
   "cell_type": "code",
   "execution_count": 95,
   "id": "e1f05936",
   "metadata": {
    "execution": {
     "iopub.execute_input": "2023-08-12T03:20:10.910850Z",
     "iopub.status.busy": "2023-08-12T03:20:10.910460Z",
     "iopub.status.idle": "2023-08-12T03:20:10.955264Z",
     "shell.execute_reply": "2023-08-12T03:20:10.953864Z"
    },
    "papermill": {
     "duration": 0.152494,
     "end_time": "2023-08-12T03:20:10.957921",
     "exception": false,
     "start_time": "2023-08-12T03:20:10.805427",
     "status": "completed"
    },
    "tags": []
   },
   "outputs": [
    {
     "data": {
      "text/plain": [
       "(53997, 2)"
      ]
     },
     "execution_count": 95,
     "metadata": {},
     "output_type": "execute_result"
    }
   ],
   "source": [
    "# Dataframe for negative sentiment\n",
    "rt_senti_neg = rt_senti.loc[rt_senti['sentiment'] == 'NEGATIVE'].copy()\n",
    "rt_senti_neg.shape"
   ]
  },
  {
   "cell_type": "code",
   "execution_count": 96,
   "id": "1081467e",
   "metadata": {
    "execution": {
     "iopub.execute_input": "2023-08-12T03:20:11.171212Z",
     "iopub.status.busy": "2023-08-12T03:20:11.170815Z",
     "iopub.status.idle": "2023-08-12T03:20:11.175589Z",
     "shell.execute_reply": "2023-08-12T03:20:11.174446Z"
    },
    "papermill": {
     "duration": 0.113589,
     "end_time": "2023-08-12T03:20:11.177888",
     "exception": false,
     "start_time": "2023-08-12T03:20:11.064299",
     "status": "completed"
    },
    "tags": []
   },
   "outputs": [],
   "source": [
    "# Generate stop words/phrases specific for this project data  \n",
    "\n",
    "# common_1_2_3_grams_sentiment = get_common_vocab([rt_senti_pos, rt_senti_neg], ngram_range_list=[(1,1), (2,2), (3,3)])\n",
    "# print(len(common_1_2_3_grams_sentiment))\n",
    "# # sorted(list(common_1_2_3_grams_sentiment))"
   ]
  },
  {
   "cell_type": "code",
   "execution_count": 97,
   "id": "81495248",
   "metadata": {
    "execution": {
     "iopub.execute_input": "2023-08-12T03:20:11.389593Z",
     "iopub.status.busy": "2023-08-12T03:20:11.389158Z",
     "iopub.status.idle": "2023-08-12T03:20:11.394451Z",
     "shell.execute_reply": "2023-08-12T03:20:11.393197Z"
    },
    "papermill": {
     "duration": 0.112446,
     "end_time": "2023-08-12T03:20:11.397344",
     "exception": false,
     "start_time": "2023-08-12T03:20:11.284898",
     "status": "completed"
    },
    "tags": []
   },
   "outputs": [],
   "source": [
    "# Generate and store the entire vocabulary of training data  \n",
    "\n",
    "# train_1_2_3_grams = get_vocab(rt_senti['reviewText'], ngram_range=(1,3))\n",
    "# print(len(train_1_2_3_grams))\n",
    "# # sorted(train_1_2_3_grams)"
   ]
  },
  {
   "cell_type": "code",
   "execution_count": 98,
   "id": "dbfe46d7",
   "metadata": {
    "execution": {
     "iopub.execute_input": "2023-08-12T03:20:11.608544Z",
     "iopub.status.busy": "2023-08-12T03:20:11.607795Z",
     "iopub.status.idle": "2023-08-12T03:20:11.611964Z",
     "shell.execute_reply": "2023-08-12T03:20:11.611157Z"
    },
    "papermill": {
     "duration": 0.113028,
     "end_time": "2023-08-12T03:20:11.614120",
     "exception": false,
     "start_time": "2023-08-12T03:20:11.501092",
     "status": "completed"
    },
    "tags": []
   },
   "outputs": [],
   "source": [
    "# type(train_1_2_3_grams)"
   ]
  },
  {
   "cell_type": "code",
   "execution_count": 99,
   "id": "253203a9",
   "metadata": {
    "execution": {
     "iopub.execute_input": "2023-08-12T03:20:11.824473Z",
     "iopub.status.busy": "2023-08-12T03:20:11.823703Z",
     "iopub.status.idle": "2023-08-12T03:20:11.828293Z",
     "shell.execute_reply": "2023-08-12T03:20:11.827470Z"
    },
    "papermill": {
     "duration": 0.114345,
     "end_time": "2023-08-12T03:20:11.830647",
     "exception": false,
     "start_time": "2023-08-12T03:20:11.716302",
     "status": "completed"
    },
    "tags": []
   },
   "outputs": [],
   "source": [
    "# Get the vocabulary that should be used in the final models  \n",
    "# relevant_vocab = train_1_2_3_grams - common_1_2_3_grams_sentiment\n",
    "# print(len(relevant_vocab))"
   ]
  },
  {
   "cell_type": "markdown",
   "id": "6195dbcf",
   "metadata": {
    "papermill": {
     "duration": 0.103942,
     "end_time": "2023-08-12T03:20:12.037222",
     "exception": false,
     "start_time": "2023-08-12T03:20:11.933280",
     "status": "completed"
    },
    "tags": []
   },
   "source": [
    "## Submit_v4 for merged file models  "
   ]
  },
  {
   "cell_type": "markdown",
   "id": "e3f61c92",
   "metadata": {
    "papermill": {
     "duration": 0.103278,
     "end_time": "2023-08-12T03:20:12.243765",
     "exception": false,
     "start_time": "2023-08-12T03:20:12.140487",
     "status": "completed"
    },
    "tags": []
   },
   "source": [
    "### More Helper functions  "
   ]
  },
  {
   "cell_type": "code",
   "execution_count": 100,
   "id": "d8e676f9",
   "metadata": {
    "execution": {
     "iopub.execute_input": "2023-08-12T03:20:12.457228Z",
     "iopub.status.busy": "2023-08-12T03:20:12.456811Z",
     "iopub.status.idle": "2023-08-12T03:20:12.464672Z",
     "shell.execute_reply": "2023-08-12T03:20:12.463424Z"
    },
    "papermill": {
     "duration": 0.114725,
     "end_time": "2023-08-12T03:20:12.467329",
     "exception": false,
     "start_time": "2023-08-12T03:20:12.352604",
     "status": "completed"
    },
    "tags": []
   },
   "outputs": [],
   "source": [
    "# Testing predictions on missing reviewtext columns  \n",
    "\n",
    "def predict_on_missing_review_data(pipe, selected_features, merged_train):\n",
    "    missing_reviews_train = merged_train.loc[merged_train['reviewYN'] == 1]\n",
    "    missing_reviews_train.reset_index(drop=True)\n",
    "    X_train_miss_revs = missing_reviews_train.drop('sentiment', axis = 1)\n",
    "    X_train_miss_revs = X_train_miss_revs[selected_features]\n",
    "    y_train_miss_revs = missing_reviews_train['sentiment']\n",
    "    \n",
    "    y_pred_miss_revs = pipe.predict(X_train_miss_revs)\n",
    "#     print('Predictions on rows which had missing reviewText')\n",
    "    print(\"Confusion matrix and f1-score for rows which have no reviewText in X_train: \")\n",
    "    print(confusion_matrix(y_train_miss_revs, y_pred_miss_revs, labels=pipe.classes_))\n",
    "    \n",
    "    return f1_score(y_train_miss_revs, y_pred_miss_revs, average='micro')"
   ]
  },
  {
   "cell_type": "code",
   "execution_count": 101,
   "id": "6d462ac0",
   "metadata": {
    "execution": {
     "iopub.execute_input": "2023-08-12T03:20:12.676477Z",
     "iopub.status.busy": "2023-08-12T03:20:12.675741Z",
     "iopub.status.idle": "2023-08-12T03:20:12.707152Z",
     "shell.execute_reply": "2023-08-12T03:20:12.706065Z"
    },
    "papermill": {
     "duration": 0.138628,
     "end_time": "2023-08-12T03:20:12.709672",
     "exception": false,
     "start_time": "2023-08-12T03:20:12.571044",
     "status": "completed"
    },
    "tags": []
   },
   "outputs": [],
   "source": [
    "# Function to build pipelines for GridSearchCV which goes into the final 'submit' function  \n",
    "def build_pipeline(selected_model=LogisticRegression(), \n",
    "                   selected_features={'txt': ['reviewText']}, \n",
    "                   param_grid=None,\n",
    "                   vocab=None,\n",
    "                   vocab_usage='tfidf',\n",
    "                   strip_accents='unicode', \n",
    "                   add_countvec=False):\n",
    "    # Encoders  \n",
    "    ohe = OneHotEncoder(sparse_output=False, handle_unknown='ignore')\n",
    "    MMscaler = MinMaxScaler()\n",
    "    StdScaler = StandardScaler()\n",
    "    RobScaler = RobustScaler()\n",
    "    \n",
    "    # Text features ['reviewText', 'reviewerName', 'movieid', 'genre', 'director']\n",
    "    tfidf_vec = TfidfVectorizer(ngram_range=(1,2))\n",
    "    count_vec = CountVectorizer(ngram_range=(1,2))\n",
    "    txt_pipe = Pipeline(steps=[\n",
    "                            (\"tvec\", TfidfVectorizer(ngram_range=(1,3), strip_accents=strip_accents))    # Adjust ngram_range here for reviewText\n",
    "                        ])\n",
    "    txt_pipe_vocab = Pipeline(steps=[\n",
    "                            (\"tvec\", TfidfVectorizer(ngram_range=(1,3), strip_accents=strip_accents, vocabulary=vocab))    # Adjust ngram_range here for reviewText\n",
    "                        ])\n",
    "    txt_pipe_2 = Pipeline(steps=[\n",
    "                            (\"tvec\", TfidfVectorizer(ngram_range=(2,2)))\n",
    "                        ])\n",
    "    txt_pipe_3 = Pipeline(steps=[\n",
    "                            (\"tvec\", TfidfVectorizer(ngram_range=(1,1)))\n",
    "                        ])\n",
    "    txt_pipe_4 = Pipeline(steps=[\n",
    "                            (\"tvec\", TfidfVectorizer(ngram_range=(1,3)))    # Adjust ngram_range here for reviewText\n",
    "                        ])\n",
    "    txt_pipe_title  = Pipeline(steps=[\n",
    "                            (\"tvec\", TfidfVectorizer(ngram_range=(1,5)))    # Adjust ngram_range here for reviewText\n",
    "                        ])\n",
    "    \n",
    "    # Additional pipes for count vectorizer\n",
    "    txt_pipe_countvec = Pipeline(steps=[\n",
    "                            (\"cvec\", CountVectorizer(ngram_range=(1,3), strip_accents=strip_accents))    # Adjust ngram_range here for reviewText\n",
    "                        ])\n",
    "    txt_pipe_countvec_vocab = Pipeline(steps=[\n",
    "                            (\"cvec\", CountVectorizer(ngram_range=(1,3), strip_accents=strip_accents, vocabulary=vocab))    # Adjust ngram_range here for reviewText\n",
    "                        ])\n",
    "    \n",
    "    txt_pipe_countvec_ratingContents = Pipeline(steps=[\n",
    "                            (\"cvec\", CountVectorizer(ngram_range=(1,5)))    # Adjust ngram_range here for reviewText\n",
    "                        ])\n",
    "    txt_pipe_countvec_rcSorted = Pipeline(steps=[\n",
    "                            (\"cvec\", CountVectorizer(ngram_range=(1,1)))    # Adjust ngram_range here for reviewText\n",
    "                        ])\n",
    "    txt_pipe_countvec_genre = Pipeline(steps=[\n",
    "                            (\"cvec\", CountVectorizer(ngram_range=(1,1)))\n",
    "                        ])\n",
    "    txt_pipe_countvec_genreSorted = Pipeline(steps=[\n",
    "                            (\"cvec\", CountVectorizer(ngram_range=(1,5)))\n",
    "                        ])\n",
    "    txt_pipe_countvec_distributor = Pipeline(steps=[\n",
    "                            (\"cvec\", CountVectorizer(ngram_range=(1,3)))    # Adjust ngram_range here for reviewText\n",
    "                        ])\n",
    "    txt_pipe_countvec_title = Pipeline(steps=[\n",
    "                            (\"cvec\", CountVectorizer(ngram_range=(1,5), strip_accents=strip_accents))\n",
    "                        ])\n",
    "    txt_pipe_countvec_movieid = Pipeline(steps=[\n",
    "                            (\"cvec\", CountVectorizer(ngram_range=(1,1)))\n",
    "                        ])\n",
    "    # Basic pipes  \n",
    "    TFs = []\n",
    "    try:\n",
    "        for c in selected_features['cat']:\n",
    "            TFs.append((f\"cat_{c}\", ohe, [c]))\n",
    "    except:\n",
    "        pass\n",
    "    try:\n",
    "        for n in selected_features['num']:\n",
    "            if n in [\"runtimeMinutes\", \"boxOffice\", \"releaseDiff\"]:\n",
    "                TFs.append((f\"num_{n}\", RobScaler, [n]))\n",
    "                TFs.append((f\"num_{n}_ss\", StdScaler, [n]))\n",
    "                \n",
    "            else:\n",
    "                TFs.append((f\"num_{n}\", StdScaler, [n]))\n",
    "    except:\n",
    "        pass\n",
    "    try:\n",
    "        for t in selected_features['txt']:\n",
    "            if t in ['director', 'reviewerName']:\n",
    "                TFs.append((f\"txt_{t}\", txt_pipe_2, t))\n",
    "            elif t in [\"originalLanguage\", \"releaseYear\"]:\n",
    "                TFs.append((f\"txt_{t}\", txt_pipe_3, t))\n",
    "            elif t in ['genre']:\n",
    "                TFs.append((f\"txt_{t}\", txt_pipe_countvec_genre, t))\n",
    "            elif t in [\"genreSorted\"]:\n",
    "                TFs.append((f\"txt_{t}\", txt_pipe_countvec_genreSorted, t))\n",
    "            elif t in [\"distributor\"]:\n",
    "                TFs.append((f\"txt_{t}\", txt_pipe_countvec_distributor, t))\n",
    "            elif t in ['reviewText']:\n",
    "#                 if vocab and (vocab_usage in [\"tfidf\", \"both\"]):\n",
    "#                     txt_pipe.set_params(tvec__vocabulary=vocab)\n",
    "#                     txt_pipe.set_params(tvec__stop_words='english')\n",
    "                TFs.append((f\"txt_{t}\", txt_pipe, t))\n",
    "            elif t in ['reviewText_2']:\n",
    "                if add_countvec:\n",
    "#                     if vocab and (vocab_usage in [\"count\", \"both\"]):\n",
    "#                         txt_pipe_countvec.set_params(cvec__vocabulary=vocab)\n",
    "#                         txt_pipe_countvec.set_params(cvec__stop_words='english')\n",
    "                    TFs.append((f\"txt_{t}\", txt_pipe_countvec, t))\n",
    "            elif t in ['reviewText_3']:\n",
    "                if vocab_usage == 'tfidf':\n",
    "                    TFs.append((f\"txt_{t}\", txt_pipe_vocab, t))\n",
    "                elif vocab_usage == 'count':\n",
    "                    TFs.append((f\"txt_{t}\", txt_pipe_countvec_vocab, t))\n",
    "            elif t in [\"ratingContents\"]:\n",
    "                TFs.append((f\"txt_{t}\", txt_pipe_countvec_ratingContents, t))\n",
    "            elif t in [\"rcSorted\"]:\n",
    "                TFs.append((f\"txt_{t}\", txt_pipe_countvec_rcSorted, t))\n",
    "            elif t in [\"title\"]:\n",
    "                TFs.append((f\"txt_{t}\", txt_pipe_title, t))\n",
    "            elif t in [\"movieid\"]:\n",
    "                TFs.append((f\"txt_{t}\", txt_pipe_countvec_movieid, t))\n",
    "            else:\n",
    "                pass\n",
    "    except:\n",
    "        pass\n",
    "\n",
    "    # Build ColumnTransformer  \n",
    "    ct = ColumnTransformer(transformers=TFs, remainder='drop')\n",
    "\n",
    "    # Build Pipeline\n",
    "    pipe = Pipeline(steps=[('ct', ct), ('model', selected_model)])\n",
    "    print(\"\\nPipeline built successfully.\")\n",
    "\n",
    "    # Use the pipe in GridSearchCV\n",
    "    if param_grid == None:\n",
    "        param_grid_temp = {\"model__C\": [1],\n",
    "                     'model__solver': ['liblinear']}\n",
    "        print(\"Full GridSearchCV pipeline built successfully with basic default param_grid.\\n\")\n",
    "        pipeCV = GridSearchCV(pipe, param_grid_temp, cv=10, scoring=\"f1_micro\", n_jobs=-1)\n",
    "        return pipeCV\n",
    "    \n",
    "    # GridSearchCV if param_grid provided\n",
    "    if param_grid:\n",
    "        pipeCV = GridSearchCV(pipe, param_grid, cv=10, scoring=\"f1_micro\", n_jobs=-1)\n",
    "        print(\"\\nFull GridSearchCV pipeline built successfully.\")\n",
    "        return pipeCV"
   ]
  },
  {
   "cell_type": "code",
   "execution_count": 102,
   "id": "e4b20c01",
   "metadata": {
    "execution": {
     "iopub.execute_input": "2023-08-12T03:20:12.918017Z",
     "iopub.status.busy": "2023-08-12T03:20:12.917076Z",
     "iopub.status.idle": "2023-08-12T03:20:12.926913Z",
     "shell.execute_reply": "2023-08-12T03:20:12.925984Z"
    },
    "papermill": {
     "duration": 0.116892,
     "end_time": "2023-08-12T03:20:12.929615",
     "exception": false,
     "start_time": "2023-08-12T03:20:12.812723",
     "status": "completed"
    },
    "tags": []
   },
   "outputs": [],
   "source": [
    "def preprocessor():\n",
    "    \n",
    "    # Merge and preprocess train and movies data  \n",
    "    merged = select_features(load_csv(\"train\"), load_csv(\"movies\"), row_thresh_null=None)    # Decide if you want to drop any rows containing lot of nulls\n",
    "    # Impute missing numerical values  \n",
    "    # Simple Imputer for ['audienceScore', 'runtimeMinutes', 'boxOffice'] and 'releaseDate' columns\n",
    "    si = SimpleImputer(strategy='median')\n",
    "    merged[['audienceScore', 'runtimeMinutes', 'boxOffice']] = si.fit_transform(merged[['audienceScore', 'runtimeMinutes', 'boxOffice']])\n",
    "    merged['releaseDate'] = merged[\"releaseDate\"].fillna(merged[\"releaseDate\"].median())    \n",
    "\n",
    "    # Check1 (preprocessor)\n",
    "    print(\"\\nCheck 1 (preprocessor) complete.\")\n",
    "    print(f\"Shape of X_train: {merged.shape}\")\n",
    "    print(f\"Features in X_train: {merged.columns}\")\n",
    "\n",
    "\n",
    "    # Merge and preprocess test and movies data  \n",
    "    merged_test = select_features(load_csv(\"test\"), load_csv(\"movies\"))\n",
    "    # Transform ['audienceScore', 'runtimeMinutes', 'boxOffice'] columns in merged_test using 'si' fitted on 'merged' df  \n",
    "    merged_test[['audienceScore', 'runtimeMinutes', 'boxOffice']] = si.transform(merged_test[['audienceScore', 'runtimeMinutes', 'boxOffice']])\n",
    "    # Fill 'releaseDate' column in 'merged_test' df with median from the train (merged) df  \n",
    "    merged_test['releaseDate'] = merged_test[\"releaseDate\"].fillna(merged[\"releaseDate\"].median())\n",
    "\n",
    "    \n",
    "    # Check2 (preprocessor)\n",
    "    print(\"\\nCheck 2 (preprocessor) complete.\")\n",
    "    print(f\"Shape of X_test: {merged_test.shape}\")\n",
    "    print(f\"Features in X_test: {merged_test.columns}\")\n",
    "\n",
    "    return merged, merged_test\n",
    "    "
   ]
  },
  {
   "cell_type": "code",
   "execution_count": 103,
   "id": "cd287dcc",
   "metadata": {
    "execution": {
     "iopub.execute_input": "2023-08-12T03:20:13.143044Z",
     "iopub.status.busy": "2023-08-12T03:20:13.142335Z",
     "iopub.status.idle": "2023-08-12T03:20:13.146175Z",
     "shell.execute_reply": "2023-08-12T03:20:13.145412Z"
    },
    "papermill": {
     "duration": 0.110723,
     "end_time": "2023-08-12T03:20:13.148414",
     "exception": false,
     "start_time": "2023-08-12T03:20:13.037691",
     "status": "completed"
    },
    "tags": []
   },
   "outputs": [],
   "source": [
    "# merged, merged_test = preprocessor()\n",
    "# merged.shape, merged_test.shape"
   ]
  },
  {
   "cell_type": "code",
   "execution_count": 104,
   "id": "0a0a0a93",
   "metadata": {
    "execution": {
     "iopub.execute_input": "2023-08-12T03:20:13.358639Z",
     "iopub.status.busy": "2023-08-12T03:20:13.358232Z",
     "iopub.status.idle": "2023-08-12T03:20:13.385139Z",
     "shell.execute_reply": "2023-08-12T03:20:13.383842Z"
    },
    "papermill": {
     "duration": 0.134997,
     "end_time": "2023-08-12T03:20:13.388014",
     "exception": false,
     "start_time": "2023-08-12T03:20:13.253017",
     "status": "completed"
    },
    "tags": []
   },
   "outputs": [],
   "source": [
    "def submit_v5(classifiers= [\n",
    "                {'selected_model' : LogisticRegression(C=1, solver='saga', max_iter=100000), \n",
    "                  'selected_features' : {'num': ['audienceScore']}, \n",
    "                  'param_grid' : None,\n",
    "                  'vocab' : None,\n",
    "                  'vocab_usage' : 'tfidf',\n",
    "                  'strip_accents' : 'unicode', \n",
    "                  'add_countvec' : False}\n",
    "              ]):\n",
    "    \n",
    "    \"\"\"Takes a list of dictionaries each with same keys as mentioned in the default dictionary in function definition\"\"\"\n",
    "    \n",
    "    print(\"\\nRunning the submit_v5 function...\")\n",
    "    \n",
    "    merged, merged_test = preprocessor()\n",
    "    print(f\"Preprocessing of train and test datasets complete.\")\n",
    "    \n",
    "    # Build vocabulary (if vocab is True)\n",
    "    vocab = None\n",
    "    for item in classifiers:\n",
    "        if item['vocab']:\n",
    "            vocab = True\n",
    "            break\n",
    "    \n",
    "    if vocab == True:\n",
    "        # Generate and store the entire vocabulary of training data  \n",
    "        print(f\"Generating stop words/phrases specific for this project data...\")\n",
    "        train_1_2_3_grams = get_vocab(merged['reviewText'], ngram_range=(1,3))\n",
    "        print(f\"Size of vocabulary of training data: {len(train_1_2_3_grams)}\")\n",
    "        # sorted(train_1_2_3_grams)\n",
    "\n",
    "        # Generate stop words/phrases specific for this project data  \n",
    "        print(f\"Generating stop words/phrases specific for this project data...\")\n",
    "        common_1_2_3_grams = get_common_vocab([merged, merged_test], ngram_range_list=[(1,1), (2,2), (3,3)])\n",
    "        print(f\"Number of stop words: {len(common_1_2_3_grams)}\")\n",
    "\n",
    "        # Get the vocabulary that should be used in the final models  \n",
    "        print(f\"Getting the vocabulary that will be fed to the final model(s)...\")\n",
    "        relevant_vocab = list(train_1_2_3_grams - common_1_2_3_grams)\n",
    "        print(f\"Size of the final relevant vocabulary: {len(relevant_vocab)}\")\n",
    "    else:\n",
    "        pass\n",
    "    \n",
    "    \n",
    "    # Create a list to store estimators  \n",
    "    estimators = []     # List of tuples of the form ('classifier_name', 'classifer_instance')\n",
    "    \n",
    "    # Build a dataframe of predictions  \n",
    "    predictions_df = pd.DataFrame()\n",
    "    \n",
    "    # Build a separate pipeline and fit it on selected features (and param_grid) for each item in classifiers list\n",
    "    for n, item in enumerate(classifiers, start=1):\n",
    "        selected_model = item['selected_model']\n",
    "        selected_features = item['selected_features']\n",
    "        param_grid = item['param_grid']\n",
    "        vocab = item['vocab']\n",
    "        vocab_usage = item['vocab_usage']\n",
    "        strip_accents = item['strip_accents']\n",
    "        add_countvec = item['add_countvec']\n",
    "    \n",
    "    \n",
    "        # Fine tune selected_features\n",
    "        if add_countvec:\n",
    "            if 'txt' in selected_features.keys():\n",
    "                if \"reviewText_2\" not in selected_features['txt']:\n",
    "                    selected_features['txt'].append('reviewText_2')\n",
    "        if vocab:\n",
    "            if 'txt' in selected_features.keys():\n",
    "                if \"reviewText_3\" not in selected_features['txt']:\n",
    "                    selected_features['txt'].append('reviewText_3')\n",
    "        else:\n",
    "            print(f\"No vocabulary provided/used for this model.\")\n",
    "        print(f\"\\nSelected features: {selected_features}\")\n",
    "        \n",
    "        if type(vocab) in [type([1, 2]), type({1, 2})]:\n",
    "            vocab = vocab\n",
    "        elif vocab == True:\n",
    "            vocab = common_1_2_3_grams    # Choose vocabulary here\n",
    "\n",
    "        # Modify X_train for the given 'item' by creating a custom 'features' list\n",
    "        features = []\n",
    "        for item in selected_features.values():\n",
    "            features.extend(item)\n",
    "            \n",
    "        # Add new columns as needed  \n",
    "        if add_countvec:\n",
    "            merged['reviewText_2'] = merged['reviewText']\n",
    "        if vocab:\n",
    "            merged['reviewText_3'] = merged['reviewText']\n",
    "        \n",
    "        # Create X_tran, y_train\n",
    "        X_train = merged.drop(labels=\"sentiment\", axis=1)\n",
    "        y_train = merged[\"sentiment\"]\n",
    "        \n",
    "        X_train = merged[features].copy()\n",
    "\n",
    "\n",
    "        # Build Pipeline\n",
    "        pipe = build_pipeline(selected_model, selected_features, param_grid=param_grid, \n",
    "                              vocab=vocab, vocab_usage='tfidf', \n",
    "                              strip_accents=strip_accents, add_countvec=add_countvec)\n",
    "        print(pipe)\n",
    "\n",
    "        \n",
    "        # Fit \n",
    "        print(f\"\\nTraining started with full pipeline for classifier #{n}/{len(classifiers)}...\")\n",
    "        pipe.fit(X_train, y_train)\n",
    "        \n",
    "\n",
    "        # Check1\n",
    "        print(f\"\\nCheck #{n}.1 complete.\")\n",
    "        print(f\"Details of the best model using classifier #{n} (GridSearchCV) on X_train: \")\n",
    "        print(f\"Best Params: {pipe.best_params_}\")\n",
    "        print(f\"Best Score: {pipe.best_score_}\")\n",
    "        \n",
    "        print(predict_on_missing_review_data(pipe, features, merged))    # Function defined above\n",
    "        \n",
    "        estimators.append((f\"classifier_{n}\", pipe))\n",
    "        print(f\"classifier_{n} successfully added to 'estimators' list\")\n",
    "\n",
    "        \n",
    "        # Predict on test.csv file\n",
    "        # Add new columns as needed \n",
    "        if add_countvec:\n",
    "            merged_test['reviewText_2'] = merged_test['reviewText']\n",
    "        if vocab:\n",
    "            merged_test['reviewText_3'] = merged_test['reviewText']\n",
    "        \n",
    "               \n",
    "        X_test = merged_test[features].copy()\n",
    "\n",
    "    \n",
    "        y_pred = pipe.predict(X_test)\n",
    "        \n",
    "        # Insert predictions in 'predictions_df' dataframe\n",
    "        predictions_df.insert(n-1, f\"pred_{n}\", y_pred, allow_duplicates=False)\n",
    "        print(predictions_df.shape)\n",
    "        print(predictions_df.head(10))\n",
    "        \n",
    "    \n",
    "        # Check2\n",
    "        print(f\"\\nCheck #{n}.2 complete.\")\n",
    "    #     cv_results_df = pd.DataFrame(pipe.cv_results_)\n",
    "        print(\"Details of the best model using full pipeline (GridSearchCV) on X_train: \")\n",
    "#         print(f\"Best Estimator: {pipe.best_estimator_}\")\n",
    "        print(f\"Best Params: {pipe.best_params_}\")\n",
    "        print(f\"Best Score: {pipe.best_score_}\")\n",
    "#         print(f\"Best Index: {pipe.best_index_}\")\n",
    "        print(f\"Refit Time: {pipe.refit_time_}\")\n",
    "    #     print(f\"Shape of CV results dataframe: {cv_results_df.shape}\")\n",
    "    \n",
    "    # Voting classifier (custom) with hard voting\n",
    "    # Calculate the MODE for all predictions (Note that the 'predictions_df' generated above should have odd number of columns)\n",
    "    pred_df_final = predictions_df.mode('columns')\n",
    "    pred_df_final.columns = [\"sentiment\"]\n",
    "    pred_df_final.index.name = \"id\"\n",
    "    pred_df_final.to_csv(\"submission.csv\")\n",
    "    \n",
    "    print(\"\\nSuccessfully created the submission file!!!\")\n",
    "    \n",
    "#     return pipe.cv_results_\n",
    "    return pred_df_final, estimators"
   ]
  },
  {
   "cell_type": "markdown",
   "id": "c42ef8ce",
   "metadata": {
    "papermill": {
     "duration": 0.104387,
     "end_time": "2023-08-12T03:20:13.598487",
     "exception": false,
     "start_time": "2023-08-12T03:20:13.494100",
     "status": "completed"
    },
    "tags": []
   },
   "source": [
    "## Use 'submit_v5' function  "
   ]
  },
  {
   "cell_type": "code",
   "execution_count": 105,
   "id": "520fe55a",
   "metadata": {
    "execution": {
     "iopub.execute_input": "2023-08-12T03:20:13.809270Z",
     "iopub.status.busy": "2023-08-12T03:20:13.808846Z",
     "iopub.status.idle": "2023-08-12T03:20:13.813974Z",
     "shell.execute_reply": "2023-08-12T03:20:13.812851Z"
    },
    "papermill": {
     "duration": 0.114847,
     "end_time": "2023-08-12T03:20:13.816360",
     "exception": false,
     "start_time": "2023-08-12T03:20:13.701513",
     "status": "completed"
    },
    "tags": []
   },
   "outputs": [],
   "source": [
    "# Try submit_v5 with default settings\n",
    "# submit_v5()"
   ]
  },
  {
   "cell_type": "code",
   "execution_count": 106,
   "id": "e07f6fab",
   "metadata": {
    "execution": {
     "iopub.execute_input": "2023-08-12T03:20:14.094065Z",
     "iopub.status.busy": "2023-08-12T03:20:14.093665Z",
     "iopub.status.idle": "2023-08-12T03:43:48.653966Z",
     "shell.execute_reply": "2023-08-12T03:43:48.652584Z"
    },
    "papermill": {
     "duration": 1414.844248,
     "end_time": "2023-08-12T03:43:48.763602",
     "exception": false,
     "start_time": "2023-08-12T03:20:13.919354",
     "status": "completed"
    },
    "tags": []
   },
   "outputs": [
    {
     "name": "stdout",
     "output_type": "stream",
     "text": [
      "\n",
      "Running the submit_v5 function...\n",
      "\n",
      "Check 1 (preprocessor) complete.\n",
      "Shape of X_train: (162758, 30)\n",
      "Features in X_train: Index(['movieid', 'reviewerName', 'isFrequentReviewer', 'reviewText',\n",
      "       'sentiment', 'title', 'audienceScore', 'rating', 'ratingContents',\n",
      "       'releaseDateTheaters', 'releaseDateStreaming', 'runtimeMinutes',\n",
      "       'genre', 'originalLanguage', 'director', 'boxOffice', 'distributor',\n",
      "       'soundType', 'reviewYN', 'reviewWC', 'genreSorted', 'rcSorted',\n",
      "       'releaseDate', 'releaseYear', 'releaseMonth', 'releaseDiff',\n",
      "       'audScoreBins', 'runtimeBins', 'boxOfficeBins', 'releaseDiffBins'],\n",
      "      dtype='object')\n",
      "\n",
      "Check 2 (preprocessor) complete.\n",
      "Shape of X_test: (55315, 29)\n",
      "Features in X_test: Index(['movieid', 'reviewerName', 'isFrequentReviewer', 'reviewText', 'title',\n",
      "       'audienceScore', 'rating', 'ratingContents', 'releaseDateTheaters',\n",
      "       'releaseDateStreaming', 'runtimeMinutes', 'genre', 'originalLanguage',\n",
      "       'director', 'boxOffice', 'distributor', 'soundType', 'reviewYN',\n",
      "       'reviewWC', 'genreSorted', 'rcSorted', 'releaseDate', 'releaseYear',\n",
      "       'releaseMonth', 'releaseDiff', 'audScoreBins', 'runtimeBins',\n",
      "       'boxOfficeBins', 'releaseDiffBins'],\n",
      "      dtype='object')\n",
      "Preprocessing of train and test datasets complete.\n",
      "Generating stop words/phrases specific for this project data...\n",
      "Generating vocabulary for ngram_range: (1, 3)...\n",
      "Size of vocabulary of training data: 2610596\n",
      "Generating stop words/phrases specific for this project data...\n",
      "Working on DF#1 in the list of DFs provided\n",
      "Generating vocabulary for ngram_range: (1, 1)...\n",
      "Vocabulary size for ngram-range (1, 1) in DF#1: 63881\n",
      "\n",
      "Words from the first df for ngram-range (1, 1) added.\n",
      "\n",
      "Working on DF#2 in the list of DFs provided\n",
      "Generating vocabulary for ngram_range: (1, 1)...\n",
      "Vocabulary size for ngram-range (1, 1) in DF#2: 42992\n",
      "\n",
      "Keeping only the common (intersection) words for ngram-range (1, 1)...\n",
      "Common vocabulary for ngram-range (1, 1): 35498\n",
      "\n",
      "Appended first time to final common vocabulary: ngram-range = (1, 1).\n",
      "\n",
      "Working on DF#1 in the list of DFs provided\n",
      "Generating vocabulary for ngram_range: (2, 2)...\n",
      "Vocabulary size for ngram-range (2, 2) in DF#1: 1130406\n",
      "\n",
      "Words from the first df for ngram-range (2, 2) added.\n",
      "\n",
      "Working on DF#2 in the list of DFs provided\n",
      "Generating vocabulary for ngram_range: (2, 2)...\n",
      "Vocabulary size for ngram-range (2, 2) in DF#2: 436174\n",
      "\n",
      "Keeping only the common (intersection) words for ngram-range (2, 2)...\n",
      "Common vocabulary for ngram-range (2, 2): 112530\n",
      "\n",
      "Fusing (union) with final common vocabulary: ngram-range = (2, 2).\n",
      "\n",
      "Working on DF#1 in the list of DFs provided\n",
      "Generating vocabulary for ngram_range: (3, 3)...\n",
      "Vocabulary size for ngram-range (3, 3) in DF#1: 1416309\n",
      "\n",
      "Words from the first df for ngram-range (3, 3) added.\n",
      "\n",
      "Working on DF#2 in the list of DFs provided\n",
      "Generating vocabulary for ngram_range: (3, 3)...\n",
      "Vocabulary size for ngram-range (3, 3) in DF#2: 488867\n",
      "\n",
      "Keeping only the common (intersection) words for ngram-range (3, 3)...\n",
      "Common vocabulary for ngram-range (3, 3): 22631\n",
      "\n",
      "Fusing (union) with final common vocabulary: ngram-range = (3, 3).\n",
      "\n",
      "Number of stop words: 170659\n",
      "Getting the vocabulary that will be fed to the final model(s)...\n",
      "Size of the final relevant vocabulary: 2439937\n",
      "\n",
      "Selected features: {'cat': ['isFrequentReviewer', 'audScoreBins', 'boxOfficeBins'], 'num': ['releaseDiff'], 'txt': ['reviewText', 'reviewerName', 'movieid', 'genre', 'director', 'ratingContents', 'distributor', 'reviewText_2', 'reviewText_3']}\n",
      "\n",
      "Pipeline built successfully.\n",
      "\n",
      "Full GridSearchCV pipeline built successfully.\n",
      "GridSearchCV(cv=10,\n",
      "             estimator=Pipeline(steps=[('ct',\n",
      "                                        ColumnTransformer(transformers=[('cat_isFrequentReviewer',\n",
      "                                                                         OneHotEncoder(handle_unknown='ignore',\n",
      "                                                                                       sparse_output=False),\n",
      "                                                                         ['isFrequentReviewer']),\n",
      "                                                                        ('cat_audScoreBins',\n",
      "                                                                         OneHotEncoder(handle_unknown='ignore',\n",
      "                                                                                       sparse_output=False),\n",
      "                                                                         ['audScoreBins']),\n",
      "                                                                        ('cat_boxOfficeBins',\n",
      "                                                                         OneHotEncoder(handle_unknown='ignore',\n",
      "                                                                                       sp...\n",
      "                                                                                                                      'script',\n",
      "                                                                                                                      'aaron '\n",
      "                                                                                                                      'spelling',\n",
      "                                                                                                                      'aarp',\n",
      "                                                                                                                      'ab',\n",
      "                                                                                                                      'abandon',\n",
      "                                                                                                                      'abandoned',\n",
      "                                                                                                                      'abandoned '\n",
      "                                                                                                                      'good',\n",
      "                                                                                                                      'abandoning',\n",
      "                                                                                                                      'abandoning '\n",
      "                                                                                                                      'logic',\n",
      "                                                                                                                      'abandoning '\n",
      "                                                                                                                      'traditional',\n",
      "                                                                                                                      'abandonment',\n",
      "                                                                                                                      'abandonment '\n",
      "                                                                                                                      'adoption', ...}))]),\n",
      "                                                                         'reviewText_3')])),\n",
      "                                       ('model',\n",
      "                                        SGDClassifier(max_iter=1000000,\n",
      "                                                      n_iter_no_change=100,\n",
      "                                                      n_jobs=-1,\n",
      "                                                      tol=0.0001))]),\n",
      "             n_jobs=-1, param_grid={'model__alpha': [0.0001]},\n",
      "             scoring='f1_micro')\n",
      "\n",
      "Training started with full pipeline for classifier #1/1...\n",
      "\n",
      "Check #1.1 complete.\n",
      "Details of the best model using classifier #1 (GridSearchCV) on X_train: \n",
      "Best Params: {'model__alpha': 0.0001}\n",
      "Best Score: 0.8419063991764189\n",
      "Confusion matrix and f1-score for rows which have no reviewText in X_train: \n",
      "[[ 994 1411]\n",
      " [ 136 3906]]\n",
      "0.7600434310532032\n",
      "classifier_1 successfully added to 'estimators' list\n",
      "(55315, 1)\n",
      "     pred_1\n",
      "0  POSITIVE\n",
      "1  POSITIVE\n",
      "2  POSITIVE\n",
      "3  POSITIVE\n",
      "4  POSITIVE\n",
      "5  POSITIVE\n",
      "6  POSITIVE\n",
      "7  POSITIVE\n",
      "8  NEGATIVE\n",
      "9  NEGATIVE\n",
      "\n",
      "Check #1.2 complete.\n",
      "Details of the best model using full pipeline (GridSearchCV) on X_train: \n",
      "Best Params: {'model__alpha': 0.0001}\n",
      "Best Score: 0.8419063991764189\n",
      "Refit Time: 248.83685612678528\n",
      "\n",
      "Successfully created the submission file!!!\n"
     ]
    }
   ],
   "source": [
    "# Testing ONE classfier using submit_v5 function  \n",
    "\n",
    "# Feature dictionaries\n",
    "sfs = {'cat': ['isFrequentReviewer', 'rating'],\n",
    "       'num': [\"audienceScore\", \"runtimeMinutes\", \"boxOffice\", 'releaseDiff']}\n",
    "\n",
    "sf_best = {'cat': ['isFrequentReviewer'],\n",
    "            'num': [\"audienceScore\", \"boxOffice\", 'releaseDiff'],\n",
    "            'txt': ['reviewText', 'reviewerName', 'movieid', 'genre', 'director', \n",
    "                         'ratingContents', 'distributor']}\n",
    "\n",
    "alt_text = {'txt': ['reviewerName', 'movieid', 'genre', 'director', \n",
    "                         'ratingContents', 'distributor']}\n",
    "\n",
    "v88_dict = {'cat': ['isFrequentReviewer', 'audScoreBins', 'boxOfficeBins'],\n",
    "            'num': ['releaseDiff'],\n",
    "            'txt': ['reviewText', 'reviewerName', 'movieid', 'genre', 'director', \n",
    "                         'ratingContents', 'distributor']}\n",
    "\n",
    "# SGDClassifier hyperparameters  \n",
    "# \"model__loss\": ['hinge', 'log_loss', 'modified_huber', \n",
    "#                                                   'squared_hinge', 'perceptron', \n",
    "#                                                   'squared_error', 'huber', \n",
    "#                                                   'epsilon_insensitive', 'squared_epsilon_insensitive']\n",
    "\n",
    "# 'param_grid' : {\"model__alpha\": [0.0001], \n",
    "#                   'model__tol': [0.0001],\n",
    "#                   \"model__penalty\": [\"l2\"],\n",
    "#                   \"model__n_iter_no_change\": [100],\n",
    "#                  }\n",
    "\n",
    "# Best models \n",
    "# For sf_best features\n",
    "#                 {'selected_model' : SGDClassifier(loss='hinge', \n",
    "#                                      max_iter=1000000,\n",
    "#                                      alpha = 0.0001,\n",
    "#                                      tol = 0.0001,\n",
    "#                                      penalty = \"l2\",\n",
    "#                                      n_iter_no_change = 100,\n",
    "#                                      n_jobs = -1), \n",
    "#                   'selected_features' : sf_best, \n",
    "#                   'param_grid' : {\"model__alpha\": [ 0.0001]},\n",
    "#                   'vocab' : True,\n",
    "#                   'vocab_usage' : 'tfidf',\n",
    "#                   'strip_accents' : 'unicode', \n",
    "#                   'add_countvec' : True},\n",
    "\n",
    "# For sfs features\n",
    "#                 {'selected_model' : RandomForestClassifier(n_jobs = -1), \n",
    "#                   'selected_features' : sfs, \n",
    "#                   'param_grid': {'model__n_estimators': [100]},\n",
    "#                   'vocab' : None,\n",
    "#                   'vocab_usage' : 'tfidf',\n",
    "#                   'strip_accents' : 'unicode', \n",
    "#                   'add_countvec' : False}\n",
    "\n",
    "# Best SGD classifer (with params)  \n",
    "sgdc = SGDClassifier(loss='hinge', \n",
    "                     max_iter=1000000,\n",
    "                     alpha = 0.0001,\n",
    "                     tol = 0.0001,\n",
    "                     penalty = \"l2\",\n",
    "                     n_iter_no_change = 100,\n",
    "                     n_jobs = -1)\n",
    "\n",
    "# Classifiers\n",
    "classifiers= [   \n",
    "                {'selected_model' : sgdc, \n",
    "                  'selected_features' : v88_dict, \n",
    "                  'param_grid' : {\"model__alpha\": [0.0001]},\n",
    "                  'vocab' : True,\n",
    "                  'vocab_usage' : 'tfidf',\n",
    "                  'strip_accents' : 'unicode', \n",
    "                  'add_countvec' : True}\n",
    "            ]\n",
    "\n",
    "# classifiers= [\n",
    "#                 {'selected_model' : LogisticRegression(C=1, solver='saga', max_iter=100000), \n",
    "#                   'selected_features' : {'txt': [\"reviewText\"]}, \n",
    "#                   'param_grid' : {\"model__C\": [1], \n",
    "#                                   'model__solver': ['saga']},\n",
    "#                   'vocab' : None,\n",
    "#                   'vocab_usage' : 'tfidf',\n",
    "#                   'strip_accents' : 'unicode', \n",
    "#                   'add_countvec' : False},\n",
    "#             ]\n",
    "\n",
    "pred_df, estimators = submit_v5(classifiers=classifiers)"
   ]
  },
  {
   "cell_type": "code",
   "execution_count": 107,
   "id": "ab05c9a5",
   "metadata": {
    "execution": {
     "iopub.execute_input": "2023-08-12T03:43:48.976338Z",
     "iopub.status.busy": "2023-08-12T03:43:48.975944Z",
     "iopub.status.idle": "2023-08-12T03:43:48.984369Z",
     "shell.execute_reply": "2023-08-12T03:43:48.982885Z"
    },
    "papermill": {
     "duration": 0.117823,
     "end_time": "2023-08-12T03:43:48.986942",
     "exception": false,
     "start_time": "2023-08-12T03:43:48.869119",
     "status": "completed"
    },
    "tags": []
   },
   "outputs": [
    {
     "name": "stdout",
     "output_type": "stream",
     "text": [
      "(55315, 1)\n",
      "   sentiment\n",
      "id          \n",
      "0   POSITIVE\n",
      "1   POSITIVE\n",
      "2   POSITIVE\n",
      "3   POSITIVE\n",
      "4   POSITIVE\n"
     ]
    }
   ],
   "source": [
    "print(pred_df.shape)\n",
    "print(pred_df.head())"
   ]
  },
  {
   "cell_type": "code",
   "execution_count": 108,
   "id": "b0e83748",
   "metadata": {
    "execution": {
     "iopub.execute_input": "2023-08-12T03:43:49.199058Z",
     "iopub.status.busy": "2023-08-12T03:43:49.198656Z",
     "iopub.status.idle": "2023-08-12T03:43:49.203369Z",
     "shell.execute_reply": "2023-08-12T03:43:49.202212Z"
    },
    "papermill": {
     "duration": 0.113669,
     "end_time": "2023-08-12T03:43:49.205697",
     "exception": false,
     "start_time": "2023-08-12T03:43:49.092028",
     "status": "completed"
    },
    "tags": []
   },
   "outputs": [],
   "source": [
    "# estimators"
   ]
  },
  {
   "cell_type": "code",
   "execution_count": 109,
   "id": "4d00cec3",
   "metadata": {
    "execution": {
     "iopub.execute_input": "2023-08-12T03:43:49.418310Z",
     "iopub.status.busy": "2023-08-12T03:43:49.417926Z",
     "iopub.status.idle": "2023-08-12T03:43:49.425269Z",
     "shell.execute_reply": "2023-08-12T03:43:49.423888Z"
    },
    "papermill": {
     "duration": 0.116542,
     "end_time": "2023-08-12T03:43:49.427824",
     "exception": false,
     "start_time": "2023-08-12T03:43:49.311282",
     "status": "completed"
    },
    "tags": []
   },
   "outputs": [
    {
     "name": "stdout",
     "output_type": "stream",
     "text": [
      "Number of estimators: 1\n",
      "\n",
      "Estimator: classifier_1\n",
      "{'model__alpha': 0.0001}\n",
      "0.8419063991764189\n",
      "248.83685612678528\n",
      "\n"
     ]
    }
   ],
   "source": [
    "print(f\"Number of estimators: {len(estimators)}\\n\")\n",
    "for est in estimators:\n",
    "    print(f\"Estimator: {est[0]}\")\n",
    "#     print(est[1].best_estimator_)\n",
    "    print(est[1].best_params_)\n",
    "    print(est[1].best_score_)\n",
    "    print(est[1].refit_time_)\n",
    "    print()"
   ]
  },
  {
   "cell_type": "code",
   "execution_count": 110,
   "id": "f98b5994",
   "metadata": {
    "execution": {
     "iopub.execute_input": "2023-08-12T03:43:49.644885Z",
     "iopub.status.busy": "2023-08-12T03:43:49.644444Z",
     "iopub.status.idle": "2023-08-12T03:43:49.651747Z",
     "shell.execute_reply": "2023-08-12T03:43:49.650501Z"
    },
    "papermill": {
     "duration": 0.118473,
     "end_time": "2023-08-12T03:43:49.654339",
     "exception": false,
     "start_time": "2023-08-12T03:43:49.535866",
     "status": "completed"
    },
    "tags": []
   },
   "outputs": [],
   "source": [
    "# Testing full capabilites of submit_v5  \n",
    "\n",
    "# # Feature dictionaries\n",
    "# sf1 = {'cat': ['isFrequentReviewer', 'rating'],\n",
    "#        'num': [\"audienceScore\", \"runtimeMinutes\", \"boxOffice\"]}\n",
    "\n",
    "# sf2 = {'cat': ['isFrequentReviewer', 'rating'],\n",
    "#        'num': [\"audienceScore\", \"runtimeMinutes\", \"boxOffice\"]}\n",
    "\n",
    "# sf3 = {'cat': ['isFrequentReviewer'],\n",
    "#         'num': ['releaseDiff', 'audienceScore', 'boxOffice'],\n",
    "#         'txt': ['reviewText', 'reviewerName', 'movieid', 'genre', 'director', \n",
    "#                          'ratingContents', 'distributor']}\n",
    "\n",
    "# # Individual classifiers\n",
    "# clf1 =  {'selected_model' : AdaBoostClassifier(), \n",
    "#           'selected_features' : sf1, \n",
    "#           'param_grid' : {\"model__n_estimators\": [50]},\n",
    "#           'vocab' : None,\n",
    "#           'vocab_usage' : 'tfidf',\n",
    "#           'strip_accents' : 'unicode', \n",
    "#           'add_countvec' : False}\n",
    "\n",
    "# clf2 =  {'selected_model' : RandomForestClassifier(), \n",
    "#           'selected_features' : sf2,\n",
    "#           'param_grid' : {\"model__n_estimators\": [50], \n",
    "#                           'model__criterion': ['gini']},\n",
    "#           'vocab' : None,\n",
    "#           'vocab_usage' : 'tfidf',\n",
    "#           'strip_accents' : 'unicode', \n",
    "#           'add_countvec' : False}\n",
    "\n",
    "# clf3 =  {'selected_model' : LogisticRegression(C=1, solver='saga', max_iter=100000), \n",
    "#           'selected_features' : sf3, \n",
    "#           'param_grid' : {'model__C' : [1],\n",
    "#                             'model__solver': ['saga'],\n",
    "#                             \"model__fit_intercept\" : [True],\n",
    "#                             \"model__dual\" : [False]},\n",
    "#           'vocab' : None,\n",
    "#           'vocab_usage' : 'tfidf',\n",
    "#           'strip_accents' : 'unicode', \n",
    "#           'add_countvec' : True}\n",
    "\n",
    "\n",
    "# # List of classifiers for voting\n",
    "# classifiers= [clf1, clf2, clf3]\n",
    "\n",
    "# # Final predictions \n",
    "# pred_df = submit_v5(classifiers=classifiers)"
   ]
  },
  {
   "cell_type": "code",
   "execution_count": 111,
   "id": "425c519a",
   "metadata": {
    "execution": {
     "iopub.execute_input": "2023-08-12T03:43:49.872400Z",
     "iopub.status.busy": "2023-08-12T03:43:49.871973Z",
     "iopub.status.idle": "2023-08-12T03:43:49.885712Z",
     "shell.execute_reply": "2023-08-12T03:43:49.884434Z"
    },
    "papermill": {
     "duration": 0.12654,
     "end_time": "2023-08-12T03:43:49.888127",
     "exception": false,
     "start_time": "2023-08-12T03:43:49.761587",
     "status": "completed"
    },
    "tags": []
   },
   "outputs": [
    {
     "name": "stdout",
     "output_type": "stream",
     "text": [
      "(55315, 1)\n"
     ]
    },
    {
     "data": {
      "text/html": [
       "<div>\n",
       "<style scoped>\n",
       "    .dataframe tbody tr th:only-of-type {\n",
       "        vertical-align: middle;\n",
       "    }\n",
       "\n",
       "    .dataframe tbody tr th {\n",
       "        vertical-align: top;\n",
       "    }\n",
       "\n",
       "    .dataframe thead th {\n",
       "        text-align: right;\n",
       "    }\n",
       "</style>\n",
       "<table border=\"1\" class=\"dataframe\">\n",
       "  <thead>\n",
       "    <tr style=\"text-align: right;\">\n",
       "      <th></th>\n",
       "      <th>sentiment</th>\n",
       "    </tr>\n",
       "    <tr>\n",
       "      <th>id</th>\n",
       "      <th></th>\n",
       "    </tr>\n",
       "  </thead>\n",
       "  <tbody>\n",
       "    <tr>\n",
       "      <th>0</th>\n",
       "      <td>POSITIVE</td>\n",
       "    </tr>\n",
       "    <tr>\n",
       "      <th>1</th>\n",
       "      <td>POSITIVE</td>\n",
       "    </tr>\n",
       "    <tr>\n",
       "      <th>2</th>\n",
       "      <td>POSITIVE</td>\n",
       "    </tr>\n",
       "    <tr>\n",
       "      <th>3</th>\n",
       "      <td>POSITIVE</td>\n",
       "    </tr>\n",
       "    <tr>\n",
       "      <th>4</th>\n",
       "      <td>POSITIVE</td>\n",
       "    </tr>\n",
       "    <tr>\n",
       "      <th>...</th>\n",
       "      <td>...</td>\n",
       "    </tr>\n",
       "    <tr>\n",
       "      <th>55310</th>\n",
       "      <td>POSITIVE</td>\n",
       "    </tr>\n",
       "    <tr>\n",
       "      <th>55311</th>\n",
       "      <td>NEGATIVE</td>\n",
       "    </tr>\n",
       "    <tr>\n",
       "      <th>55312</th>\n",
       "      <td>NEGATIVE</td>\n",
       "    </tr>\n",
       "    <tr>\n",
       "      <th>55313</th>\n",
       "      <td>POSITIVE</td>\n",
       "    </tr>\n",
       "    <tr>\n",
       "      <th>55314</th>\n",
       "      <td>NEGATIVE</td>\n",
       "    </tr>\n",
       "  </tbody>\n",
       "</table>\n",
       "<p>55315 rows × 1 columns</p>\n",
       "</div>"
      ],
      "text/plain": [
       "      sentiment\n",
       "id             \n",
       "0      POSITIVE\n",
       "1      POSITIVE\n",
       "2      POSITIVE\n",
       "3      POSITIVE\n",
       "4      POSITIVE\n",
       "...         ...\n",
       "55310  POSITIVE\n",
       "55311  NEGATIVE\n",
       "55312  NEGATIVE\n",
       "55313  POSITIVE\n",
       "55314  NEGATIVE\n",
       "\n",
       "[55315 rows x 1 columns]"
      ]
     },
     "execution_count": 111,
     "metadata": {},
     "output_type": "execute_result"
    }
   ],
   "source": [
    "print(pred_df.shape)\n",
    "pred_df"
   ]
  },
  {
   "cell_type": "code",
   "execution_count": 112,
   "id": "47421982",
   "metadata": {
    "execution": {
     "iopub.execute_input": "2023-08-12T03:43:50.128819Z",
     "iopub.status.busy": "2023-08-12T03:43:50.128359Z",
     "iopub.status.idle": "2023-08-12T03:43:50.132830Z",
     "shell.execute_reply": "2023-08-12T03:43:50.132066Z"
    },
    "papermill": {
     "duration": 0.127137,
     "end_time": "2023-08-12T03:43:50.135079",
     "exception": false,
     "start_time": "2023-08-12T03:43:50.007942",
     "status": "completed"
    },
    "tags": []
   },
   "outputs": [],
   "source": [
    "# pred_df_mode = pred_df.mode(axis='columns')\n",
    "# print(pred_df_mode.shape)\n",
    "# pred_df_mode"
   ]
  },
  {
   "cell_type": "code",
   "execution_count": 113,
   "id": "87c91a30",
   "metadata": {
    "execution": {
     "iopub.execute_input": "2023-08-12T03:43:50.350240Z",
     "iopub.status.busy": "2023-08-12T03:43:50.349819Z",
     "iopub.status.idle": "2023-08-12T03:43:50.367090Z",
     "shell.execute_reply": "2023-08-12T03:43:50.365958Z"
    },
    "papermill": {
     "duration": 0.126933,
     "end_time": "2023-08-12T03:43:50.369244",
     "exception": false,
     "start_time": "2023-08-12T03:43:50.242311",
     "status": "completed"
    },
    "tags": []
   },
   "outputs": [
    {
     "data": {
      "text/plain": [
       "sentiment\n",
       "POSITIVE     39122\n",
       "NEGATIVE     16193\n",
       "dtype: int64"
      ]
     },
     "execution_count": 113,
     "metadata": {},
     "output_type": "execute_result"
    }
   ],
   "source": [
    "pred_df.value_counts()"
   ]
  },
  {
   "cell_type": "markdown",
   "id": "e9b813f7",
   "metadata": {
    "papermill": {
     "duration": 0.107706,
     "end_time": "2023-08-12T03:43:50.586001",
     "exception": false,
     "start_time": "2023-08-12T03:43:50.478295",
     "status": "completed"
    },
    "tags": []
   },
   "source": [
    "# NOTE: Move submit_v4 submissions below the suubmit_v4 function  "
   ]
  },
  {
   "cell_type": "code",
   "execution_count": 114,
   "id": "73616968",
   "metadata": {
    "execution": {
     "iopub.execute_input": "2023-08-12T03:43:50.801609Z",
     "iopub.status.busy": "2023-08-12T03:43:50.800850Z",
     "iopub.status.idle": "2023-08-12T03:43:50.804981Z",
     "shell.execute_reply": "2023-08-12T03:43:50.804241Z"
    },
    "papermill": {
     "duration": 0.113754,
     "end_time": "2023-08-12T03:43:50.807054",
     "exception": false,
     "start_time": "2023-08-12T03:43:50.693300",
     "status": "completed"
    },
    "tags": []
   },
   "outputs": [],
   "source": [
    "# Try 'submit_v4' function with default params (LogisticRegression model)  \n",
    "\n",
    "# submit_v4()\n",
    "\n",
    "#Default params to this function gave a score of 0.8259 - improvement over previous score of 0.82563!"
   ]
  },
  {
   "cell_type": "code",
   "execution_count": 115,
   "id": "81ad3336",
   "metadata": {
    "execution": {
     "iopub.execute_input": "2023-08-12T03:43:51.022380Z",
     "iopub.status.busy": "2023-08-12T03:43:51.021543Z",
     "iopub.status.idle": "2023-08-12T03:43:51.026882Z",
     "shell.execute_reply": "2023-08-12T03:43:51.025878Z"
    },
    "papermill": {
     "duration": 0.117081,
     "end_time": "2023-08-12T03:43:51.029266",
     "exception": false,
     "start_time": "2023-08-12T03:43:50.912185",
     "status": "completed"
    },
    "tags": []
   },
   "outputs": [],
   "source": [
    "# Try out GridSearchCV on \"submit_v4\" function with param_grid  \n",
    "# param_grid = {\n",
    "#     \"model__C\": [0.1, 1, 5, 10]\n",
    "# }\n",
    "\n",
    "# submit_v4(selected_features={'txt': ['genre']}, param_grid=param_grid)"
   ]
  },
  {
   "cell_type": "markdown",
   "id": "c7d8f4a2",
   "metadata": {
    "papermill": {
     "duration": 0.177664,
     "end_time": "2023-08-12T03:43:51.312510",
     "exception": false,
     "start_time": "2023-08-12T03:43:51.134846",
     "status": "completed"
    },
    "tags": []
   },
   "source": [
    "### Try LinearSVC with GridSearchCV  "
   ]
  },
  {
   "cell_type": "code",
   "execution_count": 116,
   "id": "58616abd",
   "metadata": {
    "execution": {
     "iopub.execute_input": "2023-08-12T03:43:51.531869Z",
     "iopub.status.busy": "2023-08-12T03:43:51.529890Z",
     "iopub.status.idle": "2023-08-12T03:43:51.535788Z",
     "shell.execute_reply": "2023-08-12T03:43:51.534745Z"
    },
    "papermill": {
     "duration": 0.120187,
     "end_time": "2023-08-12T03:43:51.538117",
     "exception": false,
     "start_time": "2023-08-12T03:43:51.417930",
     "status": "completed"
    },
    "tags": []
   },
   "outputs": [],
   "source": [
    "# all_dict = {'cat': [\"isFrequentReviewer\", \"rating\", \"originalLanguage\"],\n",
    "#              'num': [\"audienceScore\", \"runtimeMinutes\", \"boxOffice\"],\n",
    "#              'txt': ['reviewText', 'reviewerName', 'movieid', 'genre', 'director']}\n",
    "\n",
    "# param_grid_svc = {\n",
    "#     \"model__C\": [0.1, 1, 10, 100]\n",
    "# }\n",
    "# param_grid_svc"
   ]
  },
  {
   "cell_type": "code",
   "execution_count": 117,
   "id": "bf4ccbda",
   "metadata": {
    "execution": {
     "iopub.execute_input": "2023-08-12T03:43:51.754051Z",
     "iopub.status.busy": "2023-08-12T03:43:51.753426Z",
     "iopub.status.idle": "2023-08-12T03:43:51.757933Z",
     "shell.execute_reply": "2023-08-12T03:43:51.756868Z"
    },
    "papermill": {
     "duration": 0.116623,
     "end_time": "2023-08-12T03:43:51.760439",
     "exception": false,
     "start_time": "2023-08-12T03:43:51.643816",
     "status": "completed"
    },
    "tags": []
   },
   "outputs": [],
   "source": [
    "# LinearSCV on single feature  \n",
    "\n",
    "# submit_v4(selected_model=LinearSVC(max_iter=100000, random_state=42), selected_features={'num': [\"audienceScore\"]}, param_grid=param_grid_svc)\n",
    "\n",
    "# Comment: LinearSVC even on single column feature set takes too long to converge."
   ]
  },
  {
   "cell_type": "code",
   "execution_count": 118,
   "id": "3e3b85c9",
   "metadata": {
    "execution": {
     "iopub.execute_input": "2023-08-12T03:43:51.973414Z",
     "iopub.status.busy": "2023-08-12T03:43:51.972957Z",
     "iopub.status.idle": "2023-08-12T03:43:51.977770Z",
     "shell.execute_reply": "2023-08-12T03:43:51.976761Z"
    },
    "papermill": {
     "duration": 0.114468,
     "end_time": "2023-08-12T03:43:51.979994",
     "exception": false,
     "start_time": "2023-08-12T03:43:51.865526",
     "status": "completed"
    },
    "tags": []
   },
   "outputs": [],
   "source": [
    "# LinearSCV on all available features\n",
    "\n",
    "# submit_v4(selected_model=LinearSVC(max_iter=100000, random_state=42), selected_features=all_dict, param_grid=param_grid_svc)\n",
    "\n",
    "# (Update): This took 66 mins to run and gave a public score of 0.84295 (lesser than logreg gridsearchcv wwhich gave 0.84441). Best C was 1.0.\n"
   ]
  },
  {
   "cell_type": "markdown",
   "id": "d2736513",
   "metadata": {
    "papermill": {
     "duration": 0.105515,
     "end_time": "2023-08-12T03:43:52.192461",
     "exception": false,
     "start_time": "2023-08-12T03:43:52.086946",
     "status": "completed"
    },
    "tags": []
   },
   "source": [
    "### Boosting techniques  "
   ]
  },
  {
   "cell_type": "code",
   "execution_count": 119,
   "id": "bf83b31d",
   "metadata": {
    "execution": {
     "iopub.execute_input": "2023-08-12T03:43:52.406030Z",
     "iopub.status.busy": "2023-08-12T03:43:52.405288Z",
     "iopub.status.idle": "2023-08-12T03:43:52.409159Z",
     "shell.execute_reply": "2023-08-12T03:43:52.408413Z"
    },
    "papermill": {
     "duration": 0.113314,
     "end_time": "2023-08-12T03:43:52.411239",
     "exception": false,
     "start_time": "2023-08-12T03:43:52.297925",
     "status": "completed"
    },
    "tags": []
   },
   "outputs": [],
   "source": [
    "# adc = AdaBoostClassifier(estimator=LogisticRegression(C=5, solver=\"saga\", max_iter=100000), n_estimators=50)\n",
    "# adc"
   ]
  },
  {
   "cell_type": "code",
   "execution_count": 120,
   "id": "102b7503",
   "metadata": {
    "execution": {
     "iopub.execute_input": "2023-08-12T03:43:52.629143Z",
     "iopub.status.busy": "2023-08-12T03:43:52.628620Z",
     "iopub.status.idle": "2023-08-12T03:43:52.634465Z",
     "shell.execute_reply": "2023-08-12T03:43:52.633188Z"
    },
    "papermill": {
     "duration": 0.118208,
     "end_time": "2023-08-12T03:43:52.636867",
     "exception": false,
     "start_time": "2023-08-12T03:43:52.518659",
     "status": "completed"
    },
    "tags": []
   },
   "outputs": [],
   "source": [
    "# submit_v4(selected_model=adc, selected_features={'num': [\"audienceScore\"]}, param_grid=None)"
   ]
  },
  {
   "cell_type": "code",
   "execution_count": 121,
   "id": "200ebff2",
   "metadata": {
    "execution": {
     "iopub.execute_input": "2023-08-12T03:43:52.855318Z",
     "iopub.status.busy": "2023-08-12T03:43:52.854587Z",
     "iopub.status.idle": "2023-08-12T03:43:52.859615Z",
     "shell.execute_reply": "2023-08-12T03:43:52.858565Z"
    },
    "papermill": {
     "duration": 0.115202,
     "end_time": "2023-08-12T03:43:52.861847",
     "exception": false,
     "start_time": "2023-08-12T03:43:52.746645",
     "status": "completed"
    },
    "tags": []
   },
   "outputs": [],
   "source": [
    "# submit_v4(selected_model=adc, selected_features=all_dict, param_grid=None)\n",
    "\n",
    "# Took 1 hour 15 mins to run and gave a public score of only 0.71089. Discarded."
   ]
  },
  {
   "cell_type": "markdown",
   "id": "90506b9d",
   "metadata": {
    "papermill": {
     "duration": 0.108445,
     "end_time": "2023-08-12T03:43:53.075382",
     "exception": false,
     "start_time": "2023-08-12T03:43:52.966937",
     "status": "completed"
    },
    "tags": []
   },
   "source": [
    "### LightGBM  "
   ]
  },
  {
   "cell_type": "code",
   "execution_count": 122,
   "id": "6c2cebab",
   "metadata": {
    "execution": {
     "iopub.execute_input": "2023-08-12T03:43:53.290559Z",
     "iopub.status.busy": "2023-08-12T03:43:53.290162Z",
     "iopub.status.idle": "2023-08-12T03:43:53.294849Z",
     "shell.execute_reply": "2023-08-12T03:43:53.293826Z"
    },
    "papermill": {
     "duration": 0.113303,
     "end_time": "2023-08-12T03:43:53.297020",
     "exception": false,
     "start_time": "2023-08-12T03:43:53.183717",
     "status": "completed"
    },
    "tags": []
   },
   "outputs": [],
   "source": [
    "# lgb = ltb.LGBMClassifier()\n",
    "# lgb"
   ]
  },
  {
   "cell_type": "code",
   "execution_count": 123,
   "id": "0afb7eca",
   "metadata": {
    "execution": {
     "iopub.execute_input": "2023-08-12T03:43:53.512347Z",
     "iopub.status.busy": "2023-08-12T03:43:53.511293Z",
     "iopub.status.idle": "2023-08-12T03:43:53.516272Z",
     "shell.execute_reply": "2023-08-12T03:43:53.515478Z"
    },
    "papermill": {
     "duration": 0.115827,
     "end_time": "2023-08-12T03:43:53.518740",
     "exception": false,
     "start_time": "2023-08-12T03:43:53.402913",
     "status": "completed"
    },
    "tags": []
   },
   "outputs": [],
   "source": [
    "# Try LightGBM with default settings\n",
    "# (Update): Public score only 0.77713. It was fast, took less than 5 mins (without GridSearchCV)\n",
    "\n",
    "# submit_v4(selected_model=ltb.LGBMClassifier(), selected_features=all_dict, param_grid=None)"
   ]
  },
  {
   "cell_type": "markdown",
   "id": "0f7f8629",
   "metadata": {
    "papermill": {
     "duration": 0.10591,
     "end_time": "2023-08-12T03:43:53.731439",
     "exception": false,
     "start_time": "2023-08-12T03:43:53.625529",
     "status": "completed"
    },
    "tags": []
   },
   "source": [
    "## Feature Engineering"
   ]
  },
  {
   "cell_type": "markdown",
   "id": "6ac7f5ea",
   "metadata": {
    "papermill": {
     "duration": 0.105324,
     "end_time": "2023-08-12T03:43:53.942826",
     "exception": false,
     "start_time": "2023-08-12T03:43:53.837502",
     "status": "completed"
    },
    "tags": []
   },
   "source": [
    "### Plan  \n",
    "* Add a new column 'reviewWC' which has word count of 'reviewText'  \n",
    "    * Check if there is any relationship between 'reviewWC' and 'sentiment'\n",
    "* Work on vocabulary\n",
    "     * Use TfidfVectorizer and find out the vocabulary of 'reviewText' column for various ngrams\n",
    "     * Use RecursiveFeatureElimination (RFE) or RFECV to select 1000 top words/vocab for each ngram\n",
    "     * Use the final vocab (1000-3000 words) in the model and see how it performs compared to whole vocab\n",
    "\n",
    "`(Update): Code incorporated into the \"select_features\" function  `  \n",
    "`(Update): Many other new features incorporated into the \"select_features\" function too  `  \n",
    "\n"
   ]
  },
  {
   "cell_type": "markdown",
   "id": "8e89eabf",
   "metadata": {
    "papermill": {
     "duration": 0.104858,
     "end_time": "2023-08-12T03:43:54.156511",
     "exception": false,
     "start_time": "2023-08-12T03:43:54.051653",
     "status": "completed"
    },
    "tags": []
   },
   "source": [
    "# Back to vocab after success of version 63  "
   ]
  },
  {
   "cell_type": "code",
   "execution_count": 124,
   "id": "9ab8b08f",
   "metadata": {
    "execution": {
     "iopub.execute_input": "2023-08-12T03:43:54.370793Z",
     "iopub.status.busy": "2023-08-12T03:43:54.370006Z",
     "iopub.status.idle": "2023-08-12T03:43:54.391969Z",
     "shell.execute_reply": "2023-08-12T03:43:54.390674Z"
    },
    "papermill": {
     "duration": 0.132248,
     "end_time": "2023-08-12T03:43:54.394759",
     "exception": false,
     "start_time": "2023-08-12T03:43:54.262511",
     "status": "completed"
    },
    "tags": []
   },
   "outputs": [],
   "source": [
    "def submit_v4(selected_model=LogisticRegression(C=1, solver='liblinear', max_iter=100000), \n",
    "              selected_features={'txt': ['reviewText']}, \n",
    "              param_grid=None,\n",
    "              vocab=None,\n",
    "              vocab_usage='tfidf',\n",
    "              strip_accents='unicode', \n",
    "              add_countvec=False):\n",
    "    \n",
    "    print(\"\\nRunning the submit_v4 function...\")\n",
    "    \n",
    "    # Fine tune selected_features\n",
    "    if add_countvec:\n",
    "        if 'txt' in selected_features.keys():\n",
    "            if \"reviewText_2\" not in selected_features['txt']:\n",
    "                selected_features['txt'].append('reviewText_2')\n",
    "    if vocab:\n",
    "        if 'txt' in selected_features.keys():\n",
    "            if \"reviewText_3\" not in selected_features['txt']:\n",
    "                selected_features['txt'].append('reviewText_3')\n",
    "    print(f\"\\nSelected features: {selected_features}\")\n",
    "\n",
    "    \n",
    "    \n",
    "    # Build Pipeline\n",
    "    pipe = build_pipeline(selected_model, selected_features, param_grid=param_grid, \n",
    "                          vocab=vocab, vocab_usage='tfidf', \n",
    "                          strip_accents=strip_accents, add_countvec=add_countvec)\n",
    "    print(pipe)\n",
    "\n",
    "    \n",
    "    \n",
    "    # Features list\n",
    "    features = []\n",
    "    for item in selected_features.values():\n",
    "        features.extend(item)\n",
    " \n",
    "\n",
    "    # Merge and preprocess train and movies data  \n",
    "    merged = select_features(load_csv(\"train\"), load_csv(\"movies\"), row_thresh_null=None)    # Decide if you want to drop any rows containing lot of nulls\n",
    "    # Impute missing numerical values  \n",
    "    # Simple Imputer for ['audienceScore', 'runtimeMinutes', 'boxOffice'] and 'releaseDate' columns\n",
    "    si = SimpleImputer(strategy='median')\n",
    "    merged[['audienceScore', 'runtimeMinutes', 'boxOffice']] = si.fit_transform(merged[['audienceScore', 'runtimeMinutes', 'boxOffice']])\n",
    "    merged['releaseDate'] = merged[\"releaseDate\"].fillna(merged[\"releaseDate\"].median())    \n",
    "    # Add new columns as needed  \n",
    "    if add_countvec:\n",
    "        merged['reviewText_2'] = merged['reviewText']\n",
    "    if vocab:\n",
    "        merged['reviewText_3'] = merged['reviewText']\n",
    "        \n",
    "    X_train = merged.drop(labels=\"sentiment\", axis=1)\n",
    "    y_train = merged[\"sentiment\"]\n",
    "\n",
    "    X_train = X_train[features]\n",
    "    \n",
    "    \n",
    "    # Check1\n",
    "    print(\"\\nCheck 1 complete.\")\n",
    "    print(f\"Shape of X_train: {X_train.shape}\")\n",
    "    print(f\"Features in X_train: {X_train.columns}\")\n",
    "#     print(X_train.head())\n",
    "    \n",
    "    \n",
    "    # Fit \n",
    "    print(\"\\nTraining started with full pipeline...\")\n",
    "    pipe.fit(X_train, y_train)\n",
    "    \n",
    "    # Check2\n",
    "    print(\"\\nCheck 2 complete.\")\n",
    "    print(\"Details of the best model using full pipeline (GridSearchCV) on X_train: \")\n",
    "    print(f\"Best Params: {pipe.best_params_}\")\n",
    "    print(f\"Best Score: {pipe.best_score_}\")\n",
    "    \n",
    "    print(predict_on_missing_review_data(pipe, features, merged))    # Function defined above\n",
    "    \n",
    "        \n",
    "    # Predict on test.csv file\n",
    "    \n",
    "    # Merge and preprocess test and movies data  \n",
    "    merged_test = select_features(load_csv(\"test\"), load_csv(\"movies\"))\n",
    "    # Transform ['audienceScore', 'runtimeMinutes', 'boxOffice'] columns in merged_test using 'si' fitted on 'merged' df  \n",
    "    merged_test[['audienceScore', 'runtimeMinutes', 'boxOffice']] = si.transform(merged_test[['audienceScore', 'runtimeMinutes', 'boxOffice']])\n",
    "    # Fill 'releaseDate' column in 'merged_test' df with median from the train (merged) df  \n",
    "    merged_test['releaseDate'] = merged_test[\"releaseDate\"].fillna(merged[\"releaseDate\"].median())\n",
    "    # Add new columns as needed \n",
    "    if add_countvec:\n",
    "        merged_test['reviewText_2'] = merged_test['reviewText']\n",
    "    if vocab:\n",
    "        merged_test['reviewText_3'] = merged_test['reviewText']\n",
    "        \n",
    "    X_test = merged_test.copy()\n",
    "\n",
    "    X_test = X_test[features]\n",
    "    \n",
    "    \n",
    "    # Check3\n",
    "    print(\"\\nCheck 3 complete.\")\n",
    "    print(f\"Shape of X_test: {X_test.shape}\")\n",
    "    print(f\"Features in X_test: {X_test.columns}\")\n",
    "#     print(X_test.head())\n",
    "    \n",
    "    y_pred = pipe.predict(X_test)\n",
    "    \n",
    "    # Check4\n",
    "    print(\"\\nCheck 4 complete.\")\n",
    "#     cv_results_df = pd.DataFrame(pipe.cv_results_)\n",
    "    print(\"Details of the best model using full pipeline (GridSearchCV) on X_train: \")\n",
    "    print(f\"Best Estimator: {pipe.best_estimator_}\")\n",
    "    print(f\"Best Params: {pipe.best_params_}\")\n",
    "    print(f\"Best Score: {pipe.best_score_}\")\n",
    "    print(f\"Best Index: {pipe.best_index_}\")\n",
    "    print(f\"Refit Time: {pipe.refit_time_}\")\n",
    "#     print(f\"Shape of CV results dataframe: {cv_results_df.shape}\")\n",
    "    \n",
    "    pred_df = pd.DataFrame(y_pred)\n",
    "    pred_df.columns = [\"sentiment\"]\n",
    "    pred_df.index.name = \"id\"\n",
    "    pred_df.to_csv(\"submission.csv\")\n",
    "    \n",
    "    print(\"\\nSuccessfully created the submission file!!!\")\n",
    "    \n",
    "    return pipe.cv_results_"
   ]
  },
  {
   "cell_type": "code",
   "execution_count": 125,
   "id": "dc537019",
   "metadata": {
    "execution": {
     "iopub.execute_input": "2023-08-12T03:43:54.611380Z",
     "iopub.status.busy": "2023-08-12T03:43:54.610960Z",
     "iopub.status.idle": "2023-08-12T03:43:54.617780Z",
     "shell.execute_reply": "2023-08-12T03:43:54.616990Z"
    },
    "papermill": {
     "duration": 0.118396,
     "end_time": "2023-08-12T03:43:54.619886",
     "exception": false,
     "start_time": "2023-08-12T03:43:54.501490",
     "status": "completed"
    },
    "tags": []
   },
   "outputs": [
    {
     "data": {
      "text/plain": [
       "Index(['movieid', 'reviewerName', 'isFrequentReviewer', 'reviewText',\n",
       "       'sentiment', 'title', 'audienceScore', 'rating', 'ratingContents',\n",
       "       'releaseDateTheaters', 'releaseDateStreaming', 'runtimeMinutes',\n",
       "       'genre', 'originalLanguage', 'director', 'boxOffice', 'distributor',\n",
       "       'soundType', 'reviewYN', 'reviewWC', 'genreSorted', 'rcSorted',\n",
       "       'releaseDate', 'releaseYear', 'releaseMonth', 'releaseDiff',\n",
       "       'audScoreBins', 'runtimeBins', 'boxOfficeBins', 'releaseDiffBins'],\n",
       "      dtype='object')"
      ]
     },
     "execution_count": 125,
     "metadata": {},
     "output_type": "execute_result"
    }
   ],
   "source": [
    "merged.columns"
   ]
  },
  {
   "cell_type": "code",
   "execution_count": 126,
   "id": "d1bd4067",
   "metadata": {
    "execution": {
     "iopub.execute_input": "2023-08-12T03:43:54.836223Z",
     "iopub.status.busy": "2023-08-12T03:43:54.835507Z",
     "iopub.status.idle": "2023-08-12T03:43:54.846230Z",
     "shell.execute_reply": "2023-08-12T03:43:54.844944Z"
    },
    "papermill": {
     "duration": 0.122226,
     "end_time": "2023-08-12T03:43:54.849268",
     "exception": false,
     "start_time": "2023-08-12T03:43:54.727042",
     "status": "completed"
    },
    "tags": []
   },
   "outputs": [],
   "source": [
    "# Best #2\n",
    "v80_dict = {'cat': ['isFrequentReviewer', 'audScoreBins', 'boxOfficeBins'], \n",
    "                  'txt': ['reviewText', 'reviewerName', 'movieid', 'genre', 'director', \n",
    "                          'ratingContents', 'distributor']}\n",
    "# Best #1\n",
    "v88_dict = {'cat': ['isFrequentReviewer', 'audScoreBins', 'boxOfficeBins'],\n",
    "            'num': ['releaseDiff'],\n",
    "            'txt': ['reviewText', 'reviewerName', 'movieid', 'genre', 'director', \n",
    "                         'ratingContents', 'distributor']}\n",
    "\n",
    "v92_dict = {'cat': ['isFrequentReviewer', 'audScoreBins', 'boxOfficeBins', 'releaseDiffBins'],\n",
    "            'txt': ['reviewText', 'reviewerName', 'title', 'genre', 'director', \n",
    "                         'ratingContents', 'distributor']}\n",
    "\n",
    "# Best univariable datapoints dict\n",
    "best_uni_dict = {'cat': [\"isFrequentReviewer\", \"audScoreBins\"],\n",
    "                 'txt': ['reviewText','movieid', 'director', \"ratingContents\"]}\n",
    "\n",
    "# param_grids for LogisticRegression  \n",
    "\n",
    "# Best #1  \n",
    "# param_grid = {\n",
    "#     'model__C' : [1],\n",
    "#     'model__solver': ['saga'],\n",
    "#     \"model__fit_intercept\" : [True],\n",
    "#     \"model__dual\" : [False]\n",
    "#     }\n",
    "\n",
    "# working\n",
    "param_grid = {\n",
    "    'model__C' : [1],\n",
    "    'model__solver': ['saga'],\n",
    "    \"model__fit_intercept\" : [True],\n",
    "    \"model__dual\" : [False],\n",
    "#     \"model__class_weight\": ['balanced', None]\n",
    "}\n",
    "\n",
    "\n",
    "# param_grids for LinearSVC  \n",
    "\n",
    "# param_grid = {\n",
    "#     'model__C' : [1, 10, 20],\n",
    "#     'model__loss': ['hinge', 'squared_hinge'],\n",
    "#     \"model__fit_intercept\" : [True, False],\n",
    "# #     \"model__dual\" : [True, False] \n",
    "# }\n",
    "\n",
    "svm = LinearSVC(max_iter=10000, random_state=42)    # LinearSVC\n",
    "\n",
    "\n",
    "# Local testing\n",
    "# selected_mov = {'num': ['audienceScore', 'boxOffice', 'releaseDiff'], \n",
    "#                 'txt': ['movieid', 'genre', 'director', \n",
    "#                          'ratingContents', 'distributor']}\n",
    "# results = submit_v4(\n",
    "#             selected_features={'num': ['boxOffice']},\n",
    "#             add_countvec=False,\n",
    "#             vocab=None,\n",
    "#             vocab_usage='tfidf',\n",
    "#             param_grid=param_grid\n",
    "#          )\n",
    "\n",
    "# results = submit_v4(selected_model = DummyClassifier(strategy='constant', constant='NEGATIVE'),\n",
    "#             selected_features={'num': ['boxOffice']},\n",
    "#             add_countvec=False,\n",
    "#             vocab=None,\n",
    "#             vocab_usage='tfidf',\n",
    "#             param_grid={'model__strategy' : ['constant']}\n",
    "#          )\n",
    "\n",
    "# Main submission\n",
    "\n",
    "# results = submit_v4(\n",
    "#     selected_features=v88_dict,\n",
    "#     add_countvec=False,\n",
    "#     vocab=common_1_2_3_grams,\n",
    "#     vocab_usage='tfidf',\n",
    "#     param_grid=param_grid\n",
    "#     )\n",
    "\n",
    "# results"
   ]
  },
  {
   "cell_type": "markdown",
   "id": "017683d8",
   "metadata": {
    "papermill": {
     "duration": 0.108065,
     "end_time": "2023-08-12T03:43:55.064044",
     "exception": false,
     "start_time": "2023-08-12T03:43:54.955979",
     "status": "completed"
    },
    "tags": []
   },
   "source": [
    "### ratingContents analysis  "
   ]
  },
  {
   "cell_type": "code",
   "execution_count": 127,
   "id": "544828aa",
   "metadata": {
    "execution": {
     "iopub.execute_input": "2023-08-12T03:43:55.279492Z",
     "iopub.status.busy": "2023-08-12T03:43:55.278741Z",
     "iopub.status.idle": "2023-08-12T03:43:55.282948Z",
     "shell.execute_reply": "2023-08-12T03:43:55.281878Z"
    },
    "papermill": {
     "duration": 0.114858,
     "end_time": "2023-08-12T03:43:55.285441",
     "exception": false,
     "start_time": "2023-08-12T03:43:55.170583",
     "status": "completed"
    },
    "tags": []
   },
   "outputs": [],
   "source": [
    "# Try string split  \n",
    "# s = \"comedy, animation, adventure, fantasy\"\n",
    "# (\",\").join(sorted(s.split(\", \")))"
   ]
  },
  {
   "cell_type": "code",
   "execution_count": 128,
   "id": "8fa2ab4e",
   "metadata": {
    "execution": {
     "iopub.execute_input": "2023-08-12T03:43:55.516868Z",
     "iopub.status.busy": "2023-08-12T03:43:55.516432Z",
     "iopub.status.idle": "2023-08-12T03:43:55.521678Z",
     "shell.execute_reply": "2023-08-12T03:43:55.520487Z"
    },
    "papermill": {
     "duration": 0.131207,
     "end_time": "2023-08-12T03:43:55.524163",
     "exception": false,
     "start_time": "2023-08-12T03:43:55.392956",
     "status": "completed"
    },
    "tags": []
   },
   "outputs": [],
   "source": [
    "# ratingContents_analysis = merged[[\"ratingContents\", \"sentiment\"]].copy()\n",
    "# print(ratingContents_analysis.head())\n",
    "# ratingContents_analysis[\"rcSorted\"] = ratingContents_analysis[\"ratingContents\"].apply(lambda x: (\",\").join(sorted(x.strip(\"][\").split(\", \"))))\n",
    "# ratingContents_analysis[\"rcSorted\"] = ratingContents_analysis[\"rcSorted\"].apply(lambda x: re.sub(r\"'\", \"\", x))\n",
    "# ratingContents_analysis[\"rcSorted\"] = ratingContents_analysis[\"rcSorted\"].apply(lambda x: re.sub(r\"[/\\s]\", \"_\", x))\n",
    "# ratingContents_analysis.head(10)"
   ]
  },
  {
   "cell_type": "code",
   "execution_count": 129,
   "id": "e3457be2",
   "metadata": {
    "execution": {
     "iopub.execute_input": "2023-08-12T03:43:55.754753Z",
     "iopub.status.busy": "2023-08-12T03:43:55.754302Z",
     "iopub.status.idle": "2023-08-12T03:43:55.759539Z",
     "shell.execute_reply": "2023-08-12T03:43:55.758351Z"
    },
    "papermill": {
     "duration": 0.125199,
     "end_time": "2023-08-12T03:43:55.761929",
     "exception": false,
     "start_time": "2023-08-12T03:43:55.636730",
     "status": "completed"
    },
    "tags": []
   },
   "outputs": [],
   "source": [
    "# cvec_rc = CountVectorizer(ngram_range=(1,1))\n",
    "# cvec_rc.fit(ratingContents_analysis['rcSorted'])\n",
    "# # len(cvec_rc.vocabulary_), cvec_rc.vocabulary_"
   ]
  },
  {
   "cell_type": "code",
   "execution_count": 130,
   "id": "25643c4c",
   "metadata": {
    "execution": {
     "iopub.execute_input": "2023-08-12T03:43:56.003678Z",
     "iopub.status.busy": "2023-08-12T03:43:56.003163Z",
     "iopub.status.idle": "2023-08-12T03:43:56.008977Z",
     "shell.execute_reply": "2023-08-12T03:43:56.006975Z"
    },
    "papermill": {
     "duration": 0.121595,
     "end_time": "2023-08-12T03:43:56.011922",
     "exception": false,
     "start_time": "2023-08-12T03:43:55.890327",
     "status": "completed"
    },
    "tags": []
   },
   "outputs": [],
   "source": [
    "# genre_testing = cvec_g.transform(merged[\"genre\"])\n",
    "# print(genre_testing)"
   ]
  },
  {
   "cell_type": "markdown",
   "id": "b2720057",
   "metadata": {
    "papermill": {
     "duration": 0.10792,
     "end_time": "2023-08-12T03:43:56.229680",
     "exception": false,
     "start_time": "2023-08-12T03:43:56.121760",
     "status": "completed"
    },
    "tags": []
   },
   "source": [
    "## Statistical tests  "
   ]
  },
  {
   "cell_type": "markdown",
   "id": "3f72cd5f",
   "metadata": {
    "papermill": {
     "duration": 0.109515,
     "end_time": "2023-08-12T03:43:56.447517",
     "exception": false,
     "start_time": "2023-08-12T03:43:56.338002",
     "status": "completed"
    },
    "tags": []
   },
   "source": [
    "[Go to genre](#genre_analysis)"
   ]
  },
  {
   "cell_type": "code",
   "execution_count": 131,
   "id": "52e2f7ed",
   "metadata": {
    "execution": {
     "iopub.execute_input": "2023-08-12T03:43:56.662310Z",
     "iopub.status.busy": "2023-08-12T03:43:56.661921Z",
     "iopub.status.idle": "2023-08-12T03:43:56.667357Z",
     "shell.execute_reply": "2023-08-12T03:43:56.665833Z"
    },
    "papermill": {
     "duration": 0.115854,
     "end_time": "2023-08-12T03:43:56.670028",
     "exception": false,
     "start_time": "2023-08-12T03:43:56.554174",
     "status": "completed"
    },
    "tags": []
   },
   "outputs": [],
   "source": [
    "# print(merged['boxOffice'].head())\n",
    "# merged[\"boxOffice\"].describe()"
   ]
  },
  {
   "cell_type": "code",
   "execution_count": 132,
   "id": "a400a31c",
   "metadata": {
    "execution": {
     "iopub.execute_input": "2023-08-12T03:43:56.888455Z",
     "iopub.status.busy": "2023-08-12T03:43:56.887695Z",
     "iopub.status.idle": "2023-08-12T03:43:56.892252Z",
     "shell.execute_reply": "2023-08-12T03:43:56.891520Z"
    },
    "papermill": {
     "duration": 0.115324,
     "end_time": "2023-08-12T03:43:56.894667",
     "exception": false,
     "start_time": "2023-08-12T03:43:56.779343",
     "status": "completed"
    },
    "tags": []
   },
   "outputs": [],
   "source": [
    "# Function for independent samples t-test on numerical columns  \n",
    "# def ttest_ind(feature):\n",
    "#     pos_grp = merged[feature].loc[merged['sentiment'] == \"POSITIVE\"]\n",
    "#     neg_grp = merged[feature].loc[merged['sentiment'] == \"NEGATIVE\"]\n",
    "\n",
    "#     print(pos_grp.shape, neg_grp.shape)\n",
    "#     print(pos_grp.describe(), neg_grp.describe())\n",
    "\n",
    "#     return stats.ttest_ind(pos_grp, neg_grp)"
   ]
  },
  {
   "cell_type": "code",
   "execution_count": 133,
   "id": "b0d2e857",
   "metadata": {
    "execution": {
     "iopub.execute_input": "2023-08-12T03:43:57.110248Z",
     "iopub.status.busy": "2023-08-12T03:43:57.109498Z",
     "iopub.status.idle": "2023-08-12T03:43:57.113418Z",
     "shell.execute_reply": "2023-08-12T03:43:57.112652Z"
    },
    "papermill": {
     "duration": 0.114826,
     "end_time": "2023-08-12T03:43:57.115566",
     "exception": false,
     "start_time": "2023-08-12T03:43:57.000740",
     "status": "completed"
    },
    "tags": []
   },
   "outputs": [],
   "source": [
    "# ttest_ind('boxOffice')"
   ]
  },
  {
   "cell_type": "code",
   "execution_count": 134,
   "id": "a640421c",
   "metadata": {
    "execution": {
     "iopub.execute_input": "2023-08-12T03:43:57.333663Z",
     "iopub.status.busy": "2023-08-12T03:43:57.333181Z",
     "iopub.status.idle": "2023-08-12T03:43:57.337291Z",
     "shell.execute_reply": "2023-08-12T03:43:57.336473Z"
    },
    "papermill": {
     "duration": 0.115805,
     "end_time": "2023-08-12T03:43:57.339828",
     "exception": false,
     "start_time": "2023-08-12T03:43:57.224023",
     "status": "completed"
    },
    "tags": []
   },
   "outputs": [],
   "source": [
    "# ttest_ind('runtimeMinutes')"
   ]
  },
  {
   "cell_type": "code",
   "execution_count": 135,
   "id": "8fe875cd",
   "metadata": {
    "execution": {
     "iopub.execute_input": "2023-08-12T03:43:57.557223Z",
     "iopub.status.busy": "2023-08-12T03:43:57.556531Z",
     "iopub.status.idle": "2023-08-12T03:43:57.560425Z",
     "shell.execute_reply": "2023-08-12T03:43:57.559620Z"
    },
    "papermill": {
     "duration": 0.116286,
     "end_time": "2023-08-12T03:43:57.562643",
     "exception": false,
     "start_time": "2023-08-12T03:43:57.446357",
     "status": "completed"
    },
    "tags": []
   },
   "outputs": [],
   "source": [
    "# ttest_ind('audienceScore')"
   ]
  },
  {
   "cell_type": "code",
   "execution_count": 136,
   "id": "c12b1131",
   "metadata": {
    "execution": {
     "iopub.execute_input": "2023-08-12T03:43:57.850644Z",
     "iopub.status.busy": "2023-08-12T03:43:57.849932Z",
     "iopub.status.idle": "2023-08-12T03:43:57.853791Z",
     "shell.execute_reply": "2023-08-12T03:43:57.853052Z"
    },
    "papermill": {
     "duration": 0.185516,
     "end_time": "2023-08-12T03:43:57.855984",
     "exception": false,
     "start_time": "2023-08-12T03:43:57.670468",
     "status": "completed"
    },
    "tags": []
   },
   "outputs": [],
   "source": [
    "# sns.boxplot(x=merged['sentiment'], y=merged['boxOffice'])"
   ]
  },
  {
   "cell_type": "markdown",
   "id": "dbdb9372",
   "metadata": {
    "papermill": {
     "duration": 0.108249,
     "end_time": "2023-08-12T03:43:58.071509",
     "exception": false,
     "start_time": "2023-08-12T03:43:57.963260",
     "status": "completed"
    },
    "tags": []
   },
   "source": [
    "## <div id='genre_analysis'>Genre analysis</div>"
   ]
  },
  {
   "cell_type": "code",
   "execution_count": 137,
   "id": "aeef3de8",
   "metadata": {
    "execution": {
     "iopub.execute_input": "2023-08-12T03:43:58.289139Z",
     "iopub.status.busy": "2023-08-12T03:43:58.288722Z",
     "iopub.status.idle": "2023-08-12T03:43:58.293691Z",
     "shell.execute_reply": "2023-08-12T03:43:58.292483Z"
    },
    "papermill": {
     "duration": 0.11525,
     "end_time": "2023-08-12T03:43:58.296336",
     "exception": false,
     "start_time": "2023-08-12T03:43:58.181086",
     "status": "completed"
    },
    "tags": []
   },
   "outputs": [],
   "source": [
    "# genre_analysis = merged[[\"genre\", \"genreSorted\", \"sentiment\"]].copy()\n",
    "# # print(genre_analysis.head())\n",
    "# # genre_analysis[\"genre\"] = genre_analysis[\"genre\"].apply(lambda x: (\",\").join(sorted(x.split(\", \"))))\n",
    "# genre_analysis.head()"
   ]
  },
  {
   "cell_type": "code",
   "execution_count": 138,
   "id": "2ffac788",
   "metadata": {
    "execution": {
     "iopub.execute_input": "2023-08-12T03:43:58.517270Z",
     "iopub.status.busy": "2023-08-12T03:43:58.516845Z",
     "iopub.status.idle": "2023-08-12T03:43:58.521457Z",
     "shell.execute_reply": "2023-08-12T03:43:58.520139Z"
    },
    "papermill": {
     "duration": 0.118791,
     "end_time": "2023-08-12T03:43:58.523804",
     "exception": false,
     "start_time": "2023-08-12T03:43:58.405013",
     "status": "completed"
    },
    "tags": []
   },
   "outputs": [],
   "source": [
    "# cvec_g = CountVectorizer(ngram_range=(1,3))\n",
    "# cvec_g.fit(genre_analysis['genre'])\n",
    "# # len(cvec_g.vocabulary_), cvec_g.vocabulary_"
   ]
  },
  {
   "cell_type": "code",
   "execution_count": 139,
   "id": "2a6d6131",
   "metadata": {
    "execution": {
     "iopub.execute_input": "2023-08-12T03:43:58.737109Z",
     "iopub.status.busy": "2023-08-12T03:43:58.736717Z",
     "iopub.status.idle": "2023-08-12T03:43:58.740737Z",
     "shell.execute_reply": "2023-08-12T03:43:58.739903Z"
    },
    "papermill": {
     "duration": 0.114148,
     "end_time": "2023-08-12T03:43:58.742750",
     "exception": false,
     "start_time": "2023-08-12T03:43:58.628602",
     "status": "completed"
    },
    "tags": []
   },
   "outputs": [],
   "source": [
    "# cvec_gSorted = CountVectorizer(ngram_range=(1,3))\n",
    "# cvec_gSorted.fit(genre_analysis['genreSorted'])\n",
    "# len(cvec_gSorted.vocabulary_), cvec_gSorted.vocabulary_"
   ]
  },
  {
   "cell_type": "code",
   "execution_count": 140,
   "id": "5ffc132b",
   "metadata": {
    "execution": {
     "iopub.execute_input": "2023-08-12T03:43:58.956066Z",
     "iopub.status.busy": "2023-08-12T03:43:58.955639Z",
     "iopub.status.idle": "2023-08-12T03:43:58.959612Z",
     "shell.execute_reply": "2023-08-12T03:43:58.958798Z"
    },
    "papermill": {
     "duration": 0.112996,
     "end_time": "2023-08-12T03:43:58.961794",
     "exception": false,
     "start_time": "2023-08-12T03:43:58.848798",
     "status": "completed"
    },
    "tags": []
   },
   "outputs": [],
   "source": [
    "# genre_testing = cvec_g.transform(merged[\"genre\"])\n",
    "# # print(genre_testing)"
   ]
  },
  {
   "cell_type": "code",
   "execution_count": 141,
   "id": "d41014fb",
   "metadata": {
    "execution": {
     "iopub.execute_input": "2023-08-12T03:43:59.178102Z",
     "iopub.status.busy": "2023-08-12T03:43:59.177095Z",
     "iopub.status.idle": "2023-08-12T03:43:59.182303Z",
     "shell.execute_reply": "2023-08-12T03:43:59.181098Z"
    },
    "papermill": {
     "duration": 0.115249,
     "end_time": "2023-08-12T03:43:59.184865",
     "exception": false,
     "start_time": "2023-08-12T03:43:59.069616",
     "status": "completed"
    },
    "tags": []
   },
   "outputs": [],
   "source": [
    "# genre_counts_testing = merged[[\"genre\", \"sentiment\"]].copy()\n",
    "# genre_counts_testing[\"gCount\"] = genre_counts_testing.apply(lambda x: len(str(x[\"genre\"]).split()), axis=1)\n",
    "# genre_counts_testing"
   ]
  },
  {
   "cell_type": "code",
   "execution_count": 142,
   "id": "50aebe14",
   "metadata": {
    "execution": {
     "iopub.execute_input": "2023-08-12T03:43:59.398439Z",
     "iopub.status.busy": "2023-08-12T03:43:59.397673Z",
     "iopub.status.idle": "2023-08-12T03:43:59.402140Z",
     "shell.execute_reply": "2023-08-12T03:43:59.400930Z"
    },
    "papermill": {
     "duration": 0.114314,
     "end_time": "2023-08-12T03:43:59.404933",
     "exception": false,
     "start_time": "2023-08-12T03:43:59.290619",
     "status": "completed"
    },
    "tags": []
   },
   "outputs": [],
   "source": [
    "# sns.boxplot(y=genre_counts_testing[\"gCount\"], x=genre_counts_testing[\"sentiment\"])"
   ]
  },
  {
   "cell_type": "code",
   "execution_count": 143,
   "id": "ff91e6a2",
   "metadata": {
    "execution": {
     "iopub.execute_input": "2023-08-12T03:43:59.622294Z",
     "iopub.status.busy": "2023-08-12T03:43:59.621444Z",
     "iopub.status.idle": "2023-08-12T03:43:59.625766Z",
     "shell.execute_reply": "2023-08-12T03:43:59.624997Z"
    },
    "papermill": {
     "duration": 0.115155,
     "end_time": "2023-08-12T03:43:59.628058",
     "exception": false,
     "start_time": "2023-08-12T03:43:59.512903",
     "status": "completed"
    },
    "tags": []
   },
   "outputs": [],
   "source": [
    "# sns.boxplot(y=merged[\"reviewWC\"], x=merged[\"sentiment\"])"
   ]
  },
  {
   "cell_type": "code",
   "execution_count": 144,
   "id": "39681abc",
   "metadata": {
    "execution": {
     "iopub.execute_input": "2023-08-12T03:43:59.846703Z",
     "iopub.status.busy": "2023-08-12T03:43:59.846238Z",
     "iopub.status.idle": "2023-08-12T03:43:59.850983Z",
     "shell.execute_reply": "2023-08-12T03:43:59.849708Z"
    },
    "papermill": {
     "duration": 0.118836,
     "end_time": "2023-08-12T03:43:59.853311",
     "exception": false,
     "start_time": "2023-08-12T03:43:59.734475",
     "status": "completed"
    },
    "tags": []
   },
   "outputs": [],
   "source": [
    "# audienceScore bins\n",
    "# asc = merged[['audienceScore', 'sentiment']].copy()\n",
    "# asc.head()"
   ]
  },
  {
   "cell_type": "code",
   "execution_count": 145,
   "id": "9ba27583",
   "metadata": {
    "execution": {
     "iopub.execute_input": "2023-08-12T03:44:00.093940Z",
     "iopub.status.busy": "2023-08-12T03:44:00.093544Z",
     "iopub.status.idle": "2023-08-12T03:44:00.097837Z",
     "shell.execute_reply": "2023-08-12T03:44:00.096990Z"
    },
    "papermill": {
     "duration": 0.136839,
     "end_time": "2023-08-12T03:44:00.100553",
     "exception": false,
     "start_time": "2023-08-12T03:43:59.963714",
     "status": "completed"
    },
    "tags": []
   },
   "outputs": [],
   "source": [
    "# Binning numerical features  \n",
    "\n",
    "# print(merged[\"runtimeBins\"].value_counts())\n",
    "# sns.displot(merged[\"runtimeBins\"])"
   ]
  },
  {
   "cell_type": "code",
   "execution_count": 146,
   "id": "8f78dbfa",
   "metadata": {
    "execution": {
     "iopub.execute_input": "2023-08-12T03:44:00.316005Z",
     "iopub.status.busy": "2023-08-12T03:44:00.315609Z",
     "iopub.status.idle": "2023-08-12T03:44:00.320835Z",
     "shell.execute_reply": "2023-08-12T03:44:00.319479Z"
    },
    "papermill": {
     "duration": 0.115746,
     "end_time": "2023-08-12T03:44:00.323466",
     "exception": false,
     "start_time": "2023-08-12T03:44:00.207720",
     "status": "completed"
    },
    "tags": []
   },
   "outputs": [],
   "source": [
    "# Chi-square test for isFrequentReviewer column and sentiment column   \n",
    "\n",
    "# contingency_table = pd.crosstab(traindf['isFrequentReviewer'], traindf['sentiment'])\n",
    "# print(contingency_table)\n",
    "# stats.chi2_contingency(contingency_table)"
   ]
  },
  {
   "cell_type": "markdown",
   "id": "eb8e21b7",
   "metadata": {
    "papermill": {
     "duration": 0.110455,
     "end_time": "2023-08-12T03:44:00.548958",
     "exception": false,
     "start_time": "2023-08-12T03:44:00.438503",
     "status": "completed"
    },
    "tags": []
   },
   "source": [
    "## Baseline performance of 'reviewText' column  "
   ]
  },
  {
   "cell_type": "code",
   "execution_count": 147,
   "id": "ecf03bd1",
   "metadata": {
    "execution": {
     "iopub.execute_input": "2023-08-12T03:44:00.762384Z",
     "iopub.status.busy": "2023-08-12T03:44:00.761980Z",
     "iopub.status.idle": "2023-08-12T03:44:00.766650Z",
     "shell.execute_reply": "2023-08-12T03:44:00.765476Z"
    },
    "papermill": {
     "duration": 0.114266,
     "end_time": "2023-08-12T03:44:00.768895",
     "exception": false,
     "start_time": "2023-08-12T03:44:00.654629",
     "status": "completed"
    },
    "tags": []
   },
   "outputs": [],
   "source": [
    "# rt_dict = {'txt': ['reviewText']}\n",
    "# rt_dict"
   ]
  },
  {
   "cell_type": "code",
   "execution_count": 148,
   "id": "902aed71",
   "metadata": {
    "execution": {
     "iopub.execute_input": "2023-08-12T03:44:00.984622Z",
     "iopub.status.busy": "2023-08-12T03:44:00.983526Z",
     "iopub.status.idle": "2023-08-12T03:44:00.988757Z",
     "shell.execute_reply": "2023-08-12T03:44:00.987612Z"
    },
    "papermill": {
     "duration": 0.115106,
     "end_time": "2023-08-12T03:44:00.991137",
     "exception": false,
     "start_time": "2023-08-12T03:44:00.876031",
     "status": "completed"
    },
    "tags": []
   },
   "outputs": [],
   "source": [
    "# submit_v4(selected_model=LogisticRegression(C=5, solver=\"saga\", max_iter=100000),\n",
    "#           selected_features=rt_dict,\n",
    "#           param_grid=None,\n",
    "#           vocab=None)"
   ]
  },
  {
   "cell_type": "markdown",
   "id": "8c969b3b",
   "metadata": {
    "papermill": {
     "duration": 0.106936,
     "end_time": "2023-08-12T03:44:01.205735",
     "exception": false,
     "start_time": "2023-08-12T03:44:01.098799",
     "status": "completed"
    },
    "tags": []
   },
   "source": [
    "## RFE  "
   ]
  },
  {
   "cell_type": "code",
   "execution_count": 149,
   "id": "58db27f3",
   "metadata": {
    "execution": {
     "iopub.execute_input": "2023-08-12T03:44:01.424042Z",
     "iopub.status.busy": "2023-08-12T03:44:01.423318Z",
     "iopub.status.idle": "2023-08-12T03:44:01.428656Z",
     "shell.execute_reply": "2023-08-12T03:44:01.427640Z"
    },
    "papermill": {
     "duration": 0.117323,
     "end_time": "2023-08-12T03:44:01.430780",
     "exception": false,
     "start_time": "2023-08-12T03:44:01.313457",
     "status": "completed"
    },
    "tags": []
   },
   "outputs": [],
   "source": [
    "# def fs_rfe(selector, text_df, labels, ngram_range=(1,1)):\n",
    "#     text_df_ngram = TfidfVectorizer(ngram_range=ngram_range, stop_words='english').fit_transform(text_df)\n",
    "#     print(\"text_df was vectorized using TF-IDF vectorizer with ngram_range: \", ngram_range)\n",
    "#     print(\"text_df.shape: \", text_df.shape)\n",
    "#     print(\"labels.shape: \", labels.shape)\n",
    "#     print(\"text_df_ngram.shape: \", text_df_ngram.shape)\n",
    "#     print()\n",
    "\n",
    "#     print(\"Starting RFE fit...\")\n",
    "#     selector.fit(text_df_ngram, labels)\n",
    "#     print(\"RFE fit complete.\\n\")\n",
    "    \n",
    "#     print(\"selector.n_features_: \", selector.n_features_)   \n",
    "#     print(\"selector.n_features_in_: \", selector.n_features_in_)\n",
    "#     print(\"selector.support_.shape: \", selector.support_.shape)\n",
    "\n",
    "#     return selector.support_"
   ]
  },
  {
   "cell_type": "markdown",
   "id": "a427e3b5",
   "metadata": {
    "papermill": {
     "duration": 0.105703,
     "end_time": "2023-08-12T03:44:01.645648",
     "exception": false,
     "start_time": "2023-08-12T03:44:01.539945",
     "status": "completed"
    },
    "tags": []
   },
   "source": [
    "`RFE for unigrams`  "
   ]
  },
  {
   "cell_type": "code",
   "execution_count": 150,
   "id": "b719792d",
   "metadata": {
    "execution": {
     "iopub.execute_input": "2023-08-12T03:44:01.859944Z",
     "iopub.status.busy": "2023-08-12T03:44:01.858884Z",
     "iopub.status.idle": "2023-08-12T03:44:01.863148Z",
     "shell.execute_reply": "2023-08-12T03:44:01.862356Z"
    },
    "papermill": {
     "duration": 0.113538,
     "end_time": "2023-08-12T03:44:01.865313",
     "exception": false,
     "start_time": "2023-08-12T03:44:01.751775",
     "status": "completed"
    },
    "tags": []
   },
   "outputs": [],
   "source": [
    "# estimator_rfe_1 = LogisticRegression(solver='saga', max_iter=100000)\n",
    "# selector_rfe_1 = RFE(estimator_rfe_1, step=0.1, n_features_to_select=30000)"
   ]
  },
  {
   "cell_type": "code",
   "execution_count": 151,
   "id": "2539ccdd",
   "metadata": {
    "execution": {
     "iopub.execute_input": "2023-08-12T03:44:02.081997Z",
     "iopub.status.busy": "2023-08-12T03:44:02.081559Z",
     "iopub.status.idle": "2023-08-12T03:44:02.086701Z",
     "shell.execute_reply": "2023-08-12T03:44:02.085448Z"
    },
    "papermill": {
     "duration": 0.118119,
     "end_time": "2023-08-12T03:44:02.089241",
     "exception": false,
     "start_time": "2023-08-12T03:44:01.971122",
     "status": "completed"
    },
    "tags": []
   },
   "outputs": [],
   "source": [
    "# rfe_1_feat_mask = fs_rfe(selector_rfe_1, rt_senti[\"reviewText\"], rt_senti[\"sentiment\"], ngram_range=(1,1))\n",
    "# rfe_1_feat_mask"
   ]
  },
  {
   "cell_type": "code",
   "execution_count": 152,
   "id": "ef36fa11",
   "metadata": {
    "execution": {
     "iopub.execute_input": "2023-08-12T03:44:02.303558Z",
     "iopub.status.busy": "2023-08-12T03:44:02.303122Z",
     "iopub.status.idle": "2023-08-12T03:44:02.307761Z",
     "shell.execute_reply": "2023-08-12T03:44:02.306710Z"
    },
    "papermill": {
     "duration": 0.114007,
     "end_time": "2023-08-12T03:44:02.310280",
     "exception": false,
     "start_time": "2023-08-12T03:44:02.196273",
     "status": "completed"
    },
    "tags": []
   },
   "outputs": [],
   "source": [
    "# voc_1gram_rfe = list(compress(voc_1gram, rfe_1_feat_mask))\n",
    "# len(voc_1gram_rfe), voc_1gram_rfe[:10]"
   ]
  },
  {
   "cell_type": "markdown",
   "id": "381c87c0",
   "metadata": {
    "papermill": {
     "duration": 0.106209,
     "end_time": "2023-08-12T03:44:02.521710",
     "exception": false,
     "start_time": "2023-08-12T03:44:02.415501",
     "status": "completed"
    },
    "tags": []
   },
   "source": [
    "`RFE for bigrams`  "
   ]
  },
  {
   "cell_type": "code",
   "execution_count": 153,
   "id": "21980f5b",
   "metadata": {
    "execution": {
     "iopub.execute_input": "2023-08-12T03:44:02.738440Z",
     "iopub.status.busy": "2023-08-12T03:44:02.737981Z",
     "iopub.status.idle": "2023-08-12T03:44:02.742850Z",
     "shell.execute_reply": "2023-08-12T03:44:02.741642Z"
    },
    "papermill": {
     "duration": 0.11431,
     "end_time": "2023-08-12T03:44:02.745025",
     "exception": false,
     "start_time": "2023-08-12T03:44:02.630715",
     "status": "completed"
    },
    "tags": []
   },
   "outputs": [],
   "source": [
    "# estimator_rfe_2 = LogisticRegression(solver='saga', max_iter=100000)\n",
    "# selector_rfe_2 = RFE(estimator_rfe_2, step=0.1, n_features_to_select=50000)"
   ]
  },
  {
   "cell_type": "code",
   "execution_count": 154,
   "id": "237bbfd7",
   "metadata": {
    "execution": {
     "iopub.execute_input": "2023-08-12T03:44:02.961271Z",
     "iopub.status.busy": "2023-08-12T03:44:02.960821Z",
     "iopub.status.idle": "2023-08-12T03:44:02.966360Z",
     "shell.execute_reply": "2023-08-12T03:44:02.965156Z"
    },
    "papermill": {
     "duration": 0.115987,
     "end_time": "2023-08-12T03:44:02.969129",
     "exception": false,
     "start_time": "2023-08-12T03:44:02.853142",
     "status": "completed"
    },
    "tags": []
   },
   "outputs": [],
   "source": [
    "# rfe_2_feat_mask = fs_rfe(selector_rfe_2, rt_senti[\"reviewText\"], rt_senti[\"sentiment\"], ngram_range=(2,2))\n",
    "# rfe_2_feat_mask"
   ]
  },
  {
   "cell_type": "code",
   "execution_count": 155,
   "id": "ba6121e4",
   "metadata": {
    "execution": {
     "iopub.execute_input": "2023-08-12T03:44:03.184556Z",
     "iopub.status.busy": "2023-08-12T03:44:03.184167Z",
     "iopub.status.idle": "2023-08-12T03:44:03.188372Z",
     "shell.execute_reply": "2023-08-12T03:44:03.187364Z"
    },
    "papermill": {
     "duration": 0.115383,
     "end_time": "2023-08-12T03:44:03.190599",
     "exception": false,
     "start_time": "2023-08-12T03:44:03.075216",
     "status": "completed"
    },
    "tags": []
   },
   "outputs": [],
   "source": [
    "# voc_2gram_rfe = list(compress(voc_2gram, rfe_2_feat_mask))\n",
    "# len(voc_2gram_rfe), voc_2gram_rfe[:10]"
   ]
  },
  {
   "cell_type": "markdown",
   "id": "ff6c851a",
   "metadata": {
    "papermill": {
     "duration": 0.105677,
     "end_time": "2023-08-12T03:44:03.406612",
     "exception": false,
     "start_time": "2023-08-12T03:44:03.300935",
     "status": "completed"
    },
    "tags": []
   },
   "source": [
    "## Final RFE-derived vocabulary  "
   ]
  },
  {
   "cell_type": "code",
   "execution_count": 156,
   "id": "6a84fc61",
   "metadata": {
    "execution": {
     "iopub.execute_input": "2023-08-12T03:44:03.623220Z",
     "iopub.status.busy": "2023-08-12T03:44:03.622830Z",
     "iopub.status.idle": "2023-08-12T03:44:03.626692Z",
     "shell.execute_reply": "2023-08-12T03:44:03.625703Z"
    },
    "papermill": {
     "duration": 0.11689,
     "end_time": "2023-08-12T03:44:03.629111",
     "exception": false,
     "start_time": "2023-08-12T03:44:03.512221",
     "status": "completed"
    },
    "tags": []
   },
   "outputs": [],
   "source": [
    "# rfe_vocab = voc_1gram_rfe + voc_2gram_rfe\n",
    "# len(rfe_vocab), rfe_vocab[:10], rfe_vocab[-10:]"
   ]
  },
  {
   "cell_type": "code",
   "execution_count": 157,
   "id": "81c881cb",
   "metadata": {
    "execution": {
     "iopub.execute_input": "2023-08-12T03:44:03.844605Z",
     "iopub.status.busy": "2023-08-12T03:44:03.843987Z",
     "iopub.status.idle": "2023-08-12T03:44:03.847981Z",
     "shell.execute_reply": "2023-08-12T03:44:03.847081Z"
    },
    "papermill": {
     "duration": 0.114908,
     "end_time": "2023-08-12T03:44:03.850157",
     "exception": false,
     "start_time": "2023-08-12T03:44:03.735249",
     "status": "completed"
    },
    "tags": []
   },
   "outputs": [],
   "source": [
    "## Test RFE obtained vocabulary in final pipeline (only with reviewText)  \n",
    "# submit_v4(selected_model=LogisticRegression(C=5, solver=\"saga\", max_iter=100000),\n",
    "#           selected_features=rt_dict,\n",
    "#           param_grid=None,\n",
    "#           vocab=rfe_vocab)"
   ]
  },
  {
   "cell_type": "markdown",
   "id": "2c372697",
   "metadata": {
    "papermill": {
     "duration": 0.106132,
     "end_time": "2023-08-12T03:44:04.062378",
     "exception": false,
     "start_time": "2023-08-12T03:44:03.956246",
     "status": "completed"
    },
    "tags": []
   },
   "source": [
    "## Use rfe_vocab in final pipeline with all params  "
   ]
  },
  {
   "cell_type": "code",
   "execution_count": 158,
   "id": "04504d56",
   "metadata": {
    "execution": {
     "iopub.execute_input": "2023-08-12T03:44:04.279310Z",
     "iopub.status.busy": "2023-08-12T03:44:04.278889Z",
     "iopub.status.idle": "2023-08-12T03:44:04.283351Z",
     "shell.execute_reply": "2023-08-12T03:44:04.282300Z"
    },
    "papermill": {
     "duration": 0.115541,
     "end_time": "2023-08-12T03:44:04.285626",
     "exception": false,
     "start_time": "2023-08-12T03:44:04.170085",
     "status": "completed"
    },
    "tags": []
   },
   "outputs": [],
   "source": [
    "# submit_v4(selected_model=LogisticRegression(max_iter=100000),\n",
    "#           selected_features=all_dict,\n",
    "#           param_grid=param_grid,\n",
    "#           vocab=rfe_vocab)"
   ]
  },
  {
   "cell_type": "code",
   "execution_count": 159,
   "id": "036efd7a",
   "metadata": {
    "execution": {
     "iopub.execute_input": "2023-08-12T03:44:04.499738Z",
     "iopub.status.busy": "2023-08-12T03:44:04.498922Z",
     "iopub.status.idle": "2023-08-12T03:44:04.511567Z",
     "shell.execute_reply": "2023-08-12T03:44:04.510435Z"
    },
    "papermill": {
     "duration": 0.122673,
     "end_time": "2023-08-12T03:44:04.514049",
     "exception": false,
     "start_time": "2023-08-12T03:44:04.391376",
     "status": "completed"
    },
    "tags": []
   },
   "outputs": [
    {
     "data": {
      "text/html": [
       "<style>#sk-container-id-1 {color: black;background-color: white;}#sk-container-id-1 pre{padding: 0;}#sk-container-id-1 div.sk-toggleable {background-color: white;}#sk-container-id-1 label.sk-toggleable__label {cursor: pointer;display: block;width: 100%;margin-bottom: 0;padding: 0.3em;box-sizing: border-box;text-align: center;}#sk-container-id-1 label.sk-toggleable__label-arrow:before {content: \"▸\";float: left;margin-right: 0.25em;color: #696969;}#sk-container-id-1 label.sk-toggleable__label-arrow:hover:before {color: black;}#sk-container-id-1 div.sk-estimator:hover label.sk-toggleable__label-arrow:before {color: black;}#sk-container-id-1 div.sk-toggleable__content {max-height: 0;max-width: 0;overflow: hidden;text-align: left;background-color: #f0f8ff;}#sk-container-id-1 div.sk-toggleable__content pre {margin: 0.2em;color: black;border-radius: 0.25em;background-color: #f0f8ff;}#sk-container-id-1 input.sk-toggleable__control:checked~div.sk-toggleable__content {max-height: 200px;max-width: 100%;overflow: auto;}#sk-container-id-1 input.sk-toggleable__control:checked~label.sk-toggleable__label-arrow:before {content: \"▾\";}#sk-container-id-1 div.sk-estimator input.sk-toggleable__control:checked~label.sk-toggleable__label {background-color: #d4ebff;}#sk-container-id-1 div.sk-label input.sk-toggleable__control:checked~label.sk-toggleable__label {background-color: #d4ebff;}#sk-container-id-1 input.sk-hidden--visually {border: 0;clip: rect(1px 1px 1px 1px);clip: rect(1px, 1px, 1px, 1px);height: 1px;margin: -1px;overflow: hidden;padding: 0;position: absolute;width: 1px;}#sk-container-id-1 div.sk-estimator {font-family: monospace;background-color: #f0f8ff;border: 1px dotted black;border-radius: 0.25em;box-sizing: border-box;margin-bottom: 0.5em;}#sk-container-id-1 div.sk-estimator:hover {background-color: #d4ebff;}#sk-container-id-1 div.sk-parallel-item::after {content: \"\";width: 100%;border-bottom: 1px solid gray;flex-grow: 1;}#sk-container-id-1 div.sk-label:hover label.sk-toggleable__label {background-color: #d4ebff;}#sk-container-id-1 div.sk-serial::before {content: \"\";position: absolute;border-left: 1px solid gray;box-sizing: border-box;top: 0;bottom: 0;left: 50%;z-index: 0;}#sk-container-id-1 div.sk-serial {display: flex;flex-direction: column;align-items: center;background-color: white;padding-right: 0.2em;padding-left: 0.2em;position: relative;}#sk-container-id-1 div.sk-item {position: relative;z-index: 1;}#sk-container-id-1 div.sk-parallel {display: flex;align-items: stretch;justify-content: center;background-color: white;position: relative;}#sk-container-id-1 div.sk-item::before, #sk-container-id-1 div.sk-parallel-item::before {content: \"\";position: absolute;border-left: 1px solid gray;box-sizing: border-box;top: 0;bottom: 0;left: 50%;z-index: -1;}#sk-container-id-1 div.sk-parallel-item {display: flex;flex-direction: column;z-index: 1;position: relative;background-color: white;}#sk-container-id-1 div.sk-parallel-item:first-child::after {align-self: flex-end;width: 50%;}#sk-container-id-1 div.sk-parallel-item:last-child::after {align-self: flex-start;width: 50%;}#sk-container-id-1 div.sk-parallel-item:only-child::after {width: 0;}#sk-container-id-1 div.sk-dashed-wrapped {border: 1px dashed gray;margin: 0 0.4em 0.5em 0.4em;box-sizing: border-box;padding-bottom: 0.4em;background-color: white;}#sk-container-id-1 div.sk-label label {font-family: monospace;font-weight: bold;display: inline-block;line-height: 1.2em;}#sk-container-id-1 div.sk-label-container {text-align: center;}#sk-container-id-1 div.sk-container {/* jupyter's `normalize.less` sets `[hidden] { display: none; }` but bootstrap.min.css set `[hidden] { display: none !important; }` so we also need the `!important` here to be able to override the default hidden behavior on the sphinx rendered scikit-learn.org. See: https://github.com/scikit-learn/scikit-learn/issues/21755 */display: inline-block !important;position: relative;}#sk-container-id-1 div.sk-text-repr-fallback {display: none;}</style><div id=\"sk-container-id-1\" class=\"sk-top-container\"><div class=\"sk-text-repr-fallback\"><pre>AdaBoostClassifier(estimator=LogisticRegression(C=5, max_iter=100000,\n",
       "                                                solver=&#x27;saga&#x27;))</pre><b>In a Jupyter environment, please rerun this cell to show the HTML representation or trust the notebook. <br />On GitHub, the HTML representation is unable to render, please try loading this page with nbviewer.org.</b></div><div class=\"sk-container\" hidden><div class=\"sk-item sk-dashed-wrapped\"><div class=\"sk-label-container\"><div class=\"sk-label sk-toggleable\"><input class=\"sk-toggleable__control sk-hidden--visually\" id=\"sk-estimator-id-1\" type=\"checkbox\" ><label for=\"sk-estimator-id-1\" class=\"sk-toggleable__label sk-toggleable__label-arrow\">AdaBoostClassifier</label><div class=\"sk-toggleable__content\"><pre>AdaBoostClassifier(estimator=LogisticRegression(C=5, max_iter=100000,\n",
       "                                                solver=&#x27;saga&#x27;))</pre></div></div></div><div class=\"sk-parallel\"><div class=\"sk-parallel-item\"><div class=\"sk-item\"><div class=\"sk-label-container\"><div class=\"sk-label sk-toggleable\"><input class=\"sk-toggleable__control sk-hidden--visually\" id=\"sk-estimator-id-2\" type=\"checkbox\" ><label for=\"sk-estimator-id-2\" class=\"sk-toggleable__label sk-toggleable__label-arrow\">estimator: LogisticRegression</label><div class=\"sk-toggleable__content\"><pre>LogisticRegression(C=5, max_iter=100000, solver=&#x27;saga&#x27;)</pre></div></div></div><div class=\"sk-serial\"><div class=\"sk-item\"><div class=\"sk-estimator sk-toggleable\"><input class=\"sk-toggleable__control sk-hidden--visually\" id=\"sk-estimator-id-3\" type=\"checkbox\" ><label for=\"sk-estimator-id-3\" class=\"sk-toggleable__label sk-toggleable__label-arrow\">LogisticRegression</label><div class=\"sk-toggleable__content\"><pre>LogisticRegression(C=5, max_iter=100000, solver=&#x27;saga&#x27;)</pre></div></div></div></div></div></div></div></div></div></div>"
      ],
      "text/plain": [
       "AdaBoostClassifier(estimator=LogisticRegression(C=5, max_iter=100000,\n",
       "                                                solver='saga'))"
      ]
     },
     "execution_count": 159,
     "metadata": {},
     "output_type": "execute_result"
    }
   ],
   "source": [
    "adc = AdaBoostClassifier(estimator=LogisticRegression(C=5, solver=\"saga\", max_iter=100000), n_estimators=50)\n",
    "adc"
   ]
  },
  {
   "cell_type": "code",
   "execution_count": 160,
   "id": "33dd7da5",
   "metadata": {
    "execution": {
     "iopub.execute_input": "2023-08-12T03:44:04.731511Z",
     "iopub.status.busy": "2023-08-12T03:44:04.731075Z",
     "iopub.status.idle": "2023-08-12T03:44:04.736240Z",
     "shell.execute_reply": "2023-08-12T03:44:04.735056Z"
    },
    "papermill": {
     "duration": 0.11618,
     "end_time": "2023-08-12T03:44:04.738682",
     "exception": false,
     "start_time": "2023-08-12T03:44:04.622502",
     "status": "completed"
    },
    "tags": []
   },
   "outputs": [],
   "source": [
    "# submit_v4(selected_model=adc,\n",
    "#           selected_features={'cat': ['isFrequentReviewer']},\n",
    "#           param_grid=None,\n",
    "#           vocab=rfe_vocab)"
   ]
  },
  {
   "cell_type": "code",
   "execution_count": 161,
   "id": "bb106bef",
   "metadata": {
    "execution": {
     "iopub.execute_input": "2023-08-12T03:44:04.955145Z",
     "iopub.status.busy": "2023-08-12T03:44:04.954738Z",
     "iopub.status.idle": "2023-08-12T03:44:04.959808Z",
     "shell.execute_reply": "2023-08-12T03:44:04.958618Z"
    },
    "papermill": {
     "duration": 0.116931,
     "end_time": "2023-08-12T03:44:04.962962",
     "exception": false,
     "start_time": "2023-08-12T03:44:04.846031",
     "status": "completed"
    },
    "tags": []
   },
   "outputs": [],
   "source": [
    "# AdaBoost on all features with RFE vocab on reviewText\n",
    "\n",
    "# submit_v4(selected_model=adc,\n",
    "#           selected_features=all_dict,\n",
    "#           param_grid=None,\n",
    "#           vocab=rfe_vocab)"
   ]
  },
  {
   "cell_type": "code",
   "execution_count": 162,
   "id": "ad57d5f0",
   "metadata": {
    "execution": {
     "iopub.execute_input": "2023-08-12T03:44:05.182194Z",
     "iopub.status.busy": "2023-08-12T03:44:05.181731Z",
     "iopub.status.idle": "2023-08-12T03:44:05.186547Z",
     "shell.execute_reply": "2023-08-12T03:44:05.185385Z"
    },
    "papermill": {
     "duration": 0.117397,
     "end_time": "2023-08-12T03:44:05.188840",
     "exception": false,
     "start_time": "2023-08-12T03:44:05.071443",
     "status": "completed"
    },
    "tags": []
   },
   "outputs": [],
   "source": [
    "# RandomForestClassifier test run on one feature\n",
    "\n",
    "# rfc_2 = RandomForestClassifier()\n",
    "# rfc_2"
   ]
  },
  {
   "cell_type": "code",
   "execution_count": 163,
   "id": "05538064",
   "metadata": {
    "execution": {
     "iopub.execute_input": "2023-08-12T03:44:05.403268Z",
     "iopub.status.busy": "2023-08-12T03:44:05.402785Z",
     "iopub.status.idle": "2023-08-12T03:44:05.407444Z",
     "shell.execute_reply": "2023-08-12T03:44:05.406285Z"
    },
    "papermill": {
     "duration": 0.114715,
     "end_time": "2023-08-12T03:44:05.409590",
     "exception": false,
     "start_time": "2023-08-12T03:44:05.294875",
     "status": "completed"
    },
    "tags": []
   },
   "outputs": [],
   "source": [
    "# submit_v4(selected_model=rfc_2,\n",
    "#           selected_features={'txt': ['reviewerName']},\n",
    "#           param_grid=None,\n",
    "#           vocab=rfe_vocab)"
   ]
  },
  {
   "cell_type": "code",
   "execution_count": 164,
   "id": "13f2b463",
   "metadata": {
    "execution": {
     "iopub.execute_input": "2023-08-12T03:44:05.626457Z",
     "iopub.status.busy": "2023-08-12T03:44:05.625996Z",
     "iopub.status.idle": "2023-08-12T03:44:05.630705Z",
     "shell.execute_reply": "2023-08-12T03:44:05.629491Z"
    },
    "papermill": {
     "duration": 0.115804,
     "end_time": "2023-08-12T03:44:05.632901",
     "exception": false,
     "start_time": "2023-08-12T03:44:05.517097",
     "status": "completed"
    },
    "tags": []
   },
   "outputs": [],
   "source": [
    "# RandomForestClassifier on all features with RFE vocab on reviewText\n",
    "\n",
    "# submit_v4(selected_model=rfc_2,\n",
    "#           selected_features=all_dict,\n",
    "#           param_grid=None,\n",
    "#           vocab=rfe_vocab)"
   ]
  },
  {
   "cell_type": "markdown",
   "id": "aa5a01aa",
   "metadata": {
    "papermill": {
     "duration": 0.106934,
     "end_time": "2023-08-12T03:44:05.846270",
     "exception": false,
     "start_time": "2023-08-12T03:44:05.739336",
     "status": "completed"
    },
    "tags": []
   },
   "source": [
    "## Submit_v2 for merged file models  "
   ]
  },
  {
   "cell_type": "code",
   "execution_count": 165,
   "id": "1ac5091e",
   "metadata": {
    "execution": {
     "iopub.execute_input": "2023-08-12T03:44:06.060422Z",
     "iopub.status.busy": "2023-08-12T03:44:06.059577Z",
     "iopub.status.idle": "2023-08-12T03:44:06.065416Z",
     "shell.execute_reply": "2023-08-12T03:44:06.064564Z"
    },
    "papermill": {
     "duration": 0.115515,
     "end_time": "2023-08-12T03:44:06.067492",
     "exception": false,
     "start_time": "2023-08-12T03:44:05.951977",
     "status": "completed"
    },
    "tags": []
   },
   "outputs": [],
   "source": [
    "# def submit_v2(selected_model=pipe_final, selected_features=None):\n",
    "#     '''\n",
    "#     Note that \"selected_preprocessor\" is already used within selected_model or pipeline\n",
    "#     '''\n",
    "#     # Retrain on the whole train.csv file  \n",
    "#     merged = select_features(load_csv(\"train\"), load_csv(\"movies\"))\n",
    "#     X_train = merged.drop(labels=\"sentiment\", axis=1)\n",
    "#     y_train = merged[\"sentiment\"]\n",
    "    \n",
    "#     #Use selected features\n",
    "#     if selected_features:\n",
    "#         X_train = X_train[selected_features]\n",
    "    \n",
    "#     # Check1\n",
    "#     print(X_train.shape)\n",
    "#     print(X_train.head())\n",
    "#     try:\n",
    "#         print(selected_model.named_steps['model'].intercept_, selected_model.named_steps['model'].coef_)\n",
    "#     except:\n",
    "#         print(\"Model not trained yet!\")\n",
    "    \n",
    "#     # Fit \n",
    "#     selected_model.fit(X_train, y_train)\n",
    "    \n",
    "#     # Check2\n",
    "#     print(selected_model.named_steps['model'].intercept_, selected_model.named_steps['model'].coef_)\n",
    "    \n",
    "#     # Predict on test.csv file\n",
    "#     merged_test = select_features(load_csv(\"test\"), load_csv(\"movies\"))\n",
    "#     X_test = merged_test.copy()\n",
    "#     if selected_features:\n",
    "#         X_test = X_test[selected_features]\n",
    "    \n",
    "#     # Check3\n",
    "#     print(X_test.shape)\n",
    "#     print(X_test.head())\n",
    "    \n",
    "#     y_pred = selected_model.predict(X_test)\n",
    "    \n",
    "#     pred_df = pd.DataFrame(y_pred)\n",
    "#     pred_df.columns = [\"sentiment\"]\n",
    "#     pred_df.index.name = \"id\"\n",
    "#     pred_df.to_csv(\"submission.csv\")\n",
    "    \n",
    "#     return \"Successfully created the submission file!!!\""
   ]
  },
  {
   "cell_type": "code",
   "execution_count": 166,
   "id": "1ed3db5a",
   "metadata": {
    "execution": {
     "iopub.execute_input": "2023-08-12T03:44:06.281680Z",
     "iopub.status.busy": "2023-08-12T03:44:06.281265Z",
     "iopub.status.idle": "2023-08-12T03:44:06.285375Z",
     "shell.execute_reply": "2023-08-12T03:44:06.284572Z"
    },
    "papermill": {
     "duration": 0.113514,
     "end_time": "2023-08-12T03:44:06.287674",
     "exception": false,
     "start_time": "2023-08-12T03:44:06.174160",
     "status": "completed"
    },
    "tags": []
   },
   "outputs": [],
   "source": [
    "#     X_test = merged_test.copy()\n",
    "    \n",
    "#     y_pred = pipe_best4.predict(X_test)\n",
    "# #     np.unique(y_pred, return_counts=True)\n",
    "#     pred_df = pd.DataFrame(y_pred)\n",
    "#     pred_df.columns = [\"sentiment\"]\n",
    "#     pred_df.index.name = \"id\"\n",
    "#     pred_df.value_counts()"
   ]
  },
  {
   "cell_type": "code",
   "execution_count": 167,
   "id": "0e35962c",
   "metadata": {
    "execution": {
     "iopub.execute_input": "2023-08-12T03:44:06.503108Z",
     "iopub.status.busy": "2023-08-12T03:44:06.502362Z",
     "iopub.status.idle": "2023-08-12T03:44:06.506688Z",
     "shell.execute_reply": "2023-08-12T03:44:06.505646Z"
    },
    "papermill": {
     "duration": 0.114959,
     "end_time": "2023-08-12T03:44:06.509001",
     "exception": false,
     "start_time": "2023-08-12T03:44:06.394042",
     "status": "completed"
    },
    "tags": []
   },
   "outputs": [],
   "source": [
    "# X_test.columns"
   ]
  },
  {
   "cell_type": "markdown",
   "id": "433bd5c6",
   "metadata": {
    "papermill": {
     "duration": 0.107269,
     "end_time": "2023-08-12T03:44:06.722878",
     "exception": false,
     "start_time": "2023-08-12T03:44:06.615609",
     "status": "completed"
    },
    "tags": []
   },
   "source": [
    "### Uncomment to submit using v2 of submit function  "
   ]
  },
  {
   "cell_type": "code",
   "execution_count": 168,
   "id": "8518ea06",
   "metadata": {
    "execution": {
     "iopub.execute_input": "2023-08-12T03:44:06.937761Z",
     "iopub.status.busy": "2023-08-12T03:44:06.937310Z",
     "iopub.status.idle": "2023-08-12T03:44:06.941683Z",
     "shell.execute_reply": "2023-08-12T03:44:06.940854Z"
    },
    "papermill": {
     "duration": 0.114864,
     "end_time": "2023-08-12T03:44:06.943821",
     "exception": false,
     "start_time": "2023-08-12T03:44:06.828957",
     "status": "completed"
    },
    "tags": []
   },
   "outputs": [],
   "source": [
    "# best4 = [\"audienceScore\", \"rating\", \"isFrequentReviewer\", \"reviewText\"]\n",
    "# best4"
   ]
  },
  {
   "cell_type": "code",
   "execution_count": 169,
   "id": "bfd8e87e",
   "metadata": {
    "execution": {
     "iopub.execute_input": "2023-08-12T03:44:07.160752Z",
     "iopub.status.busy": "2023-08-12T03:44:07.160029Z",
     "iopub.status.idle": "2023-08-12T03:44:07.164465Z",
     "shell.execute_reply": "2023-08-12T03:44:07.163418Z"
    },
    "papermill": {
     "duration": 0.116272,
     "end_time": "2023-08-12T03:44:07.167045",
     "exception": false,
     "start_time": "2023-08-12T03:44:07.050773",
     "status": "completed"
    },
    "tags": []
   },
   "outputs": [],
   "source": [
    "# submit_v2(selected_model=pipe_RTonly, selected_features=['reviewText'])"
   ]
  },
  {
   "cell_type": "markdown",
   "id": "6078c294",
   "metadata": {
    "papermill": {
     "duration": 0.106627,
     "end_time": "2023-08-12T03:44:07.381416",
     "exception": false,
     "start_time": "2023-08-12T03:44:07.274789",
     "status": "completed"
    },
    "tags": []
   },
   "source": [
    "### Inspect the submission.csv file  "
   ]
  },
  {
   "cell_type": "code",
   "execution_count": 170,
   "id": "d344697f",
   "metadata": {
    "execution": {
     "iopub.execute_input": "2023-08-12T03:44:07.600614Z",
     "iopub.status.busy": "2023-08-12T03:44:07.599308Z",
     "iopub.status.idle": "2023-08-12T03:44:07.604335Z",
     "shell.execute_reply": "2023-08-12T03:44:07.603480Z"
    },
    "papermill": {
     "duration": 0.118155,
     "end_time": "2023-08-12T03:44:07.606644",
     "exception": false,
     "start_time": "2023-08-12T03:44:07.488489",
     "status": "completed"
    },
    "tags": []
   },
   "outputs": [],
   "source": [
    "# sub = pd.read_csv('submission.csv')\n",
    "# sub.shape, sub.head()"
   ]
  },
  {
   "cell_type": "code",
   "execution_count": 171,
   "id": "f0be0b91",
   "metadata": {
    "execution": {
     "iopub.execute_input": "2023-08-12T03:44:07.892608Z",
     "iopub.status.busy": "2023-08-12T03:44:07.892165Z",
     "iopub.status.idle": "2023-08-12T03:44:07.896848Z",
     "shell.execute_reply": "2023-08-12T03:44:07.895749Z"
    },
    "papermill": {
     "duration": 0.185934,
     "end_time": "2023-08-12T03:44:07.899222",
     "exception": false,
     "start_time": "2023-08-12T03:44:07.713288",
     "status": "completed"
    },
    "tags": []
   },
   "outputs": [],
   "source": [
    "# sub['sentiment'].value_counts()"
   ]
  },
  {
   "cell_type": "markdown",
   "id": "acea6488",
   "metadata": {
    "papermill": {
     "duration": 0.107524,
     "end_time": "2023-08-12T03:44:08.116736",
     "exception": false,
     "start_time": "2023-08-12T03:44:08.009212",
     "status": "completed"
    },
    "tags": []
   },
   "source": [
    "## submit_v3 for merged file models - does not retrain on whole data  "
   ]
  },
  {
   "cell_type": "code",
   "execution_count": 172,
   "id": "55429531",
   "metadata": {
    "execution": {
     "iopub.execute_input": "2023-08-12T03:44:08.333117Z",
     "iopub.status.busy": "2023-08-12T03:44:08.332301Z",
     "iopub.status.idle": "2023-08-12T03:44:08.337724Z",
     "shell.execute_reply": "2023-08-12T03:44:08.336852Z"
    },
    "papermill": {
     "duration": 0.116413,
     "end_time": "2023-08-12T03:44:08.340042",
     "exception": false,
     "start_time": "2023-08-12T03:44:08.223629",
     "status": "completed"
    },
    "tags": []
   },
   "outputs": [],
   "source": [
    "# def submit_v3(selected_model=pipe_final):\n",
    "#     '''\n",
    "#     Note that \"selected_preprocessor\" is already used within selected_model or pipeline\n",
    "#     '''\n",
    "      \n",
    "#     # Predict on test.csv file\n",
    "#     merged_test = select_features(load_csv(\"test\"), load_csv(\"movies\"))\n",
    "#     X_test = merged_test.copy()\n",
    "    \n",
    "#     X_test = X_test[[\"audienceScore\", \"rating\", \"isFrequentReviewer\", \"reviewText\"]]    # This is a new line\n",
    "\n",
    "    \n",
    "#     y_pred = selected_model.predict(X_test)\n",
    "    \n",
    "#     pred_df = pd.DataFrame(y_pred)\n",
    "#     pred_df.columns = [\"sentiment\"]\n",
    "#     pred_df.index.name = \"id\"\n",
    "#     pred_df.to_csv(\"submission.csv\")\n",
    "    \n",
    "#     return \"Successfully created the submission file!!!\""
   ]
  },
  {
   "cell_type": "markdown",
   "id": "8b4e625e",
   "metadata": {
    "papermill": {
     "duration": 0.108893,
     "end_time": "2023-08-12T03:44:08.555175",
     "exception": false,
     "start_time": "2023-08-12T03:44:08.446282",
     "status": "completed"
    },
    "tags": []
   },
   "source": [
    "### Uncomment to submit using v3 of submit function  "
   ]
  },
  {
   "cell_type": "code",
   "execution_count": 173,
   "id": "f3de4260",
   "metadata": {
    "execution": {
     "iopub.execute_input": "2023-08-12T03:44:08.773682Z",
     "iopub.status.busy": "2023-08-12T03:44:08.772885Z",
     "iopub.status.idle": "2023-08-12T03:44:08.777199Z",
     "shell.execute_reply": "2023-08-12T03:44:08.776221Z"
    },
    "papermill": {
     "duration": 0.116324,
     "end_time": "2023-08-12T03:44:08.779594",
     "exception": false,
     "start_time": "2023-08-12T03:44:08.663270",
     "status": "completed"
    },
    "tags": []
   },
   "outputs": [],
   "source": [
    "# submit_v3(selected_model=pipe_best4)"
   ]
  },
  {
   "cell_type": "markdown",
   "id": "d0d7220f",
   "metadata": {
    "papermill": {
     "duration": 0.10888,
     "end_time": "2023-08-12T03:44:08.995994",
     "exception": false,
     "start_time": "2023-08-12T03:44:08.887114",
     "status": "completed"
    },
    "tags": []
   },
   "source": [
    "## Rough work  "
   ]
  },
  {
   "cell_type": "code",
   "execution_count": 174,
   "id": "ddb46b41",
   "metadata": {
    "execution": {
     "iopub.execute_input": "2023-08-12T03:44:09.214071Z",
     "iopub.status.busy": "2023-08-12T03:44:09.213684Z",
     "iopub.status.idle": "2023-08-12T03:44:15.332987Z",
     "shell.execute_reply": "2023-08-12T03:44:15.331734Z"
    },
    "papermill": {
     "duration": 6.231569,
     "end_time": "2023-08-12T03:44:15.336331",
     "exception": false,
     "start_time": "2023-08-12T03:44:09.104762",
     "status": "completed"
    },
    "tags": []
   },
   "outputs": [],
   "source": [
    "    # Predict on test.csv file\n",
    "    merged_test = select_features(load_csv(\"test\"), load_csv(\"movies\"))\n",
    "    X_test = merged_test.copy()\n",
    "    \n",
    "    X_test = X_test[[\"audienceScore\", \"rating\", \"isFrequentReviewer\", \"reviewText\"]]    # This is a new line"
   ]
  },
  {
   "cell_type": "code",
   "execution_count": 175,
   "id": "c5a9d3b7",
   "metadata": {
    "execution": {
     "iopub.execute_input": "2023-08-12T03:44:15.554527Z",
     "iopub.status.busy": "2023-08-12T03:44:15.553705Z",
     "iopub.status.idle": "2023-08-12T03:44:15.558511Z",
     "shell.execute_reply": "2023-08-12T03:44:15.557691Z"
    },
    "papermill": {
     "duration": 0.116053,
     "end_time": "2023-08-12T03:44:15.560823",
     "exception": false,
     "start_time": "2023-08-12T03:44:15.444770",
     "status": "completed"
    },
    "tags": []
   },
   "outputs": [],
   "source": [
    "# X_test.head()"
   ]
  },
  {
   "cell_type": "code",
   "execution_count": 176,
   "id": "f42869bc",
   "metadata": {
    "execution": {
     "iopub.execute_input": "2023-08-12T03:44:15.778921Z",
     "iopub.status.busy": "2023-08-12T03:44:15.778535Z",
     "iopub.status.idle": "2023-08-12T03:44:15.783027Z",
     "shell.execute_reply": "2023-08-12T03:44:15.781914Z"
    },
    "papermill": {
     "duration": 0.116809,
     "end_time": "2023-08-12T03:44:15.785329",
     "exception": false,
     "start_time": "2023-08-12T03:44:15.668520",
     "status": "completed"
    },
    "tags": []
   },
   "outputs": [],
   "source": [
    "# X_test['audienceScore'].describe()"
   ]
  },
  {
   "cell_type": "code",
   "execution_count": 177,
   "id": "86a70498",
   "metadata": {
    "execution": {
     "iopub.execute_input": "2023-08-12T03:44:15.998488Z",
     "iopub.status.busy": "2023-08-12T03:44:15.998038Z",
     "iopub.status.idle": "2023-08-12T03:44:16.002650Z",
     "shell.execute_reply": "2023-08-12T03:44:16.001481Z"
    },
    "papermill": {
     "duration": 0.114294,
     "end_time": "2023-08-12T03:44:16.005053",
     "exception": false,
     "start_time": "2023-08-12T03:44:15.890759",
     "status": "completed"
    },
    "tags": []
   },
   "outputs": [],
   "source": [
    "# X_test['rating'].value_counts()"
   ]
  },
  {
   "cell_type": "code",
   "execution_count": 178,
   "id": "68c6786c",
   "metadata": {
    "execution": {
     "iopub.execute_input": "2023-08-12T03:44:16.222543Z",
     "iopub.status.busy": "2023-08-12T03:44:16.221722Z",
     "iopub.status.idle": "2023-08-12T03:44:16.226563Z",
     "shell.execute_reply": "2023-08-12T03:44:16.225761Z"
    },
    "papermill": {
     "duration": 0.11612,
     "end_time": "2023-08-12T03:44:16.228892",
     "exception": false,
     "start_time": "2023-08-12T03:44:16.112772",
     "status": "completed"
    },
    "tags": []
   },
   "outputs": [],
   "source": [
    "# X_test['isFrequentReviewer'].value_counts()"
   ]
  },
  {
   "cell_type": "markdown",
   "id": "a2c63eec",
   "metadata": {
    "papermill": {
     "duration": 0.106802,
     "end_time": "2023-08-12T03:44:16.442045",
     "exception": false,
     "start_time": "2023-08-12T03:44:16.335243",
     "status": "completed"
    },
    "tags": []
   },
   "source": [
    "## Implement KNN classifier  "
   ]
  },
  {
   "cell_type": "code",
   "execution_count": 179,
   "id": "92ca2481",
   "metadata": {
    "execution": {
     "iopub.execute_input": "2023-08-12T03:44:16.659274Z",
     "iopub.status.busy": "2023-08-12T03:44:16.658481Z",
     "iopub.status.idle": "2023-08-12T03:44:16.663190Z",
     "shell.execute_reply": "2023-08-12T03:44:16.662456Z"
    },
    "papermill": {
     "duration": 0.117051,
     "end_time": "2023-08-12T03:44:16.665552",
     "exception": false,
     "start_time": "2023-08-12T03:44:16.548501",
     "status": "completed"
    },
    "tags": []
   },
   "outputs": [],
   "source": [
    "# from sklearn.neighbors import KNeighborsClassifier"
   ]
  },
  {
   "cell_type": "code",
   "execution_count": 180,
   "id": "c63f49e2",
   "metadata": {
    "execution": {
     "iopub.execute_input": "2023-08-12T03:44:16.881662Z",
     "iopub.status.busy": "2023-08-12T03:44:16.880851Z",
     "iopub.status.idle": "2023-08-12T03:44:16.885600Z",
     "shell.execute_reply": "2023-08-12T03:44:16.884809Z"
    },
    "papermill": {
     "duration": 0.115662,
     "end_time": "2023-08-12T03:44:16.887878",
     "exception": false,
     "start_time": "2023-08-12T03:44:16.772216",
     "status": "completed"
    },
    "tags": []
   },
   "outputs": [],
   "source": [
    "# Note that we are borrowing \"ct_final\" column transformer from above  "
   ]
  },
  {
   "cell_type": "code",
   "execution_count": 181,
   "id": "2f3eea5f",
   "metadata": {
    "execution": {
     "iopub.execute_input": "2023-08-12T03:44:17.104106Z",
     "iopub.status.busy": "2023-08-12T03:44:17.103280Z",
     "iopub.status.idle": "2023-08-12T03:44:17.108183Z",
     "shell.execute_reply": "2023-08-12T03:44:17.107449Z"
    },
    "papermill": {
     "duration": 0.116992,
     "end_time": "2023-08-12T03:44:17.110537",
     "exception": false,
     "start_time": "2023-08-12T03:44:16.993545",
     "status": "completed"
    },
    "tags": []
   },
   "outputs": [],
   "source": [
    "# pipe_knn = Pipeline(steps=[\n",
    "#                         (\"preprocessor\", ct_final),\n",
    "#                         (\"model\", KNeighborsClassifier())\n",
    "#                     ])\n",
    "# pipe_knn"
   ]
  },
  {
   "cell_type": "code",
   "execution_count": 182,
   "id": "befacb04",
   "metadata": {
    "execution": {
     "iopub.execute_input": "2023-08-12T03:44:17.326770Z",
     "iopub.status.busy": "2023-08-12T03:44:17.325928Z",
     "iopub.status.idle": "2023-08-12T03:44:17.331163Z",
     "shell.execute_reply": "2023-08-12T03:44:17.330077Z"
    },
    "papermill": {
     "duration": 0.116231,
     "end_time": "2023-08-12T03:44:17.333652",
     "exception": false,
     "start_time": "2023-08-12T03:44:17.217421",
     "status": "completed"
    },
    "tags": []
   },
   "outputs": [],
   "source": [
    "# Train and predict on merged training data  \n",
    "# split_train_predict(merged_train_features, merged_train_labels, pipe_knn, test_size=0.25, random_state=42)"
   ]
  },
  {
   "cell_type": "markdown",
   "id": "8449b7b2",
   "metadata": {
    "papermill": {
     "duration": 0.111547,
     "end_time": "2023-08-12T03:44:17.560258",
     "exception": false,
     "start_time": "2023-08-12T03:44:17.448711",
     "status": "completed"
    },
    "tags": []
   },
   "source": [
    "# Part I (Older code)  "
   ]
  },
  {
   "cell_type": "markdown",
   "id": "57f8fd58",
   "metadata": {
    "papermill": {
     "duration": 0.112829,
     "end_time": "2023-08-12T03:44:17.785507",
     "exception": false,
     "start_time": "2023-08-12T03:44:17.672678",
     "status": "completed"
    },
    "tags": []
   },
   "source": [
    "### Logistic Regression with stop words  "
   ]
  },
  {
   "cell_type": "code",
   "execution_count": 183,
   "id": "e8006c09",
   "metadata": {
    "execution": {
     "iopub.execute_input": "2023-08-12T03:44:18.009321Z",
     "iopub.status.busy": "2023-08-12T03:44:18.008780Z",
     "iopub.status.idle": "2023-08-12T03:44:18.014030Z",
     "shell.execute_reply": "2023-08-12T03:44:18.012661Z"
    },
    "papermill": {
     "duration": 0.12087,
     "end_time": "2023-08-12T03:44:18.016670",
     "exception": false,
     "start_time": "2023-08-12T03:44:17.895800",
     "status": "completed"
    },
    "tags": []
   },
   "outputs": [],
   "source": [
    "# tvec_sw = TfidfVectorizer(stop_words=stop_words)"
   ]
  },
  {
   "cell_type": "code",
   "execution_count": 184,
   "id": "6b9644a9",
   "metadata": {
    "execution": {
     "iopub.execute_input": "2023-08-12T03:44:18.241718Z",
     "iopub.status.busy": "2023-08-12T03:44:18.240713Z",
     "iopub.status.idle": "2023-08-12T03:44:18.246137Z",
     "shell.execute_reply": "2023-08-12T03:44:18.245260Z"
    },
    "papermill": {
     "duration": 0.121417,
     "end_time": "2023-08-12T03:44:18.248622",
     "exception": false,
     "start_time": "2023-08-12T03:44:18.127205",
     "status": "completed"
    },
    "tags": []
   },
   "outputs": [],
   "source": [
    "# logreg_sw_pipe = preprocess_n_train(X_train, y_train, tvec_sw, logreg)\n",
    "# logreg_sw_pipe"
   ]
  },
  {
   "cell_type": "code",
   "execution_count": 185,
   "id": "73938067",
   "metadata": {
    "execution": {
     "iopub.execute_input": "2023-08-12T03:44:18.471278Z",
     "iopub.status.busy": "2023-08-12T03:44:18.470153Z",
     "iopub.status.idle": "2023-08-12T03:44:18.475611Z",
     "shell.execute_reply": "2023-08-12T03:44:18.474448Z"
    },
    "papermill": {
     "duration": 0.119923,
     "end_time": "2023-08-12T03:44:18.477922",
     "exception": false,
     "start_time": "2023-08-12T03:44:18.357999",
     "status": "completed"
    },
    "tags": []
   },
   "outputs": [],
   "source": [
    "# y_pred_logreg_sw = predict_n_evaluate(logreg_sw_pipe, X_test, y_test)\n",
    "# y_pred_logreg_sw"
   ]
  },
  {
   "cell_type": "markdown",
   "id": "65d515e1",
   "metadata": {
    "papermill": {
     "duration": 0.108985,
     "end_time": "2023-08-12T03:44:18.693854",
     "exception": false,
     "start_time": "2023-08-12T03:44:18.584869",
     "status": "completed"
    },
    "tags": []
   },
   "source": [
    "### Logistic regression with different ngram ranges  "
   ]
  },
  {
   "cell_type": "code",
   "execution_count": 186,
   "id": "1d6dc9e8",
   "metadata": {
    "execution": {
     "iopub.execute_input": "2023-08-12T03:44:18.909962Z",
     "iopub.status.busy": "2023-08-12T03:44:18.909288Z",
     "iopub.status.idle": "2023-08-12T03:44:18.913999Z",
     "shell.execute_reply": "2023-08-12T03:44:18.913085Z"
    },
    "papermill": {
     "duration": 0.114985,
     "end_time": "2023-08-12T03:44:18.916202",
     "exception": false,
     "start_time": "2023-08-12T03:44:18.801217",
     "status": "completed"
    },
    "tags": []
   },
   "outputs": [],
   "source": [
    "# tvec_ngram_2 = TfidfVectorizer(ngram_range=(1,2))"
   ]
  },
  {
   "cell_type": "code",
   "execution_count": 187,
   "id": "ecc9d6f5",
   "metadata": {
    "execution": {
     "iopub.execute_input": "2023-08-12T03:44:19.204200Z",
     "iopub.status.busy": "2023-08-12T03:44:19.203576Z",
     "iopub.status.idle": "2023-08-12T03:44:19.208228Z",
     "shell.execute_reply": "2023-08-12T03:44:19.207268Z"
    },
    "papermill": {
     "duration": 0.186083,
     "end_time": "2023-08-12T03:44:19.210408",
     "exception": false,
     "start_time": "2023-08-12T03:44:19.024325",
     "status": "completed"
    },
    "tags": []
   },
   "outputs": [],
   "source": [
    "# logreg_ng2_pipe = preprocess_n_train(X_train, y_train, tvec_ngram_2, logreg)\n",
    "# logreg_ng2_pipe"
   ]
  },
  {
   "cell_type": "code",
   "execution_count": 188,
   "id": "652fa588",
   "metadata": {
    "execution": {
     "iopub.execute_input": "2023-08-12T03:44:19.426824Z",
     "iopub.status.busy": "2023-08-12T03:44:19.425985Z",
     "iopub.status.idle": "2023-08-12T03:44:19.430929Z",
     "shell.execute_reply": "2023-08-12T03:44:19.430028Z"
    },
    "papermill": {
     "duration": 0.116699,
     "end_time": "2023-08-12T03:44:19.433346",
     "exception": false,
     "start_time": "2023-08-12T03:44:19.316647",
     "status": "completed"
    },
    "tags": []
   },
   "outputs": [],
   "source": [
    "# y_pred_logreg_ng2 = predict_n_evaluate(logreg_ng2_pipe, X_test, y_test)\n",
    "# y_pred_logreg_ng2"
   ]
  },
  {
   "cell_type": "markdown",
   "id": "22c41f20",
   "metadata": {
    "papermill": {
     "duration": 0.109364,
     "end_time": "2023-08-12T03:44:19.649807",
     "exception": false,
     "start_time": "2023-08-12T03:44:19.540443",
     "status": "completed"
    },
    "tags": []
   },
   "source": [
    "### Logistic regression with C=2, ngram range (1,2), stop words as None and min_df, max_df adjusted\n",
    "### Class weight balanced"
   ]
  },
  {
   "cell_type": "code",
   "execution_count": 189,
   "id": "fe9772e5",
   "metadata": {
    "execution": {
     "iopub.execute_input": "2023-08-12T03:44:19.872915Z",
     "iopub.status.busy": "2023-08-12T03:44:19.872063Z",
     "iopub.status.idle": "2023-08-12T03:44:19.877067Z",
     "shell.execute_reply": "2023-08-12T03:44:19.876271Z"
    },
    "papermill": {
     "duration": 0.122265,
     "end_time": "2023-08-12T03:44:19.879581",
     "exception": false,
     "start_time": "2023-08-12T03:44:19.757316",
     "status": "completed"
    },
    "tags": []
   },
   "outputs": [],
   "source": [
    "# logreg = LogisticRegression(max_iter=100000, C=2, class_weight=\"balanced\")"
   ]
  },
  {
   "cell_type": "code",
   "execution_count": 190,
   "id": "f95f36d4",
   "metadata": {
    "execution": {
     "iopub.execute_input": "2023-08-12T03:44:20.120173Z",
     "iopub.status.busy": "2023-08-12T03:44:20.119340Z",
     "iopub.status.idle": "2023-08-12T03:44:20.124217Z",
     "shell.execute_reply": "2023-08-12T03:44:20.123353Z"
    },
    "papermill": {
     "duration": 0.133928,
     "end_time": "2023-08-12T03:44:20.126690",
     "exception": false,
     "start_time": "2023-08-12T03:44:19.992762",
     "status": "completed"
    },
    "tags": []
   },
   "outputs": [],
   "source": [
    "# tvec_ngram_2_sw_df = TfidfVectorizer(ngram_range=(1,2), stop_words=None, min_df=0.0001, max_df=0.50)\n",
    "# tvec_ngram_2_sw_df"
   ]
  },
  {
   "cell_type": "code",
   "execution_count": 191,
   "id": "f081dc0a",
   "metadata": {
    "execution": {
     "iopub.execute_input": "2023-08-12T03:44:20.346474Z",
     "iopub.status.busy": "2023-08-12T03:44:20.345379Z",
     "iopub.status.idle": "2023-08-12T03:44:20.350404Z",
     "shell.execute_reply": "2023-08-12T03:44:20.349282Z"
    },
    "papermill": {
     "duration": 0.116408,
     "end_time": "2023-08-12T03:44:20.352958",
     "exception": false,
     "start_time": "2023-08-12T03:44:20.236550",
     "status": "completed"
    },
    "tags": []
   },
   "outputs": [],
   "source": [
    "# logreg_ng2_sw_df_pipe = preprocess_n_train(X_train, y_train, tvec_ngram_2_sw_df, logreg)\n",
    "# logreg_ng2_sw_df_pipe"
   ]
  },
  {
   "cell_type": "code",
   "execution_count": 192,
   "id": "fcc2b1df",
   "metadata": {
    "execution": {
     "iopub.execute_input": "2023-08-12T03:44:20.574759Z",
     "iopub.status.busy": "2023-08-12T03:44:20.574336Z",
     "iopub.status.idle": "2023-08-12T03:44:20.578763Z",
     "shell.execute_reply": "2023-08-12T03:44:20.577797Z"
    },
    "papermill": {
     "duration": 0.118028,
     "end_time": "2023-08-12T03:44:20.580969",
     "exception": false,
     "start_time": "2023-08-12T03:44:20.462941",
     "status": "completed"
    },
    "tags": []
   },
   "outputs": [],
   "source": [
    "# y_pred_logreg_ng2_sw_df = predict_n_evaluate(logreg_ng2_sw_df_pipe, X_test, y_test)\n",
    "# y_pred_logreg_ng2_sw_df"
   ]
  },
  {
   "cell_type": "markdown",
   "id": "dd27f618",
   "metadata": {
    "papermill": {
     "duration": 0.107519,
     "end_time": "2023-08-12T03:44:20.799177",
     "exception": false,
     "start_time": "2023-08-12T03:44:20.691658",
     "status": "completed"
    },
    "tags": []
   },
   "source": [
    "### Log reg with parameters from GridSearchCV  \n",
    "\n",
    "`This is the best score with \"reviewText column alone for analysis`  "
   ]
  },
  {
   "cell_type": "code",
   "execution_count": 193,
   "id": "8719fa40",
   "metadata": {
    "execution": {
     "iopub.execute_input": "2023-08-12T03:44:21.018694Z",
     "iopub.status.busy": "2023-08-12T03:44:21.018246Z",
     "iopub.status.idle": "2023-08-12T03:44:21.024034Z",
     "shell.execute_reply": "2023-08-12T03:44:21.022800Z"
    },
    "papermill": {
     "duration": 0.119942,
     "end_time": "2023-08-12T03:44:21.026612",
     "exception": false,
     "start_time": "2023-08-12T03:44:20.906670",
     "status": "completed"
    },
    "tags": []
   },
   "outputs": [],
   "source": [
    "logreg_cv1 = LogisticRegression(max_iter=100000, C=10)\n",
    "tvec_cv1 = TfidfVectorizer(max_features=None, ngram_range=(1,2))"
   ]
  },
  {
   "cell_type": "code",
   "execution_count": 194,
   "id": "a0fe5050",
   "metadata": {
    "execution": {
     "iopub.execute_input": "2023-08-12T03:44:21.247177Z",
     "iopub.status.busy": "2023-08-12T03:44:21.246228Z",
     "iopub.status.idle": "2023-08-12T03:44:21.252154Z",
     "shell.execute_reply": "2023-08-12T03:44:21.251052Z"
    },
    "papermill": {
     "duration": 0.119153,
     "end_time": "2023-08-12T03:44:21.254522",
     "exception": false,
     "start_time": "2023-08-12T03:44:21.135369",
     "status": "completed"
    },
    "tags": []
   },
   "outputs": [],
   "source": [
    "pipe_cv1 = Pipeline(steps=[\n",
    "    (\"preprocessor\", tvec_cv1),\n",
    "    (\"model\", logreg_cv1)\n",
    "])"
   ]
  },
  {
   "cell_type": "code",
   "execution_count": 195,
   "id": "5bbdd3b3",
   "metadata": {
    "execution": {
     "iopub.execute_input": "2023-08-12T03:44:21.473651Z",
     "iopub.status.busy": "2023-08-12T03:44:21.472789Z",
     "iopub.status.idle": "2023-08-12T03:44:21.477169Z",
     "shell.execute_reply": "2023-08-12T03:44:21.476378Z"
    },
    "papermill": {
     "duration": 0.116581,
     "end_time": "2023-08-12T03:44:21.479295",
     "exception": false,
     "start_time": "2023-08-12T03:44:21.362714",
     "status": "completed"
    },
    "tags": []
   },
   "outputs": [],
   "source": [
    "# pipe_cv1.fit(X_train, y_train)"
   ]
  },
  {
   "cell_type": "code",
   "execution_count": 196,
   "id": "42fe18c4",
   "metadata": {
    "execution": {
     "iopub.execute_input": "2023-08-12T03:44:21.699944Z",
     "iopub.status.busy": "2023-08-12T03:44:21.699444Z",
     "iopub.status.idle": "2023-08-12T03:44:21.703616Z",
     "shell.execute_reply": "2023-08-12T03:44:21.702767Z"
    },
    "papermill": {
     "duration": 0.116302,
     "end_time": "2023-08-12T03:44:21.705736",
     "exception": false,
     "start_time": "2023-08-12T03:44:21.589434",
     "status": "completed"
    },
    "tags": []
   },
   "outputs": [],
   "source": [
    "# pipe_cv1.score(X_train, y_train)"
   ]
  },
  {
   "cell_type": "markdown",
   "id": "0a889be7",
   "metadata": {
    "papermill": {
     "duration": 0.107801,
     "end_time": "2023-08-12T03:44:21.921865",
     "exception": false,
     "start_time": "2023-08-12T03:44:21.814064",
     "status": "completed"
    },
    "tags": []
   },
   "source": [
    "### SVM model with stop words  "
   ]
  },
  {
   "cell_type": "code",
   "execution_count": 197,
   "id": "b2d7f810",
   "metadata": {
    "execution": {
     "iopub.execute_input": "2023-08-12T03:44:22.139318Z",
     "iopub.status.busy": "2023-08-12T03:44:22.138877Z",
     "iopub.status.idle": "2023-08-12T03:44:22.143883Z",
     "shell.execute_reply": "2023-08-12T03:44:22.142773Z"
    },
    "papermill": {
     "duration": 0.116149,
     "end_time": "2023-08-12T03:44:22.146113",
     "exception": false,
     "start_time": "2023-08-12T03:44:22.029964",
     "status": "completed"
    },
    "tags": []
   },
   "outputs": [],
   "source": [
    "# svm_sw_pipe = preprocess_n_train(X_train, y_train, tvec_sw, svm)\n",
    "# svm_sw_pipe"
   ]
  },
  {
   "cell_type": "code",
   "execution_count": 198,
   "id": "8b155781",
   "metadata": {
    "execution": {
     "iopub.execute_input": "2023-08-12T03:44:22.363207Z",
     "iopub.status.busy": "2023-08-12T03:44:22.362030Z",
     "iopub.status.idle": "2023-08-12T03:44:22.367371Z",
     "shell.execute_reply": "2023-08-12T03:44:22.366142Z"
    },
    "papermill": {
     "duration": 0.115431,
     "end_time": "2023-08-12T03:44:22.369623",
     "exception": false,
     "start_time": "2023-08-12T03:44:22.254192",
     "status": "completed"
    },
    "tags": []
   },
   "outputs": [],
   "source": [
    "# y_pred_svm_sw = predict_n_evaluate(svm_sw_pipe, X_test, y_test)\n",
    "# y_pred_svm_sw"
   ]
  },
  {
   "cell_type": "markdown",
   "id": "63a38263",
   "metadata": {
    "papermill": {
     "duration": 0.108046,
     "end_time": "2023-08-12T03:44:22.586580",
     "exception": false,
     "start_time": "2023-08-12T03:44:22.478534",
     "status": "completed"
    },
    "tags": []
   },
   "source": [
    "### GaussianNB  "
   ]
  },
  {
   "cell_type": "markdown",
   "id": "401ba7ee",
   "metadata": {
    "papermill": {
     "duration": 0.10589,
     "end_time": "2023-08-12T03:44:22.798820",
     "exception": false,
     "start_time": "2023-08-12T03:44:22.692930",
     "status": "completed"
    },
    "tags": []
   },
   "source": [
    "https://stackoverflow.com/questions/28384680/scikit-learns-pipeline-a-sparse-matrix-was-passed-but-dense-data-is-required"
   ]
  },
  {
   "cell_type": "code",
   "execution_count": 199,
   "id": "3c1c7081",
   "metadata": {
    "execution": {
     "iopub.execute_input": "2023-08-12T03:44:23.015555Z",
     "iopub.status.busy": "2023-08-12T03:44:23.015097Z",
     "iopub.status.idle": "2023-08-12T03:44:23.019704Z",
     "shell.execute_reply": "2023-08-12T03:44:23.018593Z"
    },
    "papermill": {
     "duration": 0.116137,
     "end_time": "2023-08-12T03:44:23.022203",
     "exception": false,
     "start_time": "2023-08-12T03:44:22.906066",
     "status": "completed"
    },
    "tags": []
   },
   "outputs": [],
   "source": [
    "# gnb = GaussianNB()\n",
    "# gnb"
   ]
  },
  {
   "cell_type": "code",
   "execution_count": 200,
   "id": "96ac45db",
   "metadata": {
    "execution": {
     "iopub.execute_input": "2023-08-12T03:44:23.239234Z",
     "iopub.status.busy": "2023-08-12T03:44:23.238831Z",
     "iopub.status.idle": "2023-08-12T03:44:23.243692Z",
     "shell.execute_reply": "2023-08-12T03:44:23.242442Z"
    },
    "papermill": {
     "duration": 0.116275,
     "end_time": "2023-08-12T03:44:23.246195",
     "exception": false,
     "start_time": "2023-08-12T03:44:23.129920",
     "status": "completed"
    },
    "tags": []
   },
   "outputs": [],
   "source": [
    "# gnb_pipe = preprocess_n_train(X_train, y_train, tvec, gnb)\n",
    "# gnb_pipe"
   ]
  },
  {
   "cell_type": "markdown",
   "id": "87440339",
   "metadata": {
    "papermill": {
     "duration": 0.107534,
     "end_time": "2023-08-12T03:44:23.461904",
     "exception": false,
     "start_time": "2023-08-12T03:44:23.354370",
     "status": "completed"
    },
    "tags": []
   },
   "source": [
    "# Part II (Older code)  \n"
   ]
  },
  {
   "cell_type": "markdown",
   "id": "652c550a",
   "metadata": {
    "papermill": {
     "duration": 0.112245,
     "end_time": "2023-08-12T03:44:23.681653",
     "exception": false,
     "start_time": "2023-08-12T03:44:23.569408",
     "status": "completed"
    },
    "tags": []
   },
   "source": [
    "### Separate features and labels from merged dataset  "
   ]
  },
  {
   "cell_type": "code",
   "execution_count": 201,
   "id": "3e7975cf",
   "metadata": {
    "execution": {
     "iopub.execute_input": "2023-08-12T03:44:23.899712Z",
     "iopub.status.busy": "2023-08-12T03:44:23.899268Z",
     "iopub.status.idle": "2023-08-12T03:44:23.904004Z",
     "shell.execute_reply": "2023-08-12T03:44:23.902721Z"
    },
    "papermill": {
     "duration": 0.116529,
     "end_time": "2023-08-12T03:44:23.906652",
     "exception": false,
     "start_time": "2023-08-12T03:44:23.790123",
     "status": "completed"
    },
    "tags": []
   },
   "outputs": [],
   "source": [
    "# merged_train_features = merged[['movieid', 'reviewerName', 'isFrequentReviewer', 'reviewText',\n",
    "#        'audienceScore', 'rating', 'runtimeMinutes', 'genre',\n",
    "#        'originalLanguage', 'director']]\n",
    "# merged_train_features.shape"
   ]
  },
  {
   "cell_type": "code",
   "execution_count": 202,
   "id": "590f09d3",
   "metadata": {
    "execution": {
     "iopub.execute_input": "2023-08-12T03:44:24.128078Z",
     "iopub.status.busy": "2023-08-12T03:44:24.127692Z",
     "iopub.status.idle": "2023-08-12T03:44:24.132118Z",
     "shell.execute_reply": "2023-08-12T03:44:24.131018Z"
    },
    "papermill": {
     "duration": 0.118557,
     "end_time": "2023-08-12T03:44:24.134559",
     "exception": false,
     "start_time": "2023-08-12T03:44:24.016002",
     "status": "completed"
    },
    "tags": []
   },
   "outputs": [],
   "source": [
    "# merged_train_labels = merged[\"sentiment\"]\n",
    "# merged_train_labels.shape"
   ]
  },
  {
   "cell_type": "markdown",
   "id": "d118a7ea",
   "metadata": {
    "papermill": {
     "duration": 0.106915,
     "end_time": "2023-08-12T03:44:24.349116",
     "exception": false,
     "start_time": "2023-08-12T03:44:24.242201",
     "status": "completed"
    },
    "tags": []
   },
   "source": [
    "### Identify variable types for different preprocessing pipes  "
   ]
  },
  {
   "cell_type": "code",
   "execution_count": 203,
   "id": "e6a2d6d5",
   "metadata": {
    "execution": {
     "iopub.execute_input": "2023-08-12T03:44:24.569020Z",
     "iopub.status.busy": "2023-08-12T03:44:24.568595Z",
     "iopub.status.idle": "2023-08-12T03:44:24.572661Z",
     "shell.execute_reply": "2023-08-12T03:44:24.571835Z"
    },
    "papermill": {
     "duration": 0.118265,
     "end_time": "2023-08-12T03:44:24.574884",
     "exception": false,
     "start_time": "2023-08-12T03:44:24.456619",
     "status": "completed"
    },
    "tags": []
   },
   "outputs": [],
   "source": [
    "# num_vars = [\"audienceScore\", \"runtimeMinutes\"]\n",
    "# txt_vars = [\"originalLanguage\", \"genre\", \"director\", \"reviewerName\", \"reviewText\"]\n",
    "# cat_vars = [\"rating\", \"isFrequentReviewer\"]"
   ]
  },
  {
   "cell_type": "code",
   "execution_count": 204,
   "id": "5ba3b247",
   "metadata": {
    "execution": {
     "iopub.execute_input": "2023-08-12T03:44:24.795688Z",
     "iopub.status.busy": "2023-08-12T03:44:24.794856Z",
     "iopub.status.idle": "2023-08-12T03:44:24.799751Z",
     "shell.execute_reply": "2023-08-12T03:44:24.798739Z"
    },
    "papermill": {
     "duration": 0.118008,
     "end_time": "2023-08-12T03:44:24.802178",
     "exception": false,
     "start_time": "2023-08-12T03:44:24.684170",
     "status": "completed"
    },
    "tags": []
   },
   "outputs": [],
   "source": [
    "# num_pipe = Pipeline(steps=[\n",
    "#                             (\"imputer\", SimpleImputer(strategy=\"mean\", missing_values=np.nan)),\n",
    "#                             (\"scaler\", MinMaxScaler())\n",
    "#                         ])\n",
    "# num_pipe"
   ]
  },
  {
   "cell_type": "code",
   "execution_count": 205,
   "id": "0893466e",
   "metadata": {
    "execution": {
     "iopub.execute_input": "2023-08-12T03:44:25.018786Z",
     "iopub.status.busy": "2023-08-12T03:44:25.018341Z",
     "iopub.status.idle": "2023-08-12T03:44:25.023763Z",
     "shell.execute_reply": "2023-08-12T03:44:25.022633Z"
    },
    "papermill": {
     "duration": 0.116445,
     "end_time": "2023-08-12T03:44:25.026064",
     "exception": false,
     "start_time": "2023-08-12T03:44:24.909619",
     "status": "completed"
    },
    "tags": []
   },
   "outputs": [],
   "source": [
    "# txt_pipe = Pipeline(steps=[\n",
    "#                             (\"tvec\", TfidfVectorizer())\n",
    "#                         ])\n",
    "# txt_pipe"
   ]
  },
  {
   "cell_type": "code",
   "execution_count": 206,
   "id": "3cde84d1",
   "metadata": {
    "execution": {
     "iopub.execute_input": "2023-08-12T03:44:25.240811Z",
     "iopub.status.busy": "2023-08-12T03:44:25.240376Z",
     "iopub.status.idle": "2023-08-12T03:44:25.245046Z",
     "shell.execute_reply": "2023-08-12T03:44:25.243977Z"
    },
    "papermill": {
     "duration": 0.115108,
     "end_time": "2023-08-12T03:44:25.247329",
     "exception": false,
     "start_time": "2023-08-12T03:44:25.132221",
     "status": "completed"
    },
    "tags": []
   },
   "outputs": [],
   "source": [
    "# cat_pipe = Pipeline(steps=[\n",
    "#                             (\"ohe\", OneHotEncoder(handle_unknown=\"ignore\"))\n",
    "#                         ])\n",
    "# cat_pipe"
   ]
  },
  {
   "cell_type": "code",
   "execution_count": 207,
   "id": "87b89eda",
   "metadata": {
    "execution": {
     "iopub.execute_input": "2023-08-12T03:44:25.464028Z",
     "iopub.status.busy": "2023-08-12T03:44:25.463604Z",
     "iopub.status.idle": "2023-08-12T03:44:25.467856Z",
     "shell.execute_reply": "2023-08-12T03:44:25.467034Z"
    },
    "papermill": {
     "duration": 0.115942,
     "end_time": "2023-08-12T03:44:25.471013",
     "exception": false,
     "start_time": "2023-08-12T03:44:25.355071",
     "status": "completed"
    },
    "tags": []
   },
   "outputs": [],
   "source": [
    "# tfidf_vec_1 = TfidfVectorizer(ngram_range=(1,2))\n",
    "# tfidf_vec_1"
   ]
  },
  {
   "cell_type": "code",
   "execution_count": 208,
   "id": "89b83e81",
   "metadata": {
    "execution": {
     "iopub.execute_input": "2023-08-12T03:44:25.689445Z",
     "iopub.status.busy": "2023-08-12T03:44:25.689047Z",
     "iopub.status.idle": "2023-08-12T03:44:25.693484Z",
     "shell.execute_reply": "2023-08-12T03:44:25.692663Z"
    },
    "papermill": {
     "duration": 0.116912,
     "end_time": "2023-08-12T03:44:25.695618",
     "exception": false,
     "start_time": "2023-08-12T03:44:25.578706",
     "status": "completed"
    },
    "tags": []
   },
   "outputs": [],
   "source": [
    "# ct_final = ColumnTransformer(transformers=[\n",
    "#                                         (\"num\", num_pipe, num_vars),\n",
    "#                                         (\"txt1\", txt_pipe, \"originalLanguage\"),\n",
    "#                                         (\"txt2\", txt_pipe, \"genre\"),\n",
    "#                                         (\"txt3\", txt_pipe, \"director\"),\n",
    "#                                         (\"cat\", cat_pipe, cat_vars),\n",
    "#                                         (\"txt4a\", tfidf_vec_1, \"reviewText\")\n",
    "# #                                         (\"txt4\", TfidfVectorizer(ngram_range=(1,2)), \"reviewText\"),\n",
    "# #                                         (\"cat2\", cat_pipe, [\"isFrequentReviewer\"])\n",
    "#                                         ], remainder=\"drop\", n_jobs=1)\n",
    "\n",
    "# # Note that this transformer drops \"movieid\" column and \"reviewerName\" column  \n",
    "# ct_final"
   ]
  },
  {
   "cell_type": "code",
   "execution_count": 209,
   "id": "0253c8b9",
   "metadata": {
    "execution": {
     "iopub.execute_input": "2023-08-12T03:44:25.981618Z",
     "iopub.status.busy": "2023-08-12T03:44:25.981181Z",
     "iopub.status.idle": "2023-08-12T03:44:25.986176Z",
     "shell.execute_reply": "2023-08-12T03:44:25.984913Z"
    },
    "papermill": {
     "duration": 0.184983,
     "end_time": "2023-08-12T03:44:25.988595",
     "exception": false,
     "start_time": "2023-08-12T03:44:25.803612",
     "status": "completed"
    },
    "tags": []
   },
   "outputs": [],
   "source": [
    "# pipe_final = Pipeline(steps=[\n",
    "#                         (\"preprocessor\", ct_final),\n",
    "#                         (\"model\", LogisticRegression(max_iter=100000))\n",
    "#                     ])\n",
    "# pipe_final"
   ]
  },
  {
   "cell_type": "code",
   "execution_count": 210,
   "id": "00b97b12",
   "metadata": {
    "execution": {
     "iopub.execute_input": "2023-08-12T03:44:26.206100Z",
     "iopub.status.busy": "2023-08-12T03:44:26.205665Z",
     "iopub.status.idle": "2023-08-12T03:44:26.210144Z",
     "shell.execute_reply": "2023-08-12T03:44:26.209146Z"
    },
    "papermill": {
     "duration": 0.114016,
     "end_time": "2023-08-12T03:44:26.212361",
     "exception": false,
     "start_time": "2023-08-12T03:44:26.098345",
     "status": "completed"
    },
    "tags": []
   },
   "outputs": [],
   "source": [
    "# final_vars = num_vars + txt_vars + cat_vars\n",
    "# len(final_vars), final_vars"
   ]
  },
  {
   "cell_type": "markdown",
   "id": "0a6d0e51",
   "metadata": {
    "papermill": {
     "duration": 0.105369,
     "end_time": "2023-08-12T03:44:26.424843",
     "exception": false,
     "start_time": "2023-08-12T03:44:26.319474",
     "status": "completed"
    },
    "tags": []
   },
   "source": [
    "### Use \"split_train_predict\" function to run end-to-end pipeline  "
   ]
  },
  {
   "cell_type": "code",
   "execution_count": 211,
   "id": "b27ffbb7",
   "metadata": {
    "execution": {
     "iopub.execute_input": "2023-08-12T03:44:26.665038Z",
     "iopub.status.busy": "2023-08-12T03:44:26.664323Z",
     "iopub.status.idle": "2023-08-12T03:44:26.669595Z",
     "shell.execute_reply": "2023-08-12T03:44:26.668661Z"
    },
    "papermill": {
     "duration": 0.133353,
     "end_time": "2023-08-12T03:44:26.671939",
     "exception": false,
     "start_time": "2023-08-12T03:44:26.538586",
     "status": "completed"
    },
    "tags": []
   },
   "outputs": [],
   "source": [
    "# split_train_predict(merged_train_features, merged_train_labels, pipe_final, test_size=0.25, random_state=42)"
   ]
  },
  {
   "cell_type": "markdown",
   "id": "6ae10207",
   "metadata": {
    "papermill": {
     "duration": 0.113748,
     "end_time": "2023-08-12T03:44:26.898014",
     "exception": false,
     "start_time": "2023-08-12T03:44:26.784266",
     "status": "completed"
    },
    "tags": []
   },
   "source": [
    "## Try the best four features obtained on local machine  "
   ]
  },
  {
   "cell_type": "code",
   "execution_count": 212,
   "id": "c45de7fb",
   "metadata": {
    "execution": {
     "iopub.execute_input": "2023-08-12T03:44:27.126074Z",
     "iopub.status.busy": "2023-08-12T03:44:27.125687Z",
     "iopub.status.idle": "2023-08-12T03:44:27.130048Z",
     "shell.execute_reply": "2023-08-12T03:44:27.128971Z"
    },
    "papermill": {
     "duration": 0.115387,
     "end_time": "2023-08-12T03:44:27.132483",
     "exception": false,
     "start_time": "2023-08-12T03:44:27.017096",
     "status": "completed"
    },
    "tags": []
   },
   "outputs": [],
   "source": [
    "# tfidf_vec_2 = TfidfVectorizer(ngram_range=(1,2))\n",
    "# tfidf_vec_2"
   ]
  },
  {
   "cell_type": "code",
   "execution_count": 213,
   "id": "8dd90953",
   "metadata": {
    "execution": {
     "iopub.execute_input": "2023-08-12T03:44:27.354781Z",
     "iopub.status.busy": "2023-08-12T03:44:27.354125Z",
     "iopub.status.idle": "2023-08-12T03:44:27.360810Z",
     "shell.execute_reply": "2023-08-12T03:44:27.359461Z"
    },
    "papermill": {
     "duration": 0.121929,
     "end_time": "2023-08-12T03:44:27.363685",
     "exception": false,
     "start_time": "2023-08-12T03:44:27.241756",
     "status": "completed"
    },
    "tags": []
   },
   "outputs": [],
   "source": [
    "# ct_best4 = ColumnTransformer(transformers=[\n",
    "#                                             (\"num\", num_pipe, [\"audienceScore\"]),\n",
    "#                                             (\"cat\", cat_pipe, [\"rating\", \"isFrequentReviewer\"]),\n",
    "#                                             (\"tvec\", tfidf_vec_2, \"reviewText\")\n",
    "#                             ])\n",
    "\n",
    "# pipe_best4 = Pipeline(steps=[\n",
    "#     (\"preprocessor\", ct_best4),\n",
    "#     (\"model\", LogisticRegression())\n",
    "# ])\n",
    "\n",
    "# pipe_best4.set_params(model__C=10, model__max_iter=100000)\n",
    "\n",
    "# pipe_best4"
   ]
  },
  {
   "cell_type": "code",
   "execution_count": 214,
   "id": "c6d38298",
   "metadata": {
    "execution": {
     "iopub.execute_input": "2023-08-12T03:44:27.588979Z",
     "iopub.status.busy": "2023-08-12T03:44:27.588557Z",
     "iopub.status.idle": "2023-08-12T03:44:27.593712Z",
     "shell.execute_reply": "2023-08-12T03:44:27.592556Z"
    },
    "papermill": {
     "duration": 0.120076,
     "end_time": "2023-08-12T03:44:27.596182",
     "exception": false,
     "start_time": "2023-08-12T03:44:27.476106",
     "status": "completed"
    },
    "tags": []
   },
   "outputs": [],
   "source": [
    "# split_train_predict(merged[[\"audienceScore\", \"rating\", \"isFrequentReviewer\", \"reviewText\"]], merged[\"sentiment\"], pipe_best4, test_size=0.25)"
   ]
  },
  {
   "cell_type": "markdown",
   "id": "7b37db73",
   "metadata": {
    "papermill": {
     "duration": 0.10843,
     "end_time": "2023-08-12T03:44:27.814851",
     "exception": false,
     "start_time": "2023-08-12T03:44:27.706421",
     "status": "completed"
    },
    "tags": []
   },
   "source": [
    "## Try only 'reviewText' column  "
   ]
  },
  {
   "cell_type": "code",
   "execution_count": 215,
   "id": "00df3054",
   "metadata": {
    "execution": {
     "iopub.execute_input": "2023-08-12T03:44:28.033091Z",
     "iopub.status.busy": "2023-08-12T03:44:28.032689Z",
     "iopub.status.idle": "2023-08-12T03:44:28.037684Z",
     "shell.execute_reply": "2023-08-12T03:44:28.036473Z"
    },
    "papermill": {
     "duration": 0.119307,
     "end_time": "2023-08-12T03:44:28.040116",
     "exception": false,
     "start_time": "2023-08-12T03:44:27.920809",
     "status": "completed"
    },
    "tags": []
   },
   "outputs": [],
   "source": [
    "# tfidf_vec_3 = TfidfVectorizer(ngram_range=(1,2))\n",
    "# tfidf_vec_3"
   ]
  },
  {
   "cell_type": "code",
   "execution_count": 216,
   "id": "d3c2bdeb",
   "metadata": {
    "execution": {
     "iopub.execute_input": "2023-08-12T03:44:28.255838Z",
     "iopub.status.busy": "2023-08-12T03:44:28.255418Z",
     "iopub.status.idle": "2023-08-12T03:44:28.260030Z",
     "shell.execute_reply": "2023-08-12T03:44:28.258867Z"
    },
    "papermill": {
     "duration": 0.114737,
     "end_time": "2023-08-12T03:44:28.262430",
     "exception": false,
     "start_time": "2023-08-12T03:44:28.147693",
     "status": "completed"
    },
    "tags": []
   },
   "outputs": [],
   "source": [
    "# ct_RTonly = ColumnTransformer(transformers=[\n",
    "#                                             ('txt', tfidf_vec_3, 'reviewText'),\n",
    "#                                             ], remainder='drop')\n",
    "# ct_RTonly"
   ]
  },
  {
   "cell_type": "code",
   "execution_count": 217,
   "id": "c6fe3c0c",
   "metadata": {
    "execution": {
     "iopub.execute_input": "2023-08-12T03:44:28.478558Z",
     "iopub.status.busy": "2023-08-12T03:44:28.478126Z",
     "iopub.status.idle": "2023-08-12T03:44:28.482852Z",
     "shell.execute_reply": "2023-08-12T03:44:28.481948Z"
    },
    "papermill": {
     "duration": 0.11483,
     "end_time": "2023-08-12T03:44:28.484879",
     "exception": false,
     "start_time": "2023-08-12T03:44:28.370049",
     "status": "completed"
    },
    "tags": []
   },
   "outputs": [],
   "source": [
    "# pipe_RTonly = Pipeline(steps=[\n",
    "#     (\"preprocessor\", ct_RTonly),\n",
    "#     (\"model\", LogisticRegression())\n",
    "# ])\n",
    "\n",
    "# pipe_RTonly.set_params(model__C=10, model__max_iter=100000)\n",
    "\n",
    "# pipe_RTonly"
   ]
  },
  {
   "cell_type": "markdown",
   "id": "1d016276",
   "metadata": {
    "papermill": {
     "duration": 0.108732,
     "end_time": "2023-08-12T03:44:28.700938",
     "exception": false,
     "start_time": "2023-08-12T03:44:28.592206",
     "status": "completed"
    },
    "tags": []
   },
   "source": [
    "## Using the 'submit_v4' function  "
   ]
  },
  {
   "cell_type": "markdown",
   "id": "ee2abe4d",
   "metadata": {
    "papermill": {
     "duration": 0.106913,
     "end_time": "2023-08-12T03:44:28.915143",
     "exception": false,
     "start_time": "2023-08-12T03:44:28.808230",
     "status": "completed"
    },
    "tags": []
   },
   "source": [
    "### Try the best 4 parameters with submit_v4 function"
   ]
  },
  {
   "cell_type": "code",
   "execution_count": 218,
   "id": "6aea9c0a",
   "metadata": {
    "execution": {
     "iopub.execute_input": "2023-08-12T03:44:29.136120Z",
     "iopub.status.busy": "2023-08-12T03:44:29.135679Z",
     "iopub.status.idle": "2023-08-12T03:44:29.140968Z",
     "shell.execute_reply": "2023-08-12T03:44:29.139677Z"
    },
    "papermill": {
     "duration": 0.119,
     "end_time": "2023-08-12T03:44:29.143646",
     "exception": false,
     "start_time": "2023-08-12T03:44:29.024646",
     "status": "completed"
    },
    "tags": []
   },
   "outputs": [],
   "source": [
    "# best4 = [\"audienceScore\", \"rating\", \"isFrequentReviewer\", \"reviewText\"]\n",
    "\n",
    "# best4_dict = {'cat': [\"rating\", \"isFrequentReviewer\"],\n",
    "#              'num': [\"audienceScore\"],\n",
    "#              'txt': ['reviewText']}\n",
    "\n",
    "# best4_dict = {'num': [\"audienceScore\"],\n",
    "#              'txt': ['reviewText', 'movieid', 'director']}\n",
    "\n",
    "# best4_dict"
   ]
  },
  {
   "cell_type": "code",
   "execution_count": 219,
   "id": "939810d0",
   "metadata": {
    "execution": {
     "iopub.execute_input": "2023-08-12T03:44:29.361347Z",
     "iopub.status.busy": "2023-08-12T03:44:29.360874Z",
     "iopub.status.idle": "2023-08-12T03:44:29.366209Z",
     "shell.execute_reply": "2023-08-12T03:44:29.364701Z"
    },
    "papermill": {
     "duration": 0.116996,
     "end_time": "2023-08-12T03:44:29.368564",
     "exception": false,
     "start_time": "2023-08-12T03:44:29.251568",
     "status": "completed"
    },
    "tags": []
   },
   "outputs": [],
   "source": [
    "# submit_v4(selected_features=best4_dict)"
   ]
  },
  {
   "cell_type": "markdown",
   "id": "cde74f96",
   "metadata": {
    "papermill": {
     "duration": 0.107318,
     "end_time": "2023-08-12T03:44:29.583074",
     "exception": false,
     "start_time": "2023-08-12T03:44:29.475756",
     "status": "completed"
    },
    "tags": []
   },
   "source": [
    "### Try the best 3 parameters with submit_v4 function"
   ]
  },
  {
   "cell_type": "code",
   "execution_count": 220,
   "id": "0d00e5d4",
   "metadata": {
    "execution": {
     "iopub.execute_input": "2023-08-12T03:44:29.802777Z",
     "iopub.status.busy": "2023-08-12T03:44:29.802370Z",
     "iopub.status.idle": "2023-08-12T03:44:29.807060Z",
     "shell.execute_reply": "2023-08-12T03:44:29.805847Z"
    },
    "papermill": {
     "duration": 0.115845,
     "end_time": "2023-08-12T03:44:29.809269",
     "exception": false,
     "start_time": "2023-08-12T03:44:29.693424",
     "status": "completed"
    },
    "tags": []
   },
   "outputs": [],
   "source": [
    "# best3 = [\"audienceScore\", \"isFrequentReviewer\", \"reviewText\"]\n",
    "# best3_dict = {'cat': [\"isFrequentReviewer\"],\n",
    "#              'num': [\"audienceScore\"],\n",
    "#              'txt': ['reviewText']}\n",
    "# best3_dict"
   ]
  },
  {
   "cell_type": "code",
   "execution_count": 221,
   "id": "c242109c",
   "metadata": {
    "execution": {
     "iopub.execute_input": "2023-08-12T03:44:30.059680Z",
     "iopub.status.busy": "2023-08-12T03:44:30.059218Z",
     "iopub.status.idle": "2023-08-12T03:44:30.064518Z",
     "shell.execute_reply": "2023-08-12T03:44:30.063372Z"
    },
    "papermill": {
     "duration": 0.146124,
     "end_time": "2023-08-12T03:44:30.066849",
     "exception": false,
     "start_time": "2023-08-12T03:44:29.920725",
     "status": "completed"
    },
    "tags": []
   },
   "outputs": [],
   "source": [
    "# submit_v4(selected_features=best3_dict)"
   ]
  },
  {
   "cell_type": "markdown",
   "id": "284ea8bf",
   "metadata": {
    "papermill": {
     "duration": 0.107134,
     "end_time": "2023-08-12T03:44:30.280882",
     "exception": false,
     "start_time": "2023-08-12T03:44:30.173748",
     "status": "completed"
    },
    "tags": []
   },
   "source": [
    "## Try throwing almost everything (no boxOffice) at submit_v4!  "
   ]
  },
  {
   "cell_type": "code",
   "execution_count": 222,
   "id": "9f5f98af",
   "metadata": {
    "execution": {
     "iopub.execute_input": "2023-08-12T03:44:30.500313Z",
     "iopub.status.busy": "2023-08-12T03:44:30.499917Z",
     "iopub.status.idle": "2023-08-12T03:44:30.507617Z",
     "shell.execute_reply": "2023-08-12T03:44:30.506484Z"
    },
    "papermill": {
     "duration": 0.119676,
     "end_time": "2023-08-12T03:44:30.510811",
     "exception": false,
     "start_time": "2023-08-12T03:44:30.391135",
     "status": "completed"
    },
    "tags": []
   },
   "outputs": [
    {
     "data": {
      "text/plain": [
       "\"Most from merged = ['movieid', 'reviewerName', 'isFrequentReviewer', 'reviewText',\\n       'audienceScore', 'rating', 'runtimeMinutes', 'genre', \\n       'originalLanguage', 'director']\""
      ]
     },
     "execution_count": 222,
     "metadata": {},
     "output_type": "execute_result"
    }
   ],
   "source": [
    "\"\"\"Most from merged = ['movieid', 'reviewerName', 'isFrequentReviewer', 'reviewText',\n",
    "       'audienceScore', 'rating', 'runtimeMinutes', 'genre', \n",
    "       'originalLanguage', 'director']\"\"\"\n",
    "\n",
    "# almost_dict = {'cat': [\"isFrequentReviewer\", \"rating\", \"originalLanguage\"],\n",
    "#              'num': [\"audienceScore\", \"runtimeMinutes\"],\n",
    "#              'txt': ['reviewText', 'reviewerName', 'movieid', 'genre', 'director']}\n",
    "# almost_dict"
   ]
  },
  {
   "cell_type": "code",
   "execution_count": 223,
   "id": "f315a31f",
   "metadata": {
    "execution": {
     "iopub.execute_input": "2023-08-12T03:44:30.731130Z",
     "iopub.status.busy": "2023-08-12T03:44:30.730506Z",
     "iopub.status.idle": "2023-08-12T03:44:30.734171Z",
     "shell.execute_reply": "2023-08-12T03:44:30.733424Z"
    },
    "papermill": {
     "duration": 0.118276,
     "end_time": "2023-08-12T03:44:30.736285",
     "exception": false,
     "start_time": "2023-08-12T03:44:30.618009",
     "status": "completed"
    },
    "tags": []
   },
   "outputs": [],
   "source": [
    "# submit_v4(selected_features=almost_dict)"
   ]
  },
  {
   "cell_type": "markdown",
   "id": "666330e0",
   "metadata": {
    "papermill": {
     "duration": 0.106575,
     "end_time": "2023-08-12T03:44:30.949890",
     "exception": false,
     "start_time": "2023-08-12T03:44:30.843315",
     "status": "completed"
    },
    "tags": []
   },
   "source": [
    "## Try throwing everything possible at submit_v4!  "
   ]
  },
  {
   "cell_type": "code",
   "execution_count": 224,
   "id": "158d8a10",
   "metadata": {
    "execution": {
     "iopub.execute_input": "2023-08-12T03:44:31.166443Z",
     "iopub.status.busy": "2023-08-12T03:44:31.165713Z",
     "iopub.status.idle": "2023-08-12T03:44:31.171852Z",
     "shell.execute_reply": "2023-08-12T03:44:31.170889Z"
    },
    "papermill": {
     "duration": 0.116011,
     "end_time": "2023-08-12T03:44:31.174033",
     "exception": false,
     "start_time": "2023-08-12T03:44:31.058022",
     "status": "completed"
    },
    "tags": []
   },
   "outputs": [
    {
     "data": {
      "text/plain": [
       "\"All from merged = ['movieid', 'reviewerName', 'isFrequentReviewer', 'reviewText',\\n       'audienceScore', 'rating', 'runtimeMinutes', 'genre', 'boxOffice',\\n       'originalLanguage', 'director']\""
      ]
     },
     "execution_count": 224,
     "metadata": {},
     "output_type": "execute_result"
    }
   ],
   "source": [
    "\"\"\"All from merged = ['movieid', 'reviewerName', 'isFrequentReviewer', 'reviewText',\n",
    "       'audienceScore', 'rating', 'runtimeMinutes', 'genre', 'boxOffice',\n",
    "       'originalLanguage', 'director']\"\"\"\n",
    "\n",
    "# all_dict = {'cat': [\"isFrequentReviewer\", \"rating\", \"originalLanguage\"],\n",
    "#              'num': [\"audienceScore\", \"runtimeMinutes\", \"boxOffice\"],\n",
    "#              'txt': ['reviewText', 'reviewerName', 'movieid', 'genre', 'director']}\n",
    "# all_dict"
   ]
  },
  {
   "cell_type": "code",
   "execution_count": 225,
   "id": "b0f270b4",
   "metadata": {
    "execution": {
     "iopub.execute_input": "2023-08-12T03:44:31.391587Z",
     "iopub.status.busy": "2023-08-12T03:44:31.390840Z",
     "iopub.status.idle": "2023-08-12T03:44:31.395067Z",
     "shell.execute_reply": "2023-08-12T03:44:31.394223Z"
    },
    "papermill": {
     "duration": 0.115304,
     "end_time": "2023-08-12T03:44:31.397163",
     "exception": false,
     "start_time": "2023-08-12T03:44:31.281859",
     "status": "completed"
    },
    "tags": []
   },
   "outputs": [],
   "source": [
    "# submit_v4(selected_features=all_dict)"
   ]
  },
  {
   "cell_type": "markdown",
   "id": "4a8fb036",
   "metadata": {
    "papermill": {
     "duration": 0.106223,
     "end_time": "2023-08-12T03:44:31.609801",
     "exception": false,
     "start_time": "2023-08-12T03:44:31.503578",
     "status": "completed"
    },
    "tags": []
   },
   "source": [
    "## Try GridSearchCV on everything  "
   ]
  },
  {
   "cell_type": "code",
   "execution_count": 226,
   "id": "81e059bb",
   "metadata": {
    "execution": {
     "iopub.execute_input": "2023-08-12T03:44:31.831721Z",
     "iopub.status.busy": "2023-08-12T03:44:31.830968Z",
     "iopub.status.idle": "2023-08-12T03:44:31.835690Z",
     "shell.execute_reply": "2023-08-12T03:44:31.834742Z"
    },
    "papermill": {
     "duration": 0.118515,
     "end_time": "2023-08-12T03:44:31.838020",
     "exception": false,
     "start_time": "2023-08-12T03:44:31.719505",
     "status": "completed"
    },
    "tags": []
   },
   "outputs": [],
   "source": [
    "# param_grid = {\n",
    "#     \"model__C\": [0.5, 2, 5, 15]\n",
    "# }\n",
    "\n",
    "# param_grid = {\n",
    "#     'model__C' : [1, 5],\n",
    "#     'model__solver': ['lbfgs', 'liblinear', 'newton-cg', 'newton-cholesky', 'sag', 'saga']\n",
    "# }\n",
    "\n",
    "# param_grid = {\n",
    "#     'model__C' : [1, 5],\n",
    "#     'model__solver': ['lbfgs', 'liblinear', 'sag', 'saga']\n",
    "# }\n",
    "\n",
    "# param_grid = {\n",
    "#     'model__C' : [1, 5, 10, 15],\n",
    "#     'model__solver': ['lbfgs', 'liblinear', 'saga', 'newton-cg']\n",
    "# }\n",
    "\n",
    "# param_grid = {\n",
    "#     'model__C' : [1, 5, 10, 20],\n",
    "#     'model__solver': ['lbfgs', 'liblinear', 'saga']\n",
    "# }\n",
    "\n",
    "# param_grid"
   ]
  },
  {
   "cell_type": "code",
   "execution_count": 227,
   "id": "3ad3f4e3",
   "metadata": {
    "execution": {
     "iopub.execute_input": "2023-08-12T03:44:32.058219Z",
     "iopub.status.busy": "2023-08-12T03:44:32.057133Z",
     "iopub.status.idle": "2023-08-12T03:44:32.062360Z",
     "shell.execute_reply": "2023-08-12T03:44:32.061364Z"
    },
    "papermill": {
     "duration": 0.119419,
     "end_time": "2023-08-12T03:44:32.064789",
     "exception": false,
     "start_time": "2023-08-12T03:44:31.945370",
     "status": "completed"
    },
    "tags": []
   },
   "outputs": [],
   "source": [
    "# submit_v4(selected_features={'txt': [\"genre\"]}, param_grid=param_grid)"
   ]
  },
  {
   "cell_type": "code",
   "execution_count": 228,
   "id": "4ce1a1d4",
   "metadata": {
    "execution": {
     "iopub.execute_input": "2023-08-12T03:44:32.281509Z",
     "iopub.status.busy": "2023-08-12T03:44:32.281085Z",
     "iopub.status.idle": "2023-08-12T03:44:32.287634Z",
     "shell.execute_reply": "2023-08-12T03:44:32.286840Z"
    },
    "papermill": {
     "duration": 0.117879,
     "end_time": "2023-08-12T03:44:32.289859",
     "exception": false,
     "start_time": "2023-08-12T03:44:32.171980",
     "status": "completed"
    },
    "tags": []
   },
   "outputs": [
    {
     "data": {
      "text/plain": [
       "\"Used 'groupby' function instead on 'drop_duplicates' on movies.csv file. \\nIt reduced the number of missing values significantly! \\nThen used LogisticRegression() with GridSearchCV on submit_v4 function with \\nparam_grid={'model__C': [1, 5, 10], 'model__solver': ['lbfgs', 'liblinear', 'saga']}. \\nThe best f1_micro score in GridSearchCV was 0.8399771362056203 which is highest among \\nall the versions so far. Best C was 5 and best solver was 'saga'.\\nScore obtained was 0.84385 which is lower than 0.84441.\""
      ]
     },
     "execution_count": 228,
     "metadata": {},
     "output_type": "execute_result"
    }
   ],
   "source": [
    "# submit_v4(selected_features=all_dict, param_grid=param_grid)\n",
    "\n",
    "# Best C was 5\n",
    "# Best solver was liblinear\n",
    "\n",
    "\"\"\"Used 'groupby' function instead on 'drop_duplicates' on movies.csv file. \n",
    "It reduced the number of missing values significantly! \n",
    "Then used LogisticRegression() with GridSearchCV on submit_v4 function with \n",
    "param_grid={'model__C': [1, 5, 10], 'model__solver': ['lbfgs', 'liblinear', 'saga']}. \n",
    "The best f1_micro score in GridSearchCV was 0.8399771362056203 which is highest among \n",
    "all the versions so far. Best C was 5 and best solver was 'saga'.\n",
    "Score obtained was 0.84385 which is lower than 0.84441.\"\"\""
   ]
  },
  {
   "cell_type": "code",
   "execution_count": 229,
   "id": "6d7793dc",
   "metadata": {
    "execution": {
     "iopub.execute_input": "2023-08-12T03:44:32.508601Z",
     "iopub.status.busy": "2023-08-12T03:44:32.507220Z",
     "iopub.status.idle": "2023-08-12T03:44:32.512764Z",
     "shell.execute_reply": "2023-08-12T03:44:32.511909Z"
    },
    "papermill": {
     "duration": 0.11713,
     "end_time": "2023-08-12T03:44:32.515076",
     "exception": false,
     "start_time": "2023-08-12T03:44:32.397946",
     "status": "completed"
    },
    "tags": []
   },
   "outputs": [],
   "source": [
    "# Best 5 parameters\n",
    "\n",
    "# best5_dict = {'num': [\"audienceScore\"],\n",
    "#              'txt': ['reviewText', 'reviewerName','movieid', 'director']}\n",
    "\n",
    "# best5_dict"
   ]
  },
  {
   "cell_type": "code",
   "execution_count": 230,
   "id": "3f140b35",
   "metadata": {
    "execution": {
     "iopub.execute_input": "2023-08-12T03:44:32.734118Z",
     "iopub.status.busy": "2023-08-12T03:44:32.733490Z",
     "iopub.status.idle": "2023-08-12T03:44:32.742098Z",
     "shell.execute_reply": "2023-08-12T03:44:32.741090Z"
    },
    "papermill": {
     "duration": 0.121898,
     "end_time": "2023-08-12T03:44:32.744269",
     "exception": false,
     "start_time": "2023-08-12T03:44:32.622371",
     "status": "completed"
    },
    "tags": []
   },
   "outputs": [
    {
     "data": {
      "text/plain": [
       "\"(Update): Used both CountVectorizer and TfidfVectorizer on a massive GridSearchCV \\nwhich took 22527.2s  (6.25 hrs) to run! Gave a score of 0.8439093822800923 locally and did not overfit!\\nBest params: {'model__C': 1, 'model__solver': 'liblinear'}.\\nHighest public score yet: 0.84591 (Rank up from 9 to 5!)\""
      ]
     },
     "execution_count": 230,
     "metadata": {},
     "output_type": "execute_result"
    }
   ],
   "source": [
    "# Submit best 5 features\n",
    "\n",
    "\"\"\"(Update): Used both CountVectorizer and TfidfVectorizer on a massive GridSearchCV \n",
    "which took 22527.2s  (6.25 hrs) to run! Gave a score of 0.8439093822800923 locally and did not overfit!\n",
    "Best params: {'model__C': 1, 'model__solver': 'liblinear'}.\n",
    "Highest public score yet: 0.84591 (Rank up from 9 to 5!)\"\"\"\n",
    "\n",
    "# param_grid = {\n",
    "#     'model__C' : [5, 10, 15],\n",
    "#     'model__solver': ['lbfgs', 'liblinear', 'saga']\n",
    "# }\n",
    "\n",
    "\n",
    "# Try new param_grid with fit_intercept and dual in logreg\n",
    "\n",
    "# param_grid = {\n",
    "#     'model__C' : [1],\n",
    "#     'model__solver': ['liblinear'],\n",
    "#     \"model__fit_intercept\" : [True, False],\n",
    "#     \"model__dual\" : [True, False] \n",
    "# }\n",
    "\n",
    "\n",
    "# Local testing  \n",
    "# submit_v4(selected_features={'num': ['audienceScore']},\n",
    "#          add_countvec=True)\n",
    "\n",
    "# submit_v4(selected_features={'num': ['audienceScore']},\n",
    "#          add_countvec=True, \n",
    "#           param_grid=param_grid)\n",
    "\n",
    "\n",
    "# Main submission\n",
    "\n",
    "# submit_v4(selected_features=best5_dict,\n",
    "#          add_countvec=True)\n",
    "\n",
    "\n",
    "# submit_v4(selected_features=best5_dict,\n",
    "#           add_countvec=True,\n",
    "#           param_grid=param_grid)"
   ]
  },
  {
   "cell_type": "code",
   "execution_count": 231,
   "id": "5716637f",
   "metadata": {
    "execution": {
     "iopub.execute_input": "2023-08-12T03:44:32.964442Z",
     "iopub.status.busy": "2023-08-12T03:44:32.963781Z",
     "iopub.status.idle": "2023-08-12T03:44:32.969366Z",
     "shell.execute_reply": "2023-08-12T03:44:32.968509Z"
    },
    "papermill": {
     "duration": 0.118202,
     "end_time": "2023-08-12T03:44:32.971685",
     "exception": false,
     "start_time": "2023-08-12T03:44:32.853483",
     "status": "completed"
    },
    "tags": []
   },
   "outputs": [],
   "source": [
    "## ALL DICT cv=10\n",
    "\n",
    "# all_dict = {'cat': [\"isFrequentReviewer\", \"rating\", \"originalLanguage\"],\n",
    "#              'num': [\"audienceScore\", \"runtimeMinutes\", \"boxOffice\"],\n",
    "#              'txt': ['reviewText', 'reviewerName', 'movieid', 'genre', 'director']}\n",
    "# print(all_dict)\n",
    "\n",
    "# param_grid = {\n",
    "#     'model__C' : [2, 5, 10],\n",
    "#     'model__solver': ['lbfgs', 'liblinear', 'saga']\n",
    "# }\n",
    "# print(param_grid)\n",
    "\n",
    "# param_grid = {\n",
    "#     'model__C' : [1, 5, 10],\n",
    "#     'model__solver': ['liblinear'],\n",
    "#     \"model__fit_intercept\" : [True, False],\n",
    "#     \"model__dual\" : [True, False] \n",
    "# }\n",
    "\n",
    "\n",
    "# Main submission\n",
    "\n",
    "# submit_v4(selected_model=LogisticRegression(C=5, solver='liblinear', max_iter=10000),\n",
    "#           selected_features=all_dict,\n",
    "#           param_grid=param_grid)\n",
    "\n",
    "# submit_v4(selected_features=all_dict,\n",
    "#           add_countvec=True,\n",
    "#           param_grid=param_grid)"
   ]
  },
  {
   "cell_type": "code",
   "execution_count": 232,
   "id": "c07bf87b",
   "metadata": {
    "execution": {
     "iopub.execute_input": "2023-08-12T03:44:33.192609Z",
     "iopub.status.busy": "2023-08-12T03:44:33.191945Z",
     "iopub.status.idle": "2023-08-12T03:44:33.196677Z",
     "shell.execute_reply": "2023-08-12T03:44:33.195873Z"
    },
    "papermill": {
     "duration": 0.11846,
     "end_time": "2023-08-12T03:44:33.198779",
     "exception": false,
     "start_time": "2023-08-12T03:44:33.080319",
     "status": "completed"
    },
    "tags": []
   },
   "outputs": [],
   "source": [
    "# Best 6 parameters\n",
    "\n",
    "# best6_dict = {'cat': [\"isFrequentReviewer\"],\n",
    "#              'num': [\"audienceScore\"],\n",
    "#              'txt': ['reviewText', 'reviewerName', 'genre', 'director']}\n",
    "\n",
    "# best6_dict = {'num': [\"audienceScore\"],\n",
    "#              'txt': ['reviewText', 'reviewerName', 'genre','movieid', 'director']}\n",
    "\n",
    "# best6_dict"
   ]
  },
  {
   "cell_type": "code",
   "execution_count": 233,
   "id": "eb9bdb56",
   "metadata": {
    "execution": {
     "iopub.execute_input": "2023-08-12T03:44:33.417143Z",
     "iopub.status.busy": "2023-08-12T03:44:33.416490Z",
     "iopub.status.idle": "2023-08-12T03:44:33.421146Z",
     "shell.execute_reply": "2023-08-12T03:44:33.420216Z"
    },
    "papermill": {
     "duration": 0.11706,
     "end_time": "2023-08-12T03:44:33.423517",
     "exception": false,
     "start_time": "2023-08-12T03:44:33.306457",
     "status": "completed"
    },
    "tags": []
   },
   "outputs": [],
   "source": [
    "# Submit best 6 features (version 2)\n",
    "\n",
    "# submit_v4(selected_features=best6_dict,\n",
    "#           param_grid=param_grid)"
   ]
  },
  {
   "cell_type": "code",
   "execution_count": 234,
   "id": "1121a6c3",
   "metadata": {
    "execution": {
     "iopub.execute_input": "2023-08-12T03:44:33.645088Z",
     "iopub.status.busy": "2023-08-12T03:44:33.644447Z",
     "iopub.status.idle": "2023-08-12T03:44:33.649019Z",
     "shell.execute_reply": "2023-08-12T03:44:33.648225Z"
    },
    "papermill": {
     "duration": 0.118454,
     "end_time": "2023-08-12T03:44:33.651186",
     "exception": false,
     "start_time": "2023-08-12T03:44:33.532732",
     "status": "completed"
    },
    "tags": []
   },
   "outputs": [],
   "source": [
    "# Best 7 parameters\n",
    "\n",
    "# best7_dict = {'cat': [\"isFrequentReviewer\"],\n",
    "#              'num': [\"audienceScore\"],\n",
    "#              'txt': ['reviewText', 'reviewerName', 'movieid', 'genre', 'director']}\n",
    "# best7_dict"
   ]
  },
  {
   "cell_type": "code",
   "execution_count": 235,
   "id": "cfcec0ee",
   "metadata": {
    "execution": {
     "iopub.execute_input": "2023-08-12T03:44:33.870031Z",
     "iopub.status.busy": "2023-08-12T03:44:33.869407Z",
     "iopub.status.idle": "2023-08-12T03:44:33.873788Z",
     "shell.execute_reply": "2023-08-12T03:44:33.872967Z"
    },
    "papermill": {
     "duration": 0.115632,
     "end_time": "2023-08-12T03:44:33.875961",
     "exception": false,
     "start_time": "2023-08-12T03:44:33.760329",
     "status": "completed"
    },
    "tags": []
   },
   "outputs": [],
   "source": [
    "# Submit best 7 features\n",
    "\n",
    "# submit_v4(selected_features=best7_dict,\n",
    "#           param_grid=param_grid)"
   ]
  },
  {
   "cell_type": "code",
   "execution_count": 236,
   "id": "36904f6a",
   "metadata": {
    "execution": {
     "iopub.execute_input": "2023-08-12T03:44:34.093856Z",
     "iopub.status.busy": "2023-08-12T03:44:34.093162Z",
     "iopub.status.idle": "2023-08-12T03:44:34.097909Z",
     "shell.execute_reply": "2023-08-12T03:44:34.096931Z"
    },
    "papermill": {
     "duration": 0.116866,
     "end_time": "2023-08-12T03:44:34.100156",
     "exception": false,
     "start_time": "2023-08-12T03:44:33.983290",
     "status": "completed"
    },
    "tags": []
   },
   "outputs": [],
   "source": [
    "# submit_v4(selected_features=best6_dict, param_grid=param_grid)"
   ]
  },
  {
   "cell_type": "markdown",
   "id": "e84b2bee",
   "metadata": {
    "papermill": {
     "duration": 0.108276,
     "end_time": "2023-08-12T03:44:34.315426",
     "exception": false,
     "start_time": "2023-08-12T03:44:34.207150",
     "status": "completed"
    },
    "tags": []
   },
   "source": [
    "## Try a new feature dict  \n",
    "\n"
   ]
  },
  {
   "cell_type": "code",
   "execution_count": 237,
   "id": "d129056f",
   "metadata": {
    "execution": {
     "iopub.execute_input": "2023-08-12T03:44:34.535271Z",
     "iopub.status.busy": "2023-08-12T03:44:34.534638Z",
     "iopub.status.idle": "2023-08-12T03:44:34.538448Z",
     "shell.execute_reply": "2023-08-12T03:44:34.537674Z"
    },
    "papermill": {
     "duration": 0.11674,
     "end_time": "2023-08-12T03:44:34.540640",
     "exception": false,
     "start_time": "2023-08-12T03:44:34.423900",
     "status": "completed"
    },
    "tags": []
   },
   "outputs": [],
   "source": [
    "# all_dict_new = {'cat': [\"isFrequentReviewer\", \"rating\", \"originalLanguage\"],\n",
    "#              'num': [\"audienceScore\", \"runtimeMinutes\", \"boxOffice\"],\n",
    "#              'txt': ['reviewText', \"reviewerName\", 'movieid', 'genre', 'director']}\n",
    "# all_dict_new"
   ]
  },
  {
   "cell_type": "code",
   "execution_count": 238,
   "id": "a9afd843",
   "metadata": {
    "execution": {
     "iopub.execute_input": "2023-08-12T03:44:34.761569Z",
     "iopub.status.busy": "2023-08-12T03:44:34.760888Z",
     "iopub.status.idle": "2023-08-12T03:44:34.765001Z",
     "shell.execute_reply": "2023-08-12T03:44:34.764026Z"
    },
    "papermill": {
     "duration": 0.118228,
     "end_time": "2023-08-12T03:44:34.767580",
     "exception": false,
     "start_time": "2023-08-12T03:44:34.649352",
     "status": "completed"
    },
    "tags": []
   },
   "outputs": [],
   "source": [
    "# submit_v4(selected_features={'txt': ['genre']}, param_grid=param_grid)"
   ]
  },
  {
   "cell_type": "code",
   "execution_count": 239,
   "id": "77ce6f30",
   "metadata": {
    "execution": {
     "iopub.execute_input": "2023-08-12T03:44:34.987616Z",
     "iopub.status.busy": "2023-08-12T03:44:34.986943Z",
     "iopub.status.idle": "2023-08-12T03:44:34.991060Z",
     "shell.execute_reply": "2023-08-12T03:44:34.990062Z"
    },
    "papermill": {
     "duration": 0.116723,
     "end_time": "2023-08-12T03:44:34.993346",
     "exception": false,
     "start_time": "2023-08-12T03:44:34.876623",
     "status": "completed"
    },
    "tags": []
   },
   "outputs": [],
   "source": [
    "# submit_v4(selected_features=all_dict_new, param_grid=param_grid)"
   ]
  },
  {
   "cell_type": "code",
   "execution_count": 240,
   "id": "dbff91e3",
   "metadata": {
    "execution": {
     "iopub.execute_input": "2023-08-12T03:44:35.212100Z",
     "iopub.status.busy": "2023-08-12T03:44:35.211474Z",
     "iopub.status.idle": "2023-08-12T03:44:35.215172Z",
     "shell.execute_reply": "2023-08-12T03:44:35.214430Z"
    },
    "papermill": {
     "duration": 0.11497,
     "end_time": "2023-08-12T03:44:35.217345",
     "exception": false,
     "start_time": "2023-08-12T03:44:35.102375",
     "status": "completed"
    },
    "tags": []
   },
   "outputs": [],
   "source": [
    "# Try non-text based columns\n",
    "# num_cat_dict = {'cat': ['isFrequentReviewer', 'rating', 'originalLanguage'],\n",
    "#  'num': ['audienceScore', 'runtimeMinutes', 'boxOffice']}\n",
    "# num_cat_dict"
   ]
  },
  {
   "cell_type": "code",
   "execution_count": 241,
   "id": "f4dd8027",
   "metadata": {
    "execution": {
     "iopub.execute_input": "2023-08-12T03:44:35.434597Z",
     "iopub.status.busy": "2023-08-12T03:44:35.434120Z",
     "iopub.status.idle": "2023-08-12T03:44:35.438775Z",
     "shell.execute_reply": "2023-08-12T03:44:35.437655Z"
    },
    "papermill": {
     "duration": 0.116751,
     "end_time": "2023-08-12T03:44:35.441276",
     "exception": false,
     "start_time": "2023-08-12T03:44:35.324525",
     "status": "completed"
    },
    "tags": []
   },
   "outputs": [],
   "source": [
    "# Use num_cat_dict features\n",
    "# (Update): Gets a local score of 0.7027181356991726. Not great.\n",
    "# submit_v4(selected_model=LogisticRegression(max_iter=100000), selected_features=num_cat_dict, param_grid=param_grid)"
   ]
  },
  {
   "cell_type": "code",
   "execution_count": 242,
   "id": "6fd17926",
   "metadata": {
    "execution": {
     "iopub.execute_input": "2023-08-12T03:44:35.658244Z",
     "iopub.status.busy": "2023-08-12T03:44:35.657853Z",
     "iopub.status.idle": "2023-08-12T03:44:35.662228Z",
     "shell.execute_reply": "2023-08-12T03:44:35.661279Z"
    },
    "papermill": {
     "duration": 0.115432,
     "end_time": "2023-08-12T03:44:35.664521",
     "exception": false,
     "start_time": "2023-08-12T03:44:35.549089",
     "status": "completed"
    },
    "tags": []
   },
   "outputs": [],
   "source": [
    "# Try data other than reviewText\n",
    "\n",
    "# mov_dict = {'cat': ['rating', 'originalLanguage'],\n",
    "#  'num': ['audienceScore', 'runtimeMinutes', 'boxOffice'],\n",
    "#  'txt': ['movieid', 'genre', 'director']}\n",
    "# mov_dict"
   ]
  },
  {
   "cell_type": "code",
   "execution_count": 243,
   "id": "d2683d77",
   "metadata": {
    "execution": {
     "iopub.execute_input": "2023-08-12T03:44:35.889749Z",
     "iopub.status.busy": "2023-08-12T03:44:35.888979Z",
     "iopub.status.idle": "2023-08-12T03:44:35.893134Z",
     "shell.execute_reply": "2023-08-12T03:44:35.892409Z"
    },
    "papermill": {
     "duration": 0.118732,
     "end_time": "2023-08-12T03:44:35.895257",
     "exception": false,
     "start_time": "2023-08-12T03:44:35.776525",
     "status": "completed"
    },
    "tags": []
   },
   "outputs": [],
   "source": [
    "# Use mov_dict features\n",
    "# (Update): Gets a local score of 0.7475454316469369, which is not bad at all.\n",
    "# submit_v4(selected_model=LogisticRegression(max_iter=100000), selected_features=mov_dict, param_grid=param_grid)"
   ]
  },
  {
   "cell_type": "markdown",
   "id": "cbbf9e8f",
   "metadata": {
    "papermill": {
     "duration": 0.1798,
     "end_time": "2023-08-12T03:44:36.185450",
     "exception": false,
     "start_time": "2023-08-12T03:44:36.005650",
     "status": "completed"
    },
    "tags": []
   },
   "source": [
    "# Try a new column 'reviewYN'  \n",
    "\n"
   ]
  },
  {
   "cell_type": "code",
   "execution_count": 244,
   "id": "8bdc0d61",
   "metadata": {
    "execution": {
     "iopub.execute_input": "2023-08-12T03:44:36.403917Z",
     "iopub.status.busy": "2023-08-12T03:44:36.403504Z",
     "iopub.status.idle": "2023-08-12T03:44:36.408324Z",
     "shell.execute_reply": "2023-08-12T03:44:36.407202Z"
    },
    "papermill": {
     "duration": 0.116876,
     "end_time": "2023-08-12T03:44:36.410585",
     "exception": false,
     "start_time": "2023-08-12T03:44:36.293709",
     "status": "completed"
    },
    "tags": []
   },
   "outputs": [],
   "source": [
    "# all_dict_3 = {'cat': [\"isFrequentReviewer\", \"rating\", \"originalLanguage\", \"reviewYN\"],\n",
    "#              'num': [\"audienceScore\", \"runtimeMinutes\", \"boxOffice\"],\n",
    "#              'txt': ['reviewText', \"reviewerName\", 'movieid', 'genre', 'director']}\n",
    "# all_dict_3"
   ]
  },
  {
   "cell_type": "code",
   "execution_count": 245,
   "id": "2a33ee21",
   "metadata": {
    "execution": {
     "iopub.execute_input": "2023-08-12T03:44:36.630690Z",
     "iopub.status.busy": "2023-08-12T03:44:36.630284Z",
     "iopub.status.idle": "2023-08-12T03:44:36.634839Z",
     "shell.execute_reply": "2023-08-12T03:44:36.633716Z"
    },
    "papermill": {
     "duration": 0.118548,
     "end_time": "2023-08-12T03:44:36.637144",
     "exception": false,
     "start_time": "2023-08-12T03:44:36.518596",
     "status": "completed"
    },
    "tags": []
   },
   "outputs": [],
   "source": [
    "# submit_v4(selected_model=LogisticRegression(max_iter=100000),\n",
    "#          selected_features=all_dict_3, \n",
    "#           param_grid=param_grid)"
   ]
  },
  {
   "cell_type": "markdown",
   "id": "c2016715",
   "metadata": {
    "papermill": {
     "duration": 0.110184,
     "end_time": "2023-08-12T03:44:36.858293",
     "exception": false,
     "start_time": "2023-08-12T03:44:36.748109",
     "status": "completed"
    },
    "tags": []
   },
   "source": [
    "### More GridSearchCV using LinearSVC  "
   ]
  },
  {
   "cell_type": "code",
   "execution_count": 246,
   "id": "5addaec3",
   "metadata": {
    "execution": {
     "iopub.execute_input": "2023-08-12T03:44:37.079010Z",
     "iopub.status.busy": "2023-08-12T03:44:37.078242Z",
     "iopub.status.idle": "2023-08-12T03:44:37.082568Z",
     "shell.execute_reply": "2023-08-12T03:44:37.081610Z"
    },
    "papermill": {
     "duration": 0.117897,
     "end_time": "2023-08-12T03:44:37.084936",
     "exception": false,
     "start_time": "2023-08-12T03:44:36.967039",
     "status": "completed"
    },
    "tags": []
   },
   "outputs": [],
   "source": [
    "# param_grid_svc_2 = {\n",
    "#     'model__C': [1.0],\n",
    "#     'model__loss': ['hinge', 'squared_hinge'],\n",
    "#     'model__class_weight': ['balanced', None]\n",
    "# }\n",
    "# param_grid_svc_2"
   ]
  },
  {
   "cell_type": "code",
   "execution_count": 247,
   "id": "3410777c",
   "metadata": {
    "execution": {
     "iopub.execute_input": "2023-08-12T03:44:37.304276Z",
     "iopub.status.busy": "2023-08-12T03:44:37.303405Z",
     "iopub.status.idle": "2023-08-12T03:44:37.307756Z",
     "shell.execute_reply": "2023-08-12T03:44:37.306944Z"
    },
    "papermill": {
     "duration": 0.116677,
     "end_time": "2023-08-12T03:44:37.310020",
     "exception": false,
     "start_time": "2023-08-12T03:44:37.193343",
     "status": "completed"
    },
    "tags": []
   },
   "outputs": [],
   "source": [
    "# submit_v4(selected_model=LinearSVC(max_iter=100000, random_state=42), selected_features={'num': [\"audienceScore\"]}, param_grid=param_grid_svc_2)"
   ]
  },
  {
   "cell_type": "code",
   "execution_count": 248,
   "id": "9653dbdd",
   "metadata": {
    "execution": {
     "iopub.execute_input": "2023-08-12T03:44:37.530320Z",
     "iopub.status.busy": "2023-08-12T03:44:37.529553Z",
     "iopub.status.idle": "2023-08-12T03:44:37.534349Z",
     "shell.execute_reply": "2023-08-12T03:44:37.533307Z"
    },
    "papermill": {
     "duration": 0.117958,
     "end_time": "2023-08-12T03:44:37.537216",
     "exception": false,
     "start_time": "2023-08-12T03:44:37.419258",
     "status": "completed"
    },
    "tags": []
   },
   "outputs": [],
   "source": [
    "# submit_v4(selected_model=LinearSVC(max_iter=100000, random_state=42), selected_features=all_dict, param_grid=param_grid_svc_2)"
   ]
  },
  {
   "cell_type": "markdown",
   "id": "5d36bd14",
   "metadata": {
    "papermill": {
     "duration": 0.109888,
     "end_time": "2023-08-12T03:44:37.756953",
     "exception": false,
     "start_time": "2023-08-12T03:44:37.647065",
     "status": "completed"
    },
    "tags": []
   },
   "source": [
    "### Boosting techniques  "
   ]
  },
  {
   "cell_type": "code",
   "execution_count": 249,
   "id": "5213f07d",
   "metadata": {
    "execution": {
     "iopub.execute_input": "2023-08-12T03:44:37.976074Z",
     "iopub.status.busy": "2023-08-12T03:44:37.975561Z",
     "iopub.status.idle": "2023-08-12T03:44:37.980503Z",
     "shell.execute_reply": "2023-08-12T03:44:37.979104Z"
    },
    "papermill": {
     "duration": 0.117543,
     "end_time": "2023-08-12T03:44:37.982953",
     "exception": false,
     "start_time": "2023-08-12T03:44:37.865410",
     "status": "completed"
    },
    "tags": []
   },
   "outputs": [],
   "source": [
    "# adc = AdaBoostClassifier(estimator=LogisticRegression(C=5, solver=\"saga\", max_iter=100000), n_estimators=50)\n",
    "# adc"
   ]
  },
  {
   "cell_type": "code",
   "execution_count": 250,
   "id": "bacd89e7",
   "metadata": {
    "execution": {
     "iopub.execute_input": "2023-08-12T03:44:38.202112Z",
     "iopub.status.busy": "2023-08-12T03:44:38.201680Z",
     "iopub.status.idle": "2023-08-12T03:44:38.206178Z",
     "shell.execute_reply": "2023-08-12T03:44:38.205042Z"
    },
    "papermill": {
     "duration": 0.116211,
     "end_time": "2023-08-12T03:44:38.208436",
     "exception": false,
     "start_time": "2023-08-12T03:44:38.092225",
     "status": "completed"
    },
    "tags": []
   },
   "outputs": [],
   "source": [
    "# submit_v4(selected_model=adc, selected_features={'num': [\"audienceScore\"]}, param_grid=None)"
   ]
  },
  {
   "cell_type": "code",
   "execution_count": 251,
   "id": "f61615a8",
   "metadata": {
    "execution": {
     "iopub.execute_input": "2023-08-12T03:44:38.430050Z",
     "iopub.status.busy": "2023-08-12T03:44:38.429307Z",
     "iopub.status.idle": "2023-08-12T03:44:38.433583Z",
     "shell.execute_reply": "2023-08-12T03:44:38.432706Z"
    },
    "papermill": {
     "duration": 0.116313,
     "end_time": "2023-08-12T03:44:38.435901",
     "exception": false,
     "start_time": "2023-08-12T03:44:38.319588",
     "status": "completed"
    },
    "tags": []
   },
   "outputs": [],
   "source": [
    "# submit_v4(selected_model=adc, selected_features=all_dict, param_grid=None)\n",
    "\n",
    "# Took 1 hour 15 mins to run and gave a public score of only 0.71089. Discarded."
   ]
  },
  {
   "cell_type": "markdown",
   "id": "ba553265",
   "metadata": {
    "papermill": {
     "duration": 0.10866,
     "end_time": "2023-08-12T03:44:38.653320",
     "exception": false,
     "start_time": "2023-08-12T03:44:38.544660",
     "status": "completed"
    },
    "tags": []
   },
   "source": [
    "### LightGBM  "
   ]
  },
  {
   "cell_type": "code",
   "execution_count": 252,
   "id": "0d1c547a",
   "metadata": {
    "execution": {
     "iopub.execute_input": "2023-08-12T03:44:38.874149Z",
     "iopub.status.busy": "2023-08-12T03:44:38.873372Z",
     "iopub.status.idle": "2023-08-12T03:44:38.877225Z",
     "shell.execute_reply": "2023-08-12T03:44:38.876488Z"
    },
    "papermill": {
     "duration": 0.115898,
     "end_time": "2023-08-12T03:44:38.879614",
     "exception": false,
     "start_time": "2023-08-12T03:44:38.763716",
     "status": "completed"
    },
    "tags": []
   },
   "outputs": [],
   "source": [
    "# lgb = ltb.LGBMClassifier()\n",
    "# lgb"
   ]
  },
  {
   "cell_type": "code",
   "execution_count": 253,
   "id": "119abb53",
   "metadata": {
    "execution": {
     "iopub.execute_input": "2023-08-12T03:44:39.101123Z",
     "iopub.status.busy": "2023-08-12T03:44:39.100689Z",
     "iopub.status.idle": "2023-08-12T03:44:39.105764Z",
     "shell.execute_reply": "2023-08-12T03:44:39.104585Z"
    },
    "papermill": {
     "duration": 0.118146,
     "end_time": "2023-08-12T03:44:39.108210",
     "exception": false,
     "start_time": "2023-08-12T03:44:38.990064",
     "status": "completed"
    },
    "tags": []
   },
   "outputs": [],
   "source": [
    "# Try LightGBM with default settings\n",
    "# (Update): Public score only 0.77713. It was fast, took less than 5 mins (without GridSearchCV)\n",
    "\n",
    "# submit_v4(selected_model=ltb.LGBMClassifier(), selected_features=all_dict, param_grid=None)"
   ]
  },
  {
   "cell_type": "markdown",
   "id": "560d3a8b",
   "metadata": {
    "papermill": {
     "duration": 0.108602,
     "end_time": "2023-08-12T03:44:39.324367",
     "exception": false,
     "start_time": "2023-08-12T03:44:39.215765",
     "status": "completed"
    },
    "tags": []
   },
   "source": [
    "# Try feature selection and vocab fine tuning of reviewText column"
   ]
  },
  {
   "cell_type": "markdown",
   "id": "dea8f5c4",
   "metadata": {
    "papermill": {
     "duration": 0.107372,
     "end_time": "2023-08-12T03:44:39.540629",
     "exception": false,
     "start_time": "2023-08-12T03:44:39.433257",
     "status": "completed"
    },
    "tags": []
   },
   "source": [
    "## Plan  \n",
    "* Add a new column 'reviewWC' which has word count of 'reviewText'  \n",
    "    * Check if there is any relationship between 'reviewWC' and 'sentiment'\n",
    "* Work on vocabulary\n",
    "     * Use TfidfVectorizer and find out the vocabulary of 'reviewText' column for various ngrams\n",
    "     * Use RecursiveFeatureElimination (RFE) or RFECV to select 1000 top words/vocab for each ngram\n",
    "     * Use the final vocab (1000-3000 words) in the model and see how it performs compared to whole vocab\n"
   ]
  },
  {
   "cell_type": "code",
   "execution_count": 254,
   "id": "4149b3a3",
   "metadata": {
    "execution": {
     "iopub.execute_input": "2023-08-12T03:44:39.760178Z",
     "iopub.status.busy": "2023-08-12T03:44:39.759760Z",
     "iopub.status.idle": "2023-08-12T03:44:39.764513Z",
     "shell.execute_reply": "2023-08-12T03:44:39.763378Z"
    },
    "papermill": {
     "duration": 0.118181,
     "end_time": "2023-08-12T03:44:39.766687",
     "exception": false,
     "start_time": "2023-08-12T03:44:39.648506",
     "status": "completed"
    },
    "tags": []
   },
   "outputs": [],
   "source": [
    "# 'reviewWC' and 'sentiment'\n",
    "# (Conclusion): 'reviewWC' is practically same as DummyClassifier (accuracy of 0.6682375059904889 on train data). It just predicts 'positive' for all columns\n",
    "\n",
    "# reviewWC_dict = {\"num\": [\"reviewWC\"]}\n",
    "# submit_v4(selected_model=LogisticRegression(),\n",
    "#          selected_features=reviewWC_dict,\n",
    "#          param_grid=None)"
   ]
  },
  {
   "cell_type": "code",
   "execution_count": 255,
   "id": "6f298af5",
   "metadata": {
    "execution": {
     "iopub.execute_input": "2023-08-12T03:44:40.002888Z",
     "iopub.status.busy": "2023-08-12T03:44:40.002449Z",
     "iopub.status.idle": "2023-08-12T03:44:40.009804Z",
     "shell.execute_reply": "2023-08-12T03:44:40.008385Z"
    },
    "papermill": {
     "duration": 0.139256,
     "end_time": "2023-08-12T03:44:40.017605",
     "exception": false,
     "start_time": "2023-08-12T03:44:39.878349",
     "status": "completed"
    },
    "tags": []
   },
   "outputs": [],
   "source": [
    "# 'reviewYN' and 'sentiment'\n",
    "# (Conclusion): 'reviewYN' is practically same as DummyClassifier (accuracy of 0.6682375059904889 on train data). It just predicts 'positive' for all columns\n",
    "\n",
    "# reviewYN_dict = {\"cat\": [\"reviewYN\"]}\n",
    "# submit_v4(selected_model=LogisticRegression(),\n",
    "#          selected_features=reviewYN_dict,\n",
    "#          param_grid=None)"
   ]
  },
  {
   "cell_type": "markdown",
   "id": "cd9fc37b",
   "metadata": {
    "papermill": {
     "duration": 0.107332,
     "end_time": "2023-08-12T03:44:40.237148",
     "exception": false,
     "start_time": "2023-08-12T03:44:40.129816",
     "status": "completed"
    },
    "tags": []
   },
   "source": [
    "## Submissions using 'vocabulary' built from 'reviewText' data  "
   ]
  },
  {
   "cell_type": "markdown",
   "id": "26402ff3",
   "metadata": {
    "papermill": {
     "duration": 0.106949,
     "end_time": "2023-08-12T03:44:40.451601",
     "exception": false,
     "start_time": "2023-08-12T03:44:40.344652",
     "status": "completed"
    },
    "tags": []
   },
   "source": [
    "### Submit best 6 features along with common vocab  "
   ]
  },
  {
   "cell_type": "code",
   "execution_count": 256,
   "id": "99985c0b",
   "metadata": {
    "execution": {
     "iopub.execute_input": "2023-08-12T03:44:40.669682Z",
     "iopub.status.busy": "2023-08-12T03:44:40.669276Z",
     "iopub.status.idle": "2023-08-12T03:44:40.673608Z",
     "shell.execute_reply": "2023-08-12T03:44:40.672688Z"
    },
    "papermill": {
     "duration": 0.11637,
     "end_time": "2023-08-12T03:44:40.675814",
     "exception": false,
     "start_time": "2023-08-12T03:44:40.559444",
     "status": "completed"
    },
    "tags": []
   },
   "outputs": [],
   "source": [
    "# Best 6 parameters (version 2)  \n",
    "\n",
    "# best6_dict = {'num': [\"audienceScore\"],\n",
    "#              'txt': ['reviewText', 'reviewerName', 'genre','movieid', 'director']}\n",
    "\n",
    "# best6_dict"
   ]
  },
  {
   "cell_type": "code",
   "execution_count": 257,
   "id": "4c16c59c",
   "metadata": {
    "execution": {
     "iopub.execute_input": "2023-08-12T03:44:40.895558Z",
     "iopub.status.busy": "2023-08-12T03:44:40.895092Z",
     "iopub.status.idle": "2023-08-12T03:44:40.899342Z",
     "shell.execute_reply": "2023-08-12T03:44:40.898481Z"
    },
    "papermill": {
     "duration": 0.115187,
     "end_time": "2023-08-12T03:44:40.901557",
     "exception": false,
     "start_time": "2023-08-12T03:44:40.786370",
     "status": "completed"
    },
    "tags": []
   },
   "outputs": [],
   "source": [
    "# Submit best 6 features (version 2) with common vocabulary (common_1_2_grams)\n",
    "# (Update): Score 0.82867\n",
    "\n",
    "# submit_v4(selected_features=best6_dict,\n",
    "#           param_grid=param_grid,\n",
    "#          vocab=common_1_2_grams)"
   ]
  },
  {
   "cell_type": "code",
   "execution_count": 258,
   "id": "1e5325f4",
   "metadata": {
    "execution": {
     "iopub.execute_input": "2023-08-12T03:44:41.123154Z",
     "iopub.status.busy": "2023-08-12T03:44:41.122385Z",
     "iopub.status.idle": "2023-08-12T03:44:41.127097Z",
     "shell.execute_reply": "2023-08-12T03:44:41.126081Z"
    },
    "papermill": {
     "duration": 0.117626,
     "end_time": "2023-08-12T03:44:41.129531",
     "exception": false,
     "start_time": "2023-08-12T03:44:41.011905",
     "status": "completed"
    },
    "tags": []
   },
   "outputs": [],
   "source": [
    "# Submit best 6 features (version 2) with common vocabulary (common_1_2_3_grams)\n",
    "# Note: for this submission submit_v4 function has to be modified: reviewText TfidfVectorizer must have ngram_range(1,3).\n",
    "# (Update): Score in the range 0.825+\n",
    "\n",
    "# submit_v4(selected_features=best6_dict,\n",
    "#           param_grid=param_grid,\n",
    "#          vocab=common_1_2_3_grams)"
   ]
  }
 ],
 "metadata": {
  "kernelspec": {
   "display_name": "Python 3",
   "language": "python",
   "name": "python3"
  },
  "language_info": {
   "codemirror_mode": {
    "name": "ipython",
    "version": 3
   },
   "file_extension": ".py",
   "mimetype": "text/x-python",
   "name": "python",
   "nbconvert_exporter": "python",
   "pygments_lexer": "ipython3",
   "version": "3.10.10"
  },
  "papermill": {
   "default_parameters": {},
   "duration": 1559.894683,
   "end_time": "2023-08-12T03:44:44.268297",
   "environment_variables": {},
   "exception": null,
   "input_path": "__notebook__.ipynb",
   "output_path": "__notebook__.ipynb",
   "parameters": {},
   "start_time": "2023-08-12T03:18:44.373614",
   "version": "2.4.0"
  }
 },
 "nbformat": 4,
 "nbformat_minor": 5
}
