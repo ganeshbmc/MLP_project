{
 "cells": [
  {
   "cell_type": "markdown",
   "id": "42c00d90",
   "metadata": {
    "papermill": {
     "duration": 0.107263,
     "end_time": "2023-08-22T19:18:54.504399",
     "exception": false,
     "start_time": "2023-08-22T19:18:54.397136",
     "status": "completed"
    },
    "tags": []
   },
   "source": [
    "# MLP Project (T2 2023) by Ganesh P  "
   ]
  },
  {
   "cell_type": "markdown",
   "id": "676046b1",
   "metadata": {
    "papermill": {
     "duration": 0.104557,
     "end_time": "2023-08-22T19:18:54.712378",
     "exception": false,
     "start_time": "2023-08-22T19:18:54.607821",
     "status": "completed"
    },
    "tags": []
   },
   "source": [
    "`Disclaimer`   \n",
    "\n",
    "> This final notebook contains only the most relevant code to show the path/flow of my project work over few weeks. Rest of the code is in [my github repo](https://github.com/ganeshbmc/MLP_project) which is private at present (I will make it public after the project is over).  "
   ]
  },
  {
   "cell_type": "markdown",
   "id": "30fb4b2f",
   "metadata": {
    "papermill": {
     "duration": 0.106945,
     "end_time": "2023-08-22T19:18:54.924535",
     "exception": false,
     "start_time": "2023-08-22T19:18:54.817590",
     "status": "completed"
    },
    "tags": []
   },
   "source": [
    "`Strengths`  \n",
    "\n",
    "> * Modular code (DRY principle)  \n",
    "> * End to end pipeline in one function (with helper functions)   "
   ]
  },
  {
   "cell_type": "markdown",
   "id": "36b2e45c",
   "metadata": {
    "papermill": {
     "duration": 0.105045,
     "end_time": "2023-08-22T19:18:55.135539",
     "exception": false,
     "start_time": "2023-08-22T19:18:55.030494",
     "status": "completed"
    },
    "tags": []
   },
   "source": [
    "`Overview`  \n",
    "\n",
    "`PART I`  \n",
    "\n",
    "1.\t> Screen the datasets and import them.  \n",
    "2.\t> Perform EDA (first round).\n",
    "3.\t> Data cleaning.\n",
    "4.\t> Basic models including dummy model.\n",
    "5.\t> Because this is a text sentiment analysis project, focus on 'reviewText' column, work on cleaning text data and vectorising/tokenising it, build several models till the best possible score is reached.  \n",
    "\n",
    "`PART II`  \n",
    "\n",
    "6.\t> Merge train and movies dataset.\n",
    "7.\t> Perform EDA (second round) on merged dataset.\n",
    "8.\t> Data cleaning.\n",
    "9.\t> Build models on merged dataset.\n",
    "10.\t> Understand the results and do another round of EDA if needed.\n",
    "11.\t> Build final model.  \n",
    "\n",
    "`PART III (After project window closes)`  \n",
    "\n",
    "12. > Use NLTK library for further processing text data.  \n",
    "13. > Try to address comments from different languages, special characters etc.  \n",
    "14. > Try imblearn library to address class imbalance.  \n",
    "15. > Try to use currently available LLMs and see how my model performs agains them.  "
   ]
  },
  {
   "cell_type": "markdown",
   "id": "48fc818a",
   "metadata": {
    "papermill": {
     "duration": 0.106636,
     "end_time": "2023-08-22T19:18:55.347339",
     "exception": false,
     "start_time": "2023-08-22T19:18:55.240703",
     "status": "completed"
    },
    "tags": []
   },
   "source": [
    "`Default code on Kaggle notebook`  "
   ]
  },
  {
   "cell_type": "code",
   "execution_count": 1,
   "id": "d8a73dd0",
   "metadata": {
    "_cell_guid": "b1076dfc-b9ad-4769-8c92-a6c4dae69d19",
    "_uuid": "8f2839f25d086af736a60e9eeb907d3b93b6e0e5",
    "execution": {
     "iopub.execute_input": "2023-08-22T19:18:55.571579Z",
     "iopub.status.busy": "2023-08-22T19:18:55.571119Z",
     "iopub.status.idle": "2023-08-22T19:18:55.587191Z",
     "shell.execute_reply": "2023-08-22T19:18:55.585667Z"
    },
    "papermill": {
     "duration": 0.121819,
     "end_time": "2023-08-22T19:18:55.589989",
     "exception": false,
     "start_time": "2023-08-22T19:18:55.468170",
     "status": "completed"
    },
    "tags": []
   },
   "outputs": [
    {
     "name": "stdout",
     "output_type": "stream",
     "text": [
      "/kaggle/input/sentiment-prediction-on-movie-reviews/movies.csv\n",
      "/kaggle/input/sentiment-prediction-on-movie-reviews/sample.csv\n",
      "/kaggle/input/sentiment-prediction-on-movie-reviews/train.csv\n",
      "/kaggle/input/sentiment-prediction-on-movie-reviews/test.csv\n"
     ]
    }
   ],
   "source": [
    "# This Python 3 environment comes with many helpful analytics libraries installed\n",
    "# It is defined by the kaggle/python Docker image: https://github.com/kaggle/docker-python\n",
    "# For example, here's several helpful packages to load\n",
    "\n",
    "import numpy as np # linear algebra\n",
    "import pandas as pd # data processing, CSV file I/O (e.g. pd.read_csv)\n",
    "\n",
    "# Input data files are available in the read-only \"../input/\" directory\n",
    "# For example, running this (by clicking run or pressing Shift+Enter) will list all files under the input directory\n",
    "\n",
    "import os\n",
    "for dirname, _, filenames in os.walk('/kaggle/input'):\n",
    "    for filename in filenames:\n",
    "        print(os.path.join(dirname, filename))\n",
    "\n",
    "# You can write up to 20GB to the current directory (/kaggle/working/) that gets preserved as output when you create a version using \"Save & Run All\" \n",
    "# You can also write temporary files to /kaggle/temp/, but they won't be saved outside of the current session"
   ]
  },
  {
   "cell_type": "markdown",
   "id": "584635dc",
   "metadata": {
    "papermill": {
     "duration": 0.1011,
     "end_time": "2023-08-22T19:18:55.795282",
     "exception": false,
     "start_time": "2023-08-22T19:18:55.694182",
     "status": "completed"
    },
    "tags": []
   },
   "source": [
    "### Specify platform  "
   ]
  },
  {
   "cell_type": "code",
   "execution_count": 2,
   "id": "d7a5b119",
   "metadata": {
    "execution": {
     "iopub.execute_input": "2023-08-22T19:18:56.002764Z",
     "iopub.status.busy": "2023-08-22T19:18:56.001378Z",
     "iopub.status.idle": "2023-08-22T19:18:56.008515Z",
     "shell.execute_reply": "2023-08-22T19:18:56.006777Z"
    },
    "papermill": {
     "duration": 0.115166,
     "end_time": "2023-08-22T19:18:56.012335",
     "exception": false,
     "start_time": "2023-08-22T19:18:55.897169",
     "status": "completed"
    },
    "tags": []
   },
   "outputs": [],
   "source": [
    "platform = 'kaggle'  "
   ]
  },
  {
   "cell_type": "markdown",
   "id": "6c664223",
   "metadata": {
    "papermill": {
     "duration": 0.106159,
     "end_time": "2023-08-22T19:18:56.231778",
     "exception": false,
     "start_time": "2023-08-22T19:18:56.125619",
     "status": "completed"
    },
    "tags": []
   },
   "source": [
    "### Import libraries  "
   ]
  },
  {
   "cell_type": "code",
   "execution_count": 3,
   "id": "e9d9e01a",
   "metadata": {
    "execution": {
     "iopub.execute_input": "2023-08-22T19:18:56.446760Z",
     "iopub.status.busy": "2023-08-22T19:18:56.445917Z",
     "iopub.status.idle": "2023-08-22T19:18:58.856953Z",
     "shell.execute_reply": "2023-08-22T19:18:58.855483Z"
    },
    "papermill": {
     "duration": 2.520088,
     "end_time": "2023-08-22T19:18:58.859788",
     "exception": false,
     "start_time": "2023-08-22T19:18:56.339700",
     "status": "completed"
    },
    "tags": []
   },
   "outputs": [
    {
     "name": "stdout",
     "output_type": "stream",
     "text": [
      "Imports done.\n"
     ]
    }
   ],
   "source": [
    "# Basic libraries\n",
    "import pandas as pd\n",
    "import numpy as np\n",
    "import re\n",
    "from itertools import compress\n",
    "\n",
    "# Visualization libraries\n",
    "import matplotlib.pyplot as plt\n",
    "import seaborn as sns\n",
    "\n",
    "# Statistical libraries\n",
    "import scipy.stats as stats\n",
    "\n",
    "# Sklearn \n",
    "# Preprocessing, feature extraction, feature selection\n",
    "from sklearn.feature_extraction.text import TfidfVectorizer, CountVectorizer\n",
    "from sklearn.preprocessing import StandardScaler, MinMaxScaler, RobustScaler, OneHotEncoder, LabelEncoder, PolynomialFeatures\n",
    "from sklearn.preprocessing import FunctionTransformer\n",
    "from sklearn.impute import SimpleImputer, KNNImputer\n",
    "from sklearn.feature_selection import RFE, RFECV\n",
    "from sklearn.decomposition import PCA, TruncatedSVD\n",
    "from sklearn.pipeline import Pipeline, FeatureUnion\n",
    "from sklearn.compose import ColumnTransformer\n",
    "from sklearn.model_selection import train_test_split, GridSearchCV, cross_val_score\n",
    "\n",
    "# Models\n",
    "from sklearn.dummy import DummyClassifier\n",
    "from sklearn.linear_model import LogisticRegression, SGDClassifier\n",
    "from sklearn.svm import LinearSVC\n",
    "from sklearn.naive_bayes import GaussianNB, BernoulliNB, CategoricalNB, ComplementNB, MultinomialNB\n",
    "from sklearn.neural_network import MLPClassifier\n",
    "from sklearn.tree import DecisionTreeClassifier\n",
    "from sklearn.ensemble import RandomForestClassifier, AdaBoostClassifier, StackingClassifier\n",
    "# import lightgbm as ltb\n",
    "\n",
    "# Evaluation\n",
    "from sklearn.metrics import classification_report, confusion_matrix, f1_score\n",
    "from sklearn.metrics import roc_auc_score, roc_curve, precision_recall_curve\n",
    "\n",
    "print(\"Imports done.\")"
   ]
  },
  {
   "cell_type": "markdown",
   "id": "09f0dfaa",
   "metadata": {
    "papermill": {
     "duration": 0.106672,
     "end_time": "2023-08-22T19:18:59.071414",
     "exception": false,
     "start_time": "2023-08-22T19:18:58.964742",
     "status": "completed"
    },
    "tags": []
   },
   "source": [
    "# PART I  "
   ]
  },
  {
   "cell_type": "markdown",
   "id": "4ab73c2f",
   "metadata": {
    "papermill": {
     "duration": 0.106934,
     "end_time": "2023-08-22T19:18:59.283084",
     "exception": false,
     "start_time": "2023-08-22T19:18:59.176150",
     "status": "completed"
    },
    "tags": []
   },
   "source": [
    "## Load datasets  "
   ]
  },
  {
   "cell_type": "code",
   "execution_count": 4,
   "id": "5fcc2cfa",
   "metadata": {
    "execution": {
     "iopub.execute_input": "2023-08-22T19:18:59.599275Z",
     "iopub.status.busy": "2023-08-22T19:18:59.598723Z",
     "iopub.status.idle": "2023-08-22T19:19:00.922847Z",
     "shell.execute_reply": "2023-08-22T19:19:00.921506Z"
    },
    "papermill": {
     "duration": 1.434845,
     "end_time": "2023-08-22T19:19:00.925534",
     "exception": false,
     "start_time": "2023-08-22T19:18:59.490689",
     "status": "completed"
    },
    "tags": []
   },
   "outputs": [
    {
     "data": {
      "text/plain": [
       "(162758, 5)"
      ]
     },
     "execution_count": 4,
     "metadata": {},
     "output_type": "execute_result"
    }
   ],
   "source": [
    "if platform == 'vscode':\n",
    "    traindf = pd.read_csv(\"data/train.csv\")\n",
    "else:\n",
    "    traindf = pd.read_csv(\"/kaggle/input/sentiment-prediction-on-movie-reviews/train.csv\")\n",
    "    \n",
    "traindf.shape"
   ]
  },
  {
   "cell_type": "code",
   "execution_count": 5,
   "id": "50749590",
   "metadata": {
    "execution": {
     "iopub.execute_input": "2023-08-22T19:19:01.136883Z",
     "iopub.status.busy": "2023-08-22T19:19:01.136494Z",
     "iopub.status.idle": "2023-08-22T19:19:01.538388Z",
     "shell.execute_reply": "2023-08-22T19:19:01.537023Z"
    },
    "papermill": {
     "duration": 0.510568,
     "end_time": "2023-08-22T19:19:01.541571",
     "exception": false,
     "start_time": "2023-08-22T19:19:01.031003",
     "status": "completed"
    },
    "tags": []
   },
   "outputs": [
    {
     "data": {
      "text/plain": [
       "(55315, 4)"
      ]
     },
     "execution_count": 5,
     "metadata": {},
     "output_type": "execute_result"
    }
   ],
   "source": [
    "if platform == 'vscode':\n",
    "    testdf = pd.read_csv(\"data/test.csv\")\n",
    "else:\n",
    "    testdf = pd.read_csv(\"/kaggle/input/sentiment-prediction-on-movie-reviews/test.csv\")\n",
    "\n",
    "testdf.shape"
   ]
  },
  {
   "cell_type": "markdown",
   "id": "5f6311af",
   "metadata": {
    "papermill": {
     "duration": 0.103011,
     "end_time": "2023-08-22T19:19:01.750030",
     "exception": false,
     "start_time": "2023-08-22T19:19:01.647019",
     "status": "completed"
    },
    "tags": []
   },
   "source": [
    "### Understanding the data and getting it ready for training and evaluating models  \n"
   ]
  },
  {
   "cell_type": "code",
   "execution_count": 6,
   "id": "19dc098e",
   "metadata": {
    "execution": {
     "iopub.execute_input": "2023-08-22T19:19:01.959892Z",
     "iopub.status.busy": "2023-08-22T19:19:01.958790Z",
     "iopub.status.idle": "2023-08-22T19:19:01.969361Z",
     "shell.execute_reply": "2023-08-22T19:19:01.968058Z"
    },
    "papermill": {
     "duration": 0.118216,
     "end_time": "2023-08-22T19:19:01.971981",
     "exception": false,
     "start_time": "2023-08-22T19:19:01.853765",
     "status": "completed"
    },
    "tags": []
   },
   "outputs": [
    {
     "data": {
      "text/plain": [
       "(162758, 5)"
      ]
     },
     "execution_count": 6,
     "metadata": {},
     "output_type": "execute_result"
    }
   ],
   "source": [
    "traindf.shape"
   ]
  },
  {
   "cell_type": "code",
   "execution_count": 7,
   "id": "455b71f3",
   "metadata": {
    "execution": {
     "iopub.execute_input": "2023-08-22T19:19:02.185552Z",
     "iopub.status.busy": "2023-08-22T19:19:02.185129Z",
     "iopub.status.idle": "2023-08-22T19:19:02.436693Z",
     "shell.execute_reply": "2023-08-22T19:19:02.435274Z"
    },
    "papermill": {
     "duration": 0.358502,
     "end_time": "2023-08-22T19:19:02.439466",
     "exception": false,
     "start_time": "2023-08-22T19:19:02.080964",
     "status": "completed"
    },
    "tags": []
   },
   "outputs": [
    {
     "name": "stdout",
     "output_type": "stream",
     "text": [
      "<class 'pandas.core.frame.DataFrame'>\n",
      "RangeIndex: 162758 entries, 0 to 162757\n",
      "Data columns (total 5 columns):\n",
      " #   Column              Non-Null Count   Dtype \n",
      "---  ------              --------------   ----- \n",
      " 0   movieid             162758 non-null  object\n",
      " 1   reviewerName        162758 non-null  object\n",
      " 2   isFrequentReviewer  162758 non-null  bool  \n",
      " 3   reviewText          156311 non-null  object\n",
      " 4   sentiment           162758 non-null  object\n",
      "dtypes: bool(1), object(4)\n",
      "memory usage: 5.1+ MB\n"
     ]
    }
   ],
   "source": [
    "traindf.info()"
   ]
  },
  {
   "cell_type": "code",
   "execution_count": 8,
   "id": "c30da12e",
   "metadata": {
    "execution": {
     "iopub.execute_input": "2023-08-22T19:19:02.647112Z",
     "iopub.status.busy": "2023-08-22T19:19:02.646623Z",
     "iopub.status.idle": "2023-08-22T19:19:02.876200Z",
     "shell.execute_reply": "2023-08-22T19:19:02.874669Z"
    },
    "papermill": {
     "duration": 0.337349,
     "end_time": "2023-08-22T19:19:02.879348",
     "exception": false,
     "start_time": "2023-08-22T19:19:02.541999",
     "status": "completed"
    },
    "tags": []
   },
   "outputs": [
    {
     "data": {
      "text/plain": [
       "movieid                  0\n",
       "reviewerName             0\n",
       "isFrequentReviewer       0\n",
       "reviewText            6447\n",
       "sentiment                0\n",
       "dtype: int64"
      ]
     },
     "execution_count": 8,
     "metadata": {},
     "output_type": "execute_result"
    }
   ],
   "source": [
    "traindf.isna().sum()"
   ]
  },
  {
   "cell_type": "markdown",
   "id": "ec817fcf",
   "metadata": {
    "papermill": {
     "duration": 0.109111,
     "end_time": "2023-08-22T19:19:03.097828",
     "exception": false,
     "start_time": "2023-08-22T19:19:02.988717",
     "status": "completed"
    },
    "tags": []
   },
   "source": [
    "### Fill empty reviewText with custom text  "
   ]
  },
  {
   "cell_type": "code",
   "execution_count": 9,
   "id": "7fb9ca4e",
   "metadata": {
    "execution": {
     "iopub.execute_input": "2023-08-22T19:19:03.316966Z",
     "iopub.status.busy": "2023-08-22T19:19:03.316543Z",
     "iopub.status.idle": "2023-08-22T19:19:03.567536Z",
     "shell.execute_reply": "2023-08-22T19:19:03.566708Z"
    },
    "papermill": {
     "duration": 0.36549,
     "end_time": "2023-08-22T19:19:03.570288",
     "exception": false,
     "start_time": "2023-08-22T19:19:03.204798",
     "status": "completed"
    },
    "tags": []
   },
   "outputs": [
    {
     "data": {
      "text/plain": [
       "movieid               0\n",
       "reviewerName          0\n",
       "isFrequentReviewer    0\n",
       "reviewText            0\n",
       "sentiment             0\n",
       "dtype: int64"
      ]
     },
     "execution_count": 9,
     "metadata": {},
     "output_type": "execute_result"
    }
   ],
   "source": [
    "traindf[\"reviewText\"].fillna(\"empty\", inplace=True)\n",
    "traindf.isna().sum()"
   ]
  },
  {
   "cell_type": "markdown",
   "id": "4675d6c4",
   "metadata": {
    "papermill": {
     "duration": 0.103153,
     "end_time": "2023-08-22T19:19:03.778181",
     "exception": false,
     "start_time": "2023-08-22T19:19:03.675028",
     "status": "completed"
    },
    "tags": []
   },
   "source": [
    "## EDA  \n"
   ]
  },
  {
   "cell_type": "markdown",
   "id": "8cd947f2",
   "metadata": {
    "papermill": {
     "duration": 0.102152,
     "end_time": "2023-08-22T19:19:03.983563",
     "exception": false,
     "start_time": "2023-08-22T19:19:03.881411",
     "status": "completed"
    },
    "tags": []
   },
   "source": [
    "### Classes  "
   ]
  },
  {
   "cell_type": "code",
   "execution_count": 10,
   "id": "24821515",
   "metadata": {
    "execution": {
     "iopub.execute_input": "2023-08-22T19:19:04.198569Z",
     "iopub.status.busy": "2023-08-22T19:19:04.197293Z",
     "iopub.status.idle": "2023-08-22T19:19:04.483229Z",
     "shell.execute_reply": "2023-08-22T19:19:04.481723Z"
    },
    "papermill": {
     "duration": 0.394213,
     "end_time": "2023-08-22T19:19:04.485938",
     "exception": false,
     "start_time": "2023-08-22T19:19:04.091725",
     "status": "completed"
    },
    "tags": []
   },
   "outputs": [
    {
     "data": {
      "image/png": "[encoded data removed]",
      "text/plain": [
       "<Figure size 600x400 with 1 Axes>"
      ]
     },
     "metadata": {},
     "output_type": "display_data"
    }
   ],
   "source": [
    "# Pie chart for sentiment column\n",
    "plt.figure(figsize=(6, 4))\n",
    "traindf[\"sentiment\"].value_counts().plot(kind='pie', autopct='%1.0f%%', colors=[\"lightgreen\", \"crimson\"])\n",
    "plt.title(\"Pie chart for sentiment column\")\n",
    "plt.show()"
   ]
  },
  {
   "cell_type": "markdown",
   "id": "743f440c",
   "metadata": {
    "papermill": {
     "duration": 0.107483,
     "end_time": "2023-08-22T19:19:04.723147",
     "exception": false,
     "start_time": "2023-08-22T19:19:04.615664",
     "status": "completed"
    },
    "tags": []
   },
   "source": [
    "`Is there a significant class imbalance?`  \n",
    "\n",
    "* There is some class imbalance but it does not appear to be significant enough to affect performance of model.  \n",
    "\n",
    "* That said, I did experiment with 'class_weight' in the model fitting to see if it would improve the model.  It did not.  "
   ]
  },
  {
   "cell_type": "markdown",
   "id": "b62c31ec",
   "metadata": {
    "papermill": {
     "duration": 0.106119,
     "end_time": "2023-08-22T19:19:04.936988",
     "exception": false,
     "start_time": "2023-08-22T19:19:04.830869",
     "status": "completed"
    },
    "tags": []
   },
   "source": [
    "### 'isFrequentReviewer' column  "
   ]
  },
  {
   "cell_type": "code",
   "execution_count": 11,
   "id": "0fbae92e",
   "metadata": {
    "execution": {
     "iopub.execute_input": "2023-08-22T19:19:05.154119Z",
     "iopub.status.busy": "2023-08-22T19:19:05.153155Z",
     "iopub.status.idle": "2023-08-22T19:19:05.168420Z",
     "shell.execute_reply": "2023-08-22T19:19:05.167160Z"
    },
    "papermill": {
     "duration": 0.12745,
     "end_time": "2023-08-22T19:19:05.172236",
     "exception": false,
     "start_time": "2023-08-22T19:19:05.044786",
     "status": "completed"
    },
    "tags": []
   },
   "outputs": [
    {
     "name": "stdout",
     "output_type": "stream",
     "text": [
      "False    113189\n",
      "True      49569\n",
      "Name: isFrequentReviewer, dtype: int64\n",
      "False    0.695444\n",
      "True     0.304556\n",
      "Name: isFrequentReviewer, dtype: float64\n"
     ]
    }
   ],
   "source": [
    "print(traindf['isFrequentReviewer'].value_counts())\n",
    "print(traindf['isFrequentReviewer'].value_counts(normalize=True))"
   ]
  },
  {
   "cell_type": "code",
   "execution_count": 12,
   "id": "43bde456",
   "metadata": {
    "execution": {
     "iopub.execute_input": "2023-08-22T19:19:05.414921Z",
     "iopub.status.busy": "2023-08-22T19:19:05.413969Z",
     "iopub.status.idle": "2023-08-22T19:19:07.529722Z",
     "shell.execute_reply": "2023-08-22T19:19:07.528509Z"
    },
    "papermill": {
     "duration": 2.251835,
     "end_time": "2023-08-22T19:19:07.532513",
     "exception": false,
     "start_time": "2023-08-22T19:19:05.280678",
     "status": "completed"
    },
    "tags": []
   },
   "outputs": [
    {
     "data": {
      "text/plain": [
       "<Axes: xlabel='isFrequentReviewer', ylabel='isFrequentReviewer'>"
      ]
     },
     "execution_count": 12,
     "metadata": {},
     "output_type": "execute_result"
    },
    {
     "data": {
      "image/png": "[encoded data removed]",
      "text/plain": [
       "<Figure size 640x480 with 1 Axes>"
      ]
     },
     "metadata": {},
     "output_type": "display_data"
    }
   ],
   "source": [
    "# Barchart for isFrequentReviewer  \n",
    "sns.barplot(x='isFrequentReviewer', y='isFrequentReviewer', data=traindf, estimator=lambda x: len(x) / len(traindf) * 100)"
   ]
  },
  {
   "cell_type": "code",
   "execution_count": 13,
   "id": "b4778c7c",
   "metadata": {
    "execution": {
     "iopub.execute_input": "2023-08-22T19:19:07.754768Z",
     "iopub.status.busy": "2023-08-22T19:19:07.754023Z",
     "iopub.status.idle": "2023-08-22T19:19:07.758133Z",
     "shell.execute_reply": "2023-08-22T19:19:07.757327Z"
    },
    "papermill": {
     "duration": 0.118693,
     "end_time": "2023-08-22T19:19:07.760543",
     "exception": false,
     "start_time": "2023-08-22T19:19:07.641850",
     "status": "completed"
    },
    "tags": []
   },
   "outputs": [],
   "source": [
    "# Pie chart for isFrequentReviewer column  \n",
    "# plt.figure(figsize=(6, 4))\n",
    "# traindf[\"isFrequentReviewer\"].value_counts().plot(kind='pie', autopct='%1.0f%%', colors=[\"lightgreen\", \"crimson\"])\n",
    "# plt.title(\"Pie chart for isFrequentReviewer column\")\n",
    "# plt.show()"
   ]
  },
  {
   "cell_type": "code",
   "execution_count": 14,
   "id": "6b5dea4b",
   "metadata": {
    "execution": {
     "iopub.execute_input": "2023-08-22T19:19:07.977755Z",
     "iopub.status.busy": "2023-08-22T19:19:07.977351Z",
     "iopub.status.idle": "2023-08-22T19:19:08.052534Z",
     "shell.execute_reply": "2023-08-22T19:19:08.050909Z"
    },
    "papermill": {
     "duration": 0.187821,
     "end_time": "2023-08-22T19:19:08.055470",
     "exception": false,
     "start_time": "2023-08-22T19:19:07.867649",
     "status": "completed"
    },
    "tags": []
   },
   "outputs": [
    {
     "name": "stdout",
     "output_type": "stream",
     "text": [
      "sentiment           NEGATIVE  POSITIVE\n",
      "isFrequentReviewer                    \n",
      "False                  35760     77429\n",
      "True                   18237     31332\n"
     ]
    },
    {
     "data": {
      "text/plain": [
       "Chi2ContingencyResult(statistic=419.89235425657796, pvalue=2.5755894769493255e-93, dof=1, expected_freq=array([[37551.86493444, 75637.13506556],\n",
       "       [16445.13506556, 33123.86493444]]))"
      ]
     },
     "execution_count": 14,
     "metadata": {},
     "output_type": "execute_result"
    }
   ],
   "source": [
    "# Chi-square test for isFrequentReviewer column and sentiment column   \n",
    "\n",
    "contingency_table = pd.crosstab(traindf['isFrequentReviewer'], traindf['sentiment'])\n",
    "print(contingency_table)\n",
    "stats.chi2_contingency(contingency_table)"
   ]
  },
  {
   "cell_type": "markdown",
   "id": "91d75886",
   "metadata": {
    "papermill": {
     "duration": 0.106793,
     "end_time": "2023-08-22T19:19:08.270217",
     "exception": false,
     "start_time": "2023-08-22T19:19:08.163424",
     "status": "completed"
    },
    "tags": []
   },
   "source": [
    "`Does a frequent reviewer give more negative (or positive) reviews?`  \n",
    "\n",
    "* It appears that a frequent reviewer is more likely to give a 'negative' review than an infrequent reviewer (36.8% vs. 31.6%, p<0.001).  \n",
    "* This feature may be useful in predicting the sentiment of a review where reviewText is missing or does not contain enough information to determine sentiment.  "
   ]
  },
  {
   "cell_type": "markdown",
   "id": "221bcf27",
   "metadata": {
    "papermill": {
     "duration": 0.107519,
     "end_time": "2023-08-22T19:19:08.487287",
     "exception": false,
     "start_time": "2023-08-22T19:19:08.379768",
     "status": "completed"
    },
    "tags": []
   },
   "source": [
    "### Other columns  "
   ]
  },
  {
   "cell_type": "markdown",
   "id": "b950d978",
   "metadata": {
    "papermill": {
     "duration": 0.10603,
     "end_time": "2023-08-22T19:19:08.699186",
     "exception": false,
     "start_time": "2023-08-22T19:19:08.593156",
     "status": "completed"
    },
    "tags": []
   },
   "source": [
    "`How many unique movies and reviewers are there in the dataset?`  "
   ]
  },
  {
   "cell_type": "code",
   "execution_count": 15,
   "id": "6cae648d",
   "metadata": {
    "execution": {
     "iopub.execute_input": "2023-08-22T19:19:08.913008Z",
     "iopub.status.busy": "2023-08-22T19:19:08.912610Z",
     "iopub.status.idle": "2023-08-22T19:19:08.974730Z",
     "shell.execute_reply": "2023-08-22T19:19:08.972927Z"
    },
    "papermill": {
     "duration": 0.173109,
     "end_time": "2023-08-22T19:19:08.977782",
     "exception": false,
     "start_time": "2023-08-22T19:19:08.804673",
     "status": "completed"
    },
    "tags": []
   },
   "outputs": [
    {
     "name": "stdout",
     "output_type": "stream",
     "text": [
      "Number of unique movies in training data: 16812\n",
      "Proportion of unique movies: 10.3%\n"
     ]
    }
   ],
   "source": [
    "print(f\"Number of unique movies in training data: {len(traindf['movieid'].unique())}\")\n",
    "print(f\"Proportion of unique movies: {len(traindf['movieid'].unique())/len(traindf) * 100:.1f}%\")"
   ]
  },
  {
   "cell_type": "code",
   "execution_count": 16,
   "id": "b3f53e3d",
   "metadata": {
    "execution": {
     "iopub.execute_input": "2023-08-22T19:19:09.191408Z",
     "iopub.status.busy": "2023-08-22T19:19:09.190999Z",
     "iopub.status.idle": "2023-08-22T19:19:09.195741Z",
     "shell.execute_reply": "2023-08-22T19:19:09.194503Z"
    },
    "papermill": {
     "duration": 0.113732,
     "end_time": "2023-08-22T19:19:09.198238",
     "exception": false,
     "start_time": "2023-08-22T19:19:09.084506",
     "status": "completed"
    },
    "tags": []
   },
   "outputs": [],
   "source": [
    "# print(f\"Number of unique movies in test data: {len(testdf['movieid'].unique())}\")\n",
    "# print(f\"Proportion of unique movies in test data: {len(testdf['movieid'].unique())/len(testdf) * 100:.1f}%\")"
   ]
  },
  {
   "cell_type": "code",
   "execution_count": 17,
   "id": "38396c35",
   "metadata": {
    "execution": {
     "iopub.execute_input": "2023-08-22T19:19:09.411476Z",
     "iopub.status.busy": "2023-08-22T19:19:09.410835Z",
     "iopub.status.idle": "2023-08-22T19:19:09.416055Z",
     "shell.execute_reply": "2023-08-22T19:19:09.414708Z"
    },
    "papermill": {
     "duration": 0.116481,
     "end_time": "2023-08-22T19:19:09.418593",
     "exception": false,
     "start_time": "2023-08-22T19:19:09.302112",
     "status": "completed"
    },
    "tags": []
   },
   "outputs": [],
   "source": [
    "# len(set(testdf['movieid'].unique()) - set(traindf['movieid'].unique()))\n",
    "# len(set(traindf['movieid'].unique()) - set(testdf['movieid'].unique()))"
   ]
  },
  {
   "cell_type": "code",
   "execution_count": 18,
   "id": "949b6ec5",
   "metadata": {
    "execution": {
     "iopub.execute_input": "2023-08-22T19:19:09.629156Z",
     "iopub.status.busy": "2023-08-22T19:19:09.628549Z",
     "iopub.status.idle": "2023-08-22T19:19:09.653426Z",
     "shell.execute_reply": "2023-08-22T19:19:09.651744Z"
    },
    "papermill": {
     "duration": 0.133534,
     "end_time": "2023-08-22T19:19:09.655974",
     "exception": false,
     "start_time": "2023-08-22T19:19:09.522440",
     "status": "completed"
    },
    "tags": []
   },
   "outputs": [
    {
     "name": "stdout",
     "output_type": "stream",
     "text": [
      "Number of unique reviewers in the dataset: 4482\n"
     ]
    }
   ],
   "source": [
    "print(f\"Number of unique reviewers in the dataset: {len(traindf['reviewerName'].unique())}\")"
   ]
  },
  {
   "cell_type": "code",
   "execution_count": 19,
   "id": "3fb0d3a2",
   "metadata": {
    "execution": {
     "iopub.execute_input": "2023-08-22T19:19:09.867640Z",
     "iopub.status.busy": "2023-08-22T19:19:09.867221Z",
     "iopub.status.idle": "2023-08-22T19:19:09.901689Z",
     "shell.execute_reply": "2023-08-22T19:19:09.900325Z"
    },
    "papermill": {
     "duration": 0.143437,
     "end_time": "2023-08-22T19:19:09.904304",
     "exception": false,
     "start_time": "2023-08-22T19:19:09.760867",
     "status": "completed"
    },
    "tags": []
   },
   "outputs": [
    {
     "data": {
      "text/plain": [
       "Sherri Morrison      962\n",
       "Veronica Serrano     952\n",
       "Mrs. Vickie Young    827\n",
       "Kristy Ferguson      822\n",
       "Heather Pena         797\n",
       "Name: reviewerName, dtype: int64"
      ]
     },
     "execution_count": 19,
     "metadata": {},
     "output_type": "execute_result"
    }
   ],
   "source": [
    "traindf['reviewerName'].value_counts().head()"
   ]
  },
  {
   "cell_type": "code",
   "execution_count": 20,
   "id": "900f356f",
   "metadata": {
    "execution": {
     "iopub.execute_input": "2023-08-22T19:19:10.119466Z",
     "iopub.status.busy": "2023-08-22T19:19:10.118960Z",
     "iopub.status.idle": "2023-08-22T19:19:10.153387Z",
     "shell.execute_reply": "2023-08-22T19:19:10.152242Z"
    },
    "papermill": {
     "duration": 0.145283,
     "end_time": "2023-08-22T19:19:10.155856",
     "exception": false,
     "start_time": "2023-08-22T19:19:10.010573",
     "status": "completed"
    },
    "tags": []
   },
   "outputs": [
    {
     "data": {
      "text/plain": [
       "Ashley Munoz     1\n",
       "Ryan Dean        1\n",
       "Joanna Li        1\n",
       "Jason Carroll    1\n",
       "Chad Mueller     1\n",
       "Name: reviewerName, dtype: int64"
      ]
     },
     "execution_count": 20,
     "metadata": {},
     "output_type": "execute_result"
    }
   ],
   "source": [
    "traindf['reviewerName'].value_counts().tail()"
   ]
  },
  {
   "cell_type": "markdown",
   "id": "9ede4f06",
   "metadata": {
    "papermill": {
     "duration": 0.106434,
     "end_time": "2023-08-22T19:19:10.367497",
     "exception": false,
     "start_time": "2023-08-22T19:19:10.261063",
     "status": "completed"
    },
    "tags": []
   },
   "source": [
    "### Separate features and labels  "
   ]
  },
  {
   "cell_type": "code",
   "execution_count": 21,
   "id": "6011545f",
   "metadata": {
    "execution": {
     "iopub.execute_input": "2023-08-22T19:19:10.580440Z",
     "iopub.status.busy": "2023-08-22T19:19:10.580043Z",
     "iopub.status.idle": "2023-08-22T19:19:10.588324Z",
     "shell.execute_reply": "2023-08-22T19:19:10.587029Z"
    },
    "papermill": {
     "duration": 0.116873,
     "end_time": "2023-08-22T19:19:10.590795",
     "exception": false,
     "start_time": "2023-08-22T19:19:10.473922",
     "status": "completed"
    },
    "tags": []
   },
   "outputs": [
    {
     "data": {
      "text/plain": [
       "((162758,), (162758,))"
      ]
     },
     "execution_count": 21,
     "metadata": {},
     "output_type": "execute_result"
    }
   ],
   "source": [
    "train_features = traindf[\"reviewText\"]\n",
    "train_labels = traindf.iloc[:, -1]\n",
    "train_features.shape, train_labels.shape"
   ]
  },
  {
   "cell_type": "markdown",
   "id": "4eeef181",
   "metadata": {
    "papermill": {
     "duration": 0.10665,
     "end_time": "2023-08-22T19:19:10.805191",
     "exception": false,
     "start_time": "2023-08-22T19:19:10.698541",
     "status": "completed"
    },
    "tags": []
   },
   "source": [
    "### Split traindf into training and testing parts  "
   ]
  },
  {
   "cell_type": "code",
   "execution_count": 22,
   "id": "9534224b",
   "metadata": {
    "execution": {
     "iopub.execute_input": "2023-08-22T19:19:11.019478Z",
     "iopub.status.busy": "2023-08-22T19:19:11.019073Z",
     "iopub.status.idle": "2023-08-22T19:19:11.060650Z",
     "shell.execute_reply": "2023-08-22T19:19:11.059191Z"
    },
    "papermill": {
     "duration": 0.152966,
     "end_time": "2023-08-22T19:19:11.063047",
     "exception": false,
     "start_time": "2023-08-22T19:19:10.910081",
     "status": "completed"
    },
    "tags": []
   },
   "outputs": [
    {
     "data": {
      "text/plain": [
       "((122068,), (40690,), (122068,), (40690,))"
      ]
     },
     "execution_count": 22,
     "metadata": {},
     "output_type": "execute_result"
    }
   ],
   "source": [
    "X_train, X_test, y_train, y_test = train_test_split(train_features, train_labels, test_size=0.25, random_state=42)\n",
    "X_train.shape, X_test.shape, y_train.shape, y_test.shape"
   ]
  },
  {
   "cell_type": "markdown",
   "id": "62db8cd4",
   "metadata": {
    "papermill": {
     "duration": 0.104975,
     "end_time": "2023-08-22T19:19:11.273817",
     "exception": false,
     "start_time": "2023-08-22T19:19:11.168842",
     "status": "completed"
    },
    "tags": []
   },
   "source": [
    "## Model evaluation plan and code  "
   ]
  },
  {
   "cell_type": "code",
   "execution_count": 23,
   "id": "1130f999",
   "metadata": {
    "execution": {
     "iopub.execute_input": "2023-08-22T19:19:11.487723Z",
     "iopub.status.busy": "2023-08-22T19:19:11.487286Z",
     "iopub.status.idle": "2023-08-22T19:19:11.492855Z",
     "shell.execute_reply": "2023-08-22T19:19:11.491334Z"
    },
    "papermill": {
     "duration": 0.115161,
     "end_time": "2023-08-22T19:19:11.495559",
     "exception": false,
     "start_time": "2023-08-22T19:19:11.380398",
     "status": "completed"
    },
    "tags": []
   },
   "outputs": [],
   "source": [
    "# from sklearn.metrics import classification_report, confusion_matrix, ConfusionMatrixDisplay\n",
    "# from sklearn.metrics import f1_score"
   ]
  },
  {
   "cell_type": "code",
   "execution_count": 24,
   "id": "b012f664",
   "metadata": {
    "execution": {
     "iopub.execute_input": "2023-08-22T19:19:11.708117Z",
     "iopub.status.busy": "2023-08-22T19:19:11.707673Z",
     "iopub.status.idle": "2023-08-22T19:19:11.713347Z",
     "shell.execute_reply": "2023-08-22T19:19:11.712117Z"
    },
    "papermill": {
     "duration": 0.114594,
     "end_time": "2023-08-22T19:19:11.715745",
     "exception": false,
     "start_time": "2023-08-22T19:19:11.601151",
     "status": "completed"
    },
    "tags": []
   },
   "outputs": [],
   "source": [
    "# def evaluate(y_test, y_pred):\n",
    "#     print(classification_report(y_test, y_pred))\n",
    "#     print(confusion_matrix(y_test, y_pred))\n",
    "#     # print(f1_score(y_test, y_pred))\n",
    "#     ConfusionMatrixDisplay(y_test, y_pred)\n",
    "#     return"
   ]
  },
  {
   "cell_type": "markdown",
   "id": "61871bd9",
   "metadata": {
    "papermill": {
     "duration": 0.105026,
     "end_time": "2023-08-22T19:19:11.928641",
     "exception": false,
     "start_time": "2023-08-22T19:19:11.823615",
     "status": "completed"
    },
    "tags": []
   },
   "source": [
    "### Data preprocessing  "
   ]
  },
  {
   "cell_type": "markdown",
   "id": "f3a3af77",
   "metadata": {
    "papermill": {
     "duration": 0.104722,
     "end_time": "2023-08-22T19:19:12.141496",
     "exception": false,
     "start_time": "2023-08-22T19:19:12.036774",
     "status": "completed"
    },
    "tags": []
   },
   "source": [
    "`Define stop words`  "
   ]
  },
  {
   "cell_type": "code",
   "execution_count": 25,
   "id": "c5d977b0",
   "metadata": {
    "execution": {
     "iopub.execute_input": "2023-08-22T19:19:12.353262Z",
     "iopub.status.busy": "2023-08-22T19:19:12.352053Z",
     "iopub.status.idle": "2023-08-22T19:19:12.357405Z",
     "shell.execute_reply": "2023-08-22T19:19:12.356186Z"
    },
    "papermill": {
     "duration": 0.114185,
     "end_time": "2023-08-22T19:19:12.360165",
     "exception": false,
     "start_time": "2023-08-22T19:19:12.245980",
     "status": "completed"
    },
    "tags": []
   },
   "outputs": [],
   "source": [
    "# stop_words = [\"able\", \"about\", \"above\", \"abst\", \"ac\"]     # Deprecated  \n",
    "# type(stop_words), len(stop_words)"
   ]
  },
  {
   "cell_type": "markdown",
   "id": "654e4410",
   "metadata": {
    "papermill": {
     "duration": 0.10479,
     "end_time": "2023-08-22T19:19:12.571404",
     "exception": false,
     "start_time": "2023-08-22T19:19:12.466614",
     "status": "completed"
    },
    "tags": []
   },
   "source": [
    "## Feature extraction  "
   ]
  },
  {
   "cell_type": "markdown",
   "id": "b2bd790d",
   "metadata": {
    "papermill": {
     "duration": 0.106054,
     "end_time": "2023-08-22T19:19:12.783480",
     "exception": false,
     "start_time": "2023-08-22T19:19:12.677426",
     "status": "completed"
    },
    "tags": []
   },
   "source": [
    "### Understand CountVectorizer and TfidfVectorizer  "
   ]
  },
  {
   "cell_type": "code",
   "execution_count": 26,
   "id": "62e080ac",
   "metadata": {
    "execution": {
     "iopub.execute_input": "2023-08-22T19:19:12.996026Z",
     "iopub.status.busy": "2023-08-22T19:19:12.995660Z",
     "iopub.status.idle": "2023-08-22T19:19:13.000671Z",
     "shell.execute_reply": "2023-08-22T19:19:12.999150Z"
    },
    "papermill": {
     "duration": 0.115654,
     "end_time": "2023-08-22T19:19:13.003730",
     "exception": false,
     "start_time": "2023-08-22T19:19:12.888076",
     "status": "completed"
    },
    "tags": []
   },
   "outputs": [],
   "source": [
    "# text = X_train.copy()\n",
    "# text.head()"
   ]
  },
  {
   "cell_type": "code",
   "execution_count": 27,
   "id": "2518e682",
   "metadata": {
    "execution": {
     "iopub.execute_input": "2023-08-22T19:19:13.217525Z",
     "iopub.status.busy": "2023-08-22T19:19:13.217088Z",
     "iopub.status.idle": "2023-08-22T19:19:13.221430Z",
     "shell.execute_reply": "2023-08-22T19:19:13.220290Z"
    },
    "papermill": {
     "duration": 0.113827,
     "end_time": "2023-08-22T19:19:13.223817",
     "exception": false,
     "start_time": "2023-08-22T19:19:13.109990",
     "status": "completed"
    },
    "tags": []
   },
   "outputs": [],
   "source": [
    "# vectorizer = TfidfVectorizer(stop_words=stop_words)\n",
    "# vectorized_text = vectorizer.fit_transform(text[\"reviewText\"])\n",
    "# vectorized_text"
   ]
  },
  {
   "cell_type": "markdown",
   "id": "9a58f50b",
   "metadata": {
    "papermill": {
     "duration": 0.108308,
     "end_time": "2023-08-22T19:19:13.436592",
     "exception": false,
     "start_time": "2023-08-22T19:19:13.328284",
     "status": "completed"
    },
    "tags": []
   },
   "source": [
    "`Without stop words`  \n",
    "<122068x58624 sparse matrix of type '<class 'numpy.float64'>'\n",
    "\twith 2312222 stored elements in Compressed Sparse Row format>\n",
    "\n",
    "`With stop words`  \n",
    "<122068x57784 sparse matrix of type '<class 'numpy.float64'>'\n",
    "\twith 1188395 stored elements in Compressed Sparse Row format>   "
   ]
  },
  {
   "cell_type": "code",
   "execution_count": 28,
   "id": "d5799e38",
   "metadata": {
    "execution": {
     "iopub.execute_input": "2023-08-22T19:19:13.649734Z",
     "iopub.status.busy": "2023-08-22T19:19:13.649160Z",
     "iopub.status.idle": "2023-08-22T19:19:13.654329Z",
     "shell.execute_reply": "2023-08-22T19:19:13.653077Z"
    },
    "papermill": {
     "duration": 0.114435,
     "end_time": "2023-08-22T19:19:13.656567",
     "exception": false,
     "start_time": "2023-08-22T19:19:13.542132",
     "status": "completed"
    },
    "tags": []
   },
   "outputs": [],
   "source": [
    "# vectorizer2 = CountVectorizer(stop_words=stop_words)\n",
    "# vectorized_text2 = vectorizer2.fit_transform(text[\"reviewText\"])\n",
    "# vectorized_text2"
   ]
  },
  {
   "cell_type": "markdown",
   "id": "f79063bd",
   "metadata": {
    "papermill": {
     "duration": 0.106821,
     "end_time": "2023-08-22T19:19:13.945332",
     "exception": false,
     "start_time": "2023-08-22T19:19:13.838511",
     "status": "completed"
    },
    "tags": []
   },
   "source": [
    "`Without stop words`  \n",
    "<122068x58624 sparse matrix of type '<class 'numpy.int64'>'\n",
    "\twith 2312222 stored elements in Compressed Sparse Row format>\n",
    "\n",
    "`With stop words`  \n",
    "<122068x57784 sparse matrix of type '<class 'numpy.int64'>'\n",
    "\twith 1188395 stored elements in Compressed Sparse Row format>"
   ]
  },
  {
   "cell_type": "markdown",
   "id": "498940ad",
   "metadata": {
    "papermill": {
     "duration": 0.104621,
     "end_time": "2023-08-22T19:19:14.155498",
     "exception": false,
     "start_time": "2023-08-22T19:19:14.050877",
     "status": "completed"
    },
    "tags": []
   },
   "source": [
    "### Conclusion   \n",
    "`TfidfVectorizer is equivalent to CountVectorizer followed by TfidfTransformer.`  \n",
    "\n",
    "https://scikit-learn.org/stable/modules/generated/sklearn.feature_extraction.text.TfidfVectorizer.html"
   ]
  },
  {
   "cell_type": "markdown",
   "id": "2be07f32",
   "metadata": {
    "papermill": {
     "duration": 0.104929,
     "end_time": "2023-08-22T19:19:14.366048",
     "exception": false,
     "start_time": "2023-08-22T19:19:14.261119",
     "status": "completed"
    },
    "tags": []
   },
   "source": [
    "## Model building workflow  \n",
    "\n",
    "`Make pipeline for preprocesing and model training and predictions`  \n"
   ]
  },
  {
   "cell_type": "code",
   "execution_count": 29,
   "id": "c910613f",
   "metadata": {
    "execution": {
     "iopub.execute_input": "2023-08-22T19:19:14.580179Z",
     "iopub.status.busy": "2023-08-22T19:19:14.579746Z",
     "iopub.status.idle": "2023-08-22T19:19:14.585657Z",
     "shell.execute_reply": "2023-08-22T19:19:14.584355Z"
    },
    "papermill": {
     "duration": 0.114982,
     "end_time": "2023-08-22T19:19:14.587922",
     "exception": false,
     "start_time": "2023-08-22T19:19:14.472940",
     "status": "completed"
    },
    "tags": []
   },
   "outputs": [],
   "source": [
    "# def preprocess_n_train(X_train, y_train, preprocessor, model):\n",
    "#     pipe = Pipeline(steps=[\n",
    "#                             (\"preprocessor\", preprocessor),\n",
    "#                             (\"model\", model)\n",
    "#                         ])\n",
    "    \n",
    "#     pipe.fit(X_train, y_train)\n",
    "\n",
    "#     print(\"Given model has been trained. Use predict method to get predictions array.\")\n",
    "#     return pipe\n",
    "\n",
    "\n",
    "# def predict_n_evaluate(pipeline, X_test, y_test):\n",
    "#     y_pred = pipeline.predict(X_test)\n",
    "#     print(f\"y_pred shape: {y_pred.shape}\")\n",
    "#     print(f\"Summary of predictions: {np.unique(y_pred, return_counts=True)}\")\n",
    "#     print(classification_report(y_test, y_pred))\n",
    "#     print(confusion_matrix(y_test, y_pred))\n",
    "#     return y_pred"
   ]
  },
  {
   "cell_type": "markdown",
   "id": "348589d3",
   "metadata": {
    "papermill": {
     "duration": 0.105302,
     "end_time": "2023-08-22T19:19:14.798806",
     "exception": false,
     "start_time": "2023-08-22T19:19:14.693504",
     "status": "completed"
    },
    "tags": []
   },
   "source": [
    "## Building 3 basic models  "
   ]
  },
  {
   "cell_type": "markdown",
   "id": "3e3f9727",
   "metadata": {
    "papermill": {
     "duration": 0.10723,
     "end_time": "2023-08-22T19:19:15.012789",
     "exception": false,
     "start_time": "2023-08-22T19:19:14.905559",
     "status": "completed"
    },
    "tags": []
   },
   "source": [
    "### Text preprocessors  "
   ]
  },
  {
   "cell_type": "code",
   "execution_count": 30,
   "id": "2ad79de6",
   "metadata": {
    "execution": {
     "iopub.execute_input": "2023-08-22T19:19:15.228889Z",
     "iopub.status.busy": "2023-08-22T19:19:15.228500Z",
     "iopub.status.idle": "2023-08-22T19:19:15.233749Z",
     "shell.execute_reply": "2023-08-22T19:19:15.232349Z"
    },
    "papermill": {
     "duration": 0.118025,
     "end_time": "2023-08-22T19:19:15.236147",
     "exception": false,
     "start_time": "2023-08-22T19:19:15.118122",
     "status": "completed"
    },
    "tags": []
   },
   "outputs": [],
   "source": [
    "# tvec = TfidfVectorizer()\n",
    "# cvec = CountVectorizer()        # Note that TfidfVectorizer and CountVectorizer+TfidsTransformer do the same function\n",
    "# tvec, cvec"
   ]
  },
  {
   "cell_type": "markdown",
   "id": "a0d6b7d8",
   "metadata": {
    "papermill": {
     "duration": 0.128555,
     "end_time": "2023-08-22T19:19:15.470320",
     "exception": false,
     "start_time": "2023-08-22T19:19:15.341765",
     "status": "completed"
    },
    "tags": []
   },
   "source": [
    "### Logistic Regression with TfidVectorizer for preprocessing  "
   ]
  },
  {
   "cell_type": "code",
   "execution_count": 31,
   "id": "4c037d6e",
   "metadata": {
    "execution": {
     "iopub.execute_input": "2023-08-22T19:19:15.684915Z",
     "iopub.status.busy": "2023-08-22T19:19:15.684539Z",
     "iopub.status.idle": "2023-08-22T19:19:15.689560Z",
     "shell.execute_reply": "2023-08-22T19:19:15.688324Z"
    },
    "papermill": {
     "duration": 0.116052,
     "end_time": "2023-08-22T19:19:15.692012",
     "exception": false,
     "start_time": "2023-08-22T19:19:15.575960",
     "status": "completed"
    },
    "tags": []
   },
   "outputs": [],
   "source": [
    "# logreg = LogisticRegression(max_iter=1000)\n",
    "# logreg_pipe = preprocess_n_train(X_train, y_train, tvec, logreg)\n",
    "# y_pred_logreg = predict_n_evaluate(logreg_pipe, X_test, y_test)\n",
    "# y_pred_logreg"
   ]
  },
  {
   "cell_type": "markdown",
   "id": "3ec5a971",
   "metadata": {
    "papermill": {
     "duration": 0.107237,
     "end_time": "2023-08-22T19:19:15.906761",
     "exception": false,
     "start_time": "2023-08-22T19:19:15.799524",
     "status": "completed"
    },
    "tags": []
   },
   "source": [
    "### SVM model  "
   ]
  },
  {
   "cell_type": "code",
   "execution_count": 32,
   "id": "566ea3f4",
   "metadata": {
    "execution": {
     "iopub.execute_input": "2023-08-22T19:19:16.121415Z",
     "iopub.status.busy": "2023-08-22T19:19:16.120960Z",
     "iopub.status.idle": "2023-08-22T19:19:16.126540Z",
     "shell.execute_reply": "2023-08-22T19:19:16.125312Z"
    },
    "papermill": {
     "duration": 0.115188,
     "end_time": "2023-08-22T19:19:16.129019",
     "exception": false,
     "start_time": "2023-08-22T19:19:16.013831",
     "status": "completed"
    },
    "tags": []
   },
   "outputs": [],
   "source": [
    "# svm = LinearSVC()\n",
    "# svm_pipe = preprocess_n_train(X_train, y_train, tvec, svm)\n",
    "# y_pred_svm = predict_n_evaluate(svm_pipe, X_test, y_test)\n",
    "# y_pred_svm"
   ]
  },
  {
   "cell_type": "markdown",
   "id": "036cc19b",
   "metadata": {
    "papermill": {
     "duration": 0.104421,
     "end_time": "2023-08-22T19:19:16.338947",
     "exception": false,
     "start_time": "2023-08-22T19:19:16.234526",
     "status": "completed"
    },
    "tags": []
   },
   "source": [
    "### Naive Bayes model  "
   ]
  },
  {
   "cell_type": "markdown",
   "id": "4fb0cb9c",
   "metadata": {
    "papermill": {
     "duration": 0.105876,
     "end_time": "2023-08-22T19:19:16.553294",
     "exception": false,
     "start_time": "2023-08-22T19:19:16.447418",
     "status": "completed"
    },
    "tags": []
   },
   "source": [
    "#### MultinomialNB  "
   ]
  },
  {
   "cell_type": "code",
   "execution_count": 33,
   "id": "6093d32a",
   "metadata": {
    "execution": {
     "iopub.execute_input": "2023-08-22T19:19:16.769860Z",
     "iopub.status.busy": "2023-08-22T19:19:16.769490Z",
     "iopub.status.idle": "2023-08-22T19:19:16.774312Z",
     "shell.execute_reply": "2023-08-22T19:19:16.773160Z"
    },
    "papermill": {
     "duration": 0.115659,
     "end_time": "2023-08-22T19:19:16.776556",
     "exception": false,
     "start_time": "2023-08-22T19:19:16.660897",
     "status": "completed"
    },
    "tags": []
   },
   "outputs": [],
   "source": [
    "# mnb = MultinomialNB()\n",
    "# mnb_pipe = preprocess_n_train(X_train, y_train, tvec, mnb)\n",
    "# y_pred_mnb = predict_n_evaluate(mnb_pipe, X_test, y_test)\n",
    "# y_pred_mnb"
   ]
  },
  {
   "cell_type": "markdown",
   "id": "4d153064",
   "metadata": {
    "papermill": {
     "duration": 0.104981,
     "end_time": "2023-08-22T19:19:16.987164",
     "exception": false,
     "start_time": "2023-08-22T19:19:16.882183",
     "status": "completed"
    },
    "tags": []
   },
   "source": [
    "## Submitting predictions to Kaggle competition  "
   ]
  },
  {
   "cell_type": "code",
   "execution_count": 34,
   "id": "6baff770",
   "metadata": {
    "execution": {
     "iopub.execute_input": "2023-08-22T19:19:17.203730Z",
     "iopub.status.busy": "2023-08-22T19:19:17.203357Z",
     "iopub.status.idle": "2023-08-22T19:19:17.208744Z",
     "shell.execute_reply": "2023-08-22T19:19:17.207511Z"
    },
    "papermill": {
     "duration": 0.11633,
     "end_time": "2023-08-22T19:19:17.211293",
     "exception": false,
     "start_time": "2023-08-22T19:19:17.094963",
     "status": "completed"
    },
    "tags": []
   },
   "outputs": [],
   "source": [
    "# def submit(selected_model=logreg, selected_preprocessor=tvec):\n",
    "    \n",
    "#     # Retrain on the whole train.csv file  \n",
    "#     traindf = pd.read_csv(\"/kaggle/input/sentiment-prediction-on-movie-reviews/train.csv\")\n",
    "#     X_train = traindf[\"reviewText\"]\n",
    "#     X_train.fillna(\"empty\", inplace=True)\n",
    "#     y_train = traindf[\"sentiment\"]\n",
    "#     pipe = preprocess_n_train(X_train, y_train, selected_preprocessor, selected_model)\n",
    "    \n",
    "#     # Predict on test.csv file\n",
    "#     testdf = pd.read_csv(\"/kaggle/input/sentiment-prediction-on-movie-reviews/test.csv\")\n",
    "#     X_test = testdf[\"reviewText\"]\n",
    "#     X_test.fillna(\"empty\", inplace=True)\n",
    "    \n",
    "#     y_pred = pipe.predict(X_test)\n",
    "    \n",
    "#     pred_df = pd.DataFrame(y_pred)\n",
    "#     pred_df.columns = [\"sentiment\"]\n",
    "#     pred_df.index.name = \"id\"\n",
    "#     pred_df.to_csv(\"submission.csv\")\n",
    "    \n",
    "#     return \"Successfully created the submission file!!!\""
   ]
  },
  {
   "cell_type": "code",
   "execution_count": 35,
   "id": "f9b5a643",
   "metadata": {
    "execution": {
     "iopub.execute_input": "2023-08-22T19:19:17.426693Z",
     "iopub.status.busy": "2023-08-22T19:19:17.426320Z",
     "iopub.status.idle": "2023-08-22T19:19:17.431175Z",
     "shell.execute_reply": "2023-08-22T19:19:17.429924Z"
    },
    "papermill": {
     "duration": 0.116609,
     "end_time": "2023-08-22T19:19:17.434136",
     "exception": false,
     "start_time": "2023-08-22T19:19:17.317527",
     "status": "completed"
    },
    "tags": []
   },
   "outputs": [],
   "source": [
    "# submit(logreg_cv1, tvec_cv1)"
   ]
  },
  {
   "cell_type": "markdown",
   "id": "ba3be0cd",
   "metadata": {
    "papermill": {
     "duration": 0.109041,
     "end_time": "2023-08-22T19:19:17.653535",
     "exception": false,
     "start_time": "2023-08-22T19:19:17.544494",
     "status": "completed"
    },
    "tags": []
   },
   "source": [
    "# PART II  "
   ]
  },
  {
   "cell_type": "markdown",
   "id": "d167c6a0",
   "metadata": {
    "papermill": {
     "duration": 0.106233,
     "end_time": "2023-08-22T19:19:17.869883",
     "exception": false,
     "start_time": "2023-08-22T19:19:17.763650",
     "status": "completed"
    },
    "tags": []
   },
   "source": [
    "## Merge \"movies.csv\" with \"train.csv\" and \"test.csv\"  "
   ]
  },
  {
   "cell_type": "markdown",
   "id": "1c6a3c1c",
   "metadata": {
    "papermill": {
     "duration": 0.107433,
     "end_time": "2023-08-22T19:19:18.083408",
     "exception": false,
     "start_time": "2023-08-22T19:19:17.975975",
     "status": "completed"
    },
    "tags": []
   },
   "source": [
    "### Helper functions  "
   ]
  },
  {
   "cell_type": "code",
   "execution_count": 36,
   "id": "c2dce279",
   "metadata": {
    "execution": {
     "iopub.execute_input": "2023-08-22T19:19:18.297813Z",
     "iopub.status.busy": "2023-08-22T19:19:18.297350Z",
     "iopub.status.idle": "2023-08-22T19:19:18.304005Z",
     "shell.execute_reply": "2023-08-22T19:19:18.302370Z"
    },
    "papermill": {
     "duration": 0.117056,
     "end_time": "2023-08-22T19:19:18.306369",
     "exception": false,
     "start_time": "2023-08-22T19:19:18.189313",
     "status": "completed"
    },
    "tags": []
   },
   "outputs": [],
   "source": [
    "# Helper function for loading files  \n",
    "\n",
    "def load_csv(filename: str):\n",
    "    if platform == \"vscode\":\n",
    "        df = pd.read_csv(f\"data/{filename}.csv\")\n",
    "    else:\n",
    "        df = pd.read_csv(f\"/kaggle/input/sentiment-prediction-on-movie-reviews/{filename}.csv\")\n",
    "        \n",
    "    return df"
   ]
  },
  {
   "cell_type": "code",
   "execution_count": 37,
   "id": "c91ec02a",
   "metadata": {
    "execution": {
     "iopub.execute_input": "2023-08-22T19:19:18.585472Z",
     "iopub.status.busy": "2023-08-22T19:19:18.584886Z",
     "iopub.status.idle": "2023-08-22T19:19:18.591100Z",
     "shell.execute_reply": "2023-08-22T19:19:18.590258Z"
    },
    "papermill": {
     "duration": 0.179786,
     "end_time": "2023-08-22T19:19:18.594015",
     "exception": false,
     "start_time": "2023-08-22T19:19:18.414229",
     "status": "completed"
    },
    "tags": []
   },
   "outputs": [],
   "source": [
    "def inspect(df: pd.DataFrame):\n",
    "    print(f\"Shape of the dataframe: {df.shape}\")\n",
    "    print()\n",
    "    print(f\"Columns in the dataframe:\\n{df.columns}\")\n",
    "    print()\n",
    "    print(f\"{df.info()}\")\n",
    "    print()\n",
    "    # print(f\"Summary: {df.describe()}\")\n",
    "    print(f\"Missing values:\\n{df.isna().sum()}\")\n",
    "    return"
   ]
  },
  {
   "cell_type": "code",
   "execution_count": 38,
   "id": "c3e0ca24",
   "metadata": {
    "execution": {
     "iopub.execute_input": "2023-08-22T19:19:18.808661Z",
     "iopub.status.busy": "2023-08-22T19:19:18.808235Z",
     "iopub.status.idle": "2023-08-22T19:19:18.814736Z",
     "shell.execute_reply": "2023-08-22T19:19:18.813404Z"
    },
    "papermill": {
     "duration": 0.117633,
     "end_time": "2023-08-22T19:19:18.817366",
     "exception": false,
     "start_time": "2023-08-22T19:19:18.699733",
     "status": "completed"
    },
    "tags": []
   },
   "outputs": [],
   "source": [
    "def name_fl(name):\n",
    "    l = name.split()\n",
    "    n = ' '.join((l[0], l[-1]))\n",
    "    return n"
   ]
  },
  {
   "cell_type": "code",
   "execution_count": 39,
   "id": "b878ea96",
   "metadata": {
    "execution": {
     "iopub.execute_input": "2023-08-22T19:19:19.034507Z",
     "iopub.status.busy": "2023-08-22T19:19:19.034056Z",
     "iopub.status.idle": "2023-08-22T19:19:19.061701Z",
     "shell.execute_reply": "2023-08-22T19:19:19.060518Z"
    },
    "papermill": {
     "duration": 0.139503,
     "end_time": "2023-08-22T19:19:19.064599",
     "exception": false,
     "start_time": "2023-08-22T19:19:18.925096",
     "status": "completed"
    },
    "tags": []
   },
   "outputs": [],
   "source": [
    "def select_features(df: pd.DataFrame, moviesdf: pd.DataFrame, row_thresh_null=None):\n",
    "    '''\n",
    "    This function merges the given dataframes. Note that the first df must be \"train\" or \"test\" and\n",
    "    the second df should be \"movies\".\n",
    "    Note: Sentiment column is present only in \"train.csv\" file and not \"test.csv\" file.\n",
    "    '''\n",
    "    \n",
    "    # Drop duplicates from moviesdf\n",
    "#     movies_unique = moviesdf.drop_duplicates(subset=[\"movieid\"])\n",
    "\n",
    "    # Drop duplicates using groupby - clubs similar rows and fills in missing values better\n",
    "    movies_unique = moviesdf.fillna(value=np.nan).groupby(\"movieid\").first().reset_index()\n",
    "    \n",
    "\n",
    "    # Handle missing values in movies.csv better than just dropping duplicates?\n",
    "#     movies_unique = moviesdf.copy()\n",
    "#     movies_unique[[\"audienceScore\", \"runtimeMinutes\"]] = movies_unique[[\"audienceScore\", \"runtimeMinutes\"]].interpolate(method='linear', axis=0)\n",
    "#     movies_unique = movies_unique.fillna(value=np.nan).groupby(\"movieid\").first().fillna(method='ffill').reset_index()\n",
    "\n",
    "    \n",
    "\n",
    "    # Merge df and movies_unique\n",
    "    df_merged = pd.merge(df, movies_unique, on=\"movieid\", how='left')\n",
    "    \n",
    "    # Rename \"isTopCritic\" column, if it exists, to \"isFrequentReviewer\"\n",
    "    df_merged.rename(columns={\"isTopCritic\": \"isFrequentReviewer\"}, inplace=True)\n",
    "    \n",
    "    # Drop columns\n",
    "#     df_merged = df_merged.drop(columns=[\"title\", \"ratingContents\", \"releaseDateTheaters\", \"releaseDateStreaming\", \"distributor\", \"soundType\"])\n",
    "#     df_merged = df_merged.drop(columns=[\"title\", \"soundType\"])\n",
    "    \n",
    "    # Drop rows (OPTIONAL: Uses kwarg row_thresh_null)\n",
    "    if row_thresh_null != None:\n",
    "        df_merged.dropna(axis=0, thresh=(df_merged.shape[1] - row_thresh_null), inplace=True)\n",
    "        \n",
    "\n",
    "    # Create new columns based on reviewText\n",
    "    final = df_merged.copy()\n",
    "    final[\"reviewYN\"] = np.where(final[\"reviewText\"].isnull(), 1, 0)    # Feature engineering - adding a new column\n",
    "    final[\"reviewWC\"] = final.apply(lambda x: len(str(x[\"reviewText\"]).split()), axis=1)    # Feature engineering - adding second new column\n",
    "    \n",
    "    # Clean text (replace numbers with empty string) and fill missing values in \"reviewText\" with empty string\n",
    "    final[\"reviewText\"] = final[\"reviewText\"].str.replace('\\d+', '', regex=True)\n",
    "    final[\"reviewText\"] = final[\"reviewText\"].fillna(\"neutral\")\n",
    "    \n",
    "    # Fill missing values in \"rating\", \"genre\", original columns with the word \"unknown\"\n",
    "    final[\"rating\"] = final[\"rating\"].fillna(\"unknown\")\n",
    "    final[\"originalLanguage\"] = final[\"originalLanguage\"].fillna(\"unknown\")\n",
    "    final[\"genre\"] = final[\"genre\"].fillna(\"unknown\")\n",
    "    final[\"genre\"] = final[\"genre\"].apply(lambda x: re.sub(r\"-\", \"\", x))\n",
    "    final[\"genreSorted\"] = final[\"genre\"].apply(lambda x: (\",\").join(sorted(x.split(\", \"))))\n",
    "#     final[\"genre\"] = final[\"genre\"].replace(to_replace={\"&\": \"\"})\n",
    "\n",
    "    # Impute missing values for \"audienceScore\" and \"runtimeMinutes\" columns\n",
    "#     final[\"audienceScore\"] = final[\"audienceScore\"].fillna(final[\"audienceScore\"].mean())        # MOVED\n",
    "#     final[\"runtimeMinutes\"] = final[\"runtimeMinutes\"].fillna(final[\"runtimeMinutes\"].median())   # MOVED\n",
    "    \n",
    "    # Preprocess and impute missing values in \"boxOffice\" column\n",
    "    final[\"boxOffice\"] = final[\"boxOffice\"].str[1:]\n",
    "    final[\"boxOffice\"] = final[\"boxOffice\"].replace(to_replace={\"M\": \"*1000000\", \"K\": \"*1000\"}, regex=True)\n",
    "    final[\"boxOffice\"] = final[\"boxOffice\"].loc[final[\"boxOffice\"].notnull()].apply(lambda x: eval(str(x)))\n",
    "#     final[\"boxOffice\"] = final[\"boxOffice\"].fillna(final[\"boxOffice\"].median())                  # MOVED\n",
    "    # (Optional) Replace outliers in boxOffice with median\n",
    "#     median = final[\"boxOffice\"].describe()['50%']\n",
    "#     iqr = final[\"boxOffice\"].describe()['75%'] - final[\"boxOffice\"].describe()['25%']\n",
    "#     ll = median - (1.5*iqr)\n",
    "#     ul = median + (1.5*iqr)\n",
    "#     final.loc[final[\"boxOffice\"] > ul, \"boxOffice\"] = median\n",
    "    \n",
    "    # Clean language names\n",
    "    final[\"originalLanguage\"].replace({\"English (United Kingdom)\": \"English\", \n",
    "                                            \"English (Australia)\" : \"English\",\n",
    "                                            \"French (France)\": \"French\", \n",
    "                                            \"French (Canada)\": \"French\",\n",
    "                                            \"Portuguese (Brazil)\": \"Portuguese\",\n",
    "                                            \"Spanish (Spain)\": \"Spanish\"},                                         \n",
    "                                            inplace=True)\n",
    "    \n",
    "    # Clean reviewerName column\n",
    "    pre_post_fixes = {\"Mr. \": \"\", \"Mrs. \": \"\", \"Ms. \": \"\", \"Dr. \": \"\", \n",
    "                      \" MD\": \"\", \" DDS\": \"\", \" DVM\": \"\", \" Jr.\": \"\", \" PhD\": \"\", \" II\": \"\", \" IV\": \"\"}\n",
    "    final[\"reviewerName\"] = final[\"reviewerName\"].replace(pre_post_fixes, regex=True)\n",
    "    final[\"reviewerName\"] = final[\"reviewerName\"].apply(name_fl)\n",
    "    \n",
    "    # Handle 'ratingContents' column\n",
    "    final[\"ratingContents\"] = final[\"ratingContents\"].fillna(\"neutral\")\n",
    "    final[\"rcSorted\"] = final[\"ratingContents\"].apply(lambda x: (\",\").join(sorted(x.strip(\"][\").split(\", \"))))\n",
    "    final[\"rcSorted\"] = final[\"rcSorted\"].apply(lambda x: re.sub(r\"'\", \"\", x))\n",
    "    final[\"rcSorted\"] = final[\"rcSorted\"].apply(lambda x: re.sub(r\"[/\\s]\", \"_\", x))  \n",
    "    \n",
    "    # Handle 'ratingContents' column\n",
    "    final[\"distributor\"] = final[\"distributor\"].fillna(\"unknown\")\n",
    "    \n",
    "    # Work with 'releaseDateTheaters', releaseDateStreaming column\n",
    "    final[[\"releaseDateTheaters\", \"releaseDateStreaming\"]] = final[[\"releaseDateTheaters\", \"releaseDateStreaming\"]].astype('datetime64[ns]')\n",
    "\n",
    "    final[\"releaseDate\"] = final[[\"releaseDateTheaters\", \"releaseDateStreaming\"]].min(axis=1, skipna=False)\n",
    "#     final[\"releaseDate\"] = final[\"releaseDate\"].fillna(final[\"releaseDate\"].median())               # MOVED\n",
    "\n",
    "    final[\"releaseYear\"] = final[\"releaseDate\"].dt.year\n",
    "    final[\"releaseMonth\"] = final[\"releaseDate\"].dt.month\n",
    "    \n",
    "    # Compute \"releaseDiff\" column and fill missing values in \"releaseDiff\" and (optional) replace outliers\n",
    "    final[\"releaseDiff\"] = (final[\"releaseDateStreaming\"] - final[\"releaseDateTheaters\"]) / np.timedelta64(1, 'D')\n",
    "    final[\"releaseDiff\"] = final[\"releaseDiff\"].apply(lambda x: abs(x))\n",
    "    final[\"releaseDiff\"] = final[\"releaseDiff\"].fillna(value=0)\n",
    "#     final[\"releaseDiff\"] = final[\"releaseDiff\"].fillna(final[\"releaseDiff\"].median())\n",
    "    # median = final[\"releaseDiff\"].describe()['50%']\n",
    "    # iqr = final[\"releaseDiff\"].describe()['75%'] - final[\"releaseDiff\"].describe()['25%']\n",
    "    # ll = median - (1.5*iqr)\n",
    "    # ul = median + (1.5*iqr)\n",
    "    # final.loc[final[\"releaseDiff\"] > ul, \"releaseDiff\"] = median\n",
    "    # final.loc[final[\"releaseDiff\"] < ll, \"releaseDiff\"] = median\n",
    "    \n",
    "#     # Create new feature columns\n",
    "    \n",
    "#     # Convert audienceScore to categories  \n",
    "#     num_bins_as = 20\n",
    "#     final[\"audScoreBins\"] = pd.cut(final['audienceScore'], bins=num_bins_as, labels=False)\n",
    "    \n",
    "#     # Convert runtimeMinutes to categories  \n",
    "# #     num_bins_rt = 20\n",
    "#     final[\"runtimeBins\"] = pd.cut(final['runtimeMinutes'], bins=[0,75,120,180,565], labels=[4,3,2,1])\n",
    "    \n",
    "#     # Convert boxOffice to categories  \n",
    "#     num_bins_bo = 5\n",
    "#     final[\"boxOfficeBins\"] = pd.cut(final['boxOffice'], bins=num_bins_bo, labels=False)\n",
    "    \n",
    "#     # Convert releaseDiff to categories  \n",
    "#     num_bins_rd = 5\n",
    "#     final[\"releaseDiffBins\"] = pd.cut(final['releaseDiff'], bins=[-1, 180, 360, 1000, 40000], labels=[0, 1, 2, 3])\n",
    "\n",
    "    return final"
   ]
  },
  {
   "cell_type": "code",
   "execution_count": 40,
   "id": "f8260350",
   "metadata": {
    "execution": {
     "iopub.execute_input": "2023-08-22T19:19:19.286171Z",
     "iopub.status.busy": "2023-08-22T19:19:19.285697Z",
     "iopub.status.idle": "2023-08-22T19:19:19.295446Z",
     "shell.execute_reply": "2023-08-22T19:19:19.293194Z"
    },
    "papermill": {
     "duration": 0.125082,
     "end_time": "2023-08-22T19:19:19.299096",
     "exception": false,
     "start_time": "2023-08-22T19:19:19.174014",
     "status": "completed"
    },
    "tags": []
   },
   "outputs": [],
   "source": [
    "def split_train_predict(features, labels, pipeline, test_size=0.25, random_state=42):\n",
    "    # cols = features.columns\n",
    "    if len(features.shape) == 1:\n",
    "        features = features.to_numpy().reshape(-1, 1)  # reshape to 2D array\n",
    "    features = pd.DataFrame(features)\n",
    "    X_train, X_test, y_train, y_test = train_test_split(features, labels, test_size=test_size, random_state=random_state)\n",
    "    pipeline.fit(X_train, y_train)\n",
    "    y_pred = pipeline.predict(X_test)\n",
    "    print(classification_report(y_test, y_pred))\n",
    "    print(confusion_matrix(y_test, y_pred))\n",
    "    return pipeline"
   ]
  },
  {
   "cell_type": "markdown",
   "id": "c61317be",
   "metadata": {
    "papermill": {
     "duration": 0.115931,
     "end_time": "2023-08-22T19:19:19.541114",
     "exception": false,
     "start_time": "2023-08-22T19:19:19.425183",
     "status": "completed"
    },
    "tags": []
   },
   "source": [
    "### Merge \"train.csv\" file with \"movies.csv\" file  "
   ]
  },
  {
   "cell_type": "code",
   "execution_count": 41,
   "id": "182ea630",
   "metadata": {
    "execution": {
     "iopub.execute_input": "2023-08-22T19:19:19.779577Z",
     "iopub.status.busy": "2023-08-22T19:19:19.777227Z",
     "iopub.status.idle": "2023-08-22T19:19:34.585361Z",
     "shell.execute_reply": "2023-08-22T19:19:34.583796Z"
    },
    "papermill": {
     "duration": 14.929477,
     "end_time": "2023-08-22T19:19:34.588991",
     "exception": false,
     "start_time": "2023-08-22T19:19:19.659514",
     "status": "completed"
    },
    "tags": []
   },
   "outputs": [],
   "source": [
    "merged = select_features(load_csv(\"train\"), load_csv(\"movies\"), row_thresh_null=None)"
   ]
  },
  {
   "cell_type": "code",
   "execution_count": 42,
   "id": "ef1ab139",
   "metadata": {
    "execution": {
     "iopub.execute_input": "2023-08-22T19:19:34.811618Z",
     "iopub.status.busy": "2023-08-22T19:19:34.811138Z",
     "iopub.status.idle": "2023-08-22T19:19:36.298183Z",
     "shell.execute_reply": "2023-08-22T19:19:36.296348Z"
    },
    "papermill": {
     "duration": 1.601438,
     "end_time": "2023-08-22T19:19:36.300972",
     "exception": false,
     "start_time": "2023-08-22T19:19:34.699534",
     "status": "completed"
    },
    "tags": []
   },
   "outputs": [
    {
     "name": "stdout",
     "output_type": "stream",
     "text": [
      "Shape of the dataframe: (162758, 26)\n",
      "\n",
      "Columns in the dataframe:\n",
      "Index(['movieid', 'reviewerName', 'isFrequentReviewer', 'reviewText',\n",
      "       'sentiment', 'title', 'audienceScore', 'rating', 'ratingContents',\n",
      "       'releaseDateTheaters', 'releaseDateStreaming', 'runtimeMinutes',\n",
      "       'genre', 'originalLanguage', 'director', 'boxOffice', 'distributor',\n",
      "       'soundType', 'reviewYN', 'reviewWC', 'genreSorted', 'rcSorted',\n",
      "       'releaseDate', 'releaseYear', 'releaseMonth', 'releaseDiff'],\n",
      "      dtype='object')\n",
      "\n",
      "<class 'pandas.core.frame.DataFrame'>\n",
      "Int64Index: 162758 entries, 0 to 162757\n",
      "Data columns (total 26 columns):\n",
      " #   Column                Non-Null Count   Dtype         \n",
      "---  ------                --------------   -----         \n",
      " 0   movieid               162758 non-null  object        \n",
      " 1   reviewerName          162758 non-null  object        \n",
      " 2   isFrequentReviewer    162758 non-null  bool          \n",
      " 3   reviewText            162758 non-null  object        \n",
      " 4   sentiment             162758 non-null  object        \n",
      " 5   title                 162758 non-null  object        \n",
      " 6   audienceScore         159922 non-null  float64       \n",
      " 7   rating                162758 non-null  object        \n",
      " 8   ratingContents        162758 non-null  object        \n",
      " 9   releaseDateTheaters   146403 non-null  datetime64[ns]\n",
      " 10  releaseDateStreaming  157353 non-null  datetime64[ns]\n",
      " 11  runtimeMinutes        162016 non-null  float64       \n",
      " 12  genre                 162758 non-null  object        \n",
      " 13  originalLanguage      162758 non-null  object        \n",
      " 14  director              162758 non-null  object        \n",
      " 15  boxOffice             130581 non-null  float64       \n",
      " 16  distributor           162758 non-null  object        \n",
      " 17  soundType             93466 non-null   object        \n",
      " 18  reviewYN              162758 non-null  int64         \n",
      " 19  reviewWC              162758 non-null  int64         \n",
      " 20  genreSorted           162758 non-null  object        \n",
      " 21  rcSorted              162758 non-null  object        \n",
      " 22  releaseDate           143073 non-null  datetime64[ns]\n",
      " 23  releaseYear           143073 non-null  float64       \n",
      " 24  releaseMonth          143073 non-null  float64       \n",
      " 25  releaseDiff           162758 non-null  float64       \n",
      "dtypes: bool(1), datetime64[ns](3), float64(6), int64(2), object(14)\n",
      "memory usage: 32.4+ MB\n",
      "None\n",
      "\n",
      "Missing values:\n",
      "movieid                     0\n",
      "reviewerName                0\n",
      "isFrequentReviewer          0\n",
      "reviewText                  0\n",
      "sentiment                   0\n",
      "title                       0\n",
      "audienceScore            2836\n",
      "rating                      0\n",
      "ratingContents              0\n",
      "releaseDateTheaters     16355\n",
      "releaseDateStreaming     5405\n",
      "runtimeMinutes            742\n",
      "genre                       0\n",
      "originalLanguage            0\n",
      "director                    0\n",
      "boxOffice               32177\n",
      "distributor                 0\n",
      "soundType               69292\n",
      "reviewYN                    0\n",
      "reviewWC                    0\n",
      "genreSorted                 0\n",
      "rcSorted                    0\n",
      "releaseDate             19685\n",
      "releaseYear             19685\n",
      "releaseMonth            19685\n",
      "releaseDiff                 0\n",
      "dtype: int64\n"
     ]
    }
   ],
   "source": [
    "inspect(merged)    # Note missing values in ['audienceScore', 'runtimeMinutes', 'boxOffice'] columns  "
   ]
  },
  {
   "cell_type": "code",
   "execution_count": 43,
   "id": "90c77ba1",
   "metadata": {
    "execution": {
     "iopub.execute_input": "2023-08-22T19:19:36.522498Z",
     "iopub.status.busy": "2023-08-22T19:19:36.522005Z",
     "iopub.status.idle": "2023-08-22T19:19:36.617316Z",
     "shell.execute_reply": "2023-08-22T19:19:36.615956Z"
    },
    "papermill": {
     "duration": 0.211798,
     "end_time": "2023-08-22T19:19:36.619733",
     "exception": false,
     "start_time": "2023-08-22T19:19:36.407935",
     "status": "completed"
    },
    "tags": []
   },
   "outputs": [
    {
     "data": {
      "text/plain": [
       "array([6.80e+01, 1.04e+02, 1.43e+07])"
      ]
     },
     "execution_count": 43,
     "metadata": {},
     "output_type": "execute_result"
    }
   ],
   "source": [
    "# Simple Imputer for ['audienceScore', 'runtimeMinutes', 'boxOffice'] columns\n",
    "si = SimpleImputer(strategy='median')\n",
    "merged[['audienceScore', 'runtimeMinutes', 'boxOffice']] = si.fit_transform(merged[['audienceScore', 'runtimeMinutes', 'boxOffice']])\n",
    "si.statistics_"
   ]
  },
  {
   "cell_type": "code",
   "execution_count": 44,
   "id": "3e0093eb",
   "metadata": {
    "execution": {
     "iopub.execute_input": "2023-08-22T19:19:36.833784Z",
     "iopub.status.busy": "2023-08-22T19:19:36.833397Z",
     "iopub.status.idle": "2023-08-22T19:19:36.847761Z",
     "shell.execute_reply": "2023-08-22T19:19:36.846500Z"
    },
    "papermill": {
     "duration": 0.124934,
     "end_time": "2023-08-22T19:19:36.850533",
     "exception": false,
     "start_time": "2023-08-22T19:19:36.725599",
     "status": "completed"
    },
    "tags": []
   },
   "outputs": [],
   "source": [
    "# Fill 'releaseDate' column with median  \n",
    "merged['releaseDate'] = merged[\"releaseDate\"].fillna(merged[\"releaseDate\"].median())"
   ]
  },
  {
   "cell_type": "code",
   "execution_count": 45,
   "id": "5dc91bf2",
   "metadata": {
    "execution": {
     "iopub.execute_input": "2023-08-22T19:19:37.070011Z",
     "iopub.status.busy": "2023-08-22T19:19:37.069555Z",
     "iopub.status.idle": "2023-08-22T19:19:38.545998Z",
     "shell.execute_reply": "2023-08-22T19:19:38.545153Z"
    },
    "papermill": {
     "duration": 1.590256,
     "end_time": "2023-08-22T19:19:38.548823",
     "exception": false,
     "start_time": "2023-08-22T19:19:36.958567",
     "status": "completed"
    },
    "tags": []
   },
   "outputs": [
    {
     "name": "stdout",
     "output_type": "stream",
     "text": [
      "Shape of the dataframe: (162758, 26)\n",
      "\n",
      "Columns in the dataframe:\n",
      "Index(['movieid', 'reviewerName', 'isFrequentReviewer', 'reviewText',\n",
      "       'sentiment', 'title', 'audienceScore', 'rating', 'ratingContents',\n",
      "       'releaseDateTheaters', 'releaseDateStreaming', 'runtimeMinutes',\n",
      "       'genre', 'originalLanguage', 'director', 'boxOffice', 'distributor',\n",
      "       'soundType', 'reviewYN', 'reviewWC', 'genreSorted', 'rcSorted',\n",
      "       'releaseDate', 'releaseYear', 'releaseMonth', 'releaseDiff'],\n",
      "      dtype='object')\n",
      "\n",
      "<class 'pandas.core.frame.DataFrame'>\n",
      "Int64Index: 162758 entries, 0 to 162757\n",
      "Data columns (total 26 columns):\n",
      " #   Column                Non-Null Count   Dtype         \n",
      "---  ------                --------------   -----         \n",
      " 0   movieid               162758 non-null  object        \n",
      " 1   reviewerName          162758 non-null  object        \n",
      " 2   isFrequentReviewer    162758 non-null  bool          \n",
      " 3   reviewText            162758 non-null  object        \n",
      " 4   sentiment             162758 non-null  object        \n",
      " 5   title                 162758 non-null  object        \n",
      " 6   audienceScore         162758 non-null  float64       \n",
      " 7   rating                162758 non-null  object        \n",
      " 8   ratingContents        162758 non-null  object        \n",
      " 9   releaseDateTheaters   146403 non-null  datetime64[ns]\n",
      " 10  releaseDateStreaming  157353 non-null  datetime64[ns]\n",
      " 11  runtimeMinutes        162758 non-null  float64       \n",
      " 12  genre                 162758 non-null  object        \n",
      " 13  originalLanguage      162758 non-null  object        \n",
      " 14  director              162758 non-null  object        \n",
      " 15  boxOffice             162758 non-null  float64       \n",
      " 16  distributor           162758 non-null  object        \n",
      " 17  soundType             93466 non-null   object        \n",
      " 18  reviewYN              162758 non-null  int64         \n",
      " 19  reviewWC              162758 non-null  int64         \n",
      " 20  genreSorted           162758 non-null  object        \n",
      " 21  rcSorted              162758 non-null  object        \n",
      " 22  releaseDate           162758 non-null  datetime64[ns]\n",
      " 23  releaseYear           143073 non-null  float64       \n",
      " 24  releaseMonth          143073 non-null  float64       \n",
      " 25  releaseDiff           162758 non-null  float64       \n",
      "dtypes: bool(1), datetime64[ns](3), float64(6), int64(2), object(14)\n",
      "memory usage: 32.4+ MB\n",
      "None\n",
      "\n",
      "Missing values:\n",
      "movieid                     0\n",
      "reviewerName                0\n",
      "isFrequentReviewer          0\n",
      "reviewText                  0\n",
      "sentiment                   0\n",
      "title                       0\n",
      "audienceScore               0\n",
      "rating                      0\n",
      "ratingContents              0\n",
      "releaseDateTheaters     16355\n",
      "releaseDateStreaming     5405\n",
      "runtimeMinutes              0\n",
      "genre                       0\n",
      "originalLanguage            0\n",
      "director                    0\n",
      "boxOffice                   0\n",
      "distributor                 0\n",
      "soundType               69292\n",
      "reviewYN                    0\n",
      "reviewWC                    0\n",
      "genreSorted                 0\n",
      "rcSorted                    0\n",
      "releaseDate                 0\n",
      "releaseYear             19685\n",
      "releaseMonth            19685\n",
      "releaseDiff                 0\n",
      "dtype: int64\n"
     ]
    }
   ],
   "source": [
    "# Check out 'merged' df after imputation  \n",
    "inspect(merged)"
   ]
  },
  {
   "cell_type": "code",
   "execution_count": 46,
   "id": "67c9f639",
   "metadata": {
    "execution": {
     "iopub.execute_input": "2023-08-22T19:19:38.774298Z",
     "iopub.status.busy": "2023-08-22T19:19:38.773544Z",
     "iopub.status.idle": "2023-08-22T19:19:38.830142Z",
     "shell.execute_reply": "2023-08-22T19:19:38.829052Z"
    },
    "papermill": {
     "duration": 0.170727,
     "end_time": "2023-08-22T19:19:38.832642",
     "exception": false,
     "start_time": "2023-08-22T19:19:38.661915",
     "status": "completed"
    },
    "tags": []
   },
   "outputs": [
    {
     "data": {
      "text/html": [
       "<div>\n",
       "<style scoped>\n",
       "    .dataframe tbody tr th:only-of-type {\n",
       "        vertical-align: middle;\n",
       "    }\n",
       "\n",
       "    .dataframe tbody tr th {\n",
       "        vertical-align: top;\n",
       "    }\n",
       "\n",
       "    .dataframe thead th {\n",
       "        text-align: right;\n",
       "    }\n",
       "</style>\n",
       "<table border=\"1\" class=\"dataframe\">\n",
       "  <thead>\n",
       "    <tr style=\"text-align: right;\">\n",
       "      <th></th>\n",
       "      <th>audienceScore</th>\n",
       "      <th>runtimeMinutes</th>\n",
       "      <th>boxOffice</th>\n",
       "    </tr>\n",
       "  </thead>\n",
       "  <tbody>\n",
       "    <tr>\n",
       "      <th>count</th>\n",
       "      <td>162758.000000</td>\n",
       "      <td>162758.000000</td>\n",
       "      <td>1.627580e+05</td>\n",
       "    </tr>\n",
       "    <tr>\n",
       "      <th>mean</th>\n",
       "      <td>65.062565</td>\n",
       "      <td>106.992019</td>\n",
       "      <td>4.160983e+07</td>\n",
       "    </tr>\n",
       "    <tr>\n",
       "      <th>std</th>\n",
       "      <td>19.844000</td>\n",
       "      <td>22.203778</td>\n",
       "      <td>7.932291e+07</td>\n",
       "    </tr>\n",
       "    <tr>\n",
       "      <th>min</th>\n",
       "      <td>0.000000</td>\n",
       "      <td>4.000000</td>\n",
       "      <td>0.000000e+00</td>\n",
       "    </tr>\n",
       "    <tr>\n",
       "      <th>25%</th>\n",
       "      <td>51.000000</td>\n",
       "      <td>93.000000</td>\n",
       "      <td>2.000000e+06</td>\n",
       "    </tr>\n",
       "    <tr>\n",
       "      <th>50%</th>\n",
       "      <td>68.000000</td>\n",
       "      <td>104.000000</td>\n",
       "      <td>1.430000e+07</td>\n",
       "    </tr>\n",
       "    <tr>\n",
       "      <th>75%</th>\n",
       "      <td>81.000000</td>\n",
       "      <td>118.000000</td>\n",
       "      <td>4.200000e+07</td>\n",
       "    </tr>\n",
       "    <tr>\n",
       "      <th>max</th>\n",
       "      <td>100.000000</td>\n",
       "      <td>561.000000</td>\n",
       "      <td>8.584000e+08</td>\n",
       "    </tr>\n",
       "  </tbody>\n",
       "</table>\n",
       "</div>"
      ],
      "text/plain": [
       "       audienceScore  runtimeMinutes     boxOffice\n",
       "count  162758.000000   162758.000000  1.627580e+05\n",
       "mean       65.062565      106.992019  4.160983e+07\n",
       "std        19.844000       22.203778  7.932291e+07\n",
       "min         0.000000        4.000000  0.000000e+00\n",
       "25%        51.000000       93.000000  2.000000e+06\n",
       "50%        68.000000      104.000000  1.430000e+07\n",
       "75%        81.000000      118.000000  4.200000e+07\n",
       "max       100.000000      561.000000  8.584000e+08"
      ]
     },
     "execution_count": 46,
     "metadata": {},
     "output_type": "execute_result"
    }
   ],
   "source": [
    "merged[['audienceScore', 'runtimeMinutes', 'boxOffice']].describe()"
   ]
  },
  {
   "cell_type": "markdown",
   "id": "126b1974",
   "metadata": {
    "papermill": {
     "duration": 0.106809,
     "end_time": "2023-08-22T19:19:39.047788",
     "exception": false,
     "start_time": "2023-08-22T19:19:38.940979",
     "status": "completed"
    },
    "tags": []
   },
   "source": [
    "### EDA audienceScore  "
   ]
  },
  {
   "cell_type": "code",
   "execution_count": 47,
   "id": "dcff6e74",
   "metadata": {
    "execution": {
     "iopub.execute_input": "2023-08-22T19:19:39.268823Z",
     "iopub.status.busy": "2023-08-22T19:19:39.267890Z",
     "iopub.status.idle": "2023-08-22T19:19:39.635643Z",
     "shell.execute_reply": "2023-08-22T19:19:39.634311Z"
    },
    "papermill": {
     "duration": 0.485116,
     "end_time": "2023-08-22T19:19:39.638568",
     "exception": false,
     "start_time": "2023-08-22T19:19:39.153452",
     "status": "completed"
    },
    "tags": []
   },
   "outputs": [
    {
     "data": {
      "text/plain": [
       "<Axes: xlabel='sentiment', ylabel='audienceScore'>"
      ]
     },
     "execution_count": 47,
     "metadata": {},
     "output_type": "execute_result"
    },
    {
     "data": {
      "image/png": "[encoded data removed]",
      "text/plain": [
       "<Figure size 640x480 with 1 Axes>"
      ]
     },
     "metadata": {},
     "output_type": "display_data"
    }
   ],
   "source": [
    "sns.boxplot(y=merged[\"audienceScore\"], x=merged[\"sentiment\"])"
   ]
  },
  {
   "cell_type": "code",
   "execution_count": 48,
   "id": "96ac357b",
   "metadata": {
    "execution": {
     "iopub.execute_input": "2023-08-22T19:19:39.859707Z",
     "iopub.status.busy": "2023-08-22T19:19:39.858449Z",
     "iopub.status.idle": "2023-08-22T19:19:39.915711Z",
     "shell.execute_reply": "2023-08-22T19:19:39.914387Z"
    },
    "papermill": {
     "duration": 0.170793,
     "end_time": "2023-08-22T19:19:39.918414",
     "exception": false,
     "start_time": "2023-08-22T19:19:39.747621",
     "status": "completed"
    },
    "tags": []
   },
   "outputs": [
    {
     "data": {
      "text/html": [
       "<div>\n",
       "<style scoped>\n",
       "    .dataframe tbody tr th:only-of-type {\n",
       "        vertical-align: middle;\n",
       "    }\n",
       "\n",
       "    .dataframe tbody tr th {\n",
       "        vertical-align: top;\n",
       "    }\n",
       "\n",
       "    .dataframe thead th {\n",
       "        text-align: right;\n",
       "    }\n",
       "</style>\n",
       "<table border=\"1\" class=\"dataframe\">\n",
       "  <thead>\n",
       "    <tr style=\"text-align: right;\">\n",
       "      <th></th>\n",
       "      <th>count</th>\n",
       "      <th>mean</th>\n",
       "      <th>std</th>\n",
       "      <th>min</th>\n",
       "      <th>25%</th>\n",
       "      <th>50%</th>\n",
       "      <th>75%</th>\n",
       "      <th>max</th>\n",
       "    </tr>\n",
       "    <tr>\n",
       "      <th>sentiment</th>\n",
       "      <th></th>\n",
       "      <th></th>\n",
       "      <th></th>\n",
       "      <th></th>\n",
       "      <th></th>\n",
       "      <th></th>\n",
       "      <th></th>\n",
       "      <th></th>\n",
       "    </tr>\n",
       "  </thead>\n",
       "  <tbody>\n",
       "    <tr>\n",
       "      <th>NEGATIVE</th>\n",
       "      <td>53997.0</td>\n",
       "      <td>56.474786</td>\n",
       "      <td>19.902115</td>\n",
       "      <td>0.0</td>\n",
       "      <td>41.0</td>\n",
       "      <td>57.0</td>\n",
       "      <td>72.0</td>\n",
       "      <td>100.0</td>\n",
       "    </tr>\n",
       "    <tr>\n",
       "      <th>POSITIVE</th>\n",
       "      <td>108761.0</td>\n",
       "      <td>69.326174</td>\n",
       "      <td>18.380626</td>\n",
       "      <td>0.0</td>\n",
       "      <td>58.0</td>\n",
       "      <td>73.0</td>\n",
       "      <td>84.0</td>\n",
       "      <td>100.0</td>\n",
       "    </tr>\n",
       "  </tbody>\n",
       "</table>\n",
       "</div>"
      ],
      "text/plain": [
       "              count       mean        std  min   25%   50%   75%    max\n",
       "sentiment                                                              \n",
       "NEGATIVE    53997.0  56.474786  19.902115  0.0  41.0  57.0  72.0  100.0\n",
       "POSITIVE   108761.0  69.326174  18.380626  0.0  58.0  73.0  84.0  100.0"
      ]
     },
     "execution_count": 48,
     "metadata": {},
     "output_type": "execute_result"
    }
   ],
   "source": [
    "merged.groupby('sentiment')['audienceScore'].describe()"
   ]
  },
  {
   "cell_type": "code",
   "execution_count": 49,
   "id": "9058a463",
   "metadata": {
    "execution": {
     "iopub.execute_input": "2023-08-22T19:19:40.146712Z",
     "iopub.status.busy": "2023-08-22T19:19:40.146302Z",
     "iopub.status.idle": "2023-08-22T19:19:40.218841Z",
     "shell.execute_reply": "2023-08-22T19:19:40.217468Z"
    },
    "papermill": {
     "duration": 0.189024,
     "end_time": "2023-08-22T19:19:40.222030",
     "exception": false,
     "start_time": "2023-08-22T19:19:40.033006",
     "status": "completed"
    },
    "tags": []
   },
   "outputs": [
    {
     "data": {
      "text/plain": [
       "(162758, 26)"
      ]
     },
     "execution_count": 49,
     "metadata": {},
     "output_type": "execute_result"
    }
   ],
   "source": [
    "merged.loc[merged['audienceScore'] >= 0].shape"
   ]
  },
  {
   "cell_type": "markdown",
   "id": "5f59847d",
   "metadata": {
    "papermill": {
     "duration": 0.106699,
     "end_time": "2023-08-22T19:19:40.436370",
     "exception": false,
     "start_time": "2023-08-22T19:19:40.329671",
     "status": "completed"
    },
    "tags": []
   },
   "source": [
    "### EDA releaseDiff  "
   ]
  },
  {
   "cell_type": "code",
   "execution_count": 50,
   "id": "f5ac529a",
   "metadata": {
    "execution": {
     "iopub.execute_input": "2023-08-22T19:19:40.658898Z",
     "iopub.status.busy": "2023-08-22T19:19:40.658267Z",
     "iopub.status.idle": "2023-08-22T19:19:40.677120Z",
     "shell.execute_reply": "2023-08-22T19:19:40.675790Z"
    },
    "papermill": {
     "duration": 0.132594,
     "end_time": "2023-08-22T19:19:40.679963",
     "exception": false,
     "start_time": "2023-08-22T19:19:40.547369",
     "status": "completed"
    },
    "tags": []
   },
   "outputs": [
    {
     "data": {
      "text/plain": [
       "count    162758.000000\n",
       "mean       1653.469015\n",
       "std        4581.420922\n",
       "min           0.000000\n",
       "25%          65.000000\n",
       "50%         116.000000\n",
       "75%         375.000000\n",
       "max       38922.000000\n",
       "Name: releaseDiff, dtype: float64"
      ]
     },
     "execution_count": 50,
     "metadata": {},
     "output_type": "execute_result"
    }
   ],
   "source": [
    "# abs values\n",
    "merged[\"releaseDiff\"].describe()"
   ]
  },
  {
   "cell_type": "code",
   "execution_count": 51,
   "id": "1f457b49",
   "metadata": {
    "execution": {
     "iopub.execute_input": "2023-08-22T19:19:40.906501Z",
     "iopub.status.busy": "2023-08-22T19:19:40.905833Z",
     "iopub.status.idle": "2023-08-22T19:19:40.910140Z",
     "shell.execute_reply": "2023-08-22T19:19:40.909392Z"
    },
    "papermill": {
     "duration": 0.119173,
     "end_time": "2023-08-22T19:19:40.912694",
     "exception": false,
     "start_time": "2023-08-22T19:19:40.793521",
     "status": "completed"
    },
    "tags": []
   },
   "outputs": [],
   "source": [
    "# merged['releaseDiffBins'].value_counts()"
   ]
  },
  {
   "cell_type": "code",
   "execution_count": 52,
   "id": "bd96fed7",
   "metadata": {
    "execution": {
     "iopub.execute_input": "2023-08-22T19:19:41.132582Z",
     "iopub.status.busy": "2023-08-22T19:19:41.131469Z",
     "iopub.status.idle": "2023-08-22T19:19:41.462140Z",
     "shell.execute_reply": "2023-08-22T19:19:41.460994Z"
    },
    "papermill": {
     "duration": 0.441684,
     "end_time": "2023-08-22T19:19:41.464657",
     "exception": false,
     "start_time": "2023-08-22T19:19:41.022973",
     "status": "completed"
    },
    "tags": []
   },
   "outputs": [
    {
     "data": {
      "text/plain": [
       "<Axes: xlabel='sentiment', ylabel='releaseDiff'>"
      ]
     },
     "execution_count": 52,
     "metadata": {},
     "output_type": "execute_result"
    },
    {
     "data": {
      "image/png": "[encoded data removed]",
      "text/plain": [
       "<Figure size 640x480 with 1 Axes>"
      ]
     },
     "metadata": {},
     "output_type": "display_data"
    }
   ],
   "source": [
    "sns.boxplot(x=merged['sentiment'], y=merged['releaseDiff'], showfliers=False)"
   ]
  },
  {
   "cell_type": "code",
   "execution_count": 53,
   "id": "0aefd12a",
   "metadata": {
    "execution": {
     "iopub.execute_input": "2023-08-22T19:19:41.691432Z",
     "iopub.status.busy": "2023-08-22T19:19:41.690708Z",
     "iopub.status.idle": "2023-08-22T19:19:41.694801Z",
     "shell.execute_reply": "2023-08-22T19:19:41.693990Z"
    },
    "papermill": {
     "duration": 0.119369,
     "end_time": "2023-08-22T19:19:41.697105",
     "exception": false,
     "start_time": "2023-08-22T19:19:41.577736",
     "status": "completed"
    },
    "tags": []
   },
   "outputs": [],
   "source": [
    "# sns.displot(merged['releaseDiffBins'])"
   ]
  },
  {
   "cell_type": "code",
   "execution_count": 54,
   "id": "bc07e5d1",
   "metadata": {
    "execution": {
     "iopub.execute_input": "2023-08-22T19:19:41.927277Z",
     "iopub.status.busy": "2023-08-22T19:19:41.926559Z",
     "iopub.status.idle": "2023-08-22T19:19:41.930736Z",
     "shell.execute_reply": "2023-08-22T19:19:41.929703Z"
    },
    "papermill": {
     "duration": 0.121828,
     "end_time": "2023-08-22T19:19:41.933196",
     "exception": false,
     "start_time": "2023-08-22T19:19:41.811368",
     "status": "completed"
    },
    "tags": []
   },
   "outputs": [],
   "source": [
    "# merged['sentiment'].loc[merged['releaseDiffBins'] > 0].value_counts()"
   ]
  },
  {
   "cell_type": "code",
   "execution_count": 55,
   "id": "8c279063",
   "metadata": {
    "execution": {
     "iopub.execute_input": "2023-08-22T19:19:42.159293Z",
     "iopub.status.busy": "2023-08-22T19:19:42.158651Z",
     "iopub.status.idle": "2023-08-22T19:19:42.162557Z",
     "shell.execute_reply": "2023-08-22T19:19:42.161749Z"
    },
    "papermill": {
     "duration": 0.119303,
     "end_time": "2023-08-22T19:19:42.164842",
     "exception": false,
     "start_time": "2023-08-22T19:19:42.045539",
     "status": "completed"
    },
    "tags": []
   },
   "outputs": [],
   "source": [
    "# merged['releaseDiffBins'].describe()"
   ]
  },
  {
   "cell_type": "markdown",
   "id": "c6f5013b",
   "metadata": {
    "papermill": {
     "duration": 0.110096,
     "end_time": "2023-08-22T19:19:42.386734",
     "exception": false,
     "start_time": "2023-08-22T19:19:42.276638",
     "status": "completed"
    },
    "tags": []
   },
   "source": [
    "### EDA 'distributor'  "
   ]
  },
  {
   "cell_type": "code",
   "execution_count": 56,
   "id": "be52f618",
   "metadata": {
    "execution": {
     "iopub.execute_input": "2023-08-22T19:19:42.611706Z",
     "iopub.status.busy": "2023-08-22T19:19:42.611021Z",
     "iopub.status.idle": "2023-08-22T19:19:42.645936Z",
     "shell.execute_reply": "2023-08-22T19:19:42.644959Z"
    },
    "papermill": {
     "duration": 0.150185,
     "end_time": "2023-08-22T19:19:42.648187",
     "exception": false,
     "start_time": "2023-08-22T19:19:42.498002",
     "status": "completed"
    },
    "tags": []
   },
   "outputs": [
    {
     "data": {
      "text/plain": [
       "unknown                              20489\n",
       "Universal Pictures                    8847\n",
       "Warner Bros. Pictures                 8722\n",
       "Paramount Pictures                    7773\n",
       "20th Century Fox                      7007\n",
       "                                     ...  \n",
       "Almi Pictures                            1\n",
       "Koch Lorber                              1\n",
       "Magic Lamp                               1\n",
       "Fine Line Features, Miramax Films        1\n",
       "American Film Co.                        1\n",
       "Name: distributor, Length: 1796, dtype: int64"
      ]
     },
     "execution_count": 56,
     "metadata": {},
     "output_type": "execute_result"
    }
   ],
   "source": [
    "merged[\"distributor\"].value_counts()"
   ]
  },
  {
   "cell_type": "code",
   "execution_count": 57,
   "id": "1288f83a",
   "metadata": {
    "execution": {
     "iopub.execute_input": "2023-08-22T19:19:42.875525Z",
     "iopub.status.busy": "2023-08-22T19:19:42.874858Z",
     "iopub.status.idle": "2023-08-22T19:19:42.891394Z",
     "shell.execute_reply": "2023-08-22T19:19:42.890545Z"
    },
    "papermill": {
     "duration": 0.132476,
     "end_time": "2023-08-22T19:19:42.893574",
     "exception": false,
     "start_time": "2023-08-22T19:19:42.761098",
     "status": "completed"
    },
    "tags": []
   },
   "outputs": [
    {
     "data": {
      "text/plain": [
       "count    162758.000000\n",
       "mean        106.992019\n",
       "std          22.203778\n",
       "min           4.000000\n",
       "25%          93.000000\n",
       "50%         104.000000\n",
       "75%         118.000000\n",
       "max         561.000000\n",
       "Name: runtimeMinutes, dtype: float64"
      ]
     },
     "execution_count": 57,
     "metadata": {},
     "output_type": "execute_result"
    }
   ],
   "source": [
    "merged[\"runtimeMinutes\"].describe()"
   ]
  },
  {
   "cell_type": "code",
   "execution_count": 58,
   "id": "eb66ff4a",
   "metadata": {
    "execution": {
     "iopub.execute_input": "2023-08-22T19:19:43.119402Z",
     "iopub.status.busy": "2023-08-22T19:19:43.118705Z",
     "iopub.status.idle": "2023-08-22T19:19:43.473228Z",
     "shell.execute_reply": "2023-08-22T19:19:43.472033Z"
    },
    "papermill": {
     "duration": 0.470182,
     "end_time": "2023-08-22T19:19:43.476161",
     "exception": false,
     "start_time": "2023-08-22T19:19:43.005979",
     "status": "completed"
    },
    "tags": []
   },
   "outputs": [
    {
     "data": {
      "text/plain": [
       "<Axes: xlabel='sentiment', ylabel='runtimeMinutes'>"
      ]
     },
     "execution_count": 58,
     "metadata": {},
     "output_type": "execute_result"
    },
    {
     "data": {
      "image/png": "[encoded data removed]",
      "text/plain": [
       "<Figure size 640x480 with 1 Axes>"
      ]
     },
     "metadata": {},
     "output_type": "display_data"
    }
   ],
   "source": [
    "sns.boxplot(y=merged[\"runtimeMinutes\"], x=merged[\"sentiment\"])"
   ]
  },
  {
   "cell_type": "code",
   "execution_count": 59,
   "id": "f1d222d9",
   "metadata": {
    "execution": {
     "iopub.execute_input": "2023-08-22T19:19:43.701562Z",
     "iopub.status.busy": "2023-08-22T19:19:43.700466Z",
     "iopub.status.idle": "2023-08-22T19:19:43.705537Z",
     "shell.execute_reply": "2023-08-22T19:19:43.704561Z"
    },
    "papermill": {
     "duration": 0.119706,
     "end_time": "2023-08-22T19:19:43.707767",
     "exception": false,
     "start_time": "2023-08-22T19:19:43.588061",
     "status": "completed"
    },
    "tags": []
   },
   "outputs": [],
   "source": [
    "# print(merged[\"boxOfficeBins\"].value_counts())\n",
    "# sns.displot(merged[\"boxOfficeBins\"])"
   ]
  },
  {
   "cell_type": "code",
   "execution_count": 60,
   "id": "b792490b",
   "metadata": {
    "execution": {
     "iopub.execute_input": "2023-08-22T19:19:43.928595Z",
     "iopub.status.busy": "2023-08-22T19:19:43.927916Z",
     "iopub.status.idle": "2023-08-22T19:19:43.936816Z",
     "shell.execute_reply": "2023-08-22T19:19:43.935935Z"
    },
    "papermill": {
     "duration": 0.122037,
     "end_time": "2023-08-22T19:19:43.939065",
     "exception": false,
     "start_time": "2023-08-22T19:19:43.817028",
     "status": "completed"
    },
    "tags": []
   },
   "outputs": [
    {
     "data": {
      "text/plain": [
       "0    Henry Selick’s first movie since ’s Coraline. ...\n",
       "1    With a cast that reads like the Vogue Oscar pa...\n",
       "2    Creed II does not give us anything but another...\n",
       "3    I know what you're thinking, but this is no Li...\n",
       "4    Director Fernando Meirelles tells the story wi...\n",
       "Name: reviewText, dtype: object"
      ]
     },
     "execution_count": 60,
     "metadata": {},
     "output_type": "execute_result"
    }
   ],
   "source": [
    "merged[\"reviewText\"].head()"
   ]
  },
  {
   "cell_type": "code",
   "execution_count": 61,
   "id": "1c13d638",
   "metadata": {
    "execution": {
     "iopub.execute_input": "2023-08-22T19:19:44.163722Z",
     "iopub.status.busy": "2023-08-22T19:19:44.163312Z",
     "iopub.status.idle": "2023-08-22T19:19:44.171119Z",
     "shell.execute_reply": "2023-08-22T19:19:44.170067Z"
    },
    "papermill": {
     "duration": 0.12222,
     "end_time": "2023-08-22T19:19:44.173317",
     "exception": false,
     "start_time": "2023-08-22T19:19:44.051097",
     "status": "completed"
    },
    "tags": []
   },
   "outputs": [
    {
     "data": {
      "text/plain": [
       "6447"
      ]
     },
     "execution_count": 61,
     "metadata": {},
     "output_type": "execute_result"
    }
   ],
   "source": [
    "merged[\"reviewYN\"].sum()"
   ]
  },
  {
   "cell_type": "code",
   "execution_count": 62,
   "id": "fe6c2a23",
   "metadata": {
    "execution": {
     "iopub.execute_input": "2023-08-22T19:19:44.399466Z",
     "iopub.status.busy": "2023-08-22T19:19:44.398990Z",
     "iopub.status.idle": "2023-08-22T19:19:44.407766Z",
     "shell.execute_reply": "2023-08-22T19:19:44.406505Z"
    },
    "papermill": {
     "duration": 0.127263,
     "end_time": "2023-08-22T19:19:44.410433",
     "exception": false,
     "start_time": "2023-08-22T19:19:44.283170",
     "status": "completed"
    },
    "tags": []
   },
   "outputs": [
    {
     "data": {
      "text/plain": [
       "0    11\n",
       "1    24\n",
       "2    22\n",
       "3    34\n",
       "4    20\n",
       "Name: reviewWC, dtype: int64"
      ]
     },
     "execution_count": 62,
     "metadata": {},
     "output_type": "execute_result"
    }
   ],
   "source": [
    "merged[\"reviewWC\"].head()"
   ]
  },
  {
   "cell_type": "code",
   "execution_count": 63,
   "id": "034d5fd4",
   "metadata": {
    "execution": {
     "iopub.execute_input": "2023-08-22T19:19:44.640436Z",
     "iopub.status.busy": "2023-08-22T19:19:44.639979Z",
     "iopub.status.idle": "2023-08-22T19:19:44.658561Z",
     "shell.execute_reply": "2023-08-22T19:19:44.657377Z"
    },
    "papermill": {
     "duration": 0.137766,
     "end_time": "2023-08-22T19:19:44.661520",
     "exception": false,
     "start_time": "2023-08-22T19:19:44.523754",
     "status": "completed"
    },
    "tags": []
   },
   "outputs": [
    {
     "data": {
      "text/plain": [
       "count    162758.000000\n",
       "mean         21.013707\n",
       "std          10.216532\n",
       "min           1.000000\n",
       "25%          14.000000\n",
       "50%          21.000000\n",
       "75%          28.000000\n",
       "max          54.000000\n",
       "Name: reviewWC, dtype: float64"
      ]
     },
     "execution_count": 63,
     "metadata": {},
     "output_type": "execute_result"
    }
   ],
   "source": [
    "merged[\"reviewWC\"].describe()"
   ]
  },
  {
   "cell_type": "code",
   "execution_count": 64,
   "id": "48f6ed00",
   "metadata": {
    "execution": {
     "iopub.execute_input": "2023-08-22T19:19:44.888927Z",
     "iopub.status.busy": "2023-08-22T19:19:44.888527Z",
     "iopub.status.idle": "2023-08-22T19:19:45.556875Z",
     "shell.execute_reply": "2023-08-22T19:19:45.555323Z"
    },
    "papermill": {
     "duration": 0.786212,
     "end_time": "2023-08-22T19:19:45.559567",
     "exception": false,
     "start_time": "2023-08-22T19:19:44.773355",
     "status": "completed"
    },
    "tags": []
   },
   "outputs": [
    {
     "data": {
      "text/plain": [
       "<Axes: xlabel='reviewWC', ylabel='Count'>"
      ]
     },
     "execution_count": 64,
     "metadata": {},
     "output_type": "execute_result"
    },
    {
     "data": {
      "image/png": "[encoded data removed]",
      "text/plain": [
       "<Figure size 640x480 with 1 Axes>"
      ]
     },
     "metadata": {},
     "output_type": "display_data"
    }
   ],
   "source": [
    "sns.histplot(merged[\"reviewWC\"])"
   ]
  },
  {
   "cell_type": "code",
   "execution_count": 65,
   "id": "46239b44",
   "metadata": {
    "execution": {
     "iopub.execute_input": "2023-08-22T19:19:45.785407Z",
     "iopub.status.busy": "2023-08-22T19:19:45.784952Z",
     "iopub.status.idle": "2023-08-22T19:19:45.818219Z",
     "shell.execute_reply": "2023-08-22T19:19:45.817042Z"
    },
    "papermill": {
     "duration": 0.149921,
     "end_time": "2023-08-22T19:19:45.820717",
     "exception": false,
     "start_time": "2023-08-22T19:19:45.670796",
     "status": "completed"
    },
    "tags": []
   },
   "outputs": [
    {
     "data": {
      "text/plain": [
       "R          60248\n",
       "unknown    44587\n",
       "PG-13      42697\n",
       "PG         13669\n",
       "TV14         947\n",
       "NC-17        285\n",
       "TVPG         281\n",
       "TVMA          44\n",
       "Name: rating, dtype: int64"
      ]
     },
     "execution_count": 65,
     "metadata": {},
     "output_type": "execute_result"
    }
   ],
   "source": [
    "merged['rating'].value_counts()"
   ]
  },
  {
   "cell_type": "code",
   "execution_count": 66,
   "id": "88212bf1",
   "metadata": {
    "execution": {
     "iopub.execute_input": "2023-08-22T19:19:46.047744Z",
     "iopub.status.busy": "2023-08-22T19:19:46.047304Z",
     "iopub.status.idle": "2023-08-22T19:19:46.058522Z",
     "shell.execute_reply": "2023-08-22T19:19:46.057166Z"
    },
    "papermill": {
     "duration": 0.12825,
     "end_time": "2023-08-22T19:19:46.060869",
     "exception": false,
     "start_time": "2023-08-22T19:19:45.932619",
     "status": "completed"
    },
    "tags": []
   },
   "outputs": [
    {
     "data": {
      "text/plain": [
       "False    113189\n",
       "True      49569\n",
       "Name: isFrequentReviewer, dtype: int64"
      ]
     },
     "execution_count": 66,
     "metadata": {},
     "output_type": "execute_result"
    }
   ],
   "source": [
    "merged['isFrequentReviewer'].value_counts()"
   ]
  },
  {
   "cell_type": "code",
   "execution_count": 67,
   "id": "1e3f3919",
   "metadata": {
    "execution": {
     "iopub.execute_input": "2023-08-22T19:19:46.285779Z",
     "iopub.status.busy": "2023-08-22T19:19:46.285380Z",
     "iopub.status.idle": "2023-08-22T19:19:46.294842Z",
     "shell.execute_reply": "2023-08-22T19:19:46.293520Z"
    },
    "papermill": {
     "duration": 0.12419,
     "end_time": "2023-08-22T19:19:46.297613",
     "exception": false,
     "start_time": "2023-08-22T19:19:46.173423",
     "status": "completed"
    },
    "tags": []
   },
   "outputs": [
    {
     "data": {
      "text/plain": [
       "0      Benjamin Henry\n",
       "1       Felicia Lopez\n",
       "2     Charles Burgess\n",
       "3        Ryan Barrett\n",
       "4    Alexander Glover\n",
       "Name: reviewerName, dtype: object"
      ]
     },
     "execution_count": 67,
     "metadata": {},
     "output_type": "execute_result"
    }
   ],
   "source": [
    "merged[\"reviewerName\"].head()"
   ]
  },
  {
   "cell_type": "code",
   "execution_count": 68,
   "id": "d07d5405",
   "metadata": {
    "execution": {
     "iopub.execute_input": "2023-08-22T19:19:46.526432Z",
     "iopub.status.busy": "2023-08-22T19:19:46.525984Z",
     "iopub.status.idle": "2023-08-22T19:19:46.542434Z",
     "shell.execute_reply": "2023-08-22T19:19:46.541134Z"
    },
    "papermill": {
     "duration": 0.133261,
     "end_time": "2023-08-22T19:19:46.545064",
     "exception": false,
     "start_time": "2023-08-22T19:19:46.411803",
     "status": "completed"
    },
    "tags": []
   },
   "outputs": [
    {
     "data": {
      "text/plain": [
       "14300000.0    32327\n",
       "2000000.0       922\n",
       "1100000.0       891\n",
       "1000000.0       834\n",
       "1200000.0       802\n",
       "              ...  \n",
       "58500.0           1\n",
       "500800.0          1\n",
       "265600.0          1\n",
       "292500.0          1\n",
       "799400.0          1\n",
       "Name: boxOffice, Length: 3819, dtype: int64"
      ]
     },
     "execution_count": 68,
     "metadata": {},
     "output_type": "execute_result"
    }
   ],
   "source": [
    "merged['boxOffice'].value_counts()"
   ]
  },
  {
   "cell_type": "code",
   "execution_count": 69,
   "id": "64848c32",
   "metadata": {
    "execution": {
     "iopub.execute_input": "2023-08-22T19:19:46.770739Z",
     "iopub.status.busy": "2023-08-22T19:19:46.770347Z",
     "iopub.status.idle": "2023-08-22T19:19:46.776184Z",
     "shell.execute_reply": "2023-08-22T19:19:46.774990Z"
    },
    "papermill": {
     "duration": 0.121241,
     "end_time": "2023-08-22T19:19:46.778516",
     "exception": false,
     "start_time": "2023-08-22T19:19:46.657275",
     "status": "completed"
    },
    "tags": []
   },
   "outputs": [],
   "source": [
    "# Check correlation between 'boxOffice' and ''sentiment'\n",
    "# bo_df = merged.copy()\n",
    "# print(bo_df[\"boxOffice\"])\n",
    "# bo_df[\"boxOffice\"] = bo_df[\"boxOffice\"].str[1:]\n",
    "# bo_df[\"boxOffice\"] = bo_df[\"boxOffice\"].replace(to_replace={\"M\": \"*1000000\", \"K\": \"*1000\"}, regex=True)\n",
    "# bo_df[\"boxOffice\"] = bo_df[\"boxOffice\"].loc[bo_df[\"boxOffice\"].notnull()].apply(lambda x: eval(str(x)))\n",
    "# bo_df[\"boxOffice\"] = bo_df[\"boxOffice\"].fillna(bo_df[\"boxOffice\"].median())\n",
    "# bo_df[\"boxOffice\"].describe()"
   ]
  },
  {
   "cell_type": "code",
   "execution_count": 70,
   "id": "e69aea86",
   "metadata": {
    "execution": {
     "iopub.execute_input": "2023-08-22T19:19:47.074839Z",
     "iopub.status.busy": "2023-08-22T19:19:47.074375Z",
     "iopub.status.idle": "2023-08-22T19:19:47.079130Z",
     "shell.execute_reply": "2023-08-22T19:19:47.078004Z"
    },
    "papermill": {
     "duration": 0.190714,
     "end_time": "2023-08-22T19:19:47.081577",
     "exception": false,
     "start_time": "2023-08-22T19:19:46.890863",
     "status": "completed"
    },
    "tags": []
   },
   "outputs": [],
   "source": [
    "# median = bo_df[\"boxOffice\"].describe()['50%']\n",
    "# iqr = bo_df[\"boxOffice\"].describe()['75%'] - bo_df[\"boxOffice\"].describe()['25%']\n",
    "# median, iqr"
   ]
  },
  {
   "cell_type": "code",
   "execution_count": 71,
   "id": "6e84dfa7",
   "metadata": {
    "execution": {
     "iopub.execute_input": "2023-08-22T19:19:47.308312Z",
     "iopub.status.busy": "2023-08-22T19:19:47.307833Z",
     "iopub.status.idle": "2023-08-22T19:19:47.312604Z",
     "shell.execute_reply": "2023-08-22T19:19:47.311661Z"
    },
    "papermill": {
     "duration": 0.120031,
     "end_time": "2023-08-22T19:19:47.314690",
     "exception": false,
     "start_time": "2023-08-22T19:19:47.194659",
     "status": "completed"
    },
    "tags": []
   },
   "outputs": [],
   "source": [
    "# ll = median - (1.5*iqr)\n",
    "# ul = median + (1.5*iqr)\n",
    "# ll, ul"
   ]
  },
  {
   "cell_type": "code",
   "execution_count": 72,
   "id": "37b01bdd",
   "metadata": {
    "execution": {
     "iopub.execute_input": "2023-08-22T19:19:47.553480Z",
     "iopub.status.busy": "2023-08-22T19:19:47.553059Z",
     "iopub.status.idle": "2023-08-22T19:19:47.557185Z",
     "shell.execute_reply": "2023-08-22T19:19:47.556449Z"
    },
    "papermill": {
     "duration": 0.128819,
     "end_time": "2023-08-22T19:19:47.559268",
     "exception": false,
     "start_time": "2023-08-22T19:19:47.430449",
     "status": "completed"
    },
    "tags": []
   },
   "outputs": [],
   "source": [
    "# bo_df[\"boxOffice\"].mean()"
   ]
  },
  {
   "cell_type": "code",
   "execution_count": 73,
   "id": "ebfbc317",
   "metadata": {
    "execution": {
     "iopub.execute_input": "2023-08-22T19:19:47.801236Z",
     "iopub.status.busy": "2023-08-22T19:19:47.799957Z",
     "iopub.status.idle": "2023-08-22T19:19:47.804699Z",
     "shell.execute_reply": "2023-08-22T19:19:47.803658Z"
    },
    "papermill": {
     "duration": 0.132064,
     "end_time": "2023-08-22T19:19:47.807040",
     "exception": false,
     "start_time": "2023-08-22T19:19:47.674976",
     "status": "completed"
    },
    "tags": []
   },
   "outputs": [],
   "source": [
    "# bo_df.loc[bo_df[\"boxOffice\"] > ul, \"boxOffice\"] = median\n",
    "# bo_df[\"boxOffice\"].mean()"
   ]
  },
  {
   "cell_type": "code",
   "execution_count": 74,
   "id": "0222570e",
   "metadata": {
    "execution": {
     "iopub.execute_input": "2023-08-22T19:19:48.040783Z",
     "iopub.status.busy": "2023-08-22T19:19:48.040373Z",
     "iopub.status.idle": "2023-08-22T19:19:48.045227Z",
     "shell.execute_reply": "2023-08-22T19:19:48.044167Z"
    },
    "papermill": {
     "duration": 0.124531,
     "end_time": "2023-08-22T19:19:48.047591",
     "exception": false,
     "start_time": "2023-08-22T19:19:47.923060",
     "status": "completed"
    },
    "tags": []
   },
   "outputs": [],
   "source": [
    "# bo_df[\"boxOffice\"].min(), bo_df[\"boxOffice\"].max()"
   ]
  },
  {
   "cell_type": "code",
   "execution_count": 75,
   "id": "8899d784",
   "metadata": {
    "execution": {
     "iopub.execute_input": "2023-08-22T19:19:48.277347Z",
     "iopub.status.busy": "2023-08-22T19:19:48.276900Z",
     "iopub.status.idle": "2023-08-22T19:19:48.281716Z",
     "shell.execute_reply": "2023-08-22T19:19:48.280679Z"
    },
    "papermill": {
     "duration": 0.121875,
     "end_time": "2023-08-22T19:19:48.283921",
     "exception": false,
     "start_time": "2023-08-22T19:19:48.162046",
     "status": "completed"
    },
    "tags": []
   },
   "outputs": [],
   "source": [
    "# sns.boxplot(x=\"sentiment\", y=\"boxOffice\", data=bo_df, showfliers = False)"
   ]
  },
  {
   "cell_type": "markdown",
   "id": "94ad1ef7",
   "metadata": {
    "papermill": {
     "duration": 0.113043,
     "end_time": "2023-08-22T19:19:48.510398",
     "exception": false,
     "start_time": "2023-08-22T19:19:48.397355",
     "status": "completed"
    },
    "tags": []
   },
   "source": [
    "## EDA  "
   ]
  },
  {
   "cell_type": "markdown",
   "id": "5c50af3b",
   "metadata": {
    "papermill": {
     "duration": 0.113329,
     "end_time": "2023-08-22T19:19:48.738689",
     "exception": false,
     "start_time": "2023-08-22T19:19:48.625360",
     "status": "completed"
    },
    "tags": []
   },
   "source": [
    "### An interesting finding through exploration  \n",
    "  \n",
    "* OHE and TfidfVectorizer on director column give the same result when ngram_range(2,2) is used (see code below)!"
   ]
  },
  {
   "cell_type": "code",
   "execution_count": 76,
   "id": "0e262920",
   "metadata": {
    "execution": {
     "iopub.execute_input": "2023-08-22T19:19:48.971448Z",
     "iopub.status.busy": "2023-08-22T19:19:48.970496Z",
     "iopub.status.idle": "2023-08-22T19:20:02.618916Z",
     "shell.execute_reply": "2023-08-22T19:20:02.617044Z"
    },
    "papermill": {
     "duration": 13.768109,
     "end_time": "2023-08-22T19:20:02.621632",
     "exception": false,
     "start_time": "2023-08-22T19:19:48.853523",
     "status": "completed"
    },
    "tags": []
   },
   "outputs": [
    {
     "name": "stdout",
     "output_type": "stream",
     "text": [
      "(162758,)\n",
      "9476\n",
      "(162758, 9476) <class 'numpy.ndarray'>\n",
      "(162758,)\n",
      "(162758, 9476) <class 'numpy.ndarray'>\n",
      "True\n"
     ]
    }
   ],
   "source": [
    "# Compare OHE and TfidfVectorizer on director column\n",
    "\n",
    "dirs = merged[\"director\"].copy()\n",
    "print(dirs.shape)\n",
    "dirs_uniq = merged[\"director\"].unique()\n",
    "print(len(dirs_uniq))\n",
    "\n",
    "du_ohe = OneHotEncoder(handle_unknown=\"ignore\", sparse_output=False).fit_transform(dirs.to_numpy().reshape(-1, 1))\n",
    "print(du_ohe.shape, type(du_ohe))\n",
    "\n",
    "dirs_2 = merged[\"director\"].copy()\n",
    "print(dirs_2.shape)\n",
    "du_tfidf = TfidfVectorizer(ngram_range=(2,2)).fit_transform(dirs_2).toarray()\n",
    "print(du_tfidf.shape, type(du_tfidf))\n",
    "\n",
    "print(np.array_equal(du_ohe, du_tfidf))"
   ]
  },
  {
   "cell_type": "code",
   "execution_count": 77,
   "id": "cba0571f",
   "metadata": {
    "execution": {
     "iopub.execute_input": "2023-08-22T19:20:02.848290Z",
     "iopub.status.busy": "2023-08-22T19:20:02.847884Z",
     "iopub.status.idle": "2023-08-22T19:20:03.206966Z",
     "shell.execute_reply": "2023-08-22T19:20:03.205826Z"
    },
    "papermill": {
     "duration": 0.476341,
     "end_time": "2023-08-22T19:20:03.209972",
     "exception": false,
     "start_time": "2023-08-22T19:20:02.733631",
     "status": "completed"
    },
    "tags": []
   },
   "outputs": [
    {
     "name": "stdout",
     "output_type": "stream",
     "text": [
      "0       Bennie Basso\n",
      "1         Alma White\n",
      "2       Bobby Oleary\n",
      "3    Eric Hutcherson\n",
      "4         John Trent\n",
      "Name: director, dtype: object\n"
     ]
    },
    {
     "data": {
      "text/plain": [
       "2    162758\n",
       "Name: director, dtype: int64"
      ]
     },
     "execution_count": 77,
     "metadata": {},
     "output_type": "execute_result"
    }
   ],
   "source": [
    "print(dirs.head())\n",
    "d = dirs.copy()\n",
    "d[\"name_len\"] = d.apply(lambda x: len(x.split()))\n",
    "d[\"name_len\"].value_counts()"
   ]
  },
  {
   "cell_type": "code",
   "execution_count": 78,
   "id": "d9144548",
   "metadata": {
    "execution": {
     "iopub.execute_input": "2023-08-22T19:20:03.451550Z",
     "iopub.status.busy": "2023-08-22T19:20:03.451082Z",
     "iopub.status.idle": "2023-08-22T19:20:03.458279Z",
     "shell.execute_reply": "2023-08-22T19:20:03.457139Z"
    },
    "papermill": {
     "duration": 0.130004,
     "end_time": "2023-08-22T19:20:03.460714",
     "exception": false,
     "start_time": "2023-08-22T19:20:03.330710",
     "status": "completed"
    },
    "tags": []
   },
   "outputs": [],
   "source": [
    "# Compare OHE and TfidfVectorizer on reviewerName column\n",
    "# Note: reviewerName column has salutations like \"Mr. \" etc, and some names appear middle names. Therefore needs cleaning\n",
    "\n",
    "# def name_fl(name):\n",
    "#     l = name.split()\n",
    "#     n = ' '.join((l[0], l[-1]))\n",
    "#     return n\n",
    "\n",
    "# reviewers = merged[\"reviewerName\"].copy()\n",
    "# reviewers = pd.DataFrame(reviewers)\n",
    "# reviewers = reviewers.replace({\"Mr. \": \"\", \"Mrs. \": \"\"}, regex=True)\n",
    "# reviewers[\"reviewerName\"] = reviewers[\"reviewerName\"].apply(name_fl)\n",
    "# print(reviewers.shape)\n",
    "\n",
    "# reviewers_uniq = merged[\"reviewerName\"].unique()\n",
    "# print(len(reviewers_uniq))\n",
    "\n",
    "# reviewers_ohe = OneHotEncoder(handle_unknown=\"ignore\", sparse_output=False).fit_transform(reviewers.to_numpy().reshape(-1, 1))\n",
    "# print(reviewers_ohe.shape, type(reviewers_ohe))\n",
    "\n",
    "# reviewers_2 = merged[\"reviewerName\"].copy()\n",
    "# reviewers_2 = pd.DataFrame(reviewers_2)\n",
    "# print(reviewers_2.head())\n",
    "# reviewers_2 = reviewers_2.replace({\"Mr. \": \"\", \"Mrs. \": \"\"}, regex=True)\n",
    "# reviewers_2[\"reviewerName\"] = reviewers_2[\"reviewerName\"].apply(name_fl)\n",
    "# reviewers_2 = reviewers_2.squeeze()\n",
    "# print(reviewers_2.shape)\n",
    "# print(reviewers_2.head())\n",
    "\n",
    "# reviewers_tfidf = TfidfVectorizer(ngram_range=(2,2)).fit_transform(reviewers_2).toarray()\n",
    "# print(reviewers_tfidf.shape, type(reviewers_tfidf))\n",
    "\n",
    "# print(np.array_equal(reviewers_ohe, reviewers_tfidf))"
   ]
  },
  {
   "cell_type": "code",
   "execution_count": 79,
   "id": "b2a137a3",
   "metadata": {
    "execution": {
     "iopub.execute_input": "2023-08-22T19:20:03.699208Z",
     "iopub.status.busy": "2023-08-22T19:20:03.698763Z",
     "iopub.status.idle": "2023-08-22T19:20:03.703734Z",
     "shell.execute_reply": "2023-08-22T19:20:03.702558Z"
    },
    "papermill": {
     "duration": 0.127101,
     "end_time": "2023-08-22T19:20:03.706334",
     "exception": false,
     "start_time": "2023-08-22T19:20:03.579233",
     "status": "completed"
    },
    "tags": []
   },
   "outputs": [],
   "source": [
    "# def name_fl(name):\n",
    "#     l = name.split()\n",
    "#     n = ' '.join((l[0], l[-1]))\n",
    "#     return n"
   ]
  },
  {
   "cell_type": "code",
   "execution_count": 80,
   "id": "cf1b47cc",
   "metadata": {
    "execution": {
     "iopub.execute_input": "2023-08-22T19:20:03.936203Z",
     "iopub.status.busy": "2023-08-22T19:20:03.935756Z",
     "iopub.status.idle": "2023-08-22T19:20:03.940794Z",
     "shell.execute_reply": "2023-08-22T19:20:03.939604Z"
    },
    "papermill": {
     "duration": 0.121398,
     "end_time": "2023-08-22T19:20:03.943343",
     "exception": false,
     "start_time": "2023-08-22T19:20:03.821945",
     "status": "completed"
    },
    "tags": []
   },
   "outputs": [],
   "source": [
    "# print(reviewers.head())\n",
    "# r = pd.DataFrame(reviewers.copy())\n",
    "# r[\"reviewerName\"] = r[\"reviewerName\"].apply(name_fl)\n",
    "# r[\"name_len\"] = r[\"reviewerName\"].apply(lambda x: len(x.split()))\n",
    "# print(r.shape)\n",
    "# print(r.head())\n",
    "# print(r['name_len'].value_counts())"
   ]
  },
  {
   "cell_type": "code",
   "execution_count": 81,
   "id": "109175e6",
   "metadata": {
    "execution": {
     "iopub.execute_input": "2023-08-22T19:20:04.173146Z",
     "iopub.status.busy": "2023-08-22T19:20:04.172628Z",
     "iopub.status.idle": "2023-08-22T19:20:04.178484Z",
     "shell.execute_reply": "2023-08-22T19:20:04.177117Z"
    },
    "papermill": {
     "duration": 0.12279,
     "end_time": "2023-08-22T19:20:04.181273",
     "exception": false,
     "start_time": "2023-08-22T19:20:04.058483",
     "status": "completed"
    },
    "tags": []
   },
   "outputs": [],
   "source": [
    "## Box plot audienceScore and sentiment  \n",
    "# plt.figure(figsize=(6, 4))\n",
    "# sns.boxplot(x=\"sentiment\", y=\"audienceScore\", data=merged, width=0.3)\n",
    "# plt.title(\"Box plot audienceScore and sentiment\")\n",
    "# plt.show()"
   ]
  },
  {
   "cell_type": "code",
   "execution_count": 82,
   "id": "2021fd67",
   "metadata": {
    "execution": {
     "iopub.execute_input": "2023-08-22T19:20:04.410216Z",
     "iopub.status.busy": "2023-08-22T19:20:04.409205Z",
     "iopub.status.idle": "2023-08-22T19:20:04.415048Z",
     "shell.execute_reply": "2023-08-22T19:20:04.413571Z"
    },
    "papermill": {
     "duration": 0.122068,
     "end_time": "2023-08-22T19:20:04.417802",
     "exception": false,
     "start_time": "2023-08-22T19:20:04.295734",
     "status": "completed"
    },
    "tags": []
   },
   "outputs": [],
   "source": [
    "## Box plot runtimeMinutes and sentiment  \n",
    "# plt.figure(figsize=(6, 4))\n",
    "# sns.boxplot(x=\"sentiment\", y=\"runtimeMinutes\", data=merged, width=0.3)\n",
    "# plt.title(\"Box plot runtimeMinutes and sentiment\")\n",
    "# plt.show()"
   ]
  },
  {
   "cell_type": "code",
   "execution_count": 83,
   "id": "dd339bfb",
   "metadata": {
    "execution": {
     "iopub.execute_input": "2023-08-22T19:20:04.650217Z",
     "iopub.status.busy": "2023-08-22T19:20:04.649772Z",
     "iopub.status.idle": "2023-08-22T19:20:04.654996Z",
     "shell.execute_reply": "2023-08-22T19:20:04.653702Z"
    },
    "papermill": {
     "duration": 0.12576,
     "end_time": "2023-08-22T19:20:04.657297",
     "exception": false,
     "start_time": "2023-08-22T19:20:04.531537",
     "status": "completed"
    },
    "tags": []
   },
   "outputs": [],
   "source": [
    "## Column chart for sentiment and rating columns\n",
    "# plt.figure(figsize=(6, 4))\n",
    "# sns.countplot(x=\"sentiment\", hue=\"rating\", data=merged)\n",
    "# plt.title(\"Column chart for sentiment and rating columns\")\n",
    "# plt.show()"
   ]
  },
  {
   "cell_type": "code",
   "execution_count": 84,
   "id": "ee88ac64",
   "metadata": {
    "execution": {
     "iopub.execute_input": "2023-08-22T19:20:04.986827Z",
     "iopub.status.busy": "2023-08-22T19:20:04.986402Z",
     "iopub.status.idle": "2023-08-22T19:20:04.991232Z",
     "shell.execute_reply": "2023-08-22T19:20:04.990191Z"
    },
    "papermill": {
     "duration": 0.223931,
     "end_time": "2023-08-22T19:20:04.993498",
     "exception": false,
     "start_time": "2023-08-22T19:20:04.769567",
     "status": "completed"
    },
    "tags": []
   },
   "outputs": [],
   "source": [
    "# Correlation heatmap  \n",
    "# plt.figure(figsize=(10, 8))\n",
    "# sns.heatmap(merged.corr(), annot=True, cmap=\"coolwarm\")\n",
    "# plt.title(\"Correlation heatmap\")\n",
    "# plt.show()"
   ]
  },
  {
   "cell_type": "markdown",
   "id": "800aefc1",
   "metadata": {
    "papermill": {
     "duration": 0.118468,
     "end_time": "2023-08-22T19:20:05.227628",
     "exception": false,
     "start_time": "2023-08-22T19:20:05.109160",
     "status": "completed"
    },
    "tags": []
   },
   "source": [
    "## Merge and preprocess \"test.csv\" and \"movies.csv\" files  "
   ]
  },
  {
   "cell_type": "code",
   "execution_count": 85,
   "id": "f3e1c097",
   "metadata": {
    "execution": {
     "iopub.execute_input": "2023-08-22T19:20:05.477897Z",
     "iopub.status.busy": "2023-08-22T19:20:05.477467Z",
     "iopub.status.idle": "2023-08-22T19:20:11.529030Z",
     "shell.execute_reply": "2023-08-22T19:20:11.527600Z"
    },
    "papermill": {
     "duration": 6.189614,
     "end_time": "2023-08-22T19:20:11.532232",
     "exception": false,
     "start_time": "2023-08-22T19:20:05.342618",
     "status": "completed"
    },
    "tags": []
   },
   "outputs": [],
   "source": [
    "# Merge test and movies  \n",
    "merged_test = select_features(load_csv(\"test\"), load_csv(\"movies\"))"
   ]
  },
  {
   "cell_type": "code",
   "execution_count": 86,
   "id": "4e8a57f9",
   "metadata": {
    "execution": {
     "iopub.execute_input": "2023-08-22T19:20:11.757926Z",
     "iopub.status.busy": "2023-08-22T19:20:11.757549Z",
     "iopub.status.idle": "2023-08-22T19:20:11.762857Z",
     "shell.execute_reply": "2023-08-22T19:20:11.761544Z"
    },
    "papermill": {
     "duration": 0.12009,
     "end_time": "2023-08-22T19:20:11.764978",
     "exception": false,
     "start_time": "2023-08-22T19:20:11.644888",
     "status": "completed"
    },
    "tags": []
   },
   "outputs": [],
   "source": [
    "# inspect(merged_test)      # Note the missing values in ['audienceScore', 'runtimeMinutes', 'boxOffice']"
   ]
  },
  {
   "cell_type": "code",
   "execution_count": 87,
   "id": "17c50c8c",
   "metadata": {
    "execution": {
     "iopub.execute_input": "2023-08-22T19:20:11.992970Z",
     "iopub.status.busy": "2023-08-22T19:20:11.992514Z",
     "iopub.status.idle": "2023-08-22T19:20:12.013498Z",
     "shell.execute_reply": "2023-08-22T19:20:12.012132Z"
    },
    "papermill": {
     "duration": 0.137636,
     "end_time": "2023-08-22T19:20:12.016291",
     "exception": false,
     "start_time": "2023-08-22T19:20:11.878655",
     "status": "completed"
    },
    "tags": []
   },
   "outputs": [
    {
     "data": {
      "text/plain": [
       "array([6.80e+01, 1.04e+02, 1.43e+07])"
      ]
     },
     "execution_count": 87,
     "metadata": {},
     "output_type": "execute_result"
    }
   ],
   "source": [
    "# Transform ['audienceScore', 'runtimeMinutes', 'boxOffice'] columns in merged_test using 'si' fitted on 'merged' df  \n",
    "merged_test[['audienceScore', 'runtimeMinutes', 'boxOffice']] = si.transform(merged_test[['audienceScore', 'runtimeMinutes', 'boxOffice']])\n",
    "si.statistics_"
   ]
  },
  {
   "cell_type": "code",
   "execution_count": 88,
   "id": "91bc222e",
   "metadata": {
    "execution": {
     "iopub.execute_input": "2023-08-22T19:20:12.241889Z",
     "iopub.status.busy": "2023-08-22T19:20:12.241407Z",
     "iopub.status.idle": "2023-08-22T19:20:12.253261Z",
     "shell.execute_reply": "2023-08-22T19:20:12.252215Z"
    },
    "papermill": {
     "duration": 0.127653,
     "end_time": "2023-08-22T19:20:12.255916",
     "exception": false,
     "start_time": "2023-08-22T19:20:12.128263",
     "status": "completed"
    },
    "tags": []
   },
   "outputs": [],
   "source": [
    "# Fill 'releaseDate' column in 'merged_test' df with median from the train (merged) df  \n",
    "merged_test['releaseDate'] = merged_test[\"releaseDate\"].fillna(merged[\"releaseDate\"].median())"
   ]
  },
  {
   "cell_type": "code",
   "execution_count": 89,
   "id": "dbafaa11",
   "metadata": {
    "execution": {
     "iopub.execute_input": "2023-08-22T19:20:12.480641Z",
     "iopub.status.busy": "2023-08-22T19:20:12.480196Z",
     "iopub.status.idle": "2023-08-22T19:20:12.988724Z",
     "shell.execute_reply": "2023-08-22T19:20:12.986648Z"
    },
    "papermill": {
     "duration": 0.624637,
     "end_time": "2023-08-22T19:20:12.991712",
     "exception": false,
     "start_time": "2023-08-22T19:20:12.367075",
     "status": "completed"
    },
    "tags": []
   },
   "outputs": [
    {
     "name": "stdout",
     "output_type": "stream",
     "text": [
      "Shape of the dataframe: (55315, 25)\n",
      "\n",
      "Columns in the dataframe:\n",
      "Index(['movieid', 'reviewerName', 'isFrequentReviewer', 'reviewText', 'title',\n",
      "       'audienceScore', 'rating', 'ratingContents', 'releaseDateTheaters',\n",
      "       'releaseDateStreaming', 'runtimeMinutes', 'genre', 'originalLanguage',\n",
      "       'director', 'boxOffice', 'distributor', 'soundType', 'reviewYN',\n",
      "       'reviewWC', 'genreSorted', 'rcSorted', 'releaseDate', 'releaseYear',\n",
      "       'releaseMonth', 'releaseDiff'],\n",
      "      dtype='object')\n",
      "\n",
      "<class 'pandas.core.frame.DataFrame'>\n",
      "Int64Index: 55315 entries, 0 to 55314\n",
      "Data columns (total 25 columns):\n",
      " #   Column                Non-Null Count  Dtype         \n",
      "---  ------                --------------  -----         \n",
      " 0   movieid               55315 non-null  object        \n",
      " 1   reviewerName          55315 non-null  object        \n",
      " 2   isFrequentReviewer    55315 non-null  bool          \n",
      " 3   reviewText            55315 non-null  object        \n",
      " 4   title                 55315 non-null  object        \n",
      " 5   audienceScore         55315 non-null  float64       \n",
      " 6   rating                55315 non-null  object        \n",
      " 7   ratingContents        55315 non-null  object        \n",
      " 8   releaseDateTheaters   47844 non-null  datetime64[ns]\n",
      " 9   releaseDateStreaming  52929 non-null  datetime64[ns]\n",
      " 10  runtimeMinutes        55315 non-null  float64       \n",
      " 11  genre                 55315 non-null  object        \n",
      " 12  originalLanguage      55315 non-null  object        \n",
      " 13  director              55315 non-null  object        \n",
      " 14  boxOffice             55315 non-null  float64       \n",
      " 15  distributor           55315 non-null  object        \n",
      " 16  soundType             29845 non-null  object        \n",
      " 17  reviewYN              55315 non-null  int64         \n",
      " 18  reviewWC              55315 non-null  int64         \n",
      " 19  genreSorted           55315 non-null  object        \n",
      " 20  rcSorted              55315 non-null  object        \n",
      " 21  releaseDate           55315 non-null  datetime64[ns]\n",
      " 22  releaseYear           46626 non-null  float64       \n",
      " 23  releaseMonth          46626 non-null  float64       \n",
      " 24  releaseDiff           55315 non-null  float64       \n",
      "dtypes: bool(1), datetime64[ns](3), float64(6), int64(2), object(13)\n",
      "memory usage: 10.6+ MB\n",
      "None\n",
      "\n",
      "Missing values:\n",
      "movieid                     0\n",
      "reviewerName                0\n",
      "isFrequentReviewer          0\n",
      "reviewText                  0\n",
      "title                       0\n",
      "audienceScore               0\n",
      "rating                      0\n",
      "ratingContents              0\n",
      "releaseDateTheaters      7471\n",
      "releaseDateStreaming     2386\n",
      "runtimeMinutes              0\n",
      "genre                       0\n",
      "originalLanguage            0\n",
      "director                    0\n",
      "boxOffice                   0\n",
      "distributor                 0\n",
      "soundType               25470\n",
      "reviewYN                    0\n",
      "reviewWC                    0\n",
      "genreSorted                 0\n",
      "rcSorted                    0\n",
      "releaseDate                 0\n",
      "releaseYear              8689\n",
      "releaseMonth             8689\n",
      "releaseDiff                 0\n",
      "dtype: int64\n"
     ]
    }
   ],
   "source": [
    "# After transforming merged_test  \n",
    "inspect(merged_test)"
   ]
  },
  {
   "cell_type": "code",
   "execution_count": 90,
   "id": "bdccc724",
   "metadata": {
    "execution": {
     "iopub.execute_input": "2023-08-22T19:20:13.225069Z",
     "iopub.status.busy": "2023-08-22T19:20:13.224642Z",
     "iopub.status.idle": "2023-08-22T19:20:13.233387Z",
     "shell.execute_reply": "2023-08-22T19:20:13.231766Z"
    },
    "papermill": {
     "duration": 0.128234,
     "end_time": "2023-08-22T19:20:13.235943",
     "exception": false,
     "start_time": "2023-08-22T19:20:13.107709",
     "status": "completed"
    },
    "tags": []
   },
   "outputs": [
    {
     "name": "stdout",
     "output_type": "stream",
     "text": [
      "2510\n",
      "4.537648015908886\n"
     ]
    }
   ],
   "source": [
    "print(merged_test[\"reviewYN\"].sum())\n",
    "print(merged_test[\"reviewYN\"].sum() * 100 / merged_test.shape[0])"
   ]
  },
  {
   "cell_type": "code",
   "execution_count": 91,
   "id": "ee905b00",
   "metadata": {
    "execution": {
     "iopub.execute_input": "2023-08-22T19:20:13.472141Z",
     "iopub.status.busy": "2023-08-22T19:20:13.471711Z",
     "iopub.status.idle": "2023-08-22T19:20:13.489949Z",
     "shell.execute_reply": "2023-08-22T19:20:13.488853Z"
    },
    "papermill": {
     "duration": 0.139122,
     "end_time": "2023-08-22T19:20:13.492309",
     "exception": false,
     "start_time": "2023-08-22T19:20:13.353187",
     "status": "completed"
    },
    "tags": []
   },
   "outputs": [
    {
     "data": {
      "text/plain": [
       "R          18934\n",
       "unknown    18386\n",
       "PG-13      13220\n",
       "PG          4200\n",
       "TV14         333\n",
       "TVPG         109\n",
       "NC-17        108\n",
       "TVMA          25\n",
       "Name: rating, dtype: int64"
      ]
     },
     "execution_count": 91,
     "metadata": {},
     "output_type": "execute_result"
    }
   ],
   "source": [
    "merged_test['rating'].value_counts()"
   ]
  },
  {
   "cell_type": "code",
   "execution_count": 92,
   "id": "96867d2d",
   "metadata": {
    "execution": {
     "iopub.execute_input": "2023-08-22T19:20:13.729152Z",
     "iopub.status.busy": "2023-08-22T19:20:13.728501Z",
     "iopub.status.idle": "2023-08-22T19:20:13.738028Z",
     "shell.execute_reply": "2023-08-22T19:20:13.737132Z"
    },
    "papermill": {
     "duration": 0.131459,
     "end_time": "2023-08-22T19:20:13.740293",
     "exception": false,
     "start_time": "2023-08-22T19:20:13.608834",
     "status": "completed"
    },
    "tags": []
   },
   "outputs": [
    {
     "data": {
      "text/plain": [
       "False    38428\n",
       "True     16887\n",
       "Name: isFrequentReviewer, dtype: int64"
      ]
     },
     "execution_count": 92,
     "metadata": {},
     "output_type": "execute_result"
    }
   ],
   "source": [
    "merged_test['isFrequentReviewer'].value_counts()"
   ]
  },
  {
   "cell_type": "code",
   "execution_count": 93,
   "id": "b2c33526",
   "metadata": {
    "execution": {
     "iopub.execute_input": "2023-08-22T19:20:13.976591Z",
     "iopub.status.busy": "2023-08-22T19:20:13.975690Z",
     "iopub.status.idle": "2023-08-22T19:20:13.989748Z",
     "shell.execute_reply": "2023-08-22T19:20:13.988345Z"
    },
    "papermill": {
     "duration": 0.135597,
     "end_time": "2023-08-22T19:20:13.992509",
     "exception": false,
     "start_time": "2023-08-22T19:20:13.856912",
     "status": "completed"
    },
    "tags": []
   },
   "outputs": [
    {
     "data": {
      "text/plain": [
       "14300000.0    13593\n",
       "1100000.0       311\n",
       "1000000.0       272\n",
       "1300000.0       263\n",
       "2000000.0       256\n",
       "              ...  \n",
       "200400.0          1\n",
       "23800000.0        1\n",
       "111200.0          1\n",
       "277800.0          1\n",
       "100600.0          1\n",
       "Name: boxOffice, Length: 3816, dtype: int64"
      ]
     },
     "execution_count": 93,
     "metadata": {},
     "output_type": "execute_result"
    }
   ],
   "source": [
    "merged_test['boxOffice'].value_counts()"
   ]
  },
  {
   "cell_type": "markdown",
   "id": "d0d83964",
   "metadata": {
    "papermill": {
     "duration": 0.113852,
     "end_time": "2023-08-22T19:20:14.222385",
     "exception": false,
     "start_time": "2023-08-22T19:20:14.108533",
     "status": "completed"
    },
    "tags": []
   },
   "source": [
    "## Work on vocabulary  \n",
    "\n",
    "`Build vocabulary from 'reviewText' column`  "
   ]
  },
  {
   "cell_type": "code",
   "execution_count": 94,
   "id": "9522144f",
   "metadata": {
    "execution": {
     "iopub.execute_input": "2023-08-22T19:20:14.451716Z",
     "iopub.status.busy": "2023-08-22T19:20:14.451198Z",
     "iopub.status.idle": "2023-08-22T19:20:14.475432Z",
     "shell.execute_reply": "2023-08-22T19:20:14.474524Z"
    },
    "papermill": {
     "duration": 0.140975,
     "end_time": "2023-08-22T19:20:14.477569",
     "exception": false,
     "start_time": "2023-08-22T19:20:14.336594",
     "status": "completed"
    },
    "tags": []
   },
   "outputs": [
    {
     "data": {
      "text/plain": [
       "((162758, 2),\n",
       "                                           reviewText sentiment\n",
       " 0  Henry Selick’s first movie since ’s Coraline. ...  POSITIVE\n",
       " 1  With a cast that reads like the Vogue Oscar pa...  NEGATIVE\n",
       " 2  Creed II does not give us anything but another...  POSITIVE\n",
       " 3  I know what you're thinking, but this is no Li...  POSITIVE\n",
       " 4  Director Fernando Meirelles tells the story wi...  POSITIVE)"
      ]
     },
     "execution_count": 94,
     "metadata": {},
     "output_type": "execute_result"
    }
   ],
   "source": [
    "rt_senti = merged[[\"reviewText\", \"sentiment\"]].copy()\n",
    "rt_senti.shape, rt_senti.head()"
   ]
  },
  {
   "cell_type": "code",
   "execution_count": 95,
   "id": "533c2c26",
   "metadata": {
    "execution": {
     "iopub.execute_input": "2023-08-22T19:20:14.709077Z",
     "iopub.status.busy": "2023-08-22T19:20:14.707624Z",
     "iopub.status.idle": "2023-08-22T19:20:14.722959Z",
     "shell.execute_reply": "2023-08-22T19:20:14.721771Z"
    },
    "papermill": {
     "duration": 0.135025,
     "end_time": "2023-08-22T19:20:14.725446",
     "exception": false,
     "start_time": "2023-08-22T19:20:14.590421",
     "status": "completed"
    },
    "tags": []
   },
   "outputs": [
    {
     "data": {
      "text/plain": [
       "((55315, 1),\n",
       "                                           reviewText\n",
       " 0  Green slowly cranks up the dread with style an...\n",
       " 1  Philip Noyce's direction is elegant and unforc...\n",
       " 2  It wouldn't do to say what path Maria ultimate...\n",
       " 3  Pig is not exactly the arthouse John Wick that...\n",
       " 4  An imaginative no-budget musical of sorts abou...)"
      ]
     },
     "execution_count": 95,
     "metadata": {},
     "output_type": "execute_result"
    }
   ],
   "source": [
    "rt_test = pd.DataFrame(merged_test[\"reviewText\"].copy())\n",
    "rt_test.shape, rt_test.head()"
   ]
  },
  {
   "cell_type": "code",
   "execution_count": 96,
   "id": "976cbb91",
   "metadata": {
    "execution": {
     "iopub.execute_input": "2023-08-22T19:20:14.964386Z",
     "iopub.status.busy": "2023-08-22T19:20:14.963626Z",
     "iopub.status.idle": "2023-08-22T19:20:14.969658Z",
     "shell.execute_reply": "2023-08-22T19:20:14.968689Z"
    },
    "papermill": {
     "duration": 0.128873,
     "end_time": "2023-08-22T19:20:14.972240",
     "exception": false,
     "start_time": "2023-08-22T19:20:14.843367",
     "status": "completed"
    },
    "tags": []
   },
   "outputs": [],
   "source": [
    "def get_vocab(text_df, ngram_range=(1,1)):\n",
    "#     print(f\"Generating vocabulary for ngram_range: {ngram_range}...\")\n",
    "    tvec1 = CountVectorizer(ngram_range=ngram_range, stop_words='english', strip_accents='unicode')\n",
    "    tvec1.fit(text_df)\n",
    "    voc_ngram = set(tvec1.vocabulary_.keys())\n",
    "    return voc_ngram"
   ]
  },
  {
   "cell_type": "code",
   "execution_count": 97,
   "id": "8c31caad",
   "metadata": {
    "execution": {
     "iopub.execute_input": "2023-08-22T19:20:15.209300Z",
     "iopub.status.busy": "2023-08-22T19:20:15.208078Z",
     "iopub.status.idle": "2023-08-22T19:20:15.217722Z",
     "shell.execute_reply": "2023-08-22T19:20:15.216837Z"
    },
    "papermill": {
     "duration": 0.130714,
     "end_time": "2023-08-22T19:20:15.220186",
     "exception": false,
     "start_time": "2023-08-22T19:20:15.089472",
     "status": "completed"
    },
    "tags": []
   },
   "outputs": [],
   "source": [
    "def get_common_vocab(df_list: list, ngram_range_list: list):\n",
    "    \"\"\"\n",
    "    Get common vocabulary from a list of dataframes.\n",
    "    \"\"\"\n",
    "    final_common_vocab = set()\n",
    "    # Get vocabulary from each dataframe for a given ngram-range\n",
    "    for ngram_range in ngram_range_list:\n",
    "        vocab_ngram = set()\n",
    "        for num, df in enumerate(df_list, start=1):\n",
    "#             print(f\"Working on DF#{num} in the list of DFs provided\")\n",
    "            vocab_ngram_df = set(get_vocab(df['reviewText'], ngram_range))\n",
    "#             print(f\"Vocabulary size for ngram-range {ngram_range} in DF#{num}: {len(vocab_ngram_df)}\\n\")\n",
    "            if len(vocab_ngram) > 0:\n",
    "#                 print(f\"Keeping only the common (intersection) words for ngram-range {ngram_range}...\")\n",
    "                vocab_ngram = vocab_ngram.intersection(vocab_ngram_df)\n",
    "            else:\n",
    "#                 print(f\"Words from the first df for ngram-range {ngram_range} added.\\n\")\n",
    "                vocab_ngram = vocab_ngram_df\n",
    "        print(f\"Common vocabulary for ngram-range {ngram_range}: {len(vocab_ngram)}\\n\")\n",
    "        \n",
    "        if len(final_common_vocab) > 0:\n",
    "#             print(f\"Fusing (union) with final common vocabulary: ngram-range = {ngram_range}.\\n\")\n",
    "            final_common_vocab = final_common_vocab.union(vocab_ngram)\n",
    "        else:\n",
    "#             print(f\"Appended first time to final common vocabulary: ngram-range = {ngram_range}.\\n\")\n",
    "            final_common_vocab = vocab_ngram\n",
    "    print(f\"Size of the common vocabulary generated is: {len(final_common_vocab)}\")\n",
    "    return final_common_vocab"
   ]
  },
  {
   "cell_type": "code",
   "execution_count": 98,
   "id": "40868e2c",
   "metadata": {
    "execution": {
     "iopub.execute_input": "2023-08-22T19:20:15.474641Z",
     "iopub.status.busy": "2023-08-22T19:20:15.473936Z",
     "iopub.status.idle": "2023-08-22T19:20:15.478472Z",
     "shell.execute_reply": "2023-08-22T19:20:15.477291Z"
    },
    "papermill": {
     "duration": 0.147833,
     "end_time": "2023-08-22T19:20:15.480905",
     "exception": false,
     "start_time": "2023-08-22T19:20:15.333072",
     "status": "completed"
    },
    "tags": []
   },
   "outputs": [],
   "source": [
    "# voc_1gram = get_vocab(rt_senti[\"reviewText\"], ngram_range=(1,1))\n",
    "# len(voc_1gram), voc_1gram[:10]"
   ]
  },
  {
   "cell_type": "code",
   "execution_count": 99,
   "id": "7046343b",
   "metadata": {
    "execution": {
     "iopub.execute_input": "2023-08-22T19:20:15.714674Z",
     "iopub.status.busy": "2023-08-22T19:20:15.713724Z",
     "iopub.status.idle": "2023-08-22T19:20:15.718159Z",
     "shell.execute_reply": "2023-08-22T19:20:15.717337Z"
    },
    "papermill": {
     "duration": 0.126339,
     "end_time": "2023-08-22T19:20:15.720667",
     "exception": false,
     "start_time": "2023-08-22T19:20:15.594328",
     "status": "completed"
    },
    "tags": []
   },
   "outputs": [],
   "source": [
    "# voc_2gram = get_vocab(rt_senti[\"reviewText\"], ngram_range=(2,2))\n",
    "# len(voc_2gram), voc_2gram[:10]"
   ]
  },
  {
   "cell_type": "code",
   "execution_count": 100,
   "id": "c621d07c",
   "metadata": {
    "execution": {
     "iopub.execute_input": "2023-08-22T19:20:15.952361Z",
     "iopub.status.busy": "2023-08-22T19:20:15.951578Z",
     "iopub.status.idle": "2023-08-22T19:20:15.955592Z",
     "shell.execute_reply": "2023-08-22T19:20:15.954846Z"
    },
    "papermill": {
     "duration": 0.122725,
     "end_time": "2023-08-22T19:20:15.957858",
     "exception": false,
     "start_time": "2023-08-22T19:20:15.835133",
     "status": "completed"
    },
    "tags": []
   },
   "outputs": [],
   "source": [
    "# voc_3gram = get_vocab(rt_senti[\"reviewText\"], ngram_range=(3,3))\n",
    "# len(voc_3gram), voc_3gram[:10]"
   ]
  },
  {
   "cell_type": "code",
   "execution_count": 101,
   "id": "ab577d0f",
   "metadata": {
    "execution": {
     "iopub.execute_input": "2023-08-22T19:20:16.191698Z",
     "iopub.status.busy": "2023-08-22T19:20:16.191202Z",
     "iopub.status.idle": "2023-08-22T19:20:16.195931Z",
     "shell.execute_reply": "2023-08-22T19:20:16.194965Z"
    },
    "papermill": {
     "duration": 0.12406,
     "end_time": "2023-08-22T19:20:16.198093",
     "exception": false,
     "start_time": "2023-08-22T19:20:16.074033",
     "status": "completed"
    },
    "tags": []
   },
   "outputs": [],
   "source": [
    "# common_unigrams = get_common_vocab([rt_senti, rt_test], ngram_range_list=[(1,1)])\n",
    "# print(len(common_unigrams))\n",
    "# # sorted(list(common_unigrams))"
   ]
  },
  {
   "cell_type": "code",
   "execution_count": 102,
   "id": "7602436c",
   "metadata": {
    "execution": {
     "iopub.execute_input": "2023-08-22T19:20:16.504561Z",
     "iopub.status.busy": "2023-08-22T19:20:16.503747Z",
     "iopub.status.idle": "2023-08-22T19:20:16.508130Z",
     "shell.execute_reply": "2023-08-22T19:20:16.507324Z"
    },
    "papermill": {
     "duration": 0.200341,
     "end_time": "2023-08-22T19:20:16.510873",
     "exception": false,
     "start_time": "2023-08-22T19:20:16.310532",
     "status": "completed"
    },
    "tags": []
   },
   "outputs": [],
   "source": [
    "# common_bigrams = get_common_vocab([rt_senti, rt_test], ngram_range_list=[(2,2)])\n",
    "# print(len(common_bigrams))\n",
    "# # # common_bigrams"
   ]
  },
  {
   "cell_type": "code",
   "execution_count": 103,
   "id": "95ca5417",
   "metadata": {
    "execution": {
     "iopub.execute_input": "2023-08-22T19:20:16.749279Z",
     "iopub.status.busy": "2023-08-22T19:20:16.748815Z",
     "iopub.status.idle": "2023-08-22T19:20:16.754210Z",
     "shell.execute_reply": "2023-08-22T19:20:16.752961Z"
    },
    "papermill": {
     "duration": 0.131832,
     "end_time": "2023-08-22T19:20:16.756983",
     "exception": false,
     "start_time": "2023-08-22T19:20:16.625151",
     "status": "completed"
    },
    "tags": []
   },
   "outputs": [],
   "source": [
    "# common_1_2_grams = get_common_vocab([rt_senti, rt_test], ngram_range_list=[(1,1), (2,2)])\n",
    "# print(len(common_1_2_grams))\n",
    "# # sorted(list(common_1_2_grams))\n",
    "\n",
    "# # common_1_2_grams = common_unigrams | common_bigrams    # older code"
   ]
  },
  {
   "cell_type": "code",
   "execution_count": 104,
   "id": "81ef0a09",
   "metadata": {
    "execution": {
     "iopub.execute_input": "2023-08-22T19:20:16.994461Z",
     "iopub.status.busy": "2023-08-22T19:20:16.993193Z",
     "iopub.status.idle": "2023-08-22T19:20:16.998632Z",
     "shell.execute_reply": "2023-08-22T19:20:16.997418Z"
    },
    "papermill": {
     "duration": 0.127256,
     "end_time": "2023-08-22T19:20:17.001064",
     "exception": false,
     "start_time": "2023-08-22T19:20:16.873808",
     "status": "completed"
    },
    "tags": []
   },
   "outputs": [],
   "source": [
    "# common_trigrams = get_common_vocab([rt_senti, rt_test], ngram_range_list=[(3,3)])\n",
    "# print(len(common_trigrams))\n",
    "# # common_trigrams"
   ]
  },
  {
   "cell_type": "code",
   "execution_count": 105,
   "id": "d59a1fcb",
   "metadata": {
    "execution": {
     "iopub.execute_input": "2023-08-22T19:20:17.235289Z",
     "iopub.status.busy": "2023-08-22T19:20:17.234673Z",
     "iopub.status.idle": "2023-08-22T19:20:17.239381Z",
     "shell.execute_reply": "2023-08-22T19:20:17.238447Z"
    },
    "papermill": {
     "duration": 0.122915,
     "end_time": "2023-08-22T19:20:17.241715",
     "exception": false,
     "start_time": "2023-08-22T19:20:17.118800",
     "status": "completed"
    },
    "tags": []
   },
   "outputs": [],
   "source": [
    "# common_1_2_3_grams = get_common_vocab([rt_senti, rt_test], ngram_range_list=[(1,1), (2,2), (3,3)])\n",
    "# print(len(common_1_2_3_grams))\n",
    "# # sorted((common_1_2_3_grams))\n",
    "\n",
    "# # common_1_2_3_grams = common_unigrams | common_bigrams | common_trigrams    # Older code  "
   ]
  },
  {
   "cell_type": "markdown",
   "id": "c076dfe7",
   "metadata": {
    "papermill": {
     "duration": 0.112482,
     "end_time": "2023-08-22T19:20:17.467917",
     "exception": false,
     "start_time": "2023-08-22T19:20:17.355435",
     "status": "completed"
    },
    "tags": []
   },
   "source": [
    "### Find common vocabulary between text with positive and negative sentiments in training dataset  "
   ]
  },
  {
   "cell_type": "code",
   "execution_count": 106,
   "id": "500598bc",
   "metadata": {
    "execution": {
     "iopub.execute_input": "2023-08-22T19:20:17.697288Z",
     "iopub.status.busy": "2023-08-22T19:20:17.696878Z",
     "iopub.status.idle": "2023-08-22T19:20:17.752260Z",
     "shell.execute_reply": "2023-08-22T19:20:17.750800Z"
    },
    "papermill": {
     "duration": 0.173999,
     "end_time": "2023-08-22T19:20:17.755235",
     "exception": false,
     "start_time": "2023-08-22T19:20:17.581236",
     "status": "completed"
    },
    "tags": []
   },
   "outputs": [
    {
     "data": {
      "text/plain": [
       "(108761, 2)"
      ]
     },
     "execution_count": 106,
     "metadata": {},
     "output_type": "execute_result"
    }
   ],
   "source": [
    "# Dataframe for positive sentiment\n",
    "rt_senti_pos = rt_senti.loc[rt_senti['sentiment'] == 'POSITIVE'].copy()\n",
    "rt_senti_pos.shape"
   ]
  },
  {
   "cell_type": "code",
   "execution_count": 107,
   "id": "00e0957c",
   "metadata": {
    "execution": {
     "iopub.execute_input": "2023-08-22T19:20:17.993385Z",
     "iopub.status.busy": "2023-08-22T19:20:17.992654Z",
     "iopub.status.idle": "2023-08-22T19:20:18.039211Z",
     "shell.execute_reply": "2023-08-22T19:20:18.038040Z"
    },
    "papermill": {
     "duration": 0.168942,
     "end_time": "2023-08-22T19:20:18.041806",
     "exception": false,
     "start_time": "2023-08-22T19:20:17.872864",
     "status": "completed"
    },
    "tags": []
   },
   "outputs": [
    {
     "data": {
      "text/plain": [
       "(53997, 2)"
      ]
     },
     "execution_count": 107,
     "metadata": {},
     "output_type": "execute_result"
    }
   ],
   "source": [
    "# Dataframe for negative sentiment\n",
    "rt_senti_neg = rt_senti.loc[rt_senti['sentiment'] == 'NEGATIVE'].copy()\n",
    "rt_senti_neg.shape"
   ]
  },
  {
   "cell_type": "code",
   "execution_count": 108,
   "id": "fb99ef73",
   "metadata": {
    "execution": {
     "iopub.execute_input": "2023-08-22T19:20:18.277041Z",
     "iopub.status.busy": "2023-08-22T19:20:18.276603Z",
     "iopub.status.idle": "2023-08-22T19:20:18.281909Z",
     "shell.execute_reply": "2023-08-22T19:20:18.280631Z"
    },
    "papermill": {
     "duration": 0.124984,
     "end_time": "2023-08-22T19:20:18.284434",
     "exception": false,
     "start_time": "2023-08-22T19:20:18.159450",
     "status": "completed"
    },
    "tags": []
   },
   "outputs": [],
   "source": [
    "# Generate stop words/phrases specific for this project data  \n",
    "\n",
    "# common_1_2_3_grams_sentiment = get_common_vocab([rt_senti_pos, rt_senti_neg], ngram_range_list=[(1,1), (2,2), (3,3)])\n",
    "# print(len(common_1_2_3_grams_sentiment))\n",
    "# # sorted(list(common_1_2_3_grams_sentiment))"
   ]
  },
  {
   "cell_type": "code",
   "execution_count": 109,
   "id": "1d835acf",
   "metadata": {
    "execution": {
     "iopub.execute_input": "2023-08-22T19:20:18.515241Z",
     "iopub.status.busy": "2023-08-22T19:20:18.514803Z",
     "iopub.status.idle": "2023-08-22T19:20:18.520018Z",
     "shell.execute_reply": "2023-08-22T19:20:18.518885Z"
    },
    "papermill": {
     "duration": 0.124128,
     "end_time": "2023-08-22T19:20:18.522484",
     "exception": false,
     "start_time": "2023-08-22T19:20:18.398356",
     "status": "completed"
    },
    "tags": []
   },
   "outputs": [],
   "source": [
    "# Generate and store the entire vocabulary of training data  \n",
    "\n",
    "# train_1_2_3_grams = get_vocab(rt_senti['reviewText'], ngram_range=(1,3))\n",
    "# print(len(train_1_2_3_grams))\n",
    "# # sorted(train_1_2_3_grams)"
   ]
  },
  {
   "cell_type": "code",
   "execution_count": 110,
   "id": "7084a761",
   "metadata": {
    "execution": {
     "iopub.execute_input": "2023-08-22T19:20:18.758120Z",
     "iopub.status.busy": "2023-08-22T19:20:18.757693Z",
     "iopub.status.idle": "2023-08-22T19:20:18.762653Z",
     "shell.execute_reply": "2023-08-22T19:20:18.761350Z"
    },
    "papermill": {
     "duration": 0.127036,
     "end_time": "2023-08-22T19:20:18.764981",
     "exception": false,
     "start_time": "2023-08-22T19:20:18.637945",
     "status": "completed"
    },
    "tags": []
   },
   "outputs": [],
   "source": [
    "# type(train_1_2_3_grams)"
   ]
  },
  {
   "cell_type": "code",
   "execution_count": 111,
   "id": "2e612187",
   "metadata": {
    "execution": {
     "iopub.execute_input": "2023-08-22T19:20:18.995744Z",
     "iopub.status.busy": "2023-08-22T19:20:18.995307Z",
     "iopub.status.idle": "2023-08-22T19:20:19.000533Z",
     "shell.execute_reply": "2023-08-22T19:20:18.999036Z"
    },
    "papermill": {
     "duration": 0.123187,
     "end_time": "2023-08-22T19:20:19.003262",
     "exception": false,
     "start_time": "2023-08-22T19:20:18.880075",
     "status": "completed"
    },
    "tags": []
   },
   "outputs": [],
   "source": [
    "# Get the vocabulary that should be used in the final models  \n",
    "# relevant_vocab = train_1_2_3_grams - common_1_2_3_grams_sentiment\n",
    "# print(len(relevant_vocab))"
   ]
  },
  {
   "cell_type": "markdown",
   "id": "0ef87795",
   "metadata": {
    "papermill": {
     "duration": 0.115023,
     "end_time": "2023-08-22T19:20:19.233121",
     "exception": false,
     "start_time": "2023-08-22T19:20:19.118098",
     "status": "completed"
    },
    "tags": []
   },
   "source": [
    "## Vocabulary based on audienceScore  "
   ]
  },
  {
   "cell_type": "code",
   "execution_count": 112,
   "id": "500b8b81",
   "metadata": {
    "execution": {
     "iopub.execute_input": "2023-08-22T19:20:19.461780Z",
     "iopub.status.busy": "2023-08-22T19:20:19.461340Z",
     "iopub.status.idle": "2023-08-22T19:20:19.828510Z",
     "shell.execute_reply": "2023-08-22T19:20:19.827043Z"
    },
    "papermill": {
     "duration": 0.485063,
     "end_time": "2023-08-22T19:20:19.831371",
     "exception": false,
     "start_time": "2023-08-22T19:20:19.346308",
     "status": "completed"
    },
    "tags": []
   },
   "outputs": [
    {
     "data": {
      "text/plain": [
       "<Axes: xlabel='sentiment', ylabel='audienceScore'>"
      ]
     },
     "execution_count": 112,
     "metadata": {},
     "output_type": "execute_result"
    },
    {
     "data": {
      "image/png": "[encoded data removed]",
      "text/plain": [
       "<Figure size 640x480 with 1 Axes>"
      ]
     },
     "metadata": {},
     "output_type": "display_data"
    }
   ],
   "source": [
    "sns.boxplot(y=merged[\"audienceScore\"], x=merged[\"sentiment\"])"
   ]
  },
  {
   "cell_type": "code",
   "execution_count": 113,
   "id": "1534c0e2",
   "metadata": {
    "execution": {
     "iopub.execute_input": "2023-08-22T19:20:20.065537Z",
     "iopub.status.busy": "2023-08-22T19:20:20.064821Z",
     "iopub.status.idle": "2023-08-22T19:20:20.118841Z",
     "shell.execute_reply": "2023-08-22T19:20:20.117325Z"
    },
    "papermill": {
     "duration": 0.175268,
     "end_time": "2023-08-22T19:20:20.121471",
     "exception": false,
     "start_time": "2023-08-22T19:20:19.946203",
     "status": "completed"
    },
    "tags": []
   },
   "outputs": [
    {
     "data": {
      "text/html": [
       "<div>\n",
       "<style scoped>\n",
       "    .dataframe tbody tr th:only-of-type {\n",
       "        vertical-align: middle;\n",
       "    }\n",
       "\n",
       "    .dataframe tbody tr th {\n",
       "        vertical-align: top;\n",
       "    }\n",
       "\n",
       "    .dataframe thead th {\n",
       "        text-align: right;\n",
       "    }\n",
       "</style>\n",
       "<table border=\"1\" class=\"dataframe\">\n",
       "  <thead>\n",
       "    <tr style=\"text-align: right;\">\n",
       "      <th></th>\n",
       "      <th>count</th>\n",
       "      <th>mean</th>\n",
       "      <th>std</th>\n",
       "      <th>min</th>\n",
       "      <th>25%</th>\n",
       "      <th>50%</th>\n",
       "      <th>75%</th>\n",
       "      <th>max</th>\n",
       "    </tr>\n",
       "    <tr>\n",
       "      <th>sentiment</th>\n",
       "      <th></th>\n",
       "      <th></th>\n",
       "      <th></th>\n",
       "      <th></th>\n",
       "      <th></th>\n",
       "      <th></th>\n",
       "      <th></th>\n",
       "      <th></th>\n",
       "    </tr>\n",
       "  </thead>\n",
       "  <tbody>\n",
       "    <tr>\n",
       "      <th>NEGATIVE</th>\n",
       "      <td>53997.0</td>\n",
       "      <td>56.474786</td>\n",
       "      <td>19.902115</td>\n",
       "      <td>0.0</td>\n",
       "      <td>41.0</td>\n",
       "      <td>57.0</td>\n",
       "      <td>72.0</td>\n",
       "      <td>100.0</td>\n",
       "    </tr>\n",
       "    <tr>\n",
       "      <th>POSITIVE</th>\n",
       "      <td>108761.0</td>\n",
       "      <td>69.326174</td>\n",
       "      <td>18.380626</td>\n",
       "      <td>0.0</td>\n",
       "      <td>58.0</td>\n",
       "      <td>73.0</td>\n",
       "      <td>84.0</td>\n",
       "      <td>100.0</td>\n",
       "    </tr>\n",
       "  </tbody>\n",
       "</table>\n",
       "</div>"
      ],
      "text/plain": [
       "              count       mean        std  min   25%   50%   75%    max\n",
       "sentiment                                                              \n",
       "NEGATIVE    53997.0  56.474786  19.902115  0.0  41.0  57.0  72.0  100.0\n",
       "POSITIVE   108761.0  69.326174  18.380626  0.0  58.0  73.0  84.0  100.0"
      ]
     },
     "execution_count": 113,
     "metadata": {},
     "output_type": "execute_result"
    }
   ],
   "source": [
    "merged.groupby('sentiment')['audienceScore'].describe()"
   ]
  },
  {
   "cell_type": "code",
   "execution_count": 114,
   "id": "dad48d55",
   "metadata": {
    "execution": {
     "iopub.execute_input": "2023-08-22T19:20:20.355874Z",
     "iopub.status.busy": "2023-08-22T19:20:20.355001Z",
     "iopub.status.idle": "2023-08-22T19:20:20.359353Z",
     "shell.execute_reply": "2023-08-22T19:20:20.358513Z"
    },
    "papermill": {
     "duration": 0.123922,
     "end_time": "2023-08-22T19:20:20.361549",
     "exception": false,
     "start_time": "2023-08-22T19:20:20.237627",
     "status": "completed"
    },
    "tags": []
   },
   "outputs": [],
   "source": [
    "# pos_scores = merged[['reviewText', 'sentiment']].loc[(merged['audienceScore'] > 73) & (merged['sentiment'] == 'POSITIVE')].copy()\n",
    "# pos_scores.shape, pos_scores.head()"
   ]
  },
  {
   "cell_type": "code",
   "execution_count": 115,
   "id": "dc51e3f3",
   "metadata": {
    "execution": {
     "iopub.execute_input": "2023-08-22T19:20:20.595396Z",
     "iopub.status.busy": "2023-08-22T19:20:20.594508Z",
     "iopub.status.idle": "2023-08-22T19:20:20.598957Z",
     "shell.execute_reply": "2023-08-22T19:20:20.598080Z"
    },
    "papermill": {
     "duration": 0.123605,
     "end_time": "2023-08-22T19:20:20.601195",
     "exception": false,
     "start_time": "2023-08-22T19:20:20.477590",
     "status": "completed"
    },
    "tags": []
   },
   "outputs": [],
   "source": [
    "# pos_scores['sentiment'].value_counts()"
   ]
  },
  {
   "cell_type": "code",
   "execution_count": 116,
   "id": "f776f36a",
   "metadata": {
    "execution": {
     "iopub.execute_input": "2023-08-22T19:20:20.908078Z",
     "iopub.status.busy": "2023-08-22T19:20:20.907215Z",
     "iopub.status.idle": "2023-08-22T19:20:20.912086Z",
     "shell.execute_reply": "2023-08-22T19:20:20.911065Z"
    },
    "papermill": {
     "duration": 0.127448,
     "end_time": "2023-08-22T19:20:20.914390",
     "exception": false,
     "start_time": "2023-08-22T19:20:20.786942",
     "status": "completed"
    },
    "tags": []
   },
   "outputs": [],
   "source": [
    "# neg_scores = merged[['reviewText', 'sentiment']].loc[(merged['audienceScore'] < 57) & (merged['sentiment'] == 'NEGATIVE')].copy()\n",
    "# neg_scores.shape, neg_scores.head()"
   ]
  },
  {
   "cell_type": "code",
   "execution_count": 117,
   "id": "0361cfcc",
   "metadata": {
    "execution": {
     "iopub.execute_input": "2023-08-22T19:20:21.149875Z",
     "iopub.status.busy": "2023-08-22T19:20:21.149013Z",
     "iopub.status.idle": "2023-08-22T19:20:21.153435Z",
     "shell.execute_reply": "2023-08-22T19:20:21.152559Z"
    },
    "papermill": {
     "duration": 0.123875,
     "end_time": "2023-08-22T19:20:21.155677",
     "exception": false,
     "start_time": "2023-08-22T19:20:21.031802",
     "status": "completed"
    },
    "tags": []
   },
   "outputs": [],
   "source": [
    "# neg_scores['sentiment'].value_counts()"
   ]
  },
  {
   "cell_type": "code",
   "execution_count": 118,
   "id": "6247c3f7",
   "metadata": {
    "execution": {
     "iopub.execute_input": "2023-08-22T19:20:21.388671Z",
     "iopub.status.busy": "2023-08-22T19:20:21.388179Z",
     "iopub.status.idle": "2023-08-22T19:20:21.392322Z",
     "shell.execute_reply": "2023-08-22T19:20:21.391496Z"
    },
    "papermill": {
     "duration": 0.123564,
     "end_time": "2023-08-22T19:20:21.394476",
     "exception": false,
     "start_time": "2023-08-22T19:20:21.270912",
     "status": "completed"
    },
    "tags": []
   },
   "outputs": [],
   "source": [
    "# common_pos_neg_scores = get_common_vocab([pos_scores, neg_scores], ngram_range_list=[(1,1), (2,2), (3,3)])\n",
    "# print(len(common_pos_neg_scores))\n",
    "# # sorted(list(common_pos_neg_scores))"
   ]
  },
  {
   "cell_type": "code",
   "execution_count": 119,
   "id": "2caa46e5",
   "metadata": {
    "execution": {
     "iopub.execute_input": "2023-08-22T19:20:21.626339Z",
     "iopub.status.busy": "2023-08-22T19:20:21.625415Z",
     "iopub.status.idle": "2023-08-22T19:20:21.629955Z",
     "shell.execute_reply": "2023-08-22T19:20:21.628996Z"
    },
    "papermill": {
     "duration": 0.123669,
     "end_time": "2023-08-22T19:20:21.632290",
     "exception": false,
     "start_time": "2023-08-22T19:20:21.508621",
     "status": "completed"
    },
    "tags": []
   },
   "outputs": [],
   "source": [
    "# pos_vocab = get_common_vocab([pos_scores, pos_scores], ngram_range_list=[(1,1), (2,2), (3,3)])\n",
    "# print(len(pos_vocab))\n",
    "# # sorted(list(pos_vocab))"
   ]
  },
  {
   "cell_type": "code",
   "execution_count": 120,
   "id": "e17a0172",
   "metadata": {
    "execution": {
     "iopub.execute_input": "2023-08-22T19:20:21.881821Z",
     "iopub.status.busy": "2023-08-22T19:20:21.881221Z",
     "iopub.status.idle": "2023-08-22T19:20:21.886960Z",
     "shell.execute_reply": "2023-08-22T19:20:21.885803Z"
    },
    "papermill": {
     "duration": 0.14072,
     "end_time": "2023-08-22T19:20:21.889441",
     "exception": false,
     "start_time": "2023-08-22T19:20:21.748721",
     "status": "completed"
    },
    "tags": []
   },
   "outputs": [],
   "source": [
    "# print(len(get_vocab(pos_scores['reviewText'], ngram_range=(1,1))))\n",
    "# print(len(get_vocab(pos_scores['reviewText'], ngram_range=(2,2))))\n",
    "# print(len(get_vocab(pos_scores['reviewText'], ngram_range=(3,3))))"
   ]
  },
  {
   "cell_type": "code",
   "execution_count": 121,
   "id": "9fffa554",
   "metadata": {
    "execution": {
     "iopub.execute_input": "2023-08-22T19:20:22.148384Z",
     "iopub.status.busy": "2023-08-22T19:20:22.147846Z",
     "iopub.status.idle": "2023-08-22T19:20:22.154702Z",
     "shell.execute_reply": "2023-08-22T19:20:22.153336Z"
    },
    "papermill": {
     "duration": 0.143677,
     "end_time": "2023-08-22T19:20:22.157716",
     "exception": false,
     "start_time": "2023-08-22T19:20:22.014039",
     "status": "completed"
    },
    "tags": []
   },
   "outputs": [],
   "source": [
    "# neg_vocab = get_common_vocab([neg_scores, neg_scores], ngram_range_list=[(1,1), (2,2), (3,3)])\n",
    "# print(len(neg_vocab))\n",
    "# # sorted(list(neg_vocab))"
   ]
  },
  {
   "cell_type": "code",
   "execution_count": 122,
   "id": "be393b0d",
   "metadata": {
    "execution": {
     "iopub.execute_input": "2023-08-22T19:20:22.414371Z",
     "iopub.status.busy": "2023-08-22T19:20:22.413601Z",
     "iopub.status.idle": "2023-08-22T19:20:22.419231Z",
     "shell.execute_reply": "2023-08-22T19:20:22.418351Z"
    },
    "papermill": {
     "duration": 0.129401,
     "end_time": "2023-08-22T19:20:22.421995",
     "exception": false,
     "start_time": "2023-08-22T19:20:22.292594",
     "status": "completed"
    },
    "tags": []
   },
   "outputs": [],
   "source": [
    "# print(len(get_vocab(neg_scores['reviewText'], ngram_range=(1,1))))\n",
    "# print(len(get_vocab(neg_scores['reviewText'], ngram_range=(2,2))))\n",
    "# print(len(get_vocab(neg_scores['reviewText'], ngram_range=(3,3))))"
   ]
  },
  {
   "cell_type": "code",
   "execution_count": 123,
   "id": "55fc840d",
   "metadata": {
    "execution": {
     "iopub.execute_input": "2023-08-22T19:20:22.668394Z",
     "iopub.status.busy": "2023-08-22T19:20:22.667411Z",
     "iopub.status.idle": "2023-08-22T19:20:22.672618Z",
     "shell.execute_reply": "2023-08-22T19:20:22.671589Z"
    },
    "papermill": {
     "duration": 0.131775,
     "end_time": "2023-08-22T19:20:22.675294",
     "exception": false,
     "start_time": "2023-08-22T19:20:22.543519",
     "status": "completed"
    },
    "tags": []
   },
   "outputs": [],
   "source": [
    "# len(pos_vocab), len(neg_vocab), len(pos_vocab - neg_vocab), len(neg_vocab - pos_vocab), len(pos_vocab & neg_vocab)"
   ]
  },
  {
   "cell_type": "markdown",
   "id": "def59aa8",
   "metadata": {
    "papermill": {
     "duration": 0.119871,
     "end_time": "2023-08-22T19:20:22.919641",
     "exception": false,
     "start_time": "2023-08-22T19:20:22.799770",
     "status": "completed"
    },
    "tags": []
   },
   "source": [
    "### Common pos, neg vocabs among train and test  "
   ]
  },
  {
   "cell_type": "code",
   "execution_count": 124,
   "id": "dfa04a8a",
   "metadata": {
    "execution": {
     "iopub.execute_input": "2023-08-22T19:20:23.165959Z",
     "iopub.status.busy": "2023-08-22T19:20:23.165215Z",
     "iopub.status.idle": "2023-08-22T19:20:23.169828Z",
     "shell.execute_reply": "2023-08-22T19:20:23.169027Z"
    },
    "papermill": {
     "duration": 0.128643,
     "end_time": "2023-08-22T19:20:23.172227",
     "exception": false,
     "start_time": "2023-08-22T19:20:23.043584",
     "status": "completed"
    },
    "tags": []
   },
   "outputs": [],
   "source": [
    "# len(common_1_2_3_grams & (pos_vocab - neg_vocab))"
   ]
  },
  {
   "cell_type": "code",
   "execution_count": 125,
   "id": "eff250b9",
   "metadata": {
    "execution": {
     "iopub.execute_input": "2023-08-22T19:20:23.410096Z",
     "iopub.status.busy": "2023-08-22T19:20:23.409362Z",
     "iopub.status.idle": "2023-08-22T19:20:23.414567Z",
     "shell.execute_reply": "2023-08-22T19:20:23.413151Z"
    },
    "papermill": {
     "duration": 0.124908,
     "end_time": "2023-08-22T19:20:23.417089",
     "exception": false,
     "start_time": "2023-08-22T19:20:23.292181",
     "status": "completed"
    },
    "tags": []
   },
   "outputs": [],
   "source": [
    "# len(common_1_2_3_grams & (neg_vocab - pos_vocab))"
   ]
  },
  {
   "cell_type": "code",
   "execution_count": 126,
   "id": "eda2c30a",
   "metadata": {
    "execution": {
     "iopub.execute_input": "2023-08-22T19:20:23.649874Z",
     "iopub.status.busy": "2023-08-22T19:20:23.649416Z",
     "iopub.status.idle": "2023-08-22T19:20:23.659211Z",
     "shell.execute_reply": "2023-08-22T19:20:23.658301Z"
    },
    "papermill": {
     "duration": 0.129044,
     "end_time": "2023-08-22T19:20:23.661709",
     "exception": false,
     "start_time": "2023-08-22T19:20:23.532665",
     "status": "completed"
    },
    "tags": []
   },
   "outputs": [],
   "source": [
    "def audienceScore_vocab(df_list, scores=(57, 73), ngram_range_list=[(1,1), (2,2), (3,3)]):\n",
    "    train = df_list[0]\n",
    "    test = df_list[1]\n",
    "\n",
    "    lower_bound = scores[0]\n",
    "    upper_bound = scores[1]\n",
    "\n",
    "    common_ngrams = get_common_vocab([train, test], ngram_range_list=ngram_range_list)\n",
    "\n",
    "    pos_scores = train[['reviewText', 'sentiment']].loc[(train['audienceScore'] > upper_bound) & (train['sentiment'] == 'POSITIVE')].copy()\n",
    "    neg_scores = train[['reviewText', 'sentiment']].loc[(train['audienceScore'] < lower_bound) & (train['sentiment'] == 'NEGATIVE')].copy()\n",
    "\n",
    "    pos_vocab = get_common_vocab([pos_scores, pos_scores], ngram_range_list=ngram_range_list)\n",
    "    neg_vocab = get_common_vocab([neg_scores, neg_scores], ngram_range_list=ngram_range_list)\n",
    "\n",
    "    pure_common_pos = common_ngrams & (pos_vocab - neg_vocab)\n",
    "    pure_common_neg = common_ngrams & (neg_vocab - pos_vocab)\n",
    "\n",
    "    return pure_common_pos, pure_common_neg"
   ]
  },
  {
   "cell_type": "code",
   "execution_count": 127,
   "id": "8735080b",
   "metadata": {
    "execution": {
     "iopub.execute_input": "2023-08-22T19:20:23.898508Z",
     "iopub.status.busy": "2023-08-22T19:20:23.897264Z",
     "iopub.status.idle": "2023-08-22T19:20:23.901924Z",
     "shell.execute_reply": "2023-08-22T19:20:23.901067Z"
    },
    "papermill": {
     "duration": 0.123297,
     "end_time": "2023-08-22T19:20:23.904122",
     "exception": false,
     "start_time": "2023-08-22T19:20:23.780825",
     "status": "completed"
    },
    "tags": []
   },
   "outputs": [],
   "source": [
    "# pcp, pcn = audienceScore_vocab([merged, merged_test])\n",
    "# len(pcp), len(pcn)"
   ]
  },
  {
   "cell_type": "code",
   "execution_count": 128,
   "id": "f162efb0",
   "metadata": {
    "execution": {
     "iopub.execute_input": "2023-08-22T19:20:24.137831Z",
     "iopub.status.busy": "2023-08-22T19:20:24.137429Z",
     "iopub.status.idle": "2023-08-22T19:20:24.142202Z",
     "shell.execute_reply": "2023-08-22T19:20:24.141333Z"
    },
    "papermill": {
     "duration": 0.123873,
     "end_time": "2023-08-22T19:20:24.144235",
     "exception": false,
     "start_time": "2023-08-22T19:20:24.020362",
     "status": "completed"
    },
    "tags": []
   },
   "outputs": [],
   "source": [
    "# pc = pcp | pcn\n",
    "# sorted(list(pc))"
   ]
  },
  {
   "cell_type": "markdown",
   "id": "94465832",
   "metadata": {
    "papermill": {
     "duration": 0.11344,
     "end_time": "2023-08-22T19:20:24.371376",
     "exception": false,
     "start_time": "2023-08-22T19:20:24.257936",
     "status": "completed"
    },
    "tags": []
   },
   "source": [
    "# Submit_v5 for merged file models  "
   ]
  },
  {
   "cell_type": "markdown",
   "id": "70a8c3de",
   "metadata": {
    "papermill": {
     "duration": 0.113767,
     "end_time": "2023-08-22T19:20:24.598697",
     "exception": false,
     "start_time": "2023-08-22T19:20:24.484930",
     "status": "completed"
    },
    "tags": []
   },
   "source": [
    "### More Helper functions  "
   ]
  },
  {
   "cell_type": "code",
   "execution_count": 129,
   "id": "c21fe8b3",
   "metadata": {
    "execution": {
     "iopub.execute_input": "2023-08-22T19:20:24.833962Z",
     "iopub.status.busy": "2023-08-22T19:20:24.833469Z",
     "iopub.status.idle": "2023-08-22T19:20:24.842153Z",
     "shell.execute_reply": "2023-08-22T19:20:24.840758Z"
    },
    "papermill": {
     "duration": 0.130625,
     "end_time": "2023-08-22T19:20:24.844776",
     "exception": false,
     "start_time": "2023-08-22T19:20:24.714151",
     "status": "completed"
    },
    "tags": []
   },
   "outputs": [],
   "source": [
    "# Testing predictions on missing reviewtext columns  \n",
    "\n",
    "def predict_on_missing_review_data(pipe, selected_features, merged_train):\n",
    "    missing_reviews_train = merged_train.loc[merged_train['reviewYN'] == 1]\n",
    "    missing_reviews_train.reset_index(drop=True)\n",
    "    X_train_miss_revs = missing_reviews_train.drop('sentiment', axis = 1)\n",
    "    X_train_miss_revs = X_train_miss_revs[selected_features]\n",
    "    y_train_miss_revs = missing_reviews_train['sentiment']\n",
    "    \n",
    "    y_pred_miss_revs = pipe.predict(X_train_miss_revs)\n",
    "#     print('Predictions on rows which had missing reviewText')\n",
    "    print(\"Confusion matrix and f1-score for rows which have no reviewText in X_train: \")\n",
    "    print(confusion_matrix(y_train_miss_revs, y_pred_miss_revs, labels=pipe.classes_))\n",
    "    \n",
    "    return f1_score(y_train_miss_revs, y_pred_miss_revs, average='micro')"
   ]
  },
  {
   "cell_type": "code",
   "execution_count": 130,
   "id": "86216f5f",
   "metadata": {
    "execution": {
     "iopub.execute_input": "2023-08-22T19:20:25.079183Z",
     "iopub.status.busy": "2023-08-22T19:20:25.078631Z",
     "iopub.status.idle": "2023-08-22T19:20:25.117148Z",
     "shell.execute_reply": "2023-08-22T19:20:25.115915Z"
    },
    "papermill": {
     "duration": 0.159177,
     "end_time": "2023-08-22T19:20:25.120032",
     "exception": false,
     "start_time": "2023-08-22T19:20:24.960855",
     "status": "completed"
    },
    "tags": []
   },
   "outputs": [],
   "source": [
    "# Function to build pipelines for GridSearchCV which goes into the final 'submit' function  \n",
    "def build_pipeline(selected_model=LogisticRegression(), \n",
    "                   selected_features={'txt': ['reviewText']}, \n",
    "                   param_grid=None,\n",
    "                   vocab=None,\n",
    "                   vocab_usage='tfidf',\n",
    "                   strip_accents='unicode', \n",
    "                   add_countvec=False,\n",
    "                   vocab_audscore=None,\n",
    "                  poly=True):\n",
    "    # Encoders  \n",
    "    ohe = OneHotEncoder(sparse_output=False, handle_unknown='ignore')\n",
    "    MMscaler = MinMaxScaler()\n",
    "    StdScaler = StandardScaler()\n",
    "    RobScaler = RobustScaler()\n",
    "    \n",
    "    # Categorical features\n",
    "    cat_pipe = Pipeline(steps=[\n",
    "                            (\"ohe\", ohe),\n",
    "                        ])\n",
    "    \n",
    "    # Numerical features\n",
    "    num_pipe = Pipeline(steps=[\n",
    "                            (\"robscaler\", RobustScaler()),\n",
    "                            (\"stdscaler\", StandardScaler())\n",
    "                        ])\n",
    "    num_pipe_poly = Pipeline(steps=[\n",
    "                            (\"robscaler\", RobustScaler()),\n",
    "                            (\"stdscaler\", StandardScaler()),\n",
    "                            (\"poly\", PolynomialFeatures(degree=2, interaction_only=True, include_bias=False))\n",
    "                        ])\n",
    "    \n",
    "    # Text features ['reviewText', 'reviewerName', 'movieid', 'genre', 'director']\n",
    "    tfidf_vec = TfidfVectorizer(ngram_range=(1,2))\n",
    "    count_vec = CountVectorizer(ngram_range=(1,2))\n",
    "    txt_pipe = Pipeline(steps=[\n",
    "                            (\"tvec\", TfidfVectorizer(ngram_range=(1,4), strip_accents=strip_accents))    # Adjust ngram_range here for reviewText\n",
    "                        ])\n",
    "    txt_pipe_vocab = Pipeline(steps=[\n",
    "                            (\"tvec\", TfidfVectorizer(ngram_range=(1,4), strip_accents=strip_accents, vocabulary=vocab))    # Adjust ngram_range here for reviewText\n",
    "                        ])\n",
    "    txt_pipe_2 = Pipeline(steps=[\n",
    "                            (\"tvec\", TfidfVectorizer(ngram_range=(2,2)))\n",
    "                        ])\n",
    "    txt_pipe_3 = Pipeline(steps=[\n",
    "                            (\"tvec\", TfidfVectorizer(ngram_range=(1,1)))\n",
    "                        ])\n",
    "    txt_pipe_4 = Pipeline(steps=[\n",
    "                            (\"tvec\", TfidfVectorizer(ngram_range=(1,3)))    # Adjust ngram_range here for reviewText\n",
    "                        ])\n",
    "    txt_pipe_title  = Pipeline(steps=[\n",
    "                            (\"tvec\", TfidfVectorizer(ngram_range=(1,5)))    # Adjust ngram_range here for reviewText\n",
    "                        ])\n",
    "    \n",
    "    # Additional pipes for count vectorizer\n",
    "    txt_pipe_countvec = Pipeline(steps=[\n",
    "                            (\"cvec\", CountVectorizer(ngram_range=(1,4), strip_accents=strip_accents))    # Adjust ngram_range here for reviewText\n",
    "                        ])\n",
    "    txt_pipe_countvec_vocab = Pipeline(steps=[\n",
    "                            (\"cvec\", CountVectorizer(ngram_range=(1,4), strip_accents=strip_accents, vocabulary=vocab))    # Adjust ngram_range here for reviewText\n",
    "                        ])\n",
    "    txt_pipe_countvec_vocab_audscore = Pipeline(steps=[\n",
    "                            (\"cvec\", CountVectorizer(ngram_range=(1,4), strip_accents=strip_accents, vocabulary=vocab_audscore))    # Adjust ngram_range here for reviewText\n",
    "                        ])\n",
    "    \n",
    "    txt_pipe_countvec_ratingContents = Pipeline(steps=[\n",
    "                            (\"cvec\", CountVectorizer(ngram_range=(1,5)))    # Adjust ngram_range here for reviewText\n",
    "                        ])\n",
    "    txt_pipe_countvec_rcSorted = Pipeline(steps=[\n",
    "                            (\"cvec\", CountVectorizer(ngram_range=(1,1)))    # Adjust ngram_range here for reviewText\n",
    "                        ])\n",
    "    txt_pipe_countvec_genre = Pipeline(steps=[\n",
    "                            (\"cvec\", CountVectorizer(ngram_range=(1,1)))\n",
    "                        ])\n",
    "    txt_pipe_countvec_genreSorted = Pipeline(steps=[\n",
    "                            (\"cvec\", CountVectorizer(ngram_range=(1,5)))\n",
    "                        ])\n",
    "    txt_pipe_countvec_distributor = Pipeline(steps=[\n",
    "                            (\"cvec\", CountVectorizer(ngram_range=(1,3)))    # Adjust ngram_range here for reviewText\n",
    "                        ])\n",
    "    txt_pipe_countvec_title = Pipeline(steps=[\n",
    "                            (\"cvec\", CountVectorizer(ngram_range=(1,5), strip_accents=strip_accents))\n",
    "                        ])\n",
    "    txt_pipe_countvec_movieid = Pipeline(steps=[\n",
    "                            (\"cvec\", CountVectorizer(ngram_range=(1,1)))\n",
    "                        ])\n",
    "    # Basic pipes  \n",
    "    TFs = []\n",
    "    try:\n",
    "        TFs.append((f\"cat\", ohe, selected_features['cat']))\n",
    "#         for c in selected_features['cat']:\n",
    "#             TFs.append((f\"cat_{c}\", ohe, [c]))\n",
    "    except:\n",
    "        pass\n",
    "    \n",
    "    try:\n",
    "        if poly:\n",
    "            TFs.append((f\"num\", num_pipe_poly, selected_features['num']))\n",
    "        else:\n",
    "            TFs.append((f\"num\", num_pipe, selected_features['num']))\n",
    "#             for n in selected_features['num']:\n",
    "#                 if n in [\"runtimeMinutes\", \"boxOffice\", \"releaseDiff\"]:\n",
    "#                     TFs.append((f\"num_{n}\", RobScaler, [n]))\n",
    "#                     TFs.append((f\"num_{n}_ss\", StdScaler, [n]))\n",
    "\n",
    "#                 else:\n",
    "#                     TFs.append((f\"num_{n}\", StdScaler, [n]))\n",
    "    except:\n",
    "        pass\n",
    "    \n",
    "    try:\n",
    "        for t in selected_features['txt']:\n",
    "            if t in ['director', 'reviewerName']:\n",
    "                TFs.append((f\"txt_{t}\", txt_pipe_2, t))\n",
    "            elif t in [\"originalLanguage\", \"releaseYear\"]:\n",
    "                TFs.append((f\"txt_{t}\", txt_pipe_3, t))\n",
    "            elif t in ['genre']:\n",
    "                TFs.append((f\"txt_{t}\", txt_pipe_countvec_genre, t))\n",
    "            elif t in [\"genreSorted\"]:\n",
    "                TFs.append((f\"txt_{t}\", txt_pipe_countvec_genreSorted, t))\n",
    "            elif t in [\"distributor\"]:\n",
    "                TFs.append((f\"txt_{t}\", txt_pipe_countvec_distributor, t))\n",
    "                \n",
    "            elif t in ['reviewText']:\n",
    "#                 if vocab and (vocab_usage in [\"tfidf\", \"both\"]):\n",
    "#                     txt_pipe.set_params(tvec__vocabulary=vocab)\n",
    "#                     txt_pipe.set_params(tvec__stop_words='english')\n",
    "                TFs.append((f\"txt_{t}\", txt_pipe, t))\n",
    "            elif t in ['reviewText_2']:\n",
    "                if add_countvec:\n",
    "#                     if vocab and (vocab_usage in [\"count\", \"both\"]):\n",
    "#                         txt_pipe_countvec.set_params(cvec__vocabulary=vocab)\n",
    "#                         txt_pipe_countvec.set_params(cvec__stop_words='english')\n",
    "                    TFs.append((f\"txt_{t}\", txt_pipe_countvec, t))\n",
    "            elif t in ['reviewText_3']:\n",
    "                if vocab_usage == 'tfidf':\n",
    "                    TFs.append((f\"txt_{t}\", txt_pipe_vocab, t))\n",
    "                elif vocab_usage == 'count':\n",
    "                    TFs.append((f\"txt_{t}\", txt_pipe_countvec_vocab, t))\n",
    "            elif t in ['reviewText_4']:\n",
    "                if vocab_audscore:                    \n",
    "                    TFs.append((f\"txt_{t}\", txt_pipe_countvec_vocab_audscore, t))\n",
    "                    \n",
    "            elif t in [\"ratingContents\"]:\n",
    "                TFs.append((f\"txt_{t}\", txt_pipe_countvec_ratingContents, t))\n",
    "            elif t in [\"rcSorted\"]:\n",
    "                TFs.append((f\"txt_{t}\", txt_pipe_countvec_rcSorted, t))\n",
    "            elif t in [\"title\"]:\n",
    "                TFs.append((f\"txt_{t}\", txt_pipe_title, t))\n",
    "            elif t in [\"movieid\"]:\n",
    "                TFs.append((f\"txt_{t}\", txt_pipe_countvec_movieid, t))\n",
    "            else:\n",
    "                pass\n",
    "    except:\n",
    "        pass\n",
    "\n",
    "    # Build ColumnTransformer  \n",
    "    ct = ColumnTransformer(transformers=TFs, remainder='drop')\n",
    "\n",
    "    # Build Pipeline\n",
    "    pipe = Pipeline(steps=[('ct', ct), ('model', selected_model)])\n",
    "    print(\"\\nPipeline built successfully.\")\n",
    "\n",
    "    # Use the pipe in GridSearchCV\n",
    "    if param_grid == None:\n",
    "        param_grid_temp = {\"model__C\": [1],\n",
    "                     'model__solver': ['liblinear']}\n",
    "        print(\"Full GridSearchCV pipeline built successfully with basic default param_grid.\\n\")\n",
    "        pipeCV = GridSearchCV(pipe, param_grid_temp, cv=10, scoring=\"f1_micro\", n_jobs=-1)\n",
    "        return pipeCV\n",
    "    \n",
    "    # GridSearchCV if param_grid provided\n",
    "    if param_grid:\n",
    "        pipeCV = GridSearchCV(pipe, param_grid, cv=10, scoring=\"f1_micro\", n_jobs=-1)\n",
    "        print(\"\\nFull GridSearchCV pipeline built successfully.\")\n",
    "        return pipeCV"
   ]
  },
  {
   "cell_type": "code",
   "execution_count": 131,
   "id": "a7126cf8",
   "metadata": {
    "execution": {
     "iopub.execute_input": "2023-08-22T19:20:25.363972Z",
     "iopub.status.busy": "2023-08-22T19:20:25.362965Z",
     "iopub.status.idle": "2023-08-22T19:20:25.386774Z",
     "shell.execute_reply": "2023-08-22T19:20:25.385383Z"
    },
    "papermill": {
     "duration": 0.150226,
     "end_time": "2023-08-22T19:20:25.390623",
     "exception": false,
     "start_time": "2023-08-22T19:20:25.240397",
     "status": "completed"
    },
    "tags": []
   },
   "outputs": [],
   "source": [
    "def preprocessor(imputer_type='simple'):\n",
    "    \n",
    "    \"\"\"Preprocess train or test data. Choose 'simple' or 'knn' imputers to impute missing numerical values\"\"\"\n",
    "    \n",
    "    # Set imputer  \n",
    "    if imputer_type == 'simple':\n",
    "        imputer = SimpleImputer(strategy='median')\n",
    "        print(imputer)\n",
    "    elif imputer_type == 'knn':\n",
    "        imputer = KNNImputer(weights='distance', n_neighbors=3)    # Adjust KNNImputer params here\n",
    "        print(imputer)\n",
    "\n",
    "\n",
    "    \n",
    "    # Merge and preprocess train and movies data  \n",
    "    merged = select_features(load_csv(\"train\"), load_csv(\"movies\"), row_thresh_null=None)    # Decide if you want to drop any rows containing lot of nulls\n",
    "    \n",
    "    # Impute missing numerical values  \n",
    "    merged[['audienceScore', 'runtimeMinutes', 'boxOffice']] = imputer.fit_transform(merged[['audienceScore', 'runtimeMinutes', 'boxOffice']])\n",
    "    merged['releaseDate'] = merged[\"releaseDate\"].fillna(merged[\"releaseDate\"].median())\n",
    "\n",
    "    # Create new feature columns\n",
    "    \n",
    "    # Convert audienceScore to categories  \n",
    "    num_bins_as = 20\n",
    "    merged[\"audScoreBins\"] = pd.cut(merged['audienceScore'], bins=num_bins_as, labels=False)\n",
    "\n",
    "    # Convert runtimeMinutes to categories  \n",
    "#     num_bins_rt = 20\n",
    "    merged[\"runtimeBins\"] = pd.cut(merged['runtimeMinutes'], bins=[0,75,120,180,565], labels=[4,3,2,1])\n",
    "    \n",
    "    # Convert boxOffice to categories  \n",
    "    num_bins_bo = 5\n",
    "    merged[\"boxOfficeBins\"] = pd.cut(merged['boxOffice'], bins=num_bins_bo, labels=False)\n",
    "    \n",
    "    # Convert releaseDiff to categories  \n",
    "    num_bins_rd = 5\n",
    "    merged[\"releaseDiffBins\"] = pd.cut(merged['releaseDiff'], bins=[-1, 180, 360, 1000, 40000], labels=[0, 1, 2, 3])\n",
    "    \n",
    "    # Check1 (preprocessor)\n",
    "    print(\"\\nCheck 1 (preprocessor) complete.\")\n",
    "    print(f\"Shape of X_train: {merged.shape}\")\n",
    "    print(f\"Features in X_train: {merged.columns}\")\n",
    "\n",
    "\n",
    "    \n",
    "    # Merge and preprocess test and movies data  \n",
    "    merged_test = select_features(load_csv(\"test\"), load_csv(\"movies\"))\n",
    "    \n",
    "    # Transform ['audienceScore', 'runtimeMinutes', 'boxOffice'] columns in merged_test using 'imputer' fitted on 'merged' df  \n",
    "    merged_test[['audienceScore', 'runtimeMinutes', 'boxOffice']] = imputer.transform(merged_test[['audienceScore', 'runtimeMinutes', 'boxOffice']])\n",
    "    \n",
    "    # Fill 'releaseDate' column in 'merged_test' df with median from the train (merged) df  \n",
    "    merged_test['releaseDate'] = merged_test[\"releaseDate\"].fillna(merged[\"releaseDate\"].median())\n",
    "\n",
    "    \n",
    "    # Create new feature columns\n",
    "    \n",
    "    # Convert audienceScore to categories  \n",
    "    num_bins_as = 20\n",
    "    merged_test[\"audScoreBins\"] = pd.cut(merged_test['audienceScore'], bins=num_bins_as, labels=False)\n",
    "    \n",
    "    # Convert runtimeMinutes to categories  \n",
    "#     num_bins_rt = 20\n",
    "    merged_test[\"runtimeBins\"] = pd.cut(merged_test['runtimeMinutes'], bins=[0,75,120,180,565], labels=[4,3,2,1])\n",
    "    \n",
    "    # Convert boxOffice to categories  \n",
    "    num_bins_bo = 5\n",
    "    merged_test[\"boxOfficeBins\"] = pd.cut(merged_test['boxOffice'], bins=num_bins_bo, labels=False)\n",
    "    \n",
    "    # Convert releaseDiff to categories  \n",
    "    num_bins_rd = 5\n",
    "    merged_test[\"releaseDiffBins\"] = pd.cut(merged_test['releaseDiff'], bins=[-1, 180, 360, 1000, 40000], labels=[0, 1, 2, 3])\n",
    "    \n",
    "    \n",
    "    # Check2 (preprocessor)\n",
    "    print(\"\\nCheck 2 (preprocessor) complete.\")\n",
    "    print(f\"Shape of X_test: {merged_test.shape}\")\n",
    "    print(f\"Features in X_test: {merged_test.columns}\")\n",
    "\n",
    "    return merged, merged_test\n",
    "    "
   ]
  },
  {
   "cell_type": "code",
   "execution_count": 132,
   "id": "9caf644e",
   "metadata": {
    "execution": {
     "iopub.execute_input": "2023-08-22T19:20:25.702657Z",
     "iopub.status.busy": "2023-08-22T19:20:25.701381Z",
     "iopub.status.idle": "2023-08-22T19:20:25.706278Z",
     "shell.execute_reply": "2023-08-22T19:20:25.705315Z"
    },
    "papermill": {
     "duration": 0.189559,
     "end_time": "2023-08-22T19:20:25.708476",
     "exception": false,
     "start_time": "2023-08-22T19:20:25.518917",
     "status": "completed"
    },
    "tags": []
   },
   "outputs": [],
   "source": [
    "# merged, merged_test = preprocessor()\n",
    "# merged.shape, merged_test.shape"
   ]
  },
  {
   "cell_type": "code",
   "execution_count": 133,
   "id": "351ff29b",
   "metadata": {
    "execution": {
     "iopub.execute_input": "2023-08-22T19:20:25.942751Z",
     "iopub.status.busy": "2023-08-22T19:20:25.941883Z",
     "iopub.status.idle": "2023-08-22T19:20:25.958948Z",
     "shell.execute_reply": "2023-08-22T19:20:25.957745Z"
    },
    "papermill": {
     "duration": 0.13617,
     "end_time": "2023-08-22T19:20:25.961666",
     "exception": false,
     "start_time": "2023-08-22T19:20:25.825496",
     "status": "completed"
    },
    "tags": []
   },
   "outputs": [],
   "source": [
    "def voting_clf_custom(estimators: list, merged, merged_test):\n",
    "    print(f\"\\nRunning the voting_clf_custom function...\")\n",
    "    print(f\"\\nNumber of estimator pipelines provided: {len(estimators)}\")\n",
    "       \n",
    "    # Create X_train, y_train\n",
    "    X_train = merged.drop(labels=\"sentiment\", axis=1)\n",
    "    y_train = merged[\"sentiment\"]\n",
    "    print(f\"\\nX_train and y_train created.\")\n",
    "    print(f\"Shape of X_train: { X_train.shape}\")\n",
    "    print(f\"Columns in X_train: {X_train.columns}\")\n",
    "    print(f\"\\nShape of y_train: { y_train.shape}\")\n",
    "    print(f\"Inspect y_train: {y_train.head()}\")\n",
    "    \n",
    "    # Create X_test\n",
    "    X_test = merged_test.copy()\n",
    "    print(f\"\\nX_test created.\")\n",
    "    print(f\"Shape of X_test: { X_test.shape}\")\n",
    "    print(f\"Columns in X_test: {X_test.columns}\")\n",
    "\n",
    "    \n",
    "    # Create a list for estimators after fitting  \n",
    "    fitted_estimators = []\n",
    "    \n",
    "    # Build a dataframe of predictions  \n",
    "    predictions_df = pd.DataFrame()\n",
    "    \n",
    "    for n, item in enumerate(estimators, start=1):\n",
    "        \n",
    "        # Get the pipeline\n",
    "        pipe = item[1]\n",
    "        \n",
    "        # Fit \n",
    "        print(f\"\\nTraining started with full pipeline for classifier #{n}/{len(estimators)}...\")\n",
    "#         print(f\"Features included in the pipeline: {pipe.feature_names_in_}\")      # Gives an error\n",
    "        pipe.fit(X_train, y_train)\n",
    "        \n",
    "\n",
    "        # Check1\n",
    "        print(f\"\\nCheck #{n}.1 complete.\")\n",
    "        print(f\"Details of the best model using classifier #{n} (GridSearchCV) on X_train: \")\n",
    "        print(f\"Best Params: {pipe.best_params_}\")\n",
    "        print(f\"Best Score: {pipe.best_score_}\")\n",
    "        \n",
    "#         print(predict_on_missing_review_data(pipe, features, merged))    # Function defined above\n",
    "        \n",
    "        fitted_estimators.append((f\"classifier_{n}\", pipe))\n",
    "        print(f\"\\nclassifier_{n} successfully added to 'fitted_estimators' list\")\n",
    "\n",
    "        \n",
    "        # Predict on train data \n",
    "        y_train_pred = pipe.predict(X_train)\n",
    "        print(f\"\\nConfusion matrix for predictions on training data: \")\n",
    "        print(confusion_matrix(y_train, y_train_pred))\n",
    "        f1_train = f1_score(y_train, y_train_pred, average=\"micro\")\n",
    "        print(f\"F1-score on training data: {f1_train}\")\n",
    "        \n",
    "        # Predict on test data  \n",
    "        y_pred = pipe.predict(X_test)\n",
    "        \n",
    "        # Insert predictions in 'predictions_df' dataframe\n",
    "        predictions_df.insert(n-1, f\"pred_{n}\", y_pred, allow_duplicates=False)\n",
    "        print(predictions_df.shape)\n",
    "        print(predictions_df.head(10))\n",
    "        \n",
    "    \n",
    "        # Check2\n",
    "        print(f\"\\nCheck #{n}.2 complete.\")\n",
    "    #     cv_results_df = pd.DataFrame(pipe.cv_results_)\n",
    "        print(\"Details of the best model using full pipeline (GridSearchCV) on X_train: \")\n",
    "#         print(f\"Best Estimator: {pipe.best_estimator_}\")\n",
    "        print(f\"Best Params: {pipe.best_params_}\")\n",
    "        print(f\"Best Score: {pipe.best_score_}\")\n",
    "#         print(f\"Best Index: {pipe.best_index_}\")\n",
    "        print(f\"Refit Time: {pipe.refit_time_}\")\n",
    "    #     print(f\"Shape of CV results dataframe: {cv_results_df.shape}\")\n",
    "    \n",
    "    \n",
    "    # Voting classifier (custom) with hard voting\n",
    "    # Calculate the MODE for all predictions (Note that the 'predictions_df' generated above should have odd number of columns)\n",
    "    print(f\"\\nTaking votes from all the classifiers/estimators...\")\n",
    "    pred_df_final = predictions_df.mode('columns').iloc[: , 0]\n",
    "    pred_df_final.columns = [\"sentiment\"]\n",
    "    pred_df_final.index.name = \"id\"\n",
    "    pred_df_final.to_csv(\"submission.csv\")\n",
    "    \n",
    "    print(\"\\nSuccessfully created the submission file!!!\")\n",
    "    \n",
    "#     return pipe.cv_results_\n",
    "    return pred_df_final, fitted_estimators"
   ]
  },
  {
   "cell_type": "code",
   "execution_count": 134,
   "id": "70674c28",
   "metadata": {
    "execution": {
     "iopub.execute_input": "2023-08-22T19:20:26.195714Z",
     "iopub.status.busy": "2023-08-22T19:20:26.195176Z",
     "iopub.status.idle": "2023-08-22T19:20:26.207741Z",
     "shell.execute_reply": "2023-08-22T19:20:26.206460Z"
    },
    "papermill": {
     "duration": 0.132096,
     "end_time": "2023-08-22T19:20:26.210508",
     "exception": false,
     "start_time": "2023-08-22T19:20:26.078412",
     "status": "completed"
    },
    "tags": []
   },
   "outputs": [],
   "source": [
    "def  stacking_clf(estimators: list, merged, merged_test):\n",
    "    print(f\"\\nRunning the stacking_clf function...\")\n",
    "    print(f\"\\nNumber of estimator pipelines provided: {len(estimators)}\")\n",
    "    \n",
    "    # Create X_train, y_train\n",
    "    X_train = merged.drop(labels=\"sentiment\", axis=1)\n",
    "    y_train = merged[\"sentiment\"]\n",
    "    print(f\"\\nX_train and y_train created.\")\n",
    "    print(f\"Shape of X_train: { X_train.shape}\")\n",
    "    print(f\"Columns in X_train: {X_train.columns}\")\n",
    "    print(f\"\\nShape of y_train: { y_train.shape}\")\n",
    "    print(f\"Inspect y_train: {y_train.head()}\")\n",
    "    \n",
    "    # Create X_test\n",
    "    X_test = merged_test.copy()\n",
    "    print(f\"\\nX_test created.\")\n",
    "    print(f\"Shape of X_test: { X_test.shape}\")\n",
    "    print(f\"Columns in X_test: {X_test.columns}\")\n",
    "    \n",
    "    # Build the stacking classifier\n",
    "    stacking_classifier = StackingClassifier(estimators=estimators, \n",
    "                                             final_estimator=LogisticRegression(),\n",
    "                                             cv=5,\n",
    "                                             stack_method = 'auto',\n",
    "                                             passthrough = False,\n",
    "                                            verbose = 10,  # Control how many messages are displayed\n",
    "                                            n_jobs = 1)    \n",
    "    print(f\"\\nstacking_classifier object created.\")\n",
    "    print(stacking_classifier)\n",
    "    \n",
    "    # Fit the stacking classifer\n",
    "    print(f\"\\nstacking_classifier has begun training. Be patient, this can take a long time...\")\n",
    "    stacking_classifier.fit(X_train, y_train)\n",
    "    \n",
    "    # Predict on X_test\n",
    "    y_pred = stacking_classifier.predict(X_test)\n",
    "    \n",
    "    # Create 'submission.csv' file\n",
    "    pred_df = pd.DataFrame(y_pred)\n",
    "    pred_df.columns = [\"sentiment\"]\n",
    "    pred_df.index.name = \"id\"\n",
    "    pred_df.to_csv(\"submission.csv\")\n",
    "    \n",
    "    print(\"\\nSuccessfully created the submission file!!!\")\n",
    "    \n",
    "    return pred_df, stacking_classifier"
   ]
  },
  {
   "cell_type": "code",
   "execution_count": 135,
   "id": "cc7d00d8",
   "metadata": {
    "execution": {
     "iopub.execute_input": "2023-08-22T19:20:26.446453Z",
     "iopub.status.busy": "2023-08-22T19:20:26.445629Z",
     "iopub.status.idle": "2023-08-22T19:20:26.474755Z",
     "shell.execute_reply": "2023-08-22T19:20:26.473857Z"
    },
    "papermill": {
     "duration": 0.149393,
     "end_time": "2023-08-22T19:20:26.477397",
     "exception": false,
     "start_time": "2023-08-22T19:20:26.328004",
     "status": "completed"
    },
    "tags": []
   },
   "outputs": [],
   "source": [
    "def submit_v5(classifiers= [\n",
    "                {'selected_model' : LogisticRegression(C=1, solver='saga', max_iter=100000),\n",
    "                 'param_grid' : None,\n",
    "                 'selected_features' : {'num': ['audienceScore']},\n",
    "                 'vocab' : None,\n",
    "                 'vocab_usage' : 'tfidf',\n",
    "                 'strip_accents' : 'unicode',\n",
    "                 'add_countvec' : False,\n",
    "                'vocab_audscore' : None}\n",
    "              ], \n",
    "            imputer_type='simple',\n",
    "              poly=True,\n",
    "              ensemble_type='voting_custom'\n",
    "            ):\n",
    "    \n",
    "    \"\"\"Takes a list of dictionaries each with same keys as mentioned in the default dictionary in function definition\"\"\"\n",
    "    \n",
    "    print(\"\\nRunning the submit_v5 function...\")\n",
    "    \n",
    "    print(f\"\\nData preprocessor initiated...\")\n",
    "    \n",
    "    imputer_type = imputer_type\n",
    "    print(f\"\\nImputer for missing numerical values: {imputer_type}\")\n",
    "    print(f\"Imputing missing values. (This could take a while if it is KNNImputer)\")\n",
    "    \n",
    "    merged, merged_test = preprocessor(imputer_type=imputer_type)\n",
    "    print(f\"\\nPreprocessing of train and test datasets complete.\")\n",
    "    \n",
    "    # Build vocabulary (if vocab is True)\n",
    "    ngram_range_vocab = (1,4)\n",
    "    ngram_range_vocab_list = [(1,1), (2,2), (3,3), (4,4)]\n",
    "    \n",
    "    vocab = None\n",
    "    vocab_audscore = None\n",
    "    for item in classifiers:\n",
    "        if item['vocab']:\n",
    "            vocab = True\n",
    "        if item['vocab_audscore']:\n",
    "            vocab_audscore = item['vocab_audscore']\n",
    "    \n",
    "    if vocab == True:\n",
    "        # Generate and store the entire vocabulary of training data  \n",
    "        print(f\"\\nGenerating vocabulary of entire training data...\")\n",
    "        train_ngrams = get_vocab(merged['reviewText'], ngram_range=ngram_range_vocab)\n",
    "        print(f\"Size of vocabulary of training data: {len(train_ngrams)}\")\n",
    "        # sorted(train_ngrams)\n",
    "\n",
    "        # Generate common vocabulary specific for this project data  \n",
    "        print(f\"\\nGenerating common vocabulary specific for this project data...\")\n",
    "        common_ngrams = get_common_vocab([merged, merged_test], ngram_range_list=ngram_range_vocab_list)\n",
    "        print(f\"Size of common vocabulary: {len(common_ngrams)}\")\n",
    "\n",
    "        # Get the speficic stop words that should be used in the final models  \n",
    "        print(f\"\\nGetting specific stop words for this project...\")\n",
    "        stop_words_specific = list(train_ngrams - common_ngrams)\n",
    "        print(f\"Size of 'stop_words_specific' generated: {len(stop_words_specific)}\")\n",
    "    else:\n",
    "        pass\n",
    "    \n",
    "    if vocab_audscore:\n",
    "        pure_common_pos, pure_common_neg = audienceScore_vocab([merged, merged_test], \n",
    "                                                               scores=(57, 73), \n",
    "                                                               ngram_range_list=ngram_range_vocab_list)\n",
    "        pure_common = pure_common_pos | pure_common_neg\n",
    "        print(f\"\\nSize of 'pure_common' vocabulary genrated: {len(pure_common)}\")\n",
    "    \n",
    "    \n",
    "    # Create a list to store estimators  \n",
    "    estimators = []     # List of tuples of the form ('classifier_name', 'classifer_instance')\n",
    "    \n",
    "#     # Build a dataframe of predictions  \n",
    "#     predictions_df = pd.DataFrame()\n",
    "    \n",
    "    # Build a separate pipeline and fit it on selected features (and param_grid) for each item in classifiers list\n",
    "    for n, item in enumerate(classifiers, start=1):\n",
    "        selected_model = item['selected_model']\n",
    "        selected_features = item['selected_features']\n",
    "        param_grid = item['param_grid']\n",
    "        vocab = item['vocab']\n",
    "        vocab_usage = item['vocab_usage']\n",
    "        strip_accents = item['strip_accents']\n",
    "        add_countvec = item['add_countvec']\n",
    "    \n",
    "    \n",
    "        # Fine tune selected_features\n",
    "        if add_countvec:\n",
    "            if 'txt' in selected_features.keys():\n",
    "                if \"reviewText_2\" not in selected_features['txt']:\n",
    "                    selected_features['txt'].append('reviewText_2')\n",
    "        if vocab:\n",
    "            if 'txt' in selected_features.keys():\n",
    "                if \"reviewText_3\" not in selected_features['txt']:\n",
    "                    selected_features['txt'].append('reviewText_3')\n",
    "        else:\n",
    "            print(f\"No vocabulary provided/used for this model.\")\n",
    "            \n",
    "        print(f\"\\nSelected features: {selected_features}\")\n",
    "        \n",
    "        if type(vocab) in [type([1, 2]), type({1, 2})]:\n",
    "            vocab = vocab\n",
    "            print(f\"Size of 'vocab' provided: {len(vocab)}\")\n",
    "        elif vocab == True:\n",
    "            vocab = common_ngrams    # Choose vocabulary here\n",
    "            print(f\"Size of 'vocab' generated by submit_v5: {len(vocab)}\")\n",
    "\n",
    "            \n",
    "        if vocab_audscore:\n",
    "            if 'txt' in selected_features.keys():\n",
    "                if \"reviewText_4\" not in selected_features['txt']:\n",
    "                    selected_features['txt'].append('reviewText_4')\n",
    "        else:\n",
    "            print(f\"No vocabulary based on audienceScore provided/used for this model.\")\n",
    "        if vocab_audscore:\n",
    "            vocab_audscore = pure_common\n",
    "            print(f\"Size of 'vocab_audscore' generated by submit_v5: {len(vocab_audscore)}\")\n",
    "            \n",
    "            \n",
    "        print(f\"\\nSelected features: {selected_features}\")\n",
    "\n",
    "        # Modify X_train for the given 'item' by creating a custom 'features' list\n",
    "        features = []\n",
    "        for item in selected_features.values():\n",
    "            features.extend(item)\n",
    "            \n",
    "        # Add new columns as needed  \n",
    "        if add_countvec:\n",
    "            merged['reviewText_2'] = merged['reviewText']\n",
    "        if vocab:\n",
    "            merged['reviewText_3'] = merged['reviewText']\n",
    "        if vocab_audscore:\n",
    "            merged['reviewText_4'] = merged['reviewText']\n",
    "        \n",
    "        # Create X_train, y_train\n",
    "        X_train = merged.drop(labels=\"sentiment\", axis=1)\n",
    "        y_train = merged[\"sentiment\"]\n",
    "        \n",
    "        X_train = merged[features].copy()\n",
    "        \n",
    "        # Create X_test\n",
    "        # Add new columns as needed \n",
    "        if add_countvec:\n",
    "            merged_test['reviewText_2'] = merged_test['reviewText']\n",
    "        if vocab:\n",
    "            merged_test['reviewText_3'] = merged_test['reviewText']\n",
    "        if vocab_audscore:\n",
    "            merged_test['reviewText_4'] = merged_test['reviewText']\n",
    "        \n",
    "        X_test = merged_test[features].copy()\n",
    "\n",
    "\n",
    "        # Build Pipeline\n",
    "        pipe = build_pipeline(selected_model, selected_features, param_grid=param_grid, \n",
    "                              vocab=vocab, vocab_usage='tfidf', \n",
    "                              strip_accents=strip_accents, add_countvec=add_countvec,\n",
    "                             poly=poly, vocab_audscore=vocab_audscore)\n",
    "        print(pipe)\n",
    "        \n",
    "        estimators.append((f\"classifier_{n}\", pipe))\n",
    "        print(f\"\\nclassifier_{n} successfully added to 'estimators' list\")\n",
    "    \n",
    "    # Choose the appropriate ensemble method for the 'ensemble_type' provided\n",
    "    if ensemble_type == 'voting_custom':\n",
    "        print(f\"\\nCalling function: 'voting_clf_custom'\")\n",
    "        pred_df_final, fitted_estimators = voting_clf_custom(estimators, merged, merged_test)\n",
    "        return pred_df_final, fitted_estimators\n",
    "    elif ensemble_type == 'stacking':\n",
    "        print(f\"\\nCalling function: 'stacking_clf'\")\n",
    "        pred_df, stacking_classifier = stacking_clf(estimators, merged, merged_test)\n",
    "        return pred_df, stacking_classifier"
   ]
  },
  {
   "cell_type": "markdown",
   "id": "362873b7",
   "metadata": {
    "papermill": {
     "duration": 0.114939,
     "end_time": "2023-08-22T19:20:26.706970",
     "exception": false,
     "start_time": "2023-08-22T19:20:26.592031",
     "status": "completed"
    },
    "tags": []
   },
   "source": [
    "# Use 'submit_v5' function  "
   ]
  },
  {
   "cell_type": "code",
   "execution_count": 136,
   "id": "8a760fbf",
   "metadata": {
    "execution": {
     "iopub.execute_input": "2023-08-22T19:20:26.944483Z",
     "iopub.status.busy": "2023-08-22T19:20:26.943737Z",
     "iopub.status.idle": "2023-08-22T19:20:26.948174Z",
     "shell.execute_reply": "2023-08-22T19:20:26.947370Z"
    },
    "papermill": {
     "duration": 0.122889,
     "end_time": "2023-08-22T19:20:26.950414",
     "exception": false,
     "start_time": "2023-08-22T19:20:26.827525",
     "status": "completed"
    },
    "tags": []
   },
   "outputs": [],
   "source": [
    "# Try submit_v5 with default settings\n",
    "# submit_v5()"
   ]
  },
  {
   "cell_type": "code",
   "execution_count": 137,
   "id": "c3779956",
   "metadata": {
    "execution": {
     "iopub.execute_input": "2023-08-22T19:20:27.185050Z",
     "iopub.status.busy": "2023-08-22T19:20:27.184351Z",
     "iopub.status.idle": "2023-08-22T19:21:34.857503Z",
     "shell.execute_reply": "2023-08-22T19:21:34.856222Z"
    },
    "papermill": {
     "duration": 67.791739,
     "end_time": "2023-08-22T19:21:34.860009",
     "exception": false,
     "start_time": "2023-08-22T19:20:27.068270",
     "status": "completed"
    },
    "tags": []
   },
   "outputs": [
    {
     "name": "stdout",
     "output_type": "stream",
     "text": [
      "\n",
      "Running the submit_v5 function...\n",
      "\n",
      "Data preprocessor initiated...\n",
      "\n",
      "Imputer for missing numerical values: simple\n",
      "Imputing missing values. (This could take a while if it is KNNImputer)\n",
      "SimpleImputer(strategy='median')\n",
      "\n",
      "Check 1 (preprocessor) complete.\n",
      "Shape of X_train: (162758, 30)\n",
      "Features in X_train: Index(['movieid', 'reviewerName', 'isFrequentReviewer', 'reviewText',\n",
      "       'sentiment', 'title', 'audienceScore', 'rating', 'ratingContents',\n",
      "       'releaseDateTheaters', 'releaseDateStreaming', 'runtimeMinutes',\n",
      "       'genre', 'originalLanguage', 'director', 'boxOffice', 'distributor',\n",
      "       'soundType', 'reviewYN', 'reviewWC', 'genreSorted', 'rcSorted',\n",
      "       'releaseDate', 'releaseYear', 'releaseMonth', 'releaseDiff',\n",
      "       'audScoreBins', 'runtimeBins', 'boxOfficeBins', 'releaseDiffBins'],\n",
      "      dtype='object')\n",
      "\n",
      "Check 2 (preprocessor) complete.\n",
      "Shape of X_test: (55315, 29)\n",
      "Features in X_test: Index(['movieid', 'reviewerName', 'isFrequentReviewer', 'reviewText', 'title',\n",
      "       'audienceScore', 'rating', 'ratingContents', 'releaseDateTheaters',\n",
      "       'releaseDateStreaming', 'runtimeMinutes', 'genre', 'originalLanguage',\n",
      "       'director', 'boxOffice', 'distributor', 'soundType', 'reviewYN',\n",
      "       'reviewWC', 'genreSorted', 'rcSorted', 'releaseDate', 'releaseYear',\n",
      "       'releaseMonth', 'releaseDiff', 'audScoreBins', 'runtimeBins',\n",
      "       'boxOfficeBins', 'releaseDiffBins'],\n",
      "      dtype='object')\n",
      "\n",
      "Preprocessing of train and test datasets complete.\n",
      "No vocabulary provided/used for this model.\n",
      "\n",
      "Selected features: {'num': ['audienceScore']}\n",
      "No vocabulary based on audienceScore provided/used for this model.\n",
      "\n",
      "Selected features: {'num': ['audienceScore']}\n",
      "\n",
      "Pipeline built successfully.\n",
      "\n",
      "Full GridSearchCV pipeline built successfully.\n",
      "GridSearchCV(cv=10,\n",
      "             estimator=Pipeline(steps=[('ct',\n",
      "                                        ColumnTransformer(transformers=[('num',\n",
      "                                                                         Pipeline(steps=[('robscaler',\n",
      "                                                                                          RobustScaler()),\n",
      "                                                                                         ('stdscaler',\n",
      "                                                                                          StandardScaler())]),\n",
      "                                                                         ['audienceScore'])])),\n",
      "                                       ('model',\n",
      "                                        SGDClassifier(loss='modified_huber',\n",
      "                                                      max_iter=1000000,\n",
      "                                                      n_iter_no_change=100,\n",
      "                                                      n_jobs=-1,\n",
      "                                                      tol=0.0001))]),\n",
      "             n_jobs=-1, param_grid={'model__alpha': [0.0001]},\n",
      "             scoring='f1_micro')\n",
      "\n",
      "classifier_1 successfully added to 'estimators' list\n",
      "\n",
      "Calling function: 'voting_clf_custom'\n",
      "\n",
      "Running the voting_clf_custom function...\n",
      "\n",
      "Number of estimator pipelines provided: 1\n",
      "\n",
      "X_train and y_train created.\n",
      "Shape of X_train: (162758, 29)\n",
      "Columns in X_train: Index(['movieid', 'reviewerName', 'isFrequentReviewer', 'reviewText', 'title',\n",
      "       'audienceScore', 'rating', 'ratingContents', 'releaseDateTheaters',\n",
      "       'releaseDateStreaming', 'runtimeMinutes', 'genre', 'originalLanguage',\n",
      "       'director', 'boxOffice', 'distributor', 'soundType', 'reviewYN',\n",
      "       'reviewWC', 'genreSorted', 'rcSorted', 'releaseDate', 'releaseYear',\n",
      "       'releaseMonth', 'releaseDiff', 'audScoreBins', 'runtimeBins',\n",
      "       'boxOfficeBins', 'releaseDiffBins'],\n",
      "      dtype='object')\n",
      "\n",
      "Shape of y_train: (162758,)\n",
      "Inspect y_train: 0    POSITIVE\n",
      "1    NEGATIVE\n",
      "2    POSITIVE\n",
      "3    POSITIVE\n",
      "4    POSITIVE\n",
      "Name: sentiment, dtype: object\n",
      "\n",
      "X_test created.\n",
      "Shape of X_test: (55315, 29)\n",
      "Columns in X_test: Index(['movieid', 'reviewerName', 'isFrequentReviewer', 'reviewText', 'title',\n",
      "       'audienceScore', 'rating', 'ratingContents', 'releaseDateTheaters',\n",
      "       'releaseDateStreaming', 'runtimeMinutes', 'genre', 'originalLanguage',\n",
      "       'director', 'boxOffice', 'distributor', 'soundType', 'reviewYN',\n",
      "       'reviewWC', 'genreSorted', 'rcSorted', 'releaseDate', 'releaseYear',\n",
      "       'releaseMonth', 'releaseDiff', 'audScoreBins', 'runtimeBins',\n",
      "       'boxOfficeBins', 'releaseDiffBins'],\n",
      "      dtype='object')\n",
      "\n",
      "Training started with full pipeline for classifier #1/1...\n",
      "\n",
      "Check #1.1 complete.\n",
      "Details of the best model using classifier #1 (GridSearchCV) on X_train: \n",
      "Best Params: {'model__alpha': 0.0001}\n",
      "Best Score: 0.6909214826878436\n",
      "\n",
      "classifier_1 successfully added to 'fitted_estimators' list\n",
      "\n",
      "Confusion matrix for predictions on training data: \n",
      "[[14633 39364]\n",
      " [10980 97781]]\n",
      "F1-score on training data: 0.6906818712444243\n",
      "(55315, 1)\n",
      "     pred_1\n",
      "0  POSITIVE\n",
      "1  POSITIVE\n",
      "2  POSITIVE\n",
      "3  POSITIVE\n",
      "4  POSITIVE\n",
      "5  NEGATIVE\n",
      "6  POSITIVE\n",
      "7  POSITIVE\n",
      "8  POSITIVE\n",
      "9  POSITIVE\n",
      "\n",
      "Check #1.2 complete.\n",
      "Details of the best model using full pipeline (GridSearchCV) on X_train: \n",
      "Best Params: {'model__alpha': 0.0001}\n",
      "Best Score: 0.6909214826878436\n",
      "Refit Time: 2.6393520832061768\n",
      "\n",
      "Taking votes from all the classifiers/estimators...\n",
      "\n",
      "Successfully created the submission file!!!\n"
     ]
    },
    {
     "data": {
      "text/plain": [
       "(55315,)"
      ]
     },
     "execution_count": 137,
     "metadata": {},
     "output_type": "execute_result"
    }
   ],
   "source": [
    "# Testing ONE classfier using submit_v5 function  \n",
    "\n",
    "# Feature dictionaries\n",
    "sfs = {'cat': ['isFrequentReviewer', 'rating'],\n",
    "       'num': [\"audienceScore\", \"runtimeMinutes\", \"boxOffice\", 'releaseDiff']}\n",
    "\n",
    "sf_best = {'cat': ['isFrequentReviewer'],\n",
    "            'num': [\"audienceScore\", \"boxOffice\", 'releaseDiff'],\n",
    "            'txt': ['reviewText', 'reviewerName', 'movieid', 'genre', 'director', \n",
    "                         'ratingContents', 'distributor']}\n",
    "\n",
    "alt_text = {'txt': ['reviewerName', 'movieid', 'genre', 'director', \n",
    "                         'ratingContents', 'distributor']}\n",
    "\n",
    "v88_dict = {'cat': ['isFrequentReviewer', 'audScoreBins', 'boxOfficeBins'],\n",
    "            'num': ['releaseDiff'],\n",
    "            'txt': ['reviewText', 'reviewerName', 'movieid', 'genre', 'director', \n",
    "                         'ratingContents', 'distributor']}\n",
    "\n",
    "# SGDClassifier hyperparameters  \n",
    "# \"model__loss\": ['hinge', 'log_loss', 'modified_huber', \n",
    "#                                                   'squared_hinge', 'perceptron', \n",
    "#                                                   'squared_error', 'huber', \n",
    "#                                                   'epsilon_insensitive', 'squared_epsilon_insensitive']\n",
    "\n",
    "# 'param_grid' : {\"model__alpha\": [0.0001], \n",
    "#                   'model__tol': [0.0001],\n",
    "#                   \"model__penalty\": [\"l2\"],\n",
    "#                   \"model__n_iter_no_change\": [100],\n",
    "#                  }\n",
    "\n",
    "# Best models \n",
    "# For sf_best features\n",
    "#                 {'selected_model' : SGDClassifier(loss='hinge', \n",
    "#                                      max_iter=1000000,\n",
    "#                                      alpha = 0.0001,\n",
    "#                                      tol = 0.0001,\n",
    "#                                      penalty = \"l2\",\n",
    "#                                      n_iter_no_change = 100,\n",
    "#                                      n_jobs = -1), \n",
    "#                   'selected_features' : sf_best, \n",
    "#                   'param_grid' : {\"model__alpha\": [ 0.0001]},\n",
    "#                   'vocab' : True,\n",
    "#                   'vocab_usage' : 'tfidf',\n",
    "#                   'strip_accents' : 'unicode', \n",
    "#                   'add_countvec' : True},\n",
    "\n",
    "# For sfs features\n",
    "#                 {'selected_model' : RandomForestClassifier(n_jobs = -1), \n",
    "#                   'selected_features' : sfs, \n",
    "#                   'param_grid': {'model__n_estimators': [100]},\n",
    "#                   'vocab' : None,\n",
    "#                   'vocab_usage' : 'tfidf',\n",
    "#                   'strip_accents' : 'unicode', \n",
    "#                   'add_countvec' : False}\n",
    "\n",
    "# Best SGD classifer (with params)  \n",
    "sgdc_modhuber = SGDClassifier(loss='modified_huber', \n",
    "                     max_iter=1000000,\n",
    "                     alpha = 0.0001,\n",
    "                     tol = 0.0001,\n",
    "                     penalty = \"l2\",\n",
    "                     n_iter_no_change = 100,\n",
    "                     n_jobs = -1)\n",
    "\n",
    "sgdc_logloss = SGDClassifier(loss='log_loss', \n",
    "                     max_iter=1000000,\n",
    "                     alpha = 0.0001,\n",
    "                     tol = 0.0001,\n",
    "                     penalty = \"l2\",\n",
    "                     n_iter_no_change = 100,\n",
    "                     n_jobs = -1)\n",
    "\n",
    "# Classifiers\n",
    "classifiers= [   \n",
    "                {'selected_model' : sgdc_modhuber, \n",
    "                  'selected_features' : {'num': ['audienceScore']}, \n",
    "                  'param_grid' : {\"model__alpha\": [0.0001]},\n",
    "                  'vocab' : None,\n",
    "                  'vocab_usage' : 'tfidf',\n",
    "                  'strip_accents' : 'unicode', \n",
    "                  'add_countvec' : False,\n",
    "                    'vocab_audscore' : False},\n",
    "    \n",
    "#                 {'selected_model' : sgdc_logloss, \n",
    "#                   'selected_features' : v88_dict, \n",
    "#                   'param_grid' : {\"model__alpha\": [0.0001]},\n",
    "#                   'vocab' : True,\n",
    "#                   'vocab_usage' : 'tfidf',\n",
    "#                   'strip_accents' : 'unicode', \n",
    "#                   'add_countvec' : True,\n",
    "#                     'vocab_audscore' : True}\n",
    "                \n",
    "#                 {'selected_model' : RandomForestClassifier(n_jobs = -1), \n",
    "#                   'selected_features' : sfs, \n",
    "#                   'param_grid': {'model__n_estimators': [100]},\n",
    "#                   'vocab' : None,\n",
    "#                   'vocab_usage' : 'tfidf',\n",
    "#                   'strip_accents' : 'unicode', \n",
    "#                   'add_countvec' : False,\n",
    "#                     'vocab_audscore' : False}\n",
    "            ]\n",
    "\n",
    "# classifiers= [\n",
    "#                 {'selected_model' : LogisticRegression(C=1, solver='saga', max_iter=100000), \n",
    "#                   'selected_features' : {'txt': [\"reviewText\"]}, \n",
    "#                   'param_grid' : {\"model__C\": [1], \n",
    "#                                   'model__solver': ['saga']},\n",
    "#                   'vocab' : None,\n",
    "#                   'vocab_usage' : 'tfidf',\n",
    "#                   'strip_accents' : 'unicode', \n",
    "#                   'add_countvec' : False},\n",
    "#             ]\n",
    "\n",
    "pred_df, estimators = submit_v5(classifiers=classifiers, imputer_type='simple', poly=False, ensemble_type='voting_custom')\n",
    "\n",
    "pred_df.shape"
   ]
  },
  {
   "cell_type": "code",
   "execution_count": 138,
   "id": "1cc311e5",
   "metadata": {
    "execution": {
     "iopub.execute_input": "2023-08-22T19:21:35.094823Z",
     "iopub.status.busy": "2023-08-22T19:21:35.094350Z",
     "iopub.status.idle": "2023-08-22T19:21:35.102155Z",
     "shell.execute_reply": "2023-08-22T19:21:35.100840Z"
    },
    "papermill": {
     "duration": 0.127732,
     "end_time": "2023-08-22T19:21:35.104800",
     "exception": false,
     "start_time": "2023-08-22T19:21:34.977068",
     "status": "completed"
    },
    "tags": []
   },
   "outputs": [
    {
     "name": "stdout",
     "output_type": "stream",
     "text": [
      "(55315,)\n",
      "id\n",
      "0    POSITIVE\n",
      "1    POSITIVE\n",
      "2    POSITIVE\n",
      "3    POSITIVE\n",
      "4    POSITIVE\n",
      "Name: 0, dtype: object\n"
     ]
    }
   ],
   "source": [
    "print(pred_df.shape)\n",
    "print(pred_df.head())"
   ]
  },
  {
   "cell_type": "code",
   "execution_count": 139,
   "id": "d2f5a8a5",
   "metadata": {
    "execution": {
     "iopub.execute_input": "2023-08-22T19:21:35.346155Z",
     "iopub.status.busy": "2023-08-22T19:21:35.345632Z",
     "iopub.status.idle": "2023-08-22T19:21:35.352293Z",
     "shell.execute_reply": "2023-08-22T19:21:35.350738Z"
    },
    "papermill": {
     "duration": 0.128384,
     "end_time": "2023-08-22T19:21:35.355473",
     "exception": false,
     "start_time": "2023-08-22T19:21:35.227089",
     "status": "completed"
    },
    "tags": []
   },
   "outputs": [],
   "source": [
    "# estimators"
   ]
  },
  {
   "cell_type": "code",
   "execution_count": 140,
   "id": "6b0ff980",
   "metadata": {
    "execution": {
     "iopub.execute_input": "2023-08-22T19:21:35.610547Z",
     "iopub.status.busy": "2023-08-22T19:21:35.609332Z",
     "iopub.status.idle": "2023-08-22T19:21:35.615336Z",
     "shell.execute_reply": "2023-08-22T19:21:35.613802Z"
    },
    "papermill": {
     "duration": 0.126081,
     "end_time": "2023-08-22T19:21:35.618085",
     "exception": false,
     "start_time": "2023-08-22T19:21:35.492004",
     "status": "completed"
    },
    "tags": []
   },
   "outputs": [],
   "source": [
    "# print(f\"Number of estimators: {len(estimators)}\\n\")\n",
    "# for est in estimators:\n",
    "#     print(f\"Estimator: {est[0]}\")\n",
    "# #     print(est[1].best_estimator_)\n",
    "#     print(est[1].best_params_)\n",
    "#     print(est[1].best_score_)\n",
    "#     print(est[1].refit_time_)\n",
    "#     print()"
   ]
  },
  {
   "cell_type": "code",
   "execution_count": 141,
   "id": "da1d660d",
   "metadata": {
    "execution": {
     "iopub.execute_input": "2023-08-22T19:21:35.853682Z",
     "iopub.status.busy": "2023-08-22T19:21:35.853171Z",
     "iopub.status.idle": "2023-08-22T19:21:35.860422Z",
     "shell.execute_reply": "2023-08-22T19:21:35.859190Z"
    },
    "papermill": {
     "duration": 0.12786,
     "end_time": "2023-08-22T19:21:35.862710",
     "exception": false,
     "start_time": "2023-08-22T19:21:35.734850",
     "status": "completed"
    },
    "tags": []
   },
   "outputs": [],
   "source": [
    "# Testing full capabilites of submit_v5  \n",
    "\n",
    "# # Feature dictionaries\n",
    "# sf1 = {'cat': ['isFrequentReviewer', 'rating'],\n",
    "#        'num': [\"audienceScore\", \"runtimeMinutes\", \"boxOffice\"]}\n",
    "\n",
    "# sf2 = {'cat': ['isFrequentReviewer', 'rating'],\n",
    "#        'num': [\"audienceScore\", \"runtimeMinutes\", \"boxOffice\"]}\n",
    "\n",
    "# sf3 = {'cat': ['isFrequentReviewer'],\n",
    "#         'num': ['releaseDiff', 'audienceScore', 'boxOffice'],\n",
    "#         'txt': ['reviewText', 'reviewerName', 'movieid', 'genre', 'director', \n",
    "#                          'ratingContents', 'distributor']}\n",
    "\n",
    "# # Individual classifiers\n",
    "# clf1 =  {'selected_model' : AdaBoostClassifier(), \n",
    "#           'selected_features' : sf1, \n",
    "#           'param_grid' : {\"model__n_estimators\": [50]},\n",
    "#           'vocab' : None,\n",
    "#           'vocab_usage' : 'tfidf',\n",
    "#           'strip_accents' : 'unicode', \n",
    "#           'add_countvec' : False}\n",
    "\n",
    "# clf2 =  {'selected_model' : RandomForestClassifier(), \n",
    "#           'selected_features' : sf2,\n",
    "#           'param_grid' : {\"model__n_estimators\": [50], \n",
    "#                           'model__criterion': ['gini']},\n",
    "#           'vocab' : None,\n",
    "#           'vocab_usage' : 'tfidf',\n",
    "#           'strip_accents' : 'unicode', \n",
    "#           'add_countvec' : False}\n",
    "\n",
    "# clf3 =  {'selected_model' : LogisticRegression(C=1, solver='saga', max_iter=100000), \n",
    "#           'selected_features' : sf3, \n",
    "#           'param_grid' : {'model__C' : [1],\n",
    "#                             'model__solver': ['saga'],\n",
    "#                             \"model__fit_intercept\" : [True],\n",
    "#                             \"model__dual\" : [False]},\n",
    "#           'vocab' : None,\n",
    "#           'vocab_usage' : 'tfidf',\n",
    "#           'strip_accents' : 'unicode', \n",
    "#           'add_countvec' : True}\n",
    "\n",
    "\n",
    "# # List of classifiers for voting\n",
    "# classifiers= [clf1, clf2, clf3]\n",
    "\n",
    "# # Final predictions \n",
    "# pred_df = submit_v5(classifiers=classifiers)"
   ]
  },
  {
   "cell_type": "code",
   "execution_count": 142,
   "id": "09b027fd",
   "metadata": {
    "execution": {
     "iopub.execute_input": "2023-08-22T19:21:36.100830Z",
     "iopub.status.busy": "2023-08-22T19:21:36.100396Z",
     "iopub.status.idle": "2023-08-22T19:21:36.111648Z",
     "shell.execute_reply": "2023-08-22T19:21:36.110398Z"
    },
    "papermill": {
     "duration": 0.136457,
     "end_time": "2023-08-22T19:21:36.114580",
     "exception": false,
     "start_time": "2023-08-22T19:21:35.978123",
     "status": "completed"
    },
    "tags": []
   },
   "outputs": [
    {
     "name": "stdout",
     "output_type": "stream",
     "text": [
      "(55315,)\n"
     ]
    },
    {
     "data": {
      "text/plain": [
       "id\n",
       "0        POSITIVE\n",
       "1        POSITIVE\n",
       "2        POSITIVE\n",
       "3        POSITIVE\n",
       "4        POSITIVE\n",
       "           ...   \n",
       "55310    NEGATIVE\n",
       "55311    POSITIVE\n",
       "55312    POSITIVE\n",
       "55313    POSITIVE\n",
       "55314    POSITIVE\n",
       "Name: 0, Length: 55315, dtype: object"
      ]
     },
     "execution_count": 142,
     "metadata": {},
     "output_type": "execute_result"
    }
   ],
   "source": [
    "print(pred_df.shape)\n",
    "pred_df"
   ]
  },
  {
   "cell_type": "code",
   "execution_count": 143,
   "id": "1d00af9e",
   "metadata": {
    "execution": {
     "iopub.execute_input": "2023-08-22T19:21:36.361464Z",
     "iopub.status.busy": "2023-08-22T19:21:36.360964Z",
     "iopub.status.idle": "2023-08-22T19:21:36.366103Z",
     "shell.execute_reply": "2023-08-22T19:21:36.364716Z"
    },
    "papermill": {
     "duration": 0.129917,
     "end_time": "2023-08-22T19:21:36.368758",
     "exception": false,
     "start_time": "2023-08-22T19:21:36.238841",
     "status": "completed"
    },
    "tags": []
   },
   "outputs": [],
   "source": [
    "# pred_df_mode = pred_df.mode(axis='columns')\n",
    "# print(pred_df_mode.shape)\n",
    "# pred_df_mode"
   ]
  },
  {
   "cell_type": "code",
   "execution_count": 144,
   "id": "ed405616",
   "metadata": {
    "execution": {
     "iopub.execute_input": "2023-08-22T19:21:36.615310Z",
     "iopub.status.busy": "2023-08-22T19:21:36.614890Z",
     "iopub.status.idle": "2023-08-22T19:21:36.636169Z",
     "shell.execute_reply": "2023-08-22T19:21:36.634643Z"
    },
    "papermill": {
     "duration": 0.146258,
     "end_time": "2023-08-22T19:21:36.638800",
     "exception": false,
     "start_time": "2023-08-22T19:21:36.492542",
     "status": "completed"
    },
    "tags": []
   },
   "outputs": [
    {
     "data": {
      "text/plain": [
       "POSITIVE    46556\n",
       "NEGATIVE     8759\n",
       "Name: 0, dtype: int64"
      ]
     },
     "execution_count": 144,
     "metadata": {},
     "output_type": "execute_result"
    }
   ],
   "source": [
    "pred_df.value_counts()"
   ]
  },
  {
   "cell_type": "markdown",
   "id": "9d0d5175",
   "metadata": {
    "papermill": {
     "duration": 0.121614,
     "end_time": "2023-08-22T19:21:36.881742",
     "exception": false,
     "start_time": "2023-08-22T19:21:36.760128",
     "status": "completed"
    },
    "tags": []
   },
   "source": [
    "# NOTE: Move submit_v4 submissions below the suubmit_v4 function  "
   ]
  },
  {
   "cell_type": "code",
   "execution_count": 145,
   "id": "d8b7c95d",
   "metadata": {
    "execution": {
     "iopub.execute_input": "2023-08-22T19:21:37.122063Z",
     "iopub.status.busy": "2023-08-22T19:21:37.121687Z",
     "iopub.status.idle": "2023-08-22T19:21:37.126841Z",
     "shell.execute_reply": "2023-08-22T19:21:37.125455Z"
    },
    "papermill": {
     "duration": 0.127964,
     "end_time": "2023-08-22T19:21:37.129036",
     "exception": false,
     "start_time": "2023-08-22T19:21:37.001072",
     "status": "completed"
    },
    "tags": []
   },
   "outputs": [],
   "source": [
    "# Try 'submit_v4' function with default params (LogisticRegression model)  \n",
    "\n",
    "# submit_v4()\n",
    "\n",
    "#Default params to this function gave a score of 0.8259 - improvement over previous score of 0.82563!"
   ]
  },
  {
   "cell_type": "code",
   "execution_count": 146,
   "id": "8fac455a",
   "metadata": {
    "execution": {
     "iopub.execute_input": "2023-08-22T19:21:37.365959Z",
     "iopub.status.busy": "2023-08-22T19:21:37.365517Z",
     "iopub.status.idle": "2023-08-22T19:21:37.370680Z",
     "shell.execute_reply": "2023-08-22T19:21:37.369463Z"
    },
    "papermill": {
     "duration": 0.125701,
     "end_time": "2023-08-22T19:21:37.373125",
     "exception": false,
     "start_time": "2023-08-22T19:21:37.247424",
     "status": "completed"
    },
    "tags": []
   },
   "outputs": [],
   "source": [
    "# Try out GridSearchCV on \"submit_v4\" function with param_grid  \n",
    "# param_grid = {\n",
    "#     \"model__C\": [0.1, 1, 5, 10]\n",
    "# }\n",
    "\n",
    "# submit_v4(selected_features={'txt': ['genre']}, param_grid=param_grid)"
   ]
  },
  {
   "cell_type": "markdown",
   "id": "9d309399",
   "metadata": {
    "papermill": {
     "duration": 0.115855,
     "end_time": "2023-08-22T19:21:37.604920",
     "exception": false,
     "start_time": "2023-08-22T19:21:37.489065",
     "status": "completed"
    },
    "tags": []
   },
   "source": [
    "### Try LinearSVC with GridSearchCV  "
   ]
  },
  {
   "cell_type": "code",
   "execution_count": 147,
   "id": "9ce839b9",
   "metadata": {
    "execution": {
     "iopub.execute_input": "2023-08-22T19:21:37.840452Z",
     "iopub.status.busy": "2023-08-22T19:21:37.840000Z",
     "iopub.status.idle": "2023-08-22T19:21:37.845443Z",
     "shell.execute_reply": "2023-08-22T19:21:37.844033Z"
    },
    "papermill": {
     "duration": 0.126065,
     "end_time": "2023-08-22T19:21:37.847746",
     "exception": false,
     "start_time": "2023-08-22T19:21:37.721681",
     "status": "completed"
    },
    "tags": []
   },
   "outputs": [],
   "source": [
    "# all_dict = {'cat': [\"isFrequentReviewer\", \"rating\", \"originalLanguage\"],\n",
    "#              'num': [\"audienceScore\", \"runtimeMinutes\", \"boxOffice\"],\n",
    "#              'txt': ['reviewText', 'reviewerName', 'movieid', 'genre', 'director']}\n",
    "\n",
    "# param_grid_svc = {\n",
    "#     \"model__C\": [0.1, 1, 10, 100]\n",
    "# }\n",
    "# param_grid_svc"
   ]
  },
  {
   "cell_type": "code",
   "execution_count": 148,
   "id": "638d24eb",
   "metadata": {
    "execution": {
     "iopub.execute_input": "2023-08-22T19:21:38.087100Z",
     "iopub.status.busy": "2023-08-22T19:21:38.086707Z",
     "iopub.status.idle": "2023-08-22T19:21:38.092060Z",
     "shell.execute_reply": "2023-08-22T19:21:38.090612Z"
    },
    "papermill": {
     "duration": 0.129979,
     "end_time": "2023-08-22T19:21:38.094661",
     "exception": false,
     "start_time": "2023-08-22T19:21:37.964682",
     "status": "completed"
    },
    "tags": []
   },
   "outputs": [],
   "source": [
    "# LinearSCV on single feature  \n",
    "\n",
    "# submit_v4(selected_model=LinearSVC(max_iter=100000, random_state=42), selected_features={'num': [\"audienceScore\"]}, param_grid=param_grid_svc)\n",
    "\n",
    "# Comment: LinearSVC even on single column feature set takes too long to converge."
   ]
  },
  {
   "cell_type": "code",
   "execution_count": 149,
   "id": "0c3293a3",
   "metadata": {
    "execution": {
     "iopub.execute_input": "2023-08-22T19:21:38.330925Z",
     "iopub.status.busy": "2023-08-22T19:21:38.330551Z",
     "iopub.status.idle": "2023-08-22T19:21:38.335482Z",
     "shell.execute_reply": "2023-08-22T19:21:38.334077Z"
    },
    "papermill": {
     "duration": 0.125805,
     "end_time": "2023-08-22T19:21:38.337944",
     "exception": false,
     "start_time": "2023-08-22T19:21:38.212139",
     "status": "completed"
    },
    "tags": []
   },
   "outputs": [],
   "source": [
    "# LinearSCV on all available features\n",
    "\n",
    "# submit_v4(selected_model=LinearSVC(max_iter=100000, random_state=42), selected_features=all_dict, param_grid=param_grid_svc)\n",
    "\n",
    "# (Update): This took 66 mins to run and gave a public score of 0.84295 (lesser than logreg gridsearchcv wwhich gave 0.84441). Best C was 1.0.\n"
   ]
  },
  {
   "cell_type": "markdown",
   "id": "65c0c48d",
   "metadata": {
    "papermill": {
     "duration": 0.115216,
     "end_time": "2023-08-22T19:21:38.567853",
     "exception": false,
     "start_time": "2023-08-22T19:21:38.452637",
     "status": "completed"
    },
    "tags": []
   },
   "source": [
    "### Boosting techniques  "
   ]
  },
  {
   "cell_type": "code",
   "execution_count": 150,
   "id": "a7a7682f",
   "metadata": {
    "execution": {
     "iopub.execute_input": "2023-08-22T19:21:38.801477Z",
     "iopub.status.busy": "2023-08-22T19:21:38.801021Z",
     "iopub.status.idle": "2023-08-22T19:21:38.805979Z",
     "shell.execute_reply": "2023-08-22T19:21:38.804731Z"
    },
    "papermill": {
     "duration": 0.124538,
     "end_time": "2023-08-22T19:21:38.808420",
     "exception": false,
     "start_time": "2023-08-22T19:21:38.683882",
     "status": "completed"
    },
    "tags": []
   },
   "outputs": [],
   "source": [
    "# adc = AdaBoostClassifier(estimator=LogisticRegression(C=5, solver=\"saga\", max_iter=100000), n_estimators=50)\n",
    "# adc"
   ]
  },
  {
   "cell_type": "code",
   "execution_count": 151,
   "id": "76fd9455",
   "metadata": {
    "execution": {
     "iopub.execute_input": "2023-08-22T19:21:39.048078Z",
     "iopub.status.busy": "2023-08-22T19:21:39.047707Z",
     "iopub.status.idle": "2023-08-22T19:21:39.052046Z",
     "shell.execute_reply": "2023-08-22T19:21:39.050924Z"
    },
    "papermill": {
     "duration": 0.128519,
     "end_time": "2023-08-22T19:21:39.054515",
     "exception": false,
     "start_time": "2023-08-22T19:21:38.925996",
     "status": "completed"
    },
    "tags": []
   },
   "outputs": [],
   "source": [
    "# submit_v4(selected_model=adc, selected_features={'num': [\"audienceScore\"]}, param_grid=None)"
   ]
  },
  {
   "cell_type": "code",
   "execution_count": 152,
   "id": "1d29536e",
   "metadata": {
    "execution": {
     "iopub.execute_input": "2023-08-22T19:21:39.289826Z",
     "iopub.status.busy": "2023-08-22T19:21:39.289385Z",
     "iopub.status.idle": "2023-08-22T19:21:39.294469Z",
     "shell.execute_reply": "2023-08-22T19:21:39.293223Z"
    },
    "papermill": {
     "duration": 0.126448,
     "end_time": "2023-08-22T19:21:39.296833",
     "exception": false,
     "start_time": "2023-08-22T19:21:39.170385",
     "status": "completed"
    },
    "tags": []
   },
   "outputs": [],
   "source": [
    "# submit_v4(selected_model=adc, selected_features=all_dict, param_grid=None)\n",
    "\n",
    "# Took 1 hour 15 mins to run and gave a public score of only 0.71089. Discarded."
   ]
  },
  {
   "cell_type": "markdown",
   "id": "0310ecb5",
   "metadata": {
    "papermill": {
     "duration": 0.115565,
     "end_time": "2023-08-22T19:21:39.529702",
     "exception": false,
     "start_time": "2023-08-22T19:21:39.414137",
     "status": "completed"
    },
    "tags": []
   },
   "source": [
    "### LightGBM  "
   ]
  },
  {
   "cell_type": "code",
   "execution_count": 153,
   "id": "c677f7cd",
   "metadata": {
    "execution": {
     "iopub.execute_input": "2023-08-22T19:21:39.834061Z",
     "iopub.status.busy": "2023-08-22T19:21:39.833617Z",
     "iopub.status.idle": "2023-08-22T19:21:39.839033Z",
     "shell.execute_reply": "2023-08-22T19:21:39.837792Z"
    },
    "papermill": {
     "duration": 0.128429,
     "end_time": "2023-08-22T19:21:39.841388",
     "exception": false,
     "start_time": "2023-08-22T19:21:39.712959",
     "status": "completed"
    },
    "tags": []
   },
   "outputs": [],
   "source": [
    "# lgb = ltb.LGBMClassifier()\n",
    "# lgb"
   ]
  },
  {
   "cell_type": "code",
   "execution_count": 154,
   "id": "dea405c4",
   "metadata": {
    "execution": {
     "iopub.execute_input": "2023-08-22T19:21:40.081600Z",
     "iopub.status.busy": "2023-08-22T19:21:40.081171Z",
     "iopub.status.idle": "2023-08-22T19:21:40.087129Z",
     "shell.execute_reply": "2023-08-22T19:21:40.085554Z"
    },
    "papermill": {
     "duration": 0.132535,
     "end_time": "2023-08-22T19:21:40.089868",
     "exception": false,
     "start_time": "2023-08-22T19:21:39.957333",
     "status": "completed"
    },
    "tags": []
   },
   "outputs": [],
   "source": [
    "# Try LightGBM with default settings\n",
    "# (Update): Public score only 0.77713. It was fast, took less than 5 mins (without GridSearchCV)\n",
    "\n",
    "# submit_v4(selected_model=ltb.LGBMClassifier(), selected_features=all_dict, param_grid=None)"
   ]
  },
  {
   "cell_type": "markdown",
   "id": "64e95522",
   "metadata": {
    "papermill": {
     "duration": 0.121705,
     "end_time": "2023-08-22T19:21:40.335207",
     "exception": false,
     "start_time": "2023-08-22T19:21:40.213502",
     "status": "completed"
    },
    "tags": []
   },
   "source": [
    "## Feature Engineering"
   ]
  },
  {
   "cell_type": "markdown",
   "id": "5b455deb",
   "metadata": {
    "papermill": {
     "duration": 0.119209,
     "end_time": "2023-08-22T19:21:40.576263",
     "exception": false,
     "start_time": "2023-08-22T19:21:40.457054",
     "status": "completed"
    },
    "tags": []
   },
   "source": [
    "### Plan  \n",
    "* Add a new column 'reviewWC' which has word count of 'reviewText'  \n",
    "    * Check if there is any relationship between 'reviewWC' and 'sentiment'\n",
    "* Work on vocabulary\n",
    "     * Use TfidfVectorizer and find out the vocabulary of 'reviewText' column for various ngrams\n",
    "     * Use RecursiveFeatureElimination (RFE) or RFECV to select 1000 top words/vocab for each ngram\n",
    "     * Use the final vocab (1000-3000 words) in the model and see how it performs compared to whole vocab\n",
    "\n",
    "`(Update): Code incorporated into the \"select_features\" function  `  \n",
    "`(Update): Many other new features incorporated into the \"select_features\" function too  `  \n",
    "\n"
   ]
  },
  {
   "cell_type": "markdown",
   "id": "a23e15d0",
   "metadata": {
    "papermill": {
     "duration": 0.119887,
     "end_time": "2023-08-22T19:21:40.816360",
     "exception": false,
     "start_time": "2023-08-22T19:21:40.696473",
     "status": "completed"
    },
    "tags": []
   },
   "source": [
    "# Back to vocab after success of version 63  "
   ]
  },
  {
   "cell_type": "code",
   "execution_count": 155,
   "id": "f2b037ce",
   "metadata": {
    "execution": {
     "iopub.execute_input": "2023-08-22T19:21:41.059417Z",
     "iopub.status.busy": "2023-08-22T19:21:41.058937Z",
     "iopub.status.idle": "2023-08-22T19:21:41.082156Z",
     "shell.execute_reply": "2023-08-22T19:21:41.081002Z"
    },
    "papermill": {
     "duration": 0.147938,
     "end_time": "2023-08-22T19:21:41.084826",
     "exception": false,
     "start_time": "2023-08-22T19:21:40.936888",
     "status": "completed"
    },
    "tags": []
   },
   "outputs": [],
   "source": [
    "def submit_v4(selected_model=LogisticRegression(C=1, solver='liblinear', max_iter=100000), \n",
    "              selected_features={'txt': ['reviewText']}, \n",
    "              param_grid=None,\n",
    "              vocab=None,\n",
    "              vocab_usage='tfidf',\n",
    "              strip_accents='unicode', \n",
    "              add_countvec=False):\n",
    "    \n",
    "    print(\"\\nRunning the submit_v4 function...\")\n",
    "    \n",
    "    # Fine tune selected_features\n",
    "    if add_countvec:\n",
    "        if 'txt' in selected_features.keys():\n",
    "            if \"reviewText_2\" not in selected_features['txt']:\n",
    "                selected_features['txt'].append('reviewText_2')\n",
    "    if vocab:\n",
    "        if 'txt' in selected_features.keys():\n",
    "            if \"reviewText_3\" not in selected_features['txt']:\n",
    "                selected_features['txt'].append('reviewText_3')\n",
    "    print(f\"\\nSelected features: {selected_features}\")\n",
    "\n",
    "    \n",
    "    \n",
    "    # Build Pipeline\n",
    "    pipe = build_pipeline(selected_model, selected_features, param_grid=param_grid, \n",
    "                          vocab=vocab, vocab_usage='tfidf', \n",
    "                          strip_accents=strip_accents, add_countvec=add_countvec)\n",
    "    print(pipe)\n",
    "\n",
    "    \n",
    "    \n",
    "    # Features list\n",
    "    features = []\n",
    "    for item in selected_features.values():\n",
    "        features.extend(item)\n",
    " \n",
    "\n",
    "    # Merge and preprocess train and movies data  \n",
    "    merged = select_features(load_csv(\"train\"), load_csv(\"movies\"), row_thresh_null=None)    # Decide if you want to drop any rows containing lot of nulls\n",
    "    # Impute missing numerical values  \n",
    "    # Simple Imputer for ['audienceScore', 'runtimeMinutes', 'boxOffice'] and 'releaseDate' columns\n",
    "    si = SimpleImputer(strategy='median')\n",
    "    merged[['audienceScore', 'runtimeMinutes', 'boxOffice']] = si.fit_transform(merged[['audienceScore', 'runtimeMinutes', 'boxOffice']])\n",
    "    merged['releaseDate'] = merged[\"releaseDate\"].fillna(merged[\"releaseDate\"].median())    \n",
    "    # Add new columns as needed  \n",
    "    if add_countvec:\n",
    "        merged['reviewText_2'] = merged['reviewText']\n",
    "    if vocab:\n",
    "        merged['reviewText_3'] = merged['reviewText']\n",
    "        \n",
    "    X_train = merged.drop(labels=\"sentiment\", axis=1)\n",
    "    y_train = merged[\"sentiment\"]\n",
    "\n",
    "    X_train = X_train[features]\n",
    "    \n",
    "    \n",
    "    # Check1\n",
    "    print(\"\\nCheck 1 complete.\")\n",
    "    print(f\"Shape of X_train: {X_train.shape}\")\n",
    "    print(f\"Features in X_train: {X_train.columns}\")\n",
    "#     print(X_train.head())\n",
    "    \n",
    "    \n",
    "    # Fit \n",
    "    print(\"\\nTraining started with full pipeline...\")\n",
    "    pipe.fit(X_train, y_train)\n",
    "    \n",
    "    # Check2\n",
    "    print(\"\\nCheck 2 complete.\")\n",
    "    print(\"Details of the best model using full pipeline (GridSearchCV) on X_train: \")\n",
    "    print(f\"Best Params: {pipe.best_params_}\")\n",
    "    print(f\"Best Score: {pipe.best_score_}\")\n",
    "    \n",
    "    print(predict_on_missing_review_data(pipe, features, merged))    # Function defined above\n",
    "    \n",
    "        \n",
    "    # Predict on test.csv file\n",
    "    \n",
    "    # Merge and preprocess test and movies data  \n",
    "    merged_test = select_features(load_csv(\"test\"), load_csv(\"movies\"))\n",
    "    # Transform ['audienceScore', 'runtimeMinutes', 'boxOffice'] columns in merged_test using 'si' fitted on 'merged' df  \n",
    "    merged_test[['audienceScore', 'runtimeMinutes', 'boxOffice']] = si.transform(merged_test[['audienceScore', 'runtimeMinutes', 'boxOffice']])\n",
    "    # Fill 'releaseDate' column in 'merged_test' df with median from the train (merged) df  \n",
    "    merged_test['releaseDate'] = merged_test[\"releaseDate\"].fillna(merged[\"releaseDate\"].median())\n",
    "    # Add new columns as needed \n",
    "    if add_countvec:\n",
    "        merged_test['reviewText_2'] = merged_test['reviewText']\n",
    "    if vocab:\n",
    "        merged_test['reviewText_3'] = merged_test['reviewText']\n",
    "        \n",
    "    X_test = merged_test.copy()\n",
    "\n",
    "    X_test = X_test[features]\n",
    "    \n",
    "    \n",
    "    # Check3\n",
    "    print(\"\\nCheck 3 complete.\")\n",
    "    print(f\"Shape of X_test: {X_test.shape}\")\n",
    "    print(f\"Features in X_test: {X_test.columns}\")\n",
    "#     print(X_test.head())\n",
    "    \n",
    "    y_pred = pipe.predict(X_test)\n",
    "    \n",
    "    # Check4\n",
    "    print(\"\\nCheck 4 complete.\")\n",
    "#     cv_results_df = pd.DataFrame(pipe.cv_results_)\n",
    "    print(\"Details of the best model using full pipeline (GridSearchCV) on X_train: \")\n",
    "    print(f\"Best Estimator: {pipe.best_estimator_}\")\n",
    "    print(f\"Best Params: {pipe.best_params_}\")\n",
    "    print(f\"Best Score: {pipe.best_score_}\")\n",
    "    print(f\"Best Index: {pipe.best_index_}\")\n",
    "    print(f\"Refit Time: {pipe.refit_time_}\")\n",
    "#     print(f\"Shape of CV results dataframe: {cv_results_df.shape}\")\n",
    "    \n",
    "    pred_df = pd.DataFrame(y_pred)\n",
    "    pred_df.columns = [\"sentiment\"]\n",
    "    pred_df.index.name = \"id\"\n",
    "    pred_df.to_csv(\"submission.csv\")\n",
    "    \n",
    "    print(\"\\nSuccessfully created the submission file!!!\")\n",
    "    \n",
    "    return pipe.cv_results_"
   ]
  },
  {
   "cell_type": "code",
   "execution_count": 156,
   "id": "8cc79533",
   "metadata": {
    "execution": {
     "iopub.execute_input": "2023-08-22T19:21:41.328631Z",
     "iopub.status.busy": "2023-08-22T19:21:41.328193Z",
     "iopub.status.idle": "2023-08-22T19:21:41.335115Z",
     "shell.execute_reply": "2023-08-22T19:21:41.334321Z"
    },
    "papermill": {
     "duration": 0.131761,
     "end_time": "2023-08-22T19:21:41.337595",
     "exception": false,
     "start_time": "2023-08-22T19:21:41.205834",
     "status": "completed"
    },
    "tags": []
   },
   "outputs": [
    {
     "data": {
      "text/plain": [
       "Index(['movieid', 'reviewerName', 'isFrequentReviewer', 'reviewText',\n",
       "       'sentiment', 'title', 'audienceScore', 'rating', 'ratingContents',\n",
       "       'releaseDateTheaters', 'releaseDateStreaming', 'runtimeMinutes',\n",
       "       'genre', 'originalLanguage', 'director', 'boxOffice', 'distributor',\n",
       "       'soundType', 'reviewYN', 'reviewWC', 'genreSorted', 'rcSorted',\n",
       "       'releaseDate', 'releaseYear', 'releaseMonth', 'releaseDiff'],\n",
       "      dtype='object')"
      ]
     },
     "execution_count": 156,
     "metadata": {},
     "output_type": "execute_result"
    }
   ],
   "source": [
    "merged.columns"
   ]
  },
  {
   "cell_type": "code",
   "execution_count": 157,
   "id": "a8bdb1cd",
   "metadata": {
    "execution": {
     "iopub.execute_input": "2023-08-22T19:21:41.584163Z",
     "iopub.status.busy": "2023-08-22T19:21:41.583788Z",
     "iopub.status.idle": "2023-08-22T19:21:41.595166Z",
     "shell.execute_reply": "2023-08-22T19:21:41.594036Z"
    },
    "papermill": {
     "duration": 0.137493,
     "end_time": "2023-08-22T19:21:41.597910",
     "exception": false,
     "start_time": "2023-08-22T19:21:41.460417",
     "status": "completed"
    },
    "tags": []
   },
   "outputs": [],
   "source": [
    "# Best #2\n",
    "v80_dict = {'cat': ['isFrequentReviewer', 'audScoreBins', 'boxOfficeBins'], \n",
    "                  'txt': ['reviewText', 'reviewerName', 'movieid', 'genre', 'director', \n",
    "                          'ratingContents', 'distributor']}\n",
    "# Best #1\n",
    "v88_dict = {'cat': ['isFrequentReviewer', 'audScoreBins', 'boxOfficeBins'],\n",
    "            'num': ['releaseDiff'],\n",
    "            'txt': ['reviewText', 'reviewerName', 'movieid', 'genre', 'director', \n",
    "                         'ratingContents', 'distributor']}\n",
    "\n",
    "v92_dict = {'cat': ['isFrequentReviewer', 'audScoreBins', 'boxOfficeBins', 'releaseDiffBins'],\n",
    "            'txt': ['reviewText', 'reviewerName', 'title', 'genre', 'director', \n",
    "                         'ratingContents', 'distributor']}\n",
    "\n",
    "# Best univariable datapoints dict\n",
    "best_uni_dict = {'cat': [\"isFrequentReviewer\", \"audScoreBins\"],\n",
    "                 'txt': ['reviewText','movieid', 'director', \"ratingContents\"]}\n",
    "\n",
    "# param_grids for LogisticRegression  \n",
    "\n",
    "# Best #1  \n",
    "# param_grid = {\n",
    "#     'model__C' : [1],\n",
    "#     'model__solver': ['saga'],\n",
    "#     \"model__fit_intercept\" : [True],\n",
    "#     \"model__dual\" : [False]\n",
    "#     }\n",
    "\n",
    "# working\n",
    "param_grid = {\n",
    "    'model__C' : [1],\n",
    "    'model__solver': ['saga'],\n",
    "    \"model__fit_intercept\" : [True],\n",
    "    \"model__dual\" : [False],\n",
    "#     \"model__class_weight\": ['balanced', None]\n",
    "}\n",
    "\n",
    "\n",
    "# param_grids for LinearSVC  \n",
    "\n",
    "# param_grid = {\n",
    "#     'model__C' : [1, 10, 20],\n",
    "#     'model__loss': ['hinge', 'squared_hinge'],\n",
    "#     \"model__fit_intercept\" : [True, False],\n",
    "# #     \"model__dual\" : [True, False] \n",
    "# }\n",
    "\n",
    "svm = LinearSVC(max_iter=10000, random_state=42)    # LinearSVC\n",
    "\n",
    "\n",
    "# Local testing\n",
    "# selected_mov = {'num': ['audienceScore', 'boxOffice', 'releaseDiff'], \n",
    "#                 'txt': ['movieid', 'genre', 'director', \n",
    "#                          'ratingContents', 'distributor']}\n",
    "# results = submit_v4(\n",
    "#             selected_features={'num': ['boxOffice']},\n",
    "#             add_countvec=False,\n",
    "#             vocab=None,\n",
    "#             vocab_usage='tfidf',\n",
    "#             param_grid=param_grid\n",
    "#          )\n",
    "\n",
    "# results = submit_v4(selected_model = DummyClassifier(strategy='constant', constant='NEGATIVE'),\n",
    "#             selected_features={'num': ['boxOffice']},\n",
    "#             add_countvec=False,\n",
    "#             vocab=None,\n",
    "#             vocab_usage='tfidf',\n",
    "#             param_grid={'model__strategy' : ['constant']}\n",
    "#          )\n",
    "\n",
    "# Main submission\n",
    "\n",
    "# results = submit_v4(\n",
    "#     selected_features=v88_dict,\n",
    "#     add_countvec=False,\n",
    "#     vocab=common_1_2_3_grams,\n",
    "#     vocab_usage='tfidf',\n",
    "#     param_grid=param_grid\n",
    "#     )\n",
    "\n",
    "# results"
   ]
  },
  {
   "cell_type": "markdown",
   "id": "6faa9049",
   "metadata": {
    "papermill": {
     "duration": 0.119988,
     "end_time": "2023-08-22T19:21:41.841005",
     "exception": false,
     "start_time": "2023-08-22T19:21:41.721017",
     "status": "completed"
    },
    "tags": []
   },
   "source": [
    "### ratingContents analysis  "
   ]
  },
  {
   "cell_type": "code",
   "execution_count": 158,
   "id": "771e2078",
   "metadata": {
    "execution": {
     "iopub.execute_input": "2023-08-22T19:21:42.086542Z",
     "iopub.status.busy": "2023-08-22T19:21:42.086041Z",
     "iopub.status.idle": "2023-08-22T19:21:42.090810Z",
     "shell.execute_reply": "2023-08-22T19:21:42.089579Z"
    },
    "papermill": {
     "duration": 0.131552,
     "end_time": "2023-08-22T19:21:42.093291",
     "exception": false,
     "start_time": "2023-08-22T19:21:41.961739",
     "status": "completed"
    },
    "tags": []
   },
   "outputs": [],
   "source": [
    "# Try string split  \n",
    "# s = \"comedy, animation, adventure, fantasy\"\n",
    "# (\",\").join(sorted(s.split(\", \")))"
   ]
  },
  {
   "cell_type": "code",
   "execution_count": 159,
   "id": "4df60c79",
   "metadata": {
    "execution": {
     "iopub.execute_input": "2023-08-22T19:21:42.331883Z",
     "iopub.status.busy": "2023-08-22T19:21:42.331468Z",
     "iopub.status.idle": "2023-08-22T19:21:42.336942Z",
     "shell.execute_reply": "2023-08-22T19:21:42.335657Z"
    },
    "papermill": {
     "duration": 0.125827,
     "end_time": "2023-08-22T19:21:42.339404",
     "exception": false,
     "start_time": "2023-08-22T19:21:42.213577",
     "status": "completed"
    },
    "tags": []
   },
   "outputs": [],
   "source": [
    "# ratingContents_analysis = merged[[\"ratingContents\", \"sentiment\"]].copy()\n",
    "# print(ratingContents_analysis.head())\n",
    "# ratingContents_analysis[\"rcSorted\"] = ratingContents_analysis[\"ratingContents\"].apply(lambda x: (\",\").join(sorted(x.strip(\"][\").split(\", \"))))\n",
    "# ratingContents_analysis[\"rcSorted\"] = ratingContents_analysis[\"rcSorted\"].apply(lambda x: re.sub(r\"'\", \"\", x))\n",
    "# ratingContents_analysis[\"rcSorted\"] = ratingContents_analysis[\"rcSorted\"].apply(lambda x: re.sub(r\"[/\\s]\", \"_\", x))\n",
    "# ratingContents_analysis.head(10)"
   ]
  },
  {
   "cell_type": "code",
   "execution_count": 160,
   "id": "280ac603",
   "metadata": {
    "execution": {
     "iopub.execute_input": "2023-08-22T19:21:42.574322Z",
     "iopub.status.busy": "2023-08-22T19:21:42.573895Z",
     "iopub.status.idle": "2023-08-22T19:21:42.578712Z",
     "shell.execute_reply": "2023-08-22T19:21:42.577585Z"
    },
    "papermill": {
     "duration": 0.124597,
     "end_time": "2023-08-22T19:21:42.580951",
     "exception": false,
     "start_time": "2023-08-22T19:21:42.456354",
     "status": "completed"
    },
    "tags": []
   },
   "outputs": [],
   "source": [
    "# cvec_rc = CountVectorizer(ngram_range=(1,1))\n",
    "# cvec_rc.fit(ratingContents_analysis['rcSorted'])\n",
    "# # len(cvec_rc.vocabulary_), cvec_rc.vocabulary_"
   ]
  },
  {
   "cell_type": "code",
   "execution_count": 161,
   "id": "1ecc0136",
   "metadata": {
    "execution": {
     "iopub.execute_input": "2023-08-22T19:21:42.818152Z",
     "iopub.status.busy": "2023-08-22T19:21:42.817798Z",
     "iopub.status.idle": "2023-08-22T19:21:42.822196Z",
     "shell.execute_reply": "2023-08-22T19:21:42.821027Z"
    },
    "papermill": {
     "duration": 0.125655,
     "end_time": "2023-08-22T19:21:42.824460",
     "exception": false,
     "start_time": "2023-08-22T19:21:42.698805",
     "status": "completed"
    },
    "tags": []
   },
   "outputs": [],
   "source": [
    "# genre_testing = cvec_g.transform(merged[\"genre\"])\n",
    "# print(genre_testing)"
   ]
  },
  {
   "cell_type": "markdown",
   "id": "e483bc93",
   "metadata": {
    "papermill": {
     "duration": 0.118983,
     "end_time": "2023-08-22T19:21:43.059508",
     "exception": false,
     "start_time": "2023-08-22T19:21:42.940525",
     "status": "completed"
    },
    "tags": []
   },
   "source": [
    "## Statistical tests  "
   ]
  },
  {
   "cell_type": "markdown",
   "id": "3a9cc3ea",
   "metadata": {
    "papermill": {
     "duration": 0.118001,
     "end_time": "2023-08-22T19:21:43.293410",
     "exception": false,
     "start_time": "2023-08-22T19:21:43.175409",
     "status": "completed"
    },
    "tags": []
   },
   "source": [
    "[Go to genre](#genre_analysis)"
   ]
  },
  {
   "cell_type": "code",
   "execution_count": 162,
   "id": "490b1363",
   "metadata": {
    "execution": {
     "iopub.execute_input": "2023-08-22T19:21:43.533218Z",
     "iopub.status.busy": "2023-08-22T19:21:43.532416Z",
     "iopub.status.idle": "2023-08-22T19:21:43.537169Z",
     "shell.execute_reply": "2023-08-22T19:21:43.536360Z"
    },
    "papermill": {
     "duration": 0.127188,
     "end_time": "2023-08-22T19:21:43.539498",
     "exception": false,
     "start_time": "2023-08-22T19:21:43.412310",
     "status": "completed"
    },
    "tags": []
   },
   "outputs": [],
   "source": [
    "# print(merged['boxOffice'].head())\n",
    "# merged[\"boxOffice\"].describe()"
   ]
  },
  {
   "cell_type": "code",
   "execution_count": 163,
   "id": "9b2598d6",
   "metadata": {
    "execution": {
     "iopub.execute_input": "2023-08-22T19:21:43.842543Z",
     "iopub.status.busy": "2023-08-22T19:21:43.842143Z",
     "iopub.status.idle": "2023-08-22T19:21:43.846994Z",
     "shell.execute_reply": "2023-08-22T19:21:43.845741Z"
    },
    "papermill": {
     "duration": 0.125569,
     "end_time": "2023-08-22T19:21:43.849660",
     "exception": false,
     "start_time": "2023-08-22T19:21:43.724091",
     "status": "completed"
    },
    "tags": []
   },
   "outputs": [],
   "source": [
    "# Function for independent samples t-test on numerical columns  \n",
    "# def ttest_ind(feature):\n",
    "#     pos_grp = merged[feature].loc[merged['sentiment'] == \"POSITIVE\"]\n",
    "#     neg_grp = merged[feature].loc[merged['sentiment'] == \"NEGATIVE\"]\n",
    "\n",
    "#     print(pos_grp.shape, neg_grp.shape)\n",
    "#     print(pos_grp.describe(), neg_grp.describe())\n",
    "\n",
    "#     return stats.ttest_ind(pos_grp, neg_grp)"
   ]
  },
  {
   "cell_type": "code",
   "execution_count": 164,
   "id": "26124547",
   "metadata": {
    "execution": {
     "iopub.execute_input": "2023-08-22T19:21:44.097082Z",
     "iopub.status.busy": "2023-08-22T19:21:44.096654Z",
     "iopub.status.idle": "2023-08-22T19:21:44.101895Z",
     "shell.execute_reply": "2023-08-22T19:21:44.100789Z"
    },
    "papermill": {
     "duration": 0.132312,
     "end_time": "2023-08-22T19:21:44.104134",
     "exception": false,
     "start_time": "2023-08-22T19:21:43.971822",
     "status": "completed"
    },
    "tags": []
   },
   "outputs": [],
   "source": [
    "# ttest_ind('boxOffice')"
   ]
  },
  {
   "cell_type": "code",
   "execution_count": 165,
   "id": "bd295a64",
   "metadata": {
    "execution": {
     "iopub.execute_input": "2023-08-22T19:21:44.343319Z",
     "iopub.status.busy": "2023-08-22T19:21:44.341896Z",
     "iopub.status.idle": "2023-08-22T19:21:44.347238Z",
     "shell.execute_reply": "2023-08-22T19:21:44.346330Z"
    },
    "papermill": {
     "duration": 0.12525,
     "end_time": "2023-08-22T19:21:44.349537",
     "exception": false,
     "start_time": "2023-08-22T19:21:44.224287",
     "status": "completed"
    },
    "tags": []
   },
   "outputs": [],
   "source": [
    "# ttest_ind('runtimeMinutes')"
   ]
  },
  {
   "cell_type": "code",
   "execution_count": 166,
   "id": "7620c79a",
   "metadata": {
    "execution": {
     "iopub.execute_input": "2023-08-22T19:21:44.584183Z",
     "iopub.status.busy": "2023-08-22T19:21:44.583314Z",
     "iopub.status.idle": "2023-08-22T19:21:44.588982Z",
     "shell.execute_reply": "2023-08-22T19:21:44.587872Z"
    },
    "papermill": {
     "duration": 0.126176,
     "end_time": "2023-08-22T19:21:44.591412",
     "exception": false,
     "start_time": "2023-08-22T19:21:44.465236",
     "status": "completed"
    },
    "tags": []
   },
   "outputs": [],
   "source": [
    "# ttest_ind('audienceScore')"
   ]
  },
  {
   "cell_type": "code",
   "execution_count": 167,
   "id": "b3e5895c",
   "metadata": {
    "execution": {
     "iopub.execute_input": "2023-08-22T19:21:44.828990Z",
     "iopub.status.busy": "2023-08-22T19:21:44.828195Z",
     "iopub.status.idle": "2023-08-22T19:21:44.835008Z",
     "shell.execute_reply": "2023-08-22T19:21:44.832955Z"
    },
    "papermill": {
     "duration": 0.128328,
     "end_time": "2023-08-22T19:21:44.837665",
     "exception": false,
     "start_time": "2023-08-22T19:21:44.709337",
     "status": "completed"
    },
    "tags": []
   },
   "outputs": [],
   "source": [
    "# sns.boxplot(x=merged['sentiment'], y=merged['boxOffice'])"
   ]
  },
  {
   "cell_type": "markdown",
   "id": "c0b560df",
   "metadata": {
    "papermill": {
     "duration": 0.119793,
     "end_time": "2023-08-22T19:21:45.076581",
     "exception": false,
     "start_time": "2023-08-22T19:21:44.956788",
     "status": "completed"
    },
    "tags": []
   },
   "source": [
    "## <div id='genre_analysis'>Genre analysis</div>"
   ]
  },
  {
   "cell_type": "code",
   "execution_count": 168,
   "id": "2fe237d5",
   "metadata": {
    "execution": {
     "iopub.execute_input": "2023-08-22T19:21:45.316464Z",
     "iopub.status.busy": "2023-08-22T19:21:45.315485Z",
     "iopub.status.idle": "2023-08-22T19:21:45.320869Z",
     "shell.execute_reply": "2023-08-22T19:21:45.319976Z"
    },
    "papermill": {
     "duration": 0.128478,
     "end_time": "2023-08-22T19:21:45.323179",
     "exception": false,
     "start_time": "2023-08-22T19:21:45.194701",
     "status": "completed"
    },
    "tags": []
   },
   "outputs": [],
   "source": [
    "# genre_analysis = merged[[\"genre\", \"genreSorted\", \"sentiment\"]].copy()\n",
    "# # print(genre_analysis.head())\n",
    "# # genre_analysis[\"genre\"] = genre_analysis[\"genre\"].apply(lambda x: (\",\").join(sorted(x.split(\", \"))))\n",
    "# genre_analysis.head()"
   ]
  },
  {
   "cell_type": "code",
   "execution_count": 169,
   "id": "ad60b8ae",
   "metadata": {
    "execution": {
     "iopub.execute_input": "2023-08-22T19:21:45.582410Z",
     "iopub.status.busy": "2023-08-22T19:21:45.581899Z",
     "iopub.status.idle": "2023-08-22T19:21:45.587159Z",
     "shell.execute_reply": "2023-08-22T19:21:45.585925Z"
    },
    "papermill": {
     "duration": 0.12626,
     "end_time": "2023-08-22T19:21:45.589711",
     "exception": false,
     "start_time": "2023-08-22T19:21:45.463451",
     "status": "completed"
    },
    "tags": []
   },
   "outputs": [],
   "source": [
    "# cvec_g = CountVectorizer(ngram_range=(1,3))\n",
    "# cvec_g.fit(genre_analysis['genre'])\n",
    "# # len(cvec_g.vocabulary_), cvec_g.vocabulary_"
   ]
  },
  {
   "cell_type": "code",
   "execution_count": 170,
   "id": "53874a1e",
   "metadata": {
    "execution": {
     "iopub.execute_input": "2023-08-22T19:21:45.826136Z",
     "iopub.status.busy": "2023-08-22T19:21:45.825439Z",
     "iopub.status.idle": "2023-08-22T19:21:45.831099Z",
     "shell.execute_reply": "2023-08-22T19:21:45.829696Z"
    },
    "papermill": {
     "duration": 0.127382,
     "end_time": "2023-08-22T19:21:45.833596",
     "exception": false,
     "start_time": "2023-08-22T19:21:45.706214",
     "status": "completed"
    },
    "tags": []
   },
   "outputs": [],
   "source": [
    "# cvec_gSorted = CountVectorizer(ngram_range=(1,3))\n",
    "# cvec_gSorted.fit(genre_analysis['genreSorted'])\n",
    "# len(cvec_gSorted.vocabulary_), cvec_gSorted.vocabulary_"
   ]
  },
  {
   "cell_type": "code",
   "execution_count": 171,
   "id": "6946d1d3",
   "metadata": {
    "execution": {
     "iopub.execute_input": "2023-08-22T19:21:46.074056Z",
     "iopub.status.busy": "2023-08-22T19:21:46.073700Z",
     "iopub.status.idle": "2023-08-22T19:21:46.078721Z",
     "shell.execute_reply": "2023-08-22T19:21:46.077548Z"
    },
    "papermill": {
     "duration": 0.129592,
     "end_time": "2023-08-22T19:21:46.080869",
     "exception": false,
     "start_time": "2023-08-22T19:21:45.951277",
     "status": "completed"
    },
    "tags": []
   },
   "outputs": [],
   "source": [
    "# genre_testing = cvec_g.transform(merged[\"genre\"])\n",
    "# # print(genre_testing)"
   ]
  },
  {
   "cell_type": "code",
   "execution_count": 172,
   "id": "53d00143",
   "metadata": {
    "execution": {
     "iopub.execute_input": "2023-08-22T19:21:46.316582Z",
     "iopub.status.busy": "2023-08-22T19:21:46.315333Z",
     "iopub.status.idle": "2023-08-22T19:21:46.320927Z",
     "shell.execute_reply": "2023-08-22T19:21:46.319718Z"
    },
    "papermill": {
     "duration": 0.126844,
     "end_time": "2023-08-22T19:21:46.323734",
     "exception": false,
     "start_time": "2023-08-22T19:21:46.196890",
     "status": "completed"
    },
    "tags": []
   },
   "outputs": [],
   "source": [
    "# genre_counts_testing = merged[[\"genre\", \"sentiment\"]].copy()\n",
    "# genre_counts_testing[\"gCount\"] = genre_counts_testing.apply(lambda x: len(str(x[\"genre\"]).split()), axis=1)\n",
    "# genre_counts_testing"
   ]
  },
  {
   "cell_type": "code",
   "execution_count": 173,
   "id": "84c6cb29",
   "metadata": {
    "execution": {
     "iopub.execute_input": "2023-08-22T19:21:46.577150Z",
     "iopub.status.busy": "2023-08-22T19:21:46.575762Z",
     "iopub.status.idle": "2023-08-22T19:21:46.581684Z",
     "shell.execute_reply": "2023-08-22T19:21:46.580361Z"
    },
    "papermill": {
     "duration": 0.138626,
     "end_time": "2023-08-22T19:21:46.584347",
     "exception": false,
     "start_time": "2023-08-22T19:21:46.445721",
     "status": "completed"
    },
    "tags": []
   },
   "outputs": [],
   "source": [
    "# sns.boxplot(y=genre_counts_testing[\"gCount\"], x=genre_counts_testing[\"sentiment\"])"
   ]
  },
  {
   "cell_type": "code",
   "execution_count": 174,
   "id": "3507c162",
   "metadata": {
    "execution": {
     "iopub.execute_input": "2023-08-22T19:21:46.829897Z",
     "iopub.status.busy": "2023-08-22T19:21:46.829488Z",
     "iopub.status.idle": "2023-08-22T19:21:46.834056Z",
     "shell.execute_reply": "2023-08-22T19:21:46.832969Z"
    },
    "papermill": {
     "duration": 0.129628,
     "end_time": "2023-08-22T19:21:46.836352",
     "exception": false,
     "start_time": "2023-08-22T19:21:46.706724",
     "status": "completed"
    },
    "tags": []
   },
   "outputs": [],
   "source": [
    "# sns.boxplot(y=merged[\"reviewWC\"], x=merged[\"sentiment\"])"
   ]
  },
  {
   "cell_type": "code",
   "execution_count": 175,
   "id": "3a44cf6b",
   "metadata": {
    "execution": {
     "iopub.execute_input": "2023-08-22T19:21:47.088722Z",
     "iopub.status.busy": "2023-08-22T19:21:47.088302Z",
     "iopub.status.idle": "2023-08-22T19:21:47.094000Z",
     "shell.execute_reply": "2023-08-22T19:21:47.092851Z"
    },
    "papermill": {
     "duration": 0.137263,
     "end_time": "2023-08-22T19:21:47.096774",
     "exception": false,
     "start_time": "2023-08-22T19:21:46.959511",
     "status": "completed"
    },
    "tags": []
   },
   "outputs": [],
   "source": [
    "# audienceScore bins\n",
    "# asc = merged[['audienceScore', 'sentiment']].copy()\n",
    "# asc.head()"
   ]
  },
  {
   "cell_type": "code",
   "execution_count": 176,
   "id": "50858b69",
   "metadata": {
    "execution": {
     "iopub.execute_input": "2023-08-22T19:21:47.338703Z",
     "iopub.status.busy": "2023-08-22T19:21:47.338310Z",
     "iopub.status.idle": "2023-08-22T19:21:47.343412Z",
     "shell.execute_reply": "2023-08-22T19:21:47.341940Z"
    },
    "papermill": {
     "duration": 0.128711,
     "end_time": "2023-08-22T19:21:47.345738",
     "exception": false,
     "start_time": "2023-08-22T19:21:47.217027",
     "status": "completed"
    },
    "tags": []
   },
   "outputs": [],
   "source": [
    "# Binning numerical features  \n",
    "\n",
    "# print(merged[\"runtimeBins\"].value_counts())\n",
    "# sns.displot(merged[\"runtimeBins\"])"
   ]
  },
  {
   "cell_type": "code",
   "execution_count": 177,
   "id": "201664a2",
   "metadata": {
    "execution": {
     "iopub.execute_input": "2023-08-22T19:21:47.582193Z",
     "iopub.status.busy": "2023-08-22T19:21:47.581728Z",
     "iopub.status.idle": "2023-08-22T19:21:47.586175Z",
     "shell.execute_reply": "2023-08-22T19:21:47.585323Z"
    },
    "papermill": {
     "duration": 0.124929,
     "end_time": "2023-08-22T19:21:47.588745",
     "exception": false,
     "start_time": "2023-08-22T19:21:47.463816",
     "status": "completed"
    },
    "tags": []
   },
   "outputs": [],
   "source": [
    "# Chi-square test for isFrequentReviewer column and sentiment column   \n",
    "\n",
    "# contingency_table = pd.crosstab(traindf['isFrequentReviewer'], traindf['sentiment'])\n",
    "# print(contingency_table)\n",
    "# stats.chi2_contingency(contingency_table)"
   ]
  },
  {
   "cell_type": "markdown",
   "id": "ce9abac8",
   "metadata": {
    "papermill": {
     "duration": 0.117382,
     "end_time": "2023-08-22T19:21:47.822889",
     "exception": false,
     "start_time": "2023-08-22T19:21:47.705507",
     "status": "completed"
    },
    "tags": []
   },
   "source": [
    "## Baseline performance of 'reviewText' column  "
   ]
  },
  {
   "cell_type": "code",
   "execution_count": 178,
   "id": "fd98f8b3",
   "metadata": {
    "execution": {
     "iopub.execute_input": "2023-08-22T19:21:48.063309Z",
     "iopub.status.busy": "2023-08-22T19:21:48.062860Z",
     "iopub.status.idle": "2023-08-22T19:21:48.068480Z",
     "shell.execute_reply": "2023-08-22T19:21:48.066773Z"
    },
    "papermill": {
     "duration": 0.129824,
     "end_time": "2023-08-22T19:21:48.070990",
     "exception": false,
     "start_time": "2023-08-22T19:21:47.941166",
     "status": "completed"
    },
    "tags": []
   },
   "outputs": [],
   "source": [
    "# rt_dict = {'txt': ['reviewText']}\n",
    "# rt_dict"
   ]
  },
  {
   "cell_type": "code",
   "execution_count": 179,
   "id": "70673bd7",
   "metadata": {
    "execution": {
     "iopub.execute_input": "2023-08-22T19:21:48.309340Z",
     "iopub.status.busy": "2023-08-22T19:21:48.308844Z",
     "iopub.status.idle": "2023-08-22T19:21:48.313214Z",
     "shell.execute_reply": "2023-08-22T19:21:48.312429Z"
    },
    "papermill": {
     "duration": 0.12724,
     "end_time": "2023-08-22T19:21:48.315265",
     "exception": false,
     "start_time": "2023-08-22T19:21:48.188025",
     "status": "completed"
    },
    "tags": []
   },
   "outputs": [],
   "source": [
    "# submit_v4(selected_model=LogisticRegression(C=5, solver=\"saga\", max_iter=100000),\n",
    "#           selected_features=rt_dict,\n",
    "#           param_grid=None,\n",
    "#           vocab=None)"
   ]
  },
  {
   "cell_type": "markdown",
   "id": "1a48a6c9",
   "metadata": {
    "papermill": {
     "duration": 0.115824,
     "end_time": "2023-08-22T19:21:48.547373",
     "exception": false,
     "start_time": "2023-08-22T19:21:48.431549",
     "status": "completed"
    },
    "tags": []
   },
   "source": [
    "## RFE  "
   ]
  },
  {
   "cell_type": "code",
   "execution_count": 180,
   "id": "041da751",
   "metadata": {
    "execution": {
     "iopub.execute_input": "2023-08-22T19:21:48.851815Z",
     "iopub.status.busy": "2023-08-22T19:21:48.851343Z",
     "iopub.status.idle": "2023-08-22T19:21:48.856173Z",
     "shell.execute_reply": "2023-08-22T19:21:48.855334Z"
    },
    "papermill": {
     "duration": 0.128428,
     "end_time": "2023-08-22T19:21:48.858689",
     "exception": false,
     "start_time": "2023-08-22T19:21:48.730261",
     "status": "completed"
    },
    "tags": []
   },
   "outputs": [],
   "source": [
    "# def fs_rfe(selector, text_df, labels, ngram_range=(1,1)):\n",
    "#     text_df_ngram = TfidfVectorizer(ngram_range=ngram_range, stop_words='english').fit_transform(text_df)\n",
    "#     print(\"text_df was vectorized using TF-IDF vectorizer with ngram_range: \", ngram_range)\n",
    "#     print(\"text_df.shape: \", text_df.shape)\n",
    "#     print(\"labels.shape: \", labels.shape)\n",
    "#     print(\"text_df_ngram.shape: \", text_df_ngram.shape)\n",
    "#     print()\n",
    "\n",
    "#     print(\"Starting RFE fit...\")\n",
    "#     selector.fit(text_df_ngram, labels)\n",
    "#     print(\"RFE fit complete.\\n\")\n",
    "    \n",
    "#     print(\"selector.n_features_: \", selector.n_features_)   \n",
    "#     print(\"selector.n_features_in_: \", selector.n_features_in_)\n",
    "#     print(\"selector.support_.shape: \", selector.support_.shape)\n",
    "\n",
    "#     return selector.support_"
   ]
  },
  {
   "cell_type": "markdown",
   "id": "442a12ac",
   "metadata": {
    "papermill": {
     "duration": 0.118078,
     "end_time": "2023-08-22T19:21:49.094141",
     "exception": false,
     "start_time": "2023-08-22T19:21:48.976063",
     "status": "completed"
    },
    "tags": []
   },
   "source": [
    "`RFE for unigrams`  "
   ]
  },
  {
   "cell_type": "code",
   "execution_count": 181,
   "id": "2981099a",
   "metadata": {
    "execution": {
     "iopub.execute_input": "2023-08-22T19:21:49.331231Z",
     "iopub.status.busy": "2023-08-22T19:21:49.330797Z",
     "iopub.status.idle": "2023-08-22T19:21:49.336199Z",
     "shell.execute_reply": "2023-08-22T19:21:49.334989Z"
    },
    "papermill": {
     "duration": 0.128408,
     "end_time": "2023-08-22T19:21:49.338694",
     "exception": false,
     "start_time": "2023-08-22T19:21:49.210286",
     "status": "completed"
    },
    "tags": []
   },
   "outputs": [],
   "source": [
    "# estimator_rfe_1 = LogisticRegression(solver='saga', max_iter=100000)\n",
    "# selector_rfe_1 = RFE(estimator_rfe_1, step=0.1, n_features_to_select=30000)"
   ]
  },
  {
   "cell_type": "code",
   "execution_count": 182,
   "id": "7352b083",
   "metadata": {
    "execution": {
     "iopub.execute_input": "2023-08-22T19:21:49.573399Z",
     "iopub.status.busy": "2023-08-22T19:21:49.572950Z",
     "iopub.status.idle": "2023-08-22T19:21:49.578140Z",
     "shell.execute_reply": "2023-08-22T19:21:49.576629Z"
    },
    "papermill": {
     "duration": 0.125527,
     "end_time": "2023-08-22T19:21:49.580430",
     "exception": false,
     "start_time": "2023-08-22T19:21:49.454903",
     "status": "completed"
    },
    "tags": []
   },
   "outputs": [],
   "source": [
    "# rfe_1_feat_mask = fs_rfe(selector_rfe_1, rt_senti[\"reviewText\"], rt_senti[\"sentiment\"], ngram_range=(1,1))\n",
    "# rfe_1_feat_mask"
   ]
  },
  {
   "cell_type": "code",
   "execution_count": 183,
   "id": "2e66f661",
   "metadata": {
    "execution": {
     "iopub.execute_input": "2023-08-22T19:21:49.818833Z",
     "iopub.status.busy": "2023-08-22T19:21:49.818376Z",
     "iopub.status.idle": "2023-08-22T19:21:49.823013Z",
     "shell.execute_reply": "2023-08-22T19:21:49.821848Z"
    },
    "papermill": {
     "duration": 0.127325,
     "end_time": "2023-08-22T19:21:49.825187",
     "exception": false,
     "start_time": "2023-08-22T19:21:49.697862",
     "status": "completed"
    },
    "tags": []
   },
   "outputs": [],
   "source": [
    "# voc_1gram_rfe = list(compress(voc_1gram, rfe_1_feat_mask))\n",
    "# len(voc_1gram_rfe), voc_1gram_rfe[:10]"
   ]
  },
  {
   "cell_type": "markdown",
   "id": "d4cfc002",
   "metadata": {
    "papermill": {
     "duration": 0.122626,
     "end_time": "2023-08-22T19:21:50.064967",
     "exception": false,
     "start_time": "2023-08-22T19:21:49.942341",
     "status": "completed"
    },
    "tags": []
   },
   "source": [
    "`RFE for bigrams`  "
   ]
  },
  {
   "cell_type": "code",
   "execution_count": 184,
   "id": "210429d9",
   "metadata": {
    "execution": {
     "iopub.execute_input": "2023-08-22T19:21:50.309351Z",
     "iopub.status.busy": "2023-08-22T19:21:50.308930Z",
     "iopub.status.idle": "2023-08-22T19:21:50.314507Z",
     "shell.execute_reply": "2023-08-22T19:21:50.313135Z"
    },
    "papermill": {
     "duration": 0.131864,
     "end_time": "2023-08-22T19:21:50.317081",
     "exception": false,
     "start_time": "2023-08-22T19:21:50.185217",
     "status": "completed"
    },
    "tags": []
   },
   "outputs": [],
   "source": [
    "# estimator_rfe_2 = LogisticRegression(solver='saga', max_iter=100000)\n",
    "# selector_rfe_2 = RFE(estimator_rfe_2, step=0.1, n_features_to_select=50000)"
   ]
  },
  {
   "cell_type": "code",
   "execution_count": 185,
   "id": "d8888ffd",
   "metadata": {
    "execution": {
     "iopub.execute_input": "2023-08-22T19:21:50.553341Z",
     "iopub.status.busy": "2023-08-22T19:21:50.552896Z",
     "iopub.status.idle": "2023-08-22T19:21:50.557653Z",
     "shell.execute_reply": "2023-08-22T19:21:50.556364Z"
    },
    "papermill": {
     "duration": 0.125645,
     "end_time": "2023-08-22T19:21:50.560315",
     "exception": false,
     "start_time": "2023-08-22T19:21:50.434670",
     "status": "completed"
    },
    "tags": []
   },
   "outputs": [],
   "source": [
    "# rfe_2_feat_mask = fs_rfe(selector_rfe_2, rt_senti[\"reviewText\"], rt_senti[\"sentiment\"], ngram_range=(2,2))\n",
    "# rfe_2_feat_mask"
   ]
  },
  {
   "cell_type": "code",
   "execution_count": 186,
   "id": "87ae3fbe",
   "metadata": {
    "execution": {
     "iopub.execute_input": "2023-08-22T19:21:50.798832Z",
     "iopub.status.busy": "2023-08-22T19:21:50.798352Z",
     "iopub.status.idle": "2023-08-22T19:21:50.803743Z",
     "shell.execute_reply": "2023-08-22T19:21:50.802455Z"
    },
    "papermill": {
     "duration": 0.12766,
     "end_time": "2023-08-22T19:21:50.806283",
     "exception": false,
     "start_time": "2023-08-22T19:21:50.678623",
     "status": "completed"
    },
    "tags": []
   },
   "outputs": [],
   "source": [
    "# voc_2gram_rfe = list(compress(voc_2gram, rfe_2_feat_mask))\n",
    "# len(voc_2gram_rfe), voc_2gram_rfe[:10]"
   ]
  },
  {
   "cell_type": "markdown",
   "id": "70ca1526",
   "metadata": {
    "papermill": {
     "duration": 0.120137,
     "end_time": "2023-08-22T19:21:51.043828",
     "exception": false,
     "start_time": "2023-08-22T19:21:50.923691",
     "status": "completed"
    },
    "tags": []
   },
   "source": [
    "## Final RFE-derived vocabulary  "
   ]
  },
  {
   "cell_type": "code",
   "execution_count": 187,
   "id": "f38b86da",
   "metadata": {
    "execution": {
     "iopub.execute_input": "2023-08-22T19:21:51.280043Z",
     "iopub.status.busy": "2023-08-22T19:21:51.279546Z",
     "iopub.status.idle": "2023-08-22T19:21:51.285100Z",
     "shell.execute_reply": "2023-08-22T19:21:51.283940Z"
    },
    "papermill": {
     "duration": 0.127373,
     "end_time": "2023-08-22T19:21:51.287261",
     "exception": false,
     "start_time": "2023-08-22T19:21:51.159888",
     "status": "completed"
    },
    "tags": []
   },
   "outputs": [],
   "source": [
    "# rfe_vocab = voc_1gram_rfe + voc_2gram_rfe\n",
    "# len(rfe_vocab), rfe_vocab[:10], rfe_vocab[-10:]"
   ]
  },
  {
   "cell_type": "code",
   "execution_count": 188,
   "id": "b997b5a0",
   "metadata": {
    "execution": {
     "iopub.execute_input": "2023-08-22T19:21:51.522949Z",
     "iopub.status.busy": "2023-08-22T19:21:51.522483Z",
     "iopub.status.idle": "2023-08-22T19:21:51.527896Z",
     "shell.execute_reply": "2023-08-22T19:21:51.526584Z"
    },
    "papermill": {
     "duration": 0.126297,
     "end_time": "2023-08-22T19:21:51.530157",
     "exception": false,
     "start_time": "2023-08-22T19:21:51.403860",
     "status": "completed"
    },
    "tags": []
   },
   "outputs": [],
   "source": [
    "## Test RFE obtained vocabulary in final pipeline (only with reviewText)  \n",
    "# submit_v4(selected_model=LogisticRegression(C=5, solver=\"saga\", max_iter=100000),\n",
    "#           selected_features=rt_dict,\n",
    "#           param_grid=None,\n",
    "#           vocab=rfe_vocab)"
   ]
  },
  {
   "cell_type": "markdown",
   "id": "ce7998e2",
   "metadata": {
    "papermill": {
     "duration": 0.12097,
     "end_time": "2023-08-22T19:21:51.768865",
     "exception": false,
     "start_time": "2023-08-22T19:21:51.647895",
     "status": "completed"
    },
    "tags": []
   },
   "source": [
    "## Use rfe_vocab in final pipeline with all params  "
   ]
  },
  {
   "cell_type": "code",
   "execution_count": 189,
   "id": "c8621bcd",
   "metadata": {
    "execution": {
     "iopub.execute_input": "2023-08-22T19:21:52.010350Z",
     "iopub.status.busy": "2023-08-22T19:21:52.009272Z",
     "iopub.status.idle": "2023-08-22T19:21:52.015124Z",
     "shell.execute_reply": "2023-08-22T19:21:52.014305Z"
    },
    "papermill": {
     "duration": 0.129416,
     "end_time": "2023-08-22T19:21:52.017544",
     "exception": false,
     "start_time": "2023-08-22T19:21:51.888128",
     "status": "completed"
    },
    "tags": []
   },
   "outputs": [],
   "source": [
    "# submit_v4(selected_model=LogisticRegression(max_iter=100000),\n",
    "#           selected_features=all_dict,\n",
    "#           param_grid=param_grid,\n",
    "#           vocab=rfe_vocab)"
   ]
  },
  {
   "cell_type": "code",
   "execution_count": 190,
   "id": "bf2ebf76",
   "metadata": {
    "execution": {
     "iopub.execute_input": "2023-08-22T19:21:52.257106Z",
     "iopub.status.busy": "2023-08-22T19:21:52.256436Z",
     "iopub.status.idle": "2023-08-22T19:21:52.271364Z",
     "shell.execute_reply": "2023-08-22T19:21:52.270174Z"
    },
    "papermill": {
     "duration": 0.136954,
     "end_time": "2023-08-22T19:21:52.273659",
     "exception": false,
     "start_time": "2023-08-22T19:21:52.136705",
     "status": "completed"
    },
    "tags": []
   },
   "outputs": [
    {
     "data": {
      "text/html": [
       "<style>#sk-container-id-1 {color: black;background-color: white;}#sk-container-id-1 pre{padding: 0;}#sk-container-id-1 div.sk-toggleable {background-color: white;}#sk-container-id-1 label.sk-toggleable__label {cursor: pointer;display: block;width: 100%;margin-bottom: 0;padding: 0.3em;box-sizing: border-box;text-align: center;}#sk-container-id-1 label.sk-toggleable__label-arrow:before {content: \"▸\";float: left;margin-right: 0.25em;color: #696969;}#sk-container-id-1 label.sk-toggleable__label-arrow:hover:before {color: black;}#sk-container-id-1 div.sk-estimator:hover label.sk-toggleable__label-arrow:before {color: black;}#sk-container-id-1 div.sk-toggleable__content {max-height: 0;max-width: 0;overflow: hidden;text-align: left;background-color: #f0f8ff;}#sk-container-id-1 div.sk-toggleable__content pre {margin: 0.2em;color: black;border-radius: 0.25em;background-color: #f0f8ff;}#sk-container-id-1 input.sk-toggleable__control:checked~div.sk-toggleable__content {max-height: 200px;max-width: 100%;overflow: auto;}#sk-container-id-1 input.sk-toggleable__control:checked~label.sk-toggleable__label-arrow:before {content: \"▾\";}#sk-container-id-1 div.sk-estimator input.sk-toggleable__control:checked~label.sk-toggleable__label {background-color: #d4ebff;}#sk-container-id-1 div.sk-label input.sk-toggleable__control:checked~label.sk-toggleable__label {background-color: #d4ebff;}#sk-container-id-1 input.sk-hidden--visually {border: 0;clip: rect(1px 1px 1px 1px);clip: rect(1px, 1px, 1px, 1px);height: 1px;margin: -1px;overflow: hidden;padding: 0;position: absolute;width: 1px;}#sk-container-id-1 div.sk-estimator {font-family: monospace;background-color: #f0f8ff;border: 1px dotted black;border-radius: 0.25em;box-sizing: border-box;margin-bottom: 0.5em;}#sk-container-id-1 div.sk-estimator:hover {background-color: #d4ebff;}#sk-container-id-1 div.sk-parallel-item::after {content: \"\";width: 100%;border-bottom: 1px solid gray;flex-grow: 1;}#sk-container-id-1 div.sk-label:hover label.sk-toggleable__label {background-color: #d4ebff;}#sk-container-id-1 div.sk-serial::before {content: \"\";position: absolute;border-left: 1px solid gray;box-sizing: border-box;top: 0;bottom: 0;left: 50%;z-index: 0;}#sk-container-id-1 div.sk-serial {display: flex;flex-direction: column;align-items: center;background-color: white;padding-right: 0.2em;padding-left: 0.2em;position: relative;}#sk-container-id-1 div.sk-item {position: relative;z-index: 1;}#sk-container-id-1 div.sk-parallel {display: flex;align-items: stretch;justify-content: center;background-color: white;position: relative;}#sk-container-id-1 div.sk-item::before, #sk-container-id-1 div.sk-parallel-item::before {content: \"\";position: absolute;border-left: 1px solid gray;box-sizing: border-box;top: 0;bottom: 0;left: 50%;z-index: -1;}#sk-container-id-1 div.sk-parallel-item {display: flex;flex-direction: column;z-index: 1;position: relative;background-color: white;}#sk-container-id-1 div.sk-parallel-item:first-child::after {align-self: flex-end;width: 50%;}#sk-container-id-1 div.sk-parallel-item:last-child::after {align-self: flex-start;width: 50%;}#sk-container-id-1 div.sk-parallel-item:only-child::after {width: 0;}#sk-container-id-1 div.sk-dashed-wrapped {border: 1px dashed gray;margin: 0 0.4em 0.5em 0.4em;box-sizing: border-box;padding-bottom: 0.4em;background-color: white;}#sk-container-id-1 div.sk-label label {font-family: monospace;font-weight: bold;display: inline-block;line-height: 1.2em;}#sk-container-id-1 div.sk-label-container {text-align: center;}#sk-container-id-1 div.sk-container {/* jupyter's `normalize.less` sets `[hidden] { display: none; }` but bootstrap.min.css set `[hidden] { display: none !important; }` so we also need the `!important` here to be able to override the default hidden behavior on the sphinx rendered scikit-learn.org. See: https://github.com/scikit-learn/scikit-learn/issues/21755 */display: inline-block !important;position: relative;}#sk-container-id-1 div.sk-text-repr-fallback {display: none;}</style><div id=\"sk-container-id-1\" class=\"sk-top-container\"><div class=\"sk-text-repr-fallback\"><pre>AdaBoostClassifier(estimator=LogisticRegression(C=5, max_iter=100000,\n",
       "                                                solver=&#x27;saga&#x27;))</pre><b>In a Jupyter environment, please rerun this cell to show the HTML representation or trust the notebook. <br />On GitHub, the HTML representation is unable to render, please try loading this page with nbviewer.org.</b></div><div class=\"sk-container\" hidden><div class=\"sk-item sk-dashed-wrapped\"><div class=\"sk-label-container\"><div class=\"sk-label sk-toggleable\"><input class=\"sk-toggleable__control sk-hidden--visually\" id=\"sk-estimator-id-1\" type=\"checkbox\" ><label for=\"sk-estimator-id-1\" class=\"sk-toggleable__label sk-toggleable__label-arrow\">AdaBoostClassifier</label><div class=\"sk-toggleable__content\"><pre>AdaBoostClassifier(estimator=LogisticRegression(C=5, max_iter=100000,\n",
       "                                                solver=&#x27;saga&#x27;))</pre></div></div></div><div class=\"sk-parallel\"><div class=\"sk-parallel-item\"><div class=\"sk-item\"><div class=\"sk-label-container\"><div class=\"sk-label sk-toggleable\"><input class=\"sk-toggleable__control sk-hidden--visually\" id=\"sk-estimator-id-2\" type=\"checkbox\" ><label for=\"sk-estimator-id-2\" class=\"sk-toggleable__label sk-toggleable__label-arrow\">estimator: LogisticRegression</label><div class=\"sk-toggleable__content\"><pre>LogisticRegression(C=5, max_iter=100000, solver=&#x27;saga&#x27;)</pre></div></div></div><div class=\"sk-serial\"><div class=\"sk-item\"><div class=\"sk-estimator sk-toggleable\"><input class=\"sk-toggleable__control sk-hidden--visually\" id=\"sk-estimator-id-3\" type=\"checkbox\" ><label for=\"sk-estimator-id-3\" class=\"sk-toggleable__label sk-toggleable__label-arrow\">LogisticRegression</label><div class=\"sk-toggleable__content\"><pre>LogisticRegression(C=5, max_iter=100000, solver=&#x27;saga&#x27;)</pre></div></div></div></div></div></div></div></div></div></div>"
      ],
      "text/plain": [
       "AdaBoostClassifier(estimator=LogisticRegression(C=5, max_iter=100000,\n",
       "                                                solver='saga'))"
      ]
     },
     "execution_count": 190,
     "metadata": {},
     "output_type": "execute_result"
    }
   ],
   "source": [
    "adc = AdaBoostClassifier(estimator=LogisticRegression(C=5, solver=\"saga\", max_iter=100000), n_estimators=50)\n",
    "adc"
   ]
  },
  {
   "cell_type": "code",
   "execution_count": 191,
   "id": "9dd3906c",
   "metadata": {
    "execution": {
     "iopub.execute_input": "2023-08-22T19:21:52.510765Z",
     "iopub.status.busy": "2023-08-22T19:21:52.510264Z",
     "iopub.status.idle": "2023-08-22T19:21:52.515798Z",
     "shell.execute_reply": "2023-08-22T19:21:52.514366Z"
    },
    "papermill": {
     "duration": 0.126723,
     "end_time": "2023-08-22T19:21:52.518342",
     "exception": false,
     "start_time": "2023-08-22T19:21:52.391619",
     "status": "completed"
    },
    "tags": []
   },
   "outputs": [],
   "source": [
    "# submit_v4(selected_model=adc,\n",
    "#           selected_features={'cat': ['isFrequentReviewer']},\n",
    "#           param_grid=None,\n",
    "#           vocab=rfe_vocab)"
   ]
  },
  {
   "cell_type": "code",
   "execution_count": 192,
   "id": "d8259a19",
   "metadata": {
    "execution": {
     "iopub.execute_input": "2023-08-22T19:21:52.861634Z",
     "iopub.status.busy": "2023-08-22T19:21:52.860850Z",
     "iopub.status.idle": "2023-08-22T19:21:52.865616Z",
     "shell.execute_reply": "2023-08-22T19:21:52.864646Z"
    },
    "papermill": {
     "duration": 0.129879,
     "end_time": "2023-08-22T19:21:52.867898",
     "exception": false,
     "start_time": "2023-08-22T19:21:52.738019",
     "status": "completed"
    },
    "tags": []
   },
   "outputs": [],
   "source": [
    "# AdaBoost on all features with RFE vocab on reviewText\n",
    "\n",
    "# submit_v4(selected_model=adc,\n",
    "#           selected_features=all_dict,\n",
    "#           param_grid=None,\n",
    "#           vocab=rfe_vocab)"
   ]
  },
  {
   "cell_type": "code",
   "execution_count": 193,
   "id": "8a08d2f2",
   "metadata": {
    "execution": {
     "iopub.execute_input": "2023-08-22T19:21:53.114940Z",
     "iopub.status.busy": "2023-08-22T19:21:53.114226Z",
     "iopub.status.idle": "2023-08-22T19:21:53.118628Z",
     "shell.execute_reply": "2023-08-22T19:21:53.117599Z"
    },
    "papermill": {
     "duration": 0.130737,
     "end_time": "2023-08-22T19:21:53.121014",
     "exception": false,
     "start_time": "2023-08-22T19:21:52.990277",
     "status": "completed"
    },
    "tags": []
   },
   "outputs": [],
   "source": [
    "# RandomForestClassifier test run on one feature\n",
    "\n",
    "# rfc_2 = RandomForestClassifier()\n",
    "# rfc_2"
   ]
  },
  {
   "cell_type": "code",
   "execution_count": 194,
   "id": "828afd19",
   "metadata": {
    "execution": {
     "iopub.execute_input": "2023-08-22T19:21:53.369294Z",
     "iopub.status.busy": "2023-08-22T19:21:53.368514Z",
     "iopub.status.idle": "2023-08-22T19:21:53.373066Z",
     "shell.execute_reply": "2023-08-22T19:21:53.371906Z"
    },
    "papermill": {
     "duration": 0.132793,
     "end_time": "2023-08-22T19:21:53.375749",
     "exception": false,
     "start_time": "2023-08-22T19:21:53.242956",
     "status": "completed"
    },
    "tags": []
   },
   "outputs": [],
   "source": [
    "# submit_v4(selected_model=rfc_2,\n",
    "#           selected_features={'txt': ['reviewerName']},\n",
    "#           param_grid=None,\n",
    "#           vocab=rfe_vocab)"
   ]
  },
  {
   "cell_type": "code",
   "execution_count": 195,
   "id": "81b6622a",
   "metadata": {
    "execution": {
     "iopub.execute_input": "2023-08-22T19:21:53.619654Z",
     "iopub.status.busy": "2023-08-22T19:21:53.618809Z",
     "iopub.status.idle": "2023-08-22T19:21:53.623295Z",
     "shell.execute_reply": "2023-08-22T19:21:53.622361Z"
    },
    "papermill": {
     "duration": 0.128544,
     "end_time": "2023-08-22T19:21:53.625474",
     "exception": false,
     "start_time": "2023-08-22T19:21:53.496930",
     "status": "completed"
    },
    "tags": []
   },
   "outputs": [],
   "source": [
    "# RandomForestClassifier on all features with RFE vocab on reviewText\n",
    "\n",
    "# submit_v4(selected_model=rfc_2,\n",
    "#           selected_features=all_dict,\n",
    "#           param_grid=None,\n",
    "#           vocab=rfe_vocab)"
   ]
  },
  {
   "cell_type": "markdown",
   "id": "087a859c",
   "metadata": {
    "papermill": {
     "duration": 0.120131,
     "end_time": "2023-08-22T19:21:53.865003",
     "exception": false,
     "start_time": "2023-08-22T19:21:53.744872",
     "status": "completed"
    },
    "tags": []
   },
   "source": [
    "## Submit_v2 for merged file models  "
   ]
  },
  {
   "cell_type": "code",
   "execution_count": 196,
   "id": "5d7bc43a",
   "metadata": {
    "execution": {
     "iopub.execute_input": "2023-08-22T19:21:54.106275Z",
     "iopub.status.busy": "2023-08-22T19:21:54.105426Z",
     "iopub.status.idle": "2023-08-22T19:21:54.111900Z",
     "shell.execute_reply": "2023-08-22T19:21:54.110625Z"
    },
    "papermill": {
     "duration": 0.130162,
     "end_time": "2023-08-22T19:21:54.114339",
     "exception": false,
     "start_time": "2023-08-22T19:21:53.984177",
     "status": "completed"
    },
    "tags": []
   },
   "outputs": [],
   "source": [
    "# def submit_v2(selected_model=pipe_final, selected_features=None):\n",
    "#     '''\n",
    "#     Note that \"selected_preprocessor\" is already used within selected_model or pipeline\n",
    "#     '''\n",
    "#     # Retrain on the whole train.csv file  \n",
    "#     merged = select_features(load_csv(\"train\"), load_csv(\"movies\"))\n",
    "#     X_train = merged.drop(labels=\"sentiment\", axis=1)\n",
    "#     y_train = merged[\"sentiment\"]\n",
    "    \n",
    "#     #Use selected features\n",
    "#     if selected_features:\n",
    "#         X_train = X_train[selected_features]\n",
    "    \n",
    "#     # Check1\n",
    "#     print(X_train.shape)\n",
    "#     print(X_train.head())\n",
    "#     try:\n",
    "#         print(selected_model.named_steps['model'].intercept_, selected_model.named_steps['model'].coef_)\n",
    "#     except:\n",
    "#         print(\"Model not trained yet!\")\n",
    "    \n",
    "#     # Fit \n",
    "#     selected_model.fit(X_train, y_train)\n",
    "    \n",
    "#     # Check2\n",
    "#     print(selected_model.named_steps['model'].intercept_, selected_model.named_steps['model'].coef_)\n",
    "    \n",
    "#     # Predict on test.csv file\n",
    "#     merged_test = select_features(load_csv(\"test\"), load_csv(\"movies\"))\n",
    "#     X_test = merged_test.copy()\n",
    "#     if selected_features:\n",
    "#         X_test = X_test[selected_features]\n",
    "    \n",
    "#     # Check3\n",
    "#     print(X_test.shape)\n",
    "#     print(X_test.head())\n",
    "    \n",
    "#     y_pred = selected_model.predict(X_test)\n",
    "    \n",
    "#     pred_df = pd.DataFrame(y_pred)\n",
    "#     pred_df.columns = [\"sentiment\"]\n",
    "#     pred_df.index.name = \"id\"\n",
    "#     pred_df.to_csv(\"submission.csv\")\n",
    "    \n",
    "#     return \"Successfully created the submission file!!!\""
   ]
  },
  {
   "cell_type": "code",
   "execution_count": 197,
   "id": "cb1ad85e",
   "metadata": {
    "execution": {
     "iopub.execute_input": "2023-08-22T19:21:54.350697Z",
     "iopub.status.busy": "2023-08-22T19:21:54.350226Z",
     "iopub.status.idle": "2023-08-22T19:21:54.355754Z",
     "shell.execute_reply": "2023-08-22T19:21:54.354476Z"
    },
    "papermill": {
     "duration": 0.127565,
     "end_time": "2023-08-22T19:21:54.358093",
     "exception": false,
     "start_time": "2023-08-22T19:21:54.230528",
     "status": "completed"
    },
    "tags": []
   },
   "outputs": [],
   "source": [
    "#     X_test = merged_test.copy()\n",
    "    \n",
    "#     y_pred = pipe_best4.predict(X_test)\n",
    "# #     np.unique(y_pred, return_counts=True)\n",
    "#     pred_df = pd.DataFrame(y_pred)\n",
    "#     pred_df.columns = [\"sentiment\"]\n",
    "#     pred_df.index.name = \"id\"\n",
    "#     pred_df.value_counts()"
   ]
  },
  {
   "cell_type": "code",
   "execution_count": 198,
   "id": "994b4118",
   "metadata": {
    "execution": {
     "iopub.execute_input": "2023-08-22T19:21:54.594812Z",
     "iopub.status.busy": "2023-08-22T19:21:54.594374Z",
     "iopub.status.idle": "2023-08-22T19:21:54.599453Z",
     "shell.execute_reply": "2023-08-22T19:21:54.598212Z"
    },
    "papermill": {
     "duration": 0.126638,
     "end_time": "2023-08-22T19:21:54.601609",
     "exception": false,
     "start_time": "2023-08-22T19:21:54.474971",
     "status": "completed"
    },
    "tags": []
   },
   "outputs": [],
   "source": [
    "# X_test.columns"
   ]
  },
  {
   "cell_type": "markdown",
   "id": "01c0b35d",
   "metadata": {
    "papermill": {
     "duration": 0.117539,
     "end_time": "2023-08-22T19:21:54.837003",
     "exception": false,
     "start_time": "2023-08-22T19:21:54.719464",
     "status": "completed"
    },
    "tags": []
   },
   "source": [
    "### Uncomment to submit using v2 of submit function  "
   ]
  },
  {
   "cell_type": "code",
   "execution_count": 199,
   "id": "4dc3afdd",
   "metadata": {
    "execution": {
     "iopub.execute_input": "2023-08-22T19:21:55.077597Z",
     "iopub.status.busy": "2023-08-22T19:21:55.076816Z",
     "iopub.status.idle": "2023-08-22T19:21:55.081728Z",
     "shell.execute_reply": "2023-08-22T19:21:55.080887Z"
    },
    "papermill": {
     "duration": 0.127746,
     "end_time": "2023-08-22T19:21:55.083984",
     "exception": false,
     "start_time": "2023-08-22T19:21:54.956238",
     "status": "completed"
    },
    "tags": []
   },
   "outputs": [],
   "source": [
    "# best4 = [\"audienceScore\", \"rating\", \"isFrequentReviewer\", \"reviewText\"]\n",
    "# best4"
   ]
  },
  {
   "cell_type": "code",
   "execution_count": 200,
   "id": "bf048ddc",
   "metadata": {
    "execution": {
     "iopub.execute_input": "2023-08-22T19:21:55.326769Z",
     "iopub.status.busy": "2023-08-22T19:21:55.326320Z",
     "iopub.status.idle": "2023-08-22T19:21:55.330981Z",
     "shell.execute_reply": "2023-08-22T19:21:55.329994Z"
    },
    "papermill": {
     "duration": 0.128094,
     "end_time": "2023-08-22T19:21:55.333277",
     "exception": false,
     "start_time": "2023-08-22T19:21:55.205183",
     "status": "completed"
    },
    "tags": []
   },
   "outputs": [],
   "source": [
    "# submit_v2(selected_model=pipe_RTonly, selected_features=['reviewText'])"
   ]
  },
  {
   "cell_type": "markdown",
   "id": "0fec20cd",
   "metadata": {
    "papermill": {
     "duration": 0.115913,
     "end_time": "2023-08-22T19:21:55.584015",
     "exception": false,
     "start_time": "2023-08-22T19:21:55.468102",
     "status": "completed"
    },
    "tags": []
   },
   "source": [
    "### Inspect the submission.csv file  "
   ]
  },
  {
   "cell_type": "code",
   "execution_count": 201,
   "id": "dc32755f",
   "metadata": {
    "execution": {
     "iopub.execute_input": "2023-08-22T19:21:55.821324Z",
     "iopub.status.busy": "2023-08-22T19:21:55.820580Z",
     "iopub.status.idle": "2023-08-22T19:21:55.824780Z",
     "shell.execute_reply": "2023-08-22T19:21:55.823775Z"
    },
    "papermill": {
     "duration": 0.126656,
     "end_time": "2023-08-22T19:21:55.827507",
     "exception": false,
     "start_time": "2023-08-22T19:21:55.700851",
     "status": "completed"
    },
    "tags": []
   },
   "outputs": [],
   "source": [
    "# sub = pd.read_csv('submission.csv')\n",
    "# sub.shape, sub.head()"
   ]
  },
  {
   "cell_type": "code",
   "execution_count": 202,
   "id": "811f25a1",
   "metadata": {
    "execution": {
     "iopub.execute_input": "2023-08-22T19:21:56.075437Z",
     "iopub.status.busy": "2023-08-22T19:21:56.074925Z",
     "iopub.status.idle": "2023-08-22T19:21:56.079471Z",
     "shell.execute_reply": "2023-08-22T19:21:56.078692Z"
    },
    "papermill": {
     "duration": 0.12964,
     "end_time": "2023-08-22T19:21:56.081514",
     "exception": false,
     "start_time": "2023-08-22T19:21:55.951874",
     "status": "completed"
    },
    "tags": []
   },
   "outputs": [],
   "source": [
    "# sub['sentiment'].value_counts()"
   ]
  },
  {
   "cell_type": "markdown",
   "id": "543df667",
   "metadata": {
    "papermill": {
     "duration": 0.118392,
     "end_time": "2023-08-22T19:21:56.316969",
     "exception": false,
     "start_time": "2023-08-22T19:21:56.198577",
     "status": "completed"
    },
    "tags": []
   },
   "source": [
    "## submit_v3 for merged file models - does not retrain on whole data  "
   ]
  },
  {
   "cell_type": "code",
   "execution_count": 203,
   "id": "428bcacc",
   "metadata": {
    "execution": {
     "iopub.execute_input": "2023-08-22T19:21:56.581424Z",
     "iopub.status.busy": "2023-08-22T19:21:56.580366Z",
     "iopub.status.idle": "2023-08-22T19:21:56.586478Z",
     "shell.execute_reply": "2023-08-22T19:21:56.585432Z"
    },
    "papermill": {
     "duration": 0.134035,
     "end_time": "2023-08-22T19:21:56.589491",
     "exception": false,
     "start_time": "2023-08-22T19:21:56.455456",
     "status": "completed"
    },
    "tags": []
   },
   "outputs": [],
   "source": [
    "# def submit_v3(selected_model=pipe_final):\n",
    "#     '''\n",
    "#     Note that \"selected_preprocessor\" is already used within selected_model or pipeline\n",
    "#     '''\n",
    "      \n",
    "#     # Predict on test.csv file\n",
    "#     merged_test = select_features(load_csv(\"test\"), load_csv(\"movies\"))\n",
    "#     X_test = merged_test.copy()\n",
    "    \n",
    "#     X_test = X_test[[\"audienceScore\", \"rating\", \"isFrequentReviewer\", \"reviewText\"]]    # This is a new line\n",
    "\n",
    "    \n",
    "#     y_pred = selected_model.predict(X_test)\n",
    "    \n",
    "#     pred_df = pd.DataFrame(y_pred)\n",
    "#     pred_df.columns = [\"sentiment\"]\n",
    "#     pred_df.index.name = \"id\"\n",
    "#     pred_df.to_csv(\"submission.csv\")\n",
    "    \n",
    "#     return \"Successfully created the submission file!!!\""
   ]
  },
  {
   "cell_type": "markdown",
   "id": "083939bd",
   "metadata": {
    "papermill": {
     "duration": 0.13723,
     "end_time": "2023-08-22T19:21:56.852239",
     "exception": false,
     "start_time": "2023-08-22T19:21:56.715009",
     "status": "completed"
    },
    "tags": []
   },
   "source": [
    "### Uncomment to submit using v3 of submit function  "
   ]
  },
  {
   "cell_type": "code",
   "execution_count": 204,
   "id": "5af9bf4d",
   "metadata": {
    "execution": {
     "iopub.execute_input": "2023-08-22T19:21:57.103150Z",
     "iopub.status.busy": "2023-08-22T19:21:57.102689Z",
     "iopub.status.idle": "2023-08-22T19:21:57.107676Z",
     "shell.execute_reply": "2023-08-22T19:21:57.106484Z"
    },
    "papermill": {
     "duration": 0.132438,
     "end_time": "2023-08-22T19:21:57.110126",
     "exception": false,
     "start_time": "2023-08-22T19:21:56.977688",
     "status": "completed"
    },
    "tags": []
   },
   "outputs": [],
   "source": [
    "# submit_v3(selected_model=pipe_best4)"
   ]
  },
  {
   "cell_type": "markdown",
   "id": "dc900756",
   "metadata": {
    "papermill": {
     "duration": 0.12294,
     "end_time": "2023-08-22T19:21:57.355783",
     "exception": false,
     "start_time": "2023-08-22T19:21:57.232843",
     "status": "completed"
    },
    "tags": []
   },
   "source": [
    "## Rough work  "
   ]
  },
  {
   "cell_type": "code",
   "execution_count": 205,
   "id": "c4e16ab8",
   "metadata": {
    "execution": {
     "iopub.execute_input": "2023-08-22T19:21:57.677269Z",
     "iopub.status.busy": "2023-08-22T19:21:57.676542Z",
     "iopub.status.idle": "2023-08-22T19:22:03.905760Z",
     "shell.execute_reply": "2023-08-22T19:22:03.904364Z"
    },
    "papermill": {
     "duration": 6.350863,
     "end_time": "2023-08-22T19:22:03.908950",
     "exception": false,
     "start_time": "2023-08-22T19:21:57.558087",
     "status": "completed"
    },
    "tags": []
   },
   "outputs": [],
   "source": [
    "    # Predict on test.csv file\n",
    "    merged_test = select_features(load_csv(\"test\"), load_csv(\"movies\"))\n",
    "    X_test = merged_test.copy()\n",
    "    \n",
    "    X_test = X_test[[\"audienceScore\", \"rating\", \"isFrequentReviewer\", \"reviewText\"]]    # This is a new line"
   ]
  },
  {
   "cell_type": "code",
   "execution_count": 206,
   "id": "67cc7101",
   "metadata": {
    "execution": {
     "iopub.execute_input": "2023-08-22T19:22:04.157942Z",
     "iopub.status.busy": "2023-08-22T19:22:04.157338Z",
     "iopub.status.idle": "2023-08-22T19:22:04.161034Z",
     "shell.execute_reply": "2023-08-22T19:22:04.160315Z"
    },
    "papermill": {
     "duration": 0.131507,
     "end_time": "2023-08-22T19:22:04.163266",
     "exception": false,
     "start_time": "2023-08-22T19:22:04.031759",
     "status": "completed"
    },
    "tags": []
   },
   "outputs": [],
   "source": [
    "# X_test.head()"
   ]
  },
  {
   "cell_type": "code",
   "execution_count": 207,
   "id": "15abbf1c",
   "metadata": {
    "execution": {
     "iopub.execute_input": "2023-08-22T19:22:04.409757Z",
     "iopub.status.busy": "2023-08-22T19:22:04.409354Z",
     "iopub.status.idle": "2023-08-22T19:22:04.413887Z",
     "shell.execute_reply": "2023-08-22T19:22:04.412848Z"
    },
    "papermill": {
     "duration": 0.131781,
     "end_time": "2023-08-22T19:22:04.416170",
     "exception": false,
     "start_time": "2023-08-22T19:22:04.284389",
     "status": "completed"
    },
    "tags": []
   },
   "outputs": [],
   "source": [
    "# X_test['audienceScore'].describe()"
   ]
  },
  {
   "cell_type": "code",
   "execution_count": 208,
   "id": "d1b0a688",
   "metadata": {
    "execution": {
     "iopub.execute_input": "2023-08-22T19:22:04.654691Z",
     "iopub.status.busy": "2023-08-22T19:22:04.654164Z",
     "iopub.status.idle": "2023-08-22T19:22:04.659583Z",
     "shell.execute_reply": "2023-08-22T19:22:04.658146Z"
    },
    "papermill": {
     "duration": 0.128155,
     "end_time": "2023-08-22T19:22:04.662421",
     "exception": false,
     "start_time": "2023-08-22T19:22:04.534266",
     "status": "completed"
    },
    "tags": []
   },
   "outputs": [],
   "source": [
    "# X_test['rating'].value_counts()"
   ]
  },
  {
   "cell_type": "code",
   "execution_count": 209,
   "id": "e7efa868",
   "metadata": {
    "execution": {
     "iopub.execute_input": "2023-08-22T19:22:04.909602Z",
     "iopub.status.busy": "2023-08-22T19:22:04.909139Z",
     "iopub.status.idle": "2023-08-22T19:22:04.914387Z",
     "shell.execute_reply": "2023-08-22T19:22:04.913036Z"
    },
    "papermill": {
     "duration": 0.132051,
     "end_time": "2023-08-22T19:22:04.917073",
     "exception": false,
     "start_time": "2023-08-22T19:22:04.785022",
     "status": "completed"
    },
    "tags": []
   },
   "outputs": [],
   "source": [
    "# X_test['isFrequentReviewer'].value_counts()"
   ]
  },
  {
   "cell_type": "markdown",
   "id": "a3161cc6",
   "metadata": {
    "papermill": {
     "duration": 0.120282,
     "end_time": "2023-08-22T19:22:05.159584",
     "exception": false,
     "start_time": "2023-08-22T19:22:05.039302",
     "status": "completed"
    },
    "tags": []
   },
   "source": [
    "## Implement KNN classifier  "
   ]
  },
  {
   "cell_type": "code",
   "execution_count": 210,
   "id": "0ae31772",
   "metadata": {
    "execution": {
     "iopub.execute_input": "2023-08-22T19:22:05.416869Z",
     "iopub.status.busy": "2023-08-22T19:22:05.416310Z",
     "iopub.status.idle": "2023-08-22T19:22:05.421170Z",
     "shell.execute_reply": "2023-08-22T19:22:05.420324Z"
    },
    "papermill": {
     "duration": 0.142834,
     "end_time": "2023-08-22T19:22:05.424566",
     "exception": false,
     "start_time": "2023-08-22T19:22:05.281732",
     "status": "completed"
    },
    "tags": []
   },
   "outputs": [],
   "source": [
    "# from sklearn.neighbors import KNeighborsClassifier"
   ]
  },
  {
   "cell_type": "code",
   "execution_count": 211,
   "id": "65d5174a",
   "metadata": {
    "execution": {
     "iopub.execute_input": "2023-08-22T19:22:05.668635Z",
     "iopub.status.busy": "2023-08-22T19:22:05.668187Z",
     "iopub.status.idle": "2023-08-22T19:22:05.673732Z",
     "shell.execute_reply": "2023-08-22T19:22:05.672393Z"
    },
    "papermill": {
     "duration": 0.126261,
     "end_time": "2023-08-22T19:22:05.675847",
     "exception": false,
     "start_time": "2023-08-22T19:22:05.549586",
     "status": "completed"
    },
    "tags": []
   },
   "outputs": [],
   "source": [
    "# Note that we are borrowing \"ct_final\" column transformer from above  "
   ]
  },
  {
   "cell_type": "code",
   "execution_count": 212,
   "id": "78d90cff",
   "metadata": {
    "execution": {
     "iopub.execute_input": "2023-08-22T19:22:05.912712Z",
     "iopub.status.busy": "2023-08-22T19:22:05.911477Z",
     "iopub.status.idle": "2023-08-22T19:22:05.916864Z",
     "shell.execute_reply": "2023-08-22T19:22:05.916092Z"
    },
    "papermill": {
     "duration": 0.125735,
     "end_time": "2023-08-22T19:22:05.919079",
     "exception": false,
     "start_time": "2023-08-22T19:22:05.793344",
     "status": "completed"
    },
    "tags": []
   },
   "outputs": [],
   "source": [
    "# pipe_knn = Pipeline(steps=[\n",
    "#                         (\"preprocessor\", ct_final),\n",
    "#                         (\"model\", KNeighborsClassifier())\n",
    "#                     ])\n",
    "# pipe_knn"
   ]
  },
  {
   "cell_type": "code",
   "execution_count": 213,
   "id": "43587b28",
   "metadata": {
    "execution": {
     "iopub.execute_input": "2023-08-22T19:22:06.157775Z",
     "iopub.status.busy": "2023-08-22T19:22:06.156593Z",
     "iopub.status.idle": "2023-08-22T19:22:06.161518Z",
     "shell.execute_reply": "2023-08-22T19:22:06.160763Z"
    },
    "papermill": {
     "duration": 0.12594,
     "end_time": "2023-08-22T19:22:06.163658",
     "exception": false,
     "start_time": "2023-08-22T19:22:06.037718",
     "status": "completed"
    },
    "tags": []
   },
   "outputs": [],
   "source": [
    "# Train and predict on merged training data  \n",
    "# split_train_predict(merged_train_features, merged_train_labels, pipe_knn, test_size=0.25, random_state=42)"
   ]
  },
  {
   "cell_type": "markdown",
   "id": "32c6a39f",
   "metadata": {
    "papermill": {
     "duration": 0.117576,
     "end_time": "2023-08-22T19:22:06.398132",
     "exception": false,
     "start_time": "2023-08-22T19:22:06.280556",
     "status": "completed"
    },
    "tags": []
   },
   "source": [
    "# Part I (Older code)  "
   ]
  },
  {
   "cell_type": "markdown",
   "id": "268465e3",
   "metadata": {
    "papermill": {
     "duration": 0.116975,
     "end_time": "2023-08-22T19:22:06.631812",
     "exception": false,
     "start_time": "2023-08-22T19:22:06.514837",
     "status": "completed"
    },
    "tags": []
   },
   "source": [
    "### Logistic Regression with stop words  "
   ]
  },
  {
   "cell_type": "code",
   "execution_count": 214,
   "id": "13f2c282",
   "metadata": {
    "execution": {
     "iopub.execute_input": "2023-08-22T19:22:06.872077Z",
     "iopub.status.busy": "2023-08-22T19:22:06.870925Z",
     "iopub.status.idle": "2023-08-22T19:22:06.876207Z",
     "shell.execute_reply": "2023-08-22T19:22:06.875429Z"
    },
    "papermill": {
     "duration": 0.127293,
     "end_time": "2023-08-22T19:22:06.878475",
     "exception": false,
     "start_time": "2023-08-22T19:22:06.751182",
     "status": "completed"
    },
    "tags": []
   },
   "outputs": [],
   "source": [
    "# tvec_sw = TfidfVectorizer(stop_words=stop_words)"
   ]
  },
  {
   "cell_type": "code",
   "execution_count": 215,
   "id": "25354e7c",
   "metadata": {
    "execution": {
     "iopub.execute_input": "2023-08-22T19:22:07.117004Z",
     "iopub.status.busy": "2023-08-22T19:22:07.116350Z",
     "iopub.status.idle": "2023-08-22T19:22:07.121485Z",
     "shell.execute_reply": "2023-08-22T19:22:07.120365Z"
    },
    "papermill": {
     "duration": 0.128557,
     "end_time": "2023-08-22T19:22:07.124308",
     "exception": false,
     "start_time": "2023-08-22T19:22:06.995751",
     "status": "completed"
    },
    "tags": []
   },
   "outputs": [],
   "source": [
    "# logreg_sw_pipe = preprocess_n_train(X_train, y_train, tvec_sw, logreg)\n",
    "# logreg_sw_pipe"
   ]
  },
  {
   "cell_type": "code",
   "execution_count": 216,
   "id": "066ef128",
   "metadata": {
    "execution": {
     "iopub.execute_input": "2023-08-22T19:22:07.376576Z",
     "iopub.status.busy": "2023-08-22T19:22:07.375928Z",
     "iopub.status.idle": "2023-08-22T19:22:07.381066Z",
     "shell.execute_reply": "2023-08-22T19:22:07.379758Z"
    },
    "papermill": {
     "duration": 0.136099,
     "end_time": "2023-08-22T19:22:07.383632",
     "exception": false,
     "start_time": "2023-08-22T19:22:07.247533",
     "status": "completed"
    },
    "tags": []
   },
   "outputs": [],
   "source": [
    "# y_pred_logreg_sw = predict_n_evaluate(logreg_sw_pipe, X_test, y_test)\n",
    "# y_pred_logreg_sw"
   ]
  },
  {
   "cell_type": "markdown",
   "id": "838aa947",
   "metadata": {
    "papermill": {
     "duration": 0.120506,
     "end_time": "2023-08-22T19:22:07.627604",
     "exception": false,
     "start_time": "2023-08-22T19:22:07.507098",
     "status": "completed"
    },
    "tags": []
   },
   "source": [
    "### Logistic regression with different ngram ranges  "
   ]
  },
  {
   "cell_type": "code",
   "execution_count": 217,
   "id": "0c8efba8",
   "metadata": {
    "execution": {
     "iopub.execute_input": "2023-08-22T19:22:07.867503Z",
     "iopub.status.busy": "2023-08-22T19:22:07.866832Z",
     "iopub.status.idle": "2023-08-22T19:22:07.872162Z",
     "shell.execute_reply": "2023-08-22T19:22:07.870920Z"
    },
    "papermill": {
     "duration": 0.126298,
     "end_time": "2023-08-22T19:22:07.874442",
     "exception": false,
     "start_time": "2023-08-22T19:22:07.748144",
     "status": "completed"
    },
    "tags": []
   },
   "outputs": [],
   "source": [
    "# tvec_ngram_2 = TfidfVectorizer(ngram_range=(1,2))"
   ]
  },
  {
   "cell_type": "code",
   "execution_count": 218,
   "id": "224fc3d0",
   "metadata": {
    "execution": {
     "iopub.execute_input": "2023-08-22T19:22:08.115832Z",
     "iopub.status.busy": "2023-08-22T19:22:08.114440Z",
     "iopub.status.idle": "2023-08-22T19:22:08.119828Z",
     "shell.execute_reply": "2023-08-22T19:22:08.118575Z"
    },
    "papermill": {
     "duration": 0.129868,
     "end_time": "2023-08-22T19:22:08.122326",
     "exception": false,
     "start_time": "2023-08-22T19:22:07.992458",
     "status": "completed"
    },
    "tags": []
   },
   "outputs": [],
   "source": [
    "# logreg_ng2_pipe = preprocess_n_train(X_train, y_train, tvec_ngram_2, logreg)\n",
    "# logreg_ng2_pipe"
   ]
  },
  {
   "cell_type": "code",
   "execution_count": 219,
   "id": "7a5149a9",
   "metadata": {
    "execution": {
     "iopub.execute_input": "2023-08-22T19:22:08.360899Z",
     "iopub.status.busy": "2023-08-22T19:22:08.360058Z",
     "iopub.status.idle": "2023-08-22T19:22:08.365547Z",
     "shell.execute_reply": "2023-08-22T19:22:08.364326Z"
    },
    "papermill": {
     "duration": 0.127266,
     "end_time": "2023-08-22T19:22:08.368054",
     "exception": false,
     "start_time": "2023-08-22T19:22:08.240788",
     "status": "completed"
    },
    "tags": []
   },
   "outputs": [],
   "source": [
    "# y_pred_logreg_ng2 = predict_n_evaluate(logreg_ng2_pipe, X_test, y_test)\n",
    "# y_pred_logreg_ng2"
   ]
  },
  {
   "cell_type": "markdown",
   "id": "91f94347",
   "metadata": {
    "papermill": {
     "duration": 0.116418,
     "end_time": "2023-08-22T19:22:08.600851",
     "exception": false,
     "start_time": "2023-08-22T19:22:08.484433",
     "status": "completed"
    },
    "tags": []
   },
   "source": [
    "### Logistic regression with C=2, ngram range (1,2), stop words as None and min_df, max_df adjusted\n",
    "### Class weight balanced"
   ]
  },
  {
   "cell_type": "code",
   "execution_count": 220,
   "id": "d5928b6f",
   "metadata": {
    "execution": {
     "iopub.execute_input": "2023-08-22T19:22:08.838312Z",
     "iopub.status.busy": "2023-08-22T19:22:08.837803Z",
     "iopub.status.idle": "2023-08-22T19:22:08.842954Z",
     "shell.execute_reply": "2023-08-22T19:22:08.841787Z"
    },
    "papermill": {
     "duration": 0.127116,
     "end_time": "2023-08-22T19:22:08.845342",
     "exception": false,
     "start_time": "2023-08-22T19:22:08.718226",
     "status": "completed"
    },
    "tags": []
   },
   "outputs": [],
   "source": [
    "# logreg = LogisticRegression(max_iter=100000, C=2, class_weight=\"balanced\")"
   ]
  },
  {
   "cell_type": "code",
   "execution_count": 221,
   "id": "38d9ecf6",
   "metadata": {
    "execution": {
     "iopub.execute_input": "2023-08-22T19:22:09.084718Z",
     "iopub.status.busy": "2023-08-22T19:22:09.084283Z",
     "iopub.status.idle": "2023-08-22T19:22:09.090369Z",
     "shell.execute_reply": "2023-08-22T19:22:09.087729Z"
    },
    "papermill": {
     "duration": 0.130767,
     "end_time": "2023-08-22T19:22:09.092733",
     "exception": false,
     "start_time": "2023-08-22T19:22:08.961966",
     "status": "completed"
    },
    "tags": []
   },
   "outputs": [],
   "source": [
    "# tvec_ngram_2_sw_df = TfidfVectorizer(ngram_range=(1,2), stop_words=None, min_df=0.0001, max_df=0.50)\n",
    "# tvec_ngram_2_sw_df"
   ]
  },
  {
   "cell_type": "code",
   "execution_count": 222,
   "id": "b1441654",
   "metadata": {
    "execution": {
     "iopub.execute_input": "2023-08-22T19:22:09.339343Z",
     "iopub.status.busy": "2023-08-22T19:22:09.338395Z",
     "iopub.status.idle": "2023-08-22T19:22:09.343593Z",
     "shell.execute_reply": "2023-08-22T19:22:09.342689Z"
    },
    "papermill": {
     "duration": 0.131543,
     "end_time": "2023-08-22T19:22:09.346064",
     "exception": false,
     "start_time": "2023-08-22T19:22:09.214521",
     "status": "completed"
    },
    "tags": []
   },
   "outputs": [],
   "source": [
    "# logreg_ng2_sw_df_pipe = preprocess_n_train(X_train, y_train, tvec_ngram_2_sw_df, logreg)\n",
    "# logreg_ng2_sw_df_pipe"
   ]
  },
  {
   "cell_type": "code",
   "execution_count": 223,
   "id": "e0440f6c",
   "metadata": {
    "execution": {
     "iopub.execute_input": "2023-08-22T19:22:09.597905Z",
     "iopub.status.busy": "2023-08-22T19:22:09.597066Z",
     "iopub.status.idle": "2023-08-22T19:22:09.601957Z",
     "shell.execute_reply": "2023-08-22T19:22:09.601171Z"
    },
    "papermill": {
     "duration": 0.130796,
     "end_time": "2023-08-22T19:22:09.604323",
     "exception": false,
     "start_time": "2023-08-22T19:22:09.473527",
     "status": "completed"
    },
    "tags": []
   },
   "outputs": [],
   "source": [
    "# y_pred_logreg_ng2_sw_df = predict_n_evaluate(logreg_ng2_sw_df_pipe, X_test, y_test)\n",
    "# y_pred_logreg_ng2_sw_df"
   ]
  },
  {
   "cell_type": "markdown",
   "id": "3b7f8d98",
   "metadata": {
    "papermill": {
     "duration": 0.118488,
     "end_time": "2023-08-22T19:22:09.847027",
     "exception": false,
     "start_time": "2023-08-22T19:22:09.728539",
     "status": "completed"
    },
    "tags": []
   },
   "source": [
    "### Log reg with parameters from GridSearchCV  \n",
    "\n",
    "`This is the best score with \"reviewText column alone for analysis`  "
   ]
  },
  {
   "cell_type": "code",
   "execution_count": 224,
   "id": "9265a4ef",
   "metadata": {
    "execution": {
     "iopub.execute_input": "2023-08-22T19:22:10.087635Z",
     "iopub.status.busy": "2023-08-22T19:22:10.086890Z",
     "iopub.status.idle": "2023-08-22T19:22:10.092929Z",
     "shell.execute_reply": "2023-08-22T19:22:10.091657Z"
    },
    "papermill": {
     "duration": 0.129718,
     "end_time": "2023-08-22T19:22:10.095371",
     "exception": false,
     "start_time": "2023-08-22T19:22:09.965653",
     "status": "completed"
    },
    "tags": []
   },
   "outputs": [],
   "source": [
    "logreg_cv1 = LogisticRegression(max_iter=100000, C=10)\n",
    "tvec_cv1 = TfidfVectorizer(max_features=None, ngram_range=(1,2))"
   ]
  },
  {
   "cell_type": "code",
   "execution_count": 225,
   "id": "45457c7b",
   "metadata": {
    "execution": {
     "iopub.execute_input": "2023-08-22T19:22:10.333032Z",
     "iopub.status.busy": "2023-08-22T19:22:10.332592Z",
     "iopub.status.idle": "2023-08-22T19:22:10.338502Z",
     "shell.execute_reply": "2023-08-22T19:22:10.337189Z"
    },
    "papermill": {
     "duration": 0.127551,
     "end_time": "2023-08-22T19:22:10.341080",
     "exception": false,
     "start_time": "2023-08-22T19:22:10.213529",
     "status": "completed"
    },
    "tags": []
   },
   "outputs": [],
   "source": [
    "pipe_cv1 = Pipeline(steps=[\n",
    "    (\"preprocessor\", tvec_cv1),\n",
    "    (\"model\", logreg_cv1)\n",
    "])"
   ]
  },
  {
   "cell_type": "code",
   "execution_count": 226,
   "id": "05708346",
   "metadata": {
    "execution": {
     "iopub.execute_input": "2023-08-22T19:22:10.651169Z",
     "iopub.status.busy": "2023-08-22T19:22:10.650770Z",
     "iopub.status.idle": "2023-08-22T19:22:10.655943Z",
     "shell.execute_reply": "2023-08-22T19:22:10.654507Z"
    },
    "papermill": {
     "duration": 0.196816,
     "end_time": "2023-08-22T19:22:10.658402",
     "exception": false,
     "start_time": "2023-08-22T19:22:10.461586",
     "status": "completed"
    },
    "tags": []
   },
   "outputs": [],
   "source": [
    "# pipe_cv1.fit(X_train, y_train)"
   ]
  },
  {
   "cell_type": "code",
   "execution_count": 227,
   "id": "e55d1b5d",
   "metadata": {
    "execution": {
     "iopub.execute_input": "2023-08-22T19:22:10.897187Z",
     "iopub.status.busy": "2023-08-22T19:22:10.896829Z",
     "iopub.status.idle": "2023-08-22T19:22:10.901587Z",
     "shell.execute_reply": "2023-08-22T19:22:10.900277Z"
    },
    "papermill": {
     "duration": 0.125809,
     "end_time": "2023-08-22T19:22:10.903912",
     "exception": false,
     "start_time": "2023-08-22T19:22:10.778103",
     "status": "completed"
    },
    "tags": []
   },
   "outputs": [],
   "source": [
    "# pipe_cv1.score(X_train, y_train)"
   ]
  },
  {
   "cell_type": "markdown",
   "id": "df1b7d59",
   "metadata": {
    "papermill": {
     "duration": 0.117796,
     "end_time": "2023-08-22T19:22:11.139398",
     "exception": false,
     "start_time": "2023-08-22T19:22:11.021602",
     "status": "completed"
    },
    "tags": []
   },
   "source": [
    "### SVM model with stop words  "
   ]
  },
  {
   "cell_type": "code",
   "execution_count": 228,
   "id": "355dd36d",
   "metadata": {
    "execution": {
     "iopub.execute_input": "2023-08-22T19:22:11.376466Z",
     "iopub.status.busy": "2023-08-22T19:22:11.376077Z",
     "iopub.status.idle": "2023-08-22T19:22:11.380799Z",
     "shell.execute_reply": "2023-08-22T19:22:11.379455Z"
    },
    "papermill": {
     "duration": 0.127284,
     "end_time": "2023-08-22T19:22:11.383316",
     "exception": false,
     "start_time": "2023-08-22T19:22:11.256032",
     "status": "completed"
    },
    "tags": []
   },
   "outputs": [],
   "source": [
    "# svm_sw_pipe = preprocess_n_train(X_train, y_train, tvec_sw, svm)\n",
    "# svm_sw_pipe"
   ]
  },
  {
   "cell_type": "code",
   "execution_count": 229,
   "id": "1ab0b3af",
   "metadata": {
    "execution": {
     "iopub.execute_input": "2023-08-22T19:22:11.621051Z",
     "iopub.status.busy": "2023-08-22T19:22:11.620668Z",
     "iopub.status.idle": "2023-08-22T19:22:11.625667Z",
     "shell.execute_reply": "2023-08-22T19:22:11.624210Z"
    },
    "papermill": {
     "duration": 0.125953,
     "end_time": "2023-08-22T19:22:11.627965",
     "exception": false,
     "start_time": "2023-08-22T19:22:11.502012",
     "status": "completed"
    },
    "tags": []
   },
   "outputs": [],
   "source": [
    "# y_pred_svm_sw = predict_n_evaluate(svm_sw_pipe, X_test, y_test)\n",
    "# y_pred_svm_sw"
   ]
  },
  {
   "cell_type": "markdown",
   "id": "173f7a85",
   "metadata": {
    "papermill": {
     "duration": 0.119688,
     "end_time": "2023-08-22T19:22:11.864445",
     "exception": false,
     "start_time": "2023-08-22T19:22:11.744757",
     "status": "completed"
    },
    "tags": []
   },
   "source": [
    "### GaussianNB  "
   ]
  },
  {
   "cell_type": "markdown",
   "id": "b5147af4",
   "metadata": {
    "papermill": {
     "duration": 0.117096,
     "end_time": "2023-08-22T19:22:12.100573",
     "exception": false,
     "start_time": "2023-08-22T19:22:11.983477",
     "status": "completed"
    },
    "tags": []
   },
   "source": [
    "https://stackoverflow.com/questions/28384680/scikit-learns-pipeline-a-sparse-matrix-was-passed-but-dense-data-is-required"
   ]
  },
  {
   "cell_type": "code",
   "execution_count": 230,
   "id": "86146dcb",
   "metadata": {
    "execution": {
     "iopub.execute_input": "2023-08-22T19:22:12.338277Z",
     "iopub.status.busy": "2023-08-22T19:22:12.337808Z",
     "iopub.status.idle": "2023-08-22T19:22:12.343215Z",
     "shell.execute_reply": "2023-08-22T19:22:12.342061Z"
    },
    "papermill": {
     "duration": 0.126213,
     "end_time": "2023-08-22T19:22:12.345577",
     "exception": false,
     "start_time": "2023-08-22T19:22:12.219364",
     "status": "completed"
    },
    "tags": []
   },
   "outputs": [],
   "source": [
    "# gnb = GaussianNB()\n",
    "# gnb"
   ]
  },
  {
   "cell_type": "code",
   "execution_count": 231,
   "id": "c56f0de8",
   "metadata": {
    "execution": {
     "iopub.execute_input": "2023-08-22T19:22:12.584728Z",
     "iopub.status.busy": "2023-08-22T19:22:12.584271Z",
     "iopub.status.idle": "2023-08-22T19:22:12.590329Z",
     "shell.execute_reply": "2023-08-22T19:22:12.588714Z"
    },
    "papermill": {
     "duration": 0.128169,
     "end_time": "2023-08-22T19:22:12.593078",
     "exception": false,
     "start_time": "2023-08-22T19:22:12.464909",
     "status": "completed"
    },
    "tags": []
   },
   "outputs": [],
   "source": [
    "# gnb_pipe = preprocess_n_train(X_train, y_train, tvec, gnb)\n",
    "# gnb_pipe"
   ]
  },
  {
   "cell_type": "markdown",
   "id": "14682b73",
   "metadata": {
    "papermill": {
     "duration": 0.118431,
     "end_time": "2023-08-22T19:22:12.830952",
     "exception": false,
     "start_time": "2023-08-22T19:22:12.712521",
     "status": "completed"
    },
    "tags": []
   },
   "source": [
    "# Part II (Older code)  \n"
   ]
  },
  {
   "cell_type": "markdown",
   "id": "8ac6ada1",
   "metadata": {
    "papermill": {
     "duration": 0.119373,
     "end_time": "2023-08-22T19:22:13.067517",
     "exception": false,
     "start_time": "2023-08-22T19:22:12.948144",
     "status": "completed"
    },
    "tags": []
   },
   "source": [
    "### Separate features and labels from merged dataset  "
   ]
  },
  {
   "cell_type": "code",
   "execution_count": 232,
   "id": "c7d9ecb4",
   "metadata": {
    "execution": {
     "iopub.execute_input": "2023-08-22T19:22:13.308602Z",
     "iopub.status.busy": "2023-08-22T19:22:13.308018Z",
     "iopub.status.idle": "2023-08-22T19:22:13.313611Z",
     "shell.execute_reply": "2023-08-22T19:22:13.312351Z"
    },
    "papermill": {
     "duration": 0.127423,
     "end_time": "2023-08-22T19:22:13.315970",
     "exception": false,
     "start_time": "2023-08-22T19:22:13.188547",
     "status": "completed"
    },
    "tags": []
   },
   "outputs": [],
   "source": [
    "# merged_train_features = merged[['movieid', 'reviewerName', 'isFrequentReviewer', 'reviewText',\n",
    "#        'audienceScore', 'rating', 'runtimeMinutes', 'genre',\n",
    "#        'originalLanguage', 'director']]\n",
    "# merged_train_features.shape"
   ]
  },
  {
   "cell_type": "code",
   "execution_count": 233,
   "id": "99a9684a",
   "metadata": {
    "execution": {
     "iopub.execute_input": "2023-08-22T19:22:13.553431Z",
     "iopub.status.busy": "2023-08-22T19:22:13.552983Z",
     "iopub.status.idle": "2023-08-22T19:22:13.557797Z",
     "shell.execute_reply": "2023-08-22T19:22:13.556689Z"
    },
    "papermill": {
     "duration": 0.12636,
     "end_time": "2023-08-22T19:22:13.560066",
     "exception": false,
     "start_time": "2023-08-22T19:22:13.433706",
     "status": "completed"
    },
    "tags": []
   },
   "outputs": [],
   "source": [
    "# merged_train_labels = merged[\"sentiment\"]\n",
    "# merged_train_labels.shape"
   ]
  },
  {
   "cell_type": "markdown",
   "id": "bf53a3d1",
   "metadata": {
    "papermill": {
     "duration": 0.116581,
     "end_time": "2023-08-22T19:22:13.793212",
     "exception": false,
     "start_time": "2023-08-22T19:22:13.676631",
     "status": "completed"
    },
    "tags": []
   },
   "source": [
    "### Identify variable types for different preprocessing pipes  "
   ]
  },
  {
   "cell_type": "code",
   "execution_count": 234,
   "id": "f0faf877",
   "metadata": {
    "execution": {
     "iopub.execute_input": "2023-08-22T19:22:14.031624Z",
     "iopub.status.busy": "2023-08-22T19:22:14.031192Z",
     "iopub.status.idle": "2023-08-22T19:22:14.035883Z",
     "shell.execute_reply": "2023-08-22T19:22:14.034643Z"
    },
    "papermill": {
     "duration": 0.128,
     "end_time": "2023-08-22T19:22:14.038238",
     "exception": false,
     "start_time": "2023-08-22T19:22:13.910238",
     "status": "completed"
    },
    "tags": []
   },
   "outputs": [],
   "source": [
    "# num_vars = [\"audienceScore\", \"runtimeMinutes\"]\n",
    "# txt_vars = [\"originalLanguage\", \"genre\", \"director\", \"reviewerName\", \"reviewText\"]\n",
    "# cat_vars = [\"rating\", \"isFrequentReviewer\"]"
   ]
  },
  {
   "cell_type": "code",
   "execution_count": 235,
   "id": "2b08df16",
   "metadata": {
    "execution": {
     "iopub.execute_input": "2023-08-22T19:22:14.276020Z",
     "iopub.status.busy": "2023-08-22T19:22:14.275674Z",
     "iopub.status.idle": "2023-08-22T19:22:14.280115Z",
     "shell.execute_reply": "2023-08-22T19:22:14.279069Z"
    },
    "papermill": {
     "duration": 0.127428,
     "end_time": "2023-08-22T19:22:14.282850",
     "exception": false,
     "start_time": "2023-08-22T19:22:14.155422",
     "status": "completed"
    },
    "tags": []
   },
   "outputs": [],
   "source": [
    "# num_pipe = Pipeline(steps=[\n",
    "#                             (\"imputer\", SimpleImputer(strategy=\"mean\", missing_values=np.nan)),\n",
    "#                             (\"scaler\", MinMaxScaler())\n",
    "#                         ])\n",
    "# num_pipe"
   ]
  },
  {
   "cell_type": "code",
   "execution_count": 236,
   "id": "0ec468d6",
   "metadata": {
    "execution": {
     "iopub.execute_input": "2023-08-22T19:22:14.585571Z",
     "iopub.status.busy": "2023-08-22T19:22:14.585149Z",
     "iopub.status.idle": "2023-08-22T19:22:14.589801Z",
     "shell.execute_reply": "2023-08-22T19:22:14.588679Z"
    },
    "papermill": {
     "duration": 0.190121,
     "end_time": "2023-08-22T19:22:14.592160",
     "exception": false,
     "start_time": "2023-08-22T19:22:14.402039",
     "status": "completed"
    },
    "tags": []
   },
   "outputs": [],
   "source": [
    "# txt_pipe = Pipeline(steps=[\n",
    "#                             (\"tvec\", TfidfVectorizer())\n",
    "#                         ])\n",
    "# txt_pipe"
   ]
  },
  {
   "cell_type": "code",
   "execution_count": 237,
   "id": "92737c86",
   "metadata": {
    "execution": {
     "iopub.execute_input": "2023-08-22T19:22:14.827932Z",
     "iopub.status.busy": "2023-08-22T19:22:14.827555Z",
     "iopub.status.idle": "2023-08-22T19:22:14.832100Z",
     "shell.execute_reply": "2023-08-22T19:22:14.830829Z"
    },
    "papermill": {
     "duration": 0.125446,
     "end_time": "2023-08-22T19:22:14.834533",
     "exception": false,
     "start_time": "2023-08-22T19:22:14.709087",
     "status": "completed"
    },
    "tags": []
   },
   "outputs": [],
   "source": [
    "# cat_pipe = Pipeline(steps=[\n",
    "#                             (\"ohe\", OneHotEncoder(handle_unknown=\"ignore\"))\n",
    "#                         ])\n",
    "# cat_pipe"
   ]
  },
  {
   "cell_type": "code",
   "execution_count": 238,
   "id": "d617cda3",
   "metadata": {
    "execution": {
     "iopub.execute_input": "2023-08-22T19:22:15.071936Z",
     "iopub.status.busy": "2023-08-22T19:22:15.071451Z",
     "iopub.status.idle": "2023-08-22T19:22:15.077214Z",
     "shell.execute_reply": "2023-08-22T19:22:15.075950Z"
    },
    "papermill": {
     "duration": 0.127084,
     "end_time": "2023-08-22T19:22:15.079689",
     "exception": false,
     "start_time": "2023-08-22T19:22:14.952605",
     "status": "completed"
    },
    "tags": []
   },
   "outputs": [],
   "source": [
    "# tfidf_vec_1 = TfidfVectorizer(ngram_range=(1,2))\n",
    "# tfidf_vec_1"
   ]
  },
  {
   "cell_type": "code",
   "execution_count": 239,
   "id": "22cf1eb6",
   "metadata": {
    "execution": {
     "iopub.execute_input": "2023-08-22T19:22:15.321142Z",
     "iopub.status.busy": "2023-08-22T19:22:15.320689Z",
     "iopub.status.idle": "2023-08-22T19:22:15.327173Z",
     "shell.execute_reply": "2023-08-22T19:22:15.325953Z"
    },
    "papermill": {
     "duration": 0.129159,
     "end_time": "2023-08-22T19:22:15.329678",
     "exception": false,
     "start_time": "2023-08-22T19:22:15.200519",
     "status": "completed"
    },
    "tags": []
   },
   "outputs": [],
   "source": [
    "# ct_final = ColumnTransformer(transformers=[\n",
    "#                                         (\"num\", num_pipe, num_vars),\n",
    "#                                         (\"txt1\", txt_pipe, \"originalLanguage\"),\n",
    "#                                         (\"txt2\", txt_pipe, \"genre\"),\n",
    "#                                         (\"txt3\", txt_pipe, \"director\"),\n",
    "#                                         (\"cat\", cat_pipe, cat_vars),\n",
    "#                                         (\"txt4a\", tfidf_vec_1, \"reviewText\")\n",
    "# #                                         (\"txt4\", TfidfVectorizer(ngram_range=(1,2)), \"reviewText\"),\n",
    "# #                                         (\"cat2\", cat_pipe, [\"isFrequentReviewer\"])\n",
    "#                                         ], remainder=\"drop\", n_jobs=1)\n",
    "\n",
    "# # Note that this transformer drops \"movieid\" column and \"reviewerName\" column  \n",
    "# ct_final"
   ]
  },
  {
   "cell_type": "code",
   "execution_count": 240,
   "id": "93956b09",
   "metadata": {
    "execution": {
     "iopub.execute_input": "2023-08-22T19:22:15.591072Z",
     "iopub.status.busy": "2023-08-22T19:22:15.590611Z",
     "iopub.status.idle": "2023-08-22T19:22:15.596241Z",
     "shell.execute_reply": "2023-08-22T19:22:15.594797Z"
    },
    "papermill": {
     "duration": 0.128994,
     "end_time": "2023-08-22T19:22:15.598710",
     "exception": false,
     "start_time": "2023-08-22T19:22:15.469716",
     "status": "completed"
    },
    "tags": []
   },
   "outputs": [],
   "source": [
    "# pipe_final = Pipeline(steps=[\n",
    "#                         (\"preprocessor\", ct_final),\n",
    "#                         (\"model\", LogisticRegression(max_iter=100000))\n",
    "#                     ])\n",
    "# pipe_final"
   ]
  },
  {
   "cell_type": "code",
   "execution_count": 241,
   "id": "e7b8e07a",
   "metadata": {
    "execution": {
     "iopub.execute_input": "2023-08-22T19:22:15.838055Z",
     "iopub.status.busy": "2023-08-22T19:22:15.837014Z",
     "iopub.status.idle": "2023-08-22T19:22:15.842628Z",
     "shell.execute_reply": "2023-08-22T19:22:15.841343Z"
    },
    "papermill": {
     "duration": 0.128313,
     "end_time": "2023-08-22T19:22:15.844769",
     "exception": false,
     "start_time": "2023-08-22T19:22:15.716456",
     "status": "completed"
    },
    "tags": []
   },
   "outputs": [],
   "source": [
    "# final_vars = num_vars + txt_vars + cat_vars\n",
    "# len(final_vars), final_vars"
   ]
  },
  {
   "cell_type": "markdown",
   "id": "11995a1a",
   "metadata": {
    "papermill": {
     "duration": 0.118759,
     "end_time": "2023-08-22T19:22:16.079970",
     "exception": false,
     "start_time": "2023-08-22T19:22:15.961211",
     "status": "completed"
    },
    "tags": []
   },
   "source": [
    "### Use \"split_train_predict\" function to run end-to-end pipeline  "
   ]
  },
  {
   "cell_type": "code",
   "execution_count": 242,
   "id": "4bbbeb01",
   "metadata": {
    "execution": {
     "iopub.execute_input": "2023-08-22T19:22:16.318439Z",
     "iopub.status.busy": "2023-08-22T19:22:16.317921Z",
     "iopub.status.idle": "2023-08-22T19:22:16.323261Z",
     "shell.execute_reply": "2023-08-22T19:22:16.322109Z"
    },
    "papermill": {
     "duration": 0.127114,
     "end_time": "2023-08-22T19:22:16.325736",
     "exception": false,
     "start_time": "2023-08-22T19:22:16.198622",
     "status": "completed"
    },
    "tags": []
   },
   "outputs": [],
   "source": [
    "# split_train_predict(merged_train_features, merged_train_labels, pipe_final, test_size=0.25, random_state=42)"
   ]
  },
  {
   "cell_type": "markdown",
   "id": "ebd1d6eb",
   "metadata": {
    "papermill": {
     "duration": 0.116422,
     "end_time": "2023-08-22T19:22:16.561028",
     "exception": false,
     "start_time": "2023-08-22T19:22:16.444606",
     "status": "completed"
    },
    "tags": []
   },
   "source": [
    "## Try the best four features obtained on local machine  "
   ]
  },
  {
   "cell_type": "code",
   "execution_count": 243,
   "id": "8c29c5cc",
   "metadata": {
    "execution": {
     "iopub.execute_input": "2023-08-22T19:22:16.801948Z",
     "iopub.status.busy": "2023-08-22T19:22:16.801153Z",
     "iopub.status.idle": "2023-08-22T19:22:16.806296Z",
     "shell.execute_reply": "2023-08-22T19:22:16.805017Z"
    },
    "papermill": {
     "duration": 0.128531,
     "end_time": "2023-08-22T19:22:16.808702",
     "exception": false,
     "start_time": "2023-08-22T19:22:16.680171",
     "status": "completed"
    },
    "tags": []
   },
   "outputs": [],
   "source": [
    "# tfidf_vec_2 = TfidfVectorizer(ngram_range=(1,2))\n",
    "# tfidf_vec_2"
   ]
  },
  {
   "cell_type": "code",
   "execution_count": 244,
   "id": "99aa5059",
   "metadata": {
    "execution": {
     "iopub.execute_input": "2023-08-22T19:22:17.052296Z",
     "iopub.status.busy": "2023-08-22T19:22:17.051852Z",
     "iopub.status.idle": "2023-08-22T19:22:17.057275Z",
     "shell.execute_reply": "2023-08-22T19:22:17.056106Z"
    },
    "papermill": {
     "duration": 0.130463,
     "end_time": "2023-08-22T19:22:17.059743",
     "exception": false,
     "start_time": "2023-08-22T19:22:16.929280",
     "status": "completed"
    },
    "tags": []
   },
   "outputs": [],
   "source": [
    "# ct_best4 = ColumnTransformer(transformers=[\n",
    "#                                             (\"num\", num_pipe, [\"audienceScore\"]),\n",
    "#                                             (\"cat\", cat_pipe, [\"rating\", \"isFrequentReviewer\"]),\n",
    "#                                             (\"tvec\", tfidf_vec_2, \"reviewText\")\n",
    "#                             ])\n",
    "\n",
    "# pipe_best4 = Pipeline(steps=[\n",
    "#     (\"preprocessor\", ct_best4),\n",
    "#     (\"model\", LogisticRegression())\n",
    "# ])\n",
    "\n",
    "# pipe_best4.set_params(model__C=10, model__max_iter=100000)\n",
    "\n",
    "# pipe_best4"
   ]
  },
  {
   "cell_type": "code",
   "execution_count": 245,
   "id": "158354a1",
   "metadata": {
    "execution": {
     "iopub.execute_input": "2023-08-22T19:22:17.297454Z",
     "iopub.status.busy": "2023-08-22T19:22:17.296977Z",
     "iopub.status.idle": "2023-08-22T19:22:17.302818Z",
     "shell.execute_reply": "2023-08-22T19:22:17.301152Z"
    },
    "papermill": {
     "duration": 0.128652,
     "end_time": "2023-08-22T19:22:17.305335",
     "exception": false,
     "start_time": "2023-08-22T19:22:17.176683",
     "status": "completed"
    },
    "tags": []
   },
   "outputs": [],
   "source": [
    "# split_train_predict(merged[[\"audienceScore\", \"rating\", \"isFrequentReviewer\", \"reviewText\"]], merged[\"sentiment\"], pipe_best4, test_size=0.25)"
   ]
  },
  {
   "cell_type": "markdown",
   "id": "f7d6f623",
   "metadata": {
    "papermill": {
     "duration": 0.116869,
     "end_time": "2023-08-22T19:22:17.541993",
     "exception": false,
     "start_time": "2023-08-22T19:22:17.425124",
     "status": "completed"
    },
    "tags": []
   },
   "source": [
    "## Try only 'reviewText' column  "
   ]
  },
  {
   "cell_type": "code",
   "execution_count": 246,
   "id": "7402158d",
   "metadata": {
    "execution": {
     "iopub.execute_input": "2023-08-22T19:22:17.778787Z",
     "iopub.status.busy": "2023-08-22T19:22:17.778295Z",
     "iopub.status.idle": "2023-08-22T19:22:17.784088Z",
     "shell.execute_reply": "2023-08-22T19:22:17.782474Z"
    },
    "papermill": {
     "duration": 0.127363,
     "end_time": "2023-08-22T19:22:17.786497",
     "exception": false,
     "start_time": "2023-08-22T19:22:17.659134",
     "status": "completed"
    },
    "tags": []
   },
   "outputs": [],
   "source": [
    "# tfidf_vec_3 = TfidfVectorizer(ngram_range=(1,2))\n",
    "# tfidf_vec_3"
   ]
  },
  {
   "cell_type": "code",
   "execution_count": 247,
   "id": "3e977971",
   "metadata": {
    "execution": {
     "iopub.execute_input": "2023-08-22T19:22:18.026575Z",
     "iopub.status.busy": "2023-08-22T19:22:18.026111Z",
     "iopub.status.idle": "2023-08-22T19:22:18.031574Z",
     "shell.execute_reply": "2023-08-22T19:22:18.030258Z"
    },
    "papermill": {
     "duration": 0.128429,
     "end_time": "2023-08-22T19:22:18.033852",
     "exception": false,
     "start_time": "2023-08-22T19:22:17.905423",
     "status": "completed"
    },
    "tags": []
   },
   "outputs": [],
   "source": [
    "# ct_RTonly = ColumnTransformer(transformers=[\n",
    "#                                             ('txt', tfidf_vec_3, 'reviewText'),\n",
    "#                                             ], remainder='drop')\n",
    "# ct_RTonly"
   ]
  },
  {
   "cell_type": "code",
   "execution_count": 248,
   "id": "eec27378",
   "metadata": {
    "execution": {
     "iopub.execute_input": "2023-08-22T19:22:18.271738Z",
     "iopub.status.busy": "2023-08-22T19:22:18.271190Z",
     "iopub.status.idle": "2023-08-22T19:22:18.277147Z",
     "shell.execute_reply": "2023-08-22T19:22:18.275817Z"
    },
    "papermill": {
     "duration": 0.128489,
     "end_time": "2023-08-22T19:22:18.279500",
     "exception": false,
     "start_time": "2023-08-22T19:22:18.151011",
     "status": "completed"
    },
    "tags": []
   },
   "outputs": [],
   "source": [
    "# pipe_RTonly = Pipeline(steps=[\n",
    "#     (\"preprocessor\", ct_RTonly),\n",
    "#     (\"model\", LogisticRegression())\n",
    "# ])\n",
    "\n",
    "# pipe_RTonly.set_params(model__C=10, model__max_iter=100000)\n",
    "\n",
    "# pipe_RTonly"
   ]
  },
  {
   "cell_type": "markdown",
   "id": "b7724fbe",
   "metadata": {
    "papermill": {
     "duration": 0.119019,
     "end_time": "2023-08-22T19:22:18.516284",
     "exception": false,
     "start_time": "2023-08-22T19:22:18.397265",
     "status": "completed"
    },
    "tags": []
   },
   "source": [
    "## Using the 'submit_v4' function  "
   ]
  },
  {
   "cell_type": "markdown",
   "id": "64a410dc",
   "metadata": {
    "papermill": {
     "duration": 0.118388,
     "end_time": "2023-08-22T19:22:18.752314",
     "exception": false,
     "start_time": "2023-08-22T19:22:18.633926",
     "status": "completed"
    },
    "tags": []
   },
   "source": [
    "### Try the best 4 parameters with submit_v4 function"
   ]
  },
  {
   "cell_type": "code",
   "execution_count": 249,
   "id": "4fbbfe14",
   "metadata": {
    "execution": {
     "iopub.execute_input": "2023-08-22T19:22:18.988659Z",
     "iopub.status.busy": "2023-08-22T19:22:18.988157Z",
     "iopub.status.idle": "2023-08-22T19:22:18.994387Z",
     "shell.execute_reply": "2023-08-22T19:22:18.993021Z"
    },
    "papermill": {
     "duration": 0.126531,
     "end_time": "2023-08-22T19:22:18.996696",
     "exception": false,
     "start_time": "2023-08-22T19:22:18.870165",
     "status": "completed"
    },
    "tags": []
   },
   "outputs": [],
   "source": [
    "# best4 = [\"audienceScore\", \"rating\", \"isFrequentReviewer\", \"reviewText\"]\n",
    "\n",
    "# best4_dict = {'cat': [\"rating\", \"isFrequentReviewer\"],\n",
    "#              'num': [\"audienceScore\"],\n",
    "#              'txt': ['reviewText']}\n",
    "\n",
    "# best4_dict = {'num': [\"audienceScore\"],\n",
    "#              'txt': ['reviewText', 'movieid', 'director']}\n",
    "\n",
    "# best4_dict"
   ]
  },
  {
   "cell_type": "code",
   "execution_count": 250,
   "id": "cb26edb6",
   "metadata": {
    "execution": {
     "iopub.execute_input": "2023-08-22T19:22:19.300099Z",
     "iopub.status.busy": "2023-08-22T19:22:19.299632Z",
     "iopub.status.idle": "2023-08-22T19:22:19.306269Z",
     "shell.execute_reply": "2023-08-22T19:22:19.304916Z"
    },
    "papermill": {
     "duration": 0.193653,
     "end_time": "2023-08-22T19:22:19.309725",
     "exception": false,
     "start_time": "2023-08-22T19:22:19.116072",
     "status": "completed"
    },
    "tags": []
   },
   "outputs": [],
   "source": [
    "# submit_v4(selected_features=best4_dict)"
   ]
  },
  {
   "cell_type": "markdown",
   "id": "b6a2ab74",
   "metadata": {
    "papermill": {
     "duration": 0.116166,
     "end_time": "2023-08-22T19:22:19.546049",
     "exception": false,
     "start_time": "2023-08-22T19:22:19.429883",
     "status": "completed"
    },
    "tags": []
   },
   "source": [
    "### Try the best 3 parameters with submit_v4 function"
   ]
  },
  {
   "cell_type": "code",
   "execution_count": 251,
   "id": "ad5d41c2",
   "metadata": {
    "execution": {
     "iopub.execute_input": "2023-08-22T19:22:19.783487Z",
     "iopub.status.busy": "2023-08-22T19:22:19.781882Z",
     "iopub.status.idle": "2023-08-22T19:22:19.787168Z",
     "shell.execute_reply": "2023-08-22T19:22:19.786346Z"
    },
    "papermill": {
     "duration": 0.126477,
     "end_time": "2023-08-22T19:22:19.789408",
     "exception": false,
     "start_time": "2023-08-22T19:22:19.662931",
     "status": "completed"
    },
    "tags": []
   },
   "outputs": [],
   "source": [
    "# best3 = [\"audienceScore\", \"isFrequentReviewer\", \"reviewText\"]\n",
    "# best3_dict = {'cat': [\"isFrequentReviewer\"],\n",
    "#              'num': [\"audienceScore\"],\n",
    "#              'txt': ['reviewText']}\n",
    "# best3_dict"
   ]
  },
  {
   "cell_type": "code",
   "execution_count": 252,
   "id": "690c125e",
   "metadata": {
    "execution": {
     "iopub.execute_input": "2023-08-22T19:22:20.028612Z",
     "iopub.status.busy": "2023-08-22T19:22:20.027819Z",
     "iopub.status.idle": "2023-08-22T19:22:20.032820Z",
     "shell.execute_reply": "2023-08-22T19:22:20.031603Z"
    },
    "papermill": {
     "duration": 0.128241,
     "end_time": "2023-08-22T19:22:20.035716",
     "exception": false,
     "start_time": "2023-08-22T19:22:19.907475",
     "status": "completed"
    },
    "tags": []
   },
   "outputs": [],
   "source": [
    "# submit_v4(selected_features=best3_dict)"
   ]
  },
  {
   "cell_type": "markdown",
   "id": "99081818",
   "metadata": {
    "papermill": {
     "duration": 0.124354,
     "end_time": "2023-08-22T19:22:20.284839",
     "exception": false,
     "start_time": "2023-08-22T19:22:20.160485",
     "status": "completed"
    },
    "tags": []
   },
   "source": [
    "## Try throwing almost everything (no boxOffice) at submit_v4!  "
   ]
  },
  {
   "cell_type": "code",
   "execution_count": 253,
   "id": "4e8ba5a3",
   "metadata": {
    "execution": {
     "iopub.execute_input": "2023-08-22T19:22:20.533775Z",
     "iopub.status.busy": "2023-08-22T19:22:20.532912Z",
     "iopub.status.idle": "2023-08-22T19:22:20.540616Z",
     "shell.execute_reply": "2023-08-22T19:22:20.539574Z"
    },
    "papermill": {
     "duration": 0.136142,
     "end_time": "2023-08-22T19:22:20.542956",
     "exception": false,
     "start_time": "2023-08-22T19:22:20.406814",
     "status": "completed"
    },
    "tags": []
   },
   "outputs": [
    {
     "data": {
      "text/plain": [
       "\"Most from merged = ['movieid', 'reviewerName', 'isFrequentReviewer', 'reviewText',\\n       'audienceScore', 'rating', 'runtimeMinutes', 'genre', \\n       'originalLanguage', 'director']\""
      ]
     },
     "execution_count": 253,
     "metadata": {},
     "output_type": "execute_result"
    }
   ],
   "source": [
    "\"\"\"Most from merged = ['movieid', 'reviewerName', 'isFrequentReviewer', 'reviewText',\n",
    "       'audienceScore', 'rating', 'runtimeMinutes', 'genre', \n",
    "       'originalLanguage', 'director']\"\"\"\n",
    "\n",
    "# almost_dict = {'cat': [\"isFrequentReviewer\", \"rating\", \"originalLanguage\"],\n",
    "#              'num': [\"audienceScore\", \"runtimeMinutes\"],\n",
    "#              'txt': ['reviewText', 'reviewerName', 'movieid', 'genre', 'director']}\n",
    "# almost_dict"
   ]
  },
  {
   "cell_type": "code",
   "execution_count": 254,
   "id": "3e633e28",
   "metadata": {
    "execution": {
     "iopub.execute_input": "2023-08-22T19:22:20.789831Z",
     "iopub.status.busy": "2023-08-22T19:22:20.788830Z",
     "iopub.status.idle": "2023-08-22T19:22:20.794115Z",
     "shell.execute_reply": "2023-08-22T19:22:20.793319Z"
    },
    "papermill": {
     "duration": 0.131941,
     "end_time": "2023-08-22T19:22:20.796583",
     "exception": false,
     "start_time": "2023-08-22T19:22:20.664642",
     "status": "completed"
    },
    "tags": []
   },
   "outputs": [],
   "source": [
    "# submit_v4(selected_features=almost_dict)"
   ]
  },
  {
   "cell_type": "markdown",
   "id": "5ff4711e",
   "metadata": {
    "papermill": {
     "duration": 0.122394,
     "end_time": "2023-08-22T19:22:21.040382",
     "exception": false,
     "start_time": "2023-08-22T19:22:20.917988",
     "status": "completed"
    },
    "tags": []
   },
   "source": [
    "## Try throwing everything possible at submit_v4!  "
   ]
  },
  {
   "cell_type": "code",
   "execution_count": 255,
   "id": "f226f0f7",
   "metadata": {
    "execution": {
     "iopub.execute_input": "2023-08-22T19:22:21.277394Z",
     "iopub.status.busy": "2023-08-22T19:22:21.276621Z",
     "iopub.status.idle": "2023-08-22T19:22:21.284137Z",
     "shell.execute_reply": "2023-08-22T19:22:21.282849Z"
    },
    "papermill": {
     "duration": 0.129353,
     "end_time": "2023-08-22T19:22:21.286714",
     "exception": false,
     "start_time": "2023-08-22T19:22:21.157361",
     "status": "completed"
    },
    "tags": []
   },
   "outputs": [
    {
     "data": {
      "text/plain": [
       "\"All from merged = ['movieid', 'reviewerName', 'isFrequentReviewer', 'reviewText',\\n       'audienceScore', 'rating', 'runtimeMinutes', 'genre', 'boxOffice',\\n       'originalLanguage', 'director']\""
      ]
     },
     "execution_count": 255,
     "metadata": {},
     "output_type": "execute_result"
    }
   ],
   "source": [
    "\"\"\"All from merged = ['movieid', 'reviewerName', 'isFrequentReviewer', 'reviewText',\n",
    "       'audienceScore', 'rating', 'runtimeMinutes', 'genre', 'boxOffice',\n",
    "       'originalLanguage', 'director']\"\"\"\n",
    "\n",
    "# all_dict = {'cat': [\"isFrequentReviewer\", \"rating\", \"originalLanguage\"],\n",
    "#              'num': [\"audienceScore\", \"runtimeMinutes\", \"boxOffice\"],\n",
    "#              'txt': ['reviewText', 'reviewerName', 'movieid', 'genre', 'director']}\n",
    "# all_dict"
   ]
  },
  {
   "cell_type": "code",
   "execution_count": 256,
   "id": "a73b27a5",
   "metadata": {
    "execution": {
     "iopub.execute_input": "2023-08-22T19:22:21.527492Z",
     "iopub.status.busy": "2023-08-22T19:22:21.526053Z",
     "iopub.status.idle": "2023-08-22T19:22:21.531423Z",
     "shell.execute_reply": "2023-08-22T19:22:21.530636Z"
    },
    "papermill": {
     "duration": 0.127518,
     "end_time": "2023-08-22T19:22:21.533650",
     "exception": false,
     "start_time": "2023-08-22T19:22:21.406132",
     "status": "completed"
    },
    "tags": []
   },
   "outputs": [],
   "source": [
    "# submit_v4(selected_features=all_dict)"
   ]
  },
  {
   "cell_type": "markdown",
   "id": "7db1357a",
   "metadata": {
    "papermill": {
     "duration": 0.117502,
     "end_time": "2023-08-22T19:22:21.768780",
     "exception": false,
     "start_time": "2023-08-22T19:22:21.651278",
     "status": "completed"
    },
    "tags": []
   },
   "source": [
    "## Try GridSearchCV on everything  "
   ]
  },
  {
   "cell_type": "code",
   "execution_count": 257,
   "id": "90641cb3",
   "metadata": {
    "execution": {
     "iopub.execute_input": "2023-08-22T19:22:22.011366Z",
     "iopub.status.busy": "2023-08-22T19:22:22.010010Z",
     "iopub.status.idle": "2023-08-22T19:22:22.016366Z",
     "shell.execute_reply": "2023-08-22T19:22:22.015554Z"
    },
    "papermill": {
     "duration": 0.128876,
     "end_time": "2023-08-22T19:22:22.018799",
     "exception": false,
     "start_time": "2023-08-22T19:22:21.889923",
     "status": "completed"
    },
    "tags": []
   },
   "outputs": [],
   "source": [
    "# param_grid = {\n",
    "#     \"model__C\": [0.5, 2, 5, 15]\n",
    "# }\n",
    "\n",
    "# param_grid = {\n",
    "#     'model__C' : [1, 5],\n",
    "#     'model__solver': ['lbfgs', 'liblinear', 'newton-cg', 'newton-cholesky', 'sag', 'saga']\n",
    "# }\n",
    "\n",
    "# param_grid = {\n",
    "#     'model__C' : [1, 5],\n",
    "#     'model__solver': ['lbfgs', 'liblinear', 'sag', 'saga']\n",
    "# }\n",
    "\n",
    "# param_grid = {\n",
    "#     'model__C' : [1, 5, 10, 15],\n",
    "#     'model__solver': ['lbfgs', 'liblinear', 'saga', 'newton-cg']\n",
    "# }\n",
    "\n",
    "# param_grid = {\n",
    "#     'model__C' : [1, 5, 10, 20],\n",
    "#     'model__solver': ['lbfgs', 'liblinear', 'saga']\n",
    "# }\n",
    "\n",
    "# param_grid"
   ]
  },
  {
   "cell_type": "code",
   "execution_count": 258,
   "id": "b28cb84d",
   "metadata": {
    "execution": {
     "iopub.execute_input": "2023-08-22T19:22:22.257402Z",
     "iopub.status.busy": "2023-08-22T19:22:22.256916Z",
     "iopub.status.idle": "2023-08-22T19:22:22.261957Z",
     "shell.execute_reply": "2023-08-22T19:22:22.260798Z"
    },
    "papermill": {
     "duration": 0.126978,
     "end_time": "2023-08-22T19:22:22.264198",
     "exception": false,
     "start_time": "2023-08-22T19:22:22.137220",
     "status": "completed"
    },
    "tags": []
   },
   "outputs": [],
   "source": [
    "# submit_v4(selected_features={'txt': [\"genre\"]}, param_grid=param_grid)"
   ]
  },
  {
   "cell_type": "code",
   "execution_count": 259,
   "id": "1e3bbb3f",
   "metadata": {
    "execution": {
     "iopub.execute_input": "2023-08-22T19:22:22.504719Z",
     "iopub.status.busy": "2023-08-22T19:22:22.504288Z",
     "iopub.status.idle": "2023-08-22T19:22:22.512523Z",
     "shell.execute_reply": "2023-08-22T19:22:22.510962Z"
    },
    "papermill": {
     "duration": 0.132726,
     "end_time": "2023-08-22T19:22:22.514740",
     "exception": false,
     "start_time": "2023-08-22T19:22:22.382014",
     "status": "completed"
    },
    "tags": []
   },
   "outputs": [
    {
     "data": {
      "text/plain": [
       "\"Used 'groupby' function instead on 'drop_duplicates' on movies.csv file. \\nIt reduced the number of missing values significantly! \\nThen used LogisticRegression() with GridSearchCV on submit_v4 function with \\nparam_grid={'model__C': [1, 5, 10], 'model__solver': ['lbfgs', 'liblinear', 'saga']}. \\nThe best f1_micro score in GridSearchCV was 0.8399771362056203 which is highest among \\nall the versions so far. Best C was 5 and best solver was 'saga'.\\nScore obtained was 0.84385 which is lower than 0.84441.\""
      ]
     },
     "execution_count": 259,
     "metadata": {},
     "output_type": "execute_result"
    }
   ],
   "source": [
    "# submit_v4(selected_features=all_dict, param_grid=param_grid)\n",
    "\n",
    "# Best C was 5\n",
    "# Best solver was liblinear\n",
    "\n",
    "\"\"\"Used 'groupby' function instead on 'drop_duplicates' on movies.csv file. \n",
    "It reduced the number of missing values significantly! \n",
    "Then used LogisticRegression() with GridSearchCV on submit_v4 function with \n",
    "param_grid={'model__C': [1, 5, 10], 'model__solver': ['lbfgs', 'liblinear', 'saga']}. \n",
    "The best f1_micro score in GridSearchCV was 0.8399771362056203 which is highest among \n",
    "all the versions so far. Best C was 5 and best solver was 'saga'.\n",
    "Score obtained was 0.84385 which is lower than 0.84441.\"\"\""
   ]
  },
  {
   "cell_type": "code",
   "execution_count": 260,
   "id": "72ef2c91",
   "metadata": {
    "execution": {
     "iopub.execute_input": "2023-08-22T19:22:22.755060Z",
     "iopub.status.busy": "2023-08-22T19:22:22.754134Z",
     "iopub.status.idle": "2023-08-22T19:22:22.759360Z",
     "shell.execute_reply": "2023-08-22T19:22:22.758125Z"
    },
    "papermill": {
     "duration": 0.129928,
     "end_time": "2023-08-22T19:22:22.762022",
     "exception": false,
     "start_time": "2023-08-22T19:22:22.632094",
     "status": "completed"
    },
    "tags": []
   },
   "outputs": [],
   "source": [
    "# Best 5 parameters\n",
    "\n",
    "# best5_dict = {'num': [\"audienceScore\"],\n",
    "#              'txt': ['reviewText', 'reviewerName','movieid', 'director']}\n",
    "\n",
    "# best5_dict"
   ]
  },
  {
   "cell_type": "code",
   "execution_count": 261,
   "id": "faf73d63",
   "metadata": {
    "execution": {
     "iopub.execute_input": "2023-08-22T19:22:23.000047Z",
     "iopub.status.busy": "2023-08-22T19:22:22.999183Z",
     "iopub.status.idle": "2023-08-22T19:22:23.006984Z",
     "shell.execute_reply": "2023-08-22T19:22:23.006155Z"
    },
    "papermill": {
     "duration": 0.128889,
     "end_time": "2023-08-22T19:22:23.009197",
     "exception": false,
     "start_time": "2023-08-22T19:22:22.880308",
     "status": "completed"
    },
    "tags": []
   },
   "outputs": [
    {
     "data": {
      "text/plain": [
       "\"(Update): Used both CountVectorizer and TfidfVectorizer on a massive GridSearchCV \\nwhich took 22527.2s  (6.25 hrs) to run! Gave a score of 0.8439093822800923 locally and did not overfit!\\nBest params: {'model__C': 1, 'model__solver': 'liblinear'}.\\nHighest public score yet: 0.84591 (Rank up from 9 to 5!)\""
      ]
     },
     "execution_count": 261,
     "metadata": {},
     "output_type": "execute_result"
    }
   ],
   "source": [
    "# Submit best 5 features\n",
    "\n",
    "\"\"\"(Update): Used both CountVectorizer and TfidfVectorizer on a massive GridSearchCV \n",
    "which took 22527.2s  (6.25 hrs) to run! Gave a score of 0.8439093822800923 locally and did not overfit!\n",
    "Best params: {'model__C': 1, 'model__solver': 'liblinear'}.\n",
    "Highest public score yet: 0.84591 (Rank up from 9 to 5!)\"\"\"\n",
    "\n",
    "# param_grid = {\n",
    "#     'model__C' : [5, 10, 15],\n",
    "#     'model__solver': ['lbfgs', 'liblinear', 'saga']\n",
    "# }\n",
    "\n",
    "\n",
    "# Try new param_grid with fit_intercept and dual in logreg\n",
    "\n",
    "# param_grid = {\n",
    "#     'model__C' : [1],\n",
    "#     'model__solver': ['liblinear'],\n",
    "#     \"model__fit_intercept\" : [True, False],\n",
    "#     \"model__dual\" : [True, False] \n",
    "# }\n",
    "\n",
    "\n",
    "# Local testing  \n",
    "# submit_v4(selected_features={'num': ['audienceScore']},\n",
    "#          add_countvec=True)\n",
    "\n",
    "# submit_v4(selected_features={'num': ['audienceScore']},\n",
    "#          add_countvec=True, \n",
    "#           param_grid=param_grid)\n",
    "\n",
    "\n",
    "# Main submission\n",
    "\n",
    "# submit_v4(selected_features=best5_dict,\n",
    "#          add_countvec=True)\n",
    "\n",
    "\n",
    "# submit_v4(selected_features=best5_dict,\n",
    "#           add_countvec=True,\n",
    "#           param_grid=param_grid)"
   ]
  },
  {
   "cell_type": "code",
   "execution_count": 262,
   "id": "9652e665",
   "metadata": {
    "execution": {
     "iopub.execute_input": "2023-08-22T19:22:23.252470Z",
     "iopub.status.busy": "2023-08-22T19:22:23.251131Z",
     "iopub.status.idle": "2023-08-22T19:22:23.257672Z",
     "shell.execute_reply": "2023-08-22T19:22:23.256601Z"
    },
    "papermill": {
     "duration": 0.132023,
     "end_time": "2023-08-22T19:22:23.260008",
     "exception": false,
     "start_time": "2023-08-22T19:22:23.127985",
     "status": "completed"
    },
    "tags": []
   },
   "outputs": [],
   "source": [
    "## ALL DICT cv=10\n",
    "\n",
    "# all_dict = {'cat': [\"isFrequentReviewer\", \"rating\", \"originalLanguage\"],\n",
    "#              'num': [\"audienceScore\", \"runtimeMinutes\", \"boxOffice\"],\n",
    "#              'txt': ['reviewText', 'reviewerName', 'movieid', 'genre', 'director']}\n",
    "# print(all_dict)\n",
    "\n",
    "# param_grid = {\n",
    "#     'model__C' : [2, 5, 10],\n",
    "#     'model__solver': ['lbfgs', 'liblinear', 'saga']\n",
    "# }\n",
    "# print(param_grid)\n",
    "\n",
    "# param_grid = {\n",
    "#     'model__C' : [1, 5, 10],\n",
    "#     'model__solver': ['liblinear'],\n",
    "#     \"model__fit_intercept\" : [True, False],\n",
    "#     \"model__dual\" : [True, False] \n",
    "# }\n",
    "\n",
    "\n",
    "# Main submission\n",
    "\n",
    "# submit_v4(selected_model=LogisticRegression(C=5, solver='liblinear', max_iter=10000),\n",
    "#           selected_features=all_dict,\n",
    "#           param_grid=param_grid)\n",
    "\n",
    "# submit_v4(selected_features=all_dict,\n",
    "#           add_countvec=True,\n",
    "#           param_grid=param_grid)"
   ]
  },
  {
   "cell_type": "code",
   "execution_count": 263,
   "id": "3246257e",
   "metadata": {
    "execution": {
     "iopub.execute_input": "2023-08-22T19:22:23.500074Z",
     "iopub.status.busy": "2023-08-22T19:22:23.498965Z",
     "iopub.status.idle": "2023-08-22T19:22:23.504476Z",
     "shell.execute_reply": "2023-08-22T19:22:23.503332Z"
    },
    "papermill": {
     "duration": 0.127611,
     "end_time": "2023-08-22T19:22:23.506724",
     "exception": false,
     "start_time": "2023-08-22T19:22:23.379113",
     "status": "completed"
    },
    "tags": []
   },
   "outputs": [],
   "source": [
    "# Best 6 parameters\n",
    "\n",
    "# best6_dict = {'cat': [\"isFrequentReviewer\"],\n",
    "#              'num': [\"audienceScore\"],\n",
    "#              'txt': ['reviewText', 'reviewerName', 'genre', 'director']}\n",
    "\n",
    "# best6_dict = {'num': [\"audienceScore\"],\n",
    "#              'txt': ['reviewText', 'reviewerName', 'genre','movieid', 'director']}\n",
    "\n",
    "# best6_dict"
   ]
  },
  {
   "cell_type": "code",
   "execution_count": 264,
   "id": "76da7970",
   "metadata": {
    "execution": {
     "iopub.execute_input": "2023-08-22T19:22:23.744155Z",
     "iopub.status.busy": "2023-08-22T19:22:23.743630Z",
     "iopub.status.idle": "2023-08-22T19:22:23.749185Z",
     "shell.execute_reply": "2023-08-22T19:22:23.747891Z"
    },
    "papermill": {
     "duration": 0.127507,
     "end_time": "2023-08-22T19:22:23.751672",
     "exception": false,
     "start_time": "2023-08-22T19:22:23.624165",
     "status": "completed"
    },
    "tags": []
   },
   "outputs": [],
   "source": [
    "# Submit best 6 features (version 2)\n",
    "\n",
    "# submit_v4(selected_features=best6_dict,\n",
    "#           param_grid=param_grid)"
   ]
  },
  {
   "cell_type": "code",
   "execution_count": 265,
   "id": "d8b30751",
   "metadata": {
    "execution": {
     "iopub.execute_input": "2023-08-22T19:22:23.991800Z",
     "iopub.status.busy": "2023-08-22T19:22:23.991289Z",
     "iopub.status.idle": "2023-08-22T19:22:23.996906Z",
     "shell.execute_reply": "2023-08-22T19:22:23.995677Z"
    },
    "papermill": {
     "duration": 0.127522,
     "end_time": "2023-08-22T19:22:23.999430",
     "exception": false,
     "start_time": "2023-08-22T19:22:23.871908",
     "status": "completed"
    },
    "tags": []
   },
   "outputs": [],
   "source": [
    "# Best 7 parameters\n",
    "\n",
    "# best7_dict = {'cat': [\"isFrequentReviewer\"],\n",
    "#              'num': [\"audienceScore\"],\n",
    "#              'txt': ['reviewText', 'reviewerName', 'movieid', 'genre', 'director']}\n",
    "# best7_dict"
   ]
  },
  {
   "cell_type": "code",
   "execution_count": 266,
   "id": "f42ff670",
   "metadata": {
    "execution": {
     "iopub.execute_input": "2023-08-22T19:22:24.238932Z",
     "iopub.status.busy": "2023-08-22T19:22:24.238447Z",
     "iopub.status.idle": "2023-08-22T19:22:24.243482Z",
     "shell.execute_reply": "2023-08-22T19:22:24.242316Z"
    },
    "papermill": {
     "duration": 0.127492,
     "end_time": "2023-08-22T19:22:24.245790",
     "exception": false,
     "start_time": "2023-08-22T19:22:24.118298",
     "status": "completed"
    },
    "tags": []
   },
   "outputs": [],
   "source": [
    "# Submit best 7 features\n",
    "\n",
    "# submit_v4(selected_features=best7_dict,\n",
    "#           param_grid=param_grid)"
   ]
  },
  {
   "cell_type": "code",
   "execution_count": 267,
   "id": "7dc2eb92",
   "metadata": {
    "execution": {
     "iopub.execute_input": "2023-08-22T19:22:24.492267Z",
     "iopub.status.busy": "2023-08-22T19:22:24.491811Z",
     "iopub.status.idle": "2023-08-22T19:22:24.496435Z",
     "shell.execute_reply": "2023-08-22T19:22:24.495658Z"
    },
    "papermill": {
     "duration": 0.133101,
     "end_time": "2023-08-22T19:22:24.498688",
     "exception": false,
     "start_time": "2023-08-22T19:22:24.365587",
     "status": "completed"
    },
    "tags": []
   },
   "outputs": [],
   "source": [
    "# submit_v4(selected_features=best6_dict, param_grid=param_grid)"
   ]
  },
  {
   "cell_type": "markdown",
   "id": "65bd0113",
   "metadata": {
    "papermill": {
     "duration": 0.121695,
     "end_time": "2023-08-22T19:22:24.743386",
     "exception": false,
     "start_time": "2023-08-22T19:22:24.621691",
     "status": "completed"
    },
    "tags": []
   },
   "source": [
    "## Try a new feature dict  \n",
    "\n"
   ]
  },
  {
   "cell_type": "code",
   "execution_count": 268,
   "id": "4865178d",
   "metadata": {
    "execution": {
     "iopub.execute_input": "2023-08-22T19:22:24.989691Z",
     "iopub.status.busy": "2023-08-22T19:22:24.989329Z",
     "iopub.status.idle": "2023-08-22T19:22:24.993007Z",
     "shell.execute_reply": "2023-08-22T19:22:24.992319Z"
    },
    "papermill": {
     "duration": 0.130022,
     "end_time": "2023-08-22T19:22:24.995017",
     "exception": false,
     "start_time": "2023-08-22T19:22:24.864995",
     "status": "completed"
    },
    "tags": []
   },
   "outputs": [],
   "source": [
    "# all_dict_new = {'cat': [\"isFrequentReviewer\", \"rating\", \"originalLanguage\"],\n",
    "#              'num': [\"audienceScore\", \"runtimeMinutes\", \"boxOffice\"],\n",
    "#              'txt': ['reviewText', \"reviewerName\", 'movieid', 'genre', 'director']}\n",
    "# all_dict_new"
   ]
  },
  {
   "cell_type": "code",
   "execution_count": 269,
   "id": "43f6fa4b",
   "metadata": {
    "execution": {
     "iopub.execute_input": "2023-08-22T19:22:25.240233Z",
     "iopub.status.busy": "2023-08-22T19:22:25.239791Z",
     "iopub.status.idle": "2023-08-22T19:22:25.244571Z",
     "shell.execute_reply": "2023-08-22T19:22:25.243432Z"
    },
    "papermill": {
     "duration": 0.130768,
     "end_time": "2023-08-22T19:22:25.246895",
     "exception": false,
     "start_time": "2023-08-22T19:22:25.116127",
     "status": "completed"
    },
    "tags": []
   },
   "outputs": [],
   "source": [
    "# submit_v4(selected_features={'txt': ['genre']}, param_grid=param_grid)"
   ]
  },
  {
   "cell_type": "code",
   "execution_count": 270,
   "id": "3636788c",
   "metadata": {
    "execution": {
     "iopub.execute_input": "2023-08-22T19:22:25.510067Z",
     "iopub.status.busy": "2023-08-22T19:22:25.509186Z",
     "iopub.status.idle": "2023-08-22T19:22:25.514694Z",
     "shell.execute_reply": "2023-08-22T19:22:25.513479Z"
    },
    "papermill": {
     "duration": 0.143748,
     "end_time": "2023-08-22T19:22:25.516770",
     "exception": false,
     "start_time": "2023-08-22T19:22:25.373022",
     "status": "completed"
    },
    "tags": []
   },
   "outputs": [],
   "source": [
    "# submit_v4(selected_features=all_dict_new, param_grid=param_grid)"
   ]
  },
  {
   "cell_type": "code",
   "execution_count": 271,
   "id": "dd082e5f",
   "metadata": {
    "execution": {
     "iopub.execute_input": "2023-08-22T19:22:25.755263Z",
     "iopub.status.busy": "2023-08-22T19:22:25.754811Z",
     "iopub.status.idle": "2023-08-22T19:22:25.759559Z",
     "shell.execute_reply": "2023-08-22T19:22:25.758320Z"
    },
    "papermill": {
     "duration": 0.126349,
     "end_time": "2023-08-22T19:22:25.761762",
     "exception": false,
     "start_time": "2023-08-22T19:22:25.635413",
     "status": "completed"
    },
    "tags": []
   },
   "outputs": [],
   "source": [
    "# Try non-text based columns\n",
    "# num_cat_dict = {'cat': ['isFrequentReviewer', 'rating', 'originalLanguage'],\n",
    "#  'num': ['audienceScore', 'runtimeMinutes', 'boxOffice']}\n",
    "# num_cat_dict"
   ]
  },
  {
   "cell_type": "code",
   "execution_count": 272,
   "id": "880ae299",
   "metadata": {
    "execution": {
     "iopub.execute_input": "2023-08-22T19:22:26.001151Z",
     "iopub.status.busy": "2023-08-22T19:22:26.000310Z",
     "iopub.status.idle": "2023-08-22T19:22:26.005130Z",
     "shell.execute_reply": "2023-08-22T19:22:26.003971Z"
    },
    "papermill": {
     "duration": 0.128146,
     "end_time": "2023-08-22T19:22:26.007842",
     "exception": false,
     "start_time": "2023-08-22T19:22:25.879696",
     "status": "completed"
    },
    "tags": []
   },
   "outputs": [],
   "source": [
    "# Use num_cat_dict features\n",
    "# (Update): Gets a local score of 0.7027181356991726. Not great.\n",
    "# submit_v4(selected_model=LogisticRegression(max_iter=100000), selected_features=num_cat_dict, param_grid=param_grid)"
   ]
  },
  {
   "cell_type": "code",
   "execution_count": 273,
   "id": "0c817a44",
   "metadata": {
    "execution": {
     "iopub.execute_input": "2023-08-22T19:22:26.307410Z",
     "iopub.status.busy": "2023-08-22T19:22:26.306339Z",
     "iopub.status.idle": "2023-08-22T19:22:26.310937Z",
     "shell.execute_reply": "2023-08-22T19:22:26.310122Z"
    },
    "papermill": {
     "duration": 0.125545,
     "end_time": "2023-08-22T19:22:26.312944",
     "exception": false,
     "start_time": "2023-08-22T19:22:26.187399",
     "status": "completed"
    },
    "tags": []
   },
   "outputs": [],
   "source": [
    "# Try data other than reviewText\n",
    "\n",
    "# mov_dict = {'cat': ['rating', 'originalLanguage'],\n",
    "#  'num': ['audienceScore', 'runtimeMinutes', 'boxOffice'],\n",
    "#  'txt': ['movieid', 'genre', 'director']}\n",
    "# mov_dict"
   ]
  },
  {
   "cell_type": "code",
   "execution_count": 274,
   "id": "8b4357da",
   "metadata": {
    "execution": {
     "iopub.execute_input": "2023-08-22T19:22:26.551755Z",
     "iopub.status.busy": "2023-08-22T19:22:26.550983Z",
     "iopub.status.idle": "2023-08-22T19:22:26.555451Z",
     "shell.execute_reply": "2023-08-22T19:22:26.554553Z"
    },
    "papermill": {
     "duration": 0.126593,
     "end_time": "2023-08-22T19:22:26.557636",
     "exception": false,
     "start_time": "2023-08-22T19:22:26.431043",
     "status": "completed"
    },
    "tags": []
   },
   "outputs": [],
   "source": [
    "# Use mov_dict features\n",
    "# (Update): Gets a local score of 0.7475454316469369, which is not bad at all.\n",
    "# submit_v4(selected_model=LogisticRegression(max_iter=100000), selected_features=mov_dict, param_grid=param_grid)"
   ]
  },
  {
   "cell_type": "markdown",
   "id": "a39f98fc",
   "metadata": {
    "papermill": {
     "duration": 0.116695,
     "end_time": "2023-08-22T19:22:26.793038",
     "exception": false,
     "start_time": "2023-08-22T19:22:26.676343",
     "status": "completed"
    },
    "tags": []
   },
   "source": [
    "# Try a new column 'reviewYN'  \n",
    "\n"
   ]
  },
  {
   "cell_type": "code",
   "execution_count": 275,
   "id": "433f60ac",
   "metadata": {
    "execution": {
     "iopub.execute_input": "2023-08-22T19:22:27.034883Z",
     "iopub.status.busy": "2023-08-22T19:22:27.034135Z",
     "iopub.status.idle": "2023-08-22T19:22:27.038802Z",
     "shell.execute_reply": "2023-08-22T19:22:27.037590Z"
    },
    "papermill": {
     "duration": 0.13035,
     "end_time": "2023-08-22T19:22:27.041633",
     "exception": false,
     "start_time": "2023-08-22T19:22:26.911283",
     "status": "completed"
    },
    "tags": []
   },
   "outputs": [],
   "source": [
    "# all_dict_3 = {'cat': [\"isFrequentReviewer\", \"rating\", \"originalLanguage\", \"reviewYN\"],\n",
    "#              'num': [\"audienceScore\", \"runtimeMinutes\", \"boxOffice\"],\n",
    "#              'txt': ['reviewText', \"reviewerName\", 'movieid', 'genre', 'director']}\n",
    "# all_dict_3"
   ]
  },
  {
   "cell_type": "code",
   "execution_count": 276,
   "id": "e5044f95",
   "metadata": {
    "execution": {
     "iopub.execute_input": "2023-08-22T19:22:27.286168Z",
     "iopub.status.busy": "2023-08-22T19:22:27.285424Z",
     "iopub.status.idle": "2023-08-22T19:22:27.290105Z",
     "shell.execute_reply": "2023-08-22T19:22:27.289410Z"
    },
    "papermill": {
     "duration": 0.127916,
     "end_time": "2023-08-22T19:22:27.292453",
     "exception": false,
     "start_time": "2023-08-22T19:22:27.164537",
     "status": "completed"
    },
    "tags": []
   },
   "outputs": [],
   "source": [
    "# submit_v4(selected_model=LogisticRegression(max_iter=100000),\n",
    "#          selected_features=all_dict_3, \n",
    "#           param_grid=param_grid)"
   ]
  },
  {
   "cell_type": "markdown",
   "id": "06c18946",
   "metadata": {
    "papermill": {
     "duration": 0.119948,
     "end_time": "2023-08-22T19:22:27.531624",
     "exception": false,
     "start_time": "2023-08-22T19:22:27.411676",
     "status": "completed"
    },
    "tags": []
   },
   "source": [
    "### More GridSearchCV using LinearSVC  "
   ]
  },
  {
   "cell_type": "code",
   "execution_count": 277,
   "id": "03944880",
   "metadata": {
    "execution": {
     "iopub.execute_input": "2023-08-22T19:22:27.802952Z",
     "iopub.status.busy": "2023-08-22T19:22:27.802223Z",
     "iopub.status.idle": "2023-08-22T19:22:27.806916Z",
     "shell.execute_reply": "2023-08-22T19:22:27.806122Z"
    },
    "papermill": {
     "duration": 0.144295,
     "end_time": "2023-08-22T19:22:27.809150",
     "exception": false,
     "start_time": "2023-08-22T19:22:27.664855",
     "status": "completed"
    },
    "tags": []
   },
   "outputs": [],
   "source": [
    "# param_grid_svc_2 = {\n",
    "#     'model__C': [1.0],\n",
    "#     'model__loss': ['hinge', 'squared_hinge'],\n",
    "#     'model__class_weight': ['balanced', None]\n",
    "# }\n",
    "# param_grid_svc_2"
   ]
  },
  {
   "cell_type": "code",
   "execution_count": 278,
   "id": "fa748c42",
   "metadata": {
    "execution": {
     "iopub.execute_input": "2023-08-22T19:22:28.066438Z",
     "iopub.status.busy": "2023-08-22T19:22:28.065660Z",
     "iopub.status.idle": "2023-08-22T19:22:28.070266Z",
     "shell.execute_reply": "2023-08-22T19:22:28.069517Z"
    },
    "papermill": {
     "duration": 0.13513,
     "end_time": "2023-08-22T19:22:28.074308",
     "exception": false,
     "start_time": "2023-08-22T19:22:27.939178",
     "status": "completed"
    },
    "tags": []
   },
   "outputs": [],
   "source": [
    "# submit_v4(selected_model=LinearSVC(max_iter=100000, random_state=42), selected_features={'num': [\"audienceScore\"]}, param_grid=param_grid_svc_2)"
   ]
  },
  {
   "cell_type": "code",
   "execution_count": 279,
   "id": "f92a79c3",
   "metadata": {
    "execution": {
     "iopub.execute_input": "2023-08-22T19:22:28.318690Z",
     "iopub.status.busy": "2023-08-22T19:22:28.317944Z",
     "iopub.status.idle": "2023-08-22T19:22:28.322608Z",
     "shell.execute_reply": "2023-08-22T19:22:28.321872Z"
    },
    "papermill": {
     "duration": 0.129054,
     "end_time": "2023-08-22T19:22:28.325077",
     "exception": false,
     "start_time": "2023-08-22T19:22:28.196023",
     "status": "completed"
    },
    "tags": []
   },
   "outputs": [],
   "source": [
    "# submit_v4(selected_model=LinearSVC(max_iter=100000, random_state=42), selected_features=all_dict, param_grid=param_grid_svc_2)"
   ]
  },
  {
   "cell_type": "markdown",
   "id": "13566c9b",
   "metadata": {
    "papermill": {
     "duration": 0.12032,
     "end_time": "2023-08-22T19:22:28.567133",
     "exception": false,
     "start_time": "2023-08-22T19:22:28.446813",
     "status": "completed"
    },
    "tags": []
   },
   "source": [
    "### Boosting techniques  "
   ]
  },
  {
   "cell_type": "code",
   "execution_count": 280,
   "id": "33a75ece",
   "metadata": {
    "execution": {
     "iopub.execute_input": "2023-08-22T19:22:28.808803Z",
     "iopub.status.busy": "2023-08-22T19:22:28.807847Z",
     "iopub.status.idle": "2023-08-22T19:22:28.812636Z",
     "shell.execute_reply": "2023-08-22T19:22:28.811879Z"
    },
    "papermill": {
     "duration": 0.129522,
     "end_time": "2023-08-22T19:22:28.814813",
     "exception": false,
     "start_time": "2023-08-22T19:22:28.685291",
     "status": "completed"
    },
    "tags": []
   },
   "outputs": [],
   "source": [
    "# adc = AdaBoostClassifier(estimator=LogisticRegression(C=5, solver=\"saga\", max_iter=100000), n_estimators=50)\n",
    "# adc"
   ]
  },
  {
   "cell_type": "code",
   "execution_count": 281,
   "id": "b4c8d493",
   "metadata": {
    "execution": {
     "iopub.execute_input": "2023-08-22T19:22:29.055280Z",
     "iopub.status.busy": "2023-08-22T19:22:29.054589Z",
     "iopub.status.idle": "2023-08-22T19:22:29.059813Z",
     "shell.execute_reply": "2023-08-22T19:22:29.058675Z"
    },
    "papermill": {
     "duration": 0.128789,
     "end_time": "2023-08-22T19:22:29.062012",
     "exception": false,
     "start_time": "2023-08-22T19:22:28.933223",
     "status": "completed"
    },
    "tags": []
   },
   "outputs": [],
   "source": [
    "# submit_v4(selected_model=adc, selected_features={'num': [\"audienceScore\"]}, param_grid=None)"
   ]
  },
  {
   "cell_type": "code",
   "execution_count": 282,
   "id": "c871e068",
   "metadata": {
    "execution": {
     "iopub.execute_input": "2023-08-22T19:22:29.300770Z",
     "iopub.status.busy": "2023-08-22T19:22:29.299957Z",
     "iopub.status.idle": "2023-08-22T19:22:29.305793Z",
     "shell.execute_reply": "2023-08-22T19:22:29.304564Z"
    },
    "papermill": {
     "duration": 0.128677,
     "end_time": "2023-08-22T19:22:29.308163",
     "exception": false,
     "start_time": "2023-08-22T19:22:29.179486",
     "status": "completed"
    },
    "tags": []
   },
   "outputs": [],
   "source": [
    "# submit_v4(selected_model=adc, selected_features=all_dict, param_grid=None)\n",
    "\n",
    "# Took 1 hour 15 mins to run and gave a public score of only 0.71089. Discarded."
   ]
  },
  {
   "cell_type": "markdown",
   "id": "e039844b",
   "metadata": {
    "papermill": {
     "duration": 0.118728,
     "end_time": "2023-08-22T19:22:29.548945",
     "exception": false,
     "start_time": "2023-08-22T19:22:29.430217",
     "status": "completed"
    },
    "tags": []
   },
   "source": [
    "### LightGBM  "
   ]
  },
  {
   "cell_type": "code",
   "execution_count": 283,
   "id": "35637d30",
   "metadata": {
    "execution": {
     "iopub.execute_input": "2023-08-22T19:22:29.787690Z",
     "iopub.status.busy": "2023-08-22T19:22:29.787241Z",
     "iopub.status.idle": "2023-08-22T19:22:29.791509Z",
     "shell.execute_reply": "2023-08-22T19:22:29.790674Z"
    },
    "papermill": {
     "duration": 0.127431,
     "end_time": "2023-08-22T19:22:29.793638",
     "exception": false,
     "start_time": "2023-08-22T19:22:29.666207",
     "status": "completed"
    },
    "tags": []
   },
   "outputs": [],
   "source": [
    "# lgb = ltb.LGBMClassifier()\n",
    "# lgb"
   ]
  },
  {
   "cell_type": "code",
   "execution_count": 284,
   "id": "799b9542",
   "metadata": {
    "execution": {
     "iopub.execute_input": "2023-08-22T19:22:30.032083Z",
     "iopub.status.busy": "2023-08-22T19:22:30.031653Z",
     "iopub.status.idle": "2023-08-22T19:22:30.036259Z",
     "shell.execute_reply": "2023-08-22T19:22:30.035399Z"
    },
    "papermill": {
     "duration": 0.126456,
     "end_time": "2023-08-22T19:22:30.038272",
     "exception": false,
     "start_time": "2023-08-22T19:22:29.911816",
     "status": "completed"
    },
    "tags": []
   },
   "outputs": [],
   "source": [
    "# Try LightGBM with default settings\n",
    "# (Update): Public score only 0.77713. It was fast, took less than 5 mins (without GridSearchCV)\n",
    "\n",
    "# submit_v4(selected_model=ltb.LGBMClassifier(), selected_features=all_dict, param_grid=None)"
   ]
  },
  {
   "cell_type": "markdown",
   "id": "79f4276d",
   "metadata": {
    "papermill": {
     "duration": 0.117168,
     "end_time": "2023-08-22T19:22:30.335543",
     "exception": false,
     "start_time": "2023-08-22T19:22:30.218375",
     "status": "completed"
    },
    "tags": []
   },
   "source": [
    "# Try feature selection and vocab fine tuning of reviewText column"
   ]
  },
  {
   "cell_type": "markdown",
   "id": "a5df1566",
   "metadata": {
    "papermill": {
     "duration": 0.118804,
     "end_time": "2023-08-22T19:22:30.572964",
     "exception": false,
     "start_time": "2023-08-22T19:22:30.454160",
     "status": "completed"
    },
    "tags": []
   },
   "source": [
    "## Plan  \n",
    "* Add a new column 'reviewWC' which has word count of 'reviewText'  \n",
    "    * Check if there is any relationship between 'reviewWC' and 'sentiment'\n",
    "* Work on vocabulary\n",
    "     * Use TfidfVectorizer and find out the vocabulary of 'reviewText' column for various ngrams\n",
    "     * Use RecursiveFeatureElimination (RFE) or RFECV to select 1000 top words/vocab for each ngram\n",
    "     * Use the final vocab (1000-3000 words) in the model and see how it performs compared to whole vocab\n"
   ]
  },
  {
   "cell_type": "code",
   "execution_count": 285,
   "id": "ca24e516",
   "metadata": {
    "execution": {
     "iopub.execute_input": "2023-08-22T19:22:30.813563Z",
     "iopub.status.busy": "2023-08-22T19:22:30.812799Z",
     "iopub.status.idle": "2023-08-22T19:22:30.818079Z",
     "shell.execute_reply": "2023-08-22T19:22:30.816774Z"
    },
    "papermill": {
     "duration": 0.129345,
     "end_time": "2023-08-22T19:22:30.821146",
     "exception": false,
     "start_time": "2023-08-22T19:22:30.691801",
     "status": "completed"
    },
    "tags": []
   },
   "outputs": [],
   "source": [
    "# 'reviewWC' and 'sentiment'\n",
    "# (Conclusion): 'reviewWC' is practically same as DummyClassifier (accuracy of 0.6682375059904889 on train data). It just predicts 'positive' for all columns\n",
    "\n",
    "# reviewWC_dict = {\"num\": [\"reviewWC\"]}\n",
    "# submit_v4(selected_model=LogisticRegression(),\n",
    "#          selected_features=reviewWC_dict,\n",
    "#          param_grid=None)"
   ]
  },
  {
   "cell_type": "code",
   "execution_count": 286,
   "id": "5263a103",
   "metadata": {
    "execution": {
     "iopub.execute_input": "2023-08-22T19:22:31.072157Z",
     "iopub.status.busy": "2023-08-22T19:22:31.071718Z",
     "iopub.status.idle": "2023-08-22T19:22:31.077369Z",
     "shell.execute_reply": "2023-08-22T19:22:31.075878Z"
    },
    "papermill": {
     "duration": 0.133369,
     "end_time": "2023-08-22T19:22:31.079959",
     "exception": false,
     "start_time": "2023-08-22T19:22:30.946590",
     "status": "completed"
    },
    "tags": []
   },
   "outputs": [],
   "source": [
    "# 'reviewYN' and 'sentiment'\n",
    "# (Conclusion): 'reviewYN' is practically same as DummyClassifier (accuracy of 0.6682375059904889 on train data). It just predicts 'positive' for all columns\n",
    "\n",
    "# reviewYN_dict = {\"cat\": [\"reviewYN\"]}\n",
    "# submit_v4(selected_model=LogisticRegression(),\n",
    "#          selected_features=reviewYN_dict,\n",
    "#          param_grid=None)"
   ]
  },
  {
   "cell_type": "markdown",
   "id": "8ca3e3b2",
   "metadata": {
    "papermill": {
     "duration": 0.121592,
     "end_time": "2023-08-22T19:22:31.325402",
     "exception": false,
     "start_time": "2023-08-22T19:22:31.203810",
     "status": "completed"
    },
    "tags": []
   },
   "source": [
    "## Submissions using 'vocabulary' built from 'reviewText' data  "
   ]
  },
  {
   "cell_type": "markdown",
   "id": "826f54b2",
   "metadata": {
    "papermill": {
     "duration": 0.119743,
     "end_time": "2023-08-22T19:22:31.565609",
     "exception": false,
     "start_time": "2023-08-22T19:22:31.445866",
     "status": "completed"
    },
    "tags": []
   },
   "source": [
    "### Submit best 6 features along with common vocab  "
   ]
  },
  {
   "cell_type": "code",
   "execution_count": 287,
   "id": "080b932f",
   "metadata": {
    "execution": {
     "iopub.execute_input": "2023-08-22T19:22:31.805677Z",
     "iopub.status.busy": "2023-08-22T19:22:31.805171Z",
     "iopub.status.idle": "2023-08-22T19:22:31.810434Z",
     "shell.execute_reply": "2023-08-22T19:22:31.809281Z"
    },
    "papermill": {
     "duration": 0.129885,
     "end_time": "2023-08-22T19:22:31.813283",
     "exception": false,
     "start_time": "2023-08-22T19:22:31.683398",
     "status": "completed"
    },
    "tags": []
   },
   "outputs": [],
   "source": [
    "# Best 6 parameters (version 2)  \n",
    "\n",
    "# best6_dict = {'num': [\"audienceScore\"],\n",
    "#              'txt': ['reviewText', 'reviewerName', 'genre','movieid', 'director']}\n",
    "\n",
    "# best6_dict"
   ]
  },
  {
   "cell_type": "code",
   "execution_count": 288,
   "id": "6c637822",
   "metadata": {
    "execution": {
     "iopub.execute_input": "2023-08-22T19:22:32.063361Z",
     "iopub.status.busy": "2023-08-22T19:22:32.062868Z",
     "iopub.status.idle": "2023-08-22T19:22:32.067984Z",
     "shell.execute_reply": "2023-08-22T19:22:32.066715Z"
    },
    "papermill": {
     "duration": 0.132687,
     "end_time": "2023-08-22T19:22:32.070538",
     "exception": false,
     "start_time": "2023-08-22T19:22:31.937851",
     "status": "completed"
    },
    "tags": []
   },
   "outputs": [],
   "source": [
    "# Submit best 6 features (version 2) with common vocabulary (common_1_2_grams)\n",
    "# (Update): Score 0.82867\n",
    "\n",
    "# submit_v4(selected_features=best6_dict,\n",
    "#           param_grid=param_grid,\n",
    "#          vocab=common_1_2_grams)"
   ]
  },
  {
   "cell_type": "code",
   "execution_count": 289,
   "id": "97c9e9d1",
   "metadata": {
    "execution": {
     "iopub.execute_input": "2023-08-22T19:22:32.320968Z",
     "iopub.status.busy": "2023-08-22T19:22:32.320586Z",
     "iopub.status.idle": "2023-08-22T19:22:32.325668Z",
     "shell.execute_reply": "2023-08-22T19:22:32.324396Z"
    },
    "papermill": {
     "duration": 0.131258,
     "end_time": "2023-08-22T19:22:32.327893",
     "exception": false,
     "start_time": "2023-08-22T19:22:32.196635",
     "status": "completed"
    },
    "tags": []
   },
   "outputs": [],
   "source": [
    "# Submit best 6 features (version 2) with common vocabulary (common_1_2_3_grams)\n",
    "# Note: for this submission submit_v4 function has to be modified: reviewText TfidfVectorizer must have ngram_range(1,3).\n",
    "# (Update): Score in the range 0.825+\n",
    "\n",
    "# submit_v4(selected_features=best6_dict,\n",
    "#           param_grid=param_grid,\n",
    "#          vocab=common_1_2_3_grams)"
   ]
  }
 ],
 "metadata": {
  "kernelspec": {
   "display_name": "Python 3",
   "language": "python",
   "name": "python3"
  },
  "language_info": {
   "codemirror_mode": {
    "name": "ipython",
    "version": 3
   },
   "file_extension": ".py",
   "mimetype": "text/x-python",
   "name": "python",
   "nbconvert_exporter": "python",
   "pygments_lexer": "ipython3",
   "version": "3.10.10"
  },
  "papermill": {
   "default_parameters": {},
   "duration": 235.563563,
   "end_time": "2023-08-22T19:22:35.272090",
   "environment_variables": {},
   "exception": null,
   "input_path": "__notebook__.ipynb",
   "output_path": "__notebook__.ipynb",
   "parameters": {},
   "start_time": "2023-08-22T19:18:39.708527",
   "version": "2.4.0"
  }
 },
 "nbformat": 4,
 "nbformat_minor": 5
}
