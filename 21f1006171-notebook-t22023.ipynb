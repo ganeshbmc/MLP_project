{
 "cells": [
  {
   "cell_type": "markdown",
   "id": "6decb5bc",
   "metadata": {
    "papermill": {
     "duration": 0.09277,
     "end_time": "2023-08-12T09:31:07.918866",
     "exception": false,
     "start_time": "2023-08-12T09:31:07.826096",
     "status": "completed"
    },
    "tags": []
   },
   "source": [
    "# MLP Project (T2 2023) by Ganesh P  "
   ]
  },
  {
   "cell_type": "markdown",
   "id": "aef58205",
   "metadata": {
    "papermill": {
     "duration": 0.102357,
     "end_time": "2023-08-12T09:31:08.116125",
     "exception": false,
     "start_time": "2023-08-12T09:31:08.013768",
     "status": "completed"
    },
    "tags": []
   },
   "source": [
    "`Disclaimer`   \n",
    "\n",
    "> This final notebook contains only the most relevant code to show the path/flow of my project work over few weeks. Rest of the code is in [my github repo](https://github.com/ganeshbmc/MLP_project) which is private at present (I will make it public after the project is over).  "
   ]
  },
  {
   "cell_type": "markdown",
   "id": "0e51977d",
   "metadata": {
    "papermill": {
     "duration": 0.097402,
     "end_time": "2023-08-12T09:31:08.312238",
     "exception": false,
     "start_time": "2023-08-12T09:31:08.214836",
     "status": "completed"
    },
    "tags": []
   },
   "source": [
    "`Strengths`  \n",
    "\n",
    "> * Modular code (DRY principle)  \n",
    "> * End to end pipeline in one function (with helper functions)   "
   ]
  },
  {
   "cell_type": "markdown",
   "id": "337d4415",
   "metadata": {
    "papermill": {
     "duration": 0.100835,
     "end_time": "2023-08-12T09:31:08.510872",
     "exception": false,
     "start_time": "2023-08-12T09:31:08.410037",
     "status": "completed"
    },
    "tags": []
   },
   "source": [
    "`Overview`  \n",
    "\n",
    "`PART I`  \n",
    "\n",
    "1.\t> Screen the datasets and import them.  \n",
    "2.\t> Perform EDA (first round).\n",
    "3.\t> Data cleaning.\n",
    "4.\t> Basic models including dummy model.\n",
    "5.\t> Because this is a text sentiment analysis project, focus on 'reviewText' column, work on cleaning text data and vectorising/tokenising it, build several models till the best possible score is reached.  \n",
    "\n",
    "`PART II`  \n",
    "\n",
    "6.\t> Merge train and movies dataset.\n",
    "7.\t> Perform EDA (second round) on merged dataset.\n",
    "8.\t> Data cleaning.\n",
    "9.\t> Build models on merged dataset.\n",
    "10.\t> Understand the results and do another round of EDA if needed.\n",
    "11.\t> Build final model.  \n",
    "\n",
    "`PART III (After project window closes)`  \n",
    "\n",
    "12. > Use NLTK library for further processing text data.  \n",
    "13. > Try to address comments from different languages, special characters etc.  \n",
    "14. > Try imblearn library to address class imbalance.  \n",
    "15. > Try to use currently available LLMs and see how my model performs agains them.  "
   ]
  },
  {
   "cell_type": "markdown",
   "id": "30d54ef0",
   "metadata": {
    "papermill": {
     "duration": 0.094231,
     "end_time": "2023-08-12T09:31:08.699024",
     "exception": false,
     "start_time": "2023-08-12T09:31:08.604793",
     "status": "completed"
    },
    "tags": []
   },
   "source": [
    "`Default code on Kaggle notebook`  "
   ]
  },
  {
   "cell_type": "code",
   "execution_count": 1,
   "id": "d52ad115",
   "metadata": {
    "_cell_guid": "b1076dfc-b9ad-4769-8c92-a6c4dae69d19",
    "_uuid": "8f2839f25d086af736a60e9eeb907d3b93b6e0e5",
    "execution": {
     "iopub.execute_input": "2023-08-12T09:31:08.890332Z",
     "iopub.status.busy": "2023-08-12T09:31:08.889505Z",
     "iopub.status.idle": "2023-08-12T09:31:08.908440Z",
     "shell.execute_reply": "2023-08-12T09:31:08.907147Z"
    },
    "papermill": {
     "duration": 0.118627,
     "end_time": "2023-08-12T09:31:08.912620",
     "exception": false,
     "start_time": "2023-08-12T09:31:08.793993",
     "status": "completed"
    },
    "tags": []
   },
   "outputs": [
    {
     "name": "stdout",
     "output_type": "stream",
     "text": [
      "/kaggle/input/sentiment-prediction-on-movie-reviews/movies.csv\n",
      "/kaggle/input/sentiment-prediction-on-movie-reviews/sample.csv\n",
      "/kaggle/input/sentiment-prediction-on-movie-reviews/train.csv\n",
      "/kaggle/input/sentiment-prediction-on-movie-reviews/test.csv\n"
     ]
    }
   ],
   "source": [
    "# This Python 3 environment comes with many helpful analytics libraries installed\n",
    "# It is defined by the kaggle/python Docker image: https://github.com/kaggle/docker-python\n",
    "# For example, here's several helpful packages to load\n",
    "\n",
    "import numpy as np # linear algebra\n",
    "import pandas as pd # data processing, CSV file I/O (e.g. pd.read_csv)\n",
    "\n",
    "# Input data files are available in the read-only \"../input/\" directory\n",
    "# For example, running this (by clicking run or pressing Shift+Enter) will list all files under the input directory\n",
    "\n",
    "import os\n",
    "for dirname, _, filenames in os.walk('/kaggle/input'):\n",
    "    for filename in filenames:\n",
    "        print(os.path.join(dirname, filename))\n",
    "\n",
    "# You can write up to 20GB to the current directory (/kaggle/working/) that gets preserved as output when you create a version using \"Save & Run All\" \n",
    "# You can also write temporary files to /kaggle/temp/, but they won't be saved outside of the current session"
   ]
  },
  {
   "cell_type": "markdown",
   "id": "b8ba2802",
   "metadata": {
    "papermill": {
     "duration": 0.094361,
     "end_time": "2023-08-12T09:31:09.104115",
     "exception": false,
     "start_time": "2023-08-12T09:31:09.009754",
     "status": "completed"
    },
    "tags": []
   },
   "source": [
    "### Specify platform  "
   ]
  },
  {
   "cell_type": "code",
   "execution_count": 2,
   "id": "3f82e45f",
   "metadata": {
    "execution": {
     "iopub.execute_input": "2023-08-12T09:31:09.287824Z",
     "iopub.status.busy": "2023-08-12T09:31:09.286942Z",
     "iopub.status.idle": "2023-08-12T09:31:09.292135Z",
     "shell.execute_reply": "2023-08-12T09:31:09.291299Z"
    },
    "papermill": {
     "duration": 0.099951,
     "end_time": "2023-08-12T09:31:09.294718",
     "exception": false,
     "start_time": "2023-08-12T09:31:09.194767",
     "status": "completed"
    },
    "tags": []
   },
   "outputs": [],
   "source": [
    "platform = 'kaggle'  "
   ]
  },
  {
   "cell_type": "markdown",
   "id": "7668bc47",
   "metadata": {
    "papermill": {
     "duration": 0.091692,
     "end_time": "2023-08-12T09:31:09.479149",
     "exception": false,
     "start_time": "2023-08-12T09:31:09.387457",
     "status": "completed"
    },
    "tags": []
   },
   "source": [
    "### Import libraries  "
   ]
  },
  {
   "cell_type": "code",
   "execution_count": 3,
   "id": "9eae83d4",
   "metadata": {
    "execution": {
     "iopub.execute_input": "2023-08-12T09:31:09.668483Z",
     "iopub.status.busy": "2023-08-12T09:31:09.667636Z",
     "iopub.status.idle": "2023-08-12T09:31:12.106675Z",
     "shell.execute_reply": "2023-08-12T09:31:12.105514Z"
    },
    "papermill": {
     "duration": 2.536936,
     "end_time": "2023-08-12T09:31:12.109319",
     "exception": false,
     "start_time": "2023-08-12T09:31:09.572383",
     "status": "completed"
    },
    "tags": []
   },
   "outputs": [
    {
     "name": "stdout",
     "output_type": "stream",
     "text": [
      "Imports done.\n"
     ]
    }
   ],
   "source": [
    "import pandas as pd\n",
    "import numpy as np\n",
    "import matplotlib.pyplot as plt\n",
    "import seaborn as sns\n",
    "import re\n",
    "from itertools import compress\n",
    "\n",
    "from sklearn.dummy import DummyClassifier\n",
    "from sklearn.pipeline import Pipeline, FeatureUnion\n",
    "from sklearn.compose import ColumnTransformer\n",
    "from sklearn.metrics import classification_report, confusion_matrix,f1_score\n",
    "from sklearn.feature_extraction.text import TfidfVectorizer, CountVectorizer\n",
    "from sklearn.preprocessing import FunctionTransformer\n",
    "from sklearn.preprocessing import StandardScaler, MinMaxScaler, RobustScaler, OneHotEncoder, LabelEncoder\n",
    "from sklearn.impute import SimpleImputer\n",
    "from sklearn.linear_model import LogisticRegression, SGDClassifier\n",
    "from sklearn.tree import DecisionTreeClassifier\n",
    "from sklearn.ensemble import RandomForestClassifier, AdaBoostClassifier\n",
    "from sklearn.svm import LinearSVC\n",
    "from sklearn.naive_bayes import GaussianNB, BernoulliNB, CategoricalNB, ComplementNB, MultinomialNB\n",
    "from sklearn.model_selection import train_test_split, GridSearchCV, cross_val_score\n",
    "from sklearn.decomposition import PCA, TruncatedSVD\n",
    "from sklearn.feature_selection import RFECV\n",
    "from sklearn.feature_selection import RFE\n",
    "from sklearn.neural_network import MLPClassifier\n",
    "\n",
    "# import lightgbm as ltb\n",
    "\n",
    "import scipy.stats as stats\n",
    "print(\"Imports done.\")"
   ]
  },
  {
   "cell_type": "markdown",
   "id": "4d7229e2",
   "metadata": {
    "papermill": {
     "duration": 0.090647,
     "end_time": "2023-08-12T09:31:12.292433",
     "exception": false,
     "start_time": "2023-08-12T09:31:12.201786",
     "status": "completed"
    },
    "tags": []
   },
   "source": [
    "# PART I  "
   ]
  },
  {
   "cell_type": "markdown",
   "id": "aa2fc853",
   "metadata": {
    "papermill": {
     "duration": 0.090967,
     "end_time": "2023-08-12T09:31:12.474865",
     "exception": false,
     "start_time": "2023-08-12T09:31:12.383898",
     "status": "completed"
    },
    "tags": []
   },
   "source": [
    "## Load datasets  "
   ]
  },
  {
   "cell_type": "code",
   "execution_count": 4,
   "id": "bddb7550",
   "metadata": {
    "execution": {
     "iopub.execute_input": "2023-08-12T09:31:12.660616Z",
     "iopub.status.busy": "2023-08-12T09:31:12.660190Z",
     "iopub.status.idle": "2023-08-12T09:31:13.847130Z",
     "shell.execute_reply": "2023-08-12T09:31:13.845928Z"
    },
    "papermill": {
     "duration": 1.283845,
     "end_time": "2023-08-12T09:31:13.849708",
     "exception": false,
     "start_time": "2023-08-12T09:31:12.565863",
     "status": "completed"
    },
    "tags": []
   },
   "outputs": [
    {
     "data": {
      "text/plain": [
       "(162758, 5)"
      ]
     },
     "execution_count": 4,
     "metadata": {},
     "output_type": "execute_result"
    }
   ],
   "source": [
    "if platform == 'vscode':\n",
    "    traindf = pd.read_csv(\"data/train.csv\")\n",
    "else:\n",
    "    traindf = pd.read_csv(\"/kaggle/input/sentiment-prediction-on-movie-reviews/train.csv\")\n",
    "    \n",
    "traindf.shape"
   ]
  },
  {
   "cell_type": "code",
   "execution_count": 5,
   "id": "40eb9e0d",
   "metadata": {
    "execution": {
     "iopub.execute_input": "2023-08-12T09:31:14.037456Z",
     "iopub.status.busy": "2023-08-12T09:31:14.036335Z",
     "iopub.status.idle": "2023-08-12T09:31:14.403417Z",
     "shell.execute_reply": "2023-08-12T09:31:14.402222Z"
    },
    "papermill": {
     "duration": 0.465144,
     "end_time": "2023-08-12T09:31:14.406090",
     "exception": false,
     "start_time": "2023-08-12T09:31:13.940946",
     "status": "completed"
    },
    "tags": []
   },
   "outputs": [
    {
     "data": {
      "text/plain": [
       "(55315, 4)"
      ]
     },
     "execution_count": 5,
     "metadata": {},
     "output_type": "execute_result"
    }
   ],
   "source": [
    "if platform == 'vscode':\n",
    "    testdf = pd.read_csv(\"data/test.csv\")\n",
    "else:\n",
    "    testdf = pd.read_csv(\"/kaggle/input/sentiment-prediction-on-movie-reviews/test.csv\")\n",
    "\n",
    "testdf.shape"
   ]
  },
  {
   "cell_type": "markdown",
   "id": "24e16fdf",
   "metadata": {
    "papermill": {
     "duration": 0.090967,
     "end_time": "2023-08-12T09:31:14.588774",
     "exception": false,
     "start_time": "2023-08-12T09:31:14.497807",
     "status": "completed"
    },
    "tags": []
   },
   "source": [
    "### Understanding the data and getting it ready for training and evaluating models  \n"
   ]
  },
  {
   "cell_type": "code",
   "execution_count": 6,
   "id": "9c241511",
   "metadata": {
    "execution": {
     "iopub.execute_input": "2023-08-12T09:31:14.776603Z",
     "iopub.status.busy": "2023-08-12T09:31:14.776154Z",
     "iopub.status.idle": "2023-08-12T09:31:14.783316Z",
     "shell.execute_reply": "2023-08-12T09:31:14.782041Z"
    },
    "papermill": {
     "duration": 0.102524,
     "end_time": "2023-08-12T09:31:14.786400",
     "exception": false,
     "start_time": "2023-08-12T09:31:14.683876",
     "status": "completed"
    },
    "tags": []
   },
   "outputs": [
    {
     "data": {
      "text/plain": [
       "(162758, 5)"
      ]
     },
     "execution_count": 6,
     "metadata": {},
     "output_type": "execute_result"
    }
   ],
   "source": [
    "traindf.shape"
   ]
  },
  {
   "cell_type": "code",
   "execution_count": 7,
   "id": "777b87dd",
   "metadata": {
    "execution": {
     "iopub.execute_input": "2023-08-12T09:31:14.972390Z",
     "iopub.status.busy": "2023-08-12T09:31:14.971965Z",
     "iopub.status.idle": "2023-08-12T09:31:15.218107Z",
     "shell.execute_reply": "2023-08-12T09:31:15.216829Z"
    },
    "papermill": {
     "duration": 0.341872,
     "end_time": "2023-08-12T09:31:15.220791",
     "exception": false,
     "start_time": "2023-08-12T09:31:14.878919",
     "status": "completed"
    },
    "tags": []
   },
   "outputs": [
    {
     "name": "stdout",
     "output_type": "stream",
     "text": [
      "<class 'pandas.core.frame.DataFrame'>\n",
      "RangeIndex: 162758 entries, 0 to 162757\n",
      "Data columns (total 5 columns):\n",
      " #   Column              Non-Null Count   Dtype \n",
      "---  ------              --------------   ----- \n",
      " 0   movieid             162758 non-null  object\n",
      " 1   reviewerName        162758 non-null  object\n",
      " 2   isFrequentReviewer  162758 non-null  bool  \n",
      " 3   reviewText          156311 non-null  object\n",
      " 4   sentiment           162758 non-null  object\n",
      "dtypes: bool(1), object(4)\n",
      "memory usage: 5.1+ MB\n"
     ]
    }
   ],
   "source": [
    "traindf.info()"
   ]
  },
  {
   "cell_type": "code",
   "execution_count": 8,
   "id": "404784f4",
   "metadata": {
    "execution": {
     "iopub.execute_input": "2023-08-12T09:31:15.407033Z",
     "iopub.status.busy": "2023-08-12T09:31:15.406605Z",
     "iopub.status.idle": "2023-08-12T09:31:15.628527Z",
     "shell.execute_reply": "2023-08-12T09:31:15.627254Z"
    },
    "papermill": {
     "duration": 0.31913,
     "end_time": "2023-08-12T09:31:15.631416",
     "exception": false,
     "start_time": "2023-08-12T09:31:15.312286",
     "status": "completed"
    },
    "tags": []
   },
   "outputs": [
    {
     "data": {
      "text/plain": [
       "movieid                  0\n",
       "reviewerName             0\n",
       "isFrequentReviewer       0\n",
       "reviewText            6447\n",
       "sentiment                0\n",
       "dtype: int64"
      ]
     },
     "execution_count": 8,
     "metadata": {},
     "output_type": "execute_result"
    }
   ],
   "source": [
    "traindf.isna().sum()"
   ]
  },
  {
   "cell_type": "markdown",
   "id": "8ae19e69",
   "metadata": {
    "papermill": {
     "duration": 0.092946,
     "end_time": "2023-08-12T09:31:15.886774",
     "exception": false,
     "start_time": "2023-08-12T09:31:15.793828",
     "status": "completed"
    },
    "tags": []
   },
   "source": [
    "### Fill empty reviewText with custom text  "
   ]
  },
  {
   "cell_type": "code",
   "execution_count": 9,
   "id": "e1a12c14",
   "metadata": {
    "execution": {
     "iopub.execute_input": "2023-08-12T09:31:16.075764Z",
     "iopub.status.busy": "2023-08-12T09:31:16.075373Z",
     "iopub.status.idle": "2023-08-12T09:31:16.319027Z",
     "shell.execute_reply": "2023-08-12T09:31:16.317763Z"
    },
    "papermill": {
     "duration": 0.342017,
     "end_time": "2023-08-12T09:31:16.321617",
     "exception": false,
     "start_time": "2023-08-12T09:31:15.979600",
     "status": "completed"
    },
    "tags": []
   },
   "outputs": [
    {
     "data": {
      "text/plain": [
       "movieid               0\n",
       "reviewerName          0\n",
       "isFrequentReviewer    0\n",
       "reviewText            0\n",
       "sentiment             0\n",
       "dtype: int64"
      ]
     },
     "execution_count": 9,
     "metadata": {},
     "output_type": "execute_result"
    }
   ],
   "source": [
    "traindf[\"reviewText\"].fillna(\"empty\", inplace=True)\n",
    "traindf.isna().sum()"
   ]
  },
  {
   "cell_type": "markdown",
   "id": "2d16af8c",
   "metadata": {
    "papermill": {
     "duration": 0.093222,
     "end_time": "2023-08-12T09:31:16.509775",
     "exception": false,
     "start_time": "2023-08-12T09:31:16.416553",
     "status": "completed"
    },
    "tags": []
   },
   "source": [
    "## EDA  \n"
   ]
  },
  {
   "cell_type": "code",
   "execution_count": 10,
   "id": "7c470186",
   "metadata": {
    "execution": {
     "iopub.execute_input": "2023-08-12T09:31:16.698793Z",
     "iopub.status.busy": "2023-08-12T09:31:16.697872Z",
     "iopub.status.idle": "2023-08-12T09:31:16.938705Z",
     "shell.execute_reply": "2023-08-12T09:31:16.937126Z"
    },
    "papermill": {
     "duration": 0.339587,
     "end_time": "2023-08-12T09:31:16.942929",
     "exception": false,
     "start_time": "2023-08-12T09:31:16.603342",
     "status": "completed"
    },
    "tags": []
   },
   "outputs": [
    {
     "data": {
      "image/png": "[encoded data removed]",
      "text/plain": [
       "<Figure size 600x400 with 1 Axes>"
      ]
     },
     "metadata": {},
     "output_type": "display_data"
    }
   ],
   "source": [
    "# Pie chart for sentiment column\n",
    "plt.figure(figsize=(6, 4))\n",
    "traindf[\"sentiment\"].value_counts().plot(kind='pie', autopct='%1.0f%%', colors=[\"lightgreen\", \"crimson\"])\n",
    "plt.title(\"Pie chart for sentiment column\")\n",
    "plt.show()"
   ]
  },
  {
   "cell_type": "code",
   "execution_count": 11,
   "id": "f455663d",
   "metadata": {
    "execution": {
     "iopub.execute_input": "2023-08-12T09:31:17.174651Z",
     "iopub.status.busy": "2023-08-12T09:31:17.174233Z",
     "iopub.status.idle": "2023-08-12T09:31:17.257735Z",
     "shell.execute_reply": "2023-08-12T09:31:17.256603Z"
    },
    "papermill": {
     "duration": 0.18267,
     "end_time": "2023-08-12T09:31:17.260240",
     "exception": false,
     "start_time": "2023-08-12T09:31:17.077570",
     "status": "completed"
    },
    "tags": []
   },
   "outputs": [
    {
     "name": "stdout",
     "output_type": "stream",
     "text": [
      "sentiment           NEGATIVE  POSITIVE\n",
      "isFrequentReviewer                    \n",
      "False                  35760     77429\n",
      "True                   18237     31332\n"
     ]
    },
    {
     "data": {
      "text/plain": [
       "Chi2ContingencyResult(statistic=419.89235425657796, pvalue=2.5755894769493255e-93, dof=1, expected_freq=array([[37551.86493444, 75637.13506556],\n",
       "       [16445.13506556, 33123.86493444]]))"
      ]
     },
     "execution_count": 11,
     "metadata": {},
     "output_type": "execute_result"
    }
   ],
   "source": [
    "# Chi-square test for isFrequentReviewer column and sentiment column   \n",
    "\n",
    "contingency_table = pd.crosstab(traindf['isFrequentReviewer'], traindf['sentiment'])\n",
    "print(contingency_table)\n",
    "stats.chi2_contingency(contingency_table)"
   ]
  },
  {
   "cell_type": "markdown",
   "id": "9651e401",
   "metadata": {
    "papermill": {
     "duration": 0.095263,
     "end_time": "2023-08-12T09:31:17.448894",
     "exception": false,
     "start_time": "2023-08-12T09:31:17.353631",
     "status": "completed"
    },
    "tags": []
   },
   "source": [
    "### Separate features and labels  "
   ]
  },
  {
   "cell_type": "code",
   "execution_count": 12,
   "id": "a8d8c1e6",
   "metadata": {
    "execution": {
     "iopub.execute_input": "2023-08-12T09:31:17.638479Z",
     "iopub.status.busy": "2023-08-12T09:31:17.638047Z",
     "iopub.status.idle": "2023-08-12T09:31:17.646199Z",
     "shell.execute_reply": "2023-08-12T09:31:17.645032Z"
    },
    "papermill": {
     "duration": 0.105845,
     "end_time": "2023-08-12T09:31:17.648573",
     "exception": false,
     "start_time": "2023-08-12T09:31:17.542728",
     "status": "completed"
    },
    "tags": []
   },
   "outputs": [
    {
     "data": {
      "text/plain": [
       "((162758,), (162758,))"
      ]
     },
     "execution_count": 12,
     "metadata": {},
     "output_type": "execute_result"
    }
   ],
   "source": [
    "train_features = traindf[\"reviewText\"]\n",
    "train_labels = traindf.iloc[:, -1]\n",
    "train_features.shape, train_labels.shape"
   ]
  },
  {
   "cell_type": "markdown",
   "id": "8a8e33b5",
   "metadata": {
    "papermill": {
     "duration": 0.093546,
     "end_time": "2023-08-12T09:31:17.836899",
     "exception": false,
     "start_time": "2023-08-12T09:31:17.743353",
     "status": "completed"
    },
    "tags": []
   },
   "source": [
    "### Split traindf into training and testing parts  "
   ]
  },
  {
   "cell_type": "code",
   "execution_count": 13,
   "id": "dd96de83",
   "metadata": {
    "execution": {
     "iopub.execute_input": "2023-08-12T09:31:18.031010Z",
     "iopub.status.busy": "2023-08-12T09:31:18.030594Z",
     "iopub.status.idle": "2023-08-12T09:31:18.072911Z",
     "shell.execute_reply": "2023-08-12T09:31:18.071581Z"
    },
    "papermill": {
     "duration": 0.142876,
     "end_time": "2023-08-12T09:31:18.075426",
     "exception": false,
     "start_time": "2023-08-12T09:31:17.932550",
     "status": "completed"
    },
    "tags": []
   },
   "outputs": [
    {
     "data": {
      "text/plain": [
       "((122068,), (40690,), (122068,), (40690,))"
      ]
     },
     "execution_count": 13,
     "metadata": {},
     "output_type": "execute_result"
    }
   ],
   "source": [
    "X_train, X_test, y_train, y_test = train_test_split(train_features, train_labels, test_size=0.25, random_state=42)\n",
    "X_train.shape, X_test.shape, y_train.shape, y_test.shape"
   ]
  },
  {
   "cell_type": "markdown",
   "id": "d9447221",
   "metadata": {
    "papermill": {
     "duration": 0.09341,
     "end_time": "2023-08-12T09:31:18.263662",
     "exception": false,
     "start_time": "2023-08-12T09:31:18.170252",
     "status": "completed"
    },
    "tags": []
   },
   "source": [
    "## Model evaluation plan and code  "
   ]
  },
  {
   "cell_type": "code",
   "execution_count": 14,
   "id": "67e75119",
   "metadata": {
    "execution": {
     "iopub.execute_input": "2023-08-12T09:31:18.454232Z",
     "iopub.status.busy": "2023-08-12T09:31:18.453051Z",
     "iopub.status.idle": "2023-08-12T09:31:18.457637Z",
     "shell.execute_reply": "2023-08-12T09:31:18.456733Z"
    },
    "papermill": {
     "duration": 0.102793,
     "end_time": "2023-08-12T09:31:18.459908",
     "exception": false,
     "start_time": "2023-08-12T09:31:18.357115",
     "status": "completed"
    },
    "tags": []
   },
   "outputs": [],
   "source": [
    "# from sklearn.metrics import classification_report, confusion_matrix, ConfusionMatrixDisplay\n",
    "# from sklearn.metrics import f1_score"
   ]
  },
  {
   "cell_type": "code",
   "execution_count": 15,
   "id": "aee4982f",
   "metadata": {
    "execution": {
     "iopub.execute_input": "2023-08-12T09:31:18.649412Z",
     "iopub.status.busy": "2023-08-12T09:31:18.648995Z",
     "iopub.status.idle": "2023-08-12T09:31:18.653508Z",
     "shell.execute_reply": "2023-08-12T09:31:18.652375Z"
    },
    "papermill": {
     "duration": 0.101883,
     "end_time": "2023-08-12T09:31:18.655897",
     "exception": false,
     "start_time": "2023-08-12T09:31:18.554014",
     "status": "completed"
    },
    "tags": []
   },
   "outputs": [],
   "source": [
    "# def evaluate(y_test, y_pred):\n",
    "#     print(classification_report(y_test, y_pred))\n",
    "#     print(confusion_matrix(y_test, y_pred))\n",
    "#     # print(f1_score(y_test, y_pred))\n",
    "#     ConfusionMatrixDisplay(y_test, y_pred)\n",
    "#     return"
   ]
  },
  {
   "cell_type": "markdown",
   "id": "7d110bcb",
   "metadata": {
    "papermill": {
     "duration": 0.093367,
     "end_time": "2023-08-12T09:31:18.842401",
     "exception": false,
     "start_time": "2023-08-12T09:31:18.749034",
     "status": "completed"
    },
    "tags": []
   },
   "source": [
    "### Data preprocessing  "
   ]
  },
  {
   "cell_type": "markdown",
   "id": "41fa6c58",
   "metadata": {
    "papermill": {
     "duration": 0.096296,
     "end_time": "2023-08-12T09:31:19.032504",
     "exception": false,
     "start_time": "2023-08-12T09:31:18.936208",
     "status": "completed"
    },
    "tags": []
   },
   "source": [
    "`Define stop words`  "
   ]
  },
  {
   "cell_type": "code",
   "execution_count": 16,
   "id": "9168163b",
   "metadata": {
    "execution": {
     "iopub.execute_input": "2023-08-12T09:31:19.222752Z",
     "iopub.status.busy": "2023-08-12T09:31:19.222113Z",
     "iopub.status.idle": "2023-08-12T09:31:19.225975Z",
     "shell.execute_reply": "2023-08-12T09:31:19.225204Z"
    },
    "papermill": {
     "duration": 0.100956,
     "end_time": "2023-08-12T09:31:19.228270",
     "exception": false,
     "start_time": "2023-08-12T09:31:19.127314",
     "status": "completed"
    },
    "tags": []
   },
   "outputs": [],
   "source": [
    "# stop_words = [\"able\", \"about\", \"above\", \"abst\", \"ac\"]     # Deprecated  \n",
    "# type(stop_words), len(stop_words)"
   ]
  },
  {
   "cell_type": "markdown",
   "id": "99a7dace",
   "metadata": {
    "papermill": {
     "duration": 0.092277,
     "end_time": "2023-08-12T09:31:19.413937",
     "exception": false,
     "start_time": "2023-08-12T09:31:19.321660",
     "status": "completed"
    },
    "tags": []
   },
   "source": [
    "## Feature extraction  "
   ]
  },
  {
   "cell_type": "markdown",
   "id": "68e7d4c3",
   "metadata": {
    "papermill": {
     "duration": 0.094295,
     "end_time": "2023-08-12T09:31:19.603697",
     "exception": false,
     "start_time": "2023-08-12T09:31:19.509402",
     "status": "completed"
    },
    "tags": []
   },
   "source": [
    "### Understand CountVectorizer and TfidfVectorizer  "
   ]
  },
  {
   "cell_type": "code",
   "execution_count": 17,
   "id": "ccd05b6b",
   "metadata": {
    "execution": {
     "iopub.execute_input": "2023-08-12T09:31:19.803407Z",
     "iopub.status.busy": "2023-08-12T09:31:19.802553Z",
     "iopub.status.idle": "2023-08-12T09:31:19.807647Z",
     "shell.execute_reply": "2023-08-12T09:31:19.806498Z"
    },
    "papermill": {
     "duration": 0.1101,
     "end_time": "2023-08-12T09:31:19.810373",
     "exception": false,
     "start_time": "2023-08-12T09:31:19.700273",
     "status": "completed"
    },
    "tags": []
   },
   "outputs": [],
   "source": [
    "# text = X_train.copy()\n",
    "# text.head()"
   ]
  },
  {
   "cell_type": "code",
   "execution_count": 18,
   "id": "1171171a",
   "metadata": {
    "execution": {
     "iopub.execute_input": "2023-08-12T09:31:20.038733Z",
     "iopub.status.busy": "2023-08-12T09:31:20.037935Z",
     "iopub.status.idle": "2023-08-12T09:31:20.042071Z",
     "shell.execute_reply": "2023-08-12T09:31:20.041237Z"
    },
    "papermill": {
     "duration": 0.131114,
     "end_time": "2023-08-12T09:31:20.044447",
     "exception": false,
     "start_time": "2023-08-12T09:31:19.913333",
     "status": "completed"
    },
    "tags": []
   },
   "outputs": [],
   "source": [
    "# vectorizer = TfidfVectorizer(stop_words=stop_words)\n",
    "# vectorized_text = vectorizer.fit_transform(text[\"reviewText\"])\n",
    "# vectorized_text"
   ]
  },
  {
   "cell_type": "markdown",
   "id": "5d591f4b",
   "metadata": {
    "papermill": {
     "duration": 0.093782,
     "end_time": "2023-08-12T09:31:20.232502",
     "exception": false,
     "start_time": "2023-08-12T09:31:20.138720",
     "status": "completed"
    },
    "tags": []
   },
   "source": [
    "`Without stop words`  \n",
    "<122068x58624 sparse matrix of type '<class 'numpy.float64'>'\n",
    "\twith 2312222 stored elements in Compressed Sparse Row format>\n",
    "\n",
    "`With stop words`  \n",
    "<122068x57784 sparse matrix of type '<class 'numpy.float64'>'\n",
    "\twith 1188395 stored elements in Compressed Sparse Row format>   "
   ]
  },
  {
   "cell_type": "code",
   "execution_count": 19,
   "id": "7c4e9621",
   "metadata": {
    "execution": {
     "iopub.execute_input": "2023-08-12T09:31:20.421981Z",
     "iopub.status.busy": "2023-08-12T09:31:20.421217Z",
     "iopub.status.idle": "2023-08-12T09:31:20.425442Z",
     "shell.execute_reply": "2023-08-12T09:31:20.424495Z"
    },
    "papermill": {
     "duration": 0.101274,
     "end_time": "2023-08-12T09:31:20.427799",
     "exception": false,
     "start_time": "2023-08-12T09:31:20.326525",
     "status": "completed"
    },
    "tags": []
   },
   "outputs": [],
   "source": [
    "# vectorizer2 = CountVectorizer(stop_words=stop_words)\n",
    "# vectorized_text2 = vectorizer2.fit_transform(text[\"reviewText\"])\n",
    "# vectorized_text2"
   ]
  },
  {
   "cell_type": "markdown",
   "id": "8d694102",
   "metadata": {
    "papermill": {
     "duration": 0.09486,
     "end_time": "2023-08-12T09:31:20.617406",
     "exception": false,
     "start_time": "2023-08-12T09:31:20.522546",
     "status": "completed"
    },
    "tags": []
   },
   "source": [
    "`Without stop words`  \n",
    "<122068x58624 sparse matrix of type '<class 'numpy.int64'>'\n",
    "\twith 2312222 stored elements in Compressed Sparse Row format>\n",
    "\n",
    "`With stop words`  \n",
    "<122068x57784 sparse matrix of type '<class 'numpy.int64'>'\n",
    "\twith 1188395 stored elements in Compressed Sparse Row format>"
   ]
  },
  {
   "cell_type": "markdown",
   "id": "e9e59689",
   "metadata": {
    "papermill": {
     "duration": 0.09376,
     "end_time": "2023-08-12T09:31:20.804809",
     "exception": false,
     "start_time": "2023-08-12T09:31:20.711049",
     "status": "completed"
    },
    "tags": []
   },
   "source": [
    "### Conclusion   \n",
    "`TfidfVectorizer is equivalent to CountVectorizer followed by TfidfTransformer.`  \n",
    "\n",
    "https://scikit-learn.org/stable/modules/generated/sklearn.feature_extraction.text.TfidfVectorizer.html"
   ]
  },
  {
   "cell_type": "markdown",
   "id": "abbecd87",
   "metadata": {
    "papermill": {
     "duration": 0.093431,
     "end_time": "2023-08-12T09:31:20.991756",
     "exception": false,
     "start_time": "2023-08-12T09:31:20.898325",
     "status": "completed"
    },
    "tags": []
   },
   "source": [
    "## Model building workflow  \n",
    "\n",
    "`Make pipeline for preprocesing and model training and predictions`  \n"
   ]
  },
  {
   "cell_type": "code",
   "execution_count": 20,
   "id": "3ea444ec",
   "metadata": {
    "execution": {
     "iopub.execute_input": "2023-08-12T09:31:21.186365Z",
     "iopub.status.busy": "2023-08-12T09:31:21.185913Z",
     "iopub.status.idle": "2023-08-12T09:31:21.190809Z",
     "shell.execute_reply": "2023-08-12T09:31:21.189860Z"
    },
    "papermill": {
     "duration": 0.103211,
     "end_time": "2023-08-12T09:31:21.192950",
     "exception": false,
     "start_time": "2023-08-12T09:31:21.089739",
     "status": "completed"
    },
    "tags": []
   },
   "outputs": [],
   "source": [
    "# def preprocess_n_train(X_train, y_train, preprocessor, model):\n",
    "#     pipe = Pipeline(steps=[\n",
    "#                             (\"preprocessor\", preprocessor),\n",
    "#                             (\"model\", model)\n",
    "#                         ])\n",
    "    \n",
    "#     pipe.fit(X_train, y_train)\n",
    "\n",
    "#     print(\"Given model has been trained. Use predict method to get predictions array.\")\n",
    "#     return pipe\n",
    "\n",
    "\n",
    "# def predict_n_evaluate(pipeline, X_test, y_test):\n",
    "#     y_pred = pipeline.predict(X_test)\n",
    "#     print(f\"y_pred shape: {y_pred.shape}\")\n",
    "#     print(f\"Summary of predictions: {np.unique(y_pred, return_counts=True)}\")\n",
    "#     print(classification_report(y_test, y_pred))\n",
    "#     print(confusion_matrix(y_test, y_pred))\n",
    "#     return y_pred"
   ]
  },
  {
   "cell_type": "markdown",
   "id": "e01513b1",
   "metadata": {
    "papermill": {
     "duration": 0.093113,
     "end_time": "2023-08-12T09:31:21.379265",
     "exception": false,
     "start_time": "2023-08-12T09:31:21.286152",
     "status": "completed"
    },
    "tags": []
   },
   "source": [
    "## Building 3 basic models  "
   ]
  },
  {
   "cell_type": "markdown",
   "id": "31a29890",
   "metadata": {
    "papermill": {
     "duration": 0.092668,
     "end_time": "2023-08-12T09:31:21.566910",
     "exception": false,
     "start_time": "2023-08-12T09:31:21.474242",
     "status": "completed"
    },
    "tags": []
   },
   "source": [
    "### Text preprocessors  "
   ]
  },
  {
   "cell_type": "code",
   "execution_count": 21,
   "id": "cb9f11c1",
   "metadata": {
    "execution": {
     "iopub.execute_input": "2023-08-12T09:31:21.755380Z",
     "iopub.status.busy": "2023-08-12T09:31:21.754651Z",
     "iopub.status.idle": "2023-08-12T09:31:21.759212Z",
     "shell.execute_reply": "2023-08-12T09:31:21.757964Z"
    },
    "papermill": {
     "duration": 0.101842,
     "end_time": "2023-08-12T09:31:21.761950",
     "exception": false,
     "start_time": "2023-08-12T09:31:21.660108",
     "status": "completed"
    },
    "tags": []
   },
   "outputs": [],
   "source": [
    "# tvec = TfidfVectorizer()\n",
    "# cvec = CountVectorizer()        # Note that TfidfVectorizer and CountVectorizer+TfidsTransformer do the same function\n",
    "# tvec, cvec"
   ]
  },
  {
   "cell_type": "markdown",
   "id": "ee4c3065",
   "metadata": {
    "papermill": {
     "duration": 0.095631,
     "end_time": "2023-08-12T09:31:21.953179",
     "exception": false,
     "start_time": "2023-08-12T09:31:21.857548",
     "status": "completed"
    },
    "tags": []
   },
   "source": [
    "### Logistic Regression with TfidVectorizer for preprocessing  "
   ]
  },
  {
   "cell_type": "code",
   "execution_count": 22,
   "id": "cc5130b3",
   "metadata": {
    "execution": {
     "iopub.execute_input": "2023-08-12T09:31:22.148712Z",
     "iopub.status.busy": "2023-08-12T09:31:22.148319Z",
     "iopub.status.idle": "2023-08-12T09:31:22.153362Z",
     "shell.execute_reply": "2023-08-12T09:31:22.152258Z"
    },
    "papermill": {
     "duration": 0.104917,
     "end_time": "2023-08-12T09:31:22.155672",
     "exception": false,
     "start_time": "2023-08-12T09:31:22.050755",
     "status": "completed"
    },
    "tags": []
   },
   "outputs": [],
   "source": [
    "# logreg = LogisticRegression(max_iter=1000)\n",
    "# logreg_pipe = preprocess_n_train(X_train, y_train, tvec, logreg)\n",
    "# y_pred_logreg = predict_n_evaluate(logreg_pipe, X_test, y_test)\n",
    "# y_pred_logreg"
   ]
  },
  {
   "cell_type": "markdown",
   "id": "38e11e74",
   "metadata": {
    "papermill": {
     "duration": 0.163671,
     "end_time": "2023-08-12T09:31:22.415424",
     "exception": false,
     "start_time": "2023-08-12T09:31:22.251753",
     "status": "completed"
    },
    "tags": []
   },
   "source": [
    "### SVM model  "
   ]
  },
  {
   "cell_type": "code",
   "execution_count": 23,
   "id": "43468e42",
   "metadata": {
    "execution": {
     "iopub.execute_input": "2023-08-12T09:31:22.607613Z",
     "iopub.status.busy": "2023-08-12T09:31:22.606874Z",
     "iopub.status.idle": "2023-08-12T09:31:22.610936Z",
     "shell.execute_reply": "2023-08-12T09:31:22.610090Z"
    },
    "papermill": {
     "duration": 0.101322,
     "end_time": "2023-08-12T09:31:22.613229",
     "exception": false,
     "start_time": "2023-08-12T09:31:22.511907",
     "status": "completed"
    },
    "tags": []
   },
   "outputs": [],
   "source": [
    "# svm = LinearSVC()\n",
    "# svm_pipe = preprocess_n_train(X_train, y_train, tvec, svm)\n",
    "# y_pred_svm = predict_n_evaluate(svm_pipe, X_test, y_test)\n",
    "# y_pred_svm"
   ]
  },
  {
   "cell_type": "markdown",
   "id": "0fc1a3b1",
   "metadata": {
    "papermill": {
     "duration": 0.093681,
     "end_time": "2023-08-12T09:31:22.818254",
     "exception": false,
     "start_time": "2023-08-12T09:31:22.724573",
     "status": "completed"
    },
    "tags": []
   },
   "source": [
    "### Naive Bayes model  "
   ]
  },
  {
   "cell_type": "markdown",
   "id": "1fad3f54",
   "metadata": {
    "papermill": {
     "duration": 0.094223,
     "end_time": "2023-08-12T09:31:23.006063",
     "exception": false,
     "start_time": "2023-08-12T09:31:22.911840",
     "status": "completed"
    },
    "tags": []
   },
   "source": [
    "#### MultinomialNB  "
   ]
  },
  {
   "cell_type": "code",
   "execution_count": 24,
   "id": "286b1168",
   "metadata": {
    "execution": {
     "iopub.execute_input": "2023-08-12T09:31:23.197076Z",
     "iopub.status.busy": "2023-08-12T09:31:23.196638Z",
     "iopub.status.idle": "2023-08-12T09:31:23.200816Z",
     "shell.execute_reply": "2023-08-12T09:31:23.199966Z"
    },
    "papermill": {
     "duration": 0.102384,
     "end_time": "2023-08-12T09:31:23.202921",
     "exception": false,
     "start_time": "2023-08-12T09:31:23.100537",
     "status": "completed"
    },
    "tags": []
   },
   "outputs": [],
   "source": [
    "# mnb = MultinomialNB()\n",
    "# mnb_pipe = preprocess_n_train(X_train, y_train, tvec, mnb)\n",
    "# y_pred_mnb = predict_n_evaluate(mnb_pipe, X_test, y_test)\n",
    "# y_pred_mnb"
   ]
  },
  {
   "cell_type": "markdown",
   "id": "4facd389",
   "metadata": {
    "papermill": {
     "duration": 0.09358,
     "end_time": "2023-08-12T09:31:23.391042",
     "exception": false,
     "start_time": "2023-08-12T09:31:23.297462",
     "status": "completed"
    },
    "tags": []
   },
   "source": [
    "## Submitting predictions to Kaggle competition  "
   ]
  },
  {
   "cell_type": "code",
   "execution_count": 25,
   "id": "7da1aac3",
   "metadata": {
    "execution": {
     "iopub.execute_input": "2023-08-12T09:31:23.581395Z",
     "iopub.status.busy": "2023-08-12T09:31:23.580586Z",
     "iopub.status.idle": "2023-08-12T09:31:23.585680Z",
     "shell.execute_reply": "2023-08-12T09:31:23.584812Z"
    },
    "papermill": {
     "duration": 0.102411,
     "end_time": "2023-08-12T09:31:23.588111",
     "exception": false,
     "start_time": "2023-08-12T09:31:23.485700",
     "status": "completed"
    },
    "tags": []
   },
   "outputs": [],
   "source": [
    "# def submit(selected_model=logreg, selected_preprocessor=tvec):\n",
    "    \n",
    "#     # Retrain on the whole train.csv file  \n",
    "#     traindf = pd.read_csv(\"/kaggle/input/sentiment-prediction-on-movie-reviews/train.csv\")\n",
    "#     X_train = traindf[\"reviewText\"]\n",
    "#     X_train.fillna(\"empty\", inplace=True)\n",
    "#     y_train = traindf[\"sentiment\"]\n",
    "#     pipe = preprocess_n_train(X_train, y_train, selected_preprocessor, selected_model)\n",
    "    \n",
    "#     # Predict on test.csv file\n",
    "#     testdf = pd.read_csv(\"/kaggle/input/sentiment-prediction-on-movie-reviews/test.csv\")\n",
    "#     X_test = testdf[\"reviewText\"]\n",
    "#     X_test.fillna(\"empty\", inplace=True)\n",
    "    \n",
    "#     y_pred = pipe.predict(X_test)\n",
    "    \n",
    "#     pred_df = pd.DataFrame(y_pred)\n",
    "#     pred_df.columns = [\"sentiment\"]\n",
    "#     pred_df.index.name = \"id\"\n",
    "#     pred_df.to_csv(\"submission.csv\")\n",
    "    \n",
    "#     return \"Successfully created the submission file!!!\""
   ]
  },
  {
   "cell_type": "code",
   "execution_count": 26,
   "id": "f9458450",
   "metadata": {
    "execution": {
     "iopub.execute_input": "2023-08-12T09:31:23.780546Z",
     "iopub.status.busy": "2023-08-12T09:31:23.779736Z",
     "iopub.status.idle": "2023-08-12T09:31:23.784194Z",
     "shell.execute_reply": "2023-08-12T09:31:23.783274Z"
    },
    "papermill": {
     "duration": 0.101911,
     "end_time": "2023-08-12T09:31:23.786637",
     "exception": false,
     "start_time": "2023-08-12T09:31:23.684726",
     "status": "completed"
    },
    "tags": []
   },
   "outputs": [],
   "source": [
    "# submit(logreg_cv1, tvec_cv1)"
   ]
  },
  {
   "cell_type": "markdown",
   "id": "d6d58142",
   "metadata": {
    "papermill": {
     "duration": 0.094786,
     "end_time": "2023-08-12T09:31:23.977806",
     "exception": false,
     "start_time": "2023-08-12T09:31:23.883020",
     "status": "completed"
    },
    "tags": []
   },
   "source": [
    "# PART II  "
   ]
  },
  {
   "cell_type": "markdown",
   "id": "390909d4",
   "metadata": {
    "papermill": {
     "duration": 0.09815,
     "end_time": "2023-08-12T09:31:24.172977",
     "exception": false,
     "start_time": "2023-08-12T09:31:24.074827",
     "status": "completed"
    },
    "tags": []
   },
   "source": [
    "## Merge \"movies.csv\" with \"train.csv\" and \"test.csv\"  "
   ]
  },
  {
   "cell_type": "markdown",
   "id": "8b1d1f87",
   "metadata": {
    "papermill": {
     "duration": 0.094336,
     "end_time": "2023-08-12T09:31:24.361183",
     "exception": false,
     "start_time": "2023-08-12T09:31:24.266847",
     "status": "completed"
    },
    "tags": []
   },
   "source": [
    "### Helper functions  "
   ]
  },
  {
   "cell_type": "code",
   "execution_count": 27,
   "id": "9698e187",
   "metadata": {
    "execution": {
     "iopub.execute_input": "2023-08-12T09:31:24.553570Z",
     "iopub.status.busy": "2023-08-12T09:31:24.552853Z",
     "iopub.status.idle": "2023-08-12T09:31:24.559097Z",
     "shell.execute_reply": "2023-08-12T09:31:24.557978Z"
    },
    "papermill": {
     "duration": 0.105792,
     "end_time": "2023-08-12T09:31:24.561767",
     "exception": false,
     "start_time": "2023-08-12T09:31:24.455975",
     "status": "completed"
    },
    "tags": []
   },
   "outputs": [],
   "source": [
    "# Helper function for loading files  \n",
    "\n",
    "def load_csv(filename: str):\n",
    "    if platform == \"vscode\":\n",
    "        df = pd.read_csv(f\"data/{filename}.csv\")\n",
    "    else:\n",
    "        df = pd.read_csv(f\"/kaggle/input/sentiment-prediction-on-movie-reviews/{filename}.csv\")\n",
    "        \n",
    "    return df"
   ]
  },
  {
   "cell_type": "code",
   "execution_count": 28,
   "id": "b9cc3341",
   "metadata": {
    "execution": {
     "iopub.execute_input": "2023-08-12T09:31:24.752582Z",
     "iopub.status.busy": "2023-08-12T09:31:24.751870Z",
     "iopub.status.idle": "2023-08-12T09:31:24.758025Z",
     "shell.execute_reply": "2023-08-12T09:31:24.757229Z"
    },
    "papermill": {
     "duration": 0.104366,
     "end_time": "2023-08-12T09:31:24.760411",
     "exception": false,
     "start_time": "2023-08-12T09:31:24.656045",
     "status": "completed"
    },
    "tags": []
   },
   "outputs": [],
   "source": [
    "def inspect(df: pd.DataFrame):\n",
    "    print(f\"Shape of the dataframe: {df.shape}\")\n",
    "    print()\n",
    "    print(f\"Columns in the dataframe:\\n{df.columns}\")\n",
    "    print()\n",
    "    print(f\"{df.info()}\")\n",
    "    print()\n",
    "    # print(f\"Summary: {df.describe()}\")\n",
    "    print(f\"Missing values:\\n{df.isna().sum()}\")\n",
    "    return"
   ]
  },
  {
   "cell_type": "code",
   "execution_count": 29,
   "id": "5b927f01",
   "metadata": {
    "execution": {
     "iopub.execute_input": "2023-08-12T09:31:24.951836Z",
     "iopub.status.busy": "2023-08-12T09:31:24.950984Z",
     "iopub.status.idle": "2023-08-12T09:31:24.956656Z",
     "shell.execute_reply": "2023-08-12T09:31:24.955836Z"
    },
    "papermill": {
     "duration": 0.10425,
     "end_time": "2023-08-12T09:31:24.959122",
     "exception": false,
     "start_time": "2023-08-12T09:31:24.854872",
     "status": "completed"
    },
    "tags": []
   },
   "outputs": [],
   "source": [
    "def name_fl(name):\n",
    "    l = name.split()\n",
    "    n = ' '.join((l[0], l[-1]))\n",
    "    return n"
   ]
  },
  {
   "cell_type": "code",
   "execution_count": 30,
   "id": "ae5d9fd0",
   "metadata": {
    "execution": {
     "iopub.execute_input": "2023-08-12T09:31:25.152447Z",
     "iopub.status.busy": "2023-08-12T09:31:25.151645Z",
     "iopub.status.idle": "2023-08-12T09:31:25.179862Z",
     "shell.execute_reply": "2023-08-12T09:31:25.178900Z"
    },
    "papermill": {
     "duration": 0.126718,
     "end_time": "2023-08-12T09:31:25.182661",
     "exception": false,
     "start_time": "2023-08-12T09:31:25.055943",
     "status": "completed"
    },
    "tags": []
   },
   "outputs": [],
   "source": [
    "def select_features(df: pd.DataFrame, moviesdf: pd.DataFrame, row_thresh_null=None):\n",
    "    '''\n",
    "    This function merges the given dataframes. Note that the first df must be \"train\" or \"test\" and\n",
    "    the second df should be \"movies\".\n",
    "    Note: Sentiment column is present only in \"train.csv\" file and not \"test.csv\" file.\n",
    "    '''\n",
    "    \n",
    "    # Drop duplicates from moviesdf\n",
    "#     movies_unique = moviesdf.drop_duplicates(subset=[\"movieid\"])\n",
    "\n",
    "    # Drop duplicates using groupby - clubs similar rows and fills in missing values better\n",
    "    movies_unique = moviesdf.fillna(value=np.nan).groupby(\"movieid\").first().reset_index()\n",
    "    \n",
    "\n",
    "    # Handle missing values in movies.csv better than just dropping duplicates?\n",
    "#     movies_unique = moviesdf.copy()\n",
    "#     movies_unique[[\"audienceScore\", \"runtimeMinutes\"]] = movies_unique[[\"audienceScore\", \"runtimeMinutes\"]].interpolate(method='linear', axis=0)\n",
    "#     movies_unique = movies_unique.fillna(value=np.nan).groupby(\"movieid\").first().fillna(method='ffill').reset_index()\n",
    "\n",
    "    \n",
    "\n",
    "    # Merge df and movies_unique\n",
    "    df_merged = pd.merge(df, movies_unique, on=\"movieid\", how='left')\n",
    "    \n",
    "    # Rename \"isTopCritic\" column, if it exists, to \"isFrequentReviewer\"\n",
    "    df_merged.rename(columns={\"isTopCritic\": \"isFrequentReviewer\"}, inplace=True)\n",
    "    \n",
    "    # Drop columns\n",
    "#     df_merged = df_merged.drop(columns=[\"title\", \"ratingContents\", \"releaseDateTheaters\", \"releaseDateStreaming\", \"distributor\", \"soundType\"])\n",
    "#     df_merged = df_merged.drop(columns=[\"title\", \"soundType\"])\n",
    "    \n",
    "    # Drop rows (OPTIONAL: Uses kwarg row_thresh_null)\n",
    "    if row_thresh_null != None:\n",
    "        df_merged.dropna(axis=0, thresh=(df_merged.shape[1] - row_thresh_null), inplace=True)\n",
    "        \n",
    "\n",
    "    # Create new columns based on reviewText\n",
    "    final = df_merged.copy()\n",
    "    final[\"reviewYN\"] = np.where(final[\"reviewText\"].isnull(), 1, 0)    # Feature engineering - adding a new column\n",
    "    final[\"reviewWC\"] = final.apply(lambda x: len(str(x[\"reviewText\"]).split()), axis=1)    # Feature engineering - adding second new column\n",
    "    \n",
    "    # Clean text (replace numbers with empty string) and fill missing values in \"reviewText\" with empty string\n",
    "    final[\"reviewText\"] = final[\"reviewText\"].str.replace('\\d+', '', regex=True)\n",
    "    final[\"reviewText\"] = final[\"reviewText\"].fillna(\"neutral\")\n",
    "    \n",
    "    # Fill missing values in \"rating\", \"genre\", original columns with the word \"unknown\"\n",
    "    final[\"rating\"] = final[\"rating\"].fillna(\"unknown\")\n",
    "    final[\"originalLanguage\"] = final[\"originalLanguage\"].fillna(\"unknown\")\n",
    "    final[\"genre\"] = final[\"genre\"].fillna(\"unknown\")\n",
    "    final[\"genre\"] = final[\"genre\"].apply(lambda x: re.sub(r\"-\", \"\", x))\n",
    "    final[\"genreSorted\"] = final[\"genre\"].apply(lambda x: (\",\").join(sorted(x.split(\", \"))))\n",
    "#     final[\"genre\"] = final[\"genre\"].replace(to_replace={\"&\": \"\"})\n",
    "\n",
    "    # Impute missing values for \"audienceScore\" and \"runtimeMinutes\" columns\n",
    "#     final[\"audienceScore\"] = final[\"audienceScore\"].fillna(final[\"audienceScore\"].mean())        # MOVED\n",
    "#     final[\"runtimeMinutes\"] = final[\"runtimeMinutes\"].fillna(final[\"runtimeMinutes\"].median())   # MOVED\n",
    "    \n",
    "    # Preprocess and impute missing values in \"boxOffice\" column\n",
    "    final[\"boxOffice\"] = final[\"boxOffice\"].str[1:]\n",
    "    final[\"boxOffice\"] = final[\"boxOffice\"].replace(to_replace={\"M\": \"*1000000\", \"K\": \"*1000\"}, regex=True)\n",
    "    final[\"boxOffice\"] = final[\"boxOffice\"].loc[final[\"boxOffice\"].notnull()].apply(lambda x: eval(str(x)))\n",
    "#     final[\"boxOffice\"] = final[\"boxOffice\"].fillna(final[\"boxOffice\"].median())                  # MOVED\n",
    "    # (Optional) Replace outliers in boxOffice with median\n",
    "#     median = final[\"boxOffice\"].describe()['50%']\n",
    "#     iqr = final[\"boxOffice\"].describe()['75%'] - final[\"boxOffice\"].describe()['25%']\n",
    "#     ll = median - (1.5*iqr)\n",
    "#     ul = median + (1.5*iqr)\n",
    "#     final.loc[final[\"boxOffice\"] > ul, \"boxOffice\"] = median\n",
    "    \n",
    "    # Clean language names\n",
    "    final[\"originalLanguage\"].replace({\"English (United Kingdom)\": \"English\", \n",
    "                                            \"English (Australia)\" : \"English\",\n",
    "                                            \"French (France)\": \"French\", \n",
    "                                            \"French (Canada)\": \"French\",\n",
    "                                            \"Portuguese (Brazil)\": \"Portuguese\",\n",
    "                                            \"Spanish (Spain)\": \"Spanish\"},                                         \n",
    "                                            inplace=True)\n",
    "    \n",
    "    # Clean reviewerName column\n",
    "    pre_post_fixes = {\"Mr. \": \"\", \"Mrs. \": \"\", \"Ms. \": \"\", \"Dr. \": \"\", \n",
    "                      \" MD\": \"\", \" DDS\": \"\", \" DVM\": \"\", \" Jr.\": \"\", \" PhD\": \"\", \" II\": \"\", \" IV\": \"\"}\n",
    "    final[\"reviewerName\"] = final[\"reviewerName\"].replace(pre_post_fixes, regex=True)\n",
    "    final[\"reviewerName\"] = final[\"reviewerName\"].apply(name_fl)\n",
    "    \n",
    "    # Handle 'ratingContents' column\n",
    "    final[\"ratingContents\"] = final[\"ratingContents\"].fillna(\"neutral\")\n",
    "    final[\"rcSorted\"] = final[\"ratingContents\"].apply(lambda x: (\",\").join(sorted(x.strip(\"][\").split(\", \"))))\n",
    "    final[\"rcSorted\"] = final[\"rcSorted\"].apply(lambda x: re.sub(r\"'\", \"\", x))\n",
    "    final[\"rcSorted\"] = final[\"rcSorted\"].apply(lambda x: re.sub(r\"[/\\s]\", \"_\", x))  \n",
    "    \n",
    "    # Handle 'ratingContents' column\n",
    "    final[\"distributor\"] = final[\"distributor\"].fillna(\"unknown\")\n",
    "    \n",
    "    # Work with 'releaseDateTheaters', releaseDateStreaming column\n",
    "    final[[\"releaseDateTheaters\", \"releaseDateStreaming\"]] = final[[\"releaseDateTheaters\", \"releaseDateStreaming\"]].astype('datetime64[ns]')\n",
    "\n",
    "    final[\"releaseDate\"] = final[[\"releaseDateTheaters\", \"releaseDateStreaming\"]].min(axis=1, skipna=False)\n",
    "#     final[\"releaseDate\"] = final[\"releaseDate\"].fillna(final[\"releaseDate\"].median())               # MOVED\n",
    "\n",
    "    final[\"releaseYear\"] = final[\"releaseDate\"].dt.year\n",
    "    final[\"releaseMonth\"] = final[\"releaseDate\"].dt.month\n",
    "    \n",
    "    # Compute \"releaseDiff\" column and fill missing values in \"releaseDiff\" and (optional) replace outliers\n",
    "    final[\"releaseDiff\"] = (final[\"releaseDateStreaming\"] - final[\"releaseDateTheaters\"]) / np.timedelta64(1, 'D')\n",
    "    final[\"releaseDiff\"] = final[\"releaseDiff\"].apply(lambda x: abs(x))\n",
    "    final[\"releaseDiff\"] = final[\"releaseDiff\"].fillna(value=0)\n",
    "#     final[\"releaseDiff\"] = final[\"releaseDiff\"].fillna(final[\"releaseDiff\"].median())\n",
    "    # median = final[\"releaseDiff\"].describe()['50%']\n",
    "    # iqr = final[\"releaseDiff\"].describe()['75%'] - final[\"releaseDiff\"].describe()['25%']\n",
    "    # ll = median - (1.5*iqr)\n",
    "    # ul = median + (1.5*iqr)\n",
    "    # final.loc[final[\"releaseDiff\"] > ul, \"releaseDiff\"] = median\n",
    "    # final.loc[final[\"releaseDiff\"] < ll, \"releaseDiff\"] = median\n",
    "    \n",
    "#     # Create new feature columns\n",
    "    \n",
    "#     # Convert audienceScore to categories  \n",
    "#     num_bins_as = 20\n",
    "#     final[\"audScoreBins\"] = pd.cut(final['audienceScore'], bins=num_bins_as, labels=False)\n",
    "    \n",
    "#     # Convert runtimeMinutes to categories  \n",
    "# #     num_bins_rt = 20\n",
    "#     final[\"runtimeBins\"] = pd.cut(final['runtimeMinutes'], bins=[0,75,120,180,565], labels=[4,3,2,1])\n",
    "    \n",
    "#     # Convert boxOffice to categories  \n",
    "#     num_bins_bo = 5\n",
    "#     final[\"boxOfficeBins\"] = pd.cut(final['boxOffice'], bins=num_bins_bo, labels=False)\n",
    "    \n",
    "#     # Convert releaseDiff to categories  \n",
    "#     num_bins_rd = 5\n",
    "#     final[\"releaseDiffBins\"] = pd.cut(final['releaseDiff'], bins=[-1, 180, 360, 1000, 40000], labels=[0, 1, 2, 3])\n",
    "\n",
    "    return final"
   ]
  },
  {
   "cell_type": "code",
   "execution_count": 31,
   "id": "6facbee5",
   "metadata": {
    "execution": {
     "iopub.execute_input": "2023-08-12T09:31:25.376875Z",
     "iopub.status.busy": "2023-08-12T09:31:25.376034Z",
     "iopub.status.idle": "2023-08-12T09:31:25.384474Z",
     "shell.execute_reply": "2023-08-12T09:31:25.383274Z"
    },
    "papermill": {
     "duration": 0.107649,
     "end_time": "2023-08-12T09:31:25.387293",
     "exception": false,
     "start_time": "2023-08-12T09:31:25.279644",
     "status": "completed"
    },
    "tags": []
   },
   "outputs": [],
   "source": [
    "def split_train_predict(features, labels, pipeline, test_size=0.25, random_state=42):\n",
    "    # cols = features.columns\n",
    "    if len(features.shape) == 1:\n",
    "        features = features.to_numpy().reshape(-1, 1)  # reshape to 2D array\n",
    "    features = pd.DataFrame(features)\n",
    "    X_train, X_test, y_train, y_test = train_test_split(features, labels, test_size=test_size, random_state=random_state)\n",
    "    pipeline.fit(X_train, y_train)\n",
    "    y_pred = pipeline.predict(X_test)\n",
    "    print(classification_report(y_test, y_pred))\n",
    "    print(confusion_matrix(y_test, y_pred))\n",
    "    return pipeline"
   ]
  },
  {
   "cell_type": "markdown",
   "id": "81a1ebb8",
   "metadata": {
    "papermill": {
     "duration": 0.095487,
     "end_time": "2023-08-12T09:31:25.577129",
     "exception": false,
     "start_time": "2023-08-12T09:31:25.481642",
     "status": "completed"
    },
    "tags": []
   },
   "source": [
    "### Merge \"train.csv\" file with \"movies.csv\" file  "
   ]
  },
  {
   "cell_type": "code",
   "execution_count": 32,
   "id": "8e37f06b",
   "metadata": {
    "execution": {
     "iopub.execute_input": "2023-08-12T09:31:25.768212Z",
     "iopub.status.busy": "2023-08-12T09:31:25.767804Z",
     "iopub.status.idle": "2023-08-12T09:31:40.630067Z",
     "shell.execute_reply": "2023-08-12T09:31:40.628641Z"
    },
    "papermill": {
     "duration": 14.961017,
     "end_time": "2023-08-12T09:31:40.632966",
     "exception": false,
     "start_time": "2023-08-12T09:31:25.671949",
     "status": "completed"
    },
    "tags": []
   },
   "outputs": [],
   "source": [
    "merged = select_features(load_csv(\"train\"), load_csv(\"movies\"), row_thresh_null=None)"
   ]
  },
  {
   "cell_type": "code",
   "execution_count": 33,
   "id": "b5c77ccb",
   "metadata": {
    "execution": {
     "iopub.execute_input": "2023-08-12T09:31:40.826677Z",
     "iopub.status.busy": "2023-08-12T09:31:40.826234Z",
     "iopub.status.idle": "2023-08-12T09:31:40.831397Z",
     "shell.execute_reply": "2023-08-12T09:31:40.830092Z"
    },
    "papermill": {
     "duration": 0.103805,
     "end_time": "2023-08-12T09:31:40.833818",
     "exception": false,
     "start_time": "2023-08-12T09:31:40.730013",
     "status": "completed"
    },
    "tags": []
   },
   "outputs": [],
   "source": [
    "# inspect(merged)    # Note missing values in ['audienceScore', 'runtimeMinutes', 'boxOffice'] columns  "
   ]
  },
  {
   "cell_type": "code",
   "execution_count": 34,
   "id": "41e1c361",
   "metadata": {
    "execution": {
     "iopub.execute_input": "2023-08-12T09:31:41.026882Z",
     "iopub.status.busy": "2023-08-12T09:31:41.026449Z",
     "iopub.status.idle": "2023-08-12T09:31:41.123093Z",
     "shell.execute_reply": "2023-08-12T09:31:41.121958Z"
    },
    "papermill": {
     "duration": 0.196258,
     "end_time": "2023-08-12T09:31:41.125752",
     "exception": false,
     "start_time": "2023-08-12T09:31:40.929494",
     "status": "completed"
    },
    "tags": []
   },
   "outputs": [
    {
     "data": {
      "text/plain": [
       "array([6.80e+01, 1.04e+02, 1.43e+07])"
      ]
     },
     "execution_count": 34,
     "metadata": {},
     "output_type": "execute_result"
    }
   ],
   "source": [
    "# Simple Imputer for ['audienceScore', 'runtimeMinutes', 'boxOffice'] columns\n",
    "si = SimpleImputer(strategy='median')\n",
    "merged[['audienceScore', 'runtimeMinutes', 'boxOffice']] = si.fit_transform(merged[['audienceScore', 'runtimeMinutes', 'boxOffice']])\n",
    "si.statistics_"
   ]
  },
  {
   "cell_type": "code",
   "execution_count": 35,
   "id": "d384032b",
   "metadata": {
    "execution": {
     "iopub.execute_input": "2023-08-12T09:31:41.318563Z",
     "iopub.status.busy": "2023-08-12T09:31:41.318091Z",
     "iopub.status.idle": "2023-08-12T09:31:41.332994Z",
     "shell.execute_reply": "2023-08-12T09:31:41.331779Z"
    },
    "papermill": {
     "duration": 0.115792,
     "end_time": "2023-08-12T09:31:41.335726",
     "exception": false,
     "start_time": "2023-08-12T09:31:41.219934",
     "status": "completed"
    },
    "tags": []
   },
   "outputs": [],
   "source": [
    "# Fill 'releaseDate' column with median  \n",
    "merged['releaseDate'] = merged[\"releaseDate\"].fillna(merged[\"releaseDate\"].median())"
   ]
  },
  {
   "cell_type": "code",
   "execution_count": 36,
   "id": "0820267e",
   "metadata": {
    "execution": {
     "iopub.execute_input": "2023-08-12T09:31:41.529193Z",
     "iopub.status.busy": "2023-08-12T09:31:41.528740Z",
     "iopub.status.idle": "2023-08-12T09:31:43.012623Z",
     "shell.execute_reply": "2023-08-12T09:31:43.010132Z"
    },
    "papermill": {
     "duration": 1.585752,
     "end_time": "2023-08-12T09:31:43.015470",
     "exception": false,
     "start_time": "2023-08-12T09:31:41.429718",
     "status": "completed"
    },
    "tags": []
   },
   "outputs": [
    {
     "name": "stdout",
     "output_type": "stream",
     "text": [
      "Shape of the dataframe: (162758, 26)\n",
      "\n",
      "Columns in the dataframe:\n",
      "Index(['movieid', 'reviewerName', 'isFrequentReviewer', 'reviewText',\n",
      "       'sentiment', 'title', 'audienceScore', 'rating', 'ratingContents',\n",
      "       'releaseDateTheaters', 'releaseDateStreaming', 'runtimeMinutes',\n",
      "       'genre', 'originalLanguage', 'director', 'boxOffice', 'distributor',\n",
      "       'soundType', 'reviewYN', 'reviewWC', 'genreSorted', 'rcSorted',\n",
      "       'releaseDate', 'releaseYear', 'releaseMonth', 'releaseDiff'],\n",
      "      dtype='object')\n",
      "\n",
      "<class 'pandas.core.frame.DataFrame'>\n",
      "Int64Index: 162758 entries, 0 to 162757\n",
      "Data columns (total 26 columns):\n",
      " #   Column                Non-Null Count   Dtype         \n",
      "---  ------                --------------   -----         \n",
      " 0   movieid               162758 non-null  object        \n",
      " 1   reviewerName          162758 non-null  object        \n",
      " 2   isFrequentReviewer    162758 non-null  bool          \n",
      " 3   reviewText            162758 non-null  object        \n",
      " 4   sentiment             162758 non-null  object        \n",
      " 5   title                 162758 non-null  object        \n",
      " 6   audienceScore         162758 non-null  float64       \n",
      " 7   rating                162758 non-null  object        \n",
      " 8   ratingContents        162758 non-null  object        \n",
      " 9   releaseDateTheaters   146403 non-null  datetime64[ns]\n",
      " 10  releaseDateStreaming  157353 non-null  datetime64[ns]\n",
      " 11  runtimeMinutes        162758 non-null  float64       \n",
      " 12  genre                 162758 non-null  object        \n",
      " 13  originalLanguage      162758 non-null  object        \n",
      " 14  director              162758 non-null  object        \n",
      " 15  boxOffice             162758 non-null  float64       \n",
      " 16  distributor           162758 non-null  object        \n",
      " 17  soundType             93466 non-null   object        \n",
      " 18  reviewYN              162758 non-null  int64         \n",
      " 19  reviewWC              162758 non-null  int64         \n",
      " 20  genreSorted           162758 non-null  object        \n",
      " 21  rcSorted              162758 non-null  object        \n",
      " 22  releaseDate           162758 non-null  datetime64[ns]\n",
      " 23  releaseYear           143073 non-null  float64       \n",
      " 24  releaseMonth          143073 non-null  float64       \n",
      " 25  releaseDiff           162758 non-null  float64       \n",
      "dtypes: bool(1), datetime64[ns](3), float64(6), int64(2), object(14)\n",
      "memory usage: 32.4+ MB\n",
      "None\n",
      "\n",
      "Missing values:\n",
      "movieid                     0\n",
      "reviewerName                0\n",
      "isFrequentReviewer          0\n",
      "reviewText                  0\n",
      "sentiment                   0\n",
      "title                       0\n",
      "audienceScore               0\n",
      "rating                      0\n",
      "ratingContents              0\n",
      "releaseDateTheaters     16355\n",
      "releaseDateStreaming     5405\n",
      "runtimeMinutes              0\n",
      "genre                       0\n",
      "originalLanguage            0\n",
      "director                    0\n",
      "boxOffice                   0\n",
      "distributor                 0\n",
      "soundType               69292\n",
      "reviewYN                    0\n",
      "reviewWC                    0\n",
      "genreSorted                 0\n",
      "rcSorted                    0\n",
      "releaseDate                 0\n",
      "releaseYear             19685\n",
      "releaseMonth            19685\n",
      "releaseDiff                 0\n",
      "dtype: int64\n"
     ]
    }
   ],
   "source": [
    "# Check out 'merged' df after imputation  \n",
    "inspect(merged)"
   ]
  },
  {
   "cell_type": "code",
   "execution_count": 37,
   "id": "9fc3e0d5",
   "metadata": {
    "execution": {
     "iopub.execute_input": "2023-08-12T09:31:43.212136Z",
     "iopub.status.busy": "2023-08-12T09:31:43.211141Z",
     "iopub.status.idle": "2023-08-12T09:31:43.271230Z",
     "shell.execute_reply": "2023-08-12T09:31:43.270042Z"
    },
    "papermill": {
     "duration": 0.161008,
     "end_time": "2023-08-12T09:31:43.273763",
     "exception": false,
     "start_time": "2023-08-12T09:31:43.112755",
     "status": "completed"
    },
    "tags": []
   },
   "outputs": [
    {
     "data": {
      "text/html": [
       "<div>\n",
       "<style scoped>\n",
       "    .dataframe tbody tr th:only-of-type {\n",
       "        vertical-align: middle;\n",
       "    }\n",
       "\n",
       "    .dataframe tbody tr th {\n",
       "        vertical-align: top;\n",
       "    }\n",
       "\n",
       "    .dataframe thead th {\n",
       "        text-align: right;\n",
       "    }\n",
       "</style>\n",
       "<table border=\"1\" class=\"dataframe\">\n",
       "  <thead>\n",
       "    <tr style=\"text-align: right;\">\n",
       "      <th></th>\n",
       "      <th>audienceScore</th>\n",
       "      <th>runtimeMinutes</th>\n",
       "      <th>boxOffice</th>\n",
       "    </tr>\n",
       "  </thead>\n",
       "  <tbody>\n",
       "    <tr>\n",
       "      <th>count</th>\n",
       "      <td>162758.000000</td>\n",
       "      <td>162758.000000</td>\n",
       "      <td>1.627580e+05</td>\n",
       "    </tr>\n",
       "    <tr>\n",
       "      <th>mean</th>\n",
       "      <td>65.062565</td>\n",
       "      <td>106.992019</td>\n",
       "      <td>4.160983e+07</td>\n",
       "    </tr>\n",
       "    <tr>\n",
       "      <th>std</th>\n",
       "      <td>19.844000</td>\n",
       "      <td>22.203778</td>\n",
       "      <td>7.932291e+07</td>\n",
       "    </tr>\n",
       "    <tr>\n",
       "      <th>min</th>\n",
       "      <td>0.000000</td>\n",
       "      <td>4.000000</td>\n",
       "      <td>0.000000e+00</td>\n",
       "    </tr>\n",
       "    <tr>\n",
       "      <th>25%</th>\n",
       "      <td>51.000000</td>\n",
       "      <td>93.000000</td>\n",
       "      <td>2.000000e+06</td>\n",
       "    </tr>\n",
       "    <tr>\n",
       "      <th>50%</th>\n",
       "      <td>68.000000</td>\n",
       "      <td>104.000000</td>\n",
       "      <td>1.430000e+07</td>\n",
       "    </tr>\n",
       "    <tr>\n",
       "      <th>75%</th>\n",
       "      <td>81.000000</td>\n",
       "      <td>118.000000</td>\n",
       "      <td>4.200000e+07</td>\n",
       "    </tr>\n",
       "    <tr>\n",
       "      <th>max</th>\n",
       "      <td>100.000000</td>\n",
       "      <td>561.000000</td>\n",
       "      <td>8.584000e+08</td>\n",
       "    </tr>\n",
       "  </tbody>\n",
       "</table>\n",
       "</div>"
      ],
      "text/plain": [
       "       audienceScore  runtimeMinutes     boxOffice\n",
       "count  162758.000000   162758.000000  1.627580e+05\n",
       "mean       65.062565      106.992019  4.160983e+07\n",
       "std        19.844000       22.203778  7.932291e+07\n",
       "min         0.000000        4.000000  0.000000e+00\n",
       "25%        51.000000       93.000000  2.000000e+06\n",
       "50%        68.000000      104.000000  1.430000e+07\n",
       "75%        81.000000      118.000000  4.200000e+07\n",
       "max       100.000000      561.000000  8.584000e+08"
      ]
     },
     "execution_count": 37,
     "metadata": {},
     "output_type": "execute_result"
    }
   ],
   "source": [
    "merged[['audienceScore', 'runtimeMinutes', 'boxOffice']].describe()"
   ]
  },
  {
   "cell_type": "markdown",
   "id": "40a8b761",
   "metadata": {
    "papermill": {
     "duration": 0.095381,
     "end_time": "2023-08-12T09:31:43.464155",
     "exception": false,
     "start_time": "2023-08-12T09:31:43.368774",
     "status": "completed"
    },
    "tags": []
   },
   "source": [
    "### EDA releaseDiff  "
   ]
  },
  {
   "cell_type": "code",
   "execution_count": 38,
   "id": "0136cef4",
   "metadata": {
    "execution": {
     "iopub.execute_input": "2023-08-12T09:31:43.662507Z",
     "iopub.status.busy": "2023-08-12T09:31:43.662057Z",
     "iopub.status.idle": "2023-08-12T09:31:43.681129Z",
     "shell.execute_reply": "2023-08-12T09:31:43.679868Z"
    },
    "papermill": {
     "duration": 0.121202,
     "end_time": "2023-08-12T09:31:43.683620",
     "exception": false,
     "start_time": "2023-08-12T09:31:43.562418",
     "status": "completed"
    },
    "tags": []
   },
   "outputs": [
    {
     "data": {
      "text/plain": [
       "count    162758.000000\n",
       "mean       1653.469015\n",
       "std        4581.420922\n",
       "min           0.000000\n",
       "25%          65.000000\n",
       "50%         116.000000\n",
       "75%         375.000000\n",
       "max       38922.000000\n",
       "Name: releaseDiff, dtype: float64"
      ]
     },
     "execution_count": 38,
     "metadata": {},
     "output_type": "execute_result"
    }
   ],
   "source": [
    "# abs values\n",
    "merged[\"releaseDiff\"].describe()"
   ]
  },
  {
   "cell_type": "code",
   "execution_count": 39,
   "id": "04a7f3a3",
   "metadata": {
    "execution": {
     "iopub.execute_input": "2023-08-12T09:31:43.876642Z",
     "iopub.status.busy": "2023-08-12T09:31:43.876180Z",
     "iopub.status.idle": "2023-08-12T09:31:43.882055Z",
     "shell.execute_reply": "2023-08-12T09:31:43.880803Z"
    },
    "papermill": {
     "duration": 0.105018,
     "end_time": "2023-08-12T09:31:43.884742",
     "exception": false,
     "start_time": "2023-08-12T09:31:43.779724",
     "status": "completed"
    },
    "tags": []
   },
   "outputs": [],
   "source": [
    "# merged['releaseDiffBins'].value_counts()"
   ]
  },
  {
   "cell_type": "code",
   "execution_count": 40,
   "id": "354a1697",
   "metadata": {
    "execution": {
     "iopub.execute_input": "2023-08-12T09:31:44.079047Z",
     "iopub.status.busy": "2023-08-12T09:31:44.078623Z",
     "iopub.status.idle": "2023-08-12T09:31:44.466278Z",
     "shell.execute_reply": "2023-08-12T09:31:44.465127Z"
    },
    "papermill": {
     "duration": 0.48824,
     "end_time": "2023-08-12T09:31:44.468950",
     "exception": false,
     "start_time": "2023-08-12T09:31:43.980710",
     "status": "completed"
    },
    "tags": []
   },
   "outputs": [
    {
     "data": {
      "text/plain": [
       "<Axes: xlabel='sentiment', ylabel='releaseDiff'>"
      ]
     },
     "execution_count": 40,
     "metadata": {},
     "output_type": "execute_result"
    },
    {
     "data": {
      "image/png": "[encoded data removed]",
      "text/plain": [
       "<Figure size 640x480 with 1 Axes>"
      ]
     },
     "metadata": {},
     "output_type": "display_data"
    }
   ],
   "source": [
    "sns.boxplot(x=merged['sentiment'], y=merged['releaseDiff'], showfliers=False)"
   ]
  },
  {
   "cell_type": "code",
   "execution_count": 41,
   "id": "818e8b64",
   "metadata": {
    "execution": {
     "iopub.execute_input": "2023-08-12T09:31:44.664797Z",
     "iopub.status.busy": "2023-08-12T09:31:44.664366Z",
     "iopub.status.idle": "2023-08-12T09:31:44.669280Z",
     "shell.execute_reply": "2023-08-12T09:31:44.668115Z"
    },
    "papermill": {
     "duration": 0.106389,
     "end_time": "2023-08-12T09:31:44.671528",
     "exception": false,
     "start_time": "2023-08-12T09:31:44.565139",
     "status": "completed"
    },
    "tags": []
   },
   "outputs": [],
   "source": [
    "# sns.displot(merged['releaseDiffBins'])"
   ]
  },
  {
   "cell_type": "code",
   "execution_count": 42,
   "id": "340c4808",
   "metadata": {
    "execution": {
     "iopub.execute_input": "2023-08-12T09:31:44.867292Z",
     "iopub.status.busy": "2023-08-12T09:31:44.866123Z",
     "iopub.status.idle": "2023-08-12T09:31:44.871914Z",
     "shell.execute_reply": "2023-08-12T09:31:44.870663Z"
    },
    "papermill": {
     "duration": 0.107315,
     "end_time": "2023-08-12T09:31:44.874677",
     "exception": false,
     "start_time": "2023-08-12T09:31:44.767362",
     "status": "completed"
    },
    "tags": []
   },
   "outputs": [],
   "source": [
    "# merged['sentiment'].loc[merged['releaseDiffBins'] > 0].value_counts()"
   ]
  },
  {
   "cell_type": "code",
   "execution_count": 43,
   "id": "c9d85dde",
   "metadata": {
    "execution": {
     "iopub.execute_input": "2023-08-12T09:31:45.067707Z",
     "iopub.status.busy": "2023-08-12T09:31:45.067313Z",
     "iopub.status.idle": "2023-08-12T09:31:45.072011Z",
     "shell.execute_reply": "2023-08-12T09:31:45.070749Z"
    },
    "papermill": {
     "duration": 0.104799,
     "end_time": "2023-08-12T09:31:45.074444",
     "exception": false,
     "start_time": "2023-08-12T09:31:44.969645",
     "status": "completed"
    },
    "tags": []
   },
   "outputs": [],
   "source": [
    "# merged['releaseDiffBins'].describe()"
   ]
  },
  {
   "cell_type": "markdown",
   "id": "513d5e1b",
   "metadata": {
    "papermill": {
     "duration": 0.094627,
     "end_time": "2023-08-12T09:31:45.264115",
     "exception": false,
     "start_time": "2023-08-12T09:31:45.169488",
     "status": "completed"
    },
    "tags": []
   },
   "source": [
    "### EDA 'distributor'  "
   ]
  },
  {
   "cell_type": "code",
   "execution_count": 44,
   "id": "66c89910",
   "metadata": {
    "execution": {
     "iopub.execute_input": "2023-08-12T09:31:45.524954Z",
     "iopub.status.busy": "2023-08-12T09:31:45.524272Z",
     "iopub.status.idle": "2023-08-12T09:31:45.560497Z",
     "shell.execute_reply": "2023-08-12T09:31:45.559587Z"
    },
    "papermill": {
     "duration": 0.135056,
     "end_time": "2023-08-12T09:31:45.562754",
     "exception": false,
     "start_time": "2023-08-12T09:31:45.427698",
     "status": "completed"
    },
    "tags": []
   },
   "outputs": [
    {
     "data": {
      "text/plain": [
       "unknown                              20489\n",
       "Universal Pictures                    8847\n",
       "Warner Bros. Pictures                 8722\n",
       "Paramount Pictures                    7773\n",
       "20th Century Fox                      7007\n",
       "                                     ...  \n",
       "Almi Pictures                            1\n",
       "Koch Lorber                              1\n",
       "Magic Lamp                               1\n",
       "Fine Line Features, Miramax Films        1\n",
       "American Film Co.                        1\n",
       "Name: distributor, Length: 1796, dtype: int64"
      ]
     },
     "execution_count": 44,
     "metadata": {},
     "output_type": "execute_result"
    }
   ],
   "source": [
    "merged[\"distributor\"].value_counts()"
   ]
  },
  {
   "cell_type": "code",
   "execution_count": 45,
   "id": "98d9dfb4",
   "metadata": {
    "execution": {
     "iopub.execute_input": "2023-08-12T09:31:45.756779Z",
     "iopub.status.busy": "2023-08-12T09:31:45.756396Z",
     "iopub.status.idle": "2023-08-12T09:31:45.775088Z",
     "shell.execute_reply": "2023-08-12T09:31:45.773673Z"
    },
    "papermill": {
     "duration": 0.119028,
     "end_time": "2023-08-12T09:31:45.777917",
     "exception": false,
     "start_time": "2023-08-12T09:31:45.658889",
     "status": "completed"
    },
    "tags": []
   },
   "outputs": [
    {
     "data": {
      "text/plain": [
       "count    162758.000000\n",
       "mean        106.992019\n",
       "std          22.203778\n",
       "min           4.000000\n",
       "25%          93.000000\n",
       "50%         104.000000\n",
       "75%         118.000000\n",
       "max         561.000000\n",
       "Name: runtimeMinutes, dtype: float64"
      ]
     },
     "execution_count": 45,
     "metadata": {},
     "output_type": "execute_result"
    }
   ],
   "source": [
    "merged[\"runtimeMinutes\"].describe()"
   ]
  },
  {
   "cell_type": "code",
   "execution_count": 46,
   "id": "a6f67edb",
   "metadata": {
    "execution": {
     "iopub.execute_input": "2023-08-12T09:31:45.975962Z",
     "iopub.status.busy": "2023-08-12T09:31:45.975060Z",
     "iopub.status.idle": "2023-08-12T09:31:46.394981Z",
     "shell.execute_reply": "2023-08-12T09:31:46.393701Z"
    },
    "papermill": {
     "duration": 0.520414,
     "end_time": "2023-08-12T09:31:46.397489",
     "exception": false,
     "start_time": "2023-08-12T09:31:45.877075",
     "status": "completed"
    },
    "tags": []
   },
   "outputs": [
    {
     "data": {
      "text/plain": [
       "<Axes: xlabel='sentiment', ylabel='runtimeMinutes'>"
      ]
     },
     "execution_count": 46,
     "metadata": {},
     "output_type": "execute_result"
    },
    {
     "data": {
      "image/png": "[encoded data removed]",
      "text/plain": [
       "<Figure size 640x480 with 1 Axes>"
      ]
     },
     "metadata": {},
     "output_type": "display_data"
    }
   ],
   "source": [
    "sns.boxplot(y=merged[\"runtimeMinutes\"], x=merged[\"sentiment\"])"
   ]
  },
  {
   "cell_type": "code",
   "execution_count": 47,
   "id": "00b85265",
   "metadata": {
    "execution": {
     "iopub.execute_input": "2023-08-12T09:31:46.594949Z",
     "iopub.status.busy": "2023-08-12T09:31:46.594503Z",
     "iopub.status.idle": "2023-08-12T09:31:46.599263Z",
     "shell.execute_reply": "2023-08-12T09:31:46.598025Z"
    },
    "papermill": {
     "duration": 0.107427,
     "end_time": "2023-08-12T09:31:46.601615",
     "exception": false,
     "start_time": "2023-08-12T09:31:46.494188",
     "status": "completed"
    },
    "tags": []
   },
   "outputs": [],
   "source": [
    "# print(merged[\"boxOfficeBins\"].value_counts())\n",
    "# sns.displot(merged[\"boxOfficeBins\"])"
   ]
  },
  {
   "cell_type": "code",
   "execution_count": 48,
   "id": "3971db3f",
   "metadata": {
    "execution": {
     "iopub.execute_input": "2023-08-12T09:31:46.797599Z",
     "iopub.status.busy": "2023-08-12T09:31:46.797130Z",
     "iopub.status.idle": "2023-08-12T09:31:46.806067Z",
     "shell.execute_reply": "2023-08-12T09:31:46.804825Z"
    },
    "papermill": {
     "duration": 0.110565,
     "end_time": "2023-08-12T09:31:46.808505",
     "exception": false,
     "start_time": "2023-08-12T09:31:46.697940",
     "status": "completed"
    },
    "tags": []
   },
   "outputs": [
    {
     "data": {
      "text/plain": [
       "0    Henry Selick’s first movie since ’s Coraline. ...\n",
       "1    With a cast that reads like the Vogue Oscar pa...\n",
       "2    Creed II does not give us anything but another...\n",
       "3    I know what you're thinking, but this is no Li...\n",
       "4    Director Fernando Meirelles tells the story wi...\n",
       "Name: reviewText, dtype: object"
      ]
     },
     "execution_count": 48,
     "metadata": {},
     "output_type": "execute_result"
    }
   ],
   "source": [
    "merged[\"reviewText\"].head()"
   ]
  },
  {
   "cell_type": "code",
   "execution_count": 49,
   "id": "58710e41",
   "metadata": {
    "execution": {
     "iopub.execute_input": "2023-08-12T09:31:47.005438Z",
     "iopub.status.busy": "2023-08-12T09:31:47.004650Z",
     "iopub.status.idle": "2023-08-12T09:31:47.012926Z",
     "shell.execute_reply": "2023-08-12T09:31:47.011504Z"
    },
    "papermill": {
     "duration": 0.109468,
     "end_time": "2023-08-12T09:31:47.015532",
     "exception": false,
     "start_time": "2023-08-12T09:31:46.906064",
     "status": "completed"
    },
    "tags": []
   },
   "outputs": [
    {
     "data": {
      "text/plain": [
       "6447"
      ]
     },
     "execution_count": 49,
     "metadata": {},
     "output_type": "execute_result"
    }
   ],
   "source": [
    "merged[\"reviewYN\"].sum()"
   ]
  },
  {
   "cell_type": "code",
   "execution_count": 50,
   "id": "47bb6fa6",
   "metadata": {
    "execution": {
     "iopub.execute_input": "2023-08-12T09:31:47.214047Z",
     "iopub.status.busy": "2023-08-12T09:31:47.213312Z",
     "iopub.status.idle": "2023-08-12T09:31:47.220918Z",
     "shell.execute_reply": "2023-08-12T09:31:47.220047Z"
    },
    "papermill": {
     "duration": 0.110109,
     "end_time": "2023-08-12T09:31:47.223460",
     "exception": false,
     "start_time": "2023-08-12T09:31:47.113351",
     "status": "completed"
    },
    "tags": []
   },
   "outputs": [
    {
     "data": {
      "text/plain": [
       "0    11\n",
       "1    24\n",
       "2    22\n",
       "3    34\n",
       "4    20\n",
       "Name: reviewWC, dtype: int64"
      ]
     },
     "execution_count": 50,
     "metadata": {},
     "output_type": "execute_result"
    }
   ],
   "source": [
    "merged[\"reviewWC\"].head()"
   ]
  },
  {
   "cell_type": "code",
   "execution_count": 51,
   "id": "af885770",
   "metadata": {
    "execution": {
     "iopub.execute_input": "2023-08-12T09:31:47.420703Z",
     "iopub.status.busy": "2023-08-12T09:31:47.420034Z",
     "iopub.status.idle": "2023-08-12T09:31:47.436816Z",
     "shell.execute_reply": "2023-08-12T09:31:47.435456Z"
    },
    "papermill": {
     "duration": 0.11834,
     "end_time": "2023-08-12T09:31:47.439378",
     "exception": false,
     "start_time": "2023-08-12T09:31:47.321038",
     "status": "completed"
    },
    "tags": []
   },
   "outputs": [
    {
     "data": {
      "text/plain": [
       "count    162758.000000\n",
       "mean         21.013707\n",
       "std          10.216532\n",
       "min           1.000000\n",
       "25%          14.000000\n",
       "50%          21.000000\n",
       "75%          28.000000\n",
       "max          54.000000\n",
       "Name: reviewWC, dtype: float64"
      ]
     },
     "execution_count": 51,
     "metadata": {},
     "output_type": "execute_result"
    }
   ],
   "source": [
    "merged[\"reviewWC\"].describe()"
   ]
  },
  {
   "cell_type": "code",
   "execution_count": 52,
   "id": "3f6cab74",
   "metadata": {
    "execution": {
     "iopub.execute_input": "2023-08-12T09:31:47.640240Z",
     "iopub.status.busy": "2023-08-12T09:31:47.639073Z",
     "iopub.status.idle": "2023-08-12T09:31:48.341143Z",
     "shell.execute_reply": "2023-08-12T09:31:48.339975Z"
    },
    "papermill": {
     "duration": 0.806256,
     "end_time": "2023-08-12T09:31:48.344005",
     "exception": false,
     "start_time": "2023-08-12T09:31:47.537749",
     "status": "completed"
    },
    "tags": []
   },
   "outputs": [
    {
     "data": {
      "text/plain": [
       "<Axes: xlabel='reviewWC', ylabel='Count'>"
      ]
     },
     "execution_count": 52,
     "metadata": {},
     "output_type": "execute_result"
    },
    {
     "data": {
      "image/png": "[encoded data removed]",
      "text/plain": [
       "<Figure size 640x480 with 1 Axes>"
      ]
     },
     "metadata": {},
     "output_type": "display_data"
    }
   ],
   "source": [
    "sns.histplot(merged[\"reviewWC\"])"
   ]
  },
  {
   "cell_type": "code",
   "execution_count": 53,
   "id": "a7084a28",
   "metadata": {
    "execution": {
     "iopub.execute_input": "2023-08-12T09:31:48.541401Z",
     "iopub.status.busy": "2023-08-12T09:31:48.540940Z",
     "iopub.status.idle": "2023-08-12T09:31:48.573000Z",
     "shell.execute_reply": "2023-08-12T09:31:48.571755Z"
    },
    "papermill": {
     "duration": 0.134146,
     "end_time": "2023-08-12T09:31:48.575614",
     "exception": false,
     "start_time": "2023-08-12T09:31:48.441468",
     "status": "completed"
    },
    "tags": []
   },
   "outputs": [
    {
     "data": {
      "text/plain": [
       "R          60248\n",
       "unknown    44587\n",
       "PG-13      42697\n",
       "PG         13669\n",
       "TV14         947\n",
       "NC-17        285\n",
       "TVPG         281\n",
       "TVMA          44\n",
       "Name: rating, dtype: int64"
      ]
     },
     "execution_count": 53,
     "metadata": {},
     "output_type": "execute_result"
    }
   ],
   "source": [
    "merged['rating'].value_counts()"
   ]
  },
  {
   "cell_type": "code",
   "execution_count": 54,
   "id": "97e5813d",
   "metadata": {
    "execution": {
     "iopub.execute_input": "2023-08-12T09:31:48.773529Z",
     "iopub.status.busy": "2023-08-12T09:31:48.773082Z",
     "iopub.status.idle": "2023-08-12T09:31:48.783681Z",
     "shell.execute_reply": "2023-08-12T09:31:48.782507Z"
    },
    "papermill": {
     "duration": 0.111739,
     "end_time": "2023-08-12T09:31:48.786002",
     "exception": false,
     "start_time": "2023-08-12T09:31:48.674263",
     "status": "completed"
    },
    "tags": []
   },
   "outputs": [
    {
     "data": {
      "text/plain": [
       "False    113189\n",
       "True      49569\n",
       "Name: isFrequentReviewer, dtype: int64"
      ]
     },
     "execution_count": 54,
     "metadata": {},
     "output_type": "execute_result"
    }
   ],
   "source": [
    "merged['isFrequentReviewer'].value_counts()"
   ]
  },
  {
   "cell_type": "code",
   "execution_count": 55,
   "id": "beae4055",
   "metadata": {
    "execution": {
     "iopub.execute_input": "2023-08-12T09:31:48.985921Z",
     "iopub.status.busy": "2023-08-12T09:31:48.985503Z",
     "iopub.status.idle": "2023-08-12T09:31:48.994532Z",
     "shell.execute_reply": "2023-08-12T09:31:48.993465Z"
    },
    "papermill": {
     "duration": 0.110592,
     "end_time": "2023-08-12T09:31:48.996715",
     "exception": false,
     "start_time": "2023-08-12T09:31:48.886123",
     "status": "completed"
    },
    "tags": []
   },
   "outputs": [
    {
     "data": {
      "text/plain": [
       "0      Benjamin Henry\n",
       "1       Felicia Lopez\n",
       "2     Charles Burgess\n",
       "3        Ryan Barrett\n",
       "4    Alexander Glover\n",
       "Name: reviewerName, dtype: object"
      ]
     },
     "execution_count": 55,
     "metadata": {},
     "output_type": "execute_result"
    }
   ],
   "source": [
    "merged[\"reviewerName\"].head()"
   ]
  },
  {
   "cell_type": "code",
   "execution_count": 56,
   "id": "f25526f4",
   "metadata": {
    "execution": {
     "iopub.execute_input": "2023-08-12T09:31:49.196121Z",
     "iopub.status.busy": "2023-08-12T09:31:49.195684Z",
     "iopub.status.idle": "2023-08-12T09:31:49.211239Z",
     "shell.execute_reply": "2023-08-12T09:31:49.209923Z"
    },
    "papermill": {
     "duration": 0.118358,
     "end_time": "2023-08-12T09:31:49.213644",
     "exception": false,
     "start_time": "2023-08-12T09:31:49.095286",
     "status": "completed"
    },
    "tags": []
   },
   "outputs": [
    {
     "data": {
      "text/plain": [
       "14300000.0    32327\n",
       "2000000.0       922\n",
       "1100000.0       891\n",
       "1000000.0       834\n",
       "1200000.0       802\n",
       "              ...  \n",
       "58500.0           1\n",
       "500800.0          1\n",
       "265600.0          1\n",
       "292500.0          1\n",
       "799400.0          1\n",
       "Name: boxOffice, Length: 3819, dtype: int64"
      ]
     },
     "execution_count": 56,
     "metadata": {},
     "output_type": "execute_result"
    }
   ],
   "source": [
    "merged['boxOffice'].value_counts()"
   ]
  },
  {
   "cell_type": "code",
   "execution_count": 57,
   "id": "e9f3669e",
   "metadata": {
    "execution": {
     "iopub.execute_input": "2023-08-12T09:31:49.411711Z",
     "iopub.status.busy": "2023-08-12T09:31:49.411315Z",
     "iopub.status.idle": "2023-08-12T09:31:49.416959Z",
     "shell.execute_reply": "2023-08-12T09:31:49.415548Z"
    },
    "papermill": {
     "duration": 0.108,
     "end_time": "2023-08-12T09:31:49.419682",
     "exception": false,
     "start_time": "2023-08-12T09:31:49.311682",
     "status": "completed"
    },
    "tags": []
   },
   "outputs": [],
   "source": [
    "# Check correlation between 'boxOffice' and ''sentiment'\n",
    "# bo_df = merged.copy()\n",
    "# print(bo_df[\"boxOffice\"])\n",
    "# bo_df[\"boxOffice\"] = bo_df[\"boxOffice\"].str[1:]\n",
    "# bo_df[\"boxOffice\"] = bo_df[\"boxOffice\"].replace(to_replace={\"M\": \"*1000000\", \"K\": \"*1000\"}, regex=True)\n",
    "# bo_df[\"boxOffice\"] = bo_df[\"boxOffice\"].loc[bo_df[\"boxOffice\"].notnull()].apply(lambda x: eval(str(x)))\n",
    "# bo_df[\"boxOffice\"] = bo_df[\"boxOffice\"].fillna(bo_df[\"boxOffice\"].median())\n",
    "# bo_df[\"boxOffice\"].describe()"
   ]
  },
  {
   "cell_type": "code",
   "execution_count": 58,
   "id": "9778b80c",
   "metadata": {
    "execution": {
     "iopub.execute_input": "2023-08-12T09:31:49.618975Z",
     "iopub.status.busy": "2023-08-12T09:31:49.618595Z",
     "iopub.status.idle": "2023-08-12T09:31:49.623093Z",
     "shell.execute_reply": "2023-08-12T09:31:49.621987Z"
    },
    "papermill": {
     "duration": 0.107664,
     "end_time": "2023-08-12T09:31:49.625532",
     "exception": false,
     "start_time": "2023-08-12T09:31:49.517868",
     "status": "completed"
    },
    "tags": []
   },
   "outputs": [],
   "source": [
    "# median = bo_df[\"boxOffice\"].describe()['50%']\n",
    "# iqr = bo_df[\"boxOffice\"].describe()['75%'] - bo_df[\"boxOffice\"].describe()['25%']\n",
    "# median, iqr"
   ]
  },
  {
   "cell_type": "code",
   "execution_count": 59,
   "id": "5c5dea7d",
   "metadata": {
    "execution": {
     "iopub.execute_input": "2023-08-12T09:31:49.825508Z",
     "iopub.status.busy": "2023-08-12T09:31:49.824811Z",
     "iopub.status.idle": "2023-08-12T09:31:49.829797Z",
     "shell.execute_reply": "2023-08-12T09:31:49.828555Z"
    },
    "papermill": {
     "duration": 0.107323,
     "end_time": "2023-08-12T09:31:49.832326",
     "exception": false,
     "start_time": "2023-08-12T09:31:49.725003",
     "status": "completed"
    },
    "tags": []
   },
   "outputs": [],
   "source": [
    "# ll = median - (1.5*iqr)\n",
    "# ul = median + (1.5*iqr)\n",
    "# ll, ul"
   ]
  },
  {
   "cell_type": "code",
   "execution_count": 60,
   "id": "3492f134",
   "metadata": {
    "execution": {
     "iopub.execute_input": "2023-08-12T09:31:50.055463Z",
     "iopub.status.busy": "2023-08-12T09:31:50.054783Z",
     "iopub.status.idle": "2023-08-12T09:31:50.059583Z",
     "shell.execute_reply": "2023-08-12T09:31:50.058439Z"
    },
    "papermill": {
     "duration": 0.126692,
     "end_time": "2023-08-12T09:31:50.061889",
     "exception": false,
     "start_time": "2023-08-12T09:31:49.935197",
     "status": "completed"
    },
    "tags": []
   },
   "outputs": [],
   "source": [
    "# bo_df[\"boxOffice\"].mean()"
   ]
  },
  {
   "cell_type": "code",
   "execution_count": 61,
   "id": "906379b4",
   "metadata": {
    "execution": {
     "iopub.execute_input": "2023-08-12T09:31:50.261896Z",
     "iopub.status.busy": "2023-08-12T09:31:50.261536Z",
     "iopub.status.idle": "2023-08-12T09:31:50.265909Z",
     "shell.execute_reply": "2023-08-12T09:31:50.264784Z"
    },
    "papermill": {
     "duration": 0.105904,
     "end_time": "2023-08-12T09:31:50.268296",
     "exception": false,
     "start_time": "2023-08-12T09:31:50.162392",
     "status": "completed"
    },
    "tags": []
   },
   "outputs": [],
   "source": [
    "# bo_df.loc[bo_df[\"boxOffice\"] > ul, \"boxOffice\"] = median\n",
    "# bo_df[\"boxOffice\"].mean()"
   ]
  },
  {
   "cell_type": "code",
   "execution_count": 62,
   "id": "46b47952",
   "metadata": {
    "execution": {
     "iopub.execute_input": "2023-08-12T09:31:50.465935Z",
     "iopub.status.busy": "2023-08-12T09:31:50.465079Z",
     "iopub.status.idle": "2023-08-12T09:31:50.469940Z",
     "shell.execute_reply": "2023-08-12T09:31:50.469145Z"
    },
    "papermill": {
     "duration": 0.106419,
     "end_time": "2023-08-12T09:31:50.472376",
     "exception": false,
     "start_time": "2023-08-12T09:31:50.365957",
     "status": "completed"
    },
    "tags": []
   },
   "outputs": [],
   "source": [
    "# bo_df[\"boxOffice\"].min(), bo_df[\"boxOffice\"].max()"
   ]
  },
  {
   "cell_type": "code",
   "execution_count": 63,
   "id": "a9c6dadc",
   "metadata": {
    "execution": {
     "iopub.execute_input": "2023-08-12T09:31:50.674122Z",
     "iopub.status.busy": "2023-08-12T09:31:50.673331Z",
     "iopub.status.idle": "2023-08-12T09:31:50.678187Z",
     "shell.execute_reply": "2023-08-12T09:31:50.677376Z"
    },
    "papermill": {
     "duration": 0.110011,
     "end_time": "2023-08-12T09:31:50.680561",
     "exception": false,
     "start_time": "2023-08-12T09:31:50.570550",
     "status": "completed"
    },
    "tags": []
   },
   "outputs": [],
   "source": [
    "# sns.boxplot(x=\"sentiment\", y=\"boxOffice\", data=bo_df, showfliers = False)"
   ]
  },
  {
   "cell_type": "markdown",
   "id": "39340426",
   "metadata": {
    "papermill": {
     "duration": 0.099966,
     "end_time": "2023-08-12T09:31:50.879378",
     "exception": false,
     "start_time": "2023-08-12T09:31:50.779412",
     "status": "completed"
    },
    "tags": []
   },
   "source": [
    "## EDA  "
   ]
  },
  {
   "cell_type": "markdown",
   "id": "cfcc1335",
   "metadata": {
    "papermill": {
     "duration": 0.09757,
     "end_time": "2023-08-12T09:31:51.075864",
     "exception": false,
     "start_time": "2023-08-12T09:31:50.978294",
     "status": "completed"
    },
    "tags": []
   },
   "source": [
    "### An interesting finding through exploration  \n",
    "  \n",
    "* OHE and TfidfVectorizer on director column give the same result when ngram_range(2,2) is used (see code below)!"
   ]
  },
  {
   "cell_type": "code",
   "execution_count": 64,
   "id": "c3918437",
   "metadata": {
    "execution": {
     "iopub.execute_input": "2023-08-12T09:31:51.276051Z",
     "iopub.status.busy": "2023-08-12T09:31:51.275330Z",
     "iopub.status.idle": "2023-08-12T09:32:04.711086Z",
     "shell.execute_reply": "2023-08-12T09:32:04.709787Z"
    },
    "papermill": {
     "duration": 13.537504,
     "end_time": "2023-08-12T09:32:04.713765",
     "exception": false,
     "start_time": "2023-08-12T09:31:51.176261",
     "status": "completed"
    },
    "tags": []
   },
   "outputs": [
    {
     "name": "stdout",
     "output_type": "stream",
     "text": [
      "(162758,)\n",
      "9476\n",
      "(162758, 9476) <class 'numpy.ndarray'>\n",
      "(162758,)\n",
      "(162758, 9476) <class 'numpy.ndarray'>\n",
      "True\n"
     ]
    }
   ],
   "source": [
    "# Compare OHE and TfidfVectorizer on director column\n",
    "\n",
    "dirs = merged[\"director\"].copy()\n",
    "print(dirs.shape)\n",
    "dirs_uniq = merged[\"director\"].unique()\n",
    "print(len(dirs_uniq))\n",
    "\n",
    "du_ohe = OneHotEncoder(handle_unknown=\"ignore\", sparse_output=False).fit_transform(dirs.to_numpy().reshape(-1, 1))\n",
    "print(du_ohe.shape, type(du_ohe))\n",
    "\n",
    "dirs_2 = merged[\"director\"].copy()\n",
    "print(dirs_2.shape)\n",
    "du_tfidf = TfidfVectorizer(ngram_range=(2,2)).fit_transform(dirs_2).toarray()\n",
    "print(du_tfidf.shape, type(du_tfidf))\n",
    "\n",
    "print(np.array_equal(du_ohe, du_tfidf))"
   ]
  },
  {
   "cell_type": "code",
   "execution_count": 65,
   "id": "14fbf8be",
   "metadata": {
    "execution": {
     "iopub.execute_input": "2023-08-12T09:32:04.917783Z",
     "iopub.status.busy": "2023-08-12T09:32:04.917388Z",
     "iopub.status.idle": "2023-08-12T09:32:05.279715Z",
     "shell.execute_reply": "2023-08-12T09:32:05.278635Z"
    },
    "papermill": {
     "duration": 0.468648,
     "end_time": "2023-08-12T09:32:05.282085",
     "exception": false,
     "start_time": "2023-08-12T09:32:04.813437",
     "status": "completed"
    },
    "tags": []
   },
   "outputs": [
    {
     "name": "stdout",
     "output_type": "stream",
     "text": [
      "0       Bennie Basso\n",
      "1         Alma White\n",
      "2       Bobby Oleary\n",
      "3    Eric Hutcherson\n",
      "4         John Trent\n",
      "Name: director, dtype: object\n"
     ]
    },
    {
     "data": {
      "text/plain": [
       "2    162758\n",
       "Name: director, dtype: int64"
      ]
     },
     "execution_count": 65,
     "metadata": {},
     "output_type": "execute_result"
    }
   ],
   "source": [
    "print(dirs.head())\n",
    "d = dirs.copy()\n",
    "d[\"name_len\"] = d.apply(lambda x: len(x.split()))\n",
    "d[\"name_len\"].value_counts()"
   ]
  },
  {
   "cell_type": "code",
   "execution_count": 66,
   "id": "bdbe256c",
   "metadata": {
    "execution": {
     "iopub.execute_input": "2023-08-12T09:32:05.484837Z",
     "iopub.status.busy": "2023-08-12T09:32:05.484427Z",
     "iopub.status.idle": "2023-08-12T09:32:05.490480Z",
     "shell.execute_reply": "2023-08-12T09:32:05.489617Z"
    },
    "papermill": {
     "duration": 0.109852,
     "end_time": "2023-08-12T09:32:05.492656",
     "exception": false,
     "start_time": "2023-08-12T09:32:05.382804",
     "status": "completed"
    },
    "tags": []
   },
   "outputs": [],
   "source": [
    "# Compare OHE and TfidfVectorizer on reviewerName column\n",
    "# Note: reviewerName column has salutations like \"Mr. \" etc, and some names appear middle names. Therefore needs cleaning\n",
    "\n",
    "# def name_fl(name):\n",
    "#     l = name.split()\n",
    "#     n = ' '.join((l[0], l[-1]))\n",
    "#     return n\n",
    "\n",
    "# reviewers = merged[\"reviewerName\"].copy()\n",
    "# reviewers = pd.DataFrame(reviewers)\n",
    "# reviewers = reviewers.replace({\"Mr. \": \"\", \"Mrs. \": \"\"}, regex=True)\n",
    "# reviewers[\"reviewerName\"] = reviewers[\"reviewerName\"].apply(name_fl)\n",
    "# print(reviewers.shape)\n",
    "\n",
    "# reviewers_uniq = merged[\"reviewerName\"].unique()\n",
    "# print(len(reviewers_uniq))\n",
    "\n",
    "# reviewers_ohe = OneHotEncoder(handle_unknown=\"ignore\", sparse_output=False).fit_transform(reviewers.to_numpy().reshape(-1, 1))\n",
    "# print(reviewers_ohe.shape, type(reviewers_ohe))\n",
    "\n",
    "# reviewers_2 = merged[\"reviewerName\"].copy()\n",
    "# reviewers_2 = pd.DataFrame(reviewers_2)\n",
    "# print(reviewers_2.head())\n",
    "# reviewers_2 = reviewers_2.replace({\"Mr. \": \"\", \"Mrs. \": \"\"}, regex=True)\n",
    "# reviewers_2[\"reviewerName\"] = reviewers_2[\"reviewerName\"].apply(name_fl)\n",
    "# reviewers_2 = reviewers_2.squeeze()\n",
    "# print(reviewers_2.shape)\n",
    "# print(reviewers_2.head())\n",
    "\n",
    "# reviewers_tfidf = TfidfVectorizer(ngram_range=(2,2)).fit_transform(reviewers_2).toarray()\n",
    "# print(reviewers_tfidf.shape, type(reviewers_tfidf))\n",
    "\n",
    "# print(np.array_equal(reviewers_ohe, reviewers_tfidf))"
   ]
  },
  {
   "cell_type": "code",
   "execution_count": 67,
   "id": "136123d7",
   "metadata": {
    "execution": {
     "iopub.execute_input": "2023-08-12T09:32:05.697869Z",
     "iopub.status.busy": "2023-08-12T09:32:05.697442Z",
     "iopub.status.idle": "2023-08-12T09:32:05.702425Z",
     "shell.execute_reply": "2023-08-12T09:32:05.701003Z"
    },
    "papermill": {
     "duration": 0.112893,
     "end_time": "2023-08-12T09:32:05.705138",
     "exception": false,
     "start_time": "2023-08-12T09:32:05.592245",
     "status": "completed"
    },
    "tags": []
   },
   "outputs": [],
   "source": [
    "# def name_fl(name):\n",
    "#     l = name.split()\n",
    "#     n = ' '.join((l[0], l[-1]))\n",
    "#     return n"
   ]
  },
  {
   "cell_type": "code",
   "execution_count": 68,
   "id": "373d0f16",
   "metadata": {
    "execution": {
     "iopub.execute_input": "2023-08-12T09:32:05.907767Z",
     "iopub.status.busy": "2023-08-12T09:32:05.907311Z",
     "iopub.status.idle": "2023-08-12T09:32:05.912541Z",
     "shell.execute_reply": "2023-08-12T09:32:05.911289Z"
    },
    "papermill": {
     "duration": 0.109906,
     "end_time": "2023-08-12T09:32:05.915529",
     "exception": false,
     "start_time": "2023-08-12T09:32:05.805623",
     "status": "completed"
    },
    "tags": []
   },
   "outputs": [],
   "source": [
    "# print(reviewers.head())\n",
    "# r = pd.DataFrame(reviewers.copy())\n",
    "# r[\"reviewerName\"] = r[\"reviewerName\"].apply(name_fl)\n",
    "# r[\"name_len\"] = r[\"reviewerName\"].apply(lambda x: len(x.split()))\n",
    "# print(r.shape)\n",
    "# print(r.head())\n",
    "# print(r['name_len'].value_counts())"
   ]
  },
  {
   "cell_type": "code",
   "execution_count": 69,
   "id": "b59d92bd",
   "metadata": {
    "execution": {
     "iopub.execute_input": "2023-08-12T09:32:06.120534Z",
     "iopub.status.busy": "2023-08-12T09:32:06.119839Z",
     "iopub.status.idle": "2023-08-12T09:32:06.124738Z",
     "shell.execute_reply": "2023-08-12T09:32:06.123598Z"
    },
    "papermill": {
     "duration": 0.108209,
     "end_time": "2023-08-12T09:32:06.127700",
     "exception": false,
     "start_time": "2023-08-12T09:32:06.019491",
     "status": "completed"
    },
    "tags": []
   },
   "outputs": [],
   "source": [
    "## Box plot audienceScore and sentiment  \n",
    "# plt.figure(figsize=(6, 4))\n",
    "# sns.boxplot(x=\"sentiment\", y=\"audienceScore\", data=merged, width=0.3)\n",
    "# plt.title(\"Box plot audienceScore and sentiment\")\n",
    "# plt.show()"
   ]
  },
  {
   "cell_type": "code",
   "execution_count": 70,
   "id": "7336cae8",
   "metadata": {
    "execution": {
     "iopub.execute_input": "2023-08-12T09:32:06.331865Z",
     "iopub.status.busy": "2023-08-12T09:32:06.331454Z",
     "iopub.status.idle": "2023-08-12T09:32:06.336442Z",
     "shell.execute_reply": "2023-08-12T09:32:06.335242Z"
    },
    "papermill": {
     "duration": 0.107971,
     "end_time": "2023-08-12T09:32:06.338751",
     "exception": false,
     "start_time": "2023-08-12T09:32:06.230780",
     "status": "completed"
    },
    "tags": []
   },
   "outputs": [],
   "source": [
    "## Box plot runtimeMinutes and sentiment  \n",
    "# plt.figure(figsize=(6, 4))\n",
    "# sns.boxplot(x=\"sentiment\", y=\"runtimeMinutes\", data=merged, width=0.3)\n",
    "# plt.title(\"Box plot runtimeMinutes and sentiment\")\n",
    "# plt.show()"
   ]
  },
  {
   "cell_type": "code",
   "execution_count": 71,
   "id": "e326f764",
   "metadata": {
    "execution": {
     "iopub.execute_input": "2023-08-12T09:32:06.539868Z",
     "iopub.status.busy": "2023-08-12T09:32:06.538827Z",
     "iopub.status.idle": "2023-08-12T09:32:06.543645Z",
     "shell.execute_reply": "2023-08-12T09:32:06.542516Z"
    },
    "papermill": {
     "duration": 0.108349,
     "end_time": "2023-08-12T09:32:06.546151",
     "exception": false,
     "start_time": "2023-08-12T09:32:06.437802",
     "status": "completed"
    },
    "tags": []
   },
   "outputs": [],
   "source": [
    "## Column chart for sentiment and rating columns\n",
    "# plt.figure(figsize=(6, 4))\n",
    "# sns.countplot(x=\"sentiment\", hue=\"rating\", data=merged)\n",
    "# plt.title(\"Column chart for sentiment and rating columns\")\n",
    "# plt.show()"
   ]
  },
  {
   "cell_type": "code",
   "execution_count": 72,
   "id": "fb3e4f91",
   "metadata": {
    "execution": {
     "iopub.execute_input": "2023-08-12T09:32:06.821769Z",
     "iopub.status.busy": "2023-08-12T09:32:06.821062Z",
     "iopub.status.idle": "2023-08-12T09:32:06.826098Z",
     "shell.execute_reply": "2023-08-12T09:32:06.824704Z"
    },
    "papermill": {
     "duration": 0.179411,
     "end_time": "2023-08-12T09:32:06.828683",
     "exception": false,
     "start_time": "2023-08-12T09:32:06.649272",
     "status": "completed"
    },
    "tags": []
   },
   "outputs": [],
   "source": [
    "# Correlation heatmap  \n",
    "# plt.figure(figsize=(10, 8))\n",
    "# sns.heatmap(merged.corr(), annot=True, cmap=\"coolwarm\")\n",
    "# plt.title(\"Correlation heatmap\")\n",
    "# plt.show()"
   ]
  },
  {
   "cell_type": "markdown",
   "id": "60934791",
   "metadata": {
    "papermill": {
     "duration": 0.09986,
     "end_time": "2023-08-12T09:32:07.028135",
     "exception": false,
     "start_time": "2023-08-12T09:32:06.928275",
     "status": "completed"
    },
    "tags": []
   },
   "source": [
    "## Merge and preprocess \"test.csv\" and \"movies.csv\" files  "
   ]
  },
  {
   "cell_type": "code",
   "execution_count": 73,
   "id": "bd2fcbff",
   "metadata": {
    "execution": {
     "iopub.execute_input": "2023-08-12T09:32:07.229950Z",
     "iopub.status.busy": "2023-08-12T09:32:07.229535Z",
     "iopub.status.idle": "2023-08-12T09:32:13.510211Z",
     "shell.execute_reply": "2023-08-12T09:32:13.508705Z"
    },
    "papermill": {
     "duration": 6.386041,
     "end_time": "2023-08-12T09:32:13.513084",
     "exception": false,
     "start_time": "2023-08-12T09:32:07.127043",
     "status": "completed"
    },
    "tags": []
   },
   "outputs": [],
   "source": [
    "# Merge test and movies  \n",
    "merged_test = select_features(load_csv(\"test\"), load_csv(\"movies\"))"
   ]
  },
  {
   "cell_type": "code",
   "execution_count": 74,
   "id": "7f08edad",
   "metadata": {
    "execution": {
     "iopub.execute_input": "2023-08-12T09:32:13.719505Z",
     "iopub.status.busy": "2023-08-12T09:32:13.718803Z",
     "iopub.status.idle": "2023-08-12T09:32:13.724217Z",
     "shell.execute_reply": "2023-08-12T09:32:13.723052Z"
    },
    "papermill": {
     "duration": 0.114178,
     "end_time": "2023-08-12T09:32:13.726715",
     "exception": false,
     "start_time": "2023-08-12T09:32:13.612537",
     "status": "completed"
    },
    "tags": []
   },
   "outputs": [],
   "source": [
    "# inspect(merged_test)      # Note the missing values in ['audienceScore', 'runtimeMinutes', 'boxOffice']"
   ]
  },
  {
   "cell_type": "code",
   "execution_count": 75,
   "id": "effaf5e2",
   "metadata": {
    "execution": {
     "iopub.execute_input": "2023-08-12T09:32:13.931236Z",
     "iopub.status.busy": "2023-08-12T09:32:13.929994Z",
     "iopub.status.idle": "2023-08-12T09:32:13.948541Z",
     "shell.execute_reply": "2023-08-12T09:32:13.947344Z"
    },
    "papermill": {
     "duration": 0.123009,
     "end_time": "2023-08-12T09:32:13.951127",
     "exception": false,
     "start_time": "2023-08-12T09:32:13.828118",
     "status": "completed"
    },
    "tags": []
   },
   "outputs": [
    {
     "data": {
      "text/plain": [
       "array([6.80e+01, 1.04e+02, 1.43e+07])"
      ]
     },
     "execution_count": 75,
     "metadata": {},
     "output_type": "execute_result"
    }
   ],
   "source": [
    "# Transform ['audienceScore', 'runtimeMinutes', 'boxOffice'] columns in merged_test using 'si' fitted on 'merged' df  \n",
    "merged_test[['audienceScore', 'runtimeMinutes', 'boxOffice']] = si.transform(merged_test[['audienceScore', 'runtimeMinutes', 'boxOffice']])\n",
    "si.statistics_"
   ]
  },
  {
   "cell_type": "code",
   "execution_count": 76,
   "id": "6911796f",
   "metadata": {
    "execution": {
     "iopub.execute_input": "2023-08-12T09:32:14.155453Z",
     "iopub.status.busy": "2023-08-12T09:32:14.154647Z",
     "iopub.status.idle": "2023-08-12T09:32:14.165705Z",
     "shell.execute_reply": "2023-08-12T09:32:14.164745Z"
    },
    "papermill": {
     "duration": 0.114488,
     "end_time": "2023-08-12T09:32:14.168318",
     "exception": false,
     "start_time": "2023-08-12T09:32:14.053830",
     "status": "completed"
    },
    "tags": []
   },
   "outputs": [],
   "source": [
    "# Fill 'releaseDate' column in 'merged_test' df with median from the train (merged) df  \n",
    "merged_test['releaseDate'] = merged_test[\"releaseDate\"].fillna(merged[\"releaseDate\"].median())"
   ]
  },
  {
   "cell_type": "code",
   "execution_count": 77,
   "id": "354ffc45",
   "metadata": {
    "execution": {
     "iopub.execute_input": "2023-08-12T09:32:14.370948Z",
     "iopub.status.busy": "2023-08-12T09:32:14.370113Z",
     "iopub.status.idle": "2023-08-12T09:32:14.863470Z",
     "shell.execute_reply": "2023-08-12T09:32:14.862006Z"
    },
    "papermill": {
     "duration": 0.597176,
     "end_time": "2023-08-12T09:32:14.866065",
     "exception": false,
     "start_time": "2023-08-12T09:32:14.268889",
     "status": "completed"
    },
    "tags": []
   },
   "outputs": [
    {
     "name": "stdout",
     "output_type": "stream",
     "text": [
      "Shape of the dataframe: (55315, 25)\n",
      "\n",
      "Columns in the dataframe:\n",
      "Index(['movieid', 'reviewerName', 'isFrequentReviewer', 'reviewText', 'title',\n",
      "       'audienceScore', 'rating', 'ratingContents', 'releaseDateTheaters',\n",
      "       'releaseDateStreaming', 'runtimeMinutes', 'genre', 'originalLanguage',\n",
      "       'director', 'boxOffice', 'distributor', 'soundType', 'reviewYN',\n",
      "       'reviewWC', 'genreSorted', 'rcSorted', 'releaseDate', 'releaseYear',\n",
      "       'releaseMonth', 'releaseDiff'],\n",
      "      dtype='object')\n",
      "\n",
      "<class 'pandas.core.frame.DataFrame'>\n",
      "Int64Index: 55315 entries, 0 to 55314\n",
      "Data columns (total 25 columns):\n",
      " #   Column                Non-Null Count  Dtype         \n",
      "---  ------                --------------  -----         \n",
      " 0   movieid               55315 non-null  object        \n",
      " 1   reviewerName          55315 non-null  object        \n",
      " 2   isFrequentReviewer    55315 non-null  bool          \n",
      " 3   reviewText            55315 non-null  object        \n",
      " 4   title                 55315 non-null  object        \n",
      " 5   audienceScore         55315 non-null  float64       \n",
      " 6   rating                55315 non-null  object        \n",
      " 7   ratingContents        55315 non-null  object        \n",
      " 8   releaseDateTheaters   47844 non-null  datetime64[ns]\n",
      " 9   releaseDateStreaming  52929 non-null  datetime64[ns]\n",
      " 10  runtimeMinutes        55315 non-null  float64       \n",
      " 11  genre                 55315 non-null  object        \n",
      " 12  originalLanguage      55315 non-null  object        \n",
      " 13  director              55315 non-null  object        \n",
      " 14  boxOffice             55315 non-null  float64       \n",
      " 15  distributor           55315 non-null  object        \n",
      " 16  soundType             29845 non-null  object        \n",
      " 17  reviewYN              55315 non-null  int64         \n",
      " 18  reviewWC              55315 non-null  int64         \n",
      " 19  genreSorted           55315 non-null  object        \n",
      " 20  rcSorted              55315 non-null  object        \n",
      " 21  releaseDate           55315 non-null  datetime64[ns]\n",
      " 22  releaseYear           46626 non-null  float64       \n",
      " 23  releaseMonth          46626 non-null  float64       \n",
      " 24  releaseDiff           55315 non-null  float64       \n",
      "dtypes: bool(1), datetime64[ns](3), float64(6), int64(2), object(13)\n",
      "memory usage: 10.6+ MB\n",
      "None\n",
      "\n",
      "Missing values:\n",
      "movieid                     0\n",
      "reviewerName                0\n",
      "isFrequentReviewer          0\n",
      "reviewText                  0\n",
      "title                       0\n",
      "audienceScore               0\n",
      "rating                      0\n",
      "ratingContents              0\n",
      "releaseDateTheaters      7471\n",
      "releaseDateStreaming     2386\n",
      "runtimeMinutes              0\n",
      "genre                       0\n",
      "originalLanguage            0\n",
      "director                    0\n",
      "boxOffice                   0\n",
      "distributor                 0\n",
      "soundType               25470\n",
      "reviewYN                    0\n",
      "reviewWC                    0\n",
      "genreSorted                 0\n",
      "rcSorted                    0\n",
      "releaseDate                 0\n",
      "releaseYear              8689\n",
      "releaseMonth             8689\n",
      "releaseDiff                 0\n",
      "dtype: int64\n"
     ]
    }
   ],
   "source": [
    "# After transforming merged_test  \n",
    "inspect(merged_test)"
   ]
  },
  {
   "cell_type": "code",
   "execution_count": 78,
   "id": "00e956ea",
   "metadata": {
    "execution": {
     "iopub.execute_input": "2023-08-12T09:32:15.071106Z",
     "iopub.status.busy": "2023-08-12T09:32:15.070710Z",
     "iopub.status.idle": "2023-08-12T09:32:15.078070Z",
     "shell.execute_reply": "2023-08-12T09:32:15.076856Z"
    },
    "papermill": {
     "duration": 0.112635,
     "end_time": "2023-08-12T09:32:15.080588",
     "exception": false,
     "start_time": "2023-08-12T09:32:14.967953",
     "status": "completed"
    },
    "tags": []
   },
   "outputs": [
    {
     "name": "stdout",
     "output_type": "stream",
     "text": [
      "2510\n",
      "4.537648015908886\n"
     ]
    }
   ],
   "source": [
    "print(merged_test[\"reviewYN\"].sum())\n",
    "print(merged_test[\"reviewYN\"].sum() * 100 / merged_test.shape[0])"
   ]
  },
  {
   "cell_type": "code",
   "execution_count": 79,
   "id": "a46a6cc2",
   "metadata": {
    "execution": {
     "iopub.execute_input": "2023-08-12T09:32:15.286473Z",
     "iopub.status.busy": "2023-08-12T09:32:15.286017Z",
     "iopub.status.idle": "2023-08-12T09:32:15.303719Z",
     "shell.execute_reply": "2023-08-12T09:32:15.302570Z"
    },
    "papermill": {
     "duration": 0.124087,
     "end_time": "2023-08-12T09:32:15.306280",
     "exception": false,
     "start_time": "2023-08-12T09:32:15.182193",
     "status": "completed"
    },
    "tags": []
   },
   "outputs": [
    {
     "data": {
      "text/plain": [
       "R          18934\n",
       "unknown    18386\n",
       "PG-13      13220\n",
       "PG          4200\n",
       "TV14         333\n",
       "TVPG         109\n",
       "NC-17        108\n",
       "TVMA          25\n",
       "Name: rating, dtype: int64"
      ]
     },
     "execution_count": 79,
     "metadata": {},
     "output_type": "execute_result"
    }
   ],
   "source": [
    "merged_test['rating'].value_counts()"
   ]
  },
  {
   "cell_type": "code",
   "execution_count": 80,
   "id": "9302792b",
   "metadata": {
    "execution": {
     "iopub.execute_input": "2023-08-12T09:32:15.509238Z",
     "iopub.status.busy": "2023-08-12T09:32:15.508778Z",
     "iopub.status.idle": "2023-08-12T09:32:15.519710Z",
     "shell.execute_reply": "2023-08-12T09:32:15.518430Z"
    },
    "papermill": {
     "duration": 0.115813,
     "end_time": "2023-08-12T09:32:15.522278",
     "exception": false,
     "start_time": "2023-08-12T09:32:15.406465",
     "status": "completed"
    },
    "tags": []
   },
   "outputs": [
    {
     "data": {
      "text/plain": [
       "False    38428\n",
       "True     16887\n",
       "Name: isFrequentReviewer, dtype: int64"
      ]
     },
     "execution_count": 80,
     "metadata": {},
     "output_type": "execute_result"
    }
   ],
   "source": [
    "merged_test['isFrequentReviewer'].value_counts()"
   ]
  },
  {
   "cell_type": "code",
   "execution_count": 81,
   "id": "0ac640c2",
   "metadata": {
    "execution": {
     "iopub.execute_input": "2023-08-12T09:32:15.732132Z",
     "iopub.status.busy": "2023-08-12T09:32:15.731716Z",
     "iopub.status.idle": "2023-08-12T09:32:15.743540Z",
     "shell.execute_reply": "2023-08-12T09:32:15.742504Z"
    },
    "papermill": {
     "duration": 0.120634,
     "end_time": "2023-08-12T09:32:15.745969",
     "exception": false,
     "start_time": "2023-08-12T09:32:15.625335",
     "status": "completed"
    },
    "tags": []
   },
   "outputs": [
    {
     "data": {
      "text/plain": [
       "14300000.0    13593\n",
       "1100000.0       311\n",
       "1000000.0       272\n",
       "1300000.0       263\n",
       "2000000.0       256\n",
       "              ...  \n",
       "200400.0          1\n",
       "23800000.0        1\n",
       "111200.0          1\n",
       "277800.0          1\n",
       "100600.0          1\n",
       "Name: boxOffice, Length: 3816, dtype: int64"
      ]
     },
     "execution_count": 81,
     "metadata": {},
     "output_type": "execute_result"
    }
   ],
   "source": [
    "merged_test['boxOffice'].value_counts()"
   ]
  },
  {
   "cell_type": "markdown",
   "id": "e9b94386",
   "metadata": {
    "papermill": {
     "duration": 0.099925,
     "end_time": "2023-08-12T09:32:15.946487",
     "exception": false,
     "start_time": "2023-08-12T09:32:15.846562",
     "status": "completed"
    },
    "tags": []
   },
   "source": [
    "## Work on vocabulary  \n",
    "\n",
    "`Build vocabulary from 'reviewText' column`  "
   ]
  },
  {
   "cell_type": "code",
   "execution_count": 82,
   "id": "b4dc6905",
   "metadata": {
    "execution": {
     "iopub.execute_input": "2023-08-12T09:32:16.153825Z",
     "iopub.status.busy": "2023-08-12T09:32:16.153391Z",
     "iopub.status.idle": "2023-08-12T09:32:16.175068Z",
     "shell.execute_reply": "2023-08-12T09:32:16.173927Z"
    },
    "papermill": {
     "duration": 0.128131,
     "end_time": "2023-08-12T09:32:16.177569",
     "exception": false,
     "start_time": "2023-08-12T09:32:16.049438",
     "status": "completed"
    },
    "tags": []
   },
   "outputs": [
    {
     "data": {
      "text/plain": [
       "((162758, 2),\n",
       "                                           reviewText sentiment\n",
       " 0  Henry Selick’s first movie since ’s Coraline. ...  POSITIVE\n",
       " 1  With a cast that reads like the Vogue Oscar pa...  NEGATIVE\n",
       " 2  Creed II does not give us anything but another...  POSITIVE\n",
       " 3  I know what you're thinking, but this is no Li...  POSITIVE\n",
       " 4  Director Fernando Meirelles tells the story wi...  POSITIVE)"
      ]
     },
     "execution_count": 82,
     "metadata": {},
     "output_type": "execute_result"
    }
   ],
   "source": [
    "rt_senti = merged[[\"reviewText\", \"sentiment\"]].copy()\n",
    "rt_senti.shape, rt_senti.head()"
   ]
  },
  {
   "cell_type": "code",
   "execution_count": 83,
   "id": "a6c803f1",
   "metadata": {
    "execution": {
     "iopub.execute_input": "2023-08-12T09:32:16.382044Z",
     "iopub.status.busy": "2023-08-12T09:32:16.381615Z",
     "iopub.status.idle": "2023-08-12T09:32:16.394184Z",
     "shell.execute_reply": "2023-08-12T09:32:16.393018Z"
    },
    "papermill": {
     "duration": 0.117042,
     "end_time": "2023-08-12T09:32:16.396766",
     "exception": false,
     "start_time": "2023-08-12T09:32:16.279724",
     "status": "completed"
    },
    "tags": []
   },
   "outputs": [
    {
     "data": {
      "text/plain": [
       "((55315, 1),\n",
       "                                           reviewText\n",
       " 0  Green slowly cranks up the dread with style an...\n",
       " 1  Philip Noyce's direction is elegant and unforc...\n",
       " 2  It wouldn't do to say what path Maria ultimate...\n",
       " 3  Pig is not exactly the arthouse John Wick that...\n",
       " 4  An imaginative no-budget musical of sorts abou...)"
      ]
     },
     "execution_count": 83,
     "metadata": {},
     "output_type": "execute_result"
    }
   ],
   "source": [
    "rt_test = pd.DataFrame(merged_test[\"reviewText\"].copy())\n",
    "rt_test.shape, rt_test.head()"
   ]
  },
  {
   "cell_type": "code",
   "execution_count": 84,
   "id": "b7862298",
   "metadata": {
    "execution": {
     "iopub.execute_input": "2023-08-12T09:32:16.601538Z",
     "iopub.status.busy": "2023-08-12T09:32:16.601066Z",
     "iopub.status.idle": "2023-08-12T09:32:16.607325Z",
     "shell.execute_reply": "2023-08-12T09:32:16.606270Z"
    },
    "papermill": {
     "duration": 0.112209,
     "end_time": "2023-08-12T09:32:16.609678",
     "exception": false,
     "start_time": "2023-08-12T09:32:16.497469",
     "status": "completed"
    },
    "tags": []
   },
   "outputs": [],
   "source": [
    "def get_vocab(text_df, ngram_range=(1,1)):\n",
    "    print(f\"Generating vocabulary for ngram_range: {ngram_range}...\")\n",
    "    tvec1 = CountVectorizer(ngram_range=ngram_range, stop_words='english', strip_accents='unicode')\n",
    "    tvec1.fit(text_df)\n",
    "    voc_ngram = set(tvec1.vocabulary_.keys())\n",
    "    return voc_ngram"
   ]
  },
  {
   "cell_type": "code",
   "execution_count": 85,
   "id": "63a42caf",
   "metadata": {
    "execution": {
     "iopub.execute_input": "2023-08-12T09:32:16.814032Z",
     "iopub.status.busy": "2023-08-12T09:32:16.813636Z",
     "iopub.status.idle": "2023-08-12T09:32:16.823174Z",
     "shell.execute_reply": "2023-08-12T09:32:16.822259Z"
    },
    "papermill": {
     "duration": 0.113892,
     "end_time": "2023-08-12T09:32:16.825471",
     "exception": false,
     "start_time": "2023-08-12T09:32:16.711579",
     "status": "completed"
    },
    "tags": []
   },
   "outputs": [],
   "source": [
    "def get_common_vocab(df_list: list, ngram_range_list: list):\n",
    "    \"\"\"\n",
    "    Get common vocabulary from a list of dataframes.\n",
    "    \"\"\"\n",
    "    final_common_vocab = set()\n",
    "    # Get vocabulary from each dataframe for a given ngram-range\n",
    "    for ngram_range in ngram_range_list:\n",
    "        vocab_ngram = set()\n",
    "        for num, df in enumerate(df_list, start=1):\n",
    "            print(f\"Working on DF#{num} in the list of DFs provided\")\n",
    "            vocab_ngram_df = set(get_vocab(df['reviewText'], ngram_range))\n",
    "            print(f\"Vocabulary size for ngram-range {ngram_range} in DF#{num}: {len(vocab_ngram_df)}\\n\")\n",
    "            if len(vocab_ngram) > 0:\n",
    "                print(f\"Keeping only the common (intersection) words for ngram-range {ngram_range}...\")\n",
    "                vocab_ngram = vocab_ngram.intersection(vocab_ngram_df)\n",
    "            else:\n",
    "                print(f\"Words from the first df for ngram-range {ngram_range} added.\\n\")\n",
    "                vocab_ngram = vocab_ngram_df\n",
    "        print(f\"Common vocabulary for ngram-range {ngram_range}: {len(vocab_ngram)}\\n\")\n",
    "        \n",
    "        if len(final_common_vocab) > 0:\n",
    "            print(f\"Fusing (union) with final common vocabulary: ngram-range = {ngram_range}.\\n\")\n",
    "            final_common_vocab = final_common_vocab.union(vocab_ngram)\n",
    "        else:\n",
    "            print(f\"Appended first time to final common vocabulary: ngram-range = {ngram_range}.\\n\")\n",
    "            final_common_vocab = vocab_ngram\n",
    "    return final_common_vocab"
   ]
  },
  {
   "cell_type": "code",
   "execution_count": 86,
   "id": "976c1927",
   "metadata": {
    "execution": {
     "iopub.execute_input": "2023-08-12T09:32:17.032619Z",
     "iopub.status.busy": "2023-08-12T09:32:17.032179Z",
     "iopub.status.idle": "2023-08-12T09:32:17.037038Z",
     "shell.execute_reply": "2023-08-12T09:32:17.035849Z"
    },
    "papermill": {
     "duration": 0.112874,
     "end_time": "2023-08-12T09:32:17.039935",
     "exception": false,
     "start_time": "2023-08-12T09:32:16.927061",
     "status": "completed"
    },
    "tags": []
   },
   "outputs": [],
   "source": [
    "# voc_1gram = get_vocab(rt_senti[\"reviewText\"], ngram_range=(1,1))\n",
    "# len(voc_1gram), voc_1gram[:10]"
   ]
  },
  {
   "cell_type": "code",
   "execution_count": 87,
   "id": "34a95906",
   "metadata": {
    "execution": {
     "iopub.execute_input": "2023-08-12T09:32:17.242581Z",
     "iopub.status.busy": "2023-08-12T09:32:17.242198Z",
     "iopub.status.idle": "2023-08-12T09:32:17.246190Z",
     "shell.execute_reply": "2023-08-12T09:32:17.245205Z"
    },
    "papermill": {
     "duration": 0.107873,
     "end_time": "2023-08-12T09:32:17.248654",
     "exception": false,
     "start_time": "2023-08-12T09:32:17.140781",
     "status": "completed"
    },
    "tags": []
   },
   "outputs": [],
   "source": [
    "# voc_2gram = get_vocab(rt_senti[\"reviewText\"], ngram_range=(2,2))\n",
    "# len(voc_2gram), voc_2gram[:10]"
   ]
  },
  {
   "cell_type": "code",
   "execution_count": 88,
   "id": "dc09d5cb",
   "metadata": {
    "execution": {
     "iopub.execute_input": "2023-08-12T09:32:17.453941Z",
     "iopub.status.busy": "2023-08-12T09:32:17.453500Z",
     "iopub.status.idle": "2023-08-12T09:32:17.458683Z",
     "shell.execute_reply": "2023-08-12T09:32:17.457405Z"
    },
    "papermill": {
     "duration": 0.109492,
     "end_time": "2023-08-12T09:32:17.461019",
     "exception": false,
     "start_time": "2023-08-12T09:32:17.351527",
     "status": "completed"
    },
    "tags": []
   },
   "outputs": [],
   "source": [
    "# voc_3gram = get_vocab(rt_senti[\"reviewText\"], ngram_range=(3,3))\n",
    "# len(voc_3gram), voc_3gram[:10]"
   ]
  },
  {
   "cell_type": "code",
   "execution_count": 89,
   "id": "bc87a5ff",
   "metadata": {
    "execution": {
     "iopub.execute_input": "2023-08-12T09:32:17.670347Z",
     "iopub.status.busy": "2023-08-12T09:32:17.669908Z",
     "iopub.status.idle": "2023-08-12T09:32:17.674417Z",
     "shell.execute_reply": "2023-08-12T09:32:17.673286Z"
    },
    "papermill": {
     "duration": 0.111983,
     "end_time": "2023-08-12T09:32:17.676673",
     "exception": false,
     "start_time": "2023-08-12T09:32:17.564690",
     "status": "completed"
    },
    "tags": []
   },
   "outputs": [],
   "source": [
    "# common_unigrams = get_common_vocab([rt_senti, rt_test], ngram_range_list=[(1,1)])\n",
    "# print(len(common_unigrams))\n",
    "# # sorted(list(common_unigrams))"
   ]
  },
  {
   "cell_type": "code",
   "execution_count": 90,
   "id": "d3553786",
   "metadata": {
    "execution": {
     "iopub.execute_input": "2023-08-12T09:32:17.882665Z",
     "iopub.status.busy": "2023-08-12T09:32:17.882216Z",
     "iopub.status.idle": "2023-08-12T09:32:17.886906Z",
     "shell.execute_reply": "2023-08-12T09:32:17.885870Z"
    },
    "papermill": {
     "duration": 0.110554,
     "end_time": "2023-08-12T09:32:17.889141",
     "exception": false,
     "start_time": "2023-08-12T09:32:17.778587",
     "status": "completed"
    },
    "tags": []
   },
   "outputs": [],
   "source": [
    "# common_bigrams = get_common_vocab([rt_senti, rt_test], ngram_range_list=[(2,2)])\n",
    "# print(len(common_bigrams))\n",
    "# # # common_bigrams"
   ]
  },
  {
   "cell_type": "code",
   "execution_count": 91,
   "id": "c05763ed",
   "metadata": {
    "execution": {
     "iopub.execute_input": "2023-08-12T09:32:18.095039Z",
     "iopub.status.busy": "2023-08-12T09:32:18.094598Z",
     "iopub.status.idle": "2023-08-12T09:32:18.099149Z",
     "shell.execute_reply": "2023-08-12T09:32:18.098026Z"
    },
    "papermill": {
     "duration": 0.110378,
     "end_time": "2023-08-12T09:32:18.101567",
     "exception": false,
     "start_time": "2023-08-12T09:32:17.991189",
     "status": "completed"
    },
    "tags": []
   },
   "outputs": [],
   "source": [
    "# common_1_2_grams = get_common_vocab([rt_senti, rt_test], ngram_range_list=[(1,1), (2,2)])\n",
    "# print(len(common_1_2_grams))\n",
    "# # sorted(list(common_1_2_grams))\n",
    "\n",
    "# # common_1_2_grams = common_unigrams | common_bigrams    # older code"
   ]
  },
  {
   "cell_type": "code",
   "execution_count": 92,
   "id": "37ddfa9a",
   "metadata": {
    "execution": {
     "iopub.execute_input": "2023-08-12T09:32:18.311572Z",
     "iopub.status.busy": "2023-08-12T09:32:18.311175Z",
     "iopub.status.idle": "2023-08-12T09:32:18.315823Z",
     "shell.execute_reply": "2023-08-12T09:32:18.314708Z"
    },
    "papermill": {
     "duration": 0.113727,
     "end_time": "2023-08-12T09:32:18.318215",
     "exception": false,
     "start_time": "2023-08-12T09:32:18.204488",
     "status": "completed"
    },
    "tags": []
   },
   "outputs": [],
   "source": [
    "# common_trigrams = get_common_vocab([rt_senti, rt_test], ngram_range_list=[(3,3)])\n",
    "# print(len(common_trigrams))\n",
    "# # common_trigrams"
   ]
  },
  {
   "cell_type": "code",
   "execution_count": 93,
   "id": "46c2dff7",
   "metadata": {
    "execution": {
     "iopub.execute_input": "2023-08-12T09:32:18.527215Z",
     "iopub.status.busy": "2023-08-12T09:32:18.526742Z",
     "iopub.status.idle": "2023-08-12T09:32:18.532130Z",
     "shell.execute_reply": "2023-08-12T09:32:18.530904Z"
    },
    "papermill": {
     "duration": 0.110857,
     "end_time": "2023-08-12T09:32:18.534794",
     "exception": false,
     "start_time": "2023-08-12T09:32:18.423937",
     "status": "completed"
    },
    "tags": []
   },
   "outputs": [],
   "source": [
    "# common_1_2_3_grams = get_common_vocab([rt_senti, rt_test], ngram_range_list=[(1,1), (2,2), (3,3)])\n",
    "# print(len(common_1_2_3_grams))\n",
    "# # sorted((common_1_2_3_grams))\n",
    "\n",
    "# # common_1_2_3_grams = common_unigrams | common_bigrams | common_trigrams    # Older code  "
   ]
  },
  {
   "cell_type": "markdown",
   "id": "6180b283",
   "metadata": {
    "papermill": {
     "duration": 0.103859,
     "end_time": "2023-08-12T09:32:18.743230",
     "exception": false,
     "start_time": "2023-08-12T09:32:18.639371",
     "status": "completed"
    },
    "tags": []
   },
   "source": [
    "### Find common vocabulary between text with positive and negative sentiments in training dataset  "
   ]
  },
  {
   "cell_type": "code",
   "execution_count": 94,
   "id": "1ae7de5f",
   "metadata": {
    "execution": {
     "iopub.execute_input": "2023-08-12T09:32:18.949062Z",
     "iopub.status.busy": "2023-08-12T09:32:18.948617Z",
     "iopub.status.idle": "2023-08-12T09:32:18.997395Z",
     "shell.execute_reply": "2023-08-12T09:32:18.996166Z"
    },
    "papermill": {
     "duration": 0.155209,
     "end_time": "2023-08-12T09:32:19.000145",
     "exception": false,
     "start_time": "2023-08-12T09:32:18.844936",
     "status": "completed"
    },
    "tags": []
   },
   "outputs": [
    {
     "data": {
      "text/plain": [
       "(108761, 2)"
      ]
     },
     "execution_count": 94,
     "metadata": {},
     "output_type": "execute_result"
    }
   ],
   "source": [
    "# Dataframe for positive sentiment\n",
    "rt_senti_pos = rt_senti.loc[rt_senti['sentiment'] == 'POSITIVE'].copy()\n",
    "rt_senti_pos.shape"
   ]
  },
  {
   "cell_type": "code",
   "execution_count": 95,
   "id": "db5378bb",
   "metadata": {
    "execution": {
     "iopub.execute_input": "2023-08-12T09:32:19.207343Z",
     "iopub.status.busy": "2023-08-12T09:32:19.206869Z",
     "iopub.status.idle": "2023-08-12T09:32:19.253483Z",
     "shell.execute_reply": "2023-08-12T09:32:19.252216Z"
    },
    "papermill": {
     "duration": 0.152322,
     "end_time": "2023-08-12T09:32:19.255990",
     "exception": false,
     "start_time": "2023-08-12T09:32:19.103668",
     "status": "completed"
    },
    "tags": []
   },
   "outputs": [
    {
     "data": {
      "text/plain": [
       "(53997, 2)"
      ]
     },
     "execution_count": 95,
     "metadata": {},
     "output_type": "execute_result"
    }
   ],
   "source": [
    "# Dataframe for negative sentiment\n",
    "rt_senti_neg = rt_senti.loc[rt_senti['sentiment'] == 'NEGATIVE'].copy()\n",
    "rt_senti_neg.shape"
   ]
  },
  {
   "cell_type": "code",
   "execution_count": 96,
   "id": "2e0f07a8",
   "metadata": {
    "execution": {
     "iopub.execute_input": "2023-08-12T09:32:19.462305Z",
     "iopub.status.busy": "2023-08-12T09:32:19.461880Z",
     "iopub.status.idle": "2023-08-12T09:32:19.466974Z",
     "shell.execute_reply": "2023-08-12T09:32:19.465755Z"
    },
    "papermill": {
     "duration": 0.110305,
     "end_time": "2023-08-12T09:32:19.469442",
     "exception": false,
     "start_time": "2023-08-12T09:32:19.359137",
     "status": "completed"
    },
    "tags": []
   },
   "outputs": [],
   "source": [
    "# Generate stop words/phrases specific for this project data  \n",
    "\n",
    "# common_1_2_3_grams_sentiment = get_common_vocab([rt_senti_pos, rt_senti_neg], ngram_range_list=[(1,1), (2,2), (3,3)])\n",
    "# print(len(common_1_2_3_grams_sentiment))\n",
    "# # sorted(list(common_1_2_3_grams_sentiment))"
   ]
  },
  {
   "cell_type": "code",
   "execution_count": 97,
   "id": "cd7b9694",
   "metadata": {
    "execution": {
     "iopub.execute_input": "2023-08-12T09:32:19.676532Z",
     "iopub.status.busy": "2023-08-12T09:32:19.676076Z",
     "iopub.status.idle": "2023-08-12T09:32:19.681210Z",
     "shell.execute_reply": "2023-08-12T09:32:19.679948Z"
    },
    "papermill": {
     "duration": 0.112528,
     "end_time": "2023-08-12T09:32:19.683884",
     "exception": false,
     "start_time": "2023-08-12T09:32:19.571356",
     "status": "completed"
    },
    "tags": []
   },
   "outputs": [],
   "source": [
    "# Generate and store the entire vocabulary of training data  \n",
    "\n",
    "# train_1_2_3_grams = get_vocab(rt_senti['reviewText'], ngram_range=(1,3))\n",
    "# print(len(train_1_2_3_grams))\n",
    "# # sorted(train_1_2_3_grams)"
   ]
  },
  {
   "cell_type": "code",
   "execution_count": 98,
   "id": "50eacac5",
   "metadata": {
    "execution": {
     "iopub.execute_input": "2023-08-12T09:32:19.894782Z",
     "iopub.status.busy": "2023-08-12T09:32:19.893781Z",
     "iopub.status.idle": "2023-08-12T09:32:19.898938Z",
     "shell.execute_reply": "2023-08-12T09:32:19.897836Z"
    },
    "papermill": {
     "duration": 0.112841,
     "end_time": "2023-08-12T09:32:19.901525",
     "exception": false,
     "start_time": "2023-08-12T09:32:19.788684",
     "status": "completed"
    },
    "tags": []
   },
   "outputs": [],
   "source": [
    "# type(train_1_2_3_grams)"
   ]
  },
  {
   "cell_type": "code",
   "execution_count": 99,
   "id": "00d38245",
   "metadata": {
    "execution": {
     "iopub.execute_input": "2023-08-12T09:32:20.129929Z",
     "iopub.status.busy": "2023-08-12T09:32:20.129015Z",
     "iopub.status.idle": "2023-08-12T09:32:20.133252Z",
     "shell.execute_reply": "2023-08-12T09:32:20.132500Z"
    },
    "papermill": {
     "duration": 0.115598,
     "end_time": "2023-08-12T09:32:20.135744",
     "exception": false,
     "start_time": "2023-08-12T09:32:20.020146",
     "status": "completed"
    },
    "tags": []
   },
   "outputs": [],
   "source": [
    "# Get the vocabulary that should be used in the final models  \n",
    "# relevant_vocab = train_1_2_3_grams - common_1_2_3_grams_sentiment\n",
    "# print(len(relevant_vocab))"
   ]
  },
  {
   "cell_type": "markdown",
   "id": "320094e9",
   "metadata": {
    "papermill": {
     "duration": 0.104381,
     "end_time": "2023-08-12T09:32:20.342224",
     "exception": false,
     "start_time": "2023-08-12T09:32:20.237843",
     "status": "completed"
    },
    "tags": []
   },
   "source": [
    "## Submit_v4 for merged file models  "
   ]
  },
  {
   "cell_type": "markdown",
   "id": "7bb0a99a",
   "metadata": {
    "papermill": {
     "duration": 0.104356,
     "end_time": "2023-08-12T09:32:20.548853",
     "exception": false,
     "start_time": "2023-08-12T09:32:20.444497",
     "status": "completed"
    },
    "tags": []
   },
   "source": [
    "### More Helper functions  "
   ]
  },
  {
   "cell_type": "code",
   "execution_count": 100,
   "id": "c1eacd14",
   "metadata": {
    "execution": {
     "iopub.execute_input": "2023-08-12T09:32:20.759335Z",
     "iopub.status.busy": "2023-08-12T09:32:20.758866Z",
     "iopub.status.idle": "2023-08-12T09:32:20.766736Z",
     "shell.execute_reply": "2023-08-12T09:32:20.765415Z"
    },
    "papermill": {
     "duration": 0.11623,
     "end_time": "2023-08-12T09:32:20.769734",
     "exception": false,
     "start_time": "2023-08-12T09:32:20.653504",
     "status": "completed"
    },
    "tags": []
   },
   "outputs": [],
   "source": [
    "# Testing predictions on missing reviewtext columns  \n",
    "\n",
    "def predict_on_missing_review_data(pipe, selected_features, merged_train):\n",
    "    missing_reviews_train = merged_train.loc[merged_train['reviewYN'] == 1]\n",
    "    missing_reviews_train.reset_index(drop=True)\n",
    "    X_train_miss_revs = missing_reviews_train.drop('sentiment', axis = 1)\n",
    "    X_train_miss_revs = X_train_miss_revs[selected_features]\n",
    "    y_train_miss_revs = missing_reviews_train['sentiment']\n",
    "    \n",
    "    y_pred_miss_revs = pipe.predict(X_train_miss_revs)\n",
    "#     print('Predictions on rows which had missing reviewText')\n",
    "    print(\"Confusion matrix and f1-score for rows which have no reviewText in X_train: \")\n",
    "    print(confusion_matrix(y_train_miss_revs, y_pred_miss_revs, labels=pipe.classes_))\n",
    "    \n",
    "    return f1_score(y_train_miss_revs, y_pred_miss_revs, average='micro')"
   ]
  },
  {
   "cell_type": "code",
   "execution_count": 101,
   "id": "31a171d0",
   "metadata": {
    "execution": {
     "iopub.execute_input": "2023-08-12T09:32:20.977918Z",
     "iopub.status.busy": "2023-08-12T09:32:20.977539Z",
     "iopub.status.idle": "2023-08-12T09:32:21.013352Z",
     "shell.execute_reply": "2023-08-12T09:32:21.011589Z"
    },
    "papermill": {
     "duration": 0.144349,
     "end_time": "2023-08-12T09:32:21.016450",
     "exception": false,
     "start_time": "2023-08-12T09:32:20.872101",
     "status": "completed"
    },
    "tags": []
   },
   "outputs": [],
   "source": [
    "# Function to build pipelines for GridSearchCV which goes into the final 'submit' function  \n",
    "def build_pipeline(selected_model=LogisticRegression(), \n",
    "                   selected_features={'txt': ['reviewText']}, \n",
    "                   param_grid=None,\n",
    "                   vocab=None,\n",
    "                   vocab_usage='tfidf',\n",
    "                   strip_accents='unicode', \n",
    "                   add_countvec=False):\n",
    "    # Encoders  \n",
    "    ohe = OneHotEncoder(sparse_output=False, handle_unknown='ignore')\n",
    "    MMscaler = MinMaxScaler()\n",
    "    StdScaler = StandardScaler()\n",
    "    RobScaler = RobustScaler()\n",
    "    \n",
    "    # Text features ['reviewText', 'reviewerName', 'movieid', 'genre', 'director']\n",
    "    tfidf_vec = TfidfVectorizer(ngram_range=(1,2))\n",
    "    count_vec = CountVectorizer(ngram_range=(1,2))\n",
    "    txt_pipe = Pipeline(steps=[\n",
    "                            (\"tvec\", TfidfVectorizer(ngram_range=(1,3), strip_accents=strip_accents))    # Adjust ngram_range here for reviewText\n",
    "                        ])\n",
    "    txt_pipe_vocab = Pipeline(steps=[\n",
    "                            (\"tvec\", TfidfVectorizer(ngram_range=(1,3), strip_accents=strip_accents, vocabulary=vocab))    # Adjust ngram_range here for reviewText\n",
    "                        ])\n",
    "    txt_pipe_2 = Pipeline(steps=[\n",
    "                            (\"tvec\", TfidfVectorizer(ngram_range=(2,2)))\n",
    "                        ])\n",
    "    txt_pipe_3 = Pipeline(steps=[\n",
    "                            (\"tvec\", TfidfVectorizer(ngram_range=(1,1)))\n",
    "                        ])\n",
    "    txt_pipe_4 = Pipeline(steps=[\n",
    "                            (\"tvec\", TfidfVectorizer(ngram_range=(1,3)))    # Adjust ngram_range here for reviewText\n",
    "                        ])\n",
    "    txt_pipe_title  = Pipeline(steps=[\n",
    "                            (\"tvec\", TfidfVectorizer(ngram_range=(1,5)))    # Adjust ngram_range here for reviewText\n",
    "                        ])\n",
    "    \n",
    "    # Additional pipes for count vectorizer\n",
    "    txt_pipe_countvec = Pipeline(steps=[\n",
    "                            (\"cvec\", CountVectorizer(ngram_range=(1,3), strip_accents=strip_accents))    # Adjust ngram_range here for reviewText\n",
    "                        ])\n",
    "    txt_pipe_countvec_vocab = Pipeline(steps=[\n",
    "                            (\"cvec\", CountVectorizer(ngram_range=(1,3), strip_accents=strip_accents, vocabulary=vocab))    # Adjust ngram_range here for reviewText\n",
    "                        ])\n",
    "    \n",
    "    txt_pipe_countvec_ratingContents = Pipeline(steps=[\n",
    "                            (\"cvec\", CountVectorizer(ngram_range=(1,5)))    # Adjust ngram_range here for reviewText\n",
    "                        ])\n",
    "    txt_pipe_countvec_rcSorted = Pipeline(steps=[\n",
    "                            (\"cvec\", CountVectorizer(ngram_range=(1,1)))    # Adjust ngram_range here for reviewText\n",
    "                        ])\n",
    "    txt_pipe_countvec_genre = Pipeline(steps=[\n",
    "                            (\"cvec\", CountVectorizer(ngram_range=(1,1)))\n",
    "                        ])\n",
    "    txt_pipe_countvec_genreSorted = Pipeline(steps=[\n",
    "                            (\"cvec\", CountVectorizer(ngram_range=(1,5)))\n",
    "                        ])\n",
    "    txt_pipe_countvec_distributor = Pipeline(steps=[\n",
    "                            (\"cvec\", CountVectorizer(ngram_range=(1,3)))    # Adjust ngram_range here for reviewText\n",
    "                        ])\n",
    "    txt_pipe_countvec_title = Pipeline(steps=[\n",
    "                            (\"cvec\", CountVectorizer(ngram_range=(1,5), strip_accents=strip_accents))\n",
    "                        ])\n",
    "    txt_pipe_countvec_movieid = Pipeline(steps=[\n",
    "                            (\"cvec\", CountVectorizer(ngram_range=(1,1)))\n",
    "                        ])\n",
    "    # Basic pipes  \n",
    "    TFs = []\n",
    "    try:\n",
    "        for c in selected_features['cat']:\n",
    "            TFs.append((f\"cat_{c}\", ohe, [c]))\n",
    "    except:\n",
    "        pass\n",
    "    try:\n",
    "        for n in selected_features['num']:\n",
    "            if n in [\"runtimeMinutes\", \"boxOffice\", \"releaseDiff\"]:\n",
    "                TFs.append((f\"num_{n}\", RobScaler, [n]))\n",
    "                TFs.append((f\"num_{n}_ss\", StdScaler, [n]))\n",
    "                \n",
    "            else:\n",
    "                TFs.append((f\"num_{n}\", StdScaler, [n]))\n",
    "    except:\n",
    "        pass\n",
    "    try:\n",
    "        for t in selected_features['txt']:\n",
    "            if t in ['director', 'reviewerName']:\n",
    "                TFs.append((f\"txt_{t}\", txt_pipe_2, t))\n",
    "            elif t in [\"originalLanguage\", \"releaseYear\"]:\n",
    "                TFs.append((f\"txt_{t}\", txt_pipe_3, t))\n",
    "            elif t in ['genre']:\n",
    "                TFs.append((f\"txt_{t}\", txt_pipe_countvec_genre, t))\n",
    "            elif t in [\"genreSorted\"]:\n",
    "                TFs.append((f\"txt_{t}\", txt_pipe_countvec_genreSorted, t))\n",
    "            elif t in [\"distributor\"]:\n",
    "                TFs.append((f\"txt_{t}\", txt_pipe_countvec_distributor, t))\n",
    "            elif t in ['reviewText']:\n",
    "#                 if vocab and (vocab_usage in [\"tfidf\", \"both\"]):\n",
    "#                     txt_pipe.set_params(tvec__vocabulary=vocab)\n",
    "#                     txt_pipe.set_params(tvec__stop_words='english')\n",
    "                TFs.append((f\"txt_{t}\", txt_pipe, t))\n",
    "            elif t in ['reviewText_2']:\n",
    "                if add_countvec:\n",
    "#                     if vocab and (vocab_usage in [\"count\", \"both\"]):\n",
    "#                         txt_pipe_countvec.set_params(cvec__vocabulary=vocab)\n",
    "#                         txt_pipe_countvec.set_params(cvec__stop_words='english')\n",
    "                    TFs.append((f\"txt_{t}\", txt_pipe_countvec, t))\n",
    "            elif t in ['reviewText_3']:\n",
    "                if vocab_usage == 'tfidf':\n",
    "                    TFs.append((f\"txt_{t}\", txt_pipe_vocab, t))\n",
    "                elif vocab_usage == 'count':\n",
    "                    TFs.append((f\"txt_{t}\", txt_pipe_countvec_vocab, t))\n",
    "            elif t in [\"ratingContents\"]:\n",
    "                TFs.append((f\"txt_{t}\", txt_pipe_countvec_ratingContents, t))\n",
    "            elif t in [\"rcSorted\"]:\n",
    "                TFs.append((f\"txt_{t}\", txt_pipe_countvec_rcSorted, t))\n",
    "            elif t in [\"title\"]:\n",
    "                TFs.append((f\"txt_{t}\", txt_pipe_title, t))\n",
    "            elif t in [\"movieid\"]:\n",
    "                TFs.append((f\"txt_{t}\", txt_pipe_countvec_movieid, t))\n",
    "            else:\n",
    "                pass\n",
    "    except:\n",
    "        pass\n",
    "\n",
    "    # Build ColumnTransformer  \n",
    "    ct = ColumnTransformer(transformers=TFs, remainder='drop')\n",
    "\n",
    "    # Build Pipeline\n",
    "    pipe = Pipeline(steps=[('ct', ct), ('model', selected_model)])\n",
    "    print(\"\\nPipeline built successfully.\")\n",
    "\n",
    "    # Use the pipe in GridSearchCV\n",
    "    if param_grid == None:\n",
    "        param_grid_temp = {\"model__C\": [1],\n",
    "                     'model__solver': ['liblinear']}\n",
    "        print(\"Full GridSearchCV pipeline built successfully with basic default param_grid.\\n\")\n",
    "        pipeCV = GridSearchCV(pipe, param_grid_temp, cv=10, scoring=\"f1_micro\", n_jobs=-1)\n",
    "        return pipeCV\n",
    "    \n",
    "    # GridSearchCV if param_grid provided\n",
    "    if param_grid:\n",
    "        pipeCV = GridSearchCV(pipe, param_grid, cv=10, scoring=\"f1_micro\", n_jobs=-1)\n",
    "        print(\"\\nFull GridSearchCV pipeline built successfully.\")\n",
    "        return pipeCV"
   ]
  },
  {
   "cell_type": "code",
   "execution_count": 102,
   "id": "29ab42e3",
   "metadata": {
    "execution": {
     "iopub.execute_input": "2023-08-12T09:32:21.223585Z",
     "iopub.status.busy": "2023-08-12T09:32:21.223068Z",
     "iopub.status.idle": "2023-08-12T09:32:21.240632Z",
     "shell.execute_reply": "2023-08-12T09:32:21.239570Z"
    },
    "papermill": {
     "duration": 0.124717,
     "end_time": "2023-08-12T09:32:21.243379",
     "exception": false,
     "start_time": "2023-08-12T09:32:21.118662",
     "status": "completed"
    },
    "tags": []
   },
   "outputs": [],
   "source": [
    "def preprocessor():\n",
    "    \n",
    "    # Merge and preprocess train and movies data  \n",
    "    merged = select_features(load_csv(\"train\"), load_csv(\"movies\"), row_thresh_null=None)    # Decide if you want to drop any rows containing lot of nulls\n",
    "    # Impute missing numerical values  \n",
    "    # Simple Imputer for ['audienceScore', 'runtimeMinutes', 'boxOffice'] and 'releaseDate' columns\n",
    "    si = SimpleImputer(strategy='median')\n",
    "    merged[['audienceScore', 'runtimeMinutes', 'boxOffice']] = si.fit_transform(merged[['audienceScore', 'runtimeMinutes', 'boxOffice']])\n",
    "    merged['releaseDate'] = merged[\"releaseDate\"].fillna(merged[\"releaseDate\"].median())    \n",
    "\n",
    "    # Create new feature columns\n",
    "    \n",
    "    # Convert audienceScore to categories  \n",
    "    num_bins_as = 20\n",
    "    merged[\"audScoreBins\"] = pd.cut(merged['audienceScore'], bins=num_bins_as, labels=False)\n",
    "\n",
    "    # Convert runtimeMinutes to categories  \n",
    "#     num_bins_rt = 20\n",
    "    merged[\"runtimeBins\"] = pd.cut(merged['runtimeMinutes'], bins=[0,75,120,180,565], labels=[4,3,2,1])\n",
    "    \n",
    "    # Convert boxOffice to categories  \n",
    "    num_bins_bo = 5\n",
    "    merged[\"boxOfficeBins\"] = pd.cut(merged['boxOffice'], bins=num_bins_bo, labels=False)\n",
    "    \n",
    "    # Convert releaseDiff to categories  \n",
    "    num_bins_rd = 5\n",
    "    merged[\"releaseDiffBins\"] = pd.cut(merged['releaseDiff'], bins=[-1, 180, 360, 1000, 40000], labels=[0, 1, 2, 3])\n",
    "    \n",
    "    # Check1 (preprocessor)\n",
    "    print(\"\\nCheck 1 (preprocessor) complete.\")\n",
    "    print(f\"Shape of X_train: {merged.shape}\")\n",
    "    print(f\"Features in X_train: {merged.columns}\")\n",
    "\n",
    "\n",
    "    \n",
    "    # Merge and preprocess test and movies data  \n",
    "    merged_test = select_features(load_csv(\"test\"), load_csv(\"movies\"))\n",
    "    # Transform ['audienceScore', 'runtimeMinutes', 'boxOffice'] columns in merged_test using 'si' fitted on 'merged' df  \n",
    "    merged_test[['audienceScore', 'runtimeMinutes', 'boxOffice']] = si.transform(merged_test[['audienceScore', 'runtimeMinutes', 'boxOffice']])\n",
    "    # Fill 'releaseDate' column in 'merged_test' df with median from the train (merged) df  \n",
    "    merged_test['releaseDate'] = merged_test[\"releaseDate\"].fillna(merged[\"releaseDate\"].median())\n",
    "\n",
    "    \n",
    "    # Create new feature columns\n",
    "    \n",
    "    # Convert audienceScore to categories  \n",
    "    num_bins_as = 20\n",
    "    merged_test[\"audScoreBins\"] = pd.cut(merged_test['audienceScore'], bins=num_bins_as, labels=False)\n",
    "    \n",
    "    # Convert runtimeMinutes to categories  \n",
    "#     num_bins_rt = 20\n",
    "    merged_test[\"runtimeBins\"] = pd.cut(merged_test['runtimeMinutes'], bins=[0,75,120,180,565], labels=[4,3,2,1])\n",
    "    \n",
    "    # Convert boxOffice to categories  \n",
    "    num_bins_bo = 5\n",
    "    merged_test[\"boxOfficeBins\"] = pd.cut(merged_test['boxOffice'], bins=num_bins_bo, labels=False)\n",
    "    \n",
    "    # Convert releaseDiff to categories  \n",
    "    num_bins_rd = 5\n",
    "    merged_test[\"releaseDiffBins\"] = pd.cut(merged_test['releaseDiff'], bins=[-1, 180, 360, 1000, 40000], labels=[0, 1, 2, 3])\n",
    "    \n",
    "    \n",
    "    # Check2 (preprocessor)\n",
    "    print(\"\\nCheck 2 (preprocessor) complete.\")\n",
    "    print(f\"Shape of X_test: {merged_test.shape}\")\n",
    "    print(f\"Features in X_test: {merged_test.columns}\")\n",
    "\n",
    "    return merged, merged_test\n",
    "    "
   ]
  },
  {
   "cell_type": "code",
   "execution_count": 103,
   "id": "5f6cde8e",
   "metadata": {
    "execution": {
     "iopub.execute_input": "2023-08-12T09:32:21.451366Z",
     "iopub.status.busy": "2023-08-12T09:32:21.450932Z",
     "iopub.status.idle": "2023-08-12T09:32:21.455822Z",
     "shell.execute_reply": "2023-08-12T09:32:21.454562Z"
    },
    "papermill": {
     "duration": 0.110127,
     "end_time": "2023-08-12T09:32:21.458311",
     "exception": false,
     "start_time": "2023-08-12T09:32:21.348184",
     "status": "completed"
    },
    "tags": []
   },
   "outputs": [],
   "source": [
    "# merged, merged_test = preprocessor()\n",
    "# merged.shape, merged_test.shape"
   ]
  },
  {
   "cell_type": "code",
   "execution_count": 104,
   "id": "895de5e3",
   "metadata": {
    "execution": {
     "iopub.execute_input": "2023-08-12T09:32:21.735711Z",
     "iopub.status.busy": "2023-08-12T09:32:21.735311Z",
     "iopub.status.idle": "2023-08-12T09:32:21.763774Z",
     "shell.execute_reply": "2023-08-12T09:32:21.762779Z"
    },
    "papermill": {
     "duration": 0.205595,
     "end_time": "2023-08-12T09:32:21.766129",
     "exception": false,
     "start_time": "2023-08-12T09:32:21.560534",
     "status": "completed"
    },
    "tags": []
   },
   "outputs": [],
   "source": [
    "def submit_v5(classifiers= [\n",
    "                {'selected_model' : LogisticRegression(C=1, solver='saga', max_iter=100000), \n",
    "                  'selected_features' : {'num': ['audienceScore']}, \n",
    "                  'param_grid' : None,\n",
    "                  'vocab' : None,\n",
    "                  'vocab_usage' : 'tfidf',\n",
    "                  'strip_accents' : 'unicode', \n",
    "                  'add_countvec' : False}\n",
    "              ]):\n",
    "    \n",
    "    \"\"\"Takes a list of dictionaries each with same keys as mentioned in the default dictionary in function definition\"\"\"\n",
    "    \n",
    "    print(\"\\nRunning the submit_v5 function...\")\n",
    "    \n",
    "    merged, merged_test = preprocessor()\n",
    "    print(f\"Preprocessing of train and test datasets complete.\")\n",
    "    \n",
    "    # Build vocabulary (if vocab is True)\n",
    "    vocab = None\n",
    "    for item in classifiers:\n",
    "        if item['vocab']:\n",
    "            vocab = True\n",
    "            break\n",
    "    \n",
    "    if vocab == True:\n",
    "        # Generate and store the entire vocabulary of training data  \n",
    "        print(f\"Generating stop words/phrases specific for this project data...\")\n",
    "        train_1_2_3_grams = get_vocab(merged['reviewText'], ngram_range=(1,3))\n",
    "        print(f\"Size of vocabulary of training data: {len(train_1_2_3_grams)}\")\n",
    "        # sorted(train_1_2_3_grams)\n",
    "\n",
    "        # Generate stop words/phrases specific for this project data  \n",
    "        print(f\"Generating stop words/phrases specific for this project data...\")\n",
    "        common_1_2_3_grams = get_common_vocab([merged, merged_test], ngram_range_list=[(1,1), (2,2), (3,3)])\n",
    "        print(f\"Number of stop words: {len(common_1_2_3_grams)}\")\n",
    "\n",
    "        # Get the vocabulary that should be used in the final models  \n",
    "        print(f\"Getting the vocabulary that will be fed to the final model(s)...\")\n",
    "        relevant_vocab = list(train_1_2_3_grams - common_1_2_3_grams)\n",
    "        print(f\"Size of the final relevant vocabulary: {len(relevant_vocab)}\")\n",
    "    else:\n",
    "        pass\n",
    "    \n",
    "    \n",
    "    # Create a list to store estimators  \n",
    "    estimators = []     # List of tuples of the form ('classifier_name', 'classifer_instance')\n",
    "    \n",
    "    # Build a dataframe of predictions  \n",
    "    predictions_df = pd.DataFrame()\n",
    "    \n",
    "    # Build a separate pipeline and fit it on selected features (and param_grid) for each item in classifiers list\n",
    "    for n, item in enumerate(classifiers, start=1):\n",
    "        selected_model = item['selected_model']\n",
    "        selected_features = item['selected_features']\n",
    "        param_grid = item['param_grid']\n",
    "        vocab = item['vocab']\n",
    "        vocab_usage = item['vocab_usage']\n",
    "        strip_accents = item['strip_accents']\n",
    "        add_countvec = item['add_countvec']\n",
    "    \n",
    "    \n",
    "        # Fine tune selected_features\n",
    "        if add_countvec:\n",
    "            if 'txt' in selected_features.keys():\n",
    "                if \"reviewText_2\" not in selected_features['txt']:\n",
    "                    selected_features['txt'].append('reviewText_2')\n",
    "        if vocab:\n",
    "            if 'txt' in selected_features.keys():\n",
    "                if \"reviewText_3\" not in selected_features['txt']:\n",
    "                    selected_features['txt'].append('reviewText_3')\n",
    "        else:\n",
    "            print(f\"No vocabulary provided/used for this model.\")\n",
    "        print(f\"\\nSelected features: {selected_features}\")\n",
    "        \n",
    "        if type(vocab) in [type([1, 2]), type({1, 2})]:\n",
    "            vocab = vocab\n",
    "        elif vocab == True:\n",
    "            vocab = common_1_2_3_grams    # Choose vocabulary here\n",
    "\n",
    "        # Modify X_train for the given 'item' by creating a custom 'features' list\n",
    "        features = []\n",
    "        for item in selected_features.values():\n",
    "            features.extend(item)\n",
    "            \n",
    "        # Add new columns as needed  \n",
    "        if add_countvec:\n",
    "            merged['reviewText_2'] = merged['reviewText']\n",
    "        if vocab:\n",
    "            merged['reviewText_3'] = merged['reviewText']\n",
    "        \n",
    "        # Create X_tran, y_train\n",
    "        X_train = merged.drop(labels=\"sentiment\", axis=1)\n",
    "        y_train = merged[\"sentiment\"]\n",
    "        \n",
    "        X_train = merged[features].copy()\n",
    "\n",
    "\n",
    "        # Build Pipeline\n",
    "        pipe = build_pipeline(selected_model, selected_features, param_grid=param_grid, \n",
    "                              vocab=vocab, vocab_usage='tfidf', \n",
    "                              strip_accents=strip_accents, add_countvec=add_countvec)\n",
    "        print(pipe)\n",
    "\n",
    "        \n",
    "        # Fit \n",
    "        print(f\"\\nTraining started with full pipeline for classifier #{n}/{len(classifiers)}...\")\n",
    "        pipe.fit(X_train, y_train)\n",
    "        \n",
    "\n",
    "        # Check1\n",
    "        print(f\"\\nCheck #{n}.1 complete.\")\n",
    "        print(f\"Details of the best model using classifier #{n} (GridSearchCV) on X_train: \")\n",
    "        print(f\"Best Params: {pipe.best_params_}\")\n",
    "        print(f\"Best Score: {pipe.best_score_}\")\n",
    "        \n",
    "        print(predict_on_missing_review_data(pipe, features, merged))    # Function defined above\n",
    "        \n",
    "        estimators.append((f\"classifier_{n}\", pipe))\n",
    "        print(f\"classifier_{n} successfully added to 'estimators' list\")\n",
    "\n",
    "        \n",
    "        # Predict on train data \n",
    "        y_train_pred = pipe.predict(X_train)\n",
    "        print(f\"Confusion matrix for predictions on training data: \")\n",
    "        print(confusion_matrix(y_train, y_train_pred))\n",
    "        f1_train = f1_score(y_train, y_train_pred, average=\"micro\")\n",
    "        print(f\"F1-score on training data: {f1_train}\")\n",
    "        \n",
    "        \n",
    "        # Predict on test.csv file\n",
    "        # Add new columns as needed \n",
    "        if add_countvec:\n",
    "            merged_test['reviewText_2'] = merged_test['reviewText']\n",
    "        if vocab:\n",
    "            merged_test['reviewText_3'] = merged_test['reviewText']\n",
    "        \n",
    "               \n",
    "        X_test = merged_test[features].copy()\n",
    "\n",
    "    \n",
    "        y_pred = pipe.predict(X_test)\n",
    "        \n",
    "        # Insert predictions in 'predictions_df' dataframe\n",
    "        predictions_df.insert(n-1, f\"pred_{n}\", y_pred, allow_duplicates=False)\n",
    "        print(predictions_df.shape)\n",
    "        print(predictions_df.head(10))\n",
    "        \n",
    "    \n",
    "        # Check2\n",
    "        print(f\"\\nCheck #{n}.2 complete.\")\n",
    "    #     cv_results_df = pd.DataFrame(pipe.cv_results_)\n",
    "        print(\"Details of the best model using full pipeline (GridSearchCV) on X_train: \")\n",
    "#         print(f\"Best Estimator: {pipe.best_estimator_}\")\n",
    "        print(f\"Best Params: {pipe.best_params_}\")\n",
    "        print(f\"Best Score: {pipe.best_score_}\")\n",
    "#         print(f\"Best Index: {pipe.best_index_}\")\n",
    "        print(f\"Refit Time: {pipe.refit_time_}\")\n",
    "    #     print(f\"Shape of CV results dataframe: {cv_results_df.shape}\")\n",
    "    \n",
    "    # Voting classifier (custom) with hard voting\n",
    "    # Calculate the MODE for all predictions (Note that the 'predictions_df' generated above should have odd number of columns)\n",
    "    pred_df_final = predictions_df.mode('columns')\n",
    "    pred_df_final.columns = [\"sentiment\"]\n",
    "    pred_df_final.index.name = \"id\"\n",
    "    pred_df_final.to_csv(\"submission.csv\")\n",
    "    \n",
    "    print(\"\\nSuccessfully created the submission file!!!\")\n",
    "    \n",
    "#     return pipe.cv_results_\n",
    "    return pred_df_final, estimators"
   ]
  },
  {
   "cell_type": "markdown",
   "id": "91286213",
   "metadata": {
    "papermill": {
     "duration": 0.101545,
     "end_time": "2023-08-12T09:32:21.968977",
     "exception": false,
     "start_time": "2023-08-12T09:32:21.867432",
     "status": "completed"
    },
    "tags": []
   },
   "source": [
    "## Use 'submit_v5' function  "
   ]
  },
  {
   "cell_type": "code",
   "execution_count": 105,
   "id": "83a7149b",
   "metadata": {
    "execution": {
     "iopub.execute_input": "2023-08-12T09:32:22.174114Z",
     "iopub.status.busy": "2023-08-12T09:32:22.172976Z",
     "iopub.status.idle": "2023-08-12T09:32:22.177525Z",
     "shell.execute_reply": "2023-08-12T09:32:22.176650Z"
    },
    "papermill": {
     "duration": 0.109228,
     "end_time": "2023-08-12T09:32:22.180074",
     "exception": false,
     "start_time": "2023-08-12T09:32:22.070846",
     "status": "completed"
    },
    "tags": []
   },
   "outputs": [],
   "source": [
    "# Try submit_v5 with default settings\n",
    "# submit_v5()"
   ]
  },
  {
   "cell_type": "code",
   "execution_count": 106,
   "id": "345a7856",
   "metadata": {
    "execution": {
     "iopub.execute_input": "2023-08-12T09:32:22.386676Z",
     "iopub.status.busy": "2023-08-12T09:32:22.386258Z",
     "iopub.status.idle": "2023-08-12T09:52:39.940638Z",
     "shell.execute_reply": "2023-08-12T09:52:39.936930Z"
    },
    "papermill": {
     "duration": 1217.721718,
     "end_time": "2023-08-12T09:52:40.002896",
     "exception": false,
     "start_time": "2023-08-12T09:32:22.281178",
     "status": "completed"
    },
    "tags": []
   },
   "outputs": [
    {
     "name": "stdout",
     "output_type": "stream",
     "text": [
      "\n",
      "Running the submit_v5 function...\n",
      "\n",
      "Check 1 (preprocessor) complete.\n",
      "Shape of X_train: (162758, 30)\n",
      "Features in X_train: Index(['movieid', 'reviewerName', 'isFrequentReviewer', 'reviewText',\n",
      "       'sentiment', 'title', 'audienceScore', 'rating', 'ratingContents',\n",
      "       'releaseDateTheaters', 'releaseDateStreaming', 'runtimeMinutes',\n",
      "       'genre', 'originalLanguage', 'director', 'boxOffice', 'distributor',\n",
      "       'soundType', 'reviewYN', 'reviewWC', 'genreSorted', 'rcSorted',\n",
      "       'releaseDate', 'releaseYear', 'releaseMonth', 'releaseDiff',\n",
      "       'audScoreBins', 'runtimeBins', 'boxOfficeBins', 'releaseDiffBins'],\n",
      "      dtype='object')\n",
      "\n",
      "Check 2 (preprocessor) complete.\n",
      "Shape of X_test: (55315, 29)\n",
      "Features in X_test: Index(['movieid', 'reviewerName', 'isFrequentReviewer', 'reviewText', 'title',\n",
      "       'audienceScore', 'rating', 'ratingContents', 'releaseDateTheaters',\n",
      "       'releaseDateStreaming', 'runtimeMinutes', 'genre', 'originalLanguage',\n",
      "       'director', 'boxOffice', 'distributor', 'soundType', 'reviewYN',\n",
      "       'reviewWC', 'genreSorted', 'rcSorted', 'releaseDate', 'releaseYear',\n",
      "       'releaseMonth', 'releaseDiff', 'audScoreBins', 'runtimeBins',\n",
      "       'boxOfficeBins', 'releaseDiffBins'],\n",
      "      dtype='object')\n",
      "Preprocessing of train and test datasets complete.\n",
      "Generating stop words/phrases specific for this project data...\n",
      "Generating vocabulary for ngram_range: (1, 3)...\n",
      "Size of vocabulary of training data: 2610596\n",
      "Generating stop words/phrases specific for this project data...\n",
      "Working on DF#1 in the list of DFs provided\n",
      "Generating vocabulary for ngram_range: (1, 1)...\n",
      "Vocabulary size for ngram-range (1, 1) in DF#1: 63881\n",
      "\n",
      "Words from the first df for ngram-range (1, 1) added.\n",
      "\n",
      "Working on DF#2 in the list of DFs provided\n",
      "Generating vocabulary for ngram_range: (1, 1)...\n",
      "Vocabulary size for ngram-range (1, 1) in DF#2: 42992\n",
      "\n",
      "Keeping only the common (intersection) words for ngram-range (1, 1)...\n",
      "Common vocabulary for ngram-range (1, 1): 35498\n",
      "\n",
      "Appended first time to final common vocabulary: ngram-range = (1, 1).\n",
      "\n",
      "Working on DF#1 in the list of DFs provided\n",
      "Generating vocabulary for ngram_range: (2, 2)...\n",
      "Vocabulary size for ngram-range (2, 2) in DF#1: 1130406\n",
      "\n",
      "Words from the first df for ngram-range (2, 2) added.\n",
      "\n",
      "Working on DF#2 in the list of DFs provided\n",
      "Generating vocabulary for ngram_range: (2, 2)...\n",
      "Vocabulary size for ngram-range (2, 2) in DF#2: 436174\n",
      "\n",
      "Keeping only the common (intersection) words for ngram-range (2, 2)...\n",
      "Common vocabulary for ngram-range (2, 2): 112530\n",
      "\n",
      "Fusing (union) with final common vocabulary: ngram-range = (2, 2).\n",
      "\n",
      "Working on DF#1 in the list of DFs provided\n",
      "Generating vocabulary for ngram_range: (3, 3)...\n",
      "Vocabulary size for ngram-range (3, 3) in DF#1: 1416309\n",
      "\n",
      "Words from the first df for ngram-range (3, 3) added.\n",
      "\n",
      "Working on DF#2 in the list of DFs provided\n",
      "Generating vocabulary for ngram_range: (3, 3)...\n",
      "Vocabulary size for ngram-range (3, 3) in DF#2: 488867\n",
      "\n",
      "Keeping only the common (intersection) words for ngram-range (3, 3)...\n",
      "Common vocabulary for ngram-range (3, 3): 22631\n",
      "\n",
      "Fusing (union) with final common vocabulary: ngram-range = (3, 3).\n",
      "\n",
      "Number of stop words: 170659\n",
      "Getting the vocabulary that will be fed to the final model(s)...\n",
      "Size of the final relevant vocabulary: 2439937\n",
      "\n",
      "Selected features: {'cat': ['isFrequentReviewer', 'audScoreBins', 'boxOfficeBins'], 'num': ['releaseDiff'], 'txt': ['reviewText', 'reviewerName', 'movieid', 'genre', 'director', 'ratingContents', 'distributor', 'reviewText_2', 'reviewText_3']}\n",
      "\n",
      "Pipeline built successfully.\n",
      "\n",
      "Full GridSearchCV pipeline built successfully.\n",
      "GridSearchCV(cv=10,\n",
      "             estimator=Pipeline(steps=[('ct',\n",
      "                                        ColumnTransformer(transformers=[('cat_isFrequentReviewer',\n",
      "                                                                         OneHotEncoder(handle_unknown='ignore',\n",
      "                                                                                       sparse_output=False),\n",
      "                                                                         ['isFrequentReviewer']),\n",
      "                                                                        ('cat_audScoreBins',\n",
      "                                                                         OneHotEncoder(handle_unknown='ignore',\n",
      "                                                                                       sparse_output=False),\n",
      "                                                                         ['audScoreBins']),\n",
      "                                                                        ('cat_boxOfficeBins',\n",
      "                                                                         OneHotEncoder(handle_unknown='ignore',\n",
      "                                                                                       sp...\n",
      "                                                                                                                      'spelling',\n",
      "                                                                                                                      'aarp',\n",
      "                                                                                                                      'ab',\n",
      "                                                                                                                      'abandon',\n",
      "                                                                                                                      'abandoned',\n",
      "                                                                                                                      'abandoned '\n",
      "                                                                                                                      'good',\n",
      "                                                                                                                      'abandoning',\n",
      "                                                                                                                      'abandoning '\n",
      "                                                                                                                      'logic',\n",
      "                                                                                                                      'abandoning '\n",
      "                                                                                                                      'traditional',\n",
      "                                                                                                                      'abandonment',\n",
      "                                                                                                                      'abandonment '\n",
      "                                                                                                                      'adoption', ...}))]),\n",
      "                                                                         'reviewText_3')])),\n",
      "                                       ('model',\n",
      "                                        SGDClassifier(loss='log_loss',\n",
      "                                                      max_iter=1000000,\n",
      "                                                      n_iter_no_change=100,\n",
      "                                                      n_jobs=-1,\n",
      "                                                      tol=0.0001))]),\n",
      "             n_jobs=-1, param_grid={'model__alpha': [0.0001]},\n",
      "             scoring='f1_micro')\n",
      "\n",
      "Training started with full pipeline for classifier #1/1...\n",
      "\n",
      "Check #1.1 complete.\n",
      "Details of the best model using classifier #1 (GridSearchCV) on X_train: \n",
      "Best Params: {'model__alpha': 0.0001}\n",
      "Best Score: 0.8404010862544308\n",
      "Confusion matrix and f1-score for rows which have no reviewText in X_train: \n",
      "[[1451  954]\n",
      " [ 681 3361]]\n",
      "0.7463936714751047\n",
      "classifier_1 successfully added to 'estimators' list\n",
      "Confusion matrix for predictions on training data: \n",
      "[[ 48824   5173]\n",
      " [  2962 105799]]\n",
      "F1-score on training data: 0.9500178178645595\n",
      "(55315, 1)\n",
      "     pred_1\n",
      "0  POSITIVE\n",
      "1  POSITIVE\n",
      "2  POSITIVE\n",
      "3  POSITIVE\n",
      "4  POSITIVE\n",
      "5  POSITIVE\n",
      "6  POSITIVE\n",
      "7  NEGATIVE\n",
      "8  NEGATIVE\n",
      "9  NEGATIVE\n",
      "\n",
      "Check #1.2 complete.\n",
      "Details of the best model using full pipeline (GridSearchCV) on X_train: \n",
      "Best Params: {'model__alpha': 0.0001}\n",
      "Best Score: 0.8404010862544308\n",
      "Refit Time: 198.03032565116882\n",
      "\n",
      "Successfully created the submission file!!!\n"
     ]
    }
   ],
   "source": [
    "# Testing ONE classfier using submit_v5 function  \n",
    "\n",
    "# Feature dictionaries\n",
    "sfs = {'cat': ['isFrequentReviewer', 'rating'],\n",
    "       'num': [\"audienceScore\", \"runtimeMinutes\", \"boxOffice\", 'releaseDiff']}\n",
    "\n",
    "sf_best = {'cat': ['isFrequentReviewer'],\n",
    "            'num': [\"audienceScore\", \"boxOffice\", 'releaseDiff'],\n",
    "            'txt': ['reviewText', 'reviewerName', 'movieid', 'genre', 'director', \n",
    "                         'ratingContents', 'distributor']}\n",
    "\n",
    "alt_text = {'txt': ['reviewerName', 'movieid', 'genre', 'director', \n",
    "                         'ratingContents', 'distributor']}\n",
    "\n",
    "v88_dict = {'cat': ['isFrequentReviewer', 'audScoreBins', 'boxOfficeBins'],\n",
    "            'num': ['releaseDiff'],\n",
    "            'txt': ['reviewText', 'reviewerName', 'movieid', 'genre', 'director', \n",
    "                         'ratingContents', 'distributor']}\n",
    "\n",
    "# SGDClassifier hyperparameters  \n",
    "# \"model__loss\": ['hinge', 'log_loss', 'modified_huber', \n",
    "#                                                   'squared_hinge', 'perceptron', \n",
    "#                                                   'squared_error', 'huber', \n",
    "#                                                   'epsilon_insensitive', 'squared_epsilon_insensitive']\n",
    "\n",
    "# 'param_grid' : {\"model__alpha\": [0.0001], \n",
    "#                   'model__tol': [0.0001],\n",
    "#                   \"model__penalty\": [\"l2\"],\n",
    "#                   \"model__n_iter_no_change\": [100],\n",
    "#                  }\n",
    "\n",
    "# Best models \n",
    "# For sf_best features\n",
    "#                 {'selected_model' : SGDClassifier(loss='hinge', \n",
    "#                                      max_iter=1000000,\n",
    "#                                      alpha = 0.0001,\n",
    "#                                      tol = 0.0001,\n",
    "#                                      penalty = \"l2\",\n",
    "#                                      n_iter_no_change = 100,\n",
    "#                                      n_jobs = -1), \n",
    "#                   'selected_features' : sf_best, \n",
    "#                   'param_grid' : {\"model__alpha\": [ 0.0001]},\n",
    "#                   'vocab' : True,\n",
    "#                   'vocab_usage' : 'tfidf',\n",
    "#                   'strip_accents' : 'unicode', \n",
    "#                   'add_countvec' : True},\n",
    "\n",
    "# For sfs features\n",
    "#                 {'selected_model' : RandomForestClassifier(n_jobs = -1), \n",
    "#                   'selected_features' : sfs, \n",
    "#                   'param_grid': {'model__n_estimators': [100]},\n",
    "#                   'vocab' : None,\n",
    "#                   'vocab_usage' : 'tfidf',\n",
    "#                   'strip_accents' : 'unicode', \n",
    "#                   'add_countvec' : False}\n",
    "\n",
    "# Best SGD classifer (with params)  \n",
    "sgdc = SGDClassifier(loss='log_loss', \n",
    "                     max_iter=1000000,\n",
    "                     alpha = 0.0001,\n",
    "                     tol = 0.0001,\n",
    "                     penalty = \"l2\",\n",
    "                     n_iter_no_change = 100,\n",
    "                     n_jobs = -1)\n",
    "\n",
    "# Classifiers\n",
    "classifiers= [   \n",
    "                {'selected_model' : sgdc, \n",
    "                  'selected_features' : v88_dict, \n",
    "                  'param_grid' : {\"model__alpha\": [0.0001]},\n",
    "                  'vocab' : True,\n",
    "                  'vocab_usage' : 'tfidf',\n",
    "                  'strip_accents' : 'unicode', \n",
    "                  'add_countvec' : True}\n",
    "            ]\n",
    "\n",
    "# classifiers= [\n",
    "#                 {'selected_model' : LogisticRegression(C=1, solver='saga', max_iter=100000), \n",
    "#                   'selected_features' : {'txt': [\"reviewText\"]}, \n",
    "#                   'param_grid' : {\"model__C\": [1], \n",
    "#                                   'model__solver': ['saga']},\n",
    "#                   'vocab' : None,\n",
    "#                   'vocab_usage' : 'tfidf',\n",
    "#                   'strip_accents' : 'unicode', \n",
    "#                   'add_countvec' : False},\n",
    "#             ]\n",
    "\n",
    "pred_df, estimators = submit_v5(classifiers=classifiers)"
   ]
  },
  {
   "cell_type": "code",
   "execution_count": 107,
   "id": "2d1d63b4",
   "metadata": {
    "execution": {
     "iopub.execute_input": "2023-08-12T09:52:40.219908Z",
     "iopub.status.busy": "2023-08-12T09:52:40.219488Z",
     "iopub.status.idle": "2023-08-12T09:52:40.227007Z",
     "shell.execute_reply": "2023-08-12T09:52:40.226148Z"
    },
    "papermill": {
     "duration": 0.11476,
     "end_time": "2023-08-12T09:52:40.229892",
     "exception": false,
     "start_time": "2023-08-12T09:52:40.115132",
     "status": "completed"
    },
    "tags": []
   },
   "outputs": [
    {
     "name": "stdout",
     "output_type": "stream",
     "text": [
      "(55315, 1)\n",
      "   sentiment\n",
      "id          \n",
      "0   POSITIVE\n",
      "1   POSITIVE\n",
      "2   POSITIVE\n",
      "3   POSITIVE\n",
      "4   POSITIVE\n"
     ]
    }
   ],
   "source": [
    "print(pred_df.shape)\n",
    "print(pred_df.head())"
   ]
  },
  {
   "cell_type": "code",
   "execution_count": 108,
   "id": "7edf6472",
   "metadata": {
    "execution": {
     "iopub.execute_input": "2023-08-12T09:52:40.439551Z",
     "iopub.status.busy": "2023-08-12T09:52:40.439088Z",
     "iopub.status.idle": "2023-08-12T09:52:40.444144Z",
     "shell.execute_reply": "2023-08-12T09:52:40.442940Z"
    },
    "papermill": {
     "duration": 0.112826,
     "end_time": "2023-08-12T09:52:40.446711",
     "exception": false,
     "start_time": "2023-08-12T09:52:40.333885",
     "status": "completed"
    },
    "tags": []
   },
   "outputs": [],
   "source": [
    "# estimators"
   ]
  },
  {
   "cell_type": "code",
   "execution_count": 109,
   "id": "89f921a1",
   "metadata": {
    "execution": {
     "iopub.execute_input": "2023-08-12T09:52:40.660411Z",
     "iopub.status.busy": "2023-08-12T09:52:40.659913Z",
     "iopub.status.idle": "2023-08-12T09:52:40.666395Z",
     "shell.execute_reply": "2023-08-12T09:52:40.665435Z"
    },
    "papermill": {
     "duration": 0.119568,
     "end_time": "2023-08-12T09:52:40.670790",
     "exception": false,
     "start_time": "2023-08-12T09:52:40.551222",
     "status": "completed"
    },
    "tags": []
   },
   "outputs": [
    {
     "name": "stdout",
     "output_type": "stream",
     "text": [
      "Number of estimators: 1\n",
      "\n",
      "Estimator: classifier_1\n",
      "{'model__alpha': 0.0001}\n",
      "0.8404010862544308\n",
      "198.03032565116882\n",
      "\n"
     ]
    }
   ],
   "source": [
    "print(f\"Number of estimators: {len(estimators)}\\n\")\n",
    "for est in estimators:\n",
    "    print(f\"Estimator: {est[0]}\")\n",
    "#     print(est[1].best_estimator_)\n",
    "    print(est[1].best_params_)\n",
    "    print(est[1].best_score_)\n",
    "    print(est[1].refit_time_)\n",
    "    print()"
   ]
  },
  {
   "cell_type": "code",
   "execution_count": 110,
   "id": "39212e6d",
   "metadata": {
    "execution": {
     "iopub.execute_input": "2023-08-12T09:52:40.882752Z",
     "iopub.status.busy": "2023-08-12T09:52:40.882360Z",
     "iopub.status.idle": "2023-08-12T09:52:40.889704Z",
     "shell.execute_reply": "2023-08-12T09:52:40.888242Z"
    },
    "papermill": {
     "duration": 0.116925,
     "end_time": "2023-08-12T09:52:40.892424",
     "exception": false,
     "start_time": "2023-08-12T09:52:40.775499",
     "status": "completed"
    },
    "tags": []
   },
   "outputs": [],
   "source": [
    "# Testing full capabilites of submit_v5  \n",
    "\n",
    "# # Feature dictionaries\n",
    "# sf1 = {'cat': ['isFrequentReviewer', 'rating'],\n",
    "#        'num': [\"audienceScore\", \"runtimeMinutes\", \"boxOffice\"]}\n",
    "\n",
    "# sf2 = {'cat': ['isFrequentReviewer', 'rating'],\n",
    "#        'num': [\"audienceScore\", \"runtimeMinutes\", \"boxOffice\"]}\n",
    "\n",
    "# sf3 = {'cat': ['isFrequentReviewer'],\n",
    "#         'num': ['releaseDiff', 'audienceScore', 'boxOffice'],\n",
    "#         'txt': ['reviewText', 'reviewerName', 'movieid', 'genre', 'director', \n",
    "#                          'ratingContents', 'distributor']}\n",
    "\n",
    "# # Individual classifiers\n",
    "# clf1 =  {'selected_model' : AdaBoostClassifier(), \n",
    "#           'selected_features' : sf1, \n",
    "#           'param_grid' : {\"model__n_estimators\": [50]},\n",
    "#           'vocab' : None,\n",
    "#           'vocab_usage' : 'tfidf',\n",
    "#           'strip_accents' : 'unicode', \n",
    "#           'add_countvec' : False}\n",
    "\n",
    "# clf2 =  {'selected_model' : RandomForestClassifier(), \n",
    "#           'selected_features' : sf2,\n",
    "#           'param_grid' : {\"model__n_estimators\": [50], \n",
    "#                           'model__criterion': ['gini']},\n",
    "#           'vocab' : None,\n",
    "#           'vocab_usage' : 'tfidf',\n",
    "#           'strip_accents' : 'unicode', \n",
    "#           'add_countvec' : False}\n",
    "\n",
    "# clf3 =  {'selected_model' : LogisticRegression(C=1, solver='saga', max_iter=100000), \n",
    "#           'selected_features' : sf3, \n",
    "#           'param_grid' : {'model__C' : [1],\n",
    "#                             'model__solver': ['saga'],\n",
    "#                             \"model__fit_intercept\" : [True],\n",
    "#                             \"model__dual\" : [False]},\n",
    "#           'vocab' : None,\n",
    "#           'vocab_usage' : 'tfidf',\n",
    "#           'strip_accents' : 'unicode', \n",
    "#           'add_countvec' : True}\n",
    "\n",
    "\n",
    "# # List of classifiers for voting\n",
    "# classifiers= [clf1, clf2, clf3]\n",
    "\n",
    "# # Final predictions \n",
    "# pred_df = submit_v5(classifiers=classifiers)"
   ]
  },
  {
   "cell_type": "code",
   "execution_count": 111,
   "id": "8679995a",
   "metadata": {
    "execution": {
     "iopub.execute_input": "2023-08-12T09:52:41.109075Z",
     "iopub.status.busy": "2023-08-12T09:52:41.108674Z",
     "iopub.status.idle": "2023-08-12T09:52:41.124107Z",
     "shell.execute_reply": "2023-08-12T09:52:41.122129Z"
    },
    "papermill": {
     "duration": 0.126829,
     "end_time": "2023-08-12T09:52:41.127368",
     "exception": false,
     "start_time": "2023-08-12T09:52:41.000539",
     "status": "completed"
    },
    "tags": []
   },
   "outputs": [
    {
     "name": "stdout",
     "output_type": "stream",
     "text": [
      "(55315, 1)\n"
     ]
    },
    {
     "data": {
      "text/html": [
       "<div>\n",
       "<style scoped>\n",
       "    .dataframe tbody tr th:only-of-type {\n",
       "        vertical-align: middle;\n",
       "    }\n",
       "\n",
       "    .dataframe tbody tr th {\n",
       "        vertical-align: top;\n",
       "    }\n",
       "\n",
       "    .dataframe thead th {\n",
       "        text-align: right;\n",
       "    }\n",
       "</style>\n",
       "<table border=\"1\" class=\"dataframe\">\n",
       "  <thead>\n",
       "    <tr style=\"text-align: right;\">\n",
       "      <th></th>\n",
       "      <th>sentiment</th>\n",
       "    </tr>\n",
       "    <tr>\n",
       "      <th>id</th>\n",
       "      <th></th>\n",
       "    </tr>\n",
       "  </thead>\n",
       "  <tbody>\n",
       "    <tr>\n",
       "      <th>0</th>\n",
       "      <td>POSITIVE</td>\n",
       "    </tr>\n",
       "    <tr>\n",
       "      <th>1</th>\n",
       "      <td>POSITIVE</td>\n",
       "    </tr>\n",
       "    <tr>\n",
       "      <th>2</th>\n",
       "      <td>POSITIVE</td>\n",
       "    </tr>\n",
       "    <tr>\n",
       "      <th>3</th>\n",
       "      <td>POSITIVE</td>\n",
       "    </tr>\n",
       "    <tr>\n",
       "      <th>4</th>\n",
       "      <td>POSITIVE</td>\n",
       "    </tr>\n",
       "    <tr>\n",
       "      <th>...</th>\n",
       "      <td>...</td>\n",
       "    </tr>\n",
       "    <tr>\n",
       "      <th>55310</th>\n",
       "      <td>POSITIVE</td>\n",
       "    </tr>\n",
       "    <tr>\n",
       "      <th>55311</th>\n",
       "      <td>POSITIVE</td>\n",
       "    </tr>\n",
       "    <tr>\n",
       "      <th>55312</th>\n",
       "      <td>NEGATIVE</td>\n",
       "    </tr>\n",
       "    <tr>\n",
       "      <th>55313</th>\n",
       "      <td>POSITIVE</td>\n",
       "    </tr>\n",
       "    <tr>\n",
       "      <th>55314</th>\n",
       "      <td>NEGATIVE</td>\n",
       "    </tr>\n",
       "  </tbody>\n",
       "</table>\n",
       "<p>55315 rows × 1 columns</p>\n",
       "</div>"
      ],
      "text/plain": [
       "      sentiment\n",
       "id             \n",
       "0      POSITIVE\n",
       "1      POSITIVE\n",
       "2      POSITIVE\n",
       "3      POSITIVE\n",
       "4      POSITIVE\n",
       "...         ...\n",
       "55310  POSITIVE\n",
       "55311  POSITIVE\n",
       "55312  NEGATIVE\n",
       "55313  POSITIVE\n",
       "55314  NEGATIVE\n",
       "\n",
       "[55315 rows x 1 columns]"
      ]
     },
     "execution_count": 111,
     "metadata": {},
     "output_type": "execute_result"
    }
   ],
   "source": [
    "print(pred_df.shape)\n",
    "pred_df"
   ]
  },
  {
   "cell_type": "code",
   "execution_count": 112,
   "id": "3a51f29a",
   "metadata": {
    "execution": {
     "iopub.execute_input": "2023-08-12T09:52:41.337718Z",
     "iopub.status.busy": "2023-08-12T09:52:41.337318Z",
     "iopub.status.idle": "2023-08-12T09:52:41.342135Z",
     "shell.execute_reply": "2023-08-12T09:52:41.340938Z"
    },
    "papermill": {
     "duration": 0.113027,
     "end_time": "2023-08-12T09:52:41.344641",
     "exception": false,
     "start_time": "2023-08-12T09:52:41.231614",
     "status": "completed"
    },
    "tags": []
   },
   "outputs": [],
   "source": [
    "# pred_df_mode = pred_df.mode(axis='columns')\n",
    "# print(pred_df_mode.shape)\n",
    "# pred_df_mode"
   ]
  },
  {
   "cell_type": "code",
   "execution_count": 113,
   "id": "2a9eb926",
   "metadata": {
    "execution": {
     "iopub.execute_input": "2023-08-12T09:52:41.554455Z",
     "iopub.status.busy": "2023-08-12T09:52:41.554045Z",
     "iopub.status.idle": "2023-08-12T09:52:41.572275Z",
     "shell.execute_reply": "2023-08-12T09:52:41.571076Z"
    },
    "papermill": {
     "duration": 0.126225,
     "end_time": "2023-08-12T09:52:41.574898",
     "exception": false,
     "start_time": "2023-08-12T09:52:41.448673",
     "status": "completed"
    },
    "tags": []
   },
   "outputs": [
    {
     "data": {
      "text/plain": [
       "sentiment\n",
       "POSITIVE     39147\n",
       "NEGATIVE     16168\n",
       "dtype: int64"
      ]
     },
     "execution_count": 113,
     "metadata": {},
     "output_type": "execute_result"
    }
   ],
   "source": [
    "pred_df.value_counts()"
   ]
  },
  {
   "cell_type": "markdown",
   "id": "9225c35e",
   "metadata": {
    "papermill": {
     "duration": 0.104249,
     "end_time": "2023-08-12T09:52:41.786191",
     "exception": false,
     "start_time": "2023-08-12T09:52:41.681942",
     "status": "completed"
    },
    "tags": []
   },
   "source": [
    "# NOTE: Move submit_v4 submissions below the suubmit_v4 function  "
   ]
  },
  {
   "cell_type": "code",
   "execution_count": 114,
   "id": "7ac76b5f",
   "metadata": {
    "execution": {
     "iopub.execute_input": "2023-08-12T09:52:41.996868Z",
     "iopub.status.busy": "2023-08-12T09:52:41.996460Z",
     "iopub.status.idle": "2023-08-12T09:52:42.001549Z",
     "shell.execute_reply": "2023-08-12T09:52:42.000252Z"
    },
    "papermill": {
     "duration": 0.114214,
     "end_time": "2023-08-12T09:52:42.004280",
     "exception": false,
     "start_time": "2023-08-12T09:52:41.890066",
     "status": "completed"
    },
    "tags": []
   },
   "outputs": [],
   "source": [
    "# Try 'submit_v4' function with default params (LogisticRegression model)  \n",
    "\n",
    "# submit_v4()\n",
    "\n",
    "#Default params to this function gave a score of 0.8259 - improvement over previous score of 0.82563!"
   ]
  },
  {
   "cell_type": "code",
   "execution_count": 115,
   "id": "4890ef74",
   "metadata": {
    "execution": {
     "iopub.execute_input": "2023-08-12T09:52:42.214030Z",
     "iopub.status.busy": "2023-08-12T09:52:42.213648Z",
     "iopub.status.idle": "2023-08-12T09:52:42.218286Z",
     "shell.execute_reply": "2023-08-12T09:52:42.217130Z"
    },
    "papermill": {
     "duration": 0.112291,
     "end_time": "2023-08-12T09:52:42.220884",
     "exception": false,
     "start_time": "2023-08-12T09:52:42.108593",
     "status": "completed"
    },
    "tags": []
   },
   "outputs": [],
   "source": [
    "# Try out GridSearchCV on \"submit_v4\" function with param_grid  \n",
    "# param_grid = {\n",
    "#     \"model__C\": [0.1, 1, 5, 10]\n",
    "# }\n",
    "\n",
    "# submit_v4(selected_features={'txt': ['genre']}, param_grid=param_grid)"
   ]
  },
  {
   "cell_type": "markdown",
   "id": "76142fb2",
   "metadata": {
    "papermill": {
     "duration": 0.104763,
     "end_time": "2023-08-12T09:52:42.432728",
     "exception": false,
     "start_time": "2023-08-12T09:52:42.327965",
     "status": "completed"
    },
    "tags": []
   },
   "source": [
    "### Try LinearSVC with GridSearchCV  "
   ]
  },
  {
   "cell_type": "code",
   "execution_count": 116,
   "id": "dc1b2b3f",
   "metadata": {
    "execution": {
     "iopub.execute_input": "2023-08-12T09:52:42.722705Z",
     "iopub.status.busy": "2023-08-12T09:52:42.722320Z",
     "iopub.status.idle": "2023-08-12T09:52:42.726908Z",
     "shell.execute_reply": "2023-08-12T09:52:42.725709Z"
    },
    "papermill": {
     "duration": 0.190563,
     "end_time": "2023-08-12T09:52:42.729436",
     "exception": false,
     "start_time": "2023-08-12T09:52:42.538873",
     "status": "completed"
    },
    "tags": []
   },
   "outputs": [],
   "source": [
    "# all_dict = {'cat': [\"isFrequentReviewer\", \"rating\", \"originalLanguage\"],\n",
    "#              'num': [\"audienceScore\", \"runtimeMinutes\", \"boxOffice\"],\n",
    "#              'txt': ['reviewText', 'reviewerName', 'movieid', 'genre', 'director']}\n",
    "\n",
    "# param_grid_svc = {\n",
    "#     \"model__C\": [0.1, 1, 10, 100]\n",
    "# }\n",
    "# param_grid_svc"
   ]
  },
  {
   "cell_type": "code",
   "execution_count": 117,
   "id": "4ed50876",
   "metadata": {
    "execution": {
     "iopub.execute_input": "2023-08-12T09:52:42.938646Z",
     "iopub.status.busy": "2023-08-12T09:52:42.938236Z",
     "iopub.status.idle": "2023-08-12T09:52:42.942745Z",
     "shell.execute_reply": "2023-08-12T09:52:42.941537Z"
    },
    "papermill": {
     "duration": 0.112019,
     "end_time": "2023-08-12T09:52:42.945053",
     "exception": false,
     "start_time": "2023-08-12T09:52:42.833034",
     "status": "completed"
    },
    "tags": []
   },
   "outputs": [],
   "source": [
    "# LinearSCV on single feature  \n",
    "\n",
    "# submit_v4(selected_model=LinearSVC(max_iter=100000, random_state=42), selected_features={'num': [\"audienceScore\"]}, param_grid=param_grid_svc)\n",
    "\n",
    "# Comment: LinearSVC even on single column feature set takes too long to converge."
   ]
  },
  {
   "cell_type": "code",
   "execution_count": 118,
   "id": "95f2a634",
   "metadata": {
    "execution": {
     "iopub.execute_input": "2023-08-12T09:52:43.158267Z",
     "iopub.status.busy": "2023-08-12T09:52:43.157426Z",
     "iopub.status.idle": "2023-08-12T09:52:43.161911Z",
     "shell.execute_reply": "2023-08-12T09:52:43.161006Z"
    },
    "papermill": {
     "duration": 0.112075,
     "end_time": "2023-08-12T09:52:43.164260",
     "exception": false,
     "start_time": "2023-08-12T09:52:43.052185",
     "status": "completed"
    },
    "tags": []
   },
   "outputs": [],
   "source": [
    "# LinearSCV on all available features\n",
    "\n",
    "# submit_v4(selected_model=LinearSVC(max_iter=100000, random_state=42), selected_features=all_dict, param_grid=param_grid_svc)\n",
    "\n",
    "# (Update): This took 66 mins to run and gave a public score of 0.84295 (lesser than logreg gridsearchcv wwhich gave 0.84441). Best C was 1.0.\n"
   ]
  },
  {
   "cell_type": "markdown",
   "id": "2d613948",
   "metadata": {
    "papermill": {
     "duration": 0.103779,
     "end_time": "2023-08-12T09:52:43.372211",
     "exception": false,
     "start_time": "2023-08-12T09:52:43.268432",
     "status": "completed"
    },
    "tags": []
   },
   "source": [
    "### Boosting techniques  "
   ]
  },
  {
   "cell_type": "code",
   "execution_count": 119,
   "id": "9658a753",
   "metadata": {
    "execution": {
     "iopub.execute_input": "2023-08-12T09:52:43.588561Z",
     "iopub.status.busy": "2023-08-12T09:52:43.587695Z",
     "iopub.status.idle": "2023-08-12T09:52:43.592477Z",
     "shell.execute_reply": "2023-08-12T09:52:43.591418Z"
    },
    "papermill": {
     "duration": 0.115938,
     "end_time": "2023-08-12T09:52:43.594900",
     "exception": false,
     "start_time": "2023-08-12T09:52:43.478962",
     "status": "completed"
    },
    "tags": []
   },
   "outputs": [],
   "source": [
    "# adc = AdaBoostClassifier(estimator=LogisticRegression(C=5, solver=\"saga\", max_iter=100000), n_estimators=50)\n",
    "# adc"
   ]
  },
  {
   "cell_type": "code",
   "execution_count": 120,
   "id": "b3c755be",
   "metadata": {
    "execution": {
     "iopub.execute_input": "2023-08-12T09:52:43.810034Z",
     "iopub.status.busy": "2023-08-12T09:52:43.809274Z",
     "iopub.status.idle": "2023-08-12T09:52:43.813722Z",
     "shell.execute_reply": "2023-08-12T09:52:43.812905Z"
    },
    "papermill": {
     "duration": 0.114398,
     "end_time": "2023-08-12T09:52:43.815915",
     "exception": false,
     "start_time": "2023-08-12T09:52:43.701517",
     "status": "completed"
    },
    "tags": []
   },
   "outputs": [],
   "source": [
    "# submit_v4(selected_model=adc, selected_features={'num': [\"audienceScore\"]}, param_grid=None)"
   ]
  },
  {
   "cell_type": "code",
   "execution_count": 121,
   "id": "be448635",
   "metadata": {
    "execution": {
     "iopub.execute_input": "2023-08-12T09:52:44.027338Z",
     "iopub.status.busy": "2023-08-12T09:52:44.026880Z",
     "iopub.status.idle": "2023-08-12T09:52:44.031748Z",
     "shell.execute_reply": "2023-08-12T09:52:44.030498Z"
    },
    "papermill": {
     "duration": 0.112773,
     "end_time": "2023-08-12T09:52:44.034106",
     "exception": false,
     "start_time": "2023-08-12T09:52:43.921333",
     "status": "completed"
    },
    "tags": []
   },
   "outputs": [],
   "source": [
    "# submit_v4(selected_model=adc, selected_features=all_dict, param_grid=None)\n",
    "\n",
    "# Took 1 hour 15 mins to run and gave a public score of only 0.71089. Discarded."
   ]
  },
  {
   "cell_type": "markdown",
   "id": "66ad5c26",
   "metadata": {
    "papermill": {
     "duration": 0.103169,
     "end_time": "2023-08-12T09:52:44.240488",
     "exception": false,
     "start_time": "2023-08-12T09:52:44.137319",
     "status": "completed"
    },
    "tags": []
   },
   "source": [
    "### LightGBM  "
   ]
  },
  {
   "cell_type": "code",
   "execution_count": 122,
   "id": "cadcb2d5",
   "metadata": {
    "execution": {
     "iopub.execute_input": "2023-08-12T09:52:44.457077Z",
     "iopub.status.busy": "2023-08-12T09:52:44.456363Z",
     "iopub.status.idle": "2023-08-12T09:52:44.460909Z",
     "shell.execute_reply": "2023-08-12T09:52:44.460103Z"
    },
    "papermill": {
     "duration": 0.117746,
     "end_time": "2023-08-12T09:52:44.463286",
     "exception": false,
     "start_time": "2023-08-12T09:52:44.345540",
     "status": "completed"
    },
    "tags": []
   },
   "outputs": [],
   "source": [
    "# lgb = ltb.LGBMClassifier()\n",
    "# lgb"
   ]
  },
  {
   "cell_type": "code",
   "execution_count": 123,
   "id": "ce13729a",
   "metadata": {
    "execution": {
     "iopub.execute_input": "2023-08-12T09:52:44.672419Z",
     "iopub.status.busy": "2023-08-12T09:52:44.671969Z",
     "iopub.status.idle": "2023-08-12T09:52:44.677318Z",
     "shell.execute_reply": "2023-08-12T09:52:44.676003Z"
    },
    "papermill": {
     "duration": 0.113412,
     "end_time": "2023-08-12T09:52:44.680259",
     "exception": false,
     "start_time": "2023-08-12T09:52:44.566847",
     "status": "completed"
    },
    "tags": []
   },
   "outputs": [],
   "source": [
    "# Try LightGBM with default settings\n",
    "# (Update): Public score only 0.77713. It was fast, took less than 5 mins (without GridSearchCV)\n",
    "\n",
    "# submit_v4(selected_model=ltb.LGBMClassifier(), selected_features=all_dict, param_grid=None)"
   ]
  },
  {
   "cell_type": "markdown",
   "id": "60195d5e",
   "metadata": {
    "papermill": {
     "duration": 0.105518,
     "end_time": "2023-08-12T09:52:44.892793",
     "exception": false,
     "start_time": "2023-08-12T09:52:44.787275",
     "status": "completed"
    },
    "tags": []
   },
   "source": [
    "## Feature Engineering"
   ]
  },
  {
   "cell_type": "markdown",
   "id": "a93bfbb5",
   "metadata": {
    "papermill": {
     "duration": 0.105997,
     "end_time": "2023-08-12T09:52:45.104710",
     "exception": false,
     "start_time": "2023-08-12T09:52:44.998713",
     "status": "completed"
    },
    "tags": []
   },
   "source": [
    "### Plan  \n",
    "* Add a new column 'reviewWC' which has word count of 'reviewText'  \n",
    "    * Check if there is any relationship between 'reviewWC' and 'sentiment'\n",
    "* Work on vocabulary\n",
    "     * Use TfidfVectorizer and find out the vocabulary of 'reviewText' column for various ngrams\n",
    "     * Use RecursiveFeatureElimination (RFE) or RFECV to select 1000 top words/vocab for each ngram\n",
    "     * Use the final vocab (1000-3000 words) in the model and see how it performs compared to whole vocab\n",
    "\n",
    "`(Update): Code incorporated into the \"select_features\" function  `  \n",
    "`(Update): Many other new features incorporated into the \"select_features\" function too  `  \n",
    "\n"
   ]
  },
  {
   "cell_type": "markdown",
   "id": "6675438f",
   "metadata": {
    "papermill": {
     "duration": 0.105035,
     "end_time": "2023-08-12T09:52:45.313366",
     "exception": false,
     "start_time": "2023-08-12T09:52:45.208331",
     "status": "completed"
    },
    "tags": []
   },
   "source": [
    "# Back to vocab after success of version 63  "
   ]
  },
  {
   "cell_type": "code",
   "execution_count": 124,
   "id": "d9d15b23",
   "metadata": {
    "execution": {
     "iopub.execute_input": "2023-08-12T09:52:45.526528Z",
     "iopub.status.busy": "2023-08-12T09:52:45.526132Z",
     "iopub.status.idle": "2023-08-12T09:52:45.549632Z",
     "shell.execute_reply": "2023-08-12T09:52:45.548201Z"
    },
    "papermill": {
     "duration": 0.133456,
     "end_time": "2023-08-12T09:52:45.552481",
     "exception": false,
     "start_time": "2023-08-12T09:52:45.419025",
     "status": "completed"
    },
    "tags": []
   },
   "outputs": [],
   "source": [
    "def submit_v4(selected_model=LogisticRegression(C=1, solver='liblinear', max_iter=100000), \n",
    "              selected_features={'txt': ['reviewText']}, \n",
    "              param_grid=None,\n",
    "              vocab=None,\n",
    "              vocab_usage='tfidf',\n",
    "              strip_accents='unicode', \n",
    "              add_countvec=False):\n",
    "    \n",
    "    print(\"\\nRunning the submit_v4 function...\")\n",
    "    \n",
    "    # Fine tune selected_features\n",
    "    if add_countvec:\n",
    "        if 'txt' in selected_features.keys():\n",
    "            if \"reviewText_2\" not in selected_features['txt']:\n",
    "                selected_features['txt'].append('reviewText_2')\n",
    "    if vocab:\n",
    "        if 'txt' in selected_features.keys():\n",
    "            if \"reviewText_3\" not in selected_features['txt']:\n",
    "                selected_features['txt'].append('reviewText_3')\n",
    "    print(f\"\\nSelected features: {selected_features}\")\n",
    "\n",
    "    \n",
    "    \n",
    "    # Build Pipeline\n",
    "    pipe = build_pipeline(selected_model, selected_features, param_grid=param_grid, \n",
    "                          vocab=vocab, vocab_usage='tfidf', \n",
    "                          strip_accents=strip_accents, add_countvec=add_countvec)\n",
    "    print(pipe)\n",
    "\n",
    "    \n",
    "    \n",
    "    # Features list\n",
    "    features = []\n",
    "    for item in selected_features.values():\n",
    "        features.extend(item)\n",
    " \n",
    "\n",
    "    # Merge and preprocess train and movies data  \n",
    "    merged = select_features(load_csv(\"train\"), load_csv(\"movies\"), row_thresh_null=None)    # Decide if you want to drop any rows containing lot of nulls\n",
    "    # Impute missing numerical values  \n",
    "    # Simple Imputer for ['audienceScore', 'runtimeMinutes', 'boxOffice'] and 'releaseDate' columns\n",
    "    si = SimpleImputer(strategy='median')\n",
    "    merged[['audienceScore', 'runtimeMinutes', 'boxOffice']] = si.fit_transform(merged[['audienceScore', 'runtimeMinutes', 'boxOffice']])\n",
    "    merged['releaseDate'] = merged[\"releaseDate\"].fillna(merged[\"releaseDate\"].median())    \n",
    "    # Add new columns as needed  \n",
    "    if add_countvec:\n",
    "        merged['reviewText_2'] = merged['reviewText']\n",
    "    if vocab:\n",
    "        merged['reviewText_3'] = merged['reviewText']\n",
    "        \n",
    "    X_train = merged.drop(labels=\"sentiment\", axis=1)\n",
    "    y_train = merged[\"sentiment\"]\n",
    "\n",
    "    X_train = X_train[features]\n",
    "    \n",
    "    \n",
    "    # Check1\n",
    "    print(\"\\nCheck 1 complete.\")\n",
    "    print(f\"Shape of X_train: {X_train.shape}\")\n",
    "    print(f\"Features in X_train: {X_train.columns}\")\n",
    "#     print(X_train.head())\n",
    "    \n",
    "    \n",
    "    # Fit \n",
    "    print(\"\\nTraining started with full pipeline...\")\n",
    "    pipe.fit(X_train, y_train)\n",
    "    \n",
    "    # Check2\n",
    "    print(\"\\nCheck 2 complete.\")\n",
    "    print(\"Details of the best model using full pipeline (GridSearchCV) on X_train: \")\n",
    "    print(f\"Best Params: {pipe.best_params_}\")\n",
    "    print(f\"Best Score: {pipe.best_score_}\")\n",
    "    \n",
    "    print(predict_on_missing_review_data(pipe, features, merged))    # Function defined above\n",
    "    \n",
    "        \n",
    "    # Predict on test.csv file\n",
    "    \n",
    "    # Merge and preprocess test and movies data  \n",
    "    merged_test = select_features(load_csv(\"test\"), load_csv(\"movies\"))\n",
    "    # Transform ['audienceScore', 'runtimeMinutes', 'boxOffice'] columns in merged_test using 'si' fitted on 'merged' df  \n",
    "    merged_test[['audienceScore', 'runtimeMinutes', 'boxOffice']] = si.transform(merged_test[['audienceScore', 'runtimeMinutes', 'boxOffice']])\n",
    "    # Fill 'releaseDate' column in 'merged_test' df with median from the train (merged) df  \n",
    "    merged_test['releaseDate'] = merged_test[\"releaseDate\"].fillna(merged[\"releaseDate\"].median())\n",
    "    # Add new columns as needed \n",
    "    if add_countvec:\n",
    "        merged_test['reviewText_2'] = merged_test['reviewText']\n",
    "    if vocab:\n",
    "        merged_test['reviewText_3'] = merged_test['reviewText']\n",
    "        \n",
    "    X_test = merged_test.copy()\n",
    "\n",
    "    X_test = X_test[features]\n",
    "    \n",
    "    \n",
    "    # Check3\n",
    "    print(\"\\nCheck 3 complete.\")\n",
    "    print(f\"Shape of X_test: {X_test.shape}\")\n",
    "    print(f\"Features in X_test: {X_test.columns}\")\n",
    "#     print(X_test.head())\n",
    "    \n",
    "    y_pred = pipe.predict(X_test)\n",
    "    \n",
    "    # Check4\n",
    "    print(\"\\nCheck 4 complete.\")\n",
    "#     cv_results_df = pd.DataFrame(pipe.cv_results_)\n",
    "    print(\"Details of the best model using full pipeline (GridSearchCV) on X_train: \")\n",
    "    print(f\"Best Estimator: {pipe.best_estimator_}\")\n",
    "    print(f\"Best Params: {pipe.best_params_}\")\n",
    "    print(f\"Best Score: {pipe.best_score_}\")\n",
    "    print(f\"Best Index: {pipe.best_index_}\")\n",
    "    print(f\"Refit Time: {pipe.refit_time_}\")\n",
    "#     print(f\"Shape of CV results dataframe: {cv_results_df.shape}\")\n",
    "    \n",
    "    pred_df = pd.DataFrame(y_pred)\n",
    "    pred_df.columns = [\"sentiment\"]\n",
    "    pred_df.index.name = \"id\"\n",
    "    pred_df.to_csv(\"submission.csv\")\n",
    "    \n",
    "    print(\"\\nSuccessfully created the submission file!!!\")\n",
    "    \n",
    "    return pipe.cv_results_"
   ]
  },
  {
   "cell_type": "code",
   "execution_count": 125,
   "id": "eb2cd9e9",
   "metadata": {
    "execution": {
     "iopub.execute_input": "2023-08-12T09:52:45.764061Z",
     "iopub.status.busy": "2023-08-12T09:52:45.763669Z",
     "iopub.status.idle": "2023-08-12T09:52:45.770171Z",
     "shell.execute_reply": "2023-08-12T09:52:45.769241Z"
    },
    "papermill": {
     "duration": 0.115105,
     "end_time": "2023-08-12T09:52:45.772250",
     "exception": false,
     "start_time": "2023-08-12T09:52:45.657145",
     "status": "completed"
    },
    "tags": []
   },
   "outputs": [
    {
     "data": {
      "text/plain": [
       "Index(['movieid', 'reviewerName', 'isFrequentReviewer', 'reviewText',\n",
       "       'sentiment', 'title', 'audienceScore', 'rating', 'ratingContents',\n",
       "       'releaseDateTheaters', 'releaseDateStreaming', 'runtimeMinutes',\n",
       "       'genre', 'originalLanguage', 'director', 'boxOffice', 'distributor',\n",
       "       'soundType', 'reviewYN', 'reviewWC', 'genreSorted', 'rcSorted',\n",
       "       'releaseDate', 'releaseYear', 'releaseMonth', 'releaseDiff'],\n",
       "      dtype='object')"
      ]
     },
     "execution_count": 125,
     "metadata": {},
     "output_type": "execute_result"
    }
   ],
   "source": [
    "merged.columns"
   ]
  },
  {
   "cell_type": "code",
   "execution_count": 126,
   "id": "d2f34bd9",
   "metadata": {
    "execution": {
     "iopub.execute_input": "2023-08-12T09:52:45.985774Z",
     "iopub.status.busy": "2023-08-12T09:52:45.984738Z",
     "iopub.status.idle": "2023-08-12T09:52:45.995685Z",
     "shell.execute_reply": "2023-08-12T09:52:45.994695Z"
    },
    "papermill": {
     "duration": 0.120279,
     "end_time": "2023-08-12T09:52:45.998273",
     "exception": false,
     "start_time": "2023-08-12T09:52:45.877994",
     "status": "completed"
    },
    "tags": []
   },
   "outputs": [],
   "source": [
    "# Best #2\n",
    "v80_dict = {'cat': ['isFrequentReviewer', 'audScoreBins', 'boxOfficeBins'], \n",
    "                  'txt': ['reviewText', 'reviewerName', 'movieid', 'genre', 'director', \n",
    "                          'ratingContents', 'distributor']}\n",
    "# Best #1\n",
    "v88_dict = {'cat': ['isFrequentReviewer', 'audScoreBins', 'boxOfficeBins'],\n",
    "            'num': ['releaseDiff'],\n",
    "            'txt': ['reviewText', 'reviewerName', 'movieid', 'genre', 'director', \n",
    "                         'ratingContents', 'distributor']}\n",
    "\n",
    "v92_dict = {'cat': ['isFrequentReviewer', 'audScoreBins', 'boxOfficeBins', 'releaseDiffBins'],\n",
    "            'txt': ['reviewText', 'reviewerName', 'title', 'genre', 'director', \n",
    "                         'ratingContents', 'distributor']}\n",
    "\n",
    "# Best univariable datapoints dict\n",
    "best_uni_dict = {'cat': [\"isFrequentReviewer\", \"audScoreBins\"],\n",
    "                 'txt': ['reviewText','movieid', 'director', \"ratingContents\"]}\n",
    "\n",
    "# param_grids for LogisticRegression  \n",
    "\n",
    "# Best #1  \n",
    "# param_grid = {\n",
    "#     'model__C' : [1],\n",
    "#     'model__solver': ['saga'],\n",
    "#     \"model__fit_intercept\" : [True],\n",
    "#     \"model__dual\" : [False]\n",
    "#     }\n",
    "\n",
    "# working\n",
    "param_grid = {\n",
    "    'model__C' : [1],\n",
    "    'model__solver': ['saga'],\n",
    "    \"model__fit_intercept\" : [True],\n",
    "    \"model__dual\" : [False],\n",
    "#     \"model__class_weight\": ['balanced', None]\n",
    "}\n",
    "\n",
    "\n",
    "# param_grids for LinearSVC  \n",
    "\n",
    "# param_grid = {\n",
    "#     'model__C' : [1, 10, 20],\n",
    "#     'model__loss': ['hinge', 'squared_hinge'],\n",
    "#     \"model__fit_intercept\" : [True, False],\n",
    "# #     \"model__dual\" : [True, False] \n",
    "# }\n",
    "\n",
    "svm = LinearSVC(max_iter=10000, random_state=42)    # LinearSVC\n",
    "\n",
    "\n",
    "# Local testing\n",
    "# selected_mov = {'num': ['audienceScore', 'boxOffice', 'releaseDiff'], \n",
    "#                 'txt': ['movieid', 'genre', 'director', \n",
    "#                          'ratingContents', 'distributor']}\n",
    "# results = submit_v4(\n",
    "#             selected_features={'num': ['boxOffice']},\n",
    "#             add_countvec=False,\n",
    "#             vocab=None,\n",
    "#             vocab_usage='tfidf',\n",
    "#             param_grid=param_grid\n",
    "#          )\n",
    "\n",
    "# results = submit_v4(selected_model = DummyClassifier(strategy='constant', constant='NEGATIVE'),\n",
    "#             selected_features={'num': ['boxOffice']},\n",
    "#             add_countvec=False,\n",
    "#             vocab=None,\n",
    "#             vocab_usage='tfidf',\n",
    "#             param_grid={'model__strategy' : ['constant']}\n",
    "#          )\n",
    "\n",
    "# Main submission\n",
    "\n",
    "# results = submit_v4(\n",
    "#     selected_features=v88_dict,\n",
    "#     add_countvec=False,\n",
    "#     vocab=common_1_2_3_grams,\n",
    "#     vocab_usage='tfidf',\n",
    "#     param_grid=param_grid\n",
    "#     )\n",
    "\n",
    "# results"
   ]
  },
  {
   "cell_type": "markdown",
   "id": "c950a616",
   "metadata": {
    "papermill": {
     "duration": 0.11907,
     "end_time": "2023-08-12T09:52:46.223370",
     "exception": false,
     "start_time": "2023-08-12T09:52:46.104300",
     "status": "completed"
    },
    "tags": []
   },
   "source": [
    "### ratingContents analysis  "
   ]
  },
  {
   "cell_type": "code",
   "execution_count": 127,
   "id": "9ffebfc2",
   "metadata": {
    "execution": {
     "iopub.execute_input": "2023-08-12T09:52:46.454209Z",
     "iopub.status.busy": "2023-08-12T09:52:46.453199Z",
     "iopub.status.idle": "2023-08-12T09:52:46.458047Z",
     "shell.execute_reply": "2023-08-12T09:52:46.457101Z"
    },
    "papermill": {
     "duration": 0.12001,
     "end_time": "2023-08-12T09:52:46.461239",
     "exception": false,
     "start_time": "2023-08-12T09:52:46.341229",
     "status": "completed"
    },
    "tags": []
   },
   "outputs": [],
   "source": [
    "# Try string split  \n",
    "# s = \"comedy, animation, adventure, fantasy\"\n",
    "# (\",\").join(sorted(s.split(\", \")))"
   ]
  },
  {
   "cell_type": "code",
   "execution_count": 128,
   "id": "bfb830d9",
   "metadata": {
    "execution": {
     "iopub.execute_input": "2023-08-12T09:52:46.692679Z",
     "iopub.status.busy": "2023-08-12T09:52:46.691690Z",
     "iopub.status.idle": "2023-08-12T09:52:46.699374Z",
     "shell.execute_reply": "2023-08-12T09:52:46.698137Z"
    },
    "papermill": {
     "duration": 0.119729,
     "end_time": "2023-08-12T09:52:46.701952",
     "exception": false,
     "start_time": "2023-08-12T09:52:46.582223",
     "status": "completed"
    },
    "tags": []
   },
   "outputs": [],
   "source": [
    "# ratingContents_analysis = merged[[\"ratingContents\", \"sentiment\"]].copy()\n",
    "# print(ratingContents_analysis.head())\n",
    "# ratingContents_analysis[\"rcSorted\"] = ratingContents_analysis[\"ratingContents\"].apply(lambda x: (\",\").join(sorted(x.strip(\"][\").split(\", \"))))\n",
    "# ratingContents_analysis[\"rcSorted\"] = ratingContents_analysis[\"rcSorted\"].apply(lambda x: re.sub(r\"'\", \"\", x))\n",
    "# ratingContents_analysis[\"rcSorted\"] = ratingContents_analysis[\"rcSorted\"].apply(lambda x: re.sub(r\"[/\\s]\", \"_\", x))\n",
    "# ratingContents_analysis.head(10)"
   ]
  },
  {
   "cell_type": "code",
   "execution_count": 129,
   "id": "eb63e200",
   "metadata": {
    "execution": {
     "iopub.execute_input": "2023-08-12T09:52:46.915044Z",
     "iopub.status.busy": "2023-08-12T09:52:46.914212Z",
     "iopub.status.idle": "2023-08-12T09:52:46.918999Z",
     "shell.execute_reply": "2023-08-12T09:52:46.917964Z"
    },
    "papermill": {
     "duration": 0.114562,
     "end_time": "2023-08-12T09:52:46.921429",
     "exception": false,
     "start_time": "2023-08-12T09:52:46.806867",
     "status": "completed"
    },
    "tags": []
   },
   "outputs": [],
   "source": [
    "# cvec_rc = CountVectorizer(ngram_range=(1,1))\n",
    "# cvec_rc.fit(ratingContents_analysis['rcSorted'])\n",
    "# # len(cvec_rc.vocabulary_), cvec_rc.vocabulary_"
   ]
  },
  {
   "cell_type": "code",
   "execution_count": 130,
   "id": "0c55a3fa",
   "metadata": {
    "execution": {
     "iopub.execute_input": "2023-08-12T09:52:47.138394Z",
     "iopub.status.busy": "2023-08-12T09:52:47.137655Z",
     "iopub.status.idle": "2023-08-12T09:52:47.141813Z",
     "shell.execute_reply": "2023-08-12T09:52:47.140917Z"
    },
    "papermill": {
     "duration": 0.116284,
     "end_time": "2023-08-12T09:52:47.144210",
     "exception": false,
     "start_time": "2023-08-12T09:52:47.027926",
     "status": "completed"
    },
    "tags": []
   },
   "outputs": [],
   "source": [
    "# genre_testing = cvec_g.transform(merged[\"genre\"])\n",
    "# print(genre_testing)"
   ]
  },
  {
   "cell_type": "markdown",
   "id": "2e70ad2e",
   "metadata": {
    "papermill": {
     "duration": 0.103468,
     "end_time": "2023-08-12T09:52:47.351282",
     "exception": false,
     "start_time": "2023-08-12T09:52:47.247814",
     "status": "completed"
    },
    "tags": []
   },
   "source": [
    "## Statistical tests  "
   ]
  },
  {
   "cell_type": "markdown",
   "id": "bf839375",
   "metadata": {
    "papermill": {
     "duration": 0.104986,
     "end_time": "2023-08-12T09:52:47.562561",
     "exception": false,
     "start_time": "2023-08-12T09:52:47.457575",
     "status": "completed"
    },
    "tags": []
   },
   "source": [
    "[Go to genre](#genre_analysis)"
   ]
  },
  {
   "cell_type": "code",
   "execution_count": 131,
   "id": "f0e53c99",
   "metadata": {
    "execution": {
     "iopub.execute_input": "2023-08-12T09:52:47.777707Z",
     "iopub.status.busy": "2023-08-12T09:52:47.776814Z",
     "iopub.status.idle": "2023-08-12T09:52:47.780984Z",
     "shell.execute_reply": "2023-08-12T09:52:47.780156Z"
    },
    "papermill": {
     "duration": 0.116319,
     "end_time": "2023-08-12T09:52:47.783680",
     "exception": false,
     "start_time": "2023-08-12T09:52:47.667361",
     "status": "completed"
    },
    "tags": []
   },
   "outputs": [],
   "source": [
    "# print(merged['boxOffice'].head())\n",
    "# merged[\"boxOffice\"].describe()"
   ]
  },
  {
   "cell_type": "code",
   "execution_count": 132,
   "id": "fdf885c1",
   "metadata": {
    "execution": {
     "iopub.execute_input": "2023-08-12T09:52:47.999044Z",
     "iopub.status.busy": "2023-08-12T09:52:47.998622Z",
     "iopub.status.idle": "2023-08-12T09:52:48.003471Z",
     "shell.execute_reply": "2023-08-12T09:52:48.002326Z"
    },
    "papermill": {
     "duration": 0.115505,
     "end_time": "2023-08-12T09:52:48.006048",
     "exception": false,
     "start_time": "2023-08-12T09:52:47.890543",
     "status": "completed"
    },
    "tags": []
   },
   "outputs": [],
   "source": [
    "# Function for independent samples t-test on numerical columns  \n",
    "# def ttest_ind(feature):\n",
    "#     pos_grp = merged[feature].loc[merged['sentiment'] == \"POSITIVE\"]\n",
    "#     neg_grp = merged[feature].loc[merged['sentiment'] == \"NEGATIVE\"]\n",
    "\n",
    "#     print(pos_grp.shape, neg_grp.shape)\n",
    "#     print(pos_grp.describe(), neg_grp.describe())\n",
    "\n",
    "#     return stats.ttest_ind(pos_grp, neg_grp)"
   ]
  },
  {
   "cell_type": "code",
   "execution_count": 133,
   "id": "c643853a",
   "metadata": {
    "execution": {
     "iopub.execute_input": "2023-08-12T09:52:48.220704Z",
     "iopub.status.busy": "2023-08-12T09:52:48.220061Z",
     "iopub.status.idle": "2023-08-12T09:52:48.224638Z",
     "shell.execute_reply": "2023-08-12T09:52:48.223662Z"
    },
    "papermill": {
     "duration": 0.114595,
     "end_time": "2023-08-12T09:52:48.226859",
     "exception": false,
     "start_time": "2023-08-12T09:52:48.112264",
     "status": "completed"
    },
    "tags": []
   },
   "outputs": [],
   "source": [
    "# ttest_ind('boxOffice')"
   ]
  },
  {
   "cell_type": "code",
   "execution_count": 134,
   "id": "037b2797",
   "metadata": {
    "execution": {
     "iopub.execute_input": "2023-08-12T09:52:48.436379Z",
     "iopub.status.busy": "2023-08-12T09:52:48.435687Z",
     "iopub.status.idle": "2023-08-12T09:52:48.440249Z",
     "shell.execute_reply": "2023-08-12T09:52:48.439394Z"
    },
    "papermill": {
     "duration": 0.11196,
     "end_time": "2023-08-12T09:52:48.442638",
     "exception": false,
     "start_time": "2023-08-12T09:52:48.330678",
     "status": "completed"
    },
    "tags": []
   },
   "outputs": [],
   "source": [
    "# ttest_ind('runtimeMinutes')"
   ]
  },
  {
   "cell_type": "code",
   "execution_count": 135,
   "id": "53be8c2e",
   "metadata": {
    "execution": {
     "iopub.execute_input": "2023-08-12T09:52:48.653110Z",
     "iopub.status.busy": "2023-08-12T09:52:48.652630Z",
     "iopub.status.idle": "2023-08-12T09:52:48.657219Z",
     "shell.execute_reply": "2023-08-12T09:52:48.656119Z"
    },
    "papermill": {
     "duration": 0.112903,
     "end_time": "2023-08-12T09:52:48.659664",
     "exception": false,
     "start_time": "2023-08-12T09:52:48.546761",
     "status": "completed"
    },
    "tags": []
   },
   "outputs": [],
   "source": [
    "# ttest_ind('audienceScore')"
   ]
  },
  {
   "cell_type": "code",
   "execution_count": 136,
   "id": "11e3ecc7",
   "metadata": {
    "execution": {
     "iopub.execute_input": "2023-08-12T09:52:48.873659Z",
     "iopub.status.busy": "2023-08-12T09:52:48.873210Z",
     "iopub.status.idle": "2023-08-12T09:52:48.877784Z",
     "shell.execute_reply": "2023-08-12T09:52:48.876499Z"
    },
    "papermill": {
     "duration": 0.11483,
     "end_time": "2023-08-12T09:52:48.880511",
     "exception": false,
     "start_time": "2023-08-12T09:52:48.765681",
     "status": "completed"
    },
    "tags": []
   },
   "outputs": [],
   "source": [
    "# sns.boxplot(x=merged['sentiment'], y=merged['boxOffice'])"
   ]
  },
  {
   "cell_type": "markdown",
   "id": "763f11f3",
   "metadata": {
    "papermill": {
     "duration": 0.10537,
     "end_time": "2023-08-12T09:52:49.090761",
     "exception": false,
     "start_time": "2023-08-12T09:52:48.985391",
     "status": "completed"
    },
    "tags": []
   },
   "source": [
    "## <div id='genre_analysis'>Genre analysis</div>"
   ]
  },
  {
   "cell_type": "code",
   "execution_count": 137,
   "id": "3435638a",
   "metadata": {
    "execution": {
     "iopub.execute_input": "2023-08-12T09:52:49.302672Z",
     "iopub.status.busy": "2023-08-12T09:52:49.301360Z",
     "iopub.status.idle": "2023-08-12T09:52:49.306850Z",
     "shell.execute_reply": "2023-08-12T09:52:49.305631Z"
    },
    "papermill": {
     "duration": 0.113226,
     "end_time": "2023-08-12T09:52:49.309531",
     "exception": false,
     "start_time": "2023-08-12T09:52:49.196305",
     "status": "completed"
    },
    "tags": []
   },
   "outputs": [],
   "source": [
    "# genre_analysis = merged[[\"genre\", \"genreSorted\", \"sentiment\"]].copy()\n",
    "# # print(genre_analysis.head())\n",
    "# # genre_analysis[\"genre\"] = genre_analysis[\"genre\"].apply(lambda x: (\",\").join(sorted(x.split(\", \"))))\n",
    "# genre_analysis.head()"
   ]
  },
  {
   "cell_type": "code",
   "execution_count": 138,
   "id": "120e3fa4",
   "metadata": {
    "execution": {
     "iopub.execute_input": "2023-08-12T09:52:49.524816Z",
     "iopub.status.busy": "2023-08-12T09:52:49.524419Z",
     "iopub.status.idle": "2023-08-12T09:52:49.529253Z",
     "shell.execute_reply": "2023-08-12T09:52:49.528099Z"
    },
    "papermill": {
     "duration": 0.117763,
     "end_time": "2023-08-12T09:52:49.531684",
     "exception": false,
     "start_time": "2023-08-12T09:52:49.413921",
     "status": "completed"
    },
    "tags": []
   },
   "outputs": [],
   "source": [
    "# cvec_g = CountVectorizer(ngram_range=(1,3))\n",
    "# cvec_g.fit(genre_analysis['genre'])\n",
    "# # len(cvec_g.vocabulary_), cvec_g.vocabulary_"
   ]
  },
  {
   "cell_type": "code",
   "execution_count": 139,
   "id": "9a0059be",
   "metadata": {
    "execution": {
     "iopub.execute_input": "2023-08-12T09:52:49.744469Z",
     "iopub.status.busy": "2023-08-12T09:52:49.744043Z",
     "iopub.status.idle": "2023-08-12T09:52:49.748898Z",
     "shell.execute_reply": "2023-08-12T09:52:49.747665Z"
    },
    "papermill": {
     "duration": 0.114897,
     "end_time": "2023-08-12T09:52:49.751565",
     "exception": false,
     "start_time": "2023-08-12T09:52:49.636668",
     "status": "completed"
    },
    "tags": []
   },
   "outputs": [],
   "source": [
    "# cvec_gSorted = CountVectorizer(ngram_range=(1,3))\n",
    "# cvec_gSorted.fit(genre_analysis['genreSorted'])\n",
    "# len(cvec_gSorted.vocabulary_), cvec_gSorted.vocabulary_"
   ]
  },
  {
   "cell_type": "code",
   "execution_count": 140,
   "id": "892267bb",
   "metadata": {
    "execution": {
     "iopub.execute_input": "2023-08-12T09:52:49.978284Z",
     "iopub.status.busy": "2023-08-12T09:52:49.977737Z",
     "iopub.status.idle": "2023-08-12T09:52:49.983206Z",
     "shell.execute_reply": "2023-08-12T09:52:49.981887Z"
    },
    "papermill": {
     "duration": 0.125592,
     "end_time": "2023-08-12T09:52:49.986679",
     "exception": false,
     "start_time": "2023-08-12T09:52:49.861087",
     "status": "completed"
    },
    "tags": []
   },
   "outputs": [],
   "source": [
    "# genre_testing = cvec_g.transform(merged[\"genre\"])\n",
    "# # print(genre_testing)"
   ]
  },
  {
   "cell_type": "code",
   "execution_count": 141,
   "id": "58a19d52",
   "metadata": {
    "execution": {
     "iopub.execute_input": "2023-08-12T09:52:50.212654Z",
     "iopub.status.busy": "2023-08-12T09:52:50.212272Z",
     "iopub.status.idle": "2023-08-12T09:52:50.216916Z",
     "shell.execute_reply": "2023-08-12T09:52:50.215680Z"
    },
    "papermill": {
     "duration": 0.112758,
     "end_time": "2023-08-12T09:52:50.219341",
     "exception": false,
     "start_time": "2023-08-12T09:52:50.106583",
     "status": "completed"
    },
    "tags": []
   },
   "outputs": [],
   "source": [
    "# genre_counts_testing = merged[[\"genre\", \"sentiment\"]].copy()\n",
    "# genre_counts_testing[\"gCount\"] = genre_counts_testing.apply(lambda x: len(str(x[\"genre\"]).split()), axis=1)\n",
    "# genre_counts_testing"
   ]
  },
  {
   "cell_type": "code",
   "execution_count": 142,
   "id": "1d79c050",
   "metadata": {
    "execution": {
     "iopub.execute_input": "2023-08-12T09:52:50.429154Z",
     "iopub.status.busy": "2023-08-12T09:52:50.428740Z",
     "iopub.status.idle": "2023-08-12T09:52:50.433296Z",
     "shell.execute_reply": "2023-08-12T09:52:50.432114Z"
    },
    "papermill": {
     "duration": 0.112057,
     "end_time": "2023-08-12T09:52:50.435631",
     "exception": false,
     "start_time": "2023-08-12T09:52:50.323574",
     "status": "completed"
    },
    "tags": []
   },
   "outputs": [],
   "source": [
    "# sns.boxplot(y=genre_counts_testing[\"gCount\"], x=genre_counts_testing[\"sentiment\"])"
   ]
  },
  {
   "cell_type": "code",
   "execution_count": 143,
   "id": "65796822",
   "metadata": {
    "execution": {
     "iopub.execute_input": "2023-08-12T09:52:50.649951Z",
     "iopub.status.busy": "2023-08-12T09:52:50.649087Z",
     "iopub.status.idle": "2023-08-12T09:52:50.653654Z",
     "shell.execute_reply": "2023-08-12T09:52:50.652659Z"
    },
    "papermill": {
     "duration": 0.114004,
     "end_time": "2023-08-12T09:52:50.656058",
     "exception": false,
     "start_time": "2023-08-12T09:52:50.542054",
     "status": "completed"
    },
    "tags": []
   },
   "outputs": [],
   "source": [
    "# sns.boxplot(y=merged[\"reviewWC\"], x=merged[\"sentiment\"])"
   ]
  },
  {
   "cell_type": "code",
   "execution_count": 144,
   "id": "f921a2d6",
   "metadata": {
    "execution": {
     "iopub.execute_input": "2023-08-12T09:52:50.868666Z",
     "iopub.status.busy": "2023-08-12T09:52:50.868182Z",
     "iopub.status.idle": "2023-08-12T09:52:50.873222Z",
     "shell.execute_reply": "2023-08-12T09:52:50.872006Z"
    },
    "papermill": {
     "duration": 0.115069,
     "end_time": "2023-08-12T09:52:50.875768",
     "exception": false,
     "start_time": "2023-08-12T09:52:50.760699",
     "status": "completed"
    },
    "tags": []
   },
   "outputs": [],
   "source": [
    "# audienceScore bins\n",
    "# asc = merged[['audienceScore', 'sentiment']].copy()\n",
    "# asc.head()"
   ]
  },
  {
   "cell_type": "code",
   "execution_count": 145,
   "id": "e77b55d3",
   "metadata": {
    "execution": {
     "iopub.execute_input": "2023-08-12T09:52:51.090717Z",
     "iopub.status.busy": "2023-08-12T09:52:51.090281Z",
     "iopub.status.idle": "2023-08-12T09:52:51.095502Z",
     "shell.execute_reply": "2023-08-12T09:52:51.094326Z"
    },
    "papermill": {
     "duration": 0.114302,
     "end_time": "2023-08-12T09:52:51.097757",
     "exception": false,
     "start_time": "2023-08-12T09:52:50.983455",
     "status": "completed"
    },
    "tags": []
   },
   "outputs": [],
   "source": [
    "# Binning numerical features  \n",
    "\n",
    "# print(merged[\"runtimeBins\"].value_counts())\n",
    "# sns.displot(merged[\"runtimeBins\"])"
   ]
  },
  {
   "cell_type": "code",
   "execution_count": 146,
   "id": "e15cbf2b",
   "metadata": {
    "execution": {
     "iopub.execute_input": "2023-08-12T09:52:51.308496Z",
     "iopub.status.busy": "2023-08-12T09:52:51.308036Z",
     "iopub.status.idle": "2023-08-12T09:52:51.313727Z",
     "shell.execute_reply": "2023-08-12T09:52:51.312245Z"
    },
    "papermill": {
     "duration": 0.114494,
     "end_time": "2023-08-12T09:52:51.316116",
     "exception": false,
     "start_time": "2023-08-12T09:52:51.201622",
     "status": "completed"
    },
    "tags": []
   },
   "outputs": [],
   "source": [
    "# Chi-square test for isFrequentReviewer column and sentiment column   \n",
    "\n",
    "# contingency_table = pd.crosstab(traindf['isFrequentReviewer'], traindf['sentiment'])\n",
    "# print(contingency_table)\n",
    "# stats.chi2_contingency(contingency_table)"
   ]
  },
  {
   "cell_type": "markdown",
   "id": "9c68ab71",
   "metadata": {
    "papermill": {
     "duration": 0.105566,
     "end_time": "2023-08-12T09:52:51.527611",
     "exception": false,
     "start_time": "2023-08-12T09:52:51.422045",
     "status": "completed"
    },
    "tags": []
   },
   "source": [
    "## Baseline performance of 'reviewText' column  "
   ]
  },
  {
   "cell_type": "code",
   "execution_count": 147,
   "id": "8f5d3bcb",
   "metadata": {
    "execution": {
     "iopub.execute_input": "2023-08-12T09:52:51.740149Z",
     "iopub.status.busy": "2023-08-12T09:52:51.739768Z",
     "iopub.status.idle": "2023-08-12T09:52:51.744439Z",
     "shell.execute_reply": "2023-08-12T09:52:51.743274Z"
    },
    "papermill": {
     "duration": 0.113498,
     "end_time": "2023-08-12T09:52:51.746637",
     "exception": false,
     "start_time": "2023-08-12T09:52:51.633139",
     "status": "completed"
    },
    "tags": []
   },
   "outputs": [],
   "source": [
    "# rt_dict = {'txt': ['reviewText']}\n",
    "# rt_dict"
   ]
  },
  {
   "cell_type": "code",
   "execution_count": 148,
   "id": "f00db5a1",
   "metadata": {
    "execution": {
     "iopub.execute_input": "2023-08-12T09:52:51.958754Z",
     "iopub.status.busy": "2023-08-12T09:52:51.958318Z",
     "iopub.status.idle": "2023-08-12T09:52:51.963409Z",
     "shell.execute_reply": "2023-08-12T09:52:51.962249Z"
    },
    "papermill": {
     "duration": 0.115168,
     "end_time": "2023-08-12T09:52:51.965651",
     "exception": false,
     "start_time": "2023-08-12T09:52:51.850483",
     "status": "completed"
    },
    "tags": []
   },
   "outputs": [],
   "source": [
    "# submit_v4(selected_model=LogisticRegression(C=5, solver=\"saga\", max_iter=100000),\n",
    "#           selected_features=rt_dict,\n",
    "#           param_grid=None,\n",
    "#           vocab=None)"
   ]
  },
  {
   "cell_type": "markdown",
   "id": "30199094",
   "metadata": {
    "papermill": {
     "duration": 0.103293,
     "end_time": "2023-08-12T09:52:52.176092",
     "exception": false,
     "start_time": "2023-08-12T09:52:52.072799",
     "status": "completed"
    },
    "tags": []
   },
   "source": [
    "## RFE  "
   ]
  },
  {
   "cell_type": "code",
   "execution_count": 149,
   "id": "4dc7f102",
   "metadata": {
    "execution": {
     "iopub.execute_input": "2023-08-12T09:52:52.390072Z",
     "iopub.status.busy": "2023-08-12T09:52:52.389619Z",
     "iopub.status.idle": "2023-08-12T09:52:52.395381Z",
     "shell.execute_reply": "2023-08-12T09:52:52.394080Z"
    },
    "papermill": {
     "duration": 0.117788,
     "end_time": "2023-08-12T09:52:52.397533",
     "exception": false,
     "start_time": "2023-08-12T09:52:52.279745",
     "status": "completed"
    },
    "tags": []
   },
   "outputs": [],
   "source": [
    "# def fs_rfe(selector, text_df, labels, ngram_range=(1,1)):\n",
    "#     text_df_ngram = TfidfVectorizer(ngram_range=ngram_range, stop_words='english').fit_transform(text_df)\n",
    "#     print(\"text_df was vectorized using TF-IDF vectorizer with ngram_range: \", ngram_range)\n",
    "#     print(\"text_df.shape: \", text_df.shape)\n",
    "#     print(\"labels.shape: \", labels.shape)\n",
    "#     print(\"text_df_ngram.shape: \", text_df_ngram.shape)\n",
    "#     print()\n",
    "\n",
    "#     print(\"Starting RFE fit...\")\n",
    "#     selector.fit(text_df_ngram, labels)\n",
    "#     print(\"RFE fit complete.\\n\")\n",
    "    \n",
    "#     print(\"selector.n_features_: \", selector.n_features_)   \n",
    "#     print(\"selector.n_features_in_: \", selector.n_features_in_)\n",
    "#     print(\"selector.support_.shape: \", selector.support_.shape)\n",
    "\n",
    "#     return selector.support_"
   ]
  },
  {
   "cell_type": "markdown",
   "id": "b8956dbf",
   "metadata": {
    "papermill": {
     "duration": 0.18088,
     "end_time": "2023-08-12T09:52:52.684034",
     "exception": false,
     "start_time": "2023-08-12T09:52:52.503154",
     "status": "completed"
    },
    "tags": []
   },
   "source": [
    "`RFE for unigrams`  "
   ]
  },
  {
   "cell_type": "code",
   "execution_count": 150,
   "id": "c5c70bad",
   "metadata": {
    "execution": {
     "iopub.execute_input": "2023-08-12T09:52:52.901959Z",
     "iopub.status.busy": "2023-08-12T09:52:52.900750Z",
     "iopub.status.idle": "2023-08-12T09:52:52.906360Z",
     "shell.execute_reply": "2023-08-12T09:52:52.905252Z"
    },
    "papermill": {
     "duration": 0.11599,
     "end_time": "2023-08-12T09:52:52.908965",
     "exception": false,
     "start_time": "2023-08-12T09:52:52.792975",
     "status": "completed"
    },
    "tags": []
   },
   "outputs": [],
   "source": [
    "# estimator_rfe_1 = LogisticRegression(solver='saga', max_iter=100000)\n",
    "# selector_rfe_1 = RFE(estimator_rfe_1, step=0.1, n_features_to_select=30000)"
   ]
  },
  {
   "cell_type": "code",
   "execution_count": 151,
   "id": "80590791",
   "metadata": {
    "execution": {
     "iopub.execute_input": "2023-08-12T09:52:53.125390Z",
     "iopub.status.busy": "2023-08-12T09:52:53.124949Z",
     "iopub.status.idle": "2023-08-12T09:52:53.129757Z",
     "shell.execute_reply": "2023-08-12T09:52:53.128593Z"
    },
    "papermill": {
     "duration": 0.114922,
     "end_time": "2023-08-12T09:52:53.132114",
     "exception": false,
     "start_time": "2023-08-12T09:52:53.017192",
     "status": "completed"
    },
    "tags": []
   },
   "outputs": [],
   "source": [
    "# rfe_1_feat_mask = fs_rfe(selector_rfe_1, rt_senti[\"reviewText\"], rt_senti[\"sentiment\"], ngram_range=(1,1))\n",
    "# rfe_1_feat_mask"
   ]
  },
  {
   "cell_type": "code",
   "execution_count": 152,
   "id": "0fababe6",
   "metadata": {
    "execution": {
     "iopub.execute_input": "2023-08-12T09:52:53.342702Z",
     "iopub.status.busy": "2023-08-12T09:52:53.342256Z",
     "iopub.status.idle": "2023-08-12T09:52:53.347488Z",
     "shell.execute_reply": "2023-08-12T09:52:53.346414Z"
    },
    "papermill": {
     "duration": 0.113524,
     "end_time": "2023-08-12T09:52:53.349733",
     "exception": false,
     "start_time": "2023-08-12T09:52:53.236209",
     "status": "completed"
    },
    "tags": []
   },
   "outputs": [],
   "source": [
    "# voc_1gram_rfe = list(compress(voc_1gram, rfe_1_feat_mask))\n",
    "# len(voc_1gram_rfe), voc_1gram_rfe[:10]"
   ]
  },
  {
   "cell_type": "markdown",
   "id": "6138a723",
   "metadata": {
    "papermill": {
     "duration": 0.103958,
     "end_time": "2023-08-12T09:52:53.557679",
     "exception": false,
     "start_time": "2023-08-12T09:52:53.453721",
     "status": "completed"
    },
    "tags": []
   },
   "source": [
    "`RFE for bigrams`  "
   ]
  },
  {
   "cell_type": "code",
   "execution_count": 153,
   "id": "17026087",
   "metadata": {
    "execution": {
     "iopub.execute_input": "2023-08-12T09:52:53.769893Z",
     "iopub.status.busy": "2023-08-12T09:52:53.769471Z",
     "iopub.status.idle": "2023-08-12T09:52:53.773818Z",
     "shell.execute_reply": "2023-08-12T09:52:53.772560Z"
    },
    "papermill": {
     "duration": 0.113931,
     "end_time": "2023-08-12T09:52:53.776300",
     "exception": false,
     "start_time": "2023-08-12T09:52:53.662369",
     "status": "completed"
    },
    "tags": []
   },
   "outputs": [],
   "source": [
    "# estimator_rfe_2 = LogisticRegression(solver='saga', max_iter=100000)\n",
    "# selector_rfe_2 = RFE(estimator_rfe_2, step=0.1, n_features_to_select=50000)"
   ]
  },
  {
   "cell_type": "code",
   "execution_count": 154,
   "id": "423ff3aa",
   "metadata": {
    "execution": {
     "iopub.execute_input": "2023-08-12T09:52:53.988407Z",
     "iopub.status.busy": "2023-08-12T09:52:53.987995Z",
     "iopub.status.idle": "2023-08-12T09:52:53.992610Z",
     "shell.execute_reply": "2023-08-12T09:52:53.991478Z"
    },
    "papermill": {
     "duration": 0.11275,
     "end_time": "2023-08-12T09:52:53.995217",
     "exception": false,
     "start_time": "2023-08-12T09:52:53.882467",
     "status": "completed"
    },
    "tags": []
   },
   "outputs": [],
   "source": [
    "# rfe_2_feat_mask = fs_rfe(selector_rfe_2, rt_senti[\"reviewText\"], rt_senti[\"sentiment\"], ngram_range=(2,2))\n",
    "# rfe_2_feat_mask"
   ]
  },
  {
   "cell_type": "code",
   "execution_count": 155,
   "id": "f274521a",
   "metadata": {
    "execution": {
     "iopub.execute_input": "2023-08-12T09:52:54.205497Z",
     "iopub.status.busy": "2023-08-12T09:52:54.205057Z",
     "iopub.status.idle": "2023-08-12T09:52:54.209920Z",
     "shell.execute_reply": "2023-08-12T09:52:54.208586Z"
    },
    "papermill": {
     "duration": 0.113093,
     "end_time": "2023-08-12T09:52:54.212662",
     "exception": false,
     "start_time": "2023-08-12T09:52:54.099569",
     "status": "completed"
    },
    "tags": []
   },
   "outputs": [],
   "source": [
    "# voc_2gram_rfe = list(compress(voc_2gram, rfe_2_feat_mask))\n",
    "# len(voc_2gram_rfe), voc_2gram_rfe[:10]"
   ]
  },
  {
   "cell_type": "markdown",
   "id": "6a738552",
   "metadata": {
    "papermill": {
     "duration": 0.10479,
     "end_time": "2023-08-12T09:52:54.423123",
     "exception": false,
     "start_time": "2023-08-12T09:52:54.318333",
     "status": "completed"
    },
    "tags": []
   },
   "source": [
    "## Final RFE-derived vocabulary  "
   ]
  },
  {
   "cell_type": "code",
   "execution_count": 156,
   "id": "dfa7afa8",
   "metadata": {
    "execution": {
     "iopub.execute_input": "2023-08-12T09:52:54.638258Z",
     "iopub.status.busy": "2023-08-12T09:52:54.637790Z",
     "iopub.status.idle": "2023-08-12T09:52:54.642775Z",
     "shell.execute_reply": "2023-08-12T09:52:54.641595Z"
    },
    "papermill": {
     "duration": 0.114018,
     "end_time": "2023-08-12T09:52:54.645110",
     "exception": false,
     "start_time": "2023-08-12T09:52:54.531092",
     "status": "completed"
    },
    "tags": []
   },
   "outputs": [],
   "source": [
    "# rfe_vocab = voc_1gram_rfe + voc_2gram_rfe\n",
    "# len(rfe_vocab), rfe_vocab[:10], rfe_vocab[-10:]"
   ]
  },
  {
   "cell_type": "code",
   "execution_count": 157,
   "id": "51da3274",
   "metadata": {
    "execution": {
     "iopub.execute_input": "2023-08-12T09:52:54.858042Z",
     "iopub.status.busy": "2023-08-12T09:52:54.857605Z",
     "iopub.status.idle": "2023-08-12T09:52:54.862559Z",
     "shell.execute_reply": "2023-08-12T09:52:54.861464Z"
    },
    "papermill": {
     "duration": 0.113616,
     "end_time": "2023-08-12T09:52:54.865098",
     "exception": false,
     "start_time": "2023-08-12T09:52:54.751482",
     "status": "completed"
    },
    "tags": []
   },
   "outputs": [],
   "source": [
    "## Test RFE obtained vocabulary in final pipeline (only with reviewText)  \n",
    "# submit_v4(selected_model=LogisticRegression(C=5, solver=\"saga\", max_iter=100000),\n",
    "#           selected_features=rt_dict,\n",
    "#           param_grid=None,\n",
    "#           vocab=rfe_vocab)"
   ]
  },
  {
   "cell_type": "markdown",
   "id": "da0545b2",
   "metadata": {
    "papermill": {
     "duration": 0.106169,
     "end_time": "2023-08-12T09:52:55.077147",
     "exception": false,
     "start_time": "2023-08-12T09:52:54.970978",
     "status": "completed"
    },
    "tags": []
   },
   "source": [
    "## Use rfe_vocab in final pipeline with all params  "
   ]
  },
  {
   "cell_type": "code",
   "execution_count": 158,
   "id": "c02c49ee",
   "metadata": {
    "execution": {
     "iopub.execute_input": "2023-08-12T09:52:55.290075Z",
     "iopub.status.busy": "2023-08-12T09:52:55.289325Z",
     "iopub.status.idle": "2023-08-12T09:52:55.293742Z",
     "shell.execute_reply": "2023-08-12T09:52:55.292824Z"
    },
    "papermill": {
     "duration": 0.114726,
     "end_time": "2023-08-12T09:52:55.296100",
     "exception": false,
     "start_time": "2023-08-12T09:52:55.181374",
     "status": "completed"
    },
    "tags": []
   },
   "outputs": [],
   "source": [
    "# submit_v4(selected_model=LogisticRegression(max_iter=100000),\n",
    "#           selected_features=all_dict,\n",
    "#           param_grid=param_grid,\n",
    "#           vocab=rfe_vocab)"
   ]
  },
  {
   "cell_type": "code",
   "execution_count": 159,
   "id": "85ff499a",
   "metadata": {
    "execution": {
     "iopub.execute_input": "2023-08-12T09:52:55.507377Z",
     "iopub.status.busy": "2023-08-12T09:52:55.506654Z",
     "iopub.status.idle": "2023-08-12T09:52:55.518923Z",
     "shell.execute_reply": "2023-08-12T09:52:55.518041Z"
    },
    "papermill": {
     "duration": 0.120296,
     "end_time": "2023-08-12T09:52:55.521378",
     "exception": false,
     "start_time": "2023-08-12T09:52:55.401082",
     "status": "completed"
    },
    "tags": []
   },
   "outputs": [
    {
     "data": {
      "text/html": [
       "<style>#sk-container-id-1 {color: black;background-color: white;}#sk-container-id-1 pre{padding: 0;}#sk-container-id-1 div.sk-toggleable {background-color: white;}#sk-container-id-1 label.sk-toggleable__label {cursor: pointer;display: block;width: 100%;margin-bottom: 0;padding: 0.3em;box-sizing: border-box;text-align: center;}#sk-container-id-1 label.sk-toggleable__label-arrow:before {content: \"▸\";float: left;margin-right: 0.25em;color: #696969;}#sk-container-id-1 label.sk-toggleable__label-arrow:hover:before {color: black;}#sk-container-id-1 div.sk-estimator:hover label.sk-toggleable__label-arrow:before {color: black;}#sk-container-id-1 div.sk-toggleable__content {max-height: 0;max-width: 0;overflow: hidden;text-align: left;background-color: #f0f8ff;}#sk-container-id-1 div.sk-toggleable__content pre {margin: 0.2em;color: black;border-radius: 0.25em;background-color: #f0f8ff;}#sk-container-id-1 input.sk-toggleable__control:checked~div.sk-toggleable__content {max-height: 200px;max-width: 100%;overflow: auto;}#sk-container-id-1 input.sk-toggleable__control:checked~label.sk-toggleable__label-arrow:before {content: \"▾\";}#sk-container-id-1 div.sk-estimator input.sk-toggleable__control:checked~label.sk-toggleable__label {background-color: #d4ebff;}#sk-container-id-1 div.sk-label input.sk-toggleable__control:checked~label.sk-toggleable__label {background-color: #d4ebff;}#sk-container-id-1 input.sk-hidden--visually {border: 0;clip: rect(1px 1px 1px 1px);clip: rect(1px, 1px, 1px, 1px);height: 1px;margin: -1px;overflow: hidden;padding: 0;position: absolute;width: 1px;}#sk-container-id-1 div.sk-estimator {font-family: monospace;background-color: #f0f8ff;border: 1px dotted black;border-radius: 0.25em;box-sizing: border-box;margin-bottom: 0.5em;}#sk-container-id-1 div.sk-estimator:hover {background-color: #d4ebff;}#sk-container-id-1 div.sk-parallel-item::after {content: \"\";width: 100%;border-bottom: 1px solid gray;flex-grow: 1;}#sk-container-id-1 div.sk-label:hover label.sk-toggleable__label {background-color: #d4ebff;}#sk-container-id-1 div.sk-serial::before {content: \"\";position: absolute;border-left: 1px solid gray;box-sizing: border-box;top: 0;bottom: 0;left: 50%;z-index: 0;}#sk-container-id-1 div.sk-serial {display: flex;flex-direction: column;align-items: center;background-color: white;padding-right: 0.2em;padding-left: 0.2em;position: relative;}#sk-container-id-1 div.sk-item {position: relative;z-index: 1;}#sk-container-id-1 div.sk-parallel {display: flex;align-items: stretch;justify-content: center;background-color: white;position: relative;}#sk-container-id-1 div.sk-item::before, #sk-container-id-1 div.sk-parallel-item::before {content: \"\";position: absolute;border-left: 1px solid gray;box-sizing: border-box;top: 0;bottom: 0;left: 50%;z-index: -1;}#sk-container-id-1 div.sk-parallel-item {display: flex;flex-direction: column;z-index: 1;position: relative;background-color: white;}#sk-container-id-1 div.sk-parallel-item:first-child::after {align-self: flex-end;width: 50%;}#sk-container-id-1 div.sk-parallel-item:last-child::after {align-self: flex-start;width: 50%;}#sk-container-id-1 div.sk-parallel-item:only-child::after {width: 0;}#sk-container-id-1 div.sk-dashed-wrapped {border: 1px dashed gray;margin: 0 0.4em 0.5em 0.4em;box-sizing: border-box;padding-bottom: 0.4em;background-color: white;}#sk-container-id-1 div.sk-label label {font-family: monospace;font-weight: bold;display: inline-block;line-height: 1.2em;}#sk-container-id-1 div.sk-label-container {text-align: center;}#sk-container-id-1 div.sk-container {/* jupyter's `normalize.less` sets `[hidden] { display: none; }` but bootstrap.min.css set `[hidden] { display: none !important; }` so we also need the `!important` here to be able to override the default hidden behavior on the sphinx rendered scikit-learn.org. See: https://github.com/scikit-learn/scikit-learn/issues/21755 */display: inline-block !important;position: relative;}#sk-container-id-1 div.sk-text-repr-fallback {display: none;}</style><div id=\"sk-container-id-1\" class=\"sk-top-container\"><div class=\"sk-text-repr-fallback\"><pre>AdaBoostClassifier(estimator=LogisticRegression(C=5, max_iter=100000,\n",
       "                                                solver=&#x27;saga&#x27;))</pre><b>In a Jupyter environment, please rerun this cell to show the HTML representation or trust the notebook. <br />On GitHub, the HTML representation is unable to render, please try loading this page with nbviewer.org.</b></div><div class=\"sk-container\" hidden><div class=\"sk-item sk-dashed-wrapped\"><div class=\"sk-label-container\"><div class=\"sk-label sk-toggleable\"><input class=\"sk-toggleable__control sk-hidden--visually\" id=\"sk-estimator-id-1\" type=\"checkbox\" ><label for=\"sk-estimator-id-1\" class=\"sk-toggleable__label sk-toggleable__label-arrow\">AdaBoostClassifier</label><div class=\"sk-toggleable__content\"><pre>AdaBoostClassifier(estimator=LogisticRegression(C=5, max_iter=100000,\n",
       "                                                solver=&#x27;saga&#x27;))</pre></div></div></div><div class=\"sk-parallel\"><div class=\"sk-parallel-item\"><div class=\"sk-item\"><div class=\"sk-label-container\"><div class=\"sk-label sk-toggleable\"><input class=\"sk-toggleable__control sk-hidden--visually\" id=\"sk-estimator-id-2\" type=\"checkbox\" ><label for=\"sk-estimator-id-2\" class=\"sk-toggleable__label sk-toggleable__label-arrow\">estimator: LogisticRegression</label><div class=\"sk-toggleable__content\"><pre>LogisticRegression(C=5, max_iter=100000, solver=&#x27;saga&#x27;)</pre></div></div></div><div class=\"sk-serial\"><div class=\"sk-item\"><div class=\"sk-estimator sk-toggleable\"><input class=\"sk-toggleable__control sk-hidden--visually\" id=\"sk-estimator-id-3\" type=\"checkbox\" ><label for=\"sk-estimator-id-3\" class=\"sk-toggleable__label sk-toggleable__label-arrow\">LogisticRegression</label><div class=\"sk-toggleable__content\"><pre>LogisticRegression(C=5, max_iter=100000, solver=&#x27;saga&#x27;)</pre></div></div></div></div></div></div></div></div></div></div>"
      ],
      "text/plain": [
       "AdaBoostClassifier(estimator=LogisticRegression(C=5, max_iter=100000,\n",
       "                                                solver='saga'))"
      ]
     },
     "execution_count": 159,
     "metadata": {},
     "output_type": "execute_result"
    }
   ],
   "source": [
    "adc = AdaBoostClassifier(estimator=LogisticRegression(C=5, solver=\"saga\", max_iter=100000), n_estimators=50)\n",
    "adc"
   ]
  },
  {
   "cell_type": "code",
   "execution_count": 160,
   "id": "9996fdd8",
   "metadata": {
    "execution": {
     "iopub.execute_input": "2023-08-12T09:52:55.737400Z",
     "iopub.status.busy": "2023-08-12T09:52:55.736952Z",
     "iopub.status.idle": "2023-08-12T09:52:55.742229Z",
     "shell.execute_reply": "2023-08-12T09:52:55.740658Z"
    },
    "papermill": {
     "duration": 0.116543,
     "end_time": "2023-08-12T09:52:55.745105",
     "exception": false,
     "start_time": "2023-08-12T09:52:55.628562",
     "status": "completed"
    },
    "tags": []
   },
   "outputs": [],
   "source": [
    "# submit_v4(selected_model=adc,\n",
    "#           selected_features={'cat': ['isFrequentReviewer']},\n",
    "#           param_grid=None,\n",
    "#           vocab=rfe_vocab)"
   ]
  },
  {
   "cell_type": "code",
   "execution_count": 161,
   "id": "46ea72b9",
   "metadata": {
    "execution": {
     "iopub.execute_input": "2023-08-12T09:52:55.957195Z",
     "iopub.status.busy": "2023-08-12T09:52:55.956693Z",
     "iopub.status.idle": "2023-08-12T09:52:55.961395Z",
     "shell.execute_reply": "2023-08-12T09:52:55.960281Z"
    },
    "papermill": {
     "duration": 0.11379,
     "end_time": "2023-08-12T09:52:55.963797",
     "exception": false,
     "start_time": "2023-08-12T09:52:55.850007",
     "status": "completed"
    },
    "tags": []
   },
   "outputs": [],
   "source": [
    "# AdaBoost on all features with RFE vocab on reviewText\n",
    "\n",
    "# submit_v4(selected_model=adc,\n",
    "#           selected_features=all_dict,\n",
    "#           param_grid=None,\n",
    "#           vocab=rfe_vocab)"
   ]
  },
  {
   "cell_type": "code",
   "execution_count": 162,
   "id": "aa6a2304",
   "metadata": {
    "execution": {
     "iopub.execute_input": "2023-08-12T09:52:56.176848Z",
     "iopub.status.busy": "2023-08-12T09:52:56.175699Z",
     "iopub.status.idle": "2023-08-12T09:52:56.180623Z",
     "shell.execute_reply": "2023-08-12T09:52:56.179690Z"
    },
    "papermill": {
     "duration": 0.113872,
     "end_time": "2023-08-12T09:52:56.183121",
     "exception": false,
     "start_time": "2023-08-12T09:52:56.069249",
     "status": "completed"
    },
    "tags": []
   },
   "outputs": [],
   "source": [
    "# RandomForestClassifier test run on one feature\n",
    "\n",
    "# rfc_2 = RandomForestClassifier()\n",
    "# rfc_2"
   ]
  },
  {
   "cell_type": "code",
   "execution_count": 163,
   "id": "e98aaff0",
   "metadata": {
    "execution": {
     "iopub.execute_input": "2023-08-12T09:52:56.395757Z",
     "iopub.status.busy": "2023-08-12T09:52:56.394647Z",
     "iopub.status.idle": "2023-08-12T09:52:56.400394Z",
     "shell.execute_reply": "2023-08-12T09:52:56.399218Z"
    },
    "papermill": {
     "duration": 0.114481,
     "end_time": "2023-08-12T09:52:56.403193",
     "exception": false,
     "start_time": "2023-08-12T09:52:56.288712",
     "status": "completed"
    },
    "tags": []
   },
   "outputs": [],
   "source": [
    "# submit_v4(selected_model=rfc_2,\n",
    "#           selected_features={'txt': ['reviewerName']},\n",
    "#           param_grid=None,\n",
    "#           vocab=rfe_vocab)"
   ]
  },
  {
   "cell_type": "code",
   "execution_count": 164,
   "id": "f6908e2f",
   "metadata": {
    "execution": {
     "iopub.execute_input": "2023-08-12T09:52:56.617330Z",
     "iopub.status.busy": "2023-08-12T09:52:56.616872Z",
     "iopub.status.idle": "2023-08-12T09:52:56.621735Z",
     "shell.execute_reply": "2023-08-12T09:52:56.620501Z"
    },
    "papermill": {
     "duration": 0.116208,
     "end_time": "2023-08-12T09:52:56.624149",
     "exception": false,
     "start_time": "2023-08-12T09:52:56.507941",
     "status": "completed"
    },
    "tags": []
   },
   "outputs": [],
   "source": [
    "# RandomForestClassifier on all features with RFE vocab on reviewText\n",
    "\n",
    "# submit_v4(selected_model=rfc_2,\n",
    "#           selected_features=all_dict,\n",
    "#           param_grid=None,\n",
    "#           vocab=rfe_vocab)"
   ]
  },
  {
   "cell_type": "markdown",
   "id": "a06c6efd",
   "metadata": {
    "papermill": {
     "duration": 0.181145,
     "end_time": "2023-08-12T09:52:56.909438",
     "exception": false,
     "start_time": "2023-08-12T09:52:56.728293",
     "status": "completed"
    },
    "tags": []
   },
   "source": [
    "## Submit_v2 for merged file models  "
   ]
  },
  {
   "cell_type": "code",
   "execution_count": 165,
   "id": "8ca10385",
   "metadata": {
    "execution": {
     "iopub.execute_input": "2023-08-12T09:52:57.123031Z",
     "iopub.status.busy": "2023-08-12T09:52:57.122564Z",
     "iopub.status.idle": "2023-08-12T09:52:57.129537Z",
     "shell.execute_reply": "2023-08-12T09:52:57.128022Z"
    },
    "papermill": {
     "duration": 0.116675,
     "end_time": "2023-08-12T09:52:57.132083",
     "exception": false,
     "start_time": "2023-08-12T09:52:57.015408",
     "status": "completed"
    },
    "tags": []
   },
   "outputs": [],
   "source": [
    "# def submit_v2(selected_model=pipe_final, selected_features=None):\n",
    "#     '''\n",
    "#     Note that \"selected_preprocessor\" is already used within selected_model or pipeline\n",
    "#     '''\n",
    "#     # Retrain on the whole train.csv file  \n",
    "#     merged = select_features(load_csv(\"train\"), load_csv(\"movies\"))\n",
    "#     X_train = merged.drop(labels=\"sentiment\", axis=1)\n",
    "#     y_train = merged[\"sentiment\"]\n",
    "    \n",
    "#     #Use selected features\n",
    "#     if selected_features:\n",
    "#         X_train = X_train[selected_features]\n",
    "    \n",
    "#     # Check1\n",
    "#     print(X_train.shape)\n",
    "#     print(X_train.head())\n",
    "#     try:\n",
    "#         print(selected_model.named_steps['model'].intercept_, selected_model.named_steps['model'].coef_)\n",
    "#     except:\n",
    "#         print(\"Model not trained yet!\")\n",
    "    \n",
    "#     # Fit \n",
    "#     selected_model.fit(X_train, y_train)\n",
    "    \n",
    "#     # Check2\n",
    "#     print(selected_model.named_steps['model'].intercept_, selected_model.named_steps['model'].coef_)\n",
    "    \n",
    "#     # Predict on test.csv file\n",
    "#     merged_test = select_features(load_csv(\"test\"), load_csv(\"movies\"))\n",
    "#     X_test = merged_test.copy()\n",
    "#     if selected_features:\n",
    "#         X_test = X_test[selected_features]\n",
    "    \n",
    "#     # Check3\n",
    "#     print(X_test.shape)\n",
    "#     print(X_test.head())\n",
    "    \n",
    "#     y_pred = selected_model.predict(X_test)\n",
    "    \n",
    "#     pred_df = pd.DataFrame(y_pred)\n",
    "#     pred_df.columns = [\"sentiment\"]\n",
    "#     pred_df.index.name = \"id\"\n",
    "#     pred_df.to_csv(\"submission.csv\")\n",
    "    \n",
    "#     return \"Successfully created the submission file!!!\""
   ]
  },
  {
   "cell_type": "code",
   "execution_count": 166,
   "id": "73bf5c43",
   "metadata": {
    "execution": {
     "iopub.execute_input": "2023-08-12T09:52:57.343748Z",
     "iopub.status.busy": "2023-08-12T09:52:57.343318Z",
     "iopub.status.idle": "2023-08-12T09:52:57.348150Z",
     "shell.execute_reply": "2023-08-12T09:52:57.346946Z"
    },
    "papermill": {
     "duration": 0.114046,
     "end_time": "2023-08-12T09:52:57.350791",
     "exception": false,
     "start_time": "2023-08-12T09:52:57.236745",
     "status": "completed"
    },
    "tags": []
   },
   "outputs": [],
   "source": [
    "#     X_test = merged_test.copy()\n",
    "    \n",
    "#     y_pred = pipe_best4.predict(X_test)\n",
    "# #     np.unique(y_pred, return_counts=True)\n",
    "#     pred_df = pd.DataFrame(y_pred)\n",
    "#     pred_df.columns = [\"sentiment\"]\n",
    "#     pred_df.index.name = \"id\"\n",
    "#     pred_df.value_counts()"
   ]
  },
  {
   "cell_type": "code",
   "execution_count": 167,
   "id": "9b439df2",
   "metadata": {
    "execution": {
     "iopub.execute_input": "2023-08-12T09:52:57.566299Z",
     "iopub.status.busy": "2023-08-12T09:52:57.565642Z",
     "iopub.status.idle": "2023-08-12T09:52:57.570154Z",
     "shell.execute_reply": "2023-08-12T09:52:57.569266Z"
    },
    "papermill": {
     "duration": 0.115861,
     "end_time": "2023-08-12T09:52:57.572673",
     "exception": false,
     "start_time": "2023-08-12T09:52:57.456812",
     "status": "completed"
    },
    "tags": []
   },
   "outputs": [],
   "source": [
    "# X_test.columns"
   ]
  },
  {
   "cell_type": "markdown",
   "id": "16eddaa5",
   "metadata": {
    "papermill": {
     "duration": 0.108071,
     "end_time": "2023-08-12T09:52:57.787669",
     "exception": false,
     "start_time": "2023-08-12T09:52:57.679598",
     "status": "completed"
    },
    "tags": []
   },
   "source": [
    "### Uncomment to submit using v2 of submit function  "
   ]
  },
  {
   "cell_type": "code",
   "execution_count": 168,
   "id": "9e3abba7",
   "metadata": {
    "execution": {
     "iopub.execute_input": "2023-08-12T09:52:58.002955Z",
     "iopub.status.busy": "2023-08-12T09:52:58.002525Z",
     "iopub.status.idle": "2023-08-12T09:52:58.007253Z",
     "shell.execute_reply": "2023-08-12T09:52:58.005986Z"
    },
    "papermill": {
     "duration": 0.11701,
     "end_time": "2023-08-12T09:52:58.009700",
     "exception": false,
     "start_time": "2023-08-12T09:52:57.892690",
     "status": "completed"
    },
    "tags": []
   },
   "outputs": [],
   "source": [
    "# best4 = [\"audienceScore\", \"rating\", \"isFrequentReviewer\", \"reviewText\"]\n",
    "# best4"
   ]
  },
  {
   "cell_type": "code",
   "execution_count": 169,
   "id": "c5c014d6",
   "metadata": {
    "execution": {
     "iopub.execute_input": "2023-08-12T09:52:58.228067Z",
     "iopub.status.busy": "2023-08-12T09:52:58.226925Z",
     "iopub.status.idle": "2023-08-12T09:52:58.231714Z",
     "shell.execute_reply": "2023-08-12T09:52:58.230649Z"
    },
    "papermill": {
     "duration": 0.114498,
     "end_time": "2023-08-12T09:52:58.234299",
     "exception": false,
     "start_time": "2023-08-12T09:52:58.119801",
     "status": "completed"
    },
    "tags": []
   },
   "outputs": [],
   "source": [
    "# submit_v2(selected_model=pipe_RTonly, selected_features=['reviewText'])"
   ]
  },
  {
   "cell_type": "markdown",
   "id": "09c58e52",
   "metadata": {
    "papermill": {
     "duration": 0.105613,
     "end_time": "2023-08-12T09:52:58.445831",
     "exception": false,
     "start_time": "2023-08-12T09:52:58.340218",
     "status": "completed"
    },
    "tags": []
   },
   "source": [
    "### Inspect the submission.csv file  "
   ]
  },
  {
   "cell_type": "code",
   "execution_count": 170,
   "id": "183dd0f0",
   "metadata": {
    "execution": {
     "iopub.execute_input": "2023-08-12T09:52:58.657796Z",
     "iopub.status.busy": "2023-08-12T09:52:58.657337Z",
     "iopub.status.idle": "2023-08-12T09:52:58.662469Z",
     "shell.execute_reply": "2023-08-12T09:52:58.661375Z"
    },
    "papermill": {
     "duration": 0.113447,
     "end_time": "2023-08-12T09:52:58.664788",
     "exception": false,
     "start_time": "2023-08-12T09:52:58.551341",
     "status": "completed"
    },
    "tags": []
   },
   "outputs": [],
   "source": [
    "# sub = pd.read_csv('submission.csv')\n",
    "# sub.shape, sub.head()"
   ]
  },
  {
   "cell_type": "code",
   "execution_count": 171,
   "id": "64f90cd7",
   "metadata": {
    "execution": {
     "iopub.execute_input": "2023-08-12T09:52:58.879464Z",
     "iopub.status.busy": "2023-08-12T09:52:58.878716Z",
     "iopub.status.idle": "2023-08-12T09:52:58.883076Z",
     "shell.execute_reply": "2023-08-12T09:52:58.882214Z"
    },
    "papermill": {
     "duration": 0.113618,
     "end_time": "2023-08-12T09:52:58.885439",
     "exception": false,
     "start_time": "2023-08-12T09:52:58.771821",
     "status": "completed"
    },
    "tags": []
   },
   "outputs": [],
   "source": [
    "# sub['sentiment'].value_counts()"
   ]
  },
  {
   "cell_type": "markdown",
   "id": "092dc5e5",
   "metadata": {
    "papermill": {
     "duration": 0.105807,
     "end_time": "2023-08-12T09:52:59.096448",
     "exception": false,
     "start_time": "2023-08-12T09:52:58.990641",
     "status": "completed"
    },
    "tags": []
   },
   "source": [
    "## submit_v3 for merged file models - does not retrain on whole data  "
   ]
  },
  {
   "cell_type": "code",
   "execution_count": 172,
   "id": "0e466b30",
   "metadata": {
    "execution": {
     "iopub.execute_input": "2023-08-12T09:52:59.308020Z",
     "iopub.status.busy": "2023-08-12T09:52:59.307229Z",
     "iopub.status.idle": "2023-08-12T09:52:59.312645Z",
     "shell.execute_reply": "2023-08-12T09:52:59.311622Z"
    },
    "papermill": {
     "duration": 0.114511,
     "end_time": "2023-08-12T09:52:59.315087",
     "exception": false,
     "start_time": "2023-08-12T09:52:59.200576",
     "status": "completed"
    },
    "tags": []
   },
   "outputs": [],
   "source": [
    "# def submit_v3(selected_model=pipe_final):\n",
    "#     '''\n",
    "#     Note that \"selected_preprocessor\" is already used within selected_model or pipeline\n",
    "#     '''\n",
    "      \n",
    "#     # Predict on test.csv file\n",
    "#     merged_test = select_features(load_csv(\"test\"), load_csv(\"movies\"))\n",
    "#     X_test = merged_test.copy()\n",
    "    \n",
    "#     X_test = X_test[[\"audienceScore\", \"rating\", \"isFrequentReviewer\", \"reviewText\"]]    # This is a new line\n",
    "\n",
    "    \n",
    "#     y_pred = selected_model.predict(X_test)\n",
    "    \n",
    "#     pred_df = pd.DataFrame(y_pred)\n",
    "#     pred_df.columns = [\"sentiment\"]\n",
    "#     pred_df.index.name = \"id\"\n",
    "#     pred_df.to_csv(\"submission.csv\")\n",
    "    \n",
    "#     return \"Successfully created the submission file!!!\""
   ]
  },
  {
   "cell_type": "markdown",
   "id": "c600f631",
   "metadata": {
    "papermill": {
     "duration": 0.106796,
     "end_time": "2023-08-12T09:52:59.528152",
     "exception": false,
     "start_time": "2023-08-12T09:52:59.421356",
     "status": "completed"
    },
    "tags": []
   },
   "source": [
    "### Uncomment to submit using v3 of submit function  "
   ]
  },
  {
   "cell_type": "code",
   "execution_count": 173,
   "id": "ae32deca",
   "metadata": {
    "execution": {
     "iopub.execute_input": "2023-08-12T09:52:59.749520Z",
     "iopub.status.busy": "2023-08-12T09:52:59.748310Z",
     "iopub.status.idle": "2023-08-12T09:52:59.753683Z",
     "shell.execute_reply": "2023-08-12T09:52:59.752598Z"
    },
    "papermill": {
     "duration": 0.115275,
     "end_time": "2023-08-12T09:52:59.756007",
     "exception": false,
     "start_time": "2023-08-12T09:52:59.640732",
     "status": "completed"
    },
    "tags": []
   },
   "outputs": [],
   "source": [
    "# submit_v3(selected_model=pipe_best4)"
   ]
  },
  {
   "cell_type": "markdown",
   "id": "36d4d596",
   "metadata": {
    "papermill": {
     "duration": 0.122085,
     "end_time": "2023-08-12T09:52:59.987461",
     "exception": false,
     "start_time": "2023-08-12T09:52:59.865376",
     "status": "completed"
    },
    "tags": []
   },
   "source": [
    "## Rough work  "
   ]
  },
  {
   "cell_type": "code",
   "execution_count": 174,
   "id": "2de11dc7",
   "metadata": {
    "execution": {
     "iopub.execute_input": "2023-08-12T09:53:00.208898Z",
     "iopub.status.busy": "2023-08-12T09:53:00.208447Z",
     "iopub.status.idle": "2023-08-12T09:53:06.422318Z",
     "shell.execute_reply": "2023-08-12T09:53:06.421094Z"
    },
    "papermill": {
     "duration": 6.323495,
     "end_time": "2023-08-12T09:53:06.425186",
     "exception": false,
     "start_time": "2023-08-12T09:53:00.101691",
     "status": "completed"
    },
    "tags": []
   },
   "outputs": [],
   "source": [
    "    # Predict on test.csv file\n",
    "    merged_test = select_features(load_csv(\"test\"), load_csv(\"movies\"))\n",
    "    X_test = merged_test.copy()\n",
    "    \n",
    "    X_test = X_test[[\"audienceScore\", \"rating\", \"isFrequentReviewer\", \"reviewText\"]]    # This is a new line"
   ]
  },
  {
   "cell_type": "code",
   "execution_count": 175,
   "id": "120560dc",
   "metadata": {
    "execution": {
     "iopub.execute_input": "2023-08-12T09:53:06.639112Z",
     "iopub.status.busy": "2023-08-12T09:53:06.638558Z",
     "iopub.status.idle": "2023-08-12T09:53:06.643415Z",
     "shell.execute_reply": "2023-08-12T09:53:06.642085Z"
    },
    "papermill": {
     "duration": 0.115745,
     "end_time": "2023-08-12T09:53:06.645822",
     "exception": false,
     "start_time": "2023-08-12T09:53:06.530077",
     "status": "completed"
    },
    "tags": []
   },
   "outputs": [],
   "source": [
    "# X_test.head()"
   ]
  },
  {
   "cell_type": "code",
   "execution_count": 176,
   "id": "b45c3a31",
   "metadata": {
    "execution": {
     "iopub.execute_input": "2023-08-12T09:53:06.859005Z",
     "iopub.status.busy": "2023-08-12T09:53:06.858555Z",
     "iopub.status.idle": "2023-08-12T09:53:06.863338Z",
     "shell.execute_reply": "2023-08-12T09:53:06.862226Z"
    },
    "papermill": {
     "duration": 0.115231,
     "end_time": "2023-08-12T09:53:06.865659",
     "exception": false,
     "start_time": "2023-08-12T09:53:06.750428",
     "status": "completed"
    },
    "tags": []
   },
   "outputs": [],
   "source": [
    "# X_test['audienceScore'].describe()"
   ]
  },
  {
   "cell_type": "code",
   "execution_count": 177,
   "id": "94db0337",
   "metadata": {
    "execution": {
     "iopub.execute_input": "2023-08-12T09:53:07.077607Z",
     "iopub.status.busy": "2023-08-12T09:53:07.076462Z",
     "iopub.status.idle": "2023-08-12T09:53:07.081085Z",
     "shell.execute_reply": "2023-08-12T09:53:07.080259Z"
    },
    "papermill": {
     "duration": 0.112474,
     "end_time": "2023-08-12T09:53:07.083403",
     "exception": false,
     "start_time": "2023-08-12T09:53:06.970929",
     "status": "completed"
    },
    "tags": []
   },
   "outputs": [],
   "source": [
    "# X_test['rating'].value_counts()"
   ]
  },
  {
   "cell_type": "code",
   "execution_count": 178,
   "id": "b6fe1447",
   "metadata": {
    "execution": {
     "iopub.execute_input": "2023-08-12T09:53:07.296987Z",
     "iopub.status.busy": "2023-08-12T09:53:07.295746Z",
     "iopub.status.idle": "2023-08-12T09:53:07.300790Z",
     "shell.execute_reply": "2023-08-12T09:53:07.299948Z"
    },
    "papermill": {
     "duration": 0.114457,
     "end_time": "2023-08-12T09:53:07.303146",
     "exception": false,
     "start_time": "2023-08-12T09:53:07.188689",
     "status": "completed"
    },
    "tags": []
   },
   "outputs": [],
   "source": [
    "# X_test['isFrequentReviewer'].value_counts()"
   ]
  },
  {
   "cell_type": "markdown",
   "id": "9a5ebd11",
   "metadata": {
    "papermill": {
     "duration": 0.104887,
     "end_time": "2023-08-12T09:53:07.515142",
     "exception": false,
     "start_time": "2023-08-12T09:53:07.410255",
     "status": "completed"
    },
    "tags": []
   },
   "source": [
    "## Implement KNN classifier  "
   ]
  },
  {
   "cell_type": "code",
   "execution_count": 179,
   "id": "cb506385",
   "metadata": {
    "execution": {
     "iopub.execute_input": "2023-08-12T09:53:07.730192Z",
     "iopub.status.busy": "2023-08-12T09:53:07.729194Z",
     "iopub.status.idle": "2023-08-12T09:53:07.734231Z",
     "shell.execute_reply": "2023-08-12T09:53:07.733251Z"
    },
    "papermill": {
     "duration": 0.114139,
     "end_time": "2023-08-12T09:53:07.736758",
     "exception": false,
     "start_time": "2023-08-12T09:53:07.622619",
     "status": "completed"
    },
    "tags": []
   },
   "outputs": [],
   "source": [
    "# from sklearn.neighbors import KNeighborsClassifier"
   ]
  },
  {
   "cell_type": "code",
   "execution_count": 180,
   "id": "74f285b0",
   "metadata": {
    "execution": {
     "iopub.execute_input": "2023-08-12T09:53:08.023980Z",
     "iopub.status.busy": "2023-08-12T09:53:08.023579Z",
     "iopub.status.idle": "2023-08-12T09:53:08.028582Z",
     "shell.execute_reply": "2023-08-12T09:53:08.027140Z"
    },
    "papermill": {
     "duration": 0.187308,
     "end_time": "2023-08-12T09:53:08.031102",
     "exception": false,
     "start_time": "2023-08-12T09:53:07.843794",
     "status": "completed"
    },
    "tags": []
   },
   "outputs": [],
   "source": [
    "# Note that we are borrowing \"ct_final\" column transformer from above  "
   ]
  },
  {
   "cell_type": "code",
   "execution_count": 181,
   "id": "4d3e1522",
   "metadata": {
    "execution": {
     "iopub.execute_input": "2023-08-12T09:53:08.243669Z",
     "iopub.status.busy": "2023-08-12T09:53:08.243268Z",
     "iopub.status.idle": "2023-08-12T09:53:08.247978Z",
     "shell.execute_reply": "2023-08-12T09:53:08.246773Z"
    },
    "papermill": {
     "duration": 0.114169,
     "end_time": "2023-08-12T09:53:08.250578",
     "exception": false,
     "start_time": "2023-08-12T09:53:08.136409",
     "status": "completed"
    },
    "tags": []
   },
   "outputs": [],
   "source": [
    "# pipe_knn = Pipeline(steps=[\n",
    "#                         (\"preprocessor\", ct_final),\n",
    "#                         (\"model\", KNeighborsClassifier())\n",
    "#                     ])\n",
    "# pipe_knn"
   ]
  },
  {
   "cell_type": "code",
   "execution_count": 182,
   "id": "ec81ef49",
   "metadata": {
    "execution": {
     "iopub.execute_input": "2023-08-12T09:53:08.464092Z",
     "iopub.status.busy": "2023-08-12T09:53:08.463446Z",
     "iopub.status.idle": "2023-08-12T09:53:08.468055Z",
     "shell.execute_reply": "2023-08-12T09:53:08.467238Z"
    },
    "papermill": {
     "duration": 0.114372,
     "end_time": "2023-08-12T09:53:08.470701",
     "exception": false,
     "start_time": "2023-08-12T09:53:08.356329",
     "status": "completed"
    },
    "tags": []
   },
   "outputs": [],
   "source": [
    "# Train and predict on merged training data  \n",
    "# split_train_predict(merged_train_features, merged_train_labels, pipe_knn, test_size=0.25, random_state=42)"
   ]
  },
  {
   "cell_type": "markdown",
   "id": "1fa7e013",
   "metadata": {
    "papermill": {
     "duration": 0.106731,
     "end_time": "2023-08-12T09:53:08.682260",
     "exception": false,
     "start_time": "2023-08-12T09:53:08.575529",
     "status": "completed"
    },
    "tags": []
   },
   "source": [
    "# Part I (Older code)  "
   ]
  },
  {
   "cell_type": "markdown",
   "id": "6bb88b3d",
   "metadata": {
    "papermill": {
     "duration": 0.108477,
     "end_time": "2023-08-12T09:53:08.897267",
     "exception": false,
     "start_time": "2023-08-12T09:53:08.788790",
     "status": "completed"
    },
    "tags": []
   },
   "source": [
    "### Logistic Regression with stop words  "
   ]
  },
  {
   "cell_type": "code",
   "execution_count": 183,
   "id": "45148263",
   "metadata": {
    "execution": {
     "iopub.execute_input": "2023-08-12T09:53:09.111840Z",
     "iopub.status.busy": "2023-08-12T09:53:09.111446Z",
     "iopub.status.idle": "2023-08-12T09:53:09.116060Z",
     "shell.execute_reply": "2023-08-12T09:53:09.114769Z"
    },
    "papermill": {
     "duration": 0.115273,
     "end_time": "2023-08-12T09:53:09.118683",
     "exception": false,
     "start_time": "2023-08-12T09:53:09.003410",
     "status": "completed"
    },
    "tags": []
   },
   "outputs": [],
   "source": [
    "# tvec_sw = TfidfVectorizer(stop_words=stop_words)"
   ]
  },
  {
   "cell_type": "code",
   "execution_count": 184,
   "id": "d506d0fc",
   "metadata": {
    "execution": {
     "iopub.execute_input": "2023-08-12T09:53:09.333703Z",
     "iopub.status.busy": "2023-08-12T09:53:09.333293Z",
     "iopub.status.idle": "2023-08-12T09:53:09.337291Z",
     "shell.execute_reply": "2023-08-12T09:53:09.336284Z"
    },
    "papermill": {
     "duration": 0.115892,
     "end_time": "2023-08-12T09:53:09.339688",
     "exception": false,
     "start_time": "2023-08-12T09:53:09.223796",
     "status": "completed"
    },
    "tags": []
   },
   "outputs": [],
   "source": [
    "# logreg_sw_pipe = preprocess_n_train(X_train, y_train, tvec_sw, logreg)\n",
    "# logreg_sw_pipe"
   ]
  },
  {
   "cell_type": "code",
   "execution_count": 185,
   "id": "0f65d309",
   "metadata": {
    "execution": {
     "iopub.execute_input": "2023-08-12T09:53:09.552185Z",
     "iopub.status.busy": "2023-08-12T09:53:09.551756Z",
     "iopub.status.idle": "2023-08-12T09:53:09.556976Z",
     "shell.execute_reply": "2023-08-12T09:53:09.555818Z"
    },
    "papermill": {
     "duration": 0.115017,
     "end_time": "2023-08-12T09:53:09.559442",
     "exception": false,
     "start_time": "2023-08-12T09:53:09.444425",
     "status": "completed"
    },
    "tags": []
   },
   "outputs": [],
   "source": [
    "# y_pred_logreg_sw = predict_n_evaluate(logreg_sw_pipe, X_test, y_test)\n",
    "# y_pred_logreg_sw"
   ]
  },
  {
   "cell_type": "markdown",
   "id": "bef8ddce",
   "metadata": {
    "papermill": {
     "duration": 0.104745,
     "end_time": "2023-08-12T09:53:09.771229",
     "exception": false,
     "start_time": "2023-08-12T09:53:09.666484",
     "status": "completed"
    },
    "tags": []
   },
   "source": [
    "### Logistic regression with different ngram ranges  "
   ]
  },
  {
   "cell_type": "code",
   "execution_count": 186,
   "id": "e80e059c",
   "metadata": {
    "execution": {
     "iopub.execute_input": "2023-08-12T09:53:10.009854Z",
     "iopub.status.busy": "2023-08-12T09:53:10.009124Z",
     "iopub.status.idle": "2023-08-12T09:53:10.014954Z",
     "shell.execute_reply": "2023-08-12T09:53:10.013613Z"
    },
    "papermill": {
     "duration": 0.136815,
     "end_time": "2023-08-12T09:53:10.017949",
     "exception": false,
     "start_time": "2023-08-12T09:53:09.881134",
     "status": "completed"
    },
    "tags": []
   },
   "outputs": [],
   "source": [
    "# tvec_ngram_2 = TfidfVectorizer(ngram_range=(1,2))"
   ]
  },
  {
   "cell_type": "code",
   "execution_count": 187,
   "id": "e4b7e421",
   "metadata": {
    "execution": {
     "iopub.execute_input": "2023-08-12T09:53:10.234109Z",
     "iopub.status.busy": "2023-08-12T09:53:10.233696Z",
     "iopub.status.idle": "2023-08-12T09:53:10.238390Z",
     "shell.execute_reply": "2023-08-12T09:53:10.237252Z"
    },
    "papermill": {
     "duration": 0.113388,
     "end_time": "2023-08-12T09:53:10.240736",
     "exception": false,
     "start_time": "2023-08-12T09:53:10.127348",
     "status": "completed"
    },
    "tags": []
   },
   "outputs": [],
   "source": [
    "# logreg_ng2_pipe = preprocess_n_train(X_train, y_train, tvec_ngram_2, logreg)\n",
    "# logreg_ng2_pipe"
   ]
  },
  {
   "cell_type": "code",
   "execution_count": 188,
   "id": "e5f2be2b",
   "metadata": {
    "execution": {
     "iopub.execute_input": "2023-08-12T09:53:10.452353Z",
     "iopub.status.busy": "2023-08-12T09:53:10.451939Z",
     "iopub.status.idle": "2023-08-12T09:53:10.456756Z",
     "shell.execute_reply": "2023-08-12T09:53:10.455743Z"
    },
    "papermill": {
     "duration": 0.113255,
     "end_time": "2023-08-12T09:53:10.459021",
     "exception": false,
     "start_time": "2023-08-12T09:53:10.345766",
     "status": "completed"
    },
    "tags": []
   },
   "outputs": [],
   "source": [
    "# y_pred_logreg_ng2 = predict_n_evaluate(logreg_ng2_pipe, X_test, y_test)\n",
    "# y_pred_logreg_ng2"
   ]
  },
  {
   "cell_type": "markdown",
   "id": "457b53ee",
   "metadata": {
    "papermill": {
     "duration": 0.107359,
     "end_time": "2023-08-12T09:53:10.671210",
     "exception": false,
     "start_time": "2023-08-12T09:53:10.563851",
     "status": "completed"
    },
    "tags": []
   },
   "source": [
    "### Logistic regression with C=2, ngram range (1,2), stop words as None and min_df, max_df adjusted\n",
    "### Class weight balanced"
   ]
  },
  {
   "cell_type": "code",
   "execution_count": 189,
   "id": "a5845374",
   "metadata": {
    "execution": {
     "iopub.execute_input": "2023-08-12T09:53:10.885400Z",
     "iopub.status.busy": "2023-08-12T09:53:10.884948Z",
     "iopub.status.idle": "2023-08-12T09:53:10.889722Z",
     "shell.execute_reply": "2023-08-12T09:53:10.888667Z"
    },
    "papermill": {
     "duration": 0.115793,
     "end_time": "2023-08-12T09:53:10.892055",
     "exception": false,
     "start_time": "2023-08-12T09:53:10.776262",
     "status": "completed"
    },
    "tags": []
   },
   "outputs": [],
   "source": [
    "# logreg = LogisticRegression(max_iter=100000, C=2, class_weight=\"balanced\")"
   ]
  },
  {
   "cell_type": "code",
   "execution_count": 190,
   "id": "86c14210",
   "metadata": {
    "execution": {
     "iopub.execute_input": "2023-08-12T09:53:11.109092Z",
     "iopub.status.busy": "2023-08-12T09:53:11.108684Z",
     "iopub.status.idle": "2023-08-12T09:53:11.112862Z",
     "shell.execute_reply": "2023-08-12T09:53:11.112031Z"
    },
    "papermill": {
     "duration": 0.116997,
     "end_time": "2023-08-12T09:53:11.115316",
     "exception": false,
     "start_time": "2023-08-12T09:53:10.998319",
     "status": "completed"
    },
    "tags": []
   },
   "outputs": [],
   "source": [
    "# tvec_ngram_2_sw_df = TfidfVectorizer(ngram_range=(1,2), stop_words=None, min_df=0.0001, max_df=0.50)\n",
    "# tvec_ngram_2_sw_df"
   ]
  },
  {
   "cell_type": "code",
   "execution_count": 191,
   "id": "c7418fa0",
   "metadata": {
    "execution": {
     "iopub.execute_input": "2023-08-12T09:53:11.326496Z",
     "iopub.status.busy": "2023-08-12T09:53:11.326068Z",
     "iopub.status.idle": "2023-08-12T09:53:11.330840Z",
     "shell.execute_reply": "2023-08-12T09:53:11.329486Z"
    },
    "papermill": {
     "duration": 0.113705,
     "end_time": "2023-08-12T09:53:11.333212",
     "exception": false,
     "start_time": "2023-08-12T09:53:11.219507",
     "status": "completed"
    },
    "tags": []
   },
   "outputs": [],
   "source": [
    "# logreg_ng2_sw_df_pipe = preprocess_n_train(X_train, y_train, tvec_ngram_2_sw_df, logreg)\n",
    "# logreg_ng2_sw_df_pipe"
   ]
  },
  {
   "cell_type": "code",
   "execution_count": 192,
   "id": "14c32040",
   "metadata": {
    "execution": {
     "iopub.execute_input": "2023-08-12T09:53:11.549355Z",
     "iopub.status.busy": "2023-08-12T09:53:11.548917Z",
     "iopub.status.idle": "2023-08-12T09:53:11.553916Z",
     "shell.execute_reply": "2023-08-12T09:53:11.552955Z"
    },
    "papermill": {
     "duration": 0.116323,
     "end_time": "2023-08-12T09:53:11.556129",
     "exception": false,
     "start_time": "2023-08-12T09:53:11.439806",
     "status": "completed"
    },
    "tags": []
   },
   "outputs": [],
   "source": [
    "# y_pred_logreg_ng2_sw_df = predict_n_evaluate(logreg_ng2_sw_df_pipe, X_test, y_test)\n",
    "# y_pred_logreg_ng2_sw_df"
   ]
  },
  {
   "cell_type": "markdown",
   "id": "4ca89e17",
   "metadata": {
    "papermill": {
     "duration": 0.104579,
     "end_time": "2023-08-12T09:53:11.768581",
     "exception": false,
     "start_time": "2023-08-12T09:53:11.664002",
     "status": "completed"
    },
    "tags": []
   },
   "source": [
    "### Log reg with parameters from GridSearchCV  \n",
    "\n",
    "`This is the best score with \"reviewText column alone for analysis`  "
   ]
  },
  {
   "cell_type": "code",
   "execution_count": 193,
   "id": "231ef95e",
   "metadata": {
    "execution": {
     "iopub.execute_input": "2023-08-12T09:53:11.983803Z",
     "iopub.status.busy": "2023-08-12T09:53:11.983410Z",
     "iopub.status.idle": "2023-08-12T09:53:11.989128Z",
     "shell.execute_reply": "2023-08-12T09:53:11.987926Z"
    },
    "papermill": {
     "duration": 0.115763,
     "end_time": "2023-08-12T09:53:11.991822",
     "exception": false,
     "start_time": "2023-08-12T09:53:11.876059",
     "status": "completed"
    },
    "tags": []
   },
   "outputs": [],
   "source": [
    "logreg_cv1 = LogisticRegression(max_iter=100000, C=10)\n",
    "tvec_cv1 = TfidfVectorizer(max_features=None, ngram_range=(1,2))"
   ]
  },
  {
   "cell_type": "code",
   "execution_count": 194,
   "id": "c3b22785",
   "metadata": {
    "execution": {
     "iopub.execute_input": "2023-08-12T09:53:12.203876Z",
     "iopub.status.busy": "2023-08-12T09:53:12.203138Z",
     "iopub.status.idle": "2023-08-12T09:53:12.209060Z",
     "shell.execute_reply": "2023-08-12T09:53:12.207833Z"
    },
    "papermill": {
     "duration": 0.114622,
     "end_time": "2023-08-12T09:53:12.211973",
     "exception": false,
     "start_time": "2023-08-12T09:53:12.097351",
     "status": "completed"
    },
    "tags": []
   },
   "outputs": [],
   "source": [
    "pipe_cv1 = Pipeline(steps=[\n",
    "    (\"preprocessor\", tvec_cv1),\n",
    "    (\"model\", logreg_cv1)\n",
    "])"
   ]
  },
  {
   "cell_type": "code",
   "execution_count": 195,
   "id": "4068fa89",
   "metadata": {
    "execution": {
     "iopub.execute_input": "2023-08-12T09:53:12.425460Z",
     "iopub.status.busy": "2023-08-12T09:53:12.425025Z",
     "iopub.status.idle": "2023-08-12T09:53:12.429861Z",
     "shell.execute_reply": "2023-08-12T09:53:12.428487Z"
    },
    "papermill": {
     "duration": 0.113877,
     "end_time": "2023-08-12T09:53:12.432376",
     "exception": false,
     "start_time": "2023-08-12T09:53:12.318499",
     "status": "completed"
    },
    "tags": []
   },
   "outputs": [],
   "source": [
    "# pipe_cv1.fit(X_train, y_train)"
   ]
  },
  {
   "cell_type": "code",
   "execution_count": 196,
   "id": "13aebec5",
   "metadata": {
    "execution": {
     "iopub.execute_input": "2023-08-12T09:53:12.647736Z",
     "iopub.status.busy": "2023-08-12T09:53:12.647328Z",
     "iopub.status.idle": "2023-08-12T09:53:12.652502Z",
     "shell.execute_reply": "2023-08-12T09:53:12.651125Z"
    },
    "papermill": {
     "duration": 0.116113,
     "end_time": "2023-08-12T09:53:12.654911",
     "exception": false,
     "start_time": "2023-08-12T09:53:12.538798",
     "status": "completed"
    },
    "tags": []
   },
   "outputs": [],
   "source": [
    "# pipe_cv1.score(X_train, y_train)"
   ]
  },
  {
   "cell_type": "markdown",
   "id": "14b30ec6",
   "metadata": {
    "papermill": {
     "duration": 0.106691,
     "end_time": "2023-08-12T09:53:12.867555",
     "exception": false,
     "start_time": "2023-08-12T09:53:12.760864",
     "status": "completed"
    },
    "tags": []
   },
   "source": [
    "### SVM model with stop words  "
   ]
  },
  {
   "cell_type": "code",
   "execution_count": 197,
   "id": "c5f7eaaa",
   "metadata": {
    "execution": {
     "iopub.execute_input": "2023-08-12T09:53:13.083004Z",
     "iopub.status.busy": "2023-08-12T09:53:13.082603Z",
     "iopub.status.idle": "2023-08-12T09:53:13.087091Z",
     "shell.execute_reply": "2023-08-12T09:53:13.086077Z"
    },
    "papermill": {
     "duration": 0.114268,
     "end_time": "2023-08-12T09:53:13.089466",
     "exception": false,
     "start_time": "2023-08-12T09:53:12.975198",
     "status": "completed"
    },
    "tags": []
   },
   "outputs": [],
   "source": [
    "# svm_sw_pipe = preprocess_n_train(X_train, y_train, tvec_sw, svm)\n",
    "# svm_sw_pipe"
   ]
  },
  {
   "cell_type": "code",
   "execution_count": 198,
   "id": "afec79ec",
   "metadata": {
    "execution": {
     "iopub.execute_input": "2023-08-12T09:53:13.301876Z",
     "iopub.status.busy": "2023-08-12T09:53:13.301440Z",
     "iopub.status.idle": "2023-08-12T09:53:13.306286Z",
     "shell.execute_reply": "2023-08-12T09:53:13.305286Z"
    },
    "papermill": {
     "duration": 0.114073,
     "end_time": "2023-08-12T09:53:13.308619",
     "exception": false,
     "start_time": "2023-08-12T09:53:13.194546",
     "status": "completed"
    },
    "tags": []
   },
   "outputs": [],
   "source": [
    "# y_pred_svm_sw = predict_n_evaluate(svm_sw_pipe, X_test, y_test)\n",
    "# y_pred_svm_sw"
   ]
  },
  {
   "cell_type": "markdown",
   "id": "37382752",
   "metadata": {
    "papermill": {
     "duration": 0.104408,
     "end_time": "2023-08-12T09:53:13.518228",
     "exception": false,
     "start_time": "2023-08-12T09:53:13.413820",
     "status": "completed"
    },
    "tags": []
   },
   "source": [
    "### GaussianNB  "
   ]
  },
  {
   "cell_type": "markdown",
   "id": "ac0521d9",
   "metadata": {
    "papermill": {
     "duration": 0.106929,
     "end_time": "2023-08-12T09:53:13.730842",
     "exception": false,
     "start_time": "2023-08-12T09:53:13.623913",
     "status": "completed"
    },
    "tags": []
   },
   "source": [
    "https://stackoverflow.com/questions/28384680/scikit-learns-pipeline-a-sparse-matrix-was-passed-but-dense-data-is-required"
   ]
  },
  {
   "cell_type": "code",
   "execution_count": 199,
   "id": "f8121880",
   "metadata": {
    "execution": {
     "iopub.execute_input": "2023-08-12T09:53:13.943686Z",
     "iopub.status.busy": "2023-08-12T09:53:13.943268Z",
     "iopub.status.idle": "2023-08-12T09:53:13.948100Z",
     "shell.execute_reply": "2023-08-12T09:53:13.946941Z"
    },
    "papermill": {
     "duration": 0.114052,
     "end_time": "2023-08-12T09:53:13.950846",
     "exception": false,
     "start_time": "2023-08-12T09:53:13.836794",
     "status": "completed"
    },
    "tags": []
   },
   "outputs": [],
   "source": [
    "# gnb = GaussianNB()\n",
    "# gnb"
   ]
  },
  {
   "cell_type": "code",
   "execution_count": 200,
   "id": "4b1e7939",
   "metadata": {
    "execution": {
     "iopub.execute_input": "2023-08-12T09:53:14.163193Z",
     "iopub.status.busy": "2023-08-12T09:53:14.162680Z",
     "iopub.status.idle": "2023-08-12T09:53:14.167841Z",
     "shell.execute_reply": "2023-08-12T09:53:14.166574Z"
    },
    "papermill": {
     "duration": 0.113878,
     "end_time": "2023-08-12T09:53:14.170639",
     "exception": false,
     "start_time": "2023-08-12T09:53:14.056761",
     "status": "completed"
    },
    "tags": []
   },
   "outputs": [],
   "source": [
    "# gnb_pipe = preprocess_n_train(X_train, y_train, tvec, gnb)\n",
    "# gnb_pipe"
   ]
  },
  {
   "cell_type": "markdown",
   "id": "e0153c6d",
   "metadata": {
    "papermill": {
     "duration": 0.106983,
     "end_time": "2023-08-12T09:53:14.382904",
     "exception": false,
     "start_time": "2023-08-12T09:53:14.275921",
     "status": "completed"
    },
    "tags": []
   },
   "source": [
    "# Part II (Older code)  \n"
   ]
  },
  {
   "cell_type": "markdown",
   "id": "20513002",
   "metadata": {
    "papermill": {
     "duration": 0.178241,
     "end_time": "2023-08-12T09:53:14.668675",
     "exception": false,
     "start_time": "2023-08-12T09:53:14.490434",
     "status": "completed"
    },
    "tags": []
   },
   "source": [
    "### Separate features and labels from merged dataset  "
   ]
  },
  {
   "cell_type": "code",
   "execution_count": 201,
   "id": "e6b9eaaf",
   "metadata": {
    "execution": {
     "iopub.execute_input": "2023-08-12T09:53:14.883487Z",
     "iopub.status.busy": "2023-08-12T09:53:14.883038Z",
     "iopub.status.idle": "2023-08-12T09:53:14.888092Z",
     "shell.execute_reply": "2023-08-12T09:53:14.886953Z"
    },
    "papermill": {
     "duration": 0.116458,
     "end_time": "2023-08-12T09:53:14.890512",
     "exception": false,
     "start_time": "2023-08-12T09:53:14.774054",
     "status": "completed"
    },
    "tags": []
   },
   "outputs": [],
   "source": [
    "# merged_train_features = merged[['movieid', 'reviewerName', 'isFrequentReviewer', 'reviewText',\n",
    "#        'audienceScore', 'rating', 'runtimeMinutes', 'genre',\n",
    "#        'originalLanguage', 'director']]\n",
    "# merged_train_features.shape"
   ]
  },
  {
   "cell_type": "code",
   "execution_count": 202,
   "id": "7cfab8c3",
   "metadata": {
    "execution": {
     "iopub.execute_input": "2023-08-12T09:53:15.102712Z",
     "iopub.status.busy": "2023-08-12T09:53:15.102334Z",
     "iopub.status.idle": "2023-08-12T09:53:15.106751Z",
     "shell.execute_reply": "2023-08-12T09:53:15.105613Z"
    },
    "papermill": {
     "duration": 0.113661,
     "end_time": "2023-08-12T09:53:15.109014",
     "exception": false,
     "start_time": "2023-08-12T09:53:14.995353",
     "status": "completed"
    },
    "tags": []
   },
   "outputs": [],
   "source": [
    "# merged_train_labels = merged[\"sentiment\"]\n",
    "# merged_train_labels.shape"
   ]
  },
  {
   "cell_type": "markdown",
   "id": "38aaa342",
   "metadata": {
    "papermill": {
     "duration": 0.104505,
     "end_time": "2023-08-12T09:53:15.318240",
     "exception": false,
     "start_time": "2023-08-12T09:53:15.213735",
     "status": "completed"
    },
    "tags": []
   },
   "source": [
    "### Identify variable types for different preprocessing pipes  "
   ]
  },
  {
   "cell_type": "code",
   "execution_count": 203,
   "id": "3cb51ab8",
   "metadata": {
    "execution": {
     "iopub.execute_input": "2023-08-12T09:53:15.530772Z",
     "iopub.status.busy": "2023-08-12T09:53:15.530368Z",
     "iopub.status.idle": "2023-08-12T09:53:15.535521Z",
     "shell.execute_reply": "2023-08-12T09:53:15.534426Z"
    },
    "papermill": {
     "duration": 0.114763,
     "end_time": "2023-08-12T09:53:15.537958",
     "exception": false,
     "start_time": "2023-08-12T09:53:15.423195",
     "status": "completed"
    },
    "tags": []
   },
   "outputs": [],
   "source": [
    "# num_vars = [\"audienceScore\", \"runtimeMinutes\"]\n",
    "# txt_vars = [\"originalLanguage\", \"genre\", \"director\", \"reviewerName\", \"reviewText\"]\n",
    "# cat_vars = [\"rating\", \"isFrequentReviewer\"]"
   ]
  },
  {
   "cell_type": "code",
   "execution_count": 204,
   "id": "545801d6",
   "metadata": {
    "execution": {
     "iopub.execute_input": "2023-08-12T09:53:15.752001Z",
     "iopub.status.busy": "2023-08-12T09:53:15.751594Z",
     "iopub.status.idle": "2023-08-12T09:53:15.757501Z",
     "shell.execute_reply": "2023-08-12T09:53:15.756256Z"
    },
    "papermill": {
     "duration": 0.115434,
     "end_time": "2023-08-12T09:53:15.759819",
     "exception": false,
     "start_time": "2023-08-12T09:53:15.644385",
     "status": "completed"
    },
    "tags": []
   },
   "outputs": [],
   "source": [
    "# num_pipe = Pipeline(steps=[\n",
    "#                             (\"imputer\", SimpleImputer(strategy=\"mean\", missing_values=np.nan)),\n",
    "#                             (\"scaler\", MinMaxScaler())\n",
    "#                         ])\n",
    "# num_pipe"
   ]
  },
  {
   "cell_type": "code",
   "execution_count": 205,
   "id": "28f0273d",
   "metadata": {
    "execution": {
     "iopub.execute_input": "2023-08-12T09:53:15.976555Z",
     "iopub.status.busy": "2023-08-12T09:53:15.976100Z",
     "iopub.status.idle": "2023-08-12T09:53:15.980397Z",
     "shell.execute_reply": "2023-08-12T09:53:15.979523Z"
    },
    "papermill": {
     "duration": 0.114496,
     "end_time": "2023-08-12T09:53:15.982611",
     "exception": false,
     "start_time": "2023-08-12T09:53:15.868115",
     "status": "completed"
    },
    "tags": []
   },
   "outputs": [],
   "source": [
    "# txt_pipe = Pipeline(steps=[\n",
    "#                             (\"tvec\", TfidfVectorizer())\n",
    "#                         ])\n",
    "# txt_pipe"
   ]
  },
  {
   "cell_type": "code",
   "execution_count": 206,
   "id": "1d818e2d",
   "metadata": {
    "execution": {
     "iopub.execute_input": "2023-08-12T09:53:16.195111Z",
     "iopub.status.busy": "2023-08-12T09:53:16.194632Z",
     "iopub.status.idle": "2023-08-12T09:53:16.199572Z",
     "shell.execute_reply": "2023-08-12T09:53:16.198244Z"
    },
    "papermill": {
     "duration": 0.11385,
     "end_time": "2023-08-12T09:53:16.202073",
     "exception": false,
     "start_time": "2023-08-12T09:53:16.088223",
     "status": "completed"
    },
    "tags": []
   },
   "outputs": [],
   "source": [
    "# cat_pipe = Pipeline(steps=[\n",
    "#                             (\"ohe\", OneHotEncoder(handle_unknown=\"ignore\"))\n",
    "#                         ])\n",
    "# cat_pipe"
   ]
  },
  {
   "cell_type": "code",
   "execution_count": 207,
   "id": "9367d117",
   "metadata": {
    "execution": {
     "iopub.execute_input": "2023-08-12T09:53:16.432511Z",
     "iopub.status.busy": "2023-08-12T09:53:16.432056Z",
     "iopub.status.idle": "2023-08-12T09:53:16.437079Z",
     "shell.execute_reply": "2023-08-12T09:53:16.435937Z"
    },
    "papermill": {
     "duration": 0.120986,
     "end_time": "2023-08-12T09:53:16.439678",
     "exception": false,
     "start_time": "2023-08-12T09:53:16.318692",
     "status": "completed"
    },
    "tags": []
   },
   "outputs": [],
   "source": [
    "# tfidf_vec_1 = TfidfVectorizer(ngram_range=(1,2))\n",
    "# tfidf_vec_1"
   ]
  },
  {
   "cell_type": "code",
   "execution_count": 208,
   "id": "58503bab",
   "metadata": {
    "execution": {
     "iopub.execute_input": "2023-08-12T09:53:16.657888Z",
     "iopub.status.busy": "2023-08-12T09:53:16.657284Z",
     "iopub.status.idle": "2023-08-12T09:53:16.663922Z",
     "shell.execute_reply": "2023-08-12T09:53:16.662642Z"
    },
    "papermill": {
     "duration": 0.118819,
     "end_time": "2023-08-12T09:53:16.666447",
     "exception": false,
     "start_time": "2023-08-12T09:53:16.547628",
     "status": "completed"
    },
    "tags": []
   },
   "outputs": [],
   "source": [
    "# ct_final = ColumnTransformer(transformers=[\n",
    "#                                         (\"num\", num_pipe, num_vars),\n",
    "#                                         (\"txt1\", txt_pipe, \"originalLanguage\"),\n",
    "#                                         (\"txt2\", txt_pipe, \"genre\"),\n",
    "#                                         (\"txt3\", txt_pipe, \"director\"),\n",
    "#                                         (\"cat\", cat_pipe, cat_vars),\n",
    "#                                         (\"txt4a\", tfidf_vec_1, \"reviewText\")\n",
    "# #                                         (\"txt4\", TfidfVectorizer(ngram_range=(1,2)), \"reviewText\"),\n",
    "# #                                         (\"cat2\", cat_pipe, [\"isFrequentReviewer\"])\n",
    "#                                         ], remainder=\"drop\", n_jobs=1)\n",
    "\n",
    "# # Note that this transformer drops \"movieid\" column and \"reviewerName\" column  \n",
    "# ct_final"
   ]
  },
  {
   "cell_type": "code",
   "execution_count": 209,
   "id": "ce1d02d0",
   "metadata": {
    "execution": {
     "iopub.execute_input": "2023-08-12T09:53:16.886389Z",
     "iopub.status.busy": "2023-08-12T09:53:16.885931Z",
     "iopub.status.idle": "2023-08-12T09:53:16.891616Z",
     "shell.execute_reply": "2023-08-12T09:53:16.890392Z"
    },
    "papermill": {
     "duration": 0.118585,
     "end_time": "2023-08-12T09:53:16.894235",
     "exception": false,
     "start_time": "2023-08-12T09:53:16.775650",
     "status": "completed"
    },
    "tags": []
   },
   "outputs": [],
   "source": [
    "# pipe_final = Pipeline(steps=[\n",
    "#                         (\"preprocessor\", ct_final),\n",
    "#                         (\"model\", LogisticRegression(max_iter=100000))\n",
    "#                     ])\n",
    "# pipe_final"
   ]
  },
  {
   "cell_type": "code",
   "execution_count": 210,
   "id": "ed65e657",
   "metadata": {
    "execution": {
     "iopub.execute_input": "2023-08-12T09:53:17.109487Z",
     "iopub.status.busy": "2023-08-12T09:53:17.108371Z",
     "iopub.status.idle": "2023-08-12T09:53:17.113618Z",
     "shell.execute_reply": "2023-08-12T09:53:17.112554Z"
    },
    "papermill": {
     "duration": 0.115028,
     "end_time": "2023-08-12T09:53:17.115998",
     "exception": false,
     "start_time": "2023-08-12T09:53:17.000970",
     "status": "completed"
    },
    "tags": []
   },
   "outputs": [],
   "source": [
    "# final_vars = num_vars + txt_vars + cat_vars\n",
    "# len(final_vars), final_vars"
   ]
  },
  {
   "cell_type": "markdown",
   "id": "aaa4e48b",
   "metadata": {
    "papermill": {
     "duration": 0.104808,
     "end_time": "2023-08-12T09:53:17.325802",
     "exception": false,
     "start_time": "2023-08-12T09:53:17.220994",
     "status": "completed"
    },
    "tags": []
   },
   "source": [
    "### Use \"split_train_predict\" function to run end-to-end pipeline  "
   ]
  },
  {
   "cell_type": "code",
   "execution_count": 211,
   "id": "f6791d8e",
   "metadata": {
    "execution": {
     "iopub.execute_input": "2023-08-12T09:53:17.552517Z",
     "iopub.status.busy": "2023-08-12T09:53:17.551972Z",
     "iopub.status.idle": "2023-08-12T09:53:17.557306Z",
     "shell.execute_reply": "2023-08-12T09:53:17.555951Z"
    },
    "papermill": {
     "duration": 0.127882,
     "end_time": "2023-08-12T09:53:17.559884",
     "exception": false,
     "start_time": "2023-08-12T09:53:17.432002",
     "status": "completed"
    },
    "tags": []
   },
   "outputs": [],
   "source": [
    "# split_train_predict(merged_train_features, merged_train_labels, pipe_final, test_size=0.25, random_state=42)"
   ]
  },
  {
   "cell_type": "markdown",
   "id": "08fbe2bd",
   "metadata": {
    "papermill": {
     "duration": 0.114641,
     "end_time": "2023-08-12T09:53:17.792311",
     "exception": false,
     "start_time": "2023-08-12T09:53:17.677670",
     "status": "completed"
    },
    "tags": []
   },
   "source": [
    "## Try the best four features obtained on local machine  "
   ]
  },
  {
   "cell_type": "code",
   "execution_count": 212,
   "id": "b91c5f07",
   "metadata": {
    "execution": {
     "iopub.execute_input": "2023-08-12T09:53:18.021433Z",
     "iopub.status.busy": "2023-08-12T09:53:18.019459Z",
     "iopub.status.idle": "2023-08-12T09:53:18.026029Z",
     "shell.execute_reply": "2023-08-12T09:53:18.025120Z"
    },
    "papermill": {
     "duration": 0.120189,
     "end_time": "2023-08-12T09:53:18.028773",
     "exception": false,
     "start_time": "2023-08-12T09:53:17.908584",
     "status": "completed"
    },
    "tags": []
   },
   "outputs": [],
   "source": [
    "# tfidf_vec_2 = TfidfVectorizer(ngram_range=(1,2))\n",
    "# tfidf_vec_2"
   ]
  },
  {
   "cell_type": "code",
   "execution_count": 213,
   "id": "b0bce9b7",
   "metadata": {
    "execution": {
     "iopub.execute_input": "2023-08-12T09:53:18.243778Z",
     "iopub.status.busy": "2023-08-12T09:53:18.242685Z",
     "iopub.status.idle": "2023-08-12T09:53:18.248040Z",
     "shell.execute_reply": "2023-08-12T09:53:18.247238Z"
    },
    "papermill": {
     "duration": 0.115406,
     "end_time": "2023-08-12T09:53:18.250422",
     "exception": false,
     "start_time": "2023-08-12T09:53:18.135016",
     "status": "completed"
    },
    "tags": []
   },
   "outputs": [],
   "source": [
    "# ct_best4 = ColumnTransformer(transformers=[\n",
    "#                                             (\"num\", num_pipe, [\"audienceScore\"]),\n",
    "#                                             (\"cat\", cat_pipe, [\"rating\", \"isFrequentReviewer\"]),\n",
    "#                                             (\"tvec\", tfidf_vec_2, \"reviewText\")\n",
    "#                             ])\n",
    "\n",
    "# pipe_best4 = Pipeline(steps=[\n",
    "#     (\"preprocessor\", ct_best4),\n",
    "#     (\"model\", LogisticRegression())\n",
    "# ])\n",
    "\n",
    "# pipe_best4.set_params(model__C=10, model__max_iter=100000)\n",
    "\n",
    "# pipe_best4"
   ]
  },
  {
   "cell_type": "code",
   "execution_count": 214,
   "id": "5e8765d8",
   "metadata": {
    "execution": {
     "iopub.execute_input": "2023-08-12T09:53:18.468825Z",
     "iopub.status.busy": "2023-08-12T09:53:18.468103Z",
     "iopub.status.idle": "2023-08-12T09:53:18.472938Z",
     "shell.execute_reply": "2023-08-12T09:53:18.472092Z"
    },
    "papermill": {
     "duration": 0.11786,
     "end_time": "2023-08-12T09:53:18.475386",
     "exception": false,
     "start_time": "2023-08-12T09:53:18.357526",
     "status": "completed"
    },
    "tags": []
   },
   "outputs": [],
   "source": [
    "# split_train_predict(merged[[\"audienceScore\", \"rating\", \"isFrequentReviewer\", \"reviewText\"]], merged[\"sentiment\"], pipe_best4, test_size=0.25)"
   ]
  },
  {
   "cell_type": "markdown",
   "id": "3eeb3a0d",
   "metadata": {
    "papermill": {
     "duration": 0.105604,
     "end_time": "2023-08-12T09:53:18.686041",
     "exception": false,
     "start_time": "2023-08-12T09:53:18.580437",
     "status": "completed"
    },
    "tags": []
   },
   "source": [
    "## Try only 'reviewText' column  "
   ]
  },
  {
   "cell_type": "code",
   "execution_count": 215,
   "id": "250b8626",
   "metadata": {
    "execution": {
     "iopub.execute_input": "2023-08-12T09:53:18.901347Z",
     "iopub.status.busy": "2023-08-12T09:53:18.900697Z",
     "iopub.status.idle": "2023-08-12T09:53:18.905023Z",
     "shell.execute_reply": "2023-08-12T09:53:18.904240Z"
    },
    "papermill": {
     "duration": 0.115527,
     "end_time": "2023-08-12T09:53:18.907404",
     "exception": false,
     "start_time": "2023-08-12T09:53:18.791877",
     "status": "completed"
    },
    "tags": []
   },
   "outputs": [],
   "source": [
    "# tfidf_vec_3 = TfidfVectorizer(ngram_range=(1,2))\n",
    "# tfidf_vec_3"
   ]
  },
  {
   "cell_type": "code",
   "execution_count": 216,
   "id": "5aae6cec",
   "metadata": {
    "execution": {
     "iopub.execute_input": "2023-08-12T09:53:19.121117Z",
     "iopub.status.busy": "2023-08-12T09:53:19.120484Z",
     "iopub.status.idle": "2023-08-12T09:53:19.125132Z",
     "shell.execute_reply": "2023-08-12T09:53:19.124271Z"
    },
    "papermill": {
     "duration": 0.114107,
     "end_time": "2023-08-12T09:53:19.127721",
     "exception": false,
     "start_time": "2023-08-12T09:53:19.013614",
     "status": "completed"
    },
    "tags": []
   },
   "outputs": [],
   "source": [
    "# ct_RTonly = ColumnTransformer(transformers=[\n",
    "#                                             ('txt', tfidf_vec_3, 'reviewText'),\n",
    "#                                             ], remainder='drop')\n",
    "# ct_RTonly"
   ]
  },
  {
   "cell_type": "code",
   "execution_count": 217,
   "id": "156360a9",
   "metadata": {
    "execution": {
     "iopub.execute_input": "2023-08-12T09:53:19.340458Z",
     "iopub.status.busy": "2023-08-12T09:53:19.339786Z",
     "iopub.status.idle": "2023-08-12T09:53:19.344652Z",
     "shell.execute_reply": "2023-08-12T09:53:19.343655Z"
    },
    "papermill": {
     "duration": 0.113922,
     "end_time": "2023-08-12T09:53:19.346839",
     "exception": false,
     "start_time": "2023-08-12T09:53:19.232917",
     "status": "completed"
    },
    "tags": []
   },
   "outputs": [],
   "source": [
    "# pipe_RTonly = Pipeline(steps=[\n",
    "#     (\"preprocessor\", ct_RTonly),\n",
    "#     (\"model\", LogisticRegression())\n",
    "# ])\n",
    "\n",
    "# pipe_RTonly.set_params(model__C=10, model__max_iter=100000)\n",
    "\n",
    "# pipe_RTonly"
   ]
  },
  {
   "cell_type": "markdown",
   "id": "180ec826",
   "metadata": {
    "papermill": {
     "duration": 0.104721,
     "end_time": "2023-08-12T09:53:19.556539",
     "exception": false,
     "start_time": "2023-08-12T09:53:19.451818",
     "status": "completed"
    },
    "tags": []
   },
   "source": [
    "## Using the 'submit_v4' function  "
   ]
  },
  {
   "cell_type": "markdown",
   "id": "340b0b60",
   "metadata": {
    "papermill": {
     "duration": 0.106028,
     "end_time": "2023-08-12T09:53:19.768466",
     "exception": false,
     "start_time": "2023-08-12T09:53:19.662438",
     "status": "completed"
    },
    "tags": []
   },
   "source": [
    "### Try the best 4 parameters with submit_v4 function"
   ]
  },
  {
   "cell_type": "code",
   "execution_count": 218,
   "id": "1f7e90cb",
   "metadata": {
    "execution": {
     "iopub.execute_input": "2023-08-12T09:53:19.997482Z",
     "iopub.status.busy": "2023-08-12T09:53:19.996113Z",
     "iopub.status.idle": "2023-08-12T09:53:20.003704Z",
     "shell.execute_reply": "2023-08-12T09:53:20.002312Z"
    },
    "papermill": {
     "duration": 0.129431,
     "end_time": "2023-08-12T09:53:20.007012",
     "exception": false,
     "start_time": "2023-08-12T09:53:19.877581",
     "status": "completed"
    },
    "tags": []
   },
   "outputs": [],
   "source": [
    "# best4 = [\"audienceScore\", \"rating\", \"isFrequentReviewer\", \"reviewText\"]\n",
    "\n",
    "# best4_dict = {'cat': [\"rating\", \"isFrequentReviewer\"],\n",
    "#              'num': [\"audienceScore\"],\n",
    "#              'txt': ['reviewText']}\n",
    "\n",
    "# best4_dict = {'num': [\"audienceScore\"],\n",
    "#              'txt': ['reviewText', 'movieid', 'director']}\n",
    "\n",
    "# best4_dict"
   ]
  },
  {
   "cell_type": "code",
   "execution_count": 219,
   "id": "715bdc1e",
   "metadata": {
    "execution": {
     "iopub.execute_input": "2023-08-12T09:53:20.227638Z",
     "iopub.status.busy": "2023-08-12T09:53:20.226576Z",
     "iopub.status.idle": "2023-08-12T09:53:20.231098Z",
     "shell.execute_reply": "2023-08-12T09:53:20.230238Z"
    },
    "papermill": {
     "duration": 0.11322,
     "end_time": "2023-08-12T09:53:20.233274",
     "exception": false,
     "start_time": "2023-08-12T09:53:20.120054",
     "status": "completed"
    },
    "tags": []
   },
   "outputs": [],
   "source": [
    "# submit_v4(selected_features=best4_dict)"
   ]
  },
  {
   "cell_type": "markdown",
   "id": "aae851a3",
   "metadata": {
    "papermill": {
     "duration": 0.105046,
     "end_time": "2023-08-12T09:53:20.443603",
     "exception": false,
     "start_time": "2023-08-12T09:53:20.338557",
     "status": "completed"
    },
    "tags": []
   },
   "source": [
    "### Try the best 3 parameters with submit_v4 function"
   ]
  },
  {
   "cell_type": "code",
   "execution_count": 220,
   "id": "7e458b09",
   "metadata": {
    "execution": {
     "iopub.execute_input": "2023-08-12T09:53:20.658828Z",
     "iopub.status.busy": "2023-08-12T09:53:20.658061Z",
     "iopub.status.idle": "2023-08-12T09:53:20.662807Z",
     "shell.execute_reply": "2023-08-12T09:53:20.661613Z"
    },
    "papermill": {
     "duration": 0.114754,
     "end_time": "2023-08-12T09:53:20.665208",
     "exception": false,
     "start_time": "2023-08-12T09:53:20.550454",
     "status": "completed"
    },
    "tags": []
   },
   "outputs": [],
   "source": [
    "# best3 = [\"audienceScore\", \"isFrequentReviewer\", \"reviewText\"]\n",
    "# best3_dict = {'cat': [\"isFrequentReviewer\"],\n",
    "#              'num': [\"audienceScore\"],\n",
    "#              'txt': ['reviewText']}\n",
    "# best3_dict"
   ]
  },
  {
   "cell_type": "code",
   "execution_count": 221,
   "id": "42a35f48",
   "metadata": {
    "execution": {
     "iopub.execute_input": "2023-08-12T09:53:20.884971Z",
     "iopub.status.busy": "2023-08-12T09:53:20.884181Z",
     "iopub.status.idle": "2023-08-12T09:53:20.889054Z",
     "shell.execute_reply": "2023-08-12T09:53:20.887956Z"
    },
    "papermill": {
     "duration": 0.11764,
     "end_time": "2023-08-12T09:53:20.891479",
     "exception": false,
     "start_time": "2023-08-12T09:53:20.773839",
     "status": "completed"
    },
    "tags": []
   },
   "outputs": [],
   "source": [
    "# submit_v4(selected_features=best3_dict)"
   ]
  },
  {
   "cell_type": "markdown",
   "id": "02385497",
   "metadata": {
    "papermill": {
     "duration": 0.1067,
     "end_time": "2023-08-12T09:53:21.105398",
     "exception": false,
     "start_time": "2023-08-12T09:53:20.998698",
     "status": "completed"
    },
    "tags": []
   },
   "source": [
    "## Try throwing almost everything (no boxOffice) at submit_v4!  "
   ]
  },
  {
   "cell_type": "code",
   "execution_count": 222,
   "id": "ac2506a9",
   "metadata": {
    "execution": {
     "iopub.execute_input": "2023-08-12T09:53:21.317852Z",
     "iopub.status.busy": "2023-08-12T09:53:21.317043Z",
     "iopub.status.idle": "2023-08-12T09:53:21.324963Z",
     "shell.execute_reply": "2023-08-12T09:53:21.323890Z"
    },
    "papermill": {
     "duration": 0.116859,
     "end_time": "2023-08-12T09:53:21.327387",
     "exception": false,
     "start_time": "2023-08-12T09:53:21.210528",
     "status": "completed"
    },
    "tags": []
   },
   "outputs": [
    {
     "data": {
      "text/plain": [
       "\"Most from merged = ['movieid', 'reviewerName', 'isFrequentReviewer', 'reviewText',\\n       'audienceScore', 'rating', 'runtimeMinutes', 'genre', \\n       'originalLanguage', 'director']\""
      ]
     },
     "execution_count": 222,
     "metadata": {},
     "output_type": "execute_result"
    }
   ],
   "source": [
    "\"\"\"Most from merged = ['movieid', 'reviewerName', 'isFrequentReviewer', 'reviewText',\n",
    "       'audienceScore', 'rating', 'runtimeMinutes', 'genre', \n",
    "       'originalLanguage', 'director']\"\"\"\n",
    "\n",
    "# almost_dict = {'cat': [\"isFrequentReviewer\", \"rating\", \"originalLanguage\"],\n",
    "#              'num': [\"audienceScore\", \"runtimeMinutes\"],\n",
    "#              'txt': ['reviewText', 'reviewerName', 'movieid', 'genre', 'director']}\n",
    "# almost_dict"
   ]
  },
  {
   "cell_type": "code",
   "execution_count": 223,
   "id": "8d1ea990",
   "metadata": {
    "execution": {
     "iopub.execute_input": "2023-08-12T09:53:21.542593Z",
     "iopub.status.busy": "2023-08-12T09:53:21.541730Z",
     "iopub.status.idle": "2023-08-12T09:53:21.546695Z",
     "shell.execute_reply": "2023-08-12T09:53:21.545875Z"
    },
    "papermill": {
     "duration": 0.11548,
     "end_time": "2023-08-12T09:53:21.549066",
     "exception": false,
     "start_time": "2023-08-12T09:53:21.433586",
     "status": "completed"
    },
    "tags": []
   },
   "outputs": [],
   "source": [
    "# submit_v4(selected_features=almost_dict)"
   ]
  },
  {
   "cell_type": "markdown",
   "id": "8c43336a",
   "metadata": {
    "papermill": {
     "duration": 0.10565,
     "end_time": "2023-08-12T09:53:21.761853",
     "exception": false,
     "start_time": "2023-08-12T09:53:21.656203",
     "status": "completed"
    },
    "tags": []
   },
   "source": [
    "## Try throwing everything possible at submit_v4!  "
   ]
  },
  {
   "cell_type": "code",
   "execution_count": 224,
   "id": "00f1ba1c",
   "metadata": {
    "execution": {
     "iopub.execute_input": "2023-08-12T09:53:21.976572Z",
     "iopub.status.busy": "2023-08-12T09:53:21.976172Z",
     "iopub.status.idle": "2023-08-12T09:53:21.982936Z",
     "shell.execute_reply": "2023-08-12T09:53:21.982118Z"
    },
    "papermill": {
     "duration": 0.118496,
     "end_time": "2023-08-12T09:53:21.985436",
     "exception": false,
     "start_time": "2023-08-12T09:53:21.866940",
     "status": "completed"
    },
    "tags": []
   },
   "outputs": [
    {
     "data": {
      "text/plain": [
       "\"All from merged = ['movieid', 'reviewerName', 'isFrequentReviewer', 'reviewText',\\n       'audienceScore', 'rating', 'runtimeMinutes', 'genre', 'boxOffice',\\n       'originalLanguage', 'director']\""
      ]
     },
     "execution_count": 224,
     "metadata": {},
     "output_type": "execute_result"
    }
   ],
   "source": [
    "\"\"\"All from merged = ['movieid', 'reviewerName', 'isFrequentReviewer', 'reviewText',\n",
    "       'audienceScore', 'rating', 'runtimeMinutes', 'genre', 'boxOffice',\n",
    "       'originalLanguage', 'director']\"\"\"\n",
    "\n",
    "# all_dict = {'cat': [\"isFrequentReviewer\", \"rating\", \"originalLanguage\"],\n",
    "#              'num': [\"audienceScore\", \"runtimeMinutes\", \"boxOffice\"],\n",
    "#              'txt': ['reviewText', 'reviewerName', 'movieid', 'genre', 'director']}\n",
    "# all_dict"
   ]
  },
  {
   "cell_type": "code",
   "execution_count": 225,
   "id": "04e3d90d",
   "metadata": {
    "execution": {
     "iopub.execute_input": "2023-08-12T09:53:22.199705Z",
     "iopub.status.busy": "2023-08-12T09:53:22.199268Z",
     "iopub.status.idle": "2023-08-12T09:53:22.204362Z",
     "shell.execute_reply": "2023-08-12T09:53:22.203135Z"
    },
    "papermill": {
     "duration": 0.114391,
     "end_time": "2023-08-12T09:53:22.206759",
     "exception": false,
     "start_time": "2023-08-12T09:53:22.092368",
     "status": "completed"
    },
    "tags": []
   },
   "outputs": [],
   "source": [
    "# submit_v4(selected_features=all_dict)"
   ]
  },
  {
   "cell_type": "markdown",
   "id": "b5b34c6e",
   "metadata": {
    "papermill": {
     "duration": 0.105856,
     "end_time": "2023-08-12T09:53:22.417841",
     "exception": false,
     "start_time": "2023-08-12T09:53:22.311985",
     "status": "completed"
    },
    "tags": []
   },
   "source": [
    "## Try GridSearchCV on everything  "
   ]
  },
  {
   "cell_type": "code",
   "execution_count": 226,
   "id": "4cb41a1e",
   "metadata": {
    "execution": {
     "iopub.execute_input": "2023-08-12T09:53:22.634913Z",
     "iopub.status.busy": "2023-08-12T09:53:22.634497Z",
     "iopub.status.idle": "2023-08-12T09:53:22.640139Z",
     "shell.execute_reply": "2023-08-12T09:53:22.638783Z"
    },
    "papermill": {
     "duration": 0.116818,
     "end_time": "2023-08-12T09:53:22.642776",
     "exception": false,
     "start_time": "2023-08-12T09:53:22.525958",
     "status": "completed"
    },
    "tags": []
   },
   "outputs": [],
   "source": [
    "# param_grid = {\n",
    "#     \"model__C\": [0.5, 2, 5, 15]\n",
    "# }\n",
    "\n",
    "# param_grid = {\n",
    "#     'model__C' : [1, 5],\n",
    "#     'model__solver': ['lbfgs', 'liblinear', 'newton-cg', 'newton-cholesky', 'sag', 'saga']\n",
    "# }\n",
    "\n",
    "# param_grid = {\n",
    "#     'model__C' : [1, 5],\n",
    "#     'model__solver': ['lbfgs', 'liblinear', 'sag', 'saga']\n",
    "# }\n",
    "\n",
    "# param_grid = {\n",
    "#     'model__C' : [1, 5, 10, 15],\n",
    "#     'model__solver': ['lbfgs', 'liblinear', 'saga', 'newton-cg']\n",
    "# }\n",
    "\n",
    "# param_grid = {\n",
    "#     'model__C' : [1, 5, 10, 20],\n",
    "#     'model__solver': ['lbfgs', 'liblinear', 'saga']\n",
    "# }\n",
    "\n",
    "# param_grid"
   ]
  },
  {
   "cell_type": "code",
   "execution_count": 227,
   "id": "5e29f098",
   "metadata": {
    "execution": {
     "iopub.execute_input": "2023-08-12T09:53:22.858048Z",
     "iopub.status.busy": "2023-08-12T09:53:22.857636Z",
     "iopub.status.idle": "2023-08-12T09:53:22.862205Z",
     "shell.execute_reply": "2023-08-12T09:53:22.860944Z"
    },
    "papermill": {
     "duration": 0.116693,
     "end_time": "2023-08-12T09:53:22.864714",
     "exception": false,
     "start_time": "2023-08-12T09:53:22.748021",
     "status": "completed"
    },
    "tags": []
   },
   "outputs": [],
   "source": [
    "# submit_v4(selected_features={'txt': [\"genre\"]}, param_grid=param_grid)"
   ]
  },
  {
   "cell_type": "code",
   "execution_count": 228,
   "id": "22ca976c",
   "metadata": {
    "execution": {
     "iopub.execute_input": "2023-08-12T09:53:23.082469Z",
     "iopub.status.busy": "2023-08-12T09:53:23.082060Z",
     "iopub.status.idle": "2023-08-12T09:53:23.089735Z",
     "shell.execute_reply": "2023-08-12T09:53:23.088499Z"
    },
    "papermill": {
     "duration": 0.118763,
     "end_time": "2023-08-12T09:53:23.091999",
     "exception": false,
     "start_time": "2023-08-12T09:53:22.973236",
     "status": "completed"
    },
    "tags": []
   },
   "outputs": [
    {
     "data": {
      "text/plain": [
       "\"Used 'groupby' function instead on 'drop_duplicates' on movies.csv file. \\nIt reduced the number of missing values significantly! \\nThen used LogisticRegression() with GridSearchCV on submit_v4 function with \\nparam_grid={'model__C': [1, 5, 10], 'model__solver': ['lbfgs', 'liblinear', 'saga']}. \\nThe best f1_micro score in GridSearchCV was 0.8399771362056203 which is highest among \\nall the versions so far. Best C was 5 and best solver was 'saga'.\\nScore obtained was 0.84385 which is lower than 0.84441.\""
      ]
     },
     "execution_count": 228,
     "metadata": {},
     "output_type": "execute_result"
    }
   ],
   "source": [
    "# submit_v4(selected_features=all_dict, param_grid=param_grid)\n",
    "\n",
    "# Best C was 5\n",
    "# Best solver was liblinear\n",
    "\n",
    "\"\"\"Used 'groupby' function instead on 'drop_duplicates' on movies.csv file. \n",
    "It reduced the number of missing values significantly! \n",
    "Then used LogisticRegression() with GridSearchCV on submit_v4 function with \n",
    "param_grid={'model__C': [1, 5, 10], 'model__solver': ['lbfgs', 'liblinear', 'saga']}. \n",
    "The best f1_micro score in GridSearchCV was 0.8399771362056203 which is highest among \n",
    "all the versions so far. Best C was 5 and best solver was 'saga'.\n",
    "Score obtained was 0.84385 which is lower than 0.84441.\"\"\""
   ]
  },
  {
   "cell_type": "code",
   "execution_count": 229,
   "id": "7c1dbc93",
   "metadata": {
    "execution": {
     "iopub.execute_input": "2023-08-12T09:53:23.307834Z",
     "iopub.status.busy": "2023-08-12T09:53:23.307410Z",
     "iopub.status.idle": "2023-08-12T09:53:23.314599Z",
     "shell.execute_reply": "2023-08-12T09:53:23.313593Z"
    },
    "papermill": {
     "duration": 0.118026,
     "end_time": "2023-08-12T09:53:23.317058",
     "exception": false,
     "start_time": "2023-08-12T09:53:23.199032",
     "status": "completed"
    },
    "tags": []
   },
   "outputs": [],
   "source": [
    "# Best 5 parameters\n",
    "\n",
    "# best5_dict = {'num': [\"audienceScore\"],\n",
    "#              'txt': ['reviewText', 'reviewerName','movieid', 'director']}\n",
    "\n",
    "# best5_dict"
   ]
  },
  {
   "cell_type": "code",
   "execution_count": 230,
   "id": "54458dae",
   "metadata": {
    "execution": {
     "iopub.execute_input": "2023-08-12T09:53:23.534475Z",
     "iopub.status.busy": "2023-08-12T09:53:23.534046Z",
     "iopub.status.idle": "2023-08-12T09:53:23.542263Z",
     "shell.execute_reply": "2023-08-12T09:53:23.541387Z"
    },
    "papermill": {
     "duration": 0.11977,
     "end_time": "2023-08-12T09:53:23.544522",
     "exception": false,
     "start_time": "2023-08-12T09:53:23.424752",
     "status": "completed"
    },
    "tags": []
   },
   "outputs": [
    {
     "data": {
      "text/plain": [
       "\"(Update): Used both CountVectorizer and TfidfVectorizer on a massive GridSearchCV \\nwhich took 22527.2s  (6.25 hrs) to run! Gave a score of 0.8439093822800923 locally and did not overfit!\\nBest params: {'model__C': 1, 'model__solver': 'liblinear'}.\\nHighest public score yet: 0.84591 (Rank up from 9 to 5!)\""
      ]
     },
     "execution_count": 230,
     "metadata": {},
     "output_type": "execute_result"
    }
   ],
   "source": [
    "# Submit best 5 features\n",
    "\n",
    "\"\"\"(Update): Used both CountVectorizer and TfidfVectorizer on a massive GridSearchCV \n",
    "which took 22527.2s  (6.25 hrs) to run! Gave a score of 0.8439093822800923 locally and did not overfit!\n",
    "Best params: {'model__C': 1, 'model__solver': 'liblinear'}.\n",
    "Highest public score yet: 0.84591 (Rank up from 9 to 5!)\"\"\"\n",
    "\n",
    "# param_grid = {\n",
    "#     'model__C' : [5, 10, 15],\n",
    "#     'model__solver': ['lbfgs', 'liblinear', 'saga']\n",
    "# }\n",
    "\n",
    "\n",
    "# Try new param_grid with fit_intercept and dual in logreg\n",
    "\n",
    "# param_grid = {\n",
    "#     'model__C' : [1],\n",
    "#     'model__solver': ['liblinear'],\n",
    "#     \"model__fit_intercept\" : [True, False],\n",
    "#     \"model__dual\" : [True, False] \n",
    "# }\n",
    "\n",
    "\n",
    "# Local testing  \n",
    "# submit_v4(selected_features={'num': ['audienceScore']},\n",
    "#          add_countvec=True)\n",
    "\n",
    "# submit_v4(selected_features={'num': ['audienceScore']},\n",
    "#          add_countvec=True, \n",
    "#           param_grid=param_grid)\n",
    "\n",
    "\n",
    "# Main submission\n",
    "\n",
    "# submit_v4(selected_features=best5_dict,\n",
    "#          add_countvec=True)\n",
    "\n",
    "\n",
    "# submit_v4(selected_features=best5_dict,\n",
    "#           add_countvec=True,\n",
    "#           param_grid=param_grid)"
   ]
  },
  {
   "cell_type": "code",
   "execution_count": 231,
   "id": "bb5e0a89",
   "metadata": {
    "execution": {
     "iopub.execute_input": "2023-08-12T09:53:23.761983Z",
     "iopub.status.busy": "2023-08-12T09:53:23.761552Z",
     "iopub.status.idle": "2023-08-12T09:53:23.767333Z",
     "shell.execute_reply": "2023-08-12T09:53:23.766147Z"
    },
    "papermill": {
     "duration": 0.11721,
     "end_time": "2023-08-12T09:53:23.769681",
     "exception": false,
     "start_time": "2023-08-12T09:53:23.652471",
     "status": "completed"
    },
    "tags": []
   },
   "outputs": [],
   "source": [
    "## ALL DICT cv=10\n",
    "\n",
    "# all_dict = {'cat': [\"isFrequentReviewer\", \"rating\", \"originalLanguage\"],\n",
    "#              'num': [\"audienceScore\", \"runtimeMinutes\", \"boxOffice\"],\n",
    "#              'txt': ['reviewText', 'reviewerName', 'movieid', 'genre', 'director']}\n",
    "# print(all_dict)\n",
    "\n",
    "# param_grid = {\n",
    "#     'model__C' : [2, 5, 10],\n",
    "#     'model__solver': ['lbfgs', 'liblinear', 'saga']\n",
    "# }\n",
    "# print(param_grid)\n",
    "\n",
    "# param_grid = {\n",
    "#     'model__C' : [1, 5, 10],\n",
    "#     'model__solver': ['liblinear'],\n",
    "#     \"model__fit_intercept\" : [True, False],\n",
    "#     \"model__dual\" : [True, False] \n",
    "# }\n",
    "\n",
    "\n",
    "# Main submission\n",
    "\n",
    "# submit_v4(selected_model=LogisticRegression(C=5, solver='liblinear', max_iter=10000),\n",
    "#           selected_features=all_dict,\n",
    "#           param_grid=param_grid)\n",
    "\n",
    "# submit_v4(selected_features=all_dict,\n",
    "#           add_countvec=True,\n",
    "#           param_grid=param_grid)"
   ]
  },
  {
   "cell_type": "code",
   "execution_count": 232,
   "id": "3b53faf6",
   "metadata": {
    "execution": {
     "iopub.execute_input": "2023-08-12T09:53:23.990226Z",
     "iopub.status.busy": "2023-08-12T09:53:23.989774Z",
     "iopub.status.idle": "2023-08-12T09:53:23.994774Z",
     "shell.execute_reply": "2023-08-12T09:53:23.993444Z"
    },
    "papermill": {
     "duration": 0.117349,
     "end_time": "2023-08-12T09:53:23.997276",
     "exception": false,
     "start_time": "2023-08-12T09:53:23.879927",
     "status": "completed"
    },
    "tags": []
   },
   "outputs": [],
   "source": [
    "# Best 6 parameters\n",
    "\n",
    "# best6_dict = {'cat': [\"isFrequentReviewer\"],\n",
    "#              'num': [\"audienceScore\"],\n",
    "#              'txt': ['reviewText', 'reviewerName', 'genre', 'director']}\n",
    "\n",
    "# best6_dict = {'num': [\"audienceScore\"],\n",
    "#              'txt': ['reviewText', 'reviewerName', 'genre','movieid', 'director']}\n",
    "\n",
    "# best6_dict"
   ]
  },
  {
   "cell_type": "code",
   "execution_count": 233,
   "id": "0a6ad78d",
   "metadata": {
    "execution": {
     "iopub.execute_input": "2023-08-12T09:53:24.212441Z",
     "iopub.status.busy": "2023-08-12T09:53:24.211529Z",
     "iopub.status.idle": "2023-08-12T09:53:24.216785Z",
     "shell.execute_reply": "2023-08-12T09:53:24.215562Z"
    },
    "papermill": {
     "duration": 0.11493,
     "end_time": "2023-08-12T09:53:24.219391",
     "exception": false,
     "start_time": "2023-08-12T09:53:24.104461",
     "status": "completed"
    },
    "tags": []
   },
   "outputs": [],
   "source": [
    "# Submit best 6 features (version 2)\n",
    "\n",
    "# submit_v4(selected_features=best6_dict,\n",
    "#           param_grid=param_grid)"
   ]
  },
  {
   "cell_type": "code",
   "execution_count": 234,
   "id": "217fba77",
   "metadata": {
    "execution": {
     "iopub.execute_input": "2023-08-12T09:53:24.439931Z",
     "iopub.status.busy": "2023-08-12T09:53:24.439045Z",
     "iopub.status.idle": "2023-08-12T09:53:24.443609Z",
     "shell.execute_reply": "2023-08-12T09:53:24.442722Z"
    },
    "papermill": {
     "duration": 0.117519,
     "end_time": "2023-08-12T09:53:24.446005",
     "exception": false,
     "start_time": "2023-08-12T09:53:24.328486",
     "status": "completed"
    },
    "tags": []
   },
   "outputs": [],
   "source": [
    "# Best 7 parameters\n",
    "\n",
    "# best7_dict = {'cat': [\"isFrequentReviewer\"],\n",
    "#              'num': [\"audienceScore\"],\n",
    "#              'txt': ['reviewText', 'reviewerName', 'movieid', 'genre', 'director']}\n",
    "# best7_dict"
   ]
  },
  {
   "cell_type": "code",
   "execution_count": 235,
   "id": "e3703bf5",
   "metadata": {
    "execution": {
     "iopub.execute_input": "2023-08-12T09:53:24.738839Z",
     "iopub.status.busy": "2023-08-12T09:53:24.738090Z",
     "iopub.status.idle": "2023-08-12T09:53:24.742224Z",
     "shell.execute_reply": "2023-08-12T09:53:24.741348Z"
    },
    "papermill": {
     "duration": 0.190203,
     "end_time": "2023-08-12T09:53:24.744659",
     "exception": false,
     "start_time": "2023-08-12T09:53:24.554456",
     "status": "completed"
    },
    "tags": []
   },
   "outputs": [],
   "source": [
    "# Submit best 7 features\n",
    "\n",
    "# submit_v4(selected_features=best7_dict,\n",
    "#           param_grid=param_grid)"
   ]
  },
  {
   "cell_type": "code",
   "execution_count": 236,
   "id": "17763178",
   "metadata": {
    "execution": {
     "iopub.execute_input": "2023-08-12T09:53:24.965760Z",
     "iopub.status.busy": "2023-08-12T09:53:24.965035Z",
     "iopub.status.idle": "2023-08-12T09:53:24.969848Z",
     "shell.execute_reply": "2023-08-12T09:53:24.968656Z"
    },
    "papermill": {
     "duration": 0.11813,
     "end_time": "2023-08-12T09:53:24.972775",
     "exception": false,
     "start_time": "2023-08-12T09:53:24.854645",
     "status": "completed"
    },
    "tags": []
   },
   "outputs": [],
   "source": [
    "# submit_v4(selected_features=best6_dict, param_grid=param_grid)"
   ]
  },
  {
   "cell_type": "markdown",
   "id": "7cc7ef05",
   "metadata": {
    "papermill": {
     "duration": 0.106074,
     "end_time": "2023-08-12T09:53:25.187801",
     "exception": false,
     "start_time": "2023-08-12T09:53:25.081727",
     "status": "completed"
    },
    "tags": []
   },
   "source": [
    "## Try a new feature dict  \n",
    "\n"
   ]
  },
  {
   "cell_type": "code",
   "execution_count": 237,
   "id": "cc854656",
   "metadata": {
    "execution": {
     "iopub.execute_input": "2023-08-12T09:53:25.404047Z",
     "iopub.status.busy": "2023-08-12T09:53:25.403329Z",
     "iopub.status.idle": "2023-08-12T09:53:25.407716Z",
     "shell.execute_reply": "2023-08-12T09:53:25.406597Z"
    },
    "papermill": {
     "duration": 0.114983,
     "end_time": "2023-08-12T09:53:25.410410",
     "exception": false,
     "start_time": "2023-08-12T09:53:25.295427",
     "status": "completed"
    },
    "tags": []
   },
   "outputs": [],
   "source": [
    "# all_dict_new = {'cat': [\"isFrequentReviewer\", \"rating\", \"originalLanguage\"],\n",
    "#              'num': [\"audienceScore\", \"runtimeMinutes\", \"boxOffice\"],\n",
    "#              'txt': ['reviewText', \"reviewerName\", 'movieid', 'genre', 'director']}\n",
    "# all_dict_new"
   ]
  },
  {
   "cell_type": "code",
   "execution_count": 238,
   "id": "4322f6ea",
   "metadata": {
    "execution": {
     "iopub.execute_input": "2023-08-12T09:53:25.627296Z",
     "iopub.status.busy": "2023-08-12T09:53:25.626618Z",
     "iopub.status.idle": "2023-08-12T09:53:25.630651Z",
     "shell.execute_reply": "2023-08-12T09:53:25.629794Z"
    },
    "papermill": {
     "duration": 0.115439,
     "end_time": "2023-08-12T09:53:25.632921",
     "exception": false,
     "start_time": "2023-08-12T09:53:25.517482",
     "status": "completed"
    },
    "tags": []
   },
   "outputs": [],
   "source": [
    "# submit_v4(selected_features={'txt': ['genre']}, param_grid=param_grid)"
   ]
  },
  {
   "cell_type": "code",
   "execution_count": 239,
   "id": "25689934",
   "metadata": {
    "execution": {
     "iopub.execute_input": "2023-08-12T09:53:25.851007Z",
     "iopub.status.busy": "2023-08-12T09:53:25.850331Z",
     "iopub.status.idle": "2023-08-12T09:53:25.854416Z",
     "shell.execute_reply": "2023-08-12T09:53:25.853507Z"
    },
    "papermill": {
     "duration": 0.116459,
     "end_time": "2023-08-12T09:53:25.856769",
     "exception": false,
     "start_time": "2023-08-12T09:53:25.740310",
     "status": "completed"
    },
    "tags": []
   },
   "outputs": [],
   "source": [
    "# submit_v4(selected_features=all_dict_new, param_grid=param_grid)"
   ]
  },
  {
   "cell_type": "code",
   "execution_count": 240,
   "id": "da70ccfd",
   "metadata": {
    "execution": {
     "iopub.execute_input": "2023-08-12T09:53:26.075807Z",
     "iopub.status.busy": "2023-08-12T09:53:26.075073Z",
     "iopub.status.idle": "2023-08-12T09:53:26.079222Z",
     "shell.execute_reply": "2023-08-12T09:53:26.078367Z"
    },
    "papermill": {
     "duration": 0.116727,
     "end_time": "2023-08-12T09:53:26.081612",
     "exception": false,
     "start_time": "2023-08-12T09:53:25.964885",
     "status": "completed"
    },
    "tags": []
   },
   "outputs": [],
   "source": [
    "# Try non-text based columns\n",
    "# num_cat_dict = {'cat': ['isFrequentReviewer', 'rating', 'originalLanguage'],\n",
    "#  'num': ['audienceScore', 'runtimeMinutes', 'boxOffice']}\n",
    "# num_cat_dict"
   ]
  },
  {
   "cell_type": "code",
   "execution_count": 241,
   "id": "285ac818",
   "metadata": {
    "execution": {
     "iopub.execute_input": "2023-08-12T09:53:26.299126Z",
     "iopub.status.busy": "2023-08-12T09:53:26.298403Z",
     "iopub.status.idle": "2023-08-12T09:53:26.302732Z",
     "shell.execute_reply": "2023-08-12T09:53:26.301842Z"
    },
    "papermill": {
     "duration": 0.114375,
     "end_time": "2023-08-12T09:53:26.305068",
     "exception": false,
     "start_time": "2023-08-12T09:53:26.190693",
     "status": "completed"
    },
    "tags": []
   },
   "outputs": [],
   "source": [
    "# Use num_cat_dict features\n",
    "# (Update): Gets a local score of 0.7027181356991726. Not great.\n",
    "# submit_v4(selected_model=LogisticRegression(max_iter=100000), selected_features=num_cat_dict, param_grid=param_grid)"
   ]
  },
  {
   "cell_type": "code",
   "execution_count": 242,
   "id": "629a6025",
   "metadata": {
    "execution": {
     "iopub.execute_input": "2023-08-12T09:53:26.520245Z",
     "iopub.status.busy": "2023-08-12T09:53:26.519500Z",
     "iopub.status.idle": "2023-08-12T09:53:26.523730Z",
     "shell.execute_reply": "2023-08-12T09:53:26.522842Z"
    },
    "papermill": {
     "duration": 0.11431,
     "end_time": "2023-08-12T09:53:26.526092",
     "exception": false,
     "start_time": "2023-08-12T09:53:26.411782",
     "status": "completed"
    },
    "tags": []
   },
   "outputs": [],
   "source": [
    "# Try data other than reviewText\n",
    "\n",
    "# mov_dict = {'cat': ['rating', 'originalLanguage'],\n",
    "#  'num': ['audienceScore', 'runtimeMinutes', 'boxOffice'],\n",
    "#  'txt': ['movieid', 'genre', 'director']}\n",
    "# mov_dict"
   ]
  },
  {
   "cell_type": "code",
   "execution_count": 243,
   "id": "b2152ab8",
   "metadata": {
    "execution": {
     "iopub.execute_input": "2023-08-12T09:53:26.742156Z",
     "iopub.status.busy": "2023-08-12T09:53:26.741421Z",
     "iopub.status.idle": "2023-08-12T09:53:26.745598Z",
     "shell.execute_reply": "2023-08-12T09:53:26.744736Z"
    },
    "papermill": {
     "duration": 0.116063,
     "end_time": "2023-08-12T09:53:26.748429",
     "exception": false,
     "start_time": "2023-08-12T09:53:26.632366",
     "status": "completed"
    },
    "tags": []
   },
   "outputs": [],
   "source": [
    "# Use mov_dict features\n",
    "# (Update): Gets a local score of 0.7475454316469369, which is not bad at all.\n",
    "# submit_v4(selected_model=LogisticRegression(max_iter=100000), selected_features=mov_dict, param_grid=param_grid)"
   ]
  },
  {
   "cell_type": "markdown",
   "id": "9266ecf5",
   "metadata": {
    "papermill": {
     "duration": 0.1082,
     "end_time": "2023-08-12T09:53:26.968311",
     "exception": false,
     "start_time": "2023-08-12T09:53:26.860111",
     "status": "completed"
    },
    "tags": []
   },
   "source": [
    "# Try a new column 'reviewYN'  \n",
    "\n"
   ]
  },
  {
   "cell_type": "code",
   "execution_count": 244,
   "id": "77f28475",
   "metadata": {
    "execution": {
     "iopub.execute_input": "2023-08-12T09:53:27.185316Z",
     "iopub.status.busy": "2023-08-12T09:53:27.184554Z",
     "iopub.status.idle": "2023-08-12T09:53:27.189515Z",
     "shell.execute_reply": "2023-08-12T09:53:27.188329Z"
    },
    "papermill": {
     "duration": 0.115326,
     "end_time": "2023-08-12T09:53:27.192204",
     "exception": false,
     "start_time": "2023-08-12T09:53:27.076878",
     "status": "completed"
    },
    "tags": []
   },
   "outputs": [],
   "source": [
    "# all_dict_3 = {'cat': [\"isFrequentReviewer\", \"rating\", \"originalLanguage\", \"reviewYN\"],\n",
    "#              'num': [\"audienceScore\", \"runtimeMinutes\", \"boxOffice\"],\n",
    "#              'txt': ['reviewText', \"reviewerName\", 'movieid', 'genre', 'director']}\n",
    "# all_dict_3"
   ]
  },
  {
   "cell_type": "code",
   "execution_count": 245,
   "id": "d3af3587",
   "metadata": {
    "execution": {
     "iopub.execute_input": "2023-08-12T09:53:27.406399Z",
     "iopub.status.busy": "2023-08-12T09:53:27.405610Z",
     "iopub.status.idle": "2023-08-12T09:53:27.410227Z",
     "shell.execute_reply": "2023-08-12T09:53:27.408929Z"
    },
    "papermill": {
     "duration": 0.114799,
     "end_time": "2023-08-12T09:53:27.412489",
     "exception": false,
     "start_time": "2023-08-12T09:53:27.297690",
     "status": "completed"
    },
    "tags": []
   },
   "outputs": [],
   "source": [
    "# submit_v4(selected_model=LogisticRegression(max_iter=100000),\n",
    "#          selected_features=all_dict_3, \n",
    "#           param_grid=param_grid)"
   ]
  },
  {
   "cell_type": "markdown",
   "id": "09f89020",
   "metadata": {
    "papermill": {
     "duration": 0.106125,
     "end_time": "2023-08-12T09:53:27.626421",
     "exception": false,
     "start_time": "2023-08-12T09:53:27.520296",
     "status": "completed"
    },
    "tags": []
   },
   "source": [
    "### More GridSearchCV using LinearSVC  "
   ]
  },
  {
   "cell_type": "code",
   "execution_count": 246,
   "id": "793133c9",
   "metadata": {
    "execution": {
     "iopub.execute_input": "2023-08-12T09:53:27.844108Z",
     "iopub.status.busy": "2023-08-12T09:53:27.843310Z",
     "iopub.status.idle": "2023-08-12T09:53:27.847907Z",
     "shell.execute_reply": "2023-08-12T09:53:27.846735Z"
    },
    "papermill": {
     "duration": 0.116859,
     "end_time": "2023-08-12T09:53:27.850380",
     "exception": false,
     "start_time": "2023-08-12T09:53:27.733521",
     "status": "completed"
    },
    "tags": []
   },
   "outputs": [],
   "source": [
    "# param_grid_svc_2 = {\n",
    "#     'model__C': [1.0],\n",
    "#     'model__loss': ['hinge', 'squared_hinge'],\n",
    "#     'model__class_weight': ['balanced', None]\n",
    "# }\n",
    "# param_grid_svc_2"
   ]
  },
  {
   "cell_type": "code",
   "execution_count": 247,
   "id": "c0447b94",
   "metadata": {
    "execution": {
     "iopub.execute_input": "2023-08-12T09:53:28.069418Z",
     "iopub.status.busy": "2023-08-12T09:53:28.068648Z",
     "iopub.status.idle": "2023-08-12T09:53:28.072940Z",
     "shell.execute_reply": "2023-08-12T09:53:28.072089Z"
    },
    "papermill": {
     "duration": 0.116342,
     "end_time": "2023-08-12T09:53:28.075295",
     "exception": false,
     "start_time": "2023-08-12T09:53:27.958953",
     "status": "completed"
    },
    "tags": []
   },
   "outputs": [],
   "source": [
    "# submit_v4(selected_model=LinearSVC(max_iter=100000, random_state=42), selected_features={'num': [\"audienceScore\"]}, param_grid=param_grid_svc_2)"
   ]
  },
  {
   "cell_type": "code",
   "execution_count": 248,
   "id": "b09fdc21",
   "metadata": {
    "execution": {
     "iopub.execute_input": "2023-08-12T09:53:28.290770Z",
     "iopub.status.busy": "2023-08-12T09:53:28.290369Z",
     "iopub.status.idle": "2023-08-12T09:53:28.294661Z",
     "shell.execute_reply": "2023-08-12T09:53:28.293637Z"
    },
    "papermill": {
     "duration": 0.114627,
     "end_time": "2023-08-12T09:53:28.296896",
     "exception": false,
     "start_time": "2023-08-12T09:53:28.182269",
     "status": "completed"
    },
    "tags": []
   },
   "outputs": [],
   "source": [
    "# submit_v4(selected_model=LinearSVC(max_iter=100000, random_state=42), selected_features=all_dict, param_grid=param_grid_svc_2)"
   ]
  },
  {
   "cell_type": "markdown",
   "id": "d972dd1b",
   "metadata": {
    "papermill": {
     "duration": 0.106455,
     "end_time": "2023-08-12T09:53:28.510395",
     "exception": false,
     "start_time": "2023-08-12T09:53:28.403940",
     "status": "completed"
    },
    "tags": []
   },
   "source": [
    "### Boosting techniques  "
   ]
  },
  {
   "cell_type": "code",
   "execution_count": 249,
   "id": "f6d02cbf",
   "metadata": {
    "execution": {
     "iopub.execute_input": "2023-08-12T09:53:28.724356Z",
     "iopub.status.busy": "2023-08-12T09:53:28.723276Z",
     "iopub.status.idle": "2023-08-12T09:53:28.727604Z",
     "shell.execute_reply": "2023-08-12T09:53:28.726793Z"
    },
    "papermill": {
     "duration": 0.113756,
     "end_time": "2023-08-12T09:53:28.729791",
     "exception": false,
     "start_time": "2023-08-12T09:53:28.616035",
     "status": "completed"
    },
    "tags": []
   },
   "outputs": [],
   "source": [
    "# adc = AdaBoostClassifier(estimator=LogisticRegression(C=5, solver=\"saga\", max_iter=100000), n_estimators=50)\n",
    "# adc"
   ]
  },
  {
   "cell_type": "code",
   "execution_count": 250,
   "id": "d6c296bd",
   "metadata": {
    "execution": {
     "iopub.execute_input": "2023-08-12T09:53:29.019562Z",
     "iopub.status.busy": "2023-08-12T09:53:29.019145Z",
     "iopub.status.idle": "2023-08-12T09:53:29.023954Z",
     "shell.execute_reply": "2023-08-12T09:53:29.022641Z"
    },
    "papermill": {
     "duration": 0.189322,
     "end_time": "2023-08-12T09:53:29.026658",
     "exception": false,
     "start_time": "2023-08-12T09:53:28.837336",
     "status": "completed"
    },
    "tags": []
   },
   "outputs": [],
   "source": [
    "# submit_v4(selected_model=adc, selected_features={'num': [\"audienceScore\"]}, param_grid=None)"
   ]
  },
  {
   "cell_type": "code",
   "execution_count": 251,
   "id": "456b71a4",
   "metadata": {
    "execution": {
     "iopub.execute_input": "2023-08-12T09:53:29.243338Z",
     "iopub.status.busy": "2023-08-12T09:53:29.242095Z",
     "iopub.status.idle": "2023-08-12T09:53:29.246694Z",
     "shell.execute_reply": "2023-08-12T09:53:29.245866Z"
    },
    "papermill": {
     "duration": 0.115125,
     "end_time": "2023-08-12T09:53:29.249133",
     "exception": false,
     "start_time": "2023-08-12T09:53:29.134008",
     "status": "completed"
    },
    "tags": []
   },
   "outputs": [],
   "source": [
    "# submit_v4(selected_model=adc, selected_features=all_dict, param_grid=None)\n",
    "\n",
    "# Took 1 hour 15 mins to run and gave a public score of only 0.71089. Discarded."
   ]
  },
  {
   "cell_type": "markdown",
   "id": "9ca6fdd1",
   "metadata": {
    "papermill": {
     "duration": 0.108185,
     "end_time": "2023-08-12T09:53:29.465390",
     "exception": false,
     "start_time": "2023-08-12T09:53:29.357205",
     "status": "completed"
    },
    "tags": []
   },
   "source": [
    "### LightGBM  "
   ]
  },
  {
   "cell_type": "code",
   "execution_count": 252,
   "id": "3b47e055",
   "metadata": {
    "execution": {
     "iopub.execute_input": "2023-08-12T09:53:29.683241Z",
     "iopub.status.busy": "2023-08-12T09:53:29.682427Z",
     "iopub.status.idle": "2023-08-12T09:53:29.687662Z",
     "shell.execute_reply": "2023-08-12T09:53:29.686500Z"
    },
    "papermill": {
     "duration": 0.116946,
     "end_time": "2023-08-12T09:53:29.690610",
     "exception": false,
     "start_time": "2023-08-12T09:53:29.573664",
     "status": "completed"
    },
    "tags": []
   },
   "outputs": [],
   "source": [
    "# lgb = ltb.LGBMClassifier()\n",
    "# lgb"
   ]
  },
  {
   "cell_type": "code",
   "execution_count": 253,
   "id": "6d14caae",
   "metadata": {
    "execution": {
     "iopub.execute_input": "2023-08-12T09:53:29.913834Z",
     "iopub.status.busy": "2023-08-12T09:53:29.913403Z",
     "iopub.status.idle": "2023-08-12T09:53:29.918705Z",
     "shell.execute_reply": "2023-08-12T09:53:29.917671Z"
    },
    "papermill": {
     "duration": 0.122023,
     "end_time": "2023-08-12T09:53:29.921016",
     "exception": false,
     "start_time": "2023-08-12T09:53:29.798993",
     "status": "completed"
    },
    "tags": []
   },
   "outputs": [],
   "source": [
    "# Try LightGBM with default settings\n",
    "# (Update): Public score only 0.77713. It was fast, took less than 5 mins (without GridSearchCV)\n",
    "\n",
    "# submit_v4(selected_model=ltb.LGBMClassifier(), selected_features=all_dict, param_grid=None)"
   ]
  },
  {
   "cell_type": "markdown",
   "id": "042b7427",
   "metadata": {
    "papermill": {
     "duration": 0.105003,
     "end_time": "2023-08-12T09:53:30.160424",
     "exception": false,
     "start_time": "2023-08-12T09:53:30.055421",
     "status": "completed"
    },
    "tags": []
   },
   "source": [
    "# Try feature selection and vocab fine tuning of reviewText column"
   ]
  },
  {
   "cell_type": "markdown",
   "id": "502c4675",
   "metadata": {
    "papermill": {
     "duration": 0.105885,
     "end_time": "2023-08-12T09:53:30.372481",
     "exception": false,
     "start_time": "2023-08-12T09:53:30.266596",
     "status": "completed"
    },
    "tags": []
   },
   "source": [
    "## Plan  \n",
    "* Add a new column 'reviewWC' which has word count of 'reviewText'  \n",
    "    * Check if there is any relationship between 'reviewWC' and 'sentiment'\n",
    "* Work on vocabulary\n",
    "     * Use TfidfVectorizer and find out the vocabulary of 'reviewText' column for various ngrams\n",
    "     * Use RecursiveFeatureElimination (RFE) or RFECV to select 1000 top words/vocab for each ngram\n",
    "     * Use the final vocab (1000-3000 words) in the model and see how it performs compared to whole vocab\n"
   ]
  },
  {
   "cell_type": "code",
   "execution_count": 254,
   "id": "aede2811",
   "metadata": {
    "execution": {
     "iopub.execute_input": "2023-08-12T09:53:30.588514Z",
     "iopub.status.busy": "2023-08-12T09:53:30.587270Z",
     "iopub.status.idle": "2023-08-12T09:53:30.592395Z",
     "shell.execute_reply": "2023-08-12T09:53:30.591538Z"
    },
    "papermill": {
     "duration": 0.116555,
     "end_time": "2023-08-12T09:53:30.594762",
     "exception": false,
     "start_time": "2023-08-12T09:53:30.478207",
     "status": "completed"
    },
    "tags": []
   },
   "outputs": [],
   "source": [
    "# 'reviewWC' and 'sentiment'\n",
    "# (Conclusion): 'reviewWC' is practically same as DummyClassifier (accuracy of 0.6682375059904889 on train data). It just predicts 'positive' for all columns\n",
    "\n",
    "# reviewWC_dict = {\"num\": [\"reviewWC\"]}\n",
    "# submit_v4(selected_model=LogisticRegression(),\n",
    "#          selected_features=reviewWC_dict,\n",
    "#          param_grid=None)"
   ]
  },
  {
   "cell_type": "code",
   "execution_count": 255,
   "id": "b60e6eab",
   "metadata": {
    "execution": {
     "iopub.execute_input": "2023-08-12T09:53:30.811357Z",
     "iopub.status.busy": "2023-08-12T09:53:30.809945Z",
     "iopub.status.idle": "2023-08-12T09:53:30.815741Z",
     "shell.execute_reply": "2023-08-12T09:53:30.814881Z"
    },
    "papermill": {
     "duration": 0.115245,
     "end_time": "2023-08-12T09:53:30.818123",
     "exception": false,
     "start_time": "2023-08-12T09:53:30.702878",
     "status": "completed"
    },
    "tags": []
   },
   "outputs": [],
   "source": [
    "# 'reviewYN' and 'sentiment'\n",
    "# (Conclusion): 'reviewYN' is practically same as DummyClassifier (accuracy of 0.6682375059904889 on train data). It just predicts 'positive' for all columns\n",
    "\n",
    "# reviewYN_dict = {\"cat\": [\"reviewYN\"]}\n",
    "# submit_v4(selected_model=LogisticRegression(),\n",
    "#          selected_features=reviewYN_dict,\n",
    "#          param_grid=None)"
   ]
  },
  {
   "cell_type": "markdown",
   "id": "1d86e7ef",
   "metadata": {
    "papermill": {
     "duration": 0.108328,
     "end_time": "2023-08-12T09:53:31.035873",
     "exception": false,
     "start_time": "2023-08-12T09:53:30.927545",
     "status": "completed"
    },
    "tags": []
   },
   "source": [
    "## Submissions using 'vocabulary' built from 'reviewText' data  "
   ]
  },
  {
   "cell_type": "markdown",
   "id": "4249ec22",
   "metadata": {
    "papermill": {
     "duration": 0.107275,
     "end_time": "2023-08-12T09:53:31.251824",
     "exception": false,
     "start_time": "2023-08-12T09:53:31.144549",
     "status": "completed"
    },
    "tags": []
   },
   "source": [
    "### Submit best 6 features along with common vocab  "
   ]
  },
  {
   "cell_type": "code",
   "execution_count": 256,
   "id": "8828776e",
   "metadata": {
    "execution": {
     "iopub.execute_input": "2023-08-12T09:53:31.465845Z",
     "iopub.status.busy": "2023-08-12T09:53:31.465058Z",
     "iopub.status.idle": "2023-08-12T09:53:31.470101Z",
     "shell.execute_reply": "2023-08-12T09:53:31.469249Z"
    },
    "papermill": {
     "duration": 0.115035,
     "end_time": "2023-08-12T09:53:31.472744",
     "exception": false,
     "start_time": "2023-08-12T09:53:31.357709",
     "status": "completed"
    },
    "tags": []
   },
   "outputs": [],
   "source": [
    "# Best 6 parameters (version 2)  \n",
    "\n",
    "# best6_dict = {'num': [\"audienceScore\"],\n",
    "#              'txt': ['reviewText', 'reviewerName', 'genre','movieid', 'director']}\n",
    "\n",
    "# best6_dict"
   ]
  },
  {
   "cell_type": "code",
   "execution_count": 257,
   "id": "70608a87",
   "metadata": {
    "execution": {
     "iopub.execute_input": "2023-08-12T09:53:31.686221Z",
     "iopub.status.busy": "2023-08-12T09:53:31.685789Z",
     "iopub.status.idle": "2023-08-12T09:53:31.690331Z",
     "shell.execute_reply": "2023-08-12T09:53:31.689148Z"
    },
    "papermill": {
     "duration": 0.113495,
     "end_time": "2023-08-12T09:53:31.692695",
     "exception": false,
     "start_time": "2023-08-12T09:53:31.579200",
     "status": "completed"
    },
    "tags": []
   },
   "outputs": [],
   "source": [
    "# Submit best 6 features (version 2) with common vocabulary (common_1_2_grams)\n",
    "# (Update): Score 0.82867\n",
    "\n",
    "# submit_v4(selected_features=best6_dict,\n",
    "#           param_grid=param_grid,\n",
    "#          vocab=common_1_2_grams)"
   ]
  },
  {
   "cell_type": "code",
   "execution_count": 258,
   "id": "13ca03c2",
   "metadata": {
    "execution": {
     "iopub.execute_input": "2023-08-12T09:53:31.912645Z",
     "iopub.status.busy": "2023-08-12T09:53:31.911978Z",
     "iopub.status.idle": "2023-08-12T09:53:31.917590Z",
     "shell.execute_reply": "2023-08-12T09:53:31.916153Z"
    },
    "papermill": {
     "duration": 0.122696,
     "end_time": "2023-08-12T09:53:31.921727",
     "exception": false,
     "start_time": "2023-08-12T09:53:31.799031",
     "status": "completed"
    },
    "tags": []
   },
   "outputs": [],
   "source": [
    "# Submit best 6 features (version 2) with common vocabulary (common_1_2_3_grams)\n",
    "# Note: for this submission submit_v4 function has to be modified: reviewText TfidfVectorizer must have ngram_range(1,3).\n",
    "# (Update): Score in the range 0.825+\n",
    "\n",
    "# submit_v4(selected_features=best6_dict,\n",
    "#           param_grid=param_grid,\n",
    "#          vocab=common_1_2_3_grams)"
   ]
  }
 ],
 "metadata": {
  "kernelspec": {
   "display_name": "Python 3",
   "language": "python",
   "name": "python3"
  },
  "language_info": {
   "codemirror_mode": {
    "name": "ipython",
    "version": 3
   },
   "file_extension": ".py",
   "mimetype": "text/x-python",
   "name": "python",
   "nbconvert_exporter": "python",
   "pygments_lexer": "ipython3",
   "version": "3.10.10"
  },
  "papermill": {
   "default_parameters": {},
   "duration": 1362.019173,
   "end_time": "2023-08-12T09:53:34.957843",
   "environment_variables": {},
   "exception": null,
   "input_path": "__notebook__.ipynb",
   "output_path": "__notebook__.ipynb",
   "parameters": {},
   "start_time": "2023-08-12T09:30:52.938670",
   "version": "2.4.0"
  }
 },
 "nbformat": 4,
 "nbformat_minor": 5
}
