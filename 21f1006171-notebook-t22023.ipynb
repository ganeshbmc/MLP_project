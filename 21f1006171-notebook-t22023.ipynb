{
 "cells": [
  {
   "cell_type": "markdown",
   "id": "33a6e965",
   "metadata": {
    "papermill": {
     "duration": 0.097169,
     "end_time": "2023-08-11T03:40:07.743192",
     "exception": false,
     "start_time": "2023-08-11T03:40:07.646023",
     "status": "completed"
    },
    "tags": []
   },
   "source": [
    "# MLP Project (T2 2023) by Ganesh P  "
   ]
  },
  {
   "cell_type": "markdown",
   "id": "89a3ad44",
   "metadata": {
    "papermill": {
     "duration": 0.093574,
     "end_time": "2023-08-11T03:40:07.937990",
     "exception": false,
     "start_time": "2023-08-11T03:40:07.844416",
     "status": "completed"
    },
    "tags": []
   },
   "source": [
    "`Disclaimer`   \n",
    "\n",
    "> This final notebook contains only the most relevant code to show the path/flow of my project work over few weeks. Rest of the code is in [my github repo](https://github.com/ganeshbmc/MLP_project) which is private at present (I will make it public after the project is over).  "
   ]
  },
  {
   "cell_type": "markdown",
   "id": "05b8f6ba",
   "metadata": {
    "papermill": {
     "duration": 0.09491,
     "end_time": "2023-08-11T03:40:08.126377",
     "exception": false,
     "start_time": "2023-08-11T03:40:08.031467",
     "status": "completed"
    },
    "tags": []
   },
   "source": [
    "`Strengths`  \n",
    "\n",
    "> * Modular code (DRY principle)  \n",
    "> * End to end pipeline in one function (with helper functions)   "
   ]
  },
  {
   "cell_type": "markdown",
   "id": "080958a6",
   "metadata": {
    "papermill": {
     "duration": 0.092558,
     "end_time": "2023-08-11T03:40:08.312834",
     "exception": false,
     "start_time": "2023-08-11T03:40:08.220276",
     "status": "completed"
    },
    "tags": []
   },
   "source": [
    "`Overview`  \n",
    "\n",
    "`PART I`  \n",
    "\n",
    "1.\t> Screen the datasets and import them.  \n",
    "2.\t> Perform EDA (first round).\n",
    "3.\t> Data cleaning.\n",
    "4.\t> Basic models including dummy model.\n",
    "5.\t> Because this is a text sentiment analysis project, focus on 'reviewText' column, work on cleaning text data and vectorising/tokenising it, build several models till the best possible score is reached.  \n",
    "\n",
    "`PART II`  \n",
    "\n",
    "6.\t> Merge train and movies dataset.\n",
    "7.\t> Perform EDA (second round) on merged dataset.\n",
    "8.\t> Data cleaning.\n",
    "9.\t> Build models on merged dataset.\n",
    "10.\t> Understand the results and do another round of EDA if needed.\n",
    "11.\t> Build final model.  \n",
    "\n",
    "`PART III (After project window closes)`  \n",
    "\n",
    "12. > Use NLTK library for further processing text data.  \n",
    "13. > Try to address comments from different languages, special characters etc.  \n",
    "14. > Try imblearn library to address class imbalance.  \n",
    "15. > Try to use currently available LLMs and see how my model performs agains them.  "
   ]
  },
  {
   "cell_type": "markdown",
   "id": "d7cfc33d",
   "metadata": {
    "papermill": {
     "duration": 0.09329,
     "end_time": "2023-08-11T03:40:08.501531",
     "exception": false,
     "start_time": "2023-08-11T03:40:08.408241",
     "status": "completed"
    },
    "tags": []
   },
   "source": [
    "`Default code on Kaggle notebook`  "
   ]
  },
  {
   "cell_type": "code",
   "execution_count": 1,
   "id": "35013971",
   "metadata": {
    "_cell_guid": "b1076dfc-b9ad-4769-8c92-a6c4dae69d19",
    "_uuid": "8f2839f25d086af736a60e9eeb907d3b93b6e0e5",
    "execution": {
     "iopub.execute_input": "2023-08-11T03:40:08.689517Z",
     "iopub.status.busy": "2023-08-11T03:40:08.688494Z",
     "iopub.status.idle": "2023-08-11T03:40:08.707482Z",
     "shell.execute_reply": "2023-08-11T03:40:08.706459Z"
    },
    "papermill": {
     "duration": 0.116083,
     "end_time": "2023-08-11T03:40:08.709903",
     "exception": false,
     "start_time": "2023-08-11T03:40:08.593820",
     "status": "completed"
    },
    "tags": []
   },
   "outputs": [
    {
     "name": "stdout",
     "output_type": "stream",
     "text": [
      "/kaggle/input/sentiment-prediction-on-movie-reviews/movies.csv\n",
      "/kaggle/input/sentiment-prediction-on-movie-reviews/sample.csv\n",
      "/kaggle/input/sentiment-prediction-on-movie-reviews/train.csv\n",
      "/kaggle/input/sentiment-prediction-on-movie-reviews/test.csv\n"
     ]
    }
   ],
   "source": [
    "# This Python 3 environment comes with many helpful analytics libraries installed\n",
    "# It is defined by the kaggle/python Docker image: https://github.com/kaggle/docker-python\n",
    "# For example, here's several helpful packages to load\n",
    "\n",
    "import numpy as np # linear algebra\n",
    "import pandas as pd # data processing, CSV file I/O (e.g. pd.read_csv)\n",
    "\n",
    "# Input data files are available in the read-only \"../input/\" directory\n",
    "# For example, running this (by clicking run or pressing Shift+Enter) will list all files under the input directory\n",
    "\n",
    "import os\n",
    "for dirname, _, filenames in os.walk('/kaggle/input'):\n",
    "    for filename in filenames:\n",
    "        print(os.path.join(dirname, filename))\n",
    "\n",
    "# You can write up to 20GB to the current directory (/kaggle/working/) that gets preserved as output when you create a version using \"Save & Run All\" \n",
    "# You can also write temporary files to /kaggle/temp/, but they won't be saved outside of the current session"
   ]
  },
  {
   "cell_type": "markdown",
   "id": "e2a8e5d2",
   "metadata": {
    "papermill": {
     "duration": 0.094614,
     "end_time": "2023-08-11T03:40:08.900073",
     "exception": false,
     "start_time": "2023-08-11T03:40:08.805459",
     "status": "completed"
    },
    "tags": []
   },
   "source": [
    "### Specify platform  "
   ]
  },
  {
   "cell_type": "code",
   "execution_count": 2,
   "id": "f1199d0c",
   "metadata": {
    "execution": {
     "iopub.execute_input": "2023-08-11T03:40:09.095055Z",
     "iopub.status.busy": "2023-08-11T03:40:09.094307Z",
     "iopub.status.idle": "2023-08-11T03:40:09.099783Z",
     "shell.execute_reply": "2023-08-11T03:40:09.098330Z"
    },
    "papermill": {
     "duration": 0.108455,
     "end_time": "2023-08-11T03:40:09.102420",
     "exception": false,
     "start_time": "2023-08-11T03:40:08.993965",
     "status": "completed"
    },
    "tags": []
   },
   "outputs": [],
   "source": [
    "platform = 'kaggle'  "
   ]
  },
  {
   "cell_type": "markdown",
   "id": "2c7b16ba",
   "metadata": {
    "papermill": {
     "duration": 0.098217,
     "end_time": "2023-08-11T03:40:09.298080",
     "exception": false,
     "start_time": "2023-08-11T03:40:09.199863",
     "status": "completed"
    },
    "tags": []
   },
   "source": [
    "### Import libraries  "
   ]
  },
  {
   "cell_type": "code",
   "execution_count": 3,
   "id": "cfa422fc",
   "metadata": {
    "execution": {
     "iopub.execute_input": "2023-08-11T03:40:09.498155Z",
     "iopub.status.busy": "2023-08-11T03:40:09.497352Z",
     "iopub.status.idle": "2023-08-11T03:40:12.352183Z",
     "shell.execute_reply": "2023-08-11T03:40:12.350906Z"
    },
    "papermill": {
     "duration": 2.958378,
     "end_time": "2023-08-11T03:40:12.355094",
     "exception": false,
     "start_time": "2023-08-11T03:40:09.396716",
     "status": "completed"
    },
    "tags": []
   },
   "outputs": [
    {
     "name": "stdout",
     "output_type": "stream",
     "text": [
      "Imports done.\n"
     ]
    }
   ],
   "source": [
    "import pandas as pd\n",
    "import numpy as np\n",
    "import matplotlib.pyplot as plt\n",
    "import seaborn as sns\n",
    "import re\n",
    "from itertools import compress\n",
    "\n",
    "from sklearn.dummy import DummyClassifier\n",
    "from sklearn.pipeline import Pipeline, FeatureUnion\n",
    "from sklearn.compose import ColumnTransformer\n",
    "from sklearn.metrics import classification_report, confusion_matrix,f1_score\n",
    "from sklearn.feature_extraction.text import TfidfVectorizer, CountVectorizer\n",
    "from sklearn.preprocessing import FunctionTransformer\n",
    "from sklearn.preprocessing import StandardScaler, MinMaxScaler, RobustScaler, OneHotEncoder, LabelEncoder\n",
    "from sklearn.impute import SimpleImputer\n",
    "from sklearn.linear_model import LogisticRegression, SGDClassifier\n",
    "from sklearn.tree import DecisionTreeClassifier\n",
    "from sklearn.ensemble import RandomForestClassifier, AdaBoostClassifier\n",
    "from sklearn.svm import LinearSVC\n",
    "from sklearn.naive_bayes import GaussianNB, BernoulliNB, CategoricalNB, ComplementNB, MultinomialNB\n",
    "from sklearn.model_selection import train_test_split, GridSearchCV, cross_val_score\n",
    "from sklearn.decomposition import PCA, TruncatedSVD\n",
    "from sklearn.feature_selection import RFECV\n",
    "from sklearn.feature_selection import RFE\n",
    "from sklearn.neural_network import MLPClassifier\n",
    "\n",
    "# import lightgbm as ltb\n",
    "\n",
    "import scipy.stats as stats\n",
    "print(\"Imports done.\")"
   ]
  },
  {
   "cell_type": "markdown",
   "id": "9a912159",
   "metadata": {
    "papermill": {
     "duration": 0.095721,
     "end_time": "2023-08-11T03:40:12.547593",
     "exception": false,
     "start_time": "2023-08-11T03:40:12.451872",
     "status": "completed"
    },
    "tags": []
   },
   "source": [
    "# PART I  "
   ]
  },
  {
   "cell_type": "markdown",
   "id": "241f6757",
   "metadata": {
    "papermill": {
     "duration": 0.093912,
     "end_time": "2023-08-11T03:40:12.734915",
     "exception": false,
     "start_time": "2023-08-11T03:40:12.641003",
     "status": "completed"
    },
    "tags": []
   },
   "source": [
    "## Load datasets  "
   ]
  },
  {
   "cell_type": "code",
   "execution_count": 4,
   "id": "eff7bc9e",
   "metadata": {
    "execution": {
     "iopub.execute_input": "2023-08-11T03:40:12.933615Z",
     "iopub.status.busy": "2023-08-11T03:40:12.932732Z",
     "iopub.status.idle": "2023-08-11T03:40:14.096732Z",
     "shell.execute_reply": "2023-08-11T03:40:14.095005Z"
    },
    "papermill": {
     "duration": 1.266057,
     "end_time": "2023-08-11T03:40:14.099443",
     "exception": false,
     "start_time": "2023-08-11T03:40:12.833386",
     "status": "completed"
    },
    "tags": []
   },
   "outputs": [
    {
     "data": {
      "text/plain": [
       "(162758, 5)"
      ]
     },
     "execution_count": 4,
     "metadata": {},
     "output_type": "execute_result"
    }
   ],
   "source": [
    "if platform == 'vscode':\n",
    "    traindf = pd.read_csv(\"data/train.csv\")\n",
    "else:\n",
    "    traindf = pd.read_csv(\"/kaggle/input/sentiment-prediction-on-movie-reviews/train.csv\")\n",
    "    \n",
    "traindf.shape"
   ]
  },
  {
   "cell_type": "code",
   "execution_count": 5,
   "id": "5f539402",
   "metadata": {
    "execution": {
     "iopub.execute_input": "2023-08-11T03:40:14.294899Z",
     "iopub.status.busy": "2023-08-11T03:40:14.294454Z",
     "iopub.status.idle": "2023-08-11T03:40:14.660041Z",
     "shell.execute_reply": "2023-08-11T03:40:14.658777Z"
    },
    "papermill": {
     "duration": 0.466884,
     "end_time": "2023-08-11T03:40:14.663439",
     "exception": false,
     "start_time": "2023-08-11T03:40:14.196555",
     "status": "completed"
    },
    "tags": []
   },
   "outputs": [
    {
     "data": {
      "text/plain": [
       "(55315, 4)"
      ]
     },
     "execution_count": 5,
     "metadata": {},
     "output_type": "execute_result"
    }
   ],
   "source": [
    "if platform == 'vscode':\n",
    "    testdf = pd.read_csv(\"data/test.csv\")\n",
    "else:\n",
    "    testdf = pd.read_csv(\"/kaggle/input/sentiment-prediction-on-movie-reviews/test.csv\")\n",
    "\n",
    "testdf.shape"
   ]
  },
  {
   "cell_type": "markdown",
   "id": "1f5fd853",
   "metadata": {
    "papermill": {
     "duration": 0.093188,
     "end_time": "2023-08-11T03:40:14.851329",
     "exception": false,
     "start_time": "2023-08-11T03:40:14.758141",
     "status": "completed"
    },
    "tags": []
   },
   "source": [
    "### Understanding the data and getting it ready for training and evaluating models  \n"
   ]
  },
  {
   "cell_type": "code",
   "execution_count": 6,
   "id": "d4747e9e",
   "metadata": {
    "execution": {
     "iopub.execute_input": "2023-08-11T03:40:15.041979Z",
     "iopub.status.busy": "2023-08-11T03:40:15.041483Z",
     "iopub.status.idle": "2023-08-11T03:40:15.048956Z",
     "shell.execute_reply": "2023-08-11T03:40:15.047817Z"
    },
    "papermill": {
     "duration": 0.104966,
     "end_time": "2023-08-11T03:40:15.051165",
     "exception": false,
     "start_time": "2023-08-11T03:40:14.946199",
     "status": "completed"
    },
    "tags": []
   },
   "outputs": [
    {
     "data": {
      "text/plain": [
       "(162758, 5)"
      ]
     },
     "execution_count": 6,
     "metadata": {},
     "output_type": "execute_result"
    }
   ],
   "source": [
    "traindf.shape"
   ]
  },
  {
   "cell_type": "code",
   "execution_count": 7,
   "id": "fb982220",
   "metadata": {
    "execution": {
     "iopub.execute_input": "2023-08-11T03:40:15.251068Z",
     "iopub.status.busy": "2023-08-11T03:40:15.250620Z",
     "iopub.status.idle": "2023-08-11T03:40:15.499254Z",
     "shell.execute_reply": "2023-08-11T03:40:15.498405Z"
    },
    "papermill": {
     "duration": 0.353409,
     "end_time": "2023-08-11T03:40:15.501798",
     "exception": false,
     "start_time": "2023-08-11T03:40:15.148389",
     "status": "completed"
    },
    "tags": []
   },
   "outputs": [
    {
     "name": "stdout",
     "output_type": "stream",
     "text": [
      "<class 'pandas.core.frame.DataFrame'>\n",
      "RangeIndex: 162758 entries, 0 to 162757\n",
      "Data columns (total 5 columns):\n",
      " #   Column              Non-Null Count   Dtype \n",
      "---  ------              --------------   ----- \n",
      " 0   movieid             162758 non-null  object\n",
      " 1   reviewerName        162758 non-null  object\n",
      " 2   isFrequentReviewer  162758 non-null  bool  \n",
      " 3   reviewText          156311 non-null  object\n",
      " 4   sentiment           162758 non-null  object\n",
      "dtypes: bool(1), object(4)\n",
      "memory usage: 5.1+ MB\n"
     ]
    }
   ],
   "source": [
    "traindf.info()"
   ]
  },
  {
   "cell_type": "code",
   "execution_count": 8,
   "id": "321c0180",
   "metadata": {
    "execution": {
     "iopub.execute_input": "2023-08-11T03:40:15.694991Z",
     "iopub.status.busy": "2023-08-11T03:40:15.693893Z",
     "iopub.status.idle": "2023-08-11T03:40:15.947742Z",
     "shell.execute_reply": "2023-08-11T03:40:15.946298Z"
    },
    "papermill": {
     "duration": 0.356546,
     "end_time": "2023-08-11T03:40:15.952395",
     "exception": false,
     "start_time": "2023-08-11T03:40:15.595849",
     "status": "completed"
    },
    "tags": []
   },
   "outputs": [
    {
     "data": {
      "text/plain": [
       "movieid                  0\n",
       "reviewerName             0\n",
       "isFrequentReviewer       0\n",
       "reviewText            6447\n",
       "sentiment                0\n",
       "dtype: int64"
      ]
     },
     "execution_count": 8,
     "metadata": {},
     "output_type": "execute_result"
    }
   ],
   "source": [
    "traindf.isna().sum()"
   ]
  },
  {
   "cell_type": "markdown",
   "id": "d9ad6e94",
   "metadata": {
    "papermill": {
     "duration": 0.098194,
     "end_time": "2023-08-11T03:40:16.215699",
     "exception": false,
     "start_time": "2023-08-11T03:40:16.117505",
     "status": "completed"
    },
    "tags": []
   },
   "source": [
    "### Fill empty reviewText with custom text  "
   ]
  },
  {
   "cell_type": "code",
   "execution_count": 9,
   "id": "996ce621",
   "metadata": {
    "execution": {
     "iopub.execute_input": "2023-08-11T03:40:16.405626Z",
     "iopub.status.busy": "2023-08-11T03:40:16.405209Z",
     "iopub.status.idle": "2023-08-11T03:40:16.656014Z",
     "shell.execute_reply": "2023-08-11T03:40:16.654842Z"
    },
    "papermill": {
     "duration": 0.348992,
     "end_time": "2023-08-11T03:40:16.658731",
     "exception": false,
     "start_time": "2023-08-11T03:40:16.309739",
     "status": "completed"
    },
    "tags": []
   },
   "outputs": [
    {
     "data": {
      "text/plain": [
       "movieid               0\n",
       "reviewerName          0\n",
       "isFrequentReviewer    0\n",
       "reviewText            0\n",
       "sentiment             0\n",
       "dtype: int64"
      ]
     },
     "execution_count": 9,
     "metadata": {},
     "output_type": "execute_result"
    }
   ],
   "source": [
    "traindf[\"reviewText\"].fillna(\"empty\", inplace=True)\n",
    "traindf.isna().sum()"
   ]
  },
  {
   "cell_type": "markdown",
   "id": "739c5c6f",
   "metadata": {
    "papermill": {
     "duration": 0.095006,
     "end_time": "2023-08-11T03:40:16.848234",
     "exception": false,
     "start_time": "2023-08-11T03:40:16.753228",
     "status": "completed"
    },
    "tags": []
   },
   "source": [
    "## EDA  \n"
   ]
  },
  {
   "cell_type": "code",
   "execution_count": 10,
   "id": "56f2735c",
   "metadata": {
    "execution": {
     "iopub.execute_input": "2023-08-11T03:40:17.043369Z",
     "iopub.status.busy": "2023-08-11T03:40:17.042893Z",
     "iopub.status.idle": "2023-08-11T03:40:17.351506Z",
     "shell.execute_reply": "2023-08-11T03:40:17.349658Z"
    },
    "papermill": {
     "duration": 0.411516,
     "end_time": "2023-08-11T03:40:17.356523",
     "exception": false,
     "start_time": "2023-08-11T03:40:16.945007",
     "status": "completed"
    },
    "tags": []
   },
   "outputs": [
    {
     "data": {
      "image/png": "[encoded data removed]",
      "text/plain": [
       "<Figure size 600x400 with 1 Axes>"
      ]
     },
     "metadata": {},
     "output_type": "display_data"
    }
   ],
   "source": [
    "# Pie chart for sentiment column\n",
    "plt.figure(figsize=(6, 4))\n",
    "traindf[\"sentiment\"].value_counts().plot(kind='pie', autopct='%1.0f%%', colors=[\"lightgreen\", \"crimson\"])\n",
    "plt.title(\"Pie chart for sentiment column\")\n",
    "plt.show()"
   ]
  },
  {
   "cell_type": "code",
   "execution_count": 11,
   "id": "9e52017f",
   "metadata": {
    "execution": {
     "iopub.execute_input": "2023-08-11T03:40:17.568295Z",
     "iopub.status.busy": "2023-08-11T03:40:17.567074Z",
     "iopub.status.idle": "2023-08-11T03:40:17.658672Z",
     "shell.execute_reply": "2023-08-11T03:40:17.657175Z"
    },
    "papermill": {
     "duration": 0.190661,
     "end_time": "2023-08-11T03:40:17.661522",
     "exception": false,
     "start_time": "2023-08-11T03:40:17.470861",
     "status": "completed"
    },
    "tags": []
   },
   "outputs": [
    {
     "name": "stdout",
     "output_type": "stream",
     "text": [
      "sentiment           NEGATIVE  POSITIVE\n",
      "isFrequentReviewer                    \n",
      "False                  35760     77429\n",
      "True                   18237     31332\n"
     ]
    },
    {
     "data": {
      "text/plain": [
       "Chi2ContingencyResult(statistic=419.89235425657796, pvalue=2.5755894769493255e-93, dof=1, expected_freq=array([[37551.86493444, 75637.13506556],\n",
       "       [16445.13506556, 33123.86493444]]))"
      ]
     },
     "execution_count": 11,
     "metadata": {},
     "output_type": "execute_result"
    }
   ],
   "source": [
    "# Chi-square test for isFrequentReviewer column and sentiment column   \n",
    "\n",
    "contingency_table = pd.crosstab(traindf['isFrequentReviewer'], traindf['sentiment'])\n",
    "print(contingency_table)\n",
    "stats.chi2_contingency(contingency_table)"
   ]
  },
  {
   "cell_type": "markdown",
   "id": "27ecc7a4",
   "metadata": {
    "papermill": {
     "duration": 0.096941,
     "end_time": "2023-08-11T03:40:17.856985",
     "exception": false,
     "start_time": "2023-08-11T03:40:17.760044",
     "status": "completed"
    },
    "tags": []
   },
   "source": [
    "### Separate features and labels  "
   ]
  },
  {
   "cell_type": "code",
   "execution_count": 12,
   "id": "49e2e982",
   "metadata": {
    "execution": {
     "iopub.execute_input": "2023-08-11T03:40:18.054003Z",
     "iopub.status.busy": "2023-08-11T03:40:18.052985Z",
     "iopub.status.idle": "2023-08-11T03:40:18.060725Z",
     "shell.execute_reply": "2023-08-11T03:40:18.059766Z"
    },
    "papermill": {
     "duration": 0.108191,
     "end_time": "2023-08-11T03:40:18.063192",
     "exception": false,
     "start_time": "2023-08-11T03:40:17.955001",
     "status": "completed"
    },
    "tags": []
   },
   "outputs": [
    {
     "data": {
      "text/plain": [
       "((162758,), (162758,))"
      ]
     },
     "execution_count": 12,
     "metadata": {},
     "output_type": "execute_result"
    }
   ],
   "source": [
    "train_features = traindf[\"reviewText\"]\n",
    "train_labels = traindf.iloc[:, -1]\n",
    "train_features.shape, train_labels.shape"
   ]
  },
  {
   "cell_type": "markdown",
   "id": "d1c4c7c5",
   "metadata": {
    "papermill": {
     "duration": 0.098403,
     "end_time": "2023-08-11T03:40:18.260202",
     "exception": false,
     "start_time": "2023-08-11T03:40:18.161799",
     "status": "completed"
    },
    "tags": []
   },
   "source": [
    "### Split traindf into training and testing parts  "
   ]
  },
  {
   "cell_type": "code",
   "execution_count": 13,
   "id": "d06bb0cf",
   "metadata": {
    "execution": {
     "iopub.execute_input": "2023-08-11T03:40:18.452275Z",
     "iopub.status.busy": "2023-08-11T03:40:18.451824Z",
     "iopub.status.idle": "2023-08-11T03:40:18.505899Z",
     "shell.execute_reply": "2023-08-11T03:40:18.504747Z"
    },
    "papermill": {
     "duration": 0.153031,
     "end_time": "2023-08-11T03:40:18.508653",
     "exception": false,
     "start_time": "2023-08-11T03:40:18.355622",
     "status": "completed"
    },
    "tags": []
   },
   "outputs": [
    {
     "data": {
      "text/plain": [
       "((122068,), (40690,), (122068,), (40690,))"
      ]
     },
     "execution_count": 13,
     "metadata": {},
     "output_type": "execute_result"
    }
   ],
   "source": [
    "X_train, X_test, y_train, y_test = train_test_split(train_features, train_labels, test_size=0.25, random_state=42)\n",
    "X_train.shape, X_test.shape, y_train.shape, y_test.shape"
   ]
  },
  {
   "cell_type": "markdown",
   "id": "86b79aef",
   "metadata": {
    "papermill": {
     "duration": 0.094996,
     "end_time": "2023-08-11T03:40:18.700325",
     "exception": false,
     "start_time": "2023-08-11T03:40:18.605329",
     "status": "completed"
    },
    "tags": []
   },
   "source": [
    "## Model evaluation plan and code  "
   ]
  },
  {
   "cell_type": "code",
   "execution_count": 14,
   "id": "f39d5851",
   "metadata": {
    "execution": {
     "iopub.execute_input": "2023-08-11T03:40:18.899429Z",
     "iopub.status.busy": "2023-08-11T03:40:18.898555Z",
     "iopub.status.idle": "2023-08-11T03:40:18.903269Z",
     "shell.execute_reply": "2023-08-11T03:40:18.901970Z"
    },
    "papermill": {
     "duration": 0.108135,
     "end_time": "2023-08-11T03:40:18.905990",
     "exception": false,
     "start_time": "2023-08-11T03:40:18.797855",
     "status": "completed"
    },
    "tags": []
   },
   "outputs": [],
   "source": [
    "# from sklearn.metrics import classification_report, confusion_matrix, ConfusionMatrixDisplay\n",
    "# from sklearn.metrics import f1_score"
   ]
  },
  {
   "cell_type": "code",
   "execution_count": 15,
   "id": "5d5b0417",
   "metadata": {
    "execution": {
     "iopub.execute_input": "2023-08-11T03:40:19.107433Z",
     "iopub.status.busy": "2023-08-11T03:40:19.106222Z",
     "iopub.status.idle": "2023-08-11T03:40:19.111851Z",
     "shell.execute_reply": "2023-08-11T03:40:19.110772Z"
    },
    "papermill": {
     "duration": 0.10988,
     "end_time": "2023-08-11T03:40:19.114850",
     "exception": false,
     "start_time": "2023-08-11T03:40:19.004970",
     "status": "completed"
    },
    "tags": []
   },
   "outputs": [],
   "source": [
    "# def evaluate(y_test, y_pred):\n",
    "#     print(classification_report(y_test, y_pred))\n",
    "#     print(confusion_matrix(y_test, y_pred))\n",
    "#     # print(f1_score(y_test, y_pred))\n",
    "#     ConfusionMatrixDisplay(y_test, y_pred)\n",
    "#     return"
   ]
  },
  {
   "cell_type": "markdown",
   "id": "209347df",
   "metadata": {
    "papermill": {
     "duration": 0.098779,
     "end_time": "2023-08-11T03:40:19.320740",
     "exception": false,
     "start_time": "2023-08-11T03:40:19.221961",
     "status": "completed"
    },
    "tags": []
   },
   "source": [
    "### Data preprocessing  "
   ]
  },
  {
   "cell_type": "markdown",
   "id": "9f9107cf",
   "metadata": {
    "papermill": {
     "duration": 0.096279,
     "end_time": "2023-08-11T03:40:19.516920",
     "exception": false,
     "start_time": "2023-08-11T03:40:19.420641",
     "status": "completed"
    },
    "tags": []
   },
   "source": [
    "`Define stop words`  "
   ]
  },
  {
   "cell_type": "code",
   "execution_count": 16,
   "id": "df599e33",
   "metadata": {
    "execution": {
     "iopub.execute_input": "2023-08-11T03:40:19.717602Z",
     "iopub.status.busy": "2023-08-11T03:40:19.716256Z",
     "iopub.status.idle": "2023-08-11T03:40:19.721978Z",
     "shell.execute_reply": "2023-08-11T03:40:19.720957Z"
    },
    "papermill": {
     "duration": 0.108695,
     "end_time": "2023-08-11T03:40:19.724744",
     "exception": false,
     "start_time": "2023-08-11T03:40:19.616049",
     "status": "completed"
    },
    "tags": []
   },
   "outputs": [],
   "source": [
    "# stop_words = [\"able\", \"about\", \"above\", \"abst\", \"ac\"]     # Deprecated  \n",
    "# type(stop_words), len(stop_words)"
   ]
  },
  {
   "cell_type": "markdown",
   "id": "4d8ef893",
   "metadata": {
    "papermill": {
     "duration": 0.098565,
     "end_time": "2023-08-11T03:40:19.921750",
     "exception": false,
     "start_time": "2023-08-11T03:40:19.823185",
     "status": "completed"
    },
    "tags": []
   },
   "source": [
    "## Feature extraction  "
   ]
  },
  {
   "cell_type": "markdown",
   "id": "7c8a36e9",
   "metadata": {
    "papermill": {
     "duration": 0.098605,
     "end_time": "2023-08-11T03:40:20.116511",
     "exception": false,
     "start_time": "2023-08-11T03:40:20.017906",
     "status": "completed"
    },
    "tags": []
   },
   "source": [
    "### Understand CountVectorizer and TfidfVectorizer  "
   ]
  },
  {
   "cell_type": "code",
   "execution_count": 17,
   "id": "dd35826d",
   "metadata": {
    "execution": {
     "iopub.execute_input": "2023-08-11T03:40:20.323392Z",
     "iopub.status.busy": "2023-08-11T03:40:20.322133Z",
     "iopub.status.idle": "2023-08-11T03:40:20.327571Z",
     "shell.execute_reply": "2023-08-11T03:40:20.326638Z"
    },
    "papermill": {
     "duration": 0.116475,
     "end_time": "2023-08-11T03:40:20.330502",
     "exception": false,
     "start_time": "2023-08-11T03:40:20.214027",
     "status": "completed"
    },
    "tags": []
   },
   "outputs": [],
   "source": [
    "# text = X_train.copy()\n",
    "# text.head()"
   ]
  },
  {
   "cell_type": "code",
   "execution_count": 18,
   "id": "d47920a3",
   "metadata": {
    "execution": {
     "iopub.execute_input": "2023-08-11T03:40:20.526143Z",
     "iopub.status.busy": "2023-08-11T03:40:20.525736Z",
     "iopub.status.idle": "2023-08-11T03:40:20.530322Z",
     "shell.execute_reply": "2023-08-11T03:40:20.529260Z"
    },
    "papermill": {
     "duration": 0.104816,
     "end_time": "2023-08-11T03:40:20.532696",
     "exception": false,
     "start_time": "2023-08-11T03:40:20.427880",
     "status": "completed"
    },
    "tags": []
   },
   "outputs": [],
   "source": [
    "# vectorizer = TfidfVectorizer(stop_words=stop_words)\n",
    "# vectorized_text = vectorizer.fit_transform(text[\"reviewText\"])\n",
    "# vectorized_text"
   ]
  },
  {
   "cell_type": "markdown",
   "id": "2f4b85c8",
   "metadata": {
    "papermill": {
     "duration": 0.095964,
     "end_time": "2023-08-11T03:40:20.727140",
     "exception": false,
     "start_time": "2023-08-11T03:40:20.631176",
     "status": "completed"
    },
    "tags": []
   },
   "source": [
    "`Without stop words`  \n",
    "<122068x58624 sparse matrix of type '<class 'numpy.float64'>'\n",
    "\twith 2312222 stored elements in Compressed Sparse Row format>\n",
    "\n",
    "`With stop words`  \n",
    "<122068x57784 sparse matrix of type '<class 'numpy.float64'>'\n",
    "\twith 1188395 stored elements in Compressed Sparse Row format>   "
   ]
  },
  {
   "cell_type": "code",
   "execution_count": 19,
   "id": "a5da035a",
   "metadata": {
    "execution": {
     "iopub.execute_input": "2023-08-11T03:40:20.932104Z",
     "iopub.status.busy": "2023-08-11T03:40:20.931443Z",
     "iopub.status.idle": "2023-08-11T03:40:20.935426Z",
     "shell.execute_reply": "2023-08-11T03:40:20.934435Z"
    },
    "papermill": {
     "duration": 0.110444,
     "end_time": "2023-08-11T03:40:20.938193",
     "exception": false,
     "start_time": "2023-08-11T03:40:20.827749",
     "status": "completed"
    },
    "tags": []
   },
   "outputs": [],
   "source": [
    "# vectorizer2 = CountVectorizer(stop_words=stop_words)\n",
    "# vectorized_text2 = vectorizer2.fit_transform(text[\"reviewText\"])\n",
    "# vectorized_text2"
   ]
  },
  {
   "cell_type": "markdown",
   "id": "ede5b8bc",
   "metadata": {
    "papermill": {
     "duration": 0.098315,
     "end_time": "2023-08-11T03:40:21.135686",
     "exception": false,
     "start_time": "2023-08-11T03:40:21.037371",
     "status": "completed"
    },
    "tags": []
   },
   "source": [
    "`Without stop words`  \n",
    "<122068x58624 sparse matrix of type '<class 'numpy.int64'>'\n",
    "\twith 2312222 stored elements in Compressed Sparse Row format>\n",
    "\n",
    "`With stop words`  \n",
    "<122068x57784 sparse matrix of type '<class 'numpy.int64'>'\n",
    "\twith 1188395 stored elements in Compressed Sparse Row format>"
   ]
  },
  {
   "cell_type": "markdown",
   "id": "75860d96",
   "metadata": {
    "papermill": {
     "duration": 0.099112,
     "end_time": "2023-08-11T03:40:21.330605",
     "exception": false,
     "start_time": "2023-08-11T03:40:21.231493",
     "status": "completed"
    },
    "tags": []
   },
   "source": [
    "### Conclusion   \n",
    "`TfidfVectorizer is equivalent to CountVectorizer followed by TfidfTransformer.`  \n",
    "\n",
    "https://scikit-learn.org/stable/modules/generated/sklearn.feature_extraction.text.TfidfVectorizer.html"
   ]
  },
  {
   "cell_type": "markdown",
   "id": "17920ff4",
   "metadata": {
    "papermill": {
     "duration": 0.098553,
     "end_time": "2023-08-11T03:40:21.531925",
     "exception": false,
     "start_time": "2023-08-11T03:40:21.433372",
     "status": "completed"
    },
    "tags": []
   },
   "source": [
    "## Model building workflow  \n",
    "\n",
    "`Make pipeline for preprocesing and model training and predictions`  \n"
   ]
  },
  {
   "cell_type": "code",
   "execution_count": 20,
   "id": "db952c84",
   "metadata": {
    "execution": {
     "iopub.execute_input": "2023-08-11T03:40:21.730293Z",
     "iopub.status.busy": "2023-08-11T03:40:21.729476Z",
     "iopub.status.idle": "2023-08-11T03:40:21.734734Z",
     "shell.execute_reply": "2023-08-11T03:40:21.733755Z"
    },
    "papermill": {
     "duration": 0.106673,
     "end_time": "2023-08-11T03:40:21.737595",
     "exception": false,
     "start_time": "2023-08-11T03:40:21.630922",
     "status": "completed"
    },
    "tags": []
   },
   "outputs": [],
   "source": [
    "# def preprocess_n_train(X_train, y_train, preprocessor, model):\n",
    "#     pipe = Pipeline(steps=[\n",
    "#                             (\"preprocessor\", preprocessor),\n",
    "#                             (\"model\", model)\n",
    "#                         ])\n",
    "    \n",
    "#     pipe.fit(X_train, y_train)\n",
    "\n",
    "#     print(\"Given model has been trained. Use predict method to get predictions array.\")\n",
    "#     return pipe\n",
    "\n",
    "\n",
    "# def predict_n_evaluate(pipeline, X_test, y_test):\n",
    "#     y_pred = pipeline.predict(X_test)\n",
    "#     print(f\"y_pred shape: {y_pred.shape}\")\n",
    "#     print(f\"Summary of predictions: {np.unique(y_pred, return_counts=True)}\")\n",
    "#     print(classification_report(y_test, y_pred))\n",
    "#     print(confusion_matrix(y_test, y_pred))\n",
    "#     return y_pred"
   ]
  },
  {
   "cell_type": "markdown",
   "id": "5224ca6a",
   "metadata": {
    "papermill": {
     "duration": 0.099852,
     "end_time": "2023-08-11T03:40:21.933202",
     "exception": false,
     "start_time": "2023-08-11T03:40:21.833350",
     "status": "completed"
    },
    "tags": []
   },
   "source": [
    "## Building 3 basic models  "
   ]
  },
  {
   "cell_type": "markdown",
   "id": "8f36530a",
   "metadata": {
    "papermill": {
     "duration": 0.099046,
     "end_time": "2023-08-11T03:40:22.129461",
     "exception": false,
     "start_time": "2023-08-11T03:40:22.030415",
     "status": "completed"
    },
    "tags": []
   },
   "source": [
    "### Text preprocessors  "
   ]
  },
  {
   "cell_type": "code",
   "execution_count": 21,
   "id": "c3a7c4f2",
   "metadata": {
    "execution": {
     "iopub.execute_input": "2023-08-11T03:40:22.332983Z",
     "iopub.status.busy": "2023-08-11T03:40:22.332500Z",
     "iopub.status.idle": "2023-08-11T03:40:22.338607Z",
     "shell.execute_reply": "2023-08-11T03:40:22.336493Z"
    },
    "papermill": {
     "duration": 0.111811,
     "end_time": "2023-08-11T03:40:22.341753",
     "exception": false,
     "start_time": "2023-08-11T03:40:22.229942",
     "status": "completed"
    },
    "tags": []
   },
   "outputs": [],
   "source": [
    "# tvec = TfidfVectorizer()\n",
    "# cvec = CountVectorizer()        # Note that TfidfVectorizer and CountVectorizer+TfidsTransformer do the same function\n",
    "# tvec, cvec"
   ]
  },
  {
   "cell_type": "markdown",
   "id": "7f5b7233",
   "metadata": {
    "papermill": {
     "duration": 0.096084,
     "end_time": "2023-08-11T03:40:22.537617",
     "exception": false,
     "start_time": "2023-08-11T03:40:22.441533",
     "status": "completed"
    },
    "tags": []
   },
   "source": [
    "### Logistic Regression with TfidVectorizer for preprocessing  "
   ]
  },
  {
   "cell_type": "code",
   "execution_count": 22,
   "id": "a32cbad1",
   "metadata": {
    "execution": {
     "iopub.execute_input": "2023-08-11T03:40:22.733678Z",
     "iopub.status.busy": "2023-08-11T03:40:22.732930Z",
     "iopub.status.idle": "2023-08-11T03:40:22.737388Z",
     "shell.execute_reply": "2023-08-11T03:40:22.736487Z"
    },
    "papermill": {
     "duration": 0.10584,
     "end_time": "2023-08-11T03:40:22.739694",
     "exception": false,
     "start_time": "2023-08-11T03:40:22.633854",
     "status": "completed"
    },
    "tags": []
   },
   "outputs": [],
   "source": [
    "# logreg = LogisticRegression(max_iter=1000)\n",
    "# logreg_pipe = preprocess_n_train(X_train, y_train, tvec, logreg)\n",
    "# y_pred_logreg = predict_n_evaluate(logreg_pipe, X_test, y_test)\n",
    "# y_pred_logreg"
   ]
  },
  {
   "cell_type": "markdown",
   "id": "cc8d3571",
   "metadata": {
    "papermill": {
     "duration": 0.162238,
     "end_time": "2023-08-11T03:40:22.997935",
     "exception": false,
     "start_time": "2023-08-11T03:40:22.835697",
     "status": "completed"
    },
    "tags": []
   },
   "source": [
    "### SVM model  "
   ]
  },
  {
   "cell_type": "code",
   "execution_count": 23,
   "id": "31c555ce",
   "metadata": {
    "execution": {
     "iopub.execute_input": "2023-08-11T03:40:23.194216Z",
     "iopub.status.busy": "2023-08-11T03:40:23.193223Z",
     "iopub.status.idle": "2023-08-11T03:40:23.197722Z",
     "shell.execute_reply": "2023-08-11T03:40:23.196670Z"
    },
    "papermill": {
     "duration": 0.104913,
     "end_time": "2023-08-11T03:40:23.200351",
     "exception": false,
     "start_time": "2023-08-11T03:40:23.095438",
     "status": "completed"
    },
    "tags": []
   },
   "outputs": [],
   "source": [
    "# svm = LinearSVC()\n",
    "# svm_pipe = preprocess_n_train(X_train, y_train, tvec, svm)\n",
    "# y_pred_svm = predict_n_evaluate(svm_pipe, X_test, y_test)\n",
    "# y_pred_svm"
   ]
  },
  {
   "cell_type": "markdown",
   "id": "48b69d41",
   "metadata": {
    "papermill": {
     "duration": 0.0958,
     "end_time": "2023-08-11T03:40:23.393931",
     "exception": false,
     "start_time": "2023-08-11T03:40:23.298131",
     "status": "completed"
    },
    "tags": []
   },
   "source": [
    "### Naive Bayes model  "
   ]
  },
  {
   "cell_type": "markdown",
   "id": "5ebb6f6c",
   "metadata": {
    "papermill": {
     "duration": 0.095659,
     "end_time": "2023-08-11T03:40:23.584686",
     "exception": false,
     "start_time": "2023-08-11T03:40:23.489027",
     "status": "completed"
    },
    "tags": []
   },
   "source": [
    "#### MultinomialNB  "
   ]
  },
  {
   "cell_type": "code",
   "execution_count": 24,
   "id": "f54f7237",
   "metadata": {
    "execution": {
     "iopub.execute_input": "2023-08-11T03:40:23.778539Z",
     "iopub.status.busy": "2023-08-11T03:40:23.777669Z",
     "iopub.status.idle": "2023-08-11T03:40:23.782250Z",
     "shell.execute_reply": "2023-08-11T03:40:23.781144Z"
    },
    "papermill": {
     "duration": 0.105047,
     "end_time": "2023-08-11T03:40:23.784830",
     "exception": false,
     "start_time": "2023-08-11T03:40:23.679783",
     "status": "completed"
    },
    "tags": []
   },
   "outputs": [],
   "source": [
    "# mnb = MultinomialNB()\n",
    "# mnb_pipe = preprocess_n_train(X_train, y_train, tvec, mnb)\n",
    "# y_pred_mnb = predict_n_evaluate(mnb_pipe, X_test, y_test)\n",
    "# y_pred_mnb"
   ]
  },
  {
   "cell_type": "markdown",
   "id": "fdaf0042",
   "metadata": {
    "papermill": {
     "duration": 0.097705,
     "end_time": "2023-08-11T03:40:23.979881",
     "exception": false,
     "start_time": "2023-08-11T03:40:23.882176",
     "status": "completed"
    },
    "tags": []
   },
   "source": [
    "## Submitting predictions to Kaggle competition  "
   ]
  },
  {
   "cell_type": "code",
   "execution_count": 25,
   "id": "9f21de60",
   "metadata": {
    "execution": {
     "iopub.execute_input": "2023-08-11T03:40:24.181203Z",
     "iopub.status.busy": "2023-08-11T03:40:24.180470Z",
     "iopub.status.idle": "2023-08-11T03:40:24.186149Z",
     "shell.execute_reply": "2023-08-11T03:40:24.185008Z"
    },
    "papermill": {
     "duration": 0.10916,
     "end_time": "2023-08-11T03:40:24.188835",
     "exception": false,
     "start_time": "2023-08-11T03:40:24.079675",
     "status": "completed"
    },
    "tags": []
   },
   "outputs": [],
   "source": [
    "# def submit(selected_model=logreg, selected_preprocessor=tvec):\n",
    "    \n",
    "#     # Retrain on the whole train.csv file  \n",
    "#     traindf = pd.read_csv(\"/kaggle/input/sentiment-prediction-on-movie-reviews/train.csv\")\n",
    "#     X_train = traindf[\"reviewText\"]\n",
    "#     X_train.fillna(\"empty\", inplace=True)\n",
    "#     y_train = traindf[\"sentiment\"]\n",
    "#     pipe = preprocess_n_train(X_train, y_train, selected_preprocessor, selected_model)\n",
    "    \n",
    "#     # Predict on test.csv file\n",
    "#     testdf = pd.read_csv(\"/kaggle/input/sentiment-prediction-on-movie-reviews/test.csv\")\n",
    "#     X_test = testdf[\"reviewText\"]\n",
    "#     X_test.fillna(\"empty\", inplace=True)\n",
    "    \n",
    "#     y_pred = pipe.predict(X_test)\n",
    "    \n",
    "#     pred_df = pd.DataFrame(y_pred)\n",
    "#     pred_df.columns = [\"sentiment\"]\n",
    "#     pred_df.index.name = \"id\"\n",
    "#     pred_df.to_csv(\"submission.csv\")\n",
    "    \n",
    "#     return \"Successfully created the submission file!!!\""
   ]
  },
  {
   "cell_type": "code",
   "execution_count": 26,
   "id": "b56cbd07",
   "metadata": {
    "execution": {
     "iopub.execute_input": "2023-08-11T03:40:24.390842Z",
     "iopub.status.busy": "2023-08-11T03:40:24.390019Z",
     "iopub.status.idle": "2023-08-11T03:40:24.394509Z",
     "shell.execute_reply": "2023-08-11T03:40:24.393476Z"
    },
    "papermill": {
     "duration": 0.106255,
     "end_time": "2023-08-11T03:40:24.397044",
     "exception": false,
     "start_time": "2023-08-11T03:40:24.290789",
     "status": "completed"
    },
    "tags": []
   },
   "outputs": [],
   "source": [
    "# submit(logreg_cv1, tvec_cv1)"
   ]
  },
  {
   "cell_type": "markdown",
   "id": "21554f0a",
   "metadata": {
    "papermill": {
     "duration": 0.094966,
     "end_time": "2023-08-11T03:40:24.589925",
     "exception": false,
     "start_time": "2023-08-11T03:40:24.494959",
     "status": "completed"
    },
    "tags": []
   },
   "source": [
    "# PART II  "
   ]
  },
  {
   "cell_type": "markdown",
   "id": "ef60c34f",
   "metadata": {
    "papermill": {
     "duration": 0.096948,
     "end_time": "2023-08-11T03:40:24.783398",
     "exception": false,
     "start_time": "2023-08-11T03:40:24.686450",
     "status": "completed"
    },
    "tags": []
   },
   "source": [
    "## Merge \"movies.csv\" with \"train.csv\" and \"test.csv\"  "
   ]
  },
  {
   "cell_type": "markdown",
   "id": "c83d68d6",
   "metadata": {
    "papermill": {
     "duration": 0.098275,
     "end_time": "2023-08-11T03:40:24.978772",
     "exception": false,
     "start_time": "2023-08-11T03:40:24.880497",
     "status": "completed"
    },
    "tags": []
   },
   "source": [
    "### Helper functions  "
   ]
  },
  {
   "cell_type": "code",
   "execution_count": 27,
   "id": "5a24c672",
   "metadata": {
    "execution": {
     "iopub.execute_input": "2023-08-11T03:40:25.176424Z",
     "iopub.status.busy": "2023-08-11T03:40:25.175289Z",
     "iopub.status.idle": "2023-08-11T03:40:25.182185Z",
     "shell.execute_reply": "2023-08-11T03:40:25.181257Z"
    },
    "papermill": {
     "duration": 0.110274,
     "end_time": "2023-08-11T03:40:25.184621",
     "exception": false,
     "start_time": "2023-08-11T03:40:25.074347",
     "status": "completed"
    },
    "tags": []
   },
   "outputs": [],
   "source": [
    "# Helper function for loading files  \n",
    "\n",
    "def load_csv(filename: str):\n",
    "    if platform == \"vscode\":\n",
    "        df = pd.read_csv(f\"data/{filename}.csv\")\n",
    "    else:\n",
    "        df = pd.read_csv(f\"/kaggle/input/sentiment-prediction-on-movie-reviews/{filename}.csv\")\n",
    "        \n",
    "    return df"
   ]
  },
  {
   "cell_type": "code",
   "execution_count": 28,
   "id": "a38b3cd8",
   "metadata": {
    "execution": {
     "iopub.execute_input": "2023-08-11T03:40:25.382844Z",
     "iopub.status.busy": "2023-08-11T03:40:25.381600Z",
     "iopub.status.idle": "2023-08-11T03:40:25.388460Z",
     "shell.execute_reply": "2023-08-11T03:40:25.387276Z"
    },
    "papermill": {
     "duration": 0.110237,
     "end_time": "2023-08-11T03:40:25.391170",
     "exception": false,
     "start_time": "2023-08-11T03:40:25.280933",
     "status": "completed"
    },
    "tags": []
   },
   "outputs": [],
   "source": [
    "def inspect(df: pd.DataFrame):\n",
    "    print(f\"Shape of the dataframe: {df.shape}\")\n",
    "    print()\n",
    "    print(f\"Columns in the dataframe:\\n{df.columns}\")\n",
    "    print()\n",
    "    print(f\"{df.info()}\")\n",
    "    print()\n",
    "    # print(f\"Summary: {df.describe()}\")\n",
    "    print(f\"Missing values:\\n{df.isna().sum()}\")\n",
    "    return"
   ]
  },
  {
   "cell_type": "code",
   "execution_count": 29,
   "id": "30e62ea4",
   "metadata": {
    "execution": {
     "iopub.execute_input": "2023-08-11T03:40:25.586869Z",
     "iopub.status.busy": "2023-08-11T03:40:25.586460Z",
     "iopub.status.idle": "2023-08-11T03:40:25.592167Z",
     "shell.execute_reply": "2023-08-11T03:40:25.590835Z"
    },
    "papermill": {
     "duration": 0.106056,
     "end_time": "2023-08-11T03:40:25.594989",
     "exception": false,
     "start_time": "2023-08-11T03:40:25.488933",
     "status": "completed"
    },
    "tags": []
   },
   "outputs": [],
   "source": [
    "def name_fl(name):\n",
    "    l = name.split()\n",
    "    n = ' '.join((l[0], l[-1]))\n",
    "    return n"
   ]
  },
  {
   "cell_type": "code",
   "execution_count": 30,
   "id": "7dfd67f2",
   "metadata": {
    "execution": {
     "iopub.execute_input": "2023-08-11T03:40:25.796476Z",
     "iopub.status.busy": "2023-08-11T03:40:25.796050Z",
     "iopub.status.idle": "2023-08-11T03:40:25.827922Z",
     "shell.execute_reply": "2023-08-11T03:40:25.826674Z"
    },
    "papermill": {
     "duration": 0.135339,
     "end_time": "2023-08-11T03:40:25.830953",
     "exception": false,
     "start_time": "2023-08-11T03:40:25.695614",
     "status": "completed"
    },
    "tags": []
   },
   "outputs": [],
   "source": [
    "def select_features(df: pd.DataFrame, moviesdf: pd.DataFrame, row_thresh_null=None):\n",
    "    '''\n",
    "    This function merges the given dataframes. Note that the first df must be \"train\" or \"test\" and\n",
    "    the second df should be \"movies\".\n",
    "    Note: Sentiment column is present only in \"train.csv\" file and not \"test.csv\" file.\n",
    "    '''\n",
    "    \n",
    "    # Drop duplicates from moviesdf\n",
    "#     movies_unique = moviesdf.drop_duplicates(subset=[\"movieid\"])\n",
    "\n",
    "    # Drop duplicates using groupby - clubs similar rows and fills in missing values better\n",
    "    movies_unique = moviesdf.fillna(value=np.nan).groupby(\"movieid\").first().reset_index()\n",
    "    \n",
    "\n",
    "    # Handle missing values in movies.csv better than just dropping duplicates?\n",
    "#     movies_unique = moviesdf.copy()\n",
    "#     movies_unique[[\"audienceScore\", \"runtimeMinutes\"]] = movies_unique[[\"audienceScore\", \"runtimeMinutes\"]].interpolate(method='linear', axis=0)\n",
    "#     movies_unique = movies_unique.fillna(value=np.nan).groupby(\"movieid\").first().fillna(method='ffill').reset_index()\n",
    "\n",
    "    \n",
    "\n",
    "    # Merge df and movies_unique\n",
    "    df_merged = pd.merge(df, movies_unique, on=\"movieid\", how='left')\n",
    "    \n",
    "    # Rename \"isTopCritic\" column, if it exists, to \"isFrequentReviewer\"\n",
    "    df_merged.rename(columns={\"isTopCritic\": \"isFrequentReviewer\"}, inplace=True)\n",
    "    \n",
    "    # Drop columns\n",
    "#     df_merged = df_merged.drop(columns=[\"title\", \"ratingContents\", \"releaseDateTheaters\", \"releaseDateStreaming\", \"distributor\", \"soundType\"])\n",
    "#     df_merged = df_merged.drop(columns=[\"title\", \"soundType\"])\n",
    "    \n",
    "    # Drop rows (OPTIONAL: Uses kwarg row_thresh_null)\n",
    "    if row_thresh_null != None:\n",
    "        df_merged.dropna(axis=0, thresh=(df_merged.shape[1] - row_thresh_null), inplace=True)\n",
    "        \n",
    "\n",
    "    # Create new columns based on reviewText\n",
    "    final = df_merged.copy()\n",
    "    final[\"reviewYN\"] = np.where(final[\"reviewText\"].isnull(), 1, 0)    # Feature engineering - adding a new column\n",
    "    final[\"reviewWC\"] = final.apply(lambda x: len(str(x[\"reviewText\"]).split()), axis=1)    # Feature engineering - adding second new column\n",
    "    \n",
    "    # Clean text (replace numbers with empty string) and fill missing values in \"reviewText\" with empty string\n",
    "    final[\"reviewText\"] = final[\"reviewText\"].str.replace('\\d+', '', regex=True)\n",
    "    final[\"reviewText\"] = final[\"reviewText\"].fillna(\"neutral\")\n",
    "    \n",
    "    # Fill missing values in \"rating\", \"genre\", original columns with the word \"unknown\"\n",
    "    final[\"rating\"] = final[\"rating\"].fillna(\"unknown\")\n",
    "    final[\"originalLanguage\"] = final[\"originalLanguage\"].fillna(\"unknown\")\n",
    "    final[\"genre\"] = final[\"genre\"].fillna(\"unknown\")\n",
    "    final[\"genre\"] = final[\"genre\"].apply(lambda x: re.sub(r\"-\", \"\", x))\n",
    "    final[\"genreSorted\"] = final[\"genre\"].apply(lambda x: (\",\").join(sorted(x.split(\", \"))))\n",
    "#     final[\"genre\"] = final[\"genre\"].replace(to_replace={\"&\": \"\"})\n",
    "\n",
    "    # Impute missing values for \"audienceScore\" and \"runtimeMinutes\" columns\n",
    "#     final[\"audienceScore\"] = final[\"audienceScore\"].fillna(final[\"audienceScore\"].mean())        # MOVED\n",
    "#     final[\"runtimeMinutes\"] = final[\"runtimeMinutes\"].fillna(final[\"runtimeMinutes\"].median())   # MOVED\n",
    "    \n",
    "    # Preprocess and impute missing values in \"boxOffice\" column\n",
    "    final[\"boxOffice\"] = final[\"boxOffice\"].str[1:]\n",
    "    final[\"boxOffice\"] = final[\"boxOffice\"].replace(to_replace={\"M\": \"*1000000\", \"K\": \"*1000\"}, regex=True)\n",
    "    final[\"boxOffice\"] = final[\"boxOffice\"].loc[final[\"boxOffice\"].notnull()].apply(lambda x: eval(str(x)))\n",
    "#     final[\"boxOffice\"] = final[\"boxOffice\"].fillna(final[\"boxOffice\"].median())                  # MOVED\n",
    "    # (Optional) Replace outliers in boxOffice with median\n",
    "#     median = final[\"boxOffice\"].describe()['50%']\n",
    "#     iqr = final[\"boxOffice\"].describe()['75%'] - final[\"boxOffice\"].describe()['25%']\n",
    "#     ll = median - (1.5*iqr)\n",
    "#     ul = median + (1.5*iqr)\n",
    "#     final.loc[final[\"boxOffice\"] > ul, \"boxOffice\"] = median\n",
    "    \n",
    "    # Clean language names\n",
    "    final[\"originalLanguage\"].replace({\"English (United Kingdom)\": \"English\", \n",
    "                                            \"English (Australia)\" : \"English\",\n",
    "                                            \"French (France)\": \"French\", \n",
    "                                            \"French (Canada)\": \"French\",\n",
    "                                            \"Portuguese (Brazil)\": \"Portuguese\",\n",
    "                                            \"Spanish (Spain)\": \"Spanish\"},                                         \n",
    "                                            inplace=True)\n",
    "    \n",
    "    # Clean reviewerName column\n",
    "    pre_post_fixes = {\"Mr. \": \"\", \"Mrs. \": \"\", \"Ms. \": \"\", \"Dr. \": \"\", \n",
    "                      \" MD\": \"\", \" DDS\": \"\", \" DVM\": \"\", \" Jr.\": \"\", \" PhD\": \"\", \" II\": \"\", \" IV\": \"\"}\n",
    "    final[\"reviewerName\"] = final[\"reviewerName\"].replace(pre_post_fixes, regex=True)\n",
    "    final[\"reviewerName\"] = final[\"reviewerName\"].apply(name_fl)\n",
    "    \n",
    "    # Handle 'ratingContents' column\n",
    "    final[\"ratingContents\"] = final[\"ratingContents\"].fillna(\"neutral\")\n",
    "    final[\"rcSorted\"] = final[\"ratingContents\"].apply(lambda x: (\",\").join(sorted(x.strip(\"][\").split(\", \"))))\n",
    "    final[\"rcSorted\"] = final[\"rcSorted\"].apply(lambda x: re.sub(r\"'\", \"\", x))\n",
    "    final[\"rcSorted\"] = final[\"rcSorted\"].apply(lambda x: re.sub(r\"[/\\s]\", \"_\", x))  \n",
    "    \n",
    "    # Handle 'ratingContents' column\n",
    "    final[\"distributor\"] = final[\"distributor\"].fillna(\"unknown\")\n",
    "    \n",
    "    # Work with 'releaseDateTheaters', releaseDateStreaming column\n",
    "    final[[\"releaseDateTheaters\", \"releaseDateStreaming\"]] = final[[\"releaseDateTheaters\", \"releaseDateStreaming\"]].astype('datetime64[ns]')\n",
    "\n",
    "    final[\"releaseDate\"] = final[[\"releaseDateTheaters\", \"releaseDateStreaming\"]].min(axis=1, skipna=False)\n",
    "#     final[\"releaseDate\"] = final[\"releaseDate\"].fillna(final[\"releaseDate\"].median())               # MOVED\n",
    "\n",
    "    final[\"releaseYear\"] = final[\"releaseDate\"].dt.year\n",
    "    final[\"releaseMonth\"] = final[\"releaseDate\"].dt.month\n",
    "    \n",
    "    # Compute \"releaseDiff\" column and fill missing values in \"releaseDiff\" and (optional) replace outliers\n",
    "    final[\"releaseDiff\"] = (final[\"releaseDateStreaming\"] - final[\"releaseDateTheaters\"]) / np.timedelta64(1, 'D')\n",
    "    final[\"releaseDiff\"] = final[\"releaseDiff\"].apply(lambda x: abs(x))\n",
    "    final[\"releaseDiff\"] = final[\"releaseDiff\"].fillna(value=0)\n",
    "#     final[\"releaseDiff\"] = final[\"releaseDiff\"].fillna(final[\"releaseDiff\"].median())\n",
    "    # median = final[\"releaseDiff\"].describe()['50%']\n",
    "    # iqr = final[\"releaseDiff\"].describe()['75%'] - final[\"releaseDiff\"].describe()['25%']\n",
    "    # ll = median - (1.5*iqr)\n",
    "    # ul = median + (1.5*iqr)\n",
    "    # final.loc[final[\"releaseDiff\"] > ul, \"releaseDiff\"] = median\n",
    "    # final.loc[final[\"releaseDiff\"] < ll, \"releaseDiff\"] = median\n",
    "    \n",
    "    # Create new feature columns\n",
    "    \n",
    "    # Convert audienceScore to categories  \n",
    "    num_bins_as = 20\n",
    "    final[\"audScoreBins\"] = pd.cut(final['audienceScore'], bins=num_bins_as, labels=False)\n",
    "    \n",
    "    # Convert runtimeMinutes to categories  \n",
    "#     num_bins_rt = 20\n",
    "    final[\"runtimeBins\"] = pd.cut(final['runtimeMinutes'], bins=[0,75,120,180,565], labels=[4,3,2,1])\n",
    "    \n",
    "    # Convert boxOffice to categories  \n",
    "    num_bins_bo = 5\n",
    "    final[\"boxOfficeBins\"] = pd.cut(final['boxOffice'], bins=num_bins_bo, labels=False)\n",
    "    \n",
    "    # Convert releaseDiff to categories  \n",
    "    num_bins_rd = 5\n",
    "    final[\"releaseDiffBins\"] = pd.cut(final['releaseDiff'], bins=[-1, 180, 360, 1000, 40000], labels=[0, 1, 2, 3])\n",
    "\n",
    "    return final"
   ]
  },
  {
   "cell_type": "code",
   "execution_count": 31,
   "id": "0ea09786",
   "metadata": {
    "execution": {
     "iopub.execute_input": "2023-08-11T03:40:26.056645Z",
     "iopub.status.busy": "2023-08-11T03:40:26.056205Z",
     "iopub.status.idle": "2023-08-11T03:40:26.064648Z",
     "shell.execute_reply": "2023-08-11T03:40:26.063307Z"
    },
    "papermill": {
     "duration": 0.115615,
     "end_time": "2023-08-11T03:40:26.067315",
     "exception": false,
     "start_time": "2023-08-11T03:40:25.951700",
     "status": "completed"
    },
    "tags": []
   },
   "outputs": [],
   "source": [
    "def split_train_predict(features, labels, pipeline, test_size=0.25, random_state=42):\n",
    "    # cols = features.columns\n",
    "    if len(features.shape) == 1:\n",
    "        features = features.to_numpy().reshape(-1, 1)  # reshape to 2D array\n",
    "    features = pd.DataFrame(features)\n",
    "    X_train, X_test, y_train, y_test = train_test_split(features, labels, test_size=test_size, random_state=random_state)\n",
    "    pipeline.fit(X_train, y_train)\n",
    "    y_pred = pipeline.predict(X_test)\n",
    "    print(classification_report(y_test, y_pred))\n",
    "    print(confusion_matrix(y_test, y_pred))\n",
    "    return pipeline"
   ]
  },
  {
   "cell_type": "markdown",
   "id": "e967eaa9",
   "metadata": {
    "papermill": {
     "duration": 0.095982,
     "end_time": "2023-08-11T03:40:26.262524",
     "exception": false,
     "start_time": "2023-08-11T03:40:26.166542",
     "status": "completed"
    },
    "tags": []
   },
   "source": [
    "### Merge \"train.csv\" file with \"movies.csv\" file  "
   ]
  },
  {
   "cell_type": "code",
   "execution_count": 32,
   "id": "1f0d42a1",
   "metadata": {
    "execution": {
     "iopub.execute_input": "2023-08-11T03:40:26.461404Z",
     "iopub.status.busy": "2023-08-11T03:40:26.460969Z",
     "iopub.status.idle": "2023-08-11T03:40:42.191140Z",
     "shell.execute_reply": "2023-08-11T03:40:42.189581Z"
    },
    "papermill": {
     "duration": 15.833973,
     "end_time": "2023-08-11T03:40:42.194551",
     "exception": false,
     "start_time": "2023-08-11T03:40:26.360578",
     "status": "completed"
    },
    "tags": []
   },
   "outputs": [],
   "source": [
    "merged = select_features(load_csv(\"train\"), load_csv(\"movies\"), row_thresh_null=None)"
   ]
  },
  {
   "cell_type": "code",
   "execution_count": 33,
   "id": "effd8195",
   "metadata": {
    "execution": {
     "iopub.execute_input": "2023-08-11T03:40:42.396715Z",
     "iopub.status.busy": "2023-08-11T03:40:42.395815Z",
     "iopub.status.idle": "2023-08-11T03:40:42.401375Z",
     "shell.execute_reply": "2023-08-11T03:40:42.399613Z"
    },
    "papermill": {
     "duration": 0.109416,
     "end_time": "2023-08-11T03:40:42.404480",
     "exception": false,
     "start_time": "2023-08-11T03:40:42.295064",
     "status": "completed"
    },
    "tags": []
   },
   "outputs": [],
   "source": [
    "# inspect(merged)    # Note missing values in ['audienceScore', 'runtimeMinutes', 'boxOffice'] columns  "
   ]
  },
  {
   "cell_type": "code",
   "execution_count": 34,
   "id": "17dcde83",
   "metadata": {
    "execution": {
     "iopub.execute_input": "2023-08-11T03:40:42.600432Z",
     "iopub.status.busy": "2023-08-11T03:40:42.599991Z",
     "iopub.status.idle": "2023-08-11T03:40:42.720381Z",
     "shell.execute_reply": "2023-08-11T03:40:42.718791Z"
    },
    "papermill": {
     "duration": 0.220798,
     "end_time": "2023-08-11T03:40:42.723557",
     "exception": false,
     "start_time": "2023-08-11T03:40:42.502759",
     "status": "completed"
    },
    "tags": []
   },
   "outputs": [
    {
     "data": {
      "text/plain": [
       "array([6.80e+01, 1.04e+02, 1.43e+07])"
      ]
     },
     "execution_count": 34,
     "metadata": {},
     "output_type": "execute_result"
    }
   ],
   "source": [
    "# Simple Imputer for ['audienceScore', 'runtimeMinutes', 'boxOffice'] columns\n",
    "si = SimpleImputer(strategy='median')\n",
    "merged[['audienceScore', 'runtimeMinutes', 'boxOffice']] = si.fit_transform(merged[['audienceScore', 'runtimeMinutes', 'boxOffice']])\n",
    "si.statistics_"
   ]
  },
  {
   "cell_type": "code",
   "execution_count": 35,
   "id": "dc23e065",
   "metadata": {
    "execution": {
     "iopub.execute_input": "2023-08-11T03:40:42.922413Z",
     "iopub.status.busy": "2023-08-11T03:40:42.922008Z",
     "iopub.status.idle": "2023-08-11T03:40:42.938415Z",
     "shell.execute_reply": "2023-08-11T03:40:42.937374Z"
    },
    "papermill": {
     "duration": 0.119449,
     "end_time": "2023-08-11T03:40:42.941498",
     "exception": false,
     "start_time": "2023-08-11T03:40:42.822049",
     "status": "completed"
    },
    "tags": []
   },
   "outputs": [],
   "source": [
    "# Fill 'releaseDate' column with median  \n",
    "merged['releaseDate'] = merged[\"releaseDate\"].fillna(merged[\"releaseDate\"].median())"
   ]
  },
  {
   "cell_type": "code",
   "execution_count": 36,
   "id": "0b6a927b",
   "metadata": {
    "execution": {
     "iopub.execute_input": "2023-08-11T03:40:43.143340Z",
     "iopub.status.busy": "2023-08-11T03:40:43.142173Z",
     "iopub.status.idle": "2023-08-11T03:40:44.669837Z",
     "shell.execute_reply": "2023-08-11T03:40:44.668795Z"
    },
    "papermill": {
     "duration": 1.631447,
     "end_time": "2023-08-11T03:40:44.672743",
     "exception": false,
     "start_time": "2023-08-11T03:40:43.041296",
     "status": "completed"
    },
    "tags": []
   },
   "outputs": [
    {
     "name": "stdout",
     "output_type": "stream",
     "text": [
      "Shape of the dataframe: (162758, 30)\n",
      "\n",
      "Columns in the dataframe:\n",
      "Index(['movieid', 'reviewerName', 'isFrequentReviewer', 'reviewText',\n",
      "       'sentiment', 'title', 'audienceScore', 'rating', 'ratingContents',\n",
      "       'releaseDateTheaters', 'releaseDateStreaming', 'runtimeMinutes',\n",
      "       'genre', 'originalLanguage', 'director', 'boxOffice', 'distributor',\n",
      "       'soundType', 'reviewYN', 'reviewWC', 'genreSorted', 'rcSorted',\n",
      "       'releaseDate', 'releaseYear', 'releaseMonth', 'releaseDiff',\n",
      "       'audScoreBins', 'runtimeBins', 'boxOfficeBins', 'releaseDiffBins'],\n",
      "      dtype='object')\n",
      "\n",
      "<class 'pandas.core.frame.DataFrame'>\n",
      "Int64Index: 162758 entries, 0 to 162757\n",
      "Data columns (total 30 columns):\n",
      " #   Column                Non-Null Count   Dtype         \n",
      "---  ------                --------------   -----         \n",
      " 0   movieid               162758 non-null  object        \n",
      " 1   reviewerName          162758 non-null  object        \n",
      " 2   isFrequentReviewer    162758 non-null  bool          \n",
      " 3   reviewText            162758 non-null  object        \n",
      " 4   sentiment             162758 non-null  object        \n",
      " 5   title                 162758 non-null  object        \n",
      " 6   audienceScore         162758 non-null  float64       \n",
      " 7   rating                162758 non-null  object        \n",
      " 8   ratingContents        162758 non-null  object        \n",
      " 9   releaseDateTheaters   146403 non-null  datetime64[ns]\n",
      " 10  releaseDateStreaming  157353 non-null  datetime64[ns]\n",
      " 11  runtimeMinutes        162758 non-null  float64       \n",
      " 12  genre                 162758 non-null  object        \n",
      " 13  originalLanguage      162758 non-null  object        \n",
      " 14  director              162758 non-null  object        \n",
      " 15  boxOffice             162758 non-null  float64       \n",
      " 16  distributor           162758 non-null  object        \n",
      " 17  soundType             93466 non-null   object        \n",
      " 18  reviewYN              162758 non-null  int64         \n",
      " 19  reviewWC              162758 non-null  int64         \n",
      " 20  genreSorted           162758 non-null  object        \n",
      " 21  rcSorted              162758 non-null  object        \n",
      " 22  releaseDate           162758 non-null  datetime64[ns]\n",
      " 23  releaseYear           143073 non-null  float64       \n",
      " 24  releaseMonth          143073 non-null  float64       \n",
      " 25  releaseDiff           162758 non-null  float64       \n",
      " 26  audScoreBins          159922 non-null  float64       \n",
      " 27  runtimeBins           162016 non-null  category      \n",
      " 28  boxOfficeBins         130581 non-null  float64       \n",
      " 29  releaseDiffBins       162758 non-null  category      \n",
      "dtypes: bool(1), category(2), datetime64[ns](3), float64(8), int64(2), object(14)\n",
      "memory usage: 35.2+ MB\n",
      "None\n",
      "\n",
      "Missing values:\n",
      "movieid                     0\n",
      "reviewerName                0\n",
      "isFrequentReviewer          0\n",
      "reviewText                  0\n",
      "sentiment                   0\n",
      "title                       0\n",
      "audienceScore               0\n",
      "rating                      0\n",
      "ratingContents              0\n",
      "releaseDateTheaters     16355\n",
      "releaseDateStreaming     5405\n",
      "runtimeMinutes              0\n",
      "genre                       0\n",
      "originalLanguage            0\n",
      "director                    0\n",
      "boxOffice                   0\n",
      "distributor                 0\n",
      "soundType               69292\n",
      "reviewYN                    0\n",
      "reviewWC                    0\n",
      "genreSorted                 0\n",
      "rcSorted                    0\n",
      "releaseDate                 0\n",
      "releaseYear             19685\n",
      "releaseMonth            19685\n",
      "releaseDiff                 0\n",
      "audScoreBins             2836\n",
      "runtimeBins               742\n",
      "boxOfficeBins           32177\n",
      "releaseDiffBins             0\n",
      "dtype: int64\n"
     ]
    }
   ],
   "source": [
    "# Check out 'merged' df after imputation  \n",
    "inspect(merged)"
   ]
  },
  {
   "cell_type": "code",
   "execution_count": 37,
   "id": "4b692f28",
   "metadata": {
    "execution": {
     "iopub.execute_input": "2023-08-11T03:40:44.869974Z",
     "iopub.status.busy": "2023-08-11T03:40:44.869542Z",
     "iopub.status.idle": "2023-08-11T03:40:44.941660Z",
     "shell.execute_reply": "2023-08-11T03:40:44.940438Z"
    },
    "papermill": {
     "duration": 0.174822,
     "end_time": "2023-08-11T03:40:44.944341",
     "exception": false,
     "start_time": "2023-08-11T03:40:44.769519",
     "status": "completed"
    },
    "tags": []
   },
   "outputs": [
    {
     "data": {
      "text/html": [
       "<div>\n",
       "<style scoped>\n",
       "    .dataframe tbody tr th:only-of-type {\n",
       "        vertical-align: middle;\n",
       "    }\n",
       "\n",
       "    .dataframe tbody tr th {\n",
       "        vertical-align: top;\n",
       "    }\n",
       "\n",
       "    .dataframe thead th {\n",
       "        text-align: right;\n",
       "    }\n",
       "</style>\n",
       "<table border=\"1\" class=\"dataframe\">\n",
       "  <thead>\n",
       "    <tr style=\"text-align: right;\">\n",
       "      <th></th>\n",
       "      <th>audienceScore</th>\n",
       "      <th>runtimeMinutes</th>\n",
       "      <th>boxOffice</th>\n",
       "    </tr>\n",
       "  </thead>\n",
       "  <tbody>\n",
       "    <tr>\n",
       "      <th>count</th>\n",
       "      <td>162758.000000</td>\n",
       "      <td>162758.000000</td>\n",
       "      <td>1.627580e+05</td>\n",
       "    </tr>\n",
       "    <tr>\n",
       "      <th>mean</th>\n",
       "      <td>65.062565</td>\n",
       "      <td>106.992019</td>\n",
       "      <td>4.160983e+07</td>\n",
       "    </tr>\n",
       "    <tr>\n",
       "      <th>std</th>\n",
       "      <td>19.844000</td>\n",
       "      <td>22.203778</td>\n",
       "      <td>7.932291e+07</td>\n",
       "    </tr>\n",
       "    <tr>\n",
       "      <th>min</th>\n",
       "      <td>0.000000</td>\n",
       "      <td>4.000000</td>\n",
       "      <td>0.000000e+00</td>\n",
       "    </tr>\n",
       "    <tr>\n",
       "      <th>25%</th>\n",
       "      <td>51.000000</td>\n",
       "      <td>93.000000</td>\n",
       "      <td>2.000000e+06</td>\n",
       "    </tr>\n",
       "    <tr>\n",
       "      <th>50%</th>\n",
       "      <td>68.000000</td>\n",
       "      <td>104.000000</td>\n",
       "      <td>1.430000e+07</td>\n",
       "    </tr>\n",
       "    <tr>\n",
       "      <th>75%</th>\n",
       "      <td>81.000000</td>\n",
       "      <td>118.000000</td>\n",
       "      <td>4.200000e+07</td>\n",
       "    </tr>\n",
       "    <tr>\n",
       "      <th>max</th>\n",
       "      <td>100.000000</td>\n",
       "      <td>561.000000</td>\n",
       "      <td>8.584000e+08</td>\n",
       "    </tr>\n",
       "  </tbody>\n",
       "</table>\n",
       "</div>"
      ],
      "text/plain": [
       "       audienceScore  runtimeMinutes     boxOffice\n",
       "count  162758.000000   162758.000000  1.627580e+05\n",
       "mean       65.062565      106.992019  4.160983e+07\n",
       "std        19.844000       22.203778  7.932291e+07\n",
       "min         0.000000        4.000000  0.000000e+00\n",
       "25%        51.000000       93.000000  2.000000e+06\n",
       "50%        68.000000      104.000000  1.430000e+07\n",
       "75%        81.000000      118.000000  4.200000e+07\n",
       "max       100.000000      561.000000  8.584000e+08"
      ]
     },
     "execution_count": 37,
     "metadata": {},
     "output_type": "execute_result"
    }
   ],
   "source": [
    "merged[['audienceScore', 'runtimeMinutes', 'boxOffice']].describe()"
   ]
  },
  {
   "cell_type": "markdown",
   "id": "4ee57051",
   "metadata": {
    "papermill": {
     "duration": 0.104383,
     "end_time": "2023-08-11T03:40:45.150329",
     "exception": false,
     "start_time": "2023-08-11T03:40:45.045946",
     "status": "completed"
    },
    "tags": []
   },
   "source": [
    "### EDA releaseDiff  "
   ]
  },
  {
   "cell_type": "code",
   "execution_count": 38,
   "id": "03a1672a",
   "metadata": {
    "execution": {
     "iopub.execute_input": "2023-08-11T03:40:45.347777Z",
     "iopub.status.busy": "2023-08-11T03:40:45.347101Z",
     "iopub.status.idle": "2023-08-11T03:40:45.367003Z",
     "shell.execute_reply": "2023-08-11T03:40:45.365622Z"
    },
    "papermill": {
     "duration": 0.122817,
     "end_time": "2023-08-11T03:40:45.369879",
     "exception": false,
     "start_time": "2023-08-11T03:40:45.247062",
     "status": "completed"
    },
    "tags": []
   },
   "outputs": [
    {
     "data": {
      "text/plain": [
       "count    162758.000000\n",
       "mean       1653.469015\n",
       "std        4581.420922\n",
       "min           0.000000\n",
       "25%          65.000000\n",
       "50%         116.000000\n",
       "75%         375.000000\n",
       "max       38922.000000\n",
       "Name: releaseDiff, dtype: float64"
      ]
     },
     "execution_count": 38,
     "metadata": {},
     "output_type": "execute_result"
    }
   ],
   "source": [
    "# abs values\n",
    "merged[\"releaseDiff\"].describe()"
   ]
  },
  {
   "cell_type": "code",
   "execution_count": 39,
   "id": "07d1e94b",
   "metadata": {
    "execution": {
     "iopub.execute_input": "2023-08-11T03:40:45.570288Z",
     "iopub.status.busy": "2023-08-11T03:40:45.569610Z",
     "iopub.status.idle": "2023-08-11T03:40:45.580703Z",
     "shell.execute_reply": "2023-08-11T03:40:45.579446Z"
    },
    "papermill": {
     "duration": 0.113001,
     "end_time": "2023-08-11T03:40:45.583457",
     "exception": false,
     "start_time": "2023-08-11T03:40:45.470456",
     "status": "completed"
    },
    "tags": []
   },
   "outputs": [
    {
     "data": {
      "text/plain": [
       "0    111750\n",
       "3     32557\n",
       "1      9920\n",
       "2      8531\n",
       "Name: releaseDiffBins, dtype: int64"
      ]
     },
     "execution_count": 39,
     "metadata": {},
     "output_type": "execute_result"
    }
   ],
   "source": [
    "merged['releaseDiffBins'].value_counts()"
   ]
  },
  {
   "cell_type": "code",
   "execution_count": 40,
   "id": "60a6fee7",
   "metadata": {
    "execution": {
     "iopub.execute_input": "2023-08-11T03:40:45.787709Z",
     "iopub.status.busy": "2023-08-11T03:40:45.787028Z",
     "iopub.status.idle": "2023-08-11T03:40:46.211753Z",
     "shell.execute_reply": "2023-08-11T03:40:46.210517Z"
    },
    "papermill": {
     "duration": 0.529874,
     "end_time": "2023-08-11T03:40:46.214250",
     "exception": false,
     "start_time": "2023-08-11T03:40:45.684376",
     "status": "completed"
    },
    "tags": []
   },
   "outputs": [
    {
     "data": {
      "text/plain": [
       "<Axes: xlabel='sentiment', ylabel='releaseDiff'>"
      ]
     },
     "execution_count": 40,
     "metadata": {},
     "output_type": "execute_result"
    },
    {
     "data": {
      "image/png": "[encoded data removed]",
      "text/plain": [
       "<Figure size 640x480 with 1 Axes>"
      ]
     },
     "metadata": {},
     "output_type": "display_data"
    }
   ],
   "source": [
    "sns.boxplot(x=merged['sentiment'], y=merged['releaseDiff'], showfliers=False)"
   ]
  },
  {
   "cell_type": "code",
   "execution_count": 41,
   "id": "59a5c778",
   "metadata": {
    "execution": {
     "iopub.execute_input": "2023-08-11T03:40:46.411713Z",
     "iopub.status.busy": "2023-08-11T03:40:46.411037Z",
     "iopub.status.idle": "2023-08-11T03:40:47.160550Z",
     "shell.execute_reply": "2023-08-11T03:40:47.159323Z"
    },
    "papermill": {
     "duration": 0.85319,
     "end_time": "2023-08-11T03:40:47.163978",
     "exception": false,
     "start_time": "2023-08-11T03:40:46.310788",
     "status": "completed"
    },
    "tags": []
   },
   "outputs": [
    {
     "data": {
      "text/plain": [
       "<seaborn.axisgrid.FacetGrid at 0x7a47fc9fa980>"
      ]
     },
     "execution_count": 41,
     "metadata": {},
     "output_type": "execute_result"
    },
    {
     "data": {
      "image/png": "[encoded data removed]",
      "text/plain": [
       "<Figure size 500x500 with 1 Axes>"
      ]
     },
     "metadata": {},
     "output_type": "display_data"
    }
   ],
   "source": [
    "sns.displot(merged['releaseDiffBins'])"
   ]
  },
  {
   "cell_type": "code",
   "execution_count": 42,
   "id": "23420bd3",
   "metadata": {
    "execution": {
     "iopub.execute_input": "2023-08-11T03:40:47.363064Z",
     "iopub.status.busy": "2023-08-11T03:40:47.362598Z",
     "iopub.status.idle": "2023-08-11T03:40:47.382896Z",
     "shell.execute_reply": "2023-08-11T03:40:47.381782Z"
    },
    "papermill": {
     "duration": 0.123839,
     "end_time": "2023-08-11T03:40:47.385274",
     "exception": false,
     "start_time": "2023-08-11T03:40:47.261435",
     "status": "completed"
    },
    "tags": []
   },
   "outputs": [
    {
     "data": {
      "text/plain": [
       "POSITIVE    34446\n",
       "NEGATIVE    16562\n",
       "Name: sentiment, dtype: int64"
      ]
     },
     "execution_count": 42,
     "metadata": {},
     "output_type": "execute_result"
    }
   ],
   "source": [
    "merged['sentiment'].loc[merged['releaseDiffBins'] > 0].value_counts()"
   ]
  },
  {
   "cell_type": "code",
   "execution_count": 43,
   "id": "4f6d3fc7",
   "metadata": {
    "execution": {
     "iopub.execute_input": "2023-08-11T03:40:47.585389Z",
     "iopub.status.busy": "2023-08-11T03:40:47.584146Z",
     "iopub.status.idle": "2023-08-11T03:40:47.597069Z",
     "shell.execute_reply": "2023-08-11T03:40:47.595865Z"
    },
    "papermill": {
     "duration": 0.11524,
     "end_time": "2023-08-11T03:40:47.599845",
     "exception": false,
     "start_time": "2023-08-11T03:40:47.484605",
     "status": "completed"
    },
    "tags": []
   },
   "outputs": [
    {
     "data": {
      "text/plain": [
       "count     162758\n",
       "unique         4\n",
       "top            0\n",
       "freq      111750\n",
       "Name: releaseDiffBins, dtype: int64"
      ]
     },
     "execution_count": 43,
     "metadata": {},
     "output_type": "execute_result"
    }
   ],
   "source": [
    "merged['releaseDiffBins'].describe()"
   ]
  },
  {
   "cell_type": "markdown",
   "id": "9aa86dae",
   "metadata": {
    "papermill": {
     "duration": 0.100162,
     "end_time": "2023-08-11T03:40:47.798966",
     "exception": false,
     "start_time": "2023-08-11T03:40:47.698804",
     "status": "completed"
    },
    "tags": []
   },
   "source": [
    "### EDA 'distributor'  "
   ]
  },
  {
   "cell_type": "code",
   "execution_count": 44,
   "id": "a3c14fb3",
   "metadata": {
    "execution": {
     "iopub.execute_input": "2023-08-11T03:40:48.069242Z",
     "iopub.status.busy": "2023-08-11T03:40:48.068783Z",
     "iopub.status.idle": "2023-08-11T03:40:48.109308Z",
     "shell.execute_reply": "2023-08-11T03:40:48.107858Z"
    },
    "papermill": {
     "duration": 0.145693,
     "end_time": "2023-08-11T03:40:48.112084",
     "exception": false,
     "start_time": "2023-08-11T03:40:47.966391",
     "status": "completed"
    },
    "tags": []
   },
   "outputs": [
    {
     "data": {
      "text/plain": [
       "unknown                              20489\n",
       "Universal Pictures                    8847\n",
       "Warner Bros. Pictures                 8722\n",
       "Paramount Pictures                    7773\n",
       "20th Century Fox                      7007\n",
       "                                     ...  \n",
       "Almi Pictures                            1\n",
       "Koch Lorber                              1\n",
       "Magic Lamp                               1\n",
       "Fine Line Features, Miramax Films        1\n",
       "American Film Co.                        1\n",
       "Name: distributor, Length: 1796, dtype: int64"
      ]
     },
     "execution_count": 44,
     "metadata": {},
     "output_type": "execute_result"
    }
   ],
   "source": [
    "merged[\"distributor\"].value_counts()"
   ]
  },
  {
   "cell_type": "code",
   "execution_count": 45,
   "id": "238ece03",
   "metadata": {
    "execution": {
     "iopub.execute_input": "2023-08-11T03:40:48.320067Z",
     "iopub.status.busy": "2023-08-11T03:40:48.319664Z",
     "iopub.status.idle": "2023-08-11T03:40:48.341296Z",
     "shell.execute_reply": "2023-08-11T03:40:48.339999Z"
    },
    "papermill": {
     "duration": 0.126636,
     "end_time": "2023-08-11T03:40:48.344691",
     "exception": false,
     "start_time": "2023-08-11T03:40:48.218055",
     "status": "completed"
    },
    "tags": []
   },
   "outputs": [
    {
     "data": {
      "text/plain": [
       "count    162758.000000\n",
       "mean        106.992019\n",
       "std          22.203778\n",
       "min           4.000000\n",
       "25%          93.000000\n",
       "50%         104.000000\n",
       "75%         118.000000\n",
       "max         561.000000\n",
       "Name: runtimeMinutes, dtype: float64"
      ]
     },
     "execution_count": 45,
     "metadata": {},
     "output_type": "execute_result"
    }
   ],
   "source": [
    "merged[\"runtimeMinutes\"].describe()"
   ]
  },
  {
   "cell_type": "code",
   "execution_count": 46,
   "id": "ed83359b",
   "metadata": {
    "execution": {
     "iopub.execute_input": "2023-08-11T03:40:48.545840Z",
     "iopub.status.busy": "2023-08-11T03:40:48.545412Z",
     "iopub.status.idle": "2023-08-11T03:40:48.989969Z",
     "shell.execute_reply": "2023-08-11T03:40:48.988666Z"
    },
    "papermill": {
     "duration": 0.547367,
     "end_time": "2023-08-11T03:40:48.993116",
     "exception": false,
     "start_time": "2023-08-11T03:40:48.445749",
     "status": "completed"
    },
    "tags": []
   },
   "outputs": [
    {
     "data": {
      "text/plain": [
       "<Axes: xlabel='sentiment', ylabel='runtimeMinutes'>"
      ]
     },
     "execution_count": 46,
     "metadata": {},
     "output_type": "execute_result"
    },
    {
     "data": {
      "image/png": "[encoded data removed]",
      "text/plain": [
       "<Figure size 640x480 with 1 Axes>"
      ]
     },
     "metadata": {},
     "output_type": "display_data"
    }
   ],
   "source": [
    "sns.boxplot(y=merged[\"runtimeMinutes\"], x=merged[\"sentiment\"])"
   ]
  },
  {
   "cell_type": "code",
   "execution_count": 47,
   "id": "a0d22fd5",
   "metadata": {
    "execution": {
     "iopub.execute_input": "2023-08-11T03:40:49.201624Z",
     "iopub.status.busy": "2023-08-11T03:40:49.201099Z",
     "iopub.status.idle": "2023-08-11T03:40:49.935900Z",
     "shell.execute_reply": "2023-08-11T03:40:49.934625Z"
    },
    "papermill": {
     "duration": 0.842233,
     "end_time": "2023-08-11T03:40:49.938425",
     "exception": false,
     "start_time": "2023-08-11T03:40:49.096192",
     "status": "completed"
    },
    "tags": []
   },
   "outputs": [
    {
     "name": "stdout",
     "output_type": "stream",
     "text": [
      "0.0    121579\n",
      "1.0      6474\n",
      "2.0      1819\n",
      "3.0       433\n",
      "4.0       276\n",
      "Name: boxOfficeBins, dtype: int64\n"
     ]
    },
    {
     "data": {
      "text/plain": [
       "<seaborn.axisgrid.FacetGrid at 0x7a47fc6ed600>"
      ]
     },
     "execution_count": 47,
     "metadata": {},
     "output_type": "execute_result"
    },
    {
     "data": {
      "image/png": "[encoded data removed]",
      "text/plain": [
       "<Figure size 500x500 with 1 Axes>"
      ]
     },
     "metadata": {},
     "output_type": "display_data"
    }
   ],
   "source": [
    "print(merged[\"boxOfficeBins\"].value_counts())\n",
    "sns.displot(merged[\"boxOfficeBins\"])"
   ]
  },
  {
   "cell_type": "code",
   "execution_count": 48,
   "id": "535ed66c",
   "metadata": {
    "execution": {
     "iopub.execute_input": "2023-08-11T03:40:50.146331Z",
     "iopub.status.busy": "2023-08-11T03:40:50.145244Z",
     "iopub.status.idle": "2023-08-11T03:40:50.154008Z",
     "shell.execute_reply": "2023-08-11T03:40:50.152783Z"
    },
    "papermill": {
     "duration": 0.113611,
     "end_time": "2023-08-11T03:40:50.156683",
     "exception": false,
     "start_time": "2023-08-11T03:40:50.043072",
     "status": "completed"
    },
    "tags": []
   },
   "outputs": [
    {
     "data": {
      "text/plain": [
       "0    Henry Selick’s first movie since ’s Coraline. ...\n",
       "1    With a cast that reads like the Vogue Oscar pa...\n",
       "2    Creed II does not give us anything but another...\n",
       "3    I know what you're thinking, but this is no Li...\n",
       "4    Director Fernando Meirelles tells the story wi...\n",
       "Name: reviewText, dtype: object"
      ]
     },
     "execution_count": 48,
     "metadata": {},
     "output_type": "execute_result"
    }
   ],
   "source": [
    "merged[\"reviewText\"].head()"
   ]
  },
  {
   "cell_type": "code",
   "execution_count": 49,
   "id": "a9db052f",
   "metadata": {
    "execution": {
     "iopub.execute_input": "2023-08-11T03:40:50.362629Z",
     "iopub.status.busy": "2023-08-11T03:40:50.361813Z",
     "iopub.status.idle": "2023-08-11T03:40:50.369498Z",
     "shell.execute_reply": "2023-08-11T03:40:50.368544Z"
    },
    "papermill": {
     "duration": 0.11399,
     "end_time": "2023-08-11T03:40:50.371902",
     "exception": false,
     "start_time": "2023-08-11T03:40:50.257912",
     "status": "completed"
    },
    "tags": []
   },
   "outputs": [
    {
     "data": {
      "text/plain": [
       "6447"
      ]
     },
     "execution_count": 49,
     "metadata": {},
     "output_type": "execute_result"
    }
   ],
   "source": [
    "merged[\"reviewYN\"].sum()"
   ]
  },
  {
   "cell_type": "code",
   "execution_count": 50,
   "id": "1e11b002",
   "metadata": {
    "execution": {
     "iopub.execute_input": "2023-08-11T03:40:50.579687Z",
     "iopub.status.busy": "2023-08-11T03:40:50.578238Z",
     "iopub.status.idle": "2023-08-11T03:40:50.588281Z",
     "shell.execute_reply": "2023-08-11T03:40:50.587005Z"
    },
    "papermill": {
     "duration": 0.116777,
     "end_time": "2023-08-11T03:40:50.590901",
     "exception": false,
     "start_time": "2023-08-11T03:40:50.474124",
     "status": "completed"
    },
    "tags": []
   },
   "outputs": [
    {
     "data": {
      "text/plain": [
       "0    11\n",
       "1    24\n",
       "2    22\n",
       "3    34\n",
       "4    20\n",
       "Name: reviewWC, dtype: int64"
      ]
     },
     "execution_count": 50,
     "metadata": {},
     "output_type": "execute_result"
    }
   ],
   "source": [
    "merged[\"reviewWC\"].head()"
   ]
  },
  {
   "cell_type": "code",
   "execution_count": 51,
   "id": "cdbfb458",
   "metadata": {
    "execution": {
     "iopub.execute_input": "2023-08-11T03:40:50.798653Z",
     "iopub.status.busy": "2023-08-11T03:40:50.798196Z",
     "iopub.status.idle": "2023-08-11T03:40:50.818947Z",
     "shell.execute_reply": "2023-08-11T03:40:50.817552Z"
    },
    "papermill": {
     "duration": 0.129412,
     "end_time": "2023-08-11T03:40:50.821734",
     "exception": false,
     "start_time": "2023-08-11T03:40:50.692322",
     "status": "completed"
    },
    "tags": []
   },
   "outputs": [
    {
     "data": {
      "text/plain": [
       "count    162758.000000\n",
       "mean         21.013707\n",
       "std          10.216532\n",
       "min           1.000000\n",
       "25%          14.000000\n",
       "50%          21.000000\n",
       "75%          28.000000\n",
       "max          54.000000\n",
       "Name: reviewWC, dtype: float64"
      ]
     },
     "execution_count": 51,
     "metadata": {},
     "output_type": "execute_result"
    }
   ],
   "source": [
    "merged[\"reviewWC\"].describe()"
   ]
  },
  {
   "cell_type": "code",
   "execution_count": 52,
   "id": "636bcee0",
   "metadata": {
    "execution": {
     "iopub.execute_input": "2023-08-11T03:40:51.031369Z",
     "iopub.status.busy": "2023-08-11T03:40:51.030670Z",
     "iopub.status.idle": "2023-08-11T03:40:51.987277Z",
     "shell.execute_reply": "2023-08-11T03:40:51.986289Z"
    },
    "papermill": {
     "duration": 1.062632,
     "end_time": "2023-08-11T03:40:51.989888",
     "exception": false,
     "start_time": "2023-08-11T03:40:50.927256",
     "status": "completed"
    },
    "tags": []
   },
   "outputs": [
    {
     "data": {
      "text/plain": [
       "<Axes: xlabel='reviewWC', ylabel='Count'>"
      ]
     },
     "execution_count": 52,
     "metadata": {},
     "output_type": "execute_result"
    },
    {
     "data": {
      "image/png": "[encoded data removed]",
      "text/plain": [
       "<Figure size 640x480 with 1 Axes>"
      ]
     },
     "metadata": {},
     "output_type": "display_data"
    }
   ],
   "source": [
    "sns.histplot(merged[\"reviewWC\"])"
   ]
  },
  {
   "cell_type": "code",
   "execution_count": 53,
   "id": "a7a00698",
   "metadata": {
    "execution": {
     "iopub.execute_input": "2023-08-11T03:40:52.200293Z",
     "iopub.status.busy": "2023-08-11T03:40:52.199831Z",
     "iopub.status.idle": "2023-08-11T03:40:52.233692Z",
     "shell.execute_reply": "2023-08-11T03:40:52.232337Z"
    },
    "papermill": {
     "duration": 0.142968,
     "end_time": "2023-08-11T03:40:52.236445",
     "exception": false,
     "start_time": "2023-08-11T03:40:52.093477",
     "status": "completed"
    },
    "tags": []
   },
   "outputs": [
    {
     "data": {
      "text/plain": [
       "R          60248\n",
       "unknown    44587\n",
       "PG-13      42697\n",
       "PG         13669\n",
       "TV14         947\n",
       "NC-17        285\n",
       "TVPG         281\n",
       "TVMA          44\n",
       "Name: rating, dtype: int64"
      ]
     },
     "execution_count": 53,
     "metadata": {},
     "output_type": "execute_result"
    }
   ],
   "source": [
    "merged['rating'].value_counts()"
   ]
  },
  {
   "cell_type": "code",
   "execution_count": 54,
   "id": "691cef68",
   "metadata": {
    "execution": {
     "iopub.execute_input": "2023-08-11T03:40:52.447774Z",
     "iopub.status.busy": "2023-08-11T03:40:52.446906Z",
     "iopub.status.idle": "2023-08-11T03:40:52.459972Z",
     "shell.execute_reply": "2023-08-11T03:40:52.458791Z"
    },
    "papermill": {
     "duration": 0.123233,
     "end_time": "2023-08-11T03:40:52.462723",
     "exception": false,
     "start_time": "2023-08-11T03:40:52.339490",
     "status": "completed"
    },
    "tags": []
   },
   "outputs": [
    {
     "data": {
      "text/plain": [
       "False    113189\n",
       "True      49569\n",
       "Name: isFrequentReviewer, dtype: int64"
      ]
     },
     "execution_count": 54,
     "metadata": {},
     "output_type": "execute_result"
    }
   ],
   "source": [
    "merged['isFrequentReviewer'].value_counts()"
   ]
  },
  {
   "cell_type": "code",
   "execution_count": 55,
   "id": "6f062022",
   "metadata": {
    "execution": {
     "iopub.execute_input": "2023-08-11T03:40:52.669989Z",
     "iopub.status.busy": "2023-08-11T03:40:52.669520Z",
     "iopub.status.idle": "2023-08-11T03:40:52.678003Z",
     "shell.execute_reply": "2023-08-11T03:40:52.677110Z"
    },
    "papermill": {
     "duration": 0.115529,
     "end_time": "2023-08-11T03:40:52.680467",
     "exception": false,
     "start_time": "2023-08-11T03:40:52.564938",
     "status": "completed"
    },
    "tags": []
   },
   "outputs": [
    {
     "data": {
      "text/plain": [
       "0      Benjamin Henry\n",
       "1       Felicia Lopez\n",
       "2     Charles Burgess\n",
       "3        Ryan Barrett\n",
       "4    Alexander Glover\n",
       "Name: reviewerName, dtype: object"
      ]
     },
     "execution_count": 55,
     "metadata": {},
     "output_type": "execute_result"
    }
   ],
   "source": [
    "merged[\"reviewerName\"].head()"
   ]
  },
  {
   "cell_type": "code",
   "execution_count": 56,
   "id": "13eb149a",
   "metadata": {
    "execution": {
     "iopub.execute_input": "2023-08-11T03:40:52.890786Z",
     "iopub.status.busy": "2023-08-11T03:40:52.889457Z",
     "iopub.status.idle": "2023-08-11T03:40:52.905512Z",
     "shell.execute_reply": "2023-08-11T03:40:52.904229Z"
    },
    "papermill": {
     "duration": 0.122572,
     "end_time": "2023-08-11T03:40:52.908292",
     "exception": false,
     "start_time": "2023-08-11T03:40:52.785720",
     "status": "completed"
    },
    "tags": []
   },
   "outputs": [
    {
     "data": {
      "text/plain": [
       "14300000.0    32327\n",
       "2000000.0       922\n",
       "1100000.0       891\n",
       "1000000.0       834\n",
       "1200000.0       802\n",
       "              ...  \n",
       "58500.0           1\n",
       "500800.0          1\n",
       "265600.0          1\n",
       "292500.0          1\n",
       "799400.0          1\n",
       "Name: boxOffice, Length: 3819, dtype: int64"
      ]
     },
     "execution_count": 56,
     "metadata": {},
     "output_type": "execute_result"
    }
   ],
   "source": [
    "merged['boxOffice'].value_counts()"
   ]
  },
  {
   "cell_type": "code",
   "execution_count": 57,
   "id": "b1bf8571",
   "metadata": {
    "execution": {
     "iopub.execute_input": "2023-08-11T03:40:53.124525Z",
     "iopub.status.busy": "2023-08-11T03:40:53.123519Z",
     "iopub.status.idle": "2023-08-11T03:40:53.130688Z",
     "shell.execute_reply": "2023-08-11T03:40:53.129012Z"
    },
    "papermill": {
     "duration": 0.11682,
     "end_time": "2023-08-11T03:40:53.133418",
     "exception": false,
     "start_time": "2023-08-11T03:40:53.016598",
     "status": "completed"
    },
    "tags": []
   },
   "outputs": [],
   "source": [
    "# Check correlation between 'boxOffice' and ''sentiment'\n",
    "# bo_df = merged.copy()\n",
    "# print(bo_df[\"boxOffice\"])\n",
    "# bo_df[\"boxOffice\"] = bo_df[\"boxOffice\"].str[1:]\n",
    "# bo_df[\"boxOffice\"] = bo_df[\"boxOffice\"].replace(to_replace={\"M\": \"*1000000\", \"K\": \"*1000\"}, regex=True)\n",
    "# bo_df[\"boxOffice\"] = bo_df[\"boxOffice\"].loc[bo_df[\"boxOffice\"].notnull()].apply(lambda x: eval(str(x)))\n",
    "# bo_df[\"boxOffice\"] = bo_df[\"boxOffice\"].fillna(bo_df[\"boxOffice\"].median())\n",
    "# bo_df[\"boxOffice\"].describe()"
   ]
  },
  {
   "cell_type": "code",
   "execution_count": 58,
   "id": "ea00b710",
   "metadata": {
    "execution": {
     "iopub.execute_input": "2023-08-11T03:40:53.344046Z",
     "iopub.status.busy": "2023-08-11T03:40:53.343146Z",
     "iopub.status.idle": "2023-08-11T03:40:53.347983Z",
     "shell.execute_reply": "2023-08-11T03:40:53.346780Z"
    },
    "papermill": {
     "duration": 0.111719,
     "end_time": "2023-08-11T03:40:53.350680",
     "exception": false,
     "start_time": "2023-08-11T03:40:53.238961",
     "status": "completed"
    },
    "tags": []
   },
   "outputs": [],
   "source": [
    "# median = bo_df[\"boxOffice\"].describe()['50%']\n",
    "# iqr = bo_df[\"boxOffice\"].describe()['75%'] - bo_df[\"boxOffice\"].describe()['25%']\n",
    "# median, iqr"
   ]
  },
  {
   "cell_type": "code",
   "execution_count": 59,
   "id": "b2215f96",
   "metadata": {
    "execution": {
     "iopub.execute_input": "2023-08-11T03:40:53.564882Z",
     "iopub.status.busy": "2023-08-11T03:40:53.564130Z",
     "iopub.status.idle": "2023-08-11T03:40:53.568463Z",
     "shell.execute_reply": "2023-08-11T03:40:53.567477Z"
    },
    "papermill": {
     "duration": 0.111963,
     "end_time": "2023-08-11T03:40:53.571141",
     "exception": false,
     "start_time": "2023-08-11T03:40:53.459178",
     "status": "completed"
    },
    "tags": []
   },
   "outputs": [],
   "source": [
    "# ll = median - (1.5*iqr)\n",
    "# ul = median + (1.5*iqr)\n",
    "# ll, ul"
   ]
  },
  {
   "cell_type": "code",
   "execution_count": 60,
   "id": "28de6123",
   "metadata": {
    "execution": {
     "iopub.execute_input": "2023-08-11T03:40:53.782784Z",
     "iopub.status.busy": "2023-08-11T03:40:53.781993Z",
     "iopub.status.idle": "2023-08-11T03:40:53.786323Z",
     "shell.execute_reply": "2023-08-11T03:40:53.785373Z"
    },
    "papermill": {
     "duration": 0.113972,
     "end_time": "2023-08-11T03:40:53.788852",
     "exception": false,
     "start_time": "2023-08-11T03:40:53.674880",
     "status": "completed"
    },
    "tags": []
   },
   "outputs": [],
   "source": [
    "# bo_df[\"boxOffice\"].mean()"
   ]
  },
  {
   "cell_type": "code",
   "execution_count": 61,
   "id": "acc75b63",
   "metadata": {
    "execution": {
     "iopub.execute_input": "2023-08-11T03:40:53.999784Z",
     "iopub.status.busy": "2023-08-11T03:40:53.999264Z",
     "iopub.status.idle": "2023-08-11T03:40:54.004079Z",
     "shell.execute_reply": "2023-08-11T03:40:54.002935Z"
    },
    "papermill": {
     "duration": 0.112076,
     "end_time": "2023-08-11T03:40:54.006518",
     "exception": false,
     "start_time": "2023-08-11T03:40:53.894442",
     "status": "completed"
    },
    "tags": []
   },
   "outputs": [],
   "source": [
    "# bo_df.loc[bo_df[\"boxOffice\"] > ul, \"boxOffice\"] = median\n",
    "# bo_df[\"boxOffice\"].mean()"
   ]
  },
  {
   "cell_type": "code",
   "execution_count": 62,
   "id": "84856b39",
   "metadata": {
    "execution": {
     "iopub.execute_input": "2023-08-11T03:40:54.224515Z",
     "iopub.status.busy": "2023-08-11T03:40:54.223804Z",
     "iopub.status.idle": "2023-08-11T03:40:54.228400Z",
     "shell.execute_reply": "2023-08-11T03:40:54.227198Z"
    },
    "papermill": {
     "duration": 0.117726,
     "end_time": "2023-08-11T03:40:54.230901",
     "exception": false,
     "start_time": "2023-08-11T03:40:54.113175",
     "status": "completed"
    },
    "tags": []
   },
   "outputs": [],
   "source": [
    "# bo_df[\"boxOffice\"].min(), bo_df[\"boxOffice\"].max()"
   ]
  },
  {
   "cell_type": "code",
   "execution_count": 63,
   "id": "133fdccc",
   "metadata": {
    "execution": {
     "iopub.execute_input": "2023-08-11T03:40:54.448913Z",
     "iopub.status.busy": "2023-08-11T03:40:54.448181Z",
     "iopub.status.idle": "2023-08-11T03:40:54.452610Z",
     "shell.execute_reply": "2023-08-11T03:40:54.451635Z"
    },
    "papermill": {
     "duration": 0.11357,
     "end_time": "2023-08-11T03:40:54.455054",
     "exception": false,
     "start_time": "2023-08-11T03:40:54.341484",
     "status": "completed"
    },
    "tags": []
   },
   "outputs": [],
   "source": [
    "# sns.boxplot(x=\"sentiment\", y=\"boxOffice\", data=bo_df, showfliers = False)"
   ]
  },
  {
   "cell_type": "markdown",
   "id": "b6ebb87f",
   "metadata": {
    "papermill": {
     "duration": 0.106427,
     "end_time": "2023-08-11T03:40:54.663342",
     "exception": false,
     "start_time": "2023-08-11T03:40:54.556915",
     "status": "completed"
    },
    "tags": []
   },
   "source": [
    "## EDA  "
   ]
  },
  {
   "cell_type": "markdown",
   "id": "a0d02622",
   "metadata": {
    "papermill": {
     "duration": 0.166801,
     "end_time": "2023-08-11T03:40:54.935805",
     "exception": false,
     "start_time": "2023-08-11T03:40:54.769004",
     "status": "completed"
    },
    "tags": []
   },
   "source": [
    "### An interesting finding through exploration  \n",
    "  \n",
    "* OHE and TfidfVectorizer on director column give the same result when ngram_range(2,2) is used (see code below)!"
   ]
  },
  {
   "cell_type": "code",
   "execution_count": 64,
   "id": "44f2073f",
   "metadata": {
    "execution": {
     "iopub.execute_input": "2023-08-11T03:40:55.149217Z",
     "iopub.status.busy": "2023-08-11T03:40:55.148500Z",
     "iopub.status.idle": "2023-08-11T03:41:09.837279Z",
     "shell.execute_reply": "2023-08-11T03:41:09.835871Z"
    },
    "papermill": {
     "duration": 14.798127,
     "end_time": "2023-08-11T03:41:09.840171",
     "exception": false,
     "start_time": "2023-08-11T03:40:55.042044",
     "status": "completed"
    },
    "tags": []
   },
   "outputs": [
    {
     "name": "stdout",
     "output_type": "stream",
     "text": [
      "(162758,)\n",
      "9476\n",
      "(162758, 9476) <class 'numpy.ndarray'>\n",
      "(162758,)\n",
      "(162758, 9476) <class 'numpy.ndarray'>\n",
      "True\n"
     ]
    }
   ],
   "source": [
    "# Compare OHE and TfidfVectorizer on director column\n",
    "\n",
    "dirs = merged[\"director\"].copy()\n",
    "print(dirs.shape)\n",
    "dirs_uniq = merged[\"director\"].unique()\n",
    "print(len(dirs_uniq))\n",
    "\n",
    "du_ohe = OneHotEncoder(handle_unknown=\"ignore\", sparse_output=False).fit_transform(dirs.to_numpy().reshape(-1, 1))\n",
    "print(du_ohe.shape, type(du_ohe))\n",
    "\n",
    "dirs_2 = merged[\"director\"].copy()\n",
    "print(dirs_2.shape)\n",
    "du_tfidf = TfidfVectorizer(ngram_range=(2,2)).fit_transform(dirs_2).toarray()\n",
    "print(du_tfidf.shape, type(du_tfidf))\n",
    "\n",
    "print(np.array_equal(du_ohe, du_tfidf))"
   ]
  },
  {
   "cell_type": "code",
   "execution_count": 65,
   "id": "48f712d1",
   "metadata": {
    "execution": {
     "iopub.execute_input": "2023-08-11T03:41:10.057240Z",
     "iopub.status.busy": "2023-08-11T03:41:10.056543Z",
     "iopub.status.idle": "2023-08-11T03:41:10.446020Z",
     "shell.execute_reply": "2023-08-11T03:41:10.444623Z"
    },
    "papermill": {
     "duration": 0.501261,
     "end_time": "2023-08-11T03:41:10.449044",
     "exception": false,
     "start_time": "2023-08-11T03:41:09.947783",
     "status": "completed"
    },
    "tags": []
   },
   "outputs": [
    {
     "name": "stdout",
     "output_type": "stream",
     "text": [
      "0       Bennie Basso\n",
      "1         Alma White\n",
      "2       Bobby Oleary\n",
      "3    Eric Hutcherson\n",
      "4         John Trent\n",
      "Name: director, dtype: object\n"
     ]
    },
    {
     "data": {
      "text/plain": [
       "2    162758\n",
       "Name: director, dtype: int64"
      ]
     },
     "execution_count": 65,
     "metadata": {},
     "output_type": "execute_result"
    }
   ],
   "source": [
    "print(dirs.head())\n",
    "d = dirs.copy()\n",
    "d[\"name_len\"] = d.apply(lambda x: len(x.split()))\n",
    "d[\"name_len\"].value_counts()"
   ]
  },
  {
   "cell_type": "code",
   "execution_count": 66,
   "id": "df714cec",
   "metadata": {
    "execution": {
     "iopub.execute_input": "2023-08-11T03:41:10.657261Z",
     "iopub.status.busy": "2023-08-11T03:41:10.656768Z",
     "iopub.status.idle": "2023-08-11T03:41:10.662963Z",
     "shell.execute_reply": "2023-08-11T03:41:10.661747Z"
    },
    "papermill": {
     "duration": 0.112975,
     "end_time": "2023-08-11T03:41:10.665249",
     "exception": false,
     "start_time": "2023-08-11T03:41:10.552274",
     "status": "completed"
    },
    "tags": []
   },
   "outputs": [],
   "source": [
    "# Compare OHE and TfidfVectorizer on reviewerName column\n",
    "# Note: reviewerName column has salutations like \"Mr. \" etc, and some names appear middle names. Therefore needs cleaning\n",
    "\n",
    "# def name_fl(name):\n",
    "#     l = name.split()\n",
    "#     n = ' '.join((l[0], l[-1]))\n",
    "#     return n\n",
    "\n",
    "# reviewers = merged[\"reviewerName\"].copy()\n",
    "# reviewers = pd.DataFrame(reviewers)\n",
    "# reviewers = reviewers.replace({\"Mr. \": \"\", \"Mrs. \": \"\"}, regex=True)\n",
    "# reviewers[\"reviewerName\"] = reviewers[\"reviewerName\"].apply(name_fl)\n",
    "# print(reviewers.shape)\n",
    "\n",
    "# reviewers_uniq = merged[\"reviewerName\"].unique()\n",
    "# print(len(reviewers_uniq))\n",
    "\n",
    "# reviewers_ohe = OneHotEncoder(handle_unknown=\"ignore\", sparse_output=False).fit_transform(reviewers.to_numpy().reshape(-1, 1))\n",
    "# print(reviewers_ohe.shape, type(reviewers_ohe))\n",
    "\n",
    "# reviewers_2 = merged[\"reviewerName\"].copy()\n",
    "# reviewers_2 = pd.DataFrame(reviewers_2)\n",
    "# print(reviewers_2.head())\n",
    "# reviewers_2 = reviewers_2.replace({\"Mr. \": \"\", \"Mrs. \": \"\"}, regex=True)\n",
    "# reviewers_2[\"reviewerName\"] = reviewers_2[\"reviewerName\"].apply(name_fl)\n",
    "# reviewers_2 = reviewers_2.squeeze()\n",
    "# print(reviewers_2.shape)\n",
    "# print(reviewers_2.head())\n",
    "\n",
    "# reviewers_tfidf = TfidfVectorizer(ngram_range=(2,2)).fit_transform(reviewers_2).toarray()\n",
    "# print(reviewers_tfidf.shape, type(reviewers_tfidf))\n",
    "\n",
    "# print(np.array_equal(reviewers_ohe, reviewers_tfidf))"
   ]
  },
  {
   "cell_type": "code",
   "execution_count": 67,
   "id": "8a14e11f",
   "metadata": {
    "execution": {
     "iopub.execute_input": "2023-08-11T03:41:10.873137Z",
     "iopub.status.busy": "2023-08-11T03:41:10.872449Z",
     "iopub.status.idle": "2023-08-11T03:41:10.877012Z",
     "shell.execute_reply": "2023-08-11T03:41:10.876125Z"
    },
    "papermill": {
     "duration": 0.111685,
     "end_time": "2023-08-11T03:41:10.879320",
     "exception": false,
     "start_time": "2023-08-11T03:41:10.767635",
     "status": "completed"
    },
    "tags": []
   },
   "outputs": [],
   "source": [
    "# def name_fl(name):\n",
    "#     l = name.split()\n",
    "#     n = ' '.join((l[0], l[-1]))\n",
    "#     return n"
   ]
  },
  {
   "cell_type": "code",
   "execution_count": 68,
   "id": "ce8375ec",
   "metadata": {
    "execution": {
     "iopub.execute_input": "2023-08-11T03:41:11.089580Z",
     "iopub.status.busy": "2023-08-11T03:41:11.088905Z",
     "iopub.status.idle": "2023-08-11T03:41:11.094531Z",
     "shell.execute_reply": "2023-08-11T03:41:11.093185Z"
    },
    "papermill": {
     "duration": 0.114811,
     "end_time": "2023-08-11T03:41:11.097401",
     "exception": false,
     "start_time": "2023-08-11T03:41:10.982590",
     "status": "completed"
    },
    "tags": []
   },
   "outputs": [],
   "source": [
    "# print(reviewers.head())\n",
    "# r = pd.DataFrame(reviewers.copy())\n",
    "# r[\"reviewerName\"] = r[\"reviewerName\"].apply(name_fl)\n",
    "# r[\"name_len\"] = r[\"reviewerName\"].apply(lambda x: len(x.split()))\n",
    "# print(r.shape)\n",
    "# print(r.head())\n",
    "# print(r['name_len'].value_counts())"
   ]
  },
  {
   "cell_type": "code",
   "execution_count": 69,
   "id": "8796cfb6",
   "metadata": {
    "execution": {
     "iopub.execute_input": "2023-08-11T03:41:11.312995Z",
     "iopub.status.busy": "2023-08-11T03:41:11.312370Z",
     "iopub.status.idle": "2023-08-11T03:41:11.316401Z",
     "shell.execute_reply": "2023-08-11T03:41:11.315484Z"
    },
    "papermill": {
     "duration": 0.112197,
     "end_time": "2023-08-11T03:41:11.318849",
     "exception": false,
     "start_time": "2023-08-11T03:41:11.206652",
     "status": "completed"
    },
    "tags": []
   },
   "outputs": [],
   "source": [
    "## Box plot audienceScore and sentiment  \n",
    "# plt.figure(figsize=(6, 4))\n",
    "# sns.boxplot(x=\"sentiment\", y=\"audienceScore\", data=merged, width=0.3)\n",
    "# plt.title(\"Box plot audienceScore and sentiment\")\n",
    "# plt.show()"
   ]
  },
  {
   "cell_type": "code",
   "execution_count": 70,
   "id": "1f9d91f5",
   "metadata": {
    "execution": {
     "iopub.execute_input": "2023-08-11T03:41:11.535740Z",
     "iopub.status.busy": "2023-08-11T03:41:11.535251Z",
     "iopub.status.idle": "2023-08-11T03:41:11.540343Z",
     "shell.execute_reply": "2023-08-11T03:41:11.538982Z"
    },
    "papermill": {
     "duration": 0.112943,
     "end_time": "2023-08-11T03:41:11.543259",
     "exception": false,
     "start_time": "2023-08-11T03:41:11.430316",
     "status": "completed"
    },
    "tags": []
   },
   "outputs": [],
   "source": [
    "## Box plot runtimeMinutes and sentiment  \n",
    "# plt.figure(figsize=(6, 4))\n",
    "# sns.boxplot(x=\"sentiment\", y=\"runtimeMinutes\", data=merged, width=0.3)\n",
    "# plt.title(\"Box plot runtimeMinutes and sentiment\")\n",
    "# plt.show()"
   ]
  },
  {
   "cell_type": "code",
   "execution_count": 71,
   "id": "376ba700",
   "metadata": {
    "execution": {
     "iopub.execute_input": "2023-08-11T03:41:11.753421Z",
     "iopub.status.busy": "2023-08-11T03:41:11.752966Z",
     "iopub.status.idle": "2023-08-11T03:41:11.758734Z",
     "shell.execute_reply": "2023-08-11T03:41:11.757358Z"
    },
    "papermill": {
     "duration": 0.113302,
     "end_time": "2023-08-11T03:41:11.761268",
     "exception": false,
     "start_time": "2023-08-11T03:41:11.647966",
     "status": "completed"
    },
    "tags": []
   },
   "outputs": [],
   "source": [
    "## Column chart for sentiment and rating columns\n",
    "# plt.figure(figsize=(6, 4))\n",
    "# sns.countplot(x=\"sentiment\", hue=\"rating\", data=merged)\n",
    "# plt.title(\"Column chart for sentiment and rating columns\")\n",
    "# plt.show()"
   ]
  },
  {
   "cell_type": "code",
   "execution_count": 72,
   "id": "0a3e4103",
   "metadata": {
    "execution": {
     "iopub.execute_input": "2023-08-11T03:41:11.973313Z",
     "iopub.status.busy": "2023-08-11T03:41:11.972218Z",
     "iopub.status.idle": "2023-08-11T03:41:11.977538Z",
     "shell.execute_reply": "2023-08-11T03:41:11.976637Z"
    },
    "papermill": {
     "duration": 0.113064,
     "end_time": "2023-08-11T03:41:11.980206",
     "exception": false,
     "start_time": "2023-08-11T03:41:11.867142",
     "status": "completed"
    },
    "tags": []
   },
   "outputs": [],
   "source": [
    "# Correlation heatmap  \n",
    "# plt.figure(figsize=(10, 8))\n",
    "# sns.heatmap(merged.corr(), annot=True, cmap=\"coolwarm\")\n",
    "# plt.title(\"Correlation heatmap\")\n",
    "# plt.show()"
   ]
  },
  {
   "cell_type": "markdown",
   "id": "5347a630",
   "metadata": {
    "papermill": {
     "duration": 0.108952,
     "end_time": "2023-08-11T03:41:12.195064",
     "exception": false,
     "start_time": "2023-08-11T03:41:12.086112",
     "status": "completed"
    },
    "tags": []
   },
   "source": [
    "## Merge and preprocess \"test.csv\" and \"movies.csv\" files  "
   ]
  },
  {
   "cell_type": "code",
   "execution_count": 73,
   "id": "0b90833b",
   "metadata": {
    "execution": {
     "iopub.execute_input": "2023-08-11T03:41:12.410032Z",
     "iopub.status.busy": "2023-08-11T03:41:12.409159Z",
     "iopub.status.idle": "2023-08-11T03:41:19.158663Z",
     "shell.execute_reply": "2023-08-11T03:41:19.157085Z"
    },
    "papermill": {
     "duration": 6.862666,
     "end_time": "2023-08-11T03:41:19.162850",
     "exception": false,
     "start_time": "2023-08-11T03:41:12.300184",
     "status": "completed"
    },
    "tags": []
   },
   "outputs": [],
   "source": [
    "# Merge test and movies  \n",
    "merged_test = select_features(load_csv(\"test\"), load_csv(\"movies\"))"
   ]
  },
  {
   "cell_type": "code",
   "execution_count": 74,
   "id": "86d6411d",
   "metadata": {
    "execution": {
     "iopub.execute_input": "2023-08-11T03:41:19.381078Z",
     "iopub.status.busy": "2023-08-11T03:41:19.380323Z",
     "iopub.status.idle": "2023-08-11T03:41:19.385984Z",
     "shell.execute_reply": "2023-08-11T03:41:19.384340Z"
    },
    "papermill": {
     "duration": 0.115553,
     "end_time": "2023-08-11T03:41:19.388474",
     "exception": false,
     "start_time": "2023-08-11T03:41:19.272921",
     "status": "completed"
    },
    "tags": []
   },
   "outputs": [],
   "source": [
    "# inspect(merged_test)      # Note the missing values in ['audienceScore', 'runtimeMinutes', 'boxOffice']"
   ]
  },
  {
   "cell_type": "code",
   "execution_count": 75,
   "id": "8e507b67",
   "metadata": {
    "execution": {
     "iopub.execute_input": "2023-08-11T03:41:19.604114Z",
     "iopub.status.busy": "2023-08-11T03:41:19.603661Z",
     "iopub.status.idle": "2023-08-11T03:41:19.627445Z",
     "shell.execute_reply": "2023-08-11T03:41:19.626172Z"
    },
    "papermill": {
     "duration": 0.134033,
     "end_time": "2023-08-11T03:41:19.629997",
     "exception": false,
     "start_time": "2023-08-11T03:41:19.495964",
     "status": "completed"
    },
    "tags": []
   },
   "outputs": [
    {
     "data": {
      "text/plain": [
       "array([6.80e+01, 1.04e+02, 1.43e+07])"
      ]
     },
     "execution_count": 75,
     "metadata": {},
     "output_type": "execute_result"
    }
   ],
   "source": [
    "# Transform ['audienceScore', 'runtimeMinutes', 'boxOffice'] columns in merged_test using 'si' fitted on 'merged' df  \n",
    "merged_test[['audienceScore', 'runtimeMinutes', 'boxOffice']] = si.transform(merged_test[['audienceScore', 'runtimeMinutes', 'boxOffice']])\n",
    "si.statistics_"
   ]
  },
  {
   "cell_type": "code",
   "execution_count": 76,
   "id": "b71caf7d",
   "metadata": {
    "execution": {
     "iopub.execute_input": "2023-08-11T03:41:19.841995Z",
     "iopub.status.busy": "2023-08-11T03:41:19.841537Z",
     "iopub.status.idle": "2023-08-11T03:41:19.853993Z",
     "shell.execute_reply": "2023-08-11T03:41:19.852474Z"
    },
    "papermill": {
     "duration": 0.121099,
     "end_time": "2023-08-11T03:41:19.856912",
     "exception": false,
     "start_time": "2023-08-11T03:41:19.735813",
     "status": "completed"
    },
    "tags": []
   },
   "outputs": [],
   "source": [
    "# Fill 'releaseDate' column in 'merged_test' df with median from the train (merged) df  \n",
    "merged_test['releaseDate'] = merged_test[\"releaseDate\"].fillna(merged[\"releaseDate\"].median())"
   ]
  },
  {
   "cell_type": "code",
   "execution_count": 77,
   "id": "27b9644c",
   "metadata": {
    "execution": {
     "iopub.execute_input": "2023-08-11T03:41:20.068919Z",
     "iopub.status.busy": "2023-08-11T03:41:20.068472Z",
     "iopub.status.idle": "2023-08-11T03:41:20.594498Z",
     "shell.execute_reply": "2023-08-11T03:41:20.592796Z"
    },
    "papermill": {
     "duration": 0.635227,
     "end_time": "2023-08-11T03:41:20.597593",
     "exception": false,
     "start_time": "2023-08-11T03:41:19.962366",
     "status": "completed"
    },
    "tags": []
   },
   "outputs": [
    {
     "name": "stdout",
     "output_type": "stream",
     "text": [
      "Shape of the dataframe: (55315, 29)\n",
      "\n",
      "Columns in the dataframe:\n",
      "Index(['movieid', 'reviewerName', 'isFrequentReviewer', 'reviewText', 'title',\n",
      "       'audienceScore', 'rating', 'ratingContents', 'releaseDateTheaters',\n",
      "       'releaseDateStreaming', 'runtimeMinutes', 'genre', 'originalLanguage',\n",
      "       'director', 'boxOffice', 'distributor', 'soundType', 'reviewYN',\n",
      "       'reviewWC', 'genreSorted', 'rcSorted', 'releaseDate', 'releaseYear',\n",
      "       'releaseMonth', 'releaseDiff', 'audScoreBins', 'runtimeBins',\n",
      "       'boxOfficeBins', 'releaseDiffBins'],\n",
      "      dtype='object')\n",
      "\n",
      "<class 'pandas.core.frame.DataFrame'>\n",
      "Int64Index: 55315 entries, 0 to 55314\n",
      "Data columns (total 29 columns):\n",
      " #   Column                Non-Null Count  Dtype         \n",
      "---  ------                --------------  -----         \n",
      " 0   movieid               55315 non-null  object        \n",
      " 1   reviewerName          55315 non-null  object        \n",
      " 2   isFrequentReviewer    55315 non-null  bool          \n",
      " 3   reviewText            55315 non-null  object        \n",
      " 4   title                 55315 non-null  object        \n",
      " 5   audienceScore         55315 non-null  float64       \n",
      " 6   rating                55315 non-null  object        \n",
      " 7   ratingContents        55315 non-null  object        \n",
      " 8   releaseDateTheaters   47844 non-null  datetime64[ns]\n",
      " 9   releaseDateStreaming  52929 non-null  datetime64[ns]\n",
      " 10  runtimeMinutes        55315 non-null  float64       \n",
      " 11  genre                 55315 non-null  object        \n",
      " 12  originalLanguage      55315 non-null  object        \n",
      " 13  director              55315 non-null  object        \n",
      " 14  boxOffice             55315 non-null  float64       \n",
      " 15  distributor           55315 non-null  object        \n",
      " 16  soundType             29845 non-null  object        \n",
      " 17  reviewYN              55315 non-null  int64         \n",
      " 18  reviewWC              55315 non-null  int64         \n",
      " 19  genreSorted           55315 non-null  object        \n",
      " 20  rcSorted              55315 non-null  object        \n",
      " 21  releaseDate           55315 non-null  datetime64[ns]\n",
      " 22  releaseYear           46626 non-null  float64       \n",
      " 23  releaseMonth          46626 non-null  float64       \n",
      " 24  releaseDiff           55315 non-null  float64       \n",
      " 25  audScoreBins          53866 non-null  float64       \n",
      " 26  runtimeBins           54937 non-null  category      \n",
      " 27  boxOfficeBins         41756 non-null  float64       \n",
      " 28  releaseDiffBins       55315 non-null  category      \n",
      "dtypes: bool(1), category(2), datetime64[ns](3), float64(8), int64(2), object(13)\n",
      "memory usage: 11.6+ MB\n",
      "None\n",
      "\n",
      "Missing values:\n",
      "movieid                     0\n",
      "reviewerName                0\n",
      "isFrequentReviewer          0\n",
      "reviewText                  0\n",
      "title                       0\n",
      "audienceScore               0\n",
      "rating                      0\n",
      "ratingContents              0\n",
      "releaseDateTheaters      7471\n",
      "releaseDateStreaming     2386\n",
      "runtimeMinutes              0\n",
      "genre                       0\n",
      "originalLanguage            0\n",
      "director                    0\n",
      "boxOffice                   0\n",
      "distributor                 0\n",
      "soundType               25470\n",
      "reviewYN                    0\n",
      "reviewWC                    0\n",
      "genreSorted                 0\n",
      "rcSorted                    0\n",
      "releaseDate                 0\n",
      "releaseYear              8689\n",
      "releaseMonth             8689\n",
      "releaseDiff                 0\n",
      "audScoreBins             1449\n",
      "runtimeBins               378\n",
      "boxOfficeBins           13559\n",
      "releaseDiffBins             0\n",
      "dtype: int64\n"
     ]
    }
   ],
   "source": [
    "# After transforming merged_test  \n",
    "inspect(merged_test)"
   ]
  },
  {
   "cell_type": "code",
   "execution_count": 78,
   "id": "e5f3189d",
   "metadata": {
    "execution": {
     "iopub.execute_input": "2023-08-11T03:41:20.809336Z",
     "iopub.status.busy": "2023-08-11T03:41:20.808805Z",
     "iopub.status.idle": "2023-08-11T03:41:20.816735Z",
     "shell.execute_reply": "2023-08-11T03:41:20.815378Z"
    },
    "papermill": {
     "duration": 0.116781,
     "end_time": "2023-08-11T03:41:20.819396",
     "exception": false,
     "start_time": "2023-08-11T03:41:20.702615",
     "status": "completed"
    },
    "tags": []
   },
   "outputs": [
    {
     "name": "stdout",
     "output_type": "stream",
     "text": [
      "2510\n",
      "4.537648015908886\n"
     ]
    }
   ],
   "source": [
    "print(merged_test[\"reviewYN\"].sum())\n",
    "print(merged_test[\"reviewYN\"].sum() * 100 / merged_test.shape[0])"
   ]
  },
  {
   "cell_type": "code",
   "execution_count": 79,
   "id": "98882628",
   "metadata": {
    "execution": {
     "iopub.execute_input": "2023-08-11T03:41:21.031019Z",
     "iopub.status.busy": "2023-08-11T03:41:21.030599Z",
     "iopub.status.idle": "2023-08-11T03:41:21.048666Z",
     "shell.execute_reply": "2023-08-11T03:41:21.047254Z"
    },
    "papermill": {
     "duration": 0.128112,
     "end_time": "2023-08-11T03:41:21.051181",
     "exception": false,
     "start_time": "2023-08-11T03:41:20.923069",
     "status": "completed"
    },
    "tags": []
   },
   "outputs": [
    {
     "data": {
      "text/plain": [
       "R          18934\n",
       "unknown    18386\n",
       "PG-13      13220\n",
       "PG          4200\n",
       "TV14         333\n",
       "TVPG         109\n",
       "NC-17        108\n",
       "TVMA          25\n",
       "Name: rating, dtype: int64"
      ]
     },
     "execution_count": 79,
     "metadata": {},
     "output_type": "execute_result"
    }
   ],
   "source": [
    "merged_test['rating'].value_counts()"
   ]
  },
  {
   "cell_type": "code",
   "execution_count": 80,
   "id": "068062a9",
   "metadata": {
    "execution": {
     "iopub.execute_input": "2023-08-11T03:41:21.265987Z",
     "iopub.status.busy": "2023-08-11T03:41:21.265525Z",
     "iopub.status.idle": "2023-08-11T03:41:21.276797Z",
     "shell.execute_reply": "2023-08-11T03:41:21.275311Z"
    },
    "papermill": {
     "duration": 0.123719,
     "end_time": "2023-08-11T03:41:21.279610",
     "exception": false,
     "start_time": "2023-08-11T03:41:21.155891",
     "status": "completed"
    },
    "tags": []
   },
   "outputs": [
    {
     "data": {
      "text/plain": [
       "False    38428\n",
       "True     16887\n",
       "Name: isFrequentReviewer, dtype: int64"
      ]
     },
     "execution_count": 80,
     "metadata": {},
     "output_type": "execute_result"
    }
   ],
   "source": [
    "merged_test['isFrequentReviewer'].value_counts()"
   ]
  },
  {
   "cell_type": "code",
   "execution_count": 81,
   "id": "ab739f07",
   "metadata": {
    "execution": {
     "iopub.execute_input": "2023-08-11T03:41:21.500528Z",
     "iopub.status.busy": "2023-08-11T03:41:21.500112Z",
     "iopub.status.idle": "2023-08-11T03:41:21.514855Z",
     "shell.execute_reply": "2023-08-11T03:41:21.513616Z"
    },
    "papermill": {
     "duration": 0.131068,
     "end_time": "2023-08-11T03:41:21.517412",
     "exception": false,
     "start_time": "2023-08-11T03:41:21.386344",
     "status": "completed"
    },
    "tags": []
   },
   "outputs": [
    {
     "data": {
      "text/plain": [
       "14300000.0    13593\n",
       "1100000.0       311\n",
       "1000000.0       272\n",
       "1300000.0       263\n",
       "2000000.0       256\n",
       "              ...  \n",
       "200400.0          1\n",
       "23800000.0        1\n",
       "111200.0          1\n",
       "277800.0          1\n",
       "100600.0          1\n",
       "Name: boxOffice, Length: 3816, dtype: int64"
      ]
     },
     "execution_count": 81,
     "metadata": {},
     "output_type": "execute_result"
    }
   ],
   "source": [
    "merged_test['boxOffice'].value_counts()"
   ]
  },
  {
   "cell_type": "markdown",
   "id": "e5d649f2",
   "metadata": {
    "papermill": {
     "duration": 0.10579,
     "end_time": "2023-08-11T03:41:21.733151",
     "exception": false,
     "start_time": "2023-08-11T03:41:21.627361",
     "status": "completed"
    },
    "tags": []
   },
   "source": [
    "## Work on vocabulary  \n",
    "\n",
    "`Build vocabulary from 'reviewText' column`  "
   ]
  },
  {
   "cell_type": "code",
   "execution_count": 82,
   "id": "efa8fc5a",
   "metadata": {
    "execution": {
     "iopub.execute_input": "2023-08-11T03:41:22.013353Z",
     "iopub.status.busy": "2023-08-11T03:41:22.012460Z",
     "iopub.status.idle": "2023-08-11T03:41:22.038553Z",
     "shell.execute_reply": "2023-08-11T03:41:22.037268Z"
    },
    "papermill": {
     "duration": 0.135827,
     "end_time": "2023-08-11T03:41:22.041429",
     "exception": false,
     "start_time": "2023-08-11T03:41:21.905602",
     "status": "completed"
    },
    "tags": []
   },
   "outputs": [
    {
     "data": {
      "text/plain": [
       "((162758, 2),\n",
       "                                           reviewText sentiment\n",
       " 0  Henry Selick’s first movie since ’s Coraline. ...  POSITIVE\n",
       " 1  With a cast that reads like the Vogue Oscar pa...  NEGATIVE\n",
       " 2  Creed II does not give us anything but another...  POSITIVE\n",
       " 3  I know what you're thinking, but this is no Li...  POSITIVE\n",
       " 4  Director Fernando Meirelles tells the story wi...  POSITIVE)"
      ]
     },
     "execution_count": 82,
     "metadata": {},
     "output_type": "execute_result"
    }
   ],
   "source": [
    "rt_senti = merged[[\"reviewText\", \"sentiment\"]].copy()\n",
    "rt_senti.shape, rt_senti.head()"
   ]
  },
  {
   "cell_type": "code",
   "execution_count": 83,
   "id": "10851f98",
   "metadata": {
    "execution": {
     "iopub.execute_input": "2023-08-11T03:41:22.256742Z",
     "iopub.status.busy": "2023-08-11T03:41:22.256299Z",
     "iopub.status.idle": "2023-08-11T03:41:22.271898Z",
     "shell.execute_reply": "2023-08-11T03:41:22.270696Z"
    },
    "papermill": {
     "duration": 0.125431,
     "end_time": "2023-08-11T03:41:22.274368",
     "exception": false,
     "start_time": "2023-08-11T03:41:22.148937",
     "status": "completed"
    },
    "tags": []
   },
   "outputs": [
    {
     "data": {
      "text/plain": [
       "((55315, 1),\n",
       "                                           reviewText\n",
       " 0  Green slowly cranks up the dread with style an...\n",
       " 1  Philip Noyce's direction is elegant and unforc...\n",
       " 2  It wouldn't do to say what path Maria ultimate...\n",
       " 3  Pig is not exactly the arthouse John Wick that...\n",
       " 4  An imaginative no-budget musical of sorts abou...)"
      ]
     },
     "execution_count": 83,
     "metadata": {},
     "output_type": "execute_result"
    }
   ],
   "source": [
    "rt_test = pd.DataFrame(merged_test[\"reviewText\"].copy())\n",
    "rt_test.shape, rt_test.head()"
   ]
  },
  {
   "cell_type": "code",
   "execution_count": 84,
   "id": "98dd5ae1",
   "metadata": {
    "execution": {
     "iopub.execute_input": "2023-08-11T03:41:22.488268Z",
     "iopub.status.busy": "2023-08-11T03:41:22.487264Z",
     "iopub.status.idle": "2023-08-11T03:41:22.493862Z",
     "shell.execute_reply": "2023-08-11T03:41:22.492733Z"
    },
    "papermill": {
     "duration": 0.117294,
     "end_time": "2023-08-11T03:41:22.496374",
     "exception": false,
     "start_time": "2023-08-11T03:41:22.379080",
     "status": "completed"
    },
    "tags": []
   },
   "outputs": [],
   "source": [
    "def get_vocab(text_df, ngram_range=(1,1)):\n",
    "    print(f\"Generating vocabulary for ngram_range: {ngram_range}...\")\n",
    "    tvec1 = CountVectorizer(ngram_range=ngram_range, stop_words='english', strip_accents='unicode')\n",
    "    tvec1.fit(text_df)\n",
    "    voc_ngram = set(tvec1.vocabulary_.keys())\n",
    "    return voc_ngram"
   ]
  },
  {
   "cell_type": "code",
   "execution_count": 85,
   "id": "28a36f79",
   "metadata": {
    "execution": {
     "iopub.execute_input": "2023-08-11T03:41:22.707677Z",
     "iopub.status.busy": "2023-08-11T03:41:22.707249Z",
     "iopub.status.idle": "2023-08-11T03:41:22.718161Z",
     "shell.execute_reply": "2023-08-11T03:41:22.717203Z"
    },
    "papermill": {
     "duration": 0.119457,
     "end_time": "2023-08-11T03:41:22.720739",
     "exception": false,
     "start_time": "2023-08-11T03:41:22.601282",
     "status": "completed"
    },
    "tags": []
   },
   "outputs": [],
   "source": [
    "def get_common_vocab(df_list: list, ngram_range_list: list):\n",
    "    \"\"\"\n",
    "    Get common vocabulary from a list of dataframes.\n",
    "    \"\"\"\n",
    "    final_common_vocab = set()\n",
    "    # Get vocabulary from each dataframe for a given ngram-range\n",
    "    for ngram_range in ngram_range_list:\n",
    "        vocab_ngram = set()\n",
    "        for num, df in enumerate(df_list, start=1):\n",
    "            print(f\"Working on DF#{num} in the list of DFs provided\")\n",
    "            vocab_ngram_df = set(get_vocab(df['reviewText'], ngram_range))\n",
    "            print(f\"Vocabulary size for ngram-range {ngram_range} in DF#{num}: {len(vocab_ngram_df)}\\n\")\n",
    "            if len(vocab_ngram) > 0:\n",
    "                print(f\"Keeping only the common (intersection) words for ngram-range {ngram_range}...\")\n",
    "                vocab_ngram = vocab_ngram.intersection(vocab_ngram_df)\n",
    "            else:\n",
    "                print(f\"Words from the first df for ngram-range {ngram_range} added.\\n\")\n",
    "                vocab_ngram = vocab_ngram_df\n",
    "        print(f\"Common vocabulary for ngram-range {ngram_range}: {len(vocab_ngram)}\\n\")\n",
    "        \n",
    "        if len(final_common_vocab) > 0:\n",
    "            print(f\"Fusing (union) with final common vocabulary: ngram-range = {ngram_range}.\\n\")\n",
    "            final_common_vocab = final_common_vocab.union(vocab_ngram)\n",
    "        else:\n",
    "            print(f\"Appended first time to final common vocabulary: ngram-range = {ngram_range}.\\n\")\n",
    "            final_common_vocab = vocab_ngram\n",
    "    return final_common_vocab"
   ]
  },
  {
   "cell_type": "code",
   "execution_count": 86,
   "id": "f5eb01a6",
   "metadata": {
    "execution": {
     "iopub.execute_input": "2023-08-11T03:41:22.932965Z",
     "iopub.status.busy": "2023-08-11T03:41:22.932485Z",
     "iopub.status.idle": "2023-08-11T03:41:22.937083Z",
     "shell.execute_reply": "2023-08-11T03:41:22.936061Z"
    },
    "papermill": {
     "duration": 0.113787,
     "end_time": "2023-08-11T03:41:22.939426",
     "exception": false,
     "start_time": "2023-08-11T03:41:22.825639",
     "status": "completed"
    },
    "tags": []
   },
   "outputs": [],
   "source": [
    "# voc_1gram = get_vocab(rt_senti[\"reviewText\"], ngram_range=(1,1))\n",
    "# len(voc_1gram), voc_1gram[:10]"
   ]
  },
  {
   "cell_type": "code",
   "execution_count": 87,
   "id": "362180fb",
   "metadata": {
    "execution": {
     "iopub.execute_input": "2023-08-11T03:41:23.152156Z",
     "iopub.status.busy": "2023-08-11T03:41:23.151701Z",
     "iopub.status.idle": "2023-08-11T03:41:23.156623Z",
     "shell.execute_reply": "2023-08-11T03:41:23.155646Z"
    },
    "papermill": {
     "duration": 0.113804,
     "end_time": "2023-08-11T03:41:23.158895",
     "exception": false,
     "start_time": "2023-08-11T03:41:23.045091",
     "status": "completed"
    },
    "tags": []
   },
   "outputs": [],
   "source": [
    "# voc_2gram = get_vocab(rt_senti[\"reviewText\"], ngram_range=(2,2))\n",
    "# len(voc_2gram), voc_2gram[:10]"
   ]
  },
  {
   "cell_type": "code",
   "execution_count": 88,
   "id": "5e0b4bdb",
   "metadata": {
    "execution": {
     "iopub.execute_input": "2023-08-11T03:41:23.372279Z",
     "iopub.status.busy": "2023-08-11T03:41:23.371842Z",
     "iopub.status.idle": "2023-08-11T03:41:23.376435Z",
     "shell.execute_reply": "2023-08-11T03:41:23.375091Z"
    },
    "papermill": {
     "duration": 0.113998,
     "end_time": "2023-08-11T03:41:23.379213",
     "exception": false,
     "start_time": "2023-08-11T03:41:23.265215",
     "status": "completed"
    },
    "tags": []
   },
   "outputs": [],
   "source": [
    "# voc_3gram = get_vocab(rt_senti[\"reviewText\"], ngram_range=(3,3))\n",
    "# len(voc_3gram), voc_3gram[:10]"
   ]
  },
  {
   "cell_type": "code",
   "execution_count": 89,
   "id": "83d839cd",
   "metadata": {
    "execution": {
     "iopub.execute_input": "2023-08-11T03:41:23.604430Z",
     "iopub.status.busy": "2023-08-11T03:41:23.603997Z",
     "iopub.status.idle": "2023-08-11T03:41:23.609131Z",
     "shell.execute_reply": "2023-08-11T03:41:23.607605Z"
    },
    "papermill": {
     "duration": 0.12282,
     "end_time": "2023-08-11T03:41:23.612053",
     "exception": false,
     "start_time": "2023-08-11T03:41:23.489233",
     "status": "completed"
    },
    "tags": []
   },
   "outputs": [],
   "source": [
    "# common_unigrams = get_common_vocab([rt_senti, rt_test], ngram_range_list=[(1,1)])\n",
    "# print(len(common_unigrams))\n",
    "# # sorted(list(common_unigrams))"
   ]
  },
  {
   "cell_type": "code",
   "execution_count": 90,
   "id": "7fbc5638",
   "metadata": {
    "execution": {
     "iopub.execute_input": "2023-08-11T03:41:23.831150Z",
     "iopub.status.busy": "2023-08-11T03:41:23.830332Z",
     "iopub.status.idle": "2023-08-11T03:41:45.160365Z",
     "shell.execute_reply": "2023-08-11T03:41:45.158677Z"
    },
    "papermill": {
     "duration": 21.442928,
     "end_time": "2023-08-11T03:41:45.164546",
     "exception": false,
     "start_time": "2023-08-11T03:41:23.721618",
     "status": "completed"
    },
    "tags": []
   },
   "outputs": [
    {
     "name": "stdout",
     "output_type": "stream",
     "text": [
      "Working on DF#1 in the list of DFs provided\n",
      "Generating vocabulary for ngram_range: (2, 2)...\n",
      "Vocabulary size for ngram-range (2, 2) in DF#1: 1130406\n",
      "\n",
      "Words from the first df for ngram-range (2, 2) added.\n",
      "\n",
      "Working on DF#2 in the list of DFs provided\n",
      "Generating vocabulary for ngram_range: (2, 2)...\n",
      "Vocabulary size for ngram-range (2, 2) in DF#2: 436174\n",
      "\n",
      "Keeping only the common (intersection) words for ngram-range (2, 2)...\n",
      "Common vocabulary for ngram-range (2, 2): 112530\n",
      "\n",
      "Appended first time to final common vocabulary: ngram-range = (2, 2).\n",
      "\n",
      "112530\n"
     ]
    }
   ],
   "source": [
    "common_bigrams = get_common_vocab([rt_senti, rt_test], ngram_range_list=[(2,2)])\n",
    "print(len(common_bigrams))\n",
    "# # # common_bigrams"
   ]
  },
  {
   "cell_type": "code",
   "execution_count": 91,
   "id": "1410882b",
   "metadata": {
    "execution": {
     "iopub.execute_input": "2023-08-11T03:41:45.385032Z",
     "iopub.status.busy": "2023-08-11T03:41:45.384192Z",
     "iopub.status.idle": "2023-08-11T03:41:45.388884Z",
     "shell.execute_reply": "2023-08-11T03:41:45.387772Z"
    },
    "papermill": {
     "duration": 0.116878,
     "end_time": "2023-08-11T03:41:45.391465",
     "exception": false,
     "start_time": "2023-08-11T03:41:45.274587",
     "status": "completed"
    },
    "tags": []
   },
   "outputs": [],
   "source": [
    "# common_1_2_grams = get_common_vocab([rt_senti, rt_test], ngram_range_list=[(1,1), (2,2)])\n",
    "# print(len(common_1_2_grams))\n",
    "# # sorted(list(common_1_2_grams))\n",
    "\n",
    "# # common_1_2_grams = common_unigrams | common_bigrams    # older code"
   ]
  },
  {
   "cell_type": "code",
   "execution_count": 92,
   "id": "99eb9548",
   "metadata": {
    "execution": {
     "iopub.execute_input": "2023-08-11T03:41:45.608598Z",
     "iopub.status.busy": "2023-08-11T03:41:45.608184Z",
     "iopub.status.idle": "2023-08-11T03:41:45.612800Z",
     "shell.execute_reply": "2023-08-11T03:41:45.611553Z"
    },
    "papermill": {
     "duration": 0.116465,
     "end_time": "2023-08-11T03:41:45.615771",
     "exception": false,
     "start_time": "2023-08-11T03:41:45.499306",
     "status": "completed"
    },
    "tags": []
   },
   "outputs": [],
   "source": [
    "# common_trigrams = get_common_vocab([rt_senti, rt_test], ngram_range_list=[(3,3)])\n",
    "# print(len(common_trigrams))\n",
    "# # common_trigrams"
   ]
  },
  {
   "cell_type": "code",
   "execution_count": 93,
   "id": "1420b613",
   "metadata": {
    "execution": {
     "iopub.execute_input": "2023-08-11T03:41:45.832695Z",
     "iopub.status.busy": "2023-08-11T03:41:45.832235Z",
     "iopub.status.idle": "2023-08-11T03:41:45.836592Z",
     "shell.execute_reply": "2023-08-11T03:41:45.835649Z"
    },
    "papermill": {
     "duration": 0.115035,
     "end_time": "2023-08-11T03:41:45.838920",
     "exception": false,
     "start_time": "2023-08-11T03:41:45.723885",
     "status": "completed"
    },
    "tags": []
   },
   "outputs": [],
   "source": [
    "# common_1_2_3_grams = get_common_vocab([rt_senti, rt_test], ngram_range_list=[(1,1), (2,2), (3,3)])\n",
    "# print(len(common_1_2_3_grams))\n",
    "# # sorted((common_1_2_3_grams))\n",
    "\n",
    "# # common_1_2_3_grams = common_unigrams | common_bigrams | common_trigrams    # Older code  "
   ]
  },
  {
   "cell_type": "markdown",
   "id": "13f5c6b8",
   "metadata": {
    "papermill": {
     "duration": 0.105081,
     "end_time": "2023-08-11T03:41:46.076088",
     "exception": false,
     "start_time": "2023-08-11T03:41:45.971007",
     "status": "completed"
    },
    "tags": []
   },
   "source": [
    "### Find common vocabulary between text with positive and negative sentiments in training dataset  "
   ]
  },
  {
   "cell_type": "code",
   "execution_count": 94,
   "id": "54c17b42",
   "metadata": {
    "execution": {
     "iopub.execute_input": "2023-08-11T03:41:46.289406Z",
     "iopub.status.busy": "2023-08-11T03:41:46.287970Z",
     "iopub.status.idle": "2023-08-11T03:41:46.343511Z",
     "shell.execute_reply": "2023-08-11T03:41:46.342276Z"
    },
    "papermill": {
     "duration": 0.165476,
     "end_time": "2023-08-11T03:41:46.346292",
     "exception": false,
     "start_time": "2023-08-11T03:41:46.180816",
     "status": "completed"
    },
    "tags": []
   },
   "outputs": [
    {
     "data": {
      "text/plain": [
       "(108761, 2)"
      ]
     },
     "execution_count": 94,
     "metadata": {},
     "output_type": "execute_result"
    }
   ],
   "source": [
    "# Dataframe for positive sentiment\n",
    "rt_senti_pos = rt_senti.loc[rt_senti['sentiment'] == 'POSITIVE'].copy()\n",
    "rt_senti_pos.shape"
   ]
  },
  {
   "cell_type": "code",
   "execution_count": 95,
   "id": "8aa06027",
   "metadata": {
    "execution": {
     "iopub.execute_input": "2023-08-11T03:41:46.560554Z",
     "iopub.status.busy": "2023-08-11T03:41:46.560115Z",
     "iopub.status.idle": "2023-08-11T03:41:46.606284Z",
     "shell.execute_reply": "2023-08-11T03:41:46.604971Z"
    },
    "papermill": {
     "duration": 0.156914,
     "end_time": "2023-08-11T03:41:46.608749",
     "exception": false,
     "start_time": "2023-08-11T03:41:46.451835",
     "status": "completed"
    },
    "tags": []
   },
   "outputs": [
    {
     "data": {
      "text/plain": [
       "(53997, 2)"
      ]
     },
     "execution_count": 95,
     "metadata": {},
     "output_type": "execute_result"
    }
   ],
   "source": [
    "# Dataframe for negative sentiment\n",
    "rt_senti_neg = rt_senti.loc[rt_senti['sentiment'] == 'NEGATIVE'].copy()\n",
    "rt_senti_neg.shape"
   ]
  },
  {
   "cell_type": "code",
   "execution_count": 96,
   "id": "4cd34c3a",
   "metadata": {
    "execution": {
     "iopub.execute_input": "2023-08-11T03:41:46.820850Z",
     "iopub.status.busy": "2023-08-11T03:41:46.820406Z",
     "iopub.status.idle": "2023-08-11T03:42:24.309627Z",
     "shell.execute_reply": "2023-08-11T03:42:24.308162Z"
    },
    "papermill": {
     "duration": 37.599076,
     "end_time": "2023-08-11T03:42:24.312386",
     "exception": false,
     "start_time": "2023-08-11T03:41:46.713310",
     "status": "completed"
    },
    "tags": []
   },
   "outputs": [
    {
     "name": "stdout",
     "output_type": "stream",
     "text": [
      "Working on DF#1 in the list of DFs provided\n",
      "Generating vocabulary for ngram_range: (1, 1)...\n",
      "Vocabulary size for ngram-range (1, 1) in DF#1: 54003\n",
      "\n",
      "Words from the first df for ngram-range (1, 1) added.\n",
      "\n",
      "Working on DF#2 in the list of DFs provided\n",
      "Generating vocabulary for ngram_range: (1, 1)...\n",
      "Vocabulary size for ngram-range (1, 1) in DF#2: 40845\n",
      "\n",
      "Keeping only the common (intersection) words for ngram-range (1, 1)...\n",
      "Common vocabulary for ngram-range (1, 1): 30967\n",
      "\n",
      "Appended first time to final common vocabulary: ngram-range = (1, 1).\n",
      "\n",
      "Working on DF#1 in the list of DFs provided\n",
      "Generating vocabulary for ngram_range: (2, 2)...\n",
      "Vocabulary size for ngram-range (2, 2) in DF#1: 797721\n",
      "\n",
      "Words from the first df for ngram-range (2, 2) added.\n",
      "\n",
      "Working on DF#2 in the list of DFs provided\n",
      "Generating vocabulary for ngram_range: (2, 2)...\n",
      "Vocabulary size for ngram-range (2, 2) in DF#2: 404076\n",
      "\n",
      "Keeping only the common (intersection) words for ngram-range (2, 2)...\n",
      "Common vocabulary for ngram-range (2, 2): 71391\n",
      "\n",
      "Fusing (union) with final common vocabulary: ngram-range = (2, 2).\n",
      "\n",
      "Working on DF#1 in the list of DFs provided\n",
      "Generating vocabulary for ngram_range: (3, 3)...\n",
      "Vocabulary size for ngram-range (3, 3) in DF#1: 971377\n",
      "\n",
      "Words from the first df for ngram-range (3, 3) added.\n",
      "\n",
      "Working on DF#2 in the list of DFs provided\n",
      "Generating vocabulary for ngram_range: (3, 3)...\n",
      "Vocabulary size for ngram-range (3, 3) in DF#2: 454180\n",
      "\n",
      "Keeping only the common (intersection) words for ngram-range (3, 3)...\n",
      "Common vocabulary for ngram-range (3, 3): 9248\n",
      "\n",
      "Fusing (union) with final common vocabulary: ngram-range = (3, 3).\n",
      "\n",
      "111606\n"
     ]
    }
   ],
   "source": [
    "# Generate stop words/phrases specific for this project data  \n",
    "\n",
    "common_1_2_3_grams_sentiment = get_common_vocab([rt_senti_pos, rt_senti_neg], ngram_range_list=[(1,1), (2,2), (3,3)])\n",
    "print(len(common_1_2_3_grams_sentiment))\n",
    "# sorted(list(common_1_2_3_grams_sentiment))"
   ]
  },
  {
   "cell_type": "code",
   "execution_count": 97,
   "id": "15d0063e",
   "metadata": {
    "execution": {
     "iopub.execute_input": "2023-08-11T03:42:24.532502Z",
     "iopub.status.busy": "2023-08-11T03:42:24.531792Z",
     "iopub.status.idle": "2023-08-11T03:42:24.536193Z",
     "shell.execute_reply": "2023-08-11T03:42:24.535002Z"
    },
    "papermill": {
     "duration": 0.118874,
     "end_time": "2023-08-11T03:42:24.538746",
     "exception": false,
     "start_time": "2023-08-11T03:42:24.419872",
     "status": "completed"
    },
    "tags": []
   },
   "outputs": [],
   "source": [
    "# Generate and store the entire vocabulary of training data  \n",
    "\n",
    "# train_1_2_3_grams = get_vocab(rt_senti['reviewText'], ngram_range=(1,3))\n",
    "# print(len(train_1_2_3_grams))\n",
    "# # sorted(train_1_2_3_grams)"
   ]
  },
  {
   "cell_type": "code",
   "execution_count": 98,
   "id": "390ccef5",
   "metadata": {
    "execution": {
     "iopub.execute_input": "2023-08-11T03:42:24.758174Z",
     "iopub.status.busy": "2023-08-11T03:42:24.757737Z",
     "iopub.status.idle": "2023-08-11T03:42:24.762198Z",
     "shell.execute_reply": "2023-08-11T03:42:24.761061Z"
    },
    "papermill": {
     "duration": 0.117643,
     "end_time": "2023-08-11T03:42:24.764689",
     "exception": false,
     "start_time": "2023-08-11T03:42:24.647046",
     "status": "completed"
    },
    "tags": []
   },
   "outputs": [],
   "source": [
    "# type(train_1_2_3_grams)"
   ]
  },
  {
   "cell_type": "code",
   "execution_count": 99,
   "id": "5e01eea5",
   "metadata": {
    "execution": {
     "iopub.execute_input": "2023-08-11T03:42:24.979672Z",
     "iopub.status.busy": "2023-08-11T03:42:24.978849Z",
     "iopub.status.idle": "2023-08-11T03:42:24.984146Z",
     "shell.execute_reply": "2023-08-11T03:42:24.982882Z"
    },
    "papermill": {
     "duration": 0.116893,
     "end_time": "2023-08-11T03:42:24.986494",
     "exception": false,
     "start_time": "2023-08-11T03:42:24.869601",
     "status": "completed"
    },
    "tags": []
   },
   "outputs": [],
   "source": [
    "# Get the vocabulary that should be used in the final models  \n",
    "# relevant_vocab = train_1_2_3_grams - common_1_2_3_grams_sentiment\n",
    "# print(len(relevant_vocab))"
   ]
  },
  {
   "cell_type": "markdown",
   "id": "f36258a9",
   "metadata": {
    "papermill": {
     "duration": 0.10834,
     "end_time": "2023-08-11T03:42:25.203341",
     "exception": false,
     "start_time": "2023-08-11T03:42:25.095001",
     "status": "completed"
    },
    "tags": []
   },
   "source": [
    "## Submit_v4 for merged file models  "
   ]
  },
  {
   "cell_type": "markdown",
   "id": "723a5676",
   "metadata": {
    "papermill": {
     "duration": 0.108091,
     "end_time": "2023-08-11T03:42:25.419351",
     "exception": false,
     "start_time": "2023-08-11T03:42:25.311260",
     "status": "completed"
    },
    "tags": []
   },
   "source": [
    "### More Helper functions  "
   ]
  },
  {
   "cell_type": "code",
   "execution_count": 100,
   "id": "bb75ce02",
   "metadata": {
    "execution": {
     "iopub.execute_input": "2023-08-11T03:42:25.634798Z",
     "iopub.status.busy": "2023-08-11T03:42:25.634382Z",
     "iopub.status.idle": "2023-08-11T03:42:25.642682Z",
     "shell.execute_reply": "2023-08-11T03:42:25.641437Z"
    },
    "papermill": {
     "duration": 0.118445,
     "end_time": "2023-08-11T03:42:25.645356",
     "exception": false,
     "start_time": "2023-08-11T03:42:25.526911",
     "status": "completed"
    },
    "tags": []
   },
   "outputs": [],
   "source": [
    "# Testing predictions on missing reviewtext columns  \n",
    "\n",
    "def predict_on_missing_review_data(pipe, selected_features, merged_train):\n",
    "    missing_reviews_train = merged_train.loc[merged_train['reviewYN'] == 1]\n",
    "    missing_reviews_train.reset_index(drop=True)\n",
    "    X_train_miss_revs = missing_reviews_train.drop('sentiment', axis = 1)\n",
    "    X_train_miss_revs = X_train_miss_revs[selected_features]\n",
    "    y_train_miss_revs = missing_reviews_train['sentiment']\n",
    "    \n",
    "    y_pred_miss_revs = pipe.predict(X_train_miss_revs)\n",
    "#     print('Predictions on rows which had missing reviewText')\n",
    "    print(\"Confusion matrix and f1-score for rows which have no reviewText in X_train: \")\n",
    "    print(confusion_matrix(y_train_miss_revs, y_pred_miss_revs, labels=pipe.classes_))\n",
    "    \n",
    "    return f1_score(y_train_miss_revs, y_pred_miss_revs, average='micro')"
   ]
  },
  {
   "cell_type": "code",
   "execution_count": 101,
   "id": "1dd95c5e",
   "metadata": {
    "execution": {
     "iopub.execute_input": "2023-08-11T03:42:25.860539Z",
     "iopub.status.busy": "2023-08-11T03:42:25.859577Z",
     "iopub.status.idle": "2023-08-11T03:42:25.937401Z",
     "shell.execute_reply": "2023-08-11T03:42:25.936429Z"
    },
    "papermill": {
     "duration": 0.187141,
     "end_time": "2023-08-11T03:42:25.939996",
     "exception": false,
     "start_time": "2023-08-11T03:42:25.752855",
     "status": "completed"
    },
    "tags": []
   },
   "outputs": [],
   "source": [
    "# Function to build pipelines for GridSearchCV which goes into the final 'submit' function  \n",
    "def build_pipeline(selected_model=LogisticRegression(), \n",
    "                   selected_features={'txt': ['reviewText']}, \n",
    "                   param_grid=None,\n",
    "                   vocab=None,\n",
    "                   vocab_usage='tfidf',\n",
    "                   strip_accents='unicode', \n",
    "                   add_countvec=False):\n",
    "    # Encoders  \n",
    "    ohe = OneHotEncoder(sparse_output=False, handle_unknown='ignore')\n",
    "    MMscaler = MinMaxScaler()\n",
    "    StdScaler = StandardScaler()\n",
    "    RobScaler = RobustScaler()\n",
    "    \n",
    "    # Text features ['reviewText', 'reviewerName', 'movieid', 'genre', 'director']\n",
    "    tfidf_vec = TfidfVectorizer(ngram_range=(1,2))\n",
    "    count_vec = CountVectorizer(ngram_range=(1,2))\n",
    "    txt_pipe = Pipeline(steps=[\n",
    "                            (\"tvec\", TfidfVectorizer(ngram_range=(1,3), strip_accents=strip_accents))    # Adjust ngram_range here for reviewText\n",
    "                        ])\n",
    "    txt_pipe_vocab = Pipeline(steps=[\n",
    "                            (\"tvec\", TfidfVectorizer(ngram_range=(1,3), strip_accents=strip_accents, vocabulary=vocab))    # Adjust ngram_range here for reviewText\n",
    "                        ])\n",
    "    txt_pipe_2 = Pipeline(steps=[\n",
    "                            (\"tvec\", TfidfVectorizer(ngram_range=(2,2)))\n",
    "                        ])\n",
    "    txt_pipe_3 = Pipeline(steps=[\n",
    "                            (\"tvec\", TfidfVectorizer(ngram_range=(1,1)))\n",
    "                        ])\n",
    "    txt_pipe_4 = Pipeline(steps=[\n",
    "                            (\"tvec\", TfidfVectorizer(ngram_range=(1,3)))    # Adjust ngram_range here for reviewText\n",
    "                        ])\n",
    "    txt_pipe_title  = Pipeline(steps=[\n",
    "                            (\"tvec\", TfidfVectorizer(ngram_range=(1,5)))    # Adjust ngram_range here for reviewText\n",
    "                        ])\n",
    "    \n",
    "    # Additional pipes for count vectorizer\n",
    "    txt_pipe_countvec = Pipeline(steps=[\n",
    "                            (\"cvec\", CountVectorizer(ngram_range=(1,3), strip_accents=strip_accents))    # Adjust ngram_range here for reviewText\n",
    "                        ])\n",
    "    txt_pipe_countvec_vocab = Pipeline(steps=[\n",
    "                            (\"cvec\", CountVectorizer(ngram_range=(1,3), strip_accents=strip_accents, vocabulary=vocab))    # Adjust ngram_range here for reviewText\n",
    "                        ])\n",
    "    \n",
    "    txt_pipe_countvec_ratingContents = Pipeline(steps=[\n",
    "                            (\"cvec\", CountVectorizer(ngram_range=(1,5)))    # Adjust ngram_range here for reviewText\n",
    "                        ])\n",
    "    txt_pipe_countvec_rcSorted = Pipeline(steps=[\n",
    "                            (\"cvec\", CountVectorizer(ngram_range=(1,1)))    # Adjust ngram_range here for reviewText\n",
    "                        ])\n",
    "    txt_pipe_countvec_genre = Pipeline(steps=[\n",
    "                            (\"cvec\", CountVectorizer(ngram_range=(1,1)))\n",
    "                        ])\n",
    "    txt_pipe_countvec_genreSorted = Pipeline(steps=[\n",
    "                            (\"cvec\", CountVectorizer(ngram_range=(1,5)))\n",
    "                        ])\n",
    "    txt_pipe_countvec_distributor = Pipeline(steps=[\n",
    "                            (\"cvec\", CountVectorizer(ngram_range=(1,3)))    # Adjust ngram_range here for reviewText\n",
    "                        ])\n",
    "    txt_pipe_countvec_title = Pipeline(steps=[\n",
    "                            (\"cvec\", CountVectorizer(ngram_range=(1,5), strip_accents=strip_accents))\n",
    "                        ])\n",
    "    txt_pipe_countvec_movieid = Pipeline(steps=[\n",
    "                            (\"cvec\", CountVectorizer(ngram_range=(1,1)))\n",
    "                        ])\n",
    "    # Basic pipes  \n",
    "    TFs = []\n",
    "    try:\n",
    "        for c in selected_features['cat']:\n",
    "            TFs.append((f\"cat_{c}\", ohe, [c]))\n",
    "    except:\n",
    "        pass\n",
    "    try:\n",
    "        for n in selected_features['num']:\n",
    "            if n in [\"runtimeMinutes\", \"boxOffice\", \"releaseDiff\"]:\n",
    "                TFs.append((f\"num_{n}\", RobScaler, [n]))\n",
    "                TFs.append((f\"num_{n}_ss\", StdScaler, [n]))\n",
    "                \n",
    "            else:\n",
    "                TFs.append((f\"num_{n}\", StdScaler, [n]))\n",
    "    except:\n",
    "        pass\n",
    "    try:\n",
    "        for t in selected_features['txt']:\n",
    "            if t in ['director', 'reviewerName']:\n",
    "                TFs.append((f\"txt_{t}\", txt_pipe_2, t))\n",
    "            elif t in [\"originalLanguage\", \"releaseYear\"]:\n",
    "                TFs.append((f\"txt_{t}\", txt_pipe_3, t))\n",
    "            elif t in ['genre']:\n",
    "                TFs.append((f\"txt_{t}\", txt_pipe_countvec_genre, t))\n",
    "            elif t in [\"genreSorted\"]:\n",
    "                TFs.append((f\"txt_{t}\", txt_pipe_countvec_genreSorted, t))\n",
    "            elif t in [\"distributor\"]:\n",
    "                TFs.append((f\"txt_{t}\", txt_pipe_countvec_distributor, t))\n",
    "            elif t in ['reviewText']:\n",
    "#                 if vocab and (vocab_usage in [\"tfidf\", \"both\"]):\n",
    "#                     txt_pipe.set_params(tvec__vocabulary=vocab)\n",
    "#                     txt_pipe.set_params(tvec__stop_words='english')\n",
    "                TFs.append((f\"txt_{t}\", txt_pipe, t))\n",
    "            elif t in ['reviewText_2']:\n",
    "                if add_countvec:\n",
    "#                     if vocab and (vocab_usage in [\"count\", \"both\"]):\n",
    "#                         txt_pipe_countvec.set_params(cvec__vocabulary=vocab)\n",
    "#                         txt_pipe_countvec.set_params(cvec__stop_words='english')\n",
    "                    TFs.append((f\"txt_{t}\", txt_pipe_countvec, t))\n",
    "            elif t in ['reviewText_3']:\n",
    "                if vocab_usage == 'tfidf':\n",
    "                    TFs.append((f\"txt_{t}\", txt_pipe_vocab, t))\n",
    "                elif vocab_usage == 'count':\n",
    "                    TFs.append((f\"txt_{t}\", txt_pipe_countvec_vocab, t))\n",
    "            elif t in [\"ratingContents\"]:\n",
    "                TFs.append((f\"txt_{t}\", txt_pipe_countvec_ratingContents, t))\n",
    "            elif t in [\"rcSorted\"]:\n",
    "                TFs.append((f\"txt_{t}\", txt_pipe_countvec_rcSorted, t))\n",
    "            elif t in [\"title\"]:\n",
    "                TFs.append((f\"txt_{t}\", txt_pipe_title, t))\n",
    "            elif t in [\"movieid\"]:\n",
    "                TFs.append((f\"txt_{t}\", txt_pipe_countvec_movieid, t))\n",
    "            else:\n",
    "                pass\n",
    "    except:\n",
    "        pass\n",
    "\n",
    "    # Build ColumnTransformer  \n",
    "    ct = ColumnTransformer(transformers=TFs, remainder='drop')\n",
    "\n",
    "    # Build Pipeline\n",
    "    pipe = Pipeline(steps=[('ct', ct), ('model', selected_model)])\n",
    "    print(\"\\nPipeline built successfully.\")\n",
    "\n",
    "    # Use the pipe in GridSearchCV\n",
    "    if param_grid == None:\n",
    "        param_grid_temp = {\"model__C\": [1],\n",
    "                     'model__solver': ['liblinear']}\n",
    "        print(\"Full GridSearchCV pipeline built successfully with basic default param_grid.\\n\")\n",
    "        pipeCV = GridSearchCV(pipe, param_grid_temp, cv=10, scoring=\"f1_micro\", n_jobs=-1)\n",
    "        return pipeCV\n",
    "    \n",
    "    # GridSearchCV if param_grid provided\n",
    "    if param_grid:\n",
    "        pipeCV = GridSearchCV(pipe, param_grid, cv=10, scoring=\"f1_micro\", n_jobs=-1)\n",
    "        print(\"\\nFull GridSearchCV pipeline built successfully.\")\n",
    "        return pipeCV"
   ]
  },
  {
   "cell_type": "code",
   "execution_count": 102,
   "id": "60001731",
   "metadata": {
    "execution": {
     "iopub.execute_input": "2023-08-11T03:42:26.161933Z",
     "iopub.status.busy": "2023-08-11T03:42:26.161088Z",
     "iopub.status.idle": "2023-08-11T03:42:26.171625Z",
     "shell.execute_reply": "2023-08-11T03:42:26.170417Z"
    },
    "papermill": {
     "duration": 0.12232,
     "end_time": "2023-08-11T03:42:26.174357",
     "exception": false,
     "start_time": "2023-08-11T03:42:26.052037",
     "status": "completed"
    },
    "tags": []
   },
   "outputs": [],
   "source": [
    "def preprocessor():\n",
    "    \n",
    "    # Merge and preprocess train and movies data  \n",
    "    merged = select_features(load_csv(\"train\"), load_csv(\"movies\"), row_thresh_null=None)    # Decide if you want to drop any rows containing lot of nulls\n",
    "    # Impute missing numerical values  \n",
    "    # Simple Imputer for ['audienceScore', 'runtimeMinutes', 'boxOffice'] and 'releaseDate' columns\n",
    "    si = SimpleImputer(strategy='median')\n",
    "    merged[['audienceScore', 'runtimeMinutes', 'boxOffice']] = si.fit_transform(merged[['audienceScore', 'runtimeMinutes', 'boxOffice']])\n",
    "    merged['releaseDate'] = merged[\"releaseDate\"].fillna(merged[\"releaseDate\"].median())    \n",
    "\n",
    "    # Check1 (preprocessor)\n",
    "    print(\"\\nCheck 1 (preprocessor) complete.\")\n",
    "    print(f\"Shape of X_train: {merged.shape}\")\n",
    "    print(f\"Features in X_train: {merged.columns}\")\n",
    "\n",
    "\n",
    "    # Merge and preprocess test and movies data  \n",
    "    merged_test = select_features(load_csv(\"test\"), load_csv(\"movies\"))\n",
    "    # Transform ['audienceScore', 'runtimeMinutes', 'boxOffice'] columns in merged_test using 'si' fitted on 'merged' df  \n",
    "    merged_test[['audienceScore', 'runtimeMinutes', 'boxOffice']] = si.transform(merged_test[['audienceScore', 'runtimeMinutes', 'boxOffice']])\n",
    "    # Fill 'releaseDate' column in 'merged_test' df with median from the train (merged) df  \n",
    "    merged_test['releaseDate'] = merged_test[\"releaseDate\"].fillna(merged[\"releaseDate\"].median())\n",
    "\n",
    "    \n",
    "    # Check2 (preprocessor)\n",
    "    print(\"\\nCheck 2 (preprocessor) complete.\")\n",
    "    print(f\"Shape of X_test: {merged_test.shape}\")\n",
    "    print(f\"Features in X_test: {merged_test.columns}\")\n",
    "\n",
    "    return merged, merged_test\n",
    "    "
   ]
  },
  {
   "cell_type": "code",
   "execution_count": 103,
   "id": "ab76ebb5",
   "metadata": {
    "execution": {
     "iopub.execute_input": "2023-08-11T03:42:26.387221Z",
     "iopub.status.busy": "2023-08-11T03:42:26.386826Z",
     "iopub.status.idle": "2023-08-11T03:42:26.391867Z",
     "shell.execute_reply": "2023-08-11T03:42:26.390524Z"
    },
    "papermill": {
     "duration": 0.113931,
     "end_time": "2023-08-11T03:42:26.394360",
     "exception": false,
     "start_time": "2023-08-11T03:42:26.280429",
     "status": "completed"
    },
    "tags": []
   },
   "outputs": [],
   "source": [
    "# merged, merged_test = preprocessor()\n",
    "# merged.shape, merged_test.shape"
   ]
  },
  {
   "cell_type": "code",
   "execution_count": 104,
   "id": "d967a451",
   "metadata": {
    "execution": {
     "iopub.execute_input": "2023-08-11T03:42:26.612967Z",
     "iopub.status.busy": "2023-08-11T03:42:26.612225Z",
     "iopub.status.idle": "2023-08-11T03:42:26.639884Z",
     "shell.execute_reply": "2023-08-11T03:42:26.638950Z"
    },
    "papermill": {
     "duration": 0.138901,
     "end_time": "2023-08-11T03:42:26.642373",
     "exception": false,
     "start_time": "2023-08-11T03:42:26.503472",
     "status": "completed"
    },
    "tags": []
   },
   "outputs": [],
   "source": [
    "def submit_v5(classifiers= [\n",
    "                {'selected_model' : LogisticRegression(C=1, solver='saga', max_iter=100000), \n",
    "                  'selected_features' : {'num': ['audienceScore']}, \n",
    "                  'param_grid' : None,\n",
    "                  'vocab' : None,\n",
    "                  'vocab_usage' : 'tfidf',\n",
    "                  'strip_accents' : 'unicode', \n",
    "                  'add_countvec' : False}\n",
    "              ]):\n",
    "    \n",
    "    \"\"\"Takes a list of dictionaries each with same keys as mentioned in the default dictionary in function definition\"\"\"\n",
    "    \n",
    "    print(\"\\nRunning the submit_v5 function...\")\n",
    "    \n",
    "    merged, merged_test = preprocessor()\n",
    "    print(f\"Preprocessing of train and test datasets complete.\")\n",
    "    \n",
    "    # Build vocabulary (if vocab is True)\n",
    "    vocab = None\n",
    "    for item in classifiers:\n",
    "        if item['vocab']:\n",
    "            vocab = True\n",
    "            break\n",
    "    \n",
    "    if vocab == True:\n",
    "        # Generate and store the entire vocabulary of training data  \n",
    "        print(f\"Generating stop words/phrases specific for this project data...\")\n",
    "        train_1_2_3_grams = get_vocab(rt_senti['reviewText'], ngram_range=(1,3))\n",
    "        print(f\"Size of vocabulary of training data: {len(train_1_2_3_grams)}\")\n",
    "        # sorted(train_1_2_3_grams)\n",
    "\n",
    "        # Generate stop words/phrases specific for this project data  \n",
    "        print(f\"Generating stop words/phrases specific for this project data...\")\n",
    "        common_1_2_3_grams_sentiment = get_common_vocab([rt_senti_pos, rt_senti_neg], ngram_range_list=[(1,1), (2,2), (3,3)])\n",
    "        print(f\"Number of stop words: {len(common_1_2_3_grams_sentiment)}\")\n",
    "\n",
    "        # Get the vocabulary that should be used in the final models  \n",
    "        print(f\"Getting the vocabulary that will be fed to the final model(s)...\")\n",
    "        relevant_vocab = list(train_1_2_3_grams - common_1_2_3_grams_sentiment)\n",
    "        print(f\"Size of the final relevant vocabulary: {len(relevant_vocab)}\")\n",
    "    else:\n",
    "        pass\n",
    "    \n",
    "    \n",
    "    # Create a list to store estimators  \n",
    "    estimators = []     # List of tuples of the form ('classifier_name', 'classifer_instance')\n",
    "    \n",
    "    # Build a dataframe of predictions  \n",
    "    predictions_df = pd.DataFrame()\n",
    "    \n",
    "    # Build a separate pipeline and fit it on selected features (and param_grid) for each item in classifiers list\n",
    "    for n, item in enumerate(classifiers, start=1):\n",
    "        selected_model = item['selected_model']\n",
    "        selected_features = item['selected_features']\n",
    "        param_grid = item['param_grid']\n",
    "        vocab = item['vocab']\n",
    "        vocab_usage = item['vocab_usage']\n",
    "        strip_accents = item['strip_accents']\n",
    "        add_countvec = item['add_countvec']\n",
    "    \n",
    "    \n",
    "        # Fine tune selected_features\n",
    "        if add_countvec:\n",
    "            if 'txt' in selected_features.keys():\n",
    "                if \"reviewText_2\" not in selected_features['txt']:\n",
    "                    selected_features['txt'].append('reviewText_2')\n",
    "        if vocab:\n",
    "            if 'txt' in selected_features.keys():\n",
    "                if \"reviewText_3\" not in selected_features['txt']:\n",
    "                    selected_features['txt'].append('reviewText_3')\n",
    "        else:\n",
    "            print(f\"No vocabulary provided/used for this model.\")\n",
    "        print(f\"\\nSelected features: {selected_features}\")\n",
    "        \n",
    "        if type(vocab) in [type([1, 2]), type({1, 2})]:\n",
    "            vocab = vocab\n",
    "        elif vocab == True:\n",
    "            vocab = relevant_vocab\n",
    "        \n",
    "        # Modify X_train for the given 'item' by creating a custom 'features' list\n",
    "        features = []\n",
    "        for item in selected_features.values():\n",
    "            features.extend(item)\n",
    "            \n",
    "        # Add new columns as needed  \n",
    "        if add_countvec:\n",
    "            merged['reviewText_2'] = merged['reviewText']\n",
    "        if vocab:\n",
    "            merged['reviewText_3'] = merged['reviewText']\n",
    "        \n",
    "        # Create X_tran, y_train\n",
    "        X_train = merged.drop(labels=\"sentiment\", axis=1)\n",
    "        y_train = merged[\"sentiment\"]\n",
    "        \n",
    "        X_train = merged[features].copy()\n",
    "\n",
    "\n",
    "        # Build Pipeline\n",
    "        pipe = build_pipeline(selected_model, selected_features, param_grid=param_grid, \n",
    "                              vocab=vocab, vocab_usage='tfidf', \n",
    "                              strip_accents=strip_accents, add_countvec=add_countvec)\n",
    "        print(pipe)\n",
    "\n",
    "        \n",
    "        # Fit \n",
    "        print(f\"\\nTraining started with full pipeline for classifier #{n}...\")\n",
    "        pipe.fit(X_train, y_train)\n",
    "        \n",
    "\n",
    "        # Check1\n",
    "        print(f\"\\nCheck #{n}.1 complete.\")\n",
    "        print(f\"Details of the best model using classifier #{n} (GridSearchCV) on X_train: \")\n",
    "        print(f\"Best Params: {pipe.best_params_}\")\n",
    "        print(f\"Best Score: {pipe.best_score_}\")\n",
    "        \n",
    "        print(predict_on_missing_review_data(pipe, features, merged))    # Function defined above\n",
    "        \n",
    "        estimators.append((f\"classifier_{n}\", pipe))\n",
    "        print(f\"classifier_{n} successfully added to 'estimators' list\")\n",
    "\n",
    "        \n",
    "        # Predict on test.csv file\n",
    "        # Add new columns as needed \n",
    "        if add_countvec:\n",
    "            merged_test['reviewText_2'] = merged_test['reviewText']\n",
    "        if vocab:\n",
    "            merged_test['reviewText_3'] = merged_test['reviewText']\n",
    "        \n",
    "               \n",
    "        X_test = merged_test[features].copy()\n",
    "\n",
    "    \n",
    "        y_pred = pipe.predict(X_test)\n",
    "        \n",
    "        # Insert predictions in 'predictions_df' dataframe\n",
    "        predictions_df.insert(n-1, f\"pred_{n}\", y_pred, allow_duplicates=False)\n",
    "        print(predictions_df.shape)\n",
    "        print(predictions_df.head(10))\n",
    "        \n",
    "    \n",
    "        # Check2\n",
    "        print(f\"\\nCheck #{n}.2 complete.\")\n",
    "    #     cv_results_df = pd.DataFrame(pipe.cv_results_)\n",
    "        print(\"Details of the best model using full pipeline (GridSearchCV) on X_train: \")\n",
    "#         print(f\"Best Estimator: {pipe.best_estimator_}\")\n",
    "        print(f\"Best Params: {pipe.best_params_}\")\n",
    "        print(f\"Best Score: {pipe.best_score_}\")\n",
    "#         print(f\"Best Index: {pipe.best_index_}\")\n",
    "        print(f\"Refit Time: {pipe.refit_time_}\")\n",
    "    #     print(f\"Shape of CV results dataframe: {cv_results_df.shape}\")\n",
    "    \n",
    "    # Voting classifier (custom) with hard voting\n",
    "    # Calculate the MODE for all predictions (Note that the 'predictions_df' generated above should have odd number of columns)\n",
    "    pred_df_final = predictions_df.mode('columns')\n",
    "    pred_df_final.columns = [\"sentiment\"]\n",
    "    pred_df_final.index.name = \"id\"\n",
    "    pred_df_final.to_csv(\"submission.csv\")\n",
    "    \n",
    "    print(\"\\nSuccessfully created the submission file!!!\")\n",
    "    \n",
    "#     return pipe.cv_results_\n",
    "    return pred_df_final, estimators"
   ]
  },
  {
   "cell_type": "markdown",
   "id": "7c1e8676",
   "metadata": {
    "papermill": {
     "duration": 0.105071,
     "end_time": "2023-08-11T03:42:26.853228",
     "exception": false,
     "start_time": "2023-08-11T03:42:26.748157",
     "status": "completed"
    },
    "tags": []
   },
   "source": [
    "## Use 'submit_v5' function  "
   ]
  },
  {
   "cell_type": "code",
   "execution_count": 105,
   "id": "1f41e40c",
   "metadata": {
    "execution": {
     "iopub.execute_input": "2023-08-11T03:42:27.141930Z",
     "iopub.status.busy": "2023-08-11T03:42:27.141460Z",
     "iopub.status.idle": "2023-08-11T03:42:27.146990Z",
     "shell.execute_reply": "2023-08-11T03:42:27.145660Z"
    },
    "papermill": {
     "duration": 0.189004,
     "end_time": "2023-08-11T03:42:27.149297",
     "exception": false,
     "start_time": "2023-08-11T03:42:26.960293",
     "status": "completed"
    },
    "tags": []
   },
   "outputs": [],
   "source": [
    "# Try submit_v5 with default settings\n",
    "# submit_v5()"
   ]
  },
  {
   "cell_type": "code",
   "execution_count": 106,
   "id": "381d61ff",
   "metadata": {
    "execution": {
     "iopub.execute_input": "2023-08-11T03:42:27.365092Z",
     "iopub.status.busy": "2023-08-11T03:42:27.364545Z",
     "iopub.status.idle": "2023-08-11T04:59:19.546298Z",
     "shell.execute_reply": "2023-08-11T04:59:19.544884Z"
    },
    "papermill": {
     "duration": 4612.403356,
     "end_time": "2023-08-11T04:59:19.659187",
     "exception": false,
     "start_time": "2023-08-11T03:42:27.255831",
     "status": "completed"
    },
    "tags": []
   },
   "outputs": [
    {
     "name": "stdout",
     "output_type": "stream",
     "text": [
      "\n",
      "Running the submit_v5 function...\n",
      "\n",
      "Check 1 (preprocessor) complete.\n",
      "Shape of X_train: (162758, 30)\n",
      "Features in X_train: Index(['movieid', 'reviewerName', 'isFrequentReviewer', 'reviewText',\n",
      "       'sentiment', 'title', 'audienceScore', 'rating', 'ratingContents',\n",
      "       'releaseDateTheaters', 'releaseDateStreaming', 'runtimeMinutes',\n",
      "       'genre', 'originalLanguage', 'director', 'boxOffice', 'distributor',\n",
      "       'soundType', 'reviewYN', 'reviewWC', 'genreSorted', 'rcSorted',\n",
      "       'releaseDate', 'releaseYear', 'releaseMonth', 'releaseDiff',\n",
      "       'audScoreBins', 'runtimeBins', 'boxOfficeBins', 'releaseDiffBins'],\n",
      "      dtype='object')\n",
      "\n",
      "Check 2 (preprocessor) complete.\n",
      "Shape of X_test: (55315, 29)\n",
      "Features in X_test: Index(['movieid', 'reviewerName', 'isFrequentReviewer', 'reviewText', 'title',\n",
      "       'audienceScore', 'rating', 'ratingContents', 'releaseDateTheaters',\n",
      "       'releaseDateStreaming', 'runtimeMinutes', 'genre', 'originalLanguage',\n",
      "       'director', 'boxOffice', 'distributor', 'soundType', 'reviewYN',\n",
      "       'reviewWC', 'genreSorted', 'rcSorted', 'releaseDate', 'releaseYear',\n",
      "       'releaseMonth', 'releaseDiff', 'audScoreBins', 'runtimeBins',\n",
      "       'boxOfficeBins', 'releaseDiffBins'],\n",
      "      dtype='object')\n",
      "Preprocessing of train and test datasets complete.\n",
      "Generating stop words/phrases specific for this project data...\n",
      "Generating vocabulary for ngram_range: (1, 3)...\n",
      "Size of vocabulary of training data: 2610596\n",
      "Generating stop words/phrases specific for this project data...\n",
      "Working on DF#1 in the list of DFs provided\n",
      "Generating vocabulary for ngram_range: (1, 1)...\n",
      "Vocabulary size for ngram-range (1, 1) in DF#1: 54003\n",
      "\n",
      "Words from the first df for ngram-range (1, 1) added.\n",
      "\n",
      "Working on DF#2 in the list of DFs provided\n",
      "Generating vocabulary for ngram_range: (1, 1)...\n",
      "Vocabulary size for ngram-range (1, 1) in DF#2: 40845\n",
      "\n",
      "Keeping only the common (intersection) words for ngram-range (1, 1)...\n",
      "Common vocabulary for ngram-range (1, 1): 30967\n",
      "\n",
      "Appended first time to final common vocabulary: ngram-range = (1, 1).\n",
      "\n",
      "Working on DF#1 in the list of DFs provided\n",
      "Generating vocabulary for ngram_range: (2, 2)...\n",
      "Vocabulary size for ngram-range (2, 2) in DF#1: 797721\n",
      "\n",
      "Words from the first df for ngram-range (2, 2) added.\n",
      "\n",
      "Working on DF#2 in the list of DFs provided\n",
      "Generating vocabulary for ngram_range: (2, 2)...\n",
      "Vocabulary size for ngram-range (2, 2) in DF#2: 404076\n",
      "\n",
      "Keeping only the common (intersection) words for ngram-range (2, 2)...\n",
      "Common vocabulary for ngram-range (2, 2): 71391\n",
      "\n",
      "Fusing (union) with final common vocabulary: ngram-range = (2, 2).\n",
      "\n",
      "Working on DF#1 in the list of DFs provided\n",
      "Generating vocabulary for ngram_range: (3, 3)...\n",
      "Vocabulary size for ngram-range (3, 3) in DF#1: 971377\n",
      "\n",
      "Words from the first df for ngram-range (3, 3) added.\n",
      "\n",
      "Working on DF#2 in the list of DFs provided\n",
      "Generating vocabulary for ngram_range: (3, 3)...\n",
      "Vocabulary size for ngram-range (3, 3) in DF#2: 454180\n",
      "\n",
      "Keeping only the common (intersection) words for ngram-range (3, 3)...\n",
      "Common vocabulary for ngram-range (3, 3): 9248\n",
      "\n",
      "Fusing (union) with final common vocabulary: ngram-range = (3, 3).\n",
      "\n",
      "Number of stop words: 111606\n",
      "Getting the vocabulary that will be fed to the final model(s)...\n",
      "Size of the final relevant vocabulary: 2498990\n",
      "\n",
      "Selected features: {'cat': ['isFrequentReviewer'], 'num': ['audienceScore', 'boxOffice', 'releaseDiff'], 'txt': ['reviewText', 'reviewerName', 'movieid', 'genre', 'director', 'ratingContents', 'distributor', 'reviewText_2', 'reviewText_3']}\n",
      "\n",
      "Pipeline built successfully.\n",
      "\n",
      "Full GridSearchCV pipeline built successfully.\n",
      "GridSearchCV(cv=10,\n",
      "             estimator=Pipeline(steps=[('ct',\n",
      "                                        ColumnTransformer(transformers=[('cat_isFrequentReviewer',\n",
      "                                                                         OneHotEncoder(handle_unknown='ignore',\n",
      "                                                                                       sparse_output=False),\n",
      "                                                                         ['isFrequentReviewer']),\n",
      "                                                                        ('num_audienceScore',\n",
      "                                                                         StandardScaler(),\n",
      "                                                                         ['audienceScore']),\n",
      "                                                                        ('num_boxOffice',\n",
      "                                                                         RobustScaler(),\n",
      "                                                                         ['boxOffice']),\n",
      "                                                                        ('num_boxOffice_ss',\n",
      "                                                                         StandardScaler(),\n",
      "                                                                         ['boxOffice']),\n",
      "                                                                        ('...\n",
      "                                                                                                                      'gervais '\n",
      "                                                                                                                      'picture '\n",
      "                                                                                                                      'fell',\n",
      "                                                                                                                      'adventure '\n",
      "                                                                                                                      'loosely '\n",
      "                                                                                                                      'based',\n",
      "                                                                                                                      'accomplishments '\n",
      "                                                                                                                      'mythic',\n",
      "                                                                                                                      'fan '\n",
      "                                                                                                                      'club '\n",
      "                                                                                                                      'freda',\n",
      "                                                                                                                      'edited '\n",
      "                                                                                                                      'hours',\n",
      "                                                                                                                      'gets '\n",
      "                                                                                                                      'skin '\n",
      "                                                                                                                      'sense', ...]))]),\n",
      "                                                                         'reviewText_3')])),\n",
      "                                       ('model',\n",
      "                                        SGDClassifier(loss='log_loss',\n",
      "                                                      max_iter=1000000))]),\n",
      "             n_jobs=-1,\n",
      "             param_grid={'model__alpha': [0.0001, 1e-05, 1e-06],\n",
      "                         'model__penalty': ['l2'],\n",
      "                         'model__tol': [0.0001, 1e-05]},\n",
      "             scoring='f1_micro')\n",
      "\n",
      "Training started with full pipeline for classifier #1...\n",
      "\n",
      "Check #1.1 complete.\n",
      "Details of the best model using classifier #1 (GridSearchCV) on X_train: \n",
      "Best Params: {'model__alpha': 0.0001, 'model__penalty': 'l2', 'model__tol': 0.0001}\n",
      "Best Score: 0.8372123194404963\n",
      "Confusion matrix and f1-score for rows which have no reviewText in X_train: \n",
      "[[1222 1183]\n",
      " [ 458 3584]]\n",
      "0.7454630060493252\n",
      "classifier_1 successfully added to 'estimators' list\n",
      "(55315, 1)\n",
      "     pred_1\n",
      "0  POSITIVE\n",
      "1  POSITIVE\n",
      "2  POSITIVE\n",
      "3  POSITIVE\n",
      "4  POSITIVE\n",
      "5  POSITIVE\n",
      "6  POSITIVE\n",
      "7  POSITIVE\n",
      "8  NEGATIVE\n",
      "9  NEGATIVE\n",
      "\n",
      "Check #1.2 complete.\n",
      "Details of the best model using full pipeline (GridSearchCV) on X_train: \n",
      "Best Params: {'model__alpha': 0.0001, 'model__penalty': 'l2', 'model__tol': 0.0001}\n",
      "Best Score: 0.8372123194404963\n",
      "Refit Time: 154.76871705055237\n",
      "\n",
      "Successfully created the submission file!!!\n"
     ]
    }
   ],
   "source": [
    "# Testing ONE classfier using submit_v5 function  \n",
    "\n",
    "# Feature dictionaries\n",
    "sfs = {'cat': ['isFrequentReviewer', 'rating'],\n",
    "       'num': [\"audienceScore\", \"runtimeMinutes\", \"boxOffice\"]}\n",
    "\n",
    "sf_best = {'cat': ['isFrequentReviewer'],\n",
    "            'num': [\"audienceScore\", \"boxOffice\", 'releaseDiff'],\n",
    "            'txt': ['reviewText', 'reviewerName', 'movieid', 'genre', 'director', \n",
    "                         'ratingContents', 'distributor']}\n",
    "\n",
    "# Classifiers\n",
    "classifiers= [\n",
    "                {'selected_model' : SGDClassifier(loss='log_loss', max_iter=1000000), \n",
    "                  'selected_features' : sf_best, \n",
    "                  'param_grid' : {\"model__alpha\": [0.0001, 0.00001, 0.000001], \n",
    "                                  'model__tol': [0.0001, 0.00001],\n",
    "                                  \"model__penalty\": [\"l2\"],\n",
    "                                 },\n",
    "                  'vocab' : True,\n",
    "                  'vocab_usage' : 'tfidf',\n",
    "                  'strip_accents' : 'unicode', \n",
    "                  'add_countvec' : True},\n",
    "            ]\n",
    "\n",
    "# classifiers= [\n",
    "#                 {'selected_model' : LogisticRegression(C=1, solver='saga', max_iter=100000), \n",
    "#                   'selected_features' : {'txt': [\"reviewText\"]}, \n",
    "#                   'param_grid' : {\"model__C\": [1], \n",
    "#                                   'model__solver': ['saga']},\n",
    "#                   'vocab' : None,\n",
    "#                   'vocab_usage' : 'tfidf',\n",
    "#                   'strip_accents' : 'unicode', \n",
    "#                   'add_countvec' : False},\n",
    "#             ]\n",
    "\n",
    "pred_df, estimators = submit_v5(classifiers=classifiers)"
   ]
  },
  {
   "cell_type": "code",
   "execution_count": 107,
   "id": "4746a02e",
   "metadata": {
    "execution": {
     "iopub.execute_input": "2023-08-11T04:59:19.882822Z",
     "iopub.status.busy": "2023-08-11T04:59:19.882336Z",
     "iopub.status.idle": "2023-08-11T04:59:19.890725Z",
     "shell.execute_reply": "2023-08-11T04:59:19.889330Z"
    },
    "papermill": {
     "duration": 0.123101,
     "end_time": "2023-08-11T04:59:19.893297",
     "exception": false,
     "start_time": "2023-08-11T04:59:19.770196",
     "status": "completed"
    },
    "tags": []
   },
   "outputs": [
    {
     "name": "stdout",
     "output_type": "stream",
     "text": [
      "(55315, 1)\n",
      "   sentiment\n",
      "id          \n",
      "0   POSITIVE\n",
      "1   POSITIVE\n",
      "2   POSITIVE\n",
      "3   POSITIVE\n",
      "4   POSITIVE\n"
     ]
    }
   ],
   "source": [
    "print(pred_df.shape)\n",
    "print(pred_df.head())"
   ]
  },
  {
   "cell_type": "code",
   "execution_count": 108,
   "id": "b4ac1557",
   "metadata": {
    "execution": {
     "iopub.execute_input": "2023-08-11T04:59:20.207038Z",
     "iopub.status.busy": "2023-08-11T04:59:20.206550Z",
     "iopub.status.idle": "2023-08-11T04:59:20.211305Z",
     "shell.execute_reply": "2023-08-11T04:59:20.210056Z"
    },
    "papermill": {
     "duration": 0.210229,
     "end_time": "2023-08-11T04:59:20.213737",
     "exception": false,
     "start_time": "2023-08-11T04:59:20.003508",
     "status": "completed"
    },
    "tags": []
   },
   "outputs": [],
   "source": [
    "# estimators"
   ]
  },
  {
   "cell_type": "code",
   "execution_count": 109,
   "id": "112c0062",
   "metadata": {
    "execution": {
     "iopub.execute_input": "2023-08-11T04:59:20.438398Z",
     "iopub.status.busy": "2023-08-11T04:59:20.437961Z",
     "iopub.status.idle": "2023-08-11T04:59:20.445396Z",
     "shell.execute_reply": "2023-08-11T04:59:20.443977Z"
    },
    "papermill": {
     "duration": 0.124604,
     "end_time": "2023-08-11T04:59:20.448424",
     "exception": false,
     "start_time": "2023-08-11T04:59:20.323820",
     "status": "completed"
    },
    "tags": []
   },
   "outputs": [
    {
     "name": "stdout",
     "output_type": "stream",
     "text": [
      "Number of estimators: 1\n",
      "\n",
      "Estimator: classifier_1\n",
      "{'model__alpha': 0.0001, 'model__penalty': 'l2', 'model__tol': 0.0001}\n",
      "0.8372123194404963\n",
      "154.76871705055237\n",
      "\n"
     ]
    }
   ],
   "source": [
    "print(f\"Number of estimators: {len(estimators)}\\n\")\n",
    "for est in estimators:\n",
    "    print(f\"Estimator: {est[0]}\")\n",
    "#     print(est[1].best_estimator_)\n",
    "    print(est[1].best_params_)\n",
    "    print(est[1].best_score_)\n",
    "    print(est[1].refit_time_)\n",
    "    print()"
   ]
  },
  {
   "cell_type": "code",
   "execution_count": 110,
   "id": "263bf054",
   "metadata": {
    "execution": {
     "iopub.execute_input": "2023-08-11T04:59:20.666955Z",
     "iopub.status.busy": "2023-08-11T04:59:20.666477Z",
     "iopub.status.idle": "2023-08-11T04:59:20.672917Z",
     "shell.execute_reply": "2023-08-11T04:59:20.671837Z"
    },
    "papermill": {
     "duration": 0.120374,
     "end_time": "2023-08-11T04:59:20.676471",
     "exception": false,
     "start_time": "2023-08-11T04:59:20.556097",
     "status": "completed"
    },
    "tags": []
   },
   "outputs": [],
   "source": [
    "# Testing full capabilites of submit_v5  \n",
    "\n",
    "# # Feature dictionaries\n",
    "# sf1 = {'cat': ['isFrequentReviewer', 'rating'],\n",
    "#        'num': [\"audienceScore\", \"runtimeMinutes\", \"boxOffice\"]}\n",
    "\n",
    "# sf2 = {'cat': ['isFrequentReviewer', 'rating'],\n",
    "#        'num': [\"audienceScore\", \"runtimeMinutes\", \"boxOffice\"]}\n",
    "\n",
    "# sf3 = {'cat': ['isFrequentReviewer'],\n",
    "#         'num': ['releaseDiff', 'audienceScore', 'boxOffice'],\n",
    "#         'txt': ['reviewText', 'reviewerName', 'movieid', 'genre', 'director', \n",
    "#                          'ratingContents', 'distributor']}\n",
    "\n",
    "# # Individual classifiers\n",
    "# clf1 =  {'selected_model' : AdaBoostClassifier(), \n",
    "#           'selected_features' : sf1, \n",
    "#           'param_grid' : {\"model__n_estimators\": [50]},\n",
    "#           'vocab' : None,\n",
    "#           'vocab_usage' : 'tfidf',\n",
    "#           'strip_accents' : 'unicode', \n",
    "#           'add_countvec' : False}\n",
    "\n",
    "# clf2 =  {'selected_model' : RandomForestClassifier(), \n",
    "#           'selected_features' : sf2,\n",
    "#           'param_grid' : {\"model__n_estimators\": [50], \n",
    "#                           'model__criterion': ['gini']},\n",
    "#           'vocab' : None,\n",
    "#           'vocab_usage' : 'tfidf',\n",
    "#           'strip_accents' : 'unicode', \n",
    "#           'add_countvec' : False}\n",
    "\n",
    "# clf3 =  {'selected_model' : LogisticRegression(C=1, solver='saga', max_iter=100000), \n",
    "#           'selected_features' : sf3, \n",
    "#           'param_grid' : {'model__C' : [1],\n",
    "#                             'model__solver': ['saga'],\n",
    "#                             \"model__fit_intercept\" : [True],\n",
    "#                             \"model__dual\" : [False]},\n",
    "#           'vocab' : None,\n",
    "#           'vocab_usage' : 'tfidf',\n",
    "#           'strip_accents' : 'unicode', \n",
    "#           'add_countvec' : True}\n",
    "\n",
    "\n",
    "# # List of classifiers for voting\n",
    "# classifiers= [clf1, clf2, clf3]\n",
    "\n",
    "# # Final predictions \n",
    "# pred_df = submit_v5(classifiers=classifiers)"
   ]
  },
  {
   "cell_type": "code",
   "execution_count": 111,
   "id": "39cbeb39",
   "metadata": {
    "execution": {
     "iopub.execute_input": "2023-08-11T04:59:20.897964Z",
     "iopub.status.busy": "2023-08-11T04:59:20.897248Z",
     "iopub.status.idle": "2023-08-11T04:59:20.913058Z",
     "shell.execute_reply": "2023-08-11T04:59:20.911472Z"
    },
    "papermill": {
     "duration": 0.128638,
     "end_time": "2023-08-11T04:59:20.915457",
     "exception": false,
     "start_time": "2023-08-11T04:59:20.786819",
     "status": "completed"
    },
    "tags": []
   },
   "outputs": [
    {
     "name": "stdout",
     "output_type": "stream",
     "text": [
      "(55315, 1)\n"
     ]
    },
    {
     "data": {
      "text/html": [
       "<div>\n",
       "<style scoped>\n",
       "    .dataframe tbody tr th:only-of-type {\n",
       "        vertical-align: middle;\n",
       "    }\n",
       "\n",
       "    .dataframe tbody tr th {\n",
       "        vertical-align: top;\n",
       "    }\n",
       "\n",
       "    .dataframe thead th {\n",
       "        text-align: right;\n",
       "    }\n",
       "</style>\n",
       "<table border=\"1\" class=\"dataframe\">\n",
       "  <thead>\n",
       "    <tr style=\"text-align: right;\">\n",
       "      <th></th>\n",
       "      <th>sentiment</th>\n",
       "    </tr>\n",
       "    <tr>\n",
       "      <th>id</th>\n",
       "      <th></th>\n",
       "    </tr>\n",
       "  </thead>\n",
       "  <tbody>\n",
       "    <tr>\n",
       "      <th>0</th>\n",
       "      <td>POSITIVE</td>\n",
       "    </tr>\n",
       "    <tr>\n",
       "      <th>1</th>\n",
       "      <td>POSITIVE</td>\n",
       "    </tr>\n",
       "    <tr>\n",
       "      <th>2</th>\n",
       "      <td>POSITIVE</td>\n",
       "    </tr>\n",
       "    <tr>\n",
       "      <th>3</th>\n",
       "      <td>POSITIVE</td>\n",
       "    </tr>\n",
       "    <tr>\n",
       "      <th>4</th>\n",
       "      <td>POSITIVE</td>\n",
       "    </tr>\n",
       "    <tr>\n",
       "      <th>...</th>\n",
       "      <td>...</td>\n",
       "    </tr>\n",
       "    <tr>\n",
       "      <th>55310</th>\n",
       "      <td>POSITIVE</td>\n",
       "    </tr>\n",
       "    <tr>\n",
       "      <th>55311</th>\n",
       "      <td>POSITIVE</td>\n",
       "    </tr>\n",
       "    <tr>\n",
       "      <th>55312</th>\n",
       "      <td>NEGATIVE</td>\n",
       "    </tr>\n",
       "    <tr>\n",
       "      <th>55313</th>\n",
       "      <td>POSITIVE</td>\n",
       "    </tr>\n",
       "    <tr>\n",
       "      <th>55314</th>\n",
       "      <td>NEGATIVE</td>\n",
       "    </tr>\n",
       "  </tbody>\n",
       "</table>\n",
       "<p>55315 rows × 1 columns</p>\n",
       "</div>"
      ],
      "text/plain": [
       "      sentiment\n",
       "id             \n",
       "0      POSITIVE\n",
       "1      POSITIVE\n",
       "2      POSITIVE\n",
       "3      POSITIVE\n",
       "4      POSITIVE\n",
       "...         ...\n",
       "55310  POSITIVE\n",
       "55311  POSITIVE\n",
       "55312  NEGATIVE\n",
       "55313  POSITIVE\n",
       "55314  NEGATIVE\n",
       "\n",
       "[55315 rows x 1 columns]"
      ]
     },
     "execution_count": 111,
     "metadata": {},
     "output_type": "execute_result"
    }
   ],
   "source": [
    "print(pred_df.shape)\n",
    "pred_df"
   ]
  },
  {
   "cell_type": "code",
   "execution_count": 112,
   "id": "08c809b9",
   "metadata": {
    "execution": {
     "iopub.execute_input": "2023-08-11T04:59:21.138444Z",
     "iopub.status.busy": "2023-08-11T04:59:21.137484Z",
     "iopub.status.idle": "2023-08-11T04:59:21.144237Z",
     "shell.execute_reply": "2023-08-11T04:59:21.142643Z"
    },
    "papermill": {
     "duration": 0.121394,
     "end_time": "2023-08-11T04:59:21.147154",
     "exception": false,
     "start_time": "2023-08-11T04:59:21.025760",
     "status": "completed"
    },
    "tags": []
   },
   "outputs": [],
   "source": [
    "# pred_df_mode = pred_df.mode(axis='columns')\n",
    "# print(pred_df_mode.shape)\n",
    "# pred_df_mode"
   ]
  },
  {
   "cell_type": "code",
   "execution_count": 113,
   "id": "5fb51bfb",
   "metadata": {
    "execution": {
     "iopub.execute_input": "2023-08-11T04:59:21.367027Z",
     "iopub.status.busy": "2023-08-11T04:59:21.365897Z",
     "iopub.status.idle": "2023-08-11T04:59:21.387647Z",
     "shell.execute_reply": "2023-08-11T04:59:21.386381Z"
    },
    "papermill": {
     "duration": 0.134124,
     "end_time": "2023-08-11T04:59:21.390225",
     "exception": false,
     "start_time": "2023-08-11T04:59:21.256101",
     "status": "completed"
    },
    "tags": []
   },
   "outputs": [
    {
     "data": {
      "text/plain": [
       "sentiment\n",
       "POSITIVE     40370\n",
       "NEGATIVE     14945\n",
       "dtype: int64"
      ]
     },
     "execution_count": 113,
     "metadata": {},
     "output_type": "execute_result"
    }
   ],
   "source": [
    "pred_df.value_counts()"
   ]
  },
  {
   "cell_type": "markdown",
   "id": "2b360519",
   "metadata": {
    "papermill": {
     "duration": 0.110008,
     "end_time": "2023-08-11T04:59:21.610847",
     "exception": false,
     "start_time": "2023-08-11T04:59:21.500839",
     "status": "completed"
    },
    "tags": []
   },
   "source": [
    "# NOTE: Move submit_v4 submissions below the suubmit_v4 function  "
   ]
  },
  {
   "cell_type": "code",
   "execution_count": 114,
   "id": "0c30c807",
   "metadata": {
    "execution": {
     "iopub.execute_input": "2023-08-11T04:59:21.835710Z",
     "iopub.status.busy": "2023-08-11T04:59:21.834813Z",
     "iopub.status.idle": "2023-08-11T04:59:21.840287Z",
     "shell.execute_reply": "2023-08-11T04:59:21.839385Z"
    },
    "papermill": {
     "duration": 0.119362,
     "end_time": "2023-08-11T04:59:21.842798",
     "exception": false,
     "start_time": "2023-08-11T04:59:21.723436",
     "status": "completed"
    },
    "tags": []
   },
   "outputs": [],
   "source": [
    "# Try 'submit_v4' function with default params (LogisticRegression model)  \n",
    "\n",
    "# submit_v4()\n",
    "\n",
    "#Default params to this function gave a score of 0.8259 - improvement over previous score of 0.82563!"
   ]
  },
  {
   "cell_type": "code",
   "execution_count": 115,
   "id": "cd953449",
   "metadata": {
    "execution": {
     "iopub.execute_input": "2023-08-11T04:59:22.062977Z",
     "iopub.status.busy": "2023-08-11T04:59:22.062487Z",
     "iopub.status.idle": "2023-08-11T04:59:22.068065Z",
     "shell.execute_reply": "2023-08-11T04:59:22.066922Z"
    },
    "papermill": {
     "duration": 0.118871,
     "end_time": "2023-08-11T04:59:22.070814",
     "exception": false,
     "start_time": "2023-08-11T04:59:21.951943",
     "status": "completed"
    },
    "tags": []
   },
   "outputs": [],
   "source": [
    "# Try out GridSearchCV on \"submit_v4\" function with param_grid  \n",
    "# param_grid = {\n",
    "#     \"model__C\": [0.1, 1, 5, 10]\n",
    "# }\n",
    "\n",
    "# submit_v4(selected_features={'txt': ['genre']}, param_grid=param_grid)"
   ]
  },
  {
   "cell_type": "markdown",
   "id": "547bd98d",
   "metadata": {
    "papermill": {
     "duration": 0.109899,
     "end_time": "2023-08-11T04:59:22.292729",
     "exception": false,
     "start_time": "2023-08-11T04:59:22.182830",
     "status": "completed"
    },
    "tags": []
   },
   "source": [
    "### Try LinearSVC with GridSearchCV  "
   ]
  },
  {
   "cell_type": "code",
   "execution_count": 116,
   "id": "2d6dfb5c",
   "metadata": {
    "execution": {
     "iopub.execute_input": "2023-08-11T04:59:22.511795Z",
     "iopub.status.busy": "2023-08-11T04:59:22.510953Z",
     "iopub.status.idle": "2023-08-11T04:59:22.515952Z",
     "shell.execute_reply": "2023-08-11T04:59:22.515127Z"
    },
    "papermill": {
     "duration": 0.117379,
     "end_time": "2023-08-11T04:59:22.518306",
     "exception": false,
     "start_time": "2023-08-11T04:59:22.400927",
     "status": "completed"
    },
    "tags": []
   },
   "outputs": [],
   "source": [
    "# all_dict = {'cat': [\"isFrequentReviewer\", \"rating\", \"originalLanguage\"],\n",
    "#              'num': [\"audienceScore\", \"runtimeMinutes\", \"boxOffice\"],\n",
    "#              'txt': ['reviewText', 'reviewerName', 'movieid', 'genre', 'director']}\n",
    "\n",
    "# param_grid_svc = {\n",
    "#     \"model__C\": [0.1, 1, 10, 100]\n",
    "# }\n",
    "# param_grid_svc"
   ]
  },
  {
   "cell_type": "code",
   "execution_count": 117,
   "id": "e1d4dc5f",
   "metadata": {
    "execution": {
     "iopub.execute_input": "2023-08-11T04:59:22.739102Z",
     "iopub.status.busy": "2023-08-11T04:59:22.737955Z",
     "iopub.status.idle": "2023-08-11T04:59:22.743614Z",
     "shell.execute_reply": "2023-08-11T04:59:22.742636Z"
    },
    "papermill": {
     "duration": 0.12009,
     "end_time": "2023-08-11T04:59:22.746168",
     "exception": false,
     "start_time": "2023-08-11T04:59:22.626078",
     "status": "completed"
    },
    "tags": []
   },
   "outputs": [],
   "source": [
    "# LinearSCV on single feature  \n",
    "\n",
    "# submit_v4(selected_model=LinearSVC(max_iter=100000, random_state=42), selected_features={'num': [\"audienceScore\"]}, param_grid=param_grid_svc)\n",
    "\n",
    "# Comment: LinearSVC even on single column feature set takes too long to converge."
   ]
  },
  {
   "cell_type": "code",
   "execution_count": 118,
   "id": "2358eefd",
   "metadata": {
    "execution": {
     "iopub.execute_input": "2023-08-11T04:59:22.968150Z",
     "iopub.status.busy": "2023-08-11T04:59:22.966603Z",
     "iopub.status.idle": "2023-08-11T04:59:22.972043Z",
     "shell.execute_reply": "2023-08-11T04:59:22.970909Z"
    },
    "papermill": {
     "duration": 0.119175,
     "end_time": "2023-08-11T04:59:22.974471",
     "exception": false,
     "start_time": "2023-08-11T04:59:22.855296",
     "status": "completed"
    },
    "tags": []
   },
   "outputs": [],
   "source": [
    "# LinearSCV on all available features\n",
    "\n",
    "# submit_v4(selected_model=LinearSVC(max_iter=100000, random_state=42), selected_features=all_dict, param_grid=param_grid_svc)\n",
    "\n",
    "# (Update): This took 66 mins to run and gave a public score of 0.84295 (lesser than logreg gridsearchcv wwhich gave 0.84441). Best C was 1.0.\n"
   ]
  },
  {
   "cell_type": "markdown",
   "id": "788f169b",
   "metadata": {
    "papermill": {
     "duration": 0.110046,
     "end_time": "2023-08-11T04:59:23.194815",
     "exception": false,
     "start_time": "2023-08-11T04:59:23.084769",
     "status": "completed"
    },
    "tags": []
   },
   "source": [
    "### Boosting techniques  "
   ]
  },
  {
   "cell_type": "code",
   "execution_count": 119,
   "id": "0330bcf2",
   "metadata": {
    "execution": {
     "iopub.execute_input": "2023-08-11T04:59:23.415407Z",
     "iopub.status.busy": "2023-08-11T04:59:23.414534Z",
     "iopub.status.idle": "2023-08-11T04:59:23.419833Z",
     "shell.execute_reply": "2023-08-11T04:59:23.418852Z"
    },
    "papermill": {
     "duration": 0.118853,
     "end_time": "2023-08-11T04:59:23.422308",
     "exception": false,
     "start_time": "2023-08-11T04:59:23.303455",
     "status": "completed"
    },
    "tags": []
   },
   "outputs": [],
   "source": [
    "# adc = AdaBoostClassifier(estimator=LogisticRegression(C=5, solver=\"saga\", max_iter=100000), n_estimators=50)\n",
    "# adc"
   ]
  },
  {
   "cell_type": "code",
   "execution_count": 120,
   "id": "e32a6436",
   "metadata": {
    "execution": {
     "iopub.execute_input": "2023-08-11T04:59:23.644832Z",
     "iopub.status.busy": "2023-08-11T04:59:23.643416Z",
     "iopub.status.idle": "2023-08-11T04:59:23.649389Z",
     "shell.execute_reply": "2023-08-11T04:59:23.648154Z"
    },
    "papermill": {
     "duration": 0.120127,
     "end_time": "2023-08-11T04:59:23.651886",
     "exception": false,
     "start_time": "2023-08-11T04:59:23.531759",
     "status": "completed"
    },
    "tags": []
   },
   "outputs": [],
   "source": [
    "# submit_v4(selected_model=adc, selected_features={'num': [\"audienceScore\"]}, param_grid=None)"
   ]
  },
  {
   "cell_type": "code",
   "execution_count": 121,
   "id": "26f328b5",
   "metadata": {
    "execution": {
     "iopub.execute_input": "2023-08-11T04:59:23.875389Z",
     "iopub.status.busy": "2023-08-11T04:59:23.874515Z",
     "iopub.status.idle": "2023-08-11T04:59:23.879431Z",
     "shell.execute_reply": "2023-08-11T04:59:23.878548Z"
    },
    "papermill": {
     "duration": 0.120035,
     "end_time": "2023-08-11T04:59:23.881872",
     "exception": false,
     "start_time": "2023-08-11T04:59:23.761837",
     "status": "completed"
    },
    "tags": []
   },
   "outputs": [],
   "source": [
    "# submit_v4(selected_model=adc, selected_features=all_dict, param_grid=None)\n",
    "\n",
    "# Took 1 hour 15 mins to run and gave a public score of only 0.71089. Discarded."
   ]
  },
  {
   "cell_type": "markdown",
   "id": "b3b0b6bc",
   "metadata": {
    "papermill": {
     "duration": 0.110511,
     "end_time": "2023-08-11T04:59:24.103005",
     "exception": false,
     "start_time": "2023-08-11T04:59:23.992494",
     "status": "completed"
    },
    "tags": []
   },
   "source": [
    "### LightGBM  "
   ]
  },
  {
   "cell_type": "code",
   "execution_count": 122,
   "id": "30a0e84a",
   "metadata": {
    "execution": {
     "iopub.execute_input": "2023-08-11T04:59:24.330865Z",
     "iopub.status.busy": "2023-08-11T04:59:24.329968Z",
     "iopub.status.idle": "2023-08-11T04:59:24.335150Z",
     "shell.execute_reply": "2023-08-11T04:59:24.334159Z"
    },
    "papermill": {
     "duration": 0.118642,
     "end_time": "2023-08-11T04:59:24.337777",
     "exception": false,
     "start_time": "2023-08-11T04:59:24.219135",
     "status": "completed"
    },
    "tags": []
   },
   "outputs": [],
   "source": [
    "# lgb = ltb.LGBMClassifier()\n",
    "# lgb"
   ]
  },
  {
   "cell_type": "code",
   "execution_count": 123,
   "id": "1b2e6fb8",
   "metadata": {
    "execution": {
     "iopub.execute_input": "2023-08-11T04:59:24.559862Z",
     "iopub.status.busy": "2023-08-11T04:59:24.558991Z",
     "iopub.status.idle": "2023-08-11T04:59:24.564304Z",
     "shell.execute_reply": "2023-08-11T04:59:24.563410Z"
    },
    "papermill": {
     "duration": 0.119588,
     "end_time": "2023-08-11T04:59:24.566765",
     "exception": false,
     "start_time": "2023-08-11T04:59:24.447177",
     "status": "completed"
    },
    "tags": []
   },
   "outputs": [],
   "source": [
    "# Try LightGBM with default settings\n",
    "# (Update): Public score only 0.77713. It was fast, took less than 5 mins (without GridSearchCV)\n",
    "\n",
    "# submit_v4(selected_model=ltb.LGBMClassifier(), selected_features=all_dict, param_grid=None)"
   ]
  },
  {
   "cell_type": "markdown",
   "id": "b38c2629",
   "metadata": {
    "papermill": {
     "duration": 0.111249,
     "end_time": "2023-08-11T04:59:24.787530",
     "exception": false,
     "start_time": "2023-08-11T04:59:24.676281",
     "status": "completed"
    },
    "tags": []
   },
   "source": [
    "## Feature Engineering"
   ]
  },
  {
   "cell_type": "markdown",
   "id": "241e6967",
   "metadata": {
    "papermill": {
     "duration": 0.112303,
     "end_time": "2023-08-11T04:59:25.012625",
     "exception": false,
     "start_time": "2023-08-11T04:59:24.900322",
     "status": "completed"
    },
    "tags": []
   },
   "source": [
    "### Plan  \n",
    "* Add a new column 'reviewWC' which has word count of 'reviewText'  \n",
    "    * Check if there is any relationship between 'reviewWC' and 'sentiment'\n",
    "* Work on vocabulary\n",
    "     * Use TfidfVectorizer and find out the vocabulary of 'reviewText' column for various ngrams\n",
    "     * Use RecursiveFeatureElimination (RFE) or RFECV to select 1000 top words/vocab for each ngram\n",
    "     * Use the final vocab (1000-3000 words) in the model and see how it performs compared to whole vocab\n",
    "\n",
    "`(Update): Code incorporated into the \"select_features\" function  `  \n",
    "`(Update): Many other new features incorporated into the \"select_features\" function too  `  \n",
    "\n"
   ]
  },
  {
   "cell_type": "markdown",
   "id": "28e2e4f7",
   "metadata": {
    "papermill": {
     "duration": 0.114491,
     "end_time": "2023-08-11T04:59:25.235772",
     "exception": false,
     "start_time": "2023-08-11T04:59:25.121281",
     "status": "completed"
    },
    "tags": []
   },
   "source": [
    "# Back to vocab after success of version 63  "
   ]
  },
  {
   "cell_type": "code",
   "execution_count": 124,
   "id": "206fd1dd",
   "metadata": {
    "execution": {
     "iopub.execute_input": "2023-08-11T04:59:25.460382Z",
     "iopub.status.busy": "2023-08-11T04:59:25.459498Z",
     "iopub.status.idle": "2023-08-11T04:59:25.482919Z",
     "shell.execute_reply": "2023-08-11T04:59:25.481830Z"
    },
    "papermill": {
     "duration": 0.137759,
     "end_time": "2023-08-11T04:59:25.485689",
     "exception": false,
     "start_time": "2023-08-11T04:59:25.347930",
     "status": "completed"
    },
    "tags": []
   },
   "outputs": [],
   "source": [
    "def submit_v4(selected_model=LogisticRegression(C=1, solver='liblinear', max_iter=100000), \n",
    "              selected_features={'txt': ['reviewText']}, \n",
    "              param_grid=None,\n",
    "              vocab=None,\n",
    "              vocab_usage='tfidf',\n",
    "              strip_accents='unicode', \n",
    "              add_countvec=False):\n",
    "    \n",
    "    print(\"\\nRunning the submit_v4 function...\")\n",
    "    \n",
    "    # Fine tune selected_features\n",
    "    if add_countvec:\n",
    "        if 'txt' in selected_features.keys():\n",
    "            if \"reviewText_2\" not in selected_features['txt']:\n",
    "                selected_features['txt'].append('reviewText_2')\n",
    "    if vocab:\n",
    "        if 'txt' in selected_features.keys():\n",
    "            if \"reviewText_3\" not in selected_features['txt']:\n",
    "                selected_features['txt'].append('reviewText_3')\n",
    "    print(f\"\\nSelected features: {selected_features}\")\n",
    "\n",
    "    \n",
    "    \n",
    "    # Build Pipeline\n",
    "    pipe = build_pipeline(selected_model, selected_features, param_grid=param_grid, \n",
    "                          vocab=vocab, vocab_usage='tfidf', \n",
    "                          strip_accents=strip_accents, add_countvec=add_countvec)\n",
    "    print(pipe)\n",
    "\n",
    "    \n",
    "    \n",
    "    # Features list\n",
    "    features = []\n",
    "    for item in selected_features.values():\n",
    "        features.extend(item)\n",
    " \n",
    "\n",
    "    # Merge and preprocess train and movies data  \n",
    "    merged = select_features(load_csv(\"train\"), load_csv(\"movies\"), row_thresh_null=None)    # Decide if you want to drop any rows containing lot of nulls\n",
    "    # Impute missing numerical values  \n",
    "    # Simple Imputer for ['audienceScore', 'runtimeMinutes', 'boxOffice'] and 'releaseDate' columns\n",
    "    si = SimpleImputer(strategy='median')\n",
    "    merged[['audienceScore', 'runtimeMinutes', 'boxOffice']] = si.fit_transform(merged[['audienceScore', 'runtimeMinutes', 'boxOffice']])\n",
    "    merged['releaseDate'] = merged[\"releaseDate\"].fillna(merged[\"releaseDate\"].median())    \n",
    "    # Add new columns as needed  \n",
    "    if add_countvec:\n",
    "        merged['reviewText_2'] = merged['reviewText']\n",
    "    if vocab:\n",
    "        merged['reviewText_3'] = merged['reviewText']\n",
    "        \n",
    "    X_train = merged.drop(labels=\"sentiment\", axis=1)\n",
    "    y_train = merged[\"sentiment\"]\n",
    "\n",
    "    X_train = X_train[features]\n",
    "    \n",
    "    \n",
    "    # Check1\n",
    "    print(\"\\nCheck 1 complete.\")\n",
    "    print(f\"Shape of X_train: {X_train.shape}\")\n",
    "    print(f\"Features in X_train: {X_train.columns}\")\n",
    "#     print(X_train.head())\n",
    "    \n",
    "    \n",
    "    # Fit \n",
    "    print(\"\\nTraining started with full pipeline...\")\n",
    "    pipe.fit(X_train, y_train)\n",
    "    \n",
    "    # Check2\n",
    "    print(\"\\nCheck 2 complete.\")\n",
    "    print(\"Details of the best model using full pipeline (GridSearchCV) on X_train: \")\n",
    "    print(f\"Best Params: {pipe.best_params_}\")\n",
    "    print(f\"Best Score: {pipe.best_score_}\")\n",
    "    \n",
    "    print(predict_on_missing_review_data(pipe, features, merged))    # Function defined above\n",
    "    \n",
    "        \n",
    "    # Predict on test.csv file\n",
    "    \n",
    "    # Merge and preprocess test and movies data  \n",
    "    merged_test = select_features(load_csv(\"test\"), load_csv(\"movies\"))\n",
    "    # Transform ['audienceScore', 'runtimeMinutes', 'boxOffice'] columns in merged_test using 'si' fitted on 'merged' df  \n",
    "    merged_test[['audienceScore', 'runtimeMinutes', 'boxOffice']] = si.transform(merged_test[['audienceScore', 'runtimeMinutes', 'boxOffice']])\n",
    "    # Fill 'releaseDate' column in 'merged_test' df with median from the train (merged) df  \n",
    "    merged_test['releaseDate'] = merged_test[\"releaseDate\"].fillna(merged[\"releaseDate\"].median())\n",
    "    # Add new columns as needed \n",
    "    if add_countvec:\n",
    "        merged_test['reviewText_2'] = merged_test['reviewText']\n",
    "    if vocab:\n",
    "        merged_test['reviewText_3'] = merged_test['reviewText']\n",
    "        \n",
    "    X_test = merged_test.copy()\n",
    "\n",
    "    X_test = X_test[features]\n",
    "    \n",
    "    \n",
    "    # Check3\n",
    "    print(\"\\nCheck 3 complete.\")\n",
    "    print(f\"Shape of X_test: {X_test.shape}\")\n",
    "    print(f\"Features in X_test: {X_test.columns}\")\n",
    "#     print(X_test.head())\n",
    "    \n",
    "    y_pred = pipe.predict(X_test)\n",
    "    \n",
    "    # Check4\n",
    "    print(\"\\nCheck 4 complete.\")\n",
    "#     cv_results_df = pd.DataFrame(pipe.cv_results_)\n",
    "    print(\"Details of the best model using full pipeline (GridSearchCV) on X_train: \")\n",
    "    print(f\"Best Estimator: {pipe.best_estimator_}\")\n",
    "    print(f\"Best Params: {pipe.best_params_}\")\n",
    "    print(f\"Best Score: {pipe.best_score_}\")\n",
    "    print(f\"Best Index: {pipe.best_index_}\")\n",
    "    print(f\"Refit Time: {pipe.refit_time_}\")\n",
    "#     print(f\"Shape of CV results dataframe: {cv_results_df.shape}\")\n",
    "    \n",
    "    pred_df = pd.DataFrame(y_pred)\n",
    "    pred_df.columns = [\"sentiment\"]\n",
    "    pred_df.index.name = \"id\"\n",
    "    pred_df.to_csv(\"submission.csv\")\n",
    "    \n",
    "    print(\"\\nSuccessfully created the submission file!!!\")\n",
    "    \n",
    "    return pipe.cv_results_"
   ]
  },
  {
   "cell_type": "code",
   "execution_count": 125,
   "id": "86d6ad3f",
   "metadata": {
    "execution": {
     "iopub.execute_input": "2023-08-11T04:59:25.714863Z",
     "iopub.status.busy": "2023-08-11T04:59:25.714120Z",
     "iopub.status.idle": "2023-08-11T04:59:25.721317Z",
     "shell.execute_reply": "2023-08-11T04:59:25.719895Z"
    },
    "papermill": {
     "duration": 0.127611,
     "end_time": "2023-08-11T04:59:25.723835",
     "exception": false,
     "start_time": "2023-08-11T04:59:25.596224",
     "status": "completed"
    },
    "tags": []
   },
   "outputs": [
    {
     "data": {
      "text/plain": [
       "Index(['movieid', 'reviewerName', 'isFrequentReviewer', 'reviewText',\n",
       "       'sentiment', 'title', 'audienceScore', 'rating', 'ratingContents',\n",
       "       'releaseDateTheaters', 'releaseDateStreaming', 'runtimeMinutes',\n",
       "       'genre', 'originalLanguage', 'director', 'boxOffice', 'distributor',\n",
       "       'soundType', 'reviewYN', 'reviewWC', 'genreSorted', 'rcSorted',\n",
       "       'releaseDate', 'releaseYear', 'releaseMonth', 'releaseDiff',\n",
       "       'audScoreBins', 'runtimeBins', 'boxOfficeBins', 'releaseDiffBins'],\n",
       "      dtype='object')"
      ]
     },
     "execution_count": 125,
     "metadata": {},
     "output_type": "execute_result"
    }
   ],
   "source": [
    "merged.columns"
   ]
  },
  {
   "cell_type": "code",
   "execution_count": 126,
   "id": "df238e20",
   "metadata": {
    "execution": {
     "iopub.execute_input": "2023-08-11T04:59:25.973808Z",
     "iopub.status.busy": "2023-08-11T04:59:25.973349Z",
     "iopub.status.idle": "2023-08-11T04:59:25.985463Z",
     "shell.execute_reply": "2023-08-11T04:59:25.983941Z"
    },
    "papermill": {
     "duration": 0.151791,
     "end_time": "2023-08-11T04:59:25.988071",
     "exception": false,
     "start_time": "2023-08-11T04:59:25.836280",
     "status": "completed"
    },
    "tags": []
   },
   "outputs": [],
   "source": [
    "# Best #2\n",
    "v80_dict = {'cat': ['isFrequentReviewer', 'audScoreBins', 'boxOfficeBins'], \n",
    "                  'txt': ['reviewText', 'reviewerName', 'movieid', 'genre', 'director', \n",
    "                          'ratingContents', 'distributor']}\n",
    "# Best #1\n",
    "v88_dict = {'cat': ['isFrequentReviewer', 'audScoreBins', 'boxOfficeBins'],\n",
    "            'num': ['releaseDiff'],\n",
    "            'txt': ['reviewText', 'reviewerName', 'movieid', 'genre', 'director', \n",
    "                         'ratingContents', 'distributor']}\n",
    "\n",
    "v92_dict = {'cat': ['isFrequentReviewer', 'audScoreBins', 'boxOfficeBins', 'releaseDiffBins'],\n",
    "            'txt': ['reviewText', 'reviewerName', 'title', 'genre', 'director', \n",
    "                         'ratingContents', 'distributor']}\n",
    "\n",
    "# Best univariable datapoints dict\n",
    "best_uni_dict = {'cat': [\"isFrequentReviewer\", \"audScoreBins\"],\n",
    "                 'txt': ['reviewText','movieid', 'director', \"ratingContents\"]}\n",
    "\n",
    "# param_grids for LogisticRegression  \n",
    "\n",
    "# Best #1  \n",
    "# param_grid = {\n",
    "#     'model__C' : [1],\n",
    "#     'model__solver': ['saga'],\n",
    "#     \"model__fit_intercept\" : [True],\n",
    "#     \"model__dual\" : [False]\n",
    "#     }\n",
    "\n",
    "# working\n",
    "param_grid = {\n",
    "    'model__C' : [1],\n",
    "    'model__solver': ['saga'],\n",
    "    \"model__fit_intercept\" : [True],\n",
    "    \"model__dual\" : [False],\n",
    "#     \"model__class_weight\": ['balanced', None]\n",
    "}\n",
    "\n",
    "\n",
    "# param_grids for LinearSVC  \n",
    "\n",
    "# param_grid = {\n",
    "#     'model__C' : [1, 10, 20],\n",
    "#     'model__loss': ['hinge', 'squared_hinge'],\n",
    "#     \"model__fit_intercept\" : [True, False],\n",
    "# #     \"model__dual\" : [True, False] \n",
    "# }\n",
    "\n",
    "svm = LinearSVC(max_iter=10000, random_state=42)    # LinearSVC\n",
    "\n",
    "\n",
    "# Local testing\n",
    "# selected_mov = {'num': ['audienceScore', 'boxOffice', 'releaseDiff'], \n",
    "#                 'txt': ['movieid', 'genre', 'director', \n",
    "#                          'ratingContents', 'distributor']}\n",
    "# results = submit_v4(\n",
    "#             selected_features={'num': ['boxOffice']},\n",
    "#             add_countvec=False,\n",
    "#             vocab=None,\n",
    "#             vocab_usage='tfidf',\n",
    "#             param_grid=param_grid\n",
    "#          )\n",
    "\n",
    "# results = submit_v4(selected_model = DummyClassifier(strategy='constant', constant='NEGATIVE'),\n",
    "#             selected_features={'num': ['boxOffice']},\n",
    "#             add_countvec=False,\n",
    "#             vocab=None,\n",
    "#             vocab_usage='tfidf',\n",
    "#             param_grid={'model__strategy' : ['constant']}\n",
    "#          )\n",
    "\n",
    "# Main submission\n",
    "\n",
    "# results = submit_v4(\n",
    "#     selected_features=v88_dict,\n",
    "#     add_countvec=False,\n",
    "#     vocab=common_1_2_3_grams,\n",
    "#     vocab_usage='tfidf',\n",
    "#     param_grid=param_grid\n",
    "#     )\n",
    "\n",
    "# results"
   ]
  },
  {
   "cell_type": "markdown",
   "id": "731df6cc",
   "metadata": {
    "papermill": {
     "duration": 0.114895,
     "end_time": "2023-08-11T04:59:26.214294",
     "exception": false,
     "start_time": "2023-08-11T04:59:26.099399",
     "status": "completed"
    },
    "tags": []
   },
   "source": [
    "### ratingContents analysis  "
   ]
  },
  {
   "cell_type": "code",
   "execution_count": 127,
   "id": "ad8e33b9",
   "metadata": {
    "execution": {
     "iopub.execute_input": "2023-08-11T04:59:26.442060Z",
     "iopub.status.busy": "2023-08-11T04:59:26.441101Z",
     "iopub.status.idle": "2023-08-11T04:59:26.446271Z",
     "shell.execute_reply": "2023-08-11T04:59:26.445366Z"
    },
    "papermill": {
     "duration": 0.124081,
     "end_time": "2023-08-11T04:59:26.448762",
     "exception": false,
     "start_time": "2023-08-11T04:59:26.324681",
     "status": "completed"
    },
    "tags": []
   },
   "outputs": [],
   "source": [
    "# Try string split  \n",
    "# s = \"comedy, animation, adventure, fantasy\"\n",
    "# (\",\").join(sorted(s.split(\", \")))"
   ]
  },
  {
   "cell_type": "code",
   "execution_count": 128,
   "id": "9043b120",
   "metadata": {
    "execution": {
     "iopub.execute_input": "2023-08-11T04:59:26.669321Z",
     "iopub.status.busy": "2023-08-11T04:59:26.668464Z",
     "iopub.status.idle": "2023-08-11T04:59:26.673771Z",
     "shell.execute_reply": "2023-08-11T04:59:26.672806Z"
    },
    "papermill": {
     "duration": 0.117273,
     "end_time": "2023-08-11T04:59:26.676201",
     "exception": false,
     "start_time": "2023-08-11T04:59:26.558928",
     "status": "completed"
    },
    "tags": []
   },
   "outputs": [],
   "source": [
    "# ratingContents_analysis = merged[[\"ratingContents\", \"sentiment\"]].copy()\n",
    "# print(ratingContents_analysis.head())\n",
    "# ratingContents_analysis[\"rcSorted\"] = ratingContents_analysis[\"ratingContents\"].apply(lambda x: (\",\").join(sorted(x.strip(\"][\").split(\", \"))))\n",
    "# ratingContents_analysis[\"rcSorted\"] = ratingContents_analysis[\"rcSorted\"].apply(lambda x: re.sub(r\"'\", \"\", x))\n",
    "# ratingContents_analysis[\"rcSorted\"] = ratingContents_analysis[\"rcSorted\"].apply(lambda x: re.sub(r\"[/\\s]\", \"_\", x))\n",
    "# ratingContents_analysis.head(10)"
   ]
  },
  {
   "cell_type": "code",
   "execution_count": 129,
   "id": "5941744b",
   "metadata": {
    "execution": {
     "iopub.execute_input": "2023-08-11T04:59:26.906479Z",
     "iopub.status.busy": "2023-08-11T04:59:26.905794Z",
     "iopub.status.idle": "2023-08-11T04:59:26.910655Z",
     "shell.execute_reply": "2023-08-11T04:59:26.909677Z"
    },
    "papermill": {
     "duration": 0.122275,
     "end_time": "2023-08-11T04:59:26.913017",
     "exception": false,
     "start_time": "2023-08-11T04:59:26.790742",
     "status": "completed"
    },
    "tags": []
   },
   "outputs": [],
   "source": [
    "# cvec_rc = CountVectorizer(ngram_range=(1,1))\n",
    "# cvec_rc.fit(ratingContents_analysis['rcSorted'])\n",
    "# # len(cvec_rc.vocabulary_), cvec_rc.vocabulary_"
   ]
  },
  {
   "cell_type": "code",
   "execution_count": 130,
   "id": "95278403",
   "metadata": {
    "execution": {
     "iopub.execute_input": "2023-08-11T04:59:27.136416Z",
     "iopub.status.busy": "2023-08-11T04:59:27.135972Z",
     "iopub.status.idle": "2023-08-11T04:59:27.141372Z",
     "shell.execute_reply": "2023-08-11T04:59:27.139914Z"
    },
    "papermill": {
     "duration": 0.118063,
     "end_time": "2023-08-11T04:59:27.144007",
     "exception": false,
     "start_time": "2023-08-11T04:59:27.025944",
     "status": "completed"
    },
    "tags": []
   },
   "outputs": [],
   "source": [
    "# genre_testing = cvec_g.transform(merged[\"genre\"])\n",
    "# print(genre_testing)"
   ]
  },
  {
   "cell_type": "markdown",
   "id": "5277e597",
   "metadata": {
    "papermill": {
     "duration": 0.107756,
     "end_time": "2023-08-11T04:59:27.361343",
     "exception": false,
     "start_time": "2023-08-11T04:59:27.253587",
     "status": "completed"
    },
    "tags": []
   },
   "source": [
    "## Statistical tests  "
   ]
  },
  {
   "cell_type": "markdown",
   "id": "fab42331",
   "metadata": {
    "papermill": {
     "duration": 0.108733,
     "end_time": "2023-08-11T04:59:27.578473",
     "exception": false,
     "start_time": "2023-08-11T04:59:27.469740",
     "status": "completed"
    },
    "tags": []
   },
   "source": [
    "[Go to genre](#genre_analysis)"
   ]
  },
  {
   "cell_type": "code",
   "execution_count": 131,
   "id": "d330197c",
   "metadata": {
    "execution": {
     "iopub.execute_input": "2023-08-11T04:59:27.796710Z",
     "iopub.status.busy": "2023-08-11T04:59:27.796191Z",
     "iopub.status.idle": "2023-08-11T04:59:27.801681Z",
     "shell.execute_reply": "2023-08-11T04:59:27.800403Z"
    },
    "papermill": {
     "duration": 0.118024,
     "end_time": "2023-08-11T04:59:27.804174",
     "exception": false,
     "start_time": "2023-08-11T04:59:27.686150",
     "status": "completed"
    },
    "tags": []
   },
   "outputs": [],
   "source": [
    "# print(merged['boxOffice'].head())\n",
    "# merged[\"boxOffice\"].describe()"
   ]
  },
  {
   "cell_type": "code",
   "execution_count": 132,
   "id": "88a2ba0d",
   "metadata": {
    "execution": {
     "iopub.execute_input": "2023-08-11T04:59:28.102381Z",
     "iopub.status.busy": "2023-08-11T04:59:28.101952Z",
     "iopub.status.idle": "2023-08-11T04:59:28.108143Z",
     "shell.execute_reply": "2023-08-11T04:59:28.106550Z"
    },
    "papermill": {
     "duration": 0.197418,
     "end_time": "2023-08-11T04:59:28.110686",
     "exception": false,
     "start_time": "2023-08-11T04:59:27.913268",
     "status": "completed"
    },
    "tags": []
   },
   "outputs": [],
   "source": [
    "# Function for independent samples t-test on numerical columns  \n",
    "# def ttest_ind(feature):\n",
    "#     pos_grp = merged[feature].loc[merged['sentiment'] == \"POSITIVE\"]\n",
    "#     neg_grp = merged[feature].loc[merged['sentiment'] == \"NEGATIVE\"]\n",
    "\n",
    "#     print(pos_grp.shape, neg_grp.shape)\n",
    "#     print(pos_grp.describe(), neg_grp.describe())\n",
    "\n",
    "#     return stats.ttest_ind(pos_grp, neg_grp)"
   ]
  },
  {
   "cell_type": "code",
   "execution_count": 133,
   "id": "9eb28540",
   "metadata": {
    "execution": {
     "iopub.execute_input": "2023-08-11T04:59:28.329730Z",
     "iopub.status.busy": "2023-08-11T04:59:28.329249Z",
     "iopub.status.idle": "2023-08-11T04:59:28.334110Z",
     "shell.execute_reply": "2023-08-11T04:59:28.333032Z"
    },
    "papermill": {
     "duration": 0.116217,
     "end_time": "2023-08-11T04:59:28.336260",
     "exception": false,
     "start_time": "2023-08-11T04:59:28.220043",
     "status": "completed"
    },
    "tags": []
   },
   "outputs": [],
   "source": [
    "# ttest_ind('boxOffice')"
   ]
  },
  {
   "cell_type": "code",
   "execution_count": 134,
   "id": "d33e8634",
   "metadata": {
    "execution": {
     "iopub.execute_input": "2023-08-11T04:59:28.560876Z",
     "iopub.status.busy": "2023-08-11T04:59:28.560019Z",
     "iopub.status.idle": "2023-08-11T04:59:28.565062Z",
     "shell.execute_reply": "2023-08-11T04:59:28.563804Z"
    },
    "papermill": {
     "duration": 0.118958,
     "end_time": "2023-08-11T04:59:28.567797",
     "exception": false,
     "start_time": "2023-08-11T04:59:28.448839",
     "status": "completed"
    },
    "tags": []
   },
   "outputs": [],
   "source": [
    "# ttest_ind('runtimeMinutes')"
   ]
  },
  {
   "cell_type": "code",
   "execution_count": 135,
   "id": "326b9258",
   "metadata": {
    "execution": {
     "iopub.execute_input": "2023-08-11T04:59:28.787845Z",
     "iopub.status.busy": "2023-08-11T04:59:28.786984Z",
     "iopub.status.idle": "2023-08-11T04:59:28.792014Z",
     "shell.execute_reply": "2023-08-11T04:59:28.790831Z"
    },
    "papermill": {
     "duration": 0.117806,
     "end_time": "2023-08-11T04:59:28.794422",
     "exception": false,
     "start_time": "2023-08-11T04:59:28.676616",
     "status": "completed"
    },
    "tags": []
   },
   "outputs": [],
   "source": [
    "# ttest_ind('audienceScore')"
   ]
  },
  {
   "cell_type": "code",
   "execution_count": 136,
   "id": "a602959f",
   "metadata": {
    "execution": {
     "iopub.execute_input": "2023-08-11T04:59:29.012765Z",
     "iopub.status.busy": "2023-08-11T04:59:29.012271Z",
     "iopub.status.idle": "2023-08-11T04:59:29.017162Z",
     "shell.execute_reply": "2023-08-11T04:59:29.015961Z"
    },
    "papermill": {
     "duration": 0.11697,
     "end_time": "2023-08-11T04:59:29.019721",
     "exception": false,
     "start_time": "2023-08-11T04:59:28.902751",
     "status": "completed"
    },
    "tags": []
   },
   "outputs": [],
   "source": [
    "# sns.boxplot(x=merged['sentiment'], y=merged['boxOffice'])"
   ]
  },
  {
   "cell_type": "markdown",
   "id": "12bcd5d4",
   "metadata": {
    "papermill": {
     "duration": 0.116018,
     "end_time": "2023-08-11T04:59:29.247672",
     "exception": false,
     "start_time": "2023-08-11T04:59:29.131654",
     "status": "completed"
    },
    "tags": []
   },
   "source": [
    "## <div id='genre_analysis'>Genre analysis</div>"
   ]
  },
  {
   "cell_type": "code",
   "execution_count": 137,
   "id": "53d9e98e",
   "metadata": {
    "execution": {
     "iopub.execute_input": "2023-08-11T04:59:29.471934Z",
     "iopub.status.busy": "2023-08-11T04:59:29.471195Z",
     "iopub.status.idle": "2023-08-11T04:59:29.475514Z",
     "shell.execute_reply": "2023-08-11T04:59:29.474527Z"
    },
    "papermill": {
     "duration": 0.118925,
     "end_time": "2023-08-11T04:59:29.478232",
     "exception": false,
     "start_time": "2023-08-11T04:59:29.359307",
     "status": "completed"
    },
    "tags": []
   },
   "outputs": [],
   "source": [
    "# genre_analysis = merged[[\"genre\", \"genreSorted\", \"sentiment\"]].copy()\n",
    "# # print(genre_analysis.head())\n",
    "# # genre_analysis[\"genre\"] = genre_analysis[\"genre\"].apply(lambda x: (\",\").join(sorted(x.split(\", \"))))\n",
    "# genre_analysis.head()"
   ]
  },
  {
   "cell_type": "code",
   "execution_count": 138,
   "id": "24055b59",
   "metadata": {
    "execution": {
     "iopub.execute_input": "2023-08-11T04:59:29.698881Z",
     "iopub.status.busy": "2023-08-11T04:59:29.698082Z",
     "iopub.status.idle": "2023-08-11T04:59:29.702886Z",
     "shell.execute_reply": "2023-08-11T04:59:29.701703Z"
    },
    "papermill": {
     "duration": 0.118523,
     "end_time": "2023-08-11T04:59:29.705739",
     "exception": false,
     "start_time": "2023-08-11T04:59:29.587216",
     "status": "completed"
    },
    "tags": []
   },
   "outputs": [],
   "source": [
    "# cvec_g = CountVectorizer(ngram_range=(1,3))\n",
    "# cvec_g.fit(genre_analysis['genre'])\n",
    "# # len(cvec_g.vocabulary_), cvec_g.vocabulary_"
   ]
  },
  {
   "cell_type": "code",
   "execution_count": 139,
   "id": "9c8841e8",
   "metadata": {
    "execution": {
     "iopub.execute_input": "2023-08-11T04:59:29.926956Z",
     "iopub.status.busy": "2023-08-11T04:59:29.926054Z",
     "iopub.status.idle": "2023-08-11T04:59:29.931381Z",
     "shell.execute_reply": "2023-08-11T04:59:29.930110Z"
    },
    "papermill": {
     "duration": 0.117185,
     "end_time": "2023-08-11T04:59:29.933716",
     "exception": false,
     "start_time": "2023-08-11T04:59:29.816531",
     "status": "completed"
    },
    "tags": []
   },
   "outputs": [],
   "source": [
    "# cvec_gSorted = CountVectorizer(ngram_range=(1,3))\n",
    "# cvec_gSorted.fit(genre_analysis['genreSorted'])\n",
    "# len(cvec_gSorted.vocabulary_), cvec_gSorted.vocabulary_"
   ]
  },
  {
   "cell_type": "code",
   "execution_count": 140,
   "id": "c18e6c13",
   "metadata": {
    "execution": {
     "iopub.execute_input": "2023-08-11T04:59:30.157769Z",
     "iopub.status.busy": "2023-08-11T04:59:30.157304Z",
     "iopub.status.idle": "2023-08-11T04:59:30.162399Z",
     "shell.execute_reply": "2023-08-11T04:59:30.161143Z"
    },
    "papermill": {
     "duration": 0.122062,
     "end_time": "2023-08-11T04:59:30.164722",
     "exception": false,
     "start_time": "2023-08-11T04:59:30.042660",
     "status": "completed"
    },
    "tags": []
   },
   "outputs": [],
   "source": [
    "# genre_testing = cvec_g.transform(merged[\"genre\"])\n",
    "# # print(genre_testing)"
   ]
  },
  {
   "cell_type": "code",
   "execution_count": 141,
   "id": "ead6dc05",
   "metadata": {
    "execution": {
     "iopub.execute_input": "2023-08-11T04:59:30.384223Z",
     "iopub.status.busy": "2023-08-11T04:59:30.383050Z",
     "iopub.status.idle": "2023-08-11T04:59:30.388047Z",
     "shell.execute_reply": "2023-08-11T04:59:30.387037Z"
    },
    "papermill": {
     "duration": 0.11693,
     "end_time": "2023-08-11T04:59:30.390522",
     "exception": false,
     "start_time": "2023-08-11T04:59:30.273592",
     "status": "completed"
    },
    "tags": []
   },
   "outputs": [],
   "source": [
    "# genre_counts_testing = merged[[\"genre\", \"sentiment\"]].copy()\n",
    "# genre_counts_testing[\"gCount\"] = genre_counts_testing.apply(lambda x: len(str(x[\"genre\"]).split()), axis=1)\n",
    "# genre_counts_testing"
   ]
  },
  {
   "cell_type": "code",
   "execution_count": 142,
   "id": "3a5fb5cf",
   "metadata": {
    "execution": {
     "iopub.execute_input": "2023-08-11T04:59:30.611506Z",
     "iopub.status.busy": "2023-08-11T04:59:30.610731Z",
     "iopub.status.idle": "2023-08-11T04:59:30.615017Z",
     "shell.execute_reply": "2023-08-11T04:59:30.614120Z"
    },
    "papermill": {
     "duration": 0.117808,
     "end_time": "2023-08-11T04:59:30.617241",
     "exception": false,
     "start_time": "2023-08-11T04:59:30.499433",
     "status": "completed"
    },
    "tags": []
   },
   "outputs": [],
   "source": [
    "# sns.boxplot(y=genre_counts_testing[\"gCount\"], x=genre_counts_testing[\"sentiment\"])"
   ]
  },
  {
   "cell_type": "code",
   "execution_count": 143,
   "id": "8634f1e6",
   "metadata": {
    "execution": {
     "iopub.execute_input": "2023-08-11T04:59:30.840135Z",
     "iopub.status.busy": "2023-08-11T04:59:30.839186Z",
     "iopub.status.idle": "2023-08-11T04:59:30.844695Z",
     "shell.execute_reply": "2023-08-11T04:59:30.843418Z"
    },
    "papermill": {
     "duration": 0.121924,
     "end_time": "2023-08-11T04:59:30.847514",
     "exception": false,
     "start_time": "2023-08-11T04:59:30.725590",
     "status": "completed"
    },
    "tags": []
   },
   "outputs": [],
   "source": [
    "# sns.boxplot(y=merged[\"reviewWC\"], x=merged[\"sentiment\"])"
   ]
  },
  {
   "cell_type": "code",
   "execution_count": 144,
   "id": "4a615d84",
   "metadata": {
    "execution": {
     "iopub.execute_input": "2023-08-11T04:59:31.070440Z",
     "iopub.status.busy": "2023-08-11T04:59:31.069053Z",
     "iopub.status.idle": "2023-08-11T04:59:31.075488Z",
     "shell.execute_reply": "2023-08-11T04:59:31.073885Z"
    },
    "papermill": {
     "duration": 0.120442,
     "end_time": "2023-08-11T04:59:31.077984",
     "exception": false,
     "start_time": "2023-08-11T04:59:30.957542",
     "status": "completed"
    },
    "tags": []
   },
   "outputs": [],
   "source": [
    "# audienceScore bins\n",
    "# asc = merged[['audienceScore', 'sentiment']].copy()\n",
    "# asc.head()"
   ]
  },
  {
   "cell_type": "code",
   "execution_count": 145,
   "id": "30c9fca0",
   "metadata": {
    "execution": {
     "iopub.execute_input": "2023-08-11T04:59:31.300104Z",
     "iopub.status.busy": "2023-08-11T04:59:31.299505Z",
     "iopub.status.idle": "2023-08-11T04:59:31.305030Z",
     "shell.execute_reply": "2023-08-11T04:59:31.303748Z"
    },
    "papermill": {
     "duration": 0.119501,
     "end_time": "2023-08-11T04:59:31.307801",
     "exception": false,
     "start_time": "2023-08-11T04:59:31.188300",
     "status": "completed"
    },
    "tags": []
   },
   "outputs": [],
   "source": [
    "# Binning numerical features  \n",
    "\n",
    "# print(merged[\"runtimeBins\"].value_counts())\n",
    "# sns.displot(merged[\"runtimeBins\"])"
   ]
  },
  {
   "cell_type": "code",
   "execution_count": 146,
   "id": "988f6a50",
   "metadata": {
    "execution": {
     "iopub.execute_input": "2023-08-11T04:59:31.525719Z",
     "iopub.status.busy": "2023-08-11T04:59:31.525267Z",
     "iopub.status.idle": "2023-08-11T04:59:31.530697Z",
     "shell.execute_reply": "2023-08-11T04:59:31.529409Z"
    },
    "papermill": {
     "duration": 0.117588,
     "end_time": "2023-08-11T04:59:31.533106",
     "exception": false,
     "start_time": "2023-08-11T04:59:31.415518",
     "status": "completed"
    },
    "tags": []
   },
   "outputs": [],
   "source": [
    "# Chi-square test for isFrequentReviewer column and sentiment column   \n",
    "\n",
    "# contingency_table = pd.crosstab(traindf['isFrequentReviewer'], traindf['sentiment'])\n",
    "# print(contingency_table)\n",
    "# stats.chi2_contingency(contingency_table)"
   ]
  },
  {
   "cell_type": "markdown",
   "id": "cf1af2f9",
   "metadata": {
    "papermill": {
     "duration": 0.109817,
     "end_time": "2023-08-11T04:59:31.753757",
     "exception": false,
     "start_time": "2023-08-11T04:59:31.643940",
     "status": "completed"
    },
    "tags": []
   },
   "source": [
    "## Baseline performance of 'reviewText' column  "
   ]
  },
  {
   "cell_type": "code",
   "execution_count": 147,
   "id": "d32cc565",
   "metadata": {
    "execution": {
     "iopub.execute_input": "2023-08-11T04:59:31.977246Z",
     "iopub.status.busy": "2023-08-11T04:59:31.976821Z",
     "iopub.status.idle": "2023-08-11T04:59:31.981455Z",
     "shell.execute_reply": "2023-08-11T04:59:31.980253Z"
    },
    "papermill": {
     "duration": 0.121412,
     "end_time": "2023-08-11T04:59:31.983786",
     "exception": false,
     "start_time": "2023-08-11T04:59:31.862374",
     "status": "completed"
    },
    "tags": []
   },
   "outputs": [],
   "source": [
    "# rt_dict = {'txt': ['reviewText']}\n",
    "# rt_dict"
   ]
  },
  {
   "cell_type": "code",
   "execution_count": 148,
   "id": "5261390f",
   "metadata": {
    "execution": {
     "iopub.execute_input": "2023-08-11T04:59:32.207827Z",
     "iopub.status.busy": "2023-08-11T04:59:32.206978Z",
     "iopub.status.idle": "2023-08-11T04:59:32.212336Z",
     "shell.execute_reply": "2023-08-11T04:59:32.211297Z"
    },
    "papermill": {
     "duration": 0.121554,
     "end_time": "2023-08-11T04:59:32.214778",
     "exception": false,
     "start_time": "2023-08-11T04:59:32.093224",
     "status": "completed"
    },
    "tags": []
   },
   "outputs": [],
   "source": [
    "# submit_v4(selected_model=LogisticRegression(C=5, solver=\"saga\", max_iter=100000),\n",
    "#           selected_features=rt_dict,\n",
    "#           param_grid=None,\n",
    "#           vocab=None)"
   ]
  },
  {
   "cell_type": "markdown",
   "id": "89462d8f",
   "metadata": {
    "papermill": {
     "duration": 0.111301,
     "end_time": "2023-08-11T04:59:32.433928",
     "exception": false,
     "start_time": "2023-08-11T04:59:32.322627",
     "status": "completed"
    },
    "tags": []
   },
   "source": [
    "## RFE  "
   ]
  },
  {
   "cell_type": "code",
   "execution_count": 149,
   "id": "39e82dd9",
   "metadata": {
    "execution": {
     "iopub.execute_input": "2023-08-11T04:59:32.655533Z",
     "iopub.status.busy": "2023-08-11T04:59:32.654754Z",
     "iopub.status.idle": "2023-08-11T04:59:32.660733Z",
     "shell.execute_reply": "2023-08-11T04:59:32.659739Z"
    },
    "papermill": {
     "duration": 0.120901,
     "end_time": "2023-08-11T04:59:32.663437",
     "exception": false,
     "start_time": "2023-08-11T04:59:32.542536",
     "status": "completed"
    },
    "tags": []
   },
   "outputs": [],
   "source": [
    "# def fs_rfe(selector, text_df, labels, ngram_range=(1,1)):\n",
    "#     text_df_ngram = TfidfVectorizer(ngram_range=ngram_range, stop_words='english').fit_transform(text_df)\n",
    "#     print(\"text_df was vectorized using TF-IDF vectorizer with ngram_range: \", ngram_range)\n",
    "#     print(\"text_df.shape: \", text_df.shape)\n",
    "#     print(\"labels.shape: \", labels.shape)\n",
    "#     print(\"text_df_ngram.shape: \", text_df_ngram.shape)\n",
    "#     print()\n",
    "\n",
    "#     print(\"Starting RFE fit...\")\n",
    "#     selector.fit(text_df_ngram, labels)\n",
    "#     print(\"RFE fit complete.\\n\")\n",
    "    \n",
    "#     print(\"selector.n_features_: \", selector.n_features_)   \n",
    "#     print(\"selector.n_features_in_: \", selector.n_features_in_)\n",
    "#     print(\"selector.support_.shape: \", selector.support_.shape)\n",
    "\n",
    "#     return selector.support_"
   ]
  },
  {
   "cell_type": "markdown",
   "id": "7c606e25",
   "metadata": {
    "papermill": {
     "duration": 0.108369,
     "end_time": "2023-08-11T04:59:32.883289",
     "exception": false,
     "start_time": "2023-08-11T04:59:32.774920",
     "status": "completed"
    },
    "tags": []
   },
   "source": [
    "`RFE for unigrams`  "
   ]
  },
  {
   "cell_type": "code",
   "execution_count": 150,
   "id": "02540df1",
   "metadata": {
    "execution": {
     "iopub.execute_input": "2023-08-11T04:59:33.104352Z",
     "iopub.status.busy": "2023-08-11T04:59:33.103907Z",
     "iopub.status.idle": "2023-08-11T04:59:33.109201Z",
     "shell.execute_reply": "2023-08-11T04:59:33.107902Z"
    },
    "papermill": {
     "duration": 0.120336,
     "end_time": "2023-08-11T04:59:33.111495",
     "exception": false,
     "start_time": "2023-08-11T04:59:32.991159",
     "status": "completed"
    },
    "tags": []
   },
   "outputs": [],
   "source": [
    "# estimator_rfe_1 = LogisticRegression(solver='saga', max_iter=100000)\n",
    "# selector_rfe_1 = RFE(estimator_rfe_1, step=0.1, n_features_to_select=30000)"
   ]
  },
  {
   "cell_type": "code",
   "execution_count": 151,
   "id": "62d3cad8",
   "metadata": {
    "execution": {
     "iopub.execute_input": "2023-08-11T04:59:33.337464Z",
     "iopub.status.busy": "2023-08-11T04:59:33.336180Z",
     "iopub.status.idle": "2023-08-11T04:59:33.341845Z",
     "shell.execute_reply": "2023-08-11T04:59:33.340891Z"
    },
    "papermill": {
     "duration": 0.121193,
     "end_time": "2023-08-11T04:59:33.344458",
     "exception": false,
     "start_time": "2023-08-11T04:59:33.223265",
     "status": "completed"
    },
    "tags": []
   },
   "outputs": [],
   "source": [
    "# rfe_1_feat_mask = fs_rfe(selector_rfe_1, rt_senti[\"reviewText\"], rt_senti[\"sentiment\"], ngram_range=(1,1))\n",
    "# rfe_1_feat_mask"
   ]
  },
  {
   "cell_type": "code",
   "execution_count": 152,
   "id": "bed1499c",
   "metadata": {
    "execution": {
     "iopub.execute_input": "2023-08-11T04:59:33.563603Z",
     "iopub.status.busy": "2023-08-11T04:59:33.562706Z",
     "iopub.status.idle": "2023-08-11T04:59:33.569150Z",
     "shell.execute_reply": "2023-08-11T04:59:33.567822Z"
    },
    "papermill": {
     "duration": 0.118698,
     "end_time": "2023-08-11T04:59:33.571970",
     "exception": false,
     "start_time": "2023-08-11T04:59:33.453272",
     "status": "completed"
    },
    "tags": []
   },
   "outputs": [],
   "source": [
    "# voc_1gram_rfe = list(compress(voc_1gram, rfe_1_feat_mask))\n",
    "# len(voc_1gram_rfe), voc_1gram_rfe[:10]"
   ]
  },
  {
   "cell_type": "markdown",
   "id": "2ecf99d1",
   "metadata": {
    "papermill": {
     "duration": 0.110894,
     "end_time": "2023-08-11T04:59:33.792164",
     "exception": false,
     "start_time": "2023-08-11T04:59:33.681270",
     "status": "completed"
    },
    "tags": []
   },
   "source": [
    "`RFE for bigrams`  "
   ]
  },
  {
   "cell_type": "code",
   "execution_count": 153,
   "id": "9022192b",
   "metadata": {
    "execution": {
     "iopub.execute_input": "2023-08-11T04:59:34.014826Z",
     "iopub.status.busy": "2023-08-11T04:59:34.014378Z",
     "iopub.status.idle": "2023-08-11T04:59:34.018512Z",
     "shell.execute_reply": "2023-08-11T04:59:34.017662Z"
    },
    "papermill": {
     "duration": 0.11779,
     "end_time": "2023-08-11T04:59:34.020557",
     "exception": false,
     "start_time": "2023-08-11T04:59:33.902767",
     "status": "completed"
    },
    "tags": []
   },
   "outputs": [],
   "source": [
    "# estimator_rfe_2 = LogisticRegression(solver='saga', max_iter=100000)\n",
    "# selector_rfe_2 = RFE(estimator_rfe_2, step=0.1, n_features_to_select=50000)"
   ]
  },
  {
   "cell_type": "code",
   "execution_count": 154,
   "id": "f99dceb1",
   "metadata": {
    "execution": {
     "iopub.execute_input": "2023-08-11T04:59:34.241452Z",
     "iopub.status.busy": "2023-08-11T04:59:34.240424Z",
     "iopub.status.idle": "2023-08-11T04:59:34.246352Z",
     "shell.execute_reply": "2023-08-11T04:59:34.245109Z"
    },
    "papermill": {
     "duration": 0.119336,
     "end_time": "2023-08-11T04:59:34.248947",
     "exception": false,
     "start_time": "2023-08-11T04:59:34.129611",
     "status": "completed"
    },
    "tags": []
   },
   "outputs": [],
   "source": [
    "# rfe_2_feat_mask = fs_rfe(selector_rfe_2, rt_senti[\"reviewText\"], rt_senti[\"sentiment\"], ngram_range=(2,2))\n",
    "# rfe_2_feat_mask"
   ]
  },
  {
   "cell_type": "code",
   "execution_count": 155,
   "id": "3ceac7b3",
   "metadata": {
    "execution": {
     "iopub.execute_input": "2023-08-11T04:59:34.468660Z",
     "iopub.status.busy": "2023-08-11T04:59:34.467858Z",
     "iopub.status.idle": "2023-08-11T04:59:34.472009Z",
     "shell.execute_reply": "2023-08-11T04:59:34.471059Z"
    },
    "papermill": {
     "duration": 0.116773,
     "end_time": "2023-08-11T04:59:34.474358",
     "exception": false,
     "start_time": "2023-08-11T04:59:34.357585",
     "status": "completed"
    },
    "tags": []
   },
   "outputs": [],
   "source": [
    "# voc_2gram_rfe = list(compress(voc_2gram, rfe_2_feat_mask))\n",
    "# len(voc_2gram_rfe), voc_2gram_rfe[:10]"
   ]
  },
  {
   "cell_type": "markdown",
   "id": "90bd0fe7",
   "metadata": {
    "papermill": {
     "duration": 0.11106,
     "end_time": "2023-08-11T04:59:34.697168",
     "exception": false,
     "start_time": "2023-08-11T04:59:34.586108",
     "status": "completed"
    },
    "tags": []
   },
   "source": [
    "## Final RFE-derived vocabulary  "
   ]
  },
  {
   "cell_type": "code",
   "execution_count": 156,
   "id": "4b28e3bb",
   "metadata": {
    "execution": {
     "iopub.execute_input": "2023-08-11T04:59:34.916974Z",
     "iopub.status.busy": "2023-08-11T04:59:34.916506Z",
     "iopub.status.idle": "2023-08-11T04:59:34.920826Z",
     "shell.execute_reply": "2023-08-11T04:59:34.919862Z"
    },
    "papermill": {
     "duration": 0.116549,
     "end_time": "2023-08-11T04:59:34.923105",
     "exception": false,
     "start_time": "2023-08-11T04:59:34.806556",
     "status": "completed"
    },
    "tags": []
   },
   "outputs": [],
   "source": [
    "# rfe_vocab = voc_1gram_rfe + voc_2gram_rfe\n",
    "# len(rfe_vocab), rfe_vocab[:10], rfe_vocab[-10:]"
   ]
  },
  {
   "cell_type": "code",
   "execution_count": 157,
   "id": "daa7decf",
   "metadata": {
    "execution": {
     "iopub.execute_input": "2023-08-11T04:59:35.147118Z",
     "iopub.status.busy": "2023-08-11T04:59:35.146351Z",
     "iopub.status.idle": "2023-08-11T04:59:35.151527Z",
     "shell.execute_reply": "2023-08-11T04:59:35.150049Z"
    },
    "papermill": {
     "duration": 0.122032,
     "end_time": "2023-08-11T04:59:35.154465",
     "exception": false,
     "start_time": "2023-08-11T04:59:35.032433",
     "status": "completed"
    },
    "tags": []
   },
   "outputs": [],
   "source": [
    "## Test RFE obtained vocabulary in final pipeline (only with reviewText)  \n",
    "# submit_v4(selected_model=LogisticRegression(C=5, solver=\"saga\", max_iter=100000),\n",
    "#           selected_features=rt_dict,\n",
    "#           param_grid=None,\n",
    "#           vocab=rfe_vocab)"
   ]
  },
  {
   "cell_type": "markdown",
   "id": "4109b629",
   "metadata": {
    "papermill": {
     "duration": 0.109392,
     "end_time": "2023-08-11T04:59:35.374752",
     "exception": false,
     "start_time": "2023-08-11T04:59:35.265360",
     "status": "completed"
    },
    "tags": []
   },
   "source": [
    "## Use rfe_vocab in final pipeline with all params  "
   ]
  },
  {
   "cell_type": "code",
   "execution_count": 158,
   "id": "edf3b591",
   "metadata": {
    "execution": {
     "iopub.execute_input": "2023-08-11T04:59:35.595529Z",
     "iopub.status.busy": "2023-08-11T04:59:35.595072Z",
     "iopub.status.idle": "2023-08-11T04:59:35.599763Z",
     "shell.execute_reply": "2023-08-11T04:59:35.598815Z"
    },
    "papermill": {
     "duration": 0.117645,
     "end_time": "2023-08-11T04:59:35.602019",
     "exception": false,
     "start_time": "2023-08-11T04:59:35.484374",
     "status": "completed"
    },
    "tags": []
   },
   "outputs": [],
   "source": [
    "# submit_v4(selected_model=LogisticRegression(max_iter=100000),\n",
    "#           selected_features=all_dict,\n",
    "#           param_grid=param_grid,\n",
    "#           vocab=rfe_vocab)"
   ]
  },
  {
   "cell_type": "code",
   "execution_count": 159,
   "id": "69310928",
   "metadata": {
    "execution": {
     "iopub.execute_input": "2023-08-11T04:59:35.825348Z",
     "iopub.status.busy": "2023-08-11T04:59:35.824924Z",
     "iopub.status.idle": "2023-08-11T04:59:35.839821Z",
     "shell.execute_reply": "2023-08-11T04:59:35.838524Z"
    },
    "papermill": {
     "duration": 0.129009,
     "end_time": "2023-08-11T04:59:35.842608",
     "exception": false,
     "start_time": "2023-08-11T04:59:35.713599",
     "status": "completed"
    },
    "tags": []
   },
   "outputs": [
    {
     "data": {
      "text/html": [
       "<style>#sk-container-id-1 {color: black;background-color: white;}#sk-container-id-1 pre{padding: 0;}#sk-container-id-1 div.sk-toggleable {background-color: white;}#sk-container-id-1 label.sk-toggleable__label {cursor: pointer;display: block;width: 100%;margin-bottom: 0;padding: 0.3em;box-sizing: border-box;text-align: center;}#sk-container-id-1 label.sk-toggleable__label-arrow:before {content: \"▸\";float: left;margin-right: 0.25em;color: #696969;}#sk-container-id-1 label.sk-toggleable__label-arrow:hover:before {color: black;}#sk-container-id-1 div.sk-estimator:hover label.sk-toggleable__label-arrow:before {color: black;}#sk-container-id-1 div.sk-toggleable__content {max-height: 0;max-width: 0;overflow: hidden;text-align: left;background-color: #f0f8ff;}#sk-container-id-1 div.sk-toggleable__content pre {margin: 0.2em;color: black;border-radius: 0.25em;background-color: #f0f8ff;}#sk-container-id-1 input.sk-toggleable__control:checked~div.sk-toggleable__content {max-height: 200px;max-width: 100%;overflow: auto;}#sk-container-id-1 input.sk-toggleable__control:checked~label.sk-toggleable__label-arrow:before {content: \"▾\";}#sk-container-id-1 div.sk-estimator input.sk-toggleable__control:checked~label.sk-toggleable__label {background-color: #d4ebff;}#sk-container-id-1 div.sk-label input.sk-toggleable__control:checked~label.sk-toggleable__label {background-color: #d4ebff;}#sk-container-id-1 input.sk-hidden--visually {border: 0;clip: rect(1px 1px 1px 1px);clip: rect(1px, 1px, 1px, 1px);height: 1px;margin: -1px;overflow: hidden;padding: 0;position: absolute;width: 1px;}#sk-container-id-1 div.sk-estimator {font-family: monospace;background-color: #f0f8ff;border: 1px dotted black;border-radius: 0.25em;box-sizing: border-box;margin-bottom: 0.5em;}#sk-container-id-1 div.sk-estimator:hover {background-color: #d4ebff;}#sk-container-id-1 div.sk-parallel-item::after {content: \"\";width: 100%;border-bottom: 1px solid gray;flex-grow: 1;}#sk-container-id-1 div.sk-label:hover label.sk-toggleable__label {background-color: #d4ebff;}#sk-container-id-1 div.sk-serial::before {content: \"\";position: absolute;border-left: 1px solid gray;box-sizing: border-box;top: 0;bottom: 0;left: 50%;z-index: 0;}#sk-container-id-1 div.sk-serial {display: flex;flex-direction: column;align-items: center;background-color: white;padding-right: 0.2em;padding-left: 0.2em;position: relative;}#sk-container-id-1 div.sk-item {position: relative;z-index: 1;}#sk-container-id-1 div.sk-parallel {display: flex;align-items: stretch;justify-content: center;background-color: white;position: relative;}#sk-container-id-1 div.sk-item::before, #sk-container-id-1 div.sk-parallel-item::before {content: \"\";position: absolute;border-left: 1px solid gray;box-sizing: border-box;top: 0;bottom: 0;left: 50%;z-index: -1;}#sk-container-id-1 div.sk-parallel-item {display: flex;flex-direction: column;z-index: 1;position: relative;background-color: white;}#sk-container-id-1 div.sk-parallel-item:first-child::after {align-self: flex-end;width: 50%;}#sk-container-id-1 div.sk-parallel-item:last-child::after {align-self: flex-start;width: 50%;}#sk-container-id-1 div.sk-parallel-item:only-child::after {width: 0;}#sk-container-id-1 div.sk-dashed-wrapped {border: 1px dashed gray;margin: 0 0.4em 0.5em 0.4em;box-sizing: border-box;padding-bottom: 0.4em;background-color: white;}#sk-container-id-1 div.sk-label label {font-family: monospace;font-weight: bold;display: inline-block;line-height: 1.2em;}#sk-container-id-1 div.sk-label-container {text-align: center;}#sk-container-id-1 div.sk-container {/* jupyter's `normalize.less` sets `[hidden] { display: none; }` but bootstrap.min.css set `[hidden] { display: none !important; }` so we also need the `!important` here to be able to override the default hidden behavior on the sphinx rendered scikit-learn.org. See: https://github.com/scikit-learn/scikit-learn/issues/21755 */display: inline-block !important;position: relative;}#sk-container-id-1 div.sk-text-repr-fallback {display: none;}</style><div id=\"sk-container-id-1\" class=\"sk-top-container\"><div class=\"sk-text-repr-fallback\"><pre>AdaBoostClassifier(estimator=LogisticRegression(C=5, max_iter=100000,\n",
       "                                                solver=&#x27;saga&#x27;))</pre><b>In a Jupyter environment, please rerun this cell to show the HTML representation or trust the notebook. <br />On GitHub, the HTML representation is unable to render, please try loading this page with nbviewer.org.</b></div><div class=\"sk-container\" hidden><div class=\"sk-item sk-dashed-wrapped\"><div class=\"sk-label-container\"><div class=\"sk-label sk-toggleable\"><input class=\"sk-toggleable__control sk-hidden--visually\" id=\"sk-estimator-id-1\" type=\"checkbox\" ><label for=\"sk-estimator-id-1\" class=\"sk-toggleable__label sk-toggleable__label-arrow\">AdaBoostClassifier</label><div class=\"sk-toggleable__content\"><pre>AdaBoostClassifier(estimator=LogisticRegression(C=5, max_iter=100000,\n",
       "                                                solver=&#x27;saga&#x27;))</pre></div></div></div><div class=\"sk-parallel\"><div class=\"sk-parallel-item\"><div class=\"sk-item\"><div class=\"sk-label-container\"><div class=\"sk-label sk-toggleable\"><input class=\"sk-toggleable__control sk-hidden--visually\" id=\"sk-estimator-id-2\" type=\"checkbox\" ><label for=\"sk-estimator-id-2\" class=\"sk-toggleable__label sk-toggleable__label-arrow\">estimator: LogisticRegression</label><div class=\"sk-toggleable__content\"><pre>LogisticRegression(C=5, max_iter=100000, solver=&#x27;saga&#x27;)</pre></div></div></div><div class=\"sk-serial\"><div class=\"sk-item\"><div class=\"sk-estimator sk-toggleable\"><input class=\"sk-toggleable__control sk-hidden--visually\" id=\"sk-estimator-id-3\" type=\"checkbox\" ><label for=\"sk-estimator-id-3\" class=\"sk-toggleable__label sk-toggleable__label-arrow\">LogisticRegression</label><div class=\"sk-toggleable__content\"><pre>LogisticRegression(C=5, max_iter=100000, solver=&#x27;saga&#x27;)</pre></div></div></div></div></div></div></div></div></div></div>"
      ],
      "text/plain": [
       "AdaBoostClassifier(estimator=LogisticRegression(C=5, max_iter=100000,\n",
       "                                                solver='saga'))"
      ]
     },
     "execution_count": 159,
     "metadata": {},
     "output_type": "execute_result"
    }
   ],
   "source": [
    "adc = AdaBoostClassifier(estimator=LogisticRegression(C=5, solver=\"saga\", max_iter=100000), n_estimators=50)\n",
    "adc"
   ]
  },
  {
   "cell_type": "code",
   "execution_count": 160,
   "id": "cf256baa",
   "metadata": {
    "execution": {
     "iopub.execute_input": "2023-08-11T04:59:36.090101Z",
     "iopub.status.busy": "2023-08-11T04:59:36.089678Z",
     "iopub.status.idle": "2023-08-11T04:59:36.094916Z",
     "shell.execute_reply": "2023-08-11T04:59:36.093453Z"
    },
    "papermill": {
     "duration": 0.120512,
     "end_time": "2023-08-11T04:59:36.097413",
     "exception": false,
     "start_time": "2023-08-11T04:59:35.976901",
     "status": "completed"
    },
    "tags": []
   },
   "outputs": [],
   "source": [
    "# submit_v4(selected_model=adc,\n",
    "#           selected_features={'cat': ['isFrequentReviewer']},\n",
    "#           param_grid=None,\n",
    "#           vocab=rfe_vocab)"
   ]
  },
  {
   "cell_type": "code",
   "execution_count": 161,
   "id": "9b93ee15",
   "metadata": {
    "execution": {
     "iopub.execute_input": "2023-08-11T04:59:36.325584Z",
     "iopub.status.busy": "2023-08-11T04:59:36.323861Z",
     "iopub.status.idle": "2023-08-11T04:59:36.329546Z",
     "shell.execute_reply": "2023-08-11T04:59:36.328623Z"
    },
    "papermill": {
     "duration": 0.122505,
     "end_time": "2023-08-11T04:59:36.331962",
     "exception": false,
     "start_time": "2023-08-11T04:59:36.209457",
     "status": "completed"
    },
    "tags": []
   },
   "outputs": [],
   "source": [
    "# AdaBoost on all features with RFE vocab on reviewText\n",
    "\n",
    "# submit_v4(selected_model=adc,\n",
    "#           selected_features=all_dict,\n",
    "#           param_grid=None,\n",
    "#           vocab=rfe_vocab)"
   ]
  },
  {
   "cell_type": "code",
   "execution_count": 162,
   "id": "5d025b2a",
   "metadata": {
    "execution": {
     "iopub.execute_input": "2023-08-11T04:59:36.553655Z",
     "iopub.status.busy": "2023-08-11T04:59:36.552386Z",
     "iopub.status.idle": "2023-08-11T04:59:36.558638Z",
     "shell.execute_reply": "2023-08-11T04:59:36.557200Z"
    },
    "papermill": {
     "duration": 0.121131,
     "end_time": "2023-08-11T04:59:36.561209",
     "exception": false,
     "start_time": "2023-08-11T04:59:36.440078",
     "status": "completed"
    },
    "tags": []
   },
   "outputs": [],
   "source": [
    "# RandomForestClassifier test run on one feature\n",
    "\n",
    "# rfc_2 = RandomForestClassifier()\n",
    "# rfc_2"
   ]
  },
  {
   "cell_type": "code",
   "execution_count": 163,
   "id": "4bb1e7bb",
   "metadata": {
    "execution": {
     "iopub.execute_input": "2023-08-11T04:59:36.786013Z",
     "iopub.status.busy": "2023-08-11T04:59:36.785600Z",
     "iopub.status.idle": "2023-08-11T04:59:36.790582Z",
     "shell.execute_reply": "2023-08-11T04:59:36.789306Z"
    },
    "papermill": {
     "duration": 0.121974,
     "end_time": "2023-08-11T04:59:36.793325",
     "exception": false,
     "start_time": "2023-08-11T04:59:36.671351",
     "status": "completed"
    },
    "tags": []
   },
   "outputs": [],
   "source": [
    "# submit_v4(selected_model=rfc_2,\n",
    "#           selected_features={'txt': ['reviewerName']},\n",
    "#           param_grid=None,\n",
    "#           vocab=rfe_vocab)"
   ]
  },
  {
   "cell_type": "code",
   "execution_count": 164,
   "id": "8a7248e9",
   "metadata": {
    "execution": {
     "iopub.execute_input": "2023-08-11T04:59:37.023374Z",
     "iopub.status.busy": "2023-08-11T04:59:37.022100Z",
     "iopub.status.idle": "2023-08-11T04:59:37.027671Z",
     "shell.execute_reply": "2023-08-11T04:59:37.026475Z"
    },
    "papermill": {
     "duration": 0.122899,
     "end_time": "2023-08-11T04:59:37.030193",
     "exception": false,
     "start_time": "2023-08-11T04:59:36.907294",
     "status": "completed"
    },
    "tags": []
   },
   "outputs": [],
   "source": [
    "# RandomForestClassifier on all features with RFE vocab on reviewText\n",
    "\n",
    "# submit_v4(selected_model=rfc_2,\n",
    "#           selected_features=all_dict,\n",
    "#           param_grid=None,\n",
    "#           vocab=rfe_vocab)"
   ]
  },
  {
   "cell_type": "markdown",
   "id": "c0da8349",
   "metadata": {
    "papermill": {
     "duration": 0.110665,
     "end_time": "2023-08-11T04:59:37.253182",
     "exception": false,
     "start_time": "2023-08-11T04:59:37.142517",
     "status": "completed"
    },
    "tags": []
   },
   "source": [
    "## Submit_v2 for merged file models  "
   ]
  },
  {
   "cell_type": "code",
   "execution_count": 165,
   "id": "f4b71edc",
   "metadata": {
    "execution": {
     "iopub.execute_input": "2023-08-11T04:59:37.472601Z",
     "iopub.status.busy": "2023-08-11T04:59:37.471448Z",
     "iopub.status.idle": "2023-08-11T04:59:37.479106Z",
     "shell.execute_reply": "2023-08-11T04:59:37.477807Z"
    },
    "papermill": {
     "duration": 0.119446,
     "end_time": "2023-08-11T04:59:37.481752",
     "exception": false,
     "start_time": "2023-08-11T04:59:37.362306",
     "status": "completed"
    },
    "tags": []
   },
   "outputs": [],
   "source": [
    "# def submit_v2(selected_model=pipe_final, selected_features=None):\n",
    "#     '''\n",
    "#     Note that \"selected_preprocessor\" is already used within selected_model or pipeline\n",
    "#     '''\n",
    "#     # Retrain on the whole train.csv file  \n",
    "#     merged = select_features(load_csv(\"train\"), load_csv(\"movies\"))\n",
    "#     X_train = merged.drop(labels=\"sentiment\", axis=1)\n",
    "#     y_train = merged[\"sentiment\"]\n",
    "    \n",
    "#     #Use selected features\n",
    "#     if selected_features:\n",
    "#         X_train = X_train[selected_features]\n",
    "    \n",
    "#     # Check1\n",
    "#     print(X_train.shape)\n",
    "#     print(X_train.head())\n",
    "#     try:\n",
    "#         print(selected_model.named_steps['model'].intercept_, selected_model.named_steps['model'].coef_)\n",
    "#     except:\n",
    "#         print(\"Model not trained yet!\")\n",
    "    \n",
    "#     # Fit \n",
    "#     selected_model.fit(X_train, y_train)\n",
    "    \n",
    "#     # Check2\n",
    "#     print(selected_model.named_steps['model'].intercept_, selected_model.named_steps['model'].coef_)\n",
    "    \n",
    "#     # Predict on test.csv file\n",
    "#     merged_test = select_features(load_csv(\"test\"), load_csv(\"movies\"))\n",
    "#     X_test = merged_test.copy()\n",
    "#     if selected_features:\n",
    "#         X_test = X_test[selected_features]\n",
    "    \n",
    "#     # Check3\n",
    "#     print(X_test.shape)\n",
    "#     print(X_test.head())\n",
    "    \n",
    "#     y_pred = selected_model.predict(X_test)\n",
    "    \n",
    "#     pred_df = pd.DataFrame(y_pred)\n",
    "#     pred_df.columns = [\"sentiment\"]\n",
    "#     pred_df.index.name = \"id\"\n",
    "#     pred_df.to_csv(\"submission.csv\")\n",
    "    \n",
    "#     return \"Successfully created the submission file!!!\""
   ]
  },
  {
   "cell_type": "code",
   "execution_count": 166,
   "id": "3a002174",
   "metadata": {
    "execution": {
     "iopub.execute_input": "2023-08-11T04:59:37.706005Z",
     "iopub.status.busy": "2023-08-11T04:59:37.705150Z",
     "iopub.status.idle": "2023-08-11T04:59:37.710479Z",
     "shell.execute_reply": "2023-08-11T04:59:37.709540Z"
    },
    "papermill": {
     "duration": 0.121047,
     "end_time": "2023-08-11T04:59:37.713356",
     "exception": false,
     "start_time": "2023-08-11T04:59:37.592309",
     "status": "completed"
    },
    "tags": []
   },
   "outputs": [],
   "source": [
    "#     X_test = merged_test.copy()\n",
    "    \n",
    "#     y_pred = pipe_best4.predict(X_test)\n",
    "# #     np.unique(y_pred, return_counts=True)\n",
    "#     pred_df = pd.DataFrame(y_pred)\n",
    "#     pred_df.columns = [\"sentiment\"]\n",
    "#     pred_df.index.name = \"id\"\n",
    "#     pred_df.value_counts()"
   ]
  },
  {
   "cell_type": "code",
   "execution_count": 167,
   "id": "419dad5a",
   "metadata": {
    "execution": {
     "iopub.execute_input": "2023-08-11T04:59:37.936270Z",
     "iopub.status.busy": "2023-08-11T04:59:37.935865Z",
     "iopub.status.idle": "2023-08-11T04:59:37.940829Z",
     "shell.execute_reply": "2023-08-11T04:59:37.939626Z"
    },
    "papermill": {
     "duration": 0.118415,
     "end_time": "2023-08-11T04:59:37.943171",
     "exception": false,
     "start_time": "2023-08-11T04:59:37.824756",
     "status": "completed"
    },
    "tags": []
   },
   "outputs": [],
   "source": [
    "# X_test.columns"
   ]
  },
  {
   "cell_type": "markdown",
   "id": "79c4937a",
   "metadata": {
    "papermill": {
     "duration": 0.110645,
     "end_time": "2023-08-11T04:59:38.163602",
     "exception": false,
     "start_time": "2023-08-11T04:59:38.052957",
     "status": "completed"
    },
    "tags": []
   },
   "source": [
    "### Uncomment to submit using v2 of submit function  "
   ]
  },
  {
   "cell_type": "code",
   "execution_count": 168,
   "id": "d96288c8",
   "metadata": {
    "execution": {
     "iopub.execute_input": "2023-08-11T04:59:38.384674Z",
     "iopub.status.busy": "2023-08-11T04:59:38.383258Z",
     "iopub.status.idle": "2023-08-11T04:59:38.388085Z",
     "shell.execute_reply": "2023-08-11T04:59:38.387191Z"
    },
    "papermill": {
     "duration": 0.118901,
     "end_time": "2023-08-11T04:59:38.390518",
     "exception": false,
     "start_time": "2023-08-11T04:59:38.271617",
     "status": "completed"
    },
    "tags": []
   },
   "outputs": [],
   "source": [
    "# best4 = [\"audienceScore\", \"rating\", \"isFrequentReviewer\", \"reviewText\"]\n",
    "# best4"
   ]
  },
  {
   "cell_type": "code",
   "execution_count": 169,
   "id": "48cb0ac1",
   "metadata": {
    "execution": {
     "iopub.execute_input": "2023-08-11T04:59:38.610696Z",
     "iopub.status.busy": "2023-08-11T04:59:38.610237Z",
     "iopub.status.idle": "2023-08-11T04:59:38.615215Z",
     "shell.execute_reply": "2023-08-11T04:59:38.613921Z"
    },
    "papermill": {
     "duration": 0.116664,
     "end_time": "2023-08-11T04:59:38.617447",
     "exception": false,
     "start_time": "2023-08-11T04:59:38.500783",
     "status": "completed"
    },
    "tags": []
   },
   "outputs": [],
   "source": [
    "# submit_v2(selected_model=pipe_RTonly, selected_features=['reviewText'])"
   ]
  },
  {
   "cell_type": "markdown",
   "id": "fa8b598c",
   "metadata": {
    "papermill": {
     "duration": 0.108484,
     "end_time": "2023-08-11T04:59:38.833883",
     "exception": false,
     "start_time": "2023-08-11T04:59:38.725399",
     "status": "completed"
    },
    "tags": []
   },
   "source": [
    "### Inspect the submission.csv file  "
   ]
  },
  {
   "cell_type": "code",
   "execution_count": 170,
   "id": "f549febe",
   "metadata": {
    "execution": {
     "iopub.execute_input": "2023-08-11T04:59:39.055329Z",
     "iopub.status.busy": "2023-08-11T04:59:39.054515Z",
     "iopub.status.idle": "2023-08-11T04:59:39.058667Z",
     "shell.execute_reply": "2023-08-11T04:59:39.057799Z"
    },
    "papermill": {
     "duration": 0.119028,
     "end_time": "2023-08-11T04:59:39.060933",
     "exception": false,
     "start_time": "2023-08-11T04:59:38.941905",
     "status": "completed"
    },
    "tags": []
   },
   "outputs": [],
   "source": [
    "# sub = pd.read_csv('submission.csv')\n",
    "# sub.shape, sub.head()"
   ]
  },
  {
   "cell_type": "code",
   "execution_count": 171,
   "id": "c07b2d1d",
   "metadata": {
    "execution": {
     "iopub.execute_input": "2023-08-11T04:59:39.284522Z",
     "iopub.status.busy": "2023-08-11T04:59:39.283608Z",
     "iopub.status.idle": "2023-08-11T04:59:39.289603Z",
     "shell.execute_reply": "2023-08-11T04:59:39.288530Z"
    },
    "papermill": {
     "duration": 0.119514,
     "end_time": "2023-08-11T04:59:39.292157",
     "exception": false,
     "start_time": "2023-08-11T04:59:39.172643",
     "status": "completed"
    },
    "tags": []
   },
   "outputs": [],
   "source": [
    "# sub['sentiment'].value_counts()"
   ]
  },
  {
   "cell_type": "markdown",
   "id": "7cfb2c76",
   "metadata": {
    "papermill": {
     "duration": 0.107964,
     "end_time": "2023-08-11T04:59:39.509467",
     "exception": false,
     "start_time": "2023-08-11T04:59:39.401503",
     "status": "completed"
    },
    "tags": []
   },
   "source": [
    "## submit_v3 for merged file models - does not retrain on whole data  "
   ]
  },
  {
   "cell_type": "code",
   "execution_count": 172,
   "id": "a45c01d3",
   "metadata": {
    "execution": {
     "iopub.execute_input": "2023-08-11T04:59:39.728879Z",
     "iopub.status.busy": "2023-08-11T04:59:39.728385Z",
     "iopub.status.idle": "2023-08-11T04:59:39.734003Z",
     "shell.execute_reply": "2023-08-11T04:59:39.732741Z"
    },
    "papermill": {
     "duration": 0.118585,
     "end_time": "2023-08-11T04:59:39.736345",
     "exception": false,
     "start_time": "2023-08-11T04:59:39.617760",
     "status": "completed"
    },
    "tags": []
   },
   "outputs": [],
   "source": [
    "# def submit_v3(selected_model=pipe_final):\n",
    "#     '''\n",
    "#     Note that \"selected_preprocessor\" is already used within selected_model or pipeline\n",
    "#     '''\n",
    "      \n",
    "#     # Predict on test.csv file\n",
    "#     merged_test = select_features(load_csv(\"test\"), load_csv(\"movies\"))\n",
    "#     X_test = merged_test.copy()\n",
    "    \n",
    "#     X_test = X_test[[\"audienceScore\", \"rating\", \"isFrequentReviewer\", \"reviewText\"]]    # This is a new line\n",
    "\n",
    "    \n",
    "#     y_pred = selected_model.predict(X_test)\n",
    "    \n",
    "#     pred_df = pd.DataFrame(y_pred)\n",
    "#     pred_df.columns = [\"sentiment\"]\n",
    "#     pred_df.index.name = \"id\"\n",
    "#     pred_df.to_csv(\"submission.csv\")\n",
    "    \n",
    "#     return \"Successfully created the submission file!!!\""
   ]
  },
  {
   "cell_type": "markdown",
   "id": "d251e17d",
   "metadata": {
    "papermill": {
     "duration": 0.108858,
     "end_time": "2023-08-11T04:59:39.955340",
     "exception": false,
     "start_time": "2023-08-11T04:59:39.846482",
     "status": "completed"
    },
    "tags": []
   },
   "source": [
    "### Uncomment to submit using v3 of submit function  "
   ]
  },
  {
   "cell_type": "code",
   "execution_count": 173,
   "id": "294a41ad",
   "metadata": {
    "execution": {
     "iopub.execute_input": "2023-08-11T04:59:40.255707Z",
     "iopub.status.busy": "2023-08-11T04:59:40.255242Z",
     "iopub.status.idle": "2023-08-11T04:59:40.259570Z",
     "shell.execute_reply": "2023-08-11T04:59:40.258701Z"
    },
    "papermill": {
     "duration": 0.121025,
     "end_time": "2023-08-11T04:59:40.261717",
     "exception": false,
     "start_time": "2023-08-11T04:59:40.140692",
     "status": "completed"
    },
    "tags": []
   },
   "outputs": [],
   "source": [
    "# submit_v3(selected_model=pipe_best4)"
   ]
  },
  {
   "cell_type": "markdown",
   "id": "dcf6fc63",
   "metadata": {
    "papermill": {
     "duration": 0.108369,
     "end_time": "2023-08-11T04:59:40.479791",
     "exception": false,
     "start_time": "2023-08-11T04:59:40.371422",
     "status": "completed"
    },
    "tags": []
   },
   "source": [
    "## Rough work  "
   ]
  },
  {
   "cell_type": "code",
   "execution_count": 174,
   "id": "1ff53185",
   "metadata": {
    "execution": {
     "iopub.execute_input": "2023-08-11T04:59:40.698631Z",
     "iopub.status.busy": "2023-08-11T04:59:40.697829Z",
     "iopub.status.idle": "2023-08-11T04:59:47.373107Z",
     "shell.execute_reply": "2023-08-11T04:59:47.371882Z"
    },
    "papermill": {
     "duration": 6.788446,
     "end_time": "2023-08-11T04:59:47.376360",
     "exception": false,
     "start_time": "2023-08-11T04:59:40.587914",
     "status": "completed"
    },
    "tags": []
   },
   "outputs": [],
   "source": [
    "    # Predict on test.csv file\n",
    "    merged_test = select_features(load_csv(\"test\"), load_csv(\"movies\"))\n",
    "    X_test = merged_test.copy()\n",
    "    \n",
    "    X_test = X_test[[\"audienceScore\", \"rating\", \"isFrequentReviewer\", \"reviewText\"]]    # This is a new line"
   ]
  },
  {
   "cell_type": "code",
   "execution_count": 175,
   "id": "ca1bf51c",
   "metadata": {
    "execution": {
     "iopub.execute_input": "2023-08-11T04:59:47.603121Z",
     "iopub.status.busy": "2023-08-11T04:59:47.602688Z",
     "iopub.status.idle": "2023-08-11T04:59:47.607650Z",
     "shell.execute_reply": "2023-08-11T04:59:47.606454Z"
    },
    "papermill": {
     "duration": 0.120687,
     "end_time": "2023-08-11T04:59:47.610306",
     "exception": false,
     "start_time": "2023-08-11T04:59:47.489619",
     "status": "completed"
    },
    "tags": []
   },
   "outputs": [],
   "source": [
    "# X_test.head()"
   ]
  },
  {
   "cell_type": "code",
   "execution_count": 176,
   "id": "4a1eacdc",
   "metadata": {
    "execution": {
     "iopub.execute_input": "2023-08-11T04:59:47.830285Z",
     "iopub.status.busy": "2023-08-11T04:59:47.829873Z",
     "iopub.status.idle": "2023-08-11T04:59:47.835450Z",
     "shell.execute_reply": "2023-08-11T04:59:47.833954Z"
    },
    "papermill": {
     "duration": 0.119809,
     "end_time": "2023-08-11T04:59:47.838237",
     "exception": false,
     "start_time": "2023-08-11T04:59:47.718428",
     "status": "completed"
    },
    "tags": []
   },
   "outputs": [],
   "source": [
    "# X_test['audienceScore'].describe()"
   ]
  },
  {
   "cell_type": "code",
   "execution_count": 177,
   "id": "90ea5287",
   "metadata": {
    "execution": {
     "iopub.execute_input": "2023-08-11T04:59:48.058088Z",
     "iopub.status.busy": "2023-08-11T04:59:48.057635Z",
     "iopub.status.idle": "2023-08-11T04:59:48.062807Z",
     "shell.execute_reply": "2023-08-11T04:59:48.061694Z"
    },
    "papermill": {
     "duration": 0.117517,
     "end_time": "2023-08-11T04:59:48.065172",
     "exception": false,
     "start_time": "2023-08-11T04:59:47.947655",
     "status": "completed"
    },
    "tags": []
   },
   "outputs": [],
   "source": [
    "# X_test['rating'].value_counts()"
   ]
  },
  {
   "cell_type": "code",
   "execution_count": 178,
   "id": "13482caa",
   "metadata": {
    "execution": {
     "iopub.execute_input": "2023-08-11T04:59:48.287895Z",
     "iopub.status.busy": "2023-08-11T04:59:48.287141Z",
     "iopub.status.idle": "2023-08-11T04:59:48.291270Z",
     "shell.execute_reply": "2023-08-11T04:59:48.290454Z"
    },
    "papermill": {
     "duration": 0.118302,
     "end_time": "2023-08-11T04:59:48.293433",
     "exception": false,
     "start_time": "2023-08-11T04:59:48.175131",
     "status": "completed"
    },
    "tags": []
   },
   "outputs": [],
   "source": [
    "# X_test['isFrequentReviewer'].value_counts()"
   ]
  },
  {
   "cell_type": "markdown",
   "id": "aa47bf74",
   "metadata": {
    "papermill": {
     "duration": 0.108082,
     "end_time": "2023-08-11T04:59:48.510910",
     "exception": false,
     "start_time": "2023-08-11T04:59:48.402828",
     "status": "completed"
    },
    "tags": []
   },
   "source": [
    "## Implement KNN classifier  "
   ]
  },
  {
   "cell_type": "code",
   "execution_count": 179,
   "id": "1f87b30f",
   "metadata": {
    "execution": {
     "iopub.execute_input": "2023-08-11T04:59:48.731477Z",
     "iopub.status.busy": "2023-08-11T04:59:48.730702Z",
     "iopub.status.idle": "2023-08-11T04:59:48.735047Z",
     "shell.execute_reply": "2023-08-11T04:59:48.734151Z"
    },
    "papermill": {
     "duration": 0.116555,
     "end_time": "2023-08-11T04:59:48.737443",
     "exception": false,
     "start_time": "2023-08-11T04:59:48.620888",
     "status": "completed"
    },
    "tags": []
   },
   "outputs": [],
   "source": [
    "# from sklearn.neighbors import KNeighborsClassifier"
   ]
  },
  {
   "cell_type": "code",
   "execution_count": 180,
   "id": "f2f18f4c",
   "metadata": {
    "execution": {
     "iopub.execute_input": "2023-08-11T04:59:48.959351Z",
     "iopub.status.busy": "2023-08-11T04:59:48.958888Z",
     "iopub.status.idle": "2023-08-11T04:59:48.964756Z",
     "shell.execute_reply": "2023-08-11T04:59:48.963351Z"
    },
    "papermill": {
     "duration": 0.119338,
     "end_time": "2023-08-11T04:59:48.967389",
     "exception": false,
     "start_time": "2023-08-11T04:59:48.848051",
     "status": "completed"
    },
    "tags": []
   },
   "outputs": [],
   "source": [
    "# Note that we are borrowing \"ct_final\" column transformer from above  "
   ]
  },
  {
   "cell_type": "code",
   "execution_count": 181,
   "id": "b6e4483f",
   "metadata": {
    "execution": {
     "iopub.execute_input": "2023-08-11T04:59:49.190288Z",
     "iopub.status.busy": "2023-08-11T04:59:49.188845Z",
     "iopub.status.idle": "2023-08-11T04:59:49.194821Z",
     "shell.execute_reply": "2023-08-11T04:59:49.193836Z"
    },
    "papermill": {
     "duration": 0.121859,
     "end_time": "2023-08-11T04:59:49.197371",
     "exception": false,
     "start_time": "2023-08-11T04:59:49.075512",
     "status": "completed"
    },
    "tags": []
   },
   "outputs": [],
   "source": [
    "# pipe_knn = Pipeline(steps=[\n",
    "#                         (\"preprocessor\", ct_final),\n",
    "#                         (\"model\", KNeighborsClassifier())\n",
    "#                     ])\n",
    "# pipe_knn"
   ]
  },
  {
   "cell_type": "code",
   "execution_count": 182,
   "id": "8601e7d6",
   "metadata": {
    "execution": {
     "iopub.execute_input": "2023-08-11T04:59:49.419430Z",
     "iopub.status.busy": "2023-08-11T04:59:49.418483Z",
     "iopub.status.idle": "2023-08-11T04:59:49.424070Z",
     "shell.execute_reply": "2023-08-11T04:59:49.422659Z"
    },
    "papermill": {
     "duration": 0.118901,
     "end_time": "2023-08-11T04:59:49.426453",
     "exception": false,
     "start_time": "2023-08-11T04:59:49.307552",
     "status": "completed"
    },
    "tags": []
   },
   "outputs": [],
   "source": [
    "# Train and predict on merged training data  \n",
    "# split_train_predict(merged_train_features, merged_train_labels, pipe_knn, test_size=0.25, random_state=42)"
   ]
  },
  {
   "cell_type": "markdown",
   "id": "f6b042ce",
   "metadata": {
    "papermill": {
     "duration": 0.108159,
     "end_time": "2023-08-11T04:59:49.642775",
     "exception": false,
     "start_time": "2023-08-11T04:59:49.534616",
     "status": "completed"
    },
    "tags": []
   },
   "source": [
    "# Part I (Older code)  "
   ]
  },
  {
   "cell_type": "markdown",
   "id": "1f1c6730",
   "metadata": {
    "papermill": {
     "duration": 0.109475,
     "end_time": "2023-08-11T04:59:49.860493",
     "exception": false,
     "start_time": "2023-08-11T04:59:49.751018",
     "status": "completed"
    },
    "tags": []
   },
   "source": [
    "### Logistic Regression with stop words  "
   ]
  },
  {
   "cell_type": "code",
   "execution_count": 183,
   "id": "a98aee28",
   "metadata": {
    "execution": {
     "iopub.execute_input": "2023-08-11T04:59:50.080433Z",
     "iopub.status.busy": "2023-08-11T04:59:50.079747Z",
     "iopub.status.idle": "2023-08-11T04:59:50.084224Z",
     "shell.execute_reply": "2023-08-11T04:59:50.082912Z"
    },
    "papermill": {
     "duration": 0.117886,
     "end_time": "2023-08-11T04:59:50.086920",
     "exception": false,
     "start_time": "2023-08-11T04:59:49.969034",
     "status": "completed"
    },
    "tags": []
   },
   "outputs": [],
   "source": [
    "# tvec_sw = TfidfVectorizer(stop_words=stop_words)"
   ]
  },
  {
   "cell_type": "code",
   "execution_count": 184,
   "id": "7a500d75",
   "metadata": {
    "execution": {
     "iopub.execute_input": "2023-08-11T04:59:50.307941Z",
     "iopub.status.busy": "2023-08-11T04:59:50.307426Z",
     "iopub.status.idle": "2023-08-11T04:59:50.312547Z",
     "shell.execute_reply": "2023-08-11T04:59:50.311553Z"
    },
    "papermill": {
     "duration": 0.118715,
     "end_time": "2023-08-11T04:59:50.314879",
     "exception": false,
     "start_time": "2023-08-11T04:59:50.196164",
     "status": "completed"
    },
    "tags": []
   },
   "outputs": [],
   "source": [
    "# logreg_sw_pipe = preprocess_n_train(X_train, y_train, tvec_sw, logreg)\n",
    "# logreg_sw_pipe"
   ]
  },
  {
   "cell_type": "code",
   "execution_count": 185,
   "id": "c3ebe054",
   "metadata": {
    "execution": {
     "iopub.execute_input": "2023-08-11T04:59:50.540250Z",
     "iopub.status.busy": "2023-08-11T04:59:50.539445Z",
     "iopub.status.idle": "2023-08-11T04:59:50.543889Z",
     "shell.execute_reply": "2023-08-11T04:59:50.542797Z"
    },
    "papermill": {
     "duration": 0.118826,
     "end_time": "2023-08-11T04:59:50.546345",
     "exception": false,
     "start_time": "2023-08-11T04:59:50.427519",
     "status": "completed"
    },
    "tags": []
   },
   "outputs": [],
   "source": [
    "# y_pred_logreg_sw = predict_n_evaluate(logreg_sw_pipe, X_test, y_test)\n",
    "# y_pred_logreg_sw"
   ]
  },
  {
   "cell_type": "markdown",
   "id": "0b42eadb",
   "metadata": {
    "papermill": {
     "duration": 0.111331,
     "end_time": "2023-08-11T04:59:50.770401",
     "exception": false,
     "start_time": "2023-08-11T04:59:50.659070",
     "status": "completed"
    },
    "tags": []
   },
   "source": [
    "### Logistic regression with different ngram ranges  "
   ]
  },
  {
   "cell_type": "code",
   "execution_count": 186,
   "id": "a5e046b1",
   "metadata": {
    "execution": {
     "iopub.execute_input": "2023-08-11T04:59:50.995389Z",
     "iopub.status.busy": "2023-08-11T04:59:50.994531Z",
     "iopub.status.idle": "2023-08-11T04:59:50.999452Z",
     "shell.execute_reply": "2023-08-11T04:59:50.998385Z"
    },
    "papermill": {
     "duration": 0.119808,
     "end_time": "2023-08-11T04:59:51.001943",
     "exception": false,
     "start_time": "2023-08-11T04:59:50.882135",
     "status": "completed"
    },
    "tags": []
   },
   "outputs": [],
   "source": [
    "# tvec_ngram_2 = TfidfVectorizer(ngram_range=(1,2))"
   ]
  },
  {
   "cell_type": "code",
   "execution_count": 187,
   "id": "62b0faaf",
   "metadata": {
    "execution": {
     "iopub.execute_input": "2023-08-11T04:59:51.225705Z",
     "iopub.status.busy": "2023-08-11T04:59:51.225181Z",
     "iopub.status.idle": "2023-08-11T04:59:51.230332Z",
     "shell.execute_reply": "2023-08-11T04:59:51.228842Z"
    },
    "papermill": {
     "duration": 0.120161,
     "end_time": "2023-08-11T04:59:51.232940",
     "exception": false,
     "start_time": "2023-08-11T04:59:51.112779",
     "status": "completed"
    },
    "tags": []
   },
   "outputs": [],
   "source": [
    "# logreg_ng2_pipe = preprocess_n_train(X_train, y_train, tvec_ngram_2, logreg)\n",
    "# logreg_ng2_pipe"
   ]
  },
  {
   "cell_type": "code",
   "execution_count": 188,
   "id": "731f64a2",
   "metadata": {
    "execution": {
     "iopub.execute_input": "2023-08-11T04:59:51.456121Z",
     "iopub.status.busy": "2023-08-11T04:59:51.455651Z",
     "iopub.status.idle": "2023-08-11T04:59:51.460587Z",
     "shell.execute_reply": "2023-08-11T04:59:51.459296Z"
    },
    "papermill": {
     "duration": 0.120115,
     "end_time": "2023-08-11T04:59:51.463112",
     "exception": false,
     "start_time": "2023-08-11T04:59:51.342997",
     "status": "completed"
    },
    "tags": []
   },
   "outputs": [],
   "source": [
    "# y_pred_logreg_ng2 = predict_n_evaluate(logreg_ng2_pipe, X_test, y_test)\n",
    "# y_pred_logreg_ng2"
   ]
  },
  {
   "cell_type": "markdown",
   "id": "8a12ec15",
   "metadata": {
    "papermill": {
     "duration": 0.108625,
     "end_time": "2023-08-11T04:59:51.681312",
     "exception": false,
     "start_time": "2023-08-11T04:59:51.572687",
     "status": "completed"
    },
    "tags": []
   },
   "source": [
    "### Logistic regression with C=2, ngram range (1,2), stop words as None and min_df, max_df adjusted\n",
    "### Class weight balanced"
   ]
  },
  {
   "cell_type": "code",
   "execution_count": 189,
   "id": "cf198b6d",
   "metadata": {
    "execution": {
     "iopub.execute_input": "2023-08-11T04:59:51.903690Z",
     "iopub.status.busy": "2023-08-11T04:59:51.903197Z",
     "iopub.status.idle": "2023-08-11T04:59:51.908512Z",
     "shell.execute_reply": "2023-08-11T04:59:51.907027Z"
    },
    "papermill": {
     "duration": 0.121123,
     "end_time": "2023-08-11T04:59:51.911244",
     "exception": false,
     "start_time": "2023-08-11T04:59:51.790121",
     "status": "completed"
    },
    "tags": []
   },
   "outputs": [],
   "source": [
    "# logreg = LogisticRegression(max_iter=100000, C=2, class_weight=\"balanced\")"
   ]
  },
  {
   "cell_type": "code",
   "execution_count": 190,
   "id": "7f742245",
   "metadata": {
    "execution": {
     "iopub.execute_input": "2023-08-11T04:59:52.136123Z",
     "iopub.status.busy": "2023-08-11T04:59:52.135633Z",
     "iopub.status.idle": "2023-08-11T04:59:52.141041Z",
     "shell.execute_reply": "2023-08-11T04:59:52.139759Z"
    },
    "papermill": {
     "duration": 0.119242,
     "end_time": "2023-08-11T04:59:52.143179",
     "exception": false,
     "start_time": "2023-08-11T04:59:52.023937",
     "status": "completed"
    },
    "tags": []
   },
   "outputs": [],
   "source": [
    "# tvec_ngram_2_sw_df = TfidfVectorizer(ngram_range=(1,2), stop_words=None, min_df=0.0001, max_df=0.50)\n",
    "# tvec_ngram_2_sw_df"
   ]
  },
  {
   "cell_type": "code",
   "execution_count": 191,
   "id": "7ac4a3d7",
   "metadata": {
    "execution": {
     "iopub.execute_input": "2023-08-11T04:59:52.365287Z",
     "iopub.status.busy": "2023-08-11T04:59:52.363881Z",
     "iopub.status.idle": "2023-08-11T04:59:52.369156Z",
     "shell.execute_reply": "2023-08-11T04:59:52.367947Z"
    },
    "papermill": {
     "duration": 0.119148,
     "end_time": "2023-08-11T04:59:52.371524",
     "exception": false,
     "start_time": "2023-08-11T04:59:52.252376",
     "status": "completed"
    },
    "tags": []
   },
   "outputs": [],
   "source": [
    "# logreg_ng2_sw_df_pipe = preprocess_n_train(X_train, y_train, tvec_ngram_2_sw_df, logreg)\n",
    "# logreg_ng2_sw_df_pipe"
   ]
  },
  {
   "cell_type": "code",
   "execution_count": 192,
   "id": "6ee60372",
   "metadata": {
    "execution": {
     "iopub.execute_input": "2023-08-11T04:59:52.594036Z",
     "iopub.status.busy": "2023-08-11T04:59:52.592274Z",
     "iopub.status.idle": "2023-08-11T04:59:52.598314Z",
     "shell.execute_reply": "2023-08-11T04:59:52.597364Z"
    },
    "papermill": {
     "duration": 0.119696,
     "end_time": "2023-08-11T04:59:52.600767",
     "exception": false,
     "start_time": "2023-08-11T04:59:52.481071",
     "status": "completed"
    },
    "tags": []
   },
   "outputs": [],
   "source": [
    "# y_pred_logreg_ng2_sw_df = predict_n_evaluate(logreg_ng2_sw_df_pipe, X_test, y_test)\n",
    "# y_pred_logreg_ng2_sw_df"
   ]
  },
  {
   "cell_type": "markdown",
   "id": "408297ca",
   "metadata": {
    "papermill": {
     "duration": 0.109802,
     "end_time": "2023-08-11T04:59:52.895578",
     "exception": false,
     "start_time": "2023-08-11T04:59:52.785776",
     "status": "completed"
    },
    "tags": []
   },
   "source": [
    "### Log reg with parameters from GridSearchCV  \n",
    "\n",
    "`This is the best score with \"reviewText column alone for analysis`  "
   ]
  },
  {
   "cell_type": "code",
   "execution_count": 193,
   "id": "d07166a3",
   "metadata": {
    "execution": {
     "iopub.execute_input": "2023-08-11T04:59:53.116290Z",
     "iopub.status.busy": "2023-08-11T04:59:53.115532Z",
     "iopub.status.idle": "2023-08-11T04:59:53.121521Z",
     "shell.execute_reply": "2023-08-11T04:59:53.120201Z"
    },
    "papermill": {
     "duration": 0.119577,
     "end_time": "2023-08-11T04:59:53.124300",
     "exception": false,
     "start_time": "2023-08-11T04:59:53.004723",
     "status": "completed"
    },
    "tags": []
   },
   "outputs": [],
   "source": [
    "logreg_cv1 = LogisticRegression(max_iter=100000, C=10)\n",
    "tvec_cv1 = TfidfVectorizer(max_features=None, ngram_range=(1,2))"
   ]
  },
  {
   "cell_type": "code",
   "execution_count": 194,
   "id": "a55ee506",
   "metadata": {
    "execution": {
     "iopub.execute_input": "2023-08-11T04:59:53.348001Z",
     "iopub.status.busy": "2023-08-11T04:59:53.347579Z",
     "iopub.status.idle": "2023-08-11T04:59:53.353339Z",
     "shell.execute_reply": "2023-08-11T04:59:53.351869Z"
    },
    "papermill": {
     "duration": 0.120775,
     "end_time": "2023-08-11T04:59:53.355962",
     "exception": false,
     "start_time": "2023-08-11T04:59:53.235187",
     "status": "completed"
    },
    "tags": []
   },
   "outputs": [],
   "source": [
    "pipe_cv1 = Pipeline(steps=[\n",
    "    (\"preprocessor\", tvec_cv1),\n",
    "    (\"model\", logreg_cv1)\n",
    "])"
   ]
  },
  {
   "cell_type": "code",
   "execution_count": 195,
   "id": "b9755a7d",
   "metadata": {
    "execution": {
     "iopub.execute_input": "2023-08-11T04:59:53.577853Z",
     "iopub.status.busy": "2023-08-11T04:59:53.576359Z",
     "iopub.status.idle": "2023-08-11T04:59:53.581865Z",
     "shell.execute_reply": "2023-08-11T04:59:53.580796Z"
    },
    "papermill": {
     "duration": 0.118638,
     "end_time": "2023-08-11T04:59:53.584374",
     "exception": false,
     "start_time": "2023-08-11T04:59:53.465736",
     "status": "completed"
    },
    "tags": []
   },
   "outputs": [],
   "source": [
    "# pipe_cv1.fit(X_train, y_train)"
   ]
  },
  {
   "cell_type": "code",
   "execution_count": 196,
   "id": "d4718e76",
   "metadata": {
    "execution": {
     "iopub.execute_input": "2023-08-11T04:59:53.803043Z",
     "iopub.status.busy": "2023-08-11T04:59:53.802595Z",
     "iopub.status.idle": "2023-08-11T04:59:53.807624Z",
     "shell.execute_reply": "2023-08-11T04:59:53.806331Z"
    },
    "papermill": {
     "duration": 0.117374,
     "end_time": "2023-08-11T04:59:53.809922",
     "exception": false,
     "start_time": "2023-08-11T04:59:53.692548",
     "status": "completed"
    },
    "tags": []
   },
   "outputs": [],
   "source": [
    "# pipe_cv1.score(X_train, y_train)"
   ]
  },
  {
   "cell_type": "markdown",
   "id": "9224fa27",
   "metadata": {
    "papermill": {
     "duration": 0.108677,
     "end_time": "2023-08-11T04:59:54.030958",
     "exception": false,
     "start_time": "2023-08-11T04:59:53.922281",
     "status": "completed"
    },
    "tags": []
   },
   "source": [
    "### SVM model with stop words  "
   ]
  },
  {
   "cell_type": "code",
   "execution_count": 197,
   "id": "a90b8c3c",
   "metadata": {
    "execution": {
     "iopub.execute_input": "2023-08-11T04:59:54.251921Z",
     "iopub.status.busy": "2023-08-11T04:59:54.251469Z",
     "iopub.status.idle": "2023-08-11T04:59:54.256840Z",
     "shell.execute_reply": "2023-08-11T04:59:54.255230Z"
    },
    "papermill": {
     "duration": 0.118126,
     "end_time": "2023-08-11T04:59:54.259388",
     "exception": false,
     "start_time": "2023-08-11T04:59:54.141262",
     "status": "completed"
    },
    "tags": []
   },
   "outputs": [],
   "source": [
    "# svm_sw_pipe = preprocess_n_train(X_train, y_train, tvec_sw, svm)\n",
    "# svm_sw_pipe"
   ]
  },
  {
   "cell_type": "code",
   "execution_count": 198,
   "id": "2e5146e4",
   "metadata": {
    "execution": {
     "iopub.execute_input": "2023-08-11T04:59:54.479255Z",
     "iopub.status.busy": "2023-08-11T04:59:54.478851Z",
     "iopub.status.idle": "2023-08-11T04:59:54.483393Z",
     "shell.execute_reply": "2023-08-11T04:59:54.482146Z"
    },
    "papermill": {
     "duration": 0.11816,
     "end_time": "2023-08-11T04:59:54.485859",
     "exception": false,
     "start_time": "2023-08-11T04:59:54.367699",
     "status": "completed"
    },
    "tags": []
   },
   "outputs": [],
   "source": [
    "# y_pred_svm_sw = predict_n_evaluate(svm_sw_pipe, X_test, y_test)\n",
    "# y_pred_svm_sw"
   ]
  },
  {
   "cell_type": "markdown",
   "id": "17ea8660",
   "metadata": {
    "papermill": {
     "duration": 0.10783,
     "end_time": "2023-08-11T04:59:54.701727",
     "exception": false,
     "start_time": "2023-08-11T04:59:54.593897",
     "status": "completed"
    },
    "tags": []
   },
   "source": [
    "### GaussianNB  "
   ]
  },
  {
   "cell_type": "markdown",
   "id": "77b4c498",
   "metadata": {
    "papermill": {
     "duration": 0.109611,
     "end_time": "2023-08-11T04:59:54.919586",
     "exception": false,
     "start_time": "2023-08-11T04:59:54.809975",
     "status": "completed"
    },
    "tags": []
   },
   "source": [
    "https://stackoverflow.com/questions/28384680/scikit-learns-pipeline-a-sparse-matrix-was-passed-but-dense-data-is-required"
   ]
  },
  {
   "cell_type": "code",
   "execution_count": 199,
   "id": "d6fd4326",
   "metadata": {
    "execution": {
     "iopub.execute_input": "2023-08-11T04:59:55.141254Z",
     "iopub.status.busy": "2023-08-11T04:59:55.140366Z",
     "iopub.status.idle": "2023-08-11T04:59:55.144415Z",
     "shell.execute_reply": "2023-08-11T04:59:55.143619Z"
    },
    "papermill": {
     "duration": 0.118253,
     "end_time": "2023-08-11T04:59:55.146835",
     "exception": false,
     "start_time": "2023-08-11T04:59:55.028582",
     "status": "completed"
    },
    "tags": []
   },
   "outputs": [],
   "source": [
    "# gnb = GaussianNB()\n",
    "# gnb"
   ]
  },
  {
   "cell_type": "code",
   "execution_count": 200,
   "id": "6b5eba5b",
   "metadata": {
    "execution": {
     "iopub.execute_input": "2023-08-11T04:59:55.368346Z",
     "iopub.status.busy": "2023-08-11T04:59:55.367900Z",
     "iopub.status.idle": "2023-08-11T04:59:55.372153Z",
     "shell.execute_reply": "2023-08-11T04:59:55.371240Z"
    },
    "papermill": {
     "duration": 0.117282,
     "end_time": "2023-08-11T04:59:55.374413",
     "exception": false,
     "start_time": "2023-08-11T04:59:55.257131",
     "status": "completed"
    },
    "tags": []
   },
   "outputs": [],
   "source": [
    "# gnb_pipe = preprocess_n_train(X_train, y_train, tvec, gnb)\n",
    "# gnb_pipe"
   ]
  },
  {
   "cell_type": "markdown",
   "id": "0d17322f",
   "metadata": {
    "papermill": {
     "duration": 0.109063,
     "end_time": "2023-08-11T04:59:55.593183",
     "exception": false,
     "start_time": "2023-08-11T04:59:55.484120",
     "status": "completed"
    },
    "tags": []
   },
   "source": [
    "# Part II (Older code)  \n"
   ]
  },
  {
   "cell_type": "markdown",
   "id": "3fea4606",
   "metadata": {
    "papermill": {
     "duration": 0.109584,
     "end_time": "2023-08-11T04:59:55.812982",
     "exception": false,
     "start_time": "2023-08-11T04:59:55.703398",
     "status": "completed"
    },
    "tags": []
   },
   "source": [
    "### Separate features and labels from merged dataset  "
   ]
  },
  {
   "cell_type": "code",
   "execution_count": 201,
   "id": "7bfb4092",
   "metadata": {
    "execution": {
     "iopub.execute_input": "2023-08-11T04:59:56.058235Z",
     "iopub.status.busy": "2023-08-11T04:59:56.057058Z",
     "iopub.status.idle": "2023-08-11T04:59:56.061946Z",
     "shell.execute_reply": "2023-08-11T04:59:56.060929Z"
    },
    "papermill": {
     "duration": 0.117627,
     "end_time": "2023-08-11T04:59:56.064381",
     "exception": false,
     "start_time": "2023-08-11T04:59:55.946754",
     "status": "completed"
    },
    "tags": []
   },
   "outputs": [],
   "source": [
    "# merged_train_features = merged[['movieid', 'reviewerName', 'isFrequentReviewer', 'reviewText',\n",
    "#        'audienceScore', 'rating', 'runtimeMinutes', 'genre',\n",
    "#        'originalLanguage', 'director']]\n",
    "# merged_train_features.shape"
   ]
  },
  {
   "cell_type": "code",
   "execution_count": 202,
   "id": "7d1f8767",
   "metadata": {
    "execution": {
     "iopub.execute_input": "2023-08-11T04:59:56.288853Z",
     "iopub.status.busy": "2023-08-11T04:59:56.288104Z",
     "iopub.status.idle": "2023-08-11T04:59:56.292518Z",
     "shell.execute_reply": "2023-08-11T04:59:56.291525Z"
    },
    "papermill": {
     "duration": 0.119038,
     "end_time": "2023-08-11T04:59:56.294873",
     "exception": false,
     "start_time": "2023-08-11T04:59:56.175835",
     "status": "completed"
    },
    "tags": []
   },
   "outputs": [],
   "source": [
    "# merged_train_labels = merged[\"sentiment\"]\n",
    "# merged_train_labels.shape"
   ]
  },
  {
   "cell_type": "markdown",
   "id": "54f0412d",
   "metadata": {
    "papermill": {
     "duration": 0.108056,
     "end_time": "2023-08-11T04:59:56.511169",
     "exception": false,
     "start_time": "2023-08-11T04:59:56.403113",
     "status": "completed"
    },
    "tags": []
   },
   "source": [
    "### Identify variable types for different preprocessing pipes  "
   ]
  },
  {
   "cell_type": "code",
   "execution_count": 203,
   "id": "5fb7a57f",
   "metadata": {
    "execution": {
     "iopub.execute_input": "2023-08-11T04:59:56.730885Z",
     "iopub.status.busy": "2023-08-11T04:59:56.730398Z",
     "iopub.status.idle": "2023-08-11T04:59:56.736070Z",
     "shell.execute_reply": "2023-08-11T04:59:56.734597Z"
    },
    "papermill": {
     "duration": 0.119069,
     "end_time": "2023-08-11T04:59:56.738402",
     "exception": false,
     "start_time": "2023-08-11T04:59:56.619333",
     "status": "completed"
    },
    "tags": []
   },
   "outputs": [],
   "source": [
    "# num_vars = [\"audienceScore\", \"runtimeMinutes\"]\n",
    "# txt_vars = [\"originalLanguage\", \"genre\", \"director\", \"reviewerName\", \"reviewText\"]\n",
    "# cat_vars = [\"rating\", \"isFrequentReviewer\"]"
   ]
  },
  {
   "cell_type": "code",
   "execution_count": 204,
   "id": "df6b765f",
   "metadata": {
    "execution": {
     "iopub.execute_input": "2023-08-11T04:59:56.959334Z",
     "iopub.status.busy": "2023-08-11T04:59:56.958895Z",
     "iopub.status.idle": "2023-08-11T04:59:56.964428Z",
     "shell.execute_reply": "2023-08-11T04:59:56.963181Z"
    },
    "papermill": {
     "duration": 0.119191,
     "end_time": "2023-08-11T04:59:56.967006",
     "exception": false,
     "start_time": "2023-08-11T04:59:56.847815",
     "status": "completed"
    },
    "tags": []
   },
   "outputs": [],
   "source": [
    "# num_pipe = Pipeline(steps=[\n",
    "#                             (\"imputer\", SimpleImputer(strategy=\"mean\", missing_values=np.nan)),\n",
    "#                             (\"scaler\", MinMaxScaler())\n",
    "#                         ])\n",
    "# num_pipe"
   ]
  },
  {
   "cell_type": "code",
   "execution_count": 205,
   "id": "1c86fe9c",
   "metadata": {
    "execution": {
     "iopub.execute_input": "2023-08-11T04:59:57.192615Z",
     "iopub.status.busy": "2023-08-11T04:59:57.192165Z",
     "iopub.status.idle": "2023-08-11T04:59:57.196420Z",
     "shell.execute_reply": "2023-08-11T04:59:57.195542Z"
    },
    "papermill": {
     "duration": 0.120915,
     "end_time": "2023-08-11T04:59:57.198864",
     "exception": false,
     "start_time": "2023-08-11T04:59:57.077949",
     "status": "completed"
    },
    "tags": []
   },
   "outputs": [],
   "source": [
    "# txt_pipe = Pipeline(steps=[\n",
    "#                             (\"tvec\", TfidfVectorizer())\n",
    "#                         ])\n",
    "# txt_pipe"
   ]
  },
  {
   "cell_type": "code",
   "execution_count": 206,
   "id": "9af27db9",
   "metadata": {
    "execution": {
     "iopub.execute_input": "2023-08-11T04:59:57.423239Z",
     "iopub.status.busy": "2023-08-11T04:59:57.422702Z",
     "iopub.status.idle": "2023-08-11T04:59:57.427994Z",
     "shell.execute_reply": "2023-08-11T04:59:57.426856Z"
    },
    "papermill": {
     "duration": 0.119778,
     "end_time": "2023-08-11T04:59:57.430639",
     "exception": false,
     "start_time": "2023-08-11T04:59:57.310861",
     "status": "completed"
    },
    "tags": []
   },
   "outputs": [],
   "source": [
    "# cat_pipe = Pipeline(steps=[\n",
    "#                             (\"ohe\", OneHotEncoder(handle_unknown=\"ignore\"))\n",
    "#                         ])\n",
    "# cat_pipe"
   ]
  },
  {
   "cell_type": "code",
   "execution_count": 207,
   "id": "5bcfc9d4",
   "metadata": {
    "execution": {
     "iopub.execute_input": "2023-08-11T04:59:57.656586Z",
     "iopub.status.busy": "2023-08-11T04:59:57.655864Z",
     "iopub.status.idle": "2023-08-11T04:59:57.661191Z",
     "shell.execute_reply": "2023-08-11T04:59:57.659939Z"
    },
    "papermill": {
     "duration": 0.121934,
     "end_time": "2023-08-11T04:59:57.663767",
     "exception": false,
     "start_time": "2023-08-11T04:59:57.541833",
     "status": "completed"
    },
    "tags": []
   },
   "outputs": [],
   "source": [
    "# tfidf_vec_1 = TfidfVectorizer(ngram_range=(1,2))\n",
    "# tfidf_vec_1"
   ]
  },
  {
   "cell_type": "code",
   "execution_count": 208,
   "id": "22d7b715",
   "metadata": {
    "execution": {
     "iopub.execute_input": "2023-08-11T04:59:57.887059Z",
     "iopub.status.busy": "2023-08-11T04:59:57.886647Z",
     "iopub.status.idle": "2023-08-11T04:59:57.892643Z",
     "shell.execute_reply": "2023-08-11T04:59:57.891074Z"
    },
    "papermill": {
     "duration": 0.123109,
     "end_time": "2023-08-11T04:59:57.895041",
     "exception": false,
     "start_time": "2023-08-11T04:59:57.771932",
     "status": "completed"
    },
    "tags": []
   },
   "outputs": [],
   "source": [
    "# ct_final = ColumnTransformer(transformers=[\n",
    "#                                         (\"num\", num_pipe, num_vars),\n",
    "#                                         (\"txt1\", txt_pipe, \"originalLanguage\"),\n",
    "#                                         (\"txt2\", txt_pipe, \"genre\"),\n",
    "#                                         (\"txt3\", txt_pipe, \"director\"),\n",
    "#                                         (\"cat\", cat_pipe, cat_vars),\n",
    "#                                         (\"txt4a\", tfidf_vec_1, \"reviewText\")\n",
    "# #                                         (\"txt4\", TfidfVectorizer(ngram_range=(1,2)), \"reviewText\"),\n",
    "# #                                         (\"cat2\", cat_pipe, [\"isFrequentReviewer\"])\n",
    "#                                         ], remainder=\"drop\", n_jobs=1)\n",
    "\n",
    "# # Note that this transformer drops \"movieid\" column and \"reviewerName\" column  \n",
    "# ct_final"
   ]
  },
  {
   "cell_type": "code",
   "execution_count": 209,
   "id": "c32a1656",
   "metadata": {
    "execution": {
     "iopub.execute_input": "2023-08-11T04:59:58.117516Z",
     "iopub.status.busy": "2023-08-11T04:59:58.117087Z",
     "iopub.status.idle": "2023-08-11T04:59:58.122509Z",
     "shell.execute_reply": "2023-08-11T04:59:58.121032Z"
    },
    "papermill": {
     "duration": 0.119646,
     "end_time": "2023-08-11T04:59:58.125316",
     "exception": false,
     "start_time": "2023-08-11T04:59:58.005670",
     "status": "completed"
    },
    "tags": []
   },
   "outputs": [],
   "source": [
    "# pipe_final = Pipeline(steps=[\n",
    "#                         (\"preprocessor\", ct_final),\n",
    "#                         (\"model\", LogisticRegression(max_iter=100000))\n",
    "#                     ])\n",
    "# pipe_final"
   ]
  },
  {
   "cell_type": "code",
   "execution_count": 210,
   "id": "c774ded6",
   "metadata": {
    "execution": {
     "iopub.execute_input": "2023-08-11T04:59:58.348688Z",
     "iopub.status.busy": "2023-08-11T04:59:58.348219Z",
     "iopub.status.idle": "2023-08-11T04:59:58.352610Z",
     "shell.execute_reply": "2023-08-11T04:59:58.351660Z"
    },
    "papermill": {
     "duration": 0.119111,
     "end_time": "2023-08-11T04:59:58.354895",
     "exception": false,
     "start_time": "2023-08-11T04:59:58.235784",
     "status": "completed"
    },
    "tags": []
   },
   "outputs": [],
   "source": [
    "# final_vars = num_vars + txt_vars + cat_vars\n",
    "# len(final_vars), final_vars"
   ]
  },
  {
   "cell_type": "markdown",
   "id": "3acf90bb",
   "metadata": {
    "papermill": {
     "duration": 0.110259,
     "end_time": "2023-08-11T04:59:58.574426",
     "exception": false,
     "start_time": "2023-08-11T04:59:58.464167",
     "status": "completed"
    },
    "tags": []
   },
   "source": [
    "### Use \"split_train_predict\" function to run end-to-end pipeline  "
   ]
  },
  {
   "cell_type": "code",
   "execution_count": 211,
   "id": "ed9331d8",
   "metadata": {
    "execution": {
     "iopub.execute_input": "2023-08-11T04:59:58.795278Z",
     "iopub.status.busy": "2023-08-11T04:59:58.794870Z",
     "iopub.status.idle": "2023-08-11T04:59:58.798988Z",
     "shell.execute_reply": "2023-08-11T04:59:58.797980Z"
    },
    "papermill": {
     "duration": 0.117607,
     "end_time": "2023-08-11T04:59:58.801338",
     "exception": false,
     "start_time": "2023-08-11T04:59:58.683731",
     "status": "completed"
    },
    "tags": []
   },
   "outputs": [],
   "source": [
    "# split_train_predict(merged_train_features, merged_train_labels, pipe_final, test_size=0.25, random_state=42)"
   ]
  },
  {
   "cell_type": "markdown",
   "id": "7f2c62d3",
   "metadata": {
    "papermill": {
     "duration": 0.109849,
     "end_time": "2023-08-11T04:59:59.024034",
     "exception": false,
     "start_time": "2023-08-11T04:59:58.914185",
     "status": "completed"
    },
    "tags": []
   },
   "source": [
    "## Try the best four features obtained on local machine  "
   ]
  },
  {
   "cell_type": "code",
   "execution_count": 212,
   "id": "b6a4d33b",
   "metadata": {
    "execution": {
     "iopub.execute_input": "2023-08-11T04:59:59.245856Z",
     "iopub.status.busy": "2023-08-11T04:59:59.245072Z",
     "iopub.status.idle": "2023-08-11T04:59:59.250222Z",
     "shell.execute_reply": "2023-08-11T04:59:59.248946Z"
    },
    "papermill": {
     "duration": 0.118364,
     "end_time": "2023-08-11T04:59:59.252953",
     "exception": false,
     "start_time": "2023-08-11T04:59:59.134589",
     "status": "completed"
    },
    "tags": []
   },
   "outputs": [],
   "source": [
    "# tfidf_vec_2 = TfidfVectorizer(ngram_range=(1,2))\n",
    "# tfidf_vec_2"
   ]
  },
  {
   "cell_type": "code",
   "execution_count": 213,
   "id": "5ec3d57b",
   "metadata": {
    "execution": {
     "iopub.execute_input": "2023-08-11T04:59:59.478842Z",
     "iopub.status.busy": "2023-08-11T04:59:59.478397Z",
     "iopub.status.idle": "2023-08-11T04:59:59.483946Z",
     "shell.execute_reply": "2023-08-11T04:59:59.482681Z"
    },
    "papermill": {
     "duration": 0.123005,
     "end_time": "2023-08-11T04:59:59.486679",
     "exception": false,
     "start_time": "2023-08-11T04:59:59.363674",
     "status": "completed"
    },
    "tags": []
   },
   "outputs": [],
   "source": [
    "# ct_best4 = ColumnTransformer(transformers=[\n",
    "#                                             (\"num\", num_pipe, [\"audienceScore\"]),\n",
    "#                                             (\"cat\", cat_pipe, [\"rating\", \"isFrequentReviewer\"]),\n",
    "#                                             (\"tvec\", tfidf_vec_2, \"reviewText\")\n",
    "#                             ])\n",
    "\n",
    "# pipe_best4 = Pipeline(steps=[\n",
    "#     (\"preprocessor\", ct_best4),\n",
    "#     (\"model\", LogisticRegression())\n",
    "# ])\n",
    "\n",
    "# pipe_best4.set_params(model__C=10, model__max_iter=100000)\n",
    "\n",
    "# pipe_best4"
   ]
  },
  {
   "cell_type": "code",
   "execution_count": 214,
   "id": "060b1734",
   "metadata": {
    "execution": {
     "iopub.execute_input": "2023-08-11T04:59:59.708668Z",
     "iopub.status.busy": "2023-08-11T04:59:59.708190Z",
     "iopub.status.idle": "2023-08-11T04:59:59.712756Z",
     "shell.execute_reply": "2023-08-11T04:59:59.711911Z"
    },
    "papermill": {
     "duration": 0.118281,
     "end_time": "2023-08-11T04:59:59.714943",
     "exception": false,
     "start_time": "2023-08-11T04:59:59.596662",
     "status": "completed"
    },
    "tags": []
   },
   "outputs": [],
   "source": [
    "# split_train_predict(merged[[\"audienceScore\", \"rating\", \"isFrequentReviewer\", \"reviewText\"]], merged[\"sentiment\"], pipe_best4, test_size=0.25)"
   ]
  },
  {
   "cell_type": "markdown",
   "id": "25c148e2",
   "metadata": {
    "papermill": {
     "duration": 0.111953,
     "end_time": "2023-08-11T04:59:59.936544",
     "exception": false,
     "start_time": "2023-08-11T04:59:59.824591",
     "status": "completed"
    },
    "tags": []
   },
   "source": [
    "## Try only 'reviewText' column  "
   ]
  },
  {
   "cell_type": "code",
   "execution_count": 215,
   "id": "806b067e",
   "metadata": {
    "execution": {
     "iopub.execute_input": "2023-08-11T05:00:00.159501Z",
     "iopub.status.busy": "2023-08-11T05:00:00.159033Z",
     "iopub.status.idle": "2023-08-11T05:00:00.164369Z",
     "shell.execute_reply": "2023-08-11T05:00:00.163121Z"
    },
    "papermill": {
     "duration": 0.118626,
     "end_time": "2023-08-11T05:00:00.166709",
     "exception": false,
     "start_time": "2023-08-11T05:00:00.048083",
     "status": "completed"
    },
    "tags": []
   },
   "outputs": [],
   "source": [
    "# tfidf_vec_3 = TfidfVectorizer(ngram_range=(1,2))\n",
    "# tfidf_vec_3"
   ]
  },
  {
   "cell_type": "code",
   "execution_count": 216,
   "id": "680a0c17",
   "metadata": {
    "execution": {
     "iopub.execute_input": "2023-08-11T05:00:00.387332Z",
     "iopub.status.busy": "2023-08-11T05:00:00.386240Z",
     "iopub.status.idle": "2023-08-11T05:00:00.392502Z",
     "shell.execute_reply": "2023-08-11T05:00:00.391176Z"
    },
    "papermill": {
     "duration": 0.119925,
     "end_time": "2023-08-11T05:00:00.395115",
     "exception": false,
     "start_time": "2023-08-11T05:00:00.275190",
     "status": "completed"
    },
    "tags": []
   },
   "outputs": [],
   "source": [
    "# ct_RTonly = ColumnTransformer(transformers=[\n",
    "#                                             ('txt', tfidf_vec_3, 'reviewText'),\n",
    "#                                             ], remainder='drop')\n",
    "# ct_RTonly"
   ]
  },
  {
   "cell_type": "code",
   "execution_count": 217,
   "id": "a9e40dcc",
   "metadata": {
    "execution": {
     "iopub.execute_input": "2023-08-11T05:00:00.696328Z",
     "iopub.status.busy": "2023-08-11T05:00:00.695015Z",
     "iopub.status.idle": "2023-08-11T05:00:00.701019Z",
     "shell.execute_reply": "2023-08-11T05:00:00.699798Z"
    },
    "papermill": {
     "duration": 0.197308,
     "end_time": "2023-08-11T05:00:00.703633",
     "exception": false,
     "start_time": "2023-08-11T05:00:00.506325",
     "status": "completed"
    },
    "tags": []
   },
   "outputs": [],
   "source": [
    "# pipe_RTonly = Pipeline(steps=[\n",
    "#     (\"preprocessor\", ct_RTonly),\n",
    "#     (\"model\", LogisticRegression())\n",
    "# ])\n",
    "\n",
    "# pipe_RTonly.set_params(model__C=10, model__max_iter=100000)\n",
    "\n",
    "# pipe_RTonly"
   ]
  },
  {
   "cell_type": "markdown",
   "id": "59a8f8e9",
   "metadata": {
    "papermill": {
     "duration": 0.109808,
     "end_time": "2023-08-11T05:00:00.922007",
     "exception": false,
     "start_time": "2023-08-11T05:00:00.812199",
     "status": "completed"
    },
    "tags": []
   },
   "source": [
    "## Using the 'submit_v4' function  "
   ]
  },
  {
   "cell_type": "markdown",
   "id": "53b2b3bb",
   "metadata": {
    "papermill": {
     "duration": 0.109132,
     "end_time": "2023-08-11T05:00:01.140879",
     "exception": false,
     "start_time": "2023-08-11T05:00:01.031747",
     "status": "completed"
    },
    "tags": []
   },
   "source": [
    "### Try the best 4 parameters with submit_v4 function"
   ]
  },
  {
   "cell_type": "code",
   "execution_count": 218,
   "id": "9f44932c",
   "metadata": {
    "execution": {
     "iopub.execute_input": "2023-08-11T05:00:01.362286Z",
     "iopub.status.busy": "2023-08-11T05:00:01.361037Z",
     "iopub.status.idle": "2023-08-11T05:00:01.366376Z",
     "shell.execute_reply": "2023-08-11T05:00:01.365428Z"
    },
    "papermill": {
     "duration": 0.119147,
     "end_time": "2023-08-11T05:00:01.368824",
     "exception": false,
     "start_time": "2023-08-11T05:00:01.249677",
     "status": "completed"
    },
    "tags": []
   },
   "outputs": [],
   "source": [
    "# best4 = [\"audienceScore\", \"rating\", \"isFrequentReviewer\", \"reviewText\"]\n",
    "\n",
    "# best4_dict = {'cat': [\"rating\", \"isFrequentReviewer\"],\n",
    "#              'num': [\"audienceScore\"],\n",
    "#              'txt': ['reviewText']}\n",
    "\n",
    "# best4_dict = {'num': [\"audienceScore\"],\n",
    "#              'txt': ['reviewText', 'movieid', 'director']}\n",
    "\n",
    "# best4_dict"
   ]
  },
  {
   "cell_type": "code",
   "execution_count": 219,
   "id": "a00dd8ed",
   "metadata": {
    "execution": {
     "iopub.execute_input": "2023-08-11T05:00:01.593660Z",
     "iopub.status.busy": "2023-08-11T05:00:01.592761Z",
     "iopub.status.idle": "2023-08-11T05:00:01.598287Z",
     "shell.execute_reply": "2023-08-11T05:00:01.597342Z"
    },
    "papermill": {
     "duration": 0.121726,
     "end_time": "2023-08-11T05:00:01.600946",
     "exception": false,
     "start_time": "2023-08-11T05:00:01.479220",
     "status": "completed"
    },
    "tags": []
   },
   "outputs": [],
   "source": [
    "# submit_v4(selected_features=best4_dict)"
   ]
  },
  {
   "cell_type": "markdown",
   "id": "ec0b56c9",
   "metadata": {
    "papermill": {
     "duration": 0.10976,
     "end_time": "2023-08-11T05:00:01.822065",
     "exception": false,
     "start_time": "2023-08-11T05:00:01.712305",
     "status": "completed"
    },
    "tags": []
   },
   "source": [
    "### Try the best 3 parameters with submit_v4 function"
   ]
  },
  {
   "cell_type": "code",
   "execution_count": 220,
   "id": "553a9102",
   "metadata": {
    "execution": {
     "iopub.execute_input": "2023-08-11T05:00:02.041888Z",
     "iopub.status.busy": "2023-08-11T05:00:02.040613Z",
     "iopub.status.idle": "2023-08-11T05:00:02.045689Z",
     "shell.execute_reply": "2023-08-11T05:00:02.044702Z"
    },
    "papermill": {
     "duration": 0.117813,
     "end_time": "2023-08-11T05:00:02.048218",
     "exception": false,
     "start_time": "2023-08-11T05:00:01.930405",
     "status": "completed"
    },
    "tags": []
   },
   "outputs": [],
   "source": [
    "# best3 = [\"audienceScore\", \"isFrequentReviewer\", \"reviewText\"]\n",
    "# best3_dict = {'cat': [\"isFrequentReviewer\"],\n",
    "#              'num': [\"audienceScore\"],\n",
    "#              'txt': ['reviewText']}\n",
    "# best3_dict"
   ]
  },
  {
   "cell_type": "code",
   "execution_count": 221,
   "id": "4dcb2e71",
   "metadata": {
    "execution": {
     "iopub.execute_input": "2023-08-11T05:00:02.273850Z",
     "iopub.status.busy": "2023-08-11T05:00:02.272815Z",
     "iopub.status.idle": "2023-08-11T05:00:02.278522Z",
     "shell.execute_reply": "2023-08-11T05:00:02.277313Z"
    },
    "papermill": {
     "duration": 0.119012,
     "end_time": "2023-08-11T05:00:02.281123",
     "exception": false,
     "start_time": "2023-08-11T05:00:02.162111",
     "status": "completed"
    },
    "tags": []
   },
   "outputs": [],
   "source": [
    "# submit_v4(selected_features=best3_dict)"
   ]
  },
  {
   "cell_type": "markdown",
   "id": "803a3c62",
   "metadata": {
    "papermill": {
     "duration": 0.112387,
     "end_time": "2023-08-11T05:00:02.505444",
     "exception": false,
     "start_time": "2023-08-11T05:00:02.393057",
     "status": "completed"
    },
    "tags": []
   },
   "source": [
    "## Try throwing almost everything (no boxOffice) at submit_v4!  "
   ]
  },
  {
   "cell_type": "code",
   "execution_count": 222,
   "id": "7f19651b",
   "metadata": {
    "execution": {
     "iopub.execute_input": "2023-08-11T05:00:02.735707Z",
     "iopub.status.busy": "2023-08-11T05:00:02.734540Z",
     "iopub.status.idle": "2023-08-11T05:00:02.742400Z",
     "shell.execute_reply": "2023-08-11T05:00:02.741371Z"
    },
    "papermill": {
     "duration": 0.125756,
     "end_time": "2023-08-11T05:00:02.745166",
     "exception": false,
     "start_time": "2023-08-11T05:00:02.619410",
     "status": "completed"
    },
    "tags": []
   },
   "outputs": [
    {
     "data": {
      "text/plain": [
       "\"Most from merged = ['movieid', 'reviewerName', 'isFrequentReviewer', 'reviewText',\\n       'audienceScore', 'rating', 'runtimeMinutes', 'genre', \\n       'originalLanguage', 'director']\""
      ]
     },
     "execution_count": 222,
     "metadata": {},
     "output_type": "execute_result"
    }
   ],
   "source": [
    "\"\"\"Most from merged = ['movieid', 'reviewerName', 'isFrequentReviewer', 'reviewText',\n",
    "       'audienceScore', 'rating', 'runtimeMinutes', 'genre', \n",
    "       'originalLanguage', 'director']\"\"\"\n",
    "\n",
    "# almost_dict = {'cat': [\"isFrequentReviewer\", \"rating\", \"originalLanguage\"],\n",
    "#              'num': [\"audienceScore\", \"runtimeMinutes\"],\n",
    "#              'txt': ['reviewText', 'reviewerName', 'movieid', 'genre', 'director']}\n",
    "# almost_dict"
   ]
  },
  {
   "cell_type": "code",
   "execution_count": 223,
   "id": "f702fdc0",
   "metadata": {
    "execution": {
     "iopub.execute_input": "2023-08-11T05:00:02.970830Z",
     "iopub.status.busy": "2023-08-11T05:00:02.970064Z",
     "iopub.status.idle": "2023-08-11T05:00:02.974236Z",
     "shell.execute_reply": "2023-08-11T05:00:02.973313Z"
    },
    "papermill": {
     "duration": 0.117924,
     "end_time": "2023-08-11T05:00:02.976631",
     "exception": false,
     "start_time": "2023-08-11T05:00:02.858707",
     "status": "completed"
    },
    "tags": []
   },
   "outputs": [],
   "source": [
    "# submit_v4(selected_features=almost_dict)"
   ]
  },
  {
   "cell_type": "markdown",
   "id": "7906ae5a",
   "metadata": {
    "papermill": {
     "duration": 0.111982,
     "end_time": "2023-08-11T05:00:03.199913",
     "exception": false,
     "start_time": "2023-08-11T05:00:03.087931",
     "status": "completed"
    },
    "tags": []
   },
   "source": [
    "## Try throwing everything possible at submit_v4!  "
   ]
  },
  {
   "cell_type": "code",
   "execution_count": 224,
   "id": "4adb7ddf",
   "metadata": {
    "execution": {
     "iopub.execute_input": "2023-08-11T05:00:03.422826Z",
     "iopub.status.busy": "2023-08-11T05:00:03.422325Z",
     "iopub.status.idle": "2023-08-11T05:00:03.429331Z",
     "shell.execute_reply": "2023-08-11T05:00:03.428460Z"
    },
    "papermill": {
     "duration": 0.122397,
     "end_time": "2023-08-11T05:00:03.431446",
     "exception": false,
     "start_time": "2023-08-11T05:00:03.309049",
     "status": "completed"
    },
    "tags": []
   },
   "outputs": [
    {
     "data": {
      "text/plain": [
       "\"All from merged = ['movieid', 'reviewerName', 'isFrequentReviewer', 'reviewText',\\n       'audienceScore', 'rating', 'runtimeMinutes', 'genre', 'boxOffice',\\n       'originalLanguage', 'director']\""
      ]
     },
     "execution_count": 224,
     "metadata": {},
     "output_type": "execute_result"
    }
   ],
   "source": [
    "\"\"\"All from merged = ['movieid', 'reviewerName', 'isFrequentReviewer', 'reviewText',\n",
    "       'audienceScore', 'rating', 'runtimeMinutes', 'genre', 'boxOffice',\n",
    "       'originalLanguage', 'director']\"\"\"\n",
    "\n",
    "# all_dict = {'cat': [\"isFrequentReviewer\", \"rating\", \"originalLanguage\"],\n",
    "#              'num': [\"audienceScore\", \"runtimeMinutes\", \"boxOffice\"],\n",
    "#              'txt': ['reviewText', 'reviewerName', 'movieid', 'genre', 'director']}\n",
    "# all_dict"
   ]
  },
  {
   "cell_type": "code",
   "execution_count": 225,
   "id": "3badee49",
   "metadata": {
    "execution": {
     "iopub.execute_input": "2023-08-11T05:00:03.650708Z",
     "iopub.status.busy": "2023-08-11T05:00:03.649998Z",
     "iopub.status.idle": "2023-08-11T05:00:03.654038Z",
     "shell.execute_reply": "2023-08-11T05:00:03.653226Z"
    },
    "papermill": {
     "duration": 0.116608,
     "end_time": "2023-08-11T05:00:03.656227",
     "exception": false,
     "start_time": "2023-08-11T05:00:03.539619",
     "status": "completed"
    },
    "tags": []
   },
   "outputs": [],
   "source": [
    "# submit_v4(selected_features=all_dict)"
   ]
  },
  {
   "cell_type": "markdown",
   "id": "7caf9cd6",
   "metadata": {
    "papermill": {
     "duration": 0.108916,
     "end_time": "2023-08-11T05:00:03.874345",
     "exception": false,
     "start_time": "2023-08-11T05:00:03.765429",
     "status": "completed"
    },
    "tags": []
   },
   "source": [
    "## Try GridSearchCV on everything  "
   ]
  },
  {
   "cell_type": "code",
   "execution_count": 226,
   "id": "02cd61bf",
   "metadata": {
    "execution": {
     "iopub.execute_input": "2023-08-11T05:00:04.102701Z",
     "iopub.status.busy": "2023-08-11T05:00:04.101957Z",
     "iopub.status.idle": "2023-08-11T05:00:04.107115Z",
     "shell.execute_reply": "2023-08-11T05:00:04.105930Z"
    },
    "papermill": {
     "duration": 0.12188,
     "end_time": "2023-08-11T05:00:04.109521",
     "exception": false,
     "start_time": "2023-08-11T05:00:03.987641",
     "status": "completed"
    },
    "tags": []
   },
   "outputs": [],
   "source": [
    "# param_grid = {\n",
    "#     \"model__C\": [0.5, 2, 5, 15]\n",
    "# }\n",
    "\n",
    "# param_grid = {\n",
    "#     'model__C' : [1, 5],\n",
    "#     'model__solver': ['lbfgs', 'liblinear', 'newton-cg', 'newton-cholesky', 'sag', 'saga']\n",
    "# }\n",
    "\n",
    "# param_grid = {\n",
    "#     'model__C' : [1, 5],\n",
    "#     'model__solver': ['lbfgs', 'liblinear', 'sag', 'saga']\n",
    "# }\n",
    "\n",
    "# param_grid = {\n",
    "#     'model__C' : [1, 5, 10, 15],\n",
    "#     'model__solver': ['lbfgs', 'liblinear', 'saga', 'newton-cg']\n",
    "# }\n",
    "\n",
    "# param_grid = {\n",
    "#     'model__C' : [1, 5, 10, 20],\n",
    "#     'model__solver': ['lbfgs', 'liblinear', 'saga']\n",
    "# }\n",
    "\n",
    "# param_grid"
   ]
  },
  {
   "cell_type": "code",
   "execution_count": 227,
   "id": "6a60e03b",
   "metadata": {
    "execution": {
     "iopub.execute_input": "2023-08-11T05:00:04.333194Z",
     "iopub.status.busy": "2023-08-11T05:00:04.332508Z",
     "iopub.status.idle": "2023-08-11T05:00:04.336548Z",
     "shell.execute_reply": "2023-08-11T05:00:04.335656Z"
    },
    "papermill": {
     "duration": 0.119519,
     "end_time": "2023-08-11T05:00:04.339069",
     "exception": false,
     "start_time": "2023-08-11T05:00:04.219550",
     "status": "completed"
    },
    "tags": []
   },
   "outputs": [],
   "source": [
    "# submit_v4(selected_features={'txt': [\"genre\"]}, param_grid=param_grid)"
   ]
  },
  {
   "cell_type": "code",
   "execution_count": 228,
   "id": "ef25cffa",
   "metadata": {
    "execution": {
     "iopub.execute_input": "2023-08-11T05:00:04.565954Z",
     "iopub.status.busy": "2023-08-11T05:00:04.565223Z",
     "iopub.status.idle": "2023-08-11T05:00:04.572259Z",
     "shell.execute_reply": "2023-08-11T05:00:04.571280Z"
    },
    "papermill": {
     "duration": 0.122015,
     "end_time": "2023-08-11T05:00:04.574699",
     "exception": false,
     "start_time": "2023-08-11T05:00:04.452684",
     "status": "completed"
    },
    "tags": []
   },
   "outputs": [
    {
     "data": {
      "text/plain": [
       "\"Used 'groupby' function instead on 'drop_duplicates' on movies.csv file. \\nIt reduced the number of missing values significantly! \\nThen used LogisticRegression() with GridSearchCV on submit_v4 function with \\nparam_grid={'model__C': [1, 5, 10], 'model__solver': ['lbfgs', 'liblinear', 'saga']}. \\nThe best f1_micro score in GridSearchCV was 0.8399771362056203 which is highest among \\nall the versions so far. Best C was 5 and best solver was 'saga'.\\nScore obtained was 0.84385 which is lower than 0.84441.\""
      ]
     },
     "execution_count": 228,
     "metadata": {},
     "output_type": "execute_result"
    }
   ],
   "source": [
    "# submit_v4(selected_features=all_dict, param_grid=param_grid)\n",
    "\n",
    "# Best C was 5\n",
    "# Best solver was liblinear\n",
    "\n",
    "\"\"\"Used 'groupby' function instead on 'drop_duplicates' on movies.csv file. \n",
    "It reduced the number of missing values significantly! \n",
    "Then used LogisticRegression() with GridSearchCV on submit_v4 function with \n",
    "param_grid={'model__C': [1, 5, 10], 'model__solver': ['lbfgs', 'liblinear', 'saga']}. \n",
    "The best f1_micro score in GridSearchCV was 0.8399771362056203 which is highest among \n",
    "all the versions so far. Best C was 5 and best solver was 'saga'.\n",
    "Score obtained was 0.84385 which is lower than 0.84441.\"\"\""
   ]
  },
  {
   "cell_type": "code",
   "execution_count": 229,
   "id": "9ed3983f",
   "metadata": {
    "execution": {
     "iopub.execute_input": "2023-08-11T05:00:04.801345Z",
     "iopub.status.busy": "2023-08-11T05:00:04.800583Z",
     "iopub.status.idle": "2023-08-11T05:00:04.805329Z",
     "shell.execute_reply": "2023-08-11T05:00:04.804337Z"
    },
    "papermill": {
     "duration": 0.121053,
     "end_time": "2023-08-11T05:00:04.808541",
     "exception": false,
     "start_time": "2023-08-11T05:00:04.687488",
     "status": "completed"
    },
    "tags": []
   },
   "outputs": [],
   "source": [
    "# Best 5 parameters\n",
    "\n",
    "# best5_dict = {'num': [\"audienceScore\"],\n",
    "#              'txt': ['reviewText', 'reviewerName','movieid', 'director']}\n",
    "\n",
    "# best5_dict"
   ]
  },
  {
   "cell_type": "code",
   "execution_count": 230,
   "id": "cb10b399",
   "metadata": {
    "execution": {
     "iopub.execute_input": "2023-08-11T05:00:05.040483Z",
     "iopub.status.busy": "2023-08-11T05:00:05.039787Z",
     "iopub.status.idle": "2023-08-11T05:00:05.048601Z",
     "shell.execute_reply": "2023-08-11T05:00:05.047456Z"
    },
    "papermill": {
     "duration": 0.125205,
     "end_time": "2023-08-11T05:00:05.050939",
     "exception": false,
     "start_time": "2023-08-11T05:00:04.925734",
     "status": "completed"
    },
    "tags": []
   },
   "outputs": [
    {
     "data": {
      "text/plain": [
       "\"(Update): Used both CountVectorizer and TfidfVectorizer on a massive GridSearchCV \\nwhich took 22527.2s  (6.25 hrs) to run! Gave a score of 0.8439093822800923 locally and did not overfit!\\nBest params: {'model__C': 1, 'model__solver': 'liblinear'}.\\nHighest public score yet: 0.84591 (Rank up from 9 to 5!)\""
      ]
     },
     "execution_count": 230,
     "metadata": {},
     "output_type": "execute_result"
    }
   ],
   "source": [
    "# Submit best 5 features\n",
    "\n",
    "\"\"\"(Update): Used both CountVectorizer and TfidfVectorizer on a massive GridSearchCV \n",
    "which took 22527.2s  (6.25 hrs) to run! Gave a score of 0.8439093822800923 locally and did not overfit!\n",
    "Best params: {'model__C': 1, 'model__solver': 'liblinear'}.\n",
    "Highest public score yet: 0.84591 (Rank up from 9 to 5!)\"\"\"\n",
    "\n",
    "# param_grid = {\n",
    "#     'model__C' : [5, 10, 15],\n",
    "#     'model__solver': ['lbfgs', 'liblinear', 'saga']\n",
    "# }\n",
    "\n",
    "\n",
    "# Try new param_grid with fit_intercept and dual in logreg\n",
    "\n",
    "# param_grid = {\n",
    "#     'model__C' : [1],\n",
    "#     'model__solver': ['liblinear'],\n",
    "#     \"model__fit_intercept\" : [True, False],\n",
    "#     \"model__dual\" : [True, False] \n",
    "# }\n",
    "\n",
    "\n",
    "# Local testing  \n",
    "# submit_v4(selected_features={'num': ['audienceScore']},\n",
    "#          add_countvec=True)\n",
    "\n",
    "# submit_v4(selected_features={'num': ['audienceScore']},\n",
    "#          add_countvec=True, \n",
    "#           param_grid=param_grid)\n",
    "\n",
    "\n",
    "# Main submission\n",
    "\n",
    "# submit_v4(selected_features=best5_dict,\n",
    "#          add_countvec=True)\n",
    "\n",
    "\n",
    "# submit_v4(selected_features=best5_dict,\n",
    "#           add_countvec=True,\n",
    "#           param_grid=param_grid)"
   ]
  },
  {
   "cell_type": "code",
   "execution_count": 231,
   "id": "04b33e3e",
   "metadata": {
    "execution": {
     "iopub.execute_input": "2023-08-11T05:00:05.276646Z",
     "iopub.status.busy": "2023-08-11T05:00:05.275909Z",
     "iopub.status.idle": "2023-08-11T05:00:05.281705Z",
     "shell.execute_reply": "2023-08-11T05:00:05.280801Z"
    },
    "papermill": {
     "duration": 0.120544,
     "end_time": "2023-08-11T05:00:05.284301",
     "exception": false,
     "start_time": "2023-08-11T05:00:05.163757",
     "status": "completed"
    },
    "tags": []
   },
   "outputs": [],
   "source": [
    "## ALL DICT cv=10\n",
    "\n",
    "# all_dict = {'cat': [\"isFrequentReviewer\", \"rating\", \"originalLanguage\"],\n",
    "#              'num': [\"audienceScore\", \"runtimeMinutes\", \"boxOffice\"],\n",
    "#              'txt': ['reviewText', 'reviewerName', 'movieid', 'genre', 'director']}\n",
    "# print(all_dict)\n",
    "\n",
    "# param_grid = {\n",
    "#     'model__C' : [2, 5, 10],\n",
    "#     'model__solver': ['lbfgs', 'liblinear', 'saga']\n",
    "# }\n",
    "# print(param_grid)\n",
    "\n",
    "# param_grid = {\n",
    "#     'model__C' : [1, 5, 10],\n",
    "#     'model__solver': ['liblinear'],\n",
    "#     \"model__fit_intercept\" : [True, False],\n",
    "#     \"model__dual\" : [True, False] \n",
    "# }\n",
    "\n",
    "\n",
    "# Main submission\n",
    "\n",
    "# submit_v4(selected_model=LogisticRegression(C=5, solver='liblinear', max_iter=10000),\n",
    "#           selected_features=all_dict,\n",
    "#           param_grid=param_grid)\n",
    "\n",
    "# submit_v4(selected_features=all_dict,\n",
    "#           add_countvec=True,\n",
    "#           param_grid=param_grid)"
   ]
  },
  {
   "cell_type": "code",
   "execution_count": 232,
   "id": "8e832453",
   "metadata": {
    "execution": {
     "iopub.execute_input": "2023-08-11T05:00:05.513629Z",
     "iopub.status.busy": "2023-08-11T05:00:05.513174Z",
     "iopub.status.idle": "2023-08-11T05:00:05.518530Z",
     "shell.execute_reply": "2023-08-11T05:00:05.517223Z"
    },
    "papermill": {
     "duration": 0.124857,
     "end_time": "2023-08-11T05:00:05.521150",
     "exception": false,
     "start_time": "2023-08-11T05:00:05.396293",
     "status": "completed"
    },
    "tags": []
   },
   "outputs": [],
   "source": [
    "# Best 6 parameters\n",
    "\n",
    "# best6_dict = {'cat': [\"isFrequentReviewer\"],\n",
    "#              'num': [\"audienceScore\"],\n",
    "#              'txt': ['reviewText', 'reviewerName', 'genre', 'director']}\n",
    "\n",
    "# best6_dict = {'num': [\"audienceScore\"],\n",
    "#              'txt': ['reviewText', 'reviewerName', 'genre','movieid', 'director']}\n",
    "\n",
    "# best6_dict"
   ]
  },
  {
   "cell_type": "code",
   "execution_count": 233,
   "id": "23706b50",
   "metadata": {
    "execution": {
     "iopub.execute_input": "2023-08-11T05:00:05.749177Z",
     "iopub.status.busy": "2023-08-11T05:00:05.748685Z",
     "iopub.status.idle": "2023-08-11T05:00:05.753696Z",
     "shell.execute_reply": "2023-08-11T05:00:05.752511Z"
    },
    "papermill": {
     "duration": 0.122275,
     "end_time": "2023-08-11T05:00:05.756583",
     "exception": false,
     "start_time": "2023-08-11T05:00:05.634308",
     "status": "completed"
    },
    "tags": []
   },
   "outputs": [],
   "source": [
    "# Submit best 6 features (version 2)\n",
    "\n",
    "# submit_v4(selected_features=best6_dict,\n",
    "#           param_grid=param_grid)"
   ]
  },
  {
   "cell_type": "code",
   "execution_count": 234,
   "id": "fa6a4255",
   "metadata": {
    "execution": {
     "iopub.execute_input": "2023-08-11T05:00:06.004062Z",
     "iopub.status.busy": "2023-08-11T05:00:06.003275Z",
     "iopub.status.idle": "2023-08-11T05:00:06.008389Z",
     "shell.execute_reply": "2023-08-11T05:00:06.007123Z"
    },
    "papermill": {
     "duration": 0.14088,
     "end_time": "2023-08-11T05:00:06.011413",
     "exception": false,
     "start_time": "2023-08-11T05:00:05.870533",
     "status": "completed"
    },
    "tags": []
   },
   "outputs": [],
   "source": [
    "# Best 7 parameters\n",
    "\n",
    "# best7_dict = {'cat': [\"isFrequentReviewer\"],\n",
    "#              'num': [\"audienceScore\"],\n",
    "#              'txt': ['reviewText', 'reviewerName', 'movieid', 'genre', 'director']}\n",
    "# best7_dict"
   ]
  },
  {
   "cell_type": "code",
   "execution_count": 235,
   "id": "5ad69227",
   "metadata": {
    "execution": {
     "iopub.execute_input": "2023-08-11T05:00:06.235190Z",
     "iopub.status.busy": "2023-08-11T05:00:06.234760Z",
     "iopub.status.idle": "2023-08-11T05:00:06.239955Z",
     "shell.execute_reply": "2023-08-11T05:00:06.238803Z"
    },
    "papermill": {
     "duration": 0.119323,
     "end_time": "2023-08-11T05:00:06.242312",
     "exception": false,
     "start_time": "2023-08-11T05:00:06.122989",
     "status": "completed"
    },
    "tags": []
   },
   "outputs": [],
   "source": [
    "# Submit best 7 features\n",
    "\n",
    "# submit_v4(selected_features=best7_dict,\n",
    "#           param_grid=param_grid)"
   ]
  },
  {
   "cell_type": "code",
   "execution_count": 236,
   "id": "ad2a0e48",
   "metadata": {
    "execution": {
     "iopub.execute_input": "2023-08-11T05:00:06.466259Z",
     "iopub.status.busy": "2023-08-11T05:00:06.465832Z",
     "iopub.status.idle": "2023-08-11T05:00:06.471611Z",
     "shell.execute_reply": "2023-08-11T05:00:06.470370Z"
    },
    "papermill": {
     "duration": 0.122085,
     "end_time": "2023-08-11T05:00:06.473916",
     "exception": false,
     "start_time": "2023-08-11T05:00:06.351831",
     "status": "completed"
    },
    "tags": []
   },
   "outputs": [],
   "source": [
    "# submit_v4(selected_features=best6_dict, param_grid=param_grid)"
   ]
  },
  {
   "cell_type": "markdown",
   "id": "211ddf2c",
   "metadata": {
    "papermill": {
     "duration": 0.109584,
     "end_time": "2023-08-11T05:00:06.694427",
     "exception": false,
     "start_time": "2023-08-11T05:00:06.584843",
     "status": "completed"
    },
    "tags": []
   },
   "source": [
    "## Try a new feature dict  \n",
    "\n"
   ]
  },
  {
   "cell_type": "code",
   "execution_count": 237,
   "id": "9ce1708f",
   "metadata": {
    "execution": {
     "iopub.execute_input": "2023-08-11T05:00:06.923022Z",
     "iopub.status.busy": "2023-08-11T05:00:06.922544Z",
     "iopub.status.idle": "2023-08-11T05:00:06.928046Z",
     "shell.execute_reply": "2023-08-11T05:00:06.926932Z"
    },
    "papermill": {
     "duration": 0.122402,
     "end_time": "2023-08-11T05:00:06.930318",
     "exception": false,
     "start_time": "2023-08-11T05:00:06.807916",
     "status": "completed"
    },
    "tags": []
   },
   "outputs": [],
   "source": [
    "# all_dict_new = {'cat': [\"isFrequentReviewer\", \"rating\", \"originalLanguage\"],\n",
    "#              'num': [\"audienceScore\", \"runtimeMinutes\", \"boxOffice\"],\n",
    "#              'txt': ['reviewText', \"reviewerName\", 'movieid', 'genre', 'director']}\n",
    "# all_dict_new"
   ]
  },
  {
   "cell_type": "code",
   "execution_count": 238,
   "id": "3963173b",
   "metadata": {
    "execution": {
     "iopub.execute_input": "2023-08-11T05:00:07.151639Z",
     "iopub.status.busy": "2023-08-11T05:00:07.150971Z",
     "iopub.status.idle": "2023-08-11T05:00:07.155309Z",
     "shell.execute_reply": "2023-08-11T05:00:07.154058Z"
    },
    "papermill": {
     "duration": 0.118092,
     "end_time": "2023-08-11T05:00:07.158065",
     "exception": false,
     "start_time": "2023-08-11T05:00:07.039973",
     "status": "completed"
    },
    "tags": []
   },
   "outputs": [],
   "source": [
    "# submit_v4(selected_features={'txt': ['genre']}, param_grid=param_grid)"
   ]
  },
  {
   "cell_type": "code",
   "execution_count": 239,
   "id": "7b7edbf3",
   "metadata": {
    "execution": {
     "iopub.execute_input": "2023-08-11T05:00:07.382603Z",
     "iopub.status.busy": "2023-08-11T05:00:07.381807Z",
     "iopub.status.idle": "2023-08-11T05:00:07.386459Z",
     "shell.execute_reply": "2023-08-11T05:00:07.385577Z"
    },
    "papermill": {
     "duration": 0.119027,
     "end_time": "2023-08-11T05:00:07.388839",
     "exception": false,
     "start_time": "2023-08-11T05:00:07.269812",
     "status": "completed"
    },
    "tags": []
   },
   "outputs": [],
   "source": [
    "# submit_v4(selected_features=all_dict_new, param_grid=param_grid)"
   ]
  },
  {
   "cell_type": "code",
   "execution_count": 240,
   "id": "b00a944c",
   "metadata": {
    "execution": {
     "iopub.execute_input": "2023-08-11T05:00:07.612603Z",
     "iopub.status.busy": "2023-08-11T05:00:07.611751Z",
     "iopub.status.idle": "2023-08-11T05:00:07.616252Z",
     "shell.execute_reply": "2023-08-11T05:00:07.615318Z"
    },
    "papermill": {
     "duration": 0.117939,
     "end_time": "2023-08-11T05:00:07.618634",
     "exception": false,
     "start_time": "2023-08-11T05:00:07.500695",
     "status": "completed"
    },
    "tags": []
   },
   "outputs": [],
   "source": [
    "# Try non-text based columns\n",
    "# num_cat_dict = {'cat': ['isFrequentReviewer', 'rating', 'originalLanguage'],\n",
    "#  'num': ['audienceScore', 'runtimeMinutes', 'boxOffice']}\n",
    "# num_cat_dict"
   ]
  },
  {
   "cell_type": "code",
   "execution_count": 241,
   "id": "d0c6dc67",
   "metadata": {
    "execution": {
     "iopub.execute_input": "2023-08-11T05:00:07.841770Z",
     "iopub.status.busy": "2023-08-11T05:00:07.840431Z",
     "iopub.status.idle": "2023-08-11T05:00:07.846334Z",
     "shell.execute_reply": "2023-08-11T05:00:07.844882Z"
    },
    "papermill": {
     "duration": 0.121524,
     "end_time": "2023-08-11T05:00:07.849533",
     "exception": false,
     "start_time": "2023-08-11T05:00:07.728009",
     "status": "completed"
    },
    "tags": []
   },
   "outputs": [],
   "source": [
    "# Use num_cat_dict features\n",
    "# (Update): Gets a local score of 0.7027181356991726. Not great.\n",
    "# submit_v4(selected_model=LogisticRegression(max_iter=100000), selected_features=num_cat_dict, param_grid=param_grid)"
   ]
  },
  {
   "cell_type": "code",
   "execution_count": 242,
   "id": "7518309e",
   "metadata": {
    "execution": {
     "iopub.execute_input": "2023-08-11T05:00:08.074029Z",
     "iopub.status.busy": "2023-08-11T05:00:08.073260Z",
     "iopub.status.idle": "2023-08-11T05:00:08.077651Z",
     "shell.execute_reply": "2023-08-11T05:00:08.076723Z"
    },
    "papermill": {
     "duration": 0.119608,
     "end_time": "2023-08-11T05:00:08.080035",
     "exception": false,
     "start_time": "2023-08-11T05:00:07.960427",
     "status": "completed"
    },
    "tags": []
   },
   "outputs": [],
   "source": [
    "# Try data other than reviewText\n",
    "\n",
    "# mov_dict = {'cat': ['rating', 'originalLanguage'],\n",
    "#  'num': ['audienceScore', 'runtimeMinutes', 'boxOffice'],\n",
    "#  'txt': ['movieid', 'genre', 'director']}\n",
    "# mov_dict"
   ]
  },
  {
   "cell_type": "code",
   "execution_count": 243,
   "id": "acd21716",
   "metadata": {
    "execution": {
     "iopub.execute_input": "2023-08-11T05:00:08.304331Z",
     "iopub.status.busy": "2023-08-11T05:00:08.303547Z",
     "iopub.status.idle": "2023-08-11T05:00:08.307708Z",
     "shell.execute_reply": "2023-08-11T05:00:08.306862Z"
    },
    "papermill": {
     "duration": 0.117552,
     "end_time": "2023-08-11T05:00:08.310136",
     "exception": false,
     "start_time": "2023-08-11T05:00:08.192584",
     "status": "completed"
    },
    "tags": []
   },
   "outputs": [],
   "source": [
    "# Use mov_dict features\n",
    "# (Update): Gets a local score of 0.7475454316469369, which is not bad at all.\n",
    "# submit_v4(selected_model=LogisticRegression(max_iter=100000), selected_features=mov_dict, param_grid=param_grid)"
   ]
  },
  {
   "cell_type": "markdown",
   "id": "fbcc53c5",
   "metadata": {
    "papermill": {
     "duration": 0.109807,
     "end_time": "2023-08-11T05:00:08.530498",
     "exception": false,
     "start_time": "2023-08-11T05:00:08.420691",
     "status": "completed"
    },
    "tags": []
   },
   "source": [
    "# Try a new column 'reviewYN'  \n",
    "\n"
   ]
  },
  {
   "cell_type": "code",
   "execution_count": 244,
   "id": "fe9303ad",
   "metadata": {
    "execution": {
     "iopub.execute_input": "2023-08-11T05:00:08.751895Z",
     "iopub.status.busy": "2023-08-11T05:00:08.751440Z",
     "iopub.status.idle": "2023-08-11T05:00:08.756239Z",
     "shell.execute_reply": "2023-08-11T05:00:08.754997Z"
    },
    "papermill": {
     "duration": 0.118548,
     "end_time": "2023-08-11T05:00:08.758623",
     "exception": false,
     "start_time": "2023-08-11T05:00:08.640075",
     "status": "completed"
    },
    "tags": []
   },
   "outputs": [],
   "source": [
    "# all_dict_3 = {'cat': [\"isFrequentReviewer\", \"rating\", \"originalLanguage\", \"reviewYN\"],\n",
    "#              'num': [\"audienceScore\", \"runtimeMinutes\", \"boxOffice\"],\n",
    "#              'txt': ['reviewText', \"reviewerName\", 'movieid', 'genre', 'director']}\n",
    "# all_dict_3"
   ]
  },
  {
   "cell_type": "code",
   "execution_count": 245,
   "id": "c96b8d34",
   "metadata": {
    "execution": {
     "iopub.execute_input": "2023-08-11T05:00:08.987792Z",
     "iopub.status.busy": "2023-08-11T05:00:08.986410Z",
     "iopub.status.idle": "2023-08-11T05:00:08.991470Z",
     "shell.execute_reply": "2023-08-11T05:00:08.990481Z"
    },
    "papermill": {
     "duration": 0.122808,
     "end_time": "2023-08-11T05:00:08.993925",
     "exception": false,
     "start_time": "2023-08-11T05:00:08.871117",
     "status": "completed"
    },
    "tags": []
   },
   "outputs": [],
   "source": [
    "# submit_v4(selected_model=LogisticRegression(max_iter=100000),\n",
    "#          selected_features=all_dict_3, \n",
    "#           param_grid=param_grid)"
   ]
  },
  {
   "cell_type": "markdown",
   "id": "8aacd26e",
   "metadata": {
    "papermill": {
     "duration": 0.112923,
     "end_time": "2023-08-11T05:00:09.217177",
     "exception": false,
     "start_time": "2023-08-11T05:00:09.104254",
     "status": "completed"
    },
    "tags": []
   },
   "source": [
    "### More GridSearchCV using LinearSVC  "
   ]
  },
  {
   "cell_type": "code",
   "execution_count": 246,
   "id": "dbc2726b",
   "metadata": {
    "execution": {
     "iopub.execute_input": "2023-08-11T05:00:09.445814Z",
     "iopub.status.busy": "2023-08-11T05:00:09.445356Z",
     "iopub.status.idle": "2023-08-11T05:00:09.451234Z",
     "shell.execute_reply": "2023-08-11T05:00:09.449799Z"
    },
    "papermill": {
     "duration": 0.123513,
     "end_time": "2023-08-11T05:00:09.453933",
     "exception": false,
     "start_time": "2023-08-11T05:00:09.330420",
     "status": "completed"
    },
    "tags": []
   },
   "outputs": [],
   "source": [
    "# param_grid_svc_2 = {\n",
    "#     'model__C': [1.0],\n",
    "#     'model__loss': ['hinge', 'squared_hinge'],\n",
    "#     'model__class_weight': ['balanced', None]\n",
    "# }\n",
    "# param_grid_svc_2"
   ]
  },
  {
   "cell_type": "code",
   "execution_count": 247,
   "id": "1d90401e",
   "metadata": {
    "execution": {
     "iopub.execute_input": "2023-08-11T05:00:09.683224Z",
     "iopub.status.busy": "2023-08-11T05:00:09.682796Z",
     "iopub.status.idle": "2023-08-11T05:00:09.687909Z",
     "shell.execute_reply": "2023-08-11T05:00:09.686648Z"
    },
    "papermill": {
     "duration": 0.124936,
     "end_time": "2023-08-11T05:00:09.690482",
     "exception": false,
     "start_time": "2023-08-11T05:00:09.565546",
     "status": "completed"
    },
    "tags": []
   },
   "outputs": [],
   "source": [
    "# submit_v4(selected_model=LinearSVC(max_iter=100000, random_state=42), selected_features={'num': [\"audienceScore\"]}, param_grid=param_grid_svc_2)"
   ]
  },
  {
   "cell_type": "code",
   "execution_count": 248,
   "id": "00db9253",
   "metadata": {
    "execution": {
     "iopub.execute_input": "2023-08-11T05:00:09.919428Z",
     "iopub.status.busy": "2023-08-11T05:00:09.918985Z",
     "iopub.status.idle": "2023-08-11T05:00:09.924500Z",
     "shell.execute_reply": "2023-08-11T05:00:09.923190Z"
    },
    "papermill": {
     "duration": 0.121991,
     "end_time": "2023-08-11T05:00:09.927104",
     "exception": false,
     "start_time": "2023-08-11T05:00:09.805113",
     "status": "completed"
    },
    "tags": []
   },
   "outputs": [],
   "source": [
    "# submit_v4(selected_model=LinearSVC(max_iter=100000, random_state=42), selected_features=all_dict, param_grid=param_grid_svc_2)"
   ]
  },
  {
   "cell_type": "markdown",
   "id": "841aa51d",
   "metadata": {
    "papermill": {
     "duration": 0.110734,
     "end_time": "2023-08-11T05:00:10.150148",
     "exception": false,
     "start_time": "2023-08-11T05:00:10.039414",
     "status": "completed"
    },
    "tags": []
   },
   "source": [
    "### Boosting techniques  "
   ]
  },
  {
   "cell_type": "code",
   "execution_count": 249,
   "id": "64c1ac83",
   "metadata": {
    "execution": {
     "iopub.execute_input": "2023-08-11T05:00:10.371001Z",
     "iopub.status.busy": "2023-08-11T05:00:10.370553Z",
     "iopub.status.idle": "2023-08-11T05:00:10.375775Z",
     "shell.execute_reply": "2023-08-11T05:00:10.374442Z"
    },
    "papermill": {
     "duration": 0.119539,
     "end_time": "2023-08-11T05:00:10.378587",
     "exception": false,
     "start_time": "2023-08-11T05:00:10.259048",
     "status": "completed"
    },
    "tags": []
   },
   "outputs": [],
   "source": [
    "# adc = AdaBoostClassifier(estimator=LogisticRegression(C=5, solver=\"saga\", max_iter=100000), n_estimators=50)\n",
    "# adc"
   ]
  },
  {
   "cell_type": "code",
   "execution_count": 250,
   "id": "104482b3",
   "metadata": {
    "execution": {
     "iopub.execute_input": "2023-08-11T05:00:10.601137Z",
     "iopub.status.busy": "2023-08-11T05:00:10.600360Z",
     "iopub.status.idle": "2023-08-11T05:00:10.606340Z",
     "shell.execute_reply": "2023-08-11T05:00:10.604909Z"
    },
    "papermill": {
     "duration": 0.118895,
     "end_time": "2023-08-11T05:00:10.608935",
     "exception": false,
     "start_time": "2023-08-11T05:00:10.490040",
     "status": "completed"
    },
    "tags": []
   },
   "outputs": [],
   "source": [
    "# submit_v4(selected_model=adc, selected_features={'num': [\"audienceScore\"]}, param_grid=None)"
   ]
  },
  {
   "cell_type": "code",
   "execution_count": 251,
   "id": "19bcbfb5",
   "metadata": {
    "execution": {
     "iopub.execute_input": "2023-08-11T05:00:10.834481Z",
     "iopub.status.busy": "2023-08-11T05:00:10.834008Z",
     "iopub.status.idle": "2023-08-11T05:00:10.839135Z",
     "shell.execute_reply": "2023-08-11T05:00:10.837986Z"
    },
    "papermill": {
     "duration": 0.119461,
     "end_time": "2023-08-11T05:00:10.841436",
     "exception": false,
     "start_time": "2023-08-11T05:00:10.721975",
     "status": "completed"
    },
    "tags": []
   },
   "outputs": [],
   "source": [
    "# submit_v4(selected_model=adc, selected_features=all_dict, param_grid=None)\n",
    "\n",
    "# Took 1 hour 15 mins to run and gave a public score of only 0.71089. Discarded."
   ]
  },
  {
   "cell_type": "markdown",
   "id": "091fb0db",
   "metadata": {
    "papermill": {
     "duration": 0.111517,
     "end_time": "2023-08-11T05:00:11.064695",
     "exception": false,
     "start_time": "2023-08-11T05:00:10.953178",
     "status": "completed"
    },
    "tags": []
   },
   "source": [
    "### LightGBM  "
   ]
  },
  {
   "cell_type": "code",
   "execution_count": 252,
   "id": "0089b41b",
   "metadata": {
    "execution": {
     "iopub.execute_input": "2023-08-11T05:00:11.290092Z",
     "iopub.status.busy": "2023-08-11T05:00:11.289612Z",
     "iopub.status.idle": "2023-08-11T05:00:11.295198Z",
     "shell.execute_reply": "2023-08-11T05:00:11.293615Z"
    },
    "papermill": {
     "duration": 0.12028,
     "end_time": "2023-08-11T05:00:11.297668",
     "exception": false,
     "start_time": "2023-08-11T05:00:11.177388",
     "status": "completed"
    },
    "tags": []
   },
   "outputs": [],
   "source": [
    "# lgb = ltb.LGBMClassifier()\n",
    "# lgb"
   ]
  },
  {
   "cell_type": "code",
   "execution_count": 253,
   "id": "fdeda1c4",
   "metadata": {
    "execution": {
     "iopub.execute_input": "2023-08-11T05:00:11.522105Z",
     "iopub.status.busy": "2023-08-11T05:00:11.521628Z",
     "iopub.status.idle": "2023-08-11T05:00:11.526665Z",
     "shell.execute_reply": "2023-08-11T05:00:11.525652Z"
    },
    "papermill": {
     "duration": 0.119405,
     "end_time": "2023-08-11T05:00:11.528820",
     "exception": false,
     "start_time": "2023-08-11T05:00:11.409415",
     "status": "completed"
    },
    "tags": []
   },
   "outputs": [],
   "source": [
    "# Try LightGBM with default settings\n",
    "# (Update): Public score only 0.77713. It was fast, took less than 5 mins (without GridSearchCV)\n",
    "\n",
    "# submit_v4(selected_model=ltb.LGBMClassifier(), selected_features=all_dict, param_grid=None)"
   ]
  },
  {
   "cell_type": "markdown",
   "id": "91d3d613",
   "metadata": {
    "papermill": {
     "duration": 0.110774,
     "end_time": "2023-08-11T05:00:11.750576",
     "exception": false,
     "start_time": "2023-08-11T05:00:11.639802",
     "status": "completed"
    },
    "tags": []
   },
   "source": [
    "# Try feature selection and vocab fine tuning of reviewText column"
   ]
  },
  {
   "cell_type": "markdown",
   "id": "f8d1d27c",
   "metadata": {
    "papermill": {
     "duration": 0.113897,
     "end_time": "2023-08-11T05:00:11.975684",
     "exception": false,
     "start_time": "2023-08-11T05:00:11.861787",
     "status": "completed"
    },
    "tags": []
   },
   "source": [
    "## Plan  \n",
    "* Add a new column 'reviewWC' which has word count of 'reviewText'  \n",
    "    * Check if there is any relationship between 'reviewWC' and 'sentiment'\n",
    "* Work on vocabulary\n",
    "     * Use TfidfVectorizer and find out the vocabulary of 'reviewText' column for various ngrams\n",
    "     * Use RecursiveFeatureElimination (RFE) or RFECV to select 1000 top words/vocab for each ngram\n",
    "     * Use the final vocab (1000-3000 words) in the model and see how it performs compared to whole vocab\n"
   ]
  },
  {
   "cell_type": "code",
   "execution_count": 254,
   "id": "fab0c51e",
   "metadata": {
    "execution": {
     "iopub.execute_input": "2023-08-11T05:00:12.201506Z",
     "iopub.status.busy": "2023-08-11T05:00:12.201046Z",
     "iopub.status.idle": "2023-08-11T05:00:12.206445Z",
     "shell.execute_reply": "2023-08-11T05:00:12.205210Z"
    },
    "papermill": {
     "duration": 0.122599,
     "end_time": "2023-08-11T05:00:12.209006",
     "exception": false,
     "start_time": "2023-08-11T05:00:12.086407",
     "status": "completed"
    },
    "tags": []
   },
   "outputs": [],
   "source": [
    "# 'reviewWC' and 'sentiment'\n",
    "# (Conclusion): 'reviewWC' is practically same as DummyClassifier (accuracy of 0.6682375059904889 on train data). It just predicts 'positive' for all columns\n",
    "\n",
    "# reviewWC_dict = {\"num\": [\"reviewWC\"]}\n",
    "# submit_v4(selected_model=LogisticRegression(),\n",
    "#          selected_features=reviewWC_dict,\n",
    "#          param_grid=None)"
   ]
  },
  {
   "cell_type": "code",
   "execution_count": 255,
   "id": "3b6fd58b",
   "metadata": {
    "execution": {
     "iopub.execute_input": "2023-08-11T05:00:12.434717Z",
     "iopub.status.busy": "2023-08-11T05:00:12.433950Z",
     "iopub.status.idle": "2023-08-11T05:00:12.438917Z",
     "shell.execute_reply": "2023-08-11T05:00:12.437747Z"
    },
    "papermill": {
     "duration": 0.122259,
     "end_time": "2023-08-11T05:00:12.441642",
     "exception": false,
     "start_time": "2023-08-11T05:00:12.319383",
     "status": "completed"
    },
    "tags": []
   },
   "outputs": [],
   "source": [
    "# 'reviewYN' and 'sentiment'\n",
    "# (Conclusion): 'reviewYN' is practically same as DummyClassifier (accuracy of 0.6682375059904889 on train data). It just predicts 'positive' for all columns\n",
    "\n",
    "# reviewYN_dict = {\"cat\": [\"reviewYN\"]}\n",
    "# submit_v4(selected_model=LogisticRegression(),\n",
    "#          selected_features=reviewYN_dict,\n",
    "#          param_grid=None)"
   ]
  },
  {
   "cell_type": "markdown",
   "id": "677bc658",
   "metadata": {
    "papermill": {
     "duration": 0.109316,
     "end_time": "2023-08-11T05:00:12.661412",
     "exception": false,
     "start_time": "2023-08-11T05:00:12.552096",
     "status": "completed"
    },
    "tags": []
   },
   "source": [
    "## Submissions using 'vocabulary' built from 'reviewText' data  "
   ]
  },
  {
   "cell_type": "markdown",
   "id": "c1931872",
   "metadata": {
    "papermill": {
     "duration": 0.117336,
     "end_time": "2023-08-11T05:00:12.968478",
     "exception": false,
     "start_time": "2023-08-11T05:00:12.851142",
     "status": "completed"
    },
    "tags": []
   },
   "source": [
    "### Submit best 6 features along with common vocab  "
   ]
  },
  {
   "cell_type": "code",
   "execution_count": 256,
   "id": "358cbe82",
   "metadata": {
    "execution": {
     "iopub.execute_input": "2023-08-11T05:00:13.192403Z",
     "iopub.status.busy": "2023-08-11T05:00:13.191937Z",
     "iopub.status.idle": "2023-08-11T05:00:13.196653Z",
     "shell.execute_reply": "2023-08-11T05:00:13.195726Z"
    },
    "papermill": {
     "duration": 0.120152,
     "end_time": "2023-08-11T05:00:13.198887",
     "exception": false,
     "start_time": "2023-08-11T05:00:13.078735",
     "status": "completed"
    },
    "tags": []
   },
   "outputs": [],
   "source": [
    "# Best 6 parameters (version 2)  \n",
    "\n",
    "# best6_dict = {'num': [\"audienceScore\"],\n",
    "#              'txt': ['reviewText', 'reviewerName', 'genre','movieid', 'director']}\n",
    "\n",
    "# best6_dict"
   ]
  },
  {
   "cell_type": "code",
   "execution_count": 257,
   "id": "113e7cfb",
   "metadata": {
    "execution": {
     "iopub.execute_input": "2023-08-11T05:00:13.426698Z",
     "iopub.status.busy": "2023-08-11T05:00:13.425760Z",
     "iopub.status.idle": "2023-08-11T05:00:13.430681Z",
     "shell.execute_reply": "2023-08-11T05:00:13.429660Z"
    },
    "papermill": {
     "duration": 0.122603,
     "end_time": "2023-08-11T05:00:13.433011",
     "exception": false,
     "start_time": "2023-08-11T05:00:13.310408",
     "status": "completed"
    },
    "tags": []
   },
   "outputs": [],
   "source": [
    "# Submit best 6 features (version 2) with common vocabulary (common_1_2_grams)\n",
    "# (Update): Score 0.82867\n",
    "\n",
    "# submit_v4(selected_features=best6_dict,\n",
    "#           param_grid=param_grid,\n",
    "#          vocab=common_1_2_grams)"
   ]
  },
  {
   "cell_type": "code",
   "execution_count": 258,
   "id": "42ee2e0a",
   "metadata": {
    "execution": {
     "iopub.execute_input": "2023-08-11T05:00:13.661461Z",
     "iopub.status.busy": "2023-08-11T05:00:13.660633Z",
     "iopub.status.idle": "2023-08-11T05:00:13.665157Z",
     "shell.execute_reply": "2023-08-11T05:00:13.664311Z"
    },
    "papermill": {
     "duration": 0.12043,
     "end_time": "2023-08-11T05:00:13.667417",
     "exception": false,
     "start_time": "2023-08-11T05:00:13.546987",
     "status": "completed"
    },
    "tags": []
   },
   "outputs": [],
   "source": [
    "# Submit best 6 features (version 2) with common vocabulary (common_1_2_3_grams)\n",
    "# Note: for this submission submit_v4 function has to be modified: reviewText TfidfVectorizer must have ngram_range(1,3).\n",
    "# (Update): Score in the range 0.825+\n",
    "\n",
    "# submit_v4(selected_features=best6_dict,\n",
    "#           param_grid=param_grid,\n",
    "#          vocab=common_1_2_3_grams)"
   ]
  }
 ],
 "metadata": {
  "kernelspec": {
   "display_name": "Python 3",
   "language": "python",
   "name": "python3"
  },
  "language_info": {
   "codemirror_mode": {
    "name": "ipython",
    "version": 3
   },
   "file_extension": ".py",
   "mimetype": "text/x-python",
   "name": "python",
   "nbconvert_exporter": "python",
   "pygments_lexer": "ipython3",
   "version": "3.10.10"
  },
  "papermill": {
   "default_parameters": {},
   "duration": 4826.377796,
   "end_time": "2023-08-11T05:00:16.913835",
   "environment_variables": {},
   "exception": null,
   "input_path": "__notebook__.ipynb",
   "output_path": "__notebook__.ipynb",
   "parameters": {},
   "start_time": "2023-08-11T03:39:50.536039",
   "version": "2.4.0"
  }
 },
 "nbformat": 4,
 "nbformat_minor": 5
}
