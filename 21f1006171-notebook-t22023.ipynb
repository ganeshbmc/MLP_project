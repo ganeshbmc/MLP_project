{
 "cells": [
  {
   "cell_type": "markdown",
   "id": "14b29bee",
   "metadata": {
    "papermill": {
     "duration": 0.102458,
     "end_time": "2023-08-13T10:44:10.573904",
     "exception": false,
     "start_time": "2023-08-13T10:44:10.471446",
     "status": "completed"
    },
    "tags": []
   },
   "source": [
    "# MLP Project (T2 2023) by Ganesh P  "
   ]
  },
  {
   "cell_type": "markdown",
   "id": "385ec3dd",
   "metadata": {
    "papermill": {
     "duration": 0.099181,
     "end_time": "2023-08-13T10:44:10.773862",
     "exception": false,
     "start_time": "2023-08-13T10:44:10.674681",
     "status": "completed"
    },
    "tags": []
   },
   "source": [
    "`Disclaimer`   \n",
    "\n",
    "> This final notebook contains only the most relevant code to show the path/flow of my project work over few weeks. Rest of the code is in [my github repo](https://github.com/ganeshbmc/MLP_project) which is private at present (I will make it public after the project is over).  "
   ]
  },
  {
   "cell_type": "markdown",
   "id": "f73c5d44",
   "metadata": {
    "papermill": {
     "duration": 0.100792,
     "end_time": "2023-08-13T10:44:10.977326",
     "exception": false,
     "start_time": "2023-08-13T10:44:10.876534",
     "status": "completed"
    },
    "tags": []
   },
   "source": [
    "`Strengths`  \n",
    "\n",
    "> * Modular code (DRY principle)  \n",
    "> * End to end pipeline in one function (with helper functions)   "
   ]
  },
  {
   "cell_type": "markdown",
   "id": "d016ada3",
   "metadata": {
    "papermill": {
     "duration": 0.098698,
     "end_time": "2023-08-13T10:44:11.175145",
     "exception": false,
     "start_time": "2023-08-13T10:44:11.076447",
     "status": "completed"
    },
    "tags": []
   },
   "source": [
    "`Overview`  \n",
    "\n",
    "`PART I`  \n",
    "\n",
    "1.\t> Screen the datasets and import them.  \n",
    "2.\t> Perform EDA (first round).\n",
    "3.\t> Data cleaning.\n",
    "4.\t> Basic models including dummy model.\n",
    "5.\t> Because this is a text sentiment analysis project, focus on 'reviewText' column, work on cleaning text data and vectorising/tokenising it, build several models till the best possible score is reached.  \n",
    "\n",
    "`PART II`  \n",
    "\n",
    "6.\t> Merge train and movies dataset.\n",
    "7.\t> Perform EDA (second round) on merged dataset.\n",
    "8.\t> Data cleaning.\n",
    "9.\t> Build models on merged dataset.\n",
    "10.\t> Understand the results and do another round of EDA if needed.\n",
    "11.\t> Build final model.  \n",
    "\n",
    "`PART III (After project window closes)`  \n",
    "\n",
    "12. > Use NLTK library for further processing text data.  \n",
    "13. > Try to address comments from different languages, special characters etc.  \n",
    "14. > Try imblearn library to address class imbalance.  \n",
    "15. > Try to use currently available LLMs and see how my model performs agains them.  "
   ]
  },
  {
   "cell_type": "markdown",
   "id": "a81b8959",
   "metadata": {
    "papermill": {
     "duration": 0.098174,
     "end_time": "2023-08-13T10:44:11.372443",
     "exception": false,
     "start_time": "2023-08-13T10:44:11.274269",
     "status": "completed"
    },
    "tags": []
   },
   "source": [
    "`Default code on Kaggle notebook`  "
   ]
  },
  {
   "cell_type": "code",
   "execution_count": 1,
   "id": "9a9df294",
   "metadata": {
    "_cell_guid": "b1076dfc-b9ad-4769-8c92-a6c4dae69d19",
    "_uuid": "8f2839f25d086af736a60e9eeb907d3b93b6e0e5",
    "execution": {
     "iopub.execute_input": "2023-08-13T10:44:11.572372Z",
     "iopub.status.busy": "2023-08-13T10:44:11.572012Z",
     "iopub.status.idle": "2023-08-13T10:44:11.587145Z",
     "shell.execute_reply": "2023-08-13T10:44:11.585888Z"
    },
    "papermill": {
     "duration": 0.118268,
     "end_time": "2023-08-13T10:44:11.589949",
     "exception": false,
     "start_time": "2023-08-13T10:44:11.471681",
     "status": "completed"
    },
    "tags": []
   },
   "outputs": [
    {
     "name": "stdout",
     "output_type": "stream",
     "text": [
      "/kaggle/input/sentiment-prediction-on-movie-reviews/movies.csv\n",
      "/kaggle/input/sentiment-prediction-on-movie-reviews/sample.csv\n",
      "/kaggle/input/sentiment-prediction-on-movie-reviews/train.csv\n",
      "/kaggle/input/sentiment-prediction-on-movie-reviews/test.csv\n"
     ]
    }
   ],
   "source": [
    "# This Python 3 environment comes with many helpful analytics libraries installed\n",
    "# It is defined by the kaggle/python Docker image: https://github.com/kaggle/docker-python\n",
    "# For example, here's several helpful packages to load\n",
    "\n",
    "import numpy as np # linear algebra\n",
    "import pandas as pd # data processing, CSV file I/O (e.g. pd.read_csv)\n",
    "\n",
    "# Input data files are available in the read-only \"../input/\" directory\n",
    "# For example, running this (by clicking run or pressing Shift+Enter) will list all files under the input directory\n",
    "\n",
    "import os\n",
    "for dirname, _, filenames in os.walk('/kaggle/input'):\n",
    "    for filename in filenames:\n",
    "        print(os.path.join(dirname, filename))\n",
    "\n",
    "# You can write up to 20GB to the current directory (/kaggle/working/) that gets preserved as output when you create a version using \"Save & Run All\" \n",
    "# You can also write temporary files to /kaggle/temp/, but they won't be saved outside of the current session"
   ]
  },
  {
   "cell_type": "markdown",
   "id": "f410c285",
   "metadata": {
    "papermill": {
     "duration": 0.10259,
     "end_time": "2023-08-13T10:44:11.793080",
     "exception": false,
     "start_time": "2023-08-13T10:44:11.690490",
     "status": "completed"
    },
    "tags": []
   },
   "source": [
    "### Specify platform  "
   ]
  },
  {
   "cell_type": "code",
   "execution_count": 2,
   "id": "f383b971",
   "metadata": {
    "execution": {
     "iopub.execute_input": "2023-08-13T10:44:12.001370Z",
     "iopub.status.busy": "2023-08-13T10:44:12.000905Z",
     "iopub.status.idle": "2023-08-13T10:44:12.006658Z",
     "shell.execute_reply": "2023-08-13T10:44:12.005017Z"
    },
    "papermill": {
     "duration": 0.111062,
     "end_time": "2023-08-13T10:44:12.009317",
     "exception": false,
     "start_time": "2023-08-13T10:44:11.898255",
     "status": "completed"
    },
    "tags": []
   },
   "outputs": [],
   "source": [
    "platform = 'kaggle'  "
   ]
  },
  {
   "cell_type": "markdown",
   "id": "60f082fe",
   "metadata": {
    "papermill": {
     "duration": 0.10139,
     "end_time": "2023-08-13T10:44:12.234683",
     "exception": false,
     "start_time": "2023-08-13T10:44:12.133293",
     "status": "completed"
    },
    "tags": []
   },
   "source": [
    "### Import libraries  "
   ]
  },
  {
   "cell_type": "code",
   "execution_count": 3,
   "id": "a52c12ad",
   "metadata": {
    "execution": {
     "iopub.execute_input": "2023-08-13T10:44:12.437760Z",
     "iopub.status.busy": "2023-08-13T10:44:12.437176Z",
     "iopub.status.idle": "2023-08-13T10:44:14.889459Z",
     "shell.execute_reply": "2023-08-13T10:44:14.887994Z"
    },
    "papermill": {
     "duration": 2.55732,
     "end_time": "2023-08-13T10:44:14.892761",
     "exception": false,
     "start_time": "2023-08-13T10:44:12.335441",
     "status": "completed"
    },
    "tags": []
   },
   "outputs": [
    {
     "name": "stdout",
     "output_type": "stream",
     "text": [
      "Imports done.\n"
     ]
    }
   ],
   "source": [
    "import pandas as pd\n",
    "import numpy as np\n",
    "import matplotlib.pyplot as plt\n",
    "import seaborn as sns\n",
    "import re\n",
    "from itertools import compress\n",
    "\n",
    "from sklearn.dummy import DummyClassifier\n",
    "from sklearn.pipeline import Pipeline, FeatureUnion\n",
    "from sklearn.compose import ColumnTransformer\n",
    "from sklearn.metrics import classification_report, confusion_matrix,f1_score\n",
    "from sklearn.feature_extraction.text import TfidfVectorizer, CountVectorizer\n",
    "from sklearn.preprocessing import FunctionTransformer\n",
    "from sklearn.preprocessing import StandardScaler, MinMaxScaler, RobustScaler, OneHotEncoder, LabelEncoder, PolynomialFeatures\n",
    "from sklearn.impute import SimpleImputer, KNNImputer\n",
    "from sklearn.linear_model import LogisticRegression, SGDClassifier\n",
    "from sklearn.tree import DecisionTreeClassifier\n",
    "from sklearn.ensemble import RandomForestClassifier, AdaBoostClassifier, StackingClassifier\n",
    "from sklearn.svm import LinearSVC\n",
    "from sklearn.naive_bayes import GaussianNB, BernoulliNB, CategoricalNB, ComplementNB, MultinomialNB\n",
    "from sklearn.model_selection import train_test_split, GridSearchCV, cross_val_score\n",
    "from sklearn.decomposition import PCA, TruncatedSVD\n",
    "from sklearn.feature_selection import RFECV\n",
    "from sklearn.feature_selection import RFE\n",
    "from sklearn.neural_network import MLPClassifier\n",
    "\n",
    "# import lightgbm as ltb\n",
    "\n",
    "import scipy.stats as stats\n",
    "print(\"Imports done.\")"
   ]
  },
  {
   "cell_type": "markdown",
   "id": "2bfe6cdb",
   "metadata": {
    "papermill": {
     "duration": 0.102377,
     "end_time": "2023-08-13T10:44:15.099764",
     "exception": false,
     "start_time": "2023-08-13T10:44:14.997387",
     "status": "completed"
    },
    "tags": []
   },
   "source": [
    "# PART I  "
   ]
  },
  {
   "cell_type": "markdown",
   "id": "f6413b24",
   "metadata": {
    "papermill": {
     "duration": 0.197999,
     "end_time": "2023-08-13T10:44:15.397594",
     "exception": false,
     "start_time": "2023-08-13T10:44:15.199595",
     "status": "completed"
    },
    "tags": []
   },
   "source": [
    "## Load datasets  "
   ]
  },
  {
   "cell_type": "code",
   "execution_count": 4,
   "id": "2bfaf54c",
   "metadata": {
    "execution": {
     "iopub.execute_input": "2023-08-13T10:44:15.601872Z",
     "iopub.status.busy": "2023-08-13T10:44:15.601182Z",
     "iopub.status.idle": "2023-08-13T10:44:16.755435Z",
     "shell.execute_reply": "2023-08-13T10:44:16.754003Z"
    },
    "papermill": {
     "duration": 1.260261,
     "end_time": "2023-08-13T10:44:16.758356",
     "exception": false,
     "start_time": "2023-08-13T10:44:15.498095",
     "status": "completed"
    },
    "tags": []
   },
   "outputs": [
    {
     "data": {
      "text/plain": [
       "(162758, 5)"
      ]
     },
     "execution_count": 4,
     "metadata": {},
     "output_type": "execute_result"
    }
   ],
   "source": [
    "if platform == 'vscode':\n",
    "    traindf = pd.read_csv(\"data/train.csv\")\n",
    "else:\n",
    "    traindf = pd.read_csv(\"/kaggle/input/sentiment-prediction-on-movie-reviews/train.csv\")\n",
    "    \n",
    "traindf.shape"
   ]
  },
  {
   "cell_type": "code",
   "execution_count": 5,
   "id": "d10ae435",
   "metadata": {
    "execution": {
     "iopub.execute_input": "2023-08-13T10:44:16.970349Z",
     "iopub.status.busy": "2023-08-13T10:44:16.969351Z",
     "iopub.status.idle": "2023-08-13T10:44:17.357405Z",
     "shell.execute_reply": "2023-08-13T10:44:17.356161Z"
    },
    "papermill": {
     "duration": 0.496062,
     "end_time": "2023-08-13T10:44:17.360405",
     "exception": false,
     "start_time": "2023-08-13T10:44:16.864343",
     "status": "completed"
    },
    "tags": []
   },
   "outputs": [
    {
     "data": {
      "text/plain": [
       "(55315, 4)"
      ]
     },
     "execution_count": 5,
     "metadata": {},
     "output_type": "execute_result"
    }
   ],
   "source": [
    "if platform == 'vscode':\n",
    "    testdf = pd.read_csv(\"data/test.csv\")\n",
    "else:\n",
    "    testdf = pd.read_csv(\"/kaggle/input/sentiment-prediction-on-movie-reviews/test.csv\")\n",
    "\n",
    "testdf.shape"
   ]
  },
  {
   "cell_type": "markdown",
   "id": "eae613f9",
   "metadata": {
    "papermill": {
     "duration": 0.102274,
     "end_time": "2023-08-13T10:44:17.565717",
     "exception": false,
     "start_time": "2023-08-13T10:44:17.463443",
     "status": "completed"
    },
    "tags": []
   },
   "source": [
    "### Understanding the data and getting it ready for training and evaluating models  \n"
   ]
  },
  {
   "cell_type": "code",
   "execution_count": 6,
   "id": "e11c92d0",
   "metadata": {
    "execution": {
     "iopub.execute_input": "2023-08-13T10:44:17.771905Z",
     "iopub.status.busy": "2023-08-13T10:44:17.770784Z",
     "iopub.status.idle": "2023-08-13T10:44:17.776938Z",
     "shell.execute_reply": "2023-08-13T10:44:17.776185Z"
    },
    "papermill": {
     "duration": 0.112552,
     "end_time": "2023-08-13T10:44:17.779045",
     "exception": false,
     "start_time": "2023-08-13T10:44:17.666493",
     "status": "completed"
    },
    "tags": []
   },
   "outputs": [
    {
     "data": {
      "text/plain": [
       "(162758, 5)"
      ]
     },
     "execution_count": 6,
     "metadata": {},
     "output_type": "execute_result"
    }
   ],
   "source": [
    "traindf.shape"
   ]
  },
  {
   "cell_type": "code",
   "execution_count": 7,
   "id": "a09eaafc",
   "metadata": {
    "execution": {
     "iopub.execute_input": "2023-08-13T10:44:17.987624Z",
     "iopub.status.busy": "2023-08-13T10:44:17.986367Z",
     "iopub.status.idle": "2023-08-13T10:44:18.226304Z",
     "shell.execute_reply": "2023-08-13T10:44:18.225185Z"
    },
    "papermill": {
     "duration": 0.348133,
     "end_time": "2023-08-13T10:44:18.228768",
     "exception": false,
     "start_time": "2023-08-13T10:44:17.880635",
     "status": "completed"
    },
    "tags": []
   },
   "outputs": [
    {
     "name": "stdout",
     "output_type": "stream",
     "text": [
      "<class 'pandas.core.frame.DataFrame'>\n",
      "RangeIndex: 162758 entries, 0 to 162757\n",
      "Data columns (total 5 columns):\n",
      " #   Column              Non-Null Count   Dtype \n",
      "---  ------              --------------   ----- \n",
      " 0   movieid             162758 non-null  object\n",
      " 1   reviewerName        162758 non-null  object\n",
      " 2   isFrequentReviewer  162758 non-null  bool  \n",
      " 3   reviewText          156311 non-null  object\n",
      " 4   sentiment           162758 non-null  object\n",
      "dtypes: bool(1), object(4)\n",
      "memory usage: 5.1+ MB\n"
     ]
    }
   ],
   "source": [
    "traindf.info()"
   ]
  },
  {
   "cell_type": "code",
   "execution_count": 8,
   "id": "30af7a9c",
   "metadata": {
    "execution": {
     "iopub.execute_input": "2023-08-13T10:44:18.429786Z",
     "iopub.status.busy": "2023-08-13T10:44:18.428964Z",
     "iopub.status.idle": "2023-08-13T10:44:18.646334Z",
     "shell.execute_reply": "2023-08-13T10:44:18.645471Z"
    },
    "papermill": {
     "duration": 0.32046,
     "end_time": "2023-08-13T10:44:18.648653",
     "exception": false,
     "start_time": "2023-08-13T10:44:18.328193",
     "status": "completed"
    },
    "tags": []
   },
   "outputs": [
    {
     "data": {
      "text/plain": [
       "movieid                  0\n",
       "reviewerName             0\n",
       "isFrequentReviewer       0\n",
       "reviewText            6447\n",
       "sentiment                0\n",
       "dtype: int64"
      ]
     },
     "execution_count": 8,
     "metadata": {},
     "output_type": "execute_result"
    }
   ],
   "source": [
    "traindf.isna().sum()"
   ]
  },
  {
   "cell_type": "markdown",
   "id": "fc246e9f",
   "metadata": {
    "papermill": {
     "duration": 0.100613,
     "end_time": "2023-08-13T10:44:18.850185",
     "exception": false,
     "start_time": "2023-08-13T10:44:18.749572",
     "status": "completed"
    },
    "tags": []
   },
   "source": [
    "### Fill empty reviewText with custom text  "
   ]
  },
  {
   "cell_type": "code",
   "execution_count": 9,
   "id": "87bb1060",
   "metadata": {
    "execution": {
     "iopub.execute_input": "2023-08-13T10:44:19.054660Z",
     "iopub.status.busy": "2023-08-13T10:44:19.053975Z",
     "iopub.status.idle": "2023-08-13T10:44:19.295831Z",
     "shell.execute_reply": "2023-08-13T10:44:19.294744Z"
    },
    "papermill": {
     "duration": 0.34869,
     "end_time": "2023-08-13T10:44:19.298832",
     "exception": false,
     "start_time": "2023-08-13T10:44:18.950142",
     "status": "completed"
    },
    "tags": []
   },
   "outputs": [
    {
     "data": {
      "text/plain": [
       "movieid               0\n",
       "reviewerName          0\n",
       "isFrequentReviewer    0\n",
       "reviewText            0\n",
       "sentiment             0\n",
       "dtype: int64"
      ]
     },
     "execution_count": 9,
     "metadata": {},
     "output_type": "execute_result"
    }
   ],
   "source": [
    "traindf[\"reviewText\"].fillna(\"empty\", inplace=True)\n",
    "traindf.isna().sum()"
   ]
  },
  {
   "cell_type": "markdown",
   "id": "34c30346",
   "metadata": {
    "papermill": {
     "duration": 0.099677,
     "end_time": "2023-08-13T10:44:19.497664",
     "exception": false,
     "start_time": "2023-08-13T10:44:19.397987",
     "status": "completed"
    },
    "tags": []
   },
   "source": [
    "## EDA  \n"
   ]
  },
  {
   "cell_type": "code",
   "execution_count": 10,
   "id": "308d5386",
   "metadata": {
    "execution": {
     "iopub.execute_input": "2023-08-13T10:44:19.700777Z",
     "iopub.status.busy": "2023-08-13T10:44:19.699584Z",
     "iopub.status.idle": "2023-08-13T10:44:19.962034Z",
     "shell.execute_reply": "2023-08-13T10:44:19.960318Z"
    },
    "papermill": {
     "duration": 0.368068,
     "end_time": "2023-08-13T10:44:19.966229",
     "exception": false,
     "start_time": "2023-08-13T10:44:19.598161",
     "status": "completed"
    },
    "tags": []
   },
   "outputs": [
    {
     "data": {
      "image/png": "[encoded data removed]",
      "text/plain": [
       "<Figure size 600x400 with 1 Axes>"
      ]
     },
     "metadata": {},
     "output_type": "display_data"
    }
   ],
   "source": [
    "# Pie chart for sentiment column\n",
    "plt.figure(figsize=(6, 4))\n",
    "traindf[\"sentiment\"].value_counts().plot(kind='pie', autopct='%1.0f%%', colors=[\"lightgreen\", \"crimson\"])\n",
    "plt.title(\"Pie chart for sentiment column\")\n",
    "plt.show()"
   ]
  },
  {
   "cell_type": "code",
   "execution_count": 11,
   "id": "3d6a739f",
   "metadata": {
    "execution": {
     "iopub.execute_input": "2023-08-13T10:44:20.202126Z",
     "iopub.status.busy": "2023-08-13T10:44:20.201740Z",
     "iopub.status.idle": "2023-08-13T10:44:20.280010Z",
     "shell.execute_reply": "2023-08-13T10:44:20.279202Z"
    },
    "papermill": {
     "duration": 0.183668,
     "end_time": "2023-08-13T10:44:20.282350",
     "exception": false,
     "start_time": "2023-08-13T10:44:20.098682",
     "status": "completed"
    },
    "tags": []
   },
   "outputs": [
    {
     "name": "stdout",
     "output_type": "stream",
     "text": [
      "sentiment           NEGATIVE  POSITIVE\n",
      "isFrequentReviewer                    \n",
      "False                  35760     77429\n",
      "True                   18237     31332\n"
     ]
    },
    {
     "data": {
      "text/plain": [
       "Chi2ContingencyResult(statistic=419.89235425657796, pvalue=2.5755894769493255e-93, dof=1, expected_freq=array([[37551.86493444, 75637.13506556],\n",
       "       [16445.13506556, 33123.86493444]]))"
      ]
     },
     "execution_count": 11,
     "metadata": {},
     "output_type": "execute_result"
    }
   ],
   "source": [
    "# Chi-square test for isFrequentReviewer column and sentiment column   \n",
    "\n",
    "contingency_table = pd.crosstab(traindf['isFrequentReviewer'], traindf['sentiment'])\n",
    "print(contingency_table)\n",
    "stats.chi2_contingency(contingency_table)"
   ]
  },
  {
   "cell_type": "markdown",
   "id": "c95ddf19",
   "metadata": {
    "papermill": {
     "duration": 0.101646,
     "end_time": "2023-08-13T10:44:20.485726",
     "exception": false,
     "start_time": "2023-08-13T10:44:20.384080",
     "status": "completed"
    },
    "tags": []
   },
   "source": [
    "### Separate features and labels  "
   ]
  },
  {
   "cell_type": "code",
   "execution_count": 12,
   "id": "fdff2da1",
   "metadata": {
    "execution": {
     "iopub.execute_input": "2023-08-13T10:44:20.692228Z",
     "iopub.status.busy": "2023-08-13T10:44:20.691519Z",
     "iopub.status.idle": "2023-08-13T10:44:20.699300Z",
     "shell.execute_reply": "2023-08-13T10:44:20.698465Z"
    },
    "papermill": {
     "duration": 0.114126,
     "end_time": "2023-08-13T10:44:20.701621",
     "exception": false,
     "start_time": "2023-08-13T10:44:20.587495",
     "status": "completed"
    },
    "tags": []
   },
   "outputs": [
    {
     "data": {
      "text/plain": [
       "((162758,), (162758,))"
      ]
     },
     "execution_count": 12,
     "metadata": {},
     "output_type": "execute_result"
    }
   ],
   "source": [
    "train_features = traindf[\"reviewText\"]\n",
    "train_labels = traindf.iloc[:, -1]\n",
    "train_features.shape, train_labels.shape"
   ]
  },
  {
   "cell_type": "markdown",
   "id": "618e0226",
   "metadata": {
    "papermill": {
     "duration": 0.104213,
     "end_time": "2023-08-13T10:44:20.911790",
     "exception": false,
     "start_time": "2023-08-13T10:44:20.807577",
     "status": "completed"
    },
    "tags": []
   },
   "source": [
    "### Split traindf into training and testing parts  "
   ]
  },
  {
   "cell_type": "code",
   "execution_count": 13,
   "id": "2b7007b5",
   "metadata": {
    "execution": {
     "iopub.execute_input": "2023-08-13T10:44:21.120001Z",
     "iopub.status.busy": "2023-08-13T10:44:21.119414Z",
     "iopub.status.idle": "2023-08-13T10:44:21.157058Z",
     "shell.execute_reply": "2023-08-13T10:44:21.155981Z"
    },
    "papermill": {
     "duration": 0.144294,
     "end_time": "2023-08-13T10:44:21.159534",
     "exception": false,
     "start_time": "2023-08-13T10:44:21.015240",
     "status": "completed"
    },
    "tags": []
   },
   "outputs": [
    {
     "data": {
      "text/plain": [
       "((122068,), (40690,), (122068,), (40690,))"
      ]
     },
     "execution_count": 13,
     "metadata": {},
     "output_type": "execute_result"
    }
   ],
   "source": [
    "X_train, X_test, y_train, y_test = train_test_split(train_features, train_labels, test_size=0.25, random_state=42)\n",
    "X_train.shape, X_test.shape, y_train.shape, y_test.shape"
   ]
  },
  {
   "cell_type": "markdown",
   "id": "3da14bb3",
   "metadata": {
    "papermill": {
     "duration": 0.09958,
     "end_time": "2023-08-13T10:44:21.358882",
     "exception": false,
     "start_time": "2023-08-13T10:44:21.259302",
     "status": "completed"
    },
    "tags": []
   },
   "source": [
    "## Model evaluation plan and code  "
   ]
  },
  {
   "cell_type": "code",
   "execution_count": 14,
   "id": "944ed388",
   "metadata": {
    "execution": {
     "iopub.execute_input": "2023-08-13T10:44:21.560015Z",
     "iopub.status.busy": "2023-08-13T10:44:21.559593Z",
     "iopub.status.idle": "2023-08-13T10:44:21.564434Z",
     "shell.execute_reply": "2023-08-13T10:44:21.563147Z"
    },
    "papermill": {
     "duration": 0.10807,
     "end_time": "2023-08-13T10:44:21.566884",
     "exception": false,
     "start_time": "2023-08-13T10:44:21.458814",
     "status": "completed"
    },
    "tags": []
   },
   "outputs": [],
   "source": [
    "# from sklearn.metrics import classification_report, confusion_matrix, ConfusionMatrixDisplay\n",
    "# from sklearn.metrics import f1_score"
   ]
  },
  {
   "cell_type": "code",
   "execution_count": 15,
   "id": "295a965d",
   "metadata": {
    "execution": {
     "iopub.execute_input": "2023-08-13T10:44:21.771409Z",
     "iopub.status.busy": "2023-08-13T10:44:21.770431Z",
     "iopub.status.idle": "2023-08-13T10:44:21.775408Z",
     "shell.execute_reply": "2023-08-13T10:44:21.774462Z"
    },
    "papermill": {
     "duration": 0.110102,
     "end_time": "2023-08-13T10:44:21.777557",
     "exception": false,
     "start_time": "2023-08-13T10:44:21.667455",
     "status": "completed"
    },
    "tags": []
   },
   "outputs": [],
   "source": [
    "# def evaluate(y_test, y_pred):\n",
    "#     print(classification_report(y_test, y_pred))\n",
    "#     print(confusion_matrix(y_test, y_pred))\n",
    "#     # print(f1_score(y_test, y_pred))\n",
    "#     ConfusionMatrixDisplay(y_test, y_pred)\n",
    "#     return"
   ]
  },
  {
   "cell_type": "markdown",
   "id": "d31b93c3",
   "metadata": {
    "papermill": {
     "duration": 0.101169,
     "end_time": "2023-08-13T10:44:21.981837",
     "exception": false,
     "start_time": "2023-08-13T10:44:21.880668",
     "status": "completed"
    },
    "tags": []
   },
   "source": [
    "### Data preprocessing  "
   ]
  },
  {
   "cell_type": "markdown",
   "id": "31c3ca9f",
   "metadata": {
    "papermill": {
     "duration": 0.111198,
     "end_time": "2023-08-13T10:44:22.206254",
     "exception": false,
     "start_time": "2023-08-13T10:44:22.095056",
     "status": "completed"
    },
    "tags": []
   },
   "source": [
    "`Define stop words`  "
   ]
  },
  {
   "cell_type": "code",
   "execution_count": 16,
   "id": "e46df190",
   "metadata": {
    "execution": {
     "iopub.execute_input": "2023-08-13T10:44:22.412683Z",
     "iopub.status.busy": "2023-08-13T10:44:22.411983Z",
     "iopub.status.idle": "2023-08-13T10:44:22.416446Z",
     "shell.execute_reply": "2023-08-13T10:44:22.415683Z"
    },
    "papermill": {
     "duration": 0.110572,
     "end_time": "2023-08-13T10:44:22.418697",
     "exception": false,
     "start_time": "2023-08-13T10:44:22.308125",
     "status": "completed"
    },
    "tags": []
   },
   "outputs": [],
   "source": [
    "# stop_words = [\"able\", \"about\", \"above\", \"abst\", \"ac\"]     # Deprecated  \n",
    "# type(stop_words), len(stop_words)"
   ]
  },
  {
   "cell_type": "markdown",
   "id": "3903a224",
   "metadata": {
    "papermill": {
     "duration": 0.101105,
     "end_time": "2023-08-13T10:44:22.621123",
     "exception": false,
     "start_time": "2023-08-13T10:44:22.520018",
     "status": "completed"
    },
    "tags": []
   },
   "source": [
    "## Feature extraction  "
   ]
  },
  {
   "cell_type": "markdown",
   "id": "ad8bc12d",
   "metadata": {
    "papermill": {
     "duration": 0.106133,
     "end_time": "2023-08-13T10:44:22.836421",
     "exception": false,
     "start_time": "2023-08-13T10:44:22.730288",
     "status": "completed"
    },
    "tags": []
   },
   "source": [
    "### Understand CountVectorizer and TfidfVectorizer  "
   ]
  },
  {
   "cell_type": "code",
   "execution_count": 17,
   "id": "abfc8770",
   "metadata": {
    "execution": {
     "iopub.execute_input": "2023-08-13T10:44:23.068115Z",
     "iopub.status.busy": "2023-08-13T10:44:23.066653Z",
     "iopub.status.idle": "2023-08-13T10:44:23.072671Z",
     "shell.execute_reply": "2023-08-13T10:44:23.071480Z"
    },
    "papermill": {
     "duration": 0.116147,
     "end_time": "2023-08-13T10:44:23.075176",
     "exception": false,
     "start_time": "2023-08-13T10:44:22.959029",
     "status": "completed"
    },
    "tags": []
   },
   "outputs": [],
   "source": [
    "# text = X_train.copy()\n",
    "# text.head()"
   ]
  },
  {
   "cell_type": "code",
   "execution_count": 18,
   "id": "5854e2aa",
   "metadata": {
    "execution": {
     "iopub.execute_input": "2023-08-13T10:44:23.280732Z",
     "iopub.status.busy": "2023-08-13T10:44:23.280339Z",
     "iopub.status.idle": "2023-08-13T10:44:23.285299Z",
     "shell.execute_reply": "2023-08-13T10:44:23.284206Z"
    },
    "papermill": {
     "duration": 0.108914,
     "end_time": "2023-08-13T10:44:23.287466",
     "exception": false,
     "start_time": "2023-08-13T10:44:23.178552",
     "status": "completed"
    },
    "tags": []
   },
   "outputs": [],
   "source": [
    "# vectorizer = TfidfVectorizer(stop_words=stop_words)\n",
    "# vectorized_text = vectorizer.fit_transform(text[\"reviewText\"])\n",
    "# vectorized_text"
   ]
  },
  {
   "cell_type": "markdown",
   "id": "6e4cc325",
   "metadata": {
    "papermill": {
     "duration": 0.099357,
     "end_time": "2023-08-13T10:44:23.487377",
     "exception": false,
     "start_time": "2023-08-13T10:44:23.388020",
     "status": "completed"
    },
    "tags": []
   },
   "source": [
    "`Without stop words`  \n",
    "<122068x58624 sparse matrix of type '<class 'numpy.float64'>'\n",
    "\twith 2312222 stored elements in Compressed Sparse Row format>\n",
    "\n",
    "`With stop words`  \n",
    "<122068x57784 sparse matrix of type '<class 'numpy.float64'>'\n",
    "\twith 1188395 stored elements in Compressed Sparse Row format>   "
   ]
  },
  {
   "cell_type": "code",
   "execution_count": 19,
   "id": "70ae0984",
   "metadata": {
    "execution": {
     "iopub.execute_input": "2023-08-13T10:44:23.689325Z",
     "iopub.status.busy": "2023-08-13T10:44:23.688942Z",
     "iopub.status.idle": "2023-08-13T10:44:23.693077Z",
     "shell.execute_reply": "2023-08-13T10:44:23.692339Z"
    },
    "papermill": {
     "duration": 0.107503,
     "end_time": "2023-08-13T10:44:23.695048",
     "exception": false,
     "start_time": "2023-08-13T10:44:23.587545",
     "status": "completed"
    },
    "tags": []
   },
   "outputs": [],
   "source": [
    "# vectorizer2 = CountVectorizer(stop_words=stop_words)\n",
    "# vectorized_text2 = vectorizer2.fit_transform(text[\"reviewText\"])\n",
    "# vectorized_text2"
   ]
  },
  {
   "cell_type": "markdown",
   "id": "420cb2f7",
   "metadata": {
    "papermill": {
     "duration": 0.100744,
     "end_time": "2023-08-13T10:44:23.896197",
     "exception": false,
     "start_time": "2023-08-13T10:44:23.795453",
     "status": "completed"
    },
    "tags": []
   },
   "source": [
    "`Without stop words`  \n",
    "<122068x58624 sparse matrix of type '<class 'numpy.int64'>'\n",
    "\twith 2312222 stored elements in Compressed Sparse Row format>\n",
    "\n",
    "`With stop words`  \n",
    "<122068x57784 sparse matrix of type '<class 'numpy.int64'>'\n",
    "\twith 1188395 stored elements in Compressed Sparse Row format>"
   ]
  },
  {
   "cell_type": "markdown",
   "id": "43c92dca",
   "metadata": {
    "papermill": {
     "duration": 0.103462,
     "end_time": "2023-08-13T10:44:24.101816",
     "exception": false,
     "start_time": "2023-08-13T10:44:23.998354",
     "status": "completed"
    },
    "tags": []
   },
   "source": [
    "### Conclusion   \n",
    "`TfidfVectorizer is equivalent to CountVectorizer followed by TfidfTransformer.`  \n",
    "\n",
    "https://scikit-learn.org/stable/modules/generated/sklearn.feature_extraction.text.TfidfVectorizer.html"
   ]
  },
  {
   "cell_type": "markdown",
   "id": "2bd6dfff",
   "metadata": {
    "papermill": {
     "duration": 0.103636,
     "end_time": "2023-08-13T10:44:24.309465",
     "exception": false,
     "start_time": "2023-08-13T10:44:24.205829",
     "status": "completed"
    },
    "tags": []
   },
   "source": [
    "## Model building workflow  \n",
    "\n",
    "`Make pipeline for preprocesing and model training and predictions`  \n"
   ]
  },
  {
   "cell_type": "code",
   "execution_count": 20,
   "id": "e3651c68",
   "metadata": {
    "execution": {
     "iopub.execute_input": "2023-08-13T10:44:24.515766Z",
     "iopub.status.busy": "2023-08-13T10:44:24.515055Z",
     "iopub.status.idle": "2023-08-13T10:44:24.520356Z",
     "shell.execute_reply": "2023-08-13T10:44:24.519314Z"
    },
    "papermill": {
     "duration": 0.111117,
     "end_time": "2023-08-13T10:44:24.522678",
     "exception": false,
     "start_time": "2023-08-13T10:44:24.411561",
     "status": "completed"
    },
    "tags": []
   },
   "outputs": [],
   "source": [
    "# def preprocess_n_train(X_train, y_train, preprocessor, model):\n",
    "#     pipe = Pipeline(steps=[\n",
    "#                             (\"preprocessor\", preprocessor),\n",
    "#                             (\"model\", model)\n",
    "#                         ])\n",
    "    \n",
    "#     pipe.fit(X_train, y_train)\n",
    "\n",
    "#     print(\"Given model has been trained. Use predict method to get predictions array.\")\n",
    "#     return pipe\n",
    "\n",
    "\n",
    "# def predict_n_evaluate(pipeline, X_test, y_test):\n",
    "#     y_pred = pipeline.predict(X_test)\n",
    "#     print(f\"y_pred shape: {y_pred.shape}\")\n",
    "#     print(f\"Summary of predictions: {np.unique(y_pred, return_counts=True)}\")\n",
    "#     print(classification_report(y_test, y_pred))\n",
    "#     print(confusion_matrix(y_test, y_pred))\n",
    "#     return y_pred"
   ]
  },
  {
   "cell_type": "markdown",
   "id": "350cd4c1",
   "metadata": {
    "papermill": {
     "duration": 0.105693,
     "end_time": "2023-08-13T10:44:24.730391",
     "exception": false,
     "start_time": "2023-08-13T10:44:24.624698",
     "status": "completed"
    },
    "tags": []
   },
   "source": [
    "## Building 3 basic models  "
   ]
  },
  {
   "cell_type": "markdown",
   "id": "dbc05bab",
   "metadata": {
    "papermill": {
     "duration": 0.103968,
     "end_time": "2023-08-13T10:44:24.939703",
     "exception": false,
     "start_time": "2023-08-13T10:44:24.835735",
     "status": "completed"
    },
    "tags": []
   },
   "source": [
    "### Text preprocessors  "
   ]
  },
  {
   "cell_type": "code",
   "execution_count": 21,
   "id": "a207c7bf",
   "metadata": {
    "execution": {
     "iopub.execute_input": "2023-08-13T10:44:25.150871Z",
     "iopub.status.busy": "2023-08-13T10:44:25.150154Z",
     "iopub.status.idle": "2023-08-13T10:44:25.154256Z",
     "shell.execute_reply": "2023-08-13T10:44:25.153311Z"
    },
    "papermill": {
     "duration": 0.110904,
     "end_time": "2023-08-13T10:44:25.156713",
     "exception": false,
     "start_time": "2023-08-13T10:44:25.045809",
     "status": "completed"
    },
    "tags": []
   },
   "outputs": [],
   "source": [
    "# tvec = TfidfVectorizer()\n",
    "# cvec = CountVectorizer()        # Note that TfidfVectorizer and CountVectorizer+TfidsTransformer do the same function\n",
    "# tvec, cvec"
   ]
  },
  {
   "cell_type": "markdown",
   "id": "b624be28",
   "metadata": {
    "papermill": {
     "duration": 0.106668,
     "end_time": "2023-08-13T10:44:25.387726",
     "exception": false,
     "start_time": "2023-08-13T10:44:25.281058",
     "status": "completed"
    },
    "tags": []
   },
   "source": [
    "### Logistic Regression with TfidVectorizer for preprocessing  "
   ]
  },
  {
   "cell_type": "code",
   "execution_count": 22,
   "id": "b0a1c409",
   "metadata": {
    "execution": {
     "iopub.execute_input": "2023-08-13T10:44:25.601483Z",
     "iopub.status.busy": "2023-08-13T10:44:25.600978Z",
     "iopub.status.idle": "2023-08-13T10:44:25.605614Z",
     "shell.execute_reply": "2023-08-13T10:44:25.604832Z"
    },
    "papermill": {
     "duration": 0.11835,
     "end_time": "2023-08-13T10:44:25.607663",
     "exception": false,
     "start_time": "2023-08-13T10:44:25.489313",
     "status": "completed"
    },
    "tags": []
   },
   "outputs": [],
   "source": [
    "# logreg = LogisticRegression(max_iter=1000)\n",
    "# logreg_pipe = preprocess_n_train(X_train, y_train, tvec, logreg)\n",
    "# y_pred_logreg = predict_n_evaluate(logreg_pipe, X_test, y_test)\n",
    "# y_pred_logreg"
   ]
  },
  {
   "cell_type": "markdown",
   "id": "0befc0d0",
   "metadata": {
    "papermill": {
     "duration": 0.10913,
     "end_time": "2023-08-13T10:44:25.838786",
     "exception": false,
     "start_time": "2023-08-13T10:44:25.729656",
     "status": "completed"
    },
    "tags": []
   },
   "source": [
    "### SVM model  "
   ]
  },
  {
   "cell_type": "code",
   "execution_count": 23,
   "id": "366e3338",
   "metadata": {
    "execution": {
     "iopub.execute_input": "2023-08-13T10:44:26.047799Z",
     "iopub.status.busy": "2023-08-13T10:44:26.046905Z",
     "iopub.status.idle": "2023-08-13T10:44:26.051682Z",
     "shell.execute_reply": "2023-08-13T10:44:26.050742Z"
    },
    "papermill": {
     "duration": 0.113494,
     "end_time": "2023-08-13T10:44:26.053917",
     "exception": false,
     "start_time": "2023-08-13T10:44:25.940423",
     "status": "completed"
    },
    "tags": []
   },
   "outputs": [],
   "source": [
    "# svm = LinearSVC()\n",
    "# svm_pipe = preprocess_n_train(X_train, y_train, tvec, svm)\n",
    "# y_pred_svm = predict_n_evaluate(svm_pipe, X_test, y_test)\n",
    "# y_pred_svm"
   ]
  },
  {
   "cell_type": "markdown",
   "id": "ef0ec019",
   "metadata": {
    "papermill": {
     "duration": 0.102793,
     "end_time": "2023-08-13T10:44:26.257446",
     "exception": false,
     "start_time": "2023-08-13T10:44:26.154653",
     "status": "completed"
    },
    "tags": []
   },
   "source": [
    "### Naive Bayes model  "
   ]
  },
  {
   "cell_type": "markdown",
   "id": "acee93dc",
   "metadata": {
    "papermill": {
     "duration": 0.09978,
     "end_time": "2023-08-13T10:44:26.458336",
     "exception": false,
     "start_time": "2023-08-13T10:44:26.358556",
     "status": "completed"
    },
    "tags": []
   },
   "source": [
    "#### MultinomialNB  "
   ]
  },
  {
   "cell_type": "code",
   "execution_count": 24,
   "id": "92d6d20d",
   "metadata": {
    "execution": {
     "iopub.execute_input": "2023-08-13T10:44:26.662158Z",
     "iopub.status.busy": "2023-08-13T10:44:26.661371Z",
     "iopub.status.idle": "2023-08-13T10:44:26.665512Z",
     "shell.execute_reply": "2023-08-13T10:44:26.664781Z"
    },
    "papermill": {
     "duration": 0.108791,
     "end_time": "2023-08-13T10:44:26.667693",
     "exception": false,
     "start_time": "2023-08-13T10:44:26.558902",
     "status": "completed"
    },
    "tags": []
   },
   "outputs": [],
   "source": [
    "# mnb = MultinomialNB()\n",
    "# mnb_pipe = preprocess_n_train(X_train, y_train, tvec, mnb)\n",
    "# y_pred_mnb = predict_n_evaluate(mnb_pipe, X_test, y_test)\n",
    "# y_pred_mnb"
   ]
  },
  {
   "cell_type": "markdown",
   "id": "30e3df50",
   "metadata": {
    "papermill": {
     "duration": 0.176155,
     "end_time": "2023-08-13T10:44:26.944589",
     "exception": false,
     "start_time": "2023-08-13T10:44:26.768434",
     "status": "completed"
    },
    "tags": []
   },
   "source": [
    "## Submitting predictions to Kaggle competition  "
   ]
  },
  {
   "cell_type": "code",
   "execution_count": 25,
   "id": "5e9c1036",
   "metadata": {
    "execution": {
     "iopub.execute_input": "2023-08-13T10:44:27.148501Z",
     "iopub.status.busy": "2023-08-13T10:44:27.147837Z",
     "iopub.status.idle": "2023-08-13T10:44:27.152567Z",
     "shell.execute_reply": "2023-08-13T10:44:27.151621Z"
    },
    "papermill": {
     "duration": 0.108156,
     "end_time": "2023-08-13T10:44:27.154779",
     "exception": false,
     "start_time": "2023-08-13T10:44:27.046623",
     "status": "completed"
    },
    "tags": []
   },
   "outputs": [],
   "source": [
    "# def submit(selected_model=logreg, selected_preprocessor=tvec):\n",
    "    \n",
    "#     # Retrain on the whole train.csv file  \n",
    "#     traindf = pd.read_csv(\"/kaggle/input/sentiment-prediction-on-movie-reviews/train.csv\")\n",
    "#     X_train = traindf[\"reviewText\"]\n",
    "#     X_train.fillna(\"empty\", inplace=True)\n",
    "#     y_train = traindf[\"sentiment\"]\n",
    "#     pipe = preprocess_n_train(X_train, y_train, selected_preprocessor, selected_model)\n",
    "    \n",
    "#     # Predict on test.csv file\n",
    "#     testdf = pd.read_csv(\"/kaggle/input/sentiment-prediction-on-movie-reviews/test.csv\")\n",
    "#     X_test = testdf[\"reviewText\"]\n",
    "#     X_test.fillna(\"empty\", inplace=True)\n",
    "    \n",
    "#     y_pred = pipe.predict(X_test)\n",
    "    \n",
    "#     pred_df = pd.DataFrame(y_pred)\n",
    "#     pred_df.columns = [\"sentiment\"]\n",
    "#     pred_df.index.name = \"id\"\n",
    "#     pred_df.to_csv(\"submission.csv\")\n",
    "    \n",
    "#     return \"Successfully created the submission file!!!\""
   ]
  },
  {
   "cell_type": "code",
   "execution_count": 26,
   "id": "d584ece2",
   "metadata": {
    "execution": {
     "iopub.execute_input": "2023-08-13T10:44:27.360527Z",
     "iopub.status.busy": "2023-08-13T10:44:27.359726Z",
     "iopub.status.idle": "2023-08-13T10:44:27.364484Z",
     "shell.execute_reply": "2023-08-13T10:44:27.363512Z"
    },
    "papermill": {
     "duration": 0.111552,
     "end_time": "2023-08-13T10:44:27.367230",
     "exception": false,
     "start_time": "2023-08-13T10:44:27.255678",
     "status": "completed"
    },
    "tags": []
   },
   "outputs": [],
   "source": [
    "# submit(logreg_cv1, tvec_cv1)"
   ]
  },
  {
   "cell_type": "markdown",
   "id": "fdd3335c",
   "metadata": {
    "papermill": {
     "duration": 0.100013,
     "end_time": "2023-08-13T10:44:27.569001",
     "exception": false,
     "start_time": "2023-08-13T10:44:27.468988",
     "status": "completed"
    },
    "tags": []
   },
   "source": [
    "# PART II  "
   ]
  },
  {
   "cell_type": "markdown",
   "id": "23bf0d27",
   "metadata": {
    "papermill": {
     "duration": 0.101057,
     "end_time": "2023-08-13T10:44:27.770414",
     "exception": false,
     "start_time": "2023-08-13T10:44:27.669357",
     "status": "completed"
    },
    "tags": []
   },
   "source": [
    "## Merge \"movies.csv\" with \"train.csv\" and \"test.csv\"  "
   ]
  },
  {
   "cell_type": "markdown",
   "id": "d92474fb",
   "metadata": {
    "papermill": {
     "duration": 0.100809,
     "end_time": "2023-08-13T10:44:27.973107",
     "exception": false,
     "start_time": "2023-08-13T10:44:27.872298",
     "status": "completed"
    },
    "tags": []
   },
   "source": [
    "### Helper functions  "
   ]
  },
  {
   "cell_type": "code",
   "execution_count": 27,
   "id": "0eccb08a",
   "metadata": {
    "execution": {
     "iopub.execute_input": "2023-08-13T10:44:28.177327Z",
     "iopub.status.busy": "2023-08-13T10:44:28.176123Z",
     "iopub.status.idle": "2023-08-13T10:44:28.182542Z",
     "shell.execute_reply": "2023-08-13T10:44:28.181755Z"
    },
    "papermill": {
     "duration": 0.110125,
     "end_time": "2023-08-13T10:44:28.184845",
     "exception": false,
     "start_time": "2023-08-13T10:44:28.074720",
     "status": "completed"
    },
    "tags": []
   },
   "outputs": [],
   "source": [
    "# Helper function for loading files  \n",
    "\n",
    "def load_csv(filename: str):\n",
    "    if platform == \"vscode\":\n",
    "        df = pd.read_csv(f\"data/{filename}.csv\")\n",
    "    else:\n",
    "        df = pd.read_csv(f\"/kaggle/input/sentiment-prediction-on-movie-reviews/{filename}.csv\")\n",
    "        \n",
    "    return df"
   ]
  },
  {
   "cell_type": "code",
   "execution_count": 28,
   "id": "32e79f3c",
   "metadata": {
    "execution": {
     "iopub.execute_input": "2023-08-13T10:44:28.393406Z",
     "iopub.status.busy": "2023-08-13T10:44:28.392186Z",
     "iopub.status.idle": "2023-08-13T10:44:28.398837Z",
     "shell.execute_reply": "2023-08-13T10:44:28.398076Z"
    },
    "papermill": {
     "duration": 0.113842,
     "end_time": "2023-08-13T10:44:28.401212",
     "exception": false,
     "start_time": "2023-08-13T10:44:28.287370",
     "status": "completed"
    },
    "tags": []
   },
   "outputs": [],
   "source": [
    "def inspect(df: pd.DataFrame):\n",
    "    print(f\"Shape of the dataframe: {df.shape}\")\n",
    "    print()\n",
    "    print(f\"Columns in the dataframe:\\n{df.columns}\")\n",
    "    print()\n",
    "    print(f\"{df.info()}\")\n",
    "    print()\n",
    "    # print(f\"Summary: {df.describe()}\")\n",
    "    print(f\"Missing values:\\n{df.isna().sum()}\")\n",
    "    return"
   ]
  },
  {
   "cell_type": "code",
   "execution_count": 29,
   "id": "1d30d421",
   "metadata": {
    "execution": {
     "iopub.execute_input": "2023-08-13T10:44:28.610690Z",
     "iopub.status.busy": "2023-08-13T10:44:28.609505Z",
     "iopub.status.idle": "2023-08-13T10:44:28.615710Z",
     "shell.execute_reply": "2023-08-13T10:44:28.614635Z"
    },
    "papermill": {
     "duration": 0.112784,
     "end_time": "2023-08-13T10:44:28.618143",
     "exception": false,
     "start_time": "2023-08-13T10:44:28.505359",
     "status": "completed"
    },
    "tags": []
   },
   "outputs": [],
   "source": [
    "def name_fl(name):\n",
    "    l = name.split()\n",
    "    n = ' '.join((l[0], l[-1]))\n",
    "    return n"
   ]
  },
  {
   "cell_type": "code",
   "execution_count": 30,
   "id": "c697862b",
   "metadata": {
    "execution": {
     "iopub.execute_input": "2023-08-13T10:44:28.829130Z",
     "iopub.status.busy": "2023-08-13T10:44:28.828535Z",
     "iopub.status.idle": "2023-08-13T10:44:28.855412Z",
     "shell.execute_reply": "2023-08-13T10:44:28.854501Z"
    },
    "papermill": {
     "duration": 0.13516,
     "end_time": "2023-08-13T10:44:28.858247",
     "exception": false,
     "start_time": "2023-08-13T10:44:28.723087",
     "status": "completed"
    },
    "tags": []
   },
   "outputs": [],
   "source": [
    "def select_features(df: pd.DataFrame, moviesdf: pd.DataFrame, row_thresh_null=None):\n",
    "    '''\n",
    "    This function merges the given dataframes. Note that the first df must be \"train\" or \"test\" and\n",
    "    the second df should be \"movies\".\n",
    "    Note: Sentiment column is present only in \"train.csv\" file and not \"test.csv\" file.\n",
    "    '''\n",
    "    \n",
    "    # Drop duplicates from moviesdf\n",
    "#     movies_unique = moviesdf.drop_duplicates(subset=[\"movieid\"])\n",
    "\n",
    "    # Drop duplicates using groupby - clubs similar rows and fills in missing values better\n",
    "    movies_unique = moviesdf.fillna(value=np.nan).groupby(\"movieid\").first().reset_index()\n",
    "    \n",
    "\n",
    "    # Handle missing values in movies.csv better than just dropping duplicates?\n",
    "#     movies_unique = moviesdf.copy()\n",
    "#     movies_unique[[\"audienceScore\", \"runtimeMinutes\"]] = movies_unique[[\"audienceScore\", \"runtimeMinutes\"]].interpolate(method='linear', axis=0)\n",
    "#     movies_unique = movies_unique.fillna(value=np.nan).groupby(\"movieid\").first().fillna(method='ffill').reset_index()\n",
    "\n",
    "    \n",
    "\n",
    "    # Merge df and movies_unique\n",
    "    df_merged = pd.merge(df, movies_unique, on=\"movieid\", how='left')\n",
    "    \n",
    "    # Rename \"isTopCritic\" column, if it exists, to \"isFrequentReviewer\"\n",
    "    df_merged.rename(columns={\"isTopCritic\": \"isFrequentReviewer\"}, inplace=True)\n",
    "    \n",
    "    # Drop columns\n",
    "#     df_merged = df_merged.drop(columns=[\"title\", \"ratingContents\", \"releaseDateTheaters\", \"releaseDateStreaming\", \"distributor\", \"soundType\"])\n",
    "#     df_merged = df_merged.drop(columns=[\"title\", \"soundType\"])\n",
    "    \n",
    "    # Drop rows (OPTIONAL: Uses kwarg row_thresh_null)\n",
    "    if row_thresh_null != None:\n",
    "        df_merged.dropna(axis=0, thresh=(df_merged.shape[1] - row_thresh_null), inplace=True)\n",
    "        \n",
    "\n",
    "    # Create new columns based on reviewText\n",
    "    final = df_merged.copy()\n",
    "    final[\"reviewYN\"] = np.where(final[\"reviewText\"].isnull(), 1, 0)    # Feature engineering - adding a new column\n",
    "    final[\"reviewWC\"] = final.apply(lambda x: len(str(x[\"reviewText\"]).split()), axis=1)    # Feature engineering - adding second new column\n",
    "    \n",
    "    # Clean text (replace numbers with empty string) and fill missing values in \"reviewText\" with empty string\n",
    "    final[\"reviewText\"] = final[\"reviewText\"].str.replace('\\d+', '', regex=True)\n",
    "    final[\"reviewText\"] = final[\"reviewText\"].fillna(\"neutral\")\n",
    "    \n",
    "    # Fill missing values in \"rating\", \"genre\", original columns with the word \"unknown\"\n",
    "    final[\"rating\"] = final[\"rating\"].fillna(\"unknown\")\n",
    "    final[\"originalLanguage\"] = final[\"originalLanguage\"].fillna(\"unknown\")\n",
    "    final[\"genre\"] = final[\"genre\"].fillna(\"unknown\")\n",
    "    final[\"genre\"] = final[\"genre\"].apply(lambda x: re.sub(r\"-\", \"\", x))\n",
    "    final[\"genreSorted\"] = final[\"genre\"].apply(lambda x: (\",\").join(sorted(x.split(\", \"))))\n",
    "#     final[\"genre\"] = final[\"genre\"].replace(to_replace={\"&\": \"\"})\n",
    "\n",
    "    # Impute missing values for \"audienceScore\" and \"runtimeMinutes\" columns\n",
    "#     final[\"audienceScore\"] = final[\"audienceScore\"].fillna(final[\"audienceScore\"].mean())        # MOVED\n",
    "#     final[\"runtimeMinutes\"] = final[\"runtimeMinutes\"].fillna(final[\"runtimeMinutes\"].median())   # MOVED\n",
    "    \n",
    "    # Preprocess and impute missing values in \"boxOffice\" column\n",
    "    final[\"boxOffice\"] = final[\"boxOffice\"].str[1:]\n",
    "    final[\"boxOffice\"] = final[\"boxOffice\"].replace(to_replace={\"M\": \"*1000000\", \"K\": \"*1000\"}, regex=True)\n",
    "    final[\"boxOffice\"] = final[\"boxOffice\"].loc[final[\"boxOffice\"].notnull()].apply(lambda x: eval(str(x)))\n",
    "#     final[\"boxOffice\"] = final[\"boxOffice\"].fillna(final[\"boxOffice\"].median())                  # MOVED\n",
    "    # (Optional) Replace outliers in boxOffice with median\n",
    "#     median = final[\"boxOffice\"].describe()['50%']\n",
    "#     iqr = final[\"boxOffice\"].describe()['75%'] - final[\"boxOffice\"].describe()['25%']\n",
    "#     ll = median - (1.5*iqr)\n",
    "#     ul = median + (1.5*iqr)\n",
    "#     final.loc[final[\"boxOffice\"] > ul, \"boxOffice\"] = median\n",
    "    \n",
    "    # Clean language names\n",
    "    final[\"originalLanguage\"].replace({\"English (United Kingdom)\": \"English\", \n",
    "                                            \"English (Australia)\" : \"English\",\n",
    "                                            \"French (France)\": \"French\", \n",
    "                                            \"French (Canada)\": \"French\",\n",
    "                                            \"Portuguese (Brazil)\": \"Portuguese\",\n",
    "                                            \"Spanish (Spain)\": \"Spanish\"},                                         \n",
    "                                            inplace=True)\n",
    "    \n",
    "    # Clean reviewerName column\n",
    "    pre_post_fixes = {\"Mr. \": \"\", \"Mrs. \": \"\", \"Ms. \": \"\", \"Dr. \": \"\", \n",
    "                      \" MD\": \"\", \" DDS\": \"\", \" DVM\": \"\", \" Jr.\": \"\", \" PhD\": \"\", \" II\": \"\", \" IV\": \"\"}\n",
    "    final[\"reviewerName\"] = final[\"reviewerName\"].replace(pre_post_fixes, regex=True)\n",
    "    final[\"reviewerName\"] = final[\"reviewerName\"].apply(name_fl)\n",
    "    \n",
    "    # Handle 'ratingContents' column\n",
    "    final[\"ratingContents\"] = final[\"ratingContents\"].fillna(\"neutral\")\n",
    "    final[\"rcSorted\"] = final[\"ratingContents\"].apply(lambda x: (\",\").join(sorted(x.strip(\"][\").split(\", \"))))\n",
    "    final[\"rcSorted\"] = final[\"rcSorted\"].apply(lambda x: re.sub(r\"'\", \"\", x))\n",
    "    final[\"rcSorted\"] = final[\"rcSorted\"].apply(lambda x: re.sub(r\"[/\\s]\", \"_\", x))  \n",
    "    \n",
    "    # Handle 'ratingContents' column\n",
    "    final[\"distributor\"] = final[\"distributor\"].fillna(\"unknown\")\n",
    "    \n",
    "    # Work with 'releaseDateTheaters', releaseDateStreaming column\n",
    "    final[[\"releaseDateTheaters\", \"releaseDateStreaming\"]] = final[[\"releaseDateTheaters\", \"releaseDateStreaming\"]].astype('datetime64[ns]')\n",
    "\n",
    "    final[\"releaseDate\"] = final[[\"releaseDateTheaters\", \"releaseDateStreaming\"]].min(axis=1, skipna=False)\n",
    "#     final[\"releaseDate\"] = final[\"releaseDate\"].fillna(final[\"releaseDate\"].median())               # MOVED\n",
    "\n",
    "    final[\"releaseYear\"] = final[\"releaseDate\"].dt.year\n",
    "    final[\"releaseMonth\"] = final[\"releaseDate\"].dt.month\n",
    "    \n",
    "    # Compute \"releaseDiff\" column and fill missing values in \"releaseDiff\" and (optional) replace outliers\n",
    "    final[\"releaseDiff\"] = (final[\"releaseDateStreaming\"] - final[\"releaseDateTheaters\"]) / np.timedelta64(1, 'D')\n",
    "    final[\"releaseDiff\"] = final[\"releaseDiff\"].apply(lambda x: abs(x))\n",
    "    final[\"releaseDiff\"] = final[\"releaseDiff\"].fillna(value=0)\n",
    "#     final[\"releaseDiff\"] = final[\"releaseDiff\"].fillna(final[\"releaseDiff\"].median())\n",
    "    # median = final[\"releaseDiff\"].describe()['50%']\n",
    "    # iqr = final[\"releaseDiff\"].describe()['75%'] - final[\"releaseDiff\"].describe()['25%']\n",
    "    # ll = median - (1.5*iqr)\n",
    "    # ul = median + (1.5*iqr)\n",
    "    # final.loc[final[\"releaseDiff\"] > ul, \"releaseDiff\"] = median\n",
    "    # final.loc[final[\"releaseDiff\"] < ll, \"releaseDiff\"] = median\n",
    "    \n",
    "#     # Create new feature columns\n",
    "    \n",
    "#     # Convert audienceScore to categories  \n",
    "#     num_bins_as = 20\n",
    "#     final[\"audScoreBins\"] = pd.cut(final['audienceScore'], bins=num_bins_as, labels=False)\n",
    "    \n",
    "#     # Convert runtimeMinutes to categories  \n",
    "# #     num_bins_rt = 20\n",
    "#     final[\"runtimeBins\"] = pd.cut(final['runtimeMinutes'], bins=[0,75,120,180,565], labels=[4,3,2,1])\n",
    "    \n",
    "#     # Convert boxOffice to categories  \n",
    "#     num_bins_bo = 5\n",
    "#     final[\"boxOfficeBins\"] = pd.cut(final['boxOffice'], bins=num_bins_bo, labels=False)\n",
    "    \n",
    "#     # Convert releaseDiff to categories  \n",
    "#     num_bins_rd = 5\n",
    "#     final[\"releaseDiffBins\"] = pd.cut(final['releaseDiff'], bins=[-1, 180, 360, 1000, 40000], labels=[0, 1, 2, 3])\n",
    "\n",
    "    return final"
   ]
  },
  {
   "cell_type": "code",
   "execution_count": 31,
   "id": "fd14187e",
   "metadata": {
    "execution": {
     "iopub.execute_input": "2023-08-13T10:44:29.069118Z",
     "iopub.status.busy": "2023-08-13T10:44:29.068712Z",
     "iopub.status.idle": "2023-08-13T10:44:29.075960Z",
     "shell.execute_reply": "2023-08-13T10:44:29.074846Z"
    },
    "papermill": {
     "duration": 0.115711,
     "end_time": "2023-08-13T10:44:29.078408",
     "exception": false,
     "start_time": "2023-08-13T10:44:28.962697",
     "status": "completed"
    },
    "tags": []
   },
   "outputs": [],
   "source": [
    "def split_train_predict(features, labels, pipeline, test_size=0.25, random_state=42):\n",
    "    # cols = features.columns\n",
    "    if len(features.shape) == 1:\n",
    "        features = features.to_numpy().reshape(-1, 1)  # reshape to 2D array\n",
    "    features = pd.DataFrame(features)\n",
    "    X_train, X_test, y_train, y_test = train_test_split(features, labels, test_size=test_size, random_state=random_state)\n",
    "    pipeline.fit(X_train, y_train)\n",
    "    y_pred = pipeline.predict(X_test)\n",
    "    print(classification_report(y_test, y_pred))\n",
    "    print(confusion_matrix(y_test, y_pred))\n",
    "    return pipeline"
   ]
  },
  {
   "cell_type": "markdown",
   "id": "359ce2fd",
   "metadata": {
    "papermill": {
     "duration": 0.100138,
     "end_time": "2023-08-13T10:44:29.279096",
     "exception": false,
     "start_time": "2023-08-13T10:44:29.178958",
     "status": "completed"
    },
    "tags": []
   },
   "source": [
    "### Merge \"train.csv\" file with \"movies.csv\" file  "
   ]
  },
  {
   "cell_type": "code",
   "execution_count": 32,
   "id": "d91e329d",
   "metadata": {
    "execution": {
     "iopub.execute_input": "2023-08-13T10:44:29.479989Z",
     "iopub.status.busy": "2023-08-13T10:44:29.479540Z",
     "iopub.status.idle": "2023-08-13T10:44:44.332969Z",
     "shell.execute_reply": "2023-08-13T10:44:44.331597Z"
    },
    "papermill": {
     "duration": 14.95783,
     "end_time": "2023-08-13T10:44:44.336434",
     "exception": false,
     "start_time": "2023-08-13T10:44:29.378604",
     "status": "completed"
    },
    "tags": []
   },
   "outputs": [],
   "source": [
    "merged = select_features(load_csv(\"train\"), load_csv(\"movies\"), row_thresh_null=None)"
   ]
  },
  {
   "cell_type": "code",
   "execution_count": 33,
   "id": "d062aca8",
   "metadata": {
    "execution": {
     "iopub.execute_input": "2023-08-13T10:44:44.546009Z",
     "iopub.status.busy": "2023-08-13T10:44:44.545616Z",
     "iopub.status.idle": "2023-08-13T10:44:45.994504Z",
     "shell.execute_reply": "2023-08-13T10:44:45.993254Z"
    },
    "papermill": {
     "duration": 1.557215,
     "end_time": "2023-08-13T10:44:45.997975",
     "exception": false,
     "start_time": "2023-08-13T10:44:44.440760",
     "status": "completed"
    },
    "tags": []
   },
   "outputs": [
    {
     "name": "stdout",
     "output_type": "stream",
     "text": [
      "Shape of the dataframe: (162758, 26)\n",
      "\n",
      "Columns in the dataframe:\n",
      "Index(['movieid', 'reviewerName', 'isFrequentReviewer', 'reviewText',\n",
      "       'sentiment', 'title', 'audienceScore', 'rating', 'ratingContents',\n",
      "       'releaseDateTheaters', 'releaseDateStreaming', 'runtimeMinutes',\n",
      "       'genre', 'originalLanguage', 'director', 'boxOffice', 'distributor',\n",
      "       'soundType', 'reviewYN', 'reviewWC', 'genreSorted', 'rcSorted',\n",
      "       'releaseDate', 'releaseYear', 'releaseMonth', 'releaseDiff'],\n",
      "      dtype='object')\n",
      "\n",
      "<class 'pandas.core.frame.DataFrame'>\n",
      "Int64Index: 162758 entries, 0 to 162757\n",
      "Data columns (total 26 columns):\n",
      " #   Column                Non-Null Count   Dtype         \n",
      "---  ------                --------------   -----         \n",
      " 0   movieid               162758 non-null  object        \n",
      " 1   reviewerName          162758 non-null  object        \n",
      " 2   isFrequentReviewer    162758 non-null  bool          \n",
      " 3   reviewText            162758 non-null  object        \n",
      " 4   sentiment             162758 non-null  object        \n",
      " 5   title                 162758 non-null  object        \n",
      " 6   audienceScore         159922 non-null  float64       \n",
      " 7   rating                162758 non-null  object        \n",
      " 8   ratingContents        162758 non-null  object        \n",
      " 9   releaseDateTheaters   146403 non-null  datetime64[ns]\n",
      " 10  releaseDateStreaming  157353 non-null  datetime64[ns]\n",
      " 11  runtimeMinutes        162016 non-null  float64       \n",
      " 12  genre                 162758 non-null  object        \n",
      " 13  originalLanguage      162758 non-null  object        \n",
      " 14  director              162758 non-null  object        \n",
      " 15  boxOffice             130581 non-null  float64       \n",
      " 16  distributor           162758 non-null  object        \n",
      " 17  soundType             93466 non-null   object        \n",
      " 18  reviewYN              162758 non-null  int64         \n",
      " 19  reviewWC              162758 non-null  int64         \n",
      " 20  genreSorted           162758 non-null  object        \n",
      " 21  rcSorted              162758 non-null  object        \n",
      " 22  releaseDate           143073 non-null  datetime64[ns]\n",
      " 23  releaseYear           143073 non-null  float64       \n",
      " 24  releaseMonth          143073 non-null  float64       \n",
      " 25  releaseDiff           162758 non-null  float64       \n",
      "dtypes: bool(1), datetime64[ns](3), float64(6), int64(2), object(14)\n",
      "memory usage: 32.4+ MB\n",
      "None\n",
      "\n",
      "Missing values:\n",
      "movieid                     0\n",
      "reviewerName                0\n",
      "isFrequentReviewer          0\n",
      "reviewText                  0\n",
      "sentiment                   0\n",
      "title                       0\n",
      "audienceScore            2836\n",
      "rating                      0\n",
      "ratingContents              0\n",
      "releaseDateTheaters     16355\n",
      "releaseDateStreaming     5405\n",
      "runtimeMinutes            742\n",
      "genre                       0\n",
      "originalLanguage            0\n",
      "director                    0\n",
      "boxOffice               32177\n",
      "distributor                 0\n",
      "soundType               69292\n",
      "reviewYN                    0\n",
      "reviewWC                    0\n",
      "genreSorted                 0\n",
      "rcSorted                    0\n",
      "releaseDate             19685\n",
      "releaseYear             19685\n",
      "releaseMonth            19685\n",
      "releaseDiff                 0\n",
      "dtype: int64\n"
     ]
    }
   ],
   "source": [
    "inspect(merged)    # Note missing values in ['audienceScore', 'runtimeMinutes', 'boxOffice'] columns  "
   ]
  },
  {
   "cell_type": "code",
   "execution_count": 34,
   "id": "863f652a",
   "metadata": {
    "execution": {
     "iopub.execute_input": "2023-08-13T10:44:46.202540Z",
     "iopub.status.busy": "2023-08-13T10:44:46.201774Z",
     "iopub.status.idle": "2023-08-13T10:44:46.290721Z",
     "shell.execute_reply": "2023-08-13T10:44:46.289547Z"
    },
    "papermill": {
     "duration": 0.194152,
     "end_time": "2023-08-13T10:44:46.293237",
     "exception": false,
     "start_time": "2023-08-13T10:44:46.099085",
     "status": "completed"
    },
    "tags": []
   },
   "outputs": [
    {
     "data": {
      "text/plain": [
       "array([6.80e+01, 1.04e+02, 1.43e+07])"
      ]
     },
     "execution_count": 34,
     "metadata": {},
     "output_type": "execute_result"
    }
   ],
   "source": [
    "# Simple Imputer for ['audienceScore', 'runtimeMinutes', 'boxOffice'] columns\n",
    "si = SimpleImputer(strategy='median')\n",
    "merged[['audienceScore', 'runtimeMinutes', 'boxOffice']] = si.fit_transform(merged[['audienceScore', 'runtimeMinutes', 'boxOffice']])\n",
    "si.statistics_"
   ]
  },
  {
   "cell_type": "code",
   "execution_count": 35,
   "id": "e43edc98",
   "metadata": {
    "execution": {
     "iopub.execute_input": "2023-08-13T10:44:46.495110Z",
     "iopub.status.busy": "2023-08-13T10:44:46.494488Z",
     "iopub.status.idle": "2023-08-13T10:44:46.508421Z",
     "shell.execute_reply": "2023-08-13T10:44:46.507445Z"
    },
    "papermill": {
     "duration": 0.117998,
     "end_time": "2023-08-13T10:44:46.510890",
     "exception": false,
     "start_time": "2023-08-13T10:44:46.392892",
     "status": "completed"
    },
    "tags": []
   },
   "outputs": [],
   "source": [
    "# Fill 'releaseDate' column with median  \n",
    "merged['releaseDate'] = merged[\"releaseDate\"].fillna(merged[\"releaseDate\"].median())"
   ]
  },
  {
   "cell_type": "code",
   "execution_count": 36,
   "id": "7ed6a295",
   "metadata": {
    "execution": {
     "iopub.execute_input": "2023-08-13T10:44:46.712681Z",
     "iopub.status.busy": "2023-08-13T10:44:46.712311Z",
     "iopub.status.idle": "2023-08-13T10:44:48.149151Z",
     "shell.execute_reply": "2023-08-13T10:44:48.147480Z"
    },
    "papermill": {
     "duration": 1.541302,
     "end_time": "2023-08-13T10:44:48.152102",
     "exception": false,
     "start_time": "2023-08-13T10:44:46.610800",
     "status": "completed"
    },
    "tags": []
   },
   "outputs": [
    {
     "name": "stdout",
     "output_type": "stream",
     "text": [
      "Shape of the dataframe: (162758, 26)\n",
      "\n",
      "Columns in the dataframe:\n",
      "Index(['movieid', 'reviewerName', 'isFrequentReviewer', 'reviewText',\n",
      "       'sentiment', 'title', 'audienceScore', 'rating', 'ratingContents',\n",
      "       'releaseDateTheaters', 'releaseDateStreaming', 'runtimeMinutes',\n",
      "       'genre', 'originalLanguage', 'director', 'boxOffice', 'distributor',\n",
      "       'soundType', 'reviewYN', 'reviewWC', 'genreSorted', 'rcSorted',\n",
      "       'releaseDate', 'releaseYear', 'releaseMonth', 'releaseDiff'],\n",
      "      dtype='object')\n",
      "\n",
      "<class 'pandas.core.frame.DataFrame'>\n",
      "Int64Index: 162758 entries, 0 to 162757\n",
      "Data columns (total 26 columns):\n",
      " #   Column                Non-Null Count   Dtype         \n",
      "---  ------                --------------   -----         \n",
      " 0   movieid               162758 non-null  object        \n",
      " 1   reviewerName          162758 non-null  object        \n",
      " 2   isFrequentReviewer    162758 non-null  bool          \n",
      " 3   reviewText            162758 non-null  object        \n",
      " 4   sentiment             162758 non-null  object        \n",
      " 5   title                 162758 non-null  object        \n",
      " 6   audienceScore         162758 non-null  float64       \n",
      " 7   rating                162758 non-null  object        \n",
      " 8   ratingContents        162758 non-null  object        \n",
      " 9   releaseDateTheaters   146403 non-null  datetime64[ns]\n",
      " 10  releaseDateStreaming  157353 non-null  datetime64[ns]\n",
      " 11  runtimeMinutes        162758 non-null  float64       \n",
      " 12  genre                 162758 non-null  object        \n",
      " 13  originalLanguage      162758 non-null  object        \n",
      " 14  director              162758 non-null  object        \n",
      " 15  boxOffice             162758 non-null  float64       \n",
      " 16  distributor           162758 non-null  object        \n",
      " 17  soundType             93466 non-null   object        \n",
      " 18  reviewYN              162758 non-null  int64         \n",
      " 19  reviewWC              162758 non-null  int64         \n",
      " 20  genreSorted           162758 non-null  object        \n",
      " 21  rcSorted              162758 non-null  object        \n",
      " 22  releaseDate           162758 non-null  datetime64[ns]\n",
      " 23  releaseYear           143073 non-null  float64       \n",
      " 24  releaseMonth          143073 non-null  float64       \n",
      " 25  releaseDiff           162758 non-null  float64       \n",
      "dtypes: bool(1), datetime64[ns](3), float64(6), int64(2), object(14)\n",
      "memory usage: 32.4+ MB\n",
      "None\n",
      "\n",
      "Missing values:\n",
      "movieid                     0\n",
      "reviewerName                0\n",
      "isFrequentReviewer          0\n",
      "reviewText                  0\n",
      "sentiment                   0\n",
      "title                       0\n",
      "audienceScore               0\n",
      "rating                      0\n",
      "ratingContents              0\n",
      "releaseDateTheaters     16355\n",
      "releaseDateStreaming     5405\n",
      "runtimeMinutes              0\n",
      "genre                       0\n",
      "originalLanguage            0\n",
      "director                    0\n",
      "boxOffice                   0\n",
      "distributor                 0\n",
      "soundType               69292\n",
      "reviewYN                    0\n",
      "reviewWC                    0\n",
      "genreSorted                 0\n",
      "rcSorted                    0\n",
      "releaseDate                 0\n",
      "releaseYear             19685\n",
      "releaseMonth            19685\n",
      "releaseDiff                 0\n",
      "dtype: int64\n"
     ]
    }
   ],
   "source": [
    "# Check out 'merged' df after imputation  \n",
    "inspect(merged)"
   ]
  },
  {
   "cell_type": "code",
   "execution_count": 37,
   "id": "1604ca57",
   "metadata": {
    "execution": {
     "iopub.execute_input": "2023-08-13T10:44:48.364363Z",
     "iopub.status.busy": "2023-08-13T10:44:48.363733Z",
     "iopub.status.idle": "2023-08-13T10:44:48.421135Z",
     "shell.execute_reply": "2023-08-13T10:44:48.420019Z"
    },
    "papermill": {
     "duration": 0.167303,
     "end_time": "2023-08-13T10:44:48.423732",
     "exception": false,
     "start_time": "2023-08-13T10:44:48.256429",
     "status": "completed"
    },
    "tags": []
   },
   "outputs": [
    {
     "data": {
      "text/html": [
       "<div>\n",
       "<style scoped>\n",
       "    .dataframe tbody tr th:only-of-type {\n",
       "        vertical-align: middle;\n",
       "    }\n",
       "\n",
       "    .dataframe tbody tr th {\n",
       "        vertical-align: top;\n",
       "    }\n",
       "\n",
       "    .dataframe thead th {\n",
       "        text-align: right;\n",
       "    }\n",
       "</style>\n",
       "<table border=\"1\" class=\"dataframe\">\n",
       "  <thead>\n",
       "    <tr style=\"text-align: right;\">\n",
       "      <th></th>\n",
       "      <th>audienceScore</th>\n",
       "      <th>runtimeMinutes</th>\n",
       "      <th>boxOffice</th>\n",
       "    </tr>\n",
       "  </thead>\n",
       "  <tbody>\n",
       "    <tr>\n",
       "      <th>count</th>\n",
       "      <td>162758.000000</td>\n",
       "      <td>162758.000000</td>\n",
       "      <td>1.627580e+05</td>\n",
       "    </tr>\n",
       "    <tr>\n",
       "      <th>mean</th>\n",
       "      <td>65.062565</td>\n",
       "      <td>106.992019</td>\n",
       "      <td>4.160983e+07</td>\n",
       "    </tr>\n",
       "    <tr>\n",
       "      <th>std</th>\n",
       "      <td>19.844000</td>\n",
       "      <td>22.203778</td>\n",
       "      <td>7.932291e+07</td>\n",
       "    </tr>\n",
       "    <tr>\n",
       "      <th>min</th>\n",
       "      <td>0.000000</td>\n",
       "      <td>4.000000</td>\n",
       "      <td>0.000000e+00</td>\n",
       "    </tr>\n",
       "    <tr>\n",
       "      <th>25%</th>\n",
       "      <td>51.000000</td>\n",
       "      <td>93.000000</td>\n",
       "      <td>2.000000e+06</td>\n",
       "    </tr>\n",
       "    <tr>\n",
       "      <th>50%</th>\n",
       "      <td>68.000000</td>\n",
       "      <td>104.000000</td>\n",
       "      <td>1.430000e+07</td>\n",
       "    </tr>\n",
       "    <tr>\n",
       "      <th>75%</th>\n",
       "      <td>81.000000</td>\n",
       "      <td>118.000000</td>\n",
       "      <td>4.200000e+07</td>\n",
       "    </tr>\n",
       "    <tr>\n",
       "      <th>max</th>\n",
       "      <td>100.000000</td>\n",
       "      <td>561.000000</td>\n",
       "      <td>8.584000e+08</td>\n",
       "    </tr>\n",
       "  </tbody>\n",
       "</table>\n",
       "</div>"
      ],
      "text/plain": [
       "       audienceScore  runtimeMinutes     boxOffice\n",
       "count  162758.000000   162758.000000  1.627580e+05\n",
       "mean       65.062565      106.992019  4.160983e+07\n",
       "std        19.844000       22.203778  7.932291e+07\n",
       "min         0.000000        4.000000  0.000000e+00\n",
       "25%        51.000000       93.000000  2.000000e+06\n",
       "50%        68.000000      104.000000  1.430000e+07\n",
       "75%        81.000000      118.000000  4.200000e+07\n",
       "max       100.000000      561.000000  8.584000e+08"
      ]
     },
     "execution_count": 37,
     "metadata": {},
     "output_type": "execute_result"
    }
   ],
   "source": [
    "merged[['audienceScore', 'runtimeMinutes', 'boxOffice']].describe()"
   ]
  },
  {
   "cell_type": "markdown",
   "id": "492c2ab7",
   "metadata": {
    "papermill": {
     "duration": 0.103462,
     "end_time": "2023-08-13T10:44:48.730564",
     "exception": false,
     "start_time": "2023-08-13T10:44:48.627102",
     "status": "completed"
    },
    "tags": []
   },
   "source": [
    "### EDA audienceScore  "
   ]
  },
  {
   "cell_type": "code",
   "execution_count": 38,
   "id": "0d8fa855",
   "metadata": {
    "execution": {
     "iopub.execute_input": "2023-08-13T10:44:48.939839Z",
     "iopub.status.busy": "2023-08-13T10:44:48.938729Z",
     "iopub.status.idle": "2023-08-13T10:44:49.330258Z",
     "shell.execute_reply": "2023-08-13T10:44:49.329020Z"
    },
    "papermill": {
     "duration": 0.500406,
     "end_time": "2023-08-13T10:44:49.333070",
     "exception": false,
     "start_time": "2023-08-13T10:44:48.832664",
     "status": "completed"
    },
    "tags": []
   },
   "outputs": [
    {
     "data": {
      "text/plain": [
       "<Axes: xlabel='sentiment', ylabel='audienceScore'>"
      ]
     },
     "execution_count": 38,
     "metadata": {},
     "output_type": "execute_result"
    },
    {
     "data": {
      "image/png": "[encoded data removed]",
      "text/plain": [
       "<Figure size 640x480 with 1 Axes>"
      ]
     },
     "metadata": {},
     "output_type": "display_data"
    }
   ],
   "source": [
    "sns.boxplot(y=merged[\"audienceScore\"], x=merged[\"sentiment\"])"
   ]
  },
  {
   "cell_type": "code",
   "execution_count": 39,
   "id": "f77beacc",
   "metadata": {
    "execution": {
     "iopub.execute_input": "2023-08-13T10:44:49.541861Z",
     "iopub.status.busy": "2023-08-13T10:44:49.541193Z",
     "iopub.status.idle": "2023-08-13T10:44:49.590601Z",
     "shell.execute_reply": "2023-08-13T10:44:49.589530Z"
    },
    "papermill": {
     "duration": 0.157519,
     "end_time": "2023-08-13T10:44:49.593403",
     "exception": false,
     "start_time": "2023-08-13T10:44:49.435884",
     "status": "completed"
    },
    "tags": []
   },
   "outputs": [
    {
     "data": {
      "text/html": [
       "<div>\n",
       "<style scoped>\n",
       "    .dataframe tbody tr th:only-of-type {\n",
       "        vertical-align: middle;\n",
       "    }\n",
       "\n",
       "    .dataframe tbody tr th {\n",
       "        vertical-align: top;\n",
       "    }\n",
       "\n",
       "    .dataframe thead th {\n",
       "        text-align: right;\n",
       "    }\n",
       "</style>\n",
       "<table border=\"1\" class=\"dataframe\">\n",
       "  <thead>\n",
       "    <tr style=\"text-align: right;\">\n",
       "      <th></th>\n",
       "      <th>count</th>\n",
       "      <th>mean</th>\n",
       "      <th>std</th>\n",
       "      <th>min</th>\n",
       "      <th>25%</th>\n",
       "      <th>50%</th>\n",
       "      <th>75%</th>\n",
       "      <th>max</th>\n",
       "    </tr>\n",
       "    <tr>\n",
       "      <th>sentiment</th>\n",
       "      <th></th>\n",
       "      <th></th>\n",
       "      <th></th>\n",
       "      <th></th>\n",
       "      <th></th>\n",
       "      <th></th>\n",
       "      <th></th>\n",
       "      <th></th>\n",
       "    </tr>\n",
       "  </thead>\n",
       "  <tbody>\n",
       "    <tr>\n",
       "      <th>NEGATIVE</th>\n",
       "      <td>53997.0</td>\n",
       "      <td>56.474786</td>\n",
       "      <td>19.902115</td>\n",
       "      <td>0.0</td>\n",
       "      <td>41.0</td>\n",
       "      <td>57.0</td>\n",
       "      <td>72.0</td>\n",
       "      <td>100.0</td>\n",
       "    </tr>\n",
       "    <tr>\n",
       "      <th>POSITIVE</th>\n",
       "      <td>108761.0</td>\n",
       "      <td>69.326174</td>\n",
       "      <td>18.380626</td>\n",
       "      <td>0.0</td>\n",
       "      <td>58.0</td>\n",
       "      <td>73.0</td>\n",
       "      <td>84.0</td>\n",
       "      <td>100.0</td>\n",
       "    </tr>\n",
       "  </tbody>\n",
       "</table>\n",
       "</div>"
      ],
      "text/plain": [
       "              count       mean        std  min   25%   50%   75%    max\n",
       "sentiment                                                              \n",
       "NEGATIVE    53997.0  56.474786  19.902115  0.0  41.0  57.0  72.0  100.0\n",
       "POSITIVE   108761.0  69.326174  18.380626  0.0  58.0  73.0  84.0  100.0"
      ]
     },
     "execution_count": 39,
     "metadata": {},
     "output_type": "execute_result"
    }
   ],
   "source": [
    "merged.groupby('sentiment')['audienceScore'].describe()"
   ]
  },
  {
   "cell_type": "code",
   "execution_count": 40,
   "id": "2757a830",
   "metadata": {
    "execution": {
     "iopub.execute_input": "2023-08-13T10:44:49.804860Z",
     "iopub.status.busy": "2023-08-13T10:44:49.804323Z",
     "iopub.status.idle": "2023-08-13T10:44:49.878758Z",
     "shell.execute_reply": "2023-08-13T10:44:49.877224Z"
    },
    "papermill": {
     "duration": 0.182515,
     "end_time": "2023-08-13T10:44:49.881521",
     "exception": false,
     "start_time": "2023-08-13T10:44:49.699006",
     "status": "completed"
    },
    "tags": []
   },
   "outputs": [
    {
     "data": {
      "text/plain": [
       "(162758, 26)"
      ]
     },
     "execution_count": 40,
     "metadata": {},
     "output_type": "execute_result"
    }
   ],
   "source": [
    "merged.loc[merged['audienceScore'] >= 0].shape"
   ]
  },
  {
   "cell_type": "markdown",
   "id": "906b088a",
   "metadata": {
    "papermill": {
     "duration": 0.105754,
     "end_time": "2023-08-13T10:44:50.092766",
     "exception": false,
     "start_time": "2023-08-13T10:44:49.987012",
     "status": "completed"
    },
    "tags": []
   },
   "source": [
    "### EDA releaseDiff  "
   ]
  },
  {
   "cell_type": "code",
   "execution_count": 41,
   "id": "0d04de92",
   "metadata": {
    "execution": {
     "iopub.execute_input": "2023-08-13T10:44:50.307127Z",
     "iopub.status.busy": "2023-08-13T10:44:50.305689Z",
     "iopub.status.idle": "2023-08-13T10:44:50.324283Z",
     "shell.execute_reply": "2023-08-13T10:44:50.323253Z"
    },
    "papermill": {
     "duration": 0.128571,
     "end_time": "2023-08-13T10:44:50.326862",
     "exception": false,
     "start_time": "2023-08-13T10:44:50.198291",
     "status": "completed"
    },
    "tags": []
   },
   "outputs": [
    {
     "data": {
      "text/plain": [
       "count    162758.000000\n",
       "mean       1653.469015\n",
       "std        4581.420922\n",
       "min           0.000000\n",
       "25%          65.000000\n",
       "50%         116.000000\n",
       "75%         375.000000\n",
       "max       38922.000000\n",
       "Name: releaseDiff, dtype: float64"
      ]
     },
     "execution_count": 41,
     "metadata": {},
     "output_type": "execute_result"
    }
   ],
   "source": [
    "# abs values\n",
    "merged[\"releaseDiff\"].describe()"
   ]
  },
  {
   "cell_type": "code",
   "execution_count": 42,
   "id": "0c063452",
   "metadata": {
    "execution": {
     "iopub.execute_input": "2023-08-13T10:44:50.542739Z",
     "iopub.status.busy": "2023-08-13T10:44:50.542302Z",
     "iopub.status.idle": "2023-08-13T10:44:50.546983Z",
     "shell.execute_reply": "2023-08-13T10:44:50.545875Z"
    },
    "papermill": {
     "duration": 0.115452,
     "end_time": "2023-08-13T10:44:50.549515",
     "exception": false,
     "start_time": "2023-08-13T10:44:50.434063",
     "status": "completed"
    },
    "tags": []
   },
   "outputs": [],
   "source": [
    "# merged['releaseDiffBins'].value_counts()"
   ]
  },
  {
   "cell_type": "code",
   "execution_count": 43,
   "id": "435724da",
   "metadata": {
    "execution": {
     "iopub.execute_input": "2023-08-13T10:44:50.764072Z",
     "iopub.status.busy": "2023-08-13T10:44:50.763343Z",
     "iopub.status.idle": "2023-08-13T10:44:51.157898Z",
     "shell.execute_reply": "2023-08-13T10:44:51.156481Z"
    },
    "papermill": {
     "duration": 0.504886,
     "end_time": "2023-08-13T10:44:51.160354",
     "exception": false,
     "start_time": "2023-08-13T10:44:50.655468",
     "status": "completed"
    },
    "tags": []
   },
   "outputs": [
    {
     "data": {
      "text/plain": [
       "<Axes: xlabel='sentiment', ylabel='releaseDiff'>"
      ]
     },
     "execution_count": 43,
     "metadata": {},
     "output_type": "execute_result"
    },
    {
     "data": {
      "image/png": "[encoded data removed]",
      "text/plain": [
       "<Figure size 640x480 with 1 Axes>"
      ]
     },
     "metadata": {},
     "output_type": "display_data"
    }
   ],
   "source": [
    "sns.boxplot(x=merged['sentiment'], y=merged['releaseDiff'], showfliers=False)"
   ]
  },
  {
   "cell_type": "code",
   "execution_count": 44,
   "id": "b68fa861",
   "metadata": {
    "execution": {
     "iopub.execute_input": "2023-08-13T10:44:51.368793Z",
     "iopub.status.busy": "2023-08-13T10:44:51.368036Z",
     "iopub.status.idle": "2023-08-13T10:44:51.373114Z",
     "shell.execute_reply": "2023-08-13T10:44:51.371786Z"
    },
    "papermill": {
     "duration": 0.112147,
     "end_time": "2023-08-13T10:44:51.375303",
     "exception": false,
     "start_time": "2023-08-13T10:44:51.263156",
     "status": "completed"
    },
    "tags": []
   },
   "outputs": [],
   "source": [
    "# sns.displot(merged['releaseDiffBins'])"
   ]
  },
  {
   "cell_type": "code",
   "execution_count": 45,
   "id": "88262247",
   "metadata": {
    "execution": {
     "iopub.execute_input": "2023-08-13T10:44:51.582687Z",
     "iopub.status.busy": "2023-08-13T10:44:51.582218Z",
     "iopub.status.idle": "2023-08-13T10:44:51.587211Z",
     "shell.execute_reply": "2023-08-13T10:44:51.585955Z"
    },
    "papermill": {
     "duration": 0.112264,
     "end_time": "2023-08-13T10:44:51.590009",
     "exception": false,
     "start_time": "2023-08-13T10:44:51.477745",
     "status": "completed"
    },
    "tags": []
   },
   "outputs": [],
   "source": [
    "# merged['sentiment'].loc[merged['releaseDiffBins'] > 0].value_counts()"
   ]
  },
  {
   "cell_type": "code",
   "execution_count": 46,
   "id": "a6b8ae5b",
   "metadata": {
    "execution": {
     "iopub.execute_input": "2023-08-13T10:44:51.801779Z",
     "iopub.status.busy": "2023-08-13T10:44:51.801269Z",
     "iopub.status.idle": "2023-08-13T10:44:51.806572Z",
     "shell.execute_reply": "2023-08-13T10:44:51.805014Z"
    },
    "papermill": {
     "duration": 0.113634,
     "end_time": "2023-08-13T10:44:51.809066",
     "exception": false,
     "start_time": "2023-08-13T10:44:51.695432",
     "status": "completed"
    },
    "tags": []
   },
   "outputs": [],
   "source": [
    "# merged['releaseDiffBins'].describe()"
   ]
  },
  {
   "cell_type": "markdown",
   "id": "a6774255",
   "metadata": {
    "papermill": {
     "duration": 0.105431,
     "end_time": "2023-08-13T10:44:52.022240",
     "exception": false,
     "start_time": "2023-08-13T10:44:51.916809",
     "status": "completed"
    },
    "tags": []
   },
   "source": [
    "### EDA 'distributor'  "
   ]
  },
  {
   "cell_type": "code",
   "execution_count": 47,
   "id": "727a278f",
   "metadata": {
    "execution": {
     "iopub.execute_input": "2023-08-13T10:44:52.257190Z",
     "iopub.status.busy": "2023-08-13T10:44:52.256323Z",
     "iopub.status.idle": "2023-08-13T10:44:52.293979Z",
     "shell.execute_reply": "2023-08-13T10:44:52.292812Z"
    },
    "papermill": {
     "duration": 0.146293,
     "end_time": "2023-08-13T10:44:52.296645",
     "exception": false,
     "start_time": "2023-08-13T10:44:52.150352",
     "status": "completed"
    },
    "tags": []
   },
   "outputs": [
    {
     "data": {
      "text/plain": [
       "unknown                              20489\n",
       "Universal Pictures                    8847\n",
       "Warner Bros. Pictures                 8722\n",
       "Paramount Pictures                    7773\n",
       "20th Century Fox                      7007\n",
       "                                     ...  \n",
       "Almi Pictures                            1\n",
       "Koch Lorber                              1\n",
       "Magic Lamp                               1\n",
       "Fine Line Features, Miramax Films        1\n",
       "American Film Co.                        1\n",
       "Name: distributor, Length: 1796, dtype: int64"
      ]
     },
     "execution_count": 47,
     "metadata": {},
     "output_type": "execute_result"
    }
   ],
   "source": [
    "merged[\"distributor\"].value_counts()"
   ]
  },
  {
   "cell_type": "code",
   "execution_count": 48,
   "id": "f056cca7",
   "metadata": {
    "execution": {
     "iopub.execute_input": "2023-08-13T10:44:52.504125Z",
     "iopub.status.busy": "2023-08-13T10:44:52.503568Z",
     "iopub.status.idle": "2023-08-13T10:44:52.524480Z",
     "shell.execute_reply": "2023-08-13T10:44:52.523660Z"
    },
    "papermill": {
     "duration": 0.126883,
     "end_time": "2023-08-13T10:44:52.526740",
     "exception": false,
     "start_time": "2023-08-13T10:44:52.399857",
     "status": "completed"
    },
    "tags": []
   },
   "outputs": [
    {
     "data": {
      "text/plain": [
       "count    162758.000000\n",
       "mean        106.992019\n",
       "std          22.203778\n",
       "min           4.000000\n",
       "25%          93.000000\n",
       "50%         104.000000\n",
       "75%         118.000000\n",
       "max         561.000000\n",
       "Name: runtimeMinutes, dtype: float64"
      ]
     },
     "execution_count": 48,
     "metadata": {},
     "output_type": "execute_result"
    }
   ],
   "source": [
    "merged[\"runtimeMinutes\"].describe()"
   ]
  },
  {
   "cell_type": "code",
   "execution_count": 49,
   "id": "858c8925",
   "metadata": {
    "execution": {
     "iopub.execute_input": "2023-08-13T10:44:52.736840Z",
     "iopub.status.busy": "2023-08-13T10:44:52.736106Z",
     "iopub.status.idle": "2023-08-13T10:44:53.149659Z",
     "shell.execute_reply": "2023-08-13T10:44:53.148344Z"
    },
    "papermill": {
     "duration": 0.523295,
     "end_time": "2023-08-13T10:44:53.152738",
     "exception": false,
     "start_time": "2023-08-13T10:44:52.629443",
     "status": "completed"
    },
    "tags": []
   },
   "outputs": [
    {
     "data": {
      "text/plain": [
       "<Axes: xlabel='sentiment', ylabel='runtimeMinutes'>"
      ]
     },
     "execution_count": 49,
     "metadata": {},
     "output_type": "execute_result"
    },
    {
     "data": {
      "image/png": "[encoded data removed]",
      "text/plain": [
       "<Figure size 640x480 with 1 Axes>"
      ]
     },
     "metadata": {},
     "output_type": "display_data"
    }
   ],
   "source": [
    "sns.boxplot(y=merged[\"runtimeMinutes\"], x=merged[\"sentiment\"])"
   ]
  },
  {
   "cell_type": "code",
   "execution_count": 50,
   "id": "41a74025",
   "metadata": {
    "execution": {
     "iopub.execute_input": "2023-08-13T10:44:53.371638Z",
     "iopub.status.busy": "2023-08-13T10:44:53.371213Z",
     "iopub.status.idle": "2023-08-13T10:44:53.375942Z",
     "shell.execute_reply": "2023-08-13T10:44:53.375027Z"
    },
    "papermill": {
     "duration": 0.115211,
     "end_time": "2023-08-13T10:44:53.378071",
     "exception": false,
     "start_time": "2023-08-13T10:44:53.262860",
     "status": "completed"
    },
    "tags": []
   },
   "outputs": [],
   "source": [
    "# print(merged[\"boxOfficeBins\"].value_counts())\n",
    "# sns.displot(merged[\"boxOfficeBins\"])"
   ]
  },
  {
   "cell_type": "code",
   "execution_count": 51,
   "id": "4beb0700",
   "metadata": {
    "execution": {
     "iopub.execute_input": "2023-08-13T10:44:53.596124Z",
     "iopub.status.busy": "2023-08-13T10:44:53.595420Z",
     "iopub.status.idle": "2023-08-13T10:44:53.602992Z",
     "shell.execute_reply": "2023-08-13T10:44:53.602142Z"
    },
    "papermill": {
     "duration": 0.118215,
     "end_time": "2023-08-13T10:44:53.605430",
     "exception": false,
     "start_time": "2023-08-13T10:44:53.487215",
     "status": "completed"
    },
    "tags": []
   },
   "outputs": [
    {
     "data": {
      "text/plain": [
       "0    Henry Selick’s first movie since ’s Coraline. ...\n",
       "1    With a cast that reads like the Vogue Oscar pa...\n",
       "2    Creed II does not give us anything but another...\n",
       "3    I know what you're thinking, but this is no Li...\n",
       "4    Director Fernando Meirelles tells the story wi...\n",
       "Name: reviewText, dtype: object"
      ]
     },
     "execution_count": 51,
     "metadata": {},
     "output_type": "execute_result"
    }
   ],
   "source": [
    "merged[\"reviewText\"].head()"
   ]
  },
  {
   "cell_type": "code",
   "execution_count": 52,
   "id": "3d50128c",
   "metadata": {
    "execution": {
     "iopub.execute_input": "2023-08-13T10:44:53.824559Z",
     "iopub.status.busy": "2023-08-13T10:44:53.823849Z",
     "iopub.status.idle": "2023-08-13T10:44:53.830790Z",
     "shell.execute_reply": "2023-08-13T10:44:53.829584Z"
    },
    "papermill": {
     "duration": 0.120091,
     "end_time": "2023-08-13T10:44:53.833263",
     "exception": false,
     "start_time": "2023-08-13T10:44:53.713172",
     "status": "completed"
    },
    "tags": []
   },
   "outputs": [
    {
     "data": {
      "text/plain": [
       "6447"
      ]
     },
     "execution_count": 52,
     "metadata": {},
     "output_type": "execute_result"
    }
   ],
   "source": [
    "merged[\"reviewYN\"].sum()"
   ]
  },
  {
   "cell_type": "code",
   "execution_count": 53,
   "id": "85d3b6fd",
   "metadata": {
    "execution": {
     "iopub.execute_input": "2023-08-13T10:44:54.049276Z",
     "iopub.status.busy": "2023-08-13T10:44:54.048639Z",
     "iopub.status.idle": "2023-08-13T10:44:54.056251Z",
     "shell.execute_reply": "2023-08-13T10:44:54.055205Z"
    },
    "papermill": {
     "duration": 0.118018,
     "end_time": "2023-08-13T10:44:54.058660",
     "exception": false,
     "start_time": "2023-08-13T10:44:53.940642",
     "status": "completed"
    },
    "tags": []
   },
   "outputs": [
    {
     "data": {
      "text/plain": [
       "0    11\n",
       "1    24\n",
       "2    22\n",
       "3    34\n",
       "4    20\n",
       "Name: reviewWC, dtype: int64"
      ]
     },
     "execution_count": 53,
     "metadata": {},
     "output_type": "execute_result"
    }
   ],
   "source": [
    "merged[\"reviewWC\"].head()"
   ]
  },
  {
   "cell_type": "code",
   "execution_count": 54,
   "id": "fa9490b0",
   "metadata": {
    "execution": {
     "iopub.execute_input": "2023-08-13T10:44:54.270460Z",
     "iopub.status.busy": "2023-08-13T10:44:54.269768Z",
     "iopub.status.idle": "2023-08-13T10:44:54.286896Z",
     "shell.execute_reply": "2023-08-13T10:44:54.285790Z"
    },
    "papermill": {
     "duration": 0.125654,
     "end_time": "2023-08-13T10:44:54.289414",
     "exception": false,
     "start_time": "2023-08-13T10:44:54.163760",
     "status": "completed"
    },
    "tags": []
   },
   "outputs": [
    {
     "data": {
      "text/plain": [
       "count    162758.000000\n",
       "mean         21.013707\n",
       "std          10.216532\n",
       "min           1.000000\n",
       "25%          14.000000\n",
       "50%          21.000000\n",
       "75%          28.000000\n",
       "max          54.000000\n",
       "Name: reviewWC, dtype: float64"
      ]
     },
     "execution_count": 54,
     "metadata": {},
     "output_type": "execute_result"
    }
   ],
   "source": [
    "merged[\"reviewWC\"].describe()"
   ]
  },
  {
   "cell_type": "code",
   "execution_count": 55,
   "id": "c0452276",
   "metadata": {
    "execution": {
     "iopub.execute_input": "2023-08-13T10:44:54.503800Z",
     "iopub.status.busy": "2023-08-13T10:44:54.503432Z",
     "iopub.status.idle": "2023-08-13T10:44:55.194215Z",
     "shell.execute_reply": "2023-08-13T10:44:55.193004Z"
    },
    "papermill": {
     "duration": 0.802921,
     "end_time": "2023-08-13T10:44:55.196877",
     "exception": false,
     "start_time": "2023-08-13T10:44:54.393956",
     "status": "completed"
    },
    "tags": []
   },
   "outputs": [
    {
     "data": {
      "text/plain": [
       "<Axes: xlabel='reviewWC', ylabel='Count'>"
      ]
     },
     "execution_count": 55,
     "metadata": {},
     "output_type": "execute_result"
    },
    {
     "data": {
      "image/png": "[encoded data removed]",
      "text/plain": [
       "<Figure size 640x480 with 1 Axes>"
      ]
     },
     "metadata": {},
     "output_type": "display_data"
    }
   ],
   "source": [
    "sns.histplot(merged[\"reviewWC\"])"
   ]
  },
  {
   "cell_type": "code",
   "execution_count": 56,
   "id": "a8f4217a",
   "metadata": {
    "execution": {
     "iopub.execute_input": "2023-08-13T10:44:55.483974Z",
     "iopub.status.busy": "2023-08-13T10:44:55.483580Z",
     "iopub.status.idle": "2023-08-13T10:44:55.515215Z",
     "shell.execute_reply": "2023-08-13T10:44:55.514075Z"
    },
    "papermill": {
     "duration": 0.21563,
     "end_time": "2023-08-13T10:44:55.517530",
     "exception": false,
     "start_time": "2023-08-13T10:44:55.301900",
     "status": "completed"
    },
    "tags": []
   },
   "outputs": [
    {
     "data": {
      "text/plain": [
       "R          60248\n",
       "unknown    44587\n",
       "PG-13      42697\n",
       "PG         13669\n",
       "TV14         947\n",
       "NC-17        285\n",
       "TVPG         281\n",
       "TVMA          44\n",
       "Name: rating, dtype: int64"
      ]
     },
     "execution_count": 56,
     "metadata": {},
     "output_type": "execute_result"
    }
   ],
   "source": [
    "merged['rating'].value_counts()"
   ]
  },
  {
   "cell_type": "code",
   "execution_count": 57,
   "id": "4e82166c",
   "metadata": {
    "execution": {
     "iopub.execute_input": "2023-08-13T10:44:55.731439Z",
     "iopub.status.busy": "2023-08-13T10:44:55.731026Z",
     "iopub.status.idle": "2023-08-13T10:44:55.741397Z",
     "shell.execute_reply": "2023-08-13T10:44:55.740509Z"
    },
    "papermill": {
     "duration": 0.119855,
     "end_time": "2023-08-13T10:44:55.743580",
     "exception": false,
     "start_time": "2023-08-13T10:44:55.623725",
     "status": "completed"
    },
    "tags": []
   },
   "outputs": [
    {
     "data": {
      "text/plain": [
       "False    113189\n",
       "True      49569\n",
       "Name: isFrequentReviewer, dtype: int64"
      ]
     },
     "execution_count": 57,
     "metadata": {},
     "output_type": "execute_result"
    }
   ],
   "source": [
    "merged['isFrequentReviewer'].value_counts()"
   ]
  },
  {
   "cell_type": "code",
   "execution_count": 58,
   "id": "1f2ffff7",
   "metadata": {
    "execution": {
     "iopub.execute_input": "2023-08-13T10:44:55.958811Z",
     "iopub.status.busy": "2023-08-13T10:44:55.958443Z",
     "iopub.status.idle": "2023-08-13T10:44:55.966242Z",
     "shell.execute_reply": "2023-08-13T10:44:55.965272Z"
    },
    "papermill": {
     "duration": 0.118442,
     "end_time": "2023-08-13T10:44:55.968328",
     "exception": false,
     "start_time": "2023-08-13T10:44:55.849886",
     "status": "completed"
    },
    "tags": []
   },
   "outputs": [
    {
     "data": {
      "text/plain": [
       "0      Benjamin Henry\n",
       "1       Felicia Lopez\n",
       "2     Charles Burgess\n",
       "3        Ryan Barrett\n",
       "4    Alexander Glover\n",
       "Name: reviewerName, dtype: object"
      ]
     },
     "execution_count": 58,
     "metadata": {},
     "output_type": "execute_result"
    }
   ],
   "source": [
    "merged[\"reviewerName\"].head()"
   ]
  },
  {
   "cell_type": "code",
   "execution_count": 59,
   "id": "fe508ff2",
   "metadata": {
    "execution": {
     "iopub.execute_input": "2023-08-13T10:44:56.189093Z",
     "iopub.status.busy": "2023-08-13T10:44:56.188647Z",
     "iopub.status.idle": "2023-08-13T10:44:56.202376Z",
     "shell.execute_reply": "2023-08-13T10:44:56.201524Z"
    },
    "papermill": {
     "duration": 0.125649,
     "end_time": "2023-08-13T10:44:56.204587",
     "exception": false,
     "start_time": "2023-08-13T10:44:56.078938",
     "status": "completed"
    },
    "tags": []
   },
   "outputs": [
    {
     "data": {
      "text/plain": [
       "14300000.0    32327\n",
       "2000000.0       922\n",
       "1100000.0       891\n",
       "1000000.0       834\n",
       "1200000.0       802\n",
       "              ...  \n",
       "58500.0           1\n",
       "500800.0          1\n",
       "265600.0          1\n",
       "292500.0          1\n",
       "799400.0          1\n",
       "Name: boxOffice, Length: 3819, dtype: int64"
      ]
     },
     "execution_count": 59,
     "metadata": {},
     "output_type": "execute_result"
    }
   ],
   "source": [
    "merged['boxOffice'].value_counts()"
   ]
  },
  {
   "cell_type": "code",
   "execution_count": 60,
   "id": "a7094419",
   "metadata": {
    "execution": {
     "iopub.execute_input": "2023-08-13T10:44:56.442440Z",
     "iopub.status.busy": "2023-08-13T10:44:56.442083Z",
     "iopub.status.idle": "2023-08-13T10:44:56.446777Z",
     "shell.execute_reply": "2023-08-13T10:44:56.445698Z"
    },
    "papermill": {
     "duration": 0.134535,
     "end_time": "2023-08-13T10:44:56.449060",
     "exception": false,
     "start_time": "2023-08-13T10:44:56.314525",
     "status": "completed"
    },
    "tags": []
   },
   "outputs": [],
   "source": [
    "# Check correlation between 'boxOffice' and ''sentiment'\n",
    "# bo_df = merged.copy()\n",
    "# print(bo_df[\"boxOffice\"])\n",
    "# bo_df[\"boxOffice\"] = bo_df[\"boxOffice\"].str[1:]\n",
    "# bo_df[\"boxOffice\"] = bo_df[\"boxOffice\"].replace(to_replace={\"M\": \"*1000000\", \"K\": \"*1000\"}, regex=True)\n",
    "# bo_df[\"boxOffice\"] = bo_df[\"boxOffice\"].loc[bo_df[\"boxOffice\"].notnull()].apply(lambda x: eval(str(x)))\n",
    "# bo_df[\"boxOffice\"] = bo_df[\"boxOffice\"].fillna(bo_df[\"boxOffice\"].median())\n",
    "# bo_df[\"boxOffice\"].describe()"
   ]
  },
  {
   "cell_type": "code",
   "execution_count": 61,
   "id": "03e8784a",
   "metadata": {
    "execution": {
     "iopub.execute_input": "2023-08-13T10:44:56.673522Z",
     "iopub.status.busy": "2023-08-13T10:44:56.672727Z",
     "iopub.status.idle": "2023-08-13T10:44:56.677315Z",
     "shell.execute_reply": "2023-08-13T10:44:56.676530Z"
    },
    "papermill": {
     "duration": 0.119905,
     "end_time": "2023-08-13T10:44:56.679644",
     "exception": false,
     "start_time": "2023-08-13T10:44:56.559739",
     "status": "completed"
    },
    "tags": []
   },
   "outputs": [],
   "source": [
    "# median = bo_df[\"boxOffice\"].describe()['50%']\n",
    "# iqr = bo_df[\"boxOffice\"].describe()['75%'] - bo_df[\"boxOffice\"].describe()['25%']\n",
    "# median, iqr"
   ]
  },
  {
   "cell_type": "code",
   "execution_count": 62,
   "id": "6ff4e8c2",
   "metadata": {
    "execution": {
     "iopub.execute_input": "2023-08-13T10:44:56.898798Z",
     "iopub.status.busy": "2023-08-13T10:44:56.898076Z",
     "iopub.status.idle": "2023-08-13T10:44:56.902710Z",
     "shell.execute_reply": "2023-08-13T10:44:56.901840Z"
    },
    "papermill": {
     "duration": 0.115368,
     "end_time": "2023-08-13T10:44:56.905030",
     "exception": false,
     "start_time": "2023-08-13T10:44:56.789662",
     "status": "completed"
    },
    "tags": []
   },
   "outputs": [],
   "source": [
    "# ll = median - (1.5*iqr)\n",
    "# ul = median + (1.5*iqr)\n",
    "# ll, ul"
   ]
  },
  {
   "cell_type": "code",
   "execution_count": 63,
   "id": "6a070790",
   "metadata": {
    "execution": {
     "iopub.execute_input": "2023-08-13T10:44:57.125116Z",
     "iopub.status.busy": "2023-08-13T10:44:57.124348Z",
     "iopub.status.idle": "2023-08-13T10:44:57.129044Z",
     "shell.execute_reply": "2023-08-13T10:44:57.128156Z"
    },
    "papermill": {
     "duration": 0.115323,
     "end_time": "2023-08-13T10:44:57.131261",
     "exception": false,
     "start_time": "2023-08-13T10:44:57.015938",
     "status": "completed"
    },
    "tags": []
   },
   "outputs": [],
   "source": [
    "# bo_df[\"boxOffice\"].mean()"
   ]
  },
  {
   "cell_type": "code",
   "execution_count": 64,
   "id": "e3ee1e99",
   "metadata": {
    "execution": {
     "iopub.execute_input": "2023-08-13T10:44:57.349708Z",
     "iopub.status.busy": "2023-08-13T10:44:57.348979Z",
     "iopub.status.idle": "2023-08-13T10:44:57.353635Z",
     "shell.execute_reply": "2023-08-13T10:44:57.352731Z"
    },
    "papermill": {
     "duration": 0.116595,
     "end_time": "2023-08-13T10:44:57.356158",
     "exception": false,
     "start_time": "2023-08-13T10:44:57.239563",
     "status": "completed"
    },
    "tags": []
   },
   "outputs": [],
   "source": [
    "# bo_df.loc[bo_df[\"boxOffice\"] > ul, \"boxOffice\"] = median\n",
    "# bo_df[\"boxOffice\"].mean()"
   ]
  },
  {
   "cell_type": "code",
   "execution_count": 65,
   "id": "387edcd0",
   "metadata": {
    "execution": {
     "iopub.execute_input": "2023-08-13T10:44:57.568552Z",
     "iopub.status.busy": "2023-08-13T10:44:57.568192Z",
     "iopub.status.idle": "2023-08-13T10:44:57.572328Z",
     "shell.execute_reply": "2023-08-13T10:44:57.571229Z"
    },
    "papermill": {
     "duration": 0.112932,
     "end_time": "2023-08-13T10:44:57.574421",
     "exception": false,
     "start_time": "2023-08-13T10:44:57.461489",
     "status": "completed"
    },
    "tags": []
   },
   "outputs": [],
   "source": [
    "# bo_df[\"boxOffice\"].min(), bo_df[\"boxOffice\"].max()"
   ]
  },
  {
   "cell_type": "code",
   "execution_count": 66,
   "id": "25127d75",
   "metadata": {
    "execution": {
     "iopub.execute_input": "2023-08-13T10:44:57.790297Z",
     "iopub.status.busy": "2023-08-13T10:44:57.789898Z",
     "iopub.status.idle": "2023-08-13T10:44:57.794315Z",
     "shell.execute_reply": "2023-08-13T10:44:57.793172Z"
    },
    "papermill": {
     "duration": 0.115056,
     "end_time": "2023-08-13T10:44:57.796563",
     "exception": false,
     "start_time": "2023-08-13T10:44:57.681507",
     "status": "completed"
    },
    "tags": []
   },
   "outputs": [],
   "source": [
    "# sns.boxplot(x=\"sentiment\", y=\"boxOffice\", data=bo_df, showfliers = False)"
   ]
  },
  {
   "cell_type": "markdown",
   "id": "94e87ec0",
   "metadata": {
    "papermill": {
     "duration": 0.107373,
     "end_time": "2023-08-13T10:44:58.012621",
     "exception": false,
     "start_time": "2023-08-13T10:44:57.905248",
     "status": "completed"
    },
    "tags": []
   },
   "source": [
    "## EDA  "
   ]
  },
  {
   "cell_type": "markdown",
   "id": "3b4bcc3a",
   "metadata": {
    "papermill": {
     "duration": 0.105654,
     "end_time": "2023-08-13T10:44:58.225083",
     "exception": false,
     "start_time": "2023-08-13T10:44:58.119429",
     "status": "completed"
    },
    "tags": []
   },
   "source": [
    "### An interesting finding through exploration  \n",
    "  \n",
    "* OHE and TfidfVectorizer on director column give the same result when ngram_range(2,2) is used (see code below)!"
   ]
  },
  {
   "cell_type": "code",
   "execution_count": 67,
   "id": "10c8664e",
   "metadata": {
    "execution": {
     "iopub.execute_input": "2023-08-13T10:44:58.438272Z",
     "iopub.status.busy": "2023-08-13T10:44:58.437874Z",
     "iopub.status.idle": "2023-08-13T10:45:11.739832Z",
     "shell.execute_reply": "2023-08-13T10:45:11.738454Z"
    },
    "papermill": {
     "duration": 13.411497,
     "end_time": "2023-08-13T10:45:11.742574",
     "exception": false,
     "start_time": "2023-08-13T10:44:58.331077",
     "status": "completed"
    },
    "tags": []
   },
   "outputs": [
    {
     "name": "stdout",
     "output_type": "stream",
     "text": [
      "(162758,)\n",
      "9476\n",
      "(162758, 9476) <class 'numpy.ndarray'>\n",
      "(162758,)\n",
      "(162758, 9476) <class 'numpy.ndarray'>\n",
      "True\n"
     ]
    }
   ],
   "source": [
    "# Compare OHE and TfidfVectorizer on director column\n",
    "\n",
    "dirs = merged[\"director\"].copy()\n",
    "print(dirs.shape)\n",
    "dirs_uniq = merged[\"director\"].unique()\n",
    "print(len(dirs_uniq))\n",
    "\n",
    "du_ohe = OneHotEncoder(handle_unknown=\"ignore\", sparse_output=False).fit_transform(dirs.to_numpy().reshape(-1, 1))\n",
    "print(du_ohe.shape, type(du_ohe))\n",
    "\n",
    "dirs_2 = merged[\"director\"].copy()\n",
    "print(dirs_2.shape)\n",
    "du_tfidf = TfidfVectorizer(ngram_range=(2,2)).fit_transform(dirs_2).toarray()\n",
    "print(du_tfidf.shape, type(du_tfidf))\n",
    "\n",
    "print(np.array_equal(du_ohe, du_tfidf))"
   ]
  },
  {
   "cell_type": "code",
   "execution_count": 68,
   "id": "ec67314f",
   "metadata": {
    "execution": {
     "iopub.execute_input": "2023-08-13T10:45:11.968366Z",
     "iopub.status.busy": "2023-08-13T10:45:11.967639Z",
     "iopub.status.idle": "2023-08-13T10:45:12.343877Z",
     "shell.execute_reply": "2023-08-13T10:45:12.342444Z"
    },
    "papermill": {
     "duration": 0.491437,
     "end_time": "2023-08-13T10:45:12.346455",
     "exception": false,
     "start_time": "2023-08-13T10:45:11.855018",
     "status": "completed"
    },
    "tags": []
   },
   "outputs": [
    {
     "name": "stdout",
     "output_type": "stream",
     "text": [
      "0       Bennie Basso\n",
      "1         Alma White\n",
      "2       Bobby Oleary\n",
      "3    Eric Hutcherson\n",
      "4         John Trent\n",
      "Name: director, dtype: object\n"
     ]
    },
    {
     "data": {
      "text/plain": [
       "2    162758\n",
       "Name: director, dtype: int64"
      ]
     },
     "execution_count": 68,
     "metadata": {},
     "output_type": "execute_result"
    }
   ],
   "source": [
    "print(dirs.head())\n",
    "d = dirs.copy()\n",
    "d[\"name_len\"] = d.apply(lambda x: len(x.split()))\n",
    "d[\"name_len\"].value_counts()"
   ]
  },
  {
   "cell_type": "code",
   "execution_count": 69,
   "id": "db9af0d7",
   "metadata": {
    "execution": {
     "iopub.execute_input": "2023-08-13T10:45:12.560782Z",
     "iopub.status.busy": "2023-08-13T10:45:12.560406Z",
     "iopub.status.idle": "2023-08-13T10:45:12.566307Z",
     "shell.execute_reply": "2023-08-13T10:45:12.565115Z"
    },
    "papermill": {
     "duration": 0.115683,
     "end_time": "2023-08-13T10:45:12.568546",
     "exception": false,
     "start_time": "2023-08-13T10:45:12.452863",
     "status": "completed"
    },
    "tags": []
   },
   "outputs": [],
   "source": [
    "# Compare OHE and TfidfVectorizer on reviewerName column\n",
    "# Note: reviewerName column has salutations like \"Mr. \" etc, and some names appear middle names. Therefore needs cleaning\n",
    "\n",
    "# def name_fl(name):\n",
    "#     l = name.split()\n",
    "#     n = ' '.join((l[0], l[-1]))\n",
    "#     return n\n",
    "\n",
    "# reviewers = merged[\"reviewerName\"].copy()\n",
    "# reviewers = pd.DataFrame(reviewers)\n",
    "# reviewers = reviewers.replace({\"Mr. \": \"\", \"Mrs. \": \"\"}, regex=True)\n",
    "# reviewers[\"reviewerName\"] = reviewers[\"reviewerName\"].apply(name_fl)\n",
    "# print(reviewers.shape)\n",
    "\n",
    "# reviewers_uniq = merged[\"reviewerName\"].unique()\n",
    "# print(len(reviewers_uniq))\n",
    "\n",
    "# reviewers_ohe = OneHotEncoder(handle_unknown=\"ignore\", sparse_output=False).fit_transform(reviewers.to_numpy().reshape(-1, 1))\n",
    "# print(reviewers_ohe.shape, type(reviewers_ohe))\n",
    "\n",
    "# reviewers_2 = merged[\"reviewerName\"].copy()\n",
    "# reviewers_2 = pd.DataFrame(reviewers_2)\n",
    "# print(reviewers_2.head())\n",
    "# reviewers_2 = reviewers_2.replace({\"Mr. \": \"\", \"Mrs. \": \"\"}, regex=True)\n",
    "# reviewers_2[\"reviewerName\"] = reviewers_2[\"reviewerName\"].apply(name_fl)\n",
    "# reviewers_2 = reviewers_2.squeeze()\n",
    "# print(reviewers_2.shape)\n",
    "# print(reviewers_2.head())\n",
    "\n",
    "# reviewers_tfidf = TfidfVectorizer(ngram_range=(2,2)).fit_transform(reviewers_2).toarray()\n",
    "# print(reviewers_tfidf.shape, type(reviewers_tfidf))\n",
    "\n",
    "# print(np.array_equal(reviewers_ohe, reviewers_tfidf))"
   ]
  },
  {
   "cell_type": "code",
   "execution_count": 70,
   "id": "4e256a7a",
   "metadata": {
    "execution": {
     "iopub.execute_input": "2023-08-13T10:45:12.782483Z",
     "iopub.status.busy": "2023-08-13T10:45:12.782035Z",
     "iopub.status.idle": "2023-08-13T10:45:12.787623Z",
     "shell.execute_reply": "2023-08-13T10:45:12.786255Z"
    },
    "papermill": {
     "duration": 0.115811,
     "end_time": "2023-08-13T10:45:12.790160",
     "exception": false,
     "start_time": "2023-08-13T10:45:12.674349",
     "status": "completed"
    },
    "tags": []
   },
   "outputs": [],
   "source": [
    "# def name_fl(name):\n",
    "#     l = name.split()\n",
    "#     n = ' '.join((l[0], l[-1]))\n",
    "#     return n"
   ]
  },
  {
   "cell_type": "code",
   "execution_count": 71,
   "id": "e345aced",
   "metadata": {
    "execution": {
     "iopub.execute_input": "2023-08-13T10:45:13.006890Z",
     "iopub.status.busy": "2023-08-13T10:45:13.006149Z",
     "iopub.status.idle": "2023-08-13T10:45:13.011046Z",
     "shell.execute_reply": "2023-08-13T10:45:13.010251Z"
    },
    "papermill": {
     "duration": 0.116816,
     "end_time": "2023-08-13T10:45:13.013363",
     "exception": false,
     "start_time": "2023-08-13T10:45:12.896547",
     "status": "completed"
    },
    "tags": []
   },
   "outputs": [],
   "source": [
    "# print(reviewers.head())\n",
    "# r = pd.DataFrame(reviewers.copy())\n",
    "# r[\"reviewerName\"] = r[\"reviewerName\"].apply(name_fl)\n",
    "# r[\"name_len\"] = r[\"reviewerName\"].apply(lambda x: len(x.split()))\n",
    "# print(r.shape)\n",
    "# print(r.head())\n",
    "# print(r['name_len'].value_counts())"
   ]
  },
  {
   "cell_type": "code",
   "execution_count": 72,
   "id": "f164b697",
   "metadata": {
    "execution": {
     "iopub.execute_input": "2023-08-13T10:45:13.227223Z",
     "iopub.status.busy": "2023-08-13T10:45:13.226503Z",
     "iopub.status.idle": "2023-08-13T10:45:13.231126Z",
     "shell.execute_reply": "2023-08-13T10:45:13.230302Z"
    },
    "papermill": {
     "duration": 0.114127,
     "end_time": "2023-08-13T10:45:13.233284",
     "exception": false,
     "start_time": "2023-08-13T10:45:13.119157",
     "status": "completed"
    },
    "tags": []
   },
   "outputs": [],
   "source": [
    "## Box plot audienceScore and sentiment  \n",
    "# plt.figure(figsize=(6, 4))\n",
    "# sns.boxplot(x=\"sentiment\", y=\"audienceScore\", data=merged, width=0.3)\n",
    "# plt.title(\"Box plot audienceScore and sentiment\")\n",
    "# plt.show()"
   ]
  },
  {
   "cell_type": "code",
   "execution_count": 73,
   "id": "18bc8bfe",
   "metadata": {
    "execution": {
     "iopub.execute_input": "2023-08-13T10:45:13.447663Z",
     "iopub.status.busy": "2023-08-13T10:45:13.447000Z",
     "iopub.status.idle": "2023-08-13T10:45:13.451517Z",
     "shell.execute_reply": "2023-08-13T10:45:13.450757Z"
    },
    "papermill": {
     "duration": 0.114045,
     "end_time": "2023-08-13T10:45:13.453639",
     "exception": false,
     "start_time": "2023-08-13T10:45:13.339594",
     "status": "completed"
    },
    "tags": []
   },
   "outputs": [],
   "source": [
    "## Box plot runtimeMinutes and sentiment  \n",
    "# plt.figure(figsize=(6, 4))\n",
    "# sns.boxplot(x=\"sentiment\", y=\"runtimeMinutes\", data=merged, width=0.3)\n",
    "# plt.title(\"Box plot runtimeMinutes and sentiment\")\n",
    "# plt.show()"
   ]
  },
  {
   "cell_type": "code",
   "execution_count": 74,
   "id": "e893cb8a",
   "metadata": {
    "execution": {
     "iopub.execute_input": "2023-08-13T10:45:13.667456Z",
     "iopub.status.busy": "2023-08-13T10:45:13.666815Z",
     "iopub.status.idle": "2023-08-13T10:45:13.671196Z",
     "shell.execute_reply": "2023-08-13T10:45:13.670452Z"
    },
    "papermill": {
     "duration": 0.114189,
     "end_time": "2023-08-13T10:45:13.673275",
     "exception": false,
     "start_time": "2023-08-13T10:45:13.559086",
     "status": "completed"
    },
    "tags": []
   },
   "outputs": [],
   "source": [
    "## Column chart for sentiment and rating columns\n",
    "# plt.figure(figsize=(6, 4))\n",
    "# sns.countplot(x=\"sentiment\", hue=\"rating\", data=merged)\n",
    "# plt.title(\"Column chart for sentiment and rating columns\")\n",
    "# plt.show()"
   ]
  },
  {
   "cell_type": "code",
   "execution_count": 75,
   "id": "57f8a0f7",
   "metadata": {
    "execution": {
     "iopub.execute_input": "2023-08-13T10:45:13.889779Z",
     "iopub.status.busy": "2023-08-13T10:45:13.889413Z",
     "iopub.status.idle": "2023-08-13T10:45:13.893737Z",
     "shell.execute_reply": "2023-08-13T10:45:13.892652Z"
    },
    "papermill": {
     "duration": 0.115634,
     "end_time": "2023-08-13T10:45:13.896036",
     "exception": false,
     "start_time": "2023-08-13T10:45:13.780402",
     "status": "completed"
    },
    "tags": []
   },
   "outputs": [],
   "source": [
    "# Correlation heatmap  \n",
    "# plt.figure(figsize=(10, 8))\n",
    "# sns.heatmap(merged.corr(), annot=True, cmap=\"coolwarm\")\n",
    "# plt.title(\"Correlation heatmap\")\n",
    "# plt.show()"
   ]
  },
  {
   "cell_type": "markdown",
   "id": "692e72d2",
   "metadata": {
    "papermill": {
     "duration": 0.106095,
     "end_time": "2023-08-13T10:45:14.109144",
     "exception": false,
     "start_time": "2023-08-13T10:45:14.003049",
     "status": "completed"
    },
    "tags": []
   },
   "source": [
    "## Merge and preprocess \"test.csv\" and \"movies.csv\" files  "
   ]
  },
  {
   "cell_type": "code",
   "execution_count": 76,
   "id": "84df090a",
   "metadata": {
    "execution": {
     "iopub.execute_input": "2023-08-13T10:45:14.324409Z",
     "iopub.status.busy": "2023-08-13T10:45:14.324049Z",
     "iopub.status.idle": "2023-08-13T10:45:20.295399Z",
     "shell.execute_reply": "2023-08-13T10:45:20.294113Z"
    },
    "papermill": {
     "duration": 6.082901,
     "end_time": "2023-08-13T10:45:20.298153",
     "exception": false,
     "start_time": "2023-08-13T10:45:14.215252",
     "status": "completed"
    },
    "tags": []
   },
   "outputs": [],
   "source": [
    "# Merge test and movies  \n",
    "merged_test = select_features(load_csv(\"test\"), load_csv(\"movies\"))"
   ]
  },
  {
   "cell_type": "code",
   "execution_count": 77,
   "id": "d964d94f",
   "metadata": {
    "execution": {
     "iopub.execute_input": "2023-08-13T10:45:20.511985Z",
     "iopub.status.busy": "2023-08-13T10:45:20.511572Z",
     "iopub.status.idle": "2023-08-13T10:45:20.516351Z",
     "shell.execute_reply": "2023-08-13T10:45:20.515271Z"
    },
    "papermill": {
     "duration": 0.114059,
     "end_time": "2023-08-13T10:45:20.518464",
     "exception": false,
     "start_time": "2023-08-13T10:45:20.404405",
     "status": "completed"
    },
    "tags": []
   },
   "outputs": [],
   "source": [
    "# inspect(merged_test)      # Note the missing values in ['audienceScore', 'runtimeMinutes', 'boxOffice']"
   ]
  },
  {
   "cell_type": "code",
   "execution_count": 78,
   "id": "296487eb",
   "metadata": {
    "execution": {
     "iopub.execute_input": "2023-08-13T10:45:20.733384Z",
     "iopub.status.busy": "2023-08-13T10:45:20.732549Z",
     "iopub.status.idle": "2023-08-13T10:45:20.753078Z",
     "shell.execute_reply": "2023-08-13T10:45:20.751848Z"
    },
    "papermill": {
     "duration": 0.130692,
     "end_time": "2023-08-13T10:45:20.755425",
     "exception": false,
     "start_time": "2023-08-13T10:45:20.624733",
     "status": "completed"
    },
    "tags": []
   },
   "outputs": [
    {
     "data": {
      "text/plain": [
       "array([6.80e+01, 1.04e+02, 1.43e+07])"
      ]
     },
     "execution_count": 78,
     "metadata": {},
     "output_type": "execute_result"
    }
   ],
   "source": [
    "# Transform ['audienceScore', 'runtimeMinutes', 'boxOffice'] columns in merged_test using 'si' fitted on 'merged' df  \n",
    "merged_test[['audienceScore', 'runtimeMinutes', 'boxOffice']] = si.transform(merged_test[['audienceScore', 'runtimeMinutes', 'boxOffice']])\n",
    "si.statistics_"
   ]
  },
  {
   "cell_type": "code",
   "execution_count": 79,
   "id": "fe93fc85",
   "metadata": {
    "execution": {
     "iopub.execute_input": "2023-08-13T10:45:20.971307Z",
     "iopub.status.busy": "2023-08-13T10:45:20.970543Z",
     "iopub.status.idle": "2023-08-13T10:45:20.982561Z",
     "shell.execute_reply": "2023-08-13T10:45:20.981244Z"
    },
    "papermill": {
     "duration": 0.123899,
     "end_time": "2023-08-13T10:45:20.985011",
     "exception": false,
     "start_time": "2023-08-13T10:45:20.861112",
     "status": "completed"
    },
    "tags": []
   },
   "outputs": [],
   "source": [
    "# Fill 'releaseDate' column in 'merged_test' df with median from the train (merged) df  \n",
    "merged_test['releaseDate'] = merged_test[\"releaseDate\"].fillna(merged[\"releaseDate\"].median())"
   ]
  },
  {
   "cell_type": "code",
   "execution_count": 80,
   "id": "e776d03e",
   "metadata": {
    "execution": {
     "iopub.execute_input": "2023-08-13T10:45:21.201361Z",
     "iopub.status.busy": "2023-08-13T10:45:21.200565Z",
     "iopub.status.idle": "2023-08-13T10:45:21.700198Z",
     "shell.execute_reply": "2023-08-13T10:45:21.699281Z"
    },
    "papermill": {
     "duration": 0.610675,
     "end_time": "2023-08-13T10:45:21.703385",
     "exception": false,
     "start_time": "2023-08-13T10:45:21.092710",
     "status": "completed"
    },
    "tags": []
   },
   "outputs": [
    {
     "name": "stdout",
     "output_type": "stream",
     "text": [
      "Shape of the dataframe: (55315, 25)\n",
      "\n",
      "Columns in the dataframe:\n",
      "Index(['movieid', 'reviewerName', 'isFrequentReviewer', 'reviewText', 'title',\n",
      "       'audienceScore', 'rating', 'ratingContents', 'releaseDateTheaters',\n",
      "       'releaseDateStreaming', 'runtimeMinutes', 'genre', 'originalLanguage',\n",
      "       'director', 'boxOffice', 'distributor', 'soundType', 'reviewYN',\n",
      "       'reviewWC', 'genreSorted', 'rcSorted', 'releaseDate', 'releaseYear',\n",
      "       'releaseMonth', 'releaseDiff'],\n",
      "      dtype='object')\n",
      "\n",
      "<class 'pandas.core.frame.DataFrame'>\n",
      "Int64Index: 55315 entries, 0 to 55314\n",
      "Data columns (total 25 columns):\n",
      " #   Column                Non-Null Count  Dtype         \n",
      "---  ------                --------------  -----         \n",
      " 0   movieid               55315 non-null  object        \n",
      " 1   reviewerName          55315 non-null  object        \n",
      " 2   isFrequentReviewer    55315 non-null  bool          \n",
      " 3   reviewText            55315 non-null  object        \n",
      " 4   title                 55315 non-null  object        \n",
      " 5   audienceScore         55315 non-null  float64       \n",
      " 6   rating                55315 non-null  object        \n",
      " 7   ratingContents        55315 non-null  object        \n",
      " 8   releaseDateTheaters   47844 non-null  datetime64[ns]\n",
      " 9   releaseDateStreaming  52929 non-null  datetime64[ns]\n",
      " 10  runtimeMinutes        55315 non-null  float64       \n",
      " 11  genre                 55315 non-null  object        \n",
      " 12  originalLanguage      55315 non-null  object        \n",
      " 13  director              55315 non-null  object        \n",
      " 14  boxOffice             55315 non-null  float64       \n",
      " 15  distributor           55315 non-null  object        \n",
      " 16  soundType             29845 non-null  object        \n",
      " 17  reviewYN              55315 non-null  int64         \n",
      " 18  reviewWC              55315 non-null  int64         \n",
      " 19  genreSorted           55315 non-null  object        \n",
      " 20  rcSorted              55315 non-null  object        \n",
      " 21  releaseDate           55315 non-null  datetime64[ns]\n",
      " 22  releaseYear           46626 non-null  float64       \n",
      " 23  releaseMonth          46626 non-null  float64       \n",
      " 24  releaseDiff           55315 non-null  float64       \n",
      "dtypes: bool(1), datetime64[ns](3), float64(6), int64(2), object(13)\n",
      "memory usage: 10.6+ MB\n",
      "None\n",
      "\n",
      "Missing values:\n",
      "movieid                     0\n",
      "reviewerName                0\n",
      "isFrequentReviewer          0\n",
      "reviewText                  0\n",
      "title                       0\n",
      "audienceScore               0\n",
      "rating                      0\n",
      "ratingContents              0\n",
      "releaseDateTheaters      7471\n",
      "releaseDateStreaming     2386\n",
      "runtimeMinutes              0\n",
      "genre                       0\n",
      "originalLanguage            0\n",
      "director                    0\n",
      "boxOffice                   0\n",
      "distributor                 0\n",
      "soundType               25470\n",
      "reviewYN                    0\n",
      "reviewWC                    0\n",
      "genreSorted                 0\n",
      "rcSorted                    0\n",
      "releaseDate                 0\n",
      "releaseYear              8689\n",
      "releaseMonth             8689\n",
      "releaseDiff                 0\n",
      "dtype: int64\n"
     ]
    }
   ],
   "source": [
    "# After transforming merged_test  \n",
    "inspect(merged_test)"
   ]
  },
  {
   "cell_type": "code",
   "execution_count": 81,
   "id": "3cd65165",
   "metadata": {
    "execution": {
     "iopub.execute_input": "2023-08-13T10:45:21.932699Z",
     "iopub.status.busy": "2023-08-13T10:45:21.932301Z",
     "iopub.status.idle": "2023-08-13T10:45:21.939626Z",
     "shell.execute_reply": "2023-08-13T10:45:21.938197Z"
    },
    "papermill": {
     "duration": 0.129258,
     "end_time": "2023-08-13T10:45:21.942614",
     "exception": false,
     "start_time": "2023-08-13T10:45:21.813356",
     "status": "completed"
    },
    "tags": []
   },
   "outputs": [
    {
     "name": "stdout",
     "output_type": "stream",
     "text": [
      "2510\n",
      "4.537648015908886\n"
     ]
    }
   ],
   "source": [
    "print(merged_test[\"reviewYN\"].sum())\n",
    "print(merged_test[\"reviewYN\"].sum() * 100 / merged_test.shape[0])"
   ]
  },
  {
   "cell_type": "code",
   "execution_count": 82,
   "id": "e3e0206d",
   "metadata": {
    "execution": {
     "iopub.execute_input": "2023-08-13T10:45:22.197352Z",
     "iopub.status.busy": "2023-08-13T10:45:22.196956Z",
     "iopub.status.idle": "2023-08-13T10:45:22.214367Z",
     "shell.execute_reply": "2023-08-13T10:45:22.213094Z"
    },
    "papermill": {
     "duration": 0.149534,
     "end_time": "2023-08-13T10:45:22.216876",
     "exception": false,
     "start_time": "2023-08-13T10:45:22.067342",
     "status": "completed"
    },
    "tags": []
   },
   "outputs": [
    {
     "data": {
      "text/plain": [
       "R          18934\n",
       "unknown    18386\n",
       "PG-13      13220\n",
       "PG          4200\n",
       "TV14         333\n",
       "TVPG         109\n",
       "NC-17        108\n",
       "TVMA          25\n",
       "Name: rating, dtype: int64"
      ]
     },
     "execution_count": 82,
     "metadata": {},
     "output_type": "execute_result"
    }
   ],
   "source": [
    "merged_test['rating'].value_counts()"
   ]
  },
  {
   "cell_type": "code",
   "execution_count": 83,
   "id": "f4b01a7e",
   "metadata": {
    "execution": {
     "iopub.execute_input": "2023-08-13T10:45:22.443098Z",
     "iopub.status.busy": "2023-08-13T10:45:22.442697Z",
     "iopub.status.idle": "2023-08-13T10:45:22.452359Z",
     "shell.execute_reply": "2023-08-13T10:45:22.451083Z"
    },
    "papermill": {
     "duration": 0.124171,
     "end_time": "2023-08-13T10:45:22.454719",
     "exception": false,
     "start_time": "2023-08-13T10:45:22.330548",
     "status": "completed"
    },
    "tags": []
   },
   "outputs": [
    {
     "data": {
      "text/plain": [
       "False    38428\n",
       "True     16887\n",
       "Name: isFrequentReviewer, dtype: int64"
      ]
     },
     "execution_count": 83,
     "metadata": {},
     "output_type": "execute_result"
    }
   ],
   "source": [
    "merged_test['isFrequentReviewer'].value_counts()"
   ]
  },
  {
   "cell_type": "code",
   "execution_count": 84,
   "id": "d54b653f",
   "metadata": {
    "execution": {
     "iopub.execute_input": "2023-08-13T10:45:22.677695Z",
     "iopub.status.busy": "2023-08-13T10:45:22.677263Z",
     "iopub.status.idle": "2023-08-13T10:45:22.691009Z",
     "shell.execute_reply": "2023-08-13T10:45:22.689660Z"
    },
    "papermill": {
     "duration": 0.128601,
     "end_time": "2023-08-13T10:45:22.693651",
     "exception": false,
     "start_time": "2023-08-13T10:45:22.565050",
     "status": "completed"
    },
    "tags": []
   },
   "outputs": [
    {
     "data": {
      "text/plain": [
       "14300000.0    13593\n",
       "1100000.0       311\n",
       "1000000.0       272\n",
       "1300000.0       263\n",
       "2000000.0       256\n",
       "              ...  \n",
       "200400.0          1\n",
       "23800000.0        1\n",
       "111200.0          1\n",
       "277800.0          1\n",
       "100600.0          1\n",
       "Name: boxOffice, Length: 3816, dtype: int64"
      ]
     },
     "execution_count": 84,
     "metadata": {},
     "output_type": "execute_result"
    }
   ],
   "source": [
    "merged_test['boxOffice'].value_counts()"
   ]
  },
  {
   "cell_type": "markdown",
   "id": "877e0387",
   "metadata": {
    "papermill": {
     "duration": 0.108969,
     "end_time": "2023-08-13T10:45:22.911159",
     "exception": false,
     "start_time": "2023-08-13T10:45:22.802190",
     "status": "completed"
    },
    "tags": []
   },
   "source": [
    "## Work on vocabulary  \n",
    "\n",
    "`Build vocabulary from 'reviewText' column`  "
   ]
  },
  {
   "cell_type": "code",
   "execution_count": 85,
   "id": "606b2b02",
   "metadata": {
    "execution": {
     "iopub.execute_input": "2023-08-13T10:45:23.131342Z",
     "iopub.status.busy": "2023-08-13T10:45:23.130902Z",
     "iopub.status.idle": "2023-08-13T10:45:23.152556Z",
     "shell.execute_reply": "2023-08-13T10:45:23.151758Z"
    },
    "papermill": {
     "duration": 0.135533,
     "end_time": "2023-08-13T10:45:23.155111",
     "exception": false,
     "start_time": "2023-08-13T10:45:23.019578",
     "status": "completed"
    },
    "tags": []
   },
   "outputs": [
    {
     "data": {
      "text/plain": [
       "((162758, 2),\n",
       "                                           reviewText sentiment\n",
       " 0  Henry Selick’s first movie since ’s Coraline. ...  POSITIVE\n",
       " 1  With a cast that reads like the Vogue Oscar pa...  NEGATIVE\n",
       " 2  Creed II does not give us anything but another...  POSITIVE\n",
       " 3  I know what you're thinking, but this is no Li...  POSITIVE\n",
       " 4  Director Fernando Meirelles tells the story wi...  POSITIVE)"
      ]
     },
     "execution_count": 85,
     "metadata": {},
     "output_type": "execute_result"
    }
   ],
   "source": [
    "rt_senti = merged[[\"reviewText\", \"sentiment\"]].copy()\n",
    "rt_senti.shape, rt_senti.head()"
   ]
  },
  {
   "cell_type": "code",
   "execution_count": 86,
   "id": "8b0d45b4",
   "metadata": {
    "execution": {
     "iopub.execute_input": "2023-08-13T10:45:23.375449Z",
     "iopub.status.busy": "2023-08-13T10:45:23.375017Z",
     "iopub.status.idle": "2023-08-13T10:45:23.389575Z",
     "shell.execute_reply": "2023-08-13T10:45:23.388550Z"
    },
    "papermill": {
     "duration": 0.127738,
     "end_time": "2023-08-13T10:45:23.391816",
     "exception": false,
     "start_time": "2023-08-13T10:45:23.264078",
     "status": "completed"
    },
    "tags": []
   },
   "outputs": [
    {
     "data": {
      "text/plain": [
       "((55315, 1),\n",
       "                                           reviewText\n",
       " 0  Green slowly cranks up the dread with style an...\n",
       " 1  Philip Noyce's direction is elegant and unforc...\n",
       " 2  It wouldn't do to say what path Maria ultimate...\n",
       " 3  Pig is not exactly the arthouse John Wick that...\n",
       " 4  An imaginative no-budget musical of sorts abou...)"
      ]
     },
     "execution_count": 86,
     "metadata": {},
     "output_type": "execute_result"
    }
   ],
   "source": [
    "rt_test = pd.DataFrame(merged_test[\"reviewText\"].copy())\n",
    "rt_test.shape, rt_test.head()"
   ]
  },
  {
   "cell_type": "code",
   "execution_count": 87,
   "id": "7cb1efde",
   "metadata": {
    "execution": {
     "iopub.execute_input": "2023-08-13T10:45:23.610376Z",
     "iopub.status.busy": "2023-08-13T10:45:23.609938Z",
     "iopub.status.idle": "2023-08-13T10:45:23.615760Z",
     "shell.execute_reply": "2023-08-13T10:45:23.614778Z"
    },
    "papermill": {
     "duration": 0.117758,
     "end_time": "2023-08-13T10:45:23.618084",
     "exception": false,
     "start_time": "2023-08-13T10:45:23.500326",
     "status": "completed"
    },
    "tags": []
   },
   "outputs": [],
   "source": [
    "def get_vocab(text_df, ngram_range=(1,1)):\n",
    "#     print(f\"Generating vocabulary for ngram_range: {ngram_range}...\")\n",
    "    tvec1 = CountVectorizer(ngram_range=ngram_range, stop_words='english', strip_accents='unicode')\n",
    "    tvec1.fit(text_df)\n",
    "    voc_ngram = set(tvec1.vocabulary_.keys())\n",
    "    return voc_ngram"
   ]
  },
  {
   "cell_type": "code",
   "execution_count": 88,
   "id": "5b8e2985",
   "metadata": {
    "execution": {
     "iopub.execute_input": "2023-08-13T10:45:23.836132Z",
     "iopub.status.busy": "2023-08-13T10:45:23.835691Z",
     "iopub.status.idle": "2023-08-13T10:45:23.845569Z",
     "shell.execute_reply": "2023-08-13T10:45:23.844721Z"
    },
    "papermill": {
     "duration": 0.121823,
     "end_time": "2023-08-13T10:45:23.847720",
     "exception": false,
     "start_time": "2023-08-13T10:45:23.725897",
     "status": "completed"
    },
    "tags": []
   },
   "outputs": [],
   "source": [
    "def get_common_vocab(df_list: list, ngram_range_list: list):\n",
    "    \"\"\"\n",
    "    Get common vocabulary from a list of dataframes.\n",
    "    \"\"\"\n",
    "    final_common_vocab = set()\n",
    "    # Get vocabulary from each dataframe for a given ngram-range\n",
    "    for ngram_range in ngram_range_list:\n",
    "        vocab_ngram = set()\n",
    "        for num, df in enumerate(df_list, start=1):\n",
    "#             print(f\"Working on DF#{num} in the list of DFs provided\")\n",
    "            vocab_ngram_df = set(get_vocab(df['reviewText'], ngram_range))\n",
    "#             print(f\"Vocabulary size for ngram-range {ngram_range} in DF#{num}: {len(vocab_ngram_df)}\\n\")\n",
    "            if len(vocab_ngram) > 0:\n",
    "#                 print(f\"Keeping only the common (intersection) words for ngram-range {ngram_range}...\")\n",
    "                vocab_ngram = vocab_ngram.intersection(vocab_ngram_df)\n",
    "            else:\n",
    "#                 print(f\"Words from the first df for ngram-range {ngram_range} added.\\n\")\n",
    "                vocab_ngram = vocab_ngram_df\n",
    "        print(f\"Common vocabulary for ngram-range {ngram_range}: {len(vocab_ngram)}\\n\")\n",
    "        \n",
    "        if len(final_common_vocab) > 0:\n",
    "#             print(f\"Fusing (union) with final common vocabulary: ngram-range = {ngram_range}.\\n\")\n",
    "            final_common_vocab = final_common_vocab.union(vocab_ngram)\n",
    "        else:\n",
    "#             print(f\"Appended first time to final common vocabulary: ngram-range = {ngram_range}.\\n\")\n",
    "            final_common_vocab = vocab_ngram\n",
    "    print(f\"Size of the common vocabulary generated is: {len(final_common_vocab)}\")\n",
    "    return final_common_vocab"
   ]
  },
  {
   "cell_type": "code",
   "execution_count": 89,
   "id": "0aa6f1df",
   "metadata": {
    "execution": {
     "iopub.execute_input": "2023-08-13T10:45:24.069723Z",
     "iopub.status.busy": "2023-08-13T10:45:24.068562Z",
     "iopub.status.idle": "2023-08-13T10:45:24.073785Z",
     "shell.execute_reply": "2023-08-13T10:45:24.072861Z"
    },
    "papermill": {
     "duration": 0.120198,
     "end_time": "2023-08-13T10:45:24.076168",
     "exception": false,
     "start_time": "2023-08-13T10:45:23.955970",
     "status": "completed"
    },
    "tags": []
   },
   "outputs": [],
   "source": [
    "# voc_1gram = get_vocab(rt_senti[\"reviewText\"], ngram_range=(1,1))\n",
    "# len(voc_1gram), voc_1gram[:10]"
   ]
  },
  {
   "cell_type": "code",
   "execution_count": 90,
   "id": "7ddaa6e3",
   "metadata": {
    "execution": {
     "iopub.execute_input": "2023-08-13T10:45:24.293741Z",
     "iopub.status.busy": "2023-08-13T10:45:24.293168Z",
     "iopub.status.idle": "2023-08-13T10:45:24.297384Z",
     "shell.execute_reply": "2023-08-13T10:45:24.296551Z"
    },
    "papermill": {
     "duration": 0.115773,
     "end_time": "2023-08-13T10:45:24.299651",
     "exception": false,
     "start_time": "2023-08-13T10:45:24.183878",
     "status": "completed"
    },
    "tags": []
   },
   "outputs": [],
   "source": [
    "# voc_2gram = get_vocab(rt_senti[\"reviewText\"], ngram_range=(2,2))\n",
    "# len(voc_2gram), voc_2gram[:10]"
   ]
  },
  {
   "cell_type": "code",
   "execution_count": 91,
   "id": "1b072716",
   "metadata": {
    "execution": {
     "iopub.execute_input": "2023-08-13T10:45:24.518166Z",
     "iopub.status.busy": "2023-08-13T10:45:24.517773Z",
     "iopub.status.idle": "2023-08-13T10:45:24.521758Z",
     "shell.execute_reply": "2023-08-13T10:45:24.521010Z"
    },
    "papermill": {
     "duration": 0.115305,
     "end_time": "2023-08-13T10:45:24.524172",
     "exception": false,
     "start_time": "2023-08-13T10:45:24.408867",
     "status": "completed"
    },
    "tags": []
   },
   "outputs": [],
   "source": [
    "# voc_3gram = get_vocab(rt_senti[\"reviewText\"], ngram_range=(3,3))\n",
    "# len(voc_3gram), voc_3gram[:10]"
   ]
  },
  {
   "cell_type": "code",
   "execution_count": 92,
   "id": "c0b7ca00",
   "metadata": {
    "execution": {
     "iopub.execute_input": "2023-08-13T10:45:24.742006Z",
     "iopub.status.busy": "2023-08-13T10:45:24.741549Z",
     "iopub.status.idle": "2023-08-13T10:45:24.745773Z",
     "shell.execute_reply": "2023-08-13T10:45:24.744962Z"
    },
    "papermill": {
     "duration": 0.115718,
     "end_time": "2023-08-13T10:45:24.748060",
     "exception": false,
     "start_time": "2023-08-13T10:45:24.632342",
     "status": "completed"
    },
    "tags": []
   },
   "outputs": [],
   "source": [
    "# common_unigrams = get_common_vocab([rt_senti, rt_test], ngram_range_list=[(1,1)])\n",
    "# print(len(common_unigrams))\n",
    "# # sorted(list(common_unigrams))"
   ]
  },
  {
   "cell_type": "code",
   "execution_count": 93,
   "id": "a1dc8f82",
   "metadata": {
    "execution": {
     "iopub.execute_input": "2023-08-13T10:45:25.029770Z",
     "iopub.status.busy": "2023-08-13T10:45:25.029227Z",
     "iopub.status.idle": "2023-08-13T10:45:25.034485Z",
     "shell.execute_reply": "2023-08-13T10:45:25.033079Z"
    },
    "papermill": {
     "duration": 0.18099,
     "end_time": "2023-08-13T10:45:25.036846",
     "exception": false,
     "start_time": "2023-08-13T10:45:24.855856",
     "status": "completed"
    },
    "tags": []
   },
   "outputs": [],
   "source": [
    "# common_bigrams = get_common_vocab([rt_senti, rt_test], ngram_range_list=[(2,2)])\n",
    "# print(len(common_bigrams))\n",
    "# # # common_bigrams"
   ]
  },
  {
   "cell_type": "code",
   "execution_count": 94,
   "id": "0d364e02",
   "metadata": {
    "execution": {
     "iopub.execute_input": "2023-08-13T10:45:25.256346Z",
     "iopub.status.busy": "2023-08-13T10:45:25.255116Z",
     "iopub.status.idle": "2023-08-13T10:45:25.260621Z",
     "shell.execute_reply": "2023-08-13T10:45:25.259477Z"
    },
    "papermill": {
     "duration": 0.116845,
     "end_time": "2023-08-13T10:45:25.263022",
     "exception": false,
     "start_time": "2023-08-13T10:45:25.146177",
     "status": "completed"
    },
    "tags": []
   },
   "outputs": [],
   "source": [
    "# common_1_2_grams = get_common_vocab([rt_senti, rt_test], ngram_range_list=[(1,1), (2,2)])\n",
    "# print(len(common_1_2_grams))\n",
    "# # sorted(list(common_1_2_grams))\n",
    "\n",
    "# # common_1_2_grams = common_unigrams | common_bigrams    # older code"
   ]
  },
  {
   "cell_type": "code",
   "execution_count": 95,
   "id": "f7ea7aad",
   "metadata": {
    "execution": {
     "iopub.execute_input": "2023-08-13T10:45:25.484742Z",
     "iopub.status.busy": "2023-08-13T10:45:25.484328Z",
     "iopub.status.idle": "2023-08-13T10:45:25.489295Z",
     "shell.execute_reply": "2023-08-13T10:45:25.488266Z"
    },
    "papermill": {
     "duration": 0.11873,
     "end_time": "2023-08-13T10:45:25.491738",
     "exception": false,
     "start_time": "2023-08-13T10:45:25.373008",
     "status": "completed"
    },
    "tags": []
   },
   "outputs": [],
   "source": [
    "# common_trigrams = get_common_vocab([rt_senti, rt_test], ngram_range_list=[(3,3)])\n",
    "# print(len(common_trigrams))\n",
    "# # common_trigrams"
   ]
  },
  {
   "cell_type": "code",
   "execution_count": 96,
   "id": "24c4dcf7",
   "metadata": {
    "execution": {
     "iopub.execute_input": "2023-08-13T10:45:25.713992Z",
     "iopub.status.busy": "2023-08-13T10:45:25.712553Z",
     "iopub.status.idle": "2023-08-13T10:45:25.717976Z",
     "shell.execute_reply": "2023-08-13T10:45:25.717108Z"
    },
    "papermill": {
     "duration": 0.117874,
     "end_time": "2023-08-13T10:45:25.720133",
     "exception": false,
     "start_time": "2023-08-13T10:45:25.602259",
     "status": "completed"
    },
    "tags": []
   },
   "outputs": [],
   "source": [
    "# common_1_2_3_grams = get_common_vocab([rt_senti, rt_test], ngram_range_list=[(1,1), (2,2), (3,3)])\n",
    "# print(len(common_1_2_3_grams))\n",
    "# # sorted((common_1_2_3_grams))\n",
    "\n",
    "# # common_1_2_3_grams = common_unigrams | common_bigrams | common_trigrams    # Older code  "
   ]
  },
  {
   "cell_type": "markdown",
   "id": "1ccb1aca",
   "metadata": {
    "papermill": {
     "duration": 0.108127,
     "end_time": "2023-08-13T10:45:25.937195",
     "exception": false,
     "start_time": "2023-08-13T10:45:25.829068",
     "status": "completed"
    },
    "tags": []
   },
   "source": [
    "### Find common vocabulary between text with positive and negative sentiments in training dataset  "
   ]
  },
  {
   "cell_type": "code",
   "execution_count": 97,
   "id": "a49c1302",
   "metadata": {
    "execution": {
     "iopub.execute_input": "2023-08-13T10:45:26.157134Z",
     "iopub.status.busy": "2023-08-13T10:45:26.156351Z",
     "iopub.status.idle": "2023-08-13T10:45:26.207644Z",
     "shell.execute_reply": "2023-08-13T10:45:26.206292Z"
    },
    "papermill": {
     "duration": 0.164707,
     "end_time": "2023-08-13T10:45:26.210658",
     "exception": false,
     "start_time": "2023-08-13T10:45:26.045951",
     "status": "completed"
    },
    "tags": []
   },
   "outputs": [
    {
     "data": {
      "text/plain": [
       "(108761, 2)"
      ]
     },
     "execution_count": 97,
     "metadata": {},
     "output_type": "execute_result"
    }
   ],
   "source": [
    "# Dataframe for positive sentiment\n",
    "rt_senti_pos = rt_senti.loc[rt_senti['sentiment'] == 'POSITIVE'].copy()\n",
    "rt_senti_pos.shape"
   ]
  },
  {
   "cell_type": "code",
   "execution_count": 98,
   "id": "a0dccfc9",
   "metadata": {
    "execution": {
     "iopub.execute_input": "2023-08-13T10:45:26.439317Z",
     "iopub.status.busy": "2023-08-13T10:45:26.438879Z",
     "iopub.status.idle": "2023-08-13T10:45:26.485180Z",
     "shell.execute_reply": "2023-08-13T10:45:26.484008Z"
    },
    "papermill": {
     "duration": 0.165384,
     "end_time": "2023-08-13T10:45:26.487787",
     "exception": false,
     "start_time": "2023-08-13T10:45:26.322403",
     "status": "completed"
    },
    "tags": []
   },
   "outputs": [
    {
     "data": {
      "text/plain": [
       "(53997, 2)"
      ]
     },
     "execution_count": 98,
     "metadata": {},
     "output_type": "execute_result"
    }
   ],
   "source": [
    "# Dataframe for negative sentiment\n",
    "rt_senti_neg = rt_senti.loc[rt_senti['sentiment'] == 'NEGATIVE'].copy()\n",
    "rt_senti_neg.shape"
   ]
  },
  {
   "cell_type": "code",
   "execution_count": 99,
   "id": "0cc197d7",
   "metadata": {
    "execution": {
     "iopub.execute_input": "2023-08-13T10:45:26.713900Z",
     "iopub.status.busy": "2023-08-13T10:45:26.713513Z",
     "iopub.status.idle": "2023-08-13T10:45:26.718290Z",
     "shell.execute_reply": "2023-08-13T10:45:26.717348Z"
    },
    "papermill": {
     "duration": 0.119775,
     "end_time": "2023-08-13T10:45:26.720479",
     "exception": false,
     "start_time": "2023-08-13T10:45:26.600704",
     "status": "completed"
    },
    "tags": []
   },
   "outputs": [],
   "source": [
    "# Generate stop words/phrases specific for this project data  \n",
    "\n",
    "# common_1_2_3_grams_sentiment = get_common_vocab([rt_senti_pos, rt_senti_neg], ngram_range_list=[(1,1), (2,2), (3,3)])\n",
    "# print(len(common_1_2_3_grams_sentiment))\n",
    "# # sorted(list(common_1_2_3_grams_sentiment))"
   ]
  },
  {
   "cell_type": "code",
   "execution_count": 100,
   "id": "e9ef6643",
   "metadata": {
    "execution": {
     "iopub.execute_input": "2023-08-13T10:45:26.942109Z",
     "iopub.status.busy": "2023-08-13T10:45:26.941614Z",
     "iopub.status.idle": "2023-08-13T10:45:26.946788Z",
     "shell.execute_reply": "2023-08-13T10:45:26.945528Z"
    },
    "papermill": {
     "duration": 0.118283,
     "end_time": "2023-08-13T10:45:26.949053",
     "exception": false,
     "start_time": "2023-08-13T10:45:26.830770",
     "status": "completed"
    },
    "tags": []
   },
   "outputs": [],
   "source": [
    "# Generate and store the entire vocabulary of training data  \n",
    "\n",
    "# train_1_2_3_grams = get_vocab(rt_senti['reviewText'], ngram_range=(1,3))\n",
    "# print(len(train_1_2_3_grams))\n",
    "# # sorted(train_1_2_3_grams)"
   ]
  },
  {
   "cell_type": "code",
   "execution_count": 101,
   "id": "e7cd9d10",
   "metadata": {
    "execution": {
     "iopub.execute_input": "2023-08-13T10:45:27.172157Z",
     "iopub.status.busy": "2023-08-13T10:45:27.171341Z",
     "iopub.status.idle": "2023-08-13T10:45:27.175991Z",
     "shell.execute_reply": "2023-08-13T10:45:27.175014Z"
    },
    "papermill": {
     "duration": 0.118706,
     "end_time": "2023-08-13T10:45:27.178216",
     "exception": false,
     "start_time": "2023-08-13T10:45:27.059510",
     "status": "completed"
    },
    "tags": []
   },
   "outputs": [],
   "source": [
    "# type(train_1_2_3_grams)"
   ]
  },
  {
   "cell_type": "code",
   "execution_count": 102,
   "id": "83febf1e",
   "metadata": {
    "execution": {
     "iopub.execute_input": "2023-08-13T10:45:27.400720Z",
     "iopub.status.busy": "2023-08-13T10:45:27.399917Z",
     "iopub.status.idle": "2023-08-13T10:45:27.407279Z",
     "shell.execute_reply": "2023-08-13T10:45:27.405431Z"
    },
    "papermill": {
     "duration": 0.123447,
     "end_time": "2023-08-13T10:45:27.411410",
     "exception": false,
     "start_time": "2023-08-13T10:45:27.287963",
     "status": "completed"
    },
    "tags": []
   },
   "outputs": [],
   "source": [
    "# Get the vocabulary that should be used in the final models  \n",
    "# relevant_vocab = train_1_2_3_grams - common_1_2_3_grams_sentiment\n",
    "# print(len(relevant_vocab))"
   ]
  },
  {
   "cell_type": "markdown",
   "id": "d13e8abb",
   "metadata": {
    "papermill": {
     "duration": 0.118971,
     "end_time": "2023-08-13T10:45:27.658875",
     "exception": false,
     "start_time": "2023-08-13T10:45:27.539904",
     "status": "completed"
    },
    "tags": []
   },
   "source": [
    "## Vocabulary based on audienceScore  "
   ]
  },
  {
   "cell_type": "code",
   "execution_count": 103,
   "id": "60ebe157",
   "metadata": {
    "execution": {
     "iopub.execute_input": "2023-08-13T10:45:27.894873Z",
     "iopub.status.busy": "2023-08-13T10:45:27.893970Z",
     "iopub.status.idle": "2023-08-13T10:45:28.289161Z",
     "shell.execute_reply": "2023-08-13T10:45:28.287844Z"
    },
    "papermill": {
     "duration": 0.517581,
     "end_time": "2023-08-13T10:45:28.292269",
     "exception": false,
     "start_time": "2023-08-13T10:45:27.774688",
     "status": "completed"
    },
    "tags": []
   },
   "outputs": [
    {
     "data": {
      "text/plain": [
       "<Axes: xlabel='sentiment', ylabel='audienceScore'>"
      ]
     },
     "execution_count": 103,
     "metadata": {},
     "output_type": "execute_result"
    },
    {
     "data": {
      "image/png": "[encoded data removed]",
      "text/plain": [
       "<Figure size 640x480 with 1 Axes>"
      ]
     },
     "metadata": {},
     "output_type": "display_data"
    }
   ],
   "source": [
    "sns.boxplot(y=merged[\"audienceScore\"], x=merged[\"sentiment\"])"
   ]
  },
  {
   "cell_type": "code",
   "execution_count": 104,
   "id": "8d0086b6",
   "metadata": {
    "execution": {
     "iopub.execute_input": "2023-08-13T10:45:28.524137Z",
     "iopub.status.busy": "2023-08-13T10:45:28.523568Z",
     "iopub.status.idle": "2023-08-13T10:45:28.573930Z",
     "shell.execute_reply": "2023-08-13T10:45:28.572780Z"
    },
    "papermill": {
     "duration": 0.166583,
     "end_time": "2023-08-13T10:45:28.576334",
     "exception": false,
     "start_time": "2023-08-13T10:45:28.409751",
     "status": "completed"
    },
    "tags": []
   },
   "outputs": [
    {
     "data": {
      "text/html": [
       "<div>\n",
       "<style scoped>\n",
       "    .dataframe tbody tr th:only-of-type {\n",
       "        vertical-align: middle;\n",
       "    }\n",
       "\n",
       "    .dataframe tbody tr th {\n",
       "        vertical-align: top;\n",
       "    }\n",
       "\n",
       "    .dataframe thead th {\n",
       "        text-align: right;\n",
       "    }\n",
       "</style>\n",
       "<table border=\"1\" class=\"dataframe\">\n",
       "  <thead>\n",
       "    <tr style=\"text-align: right;\">\n",
       "      <th></th>\n",
       "      <th>count</th>\n",
       "      <th>mean</th>\n",
       "      <th>std</th>\n",
       "      <th>min</th>\n",
       "      <th>25%</th>\n",
       "      <th>50%</th>\n",
       "      <th>75%</th>\n",
       "      <th>max</th>\n",
       "    </tr>\n",
       "    <tr>\n",
       "      <th>sentiment</th>\n",
       "      <th></th>\n",
       "      <th></th>\n",
       "      <th></th>\n",
       "      <th></th>\n",
       "      <th></th>\n",
       "      <th></th>\n",
       "      <th></th>\n",
       "      <th></th>\n",
       "    </tr>\n",
       "  </thead>\n",
       "  <tbody>\n",
       "    <tr>\n",
       "      <th>NEGATIVE</th>\n",
       "      <td>53997.0</td>\n",
       "      <td>56.474786</td>\n",
       "      <td>19.902115</td>\n",
       "      <td>0.0</td>\n",
       "      <td>41.0</td>\n",
       "      <td>57.0</td>\n",
       "      <td>72.0</td>\n",
       "      <td>100.0</td>\n",
       "    </tr>\n",
       "    <tr>\n",
       "      <th>POSITIVE</th>\n",
       "      <td>108761.0</td>\n",
       "      <td>69.326174</td>\n",
       "      <td>18.380626</td>\n",
       "      <td>0.0</td>\n",
       "      <td>58.0</td>\n",
       "      <td>73.0</td>\n",
       "      <td>84.0</td>\n",
       "      <td>100.0</td>\n",
       "    </tr>\n",
       "  </tbody>\n",
       "</table>\n",
       "</div>"
      ],
      "text/plain": [
       "              count       mean        std  min   25%   50%   75%    max\n",
       "sentiment                                                              \n",
       "NEGATIVE    53997.0  56.474786  19.902115  0.0  41.0  57.0  72.0  100.0\n",
       "POSITIVE   108761.0  69.326174  18.380626  0.0  58.0  73.0  84.0  100.0"
      ]
     },
     "execution_count": 104,
     "metadata": {},
     "output_type": "execute_result"
    }
   ],
   "source": [
    "merged.groupby('sentiment')['audienceScore'].describe()"
   ]
  },
  {
   "cell_type": "code",
   "execution_count": 105,
   "id": "489cdda2",
   "metadata": {
    "execution": {
     "iopub.execute_input": "2023-08-13T10:45:28.797182Z",
     "iopub.status.busy": "2023-08-13T10:45:28.796754Z",
     "iopub.status.idle": "2023-08-13T10:45:28.801496Z",
     "shell.execute_reply": "2023-08-13T10:45:28.800392Z"
    },
    "papermill": {
     "duration": 0.118266,
     "end_time": "2023-08-13T10:45:28.803713",
     "exception": false,
     "start_time": "2023-08-13T10:45:28.685447",
     "status": "completed"
    },
    "tags": []
   },
   "outputs": [],
   "source": [
    "# pos_scores = merged[['reviewText', 'sentiment']].loc[(merged['audienceScore'] > 73) & (merged['sentiment'] == 'POSITIVE')].copy()\n",
    "# pos_scores.shape, pos_scores.head()"
   ]
  },
  {
   "cell_type": "code",
   "execution_count": 106,
   "id": "ed687da6",
   "metadata": {
    "execution": {
     "iopub.execute_input": "2023-08-13T10:45:29.024378Z",
     "iopub.status.busy": "2023-08-13T10:45:29.023995Z",
     "iopub.status.idle": "2023-08-13T10:45:29.028619Z",
     "shell.execute_reply": "2023-08-13T10:45:29.027551Z"
    },
    "papermill": {
     "duration": 0.118388,
     "end_time": "2023-08-13T10:45:29.031042",
     "exception": false,
     "start_time": "2023-08-13T10:45:28.912654",
     "status": "completed"
    },
    "tags": []
   },
   "outputs": [],
   "source": [
    "# pos_scores['sentiment'].value_counts()"
   ]
  },
  {
   "cell_type": "code",
   "execution_count": 107,
   "id": "cd601eb4",
   "metadata": {
    "execution": {
     "iopub.execute_input": "2023-08-13T10:45:29.256010Z",
     "iopub.status.busy": "2023-08-13T10:45:29.255290Z",
     "iopub.status.idle": "2023-08-13T10:45:29.259496Z",
     "shell.execute_reply": "2023-08-13T10:45:29.258480Z"
    },
    "papermill": {
     "duration": 0.11701,
     "end_time": "2023-08-13T10:45:29.261741",
     "exception": false,
     "start_time": "2023-08-13T10:45:29.144731",
     "status": "completed"
    },
    "tags": []
   },
   "outputs": [],
   "source": [
    "# neg_scores = merged[['reviewText', 'sentiment']].loc[(merged['audienceScore'] < 57) & (merged['sentiment'] == 'NEGATIVE')].copy()\n",
    "# neg_scores.shape, neg_scores.head()"
   ]
  },
  {
   "cell_type": "code",
   "execution_count": 108,
   "id": "5a05d6ca",
   "metadata": {
    "execution": {
     "iopub.execute_input": "2023-08-13T10:45:29.484168Z",
     "iopub.status.busy": "2023-08-13T10:45:29.483547Z",
     "iopub.status.idle": "2023-08-13T10:45:29.488071Z",
     "shell.execute_reply": "2023-08-13T10:45:29.487102Z"
    },
    "papermill": {
     "duration": 0.118986,
     "end_time": "2023-08-13T10:45:29.490438",
     "exception": false,
     "start_time": "2023-08-13T10:45:29.371452",
     "status": "completed"
    },
    "tags": []
   },
   "outputs": [],
   "source": [
    "# neg_scores['sentiment'].value_counts()"
   ]
  },
  {
   "cell_type": "code",
   "execution_count": 109,
   "id": "d4c3af08",
   "metadata": {
    "execution": {
     "iopub.execute_input": "2023-08-13T10:45:29.714309Z",
     "iopub.status.busy": "2023-08-13T10:45:29.713304Z",
     "iopub.status.idle": "2023-08-13T10:45:29.718079Z",
     "shell.execute_reply": "2023-08-13T10:45:29.717060Z"
    },
    "papermill": {
     "duration": 0.118368,
     "end_time": "2023-08-13T10:45:29.720567",
     "exception": false,
     "start_time": "2023-08-13T10:45:29.602199",
     "status": "completed"
    },
    "tags": []
   },
   "outputs": [],
   "source": [
    "# common_pos_neg_scores = get_common_vocab([pos_scores, neg_scores], ngram_range_list=[(1,1), (2,2), (3,3)])\n",
    "# print(len(common_pos_neg_scores))\n",
    "# # sorted(list(common_pos_neg_scores))"
   ]
  },
  {
   "cell_type": "code",
   "execution_count": 110,
   "id": "f29a0585",
   "metadata": {
    "execution": {
     "iopub.execute_input": "2023-08-13T10:45:29.942558Z",
     "iopub.status.busy": "2023-08-13T10:45:29.942173Z",
     "iopub.status.idle": "2023-08-13T10:45:29.945890Z",
     "shell.execute_reply": "2023-08-13T10:45:29.945179Z"
    },
    "papermill": {
     "duration": 0.116559,
     "end_time": "2023-08-13T10:45:29.947847",
     "exception": false,
     "start_time": "2023-08-13T10:45:29.831288",
     "status": "completed"
    },
    "tags": []
   },
   "outputs": [],
   "source": [
    "# pos_vocab = get_common_vocab([pos_scores, pos_scores], ngram_range_list=[(1,1), (2,2), (3,3)])\n",
    "# print(len(pos_vocab))\n",
    "# # sorted(list(pos_vocab))"
   ]
  },
  {
   "cell_type": "code",
   "execution_count": 111,
   "id": "9536b7b8",
   "metadata": {
    "execution": {
     "iopub.execute_input": "2023-08-13T10:45:30.170455Z",
     "iopub.status.busy": "2023-08-13T10:45:30.170090Z",
     "iopub.status.idle": "2023-08-13T10:45:30.174873Z",
     "shell.execute_reply": "2023-08-13T10:45:30.173677Z"
    },
    "papermill": {
     "duration": 0.119061,
     "end_time": "2023-08-13T10:45:30.177180",
     "exception": false,
     "start_time": "2023-08-13T10:45:30.058119",
     "status": "completed"
    },
    "tags": []
   },
   "outputs": [],
   "source": [
    "# print(len(get_vocab(pos_scores['reviewText'], ngram_range=(1,1))))\n",
    "# print(len(get_vocab(pos_scores['reviewText'], ngram_range=(2,2))))\n",
    "# print(len(get_vocab(pos_scores['reviewText'], ngram_range=(3,3))))"
   ]
  },
  {
   "cell_type": "code",
   "execution_count": 112,
   "id": "38a27a22",
   "metadata": {
    "execution": {
     "iopub.execute_input": "2023-08-13T10:45:30.400156Z",
     "iopub.status.busy": "2023-08-13T10:45:30.399540Z",
     "iopub.status.idle": "2023-08-13T10:45:30.404131Z",
     "shell.execute_reply": "2023-08-13T10:45:30.402970Z"
    },
    "papermill": {
     "duration": 0.117197,
     "end_time": "2023-08-13T10:45:30.406441",
     "exception": false,
     "start_time": "2023-08-13T10:45:30.289244",
     "status": "completed"
    },
    "tags": []
   },
   "outputs": [],
   "source": [
    "# neg_vocab = get_common_vocab([neg_scores, neg_scores], ngram_range_list=[(1,1), (2,2), (3,3)])\n",
    "# print(len(neg_vocab))\n",
    "# # sorted(list(neg_vocab))"
   ]
  },
  {
   "cell_type": "code",
   "execution_count": 113,
   "id": "05c447dd",
   "metadata": {
    "execution": {
     "iopub.execute_input": "2023-08-13T10:45:30.695341Z",
     "iopub.status.busy": "2023-08-13T10:45:30.694965Z",
     "iopub.status.idle": "2023-08-13T10:45:30.698846Z",
     "shell.execute_reply": "2023-08-13T10:45:30.698027Z"
    },
    "papermill": {
     "duration": 0.118872,
     "end_time": "2023-08-13T10:45:30.700870",
     "exception": false,
     "start_time": "2023-08-13T10:45:30.581998",
     "status": "completed"
    },
    "tags": []
   },
   "outputs": [],
   "source": [
    "# print(len(get_vocab(neg_scores['reviewText'], ngram_range=(1,1))))\n",
    "# print(len(get_vocab(neg_scores['reviewText'], ngram_range=(2,2))))\n",
    "# print(len(get_vocab(neg_scores['reviewText'], ngram_range=(3,3))))"
   ]
  },
  {
   "cell_type": "code",
   "execution_count": 114,
   "id": "e5edbeae",
   "metadata": {
    "execution": {
     "iopub.execute_input": "2023-08-13T10:45:30.922796Z",
     "iopub.status.busy": "2023-08-13T10:45:30.921948Z",
     "iopub.status.idle": "2023-08-13T10:45:30.926313Z",
     "shell.execute_reply": "2023-08-13T10:45:30.925471Z"
    },
    "papermill": {
     "duration": 0.11873,
     "end_time": "2023-08-13T10:45:30.928551",
     "exception": false,
     "start_time": "2023-08-13T10:45:30.809821",
     "status": "completed"
    },
    "tags": []
   },
   "outputs": [],
   "source": [
    "# len(pos_vocab), len(neg_vocab), len(pos_vocab - neg_vocab), len(neg_vocab - pos_vocab), len(pos_vocab & neg_vocab)"
   ]
  },
  {
   "cell_type": "markdown",
   "id": "f21c3cf6",
   "metadata": {
    "papermill": {
     "duration": 0.111015,
     "end_time": "2023-08-13T10:45:31.152376",
     "exception": false,
     "start_time": "2023-08-13T10:45:31.041361",
     "status": "completed"
    },
    "tags": []
   },
   "source": [
    "### Common pos, neg vocabs among train and test  "
   ]
  },
  {
   "cell_type": "code",
   "execution_count": 115,
   "id": "fc586491",
   "metadata": {
    "execution": {
     "iopub.execute_input": "2023-08-13T10:45:31.375442Z",
     "iopub.status.busy": "2023-08-13T10:45:31.374604Z",
     "iopub.status.idle": "2023-08-13T10:45:31.379495Z",
     "shell.execute_reply": "2023-08-13T10:45:31.378403Z"
    },
    "papermill": {
     "duration": 0.119671,
     "end_time": "2023-08-13T10:45:31.381975",
     "exception": false,
     "start_time": "2023-08-13T10:45:31.262304",
     "status": "completed"
    },
    "tags": []
   },
   "outputs": [],
   "source": [
    "# len(common_1_2_3_grams & (pos_vocab - neg_vocab))"
   ]
  },
  {
   "cell_type": "code",
   "execution_count": 116,
   "id": "277646c6",
   "metadata": {
    "execution": {
     "iopub.execute_input": "2023-08-13T10:45:31.604524Z",
     "iopub.status.busy": "2023-08-13T10:45:31.604048Z",
     "iopub.status.idle": "2023-08-13T10:45:31.609209Z",
     "shell.execute_reply": "2023-08-13T10:45:31.607717Z"
    },
    "papermill": {
     "duration": 0.119979,
     "end_time": "2023-08-13T10:45:31.612048",
     "exception": false,
     "start_time": "2023-08-13T10:45:31.492069",
     "status": "completed"
    },
    "tags": []
   },
   "outputs": [],
   "source": [
    "# len(common_1_2_3_grams & (neg_vocab - pos_vocab))"
   ]
  },
  {
   "cell_type": "code",
   "execution_count": 117,
   "id": "a00ad3de",
   "metadata": {
    "execution": {
     "iopub.execute_input": "2023-08-13T10:45:31.833113Z",
     "iopub.status.busy": "2023-08-13T10:45:31.832258Z",
     "iopub.status.idle": "2023-08-13T10:45:31.844326Z",
     "shell.execute_reply": "2023-08-13T10:45:31.843280Z"
    },
    "papermill": {
     "duration": 0.126006,
     "end_time": "2023-08-13T10:45:31.847230",
     "exception": false,
     "start_time": "2023-08-13T10:45:31.721224",
     "status": "completed"
    },
    "tags": []
   },
   "outputs": [],
   "source": [
    "def audienceScore_vocab(df_list, scores=(57, 73), ngram_range_list=[(1,1), (2,2), (3,3)]):\n",
    "    train = df_list[0]\n",
    "    test = df_list[1]\n",
    "\n",
    "    lower_bound = scores[0]\n",
    "    upper_bound = scores[1]\n",
    "\n",
    "    common_ngrams = get_common_vocab([train, test], ngram_range_list=ngram_range_list)\n",
    "\n",
    "    pos_scores = train[['reviewText', 'sentiment']].loc[(train['audienceScore'] > upper_bound) & (train['sentiment'] == 'POSITIVE')].copy()\n",
    "    neg_scores = train[['reviewText', 'sentiment']].loc[(train['audienceScore'] < lower_bound) & (train['sentiment'] == 'NEGATIVE')].copy()\n",
    "\n",
    "    pos_vocab = get_common_vocab([pos_scores, pos_scores], ngram_range_list=ngram_range_list)\n",
    "    neg_vocab = get_common_vocab([neg_scores, neg_scores], ngram_range_list=ngram_range_list)\n",
    "\n",
    "    pure_common_pos = common_ngrams & (pos_vocab - neg_vocab)\n",
    "    pure_common_neg = common_ngrams & (neg_vocab - pos_vocab)\n",
    "\n",
    "    return pure_common_pos, pure_common_neg"
   ]
  },
  {
   "cell_type": "code",
   "execution_count": 118,
   "id": "b3ff7587",
   "metadata": {
    "execution": {
     "iopub.execute_input": "2023-08-13T10:45:32.087674Z",
     "iopub.status.busy": "2023-08-13T10:45:32.087020Z",
     "iopub.status.idle": "2023-08-13T10:45:32.093054Z",
     "shell.execute_reply": "2023-08-13T10:45:32.091771Z"
    },
    "papermill": {
     "duration": 0.13726,
     "end_time": "2023-08-13T10:45:32.096094",
     "exception": false,
     "start_time": "2023-08-13T10:45:31.958834",
     "status": "completed"
    },
    "tags": []
   },
   "outputs": [],
   "source": [
    "# pcp, pcn = audienceScore_vocab([merged, merged_test])\n",
    "# len(pcp), len(pcn)"
   ]
  },
  {
   "cell_type": "code",
   "execution_count": 119,
   "id": "478c59f6",
   "metadata": {
    "execution": {
     "iopub.execute_input": "2023-08-13T10:45:32.324900Z",
     "iopub.status.busy": "2023-08-13T10:45:32.324085Z",
     "iopub.status.idle": "2023-08-13T10:45:32.328198Z",
     "shell.execute_reply": "2023-08-13T10:45:32.327369Z"
    },
    "papermill": {
     "duration": 0.117227,
     "end_time": "2023-08-13T10:45:32.330409",
     "exception": false,
     "start_time": "2023-08-13T10:45:32.213182",
     "status": "completed"
    },
    "tags": []
   },
   "outputs": [],
   "source": [
    "# pc = pcp | pcn\n",
    "# sorted(list(pc))"
   ]
  },
  {
   "cell_type": "markdown",
   "id": "323e6cb3",
   "metadata": {
    "papermill": {
     "duration": 0.108152,
     "end_time": "2023-08-13T10:45:32.551102",
     "exception": false,
     "start_time": "2023-08-13T10:45:32.442950",
     "status": "completed"
    },
    "tags": []
   },
   "source": [
    "# Submit_v5 for merged file models  "
   ]
  },
  {
   "cell_type": "markdown",
   "id": "0ef63221",
   "metadata": {
    "papermill": {
     "duration": 0.108983,
     "end_time": "2023-08-13T10:45:32.770551",
     "exception": false,
     "start_time": "2023-08-13T10:45:32.661568",
     "status": "completed"
    },
    "tags": []
   },
   "source": [
    "### More Helper functions  "
   ]
  },
  {
   "cell_type": "code",
   "execution_count": 120,
   "id": "b7e96744",
   "metadata": {
    "execution": {
     "iopub.execute_input": "2023-08-13T10:45:32.990958Z",
     "iopub.status.busy": "2023-08-13T10:45:32.990103Z",
     "iopub.status.idle": "2023-08-13T10:45:32.997573Z",
     "shell.execute_reply": "2023-08-13T10:45:32.996668Z"
    },
    "papermill": {
     "duration": 0.120535,
     "end_time": "2023-08-13T10:45:32.999687",
     "exception": false,
     "start_time": "2023-08-13T10:45:32.879152",
     "status": "completed"
    },
    "tags": []
   },
   "outputs": [],
   "source": [
    "# Testing predictions on missing reviewtext columns  \n",
    "\n",
    "def predict_on_missing_review_data(pipe, selected_features, merged_train):\n",
    "    missing_reviews_train = merged_train.loc[merged_train['reviewYN'] == 1]\n",
    "    missing_reviews_train.reset_index(drop=True)\n",
    "    X_train_miss_revs = missing_reviews_train.drop('sentiment', axis = 1)\n",
    "    X_train_miss_revs = X_train_miss_revs[selected_features]\n",
    "    y_train_miss_revs = missing_reviews_train['sentiment']\n",
    "    \n",
    "    y_pred_miss_revs = pipe.predict(X_train_miss_revs)\n",
    "#     print('Predictions on rows which had missing reviewText')\n",
    "    print(\"Confusion matrix and f1-score for rows which have no reviewText in X_train: \")\n",
    "    print(confusion_matrix(y_train_miss_revs, y_pred_miss_revs, labels=pipe.classes_))\n",
    "    \n",
    "    return f1_score(y_train_miss_revs, y_pred_miss_revs, average='micro')"
   ]
  },
  {
   "cell_type": "code",
   "execution_count": 121,
   "id": "ab2c064c",
   "metadata": {
    "execution": {
     "iopub.execute_input": "2023-08-13T10:45:33.223454Z",
     "iopub.status.busy": "2023-08-13T10:45:33.223060Z",
     "iopub.status.idle": "2023-08-13T10:45:33.448277Z",
     "shell.execute_reply": "2023-08-13T10:45:33.447236Z"
    },
    "papermill": {
     "duration": 0.339305,
     "end_time": "2023-08-13T10:45:33.451205",
     "exception": false,
     "start_time": "2023-08-13T10:45:33.111900",
     "status": "completed"
    },
    "tags": []
   },
   "outputs": [],
   "source": [
    "# Function to build pipelines for GridSearchCV which goes into the final 'submit' function  \n",
    "def build_pipeline(selected_model=LogisticRegression(), \n",
    "                   selected_features={'txt': ['reviewText']}, \n",
    "                   param_grid=None,\n",
    "                   vocab=None,\n",
    "                   vocab_usage='tfidf',\n",
    "                   strip_accents='unicode', \n",
    "                   add_countvec=False,\n",
    "                   vocab_audscore=None,\n",
    "                  poly=True):\n",
    "    # Encoders  \n",
    "    ohe = OneHotEncoder(sparse_output=False, handle_unknown='ignore')\n",
    "    MMscaler = MinMaxScaler()\n",
    "    StdScaler = StandardScaler()\n",
    "    RobScaler = RobustScaler()\n",
    "    \n",
    "    # Categorical features\n",
    "    cat_pipe = Pipeline(steps=[\n",
    "                            (\"ohe\", ohe),\n",
    "                        ])\n",
    "    \n",
    "    # Numerical features\n",
    "    num_pipe = Pipeline(steps=[\n",
    "                            (\"robscaler\", RobustScaler()),\n",
    "                            (\"stdscaler\", StandardScaler())\n",
    "                        ])\n",
    "    num_pipe_poly = Pipeline(steps=[\n",
    "                            (\"robscaler\", RobustScaler()),\n",
    "                            (\"stdscaler\", StandardScaler()),\n",
    "                            (\"poly\", PolynomialFeatures(degree=2, interaction_only=True, include_bias=False))\n",
    "                        ])\n",
    "    \n",
    "    # Text features ['reviewText', 'reviewerName', 'movieid', 'genre', 'director']\n",
    "    tfidf_vec = TfidfVectorizer(ngram_range=(1,2))\n",
    "    count_vec = CountVectorizer(ngram_range=(1,2))\n",
    "    txt_pipe = Pipeline(steps=[\n",
    "                            (\"tvec\", TfidfVectorizer(ngram_range=(1,4), strip_accents=strip_accents))    # Adjust ngram_range here for reviewText\n",
    "                        ])\n",
    "    txt_pipe_vocab = Pipeline(steps=[\n",
    "                            (\"tvec\", TfidfVectorizer(ngram_range=(1,4), strip_accents=strip_accents, vocabulary=vocab))    # Adjust ngram_range here for reviewText\n",
    "                        ])\n",
    "    txt_pipe_2 = Pipeline(steps=[\n",
    "                            (\"tvec\", TfidfVectorizer(ngram_range=(2,2)))\n",
    "                        ])\n",
    "    txt_pipe_3 = Pipeline(steps=[\n",
    "                            (\"tvec\", TfidfVectorizer(ngram_range=(1,1)))\n",
    "                        ])\n",
    "    txt_pipe_4 = Pipeline(steps=[\n",
    "                            (\"tvec\", TfidfVectorizer(ngram_range=(1,3)))    # Adjust ngram_range here for reviewText\n",
    "                        ])\n",
    "    txt_pipe_title  = Pipeline(steps=[\n",
    "                            (\"tvec\", TfidfVectorizer(ngram_range=(1,5)))    # Adjust ngram_range here for reviewText\n",
    "                        ])\n",
    "    \n",
    "    # Additional pipes for count vectorizer\n",
    "    txt_pipe_countvec = Pipeline(steps=[\n",
    "                            (\"cvec\", CountVectorizer(ngram_range=(1,4), strip_accents=strip_accents))    # Adjust ngram_range here for reviewText\n",
    "                        ])\n",
    "    txt_pipe_countvec_vocab = Pipeline(steps=[\n",
    "                            (\"cvec\", CountVectorizer(ngram_range=(1,4), strip_accents=strip_accents, vocabulary=vocab))    # Adjust ngram_range here for reviewText\n",
    "                        ])\n",
    "    txt_pipe_countvec_vocab_audscore = Pipeline(steps=[\n",
    "                            (\"cvec\", CountVectorizer(ngram_range=(1,4), strip_accents=strip_accents, vocabulary=vocab_audscore))    # Adjust ngram_range here for reviewText\n",
    "                        ])\n",
    "    \n",
    "    txt_pipe_countvec_ratingContents = Pipeline(steps=[\n",
    "                            (\"cvec\", CountVectorizer(ngram_range=(1,5)))    # Adjust ngram_range here for reviewText\n",
    "                        ])\n",
    "    txt_pipe_countvec_rcSorted = Pipeline(steps=[\n",
    "                            (\"cvec\", CountVectorizer(ngram_range=(1,1)))    # Adjust ngram_range here for reviewText\n",
    "                        ])\n",
    "    txt_pipe_countvec_genre = Pipeline(steps=[\n",
    "                            (\"cvec\", CountVectorizer(ngram_range=(1,1)))\n",
    "                        ])\n",
    "    txt_pipe_countvec_genreSorted = Pipeline(steps=[\n",
    "                            (\"cvec\", CountVectorizer(ngram_range=(1,5)))\n",
    "                        ])\n",
    "    txt_pipe_countvec_distributor = Pipeline(steps=[\n",
    "                            (\"cvec\", CountVectorizer(ngram_range=(1,3)))    # Adjust ngram_range here for reviewText\n",
    "                        ])\n",
    "    txt_pipe_countvec_title = Pipeline(steps=[\n",
    "                            (\"cvec\", CountVectorizer(ngram_range=(1,5), strip_accents=strip_accents))\n",
    "                        ])\n",
    "    txt_pipe_countvec_movieid = Pipeline(steps=[\n",
    "                            (\"cvec\", CountVectorizer(ngram_range=(1,1)))\n",
    "                        ])\n",
    "    # Basic pipes  \n",
    "    TFs = []\n",
    "    try:\n",
    "        TFs.append((f\"cat\", ohe, selected_features['cat']))\n",
    "#         for c in selected_features['cat']:\n",
    "#             TFs.append((f\"cat_{c}\", ohe, [c]))\n",
    "    except:\n",
    "        pass\n",
    "    \n",
    "    try:\n",
    "        if poly:\n",
    "            TFs.append((f\"num\", num_pipe_poly, selected_features['num']))\n",
    "        else:\n",
    "            TFs.append((f\"num\", num_pipe, selected_features['num']))\n",
    "#             for n in selected_features['num']:\n",
    "#                 if n in [\"runtimeMinutes\", \"boxOffice\", \"releaseDiff\"]:\n",
    "#                     TFs.append((f\"num_{n}\", RobScaler, [n]))\n",
    "#                     TFs.append((f\"num_{n}_ss\", StdScaler, [n]))\n",
    "\n",
    "#                 else:\n",
    "#                     TFs.append((f\"num_{n}\", StdScaler, [n]))\n",
    "    except:\n",
    "        pass\n",
    "    \n",
    "    try:\n",
    "        for t in selected_features['txt']:\n",
    "            if t in ['director', 'reviewerName']:\n",
    "                TFs.append((f\"txt_{t}\", txt_pipe_2, t))\n",
    "            elif t in [\"originalLanguage\", \"releaseYear\"]:\n",
    "                TFs.append((f\"txt_{t}\", txt_pipe_3, t))\n",
    "            elif t in ['genre']:\n",
    "                TFs.append((f\"txt_{t}\", txt_pipe_countvec_genre, t))\n",
    "            elif t in [\"genreSorted\"]:\n",
    "                TFs.append((f\"txt_{t}\", txt_pipe_countvec_genreSorted, t))\n",
    "            elif t in [\"distributor\"]:\n",
    "                TFs.append((f\"txt_{t}\", txt_pipe_countvec_distributor, t))\n",
    "                \n",
    "            elif t in ['reviewText']:\n",
    "#                 if vocab and (vocab_usage in [\"tfidf\", \"both\"]):\n",
    "#                     txt_pipe.set_params(tvec__vocabulary=vocab)\n",
    "#                     txt_pipe.set_params(tvec__stop_words='english')\n",
    "                TFs.append((f\"txt_{t}\", txt_pipe, t))\n",
    "            elif t in ['reviewText_2']:\n",
    "                if add_countvec:\n",
    "#                     if vocab and (vocab_usage in [\"count\", \"both\"]):\n",
    "#                         txt_pipe_countvec.set_params(cvec__vocabulary=vocab)\n",
    "#                         txt_pipe_countvec.set_params(cvec__stop_words='english')\n",
    "                    TFs.append((f\"txt_{t}\", txt_pipe_countvec, t))\n",
    "            elif t in ['reviewText_3']:\n",
    "                if vocab_usage == 'tfidf':\n",
    "                    TFs.append((f\"txt_{t}\", txt_pipe_vocab, t))\n",
    "                elif vocab_usage == 'count':\n",
    "                    TFs.append((f\"txt_{t}\", txt_pipe_countvec_vocab, t))\n",
    "            elif t in ['reviewText_4']:\n",
    "                if vocab_audscore:                    \n",
    "                    TFs.append((f\"txt_{t}\", txt_pipe_countvec_vocab_audscore, t))\n",
    "                    \n",
    "            elif t in [\"ratingContents\"]:\n",
    "                TFs.append((f\"txt_{t}\", txt_pipe_countvec_ratingContents, t))\n",
    "            elif t in [\"rcSorted\"]:\n",
    "                TFs.append((f\"txt_{t}\", txt_pipe_countvec_rcSorted, t))\n",
    "            elif t in [\"title\"]:\n",
    "                TFs.append((f\"txt_{t}\", txt_pipe_title, t))\n",
    "            elif t in [\"movieid\"]:\n",
    "                TFs.append((f\"txt_{t}\", txt_pipe_countvec_movieid, t))\n",
    "            else:\n",
    "                pass\n",
    "    except:\n",
    "        pass\n",
    "\n",
    "    # Build ColumnTransformer  \n",
    "    ct = ColumnTransformer(transformers=TFs, remainder='drop')\n",
    "\n",
    "    # Build Pipeline\n",
    "    pipe = Pipeline(steps=[('ct', ct), ('model', selected_model)])\n",
    "    print(\"\\nPipeline built successfully.\")\n",
    "\n",
    "    # Use the pipe in GridSearchCV\n",
    "    if param_grid == None:\n",
    "        param_grid_temp = {\"model__C\": [1],\n",
    "                     'model__solver': ['liblinear']}\n",
    "        print(\"Full GridSearchCV pipeline built successfully with basic default param_grid.\\n\")\n",
    "        pipeCV = GridSearchCV(pipe, param_grid_temp, cv=10, scoring=\"f1_micro\", n_jobs=-1)\n",
    "        return pipeCV\n",
    "    \n",
    "    # GridSearchCV if param_grid provided\n",
    "    if param_grid:\n",
    "        pipeCV = GridSearchCV(pipe, param_grid, cv=10, scoring=\"f1_micro\", n_jobs=-1)\n",
    "        print(\"\\nFull GridSearchCV pipeline built successfully.\")\n",
    "        return pipeCV"
   ]
  },
  {
   "cell_type": "code",
   "execution_count": 122,
   "id": "0ffc4966",
   "metadata": {
    "execution": {
     "iopub.execute_input": "2023-08-13T10:45:33.675170Z",
     "iopub.status.busy": "2023-08-13T10:45:33.674459Z",
     "iopub.status.idle": "2023-08-13T10:45:33.692576Z",
     "shell.execute_reply": "2023-08-13T10:45:33.691350Z"
    },
    "papermill": {
     "duration": 0.134911,
     "end_time": "2023-08-13T10:45:33.695749",
     "exception": false,
     "start_time": "2023-08-13T10:45:33.560838",
     "status": "completed"
    },
    "tags": []
   },
   "outputs": [],
   "source": [
    "def preprocessor(imputer_type='simple'):\n",
    "    \n",
    "    \"\"\"Preprocess train or test data. Choose 'simple' or 'knn' imputers to impute missing numerical values\"\"\"\n",
    "    \n",
    "    # Set imputer  \n",
    "    if imputer_type == 'simple':\n",
    "        imputer = SimpleImputer(strategy='median')\n",
    "        print(imputer)\n",
    "    elif imputer_type == 'knn':\n",
    "        imputer = KNNImputer(weights='distance', n_neighbors=3)    # Adjust KNNImputer params here\n",
    "        print(imputer)\n",
    "\n",
    "\n",
    "    \n",
    "    # Merge and preprocess train and movies data  \n",
    "    merged = select_features(load_csv(\"train\"), load_csv(\"movies\"), row_thresh_null=None)    # Decide if you want to drop any rows containing lot of nulls\n",
    "    \n",
    "    # Impute missing numerical values  \n",
    "    merged[['audienceScore', 'runtimeMinutes', 'boxOffice']] = imputer.fit_transform(merged[['audienceScore', 'runtimeMinutes', 'boxOffice']])\n",
    "    merged['releaseDate'] = merged[\"releaseDate\"].fillna(merged[\"releaseDate\"].median())\n",
    "\n",
    "    # Create new feature columns\n",
    "    \n",
    "    # Convert audienceScore to categories  \n",
    "    num_bins_as = 20\n",
    "    merged[\"audScoreBins\"] = pd.cut(merged['audienceScore'], bins=num_bins_as, labels=False)\n",
    "\n",
    "    # Convert runtimeMinutes to categories  \n",
    "#     num_bins_rt = 20\n",
    "    merged[\"runtimeBins\"] = pd.cut(merged['runtimeMinutes'], bins=[0,75,120,180,565], labels=[4,3,2,1])\n",
    "    \n",
    "    # Convert boxOffice to categories  \n",
    "    num_bins_bo = 5\n",
    "    merged[\"boxOfficeBins\"] = pd.cut(merged['boxOffice'], bins=num_bins_bo, labels=False)\n",
    "    \n",
    "    # Convert releaseDiff to categories  \n",
    "    num_bins_rd = 5\n",
    "    merged[\"releaseDiffBins\"] = pd.cut(merged['releaseDiff'], bins=[-1, 180, 360, 1000, 40000], labels=[0, 1, 2, 3])\n",
    "    \n",
    "    # Check1 (preprocessor)\n",
    "    print(\"\\nCheck 1 (preprocessor) complete.\")\n",
    "    print(f\"Shape of X_train: {merged.shape}\")\n",
    "    print(f\"Features in X_train: {merged.columns}\")\n",
    "\n",
    "\n",
    "    \n",
    "    # Merge and preprocess test and movies data  \n",
    "    merged_test = select_features(load_csv(\"test\"), load_csv(\"movies\"))\n",
    "    \n",
    "    # Transform ['audienceScore', 'runtimeMinutes', 'boxOffice'] columns in merged_test using 'imputer' fitted on 'merged' df  \n",
    "    merged_test[['audienceScore', 'runtimeMinutes', 'boxOffice']] = imputer.transform(merged_test[['audienceScore', 'runtimeMinutes', 'boxOffice']])\n",
    "    \n",
    "    # Fill 'releaseDate' column in 'merged_test' df with median from the train (merged) df  \n",
    "    merged_test['releaseDate'] = merged_test[\"releaseDate\"].fillna(merged[\"releaseDate\"].median())\n",
    "\n",
    "    \n",
    "    # Create new feature columns\n",
    "    \n",
    "    # Convert audienceScore to categories  \n",
    "    num_bins_as = 20\n",
    "    merged_test[\"audScoreBins\"] = pd.cut(merged_test['audienceScore'], bins=num_bins_as, labels=False)\n",
    "    \n",
    "    # Convert runtimeMinutes to categories  \n",
    "#     num_bins_rt = 20\n",
    "    merged_test[\"runtimeBins\"] = pd.cut(merged_test['runtimeMinutes'], bins=[0,75,120,180,565], labels=[4,3,2,1])\n",
    "    \n",
    "    # Convert boxOffice to categories  \n",
    "    num_bins_bo = 5\n",
    "    merged_test[\"boxOfficeBins\"] = pd.cut(merged_test['boxOffice'], bins=num_bins_bo, labels=False)\n",
    "    \n",
    "    # Convert releaseDiff to categories  \n",
    "    num_bins_rd = 5\n",
    "    merged_test[\"releaseDiffBins\"] = pd.cut(merged_test['releaseDiff'], bins=[-1, 180, 360, 1000, 40000], labels=[0, 1, 2, 3])\n",
    "    \n",
    "    \n",
    "    # Check2 (preprocessor)\n",
    "    print(\"\\nCheck 2 (preprocessor) complete.\")\n",
    "    print(f\"Shape of X_test: {merged_test.shape}\")\n",
    "    print(f\"Features in X_test: {merged_test.columns}\")\n",
    "\n",
    "    return merged, merged_test\n",
    "    "
   ]
  },
  {
   "cell_type": "code",
   "execution_count": 123,
   "id": "b13aa74e",
   "metadata": {
    "execution": {
     "iopub.execute_input": "2023-08-13T10:45:33.922413Z",
     "iopub.status.busy": "2023-08-13T10:45:33.922007Z",
     "iopub.status.idle": "2023-08-13T10:45:33.926881Z",
     "shell.execute_reply": "2023-08-13T10:45:33.925740Z"
    },
    "papermill": {
     "duration": 0.118983,
     "end_time": "2023-08-13T10:45:33.929203",
     "exception": false,
     "start_time": "2023-08-13T10:45:33.810220",
     "status": "completed"
    },
    "tags": []
   },
   "outputs": [],
   "source": [
    "# merged, merged_test = preprocessor()\n",
    "# merged.shape, merged_test.shape"
   ]
  },
  {
   "cell_type": "code",
   "execution_count": 124,
   "id": "5d7ee4a3",
   "metadata": {
    "execution": {
     "iopub.execute_input": "2023-08-13T10:45:34.153229Z",
     "iopub.status.busy": "2023-08-13T10:45:34.152511Z",
     "iopub.status.idle": "2023-08-13T10:45:34.167379Z",
     "shell.execute_reply": "2023-08-13T10:45:34.166195Z"
    },
    "papermill": {
     "duration": 0.129734,
     "end_time": "2023-08-13T10:45:34.170331",
     "exception": false,
     "start_time": "2023-08-13T10:45:34.040597",
     "status": "completed"
    },
    "tags": []
   },
   "outputs": [],
   "source": [
    "def voting_clf_custom(estimators: list, features, merged, merged_test, X_train, y_train, X_test):\n",
    "    print(f\"\\nRunning the voting_clf_custom function...\")\n",
    "    print(f\"\\nNumber of estimator pipelines provided: {len(estimators)}\")\n",
    "    print(f\"Features provided are*: {features}\")\n",
    "\n",
    "    fitted_estimators = []\n",
    "    \n",
    "    for n, item in enumerate(estimators, start=1):\n",
    "        \n",
    "        # Get the pipeline\n",
    "        pipe = item[1]\n",
    "        \n",
    "        # Fit \n",
    "        print(f\"\\nTraining started with full pipeline for classifier #{n}/{len(estimators)}...\")\n",
    "        pipe.fit(X_train, y_train)\n",
    "        \n",
    "\n",
    "        # Check1\n",
    "        print(f\"\\nCheck #{n}.1 complete.\")\n",
    "        print(f\"Details of the best model using classifier #{n} (GridSearchCV) on X_train: \")\n",
    "        print(f\"Best Params: {pipe.best_params_}\")\n",
    "        print(f\"Best Score: {pipe.best_score_}\")\n",
    "        \n",
    "        print(predict_on_missing_review_data(pipe, features, merged))    # Function defined above\n",
    "        \n",
    "        fitted_estimators.append((f\"classifier_{n}\", pipe))\n",
    "        print(f\"classifier_{n} successfully added to 'fitted_estimators' list\")\n",
    "\n",
    "        \n",
    "        # Predict on train data \n",
    "        y_train_pred = pipe.predict(X_train)\n",
    "        print(f\"Confusion matrix for predictions on training data: \")\n",
    "        print(confusion_matrix(y_train, y_train_pred))\n",
    "        f1_train = f1_score(y_train, y_train_pred, average=\"micro\")\n",
    "        print(f\"F1-score on training data: {f1_train}\")\n",
    "        \n",
    "        \n",
    "#         # Predict on test.csv file\n",
    "#         # Add new columns as needed \n",
    "#         if add_countvec:\n",
    "#             merged_test['reviewText_2'] = merged_test['reviewText']\n",
    "#         if vocab:\n",
    "#             merged_test['reviewText_3'] = merged_test['reviewText']\n",
    "#         if vocab_audscore:\n",
    "#             merged_test['reviewText_4'] = merged_test['reviewText']\n",
    "        \n",
    "               \n",
    "#         X_test = merged_test[features].copy()\n",
    "\n",
    "    \n",
    "        y_pred = pipe.predict(X_test)\n",
    "        \n",
    "        # Insert predictions in 'predictions_df' dataframe\n",
    "        predictions_df.insert(n-1, f\"pred_{n}\", y_pred, allow_duplicates=False)\n",
    "        print(predictions_df.shape)\n",
    "        print(predictions_df.head(10))\n",
    "        \n",
    "    \n",
    "        # Check2\n",
    "        print(f\"\\nCheck #{n}.2 complete.\")\n",
    "    #     cv_results_df = pd.DataFrame(pipe.cv_results_)\n",
    "        print(\"Details of the best model using full pipeline (GridSearchCV) on X_train: \")\n",
    "#         print(f\"Best Estimator: {pipe.best_estimator_}\")\n",
    "        print(f\"Best Params: {pipe.best_params_}\")\n",
    "        print(f\"Best Score: {pipe.best_score_}\")\n",
    "#         print(f\"Best Index: {pipe.best_index_}\")\n",
    "        print(f\"Refit Time: {pipe.refit_time_}\")\n",
    "    #     print(f\"Shape of CV results dataframe: {cv_results_df.shape}\")\n",
    "    \n",
    "    \n",
    "    # Voting classifier (custom) with hard voting\n",
    "    # Calculate the MODE for all predictions (Note that the 'predictions_df' generated above should have odd number of columns)\n",
    "    pred_df_final = predictions_df.mode('columns')\n",
    "    pred_df_final.columns = [\"sentiment\"]\n",
    "    pred_df_final.index.name = \"id\"\n",
    "    pred_df_final.to_csv(\"submission.csv\")\n",
    "    \n",
    "    print(\"\\nSuccessfully created the submission file!!!\")\n",
    "    \n",
    "#     return pipe.cv_results_\n",
    "    return pred_df_final, fitted_estimators"
   ]
  },
  {
   "cell_type": "code",
   "execution_count": 125,
   "id": "0d7566aa",
   "metadata": {
    "execution": {
     "iopub.execute_input": "2023-08-13T10:45:34.392976Z",
     "iopub.status.busy": "2023-08-13T10:45:34.391949Z",
     "iopub.status.idle": "2023-08-13T10:45:34.399997Z",
     "shell.execute_reply": "2023-08-13T10:45:34.399159Z"
    },
    "papermill": {
     "duration": 0.122282,
     "end_time": "2023-08-13T10:45:34.402279",
     "exception": false,
     "start_time": "2023-08-13T10:45:34.279997",
     "status": "completed"
    },
    "tags": []
   },
   "outputs": [],
   "source": [
    "def  stacking_clf(estimators: list, features, merged, merged_test, X_train, y_train, X_test):\n",
    "    print(f\"\\nRunning the stacking_clf function...\")\n",
    "    print(f\"\\nNumber of estimator pipelines provided: {len(estimators)}\")\n",
    "    print(f\"Features provided are*: {features}\")\n",
    "    \n",
    "    stacking_classifier = StackingClassifier(estimators=estimators, final_estimator=LogisticRegression())\n",
    "    \n",
    "    # Fit the stacking classifer\n",
    "    stacking_classifier.fit(X_train, y_train)\n",
    "    \n",
    "    # Predict on X_test\n",
    "    y_pred = stacking_classifier.predict(X_test)\n",
    "    \n",
    "    # Create 'submission.csv' file\n",
    "    pred_df = pd.DataFrame(y_pred)\n",
    "    pred_df.columns = [\"sentiment\"]\n",
    "    pred_df.index.name = \"id\"\n",
    "    pred_df.to_csv(\"submission.csv\")\n",
    "    \n",
    "    print(\"\\nSuccessfully created the submission file!!!\")\n",
    "    \n",
    "    return pred_df, stacking_classifier"
   ]
  },
  {
   "cell_type": "code",
   "execution_count": 126,
   "id": "c2495878",
   "metadata": {
    "execution": {
     "iopub.execute_input": "2023-08-13T10:45:34.623726Z",
     "iopub.status.busy": "2023-08-13T10:45:34.623113Z",
     "iopub.status.idle": "2023-08-13T10:45:34.656472Z",
     "shell.execute_reply": "2023-08-13T10:45:34.655644Z"
    },
    "papermill": {
     "duration": 0.147354,
     "end_time": "2023-08-13T10:45:34.658943",
     "exception": false,
     "start_time": "2023-08-13T10:45:34.511589",
     "status": "completed"
    },
    "tags": []
   },
   "outputs": [],
   "source": [
    "def submit_v5(classifiers= [\n",
    "                {'selected_model' : LogisticRegression(C=1, solver='saga', max_iter=100000),\n",
    "                 'param_grid' : None,\n",
    "                 'selected_features' : {'num': ['audienceScore']},\n",
    "                 'vocab' : None,\n",
    "                 'vocab_usage' : 'tfidf',\n",
    "                 'strip_accents' : 'unicode',\n",
    "                 'add_countvec' : False,\n",
    "                'vocab_audscore' : None}\n",
    "              ], \n",
    "            imputer_type='simple',\n",
    "              poly=True,\n",
    "              ensemble_type='voting_custom'\n",
    "            ):\n",
    "    \n",
    "    \"\"\"Takes a list of dictionaries each with same keys as mentioned in the default dictionary in function definition\"\"\"\n",
    "    \n",
    "    print(\"\\nRunning the submit_v5 function...\")\n",
    "    \n",
    "    print(f\"\\nData preprocessor initiated...\")\n",
    "    \n",
    "    imputer_type = imputer_type\n",
    "    print(f\"\\nImputer for missing numerical values: {imputer_type}\")\n",
    "    print(f\"Imputing missing values. (This could take a while if it is KNNImputer)\")\n",
    "    \n",
    "    merged, merged_test = preprocessor(imputer_type=imputer_type)\n",
    "    print(f\"\\nPreprocessing of train and test datasets complete.\")\n",
    "    \n",
    "    # Build vocabulary (if vocab is True)\n",
    "    ngram_range_vocab = (1,4)\n",
    "    ngram_range_vocab_list = [(1,1), (2,2), (3,3), (4,4)]\n",
    "    \n",
    "    vocab = None\n",
    "    vocab_audscore = None\n",
    "    for item in classifiers:\n",
    "        if item['vocab']:\n",
    "            vocab = True\n",
    "        if item['vocab_audscore']:\n",
    "            vocab_audscore = item['vocab_audscore']\n",
    "    \n",
    "    if vocab == True:\n",
    "        # Generate and store the entire vocabulary of training data  \n",
    "        print(f\"\\nGenerating vocabulary of entire training data...\")\n",
    "        train_ngrams = get_vocab(merged['reviewText'], ngram_range=ngram_range_vocab)\n",
    "        print(f\"Size of vocabulary of training data: {len(train_ngrams)}\")\n",
    "        # sorted(train_ngrams)\n",
    "\n",
    "        # Generate common vocabulary specific for this project data  \n",
    "        print(f\"\\nGenerating common vocabulary specific for this project data...\")\n",
    "        common_ngrams = get_common_vocab([merged, merged_test], ngram_range_list=ngram_range_vocab_list)\n",
    "        print(f\"Size of common vocabulary: {len(common_ngrams)}\")\n",
    "\n",
    "        # Get the speficic stop words that should be used in the final models  \n",
    "        print(f\"\\nGetting specific stop words for this project...\")\n",
    "        stop_words_specific = list(train_ngrams - common_ngrams)\n",
    "        print(f\"Size of 'stop_words_specific' generated: {len(stop_words_specific)}\")\n",
    "    else:\n",
    "        pass\n",
    "    \n",
    "    if vocab_audscore:\n",
    "        pure_common_pos, pure_common_neg = audienceScore_vocab([merged, merged_test], \n",
    "                                                               scores=(57, 73), \n",
    "                                                               ngram_range_list=ngram_range_vocab_list)\n",
    "        pure_common = pure_common_pos | pure_common_neg\n",
    "        print(f\"\\nSize of 'pure_common' vocabulary genrated: {len(pure_common)}\")\n",
    "    \n",
    "    \n",
    "    # Create a list to store estimators  \n",
    "    estimators = []     # List of tuples of the form ('classifier_name', 'classifer_instance')\n",
    "    \n",
    "    # Build a dataframe of predictions  \n",
    "    predictions_df = pd.DataFrame()\n",
    "    \n",
    "    # Build a separate pipeline and fit it on selected features (and param_grid) for each item in classifiers list\n",
    "    for n, item in enumerate(classifiers, start=1):\n",
    "        selected_model = item['selected_model']\n",
    "        selected_features = item['selected_features']\n",
    "        param_grid = item['param_grid']\n",
    "        vocab = item['vocab']\n",
    "        vocab_usage = item['vocab_usage']\n",
    "        strip_accents = item['strip_accents']\n",
    "        add_countvec = item['add_countvec']\n",
    "    \n",
    "    \n",
    "        # Fine tune selected_features\n",
    "        if add_countvec:\n",
    "            if 'txt' in selected_features.keys():\n",
    "                if \"reviewText_2\" not in selected_features['txt']:\n",
    "                    selected_features['txt'].append('reviewText_2')\n",
    "        if vocab:\n",
    "            if 'txt' in selected_features.keys():\n",
    "                if \"reviewText_3\" not in selected_features['txt']:\n",
    "                    selected_features['txt'].append('reviewText_3')\n",
    "        else:\n",
    "            print(f\"No vocabulary provided/used for this model.\")\n",
    "            \n",
    "        print(f\"\\nSelected features: {selected_features}\")\n",
    "        \n",
    "        if type(vocab) in [type([1, 2]), type({1, 2})]:\n",
    "            vocab = vocab\n",
    "            print(f\"Size of 'vocab' provided: {len(vocab)}\")\n",
    "        elif vocab == True:\n",
    "            vocab = common_ngrams    # Choose vocabulary here\n",
    "            print(f\"Size of 'vocab' generated by submit_v5: {len(vocab)}\")\n",
    "\n",
    "            \n",
    "        if vocab_audscore:\n",
    "            if 'txt' in selected_features.keys():\n",
    "                if \"reviewText_4\" not in selected_features['txt']:\n",
    "                    selected_features['txt'].append('reviewText_4')\n",
    "        else:\n",
    "            print(f\"No vocabulary based on audienceScore provided/used for this model.\")\n",
    "        if vocab_audscore:\n",
    "            vocab_audscore = pure_common\n",
    "            print(f\"Size of 'vocab_audscore' generated by submit_v5: {len(vocab_audscore)}\")\n",
    "            \n",
    "            \n",
    "        print(f\"\\nSelected features: {selected_features}\")\n",
    "\n",
    "        # Modify X_train for the given 'item' by creating a custom 'features' list\n",
    "        features = []\n",
    "        for item in selected_features.values():\n",
    "            features.extend(item)\n",
    "            \n",
    "        # Add new columns as needed  \n",
    "        if add_countvec:\n",
    "            merged['reviewText_2'] = merged['reviewText']\n",
    "        if vocab:\n",
    "            merged['reviewText_3'] = merged['reviewText']\n",
    "        if vocab_audscore:\n",
    "            merged['reviewText_4'] = merged['reviewText']\n",
    "        \n",
    "        # Create X_train, y_train\n",
    "        X_train = merged.drop(labels=\"sentiment\", axis=1)\n",
    "        y_train = merged[\"sentiment\"]\n",
    "        \n",
    "        X_train = merged[features].copy()\n",
    "        \n",
    "        # Create X_test\n",
    "        # Add new columns as needed \n",
    "        if add_countvec:\n",
    "            merged_test['reviewText_2'] = merged_test['reviewText']\n",
    "        if vocab:\n",
    "            merged_test['reviewText_3'] = merged_test['reviewText']\n",
    "        if vocab_audscore:\n",
    "            merged_test['reviewText_4'] = merged_test['reviewText']\n",
    "        \n",
    "        X_test = merged_test[features].copy()\n",
    "\n",
    "\n",
    "        # Build Pipeline\n",
    "        pipe = build_pipeline(selected_model, selected_features, param_grid=param_grid, \n",
    "                              vocab=vocab, vocab_usage='tfidf', \n",
    "                              strip_accents=strip_accents, add_countvec=add_countvec,\n",
    "                             poly=poly, vocab_audscore=vocab_audscore)\n",
    "        print(pipe)\n",
    "        \n",
    "        estimators.append((f\"classifier_{n}\", pipe))\n",
    "        print(f\"classifier_{n} successfully added to 'estimators' list\")\n",
    "    \n",
    "    # Choose the appropriate ensemble method for the 'ensemble_type' provided\n",
    "    if ensemble_type == 'voting_custom':\n",
    "        print(f\"Calling function: 'voting_clf_custom'\")\n",
    "        pred_df_final, fitted_estimators = voting_clf_custom(estimators, features, merged, merged_test, X_train, y_train, X_test)\n",
    "        return pred_df_final, fitted_estimators\n",
    "    elif ensemble_type == 'stacking':\n",
    "        print(f\"Calling function: 'stacking_clf'\")\n",
    "        pred_df, stacking_classifier = stacking_clf(estimators, features, merged, merged_test, X_train, y_train, X_test)\n",
    "        return pred_df, stacking_classifier\n",
    "        \n",
    "        \n",
    "#         # Fit \n",
    "#         print(f\"\\nTraining started with full pipeline for classifier #{n}/{len(classifiers)}...\")\n",
    "#         pipe.fit(X_train, y_train)\n",
    "        \n",
    "\n",
    "#         # Check1\n",
    "#         print(f\"\\nCheck #{n}.1 complete.\")\n",
    "#         print(f\"Details of the best model using classifier #{n} (GridSearchCV) on X_train: \")\n",
    "#         print(f\"Best Params: {pipe.best_params_}\")\n",
    "#         print(f\"Best Score: {pipe.best_score_}\")\n",
    "        \n",
    "#         print(predict_on_missing_review_data(pipe, features, merged))    # Function defined above\n",
    "        \n",
    "#         estimators.append((f\"classifier_{n}\", pipe))\n",
    "#         print(f\"classifier_{n} successfully added to 'estimators' list\")\n",
    "\n",
    "        \n",
    "#         # Predict on train data \n",
    "#         y_train_pred = pipe.predict(X_train)\n",
    "#         print(f\"Confusion matrix for predictions on training data: \")\n",
    "#         print(confusion_matrix(y_train, y_train_pred))\n",
    "#         f1_train = f1_score(y_train, y_train_pred, average=\"micro\")\n",
    "#         print(f\"F1-score on training data: {f1_train}\")\n",
    "        \n",
    "        \n",
    "# #         # Predict on test.csv file\n",
    "# #         # Add new columns as needed \n",
    "# #         if add_countvec:\n",
    "# #             merged_test['reviewText_2'] = merged_test['reviewText']\n",
    "# #         if vocab:\n",
    "# #             merged_test['reviewText_3'] = merged_test['reviewText']\n",
    "# #         if vocab_audscore:\n",
    "# #             merged_test['reviewText_4'] = merged_test['reviewText']\n",
    "        \n",
    "               \n",
    "# #         X_test = merged_test[features].copy()\n",
    "\n",
    "    \n",
    "#         y_pred = pipe.predict(X_test)\n",
    "        \n",
    "#         # Insert predictions in 'predictions_df' dataframe\n",
    "#         predictions_df.insert(n-1, f\"pred_{n}\", y_pred, allow_duplicates=False)\n",
    "#         print(predictions_df.shape)\n",
    "#         print(predictions_df.head(10))\n",
    "        \n",
    "    \n",
    "#         # Check2\n",
    "#         print(f\"\\nCheck #{n}.2 complete.\")\n",
    "#     #     cv_results_df = pd.DataFrame(pipe.cv_results_)\n",
    "#         print(\"Details of the best model using full pipeline (GridSearchCV) on X_train: \")\n",
    "# #         print(f\"Best Estimator: {pipe.best_estimator_}\")\n",
    "#         print(f\"Best Params: {pipe.best_params_}\")\n",
    "#         print(f\"Best Score: {pipe.best_score_}\")\n",
    "# #         print(f\"Best Index: {pipe.best_index_}\")\n",
    "#         print(f\"Refit Time: {pipe.refit_time_}\")\n",
    "#     #     print(f\"Shape of CV results dataframe: {cv_results_df.shape}\")\n",
    "    \n",
    "#     # Voting classifier (custom) with hard voting\n",
    "#     # Calculate the MODE for all predictions (Note that the 'predictions_df' generated above should have odd number of columns)\n",
    "#     pred_df_final = predictions_df.mode('columns')\n",
    "#     pred_df_final.columns = [\"sentiment\"]\n",
    "#     pred_df_final.index.name = \"id\"\n",
    "#     pred_df_final.to_csv(\"submission.csv\")\n",
    "    \n",
    "#     print(\"\\nSuccessfully created the submission file!!!\")\n",
    "    \n",
    "# #     return pipe.cv_results_\n",
    "#     return pred_df_final, estimators"
   ]
  },
  {
   "cell_type": "markdown",
   "id": "71d65e53",
   "metadata": {
    "papermill": {
     "duration": 0.10892,
     "end_time": "2023-08-13T10:45:34.878186",
     "exception": false,
     "start_time": "2023-08-13T10:45:34.769266",
     "status": "completed"
    },
    "tags": []
   },
   "source": [
    "# Use 'submit_v5' function  "
   ]
  },
  {
   "cell_type": "code",
   "execution_count": 127,
   "id": "43bcb7cb",
   "metadata": {
    "execution": {
     "iopub.execute_input": "2023-08-13T10:45:35.101738Z",
     "iopub.status.busy": "2023-08-13T10:45:35.100573Z",
     "iopub.status.idle": "2023-08-13T10:45:35.105744Z",
     "shell.execute_reply": "2023-08-13T10:45:35.104909Z"
    },
    "papermill": {
     "duration": 0.12022,
     "end_time": "2023-08-13T10:45:35.108038",
     "exception": false,
     "start_time": "2023-08-13T10:45:34.987818",
     "status": "completed"
    },
    "tags": []
   },
   "outputs": [],
   "source": [
    "# Try submit_v5 with default settings\n",
    "# submit_v5()"
   ]
  },
  {
   "cell_type": "code",
   "execution_count": 128,
   "id": "ded177bb",
   "metadata": {
    "execution": {
     "iopub.execute_input": "2023-08-13T10:45:35.330006Z",
     "iopub.status.busy": "2023-08-13T10:45:35.329612Z",
     "iopub.status.idle": "2023-08-13T10:52:18.844626Z",
     "shell.execute_reply": "2023-08-13T10:52:18.842642Z"
    },
    "papermill": {
     "duration": 403.821892,
     "end_time": "2023-08-13T10:52:19.040329",
     "exception": false,
     "start_time": "2023-08-13T10:45:35.218437",
     "status": "completed"
    },
    "tags": []
   },
   "outputs": [
    {
     "name": "stdout",
     "output_type": "stream",
     "text": [
      "\n",
      "Running the submit_v5 function...\n",
      "\n",
      "Data preprocessor initiated...\n",
      "\n",
      "Imputer for missing numerical values: simple\n",
      "Imputing missing values. (This could take a while if it is KNNImputer)\n",
      "SimpleImputer(strategy='median')\n",
      "\n",
      "Check 1 (preprocessor) complete.\n",
      "Shape of X_train: (162758, 30)\n",
      "Features in X_train: Index(['movieid', 'reviewerName', 'isFrequentReviewer', 'reviewText',\n",
      "       'sentiment', 'title', 'audienceScore', 'rating', 'ratingContents',\n",
      "       'releaseDateTheaters', 'releaseDateStreaming', 'runtimeMinutes',\n",
      "       'genre', 'originalLanguage', 'director', 'boxOffice', 'distributor',\n",
      "       'soundType', 'reviewYN', 'reviewWC', 'genreSorted', 'rcSorted',\n",
      "       'releaseDate', 'releaseYear', 'releaseMonth', 'releaseDiff',\n",
      "       'audScoreBins', 'runtimeBins', 'boxOfficeBins', 'releaseDiffBins'],\n",
      "      dtype='object')\n",
      "\n",
      "Check 2 (preprocessor) complete.\n",
      "Shape of X_test: (55315, 29)\n",
      "Features in X_test: Index(['movieid', 'reviewerName', 'isFrequentReviewer', 'reviewText', 'title',\n",
      "       'audienceScore', 'rating', 'ratingContents', 'releaseDateTheaters',\n",
      "       'releaseDateStreaming', 'runtimeMinutes', 'genre', 'originalLanguage',\n",
      "       'director', 'boxOffice', 'distributor', 'soundType', 'reviewYN',\n",
      "       'reviewWC', 'genreSorted', 'rcSorted', 'releaseDate', 'releaseYear',\n",
      "       'releaseMonth', 'releaseDiff', 'audScoreBins', 'runtimeBins',\n",
      "       'boxOfficeBins', 'releaseDiffBins'],\n",
      "      dtype='object')\n",
      "\n",
      "Preprocessing of train and test datasets complete.\n",
      "No vocabulary provided/used for this model.\n",
      "\n",
      "Selected features: {'num': ['audienceScore']}\n",
      "No vocabulary based on audienceScore provided/used for this model.\n",
      "\n",
      "Selected features: {'num': ['audienceScore']}\n",
      "\n",
      "Pipeline built successfully.\n",
      "\n",
      "Full GridSearchCV pipeline built successfully.\n",
      "GridSearchCV(cv=10,\n",
      "             estimator=Pipeline(steps=[('ct',\n",
      "                                        ColumnTransformer(transformers=[('num',\n",
      "                                                                         Pipeline(steps=[('robscaler',\n",
      "                                                                                          RobustScaler()),\n",
      "                                                                                         ('stdscaler',\n",
      "                                                                                          StandardScaler())]),\n",
      "                                                                         ['audienceScore'])])),\n",
      "                                       ('model',\n",
      "                                        SGDClassifier(loss='modified_huber',\n",
      "                                                      max_iter=1000000,\n",
      "                                                      n_iter_no_change=1000,\n",
      "                                                      n_jobs=-1,\n",
      "                                                      tol=0.0001))]),\n",
      "             n_jobs=-1, param_grid={'model__alpha': [0.0001]},\n",
      "             scoring='f1_micro')\n",
      "classifier_1 successfully added to 'estimators' list\n",
      "Calling function: 'stacking_clf'\n",
      "\n",
      "Running the stacking_clf function...\n",
      "\n",
      "Number of estimator pipelines provided: 1\n",
      "Features provided are*: ['audienceScore']\n",
      "\n",
      "Successfully created the submission file!!!\n"
     ]
    },
    {
     "data": {
      "text/plain": [
       "(55315, 1)"
      ]
     },
     "execution_count": 128,
     "metadata": {},
     "output_type": "execute_result"
    }
   ],
   "source": [
    "# Testing ONE classfier using submit_v5 function  \n",
    "\n",
    "# Feature dictionaries\n",
    "sfs = {'cat': ['isFrequentReviewer', 'rating'],\n",
    "       'num': [\"audienceScore\", \"runtimeMinutes\", \"boxOffice\", 'releaseDiff']}\n",
    "\n",
    "sf_best = {'cat': ['isFrequentReviewer'],\n",
    "            'num': [\"audienceScore\", \"boxOffice\", 'releaseDiff'],\n",
    "            'txt': ['reviewText', 'reviewerName', 'movieid', 'genre', 'director', \n",
    "                         'ratingContents', 'distributor']}\n",
    "\n",
    "alt_text = {'txt': ['reviewerName', 'movieid', 'genre', 'director', \n",
    "                         'ratingContents', 'distributor']}\n",
    "\n",
    "v88_dict = {'cat': ['isFrequentReviewer', 'audScoreBins', 'boxOfficeBins'],\n",
    "            'num': ['releaseDiff'],\n",
    "            'txt': ['reviewText', 'reviewerName', 'movieid', 'genre', 'director', \n",
    "                         'ratingContents', 'distributor']}\n",
    "\n",
    "# SGDClassifier hyperparameters  \n",
    "# \"model__loss\": ['hinge', 'log_loss', 'modified_huber', \n",
    "#                                                   'squared_hinge', 'perceptron', \n",
    "#                                                   'squared_error', 'huber', \n",
    "#                                                   'epsilon_insensitive', 'squared_epsilon_insensitive']\n",
    "\n",
    "# 'param_grid' : {\"model__alpha\": [0.0001], \n",
    "#                   'model__tol': [0.0001],\n",
    "#                   \"model__penalty\": [\"l2\"],\n",
    "#                   \"model__n_iter_no_change\": [100],\n",
    "#                  }\n",
    "\n",
    "# Best models \n",
    "# For sf_best features\n",
    "#                 {'selected_model' : SGDClassifier(loss='hinge', \n",
    "#                                      max_iter=1000000,\n",
    "#                                      alpha = 0.0001,\n",
    "#                                      tol = 0.0001,\n",
    "#                                      penalty = \"l2\",\n",
    "#                                      n_iter_no_change = 100,\n",
    "#                                      n_jobs = -1), \n",
    "#                   'selected_features' : sf_best, \n",
    "#                   'param_grid' : {\"model__alpha\": [ 0.0001]},\n",
    "#                   'vocab' : True,\n",
    "#                   'vocab_usage' : 'tfidf',\n",
    "#                   'strip_accents' : 'unicode', \n",
    "#                   'add_countvec' : True},\n",
    "\n",
    "# For sfs features\n",
    "#                 {'selected_model' : RandomForestClassifier(n_jobs = -1), \n",
    "#                   'selected_features' : sfs, \n",
    "#                   'param_grid': {'model__n_estimators': [100]},\n",
    "#                   'vocab' : None,\n",
    "#                   'vocab_usage' : 'tfidf',\n",
    "#                   'strip_accents' : 'unicode', \n",
    "#                   'add_countvec' : False}\n",
    "\n",
    "# Best SGD classifer (with params)  \n",
    "sgdc = SGDClassifier(loss='modified_huber', \n",
    "                     max_iter=1000000,\n",
    "                     alpha = 0.0001,\n",
    "                     tol = 0.0001,\n",
    "                     penalty = \"l2\",\n",
    "                     n_iter_no_change = 1000,\n",
    "                     n_jobs = -1)\n",
    "\n",
    "# Classifiers\n",
    "classifiers= [   \n",
    "                {'selected_model' : sgdc, \n",
    "                  'selected_features' : {'num': [\"audienceScore\"]}, \n",
    "                  'param_grid' : {\"model__alpha\": [0.0001]},\n",
    "                  'vocab' : None,\n",
    "                  'vocab_usage' : 'tfidf',\n",
    "                  'strip_accents' : 'unicode', \n",
    "                  'add_countvec' : False,\n",
    "                    'vocab_audscore' : False},\n",
    "            ]\n",
    "\n",
    "# classifiers= [\n",
    "#                 {'selected_model' : LogisticRegression(C=1, solver='saga', max_iter=100000), \n",
    "#                   'selected_features' : {'txt': [\"reviewText\"]}, \n",
    "#                   'param_grid' : {\"model__C\": [1], \n",
    "#                                   'model__solver': ['saga']},\n",
    "#                   'vocab' : None,\n",
    "#                   'vocab_usage' : 'tfidf',\n",
    "#                   'strip_accents' : 'unicode', \n",
    "#                   'add_countvec' : False},\n",
    "#             ]\n",
    "\n",
    "pred_df, estimators = submit_v5(classifiers=classifiers, imputer_type='simple', poly=False, ensemble_type='stacking')\n",
    "\n",
    "pred_df.shape"
   ]
  },
  {
   "cell_type": "code",
   "execution_count": 129,
   "id": "6ae6a3df",
   "metadata": {
    "execution": {
     "iopub.execute_input": "2023-08-13T10:52:19.267301Z",
     "iopub.status.busy": "2023-08-13T10:52:19.266361Z",
     "iopub.status.idle": "2023-08-13T10:52:19.275206Z",
     "shell.execute_reply": "2023-08-13T10:52:19.274164Z"
    },
    "papermill": {
     "duration": 0.124765,
     "end_time": "2023-08-13T10:52:19.277472",
     "exception": false,
     "start_time": "2023-08-13T10:52:19.152707",
     "status": "completed"
    },
    "tags": []
   },
   "outputs": [
    {
     "name": "stdout",
     "output_type": "stream",
     "text": [
      "(55315, 1)\n",
      "   sentiment\n",
      "id          \n",
      "0   POSITIVE\n",
      "1   POSITIVE\n",
      "2   POSITIVE\n",
      "3   POSITIVE\n",
      "4   POSITIVE\n"
     ]
    }
   ],
   "source": [
    "print(pred_df.shape)\n",
    "print(pred_df.head())"
   ]
  },
  {
   "cell_type": "code",
   "execution_count": 130,
   "id": "0b00262a",
   "metadata": {
    "execution": {
     "iopub.execute_input": "2023-08-13T10:52:19.507135Z",
     "iopub.status.busy": "2023-08-13T10:52:19.506367Z",
     "iopub.status.idle": "2023-08-13T10:52:19.510653Z",
     "shell.execute_reply": "2023-08-13T10:52:19.509782Z"
    },
    "papermill": {
     "duration": 0.122487,
     "end_time": "2023-08-13T10:52:19.512780",
     "exception": false,
     "start_time": "2023-08-13T10:52:19.390293",
     "status": "completed"
    },
    "tags": []
   },
   "outputs": [],
   "source": [
    "# estimators"
   ]
  },
  {
   "cell_type": "code",
   "execution_count": 131,
   "id": "84192d39",
   "metadata": {
    "execution": {
     "iopub.execute_input": "2023-08-13T10:52:19.736306Z",
     "iopub.status.busy": "2023-08-13T10:52:19.735531Z",
     "iopub.status.idle": "2023-08-13T10:52:19.739687Z",
     "shell.execute_reply": "2023-08-13T10:52:19.738936Z"
    },
    "papermill": {
     "duration": 0.118573,
     "end_time": "2023-08-13T10:52:19.741906",
     "exception": false,
     "start_time": "2023-08-13T10:52:19.623333",
     "status": "completed"
    },
    "tags": []
   },
   "outputs": [],
   "source": [
    "# print(f\"Number of estimators: {len(estimators)}\\n\")\n",
    "# for est in estimators:\n",
    "#     print(f\"Estimator: {est[0]}\")\n",
    "# #     print(est[1].best_estimator_)\n",
    "#     print(est[1].best_params_)\n",
    "#     print(est[1].best_score_)\n",
    "#     print(est[1].refit_time_)\n",
    "#     print()"
   ]
  },
  {
   "cell_type": "code",
   "execution_count": 132,
   "id": "718af34c",
   "metadata": {
    "execution": {
     "iopub.execute_input": "2023-08-13T10:52:19.967018Z",
     "iopub.status.busy": "2023-08-13T10:52:19.966579Z",
     "iopub.status.idle": "2023-08-13T10:52:19.973207Z",
     "shell.execute_reply": "2023-08-13T10:52:19.972196Z"
    },
    "papermill": {
     "duration": 0.122298,
     "end_time": "2023-08-13T10:52:19.975443",
     "exception": false,
     "start_time": "2023-08-13T10:52:19.853145",
     "status": "completed"
    },
    "tags": []
   },
   "outputs": [],
   "source": [
    "# Testing full capabilites of submit_v5  \n",
    "\n",
    "# # Feature dictionaries\n",
    "# sf1 = {'cat': ['isFrequentReviewer', 'rating'],\n",
    "#        'num': [\"audienceScore\", \"runtimeMinutes\", \"boxOffice\"]}\n",
    "\n",
    "# sf2 = {'cat': ['isFrequentReviewer', 'rating'],\n",
    "#        'num': [\"audienceScore\", \"runtimeMinutes\", \"boxOffice\"]}\n",
    "\n",
    "# sf3 = {'cat': ['isFrequentReviewer'],\n",
    "#         'num': ['releaseDiff', 'audienceScore', 'boxOffice'],\n",
    "#         'txt': ['reviewText', 'reviewerName', 'movieid', 'genre', 'director', \n",
    "#                          'ratingContents', 'distributor']}\n",
    "\n",
    "# # Individual classifiers\n",
    "# clf1 =  {'selected_model' : AdaBoostClassifier(), \n",
    "#           'selected_features' : sf1, \n",
    "#           'param_grid' : {\"model__n_estimators\": [50]},\n",
    "#           'vocab' : None,\n",
    "#           'vocab_usage' : 'tfidf',\n",
    "#           'strip_accents' : 'unicode', \n",
    "#           'add_countvec' : False}\n",
    "\n",
    "# clf2 =  {'selected_model' : RandomForestClassifier(), \n",
    "#           'selected_features' : sf2,\n",
    "#           'param_grid' : {\"model__n_estimators\": [50], \n",
    "#                           'model__criterion': ['gini']},\n",
    "#           'vocab' : None,\n",
    "#           'vocab_usage' : 'tfidf',\n",
    "#           'strip_accents' : 'unicode', \n",
    "#           'add_countvec' : False}\n",
    "\n",
    "# clf3 =  {'selected_model' : LogisticRegression(C=1, solver='saga', max_iter=100000), \n",
    "#           'selected_features' : sf3, \n",
    "#           'param_grid' : {'model__C' : [1],\n",
    "#                             'model__solver': ['saga'],\n",
    "#                             \"model__fit_intercept\" : [True],\n",
    "#                             \"model__dual\" : [False]},\n",
    "#           'vocab' : None,\n",
    "#           'vocab_usage' : 'tfidf',\n",
    "#           'strip_accents' : 'unicode', \n",
    "#           'add_countvec' : True}\n",
    "\n",
    "\n",
    "# # List of classifiers for voting\n",
    "# classifiers= [clf1, clf2, clf3]\n",
    "\n",
    "# # Final predictions \n",
    "# pred_df = submit_v5(classifiers=classifiers)"
   ]
  },
  {
   "cell_type": "code",
   "execution_count": 133,
   "id": "a856c3cd",
   "metadata": {
    "execution": {
     "iopub.execute_input": "2023-08-13T10:52:20.202969Z",
     "iopub.status.busy": "2023-08-13T10:52:20.201667Z",
     "iopub.status.idle": "2023-08-13T10:52:20.215534Z",
     "shell.execute_reply": "2023-08-13T10:52:20.214312Z"
    },
    "papermill": {
     "duration": 0.130202,
     "end_time": "2023-08-13T10:52:20.217889",
     "exception": false,
     "start_time": "2023-08-13T10:52:20.087687",
     "status": "completed"
    },
    "tags": []
   },
   "outputs": [
    {
     "name": "stdout",
     "output_type": "stream",
     "text": [
      "(55315, 1)\n"
     ]
    },
    {
     "data": {
      "text/html": [
       "<div>\n",
       "<style scoped>\n",
       "    .dataframe tbody tr th:only-of-type {\n",
       "        vertical-align: middle;\n",
       "    }\n",
       "\n",
       "    .dataframe tbody tr th {\n",
       "        vertical-align: top;\n",
       "    }\n",
       "\n",
       "    .dataframe thead th {\n",
       "        text-align: right;\n",
       "    }\n",
       "</style>\n",
       "<table border=\"1\" class=\"dataframe\">\n",
       "  <thead>\n",
       "    <tr style=\"text-align: right;\">\n",
       "      <th></th>\n",
       "      <th>sentiment</th>\n",
       "    </tr>\n",
       "    <tr>\n",
       "      <th>id</th>\n",
       "      <th></th>\n",
       "    </tr>\n",
       "  </thead>\n",
       "  <tbody>\n",
       "    <tr>\n",
       "      <th>0</th>\n",
       "      <td>POSITIVE</td>\n",
       "    </tr>\n",
       "    <tr>\n",
       "      <th>1</th>\n",
       "      <td>POSITIVE</td>\n",
       "    </tr>\n",
       "    <tr>\n",
       "      <th>2</th>\n",
       "      <td>POSITIVE</td>\n",
       "    </tr>\n",
       "    <tr>\n",
       "      <th>3</th>\n",
       "      <td>POSITIVE</td>\n",
       "    </tr>\n",
       "    <tr>\n",
       "      <th>4</th>\n",
       "      <td>POSITIVE</td>\n",
       "    </tr>\n",
       "    <tr>\n",
       "      <th>...</th>\n",
       "      <td>...</td>\n",
       "    </tr>\n",
       "    <tr>\n",
       "      <th>55310</th>\n",
       "      <td>NEGATIVE</td>\n",
       "    </tr>\n",
       "    <tr>\n",
       "      <th>55311</th>\n",
       "      <td>POSITIVE</td>\n",
       "    </tr>\n",
       "    <tr>\n",
       "      <th>55312</th>\n",
       "      <td>POSITIVE</td>\n",
       "    </tr>\n",
       "    <tr>\n",
       "      <th>55313</th>\n",
       "      <td>POSITIVE</td>\n",
       "    </tr>\n",
       "    <tr>\n",
       "      <th>55314</th>\n",
       "      <td>POSITIVE</td>\n",
       "    </tr>\n",
       "  </tbody>\n",
       "</table>\n",
       "<p>55315 rows × 1 columns</p>\n",
       "</div>"
      ],
      "text/plain": [
       "      sentiment\n",
       "id             \n",
       "0      POSITIVE\n",
       "1      POSITIVE\n",
       "2      POSITIVE\n",
       "3      POSITIVE\n",
       "4      POSITIVE\n",
       "...         ...\n",
       "55310  NEGATIVE\n",
       "55311  POSITIVE\n",
       "55312  POSITIVE\n",
       "55313  POSITIVE\n",
       "55314  POSITIVE\n",
       "\n",
       "[55315 rows x 1 columns]"
      ]
     },
     "execution_count": 133,
     "metadata": {},
     "output_type": "execute_result"
    }
   ],
   "source": [
    "print(pred_df.shape)\n",
    "pred_df"
   ]
  },
  {
   "cell_type": "code",
   "execution_count": 134,
   "id": "41bb08f8",
   "metadata": {
    "execution": {
     "iopub.execute_input": "2023-08-13T10:52:20.447098Z",
     "iopub.status.busy": "2023-08-13T10:52:20.446576Z",
     "iopub.status.idle": "2023-08-13T10:52:20.451572Z",
     "shell.execute_reply": "2023-08-13T10:52:20.450467Z"
    },
    "papermill": {
     "duration": 0.125009,
     "end_time": "2023-08-13T10:52:20.453771",
     "exception": false,
     "start_time": "2023-08-13T10:52:20.328762",
     "status": "completed"
    },
    "tags": []
   },
   "outputs": [],
   "source": [
    "# pred_df_mode = pred_df.mode(axis='columns')\n",
    "# print(pred_df_mode.shape)\n",
    "# pred_df_mode"
   ]
  },
  {
   "cell_type": "code",
   "execution_count": 135,
   "id": "375ce7ca",
   "metadata": {
    "execution": {
     "iopub.execute_input": "2023-08-13T10:52:20.678017Z",
     "iopub.status.busy": "2023-08-13T10:52:20.677204Z",
     "iopub.status.idle": "2023-08-13T10:52:20.695304Z",
     "shell.execute_reply": "2023-08-13T10:52:20.693958Z"
    },
    "papermill": {
     "duration": 0.133702,
     "end_time": "2023-08-13T10:52:20.697900",
     "exception": false,
     "start_time": "2023-08-13T10:52:20.564198",
     "status": "completed"
    },
    "tags": []
   },
   "outputs": [
    {
     "data": {
      "text/plain": [
       "sentiment\n",
       "POSITIVE     47116\n",
       "NEGATIVE      8199\n",
       "dtype: int64"
      ]
     },
     "execution_count": 135,
     "metadata": {},
     "output_type": "execute_result"
    }
   ],
   "source": [
    "pred_df.value_counts()"
   ]
  },
  {
   "cell_type": "markdown",
   "id": "55a3e5c5",
   "metadata": {
    "papermill": {
     "duration": 0.111008,
     "end_time": "2023-08-13T10:52:20.918998",
     "exception": false,
     "start_time": "2023-08-13T10:52:20.807990",
     "status": "completed"
    },
    "tags": []
   },
   "source": [
    "# NOTE: Move submit_v4 submissions below the suubmit_v4 function  "
   ]
  },
  {
   "cell_type": "code",
   "execution_count": 136,
   "id": "0922c476",
   "metadata": {
    "execution": {
     "iopub.execute_input": "2023-08-13T10:52:21.145005Z",
     "iopub.status.busy": "2023-08-13T10:52:21.143621Z",
     "iopub.status.idle": "2023-08-13T10:52:21.149062Z",
     "shell.execute_reply": "2023-08-13T10:52:21.148156Z"
    },
    "papermill": {
     "duration": 0.119621,
     "end_time": "2023-08-13T10:52:21.151659",
     "exception": false,
     "start_time": "2023-08-13T10:52:21.032038",
     "status": "completed"
    },
    "tags": []
   },
   "outputs": [],
   "source": [
    "# Try 'submit_v4' function with default params (LogisticRegression model)  \n",
    "\n",
    "# submit_v4()\n",
    "\n",
    "#Default params to this function gave a score of 0.8259 - improvement over previous score of 0.82563!"
   ]
  },
  {
   "cell_type": "code",
   "execution_count": 137,
   "id": "66f75588",
   "metadata": {
    "execution": {
     "iopub.execute_input": "2023-08-13T10:52:21.377614Z",
     "iopub.status.busy": "2023-08-13T10:52:21.377132Z",
     "iopub.status.idle": "2023-08-13T10:52:21.382526Z",
     "shell.execute_reply": "2023-08-13T10:52:21.381191Z"
    },
    "papermill": {
     "duration": 0.120082,
     "end_time": "2023-08-13T10:52:21.384704",
     "exception": false,
     "start_time": "2023-08-13T10:52:21.264622",
     "status": "completed"
    },
    "tags": []
   },
   "outputs": [],
   "source": [
    "# Try out GridSearchCV on \"submit_v4\" function with param_grid  \n",
    "# param_grid = {\n",
    "#     \"model__C\": [0.1, 1, 5, 10]\n",
    "# }\n",
    "\n",
    "# submit_v4(selected_features={'txt': ['genre']}, param_grid=param_grid)"
   ]
  },
  {
   "cell_type": "markdown",
   "id": "d739efea",
   "metadata": {
    "papermill": {
     "duration": 0.110004,
     "end_time": "2023-08-13T10:52:21.607358",
     "exception": false,
     "start_time": "2023-08-13T10:52:21.497354",
     "status": "completed"
    },
    "tags": []
   },
   "source": [
    "### Try LinearSVC with GridSearchCV  "
   ]
  },
  {
   "cell_type": "code",
   "execution_count": 138,
   "id": "a48adb82",
   "metadata": {
    "execution": {
     "iopub.execute_input": "2023-08-13T10:52:21.831062Z",
     "iopub.status.busy": "2023-08-13T10:52:21.830505Z",
     "iopub.status.idle": "2023-08-13T10:52:21.835953Z",
     "shell.execute_reply": "2023-08-13T10:52:21.834832Z"
    },
    "papermill": {
     "duration": 0.120234,
     "end_time": "2023-08-13T10:52:21.838198",
     "exception": false,
     "start_time": "2023-08-13T10:52:21.717964",
     "status": "completed"
    },
    "tags": []
   },
   "outputs": [],
   "source": [
    "# all_dict = {'cat': [\"isFrequentReviewer\", \"rating\", \"originalLanguage\"],\n",
    "#              'num': [\"audienceScore\", \"runtimeMinutes\", \"boxOffice\"],\n",
    "#              'txt': ['reviewText', 'reviewerName', 'movieid', 'genre', 'director']}\n",
    "\n",
    "# param_grid_svc = {\n",
    "#     \"model__C\": [0.1, 1, 10, 100]\n",
    "# }\n",
    "# param_grid_svc"
   ]
  },
  {
   "cell_type": "code",
   "execution_count": 139,
   "id": "5c6e5d45",
   "metadata": {
    "execution": {
     "iopub.execute_input": "2023-08-13T10:52:22.082752Z",
     "iopub.status.busy": "2023-08-13T10:52:22.081068Z",
     "iopub.status.idle": "2023-08-13T10:52:22.088606Z",
     "shell.execute_reply": "2023-08-13T10:52:22.087226Z"
    },
    "papermill": {
     "duration": 0.139528,
     "end_time": "2023-08-13T10:52:22.091602",
     "exception": false,
     "start_time": "2023-08-13T10:52:21.952074",
     "status": "completed"
    },
    "tags": []
   },
   "outputs": [],
   "source": [
    "# LinearSCV on single feature  \n",
    "\n",
    "# submit_v4(selected_model=LinearSVC(max_iter=100000, random_state=42), selected_features={'num': [\"audienceScore\"]}, param_grid=param_grid_svc)\n",
    "\n",
    "# Comment: LinearSVC even on single column feature set takes too long to converge."
   ]
  },
  {
   "cell_type": "code",
   "execution_count": 140,
   "id": "c614ef05",
   "metadata": {
    "execution": {
     "iopub.execute_input": "2023-08-13T10:52:22.331674Z",
     "iopub.status.busy": "2023-08-13T10:52:22.330985Z",
     "iopub.status.idle": "2023-08-13T10:52:22.335702Z",
     "shell.execute_reply": "2023-08-13T10:52:22.334536Z"
    },
    "papermill": {
     "duration": 0.124778,
     "end_time": "2023-08-13T10:52:22.338624",
     "exception": false,
     "start_time": "2023-08-13T10:52:22.213846",
     "status": "completed"
    },
    "tags": []
   },
   "outputs": [],
   "source": [
    "# LinearSCV on all available features\n",
    "\n",
    "# submit_v4(selected_model=LinearSVC(max_iter=100000, random_state=42), selected_features=all_dict, param_grid=param_grid_svc)\n",
    "\n",
    "# (Update): This took 66 mins to run and gave a public score of 0.84295 (lesser than logreg gridsearchcv wwhich gave 0.84441). Best C was 1.0.\n"
   ]
  },
  {
   "cell_type": "markdown",
   "id": "89e9177b",
   "metadata": {
    "papermill": {
     "duration": 0.109483,
     "end_time": "2023-08-13T10:52:22.562219",
     "exception": false,
     "start_time": "2023-08-13T10:52:22.452736",
     "status": "completed"
    },
    "tags": []
   },
   "source": [
    "### Boosting techniques  "
   ]
  },
  {
   "cell_type": "code",
   "execution_count": 141,
   "id": "ae80b2d5",
   "metadata": {
    "execution": {
     "iopub.execute_input": "2023-08-13T10:52:22.786729Z",
     "iopub.status.busy": "2023-08-13T10:52:22.786030Z",
     "iopub.status.idle": "2023-08-13T10:52:22.790520Z",
     "shell.execute_reply": "2023-08-13T10:52:22.789746Z"
    },
    "papermill": {
     "duration": 0.11994,
     "end_time": "2023-08-13T10:52:22.792776",
     "exception": false,
     "start_time": "2023-08-13T10:52:22.672836",
     "status": "completed"
    },
    "tags": []
   },
   "outputs": [],
   "source": [
    "# adc = AdaBoostClassifier(estimator=LogisticRegression(C=5, solver=\"saga\", max_iter=100000), n_estimators=50)\n",
    "# adc"
   ]
  },
  {
   "cell_type": "code",
   "execution_count": 142,
   "id": "c73e8677",
   "metadata": {
    "execution": {
     "iopub.execute_input": "2023-08-13T10:52:23.018621Z",
     "iopub.status.busy": "2023-08-13T10:52:23.017825Z",
     "iopub.status.idle": "2023-08-13T10:52:23.022502Z",
     "shell.execute_reply": "2023-08-13T10:52:23.021727Z"
    },
    "papermill": {
     "duration": 0.121679,
     "end_time": "2023-08-13T10:52:23.024726",
     "exception": false,
     "start_time": "2023-08-13T10:52:22.903047",
     "status": "completed"
    },
    "tags": []
   },
   "outputs": [],
   "source": [
    "# submit_v4(selected_model=adc, selected_features={'num': [\"audienceScore\"]}, param_grid=None)"
   ]
  },
  {
   "cell_type": "code",
   "execution_count": 143,
   "id": "f3dc96e1",
   "metadata": {
    "execution": {
     "iopub.execute_input": "2023-08-13T10:52:23.316647Z",
     "iopub.status.busy": "2023-08-13T10:52:23.316048Z",
     "iopub.status.idle": "2023-08-13T10:52:23.320466Z",
     "shell.execute_reply": "2023-08-13T10:52:23.319633Z"
    },
    "papermill": {
     "duration": 0.186138,
     "end_time": "2023-08-13T10:52:23.322740",
     "exception": false,
     "start_time": "2023-08-13T10:52:23.136602",
     "status": "completed"
    },
    "tags": []
   },
   "outputs": [],
   "source": [
    "# submit_v4(selected_model=adc, selected_features=all_dict, param_grid=None)\n",
    "\n",
    "# Took 1 hour 15 mins to run and gave a public score of only 0.71089. Discarded."
   ]
  },
  {
   "cell_type": "markdown",
   "id": "4bd2f88f",
   "metadata": {
    "papermill": {
     "duration": 0.110771,
     "end_time": "2023-08-13T10:52:23.544799",
     "exception": false,
     "start_time": "2023-08-13T10:52:23.434028",
     "status": "completed"
    },
    "tags": []
   },
   "source": [
    "### LightGBM  "
   ]
  },
  {
   "cell_type": "code",
   "execution_count": 144,
   "id": "1b8b5497",
   "metadata": {
    "execution": {
     "iopub.execute_input": "2023-08-13T10:52:23.772143Z",
     "iopub.status.busy": "2023-08-13T10:52:23.771627Z",
     "iopub.status.idle": "2023-08-13T10:52:23.776990Z",
     "shell.execute_reply": "2023-08-13T10:52:23.775647Z"
    },
    "papermill": {
     "duration": 0.120185,
     "end_time": "2023-08-13T10:52:23.779588",
     "exception": false,
     "start_time": "2023-08-13T10:52:23.659403",
     "status": "completed"
    },
    "tags": []
   },
   "outputs": [],
   "source": [
    "# lgb = ltb.LGBMClassifier()\n",
    "# lgb"
   ]
  },
  {
   "cell_type": "code",
   "execution_count": 145,
   "id": "4d825771",
   "metadata": {
    "execution": {
     "iopub.execute_input": "2023-08-13T10:52:24.003128Z",
     "iopub.status.busy": "2023-08-13T10:52:24.002624Z",
     "iopub.status.idle": "2023-08-13T10:52:24.008336Z",
     "shell.execute_reply": "2023-08-13T10:52:24.007129Z"
    },
    "papermill": {
     "duration": 0.120406,
     "end_time": "2023-08-13T10:52:24.010708",
     "exception": false,
     "start_time": "2023-08-13T10:52:23.890302",
     "status": "completed"
    },
    "tags": []
   },
   "outputs": [],
   "source": [
    "# Try LightGBM with default settings\n",
    "# (Update): Public score only 0.77713. It was fast, took less than 5 mins (without GridSearchCV)\n",
    "\n",
    "# submit_v4(selected_model=ltb.LGBMClassifier(), selected_features=all_dict, param_grid=None)"
   ]
  },
  {
   "cell_type": "markdown",
   "id": "373c92e3",
   "metadata": {
    "papermill": {
     "duration": 0.109713,
     "end_time": "2023-08-13T10:52:24.232062",
     "exception": false,
     "start_time": "2023-08-13T10:52:24.122349",
     "status": "completed"
    },
    "tags": []
   },
   "source": [
    "## Feature Engineering"
   ]
  },
  {
   "cell_type": "markdown",
   "id": "f4c5602a",
   "metadata": {
    "papermill": {
     "duration": 0.111447,
     "end_time": "2023-08-13T10:52:24.453138",
     "exception": false,
     "start_time": "2023-08-13T10:52:24.341691",
     "status": "completed"
    },
    "tags": []
   },
   "source": [
    "### Plan  \n",
    "* Add a new column 'reviewWC' which has word count of 'reviewText'  \n",
    "    * Check if there is any relationship between 'reviewWC' and 'sentiment'\n",
    "* Work on vocabulary\n",
    "     * Use TfidfVectorizer and find out the vocabulary of 'reviewText' column for various ngrams\n",
    "     * Use RecursiveFeatureElimination (RFE) or RFECV to select 1000 top words/vocab for each ngram\n",
    "     * Use the final vocab (1000-3000 words) in the model and see how it performs compared to whole vocab\n",
    "\n",
    "`(Update): Code incorporated into the \"select_features\" function  `  \n",
    "`(Update): Many other new features incorporated into the \"select_features\" function too  `  \n",
    "\n"
   ]
  },
  {
   "cell_type": "markdown",
   "id": "88ad5c70",
   "metadata": {
    "papermill": {
     "duration": 0.109988,
     "end_time": "2023-08-13T10:52:24.673802",
     "exception": false,
     "start_time": "2023-08-13T10:52:24.563814",
     "status": "completed"
    },
    "tags": []
   },
   "source": [
    "# Back to vocab after success of version 63  "
   ]
  },
  {
   "cell_type": "code",
   "execution_count": 146,
   "id": "06e8cc0b",
   "metadata": {
    "execution": {
     "iopub.execute_input": "2023-08-13T10:52:24.899973Z",
     "iopub.status.busy": "2023-08-13T10:52:24.899095Z",
     "iopub.status.idle": "2023-08-13T10:52:24.923819Z",
     "shell.execute_reply": "2023-08-13T10:52:24.922521Z"
    },
    "papermill": {
     "duration": 0.140894,
     "end_time": "2023-08-13T10:52:24.926776",
     "exception": false,
     "start_time": "2023-08-13T10:52:24.785882",
     "status": "completed"
    },
    "tags": []
   },
   "outputs": [],
   "source": [
    "def submit_v4(selected_model=LogisticRegression(C=1, solver='liblinear', max_iter=100000), \n",
    "              selected_features={'txt': ['reviewText']}, \n",
    "              param_grid=None,\n",
    "              vocab=None,\n",
    "              vocab_usage='tfidf',\n",
    "              strip_accents='unicode', \n",
    "              add_countvec=False):\n",
    "    \n",
    "    print(\"\\nRunning the submit_v4 function...\")\n",
    "    \n",
    "    # Fine tune selected_features\n",
    "    if add_countvec:\n",
    "        if 'txt' in selected_features.keys():\n",
    "            if \"reviewText_2\" not in selected_features['txt']:\n",
    "                selected_features['txt'].append('reviewText_2')\n",
    "    if vocab:\n",
    "        if 'txt' in selected_features.keys():\n",
    "            if \"reviewText_3\" not in selected_features['txt']:\n",
    "                selected_features['txt'].append('reviewText_3')\n",
    "    print(f\"\\nSelected features: {selected_features}\")\n",
    "\n",
    "    \n",
    "    \n",
    "    # Build Pipeline\n",
    "    pipe = build_pipeline(selected_model, selected_features, param_grid=param_grid, \n",
    "                          vocab=vocab, vocab_usage='tfidf', \n",
    "                          strip_accents=strip_accents, add_countvec=add_countvec)\n",
    "    print(pipe)\n",
    "\n",
    "    \n",
    "    \n",
    "    # Features list\n",
    "    features = []\n",
    "    for item in selected_features.values():\n",
    "        features.extend(item)\n",
    " \n",
    "\n",
    "    # Merge and preprocess train and movies data  \n",
    "    merged = select_features(load_csv(\"train\"), load_csv(\"movies\"), row_thresh_null=None)    # Decide if you want to drop any rows containing lot of nulls\n",
    "    # Impute missing numerical values  \n",
    "    # Simple Imputer for ['audienceScore', 'runtimeMinutes', 'boxOffice'] and 'releaseDate' columns\n",
    "    si = SimpleImputer(strategy='median')\n",
    "    merged[['audienceScore', 'runtimeMinutes', 'boxOffice']] = si.fit_transform(merged[['audienceScore', 'runtimeMinutes', 'boxOffice']])\n",
    "    merged['releaseDate'] = merged[\"releaseDate\"].fillna(merged[\"releaseDate\"].median())    \n",
    "    # Add new columns as needed  \n",
    "    if add_countvec:\n",
    "        merged['reviewText_2'] = merged['reviewText']\n",
    "    if vocab:\n",
    "        merged['reviewText_3'] = merged['reviewText']\n",
    "        \n",
    "    X_train = merged.drop(labels=\"sentiment\", axis=1)\n",
    "    y_train = merged[\"sentiment\"]\n",
    "\n",
    "    X_train = X_train[features]\n",
    "    \n",
    "    \n",
    "    # Check1\n",
    "    print(\"\\nCheck 1 complete.\")\n",
    "    print(f\"Shape of X_train: {X_train.shape}\")\n",
    "    print(f\"Features in X_train: {X_train.columns}\")\n",
    "#     print(X_train.head())\n",
    "    \n",
    "    \n",
    "    # Fit \n",
    "    print(\"\\nTraining started with full pipeline...\")\n",
    "    pipe.fit(X_train, y_train)\n",
    "    \n",
    "    # Check2\n",
    "    print(\"\\nCheck 2 complete.\")\n",
    "    print(\"Details of the best model using full pipeline (GridSearchCV) on X_train: \")\n",
    "    print(f\"Best Params: {pipe.best_params_}\")\n",
    "    print(f\"Best Score: {pipe.best_score_}\")\n",
    "    \n",
    "    print(predict_on_missing_review_data(pipe, features, merged))    # Function defined above\n",
    "    \n",
    "        \n",
    "    # Predict on test.csv file\n",
    "    \n",
    "    # Merge and preprocess test and movies data  \n",
    "    merged_test = select_features(load_csv(\"test\"), load_csv(\"movies\"))\n",
    "    # Transform ['audienceScore', 'runtimeMinutes', 'boxOffice'] columns in merged_test using 'si' fitted on 'merged' df  \n",
    "    merged_test[['audienceScore', 'runtimeMinutes', 'boxOffice']] = si.transform(merged_test[['audienceScore', 'runtimeMinutes', 'boxOffice']])\n",
    "    # Fill 'releaseDate' column in 'merged_test' df with median from the train (merged) df  \n",
    "    merged_test['releaseDate'] = merged_test[\"releaseDate\"].fillna(merged[\"releaseDate\"].median())\n",
    "    # Add new columns as needed \n",
    "    if add_countvec:\n",
    "        merged_test['reviewText_2'] = merged_test['reviewText']\n",
    "    if vocab:\n",
    "        merged_test['reviewText_3'] = merged_test['reviewText']\n",
    "        \n",
    "    X_test = merged_test.copy()\n",
    "\n",
    "    X_test = X_test[features]\n",
    "    \n",
    "    \n",
    "    # Check3\n",
    "    print(\"\\nCheck 3 complete.\")\n",
    "    print(f\"Shape of X_test: {X_test.shape}\")\n",
    "    print(f\"Features in X_test: {X_test.columns}\")\n",
    "#     print(X_test.head())\n",
    "    \n",
    "    y_pred = pipe.predict(X_test)\n",
    "    \n",
    "    # Check4\n",
    "    print(\"\\nCheck 4 complete.\")\n",
    "#     cv_results_df = pd.DataFrame(pipe.cv_results_)\n",
    "    print(\"Details of the best model using full pipeline (GridSearchCV) on X_train: \")\n",
    "    print(f\"Best Estimator: {pipe.best_estimator_}\")\n",
    "    print(f\"Best Params: {pipe.best_params_}\")\n",
    "    print(f\"Best Score: {pipe.best_score_}\")\n",
    "    print(f\"Best Index: {pipe.best_index_}\")\n",
    "    print(f\"Refit Time: {pipe.refit_time_}\")\n",
    "#     print(f\"Shape of CV results dataframe: {cv_results_df.shape}\")\n",
    "    \n",
    "    pred_df = pd.DataFrame(y_pred)\n",
    "    pred_df.columns = [\"sentiment\"]\n",
    "    pred_df.index.name = \"id\"\n",
    "    pred_df.to_csv(\"submission.csv\")\n",
    "    \n",
    "    print(\"\\nSuccessfully created the submission file!!!\")\n",
    "    \n",
    "    return pipe.cv_results_"
   ]
  },
  {
   "cell_type": "code",
   "execution_count": 147,
   "id": "bf44a256",
   "metadata": {
    "execution": {
     "iopub.execute_input": "2023-08-13T10:52:25.152667Z",
     "iopub.status.busy": "2023-08-13T10:52:25.151891Z",
     "iopub.status.idle": "2023-08-13T10:52:25.158870Z",
     "shell.execute_reply": "2023-08-13T10:52:25.158034Z"
    },
    "papermill": {
     "duration": 0.122184,
     "end_time": "2023-08-13T10:52:25.161173",
     "exception": false,
     "start_time": "2023-08-13T10:52:25.038989",
     "status": "completed"
    },
    "tags": []
   },
   "outputs": [
    {
     "data": {
      "text/plain": [
       "Index(['movieid', 'reviewerName', 'isFrequentReviewer', 'reviewText',\n",
       "       'sentiment', 'title', 'audienceScore', 'rating', 'ratingContents',\n",
       "       'releaseDateTheaters', 'releaseDateStreaming', 'runtimeMinutes',\n",
       "       'genre', 'originalLanguage', 'director', 'boxOffice', 'distributor',\n",
       "       'soundType', 'reviewYN', 'reviewWC', 'genreSorted', 'rcSorted',\n",
       "       'releaseDate', 'releaseYear', 'releaseMonth', 'releaseDiff'],\n",
       "      dtype='object')"
      ]
     },
     "execution_count": 147,
     "metadata": {},
     "output_type": "execute_result"
    }
   ],
   "source": [
    "merged.columns"
   ]
  },
  {
   "cell_type": "code",
   "execution_count": 148,
   "id": "9326511c",
   "metadata": {
    "execution": {
     "iopub.execute_input": "2023-08-13T10:52:25.388634Z",
     "iopub.status.busy": "2023-08-13T10:52:25.387852Z",
     "iopub.status.idle": "2023-08-13T10:52:25.399218Z",
     "shell.execute_reply": "2023-08-13T10:52:25.397995Z"
    },
    "papermill": {
     "duration": 0.127406,
     "end_time": "2023-08-13T10:52:25.402106",
     "exception": false,
     "start_time": "2023-08-13T10:52:25.274700",
     "status": "completed"
    },
    "tags": []
   },
   "outputs": [],
   "source": [
    "# Best #2\n",
    "v80_dict = {'cat': ['isFrequentReviewer', 'audScoreBins', 'boxOfficeBins'], \n",
    "                  'txt': ['reviewText', 'reviewerName', 'movieid', 'genre', 'director', \n",
    "                          'ratingContents', 'distributor']}\n",
    "# Best #1\n",
    "v88_dict = {'cat': ['isFrequentReviewer', 'audScoreBins', 'boxOfficeBins'],\n",
    "            'num': ['releaseDiff'],\n",
    "            'txt': ['reviewText', 'reviewerName', 'movieid', 'genre', 'director', \n",
    "                         'ratingContents', 'distributor']}\n",
    "\n",
    "v92_dict = {'cat': ['isFrequentReviewer', 'audScoreBins', 'boxOfficeBins', 'releaseDiffBins'],\n",
    "            'txt': ['reviewText', 'reviewerName', 'title', 'genre', 'director', \n",
    "                         'ratingContents', 'distributor']}\n",
    "\n",
    "# Best univariable datapoints dict\n",
    "best_uni_dict = {'cat': [\"isFrequentReviewer\", \"audScoreBins\"],\n",
    "                 'txt': ['reviewText','movieid', 'director', \"ratingContents\"]}\n",
    "\n",
    "# param_grids for LogisticRegression  \n",
    "\n",
    "# Best #1  \n",
    "# param_grid = {\n",
    "#     'model__C' : [1],\n",
    "#     'model__solver': ['saga'],\n",
    "#     \"model__fit_intercept\" : [True],\n",
    "#     \"model__dual\" : [False]\n",
    "#     }\n",
    "\n",
    "# working\n",
    "param_grid = {\n",
    "    'model__C' : [1],\n",
    "    'model__solver': ['saga'],\n",
    "    \"model__fit_intercept\" : [True],\n",
    "    \"model__dual\" : [False],\n",
    "#     \"model__class_weight\": ['balanced', None]\n",
    "}\n",
    "\n",
    "\n",
    "# param_grids for LinearSVC  \n",
    "\n",
    "# param_grid = {\n",
    "#     'model__C' : [1, 10, 20],\n",
    "#     'model__loss': ['hinge', 'squared_hinge'],\n",
    "#     \"model__fit_intercept\" : [True, False],\n",
    "# #     \"model__dual\" : [True, False] \n",
    "# }\n",
    "\n",
    "svm = LinearSVC(max_iter=10000, random_state=42)    # LinearSVC\n",
    "\n",
    "\n",
    "# Local testing\n",
    "# selected_mov = {'num': ['audienceScore', 'boxOffice', 'releaseDiff'], \n",
    "#                 'txt': ['movieid', 'genre', 'director', \n",
    "#                          'ratingContents', 'distributor']}\n",
    "# results = submit_v4(\n",
    "#             selected_features={'num': ['boxOffice']},\n",
    "#             add_countvec=False,\n",
    "#             vocab=None,\n",
    "#             vocab_usage='tfidf',\n",
    "#             param_grid=param_grid\n",
    "#          )\n",
    "\n",
    "# results = submit_v4(selected_model = DummyClassifier(strategy='constant', constant='NEGATIVE'),\n",
    "#             selected_features={'num': ['boxOffice']},\n",
    "#             add_countvec=False,\n",
    "#             vocab=None,\n",
    "#             vocab_usage='tfidf',\n",
    "#             param_grid={'model__strategy' : ['constant']}\n",
    "#          )\n",
    "\n",
    "# Main submission\n",
    "\n",
    "# results = submit_v4(\n",
    "#     selected_features=v88_dict,\n",
    "#     add_countvec=False,\n",
    "#     vocab=common_1_2_3_grams,\n",
    "#     vocab_usage='tfidf',\n",
    "#     param_grid=param_grid\n",
    "#     )\n",
    "\n",
    "# results"
   ]
  },
  {
   "cell_type": "markdown",
   "id": "68f7d235",
   "metadata": {
    "papermill": {
     "duration": 0.110825,
     "end_time": "2023-08-13T10:52:25.628062",
     "exception": false,
     "start_time": "2023-08-13T10:52:25.517237",
     "status": "completed"
    },
    "tags": []
   },
   "source": [
    "### ratingContents analysis  "
   ]
  },
  {
   "cell_type": "code",
   "execution_count": 149,
   "id": "8039dbde",
   "metadata": {
    "execution": {
     "iopub.execute_input": "2023-08-13T10:52:25.853076Z",
     "iopub.status.busy": "2023-08-13T10:52:25.852600Z",
     "iopub.status.idle": "2023-08-13T10:52:25.857788Z",
     "shell.execute_reply": "2023-08-13T10:52:25.856520Z"
    },
    "papermill": {
     "duration": 0.120936,
     "end_time": "2023-08-13T10:52:25.860082",
     "exception": false,
     "start_time": "2023-08-13T10:52:25.739146",
     "status": "completed"
    },
    "tags": []
   },
   "outputs": [],
   "source": [
    "# Try string split  \n",
    "# s = \"comedy, animation, adventure, fantasy\"\n",
    "# (\",\").join(sorted(s.split(\", \")))"
   ]
  },
  {
   "cell_type": "code",
   "execution_count": 150,
   "id": "7f6dac15",
   "metadata": {
    "execution": {
     "iopub.execute_input": "2023-08-13T10:52:26.087196Z",
     "iopub.status.busy": "2023-08-13T10:52:26.086312Z",
     "iopub.status.idle": "2023-08-13T10:52:26.091138Z",
     "shell.execute_reply": "2023-08-13T10:52:26.090221Z"
    },
    "papermill": {
     "duration": 0.120192,
     "end_time": "2023-08-13T10:52:26.093302",
     "exception": false,
     "start_time": "2023-08-13T10:52:25.973110",
     "status": "completed"
    },
    "tags": []
   },
   "outputs": [],
   "source": [
    "# ratingContents_analysis = merged[[\"ratingContents\", \"sentiment\"]].copy()\n",
    "# print(ratingContents_analysis.head())\n",
    "# ratingContents_analysis[\"rcSorted\"] = ratingContents_analysis[\"ratingContents\"].apply(lambda x: (\",\").join(sorted(x.strip(\"][\").split(\", \"))))\n",
    "# ratingContents_analysis[\"rcSorted\"] = ratingContents_analysis[\"rcSorted\"].apply(lambda x: re.sub(r\"'\", \"\", x))\n",
    "# ratingContents_analysis[\"rcSorted\"] = ratingContents_analysis[\"rcSorted\"].apply(lambda x: re.sub(r\"[/\\s]\", \"_\", x))\n",
    "# ratingContents_analysis.head(10)"
   ]
  },
  {
   "cell_type": "code",
   "execution_count": 151,
   "id": "9e1b829d",
   "metadata": {
    "execution": {
     "iopub.execute_input": "2023-08-13T10:52:26.317299Z",
     "iopub.status.busy": "2023-08-13T10:52:26.316461Z",
     "iopub.status.idle": "2023-08-13T10:52:26.320825Z",
     "shell.execute_reply": "2023-08-13T10:52:26.319998Z"
    },
    "papermill": {
     "duration": 0.119146,
     "end_time": "2023-08-13T10:52:26.322915",
     "exception": false,
     "start_time": "2023-08-13T10:52:26.203769",
     "status": "completed"
    },
    "tags": []
   },
   "outputs": [],
   "source": [
    "# cvec_rc = CountVectorizer(ngram_range=(1,1))\n",
    "# cvec_rc.fit(ratingContents_analysis['rcSorted'])\n",
    "# # len(cvec_rc.vocabulary_), cvec_rc.vocabulary_"
   ]
  },
  {
   "cell_type": "code",
   "execution_count": 152,
   "id": "ee09d9cf",
   "metadata": {
    "execution": {
     "iopub.execute_input": "2023-08-13T10:52:26.548713Z",
     "iopub.status.busy": "2023-08-13T10:52:26.547780Z",
     "iopub.status.idle": "2023-08-13T10:52:26.552210Z",
     "shell.execute_reply": "2023-08-13T10:52:26.551340Z"
    },
    "papermill": {
     "duration": 0.121561,
     "end_time": "2023-08-13T10:52:26.554438",
     "exception": false,
     "start_time": "2023-08-13T10:52:26.432877",
     "status": "completed"
    },
    "tags": []
   },
   "outputs": [],
   "source": [
    "# genre_testing = cvec_g.transform(merged[\"genre\"])\n",
    "# print(genre_testing)"
   ]
  },
  {
   "cell_type": "markdown",
   "id": "cf23b7a1",
   "metadata": {
    "papermill": {
     "duration": 0.112324,
     "end_time": "2023-08-13T10:52:26.776900",
     "exception": false,
     "start_time": "2023-08-13T10:52:26.664576",
     "status": "completed"
    },
    "tags": []
   },
   "source": [
    "## Statistical tests  "
   ]
  },
  {
   "cell_type": "markdown",
   "id": "65a27da7",
   "metadata": {
    "papermill": {
     "duration": 0.113555,
     "end_time": "2023-08-13T10:52:27.002883",
     "exception": false,
     "start_time": "2023-08-13T10:52:26.889328",
     "status": "completed"
    },
    "tags": []
   },
   "source": [
    "[Go to genre](#genre_analysis)"
   ]
  },
  {
   "cell_type": "code",
   "execution_count": 153,
   "id": "3f7bc2f3",
   "metadata": {
    "execution": {
     "iopub.execute_input": "2023-08-13T10:52:27.230980Z",
     "iopub.status.busy": "2023-08-13T10:52:27.230131Z",
     "iopub.status.idle": "2023-08-13T10:52:27.234305Z",
     "shell.execute_reply": "2023-08-13T10:52:27.233515Z"
    },
    "papermill": {
     "duration": 0.120764,
     "end_time": "2023-08-13T10:52:27.236303",
     "exception": false,
     "start_time": "2023-08-13T10:52:27.115539",
     "status": "completed"
    },
    "tags": []
   },
   "outputs": [],
   "source": [
    "# print(merged['boxOffice'].head())\n",
    "# merged[\"boxOffice\"].describe()"
   ]
  },
  {
   "cell_type": "code",
   "execution_count": 154,
   "id": "5bb523ee",
   "metadata": {
    "execution": {
     "iopub.execute_input": "2023-08-13T10:52:27.460831Z",
     "iopub.status.busy": "2023-08-13T10:52:27.460030Z",
     "iopub.status.idle": "2023-08-13T10:52:27.466461Z",
     "shell.execute_reply": "2023-08-13T10:52:27.465011Z"
    },
    "papermill": {
     "duration": 0.121477,
     "end_time": "2023-08-13T10:52:27.469056",
     "exception": false,
     "start_time": "2023-08-13T10:52:27.347579",
     "status": "completed"
    },
    "tags": []
   },
   "outputs": [],
   "source": [
    "# Function for independent samples t-test on numerical columns  \n",
    "# def ttest_ind(feature):\n",
    "#     pos_grp = merged[feature].loc[merged['sentiment'] == \"POSITIVE\"]\n",
    "#     neg_grp = merged[feature].loc[merged['sentiment'] == \"NEGATIVE\"]\n",
    "\n",
    "#     print(pos_grp.shape, neg_grp.shape)\n",
    "#     print(pos_grp.describe(), neg_grp.describe())\n",
    "\n",
    "#     return stats.ttest_ind(pos_grp, neg_grp)"
   ]
  },
  {
   "cell_type": "code",
   "execution_count": 155,
   "id": "99d9477d",
   "metadata": {
    "execution": {
     "iopub.execute_input": "2023-08-13T10:52:27.693494Z",
     "iopub.status.busy": "2023-08-13T10:52:27.693083Z",
     "iopub.status.idle": "2023-08-13T10:52:27.697907Z",
     "shell.execute_reply": "2023-08-13T10:52:27.696910Z"
    },
    "papermill": {
     "duration": 0.120607,
     "end_time": "2023-08-13T10:52:27.700092",
     "exception": false,
     "start_time": "2023-08-13T10:52:27.579485",
     "status": "completed"
    },
    "tags": []
   },
   "outputs": [],
   "source": [
    "# ttest_ind('boxOffice')"
   ]
  },
  {
   "cell_type": "code",
   "execution_count": 156,
   "id": "d1ba2b56",
   "metadata": {
    "execution": {
     "iopub.execute_input": "2023-08-13T10:52:27.925399Z",
     "iopub.status.busy": "2023-08-13T10:52:27.924326Z",
     "iopub.status.idle": "2023-08-13T10:52:27.928884Z",
     "shell.execute_reply": "2023-08-13T10:52:27.928140Z"
    },
    "papermill": {
     "duration": 0.11869,
     "end_time": "2023-08-13T10:52:27.931068",
     "exception": false,
     "start_time": "2023-08-13T10:52:27.812378",
     "status": "completed"
    },
    "tags": []
   },
   "outputs": [],
   "source": [
    "# ttest_ind('runtimeMinutes')"
   ]
  },
  {
   "cell_type": "code",
   "execution_count": 157,
   "id": "656aa70b",
   "metadata": {
    "execution": {
     "iopub.execute_input": "2023-08-13T10:52:28.157989Z",
     "iopub.status.busy": "2023-08-13T10:52:28.157246Z",
     "iopub.status.idle": "2023-08-13T10:52:28.161593Z",
     "shell.execute_reply": "2023-08-13T10:52:28.160637Z"
    },
    "papermill": {
     "duration": 0.120716,
     "end_time": "2023-08-13T10:52:28.163880",
     "exception": false,
     "start_time": "2023-08-13T10:52:28.043164",
     "status": "completed"
    },
    "tags": []
   },
   "outputs": [],
   "source": [
    "# ttest_ind('audienceScore')"
   ]
  },
  {
   "cell_type": "code",
   "execution_count": 158,
   "id": "e94bce08",
   "metadata": {
    "execution": {
     "iopub.execute_input": "2023-08-13T10:52:28.390788Z",
     "iopub.status.busy": "2023-08-13T10:52:28.390069Z",
     "iopub.status.idle": "2023-08-13T10:52:28.395054Z",
     "shell.execute_reply": "2023-08-13T10:52:28.393805Z"
    },
    "papermill": {
     "duration": 0.120562,
     "end_time": "2023-08-13T10:52:28.397391",
     "exception": false,
     "start_time": "2023-08-13T10:52:28.276829",
     "status": "completed"
    },
    "tags": []
   },
   "outputs": [],
   "source": [
    "# sns.boxplot(x=merged['sentiment'], y=merged['boxOffice'])"
   ]
  },
  {
   "cell_type": "markdown",
   "id": "f2993e68",
   "metadata": {
    "papermill": {
     "duration": 0.112676,
     "end_time": "2023-08-13T10:52:28.622974",
     "exception": false,
     "start_time": "2023-08-13T10:52:28.510298",
     "status": "completed"
    },
    "tags": []
   },
   "source": [
    "## <div id='genre_analysis'>Genre analysis</div>"
   ]
  },
  {
   "cell_type": "code",
   "execution_count": 159,
   "id": "c295f55a",
   "metadata": {
    "execution": {
     "iopub.execute_input": "2023-08-13T10:52:28.853125Z",
     "iopub.status.busy": "2023-08-13T10:52:28.852472Z",
     "iopub.status.idle": "2023-08-13T10:52:28.856533Z",
     "shell.execute_reply": "2023-08-13T10:52:28.855777Z"
    },
    "papermill": {
     "duration": 0.119649,
     "end_time": "2023-08-13T10:52:28.858968",
     "exception": false,
     "start_time": "2023-08-13T10:52:28.739319",
     "status": "completed"
    },
    "tags": []
   },
   "outputs": [],
   "source": [
    "# genre_analysis = merged[[\"genre\", \"genreSorted\", \"sentiment\"]].copy()\n",
    "# # print(genre_analysis.head())\n",
    "# # genre_analysis[\"genre\"] = genre_analysis[\"genre\"].apply(lambda x: (\",\").join(sorted(x.split(\", \"))))\n",
    "# genre_analysis.head()"
   ]
  },
  {
   "cell_type": "code",
   "execution_count": 160,
   "id": "489f9df4",
   "metadata": {
    "execution": {
     "iopub.execute_input": "2023-08-13T10:52:29.087030Z",
     "iopub.status.busy": "2023-08-13T10:52:29.086620Z",
     "iopub.status.idle": "2023-08-13T10:52:29.090498Z",
     "shell.execute_reply": "2023-08-13T10:52:29.089723Z"
    },
    "papermill": {
     "duration": 0.121482,
     "end_time": "2023-08-13T10:52:29.092610",
     "exception": false,
     "start_time": "2023-08-13T10:52:28.971128",
     "status": "completed"
    },
    "tags": []
   },
   "outputs": [],
   "source": [
    "# cvec_g = CountVectorizer(ngram_range=(1,3))\n",
    "# cvec_g.fit(genre_analysis['genre'])\n",
    "# # len(cvec_g.vocabulary_), cvec_g.vocabulary_"
   ]
  },
  {
   "cell_type": "code",
   "execution_count": 161,
   "id": "c6cfcbcc",
   "metadata": {
    "execution": {
     "iopub.execute_input": "2023-08-13T10:52:29.316095Z",
     "iopub.status.busy": "2023-08-13T10:52:29.315398Z",
     "iopub.status.idle": "2023-08-13T10:52:29.319190Z",
     "shell.execute_reply": "2023-08-13T10:52:29.318461Z"
    },
    "papermill": {
     "duration": 0.117673,
     "end_time": "2023-08-13T10:52:29.321220",
     "exception": false,
     "start_time": "2023-08-13T10:52:29.203547",
     "status": "completed"
    },
    "tags": []
   },
   "outputs": [],
   "source": [
    "# cvec_gSorted = CountVectorizer(ngram_range=(1,3))\n",
    "# cvec_gSorted.fit(genre_analysis['genreSorted'])\n",
    "# len(cvec_gSorted.vocabulary_), cvec_gSorted.vocabulary_"
   ]
  },
  {
   "cell_type": "code",
   "execution_count": 162,
   "id": "35108b26",
   "metadata": {
    "execution": {
     "iopub.execute_input": "2023-08-13T10:52:29.548345Z",
     "iopub.status.busy": "2023-08-13T10:52:29.547866Z",
     "iopub.status.idle": "2023-08-13T10:52:29.552653Z",
     "shell.execute_reply": "2023-08-13T10:52:29.551556Z"
    },
    "papermill": {
     "duration": 0.122144,
     "end_time": "2023-08-13T10:52:29.555160",
     "exception": false,
     "start_time": "2023-08-13T10:52:29.433016",
     "status": "completed"
    },
    "tags": []
   },
   "outputs": [],
   "source": [
    "# genre_testing = cvec_g.transform(merged[\"genre\"])\n",
    "# # print(genre_testing)"
   ]
  },
  {
   "cell_type": "code",
   "execution_count": 163,
   "id": "c358c7bd",
   "metadata": {
    "execution": {
     "iopub.execute_input": "2023-08-13T10:52:29.779842Z",
     "iopub.status.busy": "2023-08-13T10:52:29.779008Z",
     "iopub.status.idle": "2023-08-13T10:52:29.784323Z",
     "shell.execute_reply": "2023-08-13T10:52:29.783434Z"
    },
    "papermill": {
     "duration": 0.120447,
     "end_time": "2023-08-13T10:52:29.786609",
     "exception": false,
     "start_time": "2023-08-13T10:52:29.666162",
     "status": "completed"
    },
    "tags": []
   },
   "outputs": [],
   "source": [
    "# genre_counts_testing = merged[[\"genre\", \"sentiment\"]].copy()\n",
    "# genre_counts_testing[\"gCount\"] = genre_counts_testing.apply(lambda x: len(str(x[\"genre\"]).split()), axis=1)\n",
    "# genre_counts_testing"
   ]
  },
  {
   "cell_type": "code",
   "execution_count": 164,
   "id": "185dd749",
   "metadata": {
    "execution": {
     "iopub.execute_input": "2023-08-13T10:52:30.015254Z",
     "iopub.status.busy": "2023-08-13T10:52:30.014479Z",
     "iopub.status.idle": "2023-08-13T10:52:30.018839Z",
     "shell.execute_reply": "2023-08-13T10:52:30.018009Z"
    },
    "papermill": {
     "duration": 0.121866,
     "end_time": "2023-08-13T10:52:30.021630",
     "exception": false,
     "start_time": "2023-08-13T10:52:29.899764",
     "status": "completed"
    },
    "tags": []
   },
   "outputs": [],
   "source": [
    "# sns.boxplot(y=genre_counts_testing[\"gCount\"], x=genre_counts_testing[\"sentiment\"])"
   ]
  },
  {
   "cell_type": "code",
   "execution_count": 165,
   "id": "25b71115",
   "metadata": {
    "execution": {
     "iopub.execute_input": "2023-08-13T10:52:30.247455Z",
     "iopub.status.busy": "2023-08-13T10:52:30.246958Z",
     "iopub.status.idle": "2023-08-13T10:52:30.251905Z",
     "shell.execute_reply": "2023-08-13T10:52:30.250762Z"
    },
    "papermill": {
     "duration": 0.121312,
     "end_time": "2023-08-13T10:52:30.254480",
     "exception": false,
     "start_time": "2023-08-13T10:52:30.133168",
     "status": "completed"
    },
    "tags": []
   },
   "outputs": [],
   "source": [
    "# sns.boxplot(y=merged[\"reviewWC\"], x=merged[\"sentiment\"])"
   ]
  },
  {
   "cell_type": "code",
   "execution_count": 166,
   "id": "4ae1ea92",
   "metadata": {
    "execution": {
     "iopub.execute_input": "2023-08-13T10:52:30.483127Z",
     "iopub.status.busy": "2023-08-13T10:52:30.482619Z",
     "iopub.status.idle": "2023-08-13T10:52:30.489297Z",
     "shell.execute_reply": "2023-08-13T10:52:30.488159Z"
    },
    "papermill": {
     "duration": 0.125348,
     "end_time": "2023-08-13T10:52:30.491692",
     "exception": false,
     "start_time": "2023-08-13T10:52:30.366344",
     "status": "completed"
    },
    "tags": []
   },
   "outputs": [],
   "source": [
    "# audienceScore bins\n",
    "# asc = merged[['audienceScore', 'sentiment']].copy()\n",
    "# asc.head()"
   ]
  },
  {
   "cell_type": "code",
   "execution_count": 167,
   "id": "5b00f367",
   "metadata": {
    "execution": {
     "iopub.execute_input": "2023-08-13T10:52:30.717772Z",
     "iopub.status.busy": "2023-08-13T10:52:30.717376Z",
     "iopub.status.idle": "2023-08-13T10:52:30.722719Z",
     "shell.execute_reply": "2023-08-13T10:52:30.721017Z"
    },
    "papermill": {
     "duration": 0.120659,
     "end_time": "2023-08-13T10:52:30.725635",
     "exception": false,
     "start_time": "2023-08-13T10:52:30.604976",
     "status": "completed"
    },
    "tags": []
   },
   "outputs": [],
   "source": [
    "# Binning numerical features  \n",
    "\n",
    "# print(merged[\"runtimeBins\"].value_counts())\n",
    "# sns.displot(merged[\"runtimeBins\"])"
   ]
  },
  {
   "cell_type": "code",
   "execution_count": 168,
   "id": "c51dcc82",
   "metadata": {
    "execution": {
     "iopub.execute_input": "2023-08-13T10:52:30.951494Z",
     "iopub.status.busy": "2023-08-13T10:52:30.951033Z",
     "iopub.status.idle": "2023-08-13T10:52:30.956437Z",
     "shell.execute_reply": "2023-08-13T10:52:30.955222Z"
    },
    "papermill": {
     "duration": 0.120679,
     "end_time": "2023-08-13T10:52:30.958831",
     "exception": false,
     "start_time": "2023-08-13T10:52:30.838152",
     "status": "completed"
    },
    "tags": []
   },
   "outputs": [],
   "source": [
    "# Chi-square test for isFrequentReviewer column and sentiment column   \n",
    "\n",
    "# contingency_table = pd.crosstab(traindf['isFrequentReviewer'], traindf['sentiment'])\n",
    "# print(contingency_table)\n",
    "# stats.chi2_contingency(contingency_table)"
   ]
  },
  {
   "cell_type": "markdown",
   "id": "f36832a8",
   "metadata": {
    "papermill": {
     "duration": 0.110462,
     "end_time": "2023-08-13T10:52:31.182994",
     "exception": false,
     "start_time": "2023-08-13T10:52:31.072532",
     "status": "completed"
    },
    "tags": []
   },
   "source": [
    "## Baseline performance of 'reviewText' column  "
   ]
  },
  {
   "cell_type": "code",
   "execution_count": 169,
   "id": "211d6d19",
   "metadata": {
    "execution": {
     "iopub.execute_input": "2023-08-13T10:52:31.405478Z",
     "iopub.status.busy": "2023-08-13T10:52:31.405092Z",
     "iopub.status.idle": "2023-08-13T10:52:31.410462Z",
     "shell.execute_reply": "2023-08-13T10:52:31.408904Z"
    },
    "papermill": {
     "duration": 0.119583,
     "end_time": "2023-08-13T10:52:31.412757",
     "exception": false,
     "start_time": "2023-08-13T10:52:31.293174",
     "status": "completed"
    },
    "tags": []
   },
   "outputs": [],
   "source": [
    "# rt_dict = {'txt': ['reviewText']}\n",
    "# rt_dict"
   ]
  },
  {
   "cell_type": "code",
   "execution_count": 170,
   "id": "056f9fbd",
   "metadata": {
    "execution": {
     "iopub.execute_input": "2023-08-13T10:52:31.639782Z",
     "iopub.status.busy": "2023-08-13T10:52:31.639413Z",
     "iopub.status.idle": "2023-08-13T10:52:31.644103Z",
     "shell.execute_reply": "2023-08-13T10:52:31.643100Z"
    },
    "papermill": {
     "duration": 0.120203,
     "end_time": "2023-08-13T10:52:31.646208",
     "exception": false,
     "start_time": "2023-08-13T10:52:31.526005",
     "status": "completed"
    },
    "tags": []
   },
   "outputs": [],
   "source": [
    "# submit_v4(selected_model=LogisticRegression(C=5, solver=\"saga\", max_iter=100000),\n",
    "#           selected_features=rt_dict,\n",
    "#           param_grid=None,\n",
    "#           vocab=None)"
   ]
  },
  {
   "cell_type": "markdown",
   "id": "acfb39cd",
   "metadata": {
    "papermill": {
     "duration": 0.11412,
     "end_time": "2023-08-13T10:52:31.870688",
     "exception": false,
     "start_time": "2023-08-13T10:52:31.756568",
     "status": "completed"
    },
    "tags": []
   },
   "source": [
    "## RFE  "
   ]
  },
  {
   "cell_type": "code",
   "execution_count": 171,
   "id": "283c6f6b",
   "metadata": {
    "execution": {
     "iopub.execute_input": "2023-08-13T10:52:32.108592Z",
     "iopub.status.busy": "2023-08-13T10:52:32.107856Z",
     "iopub.status.idle": "2023-08-13T10:52:32.113774Z",
     "shell.execute_reply": "2023-08-13T10:52:32.112462Z"
    },
    "papermill": {
     "duration": 0.133838,
     "end_time": "2023-08-13T10:52:32.116603",
     "exception": false,
     "start_time": "2023-08-13T10:52:31.982765",
     "status": "completed"
    },
    "tags": []
   },
   "outputs": [],
   "source": [
    "# def fs_rfe(selector, text_df, labels, ngram_range=(1,1)):\n",
    "#     text_df_ngram = TfidfVectorizer(ngram_range=ngram_range, stop_words='english').fit_transform(text_df)\n",
    "#     print(\"text_df was vectorized using TF-IDF vectorizer with ngram_range: \", ngram_range)\n",
    "#     print(\"text_df.shape: \", text_df.shape)\n",
    "#     print(\"labels.shape: \", labels.shape)\n",
    "#     print(\"text_df_ngram.shape: \", text_df_ngram.shape)\n",
    "#     print()\n",
    "\n",
    "#     print(\"Starting RFE fit...\")\n",
    "#     selector.fit(text_df_ngram, labels)\n",
    "#     print(\"RFE fit complete.\\n\")\n",
    "    \n",
    "#     print(\"selector.n_features_: \", selector.n_features_)   \n",
    "#     print(\"selector.n_features_in_: \", selector.n_features_in_)\n",
    "#     print(\"selector.support_.shape: \", selector.support_.shape)\n",
    "\n",
    "#     return selector.support_"
   ]
  },
  {
   "cell_type": "markdown",
   "id": "d563bb21",
   "metadata": {
    "papermill": {
     "duration": 0.110506,
     "end_time": "2023-08-13T10:52:32.342218",
     "exception": false,
     "start_time": "2023-08-13T10:52:32.231712",
     "status": "completed"
    },
    "tags": []
   },
   "source": [
    "`RFE for unigrams`  "
   ]
  },
  {
   "cell_type": "code",
   "execution_count": 172,
   "id": "fd79f6c4",
   "metadata": {
    "execution": {
     "iopub.execute_input": "2023-08-13T10:52:32.572428Z",
     "iopub.status.busy": "2023-08-13T10:52:32.572047Z",
     "iopub.status.idle": "2023-08-13T10:52:32.577422Z",
     "shell.execute_reply": "2023-08-13T10:52:32.576183Z"
    },
    "papermill": {
     "duration": 0.12735,
     "end_time": "2023-08-13T10:52:32.579800",
     "exception": false,
     "start_time": "2023-08-13T10:52:32.452450",
     "status": "completed"
    },
    "tags": []
   },
   "outputs": [],
   "source": [
    "# estimator_rfe_1 = LogisticRegression(solver='saga', max_iter=100000)\n",
    "# selector_rfe_1 = RFE(estimator_rfe_1, step=0.1, n_features_to_select=30000)"
   ]
  },
  {
   "cell_type": "code",
   "execution_count": 173,
   "id": "5734dad1",
   "metadata": {
    "execution": {
     "iopub.execute_input": "2023-08-13T10:52:32.808114Z",
     "iopub.status.busy": "2023-08-13T10:52:32.807286Z",
     "iopub.status.idle": "2023-08-13T10:52:32.812170Z",
     "shell.execute_reply": "2023-08-13T10:52:32.811192Z"
    },
    "papermill": {
     "duration": 0.121113,
     "end_time": "2023-08-13T10:52:32.814729",
     "exception": false,
     "start_time": "2023-08-13T10:52:32.693616",
     "status": "completed"
    },
    "tags": []
   },
   "outputs": [],
   "source": [
    "# rfe_1_feat_mask = fs_rfe(selector_rfe_1, rt_senti[\"reviewText\"], rt_senti[\"sentiment\"], ngram_range=(1,1))\n",
    "# rfe_1_feat_mask"
   ]
  },
  {
   "cell_type": "code",
   "execution_count": 174,
   "id": "a349fa44",
   "metadata": {
    "execution": {
     "iopub.execute_input": "2023-08-13T10:52:33.044835Z",
     "iopub.status.busy": "2023-08-13T10:52:33.044012Z",
     "iopub.status.idle": "2023-08-13T10:52:33.048802Z",
     "shell.execute_reply": "2023-08-13T10:52:33.047990Z"
    },
    "papermill": {
     "duration": 0.123397,
     "end_time": "2023-08-13T10:52:33.051507",
     "exception": false,
     "start_time": "2023-08-13T10:52:32.928110",
     "status": "completed"
    },
    "tags": []
   },
   "outputs": [],
   "source": [
    "# voc_1gram_rfe = list(compress(voc_1gram, rfe_1_feat_mask))\n",
    "# len(voc_1gram_rfe), voc_1gram_rfe[:10]"
   ]
  },
  {
   "cell_type": "markdown",
   "id": "ad523247",
   "metadata": {
    "papermill": {
     "duration": 0.178452,
     "end_time": "2023-08-13T10:52:33.342067",
     "exception": false,
     "start_time": "2023-08-13T10:52:33.163615",
     "status": "completed"
    },
    "tags": []
   },
   "source": [
    "`RFE for bigrams`  "
   ]
  },
  {
   "cell_type": "code",
   "execution_count": 175,
   "id": "1919186b",
   "metadata": {
    "execution": {
     "iopub.execute_input": "2023-08-13T10:52:33.568009Z",
     "iopub.status.busy": "2023-08-13T10:52:33.567242Z",
     "iopub.status.idle": "2023-08-13T10:52:33.572698Z",
     "shell.execute_reply": "2023-08-13T10:52:33.571559Z"
    },
    "papermill": {
     "duration": 0.121839,
     "end_time": "2023-08-13T10:52:33.575470",
     "exception": false,
     "start_time": "2023-08-13T10:52:33.453631",
     "status": "completed"
    },
    "tags": []
   },
   "outputs": [],
   "source": [
    "# estimator_rfe_2 = LogisticRegression(solver='saga', max_iter=100000)\n",
    "# selector_rfe_2 = RFE(estimator_rfe_2, step=0.1, n_features_to_select=50000)"
   ]
  },
  {
   "cell_type": "code",
   "execution_count": 176,
   "id": "23400d3d",
   "metadata": {
    "execution": {
     "iopub.execute_input": "2023-08-13T10:52:33.803506Z",
     "iopub.status.busy": "2023-08-13T10:52:33.803110Z",
     "iopub.status.idle": "2023-08-13T10:52:33.808448Z",
     "shell.execute_reply": "2023-08-13T10:52:33.806851Z"
    },
    "papermill": {
     "duration": 0.123508,
     "end_time": "2023-08-13T10:52:33.810858",
     "exception": false,
     "start_time": "2023-08-13T10:52:33.687350",
     "status": "completed"
    },
    "tags": []
   },
   "outputs": [],
   "source": [
    "# rfe_2_feat_mask = fs_rfe(selector_rfe_2, rt_senti[\"reviewText\"], rt_senti[\"sentiment\"], ngram_range=(2,2))\n",
    "# rfe_2_feat_mask"
   ]
  },
  {
   "cell_type": "code",
   "execution_count": 177,
   "id": "08f486c4",
   "metadata": {
    "execution": {
     "iopub.execute_input": "2023-08-13T10:52:34.044686Z",
     "iopub.status.busy": "2023-08-13T10:52:34.043721Z",
     "iopub.status.idle": "2023-08-13T10:52:34.049427Z",
     "shell.execute_reply": "2023-08-13T10:52:34.048223Z"
    },
    "papermill": {
     "duration": 0.122036,
     "end_time": "2023-08-13T10:52:34.051760",
     "exception": false,
     "start_time": "2023-08-13T10:52:33.929724",
     "status": "completed"
    },
    "tags": []
   },
   "outputs": [],
   "source": [
    "# voc_2gram_rfe = list(compress(voc_2gram, rfe_2_feat_mask))\n",
    "# len(voc_2gram_rfe), voc_2gram_rfe[:10]"
   ]
  },
  {
   "cell_type": "markdown",
   "id": "b7019080",
   "metadata": {
    "papermill": {
     "duration": 0.110607,
     "end_time": "2023-08-13T10:52:34.274327",
     "exception": false,
     "start_time": "2023-08-13T10:52:34.163720",
     "status": "completed"
    },
    "tags": []
   },
   "source": [
    "## Final RFE-derived vocabulary  "
   ]
  },
  {
   "cell_type": "code",
   "execution_count": 178,
   "id": "fb9242eb",
   "metadata": {
    "execution": {
     "iopub.execute_input": "2023-08-13T10:52:34.501514Z",
     "iopub.status.busy": "2023-08-13T10:52:34.500499Z",
     "iopub.status.idle": "2023-08-13T10:52:34.506782Z",
     "shell.execute_reply": "2023-08-13T10:52:34.505466Z"
    },
    "papermill": {
     "duration": 0.123331,
     "end_time": "2023-08-13T10:52:34.509473",
     "exception": false,
     "start_time": "2023-08-13T10:52:34.386142",
     "status": "completed"
    },
    "tags": []
   },
   "outputs": [],
   "source": [
    "# rfe_vocab = voc_1gram_rfe + voc_2gram_rfe\n",
    "# len(rfe_vocab), rfe_vocab[:10], rfe_vocab[-10:]"
   ]
  },
  {
   "cell_type": "code",
   "execution_count": 179,
   "id": "612ddd77",
   "metadata": {
    "execution": {
     "iopub.execute_input": "2023-08-13T10:52:34.734265Z",
     "iopub.status.busy": "2023-08-13T10:52:34.733619Z",
     "iopub.status.idle": "2023-08-13T10:52:34.738620Z",
     "shell.execute_reply": "2023-08-13T10:52:34.737431Z"
    },
    "papermill": {
     "duration": 0.12051,
     "end_time": "2023-08-13T10:52:34.741179",
     "exception": false,
     "start_time": "2023-08-13T10:52:34.620669",
     "status": "completed"
    },
    "tags": []
   },
   "outputs": [],
   "source": [
    "## Test RFE obtained vocabulary in final pipeline (only with reviewText)  \n",
    "# submit_v4(selected_model=LogisticRegression(C=5, solver=\"saga\", max_iter=100000),\n",
    "#           selected_features=rt_dict,\n",
    "#           param_grid=None,\n",
    "#           vocab=rfe_vocab)"
   ]
  },
  {
   "cell_type": "markdown",
   "id": "cf79c86e",
   "metadata": {
    "papermill": {
     "duration": 0.112653,
     "end_time": "2023-08-13T10:52:34.966608",
     "exception": false,
     "start_time": "2023-08-13T10:52:34.853955",
     "status": "completed"
    },
    "tags": []
   },
   "source": [
    "## Use rfe_vocab in final pipeline with all params  "
   ]
  },
  {
   "cell_type": "code",
   "execution_count": 180,
   "id": "27c561ad",
   "metadata": {
    "execution": {
     "iopub.execute_input": "2023-08-13T10:52:35.194858Z",
     "iopub.status.busy": "2023-08-13T10:52:35.193624Z",
     "iopub.status.idle": "2023-08-13T10:52:35.198334Z",
     "shell.execute_reply": "2023-08-13T10:52:35.197525Z"
    },
    "papermill": {
     "duration": 0.120097,
     "end_time": "2023-08-13T10:52:35.200666",
     "exception": false,
     "start_time": "2023-08-13T10:52:35.080569",
     "status": "completed"
    },
    "tags": []
   },
   "outputs": [],
   "source": [
    "# submit_v4(selected_model=LogisticRegression(max_iter=100000),\n",
    "#           selected_features=all_dict,\n",
    "#           param_grid=param_grid,\n",
    "#           vocab=rfe_vocab)"
   ]
  },
  {
   "cell_type": "code",
   "execution_count": 181,
   "id": "f24a5dfa",
   "metadata": {
    "execution": {
     "iopub.execute_input": "2023-08-13T10:52:35.424681Z",
     "iopub.status.busy": "2023-08-13T10:52:35.423428Z",
     "iopub.status.idle": "2023-08-13T10:52:35.437508Z",
     "shell.execute_reply": "2023-08-13T10:52:35.436338Z"
    },
    "papermill": {
     "duration": 0.129256,
     "end_time": "2023-08-13T10:52:35.440391",
     "exception": false,
     "start_time": "2023-08-13T10:52:35.311135",
     "status": "completed"
    },
    "tags": []
   },
   "outputs": [
    {
     "data": {
      "text/html": [
       "<style>#sk-container-id-1 {color: black;background-color: white;}#sk-container-id-1 pre{padding: 0;}#sk-container-id-1 div.sk-toggleable {background-color: white;}#sk-container-id-1 label.sk-toggleable__label {cursor: pointer;display: block;width: 100%;margin-bottom: 0;padding: 0.3em;box-sizing: border-box;text-align: center;}#sk-container-id-1 label.sk-toggleable__label-arrow:before {content: \"▸\";float: left;margin-right: 0.25em;color: #696969;}#sk-container-id-1 label.sk-toggleable__label-arrow:hover:before {color: black;}#sk-container-id-1 div.sk-estimator:hover label.sk-toggleable__label-arrow:before {color: black;}#sk-container-id-1 div.sk-toggleable__content {max-height: 0;max-width: 0;overflow: hidden;text-align: left;background-color: #f0f8ff;}#sk-container-id-1 div.sk-toggleable__content pre {margin: 0.2em;color: black;border-radius: 0.25em;background-color: #f0f8ff;}#sk-container-id-1 input.sk-toggleable__control:checked~div.sk-toggleable__content {max-height: 200px;max-width: 100%;overflow: auto;}#sk-container-id-1 input.sk-toggleable__control:checked~label.sk-toggleable__label-arrow:before {content: \"▾\";}#sk-container-id-1 div.sk-estimator input.sk-toggleable__control:checked~label.sk-toggleable__label {background-color: #d4ebff;}#sk-container-id-1 div.sk-label input.sk-toggleable__control:checked~label.sk-toggleable__label {background-color: #d4ebff;}#sk-container-id-1 input.sk-hidden--visually {border: 0;clip: rect(1px 1px 1px 1px);clip: rect(1px, 1px, 1px, 1px);height: 1px;margin: -1px;overflow: hidden;padding: 0;position: absolute;width: 1px;}#sk-container-id-1 div.sk-estimator {font-family: monospace;background-color: #f0f8ff;border: 1px dotted black;border-radius: 0.25em;box-sizing: border-box;margin-bottom: 0.5em;}#sk-container-id-1 div.sk-estimator:hover {background-color: #d4ebff;}#sk-container-id-1 div.sk-parallel-item::after {content: \"\";width: 100%;border-bottom: 1px solid gray;flex-grow: 1;}#sk-container-id-1 div.sk-label:hover label.sk-toggleable__label {background-color: #d4ebff;}#sk-container-id-1 div.sk-serial::before {content: \"\";position: absolute;border-left: 1px solid gray;box-sizing: border-box;top: 0;bottom: 0;left: 50%;z-index: 0;}#sk-container-id-1 div.sk-serial {display: flex;flex-direction: column;align-items: center;background-color: white;padding-right: 0.2em;padding-left: 0.2em;position: relative;}#sk-container-id-1 div.sk-item {position: relative;z-index: 1;}#sk-container-id-1 div.sk-parallel {display: flex;align-items: stretch;justify-content: center;background-color: white;position: relative;}#sk-container-id-1 div.sk-item::before, #sk-container-id-1 div.sk-parallel-item::before {content: \"\";position: absolute;border-left: 1px solid gray;box-sizing: border-box;top: 0;bottom: 0;left: 50%;z-index: -1;}#sk-container-id-1 div.sk-parallel-item {display: flex;flex-direction: column;z-index: 1;position: relative;background-color: white;}#sk-container-id-1 div.sk-parallel-item:first-child::after {align-self: flex-end;width: 50%;}#sk-container-id-1 div.sk-parallel-item:last-child::after {align-self: flex-start;width: 50%;}#sk-container-id-1 div.sk-parallel-item:only-child::after {width: 0;}#sk-container-id-1 div.sk-dashed-wrapped {border: 1px dashed gray;margin: 0 0.4em 0.5em 0.4em;box-sizing: border-box;padding-bottom: 0.4em;background-color: white;}#sk-container-id-1 div.sk-label label {font-family: monospace;font-weight: bold;display: inline-block;line-height: 1.2em;}#sk-container-id-1 div.sk-label-container {text-align: center;}#sk-container-id-1 div.sk-container {/* jupyter's `normalize.less` sets `[hidden] { display: none; }` but bootstrap.min.css set `[hidden] { display: none !important; }` so we also need the `!important` here to be able to override the default hidden behavior on the sphinx rendered scikit-learn.org. See: https://github.com/scikit-learn/scikit-learn/issues/21755 */display: inline-block !important;position: relative;}#sk-container-id-1 div.sk-text-repr-fallback {display: none;}</style><div id=\"sk-container-id-1\" class=\"sk-top-container\"><div class=\"sk-text-repr-fallback\"><pre>AdaBoostClassifier(estimator=LogisticRegression(C=5, max_iter=100000,\n",
       "                                                solver=&#x27;saga&#x27;))</pre><b>In a Jupyter environment, please rerun this cell to show the HTML representation or trust the notebook. <br />On GitHub, the HTML representation is unable to render, please try loading this page with nbviewer.org.</b></div><div class=\"sk-container\" hidden><div class=\"sk-item sk-dashed-wrapped\"><div class=\"sk-label-container\"><div class=\"sk-label sk-toggleable\"><input class=\"sk-toggleable__control sk-hidden--visually\" id=\"sk-estimator-id-1\" type=\"checkbox\" ><label for=\"sk-estimator-id-1\" class=\"sk-toggleable__label sk-toggleable__label-arrow\">AdaBoostClassifier</label><div class=\"sk-toggleable__content\"><pre>AdaBoostClassifier(estimator=LogisticRegression(C=5, max_iter=100000,\n",
       "                                                solver=&#x27;saga&#x27;))</pre></div></div></div><div class=\"sk-parallel\"><div class=\"sk-parallel-item\"><div class=\"sk-item\"><div class=\"sk-label-container\"><div class=\"sk-label sk-toggleable\"><input class=\"sk-toggleable__control sk-hidden--visually\" id=\"sk-estimator-id-2\" type=\"checkbox\" ><label for=\"sk-estimator-id-2\" class=\"sk-toggleable__label sk-toggleable__label-arrow\">estimator: LogisticRegression</label><div class=\"sk-toggleable__content\"><pre>LogisticRegression(C=5, max_iter=100000, solver=&#x27;saga&#x27;)</pre></div></div></div><div class=\"sk-serial\"><div class=\"sk-item\"><div class=\"sk-estimator sk-toggleable\"><input class=\"sk-toggleable__control sk-hidden--visually\" id=\"sk-estimator-id-3\" type=\"checkbox\" ><label for=\"sk-estimator-id-3\" class=\"sk-toggleable__label sk-toggleable__label-arrow\">LogisticRegression</label><div class=\"sk-toggleable__content\"><pre>LogisticRegression(C=5, max_iter=100000, solver=&#x27;saga&#x27;)</pre></div></div></div></div></div></div></div></div></div></div>"
      ],
      "text/plain": [
       "AdaBoostClassifier(estimator=LogisticRegression(C=5, max_iter=100000,\n",
       "                                                solver='saga'))"
      ]
     },
     "execution_count": 181,
     "metadata": {},
     "output_type": "execute_result"
    }
   ],
   "source": [
    "adc = AdaBoostClassifier(estimator=LogisticRegression(C=5, solver=\"saga\", max_iter=100000), n_estimators=50)\n",
    "adc"
   ]
  },
  {
   "cell_type": "code",
   "execution_count": 182,
   "id": "4b05ef6a",
   "metadata": {
    "execution": {
     "iopub.execute_input": "2023-08-13T10:52:35.678751Z",
     "iopub.status.busy": "2023-08-13T10:52:35.678354Z",
     "iopub.status.idle": "2023-08-13T10:52:35.684182Z",
     "shell.execute_reply": "2023-08-13T10:52:35.682787Z"
    },
    "papermill": {
     "duration": 0.127372,
     "end_time": "2023-08-13T10:52:35.686792",
     "exception": false,
     "start_time": "2023-08-13T10:52:35.559420",
     "status": "completed"
    },
    "tags": []
   },
   "outputs": [],
   "source": [
    "# submit_v4(selected_model=adc,\n",
    "#           selected_features={'cat': ['isFrequentReviewer']},\n",
    "#           param_grid=None,\n",
    "#           vocab=rfe_vocab)"
   ]
  },
  {
   "cell_type": "code",
   "execution_count": 183,
   "id": "23f3b99b",
   "metadata": {
    "execution": {
     "iopub.execute_input": "2023-08-13T10:52:35.914377Z",
     "iopub.status.busy": "2023-08-13T10:52:35.913501Z",
     "iopub.status.idle": "2023-08-13T10:52:35.917865Z",
     "shell.execute_reply": "2023-08-13T10:52:35.917075Z"
    },
    "papermill": {
     "duration": 0.120539,
     "end_time": "2023-08-13T10:52:35.919964",
     "exception": false,
     "start_time": "2023-08-13T10:52:35.799425",
     "status": "completed"
    },
    "tags": []
   },
   "outputs": [],
   "source": [
    "# AdaBoost on all features with RFE vocab on reviewText\n",
    "\n",
    "# submit_v4(selected_model=adc,\n",
    "#           selected_features=all_dict,\n",
    "#           param_grid=None,\n",
    "#           vocab=rfe_vocab)"
   ]
  },
  {
   "cell_type": "code",
   "execution_count": 184,
   "id": "4c8dcab6",
   "metadata": {
    "execution": {
     "iopub.execute_input": "2023-08-13T10:52:36.149001Z",
     "iopub.status.busy": "2023-08-13T10:52:36.148102Z",
     "iopub.status.idle": "2023-08-13T10:52:36.152567Z",
     "shell.execute_reply": "2023-08-13T10:52:36.151754Z"
    },
    "papermill": {
     "duration": 0.120172,
     "end_time": "2023-08-13T10:52:36.154826",
     "exception": false,
     "start_time": "2023-08-13T10:52:36.034654",
     "status": "completed"
    },
    "tags": []
   },
   "outputs": [],
   "source": [
    "# RandomForestClassifier test run on one feature\n",
    "\n",
    "# rfc_2 = RandomForestClassifier()\n",
    "# rfc_2"
   ]
  },
  {
   "cell_type": "code",
   "execution_count": 185,
   "id": "d46db03c",
   "metadata": {
    "execution": {
     "iopub.execute_input": "2023-08-13T10:52:36.381229Z",
     "iopub.status.busy": "2023-08-13T10:52:36.380272Z",
     "iopub.status.idle": "2023-08-13T10:52:36.385142Z",
     "shell.execute_reply": "2023-08-13T10:52:36.384156Z"
    },
    "papermill": {
     "duration": 0.12056,
     "end_time": "2023-08-13T10:52:36.387598",
     "exception": false,
     "start_time": "2023-08-13T10:52:36.267038",
     "status": "completed"
    },
    "tags": []
   },
   "outputs": [],
   "source": [
    "# submit_v4(selected_model=rfc_2,\n",
    "#           selected_features={'txt': ['reviewerName']},\n",
    "#           param_grid=None,\n",
    "#           vocab=rfe_vocab)"
   ]
  },
  {
   "cell_type": "code",
   "execution_count": 186,
   "id": "7c9db5b3",
   "metadata": {
    "execution": {
     "iopub.execute_input": "2023-08-13T10:52:36.615141Z",
     "iopub.status.busy": "2023-08-13T10:52:36.614669Z",
     "iopub.status.idle": "2023-08-13T10:52:36.619870Z",
     "shell.execute_reply": "2023-08-13T10:52:36.619021Z"
    },
    "papermill": {
     "duration": 0.123394,
     "end_time": "2023-08-13T10:52:36.621994",
     "exception": false,
     "start_time": "2023-08-13T10:52:36.498600",
     "status": "completed"
    },
    "tags": []
   },
   "outputs": [],
   "source": [
    "# RandomForestClassifier on all features with RFE vocab on reviewText\n",
    "\n",
    "# submit_v4(selected_model=rfc_2,\n",
    "#           selected_features=all_dict,\n",
    "#           param_grid=None,\n",
    "#           vocab=rfe_vocab)"
   ]
  },
  {
   "cell_type": "markdown",
   "id": "e4b074e8",
   "metadata": {
    "papermill": {
     "duration": 0.111065,
     "end_time": "2023-08-13T10:52:36.844754",
     "exception": false,
     "start_time": "2023-08-13T10:52:36.733689",
     "status": "completed"
    },
    "tags": []
   },
   "source": [
    "## Submit_v2 for merged file models  "
   ]
  },
  {
   "cell_type": "code",
   "execution_count": 187,
   "id": "ce17c42a",
   "metadata": {
    "execution": {
     "iopub.execute_input": "2023-08-13T10:52:37.071973Z",
     "iopub.status.busy": "2023-08-13T10:52:37.070904Z",
     "iopub.status.idle": "2023-08-13T10:52:37.077604Z",
     "shell.execute_reply": "2023-08-13T10:52:37.076651Z"
    },
    "papermill": {
     "duration": 0.12296,
     "end_time": "2023-08-13T10:52:37.080143",
     "exception": false,
     "start_time": "2023-08-13T10:52:36.957183",
     "status": "completed"
    },
    "tags": []
   },
   "outputs": [],
   "source": [
    "# def submit_v2(selected_model=pipe_final, selected_features=None):\n",
    "#     '''\n",
    "#     Note that \"selected_preprocessor\" is already used within selected_model or pipeline\n",
    "#     '''\n",
    "#     # Retrain on the whole train.csv file  \n",
    "#     merged = select_features(load_csv(\"train\"), load_csv(\"movies\"))\n",
    "#     X_train = merged.drop(labels=\"sentiment\", axis=1)\n",
    "#     y_train = merged[\"sentiment\"]\n",
    "    \n",
    "#     #Use selected features\n",
    "#     if selected_features:\n",
    "#         X_train = X_train[selected_features]\n",
    "    \n",
    "#     # Check1\n",
    "#     print(X_train.shape)\n",
    "#     print(X_train.head())\n",
    "#     try:\n",
    "#         print(selected_model.named_steps['model'].intercept_, selected_model.named_steps['model'].coef_)\n",
    "#     except:\n",
    "#         print(\"Model not trained yet!\")\n",
    "    \n",
    "#     # Fit \n",
    "#     selected_model.fit(X_train, y_train)\n",
    "    \n",
    "#     # Check2\n",
    "#     print(selected_model.named_steps['model'].intercept_, selected_model.named_steps['model'].coef_)\n",
    "    \n",
    "#     # Predict on test.csv file\n",
    "#     merged_test = select_features(load_csv(\"test\"), load_csv(\"movies\"))\n",
    "#     X_test = merged_test.copy()\n",
    "#     if selected_features:\n",
    "#         X_test = X_test[selected_features]\n",
    "    \n",
    "#     # Check3\n",
    "#     print(X_test.shape)\n",
    "#     print(X_test.head())\n",
    "    \n",
    "#     y_pred = selected_model.predict(X_test)\n",
    "    \n",
    "#     pred_df = pd.DataFrame(y_pred)\n",
    "#     pred_df.columns = [\"sentiment\"]\n",
    "#     pred_df.index.name = \"id\"\n",
    "#     pred_df.to_csv(\"submission.csv\")\n",
    "    \n",
    "#     return \"Successfully created the submission file!!!\""
   ]
  },
  {
   "cell_type": "code",
   "execution_count": 188,
   "id": "07ba37d3",
   "metadata": {
    "execution": {
     "iopub.execute_input": "2023-08-13T10:52:37.305479Z",
     "iopub.status.busy": "2023-08-13T10:52:37.304664Z",
     "iopub.status.idle": "2023-08-13T10:52:37.309367Z",
     "shell.execute_reply": "2023-08-13T10:52:37.308236Z"
    },
    "papermill": {
     "duration": 0.120526,
     "end_time": "2023-08-13T10:52:37.311790",
     "exception": false,
     "start_time": "2023-08-13T10:52:37.191264",
     "status": "completed"
    },
    "tags": []
   },
   "outputs": [],
   "source": [
    "#     X_test = merged_test.copy()\n",
    "    \n",
    "#     y_pred = pipe_best4.predict(X_test)\n",
    "# #     np.unique(y_pred, return_counts=True)\n",
    "#     pred_df = pd.DataFrame(y_pred)\n",
    "#     pred_df.columns = [\"sentiment\"]\n",
    "#     pred_df.index.name = \"id\"\n",
    "#     pred_df.value_counts()"
   ]
  },
  {
   "cell_type": "code",
   "execution_count": 189,
   "id": "16cc3e38",
   "metadata": {
    "execution": {
     "iopub.execute_input": "2023-08-13T10:52:37.539067Z",
     "iopub.status.busy": "2023-08-13T10:52:37.538647Z",
     "iopub.status.idle": "2023-08-13T10:52:37.544079Z",
     "shell.execute_reply": "2023-08-13T10:52:37.542747Z"
    },
    "papermill": {
     "duration": 0.122523,
     "end_time": "2023-08-13T10:52:37.546527",
     "exception": false,
     "start_time": "2023-08-13T10:52:37.424004",
     "status": "completed"
    },
    "tags": []
   },
   "outputs": [],
   "source": [
    "# X_test.columns"
   ]
  },
  {
   "cell_type": "markdown",
   "id": "e6af2ec6",
   "metadata": {
    "papermill": {
     "duration": 0.111793,
     "end_time": "2023-08-13T10:52:37.771806",
     "exception": false,
     "start_time": "2023-08-13T10:52:37.660013",
     "status": "completed"
    },
    "tags": []
   },
   "source": [
    "### Uncomment to submit using v2 of submit function  "
   ]
  },
  {
   "cell_type": "code",
   "execution_count": 190,
   "id": "7e977584",
   "metadata": {
    "execution": {
     "iopub.execute_input": "2023-08-13T10:52:38.001063Z",
     "iopub.status.busy": "2023-08-13T10:52:38.000639Z",
     "iopub.status.idle": "2023-08-13T10:52:38.005034Z",
     "shell.execute_reply": "2023-08-13T10:52:38.004012Z"
    },
    "papermill": {
     "duration": 0.124197,
     "end_time": "2023-08-13T10:52:38.007687",
     "exception": false,
     "start_time": "2023-08-13T10:52:37.883490",
     "status": "completed"
    },
    "tags": []
   },
   "outputs": [],
   "source": [
    "# best4 = [\"audienceScore\", \"rating\", \"isFrequentReviewer\", \"reviewText\"]\n",
    "# best4"
   ]
  },
  {
   "cell_type": "code",
   "execution_count": 191,
   "id": "0c56e12a",
   "metadata": {
    "execution": {
     "iopub.execute_input": "2023-08-13T10:52:38.233946Z",
     "iopub.status.busy": "2023-08-13T10:52:38.233103Z",
     "iopub.status.idle": "2023-08-13T10:52:38.238987Z",
     "shell.execute_reply": "2023-08-13T10:52:38.237639Z"
    },
    "papermill": {
     "duration": 0.12098,
     "end_time": "2023-08-13T10:52:38.241194",
     "exception": false,
     "start_time": "2023-08-13T10:52:38.120214",
     "status": "completed"
    },
    "tags": []
   },
   "outputs": [],
   "source": [
    "# submit_v2(selected_model=pipe_RTonly, selected_features=['reviewText'])"
   ]
  },
  {
   "cell_type": "markdown",
   "id": "aed478cb",
   "metadata": {
    "papermill": {
     "duration": 0.1118,
     "end_time": "2023-08-13T10:52:38.465445",
     "exception": false,
     "start_time": "2023-08-13T10:52:38.353645",
     "status": "completed"
    },
    "tags": []
   },
   "source": [
    "### Inspect the submission.csv file  "
   ]
  },
  {
   "cell_type": "code",
   "execution_count": 192,
   "id": "c17a82e9",
   "metadata": {
    "execution": {
     "iopub.execute_input": "2023-08-13T10:52:38.762288Z",
     "iopub.status.busy": "2023-08-13T10:52:38.760782Z",
     "iopub.status.idle": "2023-08-13T10:52:38.766591Z",
     "shell.execute_reply": "2023-08-13T10:52:38.765293Z"
    },
    "papermill": {
     "duration": 0.123408,
     "end_time": "2023-08-13T10:52:38.769003",
     "exception": false,
     "start_time": "2023-08-13T10:52:38.645595",
     "status": "completed"
    },
    "tags": []
   },
   "outputs": [],
   "source": [
    "# sub = pd.read_csv('submission.csv')\n",
    "# sub.shape, sub.head()"
   ]
  },
  {
   "cell_type": "code",
   "execution_count": 193,
   "id": "8f98727a",
   "metadata": {
    "execution": {
     "iopub.execute_input": "2023-08-13T10:52:39.000877Z",
     "iopub.status.busy": "2023-08-13T10:52:39.000109Z",
     "iopub.status.idle": "2023-08-13T10:52:39.005400Z",
     "shell.execute_reply": "2023-08-13T10:52:39.004471Z"
    },
    "papermill": {
     "duration": 0.124257,
     "end_time": "2023-08-13T10:52:39.008655",
     "exception": false,
     "start_time": "2023-08-13T10:52:38.884398",
     "status": "completed"
    },
    "tags": []
   },
   "outputs": [],
   "source": [
    "# sub['sentiment'].value_counts()"
   ]
  },
  {
   "cell_type": "markdown",
   "id": "928f9a35",
   "metadata": {
    "papermill": {
     "duration": 0.113527,
     "end_time": "2023-08-13T10:52:39.236059",
     "exception": false,
     "start_time": "2023-08-13T10:52:39.122532",
     "status": "completed"
    },
    "tags": []
   },
   "source": [
    "## submit_v3 for merged file models - does not retrain on whole data  "
   ]
  },
  {
   "cell_type": "code",
   "execution_count": 194,
   "id": "109fed53",
   "metadata": {
    "execution": {
     "iopub.execute_input": "2023-08-13T10:52:39.462236Z",
     "iopub.status.busy": "2023-08-13T10:52:39.461441Z",
     "iopub.status.idle": "2023-08-13T10:52:39.466827Z",
     "shell.execute_reply": "2023-08-13T10:52:39.466077Z"
    },
    "papermill": {
     "duration": 0.121636,
     "end_time": "2023-08-13T10:52:39.469279",
     "exception": false,
     "start_time": "2023-08-13T10:52:39.347643",
     "status": "completed"
    },
    "tags": []
   },
   "outputs": [],
   "source": [
    "# def submit_v3(selected_model=pipe_final):\n",
    "#     '''\n",
    "#     Note that \"selected_preprocessor\" is already used within selected_model or pipeline\n",
    "#     '''\n",
    "      \n",
    "#     # Predict on test.csv file\n",
    "#     merged_test = select_features(load_csv(\"test\"), load_csv(\"movies\"))\n",
    "#     X_test = merged_test.copy()\n",
    "    \n",
    "#     X_test = X_test[[\"audienceScore\", \"rating\", \"isFrequentReviewer\", \"reviewText\"]]    # This is a new line\n",
    "\n",
    "    \n",
    "#     y_pred = selected_model.predict(X_test)\n",
    "    \n",
    "#     pred_df = pd.DataFrame(y_pred)\n",
    "#     pred_df.columns = [\"sentiment\"]\n",
    "#     pred_df.index.name = \"id\"\n",
    "#     pred_df.to_csv(\"submission.csv\")\n",
    "    \n",
    "#     return \"Successfully created the submission file!!!\""
   ]
  },
  {
   "cell_type": "markdown",
   "id": "62945ce0",
   "metadata": {
    "papermill": {
     "duration": 0.110775,
     "end_time": "2023-08-13T10:52:39.694809",
     "exception": false,
     "start_time": "2023-08-13T10:52:39.584034",
     "status": "completed"
    },
    "tags": []
   },
   "source": [
    "### Uncomment to submit using v3 of submit function  "
   ]
  },
  {
   "cell_type": "code",
   "execution_count": 195,
   "id": "a01bbb47",
   "metadata": {
    "execution": {
     "iopub.execute_input": "2023-08-13T10:52:39.922670Z",
     "iopub.status.busy": "2023-08-13T10:52:39.921943Z",
     "iopub.status.idle": "2023-08-13T10:52:39.926636Z",
     "shell.execute_reply": "2023-08-13T10:52:39.925838Z"
    },
    "papermill": {
     "duration": 0.121249,
     "end_time": "2023-08-13T10:52:39.928820",
     "exception": false,
     "start_time": "2023-08-13T10:52:39.807571",
     "status": "completed"
    },
    "tags": []
   },
   "outputs": [],
   "source": [
    "# submit_v3(selected_model=pipe_best4)"
   ]
  },
  {
   "cell_type": "markdown",
   "id": "a6f6c650",
   "metadata": {
    "papermill": {
     "duration": 0.110496,
     "end_time": "2023-08-13T10:52:40.150247",
     "exception": false,
     "start_time": "2023-08-13T10:52:40.039751",
     "status": "completed"
    },
    "tags": []
   },
   "source": [
    "## Rough work  "
   ]
  },
  {
   "cell_type": "code",
   "execution_count": 196,
   "id": "3fa2f713",
   "metadata": {
    "execution": {
     "iopub.execute_input": "2023-08-13T10:52:40.374169Z",
     "iopub.status.busy": "2023-08-13T10:52:40.373395Z",
     "iopub.status.idle": "2023-08-13T10:52:46.481197Z",
     "shell.execute_reply": "2023-08-13T10:52:46.479982Z"
    },
    "papermill": {
     "duration": 6.222961,
     "end_time": "2023-08-13T10:52:46.484248",
     "exception": false,
     "start_time": "2023-08-13T10:52:40.261287",
     "status": "completed"
    },
    "tags": []
   },
   "outputs": [],
   "source": [
    "    # Predict on test.csv file\n",
    "    merged_test = select_features(load_csv(\"test\"), load_csv(\"movies\"))\n",
    "    X_test = merged_test.copy()\n",
    "    \n",
    "    X_test = X_test[[\"audienceScore\", \"rating\", \"isFrequentReviewer\", \"reviewText\"]]    # This is a new line"
   ]
  },
  {
   "cell_type": "code",
   "execution_count": 197,
   "id": "1d2df149",
   "metadata": {
    "execution": {
     "iopub.execute_input": "2023-08-13T10:52:46.711464Z",
     "iopub.status.busy": "2023-08-13T10:52:46.710809Z",
     "iopub.status.idle": "2023-08-13T10:52:46.715279Z",
     "shell.execute_reply": "2023-08-13T10:52:46.714419Z"
    },
    "papermill": {
     "duration": 0.121393,
     "end_time": "2023-08-13T10:52:46.717578",
     "exception": false,
     "start_time": "2023-08-13T10:52:46.596185",
     "status": "completed"
    },
    "tags": []
   },
   "outputs": [],
   "source": [
    "# X_test.head()"
   ]
  },
  {
   "cell_type": "code",
   "execution_count": 198,
   "id": "26058c6c",
   "metadata": {
    "execution": {
     "iopub.execute_input": "2023-08-13T10:52:46.944296Z",
     "iopub.status.busy": "2023-08-13T10:52:46.943646Z",
     "iopub.status.idle": "2023-08-13T10:52:46.948624Z",
     "shell.execute_reply": "2023-08-13T10:52:46.947674Z"
    },
    "papermill": {
     "duration": 0.121726,
     "end_time": "2023-08-13T10:52:46.950849",
     "exception": false,
     "start_time": "2023-08-13T10:52:46.829123",
     "status": "completed"
    },
    "tags": []
   },
   "outputs": [],
   "source": [
    "# X_test['audienceScore'].describe()"
   ]
  },
  {
   "cell_type": "code",
   "execution_count": 199,
   "id": "006c0bfe",
   "metadata": {
    "execution": {
     "iopub.execute_input": "2023-08-13T10:52:47.178181Z",
     "iopub.status.busy": "2023-08-13T10:52:47.176729Z",
     "iopub.status.idle": "2023-08-13T10:52:47.181742Z",
     "shell.execute_reply": "2023-08-13T10:52:47.180901Z"
    },
    "papermill": {
     "duration": 0.119582,
     "end_time": "2023-08-13T10:52:47.183882",
     "exception": false,
     "start_time": "2023-08-13T10:52:47.064300",
     "status": "completed"
    },
    "tags": []
   },
   "outputs": [],
   "source": [
    "# X_test['rating'].value_counts()"
   ]
  },
  {
   "cell_type": "code",
   "execution_count": 200,
   "id": "21e7160b",
   "metadata": {
    "execution": {
     "iopub.execute_input": "2023-08-13T10:52:47.410141Z",
     "iopub.status.busy": "2023-08-13T10:52:47.409087Z",
     "iopub.status.idle": "2023-08-13T10:52:47.414830Z",
     "shell.execute_reply": "2023-08-13T10:52:47.413661Z"
    },
    "papermill": {
     "duration": 0.121925,
     "end_time": "2023-08-13T10:52:47.417475",
     "exception": false,
     "start_time": "2023-08-13T10:52:47.295550",
     "status": "completed"
    },
    "tags": []
   },
   "outputs": [],
   "source": [
    "# X_test['isFrequentReviewer'].value_counts()"
   ]
  },
  {
   "cell_type": "markdown",
   "id": "0368fc8e",
   "metadata": {
    "papermill": {
     "duration": 0.115167,
     "end_time": "2023-08-13T10:52:47.644780",
     "exception": false,
     "start_time": "2023-08-13T10:52:47.529613",
     "status": "completed"
    },
    "tags": []
   },
   "source": [
    "## Implement KNN classifier  "
   ]
  },
  {
   "cell_type": "code",
   "execution_count": 201,
   "id": "ccd1a1b7",
   "metadata": {
    "execution": {
     "iopub.execute_input": "2023-08-13T10:52:47.873443Z",
     "iopub.status.busy": "2023-08-13T10:52:47.872656Z",
     "iopub.status.idle": "2023-08-13T10:52:47.877780Z",
     "shell.execute_reply": "2023-08-13T10:52:47.876536Z"
    },
    "papermill": {
     "duration": 0.122895,
     "end_time": "2023-08-13T10:52:47.880649",
     "exception": false,
     "start_time": "2023-08-13T10:52:47.757754",
     "status": "completed"
    },
    "tags": []
   },
   "outputs": [],
   "source": [
    "# from sklearn.neighbors import KNeighborsClassifier"
   ]
  },
  {
   "cell_type": "code",
   "execution_count": 202,
   "id": "3dd6441e",
   "metadata": {
    "execution": {
     "iopub.execute_input": "2023-08-13T10:52:48.113125Z",
     "iopub.status.busy": "2023-08-13T10:52:48.112305Z",
     "iopub.status.idle": "2023-08-13T10:52:48.117112Z",
     "shell.execute_reply": "2023-08-13T10:52:48.116301Z"
    },
    "papermill": {
     "duration": 0.123823,
     "end_time": "2023-08-13T10:52:48.119485",
     "exception": false,
     "start_time": "2023-08-13T10:52:47.995662",
     "status": "completed"
    },
    "tags": []
   },
   "outputs": [],
   "source": [
    "# Note that we are borrowing \"ct_final\" column transformer from above  "
   ]
  },
  {
   "cell_type": "code",
   "execution_count": 203,
   "id": "101013a2",
   "metadata": {
    "execution": {
     "iopub.execute_input": "2023-08-13T10:52:48.346167Z",
     "iopub.status.busy": "2023-08-13T10:52:48.345405Z",
     "iopub.status.idle": "2023-08-13T10:52:48.350351Z",
     "shell.execute_reply": "2023-08-13T10:52:48.349356Z"
    },
    "papermill": {
     "duration": 0.121611,
     "end_time": "2023-08-13T10:52:48.352683",
     "exception": false,
     "start_time": "2023-08-13T10:52:48.231072",
     "status": "completed"
    },
    "tags": []
   },
   "outputs": [],
   "source": [
    "# pipe_knn = Pipeline(steps=[\n",
    "#                         (\"preprocessor\", ct_final),\n",
    "#                         (\"model\", KNeighborsClassifier())\n",
    "#                     ])\n",
    "# pipe_knn"
   ]
  },
  {
   "cell_type": "code",
   "execution_count": 204,
   "id": "5b2b79ba",
   "metadata": {
    "execution": {
     "iopub.execute_input": "2023-08-13T10:52:48.579182Z",
     "iopub.status.busy": "2023-08-13T10:52:48.578736Z",
     "iopub.status.idle": "2023-08-13T10:52:48.585994Z",
     "shell.execute_reply": "2023-08-13T10:52:48.584852Z"
    },
    "papermill": {
     "duration": 0.122742,
     "end_time": "2023-08-13T10:52:48.588463",
     "exception": false,
     "start_time": "2023-08-13T10:52:48.465721",
     "status": "completed"
    },
    "tags": []
   },
   "outputs": [],
   "source": [
    "# Train and predict on merged training data  \n",
    "# split_train_predict(merged_train_features, merged_train_labels, pipe_knn, test_size=0.25, random_state=42)"
   ]
  },
  {
   "cell_type": "markdown",
   "id": "23c9cebf",
   "metadata": {
    "papermill": {
     "duration": 0.113983,
     "end_time": "2023-08-13T10:52:48.817120",
     "exception": false,
     "start_time": "2023-08-13T10:52:48.703137",
     "status": "completed"
    },
    "tags": []
   },
   "source": [
    "# Part I (Older code)  "
   ]
  },
  {
   "cell_type": "markdown",
   "id": "4d0e1a19",
   "metadata": {
    "papermill": {
     "duration": 0.114529,
     "end_time": "2023-08-13T10:52:49.043957",
     "exception": false,
     "start_time": "2023-08-13T10:52:48.929428",
     "status": "completed"
    },
    "tags": []
   },
   "source": [
    "### Logistic Regression with stop words  "
   ]
  },
  {
   "cell_type": "code",
   "execution_count": 205,
   "id": "2052f3d1",
   "metadata": {
    "execution": {
     "iopub.execute_input": "2023-08-13T10:52:49.271444Z",
     "iopub.status.busy": "2023-08-13T10:52:49.271006Z",
     "iopub.status.idle": "2023-08-13T10:52:49.275315Z",
     "shell.execute_reply": "2023-08-13T10:52:49.274435Z"
    },
    "papermill": {
     "duration": 0.120256,
     "end_time": "2023-08-13T10:52:49.277713",
     "exception": false,
     "start_time": "2023-08-13T10:52:49.157457",
     "status": "completed"
    },
    "tags": []
   },
   "outputs": [],
   "source": [
    "# tvec_sw = TfidfVectorizer(stop_words=stop_words)"
   ]
  },
  {
   "cell_type": "code",
   "execution_count": 206,
   "id": "01b198e6",
   "metadata": {
    "execution": {
     "iopub.execute_input": "2023-08-13T10:52:49.624200Z",
     "iopub.status.busy": "2023-08-13T10:52:49.623003Z",
     "iopub.status.idle": "2023-08-13T10:52:49.628284Z",
     "shell.execute_reply": "2023-08-13T10:52:49.627289Z"
    },
    "papermill": {
     "duration": 0.237874,
     "end_time": "2023-08-13T10:52:49.630644",
     "exception": false,
     "start_time": "2023-08-13T10:52:49.392770",
     "status": "completed"
    },
    "tags": []
   },
   "outputs": [],
   "source": [
    "# logreg_sw_pipe = preprocess_n_train(X_train, y_train, tvec_sw, logreg)\n",
    "# logreg_sw_pipe"
   ]
  },
  {
   "cell_type": "code",
   "execution_count": 207,
   "id": "f2519b3d",
   "metadata": {
    "execution": {
     "iopub.execute_input": "2023-08-13T10:52:49.882284Z",
     "iopub.status.busy": "2023-08-13T10:52:49.881429Z",
     "iopub.status.idle": "2023-08-13T10:52:49.886284Z",
     "shell.execute_reply": "2023-08-13T10:52:49.885458Z"
    },
    "papermill": {
     "duration": 0.133253,
     "end_time": "2023-08-13T10:52:49.888680",
     "exception": false,
     "start_time": "2023-08-13T10:52:49.755427",
     "status": "completed"
    },
    "tags": []
   },
   "outputs": [],
   "source": [
    "# y_pred_logreg_sw = predict_n_evaluate(logreg_sw_pipe, X_test, y_test)\n",
    "# y_pred_logreg_sw"
   ]
  },
  {
   "cell_type": "markdown",
   "id": "d06cff28",
   "metadata": {
    "papermill": {
     "duration": 0.119751,
     "end_time": "2023-08-13T10:52:50.142288",
     "exception": false,
     "start_time": "2023-08-13T10:52:50.022537",
     "status": "completed"
    },
    "tags": []
   },
   "source": [
    "### Logistic regression with different ngram ranges  "
   ]
  },
  {
   "cell_type": "code",
   "execution_count": 208,
   "id": "ce3f600a",
   "metadata": {
    "execution": {
     "iopub.execute_input": "2023-08-13T10:52:50.370823Z",
     "iopub.status.busy": "2023-08-13T10:52:50.370048Z",
     "iopub.status.idle": "2023-08-13T10:52:50.374719Z",
     "shell.execute_reply": "2023-08-13T10:52:50.374006Z"
    },
    "papermill": {
     "duration": 0.121682,
     "end_time": "2023-08-13T10:52:50.377055",
     "exception": false,
     "start_time": "2023-08-13T10:52:50.255373",
     "status": "completed"
    },
    "tags": []
   },
   "outputs": [],
   "source": [
    "# tvec_ngram_2 = TfidfVectorizer(ngram_range=(1,2))"
   ]
  },
  {
   "cell_type": "code",
   "execution_count": 209,
   "id": "5591444a",
   "metadata": {
    "execution": {
     "iopub.execute_input": "2023-08-13T10:52:50.608513Z",
     "iopub.status.busy": "2023-08-13T10:52:50.607756Z",
     "iopub.status.idle": "2023-08-13T10:52:50.612174Z",
     "shell.execute_reply": "2023-08-13T10:52:50.611428Z"
    },
    "papermill": {
     "duration": 0.124256,
     "end_time": "2023-08-13T10:52:50.614358",
     "exception": false,
     "start_time": "2023-08-13T10:52:50.490102",
     "status": "completed"
    },
    "tags": []
   },
   "outputs": [],
   "source": [
    "# logreg_ng2_pipe = preprocess_n_train(X_train, y_train, tvec_ngram_2, logreg)\n",
    "# logreg_ng2_pipe"
   ]
  },
  {
   "cell_type": "code",
   "execution_count": 210,
   "id": "ed293ca4",
   "metadata": {
    "execution": {
     "iopub.execute_input": "2023-08-13T10:52:50.842848Z",
     "iopub.status.busy": "2023-08-13T10:52:50.842261Z",
     "iopub.status.idle": "2023-08-13T10:52:50.846012Z",
     "shell.execute_reply": "2023-08-13T10:52:50.845130Z"
    },
    "papermill": {
     "duration": 0.121796,
     "end_time": "2023-08-13T10:52:50.848284",
     "exception": false,
     "start_time": "2023-08-13T10:52:50.726488",
     "status": "completed"
    },
    "tags": []
   },
   "outputs": [],
   "source": [
    "# y_pred_logreg_ng2 = predict_n_evaluate(logreg_ng2_pipe, X_test, y_test)\n",
    "# y_pred_logreg_ng2"
   ]
  },
  {
   "cell_type": "markdown",
   "id": "8f49e84d",
   "metadata": {
    "papermill": {
     "duration": 0.11415,
     "end_time": "2023-08-13T10:52:51.074969",
     "exception": false,
     "start_time": "2023-08-13T10:52:50.960819",
     "status": "completed"
    },
    "tags": []
   },
   "source": [
    "### Logistic regression with C=2, ngram range (1,2), stop words as None and min_df, max_df adjusted\n",
    "### Class weight balanced"
   ]
  },
  {
   "cell_type": "code",
   "execution_count": 211,
   "id": "532ff742",
   "metadata": {
    "execution": {
     "iopub.execute_input": "2023-08-13T10:52:51.301365Z",
     "iopub.status.busy": "2023-08-13T10:52:51.300615Z",
     "iopub.status.idle": "2023-08-13T10:52:51.305078Z",
     "shell.execute_reply": "2023-08-13T10:52:51.304157Z"
    },
    "papermill": {
     "duration": 0.120336,
     "end_time": "2023-08-13T10:52:51.307496",
     "exception": false,
     "start_time": "2023-08-13T10:52:51.187160",
     "status": "completed"
    },
    "tags": []
   },
   "outputs": [],
   "source": [
    "# logreg = LogisticRegression(max_iter=100000, C=2, class_weight=\"balanced\")"
   ]
  },
  {
   "cell_type": "code",
   "execution_count": 212,
   "id": "d5015afc",
   "metadata": {
    "execution": {
     "iopub.execute_input": "2023-08-13T10:52:51.535942Z",
     "iopub.status.busy": "2023-08-13T10:52:51.535529Z",
     "iopub.status.idle": "2023-08-13T10:52:51.539641Z",
     "shell.execute_reply": "2023-08-13T10:52:51.538581Z"
    },
    "papermill": {
     "duration": 0.120536,
     "end_time": "2023-08-13T10:52:51.542012",
     "exception": false,
     "start_time": "2023-08-13T10:52:51.421476",
     "status": "completed"
    },
    "tags": []
   },
   "outputs": [],
   "source": [
    "# tvec_ngram_2_sw_df = TfidfVectorizer(ngram_range=(1,2), stop_words=None, min_df=0.0001, max_df=0.50)\n",
    "# tvec_ngram_2_sw_df"
   ]
  },
  {
   "cell_type": "code",
   "execution_count": 213,
   "id": "2a1433a1",
   "metadata": {
    "execution": {
     "iopub.execute_input": "2023-08-13T10:52:51.770861Z",
     "iopub.status.busy": "2023-08-13T10:52:51.770108Z",
     "iopub.status.idle": "2023-08-13T10:52:51.774739Z",
     "shell.execute_reply": "2023-08-13T10:52:51.773931Z"
    },
    "papermill": {
     "duration": 0.121495,
     "end_time": "2023-08-13T10:52:51.777005",
     "exception": false,
     "start_time": "2023-08-13T10:52:51.655510",
     "status": "completed"
    },
    "tags": []
   },
   "outputs": [],
   "source": [
    "# logreg_ng2_sw_df_pipe = preprocess_n_train(X_train, y_train, tvec_ngram_2_sw_df, logreg)\n",
    "# logreg_ng2_sw_df_pipe"
   ]
  },
  {
   "cell_type": "code",
   "execution_count": 214,
   "id": "ef1a69e7",
   "metadata": {
    "execution": {
     "iopub.execute_input": "2023-08-13T10:52:52.009100Z",
     "iopub.status.busy": "2023-08-13T10:52:52.008360Z",
     "iopub.status.idle": "2023-08-13T10:52:52.012857Z",
     "shell.execute_reply": "2023-08-13T10:52:52.012053Z"
    },
    "papermill": {
     "duration": 0.123008,
     "end_time": "2023-08-13T10:52:52.015234",
     "exception": false,
     "start_time": "2023-08-13T10:52:51.892226",
     "status": "completed"
    },
    "tags": []
   },
   "outputs": [],
   "source": [
    "# y_pred_logreg_ng2_sw_df = predict_n_evaluate(logreg_ng2_sw_df_pipe, X_test, y_test)\n",
    "# y_pred_logreg_ng2_sw_df"
   ]
  },
  {
   "cell_type": "markdown",
   "id": "d5b263e8",
   "metadata": {
    "papermill": {
     "duration": 0.111214,
     "end_time": "2023-08-13T10:52:52.261484",
     "exception": false,
     "start_time": "2023-08-13T10:52:52.150270",
     "status": "completed"
    },
    "tags": []
   },
   "source": [
    "### Log reg with parameters from GridSearchCV  \n",
    "\n",
    "`This is the best score with \"reviewText column alone for analysis`  "
   ]
  },
  {
   "cell_type": "code",
   "execution_count": 215,
   "id": "d4d26dc5",
   "metadata": {
    "execution": {
     "iopub.execute_input": "2023-08-13T10:52:52.488663Z",
     "iopub.status.busy": "2023-08-13T10:52:52.488009Z",
     "iopub.status.idle": "2023-08-13T10:52:52.493141Z",
     "shell.execute_reply": "2023-08-13T10:52:52.492381Z"
    },
    "papermill": {
     "duration": 0.120148,
     "end_time": "2023-08-13T10:52:52.495297",
     "exception": false,
     "start_time": "2023-08-13T10:52:52.375149",
     "status": "completed"
    },
    "tags": []
   },
   "outputs": [],
   "source": [
    "logreg_cv1 = LogisticRegression(max_iter=100000, C=10)\n",
    "tvec_cv1 = TfidfVectorizer(max_features=None, ngram_range=(1,2))"
   ]
  },
  {
   "cell_type": "code",
   "execution_count": 216,
   "id": "14b8f8ee",
   "metadata": {
    "execution": {
     "iopub.execute_input": "2023-08-13T10:52:52.723151Z",
     "iopub.status.busy": "2023-08-13T10:52:52.722454Z",
     "iopub.status.idle": "2023-08-13T10:52:52.728192Z",
     "shell.execute_reply": "2023-08-13T10:52:52.727193Z"
    },
    "papermill": {
     "duration": 0.122792,
     "end_time": "2023-08-13T10:52:52.730562",
     "exception": false,
     "start_time": "2023-08-13T10:52:52.607770",
     "status": "completed"
    },
    "tags": []
   },
   "outputs": [],
   "source": [
    "pipe_cv1 = Pipeline(steps=[\n",
    "    (\"preprocessor\", tvec_cv1),\n",
    "    (\"model\", logreg_cv1)\n",
    "])"
   ]
  },
  {
   "cell_type": "code",
   "execution_count": 217,
   "id": "1fd2f800",
   "metadata": {
    "execution": {
     "iopub.execute_input": "2023-08-13T10:52:52.957865Z",
     "iopub.status.busy": "2023-08-13T10:52:52.957273Z",
     "iopub.status.idle": "2023-08-13T10:52:52.961563Z",
     "shell.execute_reply": "2023-08-13T10:52:52.960794Z"
    },
    "papermill": {
     "duration": 0.121364,
     "end_time": "2023-08-13T10:52:52.963722",
     "exception": false,
     "start_time": "2023-08-13T10:52:52.842358",
     "status": "completed"
    },
    "tags": []
   },
   "outputs": [],
   "source": [
    "# pipe_cv1.fit(X_train, y_train)"
   ]
  },
  {
   "cell_type": "code",
   "execution_count": 218,
   "id": "02aed851",
   "metadata": {
    "execution": {
     "iopub.execute_input": "2023-08-13T10:52:53.189561Z",
     "iopub.status.busy": "2023-08-13T10:52:53.188948Z",
     "iopub.status.idle": "2023-08-13T10:52:53.193390Z",
     "shell.execute_reply": "2023-08-13T10:52:53.192539Z"
    },
    "papermill": {
     "duration": 0.119938,
     "end_time": "2023-08-13T10:52:53.196125",
     "exception": false,
     "start_time": "2023-08-13T10:52:53.076187",
     "status": "completed"
    },
    "tags": []
   },
   "outputs": [],
   "source": [
    "# pipe_cv1.score(X_train, y_train)"
   ]
  },
  {
   "cell_type": "markdown",
   "id": "0527f847",
   "metadata": {
    "papermill": {
     "duration": 0.117375,
     "end_time": "2023-08-13T10:52:53.431456",
     "exception": false,
     "start_time": "2023-08-13T10:52:53.314081",
     "status": "completed"
    },
    "tags": []
   },
   "source": [
    "### SVM model with stop words  "
   ]
  },
  {
   "cell_type": "code",
   "execution_count": 219,
   "id": "cdc3f4e5",
   "metadata": {
    "execution": {
     "iopub.execute_input": "2023-08-13T10:52:53.671599Z",
     "iopub.status.busy": "2023-08-13T10:52:53.670582Z",
     "iopub.status.idle": "2023-08-13T10:52:53.675574Z",
     "shell.execute_reply": "2023-08-13T10:52:53.674482Z"
    },
    "papermill": {
     "duration": 0.128741,
     "end_time": "2023-08-13T10:52:53.678513",
     "exception": false,
     "start_time": "2023-08-13T10:52:53.549772",
     "status": "completed"
    },
    "tags": []
   },
   "outputs": [],
   "source": [
    "# svm_sw_pipe = preprocess_n_train(X_train, y_train, tvec_sw, svm)\n",
    "# svm_sw_pipe"
   ]
  },
  {
   "cell_type": "code",
   "execution_count": 220,
   "id": "5b63abf4",
   "metadata": {
    "execution": {
     "iopub.execute_input": "2023-08-13T10:52:53.906190Z",
     "iopub.status.busy": "2023-08-13T10:52:53.905499Z",
     "iopub.status.idle": "2023-08-13T10:52:53.910217Z",
     "shell.execute_reply": "2023-08-13T10:52:53.909326Z"
    },
    "papermill": {
     "duration": 0.119832,
     "end_time": "2023-08-13T10:52:53.912437",
     "exception": false,
     "start_time": "2023-08-13T10:52:53.792605",
     "status": "completed"
    },
    "tags": []
   },
   "outputs": [],
   "source": [
    "# y_pred_svm_sw = predict_n_evaluate(svm_sw_pipe, X_test, y_test)\n",
    "# y_pred_svm_sw"
   ]
  },
  {
   "cell_type": "markdown",
   "id": "b1870b60",
   "metadata": {
    "papermill": {
     "duration": 0.114055,
     "end_time": "2023-08-13T10:52:54.139853",
     "exception": false,
     "start_time": "2023-08-13T10:52:54.025798",
     "status": "completed"
    },
    "tags": []
   },
   "source": [
    "### GaussianNB  "
   ]
  },
  {
   "cell_type": "markdown",
   "id": "4aae7b3d",
   "metadata": {
    "papermill": {
     "duration": 0.111307,
     "end_time": "2023-08-13T10:52:54.362831",
     "exception": false,
     "start_time": "2023-08-13T10:52:54.251524",
     "status": "completed"
    },
    "tags": []
   },
   "source": [
    "https://stackoverflow.com/questions/28384680/scikit-learns-pipeline-a-sparse-matrix-was-passed-but-dense-data-is-required"
   ]
  },
  {
   "cell_type": "code",
   "execution_count": 221,
   "id": "023bfa77",
   "metadata": {
    "execution": {
     "iopub.execute_input": "2023-08-13T10:52:54.588351Z",
     "iopub.status.busy": "2023-08-13T10:52:54.587720Z",
     "iopub.status.idle": "2023-08-13T10:52:54.591868Z",
     "shell.execute_reply": "2023-08-13T10:52:54.591120Z"
    },
    "papermill": {
     "duration": 0.119943,
     "end_time": "2023-08-13T10:52:54.594098",
     "exception": false,
     "start_time": "2023-08-13T10:52:54.474155",
     "status": "completed"
    },
    "tags": []
   },
   "outputs": [],
   "source": [
    "# gnb = GaussianNB()\n",
    "# gnb"
   ]
  },
  {
   "cell_type": "code",
   "execution_count": 222,
   "id": "9fca8d57",
   "metadata": {
    "execution": {
     "iopub.execute_input": "2023-08-13T10:52:54.902739Z",
     "iopub.status.busy": "2023-08-13T10:52:54.902153Z",
     "iopub.status.idle": "2023-08-13T10:52:54.906416Z",
     "shell.execute_reply": "2023-08-13T10:52:54.905536Z"
    },
    "papermill": {
     "duration": 0.12033,
     "end_time": "2023-08-13T10:52:54.908528",
     "exception": false,
     "start_time": "2023-08-13T10:52:54.788198",
     "status": "completed"
    },
    "tags": []
   },
   "outputs": [],
   "source": [
    "# gnb_pipe = preprocess_n_train(X_train, y_train, tvec, gnb)\n",
    "# gnb_pipe"
   ]
  },
  {
   "cell_type": "markdown",
   "id": "1a62f07e",
   "metadata": {
    "papermill": {
     "duration": 0.11159,
     "end_time": "2023-08-13T10:52:55.133424",
     "exception": false,
     "start_time": "2023-08-13T10:52:55.021834",
     "status": "completed"
    },
    "tags": []
   },
   "source": [
    "# Part II (Older code)  \n"
   ]
  },
  {
   "cell_type": "markdown",
   "id": "8912066e",
   "metadata": {
    "papermill": {
     "duration": 0.111209,
     "end_time": "2023-08-13T10:52:55.359376",
     "exception": false,
     "start_time": "2023-08-13T10:52:55.248167",
     "status": "completed"
    },
    "tags": []
   },
   "source": [
    "### Separate features and labels from merged dataset  "
   ]
  },
  {
   "cell_type": "code",
   "execution_count": 223,
   "id": "8b9a97f7",
   "metadata": {
    "execution": {
     "iopub.execute_input": "2023-08-13T10:52:55.586110Z",
     "iopub.status.busy": "2023-08-13T10:52:55.585713Z",
     "iopub.status.idle": "2023-08-13T10:52:55.590257Z",
     "shell.execute_reply": "2023-08-13T10:52:55.589241Z"
    },
    "papermill": {
     "duration": 0.120824,
     "end_time": "2023-08-13T10:52:55.592354",
     "exception": false,
     "start_time": "2023-08-13T10:52:55.471530",
     "status": "completed"
    },
    "tags": []
   },
   "outputs": [],
   "source": [
    "# merged_train_features = merged[['movieid', 'reviewerName', 'isFrequentReviewer', 'reviewText',\n",
    "#        'audienceScore', 'rating', 'runtimeMinutes', 'genre',\n",
    "#        'originalLanguage', 'director']]\n",
    "# merged_train_features.shape"
   ]
  },
  {
   "cell_type": "code",
   "execution_count": 224,
   "id": "9000da66",
   "metadata": {
    "execution": {
     "iopub.execute_input": "2023-08-13T10:52:55.819810Z",
     "iopub.status.busy": "2023-08-13T10:52:55.818564Z",
     "iopub.status.idle": "2023-08-13T10:52:55.823793Z",
     "shell.execute_reply": "2023-08-13T10:52:55.822897Z"
    },
    "papermill": {
     "duration": 0.121558,
     "end_time": "2023-08-13T10:52:55.826121",
     "exception": false,
     "start_time": "2023-08-13T10:52:55.704563",
     "status": "completed"
    },
    "tags": []
   },
   "outputs": [],
   "source": [
    "# merged_train_labels = merged[\"sentiment\"]\n",
    "# merged_train_labels.shape"
   ]
  },
  {
   "cell_type": "markdown",
   "id": "c0743bd1",
   "metadata": {
    "papermill": {
     "duration": 0.112118,
     "end_time": "2023-08-13T10:52:56.051242",
     "exception": false,
     "start_time": "2023-08-13T10:52:55.939124",
     "status": "completed"
    },
    "tags": []
   },
   "source": [
    "### Identify variable types for different preprocessing pipes  "
   ]
  },
  {
   "cell_type": "code",
   "execution_count": 225,
   "id": "8ce2604b",
   "metadata": {
    "execution": {
     "iopub.execute_input": "2023-08-13T10:52:56.276957Z",
     "iopub.status.busy": "2023-08-13T10:52:56.276321Z",
     "iopub.status.idle": "2023-08-13T10:52:56.280826Z",
     "shell.execute_reply": "2023-08-13T10:52:56.280000Z"
    },
    "papermill": {
     "duration": 0.120546,
     "end_time": "2023-08-13T10:52:56.283115",
     "exception": false,
     "start_time": "2023-08-13T10:52:56.162569",
     "status": "completed"
    },
    "tags": []
   },
   "outputs": [],
   "source": [
    "# num_vars = [\"audienceScore\", \"runtimeMinutes\"]\n",
    "# txt_vars = [\"originalLanguage\", \"genre\", \"director\", \"reviewerName\", \"reviewText\"]\n",
    "# cat_vars = [\"rating\", \"isFrequentReviewer\"]"
   ]
  },
  {
   "cell_type": "code",
   "execution_count": 226,
   "id": "616b7fff",
   "metadata": {
    "execution": {
     "iopub.execute_input": "2023-08-13T10:52:56.507833Z",
     "iopub.status.busy": "2023-08-13T10:52:56.507256Z",
     "iopub.status.idle": "2023-08-13T10:52:56.511648Z",
     "shell.execute_reply": "2023-08-13T10:52:56.510900Z"
    },
    "papermill": {
     "duration": 0.119669,
     "end_time": "2023-08-13T10:52:56.513763",
     "exception": false,
     "start_time": "2023-08-13T10:52:56.394094",
     "status": "completed"
    },
    "tags": []
   },
   "outputs": [],
   "source": [
    "# num_pipe = Pipeline(steps=[\n",
    "#                             (\"imputer\", SimpleImputer(strategy=\"mean\", missing_values=np.nan)),\n",
    "#                             (\"scaler\", MinMaxScaler())\n",
    "#                         ])\n",
    "# num_pipe"
   ]
  },
  {
   "cell_type": "code",
   "execution_count": 227,
   "id": "604159ec",
   "metadata": {
    "execution": {
     "iopub.execute_input": "2023-08-13T10:52:56.740664Z",
     "iopub.status.busy": "2023-08-13T10:52:56.740105Z",
     "iopub.status.idle": "2023-08-13T10:52:56.745331Z",
     "shell.execute_reply": "2023-08-13T10:52:56.744017Z"
    },
    "papermill": {
     "duration": 0.120618,
     "end_time": "2023-08-13T10:52:56.747598",
     "exception": false,
     "start_time": "2023-08-13T10:52:56.626980",
     "status": "completed"
    },
    "tags": []
   },
   "outputs": [],
   "source": [
    "# txt_pipe = Pipeline(steps=[\n",
    "#                             (\"tvec\", TfidfVectorizer())\n",
    "#                         ])\n",
    "# txt_pipe"
   ]
  },
  {
   "cell_type": "code",
   "execution_count": 228,
   "id": "354a62ac",
   "metadata": {
    "execution": {
     "iopub.execute_input": "2023-08-13T10:52:56.975846Z",
     "iopub.status.busy": "2023-08-13T10:52:56.975131Z",
     "iopub.status.idle": "2023-08-13T10:52:56.979772Z",
     "shell.execute_reply": "2023-08-13T10:52:56.978979Z"
    },
    "papermill": {
     "duration": 0.12247,
     "end_time": "2023-08-13T10:52:56.982645",
     "exception": false,
     "start_time": "2023-08-13T10:52:56.860175",
     "status": "completed"
    },
    "tags": []
   },
   "outputs": [],
   "source": [
    "# cat_pipe = Pipeline(steps=[\n",
    "#                             (\"ohe\", OneHotEncoder(handle_unknown=\"ignore\"))\n",
    "#                         ])\n",
    "# cat_pipe"
   ]
  },
  {
   "cell_type": "code",
   "execution_count": 229,
   "id": "789d3204",
   "metadata": {
    "execution": {
     "iopub.execute_input": "2023-08-13T10:52:57.210110Z",
     "iopub.status.busy": "2023-08-13T10:52:57.209595Z",
     "iopub.status.idle": "2023-08-13T10:52:57.213784Z",
     "shell.execute_reply": "2023-08-13T10:52:57.212978Z"
    },
    "papermill": {
     "duration": 0.120209,
     "end_time": "2023-08-13T10:52:57.216017",
     "exception": false,
     "start_time": "2023-08-13T10:52:57.095808",
     "status": "completed"
    },
    "tags": []
   },
   "outputs": [],
   "source": [
    "# tfidf_vec_1 = TfidfVectorizer(ngram_range=(1,2))\n",
    "# tfidf_vec_1"
   ]
  },
  {
   "cell_type": "code",
   "execution_count": 230,
   "id": "1f3463b3",
   "metadata": {
    "execution": {
     "iopub.execute_input": "2023-08-13T10:52:57.442912Z",
     "iopub.status.busy": "2023-08-13T10:52:57.442101Z",
     "iopub.status.idle": "2023-08-13T10:52:57.447570Z",
     "shell.execute_reply": "2023-08-13T10:52:57.446762Z"
    },
    "papermill": {
     "duration": 0.121236,
     "end_time": "2023-08-13T10:52:57.449881",
     "exception": false,
     "start_time": "2023-08-13T10:52:57.328645",
     "status": "completed"
    },
    "tags": []
   },
   "outputs": [],
   "source": [
    "# ct_final = ColumnTransformer(transformers=[\n",
    "#                                         (\"num\", num_pipe, num_vars),\n",
    "#                                         (\"txt1\", txt_pipe, \"originalLanguage\"),\n",
    "#                                         (\"txt2\", txt_pipe, \"genre\"),\n",
    "#                                         (\"txt3\", txt_pipe, \"director\"),\n",
    "#                                         (\"cat\", cat_pipe, cat_vars),\n",
    "#                                         (\"txt4a\", tfidf_vec_1, \"reviewText\")\n",
    "# #                                         (\"txt4\", TfidfVectorizer(ngram_range=(1,2)), \"reviewText\"),\n",
    "# #                                         (\"cat2\", cat_pipe, [\"isFrequentReviewer\"])\n",
    "#                                         ], remainder=\"drop\", n_jobs=1)\n",
    "\n",
    "# # Note that this transformer drops \"movieid\" column and \"reviewerName\" column  \n",
    "# ct_final"
   ]
  },
  {
   "cell_type": "code",
   "execution_count": 231,
   "id": "24501a30",
   "metadata": {
    "execution": {
     "iopub.execute_input": "2023-08-13T10:52:57.678379Z",
     "iopub.status.busy": "2023-08-13T10:52:57.677880Z",
     "iopub.status.idle": "2023-08-13T10:52:57.682531Z",
     "shell.execute_reply": "2023-08-13T10:52:57.681664Z"
    },
    "papermill": {
     "duration": 0.122914,
     "end_time": "2023-08-13T10:52:57.684665",
     "exception": false,
     "start_time": "2023-08-13T10:52:57.561751",
     "status": "completed"
    },
    "tags": []
   },
   "outputs": [],
   "source": [
    "# pipe_final = Pipeline(steps=[\n",
    "#                         (\"preprocessor\", ct_final),\n",
    "#                         (\"model\", LogisticRegression(max_iter=100000))\n",
    "#                     ])\n",
    "# pipe_final"
   ]
  },
  {
   "cell_type": "code",
   "execution_count": 232,
   "id": "a0a7fd1f",
   "metadata": {
    "execution": {
     "iopub.execute_input": "2023-08-13T10:52:57.915773Z",
     "iopub.status.busy": "2023-08-13T10:52:57.914399Z",
     "iopub.status.idle": "2023-08-13T10:52:57.919914Z",
     "shell.execute_reply": "2023-08-13T10:52:57.919111Z"
    },
    "papermill": {
     "duration": 0.122137,
     "end_time": "2023-08-13T10:52:57.922367",
     "exception": false,
     "start_time": "2023-08-13T10:52:57.800230",
     "status": "completed"
    },
    "tags": []
   },
   "outputs": [],
   "source": [
    "# final_vars = num_vars + txt_vars + cat_vars\n",
    "# len(final_vars), final_vars"
   ]
  },
  {
   "cell_type": "markdown",
   "id": "e901f425",
   "metadata": {
    "papermill": {
     "duration": 0.111402,
     "end_time": "2023-08-13T10:52:58.148988",
     "exception": false,
     "start_time": "2023-08-13T10:52:58.037586",
     "status": "completed"
    },
    "tags": []
   },
   "source": [
    "### Use \"split_train_predict\" function to run end-to-end pipeline  "
   ]
  },
  {
   "cell_type": "code",
   "execution_count": 233,
   "id": "697c3668",
   "metadata": {
    "execution": {
     "iopub.execute_input": "2023-08-13T10:52:58.376366Z",
     "iopub.status.busy": "2023-08-13T10:52:58.375299Z",
     "iopub.status.idle": "2023-08-13T10:52:58.380472Z",
     "shell.execute_reply": "2023-08-13T10:52:58.379679Z"
    },
    "papermill": {
     "duration": 0.121069,
     "end_time": "2023-08-13T10:52:58.382687",
     "exception": false,
     "start_time": "2023-08-13T10:52:58.261618",
     "status": "completed"
    },
    "tags": []
   },
   "outputs": [],
   "source": [
    "# split_train_predict(merged_train_features, merged_train_labels, pipe_final, test_size=0.25, random_state=42)"
   ]
  },
  {
   "cell_type": "markdown",
   "id": "ef45ae7c",
   "metadata": {
    "papermill": {
     "duration": 0.111128,
     "end_time": "2023-08-13T10:52:58.606477",
     "exception": false,
     "start_time": "2023-08-13T10:52:58.495349",
     "status": "completed"
    },
    "tags": []
   },
   "source": [
    "## Try the best four features obtained on local machine  "
   ]
  },
  {
   "cell_type": "code",
   "execution_count": 234,
   "id": "66ba3401",
   "metadata": {
    "execution": {
     "iopub.execute_input": "2023-08-13T10:52:58.837956Z",
     "iopub.status.busy": "2023-08-13T10:52:58.836565Z",
     "iopub.status.idle": "2023-08-13T10:52:58.842426Z",
     "shell.execute_reply": "2023-08-13T10:52:58.841465Z"
    },
    "papermill": {
     "duration": 0.123673,
     "end_time": "2023-08-13T10:52:58.844864",
     "exception": false,
     "start_time": "2023-08-13T10:52:58.721191",
     "status": "completed"
    },
    "tags": []
   },
   "outputs": [],
   "source": [
    "# tfidf_vec_2 = TfidfVectorizer(ngram_range=(1,2))\n",
    "# tfidf_vec_2"
   ]
  },
  {
   "cell_type": "code",
   "execution_count": 235,
   "id": "92ca4361",
   "metadata": {
    "execution": {
     "iopub.execute_input": "2023-08-13T10:52:59.077164Z",
     "iopub.status.busy": "2023-08-13T10:52:59.075791Z",
     "iopub.status.idle": "2023-08-13T10:52:59.081154Z",
     "shell.execute_reply": "2023-08-13T10:52:59.080238Z"
    },
    "papermill": {
     "duration": 0.124541,
     "end_time": "2023-08-13T10:52:59.083295",
     "exception": false,
     "start_time": "2023-08-13T10:52:58.958754",
     "status": "completed"
    },
    "tags": []
   },
   "outputs": [],
   "source": [
    "# ct_best4 = ColumnTransformer(transformers=[\n",
    "#                                             (\"num\", num_pipe, [\"audienceScore\"]),\n",
    "#                                             (\"cat\", cat_pipe, [\"rating\", \"isFrequentReviewer\"]),\n",
    "#                                             (\"tvec\", tfidf_vec_2, \"reviewText\")\n",
    "#                             ])\n",
    "\n",
    "# pipe_best4 = Pipeline(steps=[\n",
    "#     (\"preprocessor\", ct_best4),\n",
    "#     (\"model\", LogisticRegression())\n",
    "# ])\n",
    "\n",
    "# pipe_best4.set_params(model__C=10, model__max_iter=100000)\n",
    "\n",
    "# pipe_best4"
   ]
  },
  {
   "cell_type": "code",
   "execution_count": 236,
   "id": "ba0b7647",
   "metadata": {
    "execution": {
     "iopub.execute_input": "2023-08-13T10:52:59.310335Z",
     "iopub.status.busy": "2023-08-13T10:52:59.309802Z",
     "iopub.status.idle": "2023-08-13T10:52:59.315270Z",
     "shell.execute_reply": "2023-08-13T10:52:59.313567Z"
    },
    "papermill": {
     "duration": 0.122054,
     "end_time": "2023-08-13T10:52:59.317562",
     "exception": false,
     "start_time": "2023-08-13T10:52:59.195508",
     "status": "completed"
    },
    "tags": []
   },
   "outputs": [],
   "source": [
    "# split_train_predict(merged[[\"audienceScore\", \"rating\", \"isFrequentReviewer\", \"reviewText\"]], merged[\"sentiment\"], pipe_best4, test_size=0.25)"
   ]
  },
  {
   "cell_type": "markdown",
   "id": "e00ee4e8",
   "metadata": {
    "papermill": {
     "duration": 0.111663,
     "end_time": "2023-08-13T10:52:59.541987",
     "exception": false,
     "start_time": "2023-08-13T10:52:59.430324",
     "status": "completed"
    },
    "tags": []
   },
   "source": [
    "## Try only 'reviewText' column  "
   ]
  },
  {
   "cell_type": "code",
   "execution_count": 237,
   "id": "d51e3c76",
   "metadata": {
    "execution": {
     "iopub.execute_input": "2023-08-13T10:52:59.843202Z",
     "iopub.status.busy": "2023-08-13T10:52:59.842769Z",
     "iopub.status.idle": "2023-08-13T10:52:59.847947Z",
     "shell.execute_reply": "2023-08-13T10:52:59.846736Z"
    },
    "papermill": {
     "duration": 0.194391,
     "end_time": "2023-08-13T10:52:59.850355",
     "exception": false,
     "start_time": "2023-08-13T10:52:59.655964",
     "status": "completed"
    },
    "tags": []
   },
   "outputs": [],
   "source": [
    "# tfidf_vec_3 = TfidfVectorizer(ngram_range=(1,2))\n",
    "# tfidf_vec_3"
   ]
  },
  {
   "cell_type": "code",
   "execution_count": 238,
   "id": "e581eee7",
   "metadata": {
    "execution": {
     "iopub.execute_input": "2023-08-13T10:53:00.082228Z",
     "iopub.status.busy": "2023-08-13T10:53:00.081664Z",
     "iopub.status.idle": "2023-08-13T10:53:00.087234Z",
     "shell.execute_reply": "2023-08-13T10:53:00.085780Z"
    },
    "papermill": {
     "duration": 0.124896,
     "end_time": "2023-08-13T10:53:00.089842",
     "exception": false,
     "start_time": "2023-08-13T10:52:59.964946",
     "status": "completed"
    },
    "tags": []
   },
   "outputs": [],
   "source": [
    "# ct_RTonly = ColumnTransformer(transformers=[\n",
    "#                                             ('txt', tfidf_vec_3, 'reviewText'),\n",
    "#                                             ], remainder='drop')\n",
    "# ct_RTonly"
   ]
  },
  {
   "cell_type": "code",
   "execution_count": 239,
   "id": "c6abf091",
   "metadata": {
    "execution": {
     "iopub.execute_input": "2023-08-13T10:53:00.317543Z",
     "iopub.status.busy": "2023-08-13T10:53:00.316856Z",
     "iopub.status.idle": "2023-08-13T10:53:00.320898Z",
     "shell.execute_reply": "2023-08-13T10:53:00.320096Z"
    },
    "papermill": {
     "duration": 0.121102,
     "end_time": "2023-08-13T10:53:00.323222",
     "exception": false,
     "start_time": "2023-08-13T10:53:00.202120",
     "status": "completed"
    },
    "tags": []
   },
   "outputs": [],
   "source": [
    "# pipe_RTonly = Pipeline(steps=[\n",
    "#     (\"preprocessor\", ct_RTonly),\n",
    "#     (\"model\", LogisticRegression())\n",
    "# ])\n",
    "\n",
    "# pipe_RTonly.set_params(model__C=10, model__max_iter=100000)\n",
    "\n",
    "# pipe_RTonly"
   ]
  },
  {
   "cell_type": "markdown",
   "id": "cb1f06ac",
   "metadata": {
    "papermill": {
     "duration": 0.111655,
     "end_time": "2023-08-13T10:53:00.548312",
     "exception": false,
     "start_time": "2023-08-13T10:53:00.436657",
     "status": "completed"
    },
    "tags": []
   },
   "source": [
    "## Using the 'submit_v4' function  "
   ]
  },
  {
   "cell_type": "markdown",
   "id": "1bff0db9",
   "metadata": {
    "papermill": {
     "duration": 0.112103,
     "end_time": "2023-08-13T10:53:00.774685",
     "exception": false,
     "start_time": "2023-08-13T10:53:00.662582",
     "status": "completed"
    },
    "tags": []
   },
   "source": [
    "### Try the best 4 parameters with submit_v4 function"
   ]
  },
  {
   "cell_type": "code",
   "execution_count": 240,
   "id": "1d78c8d4",
   "metadata": {
    "execution": {
     "iopub.execute_input": "2023-08-13T10:53:01.006941Z",
     "iopub.status.busy": "2023-08-13T10:53:01.006163Z",
     "iopub.status.idle": "2023-08-13T10:53:01.011674Z",
     "shell.execute_reply": "2023-08-13T10:53:01.010460Z"
    },
    "papermill": {
     "duration": 0.125251,
     "end_time": "2023-08-13T10:53:01.014431",
     "exception": false,
     "start_time": "2023-08-13T10:53:00.889180",
     "status": "completed"
    },
    "tags": []
   },
   "outputs": [],
   "source": [
    "# best4 = [\"audienceScore\", \"rating\", \"isFrequentReviewer\", \"reviewText\"]\n",
    "\n",
    "# best4_dict = {'cat': [\"rating\", \"isFrequentReviewer\"],\n",
    "#              'num': [\"audienceScore\"],\n",
    "#              'txt': ['reviewText']}\n",
    "\n",
    "# best4_dict = {'num': [\"audienceScore\"],\n",
    "#              'txt': ['reviewText', 'movieid', 'director']}\n",
    "\n",
    "# best4_dict"
   ]
  },
  {
   "cell_type": "code",
   "execution_count": 241,
   "id": "a3af093e",
   "metadata": {
    "execution": {
     "iopub.execute_input": "2023-08-13T10:53:01.241348Z",
     "iopub.status.busy": "2023-08-13T10:53:01.240816Z",
     "iopub.status.idle": "2023-08-13T10:53:01.246183Z",
     "shell.execute_reply": "2023-08-13T10:53:01.244959Z"
    },
    "papermill": {
     "duration": 0.122142,
     "end_time": "2023-08-13T10:53:01.249220",
     "exception": false,
     "start_time": "2023-08-13T10:53:01.127078",
     "status": "completed"
    },
    "tags": []
   },
   "outputs": [],
   "source": [
    "# submit_v4(selected_features=best4_dict)"
   ]
  },
  {
   "cell_type": "markdown",
   "id": "5a444607",
   "metadata": {
    "papermill": {
     "duration": 0.111932,
     "end_time": "2023-08-13T10:53:01.477422",
     "exception": false,
     "start_time": "2023-08-13T10:53:01.365490",
     "status": "completed"
    },
    "tags": []
   },
   "source": [
    "### Try the best 3 parameters with submit_v4 function"
   ]
  },
  {
   "cell_type": "code",
   "execution_count": 242,
   "id": "0044e4b3",
   "metadata": {
    "execution": {
     "iopub.execute_input": "2023-08-13T10:53:01.706030Z",
     "iopub.status.busy": "2023-08-13T10:53:01.705223Z",
     "iopub.status.idle": "2023-08-13T10:53:01.709579Z",
     "shell.execute_reply": "2023-08-13T10:53:01.708733Z"
    },
    "papermill": {
     "duration": 0.122099,
     "end_time": "2023-08-13T10:53:01.711821",
     "exception": false,
     "start_time": "2023-08-13T10:53:01.589722",
     "status": "completed"
    },
    "tags": []
   },
   "outputs": [],
   "source": [
    "# best3 = [\"audienceScore\", \"isFrequentReviewer\", \"reviewText\"]\n",
    "# best3_dict = {'cat': [\"isFrequentReviewer\"],\n",
    "#              'num': [\"audienceScore\"],\n",
    "#              'txt': ['reviewText']}\n",
    "# best3_dict"
   ]
  },
  {
   "cell_type": "code",
   "execution_count": 243,
   "id": "0f7d4d52",
   "metadata": {
    "execution": {
     "iopub.execute_input": "2023-08-13T10:53:01.947966Z",
     "iopub.status.busy": "2023-08-13T10:53:01.947234Z",
     "iopub.status.idle": "2023-08-13T10:53:01.951436Z",
     "shell.execute_reply": "2023-08-13T10:53:01.950494Z"
    },
    "papermill": {
     "duration": 0.128453,
     "end_time": "2023-08-13T10:53:01.953763",
     "exception": false,
     "start_time": "2023-08-13T10:53:01.825310",
     "status": "completed"
    },
    "tags": []
   },
   "outputs": [],
   "source": [
    "# submit_v4(selected_features=best3_dict)"
   ]
  },
  {
   "cell_type": "markdown",
   "id": "431735e5",
   "metadata": {
    "papermill": {
     "duration": 0.120335,
     "end_time": "2023-08-13T10:53:02.200000",
     "exception": false,
     "start_time": "2023-08-13T10:53:02.079665",
     "status": "completed"
    },
    "tags": []
   },
   "source": [
    "## Try throwing almost everything (no boxOffice) at submit_v4!  "
   ]
  },
  {
   "cell_type": "code",
   "execution_count": 244,
   "id": "08c79897",
   "metadata": {
    "execution": {
     "iopub.execute_input": "2023-08-13T10:53:02.428471Z",
     "iopub.status.busy": "2023-08-13T10:53:02.427790Z",
     "iopub.status.idle": "2023-08-13T10:53:02.434296Z",
     "shell.execute_reply": "2023-08-13T10:53:02.433081Z"
    },
    "papermill": {
     "duration": 0.124315,
     "end_time": "2023-08-13T10:53:02.436467",
     "exception": false,
     "start_time": "2023-08-13T10:53:02.312152",
     "status": "completed"
    },
    "tags": []
   },
   "outputs": [
    {
     "data": {
      "text/plain": [
       "\"Most from merged = ['movieid', 'reviewerName', 'isFrequentReviewer', 'reviewText',\\n       'audienceScore', 'rating', 'runtimeMinutes', 'genre', \\n       'originalLanguage', 'director']\""
      ]
     },
     "execution_count": 244,
     "metadata": {},
     "output_type": "execute_result"
    }
   ],
   "source": [
    "\"\"\"Most from merged = ['movieid', 'reviewerName', 'isFrequentReviewer', 'reviewText',\n",
    "       'audienceScore', 'rating', 'runtimeMinutes', 'genre', \n",
    "       'originalLanguage', 'director']\"\"\"\n",
    "\n",
    "# almost_dict = {'cat': [\"isFrequentReviewer\", \"rating\", \"originalLanguage\"],\n",
    "#              'num': [\"audienceScore\", \"runtimeMinutes\"],\n",
    "#              'txt': ['reviewText', 'reviewerName', 'movieid', 'genre', 'director']}\n",
    "# almost_dict"
   ]
  },
  {
   "cell_type": "code",
   "execution_count": 245,
   "id": "fed0e16f",
   "metadata": {
    "execution": {
     "iopub.execute_input": "2023-08-13T10:53:02.665773Z",
     "iopub.status.busy": "2023-08-13T10:53:02.665079Z",
     "iopub.status.idle": "2023-08-13T10:53:02.669261Z",
     "shell.execute_reply": "2023-08-13T10:53:02.668398Z"
    },
    "papermill": {
     "duration": 0.123646,
     "end_time": "2023-08-13T10:53:02.671515",
     "exception": false,
     "start_time": "2023-08-13T10:53:02.547869",
     "status": "completed"
    },
    "tags": []
   },
   "outputs": [],
   "source": [
    "# submit_v4(selected_features=almost_dict)"
   ]
  },
  {
   "cell_type": "markdown",
   "id": "e5b05cfd",
   "metadata": {
    "papermill": {
     "duration": 0.117076,
     "end_time": "2023-08-13T10:53:02.902208",
     "exception": false,
     "start_time": "2023-08-13T10:53:02.785132",
     "status": "completed"
    },
    "tags": []
   },
   "source": [
    "## Try throwing everything possible at submit_v4!  "
   ]
  },
  {
   "cell_type": "code",
   "execution_count": 246,
   "id": "0b1e9795",
   "metadata": {
    "execution": {
     "iopub.execute_input": "2023-08-13T10:53:03.140808Z",
     "iopub.status.busy": "2023-08-13T10:53:03.140378Z",
     "iopub.status.idle": "2023-08-13T10:53:03.147629Z",
     "shell.execute_reply": "2023-08-13T10:53:03.146767Z"
    },
    "papermill": {
     "duration": 0.129056,
     "end_time": "2023-08-13T10:53:03.149772",
     "exception": false,
     "start_time": "2023-08-13T10:53:03.020716",
     "status": "completed"
    },
    "tags": []
   },
   "outputs": [
    {
     "data": {
      "text/plain": [
       "\"All from merged = ['movieid', 'reviewerName', 'isFrequentReviewer', 'reviewText',\\n       'audienceScore', 'rating', 'runtimeMinutes', 'genre', 'boxOffice',\\n       'originalLanguage', 'director']\""
      ]
     },
     "execution_count": 246,
     "metadata": {},
     "output_type": "execute_result"
    }
   ],
   "source": [
    "\"\"\"All from merged = ['movieid', 'reviewerName', 'isFrequentReviewer', 'reviewText',\n",
    "       'audienceScore', 'rating', 'runtimeMinutes', 'genre', 'boxOffice',\n",
    "       'originalLanguage', 'director']\"\"\"\n",
    "\n",
    "# all_dict = {'cat': [\"isFrequentReviewer\", \"rating\", \"originalLanguage\"],\n",
    "#              'num': [\"audienceScore\", \"runtimeMinutes\", \"boxOffice\"],\n",
    "#              'txt': ['reviewText', 'reviewerName', 'movieid', 'genre', 'director']}\n",
    "# all_dict"
   ]
  },
  {
   "cell_type": "code",
   "execution_count": 247,
   "id": "4601d80e",
   "metadata": {
    "execution": {
     "iopub.execute_input": "2023-08-13T10:53:03.386340Z",
     "iopub.status.busy": "2023-08-13T10:53:03.385492Z",
     "iopub.status.idle": "2023-08-13T10:53:03.390651Z",
     "shell.execute_reply": "2023-08-13T10:53:03.389783Z"
    },
    "papermill": {
     "duration": 0.124975,
     "end_time": "2023-08-13T10:53:03.392947",
     "exception": false,
     "start_time": "2023-08-13T10:53:03.267972",
     "status": "completed"
    },
    "tags": []
   },
   "outputs": [],
   "source": [
    "# submit_v4(selected_features=all_dict)"
   ]
  },
  {
   "cell_type": "markdown",
   "id": "e12cf92a",
   "metadata": {
    "papermill": {
     "duration": 0.111957,
     "end_time": "2023-08-13T10:53:03.620078",
     "exception": false,
     "start_time": "2023-08-13T10:53:03.508121",
     "status": "completed"
    },
    "tags": []
   },
   "source": [
    "## Try GridSearchCV on everything  "
   ]
  },
  {
   "cell_type": "code",
   "execution_count": 248,
   "id": "ed6f0c6c",
   "metadata": {
    "execution": {
     "iopub.execute_input": "2023-08-13T10:53:03.847369Z",
     "iopub.status.busy": "2023-08-13T10:53:03.846428Z",
     "iopub.status.idle": "2023-08-13T10:53:03.852981Z",
     "shell.execute_reply": "2023-08-13T10:53:03.851424Z"
    },
    "papermill": {
     "duration": 0.123145,
     "end_time": "2023-08-13T10:53:03.855634",
     "exception": false,
     "start_time": "2023-08-13T10:53:03.732489",
     "status": "completed"
    },
    "tags": []
   },
   "outputs": [],
   "source": [
    "# param_grid = {\n",
    "#     \"model__C\": [0.5, 2, 5, 15]\n",
    "# }\n",
    "\n",
    "# param_grid = {\n",
    "#     'model__C' : [1, 5],\n",
    "#     'model__solver': ['lbfgs', 'liblinear', 'newton-cg', 'newton-cholesky', 'sag', 'saga']\n",
    "# }\n",
    "\n",
    "# param_grid = {\n",
    "#     'model__C' : [1, 5],\n",
    "#     'model__solver': ['lbfgs', 'liblinear', 'sag', 'saga']\n",
    "# }\n",
    "\n",
    "# param_grid = {\n",
    "#     'model__C' : [1, 5, 10, 15],\n",
    "#     'model__solver': ['lbfgs', 'liblinear', 'saga', 'newton-cg']\n",
    "# }\n",
    "\n",
    "# param_grid = {\n",
    "#     'model__C' : [1, 5, 10, 20],\n",
    "#     'model__solver': ['lbfgs', 'liblinear', 'saga']\n",
    "# }\n",
    "\n",
    "# param_grid"
   ]
  },
  {
   "cell_type": "code",
   "execution_count": 249,
   "id": "0352f5b2",
   "metadata": {
    "execution": {
     "iopub.execute_input": "2023-08-13T10:53:04.085750Z",
     "iopub.status.busy": "2023-08-13T10:53:04.084832Z",
     "iopub.status.idle": "2023-08-13T10:53:04.090611Z",
     "shell.execute_reply": "2023-08-13T10:53:04.089410Z"
    },
    "papermill": {
     "duration": 0.123351,
     "end_time": "2023-08-13T10:53:04.092744",
     "exception": false,
     "start_time": "2023-08-13T10:53:03.969393",
     "status": "completed"
    },
    "tags": []
   },
   "outputs": [],
   "source": [
    "# submit_v4(selected_features={'txt': [\"genre\"]}, param_grid=param_grid)"
   ]
  },
  {
   "cell_type": "code",
   "execution_count": 250,
   "id": "911b0806",
   "metadata": {
    "execution": {
     "iopub.execute_input": "2023-08-13T10:53:04.321062Z",
     "iopub.status.busy": "2023-08-13T10:53:04.319820Z",
     "iopub.status.idle": "2023-08-13T10:53:04.326866Z",
     "shell.execute_reply": "2023-08-13T10:53:04.326053Z"
    },
    "papermill": {
     "duration": 0.122829,
     "end_time": "2023-08-13T10:53:04.328952",
     "exception": false,
     "start_time": "2023-08-13T10:53:04.206123",
     "status": "completed"
    },
    "tags": []
   },
   "outputs": [
    {
     "data": {
      "text/plain": [
       "\"Used 'groupby' function instead on 'drop_duplicates' on movies.csv file. \\nIt reduced the number of missing values significantly! \\nThen used LogisticRegression() with GridSearchCV on submit_v4 function with \\nparam_grid={'model__C': [1, 5, 10], 'model__solver': ['lbfgs', 'liblinear', 'saga']}. \\nThe best f1_micro score in GridSearchCV was 0.8399771362056203 which is highest among \\nall the versions so far. Best C was 5 and best solver was 'saga'.\\nScore obtained was 0.84385 which is lower than 0.84441.\""
      ]
     },
     "execution_count": 250,
     "metadata": {},
     "output_type": "execute_result"
    }
   ],
   "source": [
    "# submit_v4(selected_features=all_dict, param_grid=param_grid)\n",
    "\n",
    "# Best C was 5\n",
    "# Best solver was liblinear\n",
    "\n",
    "\"\"\"Used 'groupby' function instead on 'drop_duplicates' on movies.csv file. \n",
    "It reduced the number of missing values significantly! \n",
    "Then used LogisticRegression() with GridSearchCV on submit_v4 function with \n",
    "param_grid={'model__C': [1, 5, 10], 'model__solver': ['lbfgs', 'liblinear', 'saga']}. \n",
    "The best f1_micro score in GridSearchCV was 0.8399771362056203 which is highest among \n",
    "all the versions so far. Best C was 5 and best solver was 'saga'.\n",
    "Score obtained was 0.84385 which is lower than 0.84441.\"\"\""
   ]
  },
  {
   "cell_type": "code",
   "execution_count": 251,
   "id": "9d8e79d7",
   "metadata": {
    "execution": {
     "iopub.execute_input": "2023-08-13T10:53:04.556635Z",
     "iopub.status.busy": "2023-08-13T10:53:04.555826Z",
     "iopub.status.idle": "2023-08-13T10:53:04.560651Z",
     "shell.execute_reply": "2023-08-13T10:53:04.559843Z"
    },
    "papermill": {
     "duration": 0.121588,
     "end_time": "2023-08-13T10:53:04.562769",
     "exception": false,
     "start_time": "2023-08-13T10:53:04.441181",
     "status": "completed"
    },
    "tags": []
   },
   "outputs": [],
   "source": [
    "# Best 5 parameters\n",
    "\n",
    "# best5_dict = {'num': [\"audienceScore\"],\n",
    "#              'txt': ['reviewText', 'reviewerName','movieid', 'director']}\n",
    "\n",
    "# best5_dict"
   ]
  },
  {
   "cell_type": "code",
   "execution_count": 252,
   "id": "653cf9fd",
   "metadata": {
    "execution": {
     "iopub.execute_input": "2023-08-13T10:53:04.790016Z",
     "iopub.status.busy": "2023-08-13T10:53:04.789526Z",
     "iopub.status.idle": "2023-08-13T10:53:04.797553Z",
     "shell.execute_reply": "2023-08-13T10:53:04.796383Z"
    },
    "papermill": {
     "duration": 0.124801,
     "end_time": "2023-08-13T10:53:04.800027",
     "exception": false,
     "start_time": "2023-08-13T10:53:04.675226",
     "status": "completed"
    },
    "tags": []
   },
   "outputs": [
    {
     "data": {
      "text/plain": [
       "\"(Update): Used both CountVectorizer and TfidfVectorizer on a massive GridSearchCV \\nwhich took 22527.2s  (6.25 hrs) to run! Gave a score of 0.8439093822800923 locally and did not overfit!\\nBest params: {'model__C': 1, 'model__solver': 'liblinear'}.\\nHighest public score yet: 0.84591 (Rank up from 9 to 5!)\""
      ]
     },
     "execution_count": 252,
     "metadata": {},
     "output_type": "execute_result"
    }
   ],
   "source": [
    "# Submit best 5 features\n",
    "\n",
    "\"\"\"(Update): Used both CountVectorizer and TfidfVectorizer on a massive GridSearchCV \n",
    "which took 22527.2s  (6.25 hrs) to run! Gave a score of 0.8439093822800923 locally and did not overfit!\n",
    "Best params: {'model__C': 1, 'model__solver': 'liblinear'}.\n",
    "Highest public score yet: 0.84591 (Rank up from 9 to 5!)\"\"\"\n",
    "\n",
    "# param_grid = {\n",
    "#     'model__C' : [5, 10, 15],\n",
    "#     'model__solver': ['lbfgs', 'liblinear', 'saga']\n",
    "# }\n",
    "\n",
    "\n",
    "# Try new param_grid with fit_intercept and dual in logreg\n",
    "\n",
    "# param_grid = {\n",
    "#     'model__C' : [1],\n",
    "#     'model__solver': ['liblinear'],\n",
    "#     \"model__fit_intercept\" : [True, False],\n",
    "#     \"model__dual\" : [True, False] \n",
    "# }\n",
    "\n",
    "\n",
    "# Local testing  \n",
    "# submit_v4(selected_features={'num': ['audienceScore']},\n",
    "#          add_countvec=True)\n",
    "\n",
    "# submit_v4(selected_features={'num': ['audienceScore']},\n",
    "#          add_countvec=True, \n",
    "#           param_grid=param_grid)\n",
    "\n",
    "\n",
    "# Main submission\n",
    "\n",
    "# submit_v4(selected_features=best5_dict,\n",
    "#          add_countvec=True)\n",
    "\n",
    "\n",
    "# submit_v4(selected_features=best5_dict,\n",
    "#           add_countvec=True,\n",
    "#           param_grid=param_grid)"
   ]
  },
  {
   "cell_type": "code",
   "execution_count": 253,
   "id": "a4eb97d8",
   "metadata": {
    "execution": {
     "iopub.execute_input": "2023-08-13T10:53:05.102657Z",
     "iopub.status.busy": "2023-08-13T10:53:05.101413Z",
     "iopub.status.idle": "2023-08-13T10:53:05.108102Z",
     "shell.execute_reply": "2023-08-13T10:53:05.106677Z"
    },
    "papermill": {
     "duration": 0.125559,
     "end_time": "2023-08-13T10:53:05.111022",
     "exception": false,
     "start_time": "2023-08-13T10:53:04.985463",
     "status": "completed"
    },
    "tags": []
   },
   "outputs": [],
   "source": [
    "## ALL DICT cv=10\n",
    "\n",
    "# all_dict = {'cat': [\"isFrequentReviewer\", \"rating\", \"originalLanguage\"],\n",
    "#              'num': [\"audienceScore\", \"runtimeMinutes\", \"boxOffice\"],\n",
    "#              'txt': ['reviewText', 'reviewerName', 'movieid', 'genre', 'director']}\n",
    "# print(all_dict)\n",
    "\n",
    "# param_grid = {\n",
    "#     'model__C' : [2, 5, 10],\n",
    "#     'model__solver': ['lbfgs', 'liblinear', 'saga']\n",
    "# }\n",
    "# print(param_grid)\n",
    "\n",
    "# param_grid = {\n",
    "#     'model__C' : [1, 5, 10],\n",
    "#     'model__solver': ['liblinear'],\n",
    "#     \"model__fit_intercept\" : [True, False],\n",
    "#     \"model__dual\" : [True, False] \n",
    "# }\n",
    "\n",
    "\n",
    "# Main submission\n",
    "\n",
    "# submit_v4(selected_model=LogisticRegression(C=5, solver='liblinear', max_iter=10000),\n",
    "#           selected_features=all_dict,\n",
    "#           param_grid=param_grid)\n",
    "\n",
    "# submit_v4(selected_features=all_dict,\n",
    "#           add_countvec=True,\n",
    "#           param_grid=param_grid)"
   ]
  },
  {
   "cell_type": "code",
   "execution_count": 254,
   "id": "7e4beeb8",
   "metadata": {
    "execution": {
     "iopub.execute_input": "2023-08-13T10:53:05.349178Z",
     "iopub.status.busy": "2023-08-13T10:53:05.348343Z",
     "iopub.status.idle": "2023-08-13T10:53:05.353708Z",
     "shell.execute_reply": "2023-08-13T10:53:05.352856Z"
    },
    "papermill": {
     "duration": 0.127017,
     "end_time": "2023-08-13T10:53:05.356202",
     "exception": false,
     "start_time": "2023-08-13T10:53:05.229185",
     "status": "completed"
    },
    "tags": []
   },
   "outputs": [],
   "source": [
    "# Best 6 parameters\n",
    "\n",
    "# best6_dict = {'cat': [\"isFrequentReviewer\"],\n",
    "#              'num': [\"audienceScore\"],\n",
    "#              'txt': ['reviewText', 'reviewerName', 'genre', 'director']}\n",
    "\n",
    "# best6_dict = {'num': [\"audienceScore\"],\n",
    "#              'txt': ['reviewText', 'reviewerName', 'genre','movieid', 'director']}\n",
    "\n",
    "# best6_dict"
   ]
  },
  {
   "cell_type": "code",
   "execution_count": 255,
   "id": "825a0ed4",
   "metadata": {
    "execution": {
     "iopub.execute_input": "2023-08-13T10:53:05.588485Z",
     "iopub.status.busy": "2023-08-13T10:53:05.587729Z",
     "iopub.status.idle": "2023-08-13T10:53:05.592577Z",
     "shell.execute_reply": "2023-08-13T10:53:05.591701Z"
    },
    "papermill": {
     "duration": 0.122658,
     "end_time": "2023-08-13T10:53:05.594913",
     "exception": false,
     "start_time": "2023-08-13T10:53:05.472255",
     "status": "completed"
    },
    "tags": []
   },
   "outputs": [],
   "source": [
    "# Submit best 6 features (version 2)\n",
    "\n",
    "# submit_v4(selected_features=best6_dict,\n",
    "#           param_grid=param_grid)"
   ]
  },
  {
   "cell_type": "code",
   "execution_count": 256,
   "id": "8c8c6209",
   "metadata": {
    "execution": {
     "iopub.execute_input": "2023-08-13T10:53:05.825165Z",
     "iopub.status.busy": "2023-08-13T10:53:05.824534Z",
     "iopub.status.idle": "2023-08-13T10:53:05.829269Z",
     "shell.execute_reply": "2023-08-13T10:53:05.828423Z"
    },
    "papermill": {
     "duration": 0.121821,
     "end_time": "2023-08-13T10:53:05.831561",
     "exception": false,
     "start_time": "2023-08-13T10:53:05.709740",
     "status": "completed"
    },
    "tags": []
   },
   "outputs": [],
   "source": [
    "# Best 7 parameters\n",
    "\n",
    "# best7_dict = {'cat': [\"isFrequentReviewer\"],\n",
    "#              'num': [\"audienceScore\"],\n",
    "#              'txt': ['reviewText', 'reviewerName', 'movieid', 'genre', 'director']}\n",
    "# best7_dict"
   ]
  },
  {
   "cell_type": "code",
   "execution_count": 257,
   "id": "0058b7c2",
   "metadata": {
    "execution": {
     "iopub.execute_input": "2023-08-13T10:53:06.063071Z",
     "iopub.status.busy": "2023-08-13T10:53:06.062646Z",
     "iopub.status.idle": "2023-08-13T10:53:06.067858Z",
     "shell.execute_reply": "2023-08-13T10:53:06.066633Z"
    },
    "papermill": {
     "duration": 0.124877,
     "end_time": "2023-08-13T10:53:06.070102",
     "exception": false,
     "start_time": "2023-08-13T10:53:05.945225",
     "status": "completed"
    },
    "tags": []
   },
   "outputs": [],
   "source": [
    "# Submit best 7 features\n",
    "\n",
    "# submit_v4(selected_features=best7_dict,\n",
    "#           param_grid=param_grid)"
   ]
  },
  {
   "cell_type": "code",
   "execution_count": 258,
   "id": "464bb72d",
   "metadata": {
    "execution": {
     "iopub.execute_input": "2023-08-13T10:53:06.298109Z",
     "iopub.status.busy": "2023-08-13T10:53:06.297243Z",
     "iopub.status.idle": "2023-08-13T10:53:06.302865Z",
     "shell.execute_reply": "2023-08-13T10:53:06.301658Z"
    },
    "papermill": {
     "duration": 0.122139,
     "end_time": "2023-08-13T10:53:06.305371",
     "exception": false,
     "start_time": "2023-08-13T10:53:06.183232",
     "status": "completed"
    },
    "tags": []
   },
   "outputs": [],
   "source": [
    "# submit_v4(selected_features=best6_dict, param_grid=param_grid)"
   ]
  },
  {
   "cell_type": "markdown",
   "id": "931592de",
   "metadata": {
    "papermill": {
     "duration": 0.112451,
     "end_time": "2023-08-13T10:53:06.532468",
     "exception": false,
     "start_time": "2023-08-13T10:53:06.420017",
     "status": "completed"
    },
    "tags": []
   },
   "source": [
    "## Try a new feature dict  \n",
    "\n"
   ]
  },
  {
   "cell_type": "code",
   "execution_count": 259,
   "id": "ae3c7cd9",
   "metadata": {
    "execution": {
     "iopub.execute_input": "2023-08-13T10:53:06.761708Z",
     "iopub.status.busy": "2023-08-13T10:53:06.760872Z",
     "iopub.status.idle": "2023-08-13T10:53:06.765833Z",
     "shell.execute_reply": "2023-08-13T10:53:06.764777Z"
    },
    "papermill": {
     "duration": 0.123478,
     "end_time": "2023-08-13T10:53:06.768117",
     "exception": false,
     "start_time": "2023-08-13T10:53:06.644639",
     "status": "completed"
    },
    "tags": []
   },
   "outputs": [],
   "source": [
    "# all_dict_new = {'cat': [\"isFrequentReviewer\", \"rating\", \"originalLanguage\"],\n",
    "#              'num': [\"audienceScore\", \"runtimeMinutes\", \"boxOffice\"],\n",
    "#              'txt': ['reviewText', \"reviewerName\", 'movieid', 'genre', 'director']}\n",
    "# all_dict_new"
   ]
  },
  {
   "cell_type": "code",
   "execution_count": 260,
   "id": "ad4e0fda",
   "metadata": {
    "execution": {
     "iopub.execute_input": "2023-08-13T10:53:07.001273Z",
     "iopub.status.busy": "2023-08-13T10:53:07.000786Z",
     "iopub.status.idle": "2023-08-13T10:53:07.005445Z",
     "shell.execute_reply": "2023-08-13T10:53:07.004577Z"
    },
    "papermill": {
     "duration": 0.126831,
     "end_time": "2023-08-13T10:53:07.008345",
     "exception": false,
     "start_time": "2023-08-13T10:53:06.881514",
     "status": "completed"
    },
    "tags": []
   },
   "outputs": [],
   "source": [
    "# submit_v4(selected_features={'txt': ['genre']}, param_grid=param_grid)"
   ]
  },
  {
   "cell_type": "code",
   "execution_count": 261,
   "id": "a2d6a2dc",
   "metadata": {
    "execution": {
     "iopub.execute_input": "2023-08-13T10:53:07.238216Z",
     "iopub.status.busy": "2023-08-13T10:53:07.237751Z",
     "iopub.status.idle": "2023-08-13T10:53:07.242489Z",
     "shell.execute_reply": "2023-08-13T10:53:07.241366Z"
    },
    "papermill": {
     "duration": 0.122621,
     "end_time": "2023-08-13T10:53:07.244585",
     "exception": false,
     "start_time": "2023-08-13T10:53:07.121964",
     "status": "completed"
    },
    "tags": []
   },
   "outputs": [],
   "source": [
    "# submit_v4(selected_features=all_dict_new, param_grid=param_grid)"
   ]
  },
  {
   "cell_type": "code",
   "execution_count": 262,
   "id": "497e0f51",
   "metadata": {
    "execution": {
     "iopub.execute_input": "2023-08-13T10:53:07.472224Z",
     "iopub.status.busy": "2023-08-13T10:53:07.471771Z",
     "iopub.status.idle": "2023-08-13T10:53:07.475841Z",
     "shell.execute_reply": "2023-08-13T10:53:07.475077Z"
    },
    "papermill": {
     "duration": 0.120637,
     "end_time": "2023-08-13T10:53:07.477992",
     "exception": false,
     "start_time": "2023-08-13T10:53:07.357355",
     "status": "completed"
    },
    "tags": []
   },
   "outputs": [],
   "source": [
    "# Try non-text based columns\n",
    "# num_cat_dict = {'cat': ['isFrequentReviewer', 'rating', 'originalLanguage'],\n",
    "#  'num': ['audienceScore', 'runtimeMinutes', 'boxOffice']}\n",
    "# num_cat_dict"
   ]
  },
  {
   "cell_type": "code",
   "execution_count": 263,
   "id": "3ed39e4b",
   "metadata": {
    "execution": {
     "iopub.execute_input": "2023-08-13T10:53:07.708163Z",
     "iopub.status.busy": "2023-08-13T10:53:07.707333Z",
     "iopub.status.idle": "2023-08-13T10:53:07.711722Z",
     "shell.execute_reply": "2023-08-13T10:53:07.710807Z"
    },
    "papermill": {
     "duration": 0.122474,
     "end_time": "2023-08-13T10:53:07.714006",
     "exception": false,
     "start_time": "2023-08-13T10:53:07.591532",
     "status": "completed"
    },
    "tags": []
   },
   "outputs": [],
   "source": [
    "# Use num_cat_dict features\n",
    "# (Update): Gets a local score of 0.7027181356991726. Not great.\n",
    "# submit_v4(selected_model=LogisticRegression(max_iter=100000), selected_features=num_cat_dict, param_grid=param_grid)"
   ]
  },
  {
   "cell_type": "code",
   "execution_count": 264,
   "id": "c8aef79a",
   "metadata": {
    "execution": {
     "iopub.execute_input": "2023-08-13T10:53:07.943877Z",
     "iopub.status.busy": "2023-08-13T10:53:07.943074Z",
     "iopub.status.idle": "2023-08-13T10:53:07.947639Z",
     "shell.execute_reply": "2023-08-13T10:53:07.946482Z"
    },
    "papermill": {
     "duration": 0.122191,
     "end_time": "2023-08-13T10:53:07.949829",
     "exception": false,
     "start_time": "2023-08-13T10:53:07.827638",
     "status": "completed"
    },
    "tags": []
   },
   "outputs": [],
   "source": [
    "# Try data other than reviewText\n",
    "\n",
    "# mov_dict = {'cat': ['rating', 'originalLanguage'],\n",
    "#  'num': ['audienceScore', 'runtimeMinutes', 'boxOffice'],\n",
    "#  'txt': ['movieid', 'genre', 'director']}\n",
    "# mov_dict"
   ]
  },
  {
   "cell_type": "code",
   "execution_count": 265,
   "id": "187a60dc",
   "metadata": {
    "execution": {
     "iopub.execute_input": "2023-08-13T10:53:08.179776Z",
     "iopub.status.busy": "2023-08-13T10:53:08.178980Z",
     "iopub.status.idle": "2023-08-13T10:53:08.183153Z",
     "shell.execute_reply": "2023-08-13T10:53:08.182411Z"
    },
    "papermill": {
     "duration": 0.120313,
     "end_time": "2023-08-13T10:53:08.185227",
     "exception": false,
     "start_time": "2023-08-13T10:53:08.064914",
     "status": "completed"
    },
    "tags": []
   },
   "outputs": [],
   "source": [
    "# Use mov_dict features\n",
    "# (Update): Gets a local score of 0.7475454316469369, which is not bad at all.\n",
    "# submit_v4(selected_model=LogisticRegression(max_iter=100000), selected_features=mov_dict, param_grid=param_grid)"
   ]
  },
  {
   "cell_type": "markdown",
   "id": "908ae34c",
   "metadata": {
    "papermill": {
     "duration": 0.113048,
     "end_time": "2023-08-13T10:53:08.410894",
     "exception": false,
     "start_time": "2023-08-13T10:53:08.297846",
     "status": "completed"
    },
    "tags": []
   },
   "source": [
    "# Try a new column 'reviewYN'  \n",
    "\n"
   ]
  },
  {
   "cell_type": "code",
   "execution_count": 266,
   "id": "747b1152",
   "metadata": {
    "execution": {
     "iopub.execute_input": "2023-08-13T10:53:08.641237Z",
     "iopub.status.busy": "2023-08-13T10:53:08.640392Z",
     "iopub.status.idle": "2023-08-13T10:53:08.644645Z",
     "shell.execute_reply": "2023-08-13T10:53:08.643890Z"
    },
    "papermill": {
     "duration": 0.121225,
     "end_time": "2023-08-13T10:53:08.646843",
     "exception": false,
     "start_time": "2023-08-13T10:53:08.525618",
     "status": "completed"
    },
    "tags": []
   },
   "outputs": [],
   "source": [
    "# all_dict_3 = {'cat': [\"isFrequentReviewer\", \"rating\", \"originalLanguage\", \"reviewYN\"],\n",
    "#              'num': [\"audienceScore\", \"runtimeMinutes\", \"boxOffice\"],\n",
    "#              'txt': ['reviewText', \"reviewerName\", 'movieid', 'genre', 'director']}\n",
    "# all_dict_3"
   ]
  },
  {
   "cell_type": "code",
   "execution_count": 267,
   "id": "dfa67905",
   "metadata": {
    "execution": {
     "iopub.execute_input": "2023-08-13T10:53:08.875691Z",
     "iopub.status.busy": "2023-08-13T10:53:08.874855Z",
     "iopub.status.idle": "2023-08-13T10:53:08.879025Z",
     "shell.execute_reply": "2023-08-13T10:53:08.878243Z"
    },
    "papermill": {
     "duration": 0.120525,
     "end_time": "2023-08-13T10:53:08.881268",
     "exception": false,
     "start_time": "2023-08-13T10:53:08.760743",
     "status": "completed"
    },
    "tags": []
   },
   "outputs": [],
   "source": [
    "# submit_v4(selected_model=LogisticRegression(max_iter=100000),\n",
    "#          selected_features=all_dict_3, \n",
    "#           param_grid=param_grid)"
   ]
  },
  {
   "cell_type": "markdown",
   "id": "a06b1d93",
   "metadata": {
    "papermill": {
     "duration": 0.112472,
     "end_time": "2023-08-13T10:53:09.109082",
     "exception": false,
     "start_time": "2023-08-13T10:53:08.996610",
     "status": "completed"
    },
    "tags": []
   },
   "source": [
    "### More GridSearchCV using LinearSVC  "
   ]
  },
  {
   "cell_type": "code",
   "execution_count": 268,
   "id": "c0513ddb",
   "metadata": {
    "execution": {
     "iopub.execute_input": "2023-08-13T10:53:09.336111Z",
     "iopub.status.busy": "2023-08-13T10:53:09.335355Z",
     "iopub.status.idle": "2023-08-13T10:53:09.339975Z",
     "shell.execute_reply": "2023-08-13T10:53:09.338907Z"
    },
    "papermill": {
     "duration": 0.12155,
     "end_time": "2023-08-13T10:53:09.342691",
     "exception": false,
     "start_time": "2023-08-13T10:53:09.221141",
     "status": "completed"
    },
    "tags": []
   },
   "outputs": [],
   "source": [
    "# param_grid_svc_2 = {\n",
    "#     'model__C': [1.0],\n",
    "#     'model__loss': ['hinge', 'squared_hinge'],\n",
    "#     'model__class_weight': ['balanced', None]\n",
    "# }\n",
    "# param_grid_svc_2"
   ]
  },
  {
   "cell_type": "code",
   "execution_count": 269,
   "id": "89e2b40e",
   "metadata": {
    "execution": {
     "iopub.execute_input": "2023-08-13T10:53:09.578088Z",
     "iopub.status.busy": "2023-08-13T10:53:09.577541Z",
     "iopub.status.idle": "2023-08-13T10:53:09.582861Z",
     "shell.execute_reply": "2023-08-13T10:53:09.581685Z"
    },
    "papermill": {
     "duration": 0.125018,
     "end_time": "2023-08-13T10:53:09.585360",
     "exception": false,
     "start_time": "2023-08-13T10:53:09.460342",
     "status": "completed"
    },
    "tags": []
   },
   "outputs": [],
   "source": [
    "# submit_v4(selected_model=LinearSVC(max_iter=100000, random_state=42), selected_features={'num': [\"audienceScore\"]}, param_grid=param_grid_svc_2)"
   ]
  },
  {
   "cell_type": "code",
   "execution_count": 270,
   "id": "189d8a9c",
   "metadata": {
    "execution": {
     "iopub.execute_input": "2023-08-13T10:53:09.822431Z",
     "iopub.status.busy": "2023-08-13T10:53:09.821959Z",
     "iopub.status.idle": "2023-08-13T10:53:09.826989Z",
     "shell.execute_reply": "2023-08-13T10:53:09.825850Z"
    },
    "papermill": {
     "duration": 0.126231,
     "end_time": "2023-08-13T10:53:09.829396",
     "exception": false,
     "start_time": "2023-08-13T10:53:09.703165",
     "status": "completed"
    },
    "tags": []
   },
   "outputs": [],
   "source": [
    "# submit_v4(selected_model=LinearSVC(max_iter=100000, random_state=42), selected_features=all_dict, param_grid=param_grid_svc_2)"
   ]
  },
  {
   "cell_type": "markdown",
   "id": "eca32ec0",
   "metadata": {
    "papermill": {
     "duration": 0.117348,
     "end_time": "2023-08-13T10:53:10.064792",
     "exception": false,
     "start_time": "2023-08-13T10:53:09.947444",
     "status": "completed"
    },
    "tags": []
   },
   "source": [
    "### Boosting techniques  "
   ]
  },
  {
   "cell_type": "code",
   "execution_count": 271,
   "id": "ef1e84f7",
   "metadata": {
    "execution": {
     "iopub.execute_input": "2023-08-13T10:53:10.300282Z",
     "iopub.status.busy": "2023-08-13T10:53:10.299780Z",
     "iopub.status.idle": "2023-08-13T10:53:10.304852Z",
     "shell.execute_reply": "2023-08-13T10:53:10.303507Z"
    },
    "papermill": {
     "duration": 0.125644,
     "end_time": "2023-08-13T10:53:10.307223",
     "exception": false,
     "start_time": "2023-08-13T10:53:10.181579",
     "status": "completed"
    },
    "tags": []
   },
   "outputs": [],
   "source": [
    "# adc = AdaBoostClassifier(estimator=LogisticRegression(C=5, solver=\"saga\", max_iter=100000), n_estimators=50)\n",
    "# adc"
   ]
  },
  {
   "cell_type": "code",
   "execution_count": 272,
   "id": "ec03147f",
   "metadata": {
    "execution": {
     "iopub.execute_input": "2023-08-13T10:53:10.540870Z",
     "iopub.status.busy": "2023-08-13T10:53:10.540425Z",
     "iopub.status.idle": "2023-08-13T10:53:10.545912Z",
     "shell.execute_reply": "2023-08-13T10:53:10.544674Z"
    },
    "papermill": {
     "duration": 0.123849,
     "end_time": "2023-08-13T10:53:10.548363",
     "exception": false,
     "start_time": "2023-08-13T10:53:10.424514",
     "status": "completed"
    },
    "tags": []
   },
   "outputs": [],
   "source": [
    "# submit_v4(selected_model=adc, selected_features={'num': [\"audienceScore\"]}, param_grid=None)"
   ]
  },
  {
   "cell_type": "code",
   "execution_count": 273,
   "id": "d31bcc10",
   "metadata": {
    "execution": {
     "iopub.execute_input": "2023-08-13T10:53:10.846323Z",
     "iopub.status.busy": "2023-08-13T10:53:10.845863Z",
     "iopub.status.idle": "2023-08-13T10:53:10.851375Z",
     "shell.execute_reply": "2023-08-13T10:53:10.850199Z"
    },
    "papermill": {
     "duration": 0.191732,
     "end_time": "2023-08-13T10:53:10.853698",
     "exception": false,
     "start_time": "2023-08-13T10:53:10.661966",
     "status": "completed"
    },
    "tags": []
   },
   "outputs": [],
   "source": [
    "# submit_v4(selected_model=adc, selected_features=all_dict, param_grid=None)\n",
    "\n",
    "# Took 1 hour 15 mins to run and gave a public score of only 0.71089. Discarded."
   ]
  },
  {
   "cell_type": "markdown",
   "id": "bae23d86",
   "metadata": {
    "papermill": {
     "duration": 0.114112,
     "end_time": "2023-08-13T10:53:11.083003",
     "exception": false,
     "start_time": "2023-08-13T10:53:10.968891",
     "status": "completed"
    },
    "tags": []
   },
   "source": [
    "### LightGBM  "
   ]
  },
  {
   "cell_type": "code",
   "execution_count": 274,
   "id": "f8296c58",
   "metadata": {
    "execution": {
     "iopub.execute_input": "2023-08-13T10:53:11.312533Z",
     "iopub.status.busy": "2023-08-13T10:53:11.312097Z",
     "iopub.status.idle": "2023-08-13T10:53:11.317500Z",
     "shell.execute_reply": "2023-08-13T10:53:11.316222Z"
    },
    "papermill": {
     "duration": 0.122837,
     "end_time": "2023-08-13T10:53:11.319904",
     "exception": false,
     "start_time": "2023-08-13T10:53:11.197067",
     "status": "completed"
    },
    "tags": []
   },
   "outputs": [],
   "source": [
    "# lgb = ltb.LGBMClassifier()\n",
    "# lgb"
   ]
  },
  {
   "cell_type": "code",
   "execution_count": 275,
   "id": "7186892d",
   "metadata": {
    "execution": {
     "iopub.execute_input": "2023-08-13T10:53:11.547586Z",
     "iopub.status.busy": "2023-08-13T10:53:11.546465Z",
     "iopub.status.idle": "2023-08-13T10:53:11.551282Z",
     "shell.execute_reply": "2023-08-13T10:53:11.550488Z"
    },
    "papermill": {
     "duration": 0.1211,
     "end_time": "2023-08-13T10:53:11.553306",
     "exception": false,
     "start_time": "2023-08-13T10:53:11.432206",
     "status": "completed"
    },
    "tags": []
   },
   "outputs": [],
   "source": [
    "# Try LightGBM with default settings\n",
    "# (Update): Public score only 0.77713. It was fast, took less than 5 mins (without GridSearchCV)\n",
    "\n",
    "# submit_v4(selected_model=ltb.LGBMClassifier(), selected_features=all_dict, param_grid=None)"
   ]
  },
  {
   "cell_type": "markdown",
   "id": "37580ec3",
   "metadata": {
    "papermill": {
     "duration": 0.113162,
     "end_time": "2023-08-13T10:53:11.779739",
     "exception": false,
     "start_time": "2023-08-13T10:53:11.666577",
     "status": "completed"
    },
    "tags": []
   },
   "source": [
    "# Try feature selection and vocab fine tuning of reviewText column"
   ]
  },
  {
   "cell_type": "markdown",
   "id": "a9583458",
   "metadata": {
    "papermill": {
     "duration": 0.132996,
     "end_time": "2023-08-13T10:53:12.030011",
     "exception": false,
     "start_time": "2023-08-13T10:53:11.897015",
     "status": "completed"
    },
    "tags": []
   },
   "source": [
    "## Plan  \n",
    "* Add a new column 'reviewWC' which has word count of 'reviewText'  \n",
    "    * Check if there is any relationship between 'reviewWC' and 'sentiment'\n",
    "* Work on vocabulary\n",
    "     * Use TfidfVectorizer and find out the vocabulary of 'reviewText' column for various ngrams\n",
    "     * Use RecursiveFeatureElimination (RFE) or RFECV to select 1000 top words/vocab for each ngram\n",
    "     * Use the final vocab (1000-3000 words) in the model and see how it performs compared to whole vocab\n"
   ]
  },
  {
   "cell_type": "code",
   "execution_count": 276,
   "id": "cbda6fde",
   "metadata": {
    "execution": {
     "iopub.execute_input": "2023-08-13T10:53:12.304483Z",
     "iopub.status.busy": "2023-08-13T10:53:12.304030Z",
     "iopub.status.idle": "2023-08-13T10:53:12.309841Z",
     "shell.execute_reply": "2023-08-13T10:53:12.308332Z"
    },
    "papermill": {
     "duration": 0.136338,
     "end_time": "2023-08-13T10:53:12.313086",
     "exception": false,
     "start_time": "2023-08-13T10:53:12.176748",
     "status": "completed"
    },
    "tags": []
   },
   "outputs": [],
   "source": [
    "# 'reviewWC' and 'sentiment'\n",
    "# (Conclusion): 'reviewWC' is practically same as DummyClassifier (accuracy of 0.6682375059904889 on train data). It just predicts 'positive' for all columns\n",
    "\n",
    "# reviewWC_dict = {\"num\": [\"reviewWC\"]}\n",
    "# submit_v4(selected_model=LogisticRegression(),\n",
    "#          selected_features=reviewWC_dict,\n",
    "#          param_grid=None)"
   ]
  },
  {
   "cell_type": "code",
   "execution_count": 277,
   "id": "1b780312",
   "metadata": {
    "execution": {
     "iopub.execute_input": "2023-08-13T10:53:12.570746Z",
     "iopub.status.busy": "2023-08-13T10:53:12.570188Z",
     "iopub.status.idle": "2023-08-13T10:53:12.575390Z",
     "shell.execute_reply": "2023-08-13T10:53:12.574353Z"
    },
    "papermill": {
     "duration": 0.135213,
     "end_time": "2023-08-13T10:53:12.577597",
     "exception": false,
     "start_time": "2023-08-13T10:53:12.442384",
     "status": "completed"
    },
    "tags": []
   },
   "outputs": [],
   "source": [
    "# 'reviewYN' and 'sentiment'\n",
    "# (Conclusion): 'reviewYN' is practically same as DummyClassifier (accuracy of 0.6682375059904889 on train data). It just predicts 'positive' for all columns\n",
    "\n",
    "# reviewYN_dict = {\"cat\": [\"reviewYN\"]}\n",
    "# submit_v4(selected_model=LogisticRegression(),\n",
    "#          selected_features=reviewYN_dict,\n",
    "#          param_grid=None)"
   ]
  },
  {
   "cell_type": "markdown",
   "id": "5ba891de",
   "metadata": {
    "papermill": {
     "duration": 0.116024,
     "end_time": "2023-08-13T10:53:12.806859",
     "exception": false,
     "start_time": "2023-08-13T10:53:12.690835",
     "status": "completed"
    },
    "tags": []
   },
   "source": [
    "## Submissions using 'vocabulary' built from 'reviewText' data  "
   ]
  },
  {
   "cell_type": "markdown",
   "id": "0bdfd431",
   "metadata": {
    "papermill": {
     "duration": 0.117219,
     "end_time": "2023-08-13T10:53:13.039377",
     "exception": false,
     "start_time": "2023-08-13T10:53:12.922158",
     "status": "completed"
    },
    "tags": []
   },
   "source": [
    "### Submit best 6 features along with common vocab  "
   ]
  },
  {
   "cell_type": "code",
   "execution_count": 278,
   "id": "50a3778b",
   "metadata": {
    "execution": {
     "iopub.execute_input": "2023-08-13T10:53:13.268328Z",
     "iopub.status.busy": "2023-08-13T10:53:13.267816Z",
     "iopub.status.idle": "2023-08-13T10:53:13.272578Z",
     "shell.execute_reply": "2023-08-13T10:53:13.271676Z"
    },
    "papermill": {
     "duration": 0.121514,
     "end_time": "2023-08-13T10:53:13.274792",
     "exception": false,
     "start_time": "2023-08-13T10:53:13.153278",
     "status": "completed"
    },
    "tags": []
   },
   "outputs": [],
   "source": [
    "# Best 6 parameters (version 2)  \n",
    "\n",
    "# best6_dict = {'num': [\"audienceScore\"],\n",
    "#              'txt': ['reviewText', 'reviewerName', 'genre','movieid', 'director']}\n",
    "\n",
    "# best6_dict"
   ]
  },
  {
   "cell_type": "code",
   "execution_count": 279,
   "id": "fcf21ccf",
   "metadata": {
    "execution": {
     "iopub.execute_input": "2023-08-13T10:53:13.505455Z",
     "iopub.status.busy": "2023-08-13T10:53:13.503984Z",
     "iopub.status.idle": "2023-08-13T10:53:13.510708Z",
     "shell.execute_reply": "2023-08-13T10:53:13.509282Z"
    },
    "papermill": {
     "duration": 0.125315,
     "end_time": "2023-08-13T10:53:13.513353",
     "exception": false,
     "start_time": "2023-08-13T10:53:13.388038",
     "status": "completed"
    },
    "tags": []
   },
   "outputs": [],
   "source": [
    "# Submit best 6 features (version 2) with common vocabulary (common_1_2_grams)\n",
    "# (Update): Score 0.82867\n",
    "\n",
    "# submit_v4(selected_features=best6_dict,\n",
    "#           param_grid=param_grid,\n",
    "#          vocab=common_1_2_grams)"
   ]
  },
  {
   "cell_type": "code",
   "execution_count": 280,
   "id": "c0fbe172",
   "metadata": {
    "execution": {
     "iopub.execute_input": "2023-08-13T10:53:13.743054Z",
     "iopub.status.busy": "2023-08-13T10:53:13.742605Z",
     "iopub.status.idle": "2023-08-13T10:53:13.749042Z",
     "shell.execute_reply": "2023-08-13T10:53:13.747317Z"
    },
    "papermill": {
     "duration": 0.125166,
     "end_time": "2023-08-13T10:53:13.751520",
     "exception": false,
     "start_time": "2023-08-13T10:53:13.626354",
     "status": "completed"
    },
    "tags": []
   },
   "outputs": [],
   "source": [
    "# Submit best 6 features (version 2) with common vocabulary (common_1_2_3_grams)\n",
    "# Note: for this submission submit_v4 function has to be modified: reviewText TfidfVectorizer must have ngram_range(1,3).\n",
    "# (Update): Score in the range 0.825+\n",
    "\n",
    "# submit_v4(selected_features=best6_dict,\n",
    "#           param_grid=param_grid,\n",
    "#          vocab=common_1_2_3_grams)"
   ]
  }
 ],
 "metadata": {
  "kernelspec": {
   "display_name": "Python 3",
   "language": "python",
   "name": "python3"
  },
  "language_info": {
   "codemirror_mode": {
    "name": "ipython",
    "version": 3
   },
   "file_extension": ".py",
   "mimetype": "text/x-python",
   "name": "python",
   "nbconvert_exporter": "python",
   "pygments_lexer": "ipython3",
   "version": "3.10.10"
  },
  "papermill": {
   "default_parameters": {},
   "duration": 560.558158,
   "end_time": "2023-08-13T10:53:16.692532",
   "environment_variables": {},
   "exception": null,
   "input_path": "__notebook__.ipynb",
   "output_path": "__notebook__.ipynb",
   "parameters": {},
   "start_time": "2023-08-13T10:43:56.134374",
   "version": "2.4.0"
  }
 },
 "nbformat": 4,
 "nbformat_minor": 5
}
