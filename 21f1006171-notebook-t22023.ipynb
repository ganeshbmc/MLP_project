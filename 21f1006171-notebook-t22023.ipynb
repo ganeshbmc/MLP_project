{
 "cells": [
  {
   "cell_type": "markdown",
   "id": "1e984423",
   "metadata": {
    "papermill": {
     "duration": 0.094972,
     "end_time": "2023-08-12T20:02:52.747010",
     "exception": false,
     "start_time": "2023-08-12T20:02:52.652038",
     "status": "completed"
    },
    "tags": []
   },
   "source": [
    "# MLP Project (T2 2023) by Ganesh P  "
   ]
  },
  {
   "cell_type": "markdown",
   "id": "ef14c260",
   "metadata": {
    "papermill": {
     "duration": 0.093115,
     "end_time": "2023-08-12T20:02:52.932535",
     "exception": false,
     "start_time": "2023-08-12T20:02:52.839420",
     "status": "completed"
    },
    "tags": []
   },
   "source": [
    "`Disclaimer`   \n",
    "\n",
    "> This final notebook contains only the most relevant code to show the path/flow of my project work over few weeks. Rest of the code is in [my github repo](https://github.com/ganeshbmc/MLP_project) which is private at present (I will make it public after the project is over).  "
   ]
  },
  {
   "cell_type": "markdown",
   "id": "025f698f",
   "metadata": {
    "papermill": {
     "duration": 0.096039,
     "end_time": "2023-08-12T20:02:53.120032",
     "exception": false,
     "start_time": "2023-08-12T20:02:53.023993",
     "status": "completed"
    },
    "tags": []
   },
   "source": [
    "`Strengths`  \n",
    "\n",
    "> * Modular code (DRY principle)  \n",
    "> * End to end pipeline in one function (with helper functions)   "
   ]
  },
  {
   "cell_type": "markdown",
   "id": "459d94d5",
   "metadata": {
    "papermill": {
     "duration": 0.092274,
     "end_time": "2023-08-12T20:02:53.329097",
     "exception": false,
     "start_time": "2023-08-12T20:02:53.236823",
     "status": "completed"
    },
    "tags": []
   },
   "source": [
    "`Overview`  \n",
    "\n",
    "`PART I`  \n",
    "\n",
    "1.\t> Screen the datasets and import them.  \n",
    "2.\t> Perform EDA (first round).\n",
    "3.\t> Data cleaning.\n",
    "4.\t> Basic models including dummy model.\n",
    "5.\t> Because this is a text sentiment analysis project, focus on 'reviewText' column, work on cleaning text data and vectorising/tokenising it, build several models till the best possible score is reached.  \n",
    "\n",
    "`PART II`  \n",
    "\n",
    "6.\t> Merge train and movies dataset.\n",
    "7.\t> Perform EDA (second round) on merged dataset.\n",
    "8.\t> Data cleaning.\n",
    "9.\t> Build models on merged dataset.\n",
    "10.\t> Understand the results and do another round of EDA if needed.\n",
    "11.\t> Build final model.  \n",
    "\n",
    "`PART III (After project window closes)`  \n",
    "\n",
    "12. > Use NLTK library for further processing text data.  \n",
    "13. > Try to address comments from different languages, special characters etc.  \n",
    "14. > Try imblearn library to address class imbalance.  \n",
    "15. > Try to use currently available LLMs and see how my model performs agains them.  "
   ]
  },
  {
   "cell_type": "markdown",
   "id": "415f59db",
   "metadata": {
    "papermill": {
     "duration": 0.092112,
     "end_time": "2023-08-12T20:02:53.513800",
     "exception": false,
     "start_time": "2023-08-12T20:02:53.421688",
     "status": "completed"
    },
    "tags": []
   },
   "source": [
    "`Default code on Kaggle notebook`  "
   ]
  },
  {
   "cell_type": "code",
   "execution_count": 1,
   "id": "20102306",
   "metadata": {
    "_cell_guid": "b1076dfc-b9ad-4769-8c92-a6c4dae69d19",
    "_uuid": "8f2839f25d086af736a60e9eeb907d3b93b6e0e5",
    "execution": {
     "iopub.execute_input": "2023-08-12T20:02:53.703009Z",
     "iopub.status.busy": "2023-08-12T20:02:53.702151Z",
     "iopub.status.idle": "2023-08-12T20:02:53.722503Z",
     "shell.execute_reply": "2023-08-12T20:02:53.721334Z"
    },
    "papermill": {
     "duration": 0.117524,
     "end_time": "2023-08-12T20:02:53.725396",
     "exception": false,
     "start_time": "2023-08-12T20:02:53.607872",
     "status": "completed"
    },
    "tags": []
   },
   "outputs": [
    {
     "name": "stdout",
     "output_type": "stream",
     "text": [
      "/kaggle/input/sentiment-prediction-on-movie-reviews/movies.csv\n",
      "/kaggle/input/sentiment-prediction-on-movie-reviews/sample.csv\n",
      "/kaggle/input/sentiment-prediction-on-movie-reviews/train.csv\n",
      "/kaggle/input/sentiment-prediction-on-movie-reviews/test.csv\n"
     ]
    }
   ],
   "source": [
    "# This Python 3 environment comes with many helpful analytics libraries installed\n",
    "# It is defined by the kaggle/python Docker image: https://github.com/kaggle/docker-python\n",
    "# For example, here's several helpful packages to load\n",
    "\n",
    "import numpy as np # linear algebra\n",
    "import pandas as pd # data processing, CSV file I/O (e.g. pd.read_csv)\n",
    "\n",
    "# Input data files are available in the read-only \"../input/\" directory\n",
    "# For example, running this (by clicking run or pressing Shift+Enter) will list all files under the input directory\n",
    "\n",
    "import os\n",
    "for dirname, _, filenames in os.walk('/kaggle/input'):\n",
    "    for filename in filenames:\n",
    "        print(os.path.join(dirname, filename))\n",
    "\n",
    "# You can write up to 20GB to the current directory (/kaggle/working/) that gets preserved as output when you create a version using \"Save & Run All\" \n",
    "# You can also write temporary files to /kaggle/temp/, but they won't be saved outside of the current session"
   ]
  },
  {
   "cell_type": "markdown",
   "id": "1eacd271",
   "metadata": {
    "papermill": {
     "duration": 0.092929,
     "end_time": "2023-08-12T20:02:53.913437",
     "exception": false,
     "start_time": "2023-08-12T20:02:53.820508",
     "status": "completed"
    },
    "tags": []
   },
   "source": [
    "### Specify platform  "
   ]
  },
  {
   "cell_type": "code",
   "execution_count": 2,
   "id": "f321a852",
   "metadata": {
    "execution": {
     "iopub.execute_input": "2023-08-12T20:02:54.105525Z",
     "iopub.status.busy": "2023-08-12T20:02:54.104852Z",
     "iopub.status.idle": "2023-08-12T20:02:54.109673Z",
     "shell.execute_reply": "2023-08-12T20:02:54.108809Z"
    },
    "papermill": {
     "duration": 0.105586,
     "end_time": "2023-08-12T20:02:54.112136",
     "exception": false,
     "start_time": "2023-08-12T20:02:54.006550",
     "status": "completed"
    },
    "tags": []
   },
   "outputs": [],
   "source": [
    "platform = 'kaggle'  "
   ]
  },
  {
   "cell_type": "markdown",
   "id": "251a83e2",
   "metadata": {
    "papermill": {
     "duration": 0.092906,
     "end_time": "2023-08-12T20:02:54.303789",
     "exception": false,
     "start_time": "2023-08-12T20:02:54.210883",
     "status": "completed"
    },
    "tags": []
   },
   "source": [
    "### Import libraries  "
   ]
  },
  {
   "cell_type": "code",
   "execution_count": 3,
   "id": "e389bd47",
   "metadata": {
    "execution": {
     "iopub.execute_input": "2023-08-12T20:02:54.492624Z",
     "iopub.status.busy": "2023-08-12T20:02:54.491973Z",
     "iopub.status.idle": "2023-08-12T20:02:57.206326Z",
     "shell.execute_reply": "2023-08-12T20:02:57.205072Z"
    },
    "papermill": {
     "duration": 2.810889,
     "end_time": "2023-08-12T20:02:57.208885",
     "exception": false,
     "start_time": "2023-08-12T20:02:54.397996",
     "status": "completed"
    },
    "tags": []
   },
   "outputs": [
    {
     "name": "stdout",
     "output_type": "stream",
     "text": [
      "Imports done.\n"
     ]
    }
   ],
   "source": [
    "import pandas as pd\n",
    "import numpy as np\n",
    "import matplotlib.pyplot as plt\n",
    "import seaborn as sns\n",
    "import re\n",
    "from itertools import compress\n",
    "\n",
    "from sklearn.dummy import DummyClassifier\n",
    "from sklearn.pipeline import Pipeline, FeatureUnion\n",
    "from sklearn.compose import ColumnTransformer\n",
    "from sklearn.metrics import classification_report, confusion_matrix,f1_score\n",
    "from sklearn.feature_extraction.text import TfidfVectorizer, CountVectorizer\n",
    "from sklearn.preprocessing import FunctionTransformer\n",
    "from sklearn.preprocessing import StandardScaler, MinMaxScaler, RobustScaler, OneHotEncoder, LabelEncoder\n",
    "from sklearn.impute import SimpleImputer, KNNImputer\n",
    "from sklearn.linear_model import LogisticRegression, SGDClassifier\n",
    "from sklearn.tree import DecisionTreeClassifier\n",
    "from sklearn.ensemble import RandomForestClassifier, AdaBoostClassifier\n",
    "from sklearn.svm import LinearSVC\n",
    "from sklearn.naive_bayes import GaussianNB, BernoulliNB, CategoricalNB, ComplementNB, MultinomialNB\n",
    "from sklearn.model_selection import train_test_split, GridSearchCV, cross_val_score\n",
    "from sklearn.decomposition import PCA, TruncatedSVD\n",
    "from sklearn.feature_selection import RFECV\n",
    "from sklearn.feature_selection import RFE\n",
    "from sklearn.neural_network import MLPClassifier\n",
    "\n",
    "# import lightgbm as ltb\n",
    "\n",
    "import scipy.stats as stats\n",
    "print(\"Imports done.\")"
   ]
  },
  {
   "cell_type": "markdown",
   "id": "a838a92e",
   "metadata": {
    "papermill": {
     "duration": 0.093542,
     "end_time": "2023-08-12T20:02:57.397586",
     "exception": false,
     "start_time": "2023-08-12T20:02:57.304044",
     "status": "completed"
    },
    "tags": []
   },
   "source": [
    "# PART I  "
   ]
  },
  {
   "cell_type": "markdown",
   "id": "bf87bd94",
   "metadata": {
    "papermill": {
     "duration": 0.098213,
     "end_time": "2023-08-12T20:02:57.589521",
     "exception": false,
     "start_time": "2023-08-12T20:02:57.491308",
     "status": "completed"
    },
    "tags": []
   },
   "source": [
    "## Load datasets  "
   ]
  },
  {
   "cell_type": "code",
   "execution_count": 4,
   "id": "dcef08b1",
   "metadata": {
    "execution": {
     "iopub.execute_input": "2023-08-12T20:02:57.791498Z",
     "iopub.status.busy": "2023-08-12T20:02:57.790550Z",
     "iopub.status.idle": "2023-08-12T20:02:58.940304Z",
     "shell.execute_reply": "2023-08-12T20:02:58.939114Z"
    },
    "papermill": {
     "duration": 1.2576,
     "end_time": "2023-08-12T20:02:58.943122",
     "exception": false,
     "start_time": "2023-08-12T20:02:57.685522",
     "status": "completed"
    },
    "tags": []
   },
   "outputs": [
    {
     "data": {
      "text/plain": [
       "(162758, 5)"
      ]
     },
     "execution_count": 4,
     "metadata": {},
     "output_type": "execute_result"
    }
   ],
   "source": [
    "if platform == 'vscode':\n",
    "    traindf = pd.read_csv(\"data/train.csv\")\n",
    "else:\n",
    "    traindf = pd.read_csv(\"/kaggle/input/sentiment-prediction-on-movie-reviews/train.csv\")\n",
    "    \n",
    "traindf.shape"
   ]
  },
  {
   "cell_type": "code",
   "execution_count": 5,
   "id": "a9000a95",
   "metadata": {
    "execution": {
     "iopub.execute_input": "2023-08-12T20:02:59.140220Z",
     "iopub.status.busy": "2023-08-12T20:02:59.139774Z",
     "iopub.status.idle": "2023-08-12T20:02:59.484741Z",
     "shell.execute_reply": "2023-08-12T20:02:59.483436Z"
    },
    "papermill": {
     "duration": 0.448404,
     "end_time": "2023-08-12T20:02:59.487747",
     "exception": false,
     "start_time": "2023-08-12T20:02:59.039343",
     "status": "completed"
    },
    "tags": []
   },
   "outputs": [
    {
     "data": {
      "text/plain": [
       "(55315, 4)"
      ]
     },
     "execution_count": 5,
     "metadata": {},
     "output_type": "execute_result"
    }
   ],
   "source": [
    "if platform == 'vscode':\n",
    "    testdf = pd.read_csv(\"data/test.csv\")\n",
    "else:\n",
    "    testdf = pd.read_csv(\"/kaggle/input/sentiment-prediction-on-movie-reviews/test.csv\")\n",
    "\n",
    "testdf.shape"
   ]
  },
  {
   "cell_type": "markdown",
   "id": "c86fde3b",
   "metadata": {
    "papermill": {
     "duration": 0.095089,
     "end_time": "2023-08-12T20:02:59.688934",
     "exception": false,
     "start_time": "2023-08-12T20:02:59.593845",
     "status": "completed"
    },
    "tags": []
   },
   "source": [
    "### Understanding the data and getting it ready for training and evaluating models  \n"
   ]
  },
  {
   "cell_type": "code",
   "execution_count": 6,
   "id": "a7ca6d8b",
   "metadata": {
    "execution": {
     "iopub.execute_input": "2023-08-12T20:02:59.883787Z",
     "iopub.status.busy": "2023-08-12T20:02:59.883317Z",
     "iopub.status.idle": "2023-08-12T20:02:59.889656Z",
     "shell.execute_reply": "2023-08-12T20:02:59.888857Z"
    },
    "papermill": {
     "duration": 0.105356,
     "end_time": "2023-08-12T20:02:59.891818",
     "exception": false,
     "start_time": "2023-08-12T20:02:59.786462",
     "status": "completed"
    },
    "tags": []
   },
   "outputs": [
    {
     "data": {
      "text/plain": [
       "(162758, 5)"
      ]
     },
     "execution_count": 6,
     "metadata": {},
     "output_type": "execute_result"
    }
   ],
   "source": [
    "traindf.shape"
   ]
  },
  {
   "cell_type": "code",
   "execution_count": 7,
   "id": "178bd506",
   "metadata": {
    "execution": {
     "iopub.execute_input": "2023-08-12T20:03:00.094624Z",
     "iopub.status.busy": "2023-08-12T20:03:00.093831Z",
     "iopub.status.idle": "2023-08-12T20:03:00.350804Z",
     "shell.execute_reply": "2023-08-12T20:03:00.349148Z"
    },
    "papermill": {
     "duration": 0.36068,
     "end_time": "2023-08-12T20:03:00.353469",
     "exception": false,
     "start_time": "2023-08-12T20:02:59.992789",
     "status": "completed"
    },
    "tags": []
   },
   "outputs": [
    {
     "name": "stdout",
     "output_type": "stream",
     "text": [
      "<class 'pandas.core.frame.DataFrame'>\n",
      "RangeIndex: 162758 entries, 0 to 162757\n",
      "Data columns (total 5 columns):\n",
      " #   Column              Non-Null Count   Dtype \n",
      "---  ------              --------------   ----- \n",
      " 0   movieid             162758 non-null  object\n",
      " 1   reviewerName        162758 non-null  object\n",
      " 2   isFrequentReviewer  162758 non-null  bool  \n",
      " 3   reviewText          156311 non-null  object\n",
      " 4   sentiment           162758 non-null  object\n",
      "dtypes: bool(1), object(4)\n",
      "memory usage: 5.1+ MB\n"
     ]
    }
   ],
   "source": [
    "traindf.info()"
   ]
  },
  {
   "cell_type": "code",
   "execution_count": 8,
   "id": "418fb242",
   "metadata": {
    "execution": {
     "iopub.execute_input": "2023-08-12T20:03:00.557215Z",
     "iopub.status.busy": "2023-08-12T20:03:00.556767Z",
     "iopub.status.idle": "2023-08-12T20:03:00.796290Z",
     "shell.execute_reply": "2023-08-12T20:03:00.794893Z"
    },
    "papermill": {
     "duration": 0.347018,
     "end_time": "2023-08-12T20:03:00.799103",
     "exception": false,
     "start_time": "2023-08-12T20:03:00.452085",
     "status": "completed"
    },
    "tags": []
   },
   "outputs": [
    {
     "data": {
      "text/plain": [
       "movieid                  0\n",
       "reviewerName             0\n",
       "isFrequentReviewer       0\n",
       "reviewText            6447\n",
       "sentiment                0\n",
       "dtype: int64"
      ]
     },
     "execution_count": 8,
     "metadata": {},
     "output_type": "execute_result"
    }
   ],
   "source": [
    "traindf.isna().sum()"
   ]
  },
  {
   "cell_type": "markdown",
   "id": "14cfa79f",
   "metadata": {
    "papermill": {
     "duration": 0.099952,
     "end_time": "2023-08-12T20:03:01.064736",
     "exception": false,
     "start_time": "2023-08-12T20:03:00.964784",
     "status": "completed"
    },
    "tags": []
   },
   "source": [
    "### Fill empty reviewText with custom text  "
   ]
  },
  {
   "cell_type": "code",
   "execution_count": 9,
   "id": "01e2be31",
   "metadata": {
    "execution": {
     "iopub.execute_input": "2023-08-12T20:03:01.267473Z",
     "iopub.status.busy": "2023-08-12T20:03:01.267056Z",
     "iopub.status.idle": "2023-08-12T20:03:01.520561Z",
     "shell.execute_reply": "2023-08-12T20:03:01.519135Z"
    },
    "papermill": {
     "duration": 0.358776,
     "end_time": "2023-08-12T20:03:01.523443",
     "exception": false,
     "start_time": "2023-08-12T20:03:01.164667",
     "status": "completed"
    },
    "tags": []
   },
   "outputs": [
    {
     "data": {
      "text/plain": [
       "movieid               0\n",
       "reviewerName          0\n",
       "isFrequentReviewer    0\n",
       "reviewText            0\n",
       "sentiment             0\n",
       "dtype: int64"
      ]
     },
     "execution_count": 9,
     "metadata": {},
     "output_type": "execute_result"
    }
   ],
   "source": [
    "traindf[\"reviewText\"].fillna(\"empty\", inplace=True)\n",
    "traindf.isna().sum()"
   ]
  },
  {
   "cell_type": "markdown",
   "id": "55322ad5",
   "metadata": {
    "papermill": {
     "duration": 0.101625,
     "end_time": "2023-08-12T20:03:01.728338",
     "exception": false,
     "start_time": "2023-08-12T20:03:01.626713",
     "status": "completed"
    },
    "tags": []
   },
   "source": [
    "## EDA  \n"
   ]
  },
  {
   "cell_type": "code",
   "execution_count": 10,
   "id": "12ae2f14",
   "metadata": {
    "execution": {
     "iopub.execute_input": "2023-08-12T20:03:01.931546Z",
     "iopub.status.busy": "2023-08-12T20:03:01.931041Z",
     "iopub.status.idle": "2023-08-12T20:03:02.209641Z",
     "shell.execute_reply": "2023-08-12T20:03:02.208253Z"
    },
    "papermill": {
     "duration": 0.386564,
     "end_time": "2023-08-12T20:03:02.215819",
     "exception": false,
     "start_time": "2023-08-12T20:03:01.829255",
     "status": "completed"
    },
    "tags": []
   },
   "outputs": [
    {
     "data": {
      "image/png": "[encoded data removed]",
      "text/plain": [
       "<Figure size 600x400 with 1 Axes>"
      ]
     },
     "metadata": {},
     "output_type": "display_data"
    }
   ],
   "source": [
    "# Pie chart for sentiment column\n",
    "plt.figure(figsize=(6, 4))\n",
    "traindf[\"sentiment\"].value_counts().plot(kind='pie', autopct='%1.0f%%', colors=[\"lightgreen\", \"crimson\"])\n",
    "plt.title(\"Pie chart for sentiment column\")\n",
    "plt.show()"
   ]
  },
  {
   "cell_type": "code",
   "execution_count": 11,
   "id": "36a7dbad",
   "metadata": {
    "execution": {
     "iopub.execute_input": "2023-08-12T20:03:02.442968Z",
     "iopub.status.busy": "2023-08-12T20:03:02.442188Z",
     "iopub.status.idle": "2023-08-12T20:03:02.526352Z",
     "shell.execute_reply": "2023-08-12T20:03:02.525107Z"
    },
    "papermill": {
     "duration": 0.186135,
     "end_time": "2023-08-12T20:03:02.528892",
     "exception": false,
     "start_time": "2023-08-12T20:03:02.342757",
     "status": "completed"
    },
    "tags": []
   },
   "outputs": [
    {
     "name": "stdout",
     "output_type": "stream",
     "text": [
      "sentiment           NEGATIVE  POSITIVE\n",
      "isFrequentReviewer                    \n",
      "False                  35760     77429\n",
      "True                   18237     31332\n"
     ]
    },
    {
     "data": {
      "text/plain": [
       "Chi2ContingencyResult(statistic=419.89235425657796, pvalue=2.5755894769493255e-93, dof=1, expected_freq=array([[37551.86493444, 75637.13506556],\n",
       "       [16445.13506556, 33123.86493444]]))"
      ]
     },
     "execution_count": 11,
     "metadata": {},
     "output_type": "execute_result"
    }
   ],
   "source": [
    "# Chi-square test for isFrequentReviewer column and sentiment column   \n",
    "\n",
    "contingency_table = pd.crosstab(traindf['isFrequentReviewer'], traindf['sentiment'])\n",
    "print(contingency_table)\n",
    "stats.chi2_contingency(contingency_table)"
   ]
  },
  {
   "cell_type": "markdown",
   "id": "6fd29c11",
   "metadata": {
    "papermill": {
     "duration": 0.103322,
     "end_time": "2023-08-12T20:03:02.732667",
     "exception": false,
     "start_time": "2023-08-12T20:03:02.629345",
     "status": "completed"
    },
    "tags": []
   },
   "source": [
    "### Separate features and labels  "
   ]
  },
  {
   "cell_type": "code",
   "execution_count": 12,
   "id": "4085623d",
   "metadata": {
    "execution": {
     "iopub.execute_input": "2023-08-12T20:03:02.933333Z",
     "iopub.status.busy": "2023-08-12T20:03:02.932232Z",
     "iopub.status.idle": "2023-08-12T20:03:02.940022Z",
     "shell.execute_reply": "2023-08-12T20:03:02.939047Z"
    },
    "papermill": {
     "duration": 0.110497,
     "end_time": "2023-08-12T20:03:02.942427",
     "exception": false,
     "start_time": "2023-08-12T20:03:02.831930",
     "status": "completed"
    },
    "tags": []
   },
   "outputs": [
    {
     "data": {
      "text/plain": [
       "((162758,), (162758,))"
      ]
     },
     "execution_count": 12,
     "metadata": {},
     "output_type": "execute_result"
    }
   ],
   "source": [
    "train_features = traindf[\"reviewText\"]\n",
    "train_labels = traindf.iloc[:, -1]\n",
    "train_features.shape, train_labels.shape"
   ]
  },
  {
   "cell_type": "markdown",
   "id": "dbfe7ab2",
   "metadata": {
    "papermill": {
     "duration": 0.102461,
     "end_time": "2023-08-12T20:03:03.142473",
     "exception": false,
     "start_time": "2023-08-12T20:03:03.040012",
     "status": "completed"
    },
    "tags": []
   },
   "source": [
    "### Split traindf into training and testing parts  "
   ]
  },
  {
   "cell_type": "code",
   "execution_count": 13,
   "id": "664d0375",
   "metadata": {
    "execution": {
     "iopub.execute_input": "2023-08-12T20:03:03.360638Z",
     "iopub.status.busy": "2023-08-12T20:03:03.359607Z",
     "iopub.status.idle": "2023-08-12T20:03:03.400787Z",
     "shell.execute_reply": "2023-08-12T20:03:03.399951Z"
    },
    "papermill": {
     "duration": 0.143279,
     "end_time": "2023-08-12T20:03:03.403275",
     "exception": false,
     "start_time": "2023-08-12T20:03:03.259996",
     "status": "completed"
    },
    "tags": []
   },
   "outputs": [
    {
     "data": {
      "text/plain": [
       "((122068,), (40690,), (122068,), (40690,))"
      ]
     },
     "execution_count": 13,
     "metadata": {},
     "output_type": "execute_result"
    }
   ],
   "source": [
    "X_train, X_test, y_train, y_test = train_test_split(train_features, train_labels, test_size=0.25, random_state=42)\n",
    "X_train.shape, X_test.shape, y_train.shape, y_test.shape"
   ]
  },
  {
   "cell_type": "markdown",
   "id": "65de2085",
   "metadata": {
    "papermill": {
     "duration": 0.096383,
     "end_time": "2023-08-12T20:03:03.596266",
     "exception": false,
     "start_time": "2023-08-12T20:03:03.499883",
     "status": "completed"
    },
    "tags": []
   },
   "source": [
    "## Model evaluation plan and code  "
   ]
  },
  {
   "cell_type": "code",
   "execution_count": 14,
   "id": "1049b1c6",
   "metadata": {
    "execution": {
     "iopub.execute_input": "2023-08-12T20:03:03.797977Z",
     "iopub.status.busy": "2023-08-12T20:03:03.797265Z",
     "iopub.status.idle": "2023-08-12T20:03:03.801238Z",
     "shell.execute_reply": "2023-08-12T20:03:03.800391Z"
    },
    "papermill": {
     "duration": 0.108706,
     "end_time": "2023-08-12T20:03:03.803514",
     "exception": false,
     "start_time": "2023-08-12T20:03:03.694808",
     "status": "completed"
    },
    "tags": []
   },
   "outputs": [],
   "source": [
    "# from sklearn.metrics import classification_report, confusion_matrix, ConfusionMatrixDisplay\n",
    "# from sklearn.metrics import f1_score"
   ]
  },
  {
   "cell_type": "code",
   "execution_count": 15,
   "id": "94d68c56",
   "metadata": {
    "execution": {
     "iopub.execute_input": "2023-08-12T20:03:04.007731Z",
     "iopub.status.busy": "2023-08-12T20:03:04.006996Z",
     "iopub.status.idle": "2023-08-12T20:03:04.011337Z",
     "shell.execute_reply": "2023-08-12T20:03:04.010419Z"
    },
    "papermill": {
     "duration": 0.108092,
     "end_time": "2023-08-12T20:03:04.013834",
     "exception": false,
     "start_time": "2023-08-12T20:03:03.905742",
     "status": "completed"
    },
    "tags": []
   },
   "outputs": [],
   "source": [
    "# def evaluate(y_test, y_pred):\n",
    "#     print(classification_report(y_test, y_pred))\n",
    "#     print(confusion_matrix(y_test, y_pred))\n",
    "#     # print(f1_score(y_test, y_pred))\n",
    "#     ConfusionMatrixDisplay(y_test, y_pred)\n",
    "#     return"
   ]
  },
  {
   "cell_type": "markdown",
   "id": "aa952199",
   "metadata": {
    "papermill": {
     "duration": 0.102183,
     "end_time": "2023-08-12T20:03:04.215245",
     "exception": false,
     "start_time": "2023-08-12T20:03:04.113062",
     "status": "completed"
    },
    "tags": []
   },
   "source": [
    "### Data preprocessing  "
   ]
  },
  {
   "cell_type": "markdown",
   "id": "0661608c",
   "metadata": {
    "papermill": {
     "duration": 0.095071,
     "end_time": "2023-08-12T20:03:04.407901",
     "exception": false,
     "start_time": "2023-08-12T20:03:04.312830",
     "status": "completed"
    },
    "tags": []
   },
   "source": [
    "`Define stop words`  "
   ]
  },
  {
   "cell_type": "code",
   "execution_count": 16,
   "id": "27428028",
   "metadata": {
    "execution": {
     "iopub.execute_input": "2023-08-12T20:03:04.602164Z",
     "iopub.status.busy": "2023-08-12T20:03:04.601467Z",
     "iopub.status.idle": "2023-08-12T20:03:04.605446Z",
     "shell.execute_reply": "2023-08-12T20:03:04.604595Z"
    },
    "papermill": {
     "duration": 0.103789,
     "end_time": "2023-08-12T20:03:04.607746",
     "exception": false,
     "start_time": "2023-08-12T20:03:04.503957",
     "status": "completed"
    },
    "tags": []
   },
   "outputs": [],
   "source": [
    "# stop_words = [\"able\", \"about\", \"above\", \"abst\", \"ac\"]     # Deprecated  \n",
    "# type(stop_words), len(stop_words)"
   ]
  },
  {
   "cell_type": "markdown",
   "id": "0d848295",
   "metadata": {
    "papermill": {
     "duration": 0.09505,
     "end_time": "2023-08-12T20:03:04.803311",
     "exception": false,
     "start_time": "2023-08-12T20:03:04.708261",
     "status": "completed"
    },
    "tags": []
   },
   "source": [
    "## Feature extraction  "
   ]
  },
  {
   "cell_type": "markdown",
   "id": "0ce57978",
   "metadata": {
    "papermill": {
     "duration": 0.097338,
     "end_time": "2023-08-12T20:03:04.996933",
     "exception": false,
     "start_time": "2023-08-12T20:03:04.899595",
     "status": "completed"
    },
    "tags": []
   },
   "source": [
    "### Understand CountVectorizer and TfidfVectorizer  "
   ]
  },
  {
   "cell_type": "code",
   "execution_count": 17,
   "id": "45d77b79",
   "metadata": {
    "execution": {
     "iopub.execute_input": "2023-08-12T20:03:05.193146Z",
     "iopub.status.busy": "2023-08-12T20:03:05.192684Z",
     "iopub.status.idle": "2023-08-12T20:03:05.198056Z",
     "shell.execute_reply": "2023-08-12T20:03:05.196844Z"
    },
    "papermill": {
     "duration": 0.105627,
     "end_time": "2023-08-12T20:03:05.200861",
     "exception": false,
     "start_time": "2023-08-12T20:03:05.095234",
     "status": "completed"
    },
    "tags": []
   },
   "outputs": [],
   "source": [
    "# text = X_train.copy()\n",
    "# text.head()"
   ]
  },
  {
   "cell_type": "code",
   "execution_count": 18,
   "id": "3ef4edbc",
   "metadata": {
    "execution": {
     "iopub.execute_input": "2023-08-12T20:03:05.398934Z",
     "iopub.status.busy": "2023-08-12T20:03:05.397825Z",
     "iopub.status.idle": "2023-08-12T20:03:05.402454Z",
     "shell.execute_reply": "2023-08-12T20:03:05.401481Z"
    },
    "papermill": {
     "duration": 0.105638,
     "end_time": "2023-08-12T20:03:05.404876",
     "exception": false,
     "start_time": "2023-08-12T20:03:05.299238",
     "status": "completed"
    },
    "tags": []
   },
   "outputs": [],
   "source": [
    "# vectorizer = TfidfVectorizer(stop_words=stop_words)\n",
    "# vectorized_text = vectorizer.fit_transform(text[\"reviewText\"])\n",
    "# vectorized_text"
   ]
  },
  {
   "cell_type": "markdown",
   "id": "96474383",
   "metadata": {
    "papermill": {
     "duration": 0.097849,
     "end_time": "2023-08-12T20:03:05.600136",
     "exception": false,
     "start_time": "2023-08-12T20:03:05.502287",
     "status": "completed"
    },
    "tags": []
   },
   "source": [
    "`Without stop words`  \n",
    "<122068x58624 sparse matrix of type '<class 'numpy.float64'>'\n",
    "\twith 2312222 stored elements in Compressed Sparse Row format>\n",
    "\n",
    "`With stop words`  \n",
    "<122068x57784 sparse matrix of type '<class 'numpy.float64'>'\n",
    "\twith 1188395 stored elements in Compressed Sparse Row format>   "
   ]
  },
  {
   "cell_type": "code",
   "execution_count": 19,
   "id": "b868f76d",
   "metadata": {
    "execution": {
     "iopub.execute_input": "2023-08-12T20:03:05.801609Z",
     "iopub.status.busy": "2023-08-12T20:03:05.800592Z",
     "iopub.status.idle": "2023-08-12T20:03:05.806341Z",
     "shell.execute_reply": "2023-08-12T20:03:05.805049Z"
    },
    "papermill": {
     "duration": 0.109494,
     "end_time": "2023-08-12T20:03:05.809057",
     "exception": false,
     "start_time": "2023-08-12T20:03:05.699563",
     "status": "completed"
    },
    "tags": []
   },
   "outputs": [],
   "source": [
    "# vectorizer2 = CountVectorizer(stop_words=stop_words)\n",
    "# vectorized_text2 = vectorizer2.fit_transform(text[\"reviewText\"])\n",
    "# vectorized_text2"
   ]
  },
  {
   "cell_type": "markdown",
   "id": "e1cf73ef",
   "metadata": {
    "papermill": {
     "duration": 0.095486,
     "end_time": "2023-08-12T20:03:06.007380",
     "exception": false,
     "start_time": "2023-08-12T20:03:05.911894",
     "status": "completed"
    },
    "tags": []
   },
   "source": [
    "`Without stop words`  \n",
    "<122068x58624 sparse matrix of type '<class 'numpy.int64'>'\n",
    "\twith 2312222 stored elements in Compressed Sparse Row format>\n",
    "\n",
    "`With stop words`  \n",
    "<122068x57784 sparse matrix of type '<class 'numpy.int64'>'\n",
    "\twith 1188395 stored elements in Compressed Sparse Row format>"
   ]
  },
  {
   "cell_type": "markdown",
   "id": "6d73d914",
   "metadata": {
    "papermill": {
     "duration": 0.103016,
     "end_time": "2023-08-12T20:03:06.222900",
     "exception": false,
     "start_time": "2023-08-12T20:03:06.119884",
     "status": "completed"
    },
    "tags": []
   },
   "source": [
    "### Conclusion   \n",
    "`TfidfVectorizer is equivalent to CountVectorizer followed by TfidfTransformer.`  \n",
    "\n",
    "https://scikit-learn.org/stable/modules/generated/sklearn.feature_extraction.text.TfidfVectorizer.html"
   ]
  },
  {
   "cell_type": "markdown",
   "id": "af23a0d4",
   "metadata": {
    "papermill": {
     "duration": 0.095767,
     "end_time": "2023-08-12T20:03:06.414505",
     "exception": false,
     "start_time": "2023-08-12T20:03:06.318738",
     "status": "completed"
    },
    "tags": []
   },
   "source": [
    "## Model building workflow  \n",
    "\n",
    "`Make pipeline for preprocesing and model training and predictions`  \n"
   ]
  },
  {
   "cell_type": "code",
   "execution_count": 20,
   "id": "6b2879c4",
   "metadata": {
    "execution": {
     "iopub.execute_input": "2023-08-12T20:03:06.608970Z",
     "iopub.status.busy": "2023-08-12T20:03:06.608162Z",
     "iopub.status.idle": "2023-08-12T20:03:06.613445Z",
     "shell.execute_reply": "2023-08-12T20:03:06.612460Z"
    },
    "papermill": {
     "duration": 0.10626,
     "end_time": "2023-08-12T20:03:06.616150",
     "exception": false,
     "start_time": "2023-08-12T20:03:06.509890",
     "status": "completed"
    },
    "tags": []
   },
   "outputs": [],
   "source": [
    "# def preprocess_n_train(X_train, y_train, preprocessor, model):\n",
    "#     pipe = Pipeline(steps=[\n",
    "#                             (\"preprocessor\", preprocessor),\n",
    "#                             (\"model\", model)\n",
    "#                         ])\n",
    "    \n",
    "#     pipe.fit(X_train, y_train)\n",
    "\n",
    "#     print(\"Given model has been trained. Use predict method to get predictions array.\")\n",
    "#     return pipe\n",
    "\n",
    "\n",
    "# def predict_n_evaluate(pipeline, X_test, y_test):\n",
    "#     y_pred = pipeline.predict(X_test)\n",
    "#     print(f\"y_pred shape: {y_pred.shape}\")\n",
    "#     print(f\"Summary of predictions: {np.unique(y_pred, return_counts=True)}\")\n",
    "#     print(classification_report(y_test, y_pred))\n",
    "#     print(confusion_matrix(y_test, y_pred))\n",
    "#     return y_pred"
   ]
  },
  {
   "cell_type": "markdown",
   "id": "bc66b9ae",
   "metadata": {
    "papermill": {
     "duration": 0.099954,
     "end_time": "2023-08-12T20:03:06.816487",
     "exception": false,
     "start_time": "2023-08-12T20:03:06.716533",
     "status": "completed"
    },
    "tags": []
   },
   "source": [
    "## Building 3 basic models  "
   ]
  },
  {
   "cell_type": "markdown",
   "id": "2e26bc28",
   "metadata": {
    "papermill": {
     "duration": 0.099037,
     "end_time": "2023-08-12T20:03:07.013472",
     "exception": false,
     "start_time": "2023-08-12T20:03:06.914435",
     "status": "completed"
    },
    "tags": []
   },
   "source": [
    "### Text preprocessors  "
   ]
  },
  {
   "cell_type": "code",
   "execution_count": 21,
   "id": "b3c3422a",
   "metadata": {
    "execution": {
     "iopub.execute_input": "2023-08-12T20:03:07.224540Z",
     "iopub.status.busy": "2023-08-12T20:03:07.224026Z",
     "iopub.status.idle": "2023-08-12T20:03:07.229123Z",
     "shell.execute_reply": "2023-08-12T20:03:07.227726Z"
    },
    "papermill": {
     "duration": 0.115354,
     "end_time": "2023-08-12T20:03:07.231767",
     "exception": false,
     "start_time": "2023-08-12T20:03:07.116413",
     "status": "completed"
    },
    "tags": []
   },
   "outputs": [],
   "source": [
    "# tvec = TfidfVectorizer()\n",
    "# cvec = CountVectorizer()        # Note that TfidfVectorizer and CountVectorizer+TfidsTransformer do the same function\n",
    "# tvec, cvec"
   ]
  },
  {
   "cell_type": "markdown",
   "id": "04594704",
   "metadata": {
    "papermill": {
     "duration": 0.100331,
     "end_time": "2023-08-12T20:03:07.432814",
     "exception": false,
     "start_time": "2023-08-12T20:03:07.332483",
     "status": "completed"
    },
    "tags": []
   },
   "source": [
    "### Logistic Regression with TfidVectorizer for preprocessing  "
   ]
  },
  {
   "cell_type": "code",
   "execution_count": 22,
   "id": "fb9ad668",
   "metadata": {
    "execution": {
     "iopub.execute_input": "2023-08-12T20:03:07.636645Z",
     "iopub.status.busy": "2023-08-12T20:03:07.635952Z",
     "iopub.status.idle": "2023-08-12T20:03:07.641393Z",
     "shell.execute_reply": "2023-08-12T20:03:07.640396Z"
    },
    "papermill": {
     "duration": 0.114173,
     "end_time": "2023-08-12T20:03:07.643853",
     "exception": false,
     "start_time": "2023-08-12T20:03:07.529680",
     "status": "completed"
    },
    "tags": []
   },
   "outputs": [],
   "source": [
    "# logreg = LogisticRegression(max_iter=1000)\n",
    "# logreg_pipe = preprocess_n_train(X_train, y_train, tvec, logreg)\n",
    "# y_pred_logreg = predict_n_evaluate(logreg_pipe, X_test, y_test)\n",
    "# y_pred_logreg"
   ]
  },
  {
   "cell_type": "markdown",
   "id": "24539c22",
   "metadata": {
    "papermill": {
     "duration": 0.170004,
     "end_time": "2023-08-12T20:03:07.913926",
     "exception": false,
     "start_time": "2023-08-12T20:03:07.743922",
     "status": "completed"
    },
    "tags": []
   },
   "source": [
    "### SVM model  "
   ]
  },
  {
   "cell_type": "code",
   "execution_count": 23,
   "id": "342d4ca4",
   "metadata": {
    "execution": {
     "iopub.execute_input": "2023-08-12T20:03:08.122112Z",
     "iopub.status.busy": "2023-08-12T20:03:08.121327Z",
     "iopub.status.idle": "2023-08-12T20:03:08.126576Z",
     "shell.execute_reply": "2023-08-12T20:03:08.125286Z"
    },
    "papermill": {
     "duration": 0.11142,
     "end_time": "2023-08-12T20:03:08.129272",
     "exception": false,
     "start_time": "2023-08-12T20:03:08.017852",
     "status": "completed"
    },
    "tags": []
   },
   "outputs": [],
   "source": [
    "# svm = LinearSVC()\n",
    "# svm_pipe = preprocess_n_train(X_train, y_train, tvec, svm)\n",
    "# y_pred_svm = predict_n_evaluate(svm_pipe, X_test, y_test)\n",
    "# y_pred_svm"
   ]
  },
  {
   "cell_type": "markdown",
   "id": "cf79b82e",
   "metadata": {
    "papermill": {
     "duration": 0.09818,
     "end_time": "2023-08-12T20:03:08.332905",
     "exception": false,
     "start_time": "2023-08-12T20:03:08.234725",
     "status": "completed"
    },
    "tags": []
   },
   "source": [
    "### Naive Bayes model  "
   ]
  },
  {
   "cell_type": "markdown",
   "id": "ad2c1e69",
   "metadata": {
    "papermill": {
     "duration": 0.100333,
     "end_time": "2023-08-12T20:03:08.529852",
     "exception": false,
     "start_time": "2023-08-12T20:03:08.429519",
     "status": "completed"
    },
    "tags": []
   },
   "source": [
    "#### MultinomialNB  "
   ]
  },
  {
   "cell_type": "code",
   "execution_count": 24,
   "id": "88624c38",
   "metadata": {
    "execution": {
     "iopub.execute_input": "2023-08-12T20:03:08.731281Z",
     "iopub.status.busy": "2023-08-12T20:03:08.730487Z",
     "iopub.status.idle": "2023-08-12T20:03:08.735050Z",
     "shell.execute_reply": "2023-08-12T20:03:08.733993Z"
    },
    "papermill": {
     "duration": 0.107347,
     "end_time": "2023-08-12T20:03:08.738972",
     "exception": false,
     "start_time": "2023-08-12T20:03:08.631625",
     "status": "completed"
    },
    "tags": []
   },
   "outputs": [],
   "source": [
    "# mnb = MultinomialNB()\n",
    "# mnb_pipe = preprocess_n_train(X_train, y_train, tvec, mnb)\n",
    "# y_pred_mnb = predict_n_evaluate(mnb_pipe, X_test, y_test)\n",
    "# y_pred_mnb"
   ]
  },
  {
   "cell_type": "markdown",
   "id": "3b4eeedd",
   "metadata": {
    "papermill": {
     "duration": 0.098532,
     "end_time": "2023-08-12T20:03:08.937282",
     "exception": false,
     "start_time": "2023-08-12T20:03:08.838750",
     "status": "completed"
    },
    "tags": []
   },
   "source": [
    "## Submitting predictions to Kaggle competition  "
   ]
  },
  {
   "cell_type": "code",
   "execution_count": 25,
   "id": "0abb5218",
   "metadata": {
    "execution": {
     "iopub.execute_input": "2023-08-12T20:03:09.137939Z",
     "iopub.status.busy": "2023-08-12T20:03:09.137499Z",
     "iopub.status.idle": "2023-08-12T20:03:09.143138Z",
     "shell.execute_reply": "2023-08-12T20:03:09.141787Z"
    },
    "papermill": {
     "duration": 0.110646,
     "end_time": "2023-08-12T20:03:09.145563",
     "exception": false,
     "start_time": "2023-08-12T20:03:09.034917",
     "status": "completed"
    },
    "tags": []
   },
   "outputs": [],
   "source": [
    "# def submit(selected_model=logreg, selected_preprocessor=tvec):\n",
    "    \n",
    "#     # Retrain on the whole train.csv file  \n",
    "#     traindf = pd.read_csv(\"/kaggle/input/sentiment-prediction-on-movie-reviews/train.csv\")\n",
    "#     X_train = traindf[\"reviewText\"]\n",
    "#     X_train.fillna(\"empty\", inplace=True)\n",
    "#     y_train = traindf[\"sentiment\"]\n",
    "#     pipe = preprocess_n_train(X_train, y_train, selected_preprocessor, selected_model)\n",
    "    \n",
    "#     # Predict on test.csv file\n",
    "#     testdf = pd.read_csv(\"/kaggle/input/sentiment-prediction-on-movie-reviews/test.csv\")\n",
    "#     X_test = testdf[\"reviewText\"]\n",
    "#     X_test.fillna(\"empty\", inplace=True)\n",
    "    \n",
    "#     y_pred = pipe.predict(X_test)\n",
    "    \n",
    "#     pred_df = pd.DataFrame(y_pred)\n",
    "#     pred_df.columns = [\"sentiment\"]\n",
    "#     pred_df.index.name = \"id\"\n",
    "#     pred_df.to_csv(\"submission.csv\")\n",
    "    \n",
    "#     return \"Successfully created the submission file!!!\""
   ]
  },
  {
   "cell_type": "code",
   "execution_count": 26,
   "id": "0b592822",
   "metadata": {
    "execution": {
     "iopub.execute_input": "2023-08-12T20:03:09.349951Z",
     "iopub.status.busy": "2023-08-12T20:03:09.349524Z",
     "iopub.status.idle": "2023-08-12T20:03:09.353584Z",
     "shell.execute_reply": "2023-08-12T20:03:09.352734Z"
    },
    "papermill": {
     "duration": 0.105382,
     "end_time": "2023-08-12T20:03:09.356498",
     "exception": false,
     "start_time": "2023-08-12T20:03:09.251116",
     "status": "completed"
    },
    "tags": []
   },
   "outputs": [],
   "source": [
    "# submit(logreg_cv1, tvec_cv1)"
   ]
  },
  {
   "cell_type": "markdown",
   "id": "93e06c93",
   "metadata": {
    "papermill": {
     "duration": 0.097972,
     "end_time": "2023-08-12T20:03:09.550773",
     "exception": false,
     "start_time": "2023-08-12T20:03:09.452801",
     "status": "completed"
    },
    "tags": []
   },
   "source": [
    "# PART II  "
   ]
  },
  {
   "cell_type": "markdown",
   "id": "c8994de8",
   "metadata": {
    "papermill": {
     "duration": 0.099771,
     "end_time": "2023-08-12T20:03:09.749151",
     "exception": false,
     "start_time": "2023-08-12T20:03:09.649380",
     "status": "completed"
    },
    "tags": []
   },
   "source": [
    "## Merge \"movies.csv\" with \"train.csv\" and \"test.csv\"  "
   ]
  },
  {
   "cell_type": "markdown",
   "id": "5e4c3bd0",
   "metadata": {
    "papermill": {
     "duration": 0.100244,
     "end_time": "2023-08-12T20:03:09.949897",
     "exception": false,
     "start_time": "2023-08-12T20:03:09.849653",
     "status": "completed"
    },
    "tags": []
   },
   "source": [
    "### Helper functions  "
   ]
  },
  {
   "cell_type": "code",
   "execution_count": 27,
   "id": "c1106195",
   "metadata": {
    "execution": {
     "iopub.execute_input": "2023-08-12T20:03:10.155006Z",
     "iopub.status.busy": "2023-08-12T20:03:10.154330Z",
     "iopub.status.idle": "2023-08-12T20:03:10.160165Z",
     "shell.execute_reply": "2023-08-12T20:03:10.158985Z"
    },
    "papermill": {
     "duration": 0.113138,
     "end_time": "2023-08-12T20:03:10.162899",
     "exception": false,
     "start_time": "2023-08-12T20:03:10.049761",
     "status": "completed"
    },
    "tags": []
   },
   "outputs": [],
   "source": [
    "# Helper function for loading files  \n",
    "\n",
    "def load_csv(filename: str):\n",
    "    if platform == \"vscode\":\n",
    "        df = pd.read_csv(f\"data/{filename}.csv\")\n",
    "    else:\n",
    "        df = pd.read_csv(f\"/kaggle/input/sentiment-prediction-on-movie-reviews/{filename}.csv\")\n",
    "        \n",
    "    return df"
   ]
  },
  {
   "cell_type": "code",
   "execution_count": 28,
   "id": "3659784a",
   "metadata": {
    "execution": {
     "iopub.execute_input": "2023-08-12T20:03:10.372113Z",
     "iopub.status.busy": "2023-08-12T20:03:10.370899Z",
     "iopub.status.idle": "2023-08-12T20:03:10.378774Z",
     "shell.execute_reply": "2023-08-12T20:03:10.377284Z"
    },
    "papermill": {
     "duration": 0.120182,
     "end_time": "2023-08-12T20:03:10.382550",
     "exception": false,
     "start_time": "2023-08-12T20:03:10.262368",
     "status": "completed"
    },
    "tags": []
   },
   "outputs": [],
   "source": [
    "def inspect(df: pd.DataFrame):\n",
    "    print(f\"Shape of the dataframe: {df.shape}\")\n",
    "    print()\n",
    "    print(f\"Columns in the dataframe:\\n{df.columns}\")\n",
    "    print()\n",
    "    print(f\"{df.info()}\")\n",
    "    print()\n",
    "    # print(f\"Summary: {df.describe()}\")\n",
    "    print(f\"Missing values:\\n{df.isna().sum()}\")\n",
    "    return"
   ]
  },
  {
   "cell_type": "code",
   "execution_count": 29,
   "id": "6df576db",
   "metadata": {
    "execution": {
     "iopub.execute_input": "2023-08-12T20:03:10.608059Z",
     "iopub.status.busy": "2023-08-12T20:03:10.606989Z",
     "iopub.status.idle": "2023-08-12T20:03:10.613900Z",
     "shell.execute_reply": "2023-08-12T20:03:10.612336Z"
    },
    "papermill": {
     "duration": 0.126224,
     "end_time": "2023-08-12T20:03:10.617057",
     "exception": false,
     "start_time": "2023-08-12T20:03:10.490833",
     "status": "completed"
    },
    "tags": []
   },
   "outputs": [],
   "source": [
    "def name_fl(name):\n",
    "    l = name.split()\n",
    "    n = ' '.join((l[0], l[-1]))\n",
    "    return n"
   ]
  },
  {
   "cell_type": "code",
   "execution_count": 30,
   "id": "12af5099",
   "metadata": {
    "execution": {
     "iopub.execute_input": "2023-08-12T20:03:10.848533Z",
     "iopub.status.busy": "2023-08-12T20:03:10.847336Z",
     "iopub.status.idle": "2023-08-12T20:03:10.879563Z",
     "shell.execute_reply": "2023-08-12T20:03:10.878544Z"
    },
    "papermill": {
     "duration": 0.144447,
     "end_time": "2023-08-12T20:03:10.882478",
     "exception": false,
     "start_time": "2023-08-12T20:03:10.738031",
     "status": "completed"
    },
    "tags": []
   },
   "outputs": [],
   "source": [
    "def select_features(df: pd.DataFrame, moviesdf: pd.DataFrame, row_thresh_null=None):\n",
    "    '''\n",
    "    This function merges the given dataframes. Note that the first df must be \"train\" or \"test\" and\n",
    "    the second df should be \"movies\".\n",
    "    Note: Sentiment column is present only in \"train.csv\" file and not \"test.csv\" file.\n",
    "    '''\n",
    "    \n",
    "    # Drop duplicates from moviesdf\n",
    "#     movies_unique = moviesdf.drop_duplicates(subset=[\"movieid\"])\n",
    "\n",
    "    # Drop duplicates using groupby - clubs similar rows and fills in missing values better\n",
    "    movies_unique = moviesdf.fillna(value=np.nan).groupby(\"movieid\").first().reset_index()\n",
    "    \n",
    "\n",
    "    # Handle missing values in movies.csv better than just dropping duplicates?\n",
    "#     movies_unique = moviesdf.copy()\n",
    "#     movies_unique[[\"audienceScore\", \"runtimeMinutes\"]] = movies_unique[[\"audienceScore\", \"runtimeMinutes\"]].interpolate(method='linear', axis=0)\n",
    "#     movies_unique = movies_unique.fillna(value=np.nan).groupby(\"movieid\").first().fillna(method='ffill').reset_index()\n",
    "\n",
    "    \n",
    "\n",
    "    # Merge df and movies_unique\n",
    "    df_merged = pd.merge(df, movies_unique, on=\"movieid\", how='left')\n",
    "    \n",
    "    # Rename \"isTopCritic\" column, if it exists, to \"isFrequentReviewer\"\n",
    "    df_merged.rename(columns={\"isTopCritic\": \"isFrequentReviewer\"}, inplace=True)\n",
    "    \n",
    "    # Drop columns\n",
    "#     df_merged = df_merged.drop(columns=[\"title\", \"ratingContents\", \"releaseDateTheaters\", \"releaseDateStreaming\", \"distributor\", \"soundType\"])\n",
    "#     df_merged = df_merged.drop(columns=[\"title\", \"soundType\"])\n",
    "    \n",
    "    # Drop rows (OPTIONAL: Uses kwarg row_thresh_null)\n",
    "    if row_thresh_null != None:\n",
    "        df_merged.dropna(axis=0, thresh=(df_merged.shape[1] - row_thresh_null), inplace=True)\n",
    "        \n",
    "\n",
    "    # Create new columns based on reviewText\n",
    "    final = df_merged.copy()\n",
    "    final[\"reviewYN\"] = np.where(final[\"reviewText\"].isnull(), 1, 0)    # Feature engineering - adding a new column\n",
    "    final[\"reviewWC\"] = final.apply(lambda x: len(str(x[\"reviewText\"]).split()), axis=1)    # Feature engineering - adding second new column\n",
    "    \n",
    "    # Clean text (replace numbers with empty string) and fill missing values in \"reviewText\" with empty string\n",
    "    final[\"reviewText\"] = final[\"reviewText\"].str.replace('\\d+', '', regex=True)\n",
    "    final[\"reviewText\"] = final[\"reviewText\"].fillna(\"neutral\")\n",
    "    \n",
    "    # Fill missing values in \"rating\", \"genre\", original columns with the word \"unknown\"\n",
    "    final[\"rating\"] = final[\"rating\"].fillna(\"unknown\")\n",
    "    final[\"originalLanguage\"] = final[\"originalLanguage\"].fillna(\"unknown\")\n",
    "    final[\"genre\"] = final[\"genre\"].fillna(\"unknown\")\n",
    "    final[\"genre\"] = final[\"genre\"].apply(lambda x: re.sub(r\"-\", \"\", x))\n",
    "    final[\"genreSorted\"] = final[\"genre\"].apply(lambda x: (\",\").join(sorted(x.split(\", \"))))\n",
    "#     final[\"genre\"] = final[\"genre\"].replace(to_replace={\"&\": \"\"})\n",
    "\n",
    "    # Impute missing values for \"audienceScore\" and \"runtimeMinutes\" columns\n",
    "#     final[\"audienceScore\"] = final[\"audienceScore\"].fillna(final[\"audienceScore\"].mean())        # MOVED\n",
    "#     final[\"runtimeMinutes\"] = final[\"runtimeMinutes\"].fillna(final[\"runtimeMinutes\"].median())   # MOVED\n",
    "    \n",
    "    # Preprocess and impute missing values in \"boxOffice\" column\n",
    "    final[\"boxOffice\"] = final[\"boxOffice\"].str[1:]\n",
    "    final[\"boxOffice\"] = final[\"boxOffice\"].replace(to_replace={\"M\": \"*1000000\", \"K\": \"*1000\"}, regex=True)\n",
    "    final[\"boxOffice\"] = final[\"boxOffice\"].loc[final[\"boxOffice\"].notnull()].apply(lambda x: eval(str(x)))\n",
    "#     final[\"boxOffice\"] = final[\"boxOffice\"].fillna(final[\"boxOffice\"].median())                  # MOVED\n",
    "    # (Optional) Replace outliers in boxOffice with median\n",
    "#     median = final[\"boxOffice\"].describe()['50%']\n",
    "#     iqr = final[\"boxOffice\"].describe()['75%'] - final[\"boxOffice\"].describe()['25%']\n",
    "#     ll = median - (1.5*iqr)\n",
    "#     ul = median + (1.5*iqr)\n",
    "#     final.loc[final[\"boxOffice\"] > ul, \"boxOffice\"] = median\n",
    "    \n",
    "    # Clean language names\n",
    "    final[\"originalLanguage\"].replace({\"English (United Kingdom)\": \"English\", \n",
    "                                            \"English (Australia)\" : \"English\",\n",
    "                                            \"French (France)\": \"French\", \n",
    "                                            \"French (Canada)\": \"French\",\n",
    "                                            \"Portuguese (Brazil)\": \"Portuguese\",\n",
    "                                            \"Spanish (Spain)\": \"Spanish\"},                                         \n",
    "                                            inplace=True)\n",
    "    \n",
    "    # Clean reviewerName column\n",
    "    pre_post_fixes = {\"Mr. \": \"\", \"Mrs. \": \"\", \"Ms. \": \"\", \"Dr. \": \"\", \n",
    "                      \" MD\": \"\", \" DDS\": \"\", \" DVM\": \"\", \" Jr.\": \"\", \" PhD\": \"\", \" II\": \"\", \" IV\": \"\"}\n",
    "    final[\"reviewerName\"] = final[\"reviewerName\"].replace(pre_post_fixes, regex=True)\n",
    "    final[\"reviewerName\"] = final[\"reviewerName\"].apply(name_fl)\n",
    "    \n",
    "    # Handle 'ratingContents' column\n",
    "    final[\"ratingContents\"] = final[\"ratingContents\"].fillna(\"neutral\")\n",
    "    final[\"rcSorted\"] = final[\"ratingContents\"].apply(lambda x: (\",\").join(sorted(x.strip(\"][\").split(\", \"))))\n",
    "    final[\"rcSorted\"] = final[\"rcSorted\"].apply(lambda x: re.sub(r\"'\", \"\", x))\n",
    "    final[\"rcSorted\"] = final[\"rcSorted\"].apply(lambda x: re.sub(r\"[/\\s]\", \"_\", x))  \n",
    "    \n",
    "    # Handle 'ratingContents' column\n",
    "    final[\"distributor\"] = final[\"distributor\"].fillna(\"unknown\")\n",
    "    \n",
    "    # Work with 'releaseDateTheaters', releaseDateStreaming column\n",
    "    final[[\"releaseDateTheaters\", \"releaseDateStreaming\"]] = final[[\"releaseDateTheaters\", \"releaseDateStreaming\"]].astype('datetime64[ns]')\n",
    "\n",
    "    final[\"releaseDate\"] = final[[\"releaseDateTheaters\", \"releaseDateStreaming\"]].min(axis=1, skipna=False)\n",
    "#     final[\"releaseDate\"] = final[\"releaseDate\"].fillna(final[\"releaseDate\"].median())               # MOVED\n",
    "\n",
    "    final[\"releaseYear\"] = final[\"releaseDate\"].dt.year\n",
    "    final[\"releaseMonth\"] = final[\"releaseDate\"].dt.month\n",
    "    \n",
    "    # Compute \"releaseDiff\" column and fill missing values in \"releaseDiff\" and (optional) replace outliers\n",
    "    final[\"releaseDiff\"] = (final[\"releaseDateStreaming\"] - final[\"releaseDateTheaters\"]) / np.timedelta64(1, 'D')\n",
    "    final[\"releaseDiff\"] = final[\"releaseDiff\"].apply(lambda x: abs(x))\n",
    "    final[\"releaseDiff\"] = final[\"releaseDiff\"].fillna(value=0)\n",
    "#     final[\"releaseDiff\"] = final[\"releaseDiff\"].fillna(final[\"releaseDiff\"].median())\n",
    "    # median = final[\"releaseDiff\"].describe()['50%']\n",
    "    # iqr = final[\"releaseDiff\"].describe()['75%'] - final[\"releaseDiff\"].describe()['25%']\n",
    "    # ll = median - (1.5*iqr)\n",
    "    # ul = median + (1.5*iqr)\n",
    "    # final.loc[final[\"releaseDiff\"] > ul, \"releaseDiff\"] = median\n",
    "    # final.loc[final[\"releaseDiff\"] < ll, \"releaseDiff\"] = median\n",
    "    \n",
    "#     # Create new feature columns\n",
    "    \n",
    "#     # Convert audienceScore to categories  \n",
    "#     num_bins_as = 20\n",
    "#     final[\"audScoreBins\"] = pd.cut(final['audienceScore'], bins=num_bins_as, labels=False)\n",
    "    \n",
    "#     # Convert runtimeMinutes to categories  \n",
    "# #     num_bins_rt = 20\n",
    "#     final[\"runtimeBins\"] = pd.cut(final['runtimeMinutes'], bins=[0,75,120,180,565], labels=[4,3,2,1])\n",
    "    \n",
    "#     # Convert boxOffice to categories  \n",
    "#     num_bins_bo = 5\n",
    "#     final[\"boxOfficeBins\"] = pd.cut(final['boxOffice'], bins=num_bins_bo, labels=False)\n",
    "    \n",
    "#     # Convert releaseDiff to categories  \n",
    "#     num_bins_rd = 5\n",
    "#     final[\"releaseDiffBins\"] = pd.cut(final['releaseDiff'], bins=[-1, 180, 360, 1000, 40000], labels=[0, 1, 2, 3])\n",
    "\n",
    "    return final"
   ]
  },
  {
   "cell_type": "code",
   "execution_count": 31,
   "id": "79ec9c17",
   "metadata": {
    "execution": {
     "iopub.execute_input": "2023-08-12T20:03:11.103181Z",
     "iopub.status.busy": "2023-08-12T20:03:11.102721Z",
     "iopub.status.idle": "2023-08-12T20:03:11.114025Z",
     "shell.execute_reply": "2023-08-12T20:03:11.112823Z"
    },
    "papermill": {
     "duration": 0.126734,
     "end_time": "2023-08-12T20:03:11.116779",
     "exception": false,
     "start_time": "2023-08-12T20:03:10.990045",
     "status": "completed"
    },
    "tags": []
   },
   "outputs": [],
   "source": [
    "def split_train_predict(features, labels, pipeline, test_size=0.25, random_state=42):\n",
    "    # cols = features.columns\n",
    "    if len(features.shape) == 1:\n",
    "        features = features.to_numpy().reshape(-1, 1)  # reshape to 2D array\n",
    "    features = pd.DataFrame(features)\n",
    "    X_train, X_test, y_train, y_test = train_test_split(features, labels, test_size=test_size, random_state=random_state)\n",
    "    pipeline.fit(X_train, y_train)\n",
    "    y_pred = pipeline.predict(X_test)\n",
    "    print(classification_report(y_test, y_pred))\n",
    "    print(confusion_matrix(y_test, y_pred))\n",
    "    return pipeline"
   ]
  },
  {
   "cell_type": "markdown",
   "id": "38b7dee8",
   "metadata": {
    "papermill": {
     "duration": 0.101289,
     "end_time": "2023-08-12T20:03:11.321027",
     "exception": false,
     "start_time": "2023-08-12T20:03:11.219738",
     "status": "completed"
    },
    "tags": []
   },
   "source": [
    "### Merge \"train.csv\" file with \"movies.csv\" file  "
   ]
  },
  {
   "cell_type": "code",
   "execution_count": 32,
   "id": "dc264fdf",
   "metadata": {
    "execution": {
     "iopub.execute_input": "2023-08-12T20:03:11.521605Z",
     "iopub.status.busy": "2023-08-12T20:03:11.521196Z",
     "iopub.status.idle": "2023-08-12T20:03:26.550137Z",
     "shell.execute_reply": "2023-08-12T20:03:26.548815Z"
    },
    "papermill": {
     "duration": 15.130895,
     "end_time": "2023-08-12T20:03:26.553290",
     "exception": false,
     "start_time": "2023-08-12T20:03:11.422395",
     "status": "completed"
    },
    "tags": []
   },
   "outputs": [],
   "source": [
    "merged = select_features(load_csv(\"train\"), load_csv(\"movies\"), row_thresh_null=None)"
   ]
  },
  {
   "cell_type": "code",
   "execution_count": 33,
   "id": "bcf5225f",
   "metadata": {
    "execution": {
     "iopub.execute_input": "2023-08-12T20:03:26.753017Z",
     "iopub.status.busy": "2023-08-12T20:03:26.752574Z",
     "iopub.status.idle": "2023-08-12T20:03:26.758238Z",
     "shell.execute_reply": "2023-08-12T20:03:26.756671Z"
    },
    "papermill": {
     "duration": 0.110558,
     "end_time": "2023-08-12T20:03:26.761501",
     "exception": false,
     "start_time": "2023-08-12T20:03:26.650943",
     "status": "completed"
    },
    "tags": []
   },
   "outputs": [],
   "source": [
    "# inspect(merged)    # Note missing values in ['audienceScore', 'runtimeMinutes', 'boxOffice'] columns  "
   ]
  },
  {
   "cell_type": "code",
   "execution_count": 34,
   "id": "202a8ae5",
   "metadata": {
    "execution": {
     "iopub.execute_input": "2023-08-12T20:03:26.965549Z",
     "iopub.status.busy": "2023-08-12T20:03:26.965153Z",
     "iopub.status.idle": "2023-08-12T20:03:27.059210Z",
     "shell.execute_reply": "2023-08-12T20:03:27.058242Z"
    },
    "papermill": {
     "duration": 0.197736,
     "end_time": "2023-08-12T20:03:27.061570",
     "exception": false,
     "start_time": "2023-08-12T20:03:26.863834",
     "status": "completed"
    },
    "tags": []
   },
   "outputs": [
    {
     "data": {
      "text/plain": [
       "array([6.80e+01, 1.04e+02, 1.43e+07])"
      ]
     },
     "execution_count": 34,
     "metadata": {},
     "output_type": "execute_result"
    }
   ],
   "source": [
    "# Simple Imputer for ['audienceScore', 'runtimeMinutes', 'boxOffice'] columns\n",
    "si = SimpleImputer(strategy='median')\n",
    "merged[['audienceScore', 'runtimeMinutes', 'boxOffice']] = si.fit_transform(merged[['audienceScore', 'runtimeMinutes', 'boxOffice']])\n",
    "si.statistics_"
   ]
  },
  {
   "cell_type": "code",
   "execution_count": 35,
   "id": "15c60240",
   "metadata": {
    "execution": {
     "iopub.execute_input": "2023-08-12T20:03:27.266637Z",
     "iopub.status.busy": "2023-08-12T20:03:27.266012Z",
     "iopub.status.idle": "2023-08-12T20:03:27.280713Z",
     "shell.execute_reply": "2023-08-12T20:03:27.279489Z"
    },
    "papermill": {
     "duration": 0.119096,
     "end_time": "2023-08-12T20:03:27.283306",
     "exception": false,
     "start_time": "2023-08-12T20:03:27.164210",
     "status": "completed"
    },
    "tags": []
   },
   "outputs": [],
   "source": [
    "# Fill 'releaseDate' column with median  \n",
    "merged['releaseDate'] = merged[\"releaseDate\"].fillna(merged[\"releaseDate\"].median())"
   ]
  },
  {
   "cell_type": "code",
   "execution_count": 36,
   "id": "f596f671",
   "metadata": {
    "execution": {
     "iopub.execute_input": "2023-08-12T20:03:27.488175Z",
     "iopub.status.busy": "2023-08-12T20:03:27.487390Z",
     "iopub.status.idle": "2023-08-12T20:03:29.020504Z",
     "shell.execute_reply": "2023-08-12T20:03:29.018727Z"
    },
    "papermill": {
     "duration": 1.63948,
     "end_time": "2023-08-12T20:03:29.023412",
     "exception": false,
     "start_time": "2023-08-12T20:03:27.383932",
     "status": "completed"
    },
    "tags": []
   },
   "outputs": [
    {
     "name": "stdout",
     "output_type": "stream",
     "text": [
      "Shape of the dataframe: (162758, 26)\n",
      "\n",
      "Columns in the dataframe:\n",
      "Index(['movieid', 'reviewerName', 'isFrequentReviewer', 'reviewText',\n",
      "       'sentiment', 'title', 'audienceScore', 'rating', 'ratingContents',\n",
      "       'releaseDateTheaters', 'releaseDateStreaming', 'runtimeMinutes',\n",
      "       'genre', 'originalLanguage', 'director', 'boxOffice', 'distributor',\n",
      "       'soundType', 'reviewYN', 'reviewWC', 'genreSorted', 'rcSorted',\n",
      "       'releaseDate', 'releaseYear', 'releaseMonth', 'releaseDiff'],\n",
      "      dtype='object')\n",
      "\n",
      "<class 'pandas.core.frame.DataFrame'>\n",
      "Int64Index: 162758 entries, 0 to 162757\n",
      "Data columns (total 26 columns):\n",
      " #   Column                Non-Null Count   Dtype         \n",
      "---  ------                --------------   -----         \n",
      " 0   movieid               162758 non-null  object        \n",
      " 1   reviewerName          162758 non-null  object        \n",
      " 2   isFrequentReviewer    162758 non-null  bool          \n",
      " 3   reviewText            162758 non-null  object        \n",
      " 4   sentiment             162758 non-null  object        \n",
      " 5   title                 162758 non-null  object        \n",
      " 6   audienceScore         162758 non-null  float64       \n",
      " 7   rating                162758 non-null  object        \n",
      " 8   ratingContents        162758 non-null  object        \n",
      " 9   releaseDateTheaters   146403 non-null  datetime64[ns]\n",
      " 10  releaseDateStreaming  157353 non-null  datetime64[ns]\n",
      " 11  runtimeMinutes        162758 non-null  float64       \n",
      " 12  genre                 162758 non-null  object        \n",
      " 13  originalLanguage      162758 non-null  object        \n",
      " 14  director              162758 non-null  object        \n",
      " 15  boxOffice             162758 non-null  float64       \n",
      " 16  distributor           162758 non-null  object        \n",
      " 17  soundType             93466 non-null   object        \n",
      " 18  reviewYN              162758 non-null  int64         \n",
      " 19  reviewWC              162758 non-null  int64         \n",
      " 20  genreSorted           162758 non-null  object        \n",
      " 21  rcSorted              162758 non-null  object        \n",
      " 22  releaseDate           162758 non-null  datetime64[ns]\n",
      " 23  releaseYear           143073 non-null  float64       \n",
      " 24  releaseMonth          143073 non-null  float64       \n",
      " 25  releaseDiff           162758 non-null  float64       \n",
      "dtypes: bool(1), datetime64[ns](3), float64(6), int64(2), object(14)\n",
      "memory usage: 32.4+ MB\n",
      "None\n",
      "\n",
      "Missing values:\n",
      "movieid                     0\n",
      "reviewerName                0\n",
      "isFrequentReviewer          0\n",
      "reviewText                  0\n",
      "sentiment                   0\n",
      "title                       0\n",
      "audienceScore               0\n",
      "rating                      0\n",
      "ratingContents              0\n",
      "releaseDateTheaters     16355\n",
      "releaseDateStreaming     5405\n",
      "runtimeMinutes              0\n",
      "genre                       0\n",
      "originalLanguage            0\n",
      "director                    0\n",
      "boxOffice                   0\n",
      "distributor                 0\n",
      "soundType               69292\n",
      "reviewYN                    0\n",
      "reviewWC                    0\n",
      "genreSorted                 0\n",
      "rcSorted                    0\n",
      "releaseDate                 0\n",
      "releaseYear             19685\n",
      "releaseMonth            19685\n",
      "releaseDiff                 0\n",
      "dtype: int64\n"
     ]
    }
   ],
   "source": [
    "# Check out 'merged' df after imputation  \n",
    "inspect(merged)"
   ]
  },
  {
   "cell_type": "code",
   "execution_count": 37,
   "id": "e32805ab",
   "metadata": {
    "execution": {
     "iopub.execute_input": "2023-08-12T20:03:29.224441Z",
     "iopub.status.busy": "2023-08-12T20:03:29.223228Z",
     "iopub.status.idle": "2023-08-12T20:03:29.283790Z",
     "shell.execute_reply": "2023-08-12T20:03:29.282811Z"
    },
    "papermill": {
     "duration": 0.162419,
     "end_time": "2023-08-12T20:03:29.286484",
     "exception": false,
     "start_time": "2023-08-12T20:03:29.124065",
     "status": "completed"
    },
    "tags": []
   },
   "outputs": [
    {
     "data": {
      "text/html": [
       "<div>\n",
       "<style scoped>\n",
       "    .dataframe tbody tr th:only-of-type {\n",
       "        vertical-align: middle;\n",
       "    }\n",
       "\n",
       "    .dataframe tbody tr th {\n",
       "        vertical-align: top;\n",
       "    }\n",
       "\n",
       "    .dataframe thead th {\n",
       "        text-align: right;\n",
       "    }\n",
       "</style>\n",
       "<table border=\"1\" class=\"dataframe\">\n",
       "  <thead>\n",
       "    <tr style=\"text-align: right;\">\n",
       "      <th></th>\n",
       "      <th>audienceScore</th>\n",
       "      <th>runtimeMinutes</th>\n",
       "      <th>boxOffice</th>\n",
       "    </tr>\n",
       "  </thead>\n",
       "  <tbody>\n",
       "    <tr>\n",
       "      <th>count</th>\n",
       "      <td>162758.000000</td>\n",
       "      <td>162758.000000</td>\n",
       "      <td>1.627580e+05</td>\n",
       "    </tr>\n",
       "    <tr>\n",
       "      <th>mean</th>\n",
       "      <td>65.062565</td>\n",
       "      <td>106.992019</td>\n",
       "      <td>4.160983e+07</td>\n",
       "    </tr>\n",
       "    <tr>\n",
       "      <th>std</th>\n",
       "      <td>19.844000</td>\n",
       "      <td>22.203778</td>\n",
       "      <td>7.932291e+07</td>\n",
       "    </tr>\n",
       "    <tr>\n",
       "      <th>min</th>\n",
       "      <td>0.000000</td>\n",
       "      <td>4.000000</td>\n",
       "      <td>0.000000e+00</td>\n",
       "    </tr>\n",
       "    <tr>\n",
       "      <th>25%</th>\n",
       "      <td>51.000000</td>\n",
       "      <td>93.000000</td>\n",
       "      <td>2.000000e+06</td>\n",
       "    </tr>\n",
       "    <tr>\n",
       "      <th>50%</th>\n",
       "      <td>68.000000</td>\n",
       "      <td>104.000000</td>\n",
       "      <td>1.430000e+07</td>\n",
       "    </tr>\n",
       "    <tr>\n",
       "      <th>75%</th>\n",
       "      <td>81.000000</td>\n",
       "      <td>118.000000</td>\n",
       "      <td>4.200000e+07</td>\n",
       "    </tr>\n",
       "    <tr>\n",
       "      <th>max</th>\n",
       "      <td>100.000000</td>\n",
       "      <td>561.000000</td>\n",
       "      <td>8.584000e+08</td>\n",
       "    </tr>\n",
       "  </tbody>\n",
       "</table>\n",
       "</div>"
      ],
      "text/plain": [
       "       audienceScore  runtimeMinutes     boxOffice\n",
       "count  162758.000000   162758.000000  1.627580e+05\n",
       "mean       65.062565      106.992019  4.160983e+07\n",
       "std        19.844000       22.203778  7.932291e+07\n",
       "min         0.000000        4.000000  0.000000e+00\n",
       "25%        51.000000       93.000000  2.000000e+06\n",
       "50%        68.000000      104.000000  1.430000e+07\n",
       "75%        81.000000      118.000000  4.200000e+07\n",
       "max       100.000000      561.000000  8.584000e+08"
      ]
     },
     "execution_count": 37,
     "metadata": {},
     "output_type": "execute_result"
    }
   ],
   "source": [
    "merged[['audienceScore', 'runtimeMinutes', 'boxOffice']].describe()"
   ]
  },
  {
   "cell_type": "markdown",
   "id": "2cc944fe",
   "metadata": {
    "papermill": {
     "duration": 0.098079,
     "end_time": "2023-08-12T20:03:29.484217",
     "exception": false,
     "start_time": "2023-08-12T20:03:29.386138",
     "status": "completed"
    },
    "tags": []
   },
   "source": [
    "### EDA releaseDiff  "
   ]
  },
  {
   "cell_type": "code",
   "execution_count": 38,
   "id": "1ae83e93",
   "metadata": {
    "execution": {
     "iopub.execute_input": "2023-08-12T20:03:29.683635Z",
     "iopub.status.busy": "2023-08-12T20:03:29.682626Z",
     "iopub.status.idle": "2023-08-12T20:03:29.701296Z",
     "shell.execute_reply": "2023-08-12T20:03:29.700406Z"
    },
    "papermill": {
     "duration": 0.120531,
     "end_time": "2023-08-12T20:03:29.704096",
     "exception": false,
     "start_time": "2023-08-12T20:03:29.583565",
     "status": "completed"
    },
    "tags": []
   },
   "outputs": [
    {
     "data": {
      "text/plain": [
       "count    162758.000000\n",
       "mean       1653.469015\n",
       "std        4581.420922\n",
       "min           0.000000\n",
       "25%          65.000000\n",
       "50%         116.000000\n",
       "75%         375.000000\n",
       "max       38922.000000\n",
       "Name: releaseDiff, dtype: float64"
      ]
     },
     "execution_count": 38,
     "metadata": {},
     "output_type": "execute_result"
    }
   ],
   "source": [
    "# abs values\n",
    "merged[\"releaseDiff\"].describe()"
   ]
  },
  {
   "cell_type": "code",
   "execution_count": 39,
   "id": "26a623d8",
   "metadata": {
    "execution": {
     "iopub.execute_input": "2023-08-12T20:03:29.911454Z",
     "iopub.status.busy": "2023-08-12T20:03:29.910493Z",
     "iopub.status.idle": "2023-08-12T20:03:29.916106Z",
     "shell.execute_reply": "2023-08-12T20:03:29.914769Z"
    },
    "papermill": {
     "duration": 0.111652,
     "end_time": "2023-08-12T20:03:29.918749",
     "exception": false,
     "start_time": "2023-08-12T20:03:29.807097",
     "status": "completed"
    },
    "tags": []
   },
   "outputs": [],
   "source": [
    "# merged['releaseDiffBins'].value_counts()"
   ]
  },
  {
   "cell_type": "code",
   "execution_count": 40,
   "id": "ea8e92a2",
   "metadata": {
    "execution": {
     "iopub.execute_input": "2023-08-12T20:03:30.126014Z",
     "iopub.status.busy": "2023-08-12T20:03:30.124612Z",
     "iopub.status.idle": "2023-08-12T20:03:30.528183Z",
     "shell.execute_reply": "2023-08-12T20:03:30.526867Z"
    },
    "papermill": {
     "duration": 0.510893,
     "end_time": "2023-08-12T20:03:30.530905",
     "exception": false,
     "start_time": "2023-08-12T20:03:30.020012",
     "status": "completed"
    },
    "tags": []
   },
   "outputs": [
    {
     "data": {
      "text/plain": [
       "<Axes: xlabel='sentiment', ylabel='releaseDiff'>"
      ]
     },
     "execution_count": 40,
     "metadata": {},
     "output_type": "execute_result"
    },
    {
     "data": {
      "image/png": "[encoded data removed]",
      "text/plain": [
       "<Figure size 640x480 with 1 Axes>"
      ]
     },
     "metadata": {},
     "output_type": "display_data"
    }
   ],
   "source": [
    "sns.boxplot(x=merged['sentiment'], y=merged['releaseDiff'], showfliers=False)"
   ]
  },
  {
   "cell_type": "code",
   "execution_count": 41,
   "id": "599657d8",
   "metadata": {
    "execution": {
     "iopub.execute_input": "2023-08-12T20:03:30.737170Z",
     "iopub.status.busy": "2023-08-12T20:03:30.736751Z",
     "iopub.status.idle": "2023-08-12T20:03:30.742875Z",
     "shell.execute_reply": "2023-08-12T20:03:30.740773Z"
    },
    "papermill": {
     "duration": 0.114192,
     "end_time": "2023-08-12T20:03:30.746235",
     "exception": false,
     "start_time": "2023-08-12T20:03:30.632043",
     "status": "completed"
    },
    "tags": []
   },
   "outputs": [],
   "source": [
    "# sns.displot(merged['releaseDiffBins'])"
   ]
  },
  {
   "cell_type": "code",
   "execution_count": 42,
   "id": "054c18bb",
   "metadata": {
    "execution": {
     "iopub.execute_input": "2023-08-12T20:03:30.955958Z",
     "iopub.status.busy": "2023-08-12T20:03:30.955198Z",
     "iopub.status.idle": "2023-08-12T20:03:30.960159Z",
     "shell.execute_reply": "2023-08-12T20:03:30.959255Z"
    },
    "papermill": {
     "duration": 0.110369,
     "end_time": "2023-08-12T20:03:30.962621",
     "exception": false,
     "start_time": "2023-08-12T20:03:30.852252",
     "status": "completed"
    },
    "tags": []
   },
   "outputs": [],
   "source": [
    "# merged['sentiment'].loc[merged['releaseDiffBins'] > 0].value_counts()"
   ]
  },
  {
   "cell_type": "code",
   "execution_count": 43,
   "id": "74ac2b30",
   "metadata": {
    "execution": {
     "iopub.execute_input": "2023-08-12T20:03:31.166267Z",
     "iopub.status.busy": "2023-08-12T20:03:31.165247Z",
     "iopub.status.idle": "2023-08-12T20:03:31.169736Z",
     "shell.execute_reply": "2023-08-12T20:03:31.168755Z"
    },
    "papermill": {
     "duration": 0.109712,
     "end_time": "2023-08-12T20:03:31.172160",
     "exception": false,
     "start_time": "2023-08-12T20:03:31.062448",
     "status": "completed"
    },
    "tags": []
   },
   "outputs": [],
   "source": [
    "# merged['releaseDiffBins'].describe()"
   ]
  },
  {
   "cell_type": "markdown",
   "id": "3346f5d1",
   "metadata": {
    "papermill": {
     "duration": 0.105634,
     "end_time": "2023-08-12T20:03:31.378027",
     "exception": false,
     "start_time": "2023-08-12T20:03:31.272393",
     "status": "completed"
    },
    "tags": []
   },
   "source": [
    "### EDA 'distributor'  "
   ]
  },
  {
   "cell_type": "code",
   "execution_count": 44,
   "id": "eff6a0a7",
   "metadata": {
    "execution": {
     "iopub.execute_input": "2023-08-12T20:03:31.656686Z",
     "iopub.status.busy": "2023-08-12T20:03:31.655982Z",
     "iopub.status.idle": "2023-08-12T20:03:31.693593Z",
     "shell.execute_reply": "2023-08-12T20:03:31.692730Z"
    },
    "papermill": {
     "duration": 0.140398,
     "end_time": "2023-08-12T20:03:31.696300",
     "exception": false,
     "start_time": "2023-08-12T20:03:31.555902",
     "status": "completed"
    },
    "tags": []
   },
   "outputs": [
    {
     "data": {
      "text/plain": [
       "unknown                              20489\n",
       "Universal Pictures                    8847\n",
       "Warner Bros. Pictures                 8722\n",
       "Paramount Pictures                    7773\n",
       "20th Century Fox                      7007\n",
       "                                     ...  \n",
       "Almi Pictures                            1\n",
       "Koch Lorber                              1\n",
       "Magic Lamp                               1\n",
       "Fine Line Features, Miramax Films        1\n",
       "American Film Co.                        1\n",
       "Name: distributor, Length: 1796, dtype: int64"
      ]
     },
     "execution_count": 44,
     "metadata": {},
     "output_type": "execute_result"
    }
   ],
   "source": [
    "merged[\"distributor\"].value_counts()"
   ]
  },
  {
   "cell_type": "code",
   "execution_count": 45,
   "id": "44b02a32",
   "metadata": {
    "execution": {
     "iopub.execute_input": "2023-08-12T20:03:31.899159Z",
     "iopub.status.busy": "2023-08-12T20:03:31.898753Z",
     "iopub.status.idle": "2023-08-12T20:03:31.918424Z",
     "shell.execute_reply": "2023-08-12T20:03:31.917230Z"
    },
    "papermill": {
     "duration": 0.124267,
     "end_time": "2023-08-12T20:03:31.920948",
     "exception": false,
     "start_time": "2023-08-12T20:03:31.796681",
     "status": "completed"
    },
    "tags": []
   },
   "outputs": [
    {
     "data": {
      "text/plain": [
       "count    162758.000000\n",
       "mean        106.992019\n",
       "std          22.203778\n",
       "min           4.000000\n",
       "25%          93.000000\n",
       "50%         104.000000\n",
       "75%         118.000000\n",
       "max         561.000000\n",
       "Name: runtimeMinutes, dtype: float64"
      ]
     },
     "execution_count": 45,
     "metadata": {},
     "output_type": "execute_result"
    }
   ],
   "source": [
    "merged[\"runtimeMinutes\"].describe()"
   ]
  },
  {
   "cell_type": "code",
   "execution_count": 46,
   "id": "412151b2",
   "metadata": {
    "execution": {
     "iopub.execute_input": "2023-08-12T20:03:32.122834Z",
     "iopub.status.busy": "2023-08-12T20:03:32.122141Z",
     "iopub.status.idle": "2023-08-12T20:03:32.545395Z",
     "shell.execute_reply": "2023-08-12T20:03:32.544125Z"
    },
    "papermill": {
     "duration": 0.527939,
     "end_time": "2023-08-12T20:03:32.547864",
     "exception": false,
     "start_time": "2023-08-12T20:03:32.019925",
     "status": "completed"
    },
    "tags": []
   },
   "outputs": [
    {
     "data": {
      "text/plain": [
       "<Axes: xlabel='sentiment', ylabel='runtimeMinutes'>"
      ]
     },
     "execution_count": 46,
     "metadata": {},
     "output_type": "execute_result"
    },
    {
     "data": {
      "image/png": "[encoded data removed]",
      "text/plain": [
       "<Figure size 640x480 with 1 Axes>"
      ]
     },
     "metadata": {},
     "output_type": "display_data"
    }
   ],
   "source": [
    "sns.boxplot(y=merged[\"runtimeMinutes\"], x=merged[\"sentiment\"])"
   ]
  },
  {
   "cell_type": "code",
   "execution_count": 47,
   "id": "ed462cda",
   "metadata": {
    "execution": {
     "iopub.execute_input": "2023-08-12T20:03:32.749424Z",
     "iopub.status.busy": "2023-08-12T20:03:32.748991Z",
     "iopub.status.idle": "2023-08-12T20:03:32.754115Z",
     "shell.execute_reply": "2023-08-12T20:03:32.752877Z"
    },
    "papermill": {
     "duration": 0.109082,
     "end_time": "2023-08-12T20:03:32.756646",
     "exception": false,
     "start_time": "2023-08-12T20:03:32.647564",
     "status": "completed"
    },
    "tags": []
   },
   "outputs": [],
   "source": [
    "# print(merged[\"boxOfficeBins\"].value_counts())\n",
    "# sns.displot(merged[\"boxOfficeBins\"])"
   ]
  },
  {
   "cell_type": "code",
   "execution_count": 48,
   "id": "36c72f91",
   "metadata": {
    "execution": {
     "iopub.execute_input": "2023-08-12T20:03:32.959672Z",
     "iopub.status.busy": "2023-08-12T20:03:32.959207Z",
     "iopub.status.idle": "2023-08-12T20:03:32.967495Z",
     "shell.execute_reply": "2023-08-12T20:03:32.966548Z"
    },
    "papermill": {
     "duration": 0.110562,
     "end_time": "2023-08-12T20:03:32.969679",
     "exception": false,
     "start_time": "2023-08-12T20:03:32.859117",
     "status": "completed"
    },
    "tags": []
   },
   "outputs": [
    {
     "data": {
      "text/plain": [
       "0    Henry Selick’s first movie since ’s Coraline. ...\n",
       "1    With a cast that reads like the Vogue Oscar pa...\n",
       "2    Creed II does not give us anything but another...\n",
       "3    I know what you're thinking, but this is no Li...\n",
       "4    Director Fernando Meirelles tells the story wi...\n",
       "Name: reviewText, dtype: object"
      ]
     },
     "execution_count": 48,
     "metadata": {},
     "output_type": "execute_result"
    }
   ],
   "source": [
    "merged[\"reviewText\"].head()"
   ]
  },
  {
   "cell_type": "code",
   "execution_count": 49,
   "id": "6a7b2dbc",
   "metadata": {
    "execution": {
     "iopub.execute_input": "2023-08-12T20:03:33.200581Z",
     "iopub.status.busy": "2023-08-12T20:03:33.199495Z",
     "iopub.status.idle": "2023-08-12T20:03:33.207519Z",
     "shell.execute_reply": "2023-08-12T20:03:33.206441Z"
    },
    "papermill": {
     "duration": 0.132198,
     "end_time": "2023-08-12T20:03:33.210741",
     "exception": false,
     "start_time": "2023-08-12T20:03:33.078543",
     "status": "completed"
    },
    "tags": []
   },
   "outputs": [
    {
     "data": {
      "text/plain": [
       "6447"
      ]
     },
     "execution_count": 49,
     "metadata": {},
     "output_type": "execute_result"
    }
   ],
   "source": [
    "merged[\"reviewYN\"].sum()"
   ]
  },
  {
   "cell_type": "code",
   "execution_count": 50,
   "id": "32ec146d",
   "metadata": {
    "execution": {
     "iopub.execute_input": "2023-08-12T20:03:33.420628Z",
     "iopub.status.busy": "2023-08-12T20:03:33.419889Z",
     "iopub.status.idle": "2023-08-12T20:03:33.427497Z",
     "shell.execute_reply": "2023-08-12T20:03:33.426311Z"
    },
    "papermill": {
     "duration": 0.115184,
     "end_time": "2023-08-12T20:03:33.430105",
     "exception": false,
     "start_time": "2023-08-12T20:03:33.314921",
     "status": "completed"
    },
    "tags": []
   },
   "outputs": [
    {
     "data": {
      "text/plain": [
       "0    11\n",
       "1    24\n",
       "2    22\n",
       "3    34\n",
       "4    20\n",
       "Name: reviewWC, dtype: int64"
      ]
     },
     "execution_count": 50,
     "metadata": {},
     "output_type": "execute_result"
    }
   ],
   "source": [
    "merged[\"reviewWC\"].head()"
   ]
  },
  {
   "cell_type": "code",
   "execution_count": 51,
   "id": "4f060f3a",
   "metadata": {
    "execution": {
     "iopub.execute_input": "2023-08-12T20:03:33.632647Z",
     "iopub.status.busy": "2023-08-12T20:03:33.632169Z",
     "iopub.status.idle": "2023-08-12T20:03:33.649201Z",
     "shell.execute_reply": "2023-08-12T20:03:33.648116Z"
    },
    "papermill": {
     "duration": 0.121778,
     "end_time": "2023-08-12T20:03:33.651661",
     "exception": false,
     "start_time": "2023-08-12T20:03:33.529883",
     "status": "completed"
    },
    "tags": []
   },
   "outputs": [
    {
     "data": {
      "text/plain": [
       "count    162758.000000\n",
       "mean         21.013707\n",
       "std          10.216532\n",
       "min           1.000000\n",
       "25%          14.000000\n",
       "50%          21.000000\n",
       "75%          28.000000\n",
       "max          54.000000\n",
       "Name: reviewWC, dtype: float64"
      ]
     },
     "execution_count": 51,
     "metadata": {},
     "output_type": "execute_result"
    }
   ],
   "source": [
    "merged[\"reviewWC\"].describe()"
   ]
  },
  {
   "cell_type": "code",
   "execution_count": 52,
   "id": "9fdf1caa",
   "metadata": {
    "execution": {
     "iopub.execute_input": "2023-08-12T20:03:33.856019Z",
     "iopub.status.busy": "2023-08-12T20:03:33.855240Z",
     "iopub.status.idle": "2023-08-12T20:03:34.553932Z",
     "shell.execute_reply": "2023-08-12T20:03:34.552642Z"
    },
    "papermill": {
     "duration": 0.803808,
     "end_time": "2023-08-12T20:03:34.556603",
     "exception": false,
     "start_time": "2023-08-12T20:03:33.752795",
     "status": "completed"
    },
    "tags": []
   },
   "outputs": [
    {
     "data": {
      "text/plain": [
       "<Axes: xlabel='reviewWC', ylabel='Count'>"
      ]
     },
     "execution_count": 52,
     "metadata": {},
     "output_type": "execute_result"
    },
    {
     "data": {
      "image/png": "[encoded data removed]",
      "text/plain": [
       "<Figure size 640x480 with 1 Axes>"
      ]
     },
     "metadata": {},
     "output_type": "display_data"
    }
   ],
   "source": [
    "sns.histplot(merged[\"reviewWC\"])"
   ]
  },
  {
   "cell_type": "code",
   "execution_count": 53,
   "id": "19fc5014",
   "metadata": {
    "execution": {
     "iopub.execute_input": "2023-08-12T20:03:34.760945Z",
     "iopub.status.busy": "2023-08-12T20:03:34.760448Z",
     "iopub.status.idle": "2023-08-12T20:03:34.792974Z",
     "shell.execute_reply": "2023-08-12T20:03:34.791770Z"
    },
    "papermill": {
     "duration": 0.137974,
     "end_time": "2023-08-12T20:03:34.795517",
     "exception": false,
     "start_time": "2023-08-12T20:03:34.657543",
     "status": "completed"
    },
    "tags": []
   },
   "outputs": [
    {
     "data": {
      "text/plain": [
       "R          60248\n",
       "unknown    44587\n",
       "PG-13      42697\n",
       "PG         13669\n",
       "TV14         947\n",
       "NC-17        285\n",
       "TVPG         281\n",
       "TVMA          44\n",
       "Name: rating, dtype: int64"
      ]
     },
     "execution_count": 53,
     "metadata": {},
     "output_type": "execute_result"
    }
   ],
   "source": [
    "merged['rating'].value_counts()"
   ]
  },
  {
   "cell_type": "code",
   "execution_count": 54,
   "id": "bdb6b768",
   "metadata": {
    "execution": {
     "iopub.execute_input": "2023-08-12T20:03:35.006247Z",
     "iopub.status.busy": "2023-08-12T20:03:35.005803Z",
     "iopub.status.idle": "2023-08-12T20:03:35.017992Z",
     "shell.execute_reply": "2023-08-12T20:03:35.016781Z"
    },
    "papermill": {
     "duration": 0.120306,
     "end_time": "2023-08-12T20:03:35.020412",
     "exception": false,
     "start_time": "2023-08-12T20:03:34.900106",
     "status": "completed"
    },
    "tags": []
   },
   "outputs": [
    {
     "data": {
      "text/plain": [
       "False    113189\n",
       "True      49569\n",
       "Name: isFrequentReviewer, dtype: int64"
      ]
     },
     "execution_count": 54,
     "metadata": {},
     "output_type": "execute_result"
    }
   ],
   "source": [
    "merged['isFrequentReviewer'].value_counts()"
   ]
  },
  {
   "cell_type": "code",
   "execution_count": 55,
   "id": "1945bb36",
   "metadata": {
    "execution": {
     "iopub.execute_input": "2023-08-12T20:03:35.226735Z",
     "iopub.status.busy": "2023-08-12T20:03:35.225538Z",
     "iopub.status.idle": "2023-08-12T20:03:35.233991Z",
     "shell.execute_reply": "2023-08-12T20:03:35.233155Z"
    },
    "papermill": {
     "duration": 0.114121,
     "end_time": "2023-08-12T20:03:35.236181",
     "exception": false,
     "start_time": "2023-08-12T20:03:35.122060",
     "status": "completed"
    },
    "tags": []
   },
   "outputs": [
    {
     "data": {
      "text/plain": [
       "0      Benjamin Henry\n",
       "1       Felicia Lopez\n",
       "2     Charles Burgess\n",
       "3        Ryan Barrett\n",
       "4    Alexander Glover\n",
       "Name: reviewerName, dtype: object"
      ]
     },
     "execution_count": 55,
     "metadata": {},
     "output_type": "execute_result"
    }
   ],
   "source": [
    "merged[\"reviewerName\"].head()"
   ]
  },
  {
   "cell_type": "code",
   "execution_count": 56,
   "id": "19b7f3a7",
   "metadata": {
    "execution": {
     "iopub.execute_input": "2023-08-12T20:03:35.443019Z",
     "iopub.status.busy": "2023-08-12T20:03:35.442321Z",
     "iopub.status.idle": "2023-08-12T20:03:35.456380Z",
     "shell.execute_reply": "2023-08-12T20:03:35.455369Z"
    },
    "papermill": {
     "duration": 0.120845,
     "end_time": "2023-08-12T20:03:35.458638",
     "exception": false,
     "start_time": "2023-08-12T20:03:35.337793",
     "status": "completed"
    },
    "tags": []
   },
   "outputs": [
    {
     "data": {
      "text/plain": [
       "14300000.0    32327\n",
       "2000000.0       922\n",
       "1100000.0       891\n",
       "1000000.0       834\n",
       "1200000.0       802\n",
       "              ...  \n",
       "58500.0           1\n",
       "500800.0          1\n",
       "265600.0          1\n",
       "292500.0          1\n",
       "799400.0          1\n",
       "Name: boxOffice, Length: 3819, dtype: int64"
      ]
     },
     "execution_count": 56,
     "metadata": {},
     "output_type": "execute_result"
    }
   ],
   "source": [
    "merged['boxOffice'].value_counts()"
   ]
  },
  {
   "cell_type": "code",
   "execution_count": 57,
   "id": "cefcfd65",
   "metadata": {
    "execution": {
     "iopub.execute_input": "2023-08-12T20:03:35.667677Z",
     "iopub.status.busy": "2023-08-12T20:03:35.666490Z",
     "iopub.status.idle": "2023-08-12T20:03:35.671994Z",
     "shell.execute_reply": "2023-08-12T20:03:35.670958Z"
    },
    "papermill": {
     "duration": 0.112252,
     "end_time": "2023-08-12T20:03:35.674541",
     "exception": false,
     "start_time": "2023-08-12T20:03:35.562289",
     "status": "completed"
    },
    "tags": []
   },
   "outputs": [],
   "source": [
    "# Check correlation between 'boxOffice' and ''sentiment'\n",
    "# bo_df = merged.copy()\n",
    "# print(bo_df[\"boxOffice\"])\n",
    "# bo_df[\"boxOffice\"] = bo_df[\"boxOffice\"].str[1:]\n",
    "# bo_df[\"boxOffice\"] = bo_df[\"boxOffice\"].replace(to_replace={\"M\": \"*1000000\", \"K\": \"*1000\"}, regex=True)\n",
    "# bo_df[\"boxOffice\"] = bo_df[\"boxOffice\"].loc[bo_df[\"boxOffice\"].notnull()].apply(lambda x: eval(str(x)))\n",
    "# bo_df[\"boxOffice\"] = bo_df[\"boxOffice\"].fillna(bo_df[\"boxOffice\"].median())\n",
    "# bo_df[\"boxOffice\"].describe()"
   ]
  },
  {
   "cell_type": "code",
   "execution_count": 58,
   "id": "425c8281",
   "metadata": {
    "execution": {
     "iopub.execute_input": "2023-08-12T20:03:35.882557Z",
     "iopub.status.busy": "2023-08-12T20:03:35.882111Z",
     "iopub.status.idle": "2023-08-12T20:03:35.887173Z",
     "shell.execute_reply": "2023-08-12T20:03:35.886018Z"
    },
    "papermill": {
     "duration": 0.113717,
     "end_time": "2023-08-12T20:03:35.889472",
     "exception": false,
     "start_time": "2023-08-12T20:03:35.775755",
     "status": "completed"
    },
    "tags": []
   },
   "outputs": [],
   "source": [
    "# median = bo_df[\"boxOffice\"].describe()['50%']\n",
    "# iqr = bo_df[\"boxOffice\"].describe()['75%'] - bo_df[\"boxOffice\"].describe()['25%']\n",
    "# median, iqr"
   ]
  },
  {
   "cell_type": "code",
   "execution_count": 59,
   "id": "f5945425",
   "metadata": {
    "execution": {
     "iopub.execute_input": "2023-08-12T20:03:36.095904Z",
     "iopub.status.busy": "2023-08-12T20:03:36.095122Z",
     "iopub.status.idle": "2023-08-12T20:03:36.099747Z",
     "shell.execute_reply": "2023-08-12T20:03:36.098477Z"
    },
    "papermill": {
     "duration": 0.112588,
     "end_time": "2023-08-12T20:03:36.102568",
     "exception": false,
     "start_time": "2023-08-12T20:03:35.989980",
     "status": "completed"
    },
    "tags": []
   },
   "outputs": [],
   "source": [
    "# ll = median - (1.5*iqr)\n",
    "# ul = median + (1.5*iqr)\n",
    "# ll, ul"
   ]
  },
  {
   "cell_type": "code",
   "execution_count": 60,
   "id": "cd8185b8",
   "metadata": {
    "execution": {
     "iopub.execute_input": "2023-08-12T20:03:36.309879Z",
     "iopub.status.busy": "2023-08-12T20:03:36.309341Z",
     "iopub.status.idle": "2023-08-12T20:03:36.314291Z",
     "shell.execute_reply": "2023-08-12T20:03:36.313091Z"
    },
    "papermill": {
     "duration": 0.109367,
     "end_time": "2023-08-12T20:03:36.316974",
     "exception": false,
     "start_time": "2023-08-12T20:03:36.207607",
     "status": "completed"
    },
    "tags": []
   },
   "outputs": [],
   "source": [
    "# bo_df[\"boxOffice\"].mean()"
   ]
  },
  {
   "cell_type": "code",
   "execution_count": 61,
   "id": "50fa6ce8",
   "metadata": {
    "execution": {
     "iopub.execute_input": "2023-08-12T20:03:36.525644Z",
     "iopub.status.busy": "2023-08-12T20:03:36.525037Z",
     "iopub.status.idle": "2023-08-12T20:03:36.530349Z",
     "shell.execute_reply": "2023-08-12T20:03:36.529108Z"
    },
    "papermill": {
     "duration": 0.112405,
     "end_time": "2023-08-12T20:03:36.533055",
     "exception": false,
     "start_time": "2023-08-12T20:03:36.420650",
     "status": "completed"
    },
    "tags": []
   },
   "outputs": [],
   "source": [
    "# bo_df.loc[bo_df[\"boxOffice\"] > ul, \"boxOffice\"] = median\n",
    "# bo_df[\"boxOffice\"].mean()"
   ]
  },
  {
   "cell_type": "code",
   "execution_count": 62,
   "id": "2f54cf20",
   "metadata": {
    "execution": {
     "iopub.execute_input": "2023-08-12T20:03:36.742861Z",
     "iopub.status.busy": "2023-08-12T20:03:36.742450Z",
     "iopub.status.idle": "2023-08-12T20:03:36.747418Z",
     "shell.execute_reply": "2023-08-12T20:03:36.746026Z"
    },
    "papermill": {
     "duration": 0.114496,
     "end_time": "2023-08-12T20:03:36.750991",
     "exception": false,
     "start_time": "2023-08-12T20:03:36.636495",
     "status": "completed"
    },
    "tags": []
   },
   "outputs": [],
   "source": [
    "# bo_df[\"boxOffice\"].min(), bo_df[\"boxOffice\"].max()"
   ]
  },
  {
   "cell_type": "code",
   "execution_count": 63,
   "id": "6efde4da",
   "metadata": {
    "execution": {
     "iopub.execute_input": "2023-08-12T20:03:36.957468Z",
     "iopub.status.busy": "2023-08-12T20:03:36.957072Z",
     "iopub.status.idle": "2023-08-12T20:03:36.961701Z",
     "shell.execute_reply": "2023-08-12T20:03:36.960461Z"
    },
    "papermill": {
     "duration": 0.109735,
     "end_time": "2023-08-12T20:03:36.964230",
     "exception": false,
     "start_time": "2023-08-12T20:03:36.854495",
     "status": "completed"
    },
    "tags": []
   },
   "outputs": [],
   "source": [
    "# sns.boxplot(x=\"sentiment\", y=\"boxOffice\", data=bo_df, showfliers = False)"
   ]
  },
  {
   "cell_type": "markdown",
   "id": "d9d48738",
   "metadata": {
    "papermill": {
     "duration": 0.102552,
     "end_time": "2023-08-12T20:03:37.166710",
     "exception": false,
     "start_time": "2023-08-12T20:03:37.064158",
     "status": "completed"
    },
    "tags": []
   },
   "source": [
    "## EDA  "
   ]
  },
  {
   "cell_type": "markdown",
   "id": "fdf47a37",
   "metadata": {
    "papermill": {
     "duration": 0.10102,
     "end_time": "2023-08-12T20:03:37.369394",
     "exception": false,
     "start_time": "2023-08-12T20:03:37.268374",
     "status": "completed"
    },
    "tags": []
   },
   "source": [
    "### An interesting finding through exploration  \n",
    "  \n",
    "* OHE and TfidfVectorizer on director column give the same result when ngram_range(2,2) is used (see code below)!"
   ]
  },
  {
   "cell_type": "code",
   "execution_count": 64,
   "id": "6444dbb4",
   "metadata": {
    "execution": {
     "iopub.execute_input": "2023-08-12T20:03:37.573603Z",
     "iopub.status.busy": "2023-08-12T20:03:37.573191Z",
     "iopub.status.idle": "2023-08-12T20:03:51.162754Z",
     "shell.execute_reply": "2023-08-12T20:03:51.161442Z"
    },
    "papermill": {
     "duration": 13.695524,
     "end_time": "2023-08-12T20:03:51.165621",
     "exception": false,
     "start_time": "2023-08-12T20:03:37.470097",
     "status": "completed"
    },
    "tags": []
   },
   "outputs": [
    {
     "name": "stdout",
     "output_type": "stream",
     "text": [
      "(162758,)\n",
      "9476\n",
      "(162758, 9476) <class 'numpy.ndarray'>\n",
      "(162758,)\n",
      "(162758, 9476) <class 'numpy.ndarray'>\n",
      "True\n"
     ]
    }
   ],
   "source": [
    "# Compare OHE and TfidfVectorizer on director column\n",
    "\n",
    "dirs = merged[\"director\"].copy()\n",
    "print(dirs.shape)\n",
    "dirs_uniq = merged[\"director\"].unique()\n",
    "print(len(dirs_uniq))\n",
    "\n",
    "du_ohe = OneHotEncoder(handle_unknown=\"ignore\", sparse_output=False).fit_transform(dirs.to_numpy().reshape(-1, 1))\n",
    "print(du_ohe.shape, type(du_ohe))\n",
    "\n",
    "dirs_2 = merged[\"director\"].copy()\n",
    "print(dirs_2.shape)\n",
    "du_tfidf = TfidfVectorizer(ngram_range=(2,2)).fit_transform(dirs_2).toarray()\n",
    "print(du_tfidf.shape, type(du_tfidf))\n",
    "\n",
    "print(np.array_equal(du_ohe, du_tfidf))"
   ]
  },
  {
   "cell_type": "code",
   "execution_count": 65,
   "id": "1c3f600c",
   "metadata": {
    "execution": {
     "iopub.execute_input": "2023-08-12T20:03:51.378355Z",
     "iopub.status.busy": "2023-08-12T20:03:51.377960Z",
     "iopub.status.idle": "2023-08-12T20:03:51.736000Z",
     "shell.execute_reply": "2023-08-12T20:03:51.734775Z"
    },
    "papermill": {
     "duration": 0.470991,
     "end_time": "2023-08-12T20:03:51.738584",
     "exception": false,
     "start_time": "2023-08-12T20:03:51.267593",
     "status": "completed"
    },
    "tags": []
   },
   "outputs": [
    {
     "name": "stdout",
     "output_type": "stream",
     "text": [
      "0       Bennie Basso\n",
      "1         Alma White\n",
      "2       Bobby Oleary\n",
      "3    Eric Hutcherson\n",
      "4         John Trent\n",
      "Name: director, dtype: object\n"
     ]
    },
    {
     "data": {
      "text/plain": [
       "2    162758\n",
       "Name: director, dtype: int64"
      ]
     },
     "execution_count": 65,
     "metadata": {},
     "output_type": "execute_result"
    }
   ],
   "source": [
    "print(dirs.head())\n",
    "d = dirs.copy()\n",
    "d[\"name_len\"] = d.apply(lambda x: len(x.split()))\n",
    "d[\"name_len\"].value_counts()"
   ]
  },
  {
   "cell_type": "code",
   "execution_count": 66,
   "id": "706ac9d9",
   "metadata": {
    "execution": {
     "iopub.execute_input": "2023-08-12T20:03:51.945675Z",
     "iopub.status.busy": "2023-08-12T20:03:51.944908Z",
     "iopub.status.idle": "2023-08-12T20:03:51.951179Z",
     "shell.execute_reply": "2023-08-12T20:03:51.950013Z"
    },
    "papermill": {
     "duration": 0.112458,
     "end_time": "2023-08-12T20:03:51.953806",
     "exception": false,
     "start_time": "2023-08-12T20:03:51.841348",
     "status": "completed"
    },
    "tags": []
   },
   "outputs": [],
   "source": [
    "# Compare OHE and TfidfVectorizer on reviewerName column\n",
    "# Note: reviewerName column has salutations like \"Mr. \" etc, and some names appear middle names. Therefore needs cleaning\n",
    "\n",
    "# def name_fl(name):\n",
    "#     l = name.split()\n",
    "#     n = ' '.join((l[0], l[-1]))\n",
    "#     return n\n",
    "\n",
    "# reviewers = merged[\"reviewerName\"].copy()\n",
    "# reviewers = pd.DataFrame(reviewers)\n",
    "# reviewers = reviewers.replace({\"Mr. \": \"\", \"Mrs. \": \"\"}, regex=True)\n",
    "# reviewers[\"reviewerName\"] = reviewers[\"reviewerName\"].apply(name_fl)\n",
    "# print(reviewers.shape)\n",
    "\n",
    "# reviewers_uniq = merged[\"reviewerName\"].unique()\n",
    "# print(len(reviewers_uniq))\n",
    "\n",
    "# reviewers_ohe = OneHotEncoder(handle_unknown=\"ignore\", sparse_output=False).fit_transform(reviewers.to_numpy().reshape(-1, 1))\n",
    "# print(reviewers_ohe.shape, type(reviewers_ohe))\n",
    "\n",
    "# reviewers_2 = merged[\"reviewerName\"].copy()\n",
    "# reviewers_2 = pd.DataFrame(reviewers_2)\n",
    "# print(reviewers_2.head())\n",
    "# reviewers_2 = reviewers_2.replace({\"Mr. \": \"\", \"Mrs. \": \"\"}, regex=True)\n",
    "# reviewers_2[\"reviewerName\"] = reviewers_2[\"reviewerName\"].apply(name_fl)\n",
    "# reviewers_2 = reviewers_2.squeeze()\n",
    "# print(reviewers_2.shape)\n",
    "# print(reviewers_2.head())\n",
    "\n",
    "# reviewers_tfidf = TfidfVectorizer(ngram_range=(2,2)).fit_transform(reviewers_2).toarray()\n",
    "# print(reviewers_tfidf.shape, type(reviewers_tfidf))\n",
    "\n",
    "# print(np.array_equal(reviewers_ohe, reviewers_tfidf))"
   ]
  },
  {
   "cell_type": "code",
   "execution_count": 67,
   "id": "6f28ce51",
   "metadata": {
    "execution": {
     "iopub.execute_input": "2023-08-12T20:03:52.158416Z",
     "iopub.status.busy": "2023-08-12T20:03:52.157959Z",
     "iopub.status.idle": "2023-08-12T20:03:52.163181Z",
     "shell.execute_reply": "2023-08-12T20:03:52.161969Z"
    },
    "papermill": {
     "duration": 0.111418,
     "end_time": "2023-08-12T20:03:52.165585",
     "exception": false,
     "start_time": "2023-08-12T20:03:52.054167",
     "status": "completed"
    },
    "tags": []
   },
   "outputs": [],
   "source": [
    "# def name_fl(name):\n",
    "#     l = name.split()\n",
    "#     n = ' '.join((l[0], l[-1]))\n",
    "#     return n"
   ]
  },
  {
   "cell_type": "code",
   "execution_count": 68,
   "id": "eb819ac1",
   "metadata": {
    "execution": {
     "iopub.execute_input": "2023-08-12T20:03:52.374587Z",
     "iopub.status.busy": "2023-08-12T20:03:52.374154Z",
     "iopub.status.idle": "2023-08-12T20:03:52.379483Z",
     "shell.execute_reply": "2023-08-12T20:03:52.378173Z"
    },
    "papermill": {
     "duration": 0.114577,
     "end_time": "2023-08-12T20:03:52.382150",
     "exception": false,
     "start_time": "2023-08-12T20:03:52.267573",
     "status": "completed"
    },
    "tags": []
   },
   "outputs": [],
   "source": [
    "# print(reviewers.head())\n",
    "# r = pd.DataFrame(reviewers.copy())\n",
    "# r[\"reviewerName\"] = r[\"reviewerName\"].apply(name_fl)\n",
    "# r[\"name_len\"] = r[\"reviewerName\"].apply(lambda x: len(x.split()))\n",
    "# print(r.shape)\n",
    "# print(r.head())\n",
    "# print(r['name_len'].value_counts())"
   ]
  },
  {
   "cell_type": "code",
   "execution_count": 69,
   "id": "dba17999",
   "metadata": {
    "execution": {
     "iopub.execute_input": "2023-08-12T20:03:52.588194Z",
     "iopub.status.busy": "2023-08-12T20:03:52.586922Z",
     "iopub.status.idle": "2023-08-12T20:03:52.592604Z",
     "shell.execute_reply": "2023-08-12T20:03:52.591529Z"
    },
    "papermill": {
     "duration": 0.110233,
     "end_time": "2023-08-12T20:03:52.594997",
     "exception": false,
     "start_time": "2023-08-12T20:03:52.484764",
     "status": "completed"
    },
    "tags": []
   },
   "outputs": [],
   "source": [
    "## Box plot audienceScore and sentiment  \n",
    "# plt.figure(figsize=(6, 4))\n",
    "# sns.boxplot(x=\"sentiment\", y=\"audienceScore\", data=merged, width=0.3)\n",
    "# plt.title(\"Box plot audienceScore and sentiment\")\n",
    "# plt.show()"
   ]
  },
  {
   "cell_type": "code",
   "execution_count": 70,
   "id": "4954414e",
   "metadata": {
    "execution": {
     "iopub.execute_input": "2023-08-12T20:03:52.799858Z",
     "iopub.status.busy": "2023-08-12T20:03:52.799096Z",
     "iopub.status.idle": "2023-08-12T20:03:52.803624Z",
     "shell.execute_reply": "2023-08-12T20:03:52.802851Z"
    },
    "papermill": {
     "duration": 0.109117,
     "end_time": "2023-08-12T20:03:52.806003",
     "exception": false,
     "start_time": "2023-08-12T20:03:52.696886",
     "status": "completed"
    },
    "tags": []
   },
   "outputs": [],
   "source": [
    "## Box plot runtimeMinutes and sentiment  \n",
    "# plt.figure(figsize=(6, 4))\n",
    "# sns.boxplot(x=\"sentiment\", y=\"runtimeMinutes\", data=merged, width=0.3)\n",
    "# plt.title(\"Box plot runtimeMinutes and sentiment\")\n",
    "# plt.show()"
   ]
  },
  {
   "cell_type": "code",
   "execution_count": 71,
   "id": "72df9578",
   "metadata": {
    "execution": {
     "iopub.execute_input": "2023-08-12T20:03:53.011011Z",
     "iopub.status.busy": "2023-08-12T20:03:53.010167Z",
     "iopub.status.idle": "2023-08-12T20:03:53.014872Z",
     "shell.execute_reply": "2023-08-12T20:03:53.013981Z"
    },
    "papermill": {
     "duration": 0.109582,
     "end_time": "2023-08-12T20:03:53.017303",
     "exception": false,
     "start_time": "2023-08-12T20:03:52.907721",
     "status": "completed"
    },
    "tags": []
   },
   "outputs": [],
   "source": [
    "## Column chart for sentiment and rating columns\n",
    "# plt.figure(figsize=(6, 4))\n",
    "# sns.countplot(x=\"sentiment\", hue=\"rating\", data=merged)\n",
    "# plt.title(\"Column chart for sentiment and rating columns\")\n",
    "# plt.show()"
   ]
  },
  {
   "cell_type": "code",
   "execution_count": 72,
   "id": "a02bffa4",
   "metadata": {
    "execution": {
     "iopub.execute_input": "2023-08-12T20:03:53.314323Z",
     "iopub.status.busy": "2023-08-12T20:03:53.313898Z",
     "iopub.status.idle": "2023-08-12T20:03:53.319240Z",
     "shell.execute_reply": "2023-08-12T20:03:53.317714Z"
    },
    "papermill": {
     "duration": 0.114359,
     "end_time": "2023-08-12T20:03:53.321738",
     "exception": false,
     "start_time": "2023-08-12T20:03:53.207379",
     "status": "completed"
    },
    "tags": []
   },
   "outputs": [],
   "source": [
    "# Correlation heatmap  \n",
    "# plt.figure(figsize=(10, 8))\n",
    "# sns.heatmap(merged.corr(), annot=True, cmap=\"coolwarm\")\n",
    "# plt.title(\"Correlation heatmap\")\n",
    "# plt.show()"
   ]
  },
  {
   "cell_type": "markdown",
   "id": "c1a46962",
   "metadata": {
    "papermill": {
     "duration": 0.102425,
     "end_time": "2023-08-12T20:03:53.526005",
     "exception": false,
     "start_time": "2023-08-12T20:03:53.423580",
     "status": "completed"
    },
    "tags": []
   },
   "source": [
    "## Merge and preprocess \"test.csv\" and \"movies.csv\" files  "
   ]
  },
  {
   "cell_type": "code",
   "execution_count": 73,
   "id": "99cd9a66",
   "metadata": {
    "execution": {
     "iopub.execute_input": "2023-08-12T20:03:53.729094Z",
     "iopub.status.busy": "2023-08-12T20:03:53.728587Z",
     "iopub.status.idle": "2023-08-12T20:03:59.844240Z",
     "shell.execute_reply": "2023-08-12T20:03:59.842907Z"
    },
    "papermill": {
     "duration": 6.220496,
     "end_time": "2023-08-12T20:03:59.847084",
     "exception": false,
     "start_time": "2023-08-12T20:03:53.626588",
     "status": "completed"
    },
    "tags": []
   },
   "outputs": [],
   "source": [
    "# Merge test and movies  \n",
    "merged_test = select_features(load_csv(\"test\"), load_csv(\"movies\"))"
   ]
  },
  {
   "cell_type": "code",
   "execution_count": 74,
   "id": "f10efcd0",
   "metadata": {
    "execution": {
     "iopub.execute_input": "2023-08-12T20:04:00.061557Z",
     "iopub.status.busy": "2023-08-12T20:04:00.061127Z",
     "iopub.status.idle": "2023-08-12T20:04:00.066351Z",
     "shell.execute_reply": "2023-08-12T20:04:00.065087Z"
    },
    "papermill": {
     "duration": 0.115367,
     "end_time": "2023-08-12T20:04:00.068920",
     "exception": false,
     "start_time": "2023-08-12T20:03:59.953553",
     "status": "completed"
    },
    "tags": []
   },
   "outputs": [],
   "source": [
    "# inspect(merged_test)      # Note the missing values in ['audienceScore', 'runtimeMinutes', 'boxOffice']"
   ]
  },
  {
   "cell_type": "code",
   "execution_count": 75,
   "id": "a22b3dc8",
   "metadata": {
    "execution": {
     "iopub.execute_input": "2023-08-12T20:04:00.279835Z",
     "iopub.status.busy": "2023-08-12T20:04:00.278521Z",
     "iopub.status.idle": "2023-08-12T20:04:00.298051Z",
     "shell.execute_reply": "2023-08-12T20:04:00.297076Z"
    },
    "papermill": {
     "duration": 0.129022,
     "end_time": "2023-08-12T20:04:00.300575",
     "exception": false,
     "start_time": "2023-08-12T20:04:00.171553",
     "status": "completed"
    },
    "tags": []
   },
   "outputs": [
    {
     "data": {
      "text/plain": [
       "array([6.80e+01, 1.04e+02, 1.43e+07])"
      ]
     },
     "execution_count": 75,
     "metadata": {},
     "output_type": "execute_result"
    }
   ],
   "source": [
    "# Transform ['audienceScore', 'runtimeMinutes', 'boxOffice'] columns in merged_test using 'si' fitted on 'merged' df  \n",
    "merged_test[['audienceScore', 'runtimeMinutes', 'boxOffice']] = si.transform(merged_test[['audienceScore', 'runtimeMinutes', 'boxOffice']])\n",
    "si.statistics_"
   ]
  },
  {
   "cell_type": "code",
   "execution_count": 76,
   "id": "7b6a5292",
   "metadata": {
    "execution": {
     "iopub.execute_input": "2023-08-12T20:04:00.511548Z",
     "iopub.status.busy": "2023-08-12T20:04:00.511090Z",
     "iopub.status.idle": "2023-08-12T20:04:00.522513Z",
     "shell.execute_reply": "2023-08-12T20:04:00.521123Z"
    },
    "papermill": {
     "duration": 0.121961,
     "end_time": "2023-08-12T20:04:00.525337",
     "exception": false,
     "start_time": "2023-08-12T20:04:00.403376",
     "status": "completed"
    },
    "tags": []
   },
   "outputs": [],
   "source": [
    "# Fill 'releaseDate' column in 'merged_test' df with median from the train (merged) df  \n",
    "merged_test['releaseDate'] = merged_test[\"releaseDate\"].fillna(merged[\"releaseDate\"].median())"
   ]
  },
  {
   "cell_type": "code",
   "execution_count": 77,
   "id": "8037bfb6",
   "metadata": {
    "execution": {
     "iopub.execute_input": "2023-08-12T20:04:00.735969Z",
     "iopub.status.busy": "2023-08-12T20:04:00.734663Z",
     "iopub.status.idle": "2023-08-12T20:04:01.238089Z",
     "shell.execute_reply": "2023-08-12T20:04:01.236761Z"
    },
    "papermill": {
     "duration": 0.611776,
     "end_time": "2023-08-12T20:04:01.241056",
     "exception": false,
     "start_time": "2023-08-12T20:04:00.629280",
     "status": "completed"
    },
    "tags": []
   },
   "outputs": [
    {
     "name": "stdout",
     "output_type": "stream",
     "text": [
      "Shape of the dataframe: (55315, 25)\n",
      "\n",
      "Columns in the dataframe:\n",
      "Index(['movieid', 'reviewerName', 'isFrequentReviewer', 'reviewText', 'title',\n",
      "       'audienceScore', 'rating', 'ratingContents', 'releaseDateTheaters',\n",
      "       'releaseDateStreaming', 'runtimeMinutes', 'genre', 'originalLanguage',\n",
      "       'director', 'boxOffice', 'distributor', 'soundType', 'reviewYN',\n",
      "       'reviewWC', 'genreSorted', 'rcSorted', 'releaseDate', 'releaseYear',\n",
      "       'releaseMonth', 'releaseDiff'],\n",
      "      dtype='object')\n",
      "\n",
      "<class 'pandas.core.frame.DataFrame'>\n",
      "Int64Index: 55315 entries, 0 to 55314\n",
      "Data columns (total 25 columns):\n",
      " #   Column                Non-Null Count  Dtype         \n",
      "---  ------                --------------  -----         \n",
      " 0   movieid               55315 non-null  object        \n",
      " 1   reviewerName          55315 non-null  object        \n",
      " 2   isFrequentReviewer    55315 non-null  bool          \n",
      " 3   reviewText            55315 non-null  object        \n",
      " 4   title                 55315 non-null  object        \n",
      " 5   audienceScore         55315 non-null  float64       \n",
      " 6   rating                55315 non-null  object        \n",
      " 7   ratingContents        55315 non-null  object        \n",
      " 8   releaseDateTheaters   47844 non-null  datetime64[ns]\n",
      " 9   releaseDateStreaming  52929 non-null  datetime64[ns]\n",
      " 10  runtimeMinutes        55315 non-null  float64       \n",
      " 11  genre                 55315 non-null  object        \n",
      " 12  originalLanguage      55315 non-null  object        \n",
      " 13  director              55315 non-null  object        \n",
      " 14  boxOffice             55315 non-null  float64       \n",
      " 15  distributor           55315 non-null  object        \n",
      " 16  soundType             29845 non-null  object        \n",
      " 17  reviewYN              55315 non-null  int64         \n",
      " 18  reviewWC              55315 non-null  int64         \n",
      " 19  genreSorted           55315 non-null  object        \n",
      " 20  rcSorted              55315 non-null  object        \n",
      " 21  releaseDate           55315 non-null  datetime64[ns]\n",
      " 22  releaseYear           46626 non-null  float64       \n",
      " 23  releaseMonth          46626 non-null  float64       \n",
      " 24  releaseDiff           55315 non-null  float64       \n",
      "dtypes: bool(1), datetime64[ns](3), float64(6), int64(2), object(13)\n",
      "memory usage: 10.6+ MB\n",
      "None\n",
      "\n",
      "Missing values:\n",
      "movieid                     0\n",
      "reviewerName                0\n",
      "isFrequentReviewer          0\n",
      "reviewText                  0\n",
      "title                       0\n",
      "audienceScore               0\n",
      "rating                      0\n",
      "ratingContents              0\n",
      "releaseDateTheaters      7471\n",
      "releaseDateStreaming     2386\n",
      "runtimeMinutes              0\n",
      "genre                       0\n",
      "originalLanguage            0\n",
      "director                    0\n",
      "boxOffice                   0\n",
      "distributor                 0\n",
      "soundType               25470\n",
      "reviewYN                    0\n",
      "reviewWC                    0\n",
      "genreSorted                 0\n",
      "rcSorted                    0\n",
      "releaseDate                 0\n",
      "releaseYear              8689\n",
      "releaseMonth             8689\n",
      "releaseDiff                 0\n",
      "dtype: int64\n"
     ]
    }
   ],
   "source": [
    "# After transforming merged_test  \n",
    "inspect(merged_test)"
   ]
  },
  {
   "cell_type": "code",
   "execution_count": 78,
   "id": "7e9c16f2",
   "metadata": {
    "execution": {
     "iopub.execute_input": "2023-08-12T20:04:01.452910Z",
     "iopub.status.busy": "2023-08-12T20:04:01.452396Z",
     "iopub.status.idle": "2023-08-12T20:04:01.460150Z",
     "shell.execute_reply": "2023-08-12T20:04:01.458944Z"
    },
    "papermill": {
     "duration": 0.118715,
     "end_time": "2023-08-12T20:04:01.462370",
     "exception": false,
     "start_time": "2023-08-12T20:04:01.343655",
     "status": "completed"
    },
    "tags": []
   },
   "outputs": [
    {
     "name": "stdout",
     "output_type": "stream",
     "text": [
      "2510\n",
      "4.537648015908886\n"
     ]
    }
   ],
   "source": [
    "print(merged_test[\"reviewYN\"].sum())\n",
    "print(merged_test[\"reviewYN\"].sum() * 100 / merged_test.shape[0])"
   ]
  },
  {
   "cell_type": "code",
   "execution_count": 79,
   "id": "3f50da0e",
   "metadata": {
    "execution": {
     "iopub.execute_input": "2023-08-12T20:04:01.672824Z",
     "iopub.status.busy": "2023-08-12T20:04:01.672386Z",
     "iopub.status.idle": "2023-08-12T20:04:01.690174Z",
     "shell.execute_reply": "2023-08-12T20:04:01.689013Z"
    },
    "papermill": {
     "duration": 0.12322,
     "end_time": "2023-08-12T20:04:01.692587",
     "exception": false,
     "start_time": "2023-08-12T20:04:01.569367",
     "status": "completed"
    },
    "tags": []
   },
   "outputs": [
    {
     "data": {
      "text/plain": [
       "R          18934\n",
       "unknown    18386\n",
       "PG-13      13220\n",
       "PG          4200\n",
       "TV14         333\n",
       "TVPG         109\n",
       "NC-17        108\n",
       "TVMA          25\n",
       "Name: rating, dtype: int64"
      ]
     },
     "execution_count": 79,
     "metadata": {},
     "output_type": "execute_result"
    }
   ],
   "source": [
    "merged_test['rating'].value_counts()"
   ]
  },
  {
   "cell_type": "code",
   "execution_count": 80,
   "id": "9e2dfa6d",
   "metadata": {
    "execution": {
     "iopub.execute_input": "2023-08-12T20:04:01.899465Z",
     "iopub.status.busy": "2023-08-12T20:04:01.899020Z",
     "iopub.status.idle": "2023-08-12T20:04:01.909237Z",
     "shell.execute_reply": "2023-08-12T20:04:01.907729Z"
    },
    "papermill": {
     "duration": 0.117254,
     "end_time": "2023-08-12T20:04:01.911758",
     "exception": false,
     "start_time": "2023-08-12T20:04:01.794504",
     "status": "completed"
    },
    "tags": []
   },
   "outputs": [
    {
     "data": {
      "text/plain": [
       "False    38428\n",
       "True     16887\n",
       "Name: isFrequentReviewer, dtype: int64"
      ]
     },
     "execution_count": 80,
     "metadata": {},
     "output_type": "execute_result"
    }
   ],
   "source": [
    "merged_test['isFrequentReviewer'].value_counts()"
   ]
  },
  {
   "cell_type": "code",
   "execution_count": 81,
   "id": "44429c75",
   "metadata": {
    "execution": {
     "iopub.execute_input": "2023-08-12T20:04:02.123118Z",
     "iopub.status.busy": "2023-08-12T20:04:02.122687Z",
     "iopub.status.idle": "2023-08-12T20:04:02.134799Z",
     "shell.execute_reply": "2023-08-12T20:04:02.133516Z"
    },
    "papermill": {
     "duration": 0.121093,
     "end_time": "2023-08-12T20:04:02.137492",
     "exception": false,
     "start_time": "2023-08-12T20:04:02.016399",
     "status": "completed"
    },
    "tags": []
   },
   "outputs": [
    {
     "data": {
      "text/plain": [
       "14300000.0    13593\n",
       "1100000.0       311\n",
       "1000000.0       272\n",
       "1300000.0       263\n",
       "2000000.0       256\n",
       "              ...  \n",
       "200400.0          1\n",
       "23800000.0        1\n",
       "111200.0          1\n",
       "277800.0          1\n",
       "100600.0          1\n",
       "Name: boxOffice, Length: 3816, dtype: int64"
      ]
     },
     "execution_count": 81,
     "metadata": {},
     "output_type": "execute_result"
    }
   ],
   "source": [
    "merged_test['boxOffice'].value_counts()"
   ]
  },
  {
   "cell_type": "markdown",
   "id": "08a59314",
   "metadata": {
    "papermill": {
     "duration": 0.101399,
     "end_time": "2023-08-12T20:04:02.340595",
     "exception": false,
     "start_time": "2023-08-12T20:04:02.239196",
     "status": "completed"
    },
    "tags": []
   },
   "source": [
    "## Work on vocabulary  \n",
    "\n",
    "`Build vocabulary from 'reviewText' column`  "
   ]
  },
  {
   "cell_type": "code",
   "execution_count": 82,
   "id": "dce9d312",
   "metadata": {
    "execution": {
     "iopub.execute_input": "2023-08-12T20:04:02.554075Z",
     "iopub.status.busy": "2023-08-12T20:04:02.553607Z",
     "iopub.status.idle": "2023-08-12T20:04:02.575571Z",
     "shell.execute_reply": "2023-08-12T20:04:02.574286Z"
    },
    "papermill": {
     "duration": 0.133273,
     "end_time": "2023-08-12T20:04:02.578440",
     "exception": false,
     "start_time": "2023-08-12T20:04:02.445167",
     "status": "completed"
    },
    "tags": []
   },
   "outputs": [
    {
     "data": {
      "text/plain": [
       "((162758, 2),\n",
       "                                           reviewText sentiment\n",
       " 0  Henry Selick’s first movie since ’s Coraline. ...  POSITIVE\n",
       " 1  With a cast that reads like the Vogue Oscar pa...  NEGATIVE\n",
       " 2  Creed II does not give us anything but another...  POSITIVE\n",
       " 3  I know what you're thinking, but this is no Li...  POSITIVE\n",
       " 4  Director Fernando Meirelles tells the story wi...  POSITIVE)"
      ]
     },
     "execution_count": 82,
     "metadata": {},
     "output_type": "execute_result"
    }
   ],
   "source": [
    "rt_senti = merged[[\"reviewText\", \"sentiment\"]].copy()\n",
    "rt_senti.shape, rt_senti.head()"
   ]
  },
  {
   "cell_type": "code",
   "execution_count": 83,
   "id": "6e60824f",
   "metadata": {
    "execution": {
     "iopub.execute_input": "2023-08-12T20:04:02.786818Z",
     "iopub.status.busy": "2023-08-12T20:04:02.786391Z",
     "iopub.status.idle": "2023-08-12T20:04:02.798809Z",
     "shell.execute_reply": "2023-08-12T20:04:02.797665Z"
    },
    "papermill": {
     "duration": 0.119955,
     "end_time": "2023-08-12T20:04:02.801327",
     "exception": false,
     "start_time": "2023-08-12T20:04:02.681372",
     "status": "completed"
    },
    "tags": []
   },
   "outputs": [
    {
     "data": {
      "text/plain": [
       "((55315, 1),\n",
       "                                           reviewText\n",
       " 0  Green slowly cranks up the dread with style an...\n",
       " 1  Philip Noyce's direction is elegant and unforc...\n",
       " 2  It wouldn't do to say what path Maria ultimate...\n",
       " 3  Pig is not exactly the arthouse John Wick that...\n",
       " 4  An imaginative no-budget musical of sorts abou...)"
      ]
     },
     "execution_count": 83,
     "metadata": {},
     "output_type": "execute_result"
    }
   ],
   "source": [
    "rt_test = pd.DataFrame(merged_test[\"reviewText\"].copy())\n",
    "rt_test.shape, rt_test.head()"
   ]
  },
  {
   "cell_type": "code",
   "execution_count": 84,
   "id": "df3ac232",
   "metadata": {
    "execution": {
     "iopub.execute_input": "2023-08-12T20:04:03.008545Z",
     "iopub.status.busy": "2023-08-12T20:04:03.008106Z",
     "iopub.status.idle": "2023-08-12T20:04:03.014700Z",
     "shell.execute_reply": "2023-08-12T20:04:03.013608Z"
    },
    "papermill": {
     "duration": 0.1116,
     "end_time": "2023-08-12T20:04:03.017016",
     "exception": false,
     "start_time": "2023-08-12T20:04:02.905416",
     "status": "completed"
    },
    "tags": []
   },
   "outputs": [],
   "source": [
    "def get_vocab(text_df, ngram_range=(1,1)):\n",
    "    print(f\"Generating vocabulary for ngram_range: {ngram_range}...\")\n",
    "    tvec1 = CountVectorizer(ngram_range=ngram_range, stop_words='english', strip_accents='unicode')\n",
    "    tvec1.fit(text_df)\n",
    "    voc_ngram = set(tvec1.vocabulary_.keys())\n",
    "    return voc_ngram"
   ]
  },
  {
   "cell_type": "code",
   "execution_count": 85,
   "id": "23b9fa31",
   "metadata": {
    "execution": {
     "iopub.execute_input": "2023-08-12T20:04:03.253182Z",
     "iopub.status.busy": "2023-08-12T20:04:03.252787Z",
     "iopub.status.idle": "2023-08-12T20:04:03.262722Z",
     "shell.execute_reply": "2023-08-12T20:04:03.261803Z"
    },
    "papermill": {
     "duration": 0.14109,
     "end_time": "2023-08-12T20:04:03.264943",
     "exception": false,
     "start_time": "2023-08-12T20:04:03.123853",
     "status": "completed"
    },
    "tags": []
   },
   "outputs": [],
   "source": [
    "def get_common_vocab(df_list: list, ngram_range_list: list):\n",
    "    \"\"\"\n",
    "    Get common vocabulary from a list of dataframes.\n",
    "    \"\"\"\n",
    "    final_common_vocab = set()\n",
    "    # Get vocabulary from each dataframe for a given ngram-range\n",
    "    for ngram_range in ngram_range_list:\n",
    "        vocab_ngram = set()\n",
    "        for num, df in enumerate(df_list, start=1):\n",
    "            print(f\"Working on DF#{num} in the list of DFs provided\")\n",
    "            vocab_ngram_df = set(get_vocab(df['reviewText'], ngram_range))\n",
    "            print(f\"Vocabulary size for ngram-range {ngram_range} in DF#{num}: {len(vocab_ngram_df)}\\n\")\n",
    "            if len(vocab_ngram) > 0:\n",
    "                print(f\"Keeping only the common (intersection) words for ngram-range {ngram_range}...\")\n",
    "                vocab_ngram = vocab_ngram.intersection(vocab_ngram_df)\n",
    "            else:\n",
    "                print(f\"Words from the first df for ngram-range {ngram_range} added.\\n\")\n",
    "                vocab_ngram = vocab_ngram_df\n",
    "        print(f\"Common vocabulary for ngram-range {ngram_range}: {len(vocab_ngram)}\\n\")\n",
    "        \n",
    "        if len(final_common_vocab) > 0:\n",
    "            print(f\"Fusing (union) with final common vocabulary: ngram-range = {ngram_range}.\\n\")\n",
    "            final_common_vocab = final_common_vocab.union(vocab_ngram)\n",
    "        else:\n",
    "            print(f\"Appended first time to final common vocabulary: ngram-range = {ngram_range}.\\n\")\n",
    "            final_common_vocab = vocab_ngram\n",
    "    return final_common_vocab"
   ]
  },
  {
   "cell_type": "code",
   "execution_count": 86,
   "id": "848ec128",
   "metadata": {
    "execution": {
     "iopub.execute_input": "2023-08-12T20:04:03.472431Z",
     "iopub.status.busy": "2023-08-12T20:04:03.472035Z",
     "iopub.status.idle": "2023-08-12T20:04:03.477499Z",
     "shell.execute_reply": "2023-08-12T20:04:03.475898Z"
    },
    "papermill": {
     "duration": 0.11235,
     "end_time": "2023-08-12T20:04:03.480268",
     "exception": false,
     "start_time": "2023-08-12T20:04:03.367918",
     "status": "completed"
    },
    "tags": []
   },
   "outputs": [],
   "source": [
    "# voc_1gram = get_vocab(rt_senti[\"reviewText\"], ngram_range=(1,1))\n",
    "# len(voc_1gram), voc_1gram[:10]"
   ]
  },
  {
   "cell_type": "code",
   "execution_count": 87,
   "id": "29ea81d9",
   "metadata": {
    "execution": {
     "iopub.execute_input": "2023-08-12T20:04:03.689831Z",
     "iopub.status.busy": "2023-08-12T20:04:03.689390Z",
     "iopub.status.idle": "2023-08-12T20:04:03.693732Z",
     "shell.execute_reply": "2023-08-12T20:04:03.692797Z"
    },
    "papermill": {
     "duration": 0.113266,
     "end_time": "2023-08-12T20:04:03.696337",
     "exception": false,
     "start_time": "2023-08-12T20:04:03.583071",
     "status": "completed"
    },
    "tags": []
   },
   "outputs": [],
   "source": [
    "# voc_2gram = get_vocab(rt_senti[\"reviewText\"], ngram_range=(2,2))\n",
    "# len(voc_2gram), voc_2gram[:10]"
   ]
  },
  {
   "cell_type": "code",
   "execution_count": 88,
   "id": "bb60f5b8",
   "metadata": {
    "execution": {
     "iopub.execute_input": "2023-08-12T20:04:03.910274Z",
     "iopub.status.busy": "2023-08-12T20:04:03.909882Z",
     "iopub.status.idle": "2023-08-12T20:04:03.914619Z",
     "shell.execute_reply": "2023-08-12T20:04:03.913526Z"
    },
    "papermill": {
     "duration": 0.11446,
     "end_time": "2023-08-12T20:04:03.917064",
     "exception": false,
     "start_time": "2023-08-12T20:04:03.802604",
     "status": "completed"
    },
    "tags": []
   },
   "outputs": [],
   "source": [
    "# voc_3gram = get_vocab(rt_senti[\"reviewText\"], ngram_range=(3,3))\n",
    "# len(voc_3gram), voc_3gram[:10]"
   ]
  },
  {
   "cell_type": "code",
   "execution_count": 89,
   "id": "255bea90",
   "metadata": {
    "execution": {
     "iopub.execute_input": "2023-08-12T20:04:04.124791Z",
     "iopub.status.busy": "2023-08-12T20:04:04.124347Z",
     "iopub.status.idle": "2023-08-12T20:04:04.129315Z",
     "shell.execute_reply": "2023-08-12T20:04:04.128218Z"
    },
    "papermill": {
     "duration": 0.112662,
     "end_time": "2023-08-12T20:04:04.131913",
     "exception": false,
     "start_time": "2023-08-12T20:04:04.019251",
     "status": "completed"
    },
    "tags": []
   },
   "outputs": [],
   "source": [
    "# common_unigrams = get_common_vocab([rt_senti, rt_test], ngram_range_list=[(1,1)])\n",
    "# print(len(common_unigrams))\n",
    "# # sorted(list(common_unigrams))"
   ]
  },
  {
   "cell_type": "code",
   "execution_count": 90,
   "id": "04404498",
   "metadata": {
    "execution": {
     "iopub.execute_input": "2023-08-12T20:04:04.407704Z",
     "iopub.status.busy": "2023-08-12T20:04:04.406633Z",
     "iopub.status.idle": "2023-08-12T20:04:04.411721Z",
     "shell.execute_reply": "2023-08-12T20:04:04.410548Z"
    },
    "papermill": {
     "duration": 0.112065,
     "end_time": "2023-08-12T20:04:04.414276",
     "exception": false,
     "start_time": "2023-08-12T20:04:04.302211",
     "status": "completed"
    },
    "tags": []
   },
   "outputs": [],
   "source": [
    "# common_bigrams = get_common_vocab([rt_senti, rt_test], ngram_range_list=[(2,2)])\n",
    "# print(len(common_bigrams))\n",
    "# # # common_bigrams"
   ]
  },
  {
   "cell_type": "code",
   "execution_count": 91,
   "id": "3cc355be",
   "metadata": {
    "execution": {
     "iopub.execute_input": "2023-08-12T20:04:04.623126Z",
     "iopub.status.busy": "2023-08-12T20:04:04.622580Z",
     "iopub.status.idle": "2023-08-12T20:04:04.627146Z",
     "shell.execute_reply": "2023-08-12T20:04:04.626196Z"
    },
    "papermill": {
     "duration": 0.110995,
     "end_time": "2023-08-12T20:04:04.629400",
     "exception": false,
     "start_time": "2023-08-12T20:04:04.518405",
     "status": "completed"
    },
    "tags": []
   },
   "outputs": [],
   "source": [
    "# common_1_2_grams = get_common_vocab([rt_senti, rt_test], ngram_range_list=[(1,1), (2,2)])\n",
    "# print(len(common_1_2_grams))\n",
    "# # sorted(list(common_1_2_grams))\n",
    "\n",
    "# # common_1_2_grams = common_unigrams | common_bigrams    # older code"
   ]
  },
  {
   "cell_type": "code",
   "execution_count": 92,
   "id": "c8974d65",
   "metadata": {
    "execution": {
     "iopub.execute_input": "2023-08-12T20:04:04.839545Z",
     "iopub.status.busy": "2023-08-12T20:04:04.839132Z",
     "iopub.status.idle": "2023-08-12T20:04:04.843748Z",
     "shell.execute_reply": "2023-08-12T20:04:04.842481Z"
    },
    "papermill": {
     "duration": 0.114199,
     "end_time": "2023-08-12T20:04:04.846250",
     "exception": false,
     "start_time": "2023-08-12T20:04:04.732051",
     "status": "completed"
    },
    "tags": []
   },
   "outputs": [],
   "source": [
    "# common_trigrams = get_common_vocab([rt_senti, rt_test], ngram_range_list=[(3,3)])\n",
    "# print(len(common_trigrams))\n",
    "# # common_trigrams"
   ]
  },
  {
   "cell_type": "code",
   "execution_count": 93,
   "id": "8952a8e2",
   "metadata": {
    "execution": {
     "iopub.execute_input": "2023-08-12T20:04:05.056226Z",
     "iopub.status.busy": "2023-08-12T20:04:05.055138Z",
     "iopub.status.idle": "2023-08-12T20:04:05.060543Z",
     "shell.execute_reply": "2023-08-12T20:04:05.059633Z"
    },
    "papermill": {
     "duration": 0.112085,
     "end_time": "2023-08-12T20:04:05.062946",
     "exception": false,
     "start_time": "2023-08-12T20:04:04.950861",
     "status": "completed"
    },
    "tags": []
   },
   "outputs": [],
   "source": [
    "# common_1_2_3_grams = get_common_vocab([rt_senti, rt_test], ngram_range_list=[(1,1), (2,2), (3,3)])\n",
    "# print(len(common_1_2_3_grams))\n",
    "# # sorted((common_1_2_3_grams))\n",
    "\n",
    "# # common_1_2_3_grams = common_unigrams | common_bigrams | common_trigrams    # Older code  "
   ]
  },
  {
   "cell_type": "markdown",
   "id": "46c57fbe",
   "metadata": {
    "papermill": {
     "duration": 0.102283,
     "end_time": "2023-08-12T20:04:05.268683",
     "exception": false,
     "start_time": "2023-08-12T20:04:05.166400",
     "status": "completed"
    },
    "tags": []
   },
   "source": [
    "### Find common vocabulary between text with positive and negative sentiments in training dataset  "
   ]
  },
  {
   "cell_type": "code",
   "execution_count": 94,
   "id": "78a35996",
   "metadata": {
    "execution": {
     "iopub.execute_input": "2023-08-12T20:04:05.480255Z",
     "iopub.status.busy": "2023-08-12T20:04:05.479417Z",
     "iopub.status.idle": "2023-08-12T20:04:05.529582Z",
     "shell.execute_reply": "2023-08-12T20:04:05.528295Z"
    },
    "papermill": {
     "duration": 0.158378,
     "end_time": "2023-08-12T20:04:05.532251",
     "exception": false,
     "start_time": "2023-08-12T20:04:05.373873",
     "status": "completed"
    },
    "tags": []
   },
   "outputs": [
    {
     "data": {
      "text/plain": [
       "(108761, 2)"
      ]
     },
     "execution_count": 94,
     "metadata": {},
     "output_type": "execute_result"
    }
   ],
   "source": [
    "# Dataframe for positive sentiment\n",
    "rt_senti_pos = rt_senti.loc[rt_senti['sentiment'] == 'POSITIVE'].copy()\n",
    "rt_senti_pos.shape"
   ]
  },
  {
   "cell_type": "code",
   "execution_count": 95,
   "id": "f7fdd494",
   "metadata": {
    "execution": {
     "iopub.execute_input": "2023-08-12T20:04:05.741391Z",
     "iopub.status.busy": "2023-08-12T20:04:05.740960Z",
     "iopub.status.idle": "2023-08-12T20:04:05.784748Z",
     "shell.execute_reply": "2023-08-12T20:04:05.783386Z"
    },
    "papermill": {
     "duration": 0.152556,
     "end_time": "2023-08-12T20:04:05.787367",
     "exception": false,
     "start_time": "2023-08-12T20:04:05.634811",
     "status": "completed"
    },
    "tags": []
   },
   "outputs": [
    {
     "data": {
      "text/plain": [
       "(53997, 2)"
      ]
     },
     "execution_count": 95,
     "metadata": {},
     "output_type": "execute_result"
    }
   ],
   "source": [
    "# Dataframe for negative sentiment\n",
    "rt_senti_neg = rt_senti.loc[rt_senti['sentiment'] == 'NEGATIVE'].copy()\n",
    "rt_senti_neg.shape"
   ]
  },
  {
   "cell_type": "code",
   "execution_count": 96,
   "id": "618d1b78",
   "metadata": {
    "execution": {
     "iopub.execute_input": "2023-08-12T20:04:06.004993Z",
     "iopub.status.busy": "2023-08-12T20:04:06.004485Z",
     "iopub.status.idle": "2023-08-12T20:04:06.010744Z",
     "shell.execute_reply": "2023-08-12T20:04:06.009433Z"
    },
    "papermill": {
     "duration": 0.116468,
     "end_time": "2023-08-12T20:04:06.013586",
     "exception": false,
     "start_time": "2023-08-12T20:04:05.897118",
     "status": "completed"
    },
    "tags": []
   },
   "outputs": [],
   "source": [
    "# Generate stop words/phrases specific for this project data  \n",
    "\n",
    "# common_1_2_3_grams_sentiment = get_common_vocab([rt_senti_pos, rt_senti_neg], ngram_range_list=[(1,1), (2,2), (3,3)])\n",
    "# print(len(common_1_2_3_grams_sentiment))\n",
    "# # sorted(list(common_1_2_3_grams_sentiment))"
   ]
  },
  {
   "cell_type": "code",
   "execution_count": 97,
   "id": "0799e7c8",
   "metadata": {
    "execution": {
     "iopub.execute_input": "2023-08-12T20:04:06.234527Z",
     "iopub.status.busy": "2023-08-12T20:04:06.233629Z",
     "iopub.status.idle": "2023-08-12T20:04:06.239042Z",
     "shell.execute_reply": "2023-08-12T20:04:06.237917Z"
    },
    "papermill": {
     "duration": 0.123536,
     "end_time": "2023-08-12T20:04:06.241734",
     "exception": false,
     "start_time": "2023-08-12T20:04:06.118198",
     "status": "completed"
    },
    "tags": []
   },
   "outputs": [],
   "source": [
    "# Generate and store the entire vocabulary of training data  \n",
    "\n",
    "# train_1_2_3_grams = get_vocab(rt_senti['reviewText'], ngram_range=(1,3))\n",
    "# print(len(train_1_2_3_grams))\n",
    "# # sorted(train_1_2_3_grams)"
   ]
  },
  {
   "cell_type": "code",
   "execution_count": 98,
   "id": "28724ea0",
   "metadata": {
    "execution": {
     "iopub.execute_input": "2023-08-12T20:04:06.456777Z",
     "iopub.status.busy": "2023-08-12T20:04:06.455929Z",
     "iopub.status.idle": "2023-08-12T20:04:06.461046Z",
     "shell.execute_reply": "2023-08-12T20:04:06.460034Z"
    },
    "papermill": {
     "duration": 0.114881,
     "end_time": "2023-08-12T20:04:06.463672",
     "exception": false,
     "start_time": "2023-08-12T20:04:06.348791",
     "status": "completed"
    },
    "tags": []
   },
   "outputs": [],
   "source": [
    "# type(train_1_2_3_grams)"
   ]
  },
  {
   "cell_type": "code",
   "execution_count": 99,
   "id": "0b5b7202",
   "metadata": {
    "execution": {
     "iopub.execute_input": "2023-08-12T20:04:06.678374Z",
     "iopub.status.busy": "2023-08-12T20:04:06.677320Z",
     "iopub.status.idle": "2023-08-12T20:04:06.682531Z",
     "shell.execute_reply": "2023-08-12T20:04:06.681759Z"
    },
    "papermill": {
     "duration": 0.112809,
     "end_time": "2023-08-12T20:04:06.684792",
     "exception": false,
     "start_time": "2023-08-12T20:04:06.571983",
     "status": "completed"
    },
    "tags": []
   },
   "outputs": [],
   "source": [
    "# Get the vocabulary that should be used in the final models  \n",
    "# relevant_vocab = train_1_2_3_grams - common_1_2_3_grams_sentiment\n",
    "# print(len(relevant_vocab))"
   ]
  },
  {
   "cell_type": "markdown",
   "id": "3670da67",
   "metadata": {
    "papermill": {
     "duration": 0.103435,
     "end_time": "2023-08-12T20:04:06.892026",
     "exception": false,
     "start_time": "2023-08-12T20:04:06.788591",
     "status": "completed"
    },
    "tags": []
   },
   "source": [
    "## Submit_v4 for merged file models  "
   ]
  },
  {
   "cell_type": "markdown",
   "id": "1a85dc50",
   "metadata": {
    "papermill": {
     "duration": 0.104645,
     "end_time": "2023-08-12T20:04:07.100682",
     "exception": false,
     "start_time": "2023-08-12T20:04:06.996037",
     "status": "completed"
    },
    "tags": []
   },
   "source": [
    "### More Helper functions  "
   ]
  },
  {
   "cell_type": "code",
   "execution_count": 100,
   "id": "8b90f1eb",
   "metadata": {
    "execution": {
     "iopub.execute_input": "2023-08-12T20:04:07.312385Z",
     "iopub.status.busy": "2023-08-12T20:04:07.311623Z",
     "iopub.status.idle": "2023-08-12T20:04:07.319410Z",
     "shell.execute_reply": "2023-08-12T20:04:07.318261Z"
    },
    "papermill": {
     "duration": 0.116863,
     "end_time": "2023-08-12T20:04:07.322266",
     "exception": false,
     "start_time": "2023-08-12T20:04:07.205403",
     "status": "completed"
    },
    "tags": []
   },
   "outputs": [],
   "source": [
    "# Testing predictions on missing reviewtext columns  \n",
    "\n",
    "def predict_on_missing_review_data(pipe, selected_features, merged_train):\n",
    "    missing_reviews_train = merged_train.loc[merged_train['reviewYN'] == 1]\n",
    "    missing_reviews_train.reset_index(drop=True)\n",
    "    X_train_miss_revs = missing_reviews_train.drop('sentiment', axis = 1)\n",
    "    X_train_miss_revs = X_train_miss_revs[selected_features]\n",
    "    y_train_miss_revs = missing_reviews_train['sentiment']\n",
    "    \n",
    "    y_pred_miss_revs = pipe.predict(X_train_miss_revs)\n",
    "#     print('Predictions on rows which had missing reviewText')\n",
    "    print(\"Confusion matrix and f1-score for rows which have no reviewText in X_train: \")\n",
    "    print(confusion_matrix(y_train_miss_revs, y_pred_miss_revs, labels=pipe.classes_))\n",
    "    \n",
    "    return f1_score(y_train_miss_revs, y_pred_miss_revs, average='micro')"
   ]
  },
  {
   "cell_type": "code",
   "execution_count": 101,
   "id": "a30c755b",
   "metadata": {
    "execution": {
     "iopub.execute_input": "2023-08-12T20:04:07.536617Z",
     "iopub.status.busy": "2023-08-12T20:04:07.535823Z",
     "iopub.status.idle": "2023-08-12T20:04:07.568771Z",
     "shell.execute_reply": "2023-08-12T20:04:07.567671Z"
    },
    "papermill": {
     "duration": 0.144403,
     "end_time": "2023-08-12T20:04:07.571625",
     "exception": false,
     "start_time": "2023-08-12T20:04:07.427222",
     "status": "completed"
    },
    "tags": []
   },
   "outputs": [],
   "source": [
    "# Function to build pipelines for GridSearchCV which goes into the final 'submit' function  \n",
    "def build_pipeline(selected_model=LogisticRegression(), \n",
    "                   selected_features={'txt': ['reviewText']}, \n",
    "                   param_grid=None,\n",
    "                   vocab=None,\n",
    "                   vocab_usage='tfidf',\n",
    "                   strip_accents='unicode', \n",
    "                   add_countvec=False):\n",
    "    # Encoders  \n",
    "    ohe = OneHotEncoder(sparse_output=False, handle_unknown='ignore')\n",
    "    MMscaler = MinMaxScaler()\n",
    "    StdScaler = StandardScaler()\n",
    "    RobScaler = RobustScaler()\n",
    "    \n",
    "    # Text features ['reviewText', 'reviewerName', 'movieid', 'genre', 'director']\n",
    "    tfidf_vec = TfidfVectorizer(ngram_range=(1,2))\n",
    "    count_vec = CountVectorizer(ngram_range=(1,2))\n",
    "    txt_pipe = Pipeline(steps=[\n",
    "                            (\"tvec\", TfidfVectorizer(ngram_range=(1,3), strip_accents=strip_accents))    # Adjust ngram_range here for reviewText\n",
    "                        ])\n",
    "    txt_pipe_vocab = Pipeline(steps=[\n",
    "                            (\"tvec\", TfidfVectorizer(ngram_range=(1,3), strip_accents=strip_accents, vocabulary=vocab))    # Adjust ngram_range here for reviewText\n",
    "                        ])\n",
    "    txt_pipe_2 = Pipeline(steps=[\n",
    "                            (\"tvec\", TfidfVectorizer(ngram_range=(2,2)))\n",
    "                        ])\n",
    "    txt_pipe_3 = Pipeline(steps=[\n",
    "                            (\"tvec\", TfidfVectorizer(ngram_range=(1,1)))\n",
    "                        ])\n",
    "    txt_pipe_4 = Pipeline(steps=[\n",
    "                            (\"tvec\", TfidfVectorizer(ngram_range=(1,3)))    # Adjust ngram_range here for reviewText\n",
    "                        ])\n",
    "    txt_pipe_title  = Pipeline(steps=[\n",
    "                            (\"tvec\", TfidfVectorizer(ngram_range=(1,5)))    # Adjust ngram_range here for reviewText\n",
    "                        ])\n",
    "    \n",
    "    # Additional pipes for count vectorizer\n",
    "    txt_pipe_countvec = Pipeline(steps=[\n",
    "                            (\"cvec\", CountVectorizer(ngram_range=(1,3), strip_accents=strip_accents))    # Adjust ngram_range here for reviewText\n",
    "                        ])\n",
    "    txt_pipe_countvec_vocab = Pipeline(steps=[\n",
    "                            (\"cvec\", CountVectorizer(ngram_range=(1,3), strip_accents=strip_accents, vocabulary=vocab))    # Adjust ngram_range here for reviewText\n",
    "                        ])\n",
    "    \n",
    "    txt_pipe_countvec_ratingContents = Pipeline(steps=[\n",
    "                            (\"cvec\", CountVectorizer(ngram_range=(1,5)))    # Adjust ngram_range here for reviewText\n",
    "                        ])\n",
    "    txt_pipe_countvec_rcSorted = Pipeline(steps=[\n",
    "                            (\"cvec\", CountVectorizer(ngram_range=(1,1)))    # Adjust ngram_range here for reviewText\n",
    "                        ])\n",
    "    txt_pipe_countvec_genre = Pipeline(steps=[\n",
    "                            (\"cvec\", CountVectorizer(ngram_range=(1,1)))\n",
    "                        ])\n",
    "    txt_pipe_countvec_genreSorted = Pipeline(steps=[\n",
    "                            (\"cvec\", CountVectorizer(ngram_range=(1,5)))\n",
    "                        ])\n",
    "    txt_pipe_countvec_distributor = Pipeline(steps=[\n",
    "                            (\"cvec\", CountVectorizer(ngram_range=(1,3)))    # Adjust ngram_range here for reviewText\n",
    "                        ])\n",
    "    txt_pipe_countvec_title = Pipeline(steps=[\n",
    "                            (\"cvec\", CountVectorizer(ngram_range=(1,5), strip_accents=strip_accents))\n",
    "                        ])\n",
    "    txt_pipe_countvec_movieid = Pipeline(steps=[\n",
    "                            (\"cvec\", CountVectorizer(ngram_range=(1,1)))\n",
    "                        ])\n",
    "    # Basic pipes  \n",
    "    TFs = []\n",
    "    try:\n",
    "        for c in selected_features['cat']:\n",
    "            TFs.append((f\"cat_{c}\", ohe, [c]))\n",
    "    except:\n",
    "        pass\n",
    "    try:\n",
    "        for n in selected_features['num']:\n",
    "            if n in [\"runtimeMinutes\", \"boxOffice\", \"releaseDiff\"]:\n",
    "                TFs.append((f\"num_{n}\", RobScaler, [n]))\n",
    "                TFs.append((f\"num_{n}_ss\", StdScaler, [n]))\n",
    "                \n",
    "            else:\n",
    "                TFs.append((f\"num_{n}\", StdScaler, [n]))\n",
    "    except:\n",
    "        pass\n",
    "    try:\n",
    "        for t in selected_features['txt']:\n",
    "            if t in ['director', 'reviewerName']:\n",
    "                TFs.append((f\"txt_{t}\", txt_pipe_2, t))\n",
    "            elif t in [\"originalLanguage\", \"releaseYear\"]:\n",
    "                TFs.append((f\"txt_{t}\", txt_pipe_3, t))\n",
    "            elif t in ['genre']:\n",
    "                TFs.append((f\"txt_{t}\", txt_pipe_countvec_genre, t))\n",
    "            elif t in [\"genreSorted\"]:\n",
    "                TFs.append((f\"txt_{t}\", txt_pipe_countvec_genreSorted, t))\n",
    "            elif t in [\"distributor\"]:\n",
    "                TFs.append((f\"txt_{t}\", txt_pipe_countvec_distributor, t))\n",
    "            elif t in ['reviewText'] and not vocab:\n",
    "#                 if vocab and (vocab_usage in [\"tfidf\", \"both\"]):\n",
    "#                     txt_pipe.set_params(tvec__vocabulary=vocab)\n",
    "#                     txt_pipe.set_params(tvec__stop_words='english')\n",
    "                TFs.append((f\"txt_{t}\", txt_pipe, t))\n",
    "            elif t in ['reviewText_2']:\n",
    "                if add_countvec:\n",
    "#                     if vocab and (vocab_usage in [\"count\", \"both\"]):\n",
    "#                         txt_pipe_countvec.set_params(cvec__vocabulary=vocab)\n",
    "#                         txt_pipe_countvec.set_params(cvec__stop_words='english')\n",
    "                    TFs.append((f\"txt_{t}\", txt_pipe_countvec, t))\n",
    "            elif t in ['reviewText_3']:\n",
    "                if vocab_usage == 'tfidf':\n",
    "                    TFs.append((f\"txt_{t}\", txt_pipe_vocab, t))\n",
    "                elif vocab_usage == 'count':\n",
    "                    TFs.append((f\"txt_{t}\", txt_pipe_countvec_vocab, t))\n",
    "            elif t in [\"ratingContents\"]:\n",
    "                TFs.append((f\"txt_{t}\", txt_pipe_countvec_ratingContents, t))\n",
    "            elif t in [\"rcSorted\"]:\n",
    "                TFs.append((f\"txt_{t}\", txt_pipe_countvec_rcSorted, t))\n",
    "            elif t in [\"title\"]:\n",
    "                TFs.append((f\"txt_{t}\", txt_pipe_title, t))\n",
    "            elif t in [\"movieid\"]:\n",
    "                TFs.append((f\"txt_{t}\", txt_pipe_countvec_movieid, t))\n",
    "            else:\n",
    "                pass\n",
    "    except:\n",
    "        pass\n",
    "\n",
    "    # Build ColumnTransformer  \n",
    "    ct = ColumnTransformer(transformers=TFs, remainder='drop')\n",
    "\n",
    "    # Build Pipeline\n",
    "    pipe = Pipeline(steps=[('ct', ct), ('model', selected_model)])\n",
    "    print(\"\\nPipeline built successfully.\")\n",
    "\n",
    "    # Use the pipe in GridSearchCV\n",
    "    if param_grid == None:\n",
    "        param_grid_temp = {\"model__C\": [1],\n",
    "                     'model__solver': ['liblinear']}\n",
    "        print(\"Full GridSearchCV pipeline built successfully with basic default param_grid.\\n\")\n",
    "        pipeCV = GridSearchCV(pipe, param_grid_temp, cv=10, scoring=\"f1_micro\", n_jobs=-1)\n",
    "        return pipeCV\n",
    "    \n",
    "    # GridSearchCV if param_grid provided\n",
    "    if param_grid:\n",
    "        pipeCV = GridSearchCV(pipe, param_grid, cv=10, scoring=\"f1_micro\", n_jobs=-1)\n",
    "        print(\"\\nFull GridSearchCV pipeline built successfully.\")\n",
    "        return pipeCV"
   ]
  },
  {
   "cell_type": "code",
   "execution_count": 102,
   "id": "6cccec58",
   "metadata": {
    "execution": {
     "iopub.execute_input": "2023-08-12T20:04:07.780562Z",
     "iopub.status.busy": "2023-08-12T20:04:07.779983Z",
     "iopub.status.idle": "2023-08-12T20:04:07.799704Z",
     "shell.execute_reply": "2023-08-12T20:04:07.798424Z"
    },
    "papermill": {
     "duration": 0.127754,
     "end_time": "2023-08-12T20:04:07.802413",
     "exception": false,
     "start_time": "2023-08-12T20:04:07.674659",
     "status": "completed"
    },
    "tags": []
   },
   "outputs": [],
   "source": [
    "def preprocessor(imputer_type='simple'):\n",
    "    \n",
    "    \"\"\"Preprocess train or test data. Choose 'simple' or 'knn' imputers to impute missing numerical values\"\"\"\n",
    "    \n",
    "    # Set imputer  \n",
    "    if imputer_type == 'simple':\n",
    "        imputer = SimpleImputer(strategy='median')\n",
    "        print(imputer)\n",
    "    elif imputer_type == 'knn':\n",
    "        imputer = KNNImputer(weights='distance', n_neighbors=3)    # Adjust KNNImputer params here\n",
    "        print(imputer)\n",
    "\n",
    "\n",
    "    \n",
    "    # Merge and preprocess train and movies data  \n",
    "    merged = select_features(load_csv(\"train\"), load_csv(\"movies\"), row_thresh_null=None)    # Decide if you want to drop any rows containing lot of nulls\n",
    "    \n",
    "    # Impute missing numerical values  \n",
    "    merged[['audienceScore', 'runtimeMinutes', 'boxOffice']] = imputer.fit_transform(merged[['audienceScore', 'runtimeMinutes', 'boxOffice']])\n",
    "    merged['releaseDate'] = merged[\"releaseDate\"].fillna(merged[\"releaseDate\"].median())\n",
    "\n",
    "    # Create new feature columns\n",
    "    \n",
    "    # Convert audienceScore to categories  \n",
    "    num_bins_as = 20\n",
    "    merged[\"audScoreBins\"] = pd.cut(merged['audienceScore'], bins=num_bins_as, labels=False)\n",
    "\n",
    "    # Convert runtimeMinutes to categories  \n",
    "#     num_bins_rt = 20\n",
    "    merged[\"runtimeBins\"] = pd.cut(merged['runtimeMinutes'], bins=[0,75,120,180,565], labels=[4,3,2,1])\n",
    "    \n",
    "    # Convert boxOffice to categories  \n",
    "    num_bins_bo = 5\n",
    "    merged[\"boxOfficeBins\"] = pd.cut(merged['boxOffice'], bins=num_bins_bo, labels=False)\n",
    "    \n",
    "    # Convert releaseDiff to categories  \n",
    "    num_bins_rd = 5\n",
    "    merged[\"releaseDiffBins\"] = pd.cut(merged['releaseDiff'], bins=[-1, 180, 360, 1000, 40000], labels=[0, 1, 2, 3])\n",
    "    \n",
    "    # Check1 (preprocessor)\n",
    "    print(\"\\nCheck 1 (preprocessor) complete.\")\n",
    "    print(f\"Shape of X_train: {merged.shape}\")\n",
    "    print(f\"Features in X_train: {merged.columns}\")\n",
    "\n",
    "\n",
    "    \n",
    "    # Merge and preprocess test and movies data  \n",
    "    merged_test = select_features(load_csv(\"test\"), load_csv(\"movies\"))\n",
    "    \n",
    "    # Transform ['audienceScore', 'runtimeMinutes', 'boxOffice'] columns in merged_test using 'imputer' fitted on 'merged' df  \n",
    "    merged_test[['audienceScore', 'runtimeMinutes', 'boxOffice']] = imputer.transform(merged_test[['audienceScore', 'runtimeMinutes', 'boxOffice']])\n",
    "    \n",
    "    # Fill 'releaseDate' column in 'merged_test' df with median from the train (merged) df  \n",
    "    merged_test['releaseDate'] = merged_test[\"releaseDate\"].fillna(merged[\"releaseDate\"].median())\n",
    "\n",
    "    \n",
    "    # Create new feature columns\n",
    "    \n",
    "    # Convert audienceScore to categories  \n",
    "    num_bins_as = 20\n",
    "    merged_test[\"audScoreBins\"] = pd.cut(merged_test['audienceScore'], bins=num_bins_as, labels=False)\n",
    "    \n",
    "    # Convert runtimeMinutes to categories  \n",
    "#     num_bins_rt = 20\n",
    "    merged_test[\"runtimeBins\"] = pd.cut(merged_test['runtimeMinutes'], bins=[0,75,120,180,565], labels=[4,3,2,1])\n",
    "    \n",
    "    # Convert boxOffice to categories  \n",
    "    num_bins_bo = 5\n",
    "    merged_test[\"boxOfficeBins\"] = pd.cut(merged_test['boxOffice'], bins=num_bins_bo, labels=False)\n",
    "    \n",
    "    # Convert releaseDiff to categories  \n",
    "    num_bins_rd = 5\n",
    "    merged_test[\"releaseDiffBins\"] = pd.cut(merged_test['releaseDiff'], bins=[-1, 180, 360, 1000, 40000], labels=[0, 1, 2, 3])\n",
    "    \n",
    "    \n",
    "    # Check2 (preprocessor)\n",
    "    print(\"\\nCheck 2 (preprocessor) complete.\")\n",
    "    print(f\"Shape of X_test: {merged_test.shape}\")\n",
    "    print(f\"Features in X_test: {merged_test.columns}\")\n",
    "\n",
    "    return merged, merged_test\n",
    "    "
   ]
  },
  {
   "cell_type": "code",
   "execution_count": 103,
   "id": "6888405d",
   "metadata": {
    "execution": {
     "iopub.execute_input": "2023-08-12T20:04:08.025110Z",
     "iopub.status.busy": "2023-08-12T20:04:08.024392Z",
     "iopub.status.idle": "2023-08-12T20:04:08.029407Z",
     "shell.execute_reply": "2023-08-12T20:04:08.028094Z"
    },
    "papermill": {
     "duration": 0.121173,
     "end_time": "2023-08-12T20:04:08.032131",
     "exception": false,
     "start_time": "2023-08-12T20:04:07.910958",
     "status": "completed"
    },
    "tags": []
   },
   "outputs": [],
   "source": [
    "# merged, merged_test = preprocessor()\n",
    "# merged.shape, merged_test.shape"
   ]
  },
  {
   "cell_type": "code",
   "execution_count": 104,
   "id": "162bff1f",
   "metadata": {
    "execution": {
     "iopub.execute_input": "2023-08-12T20:04:08.246222Z",
     "iopub.status.busy": "2023-08-12T20:04:08.245469Z",
     "iopub.status.idle": "2023-08-12T20:04:08.275294Z",
     "shell.execute_reply": "2023-08-12T20:04:08.273997Z"
    },
    "papermill": {
     "duration": 0.13941,
     "end_time": "2023-08-12T20:04:08.278003",
     "exception": false,
     "start_time": "2023-08-12T20:04:08.138593",
     "status": "completed"
    },
    "tags": []
   },
   "outputs": [],
   "source": [
    "def submit_v5(classifiers= [\n",
    "                {'selected_model' : LogisticRegression(C=1, solver='saga', max_iter=100000),\n",
    "                 'param_grid' : None,\n",
    "                 'selected_features' : {'num': ['audienceScore']},\n",
    "                 'vocab' : None,\n",
    "                 'vocab_usage' : 'tfidf',\n",
    "                 'strip_accents' : 'unicode',\n",
    "                 'add_countvec' : False}\n",
    "              ], \n",
    "            imputer_type='simple'\n",
    "            ):\n",
    "    \n",
    "    \"\"\"Takes a list of dictionaries each with same keys as mentioned in the default dictionary in function definition\"\"\"\n",
    "    \n",
    "    print(\"\\nRunning the submit_v5 function...\")\n",
    "    \n",
    "    print(f\"\\nData preprocessor initiated...\")\n",
    "    \n",
    "    imputer_type = imputer_type\n",
    "    print(f\"\\nImputer for missing numerical values: {imputer_type}\")\n",
    "    print(f\"Imputing missing values. (This could take a while if it is KNNImputer)\")\n",
    "    \n",
    "    merged, merged_test = preprocessor(imputer_type=imputer_type)\n",
    "    print(f\"\\nPreprocessing of train and test datasets complete.\")\n",
    "    \n",
    "    # Build vocabulary (if vocab is True)\n",
    "    vocab = None\n",
    "    for item in classifiers:\n",
    "        if item['vocab']:\n",
    "            vocab = True\n",
    "            break\n",
    "    \n",
    "    if vocab == True:\n",
    "        # Generate and store the entire vocabulary of training data  \n",
    "        print(f\"Generating stop words/phrases specific for this project data...\")\n",
    "        train_1_2_3_grams = get_vocab(merged['reviewText'], ngram_range=(1,3))\n",
    "        print(f\"Size of vocabulary of training data: {len(train_1_2_3_grams)}\")\n",
    "        # sorted(train_1_2_3_grams)\n",
    "\n",
    "        # Generate stop words/phrases specific for this project data  \n",
    "        print(f\"Generating stop words/phrases specific for this project data...\")\n",
    "        common_1_2_3_grams = get_common_vocab([merged, merged_test], ngram_range_list=[(1,1), (2,2), (3,3)])\n",
    "        print(f\"Number of stop words: {len(common_1_2_3_grams)}\")\n",
    "\n",
    "        # Get the vocabulary that should be used in the final models  \n",
    "        print(f\"Getting the vocabulary that will be fed to the final model(s)...\")\n",
    "        relevant_vocab = list(train_1_2_3_grams - common_1_2_3_grams)\n",
    "        print(f\"Size of the final relevant vocabulary: {len(relevant_vocab)}\")\n",
    "    else:\n",
    "        pass\n",
    "    \n",
    "    \n",
    "    # Create a list to store estimators  \n",
    "    estimators = []     # List of tuples of the form ('classifier_name', 'classifer_instance')\n",
    "    \n",
    "    # Build a dataframe of predictions  \n",
    "    predictions_df = pd.DataFrame()\n",
    "    \n",
    "    # Build a separate pipeline and fit it on selected features (and param_grid) for each item in classifiers list\n",
    "    for n, item in enumerate(classifiers, start=1):\n",
    "        selected_model = item['selected_model']\n",
    "        selected_features = item['selected_features']\n",
    "        param_grid = item['param_grid']\n",
    "        vocab = item['vocab']\n",
    "        vocab_usage = item['vocab_usage']\n",
    "        strip_accents = item['strip_accents']\n",
    "        add_countvec = item['add_countvec']\n",
    "    \n",
    "    \n",
    "        # Fine tune selected_features\n",
    "        if add_countvec:\n",
    "            if 'txt' in selected_features.keys():\n",
    "                if \"reviewText_2\" not in selected_features['txt']:\n",
    "                    selected_features['txt'].append('reviewText_2')\n",
    "        if vocab:\n",
    "            if 'txt' in selected_features.keys():\n",
    "                if \"reviewText_3\" not in selected_features['txt']:\n",
    "                    selected_features['txt'].append('reviewText_3')\n",
    "        else:\n",
    "            print(f\"No vocabulary provided/used for this model.\")\n",
    "        print(f\"\\nSelected features: {selected_features}\")\n",
    "        \n",
    "        if type(vocab) in [type([1, 2]), type({1, 2})]:\n",
    "            vocab = vocab\n",
    "        elif vocab == True:\n",
    "            vocab = common_1_2_3_grams    # Choose vocabulary here\n",
    "\n",
    "        # Modify X_train for the given 'item' by creating a custom 'features' list\n",
    "        features = []\n",
    "        for item in selected_features.values():\n",
    "            features.extend(item)\n",
    "            \n",
    "        # Add new columns as needed  \n",
    "        if add_countvec:\n",
    "            merged['reviewText_2'] = merged['reviewText']\n",
    "        if vocab:\n",
    "            merged['reviewText_3'] = merged['reviewText']\n",
    "        \n",
    "        # Create X_tran, y_train\n",
    "        X_train = merged.drop(labels=\"sentiment\", axis=1)\n",
    "        y_train = merged[\"sentiment\"]\n",
    "        \n",
    "        X_train = merged[features].copy()\n",
    "\n",
    "\n",
    "        # Build Pipeline\n",
    "        pipe = build_pipeline(selected_model, selected_features, param_grid=param_grid, \n",
    "                              vocab=vocab, vocab_usage='tfidf', \n",
    "                              strip_accents=strip_accents, add_countvec=add_countvec)\n",
    "        print(pipe)\n",
    "\n",
    "        \n",
    "        # Fit \n",
    "        print(f\"\\nTraining started with full pipeline for classifier #{n}/{len(classifiers)}...\")\n",
    "        pipe.fit(X_train, y_train)\n",
    "        \n",
    "\n",
    "        # Check1\n",
    "        print(f\"\\nCheck #{n}.1 complete.\")\n",
    "        print(f\"Details of the best model using classifier #{n} (GridSearchCV) on X_train: \")\n",
    "        print(f\"Best Params: {pipe.best_params_}\")\n",
    "        print(f\"Best Score: {pipe.best_score_}\")\n",
    "        \n",
    "        print(predict_on_missing_review_data(pipe, features, merged))    # Function defined above\n",
    "        \n",
    "        estimators.append((f\"classifier_{n}\", pipe))\n",
    "        print(f\"classifier_{n} successfully added to 'estimators' list\")\n",
    "\n",
    "        \n",
    "        # Predict on train data \n",
    "        y_train_pred = pipe.predict(X_train)\n",
    "        print(f\"Confusion matrix for predictions on training data: \")\n",
    "        print(confusion_matrix(y_train, y_train_pred))\n",
    "        f1_train = f1_score(y_train, y_train_pred, average=\"micro\")\n",
    "        print(f\"F1-score on training data: {f1_train}\")\n",
    "        \n",
    "        \n",
    "        # Predict on test.csv file\n",
    "        # Add new columns as needed \n",
    "        if add_countvec:\n",
    "            merged_test['reviewText_2'] = merged_test['reviewText']\n",
    "        if vocab:\n",
    "            merged_test['reviewText_3'] = merged_test['reviewText']\n",
    "        \n",
    "               \n",
    "        X_test = merged_test[features].copy()\n",
    "\n",
    "    \n",
    "        y_pred = pipe.predict(X_test)\n",
    "        \n",
    "        # Insert predictions in 'predictions_df' dataframe\n",
    "        predictions_df.insert(n-1, f\"pred_{n}\", y_pred, allow_duplicates=False)\n",
    "        print(predictions_df.shape)\n",
    "        print(predictions_df.head(10))\n",
    "        \n",
    "    \n",
    "        # Check2\n",
    "        print(f\"\\nCheck #{n}.2 complete.\")\n",
    "    #     cv_results_df = pd.DataFrame(pipe.cv_results_)\n",
    "        print(\"Details of the best model using full pipeline (GridSearchCV) on X_train: \")\n",
    "#         print(f\"Best Estimator: {pipe.best_estimator_}\")\n",
    "        print(f\"Best Params: {pipe.best_params_}\")\n",
    "        print(f\"Best Score: {pipe.best_score_}\")\n",
    "#         print(f\"Best Index: {pipe.best_index_}\")\n",
    "        print(f\"Refit Time: {pipe.refit_time_}\")\n",
    "    #     print(f\"Shape of CV results dataframe: {cv_results_df.shape}\")\n",
    "    \n",
    "    # Voting classifier (custom) with hard voting\n",
    "    # Calculate the MODE for all predictions (Note that the 'predictions_df' generated above should have odd number of columns)\n",
    "    pred_df_final = predictions_df.mode('columns')\n",
    "    pred_df_final.columns = [\"sentiment\"]\n",
    "    pred_df_final.index.name = \"id\"\n",
    "    pred_df_final.to_csv(\"submission.csv\")\n",
    "    \n",
    "    print(\"\\nSuccessfully created the submission file!!!\")\n",
    "    \n",
    "#     return pipe.cv_results_\n",
    "    return pred_df_final, estimators"
   ]
  },
  {
   "cell_type": "markdown",
   "id": "c890fb6d",
   "metadata": {
    "papermill": {
     "duration": 0.102482,
     "end_time": "2023-08-12T20:04:08.482850",
     "exception": false,
     "start_time": "2023-08-12T20:04:08.380368",
     "status": "completed"
    },
    "tags": []
   },
   "source": [
    "## Use 'submit_v5' function  "
   ]
  },
  {
   "cell_type": "code",
   "execution_count": 105,
   "id": "52cd7fb3",
   "metadata": {
    "execution": {
     "iopub.execute_input": "2023-08-12T20:04:08.694295Z",
     "iopub.status.busy": "2023-08-12T20:04:08.693844Z",
     "iopub.status.idle": "2023-08-12T20:04:08.698738Z",
     "shell.execute_reply": "2023-08-12T20:04:08.697568Z"
    },
    "papermill": {
     "duration": 0.112326,
     "end_time": "2023-08-12T20:04:08.701306",
     "exception": false,
     "start_time": "2023-08-12T20:04:08.588980",
     "status": "completed"
    },
    "tags": []
   },
   "outputs": [],
   "source": [
    "# Try submit_v5 with default settings\n",
    "# submit_v5()"
   ]
  },
  {
   "cell_type": "code",
   "execution_count": 106,
   "id": "c48fbf98",
   "metadata": {
    "execution": {
     "iopub.execute_input": "2023-08-12T20:04:08.979245Z",
     "iopub.status.busy": "2023-08-12T20:04:08.978404Z",
     "iopub.status.idle": "2023-08-12T20:09:58.562610Z",
     "shell.execute_reply": "2023-08-12T20:09:58.559109Z"
    },
    "papermill": {
     "duration": 349.861792,
     "end_time": "2023-08-12T20:09:58.666185",
     "exception": false,
     "start_time": "2023-08-12T20:04:08.804393",
     "status": "completed"
    },
    "tags": []
   },
   "outputs": [
    {
     "name": "stdout",
     "output_type": "stream",
     "text": [
      "\n",
      "Running the submit_v5 function...\n",
      "\n",
      "Data preprocessor initiated...\n",
      "\n",
      "Imputer for missing numerical values: simple\n",
      "Imputing missing values. (This could take a while if it is KNNImputer)\n",
      "SimpleImputer(strategy='median')\n",
      "\n",
      "Check 1 (preprocessor) complete.\n",
      "Shape of X_train: (162758, 30)\n",
      "Features in X_train: Index(['movieid', 'reviewerName', 'isFrequentReviewer', 'reviewText',\n",
      "       'sentiment', 'title', 'audienceScore', 'rating', 'ratingContents',\n",
      "       'releaseDateTheaters', 'releaseDateStreaming', 'runtimeMinutes',\n",
      "       'genre', 'originalLanguage', 'director', 'boxOffice', 'distributor',\n",
      "       'soundType', 'reviewYN', 'reviewWC', 'genreSorted', 'rcSorted',\n",
      "       'releaseDate', 'releaseYear', 'releaseMonth', 'releaseDiff',\n",
      "       'audScoreBins', 'runtimeBins', 'boxOfficeBins', 'releaseDiffBins'],\n",
      "      dtype='object')\n",
      "\n",
      "Check 2 (preprocessor) complete.\n",
      "Shape of X_test: (55315, 29)\n",
      "Features in X_test: Index(['movieid', 'reviewerName', 'isFrequentReviewer', 'reviewText', 'title',\n",
      "       'audienceScore', 'rating', 'ratingContents', 'releaseDateTheaters',\n",
      "       'releaseDateStreaming', 'runtimeMinutes', 'genre', 'originalLanguage',\n",
      "       'director', 'boxOffice', 'distributor', 'soundType', 'reviewYN',\n",
      "       'reviewWC', 'genreSorted', 'rcSorted', 'releaseDate', 'releaseYear',\n",
      "       'releaseMonth', 'releaseDiff', 'audScoreBins', 'runtimeBins',\n",
      "       'boxOfficeBins', 'releaseDiffBins'],\n",
      "      dtype='object')\n",
      "\n",
      "Preprocessing of train and test datasets complete.\n",
      "No vocabulary provided/used for this model.\n",
      "\n",
      "Selected features: {'txt': ['reviewText']}\n",
      "\n",
      "Pipeline built successfully.\n",
      "\n",
      "Full GridSearchCV pipeline built successfully.\n",
      "GridSearchCV(cv=10,\n",
      "             estimator=Pipeline(steps=[('ct',\n",
      "                                        ColumnTransformer(transformers=[('txt_reviewText',\n",
      "                                                                         Pipeline(steps=[('tvec',\n",
      "                                                                                          TfidfVectorizer(ngram_range=(1,\n",
      "                                                                                                                       3),\n",
      "                                                                                                          strip_accents='unicode'))]),\n",
      "                                                                         'reviewText')])),\n",
      "                                       ('model',\n",
      "                                        SGDClassifier(loss='modified_huber',\n",
      "                                                      max_iter=1000000,\n",
      "                                                      n_iter_no_change=100,\n",
      "                                                      n_jobs=-1,\n",
      "                                                      tol=0.0001))]),\n",
      "             n_jobs=-1, param_grid={'model__alpha': [0.0001]},\n",
      "             scoring='f1_micro')\n",
      "\n",
      "Training started with full pipeline for classifier #1/1...\n",
      "\n",
      "Check #1.1 complete.\n",
      "Details of the best model using classifier #1 (GridSearchCV) on X_train: \n",
      "Best Params: {'model__alpha': 0.0001}\n",
      "Best Score: 0.7898352116467132\n",
      "Confusion matrix and f1-score for rows which have no reviewText in X_train: \n",
      "[[   0 2405]\n",
      " [   0 4042]]\n",
      "0.6269582751667442\n",
      "classifier_1 successfully added to 'estimators' list\n",
      "Confusion matrix for predictions on training data: \n",
      "[[ 30785  23212]\n",
      " [  2209 106552]]\n",
      "F1-score on training data: 0.8438110569065729\n",
      "(55315, 1)\n",
      "     pred_1\n",
      "0  POSITIVE\n",
      "1  POSITIVE\n",
      "2  POSITIVE\n",
      "3  POSITIVE\n",
      "4  POSITIVE\n",
      "5  POSITIVE\n",
      "6  POSITIVE\n",
      "7  NEGATIVE\n",
      "8  POSITIVE\n",
      "9  POSITIVE\n",
      "\n",
      "Check #1.2 complete.\n",
      "Details of the best model using full pipeline (GridSearchCV) on X_train: \n",
      "Best Params: {'model__alpha': 0.0001}\n",
      "Best Score: 0.7898352116467132\n",
      "Refit Time: 58.67294383049011\n",
      "\n",
      "Successfully created the submission file!!!\n"
     ]
    }
   ],
   "source": [
    "# Testing ONE classfier using submit_v5 function  \n",
    "\n",
    "# Feature dictionaries\n",
    "sfs = {'cat': ['isFrequentReviewer', 'rating'],\n",
    "       'num': [\"audienceScore\", \"runtimeMinutes\", \"boxOffice\", 'releaseDiff']}\n",
    "\n",
    "sf_best = {'cat': ['isFrequentReviewer'],\n",
    "            'num': [\"audienceScore\", \"boxOffice\", 'releaseDiff'],\n",
    "            'txt': ['reviewText', 'reviewerName', 'movieid', 'genre', 'director', \n",
    "                         'ratingContents', 'distributor']}\n",
    "\n",
    "alt_text = {'txt': ['reviewerName', 'movieid', 'genre', 'director', \n",
    "                         'ratingContents', 'distributor']}\n",
    "\n",
    "v88_dict = {'cat': ['isFrequentReviewer', 'audScoreBins', 'boxOfficeBins'],\n",
    "            'num': ['releaseDiff'],\n",
    "            'txt': ['reviewText', 'reviewerName', 'movieid', 'genre', 'director', \n",
    "                         'ratingContents', 'distributor']}\n",
    "\n",
    "# SGDClassifier hyperparameters  \n",
    "# \"model__loss\": ['hinge', 'log_loss', 'modified_huber', \n",
    "#                                                   'squared_hinge', 'perceptron', \n",
    "#                                                   'squared_error', 'huber', \n",
    "#                                                   'epsilon_insensitive', 'squared_epsilon_insensitive']\n",
    "\n",
    "# 'param_grid' : {\"model__alpha\": [0.0001], \n",
    "#                   'model__tol': [0.0001],\n",
    "#                   \"model__penalty\": [\"l2\"],\n",
    "#                   \"model__n_iter_no_change\": [100],\n",
    "#                  }\n",
    "\n",
    "# Best models \n",
    "# For sf_best features\n",
    "#                 {'selected_model' : SGDClassifier(loss='hinge', \n",
    "#                                      max_iter=1000000,\n",
    "#                                      alpha = 0.0001,\n",
    "#                                      tol = 0.0001,\n",
    "#                                      penalty = \"l2\",\n",
    "#                                      n_iter_no_change = 100,\n",
    "#                                      n_jobs = -1), \n",
    "#                   'selected_features' : sf_best, \n",
    "#                   'param_grid' : {\"model__alpha\": [ 0.0001]},\n",
    "#                   'vocab' : True,\n",
    "#                   'vocab_usage' : 'tfidf',\n",
    "#                   'strip_accents' : 'unicode', \n",
    "#                   'add_countvec' : True},\n",
    "\n",
    "# For sfs features\n",
    "#                 {'selected_model' : RandomForestClassifier(n_jobs = -1), \n",
    "#                   'selected_features' : sfs, \n",
    "#                   'param_grid': {'model__n_estimators': [100]},\n",
    "#                   'vocab' : None,\n",
    "#                   'vocab_usage' : 'tfidf',\n",
    "#                   'strip_accents' : 'unicode', \n",
    "#                   'add_countvec' : False}\n",
    "\n",
    "# Best SGD classifer (with params)  \n",
    "sgdc = SGDClassifier(loss='modified_huber', \n",
    "                     max_iter=1000000,\n",
    "                     alpha = 0.0001,\n",
    "                     tol = 0.0001,\n",
    "                     penalty = \"l2\",\n",
    "                     n_iter_no_change = 100,\n",
    "                     n_jobs = -1)\n",
    "\n",
    "# Classifiers\n",
    "classifiers= [   \n",
    "                {'selected_model' : sgdc, \n",
    "                  'selected_features' : {'txt' : ['reviewText']}, \n",
    "                  'param_grid' : {\"model__alpha\": [0.0001]},\n",
    "                  'vocab' : None,\n",
    "                  'vocab_usage' : 'tfidf',\n",
    "                  'strip_accents' : 'unicode', \n",
    "                  'add_countvec' : False}\n",
    "            ]\n",
    "\n",
    "# classifiers= [\n",
    "#                 {'selected_model' : LogisticRegression(C=1, solver='saga', max_iter=100000), \n",
    "#                   'selected_features' : {'txt': [\"reviewText\"]}, \n",
    "#                   'param_grid' : {\"model__C\": [1], \n",
    "#                                   'model__solver': ['saga']},\n",
    "#                   'vocab' : None,\n",
    "#                   'vocab_usage' : 'tfidf',\n",
    "#                   'strip_accents' : 'unicode', \n",
    "#                   'add_countvec' : False},\n",
    "#             ]\n",
    "\n",
    "pred_df, estimators = submit_v5(classifiers=classifiers, imputer_type='simple')"
   ]
  },
  {
   "cell_type": "code",
   "execution_count": 107,
   "id": "3292c4a0",
   "metadata": {
    "execution": {
     "iopub.execute_input": "2023-08-12T20:09:58.877797Z",
     "iopub.status.busy": "2023-08-12T20:09:58.876985Z",
     "iopub.status.idle": "2023-08-12T20:09:58.885378Z",
     "shell.execute_reply": "2023-08-12T20:09:58.883998Z"
    },
    "papermill": {
     "duration": 0.117664,
     "end_time": "2023-08-12T20:09:58.887763",
     "exception": false,
     "start_time": "2023-08-12T20:09:58.770099",
     "status": "completed"
    },
    "tags": []
   },
   "outputs": [
    {
     "name": "stdout",
     "output_type": "stream",
     "text": [
      "(55315, 1)\n",
      "   sentiment\n",
      "id          \n",
      "0   POSITIVE\n",
      "1   POSITIVE\n",
      "2   POSITIVE\n",
      "3   POSITIVE\n",
      "4   POSITIVE\n"
     ]
    }
   ],
   "source": [
    "print(pred_df.shape)\n",
    "print(pred_df.head())"
   ]
  },
  {
   "cell_type": "code",
   "execution_count": 108,
   "id": "bbb34548",
   "metadata": {
    "execution": {
     "iopub.execute_input": "2023-08-12T20:09:59.097301Z",
     "iopub.status.busy": "2023-08-12T20:09:59.096461Z",
     "iopub.status.idle": "2023-08-12T20:09:59.101893Z",
     "shell.execute_reply": "2023-08-12T20:09:59.101000Z"
    },
    "papermill": {
     "duration": 0.113184,
     "end_time": "2023-08-12T20:09:59.104436",
     "exception": false,
     "start_time": "2023-08-12T20:09:58.991252",
     "status": "completed"
    },
    "tags": []
   },
   "outputs": [],
   "source": [
    "# estimators"
   ]
  },
  {
   "cell_type": "code",
   "execution_count": 109,
   "id": "b962586d",
   "metadata": {
    "execution": {
     "iopub.execute_input": "2023-08-12T20:09:59.317776Z",
     "iopub.status.busy": "2023-08-12T20:09:59.317328Z",
     "iopub.status.idle": "2023-08-12T20:09:59.324841Z",
     "shell.execute_reply": "2023-08-12T20:09:59.323651Z"
    },
    "papermill": {
     "duration": 0.117281,
     "end_time": "2023-08-12T20:09:59.327594",
     "exception": false,
     "start_time": "2023-08-12T20:09:59.210313",
     "status": "completed"
    },
    "tags": []
   },
   "outputs": [
    {
     "name": "stdout",
     "output_type": "stream",
     "text": [
      "Number of estimators: 1\n",
      "\n",
      "Estimator: classifier_1\n",
      "{'model__alpha': 0.0001}\n",
      "0.7898352116467132\n",
      "58.67294383049011\n",
      "\n"
     ]
    }
   ],
   "source": [
    "print(f\"Number of estimators: {len(estimators)}\\n\")\n",
    "for est in estimators:\n",
    "    print(f\"Estimator: {est[0]}\")\n",
    "#     print(est[1].best_estimator_)\n",
    "    print(est[1].best_params_)\n",
    "    print(est[1].best_score_)\n",
    "    print(est[1].refit_time_)\n",
    "    print()"
   ]
  },
  {
   "cell_type": "code",
   "execution_count": 110,
   "id": "288d3d5c",
   "metadata": {
    "execution": {
     "iopub.execute_input": "2023-08-12T20:09:59.540251Z",
     "iopub.status.busy": "2023-08-12T20:09:59.539274Z",
     "iopub.status.idle": "2023-08-12T20:09:59.546259Z",
     "shell.execute_reply": "2023-08-12T20:09:59.545384Z"
    },
    "papermill": {
     "duration": 0.117224,
     "end_time": "2023-08-12T20:09:59.548618",
     "exception": false,
     "start_time": "2023-08-12T20:09:59.431394",
     "status": "completed"
    },
    "tags": []
   },
   "outputs": [],
   "source": [
    "# Testing full capabilites of submit_v5  \n",
    "\n",
    "# # Feature dictionaries\n",
    "# sf1 = {'cat': ['isFrequentReviewer', 'rating'],\n",
    "#        'num': [\"audienceScore\", \"runtimeMinutes\", \"boxOffice\"]}\n",
    "\n",
    "# sf2 = {'cat': ['isFrequentReviewer', 'rating'],\n",
    "#        'num': [\"audienceScore\", \"runtimeMinutes\", \"boxOffice\"]}\n",
    "\n",
    "# sf3 = {'cat': ['isFrequentReviewer'],\n",
    "#         'num': ['releaseDiff', 'audienceScore', 'boxOffice'],\n",
    "#         'txt': ['reviewText', 'reviewerName', 'movieid', 'genre', 'director', \n",
    "#                          'ratingContents', 'distributor']}\n",
    "\n",
    "# # Individual classifiers\n",
    "# clf1 =  {'selected_model' : AdaBoostClassifier(), \n",
    "#           'selected_features' : sf1, \n",
    "#           'param_grid' : {\"model__n_estimators\": [50]},\n",
    "#           'vocab' : None,\n",
    "#           'vocab_usage' : 'tfidf',\n",
    "#           'strip_accents' : 'unicode', \n",
    "#           'add_countvec' : False}\n",
    "\n",
    "# clf2 =  {'selected_model' : RandomForestClassifier(), \n",
    "#           'selected_features' : sf2,\n",
    "#           'param_grid' : {\"model__n_estimators\": [50], \n",
    "#                           'model__criterion': ['gini']},\n",
    "#           'vocab' : None,\n",
    "#           'vocab_usage' : 'tfidf',\n",
    "#           'strip_accents' : 'unicode', \n",
    "#           'add_countvec' : False}\n",
    "\n",
    "# clf3 =  {'selected_model' : LogisticRegression(C=1, solver='saga', max_iter=100000), \n",
    "#           'selected_features' : sf3, \n",
    "#           'param_grid' : {'model__C' : [1],\n",
    "#                             'model__solver': ['saga'],\n",
    "#                             \"model__fit_intercept\" : [True],\n",
    "#                             \"model__dual\" : [False]},\n",
    "#           'vocab' : None,\n",
    "#           'vocab_usage' : 'tfidf',\n",
    "#           'strip_accents' : 'unicode', \n",
    "#           'add_countvec' : True}\n",
    "\n",
    "\n",
    "# # List of classifiers for voting\n",
    "# classifiers= [clf1, clf2, clf3]\n",
    "\n",
    "# # Final predictions \n",
    "# pred_df = submit_v5(classifiers=classifiers)"
   ]
  },
  {
   "cell_type": "code",
   "execution_count": 111,
   "id": "18cb20be",
   "metadata": {
    "execution": {
     "iopub.execute_input": "2023-08-12T20:09:59.758478Z",
     "iopub.status.busy": "2023-08-12T20:09:59.757309Z",
     "iopub.status.idle": "2023-08-12T20:09:59.770760Z",
     "shell.execute_reply": "2023-08-12T20:09:59.769656Z"
    },
    "papermill": {
     "duration": 0.120992,
     "end_time": "2023-08-12T20:09:59.773003",
     "exception": false,
     "start_time": "2023-08-12T20:09:59.652011",
     "status": "completed"
    },
    "tags": []
   },
   "outputs": [
    {
     "name": "stdout",
     "output_type": "stream",
     "text": [
      "(55315, 1)\n"
     ]
    },
    {
     "data": {
      "text/html": [
       "<div>\n",
       "<style scoped>\n",
       "    .dataframe tbody tr th:only-of-type {\n",
       "        vertical-align: middle;\n",
       "    }\n",
       "\n",
       "    .dataframe tbody tr th {\n",
       "        vertical-align: top;\n",
       "    }\n",
       "\n",
       "    .dataframe thead th {\n",
       "        text-align: right;\n",
       "    }\n",
       "</style>\n",
       "<table border=\"1\" class=\"dataframe\">\n",
       "  <thead>\n",
       "    <tr style=\"text-align: right;\">\n",
       "      <th></th>\n",
       "      <th>sentiment</th>\n",
       "    </tr>\n",
       "    <tr>\n",
       "      <th>id</th>\n",
       "      <th></th>\n",
       "    </tr>\n",
       "  </thead>\n",
       "  <tbody>\n",
       "    <tr>\n",
       "      <th>0</th>\n",
       "      <td>POSITIVE</td>\n",
       "    </tr>\n",
       "    <tr>\n",
       "      <th>1</th>\n",
       "      <td>POSITIVE</td>\n",
       "    </tr>\n",
       "    <tr>\n",
       "      <th>2</th>\n",
       "      <td>POSITIVE</td>\n",
       "    </tr>\n",
       "    <tr>\n",
       "      <th>3</th>\n",
       "      <td>POSITIVE</td>\n",
       "    </tr>\n",
       "    <tr>\n",
       "      <th>4</th>\n",
       "      <td>POSITIVE</td>\n",
       "    </tr>\n",
       "    <tr>\n",
       "      <th>...</th>\n",
       "      <td>...</td>\n",
       "    </tr>\n",
       "    <tr>\n",
       "      <th>55310</th>\n",
       "      <td>POSITIVE</td>\n",
       "    </tr>\n",
       "    <tr>\n",
       "      <th>55311</th>\n",
       "      <td>NEGATIVE</td>\n",
       "    </tr>\n",
       "    <tr>\n",
       "      <th>55312</th>\n",
       "      <td>POSITIVE</td>\n",
       "    </tr>\n",
       "    <tr>\n",
       "      <th>55313</th>\n",
       "      <td>POSITIVE</td>\n",
       "    </tr>\n",
       "    <tr>\n",
       "      <th>55314</th>\n",
       "      <td>NEGATIVE</td>\n",
       "    </tr>\n",
       "  </tbody>\n",
       "</table>\n",
       "<p>55315 rows × 1 columns</p>\n",
       "</div>"
      ],
      "text/plain": [
       "      sentiment\n",
       "id             \n",
       "0      POSITIVE\n",
       "1      POSITIVE\n",
       "2      POSITIVE\n",
       "3      POSITIVE\n",
       "4      POSITIVE\n",
       "...         ...\n",
       "55310  POSITIVE\n",
       "55311  NEGATIVE\n",
       "55312  POSITIVE\n",
       "55313  POSITIVE\n",
       "55314  NEGATIVE\n",
       "\n",
       "[55315 rows x 1 columns]"
      ]
     },
     "execution_count": 111,
     "metadata": {},
     "output_type": "execute_result"
    }
   ],
   "source": [
    "print(pred_df.shape)\n",
    "pred_df"
   ]
  },
  {
   "cell_type": "code",
   "execution_count": 112,
   "id": "cff34a49",
   "metadata": {
    "execution": {
     "iopub.execute_input": "2023-08-12T20:09:59.985171Z",
     "iopub.status.busy": "2023-08-12T20:09:59.984736Z",
     "iopub.status.idle": "2023-08-12T20:09:59.989687Z",
     "shell.execute_reply": "2023-08-12T20:09:59.988489Z"
    },
    "papermill": {
     "duration": 0.113455,
     "end_time": "2023-08-12T20:09:59.992290",
     "exception": false,
     "start_time": "2023-08-12T20:09:59.878835",
     "status": "completed"
    },
    "tags": []
   },
   "outputs": [],
   "source": [
    "# pred_df_mode = pred_df.mode(axis='columns')\n",
    "# print(pred_df_mode.shape)\n",
    "# pred_df_mode"
   ]
  },
  {
   "cell_type": "code",
   "execution_count": 113,
   "id": "81d180ed",
   "metadata": {
    "execution": {
     "iopub.execute_input": "2023-08-12T20:10:00.224966Z",
     "iopub.status.busy": "2023-08-12T20:10:00.224471Z",
     "iopub.status.idle": "2023-08-12T20:10:00.245251Z",
     "shell.execute_reply": "2023-08-12T20:10:00.243974Z"
    },
    "papermill": {
     "duration": 0.146007,
     "end_time": "2023-08-12T20:10:00.248014",
     "exception": false,
     "start_time": "2023-08-12T20:10:00.102007",
     "status": "completed"
    },
    "tags": []
   },
   "outputs": [
    {
     "data": {
      "text/plain": [
       "sentiment\n",
       "POSITIVE     44384\n",
       "NEGATIVE     10931\n",
       "dtype: int64"
      ]
     },
     "execution_count": 113,
     "metadata": {},
     "output_type": "execute_result"
    }
   ],
   "source": [
    "pred_df.value_counts()"
   ]
  },
  {
   "cell_type": "markdown",
   "id": "bf83e6a7",
   "metadata": {
    "papermill": {
     "duration": 0.109379,
     "end_time": "2023-08-12T20:10:00.470582",
     "exception": false,
     "start_time": "2023-08-12T20:10:00.361203",
     "status": "completed"
    },
    "tags": []
   },
   "source": [
    "# NOTE: Move submit_v4 submissions below the suubmit_v4 function  "
   ]
  },
  {
   "cell_type": "code",
   "execution_count": 114,
   "id": "5d45ef57",
   "metadata": {
    "execution": {
     "iopub.execute_input": "2023-08-12T20:10:00.685611Z",
     "iopub.status.busy": "2023-08-12T20:10:00.685211Z",
     "iopub.status.idle": "2023-08-12T20:10:00.690158Z",
     "shell.execute_reply": "2023-08-12T20:10:00.688967Z"
    },
    "papermill": {
     "duration": 0.116529,
     "end_time": "2023-08-12T20:10:00.693145",
     "exception": false,
     "start_time": "2023-08-12T20:10:00.576616",
     "status": "completed"
    },
    "tags": []
   },
   "outputs": [],
   "source": [
    "# Try 'submit_v4' function with default params (LogisticRegression model)  \n",
    "\n",
    "# submit_v4()\n",
    "\n",
    "#Default params to this function gave a score of 0.8259 - improvement over previous score of 0.82563!"
   ]
  },
  {
   "cell_type": "code",
   "execution_count": 115,
   "id": "6229bed9",
   "metadata": {
    "execution": {
     "iopub.execute_input": "2023-08-12T20:10:00.906515Z",
     "iopub.status.busy": "2023-08-12T20:10:00.906110Z",
     "iopub.status.idle": "2023-08-12T20:10:00.911423Z",
     "shell.execute_reply": "2023-08-12T20:10:00.910142Z"
    },
    "papermill": {
     "duration": 0.114561,
     "end_time": "2023-08-12T20:10:00.913946",
     "exception": false,
     "start_time": "2023-08-12T20:10:00.799385",
     "status": "completed"
    },
    "tags": []
   },
   "outputs": [],
   "source": [
    "# Try out GridSearchCV on \"submit_v4\" function with param_grid  \n",
    "# param_grid = {\n",
    "#     \"model__C\": [0.1, 1, 5, 10]\n",
    "# }\n",
    "\n",
    "# submit_v4(selected_features={'txt': ['genre']}, param_grid=param_grid)"
   ]
  },
  {
   "cell_type": "markdown",
   "id": "3974f325",
   "metadata": {
    "papermill": {
     "duration": 0.106755,
     "end_time": "2023-08-12T20:10:01.125530",
     "exception": false,
     "start_time": "2023-08-12T20:10:01.018775",
     "status": "completed"
    },
    "tags": []
   },
   "source": [
    "### Try LinearSVC with GridSearchCV  "
   ]
  },
  {
   "cell_type": "code",
   "execution_count": 116,
   "id": "d3cb953c",
   "metadata": {
    "execution": {
     "iopub.execute_input": "2023-08-12T20:10:01.339398Z",
     "iopub.status.busy": "2023-08-12T20:10:01.339008Z",
     "iopub.status.idle": "2023-08-12T20:10:01.344195Z",
     "shell.execute_reply": "2023-08-12T20:10:01.343008Z"
    },
    "papermill": {
     "duration": 0.11392,
     "end_time": "2023-08-12T20:10:01.346401",
     "exception": false,
     "start_time": "2023-08-12T20:10:01.232481",
     "status": "completed"
    },
    "tags": []
   },
   "outputs": [],
   "source": [
    "# all_dict = {'cat': [\"isFrequentReviewer\", \"rating\", \"originalLanguage\"],\n",
    "#              'num': [\"audienceScore\", \"runtimeMinutes\", \"boxOffice\"],\n",
    "#              'txt': ['reviewText', 'reviewerName', 'movieid', 'genre', 'director']}\n",
    "\n",
    "# param_grid_svc = {\n",
    "#     \"model__C\": [0.1, 1, 10, 100]\n",
    "# }\n",
    "# param_grid_svc"
   ]
  },
  {
   "cell_type": "code",
   "execution_count": 117,
   "id": "9ead2ede",
   "metadata": {
    "execution": {
     "iopub.execute_input": "2023-08-12T20:10:01.557840Z",
     "iopub.status.busy": "2023-08-12T20:10:01.557421Z",
     "iopub.status.idle": "2023-08-12T20:10:01.562429Z",
     "shell.execute_reply": "2023-08-12T20:10:01.561249Z"
    },
    "papermill": {
     "duration": 0.115174,
     "end_time": "2023-08-12T20:10:01.565249",
     "exception": false,
     "start_time": "2023-08-12T20:10:01.450075",
     "status": "completed"
    },
    "tags": []
   },
   "outputs": [],
   "source": [
    "# LinearSCV on single feature  \n",
    "\n",
    "# submit_v4(selected_model=LinearSVC(max_iter=100000, random_state=42), selected_features={'num': [\"audienceScore\"]}, param_grid=param_grid_svc)\n",
    "\n",
    "# Comment: LinearSVC even on single column feature set takes too long to converge."
   ]
  },
  {
   "cell_type": "code",
   "execution_count": 118,
   "id": "f18aaa20",
   "metadata": {
    "execution": {
     "iopub.execute_input": "2023-08-12T20:10:01.775358Z",
     "iopub.status.busy": "2023-08-12T20:10:01.774920Z",
     "iopub.status.idle": "2023-08-12T20:10:01.780073Z",
     "shell.execute_reply": "2023-08-12T20:10:01.778892Z"
    },
    "papermill": {
     "duration": 0.113624,
     "end_time": "2023-08-12T20:10:01.782246",
     "exception": false,
     "start_time": "2023-08-12T20:10:01.668622",
     "status": "completed"
    },
    "tags": []
   },
   "outputs": [],
   "source": [
    "# LinearSCV on all available features\n",
    "\n",
    "# submit_v4(selected_model=LinearSVC(max_iter=100000, random_state=42), selected_features=all_dict, param_grid=param_grid_svc)\n",
    "\n",
    "# (Update): This took 66 mins to run and gave a public score of 0.84295 (lesser than logreg gridsearchcv wwhich gave 0.84441). Best C was 1.0.\n"
   ]
  },
  {
   "cell_type": "markdown",
   "id": "87cf852a",
   "metadata": {
    "papermill": {
     "duration": 0.10707,
     "end_time": "2023-08-12T20:10:01.996133",
     "exception": false,
     "start_time": "2023-08-12T20:10:01.889063",
     "status": "completed"
    },
    "tags": []
   },
   "source": [
    "### Boosting techniques  "
   ]
  },
  {
   "cell_type": "code",
   "execution_count": 119,
   "id": "c11d7eed",
   "metadata": {
    "execution": {
     "iopub.execute_input": "2023-08-12T20:10:02.211152Z",
     "iopub.status.busy": "2023-08-12T20:10:02.210672Z",
     "iopub.status.idle": "2023-08-12T20:10:02.215236Z",
     "shell.execute_reply": "2023-08-12T20:10:02.214259Z"
    },
    "papermill": {
     "duration": 0.11396,
     "end_time": "2023-08-12T20:10:02.217624",
     "exception": false,
     "start_time": "2023-08-12T20:10:02.103664",
     "status": "completed"
    },
    "tags": []
   },
   "outputs": [],
   "source": [
    "# adc = AdaBoostClassifier(estimator=LogisticRegression(C=5, solver=\"saga\", max_iter=100000), n_estimators=50)\n",
    "# adc"
   ]
  },
  {
   "cell_type": "code",
   "execution_count": 120,
   "id": "999b5ae9",
   "metadata": {
    "execution": {
     "iopub.execute_input": "2023-08-12T20:10:02.434932Z",
     "iopub.status.busy": "2023-08-12T20:10:02.434513Z",
     "iopub.status.idle": "2023-08-12T20:10:02.439357Z",
     "shell.execute_reply": "2023-08-12T20:10:02.438216Z"
    },
    "papermill": {
     "duration": 0.118432,
     "end_time": "2023-08-12T20:10:02.441903",
     "exception": false,
     "start_time": "2023-08-12T20:10:02.323471",
     "status": "completed"
    },
    "tags": []
   },
   "outputs": [],
   "source": [
    "# submit_v4(selected_model=adc, selected_features={'num': [\"audienceScore\"]}, param_grid=None)"
   ]
  },
  {
   "cell_type": "code",
   "execution_count": 121,
   "id": "af51aa03",
   "metadata": {
    "execution": {
     "iopub.execute_input": "2023-08-12T20:10:02.651137Z",
     "iopub.status.busy": "2023-08-12T20:10:02.650675Z",
     "iopub.status.idle": "2023-08-12T20:10:02.655523Z",
     "shell.execute_reply": "2023-08-12T20:10:02.654249Z"
    },
    "papermill": {
     "duration": 0.112636,
     "end_time": "2023-08-12T20:10:02.658087",
     "exception": false,
     "start_time": "2023-08-12T20:10:02.545451",
     "status": "completed"
    },
    "tags": []
   },
   "outputs": [],
   "source": [
    "# submit_v4(selected_model=adc, selected_features=all_dict, param_grid=None)\n",
    "\n",
    "# Took 1 hour 15 mins to run and gave a public score of only 0.71089. Discarded."
   ]
  },
  {
   "cell_type": "markdown",
   "id": "7ffe2162",
   "metadata": {
    "papermill": {
     "duration": 0.113547,
     "end_time": "2023-08-12T20:10:02.892850",
     "exception": false,
     "start_time": "2023-08-12T20:10:02.779303",
     "status": "completed"
    },
    "tags": []
   },
   "source": [
    "### LightGBM  "
   ]
  },
  {
   "cell_type": "code",
   "execution_count": 122,
   "id": "1330081f",
   "metadata": {
    "execution": {
     "iopub.execute_input": "2023-08-12T20:10:03.127491Z",
     "iopub.status.busy": "2023-08-12T20:10:03.126980Z",
     "iopub.status.idle": "2023-08-12T20:10:03.131885Z",
     "shell.execute_reply": "2023-08-12T20:10:03.130776Z"
    },
    "papermill": {
     "duration": 0.135838,
     "end_time": "2023-08-12T20:10:03.135368",
     "exception": false,
     "start_time": "2023-08-12T20:10:02.999530",
     "status": "completed"
    },
    "tags": []
   },
   "outputs": [],
   "source": [
    "# lgb = ltb.LGBMClassifier()\n",
    "# lgb"
   ]
  },
  {
   "cell_type": "code",
   "execution_count": 123,
   "id": "af8040ed",
   "metadata": {
    "execution": {
     "iopub.execute_input": "2023-08-12T20:10:03.380271Z",
     "iopub.status.busy": "2023-08-12T20:10:03.379044Z",
     "iopub.status.idle": "2023-08-12T20:10:03.384473Z",
     "shell.execute_reply": "2023-08-12T20:10:03.383718Z"
    },
    "papermill": {
     "duration": 0.118047,
     "end_time": "2023-08-12T20:10:03.387036",
     "exception": false,
     "start_time": "2023-08-12T20:10:03.268989",
     "status": "completed"
    },
    "tags": []
   },
   "outputs": [],
   "source": [
    "# Try LightGBM with default settings\n",
    "# (Update): Public score only 0.77713. It was fast, took less than 5 mins (without GridSearchCV)\n",
    "\n",
    "# submit_v4(selected_model=ltb.LGBMClassifier(), selected_features=all_dict, param_grid=None)"
   ]
  },
  {
   "cell_type": "markdown",
   "id": "5031364b",
   "metadata": {
    "papermill": {
     "duration": 0.105301,
     "end_time": "2023-08-12T20:10:03.600115",
     "exception": false,
     "start_time": "2023-08-12T20:10:03.494814",
     "status": "completed"
    },
    "tags": []
   },
   "source": [
    "## Feature Engineering"
   ]
  },
  {
   "cell_type": "markdown",
   "id": "033736a1",
   "metadata": {
    "papermill": {
     "duration": 0.10354,
     "end_time": "2023-08-12T20:10:03.811125",
     "exception": false,
     "start_time": "2023-08-12T20:10:03.707585",
     "status": "completed"
    },
    "tags": []
   },
   "source": [
    "### Plan  \n",
    "* Add a new column 'reviewWC' which has word count of 'reviewText'  \n",
    "    * Check if there is any relationship between 'reviewWC' and 'sentiment'\n",
    "* Work on vocabulary\n",
    "     * Use TfidfVectorizer and find out the vocabulary of 'reviewText' column for various ngrams\n",
    "     * Use RecursiveFeatureElimination (RFE) or RFECV to select 1000 top words/vocab for each ngram\n",
    "     * Use the final vocab (1000-3000 words) in the model and see how it performs compared to whole vocab\n",
    "\n",
    "`(Update): Code incorporated into the \"select_features\" function  `  \n",
    "`(Update): Many other new features incorporated into the \"select_features\" function too  `  \n",
    "\n"
   ]
  },
  {
   "cell_type": "markdown",
   "id": "da987111",
   "metadata": {
    "papermill": {
     "duration": 0.108997,
     "end_time": "2023-08-12T20:10:04.097953",
     "exception": false,
     "start_time": "2023-08-12T20:10:03.988956",
     "status": "completed"
    },
    "tags": []
   },
   "source": [
    "# Back to vocab after success of version 63  "
   ]
  },
  {
   "cell_type": "code",
   "execution_count": 124,
   "id": "628eb837",
   "metadata": {
    "execution": {
     "iopub.execute_input": "2023-08-12T20:10:04.311510Z",
     "iopub.status.busy": "2023-08-12T20:10:04.311110Z",
     "iopub.status.idle": "2023-08-12T20:10:04.334943Z",
     "shell.execute_reply": "2023-08-12T20:10:04.333676Z"
    },
    "papermill": {
     "duration": 0.133971,
     "end_time": "2023-08-12T20:10:04.337374",
     "exception": false,
     "start_time": "2023-08-12T20:10:04.203403",
     "status": "completed"
    },
    "tags": []
   },
   "outputs": [],
   "source": [
    "def submit_v4(selected_model=LogisticRegression(C=1, solver='liblinear', max_iter=100000), \n",
    "              selected_features={'txt': ['reviewText']}, \n",
    "              param_grid=None,\n",
    "              vocab=None,\n",
    "              vocab_usage='tfidf',\n",
    "              strip_accents='unicode', \n",
    "              add_countvec=False):\n",
    "    \n",
    "    print(\"\\nRunning the submit_v4 function...\")\n",
    "    \n",
    "    # Fine tune selected_features\n",
    "    if add_countvec:\n",
    "        if 'txt' in selected_features.keys():\n",
    "            if \"reviewText_2\" not in selected_features['txt']:\n",
    "                selected_features['txt'].append('reviewText_2')\n",
    "    if vocab:\n",
    "        if 'txt' in selected_features.keys():\n",
    "            if \"reviewText_3\" not in selected_features['txt']:\n",
    "                selected_features['txt'].append('reviewText_3')\n",
    "    print(f\"\\nSelected features: {selected_features}\")\n",
    "\n",
    "    \n",
    "    \n",
    "    # Build Pipeline\n",
    "    pipe = build_pipeline(selected_model, selected_features, param_grid=param_grid, \n",
    "                          vocab=vocab, vocab_usage='tfidf', \n",
    "                          strip_accents=strip_accents, add_countvec=add_countvec)\n",
    "    print(pipe)\n",
    "\n",
    "    \n",
    "    \n",
    "    # Features list\n",
    "    features = []\n",
    "    for item in selected_features.values():\n",
    "        features.extend(item)\n",
    " \n",
    "\n",
    "    # Merge and preprocess train and movies data  \n",
    "    merged = select_features(load_csv(\"train\"), load_csv(\"movies\"), row_thresh_null=None)    # Decide if you want to drop any rows containing lot of nulls\n",
    "    # Impute missing numerical values  \n",
    "    # Simple Imputer for ['audienceScore', 'runtimeMinutes', 'boxOffice'] and 'releaseDate' columns\n",
    "    si = SimpleImputer(strategy='median')\n",
    "    merged[['audienceScore', 'runtimeMinutes', 'boxOffice']] = si.fit_transform(merged[['audienceScore', 'runtimeMinutes', 'boxOffice']])\n",
    "    merged['releaseDate'] = merged[\"releaseDate\"].fillna(merged[\"releaseDate\"].median())    \n",
    "    # Add new columns as needed  \n",
    "    if add_countvec:\n",
    "        merged['reviewText_2'] = merged['reviewText']\n",
    "    if vocab:\n",
    "        merged['reviewText_3'] = merged['reviewText']\n",
    "        \n",
    "    X_train = merged.drop(labels=\"sentiment\", axis=1)\n",
    "    y_train = merged[\"sentiment\"]\n",
    "\n",
    "    X_train = X_train[features]\n",
    "    \n",
    "    \n",
    "    # Check1\n",
    "    print(\"\\nCheck 1 complete.\")\n",
    "    print(f\"Shape of X_train: {X_train.shape}\")\n",
    "    print(f\"Features in X_train: {X_train.columns}\")\n",
    "#     print(X_train.head())\n",
    "    \n",
    "    \n",
    "    # Fit \n",
    "    print(\"\\nTraining started with full pipeline...\")\n",
    "    pipe.fit(X_train, y_train)\n",
    "    \n",
    "    # Check2\n",
    "    print(\"\\nCheck 2 complete.\")\n",
    "    print(\"Details of the best model using full pipeline (GridSearchCV) on X_train: \")\n",
    "    print(f\"Best Params: {pipe.best_params_}\")\n",
    "    print(f\"Best Score: {pipe.best_score_}\")\n",
    "    \n",
    "    print(predict_on_missing_review_data(pipe, features, merged))    # Function defined above\n",
    "    \n",
    "        \n",
    "    # Predict on test.csv file\n",
    "    \n",
    "    # Merge and preprocess test and movies data  \n",
    "    merged_test = select_features(load_csv(\"test\"), load_csv(\"movies\"))\n",
    "    # Transform ['audienceScore', 'runtimeMinutes', 'boxOffice'] columns in merged_test using 'si' fitted on 'merged' df  \n",
    "    merged_test[['audienceScore', 'runtimeMinutes', 'boxOffice']] = si.transform(merged_test[['audienceScore', 'runtimeMinutes', 'boxOffice']])\n",
    "    # Fill 'releaseDate' column in 'merged_test' df with median from the train (merged) df  \n",
    "    merged_test['releaseDate'] = merged_test[\"releaseDate\"].fillna(merged[\"releaseDate\"].median())\n",
    "    # Add new columns as needed \n",
    "    if add_countvec:\n",
    "        merged_test['reviewText_2'] = merged_test['reviewText']\n",
    "    if vocab:\n",
    "        merged_test['reviewText_3'] = merged_test['reviewText']\n",
    "        \n",
    "    X_test = merged_test.copy()\n",
    "\n",
    "    X_test = X_test[features]\n",
    "    \n",
    "    \n",
    "    # Check3\n",
    "    print(\"\\nCheck 3 complete.\")\n",
    "    print(f\"Shape of X_test: {X_test.shape}\")\n",
    "    print(f\"Features in X_test: {X_test.columns}\")\n",
    "#     print(X_test.head())\n",
    "    \n",
    "    y_pred = pipe.predict(X_test)\n",
    "    \n",
    "    # Check4\n",
    "    print(\"\\nCheck 4 complete.\")\n",
    "#     cv_results_df = pd.DataFrame(pipe.cv_results_)\n",
    "    print(\"Details of the best model using full pipeline (GridSearchCV) on X_train: \")\n",
    "    print(f\"Best Estimator: {pipe.best_estimator_}\")\n",
    "    print(f\"Best Params: {pipe.best_params_}\")\n",
    "    print(f\"Best Score: {pipe.best_score_}\")\n",
    "    print(f\"Best Index: {pipe.best_index_}\")\n",
    "    print(f\"Refit Time: {pipe.refit_time_}\")\n",
    "#     print(f\"Shape of CV results dataframe: {cv_results_df.shape}\")\n",
    "    \n",
    "    pred_df = pd.DataFrame(y_pred)\n",
    "    pred_df.columns = [\"sentiment\"]\n",
    "    pred_df.index.name = \"id\"\n",
    "    pred_df.to_csv(\"submission.csv\")\n",
    "    \n",
    "    print(\"\\nSuccessfully created the submission file!!!\")\n",
    "    \n",
    "    return pipe.cv_results_"
   ]
  },
  {
   "cell_type": "code",
   "execution_count": 125,
   "id": "2171ded4",
   "metadata": {
    "execution": {
     "iopub.execute_input": "2023-08-12T20:10:04.546325Z",
     "iopub.status.busy": "2023-08-12T20:10:04.545888Z",
     "iopub.status.idle": "2023-08-12T20:10:04.553407Z",
     "shell.execute_reply": "2023-08-12T20:10:04.552436Z"
    },
    "papermill": {
     "duration": 0.114376,
     "end_time": "2023-08-12T20:10:04.555579",
     "exception": false,
     "start_time": "2023-08-12T20:10:04.441203",
     "status": "completed"
    },
    "tags": []
   },
   "outputs": [
    {
     "data": {
      "text/plain": [
       "Index(['movieid', 'reviewerName', 'isFrequentReviewer', 'reviewText',\n",
       "       'sentiment', 'title', 'audienceScore', 'rating', 'ratingContents',\n",
       "       'releaseDateTheaters', 'releaseDateStreaming', 'runtimeMinutes',\n",
       "       'genre', 'originalLanguage', 'director', 'boxOffice', 'distributor',\n",
       "       'soundType', 'reviewYN', 'reviewWC', 'genreSorted', 'rcSorted',\n",
       "       'releaseDate', 'releaseYear', 'releaseMonth', 'releaseDiff'],\n",
       "      dtype='object')"
      ]
     },
     "execution_count": 125,
     "metadata": {},
     "output_type": "execute_result"
    }
   ],
   "source": [
    "merged.columns"
   ]
  },
  {
   "cell_type": "code",
   "execution_count": 126,
   "id": "47817509",
   "metadata": {
    "execution": {
     "iopub.execute_input": "2023-08-12T20:10:04.767585Z",
     "iopub.status.busy": "2023-08-12T20:10:04.767189Z",
     "iopub.status.idle": "2023-08-12T20:10:04.777728Z",
     "shell.execute_reply": "2023-08-12T20:10:04.776793Z"
    },
    "papermill": {
     "duration": 0.120169,
     "end_time": "2023-08-12T20:10:04.780254",
     "exception": false,
     "start_time": "2023-08-12T20:10:04.660085",
     "status": "completed"
    },
    "tags": []
   },
   "outputs": [],
   "source": [
    "# Best #2\n",
    "v80_dict = {'cat': ['isFrequentReviewer', 'audScoreBins', 'boxOfficeBins'], \n",
    "                  'txt': ['reviewText', 'reviewerName', 'movieid', 'genre', 'director', \n",
    "                          'ratingContents', 'distributor']}\n",
    "# Best #1\n",
    "v88_dict = {'cat': ['isFrequentReviewer', 'audScoreBins', 'boxOfficeBins'],\n",
    "            'num': ['releaseDiff'],\n",
    "            'txt': ['reviewText', 'reviewerName', 'movieid', 'genre', 'director', \n",
    "                         'ratingContents', 'distributor']}\n",
    "\n",
    "v92_dict = {'cat': ['isFrequentReviewer', 'audScoreBins', 'boxOfficeBins', 'releaseDiffBins'],\n",
    "            'txt': ['reviewText', 'reviewerName', 'title', 'genre', 'director', \n",
    "                         'ratingContents', 'distributor']}\n",
    "\n",
    "# Best univariable datapoints dict\n",
    "best_uni_dict = {'cat': [\"isFrequentReviewer\", \"audScoreBins\"],\n",
    "                 'txt': ['reviewText','movieid', 'director', \"ratingContents\"]}\n",
    "\n",
    "# param_grids for LogisticRegression  \n",
    "\n",
    "# Best #1  \n",
    "# param_grid = {\n",
    "#     'model__C' : [1],\n",
    "#     'model__solver': ['saga'],\n",
    "#     \"model__fit_intercept\" : [True],\n",
    "#     \"model__dual\" : [False]\n",
    "#     }\n",
    "\n",
    "# working\n",
    "param_grid = {\n",
    "    'model__C' : [1],\n",
    "    'model__solver': ['saga'],\n",
    "    \"model__fit_intercept\" : [True],\n",
    "    \"model__dual\" : [False],\n",
    "#     \"model__class_weight\": ['balanced', None]\n",
    "}\n",
    "\n",
    "\n",
    "# param_grids for LinearSVC  \n",
    "\n",
    "# param_grid = {\n",
    "#     'model__C' : [1, 10, 20],\n",
    "#     'model__loss': ['hinge', 'squared_hinge'],\n",
    "#     \"model__fit_intercept\" : [True, False],\n",
    "# #     \"model__dual\" : [True, False] \n",
    "# }\n",
    "\n",
    "svm = LinearSVC(max_iter=10000, random_state=42)    # LinearSVC\n",
    "\n",
    "\n",
    "# Local testing\n",
    "# selected_mov = {'num': ['audienceScore', 'boxOffice', 'releaseDiff'], \n",
    "#                 'txt': ['movieid', 'genre', 'director', \n",
    "#                          'ratingContents', 'distributor']}\n",
    "# results = submit_v4(\n",
    "#             selected_features={'num': ['boxOffice']},\n",
    "#             add_countvec=False,\n",
    "#             vocab=None,\n",
    "#             vocab_usage='tfidf',\n",
    "#             param_grid=param_grid\n",
    "#          )\n",
    "\n",
    "# results = submit_v4(selected_model = DummyClassifier(strategy='constant', constant='NEGATIVE'),\n",
    "#             selected_features={'num': ['boxOffice']},\n",
    "#             add_countvec=False,\n",
    "#             vocab=None,\n",
    "#             vocab_usage='tfidf',\n",
    "#             param_grid={'model__strategy' : ['constant']}\n",
    "#          )\n",
    "\n",
    "# Main submission\n",
    "\n",
    "# results = submit_v4(\n",
    "#     selected_features=v88_dict,\n",
    "#     add_countvec=False,\n",
    "#     vocab=common_1_2_3_grams,\n",
    "#     vocab_usage='tfidf',\n",
    "#     param_grid=param_grid\n",
    "#     )\n",
    "\n",
    "# results"
   ]
  },
  {
   "cell_type": "markdown",
   "id": "46eeb3b0",
   "metadata": {
    "papermill": {
     "duration": 0.104211,
     "end_time": "2023-08-12T20:10:04.990438",
     "exception": false,
     "start_time": "2023-08-12T20:10:04.886227",
     "status": "completed"
    },
    "tags": []
   },
   "source": [
    "### ratingContents analysis  "
   ]
  },
  {
   "cell_type": "code",
   "execution_count": 127,
   "id": "8f88fd19",
   "metadata": {
    "execution": {
     "iopub.execute_input": "2023-08-12T20:10:05.200603Z",
     "iopub.status.busy": "2023-08-12T20:10:05.199524Z",
     "iopub.status.idle": "2023-08-12T20:10:05.204862Z",
     "shell.execute_reply": "2023-08-12T20:10:05.203769Z"
    },
    "papermill": {
     "duration": 0.1122,
     "end_time": "2023-08-12T20:10:05.207132",
     "exception": false,
     "start_time": "2023-08-12T20:10:05.094932",
     "status": "completed"
    },
    "tags": []
   },
   "outputs": [],
   "source": [
    "# Try string split  \n",
    "# s = \"comedy, animation, adventure, fantasy\"\n",
    "# (\",\").join(sorted(s.split(\", \")))"
   ]
  },
  {
   "cell_type": "code",
   "execution_count": 128,
   "id": "93df2ea7",
   "metadata": {
    "execution": {
     "iopub.execute_input": "2023-08-12T20:10:05.420936Z",
     "iopub.status.busy": "2023-08-12T20:10:05.420473Z",
     "iopub.status.idle": "2023-08-12T20:10:05.425745Z",
     "shell.execute_reply": "2023-08-12T20:10:05.424596Z"
    },
    "papermill": {
     "duration": 0.115878,
     "end_time": "2023-08-12T20:10:05.428201",
     "exception": false,
     "start_time": "2023-08-12T20:10:05.312323",
     "status": "completed"
    },
    "tags": []
   },
   "outputs": [],
   "source": [
    "# ratingContents_analysis = merged[[\"ratingContents\", \"sentiment\"]].copy()\n",
    "# print(ratingContents_analysis.head())\n",
    "# ratingContents_analysis[\"rcSorted\"] = ratingContents_analysis[\"ratingContents\"].apply(lambda x: (\",\").join(sorted(x.strip(\"][\").split(\", \"))))\n",
    "# ratingContents_analysis[\"rcSorted\"] = ratingContents_analysis[\"rcSorted\"].apply(lambda x: re.sub(r\"'\", \"\", x))\n",
    "# ratingContents_analysis[\"rcSorted\"] = ratingContents_analysis[\"rcSorted\"].apply(lambda x: re.sub(r\"[/\\s]\", \"_\", x))\n",
    "# ratingContents_analysis.head(10)"
   ]
  },
  {
   "cell_type": "code",
   "execution_count": 129,
   "id": "fdab1c61",
   "metadata": {
    "execution": {
     "iopub.execute_input": "2023-08-12T20:10:05.644483Z",
     "iopub.status.busy": "2023-08-12T20:10:05.644040Z",
     "iopub.status.idle": "2023-08-12T20:10:05.649146Z",
     "shell.execute_reply": "2023-08-12T20:10:05.647957Z"
    },
    "papermill": {
     "duration": 0.11608,
     "end_time": "2023-08-12T20:10:05.651541",
     "exception": false,
     "start_time": "2023-08-12T20:10:05.535461",
     "status": "completed"
    },
    "tags": []
   },
   "outputs": [],
   "source": [
    "# cvec_rc = CountVectorizer(ngram_range=(1,1))\n",
    "# cvec_rc.fit(ratingContents_analysis['rcSorted'])\n",
    "# # len(cvec_rc.vocabulary_), cvec_rc.vocabulary_"
   ]
  },
  {
   "cell_type": "code",
   "execution_count": 130,
   "id": "308148ff",
   "metadata": {
    "execution": {
     "iopub.execute_input": "2023-08-12T20:10:05.864645Z",
     "iopub.status.busy": "2023-08-12T20:10:05.864258Z",
     "iopub.status.idle": "2023-08-12T20:10:05.867863Z",
     "shell.execute_reply": "2023-08-12T20:10:05.867034Z"
    },
    "papermill": {
     "duration": 0.114366,
     "end_time": "2023-08-12T20:10:05.870036",
     "exception": false,
     "start_time": "2023-08-12T20:10:05.755670",
     "status": "completed"
    },
    "tags": []
   },
   "outputs": [],
   "source": [
    "# genre_testing = cvec_g.transform(merged[\"genre\"])\n",
    "# print(genre_testing)"
   ]
  },
  {
   "cell_type": "markdown",
   "id": "3e751a07",
   "metadata": {
    "papermill": {
     "duration": 0.104467,
     "end_time": "2023-08-12T20:10:06.081914",
     "exception": false,
     "start_time": "2023-08-12T20:10:05.977447",
     "status": "completed"
    },
    "tags": []
   },
   "source": [
    "## Statistical tests  "
   ]
  },
  {
   "cell_type": "markdown",
   "id": "19a4efce",
   "metadata": {
    "papermill": {
     "duration": 0.107451,
     "end_time": "2023-08-12T20:10:06.298981",
     "exception": false,
     "start_time": "2023-08-12T20:10:06.191530",
     "status": "completed"
    },
    "tags": []
   },
   "source": [
    "[Go to genre](#genre_analysis)"
   ]
  },
  {
   "cell_type": "code",
   "execution_count": 131,
   "id": "d699da18",
   "metadata": {
    "execution": {
     "iopub.execute_input": "2023-08-12T20:10:06.514410Z",
     "iopub.status.busy": "2023-08-12T20:10:06.514011Z",
     "iopub.status.idle": "2023-08-12T20:10:06.517604Z",
     "shell.execute_reply": "2023-08-12T20:10:06.516775Z"
    },
    "papermill": {
     "duration": 0.114194,
     "end_time": "2023-08-12T20:10:06.519756",
     "exception": false,
     "start_time": "2023-08-12T20:10:06.405562",
     "status": "completed"
    },
    "tags": []
   },
   "outputs": [],
   "source": [
    "# print(merged['boxOffice'].head())\n",
    "# merged[\"boxOffice\"].describe()"
   ]
  },
  {
   "cell_type": "code",
   "execution_count": 132,
   "id": "651d7c3e",
   "metadata": {
    "execution": {
     "iopub.execute_input": "2023-08-12T20:10:06.732011Z",
     "iopub.status.busy": "2023-08-12T20:10:06.731575Z",
     "iopub.status.idle": "2023-08-12T20:10:06.736165Z",
     "shell.execute_reply": "2023-08-12T20:10:06.735135Z"
    },
    "papermill": {
     "duration": 0.114667,
     "end_time": "2023-08-12T20:10:06.738350",
     "exception": false,
     "start_time": "2023-08-12T20:10:06.623683",
     "status": "completed"
    },
    "tags": []
   },
   "outputs": [],
   "source": [
    "# Function for independent samples t-test on numerical columns  \n",
    "# def ttest_ind(feature):\n",
    "#     pos_grp = merged[feature].loc[merged['sentiment'] == \"POSITIVE\"]\n",
    "#     neg_grp = merged[feature].loc[merged['sentiment'] == \"NEGATIVE\"]\n",
    "\n",
    "#     print(pos_grp.shape, neg_grp.shape)\n",
    "#     print(pos_grp.describe(), neg_grp.describe())\n",
    "\n",
    "#     return stats.ttest_ind(pos_grp, neg_grp)"
   ]
  },
  {
   "cell_type": "code",
   "execution_count": 133,
   "id": "26363354",
   "metadata": {
    "execution": {
     "iopub.execute_input": "2023-08-12T20:10:06.948905Z",
     "iopub.status.busy": "2023-08-12T20:10:06.948466Z",
     "iopub.status.idle": "2023-08-12T20:10:06.953415Z",
     "shell.execute_reply": "2023-08-12T20:10:06.952216Z"
    },
    "papermill": {
     "duration": 0.113571,
     "end_time": "2023-08-12T20:10:06.955973",
     "exception": false,
     "start_time": "2023-08-12T20:10:06.842402",
     "status": "completed"
    },
    "tags": []
   },
   "outputs": [],
   "source": [
    "# ttest_ind('boxOffice')"
   ]
  },
  {
   "cell_type": "code",
   "execution_count": 134,
   "id": "42dedf28",
   "metadata": {
    "execution": {
     "iopub.execute_input": "2023-08-12T20:10:07.169477Z",
     "iopub.status.busy": "2023-08-12T20:10:07.169076Z",
     "iopub.status.idle": "2023-08-12T20:10:07.173389Z",
     "shell.execute_reply": "2023-08-12T20:10:07.172422Z"
    },
    "papermill": {
     "duration": 0.113653,
     "end_time": "2023-08-12T20:10:07.175519",
     "exception": false,
     "start_time": "2023-08-12T20:10:07.061866",
     "status": "completed"
    },
    "tags": []
   },
   "outputs": [],
   "source": [
    "# ttest_ind('runtimeMinutes')"
   ]
  },
  {
   "cell_type": "code",
   "execution_count": 135,
   "id": "7512d70b",
   "metadata": {
    "execution": {
     "iopub.execute_input": "2023-08-12T20:10:07.389713Z",
     "iopub.status.busy": "2023-08-12T20:10:07.389254Z",
     "iopub.status.idle": "2023-08-12T20:10:07.394174Z",
     "shell.execute_reply": "2023-08-12T20:10:07.393034Z"
    },
    "papermill": {
     "duration": 0.116002,
     "end_time": "2023-08-12T20:10:07.396603",
     "exception": false,
     "start_time": "2023-08-12T20:10:07.280601",
     "status": "completed"
    },
    "tags": []
   },
   "outputs": [],
   "source": [
    "# ttest_ind('audienceScore')"
   ]
  },
  {
   "cell_type": "code",
   "execution_count": 136,
   "id": "83b90709",
   "metadata": {
    "execution": {
     "iopub.execute_input": "2023-08-12T20:10:07.608090Z",
     "iopub.status.busy": "2023-08-12T20:10:07.607645Z",
     "iopub.status.idle": "2023-08-12T20:10:07.612585Z",
     "shell.execute_reply": "2023-08-12T20:10:07.611275Z"
    },
    "papermill": {
     "duration": 0.113854,
     "end_time": "2023-08-12T20:10:07.615120",
     "exception": false,
     "start_time": "2023-08-12T20:10:07.501266",
     "status": "completed"
    },
    "tags": []
   },
   "outputs": [],
   "source": [
    "# sns.boxplot(x=merged['sentiment'], y=merged['boxOffice'])"
   ]
  },
  {
   "cell_type": "markdown",
   "id": "7a0e0ed9",
   "metadata": {
    "papermill": {
     "duration": 0.103514,
     "end_time": "2023-08-12T20:10:07.822085",
     "exception": false,
     "start_time": "2023-08-12T20:10:07.718571",
     "status": "completed"
    },
    "tags": []
   },
   "source": [
    "## <div id='genre_analysis'>Genre analysis</div>"
   ]
  },
  {
   "cell_type": "code",
   "execution_count": 137,
   "id": "8220d14b",
   "metadata": {
    "execution": {
     "iopub.execute_input": "2023-08-12T20:10:08.033360Z",
     "iopub.status.busy": "2023-08-12T20:10:08.032974Z",
     "iopub.status.idle": "2023-08-12T20:10:08.037769Z",
     "shell.execute_reply": "2023-08-12T20:10:08.036576Z"
    },
    "papermill": {
     "duration": 0.111778,
     "end_time": "2023-08-12T20:10:08.040200",
     "exception": false,
     "start_time": "2023-08-12T20:10:07.928422",
     "status": "completed"
    },
    "tags": []
   },
   "outputs": [],
   "source": [
    "# genre_analysis = merged[[\"genre\", \"genreSorted\", \"sentiment\"]].copy()\n",
    "# # print(genre_analysis.head())\n",
    "# # genre_analysis[\"genre\"] = genre_analysis[\"genre\"].apply(lambda x: (\",\").join(sorted(x.split(\", \"))))\n",
    "# genre_analysis.head()"
   ]
  },
  {
   "cell_type": "code",
   "execution_count": 138,
   "id": "5e4b9ddb",
   "metadata": {
    "execution": {
     "iopub.execute_input": "2023-08-12T20:10:08.251198Z",
     "iopub.status.busy": "2023-08-12T20:10:08.250808Z",
     "iopub.status.idle": "2023-08-12T20:10:08.255678Z",
     "shell.execute_reply": "2023-08-12T20:10:08.254476Z"
    },
    "papermill": {
     "duration": 0.113346,
     "end_time": "2023-08-12T20:10:08.257855",
     "exception": false,
     "start_time": "2023-08-12T20:10:08.144509",
     "status": "completed"
    },
    "tags": []
   },
   "outputs": [],
   "source": [
    "# cvec_g = CountVectorizer(ngram_range=(1,3))\n",
    "# cvec_g.fit(genre_analysis['genre'])\n",
    "# # len(cvec_g.vocabulary_), cvec_g.vocabulary_"
   ]
  },
  {
   "cell_type": "code",
   "execution_count": 139,
   "id": "236dcc95",
   "metadata": {
    "execution": {
     "iopub.execute_input": "2023-08-12T20:10:08.472367Z",
     "iopub.status.busy": "2023-08-12T20:10:08.471849Z",
     "iopub.status.idle": "2023-08-12T20:10:08.477124Z",
     "shell.execute_reply": "2023-08-12T20:10:08.475965Z"
    },
    "papermill": {
     "duration": 0.112768,
     "end_time": "2023-08-12T20:10:08.479455",
     "exception": false,
     "start_time": "2023-08-12T20:10:08.366687",
     "status": "completed"
    },
    "tags": []
   },
   "outputs": [],
   "source": [
    "# cvec_gSorted = CountVectorizer(ngram_range=(1,3))\n",
    "# cvec_gSorted.fit(genre_analysis['genreSorted'])\n",
    "# len(cvec_gSorted.vocabulary_), cvec_gSorted.vocabulary_"
   ]
  },
  {
   "cell_type": "code",
   "execution_count": 140,
   "id": "7c844876",
   "metadata": {
    "execution": {
     "iopub.execute_input": "2023-08-12T20:10:08.689217Z",
     "iopub.status.busy": "2023-08-12T20:10:08.688821Z",
     "iopub.status.idle": "2023-08-12T20:10:08.693425Z",
     "shell.execute_reply": "2023-08-12T20:10:08.692355Z"
    },
    "papermill": {
     "duration": 0.111824,
     "end_time": "2023-08-12T20:10:08.695650",
     "exception": false,
     "start_time": "2023-08-12T20:10:08.583826",
     "status": "completed"
    },
    "tags": []
   },
   "outputs": [],
   "source": [
    "# genre_testing = cvec_g.transform(merged[\"genre\"])\n",
    "# # print(genre_testing)"
   ]
  },
  {
   "cell_type": "code",
   "execution_count": 141,
   "id": "006d2786",
   "metadata": {
    "execution": {
     "iopub.execute_input": "2023-08-12T20:10:08.906637Z",
     "iopub.status.busy": "2023-08-12T20:10:08.906243Z",
     "iopub.status.idle": "2023-08-12T20:10:08.911171Z",
     "shell.execute_reply": "2023-08-12T20:10:08.909867Z"
    },
    "papermill": {
     "duration": 0.114095,
     "end_time": "2023-08-12T20:10:08.913584",
     "exception": false,
     "start_time": "2023-08-12T20:10:08.799489",
     "status": "completed"
    },
    "tags": []
   },
   "outputs": [],
   "source": [
    "# genre_counts_testing = merged[[\"genre\", \"sentiment\"]].copy()\n",
    "# genre_counts_testing[\"gCount\"] = genre_counts_testing.apply(lambda x: len(str(x[\"genre\"]).split()), axis=1)\n",
    "# genre_counts_testing"
   ]
  },
  {
   "cell_type": "code",
   "execution_count": 142,
   "id": "a57ccf49",
   "metadata": {
    "execution": {
     "iopub.execute_input": "2023-08-12T20:10:09.126231Z",
     "iopub.status.busy": "2023-08-12T20:10:09.125840Z",
     "iopub.status.idle": "2023-08-12T20:10:09.130999Z",
     "shell.execute_reply": "2023-08-12T20:10:09.129638Z"
    },
    "papermill": {
     "duration": 0.11364,
     "end_time": "2023-08-12T20:10:09.133538",
     "exception": false,
     "start_time": "2023-08-12T20:10:09.019898",
     "status": "completed"
    },
    "tags": []
   },
   "outputs": [],
   "source": [
    "# sns.boxplot(y=genre_counts_testing[\"gCount\"], x=genre_counts_testing[\"sentiment\"])"
   ]
  },
  {
   "cell_type": "code",
   "execution_count": 143,
   "id": "5db8d9db",
   "metadata": {
    "execution": {
     "iopub.execute_input": "2023-08-12T20:10:09.348637Z",
     "iopub.status.busy": "2023-08-12T20:10:09.346834Z",
     "iopub.status.idle": "2023-08-12T20:10:09.353212Z",
     "shell.execute_reply": "2023-08-12T20:10:09.351710Z"
    },
    "papermill": {
     "duration": 0.116771,
     "end_time": "2023-08-12T20:10:09.355927",
     "exception": false,
     "start_time": "2023-08-12T20:10:09.239156",
     "status": "completed"
    },
    "tags": []
   },
   "outputs": [],
   "source": [
    "# sns.boxplot(y=merged[\"reviewWC\"], x=merged[\"sentiment\"])"
   ]
  },
  {
   "cell_type": "code",
   "execution_count": 144,
   "id": "1ade8341",
   "metadata": {
    "execution": {
     "iopub.execute_input": "2023-08-12T20:10:09.567219Z",
     "iopub.status.busy": "2023-08-12T20:10:09.566793Z",
     "iopub.status.idle": "2023-08-12T20:10:09.571920Z",
     "shell.execute_reply": "2023-08-12T20:10:09.570650Z"
    },
    "papermill": {
     "duration": 0.114015,
     "end_time": "2023-08-12T20:10:09.574146",
     "exception": false,
     "start_time": "2023-08-12T20:10:09.460131",
     "status": "completed"
    },
    "tags": []
   },
   "outputs": [],
   "source": [
    "# audienceScore bins\n",
    "# asc = merged[['audienceScore', 'sentiment']].copy()\n",
    "# asc.head()"
   ]
  },
  {
   "cell_type": "code",
   "execution_count": 145,
   "id": "0c7409c6",
   "metadata": {
    "execution": {
     "iopub.execute_input": "2023-08-12T20:10:09.788243Z",
     "iopub.status.busy": "2023-08-12T20:10:09.787853Z",
     "iopub.status.idle": "2023-08-12T20:10:09.792321Z",
     "shell.execute_reply": "2023-08-12T20:10:09.791194Z"
    },
    "papermill": {
     "duration": 0.11392,
     "end_time": "2023-08-12T20:10:09.794484",
     "exception": false,
     "start_time": "2023-08-12T20:10:09.680564",
     "status": "completed"
    },
    "tags": []
   },
   "outputs": [],
   "source": [
    "# Binning numerical features  \n",
    "\n",
    "# print(merged[\"runtimeBins\"].value_counts())\n",
    "# sns.displot(merged[\"runtimeBins\"])"
   ]
  },
  {
   "cell_type": "code",
   "execution_count": 146,
   "id": "a6990528",
   "metadata": {
    "execution": {
     "iopub.execute_input": "2023-08-12T20:10:10.007722Z",
     "iopub.status.busy": "2023-08-12T20:10:10.007287Z",
     "iopub.status.idle": "2023-08-12T20:10:10.012081Z",
     "shell.execute_reply": "2023-08-12T20:10:10.010791Z"
    },
    "papermill": {
     "duration": 0.113644,
     "end_time": "2023-08-12T20:10:10.014681",
     "exception": false,
     "start_time": "2023-08-12T20:10:09.901037",
     "status": "completed"
    },
    "tags": []
   },
   "outputs": [],
   "source": [
    "# Chi-square test for isFrequentReviewer column and sentiment column   \n",
    "\n",
    "# contingency_table = pd.crosstab(traindf['isFrequentReviewer'], traindf['sentiment'])\n",
    "# print(contingency_table)\n",
    "# stats.chi2_contingency(contingency_table)"
   ]
  },
  {
   "cell_type": "markdown",
   "id": "846a3673",
   "metadata": {
    "papermill": {
     "duration": 0.104757,
     "end_time": "2023-08-12T20:10:10.224754",
     "exception": false,
     "start_time": "2023-08-12T20:10:10.119997",
     "status": "completed"
    },
    "tags": []
   },
   "source": [
    "## Baseline performance of 'reviewText' column  "
   ]
  },
  {
   "cell_type": "code",
   "execution_count": 147,
   "id": "76b4a679",
   "metadata": {
    "execution": {
     "iopub.execute_input": "2023-08-12T20:10:10.440367Z",
     "iopub.status.busy": "2023-08-12T20:10:10.439969Z",
     "iopub.status.idle": "2023-08-12T20:10:10.444375Z",
     "shell.execute_reply": "2023-08-12T20:10:10.443396Z"
    },
    "papermill": {
     "duration": 0.1158,
     "end_time": "2023-08-12T20:10:10.446424",
     "exception": false,
     "start_time": "2023-08-12T20:10:10.330624",
     "status": "completed"
    },
    "tags": []
   },
   "outputs": [],
   "source": [
    "# rt_dict = {'txt': ['reviewText']}\n",
    "# rt_dict"
   ]
  },
  {
   "cell_type": "code",
   "execution_count": 148,
   "id": "c4a3aee2",
   "metadata": {
    "execution": {
     "iopub.execute_input": "2023-08-12T20:10:10.662399Z",
     "iopub.status.busy": "2023-08-12T20:10:10.661975Z",
     "iopub.status.idle": "2023-08-12T20:10:10.667090Z",
     "shell.execute_reply": "2023-08-12T20:10:10.665746Z"
    },
    "papermill": {
     "duration": 0.115977,
     "end_time": "2023-08-12T20:10:10.669462",
     "exception": false,
     "start_time": "2023-08-12T20:10:10.553485",
     "status": "completed"
    },
    "tags": []
   },
   "outputs": [],
   "source": [
    "# submit_v4(selected_model=LogisticRegression(C=5, solver=\"saga\", max_iter=100000),\n",
    "#           selected_features=rt_dict,\n",
    "#           param_grid=None,\n",
    "#           vocab=None)"
   ]
  },
  {
   "cell_type": "markdown",
   "id": "26c46114",
   "metadata": {
    "papermill": {
     "duration": 0.109187,
     "end_time": "2023-08-12T20:10:10.884498",
     "exception": false,
     "start_time": "2023-08-12T20:10:10.775311",
     "status": "completed"
    },
    "tags": []
   },
   "source": [
    "## RFE  "
   ]
  },
  {
   "cell_type": "code",
   "execution_count": 149,
   "id": "91b40226",
   "metadata": {
    "execution": {
     "iopub.execute_input": "2023-08-12T20:10:11.101267Z",
     "iopub.status.busy": "2023-08-12T20:10:11.100850Z",
     "iopub.status.idle": "2023-08-12T20:10:11.106642Z",
     "shell.execute_reply": "2023-08-12T20:10:11.105320Z"
    },
    "papermill": {
     "duration": 0.118314,
     "end_time": "2023-08-12T20:10:11.110145",
     "exception": false,
     "start_time": "2023-08-12T20:10:10.991831",
     "status": "completed"
    },
    "tags": []
   },
   "outputs": [],
   "source": [
    "# def fs_rfe(selector, text_df, labels, ngram_range=(1,1)):\n",
    "#     text_df_ngram = TfidfVectorizer(ngram_range=ngram_range, stop_words='english').fit_transform(text_df)\n",
    "#     print(\"text_df was vectorized using TF-IDF vectorizer with ngram_range: \", ngram_range)\n",
    "#     print(\"text_df.shape: \", text_df.shape)\n",
    "#     print(\"labels.shape: \", labels.shape)\n",
    "#     print(\"text_df_ngram.shape: \", text_df_ngram.shape)\n",
    "#     print()\n",
    "\n",
    "#     print(\"Starting RFE fit...\")\n",
    "#     selector.fit(text_df_ngram, labels)\n",
    "#     print(\"RFE fit complete.\\n\")\n",
    "    \n",
    "#     print(\"selector.n_features_: \", selector.n_features_)   \n",
    "#     print(\"selector.n_features_in_: \", selector.n_features_in_)\n",
    "#     print(\"selector.support_.shape: \", selector.support_.shape)\n",
    "\n",
    "#     return selector.support_"
   ]
  },
  {
   "cell_type": "markdown",
   "id": "1f57db94",
   "metadata": {
    "papermill": {
     "duration": 0.104404,
     "end_time": "2023-08-12T20:10:11.321046",
     "exception": false,
     "start_time": "2023-08-12T20:10:11.216642",
     "status": "completed"
    },
    "tags": []
   },
   "source": [
    "`RFE for unigrams`  "
   ]
  },
  {
   "cell_type": "code",
   "execution_count": 150,
   "id": "3eb0b242",
   "metadata": {
    "execution": {
     "iopub.execute_input": "2023-08-12T20:10:11.534655Z",
     "iopub.status.busy": "2023-08-12T20:10:11.534249Z",
     "iopub.status.idle": "2023-08-12T20:10:11.539091Z",
     "shell.execute_reply": "2023-08-12T20:10:11.537818Z"
    },
    "papermill": {
     "duration": 0.112974,
     "end_time": "2023-08-12T20:10:11.541575",
     "exception": false,
     "start_time": "2023-08-12T20:10:11.428601",
     "status": "completed"
    },
    "tags": []
   },
   "outputs": [],
   "source": [
    "# estimator_rfe_1 = LogisticRegression(solver='saga', max_iter=100000)\n",
    "# selector_rfe_1 = RFE(estimator_rfe_1, step=0.1, n_features_to_select=30000)"
   ]
  },
  {
   "cell_type": "code",
   "execution_count": 151,
   "id": "f4f9af48",
   "metadata": {
    "execution": {
     "iopub.execute_input": "2023-08-12T20:10:11.750489Z",
     "iopub.status.busy": "2023-08-12T20:10:11.750090Z",
     "iopub.status.idle": "2023-08-12T20:10:11.755155Z",
     "shell.execute_reply": "2023-08-12T20:10:11.754150Z"
    },
    "papermill": {
     "duration": 0.112017,
     "end_time": "2023-08-12T20:10:11.757416",
     "exception": false,
     "start_time": "2023-08-12T20:10:11.645399",
     "status": "completed"
    },
    "tags": []
   },
   "outputs": [],
   "source": [
    "# rfe_1_feat_mask = fs_rfe(selector_rfe_1, rt_senti[\"reviewText\"], rt_senti[\"sentiment\"], ngram_range=(1,1))\n",
    "# rfe_1_feat_mask"
   ]
  },
  {
   "cell_type": "code",
   "execution_count": 152,
   "id": "7fec03d7",
   "metadata": {
    "execution": {
     "iopub.execute_input": "2023-08-12T20:10:11.969950Z",
     "iopub.status.busy": "2023-08-12T20:10:11.969513Z",
     "iopub.status.idle": "2023-08-12T20:10:11.973624Z",
     "shell.execute_reply": "2023-08-12T20:10:11.972761Z"
    },
    "papermill": {
     "duration": 0.111642,
     "end_time": "2023-08-12T20:10:11.975796",
     "exception": false,
     "start_time": "2023-08-12T20:10:11.864154",
     "status": "completed"
    },
    "tags": []
   },
   "outputs": [],
   "source": [
    "# voc_1gram_rfe = list(compress(voc_1gram, rfe_1_feat_mask))\n",
    "# len(voc_1gram_rfe), voc_1gram_rfe[:10]"
   ]
  },
  {
   "cell_type": "markdown",
   "id": "0ca4900f",
   "metadata": {
    "papermill": {
     "duration": 0.104001,
     "end_time": "2023-08-12T20:10:12.183885",
     "exception": false,
     "start_time": "2023-08-12T20:10:12.079884",
     "status": "completed"
    },
    "tags": []
   },
   "source": [
    "`RFE for bigrams`  "
   ]
  },
  {
   "cell_type": "code",
   "execution_count": 153,
   "id": "1a9ece9f",
   "metadata": {
    "execution": {
     "iopub.execute_input": "2023-08-12T20:10:12.399596Z",
     "iopub.status.busy": "2023-08-12T20:10:12.399129Z",
     "iopub.status.idle": "2023-08-12T20:10:12.404463Z",
     "shell.execute_reply": "2023-08-12T20:10:12.403178Z"
    },
    "papermill": {
     "duration": 0.119576,
     "end_time": "2023-08-12T20:10:12.407248",
     "exception": false,
     "start_time": "2023-08-12T20:10:12.287672",
     "status": "completed"
    },
    "tags": []
   },
   "outputs": [],
   "source": [
    "# estimator_rfe_2 = LogisticRegression(solver='saga', max_iter=100000)\n",
    "# selector_rfe_2 = RFE(estimator_rfe_2, step=0.1, n_features_to_select=50000)"
   ]
  },
  {
   "cell_type": "code",
   "execution_count": 154,
   "id": "ac934fda",
   "metadata": {
    "execution": {
     "iopub.execute_input": "2023-08-12T20:10:12.620908Z",
     "iopub.status.busy": "2023-08-12T20:10:12.620485Z",
     "iopub.status.idle": "2023-08-12T20:10:12.625250Z",
     "shell.execute_reply": "2023-08-12T20:10:12.624068Z"
    },
    "papermill": {
     "duration": 0.113611,
     "end_time": "2023-08-12T20:10:12.627531",
     "exception": false,
     "start_time": "2023-08-12T20:10:12.513920",
     "status": "completed"
    },
    "tags": []
   },
   "outputs": [],
   "source": [
    "# rfe_2_feat_mask = fs_rfe(selector_rfe_2, rt_senti[\"reviewText\"], rt_senti[\"sentiment\"], ngram_range=(2,2))\n",
    "# rfe_2_feat_mask"
   ]
  },
  {
   "cell_type": "code",
   "execution_count": 155,
   "id": "28ed0157",
   "metadata": {
    "execution": {
     "iopub.execute_input": "2023-08-12T20:10:12.840115Z",
     "iopub.status.busy": "2023-08-12T20:10:12.839678Z",
     "iopub.status.idle": "2023-08-12T20:10:12.844606Z",
     "shell.execute_reply": "2023-08-12T20:10:12.843278Z"
    },
    "papermill": {
     "duration": 0.113296,
     "end_time": "2023-08-12T20:10:12.847228",
     "exception": false,
     "start_time": "2023-08-12T20:10:12.733932",
     "status": "completed"
    },
    "tags": []
   },
   "outputs": [],
   "source": [
    "# voc_2gram_rfe = list(compress(voc_2gram, rfe_2_feat_mask))\n",
    "# len(voc_2gram_rfe), voc_2gram_rfe[:10]"
   ]
  },
  {
   "cell_type": "markdown",
   "id": "e4a4902c",
   "metadata": {
    "papermill": {
     "duration": 0.110701,
     "end_time": "2023-08-12T20:10:13.064353",
     "exception": false,
     "start_time": "2023-08-12T20:10:12.953652",
     "status": "completed"
    },
    "tags": []
   },
   "source": [
    "## Final RFE-derived vocabulary  "
   ]
  },
  {
   "cell_type": "code",
   "execution_count": 156,
   "id": "ef939715",
   "metadata": {
    "execution": {
     "iopub.execute_input": "2023-08-12T20:10:13.357374Z",
     "iopub.status.busy": "2023-08-12T20:10:13.356987Z",
     "iopub.status.idle": "2023-08-12T20:10:13.361369Z",
     "shell.execute_reply": "2023-08-12T20:10:13.360153Z"
    },
    "papermill": {
     "duration": 0.113792,
     "end_time": "2023-08-12T20:10:13.363846",
     "exception": false,
     "start_time": "2023-08-12T20:10:13.250054",
     "status": "completed"
    },
    "tags": []
   },
   "outputs": [],
   "source": [
    "# rfe_vocab = voc_1gram_rfe + voc_2gram_rfe\n",
    "# len(rfe_vocab), rfe_vocab[:10], rfe_vocab[-10:]"
   ]
  },
  {
   "cell_type": "code",
   "execution_count": 157,
   "id": "3b0897cd",
   "metadata": {
    "execution": {
     "iopub.execute_input": "2023-08-12T20:10:13.581375Z",
     "iopub.status.busy": "2023-08-12T20:10:13.580987Z",
     "iopub.status.idle": "2023-08-12T20:10:13.585763Z",
     "shell.execute_reply": "2023-08-12T20:10:13.584472Z"
    },
    "papermill": {
     "duration": 0.115144,
     "end_time": "2023-08-12T20:10:13.588206",
     "exception": false,
     "start_time": "2023-08-12T20:10:13.473062",
     "status": "completed"
    },
    "tags": []
   },
   "outputs": [],
   "source": [
    "## Test RFE obtained vocabulary in final pipeline (only with reviewText)  \n",
    "# submit_v4(selected_model=LogisticRegression(C=5, solver=\"saga\", max_iter=100000),\n",
    "#           selected_features=rt_dict,\n",
    "#           param_grid=None,\n",
    "#           vocab=rfe_vocab)"
   ]
  },
  {
   "cell_type": "markdown",
   "id": "a44db86e",
   "metadata": {
    "papermill": {
     "duration": 0.105902,
     "end_time": "2023-08-12T20:10:13.799892",
     "exception": false,
     "start_time": "2023-08-12T20:10:13.693990",
     "status": "completed"
    },
    "tags": []
   },
   "source": [
    "## Use rfe_vocab in final pipeline with all params  "
   ]
  },
  {
   "cell_type": "code",
   "execution_count": 158,
   "id": "954f56f4",
   "metadata": {
    "execution": {
     "iopub.execute_input": "2023-08-12T20:10:14.012904Z",
     "iopub.status.busy": "2023-08-12T20:10:14.012493Z",
     "iopub.status.idle": "2023-08-12T20:10:14.017171Z",
     "shell.execute_reply": "2023-08-12T20:10:14.015983Z"
    },
    "papermill": {
     "duration": 0.114501,
     "end_time": "2023-08-12T20:10:14.019566",
     "exception": false,
     "start_time": "2023-08-12T20:10:13.905065",
     "status": "completed"
    },
    "tags": []
   },
   "outputs": [],
   "source": [
    "# submit_v4(selected_model=LogisticRegression(max_iter=100000),\n",
    "#           selected_features=all_dict,\n",
    "#           param_grid=param_grid,\n",
    "#           vocab=rfe_vocab)"
   ]
  },
  {
   "cell_type": "code",
   "execution_count": 159,
   "id": "92d1bc7e",
   "metadata": {
    "execution": {
     "iopub.execute_input": "2023-08-12T20:10:14.232437Z",
     "iopub.status.busy": "2023-08-12T20:10:14.232055Z",
     "iopub.status.idle": "2023-08-12T20:10:14.244313Z",
     "shell.execute_reply": "2023-08-12T20:10:14.243416Z"
    },
    "papermill": {
     "duration": 0.120526,
     "end_time": "2023-08-12T20:10:14.246443",
     "exception": false,
     "start_time": "2023-08-12T20:10:14.125917",
     "status": "completed"
    },
    "tags": []
   },
   "outputs": [
    {
     "data": {
      "text/html": [
       "<style>#sk-container-id-1 {color: black;background-color: white;}#sk-container-id-1 pre{padding: 0;}#sk-container-id-1 div.sk-toggleable {background-color: white;}#sk-container-id-1 label.sk-toggleable__label {cursor: pointer;display: block;width: 100%;margin-bottom: 0;padding: 0.3em;box-sizing: border-box;text-align: center;}#sk-container-id-1 label.sk-toggleable__label-arrow:before {content: \"▸\";float: left;margin-right: 0.25em;color: #696969;}#sk-container-id-1 label.sk-toggleable__label-arrow:hover:before {color: black;}#sk-container-id-1 div.sk-estimator:hover label.sk-toggleable__label-arrow:before {color: black;}#sk-container-id-1 div.sk-toggleable__content {max-height: 0;max-width: 0;overflow: hidden;text-align: left;background-color: #f0f8ff;}#sk-container-id-1 div.sk-toggleable__content pre {margin: 0.2em;color: black;border-radius: 0.25em;background-color: #f0f8ff;}#sk-container-id-1 input.sk-toggleable__control:checked~div.sk-toggleable__content {max-height: 200px;max-width: 100%;overflow: auto;}#sk-container-id-1 input.sk-toggleable__control:checked~label.sk-toggleable__label-arrow:before {content: \"▾\";}#sk-container-id-1 div.sk-estimator input.sk-toggleable__control:checked~label.sk-toggleable__label {background-color: #d4ebff;}#sk-container-id-1 div.sk-label input.sk-toggleable__control:checked~label.sk-toggleable__label {background-color: #d4ebff;}#sk-container-id-1 input.sk-hidden--visually {border: 0;clip: rect(1px 1px 1px 1px);clip: rect(1px, 1px, 1px, 1px);height: 1px;margin: -1px;overflow: hidden;padding: 0;position: absolute;width: 1px;}#sk-container-id-1 div.sk-estimator {font-family: monospace;background-color: #f0f8ff;border: 1px dotted black;border-radius: 0.25em;box-sizing: border-box;margin-bottom: 0.5em;}#sk-container-id-1 div.sk-estimator:hover {background-color: #d4ebff;}#sk-container-id-1 div.sk-parallel-item::after {content: \"\";width: 100%;border-bottom: 1px solid gray;flex-grow: 1;}#sk-container-id-1 div.sk-label:hover label.sk-toggleable__label {background-color: #d4ebff;}#sk-container-id-1 div.sk-serial::before {content: \"\";position: absolute;border-left: 1px solid gray;box-sizing: border-box;top: 0;bottom: 0;left: 50%;z-index: 0;}#sk-container-id-1 div.sk-serial {display: flex;flex-direction: column;align-items: center;background-color: white;padding-right: 0.2em;padding-left: 0.2em;position: relative;}#sk-container-id-1 div.sk-item {position: relative;z-index: 1;}#sk-container-id-1 div.sk-parallel {display: flex;align-items: stretch;justify-content: center;background-color: white;position: relative;}#sk-container-id-1 div.sk-item::before, #sk-container-id-1 div.sk-parallel-item::before {content: \"\";position: absolute;border-left: 1px solid gray;box-sizing: border-box;top: 0;bottom: 0;left: 50%;z-index: -1;}#sk-container-id-1 div.sk-parallel-item {display: flex;flex-direction: column;z-index: 1;position: relative;background-color: white;}#sk-container-id-1 div.sk-parallel-item:first-child::after {align-self: flex-end;width: 50%;}#sk-container-id-1 div.sk-parallel-item:last-child::after {align-self: flex-start;width: 50%;}#sk-container-id-1 div.sk-parallel-item:only-child::after {width: 0;}#sk-container-id-1 div.sk-dashed-wrapped {border: 1px dashed gray;margin: 0 0.4em 0.5em 0.4em;box-sizing: border-box;padding-bottom: 0.4em;background-color: white;}#sk-container-id-1 div.sk-label label {font-family: monospace;font-weight: bold;display: inline-block;line-height: 1.2em;}#sk-container-id-1 div.sk-label-container {text-align: center;}#sk-container-id-1 div.sk-container {/* jupyter's `normalize.less` sets `[hidden] { display: none; }` but bootstrap.min.css set `[hidden] { display: none !important; }` so we also need the `!important` here to be able to override the default hidden behavior on the sphinx rendered scikit-learn.org. See: https://github.com/scikit-learn/scikit-learn/issues/21755 */display: inline-block !important;position: relative;}#sk-container-id-1 div.sk-text-repr-fallback {display: none;}</style><div id=\"sk-container-id-1\" class=\"sk-top-container\"><div class=\"sk-text-repr-fallback\"><pre>AdaBoostClassifier(estimator=LogisticRegression(C=5, max_iter=100000,\n",
       "                                                solver=&#x27;saga&#x27;))</pre><b>In a Jupyter environment, please rerun this cell to show the HTML representation or trust the notebook. <br />On GitHub, the HTML representation is unable to render, please try loading this page with nbviewer.org.</b></div><div class=\"sk-container\" hidden><div class=\"sk-item sk-dashed-wrapped\"><div class=\"sk-label-container\"><div class=\"sk-label sk-toggleable\"><input class=\"sk-toggleable__control sk-hidden--visually\" id=\"sk-estimator-id-1\" type=\"checkbox\" ><label for=\"sk-estimator-id-1\" class=\"sk-toggleable__label sk-toggleable__label-arrow\">AdaBoostClassifier</label><div class=\"sk-toggleable__content\"><pre>AdaBoostClassifier(estimator=LogisticRegression(C=5, max_iter=100000,\n",
       "                                                solver=&#x27;saga&#x27;))</pre></div></div></div><div class=\"sk-parallel\"><div class=\"sk-parallel-item\"><div class=\"sk-item\"><div class=\"sk-label-container\"><div class=\"sk-label sk-toggleable\"><input class=\"sk-toggleable__control sk-hidden--visually\" id=\"sk-estimator-id-2\" type=\"checkbox\" ><label for=\"sk-estimator-id-2\" class=\"sk-toggleable__label sk-toggleable__label-arrow\">estimator: LogisticRegression</label><div class=\"sk-toggleable__content\"><pre>LogisticRegression(C=5, max_iter=100000, solver=&#x27;saga&#x27;)</pre></div></div></div><div class=\"sk-serial\"><div class=\"sk-item\"><div class=\"sk-estimator sk-toggleable\"><input class=\"sk-toggleable__control sk-hidden--visually\" id=\"sk-estimator-id-3\" type=\"checkbox\" ><label for=\"sk-estimator-id-3\" class=\"sk-toggleable__label sk-toggleable__label-arrow\">LogisticRegression</label><div class=\"sk-toggleable__content\"><pre>LogisticRegression(C=5, max_iter=100000, solver=&#x27;saga&#x27;)</pre></div></div></div></div></div></div></div></div></div></div>"
      ],
      "text/plain": [
       "AdaBoostClassifier(estimator=LogisticRegression(C=5, max_iter=100000,\n",
       "                                                solver='saga'))"
      ]
     },
     "execution_count": 159,
     "metadata": {},
     "output_type": "execute_result"
    }
   ],
   "source": [
    "adc = AdaBoostClassifier(estimator=LogisticRegression(C=5, solver=\"saga\", max_iter=100000), n_estimators=50)\n",
    "adc"
   ]
  },
  {
   "cell_type": "code",
   "execution_count": 160,
   "id": "a9a1712d",
   "metadata": {
    "execution": {
     "iopub.execute_input": "2023-08-12T20:10:14.465865Z",
     "iopub.status.busy": "2023-08-12T20:10:14.465438Z",
     "iopub.status.idle": "2023-08-12T20:10:14.470380Z",
     "shell.execute_reply": "2023-08-12T20:10:14.469219Z"
    },
    "papermill": {
     "duration": 0.11827,
     "end_time": "2023-08-12T20:10:14.472770",
     "exception": false,
     "start_time": "2023-08-12T20:10:14.354500",
     "status": "completed"
    },
    "tags": []
   },
   "outputs": [],
   "source": [
    "# submit_v4(selected_model=adc,\n",
    "#           selected_features={'cat': ['isFrequentReviewer']},\n",
    "#           param_grid=None,\n",
    "#           vocab=rfe_vocab)"
   ]
  },
  {
   "cell_type": "code",
   "execution_count": 161,
   "id": "190e05b7",
   "metadata": {
    "execution": {
     "iopub.execute_input": "2023-08-12T20:10:14.686184Z",
     "iopub.status.busy": "2023-08-12T20:10:14.685766Z",
     "iopub.status.idle": "2023-08-12T20:10:14.690284Z",
     "shell.execute_reply": "2023-08-12T20:10:14.689411Z"
    },
    "papermill": {
     "duration": 0.114344,
     "end_time": "2023-08-12T20:10:14.692382",
     "exception": false,
     "start_time": "2023-08-12T20:10:14.578038",
     "status": "completed"
    },
    "tags": []
   },
   "outputs": [],
   "source": [
    "# AdaBoost on all features with RFE vocab on reviewText\n",
    "\n",
    "# submit_v4(selected_model=adc,\n",
    "#           selected_features=all_dict,\n",
    "#           param_grid=None,\n",
    "#           vocab=rfe_vocab)"
   ]
  },
  {
   "cell_type": "code",
   "execution_count": 162,
   "id": "62bf3192",
   "metadata": {
    "execution": {
     "iopub.execute_input": "2023-08-12T20:10:14.904305Z",
     "iopub.status.busy": "2023-08-12T20:10:14.903933Z",
     "iopub.status.idle": "2023-08-12T20:10:14.908531Z",
     "shell.execute_reply": "2023-08-12T20:10:14.907312Z"
    },
    "papermill": {
     "duration": 0.112324,
     "end_time": "2023-08-12T20:10:14.910879",
     "exception": false,
     "start_time": "2023-08-12T20:10:14.798555",
     "status": "completed"
    },
    "tags": []
   },
   "outputs": [],
   "source": [
    "# RandomForestClassifier test run on one feature\n",
    "\n",
    "# rfc_2 = RandomForestClassifier()\n",
    "# rfc_2"
   ]
  },
  {
   "cell_type": "code",
   "execution_count": 163,
   "id": "93471c0a",
   "metadata": {
    "execution": {
     "iopub.execute_input": "2023-08-12T20:10:15.127608Z",
     "iopub.status.busy": "2023-08-12T20:10:15.127142Z",
     "iopub.status.idle": "2023-08-12T20:10:15.132306Z",
     "shell.execute_reply": "2023-08-12T20:10:15.130982Z"
    },
    "papermill": {
     "duration": 0.117371,
     "end_time": "2023-08-12T20:10:15.135054",
     "exception": false,
     "start_time": "2023-08-12T20:10:15.017683",
     "status": "completed"
    },
    "tags": []
   },
   "outputs": [],
   "source": [
    "# submit_v4(selected_model=rfc_2,\n",
    "#           selected_features={'txt': ['reviewerName']},\n",
    "#           param_grid=None,\n",
    "#           vocab=rfe_vocab)"
   ]
  },
  {
   "cell_type": "code",
   "execution_count": 164,
   "id": "fc6ed49b",
   "metadata": {
    "execution": {
     "iopub.execute_input": "2023-08-12T20:10:15.348201Z",
     "iopub.status.busy": "2023-08-12T20:10:15.347815Z",
     "iopub.status.idle": "2023-08-12T20:10:15.352781Z",
     "shell.execute_reply": "2023-08-12T20:10:15.351513Z"
    },
    "papermill": {
     "duration": 0.114594,
     "end_time": "2023-08-12T20:10:15.355328",
     "exception": false,
     "start_time": "2023-08-12T20:10:15.240734",
     "status": "completed"
    },
    "tags": []
   },
   "outputs": [],
   "source": [
    "# RandomForestClassifier on all features with RFE vocab on reviewText\n",
    "\n",
    "# submit_v4(selected_model=rfc_2,\n",
    "#           selected_features=all_dict,\n",
    "#           param_grid=None,\n",
    "#           vocab=rfe_vocab)"
   ]
  },
  {
   "cell_type": "markdown",
   "id": "501e01be",
   "metadata": {
    "papermill": {
     "duration": 0.104432,
     "end_time": "2023-08-12T20:10:15.566480",
     "exception": false,
     "start_time": "2023-08-12T20:10:15.462048",
     "status": "completed"
    },
    "tags": []
   },
   "source": [
    "## Submit_v2 for merged file models  "
   ]
  },
  {
   "cell_type": "code",
   "execution_count": 165,
   "id": "a47a3150",
   "metadata": {
    "execution": {
     "iopub.execute_input": "2023-08-12T20:10:15.779710Z",
     "iopub.status.busy": "2023-08-12T20:10:15.779291Z",
     "iopub.status.idle": "2023-08-12T20:10:15.785508Z",
     "shell.execute_reply": "2023-08-12T20:10:15.784366Z"
    },
    "papermill": {
     "duration": 0.115569,
     "end_time": "2023-08-12T20:10:15.787772",
     "exception": false,
     "start_time": "2023-08-12T20:10:15.672203",
     "status": "completed"
    },
    "tags": []
   },
   "outputs": [],
   "source": [
    "# def submit_v2(selected_model=pipe_final, selected_features=None):\n",
    "#     '''\n",
    "#     Note that \"selected_preprocessor\" is already used within selected_model or pipeline\n",
    "#     '''\n",
    "#     # Retrain on the whole train.csv file  \n",
    "#     merged = select_features(load_csv(\"train\"), load_csv(\"movies\"))\n",
    "#     X_train = merged.drop(labels=\"sentiment\", axis=1)\n",
    "#     y_train = merged[\"sentiment\"]\n",
    "    \n",
    "#     #Use selected features\n",
    "#     if selected_features:\n",
    "#         X_train = X_train[selected_features]\n",
    "    \n",
    "#     # Check1\n",
    "#     print(X_train.shape)\n",
    "#     print(X_train.head())\n",
    "#     try:\n",
    "#         print(selected_model.named_steps['model'].intercept_, selected_model.named_steps['model'].coef_)\n",
    "#     except:\n",
    "#         print(\"Model not trained yet!\")\n",
    "    \n",
    "#     # Fit \n",
    "#     selected_model.fit(X_train, y_train)\n",
    "    \n",
    "#     # Check2\n",
    "#     print(selected_model.named_steps['model'].intercept_, selected_model.named_steps['model'].coef_)\n",
    "    \n",
    "#     # Predict on test.csv file\n",
    "#     merged_test = select_features(load_csv(\"test\"), load_csv(\"movies\"))\n",
    "#     X_test = merged_test.copy()\n",
    "#     if selected_features:\n",
    "#         X_test = X_test[selected_features]\n",
    "    \n",
    "#     # Check3\n",
    "#     print(X_test.shape)\n",
    "#     print(X_test.head())\n",
    "    \n",
    "#     y_pred = selected_model.predict(X_test)\n",
    "    \n",
    "#     pred_df = pd.DataFrame(y_pred)\n",
    "#     pred_df.columns = [\"sentiment\"]\n",
    "#     pred_df.index.name = \"id\"\n",
    "#     pred_df.to_csv(\"submission.csv\")\n",
    "    \n",
    "#     return \"Successfully created the submission file!!!\""
   ]
  },
  {
   "cell_type": "code",
   "execution_count": 166,
   "id": "fdac971c",
   "metadata": {
    "execution": {
     "iopub.execute_input": "2023-08-12T20:10:16.002761Z",
     "iopub.status.busy": "2023-08-12T20:10:16.002349Z",
     "iopub.status.idle": "2023-08-12T20:10:16.007258Z",
     "shell.execute_reply": "2023-08-12T20:10:16.006026Z"
    },
    "papermill": {
     "duration": 0.114601,
     "end_time": "2023-08-12T20:10:16.009510",
     "exception": false,
     "start_time": "2023-08-12T20:10:15.894909",
     "status": "completed"
    },
    "tags": []
   },
   "outputs": [],
   "source": [
    "#     X_test = merged_test.copy()\n",
    "    \n",
    "#     y_pred = pipe_best4.predict(X_test)\n",
    "# #     np.unique(y_pred, return_counts=True)\n",
    "#     pred_df = pd.DataFrame(y_pred)\n",
    "#     pred_df.columns = [\"sentiment\"]\n",
    "#     pred_df.index.name = \"id\"\n",
    "#     pred_df.value_counts()"
   ]
  },
  {
   "cell_type": "code",
   "execution_count": 167,
   "id": "4fd3dab2",
   "metadata": {
    "execution": {
     "iopub.execute_input": "2023-08-12T20:10:16.222540Z",
     "iopub.status.busy": "2023-08-12T20:10:16.222157Z",
     "iopub.status.idle": "2023-08-12T20:10:16.227098Z",
     "shell.execute_reply": "2023-08-12T20:10:16.225970Z"
    },
    "papermill": {
     "duration": 0.114648,
     "end_time": "2023-08-12T20:10:16.229450",
     "exception": false,
     "start_time": "2023-08-12T20:10:16.114802",
     "status": "completed"
    },
    "tags": []
   },
   "outputs": [],
   "source": [
    "# X_test.columns"
   ]
  },
  {
   "cell_type": "markdown",
   "id": "282a06ca",
   "metadata": {
    "papermill": {
     "duration": 0.108982,
     "end_time": "2023-08-12T20:10:16.446099",
     "exception": false,
     "start_time": "2023-08-12T20:10:16.337117",
     "status": "completed"
    },
    "tags": []
   },
   "source": [
    "### Uncomment to submit using v2 of submit function  "
   ]
  },
  {
   "cell_type": "code",
   "execution_count": 168,
   "id": "edd9b632",
   "metadata": {
    "execution": {
     "iopub.execute_input": "2023-08-12T20:10:16.659949Z",
     "iopub.status.busy": "2023-08-12T20:10:16.659520Z",
     "iopub.status.idle": "2023-08-12T20:10:16.664367Z",
     "shell.execute_reply": "2023-08-12T20:10:16.663305Z"
    },
    "papermill": {
     "duration": 0.114829,
     "end_time": "2023-08-12T20:10:16.666652",
     "exception": false,
     "start_time": "2023-08-12T20:10:16.551823",
     "status": "completed"
    },
    "tags": []
   },
   "outputs": [],
   "source": [
    "# best4 = [\"audienceScore\", \"rating\", \"isFrequentReviewer\", \"reviewText\"]\n",
    "# best4"
   ]
  },
  {
   "cell_type": "code",
   "execution_count": 169,
   "id": "abffc0b1",
   "metadata": {
    "execution": {
     "iopub.execute_input": "2023-08-12T20:10:16.879278Z",
     "iopub.status.busy": "2023-08-12T20:10:16.878888Z",
     "iopub.status.idle": "2023-08-12T20:10:16.883459Z",
     "shell.execute_reply": "2023-08-12T20:10:16.882547Z"
    },
    "papermill": {
     "duration": 0.112896,
     "end_time": "2023-08-12T20:10:16.885794",
     "exception": false,
     "start_time": "2023-08-12T20:10:16.772898",
     "status": "completed"
    },
    "tags": []
   },
   "outputs": [],
   "source": [
    "# submit_v2(selected_model=pipe_RTonly, selected_features=['reviewText'])"
   ]
  },
  {
   "cell_type": "markdown",
   "id": "bbb64877",
   "metadata": {
    "papermill": {
     "duration": 0.18271,
     "end_time": "2023-08-12T20:10:17.179101",
     "exception": false,
     "start_time": "2023-08-12T20:10:16.996391",
     "status": "completed"
    },
    "tags": []
   },
   "source": [
    "### Inspect the submission.csv file  "
   ]
  },
  {
   "cell_type": "code",
   "execution_count": 170,
   "id": "582338d8",
   "metadata": {
    "execution": {
     "iopub.execute_input": "2023-08-12T20:10:17.392730Z",
     "iopub.status.busy": "2023-08-12T20:10:17.392299Z",
     "iopub.status.idle": "2023-08-12T20:10:17.397012Z",
     "shell.execute_reply": "2023-08-12T20:10:17.395951Z"
    },
    "papermill": {
     "duration": 0.11431,
     "end_time": "2023-08-12T20:10:17.399332",
     "exception": false,
     "start_time": "2023-08-12T20:10:17.285022",
     "status": "completed"
    },
    "tags": []
   },
   "outputs": [],
   "source": [
    "# sub = pd.read_csv('submission.csv')\n",
    "# sub.shape, sub.head()"
   ]
  },
  {
   "cell_type": "code",
   "execution_count": 171,
   "id": "3b485952",
   "metadata": {
    "execution": {
     "iopub.execute_input": "2023-08-12T20:10:17.613088Z",
     "iopub.status.busy": "2023-08-12T20:10:17.612384Z",
     "iopub.status.idle": "2023-08-12T20:10:17.617890Z",
     "shell.execute_reply": "2023-08-12T20:10:17.616637Z"
    },
    "papermill": {
     "duration": 0.115792,
     "end_time": "2023-08-12T20:10:17.620333",
     "exception": false,
     "start_time": "2023-08-12T20:10:17.504541",
     "status": "completed"
    },
    "tags": []
   },
   "outputs": [],
   "source": [
    "# sub['sentiment'].value_counts()"
   ]
  },
  {
   "cell_type": "markdown",
   "id": "2adb1b02",
   "metadata": {
    "papermill": {
     "duration": 0.104944,
     "end_time": "2023-08-12T20:10:17.831605",
     "exception": false,
     "start_time": "2023-08-12T20:10:17.726661",
     "status": "completed"
    },
    "tags": []
   },
   "source": [
    "## submit_v3 for merged file models - does not retrain on whole data  "
   ]
  },
  {
   "cell_type": "code",
   "execution_count": 172,
   "id": "3b932e53",
   "metadata": {
    "execution": {
     "iopub.execute_input": "2023-08-12T20:10:18.044942Z",
     "iopub.status.busy": "2023-08-12T20:10:18.044477Z",
     "iopub.status.idle": "2023-08-12T20:10:18.049891Z",
     "shell.execute_reply": "2023-08-12T20:10:18.048705Z"
    },
    "papermill": {
     "duration": 0.114471,
     "end_time": "2023-08-12T20:10:18.052197",
     "exception": false,
     "start_time": "2023-08-12T20:10:17.937726",
     "status": "completed"
    },
    "tags": []
   },
   "outputs": [],
   "source": [
    "# def submit_v3(selected_model=pipe_final):\n",
    "#     '''\n",
    "#     Note that \"selected_preprocessor\" is already used within selected_model or pipeline\n",
    "#     '''\n",
    "      \n",
    "#     # Predict on test.csv file\n",
    "#     merged_test = select_features(load_csv(\"test\"), load_csv(\"movies\"))\n",
    "#     X_test = merged_test.copy()\n",
    "    \n",
    "#     X_test = X_test[[\"audienceScore\", \"rating\", \"isFrequentReviewer\", \"reviewText\"]]    # This is a new line\n",
    "\n",
    "    \n",
    "#     y_pred = selected_model.predict(X_test)\n",
    "    \n",
    "#     pred_df = pd.DataFrame(y_pred)\n",
    "#     pred_df.columns = [\"sentiment\"]\n",
    "#     pred_df.index.name = \"id\"\n",
    "#     pred_df.to_csv(\"submission.csv\")\n",
    "    \n",
    "#     return \"Successfully created the submission file!!!\""
   ]
  },
  {
   "cell_type": "markdown",
   "id": "389264a0",
   "metadata": {
    "papermill": {
     "duration": 0.10429,
     "end_time": "2023-08-12T20:10:18.263376",
     "exception": false,
     "start_time": "2023-08-12T20:10:18.159086",
     "status": "completed"
    },
    "tags": []
   },
   "source": [
    "### Uncomment to submit using v3 of submit function  "
   ]
  },
  {
   "cell_type": "code",
   "execution_count": 173,
   "id": "ee6cee4e",
   "metadata": {
    "execution": {
     "iopub.execute_input": "2023-08-12T20:10:18.477664Z",
     "iopub.status.busy": "2023-08-12T20:10:18.477261Z",
     "iopub.status.idle": "2023-08-12T20:10:18.481894Z",
     "shell.execute_reply": "2023-08-12T20:10:18.480451Z"
    },
    "papermill": {
     "duration": 0.116505,
     "end_time": "2023-08-12T20:10:18.484605",
     "exception": false,
     "start_time": "2023-08-12T20:10:18.368100",
     "status": "completed"
    },
    "tags": []
   },
   "outputs": [],
   "source": [
    "# submit_v3(selected_model=pipe_best4)"
   ]
  },
  {
   "cell_type": "markdown",
   "id": "32783f4d",
   "metadata": {
    "papermill": {
     "duration": 0.104289,
     "end_time": "2023-08-12T20:10:18.698552",
     "exception": false,
     "start_time": "2023-08-12T20:10:18.594263",
     "status": "completed"
    },
    "tags": []
   },
   "source": [
    "## Rough work  "
   ]
  },
  {
   "cell_type": "code",
   "execution_count": 174,
   "id": "ee559e93",
   "metadata": {
    "execution": {
     "iopub.execute_input": "2023-08-12T20:10:18.911422Z",
     "iopub.status.busy": "2023-08-12T20:10:18.911022Z",
     "iopub.status.idle": "2023-08-12T20:10:25.112434Z",
     "shell.execute_reply": "2023-08-12T20:10:25.111239Z"
    },
    "papermill": {
     "duration": 6.311688,
     "end_time": "2023-08-12T20:10:25.115367",
     "exception": false,
     "start_time": "2023-08-12T20:10:18.803679",
     "status": "completed"
    },
    "tags": []
   },
   "outputs": [],
   "source": [
    "    # Predict on test.csv file\n",
    "    merged_test = select_features(load_csv(\"test\"), load_csv(\"movies\"))\n",
    "    X_test = merged_test.copy()\n",
    "    \n",
    "    X_test = X_test[[\"audienceScore\", \"rating\", \"isFrequentReviewer\", \"reviewText\"]]    # This is a new line"
   ]
  },
  {
   "cell_type": "code",
   "execution_count": 175,
   "id": "bf750789",
   "metadata": {
    "execution": {
     "iopub.execute_input": "2023-08-12T20:10:25.328158Z",
     "iopub.status.busy": "2023-08-12T20:10:25.327770Z",
     "iopub.status.idle": "2023-08-12T20:10:25.332413Z",
     "shell.execute_reply": "2023-08-12T20:10:25.331193Z"
    },
    "papermill": {
     "duration": 0.113537,
     "end_time": "2023-08-12T20:10:25.335084",
     "exception": false,
     "start_time": "2023-08-12T20:10:25.221547",
     "status": "completed"
    },
    "tags": []
   },
   "outputs": [],
   "source": [
    "# X_test.head()"
   ]
  },
  {
   "cell_type": "code",
   "execution_count": 176,
   "id": "89c3b033",
   "metadata": {
    "execution": {
     "iopub.execute_input": "2023-08-12T20:10:25.551605Z",
     "iopub.status.busy": "2023-08-12T20:10:25.551220Z",
     "iopub.status.idle": "2023-08-12T20:10:25.555831Z",
     "shell.execute_reply": "2023-08-12T20:10:25.554729Z"
    },
    "papermill": {
     "duration": 0.115296,
     "end_time": "2023-08-12T20:10:25.558128",
     "exception": false,
     "start_time": "2023-08-12T20:10:25.442832",
     "status": "completed"
    },
    "tags": []
   },
   "outputs": [],
   "source": [
    "# X_test['audienceScore'].describe()"
   ]
  },
  {
   "cell_type": "code",
   "execution_count": 177,
   "id": "fe7f8acc",
   "metadata": {
    "execution": {
     "iopub.execute_input": "2023-08-12T20:10:25.771022Z",
     "iopub.status.busy": "2023-08-12T20:10:25.770296Z",
     "iopub.status.idle": "2023-08-12T20:10:25.774319Z",
     "shell.execute_reply": "2023-08-12T20:10:25.773488Z"
    },
    "papermill": {
     "duration": 0.113835,
     "end_time": "2023-08-12T20:10:25.776597",
     "exception": false,
     "start_time": "2023-08-12T20:10:25.662762",
     "status": "completed"
    },
    "tags": []
   },
   "outputs": [],
   "source": [
    "# X_test['rating'].value_counts()"
   ]
  },
  {
   "cell_type": "code",
   "execution_count": 178,
   "id": "7dce9fb6",
   "metadata": {
    "execution": {
     "iopub.execute_input": "2023-08-12T20:10:25.991058Z",
     "iopub.status.busy": "2023-08-12T20:10:25.990309Z",
     "iopub.status.idle": "2023-08-12T20:10:25.994296Z",
     "shell.execute_reply": "2023-08-12T20:10:25.993469Z"
    },
    "papermill": {
     "duration": 0.111589,
     "end_time": "2023-08-12T20:10:25.996441",
     "exception": false,
     "start_time": "2023-08-12T20:10:25.884852",
     "status": "completed"
    },
    "tags": []
   },
   "outputs": [],
   "source": [
    "# X_test['isFrequentReviewer'].value_counts()"
   ]
  },
  {
   "cell_type": "markdown",
   "id": "5e978072",
   "metadata": {
    "papermill": {
     "duration": 0.104931,
     "end_time": "2023-08-12T20:10:26.207664",
     "exception": false,
     "start_time": "2023-08-12T20:10:26.102733",
     "status": "completed"
    },
    "tags": []
   },
   "source": [
    "## Implement KNN classifier  "
   ]
  },
  {
   "cell_type": "code",
   "execution_count": 179,
   "id": "d4479981",
   "metadata": {
    "execution": {
     "iopub.execute_input": "2023-08-12T20:10:26.419740Z",
     "iopub.status.busy": "2023-08-12T20:10:26.419017Z",
     "iopub.status.idle": "2023-08-12T20:10:26.423478Z",
     "shell.execute_reply": "2023-08-12T20:10:26.422385Z"
    },
    "papermill": {
     "duration": 0.115199,
     "end_time": "2023-08-12T20:10:26.427367",
     "exception": false,
     "start_time": "2023-08-12T20:10:26.312168",
     "status": "completed"
    },
    "tags": []
   },
   "outputs": [],
   "source": [
    "# from sklearn.neighbors import KNeighborsClassifier"
   ]
  },
  {
   "cell_type": "code",
   "execution_count": 180,
   "id": "f5c92995",
   "metadata": {
    "execution": {
     "iopub.execute_input": "2023-08-12T20:10:26.640464Z",
     "iopub.status.busy": "2023-08-12T20:10:26.639655Z",
     "iopub.status.idle": "2023-08-12T20:10:26.644509Z",
     "shell.execute_reply": "2023-08-12T20:10:26.643636Z"
    },
    "papermill": {
     "duration": 0.112665,
     "end_time": "2023-08-12T20:10:26.647010",
     "exception": false,
     "start_time": "2023-08-12T20:10:26.534345",
     "status": "completed"
    },
    "tags": []
   },
   "outputs": [],
   "source": [
    "# Note that we are borrowing \"ct_final\" column transformer from above  "
   ]
  },
  {
   "cell_type": "code",
   "execution_count": 181,
   "id": "2fb08c6b",
   "metadata": {
    "execution": {
     "iopub.execute_input": "2023-08-12T20:10:26.860864Z",
     "iopub.status.busy": "2023-08-12T20:10:26.860044Z",
     "iopub.status.idle": "2023-08-12T20:10:26.865120Z",
     "shell.execute_reply": "2023-08-12T20:10:26.864232Z"
    },
    "papermill": {
     "duration": 0.1142,
     "end_time": "2023-08-12T20:10:26.867563",
     "exception": false,
     "start_time": "2023-08-12T20:10:26.753363",
     "status": "completed"
    },
    "tags": []
   },
   "outputs": [],
   "source": [
    "# pipe_knn = Pipeline(steps=[\n",
    "#                         (\"preprocessor\", ct_final),\n",
    "#                         (\"model\", KNeighborsClassifier())\n",
    "#                     ])\n",
    "# pipe_knn"
   ]
  },
  {
   "cell_type": "code",
   "execution_count": 182,
   "id": "558c559d",
   "metadata": {
    "execution": {
     "iopub.execute_input": "2023-08-12T20:10:27.088206Z",
     "iopub.status.busy": "2023-08-12T20:10:27.087052Z",
     "iopub.status.idle": "2023-08-12T20:10:27.092980Z",
     "shell.execute_reply": "2023-08-12T20:10:27.091578Z"
    },
    "papermill": {
     "duration": 0.119176,
     "end_time": "2023-08-12T20:10:27.095515",
     "exception": false,
     "start_time": "2023-08-12T20:10:26.976339",
     "status": "completed"
    },
    "tags": []
   },
   "outputs": [],
   "source": [
    "# Train and predict on merged training data  \n",
    "# split_train_predict(merged_train_features, merged_train_labels, pipe_knn, test_size=0.25, random_state=42)"
   ]
  },
  {
   "cell_type": "markdown",
   "id": "ddf5b189",
   "metadata": {
    "papermill": {
     "duration": 0.10711,
     "end_time": "2023-08-12T20:10:27.310461",
     "exception": false,
     "start_time": "2023-08-12T20:10:27.203351",
     "status": "completed"
    },
    "tags": []
   },
   "source": [
    "# Part I (Older code)  "
   ]
  },
  {
   "cell_type": "markdown",
   "id": "66b922a7",
   "metadata": {
    "papermill": {
     "duration": 0.111416,
     "end_time": "2023-08-12T20:10:27.530221",
     "exception": false,
     "start_time": "2023-08-12T20:10:27.418805",
     "status": "completed"
    },
    "tags": []
   },
   "source": [
    "### Logistic Regression with stop words  "
   ]
  },
  {
   "cell_type": "code",
   "execution_count": 183,
   "id": "0491881d",
   "metadata": {
    "execution": {
     "iopub.execute_input": "2023-08-12T20:10:27.748998Z",
     "iopub.status.busy": "2023-08-12T20:10:27.748581Z",
     "iopub.status.idle": "2023-08-12T20:10:27.754581Z",
     "shell.execute_reply": "2023-08-12T20:10:27.753273Z"
    },
    "papermill": {
     "duration": 0.117802,
     "end_time": "2023-08-12T20:10:27.757234",
     "exception": false,
     "start_time": "2023-08-12T20:10:27.639432",
     "status": "completed"
    },
    "tags": []
   },
   "outputs": [],
   "source": [
    "# tvec_sw = TfidfVectorizer(stop_words=stop_words)"
   ]
  },
  {
   "cell_type": "code",
   "execution_count": 184,
   "id": "b33690b2",
   "metadata": {
    "execution": {
     "iopub.execute_input": "2023-08-12T20:10:27.972609Z",
     "iopub.status.busy": "2023-08-12T20:10:27.972206Z",
     "iopub.status.idle": "2023-08-12T20:10:27.976311Z",
     "shell.execute_reply": "2023-08-12T20:10:27.975372Z"
    },
    "papermill": {
     "duration": 0.113445,
     "end_time": "2023-08-12T20:10:27.978512",
     "exception": false,
     "start_time": "2023-08-12T20:10:27.865067",
     "status": "completed"
    },
    "tags": []
   },
   "outputs": [],
   "source": [
    "# logreg_sw_pipe = preprocess_n_train(X_train, y_train, tvec_sw, logreg)\n",
    "# logreg_sw_pipe"
   ]
  },
  {
   "cell_type": "code",
   "execution_count": 185,
   "id": "3bd7234a",
   "metadata": {
    "execution": {
     "iopub.execute_input": "2023-08-12T20:10:28.262842Z",
     "iopub.status.busy": "2023-08-12T20:10:28.262350Z",
     "iopub.status.idle": "2023-08-12T20:10:28.267201Z",
     "shell.execute_reply": "2023-08-12T20:10:28.265992Z"
    },
    "papermill": {
     "duration": 0.116347,
     "end_time": "2023-08-12T20:10:28.269652",
     "exception": false,
     "start_time": "2023-08-12T20:10:28.153305",
     "status": "completed"
    },
    "tags": []
   },
   "outputs": [],
   "source": [
    "# y_pred_logreg_sw = predict_n_evaluate(logreg_sw_pipe, X_test, y_test)\n",
    "# y_pred_logreg_sw"
   ]
  },
  {
   "cell_type": "markdown",
   "id": "720a6638",
   "metadata": {
    "papermill": {
     "duration": 0.106884,
     "end_time": "2023-08-12T20:10:28.482088",
     "exception": false,
     "start_time": "2023-08-12T20:10:28.375204",
     "status": "completed"
    },
    "tags": []
   },
   "source": [
    "### Logistic regression with different ngram ranges  "
   ]
  },
  {
   "cell_type": "code",
   "execution_count": 186,
   "id": "e0f3844f",
   "metadata": {
    "execution": {
     "iopub.execute_input": "2023-08-12T20:10:28.695406Z",
     "iopub.status.busy": "2023-08-12T20:10:28.694950Z",
     "iopub.status.idle": "2023-08-12T20:10:28.699749Z",
     "shell.execute_reply": "2023-08-12T20:10:28.698604Z"
    },
    "papermill": {
     "duration": 0.114058,
     "end_time": "2023-08-12T20:10:28.702284",
     "exception": false,
     "start_time": "2023-08-12T20:10:28.588226",
     "status": "completed"
    },
    "tags": []
   },
   "outputs": [],
   "source": [
    "# tvec_ngram_2 = TfidfVectorizer(ngram_range=(1,2))"
   ]
  },
  {
   "cell_type": "code",
   "execution_count": 187,
   "id": "194d5072",
   "metadata": {
    "execution": {
     "iopub.execute_input": "2023-08-12T20:10:28.916080Z",
     "iopub.status.busy": "2023-08-12T20:10:28.915435Z",
     "iopub.status.idle": "2023-08-12T20:10:28.920991Z",
     "shell.execute_reply": "2023-08-12T20:10:28.919740Z"
    },
    "papermill": {
     "duration": 0.115874,
     "end_time": "2023-08-12T20:10:28.923395",
     "exception": false,
     "start_time": "2023-08-12T20:10:28.807521",
     "status": "completed"
    },
    "tags": []
   },
   "outputs": [],
   "source": [
    "# logreg_ng2_pipe = preprocess_n_train(X_train, y_train, tvec_ngram_2, logreg)\n",
    "# logreg_ng2_pipe"
   ]
  },
  {
   "cell_type": "code",
   "execution_count": 188,
   "id": "68b27ce6",
   "metadata": {
    "execution": {
     "iopub.execute_input": "2023-08-12T20:10:29.137774Z",
     "iopub.status.busy": "2023-08-12T20:10:29.137352Z",
     "iopub.status.idle": "2023-08-12T20:10:29.141998Z",
     "shell.execute_reply": "2023-08-12T20:10:29.141030Z"
    },
    "papermill": {
     "duration": 0.115075,
     "end_time": "2023-08-12T20:10:29.144494",
     "exception": false,
     "start_time": "2023-08-12T20:10:29.029419",
     "status": "completed"
    },
    "tags": []
   },
   "outputs": [],
   "source": [
    "# y_pred_logreg_ng2 = predict_n_evaluate(logreg_ng2_pipe, X_test, y_test)\n",
    "# y_pred_logreg_ng2"
   ]
  },
  {
   "cell_type": "markdown",
   "id": "0f5be034",
   "metadata": {
    "papermill": {
     "duration": 0.106191,
     "end_time": "2023-08-12T20:10:29.358297",
     "exception": false,
     "start_time": "2023-08-12T20:10:29.252106",
     "status": "completed"
    },
    "tags": []
   },
   "source": [
    "### Logistic regression with C=2, ngram range (1,2), stop words as None and min_df, max_df adjusted\n",
    "### Class weight balanced"
   ]
  },
  {
   "cell_type": "code",
   "execution_count": 189,
   "id": "55ded2ef",
   "metadata": {
    "execution": {
     "iopub.execute_input": "2023-08-12T20:10:29.576439Z",
     "iopub.status.busy": "2023-08-12T20:10:29.576030Z",
     "iopub.status.idle": "2023-08-12T20:10:29.580974Z",
     "shell.execute_reply": "2023-08-12T20:10:29.579775Z"
    },
    "papermill": {
     "duration": 0.115954,
     "end_time": "2023-08-12T20:10:29.583225",
     "exception": false,
     "start_time": "2023-08-12T20:10:29.467271",
     "status": "completed"
    },
    "tags": []
   },
   "outputs": [],
   "source": [
    "# logreg = LogisticRegression(max_iter=100000, C=2, class_weight=\"balanced\")"
   ]
  },
  {
   "cell_type": "code",
   "execution_count": 190,
   "id": "a7235c91",
   "metadata": {
    "execution": {
     "iopub.execute_input": "2023-08-12T20:10:29.799159Z",
     "iopub.status.busy": "2023-08-12T20:10:29.798775Z",
     "iopub.status.idle": "2023-08-12T20:10:29.802676Z",
     "shell.execute_reply": "2023-08-12T20:10:29.801857Z"
    },
    "papermill": {
     "duration": 0.11408,
     "end_time": "2023-08-12T20:10:29.804860",
     "exception": false,
     "start_time": "2023-08-12T20:10:29.690780",
     "status": "completed"
    },
    "tags": []
   },
   "outputs": [],
   "source": [
    "# tvec_ngram_2_sw_df = TfidfVectorizer(ngram_range=(1,2), stop_words=None, min_df=0.0001, max_df=0.50)\n",
    "# tvec_ngram_2_sw_df"
   ]
  },
  {
   "cell_type": "code",
   "execution_count": 191,
   "id": "cf951b0e",
   "metadata": {
    "execution": {
     "iopub.execute_input": "2023-08-12T20:10:30.025531Z",
     "iopub.status.busy": "2023-08-12T20:10:30.025142Z",
     "iopub.status.idle": "2023-08-12T20:10:30.029712Z",
     "shell.execute_reply": "2023-08-12T20:10:30.028726Z"
    },
    "papermill": {
     "duration": 0.116496,
     "end_time": "2023-08-12T20:10:30.031908",
     "exception": false,
     "start_time": "2023-08-12T20:10:29.915412",
     "status": "completed"
    },
    "tags": []
   },
   "outputs": [],
   "source": [
    "# logreg_ng2_sw_df_pipe = preprocess_n_train(X_train, y_train, tvec_ngram_2_sw_df, logreg)\n",
    "# logreg_ng2_sw_df_pipe"
   ]
  },
  {
   "cell_type": "code",
   "execution_count": 192,
   "id": "2ee89ef5",
   "metadata": {
    "execution": {
     "iopub.execute_input": "2023-08-12T20:10:30.248141Z",
     "iopub.status.busy": "2023-08-12T20:10:30.247253Z",
     "iopub.status.idle": "2023-08-12T20:10:30.252934Z",
     "shell.execute_reply": "2023-08-12T20:10:30.251806Z"
    },
    "papermill": {
     "duration": 0.116396,
     "end_time": "2023-08-12T20:10:30.255582",
     "exception": false,
     "start_time": "2023-08-12T20:10:30.139186",
     "status": "completed"
    },
    "tags": []
   },
   "outputs": [],
   "source": [
    "# y_pred_logreg_ng2_sw_df = predict_n_evaluate(logreg_ng2_sw_df_pipe, X_test, y_test)\n",
    "# y_pred_logreg_ng2_sw_df"
   ]
  },
  {
   "cell_type": "markdown",
   "id": "8913c834",
   "metadata": {
    "papermill": {
     "duration": 0.108647,
     "end_time": "2023-08-12T20:10:30.472930",
     "exception": false,
     "start_time": "2023-08-12T20:10:30.364283",
     "status": "completed"
    },
    "tags": []
   },
   "source": [
    "### Log reg with parameters from GridSearchCV  \n",
    "\n",
    "`This is the best score with \"reviewText column alone for analysis`  "
   ]
  },
  {
   "cell_type": "code",
   "execution_count": 193,
   "id": "1d36d849",
   "metadata": {
    "execution": {
     "iopub.execute_input": "2023-08-12T20:10:30.692015Z",
     "iopub.status.busy": "2023-08-12T20:10:30.691380Z",
     "iopub.status.idle": "2023-08-12T20:10:30.697505Z",
     "shell.execute_reply": "2023-08-12T20:10:30.696176Z"
    },
    "papermill": {
     "duration": 0.117538,
     "end_time": "2023-08-12T20:10:30.700117",
     "exception": false,
     "start_time": "2023-08-12T20:10:30.582579",
     "status": "completed"
    },
    "tags": []
   },
   "outputs": [],
   "source": [
    "logreg_cv1 = LogisticRegression(max_iter=100000, C=10)\n",
    "tvec_cv1 = TfidfVectorizer(max_features=None, ngram_range=(1,2))"
   ]
  },
  {
   "cell_type": "code",
   "execution_count": 194,
   "id": "4e6a4cd0",
   "metadata": {
    "execution": {
     "iopub.execute_input": "2023-08-12T20:10:30.918873Z",
     "iopub.status.busy": "2023-08-12T20:10:30.918460Z",
     "iopub.status.idle": "2023-08-12T20:10:30.923087Z",
     "shell.execute_reply": "2023-08-12T20:10:30.922157Z"
    },
    "papermill": {
     "duration": 0.116656,
     "end_time": "2023-08-12T20:10:30.925242",
     "exception": false,
     "start_time": "2023-08-12T20:10:30.808586",
     "status": "completed"
    },
    "tags": []
   },
   "outputs": [],
   "source": [
    "pipe_cv1 = Pipeline(steps=[\n",
    "    (\"preprocessor\", tvec_cv1),\n",
    "    (\"model\", logreg_cv1)\n",
    "])"
   ]
  },
  {
   "cell_type": "code",
   "execution_count": 195,
   "id": "71fc0ba6",
   "metadata": {
    "execution": {
     "iopub.execute_input": "2023-08-12T20:10:31.139404Z",
     "iopub.status.busy": "2023-08-12T20:10:31.138084Z",
     "iopub.status.idle": "2023-08-12T20:10:31.143613Z",
     "shell.execute_reply": "2023-08-12T20:10:31.142267Z"
    },
    "papermill": {
     "duration": 0.115431,
     "end_time": "2023-08-12T20:10:31.146298",
     "exception": false,
     "start_time": "2023-08-12T20:10:31.030867",
     "status": "completed"
    },
    "tags": []
   },
   "outputs": [],
   "source": [
    "# pipe_cv1.fit(X_train, y_train)"
   ]
  },
  {
   "cell_type": "code",
   "execution_count": 196,
   "id": "b548496c",
   "metadata": {
    "execution": {
     "iopub.execute_input": "2023-08-12T20:10:31.364809Z",
     "iopub.status.busy": "2023-08-12T20:10:31.364391Z",
     "iopub.status.idle": "2023-08-12T20:10:31.370326Z",
     "shell.execute_reply": "2023-08-12T20:10:31.368768Z"
    },
    "papermill": {
     "duration": 0.119625,
     "end_time": "2023-08-12T20:10:31.373575",
     "exception": false,
     "start_time": "2023-08-12T20:10:31.253950",
     "status": "completed"
    },
    "tags": []
   },
   "outputs": [],
   "source": [
    "# pipe_cv1.score(X_train, y_train)"
   ]
  },
  {
   "cell_type": "markdown",
   "id": "d54d4996",
   "metadata": {
    "papermill": {
     "duration": 0.108904,
     "end_time": "2023-08-12T20:10:31.598274",
     "exception": false,
     "start_time": "2023-08-12T20:10:31.489370",
     "status": "completed"
    },
    "tags": []
   },
   "source": [
    "### SVM model with stop words  "
   ]
  },
  {
   "cell_type": "code",
   "execution_count": 197,
   "id": "94371870",
   "metadata": {
    "execution": {
     "iopub.execute_input": "2023-08-12T20:10:31.813275Z",
     "iopub.status.busy": "2023-08-12T20:10:31.812898Z",
     "iopub.status.idle": "2023-08-12T20:10:31.817798Z",
     "shell.execute_reply": "2023-08-12T20:10:31.816545Z"
    },
    "papermill": {
     "duration": 0.115105,
     "end_time": "2023-08-12T20:10:31.820307",
     "exception": false,
     "start_time": "2023-08-12T20:10:31.705202",
     "status": "completed"
    },
    "tags": []
   },
   "outputs": [],
   "source": [
    "# svm_sw_pipe = preprocess_n_train(X_train, y_train, tvec_sw, svm)\n",
    "# svm_sw_pipe"
   ]
  },
  {
   "cell_type": "code",
   "execution_count": 198,
   "id": "f5b0b6da",
   "metadata": {
    "execution": {
     "iopub.execute_input": "2023-08-12T20:10:32.035267Z",
     "iopub.status.busy": "2023-08-12T20:10:32.034877Z",
     "iopub.status.idle": "2023-08-12T20:10:32.040514Z",
     "shell.execute_reply": "2023-08-12T20:10:32.039166Z"
    },
    "papermill": {
     "duration": 0.115858,
     "end_time": "2023-08-12T20:10:32.043448",
     "exception": false,
     "start_time": "2023-08-12T20:10:31.927590",
     "status": "completed"
    },
    "tags": []
   },
   "outputs": [],
   "source": [
    "# y_pred_svm_sw = predict_n_evaluate(svm_sw_pipe, X_test, y_test)\n",
    "# y_pred_svm_sw"
   ]
  },
  {
   "cell_type": "markdown",
   "id": "c839078f",
   "metadata": {
    "papermill": {
     "duration": 0.106385,
     "end_time": "2023-08-12T20:10:32.255604",
     "exception": false,
     "start_time": "2023-08-12T20:10:32.149219",
     "status": "completed"
    },
    "tags": []
   },
   "source": [
    "### GaussianNB  "
   ]
  },
  {
   "cell_type": "markdown",
   "id": "e48200a0",
   "metadata": {
    "papermill": {
     "duration": 0.106866,
     "end_time": "2023-08-12T20:10:32.470841",
     "exception": false,
     "start_time": "2023-08-12T20:10:32.363975",
     "status": "completed"
    },
    "tags": []
   },
   "source": [
    "https://stackoverflow.com/questions/28384680/scikit-learns-pipeline-a-sparse-matrix-was-passed-but-dense-data-is-required"
   ]
  },
  {
   "cell_type": "code",
   "execution_count": 199,
   "id": "6edc078c",
   "metadata": {
    "execution": {
     "iopub.execute_input": "2023-08-12T20:10:32.689097Z",
     "iopub.status.busy": "2023-08-12T20:10:32.688676Z",
     "iopub.status.idle": "2023-08-12T20:10:32.692613Z",
     "shell.execute_reply": "2023-08-12T20:10:32.691752Z"
    },
    "papermill": {
     "duration": 0.114601,
     "end_time": "2023-08-12T20:10:32.694845",
     "exception": false,
     "start_time": "2023-08-12T20:10:32.580244",
     "status": "completed"
    },
    "tags": []
   },
   "outputs": [],
   "source": [
    "# gnb = GaussianNB()\n",
    "# gnb"
   ]
  },
  {
   "cell_type": "code",
   "execution_count": 200,
   "id": "45300313",
   "metadata": {
    "execution": {
     "iopub.execute_input": "2023-08-12T20:10:32.909323Z",
     "iopub.status.busy": "2023-08-12T20:10:32.908925Z",
     "iopub.status.idle": "2023-08-12T20:10:32.913324Z",
     "shell.execute_reply": "2023-08-12T20:10:32.912387Z"
    },
    "papermill": {
     "duration": 0.115984,
     "end_time": "2023-08-12T20:10:32.915499",
     "exception": false,
     "start_time": "2023-08-12T20:10:32.799515",
     "status": "completed"
    },
    "tags": []
   },
   "outputs": [],
   "source": [
    "# gnb_pipe = preprocess_n_train(X_train, y_train, tvec, gnb)\n",
    "# gnb_pipe"
   ]
  },
  {
   "cell_type": "markdown",
   "id": "78bfa6b9",
   "metadata": {
    "papermill": {
     "duration": 0.109159,
     "end_time": "2023-08-12T20:10:33.131000",
     "exception": false,
     "start_time": "2023-08-12T20:10:33.021841",
     "status": "completed"
    },
    "tags": []
   },
   "source": [
    "# Part II (Older code)  \n"
   ]
  },
  {
   "cell_type": "markdown",
   "id": "3839a51e",
   "metadata": {
    "papermill": {
     "duration": 0.105307,
     "end_time": "2023-08-12T20:10:33.363207",
     "exception": false,
     "start_time": "2023-08-12T20:10:33.257900",
     "status": "completed"
    },
    "tags": []
   },
   "source": [
    "### Separate features and labels from merged dataset  "
   ]
  },
  {
   "cell_type": "code",
   "execution_count": 201,
   "id": "97e74ef3",
   "metadata": {
    "execution": {
     "iopub.execute_input": "2023-08-12T20:10:33.576979Z",
     "iopub.status.busy": "2023-08-12T20:10:33.576207Z",
     "iopub.status.idle": "2023-08-12T20:10:33.580315Z",
     "shell.execute_reply": "2023-08-12T20:10:33.579500Z"
    },
    "papermill": {
     "duration": 0.113536,
     "end_time": "2023-08-12T20:10:33.582719",
     "exception": false,
     "start_time": "2023-08-12T20:10:33.469183",
     "status": "completed"
    },
    "tags": []
   },
   "outputs": [],
   "source": [
    "# merged_train_features = merged[['movieid', 'reviewerName', 'isFrequentReviewer', 'reviewText',\n",
    "#        'audienceScore', 'rating', 'runtimeMinutes', 'genre',\n",
    "#        'originalLanguage', 'director']]\n",
    "# merged_train_features.shape"
   ]
  },
  {
   "cell_type": "code",
   "execution_count": 202,
   "id": "e8bfdaff",
   "metadata": {
    "execution": {
     "iopub.execute_input": "2023-08-12T20:10:33.797287Z",
     "iopub.status.busy": "2023-08-12T20:10:33.796856Z",
     "iopub.status.idle": "2023-08-12T20:10:33.801902Z",
     "shell.execute_reply": "2023-08-12T20:10:33.800677Z"
    },
    "papermill": {
     "duration": 0.115766,
     "end_time": "2023-08-12T20:10:33.804327",
     "exception": false,
     "start_time": "2023-08-12T20:10:33.688561",
     "status": "completed"
    },
    "tags": []
   },
   "outputs": [],
   "source": [
    "# merged_train_labels = merged[\"sentiment\"]\n",
    "# merged_train_labels.shape"
   ]
  },
  {
   "cell_type": "markdown",
   "id": "baee4372",
   "metadata": {
    "papermill": {
     "duration": 0.105192,
     "end_time": "2023-08-12T20:10:34.017227",
     "exception": false,
     "start_time": "2023-08-12T20:10:33.912035",
     "status": "completed"
    },
    "tags": []
   },
   "source": [
    "### Identify variable types for different preprocessing pipes  "
   ]
  },
  {
   "cell_type": "code",
   "execution_count": 203,
   "id": "4d025625",
   "metadata": {
    "execution": {
     "iopub.execute_input": "2023-08-12T20:10:34.325411Z",
     "iopub.status.busy": "2023-08-12T20:10:34.324882Z",
     "iopub.status.idle": "2023-08-12T20:10:34.330132Z",
     "shell.execute_reply": "2023-08-12T20:10:34.328953Z"
    },
    "papermill": {
     "duration": 0.200999,
     "end_time": "2023-08-12T20:10:34.332516",
     "exception": false,
     "start_time": "2023-08-12T20:10:34.131517",
     "status": "completed"
    },
    "tags": []
   },
   "outputs": [],
   "source": [
    "# num_vars = [\"audienceScore\", \"runtimeMinutes\"]\n",
    "# txt_vars = [\"originalLanguage\", \"genre\", \"director\", \"reviewerName\", \"reviewText\"]\n",
    "# cat_vars = [\"rating\", \"isFrequentReviewer\"]"
   ]
  },
  {
   "cell_type": "code",
   "execution_count": 204,
   "id": "8d2db928",
   "metadata": {
    "execution": {
     "iopub.execute_input": "2023-08-12T20:10:34.585232Z",
     "iopub.status.busy": "2023-08-12T20:10:34.584861Z",
     "iopub.status.idle": "2023-08-12T20:10:34.588920Z",
     "shell.execute_reply": "2023-08-12T20:10:34.588081Z"
    },
    "papermill": {
     "duration": 0.146419,
     "end_time": "2023-08-12T20:10:34.591450",
     "exception": false,
     "start_time": "2023-08-12T20:10:34.445031",
     "status": "completed"
    },
    "tags": []
   },
   "outputs": [],
   "source": [
    "# num_pipe = Pipeline(steps=[\n",
    "#                             (\"imputer\", SimpleImputer(strategy=\"mean\", missing_values=np.nan)),\n",
    "#                             (\"scaler\", MinMaxScaler())\n",
    "#                         ])\n",
    "# num_pipe"
   ]
  },
  {
   "cell_type": "code",
   "execution_count": 205,
   "id": "ca4be3aa",
   "metadata": {
    "execution": {
     "iopub.execute_input": "2023-08-12T20:10:34.809157Z",
     "iopub.status.busy": "2023-08-12T20:10:34.808770Z",
     "iopub.status.idle": "2023-08-12T20:10:34.813913Z",
     "shell.execute_reply": "2023-08-12T20:10:34.812484Z"
    },
    "papermill": {
     "duration": 0.11518,
     "end_time": "2023-08-12T20:10:34.816351",
     "exception": false,
     "start_time": "2023-08-12T20:10:34.701171",
     "status": "completed"
    },
    "tags": []
   },
   "outputs": [],
   "source": [
    "# txt_pipe = Pipeline(steps=[\n",
    "#                             (\"tvec\", TfidfVectorizer())\n",
    "#                         ])\n",
    "# txt_pipe"
   ]
  },
  {
   "cell_type": "code",
   "execution_count": 206,
   "id": "83bf7a0d",
   "metadata": {
    "execution": {
     "iopub.execute_input": "2023-08-12T20:10:35.034164Z",
     "iopub.status.busy": "2023-08-12T20:10:35.032835Z",
     "iopub.status.idle": "2023-08-12T20:10:35.038240Z",
     "shell.execute_reply": "2023-08-12T20:10:35.037365Z"
    },
    "papermill": {
     "duration": 0.117023,
     "end_time": "2023-08-12T20:10:35.040619",
     "exception": false,
     "start_time": "2023-08-12T20:10:34.923596",
     "status": "completed"
    },
    "tags": []
   },
   "outputs": [],
   "source": [
    "# cat_pipe = Pipeline(steps=[\n",
    "#                             (\"ohe\", OneHotEncoder(handle_unknown=\"ignore\"))\n",
    "#                         ])\n",
    "# cat_pipe"
   ]
  },
  {
   "cell_type": "code",
   "execution_count": 207,
   "id": "f82dc9af",
   "metadata": {
    "execution": {
     "iopub.execute_input": "2023-08-12T20:10:35.256257Z",
     "iopub.status.busy": "2023-08-12T20:10:35.255300Z",
     "iopub.status.idle": "2023-08-12T20:10:35.261080Z",
     "shell.execute_reply": "2023-08-12T20:10:35.259164Z"
    },
    "papermill": {
     "duration": 0.114722,
     "end_time": "2023-08-12T20:10:35.263482",
     "exception": false,
     "start_time": "2023-08-12T20:10:35.148760",
     "status": "completed"
    },
    "tags": []
   },
   "outputs": [],
   "source": [
    "# tfidf_vec_1 = TfidfVectorizer(ngram_range=(1,2))\n",
    "# tfidf_vec_1"
   ]
  },
  {
   "cell_type": "code",
   "execution_count": 208,
   "id": "fbf0619a",
   "metadata": {
    "execution": {
     "iopub.execute_input": "2023-08-12T20:10:35.480055Z",
     "iopub.status.busy": "2023-08-12T20:10:35.479295Z",
     "iopub.status.idle": "2023-08-12T20:10:35.484156Z",
     "shell.execute_reply": "2023-08-12T20:10:35.483344Z"
    },
    "papermill": {
     "duration": 0.11658,
     "end_time": "2023-08-12T20:10:35.486532",
     "exception": false,
     "start_time": "2023-08-12T20:10:35.369952",
     "status": "completed"
    },
    "tags": []
   },
   "outputs": [],
   "source": [
    "# ct_final = ColumnTransformer(transformers=[\n",
    "#                                         (\"num\", num_pipe, num_vars),\n",
    "#                                         (\"txt1\", txt_pipe, \"originalLanguage\"),\n",
    "#                                         (\"txt2\", txt_pipe, \"genre\"),\n",
    "#                                         (\"txt3\", txt_pipe, \"director\"),\n",
    "#                                         (\"cat\", cat_pipe, cat_vars),\n",
    "#                                         (\"txt4a\", tfidf_vec_1, \"reviewText\")\n",
    "# #                                         (\"txt4\", TfidfVectorizer(ngram_range=(1,2)), \"reviewText\"),\n",
    "# #                                         (\"cat2\", cat_pipe, [\"isFrequentReviewer\"])\n",
    "#                                         ], remainder=\"drop\", n_jobs=1)\n",
    "\n",
    "# # Note that this transformer drops \"movieid\" column and \"reviewerName\" column  \n",
    "# ct_final"
   ]
  },
  {
   "cell_type": "code",
   "execution_count": 209,
   "id": "e2a50f06",
   "metadata": {
    "execution": {
     "iopub.execute_input": "2023-08-12T20:10:35.702062Z",
     "iopub.status.busy": "2023-08-12T20:10:35.701597Z",
     "iopub.status.idle": "2023-08-12T20:10:35.706555Z",
     "shell.execute_reply": "2023-08-12T20:10:35.705393Z"
    },
    "papermill": {
     "duration": 0.116727,
     "end_time": "2023-08-12T20:10:35.709431",
     "exception": false,
     "start_time": "2023-08-12T20:10:35.592704",
     "status": "completed"
    },
    "tags": []
   },
   "outputs": [],
   "source": [
    "# pipe_final = Pipeline(steps=[\n",
    "#                         (\"preprocessor\", ct_final),\n",
    "#                         (\"model\", LogisticRegression(max_iter=100000))\n",
    "#                     ])\n",
    "# pipe_final"
   ]
  },
  {
   "cell_type": "code",
   "execution_count": 210,
   "id": "8ac9d2b3",
   "metadata": {
    "execution": {
     "iopub.execute_input": "2023-08-12T20:10:35.928748Z",
     "iopub.status.busy": "2023-08-12T20:10:35.928334Z",
     "iopub.status.idle": "2023-08-12T20:10:35.933146Z",
     "shell.execute_reply": "2023-08-12T20:10:35.931928Z"
    },
    "papermill": {
     "duration": 0.119194,
     "end_time": "2023-08-12T20:10:35.935323",
     "exception": false,
     "start_time": "2023-08-12T20:10:35.816129",
     "status": "completed"
    },
    "tags": []
   },
   "outputs": [],
   "source": [
    "# final_vars = num_vars + txt_vars + cat_vars\n",
    "# len(final_vars), final_vars"
   ]
  },
  {
   "cell_type": "markdown",
   "id": "cf3faebd",
   "metadata": {
    "papermill": {
     "duration": 0.109487,
     "end_time": "2023-08-12T20:10:36.150891",
     "exception": false,
     "start_time": "2023-08-12T20:10:36.041404",
     "status": "completed"
    },
    "tags": []
   },
   "source": [
    "### Use \"split_train_predict\" function to run end-to-end pipeline  "
   ]
  },
  {
   "cell_type": "code",
   "execution_count": 211,
   "id": "1e9f4c6a",
   "metadata": {
    "execution": {
     "iopub.execute_input": "2023-08-12T20:10:36.364956Z",
     "iopub.status.busy": "2023-08-12T20:10:36.364558Z",
     "iopub.status.idle": "2023-08-12T20:10:36.369065Z",
     "shell.execute_reply": "2023-08-12T20:10:36.367998Z"
    },
    "papermill": {
     "duration": 0.114005,
     "end_time": "2023-08-12T20:10:36.371465",
     "exception": false,
     "start_time": "2023-08-12T20:10:36.257460",
     "status": "completed"
    },
    "tags": []
   },
   "outputs": [],
   "source": [
    "# split_train_predict(merged_train_features, merged_train_labels, pipe_final, test_size=0.25, random_state=42)"
   ]
  },
  {
   "cell_type": "markdown",
   "id": "92832062",
   "metadata": {
    "papermill": {
     "duration": 0.107499,
     "end_time": "2023-08-12T20:10:36.584033",
     "exception": false,
     "start_time": "2023-08-12T20:10:36.476534",
     "status": "completed"
    },
    "tags": []
   },
   "source": [
    "## Try the best four features obtained on local machine  "
   ]
  },
  {
   "cell_type": "code",
   "execution_count": 212,
   "id": "9afd8ab2",
   "metadata": {
    "execution": {
     "iopub.execute_input": "2023-08-12T20:10:36.797957Z",
     "iopub.status.busy": "2023-08-12T20:10:36.797294Z",
     "iopub.status.idle": "2023-08-12T20:10:36.802053Z",
     "shell.execute_reply": "2023-08-12T20:10:36.800791Z"
    },
    "papermill": {
     "duration": 0.113392,
     "end_time": "2023-08-12T20:10:36.804432",
     "exception": false,
     "start_time": "2023-08-12T20:10:36.691040",
     "status": "completed"
    },
    "tags": []
   },
   "outputs": [],
   "source": [
    "# tfidf_vec_2 = TfidfVectorizer(ngram_range=(1,2))\n",
    "# tfidf_vec_2"
   ]
  },
  {
   "cell_type": "code",
   "execution_count": 213,
   "id": "a6a1ad62",
   "metadata": {
    "execution": {
     "iopub.execute_input": "2023-08-12T20:10:37.019317Z",
     "iopub.status.busy": "2023-08-12T20:10:37.018880Z",
     "iopub.status.idle": "2023-08-12T20:10:37.025230Z",
     "shell.execute_reply": "2023-08-12T20:10:37.023944Z"
    },
    "papermill": {
     "duration": 0.116769,
     "end_time": "2023-08-12T20:10:37.027869",
     "exception": false,
     "start_time": "2023-08-12T20:10:36.911100",
     "status": "completed"
    },
    "tags": []
   },
   "outputs": [],
   "source": [
    "# ct_best4 = ColumnTransformer(transformers=[\n",
    "#                                             (\"num\", num_pipe, [\"audienceScore\"]),\n",
    "#                                             (\"cat\", cat_pipe, [\"rating\", \"isFrequentReviewer\"]),\n",
    "#                                             (\"tvec\", tfidf_vec_2, \"reviewText\")\n",
    "#                             ])\n",
    "\n",
    "# pipe_best4 = Pipeline(steps=[\n",
    "#     (\"preprocessor\", ct_best4),\n",
    "#     (\"model\", LogisticRegression())\n",
    "# ])\n",
    "\n",
    "# pipe_best4.set_params(model__C=10, model__max_iter=100000)\n",
    "\n",
    "# pipe_best4"
   ]
  },
  {
   "cell_type": "code",
   "execution_count": 214,
   "id": "ed0a2d7b",
   "metadata": {
    "execution": {
     "iopub.execute_input": "2023-08-12T20:10:37.249363Z",
     "iopub.status.busy": "2023-08-12T20:10:37.248962Z",
     "iopub.status.idle": "2023-08-12T20:10:37.254195Z",
     "shell.execute_reply": "2023-08-12T20:10:37.252897Z"
    },
    "papermill": {
     "duration": 0.120713,
     "end_time": "2023-08-12T20:10:37.256528",
     "exception": false,
     "start_time": "2023-08-12T20:10:37.135815",
     "status": "completed"
    },
    "tags": []
   },
   "outputs": [],
   "source": [
    "# split_train_predict(merged[[\"audienceScore\", \"rating\", \"isFrequentReviewer\", \"reviewText\"]], merged[\"sentiment\"], pipe_best4, test_size=0.25)"
   ]
  },
  {
   "cell_type": "markdown",
   "id": "d395c84d",
   "metadata": {
    "papermill": {
     "duration": 0.105309,
     "end_time": "2023-08-12T20:10:37.472734",
     "exception": false,
     "start_time": "2023-08-12T20:10:37.367425",
     "status": "completed"
    },
    "tags": []
   },
   "source": [
    "## Try only 'reviewText' column  "
   ]
  },
  {
   "cell_type": "code",
   "execution_count": 215,
   "id": "80ae9cf3",
   "metadata": {
    "execution": {
     "iopub.execute_input": "2023-08-12T20:10:37.688495Z",
     "iopub.status.busy": "2023-08-12T20:10:37.688110Z",
     "iopub.status.idle": "2023-08-12T20:10:37.692976Z",
     "shell.execute_reply": "2023-08-12T20:10:37.691665Z"
    },
    "papermill": {
     "duration": 0.114302,
     "end_time": "2023-08-12T20:10:37.695596",
     "exception": false,
     "start_time": "2023-08-12T20:10:37.581294",
     "status": "completed"
    },
    "tags": []
   },
   "outputs": [],
   "source": [
    "# tfidf_vec_3 = TfidfVectorizer(ngram_range=(1,2))\n",
    "# tfidf_vec_3"
   ]
  },
  {
   "cell_type": "code",
   "execution_count": 216,
   "id": "c7593c72",
   "metadata": {
    "execution": {
     "iopub.execute_input": "2023-08-12T20:10:37.917103Z",
     "iopub.status.busy": "2023-08-12T20:10:37.916610Z",
     "iopub.status.idle": "2023-08-12T20:10:37.921949Z",
     "shell.execute_reply": "2023-08-12T20:10:37.920687Z"
    },
    "papermill": {
     "duration": 0.120778,
     "end_time": "2023-08-12T20:10:37.924386",
     "exception": false,
     "start_time": "2023-08-12T20:10:37.803608",
     "status": "completed"
    },
    "tags": []
   },
   "outputs": [],
   "source": [
    "# ct_RTonly = ColumnTransformer(transformers=[\n",
    "#                                             ('txt', tfidf_vec_3, 'reviewText'),\n",
    "#                                             ], remainder='drop')\n",
    "# ct_RTonly"
   ]
  },
  {
   "cell_type": "code",
   "execution_count": 217,
   "id": "2c231f50",
   "metadata": {
    "execution": {
     "iopub.execute_input": "2023-08-12T20:10:38.136613Z",
     "iopub.status.busy": "2023-08-12T20:10:38.136169Z",
     "iopub.status.idle": "2023-08-12T20:10:38.141373Z",
     "shell.execute_reply": "2023-08-12T20:10:38.140107Z"
    },
    "papermill": {
     "duration": 0.114789,
     "end_time": "2023-08-12T20:10:38.144106",
     "exception": false,
     "start_time": "2023-08-12T20:10:38.029317",
     "status": "completed"
    },
    "tags": []
   },
   "outputs": [],
   "source": [
    "# pipe_RTonly = Pipeline(steps=[\n",
    "#     (\"preprocessor\", ct_RTonly),\n",
    "#     (\"model\", LogisticRegression())\n",
    "# ])\n",
    "\n",
    "# pipe_RTonly.set_params(model__C=10, model__max_iter=100000)\n",
    "\n",
    "# pipe_RTonly"
   ]
  },
  {
   "cell_type": "markdown",
   "id": "83fd61d5",
   "metadata": {
    "papermill": {
     "duration": 0.105635,
     "end_time": "2023-08-12T20:10:38.355950",
     "exception": false,
     "start_time": "2023-08-12T20:10:38.250315",
     "status": "completed"
    },
    "tags": []
   },
   "source": [
    "## Using the 'submit_v4' function  "
   ]
  },
  {
   "cell_type": "markdown",
   "id": "6834f4e5",
   "metadata": {
    "papermill": {
     "duration": 0.108114,
     "end_time": "2023-08-12T20:10:38.570677",
     "exception": false,
     "start_time": "2023-08-12T20:10:38.462563",
     "status": "completed"
    },
    "tags": []
   },
   "source": [
    "### Try the best 4 parameters with submit_v4 function"
   ]
  },
  {
   "cell_type": "code",
   "execution_count": 218,
   "id": "ccd08e13",
   "metadata": {
    "execution": {
     "iopub.execute_input": "2023-08-12T20:10:38.783295Z",
     "iopub.status.busy": "2023-08-12T20:10:38.782886Z",
     "iopub.status.idle": "2023-08-12T20:10:38.788277Z",
     "shell.execute_reply": "2023-08-12T20:10:38.787150Z"
    },
    "papermill": {
     "duration": 0.115434,
     "end_time": "2023-08-12T20:10:38.790745",
     "exception": false,
     "start_time": "2023-08-12T20:10:38.675311",
     "status": "completed"
    },
    "tags": []
   },
   "outputs": [],
   "source": [
    "# best4 = [\"audienceScore\", \"rating\", \"isFrequentReviewer\", \"reviewText\"]\n",
    "\n",
    "# best4_dict = {'cat': [\"rating\", \"isFrequentReviewer\"],\n",
    "#              'num': [\"audienceScore\"],\n",
    "#              'txt': ['reviewText']}\n",
    "\n",
    "# best4_dict = {'num': [\"audienceScore\"],\n",
    "#              'txt': ['reviewText', 'movieid', 'director']}\n",
    "\n",
    "# best4_dict"
   ]
  },
  {
   "cell_type": "code",
   "execution_count": 219,
   "id": "9fd1336f",
   "metadata": {
    "execution": {
     "iopub.execute_input": "2023-08-12T20:10:39.005516Z",
     "iopub.status.busy": "2023-08-12T20:10:39.005086Z",
     "iopub.status.idle": "2023-08-12T20:10:39.009822Z",
     "shell.execute_reply": "2023-08-12T20:10:39.008642Z"
    },
    "papermill": {
     "duration": 0.116196,
     "end_time": "2023-08-12T20:10:39.012478",
     "exception": false,
     "start_time": "2023-08-12T20:10:38.896282",
     "status": "completed"
    },
    "tags": []
   },
   "outputs": [],
   "source": [
    "# submit_v4(selected_features=best4_dict)"
   ]
  },
  {
   "cell_type": "markdown",
   "id": "8473315b",
   "metadata": {
    "papermill": {
     "duration": 0.104899,
     "end_time": "2023-08-12T20:10:39.225130",
     "exception": false,
     "start_time": "2023-08-12T20:10:39.120231",
     "status": "completed"
    },
    "tags": []
   },
   "source": [
    "### Try the best 3 parameters with submit_v4 function"
   ]
  },
  {
   "cell_type": "code",
   "execution_count": 220,
   "id": "0736f77d",
   "metadata": {
    "execution": {
     "iopub.execute_input": "2023-08-12T20:10:39.438851Z",
     "iopub.status.busy": "2023-08-12T20:10:39.438390Z",
     "iopub.status.idle": "2023-08-12T20:10:39.443381Z",
     "shell.execute_reply": "2023-08-12T20:10:39.442072Z"
    },
    "papermill": {
     "duration": 0.116062,
     "end_time": "2023-08-12T20:10:39.445866",
     "exception": false,
     "start_time": "2023-08-12T20:10:39.329804",
     "status": "completed"
    },
    "tags": []
   },
   "outputs": [],
   "source": [
    "# best3 = [\"audienceScore\", \"isFrequentReviewer\", \"reviewText\"]\n",
    "# best3_dict = {'cat': [\"isFrequentReviewer\"],\n",
    "#              'num': [\"audienceScore\"],\n",
    "#              'txt': ['reviewText']}\n",
    "# best3_dict"
   ]
  },
  {
   "cell_type": "code",
   "execution_count": 221,
   "id": "9d7b7ecc",
   "metadata": {
    "execution": {
     "iopub.execute_input": "2023-08-12T20:10:39.665063Z",
     "iopub.status.busy": "2023-08-12T20:10:39.664607Z",
     "iopub.status.idle": "2023-08-12T20:10:39.669768Z",
     "shell.execute_reply": "2023-08-12T20:10:39.668413Z"
    },
    "papermill": {
     "duration": 0.11844,
     "end_time": "2023-08-12T20:10:39.672516",
     "exception": false,
     "start_time": "2023-08-12T20:10:39.554076",
     "status": "completed"
    },
    "tags": []
   },
   "outputs": [],
   "source": [
    "# submit_v4(selected_features=best3_dict)"
   ]
  },
  {
   "cell_type": "markdown",
   "id": "8419a06a",
   "metadata": {
    "papermill": {
     "duration": 0.110947,
     "end_time": "2023-08-12T20:10:39.892181",
     "exception": false,
     "start_time": "2023-08-12T20:10:39.781234",
     "status": "completed"
    },
    "tags": []
   },
   "source": [
    "## Try throwing almost everything (no boxOffice) at submit_v4!  "
   ]
  },
  {
   "cell_type": "code",
   "execution_count": 222,
   "id": "4e89845c",
   "metadata": {
    "execution": {
     "iopub.execute_input": "2023-08-12T20:10:40.121753Z",
     "iopub.status.busy": "2023-08-12T20:10:40.121338Z",
     "iopub.status.idle": "2023-08-12T20:10:40.129153Z",
     "shell.execute_reply": "2023-08-12T20:10:40.127900Z"
    },
    "papermill": {
     "duration": 0.125869,
     "end_time": "2023-08-12T20:10:40.131809",
     "exception": false,
     "start_time": "2023-08-12T20:10:40.005940",
     "status": "completed"
    },
    "tags": []
   },
   "outputs": [
    {
     "data": {
      "text/plain": [
       "\"Most from merged = ['movieid', 'reviewerName', 'isFrequentReviewer', 'reviewText',\\n       'audienceScore', 'rating', 'runtimeMinutes', 'genre', \\n       'originalLanguage', 'director']\""
      ]
     },
     "execution_count": 222,
     "metadata": {},
     "output_type": "execute_result"
    }
   ],
   "source": [
    "\"\"\"Most from merged = ['movieid', 'reviewerName', 'isFrequentReviewer', 'reviewText',\n",
    "       'audienceScore', 'rating', 'runtimeMinutes', 'genre', \n",
    "       'originalLanguage', 'director']\"\"\"\n",
    "\n",
    "# almost_dict = {'cat': [\"isFrequentReviewer\", \"rating\", \"originalLanguage\"],\n",
    "#              'num': [\"audienceScore\", \"runtimeMinutes\"],\n",
    "#              'txt': ['reviewText', 'reviewerName', 'movieid', 'genre', 'director']}\n",
    "# almost_dict"
   ]
  },
  {
   "cell_type": "code",
   "execution_count": 223,
   "id": "15a627d0",
   "metadata": {
    "execution": {
     "iopub.execute_input": "2023-08-12T20:10:40.350209Z",
     "iopub.status.busy": "2023-08-12T20:10:40.349433Z",
     "iopub.status.idle": "2023-08-12T20:10:40.354340Z",
     "shell.execute_reply": "2023-08-12T20:10:40.353367Z"
    },
    "papermill": {
     "duration": 0.11822,
     "end_time": "2023-08-12T20:10:40.357179",
     "exception": false,
     "start_time": "2023-08-12T20:10:40.238959",
     "status": "completed"
    },
    "tags": []
   },
   "outputs": [],
   "source": [
    "# submit_v4(selected_features=almost_dict)"
   ]
  },
  {
   "cell_type": "markdown",
   "id": "0949b499",
   "metadata": {
    "papermill": {
     "duration": 0.111131,
     "end_time": "2023-08-12T20:10:40.579299",
     "exception": false,
     "start_time": "2023-08-12T20:10:40.468168",
     "status": "completed"
    },
    "tags": []
   },
   "source": [
    "## Try throwing everything possible at submit_v4!  "
   ]
  },
  {
   "cell_type": "code",
   "execution_count": 224,
   "id": "9bfefc15",
   "metadata": {
    "execution": {
     "iopub.execute_input": "2023-08-12T20:10:40.793389Z",
     "iopub.status.busy": "2023-08-12T20:10:40.792760Z",
     "iopub.status.idle": "2023-08-12T20:10:40.798632Z",
     "shell.execute_reply": "2023-08-12T20:10:40.797792Z"
    },
    "papermill": {
     "duration": 0.115617,
     "end_time": "2023-08-12T20:10:40.800814",
     "exception": false,
     "start_time": "2023-08-12T20:10:40.685197",
     "status": "completed"
    },
    "tags": []
   },
   "outputs": [
    {
     "data": {
      "text/plain": [
       "\"All from merged = ['movieid', 'reviewerName', 'isFrequentReviewer', 'reviewText',\\n       'audienceScore', 'rating', 'runtimeMinutes', 'genre', 'boxOffice',\\n       'originalLanguage', 'director']\""
      ]
     },
     "execution_count": 224,
     "metadata": {},
     "output_type": "execute_result"
    }
   ],
   "source": [
    "\"\"\"All from merged = ['movieid', 'reviewerName', 'isFrequentReviewer', 'reviewText',\n",
    "       'audienceScore', 'rating', 'runtimeMinutes', 'genre', 'boxOffice',\n",
    "       'originalLanguage', 'director']\"\"\"\n",
    "\n",
    "# all_dict = {'cat': [\"isFrequentReviewer\", \"rating\", \"originalLanguage\"],\n",
    "#              'num': [\"audienceScore\", \"runtimeMinutes\", \"boxOffice\"],\n",
    "#              'txt': ['reviewText', 'reviewerName', 'movieid', 'genre', 'director']}\n",
    "# all_dict"
   ]
  },
  {
   "cell_type": "code",
   "execution_count": 225,
   "id": "0bcdd46c",
   "metadata": {
    "execution": {
     "iopub.execute_input": "2023-08-12T20:10:41.016819Z",
     "iopub.status.busy": "2023-08-12T20:10:41.016364Z",
     "iopub.status.idle": "2023-08-12T20:10:41.021104Z",
     "shell.execute_reply": "2023-08-12T20:10:41.020015Z"
    },
    "papermill": {
     "duration": 0.114087,
     "end_time": "2023-08-12T20:10:41.023209",
     "exception": false,
     "start_time": "2023-08-12T20:10:40.909122",
     "status": "completed"
    },
    "tags": []
   },
   "outputs": [],
   "source": [
    "# submit_v4(selected_features=all_dict)"
   ]
  },
  {
   "cell_type": "markdown",
   "id": "2aafab53",
   "metadata": {
    "papermill": {
     "duration": 0.1064,
     "end_time": "2023-08-12T20:10:41.236983",
     "exception": false,
     "start_time": "2023-08-12T20:10:41.130583",
     "status": "completed"
    },
    "tags": []
   },
   "source": [
    "## Try GridSearchCV on everything  "
   ]
  },
  {
   "cell_type": "code",
   "execution_count": 226,
   "id": "32788e82",
   "metadata": {
    "execution": {
     "iopub.execute_input": "2023-08-12T20:10:41.451884Z",
     "iopub.status.busy": "2023-08-12T20:10:41.451110Z",
     "iopub.status.idle": "2023-08-12T20:10:41.457130Z",
     "shell.execute_reply": "2023-08-12T20:10:41.455956Z"
    },
    "papermill": {
     "duration": 0.115629,
     "end_time": "2023-08-12T20:10:41.459723",
     "exception": false,
     "start_time": "2023-08-12T20:10:41.344094",
     "status": "completed"
    },
    "tags": []
   },
   "outputs": [],
   "source": [
    "# param_grid = {\n",
    "#     \"model__C\": [0.5, 2, 5, 15]\n",
    "# }\n",
    "\n",
    "# param_grid = {\n",
    "#     'model__C' : [1, 5],\n",
    "#     'model__solver': ['lbfgs', 'liblinear', 'newton-cg', 'newton-cholesky', 'sag', 'saga']\n",
    "# }\n",
    "\n",
    "# param_grid = {\n",
    "#     'model__C' : [1, 5],\n",
    "#     'model__solver': ['lbfgs', 'liblinear', 'sag', 'saga']\n",
    "# }\n",
    "\n",
    "# param_grid = {\n",
    "#     'model__C' : [1, 5, 10, 15],\n",
    "#     'model__solver': ['lbfgs', 'liblinear', 'saga', 'newton-cg']\n",
    "# }\n",
    "\n",
    "# param_grid = {\n",
    "#     'model__C' : [1, 5, 10, 20],\n",
    "#     'model__solver': ['lbfgs', 'liblinear', 'saga']\n",
    "# }\n",
    "\n",
    "# param_grid"
   ]
  },
  {
   "cell_type": "code",
   "execution_count": 227,
   "id": "13888e39",
   "metadata": {
    "execution": {
     "iopub.execute_input": "2023-08-12T20:10:41.676906Z",
     "iopub.status.busy": "2023-08-12T20:10:41.675852Z",
     "iopub.status.idle": "2023-08-12T20:10:41.680552Z",
     "shell.execute_reply": "2023-08-12T20:10:41.679727Z"
    },
    "papermill": {
     "duration": 0.114228,
     "end_time": "2023-08-12T20:10:41.682772",
     "exception": false,
     "start_time": "2023-08-12T20:10:41.568544",
     "status": "completed"
    },
    "tags": []
   },
   "outputs": [],
   "source": [
    "# submit_v4(selected_features={'txt': [\"genre\"]}, param_grid=param_grid)"
   ]
  },
  {
   "cell_type": "code",
   "execution_count": 228,
   "id": "1269fd2c",
   "metadata": {
    "execution": {
     "iopub.execute_input": "2023-08-12T20:10:41.898179Z",
     "iopub.status.busy": "2023-08-12T20:10:41.896954Z",
     "iopub.status.idle": "2023-08-12T20:10:41.904229Z",
     "shell.execute_reply": "2023-08-12T20:10:41.903167Z"
    },
    "papermill": {
     "duration": 0.117238,
     "end_time": "2023-08-12T20:10:41.906743",
     "exception": false,
     "start_time": "2023-08-12T20:10:41.789505",
     "status": "completed"
    },
    "tags": []
   },
   "outputs": [
    {
     "data": {
      "text/plain": [
       "\"Used 'groupby' function instead on 'drop_duplicates' on movies.csv file. \\nIt reduced the number of missing values significantly! \\nThen used LogisticRegression() with GridSearchCV on submit_v4 function with \\nparam_grid={'model__C': [1, 5, 10], 'model__solver': ['lbfgs', 'liblinear', 'saga']}. \\nThe best f1_micro score in GridSearchCV was 0.8399771362056203 which is highest among \\nall the versions so far. Best C was 5 and best solver was 'saga'.\\nScore obtained was 0.84385 which is lower than 0.84441.\""
      ]
     },
     "execution_count": 228,
     "metadata": {},
     "output_type": "execute_result"
    }
   ],
   "source": [
    "# submit_v4(selected_features=all_dict, param_grid=param_grid)\n",
    "\n",
    "# Best C was 5\n",
    "# Best solver was liblinear\n",
    "\n",
    "\"\"\"Used 'groupby' function instead on 'drop_duplicates' on movies.csv file. \n",
    "It reduced the number of missing values significantly! \n",
    "Then used LogisticRegression() with GridSearchCV on submit_v4 function with \n",
    "param_grid={'model__C': [1, 5, 10], 'model__solver': ['lbfgs', 'liblinear', 'saga']}. \n",
    "The best f1_micro score in GridSearchCV was 0.8399771362056203 which is highest among \n",
    "all the versions so far. Best C was 5 and best solver was 'saga'.\n",
    "Score obtained was 0.84385 which is lower than 0.84441.\"\"\""
   ]
  },
  {
   "cell_type": "code",
   "execution_count": 229,
   "id": "7c94d1a1",
   "metadata": {
    "execution": {
     "iopub.execute_input": "2023-08-12T20:10:42.120637Z",
     "iopub.status.busy": "2023-08-12T20:10:42.119303Z",
     "iopub.status.idle": "2023-08-12T20:10:42.124549Z",
     "shell.execute_reply": "2023-08-12T20:10:42.123330Z"
    },
    "papermill": {
     "duration": 0.11441,
     "end_time": "2023-08-12T20:10:42.127143",
     "exception": false,
     "start_time": "2023-08-12T20:10:42.012733",
     "status": "completed"
    },
    "tags": []
   },
   "outputs": [],
   "source": [
    "# Best 5 parameters\n",
    "\n",
    "# best5_dict = {'num': [\"audienceScore\"],\n",
    "#              'txt': ['reviewText', 'reviewerName','movieid', 'director']}\n",
    "\n",
    "# best5_dict"
   ]
  },
  {
   "cell_type": "code",
   "execution_count": 230,
   "id": "ce6d9027",
   "metadata": {
    "execution": {
     "iopub.execute_input": "2023-08-12T20:10:42.340956Z",
     "iopub.status.busy": "2023-08-12T20:10:42.339882Z",
     "iopub.status.idle": "2023-08-12T20:10:42.348975Z",
     "shell.execute_reply": "2023-08-12T20:10:42.347662Z"
    },
    "papermill": {
     "duration": 0.118199,
     "end_time": "2023-08-12T20:10:42.351227",
     "exception": false,
     "start_time": "2023-08-12T20:10:42.233028",
     "status": "completed"
    },
    "tags": []
   },
   "outputs": [
    {
     "data": {
      "text/plain": [
       "\"(Update): Used both CountVectorizer and TfidfVectorizer on a massive GridSearchCV \\nwhich took 22527.2s  (6.25 hrs) to run! Gave a score of 0.8439093822800923 locally and did not overfit!\\nBest params: {'model__C': 1, 'model__solver': 'liblinear'}.\\nHighest public score yet: 0.84591 (Rank up from 9 to 5!)\""
      ]
     },
     "execution_count": 230,
     "metadata": {},
     "output_type": "execute_result"
    }
   ],
   "source": [
    "# Submit best 5 features\n",
    "\n",
    "\"\"\"(Update): Used both CountVectorizer and TfidfVectorizer on a massive GridSearchCV \n",
    "which took 22527.2s  (6.25 hrs) to run! Gave a score of 0.8439093822800923 locally and did not overfit!\n",
    "Best params: {'model__C': 1, 'model__solver': 'liblinear'}.\n",
    "Highest public score yet: 0.84591 (Rank up from 9 to 5!)\"\"\"\n",
    "\n",
    "# param_grid = {\n",
    "#     'model__C' : [5, 10, 15],\n",
    "#     'model__solver': ['lbfgs', 'liblinear', 'saga']\n",
    "# }\n",
    "\n",
    "\n",
    "# Try new param_grid with fit_intercept and dual in logreg\n",
    "\n",
    "# param_grid = {\n",
    "#     'model__C' : [1],\n",
    "#     'model__solver': ['liblinear'],\n",
    "#     \"model__fit_intercept\" : [True, False],\n",
    "#     \"model__dual\" : [True, False] \n",
    "# }\n",
    "\n",
    "\n",
    "# Local testing  \n",
    "# submit_v4(selected_features={'num': ['audienceScore']},\n",
    "#          add_countvec=True)\n",
    "\n",
    "# submit_v4(selected_features={'num': ['audienceScore']},\n",
    "#          add_countvec=True, \n",
    "#           param_grid=param_grid)\n",
    "\n",
    "\n",
    "# Main submission\n",
    "\n",
    "# submit_v4(selected_features=best5_dict,\n",
    "#          add_countvec=True)\n",
    "\n",
    "\n",
    "# submit_v4(selected_features=best5_dict,\n",
    "#           add_countvec=True,\n",
    "#           param_grid=param_grid)"
   ]
  },
  {
   "cell_type": "code",
   "execution_count": 231,
   "id": "703bac70",
   "metadata": {
    "execution": {
     "iopub.execute_input": "2023-08-12T20:10:42.567556Z",
     "iopub.status.busy": "2023-08-12T20:10:42.567166Z",
     "iopub.status.idle": "2023-08-12T20:10:42.572779Z",
     "shell.execute_reply": "2023-08-12T20:10:42.571529Z"
    },
    "papermill": {
     "duration": 0.116659,
     "end_time": "2023-08-12T20:10:42.575387",
     "exception": false,
     "start_time": "2023-08-12T20:10:42.458728",
     "status": "completed"
    },
    "tags": []
   },
   "outputs": [],
   "source": [
    "## ALL DICT cv=10\n",
    "\n",
    "# all_dict = {'cat': [\"isFrequentReviewer\", \"rating\", \"originalLanguage\"],\n",
    "#              'num': [\"audienceScore\", \"runtimeMinutes\", \"boxOffice\"],\n",
    "#              'txt': ['reviewText', 'reviewerName', 'movieid', 'genre', 'director']}\n",
    "# print(all_dict)\n",
    "\n",
    "# param_grid = {\n",
    "#     'model__C' : [2, 5, 10],\n",
    "#     'model__solver': ['lbfgs', 'liblinear', 'saga']\n",
    "# }\n",
    "# print(param_grid)\n",
    "\n",
    "# param_grid = {\n",
    "#     'model__C' : [1, 5, 10],\n",
    "#     'model__solver': ['liblinear'],\n",
    "#     \"model__fit_intercept\" : [True, False],\n",
    "#     \"model__dual\" : [True, False] \n",
    "# }\n",
    "\n",
    "\n",
    "# Main submission\n",
    "\n",
    "# submit_v4(selected_model=LogisticRegression(C=5, solver='liblinear', max_iter=10000),\n",
    "#           selected_features=all_dict,\n",
    "#           param_grid=param_grid)\n",
    "\n",
    "# submit_v4(selected_features=all_dict,\n",
    "#           add_countvec=True,\n",
    "#           param_grid=param_grid)"
   ]
  },
  {
   "cell_type": "code",
   "execution_count": 232,
   "id": "f79252c8",
   "metadata": {
    "execution": {
     "iopub.execute_input": "2023-08-12T20:10:42.791085Z",
     "iopub.status.busy": "2023-08-12T20:10:42.790665Z",
     "iopub.status.idle": "2023-08-12T20:10:42.795322Z",
     "shell.execute_reply": "2023-08-12T20:10:42.794268Z"
    },
    "papermill": {
     "duration": 0.114931,
     "end_time": "2023-08-12T20:10:42.797871",
     "exception": false,
     "start_time": "2023-08-12T20:10:42.682940",
     "status": "completed"
    },
    "tags": []
   },
   "outputs": [],
   "source": [
    "# Best 6 parameters\n",
    "\n",
    "# best6_dict = {'cat': [\"isFrequentReviewer\"],\n",
    "#              'num': [\"audienceScore\"],\n",
    "#              'txt': ['reviewText', 'reviewerName', 'genre', 'director']}\n",
    "\n",
    "# best6_dict = {'num': [\"audienceScore\"],\n",
    "#              'txt': ['reviewText', 'reviewerName', 'genre','movieid', 'director']}\n",
    "\n",
    "# best6_dict"
   ]
  },
  {
   "cell_type": "code",
   "execution_count": 233,
   "id": "5509b28c",
   "metadata": {
    "execution": {
     "iopub.execute_input": "2023-08-12T20:10:43.014416Z",
     "iopub.status.busy": "2023-08-12T20:10:43.013975Z",
     "iopub.status.idle": "2023-08-12T20:10:43.018888Z",
     "shell.execute_reply": "2023-08-12T20:10:43.017598Z"
    },
    "papermill": {
     "duration": 0.117302,
     "end_time": "2023-08-12T20:10:43.021503",
     "exception": false,
     "start_time": "2023-08-12T20:10:42.904201",
     "status": "completed"
    },
    "tags": []
   },
   "outputs": [],
   "source": [
    "# Submit best 6 features (version 2)\n",
    "\n",
    "# submit_v4(selected_features=best6_dict,\n",
    "#           param_grid=param_grid)"
   ]
  },
  {
   "cell_type": "code",
   "execution_count": 234,
   "id": "6397ea1b",
   "metadata": {
    "execution": {
     "iopub.execute_input": "2023-08-12T20:10:43.261408Z",
     "iopub.status.busy": "2023-08-12T20:10:43.260983Z",
     "iopub.status.idle": "2023-08-12T20:10:43.265831Z",
     "shell.execute_reply": "2023-08-12T20:10:43.264618Z"
    },
    "papermill": {
     "duration": 0.13595,
     "end_time": "2023-08-12T20:10:43.268287",
     "exception": false,
     "start_time": "2023-08-12T20:10:43.132337",
     "status": "completed"
    },
    "tags": []
   },
   "outputs": [],
   "source": [
    "# Best 7 parameters\n",
    "\n",
    "# best7_dict = {'cat': [\"isFrequentReviewer\"],\n",
    "#              'num': [\"audienceScore\"],\n",
    "#              'txt': ['reviewText', 'reviewerName', 'movieid', 'genre', 'director']}\n",
    "# best7_dict"
   ]
  },
  {
   "cell_type": "code",
   "execution_count": 235,
   "id": "2ca410e0",
   "metadata": {
    "execution": {
     "iopub.execute_input": "2023-08-12T20:10:43.485113Z",
     "iopub.status.busy": "2023-08-12T20:10:43.484736Z",
     "iopub.status.idle": "2023-08-12T20:10:43.489614Z",
     "shell.execute_reply": "2023-08-12T20:10:43.488491Z"
    },
    "papermill": {
     "duration": 0.115142,
     "end_time": "2023-08-12T20:10:43.492197",
     "exception": false,
     "start_time": "2023-08-12T20:10:43.377055",
     "status": "completed"
    },
    "tags": []
   },
   "outputs": [],
   "source": [
    "# Submit best 7 features\n",
    "\n",
    "# submit_v4(selected_features=best7_dict,\n",
    "#           param_grid=param_grid)"
   ]
  },
  {
   "cell_type": "code",
   "execution_count": 236,
   "id": "fcca42d3",
   "metadata": {
    "execution": {
     "iopub.execute_input": "2023-08-12T20:10:43.777021Z",
     "iopub.status.busy": "2023-08-12T20:10:43.776304Z",
     "iopub.status.idle": "2023-08-12T20:10:43.780303Z",
     "shell.execute_reply": "2023-08-12T20:10:43.779494Z"
    },
    "papermill": {
     "duration": 0.181445,
     "end_time": "2023-08-12T20:10:43.782433",
     "exception": false,
     "start_time": "2023-08-12T20:10:43.600988",
     "status": "completed"
    },
    "tags": []
   },
   "outputs": [],
   "source": [
    "# submit_v4(selected_features=best6_dict, param_grid=param_grid)"
   ]
  },
  {
   "cell_type": "markdown",
   "id": "9425ac61",
   "metadata": {
    "papermill": {
     "duration": 0.104326,
     "end_time": "2023-08-12T20:10:43.992567",
     "exception": false,
     "start_time": "2023-08-12T20:10:43.888241",
     "status": "completed"
    },
    "tags": []
   },
   "source": [
    "## Try a new feature dict  \n",
    "\n"
   ]
  },
  {
   "cell_type": "code",
   "execution_count": 237,
   "id": "8c69c553",
   "metadata": {
    "execution": {
     "iopub.execute_input": "2023-08-12T20:10:44.209056Z",
     "iopub.status.busy": "2023-08-12T20:10:44.207973Z",
     "iopub.status.idle": "2023-08-12T20:10:44.213163Z",
     "shell.execute_reply": "2023-08-12T20:10:44.211983Z"
    },
    "papermill": {
     "duration": 0.115294,
     "end_time": "2023-08-12T20:10:44.215574",
     "exception": false,
     "start_time": "2023-08-12T20:10:44.100280",
     "status": "completed"
    },
    "tags": []
   },
   "outputs": [],
   "source": [
    "# all_dict_new = {'cat': [\"isFrequentReviewer\", \"rating\", \"originalLanguage\"],\n",
    "#              'num': [\"audienceScore\", \"runtimeMinutes\", \"boxOffice\"],\n",
    "#              'txt': ['reviewText', \"reviewerName\", 'movieid', 'genre', 'director']}\n",
    "# all_dict_new"
   ]
  },
  {
   "cell_type": "code",
   "execution_count": 238,
   "id": "1eae65a3",
   "metadata": {
    "execution": {
     "iopub.execute_input": "2023-08-12T20:10:44.430433Z",
     "iopub.status.busy": "2023-08-12T20:10:44.429677Z",
     "iopub.status.idle": "2023-08-12T20:10:44.434063Z",
     "shell.execute_reply": "2023-08-12T20:10:44.433177Z"
    },
    "papermill": {
     "duration": 0.115309,
     "end_time": "2023-08-12T20:10:44.436383",
     "exception": false,
     "start_time": "2023-08-12T20:10:44.321074",
     "status": "completed"
    },
    "tags": []
   },
   "outputs": [],
   "source": [
    "# submit_v4(selected_features={'txt': ['genre']}, param_grid=param_grid)"
   ]
  },
  {
   "cell_type": "code",
   "execution_count": 239,
   "id": "b05211cf",
   "metadata": {
    "execution": {
     "iopub.execute_input": "2023-08-12T20:10:44.652763Z",
     "iopub.status.busy": "2023-08-12T20:10:44.652336Z",
     "iopub.status.idle": "2023-08-12T20:10:44.657530Z",
     "shell.execute_reply": "2023-08-12T20:10:44.656390Z"
    },
    "papermill": {
     "duration": 0.115569,
     "end_time": "2023-08-12T20:10:44.659756",
     "exception": false,
     "start_time": "2023-08-12T20:10:44.544187",
     "status": "completed"
    },
    "tags": []
   },
   "outputs": [],
   "source": [
    "# submit_v4(selected_features=all_dict_new, param_grid=param_grid)"
   ]
  },
  {
   "cell_type": "code",
   "execution_count": 240,
   "id": "5d1d7ab7",
   "metadata": {
    "execution": {
     "iopub.execute_input": "2023-08-12T20:10:44.874664Z",
     "iopub.status.busy": "2023-08-12T20:10:44.873967Z",
     "iopub.status.idle": "2023-08-12T20:10:44.877960Z",
     "shell.execute_reply": "2023-08-12T20:10:44.877072Z"
    },
    "papermill": {
     "duration": 0.112894,
     "end_time": "2023-08-12T20:10:44.880333",
     "exception": false,
     "start_time": "2023-08-12T20:10:44.767439",
     "status": "completed"
    },
    "tags": []
   },
   "outputs": [],
   "source": [
    "# Try non-text based columns\n",
    "# num_cat_dict = {'cat': ['isFrequentReviewer', 'rating', 'originalLanguage'],\n",
    "#  'num': ['audienceScore', 'runtimeMinutes', 'boxOffice']}\n",
    "# num_cat_dict"
   ]
  },
  {
   "cell_type": "code",
   "execution_count": 241,
   "id": "df1c701f",
   "metadata": {
    "execution": {
     "iopub.execute_input": "2023-08-12T20:10:45.094194Z",
     "iopub.status.busy": "2023-08-12T20:10:45.093633Z",
     "iopub.status.idle": "2023-08-12T20:10:45.098333Z",
     "shell.execute_reply": "2023-08-12T20:10:45.097403Z"
    },
    "papermill": {
     "duration": 0.114861,
     "end_time": "2023-08-12T20:10:45.100515",
     "exception": false,
     "start_time": "2023-08-12T20:10:44.985654",
     "status": "completed"
    },
    "tags": []
   },
   "outputs": [],
   "source": [
    "# Use num_cat_dict features\n",
    "# (Update): Gets a local score of 0.7027181356991726. Not great.\n",
    "# submit_v4(selected_model=LogisticRegression(max_iter=100000), selected_features=num_cat_dict, param_grid=param_grid)"
   ]
  },
  {
   "cell_type": "code",
   "execution_count": 242,
   "id": "201cfde0",
   "metadata": {
    "execution": {
     "iopub.execute_input": "2023-08-12T20:10:45.317866Z",
     "iopub.status.busy": "2023-08-12T20:10:45.317113Z",
     "iopub.status.idle": "2023-08-12T20:10:45.321492Z",
     "shell.execute_reply": "2023-08-12T20:10:45.320338Z"
    },
    "papermill": {
     "duration": 0.117003,
     "end_time": "2023-08-12T20:10:45.324191",
     "exception": false,
     "start_time": "2023-08-12T20:10:45.207188",
     "status": "completed"
    },
    "tags": []
   },
   "outputs": [],
   "source": [
    "# Try data other than reviewText\n",
    "\n",
    "# mov_dict = {'cat': ['rating', 'originalLanguage'],\n",
    "#  'num': ['audienceScore', 'runtimeMinutes', 'boxOffice'],\n",
    "#  'txt': ['movieid', 'genre', 'director']}\n",
    "# mov_dict"
   ]
  },
  {
   "cell_type": "code",
   "execution_count": 243,
   "id": "5386bd15",
   "metadata": {
    "execution": {
     "iopub.execute_input": "2023-08-12T20:10:45.545561Z",
     "iopub.status.busy": "2023-08-12T20:10:45.544754Z",
     "iopub.status.idle": "2023-08-12T20:10:45.549913Z",
     "shell.execute_reply": "2023-08-12T20:10:45.549046Z"
    },
    "papermill": {
     "duration": 0.121376,
     "end_time": "2023-08-12T20:10:45.552155",
     "exception": false,
     "start_time": "2023-08-12T20:10:45.430779",
     "status": "completed"
    },
    "tags": []
   },
   "outputs": [],
   "source": [
    "# Use mov_dict features\n",
    "# (Update): Gets a local score of 0.7475454316469369, which is not bad at all.\n",
    "# submit_v4(selected_model=LogisticRegression(max_iter=100000), selected_features=mov_dict, param_grid=param_grid)"
   ]
  },
  {
   "cell_type": "markdown",
   "id": "f966cc96",
   "metadata": {
    "papermill": {
     "duration": 0.106093,
     "end_time": "2023-08-12T20:10:45.766663",
     "exception": false,
     "start_time": "2023-08-12T20:10:45.660570",
     "status": "completed"
    },
    "tags": []
   },
   "source": [
    "# Try a new column 'reviewYN'  \n",
    "\n"
   ]
  },
  {
   "cell_type": "code",
   "execution_count": 244,
   "id": "fb1b82db",
   "metadata": {
    "execution": {
     "iopub.execute_input": "2023-08-12T20:10:45.986211Z",
     "iopub.status.busy": "2023-08-12T20:10:45.984976Z",
     "iopub.status.idle": "2023-08-12T20:10:45.989639Z",
     "shell.execute_reply": "2023-08-12T20:10:45.988799Z"
    },
    "papermill": {
     "duration": 0.116112,
     "end_time": "2023-08-12T20:10:45.991907",
     "exception": false,
     "start_time": "2023-08-12T20:10:45.875795",
     "status": "completed"
    },
    "tags": []
   },
   "outputs": [],
   "source": [
    "# all_dict_3 = {'cat': [\"isFrequentReviewer\", \"rating\", \"originalLanguage\", \"reviewYN\"],\n",
    "#              'num': [\"audienceScore\", \"runtimeMinutes\", \"boxOffice\"],\n",
    "#              'txt': ['reviewText', \"reviewerName\", 'movieid', 'genre', 'director']}\n",
    "# all_dict_3"
   ]
  },
  {
   "cell_type": "code",
   "execution_count": 245,
   "id": "92bdae1d",
   "metadata": {
    "execution": {
     "iopub.execute_input": "2023-08-12T20:10:46.207814Z",
     "iopub.status.busy": "2023-08-12T20:10:46.206824Z",
     "iopub.status.idle": "2023-08-12T20:10:46.211377Z",
     "shell.execute_reply": "2023-08-12T20:10:46.210574Z"
    },
    "papermill": {
     "duration": 0.11458,
     "end_time": "2023-08-12T20:10:46.213557",
     "exception": false,
     "start_time": "2023-08-12T20:10:46.098977",
     "status": "completed"
    },
    "tags": []
   },
   "outputs": [],
   "source": [
    "# submit_v4(selected_model=LogisticRegression(max_iter=100000),\n",
    "#          selected_features=all_dict_3, \n",
    "#           param_grid=param_grid)"
   ]
  },
  {
   "cell_type": "markdown",
   "id": "fb91e070",
   "metadata": {
    "papermill": {
     "duration": 0.106331,
     "end_time": "2023-08-12T20:10:46.426589",
     "exception": false,
     "start_time": "2023-08-12T20:10:46.320258",
     "status": "completed"
    },
    "tags": []
   },
   "source": [
    "### More GridSearchCV using LinearSVC  "
   ]
  },
  {
   "cell_type": "code",
   "execution_count": 246,
   "id": "1e5ea493",
   "metadata": {
    "execution": {
     "iopub.execute_input": "2023-08-12T20:10:46.645344Z",
     "iopub.status.busy": "2023-08-12T20:10:46.644275Z",
     "iopub.status.idle": "2023-08-12T20:10:46.649912Z",
     "shell.execute_reply": "2023-08-12T20:10:46.648620Z"
    },
    "papermill": {
     "duration": 0.116544,
     "end_time": "2023-08-12T20:10:46.652211",
     "exception": false,
     "start_time": "2023-08-12T20:10:46.535667",
     "status": "completed"
    },
    "tags": []
   },
   "outputs": [],
   "source": [
    "# param_grid_svc_2 = {\n",
    "#     'model__C': [1.0],\n",
    "#     'model__loss': ['hinge', 'squared_hinge'],\n",
    "#     'model__class_weight': ['balanced', None]\n",
    "# }\n",
    "# param_grid_svc_2"
   ]
  },
  {
   "cell_type": "code",
   "execution_count": 247,
   "id": "db66a075",
   "metadata": {
    "execution": {
     "iopub.execute_input": "2023-08-12T20:10:46.867980Z",
     "iopub.status.busy": "2023-08-12T20:10:46.867556Z",
     "iopub.status.idle": "2023-08-12T20:10:46.872159Z",
     "shell.execute_reply": "2023-08-12T20:10:46.870971Z"
    },
    "papermill": {
     "duration": 0.115687,
     "end_time": "2023-08-12T20:10:46.874436",
     "exception": false,
     "start_time": "2023-08-12T20:10:46.758749",
     "status": "completed"
    },
    "tags": []
   },
   "outputs": [],
   "source": [
    "# submit_v4(selected_model=LinearSVC(max_iter=100000, random_state=42), selected_features={'num': [\"audienceScore\"]}, param_grid=param_grid_svc_2)"
   ]
  },
  {
   "cell_type": "code",
   "execution_count": 248,
   "id": "b91ea846",
   "metadata": {
    "execution": {
     "iopub.execute_input": "2023-08-12T20:10:47.096239Z",
     "iopub.status.busy": "2023-08-12T20:10:47.094939Z",
     "iopub.status.idle": "2023-08-12T20:10:47.099913Z",
     "shell.execute_reply": "2023-08-12T20:10:47.098959Z"
    },
    "papermill": {
     "duration": 0.120601,
     "end_time": "2023-08-12T20:10:47.102180",
     "exception": false,
     "start_time": "2023-08-12T20:10:46.981579",
     "status": "completed"
    },
    "tags": []
   },
   "outputs": [],
   "source": [
    "# submit_v4(selected_model=LinearSVC(max_iter=100000, random_state=42), selected_features=all_dict, param_grid=param_grid_svc_2)"
   ]
  },
  {
   "cell_type": "markdown",
   "id": "9c148ba9",
   "metadata": {
    "papermill": {
     "duration": 0.112338,
     "end_time": "2023-08-12T20:10:47.325856",
     "exception": false,
     "start_time": "2023-08-12T20:10:47.213518",
     "status": "completed"
    },
    "tags": []
   },
   "source": [
    "### Boosting techniques  "
   ]
  },
  {
   "cell_type": "code",
   "execution_count": 249,
   "id": "e2a7ee69",
   "metadata": {
    "execution": {
     "iopub.execute_input": "2023-08-12T20:10:47.544559Z",
     "iopub.status.busy": "2023-08-12T20:10:47.543651Z",
     "iopub.status.idle": "2023-08-12T20:10:47.548759Z",
     "shell.execute_reply": "2023-08-12T20:10:47.547770Z"
    },
    "papermill": {
     "duration": 0.116513,
     "end_time": "2023-08-12T20:10:47.551134",
     "exception": false,
     "start_time": "2023-08-12T20:10:47.434621",
     "status": "completed"
    },
    "tags": []
   },
   "outputs": [],
   "source": [
    "# adc = AdaBoostClassifier(estimator=LogisticRegression(C=5, solver=\"saga\", max_iter=100000), n_estimators=50)\n",
    "# adc"
   ]
  },
  {
   "cell_type": "code",
   "execution_count": 250,
   "id": "e2a39e35",
   "metadata": {
    "execution": {
     "iopub.execute_input": "2023-08-12T20:10:47.834660Z",
     "iopub.status.busy": "2023-08-12T20:10:47.834280Z",
     "iopub.status.idle": "2023-08-12T20:10:47.838862Z",
     "shell.execute_reply": "2023-08-12T20:10:47.837719Z"
    },
    "papermill": {
     "duration": 0.115407,
     "end_time": "2023-08-12T20:10:47.841402",
     "exception": false,
     "start_time": "2023-08-12T20:10:47.725995",
     "status": "completed"
    },
    "tags": []
   },
   "outputs": [],
   "source": [
    "# submit_v4(selected_model=adc, selected_features={'num': [\"audienceScore\"]}, param_grid=None)"
   ]
  },
  {
   "cell_type": "code",
   "execution_count": 251,
   "id": "7f9a9033",
   "metadata": {
    "execution": {
     "iopub.execute_input": "2023-08-12T20:10:48.055966Z",
     "iopub.status.busy": "2023-08-12T20:10:48.055135Z",
     "iopub.status.idle": "2023-08-12T20:10:48.060200Z",
     "shell.execute_reply": "2023-08-12T20:10:48.059130Z"
    },
    "papermill": {
     "duration": 0.114687,
     "end_time": "2023-08-12T20:10:48.063016",
     "exception": false,
     "start_time": "2023-08-12T20:10:47.948329",
     "status": "completed"
    },
    "tags": []
   },
   "outputs": [],
   "source": [
    "# submit_v4(selected_model=adc, selected_features=all_dict, param_grid=None)\n",
    "\n",
    "# Took 1 hour 15 mins to run and gave a public score of only 0.71089. Discarded."
   ]
  },
  {
   "cell_type": "markdown",
   "id": "ee59be8a",
   "metadata": {
    "papermill": {
     "duration": 0.106177,
     "end_time": "2023-08-12T20:10:48.278508",
     "exception": false,
     "start_time": "2023-08-12T20:10:48.172331",
     "status": "completed"
    },
    "tags": []
   },
   "source": [
    "### LightGBM  "
   ]
  },
  {
   "cell_type": "code",
   "execution_count": 252,
   "id": "1583fad0",
   "metadata": {
    "execution": {
     "iopub.execute_input": "2023-08-12T20:10:48.491785Z",
     "iopub.status.busy": "2023-08-12T20:10:48.491003Z",
     "iopub.status.idle": "2023-08-12T20:10:48.495102Z",
     "shell.execute_reply": "2023-08-12T20:10:48.494111Z"
    },
    "papermill": {
     "duration": 0.112771,
     "end_time": "2023-08-12T20:10:48.497613",
     "exception": false,
     "start_time": "2023-08-12T20:10:48.384842",
     "status": "completed"
    },
    "tags": []
   },
   "outputs": [],
   "source": [
    "# lgb = ltb.LGBMClassifier()\n",
    "# lgb"
   ]
  },
  {
   "cell_type": "code",
   "execution_count": 253,
   "id": "21eb6333",
   "metadata": {
    "execution": {
     "iopub.execute_input": "2023-08-12T20:10:48.717247Z",
     "iopub.status.busy": "2023-08-12T20:10:48.716864Z",
     "iopub.status.idle": "2023-08-12T20:10:48.721664Z",
     "shell.execute_reply": "2023-08-12T20:10:48.720501Z"
    },
    "papermill": {
     "duration": 0.116504,
     "end_time": "2023-08-12T20:10:48.724126",
     "exception": false,
     "start_time": "2023-08-12T20:10:48.607622",
     "status": "completed"
    },
    "tags": []
   },
   "outputs": [],
   "source": [
    "# Try LightGBM with default settings\n",
    "# (Update): Public score only 0.77713. It was fast, took less than 5 mins (without GridSearchCV)\n",
    "\n",
    "# submit_v4(selected_model=ltb.LGBMClassifier(), selected_features=all_dict, param_grid=None)"
   ]
  },
  {
   "cell_type": "markdown",
   "id": "ce427934",
   "metadata": {
    "papermill": {
     "duration": 0.106576,
     "end_time": "2023-08-12T20:10:48.937200",
     "exception": false,
     "start_time": "2023-08-12T20:10:48.830624",
     "status": "completed"
    },
    "tags": []
   },
   "source": [
    "# Try feature selection and vocab fine tuning of reviewText column"
   ]
  },
  {
   "cell_type": "markdown",
   "id": "1c58a7ee",
   "metadata": {
    "papermill": {
     "duration": 0.110557,
     "end_time": "2023-08-12T20:10:49.154407",
     "exception": false,
     "start_time": "2023-08-12T20:10:49.043850",
     "status": "completed"
    },
    "tags": []
   },
   "source": [
    "## Plan  \n",
    "* Add a new column 'reviewWC' which has word count of 'reviewText'  \n",
    "    * Check if there is any relationship between 'reviewWC' and 'sentiment'\n",
    "* Work on vocabulary\n",
    "     * Use TfidfVectorizer and find out the vocabulary of 'reviewText' column for various ngrams\n",
    "     * Use RecursiveFeatureElimination (RFE) or RFECV to select 1000 top words/vocab for each ngram\n",
    "     * Use the final vocab (1000-3000 words) in the model and see how it performs compared to whole vocab\n"
   ]
  },
  {
   "cell_type": "code",
   "execution_count": 254,
   "id": "a1fc7697",
   "metadata": {
    "execution": {
     "iopub.execute_input": "2023-08-12T20:10:49.372276Z",
     "iopub.status.busy": "2023-08-12T20:10:49.371454Z",
     "iopub.status.idle": "2023-08-12T20:10:49.376533Z",
     "shell.execute_reply": "2023-08-12T20:10:49.375752Z"
    },
    "papermill": {
     "duration": 0.115358,
     "end_time": "2023-08-12T20:10:49.378903",
     "exception": false,
     "start_time": "2023-08-12T20:10:49.263545",
     "status": "completed"
    },
    "tags": []
   },
   "outputs": [],
   "source": [
    "# 'reviewWC' and 'sentiment'\n",
    "# (Conclusion): 'reviewWC' is practically same as DummyClassifier (accuracy of 0.6682375059904889 on train data). It just predicts 'positive' for all columns\n",
    "\n",
    "# reviewWC_dict = {\"num\": [\"reviewWC\"]}\n",
    "# submit_v4(selected_model=LogisticRegression(),\n",
    "#          selected_features=reviewWC_dict,\n",
    "#          param_grid=None)"
   ]
  },
  {
   "cell_type": "code",
   "execution_count": 255,
   "id": "2251fa00",
   "metadata": {
    "execution": {
     "iopub.execute_input": "2023-08-12T20:10:49.595417Z",
     "iopub.status.busy": "2023-08-12T20:10:49.594600Z",
     "iopub.status.idle": "2023-08-12T20:10:49.599556Z",
     "shell.execute_reply": "2023-08-12T20:10:49.598751Z"
    },
    "papermill": {
     "duration": 0.115955,
     "end_time": "2023-08-12T20:10:49.602009",
     "exception": false,
     "start_time": "2023-08-12T20:10:49.486054",
     "status": "completed"
    },
    "tags": []
   },
   "outputs": [],
   "source": [
    "# 'reviewYN' and 'sentiment'\n",
    "# (Conclusion): 'reviewYN' is practically same as DummyClassifier (accuracy of 0.6682375059904889 on train data). It just predicts 'positive' for all columns\n",
    "\n",
    "# reviewYN_dict = {\"cat\": [\"reviewYN\"]}\n",
    "# submit_v4(selected_model=LogisticRegression(),\n",
    "#          selected_features=reviewYN_dict,\n",
    "#          param_grid=None)"
   ]
  },
  {
   "cell_type": "markdown",
   "id": "9e7d49a7",
   "metadata": {
    "papermill": {
     "duration": 0.105987,
     "end_time": "2023-08-12T20:10:49.814801",
     "exception": false,
     "start_time": "2023-08-12T20:10:49.708814",
     "status": "completed"
    },
    "tags": []
   },
   "source": [
    "## Submissions using 'vocabulary' built from 'reviewText' data  "
   ]
  },
  {
   "cell_type": "markdown",
   "id": "3f9c10e0",
   "metadata": {
    "papermill": {
     "duration": 0.10735,
     "end_time": "2023-08-12T20:10:50.029841",
     "exception": false,
     "start_time": "2023-08-12T20:10:49.922491",
     "status": "completed"
    },
    "tags": []
   },
   "source": [
    "### Submit best 6 features along with common vocab  "
   ]
  },
  {
   "cell_type": "code",
   "execution_count": 256,
   "id": "1f67fc00",
   "metadata": {
    "execution": {
     "iopub.execute_input": "2023-08-12T20:10:50.244143Z",
     "iopub.status.busy": "2023-08-12T20:10:50.243314Z",
     "iopub.status.idle": "2023-08-12T20:10:50.248311Z",
     "shell.execute_reply": "2023-08-12T20:10:50.247437Z"
    },
    "papermill": {
     "duration": 0.115544,
     "end_time": "2023-08-12T20:10:50.250679",
     "exception": false,
     "start_time": "2023-08-12T20:10:50.135135",
     "status": "completed"
    },
    "tags": []
   },
   "outputs": [],
   "source": [
    "# Best 6 parameters (version 2)  \n",
    "\n",
    "# best6_dict = {'num': [\"audienceScore\"],\n",
    "#              'txt': ['reviewText', 'reviewerName', 'genre','movieid', 'director']}\n",
    "\n",
    "# best6_dict"
   ]
  },
  {
   "cell_type": "code",
   "execution_count": 257,
   "id": "564c11c3",
   "metadata": {
    "execution": {
     "iopub.execute_input": "2023-08-12T20:10:50.469660Z",
     "iopub.status.busy": "2023-08-12T20:10:50.469238Z",
     "iopub.status.idle": "2023-08-12T20:10:50.474438Z",
     "shell.execute_reply": "2023-08-12T20:10:50.473120Z"
    },
    "papermill": {
     "duration": 0.11476,
     "end_time": "2023-08-12T20:10:50.476952",
     "exception": false,
     "start_time": "2023-08-12T20:10:50.362192",
     "status": "completed"
    },
    "tags": []
   },
   "outputs": [],
   "source": [
    "# Submit best 6 features (version 2) with common vocabulary (common_1_2_grams)\n",
    "# (Update): Score 0.82867\n",
    "\n",
    "# submit_v4(selected_features=best6_dict,\n",
    "#           param_grid=param_grid,\n",
    "#          vocab=common_1_2_grams)"
   ]
  },
  {
   "cell_type": "code",
   "execution_count": 258,
   "id": "a817d503",
   "metadata": {
    "execution": {
     "iopub.execute_input": "2023-08-12T20:10:50.697672Z",
     "iopub.status.busy": "2023-08-12T20:10:50.697227Z",
     "iopub.status.idle": "2023-08-12T20:10:50.702239Z",
     "shell.execute_reply": "2023-08-12T20:10:50.700977Z"
    },
    "papermill": {
     "duration": 0.115204,
     "end_time": "2023-08-12T20:10:50.704723",
     "exception": false,
     "start_time": "2023-08-12T20:10:50.589519",
     "status": "completed"
    },
    "tags": []
   },
   "outputs": [],
   "source": [
    "# Submit best 6 features (version 2) with common vocabulary (common_1_2_3_grams)\n",
    "# Note: for this submission submit_v4 function has to be modified: reviewText TfidfVectorizer must have ngram_range(1,3).\n",
    "# (Update): Score in the range 0.825+\n",
    "\n",
    "# submit_v4(selected_features=best6_dict,\n",
    "#           param_grid=param_grid,\n",
    "#          vocab=common_1_2_3_grams)"
   ]
  }
 ],
 "metadata": {
  "kernelspec": {
   "display_name": "Python 3",
   "language": "python",
   "name": "python3"
  },
  "language_info": {
   "codemirror_mode": {
    "name": "ipython",
    "version": 3
   },
   "file_extension": ".py",
   "mimetype": "text/x-python",
   "name": "python",
   "nbconvert_exporter": "python",
   "pygments_lexer": "ipython3",
   "version": "3.10.10"
  },
  "papermill": {
   "default_parameters": {},
   "duration": 496.750284,
   "end_time": "2023-08-12T20:10:53.640657",
   "environment_variables": {},
   "exception": null,
   "input_path": "__notebook__.ipynb",
   "output_path": "__notebook__.ipynb",
   "parameters": {},
   "start_time": "2023-08-12T20:02:36.890373",
   "version": "2.4.0"
  }
 },
 "nbformat": 4,
 "nbformat_minor": 5
}
