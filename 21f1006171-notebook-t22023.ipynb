{
 "cells": [
  {
   "cell_type": "markdown",
   "id": "d463b63f",
   "metadata": {
    "papermill": {
     "duration": 0.092334,
     "end_time": "2023-08-10T19:33:32.722242",
     "exception": false,
     "start_time": "2023-08-10T19:33:32.629908",
     "status": "completed"
    },
    "tags": []
   },
   "source": [
    "# MLP Project (T2 2023) by Ganesh P  "
   ]
  },
  {
   "cell_type": "markdown",
   "id": "9204737d",
   "metadata": {
    "papermill": {
     "duration": 0.088843,
     "end_time": "2023-08-10T19:33:32.900827",
     "exception": false,
     "start_time": "2023-08-10T19:33:32.811984",
     "status": "completed"
    },
    "tags": []
   },
   "source": [
    "`Disclaimer`   \n",
    "\n",
    "> This final notebook contains only the most relevant code to show the path/flow of my project work over few weeks. Rest of the code is in [my github repo](https://github.com/ganeshbmc/MLP_project) which is private at present (I will make it public after the project is over).  "
   ]
  },
  {
   "cell_type": "markdown",
   "id": "f8c975b7",
   "metadata": {
    "papermill": {
     "duration": 0.090393,
     "end_time": "2023-08-10T19:33:33.080462",
     "exception": false,
     "start_time": "2023-08-10T19:33:32.990069",
     "status": "completed"
    },
    "tags": []
   },
   "source": [
    "`Strengths`  \n",
    "\n",
    "> * Modular code (DRY principle)  \n",
    "> * End to end pipeline in one function (with helper functions)   "
   ]
  },
  {
   "cell_type": "markdown",
   "id": "7c75afcb",
   "metadata": {
    "papermill": {
     "duration": 0.089708,
     "end_time": "2023-08-10T19:33:33.261775",
     "exception": false,
     "start_time": "2023-08-10T19:33:33.172067",
     "status": "completed"
    },
    "tags": []
   },
   "source": [
    "`Overview`  \n",
    "\n",
    "`PART I`  \n",
    "\n",
    "1.\t> Screen the datasets and import them.  \n",
    "2.\t> Perform EDA (first round).\n",
    "3.\t> Data cleaning.\n",
    "4.\t> Basic models including dummy model.\n",
    "5.\t> Because this is a text sentiment analysis project, focus on 'reviewText' column, work on cleaning text data and vectorising/tokenising it, build several models till the best possible score is reached.  \n",
    "\n",
    "`PART II`  \n",
    "\n",
    "6.\t> Merge train and movies dataset.\n",
    "7.\t> Perform EDA (second round) on merged dataset.\n",
    "8.\t> Data cleaning.\n",
    "9.\t> Build models on merged dataset.\n",
    "10.\t> Understand the results and do another round of EDA if needed.\n",
    "11.\t> Build final model.  \n",
    "\n",
    "`PART III (After project window closes)`  \n",
    "\n",
    "12. > Use NLTK library for further processing text data.  \n",
    "13. > Try to address comments from different languages, special characters etc.  \n",
    "14. > Try imblearn library to address class imbalance.  \n",
    "15. > Try to use currently available LLMs and see how my model performs agains them.  "
   ]
  },
  {
   "cell_type": "markdown",
   "id": "7aa7ede4",
   "metadata": {
    "papermill": {
     "duration": 0.088878,
     "end_time": "2023-08-10T19:33:33.439900",
     "exception": false,
     "start_time": "2023-08-10T19:33:33.351022",
     "status": "completed"
    },
    "tags": []
   },
   "source": [
    "`Default code on Kaggle notebook`  "
   ]
  },
  {
   "cell_type": "code",
   "execution_count": 1,
   "id": "c8ddab32",
   "metadata": {
    "_cell_guid": "b1076dfc-b9ad-4769-8c92-a6c4dae69d19",
    "_uuid": "8f2839f25d086af736a60e9eeb907d3b93b6e0e5",
    "execution": {
     "iopub.execute_input": "2023-08-10T19:33:33.620473Z",
     "iopub.status.busy": "2023-08-10T19:33:33.620080Z",
     "iopub.status.idle": "2023-08-10T19:33:33.637199Z",
     "shell.execute_reply": "2023-08-10T19:33:33.636072Z"
    },
    "papermill": {
     "duration": 0.110861,
     "end_time": "2023-08-10T19:33:33.640001",
     "exception": false,
     "start_time": "2023-08-10T19:33:33.529140",
     "status": "completed"
    },
    "tags": []
   },
   "outputs": [
    {
     "name": "stdout",
     "output_type": "stream",
     "text": [
      "/kaggle/input/sentiment-prediction-on-movie-reviews/movies.csv\n",
      "/kaggle/input/sentiment-prediction-on-movie-reviews/sample.csv\n",
      "/kaggle/input/sentiment-prediction-on-movie-reviews/train.csv\n",
      "/kaggle/input/sentiment-prediction-on-movie-reviews/test.csv\n"
     ]
    }
   ],
   "source": [
    "# This Python 3 environment comes with many helpful analytics libraries installed\n",
    "# It is defined by the kaggle/python Docker image: https://github.com/kaggle/docker-python\n",
    "# For example, here's several helpful packages to load\n",
    "\n",
    "import numpy as np # linear algebra\n",
    "import pandas as pd # data processing, CSV file I/O (e.g. pd.read_csv)\n",
    "\n",
    "# Input data files are available in the read-only \"../input/\" directory\n",
    "# For example, running this (by clicking run or pressing Shift+Enter) will list all files under the input directory\n",
    "\n",
    "import os\n",
    "for dirname, _, filenames in os.walk('/kaggle/input'):\n",
    "    for filename in filenames:\n",
    "        print(os.path.join(dirname, filename))\n",
    "\n",
    "# You can write up to 20GB to the current directory (/kaggle/working/) that gets preserved as output when you create a version using \"Save & Run All\" \n",
    "# You can also write temporary files to /kaggle/temp/, but they won't be saved outside of the current session"
   ]
  },
  {
   "cell_type": "markdown",
   "id": "9171a991",
   "metadata": {
    "papermill": {
     "duration": 0.089184,
     "end_time": "2023-08-10T19:33:33.819117",
     "exception": false,
     "start_time": "2023-08-10T19:33:33.729933",
     "status": "completed"
    },
    "tags": []
   },
   "source": [
    "### Specify platform  "
   ]
  },
  {
   "cell_type": "code",
   "execution_count": 2,
   "id": "67525f09",
   "metadata": {
    "execution": {
     "iopub.execute_input": "2023-08-10T19:33:34.002473Z",
     "iopub.status.busy": "2023-08-10T19:33:34.001463Z",
     "iopub.status.idle": "2023-08-10T19:33:34.006783Z",
     "shell.execute_reply": "2023-08-10T19:33:34.005664Z"
    },
    "papermill": {
     "duration": 0.100217,
     "end_time": "2023-08-10T19:33:34.008995",
     "exception": false,
     "start_time": "2023-08-10T19:33:33.908778",
     "status": "completed"
    },
    "tags": []
   },
   "outputs": [],
   "source": [
    "platform = 'kaggle'  "
   ]
  },
  {
   "cell_type": "markdown",
   "id": "8c2a1b5a",
   "metadata": {
    "papermill": {
     "duration": 0.090848,
     "end_time": "2023-08-10T19:33:34.192551",
     "exception": false,
     "start_time": "2023-08-10T19:33:34.101703",
     "status": "completed"
    },
    "tags": []
   },
   "source": [
    "### Import libraries  "
   ]
  },
  {
   "cell_type": "code",
   "execution_count": 3,
   "id": "e4e12b89",
   "metadata": {
    "execution": {
     "iopub.execute_input": "2023-08-10T19:33:34.393242Z",
     "iopub.status.busy": "2023-08-10T19:33:34.392571Z",
     "iopub.status.idle": "2023-08-10T19:33:36.826928Z",
     "shell.execute_reply": "2023-08-10T19:33:36.825618Z"
    },
    "papermill": {
     "duration": 2.527635,
     "end_time": "2023-08-10T19:33:36.829544",
     "exception": false,
     "start_time": "2023-08-10T19:33:34.301909",
     "status": "completed"
    },
    "tags": []
   },
   "outputs": [
    {
     "name": "stdout",
     "output_type": "stream",
     "text": [
      "Imports done.\n"
     ]
    }
   ],
   "source": [
    "import pandas as pd\n",
    "import numpy as np\n",
    "import matplotlib.pyplot as plt\n",
    "import seaborn as sns\n",
    "import re\n",
    "from itertools import compress\n",
    "\n",
    "from sklearn.dummy import DummyClassifier\n",
    "from sklearn.pipeline import Pipeline, FeatureUnion\n",
    "from sklearn.compose import ColumnTransformer\n",
    "from sklearn.metrics import classification_report, confusion_matrix,f1_score\n",
    "from sklearn.feature_extraction.text import TfidfVectorizer, CountVectorizer\n",
    "from sklearn.preprocessing import FunctionTransformer\n",
    "from sklearn.preprocessing import StandardScaler, MinMaxScaler, RobustScaler, OneHotEncoder, LabelEncoder\n",
    "from sklearn.impute import SimpleImputer\n",
    "from sklearn.linear_model import LogisticRegression, SGDClassifier\n",
    "from sklearn.tree import DecisionTreeClassifier\n",
    "from sklearn.ensemble import RandomForestClassifier, AdaBoostClassifier\n",
    "from sklearn.svm import LinearSVC\n",
    "from sklearn.naive_bayes import GaussianNB, BernoulliNB, CategoricalNB, ComplementNB, MultinomialNB\n",
    "from sklearn.model_selection import train_test_split, GridSearchCV, cross_val_score\n",
    "from sklearn.decomposition import PCA, TruncatedSVD\n",
    "from sklearn.feature_selection import RFECV\n",
    "from sklearn.feature_selection import RFE\n",
    "from sklearn.neural_network import MLPClassifier\n",
    "\n",
    "# import lightgbm as ltb\n",
    "\n",
    "import scipy.stats as stats\n",
    "print(\"Imports done.\")"
   ]
  },
  {
   "cell_type": "markdown",
   "id": "c25e169c",
   "metadata": {
    "papermill": {
     "duration": 0.089413,
     "end_time": "2023-08-10T19:33:37.009107",
     "exception": false,
     "start_time": "2023-08-10T19:33:36.919694",
     "status": "completed"
    },
    "tags": []
   },
   "source": [
    "# PART I  "
   ]
  },
  {
   "cell_type": "markdown",
   "id": "c8ee3aa9",
   "metadata": {
    "papermill": {
     "duration": 0.092632,
     "end_time": "2023-08-10T19:33:37.193635",
     "exception": false,
     "start_time": "2023-08-10T19:33:37.101003",
     "status": "completed"
    },
    "tags": []
   },
   "source": [
    "## Load datasets  "
   ]
  },
  {
   "cell_type": "code",
   "execution_count": 4,
   "id": "817bc565",
   "metadata": {
    "execution": {
     "iopub.execute_input": "2023-08-10T19:33:37.377194Z",
     "iopub.status.busy": "2023-08-10T19:33:37.376442Z",
     "iopub.status.idle": "2023-08-10T19:33:38.362385Z",
     "shell.execute_reply": "2023-08-10T19:33:38.361263Z"
    },
    "papermill": {
     "duration": 1.080356,
     "end_time": "2023-08-10T19:33:38.364730",
     "exception": false,
     "start_time": "2023-08-10T19:33:37.284374",
     "status": "completed"
    },
    "tags": []
   },
   "outputs": [
    {
     "data": {
      "text/plain": [
       "(162758, 5)"
      ]
     },
     "execution_count": 4,
     "metadata": {},
     "output_type": "execute_result"
    }
   ],
   "source": [
    "if platform == 'vscode':\n",
    "    traindf = pd.read_csv(\"data/train.csv\")\n",
    "else:\n",
    "    traindf = pd.read_csv(\"/kaggle/input/sentiment-prediction-on-movie-reviews/train.csv\")\n",
    "    \n",
    "traindf.shape"
   ]
  },
  {
   "cell_type": "code",
   "execution_count": 5,
   "id": "bb1918d8",
   "metadata": {
    "execution": {
     "iopub.execute_input": "2023-08-10T19:33:38.547922Z",
     "iopub.status.busy": "2023-08-10T19:33:38.547468Z",
     "iopub.status.idle": "2023-08-10T19:33:38.881140Z",
     "shell.execute_reply": "2023-08-10T19:33:38.880150Z"
    },
    "papermill": {
     "duration": 0.428317,
     "end_time": "2023-08-10T19:33:38.883612",
     "exception": false,
     "start_time": "2023-08-10T19:33:38.455295",
     "status": "completed"
    },
    "tags": []
   },
   "outputs": [
    {
     "data": {
      "text/plain": [
       "(55315, 4)"
      ]
     },
     "execution_count": 5,
     "metadata": {},
     "output_type": "execute_result"
    }
   ],
   "source": [
    "if platform == 'vscode':\n",
    "    testdf = pd.read_csv(\"data/test.csv\")\n",
    "else:\n",
    "    testdf = pd.read_csv(\"/kaggle/input/sentiment-prediction-on-movie-reviews/test.csv\")\n",
    "\n",
    "testdf.shape"
   ]
  },
  {
   "cell_type": "markdown",
   "id": "1d10fcea",
   "metadata": {
    "papermill": {
     "duration": 0.090725,
     "end_time": "2023-08-10T19:33:39.066071",
     "exception": false,
     "start_time": "2023-08-10T19:33:38.975346",
     "status": "completed"
    },
    "tags": []
   },
   "source": [
    "### Understanding the data and getting it ready for training and evaluating models  \n"
   ]
  },
  {
   "cell_type": "code",
   "execution_count": 6,
   "id": "a0a343ff",
   "metadata": {
    "execution": {
     "iopub.execute_input": "2023-08-10T19:33:39.251891Z",
     "iopub.status.busy": "2023-08-10T19:33:39.250595Z",
     "iopub.status.idle": "2023-08-10T19:33:39.257639Z",
     "shell.execute_reply": "2023-08-10T19:33:39.256568Z"
    },
    "papermill": {
     "duration": 0.102511,
     "end_time": "2023-08-10T19:33:39.259955",
     "exception": false,
     "start_time": "2023-08-10T19:33:39.157444",
     "status": "completed"
    },
    "tags": []
   },
   "outputs": [
    {
     "data": {
      "text/plain": [
       "(162758, 5)"
      ]
     },
     "execution_count": 6,
     "metadata": {},
     "output_type": "execute_result"
    }
   ],
   "source": [
    "traindf.shape"
   ]
  },
  {
   "cell_type": "code",
   "execution_count": 7,
   "id": "3283b412",
   "metadata": {
    "execution": {
     "iopub.execute_input": "2023-08-10T19:33:39.445736Z",
     "iopub.status.busy": "2023-08-10T19:33:39.445057Z",
     "iopub.status.idle": "2023-08-10T19:33:39.681383Z",
     "shell.execute_reply": "2023-08-10T19:33:39.680196Z"
    },
    "papermill": {
     "duration": 0.33136,
     "end_time": "2023-08-10T19:33:39.683794",
     "exception": false,
     "start_time": "2023-08-10T19:33:39.352434",
     "status": "completed"
    },
    "tags": []
   },
   "outputs": [
    {
     "name": "stdout",
     "output_type": "stream",
     "text": [
      "<class 'pandas.core.frame.DataFrame'>\n",
      "RangeIndex: 162758 entries, 0 to 162757\n",
      "Data columns (total 5 columns):\n",
      " #   Column              Non-Null Count   Dtype \n",
      "---  ------              --------------   ----- \n",
      " 0   movieid             162758 non-null  object\n",
      " 1   reviewerName        162758 non-null  object\n",
      " 2   isFrequentReviewer  162758 non-null  bool  \n",
      " 3   reviewText          156311 non-null  object\n",
      " 4   sentiment           162758 non-null  object\n",
      "dtypes: bool(1), object(4)\n",
      "memory usage: 5.1+ MB\n"
     ]
    }
   ],
   "source": [
    "traindf.info()"
   ]
  },
  {
   "cell_type": "code",
   "execution_count": 8,
   "id": "c4fb1700",
   "metadata": {
    "execution": {
     "iopub.execute_input": "2023-08-10T19:33:39.868358Z",
     "iopub.status.busy": "2023-08-10T19:33:39.867421Z",
     "iopub.status.idle": "2023-08-10T19:33:40.082874Z",
     "shell.execute_reply": "2023-08-10T19:33:40.081590Z"
    },
    "papermill": {
     "duration": 0.310897,
     "end_time": "2023-08-10T19:33:40.085241",
     "exception": false,
     "start_time": "2023-08-10T19:33:39.774344",
     "status": "completed"
    },
    "tags": []
   },
   "outputs": [
    {
     "data": {
      "text/plain": [
       "movieid                  0\n",
       "reviewerName             0\n",
       "isFrequentReviewer       0\n",
       "reviewText            6447\n",
       "sentiment                0\n",
       "dtype: int64"
      ]
     },
     "execution_count": 8,
     "metadata": {},
     "output_type": "execute_result"
    }
   ],
   "source": [
    "traindf.isna().sum()"
   ]
  },
  {
   "cell_type": "markdown",
   "id": "5f683b59",
   "metadata": {
    "papermill": {
     "duration": 0.091064,
     "end_time": "2023-08-10T19:33:40.334965",
     "exception": false,
     "start_time": "2023-08-10T19:33:40.243901",
     "status": "completed"
    },
    "tags": []
   },
   "source": [
    "### Fill empty reviewText with custom text  "
   ]
  },
  {
   "cell_type": "code",
   "execution_count": 9,
   "id": "ee286325",
   "metadata": {
    "execution": {
     "iopub.execute_input": "2023-08-10T19:33:40.520232Z",
     "iopub.status.busy": "2023-08-10T19:33:40.519808Z",
     "iopub.status.idle": "2023-08-10T19:33:40.757104Z",
     "shell.execute_reply": "2023-08-10T19:33:40.755949Z"
    },
    "papermill": {
     "duration": 0.333092,
     "end_time": "2023-08-10T19:33:40.759749",
     "exception": false,
     "start_time": "2023-08-10T19:33:40.426657",
     "status": "completed"
    },
    "tags": []
   },
   "outputs": [
    {
     "data": {
      "text/plain": [
       "movieid               0\n",
       "reviewerName          0\n",
       "isFrequentReviewer    0\n",
       "reviewText            0\n",
       "sentiment             0\n",
       "dtype: int64"
      ]
     },
     "execution_count": 9,
     "metadata": {},
     "output_type": "execute_result"
    }
   ],
   "source": [
    "traindf[\"reviewText\"].fillna(\"empty\", inplace=True)\n",
    "traindf.isna().sum()"
   ]
  },
  {
   "cell_type": "markdown",
   "id": "60c905b8",
   "metadata": {
    "papermill": {
     "duration": 0.092348,
     "end_time": "2023-08-10T19:33:40.944444",
     "exception": false,
     "start_time": "2023-08-10T19:33:40.852096",
     "status": "completed"
    },
    "tags": []
   },
   "source": [
    "## EDA  \n"
   ]
  },
  {
   "cell_type": "code",
   "execution_count": 10,
   "id": "9673e795",
   "metadata": {
    "execution": {
     "iopub.execute_input": "2023-08-10T19:33:41.133185Z",
     "iopub.status.busy": "2023-08-10T19:33:41.132336Z",
     "iopub.status.idle": "2023-08-10T19:33:41.411086Z",
     "shell.execute_reply": "2023-08-10T19:33:41.409423Z"
    },
    "papermill": {
     "duration": 0.37803,
     "end_time": "2023-08-10T19:33:41.415382",
     "exception": false,
     "start_time": "2023-08-10T19:33:41.037352",
     "status": "completed"
    },
    "tags": []
   },
   "outputs": [
    {
     "data": {
      "image/png": "[encoded data removed]",
      "text/plain": [
       "<Figure size 600x400 with 1 Axes>"
      ]
     },
     "metadata": {},
     "output_type": "display_data"
    }
   ],
   "source": [
    "# Pie chart for sentiment column\n",
    "plt.figure(figsize=(6, 4))\n",
    "traindf[\"sentiment\"].value_counts().plot(kind='pie', autopct='%1.0f%%', colors=[\"lightgreen\", \"crimson\"])\n",
    "plt.title(\"Pie chart for sentiment column\")\n",
    "plt.show()"
   ]
  },
  {
   "cell_type": "code",
   "execution_count": 11,
   "id": "bcc6f363",
   "metadata": {
    "execution": {
     "iopub.execute_input": "2023-08-10T19:33:41.624691Z",
     "iopub.status.busy": "2023-08-10T19:33:41.624281Z",
     "iopub.status.idle": "2023-08-10T19:33:41.703183Z",
     "shell.execute_reply": "2023-08-10T19:33:41.702043Z"
    },
    "papermill": {
     "duration": 0.175956,
     "end_time": "2023-08-10T19:33:41.705988",
     "exception": false,
     "start_time": "2023-08-10T19:33:41.530032",
     "status": "completed"
    },
    "tags": []
   },
   "outputs": [
    {
     "name": "stdout",
     "output_type": "stream",
     "text": [
      "sentiment           NEGATIVE  POSITIVE\n",
      "isFrequentReviewer                    \n",
      "False                  35760     77429\n",
      "True                   18237     31332\n"
     ]
    },
    {
     "data": {
      "text/plain": [
       "Chi2ContingencyResult(statistic=419.89235425657796, pvalue=2.5755894769493255e-93, dof=1, expected_freq=array([[37551.86493444, 75637.13506556],\n",
       "       [16445.13506556, 33123.86493444]]))"
      ]
     },
     "execution_count": 11,
     "metadata": {},
     "output_type": "execute_result"
    }
   ],
   "source": [
    "# Chi-square test for isFrequentReviewer column and sentiment column   \n",
    "\n",
    "contingency_table = pd.crosstab(traindf['isFrequentReviewer'], traindf['sentiment'])\n",
    "print(contingency_table)\n",
    "stats.chi2_contingency(contingency_table)"
   ]
  },
  {
   "cell_type": "markdown",
   "id": "3c00a4a3",
   "metadata": {
    "papermill": {
     "duration": 0.092992,
     "end_time": "2023-08-10T19:33:41.891328",
     "exception": false,
     "start_time": "2023-08-10T19:33:41.798336",
     "status": "completed"
    },
    "tags": []
   },
   "source": [
    "### Separate features and labels  "
   ]
  },
  {
   "cell_type": "code",
   "execution_count": 12,
   "id": "5c1b1e41",
   "metadata": {
    "execution": {
     "iopub.execute_input": "2023-08-10T19:33:42.079660Z",
     "iopub.status.busy": "2023-08-10T19:33:42.078725Z",
     "iopub.status.idle": "2023-08-10T19:33:42.087117Z",
     "shell.execute_reply": "2023-08-10T19:33:42.086082Z"
    },
    "papermill": {
     "duration": 0.105664,
     "end_time": "2023-08-10T19:33:42.089391",
     "exception": false,
     "start_time": "2023-08-10T19:33:41.983727",
     "status": "completed"
    },
    "tags": []
   },
   "outputs": [
    {
     "data": {
      "text/plain": [
       "((162758,), (162758,))"
      ]
     },
     "execution_count": 12,
     "metadata": {},
     "output_type": "execute_result"
    }
   ],
   "source": [
    "train_features = traindf[\"reviewText\"]\n",
    "train_labels = traindf.iloc[:, -1]\n",
    "train_features.shape, train_labels.shape"
   ]
  },
  {
   "cell_type": "markdown",
   "id": "7dd8c756",
   "metadata": {
    "papermill": {
     "duration": 0.091761,
     "end_time": "2023-08-10T19:33:42.274185",
     "exception": false,
     "start_time": "2023-08-10T19:33:42.182424",
     "status": "completed"
    },
    "tags": []
   },
   "source": [
    "### Split traindf into training and testing parts  "
   ]
  },
  {
   "cell_type": "code",
   "execution_count": 13,
   "id": "d3778d51",
   "metadata": {
    "execution": {
     "iopub.execute_input": "2023-08-10T19:33:42.460418Z",
     "iopub.status.busy": "2023-08-10T19:33:42.459677Z",
     "iopub.status.idle": "2023-08-10T19:33:42.499756Z",
     "shell.execute_reply": "2023-08-10T19:33:42.498553Z"
    },
    "papermill": {
     "duration": 0.135864,
     "end_time": "2023-08-10T19:33:42.502376",
     "exception": false,
     "start_time": "2023-08-10T19:33:42.366512",
     "status": "completed"
    },
    "tags": []
   },
   "outputs": [
    {
     "data": {
      "text/plain": [
       "((122068,), (40690,), (122068,), (40690,))"
      ]
     },
     "execution_count": 13,
     "metadata": {},
     "output_type": "execute_result"
    }
   ],
   "source": [
    "X_train, X_test, y_train, y_test = train_test_split(train_features, train_labels, test_size=0.25, random_state=42)\n",
    "X_train.shape, X_test.shape, y_train.shape, y_test.shape"
   ]
  },
  {
   "cell_type": "markdown",
   "id": "a3d0119e",
   "metadata": {
    "papermill": {
     "duration": 0.091918,
     "end_time": "2023-08-10T19:33:42.688516",
     "exception": false,
     "start_time": "2023-08-10T19:33:42.596598",
     "status": "completed"
    },
    "tags": []
   },
   "source": [
    "## Model evaluation plan and code  "
   ]
  },
  {
   "cell_type": "code",
   "execution_count": 14,
   "id": "85629040",
   "metadata": {
    "execution": {
     "iopub.execute_input": "2023-08-10T19:33:42.877827Z",
     "iopub.status.busy": "2023-08-10T19:33:42.877088Z",
     "iopub.status.idle": "2023-08-10T19:33:42.881438Z",
     "shell.execute_reply": "2023-08-10T19:33:42.880192Z"
    },
    "papermill": {
     "duration": 0.102869,
     "end_time": "2023-08-10T19:33:42.883966",
     "exception": false,
     "start_time": "2023-08-10T19:33:42.781097",
     "status": "completed"
    },
    "tags": []
   },
   "outputs": [],
   "source": [
    "# from sklearn.metrics import classification_report, confusion_matrix, ConfusionMatrixDisplay\n",
    "# from sklearn.metrics import f1_score"
   ]
  },
  {
   "cell_type": "code",
   "execution_count": 15,
   "id": "29903154",
   "metadata": {
    "execution": {
     "iopub.execute_input": "2023-08-10T19:33:43.072436Z",
     "iopub.status.busy": "2023-08-10T19:33:43.071271Z",
     "iopub.status.idle": "2023-08-10T19:33:43.076528Z",
     "shell.execute_reply": "2023-08-10T19:33:43.075748Z"
    },
    "papermill": {
     "duration": 0.101175,
     "end_time": "2023-08-10T19:33:43.078854",
     "exception": false,
     "start_time": "2023-08-10T19:33:42.977679",
     "status": "completed"
    },
    "tags": []
   },
   "outputs": [],
   "source": [
    "# def evaluate(y_test, y_pred):\n",
    "#     print(classification_report(y_test, y_pred))\n",
    "#     print(confusion_matrix(y_test, y_pred))\n",
    "#     # print(f1_score(y_test, y_pred))\n",
    "#     ConfusionMatrixDisplay(y_test, y_pred)\n",
    "#     return"
   ]
  },
  {
   "cell_type": "markdown",
   "id": "125722cd",
   "metadata": {
    "papermill": {
     "duration": 0.098474,
     "end_time": "2023-08-10T19:33:43.271604",
     "exception": false,
     "start_time": "2023-08-10T19:33:43.173130",
     "status": "completed"
    },
    "tags": []
   },
   "source": [
    "### Data preprocessing  "
   ]
  },
  {
   "cell_type": "markdown",
   "id": "6493017c",
   "metadata": {
    "papermill": {
     "duration": 0.106945,
     "end_time": "2023-08-10T19:33:43.471198",
     "exception": false,
     "start_time": "2023-08-10T19:33:43.364253",
     "status": "completed"
    },
    "tags": []
   },
   "source": [
    "`Define stop words`  "
   ]
  },
  {
   "cell_type": "code",
   "execution_count": 16,
   "id": "94e2376c",
   "metadata": {
    "execution": {
     "iopub.execute_input": "2023-08-10T19:33:43.695925Z",
     "iopub.status.busy": "2023-08-10T19:33:43.695199Z",
     "iopub.status.idle": "2023-08-10T19:33:43.700268Z",
     "shell.execute_reply": "2023-08-10T19:33:43.699424Z"
    },
    "papermill": {
     "duration": 0.120694,
     "end_time": "2023-08-10T19:33:43.702610",
     "exception": false,
     "start_time": "2023-08-10T19:33:43.581916",
     "status": "completed"
    },
    "tags": []
   },
   "outputs": [],
   "source": [
    "# stop_words = [\"able\", \"about\", \"above\", \"abst\", \"ac\"]     # Deprecated  \n",
    "# type(stop_words), len(stop_words)"
   ]
  },
  {
   "cell_type": "markdown",
   "id": "e5f6ce6c",
   "metadata": {
    "papermill": {
     "duration": 0.099981,
     "end_time": "2023-08-10T19:33:43.899750",
     "exception": false,
     "start_time": "2023-08-10T19:33:43.799769",
     "status": "completed"
    },
    "tags": []
   },
   "source": [
    "## Feature extraction  "
   ]
  },
  {
   "cell_type": "markdown",
   "id": "35d50e1c",
   "metadata": {
    "papermill": {
     "duration": 0.097109,
     "end_time": "2023-08-10T19:33:44.090507",
     "exception": false,
     "start_time": "2023-08-10T19:33:43.993398",
     "status": "completed"
    },
    "tags": []
   },
   "source": [
    "### Understand CountVectorizer and TfidfVectorizer  "
   ]
  },
  {
   "cell_type": "code",
   "execution_count": 17,
   "id": "c576e3e7",
   "metadata": {
    "execution": {
     "iopub.execute_input": "2023-08-10T19:33:44.309807Z",
     "iopub.status.busy": "2023-08-10T19:33:44.308664Z",
     "iopub.status.idle": "2023-08-10T19:33:44.313899Z",
     "shell.execute_reply": "2023-08-10T19:33:44.312824Z"
    },
    "papermill": {
     "duration": 0.130835,
     "end_time": "2023-08-10T19:33:44.316242",
     "exception": false,
     "start_time": "2023-08-10T19:33:44.185407",
     "status": "completed"
    },
    "tags": []
   },
   "outputs": [],
   "source": [
    "# text = X_train.copy()\n",
    "# text.head()"
   ]
  },
  {
   "cell_type": "code",
   "execution_count": 18,
   "id": "fbc38f0c",
   "metadata": {
    "execution": {
     "iopub.execute_input": "2023-08-10T19:33:44.505008Z",
     "iopub.status.busy": "2023-08-10T19:33:44.504634Z",
     "iopub.status.idle": "2023-08-10T19:33:44.509106Z",
     "shell.execute_reply": "2023-08-10T19:33:44.507933Z"
    },
    "papermill": {
     "duration": 0.102691,
     "end_time": "2023-08-10T19:33:44.511360",
     "exception": false,
     "start_time": "2023-08-10T19:33:44.408669",
     "status": "completed"
    },
    "tags": []
   },
   "outputs": [],
   "source": [
    "# vectorizer = TfidfVectorizer(stop_words=stop_words)\n",
    "# vectorized_text = vectorizer.fit_transform(text[\"reviewText\"])\n",
    "# vectorized_text"
   ]
  },
  {
   "cell_type": "markdown",
   "id": "83a210bb",
   "metadata": {
    "papermill": {
     "duration": 0.091311,
     "end_time": "2023-08-10T19:33:44.695200",
     "exception": false,
     "start_time": "2023-08-10T19:33:44.603889",
     "status": "completed"
    },
    "tags": []
   },
   "source": [
    "`Without stop words`  \n",
    "<122068x58624 sparse matrix of type '<class 'numpy.float64'>'\n",
    "\twith 2312222 stored elements in Compressed Sparse Row format>\n",
    "\n",
    "`With stop words`  \n",
    "<122068x57784 sparse matrix of type '<class 'numpy.float64'>'\n",
    "\twith 1188395 stored elements in Compressed Sparse Row format>   "
   ]
  },
  {
   "cell_type": "code",
   "execution_count": 19,
   "id": "ff859d48",
   "metadata": {
    "execution": {
     "iopub.execute_input": "2023-08-10T19:33:44.882056Z",
     "iopub.status.busy": "2023-08-10T19:33:44.881651Z",
     "iopub.status.idle": "2023-08-10T19:33:44.885984Z",
     "shell.execute_reply": "2023-08-10T19:33:44.884989Z"
    },
    "papermill": {
     "duration": 0.100781,
     "end_time": "2023-08-10T19:33:44.888527",
     "exception": false,
     "start_time": "2023-08-10T19:33:44.787746",
     "status": "completed"
    },
    "tags": []
   },
   "outputs": [],
   "source": [
    "# vectorizer2 = CountVectorizer(stop_words=stop_words)\n",
    "# vectorized_text2 = vectorizer2.fit_transform(text[\"reviewText\"])\n",
    "# vectorized_text2"
   ]
  },
  {
   "cell_type": "markdown",
   "id": "7d57566b",
   "metadata": {
    "papermill": {
     "duration": 0.09209,
     "end_time": "2023-08-10T19:33:45.073175",
     "exception": false,
     "start_time": "2023-08-10T19:33:44.981085",
     "status": "completed"
    },
    "tags": []
   },
   "source": [
    "`Without stop words`  \n",
    "<122068x58624 sparse matrix of type '<class 'numpy.int64'>'\n",
    "\twith 2312222 stored elements in Compressed Sparse Row format>\n",
    "\n",
    "`With stop words`  \n",
    "<122068x57784 sparse matrix of type '<class 'numpy.int64'>'\n",
    "\twith 1188395 stored elements in Compressed Sparse Row format>"
   ]
  },
  {
   "cell_type": "markdown",
   "id": "42301e29",
   "metadata": {
    "papermill": {
     "duration": 0.096022,
     "end_time": "2023-08-10T19:33:45.283575",
     "exception": false,
     "start_time": "2023-08-10T19:33:45.187553",
     "status": "completed"
    },
    "tags": []
   },
   "source": [
    "### Conclusion   \n",
    "`TfidfVectorizer is equivalent to CountVectorizer followed by TfidfTransformer.`  \n",
    "\n",
    "https://scikit-learn.org/stable/modules/generated/sklearn.feature_extraction.text.TfidfVectorizer.html"
   ]
  },
  {
   "cell_type": "markdown",
   "id": "e0787325",
   "metadata": {
    "papermill": {
     "duration": 0.093281,
     "end_time": "2023-08-10T19:33:45.479236",
     "exception": false,
     "start_time": "2023-08-10T19:33:45.385955",
     "status": "completed"
    },
    "tags": []
   },
   "source": [
    "## Model building workflow  \n",
    "\n",
    "`Make pipeline for preprocesing and model training and predictions`  \n"
   ]
  },
  {
   "cell_type": "code",
   "execution_count": 20,
   "id": "3ab31f80",
   "metadata": {
    "execution": {
     "iopub.execute_input": "2023-08-10T19:33:45.665732Z",
     "iopub.status.busy": "2023-08-10T19:33:45.665283Z",
     "iopub.status.idle": "2023-08-10T19:33:45.670266Z",
     "shell.execute_reply": "2023-08-10T19:33:45.669434Z"
    },
    "papermill": {
     "duration": 0.100766,
     "end_time": "2023-08-10T19:33:45.672357",
     "exception": false,
     "start_time": "2023-08-10T19:33:45.571591",
     "status": "completed"
    },
    "tags": []
   },
   "outputs": [],
   "source": [
    "# def preprocess_n_train(X_train, y_train, preprocessor, model):\n",
    "#     pipe = Pipeline(steps=[\n",
    "#                             (\"preprocessor\", preprocessor),\n",
    "#                             (\"model\", model)\n",
    "#                         ])\n",
    "    \n",
    "#     pipe.fit(X_train, y_train)\n",
    "\n",
    "#     print(\"Given model has been trained. Use predict method to get predictions array.\")\n",
    "#     return pipe\n",
    "\n",
    "\n",
    "# def predict_n_evaluate(pipeline, X_test, y_test):\n",
    "#     y_pred = pipeline.predict(X_test)\n",
    "#     print(f\"y_pred shape: {y_pred.shape}\")\n",
    "#     print(f\"Summary of predictions: {np.unique(y_pred, return_counts=True)}\")\n",
    "#     print(classification_report(y_test, y_pred))\n",
    "#     print(confusion_matrix(y_test, y_pred))\n",
    "#     return y_pred"
   ]
  },
  {
   "cell_type": "markdown",
   "id": "8c97d28e",
   "metadata": {
    "papermill": {
     "duration": 0.091256,
     "end_time": "2023-08-10T19:33:45.856936",
     "exception": false,
     "start_time": "2023-08-10T19:33:45.765680",
     "status": "completed"
    },
    "tags": []
   },
   "source": [
    "## Building 3 basic models  "
   ]
  },
  {
   "cell_type": "markdown",
   "id": "8bcb336b",
   "metadata": {
    "papermill": {
     "duration": 0.092988,
     "end_time": "2023-08-10T19:33:46.042170",
     "exception": false,
     "start_time": "2023-08-10T19:33:45.949182",
     "status": "completed"
    },
    "tags": []
   },
   "source": [
    "### Text preprocessors  "
   ]
  },
  {
   "cell_type": "code",
   "execution_count": 21,
   "id": "e65349d4",
   "metadata": {
    "execution": {
     "iopub.execute_input": "2023-08-10T19:33:46.231837Z",
     "iopub.status.busy": "2023-08-10T19:33:46.231128Z",
     "iopub.status.idle": "2023-08-10T19:33:46.236372Z",
     "shell.execute_reply": "2023-08-10T19:33:46.235194Z"
    },
    "papermill": {
     "duration": 0.101856,
     "end_time": "2023-08-10T19:33:46.238499",
     "exception": false,
     "start_time": "2023-08-10T19:33:46.136643",
     "status": "completed"
    },
    "tags": []
   },
   "outputs": [],
   "source": [
    "# tvec = TfidfVectorizer()\n",
    "# cvec = CountVectorizer()        # Note that TfidfVectorizer and CountVectorizer+TfidsTransformer do the same function\n",
    "# tvec, cvec"
   ]
  },
  {
   "cell_type": "markdown",
   "id": "9466b999",
   "metadata": {
    "papermill": {
     "duration": 0.091674,
     "end_time": "2023-08-10T19:33:46.421977",
     "exception": false,
     "start_time": "2023-08-10T19:33:46.330303",
     "status": "completed"
    },
    "tags": []
   },
   "source": [
    "### Logistic Regression with TfidVectorizer for preprocessing  "
   ]
  },
  {
   "cell_type": "code",
   "execution_count": 22,
   "id": "51de98ab",
   "metadata": {
    "execution": {
     "iopub.execute_input": "2023-08-10T19:33:46.607198Z",
     "iopub.status.busy": "2023-08-10T19:33:46.606763Z",
     "iopub.status.idle": "2023-08-10T19:33:46.611636Z",
     "shell.execute_reply": "2023-08-10T19:33:46.610319Z"
    },
    "papermill": {
     "duration": 0.100514,
     "end_time": "2023-08-10T19:33:46.614174",
     "exception": false,
     "start_time": "2023-08-10T19:33:46.513660",
     "status": "completed"
    },
    "tags": []
   },
   "outputs": [],
   "source": [
    "# logreg = LogisticRegression(max_iter=1000)\n",
    "# logreg_pipe = preprocess_n_train(X_train, y_train, tvec, logreg)\n",
    "# y_pred_logreg = predict_n_evaluate(logreg_pipe, X_test, y_test)\n",
    "# y_pred_logreg"
   ]
  },
  {
   "cell_type": "markdown",
   "id": "6a19b878",
   "metadata": {
    "papermill": {
     "duration": 0.158289,
     "end_time": "2023-08-10T19:33:46.864901",
     "exception": false,
     "start_time": "2023-08-10T19:33:46.706612",
     "status": "completed"
    },
    "tags": []
   },
   "source": [
    "### SVM model  "
   ]
  },
  {
   "cell_type": "code",
   "execution_count": 23,
   "id": "d3c1921b",
   "metadata": {
    "execution": {
     "iopub.execute_input": "2023-08-10T19:33:47.051165Z",
     "iopub.status.busy": "2023-08-10T19:33:47.050750Z",
     "iopub.status.idle": "2023-08-10T19:33:47.055712Z",
     "shell.execute_reply": "2023-08-10T19:33:47.054602Z"
    },
    "papermill": {
     "duration": 0.100704,
     "end_time": "2023-08-10T19:33:47.058053",
     "exception": false,
     "start_time": "2023-08-10T19:33:46.957349",
     "status": "completed"
    },
    "tags": []
   },
   "outputs": [],
   "source": [
    "# svm = LinearSVC()\n",
    "# svm_pipe = preprocess_n_train(X_train, y_train, tvec, svm)\n",
    "# y_pred_svm = predict_n_evaluate(svm_pipe, X_test, y_test)\n",
    "# y_pred_svm"
   ]
  },
  {
   "cell_type": "markdown",
   "id": "d397347b",
   "metadata": {
    "papermill": {
     "duration": 0.093114,
     "end_time": "2023-08-10T19:33:47.245086",
     "exception": false,
     "start_time": "2023-08-10T19:33:47.151972",
     "status": "completed"
    },
    "tags": []
   },
   "source": [
    "### Naive Bayes model  "
   ]
  },
  {
   "cell_type": "markdown",
   "id": "380f4032",
   "metadata": {
    "papermill": {
     "duration": 0.093279,
     "end_time": "2023-08-10T19:33:47.431664",
     "exception": false,
     "start_time": "2023-08-10T19:33:47.338385",
     "status": "completed"
    },
    "tags": []
   },
   "source": [
    "#### MultinomialNB  "
   ]
  },
  {
   "cell_type": "code",
   "execution_count": 24,
   "id": "fcfe323e",
   "metadata": {
    "execution": {
     "iopub.execute_input": "2023-08-10T19:33:47.619537Z",
     "iopub.status.busy": "2023-08-10T19:33:47.619088Z",
     "iopub.status.idle": "2023-08-10T19:33:47.623853Z",
     "shell.execute_reply": "2023-08-10T19:33:47.622456Z"
    },
    "papermill": {
     "duration": 0.101126,
     "end_time": "2023-08-10T19:33:47.625969",
     "exception": false,
     "start_time": "2023-08-10T19:33:47.524843",
     "status": "completed"
    },
    "tags": []
   },
   "outputs": [],
   "source": [
    "# mnb = MultinomialNB()\n",
    "# mnb_pipe = preprocess_n_train(X_train, y_train, tvec, mnb)\n",
    "# y_pred_mnb = predict_n_evaluate(mnb_pipe, X_test, y_test)\n",
    "# y_pred_mnb"
   ]
  },
  {
   "cell_type": "markdown",
   "id": "f5da8efb",
   "metadata": {
    "papermill": {
     "duration": 0.09174,
     "end_time": "2023-08-10T19:33:47.809741",
     "exception": false,
     "start_time": "2023-08-10T19:33:47.718001",
     "status": "completed"
    },
    "tags": []
   },
   "source": [
    "## Submitting predictions to Kaggle competition  "
   ]
  },
  {
   "cell_type": "code",
   "execution_count": 25,
   "id": "c0194f86",
   "metadata": {
    "execution": {
     "iopub.execute_input": "2023-08-10T19:33:47.996617Z",
     "iopub.status.busy": "2023-08-10T19:33:47.996170Z",
     "iopub.status.idle": "2023-08-10T19:33:48.001599Z",
     "shell.execute_reply": "2023-08-10T19:33:48.000506Z"
    },
    "papermill": {
     "duration": 0.101932,
     "end_time": "2023-08-10T19:33:48.003997",
     "exception": false,
     "start_time": "2023-08-10T19:33:47.902065",
     "status": "completed"
    },
    "tags": []
   },
   "outputs": [],
   "source": [
    "# def submit(selected_model=logreg, selected_preprocessor=tvec):\n",
    "    \n",
    "#     # Retrain on the whole train.csv file  \n",
    "#     traindf = pd.read_csv(\"/kaggle/input/sentiment-prediction-on-movie-reviews/train.csv\")\n",
    "#     X_train = traindf[\"reviewText\"]\n",
    "#     X_train.fillna(\"empty\", inplace=True)\n",
    "#     y_train = traindf[\"sentiment\"]\n",
    "#     pipe = preprocess_n_train(X_train, y_train, selected_preprocessor, selected_model)\n",
    "    \n",
    "#     # Predict on test.csv file\n",
    "#     testdf = pd.read_csv(\"/kaggle/input/sentiment-prediction-on-movie-reviews/test.csv\")\n",
    "#     X_test = testdf[\"reviewText\"]\n",
    "#     X_test.fillna(\"empty\", inplace=True)\n",
    "    \n",
    "#     y_pred = pipe.predict(X_test)\n",
    "    \n",
    "#     pred_df = pd.DataFrame(y_pred)\n",
    "#     pred_df.columns = [\"sentiment\"]\n",
    "#     pred_df.index.name = \"id\"\n",
    "#     pred_df.to_csv(\"submission.csv\")\n",
    "    \n",
    "#     return \"Successfully created the submission file!!!\""
   ]
  },
  {
   "cell_type": "code",
   "execution_count": 26,
   "id": "0677d85f",
   "metadata": {
    "execution": {
     "iopub.execute_input": "2023-08-10T19:33:48.191070Z",
     "iopub.status.busy": "2023-08-10T19:33:48.190655Z",
     "iopub.status.idle": "2023-08-10T19:33:48.195404Z",
     "shell.execute_reply": "2023-08-10T19:33:48.194355Z"
    },
    "papermill": {
     "duration": 0.101356,
     "end_time": "2023-08-10T19:33:48.197808",
     "exception": false,
     "start_time": "2023-08-10T19:33:48.096452",
     "status": "completed"
    },
    "tags": []
   },
   "outputs": [],
   "source": [
    "# submit(logreg_cv1, tvec_cv1)"
   ]
  },
  {
   "cell_type": "markdown",
   "id": "b6c5a4e0",
   "metadata": {
    "papermill": {
     "duration": 0.092295,
     "end_time": "2023-08-10T19:33:48.383860",
     "exception": false,
     "start_time": "2023-08-10T19:33:48.291565",
     "status": "completed"
    },
    "tags": []
   },
   "source": [
    "# PART II  "
   ]
  },
  {
   "cell_type": "markdown",
   "id": "ff375c65",
   "metadata": {
    "papermill": {
     "duration": 0.094599,
     "end_time": "2023-08-10T19:33:48.571532",
     "exception": false,
     "start_time": "2023-08-10T19:33:48.476933",
     "status": "completed"
    },
    "tags": []
   },
   "source": [
    "## Merge \"movies.csv\" with \"train.csv\" and \"test.csv\"  "
   ]
  },
  {
   "cell_type": "markdown",
   "id": "ba3c5bdf",
   "metadata": {
    "papermill": {
     "duration": 0.092187,
     "end_time": "2023-08-10T19:33:48.756322",
     "exception": false,
     "start_time": "2023-08-10T19:33:48.664135",
     "status": "completed"
    },
    "tags": []
   },
   "source": [
    "### Helper functions  "
   ]
  },
  {
   "cell_type": "code",
   "execution_count": 27,
   "id": "96e2a0d9",
   "metadata": {
    "execution": {
     "iopub.execute_input": "2023-08-10T19:33:48.942181Z",
     "iopub.status.busy": "2023-08-10T19:33:48.941763Z",
     "iopub.status.idle": "2023-08-10T19:33:48.946889Z",
     "shell.execute_reply": "2023-08-10T19:33:48.946075Z"
    },
    "papermill": {
     "duration": 0.100959,
     "end_time": "2023-08-10T19:33:48.949193",
     "exception": false,
     "start_time": "2023-08-10T19:33:48.848234",
     "status": "completed"
    },
    "tags": []
   },
   "outputs": [],
   "source": [
    "# Helper function for loading files  \n",
    "\n",
    "def load_csv(filename: str):\n",
    "    if platform == \"vscode\":\n",
    "        df = pd.read_csv(f\"data/{filename}.csv\")\n",
    "    else:\n",
    "        df = pd.read_csv(f\"/kaggle/input/sentiment-prediction-on-movie-reviews/{filename}.csv\")\n",
    "        \n",
    "    return df"
   ]
  },
  {
   "cell_type": "code",
   "execution_count": 28,
   "id": "b617e5b6",
   "metadata": {
    "execution": {
     "iopub.execute_input": "2023-08-10T19:33:49.138153Z",
     "iopub.status.busy": "2023-08-10T19:33:49.137510Z",
     "iopub.status.idle": "2023-08-10T19:33:49.142791Z",
     "shell.execute_reply": "2023-08-10T19:33:49.141935Z"
    },
    "papermill": {
     "duration": 0.102746,
     "end_time": "2023-08-10T19:33:49.145164",
     "exception": false,
     "start_time": "2023-08-10T19:33:49.042418",
     "status": "completed"
    },
    "tags": []
   },
   "outputs": [],
   "source": [
    "def inspect(df: pd.DataFrame):\n",
    "    print(f\"Shape of the dataframe: {df.shape}\")\n",
    "    print()\n",
    "    print(f\"Columns in the dataframe:\\n{df.columns}\")\n",
    "    print()\n",
    "    print(f\"{df.info()}\")\n",
    "    print()\n",
    "    # print(f\"Summary: {df.describe()}\")\n",
    "    print(f\"Missing values:\\n{df.isna().sum()}\")\n",
    "    return"
   ]
  },
  {
   "cell_type": "code",
   "execution_count": 29,
   "id": "00f85a49",
   "metadata": {
    "execution": {
     "iopub.execute_input": "2023-08-10T19:33:49.334771Z",
     "iopub.status.busy": "2023-08-10T19:33:49.334109Z",
     "iopub.status.idle": "2023-08-10T19:33:49.338909Z",
     "shell.execute_reply": "2023-08-10T19:33:49.337950Z"
    },
    "papermill": {
     "duration": 0.101137,
     "end_time": "2023-08-10T19:33:49.341254",
     "exception": false,
     "start_time": "2023-08-10T19:33:49.240117",
     "status": "completed"
    },
    "tags": []
   },
   "outputs": [],
   "source": [
    "def name_fl(name):\n",
    "    l = name.split()\n",
    "    n = ' '.join((l[0], l[-1]))\n",
    "    return n"
   ]
  },
  {
   "cell_type": "code",
   "execution_count": 30,
   "id": "1929fb60",
   "metadata": {
    "execution": {
     "iopub.execute_input": "2023-08-10T19:33:49.529880Z",
     "iopub.status.busy": "2023-08-10T19:33:49.529441Z",
     "iopub.status.idle": "2023-08-10T19:33:49.559800Z",
     "shell.execute_reply": "2023-08-10T19:33:49.558552Z"
    },
    "papermill": {
     "duration": 0.127623,
     "end_time": "2023-08-10T19:33:49.562628",
     "exception": false,
     "start_time": "2023-08-10T19:33:49.435005",
     "status": "completed"
    },
    "tags": []
   },
   "outputs": [],
   "source": [
    "def select_features(df: pd.DataFrame, moviesdf: pd.DataFrame, row_thresh_null=None):\n",
    "    '''\n",
    "    This function merges the given dataframes. Note that the first df must be \"train\" or \"test\" and\n",
    "    the second df should be \"movies\".\n",
    "    Note: Sentiment column is present only in \"train.csv\" file and not \"test.csv\" file.\n",
    "    '''\n",
    "    \n",
    "    # Drop duplicates from moviesdf\n",
    "#     movies_unique = moviesdf.drop_duplicates(subset=[\"movieid\"])\n",
    "\n",
    "    # Drop duplicates using groupby - clubs similar rows and fills in missing values better\n",
    "    movies_unique = moviesdf.fillna(value=np.nan).groupby(\"movieid\").first().reset_index()\n",
    "    \n",
    "\n",
    "    # Handle missing values in movies.csv better than just dropping duplicates?\n",
    "#     movies_unique = moviesdf.copy()\n",
    "#     movies_unique[[\"audienceScore\", \"runtimeMinutes\"]] = movies_unique[[\"audienceScore\", \"runtimeMinutes\"]].interpolate(method='linear', axis=0)\n",
    "#     movies_unique = movies_unique.fillna(value=np.nan).groupby(\"movieid\").first().fillna(method='ffill').reset_index()\n",
    "\n",
    "    \n",
    "\n",
    "    # Merge df and movies_unique\n",
    "    df_merged = pd.merge(df, movies_unique, on=\"movieid\", how='left')\n",
    "    \n",
    "    # Rename \"isTopCritic\" column, if it exists, to \"isFrequentReviewer\"\n",
    "    df_merged.rename(columns={\"isTopCritic\": \"isFrequentReviewer\"}, inplace=True)\n",
    "    \n",
    "    # Drop columns\n",
    "#     df_merged = df_merged.drop(columns=[\"title\", \"ratingContents\", \"releaseDateTheaters\", \"releaseDateStreaming\", \"distributor\", \"soundType\"])\n",
    "#     df_merged = df_merged.drop(columns=[\"title\", \"soundType\"])\n",
    "    \n",
    "    # Drop rows (OPTIONAL: Uses kwarg row_thresh_null)\n",
    "    if row_thresh_null != None:\n",
    "        df_merged.dropna(axis=0, thresh=(df_merged.shape[1] - row_thresh_null), inplace=True)\n",
    "        \n",
    "\n",
    "    # Create new columns based on reviewText\n",
    "    final = df_merged.copy()\n",
    "    final[\"reviewYN\"] = np.where(final[\"reviewText\"].isnull(), 1, 0)    # Feature engineering - adding a new column\n",
    "    final[\"reviewWC\"] = final.apply(lambda x: len(str(x[\"reviewText\"]).split()), axis=1)    # Feature engineering - adding second new column\n",
    "    \n",
    "    # Clean text (replace numbers with empty string) and fill missing values in \"reviewText\" with empty string\n",
    "    final[\"reviewText\"] = final[\"reviewText\"].str.replace('\\d+', '', regex=True)\n",
    "    final[\"reviewText\"] = final[\"reviewText\"].fillna(\"neutral\")\n",
    "    \n",
    "    # Fill missing values in \"rating\", \"genre\", original columns with the word \"unknown\"\n",
    "    final[\"rating\"] = final[\"rating\"].fillna(\"unknown\")\n",
    "    final[\"originalLanguage\"] = final[\"originalLanguage\"].fillna(\"unknown\")\n",
    "    final[\"genre\"] = final[\"genre\"].fillna(\"unknown\")\n",
    "    final[\"genre\"] = final[\"genre\"].apply(lambda x: re.sub(r\"-\", \"\", x))\n",
    "    final[\"genreSorted\"] = final[\"genre\"].apply(lambda x: (\",\").join(sorted(x.split(\", \"))))\n",
    "#     final[\"genre\"] = final[\"genre\"].replace(to_replace={\"&\": \"\"})\n",
    "\n",
    "    # Impute missing values for \"audienceScore\" and \"runtimeMinutes\" columns\n",
    "#     final[\"audienceScore\"] = final[\"audienceScore\"].fillna(final[\"audienceScore\"].mean())        # MOVED\n",
    "#     final[\"runtimeMinutes\"] = final[\"runtimeMinutes\"].fillna(final[\"runtimeMinutes\"].median())   # MOVED\n",
    "    \n",
    "    # Preprocess and impute missing values in \"boxOffice\" column\n",
    "    final[\"boxOffice\"] = final[\"boxOffice\"].str[1:]\n",
    "    final[\"boxOffice\"] = final[\"boxOffice\"].replace(to_replace={\"M\": \"*1000000\", \"K\": \"*1000\"}, regex=True)\n",
    "    final[\"boxOffice\"] = final[\"boxOffice\"].loc[final[\"boxOffice\"].notnull()].apply(lambda x: eval(str(x)))\n",
    "#     final[\"boxOffice\"] = final[\"boxOffice\"].fillna(final[\"boxOffice\"].median())                  # MOVED\n",
    "    # (Optional) Replace outliers in boxOffice with median\n",
    "#     median = final[\"boxOffice\"].describe()['50%']\n",
    "#     iqr = final[\"boxOffice\"].describe()['75%'] - final[\"boxOffice\"].describe()['25%']\n",
    "#     ll = median - (1.5*iqr)\n",
    "#     ul = median + (1.5*iqr)\n",
    "#     final.loc[final[\"boxOffice\"] > ul, \"boxOffice\"] = median\n",
    "    \n",
    "    # Clean language names\n",
    "    final[\"originalLanguage\"].replace({\"English (United Kingdom)\": \"English\", \n",
    "                                            \"English (Australia)\" : \"English\",\n",
    "                                            \"French (France)\": \"French\", \n",
    "                                            \"French (Canada)\": \"French\",\n",
    "                                            \"Portuguese (Brazil)\": \"Portuguese\",\n",
    "                                            \"Spanish (Spain)\": \"Spanish\"},                                         \n",
    "                                            inplace=True)\n",
    "    \n",
    "    # Clean reviewerName column\n",
    "    pre_post_fixes = {\"Mr. \": \"\", \"Mrs. \": \"\", \"Ms. \": \"\", \"Dr. \": \"\", \n",
    "                      \" MD\": \"\", \" DDS\": \"\", \" DVM\": \"\", \" Jr.\": \"\", \" PhD\": \"\", \" II\": \"\", \" IV\": \"\"}\n",
    "    final[\"reviewerName\"] = final[\"reviewerName\"].replace(pre_post_fixes, regex=True)\n",
    "    final[\"reviewerName\"] = final[\"reviewerName\"].apply(name_fl)\n",
    "    \n",
    "    # Handle 'ratingContents' column\n",
    "    final[\"ratingContents\"] = final[\"ratingContents\"].fillna(\"neutral\")\n",
    "    final[\"rcSorted\"] = final[\"ratingContents\"].apply(lambda x: (\",\").join(sorted(x.strip(\"][\").split(\", \"))))\n",
    "    final[\"rcSorted\"] = final[\"rcSorted\"].apply(lambda x: re.sub(r\"'\", \"\", x))\n",
    "    final[\"rcSorted\"] = final[\"rcSorted\"].apply(lambda x: re.sub(r\"[/\\s]\", \"_\", x))  \n",
    "    \n",
    "    # Handle 'ratingContents' column\n",
    "    final[\"distributor\"] = final[\"distributor\"].fillna(\"unknown\")\n",
    "    \n",
    "    # Work with 'releaseDateTheaters', releaseDateStreaming column\n",
    "    final[[\"releaseDateTheaters\", \"releaseDateStreaming\"]] = final[[\"releaseDateTheaters\", \"releaseDateStreaming\"]].astype('datetime64[ns]')\n",
    "\n",
    "    final[\"releaseDate\"] = final[[\"releaseDateTheaters\", \"releaseDateStreaming\"]].min(axis=1, skipna=False)\n",
    "#     final[\"releaseDate\"] = final[\"releaseDate\"].fillna(final[\"releaseDate\"].median())               # MOVED\n",
    "\n",
    "    final[\"releaseYear\"] = final[\"releaseDate\"].dt.year\n",
    "    final[\"releaseMonth\"] = final[\"releaseDate\"].dt.month\n",
    "    \n",
    "    # Compute \"releaseDiff\" column and fill missing values in \"releaseDiff\" and (optional) replace outliers\n",
    "    final[\"releaseDiff\"] = (final[\"releaseDateStreaming\"] - final[\"releaseDateTheaters\"]) / np.timedelta64(1, 'D')\n",
    "    final[\"releaseDiff\"] = final[\"releaseDiff\"].apply(lambda x: abs(x))\n",
    "    final[\"releaseDiff\"] = final[\"releaseDiff\"].fillna(value=0)\n",
    "#     final[\"releaseDiff\"] = final[\"releaseDiff\"].fillna(final[\"releaseDiff\"].median())\n",
    "    # median = final[\"releaseDiff\"].describe()['50%']\n",
    "    # iqr = final[\"releaseDiff\"].describe()['75%'] - final[\"releaseDiff\"].describe()['25%']\n",
    "    # ll = median - (1.5*iqr)\n",
    "    # ul = median + (1.5*iqr)\n",
    "    # final.loc[final[\"releaseDiff\"] > ul, \"releaseDiff\"] = median\n",
    "    # final.loc[final[\"releaseDiff\"] < ll, \"releaseDiff\"] = median\n",
    "    \n",
    "    # Create new feature columns\n",
    "    \n",
    "    # Convert audienceScore to categories  \n",
    "    num_bins_as = 20\n",
    "    final[\"audScoreBins\"] = pd.cut(final['audienceScore'], bins=num_bins_as, labels=False)\n",
    "    \n",
    "    # Convert runtimeMinutes to categories  \n",
    "#     num_bins_rt = 20\n",
    "    final[\"runtimeBins\"] = pd.cut(final['runtimeMinutes'], bins=[0,75,120,180,565], labels=[4,3,2,1])\n",
    "    \n",
    "    # Convert boxOffice to categories  \n",
    "    num_bins_bo = 5\n",
    "    final[\"boxOfficeBins\"] = pd.cut(final['boxOffice'], bins=num_bins_bo, labels=False)\n",
    "    \n",
    "    # Convert releaseDiff to categories  \n",
    "    num_bins_rd = 5\n",
    "    final[\"releaseDiffBins\"] = pd.cut(final['releaseDiff'], bins=[-1, 180, 360, 1000, 40000], labels=[0, 1, 2, 3])\n",
    "\n",
    "    return final"
   ]
  },
  {
   "cell_type": "code",
   "execution_count": 31,
   "id": "4955f287",
   "metadata": {
    "execution": {
     "iopub.execute_input": "2023-08-10T19:33:49.749851Z",
     "iopub.status.busy": "2023-08-10T19:33:49.749408Z",
     "iopub.status.idle": "2023-08-10T19:33:49.756482Z",
     "shell.execute_reply": "2023-08-10T19:33:49.755627Z"
    },
    "papermill": {
     "duration": 0.103081,
     "end_time": "2023-08-10T19:33:49.758522",
     "exception": false,
     "start_time": "2023-08-10T19:33:49.655441",
     "status": "completed"
    },
    "tags": []
   },
   "outputs": [],
   "source": [
    "def split_train_predict(features, labels, pipeline, test_size=0.25, random_state=42):\n",
    "    # cols = features.columns\n",
    "    if len(features.shape) == 1:\n",
    "        features = features.to_numpy().reshape(-1, 1)  # reshape to 2D array\n",
    "    features = pd.DataFrame(features)\n",
    "    X_train, X_test, y_train, y_test = train_test_split(features, labels, test_size=test_size, random_state=random_state)\n",
    "    pipeline.fit(X_train, y_train)\n",
    "    y_pred = pipeline.predict(X_test)\n",
    "    print(classification_report(y_test, y_pred))\n",
    "    print(confusion_matrix(y_test, y_pred))\n",
    "    return pipeline"
   ]
  },
  {
   "cell_type": "markdown",
   "id": "9bb352de",
   "metadata": {
    "papermill": {
     "duration": 0.093972,
     "end_time": "2023-08-10T19:33:49.946274",
     "exception": false,
     "start_time": "2023-08-10T19:33:49.852302",
     "status": "completed"
    },
    "tags": []
   },
   "source": [
    "### Merge \"train.csv\" file with \"movies.csv\" file  "
   ]
  },
  {
   "cell_type": "code",
   "execution_count": 32,
   "id": "2b008cad",
   "metadata": {
    "execution": {
     "iopub.execute_input": "2023-08-10T19:33:50.132729Z",
     "iopub.status.busy": "2023-08-10T19:33:50.132087Z",
     "iopub.status.idle": "2023-08-10T19:34:04.695163Z",
     "shell.execute_reply": "2023-08-10T19:34:04.694112Z"
    },
    "papermill": {
     "duration": 14.659072,
     "end_time": "2023-08-10T19:34:04.697817",
     "exception": false,
     "start_time": "2023-08-10T19:33:50.038745",
     "status": "completed"
    },
    "tags": []
   },
   "outputs": [],
   "source": [
    "merged = select_features(load_csv(\"train\"), load_csv(\"movies\"), row_thresh_null=None)"
   ]
  },
  {
   "cell_type": "code",
   "execution_count": 33,
   "id": "27ec5ab9",
   "metadata": {
    "execution": {
     "iopub.execute_input": "2023-08-10T19:34:04.886541Z",
     "iopub.status.busy": "2023-08-10T19:34:04.885272Z",
     "iopub.status.idle": "2023-08-10T19:34:04.890432Z",
     "shell.execute_reply": "2023-08-10T19:34:04.889510Z"
    },
    "papermill": {
     "duration": 0.101704,
     "end_time": "2023-08-10T19:34:04.892965",
     "exception": false,
     "start_time": "2023-08-10T19:34:04.791261",
     "status": "completed"
    },
    "tags": []
   },
   "outputs": [],
   "source": [
    "# inspect(merged)    # Note missing values in ['audienceScore', 'runtimeMinutes', 'boxOffice'] columns  "
   ]
  },
  {
   "cell_type": "code",
   "execution_count": 34,
   "id": "19c6f344",
   "metadata": {
    "execution": {
     "iopub.execute_input": "2023-08-10T19:34:05.081216Z",
     "iopub.status.busy": "2023-08-10T19:34:05.080797Z",
     "iopub.status.idle": "2023-08-10T19:34:05.177184Z",
     "shell.execute_reply": "2023-08-10T19:34:05.176024Z"
    },
    "papermill": {
     "duration": 0.193785,
     "end_time": "2023-08-10T19:34:05.179696",
     "exception": false,
     "start_time": "2023-08-10T19:34:04.985911",
     "status": "completed"
    },
    "tags": []
   },
   "outputs": [
    {
     "data": {
      "text/plain": [
       "array([6.80e+01, 1.04e+02, 1.43e+07])"
      ]
     },
     "execution_count": 34,
     "metadata": {},
     "output_type": "execute_result"
    }
   ],
   "source": [
    "# Simple Imputer for ['audienceScore', 'runtimeMinutes', 'boxOffice'] columns\n",
    "si = SimpleImputer(strategy='median')\n",
    "merged[['audienceScore', 'runtimeMinutes', 'boxOffice']] = si.fit_transform(merged[['audienceScore', 'runtimeMinutes', 'boxOffice']])\n",
    "si.statistics_"
   ]
  },
  {
   "cell_type": "code",
   "execution_count": 35,
   "id": "2ed30976",
   "metadata": {
    "execution": {
     "iopub.execute_input": "2023-08-10T19:34:05.370129Z",
     "iopub.status.busy": "2023-08-10T19:34:05.369719Z",
     "iopub.status.idle": "2023-08-10T19:34:05.383679Z",
     "shell.execute_reply": "2023-08-10T19:34:05.382686Z"
    },
    "papermill": {
     "duration": 0.112851,
     "end_time": "2023-08-10T19:34:05.386317",
     "exception": false,
     "start_time": "2023-08-10T19:34:05.273466",
     "status": "completed"
    },
    "tags": []
   },
   "outputs": [],
   "source": [
    "# Fill 'releaseDate' column with median  \n",
    "merged['releaseDate'] = merged[\"releaseDate\"].fillna(merged[\"releaseDate\"].median())"
   ]
  },
  {
   "cell_type": "code",
   "execution_count": 36,
   "id": "b645ad50",
   "metadata": {
    "execution": {
     "iopub.execute_input": "2023-08-10T19:34:05.574946Z",
     "iopub.status.busy": "2023-08-10T19:34:05.573782Z",
     "iopub.status.idle": "2023-08-10T19:34:07.022441Z",
     "shell.execute_reply": "2023-08-10T19:34:07.021523Z"
    },
    "papermill": {
     "duration": 1.545239,
     "end_time": "2023-08-10T19:34:07.025264",
     "exception": false,
     "start_time": "2023-08-10T19:34:05.480025",
     "status": "completed"
    },
    "tags": []
   },
   "outputs": [
    {
     "name": "stdout",
     "output_type": "stream",
     "text": [
      "Shape of the dataframe: (162758, 30)\n",
      "\n",
      "Columns in the dataframe:\n",
      "Index(['movieid', 'reviewerName', 'isFrequentReviewer', 'reviewText',\n",
      "       'sentiment', 'title', 'audienceScore', 'rating', 'ratingContents',\n",
      "       'releaseDateTheaters', 'releaseDateStreaming', 'runtimeMinutes',\n",
      "       'genre', 'originalLanguage', 'director', 'boxOffice', 'distributor',\n",
      "       'soundType', 'reviewYN', 'reviewWC', 'genreSorted', 'rcSorted',\n",
      "       'releaseDate', 'releaseYear', 'releaseMonth', 'releaseDiff',\n",
      "       'audScoreBins', 'runtimeBins', 'boxOfficeBins', 'releaseDiffBins'],\n",
      "      dtype='object')\n",
      "\n",
      "<class 'pandas.core.frame.DataFrame'>\n",
      "Int64Index: 162758 entries, 0 to 162757\n",
      "Data columns (total 30 columns):\n",
      " #   Column                Non-Null Count   Dtype         \n",
      "---  ------                --------------   -----         \n",
      " 0   movieid               162758 non-null  object        \n",
      " 1   reviewerName          162758 non-null  object        \n",
      " 2   isFrequentReviewer    162758 non-null  bool          \n",
      " 3   reviewText            162758 non-null  object        \n",
      " 4   sentiment             162758 non-null  object        \n",
      " 5   title                 162758 non-null  object        \n",
      " 6   audienceScore         162758 non-null  float64       \n",
      " 7   rating                162758 non-null  object        \n",
      " 8   ratingContents        162758 non-null  object        \n",
      " 9   releaseDateTheaters   146403 non-null  datetime64[ns]\n",
      " 10  releaseDateStreaming  157353 non-null  datetime64[ns]\n",
      " 11  runtimeMinutes        162758 non-null  float64       \n",
      " 12  genre                 162758 non-null  object        \n",
      " 13  originalLanguage      162758 non-null  object        \n",
      " 14  director              162758 non-null  object        \n",
      " 15  boxOffice             162758 non-null  float64       \n",
      " 16  distributor           162758 non-null  object        \n",
      " 17  soundType             93466 non-null   object        \n",
      " 18  reviewYN              162758 non-null  int64         \n",
      " 19  reviewWC              162758 non-null  int64         \n",
      " 20  genreSorted           162758 non-null  object        \n",
      " 21  rcSorted              162758 non-null  object        \n",
      " 22  releaseDate           162758 non-null  datetime64[ns]\n",
      " 23  releaseYear           143073 non-null  float64       \n",
      " 24  releaseMonth          143073 non-null  float64       \n",
      " 25  releaseDiff           162758 non-null  float64       \n",
      " 26  audScoreBins          159922 non-null  float64       \n",
      " 27  runtimeBins           162016 non-null  category      \n",
      " 28  boxOfficeBins         130581 non-null  float64       \n",
      " 29  releaseDiffBins       162758 non-null  category      \n",
      "dtypes: bool(1), category(2), datetime64[ns](3), float64(8), int64(2), object(14)\n",
      "memory usage: 35.2+ MB\n",
      "None\n",
      "\n",
      "Missing values:\n",
      "movieid                     0\n",
      "reviewerName                0\n",
      "isFrequentReviewer          0\n",
      "reviewText                  0\n",
      "sentiment                   0\n",
      "title                       0\n",
      "audienceScore               0\n",
      "rating                      0\n",
      "ratingContents              0\n",
      "releaseDateTheaters     16355\n",
      "releaseDateStreaming     5405\n",
      "runtimeMinutes              0\n",
      "genre                       0\n",
      "originalLanguage            0\n",
      "director                    0\n",
      "boxOffice                   0\n",
      "distributor                 0\n",
      "soundType               69292\n",
      "reviewYN                    0\n",
      "reviewWC                    0\n",
      "genreSorted                 0\n",
      "rcSorted                    0\n",
      "releaseDate                 0\n",
      "releaseYear             19685\n",
      "releaseMonth            19685\n",
      "releaseDiff                 0\n",
      "audScoreBins             2836\n",
      "runtimeBins               742\n",
      "boxOfficeBins           32177\n",
      "releaseDiffBins             0\n",
      "dtype: int64\n"
     ]
    }
   ],
   "source": [
    "# Check out 'merged' df after imputation  \n",
    "inspect(merged)"
   ]
  },
  {
   "cell_type": "code",
   "execution_count": 37,
   "id": "97b11a8d",
   "metadata": {
    "execution": {
     "iopub.execute_input": "2023-08-10T19:34:07.216587Z",
     "iopub.status.busy": "2023-08-10T19:34:07.216090Z",
     "iopub.status.idle": "2023-08-10T19:34:07.274030Z",
     "shell.execute_reply": "2023-08-10T19:34:07.273203Z"
    },
    "papermill": {
     "duration": 0.156363,
     "end_time": "2023-08-10T19:34:07.276096",
     "exception": false,
     "start_time": "2023-08-10T19:34:07.119733",
     "status": "completed"
    },
    "tags": []
   },
   "outputs": [
    {
     "data": {
      "text/html": [
       "<div>\n",
       "<style scoped>\n",
       "    .dataframe tbody tr th:only-of-type {\n",
       "        vertical-align: middle;\n",
       "    }\n",
       "\n",
       "    .dataframe tbody tr th {\n",
       "        vertical-align: top;\n",
       "    }\n",
       "\n",
       "    .dataframe thead th {\n",
       "        text-align: right;\n",
       "    }\n",
       "</style>\n",
       "<table border=\"1\" class=\"dataframe\">\n",
       "  <thead>\n",
       "    <tr style=\"text-align: right;\">\n",
       "      <th></th>\n",
       "      <th>audienceScore</th>\n",
       "      <th>runtimeMinutes</th>\n",
       "      <th>boxOffice</th>\n",
       "    </tr>\n",
       "  </thead>\n",
       "  <tbody>\n",
       "    <tr>\n",
       "      <th>count</th>\n",
       "      <td>162758.000000</td>\n",
       "      <td>162758.000000</td>\n",
       "      <td>1.627580e+05</td>\n",
       "    </tr>\n",
       "    <tr>\n",
       "      <th>mean</th>\n",
       "      <td>65.062565</td>\n",
       "      <td>106.992019</td>\n",
       "      <td>4.160983e+07</td>\n",
       "    </tr>\n",
       "    <tr>\n",
       "      <th>std</th>\n",
       "      <td>19.844000</td>\n",
       "      <td>22.203778</td>\n",
       "      <td>7.932291e+07</td>\n",
       "    </tr>\n",
       "    <tr>\n",
       "      <th>min</th>\n",
       "      <td>0.000000</td>\n",
       "      <td>4.000000</td>\n",
       "      <td>0.000000e+00</td>\n",
       "    </tr>\n",
       "    <tr>\n",
       "      <th>25%</th>\n",
       "      <td>51.000000</td>\n",
       "      <td>93.000000</td>\n",
       "      <td>2.000000e+06</td>\n",
       "    </tr>\n",
       "    <tr>\n",
       "      <th>50%</th>\n",
       "      <td>68.000000</td>\n",
       "      <td>104.000000</td>\n",
       "      <td>1.430000e+07</td>\n",
       "    </tr>\n",
       "    <tr>\n",
       "      <th>75%</th>\n",
       "      <td>81.000000</td>\n",
       "      <td>118.000000</td>\n",
       "      <td>4.200000e+07</td>\n",
       "    </tr>\n",
       "    <tr>\n",
       "      <th>max</th>\n",
       "      <td>100.000000</td>\n",
       "      <td>561.000000</td>\n",
       "      <td>8.584000e+08</td>\n",
       "    </tr>\n",
       "  </tbody>\n",
       "</table>\n",
       "</div>"
      ],
      "text/plain": [
       "       audienceScore  runtimeMinutes     boxOffice\n",
       "count  162758.000000   162758.000000  1.627580e+05\n",
       "mean       65.062565      106.992019  4.160983e+07\n",
       "std        19.844000       22.203778  7.932291e+07\n",
       "min         0.000000        4.000000  0.000000e+00\n",
       "25%        51.000000       93.000000  2.000000e+06\n",
       "50%        68.000000      104.000000  1.430000e+07\n",
       "75%        81.000000      118.000000  4.200000e+07\n",
       "max       100.000000      561.000000  8.584000e+08"
      ]
     },
     "execution_count": 37,
     "metadata": {},
     "output_type": "execute_result"
    }
   ],
   "source": [
    "merged[['audienceScore', 'runtimeMinutes', 'boxOffice']].describe()"
   ]
  },
  {
   "cell_type": "markdown",
   "id": "b58c8f1b",
   "metadata": {
    "papermill": {
     "duration": 0.094962,
     "end_time": "2023-08-10T19:34:07.467130",
     "exception": false,
     "start_time": "2023-08-10T19:34:07.372168",
     "status": "completed"
    },
    "tags": []
   },
   "source": [
    "### EDA releaseDiff  "
   ]
  },
  {
   "cell_type": "code",
   "execution_count": 38,
   "id": "e2b3c0ba",
   "metadata": {
    "execution": {
     "iopub.execute_input": "2023-08-10T19:34:07.661659Z",
     "iopub.status.busy": "2023-08-10T19:34:07.661189Z",
     "iopub.status.idle": "2023-08-10T19:34:07.679334Z",
     "shell.execute_reply": "2023-08-10T19:34:07.678473Z"
    },
    "papermill": {
     "duration": 0.11789,
     "end_time": "2023-08-10T19:34:07.681362",
     "exception": false,
     "start_time": "2023-08-10T19:34:07.563472",
     "status": "completed"
    },
    "tags": []
   },
   "outputs": [
    {
     "data": {
      "text/plain": [
       "count    162758.000000\n",
       "mean       1653.469015\n",
       "std        4581.420922\n",
       "min           0.000000\n",
       "25%          65.000000\n",
       "50%         116.000000\n",
       "75%         375.000000\n",
       "max       38922.000000\n",
       "Name: releaseDiff, dtype: float64"
      ]
     },
     "execution_count": 38,
     "metadata": {},
     "output_type": "execute_result"
    }
   ],
   "source": [
    "# abs values\n",
    "merged[\"releaseDiff\"].describe()"
   ]
  },
  {
   "cell_type": "code",
   "execution_count": 39,
   "id": "defac1fd",
   "metadata": {
    "execution": {
     "iopub.execute_input": "2023-08-10T19:34:07.869683Z",
     "iopub.status.busy": "2023-08-10T19:34:07.869287Z",
     "iopub.status.idle": "2023-08-10T19:34:07.879659Z",
     "shell.execute_reply": "2023-08-10T19:34:07.878660Z"
    },
    "papermill": {
     "duration": 0.106908,
     "end_time": "2023-08-10T19:34:07.881972",
     "exception": false,
     "start_time": "2023-08-10T19:34:07.775064",
     "status": "completed"
    },
    "tags": []
   },
   "outputs": [
    {
     "data": {
      "text/plain": [
       "0    111750\n",
       "3     32557\n",
       "1      9920\n",
       "2      8531\n",
       "Name: releaseDiffBins, dtype: int64"
      ]
     },
     "execution_count": 39,
     "metadata": {},
     "output_type": "execute_result"
    }
   ],
   "source": [
    "merged['releaseDiffBins'].value_counts()"
   ]
  },
  {
   "cell_type": "code",
   "execution_count": 40,
   "id": "5ea0375d",
   "metadata": {
    "execution": {
     "iopub.execute_input": "2023-08-10T19:34:08.072465Z",
     "iopub.status.busy": "2023-08-10T19:34:08.072033Z",
     "iopub.status.idle": "2023-08-10T19:34:08.451222Z",
     "shell.execute_reply": "2023-08-10T19:34:08.450012Z"
    },
    "papermill": {
     "duration": 0.477707,
     "end_time": "2023-08-10T19:34:08.453793",
     "exception": false,
     "start_time": "2023-08-10T19:34:07.976086",
     "status": "completed"
    },
    "tags": []
   },
   "outputs": [
    {
     "data": {
      "text/plain": [
       "<Axes: xlabel='sentiment', ylabel='releaseDiff'>"
      ]
     },
     "execution_count": 40,
     "metadata": {},
     "output_type": "execute_result"
    },
    {
     "data": {
      "image/png": "[encoded data removed]",
      "text/plain": [
       "<Figure size 640x480 with 1 Axes>"
      ]
     },
     "metadata": {},
     "output_type": "display_data"
    }
   ],
   "source": [
    "sns.boxplot(x=merged['sentiment'], y=merged['releaseDiff'], showfliers=False)"
   ]
  },
  {
   "cell_type": "code",
   "execution_count": 41,
   "id": "a728d4c7",
   "metadata": {
    "execution": {
     "iopub.execute_input": "2023-08-10T19:34:08.647266Z",
     "iopub.status.busy": "2023-08-10T19:34:08.646795Z",
     "iopub.status.idle": "2023-08-10T19:34:09.356203Z",
     "shell.execute_reply": "2023-08-10T19:34:09.355025Z"
    },
    "papermill": {
     "duration": 0.809223,
     "end_time": "2023-08-10T19:34:09.358699",
     "exception": false,
     "start_time": "2023-08-10T19:34:08.549476",
     "status": "completed"
    },
    "tags": []
   },
   "outputs": [
    {
     "data": {
      "text/plain": [
       "<seaborn.axisgrid.FacetGrid at 0x7800190d03a0>"
      ]
     },
     "execution_count": 41,
     "metadata": {},
     "output_type": "execute_result"
    },
    {
     "data": {
      "image/png": "[encoded data removed]",
      "text/plain": [
       "<Figure size 500x500 with 1 Axes>"
      ]
     },
     "metadata": {},
     "output_type": "display_data"
    }
   ],
   "source": [
    "sns.displot(merged['releaseDiffBins'])"
   ]
  },
  {
   "cell_type": "code",
   "execution_count": 42,
   "id": "83497f52",
   "metadata": {
    "execution": {
     "iopub.execute_input": "2023-08-10T19:34:09.551216Z",
     "iopub.status.busy": "2023-08-10T19:34:09.550338Z",
     "iopub.status.idle": "2023-08-10T19:34:09.570146Z",
     "shell.execute_reply": "2023-08-10T19:34:09.568855Z"
    },
    "papermill": {
     "duration": 0.118868,
     "end_time": "2023-08-10T19:34:09.572563",
     "exception": false,
     "start_time": "2023-08-10T19:34:09.453695",
     "status": "completed"
    },
    "tags": []
   },
   "outputs": [
    {
     "data": {
      "text/plain": [
       "POSITIVE    34446\n",
       "NEGATIVE    16562\n",
       "Name: sentiment, dtype: int64"
      ]
     },
     "execution_count": 42,
     "metadata": {},
     "output_type": "execute_result"
    }
   ],
   "source": [
    "merged['sentiment'].loc[merged['releaseDiffBins'] > 0].value_counts()"
   ]
  },
  {
   "cell_type": "code",
   "execution_count": 43,
   "id": "b5f541c2",
   "metadata": {
    "execution": {
     "iopub.execute_input": "2023-08-10T19:34:09.765820Z",
     "iopub.status.busy": "2023-08-10T19:34:09.765135Z",
     "iopub.status.idle": "2023-08-10T19:34:09.775939Z",
     "shell.execute_reply": "2023-08-10T19:34:09.774836Z"
    },
    "papermill": {
     "duration": 0.108644,
     "end_time": "2023-08-10T19:34:09.778414",
     "exception": false,
     "start_time": "2023-08-10T19:34:09.669770",
     "status": "completed"
    },
    "tags": []
   },
   "outputs": [
    {
     "data": {
      "text/plain": [
       "count     162758\n",
       "unique         4\n",
       "top            0\n",
       "freq      111750\n",
       "Name: releaseDiffBins, dtype: int64"
      ]
     },
     "execution_count": 43,
     "metadata": {},
     "output_type": "execute_result"
    }
   ],
   "source": [
    "merged['releaseDiffBins'].describe()"
   ]
  },
  {
   "cell_type": "markdown",
   "id": "a66a814f",
   "metadata": {
    "papermill": {
     "duration": 0.094925,
     "end_time": "2023-08-10T19:34:09.972501",
     "exception": false,
     "start_time": "2023-08-10T19:34:09.877576",
     "status": "completed"
    },
    "tags": []
   },
   "source": [
    "### EDA 'distributor'  "
   ]
  },
  {
   "cell_type": "code",
   "execution_count": 44,
   "id": "df4dcb80",
   "metadata": {
    "execution": {
     "iopub.execute_input": "2023-08-10T19:34:10.233651Z",
     "iopub.status.busy": "2023-08-10T19:34:10.233170Z",
     "iopub.status.idle": "2023-08-10T19:34:10.271026Z",
     "shell.execute_reply": "2023-08-10T19:34:10.269423Z"
    },
    "papermill": {
     "duration": 0.139325,
     "end_time": "2023-08-10T19:34:10.273465",
     "exception": false,
     "start_time": "2023-08-10T19:34:10.134140",
     "status": "completed"
    },
    "tags": []
   },
   "outputs": [
    {
     "data": {
      "text/plain": [
       "unknown                              20489\n",
       "Universal Pictures                    8847\n",
       "Warner Bros. Pictures                 8722\n",
       "Paramount Pictures                    7773\n",
       "20th Century Fox                      7007\n",
       "                                     ...  \n",
       "Almi Pictures                            1\n",
       "Koch Lorber                              1\n",
       "Magic Lamp                               1\n",
       "Fine Line Features, Miramax Films        1\n",
       "American Film Co.                        1\n",
       "Name: distributor, Length: 1796, dtype: int64"
      ]
     },
     "execution_count": 44,
     "metadata": {},
     "output_type": "execute_result"
    }
   ],
   "source": [
    "merged[\"distributor\"].value_counts()"
   ]
  },
  {
   "cell_type": "code",
   "execution_count": 45,
   "id": "43b0925b",
   "metadata": {
    "execution": {
     "iopub.execute_input": "2023-08-10T19:34:10.468372Z",
     "iopub.status.busy": "2023-08-10T19:34:10.467920Z",
     "iopub.status.idle": "2023-08-10T19:34:10.488048Z",
     "shell.execute_reply": "2023-08-10T19:34:10.486794Z"
    },
    "papermill": {
     "duration": 0.119856,
     "end_time": "2023-08-10T19:34:10.490667",
     "exception": false,
     "start_time": "2023-08-10T19:34:10.370811",
     "status": "completed"
    },
    "tags": []
   },
   "outputs": [
    {
     "data": {
      "text/plain": [
       "count    162758.000000\n",
       "mean        106.992019\n",
       "std          22.203778\n",
       "min           4.000000\n",
       "25%          93.000000\n",
       "50%         104.000000\n",
       "75%         118.000000\n",
       "max         561.000000\n",
       "Name: runtimeMinutes, dtype: float64"
      ]
     },
     "execution_count": 45,
     "metadata": {},
     "output_type": "execute_result"
    }
   ],
   "source": [
    "merged[\"runtimeMinutes\"].describe()"
   ]
  },
  {
   "cell_type": "code",
   "execution_count": 46,
   "id": "b9d26a51",
   "metadata": {
    "execution": {
     "iopub.execute_input": "2023-08-10T19:34:10.684344Z",
     "iopub.status.busy": "2023-08-10T19:34:10.683912Z",
     "iopub.status.idle": "2023-08-10T19:34:11.099044Z",
     "shell.execute_reply": "2023-08-10T19:34:11.097904Z"
    },
    "papermill": {
     "duration": 0.515079,
     "end_time": "2023-08-10T19:34:11.101750",
     "exception": false,
     "start_time": "2023-08-10T19:34:10.586671",
     "status": "completed"
    },
    "tags": []
   },
   "outputs": [
    {
     "data": {
      "text/plain": [
       "<Axes: xlabel='sentiment', ylabel='runtimeMinutes'>"
      ]
     },
     "execution_count": 46,
     "metadata": {},
     "output_type": "execute_result"
    },
    {
     "data": {
      "image/png": "[encoded data removed]",
      "text/plain": [
       "<Figure size 640x480 with 1 Axes>"
      ]
     },
     "metadata": {},
     "output_type": "display_data"
    }
   ],
   "source": [
    "sns.boxplot(y=merged[\"runtimeMinutes\"], x=merged[\"sentiment\"])"
   ]
  },
  {
   "cell_type": "code",
   "execution_count": 47,
   "id": "c6795f52",
   "metadata": {
    "execution": {
     "iopub.execute_input": "2023-08-10T19:34:11.297377Z",
     "iopub.status.busy": "2023-08-10T19:34:11.296956Z",
     "iopub.status.idle": "2023-08-10T19:34:11.927011Z",
     "shell.execute_reply": "2023-08-10T19:34:11.925838Z"
    },
    "papermill": {
     "duration": 0.729838,
     "end_time": "2023-08-10T19:34:11.929635",
     "exception": false,
     "start_time": "2023-08-10T19:34:11.199797",
     "status": "completed"
    },
    "tags": []
   },
   "outputs": [
    {
     "name": "stdout",
     "output_type": "stream",
     "text": [
      "0.0    121579\n",
      "1.0      6474\n",
      "2.0      1819\n",
      "3.0       433\n",
      "4.0       276\n",
      "Name: boxOfficeBins, dtype: int64\n"
     ]
    },
    {
     "data": {
      "text/plain": [
       "<seaborn.axisgrid.FacetGrid at 0x780004082320>"
      ]
     },
     "execution_count": 47,
     "metadata": {},
     "output_type": "execute_result"
    },
    {
     "data": {
      "image/png": "[encoded data removed]",
      "text/plain": [
       "<Figure size 500x500 with 1 Axes>"
      ]
     },
     "metadata": {},
     "output_type": "display_data"
    }
   ],
   "source": [
    "print(merged[\"boxOfficeBins\"].value_counts())\n",
    "sns.displot(merged[\"boxOfficeBins\"])"
   ]
  },
  {
   "cell_type": "code",
   "execution_count": 48,
   "id": "4195760d",
   "metadata": {
    "execution": {
     "iopub.execute_input": "2023-08-10T19:34:12.123582Z",
     "iopub.status.busy": "2023-08-10T19:34:12.123145Z",
     "iopub.status.idle": "2023-08-10T19:34:12.131848Z",
     "shell.execute_reply": "2023-08-10T19:34:12.130661Z"
    },
    "papermill": {
     "duration": 0.108193,
     "end_time": "2023-08-10T19:34:12.134069",
     "exception": false,
     "start_time": "2023-08-10T19:34:12.025876",
     "status": "completed"
    },
    "tags": []
   },
   "outputs": [
    {
     "data": {
      "text/plain": [
       "0    Henry Selick’s first movie since ’s Coraline. ...\n",
       "1    With a cast that reads like the Vogue Oscar pa...\n",
       "2    Creed II does not give us anything but another...\n",
       "3    I know what you're thinking, but this is no Li...\n",
       "4    Director Fernando Meirelles tells the story wi...\n",
       "Name: reviewText, dtype: object"
      ]
     },
     "execution_count": 48,
     "metadata": {},
     "output_type": "execute_result"
    }
   ],
   "source": [
    "merged[\"reviewText\"].head()"
   ]
  },
  {
   "cell_type": "code",
   "execution_count": 49,
   "id": "666558db",
   "metadata": {
    "execution": {
     "iopub.execute_input": "2023-08-10T19:34:12.334156Z",
     "iopub.status.busy": "2023-08-10T19:34:12.333349Z",
     "iopub.status.idle": "2023-08-10T19:34:12.340653Z",
     "shell.execute_reply": "2023-08-10T19:34:12.339547Z"
    },
    "papermill": {
     "duration": 0.110012,
     "end_time": "2023-08-10T19:34:12.342778",
     "exception": false,
     "start_time": "2023-08-10T19:34:12.232766",
     "status": "completed"
    },
    "tags": []
   },
   "outputs": [
    {
     "data": {
      "text/plain": [
       "6447"
      ]
     },
     "execution_count": 49,
     "metadata": {},
     "output_type": "execute_result"
    }
   ],
   "source": [
    "merged[\"reviewYN\"].sum()"
   ]
  },
  {
   "cell_type": "code",
   "execution_count": 50,
   "id": "b13001ae",
   "metadata": {
    "execution": {
     "iopub.execute_input": "2023-08-10T19:34:12.540702Z",
     "iopub.status.busy": "2023-08-10T19:34:12.539430Z",
     "iopub.status.idle": "2023-08-10T19:34:12.548463Z",
     "shell.execute_reply": "2023-08-10T19:34:12.547350Z"
    },
    "papermill": {
     "duration": 0.110192,
     "end_time": "2023-08-10T19:34:12.550891",
     "exception": false,
     "start_time": "2023-08-10T19:34:12.440699",
     "status": "completed"
    },
    "tags": []
   },
   "outputs": [
    {
     "data": {
      "text/plain": [
       "0    11\n",
       "1    24\n",
       "2    22\n",
       "3    34\n",
       "4    20\n",
       "Name: reviewWC, dtype: int64"
      ]
     },
     "execution_count": 50,
     "metadata": {},
     "output_type": "execute_result"
    }
   ],
   "source": [
    "merged[\"reviewWC\"].head()"
   ]
  },
  {
   "cell_type": "code",
   "execution_count": 51,
   "id": "6c695fa2",
   "metadata": {
    "execution": {
     "iopub.execute_input": "2023-08-10T19:34:12.751556Z",
     "iopub.status.busy": "2023-08-10T19:34:12.751151Z",
     "iopub.status.idle": "2023-08-10T19:34:12.767256Z",
     "shell.execute_reply": "2023-08-10T19:34:12.766165Z"
    },
    "papermill": {
     "duration": 0.119798,
     "end_time": "2023-08-10T19:34:12.769720",
     "exception": false,
     "start_time": "2023-08-10T19:34:12.649922",
     "status": "completed"
    },
    "tags": []
   },
   "outputs": [
    {
     "data": {
      "text/plain": [
       "count    162758.000000\n",
       "mean         21.013707\n",
       "std          10.216532\n",
       "min           1.000000\n",
       "25%          14.000000\n",
       "50%          21.000000\n",
       "75%          28.000000\n",
       "max          54.000000\n",
       "Name: reviewWC, dtype: float64"
      ]
     },
     "execution_count": 51,
     "metadata": {},
     "output_type": "execute_result"
    }
   ],
   "source": [
    "merged[\"reviewWC\"].describe()"
   ]
  },
  {
   "cell_type": "code",
   "execution_count": 52,
   "id": "27e5792c",
   "metadata": {
    "execution": {
     "iopub.execute_input": "2023-08-10T19:34:12.967237Z",
     "iopub.status.busy": "2023-08-10T19:34:12.966836Z",
     "iopub.status.idle": "2023-08-10T19:34:13.755565Z",
     "shell.execute_reply": "2023-08-10T19:34:13.754437Z"
    },
    "papermill": {
     "duration": 0.890502,
     "end_time": "2023-08-10T19:34:13.758294",
     "exception": false,
     "start_time": "2023-08-10T19:34:12.867792",
     "status": "completed"
    },
    "tags": []
   },
   "outputs": [
    {
     "data": {
      "text/plain": [
       "<Axes: xlabel='reviewWC', ylabel='Count'>"
      ]
     },
     "execution_count": 52,
     "metadata": {},
     "output_type": "execute_result"
    },
    {
     "data": {
      "image/png": "[encoded data removed]",
      "text/plain": [
       "<Figure size 640x480 with 1 Axes>"
      ]
     },
     "metadata": {},
     "output_type": "display_data"
    }
   ],
   "source": [
    "sns.histplot(merged[\"reviewWC\"])"
   ]
  },
  {
   "cell_type": "code",
   "execution_count": 53,
   "id": "e5360bc3",
   "metadata": {
    "execution": {
     "iopub.execute_input": "2023-08-10T19:34:13.957533Z",
     "iopub.status.busy": "2023-08-10T19:34:13.956861Z",
     "iopub.status.idle": "2023-08-10T19:34:13.990801Z",
     "shell.execute_reply": "2023-08-10T19:34:13.989653Z"
    },
    "papermill": {
     "duration": 0.13649,
     "end_time": "2023-08-10T19:34:13.993420",
     "exception": false,
     "start_time": "2023-08-10T19:34:13.856930",
     "status": "completed"
    },
    "tags": []
   },
   "outputs": [
    {
     "data": {
      "text/plain": [
       "R          60248\n",
       "unknown    44587\n",
       "PG-13      42697\n",
       "PG         13669\n",
       "TV14         947\n",
       "NC-17        285\n",
       "TVPG         281\n",
       "TVMA          44\n",
       "Name: rating, dtype: int64"
      ]
     },
     "execution_count": 53,
     "metadata": {},
     "output_type": "execute_result"
    }
   ],
   "source": [
    "merged['rating'].value_counts()"
   ]
  },
  {
   "cell_type": "code",
   "execution_count": 54,
   "id": "945d2231",
   "metadata": {
    "execution": {
     "iopub.execute_input": "2023-08-10T19:34:14.198204Z",
     "iopub.status.busy": "2023-08-10T19:34:14.197130Z",
     "iopub.status.idle": "2023-08-10T19:34:14.210154Z",
     "shell.execute_reply": "2023-08-10T19:34:14.208912Z"
    },
    "papermill": {
     "duration": 0.117105,
     "end_time": "2023-08-10T19:34:14.213904",
     "exception": false,
     "start_time": "2023-08-10T19:34:14.096799",
     "status": "completed"
    },
    "tags": []
   },
   "outputs": [
    {
     "data": {
      "text/plain": [
       "False    113189\n",
       "True      49569\n",
       "Name: isFrequentReviewer, dtype: int64"
      ]
     },
     "execution_count": 54,
     "metadata": {},
     "output_type": "execute_result"
    }
   ],
   "source": [
    "merged['isFrequentReviewer'].value_counts()"
   ]
  },
  {
   "cell_type": "code",
   "execution_count": 55,
   "id": "496a4c10",
   "metadata": {
    "execution": {
     "iopub.execute_input": "2023-08-10T19:34:14.425429Z",
     "iopub.status.busy": "2023-08-10T19:34:14.424756Z",
     "iopub.status.idle": "2023-08-10T19:34:14.432201Z",
     "shell.execute_reply": "2023-08-10T19:34:14.431466Z"
    },
    "papermill": {
     "duration": 0.111141,
     "end_time": "2023-08-10T19:34:14.434715",
     "exception": false,
     "start_time": "2023-08-10T19:34:14.323574",
     "status": "completed"
    },
    "tags": []
   },
   "outputs": [
    {
     "data": {
      "text/plain": [
       "0      Benjamin Henry\n",
       "1       Felicia Lopez\n",
       "2     Charles Burgess\n",
       "3        Ryan Barrett\n",
       "4    Alexander Glover\n",
       "Name: reviewerName, dtype: object"
      ]
     },
     "execution_count": 55,
     "metadata": {},
     "output_type": "execute_result"
    }
   ],
   "source": [
    "merged[\"reviewerName\"].head()"
   ]
  },
  {
   "cell_type": "code",
   "execution_count": 56,
   "id": "3dad77f5",
   "metadata": {
    "execution": {
     "iopub.execute_input": "2023-08-10T19:34:14.634965Z",
     "iopub.status.busy": "2023-08-10T19:34:14.634344Z",
     "iopub.status.idle": "2023-08-10T19:34:14.646320Z",
     "shell.execute_reply": "2023-08-10T19:34:14.645545Z"
    },
    "papermill": {
     "duration": 0.114278,
     "end_time": "2023-08-10T19:34:14.648374",
     "exception": false,
     "start_time": "2023-08-10T19:34:14.534096",
     "status": "completed"
    },
    "tags": []
   },
   "outputs": [
    {
     "data": {
      "text/plain": [
       "14300000.0    32327\n",
       "2000000.0       922\n",
       "1100000.0       891\n",
       "1000000.0       834\n",
       "1200000.0       802\n",
       "              ...  \n",
       "58500.0           1\n",
       "500800.0          1\n",
       "265600.0          1\n",
       "292500.0          1\n",
       "799400.0          1\n",
       "Name: boxOffice, Length: 3819, dtype: int64"
      ]
     },
     "execution_count": 56,
     "metadata": {},
     "output_type": "execute_result"
    }
   ],
   "source": [
    "merged['boxOffice'].value_counts()"
   ]
  },
  {
   "cell_type": "code",
   "execution_count": 57,
   "id": "56bcafd9",
   "metadata": {
    "execution": {
     "iopub.execute_input": "2023-08-10T19:34:14.872410Z",
     "iopub.status.busy": "2023-08-10T19:34:14.872032Z",
     "iopub.status.idle": "2023-08-10T19:34:14.877573Z",
     "shell.execute_reply": "2023-08-10T19:34:14.876391Z"
    },
    "papermill": {
     "duration": 0.12184,
     "end_time": "2023-08-10T19:34:14.879977",
     "exception": false,
     "start_time": "2023-08-10T19:34:14.758137",
     "status": "completed"
    },
    "tags": []
   },
   "outputs": [],
   "source": [
    "# Check correlation between 'boxOffice' and ''sentiment'\n",
    "# bo_df = merged.copy()\n",
    "# print(bo_df[\"boxOffice\"])\n",
    "# bo_df[\"boxOffice\"] = bo_df[\"boxOffice\"].str[1:]\n",
    "# bo_df[\"boxOffice\"] = bo_df[\"boxOffice\"].replace(to_replace={\"M\": \"*1000000\", \"K\": \"*1000\"}, regex=True)\n",
    "# bo_df[\"boxOffice\"] = bo_df[\"boxOffice\"].loc[bo_df[\"boxOffice\"].notnull()].apply(lambda x: eval(str(x)))\n",
    "# bo_df[\"boxOffice\"] = bo_df[\"boxOffice\"].fillna(bo_df[\"boxOffice\"].median())\n",
    "# bo_df[\"boxOffice\"].describe()"
   ]
  },
  {
   "cell_type": "code",
   "execution_count": 58,
   "id": "4c2f399e",
   "metadata": {
    "execution": {
     "iopub.execute_input": "2023-08-10T19:34:15.100299Z",
     "iopub.status.busy": "2023-08-10T19:34:15.099769Z",
     "iopub.status.idle": "2023-08-10T19:34:15.104841Z",
     "shell.execute_reply": "2023-08-10T19:34:15.103703Z"
    },
    "papermill": {
     "duration": 0.114363,
     "end_time": "2023-08-10T19:34:15.107265",
     "exception": false,
     "start_time": "2023-08-10T19:34:14.992902",
     "status": "completed"
    },
    "tags": []
   },
   "outputs": [],
   "source": [
    "# median = bo_df[\"boxOffice\"].describe()['50%']\n",
    "# iqr = bo_df[\"boxOffice\"].describe()['75%'] - bo_df[\"boxOffice\"].describe()['25%']\n",
    "# median, iqr"
   ]
  },
  {
   "cell_type": "code",
   "execution_count": 59,
   "id": "ed46e5a8",
   "metadata": {
    "execution": {
     "iopub.execute_input": "2023-08-10T19:34:15.319383Z",
     "iopub.status.busy": "2023-08-10T19:34:15.318598Z",
     "iopub.status.idle": "2023-08-10T19:34:15.323221Z",
     "shell.execute_reply": "2023-08-10T19:34:15.322418Z"
    },
    "papermill": {
     "duration": 0.107969,
     "end_time": "2023-08-10T19:34:15.325483",
     "exception": false,
     "start_time": "2023-08-10T19:34:15.217514",
     "status": "completed"
    },
    "tags": []
   },
   "outputs": [],
   "source": [
    "# ll = median - (1.5*iqr)\n",
    "# ul = median + (1.5*iqr)\n",
    "# ll, ul"
   ]
  },
  {
   "cell_type": "code",
   "execution_count": 60,
   "id": "1b93543b",
   "metadata": {
    "execution": {
     "iopub.execute_input": "2023-08-10T19:34:15.528475Z",
     "iopub.status.busy": "2023-08-10T19:34:15.527719Z",
     "iopub.status.idle": "2023-08-10T19:34:15.532302Z",
     "shell.execute_reply": "2023-08-10T19:34:15.531562Z"
    },
    "papermill": {
     "duration": 0.107683,
     "end_time": "2023-08-10T19:34:15.534592",
     "exception": false,
     "start_time": "2023-08-10T19:34:15.426909",
     "status": "completed"
    },
    "tags": []
   },
   "outputs": [],
   "source": [
    "# bo_df[\"boxOffice\"].mean()"
   ]
  },
  {
   "cell_type": "code",
   "execution_count": 61,
   "id": "c7d8aefc",
   "metadata": {
    "execution": {
     "iopub.execute_input": "2023-08-10T19:34:15.740183Z",
     "iopub.status.busy": "2023-08-10T19:34:15.739135Z",
     "iopub.status.idle": "2023-08-10T19:34:15.744031Z",
     "shell.execute_reply": "2023-08-10T19:34:15.743246Z"
    },
    "papermill": {
     "duration": 0.110827,
     "end_time": "2023-08-10T19:34:15.746286",
     "exception": false,
     "start_time": "2023-08-10T19:34:15.635459",
     "status": "completed"
    },
    "tags": []
   },
   "outputs": [],
   "source": [
    "# bo_df.loc[bo_df[\"boxOffice\"] > ul, \"boxOffice\"] = median\n",
    "# bo_df[\"boxOffice\"].mean()"
   ]
  },
  {
   "cell_type": "code",
   "execution_count": 62,
   "id": "41cab55a",
   "metadata": {
    "execution": {
     "iopub.execute_input": "2023-08-10T19:34:15.945624Z",
     "iopub.status.busy": "2023-08-10T19:34:15.944960Z",
     "iopub.status.idle": "2023-08-10T19:34:15.949299Z",
     "shell.execute_reply": "2023-08-10T19:34:15.948557Z"
    },
    "papermill": {
     "duration": 0.106462,
     "end_time": "2023-08-10T19:34:15.951392",
     "exception": false,
     "start_time": "2023-08-10T19:34:15.844930",
     "status": "completed"
    },
    "tags": []
   },
   "outputs": [],
   "source": [
    "# bo_df[\"boxOffice\"].min(), bo_df[\"boxOffice\"].max()"
   ]
  },
  {
   "cell_type": "code",
   "execution_count": 63,
   "id": "b599ec7f",
   "metadata": {
    "execution": {
     "iopub.execute_input": "2023-08-10T19:34:16.154660Z",
     "iopub.status.busy": "2023-08-10T19:34:16.154198Z",
     "iopub.status.idle": "2023-08-10T19:34:16.158610Z",
     "shell.execute_reply": "2023-08-10T19:34:16.157511Z"
    },
    "papermill": {
     "duration": 0.109099,
     "end_time": "2023-08-10T19:34:16.160784",
     "exception": false,
     "start_time": "2023-08-10T19:34:16.051685",
     "status": "completed"
    },
    "tags": []
   },
   "outputs": [],
   "source": [
    "# sns.boxplot(x=\"sentiment\", y=\"boxOffice\", data=bo_df, showfliers = False)"
   ]
  },
  {
   "cell_type": "markdown",
   "id": "c8123aee",
   "metadata": {
    "papermill": {
     "duration": 0.098789,
     "end_time": "2023-08-10T19:34:16.359040",
     "exception": false,
     "start_time": "2023-08-10T19:34:16.260251",
     "status": "completed"
    },
    "tags": []
   },
   "source": [
    "## EDA  "
   ]
  },
  {
   "cell_type": "markdown",
   "id": "0e2e965b",
   "metadata": {
    "papermill": {
     "duration": 0.098109,
     "end_time": "2023-08-10T19:34:16.555825",
     "exception": false,
     "start_time": "2023-08-10T19:34:16.457716",
     "status": "completed"
    },
    "tags": []
   },
   "source": [
    "### An interesting finding through exploration  \n",
    "  \n",
    "* OHE and TfidfVectorizer on director column give the same result when ngram_range(2,2) is used (see code below)!"
   ]
  },
  {
   "cell_type": "code",
   "execution_count": 64,
   "id": "73a68108",
   "metadata": {
    "execution": {
     "iopub.execute_input": "2023-08-10T19:34:16.755345Z",
     "iopub.status.busy": "2023-08-10T19:34:16.754691Z",
     "iopub.status.idle": "2023-08-10T19:34:30.006116Z",
     "shell.execute_reply": "2023-08-10T19:34:30.004664Z"
    },
    "papermill": {
     "duration": 13.354247,
     "end_time": "2023-08-10T19:34:30.008651",
     "exception": false,
     "start_time": "2023-08-10T19:34:16.654404",
     "status": "completed"
    },
    "tags": []
   },
   "outputs": [
    {
     "name": "stdout",
     "output_type": "stream",
     "text": [
      "(162758,)\n",
      "9476\n",
      "(162758, 9476) <class 'numpy.ndarray'>\n",
      "(162758,)\n",
      "(162758, 9476) <class 'numpy.ndarray'>\n",
      "True\n"
     ]
    }
   ],
   "source": [
    "# Compare OHE and TfidfVectorizer on director column\n",
    "\n",
    "dirs = merged[\"director\"].copy()\n",
    "print(dirs.shape)\n",
    "dirs_uniq = merged[\"director\"].unique()\n",
    "print(len(dirs_uniq))\n",
    "\n",
    "du_ohe = OneHotEncoder(handle_unknown=\"ignore\", sparse_output=False).fit_transform(dirs.to_numpy().reshape(-1, 1))\n",
    "print(du_ohe.shape, type(du_ohe))\n",
    "\n",
    "dirs_2 = merged[\"director\"].copy()\n",
    "print(dirs_2.shape)\n",
    "du_tfidf = TfidfVectorizer(ngram_range=(2,2)).fit_transform(dirs_2).toarray()\n",
    "print(du_tfidf.shape, type(du_tfidf))\n",
    "\n",
    "print(np.array_equal(du_ohe, du_tfidf))"
   ]
  },
  {
   "cell_type": "code",
   "execution_count": 65,
   "id": "c034d4ed",
   "metadata": {
    "execution": {
     "iopub.execute_input": "2023-08-10T19:34:30.210572Z",
     "iopub.status.busy": "2023-08-10T19:34:30.210139Z",
     "iopub.status.idle": "2023-08-10T19:34:30.567910Z",
     "shell.execute_reply": "2023-08-10T19:34:30.567016Z"
    },
    "papermill": {
     "duration": 0.461199,
     "end_time": "2023-08-10T19:34:30.570330",
     "exception": false,
     "start_time": "2023-08-10T19:34:30.109131",
     "status": "completed"
    },
    "tags": []
   },
   "outputs": [
    {
     "name": "stdout",
     "output_type": "stream",
     "text": [
      "0       Bennie Basso\n",
      "1         Alma White\n",
      "2       Bobby Oleary\n",
      "3    Eric Hutcherson\n",
      "4         John Trent\n",
      "Name: director, dtype: object\n"
     ]
    },
    {
     "data": {
      "text/plain": [
       "2    162758\n",
       "Name: director, dtype: int64"
      ]
     },
     "execution_count": 65,
     "metadata": {},
     "output_type": "execute_result"
    }
   ],
   "source": [
    "print(dirs.head())\n",
    "d = dirs.copy()\n",
    "d[\"name_len\"] = d.apply(lambda x: len(x.split()))\n",
    "d[\"name_len\"].value_counts()"
   ]
  },
  {
   "cell_type": "code",
   "execution_count": 66,
   "id": "8ce1b053",
   "metadata": {
    "execution": {
     "iopub.execute_input": "2023-08-10T19:34:30.770654Z",
     "iopub.status.busy": "2023-08-10T19:34:30.770220Z",
     "iopub.status.idle": "2023-08-10T19:34:30.776330Z",
     "shell.execute_reply": "2023-08-10T19:34:30.775184Z"
    },
    "papermill": {
     "duration": 0.109004,
     "end_time": "2023-08-10T19:34:30.778829",
     "exception": false,
     "start_time": "2023-08-10T19:34:30.669825",
     "status": "completed"
    },
    "tags": []
   },
   "outputs": [],
   "source": [
    "# Compare OHE and TfidfVectorizer on reviewerName column\n",
    "# Note: reviewerName column has salutations like \"Mr. \" etc, and some names appear middle names. Therefore needs cleaning\n",
    "\n",
    "# def name_fl(name):\n",
    "#     l = name.split()\n",
    "#     n = ' '.join((l[0], l[-1]))\n",
    "#     return n\n",
    "\n",
    "# reviewers = merged[\"reviewerName\"].copy()\n",
    "# reviewers = pd.DataFrame(reviewers)\n",
    "# reviewers = reviewers.replace({\"Mr. \": \"\", \"Mrs. \": \"\"}, regex=True)\n",
    "# reviewers[\"reviewerName\"] = reviewers[\"reviewerName\"].apply(name_fl)\n",
    "# print(reviewers.shape)\n",
    "\n",
    "# reviewers_uniq = merged[\"reviewerName\"].unique()\n",
    "# print(len(reviewers_uniq))\n",
    "\n",
    "# reviewers_ohe = OneHotEncoder(handle_unknown=\"ignore\", sparse_output=False).fit_transform(reviewers.to_numpy().reshape(-1, 1))\n",
    "# print(reviewers_ohe.shape, type(reviewers_ohe))\n",
    "\n",
    "# reviewers_2 = merged[\"reviewerName\"].copy()\n",
    "# reviewers_2 = pd.DataFrame(reviewers_2)\n",
    "# print(reviewers_2.head())\n",
    "# reviewers_2 = reviewers_2.replace({\"Mr. \": \"\", \"Mrs. \": \"\"}, regex=True)\n",
    "# reviewers_2[\"reviewerName\"] = reviewers_2[\"reviewerName\"].apply(name_fl)\n",
    "# reviewers_2 = reviewers_2.squeeze()\n",
    "# print(reviewers_2.shape)\n",
    "# print(reviewers_2.head())\n",
    "\n",
    "# reviewers_tfidf = TfidfVectorizer(ngram_range=(2,2)).fit_transform(reviewers_2).toarray()\n",
    "# print(reviewers_tfidf.shape, type(reviewers_tfidf))\n",
    "\n",
    "# print(np.array_equal(reviewers_ohe, reviewers_tfidf))"
   ]
  },
  {
   "cell_type": "code",
   "execution_count": 67,
   "id": "5cd88c29",
   "metadata": {
    "execution": {
     "iopub.execute_input": "2023-08-10T19:34:30.979395Z",
     "iopub.status.busy": "2023-08-10T19:34:30.978735Z",
     "iopub.status.idle": "2023-08-10T19:34:30.983257Z",
     "shell.execute_reply": "2023-08-10T19:34:30.982449Z"
    },
    "papermill": {
     "duration": 0.107909,
     "end_time": "2023-08-10T19:34:30.985342",
     "exception": false,
     "start_time": "2023-08-10T19:34:30.877433",
     "status": "completed"
    },
    "tags": []
   },
   "outputs": [],
   "source": [
    "# def name_fl(name):\n",
    "#     l = name.split()\n",
    "#     n = ' '.join((l[0], l[-1]))\n",
    "#     return n"
   ]
  },
  {
   "cell_type": "code",
   "execution_count": 68,
   "id": "3c913ed6",
   "metadata": {
    "execution": {
     "iopub.execute_input": "2023-08-10T19:34:31.189686Z",
     "iopub.status.busy": "2023-08-10T19:34:31.189218Z",
     "iopub.status.idle": "2023-08-10T19:34:31.194336Z",
     "shell.execute_reply": "2023-08-10T19:34:31.193172Z"
    },
    "papermill": {
     "duration": 0.11081,
     "end_time": "2023-08-10T19:34:31.196906",
     "exception": false,
     "start_time": "2023-08-10T19:34:31.086096",
     "status": "completed"
    },
    "tags": []
   },
   "outputs": [],
   "source": [
    "# print(reviewers.head())\n",
    "# r = pd.DataFrame(reviewers.copy())\n",
    "# r[\"reviewerName\"] = r[\"reviewerName\"].apply(name_fl)\n",
    "# r[\"name_len\"] = r[\"reviewerName\"].apply(lambda x: len(x.split()))\n",
    "# print(r.shape)\n",
    "# print(r.head())\n",
    "# print(r['name_len'].value_counts())"
   ]
  },
  {
   "cell_type": "code",
   "execution_count": 69,
   "id": "52ff4141",
   "metadata": {
    "execution": {
     "iopub.execute_input": "2023-08-10T19:34:31.401555Z",
     "iopub.status.busy": "2023-08-10T19:34:31.400692Z",
     "iopub.status.idle": "2023-08-10T19:34:31.405592Z",
     "shell.execute_reply": "2023-08-10T19:34:31.404789Z"
    },
    "papermill": {
     "duration": 0.107999,
     "end_time": "2023-08-10T19:34:31.407945",
     "exception": false,
     "start_time": "2023-08-10T19:34:31.299946",
     "status": "completed"
    },
    "tags": []
   },
   "outputs": [],
   "source": [
    "## Box plot audienceScore and sentiment  \n",
    "# plt.figure(figsize=(6, 4))\n",
    "# sns.boxplot(x=\"sentiment\", y=\"audienceScore\", data=merged, width=0.3)\n",
    "# plt.title(\"Box plot audienceScore and sentiment\")\n",
    "# plt.show()"
   ]
  },
  {
   "cell_type": "code",
   "execution_count": 70,
   "id": "93d91dfb",
   "metadata": {
    "execution": {
     "iopub.execute_input": "2023-08-10T19:34:31.611369Z",
     "iopub.status.busy": "2023-08-10T19:34:31.610569Z",
     "iopub.status.idle": "2023-08-10T19:34:31.615453Z",
     "shell.execute_reply": "2023-08-10T19:34:31.614504Z"
    },
    "papermill": {
     "duration": 0.10834,
     "end_time": "2023-08-10T19:34:31.617888",
     "exception": false,
     "start_time": "2023-08-10T19:34:31.509548",
     "status": "completed"
    },
    "tags": []
   },
   "outputs": [],
   "source": [
    "## Box plot runtimeMinutes and sentiment  \n",
    "# plt.figure(figsize=(6, 4))\n",
    "# sns.boxplot(x=\"sentiment\", y=\"runtimeMinutes\", data=merged, width=0.3)\n",
    "# plt.title(\"Box plot runtimeMinutes and sentiment\")\n",
    "# plt.show()"
   ]
  },
  {
   "cell_type": "code",
   "execution_count": 71,
   "id": "ce4ef54c",
   "metadata": {
    "execution": {
     "iopub.execute_input": "2023-08-10T19:34:31.820746Z",
     "iopub.status.busy": "2023-08-10T19:34:31.820062Z",
     "iopub.status.idle": "2023-08-10T19:34:31.824563Z",
     "shell.execute_reply": "2023-08-10T19:34:31.823798Z"
    },
    "papermill": {
     "duration": 0.10889,
     "end_time": "2023-08-10T19:34:31.826720",
     "exception": false,
     "start_time": "2023-08-10T19:34:31.717830",
     "status": "completed"
    },
    "tags": []
   },
   "outputs": [],
   "source": [
    "## Column chart for sentiment and rating columns\n",
    "# plt.figure(figsize=(6, 4))\n",
    "# sns.countplot(x=\"sentiment\", hue=\"rating\", data=merged)\n",
    "# plt.title(\"Column chart for sentiment and rating columns\")\n",
    "# plt.show()"
   ]
  },
  {
   "cell_type": "code",
   "execution_count": 72,
   "id": "5252deb7",
   "metadata": {
    "execution": {
     "iopub.execute_input": "2023-08-10T19:34:32.028173Z",
     "iopub.status.busy": "2023-08-10T19:34:32.027480Z",
     "iopub.status.idle": "2023-08-10T19:34:32.031999Z",
     "shell.execute_reply": "2023-08-10T19:34:32.031231Z"
    },
    "papermill": {
     "duration": 0.107657,
     "end_time": "2023-08-10T19:34:32.034126",
     "exception": false,
     "start_time": "2023-08-10T19:34:31.926469",
     "status": "completed"
    },
    "tags": []
   },
   "outputs": [],
   "source": [
    "# Correlation heatmap  \n",
    "# plt.figure(figsize=(10, 8))\n",
    "# sns.heatmap(merged.corr(), annot=True, cmap=\"coolwarm\")\n",
    "# plt.title(\"Correlation heatmap\")\n",
    "# plt.show()"
   ]
  },
  {
   "cell_type": "markdown",
   "id": "a8b71542",
   "metadata": {
    "papermill": {
     "duration": 0.163775,
     "end_time": "2023-08-10T19:34:32.296766",
     "exception": false,
     "start_time": "2023-08-10T19:34:32.132991",
     "status": "completed"
    },
    "tags": []
   },
   "source": [
    "## Merge and preprocess \"test.csv\" and \"movies.csv\" files  "
   ]
  },
  {
   "cell_type": "code",
   "execution_count": 73,
   "id": "37511be4",
   "metadata": {
    "execution": {
     "iopub.execute_input": "2023-08-10T19:34:32.501055Z",
     "iopub.status.busy": "2023-08-10T19:34:32.500383Z",
     "iopub.status.idle": "2023-08-10T19:34:38.539287Z",
     "shell.execute_reply": "2023-08-10T19:34:38.538014Z"
    },
    "papermill": {
     "duration": 6.145108,
     "end_time": "2023-08-10T19:34:38.541876",
     "exception": false,
     "start_time": "2023-08-10T19:34:32.396768",
     "status": "completed"
    },
    "tags": []
   },
   "outputs": [],
   "source": [
    "# Merge test and movies  \n",
    "merged_test = select_features(load_csv(\"test\"), load_csv(\"movies\"))"
   ]
  },
  {
   "cell_type": "code",
   "execution_count": 74,
   "id": "a5d88769",
   "metadata": {
    "execution": {
     "iopub.execute_input": "2023-08-10T19:34:38.744510Z",
     "iopub.status.busy": "2023-08-10T19:34:38.743529Z",
     "iopub.status.idle": "2023-08-10T19:34:38.749131Z",
     "shell.execute_reply": "2023-08-10T19:34:38.748039Z"
    },
    "papermill": {
     "duration": 0.108965,
     "end_time": "2023-08-10T19:34:38.751778",
     "exception": false,
     "start_time": "2023-08-10T19:34:38.642813",
     "status": "completed"
    },
    "tags": []
   },
   "outputs": [],
   "source": [
    "# inspect(merged_test)      # Note the missing values in ['audienceScore', 'runtimeMinutes', 'boxOffice']"
   ]
  },
  {
   "cell_type": "code",
   "execution_count": 75,
   "id": "9fe08066",
   "metadata": {
    "execution": {
     "iopub.execute_input": "2023-08-10T19:34:38.953359Z",
     "iopub.status.busy": "2023-08-10T19:34:38.952970Z",
     "iopub.status.idle": "2023-08-10T19:34:38.971766Z",
     "shell.execute_reply": "2023-08-10T19:34:38.970702Z"
    },
    "papermill": {
     "duration": 0.122675,
     "end_time": "2023-08-10T19:34:38.974192",
     "exception": false,
     "start_time": "2023-08-10T19:34:38.851517",
     "status": "completed"
    },
    "tags": []
   },
   "outputs": [
    {
     "data": {
      "text/plain": [
       "array([6.80e+01, 1.04e+02, 1.43e+07])"
      ]
     },
     "execution_count": 75,
     "metadata": {},
     "output_type": "execute_result"
    }
   ],
   "source": [
    "# Transform ['audienceScore', 'runtimeMinutes', 'boxOffice'] columns in merged_test using 'si' fitted on 'merged' df  \n",
    "merged_test[['audienceScore', 'runtimeMinutes', 'boxOffice']] = si.transform(merged_test[['audienceScore', 'runtimeMinutes', 'boxOffice']])\n",
    "si.statistics_"
   ]
  },
  {
   "cell_type": "code",
   "execution_count": 76,
   "id": "a7c465fa",
   "metadata": {
    "execution": {
     "iopub.execute_input": "2023-08-10T19:34:39.176789Z",
     "iopub.status.busy": "2023-08-10T19:34:39.176085Z",
     "iopub.status.idle": "2023-08-10T19:34:39.186926Z",
     "shell.execute_reply": "2023-08-10T19:34:39.185826Z"
    },
    "papermill": {
     "duration": 0.115725,
     "end_time": "2023-08-10T19:34:39.189701",
     "exception": false,
     "start_time": "2023-08-10T19:34:39.073976",
     "status": "completed"
    },
    "tags": []
   },
   "outputs": [],
   "source": [
    "# Fill 'releaseDate' column in 'merged_test' df with median from the train (merged) df  \n",
    "merged_test['releaseDate'] = merged_test[\"releaseDate\"].fillna(merged[\"releaseDate\"].median())"
   ]
  },
  {
   "cell_type": "code",
   "execution_count": 77,
   "id": "44f07f4a",
   "metadata": {
    "execution": {
     "iopub.execute_input": "2023-08-10T19:34:39.391407Z",
     "iopub.status.busy": "2023-08-10T19:34:39.391013Z",
     "iopub.status.idle": "2023-08-10T19:34:39.876820Z",
     "shell.execute_reply": "2023-08-10T19:34:39.875058Z"
    },
    "papermill": {
     "duration": 0.589887,
     "end_time": "2023-08-10T19:34:39.879392",
     "exception": false,
     "start_time": "2023-08-10T19:34:39.289505",
     "status": "completed"
    },
    "tags": []
   },
   "outputs": [
    {
     "name": "stdout",
     "output_type": "stream",
     "text": [
      "Shape of the dataframe: (55315, 29)\n",
      "\n",
      "Columns in the dataframe:\n",
      "Index(['movieid', 'reviewerName', 'isFrequentReviewer', 'reviewText', 'title',\n",
      "       'audienceScore', 'rating', 'ratingContents', 'releaseDateTheaters',\n",
      "       'releaseDateStreaming', 'runtimeMinutes', 'genre', 'originalLanguage',\n",
      "       'director', 'boxOffice', 'distributor', 'soundType', 'reviewYN',\n",
      "       'reviewWC', 'genreSorted', 'rcSorted', 'releaseDate', 'releaseYear',\n",
      "       'releaseMonth', 'releaseDiff', 'audScoreBins', 'runtimeBins',\n",
      "       'boxOfficeBins', 'releaseDiffBins'],\n",
      "      dtype='object')\n",
      "\n",
      "<class 'pandas.core.frame.DataFrame'>\n",
      "Int64Index: 55315 entries, 0 to 55314\n",
      "Data columns (total 29 columns):\n",
      " #   Column                Non-Null Count  Dtype         \n",
      "---  ------                --------------  -----         \n",
      " 0   movieid               55315 non-null  object        \n",
      " 1   reviewerName          55315 non-null  object        \n",
      " 2   isFrequentReviewer    55315 non-null  bool          \n",
      " 3   reviewText            55315 non-null  object        \n",
      " 4   title                 55315 non-null  object        \n",
      " 5   audienceScore         55315 non-null  float64       \n",
      " 6   rating                55315 non-null  object        \n",
      " 7   ratingContents        55315 non-null  object        \n",
      " 8   releaseDateTheaters   47844 non-null  datetime64[ns]\n",
      " 9   releaseDateStreaming  52929 non-null  datetime64[ns]\n",
      " 10  runtimeMinutes        55315 non-null  float64       \n",
      " 11  genre                 55315 non-null  object        \n",
      " 12  originalLanguage      55315 non-null  object        \n",
      " 13  director              55315 non-null  object        \n",
      " 14  boxOffice             55315 non-null  float64       \n",
      " 15  distributor           55315 non-null  object        \n",
      " 16  soundType             29845 non-null  object        \n",
      " 17  reviewYN              55315 non-null  int64         \n",
      " 18  reviewWC              55315 non-null  int64         \n",
      " 19  genreSorted           55315 non-null  object        \n",
      " 20  rcSorted              55315 non-null  object        \n",
      " 21  releaseDate           55315 non-null  datetime64[ns]\n",
      " 22  releaseYear           46626 non-null  float64       \n",
      " 23  releaseMonth          46626 non-null  float64       \n",
      " 24  releaseDiff           55315 non-null  float64       \n",
      " 25  audScoreBins          53866 non-null  float64       \n",
      " 26  runtimeBins           54937 non-null  category      \n",
      " 27  boxOfficeBins         41756 non-null  float64       \n",
      " 28  releaseDiffBins       55315 non-null  category      \n",
      "dtypes: bool(1), category(2), datetime64[ns](3), float64(8), int64(2), object(13)\n",
      "memory usage: 11.6+ MB\n",
      "None\n",
      "\n",
      "Missing values:\n",
      "movieid                     0\n",
      "reviewerName                0\n",
      "isFrequentReviewer          0\n",
      "reviewText                  0\n",
      "title                       0\n",
      "audienceScore               0\n",
      "rating                      0\n",
      "ratingContents              0\n",
      "releaseDateTheaters      7471\n",
      "releaseDateStreaming     2386\n",
      "runtimeMinutes              0\n",
      "genre                       0\n",
      "originalLanguage            0\n",
      "director                    0\n",
      "boxOffice                   0\n",
      "distributor                 0\n",
      "soundType               25470\n",
      "reviewYN                    0\n",
      "reviewWC                    0\n",
      "genreSorted                 0\n",
      "rcSorted                    0\n",
      "releaseDate                 0\n",
      "releaseYear              8689\n",
      "releaseMonth             8689\n",
      "releaseDiff                 0\n",
      "audScoreBins             1449\n",
      "runtimeBins               378\n",
      "boxOfficeBins           13559\n",
      "releaseDiffBins             0\n",
      "dtype: int64\n"
     ]
    }
   ],
   "source": [
    "# After transforming merged_test  \n",
    "inspect(merged_test)"
   ]
  },
  {
   "cell_type": "code",
   "execution_count": 78,
   "id": "55efe0cf",
   "metadata": {
    "execution": {
     "iopub.execute_input": "2023-08-10T19:34:40.083520Z",
     "iopub.status.busy": "2023-08-10T19:34:40.083097Z",
     "iopub.status.idle": "2023-08-10T19:34:40.090661Z",
     "shell.execute_reply": "2023-08-10T19:34:40.089466Z"
    },
    "papermill": {
     "duration": 0.112633,
     "end_time": "2023-08-10T19:34:40.092896",
     "exception": false,
     "start_time": "2023-08-10T19:34:39.980263",
     "status": "completed"
    },
    "tags": []
   },
   "outputs": [
    {
     "name": "stdout",
     "output_type": "stream",
     "text": [
      "2510\n",
      "4.537648015908886\n"
     ]
    }
   ],
   "source": [
    "print(merged_test[\"reviewYN\"].sum())\n",
    "print(merged_test[\"reviewYN\"].sum() * 100 / merged_test.shape[0])"
   ]
  },
  {
   "cell_type": "code",
   "execution_count": 79,
   "id": "64858d05",
   "metadata": {
    "execution": {
     "iopub.execute_input": "2023-08-10T19:34:40.296879Z",
     "iopub.status.busy": "2023-08-10T19:34:40.296432Z",
     "iopub.status.idle": "2023-08-10T19:34:40.312954Z",
     "shell.execute_reply": "2023-08-10T19:34:40.311878Z"
    },
    "papermill": {
     "duration": 0.120602,
     "end_time": "2023-08-10T19:34:40.315245",
     "exception": false,
     "start_time": "2023-08-10T19:34:40.194643",
     "status": "completed"
    },
    "tags": []
   },
   "outputs": [
    {
     "data": {
      "text/plain": [
       "R          18934\n",
       "unknown    18386\n",
       "PG-13      13220\n",
       "PG          4200\n",
       "TV14         333\n",
       "TVPG         109\n",
       "NC-17        108\n",
       "TVMA          25\n",
       "Name: rating, dtype: int64"
      ]
     },
     "execution_count": 79,
     "metadata": {},
     "output_type": "execute_result"
    }
   ],
   "source": [
    "merged_test['rating'].value_counts()"
   ]
  },
  {
   "cell_type": "code",
   "execution_count": 80,
   "id": "76533461",
   "metadata": {
    "execution": {
     "iopub.execute_input": "2023-08-10T19:34:40.521676Z",
     "iopub.status.busy": "2023-08-10T19:34:40.521230Z",
     "iopub.status.idle": "2023-08-10T19:34:40.530429Z",
     "shell.execute_reply": "2023-08-10T19:34:40.529545Z"
    },
    "papermill": {
     "duration": 0.115438,
     "end_time": "2023-08-10T19:34:40.532511",
     "exception": false,
     "start_time": "2023-08-10T19:34:40.417073",
     "status": "completed"
    },
    "tags": []
   },
   "outputs": [
    {
     "data": {
      "text/plain": [
       "False    38428\n",
       "True     16887\n",
       "Name: isFrequentReviewer, dtype: int64"
      ]
     },
     "execution_count": 80,
     "metadata": {},
     "output_type": "execute_result"
    }
   ],
   "source": [
    "merged_test['isFrequentReviewer'].value_counts()"
   ]
  },
  {
   "cell_type": "code",
   "execution_count": 81,
   "id": "30fa3a43",
   "metadata": {
    "execution": {
     "iopub.execute_input": "2023-08-10T19:34:40.734504Z",
     "iopub.status.busy": "2023-08-10T19:34:40.734059Z",
     "iopub.status.idle": "2023-08-10T19:34:40.745396Z",
     "shell.execute_reply": "2023-08-10T19:34:40.744300Z"
    },
    "papermill": {
     "duration": 0.115215,
     "end_time": "2023-08-10T19:34:40.747624",
     "exception": false,
     "start_time": "2023-08-10T19:34:40.632409",
     "status": "completed"
    },
    "tags": []
   },
   "outputs": [
    {
     "data": {
      "text/plain": [
       "14300000.0    13593\n",
       "1100000.0       311\n",
       "1000000.0       272\n",
       "1300000.0       263\n",
       "2000000.0       256\n",
       "              ...  \n",
       "200400.0          1\n",
       "23800000.0        1\n",
       "111200.0          1\n",
       "277800.0          1\n",
       "100600.0          1\n",
       "Name: boxOffice, Length: 3816, dtype: int64"
      ]
     },
     "execution_count": 81,
     "metadata": {},
     "output_type": "execute_result"
    }
   ],
   "source": [
    "merged_test['boxOffice'].value_counts()"
   ]
  },
  {
   "cell_type": "markdown",
   "id": "8147f4f7",
   "metadata": {
    "papermill": {
     "duration": 0.100101,
     "end_time": "2023-08-10T19:34:40.947813",
     "exception": false,
     "start_time": "2023-08-10T19:34:40.847712",
     "status": "completed"
    },
    "tags": []
   },
   "source": [
    "## Submit_v4 for merged file models  "
   ]
  },
  {
   "cell_type": "markdown",
   "id": "f955f0fd",
   "metadata": {
    "papermill": {
     "duration": 0.099678,
     "end_time": "2023-08-10T19:34:41.147863",
     "exception": false,
     "start_time": "2023-08-10T19:34:41.048185",
     "status": "completed"
    },
    "tags": []
   },
   "source": [
    "### More Helper functions  "
   ]
  },
  {
   "cell_type": "code",
   "execution_count": 82,
   "id": "706b8b95",
   "metadata": {
    "execution": {
     "iopub.execute_input": "2023-08-10T19:34:41.358760Z",
     "iopub.status.busy": "2023-08-10T19:34:41.358328Z",
     "iopub.status.idle": "2023-08-10T19:34:41.365807Z",
     "shell.execute_reply": "2023-08-10T19:34:41.364548Z"
    },
    "papermill": {
     "duration": 0.11823,
     "end_time": "2023-08-10T19:34:41.368263",
     "exception": false,
     "start_time": "2023-08-10T19:34:41.250033",
     "status": "completed"
    },
    "tags": []
   },
   "outputs": [],
   "source": [
    "# Testing predictions on missing reviewtext columns  \n",
    "\n",
    "def predict_on_missing_review_data(pipe, selected_features, merged_train):\n",
    "    missing_reviews_train = merged_train.loc[merged_train['reviewYN'] == 1]\n",
    "    missing_reviews_train.reset_index(drop=True)\n",
    "    X_train_miss_revs = missing_reviews_train.drop('sentiment', axis = 1)\n",
    "    X_train_miss_revs = X_train_miss_revs[selected_features]\n",
    "    y_train_miss_revs = missing_reviews_train['sentiment']\n",
    "    \n",
    "    y_pred_miss_revs = pipe.predict(X_train_miss_revs)\n",
    "#     print('Predictions on rows which had missing reviewText')\n",
    "    print(\"Confusion matrix and f1-score for rows which have no reviewText in X_train: \")\n",
    "    print(confusion_matrix(y_train_miss_revs, y_pred_miss_revs, labels=pipe.classes_))\n",
    "    \n",
    "    return f1_score(y_train_miss_revs, y_pred_miss_revs, average='micro')"
   ]
  },
  {
   "cell_type": "code",
   "execution_count": 83,
   "id": "e3b0140b",
   "metadata": {
    "execution": {
     "iopub.execute_input": "2023-08-10T19:34:41.572817Z",
     "iopub.status.busy": "2023-08-10T19:34:41.572403Z",
     "iopub.status.idle": "2023-08-10T19:34:41.604093Z",
     "shell.execute_reply": "2023-08-10T19:34:41.602851Z"
    },
    "papermill": {
     "duration": 0.136335,
     "end_time": "2023-08-10T19:34:41.606692",
     "exception": false,
     "start_time": "2023-08-10T19:34:41.470357",
     "status": "completed"
    },
    "tags": []
   },
   "outputs": [],
   "source": [
    "# Function to build pipelines for GridSearchCV which goes into the final 'submit' function  \n",
    "def build_pipeline(selected_model=LogisticRegression(), \n",
    "                   selected_features={'txt': ['reviewText']}, \n",
    "                   param_grid=None,\n",
    "                   vocab=None,\n",
    "                   vocab_usage='tfidf',\n",
    "                   strip_accents='unicode', \n",
    "                   add_countvec=False):\n",
    "    # Encoders  \n",
    "    ohe = OneHotEncoder(sparse_output=False, handle_unknown='ignore')\n",
    "    MMscaler = MinMaxScaler()\n",
    "    StdScaler = StandardScaler()\n",
    "    RobScaler = RobustScaler()\n",
    "    \n",
    "    # Text features ['reviewText', 'reviewerName', 'movieid', 'genre', 'director']\n",
    "    tfidf_vec = TfidfVectorizer(ngram_range=(1,2))\n",
    "    count_vec = CountVectorizer(ngram_range=(1,2))\n",
    "    txt_pipe = Pipeline(steps=[\n",
    "                            (\"tvec\", TfidfVectorizer(ngram_range=(1,3), strip_accents=strip_accents))    # Adjust ngram_range here for reviewText\n",
    "                        ])\n",
    "    txt_pipe_vocab = Pipeline(steps=[\n",
    "                            (\"tvec\", TfidfVectorizer(ngram_range=(1,3), strip_accents=strip_accents, vocabulary=vocab))    # Adjust ngram_range here for reviewText\n",
    "                        ])\n",
    "    txt_pipe_2 = Pipeline(steps=[\n",
    "                            (\"tvec\", TfidfVectorizer(ngram_range=(2,2)))\n",
    "                        ])\n",
    "    txt_pipe_3 = Pipeline(steps=[\n",
    "                            (\"tvec\", TfidfVectorizer(ngram_range=(1,1)))\n",
    "                        ])\n",
    "    txt_pipe_4 = Pipeline(steps=[\n",
    "                            (\"tvec\", TfidfVectorizer(ngram_range=(1,3)))    # Adjust ngram_range here for reviewText\n",
    "                        ])\n",
    "    txt_pipe_title  = Pipeline(steps=[\n",
    "                            (\"tvec\", TfidfVectorizer(ngram_range=(1,5)))    # Adjust ngram_range here for reviewText\n",
    "                        ])\n",
    "    \n",
    "    # Additional pipes for count vectorizer\n",
    "    txt_pipe_countvec = Pipeline(steps=[\n",
    "                            (\"cvec\", CountVectorizer(ngram_range=(1,3), strip_accents=strip_accents))    # Adjust ngram_range here for reviewText\n",
    "                        ])\n",
    "    txt_pipe_countvec_vocab = Pipeline(steps=[\n",
    "                            (\"cvec\", CountVectorizer(ngram_range=(1,3), strip_accents=strip_accents, vocabulary=vocab))    # Adjust ngram_range here for reviewText\n",
    "                        ])\n",
    "    \n",
    "    txt_pipe_countvec_ratingContents = Pipeline(steps=[\n",
    "                            (\"cvec\", CountVectorizer(ngram_range=(1,5)))    # Adjust ngram_range here for reviewText\n",
    "                        ])\n",
    "    txt_pipe_countvec_rcSorted = Pipeline(steps=[\n",
    "                            (\"cvec\", CountVectorizer(ngram_range=(1,1)))    # Adjust ngram_range here for reviewText\n",
    "                        ])\n",
    "    txt_pipe_countvec_genre = Pipeline(steps=[\n",
    "                            (\"cvec\", CountVectorizer(ngram_range=(1,1)))\n",
    "                        ])\n",
    "    txt_pipe_countvec_genreSorted = Pipeline(steps=[\n",
    "                            (\"cvec\", CountVectorizer(ngram_range=(1,5)))\n",
    "                        ])\n",
    "    txt_pipe_countvec_distributor = Pipeline(steps=[\n",
    "                            (\"cvec\", CountVectorizer(ngram_range=(1,3)))    # Adjust ngram_range here for reviewText\n",
    "                        ])\n",
    "    txt_pipe_countvec_title = Pipeline(steps=[\n",
    "                            (\"cvec\", CountVectorizer(ngram_range=(1,5), strip_accents=strip_accents))\n",
    "                        ])\n",
    "    txt_pipe_countvec_movieid = Pipeline(steps=[\n",
    "                            (\"cvec\", CountVectorizer(ngram_range=(1,1)))\n",
    "                        ])\n",
    "    # Basic pipes  \n",
    "    TFs = []\n",
    "    try:\n",
    "        for c in selected_features['cat']:\n",
    "            TFs.append((f\"cat_{c}\", ohe, [c]))\n",
    "    except:\n",
    "        pass\n",
    "    try:\n",
    "        for n in selected_features['num']:\n",
    "            if n in [\"runtimeMinutes\", \"boxOffice\", \"releaseDiff\"]:\n",
    "                TFs.append((f\"num_{n}\", RobScaler, [n]))\n",
    "                TFs.append((f\"num_{n}_ss\", StdScaler, [n]))\n",
    "                \n",
    "            else:\n",
    "                TFs.append((f\"num_{n}\", StdScaler, [n]))\n",
    "    except:\n",
    "        pass\n",
    "    try:\n",
    "        for t in selected_features['txt']:\n",
    "            if t in ['director', 'reviewerName']:\n",
    "                TFs.append((f\"txt_{t}\", txt_pipe_2, t))\n",
    "            elif t in [\"originalLanguage\", \"releaseYear\"]:\n",
    "                TFs.append((f\"txt_{t}\", txt_pipe_3, t))\n",
    "            elif t in ['genre']:\n",
    "                TFs.append((f\"txt_{t}\", txt_pipe_countvec_genre, t))\n",
    "            elif t in [\"genreSorted\"]:\n",
    "                TFs.append((f\"txt_{t}\", txt_pipe_countvec_genreSorted, t))\n",
    "            elif t in [\"distributor\"]:\n",
    "                TFs.append((f\"txt_{t}\", txt_pipe_countvec_distributor, t))\n",
    "            elif t in ['reviewText']:\n",
    "#                 if vocab and (vocab_usage in [\"tfidf\", \"both\"]):\n",
    "#                     txt_pipe.set_params(tvec__vocabulary=vocab)\n",
    "#                     txt_pipe.set_params(tvec__stop_words='english')\n",
    "                TFs.append((f\"txt_{t}\", txt_pipe, t))\n",
    "            elif t in ['reviewText_2']:\n",
    "                if add_countvec:\n",
    "#                     if vocab and (vocab_usage in [\"count\", \"both\"]):\n",
    "#                         txt_pipe_countvec.set_params(cvec__vocabulary=vocab)\n",
    "#                         txt_pipe_countvec.set_params(cvec__stop_words='english')\n",
    "                    TFs.append((f\"txt_{t}\", txt_pipe_countvec, t))\n",
    "            elif t in ['reviewText_3']:\n",
    "                if vocab_usage == 'tfidf':\n",
    "                    TFs.append((f\"txt_{t}\", txt_pipe_vocab, t))\n",
    "                elif vocab_usage == 'count':\n",
    "                    TFs.append((f\"txt_{t}\", txt_pipe_countvec_vocab, t))\n",
    "            elif t in [\"ratingContents\"]:\n",
    "                TFs.append((f\"txt_{t}\", txt_pipe_countvec_ratingContents, t))\n",
    "            elif t in [\"rcSorted\"]:\n",
    "                TFs.append((f\"txt_{t}\", txt_pipe_countvec_rcSorted, t))\n",
    "            elif t in [\"title\"]:\n",
    "                TFs.append((f\"txt_{t}\", txt_pipe_title, t))\n",
    "            elif t in [\"movieid\"]:\n",
    "                TFs.append((f\"txt_{t}\", txt_pipe_countvec_movieid, t))\n",
    "            else:\n",
    "                pass\n",
    "    except:\n",
    "        pass\n",
    "\n",
    "    # Build ColumnTransformer  \n",
    "    ct = ColumnTransformer(transformers=TFs, remainder='drop')\n",
    "\n",
    "    # Build Pipeline\n",
    "    pipe = Pipeline(steps=[('ct', ct), ('model', selected_model)])\n",
    "    print(\"\\nPipeline built successfully.\")\n",
    "\n",
    "    # Use the pipe in GridSearchCV\n",
    "    if param_grid == None:\n",
    "        param_grid_temp = {\"model__C\": [1],\n",
    "                     'model__solver': ['liblinear']}\n",
    "        print(\"Full GridSearchCV pipeline built successfully with basic default param_grid.\\n\")\n",
    "        pipeCV = GridSearchCV(pipe, param_grid_temp, cv=10, scoring=\"f1_micro\", n_jobs=-1)\n",
    "        return pipeCV\n",
    "    \n",
    "    # GridSearchCV if param_grid provided\n",
    "    if param_grid:\n",
    "        pipeCV = GridSearchCV(pipe, param_grid, cv=10, scoring=\"f1_micro\", n_jobs=-1)\n",
    "        print(\"\\nFull GridSearchCV pipeline built successfully.\")\n",
    "        return pipeCV"
   ]
  },
  {
   "cell_type": "code",
   "execution_count": 84,
   "id": "ac532ace",
   "metadata": {
    "execution": {
     "iopub.execute_input": "2023-08-10T19:34:41.810231Z",
     "iopub.status.busy": "2023-08-10T19:34:41.809800Z",
     "iopub.status.idle": "2023-08-10T19:34:41.820660Z",
     "shell.execute_reply": "2023-08-10T19:34:41.819527Z"
    },
    "papermill": {
     "duration": 0.115086,
     "end_time": "2023-08-10T19:34:41.823021",
     "exception": false,
     "start_time": "2023-08-10T19:34:41.707935",
     "status": "completed"
    },
    "tags": []
   },
   "outputs": [],
   "source": [
    "def preprocessor():\n",
    "    \n",
    "    # Merge and preprocess train and movies data  \n",
    "    merged = select_features(load_csv(\"train\"), load_csv(\"movies\"), row_thresh_null=None)    # Decide if you want to drop any rows containing lot of nulls\n",
    "    # Impute missing numerical values  \n",
    "    # Simple Imputer for ['audienceScore', 'runtimeMinutes', 'boxOffice'] and 'releaseDate' columns\n",
    "    si = SimpleImputer(strategy='median')\n",
    "    merged[['audienceScore', 'runtimeMinutes', 'boxOffice']] = si.fit_transform(merged[['audienceScore', 'runtimeMinutes', 'boxOffice']])\n",
    "    merged['releaseDate'] = merged[\"releaseDate\"].fillna(merged[\"releaseDate\"].median())    \n",
    "\n",
    "    # Check1 (preprocessor)\n",
    "    print(\"\\nCheck 1 (preprocessor) complete.\")\n",
    "    print(f\"Shape of X_train: {merged.shape}\")\n",
    "    print(f\"Features in X_train: {merged.columns}\")\n",
    "\n",
    "\n",
    "    # Merge and preprocess test and movies data  \n",
    "    merged_test = select_features(load_csv(\"test\"), load_csv(\"movies\"))\n",
    "    # Transform ['audienceScore', 'runtimeMinutes', 'boxOffice'] columns in merged_test using 'si' fitted on 'merged' df  \n",
    "    merged_test[['audienceScore', 'runtimeMinutes', 'boxOffice']] = si.transform(merged_test[['audienceScore', 'runtimeMinutes', 'boxOffice']])\n",
    "    # Fill 'releaseDate' column in 'merged_test' df with median from the train (merged) df  \n",
    "    merged_test['releaseDate'] = merged_test[\"releaseDate\"].fillna(merged[\"releaseDate\"].median())\n",
    "\n",
    "    \n",
    "    # Check2 (preprocessor)\n",
    "    print(\"\\nCheck 2 (preprocessor) complete.\")\n",
    "    print(f\"Shape of X_test: {merged_test.shape}\")\n",
    "    print(f\"Features in X_test: {merged_test.columns}\")\n",
    "\n",
    "    return merged, merged_test\n",
    "    "
   ]
  },
  {
   "cell_type": "code",
   "execution_count": 85,
   "id": "e6b28f20",
   "metadata": {
    "execution": {
     "iopub.execute_input": "2023-08-10T19:34:42.027648Z",
     "iopub.status.busy": "2023-08-10T19:34:42.027217Z",
     "iopub.status.idle": "2023-08-10T19:34:42.031803Z",
     "shell.execute_reply": "2023-08-10T19:34:42.030570Z"
    },
    "papermill": {
     "duration": 0.10898,
     "end_time": "2023-08-10T19:34:42.034191",
     "exception": false,
     "start_time": "2023-08-10T19:34:41.925211",
     "status": "completed"
    },
    "tags": []
   },
   "outputs": [],
   "source": [
    "# merged, merged_test = preprocessor()\n",
    "# merged.shape, merged_test.shape"
   ]
  },
  {
   "cell_type": "code",
   "execution_count": 86,
   "id": "a1b84f1f",
   "metadata": {
    "execution": {
     "iopub.execute_input": "2023-08-10T19:34:42.237596Z",
     "iopub.status.busy": "2023-08-10T19:34:42.237166Z",
     "iopub.status.idle": "2023-08-10T19:34:42.259608Z",
     "shell.execute_reply": "2023-08-10T19:34:42.258665Z"
    },
    "papermill": {
     "duration": 0.127577,
     "end_time": "2023-08-10T19:34:42.262269",
     "exception": false,
     "start_time": "2023-08-10T19:34:42.134692",
     "status": "completed"
    },
    "tags": []
   },
   "outputs": [],
   "source": [
    "def submit_v5(classifiers= [\n",
    "                {'selected_model' : LogisticRegression(C=1, solver='saga', max_iter=100000), \n",
    "                  'selected_features' : {'num': ['audienceScore']}, \n",
    "                  'param_grid' : None,\n",
    "                  'vocab' : None,\n",
    "                  'vocab_usage' : 'tfidf',\n",
    "                  'strip_accents' : 'unicode', \n",
    "                  'add_countvec' : False}\n",
    "              ]):\n",
    "    \n",
    "    \"\"\"Takes a list of dictionaries each with same keys as mentioned in the default dictionary in function definition\"\"\"\n",
    "    \n",
    "    print(\"\\nRunning the submit_v5 function...\")\n",
    "    \n",
    "    merged, merged_test = preprocessor()\n",
    "    \n",
    "    estimators = []     # List of tuples of the form ('classifier_name', 'classifer_instance')\n",
    "    \n",
    "    # Build a dataframe of predictions  \n",
    "    predictions_df = pd.DataFrame()\n",
    "    \n",
    "    # Build a separate pipeline and fit it on selected features (and param_grid) for each item in classifiers list\n",
    "    for n, item in enumerate(classifiers, start=1):\n",
    "        selected_model = item['selected_model']\n",
    "        selected_features = item['selected_features']\n",
    "        param_grid = item['param_grid']\n",
    "        vocab = item['vocab']\n",
    "        vocab_usage = item['vocab_usage']\n",
    "        strip_accents = item['strip_accents']\n",
    "        add_countvec = item['add_countvec']\n",
    "    \n",
    "    \n",
    "        # Fine tune selected_features\n",
    "        if add_countvec:\n",
    "            if 'txt' in selected_features.keys():\n",
    "                if \"reviewText_2\" not in selected_features['txt']:\n",
    "                    selected_features['txt'].append('reviewText_2')\n",
    "        if vocab:\n",
    "            if 'txt' in selected_features.keys():\n",
    "                if \"reviewText_3\" not in selected_features['txt']:\n",
    "                    selected_features['txt'].append('reviewText_3')\n",
    "        print(f\"\\nSelected features: {selected_features}\")\n",
    "        \n",
    "        # Modify X_train for the given 'item' by creating a custom 'features' list\n",
    "        features = []\n",
    "        for item in selected_features.values():\n",
    "            features.extend(item)\n",
    "            \n",
    "        # Add new columns as needed  \n",
    "        if add_countvec:\n",
    "            merged['reviewText_2'] = merged['reviewText']\n",
    "        if vocab:\n",
    "            merged['reviewText_3'] = merged['reviewText']\n",
    "        \n",
    "        # Create X_tran, y_train\n",
    "        X_train = merged.drop(labels=\"sentiment\", axis=1)\n",
    "        y_train = merged[\"sentiment\"]\n",
    "        \n",
    "        X_train = merged[features].copy()\n",
    "\n",
    "\n",
    "        # Build Pipeline\n",
    "        pipe = build_pipeline(selected_model, selected_features, param_grid=param_grid, \n",
    "                              vocab=vocab, vocab_usage='tfidf', \n",
    "                              strip_accents=strip_accents, add_countvec=add_countvec)\n",
    "        print(pipe)\n",
    "\n",
    "        \n",
    "        # Fit \n",
    "        print(f\"\\nTraining started with full pipeline for classifier #{n}...\")\n",
    "        pipe.fit(X_train, y_train)\n",
    "        \n",
    "\n",
    "        # Check1\n",
    "        print(f\"\\nCheck #{n}.1 complete.\")\n",
    "        print(f\"Details of the best model using classifier #{n} (GridSearchCV) on X_train: \")\n",
    "        print(f\"Best Params: {pipe.best_params_}\")\n",
    "        print(f\"Best Score: {pipe.best_score_}\")\n",
    "        \n",
    "        print(predict_on_missing_review_data(pipe, features, merged))    # Function defined above\n",
    "        \n",
    "        estimators.append((f\"classifier_{n}\", pipe))\n",
    "        print(f\"classifier_{n} successfully added to 'estimators' list\")\n",
    "\n",
    "        \n",
    "        # Predict on test.csv file\n",
    "        # Add new columns as needed \n",
    "        if add_countvec:\n",
    "            merged_test['reviewText_2'] = merged_test['reviewText']\n",
    "        if vocab:\n",
    "            merged_test['reviewText_3'] = merged_test['reviewText']\n",
    "        \n",
    "               \n",
    "        X_test = merged_test[features].copy()\n",
    "\n",
    "    \n",
    "        y_pred = pipe.predict(X_test)\n",
    "        \n",
    "        # Insert predictions in 'predictions_df' dataframe\n",
    "        predictions_df.insert(n-1, f\"pred_{n}\", y_pred, allow_duplicates=False)\n",
    "        print(predictions_df.shape)\n",
    "        print(predictions_df.head(10))\n",
    "        \n",
    "    \n",
    "        # Check2\n",
    "        print(f\"\\nCheck #{n}.2 complete.\")\n",
    "    #     cv_results_df = pd.DataFrame(pipe.cv_results_)\n",
    "        print(\"Details of the best model using full pipeline (GridSearchCV) on X_train: \")\n",
    "#         print(f\"Best Estimator: {pipe.best_estimator_}\")\n",
    "        print(f\"Best Params: {pipe.best_params_}\")\n",
    "        print(f\"Best Score: {pipe.best_score_}\")\n",
    "#         print(f\"Best Index: {pipe.best_index_}\")\n",
    "        print(f\"Refit Time: {pipe.refit_time_}\")\n",
    "    #     print(f\"Shape of CV results dataframe: {cv_results_df.shape}\")\n",
    "    \n",
    "    # Voting classifier (custom) with hard voting\n",
    "    # Calculate the MODE for all predictions (Note that the 'predictions_df' generated above should have odd number of columns)\n",
    "    pred_df_final = predictions_df.mode('columns')\n",
    "    pred_df_final.columns = [\"sentiment\"]\n",
    "    pred_df_final.index.name = \"id\"\n",
    "    pred_df_final.to_csv(\"submission.csv\")\n",
    "    \n",
    "    print(\"\\nSuccessfully created the submission file!!!\")\n",
    "    \n",
    "#     return pipe.cv_results_\n",
    "    return pred_df_final, estimators"
   ]
  },
  {
   "cell_type": "markdown",
   "id": "a4dd69a0",
   "metadata": {
    "papermill": {
     "duration": 0.099474,
     "end_time": "2023-08-10T19:34:42.463218",
     "exception": false,
     "start_time": "2023-08-10T19:34:42.363744",
     "status": "completed"
    },
    "tags": []
   },
   "source": [
    "## Use 'submit_v5' function  "
   ]
  },
  {
   "cell_type": "code",
   "execution_count": 87,
   "id": "48ebff88",
   "metadata": {
    "execution": {
     "iopub.execute_input": "2023-08-10T19:34:42.667514Z",
     "iopub.status.busy": "2023-08-10T19:34:42.667102Z",
     "iopub.status.idle": "2023-08-10T19:34:42.671995Z",
     "shell.execute_reply": "2023-08-10T19:34:42.670798Z"
    },
    "papermill": {
     "duration": 0.109306,
     "end_time": "2023-08-10T19:34:42.674346",
     "exception": false,
     "start_time": "2023-08-10T19:34:42.565040",
     "status": "completed"
    },
    "tags": []
   },
   "outputs": [],
   "source": [
    "# Try submit_v5 with default settings\n",
    "# submit_v5()"
   ]
  },
  {
   "cell_type": "code",
   "execution_count": 88,
   "id": "29d1f9f2",
   "metadata": {
    "execution": {
     "iopub.execute_input": "2023-08-10T19:34:42.879701Z",
     "iopub.status.busy": "2023-08-10T19:34:42.878510Z",
     "iopub.status.idle": "2023-08-10T19:41:35.662237Z",
     "shell.execute_reply": "2023-08-10T19:41:35.660739Z"
    },
    "papermill": {
     "duration": 412.889516,
     "end_time": "2023-08-10T19:41:35.664709",
     "exception": false,
     "start_time": "2023-08-10T19:34:42.775193",
     "status": "completed"
    },
    "tags": []
   },
   "outputs": [
    {
     "name": "stdout",
     "output_type": "stream",
     "text": [
      "\n",
      "Running the submit_v5 function...\n",
      "\n",
      "Check 1 (preprocessor) complete.\n",
      "Shape of X_train: (162758, 30)\n",
      "Features in X_train: Index(['movieid', 'reviewerName', 'isFrequentReviewer', 'reviewText',\n",
      "       'sentiment', 'title', 'audienceScore', 'rating', 'ratingContents',\n",
      "       'releaseDateTheaters', 'releaseDateStreaming', 'runtimeMinutes',\n",
      "       'genre', 'originalLanguage', 'director', 'boxOffice', 'distributor',\n",
      "       'soundType', 'reviewYN', 'reviewWC', 'genreSorted', 'rcSorted',\n",
      "       'releaseDate', 'releaseYear', 'releaseMonth', 'releaseDiff',\n",
      "       'audScoreBins', 'runtimeBins', 'boxOfficeBins', 'releaseDiffBins'],\n",
      "      dtype='object')\n",
      "\n",
      "Check 2 (preprocessor) complete.\n",
      "Shape of X_test: (55315, 29)\n",
      "Features in X_test: Index(['movieid', 'reviewerName', 'isFrequentReviewer', 'reviewText', 'title',\n",
      "       'audienceScore', 'rating', 'ratingContents', 'releaseDateTheaters',\n",
      "       'releaseDateStreaming', 'runtimeMinutes', 'genre', 'originalLanguage',\n",
      "       'director', 'boxOffice', 'distributor', 'soundType', 'reviewYN',\n",
      "       'reviewWC', 'genreSorted', 'rcSorted', 'releaseDate', 'releaseYear',\n",
      "       'releaseMonth', 'releaseDiff', 'audScoreBins', 'runtimeBins',\n",
      "       'boxOfficeBins', 'releaseDiffBins'],\n",
      "      dtype='object')\n",
      "\n",
      "Selected features: {'txt': ['reviewText', 'reviewText_2']}\n",
      "\n",
      "Pipeline built successfully.\n",
      "\n",
      "Full GridSearchCV pipeline built successfully.\n",
      "GridSearchCV(cv=10,\n",
      "             estimator=Pipeline(steps=[('ct',\n",
      "                                        ColumnTransformer(transformers=[('txt_reviewText',\n",
      "                                                                         Pipeline(steps=[('tvec',\n",
      "                                                                                          TfidfVectorizer(ngram_range=(1,\n",
      "                                                                                                                       3),\n",
      "                                                                                                          strip_accents='unicode'))]),\n",
      "                                                                         'reviewText'),\n",
      "                                                                        ('txt_reviewText_2',\n",
      "                                                                         Pipeline(steps=[('cvec',\n",
      "                                                                                          CountVectorizer(ngram_range=(1,\n",
      "                                                                                                                       3),\n",
      "                                                                                                          strip_accents='unicode'))]),\n",
      "                                                                         'reviewText_2')])),\n",
      "                                       ('model',\n",
      "                                        SGDClassifier(loss='log_loss',\n",
      "                                                      max_iter=100000))]),\n",
      "             n_jobs=-1,\n",
      "             param_grid={'model__alpha': [0.0001], 'model__tol': [0.001]},\n",
      "             scoring='f1_micro')\n",
      "\n",
      "Training started with full pipeline for classifier #1...\n",
      "\n",
      "Check #1.1 complete.\n",
      "Details of the best model using classifier #1 (GridSearchCV) on X_train: \n",
      "Best Params: {'model__alpha': 0.0001, 'model__tol': 0.001}\n",
      "Best Score: 0.8121137146888975\n",
      "Confusion matrix and f1-score for rows which have no reviewText in X_train: \n",
      "[[   0 2405]\n",
      " [   0 4042]]\n",
      "0.6269582751667442\n",
      "classifier_1 successfully added to 'estimators' list\n",
      "(55315, 1)\n",
      "     pred_1\n",
      "0  POSITIVE\n",
      "1  POSITIVE\n",
      "2  POSITIVE\n",
      "3  POSITIVE\n",
      "4  POSITIVE\n",
      "5  POSITIVE\n",
      "6  POSITIVE\n",
      "7  NEGATIVE\n",
      "8  NEGATIVE\n",
      "9  NEGATIVE\n",
      "\n",
      "Check #1.2 complete.\n",
      "Details of the best model using full pipeline (GridSearchCV) on X_train: \n",
      "Best Params: {'model__alpha': 0.0001, 'model__tol': 0.001}\n",
      "Best Score: 0.8121137146888975\n",
      "Refit Time: 77.56620597839355\n",
      "\n",
      "Successfully created the submission file!!!\n"
     ]
    }
   ],
   "source": [
    "# Testing ONE classfier using submit_v5 function  \n",
    "\n",
    "# Feature dictionaries\n",
    "sfs = {'cat': ['isFrequentReviewer', 'rating'],\n",
    "       'num': [\"audienceScore\", \"runtimeMinutes\", \"boxOffice\"]}\n",
    "\n",
    "\n",
    "# Classifiers\n",
    "classifiers= [\n",
    "                {'selected_model' : SGDClassifier(loss='log_loss', max_iter=100000), \n",
    "                  'selected_features' : {'txt': [\"reviewText\"]}, \n",
    "                  'param_grid' : {\"model__alpha\": [0.0001], \n",
    "                                  'model__tol': [0.001]},\n",
    "                  'vocab' : None,\n",
    "                  'vocab_usage' : 'tfidf',\n",
    "                  'strip_accents' : 'unicode', \n",
    "                  'add_countvec' : True},\n",
    "            ]\n",
    "\n",
    "# classifiers= [\n",
    "#                 {'selected_model' : LogisticRegression(C=1, solver='saga', max_iter=100000), \n",
    "#                   'selected_features' : {'txt': [\"reviewText\"]}, \n",
    "#                   'param_grid' : {\"model__C\": [1], \n",
    "#                                   'model__solver': ['saga']},\n",
    "#                   'vocab' : None,\n",
    "#                   'vocab_usage' : 'tfidf',\n",
    "#                   'strip_accents' : 'unicode', \n",
    "#                   'add_countvec' : False},\n",
    "#             ]\n",
    "\n",
    "pred_df, estimators = submit_v5(classifiers=classifiers)"
   ]
  },
  {
   "cell_type": "code",
   "execution_count": 89,
   "id": "92282e01",
   "metadata": {
    "execution": {
     "iopub.execute_input": "2023-08-10T19:41:35.871341Z",
     "iopub.status.busy": "2023-08-10T19:41:35.870897Z",
     "iopub.status.idle": "2023-08-10T19:41:35.879072Z",
     "shell.execute_reply": "2023-08-10T19:41:35.877445Z"
    },
    "papermill": {
     "duration": 0.114469,
     "end_time": "2023-08-10T19:41:35.881453",
     "exception": false,
     "start_time": "2023-08-10T19:41:35.766984",
     "status": "completed"
    },
    "tags": []
   },
   "outputs": [
    {
     "name": "stdout",
     "output_type": "stream",
     "text": [
      "(55315, 1)\n",
      "   sentiment\n",
      "id          \n",
      "0   POSITIVE\n",
      "1   POSITIVE\n",
      "2   POSITIVE\n",
      "3   POSITIVE\n",
      "4   POSITIVE\n"
     ]
    }
   ],
   "source": [
    "print(pred_df.shape)\n",
    "print(pred_df.head())"
   ]
  },
  {
   "cell_type": "code",
   "execution_count": 90,
   "id": "0ea1794e",
   "metadata": {
    "execution": {
     "iopub.execute_input": "2023-08-10T19:41:36.089842Z",
     "iopub.status.busy": "2023-08-10T19:41:36.089393Z",
     "iopub.status.idle": "2023-08-10T19:41:36.094245Z",
     "shell.execute_reply": "2023-08-10T19:41:36.093104Z"
    },
    "papermill": {
     "duration": 0.112234,
     "end_time": "2023-08-10T19:41:36.097024",
     "exception": false,
     "start_time": "2023-08-10T19:41:35.984790",
     "status": "completed"
    },
    "tags": []
   },
   "outputs": [],
   "source": [
    "# estimators"
   ]
  },
  {
   "cell_type": "code",
   "execution_count": 91,
   "id": "f25b4c74",
   "metadata": {
    "execution": {
     "iopub.execute_input": "2023-08-10T19:41:36.306120Z",
     "iopub.status.busy": "2023-08-10T19:41:36.305736Z",
     "iopub.status.idle": "2023-08-10T19:41:36.355035Z",
     "shell.execute_reply": "2023-08-10T19:41:36.353983Z"
    },
    "papermill": {
     "duration": 0.154581,
     "end_time": "2023-08-10T19:41:36.357595",
     "exception": false,
     "start_time": "2023-08-10T19:41:36.203014",
     "status": "completed"
    },
    "tags": []
   },
   "outputs": [
    {
     "name": "stdout",
     "output_type": "stream",
     "text": [
      "Number of estimators: 1\n",
      "\n",
      "Estimator: classifier_1\n",
      "Pipeline(steps=[('ct',\n",
      "                 ColumnTransformer(transformers=[('txt_reviewText',\n",
      "                                                  Pipeline(steps=[('tvec',\n",
      "                                                                   TfidfVectorizer(ngram_range=(1,\n",
      "                                                                                                3),\n",
      "                                                                                   strip_accents='unicode'))]),\n",
      "                                                  'reviewText'),\n",
      "                                                 ('txt_reviewText_2',\n",
      "                                                  Pipeline(steps=[('cvec',\n",
      "                                                                   CountVectorizer(ngram_range=(1,\n",
      "                                                                                                3),\n",
      "                                                                                   strip_accents='unicode'))]),\n",
      "                                                  'reviewText_2')])),\n",
      "                ('model', SGDClassifier(loss='log_loss', max_iter=100000))])\n",
      "{'model__alpha': 0.0001, 'model__tol': 0.001}\n",
      "0.8121137146888975\n",
      "77.56620597839355\n",
      "\n"
     ]
    }
   ],
   "source": [
    "print(f\"Number of estimators: {len(estimators)}\\n\")\n",
    "for est in estimators:\n",
    "    print(f\"Estimator: {est[0]}\")\n",
    "    print(est[1].best_estimator_)\n",
    "    print(est[1].best_params_)\n",
    "    print(est[1].best_score_)\n",
    "    print(est[1].refit_time_)\n",
    "    print()"
   ]
  },
  {
   "cell_type": "code",
   "execution_count": 92,
   "id": "b7ac171b",
   "metadata": {
    "execution": {
     "iopub.execute_input": "2023-08-10T19:41:36.567866Z",
     "iopub.status.busy": "2023-08-10T19:41:36.567423Z",
     "iopub.status.idle": "2023-08-10T19:41:36.573426Z",
     "shell.execute_reply": "2023-08-10T19:41:36.572571Z"
    },
    "papermill": {
     "duration": 0.114331,
     "end_time": "2023-08-10T19:41:36.575521",
     "exception": false,
     "start_time": "2023-08-10T19:41:36.461190",
     "status": "completed"
    },
    "tags": []
   },
   "outputs": [],
   "source": [
    "# Testing full capabilites of submit_v5  \n",
    "\n",
    "# # Feature dictionaries\n",
    "# sf1 = {'cat': ['isFrequentReviewer', 'rating'],\n",
    "#        'num': [\"audienceScore\", \"runtimeMinutes\", \"boxOffice\"]}\n",
    "\n",
    "# sf2 = {'cat': ['isFrequentReviewer', 'rating'],\n",
    "#        'num': [\"audienceScore\", \"runtimeMinutes\", \"boxOffice\"]}\n",
    "\n",
    "# sf3 = {'cat': ['isFrequentReviewer'],\n",
    "#         'num': ['releaseDiff', 'audienceScore', 'boxOffice'],\n",
    "#         'txt': ['reviewText', 'reviewerName', 'movieid', 'genre', 'director', \n",
    "#                          'ratingContents', 'distributor']}\n",
    "\n",
    "# # Individual classifiers\n",
    "# clf1 =  {'selected_model' : AdaBoostClassifier(), \n",
    "#           'selected_features' : sf1, \n",
    "#           'param_grid' : {\"model__n_estimators\": [50]},\n",
    "#           'vocab' : None,\n",
    "#           'vocab_usage' : 'tfidf',\n",
    "#           'strip_accents' : 'unicode', \n",
    "#           'add_countvec' : False}\n",
    "\n",
    "# clf2 =  {'selected_model' : RandomForestClassifier(), \n",
    "#           'selected_features' : sf2,\n",
    "#           'param_grid' : {\"model__n_estimators\": [50], \n",
    "#                           'model__criterion': ['gini']},\n",
    "#           'vocab' : None,\n",
    "#           'vocab_usage' : 'tfidf',\n",
    "#           'strip_accents' : 'unicode', \n",
    "#           'add_countvec' : False}\n",
    "\n",
    "# clf3 =  {'selected_model' : LogisticRegression(C=1, solver='saga', max_iter=100000), \n",
    "#           'selected_features' : sf3, \n",
    "#           'param_grid' : {'model__C' : [1],\n",
    "#                             'model__solver': ['saga'],\n",
    "#                             \"model__fit_intercept\" : [True],\n",
    "#                             \"model__dual\" : [False]},\n",
    "#           'vocab' : None,\n",
    "#           'vocab_usage' : 'tfidf',\n",
    "#           'strip_accents' : 'unicode', \n",
    "#           'add_countvec' : True}\n",
    "\n",
    "\n",
    "# # List of classifiers for voting\n",
    "# classifiers= [clf1, clf2, clf3]\n",
    "\n",
    "# # Final predictions \n",
    "# pred_df = submit_v5(classifiers=classifiers)"
   ]
  },
  {
   "cell_type": "code",
   "execution_count": 93,
   "id": "ccc649ca",
   "metadata": {
    "execution": {
     "iopub.execute_input": "2023-08-10T19:41:36.779999Z",
     "iopub.status.busy": "2023-08-10T19:41:36.779545Z",
     "iopub.status.idle": "2023-08-10T19:41:36.794101Z",
     "shell.execute_reply": "2023-08-10T19:41:36.792979Z"
    },
    "papermill": {
     "duration": 0.11964,
     "end_time": "2023-08-10T19:41:36.796561",
     "exception": false,
     "start_time": "2023-08-10T19:41:36.676921",
     "status": "completed"
    },
    "tags": []
   },
   "outputs": [
    {
     "name": "stdout",
     "output_type": "stream",
     "text": [
      "(55315, 1)\n"
     ]
    },
    {
     "data": {
      "text/html": [
       "<div>\n",
       "<style scoped>\n",
       "    .dataframe tbody tr th:only-of-type {\n",
       "        vertical-align: middle;\n",
       "    }\n",
       "\n",
       "    .dataframe tbody tr th {\n",
       "        vertical-align: top;\n",
       "    }\n",
       "\n",
       "    .dataframe thead th {\n",
       "        text-align: right;\n",
       "    }\n",
       "</style>\n",
       "<table border=\"1\" class=\"dataframe\">\n",
       "  <thead>\n",
       "    <tr style=\"text-align: right;\">\n",
       "      <th></th>\n",
       "      <th>sentiment</th>\n",
       "    </tr>\n",
       "    <tr>\n",
       "      <th>id</th>\n",
       "      <th></th>\n",
       "    </tr>\n",
       "  </thead>\n",
       "  <tbody>\n",
       "    <tr>\n",
       "      <th>0</th>\n",
       "      <td>POSITIVE</td>\n",
       "    </tr>\n",
       "    <tr>\n",
       "      <th>1</th>\n",
       "      <td>POSITIVE</td>\n",
       "    </tr>\n",
       "    <tr>\n",
       "      <th>2</th>\n",
       "      <td>POSITIVE</td>\n",
       "    </tr>\n",
       "    <tr>\n",
       "      <th>3</th>\n",
       "      <td>POSITIVE</td>\n",
       "    </tr>\n",
       "    <tr>\n",
       "      <th>4</th>\n",
       "      <td>POSITIVE</td>\n",
       "    </tr>\n",
       "    <tr>\n",
       "      <th>...</th>\n",
       "      <td>...</td>\n",
       "    </tr>\n",
       "    <tr>\n",
       "      <th>55310</th>\n",
       "      <td>POSITIVE</td>\n",
       "    </tr>\n",
       "    <tr>\n",
       "      <th>55311</th>\n",
       "      <td>NEGATIVE</td>\n",
       "    </tr>\n",
       "    <tr>\n",
       "      <th>55312</th>\n",
       "      <td>NEGATIVE</td>\n",
       "    </tr>\n",
       "    <tr>\n",
       "      <th>55313</th>\n",
       "      <td>POSITIVE</td>\n",
       "    </tr>\n",
       "    <tr>\n",
       "      <th>55314</th>\n",
       "      <td>NEGATIVE</td>\n",
       "    </tr>\n",
       "  </tbody>\n",
       "</table>\n",
       "<p>55315 rows × 1 columns</p>\n",
       "</div>"
      ],
      "text/plain": [
       "      sentiment\n",
       "id             \n",
       "0      POSITIVE\n",
       "1      POSITIVE\n",
       "2      POSITIVE\n",
       "3      POSITIVE\n",
       "4      POSITIVE\n",
       "...         ...\n",
       "55310  POSITIVE\n",
       "55311  NEGATIVE\n",
       "55312  NEGATIVE\n",
       "55313  POSITIVE\n",
       "55314  NEGATIVE\n",
       "\n",
       "[55315 rows x 1 columns]"
      ]
     },
     "execution_count": 93,
     "metadata": {},
     "output_type": "execute_result"
    }
   ],
   "source": [
    "print(pred_df.shape)\n",
    "pred_df"
   ]
  },
  {
   "cell_type": "code",
   "execution_count": 94,
   "id": "fa0385e5",
   "metadata": {
    "execution": {
     "iopub.execute_input": "2023-08-10T19:41:37.020239Z",
     "iopub.status.busy": "2023-08-10T19:41:37.019808Z",
     "iopub.status.idle": "2023-08-10T19:41:37.024345Z",
     "shell.execute_reply": "2023-08-10T19:41:37.023257Z"
    },
    "papermill": {
     "duration": 0.120343,
     "end_time": "2023-08-10T19:41:37.026705",
     "exception": false,
     "start_time": "2023-08-10T19:41:36.906362",
     "status": "completed"
    },
    "tags": []
   },
   "outputs": [],
   "source": [
    "# pred_df_mode = pred_df.mode(axis='columns')\n",
    "# print(pred_df_mode.shape)\n",
    "# pred_df_mode"
   ]
  },
  {
   "cell_type": "code",
   "execution_count": 95,
   "id": "7629950c",
   "metadata": {
    "execution": {
     "iopub.execute_input": "2023-08-10T19:41:37.244003Z",
     "iopub.status.busy": "2023-08-10T19:41:37.243572Z",
     "iopub.status.idle": "2023-08-10T19:41:37.262958Z",
     "shell.execute_reply": "2023-08-10T19:41:37.261733Z"
    },
    "papermill": {
     "duration": 0.131709,
     "end_time": "2023-08-10T19:41:37.265355",
     "exception": false,
     "start_time": "2023-08-10T19:41:37.133646",
     "status": "completed"
    },
    "tags": []
   },
   "outputs": [
    {
     "data": {
      "text/plain": [
       "sentiment\n",
       "POSITIVE     41117\n",
       "NEGATIVE     14198\n",
       "dtype: int64"
      ]
     },
     "execution_count": 95,
     "metadata": {},
     "output_type": "execute_result"
    }
   ],
   "source": [
    "pred_df.value_counts()"
   ]
  },
  {
   "cell_type": "markdown",
   "id": "d6b09cec",
   "metadata": {
    "papermill": {
     "duration": 0.102896,
     "end_time": "2023-08-10T19:41:37.476693",
     "exception": false,
     "start_time": "2023-08-10T19:41:37.373797",
     "status": "completed"
    },
    "tags": []
   },
   "source": [
    "# NOTE: Move submit_v4 submissions below the suubmit_v4 function  "
   ]
  },
  {
   "cell_type": "code",
   "execution_count": 96,
   "id": "43bde563",
   "metadata": {
    "execution": {
     "iopub.execute_input": "2023-08-10T19:41:37.687467Z",
     "iopub.status.busy": "2023-08-10T19:41:37.686669Z",
     "iopub.status.idle": "2023-08-10T19:41:37.691430Z",
     "shell.execute_reply": "2023-08-10T19:41:37.690686Z"
    },
    "papermill": {
     "duration": 0.110941,
     "end_time": "2023-08-10T19:41:37.693715",
     "exception": false,
     "start_time": "2023-08-10T19:41:37.582774",
     "status": "completed"
    },
    "tags": []
   },
   "outputs": [],
   "source": [
    "# Try 'submit_v4' function with default params (LogisticRegression model)  \n",
    "\n",
    "# submit_v4()\n",
    "\n",
    "#Default params to this function gave a score of 0.8259 - improvement over previous score of 0.82563!"
   ]
  },
  {
   "cell_type": "code",
   "execution_count": 97,
   "id": "efed6f70",
   "metadata": {
    "execution": {
     "iopub.execute_input": "2023-08-10T19:41:37.904258Z",
     "iopub.status.busy": "2023-08-10T19:41:37.903441Z",
     "iopub.status.idle": "2023-08-10T19:41:37.908228Z",
     "shell.execute_reply": "2023-08-10T19:41:37.907510Z"
    },
    "papermill": {
     "duration": 0.113467,
     "end_time": "2023-08-10T19:41:37.910527",
     "exception": false,
     "start_time": "2023-08-10T19:41:37.797060",
     "status": "completed"
    },
    "tags": []
   },
   "outputs": [],
   "source": [
    "# Try out GridSearchCV on \"submit_v4\" function with param_grid  \n",
    "# param_grid = {\n",
    "#     \"model__C\": [0.1, 1, 5, 10]\n",
    "# }\n",
    "\n",
    "# submit_v4(selected_features={'txt': ['genre']}, param_grid=param_grid)"
   ]
  },
  {
   "cell_type": "markdown",
   "id": "da06a2bb",
   "metadata": {
    "papermill": {
     "duration": 0.102451,
     "end_time": "2023-08-10T19:41:38.114895",
     "exception": false,
     "start_time": "2023-08-10T19:41:38.012444",
     "status": "completed"
    },
    "tags": []
   },
   "source": [
    "### Try LinearSVC with GridSearchCV  "
   ]
  },
  {
   "cell_type": "code",
   "execution_count": 98,
   "id": "49bbdb37",
   "metadata": {
    "execution": {
     "iopub.execute_input": "2023-08-10T19:41:38.391574Z",
     "iopub.status.busy": "2023-08-10T19:41:38.391133Z",
     "iopub.status.idle": "2023-08-10T19:41:38.395719Z",
     "shell.execute_reply": "2023-08-10T19:41:38.394577Z"
    },
    "papermill": {
     "duration": 0.111327,
     "end_time": "2023-08-10T19:41:38.398105",
     "exception": false,
     "start_time": "2023-08-10T19:41:38.286778",
     "status": "completed"
    },
    "tags": []
   },
   "outputs": [],
   "source": [
    "# all_dict = {'cat': [\"isFrequentReviewer\", \"rating\", \"originalLanguage\"],\n",
    "#              'num': [\"audienceScore\", \"runtimeMinutes\", \"boxOffice\"],\n",
    "#              'txt': ['reviewText', 'reviewerName', 'movieid', 'genre', 'director']}\n",
    "\n",
    "# param_grid_svc = {\n",
    "#     \"model__C\": [0.1, 1, 10, 100]\n",
    "# }\n",
    "# param_grid_svc"
   ]
  },
  {
   "cell_type": "code",
   "execution_count": 99,
   "id": "ee7784ec",
   "metadata": {
    "execution": {
     "iopub.execute_input": "2023-08-10T19:41:38.607220Z",
     "iopub.status.busy": "2023-08-10T19:41:38.606438Z",
     "iopub.status.idle": "2023-08-10T19:41:38.611315Z",
     "shell.execute_reply": "2023-08-10T19:41:38.610546Z"
    },
    "papermill": {
     "duration": 0.113535,
     "end_time": "2023-08-10T19:41:38.613590",
     "exception": false,
     "start_time": "2023-08-10T19:41:38.500055",
     "status": "completed"
    },
    "tags": []
   },
   "outputs": [],
   "source": [
    "# LinearSCV on single feature  \n",
    "\n",
    "# submit_v4(selected_model=LinearSVC(max_iter=100000, random_state=42), selected_features={'num': [\"audienceScore\"]}, param_grid=param_grid_svc)\n",
    "\n",
    "# Comment: LinearSVC even on single column feature set takes too long to converge."
   ]
  },
  {
   "cell_type": "code",
   "execution_count": 100,
   "id": "b4fb9077",
   "metadata": {
    "execution": {
     "iopub.execute_input": "2023-08-10T19:41:38.821116Z",
     "iopub.status.busy": "2023-08-10T19:41:38.820737Z",
     "iopub.status.idle": "2023-08-10T19:41:38.825472Z",
     "shell.execute_reply": "2023-08-10T19:41:38.824311Z"
    },
    "papermill": {
     "duration": 0.11084,
     "end_time": "2023-08-10T19:41:38.827770",
     "exception": false,
     "start_time": "2023-08-10T19:41:38.716930",
     "status": "completed"
    },
    "tags": []
   },
   "outputs": [],
   "source": [
    "# LinearSCV on all available features\n",
    "\n",
    "# submit_v4(selected_model=LinearSVC(max_iter=100000, random_state=42), selected_features=all_dict, param_grid=param_grid_svc)\n",
    "\n",
    "# (Update): This took 66 mins to run and gave a public score of 0.84295 (lesser than logreg gridsearchcv wwhich gave 0.84441). Best C was 1.0.\n"
   ]
  },
  {
   "cell_type": "markdown",
   "id": "21eddc9e",
   "metadata": {
    "papermill": {
     "duration": 0.102304,
     "end_time": "2023-08-10T19:41:39.032289",
     "exception": false,
     "start_time": "2023-08-10T19:41:38.929985",
     "status": "completed"
    },
    "tags": []
   },
   "source": [
    "### Boosting techniques  "
   ]
  },
  {
   "cell_type": "code",
   "execution_count": 101,
   "id": "e384db4c",
   "metadata": {
    "execution": {
     "iopub.execute_input": "2023-08-10T19:41:39.239253Z",
     "iopub.status.busy": "2023-08-10T19:41:39.238841Z",
     "iopub.status.idle": "2023-08-10T19:41:39.243427Z",
     "shell.execute_reply": "2023-08-10T19:41:39.242267Z"
    },
    "papermill": {
     "duration": 0.110622,
     "end_time": "2023-08-10T19:41:39.245632",
     "exception": false,
     "start_time": "2023-08-10T19:41:39.135010",
     "status": "completed"
    },
    "tags": []
   },
   "outputs": [],
   "source": [
    "# adc = AdaBoostClassifier(estimator=LogisticRegression(C=5, solver=\"saga\", max_iter=100000), n_estimators=50)\n",
    "# adc"
   ]
  },
  {
   "cell_type": "code",
   "execution_count": 102,
   "id": "08cdd202",
   "metadata": {
    "execution": {
     "iopub.execute_input": "2023-08-10T19:41:39.452629Z",
     "iopub.status.busy": "2023-08-10T19:41:39.451368Z",
     "iopub.status.idle": "2023-08-10T19:41:39.456450Z",
     "shell.execute_reply": "2023-08-10T19:41:39.455675Z"
    },
    "papermill": {
     "duration": 0.110631,
     "end_time": "2023-08-10T19:41:39.458795",
     "exception": false,
     "start_time": "2023-08-10T19:41:39.348164",
     "status": "completed"
    },
    "tags": []
   },
   "outputs": [],
   "source": [
    "# submit_v4(selected_model=adc, selected_features={'num': [\"audienceScore\"]}, param_grid=None)"
   ]
  },
  {
   "cell_type": "code",
   "execution_count": 103,
   "id": "518cc5b6",
   "metadata": {
    "execution": {
     "iopub.execute_input": "2023-08-10T19:41:39.667453Z",
     "iopub.status.busy": "2023-08-10T19:41:39.667078Z",
     "iopub.status.idle": "2023-08-10T19:41:39.671078Z",
     "shell.execute_reply": "2023-08-10T19:41:39.670311Z"
    },
    "papermill": {
     "duration": 0.110288,
     "end_time": "2023-08-10T19:41:39.672997",
     "exception": false,
     "start_time": "2023-08-10T19:41:39.562709",
     "status": "completed"
    },
    "tags": []
   },
   "outputs": [],
   "source": [
    "# submit_v4(selected_model=adc, selected_features=all_dict, param_grid=None)\n",
    "\n",
    "# Took 1 hour 15 mins to run and gave a public score of only 0.71089. Discarded."
   ]
  },
  {
   "cell_type": "markdown",
   "id": "9b93d614",
   "metadata": {
    "papermill": {
     "duration": 0.103727,
     "end_time": "2023-08-10T19:41:39.879266",
     "exception": false,
     "start_time": "2023-08-10T19:41:39.775539",
     "status": "completed"
    },
    "tags": []
   },
   "source": [
    "### LightGBM  "
   ]
  },
  {
   "cell_type": "code",
   "execution_count": 104,
   "id": "4ffa9e00",
   "metadata": {
    "execution": {
     "iopub.execute_input": "2023-08-10T19:41:40.086352Z",
     "iopub.status.busy": "2023-08-10T19:41:40.085617Z",
     "iopub.status.idle": "2023-08-10T19:41:40.089481Z",
     "shell.execute_reply": "2023-08-10T19:41:40.088699Z"
    },
    "papermill": {
     "duration": 0.110469,
     "end_time": "2023-08-10T19:41:40.091717",
     "exception": false,
     "start_time": "2023-08-10T19:41:39.981248",
     "status": "completed"
    },
    "tags": []
   },
   "outputs": [],
   "source": [
    "# lgb = ltb.LGBMClassifier()\n",
    "# lgb"
   ]
  },
  {
   "cell_type": "code",
   "execution_count": 105,
   "id": "02b62515",
   "metadata": {
    "execution": {
     "iopub.execute_input": "2023-08-10T19:41:40.297751Z",
     "iopub.status.busy": "2023-08-10T19:41:40.297334Z",
     "iopub.status.idle": "2023-08-10T19:41:40.301875Z",
     "shell.execute_reply": "2023-08-10T19:41:40.300761Z"
    },
    "papermill": {
     "duration": 0.110307,
     "end_time": "2023-08-10T19:41:40.304002",
     "exception": false,
     "start_time": "2023-08-10T19:41:40.193695",
     "status": "completed"
    },
    "tags": []
   },
   "outputs": [],
   "source": [
    "# Try LightGBM with default settings\n",
    "# (Update): Public score only 0.77713. It was fast, took less than 5 mins (without GridSearchCV)\n",
    "\n",
    "# submit_v4(selected_model=ltb.LGBMClassifier(), selected_features=all_dict, param_grid=None)"
   ]
  },
  {
   "cell_type": "markdown",
   "id": "fe1f7fe4",
   "metadata": {
    "papermill": {
     "duration": 0.101904,
     "end_time": "2023-08-10T19:41:40.507550",
     "exception": false,
     "start_time": "2023-08-10T19:41:40.405646",
     "status": "completed"
    },
    "tags": []
   },
   "source": [
    "## Feature Engineering"
   ]
  },
  {
   "cell_type": "markdown",
   "id": "b211a9e0",
   "metadata": {
    "papermill": {
     "duration": 0.100852,
     "end_time": "2023-08-10T19:41:40.711361",
     "exception": false,
     "start_time": "2023-08-10T19:41:40.610509",
     "status": "completed"
    },
    "tags": []
   },
   "source": [
    "### Plan  \n",
    "* Add a new column 'reviewWC' which has word count of 'reviewText'  \n",
    "    * Check if there is any relationship between 'reviewWC' and 'sentiment'\n",
    "* Work on vocabulary\n",
    "     * Use TfidfVectorizer and find out the vocabulary of 'reviewText' column for various ngrams\n",
    "     * Use RecursiveFeatureElimination (RFE) or RFECV to select 1000 top words/vocab for each ngram\n",
    "     * Use the final vocab (1000-3000 words) in the model and see how it performs compared to whole vocab\n",
    "\n",
    "`(Update): Code incorporated into the \"select_features\" function  `  \n",
    "`(Update): Many other new features incorporated into the \"select_features\" function too  `  \n",
    "\n"
   ]
  },
  {
   "cell_type": "markdown",
   "id": "f86db97b",
   "metadata": {
    "papermill": {
     "duration": 0.101157,
     "end_time": "2023-08-10T19:41:40.914207",
     "exception": false,
     "start_time": "2023-08-10T19:41:40.813050",
     "status": "completed"
    },
    "tags": []
   },
   "source": [
    "## Work on vocabulary  \n",
    "\n",
    "`Build vocabulary from 'reviewText' column`  "
   ]
  },
  {
   "cell_type": "code",
   "execution_count": 106,
   "id": "c6057a4f",
   "metadata": {
    "execution": {
     "iopub.execute_input": "2023-08-10T19:41:41.119314Z",
     "iopub.status.busy": "2023-08-10T19:41:41.118760Z",
     "iopub.status.idle": "2023-08-10T19:41:41.123222Z",
     "shell.execute_reply": "2023-08-10T19:41:41.122227Z"
    },
    "papermill": {
     "duration": 0.109932,
     "end_time": "2023-08-10T19:41:41.125507",
     "exception": false,
     "start_time": "2023-08-10T19:41:41.015575",
     "status": "completed"
    },
    "tags": []
   },
   "outputs": [],
   "source": [
    "# rt_senti = merged[[\"reviewText\", \"sentiment\"]].copy()\n",
    "# rt_senti.shape, rt_senti.head()"
   ]
  },
  {
   "cell_type": "code",
   "execution_count": 107,
   "id": "eaa6f2a3",
   "metadata": {
    "execution": {
     "iopub.execute_input": "2023-08-10T19:41:41.333693Z",
     "iopub.status.busy": "2023-08-10T19:41:41.333002Z",
     "iopub.status.idle": "2023-08-10T19:41:41.337352Z",
     "shell.execute_reply": "2023-08-10T19:41:41.336054Z"
    },
    "papermill": {
     "duration": 0.110371,
     "end_time": "2023-08-10T19:41:41.339760",
     "exception": false,
     "start_time": "2023-08-10T19:41:41.229389",
     "status": "completed"
    },
    "tags": []
   },
   "outputs": [],
   "source": [
    "# rt_test = pd.DataFrame(merged_test[\"reviewText\"].copy())\n",
    "# rt_test.shape, rt_test.head()"
   ]
  },
  {
   "cell_type": "code",
   "execution_count": 108,
   "id": "4213ee37",
   "metadata": {
    "execution": {
     "iopub.execute_input": "2023-08-10T19:41:41.548759Z",
     "iopub.status.busy": "2023-08-10T19:41:41.547864Z",
     "iopub.status.idle": "2023-08-10T19:41:41.553960Z",
     "shell.execute_reply": "2023-08-10T19:41:41.552983Z"
    },
    "papermill": {
     "duration": 0.113326,
     "end_time": "2023-08-10T19:41:41.556239",
     "exception": false,
     "start_time": "2023-08-10T19:41:41.442913",
     "status": "completed"
    },
    "tags": []
   },
   "outputs": [],
   "source": [
    "# def get_vocab(text_df, ngram_range=(1,1)):\n",
    "#     print(f\"Generating vocabulary for ngram_range: {ngram_range}...\")\n",
    "#     tvec1 = CountVectorizer(ngram_range=ngram_range, stop_words='english', strip_accents='unicode')\n",
    "#     tvec1.fit(text_df)\n",
    "#     voc_ngram = list(tvec1.vocabulary_.keys())\n",
    "#     return voc_ngram"
   ]
  },
  {
   "cell_type": "code",
   "execution_count": 109,
   "id": "e19c97eb",
   "metadata": {
    "execution": {
     "iopub.execute_input": "2023-08-10T19:41:41.764439Z",
     "iopub.status.busy": "2023-08-10T19:41:41.762188Z",
     "iopub.status.idle": "2023-08-10T19:41:41.768970Z",
     "shell.execute_reply": "2023-08-10T19:41:41.767853Z"
    },
    "papermill": {
     "duration": 0.112409,
     "end_time": "2023-08-10T19:41:41.771512",
     "exception": false,
     "start_time": "2023-08-10T19:41:41.659103",
     "status": "completed"
    },
    "tags": []
   },
   "outputs": [],
   "source": [
    "# def get_common_vocab(df_list: list, ngram_range_list: list):\n",
    "#     \"\"\"\n",
    "#     Get common vocabulary from a list of dataframes.\n",
    "#     \"\"\"\n",
    "#     # Get vocabulary from each dataframe for a given ngram-range\n",
    "#     for ngram_range in ngram_range_list:\n",
    "#         vocab_ngram = set()\n",
    "#         for df in df_list:\n",
    "#             vocab_ngram_df = set(get_vocab(df['reviewText'], ngram_range))\n",
    "#             print(f\"Vocabulary for ngram-range {ngram_range} in df: {len(vocab_ngram_df)}\")\n",
    "#             if vocab_ngram:\n",
    "#                 vocab_ngram = vocab_ngram.intersection(vocab_ngram_df)\n",
    "#             else:\n",
    "#                 vocab_ngram = vocab_ngram_df\n",
    "#         print(f\"Common vocabulary for ngram-range {ngram_range}: {len(vocab_ngram)}\")   \n",
    "#     return vocab_ngram"
   ]
  },
  {
   "cell_type": "code",
   "execution_count": 110,
   "id": "52eefa66",
   "metadata": {
    "execution": {
     "iopub.execute_input": "2023-08-10T19:41:42.046383Z",
     "iopub.status.busy": "2023-08-10T19:41:42.045954Z",
     "iopub.status.idle": "2023-08-10T19:41:42.050279Z",
     "shell.execute_reply": "2023-08-10T19:41:42.049352Z"
    },
    "papermill": {
     "duration": 0.17585,
     "end_time": "2023-08-10T19:41:42.052558",
     "exception": false,
     "start_time": "2023-08-10T19:41:41.876708",
     "status": "completed"
    },
    "tags": []
   },
   "outputs": [],
   "source": [
    "# voc_1gram = get_vocab(rt_senti[\"reviewText\"], ngram_range=(1,1))\n",
    "# len(voc_1gram), voc_1gram[:10]"
   ]
  },
  {
   "cell_type": "code",
   "execution_count": 111,
   "id": "bdb5d5a5",
   "metadata": {
    "execution": {
     "iopub.execute_input": "2023-08-10T19:41:42.258952Z",
     "iopub.status.busy": "2023-08-10T19:41:42.258480Z",
     "iopub.status.idle": "2023-08-10T19:41:42.263342Z",
     "shell.execute_reply": "2023-08-10T19:41:42.262204Z"
    },
    "papermill": {
     "duration": 0.110407,
     "end_time": "2023-08-10T19:41:42.265538",
     "exception": false,
     "start_time": "2023-08-10T19:41:42.155131",
     "status": "completed"
    },
    "tags": []
   },
   "outputs": [],
   "source": [
    "# voc_2gram = get_vocab(rt_senti[\"reviewText\"], ngram_range=(2,2))\n",
    "# len(voc_2gram), voc_2gram[:10]"
   ]
  },
  {
   "cell_type": "code",
   "execution_count": 112,
   "id": "831d8bd4",
   "metadata": {
    "execution": {
     "iopub.execute_input": "2023-08-10T19:41:42.472922Z",
     "iopub.status.busy": "2023-08-10T19:41:42.472169Z",
     "iopub.status.idle": "2023-08-10T19:41:42.477769Z",
     "shell.execute_reply": "2023-08-10T19:41:42.476751Z"
    },
    "papermill": {
     "duration": 0.113171,
     "end_time": "2023-08-10T19:41:42.480303",
     "exception": false,
     "start_time": "2023-08-10T19:41:42.367132",
     "status": "completed"
    },
    "tags": []
   },
   "outputs": [],
   "source": [
    "# voc_3gram = get_vocab(rt_senti[\"reviewText\"], ngram_range=(3,3))\n",
    "# len(voc_3gram), voc_3gram[:10]"
   ]
  },
  {
   "cell_type": "code",
   "execution_count": 113,
   "id": "6bc98b03",
   "metadata": {
    "execution": {
     "iopub.execute_input": "2023-08-10T19:41:42.689385Z",
     "iopub.status.busy": "2023-08-10T19:41:42.689004Z",
     "iopub.status.idle": "2023-08-10T19:41:42.693086Z",
     "shell.execute_reply": "2023-08-10T19:41:42.692218Z"
    },
    "papermill": {
     "duration": 0.109471,
     "end_time": "2023-08-10T19:41:42.695139",
     "exception": false,
     "start_time": "2023-08-10T19:41:42.585668",
     "status": "completed"
    },
    "tags": []
   },
   "outputs": [],
   "source": [
    "# common_unigrams = get_common_vocab([rt_senti, rt_test], ngram_range_list=[(1,1)])\n",
    "# # sorted(list(common_unigrams))"
   ]
  },
  {
   "cell_type": "code",
   "execution_count": 114,
   "id": "05340780",
   "metadata": {
    "execution": {
     "iopub.execute_input": "2023-08-10T19:41:42.903075Z",
     "iopub.status.busy": "2023-08-10T19:41:42.901934Z",
     "iopub.status.idle": "2023-08-10T19:41:42.907670Z",
     "shell.execute_reply": "2023-08-10T19:41:42.906549Z"
    },
    "papermill": {
     "duration": 0.112163,
     "end_time": "2023-08-10T19:41:42.909980",
     "exception": false,
     "start_time": "2023-08-10T19:41:42.797817",
     "status": "completed"
    },
    "tags": []
   },
   "outputs": [],
   "source": [
    "# common_bigrams = get_common_vocab([rt_senti, rt_test], ngram_range_list=[(2,2)])\n",
    "# # common_bigrams"
   ]
  },
  {
   "cell_type": "code",
   "execution_count": 115,
   "id": "adb3e341",
   "metadata": {
    "execution": {
     "iopub.execute_input": "2023-08-10T19:41:43.116995Z",
     "iopub.status.busy": "2023-08-10T19:41:43.115966Z",
     "iopub.status.idle": "2023-08-10T19:41:43.120277Z",
     "shell.execute_reply": "2023-08-10T19:41:43.119427Z"
    },
    "papermill": {
     "duration": 0.110648,
     "end_time": "2023-08-10T19:41:43.122538",
     "exception": false,
     "start_time": "2023-08-10T19:41:43.011890",
     "status": "completed"
    },
    "tags": []
   },
   "outputs": [],
   "source": [
    "# common_1_2_grams = common_unigrams | common_bigrams\n",
    "# print(len(common_1_2_grams))\n",
    "# # sorted(list(common_1_2_grams))"
   ]
  },
  {
   "cell_type": "code",
   "execution_count": 116,
   "id": "b7603fe7",
   "metadata": {
    "execution": {
     "iopub.execute_input": "2023-08-10T19:41:43.329338Z",
     "iopub.status.busy": "2023-08-10T19:41:43.328906Z",
     "iopub.status.idle": "2023-08-10T19:41:43.333651Z",
     "shell.execute_reply": "2023-08-10T19:41:43.332559Z"
    },
    "papermill": {
     "duration": 0.110558,
     "end_time": "2023-08-10T19:41:43.335916",
     "exception": false,
     "start_time": "2023-08-10T19:41:43.225358",
     "status": "completed"
    },
    "tags": []
   },
   "outputs": [],
   "source": [
    "# common_trigrams = get_common_vocab([rt_senti, rt_test], ngram_range_list=[(3,3)])\n",
    "# # common_trigrams"
   ]
  },
  {
   "cell_type": "code",
   "execution_count": 117,
   "id": "980ce028",
   "metadata": {
    "execution": {
     "iopub.execute_input": "2023-08-10T19:41:43.544323Z",
     "iopub.status.busy": "2023-08-10T19:41:43.543621Z",
     "iopub.status.idle": "2023-08-10T19:41:43.548408Z",
     "shell.execute_reply": "2023-08-10T19:41:43.547256Z"
    },
    "papermill": {
     "duration": 0.111534,
     "end_time": "2023-08-10T19:41:43.550990",
     "exception": false,
     "start_time": "2023-08-10T19:41:43.439456",
     "status": "completed"
    },
    "tags": []
   },
   "outputs": [],
   "source": [
    "# common_1_2_3_grams = common_unigrams | common_bigrams | common_trigrams\n",
    "# print(len(common_1_2_3_grams))\n",
    "# # sorted((common_1_2_3_grams))"
   ]
  },
  {
   "cell_type": "markdown",
   "id": "326018af",
   "metadata": {
    "papermill": {
     "duration": 0.101775,
     "end_time": "2023-08-10T19:41:43.756355",
     "exception": false,
     "start_time": "2023-08-10T19:41:43.654580",
     "status": "completed"
    },
    "tags": []
   },
   "source": [
    "# Back to vocab after success of version 63  "
   ]
  },
  {
   "cell_type": "code",
   "execution_count": 118,
   "id": "aa47cded",
   "metadata": {
    "execution": {
     "iopub.execute_input": "2023-08-10T19:41:43.964070Z",
     "iopub.status.busy": "2023-08-10T19:41:43.963665Z",
     "iopub.status.idle": "2023-08-10T19:41:43.985417Z",
     "shell.execute_reply": "2023-08-10T19:41:43.984217Z"
    },
    "papermill": {
     "duration": 0.128,
     "end_time": "2023-08-10T19:41:43.987826",
     "exception": false,
     "start_time": "2023-08-10T19:41:43.859826",
     "status": "completed"
    },
    "tags": []
   },
   "outputs": [],
   "source": [
    "def submit_v4(selected_model=LogisticRegression(C=1, solver='liblinear', max_iter=100000), \n",
    "              selected_features={'txt': ['reviewText']}, \n",
    "              param_grid=None,\n",
    "              vocab=None,\n",
    "              vocab_usage='tfidf',\n",
    "              strip_accents='unicode', \n",
    "              add_countvec=False):\n",
    "    \n",
    "    print(\"\\nRunning the submit_v4 function...\")\n",
    "    \n",
    "    # Fine tune selected_features\n",
    "    if add_countvec:\n",
    "        if 'txt' in selected_features.keys():\n",
    "            if \"reviewText_2\" not in selected_features['txt']:\n",
    "                selected_features['txt'].append('reviewText_2')\n",
    "    if vocab:\n",
    "        if 'txt' in selected_features.keys():\n",
    "            if \"reviewText_3\" not in selected_features['txt']:\n",
    "                selected_features['txt'].append('reviewText_3')\n",
    "    print(f\"\\nSelected features: {selected_features}\")\n",
    "\n",
    "    \n",
    "    \n",
    "    # Build Pipeline\n",
    "    pipe = build_pipeline(selected_model, selected_features, param_grid=param_grid, \n",
    "                          vocab=vocab, vocab_usage='tfidf', \n",
    "                          strip_accents=strip_accents, add_countvec=add_countvec)\n",
    "    print(pipe)\n",
    "\n",
    "    \n",
    "    \n",
    "    # Features list\n",
    "    features = []\n",
    "    for item in selected_features.values():\n",
    "        features.extend(item)\n",
    " \n",
    "\n",
    "    # Merge and preprocess train and movies data  \n",
    "    merged = select_features(load_csv(\"train\"), load_csv(\"movies\"), row_thresh_null=None)    # Decide if you want to drop any rows containing lot of nulls\n",
    "    # Impute missing numerical values  \n",
    "    # Simple Imputer for ['audienceScore', 'runtimeMinutes', 'boxOffice'] and 'releaseDate' columns\n",
    "    si = SimpleImputer(strategy='median')\n",
    "    merged[['audienceScore', 'runtimeMinutes', 'boxOffice']] = si.fit_transform(merged[['audienceScore', 'runtimeMinutes', 'boxOffice']])\n",
    "    merged['releaseDate'] = merged[\"releaseDate\"].fillna(merged[\"releaseDate\"].median())    \n",
    "    # Add new columns as needed  \n",
    "    if add_countvec:\n",
    "        merged['reviewText_2'] = merged['reviewText']\n",
    "    if vocab:\n",
    "        merged['reviewText_3'] = merged['reviewText']\n",
    "        \n",
    "    X_train = merged.drop(labels=\"sentiment\", axis=1)\n",
    "    y_train = merged[\"sentiment\"]\n",
    "\n",
    "    X_train = X_train[features]\n",
    "    \n",
    "    \n",
    "    # Check1\n",
    "    print(\"\\nCheck 1 complete.\")\n",
    "    print(f\"Shape of X_train: {X_train.shape}\")\n",
    "    print(f\"Features in X_train: {X_train.columns}\")\n",
    "#     print(X_train.head())\n",
    "    \n",
    "    \n",
    "    # Fit \n",
    "    print(\"\\nTraining started with full pipeline...\")\n",
    "    pipe.fit(X_train, y_train)\n",
    "    \n",
    "    # Check2\n",
    "    print(\"\\nCheck 2 complete.\")\n",
    "    print(\"Details of the best model using full pipeline (GridSearchCV) on X_train: \")\n",
    "    print(f\"Best Params: {pipe.best_params_}\")\n",
    "    print(f\"Best Score: {pipe.best_score_}\")\n",
    "    \n",
    "    print(predict_on_missing_review_data(pipe, features, merged))    # Function defined above\n",
    "    \n",
    "        \n",
    "    # Predict on test.csv file\n",
    "    \n",
    "    # Merge and preprocess test and movies data  \n",
    "    merged_test = select_features(load_csv(\"test\"), load_csv(\"movies\"))\n",
    "    # Transform ['audienceScore', 'runtimeMinutes', 'boxOffice'] columns in merged_test using 'si' fitted on 'merged' df  \n",
    "    merged_test[['audienceScore', 'runtimeMinutes', 'boxOffice']] = si.transform(merged_test[['audienceScore', 'runtimeMinutes', 'boxOffice']])\n",
    "    # Fill 'releaseDate' column in 'merged_test' df with median from the train (merged) df  \n",
    "    merged_test['releaseDate'] = merged_test[\"releaseDate\"].fillna(merged[\"releaseDate\"].median())\n",
    "    # Add new columns as needed \n",
    "    if add_countvec:\n",
    "        merged_test['reviewText_2'] = merged_test['reviewText']\n",
    "    if vocab:\n",
    "        merged_test['reviewText_3'] = merged_test['reviewText']\n",
    "        \n",
    "    X_test = merged_test.copy()\n",
    "\n",
    "    X_test = X_test[features]\n",
    "    \n",
    "    \n",
    "    # Check3\n",
    "    print(\"\\nCheck 3 complete.\")\n",
    "    print(f\"Shape of X_test: {X_test.shape}\")\n",
    "    print(f\"Features in X_test: {X_test.columns}\")\n",
    "#     print(X_test.head())\n",
    "    \n",
    "    y_pred = pipe.predict(X_test)\n",
    "    \n",
    "    # Check4\n",
    "    print(\"\\nCheck 4 complete.\")\n",
    "#     cv_results_df = pd.DataFrame(pipe.cv_results_)\n",
    "    print(\"Details of the best model using full pipeline (GridSearchCV) on X_train: \")\n",
    "    print(f\"Best Estimator: {pipe.best_estimator_}\")\n",
    "    print(f\"Best Params: {pipe.best_params_}\")\n",
    "    print(f\"Best Score: {pipe.best_score_}\")\n",
    "    print(f\"Best Index: {pipe.best_index_}\")\n",
    "    print(f\"Refit Time: {pipe.refit_time_}\")\n",
    "#     print(f\"Shape of CV results dataframe: {cv_results_df.shape}\")\n",
    "    \n",
    "    pred_df = pd.DataFrame(y_pred)\n",
    "    pred_df.columns = [\"sentiment\"]\n",
    "    pred_df.index.name = \"id\"\n",
    "    pred_df.to_csv(\"submission.csv\")\n",
    "    \n",
    "    print(\"\\nSuccessfully created the submission file!!!\")\n",
    "    \n",
    "    return pipe.cv_results_"
   ]
  },
  {
   "cell_type": "code",
   "execution_count": 119,
   "id": "aaaddbd7",
   "metadata": {
    "execution": {
     "iopub.execute_input": "2023-08-10T19:41:44.202104Z",
     "iopub.status.busy": "2023-08-10T19:41:44.201398Z",
     "iopub.status.idle": "2023-08-10T19:41:44.209865Z",
     "shell.execute_reply": "2023-08-10T19:41:44.208738Z"
    },
    "papermill": {
     "duration": 0.118473,
     "end_time": "2023-08-10T19:41:44.212309",
     "exception": false,
     "start_time": "2023-08-10T19:41:44.093836",
     "status": "completed"
    },
    "tags": []
   },
   "outputs": [
    {
     "data": {
      "text/plain": [
       "Index(['movieid', 'reviewerName', 'isFrequentReviewer', 'reviewText',\n",
       "       'sentiment', 'title', 'audienceScore', 'rating', 'ratingContents',\n",
       "       'releaseDateTheaters', 'releaseDateStreaming', 'runtimeMinutes',\n",
       "       'genre', 'originalLanguage', 'director', 'boxOffice', 'distributor',\n",
       "       'soundType', 'reviewYN', 'reviewWC', 'genreSorted', 'rcSorted',\n",
       "       'releaseDate', 'releaseYear', 'releaseMonth', 'releaseDiff',\n",
       "       'audScoreBins', 'runtimeBins', 'boxOfficeBins', 'releaseDiffBins'],\n",
       "      dtype='object')"
      ]
     },
     "execution_count": 119,
     "metadata": {},
     "output_type": "execute_result"
    }
   ],
   "source": [
    "merged.columns"
   ]
  },
  {
   "cell_type": "code",
   "execution_count": 120,
   "id": "93a097ca",
   "metadata": {
    "execution": {
     "iopub.execute_input": "2023-08-10T19:41:44.436975Z",
     "iopub.status.busy": "2023-08-10T19:41:44.436054Z",
     "iopub.status.idle": "2023-08-10T19:41:44.447085Z",
     "shell.execute_reply": "2023-08-10T19:41:44.446110Z"
    },
    "papermill": {
     "duration": 0.116777,
     "end_time": "2023-08-10T19:41:44.449667",
     "exception": false,
     "start_time": "2023-08-10T19:41:44.332890",
     "status": "completed"
    },
    "tags": []
   },
   "outputs": [],
   "source": [
    "# Best #2\n",
    "v80_dict = {'cat': ['isFrequentReviewer', 'audScoreBins', 'boxOfficeBins'], \n",
    "                  'txt': ['reviewText', 'reviewerName', 'movieid', 'genre', 'director', \n",
    "                          'ratingContents', 'distributor']}\n",
    "# Best #1\n",
    "v88_dict = {'cat': ['isFrequentReviewer', 'audScoreBins', 'boxOfficeBins'],\n",
    "            'num': ['releaseDiff'],\n",
    "            'txt': ['reviewText', 'reviewerName', 'movieid', 'genre', 'director', \n",
    "                         'ratingContents', 'distributor']}\n",
    "\n",
    "v92_dict = {'cat': ['isFrequentReviewer', 'audScoreBins', 'boxOfficeBins', 'releaseDiffBins'],\n",
    "            'txt': ['reviewText', 'reviewerName', 'title', 'genre', 'director', \n",
    "                         'ratingContents', 'distributor']}\n",
    "\n",
    "# Best univariable datapoints dict\n",
    "best_uni_dict = {'cat': [\"isFrequentReviewer\", \"audScoreBins\"],\n",
    "                 'txt': ['reviewText','movieid', 'director', \"ratingContents\"]}\n",
    "\n",
    "# param_grids for LogisticRegression  \n",
    "\n",
    "# Best #1  \n",
    "# param_grid = {\n",
    "#     'model__C' : [1],\n",
    "#     'model__solver': ['saga'],\n",
    "#     \"model__fit_intercept\" : [True],\n",
    "#     \"model__dual\" : [False]\n",
    "#     }\n",
    "\n",
    "# working\n",
    "param_grid = {\n",
    "    'model__C' : [1],\n",
    "    'model__solver': ['saga'],\n",
    "    \"model__fit_intercept\" : [True],\n",
    "    \"model__dual\" : [False],\n",
    "#     \"model__class_weight\": ['balanced', None]\n",
    "}\n",
    "\n",
    "\n",
    "# param_grids for LinearSVC  \n",
    "\n",
    "# param_grid = {\n",
    "#     'model__C' : [1, 10, 20],\n",
    "#     'model__loss': ['hinge', 'squared_hinge'],\n",
    "#     \"model__fit_intercept\" : [True, False],\n",
    "# #     \"model__dual\" : [True, False] \n",
    "# }\n",
    "\n",
    "svm = LinearSVC(max_iter=10000, random_state=42)    # LinearSVC\n",
    "\n",
    "\n",
    "# Local testing\n",
    "# selected_mov = {'num': ['audienceScore', 'boxOffice', 'releaseDiff'], \n",
    "#                 'txt': ['movieid', 'genre', 'director', \n",
    "#                          'ratingContents', 'distributor']}\n",
    "# results = submit_v4(\n",
    "#             selected_features={'num': ['boxOffice']},\n",
    "#             add_countvec=False,\n",
    "#             vocab=None,\n",
    "#             vocab_usage='tfidf',\n",
    "#             param_grid=param_grid\n",
    "#          )\n",
    "\n",
    "# results = submit_v4(selected_model = DummyClassifier(strategy='constant', constant='NEGATIVE'),\n",
    "#             selected_features={'num': ['boxOffice']},\n",
    "#             add_countvec=False,\n",
    "#             vocab=None,\n",
    "#             vocab_usage='tfidf',\n",
    "#             param_grid={'model__strategy' : ['constant']}\n",
    "#          )\n",
    "\n",
    "# Main submission\n",
    "\n",
    "# results = submit_v4(\n",
    "#     selected_features=v88_dict,\n",
    "#     add_countvec=False,\n",
    "#     vocab=common_1_2_3_grams,\n",
    "#     vocab_usage='tfidf',\n",
    "#     param_grid=param_grid\n",
    "#     )\n",
    "\n",
    "# results"
   ]
  },
  {
   "cell_type": "markdown",
   "id": "9caa1f24",
   "metadata": {
    "papermill": {
     "duration": 0.102809,
     "end_time": "2023-08-10T19:41:44.656402",
     "exception": false,
     "start_time": "2023-08-10T19:41:44.553593",
     "status": "completed"
    },
    "tags": []
   },
   "source": [
    "### ratingContents analysis  "
   ]
  },
  {
   "cell_type": "code",
   "execution_count": 121,
   "id": "af549dc6",
   "metadata": {
    "execution": {
     "iopub.execute_input": "2023-08-10T19:41:44.864058Z",
     "iopub.status.busy": "2023-08-10T19:41:44.863659Z",
     "iopub.status.idle": "2023-08-10T19:41:44.868445Z",
     "shell.execute_reply": "2023-08-10T19:41:44.867390Z"
    },
    "papermill": {
     "duration": 0.112349,
     "end_time": "2023-08-10T19:41:44.870757",
     "exception": false,
     "start_time": "2023-08-10T19:41:44.758408",
     "status": "completed"
    },
    "tags": []
   },
   "outputs": [],
   "source": [
    "# Try string split  \n",
    "# s = \"comedy, animation, adventure, fantasy\"\n",
    "# (\",\").join(sorted(s.split(\", \")))"
   ]
  },
  {
   "cell_type": "code",
   "execution_count": 122,
   "id": "7ae59453",
   "metadata": {
    "execution": {
     "iopub.execute_input": "2023-08-10T19:41:45.077220Z",
     "iopub.status.busy": "2023-08-10T19:41:45.076836Z",
     "iopub.status.idle": "2023-08-10T19:41:45.081576Z",
     "shell.execute_reply": "2023-08-10T19:41:45.080428Z"
    },
    "papermill": {
     "duration": 0.110927,
     "end_time": "2023-08-10T19:41:45.083953",
     "exception": false,
     "start_time": "2023-08-10T19:41:44.973026",
     "status": "completed"
    },
    "tags": []
   },
   "outputs": [],
   "source": [
    "# ratingContents_analysis = merged[[\"ratingContents\", \"sentiment\"]].copy()\n",
    "# print(ratingContents_analysis.head())\n",
    "# ratingContents_analysis[\"rcSorted\"] = ratingContents_analysis[\"ratingContents\"].apply(lambda x: (\",\").join(sorted(x.strip(\"][\").split(\", \"))))\n",
    "# ratingContents_analysis[\"rcSorted\"] = ratingContents_analysis[\"rcSorted\"].apply(lambda x: re.sub(r\"'\", \"\", x))\n",
    "# ratingContents_analysis[\"rcSorted\"] = ratingContents_analysis[\"rcSorted\"].apply(lambda x: re.sub(r\"[/\\s]\", \"_\", x))\n",
    "# ratingContents_analysis.head(10)"
   ]
  },
  {
   "cell_type": "code",
   "execution_count": 123,
   "id": "55e5e4f2",
   "metadata": {
    "execution": {
     "iopub.execute_input": "2023-08-10T19:41:45.293081Z",
     "iopub.status.busy": "2023-08-10T19:41:45.292310Z",
     "iopub.status.idle": "2023-08-10T19:41:45.296922Z",
     "shell.execute_reply": "2023-08-10T19:41:45.296088Z"
    },
    "papermill": {
     "duration": 0.111836,
     "end_time": "2023-08-10T19:41:45.299051",
     "exception": false,
     "start_time": "2023-08-10T19:41:45.187215",
     "status": "completed"
    },
    "tags": []
   },
   "outputs": [],
   "source": [
    "# cvec_rc = CountVectorizer(ngram_range=(1,1))\n",
    "# cvec_rc.fit(ratingContents_analysis['rcSorted'])\n",
    "# # len(cvec_rc.vocabulary_), cvec_rc.vocabulary_"
   ]
  },
  {
   "cell_type": "code",
   "execution_count": 124,
   "id": "2791de6e",
   "metadata": {
    "execution": {
     "iopub.execute_input": "2023-08-10T19:41:45.506175Z",
     "iopub.status.busy": "2023-08-10T19:41:45.505517Z",
     "iopub.status.idle": "2023-08-10T19:41:45.509950Z",
     "shell.execute_reply": "2023-08-10T19:41:45.509050Z"
    },
    "papermill": {
     "duration": 0.110776,
     "end_time": "2023-08-10T19:41:45.512110",
     "exception": false,
     "start_time": "2023-08-10T19:41:45.401334",
     "status": "completed"
    },
    "tags": []
   },
   "outputs": [],
   "source": [
    "# genre_testing = cvec_g.transform(merged[\"genre\"])\n",
    "# print(genre_testing)"
   ]
  },
  {
   "cell_type": "markdown",
   "id": "73f61f8b",
   "metadata": {
    "papermill": {
     "duration": 0.102568,
     "end_time": "2023-08-10T19:41:45.718192",
     "exception": false,
     "start_time": "2023-08-10T19:41:45.615624",
     "status": "completed"
    },
    "tags": []
   },
   "source": [
    "## Statistical tests  "
   ]
  },
  {
   "cell_type": "markdown",
   "id": "c817addb",
   "metadata": {
    "papermill": {
     "duration": 0.101573,
     "end_time": "2023-08-10T19:41:45.922299",
     "exception": false,
     "start_time": "2023-08-10T19:41:45.820726",
     "status": "completed"
    },
    "tags": []
   },
   "source": [
    "[Go to genre](#genre_analysis)"
   ]
  },
  {
   "cell_type": "code",
   "execution_count": 125,
   "id": "b9321ac6",
   "metadata": {
    "execution": {
     "iopub.execute_input": "2023-08-10T19:41:46.128575Z",
     "iopub.status.busy": "2023-08-10T19:41:46.128124Z",
     "iopub.status.idle": "2023-08-10T19:41:46.132737Z",
     "shell.execute_reply": "2023-08-10T19:41:46.131582Z"
    },
    "papermill": {
     "duration": 0.110354,
     "end_time": "2023-08-10T19:41:46.135062",
     "exception": false,
     "start_time": "2023-08-10T19:41:46.024708",
     "status": "completed"
    },
    "tags": []
   },
   "outputs": [],
   "source": [
    "# print(merged['boxOffice'].head())\n",
    "# merged[\"boxOffice\"].describe()"
   ]
  },
  {
   "cell_type": "code",
   "execution_count": 126,
   "id": "df99ae53",
   "metadata": {
    "execution": {
     "iopub.execute_input": "2023-08-10T19:41:46.341623Z",
     "iopub.status.busy": "2023-08-10T19:41:46.341149Z",
     "iopub.status.idle": "2023-08-10T19:41:46.346111Z",
     "shell.execute_reply": "2023-08-10T19:41:46.344927Z"
    },
    "papermill": {
     "duration": 0.110867,
     "end_time": "2023-08-10T19:41:46.348645",
     "exception": false,
     "start_time": "2023-08-10T19:41:46.237778",
     "status": "completed"
    },
    "tags": []
   },
   "outputs": [],
   "source": [
    "# Function for independent samples t-test on numerical columns  \n",
    "# def ttest_ind(feature):\n",
    "#     pos_grp = merged[feature].loc[merged['sentiment'] == \"POSITIVE\"]\n",
    "#     neg_grp = merged[feature].loc[merged['sentiment'] == \"NEGATIVE\"]\n",
    "\n",
    "#     print(pos_grp.shape, neg_grp.shape)\n",
    "#     print(pos_grp.describe(), neg_grp.describe())\n",
    "\n",
    "#     return stats.ttest_ind(pos_grp, neg_grp)"
   ]
  },
  {
   "cell_type": "code",
   "execution_count": 127,
   "id": "7007ad8e",
   "metadata": {
    "execution": {
     "iopub.execute_input": "2023-08-10T19:41:46.559775Z",
     "iopub.status.busy": "2023-08-10T19:41:46.559350Z",
     "iopub.status.idle": "2023-08-10T19:41:46.563703Z",
     "shell.execute_reply": "2023-08-10T19:41:46.562645Z"
    },
    "papermill": {
     "duration": 0.111505,
     "end_time": "2023-08-10T19:41:46.566101",
     "exception": false,
     "start_time": "2023-08-10T19:41:46.454596",
     "status": "completed"
    },
    "tags": []
   },
   "outputs": [],
   "source": [
    "# ttest_ind('boxOffice')"
   ]
  },
  {
   "cell_type": "code",
   "execution_count": 128,
   "id": "3fc30a3a",
   "metadata": {
    "execution": {
     "iopub.execute_input": "2023-08-10T19:41:46.841812Z",
     "iopub.status.busy": "2023-08-10T19:41:46.840777Z",
     "iopub.status.idle": "2023-08-10T19:41:46.845405Z",
     "shell.execute_reply": "2023-08-10T19:41:46.844660Z"
    },
    "papermill": {
     "duration": 0.110802,
     "end_time": "2023-08-10T19:41:46.847783",
     "exception": false,
     "start_time": "2023-08-10T19:41:46.736981",
     "status": "completed"
    },
    "tags": []
   },
   "outputs": [],
   "source": [
    "# ttest_ind('runtimeMinutes')"
   ]
  },
  {
   "cell_type": "code",
   "execution_count": 129,
   "id": "73b5304f",
   "metadata": {
    "execution": {
     "iopub.execute_input": "2023-08-10T19:41:47.056959Z",
     "iopub.status.busy": "2023-08-10T19:41:47.055784Z",
     "iopub.status.idle": "2023-08-10T19:41:47.060724Z",
     "shell.execute_reply": "2023-08-10T19:41:47.059727Z"
    },
    "papermill": {
     "duration": 0.11133,
     "end_time": "2023-08-10T19:41:47.063056",
     "exception": false,
     "start_time": "2023-08-10T19:41:46.951726",
     "status": "completed"
    },
    "tags": []
   },
   "outputs": [],
   "source": [
    "# ttest_ind('audienceScore')"
   ]
  },
  {
   "cell_type": "code",
   "execution_count": 130,
   "id": "0fa3f552",
   "metadata": {
    "execution": {
     "iopub.execute_input": "2023-08-10T19:41:47.269708Z",
     "iopub.status.busy": "2023-08-10T19:41:47.268903Z",
     "iopub.status.idle": "2023-08-10T19:41:47.274006Z",
     "shell.execute_reply": "2023-08-10T19:41:47.272900Z"
    },
    "papermill": {
     "duration": 0.110915,
     "end_time": "2023-08-10T19:41:47.276459",
     "exception": false,
     "start_time": "2023-08-10T19:41:47.165544",
     "status": "completed"
    },
    "tags": []
   },
   "outputs": [],
   "source": [
    "# sns.boxplot(x=merged['sentiment'], y=merged['boxOffice'])"
   ]
  },
  {
   "cell_type": "markdown",
   "id": "efa2c83a",
   "metadata": {
    "papermill": {
     "duration": 0.101632,
     "end_time": "2023-08-10T19:41:47.480351",
     "exception": false,
     "start_time": "2023-08-10T19:41:47.378719",
     "status": "completed"
    },
    "tags": []
   },
   "source": [
    "## <div id='genre_analysis'>Genre analysis</div>"
   ]
  },
  {
   "cell_type": "code",
   "execution_count": 131,
   "id": "e8cdf0c3",
   "metadata": {
    "execution": {
     "iopub.execute_input": "2023-08-10T19:41:47.686343Z",
     "iopub.status.busy": "2023-08-10T19:41:47.685715Z",
     "iopub.status.idle": "2023-08-10T19:41:47.690867Z",
     "shell.execute_reply": "2023-08-10T19:41:47.689770Z"
    },
    "papermill": {
     "duration": 0.111154,
     "end_time": "2023-08-10T19:41:47.693197",
     "exception": false,
     "start_time": "2023-08-10T19:41:47.582043",
     "status": "completed"
    },
    "tags": []
   },
   "outputs": [],
   "source": [
    "# genre_analysis = merged[[\"genre\", \"genreSorted\", \"sentiment\"]].copy()\n",
    "# # print(genre_analysis.head())\n",
    "# # genre_analysis[\"genre\"] = genre_analysis[\"genre\"].apply(lambda x: (\",\").join(sorted(x.split(\", \"))))\n",
    "# genre_analysis.head()"
   ]
  },
  {
   "cell_type": "code",
   "execution_count": 132,
   "id": "722b94e3",
   "metadata": {
    "execution": {
     "iopub.execute_input": "2023-08-10T19:41:47.899676Z",
     "iopub.status.busy": "2023-08-10T19:41:47.899190Z",
     "iopub.status.idle": "2023-08-10T19:41:47.904180Z",
     "shell.execute_reply": "2023-08-10T19:41:47.903364Z"
    },
    "papermill": {
     "duration": 0.110583,
     "end_time": "2023-08-10T19:41:47.906312",
     "exception": false,
     "start_time": "2023-08-10T19:41:47.795729",
     "status": "completed"
    },
    "tags": []
   },
   "outputs": [],
   "source": [
    "# cvec_g = CountVectorizer(ngram_range=(1,3))\n",
    "# cvec_g.fit(genre_analysis['genre'])\n",
    "# # len(cvec_g.vocabulary_), cvec_g.vocabulary_"
   ]
  },
  {
   "cell_type": "code",
   "execution_count": 133,
   "id": "8f5717f0",
   "metadata": {
    "execution": {
     "iopub.execute_input": "2023-08-10T19:41:48.115782Z",
     "iopub.status.busy": "2023-08-10T19:41:48.114365Z",
     "iopub.status.idle": "2023-08-10T19:41:48.119832Z",
     "shell.execute_reply": "2023-08-10T19:41:48.118716Z"
    },
    "papermill": {
     "duration": 0.112819,
     "end_time": "2023-08-10T19:41:48.122271",
     "exception": false,
     "start_time": "2023-08-10T19:41:48.009452",
     "status": "completed"
    },
    "tags": []
   },
   "outputs": [],
   "source": [
    "# cvec_gSorted = CountVectorizer(ngram_range=(1,3))\n",
    "# cvec_gSorted.fit(genre_analysis['genreSorted'])\n",
    "# len(cvec_gSorted.vocabulary_), cvec_gSorted.vocabulary_"
   ]
  },
  {
   "cell_type": "code",
   "execution_count": 134,
   "id": "1cf4099e",
   "metadata": {
    "execution": {
     "iopub.execute_input": "2023-08-10T19:41:48.327962Z",
     "iopub.status.busy": "2023-08-10T19:41:48.327535Z",
     "iopub.status.idle": "2023-08-10T19:41:48.332471Z",
     "shell.execute_reply": "2023-08-10T19:41:48.331464Z"
    },
    "papermill": {
     "duration": 0.110037,
     "end_time": "2023-08-10T19:41:48.334735",
     "exception": false,
     "start_time": "2023-08-10T19:41:48.224698",
     "status": "completed"
    },
    "tags": []
   },
   "outputs": [],
   "source": [
    "# genre_testing = cvec_g.transform(merged[\"genre\"])\n",
    "# # print(genre_testing)"
   ]
  },
  {
   "cell_type": "code",
   "execution_count": 135,
   "id": "6af9c233",
   "metadata": {
    "execution": {
     "iopub.execute_input": "2023-08-10T19:41:48.542766Z",
     "iopub.status.busy": "2023-08-10T19:41:48.541907Z",
     "iopub.status.idle": "2023-08-10T19:41:48.546940Z",
     "shell.execute_reply": "2023-08-10T19:41:48.545924Z"
    },
    "papermill": {
     "duration": 0.111016,
     "end_time": "2023-08-10T19:41:48.549326",
     "exception": false,
     "start_time": "2023-08-10T19:41:48.438310",
     "status": "completed"
    },
    "tags": []
   },
   "outputs": [],
   "source": [
    "# genre_counts_testing = merged[[\"genre\", \"sentiment\"]].copy()\n",
    "# genre_counts_testing[\"gCount\"] = genre_counts_testing.apply(lambda x: len(str(x[\"genre\"]).split()), axis=1)\n",
    "# genre_counts_testing"
   ]
  },
  {
   "cell_type": "code",
   "execution_count": 136,
   "id": "ba50e9e1",
   "metadata": {
    "execution": {
     "iopub.execute_input": "2023-08-10T19:41:48.757415Z",
     "iopub.status.busy": "2023-08-10T19:41:48.756587Z",
     "iopub.status.idle": "2023-08-10T19:41:48.761401Z",
     "shell.execute_reply": "2023-08-10T19:41:48.760643Z"
    },
    "papermill": {
     "duration": 0.111732,
     "end_time": "2023-08-10T19:41:48.763680",
     "exception": false,
     "start_time": "2023-08-10T19:41:48.651948",
     "status": "completed"
    },
    "tags": []
   },
   "outputs": [],
   "source": [
    "# sns.boxplot(y=genre_counts_testing[\"gCount\"], x=genre_counts_testing[\"sentiment\"])"
   ]
  },
  {
   "cell_type": "code",
   "execution_count": 137,
   "id": "ecb29e29",
   "metadata": {
    "execution": {
     "iopub.execute_input": "2023-08-10T19:41:48.969768Z",
     "iopub.status.busy": "2023-08-10T19:41:48.968928Z",
     "iopub.status.idle": "2023-08-10T19:41:48.973969Z",
     "shell.execute_reply": "2023-08-10T19:41:48.972948Z"
    },
    "papermill": {
     "duration": 0.111205,
     "end_time": "2023-08-10T19:41:48.976554",
     "exception": false,
     "start_time": "2023-08-10T19:41:48.865349",
     "status": "completed"
    },
    "tags": []
   },
   "outputs": [],
   "source": [
    "# sns.boxplot(y=merged[\"reviewWC\"], x=merged[\"sentiment\"])"
   ]
  },
  {
   "cell_type": "code",
   "execution_count": 138,
   "id": "864abd24",
   "metadata": {
    "execution": {
     "iopub.execute_input": "2023-08-10T19:41:49.183726Z",
     "iopub.status.busy": "2023-08-10T19:41:49.183284Z",
     "iopub.status.idle": "2023-08-10T19:41:49.187766Z",
     "shell.execute_reply": "2023-08-10T19:41:49.186568Z"
    },
    "papermill": {
     "duration": 0.110983,
     "end_time": "2023-08-10T19:41:49.190170",
     "exception": false,
     "start_time": "2023-08-10T19:41:49.079187",
     "status": "completed"
    },
    "tags": []
   },
   "outputs": [],
   "source": [
    "# audienceScore bins\n",
    "# asc = merged[['audienceScore', 'sentiment']].copy()\n",
    "# asc.head()"
   ]
  },
  {
   "cell_type": "code",
   "execution_count": 139,
   "id": "9a5e2a1f",
   "metadata": {
    "execution": {
     "iopub.execute_input": "2023-08-10T19:41:49.396299Z",
     "iopub.status.busy": "2023-08-10T19:41:49.395874Z",
     "iopub.status.idle": "2023-08-10T19:41:49.400741Z",
     "shell.execute_reply": "2023-08-10T19:41:49.399426Z"
    },
    "papermill": {
     "duration": 0.111261,
     "end_time": "2023-08-10T19:41:49.403208",
     "exception": false,
     "start_time": "2023-08-10T19:41:49.291947",
     "status": "completed"
    },
    "tags": []
   },
   "outputs": [],
   "source": [
    "# Binning numerical features  \n",
    "\n",
    "# print(merged[\"runtimeBins\"].value_counts())\n",
    "# sns.displot(merged[\"runtimeBins\"])"
   ]
  },
  {
   "cell_type": "code",
   "execution_count": 140,
   "id": "95fd5947",
   "metadata": {
    "execution": {
     "iopub.execute_input": "2023-08-10T19:41:49.610025Z",
     "iopub.status.busy": "2023-08-10T19:41:49.609634Z",
     "iopub.status.idle": "2023-08-10T19:41:49.615079Z",
     "shell.execute_reply": "2023-08-10T19:41:49.613986Z"
    },
    "papermill": {
     "duration": 0.110401,
     "end_time": "2023-08-10T19:41:49.617237",
     "exception": false,
     "start_time": "2023-08-10T19:41:49.506836",
     "status": "completed"
    },
    "tags": []
   },
   "outputs": [],
   "source": [
    "# Chi-square test for isFrequentReviewer column and sentiment column   \n",
    "\n",
    "# contingency_table = pd.crosstab(traindf['isFrequentReviewer'], traindf['sentiment'])\n",
    "# print(contingency_table)\n",
    "# stats.chi2_contingency(contingency_table)"
   ]
  },
  {
   "cell_type": "markdown",
   "id": "8464ed82",
   "metadata": {
    "papermill": {
     "duration": 0.102655,
     "end_time": "2023-08-10T19:41:49.822833",
     "exception": false,
     "start_time": "2023-08-10T19:41:49.720178",
     "status": "completed"
    },
    "tags": []
   },
   "source": [
    "## Baseline performance of 'reviewText' column  "
   ]
  },
  {
   "cell_type": "code",
   "execution_count": 141,
   "id": "1abf7f62",
   "metadata": {
    "execution": {
     "iopub.execute_input": "2023-08-10T19:41:50.032767Z",
     "iopub.status.busy": "2023-08-10T19:41:50.031589Z",
     "iopub.status.idle": "2023-08-10T19:41:50.037221Z",
     "shell.execute_reply": "2023-08-10T19:41:50.036274Z"
    },
    "papermill": {
     "duration": 0.114627,
     "end_time": "2023-08-10T19:41:50.039618",
     "exception": false,
     "start_time": "2023-08-10T19:41:49.924991",
     "status": "completed"
    },
    "tags": []
   },
   "outputs": [],
   "source": [
    "# rt_dict = {'txt': ['reviewText']}\n",
    "# rt_dict"
   ]
  },
  {
   "cell_type": "code",
   "execution_count": 142,
   "id": "304689f1",
   "metadata": {
    "execution": {
     "iopub.execute_input": "2023-08-10T19:41:50.248615Z",
     "iopub.status.busy": "2023-08-10T19:41:50.247329Z",
     "iopub.status.idle": "2023-08-10T19:41:50.252596Z",
     "shell.execute_reply": "2023-08-10T19:41:50.251784Z"
    },
    "papermill": {
     "duration": 0.11181,
     "end_time": "2023-08-10T19:41:50.254904",
     "exception": false,
     "start_time": "2023-08-10T19:41:50.143094",
     "status": "completed"
    },
    "tags": []
   },
   "outputs": [],
   "source": [
    "# submit_v4(selected_model=LogisticRegression(C=5, solver=\"saga\", max_iter=100000),\n",
    "#           selected_features=rt_dict,\n",
    "#           param_grid=None,\n",
    "#           vocab=None)"
   ]
  },
  {
   "cell_type": "markdown",
   "id": "5b5f172a",
   "metadata": {
    "papermill": {
     "duration": 0.101657,
     "end_time": "2023-08-10T19:41:50.458781",
     "exception": false,
     "start_time": "2023-08-10T19:41:50.357124",
     "status": "completed"
    },
    "tags": []
   },
   "source": [
    "## RFE  "
   ]
  },
  {
   "cell_type": "code",
   "execution_count": 143,
   "id": "c932266f",
   "metadata": {
    "execution": {
     "iopub.execute_input": "2023-08-10T19:41:50.668146Z",
     "iopub.status.busy": "2023-08-10T19:41:50.667681Z",
     "iopub.status.idle": "2023-08-10T19:41:50.673997Z",
     "shell.execute_reply": "2023-08-10T19:41:50.672984Z"
    },
    "papermill": {
     "duration": 0.11647,
     "end_time": "2023-08-10T19:41:50.676894",
     "exception": false,
     "start_time": "2023-08-10T19:41:50.560424",
     "status": "completed"
    },
    "tags": []
   },
   "outputs": [],
   "source": [
    "# def fs_rfe(selector, text_df, labels, ngram_range=(1,1)):\n",
    "#     text_df_ngram = TfidfVectorizer(ngram_range=ngram_range, stop_words='english').fit_transform(text_df)\n",
    "#     print(\"text_df was vectorized using TF-IDF vectorizer with ngram_range: \", ngram_range)\n",
    "#     print(\"text_df.shape: \", text_df.shape)\n",
    "#     print(\"labels.shape: \", labels.shape)\n",
    "#     print(\"text_df_ngram.shape: \", text_df_ngram.shape)\n",
    "#     print()\n",
    "\n",
    "#     print(\"Starting RFE fit...\")\n",
    "#     selector.fit(text_df_ngram, labels)\n",
    "#     print(\"RFE fit complete.\\n\")\n",
    "    \n",
    "#     print(\"selector.n_features_: \", selector.n_features_)   \n",
    "#     print(\"selector.n_features_in_: \", selector.n_features_in_)\n",
    "#     print(\"selector.support_.shape: \", selector.support_.shape)\n",
    "\n",
    "#     return selector.support_"
   ]
  },
  {
   "cell_type": "markdown",
   "id": "937b6458",
   "metadata": {
    "papermill": {
     "duration": 0.102506,
     "end_time": "2023-08-10T19:41:50.884217",
     "exception": false,
     "start_time": "2023-08-10T19:41:50.781711",
     "status": "completed"
    },
    "tags": []
   },
   "source": [
    "`RFE for unigrams`  "
   ]
  },
  {
   "cell_type": "code",
   "execution_count": 144,
   "id": "8a9b6b79",
   "metadata": {
    "execution": {
     "iopub.execute_input": "2023-08-10T19:41:51.090855Z",
     "iopub.status.busy": "2023-08-10T19:41:51.090026Z",
     "iopub.status.idle": "2023-08-10T19:41:51.095118Z",
     "shell.execute_reply": "2023-08-10T19:41:51.094255Z"
    },
    "papermill": {
     "duration": 0.110547,
     "end_time": "2023-08-10T19:41:51.097362",
     "exception": false,
     "start_time": "2023-08-10T19:41:50.986815",
     "status": "completed"
    },
    "tags": []
   },
   "outputs": [],
   "source": [
    "# estimator_rfe_1 = LogisticRegression(solver='saga', max_iter=100000)\n",
    "# selector_rfe_1 = RFE(estimator_rfe_1, step=0.1, n_features_to_select=30000)"
   ]
  },
  {
   "cell_type": "code",
   "execution_count": 145,
   "id": "15a62b9c",
   "metadata": {
    "execution": {
     "iopub.execute_input": "2023-08-10T19:41:51.307006Z",
     "iopub.status.busy": "2023-08-10T19:41:51.306157Z",
     "iopub.status.idle": "2023-08-10T19:41:51.311081Z",
     "shell.execute_reply": "2023-08-10T19:41:51.310281Z"
    },
    "papermill": {
     "duration": 0.112249,
     "end_time": "2023-08-10T19:41:51.313182",
     "exception": false,
     "start_time": "2023-08-10T19:41:51.200933",
     "status": "completed"
    },
    "tags": []
   },
   "outputs": [],
   "source": [
    "# rfe_1_feat_mask = fs_rfe(selector_rfe_1, rt_senti[\"reviewText\"], rt_senti[\"sentiment\"], ngram_range=(1,1))\n",
    "# rfe_1_feat_mask"
   ]
  },
  {
   "cell_type": "code",
   "execution_count": 146,
   "id": "cd1179c6",
   "metadata": {
    "execution": {
     "iopub.execute_input": "2023-08-10T19:41:51.520713Z",
     "iopub.status.busy": "2023-08-10T19:41:51.519985Z",
     "iopub.status.idle": "2023-08-10T19:41:51.523872Z",
     "shell.execute_reply": "2023-08-10T19:41:51.523095Z"
    },
    "papermill": {
     "duration": 0.110395,
     "end_time": "2023-08-10T19:41:51.526268",
     "exception": false,
     "start_time": "2023-08-10T19:41:51.415873",
     "status": "completed"
    },
    "tags": []
   },
   "outputs": [],
   "source": [
    "# voc_1gram_rfe = list(compress(voc_1gram, rfe_1_feat_mask))\n",
    "# len(voc_1gram_rfe), voc_1gram_rfe[:10]"
   ]
  },
  {
   "cell_type": "markdown",
   "id": "64cc32f7",
   "metadata": {
    "papermill": {
     "duration": 0.102435,
     "end_time": "2023-08-10T19:41:51.735208",
     "exception": false,
     "start_time": "2023-08-10T19:41:51.632773",
     "status": "completed"
    },
    "tags": []
   },
   "source": [
    "`RFE for bigrams`  "
   ]
  },
  {
   "cell_type": "code",
   "execution_count": 147,
   "id": "0d535510",
   "metadata": {
    "execution": {
     "iopub.execute_input": "2023-08-10T19:41:51.942430Z",
     "iopub.status.busy": "2023-08-10T19:41:51.941681Z",
     "iopub.status.idle": "2023-08-10T19:41:51.945840Z",
     "shell.execute_reply": "2023-08-10T19:41:51.944893Z"
    },
    "papermill": {
     "duration": 0.110915,
     "end_time": "2023-08-10T19:41:51.948365",
     "exception": false,
     "start_time": "2023-08-10T19:41:51.837450",
     "status": "completed"
    },
    "tags": []
   },
   "outputs": [],
   "source": [
    "# estimator_rfe_2 = LogisticRegression(solver='saga', max_iter=100000)\n",
    "# selector_rfe_2 = RFE(estimator_rfe_2, step=0.1, n_features_to_select=50000)"
   ]
  },
  {
   "cell_type": "code",
   "execution_count": 148,
   "id": "0a4db4e4",
   "metadata": {
    "execution": {
     "iopub.execute_input": "2023-08-10T19:41:52.156949Z",
     "iopub.status.busy": "2023-08-10T19:41:52.156512Z",
     "iopub.status.idle": "2023-08-10T19:41:52.160467Z",
     "shell.execute_reply": "2023-08-10T19:41:52.159594Z"
    },
    "papermill": {
     "duration": 0.110499,
     "end_time": "2023-08-10T19:41:52.162786",
     "exception": false,
     "start_time": "2023-08-10T19:41:52.052287",
     "status": "completed"
    },
    "tags": []
   },
   "outputs": [],
   "source": [
    "# rfe_2_feat_mask = fs_rfe(selector_rfe_2, rt_senti[\"reviewText\"], rt_senti[\"sentiment\"], ngram_range=(2,2))\n",
    "# rfe_2_feat_mask"
   ]
  },
  {
   "cell_type": "code",
   "execution_count": 149,
   "id": "31b937ab",
   "metadata": {
    "execution": {
     "iopub.execute_input": "2023-08-10T19:41:52.370610Z",
     "iopub.status.busy": "2023-08-10T19:41:52.370139Z",
     "iopub.status.idle": "2023-08-10T19:41:52.374460Z",
     "shell.execute_reply": "2023-08-10T19:41:52.373587Z"
    },
    "papermill": {
     "duration": 0.110228,
     "end_time": "2023-08-10T19:41:52.376735",
     "exception": false,
     "start_time": "2023-08-10T19:41:52.266507",
     "status": "completed"
    },
    "tags": []
   },
   "outputs": [],
   "source": [
    "# voc_2gram_rfe = list(compress(voc_2gram, rfe_2_feat_mask))\n",
    "# len(voc_2gram_rfe), voc_2gram_rfe[:10]"
   ]
  },
  {
   "cell_type": "markdown",
   "id": "5e5786db",
   "metadata": {
    "papermill": {
     "duration": 0.168693,
     "end_time": "2023-08-10T19:41:52.648757",
     "exception": false,
     "start_time": "2023-08-10T19:41:52.480064",
     "status": "completed"
    },
    "tags": []
   },
   "source": [
    "## Final RFE-derived vocabulary  "
   ]
  },
  {
   "cell_type": "code",
   "execution_count": 150,
   "id": "33394bad",
   "metadata": {
    "execution": {
     "iopub.execute_input": "2023-08-10T19:41:52.855141Z",
     "iopub.status.busy": "2023-08-10T19:41:52.854462Z",
     "iopub.status.idle": "2023-08-10T19:41:52.858839Z",
     "shell.execute_reply": "2023-08-10T19:41:52.857810Z"
    },
    "papermill": {
     "duration": 0.109969,
     "end_time": "2023-08-10T19:41:52.861090",
     "exception": false,
     "start_time": "2023-08-10T19:41:52.751121",
     "status": "completed"
    },
    "tags": []
   },
   "outputs": [],
   "source": [
    "# rfe_vocab = voc_1gram_rfe + voc_2gram_rfe\n",
    "# len(rfe_vocab), rfe_vocab[:10], rfe_vocab[-10:]"
   ]
  },
  {
   "cell_type": "code",
   "execution_count": 151,
   "id": "2074a161",
   "metadata": {
    "execution": {
     "iopub.execute_input": "2023-08-10T19:41:53.074842Z",
     "iopub.status.busy": "2023-08-10T19:41:53.073522Z",
     "iopub.status.idle": "2023-08-10T19:41:53.079303Z",
     "shell.execute_reply": "2023-08-10T19:41:53.078507Z"
    },
    "papermill": {
     "duration": 0.112301,
     "end_time": "2023-08-10T19:41:53.081613",
     "exception": false,
     "start_time": "2023-08-10T19:41:52.969312",
     "status": "completed"
    },
    "tags": []
   },
   "outputs": [],
   "source": [
    "## Test RFE obtained vocabulary in final pipeline (only with reviewText)  \n",
    "# submit_v4(selected_model=LogisticRegression(C=5, solver=\"saga\", max_iter=100000),\n",
    "#           selected_features=rt_dict,\n",
    "#           param_grid=None,\n",
    "#           vocab=rfe_vocab)"
   ]
  },
  {
   "cell_type": "markdown",
   "id": "a34031f0",
   "metadata": {
    "papermill": {
     "duration": 0.101989,
     "end_time": "2023-08-10T19:41:53.285605",
     "exception": false,
     "start_time": "2023-08-10T19:41:53.183616",
     "status": "completed"
    },
    "tags": []
   },
   "source": [
    "## Use rfe_vocab in final pipeline with all params  "
   ]
  },
  {
   "cell_type": "code",
   "execution_count": 152,
   "id": "f639683a",
   "metadata": {
    "execution": {
     "iopub.execute_input": "2023-08-10T19:41:53.491753Z",
     "iopub.status.busy": "2023-08-10T19:41:53.491001Z",
     "iopub.status.idle": "2023-08-10T19:41:53.495735Z",
     "shell.execute_reply": "2023-08-10T19:41:53.494867Z"
    },
    "papermill": {
     "duration": 0.110378,
     "end_time": "2023-08-10T19:41:53.497951",
     "exception": false,
     "start_time": "2023-08-10T19:41:53.387573",
     "status": "completed"
    },
    "tags": []
   },
   "outputs": [],
   "source": [
    "# submit_v4(selected_model=LogisticRegression(max_iter=100000),\n",
    "#           selected_features=all_dict,\n",
    "#           param_grid=param_grid,\n",
    "#           vocab=rfe_vocab)"
   ]
  },
  {
   "cell_type": "code",
   "execution_count": 153,
   "id": "5e127d24",
   "metadata": {
    "execution": {
     "iopub.execute_input": "2023-08-10T19:41:53.706357Z",
     "iopub.status.busy": "2023-08-10T19:41:53.705925Z",
     "iopub.status.idle": "2023-08-10T19:41:53.718130Z",
     "shell.execute_reply": "2023-08-10T19:41:53.717006Z"
    },
    "papermill": {
     "duration": 0.119623,
     "end_time": "2023-08-10T19:41:53.720331",
     "exception": false,
     "start_time": "2023-08-10T19:41:53.600708",
     "status": "completed"
    },
    "tags": []
   },
   "outputs": [
    {
     "data": {
      "text/html": [
       "<style>#sk-container-id-1 {color: black;background-color: white;}#sk-container-id-1 pre{padding: 0;}#sk-container-id-1 div.sk-toggleable {background-color: white;}#sk-container-id-1 label.sk-toggleable__label {cursor: pointer;display: block;width: 100%;margin-bottom: 0;padding: 0.3em;box-sizing: border-box;text-align: center;}#sk-container-id-1 label.sk-toggleable__label-arrow:before {content: \"▸\";float: left;margin-right: 0.25em;color: #696969;}#sk-container-id-1 label.sk-toggleable__label-arrow:hover:before {color: black;}#sk-container-id-1 div.sk-estimator:hover label.sk-toggleable__label-arrow:before {color: black;}#sk-container-id-1 div.sk-toggleable__content {max-height: 0;max-width: 0;overflow: hidden;text-align: left;background-color: #f0f8ff;}#sk-container-id-1 div.sk-toggleable__content pre {margin: 0.2em;color: black;border-radius: 0.25em;background-color: #f0f8ff;}#sk-container-id-1 input.sk-toggleable__control:checked~div.sk-toggleable__content {max-height: 200px;max-width: 100%;overflow: auto;}#sk-container-id-1 input.sk-toggleable__control:checked~label.sk-toggleable__label-arrow:before {content: \"▾\";}#sk-container-id-1 div.sk-estimator input.sk-toggleable__control:checked~label.sk-toggleable__label {background-color: #d4ebff;}#sk-container-id-1 div.sk-label input.sk-toggleable__control:checked~label.sk-toggleable__label {background-color: #d4ebff;}#sk-container-id-1 input.sk-hidden--visually {border: 0;clip: rect(1px 1px 1px 1px);clip: rect(1px, 1px, 1px, 1px);height: 1px;margin: -1px;overflow: hidden;padding: 0;position: absolute;width: 1px;}#sk-container-id-1 div.sk-estimator {font-family: monospace;background-color: #f0f8ff;border: 1px dotted black;border-radius: 0.25em;box-sizing: border-box;margin-bottom: 0.5em;}#sk-container-id-1 div.sk-estimator:hover {background-color: #d4ebff;}#sk-container-id-1 div.sk-parallel-item::after {content: \"\";width: 100%;border-bottom: 1px solid gray;flex-grow: 1;}#sk-container-id-1 div.sk-label:hover label.sk-toggleable__label {background-color: #d4ebff;}#sk-container-id-1 div.sk-serial::before {content: \"\";position: absolute;border-left: 1px solid gray;box-sizing: border-box;top: 0;bottom: 0;left: 50%;z-index: 0;}#sk-container-id-1 div.sk-serial {display: flex;flex-direction: column;align-items: center;background-color: white;padding-right: 0.2em;padding-left: 0.2em;position: relative;}#sk-container-id-1 div.sk-item {position: relative;z-index: 1;}#sk-container-id-1 div.sk-parallel {display: flex;align-items: stretch;justify-content: center;background-color: white;position: relative;}#sk-container-id-1 div.sk-item::before, #sk-container-id-1 div.sk-parallel-item::before {content: \"\";position: absolute;border-left: 1px solid gray;box-sizing: border-box;top: 0;bottom: 0;left: 50%;z-index: -1;}#sk-container-id-1 div.sk-parallel-item {display: flex;flex-direction: column;z-index: 1;position: relative;background-color: white;}#sk-container-id-1 div.sk-parallel-item:first-child::after {align-self: flex-end;width: 50%;}#sk-container-id-1 div.sk-parallel-item:last-child::after {align-self: flex-start;width: 50%;}#sk-container-id-1 div.sk-parallel-item:only-child::after {width: 0;}#sk-container-id-1 div.sk-dashed-wrapped {border: 1px dashed gray;margin: 0 0.4em 0.5em 0.4em;box-sizing: border-box;padding-bottom: 0.4em;background-color: white;}#sk-container-id-1 div.sk-label label {font-family: monospace;font-weight: bold;display: inline-block;line-height: 1.2em;}#sk-container-id-1 div.sk-label-container {text-align: center;}#sk-container-id-1 div.sk-container {/* jupyter's `normalize.less` sets `[hidden] { display: none; }` but bootstrap.min.css set `[hidden] { display: none !important; }` so we also need the `!important` here to be able to override the default hidden behavior on the sphinx rendered scikit-learn.org. See: https://github.com/scikit-learn/scikit-learn/issues/21755 */display: inline-block !important;position: relative;}#sk-container-id-1 div.sk-text-repr-fallback {display: none;}</style><div id=\"sk-container-id-1\" class=\"sk-top-container\"><div class=\"sk-text-repr-fallback\"><pre>AdaBoostClassifier(estimator=LogisticRegression(C=5, max_iter=100000,\n",
       "                                                solver=&#x27;saga&#x27;))</pre><b>In a Jupyter environment, please rerun this cell to show the HTML representation or trust the notebook. <br />On GitHub, the HTML representation is unable to render, please try loading this page with nbviewer.org.</b></div><div class=\"sk-container\" hidden><div class=\"sk-item sk-dashed-wrapped\"><div class=\"sk-label-container\"><div class=\"sk-label sk-toggleable\"><input class=\"sk-toggleable__control sk-hidden--visually\" id=\"sk-estimator-id-1\" type=\"checkbox\" ><label for=\"sk-estimator-id-1\" class=\"sk-toggleable__label sk-toggleable__label-arrow\">AdaBoostClassifier</label><div class=\"sk-toggleable__content\"><pre>AdaBoostClassifier(estimator=LogisticRegression(C=5, max_iter=100000,\n",
       "                                                solver=&#x27;saga&#x27;))</pre></div></div></div><div class=\"sk-parallel\"><div class=\"sk-parallel-item\"><div class=\"sk-item\"><div class=\"sk-label-container\"><div class=\"sk-label sk-toggleable\"><input class=\"sk-toggleable__control sk-hidden--visually\" id=\"sk-estimator-id-2\" type=\"checkbox\" ><label for=\"sk-estimator-id-2\" class=\"sk-toggleable__label sk-toggleable__label-arrow\">estimator: LogisticRegression</label><div class=\"sk-toggleable__content\"><pre>LogisticRegression(C=5, max_iter=100000, solver=&#x27;saga&#x27;)</pre></div></div></div><div class=\"sk-serial\"><div class=\"sk-item\"><div class=\"sk-estimator sk-toggleable\"><input class=\"sk-toggleable__control sk-hidden--visually\" id=\"sk-estimator-id-3\" type=\"checkbox\" ><label for=\"sk-estimator-id-3\" class=\"sk-toggleable__label sk-toggleable__label-arrow\">LogisticRegression</label><div class=\"sk-toggleable__content\"><pre>LogisticRegression(C=5, max_iter=100000, solver=&#x27;saga&#x27;)</pre></div></div></div></div></div></div></div></div></div></div>"
      ],
      "text/plain": [
       "AdaBoostClassifier(estimator=LogisticRegression(C=5, max_iter=100000,\n",
       "                                                solver='saga'))"
      ]
     },
     "execution_count": 153,
     "metadata": {},
     "output_type": "execute_result"
    }
   ],
   "source": [
    "adc = AdaBoostClassifier(estimator=LogisticRegression(C=5, solver=\"saga\", max_iter=100000), n_estimators=50)\n",
    "adc"
   ]
  },
  {
   "cell_type": "code",
   "execution_count": 154,
   "id": "bb5afcb5",
   "metadata": {
    "execution": {
     "iopub.execute_input": "2023-08-10T19:41:53.934397Z",
     "iopub.status.busy": "2023-08-10T19:41:53.933677Z",
     "iopub.status.idle": "2023-08-10T19:41:53.938446Z",
     "shell.execute_reply": "2023-08-10T19:41:53.937519Z"
    },
    "papermill": {
     "duration": 0.113785,
     "end_time": "2023-08-10T19:41:53.940908",
     "exception": false,
     "start_time": "2023-08-10T19:41:53.827123",
     "status": "completed"
    },
    "tags": []
   },
   "outputs": [],
   "source": [
    "# submit_v4(selected_model=adc,\n",
    "#           selected_features={'cat': ['isFrequentReviewer']},\n",
    "#           param_grid=None,\n",
    "#           vocab=rfe_vocab)"
   ]
  },
  {
   "cell_type": "code",
   "execution_count": 155,
   "id": "015c284d",
   "metadata": {
    "execution": {
     "iopub.execute_input": "2023-08-10T19:41:54.151867Z",
     "iopub.status.busy": "2023-08-10T19:41:54.151442Z",
     "iopub.status.idle": "2023-08-10T19:41:54.155424Z",
     "shell.execute_reply": "2023-08-10T19:41:54.154633Z"
    },
    "papermill": {
     "duration": 0.113469,
     "end_time": "2023-08-10T19:41:54.157425",
     "exception": false,
     "start_time": "2023-08-10T19:41:54.043956",
     "status": "completed"
    },
    "tags": []
   },
   "outputs": [],
   "source": [
    "# AdaBoost on all features with RFE vocab on reviewText\n",
    "\n",
    "# submit_v4(selected_model=adc,\n",
    "#           selected_features=all_dict,\n",
    "#           param_grid=None,\n",
    "#           vocab=rfe_vocab)"
   ]
  },
  {
   "cell_type": "code",
   "execution_count": 156,
   "id": "1ca98c75",
   "metadata": {
    "execution": {
     "iopub.execute_input": "2023-08-10T19:41:54.385673Z",
     "iopub.status.busy": "2023-08-10T19:41:54.384525Z",
     "iopub.status.idle": "2023-08-10T19:41:54.389290Z",
     "shell.execute_reply": "2023-08-10T19:41:54.388349Z"
    },
    "papermill": {
     "duration": 0.113518,
     "end_time": "2023-08-10T19:41:54.391601",
     "exception": false,
     "start_time": "2023-08-10T19:41:54.278083",
     "status": "completed"
    },
    "tags": []
   },
   "outputs": [],
   "source": [
    "# RandomForestClassifier test run on one feature\n",
    "\n",
    "# rfc_2 = RandomForestClassifier()\n",
    "# rfc_2"
   ]
  },
  {
   "cell_type": "code",
   "execution_count": 157,
   "id": "269785d0",
   "metadata": {
    "execution": {
     "iopub.execute_input": "2023-08-10T19:41:54.600789Z",
     "iopub.status.busy": "2023-08-10T19:41:54.600391Z",
     "iopub.status.idle": "2023-08-10T19:41:54.604838Z",
     "shell.execute_reply": "2023-08-10T19:41:54.603585Z"
    },
    "papermill": {
     "duration": 0.11192,
     "end_time": "2023-08-10T19:41:54.607214",
     "exception": false,
     "start_time": "2023-08-10T19:41:54.495294",
     "status": "completed"
    },
    "tags": []
   },
   "outputs": [],
   "source": [
    "# submit_v4(selected_model=rfc_2,\n",
    "#           selected_features={'txt': ['reviewerName']},\n",
    "#           param_grid=None,\n",
    "#           vocab=rfe_vocab)"
   ]
  },
  {
   "cell_type": "code",
   "execution_count": 158,
   "id": "932ded8b",
   "metadata": {
    "execution": {
     "iopub.execute_input": "2023-08-10T19:41:54.817007Z",
     "iopub.status.busy": "2023-08-10T19:41:54.816608Z",
     "iopub.status.idle": "2023-08-10T19:41:54.821146Z",
     "shell.execute_reply": "2023-08-10T19:41:54.820034Z"
    },
    "papermill": {
     "duration": 0.112312,
     "end_time": "2023-08-10T19:41:54.823554",
     "exception": false,
     "start_time": "2023-08-10T19:41:54.711242",
     "status": "completed"
    },
    "tags": []
   },
   "outputs": [],
   "source": [
    "# RandomForestClassifier on all features with RFE vocab on reviewText\n",
    "\n",
    "# submit_v4(selected_model=rfc_2,\n",
    "#           selected_features=all_dict,\n",
    "#           param_grid=None,\n",
    "#           vocab=rfe_vocab)"
   ]
  },
  {
   "cell_type": "markdown",
   "id": "68e8736c",
   "metadata": {
    "papermill": {
     "duration": 0.104023,
     "end_time": "2023-08-10T19:41:55.031267",
     "exception": false,
     "start_time": "2023-08-10T19:41:54.927244",
     "status": "completed"
    },
    "tags": []
   },
   "source": [
    "## Submit_v2 for merged file models  "
   ]
  },
  {
   "cell_type": "code",
   "execution_count": 159,
   "id": "b6bf2622",
   "metadata": {
    "execution": {
     "iopub.execute_input": "2023-08-10T19:41:55.240472Z",
     "iopub.status.busy": "2023-08-10T19:41:55.240086Z",
     "iopub.status.idle": "2023-08-10T19:41:55.245723Z",
     "shell.execute_reply": "2023-08-10T19:41:55.244816Z"
    },
    "papermill": {
     "duration": 0.113114,
     "end_time": "2023-08-10T19:41:55.247899",
     "exception": false,
     "start_time": "2023-08-10T19:41:55.134785",
     "status": "completed"
    },
    "tags": []
   },
   "outputs": [],
   "source": [
    "# def submit_v2(selected_model=pipe_final, selected_features=None):\n",
    "#     '''\n",
    "#     Note that \"selected_preprocessor\" is already used within selected_model or pipeline\n",
    "#     '''\n",
    "#     # Retrain on the whole train.csv file  \n",
    "#     merged = select_features(load_csv(\"train\"), load_csv(\"movies\"))\n",
    "#     X_train = merged.drop(labels=\"sentiment\", axis=1)\n",
    "#     y_train = merged[\"sentiment\"]\n",
    "    \n",
    "#     #Use selected features\n",
    "#     if selected_features:\n",
    "#         X_train = X_train[selected_features]\n",
    "    \n",
    "#     # Check1\n",
    "#     print(X_train.shape)\n",
    "#     print(X_train.head())\n",
    "#     try:\n",
    "#         print(selected_model.named_steps['model'].intercept_, selected_model.named_steps['model'].coef_)\n",
    "#     except:\n",
    "#         print(\"Model not trained yet!\")\n",
    "    \n",
    "#     # Fit \n",
    "#     selected_model.fit(X_train, y_train)\n",
    "    \n",
    "#     # Check2\n",
    "#     print(selected_model.named_steps['model'].intercept_, selected_model.named_steps['model'].coef_)\n",
    "    \n",
    "#     # Predict on test.csv file\n",
    "#     merged_test = select_features(load_csv(\"test\"), load_csv(\"movies\"))\n",
    "#     X_test = merged_test.copy()\n",
    "#     if selected_features:\n",
    "#         X_test = X_test[selected_features]\n",
    "    \n",
    "#     # Check3\n",
    "#     print(X_test.shape)\n",
    "#     print(X_test.head())\n",
    "    \n",
    "#     y_pred = selected_model.predict(X_test)\n",
    "    \n",
    "#     pred_df = pd.DataFrame(y_pred)\n",
    "#     pred_df.columns = [\"sentiment\"]\n",
    "#     pred_df.index.name = \"id\"\n",
    "#     pred_df.to_csv(\"submission.csv\")\n",
    "    \n",
    "#     return \"Successfully created the submission file!!!\""
   ]
  },
  {
   "cell_type": "code",
   "execution_count": 160,
   "id": "9443bf91",
   "metadata": {
    "execution": {
     "iopub.execute_input": "2023-08-10T19:41:55.455810Z",
     "iopub.status.busy": "2023-08-10T19:41:55.455165Z",
     "iopub.status.idle": "2023-08-10T19:41:55.459505Z",
     "shell.execute_reply": "2023-08-10T19:41:55.458686Z"
    },
    "papermill": {
     "duration": 0.111359,
     "end_time": "2023-08-10T19:41:55.461807",
     "exception": false,
     "start_time": "2023-08-10T19:41:55.350448",
     "status": "completed"
    },
    "tags": []
   },
   "outputs": [],
   "source": [
    "#     X_test = merged_test.copy()\n",
    "    \n",
    "#     y_pred = pipe_best4.predict(X_test)\n",
    "# #     np.unique(y_pred, return_counts=True)\n",
    "#     pred_df = pd.DataFrame(y_pred)\n",
    "#     pred_df.columns = [\"sentiment\"]\n",
    "#     pred_df.index.name = \"id\"\n",
    "#     pred_df.value_counts()"
   ]
  },
  {
   "cell_type": "code",
   "execution_count": 161,
   "id": "7e0d8dce",
   "metadata": {
    "execution": {
     "iopub.execute_input": "2023-08-10T19:41:55.671754Z",
     "iopub.status.busy": "2023-08-10T19:41:55.671331Z",
     "iopub.status.idle": "2023-08-10T19:41:55.677430Z",
     "shell.execute_reply": "2023-08-10T19:41:55.675957Z"
    },
    "papermill": {
     "duration": 0.115386,
     "end_time": "2023-08-10T19:41:55.680536",
     "exception": false,
     "start_time": "2023-08-10T19:41:55.565150",
     "status": "completed"
    },
    "tags": []
   },
   "outputs": [],
   "source": [
    "# X_test.columns"
   ]
  },
  {
   "cell_type": "markdown",
   "id": "8a4b12e2",
   "metadata": {
    "papermill": {
     "duration": 0.102464,
     "end_time": "2023-08-10T19:41:55.890220",
     "exception": false,
     "start_time": "2023-08-10T19:41:55.787756",
     "status": "completed"
    },
    "tags": []
   },
   "source": [
    "### Uncomment to submit using v2 of submit function  "
   ]
  },
  {
   "cell_type": "code",
   "execution_count": 162,
   "id": "fc8546ca",
   "metadata": {
    "execution": {
     "iopub.execute_input": "2023-08-10T19:41:56.103236Z",
     "iopub.status.busy": "2023-08-10T19:41:56.102839Z",
     "iopub.status.idle": "2023-08-10T19:41:56.107545Z",
     "shell.execute_reply": "2023-08-10T19:41:56.106316Z"
    },
    "papermill": {
     "duration": 0.112767,
     "end_time": "2023-08-10T19:41:56.110140",
     "exception": false,
     "start_time": "2023-08-10T19:41:55.997373",
     "status": "completed"
    },
    "tags": []
   },
   "outputs": [],
   "source": [
    "# best4 = [\"audienceScore\", \"rating\", \"isFrequentReviewer\", \"reviewText\"]\n",
    "# best4"
   ]
  },
  {
   "cell_type": "code",
   "execution_count": 163,
   "id": "22dd8bd3",
   "metadata": {
    "execution": {
     "iopub.execute_input": "2023-08-10T19:41:56.321257Z",
     "iopub.status.busy": "2023-08-10T19:41:56.320822Z",
     "iopub.status.idle": "2023-08-10T19:41:56.325690Z",
     "shell.execute_reply": "2023-08-10T19:41:56.324572Z"
    },
    "papermill": {
     "duration": 0.112546,
     "end_time": "2023-08-10T19:41:56.328060",
     "exception": false,
     "start_time": "2023-08-10T19:41:56.215514",
     "status": "completed"
    },
    "tags": []
   },
   "outputs": [],
   "source": [
    "# submit_v2(selected_model=pipe_RTonly, selected_features=['reviewText'])"
   ]
  },
  {
   "cell_type": "markdown",
   "id": "628252e2",
   "metadata": {
    "papermill": {
     "duration": 0.104661,
     "end_time": "2023-08-10T19:41:56.536843",
     "exception": false,
     "start_time": "2023-08-10T19:41:56.432182",
     "status": "completed"
    },
    "tags": []
   },
   "source": [
    "### Inspect the submission.csv file  "
   ]
  },
  {
   "cell_type": "code",
   "execution_count": 164,
   "id": "8a3013d5",
   "metadata": {
    "execution": {
     "iopub.execute_input": "2023-08-10T19:41:56.745480Z",
     "iopub.status.busy": "2023-08-10T19:41:56.744414Z",
     "iopub.status.idle": "2023-08-10T19:41:56.749320Z",
     "shell.execute_reply": "2023-08-10T19:41:56.748510Z"
    },
    "papermill": {
     "duration": 0.111912,
     "end_time": "2023-08-10T19:41:56.751555",
     "exception": false,
     "start_time": "2023-08-10T19:41:56.639643",
     "status": "completed"
    },
    "tags": []
   },
   "outputs": [],
   "source": [
    "# sub = pd.read_csv('submission.csv')\n",
    "# sub.shape, sub.head()"
   ]
  },
  {
   "cell_type": "code",
   "execution_count": 165,
   "id": "937a7ef4",
   "metadata": {
    "execution": {
     "iopub.execute_input": "2023-08-10T19:41:56.960313Z",
     "iopub.status.busy": "2023-08-10T19:41:56.959922Z",
     "iopub.status.idle": "2023-08-10T19:41:56.964847Z",
     "shell.execute_reply": "2023-08-10T19:41:56.963582Z"
    },
    "papermill": {
     "duration": 0.11236,
     "end_time": "2023-08-10T19:41:56.967145",
     "exception": false,
     "start_time": "2023-08-10T19:41:56.854785",
     "status": "completed"
    },
    "tags": []
   },
   "outputs": [],
   "source": [
    "# sub['sentiment'].value_counts()"
   ]
  },
  {
   "cell_type": "markdown",
   "id": "38b5f1fb",
   "metadata": {
    "papermill": {
     "duration": 0.103466,
     "end_time": "2023-08-10T19:41:57.173656",
     "exception": false,
     "start_time": "2023-08-10T19:41:57.070190",
     "status": "completed"
    },
    "tags": []
   },
   "source": [
    "## submit_v3 for merged file models - does not retrain on whole data  "
   ]
  },
  {
   "cell_type": "code",
   "execution_count": 166,
   "id": "7fa8adf0",
   "metadata": {
    "execution": {
     "iopub.execute_input": "2023-08-10T19:41:57.382186Z",
     "iopub.status.busy": "2023-08-10T19:41:57.381154Z",
     "iopub.status.idle": "2023-08-10T19:41:57.386379Z",
     "shell.execute_reply": "2023-08-10T19:41:57.385561Z"
    },
    "papermill": {
     "duration": 0.112114,
     "end_time": "2023-08-10T19:41:57.388879",
     "exception": false,
     "start_time": "2023-08-10T19:41:57.276765",
     "status": "completed"
    },
    "tags": []
   },
   "outputs": [],
   "source": [
    "# def submit_v3(selected_model=pipe_final):\n",
    "#     '''\n",
    "#     Note that \"selected_preprocessor\" is already used within selected_model or pipeline\n",
    "#     '''\n",
    "      \n",
    "#     # Predict on test.csv file\n",
    "#     merged_test = select_features(load_csv(\"test\"), load_csv(\"movies\"))\n",
    "#     X_test = merged_test.copy()\n",
    "    \n",
    "#     X_test = X_test[[\"audienceScore\", \"rating\", \"isFrequentReviewer\", \"reviewText\"]]    # This is a new line\n",
    "\n",
    "    \n",
    "#     y_pred = selected_model.predict(X_test)\n",
    "    \n",
    "#     pred_df = pd.DataFrame(y_pred)\n",
    "#     pred_df.columns = [\"sentiment\"]\n",
    "#     pred_df.index.name = \"id\"\n",
    "#     pred_df.to_csv(\"submission.csv\")\n",
    "    \n",
    "#     return \"Successfully created the submission file!!!\""
   ]
  },
  {
   "cell_type": "markdown",
   "id": "30350163",
   "metadata": {
    "papermill": {
     "duration": 0.102179,
     "end_time": "2023-08-10T19:41:57.594367",
     "exception": false,
     "start_time": "2023-08-10T19:41:57.492188",
     "status": "completed"
    },
    "tags": []
   },
   "source": [
    "### Uncomment to submit using v3 of submit function  "
   ]
  },
  {
   "cell_type": "code",
   "execution_count": 167,
   "id": "aac78cd5",
   "metadata": {
    "execution": {
     "iopub.execute_input": "2023-08-10T19:41:57.804000Z",
     "iopub.status.busy": "2023-08-10T19:41:57.803594Z",
     "iopub.status.idle": "2023-08-10T19:41:57.807766Z",
     "shell.execute_reply": "2023-08-10T19:41:57.806759Z"
    },
    "papermill": {
     "duration": 0.11132,
     "end_time": "2023-08-10T19:41:57.810069",
     "exception": false,
     "start_time": "2023-08-10T19:41:57.698749",
     "status": "completed"
    },
    "tags": []
   },
   "outputs": [],
   "source": [
    "# submit_v3(selected_model=pipe_best4)"
   ]
  },
  {
   "cell_type": "markdown",
   "id": "51b96f70",
   "metadata": {
    "papermill": {
     "duration": 0.103485,
     "end_time": "2023-08-10T19:41:58.016960",
     "exception": false,
     "start_time": "2023-08-10T19:41:57.913475",
     "status": "completed"
    },
    "tags": []
   },
   "source": [
    "## Rough work  "
   ]
  },
  {
   "cell_type": "code",
   "execution_count": 168,
   "id": "cbb1e555",
   "metadata": {
    "execution": {
     "iopub.execute_input": "2023-08-10T19:41:58.224805Z",
     "iopub.status.busy": "2023-08-10T19:41:58.224379Z",
     "iopub.status.idle": "2023-08-10T19:42:04.475357Z",
     "shell.execute_reply": "2023-08-10T19:42:04.474101Z"
    },
    "papermill": {
     "duration": 6.35817,
     "end_time": "2023-08-10T19:42:04.478201",
     "exception": false,
     "start_time": "2023-08-10T19:41:58.120031",
     "status": "completed"
    },
    "tags": []
   },
   "outputs": [],
   "source": [
    "    # Predict on test.csv file\n",
    "    merged_test = select_features(load_csv(\"test\"), load_csv(\"movies\"))\n",
    "    X_test = merged_test.copy()\n",
    "    \n",
    "    X_test = X_test[[\"audienceScore\", \"rating\", \"isFrequentReviewer\", \"reviewText\"]]    # This is a new line"
   ]
  },
  {
   "cell_type": "code",
   "execution_count": 169,
   "id": "ac3c1fe5",
   "metadata": {
    "execution": {
     "iopub.execute_input": "2023-08-10T19:42:04.690090Z",
     "iopub.status.busy": "2023-08-10T19:42:04.689374Z",
     "iopub.status.idle": "2023-08-10T19:42:04.693645Z",
     "shell.execute_reply": "2023-08-10T19:42:04.692816Z"
    },
    "papermill": {
     "duration": 0.113148,
     "end_time": "2023-08-10T19:42:04.695884",
     "exception": false,
     "start_time": "2023-08-10T19:42:04.582736",
     "status": "completed"
    },
    "tags": []
   },
   "outputs": [],
   "source": [
    "# X_test.head()"
   ]
  },
  {
   "cell_type": "code",
   "execution_count": 170,
   "id": "dc547460",
   "metadata": {
    "execution": {
     "iopub.execute_input": "2023-08-10T19:42:04.903122Z",
     "iopub.status.busy": "2023-08-10T19:42:04.902401Z",
     "iopub.status.idle": "2023-08-10T19:42:04.906354Z",
     "shell.execute_reply": "2023-08-10T19:42:04.905570Z"
    },
    "papermill": {
     "duration": 0.110321,
     "end_time": "2023-08-10T19:42:04.908746",
     "exception": false,
     "start_time": "2023-08-10T19:42:04.798425",
     "status": "completed"
    },
    "tags": []
   },
   "outputs": [],
   "source": [
    "# X_test['audienceScore'].describe()"
   ]
  },
  {
   "cell_type": "code",
   "execution_count": 171,
   "id": "44da51f2",
   "metadata": {
    "execution": {
     "iopub.execute_input": "2023-08-10T19:42:05.118737Z",
     "iopub.status.busy": "2023-08-10T19:42:05.117982Z",
     "iopub.status.idle": "2023-08-10T19:42:05.122024Z",
     "shell.execute_reply": "2023-08-10T19:42:05.121221Z"
    },
    "papermill": {
     "duration": 0.11122,
     "end_time": "2023-08-10T19:42:05.124233",
     "exception": false,
     "start_time": "2023-08-10T19:42:05.013013",
     "status": "completed"
    },
    "tags": []
   },
   "outputs": [],
   "source": [
    "# X_test['rating'].value_counts()"
   ]
  },
  {
   "cell_type": "code",
   "execution_count": 172,
   "id": "1e0cbb65",
   "metadata": {
    "execution": {
     "iopub.execute_input": "2023-08-10T19:42:05.334307Z",
     "iopub.status.busy": "2023-08-10T19:42:05.333527Z",
     "iopub.status.idle": "2023-08-10T19:42:05.337925Z",
     "shell.execute_reply": "2023-08-10T19:42:05.337058Z"
    },
    "papermill": {
     "duration": 0.111866,
     "end_time": "2023-08-10T19:42:05.340167",
     "exception": false,
     "start_time": "2023-08-10T19:42:05.228301",
     "status": "completed"
    },
    "tags": []
   },
   "outputs": [],
   "source": [
    "# X_test['isFrequentReviewer'].value_counts()"
   ]
  },
  {
   "cell_type": "markdown",
   "id": "d47fd40e",
   "metadata": {
    "papermill": {
     "duration": 0.103085,
     "end_time": "2023-08-10T19:42:05.547256",
     "exception": false,
     "start_time": "2023-08-10T19:42:05.444171",
     "status": "completed"
    },
    "tags": []
   },
   "source": [
    "## Implement KNN classifier  "
   ]
  },
  {
   "cell_type": "code",
   "execution_count": 173,
   "id": "8beac171",
   "metadata": {
    "execution": {
     "iopub.execute_input": "2023-08-10T19:42:05.759871Z",
     "iopub.status.busy": "2023-08-10T19:42:05.759090Z",
     "iopub.status.idle": "2023-08-10T19:42:05.763093Z",
     "shell.execute_reply": "2023-08-10T19:42:05.762337Z"
    },
    "papermill": {
     "duration": 0.115468,
     "end_time": "2023-08-10T19:42:05.765289",
     "exception": false,
     "start_time": "2023-08-10T19:42:05.649821",
     "status": "completed"
    },
    "tags": []
   },
   "outputs": [],
   "source": [
    "# from sklearn.neighbors import KNeighborsClassifier"
   ]
  },
  {
   "cell_type": "code",
   "execution_count": 174,
   "id": "9e4a81bc",
   "metadata": {
    "execution": {
     "iopub.execute_input": "2023-08-10T19:42:05.974791Z",
     "iopub.status.busy": "2023-08-10T19:42:05.974296Z",
     "iopub.status.idle": "2023-08-10T19:42:05.978318Z",
     "shell.execute_reply": "2023-08-10T19:42:05.977549Z"
    },
    "papermill": {
     "duration": 0.110599,
     "end_time": "2023-08-10T19:42:05.980212",
     "exception": false,
     "start_time": "2023-08-10T19:42:05.869613",
     "status": "completed"
    },
    "tags": []
   },
   "outputs": [],
   "source": [
    "# Note that we are borrowing \"ct_final\" column transformer from above  "
   ]
  },
  {
   "cell_type": "code",
   "execution_count": 175,
   "id": "99c5e781",
   "metadata": {
    "execution": {
     "iopub.execute_input": "2023-08-10T19:42:06.191268Z",
     "iopub.status.busy": "2023-08-10T19:42:06.190529Z",
     "iopub.status.idle": "2023-08-10T19:42:06.194821Z",
     "shell.execute_reply": "2023-08-10T19:42:06.193792Z"
    },
    "papermill": {
     "duration": 0.112803,
     "end_time": "2023-08-10T19:42:06.197391",
     "exception": false,
     "start_time": "2023-08-10T19:42:06.084588",
     "status": "completed"
    },
    "tags": []
   },
   "outputs": [],
   "source": [
    "# pipe_knn = Pipeline(steps=[\n",
    "#                         (\"preprocessor\", ct_final),\n",
    "#                         (\"model\", KNeighborsClassifier())\n",
    "#                     ])\n",
    "# pipe_knn"
   ]
  },
  {
   "cell_type": "code",
   "execution_count": 176,
   "id": "5f8a5a11",
   "metadata": {
    "execution": {
     "iopub.execute_input": "2023-08-10T19:42:06.408046Z",
     "iopub.status.busy": "2023-08-10T19:42:06.407277Z",
     "iopub.status.idle": "2023-08-10T19:42:06.411354Z",
     "shell.execute_reply": "2023-08-10T19:42:06.410542Z"
    },
    "papermill": {
     "duration": 0.111025,
     "end_time": "2023-08-10T19:42:06.413656",
     "exception": false,
     "start_time": "2023-08-10T19:42:06.302631",
     "status": "completed"
    },
    "tags": []
   },
   "outputs": [],
   "source": [
    "# Train and predict on merged training data  \n",
    "# split_train_predict(merged_train_features, merged_train_labels, pipe_knn, test_size=0.25, random_state=42)"
   ]
  },
  {
   "cell_type": "markdown",
   "id": "9f25b26d",
   "metadata": {
    "papermill": {
     "duration": 0.102571,
     "end_time": "2023-08-10T19:42:06.619273",
     "exception": false,
     "start_time": "2023-08-10T19:42:06.516702",
     "status": "completed"
    },
    "tags": []
   },
   "source": [
    "# Part I (Older code)  "
   ]
  },
  {
   "cell_type": "markdown",
   "id": "53404069",
   "metadata": {
    "papermill": {
     "duration": 0.102861,
     "end_time": "2023-08-10T19:42:06.826272",
     "exception": false,
     "start_time": "2023-08-10T19:42:06.723411",
     "status": "completed"
    },
    "tags": []
   },
   "source": [
    "### Logistic Regression with stop words  "
   ]
  },
  {
   "cell_type": "code",
   "execution_count": 177,
   "id": "690b9c2c",
   "metadata": {
    "execution": {
     "iopub.execute_input": "2023-08-10T19:42:07.036701Z",
     "iopub.status.busy": "2023-08-10T19:42:07.035898Z",
     "iopub.status.idle": "2023-08-10T19:42:07.040098Z",
     "shell.execute_reply": "2023-08-10T19:42:07.039234Z"
    },
    "papermill": {
     "duration": 0.111222,
     "end_time": "2023-08-10T19:42:07.042315",
     "exception": false,
     "start_time": "2023-08-10T19:42:06.931093",
     "status": "completed"
    },
    "tags": []
   },
   "outputs": [],
   "source": [
    "# tvec_sw = TfidfVectorizer(stop_words=stop_words)"
   ]
  },
  {
   "cell_type": "code",
   "execution_count": 178,
   "id": "e17378e1",
   "metadata": {
    "execution": {
     "iopub.execute_input": "2023-08-10T19:42:07.250669Z",
     "iopub.status.busy": "2023-08-10T19:42:07.249911Z",
     "iopub.status.idle": "2023-08-10T19:42:07.254242Z",
     "shell.execute_reply": "2023-08-10T19:42:07.253054Z"
    },
    "papermill": {
     "duration": 0.111337,
     "end_time": "2023-08-10T19:42:07.256878",
     "exception": false,
     "start_time": "2023-08-10T19:42:07.145541",
     "status": "completed"
    },
    "tags": []
   },
   "outputs": [],
   "source": [
    "# logreg_sw_pipe = preprocess_n_train(X_train, y_train, tvec_sw, logreg)\n",
    "# logreg_sw_pipe"
   ]
  },
  {
   "cell_type": "code",
   "execution_count": 179,
   "id": "26a1d62d",
   "metadata": {
    "execution": {
     "iopub.execute_input": "2023-08-10T19:42:07.465223Z",
     "iopub.status.busy": "2023-08-10T19:42:07.464440Z",
     "iopub.status.idle": "2023-08-10T19:42:07.468829Z",
     "shell.execute_reply": "2023-08-10T19:42:07.467910Z"
    },
    "papermill": {
     "duration": 0.111599,
     "end_time": "2023-08-10T19:42:07.471042",
     "exception": false,
     "start_time": "2023-08-10T19:42:07.359443",
     "status": "completed"
    },
    "tags": []
   },
   "outputs": [],
   "source": [
    "# y_pred_logreg_sw = predict_n_evaluate(logreg_sw_pipe, X_test, y_test)\n",
    "# y_pred_logreg_sw"
   ]
  },
  {
   "cell_type": "markdown",
   "id": "eeed48ed",
   "metadata": {
    "papermill": {
     "duration": 0.103077,
     "end_time": "2023-08-10T19:42:07.677138",
     "exception": false,
     "start_time": "2023-08-10T19:42:07.574061",
     "status": "completed"
    },
    "tags": []
   },
   "source": [
    "### Logistic regression with different ngram ranges  "
   ]
  },
  {
   "cell_type": "code",
   "execution_count": 180,
   "id": "7fb8b039",
   "metadata": {
    "execution": {
     "iopub.execute_input": "2023-08-10T19:42:07.957757Z",
     "iopub.status.busy": "2023-08-10T19:42:07.956990Z",
     "iopub.status.idle": "2023-08-10T19:42:07.961021Z",
     "shell.execute_reply": "2023-08-10T19:42:07.960200Z"
    },
    "papermill": {
     "duration": 0.180551,
     "end_time": "2023-08-10T19:42:07.963246",
     "exception": false,
     "start_time": "2023-08-10T19:42:07.782695",
     "status": "completed"
    },
    "tags": []
   },
   "outputs": [],
   "source": [
    "# tvec_ngram_2 = TfidfVectorizer(ngram_range=(1,2))"
   ]
  },
  {
   "cell_type": "code",
   "execution_count": 181,
   "id": "2b9838e2",
   "metadata": {
    "execution": {
     "iopub.execute_input": "2023-08-10T19:42:08.183863Z",
     "iopub.status.busy": "2023-08-10T19:42:08.182878Z",
     "iopub.status.idle": "2023-08-10T19:42:08.187895Z",
     "shell.execute_reply": "2023-08-10T19:42:08.186813Z"
    },
    "papermill": {
     "duration": 0.11846,
     "end_time": "2023-08-10T19:42:08.190286",
     "exception": false,
     "start_time": "2023-08-10T19:42:08.071826",
     "status": "completed"
    },
    "tags": []
   },
   "outputs": [],
   "source": [
    "# logreg_ng2_pipe = preprocess_n_train(X_train, y_train, tvec_ngram_2, logreg)\n",
    "# logreg_ng2_pipe"
   ]
  },
  {
   "cell_type": "code",
   "execution_count": 182,
   "id": "385de948",
   "metadata": {
    "execution": {
     "iopub.execute_input": "2023-08-10T19:42:08.413837Z",
     "iopub.status.busy": "2023-08-10T19:42:08.412910Z",
     "iopub.status.idle": "2023-08-10T19:42:08.417737Z",
     "shell.execute_reply": "2023-08-10T19:42:08.416710Z"
    },
    "papermill": {
     "duration": 0.119339,
     "end_time": "2023-08-10T19:42:08.420333",
     "exception": false,
     "start_time": "2023-08-10T19:42:08.300994",
     "status": "completed"
    },
    "tags": []
   },
   "outputs": [],
   "source": [
    "# y_pred_logreg_ng2 = predict_n_evaluate(logreg_ng2_pipe, X_test, y_test)\n",
    "# y_pred_logreg_ng2"
   ]
  },
  {
   "cell_type": "markdown",
   "id": "d239bb1d",
   "metadata": {
    "papermill": {
     "duration": 0.104155,
     "end_time": "2023-08-10T19:42:08.641667",
     "exception": false,
     "start_time": "2023-08-10T19:42:08.537512",
     "status": "completed"
    },
    "tags": []
   },
   "source": [
    "### Logistic regression with C=2, ngram range (1,2), stop words as None and min_df, max_df adjusted\n",
    "### Class weight balanced"
   ]
  },
  {
   "cell_type": "code",
   "execution_count": 183,
   "id": "c1bea665",
   "metadata": {
    "execution": {
     "iopub.execute_input": "2023-08-10T19:42:08.852430Z",
     "iopub.status.busy": "2023-08-10T19:42:08.852042Z",
     "iopub.status.idle": "2023-08-10T19:42:08.856781Z",
     "shell.execute_reply": "2023-08-10T19:42:08.855674Z"
    },
    "papermill": {
     "duration": 0.111792,
     "end_time": "2023-08-10T19:42:08.859053",
     "exception": false,
     "start_time": "2023-08-10T19:42:08.747261",
     "status": "completed"
    },
    "tags": []
   },
   "outputs": [],
   "source": [
    "# logreg = LogisticRegression(max_iter=100000, C=2, class_weight=\"balanced\")"
   ]
  },
  {
   "cell_type": "code",
   "execution_count": 184,
   "id": "63c66674",
   "metadata": {
    "execution": {
     "iopub.execute_input": "2023-08-10T19:42:09.069779Z",
     "iopub.status.busy": "2023-08-10T19:42:09.069372Z",
     "iopub.status.idle": "2023-08-10T19:42:09.074113Z",
     "shell.execute_reply": "2023-08-10T19:42:09.072938Z"
    },
    "papermill": {
     "duration": 0.114042,
     "end_time": "2023-08-10T19:42:09.076427",
     "exception": false,
     "start_time": "2023-08-10T19:42:08.962385",
     "status": "completed"
    },
    "tags": []
   },
   "outputs": [],
   "source": [
    "# tvec_ngram_2_sw_df = TfidfVectorizer(ngram_range=(1,2), stop_words=None, min_df=0.0001, max_df=0.50)\n",
    "# tvec_ngram_2_sw_df"
   ]
  },
  {
   "cell_type": "code",
   "execution_count": 185,
   "id": "f8e6d552",
   "metadata": {
    "execution": {
     "iopub.execute_input": "2023-08-10T19:42:09.284303Z",
     "iopub.status.busy": "2023-08-10T19:42:09.283903Z",
     "iopub.status.idle": "2023-08-10T19:42:09.288530Z",
     "shell.execute_reply": "2023-08-10T19:42:09.287371Z"
    },
    "papermill": {
     "duration": 0.11191,
     "end_time": "2023-08-10T19:42:09.291150",
     "exception": false,
     "start_time": "2023-08-10T19:42:09.179240",
     "status": "completed"
    },
    "tags": []
   },
   "outputs": [],
   "source": [
    "# logreg_ng2_sw_df_pipe = preprocess_n_train(X_train, y_train, tvec_ngram_2_sw_df, logreg)\n",
    "# logreg_ng2_sw_df_pipe"
   ]
  },
  {
   "cell_type": "code",
   "execution_count": 186,
   "id": "4369a732",
   "metadata": {
    "execution": {
     "iopub.execute_input": "2023-08-10T19:42:09.499241Z",
     "iopub.status.busy": "2023-08-10T19:42:09.498271Z",
     "iopub.status.idle": "2023-08-10T19:42:09.503524Z",
     "shell.execute_reply": "2023-08-10T19:42:09.502570Z"
    },
    "papermill": {
     "duration": 0.112026,
     "end_time": "2023-08-10T19:42:09.505885",
     "exception": false,
     "start_time": "2023-08-10T19:42:09.393859",
     "status": "completed"
    },
    "tags": []
   },
   "outputs": [],
   "source": [
    "# y_pred_logreg_ng2_sw_df = predict_n_evaluate(logreg_ng2_sw_df_pipe, X_test, y_test)\n",
    "# y_pred_logreg_ng2_sw_df"
   ]
  },
  {
   "cell_type": "markdown",
   "id": "98be8152",
   "metadata": {
    "papermill": {
     "duration": 0.108662,
     "end_time": "2023-08-10T19:42:09.718004",
     "exception": false,
     "start_time": "2023-08-10T19:42:09.609342",
     "status": "completed"
    },
    "tags": []
   },
   "source": [
    "### Log reg with parameters from GridSearchCV  \n",
    "\n",
    "`This is the best score with \"reviewText column alone for analysis`  "
   ]
  },
  {
   "cell_type": "code",
   "execution_count": 187,
   "id": "d5dffe99",
   "metadata": {
    "execution": {
     "iopub.execute_input": "2023-08-10T19:42:09.928868Z",
     "iopub.status.busy": "2023-08-10T19:42:09.928466Z",
     "iopub.status.idle": "2023-08-10T19:42:09.934499Z",
     "shell.execute_reply": "2023-08-10T19:42:09.933282Z"
    },
    "papermill": {
     "duration": 0.114416,
     "end_time": "2023-08-10T19:42:09.936758",
     "exception": false,
     "start_time": "2023-08-10T19:42:09.822342",
     "status": "completed"
    },
    "tags": []
   },
   "outputs": [],
   "source": [
    "logreg_cv1 = LogisticRegression(max_iter=100000, C=10)\n",
    "tvec_cv1 = TfidfVectorizer(max_features=None, ngram_range=(1,2))"
   ]
  },
  {
   "cell_type": "code",
   "execution_count": 188,
   "id": "49b983b4",
   "metadata": {
    "execution": {
     "iopub.execute_input": "2023-08-10T19:42:10.146689Z",
     "iopub.status.busy": "2023-08-10T19:42:10.146224Z",
     "iopub.status.idle": "2023-08-10T19:42:10.151615Z",
     "shell.execute_reply": "2023-08-10T19:42:10.150594Z"
    },
    "papermill": {
     "duration": 0.114346,
     "end_time": "2023-08-10T19:42:10.154127",
     "exception": false,
     "start_time": "2023-08-10T19:42:10.039781",
     "status": "completed"
    },
    "tags": []
   },
   "outputs": [],
   "source": [
    "pipe_cv1 = Pipeline(steps=[\n",
    "    (\"preprocessor\", tvec_cv1),\n",
    "    (\"model\", logreg_cv1)\n",
    "])"
   ]
  },
  {
   "cell_type": "code",
   "execution_count": 189,
   "id": "b81e79d2",
   "metadata": {
    "execution": {
     "iopub.execute_input": "2023-08-10T19:42:10.361034Z",
     "iopub.status.busy": "2023-08-10T19:42:10.360601Z",
     "iopub.status.idle": "2023-08-10T19:42:10.365010Z",
     "shell.execute_reply": "2023-08-10T19:42:10.363995Z"
    },
    "papermill": {
     "duration": 0.11025,
     "end_time": "2023-08-10T19:42:10.367231",
     "exception": false,
     "start_time": "2023-08-10T19:42:10.256981",
     "status": "completed"
    },
    "tags": []
   },
   "outputs": [],
   "source": [
    "# pipe_cv1.fit(X_train, y_train)"
   ]
  },
  {
   "cell_type": "code",
   "execution_count": 190,
   "id": "5260a6c5",
   "metadata": {
    "execution": {
     "iopub.execute_input": "2023-08-10T19:42:10.575512Z",
     "iopub.status.busy": "2023-08-10T19:42:10.575103Z",
     "iopub.status.idle": "2023-08-10T19:42:10.579772Z",
     "shell.execute_reply": "2023-08-10T19:42:10.578677Z"
    },
    "papermill": {
     "duration": 0.111459,
     "end_time": "2023-08-10T19:42:10.582015",
     "exception": false,
     "start_time": "2023-08-10T19:42:10.470556",
     "status": "completed"
    },
    "tags": []
   },
   "outputs": [],
   "source": [
    "# pipe_cv1.score(X_train, y_train)"
   ]
  },
  {
   "cell_type": "markdown",
   "id": "0d0575c2",
   "metadata": {
    "papermill": {
     "duration": 0.104004,
     "end_time": "2023-08-10T19:42:10.788873",
     "exception": false,
     "start_time": "2023-08-10T19:42:10.684869",
     "status": "completed"
    },
    "tags": []
   },
   "source": [
    "### SVM model with stop words  "
   ]
  },
  {
   "cell_type": "code",
   "execution_count": 191,
   "id": "64f852f7",
   "metadata": {
    "execution": {
     "iopub.execute_input": "2023-08-10T19:42:11.001671Z",
     "iopub.status.busy": "2023-08-10T19:42:11.001216Z",
     "iopub.status.idle": "2023-08-10T19:42:11.006805Z",
     "shell.execute_reply": "2023-08-10T19:42:11.005559Z"
    },
    "papermill": {
     "duration": 0.115488,
     "end_time": "2023-08-10T19:42:11.009769",
     "exception": false,
     "start_time": "2023-08-10T19:42:10.894281",
     "status": "completed"
    },
    "tags": []
   },
   "outputs": [],
   "source": [
    "# svm_sw_pipe = preprocess_n_train(X_train, y_train, tvec_sw, svm)\n",
    "# svm_sw_pipe"
   ]
  },
  {
   "cell_type": "code",
   "execution_count": 192,
   "id": "1b51cfa5",
   "metadata": {
    "execution": {
     "iopub.execute_input": "2023-08-10T19:42:11.225974Z",
     "iopub.status.busy": "2023-08-10T19:42:11.225587Z",
     "iopub.status.idle": "2023-08-10T19:42:11.229605Z",
     "shell.execute_reply": "2023-08-10T19:42:11.228612Z"
    },
    "papermill": {
     "duration": 0.116443,
     "end_time": "2023-08-10T19:42:11.231849",
     "exception": false,
     "start_time": "2023-08-10T19:42:11.115406",
     "status": "completed"
    },
    "tags": []
   },
   "outputs": [],
   "source": [
    "# y_pred_svm_sw = predict_n_evaluate(svm_sw_pipe, X_test, y_test)\n",
    "# y_pred_svm_sw"
   ]
  },
  {
   "cell_type": "markdown",
   "id": "60d6e3bb",
   "metadata": {
    "papermill": {
     "duration": 0.106366,
     "end_time": "2023-08-10T19:42:11.442645",
     "exception": false,
     "start_time": "2023-08-10T19:42:11.336279",
     "status": "completed"
    },
    "tags": []
   },
   "source": [
    "### GaussianNB  "
   ]
  },
  {
   "cell_type": "markdown",
   "id": "bf4c2d32",
   "metadata": {
    "papermill": {
     "duration": 0.103166,
     "end_time": "2023-08-10T19:42:11.649116",
     "exception": false,
     "start_time": "2023-08-10T19:42:11.545950",
     "status": "completed"
    },
    "tags": []
   },
   "source": [
    "https://stackoverflow.com/questions/28384680/scikit-learns-pipeline-a-sparse-matrix-was-passed-but-dense-data-is-required"
   ]
  },
  {
   "cell_type": "code",
   "execution_count": 193,
   "id": "381d425c",
   "metadata": {
    "execution": {
     "iopub.execute_input": "2023-08-10T19:42:11.928637Z",
     "iopub.status.busy": "2023-08-10T19:42:11.928183Z",
     "iopub.status.idle": "2023-08-10T19:42:11.933163Z",
     "shell.execute_reply": "2023-08-10T19:42:11.932057Z"
    },
    "papermill": {
     "duration": 0.113873,
     "end_time": "2023-08-10T19:42:11.935326",
     "exception": false,
     "start_time": "2023-08-10T19:42:11.821453",
     "status": "completed"
    },
    "tags": []
   },
   "outputs": [],
   "source": [
    "# gnb = GaussianNB()\n",
    "# gnb"
   ]
  },
  {
   "cell_type": "code",
   "execution_count": 194,
   "id": "08791667",
   "metadata": {
    "execution": {
     "iopub.execute_input": "2023-08-10T19:42:12.146001Z",
     "iopub.status.busy": "2023-08-10T19:42:12.144841Z",
     "iopub.status.idle": "2023-08-10T19:42:12.149843Z",
     "shell.execute_reply": "2023-08-10T19:42:12.148972Z"
    },
    "papermill": {
     "duration": 0.112213,
     "end_time": "2023-08-10T19:42:12.152073",
     "exception": false,
     "start_time": "2023-08-10T19:42:12.039860",
     "status": "completed"
    },
    "tags": []
   },
   "outputs": [],
   "source": [
    "# gnb_pipe = preprocess_n_train(X_train, y_train, tvec, gnb)\n",
    "# gnb_pipe"
   ]
  },
  {
   "cell_type": "markdown",
   "id": "a1ee32df",
   "metadata": {
    "papermill": {
     "duration": 0.106005,
     "end_time": "2023-08-10T19:42:12.362703",
     "exception": false,
     "start_time": "2023-08-10T19:42:12.256698",
     "status": "completed"
    },
    "tags": []
   },
   "source": [
    "# Part II (Older code)  \n"
   ]
  },
  {
   "cell_type": "markdown",
   "id": "b4f99aaa",
   "metadata": {
    "papermill": {
     "duration": 0.103402,
     "end_time": "2023-08-10T19:42:12.569721",
     "exception": false,
     "start_time": "2023-08-10T19:42:12.466319",
     "status": "completed"
    },
    "tags": []
   },
   "source": [
    "### Separate features and labels from merged dataset  "
   ]
  },
  {
   "cell_type": "code",
   "execution_count": 195,
   "id": "cf8aebcb",
   "metadata": {
    "execution": {
     "iopub.execute_input": "2023-08-10T19:42:12.780618Z",
     "iopub.status.busy": "2023-08-10T19:42:12.780167Z",
     "iopub.status.idle": "2023-08-10T19:42:12.784948Z",
     "shell.execute_reply": "2023-08-10T19:42:12.783795Z"
    },
    "papermill": {
     "duration": 0.114298,
     "end_time": "2023-08-10T19:42:12.787294",
     "exception": false,
     "start_time": "2023-08-10T19:42:12.672996",
     "status": "completed"
    },
    "tags": []
   },
   "outputs": [],
   "source": [
    "# merged_train_features = merged[['movieid', 'reviewerName', 'isFrequentReviewer', 'reviewText',\n",
    "#        'audienceScore', 'rating', 'runtimeMinutes', 'genre',\n",
    "#        'originalLanguage', 'director']]\n",
    "# merged_train_features.shape"
   ]
  },
  {
   "cell_type": "code",
   "execution_count": 196,
   "id": "0f71750a",
   "metadata": {
    "execution": {
     "iopub.execute_input": "2023-08-10T19:42:12.999291Z",
     "iopub.status.busy": "2023-08-10T19:42:12.998522Z",
     "iopub.status.idle": "2023-08-10T19:42:13.003342Z",
     "shell.execute_reply": "2023-08-10T19:42:13.002220Z"
    },
    "papermill": {
     "duration": 0.113499,
     "end_time": "2023-08-10T19:42:13.005900",
     "exception": false,
     "start_time": "2023-08-10T19:42:12.892401",
     "status": "completed"
    },
    "tags": []
   },
   "outputs": [],
   "source": [
    "# merged_train_labels = merged[\"sentiment\"]\n",
    "# merged_train_labels.shape"
   ]
  },
  {
   "cell_type": "markdown",
   "id": "941c3c3a",
   "metadata": {
    "papermill": {
     "duration": 0.102586,
     "end_time": "2023-08-10T19:42:13.211518",
     "exception": false,
     "start_time": "2023-08-10T19:42:13.108932",
     "status": "completed"
    },
    "tags": []
   },
   "source": [
    "### Identify variable types for different preprocessing pipes  "
   ]
  },
  {
   "cell_type": "code",
   "execution_count": 197,
   "id": "bd62bf41",
   "metadata": {
    "execution": {
     "iopub.execute_input": "2023-08-10T19:42:13.424543Z",
     "iopub.status.busy": "2023-08-10T19:42:13.423760Z",
     "iopub.status.idle": "2023-08-10T19:42:13.428214Z",
     "shell.execute_reply": "2023-08-10T19:42:13.427020Z"
    },
    "papermill": {
     "duration": 0.113692,
     "end_time": "2023-08-10T19:42:13.430652",
     "exception": false,
     "start_time": "2023-08-10T19:42:13.316960",
     "status": "completed"
    },
    "tags": []
   },
   "outputs": [],
   "source": [
    "# num_vars = [\"audienceScore\", \"runtimeMinutes\"]\n",
    "# txt_vars = [\"originalLanguage\", \"genre\", \"director\", \"reviewerName\", \"reviewText\"]\n",
    "# cat_vars = [\"rating\", \"isFrequentReviewer\"]"
   ]
  },
  {
   "cell_type": "code",
   "execution_count": 198,
   "id": "d945aa97",
   "metadata": {
    "execution": {
     "iopub.execute_input": "2023-08-10T19:42:13.638538Z",
     "iopub.status.busy": "2023-08-10T19:42:13.638089Z",
     "iopub.status.idle": "2023-08-10T19:42:13.642868Z",
     "shell.execute_reply": "2023-08-10T19:42:13.641849Z"
    },
    "papermill": {
     "duration": 0.11173,
     "end_time": "2023-08-10T19:42:13.645046",
     "exception": false,
     "start_time": "2023-08-10T19:42:13.533316",
     "status": "completed"
    },
    "tags": []
   },
   "outputs": [],
   "source": [
    "# num_pipe = Pipeline(steps=[\n",
    "#                             (\"imputer\", SimpleImputer(strategy=\"mean\", missing_values=np.nan)),\n",
    "#                             (\"scaler\", MinMaxScaler())\n",
    "#                         ])\n",
    "# num_pipe"
   ]
  },
  {
   "cell_type": "code",
   "execution_count": 199,
   "id": "d9895dc1",
   "metadata": {
    "execution": {
     "iopub.execute_input": "2023-08-10T19:42:13.856370Z",
     "iopub.status.busy": "2023-08-10T19:42:13.855143Z",
     "iopub.status.idle": "2023-08-10T19:42:13.860291Z",
     "shell.execute_reply": "2023-08-10T19:42:13.859519Z"
    },
    "papermill": {
     "duration": 0.112168,
     "end_time": "2023-08-10T19:42:13.862445",
     "exception": false,
     "start_time": "2023-08-10T19:42:13.750277",
     "status": "completed"
    },
    "tags": []
   },
   "outputs": [],
   "source": [
    "# txt_pipe = Pipeline(steps=[\n",
    "#                             (\"tvec\", TfidfVectorizer())\n",
    "#                         ])\n",
    "# txt_pipe"
   ]
  },
  {
   "cell_type": "code",
   "execution_count": 200,
   "id": "dcfaa62b",
   "metadata": {
    "execution": {
     "iopub.execute_input": "2023-08-10T19:42:14.075437Z",
     "iopub.status.busy": "2023-08-10T19:42:14.075048Z",
     "iopub.status.idle": "2023-08-10T19:42:14.079399Z",
     "shell.execute_reply": "2023-08-10T19:42:14.078330Z"
    },
    "papermill": {
     "duration": 0.114076,
     "end_time": "2023-08-10T19:42:14.081841",
     "exception": false,
     "start_time": "2023-08-10T19:42:13.967765",
     "status": "completed"
    },
    "tags": []
   },
   "outputs": [],
   "source": [
    "# cat_pipe = Pipeline(steps=[\n",
    "#                             (\"ohe\", OneHotEncoder(handle_unknown=\"ignore\"))\n",
    "#                         ])\n",
    "# cat_pipe"
   ]
  },
  {
   "cell_type": "code",
   "execution_count": 201,
   "id": "5da96a15",
   "metadata": {
    "execution": {
     "iopub.execute_input": "2023-08-10T19:42:14.310592Z",
     "iopub.status.busy": "2023-08-10T19:42:14.309917Z",
     "iopub.status.idle": "2023-08-10T19:42:14.313682Z",
     "shell.execute_reply": "2023-08-10T19:42:14.312908Z"
    },
    "papermill": {
     "duration": 0.131376,
     "end_time": "2023-08-10T19:42:14.315906",
     "exception": false,
     "start_time": "2023-08-10T19:42:14.184530",
     "status": "completed"
    },
    "tags": []
   },
   "outputs": [],
   "source": [
    "# tfidf_vec_1 = TfidfVectorizer(ngram_range=(1,2))\n",
    "# tfidf_vec_1"
   ]
  },
  {
   "cell_type": "code",
   "execution_count": 202,
   "id": "1b53a1bb",
   "metadata": {
    "execution": {
     "iopub.execute_input": "2023-08-10T19:42:14.524397Z",
     "iopub.status.busy": "2023-08-10T19:42:14.523802Z",
     "iopub.status.idle": "2023-08-10T19:42:14.528406Z",
     "shell.execute_reply": "2023-08-10T19:42:14.527616Z"
    },
    "papermill": {
     "duration": 0.11124,
     "end_time": "2023-08-10T19:42:14.530616",
     "exception": false,
     "start_time": "2023-08-10T19:42:14.419376",
     "status": "completed"
    },
    "tags": []
   },
   "outputs": [],
   "source": [
    "# ct_final = ColumnTransformer(transformers=[\n",
    "#                                         (\"num\", num_pipe, num_vars),\n",
    "#                                         (\"txt1\", txt_pipe, \"originalLanguage\"),\n",
    "#                                         (\"txt2\", txt_pipe, \"genre\"),\n",
    "#                                         (\"txt3\", txt_pipe, \"director\"),\n",
    "#                                         (\"cat\", cat_pipe, cat_vars),\n",
    "#                                         (\"txt4a\", tfidf_vec_1, \"reviewText\")\n",
    "# #                                         (\"txt4\", TfidfVectorizer(ngram_range=(1,2)), \"reviewText\"),\n",
    "# #                                         (\"cat2\", cat_pipe, [\"isFrequentReviewer\"])\n",
    "#                                         ], remainder=\"drop\", n_jobs=1)\n",
    "\n",
    "# # Note that this transformer drops \"movieid\" column and \"reviewerName\" column  \n",
    "# ct_final"
   ]
  },
  {
   "cell_type": "code",
   "execution_count": 203,
   "id": "b4199f13",
   "metadata": {
    "execution": {
     "iopub.execute_input": "2023-08-10T19:42:14.742239Z",
     "iopub.status.busy": "2023-08-10T19:42:14.741444Z",
     "iopub.status.idle": "2023-08-10T19:42:14.745826Z",
     "shell.execute_reply": "2023-08-10T19:42:14.744887Z"
    },
    "papermill": {
     "duration": 0.114971,
     "end_time": "2023-08-10T19:42:14.748021",
     "exception": false,
     "start_time": "2023-08-10T19:42:14.633050",
     "status": "completed"
    },
    "tags": []
   },
   "outputs": [],
   "source": [
    "# pipe_final = Pipeline(steps=[\n",
    "#                         (\"preprocessor\", ct_final),\n",
    "#                         (\"model\", LogisticRegression(max_iter=100000))\n",
    "#                     ])\n",
    "# pipe_final"
   ]
  },
  {
   "cell_type": "code",
   "execution_count": 204,
   "id": "62f2dddd",
   "metadata": {
    "execution": {
     "iopub.execute_input": "2023-08-10T19:42:14.957877Z",
     "iopub.status.busy": "2023-08-10T19:42:14.957442Z",
     "iopub.status.idle": "2023-08-10T19:42:14.961874Z",
     "shell.execute_reply": "2023-08-10T19:42:14.960743Z"
    },
    "papermill": {
     "duration": 0.112734,
     "end_time": "2023-08-10T19:42:14.964007",
     "exception": false,
     "start_time": "2023-08-10T19:42:14.851273",
     "status": "completed"
    },
    "tags": []
   },
   "outputs": [],
   "source": [
    "# final_vars = num_vars + txt_vars + cat_vars\n",
    "# len(final_vars), final_vars"
   ]
  },
  {
   "cell_type": "markdown",
   "id": "0179245e",
   "metadata": {
    "papermill": {
     "duration": 0.102065,
     "end_time": "2023-08-10T19:42:15.168590",
     "exception": false,
     "start_time": "2023-08-10T19:42:15.066525",
     "status": "completed"
    },
    "tags": []
   },
   "source": [
    "### Use \"split_train_predict\" function to run end-to-end pipeline  "
   ]
  },
  {
   "cell_type": "code",
   "execution_count": 205,
   "id": "6c8306c8",
   "metadata": {
    "execution": {
     "iopub.execute_input": "2023-08-10T19:42:15.376663Z",
     "iopub.status.busy": "2023-08-10T19:42:15.376187Z",
     "iopub.status.idle": "2023-08-10T19:42:15.381177Z",
     "shell.execute_reply": "2023-08-10T19:42:15.380026Z"
    },
    "papermill": {
     "duration": 0.111177,
     "end_time": "2023-08-10T19:42:15.383731",
     "exception": false,
     "start_time": "2023-08-10T19:42:15.272554",
     "status": "completed"
    },
    "tags": []
   },
   "outputs": [],
   "source": [
    "# split_train_predict(merged_train_features, merged_train_labels, pipe_final, test_size=0.25, random_state=42)"
   ]
  },
  {
   "cell_type": "markdown",
   "id": "a8844639",
   "metadata": {
    "papermill": {
     "duration": 0.103487,
     "end_time": "2023-08-10T19:42:15.592292",
     "exception": false,
     "start_time": "2023-08-10T19:42:15.488805",
     "status": "completed"
    },
    "tags": []
   },
   "source": [
    "## Try the best four features obtained on local machine  "
   ]
  },
  {
   "cell_type": "code",
   "execution_count": 206,
   "id": "11a77198",
   "metadata": {
    "execution": {
     "iopub.execute_input": "2023-08-10T19:42:15.801801Z",
     "iopub.status.busy": "2023-08-10T19:42:15.800662Z",
     "iopub.status.idle": "2023-08-10T19:42:15.805662Z",
     "shell.execute_reply": "2023-08-10T19:42:15.804708Z"
    },
    "papermill": {
     "duration": 0.113392,
     "end_time": "2023-08-10T19:42:15.808118",
     "exception": false,
     "start_time": "2023-08-10T19:42:15.694726",
     "status": "completed"
    },
    "tags": []
   },
   "outputs": [],
   "source": [
    "# tfidf_vec_2 = TfidfVectorizer(ngram_range=(1,2))\n",
    "# tfidf_vec_2"
   ]
  },
  {
   "cell_type": "code",
   "execution_count": 207,
   "id": "1c8ff082",
   "metadata": {
    "execution": {
     "iopub.execute_input": "2023-08-10T19:42:16.019685Z",
     "iopub.status.busy": "2023-08-10T19:42:16.018900Z",
     "iopub.status.idle": "2023-08-10T19:42:16.024117Z",
     "shell.execute_reply": "2023-08-10T19:42:16.023254Z"
    },
    "papermill": {
     "duration": 0.114601,
     "end_time": "2023-08-10T19:42:16.026569",
     "exception": false,
     "start_time": "2023-08-10T19:42:15.911968",
     "status": "completed"
    },
    "tags": []
   },
   "outputs": [],
   "source": [
    "# ct_best4 = ColumnTransformer(transformers=[\n",
    "#                                             (\"num\", num_pipe, [\"audienceScore\"]),\n",
    "#                                             (\"cat\", cat_pipe, [\"rating\", \"isFrequentReviewer\"]),\n",
    "#                                             (\"tvec\", tfidf_vec_2, \"reviewText\")\n",
    "#                             ])\n",
    "\n",
    "# pipe_best4 = Pipeline(steps=[\n",
    "#     (\"preprocessor\", ct_best4),\n",
    "#     (\"model\", LogisticRegression())\n",
    "# ])\n",
    "\n",
    "# pipe_best4.set_params(model__C=10, model__max_iter=100000)\n",
    "\n",
    "# pipe_best4"
   ]
  },
  {
   "cell_type": "code",
   "execution_count": 208,
   "id": "09ea8858",
   "metadata": {
    "execution": {
     "iopub.execute_input": "2023-08-10T19:42:16.237215Z",
     "iopub.status.busy": "2023-08-10T19:42:16.236362Z",
     "iopub.status.idle": "2023-08-10T19:42:16.241412Z",
     "shell.execute_reply": "2023-08-10T19:42:16.240636Z"
    },
    "papermill": {
     "duration": 0.114162,
     "end_time": "2023-08-10T19:42:16.243762",
     "exception": false,
     "start_time": "2023-08-10T19:42:16.129600",
     "status": "completed"
    },
    "tags": []
   },
   "outputs": [],
   "source": [
    "# split_train_predict(merged[[\"audienceScore\", \"rating\", \"isFrequentReviewer\", \"reviewText\"]], merged[\"sentiment\"], pipe_best4, test_size=0.25)"
   ]
  },
  {
   "cell_type": "markdown",
   "id": "22b3b9d4",
   "metadata": {
    "papermill": {
     "duration": 0.169162,
     "end_time": "2023-08-10T19:42:16.517510",
     "exception": false,
     "start_time": "2023-08-10T19:42:16.348348",
     "status": "completed"
    },
    "tags": []
   },
   "source": [
    "## Try only 'reviewText' column  "
   ]
  },
  {
   "cell_type": "code",
   "execution_count": 209,
   "id": "5029ef72",
   "metadata": {
    "execution": {
     "iopub.execute_input": "2023-08-10T19:42:16.725380Z",
     "iopub.status.busy": "2023-08-10T19:42:16.724567Z",
     "iopub.status.idle": "2023-08-10T19:42:16.729313Z",
     "shell.execute_reply": "2023-08-10T19:42:16.728439Z"
    },
    "papermill": {
     "duration": 0.111361,
     "end_time": "2023-08-10T19:42:16.731693",
     "exception": false,
     "start_time": "2023-08-10T19:42:16.620332",
     "status": "completed"
    },
    "tags": []
   },
   "outputs": [],
   "source": [
    "# tfidf_vec_3 = TfidfVectorizer(ngram_range=(1,2))\n",
    "# tfidf_vec_3"
   ]
  },
  {
   "cell_type": "code",
   "execution_count": 210,
   "id": "890aedad",
   "metadata": {
    "execution": {
     "iopub.execute_input": "2023-08-10T19:42:16.941738Z",
     "iopub.status.busy": "2023-08-10T19:42:16.940936Z",
     "iopub.status.idle": "2023-08-10T19:42:16.945711Z",
     "shell.execute_reply": "2023-08-10T19:42:16.944898Z"
    },
    "papermill": {
     "duration": 0.112754,
     "end_time": "2023-08-10T19:42:16.948002",
     "exception": false,
     "start_time": "2023-08-10T19:42:16.835248",
     "status": "completed"
    },
    "tags": []
   },
   "outputs": [],
   "source": [
    "# ct_RTonly = ColumnTransformer(transformers=[\n",
    "#                                             ('txt', tfidf_vec_3, 'reviewText'),\n",
    "#                                             ], remainder='drop')\n",
    "# ct_RTonly"
   ]
  },
  {
   "cell_type": "code",
   "execution_count": 211,
   "id": "afd33980",
   "metadata": {
    "execution": {
     "iopub.execute_input": "2023-08-10T19:42:17.157275Z",
     "iopub.status.busy": "2023-08-10T19:42:17.156469Z",
     "iopub.status.idle": "2023-08-10T19:42:17.161316Z",
     "shell.execute_reply": "2023-08-10T19:42:17.160542Z"
    },
    "papermill": {
     "duration": 0.110706,
     "end_time": "2023-08-10T19:42:17.163549",
     "exception": false,
     "start_time": "2023-08-10T19:42:17.052843",
     "status": "completed"
    },
    "tags": []
   },
   "outputs": [],
   "source": [
    "# pipe_RTonly = Pipeline(steps=[\n",
    "#     (\"preprocessor\", ct_RTonly),\n",
    "#     (\"model\", LogisticRegression())\n",
    "# ])\n",
    "\n",
    "# pipe_RTonly.set_params(model__C=10, model__max_iter=100000)\n",
    "\n",
    "# pipe_RTonly"
   ]
  },
  {
   "cell_type": "markdown",
   "id": "0187427c",
   "metadata": {
    "papermill": {
     "duration": 0.103492,
     "end_time": "2023-08-10T19:42:17.369605",
     "exception": false,
     "start_time": "2023-08-10T19:42:17.266113",
     "status": "completed"
    },
    "tags": []
   },
   "source": [
    "## Using the 'submit_v4' function  "
   ]
  },
  {
   "cell_type": "markdown",
   "id": "ebf9275c",
   "metadata": {
    "papermill": {
     "duration": 0.103291,
     "end_time": "2023-08-10T19:42:17.575420",
     "exception": false,
     "start_time": "2023-08-10T19:42:17.472129",
     "status": "completed"
    },
    "tags": []
   },
   "source": [
    "### Try the best 4 parameters with submit_v4 function"
   ]
  },
  {
   "cell_type": "code",
   "execution_count": 212,
   "id": "be41dc71",
   "metadata": {
    "execution": {
     "iopub.execute_input": "2023-08-10T19:42:17.783509Z",
     "iopub.status.busy": "2023-08-10T19:42:17.782850Z",
     "iopub.status.idle": "2023-08-10T19:42:17.787546Z",
     "shell.execute_reply": "2023-08-10T19:42:17.786753Z"
    },
    "papermill": {
     "duration": 0.111866,
     "end_time": "2023-08-10T19:42:17.789710",
     "exception": false,
     "start_time": "2023-08-10T19:42:17.677844",
     "status": "completed"
    },
    "tags": []
   },
   "outputs": [],
   "source": [
    "# best4 = [\"audienceScore\", \"rating\", \"isFrequentReviewer\", \"reviewText\"]\n",
    "\n",
    "# best4_dict = {'cat': [\"rating\", \"isFrequentReviewer\"],\n",
    "#              'num': [\"audienceScore\"],\n",
    "#              'txt': ['reviewText']}\n",
    "\n",
    "# best4_dict = {'num': [\"audienceScore\"],\n",
    "#              'txt': ['reviewText', 'movieid', 'director']}\n",
    "\n",
    "# best4_dict"
   ]
  },
  {
   "cell_type": "code",
   "execution_count": 213,
   "id": "b34afe8c",
   "metadata": {
    "execution": {
     "iopub.execute_input": "2023-08-10T19:42:17.999309Z",
     "iopub.status.busy": "2023-08-10T19:42:17.998621Z",
     "iopub.status.idle": "2023-08-10T19:42:18.003809Z",
     "shell.execute_reply": "2023-08-10T19:42:18.002578Z"
    },
    "papermill": {
     "duration": 0.113713,
     "end_time": "2023-08-10T19:42:18.006411",
     "exception": false,
     "start_time": "2023-08-10T19:42:17.892698",
     "status": "completed"
    },
    "tags": []
   },
   "outputs": [],
   "source": [
    "# submit_v4(selected_features=best4_dict)"
   ]
  },
  {
   "cell_type": "markdown",
   "id": "52e23d40",
   "metadata": {
    "papermill": {
     "duration": 0.103441,
     "end_time": "2023-08-10T19:42:18.213548",
     "exception": false,
     "start_time": "2023-08-10T19:42:18.110107",
     "status": "completed"
    },
    "tags": []
   },
   "source": [
    "### Try the best 3 parameters with submit_v4 function"
   ]
  },
  {
   "cell_type": "code",
   "execution_count": 214,
   "id": "2df03b6a",
   "metadata": {
    "execution": {
     "iopub.execute_input": "2023-08-10T19:42:18.421771Z",
     "iopub.status.busy": "2023-08-10T19:42:18.421030Z",
     "iopub.status.idle": "2023-08-10T19:42:18.425930Z",
     "shell.execute_reply": "2023-08-10T19:42:18.424887Z"
    },
    "papermill": {
     "duration": 0.111325,
     "end_time": "2023-08-10T19:42:18.428264",
     "exception": false,
     "start_time": "2023-08-10T19:42:18.316939",
     "status": "completed"
    },
    "tags": []
   },
   "outputs": [],
   "source": [
    "# best3 = [\"audienceScore\", \"isFrequentReviewer\", \"reviewText\"]\n",
    "# best3_dict = {'cat': [\"isFrequentReviewer\"],\n",
    "#              'num': [\"audienceScore\"],\n",
    "#              'txt': ['reviewText']}\n",
    "# best3_dict"
   ]
  },
  {
   "cell_type": "code",
   "execution_count": 215,
   "id": "d790b9d4",
   "metadata": {
    "execution": {
     "iopub.execute_input": "2023-08-10T19:42:18.635816Z",
     "iopub.status.busy": "2023-08-10T19:42:18.635134Z",
     "iopub.status.idle": "2023-08-10T19:42:18.639426Z",
     "shell.execute_reply": "2023-08-10T19:42:18.638675Z"
    },
    "papermill": {
     "duration": 0.110671,
     "end_time": "2023-08-10T19:42:18.641796",
     "exception": false,
     "start_time": "2023-08-10T19:42:18.531125",
     "status": "completed"
    },
    "tags": []
   },
   "outputs": [],
   "source": [
    "# submit_v4(selected_features=best3_dict)"
   ]
  },
  {
   "cell_type": "markdown",
   "id": "bbd28852",
   "metadata": {
    "papermill": {
     "duration": 0.10311,
     "end_time": "2023-08-10T19:42:18.848151",
     "exception": false,
     "start_time": "2023-08-10T19:42:18.745041",
     "status": "completed"
    },
    "tags": []
   },
   "source": [
    "## Try throwing almost everything (no boxOffice) at submit_v4!  "
   ]
  },
  {
   "cell_type": "code",
   "execution_count": 216,
   "id": "e7c58659",
   "metadata": {
    "execution": {
     "iopub.execute_input": "2023-08-10T19:42:19.058810Z",
     "iopub.status.busy": "2023-08-10T19:42:19.058393Z",
     "iopub.status.idle": "2023-08-10T19:42:19.065633Z",
     "shell.execute_reply": "2023-08-10T19:42:19.064471Z"
    },
    "papermill": {
     "duration": 0.115682,
     "end_time": "2023-08-10T19:42:19.068073",
     "exception": false,
     "start_time": "2023-08-10T19:42:18.952391",
     "status": "completed"
    },
    "tags": []
   },
   "outputs": [
    {
     "data": {
      "text/plain": [
       "\"Most from merged = ['movieid', 'reviewerName', 'isFrequentReviewer', 'reviewText',\\n       'audienceScore', 'rating', 'runtimeMinutes', 'genre', \\n       'originalLanguage', 'director']\""
      ]
     },
     "execution_count": 216,
     "metadata": {},
     "output_type": "execute_result"
    }
   ],
   "source": [
    "\"\"\"Most from merged = ['movieid', 'reviewerName', 'isFrequentReviewer', 'reviewText',\n",
    "       'audienceScore', 'rating', 'runtimeMinutes', 'genre', \n",
    "       'originalLanguage', 'director']\"\"\"\n",
    "\n",
    "# almost_dict = {'cat': [\"isFrequentReviewer\", \"rating\", \"originalLanguage\"],\n",
    "#              'num': [\"audienceScore\", \"runtimeMinutes\"],\n",
    "#              'txt': ['reviewText', 'reviewerName', 'movieid', 'genre', 'director']}\n",
    "# almost_dict"
   ]
  },
  {
   "cell_type": "code",
   "execution_count": 217,
   "id": "fb4a8122",
   "metadata": {
    "execution": {
     "iopub.execute_input": "2023-08-10T19:42:19.277598Z",
     "iopub.status.busy": "2023-08-10T19:42:19.276332Z",
     "iopub.status.idle": "2023-08-10T19:42:19.281632Z",
     "shell.execute_reply": "2023-08-10T19:42:19.280773Z"
    },
    "papermill": {
     "duration": 0.112168,
     "end_time": "2023-08-10T19:42:19.283987",
     "exception": false,
     "start_time": "2023-08-10T19:42:19.171819",
     "status": "completed"
    },
    "tags": []
   },
   "outputs": [],
   "source": [
    "# submit_v4(selected_features=almost_dict)"
   ]
  },
  {
   "cell_type": "markdown",
   "id": "c56a1bad",
   "metadata": {
    "papermill": {
     "duration": 0.103241,
     "end_time": "2023-08-10T19:42:19.490850",
     "exception": false,
     "start_time": "2023-08-10T19:42:19.387609",
     "status": "completed"
    },
    "tags": []
   },
   "source": [
    "## Try throwing everything possible at submit_v4!  "
   ]
  },
  {
   "cell_type": "code",
   "execution_count": 218,
   "id": "58c41e74",
   "metadata": {
    "execution": {
     "iopub.execute_input": "2023-08-10T19:42:19.699191Z",
     "iopub.status.busy": "2023-08-10T19:42:19.698369Z",
     "iopub.status.idle": "2023-08-10T19:42:19.706862Z",
     "shell.execute_reply": "2023-08-10T19:42:19.705573Z"
    },
    "papermill": {
     "duration": 0.115957,
     "end_time": "2023-08-10T19:42:19.709692",
     "exception": false,
     "start_time": "2023-08-10T19:42:19.593735",
     "status": "completed"
    },
    "tags": []
   },
   "outputs": [
    {
     "data": {
      "text/plain": [
       "\"All from merged = ['movieid', 'reviewerName', 'isFrequentReviewer', 'reviewText',\\n       'audienceScore', 'rating', 'runtimeMinutes', 'genre', 'boxOffice',\\n       'originalLanguage', 'director']\""
      ]
     },
     "execution_count": 218,
     "metadata": {},
     "output_type": "execute_result"
    }
   ],
   "source": [
    "\"\"\"All from merged = ['movieid', 'reviewerName', 'isFrequentReviewer', 'reviewText',\n",
    "       'audienceScore', 'rating', 'runtimeMinutes', 'genre', 'boxOffice',\n",
    "       'originalLanguage', 'director']\"\"\"\n",
    "\n",
    "# all_dict = {'cat': [\"isFrequentReviewer\", \"rating\", \"originalLanguage\"],\n",
    "#              'num': [\"audienceScore\", \"runtimeMinutes\", \"boxOffice\"],\n",
    "#              'txt': ['reviewText', 'reviewerName', 'movieid', 'genre', 'director']}\n",
    "# all_dict"
   ]
  },
  {
   "cell_type": "code",
   "execution_count": 219,
   "id": "2dbb5fa9",
   "metadata": {
    "execution": {
     "iopub.execute_input": "2023-08-10T19:42:19.918009Z",
     "iopub.status.busy": "2023-08-10T19:42:19.917189Z",
     "iopub.status.idle": "2023-08-10T19:42:19.922016Z",
     "shell.execute_reply": "2023-08-10T19:42:19.921179Z"
    },
    "papermill": {
     "duration": 0.111149,
     "end_time": "2023-08-10T19:42:19.924296",
     "exception": false,
     "start_time": "2023-08-10T19:42:19.813147",
     "status": "completed"
    },
    "tags": []
   },
   "outputs": [],
   "source": [
    "# submit_v4(selected_features=all_dict)"
   ]
  },
  {
   "cell_type": "markdown",
   "id": "fe85ecfb",
   "metadata": {
    "papermill": {
     "duration": 0.102476,
     "end_time": "2023-08-10T19:42:20.130390",
     "exception": false,
     "start_time": "2023-08-10T19:42:20.027914",
     "status": "completed"
    },
    "tags": []
   },
   "source": [
    "## Try GridSearchCV on everything  "
   ]
  },
  {
   "cell_type": "code",
   "execution_count": 220,
   "id": "515cbcb2",
   "metadata": {
    "execution": {
     "iopub.execute_input": "2023-08-10T19:42:20.337838Z",
     "iopub.status.busy": "2023-08-10T19:42:20.337074Z",
     "iopub.status.idle": "2023-08-10T19:42:20.342459Z",
     "shell.execute_reply": "2023-08-10T19:42:20.341670Z"
    },
    "papermill": {
     "duration": 0.111891,
     "end_time": "2023-08-10T19:42:20.344784",
     "exception": false,
     "start_time": "2023-08-10T19:42:20.232893",
     "status": "completed"
    },
    "tags": []
   },
   "outputs": [],
   "source": [
    "# param_grid = {\n",
    "#     \"model__C\": [0.5, 2, 5, 15]\n",
    "# }\n",
    "\n",
    "# param_grid = {\n",
    "#     'model__C' : [1, 5],\n",
    "#     'model__solver': ['lbfgs', 'liblinear', 'newton-cg', 'newton-cholesky', 'sag', 'saga']\n",
    "# }\n",
    "\n",
    "# param_grid = {\n",
    "#     'model__C' : [1, 5],\n",
    "#     'model__solver': ['lbfgs', 'liblinear', 'sag', 'saga']\n",
    "# }\n",
    "\n",
    "# param_grid = {\n",
    "#     'model__C' : [1, 5, 10, 15],\n",
    "#     'model__solver': ['lbfgs', 'liblinear', 'saga', 'newton-cg']\n",
    "# }\n",
    "\n",
    "# param_grid = {\n",
    "#     'model__C' : [1, 5, 10, 20],\n",
    "#     'model__solver': ['lbfgs', 'liblinear', 'saga']\n",
    "# }\n",
    "\n",
    "# param_grid"
   ]
  },
  {
   "cell_type": "code",
   "execution_count": 221,
   "id": "0e37f881",
   "metadata": {
    "execution": {
     "iopub.execute_input": "2023-08-10T19:42:20.552737Z",
     "iopub.status.busy": "2023-08-10T19:42:20.551915Z",
     "iopub.status.idle": "2023-08-10T19:42:20.556867Z",
     "shell.execute_reply": "2023-08-10T19:42:20.555883Z"
    },
    "papermill": {
     "duration": 0.11139,
     "end_time": "2023-08-10T19:42:20.559158",
     "exception": false,
     "start_time": "2023-08-10T19:42:20.447768",
     "status": "completed"
    },
    "tags": []
   },
   "outputs": [],
   "source": [
    "# submit_v4(selected_features={'txt': [\"genre\"]}, param_grid=param_grid)"
   ]
  },
  {
   "cell_type": "code",
   "execution_count": 222,
   "id": "91c1773f",
   "metadata": {
    "execution": {
     "iopub.execute_input": "2023-08-10T19:42:20.769025Z",
     "iopub.status.busy": "2023-08-10T19:42:20.767726Z",
     "iopub.status.idle": "2023-08-10T19:42:20.775851Z",
     "shell.execute_reply": "2023-08-10T19:42:20.774678Z"
    },
    "papermill": {
     "duration": 0.116082,
     "end_time": "2023-08-10T19:42:20.778061",
     "exception": false,
     "start_time": "2023-08-10T19:42:20.661979",
     "status": "completed"
    },
    "tags": []
   },
   "outputs": [
    {
     "data": {
      "text/plain": [
       "\"Used 'groupby' function instead on 'drop_duplicates' on movies.csv file. \\nIt reduced the number of missing values significantly! \\nThen used LogisticRegression() with GridSearchCV on submit_v4 function with \\nparam_grid={'model__C': [1, 5, 10], 'model__solver': ['lbfgs', 'liblinear', 'saga']}. \\nThe best f1_micro score in GridSearchCV was 0.8399771362056203 which is highest among \\nall the versions so far. Best C was 5 and best solver was 'saga'.\\nScore obtained was 0.84385 which is lower than 0.84441.\""
      ]
     },
     "execution_count": 222,
     "metadata": {},
     "output_type": "execute_result"
    }
   ],
   "source": [
    "# submit_v4(selected_features=all_dict, param_grid=param_grid)\n",
    "\n",
    "# Best C was 5\n",
    "# Best solver was liblinear\n",
    "\n",
    "\"\"\"Used 'groupby' function instead on 'drop_duplicates' on movies.csv file. \n",
    "It reduced the number of missing values significantly! \n",
    "Then used LogisticRegression() with GridSearchCV on submit_v4 function with \n",
    "param_grid={'model__C': [1, 5, 10], 'model__solver': ['lbfgs', 'liblinear', 'saga']}. \n",
    "The best f1_micro score in GridSearchCV was 0.8399771362056203 which is highest among \n",
    "all the versions so far. Best C was 5 and best solver was 'saga'.\n",
    "Score obtained was 0.84385 which is lower than 0.84441.\"\"\""
   ]
  },
  {
   "cell_type": "code",
   "execution_count": 223,
   "id": "5fa62a42",
   "metadata": {
    "execution": {
     "iopub.execute_input": "2023-08-10T19:42:20.987322Z",
     "iopub.status.busy": "2023-08-10T19:42:20.986717Z",
     "iopub.status.idle": "2023-08-10T19:42:20.990480Z",
     "shell.execute_reply": "2023-08-10T19:42:20.989681Z"
    },
    "papermill": {
     "duration": 0.111818,
     "end_time": "2023-08-10T19:42:20.992685",
     "exception": false,
     "start_time": "2023-08-10T19:42:20.880867",
     "status": "completed"
    },
    "tags": []
   },
   "outputs": [],
   "source": [
    "# Best 5 parameters\n",
    "\n",
    "# best5_dict = {'num': [\"audienceScore\"],\n",
    "#              'txt': ['reviewText', 'reviewerName','movieid', 'director']}\n",
    "\n",
    "# best5_dict"
   ]
  },
  {
   "cell_type": "code",
   "execution_count": 224,
   "id": "e5f5f287",
   "metadata": {
    "execution": {
     "iopub.execute_input": "2023-08-10T19:42:21.203408Z",
     "iopub.status.busy": "2023-08-10T19:42:21.202791Z",
     "iopub.status.idle": "2023-08-10T19:42:21.210574Z",
     "shell.execute_reply": "2023-08-10T19:42:21.209407Z"
    },
    "papermill": {
     "duration": 0.116104,
     "end_time": "2023-08-10T19:42:21.212877",
     "exception": false,
     "start_time": "2023-08-10T19:42:21.096773",
     "status": "completed"
    },
    "tags": []
   },
   "outputs": [
    {
     "data": {
      "text/plain": [
       "\"(Update): Used both CountVectorizer and TfidfVectorizer on a massive GridSearchCV \\nwhich took 22527.2s  (6.25 hrs) to run! Gave a score of 0.8439093822800923 locally and did not overfit!\\nBest params: {'model__C': 1, 'model__solver': 'liblinear'}.\\nHighest public score yet: 0.84591 (Rank up from 9 to 5!)\""
      ]
     },
     "execution_count": 224,
     "metadata": {},
     "output_type": "execute_result"
    }
   ],
   "source": [
    "# Submit best 5 features\n",
    "\n",
    "\"\"\"(Update): Used both CountVectorizer and TfidfVectorizer on a massive GridSearchCV \n",
    "which took 22527.2s  (6.25 hrs) to run! Gave a score of 0.8439093822800923 locally and did not overfit!\n",
    "Best params: {'model__C': 1, 'model__solver': 'liblinear'}.\n",
    "Highest public score yet: 0.84591 (Rank up from 9 to 5!)\"\"\"\n",
    "\n",
    "# param_grid = {\n",
    "#     'model__C' : [5, 10, 15],\n",
    "#     'model__solver': ['lbfgs', 'liblinear', 'saga']\n",
    "# }\n",
    "\n",
    "\n",
    "# Try new param_grid with fit_intercept and dual in logreg\n",
    "\n",
    "# param_grid = {\n",
    "#     'model__C' : [1],\n",
    "#     'model__solver': ['liblinear'],\n",
    "#     \"model__fit_intercept\" : [True, False],\n",
    "#     \"model__dual\" : [True, False] \n",
    "# }\n",
    "\n",
    "\n",
    "# Local testing  \n",
    "# submit_v4(selected_features={'num': ['audienceScore']},\n",
    "#          add_countvec=True)\n",
    "\n",
    "# submit_v4(selected_features={'num': ['audienceScore']},\n",
    "#          add_countvec=True, \n",
    "#           param_grid=param_grid)\n",
    "\n",
    "\n",
    "# Main submission\n",
    "\n",
    "# submit_v4(selected_features=best5_dict,\n",
    "#          add_countvec=True)\n",
    "\n",
    "\n",
    "# submit_v4(selected_features=best5_dict,\n",
    "#           add_countvec=True,\n",
    "#           param_grid=param_grid)"
   ]
  },
  {
   "cell_type": "code",
   "execution_count": 225,
   "id": "f2e54e0c",
   "metadata": {
    "execution": {
     "iopub.execute_input": "2023-08-10T19:42:21.423978Z",
     "iopub.status.busy": "2023-08-10T19:42:21.423232Z",
     "iopub.status.idle": "2023-08-10T19:42:21.428419Z",
     "shell.execute_reply": "2023-08-10T19:42:21.427581Z"
    },
    "papermill": {
     "duration": 0.11335,
     "end_time": "2023-08-10T19:42:21.430720",
     "exception": false,
     "start_time": "2023-08-10T19:42:21.317370",
     "status": "completed"
    },
    "tags": []
   },
   "outputs": [],
   "source": [
    "## ALL DICT cv=10\n",
    "\n",
    "# all_dict = {'cat': [\"isFrequentReviewer\", \"rating\", \"originalLanguage\"],\n",
    "#              'num': [\"audienceScore\", \"runtimeMinutes\", \"boxOffice\"],\n",
    "#              'txt': ['reviewText', 'reviewerName', 'movieid', 'genre', 'director']}\n",
    "# print(all_dict)\n",
    "\n",
    "# param_grid = {\n",
    "#     'model__C' : [2, 5, 10],\n",
    "#     'model__solver': ['lbfgs', 'liblinear', 'saga']\n",
    "# }\n",
    "# print(param_grid)\n",
    "\n",
    "# param_grid = {\n",
    "#     'model__C' : [1, 5, 10],\n",
    "#     'model__solver': ['liblinear'],\n",
    "#     \"model__fit_intercept\" : [True, False],\n",
    "#     \"model__dual\" : [True, False] \n",
    "# }\n",
    "\n",
    "\n",
    "# Main submission\n",
    "\n",
    "# submit_v4(selected_model=LogisticRegression(C=5, solver='liblinear', max_iter=10000),\n",
    "#           selected_features=all_dict,\n",
    "#           param_grid=param_grid)\n",
    "\n",
    "# submit_v4(selected_features=all_dict,\n",
    "#           add_countvec=True,\n",
    "#           param_grid=param_grid)"
   ]
  },
  {
   "cell_type": "code",
   "execution_count": 226,
   "id": "71009b1a",
   "metadata": {
    "execution": {
     "iopub.execute_input": "2023-08-10T19:42:21.640473Z",
     "iopub.status.busy": "2023-08-10T19:42:21.639351Z",
     "iopub.status.idle": "2023-08-10T19:42:21.644071Z",
     "shell.execute_reply": "2023-08-10T19:42:21.643262Z"
    },
    "papermill": {
     "duration": 0.112302,
     "end_time": "2023-08-10T19:42:21.646420",
     "exception": false,
     "start_time": "2023-08-10T19:42:21.534118",
     "status": "completed"
    },
    "tags": []
   },
   "outputs": [],
   "source": [
    "# Best 6 parameters\n",
    "\n",
    "# best6_dict = {'cat': [\"isFrequentReviewer\"],\n",
    "#              'num': [\"audienceScore\"],\n",
    "#              'txt': ['reviewText', 'reviewerName', 'genre', 'director']}\n",
    "\n",
    "# best6_dict = {'num': [\"audienceScore\"],\n",
    "#              'txt': ['reviewText', 'reviewerName', 'genre','movieid', 'director']}\n",
    "\n",
    "# best6_dict"
   ]
  },
  {
   "cell_type": "code",
   "execution_count": 227,
   "id": "8aa9541f",
   "metadata": {
    "execution": {
     "iopub.execute_input": "2023-08-10T19:42:21.857297Z",
     "iopub.status.busy": "2023-08-10T19:42:21.856924Z",
     "iopub.status.idle": "2023-08-10T19:42:21.861407Z",
     "shell.execute_reply": "2023-08-10T19:42:21.860174Z"
    },
    "papermill": {
     "duration": 0.113457,
     "end_time": "2023-08-10T19:42:21.863887",
     "exception": false,
     "start_time": "2023-08-10T19:42:21.750430",
     "status": "completed"
    },
    "tags": []
   },
   "outputs": [],
   "source": [
    "# Submit best 6 features (version 2)\n",
    "\n",
    "# submit_v4(selected_features=best6_dict,\n",
    "#           param_grid=param_grid)"
   ]
  },
  {
   "cell_type": "code",
   "execution_count": 228,
   "id": "544d22ad",
   "metadata": {
    "execution": {
     "iopub.execute_input": "2023-08-10T19:42:22.077359Z",
     "iopub.status.busy": "2023-08-10T19:42:22.076694Z",
     "iopub.status.idle": "2023-08-10T19:42:22.080893Z",
     "shell.execute_reply": "2023-08-10T19:42:22.079894Z"
    },
    "papermill": {
     "duration": 0.114367,
     "end_time": "2023-08-10T19:42:22.083229",
     "exception": false,
     "start_time": "2023-08-10T19:42:21.968862",
     "status": "completed"
    },
    "tags": []
   },
   "outputs": [],
   "source": [
    "# Best 7 parameters\n",
    "\n",
    "# best7_dict = {'cat': [\"isFrequentReviewer\"],\n",
    "#              'num': [\"audienceScore\"],\n",
    "#              'txt': ['reviewText', 'reviewerName', 'movieid', 'genre', 'director']}\n",
    "# best7_dict"
   ]
  },
  {
   "cell_type": "code",
   "execution_count": 229,
   "id": "677fcb43",
   "metadata": {
    "execution": {
     "iopub.execute_input": "2023-08-10T19:42:22.294756Z",
     "iopub.status.busy": "2023-08-10T19:42:22.294069Z",
     "iopub.status.idle": "2023-08-10T19:42:22.298149Z",
     "shell.execute_reply": "2023-08-10T19:42:22.297161Z"
    },
    "papermill": {
     "duration": 0.112441,
     "end_time": "2023-08-10T19:42:22.300334",
     "exception": false,
     "start_time": "2023-08-10T19:42:22.187893",
     "status": "completed"
    },
    "tags": []
   },
   "outputs": [],
   "source": [
    "# Submit best 7 features\n",
    "\n",
    "# submit_v4(selected_features=best7_dict,\n",
    "#           param_grid=param_grid)"
   ]
  },
  {
   "cell_type": "code",
   "execution_count": 230,
   "id": "6441e5cd",
   "metadata": {
    "execution": {
     "iopub.execute_input": "2023-08-10T19:42:22.576633Z",
     "iopub.status.busy": "2023-08-10T19:42:22.575844Z",
     "iopub.status.idle": "2023-08-10T19:42:22.580278Z",
     "shell.execute_reply": "2023-08-10T19:42:22.579387Z"
    },
    "papermill": {
     "duration": 0.112423,
     "end_time": "2023-08-10T19:42:22.582708",
     "exception": false,
     "start_time": "2023-08-10T19:42:22.470285",
     "status": "completed"
    },
    "tags": []
   },
   "outputs": [],
   "source": [
    "# submit_v4(selected_features=best6_dict, param_grid=param_grid)"
   ]
  },
  {
   "cell_type": "markdown",
   "id": "9ad60333",
   "metadata": {
    "papermill": {
     "duration": 0.104966,
     "end_time": "2023-08-10T19:42:22.791840",
     "exception": false,
     "start_time": "2023-08-10T19:42:22.686874",
     "status": "completed"
    },
    "tags": []
   },
   "source": [
    "## Try a new feature dict  \n",
    "\n"
   ]
  },
  {
   "cell_type": "code",
   "execution_count": 231,
   "id": "be55bddf",
   "metadata": {
    "execution": {
     "iopub.execute_input": "2023-08-10T19:42:23.002580Z",
     "iopub.status.busy": "2023-08-10T19:42:23.001805Z",
     "iopub.status.idle": "2023-08-10T19:42:23.006043Z",
     "shell.execute_reply": "2023-08-10T19:42:23.005139Z"
    },
    "papermill": {
     "duration": 0.112176,
     "end_time": "2023-08-10T19:42:23.008245",
     "exception": false,
     "start_time": "2023-08-10T19:42:22.896069",
     "status": "completed"
    },
    "tags": []
   },
   "outputs": [],
   "source": [
    "# all_dict_new = {'cat': [\"isFrequentReviewer\", \"rating\", \"originalLanguage\"],\n",
    "#              'num': [\"audienceScore\", \"runtimeMinutes\", \"boxOffice\"],\n",
    "#              'txt': ['reviewText', \"reviewerName\", 'movieid', 'genre', 'director']}\n",
    "# all_dict_new"
   ]
  },
  {
   "cell_type": "code",
   "execution_count": 232,
   "id": "9beccb62",
   "metadata": {
    "execution": {
     "iopub.execute_input": "2023-08-10T19:42:23.219716Z",
     "iopub.status.busy": "2023-08-10T19:42:23.219298Z",
     "iopub.status.idle": "2023-08-10T19:42:23.223979Z",
     "shell.execute_reply": "2023-08-10T19:42:23.222868Z"
    },
    "papermill": {
     "duration": 0.113093,
     "end_time": "2023-08-10T19:42:23.226502",
     "exception": false,
     "start_time": "2023-08-10T19:42:23.113409",
     "status": "completed"
    },
    "tags": []
   },
   "outputs": [],
   "source": [
    "# submit_v4(selected_features={'txt': ['genre']}, param_grid=param_grid)"
   ]
  },
  {
   "cell_type": "code",
   "execution_count": 233,
   "id": "04022b78",
   "metadata": {
    "execution": {
     "iopub.execute_input": "2023-08-10T19:42:23.437016Z",
     "iopub.status.busy": "2023-08-10T19:42:23.436089Z",
     "iopub.status.idle": "2023-08-10T19:42:23.440735Z",
     "shell.execute_reply": "2023-08-10T19:42:23.439578Z"
    },
    "papermill": {
     "duration": 0.112761,
     "end_time": "2023-08-10T19:42:23.443240",
     "exception": false,
     "start_time": "2023-08-10T19:42:23.330479",
     "status": "completed"
    },
    "tags": []
   },
   "outputs": [],
   "source": [
    "# submit_v4(selected_features=all_dict_new, param_grid=param_grid)"
   ]
  },
  {
   "cell_type": "code",
   "execution_count": 234,
   "id": "812d345d",
   "metadata": {
    "execution": {
     "iopub.execute_input": "2023-08-10T19:42:23.653790Z",
     "iopub.status.busy": "2023-08-10T19:42:23.653092Z",
     "iopub.status.idle": "2023-08-10T19:42:23.658032Z",
     "shell.execute_reply": "2023-08-10T19:42:23.656969Z"
    },
    "papermill": {
     "duration": 0.113178,
     "end_time": "2023-08-10T19:42:23.660146",
     "exception": false,
     "start_time": "2023-08-10T19:42:23.546968",
     "status": "completed"
    },
    "tags": []
   },
   "outputs": [],
   "source": [
    "# Try non-text based columns\n",
    "# num_cat_dict = {'cat': ['isFrequentReviewer', 'rating', 'originalLanguage'],\n",
    "#  'num': ['audienceScore', 'runtimeMinutes', 'boxOffice']}\n",
    "# num_cat_dict"
   ]
  },
  {
   "cell_type": "code",
   "execution_count": 235,
   "id": "99f56d9d",
   "metadata": {
    "execution": {
     "iopub.execute_input": "2023-08-10T19:42:23.873448Z",
     "iopub.status.busy": "2023-08-10T19:42:23.873053Z",
     "iopub.status.idle": "2023-08-10T19:42:23.877803Z",
     "shell.execute_reply": "2023-08-10T19:42:23.876630Z"
    },
    "papermill": {
     "duration": 0.114691,
     "end_time": "2023-08-10T19:42:23.880164",
     "exception": false,
     "start_time": "2023-08-10T19:42:23.765473",
     "status": "completed"
    },
    "tags": []
   },
   "outputs": [],
   "source": [
    "# Use num_cat_dict features\n",
    "# (Update): Gets a local score of 0.7027181356991726. Not great.\n",
    "# submit_v4(selected_model=LogisticRegression(max_iter=100000), selected_features=num_cat_dict, param_grid=param_grid)"
   ]
  },
  {
   "cell_type": "code",
   "execution_count": 236,
   "id": "9b6e3686",
   "metadata": {
    "execution": {
     "iopub.execute_input": "2023-08-10T19:42:24.094173Z",
     "iopub.status.busy": "2023-08-10T19:42:24.093786Z",
     "iopub.status.idle": "2023-08-10T19:42:24.098556Z",
     "shell.execute_reply": "2023-08-10T19:42:24.097397Z"
    },
    "papermill": {
     "duration": 0.115658,
     "end_time": "2023-08-10T19:42:24.100822",
     "exception": false,
     "start_time": "2023-08-10T19:42:23.985164",
     "status": "completed"
    },
    "tags": []
   },
   "outputs": [],
   "source": [
    "# Try data other than reviewText\n",
    "\n",
    "# mov_dict = {'cat': ['rating', 'originalLanguage'],\n",
    "#  'num': ['audienceScore', 'runtimeMinutes', 'boxOffice'],\n",
    "#  'txt': ['movieid', 'genre', 'director']}\n",
    "# mov_dict"
   ]
  },
  {
   "cell_type": "code",
   "execution_count": 237,
   "id": "e7a2b38c",
   "metadata": {
    "execution": {
     "iopub.execute_input": "2023-08-10T19:42:24.335282Z",
     "iopub.status.busy": "2023-08-10T19:42:24.334883Z",
     "iopub.status.idle": "2023-08-10T19:42:24.339731Z",
     "shell.execute_reply": "2023-08-10T19:42:24.338577Z"
    },
    "papermill": {
     "duration": 0.129503,
     "end_time": "2023-08-10T19:42:24.341954",
     "exception": false,
     "start_time": "2023-08-10T19:42:24.212451",
     "status": "completed"
    },
    "tags": []
   },
   "outputs": [],
   "source": [
    "# Use mov_dict features\n",
    "# (Update): Gets a local score of 0.7475454316469369, which is not bad at all.\n",
    "# submit_v4(selected_model=LogisticRegression(max_iter=100000), selected_features=mov_dict, param_grid=param_grid)"
   ]
  },
  {
   "cell_type": "markdown",
   "id": "89734843",
   "metadata": {
    "papermill": {
     "duration": 0.104707,
     "end_time": "2023-08-10T19:42:24.550873",
     "exception": false,
     "start_time": "2023-08-10T19:42:24.446166",
     "status": "completed"
    },
    "tags": []
   },
   "source": [
    "# Try a new column 'reviewYN'  \n",
    "\n"
   ]
  },
  {
   "cell_type": "code",
   "execution_count": 238,
   "id": "d9b30353",
   "metadata": {
    "execution": {
     "iopub.execute_input": "2023-08-10T19:42:24.760049Z",
     "iopub.status.busy": "2023-08-10T19:42:24.759576Z",
     "iopub.status.idle": "2023-08-10T19:42:24.765461Z",
     "shell.execute_reply": "2023-08-10T19:42:24.764590Z"
    },
    "papermill": {
     "duration": 0.11333,
     "end_time": "2023-08-10T19:42:24.767710",
     "exception": false,
     "start_time": "2023-08-10T19:42:24.654380",
     "status": "completed"
    },
    "tags": []
   },
   "outputs": [],
   "source": [
    "# all_dict_3 = {'cat': [\"isFrequentReviewer\", \"rating\", \"originalLanguage\", \"reviewYN\"],\n",
    "#              'num': [\"audienceScore\", \"runtimeMinutes\", \"boxOffice\"],\n",
    "#              'txt': ['reviewText', \"reviewerName\", 'movieid', 'genre', 'director']}\n",
    "# all_dict_3"
   ]
  },
  {
   "cell_type": "code",
   "execution_count": 239,
   "id": "c9e9d256",
   "metadata": {
    "execution": {
     "iopub.execute_input": "2023-08-10T19:42:24.980791Z",
     "iopub.status.busy": "2023-08-10T19:42:24.980218Z",
     "iopub.status.idle": "2023-08-10T19:42:24.984700Z",
     "shell.execute_reply": "2023-08-10T19:42:24.983806Z"
    },
    "papermill": {
     "duration": 0.111326,
     "end_time": "2023-08-10T19:42:24.986755",
     "exception": false,
     "start_time": "2023-08-10T19:42:24.875429",
     "status": "completed"
    },
    "tags": []
   },
   "outputs": [],
   "source": [
    "# submit_v4(selected_model=LogisticRegression(max_iter=100000),\n",
    "#          selected_features=all_dict_3, \n",
    "#           param_grid=param_grid)"
   ]
  },
  {
   "cell_type": "markdown",
   "id": "b409120b",
   "metadata": {
    "papermill": {
     "duration": 0.102215,
     "end_time": "2023-08-10T19:42:25.195428",
     "exception": false,
     "start_time": "2023-08-10T19:42:25.093213",
     "status": "completed"
    },
    "tags": []
   },
   "source": [
    "### More GridSearchCV using LinearSVC  "
   ]
  },
  {
   "cell_type": "code",
   "execution_count": 240,
   "id": "919f1096",
   "metadata": {
    "execution": {
     "iopub.execute_input": "2023-08-10T19:42:25.403477Z",
     "iopub.status.busy": "2023-08-10T19:42:25.402749Z",
     "iopub.status.idle": "2023-08-10T19:42:25.407999Z",
     "shell.execute_reply": "2023-08-10T19:42:25.406703Z"
    },
    "papermill": {
     "duration": 0.112199,
     "end_time": "2023-08-10T19:42:25.410441",
     "exception": false,
     "start_time": "2023-08-10T19:42:25.298242",
     "status": "completed"
    },
    "tags": []
   },
   "outputs": [],
   "source": [
    "# param_grid_svc_2 = {\n",
    "#     'model__C': [1.0],\n",
    "#     'model__loss': ['hinge', 'squared_hinge'],\n",
    "#     'model__class_weight': ['balanced', None]\n",
    "# }\n",
    "# param_grid_svc_2"
   ]
  },
  {
   "cell_type": "code",
   "execution_count": 241,
   "id": "2585943f",
   "metadata": {
    "execution": {
     "iopub.execute_input": "2023-08-10T19:42:25.621703Z",
     "iopub.status.busy": "2023-08-10T19:42:25.620608Z",
     "iopub.status.idle": "2023-08-10T19:42:25.625130Z",
     "shell.execute_reply": "2023-08-10T19:42:25.624346Z"
    },
    "papermill": {
     "duration": 0.111978,
     "end_time": "2023-08-10T19:42:25.627290",
     "exception": false,
     "start_time": "2023-08-10T19:42:25.515312",
     "status": "completed"
    },
    "tags": []
   },
   "outputs": [],
   "source": [
    "# submit_v4(selected_model=LinearSVC(max_iter=100000, random_state=42), selected_features={'num': [\"audienceScore\"]}, param_grid=param_grid_svc_2)"
   ]
  },
  {
   "cell_type": "code",
   "execution_count": 242,
   "id": "b09e465c",
   "metadata": {
    "execution": {
     "iopub.execute_input": "2023-08-10T19:42:25.836733Z",
     "iopub.status.busy": "2023-08-10T19:42:25.835951Z",
     "iopub.status.idle": "2023-08-10T19:42:25.841221Z",
     "shell.execute_reply": "2023-08-10T19:42:25.840032Z"
    },
    "papermill": {
     "duration": 0.112708,
     "end_time": "2023-08-10T19:42:25.843757",
     "exception": false,
     "start_time": "2023-08-10T19:42:25.731049",
     "status": "completed"
    },
    "tags": []
   },
   "outputs": [],
   "source": [
    "# submit_v4(selected_model=LinearSVC(max_iter=100000, random_state=42), selected_features=all_dict, param_grid=param_grid_svc_2)"
   ]
  },
  {
   "cell_type": "markdown",
   "id": "9d00e6c0",
   "metadata": {
    "papermill": {
     "duration": 0.105136,
     "end_time": "2023-08-10T19:42:26.052984",
     "exception": false,
     "start_time": "2023-08-10T19:42:25.947848",
     "status": "completed"
    },
    "tags": []
   },
   "source": [
    "### Boosting techniques  "
   ]
  },
  {
   "cell_type": "code",
   "execution_count": 243,
   "id": "68ca40b7",
   "metadata": {
    "execution": {
     "iopub.execute_input": "2023-08-10T19:42:26.261442Z",
     "iopub.status.busy": "2023-08-10T19:42:26.261013Z",
     "iopub.status.idle": "2023-08-10T19:42:26.265945Z",
     "shell.execute_reply": "2023-08-10T19:42:26.264700Z"
    },
    "papermill": {
     "duration": 0.111903,
     "end_time": "2023-08-10T19:42:26.268687",
     "exception": false,
     "start_time": "2023-08-10T19:42:26.156784",
     "status": "completed"
    },
    "tags": []
   },
   "outputs": [],
   "source": [
    "# adc = AdaBoostClassifier(estimator=LogisticRegression(C=5, solver=\"saga\", max_iter=100000), n_estimators=50)\n",
    "# adc"
   ]
  },
  {
   "cell_type": "code",
   "execution_count": 244,
   "id": "0b52448d",
   "metadata": {
    "execution": {
     "iopub.execute_input": "2023-08-10T19:42:26.480033Z",
     "iopub.status.busy": "2023-08-10T19:42:26.479626Z",
     "iopub.status.idle": "2023-08-10T19:42:26.484891Z",
     "shell.execute_reply": "2023-08-10T19:42:26.483802Z"
    },
    "papermill": {
     "duration": 0.113295,
     "end_time": "2023-08-10T19:42:26.487253",
     "exception": false,
     "start_time": "2023-08-10T19:42:26.373958",
     "status": "completed"
    },
    "tags": []
   },
   "outputs": [],
   "source": [
    "# submit_v4(selected_model=adc, selected_features={'num': [\"audienceScore\"]}, param_grid=None)"
   ]
  },
  {
   "cell_type": "code",
   "execution_count": 245,
   "id": "5af2bfed",
   "metadata": {
    "execution": {
     "iopub.execute_input": "2023-08-10T19:42:26.696589Z",
     "iopub.status.busy": "2023-08-10T19:42:26.695705Z",
     "iopub.status.idle": "2023-08-10T19:42:26.700447Z",
     "shell.execute_reply": "2023-08-10T19:42:26.699678Z"
    },
    "papermill": {
     "duration": 0.112159,
     "end_time": "2023-08-10T19:42:26.702797",
     "exception": false,
     "start_time": "2023-08-10T19:42:26.590638",
     "status": "completed"
    },
    "tags": []
   },
   "outputs": [],
   "source": [
    "# submit_v4(selected_model=adc, selected_features=all_dict, param_grid=None)\n",
    "\n",
    "# Took 1 hour 15 mins to run and gave a public score of only 0.71089. Discarded."
   ]
  },
  {
   "cell_type": "markdown",
   "id": "a299e60e",
   "metadata": {
    "papermill": {
     "duration": 0.10407,
     "end_time": "2023-08-10T19:42:26.911659",
     "exception": false,
     "start_time": "2023-08-10T19:42:26.807589",
     "status": "completed"
    },
    "tags": []
   },
   "source": [
    "### LightGBM  "
   ]
  },
  {
   "cell_type": "code",
   "execution_count": 246,
   "id": "3c9dd0cc",
   "metadata": {
    "execution": {
     "iopub.execute_input": "2023-08-10T19:42:27.120642Z",
     "iopub.status.busy": "2023-08-10T19:42:27.119833Z",
     "iopub.status.idle": "2023-08-10T19:42:27.124322Z",
     "shell.execute_reply": "2023-08-10T19:42:27.123557Z"
    },
    "papermill": {
     "duration": 0.112087,
     "end_time": "2023-08-10T19:42:27.126942",
     "exception": false,
     "start_time": "2023-08-10T19:42:27.014855",
     "status": "completed"
    },
    "tags": []
   },
   "outputs": [],
   "source": [
    "# lgb = ltb.LGBMClassifier()\n",
    "# lgb"
   ]
  },
  {
   "cell_type": "code",
   "execution_count": 247,
   "id": "465ae7ed",
   "metadata": {
    "execution": {
     "iopub.execute_input": "2023-08-10T19:42:27.336747Z",
     "iopub.status.busy": "2023-08-10T19:42:27.335899Z",
     "iopub.status.idle": "2023-08-10T19:42:27.340887Z",
     "shell.execute_reply": "2023-08-10T19:42:27.339999Z"
    },
    "papermill": {
     "duration": 0.111862,
     "end_time": "2023-08-10T19:42:27.343327",
     "exception": false,
     "start_time": "2023-08-10T19:42:27.231465",
     "status": "completed"
    },
    "tags": []
   },
   "outputs": [],
   "source": [
    "# Try LightGBM with default settings\n",
    "# (Update): Public score only 0.77713. It was fast, took less than 5 mins (without GridSearchCV)\n",
    "\n",
    "# submit_v4(selected_model=ltb.LGBMClassifier(), selected_features=all_dict, param_grid=None)"
   ]
  },
  {
   "cell_type": "markdown",
   "id": "e880e629",
   "metadata": {
    "papermill": {
     "duration": 0.102958,
     "end_time": "2023-08-10T19:42:27.549464",
     "exception": false,
     "start_time": "2023-08-10T19:42:27.446506",
     "status": "completed"
    },
    "tags": []
   },
   "source": [
    "# Try feature selection and vocab fine tuning of reviewText column"
   ]
  },
  {
   "cell_type": "markdown",
   "id": "be510f60",
   "metadata": {
    "papermill": {
     "duration": 0.103052,
     "end_time": "2023-08-10T19:42:27.757465",
     "exception": false,
     "start_time": "2023-08-10T19:42:27.654413",
     "status": "completed"
    },
    "tags": []
   },
   "source": [
    "## Plan  \n",
    "* Add a new column 'reviewWC' which has word count of 'reviewText'  \n",
    "    * Check if there is any relationship between 'reviewWC' and 'sentiment'\n",
    "* Work on vocabulary\n",
    "     * Use TfidfVectorizer and find out the vocabulary of 'reviewText' column for various ngrams\n",
    "     * Use RecursiveFeatureElimination (RFE) or RFECV to select 1000 top words/vocab for each ngram\n",
    "     * Use the final vocab (1000-3000 words) in the model and see how it performs compared to whole vocab\n"
   ]
  },
  {
   "cell_type": "code",
   "execution_count": 248,
   "id": "05d9b0e4",
   "metadata": {
    "execution": {
     "iopub.execute_input": "2023-08-10T19:42:27.967379Z",
     "iopub.status.busy": "2023-08-10T19:42:27.966513Z",
     "iopub.status.idle": "2023-08-10T19:42:27.971620Z",
     "shell.execute_reply": "2023-08-10T19:42:27.970844Z"
    },
    "papermill": {
     "duration": 0.112612,
     "end_time": "2023-08-10T19:42:27.973957",
     "exception": false,
     "start_time": "2023-08-10T19:42:27.861345",
     "status": "completed"
    },
    "tags": []
   },
   "outputs": [],
   "source": [
    "# 'reviewWC' and 'sentiment'\n",
    "# (Conclusion): 'reviewWC' is practically same as DummyClassifier (accuracy of 0.6682375059904889 on train data). It just predicts 'positive' for all columns\n",
    "\n",
    "# reviewWC_dict = {\"num\": [\"reviewWC\"]}\n",
    "# submit_v4(selected_model=LogisticRegression(),\n",
    "#          selected_features=reviewWC_dict,\n",
    "#          param_grid=None)"
   ]
  },
  {
   "cell_type": "code",
   "execution_count": 249,
   "id": "369f4db3",
   "metadata": {
    "execution": {
     "iopub.execute_input": "2023-08-10T19:42:28.187248Z",
     "iopub.status.busy": "2023-08-10T19:42:28.186744Z",
     "iopub.status.idle": "2023-08-10T19:42:28.191912Z",
     "shell.execute_reply": "2023-08-10T19:42:28.190628Z"
    },
    "papermill": {
     "duration": 0.113038,
     "end_time": "2023-08-10T19:42:28.194239",
     "exception": false,
     "start_time": "2023-08-10T19:42:28.081201",
     "status": "completed"
    },
    "tags": []
   },
   "outputs": [],
   "source": [
    "# 'reviewYN' and 'sentiment'\n",
    "# (Conclusion): 'reviewYN' is practically same as DummyClassifier (accuracy of 0.6682375059904889 on train data). It just predicts 'positive' for all columns\n",
    "\n",
    "# reviewYN_dict = {\"cat\": [\"reviewYN\"]}\n",
    "# submit_v4(selected_model=LogisticRegression(),\n",
    "#          selected_features=reviewYN_dict,\n",
    "#          param_grid=None)"
   ]
  },
  {
   "cell_type": "markdown",
   "id": "c19747c7",
   "metadata": {
    "papermill": {
     "duration": 0.102352,
     "end_time": "2023-08-10T19:42:28.401901",
     "exception": false,
     "start_time": "2023-08-10T19:42:28.299549",
     "status": "completed"
    },
    "tags": []
   },
   "source": [
    "## Submissions using 'vocabulary' built from 'reviewText' data  "
   ]
  },
  {
   "cell_type": "markdown",
   "id": "46076e9f",
   "metadata": {
    "papermill": {
     "duration": 0.102393,
     "end_time": "2023-08-10T19:42:28.607142",
     "exception": false,
     "start_time": "2023-08-10T19:42:28.504749",
     "status": "completed"
    },
    "tags": []
   },
   "source": [
    "### Submit best 6 features along with common vocab  "
   ]
  },
  {
   "cell_type": "code",
   "execution_count": 250,
   "id": "f03030ac",
   "metadata": {
    "execution": {
     "iopub.execute_input": "2023-08-10T19:42:28.815261Z",
     "iopub.status.busy": "2023-08-10T19:42:28.814006Z",
     "iopub.status.idle": "2023-08-10T19:42:28.819358Z",
     "shell.execute_reply": "2023-08-10T19:42:28.818559Z"
    },
    "papermill": {
     "duration": 0.111975,
     "end_time": "2023-08-10T19:42:28.821802",
     "exception": false,
     "start_time": "2023-08-10T19:42:28.709827",
     "status": "completed"
    },
    "tags": []
   },
   "outputs": [],
   "source": [
    "# Best 6 parameters (version 2)  \n",
    "\n",
    "# best6_dict = {'num': [\"audienceScore\"],\n",
    "#              'txt': ['reviewText', 'reviewerName', 'genre','movieid', 'director']}\n",
    "\n",
    "# best6_dict"
   ]
  },
  {
   "cell_type": "code",
   "execution_count": 251,
   "id": "b1c4a54f",
   "metadata": {
    "execution": {
     "iopub.execute_input": "2023-08-10T19:42:29.032917Z",
     "iopub.status.busy": "2023-08-10T19:42:29.032509Z",
     "iopub.status.idle": "2023-08-10T19:42:29.037366Z",
     "shell.execute_reply": "2023-08-10T19:42:29.036010Z"
    },
    "papermill": {
     "duration": 0.113613,
     "end_time": "2023-08-10T19:42:29.039893",
     "exception": false,
     "start_time": "2023-08-10T19:42:28.926280",
     "status": "completed"
    },
    "tags": []
   },
   "outputs": [],
   "source": [
    "# Submit best 6 features (version 2) with common vocabulary (common_1_2_grams)\n",
    "# (Update): Score 0.82867\n",
    "\n",
    "# submit_v4(selected_features=best6_dict,\n",
    "#           param_grid=param_grid,\n",
    "#          vocab=common_1_2_grams)"
   ]
  },
  {
   "cell_type": "code",
   "execution_count": 252,
   "id": "242b6e71",
   "metadata": {
    "execution": {
     "iopub.execute_input": "2023-08-10T19:42:29.249418Z",
     "iopub.status.busy": "2023-08-10T19:42:29.249028Z",
     "iopub.status.idle": "2023-08-10T19:42:29.254053Z",
     "shell.execute_reply": "2023-08-10T19:42:29.252703Z"
    },
    "papermill": {
     "duration": 0.112693,
     "end_time": "2023-08-10T19:42:29.256632",
     "exception": false,
     "start_time": "2023-08-10T19:42:29.143939",
     "status": "completed"
    },
    "tags": []
   },
   "outputs": [],
   "source": [
    "# Submit best 6 features (version 2) with common vocabulary (common_1_2_3_grams)\n",
    "# Note: for this submission submit_v4 function has to be modified: reviewText TfidfVectorizer must have ngram_range(1,3).\n",
    "# (Update): Score in the range 0.825+\n",
    "\n",
    "# submit_v4(selected_features=best6_dict,\n",
    "#           param_grid=param_grid,\n",
    "#          vocab=common_1_2_3_grams)"
   ]
  }
 ],
 "metadata": {
  "kernelspec": {
   "display_name": "Python 3",
   "language": "python",
   "name": "python3"
  },
  "language_info": {
   "codemirror_mode": {
    "name": "ipython",
    "version": 3
   },
   "file_extension": ".py",
   "mimetype": "text/x-python",
   "name": "python",
   "nbconvert_exporter": "python",
   "pygments_lexer": "ipython3",
   "version": "3.10.10"
  },
  "papermill": {
   "default_parameters": {},
   "duration": 553.710547,
   "end_time": "2023-08-10T19:42:32.283332",
   "environment_variables": {},
   "exception": null,
   "input_path": "__notebook__.ipynb",
   "output_path": "__notebook__.ipynb",
   "parameters": {},
   "start_time": "2023-08-10T19:33:18.572785",
   "version": "2.4.0"
  }
 },
 "nbformat": 4,
 "nbformat_minor": 5
}
