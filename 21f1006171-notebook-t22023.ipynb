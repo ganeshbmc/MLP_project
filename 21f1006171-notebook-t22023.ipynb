{
 "cells": [
  {
   "cell_type": "markdown",
   "id": "c40e0505",
   "metadata": {
    "papermill": {
     "duration": 0.083538,
     "end_time": "2023-08-09T07:03:48.805476",
     "exception": false,
     "start_time": "2023-08-09T07:03:48.721938",
     "status": "completed"
    },
    "tags": []
   },
   "source": [
    "# MLP Project (T2 2023) by Ganesh P  "
   ]
  },
  {
   "cell_type": "markdown",
   "id": "d9aaafcd",
   "metadata": {
    "papermill": {
     "duration": 0.084112,
     "end_time": "2023-08-09T07:03:48.973229",
     "exception": false,
     "start_time": "2023-08-09T07:03:48.889117",
     "status": "completed"
    },
    "tags": []
   },
   "source": [
    "`Disclaimer`   \n",
    "\n",
    "> This final notebook contains only the most relevant code to show the path/flow of my project work over few weeks. Rest of the code is in [my github repo](https://github.com/ganeshbmc/MLP_project) which is private at present (I will make it public after the project is over).  "
   ]
  },
  {
   "cell_type": "markdown",
   "id": "8aada5f1",
   "metadata": {
    "papermill": {
     "duration": 0.082043,
     "end_time": "2023-08-09T07:03:49.137791",
     "exception": false,
     "start_time": "2023-08-09T07:03:49.055748",
     "status": "completed"
    },
    "tags": []
   },
   "source": [
    "`Overview`  \n",
    "\n",
    "`PART I`  \n",
    "\n",
    "1.\t> Screen the datasets and import them.  \n",
    "2.\t> Perform EDA (first round).\n",
    "3.\t> Data cleaning.\n",
    "4.\t> Basic models including dummy model.\n",
    "5.\t> Because this is a text sentiment analysis project, focus on 'reviewText' column, work on cleaning text data and vectorising/tokenising it, build several models till the best possible score is reached.  \n",
    "\n",
    "`PART II`  \n",
    "\n",
    "6.\t> Merge train and movies dataset.\n",
    "7.\t> Perform EDA (second round) on merged dataset.\n",
    "8.\t> Data cleaning.\n",
    "9.\t> Build models on merged dataset.\n",
    "10.\t> Understand the results and do another round of EDA if needed.\n",
    "11.\t> Build final model.  \n",
    "\n",
    "`PART III (After project window closes)`  \n",
    "\n",
    "12. > Use NLTK library for further processing text data.  \n",
    "13. > Try to address comments from different languages, special characters etc.  \n",
    "14. > Try imblearn library to address class imbalance.  \n",
    "15. > Try to use currently available LLMs and see how my model performs agains them.  "
   ]
  },
  {
   "cell_type": "markdown",
   "id": "c2c166a2",
   "metadata": {
    "papermill": {
     "duration": 0.081801,
     "end_time": "2023-08-09T07:03:49.302017",
     "exception": false,
     "start_time": "2023-08-09T07:03:49.220216",
     "status": "completed"
    },
    "tags": []
   },
   "source": [
    "`Default code on Kaggle notebook`  "
   ]
  },
  {
   "cell_type": "code",
   "execution_count": 1,
   "id": "aecaead1",
   "metadata": {
    "_cell_guid": "b1076dfc-b9ad-4769-8c92-a6c4dae69d19",
    "_uuid": "8f2839f25d086af736a60e9eeb907d3b93b6e0e5",
    "execution": {
     "iopub.execute_input": "2023-08-09T07:03:49.469780Z",
     "iopub.status.busy": "2023-08-09T07:03:49.469077Z",
     "iopub.status.idle": "2023-08-09T07:03:49.484264Z",
     "shell.execute_reply": "2023-08-09T07:03:49.482712Z"
    },
    "papermill": {
     "duration": 0.102283,
     "end_time": "2023-08-09T07:03:49.486635",
     "exception": false,
     "start_time": "2023-08-09T07:03:49.384352",
     "status": "completed"
    },
    "tags": []
   },
   "outputs": [
    {
     "name": "stdout",
     "output_type": "stream",
     "text": [
      "/kaggle/input/sentiment-prediction-on-movie-reviews/movies.csv\n",
      "/kaggle/input/sentiment-prediction-on-movie-reviews/sample.csv\n",
      "/kaggle/input/sentiment-prediction-on-movie-reviews/train.csv\n",
      "/kaggle/input/sentiment-prediction-on-movie-reviews/test.csv\n"
     ]
    }
   ],
   "source": [
    "# This Python 3 environment comes with many helpful analytics libraries installed\n",
    "# It is defined by the kaggle/python Docker image: https://github.com/kaggle/docker-python\n",
    "# For example, here's several helpful packages to load\n",
    "\n",
    "import numpy as np # linear algebra\n",
    "import pandas as pd # data processing, CSV file I/O (e.g. pd.read_csv)\n",
    "\n",
    "# Input data files are available in the read-only \"../input/\" directory\n",
    "# For example, running this (by clicking run or pressing Shift+Enter) will list all files under the input directory\n",
    "\n",
    "import os\n",
    "for dirname, _, filenames in os.walk('/kaggle/input'):\n",
    "    for filename in filenames:\n",
    "        print(os.path.join(dirname, filename))\n",
    "\n",
    "# You can write up to 20GB to the current directory (/kaggle/working/) that gets preserved as output when you create a version using \"Save & Run All\" \n",
    "# You can also write temporary files to /kaggle/temp/, but they won't be saved outside of the current session"
   ]
  },
  {
   "cell_type": "markdown",
   "id": "f52d2d3a",
   "metadata": {
    "papermill": {
     "duration": 0.082553,
     "end_time": "2023-08-09T07:03:49.652016",
     "exception": false,
     "start_time": "2023-08-09T07:03:49.569463",
     "status": "completed"
    },
    "tags": []
   },
   "source": [
    "## Import remaining libraries  "
   ]
  },
  {
   "cell_type": "code",
   "execution_count": 2,
   "id": "ff1b2cf1",
   "metadata": {
    "execution": {
     "iopub.execute_input": "2023-08-09T07:03:49.820632Z",
     "iopub.status.busy": "2023-08-09T07:03:49.819895Z",
     "iopub.status.idle": "2023-08-09T07:03:53.011395Z",
     "shell.execute_reply": "2023-08-09T07:03:53.009894Z"
    },
    "papermill": {
     "duration": 3.279029,
     "end_time": "2023-08-09T07:03:53.014219",
     "exception": false,
     "start_time": "2023-08-09T07:03:49.735190",
     "status": "completed"
    },
    "tags": []
   },
   "outputs": [
    {
     "name": "stdout",
     "output_type": "stream",
     "text": [
      "Imports done.\n"
     ]
    }
   ],
   "source": [
    "# import pandas as pd\n",
    "# import numpy as np\n",
    "import matplotlib.pyplot as plt\n",
    "import seaborn as sns\n",
    "import re\n",
    "from itertools import compress\n",
    "\n",
    "from sklearn.pipeline import Pipeline, FeatureUnion\n",
    "from sklearn.compose import ColumnTransformer\n",
    "from sklearn.metrics import classification_report, confusion_matrix\n",
    "from sklearn.feature_extraction.text import TfidfVectorizer, CountVectorizer\n",
    "from sklearn.preprocessing import FunctionTransformer\n",
    "from sklearn.preprocessing import StandardScaler, MinMaxScaler, RobustScaler, OneHotEncoder, LabelEncoder\n",
    "from sklearn.impute import SimpleImputer\n",
    "from sklearn.linear_model import LogisticRegression\n",
    "from sklearn.tree import DecisionTreeClassifier\n",
    "from sklearn.ensemble import RandomForestClassifier, AdaBoostClassifier\n",
    "from sklearn.svm import LinearSVC\n",
    "from sklearn.naive_bayes import MultinomialNB\n",
    "from sklearn.model_selection import train_test_split, GridSearchCV, cross_val_score\n",
    "from sklearn.decomposition import PCA, TruncatedSVD\n",
    "from sklearn.feature_selection import RFECV\n",
    "from sklearn.feature_selection import RFE\n",
    "from sklearn.neural_network import MLPClassifier\n",
    "\n",
    "import lightgbm as ltb\n",
    "\n",
    "import scipy.stats as stats\n",
    "print(\"Imports done.\")"
   ]
  },
  {
   "cell_type": "markdown",
   "id": "89d8315b",
   "metadata": {
    "papermill": {
     "duration": 0.083292,
     "end_time": "2023-08-09T07:03:53.187103",
     "exception": false,
     "start_time": "2023-08-09T07:03:53.103811",
     "status": "completed"
    },
    "tags": []
   },
   "source": [
    "# PART I  "
   ]
  },
  {
   "cell_type": "markdown",
   "id": "6bf2a861",
   "metadata": {
    "papermill": {
     "duration": 0.081744,
     "end_time": "2023-08-09T07:03:53.351849",
     "exception": false,
     "start_time": "2023-08-09T07:03:53.270105",
     "status": "completed"
    },
    "tags": []
   },
   "source": [
    "## Load datasets  "
   ]
  },
  {
   "cell_type": "code",
   "execution_count": 3,
   "id": "9cb51baa",
   "metadata": {
    "execution": {
     "iopub.execute_input": "2023-08-09T07:03:53.517613Z",
     "iopub.status.busy": "2023-08-09T07:03:53.517222Z",
     "iopub.status.idle": "2023-08-09T07:03:54.512398Z",
     "shell.execute_reply": "2023-08-09T07:03:54.511408Z"
    },
    "papermill": {
     "duration": 1.080516,
     "end_time": "2023-08-09T07:03:54.514657",
     "exception": false,
     "start_time": "2023-08-09T07:03:53.434141",
     "status": "completed"
    },
    "tags": []
   },
   "outputs": [
    {
     "data": {
      "text/plain": [
       "(162758, 5)"
      ]
     },
     "execution_count": 3,
     "metadata": {},
     "output_type": "execute_result"
    }
   ],
   "source": [
    "traindf = pd.read_csv(\"/kaggle/input/sentiment-prediction-on-movie-reviews/train.csv\")\n",
    "traindf.shape"
   ]
  },
  {
   "cell_type": "code",
   "execution_count": 4,
   "id": "1a35e57a",
   "metadata": {
    "execution": {
     "iopub.execute_input": "2023-08-09T07:03:54.681862Z",
     "iopub.status.busy": "2023-08-09T07:03:54.681317Z",
     "iopub.status.idle": "2023-08-09T07:03:54.999699Z",
     "shell.execute_reply": "2023-08-09T07:03:54.998483Z"
    },
    "papermill": {
     "duration": 0.405171,
     "end_time": "2023-08-09T07:03:55.001959",
     "exception": false,
     "start_time": "2023-08-09T07:03:54.596788",
     "status": "completed"
    },
    "tags": []
   },
   "outputs": [
    {
     "data": {
      "text/plain": [
       "(55315, 4)"
      ]
     },
     "execution_count": 4,
     "metadata": {},
     "output_type": "execute_result"
    }
   ],
   "source": [
    "testdf = pd.read_csv(\"/kaggle/input/sentiment-prediction-on-movie-reviews/test.csv\")\n",
    "testdf.shape"
   ]
  },
  {
   "cell_type": "markdown",
   "id": "dd14a5f9",
   "metadata": {
    "papermill": {
     "duration": 0.08442,
     "end_time": "2023-08-09T07:03:55.169769",
     "exception": false,
     "start_time": "2023-08-09T07:03:55.085349",
     "status": "completed"
    },
    "tags": []
   },
   "source": [
    "## Understanding the data and getting it ready for training and evaluating models  \n",
    "\n",
    "`Handle missing data. Current strategy is to fill in some custom text.`  \n",
    "`Separate features and labels from traindf`  \n",
    "`Split training data into training and testing parts`"
   ]
  },
  {
   "cell_type": "code",
   "execution_count": 5,
   "id": "af1dcf4a",
   "metadata": {
    "execution": {
     "iopub.execute_input": "2023-08-09T07:03:55.340451Z",
     "iopub.status.busy": "2023-08-09T07:03:55.339985Z",
     "iopub.status.idle": "2023-08-09T07:03:55.346556Z",
     "shell.execute_reply": "2023-08-09T07:03:55.345519Z"
    },
    "papermill": {
     "duration": 0.095332,
     "end_time": "2023-08-09T07:03:55.349121",
     "exception": false,
     "start_time": "2023-08-09T07:03:55.253789",
     "status": "completed"
    },
    "tags": []
   },
   "outputs": [
    {
     "data": {
      "text/plain": [
       "(162758, 5)"
      ]
     },
     "execution_count": 5,
     "metadata": {},
     "output_type": "execute_result"
    }
   ],
   "source": [
    "traindf.shape"
   ]
  },
  {
   "cell_type": "code",
   "execution_count": 6,
   "id": "d4588cfc",
   "metadata": {
    "execution": {
     "iopub.execute_input": "2023-08-09T07:03:55.517382Z",
     "iopub.status.busy": "2023-08-09T07:03:55.516974Z",
     "iopub.status.idle": "2023-08-09T07:03:55.746300Z",
     "shell.execute_reply": "2023-08-09T07:03:55.744918Z"
    },
    "papermill": {
     "duration": 0.316544,
     "end_time": "2023-08-09T07:03:55.748883",
     "exception": false,
     "start_time": "2023-08-09T07:03:55.432339",
     "status": "completed"
    },
    "tags": []
   },
   "outputs": [
    {
     "name": "stdout",
     "output_type": "stream",
     "text": [
      "<class 'pandas.core.frame.DataFrame'>\n",
      "RangeIndex: 162758 entries, 0 to 162757\n",
      "Data columns (total 5 columns):\n",
      " #   Column              Non-Null Count   Dtype \n",
      "---  ------              --------------   ----- \n",
      " 0   movieid             162758 non-null  object\n",
      " 1   reviewerName        162758 non-null  object\n",
      " 2   isFrequentReviewer  162758 non-null  bool  \n",
      " 3   reviewText          156311 non-null  object\n",
      " 4   sentiment           162758 non-null  object\n",
      "dtypes: bool(1), object(4)\n",
      "memory usage: 5.1+ MB\n"
     ]
    }
   ],
   "source": [
    "traindf.info()"
   ]
  },
  {
   "cell_type": "code",
   "execution_count": 7,
   "id": "62a69acf",
   "metadata": {
    "execution": {
     "iopub.execute_input": "2023-08-09T07:03:55.917158Z",
     "iopub.status.busy": "2023-08-09T07:03:55.916732Z",
     "iopub.status.idle": "2023-08-09T07:03:56.134722Z",
     "shell.execute_reply": "2023-08-09T07:03:56.133562Z"
    },
    "papermill": {
     "duration": 0.305019,
     "end_time": "2023-08-09T07:03:56.136991",
     "exception": false,
     "start_time": "2023-08-09T07:03:55.831972",
     "status": "completed"
    },
    "tags": []
   },
   "outputs": [
    {
     "data": {
      "text/plain": [
       "movieid                  0\n",
       "reviewerName             0\n",
       "isFrequentReviewer       0\n",
       "reviewText            6447\n",
       "sentiment                0\n",
       "dtype: int64"
      ]
     },
     "execution_count": 7,
     "metadata": {},
     "output_type": "execute_result"
    }
   ],
   "source": [
    "traindf.isna().sum()"
   ]
  },
  {
   "cell_type": "markdown",
   "id": "97182441",
   "metadata": {
    "papermill": {
     "duration": 0.145064,
     "end_time": "2023-08-09T07:03:56.366900",
     "exception": false,
     "start_time": "2023-08-09T07:03:56.221836",
     "status": "completed"
    },
    "tags": []
   },
   "source": [
    "### Fill empty reviewText with custom text  "
   ]
  },
  {
   "cell_type": "code",
   "execution_count": 8,
   "id": "cd64ef8d",
   "metadata": {
    "execution": {
     "iopub.execute_input": "2023-08-09T07:03:56.536164Z",
     "iopub.status.busy": "2023-08-09T07:03:56.535001Z",
     "iopub.status.idle": "2023-08-09T07:03:56.772393Z",
     "shell.execute_reply": "2023-08-09T07:03:56.771595Z"
    },
    "papermill": {
     "duration": 0.323518,
     "end_time": "2023-08-09T07:03:56.774495",
     "exception": false,
     "start_time": "2023-08-09T07:03:56.450977",
     "status": "completed"
    },
    "tags": []
   },
   "outputs": [
    {
     "data": {
      "text/plain": [
       "movieid               0\n",
       "reviewerName          0\n",
       "isFrequentReviewer    0\n",
       "reviewText            0\n",
       "sentiment             0\n",
       "dtype: int64"
      ]
     },
     "execution_count": 8,
     "metadata": {},
     "output_type": "execute_result"
    }
   ],
   "source": [
    "traindf[\"reviewText\"].fillna(\"empty\", inplace=True)\n",
    "traindf.isna().sum()"
   ]
  },
  {
   "cell_type": "markdown",
   "id": "d8f0a286",
   "metadata": {
    "papermill": {
     "duration": 0.084974,
     "end_time": "2023-08-09T07:03:56.943096",
     "exception": false,
     "start_time": "2023-08-09T07:03:56.858122",
     "status": "completed"
    },
    "tags": []
   },
   "source": [
    "## EDA  \n",
    "`Currently in a separate file in github repo`  "
   ]
  },
  {
   "cell_type": "code",
   "execution_count": 9,
   "id": "a4b6b11c",
   "metadata": {
    "execution": {
     "iopub.execute_input": "2023-08-09T07:03:57.114849Z",
     "iopub.status.busy": "2023-08-09T07:03:57.114211Z",
     "iopub.status.idle": "2023-08-09T07:03:57.530587Z",
     "shell.execute_reply": "2023-08-09T07:03:57.528914Z"
    },
    "papermill": {
     "duration": 0.506533,
     "end_time": "2023-08-09T07:03:57.534859",
     "exception": false,
     "start_time": "2023-08-09T07:03:57.028326",
     "status": "completed"
    },
    "tags": []
   },
   "outputs": [
    {
     "data": {
      "image/png": "[encoded data removed]",
      "text/plain": [
       "<Figure size 600x400 with 1 Axes>"
      ]
     },
     "metadata": {},
     "output_type": "display_data"
    }
   ],
   "source": [
    "# Pie chart for sentiment column\n",
    "plt.figure(figsize=(6, 4))\n",
    "traindf[\"sentiment\"].value_counts().plot(kind='pie', autopct='%1.0f%%', colors=[\"lightgreen\", \"crimson\"])\n",
    "plt.title(\"Pie chart for sentiment column\")\n",
    "plt.show()"
   ]
  },
  {
   "cell_type": "code",
   "execution_count": 10,
   "id": "f0bd8535",
   "metadata": {
    "execution": {
     "iopub.execute_input": "2023-08-09T07:03:57.730645Z",
     "iopub.status.busy": "2023-08-09T07:03:57.730183Z",
     "iopub.status.idle": "2023-08-09T07:03:57.802925Z",
     "shell.execute_reply": "2023-08-09T07:03:57.801778Z"
    },
    "papermill": {
     "duration": 0.161458,
     "end_time": "2023-08-09T07:03:57.805328",
     "exception": false,
     "start_time": "2023-08-09T07:03:57.643870",
     "status": "completed"
    },
    "tags": []
   },
   "outputs": [
    {
     "name": "stdout",
     "output_type": "stream",
     "text": [
      "sentiment           NEGATIVE  POSITIVE\n",
      "isFrequentReviewer                    \n",
      "False                  35760     77429\n",
      "True                   18237     31332\n"
     ]
    },
    {
     "data": {
      "text/plain": [
       "Chi2ContingencyResult(statistic=419.89235425657796, pvalue=2.5755894769493255e-93, dof=1, expected_freq=array([[37551.86493444, 75637.13506556],\n",
       "       [16445.13506556, 33123.86493444]]))"
      ]
     },
     "execution_count": 10,
     "metadata": {},
     "output_type": "execute_result"
    }
   ],
   "source": [
    "# Chi-square test for isFrequentReviewer column and sentiment column   \n",
    "\n",
    "contingency_table = pd.crosstab(traindf['isFrequentReviewer'], traindf['sentiment'])\n",
    "print(contingency_table)\n",
    "stats.chi2_contingency(contingency_table)"
   ]
  },
  {
   "cell_type": "markdown",
   "id": "42f186c6",
   "metadata": {
    "papermill": {
     "duration": 0.085738,
     "end_time": "2023-08-09T07:03:57.977525",
     "exception": false,
     "start_time": "2023-08-09T07:03:57.891787",
     "status": "completed"
    },
    "tags": []
   },
   "source": [
    "### Separate features and labels  "
   ]
  },
  {
   "cell_type": "code",
   "execution_count": 11,
   "id": "4cc197ed",
   "metadata": {
    "execution": {
     "iopub.execute_input": "2023-08-09T07:03:58.150428Z",
     "iopub.status.busy": "2023-08-09T07:03:58.149885Z",
     "iopub.status.idle": "2023-08-09T07:03:58.158248Z",
     "shell.execute_reply": "2023-08-09T07:03:58.157085Z"
    },
    "papermill": {
     "duration": 0.09798,
     "end_time": "2023-08-09T07:03:58.160659",
     "exception": false,
     "start_time": "2023-08-09T07:03:58.062679",
     "status": "completed"
    },
    "tags": []
   },
   "outputs": [
    {
     "data": {
      "text/plain": [
       "((162758,), (162758,))"
      ]
     },
     "execution_count": 11,
     "metadata": {},
     "output_type": "execute_result"
    }
   ],
   "source": [
    "train_features = traindf[\"reviewText\"]\n",
    "train_labels = traindf.iloc[:, -1]\n",
    "train_features.shape, train_labels.shape"
   ]
  },
  {
   "cell_type": "markdown",
   "id": "d03f459b",
   "metadata": {
    "papermill": {
     "duration": 0.085683,
     "end_time": "2023-08-09T07:03:58.331603",
     "exception": false,
     "start_time": "2023-08-09T07:03:58.245920",
     "status": "completed"
    },
    "tags": []
   },
   "source": [
    "### Split traindf into training and testing parts  "
   ]
  },
  {
   "cell_type": "code",
   "execution_count": 12,
   "id": "54c835a0",
   "metadata": {
    "execution": {
     "iopub.execute_input": "2023-08-09T07:03:58.502558Z",
     "iopub.status.busy": "2023-08-09T07:03:58.502141Z",
     "iopub.status.idle": "2023-08-09T07:03:58.540436Z",
     "shell.execute_reply": "2023-08-09T07:03:58.539296Z"
    },
    "papermill": {
     "duration": 0.126721,
     "end_time": "2023-08-09T07:03:58.542862",
     "exception": false,
     "start_time": "2023-08-09T07:03:58.416141",
     "status": "completed"
    },
    "tags": []
   },
   "outputs": [
    {
     "data": {
      "text/plain": [
       "((122068,), (40690,), (122068,), (40690,))"
      ]
     },
     "execution_count": 12,
     "metadata": {},
     "output_type": "execute_result"
    }
   ],
   "source": [
    "X_train, X_test, y_train, y_test = train_test_split(train_features, train_labels, test_size=0.25, random_state=42)\n",
    "X_train.shape, X_test.shape, y_train.shape, y_test.shape"
   ]
  },
  {
   "cell_type": "markdown",
   "id": "3e4c2317",
   "metadata": {
    "papermill": {
     "duration": 0.090583,
     "end_time": "2023-08-09T07:03:58.726813",
     "exception": false,
     "start_time": "2023-08-09T07:03:58.636230",
     "status": "completed"
    },
    "tags": []
   },
   "source": [
    "### Needs further exploration  \n",
    "\n",
    "`stratify based on reviewer type?`  "
   ]
  },
  {
   "cell_type": "markdown",
   "id": "81bd9ee9",
   "metadata": {
    "papermill": {
     "duration": 0.086179,
     "end_time": "2023-08-09T07:03:58.904753",
     "exception": false,
     "start_time": "2023-08-09T07:03:58.818574",
     "status": "completed"
    },
    "tags": []
   },
   "source": [
    "## Model evaluation plan and code  "
   ]
  },
  {
   "cell_type": "code",
   "execution_count": 13,
   "id": "ef60f4db",
   "metadata": {
    "execution": {
     "iopub.execute_input": "2023-08-09T07:03:59.105883Z",
     "iopub.status.busy": "2023-08-09T07:03:59.105075Z",
     "iopub.status.idle": "2023-08-09T07:03:59.110345Z",
     "shell.execute_reply": "2023-08-09T07:03:59.109520Z"
    },
    "papermill": {
     "duration": 0.110458,
     "end_time": "2023-08-09T07:03:59.112840",
     "exception": false,
     "start_time": "2023-08-09T07:03:59.002382",
     "status": "completed"
    },
    "tags": []
   },
   "outputs": [],
   "source": [
    "from sklearn.metrics import classification_report, confusion_matrix, ConfusionMatrixDisplay\n",
    "from sklearn.metrics import f1_score"
   ]
  },
  {
   "cell_type": "code",
   "execution_count": 14,
   "id": "e029c704",
   "metadata": {
    "execution": {
     "iopub.execute_input": "2023-08-09T07:03:59.290143Z",
     "iopub.status.busy": "2023-08-09T07:03:59.289782Z",
     "iopub.status.idle": "2023-08-09T07:03:59.295994Z",
     "shell.execute_reply": "2023-08-09T07:03:59.294841Z"
    },
    "papermill": {
     "duration": 0.097416,
     "end_time": "2023-08-09T07:03:59.298349",
     "exception": false,
     "start_time": "2023-08-09T07:03:59.200933",
     "status": "completed"
    },
    "tags": []
   },
   "outputs": [],
   "source": [
    "def evaluate(y_test, y_pred):\n",
    "    print(classification_report(y_test, y_pred))\n",
    "    print(confusion_matrix(y_test, y_pred))\n",
    "    # print(f1_score(y_test, y_pred))\n",
    "    ConfusionMatrixDisplay(y_test, y_pred)\n",
    "    return"
   ]
  },
  {
   "cell_type": "markdown",
   "id": "42f2e3ba",
   "metadata": {
    "papermill": {
     "duration": 0.08472,
     "end_time": "2023-08-09T07:03:59.468333",
     "exception": false,
     "start_time": "2023-08-09T07:03:59.383613",
     "status": "completed"
    },
    "tags": []
   },
   "source": [
    "# Data preprocessing  "
   ]
  },
  {
   "cell_type": "markdown",
   "id": "e7bb4942",
   "metadata": {
    "papermill": {
     "duration": 0.087671,
     "end_time": "2023-08-09T07:03:59.640702",
     "exception": false,
     "start_time": "2023-08-09T07:03:59.553031",
     "status": "completed"
    },
    "tags": []
   },
   "source": [
    "## Define stop words  "
   ]
  },
  {
   "cell_type": "code",
   "execution_count": 15,
   "id": "07da1229",
   "metadata": {
    "execution": {
     "iopub.execute_input": "2023-08-09T07:03:59.814380Z",
     "iopub.status.busy": "2023-08-09T07:03:59.814008Z",
     "iopub.status.idle": "2023-08-09T07:03:59.818667Z",
     "shell.execute_reply": "2023-08-09T07:03:59.817576Z"
    },
    "papermill": {
     "duration": 0.093353,
     "end_time": "2023-08-09T07:03:59.820778",
     "exception": false,
     "start_time": "2023-08-09T07:03:59.727425",
     "status": "completed"
    },
    "tags": []
   },
   "outputs": [],
   "source": [
    "from sklearn.feature_extraction.text import TfidfVectorizer, CountVectorizer"
   ]
  },
  {
   "cell_type": "code",
   "execution_count": 16,
   "id": "94820453",
   "metadata": {
    "execution": {
     "iopub.execute_input": "2023-08-09T07:03:59.997167Z",
     "iopub.status.busy": "2023-08-09T07:03:59.996413Z",
     "iopub.status.idle": "2023-08-09T07:04:00.006824Z",
     "shell.execute_reply": "2023-08-09T07:04:00.005840Z"
    },
    "papermill": {
     "duration": 0.103128,
     "end_time": "2023-08-09T07:04:00.009180",
     "exception": false,
     "start_time": "2023-08-09T07:03:59.906052",
     "status": "completed"
    },
    "tags": []
   },
   "outputs": [],
   "source": [
    "# stop_words = [\"0o\", \"0s\", \"3a\", \"3b\", \"3d\", \"6b\", \"6o\", \"a\", \"a1\", \"a2\", \"a3\", \"a4\", \"ab\", \"able\", \"about\", \"above\", \"abst\", \"ac\", \"accordance\", \"according\", \"accordingly\", \"across\", \"act\", \"actually\", \"ad\", \"added\", \"adj\", \"ae\", \"af\", \"affected\", \"affecting\", \"affects\", \"after\", \"afterwards\", \"ag\", \"again\", \"against\", \"ah\", \"ain\", \"ain't\", \"aj\", \"al\", \"all\", \"allow\", \"allows\", \"almost\", \"alone\", \"along\", \"already\", \"also\", \"although\", \"always\", \"am\", \"among\", \"amongst\", \"amoungst\", \"amount\", \"an\", \"and\", \"announce\", \"another\", \"any\", \"anybody\", \"anyhow\", \"anymore\", \"anyone\", \"anything\", \"anyway\", \"anyways\", \"anywhere\", \"ao\", \"ap\", \"apart\", \"apparently\", \"appear\", \"appreciate\", \"appropriate\", \"approximately\", \"ar\", \"are\", \"aren\", \"arent\", \"aren't\", \"arise\", \"around\", \"as\", \"a's\", \"aside\", \"ask\", \"asking\", \"associated\", \"at\", \"au\", \"auth\", \"av\", \"available\", \"aw\", \"away\", \"awfully\", \"ax\", \"ay\", \"az\", \"b\", \"b1\", \"b2\", \"b3\", \"ba\", \"back\", \"bc\", \"bd\", \"be\", \"became\", \"because\", \"become\", \"becomes\", \"becoming\", \"been\", \"before\", \"beforehand\", \"begin\", \"beginning\", \"beginnings\", \"begins\", \"behind\", \"being\", \"believe\", \"below\", \"beside\", \"besides\", \"best\", \"better\", \"between\", \"beyond\", \"bi\", \"bill\", \"biol\", \"bj\", \"bk\", \"bl\", \"bn\", \"both\", \"bottom\", \"bp\", \"br\", \"brief\", \"briefly\", \"bs\", \"bt\", \"bu\", \"but\", \"bx\", \"by\", \"c\", \"c1\", \"c2\", \"c3\", \"ca\", \"call\", \"came\", \"can\", \"cannot\", \"cant\", \"can't\", \"cause\", \"causes\", \"cc\", \"cd\", \"ce\", \"certain\", \"certainly\", \"cf\", \"cg\", \"ch\", \"changes\", \"ci\", \"cit\", \"cj\", \"cl\", \"clearly\", \"cm\", \"c'mon\", \"cn\", \"co\", \"com\", \"come\", \"comes\", \"con\", \"concerning\", \"consequently\", \"consider\", \"considering\", \"contain\", \"containing\", \"contains\", \"corresponding\", \"could\", \"couldn\", \"couldnt\", \"couldn't\", \"course\", \"cp\", \"cq\", \"cr\", \"cry\", \"cs\", \"c's\", \"ct\", \"cu\", \"currently\", \"cv\", \"cx\", \"cy\", \"cz\", \"d\", \"d2\", \"da\", \"date\", \"dc\", \"dd\", \"de\", \"definitely\", \"describe\", \"described\", \"despite\", \"detail\", \"df\", \"di\", \"did\", \"didn\", \"didn't\", \"different\", \"dj\", \"dk\", \"dl\", \"do\", \"does\", \"doesn\", \"doesn't\", \"doing\", \"don\", \"done\", \"don't\", \"down\", \"downwards\", \"dp\", \"dr\", \"ds\", \"dt\", \"du\", \"due\", \"during\", \"dx\", \"dy\", \"e\", \"e2\", \"e3\", \"ea\", \"each\", \"ec\", \"ed\", \"edu\", \"ee\", \"ef\", \"effect\", \"eg\", \"ei\", \"eight\", \"eighty\", \"either\", \"ej\", \"el\", \"eleven\", \"else\", \"elsewhere\", \"em\", \"empty\", \"en\", \"end\", \"ending\", \"enough\", \"entirely\", \"eo\", \"ep\", \"eq\", \"er\", \"es\", \"especially\", \"est\", \"et\", \"et-al\", \"etc\", \"eu\", \"ev\", \"even\", \"ever\", \"every\", \"everybody\", \"everyone\", \"everything\", \"everywhere\", \"ex\", \"exactly\", \"example\", \"except\", \"ey\", \"f\", \"f2\", \"fa\", \"far\", \"fc\", \"few\", \"ff\", \"fi\", \"fifteen\", \"fifth\", \"fify\", \"fill\", \"find\", \"fire\", \"first\", \"five\", \"fix\", \"fj\", \"fl\", \"fn\", \"fo\", \"followed\", \"following\", \"follows\", \"for\", \"former\", \"formerly\", \"forth\", \"forty\", \"found\", \"four\", \"fr\", \"from\", \"front\", \"fs\", \"ft\", \"fu\", \"full\", \"further\", \"furthermore\", \"fy\", \"g\", \"ga\", \"gave\", \"ge\", \"get\", \"gets\", \"getting\", \"gi\", \"give\", \"given\", \"gives\", \"giving\", \"gj\", \"gl\", \"go\", \"goes\", \"going\", \"gone\", \"got\", \"gotten\", \"gr\", \"greetings\", \"gs\", \"gy\", \"h\", \"h2\", \"h3\", \"had\", \"hadn\", \"hadn't\", \"happens\", \"hardly\", \"has\", \"hasn\", \"hasnt\", \"hasn't\", \"have\", \"haven\", \"haven't\", \"having\", \"he\", \"hed\", \"he'd\", \"he'll\", \"hello\", \"help\", \"hence\", \"her\", \"here\", \"hereafter\", \"hereby\", \"herein\", \"heres\", \"here's\", \"hereupon\", \"hers\", \"herself\", \"hes\", \"he's\", \"hh\", \"hi\", \"hid\", \"him\", \"himself\", \"his\", \"hither\", \"hj\", \"ho\", \"home\", \"hopefully\", \"how\", \"howbeit\", \"however\", \"how's\", \"hr\", \"hs\", \"http\", \"hu\", \"hundred\", \"hy\", \"i\", \"i2\", \"i3\", \"i4\", \"i6\", \"i7\", \"i8\", \"ia\", \"ib\", \"ibid\", \"ic\", \"id\", \"i'd\", \"ie\", \"if\", \"ig\", \"ignored\", \"ih\", \"ii\", \"ij\", \"il\", \"i'll\", \"im\", \"i'm\", \"immediate\", \"immediately\", \"importance\", \"important\", \"in\", \"inasmuch\", \"inc\", \"indeed\", \"index\", \"indicate\", \"indicated\", \"indicates\", \"information\", \"inner\", \"insofar\", \"instead\", \"interest\", \"into\", \"invention\", \"inward\", \"io\", \"ip\", \"iq\", \"ir\", \"is\", \"isn\", \"isn't\", \"it\", \"itd\", \"it'd\", \"it'll\", \"its\", \"it's\", \"itself\", \"iv\", \"i've\", \"ix\", \"iy\", \"iz\", \"j\", \"jj\", \"jr\", \"js\", \"jt\", \"ju\", \"just\", \"k\", \"ke\", \"keep\", \"keeps\", \"kept\", \"kg\", \"kj\", \"km\", \"know\", \"known\", \"knows\", \"ko\", \"l\", \"l2\", \"la\", \"largely\", \"last\", \"lately\", \"later\", \"latter\", \"latterly\", \"lb\", \"lc\", \"le\", \"least\", \"les\", \"less\", \"lest\", \"let\", \"lets\", \"let's\", \"lf\", \"like\", \"liked\", \"likely\", \"line\", \"little\", \"lj\", \"ll\", \"ll\", \"ln\", \"lo\", \"look\", \"looking\", \"looks\", \"los\", \"lr\", \"ls\", \"lt\", \"ltd\", \"m\", \"m2\", \"ma\", \"made\", \"mainly\", \"make\", \"makes\", \"many\", \"may\", \"maybe\", \"me\", \"mean\", \"means\", \"meantime\", \"meanwhile\", \"merely\", \"mg\", \"might\", \"mightn\", \"mightn't\", \"mill\", \"million\", \"mine\", \"miss\", \"ml\", \"mn\", \"mo\", \"more\", \"moreover\", \"most\", \"mostly\", \"move\", \"mr\", \"mrs\", \"ms\", \"mt\", \"mu\", \"much\", \"mug\", \"must\", \"mustn\", \"mustn't\", \"my\", \"myself\", \"n\", \"n2\", \"na\", \"name\", \"namely\", \"nay\", \"nc\", \"nd\", \"ne\", \"near\", \"nearly\", \"necessarily\", \"necessary\", \"need\", \"needn\", \"needn't\", \"needs\", \"neither\", \"never\", \"nevertheless\", \"new\", \"next\", \"ng\", \"ni\", \"nine\", \"ninety\", \"nj\", \"nl\", \"nn\", \"no\", \"nobody\", \"non\", \"none\", \"nonetheless\", \"noone\", \"nor\", \"normally\", \"nos\", \"not\", \"noted\", \"nothing\", \"novel\", \"now\", \"nowhere\", \"nr\", \"ns\", \"nt\", \"ny\", \"o\", \"oa\", \"ob\", \"obtain\", \"obtained\", \"obviously\", \"oc\", \"od\", \"of\", \"off\", \"often\", \"og\", \"oh\", \"oi\", \"oj\", \"ok\", \"okay\", \"ol\", \"old\", \"om\", \"omitted\", \"on\", \"once\", \"one\", \"ones\", \"only\", \"onto\", \"oo\", \"op\", \"oq\", \"or\", \"ord\", \"os\", \"ot\", \"other\", \"others\", \"otherwise\", \"ou\", \"ought\", \"our\", \"ours\", \"ourselves\", \"out\", \"outside\", \"over\", \"overall\", \"ow\", \"owing\", \"own\", \"ox\", \"oz\", \"p\", \"p1\", \"p2\", \"p3\", \"page\", \"pagecount\", \"pages\", \"par\", \"part\", \"particular\", \"particularly\", \"pas\", \"past\", \"pc\", \"pd\", \"pe\", \"per\", \"perhaps\", \"pf\", \"ph\", \"pi\", \"pj\", \"pk\", \"pl\", \"placed\", \"please\", \"plus\", \"pm\", \"pn\", \"po\", \"poorly\", \"possible\", \"possibly\", \"potentially\", \"pp\", \"pq\", \"pr\", \"predominantly\", \"present\", \"presumably\", \"previously\", \"primarily\", \"probably\", \"promptly\", \"proud\", \"provides\", \"ps\", \"pt\", \"pu\", \"put\", \"py\", \"q\", \"qj\", \"qu\", \"que\", \"quickly\", \"quite\", \"qv\", \"r\", \"r2\", \"ra\", \"ran\", \"rather\", \"rc\", \"rd\", \"re\", \"readily\", \"really\", \"reasonably\", \"recent\", \"recently\", \"ref\", \"refs\", \"regarding\", \"regardless\", \"regards\", \"related\", \"relatively\", \"research\", \"research-articl\", \"respectively\", \"resulted\", \"resulting\", \"results\", \"rf\", \"rh\", \"ri\", \"right\", \"rj\", \"rl\", \"rm\", \"rn\", \"ro\", \"rq\", \"rr\", \"rs\", \"rt\", \"ru\", \"run\", \"rv\", \"ry\", \"s\", \"s2\", \"sa\", \"said\", \"same\", \"saw\", \"say\", \"saying\", \"says\", \"sc\", \"sd\", \"se\", \"sec\", \"second\", \"secondly\", \"section\", \"see\", \"seeing\", \"seem\", \"seemed\", \"seeming\", \"seems\", \"seen\", \"self\", \"selves\", \"sensible\", \"sent\", \"serious\", \"seriously\", \"seven\", \"several\", \"sf\", \"shall\", \"shan\", \"shan't\", \"she\", \"shed\", \"she'd\", \"she'll\", \"shes\", \"she's\", \"should\", \"shouldn\", \"shouldn't\", \"should've\", \"show\", \"showed\", \"shown\", \"showns\", \"shows\", \"si\", \"side\", \"significant\", \"significantly\", \"similar\", \"similarly\", \"since\", \"sincere\", \"six\", \"sixty\", \"sj\", \"sl\", \"slightly\", \"sm\", \"sn\", \"so\", \"some\", \"somebody\", \"somehow\", \"someone\", \"somethan\", \"something\", \"sometime\", \"sometimes\", \"somewhat\", \"somewhere\", \"soon\", \"sorry\", \"sp\", \"specifically\", \"specified\", \"specify\", \"specifying\", \"sq\", \"sr\", \"ss\", \"st\", \"still\", \"stop\", \"strongly\", \"sub\", \"substantially\", \"successfully\", \"such\", \"sufficiently\", \"suggest\", \"sup\", \"sure\", \"sy\", \"system\", \"sz\", \"t\", \"t1\", \"t2\", \"t3\", \"take\", \"taken\", \"taking\", \"tb\", \"tc\", \"td\", \"te\", \"tell\", \"ten\", \"tends\", \"tf\", \"th\", \"than\", \"thank\", \"thanks\", \"thanx\", \"that\", \"that'll\", \"thats\", \"that's\", \"that've\", \"the\", \"their\", \"theirs\", \"them\", \"themselves\", \"then\", \"thence\", \"there\", \"thereafter\", \"thereby\", \"thered\", \"therefore\", \"therein\", \"there'll\", \"thereof\", \"therere\", \"theres\", \"there's\", \"thereto\", \"thereupon\", \"there've\", \"these\", \"they\", \"theyd\", \"they'd\", \"they'll\", \"theyre\", \"they're\", \"they've\", \"thickv\", \"thin\", \"think\", \"third\", \"this\", \"thorough\", \"thoroughly\", \"those\", \"thou\", \"though\", \"thoughh\", \"thousand\", \"three\", \"throug\", \"through\", \"throughout\", \"thru\", \"thus\", \"ti\", \"til\", \"tip\", \"tj\", \"tl\", \"tm\", \"tn\", \"to\", \"together\", \"too\", \"took\", \"top\", \"toward\", \"towards\", \"tp\", \"tq\", \"tr\", \"tried\", \"tries\", \"truly\", \"try\", \"trying\", \"ts\", \"t's\", \"tt\", \"tv\", \"twelve\", \"twenty\", \"twice\", \"two\", \"tx\", \"u\", \"u201d\", \"ue\", \"ui\", \"uj\", \"uk\", \"um\", \"un\", \"under\", \"unfortunately\", \"unless\", \"unlike\", \"unlikely\", \"until\", \"unto\", \"uo\", \"up\", \"upon\", \"ups\", \"ur\", \"us\", \"use\", \"used\", \"useful\", \"usefully\", \"usefulness\", \"uses\", \"using\", \"usually\", \"ut\", \"v\", \"va\", \"value\", \"various\", \"vd\", \"ve\", \"ve\", \"very\", \"via\", \"viz\", \"vj\", \"vo\", \"vol\", \"vols\", \"volumtype\", \"vq\", \"vs\", \"vt\", \"vu\", \"w\", \"wa\", \"want\", \"wants\", \"was\", \"wasn\", \"wasnt\", \"wasn't\", \"way\", \"we\", \"wed\", \"we'd\", \"welcome\", \"well\", \"we'll\", \"well-b\", \"went\", \"were\", \"we're\", \"weren\", \"werent\", \"weren't\", \"we've\", \"what\", \"whatever\", \"what'll\", \"whats\", \"what's\", \"when\", \"whence\", \"whenever\", \"when's\", \"where\", \"whereafter\", \"whereas\", \"whereby\", \"wherein\", \"wheres\", \"where's\", \"whereupon\", \"wherever\", \"whether\", \"which\", \"while\", \"whim\", \"whither\", \"who\", \"whod\", \"whoever\", \"whole\", \"who'll\", \"whom\", \"whomever\", \"whos\", \"who's\", \"whose\", \"why\", \"why's\", \"wi\", \"widely\", \"will\", \"willing\", \"wish\", \"with\", \"within\", \"without\", \"wo\", \"won\", \"wonder\", \"wont\", \"won't\", \"words\", \"world\", \"would\", \"wouldn\", \"wouldnt\", \"wouldn't\", \"www\", \"x\", \"x1\", \"x2\", \"x3\", \"xf\", \"xi\", \"xj\", \"xk\", \"xl\", \"xn\", \"xo\", \"xs\", \"xt\", \"xv\", \"xx\", \"y\", \"y2\", \"yes\", \"yet\", \"yj\", \"yl\", \"you\", \"youd\", \"you'd\", \"you'll\", \"your\", \"youre\", \"you're\", \"yours\", \"yourself\", \"yourselves\", \"you've\", \"yr\", \"ys\", \"yt\", \"z\", \"zero\", \"zi\", \"zz\"]\n",
    "# type(stop_words), len(stop_words)"
   ]
  },
  {
   "cell_type": "markdown",
   "id": "cf0b88e7",
   "metadata": {
    "papermill": {
     "duration": 0.084542,
     "end_time": "2023-08-09T07:04:00.180235",
     "exception": false,
     "start_time": "2023-08-09T07:04:00.095693",
     "status": "completed"
    },
    "tags": []
   },
   "source": [
    "## Feature extraction  "
   ]
  },
  {
   "cell_type": "markdown",
   "id": "8e18458c",
   "metadata": {
    "papermill": {
     "duration": 0.084587,
     "end_time": "2023-08-09T07:04:00.351407",
     "exception": false,
     "start_time": "2023-08-09T07:04:00.266820",
     "status": "completed"
    },
    "tags": []
   },
   "source": [
    "### Understand CountVectorizer and TfidfVectorizer  "
   ]
  },
  {
   "cell_type": "code",
   "execution_count": 17,
   "id": "a1ba3aa8",
   "metadata": {
    "execution": {
     "iopub.execute_input": "2023-08-09T07:04:00.523049Z",
     "iopub.status.busy": "2023-08-09T07:04:00.522655Z",
     "iopub.status.idle": "2023-08-09T07:04:00.526742Z",
     "shell.execute_reply": "2023-08-09T07:04:00.525680Z"
    },
    "papermill": {
     "duration": 0.092691,
     "end_time": "2023-08-09T07:04:00.529049",
     "exception": false,
     "start_time": "2023-08-09T07:04:00.436358",
     "status": "completed"
    },
    "tags": []
   },
   "outputs": [],
   "source": [
    "# text = X_train.copy()\n",
    "# text.head()"
   ]
  },
  {
   "cell_type": "code",
   "execution_count": 18,
   "id": "9789288f",
   "metadata": {
    "execution": {
     "iopub.execute_input": "2023-08-09T07:04:00.701119Z",
     "iopub.status.busy": "2023-08-09T07:04:00.700724Z",
     "iopub.status.idle": "2023-08-09T07:04:00.704469Z",
     "shell.execute_reply": "2023-08-09T07:04:00.703683Z"
    },
    "papermill": {
     "duration": 0.092478,
     "end_time": "2023-08-09T07:04:00.706551",
     "exception": false,
     "start_time": "2023-08-09T07:04:00.614073",
     "status": "completed"
    },
    "tags": []
   },
   "outputs": [],
   "source": [
    "# vectorizer = TfidfVectorizer(stop_words=stop_words)\n",
    "# vectorized_text = vectorizer.fit_transform(text[\"reviewText\"])\n",
    "# vectorized_text"
   ]
  },
  {
   "cell_type": "markdown",
   "id": "1a5b2529",
   "metadata": {
    "papermill": {
     "duration": 0.084538,
     "end_time": "2023-08-09T07:04:00.876019",
     "exception": false,
     "start_time": "2023-08-09T07:04:00.791481",
     "status": "completed"
    },
    "tags": []
   },
   "source": [
    "`Without stop words`  \n",
    "<122068x58624 sparse matrix of type '<class 'numpy.float64'>'\n",
    "\twith 2312222 stored elements in Compressed Sparse Row format>\n",
    "\n",
    "`With stop words`  \n",
    "<122068x57784 sparse matrix of type '<class 'numpy.float64'>'\n",
    "\twith 1188395 stored elements in Compressed Sparse Row format>   "
   ]
  },
  {
   "cell_type": "code",
   "execution_count": 19,
   "id": "c2915aba",
   "metadata": {
    "execution": {
     "iopub.execute_input": "2023-08-09T07:04:01.049082Z",
     "iopub.status.busy": "2023-08-09T07:04:01.048697Z",
     "iopub.status.idle": "2023-08-09T07:04:01.052945Z",
     "shell.execute_reply": "2023-08-09T07:04:01.051789Z"
    },
    "papermill": {
     "duration": 0.094041,
     "end_time": "2023-08-09T07:04:01.055243",
     "exception": false,
     "start_time": "2023-08-09T07:04:00.961202",
     "status": "completed"
    },
    "tags": []
   },
   "outputs": [],
   "source": [
    "# vectorizer2 = CountVectorizer(stop_words=stop_words)\n",
    "# vectorized_text2 = vectorizer2.fit_transform(text[\"reviewText\"])\n",
    "# vectorized_text2"
   ]
  },
  {
   "cell_type": "markdown",
   "id": "43b24b49",
   "metadata": {
    "papermill": {
     "duration": 0.084049,
     "end_time": "2023-08-09T07:04:01.223899",
     "exception": false,
     "start_time": "2023-08-09T07:04:01.139850",
     "status": "completed"
    },
    "tags": []
   },
   "source": [
    "`Without stop words`  \n",
    "<122068x58624 sparse matrix of type '<class 'numpy.int64'>'\n",
    "\twith 2312222 stored elements in Compressed Sparse Row format>\n",
    "\n",
    "`With stop words`  \n",
    "<122068x57784 sparse matrix of type '<class 'numpy.int64'>'\n",
    "\twith 1188395 stored elements in Compressed Sparse Row format>"
   ]
  },
  {
   "cell_type": "markdown",
   "id": "41d48e96",
   "metadata": {
    "papermill": {
     "duration": 0.08478,
     "end_time": "2023-08-09T07:04:01.395236",
     "exception": false,
     "start_time": "2023-08-09T07:04:01.310456",
     "status": "completed"
    },
    "tags": []
   },
   "source": [
    "### Conclusion   \n",
    "`TfidfVectorizer is equivalent to CountVectorizer followed by TfidfTransformer.`  \n",
    "\n",
    "https://scikit-learn.org/stable/modules/generated/sklearn.feature_extraction.text.TfidfVectorizer.html"
   ]
  },
  {
   "cell_type": "markdown",
   "id": "00756280",
   "metadata": {
    "papermill": {
     "duration": 0.084165,
     "end_time": "2023-08-09T07:04:01.565918",
     "exception": false,
     "start_time": "2023-08-09T07:04:01.481753",
     "status": "completed"
    },
    "tags": []
   },
   "source": [
    "## Model building workflow  \n",
    "\n",
    "`Make pipeline for preprocesing and model training and predictions`  \n"
   ]
  },
  {
   "cell_type": "code",
   "execution_count": 20,
   "id": "fa7ff199",
   "metadata": {
    "execution": {
     "iopub.execute_input": "2023-08-09T07:04:01.737144Z",
     "iopub.status.busy": "2023-08-09T07:04:01.736769Z",
     "iopub.status.idle": "2023-08-09T07:04:01.741259Z",
     "shell.execute_reply": "2023-08-09T07:04:01.740155Z"
    },
    "papermill": {
     "duration": 0.092492,
     "end_time": "2023-08-09T07:04:01.743464",
     "exception": false,
     "start_time": "2023-08-09T07:04:01.650972",
     "status": "completed"
    },
    "tags": []
   },
   "outputs": [],
   "source": [
    "from sklearn.pipeline import Pipeline"
   ]
  },
  {
   "cell_type": "code",
   "execution_count": 21,
   "id": "461046f6",
   "metadata": {
    "execution": {
     "iopub.execute_input": "2023-08-09T07:04:01.913876Z",
     "iopub.status.busy": "2023-08-09T07:04:01.913459Z",
     "iopub.status.idle": "2023-08-09T07:04:01.920985Z",
     "shell.execute_reply": "2023-08-09T07:04:01.920186Z"
    },
    "papermill": {
     "duration": 0.09538,
     "end_time": "2023-08-09T07:04:01.923120",
     "exception": false,
     "start_time": "2023-08-09T07:04:01.827740",
     "status": "completed"
    },
    "tags": []
   },
   "outputs": [],
   "source": [
    "def preprocess_n_train(X_train, y_train, preprocessor, model):\n",
    "    pipe = Pipeline(steps=[\n",
    "                            (\"preprocessor\", preprocessor),\n",
    "                            (\"model\", model)\n",
    "                        ])\n",
    "    \n",
    "    pipe.fit(X_train, y_train)\n",
    "\n",
    "    print(\"Given model has been trained. Use predict method to get predictions array.\")\n",
    "    return pipe\n",
    "\n",
    "\n",
    "def predict_n_evaluate(pipeline, X_test, y_test):\n",
    "    y_pred = pipeline.predict(X_test)\n",
    "    print(f\"y_pred shape: {y_pred.shape}\")\n",
    "    print(f\"Summary of predictions: {np.unique(y_pred, return_counts=True)}\")\n",
    "    print(classification_report(y_test, y_pred))\n",
    "    print(confusion_matrix(y_test, y_pred))\n",
    "    return y_pred\n",
    "\n",
    "# def evaluate(y_test, y_pred):\n",
    "#     print(classification_report(y_test, y_pred))\n",
    "#     print(confusion_matrix(y_test, y_pred))\n",
    "#     # print(f1_score(y_test, y_pred))\n",
    "#     ConfusionMatrixDisplay(y_test, y_pred)\n",
    "#     return"
   ]
  },
  {
   "cell_type": "markdown",
   "id": "20a81dfc",
   "metadata": {
    "papermill": {
     "duration": 0.084743,
     "end_time": "2023-08-09T07:04:02.094873",
     "exception": false,
     "start_time": "2023-08-09T07:04:02.010130",
     "status": "completed"
    },
    "tags": []
   },
   "source": [
    "## Preprocessor(s)  "
   ]
  },
  {
   "cell_type": "code",
   "execution_count": 22,
   "id": "dcec723f",
   "metadata": {
    "execution": {
     "iopub.execute_input": "2023-08-09T07:04:02.268397Z",
     "iopub.status.busy": "2023-08-09T07:04:02.267725Z",
     "iopub.status.idle": "2023-08-09T07:04:02.272828Z",
     "shell.execute_reply": "2023-08-09T07:04:02.271690Z"
    },
    "papermill": {
     "duration": 0.09455,
     "end_time": "2023-08-09T07:04:02.275310",
     "exception": false,
     "start_time": "2023-08-09T07:04:02.180760",
     "status": "completed"
    },
    "tags": []
   },
   "outputs": [],
   "source": [
    "tvec = TfidfVectorizer()\n",
    "# tvec_sw = TfidfVectorizer(stop_words=stop_words)"
   ]
  },
  {
   "cell_type": "markdown",
   "id": "2098db30",
   "metadata": {
    "papermill": {
     "duration": 0.085181,
     "end_time": "2023-08-09T07:04:02.446485",
     "exception": false,
     "start_time": "2023-08-09T07:04:02.361304",
     "status": "completed"
    },
    "tags": []
   },
   "source": [
    "## Logistic Regression with TfidVectorizer for preprocessing  "
   ]
  },
  {
   "cell_type": "code",
   "execution_count": 23,
   "id": "40ecb024",
   "metadata": {
    "execution": {
     "iopub.execute_input": "2023-08-09T07:04:02.620608Z",
     "iopub.status.busy": "2023-08-09T07:04:02.619477Z",
     "iopub.status.idle": "2023-08-09T07:04:02.624063Z",
     "shell.execute_reply": "2023-08-09T07:04:02.623302Z"
    },
    "papermill": {
     "duration": 0.091736,
     "end_time": "2023-08-09T07:04:02.626247",
     "exception": false,
     "start_time": "2023-08-09T07:04:02.534511",
     "status": "completed"
    },
    "tags": []
   },
   "outputs": [],
   "source": [
    "from sklearn.linear_model import LogisticRegression"
   ]
  },
  {
   "cell_type": "code",
   "execution_count": 24,
   "id": "4c70c11f",
   "metadata": {
    "execution": {
     "iopub.execute_input": "2023-08-09T07:04:02.797786Z",
     "iopub.status.busy": "2023-08-09T07:04:02.797065Z",
     "iopub.status.idle": "2023-08-09T07:04:02.809605Z",
     "shell.execute_reply": "2023-08-09T07:04:02.808562Z"
    },
    "papermill": {
     "duration": 0.100846,
     "end_time": "2023-08-09T07:04:02.812050",
     "exception": false,
     "start_time": "2023-08-09T07:04:02.711204",
     "status": "completed"
    },
    "tags": []
   },
   "outputs": [
    {
     "data": {
      "text/html": [
       "<style>#sk-container-id-1 {color: black;background-color: white;}#sk-container-id-1 pre{padding: 0;}#sk-container-id-1 div.sk-toggleable {background-color: white;}#sk-container-id-1 label.sk-toggleable__label {cursor: pointer;display: block;width: 100%;margin-bottom: 0;padding: 0.3em;box-sizing: border-box;text-align: center;}#sk-container-id-1 label.sk-toggleable__label-arrow:before {content: \"▸\";float: left;margin-right: 0.25em;color: #696969;}#sk-container-id-1 label.sk-toggleable__label-arrow:hover:before {color: black;}#sk-container-id-1 div.sk-estimator:hover label.sk-toggleable__label-arrow:before {color: black;}#sk-container-id-1 div.sk-toggleable__content {max-height: 0;max-width: 0;overflow: hidden;text-align: left;background-color: #f0f8ff;}#sk-container-id-1 div.sk-toggleable__content pre {margin: 0.2em;color: black;border-radius: 0.25em;background-color: #f0f8ff;}#sk-container-id-1 input.sk-toggleable__control:checked~div.sk-toggleable__content {max-height: 200px;max-width: 100%;overflow: auto;}#sk-container-id-1 input.sk-toggleable__control:checked~label.sk-toggleable__label-arrow:before {content: \"▾\";}#sk-container-id-1 div.sk-estimator input.sk-toggleable__control:checked~label.sk-toggleable__label {background-color: #d4ebff;}#sk-container-id-1 div.sk-label input.sk-toggleable__control:checked~label.sk-toggleable__label {background-color: #d4ebff;}#sk-container-id-1 input.sk-hidden--visually {border: 0;clip: rect(1px 1px 1px 1px);clip: rect(1px, 1px, 1px, 1px);height: 1px;margin: -1px;overflow: hidden;padding: 0;position: absolute;width: 1px;}#sk-container-id-1 div.sk-estimator {font-family: monospace;background-color: #f0f8ff;border: 1px dotted black;border-radius: 0.25em;box-sizing: border-box;margin-bottom: 0.5em;}#sk-container-id-1 div.sk-estimator:hover {background-color: #d4ebff;}#sk-container-id-1 div.sk-parallel-item::after {content: \"\";width: 100%;border-bottom: 1px solid gray;flex-grow: 1;}#sk-container-id-1 div.sk-label:hover label.sk-toggleable__label {background-color: #d4ebff;}#sk-container-id-1 div.sk-serial::before {content: \"\";position: absolute;border-left: 1px solid gray;box-sizing: border-box;top: 0;bottom: 0;left: 50%;z-index: 0;}#sk-container-id-1 div.sk-serial {display: flex;flex-direction: column;align-items: center;background-color: white;padding-right: 0.2em;padding-left: 0.2em;position: relative;}#sk-container-id-1 div.sk-item {position: relative;z-index: 1;}#sk-container-id-1 div.sk-parallel {display: flex;align-items: stretch;justify-content: center;background-color: white;position: relative;}#sk-container-id-1 div.sk-item::before, #sk-container-id-1 div.sk-parallel-item::before {content: \"\";position: absolute;border-left: 1px solid gray;box-sizing: border-box;top: 0;bottom: 0;left: 50%;z-index: -1;}#sk-container-id-1 div.sk-parallel-item {display: flex;flex-direction: column;z-index: 1;position: relative;background-color: white;}#sk-container-id-1 div.sk-parallel-item:first-child::after {align-self: flex-end;width: 50%;}#sk-container-id-1 div.sk-parallel-item:last-child::after {align-self: flex-start;width: 50%;}#sk-container-id-1 div.sk-parallel-item:only-child::after {width: 0;}#sk-container-id-1 div.sk-dashed-wrapped {border: 1px dashed gray;margin: 0 0.4em 0.5em 0.4em;box-sizing: border-box;padding-bottom: 0.4em;background-color: white;}#sk-container-id-1 div.sk-label label {font-family: monospace;font-weight: bold;display: inline-block;line-height: 1.2em;}#sk-container-id-1 div.sk-label-container {text-align: center;}#sk-container-id-1 div.sk-container {/* jupyter's `normalize.less` sets `[hidden] { display: none; }` but bootstrap.min.css set `[hidden] { display: none !important; }` so we also need the `!important` here to be able to override the default hidden behavior on the sphinx rendered scikit-learn.org. See: https://github.com/scikit-learn/scikit-learn/issues/21755 */display: inline-block !important;position: relative;}#sk-container-id-1 div.sk-text-repr-fallback {display: none;}</style><div id=\"sk-container-id-1\" class=\"sk-top-container\"><div class=\"sk-text-repr-fallback\"><pre>LogisticRegression(max_iter=1000)</pre><b>In a Jupyter environment, please rerun this cell to show the HTML representation or trust the notebook. <br />On GitHub, the HTML representation is unable to render, please try loading this page with nbviewer.org.</b></div><div class=\"sk-container\" hidden><div class=\"sk-item\"><div class=\"sk-estimator sk-toggleable\"><input class=\"sk-toggleable__control sk-hidden--visually\" id=\"sk-estimator-id-1\" type=\"checkbox\" checked><label for=\"sk-estimator-id-1\" class=\"sk-toggleable__label sk-toggleable__label-arrow\">LogisticRegression</label><div class=\"sk-toggleable__content\"><pre>LogisticRegression(max_iter=1000)</pre></div></div></div></div></div>"
      ],
      "text/plain": [
       "LogisticRegression(max_iter=1000)"
      ]
     },
     "execution_count": 24,
     "metadata": {},
     "output_type": "execute_result"
    }
   ],
   "source": [
    "logreg = LogisticRegression(max_iter=1000)\n",
    "logreg"
   ]
  },
  {
   "cell_type": "code",
   "execution_count": 25,
   "id": "2a18b4b0",
   "metadata": {
    "execution": {
     "iopub.execute_input": "2023-08-09T07:04:03.004210Z",
     "iopub.status.busy": "2023-08-09T07:04:03.003715Z",
     "iopub.status.idle": "2023-08-09T07:04:03.008239Z",
     "shell.execute_reply": "2023-08-09T07:04:03.006957Z"
    },
    "papermill": {
     "duration": 0.111885,
     "end_time": "2023-08-09T07:04:03.011440",
     "exception": false,
     "start_time": "2023-08-09T07:04:02.899555",
     "status": "completed"
    },
    "tags": []
   },
   "outputs": [],
   "source": [
    "# tvec = TfidfVectorizer()\n",
    "# cvec = CountVectorizer()        # Note that TfidfVectorizer and CountVectorizer+TfidsTransformer do the same function\n",
    "# tvec, cvec"
   ]
  },
  {
   "cell_type": "code",
   "execution_count": 26,
   "id": "826b9a3c",
   "metadata": {
    "execution": {
     "iopub.execute_input": "2023-08-09T07:04:03.192901Z",
     "iopub.status.busy": "2023-08-09T07:04:03.192194Z",
     "iopub.status.idle": "2023-08-09T07:04:03.196004Z",
     "shell.execute_reply": "2023-08-09T07:04:03.195211Z"
    },
    "papermill": {
     "duration": 0.092427,
     "end_time": "2023-08-09T07:04:03.198093",
     "exception": false,
     "start_time": "2023-08-09T07:04:03.105666",
     "status": "completed"
    },
    "tags": []
   },
   "outputs": [],
   "source": [
    "# logreg_pipe = preprocess_n_train(X_train, y_train, tvec, logreg)\n",
    "# logreg_pipe"
   ]
  },
  {
   "cell_type": "code",
   "execution_count": 27,
   "id": "96199e0b",
   "metadata": {
    "execution": {
     "iopub.execute_input": "2023-08-09T07:04:03.371560Z",
     "iopub.status.busy": "2023-08-09T07:04:03.370853Z",
     "iopub.status.idle": "2023-08-09T07:04:03.374610Z",
     "shell.execute_reply": "2023-08-09T07:04:03.373896Z"
    },
    "papermill": {
     "duration": 0.09326,
     "end_time": "2023-08-09T07:04:03.376590",
     "exception": false,
     "start_time": "2023-08-09T07:04:03.283330",
     "status": "completed"
    },
    "tags": []
   },
   "outputs": [],
   "source": [
    "# y_pred_logreg = predict_n_evaluate(logreg_pipe, X_test, y_test)\n",
    "# y_pred_logreg"
   ]
  },
  {
   "cell_type": "markdown",
   "id": "d6149536",
   "metadata": {
    "papermill": {
     "duration": 0.085312,
     "end_time": "2023-08-09T07:04:03.546768",
     "exception": false,
     "start_time": "2023-08-09T07:04:03.461456",
     "status": "completed"
    },
    "tags": []
   },
   "source": [
    "### Logistic Regression with stop words  "
   ]
  },
  {
   "cell_type": "code",
   "execution_count": 28,
   "id": "d773be4c",
   "metadata": {
    "execution": {
     "iopub.execute_input": "2023-08-09T07:04:03.719568Z",
     "iopub.status.busy": "2023-08-09T07:04:03.718846Z",
     "iopub.status.idle": "2023-08-09T07:04:03.723032Z",
     "shell.execute_reply": "2023-08-09T07:04:03.722014Z"
    },
    "papermill": {
     "duration": 0.093147,
     "end_time": "2023-08-09T07:04:03.725141",
     "exception": false,
     "start_time": "2023-08-09T07:04:03.631994",
     "status": "completed"
    },
    "tags": []
   },
   "outputs": [],
   "source": [
    "# tvec_sw = TfidfVectorizer(stop_words=stop_words)"
   ]
  },
  {
   "cell_type": "code",
   "execution_count": 29,
   "id": "98631bdf",
   "metadata": {
    "execution": {
     "iopub.execute_input": "2023-08-09T07:04:03.956265Z",
     "iopub.status.busy": "2023-08-09T07:04:03.955840Z",
     "iopub.status.idle": "2023-08-09T07:04:03.960784Z",
     "shell.execute_reply": "2023-08-09T07:04:03.959656Z"
    },
    "papermill": {
     "duration": 0.152428,
     "end_time": "2023-08-09T07:04:03.963039",
     "exception": false,
     "start_time": "2023-08-09T07:04:03.810611",
     "status": "completed"
    },
    "tags": []
   },
   "outputs": [],
   "source": [
    "# logreg_sw_pipe = preprocess_n_train(X_train, y_train, tvec_sw, logreg)\n",
    "# logreg_sw_pipe"
   ]
  },
  {
   "cell_type": "code",
   "execution_count": 30,
   "id": "8cb56266",
   "metadata": {
    "execution": {
     "iopub.execute_input": "2023-08-09T07:04:04.138572Z",
     "iopub.status.busy": "2023-08-09T07:04:04.138184Z",
     "iopub.status.idle": "2023-08-09T07:04:04.142870Z",
     "shell.execute_reply": "2023-08-09T07:04:04.141769Z"
    },
    "papermill": {
     "duration": 0.093387,
     "end_time": "2023-08-09T07:04:04.145111",
     "exception": false,
     "start_time": "2023-08-09T07:04:04.051724",
     "status": "completed"
    },
    "tags": []
   },
   "outputs": [],
   "source": [
    "# y_pred_logreg_sw = predict_n_evaluate(logreg_sw_pipe, X_test, y_test)\n",
    "# y_pred_logreg_sw"
   ]
  },
  {
   "cell_type": "markdown",
   "id": "9a07741f",
   "metadata": {
    "papermill": {
     "duration": 0.085058,
     "end_time": "2023-08-09T07:04:04.316262",
     "exception": false,
     "start_time": "2023-08-09T07:04:04.231204",
     "status": "completed"
    },
    "tags": []
   },
   "source": [
    "### Logistic regression with different ngram ranges  "
   ]
  },
  {
   "cell_type": "markdown",
   "id": "05ceab30",
   "metadata": {
    "papermill": {
     "duration": 0.085312,
     "end_time": "2023-08-09T07:04:04.485967",
     "exception": false,
     "start_time": "2023-08-09T07:04:04.400655",
     "status": "completed"
    },
    "tags": []
   },
   "source": [
    "#### ngram range (1,2)  "
   ]
  },
  {
   "cell_type": "code",
   "execution_count": 31,
   "id": "ac991440",
   "metadata": {
    "execution": {
     "iopub.execute_input": "2023-08-09T07:04:04.658522Z",
     "iopub.status.busy": "2023-08-09T07:04:04.657773Z",
     "iopub.status.idle": "2023-08-09T07:04:04.662455Z",
     "shell.execute_reply": "2023-08-09T07:04:04.661326Z"
    },
    "papermill": {
     "duration": 0.093726,
     "end_time": "2023-08-09T07:04:04.664911",
     "exception": false,
     "start_time": "2023-08-09T07:04:04.571185",
     "status": "completed"
    },
    "tags": []
   },
   "outputs": [],
   "source": [
    "# tvec_ngram_2 = TfidfVectorizer(ngram_range=(1,2))"
   ]
  },
  {
   "cell_type": "code",
   "execution_count": 32,
   "id": "85e88b09",
   "metadata": {
    "execution": {
     "iopub.execute_input": "2023-08-09T07:04:04.850447Z",
     "iopub.status.busy": "2023-08-09T07:04:04.849705Z",
     "iopub.status.idle": "2023-08-09T07:04:04.853542Z",
     "shell.execute_reply": "2023-08-09T07:04:04.852771Z"
    },
    "papermill": {
     "duration": 0.10476,
     "end_time": "2023-08-09T07:04:04.855641",
     "exception": false,
     "start_time": "2023-08-09T07:04:04.750881",
     "status": "completed"
    },
    "tags": []
   },
   "outputs": [],
   "source": [
    "# logreg_ng2_pipe = preprocess_n_train(X_train, y_train, tvec_ngram_2, logreg)\n",
    "# logreg_ng2_pipe"
   ]
  },
  {
   "cell_type": "code",
   "execution_count": 33,
   "id": "672c8f29",
   "metadata": {
    "execution": {
     "iopub.execute_input": "2023-08-09T07:04:05.030546Z",
     "iopub.status.busy": "2023-08-09T07:04:05.029835Z",
     "iopub.status.idle": "2023-08-09T07:04:05.033683Z",
     "shell.execute_reply": "2023-08-09T07:04:05.032900Z"
    },
    "papermill": {
     "duration": 0.09452,
     "end_time": "2023-08-09T07:04:05.035864",
     "exception": false,
     "start_time": "2023-08-09T07:04:04.941344",
     "status": "completed"
    },
    "tags": []
   },
   "outputs": [],
   "source": [
    "# y_pred_logreg_ng2 = predict_n_evaluate(logreg_ng2_pipe, X_test, y_test)\n",
    "# y_pred_logreg_ng2"
   ]
  },
  {
   "cell_type": "markdown",
   "id": "6e0cf713",
   "metadata": {
    "papermill": {
     "duration": 0.085305,
     "end_time": "2023-08-09T07:04:05.208651",
     "exception": false,
     "start_time": "2023-08-09T07:04:05.123346",
     "status": "completed"
    },
    "tags": []
   },
   "source": [
    "### Logistic regression with C=2, ngram range (1,2), stop words as None and min_df, max_df adjusted\n",
    "### Class weight balanced"
   ]
  },
  {
   "cell_type": "code",
   "execution_count": 34,
   "id": "7cf46f25",
   "metadata": {
    "execution": {
     "iopub.execute_input": "2023-08-09T07:04:05.382735Z",
     "iopub.status.busy": "2023-08-09T07:04:05.382268Z",
     "iopub.status.idle": "2023-08-09T07:04:05.386427Z",
     "shell.execute_reply": "2023-08-09T07:04:05.385685Z"
    },
    "papermill": {
     "duration": 0.093545,
     "end_time": "2023-08-09T07:04:05.388485",
     "exception": false,
     "start_time": "2023-08-09T07:04:05.294940",
     "status": "completed"
    },
    "tags": []
   },
   "outputs": [],
   "source": [
    "# logreg = LogisticRegression(max_iter=100000, C=2, class_weight=\"balanced\")"
   ]
  },
  {
   "cell_type": "code",
   "execution_count": 35,
   "id": "8c55ce9c",
   "metadata": {
    "execution": {
     "iopub.execute_input": "2023-08-09T07:04:05.561004Z",
     "iopub.status.busy": "2023-08-09T07:04:05.560021Z",
     "iopub.status.idle": "2023-08-09T07:04:05.564007Z",
     "shell.execute_reply": "2023-08-09T07:04:05.563267Z"
    },
    "papermill": {
     "duration": 0.093079,
     "end_time": "2023-08-09T07:04:05.566152",
     "exception": false,
     "start_time": "2023-08-09T07:04:05.473073",
     "status": "completed"
    },
    "tags": []
   },
   "outputs": [],
   "source": [
    "# tvec_ngram_2_sw_df = TfidfVectorizer(ngram_range=(1,2), stop_words=None, min_df=0.0001, max_df=0.50)\n",
    "# tvec_ngram_2_sw_df"
   ]
  },
  {
   "cell_type": "code",
   "execution_count": 36,
   "id": "d2514ca6",
   "metadata": {
    "execution": {
     "iopub.execute_input": "2023-08-09T07:04:05.739472Z",
     "iopub.status.busy": "2023-08-09T07:04:05.738812Z",
     "iopub.status.idle": "2023-08-09T07:04:05.742799Z",
     "shell.execute_reply": "2023-08-09T07:04:05.741978Z"
    },
    "papermill": {
     "duration": 0.093312,
     "end_time": "2023-08-09T07:04:05.745191",
     "exception": false,
     "start_time": "2023-08-09T07:04:05.651879",
     "status": "completed"
    },
    "tags": []
   },
   "outputs": [],
   "source": [
    "# logreg_ng2_sw_df_pipe = preprocess_n_train(X_train, y_train, tvec_ngram_2_sw_df, logreg)\n",
    "# logreg_ng2_sw_df_pipe"
   ]
  },
  {
   "cell_type": "code",
   "execution_count": 37,
   "id": "bfe2e2f1",
   "metadata": {
    "execution": {
     "iopub.execute_input": "2023-08-09T07:04:05.919275Z",
     "iopub.status.busy": "2023-08-09T07:04:05.918058Z",
     "iopub.status.idle": "2023-08-09T07:04:05.923025Z",
     "shell.execute_reply": "2023-08-09T07:04:05.922243Z"
    },
    "papermill": {
     "duration": 0.093896,
     "end_time": "2023-08-09T07:04:05.925249",
     "exception": false,
     "start_time": "2023-08-09T07:04:05.831353",
     "status": "completed"
    },
    "tags": []
   },
   "outputs": [],
   "source": [
    "# y_pred_logreg_ng2_sw_df = predict_n_evaluate(logreg_ng2_sw_df_pipe, X_test, y_test)\n",
    "# y_pred_logreg_ng2_sw_df"
   ]
  },
  {
   "cell_type": "markdown",
   "id": "1f09eac6",
   "metadata": {
    "papermill": {
     "duration": 0.089328,
     "end_time": "2023-08-09T07:04:06.101311",
     "exception": false,
     "start_time": "2023-08-09T07:04:06.011983",
     "status": "completed"
    },
    "tags": []
   },
   "source": [
    "## Log reg with parameters from GridSearchCV  \n",
    "\n",
    "`This is the best score with \"reviewText column alone for analysis`  "
   ]
  },
  {
   "cell_type": "code",
   "execution_count": 38,
   "id": "3484c802",
   "metadata": {
    "execution": {
     "iopub.execute_input": "2023-08-09T07:04:06.276647Z",
     "iopub.status.busy": "2023-08-09T07:04:06.275897Z",
     "iopub.status.idle": "2023-08-09T07:04:06.281250Z",
     "shell.execute_reply": "2023-08-09T07:04:06.280472Z"
    },
    "papermill": {
     "duration": 0.095515,
     "end_time": "2023-08-09T07:04:06.283473",
     "exception": false,
     "start_time": "2023-08-09T07:04:06.187958",
     "status": "completed"
    },
    "tags": []
   },
   "outputs": [],
   "source": [
    "logreg_cv1 = LogisticRegression(max_iter=100000, C=10)\n",
    "tvec_cv1 = TfidfVectorizer(max_features=None, ngram_range=(1,2))"
   ]
  },
  {
   "cell_type": "code",
   "execution_count": 39,
   "id": "181dbbcd",
   "metadata": {
    "execution": {
     "iopub.execute_input": "2023-08-09T07:04:06.458359Z",
     "iopub.status.busy": "2023-08-09T07:04:06.457600Z",
     "iopub.status.idle": "2023-08-09T07:04:06.462606Z",
     "shell.execute_reply": "2023-08-09T07:04:06.461874Z"
    },
    "papermill": {
     "duration": 0.094597,
     "end_time": "2023-08-09T07:04:06.464858",
     "exception": false,
     "start_time": "2023-08-09T07:04:06.370261",
     "status": "completed"
    },
    "tags": []
   },
   "outputs": [],
   "source": [
    "pipe_cv1 = Pipeline(steps=[\n",
    "    (\"preprocessor\", tvec_cv1),\n",
    "    (\"model\", logreg_cv1)\n",
    "])"
   ]
  },
  {
   "cell_type": "code",
   "execution_count": 40,
   "id": "1e88e510",
   "metadata": {
    "execution": {
     "iopub.execute_input": "2023-08-09T07:04:06.639049Z",
     "iopub.status.busy": "2023-08-09T07:04:06.638277Z",
     "iopub.status.idle": "2023-08-09T07:04:06.642511Z",
     "shell.execute_reply": "2023-08-09T07:04:06.641691Z"
    },
    "papermill": {
     "duration": 0.0941,
     "end_time": "2023-08-09T07:04:06.645067",
     "exception": false,
     "start_time": "2023-08-09T07:04:06.550967",
     "status": "completed"
    },
    "tags": []
   },
   "outputs": [],
   "source": [
    "# pipe_cv1.fit(X_train, y_train)"
   ]
  },
  {
   "cell_type": "code",
   "execution_count": 41,
   "id": "cdda3882",
   "metadata": {
    "execution": {
     "iopub.execute_input": "2023-08-09T07:04:06.818027Z",
     "iopub.status.busy": "2023-08-09T07:04:06.817600Z",
     "iopub.status.idle": "2023-08-09T07:04:06.821891Z",
     "shell.execute_reply": "2023-08-09T07:04:06.820706Z"
    },
    "papermill": {
     "duration": 0.093614,
     "end_time": "2023-08-09T07:04:06.824203",
     "exception": false,
     "start_time": "2023-08-09T07:04:06.730589",
     "status": "completed"
    },
    "tags": []
   },
   "outputs": [],
   "source": [
    "# pipe_cv1.score(X_train, y_train)"
   ]
  },
  {
   "cell_type": "markdown",
   "id": "9c96d540",
   "metadata": {
    "papermill": {
     "duration": 0.085241,
     "end_time": "2023-08-09T07:04:06.994976",
     "exception": false,
     "start_time": "2023-08-09T07:04:06.909735",
     "status": "completed"
    },
    "tags": []
   },
   "source": [
    "## SVM model  "
   ]
  },
  {
   "cell_type": "code",
   "execution_count": 42,
   "id": "edcbdac3",
   "metadata": {
    "execution": {
     "iopub.execute_input": "2023-08-09T07:04:07.173335Z",
     "iopub.status.busy": "2023-08-09T07:04:07.172949Z",
     "iopub.status.idle": "2023-08-09T07:04:07.177030Z",
     "shell.execute_reply": "2023-08-09T07:04:07.175958Z"
    },
    "papermill": {
     "duration": 0.0944,
     "end_time": "2023-08-09T07:04:07.179289",
     "exception": false,
     "start_time": "2023-08-09T07:04:07.084889",
     "status": "completed"
    },
    "tags": []
   },
   "outputs": [],
   "source": [
    "# from sklearn.svm import LinearSVC"
   ]
  },
  {
   "cell_type": "code",
   "execution_count": 43,
   "id": "cd333702",
   "metadata": {
    "execution": {
     "iopub.execute_input": "2023-08-09T07:04:07.353568Z",
     "iopub.status.busy": "2023-08-09T07:04:07.353189Z",
     "iopub.status.idle": "2023-08-09T07:04:07.357535Z",
     "shell.execute_reply": "2023-08-09T07:04:07.356394Z"
    },
    "papermill": {
     "duration": 0.094329,
     "end_time": "2023-08-09T07:04:07.359696",
     "exception": false,
     "start_time": "2023-08-09T07:04:07.265367",
     "status": "completed"
    },
    "tags": []
   },
   "outputs": [],
   "source": [
    "# svm = LinearSVC()\n",
    "# svm"
   ]
  },
  {
   "cell_type": "code",
   "execution_count": 44,
   "id": "e07bf149",
   "metadata": {
    "execution": {
     "iopub.execute_input": "2023-08-09T07:04:07.534039Z",
     "iopub.status.busy": "2023-08-09T07:04:07.532994Z",
     "iopub.status.idle": "2023-08-09T07:04:07.537958Z",
     "shell.execute_reply": "2023-08-09T07:04:07.536845Z"
    },
    "papermill": {
     "duration": 0.094279,
     "end_time": "2023-08-09T07:04:07.540335",
     "exception": false,
     "start_time": "2023-08-09T07:04:07.446056",
     "status": "completed"
    },
    "tags": []
   },
   "outputs": [],
   "source": [
    "# svm_pipe = preprocess_n_train(X_train, y_train, tvec, svm)\n",
    "# svm_pipe"
   ]
  },
  {
   "cell_type": "code",
   "execution_count": 45,
   "id": "bf6aba73",
   "metadata": {
    "execution": {
     "iopub.execute_input": "2023-08-09T07:04:07.714224Z",
     "iopub.status.busy": "2023-08-09T07:04:07.713829Z",
     "iopub.status.idle": "2023-08-09T07:04:07.718240Z",
     "shell.execute_reply": "2023-08-09T07:04:07.717171Z"
    },
    "papermill": {
     "duration": 0.094315,
     "end_time": "2023-08-09T07:04:07.720336",
     "exception": false,
     "start_time": "2023-08-09T07:04:07.626021",
     "status": "completed"
    },
    "tags": []
   },
   "outputs": [],
   "source": [
    "# y_pred_svm = predict_n_evaluate(svm_pipe, X_test, y_test)\n",
    "# y_pred_svm"
   ]
  },
  {
   "cell_type": "markdown",
   "id": "8b41fc84",
   "metadata": {
    "papermill": {
     "duration": 0.086561,
     "end_time": "2023-08-09T07:04:07.891917",
     "exception": false,
     "start_time": "2023-08-09T07:04:07.805356",
     "status": "completed"
    },
    "tags": []
   },
   "source": [
    "### SVM model with stop words  "
   ]
  },
  {
   "cell_type": "code",
   "execution_count": 46,
   "id": "1048313f",
   "metadata": {
    "execution": {
     "iopub.execute_input": "2023-08-09T07:04:08.068301Z",
     "iopub.status.busy": "2023-08-09T07:04:08.067075Z",
     "iopub.status.idle": "2023-08-09T07:04:08.072016Z",
     "shell.execute_reply": "2023-08-09T07:04:08.071151Z"
    },
    "papermill": {
     "duration": 0.097249,
     "end_time": "2023-08-09T07:04:08.074971",
     "exception": false,
     "start_time": "2023-08-09T07:04:07.977722",
     "status": "completed"
    },
    "tags": []
   },
   "outputs": [],
   "source": [
    "# svm_sw_pipe = preprocess_n_train(X_train, y_train, tvec_sw, svm)\n",
    "# svm_sw_pipe"
   ]
  },
  {
   "cell_type": "code",
   "execution_count": 47,
   "id": "b0f7157a",
   "metadata": {
    "execution": {
     "iopub.execute_input": "2023-08-09T07:04:08.250709Z",
     "iopub.status.busy": "2023-08-09T07:04:08.250288Z",
     "iopub.status.idle": "2023-08-09T07:04:08.254429Z",
     "shell.execute_reply": "2023-08-09T07:04:08.253514Z"
    },
    "papermill": {
     "duration": 0.094508,
     "end_time": "2023-08-09T07:04:08.256452",
     "exception": false,
     "start_time": "2023-08-09T07:04:08.161944",
     "status": "completed"
    },
    "tags": []
   },
   "outputs": [],
   "source": [
    "# y_pred_svm_sw = predict_n_evaluate(svm_sw_pipe, X_test, y_test)\n",
    "# y_pred_svm_sw"
   ]
  },
  {
   "cell_type": "markdown",
   "id": "6a090e3a",
   "metadata": {
    "papermill": {
     "duration": 0.08495,
     "end_time": "2023-08-09T07:04:08.426925",
     "exception": false,
     "start_time": "2023-08-09T07:04:08.341975",
     "status": "completed"
    },
    "tags": []
   },
   "source": [
    "## Naive Bayes model  "
   ]
  },
  {
   "cell_type": "markdown",
   "id": "88ac3f0f",
   "metadata": {
    "papermill": {
     "duration": 0.085695,
     "end_time": "2023-08-09T07:04:08.598330",
     "exception": false,
     "start_time": "2023-08-09T07:04:08.512635",
     "status": "completed"
    },
    "tags": []
   },
   "source": [
    "### MultinomialNB  "
   ]
  },
  {
   "cell_type": "code",
   "execution_count": 48,
   "id": "d792663f",
   "metadata": {
    "execution": {
     "iopub.execute_input": "2023-08-09T07:04:08.772294Z",
     "iopub.status.busy": "2023-08-09T07:04:08.771226Z",
     "iopub.status.idle": "2023-08-09T07:04:08.775337Z",
     "shell.execute_reply": "2023-08-09T07:04:08.774580Z"
    },
    "papermill": {
     "duration": 0.093345,
     "end_time": "2023-08-09T07:04:08.777418",
     "exception": false,
     "start_time": "2023-08-09T07:04:08.684073",
     "status": "completed"
    },
    "tags": []
   },
   "outputs": [],
   "source": [
    "# from sklearn.naive_bayes import GaussianNB, BernoulliNB, CategoricalNB, ComplementNB, MultinomialNB"
   ]
  },
  {
   "cell_type": "code",
   "execution_count": 49,
   "id": "02852416",
   "metadata": {
    "execution": {
     "iopub.execute_input": "2023-08-09T07:04:08.951304Z",
     "iopub.status.busy": "2023-08-09T07:04:08.950586Z",
     "iopub.status.idle": "2023-08-09T07:04:08.954252Z",
     "shell.execute_reply": "2023-08-09T07:04:08.953541Z"
    },
    "papermill": {
     "duration": 0.092874,
     "end_time": "2023-08-09T07:04:08.956143",
     "exception": false,
     "start_time": "2023-08-09T07:04:08.863269",
     "status": "completed"
    },
    "tags": []
   },
   "outputs": [],
   "source": [
    "# mnb = MultinomialNB()\n",
    "# mnb"
   ]
  },
  {
   "cell_type": "code",
   "execution_count": 50,
   "id": "03d024a5",
   "metadata": {
    "execution": {
     "iopub.execute_input": "2023-08-09T07:04:09.130995Z",
     "iopub.status.busy": "2023-08-09T07:04:09.130319Z",
     "iopub.status.idle": "2023-08-09T07:04:09.134274Z",
     "shell.execute_reply": "2023-08-09T07:04:09.133287Z"
    },
    "papermill": {
     "duration": 0.093951,
     "end_time": "2023-08-09T07:04:09.136463",
     "exception": false,
     "start_time": "2023-08-09T07:04:09.042512",
     "status": "completed"
    },
    "tags": []
   },
   "outputs": [],
   "source": [
    "# mnb_pipe = preprocess_n_train(X_train, y_train, tvec, mnb)\n",
    "# mnb_pipe"
   ]
  },
  {
   "cell_type": "code",
   "execution_count": 51,
   "id": "1a1d5194",
   "metadata": {
    "execution": {
     "iopub.execute_input": "2023-08-09T07:04:09.368584Z",
     "iopub.status.busy": "2023-08-09T07:04:09.367585Z",
     "iopub.status.idle": "2023-08-09T07:04:09.371852Z",
     "shell.execute_reply": "2023-08-09T07:04:09.371088Z"
    },
    "papermill": {
     "duration": 0.093142,
     "end_time": "2023-08-09T07:04:09.373897",
     "exception": false,
     "start_time": "2023-08-09T07:04:09.280755",
     "status": "completed"
    },
    "tags": []
   },
   "outputs": [],
   "source": [
    "# y_pred_mnb = predict_n_evaluate(mnb_pipe, X_test, y_test)\n",
    "# y_pred_mnb"
   ]
  },
  {
   "cell_type": "markdown",
   "id": "8d1593e1",
   "metadata": {
    "papermill": {
     "duration": 0.084889,
     "end_time": "2023-08-09T07:04:09.544768",
     "exception": false,
     "start_time": "2023-08-09T07:04:09.459879",
     "status": "completed"
    },
    "tags": []
   },
   "source": [
    "### GaussianNB  "
   ]
  },
  {
   "cell_type": "markdown",
   "id": "0ef14d59",
   "metadata": {
    "papermill": {
     "duration": 0.085275,
     "end_time": "2023-08-09T07:04:09.717124",
     "exception": false,
     "start_time": "2023-08-09T07:04:09.631849",
     "status": "completed"
    },
    "tags": []
   },
   "source": [
    "https://stackoverflow.com/questions/28384680/scikit-learns-pipeline-a-sparse-matrix-was-passed-but-dense-data-is-required"
   ]
  },
  {
   "cell_type": "code",
   "execution_count": 52,
   "id": "79e9c620",
   "metadata": {
    "execution": {
     "iopub.execute_input": "2023-08-09T07:04:09.889891Z",
     "iopub.status.busy": "2023-08-09T07:04:09.889063Z",
     "iopub.status.idle": "2023-08-09T07:04:09.893560Z",
     "shell.execute_reply": "2023-08-09T07:04:09.892662Z"
    },
    "papermill": {
     "duration": 0.093587,
     "end_time": "2023-08-09T07:04:09.895713",
     "exception": false,
     "start_time": "2023-08-09T07:04:09.802126",
     "status": "completed"
    },
    "tags": []
   },
   "outputs": [],
   "source": [
    "# gnb = GaussianNB()\n",
    "# gnb"
   ]
  },
  {
   "cell_type": "code",
   "execution_count": 53,
   "id": "6f305cef",
   "metadata": {
    "execution": {
     "iopub.execute_input": "2023-08-09T07:04:10.074200Z",
     "iopub.status.busy": "2023-08-09T07:04:10.073082Z",
     "iopub.status.idle": "2023-08-09T07:04:10.077410Z",
     "shell.execute_reply": "2023-08-09T07:04:10.076644Z"
    },
    "papermill": {
     "duration": 0.096906,
     "end_time": "2023-08-09T07:04:10.079721",
     "exception": false,
     "start_time": "2023-08-09T07:04:09.982815",
     "status": "completed"
    },
    "tags": []
   },
   "outputs": [],
   "source": [
    "# gnb_pipe = preprocess_n_train(X_train, y_train, tvec, gnb)\n",
    "# gnb_pipe"
   ]
  },
  {
   "cell_type": "markdown",
   "id": "b87396aa",
   "metadata": {
    "papermill": {
     "duration": 0.085898,
     "end_time": "2023-08-09T07:04:10.251573",
     "exception": false,
     "start_time": "2023-08-09T07:04:10.165675",
     "status": "completed"
    },
    "tags": []
   },
   "source": [
    "## Submitting predictions to Kaggle competition  "
   ]
  },
  {
   "cell_type": "code",
   "execution_count": 54,
   "id": "161d46b7",
   "metadata": {
    "execution": {
     "iopub.execute_input": "2023-08-09T07:04:10.427135Z",
     "iopub.status.busy": "2023-08-09T07:04:10.426334Z",
     "iopub.status.idle": "2023-08-09T07:04:10.433490Z",
     "shell.execute_reply": "2023-08-09T07:04:10.432755Z"
    },
    "papermill": {
     "duration": 0.096984,
     "end_time": "2023-08-09T07:04:10.435595",
     "exception": false,
     "start_time": "2023-08-09T07:04:10.338611",
     "status": "completed"
    },
    "tags": []
   },
   "outputs": [],
   "source": [
    "def submit(selected_model=logreg, selected_preprocessor=tvec):\n",
    "    \n",
    "    # Retrain on the whole train.csv file  \n",
    "    traindf = pd.read_csv(\"/kaggle/input/sentiment-prediction-on-movie-reviews/train.csv\")\n",
    "    X_train = traindf[\"reviewText\"]\n",
    "    X_train.fillna(\"empty\", inplace=True)\n",
    "    y_train = traindf[\"sentiment\"]\n",
    "    pipe = preprocess_n_train(X_train, y_train, selected_preprocessor, selected_model)\n",
    "    \n",
    "    # Predict on test.csv file\n",
    "    testdf = pd.read_csv(\"/kaggle/input/sentiment-prediction-on-movie-reviews/test.csv\")\n",
    "    X_test = testdf[\"reviewText\"]\n",
    "    X_test.fillna(\"empty\", inplace=True)\n",
    "    \n",
    "    y_pred = pipe.predict(X_test)\n",
    "    \n",
    "    pred_df = pd.DataFrame(y_pred)\n",
    "    pred_df.columns = [\"sentiment\"]\n",
    "    pred_df.index.name = \"id\"\n",
    "    pred_df.to_csv(\"submission.csv\")\n",
    "    \n",
    "    return \"Successfully created the submission file!!!\""
   ]
  },
  {
   "cell_type": "code",
   "execution_count": 55,
   "id": "e30d5132",
   "metadata": {
    "execution": {
     "iopub.execute_input": "2023-08-09T07:04:10.609919Z",
     "iopub.status.busy": "2023-08-09T07:04:10.608693Z",
     "iopub.status.idle": "2023-08-09T07:04:10.613094Z",
     "shell.execute_reply": "2023-08-09T07:04:10.612358Z"
    },
    "papermill": {
     "duration": 0.093539,
     "end_time": "2023-08-09T07:04:10.615059",
     "exception": false,
     "start_time": "2023-08-09T07:04:10.521520",
     "status": "completed"
    },
    "tags": []
   },
   "outputs": [],
   "source": [
    "# submit(logreg_cv1, tvec_cv1)"
   ]
  },
  {
   "cell_type": "markdown",
   "id": "a891de79",
   "metadata": {
    "papermill": {
     "duration": 0.087522,
     "end_time": "2023-08-09T07:04:10.788344",
     "exception": false,
     "start_time": "2023-08-09T07:04:10.700822",
     "status": "completed"
    },
    "tags": []
   },
   "source": [
    "# PART II  "
   ]
  },
  {
   "cell_type": "markdown",
   "id": "5cf2c041",
   "metadata": {
    "papermill": {
     "duration": 0.085436,
     "end_time": "2023-08-09T07:04:10.961602",
     "exception": false,
     "start_time": "2023-08-09T07:04:10.876166",
     "status": "completed"
    },
    "tags": []
   },
   "source": [
    "## Part 2: Merge \"movies.csv\" with \"train.csv\" to see if score improves  "
   ]
  },
  {
   "cell_type": "markdown",
   "id": "b8638b4d",
   "metadata": {
    "papermill": {
     "duration": 0.086151,
     "end_time": "2023-08-09T07:04:11.136373",
     "exception": false,
     "start_time": "2023-08-09T07:04:11.050222",
     "status": "completed"
    },
    "tags": []
   },
   "source": [
    "### Custom functions  "
   ]
  },
  {
   "cell_type": "code",
   "execution_count": 56,
   "id": "3b8ab92a",
   "metadata": {
    "execution": {
     "iopub.execute_input": "2023-08-09T07:04:11.311992Z",
     "iopub.status.busy": "2023-08-09T07:04:11.311320Z",
     "iopub.status.idle": "2023-08-09T07:04:11.316198Z",
     "shell.execute_reply": "2023-08-09T07:04:11.315365Z"
    },
    "papermill": {
     "duration": 0.094723,
     "end_time": "2023-08-09T07:04:11.318148",
     "exception": false,
     "start_time": "2023-08-09T07:04:11.223425",
     "status": "completed"
    },
    "tags": []
   },
   "outputs": [],
   "source": [
    "def load_csv(filename: str):\n",
    "    df = pd.read_csv(f\"/kaggle/input/sentiment-prediction-on-movie-reviews/{filename}.csv\")\n",
    "    return df"
   ]
  },
  {
   "cell_type": "code",
   "execution_count": 57,
   "id": "a1911ce2",
   "metadata": {
    "execution": {
     "iopub.execute_input": "2023-08-09T07:04:11.493317Z",
     "iopub.status.busy": "2023-08-09T07:04:11.492602Z",
     "iopub.status.idle": "2023-08-09T07:04:11.497826Z",
     "shell.execute_reply": "2023-08-09T07:04:11.496994Z"
    },
    "papermill": {
     "duration": 0.094976,
     "end_time": "2023-08-09T07:04:11.500090",
     "exception": false,
     "start_time": "2023-08-09T07:04:11.405114",
     "status": "completed"
    },
    "tags": []
   },
   "outputs": [],
   "source": [
    "def inspect(df: pd.DataFrame):\n",
    "    print(f\"Shape of the dataframe: {df.shape}\")\n",
    "    print()\n",
    "    print(f\"Columns in the dataframe:\\n{df.columns}\")\n",
    "    print()\n",
    "    print(f\"{df.info()}\")\n",
    "    print()\n",
    "    # print(f\"Summary: {df.describe()}\")\n",
    "    print(f\"Missing values:\\n{df.isna().sum()}\")\n",
    "    return"
   ]
  },
  {
   "cell_type": "code",
   "execution_count": 58,
   "id": "2c75bdca",
   "metadata": {
    "execution": {
     "iopub.execute_input": "2023-08-09T07:04:11.670602Z",
     "iopub.status.busy": "2023-08-09T07:04:11.670169Z",
     "iopub.status.idle": "2023-08-09T07:04:11.676043Z",
     "shell.execute_reply": "2023-08-09T07:04:11.674972Z"
    },
    "papermill": {
     "duration": 0.093625,
     "end_time": "2023-08-09T07:04:11.678106",
     "exception": false,
     "start_time": "2023-08-09T07:04:11.584481",
     "status": "completed"
    },
    "tags": []
   },
   "outputs": [],
   "source": [
    "def name_fl(name):\n",
    "    l = name.split()\n",
    "    n = ' '.join((l[0], l[-1]))\n",
    "    return n"
   ]
  },
  {
   "cell_type": "code",
   "execution_count": 59,
   "id": "9568951d",
   "metadata": {
    "execution": {
     "iopub.execute_input": "2023-08-09T07:04:11.852415Z",
     "iopub.status.busy": "2023-08-09T07:04:11.851733Z",
     "iopub.status.idle": "2023-08-09T07:04:11.881853Z",
     "shell.execute_reply": "2023-08-09T07:04:11.880985Z"
    },
    "papermill": {
     "duration": 0.11984,
     "end_time": "2023-08-09T07:04:11.884279",
     "exception": false,
     "start_time": "2023-08-09T07:04:11.764439",
     "status": "completed"
    },
    "tags": []
   },
   "outputs": [],
   "source": [
    "def select_features(df: pd.DataFrame, moviesdf: pd.DataFrame, row_thresh_null=None):\n",
    "    '''\n",
    "    This function merges the given dataframes. Note that the first df must be \"train\" or \"test\" and\n",
    "    the second df should be \"movies\".\n",
    "    Note: Sentiment column is present only in \"train.csv\" file and not \"test.csv\" file.\n",
    "    '''\n",
    "    \n",
    "    # Drop duplicates from moviesdf\n",
    "#     movies_unique = moviesdf.drop_duplicates(subset=[\"movieid\"])\n",
    "\n",
    "    # Drop duplicates using groupby - clubs similar rows and fills in missing values better\n",
    "    movies_unique = moviesdf.fillna(value=np.nan).groupby(\"movieid\").first().reset_index()\n",
    "    \n",
    "\n",
    "    # Handle missing values in movies.csv better than just dropping duplicates?\n",
    "#     movies_unique = moviesdf.copy()\n",
    "#     movies_unique[[\"audienceScore\", \"runtimeMinutes\"]] = movies_unique[[\"audienceScore\", \"runtimeMinutes\"]].interpolate(method='linear', axis=0)\n",
    "#     movies_unique = movies_unique.fillna(value=np.nan).groupby(\"movieid\").first().fillna(method='ffill').reset_index()\n",
    "\n",
    "    \n",
    "\n",
    "    # Merge df and movies_unique\n",
    "    df_merged = pd.merge(df, movies_unique, on=\"movieid\", how='left')\n",
    "    \n",
    "    # Rename \"isTopCritic\" column, if it exists, to \"isFrequentReviewer\"\n",
    "    df_merged.rename(columns={\"isTopCritic\": \"isFrequentReviewer\"}, inplace=True)\n",
    "    \n",
    "    # Drop columns\n",
    "#     df_merged = df_merged.drop(columns=[\"title\", \"ratingContents\", \"releaseDateTheaters\", \"releaseDateStreaming\", \"distributor\", \"soundType\"])\n",
    "#     df_merged = df_merged.drop(columns=[\"title\", \"soundType\"])\n",
    "    \n",
    "    # Drop rows (OPTIONAL: Uses kwarg row_thresh_null)\n",
    "    if row_thresh_null != None:\n",
    "        df_merged.dropna(axis=0, thresh=(df_merged.shape[1] - row_thresh_null), inplace=True)\n",
    "        \n",
    "\n",
    "    # Create new columns based on reviewText\n",
    "    final = df_merged.copy()\n",
    "    final[\"reviewYN\"] = np.where(final[\"reviewText\"].isnull(), 1, 0)    # Feature engineering - adding a new column\n",
    "    final[\"reviewWC\"] = final.apply(lambda x: len(str(x[\"reviewText\"]).split()), axis=1)    # Feature engineering - adding second new column\n",
    "    \n",
    "    # Clean text (replace numbers with empty string) and fill missing values in \"reviewText\" with empty string\n",
    "    final[\"reviewText\"] = final[\"reviewText\"].str.replace('\\d+', '', regex=True)\n",
    "    final[\"reviewText\"] = final[\"reviewText\"].fillna(\"neutral\")\n",
    "    \n",
    "    # Fill missing values in \"rating\", \"genre\", original columns with the word \"Unknown\"\n",
    "    final[\"rating\"] = final[\"rating\"].fillna(\"unknown\")\n",
    "    final[\"originalLanguage\"] = final[\"originalLanguage\"].fillna(\"unknown\")\n",
    "    final[\"genre\"] = final[\"genre\"].fillna(\"unknown\")\n",
    "    final[\"genre\"] = final[\"genre\"].apply(lambda x: re.sub(r\"-\", \"\", x))\n",
    "    final[\"genreSorted\"] = final[\"genre\"].apply(lambda x: (\",\").join(sorted(x.split(\", \"))))\n",
    "#     final[\"genre\"] = final[\"genre\"].replace(to_replace={\"&\": \"\"})\n",
    "\n",
    "    # Impute missing values for \"audienceScore\" and \"runtimeMinutes\" columns\n",
    "    final[\"audienceScore\"] = final[\"audienceScore\"].fillna(final[\"audienceScore\"].mean())\n",
    "    final[\"runtimeMinutes\"] = final[\"runtimeMinutes\"].fillna(final[\"runtimeMinutes\"].median())\n",
    "    \n",
    "    # Preprocess and impute missing values in \"boxOffice\" column\n",
    "    final[\"boxOffice\"] = final[\"boxOffice\"].str[1:]\n",
    "    final[\"boxOffice\"] = final[\"boxOffice\"].replace(to_replace={\"M\": \"*1000000\", \"K\": \"*1000\"}, regex=True)\n",
    "    final[\"boxOffice\"] = final[\"boxOffice\"].loc[final[\"boxOffice\"].notnull()].apply(lambda x: eval(str(x)))\n",
    "    final[\"boxOffice\"] = final[\"boxOffice\"].fillna(final[\"boxOffice\"].median())\n",
    "    # (Optional) Replace outliers in boxOffice with median\n",
    "#     median = final[\"boxOffice\"].describe()['50%']\n",
    "#     iqr = final[\"boxOffice\"].describe()['75%'] - final[\"boxOffice\"].describe()['25%']\n",
    "#     ll = median - (1.5*iqr)\n",
    "#     ul = median + (1.5*iqr)\n",
    "#     final.loc[final[\"boxOffice\"] > ul, \"boxOffice\"] = median\n",
    "    \n",
    "    # Clean language names\n",
    "    final[\"originalLanguage\"].replace({\"English (United Kingdom)\": \"English\", \n",
    "                                            \"English (Australia)\" : \"English\",\n",
    "                                            \"French (France)\": \"French\", \n",
    "                                            \"French (Canada)\": \"French\",\n",
    "                                            \"Portuguese (Brazil)\": \"Portuguese\",\n",
    "                                            \"Spanish (Spain)\": \"Spanish\"},                                         \n",
    "                                            inplace=True)\n",
    "    \n",
    "    # Clean reviewerName column\n",
    "    pre_post_fixes = {\"Mr. \": \"\", \"Mrs. \": \"\", \"Ms. \": \"\", \"Dr. \": \"\", \n",
    "                      \" MD\": \"\", \" DDS\": \"\", \" DVM\": \"\", \" Jr.\": \"\", \" PhD\": \"\", \" II\": \"\", \" IV\": \"\"}\n",
    "    final[\"reviewerName\"] = final[\"reviewerName\"].replace(pre_post_fixes, regex=True)\n",
    "    final[\"reviewerName\"] = final[\"reviewerName\"].apply(name_fl)\n",
    "    \n",
    "    # Handle 'ratingContents' column\n",
    "    final[\"ratingContents\"] = final[\"ratingContents\"].fillna(\"neutral\")\n",
    "    final[\"rcSorted\"] = final[\"ratingContents\"].apply(lambda x: (\",\").join(sorted(x.strip(\"][\").split(\", \"))))\n",
    "    final[\"rcSorted\"] = final[\"rcSorted\"].apply(lambda x: re.sub(r\"'\", \"\", x))\n",
    "    final[\"rcSorted\"] = final[\"rcSorted\"].apply(lambda x: re.sub(r\"[/\\s]\", \"_\", x))  \n",
    "    \n",
    "    # Handle 'ratingContents' column\n",
    "    final[\"distributor\"] = final[\"distributor\"].fillna(\"unknown\")\n",
    "    \n",
    "    # Work with 'releaseDateTheaters', releaseDateStreaming column\n",
    "    final[[\"releaseDateTheaters\", \"releaseDateStreaming\"]] = final[[\"releaseDateTheaters\", \"releaseDateStreaming\"]].astype('datetime64[ns]')\n",
    "\n",
    "    final[\"releaseDate\"] = final[[\"releaseDateTheaters\", \"releaseDateStreaming\"]].min(axis=1, skipna=False)\n",
    "    final[\"releaseDate\"] = final[\"releaseDate\"].fillna(final[\"releaseDate\"].median())\n",
    "\n",
    "\n",
    "    final[\"releaseYear\"] = final[\"releaseDate\"].dt.year\n",
    "    final[\"releaseMonth\"] = final[\"releaseDate\"].dt.month\n",
    "    \n",
    "    # Compute \"releaseDiff\" column and fill missing values in \"releaseDiff\" and (optional) replace outliers\n",
    "    final[\"releaseDiff\"] = (final[\"releaseDateStreaming\"] - final[\"releaseDateTheaters\"]) / np.timedelta64(1, 'D')\n",
    "    final[\"releaseDiff\"] = final[\"releaseDiff\"].apply(lambda x: abs(x))\n",
    "    final[\"releaseDiff\"] = final[\"releaseDiff\"].fillna(value=0)\n",
    "#     final[\"releaseDiff\"] = final[\"releaseDiff\"].fillna(final[\"releaseDiff\"].median())\n",
    "    # median = final[\"releaseDiff\"].describe()['50%']\n",
    "    # iqr = final[\"releaseDiff\"].describe()['75%'] - final[\"releaseDiff\"].describe()['25%']\n",
    "    # ll = median - (1.5*iqr)\n",
    "    # ul = median + (1.5*iqr)\n",
    "    # final.loc[final[\"releaseDiff\"] > ul, \"releaseDiff\"] = median\n",
    "    # final.loc[final[\"releaseDiff\"] < ll, \"releaseDiff\"] = median\n",
    "    \n",
    "    # Create new feature columns\n",
    "    \n",
    "    # Convert audienceScore to categories  \n",
    "    num_bins_as = 20\n",
    "    final[\"audScoreBins\"] = pd.cut(final['audienceScore'], bins=num_bins_as, labels=False)\n",
    "    \n",
    "    # Convert runtimeMinutes to categories  \n",
    "#     num_bins_rt = 20\n",
    "    final[\"runtimeBins\"] = pd.cut(final['runtimeMinutes'], bins=[0,75,120,180,565], labels=[4,3,2,1])\n",
    "    \n",
    "    # Convert boxOffice to categories  \n",
    "    num_bins_bo = 5\n",
    "    final[\"boxOfficeBins\"] = pd.cut(final['boxOffice'], bins=num_bins_bo, labels=False)\n",
    "    \n",
    "    # Convert releaseDiff to categories  \n",
    "    num_bins_rd = 5\n",
    "    final[\"releaseDiffBins\"] = pd.cut(final['releaseDiff'], bins=[-1, 180, 360, 1000, 40000], labels=[0, 1, 2, 3])\n",
    "\n",
    "    return final"
   ]
  },
  {
   "cell_type": "code",
   "execution_count": 60,
   "id": "debc22d9",
   "metadata": {
    "execution": {
     "iopub.execute_input": "2023-08-09T07:04:12.058964Z",
     "iopub.status.busy": "2023-08-09T07:04:12.058303Z",
     "iopub.status.idle": "2023-08-09T07:04:12.065642Z",
     "shell.execute_reply": "2023-08-09T07:04:12.064827Z"
    },
    "papermill": {
     "duration": 0.097667,
     "end_time": "2023-08-09T07:04:12.067829",
     "exception": false,
     "start_time": "2023-08-09T07:04:11.970162",
     "status": "completed"
    },
    "tags": []
   },
   "outputs": [],
   "source": [
    "def split_train_predict(features, labels, pipeline, test_size=0.25, random_state=42):\n",
    "    # cols = features.columns\n",
    "    if len(features.shape) == 1:\n",
    "        features = features.to_numpy().reshape(-1, 1)  # reshape to 2D array\n",
    "    features = pd.DataFrame(features)\n",
    "    X_train, X_test, y_train, y_test = train_test_split(features, labels, test_size=test_size, random_state=random_state)\n",
    "    pipeline.fit(X_train, y_train)\n",
    "    y_pred = pipeline.predict(X_test)\n",
    "    print(classification_report(y_test, y_pred))\n",
    "    print(confusion_matrix(y_test, y_pred))\n",
    "    return pipeline"
   ]
  },
  {
   "cell_type": "markdown",
   "id": "f4efff09",
   "metadata": {
    "papermill": {
     "duration": 0.084792,
     "end_time": "2023-08-09T07:04:12.238374",
     "exception": false,
     "start_time": "2023-08-09T07:04:12.153582",
     "status": "completed"
    },
    "tags": []
   },
   "source": [
    "### Merge \"train.csv\" file with \"movies.csv\" file  "
   ]
  },
  {
   "cell_type": "code",
   "execution_count": 61,
   "id": "cad28005",
   "metadata": {
    "execution": {
     "iopub.execute_input": "2023-08-09T07:04:12.411974Z",
     "iopub.status.busy": "2023-08-09T07:04:12.411161Z",
     "iopub.status.idle": "2023-08-09T07:04:28.073699Z",
     "shell.execute_reply": "2023-08-09T07:04:28.072384Z"
    },
    "papermill": {
     "duration": 15.751841,
     "end_time": "2023-08-09T07:04:28.076407",
     "exception": false,
     "start_time": "2023-08-09T07:04:12.324566",
     "status": "completed"
    },
    "tags": []
   },
   "outputs": [
    {
     "name": "stdout",
     "output_type": "stream",
     "text": [
      "Shape of the dataframe: (162758, 30)\n",
      "\n",
      "Columns in the dataframe:\n",
      "Index(['movieid', 'reviewerName', 'isFrequentReviewer', 'reviewText',\n",
      "       'sentiment', 'title', 'audienceScore', 'rating', 'ratingContents',\n",
      "       'releaseDateTheaters', 'releaseDateStreaming', 'runtimeMinutes',\n",
      "       'genre', 'originalLanguage', 'director', 'boxOffice', 'distributor',\n",
      "       'soundType', 'reviewYN', 'reviewWC', 'genreSorted', 'rcSorted',\n",
      "       'releaseDate', 'releaseYear', 'releaseMonth', 'releaseDiff',\n",
      "       'audScoreBins', 'runtimeBins', 'boxOfficeBins', 'releaseDiffBins'],\n",
      "      dtype='object')\n",
      "\n",
      "<class 'pandas.core.frame.DataFrame'>\n",
      "Int64Index: 162758 entries, 0 to 162757\n",
      "Data columns (total 30 columns):\n",
      " #   Column                Non-Null Count   Dtype         \n",
      "---  ------                --------------   -----         \n",
      " 0   movieid               162758 non-null  object        \n",
      " 1   reviewerName          162758 non-null  object        \n",
      " 2   isFrequentReviewer    162758 non-null  bool          \n",
      " 3   reviewText            162758 non-null  object        \n",
      " 4   sentiment             162758 non-null  object        \n",
      " 5   title                 162758 non-null  object        \n",
      " 6   audienceScore         162758 non-null  float64       \n",
      " 7   rating                162758 non-null  object        \n",
      " 8   ratingContents        162758 non-null  object        \n",
      " 9   releaseDateTheaters   146403 non-null  datetime64[ns]\n",
      " 10  releaseDateStreaming  157353 non-null  datetime64[ns]\n",
      " 11  runtimeMinutes        162758 non-null  float64       \n",
      " 12  genre                 162758 non-null  object        \n",
      " 13  originalLanguage      162758 non-null  object        \n",
      " 14  director              162758 non-null  object        \n",
      " 15  boxOffice             162758 non-null  float64       \n",
      " 16  distributor           162758 non-null  object        \n",
      " 17  soundType             93466 non-null   object        \n",
      " 18  reviewYN              162758 non-null  int64         \n",
      " 19  reviewWC              162758 non-null  int64         \n",
      " 20  genreSorted           162758 non-null  object        \n",
      " 21  rcSorted              162758 non-null  object        \n",
      " 22  releaseDate           162758 non-null  datetime64[ns]\n",
      " 23  releaseYear           162758 non-null  int64         \n",
      " 24  releaseMonth          162758 non-null  int64         \n",
      " 25  releaseDiff           162758 non-null  float64       \n",
      " 26  audScoreBins          162758 non-null  int64         \n",
      " 27  runtimeBins           162758 non-null  category      \n",
      " 28  boxOfficeBins         162758 non-null  int64         \n",
      " 29  releaseDiffBins       162758 non-null  category      \n",
      "dtypes: bool(1), category(2), datetime64[ns](3), float64(4), int64(6), object(14)\n",
      "memory usage: 35.2+ MB\n",
      "None\n",
      "\n",
      "Missing values:\n",
      "movieid                     0\n",
      "reviewerName                0\n",
      "isFrequentReviewer          0\n",
      "reviewText                  0\n",
      "sentiment                   0\n",
      "title                       0\n",
      "audienceScore               0\n",
      "rating                      0\n",
      "ratingContents              0\n",
      "releaseDateTheaters     16355\n",
      "releaseDateStreaming     5405\n",
      "runtimeMinutes              0\n",
      "genre                       0\n",
      "originalLanguage            0\n",
      "director                    0\n",
      "boxOffice                   0\n",
      "distributor                 0\n",
      "soundType               69292\n",
      "reviewYN                    0\n",
      "reviewWC                    0\n",
      "genreSorted                 0\n",
      "rcSorted                    0\n",
      "releaseDate                 0\n",
      "releaseYear                 0\n",
      "releaseMonth                0\n",
      "releaseDiff                 0\n",
      "audScoreBins                0\n",
      "runtimeBins                 0\n",
      "boxOfficeBins               0\n",
      "releaseDiffBins             0\n",
      "dtype: int64\n"
     ]
    }
   ],
   "source": [
    "merged = select_features(load_csv(\"train\"), load_csv(\"movies\"), row_thresh_null=None)\n",
    "inspect(merged)"
   ]
  },
  {
   "cell_type": "markdown",
   "id": "258d4042",
   "metadata": {
    "papermill": {
     "duration": 0.087014,
     "end_time": "2023-08-09T07:04:28.251939",
     "exception": false,
     "start_time": "2023-08-09T07:04:28.164925",
     "status": "completed"
    },
    "tags": []
   },
   "source": [
    "### EDA releaseDiff  "
   ]
  },
  {
   "cell_type": "code",
   "execution_count": 62,
   "id": "a406e333",
   "metadata": {
    "execution": {
     "iopub.execute_input": "2023-08-09T07:04:28.428416Z",
     "iopub.status.busy": "2023-08-09T07:04:28.427991Z",
     "iopub.status.idle": "2023-08-09T07:04:28.446149Z",
     "shell.execute_reply": "2023-08-09T07:04:28.445047Z"
    },
    "papermill": {
     "duration": 0.1085,
     "end_time": "2023-08-09T07:04:28.448398",
     "exception": false,
     "start_time": "2023-08-09T07:04:28.339898",
     "status": "completed"
    },
    "tags": []
   },
   "outputs": [
    {
     "data": {
      "text/plain": [
       "count    162758.000000\n",
       "mean       1653.469015\n",
       "std        4581.420922\n",
       "min           0.000000\n",
       "25%          65.000000\n",
       "50%         116.000000\n",
       "75%         375.000000\n",
       "max       38922.000000\n",
       "Name: releaseDiff, dtype: float64"
      ]
     },
     "execution_count": 62,
     "metadata": {},
     "output_type": "execute_result"
    }
   ],
   "source": [
    "# abs values\n",
    "merged[\"releaseDiff\"].describe()"
   ]
  },
  {
   "cell_type": "code",
   "execution_count": 63,
   "id": "810a52ab",
   "metadata": {
    "execution": {
     "iopub.execute_input": "2023-08-09T07:04:28.624324Z",
     "iopub.status.busy": "2023-08-09T07:04:28.623951Z",
     "iopub.status.idle": "2023-08-09T07:04:28.633347Z",
     "shell.execute_reply": "2023-08-09T07:04:28.632348Z"
    },
    "papermill": {
     "duration": 0.100377,
     "end_time": "2023-08-09T07:04:28.635654",
     "exception": false,
     "start_time": "2023-08-09T07:04:28.535277",
     "status": "completed"
    },
    "tags": []
   },
   "outputs": [
    {
     "data": {
      "text/plain": [
       "0    111750\n",
       "3     32557\n",
       "1      9920\n",
       "2      8531\n",
       "Name: releaseDiffBins, dtype: int64"
      ]
     },
     "execution_count": 63,
     "metadata": {},
     "output_type": "execute_result"
    }
   ],
   "source": [
    "merged['releaseDiffBins'].value_counts()"
   ]
  },
  {
   "cell_type": "code",
   "execution_count": 64,
   "id": "20907877",
   "metadata": {
    "execution": {
     "iopub.execute_input": "2023-08-09T07:04:28.811066Z",
     "iopub.status.busy": "2023-08-09T07:04:28.810648Z",
     "iopub.status.idle": "2023-08-09T07:04:29.183919Z",
     "shell.execute_reply": "2023-08-09T07:04:29.182826Z"
    },
    "papermill": {
     "duration": 0.463932,
     "end_time": "2023-08-09T07:04:29.186394",
     "exception": false,
     "start_time": "2023-08-09T07:04:28.722462",
     "status": "completed"
    },
    "tags": []
   },
   "outputs": [
    {
     "data": {
      "text/plain": [
       "<Axes: xlabel='sentiment', ylabel='releaseDiff'>"
      ]
     },
     "execution_count": 64,
     "metadata": {},
     "output_type": "execute_result"
    },
    {
     "data": {
      "image/png": "[encoded data removed]",
      "text/plain": [
       "<Figure size 640x480 with 1 Axes>"
      ]
     },
     "metadata": {},
     "output_type": "display_data"
    }
   ],
   "source": [
    "sns.boxplot(x=merged['sentiment'], y=merged['releaseDiff'], showfliers=False)"
   ]
  },
  {
   "cell_type": "code",
   "execution_count": 65,
   "id": "c5f4759d",
   "metadata": {
    "execution": {
     "iopub.execute_input": "2023-08-09T07:04:29.363497Z",
     "iopub.status.busy": "2023-08-09T07:04:29.363084Z",
     "iopub.status.idle": "2023-08-09T07:04:30.073487Z",
     "shell.execute_reply": "2023-08-09T07:04:30.072169Z"
    },
    "papermill": {
     "duration": 0.801912,
     "end_time": "2023-08-09T07:04:30.076324",
     "exception": false,
     "start_time": "2023-08-09T07:04:29.274412",
     "status": "completed"
    },
    "tags": []
   },
   "outputs": [
    {
     "data": {
      "text/plain": [
       "<seaborn.axisgrid.FacetGrid at 0x7a7c90e387f0>"
      ]
     },
     "execution_count": 65,
     "metadata": {},
     "output_type": "execute_result"
    },
    {
     "data": {
      "image/png": "[encoded data removed]",
      "text/plain": [
       "<Figure size 500x500 with 1 Axes>"
      ]
     },
     "metadata": {},
     "output_type": "display_data"
    }
   ],
   "source": [
    "sns.displot(merged['releaseDiffBins'])"
   ]
  },
  {
   "cell_type": "code",
   "execution_count": 66,
   "id": "372bc09e",
   "metadata": {
    "execution": {
     "iopub.execute_input": "2023-08-09T07:04:30.260069Z",
     "iopub.status.busy": "2023-08-09T07:04:30.259676Z",
     "iopub.status.idle": "2023-08-09T07:04:30.278458Z",
     "shell.execute_reply": "2023-08-09T07:04:30.277357Z"
    },
    "papermill": {
     "duration": 0.110427,
     "end_time": "2023-08-09T07:04:30.280896",
     "exception": false,
     "start_time": "2023-08-09T07:04:30.170469",
     "status": "completed"
    },
    "tags": []
   },
   "outputs": [
    {
     "data": {
      "text/plain": [
       "POSITIVE    34446\n",
       "NEGATIVE    16562\n",
       "Name: sentiment, dtype: int64"
      ]
     },
     "execution_count": 66,
     "metadata": {},
     "output_type": "execute_result"
    }
   ],
   "source": [
    "merged['sentiment'].loc[merged['releaseDiffBins'] > 0].value_counts()"
   ]
  },
  {
   "cell_type": "code",
   "execution_count": 67,
   "id": "d65dc939",
   "metadata": {
    "execution": {
     "iopub.execute_input": "2023-08-09T07:04:30.478489Z",
     "iopub.status.busy": "2023-08-09T07:04:30.478031Z",
     "iopub.status.idle": "2023-08-09T07:04:30.490314Z",
     "shell.execute_reply": "2023-08-09T07:04:30.489104Z"
    },
    "papermill": {
     "duration": 0.104426,
     "end_time": "2023-08-09T07:04:30.492483",
     "exception": false,
     "start_time": "2023-08-09T07:04:30.388057",
     "status": "completed"
    },
    "tags": []
   },
   "outputs": [
    {
     "data": {
      "text/plain": [
       "count     162758\n",
       "unique         4\n",
       "top            0\n",
       "freq      111750\n",
       "Name: releaseDiffBins, dtype: int64"
      ]
     },
     "execution_count": 67,
     "metadata": {},
     "output_type": "execute_result"
    }
   ],
   "source": [
    "merged['releaseDiffBins'].describe()"
   ]
  },
  {
   "cell_type": "markdown",
   "id": "1040d59d",
   "metadata": {
    "papermill": {
     "duration": 0.087825,
     "end_time": "2023-08-09T07:04:30.668765",
     "exception": false,
     "start_time": "2023-08-09T07:04:30.580940",
     "status": "completed"
    },
    "tags": []
   },
   "source": [
    "### EDA 'distributor'  "
   ]
  },
  {
   "cell_type": "code",
   "execution_count": 68,
   "id": "49a42805",
   "metadata": {
    "execution": {
     "iopub.execute_input": "2023-08-09T07:04:30.847080Z",
     "iopub.status.busy": "2023-08-09T07:04:30.846699Z",
     "iopub.status.idle": "2023-08-09T07:04:30.881823Z",
     "shell.execute_reply": "2023-08-09T07:04:30.880679Z"
    },
    "papermill": {
     "duration": 0.127077,
     "end_time": "2023-08-09T07:04:30.883968",
     "exception": false,
     "start_time": "2023-08-09T07:04:30.756891",
     "status": "completed"
    },
    "tags": []
   },
   "outputs": [
    {
     "data": {
      "text/plain": [
       "unknown                              20489\n",
       "Universal Pictures                    8847\n",
       "Warner Bros. Pictures                 8722\n",
       "Paramount Pictures                    7773\n",
       "20th Century Fox                      7007\n",
       "                                     ...  \n",
       "Almi Pictures                            1\n",
       "Koch Lorber                              1\n",
       "Magic Lamp                               1\n",
       "Fine Line Features, Miramax Films        1\n",
       "American Film Co.                        1\n",
       "Name: distributor, Length: 1796, dtype: int64"
      ]
     },
     "execution_count": 68,
     "metadata": {},
     "output_type": "execute_result"
    }
   ],
   "source": [
    "merged[\"distributor\"].value_counts()"
   ]
  },
  {
   "cell_type": "code",
   "execution_count": 69,
   "id": "0f47c4ea",
   "metadata": {
    "execution": {
     "iopub.execute_input": "2023-08-09T07:04:31.061796Z",
     "iopub.status.busy": "2023-08-09T07:04:31.061358Z",
     "iopub.status.idle": "2023-08-09T07:04:31.079088Z",
     "shell.execute_reply": "2023-08-09T07:04:31.078000Z"
    },
    "papermill": {
     "duration": 0.10867,
     "end_time": "2023-08-09T07:04:31.081165",
     "exception": false,
     "start_time": "2023-08-09T07:04:30.972495",
     "status": "completed"
    },
    "tags": []
   },
   "outputs": [
    {
     "data": {
      "text/plain": [
       "count    162758.000000\n",
       "mean        106.992019\n",
       "std          22.203778\n",
       "min           4.000000\n",
       "25%          93.000000\n",
       "50%         104.000000\n",
       "75%         118.000000\n",
       "max         561.000000\n",
       "Name: runtimeMinutes, dtype: float64"
      ]
     },
     "execution_count": 69,
     "metadata": {},
     "output_type": "execute_result"
    }
   ],
   "source": [
    "merged[\"runtimeMinutes\"].describe()"
   ]
  },
  {
   "cell_type": "code",
   "execution_count": 70,
   "id": "0fb6cf22",
   "metadata": {
    "execution": {
     "iopub.execute_input": "2023-08-09T07:04:31.260656Z",
     "iopub.status.busy": "2023-08-09T07:04:31.260233Z",
     "iopub.status.idle": "2023-08-09T07:04:31.664774Z",
     "shell.execute_reply": "2023-08-09T07:04:31.663653Z"
    },
    "papermill": {
     "duration": 0.496088,
     "end_time": "2023-08-09T07:04:31.667219",
     "exception": false,
     "start_time": "2023-08-09T07:04:31.171131",
     "status": "completed"
    },
    "tags": []
   },
   "outputs": [
    {
     "data": {
      "text/plain": [
       "<Axes: xlabel='sentiment', ylabel='runtimeMinutes'>"
      ]
     },
     "execution_count": 70,
     "metadata": {},
     "output_type": "execute_result"
    },
    {
     "data": {
      "image/png": "[encoded data removed]",
      "text/plain": [
       "<Figure size 640x480 with 1 Axes>"
      ]
     },
     "metadata": {},
     "output_type": "display_data"
    }
   ],
   "source": [
    "sns.boxplot(y=merged[\"runtimeMinutes\"], x=merged[\"sentiment\"])"
   ]
  },
  {
   "cell_type": "code",
   "execution_count": 71,
   "id": "95aa5497",
   "metadata": {
    "execution": {
     "iopub.execute_input": "2023-08-09T07:04:31.847211Z",
     "iopub.status.busy": "2023-08-09T07:04:31.846637Z",
     "iopub.status.idle": "2023-08-09T07:04:32.467146Z",
     "shell.execute_reply": "2023-08-09T07:04:32.465990Z"
    },
    "papermill": {
     "duration": 0.713699,
     "end_time": "2023-08-09T07:04:32.469686",
     "exception": false,
     "start_time": "2023-08-09T07:04:31.755987",
     "status": "completed"
    },
    "tags": []
   },
   "outputs": [
    {
     "name": "stdout",
     "output_type": "stream",
     "text": [
      "0    153756\n",
      "1      6474\n",
      "2      1819\n",
      "3       433\n",
      "4       276\n",
      "Name: boxOfficeBins, dtype: int64\n"
     ]
    },
    {
     "data": {
      "text/plain": [
       "<seaborn.axisgrid.FacetGrid at 0x7a7c7c95e5f0>"
      ]
     },
     "execution_count": 71,
     "metadata": {},
     "output_type": "execute_result"
    },
    {
     "data": {
      "image/png": "[encoded data removed]",
      "text/plain": [
       "<Figure size 500x500 with 1 Axes>"
      ]
     },
     "metadata": {},
     "output_type": "display_data"
    }
   ],
   "source": [
    "print(merged[\"boxOfficeBins\"].value_counts())\n",
    "sns.displot(merged[\"boxOfficeBins\"])"
   ]
  },
  {
   "cell_type": "code",
   "execution_count": 72,
   "id": "ccd8bd79",
   "metadata": {
    "execution": {
     "iopub.execute_input": "2023-08-09T07:04:32.649932Z",
     "iopub.status.busy": "2023-08-09T07:04:32.649517Z",
     "iopub.status.idle": "2023-08-09T07:04:32.657869Z",
     "shell.execute_reply": "2023-08-09T07:04:32.656786Z"
    },
    "papermill": {
     "duration": 0.101311,
     "end_time": "2023-08-09T07:04:32.660212",
     "exception": false,
     "start_time": "2023-08-09T07:04:32.558901",
     "status": "completed"
    },
    "tags": []
   },
   "outputs": [
    {
     "data": {
      "text/plain": [
       "0    Henry Selick’s first movie since ’s Coraline. ...\n",
       "1    With a cast that reads like the Vogue Oscar pa...\n",
       "2    Creed II does not give us anything but another...\n",
       "3    I know what you're thinking, but this is no Li...\n",
       "4    Director Fernando Meirelles tells the story wi...\n",
       "Name: reviewText, dtype: object"
      ]
     },
     "execution_count": 72,
     "metadata": {},
     "output_type": "execute_result"
    }
   ],
   "source": [
    "merged[\"reviewText\"].head()"
   ]
  },
  {
   "cell_type": "code",
   "execution_count": 73,
   "id": "7126a2c9",
   "metadata": {
    "execution": {
     "iopub.execute_input": "2023-08-09T07:04:32.902094Z",
     "iopub.status.busy": "2023-08-09T07:04:32.900887Z",
     "iopub.status.idle": "2023-08-09T07:04:32.908911Z",
     "shell.execute_reply": "2023-08-09T07:04:32.907983Z"
    },
    "papermill": {
     "duration": 0.103335,
     "end_time": "2023-08-09T07:04:32.911144",
     "exception": false,
     "start_time": "2023-08-09T07:04:32.807809",
     "status": "completed"
    },
    "tags": []
   },
   "outputs": [
    {
     "data": {
      "text/plain": [
       "6447"
      ]
     },
     "execution_count": 73,
     "metadata": {},
     "output_type": "execute_result"
    }
   ],
   "source": [
    "merged[\"reviewYN\"].sum()"
   ]
  },
  {
   "cell_type": "code",
   "execution_count": 74,
   "id": "5bdb4354",
   "metadata": {
    "execution": {
     "iopub.execute_input": "2023-08-09T07:04:33.112221Z",
     "iopub.status.busy": "2023-08-09T07:04:33.111834Z",
     "iopub.status.idle": "2023-08-09T07:04:33.119226Z",
     "shell.execute_reply": "2023-08-09T07:04:33.118407Z"
    },
    "papermill": {
     "duration": 0.10703,
     "end_time": "2023-08-09T07:04:33.121481",
     "exception": false,
     "start_time": "2023-08-09T07:04:33.014451",
     "status": "completed"
    },
    "tags": []
   },
   "outputs": [
    {
     "data": {
      "text/plain": [
       "0    11\n",
       "1    24\n",
       "2    22\n",
       "3    34\n",
       "4    20\n",
       "Name: reviewWC, dtype: int64"
      ]
     },
     "execution_count": 74,
     "metadata": {},
     "output_type": "execute_result"
    }
   ],
   "source": [
    "merged[\"reviewWC\"].head()"
   ]
  },
  {
   "cell_type": "code",
   "execution_count": 75,
   "id": "b26e029b",
   "metadata": {
    "execution": {
     "iopub.execute_input": "2023-08-09T07:04:33.311293Z",
     "iopub.status.busy": "2023-08-09T07:04:33.310680Z",
     "iopub.status.idle": "2023-08-09T07:04:33.326262Z",
     "shell.execute_reply": "2023-08-09T07:04:33.325485Z"
    },
    "papermill": {
     "duration": 0.11181,
     "end_time": "2023-08-09T07:04:33.328370",
     "exception": false,
     "start_time": "2023-08-09T07:04:33.216560",
     "status": "completed"
    },
    "tags": []
   },
   "outputs": [
    {
     "data": {
      "text/plain": [
       "count    162758.000000\n",
       "mean         21.013707\n",
       "std          10.216532\n",
       "min           1.000000\n",
       "25%          14.000000\n",
       "50%          21.000000\n",
       "75%          28.000000\n",
       "max          54.000000\n",
       "Name: reviewWC, dtype: float64"
      ]
     },
     "execution_count": 75,
     "metadata": {},
     "output_type": "execute_result"
    }
   ],
   "source": [
    "merged[\"reviewWC\"].describe()"
   ]
  },
  {
   "cell_type": "code",
   "execution_count": 76,
   "id": "dce8e18a",
   "metadata": {
    "execution": {
     "iopub.execute_input": "2023-08-09T07:04:33.510432Z",
     "iopub.status.busy": "2023-08-09T07:04:33.509746Z",
     "iopub.status.idle": "2023-08-09T07:04:34.121767Z",
     "shell.execute_reply": "2023-08-09T07:04:34.120669Z"
    },
    "papermill": {
     "duration": 0.705913,
     "end_time": "2023-08-09T07:04:34.124559",
     "exception": false,
     "start_time": "2023-08-09T07:04:33.418646",
     "status": "completed"
    },
    "tags": []
   },
   "outputs": [
    {
     "data": {
      "text/plain": [
       "<Axes: xlabel='reviewWC', ylabel='Count'>"
      ]
     },
     "execution_count": 76,
     "metadata": {},
     "output_type": "execute_result"
    },
    {
     "data": {
      "image/png": "[encoded data removed]",
      "text/plain": [
       "<Figure size 640x480 with 1 Axes>"
      ]
     },
     "metadata": {},
     "output_type": "display_data"
    }
   ],
   "source": [
    "sns.histplot(merged[\"reviewWC\"])"
   ]
  },
  {
   "cell_type": "code",
   "execution_count": 77,
   "id": "01b203a2",
   "metadata": {
    "execution": {
     "iopub.execute_input": "2023-08-09T07:04:34.308993Z",
     "iopub.status.busy": "2023-08-09T07:04:34.308587Z",
     "iopub.status.idle": "2023-08-09T07:04:34.339806Z",
     "shell.execute_reply": "2023-08-09T07:04:34.338646Z"
    },
    "papermill": {
     "duration": 0.126237,
     "end_time": "2023-08-09T07:04:34.342717",
     "exception": false,
     "start_time": "2023-08-09T07:04:34.216480",
     "status": "completed"
    },
    "tags": []
   },
   "outputs": [
    {
     "data": {
      "text/plain": [
       "R          60248\n",
       "unknown    44587\n",
       "PG-13      42697\n",
       "PG         13669\n",
       "TV14         947\n",
       "NC-17        285\n",
       "TVPG         281\n",
       "TVMA          44\n",
       "Name: rating, dtype: int64"
      ]
     },
     "execution_count": 77,
     "metadata": {},
     "output_type": "execute_result"
    }
   ],
   "source": [
    "merged['rating'].value_counts()"
   ]
  },
  {
   "cell_type": "code",
   "execution_count": 78,
   "id": "f68aaf8e",
   "metadata": {
    "execution": {
     "iopub.execute_input": "2023-08-09T07:04:34.525467Z",
     "iopub.status.busy": "2023-08-09T07:04:34.524392Z",
     "iopub.status.idle": "2023-08-09T07:04:34.534683Z",
     "shell.execute_reply": "2023-08-09T07:04:34.533700Z"
    },
    "papermill": {
     "duration": 0.103282,
     "end_time": "2023-08-09T07:04:34.536777",
     "exception": false,
     "start_time": "2023-08-09T07:04:34.433495",
     "status": "completed"
    },
    "tags": []
   },
   "outputs": [
    {
     "data": {
      "text/plain": [
       "False    113189\n",
       "True      49569\n",
       "Name: isFrequentReviewer, dtype: int64"
      ]
     },
     "execution_count": 78,
     "metadata": {},
     "output_type": "execute_result"
    }
   ],
   "source": [
    "merged['isFrequentReviewer'].value_counts()"
   ]
  },
  {
   "cell_type": "code",
   "execution_count": 79,
   "id": "f5a2ca4c",
   "metadata": {
    "execution": {
     "iopub.execute_input": "2023-08-09T07:04:34.719928Z",
     "iopub.status.busy": "2023-08-09T07:04:34.719056Z",
     "iopub.status.idle": "2023-08-09T07:04:34.727033Z",
     "shell.execute_reply": "2023-08-09T07:04:34.726039Z"
    },
    "papermill": {
     "duration": 0.102077,
     "end_time": "2023-08-09T07:04:34.729115",
     "exception": false,
     "start_time": "2023-08-09T07:04:34.627038",
     "status": "completed"
    },
    "tags": []
   },
   "outputs": [
    {
     "data": {
      "text/plain": [
       "0      Benjamin Henry\n",
       "1       Felicia Lopez\n",
       "2     Charles Burgess\n",
       "3        Ryan Barrett\n",
       "4    Alexander Glover\n",
       "Name: reviewerName, dtype: object"
      ]
     },
     "execution_count": 79,
     "metadata": {},
     "output_type": "execute_result"
    }
   ],
   "source": [
    "merged[\"reviewerName\"].head()"
   ]
  },
  {
   "cell_type": "code",
   "execution_count": 80,
   "id": "b37b6a23",
   "metadata": {
    "execution": {
     "iopub.execute_input": "2023-08-09T07:04:34.911799Z",
     "iopub.status.busy": "2023-08-09T07:04:34.910769Z",
     "iopub.status.idle": "2023-08-09T07:04:34.924187Z",
     "shell.execute_reply": "2023-08-09T07:04:34.923148Z"
    },
    "papermill": {
     "duration": 0.107278,
     "end_time": "2023-08-09T07:04:34.926379",
     "exception": false,
     "start_time": "2023-08-09T07:04:34.819101",
     "status": "completed"
    },
    "tags": []
   },
   "outputs": [
    {
     "data": {
      "text/plain": [
       "14300000.0    32327\n",
       "2000000.0       922\n",
       "1100000.0       891\n",
       "1000000.0       834\n",
       "1200000.0       802\n",
       "              ...  \n",
       "58500.0           1\n",
       "500800.0          1\n",
       "265600.0          1\n",
       "292500.0          1\n",
       "799400.0          1\n",
       "Name: boxOffice, Length: 3819, dtype: int64"
      ]
     },
     "execution_count": 80,
     "metadata": {},
     "output_type": "execute_result"
    }
   ],
   "source": [
    "merged['boxOffice'].value_counts()"
   ]
  },
  {
   "cell_type": "code",
   "execution_count": 81,
   "id": "9d239c62",
   "metadata": {
    "execution": {
     "iopub.execute_input": "2023-08-09T07:04:35.111212Z",
     "iopub.status.busy": "2023-08-09T07:04:35.109691Z",
     "iopub.status.idle": "2023-08-09T07:04:35.114812Z",
     "shell.execute_reply": "2023-08-09T07:04:35.114042Z"
    },
    "papermill": {
     "duration": 0.09952,
     "end_time": "2023-08-09T07:04:35.116798",
     "exception": false,
     "start_time": "2023-08-09T07:04:35.017278",
     "status": "completed"
    },
    "tags": []
   },
   "outputs": [],
   "source": [
    "# Check correlation between 'boxOffice' and ''sentiment'\n",
    "# bo_df = merged.copy()\n",
    "# print(bo_df[\"boxOffice\"])\n",
    "# bo_df[\"boxOffice\"] = bo_df[\"boxOffice\"].str[1:]\n",
    "# bo_df[\"boxOffice\"] = bo_df[\"boxOffice\"].replace(to_replace={\"M\": \"*1000000\", \"K\": \"*1000\"}, regex=True)\n",
    "# bo_df[\"boxOffice\"] = bo_df[\"boxOffice\"].loc[bo_df[\"boxOffice\"].notnull()].apply(lambda x: eval(str(x)))\n",
    "# bo_df[\"boxOffice\"] = bo_df[\"boxOffice\"].fillna(bo_df[\"boxOffice\"].median())\n",
    "# bo_df[\"boxOffice\"].describe()"
   ]
  },
  {
   "cell_type": "code",
   "execution_count": 82,
   "id": "67f9dd15",
   "metadata": {
    "execution": {
     "iopub.execute_input": "2023-08-09T07:04:35.303532Z",
     "iopub.status.busy": "2023-08-09T07:04:35.302816Z",
     "iopub.status.idle": "2023-08-09T07:04:35.306866Z",
     "shell.execute_reply": "2023-08-09T07:04:35.305916Z"
    },
    "papermill": {
     "duration": 0.099902,
     "end_time": "2023-08-09T07:04:35.309183",
     "exception": false,
     "start_time": "2023-08-09T07:04:35.209281",
     "status": "completed"
    },
    "tags": []
   },
   "outputs": [],
   "source": [
    "# median = bo_df[\"boxOffice\"].describe()['50%']\n",
    "# iqr = bo_df[\"boxOffice\"].describe()['75%'] - bo_df[\"boxOffice\"].describe()['25%']\n",
    "# median, iqr"
   ]
  },
  {
   "cell_type": "code",
   "execution_count": 83,
   "id": "de00740a",
   "metadata": {
    "execution": {
     "iopub.execute_input": "2023-08-09T07:04:35.493479Z",
     "iopub.status.busy": "2023-08-09T07:04:35.493065Z",
     "iopub.status.idle": "2023-08-09T07:04:35.497608Z",
     "shell.execute_reply": "2023-08-09T07:04:35.496574Z"
    },
    "papermill": {
     "duration": 0.098623,
     "end_time": "2023-08-09T07:04:35.499840",
     "exception": false,
     "start_time": "2023-08-09T07:04:35.401217",
     "status": "completed"
    },
    "tags": []
   },
   "outputs": [],
   "source": [
    "# ll = median - (1.5*iqr)\n",
    "# ul = median + (1.5*iqr)\n",
    "# ll, ul"
   ]
  },
  {
   "cell_type": "code",
   "execution_count": 84,
   "id": "4430f202",
   "metadata": {
    "execution": {
     "iopub.execute_input": "2023-08-09T07:04:35.684025Z",
     "iopub.status.busy": "2023-08-09T07:04:35.683598Z",
     "iopub.status.idle": "2023-08-09T07:04:35.688053Z",
     "shell.execute_reply": "2023-08-09T07:04:35.687098Z"
    },
    "papermill": {
     "duration": 0.098953,
     "end_time": "2023-08-09T07:04:35.690338",
     "exception": false,
     "start_time": "2023-08-09T07:04:35.591385",
     "status": "completed"
    },
    "tags": []
   },
   "outputs": [],
   "source": [
    "# bo_df[\"boxOffice\"].mean()"
   ]
  },
  {
   "cell_type": "code",
   "execution_count": 85,
   "id": "af993223",
   "metadata": {
    "execution": {
     "iopub.execute_input": "2023-08-09T07:04:35.874386Z",
     "iopub.status.busy": "2023-08-09T07:04:35.873647Z",
     "iopub.status.idle": "2023-08-09T07:04:35.878153Z",
     "shell.execute_reply": "2023-08-09T07:04:35.877369Z"
    },
    "papermill": {
     "duration": 0.098721,
     "end_time": "2023-08-09T07:04:35.880282",
     "exception": false,
     "start_time": "2023-08-09T07:04:35.781561",
     "status": "completed"
    },
    "tags": []
   },
   "outputs": [],
   "source": [
    "# bo_df.loc[bo_df[\"boxOffice\"] > ul, \"boxOffice\"] = median\n",
    "# bo_df[\"boxOffice\"].mean()"
   ]
  },
  {
   "cell_type": "code",
   "execution_count": 86,
   "id": "b0c7fbef",
   "metadata": {
    "execution": {
     "iopub.execute_input": "2023-08-09T07:04:36.063229Z",
     "iopub.status.busy": "2023-08-09T07:04:36.062056Z",
     "iopub.status.idle": "2023-08-09T07:04:36.067576Z",
     "shell.execute_reply": "2023-08-09T07:04:36.066447Z"
    },
    "papermill": {
     "duration": 0.099062,
     "end_time": "2023-08-09T07:04:36.069844",
     "exception": false,
     "start_time": "2023-08-09T07:04:35.970782",
     "status": "completed"
    },
    "tags": []
   },
   "outputs": [],
   "source": [
    "# bo_df[\"boxOffice\"].min(), bo_df[\"boxOffice\"].max()"
   ]
  },
  {
   "cell_type": "code",
   "execution_count": 87,
   "id": "d8f75104",
   "metadata": {
    "execution": {
     "iopub.execute_input": "2023-08-09T07:04:36.257285Z",
     "iopub.status.busy": "2023-08-09T07:04:36.256558Z",
     "iopub.status.idle": "2023-08-09T07:04:36.261103Z",
     "shell.execute_reply": "2023-08-09T07:04:36.260284Z"
    },
    "papermill": {
     "duration": 0.099393,
     "end_time": "2023-08-09T07:04:36.263161",
     "exception": false,
     "start_time": "2023-08-09T07:04:36.163768",
     "status": "completed"
    },
    "tags": []
   },
   "outputs": [],
   "source": [
    "# sns.boxplot(x=\"sentiment\", y=\"boxOffice\", data=bo_df, showfliers = False)"
   ]
  },
  {
   "cell_type": "markdown",
   "id": "4d4f326b",
   "metadata": {
    "papermill": {
     "duration": 0.091457,
     "end_time": "2023-08-09T07:04:36.444905",
     "exception": false,
     "start_time": "2023-08-09T07:04:36.353448",
     "status": "completed"
    },
    "tags": []
   },
   "source": [
    "## EDA  "
   ]
  },
  {
   "cell_type": "markdown",
   "id": "1202fc6c",
   "metadata": {
    "papermill": {
     "duration": 0.089572,
     "end_time": "2023-08-09T07:04:36.624261",
     "exception": false,
     "start_time": "2023-08-09T07:04:36.534689",
     "status": "completed"
    },
    "tags": []
   },
   "source": [
    "### An interesting finding through exploration  \n",
    "  \n",
    "* OHE and TfidfVectorizer on director column give the same result when ngram_range(2,2) is used (see code below)!"
   ]
  },
  {
   "cell_type": "code",
   "execution_count": 88,
   "id": "71c1b8f6",
   "metadata": {
    "execution": {
     "iopub.execute_input": "2023-08-09T07:04:36.806613Z",
     "iopub.status.busy": "2023-08-09T07:04:36.806004Z",
     "iopub.status.idle": "2023-08-09T07:04:49.861872Z",
     "shell.execute_reply": "2023-08-09T07:04:49.860382Z"
    },
    "papermill": {
     "duration": 13.149944,
     "end_time": "2023-08-09T07:04:49.864783",
     "exception": false,
     "start_time": "2023-08-09T07:04:36.714839",
     "status": "completed"
    },
    "tags": []
   },
   "outputs": [
    {
     "name": "stdout",
     "output_type": "stream",
     "text": [
      "(162758,)\n",
      "9476\n",
      "(162758, 9476) <class 'numpy.ndarray'>\n",
      "(162758,)\n",
      "(162758, 9476) <class 'numpy.ndarray'>\n",
      "True\n"
     ]
    }
   ],
   "source": [
    "# Compare OHE and TfidfVectorizer on director column\n",
    "\n",
    "dirs = merged[\"director\"].copy()\n",
    "print(dirs.shape)\n",
    "dirs_uniq = merged[\"director\"].unique()\n",
    "print(len(dirs_uniq))\n",
    "\n",
    "du_ohe = OneHotEncoder(handle_unknown=\"ignore\", sparse_output=False).fit_transform(dirs.to_numpy().reshape(-1, 1))\n",
    "print(du_ohe.shape, type(du_ohe))\n",
    "\n",
    "dirs_2 = merged[\"director\"].copy()\n",
    "print(dirs_2.shape)\n",
    "du_tfidf = TfidfVectorizer(ngram_range=(2,2)).fit_transform(dirs_2).toarray()\n",
    "print(du_tfidf.shape, type(du_tfidf))\n",
    "\n",
    "print(np.array_equal(du_ohe, du_tfidf))"
   ]
  },
  {
   "cell_type": "code",
   "execution_count": 89,
   "id": "ca5ba678",
   "metadata": {
    "execution": {
     "iopub.execute_input": "2023-08-09T07:04:50.048938Z",
     "iopub.status.busy": "2023-08-09T07:04:50.048350Z",
     "iopub.status.idle": "2023-08-09T07:04:50.411777Z",
     "shell.execute_reply": "2023-08-09T07:04:50.410681Z"
    },
    "papermill": {
     "duration": 0.458553,
     "end_time": "2023-08-09T07:04:50.414165",
     "exception": false,
     "start_time": "2023-08-09T07:04:49.955612",
     "status": "completed"
    },
    "tags": []
   },
   "outputs": [
    {
     "name": "stdout",
     "output_type": "stream",
     "text": [
      "0       Bennie Basso\n",
      "1         Alma White\n",
      "2       Bobby Oleary\n",
      "3    Eric Hutcherson\n",
      "4         John Trent\n",
      "Name: director, dtype: object\n"
     ]
    },
    {
     "data": {
      "text/plain": [
       "2    162758\n",
       "Name: director, dtype: int64"
      ]
     },
     "execution_count": 89,
     "metadata": {},
     "output_type": "execute_result"
    }
   ],
   "source": [
    "print(dirs.head())\n",
    "d = dirs.copy()\n",
    "d[\"name_len\"] = d.apply(lambda x: len(x.split()))\n",
    "d[\"name_len\"].value_counts()"
   ]
  },
  {
   "cell_type": "code",
   "execution_count": 90,
   "id": "c5aa2d18",
   "metadata": {
    "execution": {
     "iopub.execute_input": "2023-08-09T07:04:50.599927Z",
     "iopub.status.busy": "2023-08-09T07:04:50.599250Z",
     "iopub.status.idle": "2023-08-09T07:04:50.605361Z",
     "shell.execute_reply": "2023-08-09T07:04:50.604300Z"
    },
    "papermill": {
     "duration": 0.101297,
     "end_time": "2023-08-09T07:04:50.607573",
     "exception": false,
     "start_time": "2023-08-09T07:04:50.506276",
     "status": "completed"
    },
    "tags": []
   },
   "outputs": [],
   "source": [
    "# Compare OHE and TfidfVectorizer on reviewerName column\n",
    "# Note: reviewerName column has salutations like \"Mr. \" etc, and some names appear middle names. Therefore needs cleaning\n",
    "\n",
    "# def name_fl(name):\n",
    "#     l = name.split()\n",
    "#     n = ' '.join((l[0], l[-1]))\n",
    "#     return n\n",
    "\n",
    "# reviewers = merged[\"reviewerName\"].copy()\n",
    "# reviewers = pd.DataFrame(reviewers)\n",
    "# reviewers = reviewers.replace({\"Mr. \": \"\", \"Mrs. \": \"\"}, regex=True)\n",
    "# reviewers[\"reviewerName\"] = reviewers[\"reviewerName\"].apply(name_fl)\n",
    "# print(reviewers.shape)\n",
    "\n",
    "# reviewers_uniq = merged[\"reviewerName\"].unique()\n",
    "# print(len(reviewers_uniq))\n",
    "\n",
    "# reviewers_ohe = OneHotEncoder(handle_unknown=\"ignore\", sparse_output=False).fit_transform(reviewers.to_numpy().reshape(-1, 1))\n",
    "# print(reviewers_ohe.shape, type(reviewers_ohe))\n",
    "\n",
    "# reviewers_2 = merged[\"reviewerName\"].copy()\n",
    "# reviewers_2 = pd.DataFrame(reviewers_2)\n",
    "# print(reviewers_2.head())\n",
    "# reviewers_2 = reviewers_2.replace({\"Mr. \": \"\", \"Mrs. \": \"\"}, regex=True)\n",
    "# reviewers_2[\"reviewerName\"] = reviewers_2[\"reviewerName\"].apply(name_fl)\n",
    "# reviewers_2 = reviewers_2.squeeze()\n",
    "# print(reviewers_2.shape)\n",
    "# print(reviewers_2.head())\n",
    "\n",
    "# reviewers_tfidf = TfidfVectorizer(ngram_range=(2,2)).fit_transform(reviewers_2).toarray()\n",
    "# print(reviewers_tfidf.shape, type(reviewers_tfidf))\n",
    "\n",
    "# print(np.array_equal(reviewers_ohe, reviewers_tfidf))"
   ]
  },
  {
   "cell_type": "code",
   "execution_count": 91,
   "id": "18b2be62",
   "metadata": {
    "execution": {
     "iopub.execute_input": "2023-08-09T07:04:50.792365Z",
     "iopub.status.busy": "2023-08-09T07:04:50.791970Z",
     "iopub.status.idle": "2023-08-09T07:04:50.796254Z",
     "shell.execute_reply": "2023-08-09T07:04:50.795157Z"
    },
    "papermill": {
     "duration": 0.099412,
     "end_time": "2023-08-09T07:04:50.798470",
     "exception": false,
     "start_time": "2023-08-09T07:04:50.699058",
     "status": "completed"
    },
    "tags": []
   },
   "outputs": [],
   "source": [
    "# def name_fl(name):\n",
    "#     l = name.split()\n",
    "#     n = ' '.join((l[0], l[-1]))\n",
    "#     return n"
   ]
  },
  {
   "cell_type": "code",
   "execution_count": 92,
   "id": "d43d37eb",
   "metadata": {
    "execution": {
     "iopub.execute_input": "2023-08-09T07:04:50.984509Z",
     "iopub.status.busy": "2023-08-09T07:04:50.983892Z",
     "iopub.status.idle": "2023-08-09T07:04:50.988699Z",
     "shell.execute_reply": "2023-08-09T07:04:50.987440Z"
    },
    "papermill": {
     "duration": 0.100853,
     "end_time": "2023-08-09T07:04:50.991078",
     "exception": false,
     "start_time": "2023-08-09T07:04:50.890225",
     "status": "completed"
    },
    "tags": []
   },
   "outputs": [],
   "source": [
    "# print(reviewers.head())\n",
    "# r = pd.DataFrame(reviewers.copy())\n",
    "# r[\"reviewerName\"] = r[\"reviewerName\"].apply(name_fl)\n",
    "# r[\"name_len\"] = r[\"reviewerName\"].apply(lambda x: len(x.split()))\n",
    "# print(r.shape)\n",
    "# print(r.head())\n",
    "# print(r['name_len'].value_counts())"
   ]
  },
  {
   "cell_type": "code",
   "execution_count": 93,
   "id": "799470d0",
   "metadata": {
    "execution": {
     "iopub.execute_input": "2023-08-09T07:04:51.177432Z",
     "iopub.status.busy": "2023-08-09T07:04:51.177056Z",
     "iopub.status.idle": "2023-08-09T07:04:51.181328Z",
     "shell.execute_reply": "2023-08-09T07:04:51.180175Z"
    },
    "papermill": {
     "duration": 0.10006,
     "end_time": "2023-08-09T07:04:51.183703",
     "exception": false,
     "start_time": "2023-08-09T07:04:51.083643",
     "status": "completed"
    },
    "tags": []
   },
   "outputs": [],
   "source": [
    "## Box plot audienceScore and sentiment  \n",
    "# plt.figure(figsize=(6, 4))\n",
    "# sns.boxplot(x=\"sentiment\", y=\"audienceScore\", data=merged, width=0.3)\n",
    "# plt.title(\"Box plot audienceScore and sentiment\")\n",
    "# plt.show()"
   ]
  },
  {
   "cell_type": "code",
   "execution_count": 94,
   "id": "d11d421a",
   "metadata": {
    "execution": {
     "iopub.execute_input": "2023-08-09T07:04:51.372110Z",
     "iopub.status.busy": "2023-08-09T07:04:51.371695Z",
     "iopub.status.idle": "2023-08-09T07:04:51.376483Z",
     "shell.execute_reply": "2023-08-09T07:04:51.375504Z"
    },
    "papermill": {
     "duration": 0.100382,
     "end_time": "2023-08-09T07:04:51.378817",
     "exception": false,
     "start_time": "2023-08-09T07:04:51.278435",
     "status": "completed"
    },
    "tags": []
   },
   "outputs": [],
   "source": [
    "## Box plot runtimeMinutes and sentiment  \n",
    "# plt.figure(figsize=(6, 4))\n",
    "# sns.boxplot(x=\"sentiment\", y=\"runtimeMinutes\", data=merged, width=0.3)\n",
    "# plt.title(\"Box plot runtimeMinutes and sentiment\")\n",
    "# plt.show()"
   ]
  },
  {
   "cell_type": "code",
   "execution_count": 95,
   "id": "67c6a4e2",
   "metadata": {
    "execution": {
     "iopub.execute_input": "2023-08-09T07:04:51.563850Z",
     "iopub.status.busy": "2023-08-09T07:04:51.563461Z",
     "iopub.status.idle": "2023-08-09T07:04:51.567952Z",
     "shell.execute_reply": "2023-08-09T07:04:51.566789Z"
    },
    "papermill": {
     "duration": 0.100252,
     "end_time": "2023-08-09T07:04:51.570273",
     "exception": false,
     "start_time": "2023-08-09T07:04:51.470021",
     "status": "completed"
    },
    "tags": []
   },
   "outputs": [],
   "source": [
    "## Column chart for sentiment and rating columns\n",
    "# plt.figure(figsize=(6, 4))\n",
    "# sns.countplot(x=\"sentiment\", hue=\"rating\", data=merged)\n",
    "# plt.title(\"Column chart for sentiment and rating columns\")\n",
    "# plt.show()"
   ]
  },
  {
   "cell_type": "code",
   "execution_count": 96,
   "id": "53eea50f",
   "metadata": {
    "execution": {
     "iopub.execute_input": "2023-08-09T07:04:51.756229Z",
     "iopub.status.busy": "2023-08-09T07:04:51.755837Z",
     "iopub.status.idle": "2023-08-09T07:04:51.760656Z",
     "shell.execute_reply": "2023-08-09T07:04:51.759510Z"
    },
    "papermill": {
     "duration": 0.100007,
     "end_time": "2023-08-09T07:04:51.762877",
     "exception": false,
     "start_time": "2023-08-09T07:04:51.662870",
     "status": "completed"
    },
    "tags": []
   },
   "outputs": [],
   "source": [
    "# Correlation heatmap  \n",
    "# plt.figure(figsize=(10, 8))\n",
    "# sns.heatmap(merged.corr(), annot=True, cmap=\"coolwarm\")\n",
    "# plt.title(\"Correlation heatmap\")\n",
    "# plt.show()"
   ]
  },
  {
   "cell_type": "markdown",
   "id": "5f80d841",
   "metadata": {
    "papermill": {
     "duration": 0.09208,
     "end_time": "2023-08-09T07:04:51.946387",
     "exception": false,
     "start_time": "2023-08-09T07:04:51.854307",
     "status": "completed"
    },
    "tags": []
   },
   "source": [
    "### Separate features and labels from merged dataset  "
   ]
  },
  {
   "cell_type": "code",
   "execution_count": 97,
   "id": "b9f457da",
   "metadata": {
    "execution": {
     "iopub.execute_input": "2023-08-09T07:04:52.132412Z",
     "iopub.status.busy": "2023-08-09T07:04:52.132028Z",
     "iopub.status.idle": "2023-08-09T07:04:52.161786Z",
     "shell.execute_reply": "2023-08-09T07:04:52.160844Z"
    },
    "papermill": {
     "duration": 0.124278,
     "end_time": "2023-08-09T07:04:52.163787",
     "exception": false,
     "start_time": "2023-08-09T07:04:52.039509",
     "status": "completed"
    },
    "tags": []
   },
   "outputs": [
    {
     "data": {
      "text/plain": [
       "(162758, 10)"
      ]
     },
     "execution_count": 97,
     "metadata": {},
     "output_type": "execute_result"
    }
   ],
   "source": [
    "merged_train_features = merged[['movieid', 'reviewerName', 'isFrequentReviewer', 'reviewText',\n",
    "       'audienceScore', 'rating', 'runtimeMinutes', 'genre',\n",
    "       'originalLanguage', 'director']]\n",
    "merged_train_features.shape"
   ]
  },
  {
   "cell_type": "code",
   "execution_count": 98,
   "id": "edaf99bd",
   "metadata": {
    "execution": {
     "iopub.execute_input": "2023-08-09T07:04:52.350799Z",
     "iopub.status.busy": "2023-08-09T07:04:52.350377Z",
     "iopub.status.idle": "2023-08-09T07:04:52.356310Z",
     "shell.execute_reply": "2023-08-09T07:04:52.355600Z"
    },
    "papermill": {
     "duration": 0.101334,
     "end_time": "2023-08-09T07:04:52.358217",
     "exception": false,
     "start_time": "2023-08-09T07:04:52.256883",
     "status": "completed"
    },
    "tags": []
   },
   "outputs": [
    {
     "data": {
      "text/plain": [
       "(162758,)"
      ]
     },
     "execution_count": 98,
     "metadata": {},
     "output_type": "execute_result"
    }
   ],
   "source": [
    "merged_train_labels = merged[\"sentiment\"]\n",
    "merged_train_labels.shape"
   ]
  },
  {
   "cell_type": "markdown",
   "id": "4d18dd52",
   "metadata": {
    "papermill": {
     "duration": 0.090586,
     "end_time": "2023-08-09T07:04:52.540143",
     "exception": false,
     "start_time": "2023-08-09T07:04:52.449557",
     "status": "completed"
    },
    "tags": []
   },
   "source": [
    "### Identify variable types for different preprocessing pipes  "
   ]
  },
  {
   "cell_type": "code",
   "execution_count": 99,
   "id": "0478364c",
   "metadata": {
    "execution": {
     "iopub.execute_input": "2023-08-09T07:04:52.781929Z",
     "iopub.status.busy": "2023-08-09T07:04:52.781532Z",
     "iopub.status.idle": "2023-08-09T07:04:52.786056Z",
     "shell.execute_reply": "2023-08-09T07:04:52.785260Z"
    },
    "papermill": {
     "duration": 0.098163,
     "end_time": "2023-08-09T07:04:52.787958",
     "exception": false,
     "start_time": "2023-08-09T07:04:52.689795",
     "status": "completed"
    },
    "tags": []
   },
   "outputs": [],
   "source": [
    "num_vars = [\"audienceScore\", \"runtimeMinutes\"]\n",
    "txt_vars = [\"originalLanguage\", \"genre\", \"director\", \"reviewerName\", \"reviewText\"]\n",
    "cat_vars = [\"rating\", \"isFrequentReviewer\"]"
   ]
  },
  {
   "cell_type": "code",
   "execution_count": 100,
   "id": "3469ff45",
   "metadata": {
    "execution": {
     "iopub.execute_input": "2023-08-09T07:04:52.996515Z",
     "iopub.status.busy": "2023-08-09T07:04:52.995497Z",
     "iopub.status.idle": "2023-08-09T07:04:53.006605Z",
     "shell.execute_reply": "2023-08-09T07:04:53.005853Z"
    },
    "papermill": {
     "duration": 0.123772,
     "end_time": "2023-08-09T07:04:53.008793",
     "exception": false,
     "start_time": "2023-08-09T07:04:52.885021",
     "status": "completed"
    },
    "tags": []
   },
   "outputs": [
    {
     "data": {
      "text/html": [
       "<style>#sk-container-id-2 {color: black;background-color: white;}#sk-container-id-2 pre{padding: 0;}#sk-container-id-2 div.sk-toggleable {background-color: white;}#sk-container-id-2 label.sk-toggleable__label {cursor: pointer;display: block;width: 100%;margin-bottom: 0;padding: 0.3em;box-sizing: border-box;text-align: center;}#sk-container-id-2 label.sk-toggleable__label-arrow:before {content: \"▸\";float: left;margin-right: 0.25em;color: #696969;}#sk-container-id-2 label.sk-toggleable__label-arrow:hover:before {color: black;}#sk-container-id-2 div.sk-estimator:hover label.sk-toggleable__label-arrow:before {color: black;}#sk-container-id-2 div.sk-toggleable__content {max-height: 0;max-width: 0;overflow: hidden;text-align: left;background-color: #f0f8ff;}#sk-container-id-2 div.sk-toggleable__content pre {margin: 0.2em;color: black;border-radius: 0.25em;background-color: #f0f8ff;}#sk-container-id-2 input.sk-toggleable__control:checked~div.sk-toggleable__content {max-height: 200px;max-width: 100%;overflow: auto;}#sk-container-id-2 input.sk-toggleable__control:checked~label.sk-toggleable__label-arrow:before {content: \"▾\";}#sk-container-id-2 div.sk-estimator input.sk-toggleable__control:checked~label.sk-toggleable__label {background-color: #d4ebff;}#sk-container-id-2 div.sk-label input.sk-toggleable__control:checked~label.sk-toggleable__label {background-color: #d4ebff;}#sk-container-id-2 input.sk-hidden--visually {border: 0;clip: rect(1px 1px 1px 1px);clip: rect(1px, 1px, 1px, 1px);height: 1px;margin: -1px;overflow: hidden;padding: 0;position: absolute;width: 1px;}#sk-container-id-2 div.sk-estimator {font-family: monospace;background-color: #f0f8ff;border: 1px dotted black;border-radius: 0.25em;box-sizing: border-box;margin-bottom: 0.5em;}#sk-container-id-2 div.sk-estimator:hover {background-color: #d4ebff;}#sk-container-id-2 div.sk-parallel-item::after {content: \"\";width: 100%;border-bottom: 1px solid gray;flex-grow: 1;}#sk-container-id-2 div.sk-label:hover label.sk-toggleable__label {background-color: #d4ebff;}#sk-container-id-2 div.sk-serial::before {content: \"\";position: absolute;border-left: 1px solid gray;box-sizing: border-box;top: 0;bottom: 0;left: 50%;z-index: 0;}#sk-container-id-2 div.sk-serial {display: flex;flex-direction: column;align-items: center;background-color: white;padding-right: 0.2em;padding-left: 0.2em;position: relative;}#sk-container-id-2 div.sk-item {position: relative;z-index: 1;}#sk-container-id-2 div.sk-parallel {display: flex;align-items: stretch;justify-content: center;background-color: white;position: relative;}#sk-container-id-2 div.sk-item::before, #sk-container-id-2 div.sk-parallel-item::before {content: \"\";position: absolute;border-left: 1px solid gray;box-sizing: border-box;top: 0;bottom: 0;left: 50%;z-index: -1;}#sk-container-id-2 div.sk-parallel-item {display: flex;flex-direction: column;z-index: 1;position: relative;background-color: white;}#sk-container-id-2 div.sk-parallel-item:first-child::after {align-self: flex-end;width: 50%;}#sk-container-id-2 div.sk-parallel-item:last-child::after {align-self: flex-start;width: 50%;}#sk-container-id-2 div.sk-parallel-item:only-child::after {width: 0;}#sk-container-id-2 div.sk-dashed-wrapped {border: 1px dashed gray;margin: 0 0.4em 0.5em 0.4em;box-sizing: border-box;padding-bottom: 0.4em;background-color: white;}#sk-container-id-2 div.sk-label label {font-family: monospace;font-weight: bold;display: inline-block;line-height: 1.2em;}#sk-container-id-2 div.sk-label-container {text-align: center;}#sk-container-id-2 div.sk-container {/* jupyter's `normalize.less` sets `[hidden] { display: none; }` but bootstrap.min.css set `[hidden] { display: none !important; }` so we also need the `!important` here to be able to override the default hidden behavior on the sphinx rendered scikit-learn.org. See: https://github.com/scikit-learn/scikit-learn/issues/21755 */display: inline-block !important;position: relative;}#sk-container-id-2 div.sk-text-repr-fallback {display: none;}</style><div id=\"sk-container-id-2\" class=\"sk-top-container\"><div class=\"sk-text-repr-fallback\"><pre>Pipeline(steps=[(&#x27;imputer&#x27;, SimpleImputer()), (&#x27;scaler&#x27;, MinMaxScaler())])</pre><b>In a Jupyter environment, please rerun this cell to show the HTML representation or trust the notebook. <br />On GitHub, the HTML representation is unable to render, please try loading this page with nbviewer.org.</b></div><div class=\"sk-container\" hidden><div class=\"sk-item sk-dashed-wrapped\"><div class=\"sk-label-container\"><div class=\"sk-label sk-toggleable\"><input class=\"sk-toggleable__control sk-hidden--visually\" id=\"sk-estimator-id-2\" type=\"checkbox\" ><label for=\"sk-estimator-id-2\" class=\"sk-toggleable__label sk-toggleable__label-arrow\">Pipeline</label><div class=\"sk-toggleable__content\"><pre>Pipeline(steps=[(&#x27;imputer&#x27;, SimpleImputer()), (&#x27;scaler&#x27;, MinMaxScaler())])</pre></div></div></div><div class=\"sk-serial\"><div class=\"sk-item\"><div class=\"sk-estimator sk-toggleable\"><input class=\"sk-toggleable__control sk-hidden--visually\" id=\"sk-estimator-id-3\" type=\"checkbox\" ><label for=\"sk-estimator-id-3\" class=\"sk-toggleable__label sk-toggleable__label-arrow\">SimpleImputer</label><div class=\"sk-toggleable__content\"><pre>SimpleImputer()</pre></div></div></div><div class=\"sk-item\"><div class=\"sk-estimator sk-toggleable\"><input class=\"sk-toggleable__control sk-hidden--visually\" id=\"sk-estimator-id-4\" type=\"checkbox\" ><label for=\"sk-estimator-id-4\" class=\"sk-toggleable__label sk-toggleable__label-arrow\">MinMaxScaler</label><div class=\"sk-toggleable__content\"><pre>MinMaxScaler()</pre></div></div></div></div></div></div></div>"
      ],
      "text/plain": [
       "Pipeline(steps=[('imputer', SimpleImputer()), ('scaler', MinMaxScaler())])"
      ]
     },
     "execution_count": 100,
     "metadata": {},
     "output_type": "execute_result"
    }
   ],
   "source": [
    "num_pipe = Pipeline(steps=[\n",
    "                            (\"imputer\", SimpleImputer(strategy=\"mean\", missing_values=np.nan)),\n",
    "                            (\"scaler\", MinMaxScaler())\n",
    "                        ])\n",
    "num_pipe"
   ]
  },
  {
   "cell_type": "code",
   "execution_count": 101,
   "id": "21aec41a",
   "metadata": {
    "execution": {
     "iopub.execute_input": "2023-08-09T07:04:53.199809Z",
     "iopub.status.busy": "2023-08-09T07:04:53.199030Z",
     "iopub.status.idle": "2023-08-09T07:04:53.207477Z",
     "shell.execute_reply": "2023-08-09T07:04:53.206675Z"
    },
    "papermill": {
     "duration": 0.104196,
     "end_time": "2023-08-09T07:04:53.209690",
     "exception": false,
     "start_time": "2023-08-09T07:04:53.105494",
     "status": "completed"
    },
    "tags": []
   },
   "outputs": [
    {
     "data": {
      "text/html": [
       "<style>#sk-container-id-3 {color: black;background-color: white;}#sk-container-id-3 pre{padding: 0;}#sk-container-id-3 div.sk-toggleable {background-color: white;}#sk-container-id-3 label.sk-toggleable__label {cursor: pointer;display: block;width: 100%;margin-bottom: 0;padding: 0.3em;box-sizing: border-box;text-align: center;}#sk-container-id-3 label.sk-toggleable__label-arrow:before {content: \"▸\";float: left;margin-right: 0.25em;color: #696969;}#sk-container-id-3 label.sk-toggleable__label-arrow:hover:before {color: black;}#sk-container-id-3 div.sk-estimator:hover label.sk-toggleable__label-arrow:before {color: black;}#sk-container-id-3 div.sk-toggleable__content {max-height: 0;max-width: 0;overflow: hidden;text-align: left;background-color: #f0f8ff;}#sk-container-id-3 div.sk-toggleable__content pre {margin: 0.2em;color: black;border-radius: 0.25em;background-color: #f0f8ff;}#sk-container-id-3 input.sk-toggleable__control:checked~div.sk-toggleable__content {max-height: 200px;max-width: 100%;overflow: auto;}#sk-container-id-3 input.sk-toggleable__control:checked~label.sk-toggleable__label-arrow:before {content: \"▾\";}#sk-container-id-3 div.sk-estimator input.sk-toggleable__control:checked~label.sk-toggleable__label {background-color: #d4ebff;}#sk-container-id-3 div.sk-label input.sk-toggleable__control:checked~label.sk-toggleable__label {background-color: #d4ebff;}#sk-container-id-3 input.sk-hidden--visually {border: 0;clip: rect(1px 1px 1px 1px);clip: rect(1px, 1px, 1px, 1px);height: 1px;margin: -1px;overflow: hidden;padding: 0;position: absolute;width: 1px;}#sk-container-id-3 div.sk-estimator {font-family: monospace;background-color: #f0f8ff;border: 1px dotted black;border-radius: 0.25em;box-sizing: border-box;margin-bottom: 0.5em;}#sk-container-id-3 div.sk-estimator:hover {background-color: #d4ebff;}#sk-container-id-3 div.sk-parallel-item::after {content: \"\";width: 100%;border-bottom: 1px solid gray;flex-grow: 1;}#sk-container-id-3 div.sk-label:hover label.sk-toggleable__label {background-color: #d4ebff;}#sk-container-id-3 div.sk-serial::before {content: \"\";position: absolute;border-left: 1px solid gray;box-sizing: border-box;top: 0;bottom: 0;left: 50%;z-index: 0;}#sk-container-id-3 div.sk-serial {display: flex;flex-direction: column;align-items: center;background-color: white;padding-right: 0.2em;padding-left: 0.2em;position: relative;}#sk-container-id-3 div.sk-item {position: relative;z-index: 1;}#sk-container-id-3 div.sk-parallel {display: flex;align-items: stretch;justify-content: center;background-color: white;position: relative;}#sk-container-id-3 div.sk-item::before, #sk-container-id-3 div.sk-parallel-item::before {content: \"\";position: absolute;border-left: 1px solid gray;box-sizing: border-box;top: 0;bottom: 0;left: 50%;z-index: -1;}#sk-container-id-3 div.sk-parallel-item {display: flex;flex-direction: column;z-index: 1;position: relative;background-color: white;}#sk-container-id-3 div.sk-parallel-item:first-child::after {align-self: flex-end;width: 50%;}#sk-container-id-3 div.sk-parallel-item:last-child::after {align-self: flex-start;width: 50%;}#sk-container-id-3 div.sk-parallel-item:only-child::after {width: 0;}#sk-container-id-3 div.sk-dashed-wrapped {border: 1px dashed gray;margin: 0 0.4em 0.5em 0.4em;box-sizing: border-box;padding-bottom: 0.4em;background-color: white;}#sk-container-id-3 div.sk-label label {font-family: monospace;font-weight: bold;display: inline-block;line-height: 1.2em;}#sk-container-id-3 div.sk-label-container {text-align: center;}#sk-container-id-3 div.sk-container {/* jupyter's `normalize.less` sets `[hidden] { display: none; }` but bootstrap.min.css set `[hidden] { display: none !important; }` so we also need the `!important` here to be able to override the default hidden behavior on the sphinx rendered scikit-learn.org. See: https://github.com/scikit-learn/scikit-learn/issues/21755 */display: inline-block !important;position: relative;}#sk-container-id-3 div.sk-text-repr-fallback {display: none;}</style><div id=\"sk-container-id-3\" class=\"sk-top-container\"><div class=\"sk-text-repr-fallback\"><pre>Pipeline(steps=[(&#x27;tvec&#x27;, TfidfVectorizer())])</pre><b>In a Jupyter environment, please rerun this cell to show the HTML representation or trust the notebook. <br />On GitHub, the HTML representation is unable to render, please try loading this page with nbviewer.org.</b></div><div class=\"sk-container\" hidden><div class=\"sk-item sk-dashed-wrapped\"><div class=\"sk-label-container\"><div class=\"sk-label sk-toggleable\"><input class=\"sk-toggleable__control sk-hidden--visually\" id=\"sk-estimator-id-5\" type=\"checkbox\" ><label for=\"sk-estimator-id-5\" class=\"sk-toggleable__label sk-toggleable__label-arrow\">Pipeline</label><div class=\"sk-toggleable__content\"><pre>Pipeline(steps=[(&#x27;tvec&#x27;, TfidfVectorizer())])</pre></div></div></div><div class=\"sk-serial\"><div class=\"sk-item\"><div class=\"sk-estimator sk-toggleable\"><input class=\"sk-toggleable__control sk-hidden--visually\" id=\"sk-estimator-id-6\" type=\"checkbox\" ><label for=\"sk-estimator-id-6\" class=\"sk-toggleable__label sk-toggleable__label-arrow\">TfidfVectorizer</label><div class=\"sk-toggleable__content\"><pre>TfidfVectorizer()</pre></div></div></div></div></div></div></div>"
      ],
      "text/plain": [
       "Pipeline(steps=[('tvec', TfidfVectorizer())])"
      ]
     },
     "execution_count": 101,
     "metadata": {},
     "output_type": "execute_result"
    }
   ],
   "source": [
    "txt_pipe = Pipeline(steps=[\n",
    "                            (\"tvec\", TfidfVectorizer())\n",
    "                        ])\n",
    "txt_pipe"
   ]
  },
  {
   "cell_type": "code",
   "execution_count": 102,
   "id": "908d9543",
   "metadata": {
    "execution": {
     "iopub.execute_input": "2023-08-09T07:04:53.396004Z",
     "iopub.status.busy": "2023-08-09T07:04:53.395568Z",
     "iopub.status.idle": "2023-08-09T07:04:53.403451Z",
     "shell.execute_reply": "2023-08-09T07:04:53.402704Z"
    },
    "papermill": {
     "duration": 0.103234,
     "end_time": "2023-08-09T07:04:53.405476",
     "exception": false,
     "start_time": "2023-08-09T07:04:53.302242",
     "status": "completed"
    },
    "tags": []
   },
   "outputs": [
    {
     "data": {
      "text/html": [
       "<style>#sk-container-id-4 {color: black;background-color: white;}#sk-container-id-4 pre{padding: 0;}#sk-container-id-4 div.sk-toggleable {background-color: white;}#sk-container-id-4 label.sk-toggleable__label {cursor: pointer;display: block;width: 100%;margin-bottom: 0;padding: 0.3em;box-sizing: border-box;text-align: center;}#sk-container-id-4 label.sk-toggleable__label-arrow:before {content: \"▸\";float: left;margin-right: 0.25em;color: #696969;}#sk-container-id-4 label.sk-toggleable__label-arrow:hover:before {color: black;}#sk-container-id-4 div.sk-estimator:hover label.sk-toggleable__label-arrow:before {color: black;}#sk-container-id-4 div.sk-toggleable__content {max-height: 0;max-width: 0;overflow: hidden;text-align: left;background-color: #f0f8ff;}#sk-container-id-4 div.sk-toggleable__content pre {margin: 0.2em;color: black;border-radius: 0.25em;background-color: #f0f8ff;}#sk-container-id-4 input.sk-toggleable__control:checked~div.sk-toggleable__content {max-height: 200px;max-width: 100%;overflow: auto;}#sk-container-id-4 input.sk-toggleable__control:checked~label.sk-toggleable__label-arrow:before {content: \"▾\";}#sk-container-id-4 div.sk-estimator input.sk-toggleable__control:checked~label.sk-toggleable__label {background-color: #d4ebff;}#sk-container-id-4 div.sk-label input.sk-toggleable__control:checked~label.sk-toggleable__label {background-color: #d4ebff;}#sk-container-id-4 input.sk-hidden--visually {border: 0;clip: rect(1px 1px 1px 1px);clip: rect(1px, 1px, 1px, 1px);height: 1px;margin: -1px;overflow: hidden;padding: 0;position: absolute;width: 1px;}#sk-container-id-4 div.sk-estimator {font-family: monospace;background-color: #f0f8ff;border: 1px dotted black;border-radius: 0.25em;box-sizing: border-box;margin-bottom: 0.5em;}#sk-container-id-4 div.sk-estimator:hover {background-color: #d4ebff;}#sk-container-id-4 div.sk-parallel-item::after {content: \"\";width: 100%;border-bottom: 1px solid gray;flex-grow: 1;}#sk-container-id-4 div.sk-label:hover label.sk-toggleable__label {background-color: #d4ebff;}#sk-container-id-4 div.sk-serial::before {content: \"\";position: absolute;border-left: 1px solid gray;box-sizing: border-box;top: 0;bottom: 0;left: 50%;z-index: 0;}#sk-container-id-4 div.sk-serial {display: flex;flex-direction: column;align-items: center;background-color: white;padding-right: 0.2em;padding-left: 0.2em;position: relative;}#sk-container-id-4 div.sk-item {position: relative;z-index: 1;}#sk-container-id-4 div.sk-parallel {display: flex;align-items: stretch;justify-content: center;background-color: white;position: relative;}#sk-container-id-4 div.sk-item::before, #sk-container-id-4 div.sk-parallel-item::before {content: \"\";position: absolute;border-left: 1px solid gray;box-sizing: border-box;top: 0;bottom: 0;left: 50%;z-index: -1;}#sk-container-id-4 div.sk-parallel-item {display: flex;flex-direction: column;z-index: 1;position: relative;background-color: white;}#sk-container-id-4 div.sk-parallel-item:first-child::after {align-self: flex-end;width: 50%;}#sk-container-id-4 div.sk-parallel-item:last-child::after {align-self: flex-start;width: 50%;}#sk-container-id-4 div.sk-parallel-item:only-child::after {width: 0;}#sk-container-id-4 div.sk-dashed-wrapped {border: 1px dashed gray;margin: 0 0.4em 0.5em 0.4em;box-sizing: border-box;padding-bottom: 0.4em;background-color: white;}#sk-container-id-4 div.sk-label label {font-family: monospace;font-weight: bold;display: inline-block;line-height: 1.2em;}#sk-container-id-4 div.sk-label-container {text-align: center;}#sk-container-id-4 div.sk-container {/* jupyter's `normalize.less` sets `[hidden] { display: none; }` but bootstrap.min.css set `[hidden] { display: none !important; }` so we also need the `!important` here to be able to override the default hidden behavior on the sphinx rendered scikit-learn.org. See: https://github.com/scikit-learn/scikit-learn/issues/21755 */display: inline-block !important;position: relative;}#sk-container-id-4 div.sk-text-repr-fallback {display: none;}</style><div id=\"sk-container-id-4\" class=\"sk-top-container\"><div class=\"sk-text-repr-fallback\"><pre>Pipeline(steps=[(&#x27;ohe&#x27;, OneHotEncoder(handle_unknown=&#x27;ignore&#x27;))])</pre><b>In a Jupyter environment, please rerun this cell to show the HTML representation or trust the notebook. <br />On GitHub, the HTML representation is unable to render, please try loading this page with nbviewer.org.</b></div><div class=\"sk-container\" hidden><div class=\"sk-item sk-dashed-wrapped\"><div class=\"sk-label-container\"><div class=\"sk-label sk-toggleable\"><input class=\"sk-toggleable__control sk-hidden--visually\" id=\"sk-estimator-id-7\" type=\"checkbox\" ><label for=\"sk-estimator-id-7\" class=\"sk-toggleable__label sk-toggleable__label-arrow\">Pipeline</label><div class=\"sk-toggleable__content\"><pre>Pipeline(steps=[(&#x27;ohe&#x27;, OneHotEncoder(handle_unknown=&#x27;ignore&#x27;))])</pre></div></div></div><div class=\"sk-serial\"><div class=\"sk-item\"><div class=\"sk-estimator sk-toggleable\"><input class=\"sk-toggleable__control sk-hidden--visually\" id=\"sk-estimator-id-8\" type=\"checkbox\" ><label for=\"sk-estimator-id-8\" class=\"sk-toggleable__label sk-toggleable__label-arrow\">OneHotEncoder</label><div class=\"sk-toggleable__content\"><pre>OneHotEncoder(handle_unknown=&#x27;ignore&#x27;)</pre></div></div></div></div></div></div></div>"
      ],
      "text/plain": [
       "Pipeline(steps=[('ohe', OneHotEncoder(handle_unknown='ignore'))])"
      ]
     },
     "execution_count": 102,
     "metadata": {},
     "output_type": "execute_result"
    }
   ],
   "source": [
    "cat_pipe = Pipeline(steps=[\n",
    "                            (\"ohe\", OneHotEncoder(handle_unknown=\"ignore\"))\n",
    "                        ])\n",
    "cat_pipe"
   ]
  },
  {
   "cell_type": "code",
   "execution_count": 103,
   "id": "acf13af9",
   "metadata": {
    "execution": {
     "iopub.execute_input": "2023-08-09T07:04:53.592810Z",
     "iopub.status.busy": "2023-08-09T07:04:53.592358Z",
     "iopub.status.idle": "2023-08-09T07:04:53.599720Z",
     "shell.execute_reply": "2023-08-09T07:04:53.598936Z"
    },
    "papermill": {
     "duration": 0.103107,
     "end_time": "2023-08-09T07:04:53.601662",
     "exception": false,
     "start_time": "2023-08-09T07:04:53.498555",
     "status": "completed"
    },
    "tags": []
   },
   "outputs": [
    {
     "data": {
      "text/html": [
       "<style>#sk-container-id-5 {color: black;background-color: white;}#sk-container-id-5 pre{padding: 0;}#sk-container-id-5 div.sk-toggleable {background-color: white;}#sk-container-id-5 label.sk-toggleable__label {cursor: pointer;display: block;width: 100%;margin-bottom: 0;padding: 0.3em;box-sizing: border-box;text-align: center;}#sk-container-id-5 label.sk-toggleable__label-arrow:before {content: \"▸\";float: left;margin-right: 0.25em;color: #696969;}#sk-container-id-5 label.sk-toggleable__label-arrow:hover:before {color: black;}#sk-container-id-5 div.sk-estimator:hover label.sk-toggleable__label-arrow:before {color: black;}#sk-container-id-5 div.sk-toggleable__content {max-height: 0;max-width: 0;overflow: hidden;text-align: left;background-color: #f0f8ff;}#sk-container-id-5 div.sk-toggleable__content pre {margin: 0.2em;color: black;border-radius: 0.25em;background-color: #f0f8ff;}#sk-container-id-5 input.sk-toggleable__control:checked~div.sk-toggleable__content {max-height: 200px;max-width: 100%;overflow: auto;}#sk-container-id-5 input.sk-toggleable__control:checked~label.sk-toggleable__label-arrow:before {content: \"▾\";}#sk-container-id-5 div.sk-estimator input.sk-toggleable__control:checked~label.sk-toggleable__label {background-color: #d4ebff;}#sk-container-id-5 div.sk-label input.sk-toggleable__control:checked~label.sk-toggleable__label {background-color: #d4ebff;}#sk-container-id-5 input.sk-hidden--visually {border: 0;clip: rect(1px 1px 1px 1px);clip: rect(1px, 1px, 1px, 1px);height: 1px;margin: -1px;overflow: hidden;padding: 0;position: absolute;width: 1px;}#sk-container-id-5 div.sk-estimator {font-family: monospace;background-color: #f0f8ff;border: 1px dotted black;border-radius: 0.25em;box-sizing: border-box;margin-bottom: 0.5em;}#sk-container-id-5 div.sk-estimator:hover {background-color: #d4ebff;}#sk-container-id-5 div.sk-parallel-item::after {content: \"\";width: 100%;border-bottom: 1px solid gray;flex-grow: 1;}#sk-container-id-5 div.sk-label:hover label.sk-toggleable__label {background-color: #d4ebff;}#sk-container-id-5 div.sk-serial::before {content: \"\";position: absolute;border-left: 1px solid gray;box-sizing: border-box;top: 0;bottom: 0;left: 50%;z-index: 0;}#sk-container-id-5 div.sk-serial {display: flex;flex-direction: column;align-items: center;background-color: white;padding-right: 0.2em;padding-left: 0.2em;position: relative;}#sk-container-id-5 div.sk-item {position: relative;z-index: 1;}#sk-container-id-5 div.sk-parallel {display: flex;align-items: stretch;justify-content: center;background-color: white;position: relative;}#sk-container-id-5 div.sk-item::before, #sk-container-id-5 div.sk-parallel-item::before {content: \"\";position: absolute;border-left: 1px solid gray;box-sizing: border-box;top: 0;bottom: 0;left: 50%;z-index: -1;}#sk-container-id-5 div.sk-parallel-item {display: flex;flex-direction: column;z-index: 1;position: relative;background-color: white;}#sk-container-id-5 div.sk-parallel-item:first-child::after {align-self: flex-end;width: 50%;}#sk-container-id-5 div.sk-parallel-item:last-child::after {align-self: flex-start;width: 50%;}#sk-container-id-5 div.sk-parallel-item:only-child::after {width: 0;}#sk-container-id-5 div.sk-dashed-wrapped {border: 1px dashed gray;margin: 0 0.4em 0.5em 0.4em;box-sizing: border-box;padding-bottom: 0.4em;background-color: white;}#sk-container-id-5 div.sk-label label {font-family: monospace;font-weight: bold;display: inline-block;line-height: 1.2em;}#sk-container-id-5 div.sk-label-container {text-align: center;}#sk-container-id-5 div.sk-container {/* jupyter's `normalize.less` sets `[hidden] { display: none; }` but bootstrap.min.css set `[hidden] { display: none !important; }` so we also need the `!important` here to be able to override the default hidden behavior on the sphinx rendered scikit-learn.org. See: https://github.com/scikit-learn/scikit-learn/issues/21755 */display: inline-block !important;position: relative;}#sk-container-id-5 div.sk-text-repr-fallback {display: none;}</style><div id=\"sk-container-id-5\" class=\"sk-top-container\"><div class=\"sk-text-repr-fallback\"><pre>TfidfVectorizer(ngram_range=(1, 2))</pre><b>In a Jupyter environment, please rerun this cell to show the HTML representation or trust the notebook. <br />On GitHub, the HTML representation is unable to render, please try loading this page with nbviewer.org.</b></div><div class=\"sk-container\" hidden><div class=\"sk-item\"><div class=\"sk-estimator sk-toggleable\"><input class=\"sk-toggleable__control sk-hidden--visually\" id=\"sk-estimator-id-9\" type=\"checkbox\" checked><label for=\"sk-estimator-id-9\" class=\"sk-toggleable__label sk-toggleable__label-arrow\">TfidfVectorizer</label><div class=\"sk-toggleable__content\"><pre>TfidfVectorizer(ngram_range=(1, 2))</pre></div></div></div></div></div>"
      ],
      "text/plain": [
       "TfidfVectorizer(ngram_range=(1, 2))"
      ]
     },
     "execution_count": 103,
     "metadata": {},
     "output_type": "execute_result"
    }
   ],
   "source": [
    "tfidf_vec_1 = TfidfVectorizer(ngram_range=(1,2))\n",
    "tfidf_vec_1"
   ]
  },
  {
   "cell_type": "code",
   "execution_count": 104,
   "id": "d41b1732",
   "metadata": {
    "execution": {
     "iopub.execute_input": "2023-08-09T07:04:53.788224Z",
     "iopub.status.busy": "2023-08-09T07:04:53.787814Z",
     "iopub.status.idle": "2023-08-09T07:04:53.841359Z",
     "shell.execute_reply": "2023-08-09T07:04:53.840250Z"
    },
    "papermill": {
     "duration": 0.14982,
     "end_time": "2023-08-09T07:04:53.843774",
     "exception": false,
     "start_time": "2023-08-09T07:04:53.693954",
     "status": "completed"
    },
    "tags": []
   },
   "outputs": [
    {
     "data": {
      "text/html": [
       "<style>#sk-container-id-6 {color: black;background-color: white;}#sk-container-id-6 pre{padding: 0;}#sk-container-id-6 div.sk-toggleable {background-color: white;}#sk-container-id-6 label.sk-toggleable__label {cursor: pointer;display: block;width: 100%;margin-bottom: 0;padding: 0.3em;box-sizing: border-box;text-align: center;}#sk-container-id-6 label.sk-toggleable__label-arrow:before {content: \"▸\";float: left;margin-right: 0.25em;color: #696969;}#sk-container-id-6 label.sk-toggleable__label-arrow:hover:before {color: black;}#sk-container-id-6 div.sk-estimator:hover label.sk-toggleable__label-arrow:before {color: black;}#sk-container-id-6 div.sk-toggleable__content {max-height: 0;max-width: 0;overflow: hidden;text-align: left;background-color: #f0f8ff;}#sk-container-id-6 div.sk-toggleable__content pre {margin: 0.2em;color: black;border-radius: 0.25em;background-color: #f0f8ff;}#sk-container-id-6 input.sk-toggleable__control:checked~div.sk-toggleable__content {max-height: 200px;max-width: 100%;overflow: auto;}#sk-container-id-6 input.sk-toggleable__control:checked~label.sk-toggleable__label-arrow:before {content: \"▾\";}#sk-container-id-6 div.sk-estimator input.sk-toggleable__control:checked~label.sk-toggleable__label {background-color: #d4ebff;}#sk-container-id-6 div.sk-label input.sk-toggleable__control:checked~label.sk-toggleable__label {background-color: #d4ebff;}#sk-container-id-6 input.sk-hidden--visually {border: 0;clip: rect(1px 1px 1px 1px);clip: rect(1px, 1px, 1px, 1px);height: 1px;margin: -1px;overflow: hidden;padding: 0;position: absolute;width: 1px;}#sk-container-id-6 div.sk-estimator {font-family: monospace;background-color: #f0f8ff;border: 1px dotted black;border-radius: 0.25em;box-sizing: border-box;margin-bottom: 0.5em;}#sk-container-id-6 div.sk-estimator:hover {background-color: #d4ebff;}#sk-container-id-6 div.sk-parallel-item::after {content: \"\";width: 100%;border-bottom: 1px solid gray;flex-grow: 1;}#sk-container-id-6 div.sk-label:hover label.sk-toggleable__label {background-color: #d4ebff;}#sk-container-id-6 div.sk-serial::before {content: \"\";position: absolute;border-left: 1px solid gray;box-sizing: border-box;top: 0;bottom: 0;left: 50%;z-index: 0;}#sk-container-id-6 div.sk-serial {display: flex;flex-direction: column;align-items: center;background-color: white;padding-right: 0.2em;padding-left: 0.2em;position: relative;}#sk-container-id-6 div.sk-item {position: relative;z-index: 1;}#sk-container-id-6 div.sk-parallel {display: flex;align-items: stretch;justify-content: center;background-color: white;position: relative;}#sk-container-id-6 div.sk-item::before, #sk-container-id-6 div.sk-parallel-item::before {content: \"\";position: absolute;border-left: 1px solid gray;box-sizing: border-box;top: 0;bottom: 0;left: 50%;z-index: -1;}#sk-container-id-6 div.sk-parallel-item {display: flex;flex-direction: column;z-index: 1;position: relative;background-color: white;}#sk-container-id-6 div.sk-parallel-item:first-child::after {align-self: flex-end;width: 50%;}#sk-container-id-6 div.sk-parallel-item:last-child::after {align-self: flex-start;width: 50%;}#sk-container-id-6 div.sk-parallel-item:only-child::after {width: 0;}#sk-container-id-6 div.sk-dashed-wrapped {border: 1px dashed gray;margin: 0 0.4em 0.5em 0.4em;box-sizing: border-box;padding-bottom: 0.4em;background-color: white;}#sk-container-id-6 div.sk-label label {font-family: monospace;font-weight: bold;display: inline-block;line-height: 1.2em;}#sk-container-id-6 div.sk-label-container {text-align: center;}#sk-container-id-6 div.sk-container {/* jupyter's `normalize.less` sets `[hidden] { display: none; }` but bootstrap.min.css set `[hidden] { display: none !important; }` so we also need the `!important` here to be able to override the default hidden behavior on the sphinx rendered scikit-learn.org. See: https://github.com/scikit-learn/scikit-learn/issues/21755 */display: inline-block !important;position: relative;}#sk-container-id-6 div.sk-text-repr-fallback {display: none;}</style><div id=\"sk-container-id-6\" class=\"sk-top-container\"><div class=\"sk-text-repr-fallback\"><pre>ColumnTransformer(n_jobs=1,\n",
       "                  transformers=[(&#x27;num&#x27;,\n",
       "                                 Pipeline(steps=[(&#x27;imputer&#x27;, SimpleImputer()),\n",
       "                                                 (&#x27;scaler&#x27;, MinMaxScaler())]),\n",
       "                                 [&#x27;audienceScore&#x27;, &#x27;runtimeMinutes&#x27;]),\n",
       "                                (&#x27;txt1&#x27;,\n",
       "                                 Pipeline(steps=[(&#x27;tvec&#x27;, TfidfVectorizer())]),\n",
       "                                 &#x27;originalLanguage&#x27;),\n",
       "                                (&#x27;txt2&#x27;,\n",
       "                                 Pipeline(steps=[(&#x27;tvec&#x27;, TfidfVectorizer())]),\n",
       "                                 &#x27;genre&#x27;),\n",
       "                                (&#x27;txt3&#x27;,\n",
       "                                 Pipeline(steps=[(&#x27;tvec&#x27;, TfidfVectorizer())]),\n",
       "                                 &#x27;director&#x27;),\n",
       "                                (&#x27;cat&#x27;,\n",
       "                                 Pipeline(steps=[(&#x27;ohe&#x27;,\n",
       "                                                  OneHotEncoder(handle_unknown=&#x27;ignore&#x27;))]),\n",
       "                                 [&#x27;rating&#x27;, &#x27;isFrequentReviewer&#x27;]),\n",
       "                                (&#x27;txt4a&#x27;, TfidfVectorizer(ngram_range=(1, 2)),\n",
       "                                 &#x27;reviewText&#x27;)])</pre><b>In a Jupyter environment, please rerun this cell to show the HTML representation or trust the notebook. <br />On GitHub, the HTML representation is unable to render, please try loading this page with nbviewer.org.</b></div><div class=\"sk-container\" hidden><div class=\"sk-item sk-dashed-wrapped\"><div class=\"sk-label-container\"><div class=\"sk-label sk-toggleable\"><input class=\"sk-toggleable__control sk-hidden--visually\" id=\"sk-estimator-id-10\" type=\"checkbox\" ><label for=\"sk-estimator-id-10\" class=\"sk-toggleable__label sk-toggleable__label-arrow\">ColumnTransformer</label><div class=\"sk-toggleable__content\"><pre>ColumnTransformer(n_jobs=1,\n",
       "                  transformers=[(&#x27;num&#x27;,\n",
       "                                 Pipeline(steps=[(&#x27;imputer&#x27;, SimpleImputer()),\n",
       "                                                 (&#x27;scaler&#x27;, MinMaxScaler())]),\n",
       "                                 [&#x27;audienceScore&#x27;, &#x27;runtimeMinutes&#x27;]),\n",
       "                                (&#x27;txt1&#x27;,\n",
       "                                 Pipeline(steps=[(&#x27;tvec&#x27;, TfidfVectorizer())]),\n",
       "                                 &#x27;originalLanguage&#x27;),\n",
       "                                (&#x27;txt2&#x27;,\n",
       "                                 Pipeline(steps=[(&#x27;tvec&#x27;, TfidfVectorizer())]),\n",
       "                                 &#x27;genre&#x27;),\n",
       "                                (&#x27;txt3&#x27;,\n",
       "                                 Pipeline(steps=[(&#x27;tvec&#x27;, TfidfVectorizer())]),\n",
       "                                 &#x27;director&#x27;),\n",
       "                                (&#x27;cat&#x27;,\n",
       "                                 Pipeline(steps=[(&#x27;ohe&#x27;,\n",
       "                                                  OneHotEncoder(handle_unknown=&#x27;ignore&#x27;))]),\n",
       "                                 [&#x27;rating&#x27;, &#x27;isFrequentReviewer&#x27;]),\n",
       "                                (&#x27;txt4a&#x27;, TfidfVectorizer(ngram_range=(1, 2)),\n",
       "                                 &#x27;reviewText&#x27;)])</pre></div></div></div><div class=\"sk-parallel\"><div class=\"sk-parallel-item\"><div class=\"sk-item\"><div class=\"sk-label-container\"><div class=\"sk-label sk-toggleable\"><input class=\"sk-toggleable__control sk-hidden--visually\" id=\"sk-estimator-id-11\" type=\"checkbox\" ><label for=\"sk-estimator-id-11\" class=\"sk-toggleable__label sk-toggleable__label-arrow\">num</label><div class=\"sk-toggleable__content\"><pre>[&#x27;audienceScore&#x27;, &#x27;runtimeMinutes&#x27;]</pre></div></div></div><div class=\"sk-serial\"><div class=\"sk-item\"><div class=\"sk-serial\"><div class=\"sk-item\"><div class=\"sk-estimator sk-toggleable\"><input class=\"sk-toggleable__control sk-hidden--visually\" id=\"sk-estimator-id-12\" type=\"checkbox\" ><label for=\"sk-estimator-id-12\" class=\"sk-toggleable__label sk-toggleable__label-arrow\">SimpleImputer</label><div class=\"sk-toggleable__content\"><pre>SimpleImputer()</pre></div></div></div><div class=\"sk-item\"><div class=\"sk-estimator sk-toggleable\"><input class=\"sk-toggleable__control sk-hidden--visually\" id=\"sk-estimator-id-13\" type=\"checkbox\" ><label for=\"sk-estimator-id-13\" class=\"sk-toggleable__label sk-toggleable__label-arrow\">MinMaxScaler</label><div class=\"sk-toggleable__content\"><pre>MinMaxScaler()</pre></div></div></div></div></div></div></div></div><div class=\"sk-parallel-item\"><div class=\"sk-item\"><div class=\"sk-label-container\"><div class=\"sk-label sk-toggleable\"><input class=\"sk-toggleable__control sk-hidden--visually\" id=\"sk-estimator-id-14\" type=\"checkbox\" ><label for=\"sk-estimator-id-14\" class=\"sk-toggleable__label sk-toggleable__label-arrow\">txt1</label><div class=\"sk-toggleable__content\"><pre>originalLanguage</pre></div></div></div><div class=\"sk-serial\"><div class=\"sk-item\"><div class=\"sk-serial\"><div class=\"sk-item\"><div class=\"sk-estimator sk-toggleable\"><input class=\"sk-toggleable__control sk-hidden--visually\" id=\"sk-estimator-id-15\" type=\"checkbox\" ><label for=\"sk-estimator-id-15\" class=\"sk-toggleable__label sk-toggleable__label-arrow\">TfidfVectorizer</label><div class=\"sk-toggleable__content\"><pre>TfidfVectorizer()</pre></div></div></div></div></div></div></div></div><div class=\"sk-parallel-item\"><div class=\"sk-item\"><div class=\"sk-label-container\"><div class=\"sk-label sk-toggleable\"><input class=\"sk-toggleable__control sk-hidden--visually\" id=\"sk-estimator-id-16\" type=\"checkbox\" ><label for=\"sk-estimator-id-16\" class=\"sk-toggleable__label sk-toggleable__label-arrow\">txt2</label><div class=\"sk-toggleable__content\"><pre>genre</pre></div></div></div><div class=\"sk-serial\"><div class=\"sk-item\"><div class=\"sk-serial\"><div class=\"sk-item\"><div class=\"sk-estimator sk-toggleable\"><input class=\"sk-toggleable__control sk-hidden--visually\" id=\"sk-estimator-id-17\" type=\"checkbox\" ><label for=\"sk-estimator-id-17\" class=\"sk-toggleable__label sk-toggleable__label-arrow\">TfidfVectorizer</label><div class=\"sk-toggleable__content\"><pre>TfidfVectorizer()</pre></div></div></div></div></div></div></div></div><div class=\"sk-parallel-item\"><div class=\"sk-item\"><div class=\"sk-label-container\"><div class=\"sk-label sk-toggleable\"><input class=\"sk-toggleable__control sk-hidden--visually\" id=\"sk-estimator-id-18\" type=\"checkbox\" ><label for=\"sk-estimator-id-18\" class=\"sk-toggleable__label sk-toggleable__label-arrow\">txt3</label><div class=\"sk-toggleable__content\"><pre>director</pre></div></div></div><div class=\"sk-serial\"><div class=\"sk-item\"><div class=\"sk-serial\"><div class=\"sk-item\"><div class=\"sk-estimator sk-toggleable\"><input class=\"sk-toggleable__control sk-hidden--visually\" id=\"sk-estimator-id-19\" type=\"checkbox\" ><label for=\"sk-estimator-id-19\" class=\"sk-toggleable__label sk-toggleable__label-arrow\">TfidfVectorizer</label><div class=\"sk-toggleable__content\"><pre>TfidfVectorizer()</pre></div></div></div></div></div></div></div></div><div class=\"sk-parallel-item\"><div class=\"sk-item\"><div class=\"sk-label-container\"><div class=\"sk-label sk-toggleable\"><input class=\"sk-toggleable__control sk-hidden--visually\" id=\"sk-estimator-id-20\" type=\"checkbox\" ><label for=\"sk-estimator-id-20\" class=\"sk-toggleable__label sk-toggleable__label-arrow\">cat</label><div class=\"sk-toggleable__content\"><pre>[&#x27;rating&#x27;, &#x27;isFrequentReviewer&#x27;]</pre></div></div></div><div class=\"sk-serial\"><div class=\"sk-item\"><div class=\"sk-serial\"><div class=\"sk-item\"><div class=\"sk-estimator sk-toggleable\"><input class=\"sk-toggleable__control sk-hidden--visually\" id=\"sk-estimator-id-21\" type=\"checkbox\" ><label for=\"sk-estimator-id-21\" class=\"sk-toggleable__label sk-toggleable__label-arrow\">OneHotEncoder</label><div class=\"sk-toggleable__content\"><pre>OneHotEncoder(handle_unknown=&#x27;ignore&#x27;)</pre></div></div></div></div></div></div></div></div><div class=\"sk-parallel-item\"><div class=\"sk-item\"><div class=\"sk-label-container\"><div class=\"sk-label sk-toggleable\"><input class=\"sk-toggleable__control sk-hidden--visually\" id=\"sk-estimator-id-22\" type=\"checkbox\" ><label for=\"sk-estimator-id-22\" class=\"sk-toggleable__label sk-toggleable__label-arrow\">txt4a</label><div class=\"sk-toggleable__content\"><pre>reviewText</pre></div></div></div><div class=\"sk-serial\"><div class=\"sk-item\"><div class=\"sk-estimator sk-toggleable\"><input class=\"sk-toggleable__control sk-hidden--visually\" id=\"sk-estimator-id-23\" type=\"checkbox\" ><label for=\"sk-estimator-id-23\" class=\"sk-toggleable__label sk-toggleable__label-arrow\">TfidfVectorizer</label><div class=\"sk-toggleable__content\"><pre>TfidfVectorizer(ngram_range=(1, 2))</pre></div></div></div></div></div></div></div></div></div></div>"
      ],
      "text/plain": [
       "ColumnTransformer(n_jobs=1,\n",
       "                  transformers=[('num',\n",
       "                                 Pipeline(steps=[('imputer', SimpleImputer()),\n",
       "                                                 ('scaler', MinMaxScaler())]),\n",
       "                                 ['audienceScore', 'runtimeMinutes']),\n",
       "                                ('txt1',\n",
       "                                 Pipeline(steps=[('tvec', TfidfVectorizer())]),\n",
       "                                 'originalLanguage'),\n",
       "                                ('txt2',\n",
       "                                 Pipeline(steps=[('tvec', TfidfVectorizer())]),\n",
       "                                 'genre'),\n",
       "                                ('txt3',\n",
       "                                 Pipeline(steps=[('tvec', TfidfVectorizer())]),\n",
       "                                 'director'),\n",
       "                                ('cat',\n",
       "                                 Pipeline(steps=[('ohe',\n",
       "                                                  OneHotEncoder(handle_unknown='ignore'))]),\n",
       "                                 ['rating', 'isFrequentReviewer']),\n",
       "                                ('txt4a', TfidfVectorizer(ngram_range=(1, 2)),\n",
       "                                 'reviewText')])"
      ]
     },
     "execution_count": 104,
     "metadata": {},
     "output_type": "execute_result"
    }
   ],
   "source": [
    "ct_final = ColumnTransformer(transformers=[\n",
    "                                        (\"num\", num_pipe, num_vars),\n",
    "                                        (\"txt1\", txt_pipe, \"originalLanguage\"),\n",
    "                                        (\"txt2\", txt_pipe, \"genre\"),\n",
    "                                        (\"txt3\", txt_pipe, \"director\"),\n",
    "                                        (\"cat\", cat_pipe, cat_vars),\n",
    "                                        (\"txt4a\", tfidf_vec_1, \"reviewText\")\n",
    "#                                         (\"txt4\", TfidfVectorizer(ngram_range=(1,2)), \"reviewText\"),\n",
    "#                                         (\"cat2\", cat_pipe, [\"isFrequentReviewer\"])\n",
    "                                        ], remainder=\"drop\", n_jobs=1)\n",
    "\n",
    "# Note that this transformer drops \"movieid\" column and \"reviewerName\" column  \n",
    "ct_final"
   ]
  },
  {
   "cell_type": "code",
   "execution_count": 105,
   "id": "a9d61d9f",
   "metadata": {
    "execution": {
     "iopub.execute_input": "2023-08-09T07:04:54.033879Z",
     "iopub.status.busy": "2023-08-09T07:04:54.033490Z",
     "iopub.status.idle": "2023-08-09T07:04:54.193988Z",
     "shell.execute_reply": "2023-08-09T07:04:54.192853Z"
    },
    "papermill": {
     "duration": 0.258859,
     "end_time": "2023-08-09T07:04:54.196742",
     "exception": false,
     "start_time": "2023-08-09T07:04:53.937883",
     "status": "completed"
    },
    "tags": []
   },
   "outputs": [
    {
     "data": {
      "text/html": [
       "<style>#sk-container-id-7 {color: black;background-color: white;}#sk-container-id-7 pre{padding: 0;}#sk-container-id-7 div.sk-toggleable {background-color: white;}#sk-container-id-7 label.sk-toggleable__label {cursor: pointer;display: block;width: 100%;margin-bottom: 0;padding: 0.3em;box-sizing: border-box;text-align: center;}#sk-container-id-7 label.sk-toggleable__label-arrow:before {content: \"▸\";float: left;margin-right: 0.25em;color: #696969;}#sk-container-id-7 label.sk-toggleable__label-arrow:hover:before {color: black;}#sk-container-id-7 div.sk-estimator:hover label.sk-toggleable__label-arrow:before {color: black;}#sk-container-id-7 div.sk-toggleable__content {max-height: 0;max-width: 0;overflow: hidden;text-align: left;background-color: #f0f8ff;}#sk-container-id-7 div.sk-toggleable__content pre {margin: 0.2em;color: black;border-radius: 0.25em;background-color: #f0f8ff;}#sk-container-id-7 input.sk-toggleable__control:checked~div.sk-toggleable__content {max-height: 200px;max-width: 100%;overflow: auto;}#sk-container-id-7 input.sk-toggleable__control:checked~label.sk-toggleable__label-arrow:before {content: \"▾\";}#sk-container-id-7 div.sk-estimator input.sk-toggleable__control:checked~label.sk-toggleable__label {background-color: #d4ebff;}#sk-container-id-7 div.sk-label input.sk-toggleable__control:checked~label.sk-toggleable__label {background-color: #d4ebff;}#sk-container-id-7 input.sk-hidden--visually {border: 0;clip: rect(1px 1px 1px 1px);clip: rect(1px, 1px, 1px, 1px);height: 1px;margin: -1px;overflow: hidden;padding: 0;position: absolute;width: 1px;}#sk-container-id-7 div.sk-estimator {font-family: monospace;background-color: #f0f8ff;border: 1px dotted black;border-radius: 0.25em;box-sizing: border-box;margin-bottom: 0.5em;}#sk-container-id-7 div.sk-estimator:hover {background-color: #d4ebff;}#sk-container-id-7 div.sk-parallel-item::after {content: \"\";width: 100%;border-bottom: 1px solid gray;flex-grow: 1;}#sk-container-id-7 div.sk-label:hover label.sk-toggleable__label {background-color: #d4ebff;}#sk-container-id-7 div.sk-serial::before {content: \"\";position: absolute;border-left: 1px solid gray;box-sizing: border-box;top: 0;bottom: 0;left: 50%;z-index: 0;}#sk-container-id-7 div.sk-serial {display: flex;flex-direction: column;align-items: center;background-color: white;padding-right: 0.2em;padding-left: 0.2em;position: relative;}#sk-container-id-7 div.sk-item {position: relative;z-index: 1;}#sk-container-id-7 div.sk-parallel {display: flex;align-items: stretch;justify-content: center;background-color: white;position: relative;}#sk-container-id-7 div.sk-item::before, #sk-container-id-7 div.sk-parallel-item::before {content: \"\";position: absolute;border-left: 1px solid gray;box-sizing: border-box;top: 0;bottom: 0;left: 50%;z-index: -1;}#sk-container-id-7 div.sk-parallel-item {display: flex;flex-direction: column;z-index: 1;position: relative;background-color: white;}#sk-container-id-7 div.sk-parallel-item:first-child::after {align-self: flex-end;width: 50%;}#sk-container-id-7 div.sk-parallel-item:last-child::after {align-self: flex-start;width: 50%;}#sk-container-id-7 div.sk-parallel-item:only-child::after {width: 0;}#sk-container-id-7 div.sk-dashed-wrapped {border: 1px dashed gray;margin: 0 0.4em 0.5em 0.4em;box-sizing: border-box;padding-bottom: 0.4em;background-color: white;}#sk-container-id-7 div.sk-label label {font-family: monospace;font-weight: bold;display: inline-block;line-height: 1.2em;}#sk-container-id-7 div.sk-label-container {text-align: center;}#sk-container-id-7 div.sk-container {/* jupyter's `normalize.less` sets `[hidden] { display: none; }` but bootstrap.min.css set `[hidden] { display: none !important; }` so we also need the `!important` here to be able to override the default hidden behavior on the sphinx rendered scikit-learn.org. See: https://github.com/scikit-learn/scikit-learn/issues/21755 */display: inline-block !important;position: relative;}#sk-container-id-7 div.sk-text-repr-fallback {display: none;}</style><div id=\"sk-container-id-7\" class=\"sk-top-container\"><div class=\"sk-text-repr-fallback\"><pre>Pipeline(steps=[(&#x27;preprocessor&#x27;,\n",
       "                 ColumnTransformer(n_jobs=1,\n",
       "                                   transformers=[(&#x27;num&#x27;,\n",
       "                                                  Pipeline(steps=[(&#x27;imputer&#x27;,\n",
       "                                                                   SimpleImputer()),\n",
       "                                                                  (&#x27;scaler&#x27;,\n",
       "                                                                   MinMaxScaler())]),\n",
       "                                                  [&#x27;audienceScore&#x27;,\n",
       "                                                   &#x27;runtimeMinutes&#x27;]),\n",
       "                                                 (&#x27;txt1&#x27;,\n",
       "                                                  Pipeline(steps=[(&#x27;tvec&#x27;,\n",
       "                                                                   TfidfVectorizer())]),\n",
       "                                                  &#x27;originalLanguage&#x27;),\n",
       "                                                 (&#x27;txt2&#x27;,\n",
       "                                                  Pipeline(steps=[(&#x27;tvec&#x27;,\n",
       "                                                                   TfidfVectorizer())]),\n",
       "                                                  &#x27;genre&#x27;),\n",
       "                                                 (&#x27;txt3&#x27;,\n",
       "                                                  Pipeline(steps=[(&#x27;tvec&#x27;,\n",
       "                                                                   TfidfVectorizer())]),\n",
       "                                                  &#x27;director&#x27;),\n",
       "                                                 (&#x27;cat&#x27;,\n",
       "                                                  Pipeline(steps=[(&#x27;ohe&#x27;,\n",
       "                                                                   OneHotEncoder(handle_unknown=&#x27;ignore&#x27;))]),\n",
       "                                                  [&#x27;rating&#x27;,\n",
       "                                                   &#x27;isFrequentReviewer&#x27;]),\n",
       "                                                 (&#x27;txt4a&#x27;,\n",
       "                                                  TfidfVectorizer(ngram_range=(1,\n",
       "                                                                               2)),\n",
       "                                                  &#x27;reviewText&#x27;)])),\n",
       "                (&#x27;model&#x27;, LogisticRegression(max_iter=100000))])</pre><b>In a Jupyter environment, please rerun this cell to show the HTML representation or trust the notebook. <br />On GitHub, the HTML representation is unable to render, please try loading this page with nbviewer.org.</b></div><div class=\"sk-container\" hidden><div class=\"sk-item sk-dashed-wrapped\"><div class=\"sk-label-container\"><div class=\"sk-label sk-toggleable\"><input class=\"sk-toggleable__control sk-hidden--visually\" id=\"sk-estimator-id-24\" type=\"checkbox\" ><label for=\"sk-estimator-id-24\" class=\"sk-toggleable__label sk-toggleable__label-arrow\">Pipeline</label><div class=\"sk-toggleable__content\"><pre>Pipeline(steps=[(&#x27;preprocessor&#x27;,\n",
       "                 ColumnTransformer(n_jobs=1,\n",
       "                                   transformers=[(&#x27;num&#x27;,\n",
       "                                                  Pipeline(steps=[(&#x27;imputer&#x27;,\n",
       "                                                                   SimpleImputer()),\n",
       "                                                                  (&#x27;scaler&#x27;,\n",
       "                                                                   MinMaxScaler())]),\n",
       "                                                  [&#x27;audienceScore&#x27;,\n",
       "                                                   &#x27;runtimeMinutes&#x27;]),\n",
       "                                                 (&#x27;txt1&#x27;,\n",
       "                                                  Pipeline(steps=[(&#x27;tvec&#x27;,\n",
       "                                                                   TfidfVectorizer())]),\n",
       "                                                  &#x27;originalLanguage&#x27;),\n",
       "                                                 (&#x27;txt2&#x27;,\n",
       "                                                  Pipeline(steps=[(&#x27;tvec&#x27;,\n",
       "                                                                   TfidfVectorizer())]),\n",
       "                                                  &#x27;genre&#x27;),\n",
       "                                                 (&#x27;txt3&#x27;,\n",
       "                                                  Pipeline(steps=[(&#x27;tvec&#x27;,\n",
       "                                                                   TfidfVectorizer())]),\n",
       "                                                  &#x27;director&#x27;),\n",
       "                                                 (&#x27;cat&#x27;,\n",
       "                                                  Pipeline(steps=[(&#x27;ohe&#x27;,\n",
       "                                                                   OneHotEncoder(handle_unknown=&#x27;ignore&#x27;))]),\n",
       "                                                  [&#x27;rating&#x27;,\n",
       "                                                   &#x27;isFrequentReviewer&#x27;]),\n",
       "                                                 (&#x27;txt4a&#x27;,\n",
       "                                                  TfidfVectorizer(ngram_range=(1,\n",
       "                                                                               2)),\n",
       "                                                  &#x27;reviewText&#x27;)])),\n",
       "                (&#x27;model&#x27;, LogisticRegression(max_iter=100000))])</pre></div></div></div><div class=\"sk-serial\"><div class=\"sk-item sk-dashed-wrapped\"><div class=\"sk-label-container\"><div class=\"sk-label sk-toggleable\"><input class=\"sk-toggleable__control sk-hidden--visually\" id=\"sk-estimator-id-25\" type=\"checkbox\" ><label for=\"sk-estimator-id-25\" class=\"sk-toggleable__label sk-toggleable__label-arrow\">preprocessor: ColumnTransformer</label><div class=\"sk-toggleable__content\"><pre>ColumnTransformer(n_jobs=1,\n",
       "                  transformers=[(&#x27;num&#x27;,\n",
       "                                 Pipeline(steps=[(&#x27;imputer&#x27;, SimpleImputer()),\n",
       "                                                 (&#x27;scaler&#x27;, MinMaxScaler())]),\n",
       "                                 [&#x27;audienceScore&#x27;, &#x27;runtimeMinutes&#x27;]),\n",
       "                                (&#x27;txt1&#x27;,\n",
       "                                 Pipeline(steps=[(&#x27;tvec&#x27;, TfidfVectorizer())]),\n",
       "                                 &#x27;originalLanguage&#x27;),\n",
       "                                (&#x27;txt2&#x27;,\n",
       "                                 Pipeline(steps=[(&#x27;tvec&#x27;, TfidfVectorizer())]),\n",
       "                                 &#x27;genre&#x27;),\n",
       "                                (&#x27;txt3&#x27;,\n",
       "                                 Pipeline(steps=[(&#x27;tvec&#x27;, TfidfVectorizer())]),\n",
       "                                 &#x27;director&#x27;),\n",
       "                                (&#x27;cat&#x27;,\n",
       "                                 Pipeline(steps=[(&#x27;ohe&#x27;,\n",
       "                                                  OneHotEncoder(handle_unknown=&#x27;ignore&#x27;))]),\n",
       "                                 [&#x27;rating&#x27;, &#x27;isFrequentReviewer&#x27;]),\n",
       "                                (&#x27;txt4a&#x27;, TfidfVectorizer(ngram_range=(1, 2)),\n",
       "                                 &#x27;reviewText&#x27;)])</pre></div></div></div><div class=\"sk-parallel\"><div class=\"sk-parallel-item\"><div class=\"sk-item\"><div class=\"sk-label-container\"><div class=\"sk-label sk-toggleable\"><input class=\"sk-toggleable__control sk-hidden--visually\" id=\"sk-estimator-id-26\" type=\"checkbox\" ><label for=\"sk-estimator-id-26\" class=\"sk-toggleable__label sk-toggleable__label-arrow\">num</label><div class=\"sk-toggleable__content\"><pre>[&#x27;audienceScore&#x27;, &#x27;runtimeMinutes&#x27;]</pre></div></div></div><div class=\"sk-serial\"><div class=\"sk-item\"><div class=\"sk-serial\"><div class=\"sk-item\"><div class=\"sk-estimator sk-toggleable\"><input class=\"sk-toggleable__control sk-hidden--visually\" id=\"sk-estimator-id-27\" type=\"checkbox\" ><label for=\"sk-estimator-id-27\" class=\"sk-toggleable__label sk-toggleable__label-arrow\">SimpleImputer</label><div class=\"sk-toggleable__content\"><pre>SimpleImputer()</pre></div></div></div><div class=\"sk-item\"><div class=\"sk-estimator sk-toggleable\"><input class=\"sk-toggleable__control sk-hidden--visually\" id=\"sk-estimator-id-28\" type=\"checkbox\" ><label for=\"sk-estimator-id-28\" class=\"sk-toggleable__label sk-toggleable__label-arrow\">MinMaxScaler</label><div class=\"sk-toggleable__content\"><pre>MinMaxScaler()</pre></div></div></div></div></div></div></div></div><div class=\"sk-parallel-item\"><div class=\"sk-item\"><div class=\"sk-label-container\"><div class=\"sk-label sk-toggleable\"><input class=\"sk-toggleable__control sk-hidden--visually\" id=\"sk-estimator-id-29\" type=\"checkbox\" ><label for=\"sk-estimator-id-29\" class=\"sk-toggleable__label sk-toggleable__label-arrow\">txt1</label><div class=\"sk-toggleable__content\"><pre>originalLanguage</pre></div></div></div><div class=\"sk-serial\"><div class=\"sk-item\"><div class=\"sk-serial\"><div class=\"sk-item\"><div class=\"sk-estimator sk-toggleable\"><input class=\"sk-toggleable__control sk-hidden--visually\" id=\"sk-estimator-id-30\" type=\"checkbox\" ><label for=\"sk-estimator-id-30\" class=\"sk-toggleable__label sk-toggleable__label-arrow\">TfidfVectorizer</label><div class=\"sk-toggleable__content\"><pre>TfidfVectorizer()</pre></div></div></div></div></div></div></div></div><div class=\"sk-parallel-item\"><div class=\"sk-item\"><div class=\"sk-label-container\"><div class=\"sk-label sk-toggleable\"><input class=\"sk-toggleable__control sk-hidden--visually\" id=\"sk-estimator-id-31\" type=\"checkbox\" ><label for=\"sk-estimator-id-31\" class=\"sk-toggleable__label sk-toggleable__label-arrow\">txt2</label><div class=\"sk-toggleable__content\"><pre>genre</pre></div></div></div><div class=\"sk-serial\"><div class=\"sk-item\"><div class=\"sk-serial\"><div class=\"sk-item\"><div class=\"sk-estimator sk-toggleable\"><input class=\"sk-toggleable__control sk-hidden--visually\" id=\"sk-estimator-id-32\" type=\"checkbox\" ><label for=\"sk-estimator-id-32\" class=\"sk-toggleable__label sk-toggleable__label-arrow\">TfidfVectorizer</label><div class=\"sk-toggleable__content\"><pre>TfidfVectorizer()</pre></div></div></div></div></div></div></div></div><div class=\"sk-parallel-item\"><div class=\"sk-item\"><div class=\"sk-label-container\"><div class=\"sk-label sk-toggleable\"><input class=\"sk-toggleable__control sk-hidden--visually\" id=\"sk-estimator-id-33\" type=\"checkbox\" ><label for=\"sk-estimator-id-33\" class=\"sk-toggleable__label sk-toggleable__label-arrow\">txt3</label><div class=\"sk-toggleable__content\"><pre>director</pre></div></div></div><div class=\"sk-serial\"><div class=\"sk-item\"><div class=\"sk-serial\"><div class=\"sk-item\"><div class=\"sk-estimator sk-toggleable\"><input class=\"sk-toggleable__control sk-hidden--visually\" id=\"sk-estimator-id-34\" type=\"checkbox\" ><label for=\"sk-estimator-id-34\" class=\"sk-toggleable__label sk-toggleable__label-arrow\">TfidfVectorizer</label><div class=\"sk-toggleable__content\"><pre>TfidfVectorizer()</pre></div></div></div></div></div></div></div></div><div class=\"sk-parallel-item\"><div class=\"sk-item\"><div class=\"sk-label-container\"><div class=\"sk-label sk-toggleable\"><input class=\"sk-toggleable__control sk-hidden--visually\" id=\"sk-estimator-id-35\" type=\"checkbox\" ><label for=\"sk-estimator-id-35\" class=\"sk-toggleable__label sk-toggleable__label-arrow\">cat</label><div class=\"sk-toggleable__content\"><pre>[&#x27;rating&#x27;, &#x27;isFrequentReviewer&#x27;]</pre></div></div></div><div class=\"sk-serial\"><div class=\"sk-item\"><div class=\"sk-serial\"><div class=\"sk-item\"><div class=\"sk-estimator sk-toggleable\"><input class=\"sk-toggleable__control sk-hidden--visually\" id=\"sk-estimator-id-36\" type=\"checkbox\" ><label for=\"sk-estimator-id-36\" class=\"sk-toggleable__label sk-toggleable__label-arrow\">OneHotEncoder</label><div class=\"sk-toggleable__content\"><pre>OneHotEncoder(handle_unknown=&#x27;ignore&#x27;)</pre></div></div></div></div></div></div></div></div><div class=\"sk-parallel-item\"><div class=\"sk-item\"><div class=\"sk-label-container\"><div class=\"sk-label sk-toggleable\"><input class=\"sk-toggleable__control sk-hidden--visually\" id=\"sk-estimator-id-37\" type=\"checkbox\" ><label for=\"sk-estimator-id-37\" class=\"sk-toggleable__label sk-toggleable__label-arrow\">txt4a</label><div class=\"sk-toggleable__content\"><pre>reviewText</pre></div></div></div><div class=\"sk-serial\"><div class=\"sk-item\"><div class=\"sk-estimator sk-toggleable\"><input class=\"sk-toggleable__control sk-hidden--visually\" id=\"sk-estimator-id-38\" type=\"checkbox\" ><label for=\"sk-estimator-id-38\" class=\"sk-toggleable__label sk-toggleable__label-arrow\">TfidfVectorizer</label><div class=\"sk-toggleable__content\"><pre>TfidfVectorizer(ngram_range=(1, 2))</pre></div></div></div></div></div></div></div></div><div class=\"sk-item\"><div class=\"sk-estimator sk-toggleable\"><input class=\"sk-toggleable__control sk-hidden--visually\" id=\"sk-estimator-id-39\" type=\"checkbox\" ><label for=\"sk-estimator-id-39\" class=\"sk-toggleable__label sk-toggleable__label-arrow\">LogisticRegression</label><div class=\"sk-toggleable__content\"><pre>LogisticRegression(max_iter=100000)</pre></div></div></div></div></div></div></div>"
      ],
      "text/plain": [
       "Pipeline(steps=[('preprocessor',\n",
       "                 ColumnTransformer(n_jobs=1,\n",
       "                                   transformers=[('num',\n",
       "                                                  Pipeline(steps=[('imputer',\n",
       "                                                                   SimpleImputer()),\n",
       "                                                                  ('scaler',\n",
       "                                                                   MinMaxScaler())]),\n",
       "                                                  ['audienceScore',\n",
       "                                                   'runtimeMinutes']),\n",
       "                                                 ('txt1',\n",
       "                                                  Pipeline(steps=[('tvec',\n",
       "                                                                   TfidfVectorizer())]),\n",
       "                                                  'originalLanguage'),\n",
       "                                                 ('txt2',\n",
       "                                                  Pipeline(steps=[('tvec',\n",
       "                                                                   TfidfVectorizer())]),\n",
       "                                                  'genre'),\n",
       "                                                 ('txt3',\n",
       "                                                  Pipeline(steps=[('tvec',\n",
       "                                                                   TfidfVectorizer())]),\n",
       "                                                  'director'),\n",
       "                                                 ('cat',\n",
       "                                                  Pipeline(steps=[('ohe',\n",
       "                                                                   OneHotEncoder(handle_unknown='ignore'))]),\n",
       "                                                  ['rating',\n",
       "                                                   'isFrequentReviewer']),\n",
       "                                                 ('txt4a',\n",
       "                                                  TfidfVectorizer(ngram_range=(1,\n",
       "                                                                               2)),\n",
       "                                                  'reviewText')])),\n",
       "                ('model', LogisticRegression(max_iter=100000))])"
      ]
     },
     "execution_count": 105,
     "metadata": {},
     "output_type": "execute_result"
    }
   ],
   "source": [
    "pipe_final = Pipeline(steps=[\n",
    "                        (\"preprocessor\", ct_final),\n",
    "                        (\"model\", LogisticRegression(max_iter=100000))\n",
    "                    ])\n",
    "pipe_final"
   ]
  },
  {
   "cell_type": "code",
   "execution_count": 106,
   "id": "20e37691",
   "metadata": {
    "execution": {
     "iopub.execute_input": "2023-08-09T07:04:54.389615Z",
     "iopub.status.busy": "2023-08-09T07:04:54.388921Z",
     "iopub.status.idle": "2023-08-09T07:04:54.395925Z",
     "shell.execute_reply": "2023-08-09T07:04:54.394901Z"
    },
    "papermill": {
     "duration": 0.105478,
     "end_time": "2023-08-09T07:04:54.397992",
     "exception": false,
     "start_time": "2023-08-09T07:04:54.292514",
     "status": "completed"
    },
    "tags": []
   },
   "outputs": [
    {
     "data": {
      "text/plain": [
       "(9,\n",
       " ['audienceScore',\n",
       "  'runtimeMinutes',\n",
       "  'originalLanguage',\n",
       "  'genre',\n",
       "  'director',\n",
       "  'reviewerName',\n",
       "  'reviewText',\n",
       "  'rating',\n",
       "  'isFrequentReviewer'])"
      ]
     },
     "execution_count": 106,
     "metadata": {},
     "output_type": "execute_result"
    }
   ],
   "source": [
    "final_vars = num_vars + txt_vars + cat_vars\n",
    "len(final_vars), final_vars"
   ]
  },
  {
   "cell_type": "code",
   "execution_count": 107,
   "id": "6c17c264",
   "metadata": {
    "execution": {
     "iopub.execute_input": "2023-08-09T07:04:54.586827Z",
     "iopub.status.busy": "2023-08-09T07:04:54.586189Z",
     "iopub.status.idle": "2023-08-09T07:04:54.590704Z",
     "shell.execute_reply": "2023-08-09T07:04:54.589863Z"
    },
    "papermill": {
     "duration": 0.101143,
     "end_time": "2023-08-09T07:04:54.592897",
     "exception": false,
     "start_time": "2023-08-09T07:04:54.491754",
     "status": "completed"
    },
    "tags": []
   },
   "outputs": [],
   "source": [
    "# split_train_predict(merged_train_features, merged_train_labels, pipe_final, test_size=0.25, random_state=42)"
   ]
  },
  {
   "cell_type": "markdown",
   "id": "d357440b",
   "metadata": {
    "papermill": {
     "duration": 0.09329,
     "end_time": "2023-08-09T07:04:54.780382",
     "exception": false,
     "start_time": "2023-08-09T07:04:54.687092",
     "status": "completed"
    },
    "tags": []
   },
   "source": [
    "### Merge and preprocess \"test.csv\" and \"movies.csv\" files  "
   ]
  },
  {
   "cell_type": "code",
   "execution_count": 108,
   "id": "31c1cb74",
   "metadata": {
    "execution": {
     "iopub.execute_input": "2023-08-09T07:04:54.971474Z",
     "iopub.status.busy": "2023-08-09T07:04:54.970308Z",
     "iopub.status.idle": "2023-08-09T07:05:01.455156Z",
     "shell.execute_reply": "2023-08-09T07:05:01.453886Z"
    },
    "papermill": {
     "duration": 6.584926,
     "end_time": "2023-08-09T07:05:01.459266",
     "exception": false,
     "start_time": "2023-08-09T07:04:54.874340",
     "status": "completed"
    },
    "tags": []
   },
   "outputs": [
    {
     "name": "stdout",
     "output_type": "stream",
     "text": [
      "Shape of the dataframe: (55315, 29)\n",
      "\n",
      "Columns in the dataframe:\n",
      "Index(['movieid', 'reviewerName', 'isFrequentReviewer', 'reviewText', 'title',\n",
      "       'audienceScore', 'rating', 'ratingContents', 'releaseDateTheaters',\n",
      "       'releaseDateStreaming', 'runtimeMinutes', 'genre', 'originalLanguage',\n",
      "       'director', 'boxOffice', 'distributor', 'soundType', 'reviewYN',\n",
      "       'reviewWC', 'genreSorted', 'rcSorted', 'releaseDate', 'releaseYear',\n",
      "       'releaseMonth', 'releaseDiff', 'audScoreBins', 'runtimeBins',\n",
      "       'boxOfficeBins', 'releaseDiffBins'],\n",
      "      dtype='object')\n",
      "\n",
      "<class 'pandas.core.frame.DataFrame'>\n",
      "Int64Index: 55315 entries, 0 to 55314\n",
      "Data columns (total 29 columns):\n",
      " #   Column                Non-Null Count  Dtype         \n",
      "---  ------                --------------  -----         \n",
      " 0   movieid               55315 non-null  object        \n",
      " 1   reviewerName          55315 non-null  object        \n",
      " 2   isFrequentReviewer    55315 non-null  bool          \n",
      " 3   reviewText            55315 non-null  object        \n",
      " 4   title                 55315 non-null  object        \n",
      " 5   audienceScore         55315 non-null  float64       \n",
      " 6   rating                55315 non-null  object        \n",
      " 7   ratingContents        55315 non-null  object        \n",
      " 8   releaseDateTheaters   47844 non-null  datetime64[ns]\n",
      " 9   releaseDateStreaming  52929 non-null  datetime64[ns]\n",
      " 10  runtimeMinutes        55315 non-null  float64       \n",
      " 11  genre                 55315 non-null  object        \n",
      " 12  originalLanguage      55315 non-null  object        \n",
      " 13  director              55315 non-null  object        \n",
      " 14  boxOffice             55315 non-null  float64       \n",
      " 15  distributor           55315 non-null  object        \n",
      " 16  soundType             29845 non-null  object        \n",
      " 17  reviewYN              55315 non-null  int64         \n",
      " 18  reviewWC              55315 non-null  int64         \n",
      " 19  genreSorted           55315 non-null  object        \n",
      " 20  rcSorted              55315 non-null  object        \n",
      " 21  releaseDate           55315 non-null  datetime64[ns]\n",
      " 22  releaseYear           55315 non-null  int64         \n",
      " 23  releaseMonth          55315 non-null  int64         \n",
      " 24  releaseDiff           55315 non-null  float64       \n",
      " 25  audScoreBins          55315 non-null  int64         \n",
      " 26  runtimeBins           55315 non-null  category      \n",
      " 27  boxOfficeBins         55315 non-null  int64         \n",
      " 28  releaseDiffBins       55315 non-null  category      \n",
      "dtypes: bool(1), category(2), datetime64[ns](3), float64(4), int64(6), object(13)\n",
      "memory usage: 11.6+ MB\n",
      "None\n",
      "\n",
      "Missing values:\n",
      "movieid                     0\n",
      "reviewerName                0\n",
      "isFrequentReviewer          0\n",
      "reviewText                  0\n",
      "title                       0\n",
      "audienceScore               0\n",
      "rating                      0\n",
      "ratingContents              0\n",
      "releaseDateTheaters      7471\n",
      "releaseDateStreaming     2386\n",
      "runtimeMinutes              0\n",
      "genre                       0\n",
      "originalLanguage            0\n",
      "director                    0\n",
      "boxOffice                   0\n",
      "distributor                 0\n",
      "soundType               25470\n",
      "reviewYN                    0\n",
      "reviewWC                    0\n",
      "genreSorted                 0\n",
      "rcSorted                    0\n",
      "releaseDate                 0\n",
      "releaseYear                 0\n",
      "releaseMonth                0\n",
      "releaseDiff                 0\n",
      "audScoreBins                0\n",
      "runtimeBins                 0\n",
      "boxOfficeBins               0\n",
      "releaseDiffBins             0\n",
      "dtype: int64\n"
     ]
    }
   ],
   "source": [
    "merged_test = select_features(load_csv(\"test\"), load_csv(\"movies\"))\n",
    "inspect(merged_test)"
   ]
  },
  {
   "cell_type": "code",
   "execution_count": 109,
   "id": "108256f4",
   "metadata": {
    "execution": {
     "iopub.execute_input": "2023-08-09T07:05:01.671718Z",
     "iopub.status.busy": "2023-08-09T07:05:01.671298Z",
     "iopub.status.idle": "2023-08-09T07:05:01.678834Z",
     "shell.execute_reply": "2023-08-09T07:05:01.677578Z"
    },
    "papermill": {
     "duration": 0.114073,
     "end_time": "2023-08-09T07:05:01.681073",
     "exception": false,
     "start_time": "2023-08-09T07:05:01.567000",
     "status": "completed"
    },
    "tags": []
   },
   "outputs": [
    {
     "name": "stdout",
     "output_type": "stream",
     "text": [
      "2510\n",
      "4.537648015908886\n"
     ]
    }
   ],
   "source": [
    "print(merged_test[\"reviewYN\"].sum())\n",
    "print(merged_test[\"reviewYN\"].sum() * 100 / merged_test.shape[0])"
   ]
  },
  {
   "cell_type": "code",
   "execution_count": 110,
   "id": "1ff4cf90",
   "metadata": {
    "execution": {
     "iopub.execute_input": "2023-08-09T07:05:01.888252Z",
     "iopub.status.busy": "2023-08-09T07:05:01.887438Z",
     "iopub.status.idle": "2023-08-09T07:05:01.903900Z",
     "shell.execute_reply": "2023-08-09T07:05:01.902704Z"
    },
    "papermill": {
     "duration": 0.115597,
     "end_time": "2023-08-09T07:05:01.906155",
     "exception": false,
     "start_time": "2023-08-09T07:05:01.790558",
     "status": "completed"
    },
    "tags": []
   },
   "outputs": [
    {
     "data": {
      "text/plain": [
       "R          18934\n",
       "unknown    18386\n",
       "PG-13      13220\n",
       "PG          4200\n",
       "TV14         333\n",
       "TVPG         109\n",
       "NC-17        108\n",
       "TVMA          25\n",
       "Name: rating, dtype: int64"
      ]
     },
     "execution_count": 110,
     "metadata": {},
     "output_type": "execute_result"
    }
   ],
   "source": [
    "merged_test['rating'].value_counts()"
   ]
  },
  {
   "cell_type": "code",
   "execution_count": 111,
   "id": "80869f48",
   "metadata": {
    "execution": {
     "iopub.execute_input": "2023-08-09T07:05:02.099470Z",
     "iopub.status.busy": "2023-08-09T07:05:02.098589Z",
     "iopub.status.idle": "2023-08-09T07:05:02.108068Z",
     "shell.execute_reply": "2023-08-09T07:05:02.107122Z"
    },
    "papermill": {
     "duration": 0.109059,
     "end_time": "2023-08-09T07:05:02.110250",
     "exception": false,
     "start_time": "2023-08-09T07:05:02.001191",
     "status": "completed"
    },
    "tags": []
   },
   "outputs": [
    {
     "data": {
      "text/plain": [
       "False    38428\n",
       "True     16887\n",
       "Name: isFrequentReviewer, dtype: int64"
      ]
     },
     "execution_count": 111,
     "metadata": {},
     "output_type": "execute_result"
    }
   ],
   "source": [
    "merged_test['isFrequentReviewer'].value_counts()"
   ]
  },
  {
   "cell_type": "code",
   "execution_count": 112,
   "id": "3ad400c5",
   "metadata": {
    "execution": {
     "iopub.execute_input": "2023-08-09T07:05:02.309419Z",
     "iopub.status.busy": "2023-08-09T07:05:02.308696Z",
     "iopub.status.idle": "2023-08-09T07:05:02.320348Z",
     "shell.execute_reply": "2023-08-09T07:05:02.319077Z"
    },
    "papermill": {
     "duration": 0.115837,
     "end_time": "2023-08-09T07:05:02.322670",
     "exception": false,
     "start_time": "2023-08-09T07:05:02.206833",
     "status": "completed"
    },
    "tags": []
   },
   "outputs": [
    {
     "data": {
      "text/plain": [
       "12200000.0    13596\n",
       "1100000.0       311\n",
       "1000000.0       272\n",
       "1300000.0       263\n",
       "2000000.0       256\n",
       "              ...  \n",
       "200400.0          1\n",
       "23800000.0        1\n",
       "111200.0          1\n",
       "277800.0          1\n",
       "100600.0          1\n",
       "Name: boxOffice, Length: 3816, dtype: int64"
      ]
     },
     "execution_count": 112,
     "metadata": {},
     "output_type": "execute_result"
    }
   ],
   "source": [
    "merged_test['boxOffice'].value_counts()"
   ]
  },
  {
   "cell_type": "markdown",
   "id": "964f5910",
   "metadata": {
    "papermill": {
     "duration": 0.094665,
     "end_time": "2023-08-09T07:05:02.514091",
     "exception": false,
     "start_time": "2023-08-09T07:05:02.419426",
     "status": "completed"
    },
    "tags": []
   },
   "source": [
    "## Try the best four features obtained on local machine  "
   ]
  },
  {
   "cell_type": "code",
   "execution_count": 113,
   "id": "1a7feb22",
   "metadata": {
    "execution": {
     "iopub.execute_input": "2023-08-09T07:05:02.705826Z",
     "iopub.status.busy": "2023-08-09T07:05:02.705153Z",
     "iopub.status.idle": "2023-08-09T07:05:02.713146Z",
     "shell.execute_reply": "2023-08-09T07:05:02.712053Z"
    },
    "papermill": {
     "duration": 0.106164,
     "end_time": "2023-08-09T07:05:02.715261",
     "exception": false,
     "start_time": "2023-08-09T07:05:02.609097",
     "status": "completed"
    },
    "tags": []
   },
   "outputs": [
    {
     "data": {
      "text/html": [
       "<style>#sk-container-id-8 {color: black;background-color: white;}#sk-container-id-8 pre{padding: 0;}#sk-container-id-8 div.sk-toggleable {background-color: white;}#sk-container-id-8 label.sk-toggleable__label {cursor: pointer;display: block;width: 100%;margin-bottom: 0;padding: 0.3em;box-sizing: border-box;text-align: center;}#sk-container-id-8 label.sk-toggleable__label-arrow:before {content: \"▸\";float: left;margin-right: 0.25em;color: #696969;}#sk-container-id-8 label.sk-toggleable__label-arrow:hover:before {color: black;}#sk-container-id-8 div.sk-estimator:hover label.sk-toggleable__label-arrow:before {color: black;}#sk-container-id-8 div.sk-toggleable__content {max-height: 0;max-width: 0;overflow: hidden;text-align: left;background-color: #f0f8ff;}#sk-container-id-8 div.sk-toggleable__content pre {margin: 0.2em;color: black;border-radius: 0.25em;background-color: #f0f8ff;}#sk-container-id-8 input.sk-toggleable__control:checked~div.sk-toggleable__content {max-height: 200px;max-width: 100%;overflow: auto;}#sk-container-id-8 input.sk-toggleable__control:checked~label.sk-toggleable__label-arrow:before {content: \"▾\";}#sk-container-id-8 div.sk-estimator input.sk-toggleable__control:checked~label.sk-toggleable__label {background-color: #d4ebff;}#sk-container-id-8 div.sk-label input.sk-toggleable__control:checked~label.sk-toggleable__label {background-color: #d4ebff;}#sk-container-id-8 input.sk-hidden--visually {border: 0;clip: rect(1px 1px 1px 1px);clip: rect(1px, 1px, 1px, 1px);height: 1px;margin: -1px;overflow: hidden;padding: 0;position: absolute;width: 1px;}#sk-container-id-8 div.sk-estimator {font-family: monospace;background-color: #f0f8ff;border: 1px dotted black;border-radius: 0.25em;box-sizing: border-box;margin-bottom: 0.5em;}#sk-container-id-8 div.sk-estimator:hover {background-color: #d4ebff;}#sk-container-id-8 div.sk-parallel-item::after {content: \"\";width: 100%;border-bottom: 1px solid gray;flex-grow: 1;}#sk-container-id-8 div.sk-label:hover label.sk-toggleable__label {background-color: #d4ebff;}#sk-container-id-8 div.sk-serial::before {content: \"\";position: absolute;border-left: 1px solid gray;box-sizing: border-box;top: 0;bottom: 0;left: 50%;z-index: 0;}#sk-container-id-8 div.sk-serial {display: flex;flex-direction: column;align-items: center;background-color: white;padding-right: 0.2em;padding-left: 0.2em;position: relative;}#sk-container-id-8 div.sk-item {position: relative;z-index: 1;}#sk-container-id-8 div.sk-parallel {display: flex;align-items: stretch;justify-content: center;background-color: white;position: relative;}#sk-container-id-8 div.sk-item::before, #sk-container-id-8 div.sk-parallel-item::before {content: \"\";position: absolute;border-left: 1px solid gray;box-sizing: border-box;top: 0;bottom: 0;left: 50%;z-index: -1;}#sk-container-id-8 div.sk-parallel-item {display: flex;flex-direction: column;z-index: 1;position: relative;background-color: white;}#sk-container-id-8 div.sk-parallel-item:first-child::after {align-self: flex-end;width: 50%;}#sk-container-id-8 div.sk-parallel-item:last-child::after {align-self: flex-start;width: 50%;}#sk-container-id-8 div.sk-parallel-item:only-child::after {width: 0;}#sk-container-id-8 div.sk-dashed-wrapped {border: 1px dashed gray;margin: 0 0.4em 0.5em 0.4em;box-sizing: border-box;padding-bottom: 0.4em;background-color: white;}#sk-container-id-8 div.sk-label label {font-family: monospace;font-weight: bold;display: inline-block;line-height: 1.2em;}#sk-container-id-8 div.sk-label-container {text-align: center;}#sk-container-id-8 div.sk-container {/* jupyter's `normalize.less` sets `[hidden] { display: none; }` but bootstrap.min.css set `[hidden] { display: none !important; }` so we also need the `!important` here to be able to override the default hidden behavior on the sphinx rendered scikit-learn.org. See: https://github.com/scikit-learn/scikit-learn/issues/21755 */display: inline-block !important;position: relative;}#sk-container-id-8 div.sk-text-repr-fallback {display: none;}</style><div id=\"sk-container-id-8\" class=\"sk-top-container\"><div class=\"sk-text-repr-fallback\"><pre>TfidfVectorizer(ngram_range=(1, 2))</pre><b>In a Jupyter environment, please rerun this cell to show the HTML representation or trust the notebook. <br />On GitHub, the HTML representation is unable to render, please try loading this page with nbviewer.org.</b></div><div class=\"sk-container\" hidden><div class=\"sk-item\"><div class=\"sk-estimator sk-toggleable\"><input class=\"sk-toggleable__control sk-hidden--visually\" id=\"sk-estimator-id-40\" type=\"checkbox\" checked><label for=\"sk-estimator-id-40\" class=\"sk-toggleable__label sk-toggleable__label-arrow\">TfidfVectorizer</label><div class=\"sk-toggleable__content\"><pre>TfidfVectorizer(ngram_range=(1, 2))</pre></div></div></div></div></div>"
      ],
      "text/plain": [
       "TfidfVectorizer(ngram_range=(1, 2))"
      ]
     },
     "execution_count": 113,
     "metadata": {},
     "output_type": "execute_result"
    }
   ],
   "source": [
    "tfidf_vec_2 = TfidfVectorizer(ngram_range=(1,2))\n",
    "tfidf_vec_2"
   ]
  },
  {
   "cell_type": "code",
   "execution_count": 114,
   "id": "da98473a",
   "metadata": {
    "execution": {
     "iopub.execute_input": "2023-08-09T07:05:02.909683Z",
     "iopub.status.busy": "2023-08-09T07:05:02.908628Z",
     "iopub.status.idle": "2023-08-09T07:05:02.999467Z",
     "shell.execute_reply": "2023-08-09T07:05:02.998112Z"
    },
    "papermill": {
     "duration": 0.192015,
     "end_time": "2023-08-09T07:05:03.002514",
     "exception": false,
     "start_time": "2023-08-09T07:05:02.810499",
     "status": "completed"
    },
    "tags": []
   },
   "outputs": [
    {
     "data": {
      "text/html": [
       "<style>#sk-container-id-9 {color: black;background-color: white;}#sk-container-id-9 pre{padding: 0;}#sk-container-id-9 div.sk-toggleable {background-color: white;}#sk-container-id-9 label.sk-toggleable__label {cursor: pointer;display: block;width: 100%;margin-bottom: 0;padding: 0.3em;box-sizing: border-box;text-align: center;}#sk-container-id-9 label.sk-toggleable__label-arrow:before {content: \"▸\";float: left;margin-right: 0.25em;color: #696969;}#sk-container-id-9 label.sk-toggleable__label-arrow:hover:before {color: black;}#sk-container-id-9 div.sk-estimator:hover label.sk-toggleable__label-arrow:before {color: black;}#sk-container-id-9 div.sk-toggleable__content {max-height: 0;max-width: 0;overflow: hidden;text-align: left;background-color: #f0f8ff;}#sk-container-id-9 div.sk-toggleable__content pre {margin: 0.2em;color: black;border-radius: 0.25em;background-color: #f0f8ff;}#sk-container-id-9 input.sk-toggleable__control:checked~div.sk-toggleable__content {max-height: 200px;max-width: 100%;overflow: auto;}#sk-container-id-9 input.sk-toggleable__control:checked~label.sk-toggleable__label-arrow:before {content: \"▾\";}#sk-container-id-9 div.sk-estimator input.sk-toggleable__control:checked~label.sk-toggleable__label {background-color: #d4ebff;}#sk-container-id-9 div.sk-label input.sk-toggleable__control:checked~label.sk-toggleable__label {background-color: #d4ebff;}#sk-container-id-9 input.sk-hidden--visually {border: 0;clip: rect(1px 1px 1px 1px);clip: rect(1px, 1px, 1px, 1px);height: 1px;margin: -1px;overflow: hidden;padding: 0;position: absolute;width: 1px;}#sk-container-id-9 div.sk-estimator {font-family: monospace;background-color: #f0f8ff;border: 1px dotted black;border-radius: 0.25em;box-sizing: border-box;margin-bottom: 0.5em;}#sk-container-id-9 div.sk-estimator:hover {background-color: #d4ebff;}#sk-container-id-9 div.sk-parallel-item::after {content: \"\";width: 100%;border-bottom: 1px solid gray;flex-grow: 1;}#sk-container-id-9 div.sk-label:hover label.sk-toggleable__label {background-color: #d4ebff;}#sk-container-id-9 div.sk-serial::before {content: \"\";position: absolute;border-left: 1px solid gray;box-sizing: border-box;top: 0;bottom: 0;left: 50%;z-index: 0;}#sk-container-id-9 div.sk-serial {display: flex;flex-direction: column;align-items: center;background-color: white;padding-right: 0.2em;padding-left: 0.2em;position: relative;}#sk-container-id-9 div.sk-item {position: relative;z-index: 1;}#sk-container-id-9 div.sk-parallel {display: flex;align-items: stretch;justify-content: center;background-color: white;position: relative;}#sk-container-id-9 div.sk-item::before, #sk-container-id-9 div.sk-parallel-item::before {content: \"\";position: absolute;border-left: 1px solid gray;box-sizing: border-box;top: 0;bottom: 0;left: 50%;z-index: -1;}#sk-container-id-9 div.sk-parallel-item {display: flex;flex-direction: column;z-index: 1;position: relative;background-color: white;}#sk-container-id-9 div.sk-parallel-item:first-child::after {align-self: flex-end;width: 50%;}#sk-container-id-9 div.sk-parallel-item:last-child::after {align-self: flex-start;width: 50%;}#sk-container-id-9 div.sk-parallel-item:only-child::after {width: 0;}#sk-container-id-9 div.sk-dashed-wrapped {border: 1px dashed gray;margin: 0 0.4em 0.5em 0.4em;box-sizing: border-box;padding-bottom: 0.4em;background-color: white;}#sk-container-id-9 div.sk-label label {font-family: monospace;font-weight: bold;display: inline-block;line-height: 1.2em;}#sk-container-id-9 div.sk-label-container {text-align: center;}#sk-container-id-9 div.sk-container {/* jupyter's `normalize.less` sets `[hidden] { display: none; }` but bootstrap.min.css set `[hidden] { display: none !important; }` so we also need the `!important` here to be able to override the default hidden behavior on the sphinx rendered scikit-learn.org. See: https://github.com/scikit-learn/scikit-learn/issues/21755 */display: inline-block !important;position: relative;}#sk-container-id-9 div.sk-text-repr-fallback {display: none;}</style><div id=\"sk-container-id-9\" class=\"sk-top-container\"><div class=\"sk-text-repr-fallback\"><pre>Pipeline(steps=[(&#x27;preprocessor&#x27;,\n",
       "                 ColumnTransformer(transformers=[(&#x27;num&#x27;,\n",
       "                                                  Pipeline(steps=[(&#x27;imputer&#x27;,\n",
       "                                                                   SimpleImputer()),\n",
       "                                                                  (&#x27;scaler&#x27;,\n",
       "                                                                   MinMaxScaler())]),\n",
       "                                                  [&#x27;audienceScore&#x27;]),\n",
       "                                                 (&#x27;cat&#x27;,\n",
       "                                                  Pipeline(steps=[(&#x27;ohe&#x27;,\n",
       "                                                                   OneHotEncoder(handle_unknown=&#x27;ignore&#x27;))]),\n",
       "                                                  [&#x27;rating&#x27;,\n",
       "                                                   &#x27;isFrequentReviewer&#x27;]),\n",
       "                                                 (&#x27;tvec&#x27;,\n",
       "                                                  TfidfVectorizer(ngram_range=(1,\n",
       "                                                                               2)),\n",
       "                                                  &#x27;reviewText&#x27;)])),\n",
       "                (&#x27;model&#x27;, LogisticRegression(C=10, max_iter=100000))])</pre><b>In a Jupyter environment, please rerun this cell to show the HTML representation or trust the notebook. <br />On GitHub, the HTML representation is unable to render, please try loading this page with nbviewer.org.</b></div><div class=\"sk-container\" hidden><div class=\"sk-item sk-dashed-wrapped\"><div class=\"sk-label-container\"><div class=\"sk-label sk-toggleable\"><input class=\"sk-toggleable__control sk-hidden--visually\" id=\"sk-estimator-id-41\" type=\"checkbox\" ><label for=\"sk-estimator-id-41\" class=\"sk-toggleable__label sk-toggleable__label-arrow\">Pipeline</label><div class=\"sk-toggleable__content\"><pre>Pipeline(steps=[(&#x27;preprocessor&#x27;,\n",
       "                 ColumnTransformer(transformers=[(&#x27;num&#x27;,\n",
       "                                                  Pipeline(steps=[(&#x27;imputer&#x27;,\n",
       "                                                                   SimpleImputer()),\n",
       "                                                                  (&#x27;scaler&#x27;,\n",
       "                                                                   MinMaxScaler())]),\n",
       "                                                  [&#x27;audienceScore&#x27;]),\n",
       "                                                 (&#x27;cat&#x27;,\n",
       "                                                  Pipeline(steps=[(&#x27;ohe&#x27;,\n",
       "                                                                   OneHotEncoder(handle_unknown=&#x27;ignore&#x27;))]),\n",
       "                                                  [&#x27;rating&#x27;,\n",
       "                                                   &#x27;isFrequentReviewer&#x27;]),\n",
       "                                                 (&#x27;tvec&#x27;,\n",
       "                                                  TfidfVectorizer(ngram_range=(1,\n",
       "                                                                               2)),\n",
       "                                                  &#x27;reviewText&#x27;)])),\n",
       "                (&#x27;model&#x27;, LogisticRegression(C=10, max_iter=100000))])</pre></div></div></div><div class=\"sk-serial\"><div class=\"sk-item sk-dashed-wrapped\"><div class=\"sk-label-container\"><div class=\"sk-label sk-toggleable\"><input class=\"sk-toggleable__control sk-hidden--visually\" id=\"sk-estimator-id-42\" type=\"checkbox\" ><label for=\"sk-estimator-id-42\" class=\"sk-toggleable__label sk-toggleable__label-arrow\">preprocessor: ColumnTransformer</label><div class=\"sk-toggleable__content\"><pre>ColumnTransformer(transformers=[(&#x27;num&#x27;,\n",
       "                                 Pipeline(steps=[(&#x27;imputer&#x27;, SimpleImputer()),\n",
       "                                                 (&#x27;scaler&#x27;, MinMaxScaler())]),\n",
       "                                 [&#x27;audienceScore&#x27;]),\n",
       "                                (&#x27;cat&#x27;,\n",
       "                                 Pipeline(steps=[(&#x27;ohe&#x27;,\n",
       "                                                  OneHotEncoder(handle_unknown=&#x27;ignore&#x27;))]),\n",
       "                                 [&#x27;rating&#x27;, &#x27;isFrequentReviewer&#x27;]),\n",
       "                                (&#x27;tvec&#x27;, TfidfVectorizer(ngram_range=(1, 2)),\n",
       "                                 &#x27;reviewText&#x27;)])</pre></div></div></div><div class=\"sk-parallel\"><div class=\"sk-parallel-item\"><div class=\"sk-item\"><div class=\"sk-label-container\"><div class=\"sk-label sk-toggleable\"><input class=\"sk-toggleable__control sk-hidden--visually\" id=\"sk-estimator-id-43\" type=\"checkbox\" ><label for=\"sk-estimator-id-43\" class=\"sk-toggleable__label sk-toggleable__label-arrow\">num</label><div class=\"sk-toggleable__content\"><pre>[&#x27;audienceScore&#x27;]</pre></div></div></div><div class=\"sk-serial\"><div class=\"sk-item\"><div class=\"sk-serial\"><div class=\"sk-item\"><div class=\"sk-estimator sk-toggleable\"><input class=\"sk-toggleable__control sk-hidden--visually\" id=\"sk-estimator-id-44\" type=\"checkbox\" ><label for=\"sk-estimator-id-44\" class=\"sk-toggleable__label sk-toggleable__label-arrow\">SimpleImputer</label><div class=\"sk-toggleable__content\"><pre>SimpleImputer()</pre></div></div></div><div class=\"sk-item\"><div class=\"sk-estimator sk-toggleable\"><input class=\"sk-toggleable__control sk-hidden--visually\" id=\"sk-estimator-id-45\" type=\"checkbox\" ><label for=\"sk-estimator-id-45\" class=\"sk-toggleable__label sk-toggleable__label-arrow\">MinMaxScaler</label><div class=\"sk-toggleable__content\"><pre>MinMaxScaler()</pre></div></div></div></div></div></div></div></div><div class=\"sk-parallel-item\"><div class=\"sk-item\"><div class=\"sk-label-container\"><div class=\"sk-label sk-toggleable\"><input class=\"sk-toggleable__control sk-hidden--visually\" id=\"sk-estimator-id-46\" type=\"checkbox\" ><label for=\"sk-estimator-id-46\" class=\"sk-toggleable__label sk-toggleable__label-arrow\">cat</label><div class=\"sk-toggleable__content\"><pre>[&#x27;rating&#x27;, &#x27;isFrequentReviewer&#x27;]</pre></div></div></div><div class=\"sk-serial\"><div class=\"sk-item\"><div class=\"sk-serial\"><div class=\"sk-item\"><div class=\"sk-estimator sk-toggleable\"><input class=\"sk-toggleable__control sk-hidden--visually\" id=\"sk-estimator-id-47\" type=\"checkbox\" ><label for=\"sk-estimator-id-47\" class=\"sk-toggleable__label sk-toggleable__label-arrow\">OneHotEncoder</label><div class=\"sk-toggleable__content\"><pre>OneHotEncoder(handle_unknown=&#x27;ignore&#x27;)</pre></div></div></div></div></div></div></div></div><div class=\"sk-parallel-item\"><div class=\"sk-item\"><div class=\"sk-label-container\"><div class=\"sk-label sk-toggleable\"><input class=\"sk-toggleable__control sk-hidden--visually\" id=\"sk-estimator-id-48\" type=\"checkbox\" ><label for=\"sk-estimator-id-48\" class=\"sk-toggleable__label sk-toggleable__label-arrow\">tvec</label><div class=\"sk-toggleable__content\"><pre>reviewText</pre></div></div></div><div class=\"sk-serial\"><div class=\"sk-item\"><div class=\"sk-estimator sk-toggleable\"><input class=\"sk-toggleable__control sk-hidden--visually\" id=\"sk-estimator-id-49\" type=\"checkbox\" ><label for=\"sk-estimator-id-49\" class=\"sk-toggleable__label sk-toggleable__label-arrow\">TfidfVectorizer</label><div class=\"sk-toggleable__content\"><pre>TfidfVectorizer(ngram_range=(1, 2))</pre></div></div></div></div></div></div></div></div><div class=\"sk-item\"><div class=\"sk-estimator sk-toggleable\"><input class=\"sk-toggleable__control sk-hidden--visually\" id=\"sk-estimator-id-50\" type=\"checkbox\" ><label for=\"sk-estimator-id-50\" class=\"sk-toggleable__label sk-toggleable__label-arrow\">LogisticRegression</label><div class=\"sk-toggleable__content\"><pre>LogisticRegression(C=10, max_iter=100000)</pre></div></div></div></div></div></div></div>"
      ],
      "text/plain": [
       "Pipeline(steps=[('preprocessor',\n",
       "                 ColumnTransformer(transformers=[('num',\n",
       "                                                  Pipeline(steps=[('imputer',\n",
       "                                                                   SimpleImputer()),\n",
       "                                                                  ('scaler',\n",
       "                                                                   MinMaxScaler())]),\n",
       "                                                  ['audienceScore']),\n",
       "                                                 ('cat',\n",
       "                                                  Pipeline(steps=[('ohe',\n",
       "                                                                   OneHotEncoder(handle_unknown='ignore'))]),\n",
       "                                                  ['rating',\n",
       "                                                   'isFrequentReviewer']),\n",
       "                                                 ('tvec',\n",
       "                                                  TfidfVectorizer(ngram_range=(1,\n",
       "                                                                               2)),\n",
       "                                                  'reviewText')])),\n",
       "                ('model', LogisticRegression(C=10, max_iter=100000))])"
      ]
     },
     "execution_count": 114,
     "metadata": {},
     "output_type": "execute_result"
    }
   ],
   "source": [
    "ct_best4 = ColumnTransformer(transformers=[\n",
    "                                            (\"num\", num_pipe, [\"audienceScore\"]),\n",
    "                                            (\"cat\", cat_pipe, [\"rating\", \"isFrequentReviewer\"]),\n",
    "                                            (\"tvec\", tfidf_vec_2, \"reviewText\")\n",
    "                            ])\n",
    "\n",
    "pipe_best4 = Pipeline(steps=[\n",
    "    (\"preprocessor\", ct_best4),\n",
    "    (\"model\", LogisticRegression())\n",
    "])\n",
    "\n",
    "pipe_best4.set_params(model__C=10, model__max_iter=100000)\n",
    "\n",
    "pipe_best4"
   ]
  },
  {
   "cell_type": "code",
   "execution_count": 115,
   "id": "9851365a",
   "metadata": {
    "execution": {
     "iopub.execute_input": "2023-08-09T07:05:03.199739Z",
     "iopub.status.busy": "2023-08-09T07:05:03.199310Z",
     "iopub.status.idle": "2023-08-09T07:05:03.203767Z",
     "shell.execute_reply": "2023-08-09T07:05:03.202702Z"
    },
    "papermill": {
     "duration": 0.103875,
     "end_time": "2023-08-09T07:05:03.206072",
     "exception": false,
     "start_time": "2023-08-09T07:05:03.102197",
     "status": "completed"
    },
    "tags": []
   },
   "outputs": [],
   "source": [
    "# split_train_predict(merged[[\"audienceScore\", \"rating\", \"isFrequentReviewer\", \"reviewText\"]], merged[\"sentiment\"], pipe_best4, test_size=0.25)"
   ]
  },
  {
   "cell_type": "markdown",
   "id": "33922aed",
   "metadata": {
    "papermill": {
     "duration": 0.096195,
     "end_time": "2023-08-09T07:05:03.402229",
     "exception": false,
     "start_time": "2023-08-09T07:05:03.306034",
     "status": "completed"
    },
    "tags": []
   },
   "source": [
    "## Try only 'reviewText' column  "
   ]
  },
  {
   "cell_type": "code",
   "execution_count": 116,
   "id": "a8e32cec",
   "metadata": {
    "execution": {
     "iopub.execute_input": "2023-08-09T07:05:03.596579Z",
     "iopub.status.busy": "2023-08-09T07:05:03.595896Z",
     "iopub.status.idle": "2023-08-09T07:05:03.603485Z",
     "shell.execute_reply": "2023-08-09T07:05:03.602378Z"
    },
    "papermill": {
     "duration": 0.107055,
     "end_time": "2023-08-09T07:05:03.605787",
     "exception": false,
     "start_time": "2023-08-09T07:05:03.498732",
     "status": "completed"
    },
    "tags": []
   },
   "outputs": [
    {
     "data": {
      "text/html": [
       "<style>#sk-container-id-10 {color: black;background-color: white;}#sk-container-id-10 pre{padding: 0;}#sk-container-id-10 div.sk-toggleable {background-color: white;}#sk-container-id-10 label.sk-toggleable__label {cursor: pointer;display: block;width: 100%;margin-bottom: 0;padding: 0.3em;box-sizing: border-box;text-align: center;}#sk-container-id-10 label.sk-toggleable__label-arrow:before {content: \"▸\";float: left;margin-right: 0.25em;color: #696969;}#sk-container-id-10 label.sk-toggleable__label-arrow:hover:before {color: black;}#sk-container-id-10 div.sk-estimator:hover label.sk-toggleable__label-arrow:before {color: black;}#sk-container-id-10 div.sk-toggleable__content {max-height: 0;max-width: 0;overflow: hidden;text-align: left;background-color: #f0f8ff;}#sk-container-id-10 div.sk-toggleable__content pre {margin: 0.2em;color: black;border-radius: 0.25em;background-color: #f0f8ff;}#sk-container-id-10 input.sk-toggleable__control:checked~div.sk-toggleable__content {max-height: 200px;max-width: 100%;overflow: auto;}#sk-container-id-10 input.sk-toggleable__control:checked~label.sk-toggleable__label-arrow:before {content: \"▾\";}#sk-container-id-10 div.sk-estimator input.sk-toggleable__control:checked~label.sk-toggleable__label {background-color: #d4ebff;}#sk-container-id-10 div.sk-label input.sk-toggleable__control:checked~label.sk-toggleable__label {background-color: #d4ebff;}#sk-container-id-10 input.sk-hidden--visually {border: 0;clip: rect(1px 1px 1px 1px);clip: rect(1px, 1px, 1px, 1px);height: 1px;margin: -1px;overflow: hidden;padding: 0;position: absolute;width: 1px;}#sk-container-id-10 div.sk-estimator {font-family: monospace;background-color: #f0f8ff;border: 1px dotted black;border-radius: 0.25em;box-sizing: border-box;margin-bottom: 0.5em;}#sk-container-id-10 div.sk-estimator:hover {background-color: #d4ebff;}#sk-container-id-10 div.sk-parallel-item::after {content: \"\";width: 100%;border-bottom: 1px solid gray;flex-grow: 1;}#sk-container-id-10 div.sk-label:hover label.sk-toggleable__label {background-color: #d4ebff;}#sk-container-id-10 div.sk-serial::before {content: \"\";position: absolute;border-left: 1px solid gray;box-sizing: border-box;top: 0;bottom: 0;left: 50%;z-index: 0;}#sk-container-id-10 div.sk-serial {display: flex;flex-direction: column;align-items: center;background-color: white;padding-right: 0.2em;padding-left: 0.2em;position: relative;}#sk-container-id-10 div.sk-item {position: relative;z-index: 1;}#sk-container-id-10 div.sk-parallel {display: flex;align-items: stretch;justify-content: center;background-color: white;position: relative;}#sk-container-id-10 div.sk-item::before, #sk-container-id-10 div.sk-parallel-item::before {content: \"\";position: absolute;border-left: 1px solid gray;box-sizing: border-box;top: 0;bottom: 0;left: 50%;z-index: -1;}#sk-container-id-10 div.sk-parallel-item {display: flex;flex-direction: column;z-index: 1;position: relative;background-color: white;}#sk-container-id-10 div.sk-parallel-item:first-child::after {align-self: flex-end;width: 50%;}#sk-container-id-10 div.sk-parallel-item:last-child::after {align-self: flex-start;width: 50%;}#sk-container-id-10 div.sk-parallel-item:only-child::after {width: 0;}#sk-container-id-10 div.sk-dashed-wrapped {border: 1px dashed gray;margin: 0 0.4em 0.5em 0.4em;box-sizing: border-box;padding-bottom: 0.4em;background-color: white;}#sk-container-id-10 div.sk-label label {font-family: monospace;font-weight: bold;display: inline-block;line-height: 1.2em;}#sk-container-id-10 div.sk-label-container {text-align: center;}#sk-container-id-10 div.sk-container {/* jupyter's `normalize.less` sets `[hidden] { display: none; }` but bootstrap.min.css set `[hidden] { display: none !important; }` so we also need the `!important` here to be able to override the default hidden behavior on the sphinx rendered scikit-learn.org. See: https://github.com/scikit-learn/scikit-learn/issues/21755 */display: inline-block !important;position: relative;}#sk-container-id-10 div.sk-text-repr-fallback {display: none;}</style><div id=\"sk-container-id-10\" class=\"sk-top-container\"><div class=\"sk-text-repr-fallback\"><pre>TfidfVectorizer(ngram_range=(1, 2))</pre><b>In a Jupyter environment, please rerun this cell to show the HTML representation or trust the notebook. <br />On GitHub, the HTML representation is unable to render, please try loading this page with nbviewer.org.</b></div><div class=\"sk-container\" hidden><div class=\"sk-item\"><div class=\"sk-estimator sk-toggleable\"><input class=\"sk-toggleable__control sk-hidden--visually\" id=\"sk-estimator-id-51\" type=\"checkbox\" checked><label for=\"sk-estimator-id-51\" class=\"sk-toggleable__label sk-toggleable__label-arrow\">TfidfVectorizer</label><div class=\"sk-toggleable__content\"><pre>TfidfVectorizer(ngram_range=(1, 2))</pre></div></div></div></div></div>"
      ],
      "text/plain": [
       "TfidfVectorizer(ngram_range=(1, 2))"
      ]
     },
     "execution_count": 116,
     "metadata": {},
     "output_type": "execute_result"
    }
   ],
   "source": [
    "tfidf_vec_3 = TfidfVectorizer(ngram_range=(1,2))\n",
    "tfidf_vec_3"
   ]
  },
  {
   "cell_type": "code",
   "execution_count": 117,
   "id": "00b484a9",
   "metadata": {
    "execution": {
     "iopub.execute_input": "2023-08-09T07:05:03.800678Z",
     "iopub.status.busy": "2023-08-09T07:05:03.800271Z",
     "iopub.status.idle": "2023-08-09T07:05:03.814255Z",
     "shell.execute_reply": "2023-08-09T07:05:03.813103Z"
    },
    "papermill": {
     "duration": 0.113689,
     "end_time": "2023-08-09T07:05:03.816427",
     "exception": false,
     "start_time": "2023-08-09T07:05:03.702738",
     "status": "completed"
    },
    "tags": []
   },
   "outputs": [
    {
     "data": {
      "text/html": [
       "<style>#sk-container-id-11 {color: black;background-color: white;}#sk-container-id-11 pre{padding: 0;}#sk-container-id-11 div.sk-toggleable {background-color: white;}#sk-container-id-11 label.sk-toggleable__label {cursor: pointer;display: block;width: 100%;margin-bottom: 0;padding: 0.3em;box-sizing: border-box;text-align: center;}#sk-container-id-11 label.sk-toggleable__label-arrow:before {content: \"▸\";float: left;margin-right: 0.25em;color: #696969;}#sk-container-id-11 label.sk-toggleable__label-arrow:hover:before {color: black;}#sk-container-id-11 div.sk-estimator:hover label.sk-toggleable__label-arrow:before {color: black;}#sk-container-id-11 div.sk-toggleable__content {max-height: 0;max-width: 0;overflow: hidden;text-align: left;background-color: #f0f8ff;}#sk-container-id-11 div.sk-toggleable__content pre {margin: 0.2em;color: black;border-radius: 0.25em;background-color: #f0f8ff;}#sk-container-id-11 input.sk-toggleable__control:checked~div.sk-toggleable__content {max-height: 200px;max-width: 100%;overflow: auto;}#sk-container-id-11 input.sk-toggleable__control:checked~label.sk-toggleable__label-arrow:before {content: \"▾\";}#sk-container-id-11 div.sk-estimator input.sk-toggleable__control:checked~label.sk-toggleable__label {background-color: #d4ebff;}#sk-container-id-11 div.sk-label input.sk-toggleable__control:checked~label.sk-toggleable__label {background-color: #d4ebff;}#sk-container-id-11 input.sk-hidden--visually {border: 0;clip: rect(1px 1px 1px 1px);clip: rect(1px, 1px, 1px, 1px);height: 1px;margin: -1px;overflow: hidden;padding: 0;position: absolute;width: 1px;}#sk-container-id-11 div.sk-estimator {font-family: monospace;background-color: #f0f8ff;border: 1px dotted black;border-radius: 0.25em;box-sizing: border-box;margin-bottom: 0.5em;}#sk-container-id-11 div.sk-estimator:hover {background-color: #d4ebff;}#sk-container-id-11 div.sk-parallel-item::after {content: \"\";width: 100%;border-bottom: 1px solid gray;flex-grow: 1;}#sk-container-id-11 div.sk-label:hover label.sk-toggleable__label {background-color: #d4ebff;}#sk-container-id-11 div.sk-serial::before {content: \"\";position: absolute;border-left: 1px solid gray;box-sizing: border-box;top: 0;bottom: 0;left: 50%;z-index: 0;}#sk-container-id-11 div.sk-serial {display: flex;flex-direction: column;align-items: center;background-color: white;padding-right: 0.2em;padding-left: 0.2em;position: relative;}#sk-container-id-11 div.sk-item {position: relative;z-index: 1;}#sk-container-id-11 div.sk-parallel {display: flex;align-items: stretch;justify-content: center;background-color: white;position: relative;}#sk-container-id-11 div.sk-item::before, #sk-container-id-11 div.sk-parallel-item::before {content: \"\";position: absolute;border-left: 1px solid gray;box-sizing: border-box;top: 0;bottom: 0;left: 50%;z-index: -1;}#sk-container-id-11 div.sk-parallel-item {display: flex;flex-direction: column;z-index: 1;position: relative;background-color: white;}#sk-container-id-11 div.sk-parallel-item:first-child::after {align-self: flex-end;width: 50%;}#sk-container-id-11 div.sk-parallel-item:last-child::after {align-self: flex-start;width: 50%;}#sk-container-id-11 div.sk-parallel-item:only-child::after {width: 0;}#sk-container-id-11 div.sk-dashed-wrapped {border: 1px dashed gray;margin: 0 0.4em 0.5em 0.4em;box-sizing: border-box;padding-bottom: 0.4em;background-color: white;}#sk-container-id-11 div.sk-label label {font-family: monospace;font-weight: bold;display: inline-block;line-height: 1.2em;}#sk-container-id-11 div.sk-label-container {text-align: center;}#sk-container-id-11 div.sk-container {/* jupyter's `normalize.less` sets `[hidden] { display: none; }` but bootstrap.min.css set `[hidden] { display: none !important; }` so we also need the `!important` here to be able to override the default hidden behavior on the sphinx rendered scikit-learn.org. See: https://github.com/scikit-learn/scikit-learn/issues/21755 */display: inline-block !important;position: relative;}#sk-container-id-11 div.sk-text-repr-fallback {display: none;}</style><div id=\"sk-container-id-11\" class=\"sk-top-container\"><div class=\"sk-text-repr-fallback\"><pre>ColumnTransformer(transformers=[(&#x27;txt&#x27;, TfidfVectorizer(ngram_range=(1, 2)),\n",
       "                                 &#x27;reviewText&#x27;)])</pre><b>In a Jupyter environment, please rerun this cell to show the HTML representation or trust the notebook. <br />On GitHub, the HTML representation is unable to render, please try loading this page with nbviewer.org.</b></div><div class=\"sk-container\" hidden><div class=\"sk-item sk-dashed-wrapped\"><div class=\"sk-label-container\"><div class=\"sk-label sk-toggleable\"><input class=\"sk-toggleable__control sk-hidden--visually\" id=\"sk-estimator-id-52\" type=\"checkbox\" ><label for=\"sk-estimator-id-52\" class=\"sk-toggleable__label sk-toggleable__label-arrow\">ColumnTransformer</label><div class=\"sk-toggleable__content\"><pre>ColumnTransformer(transformers=[(&#x27;txt&#x27;, TfidfVectorizer(ngram_range=(1, 2)),\n",
       "                                 &#x27;reviewText&#x27;)])</pre></div></div></div><div class=\"sk-parallel\"><div class=\"sk-parallel-item\"><div class=\"sk-item\"><div class=\"sk-label-container\"><div class=\"sk-label sk-toggleable\"><input class=\"sk-toggleable__control sk-hidden--visually\" id=\"sk-estimator-id-53\" type=\"checkbox\" ><label for=\"sk-estimator-id-53\" class=\"sk-toggleable__label sk-toggleable__label-arrow\">txt</label><div class=\"sk-toggleable__content\"><pre>reviewText</pre></div></div></div><div class=\"sk-serial\"><div class=\"sk-item\"><div class=\"sk-estimator sk-toggleable\"><input class=\"sk-toggleable__control sk-hidden--visually\" id=\"sk-estimator-id-54\" type=\"checkbox\" ><label for=\"sk-estimator-id-54\" class=\"sk-toggleable__label sk-toggleable__label-arrow\">TfidfVectorizer</label><div class=\"sk-toggleable__content\"><pre>TfidfVectorizer(ngram_range=(1, 2))</pre></div></div></div></div></div></div></div></div></div></div>"
      ],
      "text/plain": [
       "ColumnTransformer(transformers=[('txt', TfidfVectorizer(ngram_range=(1, 2)),\n",
       "                                 'reviewText')])"
      ]
     },
     "execution_count": 117,
     "metadata": {},
     "output_type": "execute_result"
    }
   ],
   "source": [
    "ct_RTonly = ColumnTransformer(transformers=[\n",
    "                                            ('txt', tfidf_vec_3, 'reviewText'),\n",
    "                                            ], remainder='drop')\n",
    "ct_RTonly"
   ]
  },
  {
   "cell_type": "code",
   "execution_count": 118,
   "id": "c880b9b1",
   "metadata": {
    "execution": {
     "iopub.execute_input": "2023-08-09T07:05:04.011883Z",
     "iopub.status.busy": "2023-08-09T07:05:04.011465Z",
     "iopub.status.idle": "2023-08-09T07:05:04.044866Z",
     "shell.execute_reply": "2023-08-09T07:05:04.043598Z"
    },
    "papermill": {
     "duration": 0.134367,
     "end_time": "2023-08-09T07:05:04.047340",
     "exception": false,
     "start_time": "2023-08-09T07:05:03.912973",
     "status": "completed"
    },
    "tags": []
   },
   "outputs": [
    {
     "data": {
      "text/html": [
       "<style>#sk-container-id-12 {color: black;background-color: white;}#sk-container-id-12 pre{padding: 0;}#sk-container-id-12 div.sk-toggleable {background-color: white;}#sk-container-id-12 label.sk-toggleable__label {cursor: pointer;display: block;width: 100%;margin-bottom: 0;padding: 0.3em;box-sizing: border-box;text-align: center;}#sk-container-id-12 label.sk-toggleable__label-arrow:before {content: \"▸\";float: left;margin-right: 0.25em;color: #696969;}#sk-container-id-12 label.sk-toggleable__label-arrow:hover:before {color: black;}#sk-container-id-12 div.sk-estimator:hover label.sk-toggleable__label-arrow:before {color: black;}#sk-container-id-12 div.sk-toggleable__content {max-height: 0;max-width: 0;overflow: hidden;text-align: left;background-color: #f0f8ff;}#sk-container-id-12 div.sk-toggleable__content pre {margin: 0.2em;color: black;border-radius: 0.25em;background-color: #f0f8ff;}#sk-container-id-12 input.sk-toggleable__control:checked~div.sk-toggleable__content {max-height: 200px;max-width: 100%;overflow: auto;}#sk-container-id-12 input.sk-toggleable__control:checked~label.sk-toggleable__label-arrow:before {content: \"▾\";}#sk-container-id-12 div.sk-estimator input.sk-toggleable__control:checked~label.sk-toggleable__label {background-color: #d4ebff;}#sk-container-id-12 div.sk-label input.sk-toggleable__control:checked~label.sk-toggleable__label {background-color: #d4ebff;}#sk-container-id-12 input.sk-hidden--visually {border: 0;clip: rect(1px 1px 1px 1px);clip: rect(1px, 1px, 1px, 1px);height: 1px;margin: -1px;overflow: hidden;padding: 0;position: absolute;width: 1px;}#sk-container-id-12 div.sk-estimator {font-family: monospace;background-color: #f0f8ff;border: 1px dotted black;border-radius: 0.25em;box-sizing: border-box;margin-bottom: 0.5em;}#sk-container-id-12 div.sk-estimator:hover {background-color: #d4ebff;}#sk-container-id-12 div.sk-parallel-item::after {content: \"\";width: 100%;border-bottom: 1px solid gray;flex-grow: 1;}#sk-container-id-12 div.sk-label:hover label.sk-toggleable__label {background-color: #d4ebff;}#sk-container-id-12 div.sk-serial::before {content: \"\";position: absolute;border-left: 1px solid gray;box-sizing: border-box;top: 0;bottom: 0;left: 50%;z-index: 0;}#sk-container-id-12 div.sk-serial {display: flex;flex-direction: column;align-items: center;background-color: white;padding-right: 0.2em;padding-left: 0.2em;position: relative;}#sk-container-id-12 div.sk-item {position: relative;z-index: 1;}#sk-container-id-12 div.sk-parallel {display: flex;align-items: stretch;justify-content: center;background-color: white;position: relative;}#sk-container-id-12 div.sk-item::before, #sk-container-id-12 div.sk-parallel-item::before {content: \"\";position: absolute;border-left: 1px solid gray;box-sizing: border-box;top: 0;bottom: 0;left: 50%;z-index: -1;}#sk-container-id-12 div.sk-parallel-item {display: flex;flex-direction: column;z-index: 1;position: relative;background-color: white;}#sk-container-id-12 div.sk-parallel-item:first-child::after {align-self: flex-end;width: 50%;}#sk-container-id-12 div.sk-parallel-item:last-child::after {align-self: flex-start;width: 50%;}#sk-container-id-12 div.sk-parallel-item:only-child::after {width: 0;}#sk-container-id-12 div.sk-dashed-wrapped {border: 1px dashed gray;margin: 0 0.4em 0.5em 0.4em;box-sizing: border-box;padding-bottom: 0.4em;background-color: white;}#sk-container-id-12 div.sk-label label {font-family: monospace;font-weight: bold;display: inline-block;line-height: 1.2em;}#sk-container-id-12 div.sk-label-container {text-align: center;}#sk-container-id-12 div.sk-container {/* jupyter's `normalize.less` sets `[hidden] { display: none; }` but bootstrap.min.css set `[hidden] { display: none !important; }` so we also need the `!important` here to be able to override the default hidden behavior on the sphinx rendered scikit-learn.org. See: https://github.com/scikit-learn/scikit-learn/issues/21755 */display: inline-block !important;position: relative;}#sk-container-id-12 div.sk-text-repr-fallback {display: none;}</style><div id=\"sk-container-id-12\" class=\"sk-top-container\"><div class=\"sk-text-repr-fallback\"><pre>Pipeline(steps=[(&#x27;preprocessor&#x27;,\n",
       "                 ColumnTransformer(transformers=[(&#x27;txt&#x27;,\n",
       "                                                  TfidfVectorizer(ngram_range=(1,\n",
       "                                                                               2)),\n",
       "                                                  &#x27;reviewText&#x27;)])),\n",
       "                (&#x27;model&#x27;, LogisticRegression(C=10, max_iter=100000))])</pre><b>In a Jupyter environment, please rerun this cell to show the HTML representation or trust the notebook. <br />On GitHub, the HTML representation is unable to render, please try loading this page with nbviewer.org.</b></div><div class=\"sk-container\" hidden><div class=\"sk-item sk-dashed-wrapped\"><div class=\"sk-label-container\"><div class=\"sk-label sk-toggleable\"><input class=\"sk-toggleable__control sk-hidden--visually\" id=\"sk-estimator-id-55\" type=\"checkbox\" ><label for=\"sk-estimator-id-55\" class=\"sk-toggleable__label sk-toggleable__label-arrow\">Pipeline</label><div class=\"sk-toggleable__content\"><pre>Pipeline(steps=[(&#x27;preprocessor&#x27;,\n",
       "                 ColumnTransformer(transformers=[(&#x27;txt&#x27;,\n",
       "                                                  TfidfVectorizer(ngram_range=(1,\n",
       "                                                                               2)),\n",
       "                                                  &#x27;reviewText&#x27;)])),\n",
       "                (&#x27;model&#x27;, LogisticRegression(C=10, max_iter=100000))])</pre></div></div></div><div class=\"sk-serial\"><div class=\"sk-item sk-dashed-wrapped\"><div class=\"sk-label-container\"><div class=\"sk-label sk-toggleable\"><input class=\"sk-toggleable__control sk-hidden--visually\" id=\"sk-estimator-id-56\" type=\"checkbox\" ><label for=\"sk-estimator-id-56\" class=\"sk-toggleable__label sk-toggleable__label-arrow\">preprocessor: ColumnTransformer</label><div class=\"sk-toggleable__content\"><pre>ColumnTransformer(transformers=[(&#x27;txt&#x27;, TfidfVectorizer(ngram_range=(1, 2)),\n",
       "                                 &#x27;reviewText&#x27;)])</pre></div></div></div><div class=\"sk-parallel\"><div class=\"sk-parallel-item\"><div class=\"sk-item\"><div class=\"sk-label-container\"><div class=\"sk-label sk-toggleable\"><input class=\"sk-toggleable__control sk-hidden--visually\" id=\"sk-estimator-id-57\" type=\"checkbox\" ><label for=\"sk-estimator-id-57\" class=\"sk-toggleable__label sk-toggleable__label-arrow\">txt</label><div class=\"sk-toggleable__content\"><pre>reviewText</pre></div></div></div><div class=\"sk-serial\"><div class=\"sk-item\"><div class=\"sk-estimator sk-toggleable\"><input class=\"sk-toggleable__control sk-hidden--visually\" id=\"sk-estimator-id-58\" type=\"checkbox\" ><label for=\"sk-estimator-id-58\" class=\"sk-toggleable__label sk-toggleable__label-arrow\">TfidfVectorizer</label><div class=\"sk-toggleable__content\"><pre>TfidfVectorizer(ngram_range=(1, 2))</pre></div></div></div></div></div></div></div></div><div class=\"sk-item\"><div class=\"sk-estimator sk-toggleable\"><input class=\"sk-toggleable__control sk-hidden--visually\" id=\"sk-estimator-id-59\" type=\"checkbox\" ><label for=\"sk-estimator-id-59\" class=\"sk-toggleable__label sk-toggleable__label-arrow\">LogisticRegression</label><div class=\"sk-toggleable__content\"><pre>LogisticRegression(C=10, max_iter=100000)</pre></div></div></div></div></div></div></div>"
      ],
      "text/plain": [
       "Pipeline(steps=[('preprocessor',\n",
       "                 ColumnTransformer(transformers=[('txt',\n",
       "                                                  TfidfVectorizer(ngram_range=(1,\n",
       "                                                                               2)),\n",
       "                                                  'reviewText')])),\n",
       "                ('model', LogisticRegression(C=10, max_iter=100000))])"
      ]
     },
     "execution_count": 118,
     "metadata": {},
     "output_type": "execute_result"
    }
   ],
   "source": [
    "pipe_RTonly = Pipeline(steps=[\n",
    "    (\"preprocessor\", ct_RTonly),\n",
    "    (\"model\", LogisticRegression())\n",
    "])\n",
    "\n",
    "pipe_RTonly.set_params(model__C=10, model__max_iter=100000)\n",
    "\n",
    "pipe_RTonly"
   ]
  },
  {
   "cell_type": "markdown",
   "id": "d96f8f48",
   "metadata": {
    "papermill": {
     "duration": 0.097428,
     "end_time": "2023-08-09T07:05:04.241897",
     "exception": false,
     "start_time": "2023-08-09T07:05:04.144469",
     "status": "completed"
    },
    "tags": []
   },
   "source": [
    "## Submit_v4 for merged file models  "
   ]
  },
  {
   "cell_type": "code",
   "execution_count": 119,
   "id": "64c9d556",
   "metadata": {
    "execution": {
     "iopub.execute_input": "2023-08-09T07:05:04.439781Z",
     "iopub.status.busy": "2023-08-09T07:05:04.438938Z",
     "iopub.status.idle": "2023-08-09T07:05:04.446474Z",
     "shell.execute_reply": "2023-08-09T07:05:04.445682Z"
    },
    "papermill": {
     "duration": 0.10833,
     "end_time": "2023-08-09T07:05:04.448907",
     "exception": false,
     "start_time": "2023-08-09T07:05:04.340577",
     "status": "completed"
    },
    "tags": []
   },
   "outputs": [],
   "source": [
    "# Testing predictions on missing reviewtext columns  \n",
    "\n",
    "def predict_on_missing_review_data(pipe, selected_features, merged_train):\n",
    "    missing_reviews_train = merged_train.loc[merged_train['reviewYN'] == 1]\n",
    "    missing_reviews_train.reset_index(drop=True)\n",
    "    X_train_miss_revs = missing_reviews_train.drop('sentiment', axis = 1)\n",
    "    X_train_miss_revs = X_train_miss_revs[selected_features]\n",
    "    y_train_miss_revs = missing_reviews_train['sentiment']\n",
    "    \n",
    "    y_pred_miss_revs = pipe.predict(X_train_miss_revs)\n",
    "#     print('Predictions on rows which had missing reviewText')\n",
    "    print(\"Confusion matrix and f1-score for rows which have no reviewText in X_train: \")\n",
    "    print(confusion_matrix(y_train_miss_revs, y_pred_miss_revs, labels=pipe.classes_))\n",
    "    \n",
    "    return f1_score(y_train_miss_revs, y_pred_miss_revs, average='micro')"
   ]
  },
  {
   "cell_type": "code",
   "execution_count": 120,
   "id": "fb154976",
   "metadata": {
    "execution": {
     "iopub.execute_input": "2023-08-09T07:05:04.643881Z",
     "iopub.status.busy": "2023-08-09T07:05:04.643078Z",
     "iopub.status.idle": "2023-08-09T07:05:04.674103Z",
     "shell.execute_reply": "2023-08-09T07:05:04.673183Z"
    },
    "papermill": {
     "duration": 0.131589,
     "end_time": "2023-08-09T07:05:04.676654",
     "exception": false,
     "start_time": "2023-08-09T07:05:04.545065",
     "status": "completed"
    },
    "tags": []
   },
   "outputs": [],
   "source": [
    "def build_pipeline(selected_model=LogisticRegression(), \n",
    "                   selected_features={'txt': ['reviewText']}, \n",
    "                   param_grid=None,\n",
    "                   vocab=None,\n",
    "                   vocab_usage='tfidf',\n",
    "                   strip_accents='unicode', \n",
    "                   add_countvec=False):\n",
    "    # Encoders  \n",
    "    ohe = OneHotEncoder(sparse_output=False, handle_unknown='ignore')\n",
    "    MMscaler = MinMaxScaler()\n",
    "    StdScaler = StandardScaler()\n",
    "    RobScaler = RobustScaler()\n",
    "    \n",
    "    # Text features ['reviewText', 'reviewerName', 'movieid', 'genre', 'director']\n",
    "    tfidf_vec = TfidfVectorizer(ngram_range=(1,2))\n",
    "    count_vec = CountVectorizer(ngram_range=(1,2))\n",
    "    txt_pipe = Pipeline(steps=[\n",
    "                            (\"tvec\", TfidfVectorizer(ngram_range=(1,3), strip_accents=strip_accents))    # Adjust ngram_range here for reviewText\n",
    "                        ])\n",
    "    txt_pipe_vocab = Pipeline(steps=[\n",
    "                            (\"tvec\", TfidfVectorizer(ngram_range=(1,3), strip_accents=strip_accents, vocabulary=vocab))    # Adjust ngram_range here for reviewText\n",
    "                        ])\n",
    "    txt_pipe_2 = Pipeline(steps=[\n",
    "                            (\"tvec\", TfidfVectorizer(ngram_range=(2,2)))\n",
    "                        ])\n",
    "    txt_pipe_3 = Pipeline(steps=[\n",
    "                            (\"tvec\", TfidfVectorizer(ngram_range=(1,1)))\n",
    "                        ])\n",
    "    txt_pipe_4 = Pipeline(steps=[\n",
    "                            (\"tvec\", TfidfVectorizer(ngram_range=(1,3)))    # Adjust ngram_range here for reviewText\n",
    "                        ])\n",
    "    txt_pipe_title  = Pipeline(steps=[\n",
    "                            (\"tvec\", TfidfVectorizer(ngram_range=(1,5)))    # Adjust ngram_range here for reviewText\n",
    "                        ])\n",
    "    \n",
    "    # Additional pipes for count vectorizer\n",
    "    txt_pipe_countvec = Pipeline(steps=[\n",
    "                            (\"cvec\", CountVectorizer(ngram_range=(1,3), strip_accents=strip_accents))    # Adjust ngram_range here for reviewText\n",
    "                        ])\n",
    "    txt_pipe_countvec_vocab = Pipeline(steps=[\n",
    "                            (\"cvec\", CountVectorizer(ngram_range=(1,3), strip_accents=strip_accents, vocabulary=vocab))    # Adjust ngram_range here for reviewText\n",
    "                        ])\n",
    "    \n",
    "    txt_pipe_countvec_ratingContents = Pipeline(steps=[\n",
    "                            (\"cvec\", CountVectorizer(ngram_range=(1,5), strip_accents=strip_accents))    # Adjust ngram_range here for reviewText\n",
    "                        ])\n",
    "    txt_pipe_countvec_rcSorted = Pipeline(steps=[\n",
    "                            (\"cvec\", CountVectorizer(ngram_range=(1,1)))    # Adjust ngram_range here for reviewText\n",
    "                        ])\n",
    "    txt_pipe_countvec_genre = Pipeline(steps=[\n",
    "                            (\"cvec\", CountVectorizer(ngram_range=(1,1)))\n",
    "                        ])\n",
    "    txt_pipe_countvec_genreSorted = Pipeline(steps=[\n",
    "                            (\"cvec\", CountVectorizer(ngram_range=(1,5)))\n",
    "                        ])\n",
    "    txt_pipe_countvec_distributor = Pipeline(steps=[\n",
    "                            (\"cvec\", CountVectorizer(ngram_range=(1,3)))    # Adjust ngram_range here for reviewText\n",
    "                        ])\n",
    "    txt_pipe_countvec_title = Pipeline(steps=[\n",
    "                            (\"cvec\", CountVectorizer(ngram_range=(1,5), strip_accents=strip_accents))\n",
    "                        ])\n",
    "    txt_pipe_countvec_movieid = Pipeline(steps=[\n",
    "                            (\"cvec\", CountVectorizer(ngram_range=(1,1)))\n",
    "                        ])\n",
    "    # Basic pipes  \n",
    "    TFs = []\n",
    "    try:\n",
    "        for c in selected_features['cat']:\n",
    "            TFs.append((f\"cat_{c}\", ohe, [c]))\n",
    "    except:\n",
    "        pass\n",
    "    try:\n",
    "        for n in selected_features['num']:\n",
    "            if n in [\"runtimeMinutes\", \"boxOffice\", \"releaseDiff\"]:\n",
    "                TFs.append((f\"num_{n}\", RobScaler, [n]))\n",
    "            else:\n",
    "                TFs.append((f\"num_{n}\", MMscaler, [n]))\n",
    "    except:\n",
    "        pass\n",
    "    try:\n",
    "        for t in selected_features['txt']:\n",
    "            if t in ['director', 'reviewerName']:\n",
    "                TFs.append((f\"txt_{t}\", txt_pipe_2, t))\n",
    "            elif t in [\"originalLanguage\", \"releaseYear\"]:\n",
    "                TFs.append((f\"txt_{t}\", txt_pipe_3, t))\n",
    "            elif t in ['genre']:\n",
    "                TFs.append((f\"txt_{t}\", txt_pipe_countvec_genre, t))\n",
    "            elif t in [\"genreSorted\"]:\n",
    "                TFs.append((f\"txt_{t}\", txt_pipe_countvec_genreSorted, t))\n",
    "            elif t in [\"distributor\"]:\n",
    "                TFs.append((f\"txt_{t}\", txt_pipe_countvec_distributor, t))\n",
    "            elif t in ['reviewText']:\n",
    "#                 if vocab and (vocab_usage in [\"tfidf\", \"both\"]):\n",
    "#                     txt_pipe.set_params(tvec__vocabulary=vocab)\n",
    "#                     txt_pipe.set_params(tvec__stop_words='english')\n",
    "                TFs.append((f\"txt_{t}\", txt_pipe, t))\n",
    "            elif t in ['reviewText_2']:\n",
    "                if add_countvec:\n",
    "#                     if vocab and (vocab_usage in [\"count\", \"both\"]):\n",
    "#                         txt_pipe_countvec.set_params(cvec__vocabulary=vocab)\n",
    "#                         txt_pipe_countvec.set_params(cvec__stop_words='english')\n",
    "                    TFs.append((f\"txt_{t}\", txt_pipe_countvec, t))\n",
    "            elif t in ['reviewText_3']:\n",
    "                if vocab_usage == 'tfidf':\n",
    "                    TFs.append((f\"txt_{t}\", txt_pipe_vocab, t))\n",
    "                elif vocab_usage == 'count':\n",
    "                    TFs.append((f\"txt_{t}\", txt_pipe_countvec_vocab, t))\n",
    "            elif t in [\"ratingContents\"]:\n",
    "                TFs.append((f\"txt_{t}\", txt_pipe_countvec_ratingContents, t))\n",
    "            elif t in [\"rcSorted\"]:\n",
    "                TFs.append((f\"txt_{t}\", txt_pipe_countvec_rcSorted, t))\n",
    "            elif t in [\"title\"]:\n",
    "                TFs.append((f\"txt_{t}\", txt_pipe_title, t))\n",
    "            elif t in [\"movieid\"]:\n",
    "                TFs.append((f\"txt_{t}\", txt_pipe_countvec_movieid, t))\n",
    "            else:\n",
    "                pass\n",
    "    except:\n",
    "        pass\n",
    "\n",
    "    # Build ColumnTransformer  \n",
    "    ct = ColumnTransformer(transformers=TFs, remainder='drop')\n",
    "\n",
    "    # Build Pipeline\n",
    "    pipe = Pipeline(steps=[('ct', ct), ('model', selected_model)])\n",
    "    print(\"Pipeline built successfully.\")\n",
    "\n",
    "    # Use the pipe in GridSearchCV\n",
    "    if param_grid == None:\n",
    "        param_grid_temp = {\"model__C\": [1],\n",
    "                     'model__solver': ['liblinear']}\n",
    "        print(\"Full GridSearchCV pipeline built successfully with basic default param_grid.\")\n",
    "        pipeCV = GridSearchCV(pipe, param_grid_temp, cv=10, scoring=\"f1_micro\", n_jobs=-1)\n",
    "        return pipeCV\n",
    "    \n",
    "    # GridSearchCV if param_grid provided\n",
    "    if param_grid:\n",
    "        pipeCV = GridSearchCV(pipe, param_grid, cv=10, scoring=\"f1_micro\", n_jobs=-1)\n",
    "        print(\"Full GridSearchCV pipeline built successfully.\")\n",
    "        return pipeCV"
   ]
  },
  {
   "cell_type": "code",
   "execution_count": 121,
   "id": "65e56ad9",
   "metadata": {
    "execution": {
     "iopub.execute_input": "2023-08-09T07:05:04.871919Z",
     "iopub.status.busy": "2023-08-09T07:05:04.871157Z",
     "iopub.status.idle": "2023-08-09T07:05:04.889611Z",
     "shell.execute_reply": "2023-08-09T07:05:04.888637Z"
    },
    "papermill": {
     "duration": 0.119292,
     "end_time": "2023-08-09T07:05:04.892123",
     "exception": false,
     "start_time": "2023-08-09T07:05:04.772831",
     "status": "completed"
    },
    "tags": []
   },
   "outputs": [],
   "source": [
    "def submit_v4(selected_model=LogisticRegression(C=1, solver='liblinear', max_iter=100000), \n",
    "              selected_features={'txt': ['reviewText']}, \n",
    "              param_grid=None,\n",
    "              vocab=None,\n",
    "              vocab_usage='tfidf',\n",
    "              strip_accents='unicode', \n",
    "              add_countvec=False):\n",
    "    \n",
    "    print(\"Running the submit_v4 function...\")\n",
    "    \n",
    "    # Fine tune selected_features\n",
    "    if add_countvec:\n",
    "        if 'txt' in selected_features.keys():\n",
    "            if \"reviewText_2\" not in selected_features['txt']:\n",
    "                selected_features['txt'].append('reviewText_2')\n",
    "    if vocab:\n",
    "        if 'txt' in selected_features.keys():\n",
    "            if \"reviewText_3\" not in selected_features['txt']:\n",
    "                selected_features['txt'].append('reviewText_3')\n",
    "    print(f\"Selected features: {selected_features}\")\n",
    "\n",
    "    # Build Pipeline\n",
    "    pipe = build_pipeline(selected_model, selected_features, param_grid=param_grid, \n",
    "                          vocab=vocab, vocab_usage='tfidf', \n",
    "                          strip_accents=strip_accents, add_countvec=add_countvec)\n",
    "    print(pipe)\n",
    "\n",
    "    # Features list\n",
    "    features = []\n",
    "    for item in selected_features.values():\n",
    "        features.extend(item)\n",
    "\n",
    "    # Retrain on the whole train.csv file  \n",
    "    merged = select_features(load_csv(\"train\"), load_csv(\"movies\"), row_thresh_null=None)    # Decide if you want to drop any rows containing lot of nulls\n",
    "    if add_countvec:\n",
    "        merged['reviewText_2'] = merged['reviewText']\n",
    "    if vocab:\n",
    "        merged['reviewText_3'] = merged['reviewText']\n",
    "        \n",
    "    X_train = merged.drop(labels=\"sentiment\", axis=1)\n",
    "    y_train = merged[\"sentiment\"]\n",
    "\n",
    "    X_train = X_train[features]\n",
    "    \n",
    "#     # Duplicate reviewText column to use both CountVectorizer and TfidfVectorizer\n",
    "#     if add_countvec and (\"reviewText\" in features):\n",
    "#         X_train['reviewText_2'] = X_train['reviewText']\n",
    "    \n",
    "    # Check1\n",
    "    print(\"Check 1 complete.\")\n",
    "    print(f\"Shape of X_train: {X_train.shape}\")\n",
    "    print(f\"Features in X_train: {X_train.columns}\")\n",
    "#     print(X_train.head())\n",
    "    \n",
    "#     if not param_grid:\n",
    "#         try:\n",
    "#             print(pipe.named_steps['model'].intercept_, pipe.named_steps['model'].coef_)\n",
    "#         except:\n",
    "#             print(\"Model not trained yet!\")\n",
    "    \n",
    "    # Fit \n",
    "    print(\"Training started with full pipeline...\")\n",
    "    pipe.fit(X_train, y_train)\n",
    "    \n",
    "    # Check2\n",
    "    print(\"Check 2 complete.\")\n",
    "    print(\"Best params obtained using full pipeline (GridSearchCV) on X_train: \")\n",
    "    print(pipe.best_params_)\n",
    "    print(\"F1-score using full pipeline (GridSearchCV) on X_train: \")\n",
    "    print(pipe.best_score_)\n",
    "    print(predict_on_missing_review_data(pipe, features, merged))    # Function defined above\n",
    "    \n",
    "        \n",
    "        \n",
    "    # Predict on test.csv file\n",
    "    merged_test = select_features(load_csv(\"test\"), load_csv(\"movies\"))\n",
    "    if add_countvec:\n",
    "        merged_test['reviewText_2'] = merged_test['reviewText']\n",
    "    if vocab:\n",
    "        merged_test['reviewText_3'] = merged_test['reviewText']\n",
    "        \n",
    "    X_test = merged_test.copy()\n",
    "\n",
    "    X_test = X_test[features]\n",
    "    \n",
    "#     # Duplicate reviewText column to use both CountVectorizer and TfidfVectorizer\n",
    "#     if add_countvec and (\"reviewText\" in features):\n",
    "#         X_test['reviewText_2'] = X_test['reviewText']\n",
    "    \n",
    "    # Check3\n",
    "    print(\"Check 3 complete.\")\n",
    "    print(f\"Shape of X_test: {X_test.shape}\")\n",
    "    print(f\"Features in X_train: {X_test.columns}\")\n",
    "#     print(X_test.head())\n",
    "    \n",
    "    y_pred = pipe.predict(X_test)\n",
    "    \n",
    "    # Check4\n",
    "    print(\"Check 4 complete.\")\n",
    "    print(\"Best params obtained using full pipeline (GridSearchCV) on X_train: \")\n",
    "    print(pipe.best_params_)\n",
    "    print(\"F1-score using full pipeline (GridSearchCV) on X_train: \")\n",
    "    print(pipe.best_score_)\n",
    "    \n",
    "    pred_df = pd.DataFrame(y_pred)\n",
    "    pred_df.columns = [\"sentiment\"]\n",
    "    pred_df.index.name = \"id\"\n",
    "    pred_df.to_csv(\"submission.csv\")\n",
    "    \n",
    "    return \"Successfully created the submission file!!!\""
   ]
  },
  {
   "cell_type": "code",
   "execution_count": 122,
   "id": "f03578d7",
   "metadata": {
    "execution": {
     "iopub.execute_input": "2023-08-09T07:05:05.088342Z",
     "iopub.status.busy": "2023-08-09T07:05:05.087090Z",
     "iopub.status.idle": "2023-08-09T07:05:05.092000Z",
     "shell.execute_reply": "2023-08-09T07:05:05.091000Z"
    },
    "papermill": {
     "duration": 0.105241,
     "end_time": "2023-08-09T07:05:05.094190",
     "exception": false,
     "start_time": "2023-08-09T07:05:04.988949",
     "status": "completed"
    },
    "tags": []
   },
   "outputs": [],
   "source": [
    "# submit_v4()\n",
    "\n",
    "#Default params to this function gave a score of 0.8259 - improvement over previous score of 0.82563!"
   ]
  },
  {
   "cell_type": "code",
   "execution_count": 123,
   "id": "cf66058a",
   "metadata": {
    "execution": {
     "iopub.execute_input": "2023-08-09T07:05:05.292679Z",
     "iopub.status.busy": "2023-08-09T07:05:05.290929Z",
     "iopub.status.idle": "2023-08-09T07:05:05.297806Z",
     "shell.execute_reply": "2023-08-09T07:05:05.296669Z"
    },
    "papermill": {
     "duration": 0.108665,
     "end_time": "2023-08-09T07:05:05.300109",
     "exception": false,
     "start_time": "2023-08-09T07:05:05.191444",
     "status": "completed"
    },
    "tags": []
   },
   "outputs": [],
   "source": [
    "# Try out GridSearchCV\n",
    "# param_grid = {\n",
    "#     \"model__C\": [0.1, 1, 5, 10]\n",
    "# }\n",
    "\n",
    "# submit_v4(selected_features={'txt': ['genre']}, param_grid=param_grid)"
   ]
  },
  {
   "cell_type": "markdown",
   "id": "a83ecb68",
   "metadata": {
    "papermill": {
     "duration": 0.095954,
     "end_time": "2023-08-09T07:05:05.492558",
     "exception": false,
     "start_time": "2023-08-09T07:05:05.396604",
     "status": "completed"
    },
    "tags": []
   },
   "source": [
    "## Try the best 4 parameters with submit_v4 function"
   ]
  },
  {
   "cell_type": "code",
   "execution_count": 124,
   "id": "bbd83baa",
   "metadata": {
    "execution": {
     "iopub.execute_input": "2023-08-09T07:05:05.748120Z",
     "iopub.status.busy": "2023-08-09T07:05:05.747428Z",
     "iopub.status.idle": "2023-08-09T07:05:05.753971Z",
     "shell.execute_reply": "2023-08-09T07:05:05.753243Z"
    },
    "papermill": {
     "duration": 0.167731,
     "end_time": "2023-08-09T07:05:05.756107",
     "exception": false,
     "start_time": "2023-08-09T07:05:05.588376",
     "status": "completed"
    },
    "tags": []
   },
   "outputs": [
    {
     "data": {
      "text/plain": [
       "{'num': ['audienceScore'], 'txt': ['reviewText', 'movieid', 'director']}"
      ]
     },
     "execution_count": 124,
     "metadata": {},
     "output_type": "execute_result"
    }
   ],
   "source": [
    "# best4 = [\"audienceScore\", \"rating\", \"isFrequentReviewer\", \"reviewText\"]\n",
    "\n",
    "# best4_dict = {'cat': [\"rating\", \"isFrequentReviewer\"],\n",
    "#              'num': [\"audienceScore\"],\n",
    "#              'txt': ['reviewText']}\n",
    "\n",
    "best4_dict = {'num': [\"audienceScore\"],\n",
    "             'txt': ['reviewText', 'movieid', 'director']}\n",
    "\n",
    "best4_dict"
   ]
  },
  {
   "cell_type": "code",
   "execution_count": 125,
   "id": "9621efe6",
   "metadata": {
    "execution": {
     "iopub.execute_input": "2023-08-09T07:05:05.951417Z",
     "iopub.status.busy": "2023-08-09T07:05:05.951042Z",
     "iopub.status.idle": "2023-08-09T07:05:05.955548Z",
     "shell.execute_reply": "2023-08-09T07:05:05.954354Z"
    },
    "papermill": {
     "duration": 0.105658,
     "end_time": "2023-08-09T07:05:05.958010",
     "exception": false,
     "start_time": "2023-08-09T07:05:05.852352",
     "status": "completed"
    },
    "tags": []
   },
   "outputs": [],
   "source": [
    "# submit_v4(selected_features=best4_dict)"
   ]
  },
  {
   "cell_type": "markdown",
   "id": "d1d0831b",
   "metadata": {
    "papermill": {
     "duration": 0.097833,
     "end_time": "2023-08-09T07:05:06.154031",
     "exception": false,
     "start_time": "2023-08-09T07:05:06.056198",
     "status": "completed"
    },
    "tags": []
   },
   "source": [
    "## Try the best 3 parameters with submit_v4 function"
   ]
  },
  {
   "cell_type": "code",
   "execution_count": 126,
   "id": "ae90194a",
   "metadata": {
    "execution": {
     "iopub.execute_input": "2023-08-09T07:05:06.353346Z",
     "iopub.status.busy": "2023-08-09T07:05:06.352748Z",
     "iopub.status.idle": "2023-08-09T07:05:06.359305Z",
     "shell.execute_reply": "2023-08-09T07:05:06.357957Z"
    },
    "papermill": {
     "duration": 0.109002,
     "end_time": "2023-08-09T07:05:06.361534",
     "exception": false,
     "start_time": "2023-08-09T07:05:06.252532",
     "status": "completed"
    },
    "tags": []
   },
   "outputs": [
    {
     "data": {
      "text/plain": [
       "{'cat': ['isFrequentReviewer'],\n",
       " 'num': ['audienceScore'],\n",
       " 'txt': ['reviewText']}"
      ]
     },
     "execution_count": 126,
     "metadata": {},
     "output_type": "execute_result"
    }
   ],
   "source": [
    "# best3 = [\"audienceScore\", \"isFrequentReviewer\", \"reviewText\"]\n",
    "best3_dict = {'cat': [\"isFrequentReviewer\"],\n",
    "             'num': [\"audienceScore\"],\n",
    "             'txt': ['reviewText']}\n",
    "best3_dict"
   ]
  },
  {
   "cell_type": "code",
   "execution_count": 127,
   "id": "d3ff3838",
   "metadata": {
    "execution": {
     "iopub.execute_input": "2023-08-09T07:05:06.555722Z",
     "iopub.status.busy": "2023-08-09T07:05:06.555299Z",
     "iopub.status.idle": "2023-08-09T07:05:06.560221Z",
     "shell.execute_reply": "2023-08-09T07:05:06.559074Z"
    },
    "papermill": {
     "duration": 0.104728,
     "end_time": "2023-08-09T07:05:06.562385",
     "exception": false,
     "start_time": "2023-08-09T07:05:06.457657",
     "status": "completed"
    },
    "tags": []
   },
   "outputs": [],
   "source": [
    "# submit_v4(selected_features=best3_dict)"
   ]
  },
  {
   "cell_type": "markdown",
   "id": "6f85f2a3",
   "metadata": {
    "papermill": {
     "duration": 0.097012,
     "end_time": "2023-08-09T07:05:06.755341",
     "exception": false,
     "start_time": "2023-08-09T07:05:06.658329",
     "status": "completed"
    },
    "tags": []
   },
   "source": [
    "## Try throwing almost everything (no boxOffice) at submit_v4!  "
   ]
  },
  {
   "cell_type": "code",
   "execution_count": 128,
   "id": "14a89163",
   "metadata": {
    "execution": {
     "iopub.execute_input": "2023-08-09T07:05:06.950506Z",
     "iopub.status.busy": "2023-08-09T07:05:06.950102Z",
     "iopub.status.idle": "2023-08-09T07:05:06.958141Z",
     "shell.execute_reply": "2023-08-09T07:05:06.957352Z"
    },
    "papermill": {
     "duration": 0.107905,
     "end_time": "2023-08-09T07:05:06.960036",
     "exception": false,
     "start_time": "2023-08-09T07:05:06.852131",
     "status": "completed"
    },
    "tags": []
   },
   "outputs": [
    {
     "data": {
      "text/plain": [
       "{'cat': ['isFrequentReviewer', 'rating', 'originalLanguage'],\n",
       " 'num': ['audienceScore', 'runtimeMinutes'],\n",
       " 'txt': ['reviewText', 'reviewerName', 'movieid', 'genre', 'director']}"
      ]
     },
     "execution_count": 128,
     "metadata": {},
     "output_type": "execute_result"
    }
   ],
   "source": [
    "\"\"\"Most from merged = ['movieid', 'reviewerName', 'isFrequentReviewer', 'reviewText',\n",
    "       'audienceScore', 'rating', 'runtimeMinutes', 'genre', \n",
    "       'originalLanguage', 'director']\"\"\"\n",
    "\n",
    "almost_dict = {'cat': [\"isFrequentReviewer\", \"rating\", \"originalLanguage\"],\n",
    "             'num': [\"audienceScore\", \"runtimeMinutes\"],\n",
    "             'txt': ['reviewText', 'reviewerName', 'movieid', 'genre', 'director']}\n",
    "almost_dict"
   ]
  },
  {
   "cell_type": "code",
   "execution_count": 129,
   "id": "4aa4f16f",
   "metadata": {
    "execution": {
     "iopub.execute_input": "2023-08-09T07:05:07.156403Z",
     "iopub.status.busy": "2023-08-09T07:05:07.155704Z",
     "iopub.status.idle": "2023-08-09T07:05:07.159528Z",
     "shell.execute_reply": "2023-08-09T07:05:07.158818Z"
    },
    "papermill": {
     "duration": 0.104368,
     "end_time": "2023-08-09T07:05:07.161603",
     "exception": false,
     "start_time": "2023-08-09T07:05:07.057235",
     "status": "completed"
    },
    "tags": []
   },
   "outputs": [],
   "source": [
    "# submit_v4(selected_features=almost_dict)"
   ]
  },
  {
   "cell_type": "markdown",
   "id": "b9cb5dfd",
   "metadata": {
    "papermill": {
     "duration": 0.097177,
     "end_time": "2023-08-09T07:05:07.356743",
     "exception": false,
     "start_time": "2023-08-09T07:05:07.259566",
     "status": "completed"
    },
    "tags": []
   },
   "source": [
    "## Try throwing everything possible at submit_v4!  "
   ]
  },
  {
   "cell_type": "code",
   "execution_count": 130,
   "id": "d99ad9df",
   "metadata": {
    "execution": {
     "iopub.execute_input": "2023-08-09T07:05:07.552501Z",
     "iopub.status.busy": "2023-08-09T07:05:07.551802Z",
     "iopub.status.idle": "2023-08-09T07:05:07.558990Z",
     "shell.execute_reply": "2023-08-09T07:05:07.558264Z"
    },
    "papermill": {
     "duration": 0.107524,
     "end_time": "2023-08-09T07:05:07.560968",
     "exception": false,
     "start_time": "2023-08-09T07:05:07.453444",
     "status": "completed"
    },
    "tags": []
   },
   "outputs": [
    {
     "data": {
      "text/plain": [
       "{'cat': ['isFrequentReviewer', 'rating', 'originalLanguage'],\n",
       " 'num': ['audienceScore', 'runtimeMinutes', 'boxOffice'],\n",
       " 'txt': ['reviewText', 'reviewerName', 'movieid', 'genre', 'director']}"
      ]
     },
     "execution_count": 130,
     "metadata": {},
     "output_type": "execute_result"
    }
   ],
   "source": [
    "\"\"\"All from merged = ['movieid', 'reviewerName', 'isFrequentReviewer', 'reviewText',\n",
    "       'audienceScore', 'rating', 'runtimeMinutes', 'genre', 'boxOffice',\n",
    "       'originalLanguage', 'director']\"\"\"\n",
    "\n",
    "all_dict = {'cat': [\"isFrequentReviewer\", \"rating\", \"originalLanguage\"],\n",
    "             'num': [\"audienceScore\", \"runtimeMinutes\", \"boxOffice\"],\n",
    "             'txt': ['reviewText', 'reviewerName', 'movieid', 'genre', 'director']}\n",
    "all_dict"
   ]
  },
  {
   "cell_type": "code",
   "execution_count": 131,
   "id": "7867f995",
   "metadata": {
    "execution": {
     "iopub.execute_input": "2023-08-09T07:05:07.756057Z",
     "iopub.status.busy": "2023-08-09T07:05:07.755321Z",
     "iopub.status.idle": "2023-08-09T07:05:07.759730Z",
     "shell.execute_reply": "2023-08-09T07:05:07.758668Z"
    },
    "papermill": {
     "duration": 0.10419,
     "end_time": "2023-08-09T07:05:07.761849",
     "exception": false,
     "start_time": "2023-08-09T07:05:07.657659",
     "status": "completed"
    },
    "tags": []
   },
   "outputs": [],
   "source": [
    "# submit_v4(selected_features=all_dict)"
   ]
  },
  {
   "cell_type": "markdown",
   "id": "dd638cb7",
   "metadata": {
    "papermill": {
     "duration": 0.096564,
     "end_time": "2023-08-09T07:05:07.954878",
     "exception": false,
     "start_time": "2023-08-09T07:05:07.858314",
     "status": "completed"
    },
    "tags": []
   },
   "source": [
    "## Try GridSearchCV on everything  "
   ]
  },
  {
   "cell_type": "code",
   "execution_count": 132,
   "id": "2edeaab6",
   "metadata": {
    "execution": {
     "iopub.execute_input": "2023-08-09T07:05:08.149900Z",
     "iopub.status.busy": "2023-08-09T07:05:08.149478Z",
     "iopub.status.idle": "2023-08-09T07:05:08.156813Z",
     "shell.execute_reply": "2023-08-09T07:05:08.156030Z"
    },
    "papermill": {
     "duration": 0.107236,
     "end_time": "2023-08-09T07:05:08.158779",
     "exception": false,
     "start_time": "2023-08-09T07:05:08.051543",
     "status": "completed"
    },
    "tags": []
   },
   "outputs": [
    {
     "data": {
      "text/plain": [
       "{'model__C': [1, 5, 10, 20], 'model__solver': ['lbfgs', 'liblinear', 'saga']}"
      ]
     },
     "execution_count": 132,
     "metadata": {},
     "output_type": "execute_result"
    }
   ],
   "source": [
    "# param_grid = {\n",
    "#     \"model__C\": [0.5, 2, 5, 15]\n",
    "# }\n",
    "\n",
    "# param_grid = {\n",
    "#     'model__C' : [1, 5],\n",
    "#     'model__solver': ['lbfgs', 'liblinear', 'newton-cg', 'newton-cholesky', 'sag', 'saga']\n",
    "# }\n",
    "\n",
    "# param_grid = {\n",
    "#     'model__C' : [1, 5],\n",
    "#     'model__solver': ['lbfgs', 'liblinear', 'sag', 'saga']\n",
    "# }\n",
    "\n",
    "# param_grid = {\n",
    "#     'model__C' : [1, 5, 10, 15],\n",
    "#     'model__solver': ['lbfgs', 'liblinear', 'saga', 'newton-cg']\n",
    "# }\n",
    "\n",
    "param_grid = {\n",
    "    'model__C' : [1, 5, 10, 20],\n",
    "    'model__solver': ['lbfgs', 'liblinear', 'saga']\n",
    "}\n",
    "\n",
    "param_grid"
   ]
  },
  {
   "cell_type": "code",
   "execution_count": 133,
   "id": "310b2be4",
   "metadata": {
    "execution": {
     "iopub.execute_input": "2023-08-09T07:05:08.357331Z",
     "iopub.status.busy": "2023-08-09T07:05:08.356612Z",
     "iopub.status.idle": "2023-08-09T07:05:08.360527Z",
     "shell.execute_reply": "2023-08-09T07:05:08.359726Z"
    },
    "papermill": {
     "duration": 0.105692,
     "end_time": "2023-08-09T07:05:08.362516",
     "exception": false,
     "start_time": "2023-08-09T07:05:08.256824",
     "status": "completed"
    },
    "tags": []
   },
   "outputs": [],
   "source": [
    "# submit_v4(selected_features={'txt': [\"genre\"]}, param_grid=param_grid)"
   ]
  },
  {
   "cell_type": "code",
   "execution_count": 134,
   "id": "34409e3b",
   "metadata": {
    "execution": {
     "iopub.execute_input": "2023-08-09T07:05:08.558867Z",
     "iopub.status.busy": "2023-08-09T07:05:08.558135Z",
     "iopub.status.idle": "2023-08-09T07:05:08.565229Z",
     "shell.execute_reply": "2023-08-09T07:05:08.564291Z"
    },
    "papermill": {
     "duration": 0.107697,
     "end_time": "2023-08-09T07:05:08.567274",
     "exception": false,
     "start_time": "2023-08-09T07:05:08.459577",
     "status": "completed"
    },
    "tags": []
   },
   "outputs": [
    {
     "data": {
      "text/plain": [
       "\"Used 'groupby' function instead on 'drop_duplicates' on movies.csv file. \\nIt reduced the number of missing values significantly! \\nThen used LogisticRegression() with GridSearchCV on submit_v4 function with \\nparam_grid={'model__C': [1, 5, 10], 'model__solver': ['lbfgs', 'liblinear', 'saga']}. \\nThe best f1_micro score in GridSearchCV was 0.8399771362056203 which is highest among \\nall the versions so far. Best C was 5 and best solver was 'saga'.\\nScore obtained was 0.84385 which is lower than 0.84441.\""
      ]
     },
     "execution_count": 134,
     "metadata": {},
     "output_type": "execute_result"
    }
   ],
   "source": [
    "# submit_v4(selected_features=all_dict, param_grid=param_grid)\n",
    "\n",
    "# Best C was 5\n",
    "# Best solver was liblinear\n",
    "\n",
    "\"\"\"Used 'groupby' function instead on 'drop_duplicates' on movies.csv file. \n",
    "It reduced the number of missing values significantly! \n",
    "Then used LogisticRegression() with GridSearchCV on submit_v4 function with \n",
    "param_grid={'model__C': [1, 5, 10], 'model__solver': ['lbfgs', 'liblinear', 'saga']}. \n",
    "The best f1_micro score in GridSearchCV was 0.8399771362056203 which is highest among \n",
    "all the versions so far. Best C was 5 and best solver was 'saga'.\n",
    "Score obtained was 0.84385 which is lower than 0.84441.\"\"\""
   ]
  },
  {
   "cell_type": "code",
   "execution_count": 135,
   "id": "a300a3d5",
   "metadata": {
    "execution": {
     "iopub.execute_input": "2023-08-09T07:05:08.763922Z",
     "iopub.status.busy": "2023-08-09T07:05:08.762916Z",
     "iopub.status.idle": "2023-08-09T07:05:08.771230Z",
     "shell.execute_reply": "2023-08-09T07:05:08.770141Z"
    },
    "papermill": {
     "duration": 0.108972,
     "end_time": "2023-08-09T07:05:08.773567",
     "exception": false,
     "start_time": "2023-08-09T07:05:08.664595",
     "status": "completed"
    },
    "tags": []
   },
   "outputs": [
    {
     "data": {
      "text/plain": [
       "{'num': ['audienceScore'],\n",
       " 'txt': ['reviewText', 'reviewerName', 'movieid', 'director']}"
      ]
     },
     "execution_count": 135,
     "metadata": {},
     "output_type": "execute_result"
    }
   ],
   "source": [
    "# Best 5 parameters\n",
    "\n",
    "best5_dict = {'num': [\"audienceScore\"],\n",
    "             'txt': ['reviewText', 'reviewerName','movieid', 'director']}\n",
    "\n",
    "best5_dict"
   ]
  },
  {
   "cell_type": "code",
   "execution_count": 136,
   "id": "48c32b8c",
   "metadata": {
    "execution": {
     "iopub.execute_input": "2023-08-09T07:05:08.971159Z",
     "iopub.status.busy": "2023-08-09T07:05:08.970741Z",
     "iopub.status.idle": "2023-08-09T07:05:08.977803Z",
     "shell.execute_reply": "2023-08-09T07:05:08.976296Z"
    },
    "papermill": {
     "duration": 0.109369,
     "end_time": "2023-08-09T07:05:08.980075",
     "exception": false,
     "start_time": "2023-08-09T07:05:08.870706",
     "status": "completed"
    },
    "tags": []
   },
   "outputs": [],
   "source": [
    "# Submit best 5 features\n",
    "\n",
    "\"\"\"(Update): Used both CountVectorizer and TfidfVectorizer on a massive GridSearchCV \n",
    "which took 22527.2s  (6.25 hrs) to run! Gave a score of 0.8439093822800923 locally and did not overfit!\n",
    "Best params: {'model__C': 1, 'model__solver': 'liblinear'}.\n",
    "Highest public score yet: 0.84591 (Rank up from 9 to 5!)\"\"\"\n",
    "\n",
    "# param_grid = {\n",
    "#     'model__C' : [5, 10, 15],\n",
    "#     'model__solver': ['lbfgs', 'liblinear', 'saga']\n",
    "# }\n",
    "\n",
    "\n",
    "# Try new param_grid with fit_intercept and dual in logreg\n",
    "\n",
    "param_grid = {\n",
    "    'model__C' : [1],\n",
    "    'model__solver': ['liblinear'],\n",
    "    \"model__fit_intercept\" : [True, False],\n",
    "    \"model__dual\" : [True, False] \n",
    "}\n",
    "\n",
    "\n",
    "# Local testing  \n",
    "# submit_v4(selected_features={'num': ['audienceScore']},\n",
    "#          add_countvec=True)\n",
    "\n",
    "# submit_v4(selected_features={'num': ['audienceScore']},\n",
    "#          add_countvec=True, \n",
    "#           param_grid=param_grid)\n",
    "\n",
    "\n",
    "# Main submission\n",
    "\n",
    "# submit_v4(selected_features=best5_dict,\n",
    "#          add_countvec=True)\n",
    "\n",
    "\n",
    "# submit_v4(selected_features=best5_dict,\n",
    "#           add_countvec=True,\n",
    "#           param_grid=param_grid)"
   ]
  },
  {
   "cell_type": "code",
   "execution_count": 137,
   "id": "12a8a535",
   "metadata": {
    "execution": {
     "iopub.execute_input": "2023-08-09T07:05:09.177775Z",
     "iopub.status.busy": "2023-08-09T07:05:09.177315Z",
     "iopub.status.idle": "2023-08-09T07:05:09.185152Z",
     "shell.execute_reply": "2023-08-09T07:05:09.184025Z"
    },
    "papermill": {
     "duration": 0.109908,
     "end_time": "2023-08-09T07:05:09.187757",
     "exception": false,
     "start_time": "2023-08-09T07:05:09.077849",
     "status": "completed"
    },
    "tags": []
   },
   "outputs": [
    {
     "name": "stdout",
     "output_type": "stream",
     "text": [
      "{'cat': ['isFrequentReviewer', 'rating', 'originalLanguage'], 'num': ['audienceScore', 'runtimeMinutes', 'boxOffice'], 'txt': ['reviewText', 'reviewerName', 'movieid', 'genre', 'director']}\n"
     ]
    }
   ],
   "source": [
    "## ALL DICT cv=10\n",
    "\n",
    "all_dict = {'cat': [\"isFrequentReviewer\", \"rating\", \"originalLanguage\"],\n",
    "             'num': [\"audienceScore\", \"runtimeMinutes\", \"boxOffice\"],\n",
    "             'txt': ['reviewText', 'reviewerName', 'movieid', 'genre', 'director']}\n",
    "print(all_dict)\n",
    "\n",
    "# param_grid = {\n",
    "#     'model__C' : [2, 5, 10],\n",
    "#     'model__solver': ['lbfgs', 'liblinear', 'saga']\n",
    "# }\n",
    "# print(param_grid)\n",
    "\n",
    "param_grid = {\n",
    "    'model__C' : [1, 5, 10],\n",
    "    'model__solver': ['liblinear'],\n",
    "    \"model__fit_intercept\" : [True, False],\n",
    "    \"model__dual\" : [True, False] \n",
    "}\n",
    "\n",
    "\n",
    "# Main submission\n",
    "\n",
    "# submit_v4(selected_model=LogisticRegression(C=5, solver='liblinear', max_iter=10000),\n",
    "#           selected_features=all_dict,\n",
    "#           param_grid=param_grid)\n",
    "\n",
    "# submit_v4(selected_features=all_dict,\n",
    "#           add_countvec=True,\n",
    "#           param_grid=param_grid)"
   ]
  },
  {
   "cell_type": "code",
   "execution_count": 138,
   "id": "90c86289",
   "metadata": {
    "execution": {
     "iopub.execute_input": "2023-08-09T07:05:09.387065Z",
     "iopub.status.busy": "2023-08-09T07:05:09.386661Z",
     "iopub.status.idle": "2023-08-09T07:05:09.394856Z",
     "shell.execute_reply": "2023-08-09T07:05:09.393759Z"
    },
    "papermill": {
     "duration": 0.110181,
     "end_time": "2023-08-09T07:05:09.397098",
     "exception": false,
     "start_time": "2023-08-09T07:05:09.286917",
     "status": "completed"
    },
    "tags": []
   },
   "outputs": [
    {
     "data": {
      "text/plain": [
       "{'num': ['audienceScore'],\n",
       " 'txt': ['reviewText', 'reviewerName', 'genre', 'movieid', 'director']}"
      ]
     },
     "execution_count": 138,
     "metadata": {},
     "output_type": "execute_result"
    }
   ],
   "source": [
    "# Best 6 parameters\n",
    "\n",
    "# best6_dict = {'cat': [\"isFrequentReviewer\"],\n",
    "#              'num': [\"audienceScore\"],\n",
    "#              'txt': ['reviewText', 'reviewerName', 'genre', 'director']}\n",
    "\n",
    "best6_dict = {'num': [\"audienceScore\"],\n",
    "             'txt': ['reviewText', 'reviewerName', 'genre','movieid', 'director']}\n",
    "\n",
    "best6_dict"
   ]
  },
  {
   "cell_type": "code",
   "execution_count": 139,
   "id": "fe52d03c",
   "metadata": {
    "execution": {
     "iopub.execute_input": "2023-08-09T07:05:09.593816Z",
     "iopub.status.busy": "2023-08-09T07:05:09.593438Z",
     "iopub.status.idle": "2023-08-09T07:05:09.597807Z",
     "shell.execute_reply": "2023-08-09T07:05:09.596691Z"
    },
    "papermill": {
     "duration": 0.105239,
     "end_time": "2023-08-09T07:05:09.599942",
     "exception": false,
     "start_time": "2023-08-09T07:05:09.494703",
     "status": "completed"
    },
    "tags": []
   },
   "outputs": [],
   "source": [
    "# Submit best 6 features (version 2)\n",
    "\n",
    "# submit_v4(selected_features=best6_dict,\n",
    "#           param_grid=param_grid)"
   ]
  },
  {
   "cell_type": "code",
   "execution_count": 140,
   "id": "04259aa3",
   "metadata": {
    "execution": {
     "iopub.execute_input": "2023-08-09T07:05:09.796057Z",
     "iopub.status.busy": "2023-08-09T07:05:09.795630Z",
     "iopub.status.idle": "2023-08-09T07:05:09.803157Z",
     "shell.execute_reply": "2023-08-09T07:05:09.802146Z"
    },
    "papermill": {
     "duration": 0.10805,
     "end_time": "2023-08-09T07:05:09.805259",
     "exception": false,
     "start_time": "2023-08-09T07:05:09.697209",
     "status": "completed"
    },
    "tags": []
   },
   "outputs": [
    {
     "data": {
      "text/plain": [
       "{'cat': ['isFrequentReviewer'],\n",
       " 'num': ['audienceScore'],\n",
       " 'txt': ['reviewText', 'reviewerName', 'movieid', 'genre', 'director']}"
      ]
     },
     "execution_count": 140,
     "metadata": {},
     "output_type": "execute_result"
    }
   ],
   "source": [
    "# Best 7 parameters\n",
    "\n",
    "best7_dict = {'cat': [\"isFrequentReviewer\"],\n",
    "             'num': [\"audienceScore\"],\n",
    "             'txt': ['reviewText', 'reviewerName', 'movieid', 'genre', 'director']}\n",
    "best7_dict"
   ]
  },
  {
   "cell_type": "code",
   "execution_count": 141,
   "id": "f9d82e82",
   "metadata": {
    "execution": {
     "iopub.execute_input": "2023-08-09T07:05:10.002857Z",
     "iopub.status.busy": "2023-08-09T07:05:10.001768Z",
     "iopub.status.idle": "2023-08-09T07:05:10.006768Z",
     "shell.execute_reply": "2023-08-09T07:05:10.005687Z"
    },
    "papermill": {
     "duration": 0.105462,
     "end_time": "2023-08-09T07:05:10.008994",
     "exception": false,
     "start_time": "2023-08-09T07:05:09.903532",
     "status": "completed"
    },
    "tags": []
   },
   "outputs": [],
   "source": [
    "# Submit best 7 features\n",
    "\n",
    "# submit_v4(selected_features=best7_dict,\n",
    "#           param_grid=param_grid)"
   ]
  },
  {
   "cell_type": "code",
   "execution_count": 142,
   "id": "a6e4d2fb",
   "metadata": {
    "execution": {
     "iopub.execute_input": "2023-08-09T07:05:10.206401Z",
     "iopub.status.busy": "2023-08-09T07:05:10.206010Z",
     "iopub.status.idle": "2023-08-09T07:05:10.210229Z",
     "shell.execute_reply": "2023-08-09T07:05:10.209434Z"
    },
    "papermill": {
     "duration": 0.106228,
     "end_time": "2023-08-09T07:05:10.212401",
     "exception": false,
     "start_time": "2023-08-09T07:05:10.106173",
     "status": "completed"
    },
    "tags": []
   },
   "outputs": [],
   "source": [
    "# submit_v4(selected_features=best6_dict, param_grid=param_grid)"
   ]
  },
  {
   "cell_type": "markdown",
   "id": "03104a24",
   "metadata": {
    "papermill": {
     "duration": 0.097458,
     "end_time": "2023-08-09T07:05:10.408258",
     "exception": false,
     "start_time": "2023-08-09T07:05:10.310800",
     "status": "completed"
    },
    "tags": []
   },
   "source": [
    "## Try a new feature dict  \n",
    "\n"
   ]
  },
  {
   "cell_type": "code",
   "execution_count": 143,
   "id": "7166aa31",
   "metadata": {
    "execution": {
     "iopub.execute_input": "2023-08-09T07:05:10.604836Z",
     "iopub.status.busy": "2023-08-09T07:05:10.604456Z",
     "iopub.status.idle": "2023-08-09T07:05:10.612564Z",
     "shell.execute_reply": "2023-08-09T07:05:10.611493Z"
    },
    "papermill": {
     "duration": 0.109346,
     "end_time": "2023-08-09T07:05:10.615046",
     "exception": false,
     "start_time": "2023-08-09T07:05:10.505700",
     "status": "completed"
    },
    "tags": []
   },
   "outputs": [
    {
     "data": {
      "text/plain": [
       "{'cat': ['isFrequentReviewer', 'rating', 'originalLanguage'],\n",
       " 'num': ['audienceScore', 'runtimeMinutes', 'boxOffice'],\n",
       " 'txt': ['reviewText', 'reviewerName', 'movieid', 'genre', 'director']}"
      ]
     },
     "execution_count": 143,
     "metadata": {},
     "output_type": "execute_result"
    }
   ],
   "source": [
    "all_dict_new = {'cat': [\"isFrequentReviewer\", \"rating\", \"originalLanguage\"],\n",
    "             'num': [\"audienceScore\", \"runtimeMinutes\", \"boxOffice\"],\n",
    "             'txt': ['reviewText', \"reviewerName\", 'movieid', 'genre', 'director']}\n",
    "all_dict_new"
   ]
  },
  {
   "cell_type": "code",
   "execution_count": 144,
   "id": "8ca1928e",
   "metadata": {
    "execution": {
     "iopub.execute_input": "2023-08-09T07:05:10.811405Z",
     "iopub.status.busy": "2023-08-09T07:05:10.810985Z",
     "iopub.status.idle": "2023-08-09T07:05:10.815343Z",
     "shell.execute_reply": "2023-08-09T07:05:10.814310Z"
    },
    "papermill": {
     "duration": 0.105029,
     "end_time": "2023-08-09T07:05:10.817445",
     "exception": false,
     "start_time": "2023-08-09T07:05:10.712416",
     "status": "completed"
    },
    "tags": []
   },
   "outputs": [],
   "source": [
    "# submit_v4(selected_features={'txt': ['genre']}, param_grid=param_grid)"
   ]
  },
  {
   "cell_type": "code",
   "execution_count": 145,
   "id": "0981b56b",
   "metadata": {
    "execution": {
     "iopub.execute_input": "2023-08-09T07:05:11.014845Z",
     "iopub.status.busy": "2023-08-09T07:05:11.014422Z",
     "iopub.status.idle": "2023-08-09T07:05:11.018661Z",
     "shell.execute_reply": "2023-08-09T07:05:11.017721Z"
    },
    "papermill": {
     "duration": 0.10538,
     "end_time": "2023-08-09T07:05:11.020650",
     "exception": false,
     "start_time": "2023-08-09T07:05:10.915270",
     "status": "completed"
    },
    "tags": []
   },
   "outputs": [],
   "source": [
    "# submit_v4(selected_features=all_dict_new, param_grid=param_grid)"
   ]
  },
  {
   "cell_type": "code",
   "execution_count": 146,
   "id": "03923e4e",
   "metadata": {
    "execution": {
     "iopub.execute_input": "2023-08-09T07:05:11.220062Z",
     "iopub.status.busy": "2023-08-09T07:05:11.219645Z",
     "iopub.status.idle": "2023-08-09T07:05:11.226766Z",
     "shell.execute_reply": "2023-08-09T07:05:11.225996Z"
    },
    "papermill": {
     "duration": 0.108398,
     "end_time": "2023-08-09T07:05:11.228679",
     "exception": false,
     "start_time": "2023-08-09T07:05:11.120281",
     "status": "completed"
    },
    "tags": []
   },
   "outputs": [
    {
     "data": {
      "text/plain": [
       "{'cat': ['isFrequentReviewer', 'rating', 'originalLanguage'],\n",
       " 'num': ['audienceScore', 'runtimeMinutes', 'boxOffice']}"
      ]
     },
     "execution_count": 146,
     "metadata": {},
     "output_type": "execute_result"
    }
   ],
   "source": [
    "# Try non-text based columns\n",
    "num_cat_dict = {'cat': ['isFrequentReviewer', 'rating', 'originalLanguage'],\n",
    " 'num': ['audienceScore', 'runtimeMinutes', 'boxOffice']}\n",
    "num_cat_dict"
   ]
  },
  {
   "cell_type": "code",
   "execution_count": 147,
   "id": "e5b4a21a",
   "metadata": {
    "execution": {
     "iopub.execute_input": "2023-08-09T07:05:11.429726Z",
     "iopub.status.busy": "2023-08-09T07:05:11.429283Z",
     "iopub.status.idle": "2023-08-09T07:05:11.433975Z",
     "shell.execute_reply": "2023-08-09T07:05:11.433090Z"
    },
    "papermill": {
     "duration": 0.107619,
     "end_time": "2023-08-09T07:05:11.436188",
     "exception": false,
     "start_time": "2023-08-09T07:05:11.328569",
     "status": "completed"
    },
    "tags": []
   },
   "outputs": [],
   "source": [
    "# Use num_cat_dict features\n",
    "# (Update): Gets a local score of 0.7027181356991726. Not great.\n",
    "# submit_v4(selected_model=LogisticRegression(max_iter=100000), selected_features=num_cat_dict, param_grid=param_grid)"
   ]
  },
  {
   "cell_type": "code",
   "execution_count": 148,
   "id": "4d2f267a",
   "metadata": {
    "execution": {
     "iopub.execute_input": "2023-08-09T07:05:11.634956Z",
     "iopub.status.busy": "2023-08-09T07:05:11.634579Z",
     "iopub.status.idle": "2023-08-09T07:05:11.642161Z",
     "shell.execute_reply": "2023-08-09T07:05:11.641085Z"
    },
    "papermill": {
     "duration": 0.109485,
     "end_time": "2023-08-09T07:05:11.644530",
     "exception": false,
     "start_time": "2023-08-09T07:05:11.535045",
     "status": "completed"
    },
    "tags": []
   },
   "outputs": [
    {
     "data": {
      "text/plain": [
       "{'cat': ['rating', 'originalLanguage'],\n",
       " 'num': ['audienceScore', 'runtimeMinutes', 'boxOffice'],\n",
       " 'txt': ['movieid', 'genre', 'director']}"
      ]
     },
     "execution_count": 148,
     "metadata": {},
     "output_type": "execute_result"
    }
   ],
   "source": [
    "# Try data other than reviewText\n",
    "\n",
    "mov_dict = {'cat': ['rating', 'originalLanguage'],\n",
    " 'num': ['audienceScore', 'runtimeMinutes', 'boxOffice'],\n",
    " 'txt': ['movieid', 'genre', 'director']}\n",
    "mov_dict"
   ]
  },
  {
   "cell_type": "code",
   "execution_count": 149,
   "id": "68f39dea",
   "metadata": {
    "execution": {
     "iopub.execute_input": "2023-08-09T07:05:11.848901Z",
     "iopub.status.busy": "2023-08-09T07:05:11.848516Z",
     "iopub.status.idle": "2023-08-09T07:05:11.852892Z",
     "shell.execute_reply": "2023-08-09T07:05:11.851860Z"
    },
    "papermill": {
     "duration": 0.112424,
     "end_time": "2023-08-09T07:05:11.855462",
     "exception": false,
     "start_time": "2023-08-09T07:05:11.743038",
     "status": "completed"
    },
    "tags": []
   },
   "outputs": [],
   "source": [
    "# Use mov_dict features\n",
    "# (Update): Gets a local score of 0.7475454316469369, which is not bad at all.\n",
    "# submit_v4(selected_model=LogisticRegression(max_iter=100000), selected_features=mov_dict, param_grid=param_grid)"
   ]
  },
  {
   "cell_type": "markdown",
   "id": "75d1af16",
   "metadata": {
    "papermill": {
     "duration": 0.097185,
     "end_time": "2023-08-09T07:05:12.051416",
     "exception": false,
     "start_time": "2023-08-09T07:05:11.954231",
     "status": "completed"
    },
    "tags": []
   },
   "source": [
    "# Try a new column 'reviewYN'  \n",
    "\n"
   ]
  },
  {
   "cell_type": "code",
   "execution_count": 150,
   "id": "e44ee217",
   "metadata": {
    "execution": {
     "iopub.execute_input": "2023-08-09T07:05:12.310144Z",
     "iopub.status.busy": "2023-08-09T07:05:12.309758Z",
     "iopub.status.idle": "2023-08-09T07:05:12.317043Z",
     "shell.execute_reply": "2023-08-09T07:05:12.316207Z"
    },
    "papermill": {
     "duration": 0.110213,
     "end_time": "2023-08-09T07:05:12.319262",
     "exception": false,
     "start_time": "2023-08-09T07:05:12.209049",
     "status": "completed"
    },
    "tags": []
   },
   "outputs": [
    {
     "data": {
      "text/plain": [
       "{'cat': ['isFrequentReviewer', 'rating', 'originalLanguage', 'reviewYN'],\n",
       " 'num': ['audienceScore', 'runtimeMinutes', 'boxOffice'],\n",
       " 'txt': ['reviewText', 'reviewerName', 'movieid', 'genre', 'director']}"
      ]
     },
     "execution_count": 150,
     "metadata": {},
     "output_type": "execute_result"
    }
   ],
   "source": [
    "all_dict_3 = {'cat': [\"isFrequentReviewer\", \"rating\", \"originalLanguage\", \"reviewYN\"],\n",
    "             'num': [\"audienceScore\", \"runtimeMinutes\", \"boxOffice\"],\n",
    "             'txt': ['reviewText', \"reviewerName\", 'movieid', 'genre', 'director']}\n",
    "all_dict_3"
   ]
  },
  {
   "cell_type": "code",
   "execution_count": 151,
   "id": "ede007e9",
   "metadata": {
    "execution": {
     "iopub.execute_input": "2023-08-09T07:05:12.520499Z",
     "iopub.status.busy": "2023-08-09T07:05:12.519462Z",
     "iopub.status.idle": "2023-08-09T07:05:12.523760Z",
     "shell.execute_reply": "2023-08-09T07:05:12.522971Z"
    },
    "papermill": {
     "duration": 0.107023,
     "end_time": "2023-08-09T07:05:12.525828",
     "exception": false,
     "start_time": "2023-08-09T07:05:12.418805",
     "status": "completed"
    },
    "tags": []
   },
   "outputs": [],
   "source": [
    "# submit_v4(selected_model=LogisticRegression(max_iter=100000),\n",
    "#          selected_features=all_dict_3, \n",
    "#           param_grid=param_grid)"
   ]
  },
  {
   "cell_type": "markdown",
   "id": "d27e23f0",
   "metadata": {
    "papermill": {
     "duration": 0.098432,
     "end_time": "2023-08-09T07:05:12.723161",
     "exception": false,
     "start_time": "2023-08-09T07:05:12.624729",
     "status": "completed"
    },
    "tags": []
   },
   "source": [
    "## Try LinearSVC with GridSearchCV  "
   ]
  },
  {
   "cell_type": "code",
   "execution_count": 152,
   "id": "4b0e5d15",
   "metadata": {
    "execution": {
     "iopub.execute_input": "2023-08-09T07:05:12.924852Z",
     "iopub.status.busy": "2023-08-09T07:05:12.924333Z",
     "iopub.status.idle": "2023-08-09T07:05:12.931712Z",
     "shell.execute_reply": "2023-08-09T07:05:12.930609Z"
    },
    "papermill": {
     "duration": 0.111975,
     "end_time": "2023-08-09T07:05:12.933974",
     "exception": false,
     "start_time": "2023-08-09T07:05:12.821999",
     "status": "completed"
    },
    "tags": []
   },
   "outputs": [
    {
     "data": {
      "text/plain": [
       "{'model__C': [0.1, 1, 10, 100]}"
      ]
     },
     "execution_count": 152,
     "metadata": {},
     "output_type": "execute_result"
    }
   ],
   "source": [
    "param_grid_svc = {\n",
    "    \"model__C\": [0.1, 1, 10, 100]\n",
    "}\n",
    "param_grid_svc"
   ]
  },
  {
   "cell_type": "code",
   "execution_count": 153,
   "id": "d081b37f",
   "metadata": {
    "execution": {
     "iopub.execute_input": "2023-08-09T07:05:13.153811Z",
     "iopub.status.busy": "2023-08-09T07:05:13.153115Z",
     "iopub.status.idle": "2023-08-09T07:05:13.157992Z",
     "shell.execute_reply": "2023-08-09T07:05:13.156956Z"
    },
    "papermill": {
     "duration": 0.108217,
     "end_time": "2023-08-09T07:05:13.160136",
     "exception": false,
     "start_time": "2023-08-09T07:05:13.051919",
     "status": "completed"
    },
    "tags": []
   },
   "outputs": [],
   "source": [
    "# submit_v4(selected_model=LinearSVC(max_iter=100000, random_state=42), selected_features={'num': [\"audienceScore\"]}, param_grid=param_grid_svc)\n",
    "\n",
    "# Comment: LinearSVC even on single column feature set takes too long to converge."
   ]
  },
  {
   "cell_type": "code",
   "execution_count": 154,
   "id": "a979345a",
   "metadata": {
    "execution": {
     "iopub.execute_input": "2023-08-09T07:05:13.364721Z",
     "iopub.status.busy": "2023-08-09T07:05:13.364325Z",
     "iopub.status.idle": "2023-08-09T07:05:13.368744Z",
     "shell.execute_reply": "2023-08-09T07:05:13.367593Z"
    },
    "papermill": {
     "duration": 0.111771,
     "end_time": "2023-08-09T07:05:13.370973",
     "exception": false,
     "start_time": "2023-08-09T07:05:13.259202",
     "status": "completed"
    },
    "tags": []
   },
   "outputs": [],
   "source": [
    "# Throw everything at LinearSVC and hope for it to complete!\n",
    "# (Update): This took 66 mins to run and gave a public score of 0.84295 (lesser than logreg gridsearchcv wwhich gave 0.84441). Best C was 1.0.\n",
    "\n",
    "# submit_v4(selected_model=LinearSVC(max_iter=100000, random_state=42), selected_features=all_dict, param_grid=param_grid_svc)\n"
   ]
  },
  {
   "cell_type": "code",
   "execution_count": 155,
   "id": "2f654ec3",
   "metadata": {
    "execution": {
     "iopub.execute_input": "2023-08-09T07:05:13.569662Z",
     "iopub.status.busy": "2023-08-09T07:05:13.569273Z",
     "iopub.status.idle": "2023-08-09T07:05:13.576868Z",
     "shell.execute_reply": "2023-08-09T07:05:13.575678Z"
    },
    "papermill": {
     "duration": 0.11026,
     "end_time": "2023-08-09T07:05:13.579322",
     "exception": false,
     "start_time": "2023-08-09T07:05:13.469062",
     "status": "completed"
    },
    "tags": []
   },
   "outputs": [
    {
     "data": {
      "text/plain": [
       "{'model__C': [1.0],\n",
       " 'model__loss': ['hinge', 'squared_hinge'],\n",
       " 'model__class_weight': ['balanced', None]}"
      ]
     },
     "execution_count": 155,
     "metadata": {},
     "output_type": "execute_result"
    }
   ],
   "source": [
    "param_grid_svc_2 = {\n",
    "    'model__C': [1.0],\n",
    "    'model__loss': ['hinge', 'squared_hinge'],\n",
    "    'model__class_weight': ['balanced', None]\n",
    "}\n",
    "param_grid_svc_2"
   ]
  },
  {
   "cell_type": "code",
   "execution_count": 156,
   "id": "f7c14573",
   "metadata": {
    "execution": {
     "iopub.execute_input": "2023-08-09T07:05:13.781880Z",
     "iopub.status.busy": "2023-08-09T07:05:13.780842Z",
     "iopub.status.idle": "2023-08-09T07:05:13.785878Z",
     "shell.execute_reply": "2023-08-09T07:05:13.784851Z"
    },
    "papermill": {
     "duration": 0.108758,
     "end_time": "2023-08-09T07:05:13.788197",
     "exception": false,
     "start_time": "2023-08-09T07:05:13.679439",
     "status": "completed"
    },
    "tags": []
   },
   "outputs": [],
   "source": [
    "# submit_v4(selected_model=LinearSVC(max_iter=100000, random_state=42), selected_features={'num': [\"audienceScore\"]}, param_grid=param_grid_svc_2)"
   ]
  },
  {
   "cell_type": "code",
   "execution_count": 157,
   "id": "c6f8000b",
   "metadata": {
    "execution": {
     "iopub.execute_input": "2023-08-09T07:05:13.987503Z",
     "iopub.status.busy": "2023-08-09T07:05:13.987099Z",
     "iopub.status.idle": "2023-08-09T07:05:13.991432Z",
     "shell.execute_reply": "2023-08-09T07:05:13.990189Z"
    },
    "papermill": {
     "duration": 0.106807,
     "end_time": "2023-08-09T07:05:13.993793",
     "exception": false,
     "start_time": "2023-08-09T07:05:13.886986",
     "status": "completed"
    },
    "tags": []
   },
   "outputs": [],
   "source": [
    "# submit_v4(selected_model=LinearSVC(max_iter=100000, random_state=42), selected_features=all_dict, param_grid=param_grid_svc_2)"
   ]
  },
  {
   "cell_type": "markdown",
   "id": "f736fdc8",
   "metadata": {
    "papermill": {
     "duration": 0.097846,
     "end_time": "2023-08-09T07:05:14.191734",
     "exception": false,
     "start_time": "2023-08-09T07:05:14.093888",
     "status": "completed"
    },
    "tags": []
   },
   "source": [
    "## Try Boosting techniques  "
   ]
  },
  {
   "cell_type": "code",
   "execution_count": 158,
   "id": "eda83601",
   "metadata": {
    "execution": {
     "iopub.execute_input": "2023-08-09T07:05:14.393737Z",
     "iopub.status.busy": "2023-08-09T07:05:14.393298Z",
     "iopub.status.idle": "2023-08-09T07:05:14.404943Z",
     "shell.execute_reply": "2023-08-09T07:05:14.403942Z"
    },
    "papermill": {
     "duration": 0.116256,
     "end_time": "2023-08-09T07:05:14.407155",
     "exception": false,
     "start_time": "2023-08-09T07:05:14.290899",
     "status": "completed"
    },
    "tags": []
   },
   "outputs": [
    {
     "data": {
      "text/html": [
       "<style>#sk-container-id-13 {color: black;background-color: white;}#sk-container-id-13 pre{padding: 0;}#sk-container-id-13 div.sk-toggleable {background-color: white;}#sk-container-id-13 label.sk-toggleable__label {cursor: pointer;display: block;width: 100%;margin-bottom: 0;padding: 0.3em;box-sizing: border-box;text-align: center;}#sk-container-id-13 label.sk-toggleable__label-arrow:before {content: \"▸\";float: left;margin-right: 0.25em;color: #696969;}#sk-container-id-13 label.sk-toggleable__label-arrow:hover:before {color: black;}#sk-container-id-13 div.sk-estimator:hover label.sk-toggleable__label-arrow:before {color: black;}#sk-container-id-13 div.sk-toggleable__content {max-height: 0;max-width: 0;overflow: hidden;text-align: left;background-color: #f0f8ff;}#sk-container-id-13 div.sk-toggleable__content pre {margin: 0.2em;color: black;border-radius: 0.25em;background-color: #f0f8ff;}#sk-container-id-13 input.sk-toggleable__control:checked~div.sk-toggleable__content {max-height: 200px;max-width: 100%;overflow: auto;}#sk-container-id-13 input.sk-toggleable__control:checked~label.sk-toggleable__label-arrow:before {content: \"▾\";}#sk-container-id-13 div.sk-estimator input.sk-toggleable__control:checked~label.sk-toggleable__label {background-color: #d4ebff;}#sk-container-id-13 div.sk-label input.sk-toggleable__control:checked~label.sk-toggleable__label {background-color: #d4ebff;}#sk-container-id-13 input.sk-hidden--visually {border: 0;clip: rect(1px 1px 1px 1px);clip: rect(1px, 1px, 1px, 1px);height: 1px;margin: -1px;overflow: hidden;padding: 0;position: absolute;width: 1px;}#sk-container-id-13 div.sk-estimator {font-family: monospace;background-color: #f0f8ff;border: 1px dotted black;border-radius: 0.25em;box-sizing: border-box;margin-bottom: 0.5em;}#sk-container-id-13 div.sk-estimator:hover {background-color: #d4ebff;}#sk-container-id-13 div.sk-parallel-item::after {content: \"\";width: 100%;border-bottom: 1px solid gray;flex-grow: 1;}#sk-container-id-13 div.sk-label:hover label.sk-toggleable__label {background-color: #d4ebff;}#sk-container-id-13 div.sk-serial::before {content: \"\";position: absolute;border-left: 1px solid gray;box-sizing: border-box;top: 0;bottom: 0;left: 50%;z-index: 0;}#sk-container-id-13 div.sk-serial {display: flex;flex-direction: column;align-items: center;background-color: white;padding-right: 0.2em;padding-left: 0.2em;position: relative;}#sk-container-id-13 div.sk-item {position: relative;z-index: 1;}#sk-container-id-13 div.sk-parallel {display: flex;align-items: stretch;justify-content: center;background-color: white;position: relative;}#sk-container-id-13 div.sk-item::before, #sk-container-id-13 div.sk-parallel-item::before {content: \"\";position: absolute;border-left: 1px solid gray;box-sizing: border-box;top: 0;bottom: 0;left: 50%;z-index: -1;}#sk-container-id-13 div.sk-parallel-item {display: flex;flex-direction: column;z-index: 1;position: relative;background-color: white;}#sk-container-id-13 div.sk-parallel-item:first-child::after {align-self: flex-end;width: 50%;}#sk-container-id-13 div.sk-parallel-item:last-child::after {align-self: flex-start;width: 50%;}#sk-container-id-13 div.sk-parallel-item:only-child::after {width: 0;}#sk-container-id-13 div.sk-dashed-wrapped {border: 1px dashed gray;margin: 0 0.4em 0.5em 0.4em;box-sizing: border-box;padding-bottom: 0.4em;background-color: white;}#sk-container-id-13 div.sk-label label {font-family: monospace;font-weight: bold;display: inline-block;line-height: 1.2em;}#sk-container-id-13 div.sk-label-container {text-align: center;}#sk-container-id-13 div.sk-container {/* jupyter's `normalize.less` sets `[hidden] { display: none; }` but bootstrap.min.css set `[hidden] { display: none !important; }` so we also need the `!important` here to be able to override the default hidden behavior on the sphinx rendered scikit-learn.org. See: https://github.com/scikit-learn/scikit-learn/issues/21755 */display: inline-block !important;position: relative;}#sk-container-id-13 div.sk-text-repr-fallback {display: none;}</style><div id=\"sk-container-id-13\" class=\"sk-top-container\"><div class=\"sk-text-repr-fallback\"><pre>AdaBoostClassifier(estimator=LogisticRegression(C=5, max_iter=100000,\n",
       "                                                solver=&#x27;saga&#x27;))</pre><b>In a Jupyter environment, please rerun this cell to show the HTML representation or trust the notebook. <br />On GitHub, the HTML representation is unable to render, please try loading this page with nbviewer.org.</b></div><div class=\"sk-container\" hidden><div class=\"sk-item sk-dashed-wrapped\"><div class=\"sk-label-container\"><div class=\"sk-label sk-toggleable\"><input class=\"sk-toggleable__control sk-hidden--visually\" id=\"sk-estimator-id-60\" type=\"checkbox\" ><label for=\"sk-estimator-id-60\" class=\"sk-toggleable__label sk-toggleable__label-arrow\">AdaBoostClassifier</label><div class=\"sk-toggleable__content\"><pre>AdaBoostClassifier(estimator=LogisticRegression(C=5, max_iter=100000,\n",
       "                                                solver=&#x27;saga&#x27;))</pre></div></div></div><div class=\"sk-parallel\"><div class=\"sk-parallel-item\"><div class=\"sk-item\"><div class=\"sk-label-container\"><div class=\"sk-label sk-toggleable\"><input class=\"sk-toggleable__control sk-hidden--visually\" id=\"sk-estimator-id-61\" type=\"checkbox\" ><label for=\"sk-estimator-id-61\" class=\"sk-toggleable__label sk-toggleable__label-arrow\">estimator: LogisticRegression</label><div class=\"sk-toggleable__content\"><pre>LogisticRegression(C=5, max_iter=100000, solver=&#x27;saga&#x27;)</pre></div></div></div><div class=\"sk-serial\"><div class=\"sk-item\"><div class=\"sk-estimator sk-toggleable\"><input class=\"sk-toggleable__control sk-hidden--visually\" id=\"sk-estimator-id-62\" type=\"checkbox\" ><label for=\"sk-estimator-id-62\" class=\"sk-toggleable__label sk-toggleable__label-arrow\">LogisticRegression</label><div class=\"sk-toggleable__content\"><pre>LogisticRegression(C=5, max_iter=100000, solver=&#x27;saga&#x27;)</pre></div></div></div></div></div></div></div></div></div></div>"
      ],
      "text/plain": [
       "AdaBoostClassifier(estimator=LogisticRegression(C=5, max_iter=100000,\n",
       "                                                solver='saga'))"
      ]
     },
     "execution_count": 158,
     "metadata": {},
     "output_type": "execute_result"
    }
   ],
   "source": [
    "adc = AdaBoostClassifier(estimator=LogisticRegression(C=5, solver=\"saga\", max_iter=100000), n_estimators=50)\n",
    "adc"
   ]
  },
  {
   "cell_type": "code",
   "execution_count": 159,
   "id": "d11704c4",
   "metadata": {
    "execution": {
     "iopub.execute_input": "2023-08-09T07:05:14.609494Z",
     "iopub.status.busy": "2023-08-09T07:05:14.608787Z",
     "iopub.status.idle": "2023-08-09T07:05:14.612612Z",
     "shell.execute_reply": "2023-08-09T07:05:14.611932Z"
    },
    "papermill": {
     "duration": 0.106213,
     "end_time": "2023-08-09T07:05:14.614580",
     "exception": false,
     "start_time": "2023-08-09T07:05:14.508367",
     "status": "completed"
    },
    "tags": []
   },
   "outputs": [],
   "source": [
    "# submit_v4(selected_model=adc, selected_features={'num': [\"audienceScore\"]}, param_grid=None)"
   ]
  },
  {
   "cell_type": "code",
   "execution_count": 160,
   "id": "4fe41131",
   "metadata": {
    "execution": {
     "iopub.execute_input": "2023-08-09T07:05:14.815078Z",
     "iopub.status.busy": "2023-08-09T07:05:14.814332Z",
     "iopub.status.idle": "2023-08-09T07:05:14.818173Z",
     "shell.execute_reply": "2023-08-09T07:05:14.817455Z"
    },
    "papermill": {
     "duration": 0.106307,
     "end_time": "2023-08-09T07:05:14.820149",
     "exception": false,
     "start_time": "2023-08-09T07:05:14.713842",
     "status": "completed"
    },
    "tags": []
   },
   "outputs": [],
   "source": [
    "# submit_v4(selected_model=adc, selected_features=all_dict, param_grid=None)\n",
    "\n",
    "# Took 1 hour 15 mins to run and gave a public score of only 0.71089. Discarded."
   ]
  },
  {
   "cell_type": "markdown",
   "id": "eb63ead0",
   "metadata": {
    "papermill": {
     "duration": 0.098896,
     "end_time": "2023-08-09T07:05:15.017736",
     "exception": false,
     "start_time": "2023-08-09T07:05:14.918840",
     "status": "completed"
    },
    "tags": []
   },
   "source": [
    "## Try LightGBM  "
   ]
  },
  {
   "cell_type": "code",
   "execution_count": 161,
   "id": "8297892e",
   "metadata": {
    "execution": {
     "iopub.execute_input": "2023-08-09T07:05:15.218857Z",
     "iopub.status.busy": "2023-08-09T07:05:15.218146Z",
     "iopub.status.idle": "2023-08-09T07:05:15.221857Z",
     "shell.execute_reply": "2023-08-09T07:05:15.221111Z"
    },
    "papermill": {
     "duration": 0.106426,
     "end_time": "2023-08-09T07:05:15.223869",
     "exception": false,
     "start_time": "2023-08-09T07:05:15.117443",
     "status": "completed"
    },
    "tags": []
   },
   "outputs": [],
   "source": [
    "# lgb = ltb.LGBMClassifier()\n",
    "# lgb"
   ]
  },
  {
   "cell_type": "code",
   "execution_count": 162,
   "id": "36bbfdfa",
   "metadata": {
    "execution": {
     "iopub.execute_input": "2023-08-09T07:05:15.426249Z",
     "iopub.status.busy": "2023-08-09T07:05:15.425530Z",
     "iopub.status.idle": "2023-08-09T07:05:15.429382Z",
     "shell.execute_reply": "2023-08-09T07:05:15.428679Z"
    },
    "papermill": {
     "duration": 0.108229,
     "end_time": "2023-08-09T07:05:15.431409",
     "exception": false,
     "start_time": "2023-08-09T07:05:15.323180",
     "status": "completed"
    },
    "tags": []
   },
   "outputs": [],
   "source": [
    "# Try LightGBM with default settings\n",
    "# (Update): Public score only 0.77713. It was fast, took less than 5 mins (without GridSearchCV)\n",
    "\n",
    "# submit_v4(selected_model=ltb.LGBMClassifier(), selected_features=all_dict, param_grid=None)"
   ]
  },
  {
   "cell_type": "markdown",
   "id": "50a0ec2b",
   "metadata": {
    "papermill": {
     "duration": 0.098671,
     "end_time": "2023-08-09T07:05:15.628491",
     "exception": false,
     "start_time": "2023-08-09T07:05:15.529820",
     "status": "completed"
    },
    "tags": []
   },
   "source": [
    "# Try feature selection and vocab fine tuning of reviewText column"
   ]
  },
  {
   "cell_type": "markdown",
   "id": "8727412c",
   "metadata": {
    "papermill": {
     "duration": 0.098145,
     "end_time": "2023-08-09T07:05:15.825088",
     "exception": false,
     "start_time": "2023-08-09T07:05:15.726943",
     "status": "completed"
    },
    "tags": []
   },
   "source": [
    "## Plan  \n",
    "* Add aa new column 'reviewWC' which has word count of 'reviewText'  \n",
    "    * Check if there is any relationship between 'reviewWC' and 'sentiment'\n",
    "* Work on vocabulary\n",
    "     * Use TfidfVectorizer and find out the vocabulary of 'reviewText' column for various ngrams\n",
    "     * Use RecursiveFeatureElimination (RFE) or RFECV to select 1000 top words/vocab for each ngram\n",
    "     * Use the final vocab (1000-3000 words) in the model and see how it performs compared to whole vocab\n"
   ]
  },
  {
   "cell_type": "code",
   "execution_count": 163,
   "id": "e93ecf83",
   "metadata": {
    "execution": {
     "iopub.execute_input": "2023-08-09T07:05:16.024595Z",
     "iopub.status.busy": "2023-08-09T07:05:16.023882Z",
     "iopub.status.idle": "2023-08-09T07:05:16.028348Z",
     "shell.execute_reply": "2023-08-09T07:05:16.027536Z"
    },
    "papermill": {
     "duration": 0.107156,
     "end_time": "2023-08-09T07:05:16.030489",
     "exception": false,
     "start_time": "2023-08-09T07:05:15.923333",
     "status": "completed"
    },
    "tags": []
   },
   "outputs": [],
   "source": [
    "# 'reviewWC' and 'sentiment'\n",
    "# (Conclusion): 'reviewWC' is practically same as DummyClassifier (accuracy of 0.6682375059904889 on train data). It just predicts 'positive' for all columns\n",
    "\n",
    "# reviewWC_dict = {\"num\": [\"reviewWC\"]}\n",
    "# submit_v4(selected_model=LogisticRegression(),\n",
    "#          selected_features=reviewWC_dict,\n",
    "#          param_grid=None)"
   ]
  },
  {
   "cell_type": "code",
   "execution_count": 164,
   "id": "7f63b878",
   "metadata": {
    "execution": {
     "iopub.execute_input": "2023-08-09T07:05:16.230417Z",
     "iopub.status.busy": "2023-08-09T07:05:16.229696Z",
     "iopub.status.idle": "2023-08-09T07:05:16.233785Z",
     "shell.execute_reply": "2023-08-09T07:05:16.232969Z"
    },
    "papermill": {
     "duration": 0.106458,
     "end_time": "2023-08-09T07:05:16.235959",
     "exception": false,
     "start_time": "2023-08-09T07:05:16.129501",
     "status": "completed"
    },
    "tags": []
   },
   "outputs": [],
   "source": [
    "# 'reviewYN' and 'sentiment'\n",
    "# (Conclusion): 'reviewYN' is practically same as DummyClassifier (accuracy of 0.6682375059904889 on train data). It just predicts 'positive' for all columns\n",
    "\n",
    "# reviewYN_dict = {\"cat\": [\"reviewYN\"]}\n",
    "# submit_v4(selected_model=LogisticRegression(),\n",
    "#          selected_features=reviewYN_dict,\n",
    "#          param_grid=None)"
   ]
  },
  {
   "cell_type": "code",
   "execution_count": 165,
   "id": "e6ed16f0",
   "metadata": {
    "execution": {
     "iopub.execute_input": "2023-08-09T07:05:16.438876Z",
     "iopub.status.busy": "2023-08-09T07:05:16.438163Z",
     "iopub.status.idle": "2023-08-09T07:05:16.443606Z",
     "shell.execute_reply": "2023-08-09T07:05:16.442508Z"
    },
    "papermill": {
     "duration": 0.110942,
     "end_time": "2023-08-09T07:05:16.445940",
     "exception": false,
     "start_time": "2023-08-09T07:05:16.334998",
     "status": "completed"
    },
    "tags": []
   },
   "outputs": [
    {
     "name": "stdout",
     "output_type": "stream",
     "text": [
      "Let's start\n"
     ]
    }
   ],
   "source": [
    "print(\"Let's start\")"
   ]
  },
  {
   "cell_type": "markdown",
   "id": "655c2be3",
   "metadata": {
    "papermill": {
     "duration": 0.09864,
     "end_time": "2023-08-09T07:05:16.643891",
     "exception": false,
     "start_time": "2023-08-09T07:05:16.545251",
     "status": "completed"
    },
    "tags": []
   },
   "source": [
    "## Work on vocabulary  "
   ]
  },
  {
   "cell_type": "code",
   "execution_count": 166,
   "id": "8155ca04",
   "metadata": {
    "execution": {
     "iopub.execute_input": "2023-08-09T07:05:16.843796Z",
     "iopub.status.busy": "2023-08-09T07:05:16.843350Z",
     "iopub.status.idle": "2023-08-09T07:05:16.863683Z",
     "shell.execute_reply": "2023-08-09T07:05:16.862534Z"
    },
    "papermill": {
     "duration": 0.123151,
     "end_time": "2023-08-09T07:05:16.865820",
     "exception": false,
     "start_time": "2023-08-09T07:05:16.742669",
     "status": "completed"
    },
    "tags": []
   },
   "outputs": [
    {
     "data": {
      "text/plain": [
       "((162758, 2),\n",
       "                                           reviewText sentiment\n",
       " 0  Henry Selick’s first movie since ’s Coraline. ...  POSITIVE\n",
       " 1  With a cast that reads like the Vogue Oscar pa...  NEGATIVE\n",
       " 2  Creed II does not give us anything but another...  POSITIVE\n",
       " 3  I know what you're thinking, but this is no Li...  POSITIVE\n",
       " 4  Director Fernando Meirelles tells the story wi...  POSITIVE)"
      ]
     },
     "execution_count": 166,
     "metadata": {},
     "output_type": "execute_result"
    }
   ],
   "source": [
    "rt_senti = merged[[\"reviewText\", \"sentiment\"]].copy()\n",
    "rt_senti.shape, rt_senti.head()"
   ]
  },
  {
   "cell_type": "code",
   "execution_count": 167,
   "id": "722c79ef",
   "metadata": {
    "execution": {
     "iopub.execute_input": "2023-08-09T07:05:17.064211Z",
     "iopub.status.busy": "2023-08-09T07:05:17.063403Z",
     "iopub.status.idle": "2023-08-09T07:05:17.076184Z",
     "shell.execute_reply": "2023-08-09T07:05:17.075177Z"
    },
    "papermill": {
     "duration": 0.114654,
     "end_time": "2023-08-09T07:05:17.078292",
     "exception": false,
     "start_time": "2023-08-09T07:05:16.963638",
     "status": "completed"
    },
    "tags": []
   },
   "outputs": [
    {
     "data": {
      "text/plain": [
       "((55315, 1),\n",
       "                                           reviewText\n",
       " 0  Green slowly cranks up the dread with style an...\n",
       " 1  Philip Noyce's direction is elegant and unforc...\n",
       " 2  It wouldn't do to say what path Maria ultimate...\n",
       " 3  Pig is not exactly the arthouse John Wick that...\n",
       " 4  An imaginative no-budget musical of sorts abou...)"
      ]
     },
     "execution_count": 167,
     "metadata": {},
     "output_type": "execute_result"
    }
   ],
   "source": [
    "rt_test = pd.DataFrame(merged_test[\"reviewText\"].copy())\n",
    "rt_test.shape, rt_test.head()"
   ]
  },
  {
   "cell_type": "code",
   "execution_count": 168,
   "id": "37439040",
   "metadata": {
    "execution": {
     "iopub.execute_input": "2023-08-09T07:05:17.279545Z",
     "iopub.status.busy": "2023-08-09T07:05:17.278307Z",
     "iopub.status.idle": "2023-08-09T07:05:17.285298Z",
     "shell.execute_reply": "2023-08-09T07:05:17.284503Z"
    },
    "papermill": {
     "duration": 0.110421,
     "end_time": "2023-08-09T07:05:17.287571",
     "exception": false,
     "start_time": "2023-08-09T07:05:17.177150",
     "status": "completed"
    },
    "tags": []
   },
   "outputs": [],
   "source": [
    "def get_vocab(text_df, ngram_range=(1,1)):\n",
    "    print(f\"Generating vocabulary for ngram_range: {ngram_range}...\")\n",
    "    tvec1 = CountVectorizer(ngram_range=ngram_range, stop_words='english', strip_accents='unicode')\n",
    "    tvec1.fit(text_df)\n",
    "    voc_ngram = list(tvec1.vocabulary_.keys())\n",
    "    return voc_ngram"
   ]
  },
  {
   "cell_type": "code",
   "execution_count": 169,
   "id": "c4bafa66",
   "metadata": {
    "execution": {
     "iopub.execute_input": "2023-08-09T07:05:17.491132Z",
     "iopub.status.busy": "2023-08-09T07:05:17.490305Z",
     "iopub.status.idle": "2023-08-09T07:05:17.497398Z",
     "shell.execute_reply": "2023-08-09T07:05:17.496679Z"
    },
    "papermill": {
     "duration": 0.110275,
     "end_time": "2023-08-09T07:05:17.499576",
     "exception": false,
     "start_time": "2023-08-09T07:05:17.389301",
     "status": "completed"
    },
    "tags": []
   },
   "outputs": [],
   "source": [
    "def get_common_vocab(df_list: list, ngram_range_list: list):\n",
    "    \"\"\"\n",
    "    Get common vocabulary from a list of dataframes.\n",
    "    \"\"\"\n",
    "    # Get vocabulary from each dataframe for a given ngram-range\n",
    "    for ngram_range in ngram_range_list:\n",
    "        vocab_ngram = set()\n",
    "        for df in df_list:\n",
    "            vocab_ngram_df = set(get_vocab(df['reviewText'], ngram_range))\n",
    "            print(f\"Vocabulary for ngram-range {ngram_range} in df: {len(vocab_ngram_df)}\")\n",
    "            if vocab_ngram:\n",
    "                vocab_ngram = vocab_ngram.intersection(vocab_ngram_df)\n",
    "            else:\n",
    "                vocab_ngram = vocab_ngram_df\n",
    "        print(f\"Common vocabulary for ngram-range {ngram_range}: {len(vocab_ngram)}\")   \n",
    "    return vocab_ngram"
   ]
  },
  {
   "cell_type": "code",
   "execution_count": 170,
   "id": "b39b8b09",
   "metadata": {
    "execution": {
     "iopub.execute_input": "2023-08-09T07:05:17.699723Z",
     "iopub.status.busy": "2023-08-09T07:05:17.698931Z",
     "iopub.status.idle": "2023-08-09T07:05:17.703424Z",
     "shell.execute_reply": "2023-08-09T07:05:17.702695Z"
    },
    "papermill": {
     "duration": 0.107582,
     "end_time": "2023-08-09T07:05:17.705685",
     "exception": false,
     "start_time": "2023-08-09T07:05:17.598103",
     "status": "completed"
    },
    "tags": []
   },
   "outputs": [],
   "source": [
    "# voc_1gram = get_vocab(rt_senti[\"reviewText\"], ngram_range=(1,1))\n",
    "# len(voc_1gram), voc_1gram[:10]"
   ]
  },
  {
   "cell_type": "code",
   "execution_count": 171,
   "id": "613456d7",
   "metadata": {
    "execution": {
     "iopub.execute_input": "2023-08-09T07:05:17.906722Z",
     "iopub.status.busy": "2023-08-09T07:05:17.906002Z",
     "iopub.status.idle": "2023-08-09T07:05:17.909918Z",
     "shell.execute_reply": "2023-08-09T07:05:17.909016Z"
    },
    "papermill": {
     "duration": 0.106346,
     "end_time": "2023-08-09T07:05:17.912072",
     "exception": false,
     "start_time": "2023-08-09T07:05:17.805726",
     "status": "completed"
    },
    "tags": []
   },
   "outputs": [],
   "source": [
    "# voc_2gram = get_vocab(rt_senti[\"reviewText\"], ngram_range=(2,2))\n",
    "# len(voc_2gram), voc_2gram[:10]"
   ]
  },
  {
   "cell_type": "code",
   "execution_count": 172,
   "id": "32d4612c",
   "metadata": {
    "execution": {
     "iopub.execute_input": "2023-08-09T07:05:18.112430Z",
     "iopub.status.busy": "2023-08-09T07:05:18.111609Z",
     "iopub.status.idle": "2023-08-09T07:05:18.116415Z",
     "shell.execute_reply": "2023-08-09T07:05:18.115681Z"
    },
    "papermill": {
     "duration": 0.108383,
     "end_time": "2023-08-09T07:05:18.118596",
     "exception": false,
     "start_time": "2023-08-09T07:05:18.010213",
     "status": "completed"
    },
    "tags": []
   },
   "outputs": [],
   "source": [
    "# voc_3gram = get_vocab(rt_senti[\"reviewText\"], ngram_range=(3,3))\n",
    "# len(voc_3gram), voc_3gram[:10]"
   ]
  },
  {
   "cell_type": "code",
   "execution_count": 173,
   "id": "eb373204",
   "metadata": {
    "execution": {
     "iopub.execute_input": "2023-08-09T07:05:18.320320Z",
     "iopub.status.busy": "2023-08-09T07:05:18.319686Z",
     "iopub.status.idle": "2023-08-09T07:05:18.324101Z",
     "shell.execute_reply": "2023-08-09T07:05:18.323232Z"
    },
    "papermill": {
     "duration": 0.107711,
     "end_time": "2023-08-09T07:05:18.326209",
     "exception": false,
     "start_time": "2023-08-09T07:05:18.218498",
     "status": "completed"
    },
    "tags": []
   },
   "outputs": [],
   "source": [
    "# common_unigrams = get_common_vocab([rt_senti, rt_test], ngram_range_list=[(1,1)])\n",
    "# # sorted(list(common_unigrams))"
   ]
  },
  {
   "cell_type": "code",
   "execution_count": 174,
   "id": "6d324f69",
   "metadata": {
    "execution": {
     "iopub.execute_input": "2023-08-09T07:05:18.531383Z",
     "iopub.status.busy": "2023-08-09T07:05:18.530934Z",
     "iopub.status.idle": "2023-08-09T07:05:18.535590Z",
     "shell.execute_reply": "2023-08-09T07:05:18.534497Z"
    },
    "papermill": {
     "duration": 0.108603,
     "end_time": "2023-08-09T07:05:18.537677",
     "exception": false,
     "start_time": "2023-08-09T07:05:18.429074",
     "status": "completed"
    },
    "tags": []
   },
   "outputs": [],
   "source": [
    "# common_bigrams = get_common_vocab([rt_senti, rt_test], ngram_range_list=[(2,2)])\n",
    "# # common_bigrams"
   ]
  },
  {
   "cell_type": "code",
   "execution_count": 175,
   "id": "b6f9a378",
   "metadata": {
    "execution": {
     "iopub.execute_input": "2023-08-09T07:05:18.795072Z",
     "iopub.status.busy": "2023-08-09T07:05:18.794320Z",
     "iopub.status.idle": "2023-08-09T07:05:18.798278Z",
     "shell.execute_reply": "2023-08-09T07:05:18.797494Z"
    },
    "papermill": {
     "duration": 0.163898,
     "end_time": "2023-08-09T07:05:18.800412",
     "exception": false,
     "start_time": "2023-08-09T07:05:18.636514",
     "status": "completed"
    },
    "tags": []
   },
   "outputs": [],
   "source": [
    "# common_1_2_grams = common_unigrams | common_bigrams\n",
    "# print(len(common_1_2_grams))\n",
    "# # sorted(list(common_1_2_grams))"
   ]
  },
  {
   "cell_type": "code",
   "execution_count": 176,
   "id": "1460f3df",
   "metadata": {
    "execution": {
     "iopub.execute_input": "2023-08-09T07:05:19.001526Z",
     "iopub.status.busy": "2023-08-09T07:05:19.001128Z",
     "iopub.status.idle": "2023-08-09T07:05:19.005767Z",
     "shell.execute_reply": "2023-08-09T07:05:19.004681Z"
    },
    "papermill": {
     "duration": 0.107676,
     "end_time": "2023-08-09T07:05:19.008058",
     "exception": false,
     "start_time": "2023-08-09T07:05:18.900382",
     "status": "completed"
    },
    "tags": []
   },
   "outputs": [],
   "source": [
    "# common_trigrams = get_common_vocab([rt_senti, rt_test], ngram_range_list=[(3,3)])\n",
    "# # common_trigrams"
   ]
  },
  {
   "cell_type": "code",
   "execution_count": 177,
   "id": "4f99f06f",
   "metadata": {
    "execution": {
     "iopub.execute_input": "2023-08-09T07:05:19.208963Z",
     "iopub.status.busy": "2023-08-09T07:05:19.207987Z",
     "iopub.status.idle": "2023-08-09T07:05:19.212413Z",
     "shell.execute_reply": "2023-08-09T07:05:19.211667Z"
    },
    "papermill": {
     "duration": 0.10681,
     "end_time": "2023-08-09T07:05:19.214558",
     "exception": false,
     "start_time": "2023-08-09T07:05:19.107748",
     "status": "completed"
    },
    "tags": []
   },
   "outputs": [],
   "source": [
    "# common_1_2_3_grams = common_unigrams | common_bigrams | common_trigrams\n",
    "# print(len(common_1_2_3_grams))\n",
    "#sorted((common_1_2_3_grams))"
   ]
  },
  {
   "cell_type": "markdown",
   "id": "aecfd805",
   "metadata": {
    "papermill": {
     "duration": 0.100051,
     "end_time": "2023-08-09T07:05:19.414607",
     "exception": false,
     "start_time": "2023-08-09T07:05:19.314556",
     "status": "completed"
    },
    "tags": []
   },
   "source": [
    "# Submit best 6 features along with common vocab  "
   ]
  },
  {
   "cell_type": "code",
   "execution_count": 178,
   "id": "c5ec3dc0",
   "metadata": {
    "execution": {
     "iopub.execute_input": "2023-08-09T07:05:19.615010Z",
     "iopub.status.busy": "2023-08-09T07:05:19.614293Z",
     "iopub.status.idle": "2023-08-09T07:05:19.621727Z",
     "shell.execute_reply": "2023-08-09T07:05:19.620385Z"
    },
    "papermill": {
     "duration": 0.111052,
     "end_time": "2023-08-09T07:05:19.624176",
     "exception": false,
     "start_time": "2023-08-09T07:05:19.513124",
     "status": "completed"
    },
    "tags": []
   },
   "outputs": [
    {
     "data": {
      "text/plain": [
       "{'num': ['audienceScore'],\n",
       " 'txt': ['reviewText', 'reviewerName', 'genre', 'movieid', 'director']}"
      ]
     },
     "execution_count": 178,
     "metadata": {},
     "output_type": "execute_result"
    }
   ],
   "source": [
    "# Best 6 parameters (version 2)  \n",
    "\n",
    "best6_dict = {'num': [\"audienceScore\"],\n",
    "             'txt': ['reviewText', 'reviewerName', 'genre','movieid', 'director']}\n",
    "\n",
    "best6_dict"
   ]
  },
  {
   "cell_type": "code",
   "execution_count": 179,
   "id": "416c6efd",
   "metadata": {
    "execution": {
     "iopub.execute_input": "2023-08-09T07:05:19.825107Z",
     "iopub.status.busy": "2023-08-09T07:05:19.824686Z",
     "iopub.status.idle": "2023-08-09T07:05:19.829005Z",
     "shell.execute_reply": "2023-08-09T07:05:19.828107Z"
    },
    "papermill": {
     "duration": 0.107728,
     "end_time": "2023-08-09T07:05:19.830990",
     "exception": false,
     "start_time": "2023-08-09T07:05:19.723262",
     "status": "completed"
    },
    "tags": []
   },
   "outputs": [],
   "source": [
    "# Submit best 6 features (version 2) with common vocabulary (common_1_2_grams)\n",
    "# (Update): Score 0.82867\n",
    "\n",
    "# submit_v4(selected_features=best6_dict,\n",
    "#           param_grid=param_grid,\n",
    "#          vocab=common_1_2_grams)"
   ]
  },
  {
   "cell_type": "code",
   "execution_count": 180,
   "id": "69077036",
   "metadata": {
    "execution": {
     "iopub.execute_input": "2023-08-09T07:05:20.030906Z",
     "iopub.status.busy": "2023-08-09T07:05:20.030125Z",
     "iopub.status.idle": "2023-08-09T07:05:20.034710Z",
     "shell.execute_reply": "2023-08-09T07:05:20.033928Z"
    },
    "papermill": {
     "duration": 0.10689,
     "end_time": "2023-08-09T07:05:20.036713",
     "exception": false,
     "start_time": "2023-08-09T07:05:19.929823",
     "status": "completed"
    },
    "tags": []
   },
   "outputs": [],
   "source": [
    "# Submit best 6 features (version 2) with common vocabulary (common_1_2_3_grams)\n",
    "# Note: for this submission submit_v4 function has to be modified: reviewText TfidfVectorizer must have ngram_range(1,3).\n",
    "# (Update): Score in the range 0.825+\n",
    "\n",
    "# submit_v4(selected_features=best6_dict,\n",
    "#           param_grid=param_grid,\n",
    "#          vocab=common_1_2_3_grams)"
   ]
  },
  {
   "cell_type": "markdown",
   "id": "45050055",
   "metadata": {
    "papermill": {
     "duration": 0.099468,
     "end_time": "2023-08-09T07:05:20.235921",
     "exception": false,
     "start_time": "2023-08-09T07:05:20.136453",
     "status": "completed"
    },
    "tags": []
   },
   "source": [
    "# Back to vocab after success of version 63  "
   ]
  },
  {
   "cell_type": "code",
   "execution_count": 181,
   "id": "9b981fc3",
   "metadata": {
    "execution": {
     "iopub.execute_input": "2023-08-09T07:05:20.439280Z",
     "iopub.status.busy": "2023-08-09T07:05:20.438251Z",
     "iopub.status.idle": "2023-08-09T07:05:20.445081Z",
     "shell.execute_reply": "2023-08-09T07:05:20.444065Z"
    },
    "papermill": {
     "duration": 0.110769,
     "end_time": "2023-08-09T07:05:20.447255",
     "exception": false,
     "start_time": "2023-08-09T07:05:20.336486",
     "status": "completed"
    },
    "tags": []
   },
   "outputs": [
    {
     "data": {
      "text/plain": [
       "Index(['movieid', 'reviewerName', 'isFrequentReviewer', 'reviewText',\n",
       "       'sentiment', 'title', 'audienceScore', 'rating', 'ratingContents',\n",
       "       'releaseDateTheaters', 'releaseDateStreaming', 'runtimeMinutes',\n",
       "       'genre', 'originalLanguage', 'director', 'boxOffice', 'distributor',\n",
       "       'soundType', 'reviewYN', 'reviewWC', 'genreSorted', 'rcSorted',\n",
       "       'releaseDate', 'releaseYear', 'releaseMonth', 'releaseDiff',\n",
       "       'audScoreBins', 'runtimeBins', 'boxOfficeBins', 'releaseDiffBins'],\n",
       "      dtype='object')"
      ]
     },
     "execution_count": 181,
     "metadata": {},
     "output_type": "execute_result"
    }
   ],
   "source": [
    "merged.columns"
   ]
  },
  {
   "cell_type": "code",
   "execution_count": 182,
   "id": "f8e854e0",
   "metadata": {
    "execution": {
     "iopub.execute_input": "2023-08-09T07:05:20.651342Z",
     "iopub.status.busy": "2023-08-09T07:05:20.650682Z",
     "iopub.status.idle": "2023-08-09T07:53:05.207935Z",
     "shell.execute_reply": "2023-08-09T07:53:05.206685Z"
    },
    "papermill": {
     "duration": 2864.662096,
     "end_time": "2023-08-09T07:53:05.210353",
     "exception": false,
     "start_time": "2023-08-09T07:05:20.548257",
     "status": "completed"
    },
    "tags": []
   },
   "outputs": [
    {
     "name": "stdout",
     "output_type": "stream",
     "text": [
      "Running the submit_v4 function...\n",
      "Selected features: {'cat': ['audScoreBins', 'boxOfficeBins'], 'num': ['releaseDiff'], 'txt': ['movieid', 'genre', 'director', 'ratingContents', 'distributor']}\n",
      "Pipeline built successfully.\n",
      "Full GridSearchCV pipeline built successfully.\n",
      "GridSearchCV(cv=10,\n",
      "             estimator=Pipeline(steps=[('ct',\n",
      "                                        ColumnTransformer(transformers=[('cat_audScoreBins',\n",
      "                                                                         OneHotEncoder(handle_unknown='ignore',\n",
      "                                                                                       sparse_output=False),\n",
      "                                                                         ['audScoreBins']),\n",
      "                                                                        ('cat_boxOfficeBins',\n",
      "                                                                         OneHotEncoder(handle_unknown='ignore',\n",
      "                                                                                       sparse_output=False),\n",
      "                                                                         ['boxOfficeBins']),\n",
      "                                                                        ('num_releaseDiff',\n",
      "                                                                         RobustScaler(),\n",
      "                                                                         ['releaseDiff']),\n",
      "                                                                        ('txt_movieid',\n",
      "                                                                         Pipel...\n",
      "                                                                                                          strip_accents='unicode'))]),\n",
      "                                                                         'ratingContents'),\n",
      "                                                                        ('txt_distributor',\n",
      "                                                                         Pipeline(steps=[('cvec',\n",
      "                                                                                          CountVectorizer(ngram_range=(1,\n",
      "                                                                                                                       3)))]),\n",
      "                                                                         'distributor')])),\n",
      "                                       ('model',\n",
      "                                        LogisticRegression(C=1, max_iter=100000,\n",
      "                                                           solver='liblinear'))]),\n",
      "             n_jobs=-1,\n",
      "             param_grid={'model__C': [1], 'model__dual': [False],\n",
      "                         'model__fit_intercept': [True],\n",
      "                         'model__solver': ['saga']},\n",
      "             scoring='f1_micro')\n",
      "Check 1 complete.\n",
      "Shape of X_train: (162758, 8)\n",
      "Features in X_train: Index(['audScoreBins', 'boxOfficeBins', 'releaseDiff', 'movieid', 'genre',\n",
      "       'director', 'ratingContents', 'distributor'],\n",
      "      dtype='object')\n",
      "Training started with full pipeline...\n",
      "Check 2 complete.\n",
      "Best params obtained using full pipeline (GridSearchCV) on X_train: \n",
      "{'model__C': 1, 'model__dual': False, 'model__fit_intercept': True, 'model__solver': 'saga'}\n",
      "F1-score using full pipeline (GridSearchCV) on X_train: \n",
      "0.7477051514221461\n",
      "Confusion matrix and f1-score for rows which have no reviewText in X_train: \n",
      "[[1358 1047]\n",
      " [ 468 3574]]\n",
      "0.7650069799906933\n",
      "Check 3 complete.\n",
      "Shape of X_test: (55315, 8)\n",
      "Features in X_train: Index(['audScoreBins', 'boxOfficeBins', 'releaseDiff', 'movieid', 'genre',\n",
      "       'director', 'ratingContents', 'distributor'],\n",
      "      dtype='object')\n",
      "Check 4 complete.\n",
      "Best params obtained using full pipeline (GridSearchCV) on X_train: \n",
      "{'model__C': 1, 'model__dual': False, 'model__fit_intercept': True, 'model__solver': 'saga'}\n",
      "F1-score using full pipeline (GridSearchCV) on X_train: \n",
      "0.7477051514221461\n"
     ]
    },
    {
     "data": {
      "text/plain": [
       "'Successfully created the submission file!!!'"
      ]
     },
     "execution_count": 182,
     "metadata": {},
     "output_type": "execute_result"
    }
   ],
   "source": [
    "# Best #2\n",
    "v80_dict = {'cat': ['isFrequentReviewer', 'audScoreBins', 'boxOfficeBins'], \n",
    "                  'txt': ['reviewText', 'reviewerName', 'movieid', 'genre', 'director', \n",
    "                          'ratingContents', 'distributor']}\n",
    "# Best #1\n",
    "v88_dict = {'cat': ['isFrequentReviewer', 'audScoreBins', 'boxOfficeBins'],\n",
    "            'num': ['releaseDiff'],\n",
    "            'txt': ['reviewText', 'reviewerName', 'movieid', 'genre', 'director', \n",
    "                         'ratingContents', 'distributor']}\n",
    "\n",
    "v92_dict = {'cat': ['isFrequentReviewer', 'audScoreBins', 'boxOfficeBins', 'releaseDiffBins'],\n",
    "            'txt': ['reviewText', 'reviewerName', 'title', 'genre', 'director', \n",
    "                         'ratingContents', 'distributor']}\n",
    "\n",
    "# Best univariable datapoints dict\n",
    "best_uni_dict = {'cat': [\"isFrequentReviewer\", \"audScoreBins\"],\n",
    "                 'txt': ['reviewText','movieid', 'director', \"ratingContents\"]}\n",
    "\n",
    "# param_grids for LogisticRegression  \n",
    "\n",
    "# Best #1  \n",
    "# param_grid = {\n",
    "#     'model__C' : [1],\n",
    "#     'model__solver': ['saga'],\n",
    "#     \"model__fit_intercept\" : [True],\n",
    "#     \"model__dual\" : [False]\n",
    "#     }\n",
    "\n",
    "# working\n",
    "param_grid = {\n",
    "    'model__C' : [1],\n",
    "    'model__solver': ['saga'],\n",
    "    \"model__fit_intercept\" : [True],\n",
    "    \"model__dual\" : [False],\n",
    "#     \"model__class_weight\": ['balanced', None]\n",
    "}\n",
    "\n",
    "\n",
    "# param_grids for LinearSVC  \n",
    "\n",
    "# param_grid = {\n",
    "#     'model__C' : [1, 10, 20],\n",
    "#     'model__loss': ['hinge', 'squared_hinge'],\n",
    "#     \"model__fit_intercept\" : [True, False],\n",
    "# #     \"model__dual\" : [True, False] \n",
    "# }\n",
    "\n",
    "svm = LinearSVC(max_iter=10000, random_state=42)    # LinearSVC\n",
    "\n",
    "\n",
    "# Local testing\n",
    "selected_mov = {'cat': ['audScoreBins', 'boxOfficeBins'],\n",
    "            'num': ['releaseDiff'],\n",
    "            'txt': ['movieid', 'genre', 'director', \n",
    "                         'ratingContents', 'distributor']}\n",
    "submit_v4(\n",
    "          selected_features=selected_mov,\n",
    "            add_countvec=False,\n",
    "            vocab=None,\n",
    "            vocab_usage='tfidf',\n",
    "            param_grid=param_grid\n",
    "         )\n",
    "\n",
    "\n",
    "\n",
    "# Main submission\n",
    "\n",
    "# submit_v4(\n",
    "#     selected_features=v88_dict,\n",
    "#     add_countvec=False,\n",
    "#     vocab=common_1_2_3_grams,\n",
    "#     vocab_usage='tfidf',\n",
    "#     param_grid=param_grid\n",
    "#     )"
   ]
  },
  {
   "cell_type": "markdown",
   "id": "de016e92",
   "metadata": {
    "papermill": {
     "duration": 0.099946,
     "end_time": "2023-08-09T07:53:05.411844",
     "exception": false,
     "start_time": "2023-08-09T07:53:05.311898",
     "status": "completed"
    },
    "tags": []
   },
   "source": [
    "### ratingContents analysis  "
   ]
  },
  {
   "cell_type": "code",
   "execution_count": 183,
   "id": "f4722453",
   "metadata": {
    "execution": {
     "iopub.execute_input": "2023-08-09T07:53:05.612991Z",
     "iopub.status.busy": "2023-08-09T07:53:05.612332Z",
     "iopub.status.idle": "2023-08-09T07:53:05.617061Z",
     "shell.execute_reply": "2023-08-09T07:53:05.616002Z"
    },
    "papermill": {
     "duration": 0.10762,
     "end_time": "2023-08-09T07:53:05.619634",
     "exception": false,
     "start_time": "2023-08-09T07:53:05.512014",
     "status": "completed"
    },
    "tags": []
   },
   "outputs": [],
   "source": [
    "# Try string split  \n",
    "# s = \"comedy, animation, adventure, fantasy\"\n",
    "# (\",\").join(sorted(s.split(\", \")))"
   ]
  },
  {
   "cell_type": "code",
   "execution_count": 184,
   "id": "5bb49174",
   "metadata": {
    "execution": {
     "iopub.execute_input": "2023-08-09T07:53:05.820890Z",
     "iopub.status.busy": "2023-08-09T07:53:05.820244Z",
     "iopub.status.idle": "2023-08-09T07:53:05.825060Z",
     "shell.execute_reply": "2023-08-09T07:53:05.824047Z"
    },
    "papermill": {
     "duration": 0.107883,
     "end_time": "2023-08-09T07:53:05.827052",
     "exception": false,
     "start_time": "2023-08-09T07:53:05.719169",
     "status": "completed"
    },
    "tags": []
   },
   "outputs": [],
   "source": [
    "# ratingContents_analysis = merged[[\"ratingContents\", \"sentiment\"]].copy()\n",
    "# print(ratingContents_analysis.head())\n",
    "# ratingContents_analysis[\"rcSorted\"] = ratingContents_analysis[\"ratingContents\"].apply(lambda x: (\",\").join(sorted(x.strip(\"][\").split(\", \"))))\n",
    "# ratingContents_analysis[\"rcSorted\"] = ratingContents_analysis[\"rcSorted\"].apply(lambda x: re.sub(r\"'\", \"\", x))\n",
    "# ratingContents_analysis[\"rcSorted\"] = ratingContents_analysis[\"rcSorted\"].apply(lambda x: re.sub(r\"[/\\s]\", \"_\", x))\n",
    "# ratingContents_analysis.head(10)"
   ]
  },
  {
   "cell_type": "code",
   "execution_count": 185,
   "id": "18498515",
   "metadata": {
    "execution": {
     "iopub.execute_input": "2023-08-09T07:53:06.031663Z",
     "iopub.status.busy": "2023-08-09T07:53:06.030900Z",
     "iopub.status.idle": "2023-08-09T07:53:06.034767Z",
     "shell.execute_reply": "2023-08-09T07:53:06.034026Z"
    },
    "papermill": {
     "duration": 0.108725,
     "end_time": "2023-08-09T07:53:06.036646",
     "exception": false,
     "start_time": "2023-08-09T07:53:05.927921",
     "status": "completed"
    },
    "tags": []
   },
   "outputs": [],
   "source": [
    "# cvec_rc = CountVectorizer(ngram_range=(1,1))\n",
    "# cvec_rc.fit(ratingContents_analysis['rcSorted'])\n",
    "# # len(cvec_rc.vocabulary_), cvec_rc.vocabulary_"
   ]
  },
  {
   "cell_type": "code",
   "execution_count": 186,
   "id": "99e57ebc",
   "metadata": {
    "execution": {
     "iopub.execute_input": "2023-08-09T07:53:06.239860Z",
     "iopub.status.busy": "2023-08-09T07:53:06.239095Z",
     "iopub.status.idle": "2023-08-09T07:53:06.243087Z",
     "shell.execute_reply": "2023-08-09T07:53:06.242342Z"
    },
    "papermill": {
     "duration": 0.107122,
     "end_time": "2023-08-09T07:53:06.245086",
     "exception": false,
     "start_time": "2023-08-09T07:53:06.137964",
     "status": "completed"
    },
    "tags": []
   },
   "outputs": [],
   "source": [
    "# genre_testing = cvec_g.transform(merged[\"genre\"])\n",
    "# print(genre_testing)"
   ]
  },
  {
   "cell_type": "markdown",
   "id": "172c51f7",
   "metadata": {
    "papermill": {
     "duration": 0.099117,
     "end_time": "2023-08-09T07:53:06.443938",
     "exception": false,
     "start_time": "2023-08-09T07:53:06.344821",
     "status": "completed"
    },
    "tags": []
   },
   "source": [
    "## Statistical tests  "
   ]
  },
  {
   "cell_type": "markdown",
   "id": "c13c9542",
   "metadata": {
    "papermill": {
     "duration": 0.097911,
     "end_time": "2023-08-09T07:53:06.704480",
     "exception": false,
     "start_time": "2023-08-09T07:53:06.606569",
     "status": "completed"
    },
    "tags": []
   },
   "source": [
    "[Go to genre](#genre_analysis)"
   ]
  },
  {
   "cell_type": "code",
   "execution_count": 187,
   "id": "a3858016",
   "metadata": {
    "execution": {
     "iopub.execute_input": "2023-08-09T07:53:06.903750Z",
     "iopub.status.busy": "2023-08-09T07:53:06.903028Z",
     "iopub.status.idle": "2023-08-09T07:53:06.926212Z",
     "shell.execute_reply": "2023-08-09T07:53:06.925010Z"
    },
    "papermill": {
     "duration": 0.125151,
     "end_time": "2023-08-09T07:53:06.928457",
     "exception": false,
     "start_time": "2023-08-09T07:53:06.803306",
     "status": "completed"
    },
    "tags": []
   },
   "outputs": [
    {
     "name": "stdout",
     "output_type": "stream",
     "text": [
      "0     14300000.0\n",
      "1    110500000.0\n",
      "2    115700000.0\n",
      "3    126500000.0\n",
      "4      7600000.0\n",
      "Name: boxOffice, dtype: float64\n"
     ]
    },
    {
     "data": {
      "text/plain": [
       "count    1.627580e+05\n",
       "mean     4.160983e+07\n",
       "std      7.932291e+07\n",
       "min      0.000000e+00\n",
       "25%      2.000000e+06\n",
       "50%      1.430000e+07\n",
       "75%      4.200000e+07\n",
       "max      8.584000e+08\n",
       "Name: boxOffice, dtype: float64"
      ]
     },
     "execution_count": 187,
     "metadata": {},
     "output_type": "execute_result"
    }
   ],
   "source": [
    "print(merged['boxOffice'].head())\n",
    "merged[\"boxOffice\"].describe()"
   ]
  },
  {
   "cell_type": "code",
   "execution_count": 188,
   "id": "71e2211b",
   "metadata": {
    "execution": {
     "iopub.execute_input": "2023-08-09T07:53:07.133209Z",
     "iopub.status.busy": "2023-08-09T07:53:07.132630Z",
     "iopub.status.idle": "2023-08-09T07:53:07.138183Z",
     "shell.execute_reply": "2023-08-09T07:53:07.137511Z"
    },
    "papermill": {
     "duration": 0.109449,
     "end_time": "2023-08-09T07:53:07.140164",
     "exception": false,
     "start_time": "2023-08-09T07:53:07.030715",
     "status": "completed"
    },
    "tags": []
   },
   "outputs": [],
   "source": [
    "# Function for independent samples t-test on numerical columns  \n",
    "def ttest_ind(feature):\n",
    "    pos_grp = merged[feature].loc[merged['sentiment'] == \"POSITIVE\"]\n",
    "    neg_grp = merged[feature].loc[merged['sentiment'] == \"NEGATIVE\"]\n",
    "\n",
    "    print(pos_grp.shape, neg_grp.shape)\n",
    "    print(pos_grp.describe(), neg_grp.describe())\n",
    "\n",
    "    return stats.ttest_ind(pos_grp, neg_grp)"
   ]
  },
  {
   "cell_type": "code",
   "execution_count": 189,
   "id": "66ce91ab",
   "metadata": {
    "execution": {
     "iopub.execute_input": "2023-08-09T07:53:07.344170Z",
     "iopub.status.busy": "2023-08-09T07:53:07.343508Z",
     "iopub.status.idle": "2023-08-09T07:53:07.429063Z",
     "shell.execute_reply": "2023-08-09T07:53:07.427876Z"
    },
    "papermill": {
     "duration": 0.191668,
     "end_time": "2023-08-09T07:53:07.431476",
     "exception": false,
     "start_time": "2023-08-09T07:53:07.239808",
     "status": "completed"
    },
    "tags": []
   },
   "outputs": [
    {
     "name": "stdout",
     "output_type": "stream",
     "text": [
      "(108761,) (53997,)\n",
      "count    1.087610e+05\n",
      "mean     4.198871e+07\n",
      "std      8.449327e+07\n",
      "min      0.000000e+00\n",
      "25%      1.400000e+06\n",
      "50%      1.430000e+07\n",
      "75%      3.790000e+07\n",
      "max      8.584000e+08\n",
      "Name: boxOffice, dtype: float64 count    5.399700e+04\n",
      "mean     4.084670e+07\n",
      "std      6.771516e+07\n",
      "min      0.000000e+00\n",
      "25%      4.200000e+06\n",
      "50%      1.430000e+07\n",
      "75%      4.680000e+07\n",
      "max      8.584000e+08\n",
      "Name: boxOffice, dtype: float64\n"
     ]
    },
    {
     "data": {
      "text/plain": [
       "Ttest_indResult(statistic=2.7348220142662143, pvalue=0.006242076786777612)"
      ]
     },
     "execution_count": 189,
     "metadata": {},
     "output_type": "execute_result"
    }
   ],
   "source": [
    "ttest_ind('boxOffice')"
   ]
  },
  {
   "cell_type": "code",
   "execution_count": 190,
   "id": "8af8e0bd",
   "metadata": {
    "execution": {
     "iopub.execute_input": "2023-08-09T07:53:07.635084Z",
     "iopub.status.busy": "2023-08-09T07:53:07.634684Z",
     "iopub.status.idle": "2023-08-09T07:53:07.721783Z",
     "shell.execute_reply": "2023-08-09T07:53:07.720578Z"
    },
    "papermill": {
     "duration": 0.191777,
     "end_time": "2023-08-09T07:53:07.724117",
     "exception": false,
     "start_time": "2023-08-09T07:53:07.532340",
     "status": "completed"
    },
    "tags": []
   },
   "outputs": [
    {
     "name": "stdout",
     "output_type": "stream",
     "text": [
      "(108761,) (53997,)\n",
      "count    108761.000000\n",
      "mean        107.754737\n",
      "std          22.811368\n",
      "min           5.000000\n",
      "25%          94.000000\n",
      "50%         105.000000\n",
      "75%         119.000000\n",
      "max         561.000000\n",
      "Name: runtimeMinutes, dtype: float64 count    53997.000000\n",
      "mean       105.455748\n",
      "std         20.842131\n",
      "min          4.000000\n",
      "25%         93.000000\n",
      "50%        103.000000\n",
      "75%        116.000000\n",
      "max        485.000000\n",
      "Name: runtimeMinutes, dtype: float64\n"
     ]
    },
    {
     "data": {
      "text/plain": [
       "Ttest_indResult(statistic=19.6913645767757, pvalue=3.2240242444294866e-86)"
      ]
     },
     "execution_count": 190,
     "metadata": {},
     "output_type": "execute_result"
    }
   ],
   "source": [
    "ttest_ind('runtimeMinutes')"
   ]
  },
  {
   "cell_type": "code",
   "execution_count": 191,
   "id": "6e5e7b34",
   "metadata": {
    "execution": {
     "iopub.execute_input": "2023-08-09T07:53:07.927086Z",
     "iopub.status.busy": "2023-08-09T07:53:07.926702Z",
     "iopub.status.idle": "2023-08-09T07:53:08.012274Z",
     "shell.execute_reply": "2023-08-09T07:53:08.011163Z"
    },
    "papermill": {
     "duration": 0.190396,
     "end_time": "2023-08-09T07:53:08.014496",
     "exception": false,
     "start_time": "2023-08-09T07:53:07.824100",
     "status": "completed"
    },
    "tags": []
   },
   "outputs": [
    {
     "name": "stdout",
     "output_type": "stream",
     "text": [
      "(108761,) (53997,)\n",
      "count    108761.000000\n",
      "mean         69.266912\n",
      "std          18.389623\n",
      "min           0.000000\n",
      "25%          58.000000\n",
      "50%          73.000000\n",
      "75%          84.000000\n",
      "max         100.000000\n",
      "Name: audienceScore, dtype: float64 count    53997.000000\n",
      "mean        56.437138\n",
      "std         19.883096\n",
      "min          0.000000\n",
      "25%         41.000000\n",
      "50%         57.000000\n",
      "75%         72.000000\n",
      "max        100.000000\n",
      "Name: audienceScore, dtype: float64\n"
     ]
    },
    {
     "data": {
      "text/plain": [
       "Ttest_indResult(statistic=128.9582511611466, pvalue=0.0)"
      ]
     },
     "execution_count": 191,
     "metadata": {},
     "output_type": "execute_result"
    }
   ],
   "source": [
    "ttest_ind('audienceScore')"
   ]
  },
  {
   "cell_type": "code",
   "execution_count": 192,
   "id": "e2971388",
   "metadata": {
    "execution": {
     "iopub.execute_input": "2023-08-09T07:53:08.221552Z",
     "iopub.status.busy": "2023-08-09T07:53:08.221108Z",
     "iopub.status.idle": "2023-08-09T07:53:08.685076Z",
     "shell.execute_reply": "2023-08-09T07:53:08.684039Z"
    },
    "papermill": {
     "duration": 0.569311,
     "end_time": "2023-08-09T07:53:08.687492",
     "exception": false,
     "start_time": "2023-08-09T07:53:08.118181",
     "status": "completed"
    },
    "tags": []
   },
   "outputs": [
    {
     "data": {
      "text/plain": [
       "<Axes: xlabel='sentiment', ylabel='boxOffice'>"
      ]
     },
     "execution_count": 192,
     "metadata": {},
     "output_type": "execute_result"
    },
    {
     "data": {
      "image/png": "[encoded data removed]",
      "text/plain": [
       "<Figure size 640x480 with 1 Axes>"
      ]
     },
     "metadata": {},
     "output_type": "display_data"
    }
   ],
   "source": [
    "sns.boxplot(x=merged['sentiment'], y=merged['boxOffice'])"
   ]
  },
  {
   "cell_type": "markdown",
   "id": "c6d8e14f",
   "metadata": {
    "papermill": {
     "duration": 0.101502,
     "end_time": "2023-08-09T07:53:08.891454",
     "exception": false,
     "start_time": "2023-08-09T07:53:08.789952",
     "status": "completed"
    },
    "tags": []
   },
   "source": [
    "## <div id='genre_analysis'>Genre analysis</div>"
   ]
  },
  {
   "cell_type": "code",
   "execution_count": 193,
   "id": "5867b891",
   "metadata": {
    "execution": {
     "iopub.execute_input": "2023-08-09T07:53:09.098285Z",
     "iopub.status.busy": "2023-08-09T07:53:09.097405Z",
     "iopub.status.idle": "2023-08-09T07:53:09.101850Z",
     "shell.execute_reply": "2023-08-09T07:53:09.101109Z"
    },
    "papermill": {
     "duration": 0.110128,
     "end_time": "2023-08-09T07:53:09.103867",
     "exception": false,
     "start_time": "2023-08-09T07:53:08.993739",
     "status": "completed"
    },
    "tags": []
   },
   "outputs": [],
   "source": [
    "# genre_analysis = merged[[\"genre\", \"genreSorted\", \"sentiment\"]].copy()\n",
    "# # print(genre_analysis.head())\n",
    "# # genre_analysis[\"genre\"] = genre_analysis[\"genre\"].apply(lambda x: (\",\").join(sorted(x.split(\", \"))))\n",
    "# genre_analysis.head()"
   ]
  },
  {
   "cell_type": "code",
   "execution_count": 194,
   "id": "41735977",
   "metadata": {
    "execution": {
     "iopub.execute_input": "2023-08-09T07:53:09.310123Z",
     "iopub.status.busy": "2023-08-09T07:53:09.309445Z",
     "iopub.status.idle": "2023-08-09T07:53:09.314058Z",
     "shell.execute_reply": "2023-08-09T07:53:09.313019Z"
    },
    "papermill": {
     "duration": 0.110421,
     "end_time": "2023-08-09T07:53:09.316533",
     "exception": false,
     "start_time": "2023-08-09T07:53:09.206112",
     "status": "completed"
    },
    "tags": []
   },
   "outputs": [],
   "source": [
    "# cvec_g = CountVectorizer(ngram_range=(1,3))\n",
    "# cvec_g.fit(genre_analysis['genre'])\n",
    "# # len(cvec_g.vocabulary_), cvec_g.vocabulary_"
   ]
  },
  {
   "cell_type": "code",
   "execution_count": 195,
   "id": "dc7751d3",
   "metadata": {
    "execution": {
     "iopub.execute_input": "2023-08-09T07:53:09.521913Z",
     "iopub.status.busy": "2023-08-09T07:53:09.521529Z",
     "iopub.status.idle": "2023-08-09T07:53:09.525777Z",
     "shell.execute_reply": "2023-08-09T07:53:09.524773Z"
    },
    "papermill": {
     "duration": 0.10928,
     "end_time": "2023-08-09T07:53:09.528111",
     "exception": false,
     "start_time": "2023-08-09T07:53:09.418831",
     "status": "completed"
    },
    "tags": []
   },
   "outputs": [],
   "source": [
    "# cvec_gSorted = CountVectorizer(ngram_range=(1,3))\n",
    "# cvec_gSorted.fit(genre_analysis['genreSorted'])\n",
    "# len(cvec_gSorted.vocabulary_), cvec_gSorted.vocabulary_"
   ]
  },
  {
   "cell_type": "code",
   "execution_count": 196,
   "id": "26b2ab9d",
   "metadata": {
    "execution": {
     "iopub.execute_input": "2023-08-09T07:53:09.734353Z",
     "iopub.status.busy": "2023-08-09T07:53:09.733505Z",
     "iopub.status.idle": "2023-08-09T07:53:09.738626Z",
     "shell.execute_reply": "2023-08-09T07:53:09.737435Z"
    },
    "papermill": {
     "duration": 0.11066,
     "end_time": "2023-08-09T07:53:09.740849",
     "exception": false,
     "start_time": "2023-08-09T07:53:09.630189",
     "status": "completed"
    },
    "tags": []
   },
   "outputs": [],
   "source": [
    "# genre_testing = cvec_g.transform(merged[\"genre\"])\n",
    "# # print(genre_testing)"
   ]
  },
  {
   "cell_type": "code",
   "execution_count": 197,
   "id": "705fb5b8",
   "metadata": {
    "execution": {
     "iopub.execute_input": "2023-08-09T07:53:09.957418Z",
     "iopub.status.busy": "2023-08-09T07:53:09.957062Z",
     "iopub.status.idle": "2023-08-09T07:53:09.962409Z",
     "shell.execute_reply": "2023-08-09T07:53:09.960509Z"
    },
    "papermill": {
     "duration": 0.123641,
     "end_time": "2023-08-09T07:53:09.965709",
     "exception": false,
     "start_time": "2023-08-09T07:53:09.842068",
     "status": "completed"
    },
    "tags": []
   },
   "outputs": [],
   "source": [
    "# genre_counts_testing = merged[[\"genre\", \"sentiment\"]].copy()\n",
    "# genre_counts_testing[\"gCount\"] = genre_counts_testing.apply(lambda x: len(str(x[\"genre\"]).split()), axis=1)\n",
    "# genre_counts_testing"
   ]
  },
  {
   "cell_type": "code",
   "execution_count": 198,
   "id": "2ea952fa",
   "metadata": {
    "execution": {
     "iopub.execute_input": "2023-08-09T07:53:10.197006Z",
     "iopub.status.busy": "2023-08-09T07:53:10.196509Z",
     "iopub.status.idle": "2023-08-09T07:53:10.201784Z",
     "shell.execute_reply": "2023-08-09T07:53:10.200703Z"
    },
    "papermill": {
     "duration": 0.127252,
     "end_time": "2023-08-09T07:53:10.204156",
     "exception": false,
     "start_time": "2023-08-09T07:53:10.076904",
     "status": "completed"
    },
    "tags": []
   },
   "outputs": [],
   "source": [
    "# sns.boxplot(y=genre_counts_testing[\"gCount\"], x=genre_counts_testing[\"sentiment\"])"
   ]
  },
  {
   "cell_type": "code",
   "execution_count": 199,
   "id": "55009b03",
   "metadata": {
    "execution": {
     "iopub.execute_input": "2023-08-09T07:53:10.427332Z",
     "iopub.status.busy": "2023-08-09T07:53:10.425905Z",
     "iopub.status.idle": "2023-08-09T07:53:10.431429Z",
     "shell.execute_reply": "2023-08-09T07:53:10.430634Z"
    },
    "papermill": {
     "duration": 0.111962,
     "end_time": "2023-08-09T07:53:10.433708",
     "exception": false,
     "start_time": "2023-08-09T07:53:10.321746",
     "status": "completed"
    },
    "tags": []
   },
   "outputs": [],
   "source": [
    "# sns.boxplot(y=merged[\"reviewWC\"], x=merged[\"sentiment\"])"
   ]
  },
  {
   "cell_type": "code",
   "execution_count": 200,
   "id": "9864167e",
   "metadata": {
    "execution": {
     "iopub.execute_input": "2023-08-09T07:53:10.641831Z",
     "iopub.status.busy": "2023-08-09T07:53:10.640590Z",
     "iopub.status.idle": "2023-08-09T07:53:10.645527Z",
     "shell.execute_reply": "2023-08-09T07:53:10.644818Z"
    },
    "papermill": {
     "duration": 0.111027,
     "end_time": "2023-08-09T07:53:10.647706",
     "exception": false,
     "start_time": "2023-08-09T07:53:10.536679",
     "status": "completed"
    },
    "tags": []
   },
   "outputs": [],
   "source": [
    "# audienceScore bins\n",
    "# asc = merged[['audienceScore', 'sentiment']].copy()\n",
    "# asc.head()"
   ]
  },
  {
   "cell_type": "code",
   "execution_count": 201,
   "id": "e017e81c",
   "metadata": {
    "execution": {
     "iopub.execute_input": "2023-08-09T07:53:10.854293Z",
     "iopub.status.busy": "2023-08-09T07:53:10.853090Z",
     "iopub.status.idle": "2023-08-09T07:53:10.858206Z",
     "shell.execute_reply": "2023-08-09T07:53:10.857444Z"
    },
    "papermill": {
     "duration": 0.11061,
     "end_time": "2023-08-09T07:53:10.860422",
     "exception": false,
     "start_time": "2023-08-09T07:53:10.749812",
     "status": "completed"
    },
    "tags": []
   },
   "outputs": [],
   "source": [
    "# Binning numerical features  \n",
    "\n",
    "# print(merged[\"runtimeBins\"].value_counts())\n",
    "# sns.displot(merged[\"runtimeBins\"])"
   ]
  },
  {
   "cell_type": "code",
   "execution_count": 202,
   "id": "a8e2d207",
   "metadata": {
    "execution": {
     "iopub.execute_input": "2023-08-09T07:53:11.071572Z",
     "iopub.status.busy": "2023-08-09T07:53:11.070302Z",
     "iopub.status.idle": "2023-08-09T07:53:11.075301Z",
     "shell.execute_reply": "2023-08-09T07:53:11.074542Z"
    },
    "papermill": {
     "duration": 0.114567,
     "end_time": "2023-08-09T07:53:11.077360",
     "exception": false,
     "start_time": "2023-08-09T07:53:10.962793",
     "status": "completed"
    },
    "tags": []
   },
   "outputs": [],
   "source": [
    "# Chi-square test for isFrequentReviewer column and sentiment column   \n",
    "\n",
    "# contingency_table = pd.crosstab(traindf['isFrequentReviewer'], traindf['sentiment'])\n",
    "# print(contingency_table)\n",
    "# stats.chi2_contingency(contingency_table)"
   ]
  },
  {
   "cell_type": "markdown",
   "id": "520993c2",
   "metadata": {
    "papermill": {
     "duration": 0.103154,
     "end_time": "2023-08-09T07:53:11.283061",
     "exception": false,
     "start_time": "2023-08-09T07:53:11.179907",
     "status": "completed"
    },
    "tags": []
   },
   "source": [
    "## Baseline performance of 'reviewText' column  "
   ]
  },
  {
   "cell_type": "code",
   "execution_count": 203,
   "id": "6f369966",
   "metadata": {
    "execution": {
     "iopub.execute_input": "2023-08-09T07:53:11.490398Z",
     "iopub.status.busy": "2023-08-09T07:53:11.489183Z",
     "iopub.status.idle": "2023-08-09T07:53:11.494058Z",
     "shell.execute_reply": "2023-08-09T07:53:11.493051Z"
    },
    "papermill": {
     "duration": 0.109992,
     "end_time": "2023-08-09T07:53:11.496505",
     "exception": false,
     "start_time": "2023-08-09T07:53:11.386513",
     "status": "completed"
    },
    "tags": []
   },
   "outputs": [],
   "source": [
    "# rt_dict = {'txt': ['reviewText']}\n",
    "# rt_dict"
   ]
  },
  {
   "cell_type": "code",
   "execution_count": 204,
   "id": "e734a6b1",
   "metadata": {
    "execution": {
     "iopub.execute_input": "2023-08-09T07:53:11.702243Z",
     "iopub.status.busy": "2023-08-09T07:53:11.701793Z",
     "iopub.status.idle": "2023-08-09T07:53:11.706942Z",
     "shell.execute_reply": "2023-08-09T07:53:11.705797Z"
    },
    "papermill": {
     "duration": 0.11067,
     "end_time": "2023-08-09T07:53:11.709104",
     "exception": false,
     "start_time": "2023-08-09T07:53:11.598434",
     "status": "completed"
    },
    "tags": []
   },
   "outputs": [],
   "source": [
    "# submit_v4(selected_model=LogisticRegression(C=5, solver=\"saga\", max_iter=100000),\n",
    "#           selected_features=rt_dict,\n",
    "#           param_grid=None,\n",
    "#           vocab=None)"
   ]
  },
  {
   "cell_type": "markdown",
   "id": "a5f13036",
   "metadata": {
    "papermill": {
     "duration": 0.101959,
     "end_time": "2023-08-09T07:53:11.913239",
     "exception": false,
     "start_time": "2023-08-09T07:53:11.811280",
     "status": "completed"
    },
    "tags": []
   },
   "source": [
    "## RFE  "
   ]
  },
  {
   "cell_type": "code",
   "execution_count": 205,
   "id": "f41eb5ec",
   "metadata": {
    "execution": {
     "iopub.execute_input": "2023-08-09T07:53:12.125344Z",
     "iopub.status.busy": "2023-08-09T07:53:12.124605Z",
     "iopub.status.idle": "2023-08-09T07:53:12.129403Z",
     "shell.execute_reply": "2023-08-09T07:53:12.128657Z"
    },
    "papermill": {
     "duration": 0.115682,
     "end_time": "2023-08-09T07:53:12.131567",
     "exception": false,
     "start_time": "2023-08-09T07:53:12.015885",
     "status": "completed"
    },
    "tags": []
   },
   "outputs": [],
   "source": [
    "# def fs_rfe(selector, text_df, labels, ngram_range=(1,1)):\n",
    "#     text_df_ngram = TfidfVectorizer(ngram_range=ngram_range, stop_words='english').fit_transform(text_df)\n",
    "#     print(\"text_df was vectorized using TF-IDF vectorizer with ngram_range: \", ngram_range)\n",
    "#     print(\"text_df.shape: \", text_df.shape)\n",
    "#     print(\"labels.shape: \", labels.shape)\n",
    "#     print(\"text_df_ngram.shape: \", text_df_ngram.shape)\n",
    "#     print()\n",
    "\n",
    "#     print(\"Starting RFE fit...\")\n",
    "#     selector.fit(text_df_ngram, labels)\n",
    "#     print(\"RFE fit complete.\\n\")\n",
    "    \n",
    "#     print(\"selector.n_features_: \", selector.n_features_)   \n",
    "#     print(\"selector.n_features_in_: \", selector.n_features_in_)\n",
    "#     print(\"selector.support_.shape: \", selector.support_.shape)\n",
    "\n",
    "#     return selector.support_"
   ]
  },
  {
   "cell_type": "markdown",
   "id": "aa53244e",
   "metadata": {
    "papermill": {
     "duration": 0.103217,
     "end_time": "2023-08-09T07:53:12.336116",
     "exception": false,
     "start_time": "2023-08-09T07:53:12.232899",
     "status": "completed"
    },
    "tags": []
   },
   "source": [
    "`RFE for unigrams`  "
   ]
  },
  {
   "cell_type": "code",
   "execution_count": 206,
   "id": "251cbbbf",
   "metadata": {
    "execution": {
     "iopub.execute_input": "2023-08-09T07:53:12.543064Z",
     "iopub.status.busy": "2023-08-09T07:53:12.542651Z",
     "iopub.status.idle": "2023-08-09T07:53:12.547143Z",
     "shell.execute_reply": "2023-08-09T07:53:12.546203Z"
    },
    "papermill": {
     "duration": 0.11036,
     "end_time": "2023-08-09T07:53:12.549312",
     "exception": false,
     "start_time": "2023-08-09T07:53:12.438952",
     "status": "completed"
    },
    "tags": []
   },
   "outputs": [],
   "source": [
    "# estimator_rfe_1 = LogisticRegression(solver='saga', max_iter=100000)\n",
    "# selector_rfe_1 = RFE(estimator_rfe_1, step=0.1, n_features_to_select=30000)"
   ]
  },
  {
   "cell_type": "code",
   "execution_count": 207,
   "id": "097fe5f4",
   "metadata": {
    "execution": {
     "iopub.execute_input": "2023-08-09T07:53:12.755884Z",
     "iopub.status.busy": "2023-08-09T07:53:12.754942Z",
     "iopub.status.idle": "2023-08-09T07:53:12.759205Z",
     "shell.execute_reply": "2023-08-09T07:53:12.758310Z"
    },
    "papermill": {
     "duration": 0.109275,
     "end_time": "2023-08-09T07:53:12.761272",
     "exception": false,
     "start_time": "2023-08-09T07:53:12.651997",
     "status": "completed"
    },
    "tags": []
   },
   "outputs": [],
   "source": [
    "# rfe_1_feat_mask = fs_rfe(selector_rfe_1, rt_senti[\"reviewText\"], rt_senti[\"sentiment\"], ngram_range=(1,1))\n",
    "# rfe_1_feat_mask"
   ]
  },
  {
   "cell_type": "code",
   "execution_count": 208,
   "id": "11835d1d",
   "metadata": {
    "execution": {
     "iopub.execute_input": "2023-08-09T07:53:12.977520Z",
     "iopub.status.busy": "2023-08-09T07:53:12.976505Z",
     "iopub.status.idle": "2023-08-09T07:53:12.982233Z",
     "shell.execute_reply": "2023-08-09T07:53:12.980909Z"
    },
    "papermill": {
     "duration": 0.123492,
     "end_time": "2023-08-09T07:53:12.985904",
     "exception": false,
     "start_time": "2023-08-09T07:53:12.862412",
     "status": "completed"
    },
    "tags": []
   },
   "outputs": [],
   "source": [
    "# voc_1gram_rfe = list(compress(voc_1gram, rfe_1_feat_mask))\n",
    "# len(voc_1gram_rfe), voc_1gram_rfe[:10]"
   ]
  },
  {
   "cell_type": "markdown",
   "id": "7fdeab8d",
   "metadata": {
    "papermill": {
     "duration": 0.102092,
     "end_time": "2023-08-09T07:53:13.200699",
     "exception": false,
     "start_time": "2023-08-09T07:53:13.098607",
     "status": "completed"
    },
    "tags": []
   },
   "source": [
    "`RFE for bigrams`  "
   ]
  },
  {
   "cell_type": "code",
   "execution_count": 209,
   "id": "097fc217",
   "metadata": {
    "execution": {
     "iopub.execute_input": "2023-08-09T07:53:13.408791Z",
     "iopub.status.busy": "2023-08-09T07:53:13.408044Z",
     "iopub.status.idle": "2023-08-09T07:53:13.411832Z",
     "shell.execute_reply": "2023-08-09T07:53:13.411133Z"
    },
    "papermill": {
     "duration": 0.109635,
     "end_time": "2023-08-09T07:53:13.413922",
     "exception": false,
     "start_time": "2023-08-09T07:53:13.304287",
     "status": "completed"
    },
    "tags": []
   },
   "outputs": [],
   "source": [
    "# estimator_rfe_2 = LogisticRegression(solver='saga', max_iter=100000)\n",
    "# selector_rfe_2 = RFE(estimator_rfe_2, step=0.1, n_features_to_select=50000)"
   ]
  },
  {
   "cell_type": "code",
   "execution_count": 210,
   "id": "6253e35f",
   "metadata": {
    "execution": {
     "iopub.execute_input": "2023-08-09T07:53:13.620395Z",
     "iopub.status.busy": "2023-08-09T07:53:13.619704Z",
     "iopub.status.idle": "2023-08-09T07:53:13.624057Z",
     "shell.execute_reply": "2023-08-09T07:53:13.623217Z"
    },
    "papermill": {
     "duration": 0.110174,
     "end_time": "2023-08-09T07:53:13.626150",
     "exception": false,
     "start_time": "2023-08-09T07:53:13.515976",
     "status": "completed"
    },
    "tags": []
   },
   "outputs": [],
   "source": [
    "# rfe_2_feat_mask = fs_rfe(selector_rfe_2, rt_senti[\"reviewText\"], rt_senti[\"sentiment\"], ngram_range=(2,2))\n",
    "# rfe_2_feat_mask"
   ]
  },
  {
   "cell_type": "code",
   "execution_count": 211,
   "id": "7a2d3af1",
   "metadata": {
    "execution": {
     "iopub.execute_input": "2023-08-09T07:53:13.831459Z",
     "iopub.status.busy": "2023-08-09T07:53:13.830767Z",
     "iopub.status.idle": "2023-08-09T07:53:13.834520Z",
     "shell.execute_reply": "2023-08-09T07:53:13.833782Z"
    },
    "papermill": {
     "duration": 0.108301,
     "end_time": "2023-08-09T07:53:13.836822",
     "exception": false,
     "start_time": "2023-08-09T07:53:13.728521",
     "status": "completed"
    },
    "tags": []
   },
   "outputs": [],
   "source": [
    "# voc_2gram_rfe = list(compress(voc_2gram, rfe_2_feat_mask))\n",
    "# len(voc_2gram_rfe), voc_2gram_rfe[:10]"
   ]
  },
  {
   "cell_type": "markdown",
   "id": "239dd382",
   "metadata": {
    "papermill": {
     "duration": 0.101823,
     "end_time": "2023-08-09T07:53:14.040366",
     "exception": false,
     "start_time": "2023-08-09T07:53:13.938543",
     "status": "completed"
    },
    "tags": []
   },
   "source": [
    "## Final RFE-derived vocabulary  "
   ]
  },
  {
   "cell_type": "code",
   "execution_count": 212,
   "id": "aac2d9ce",
   "metadata": {
    "execution": {
     "iopub.execute_input": "2023-08-09T07:53:14.247510Z",
     "iopub.status.busy": "2023-08-09T07:53:14.246918Z",
     "iopub.status.idle": "2023-08-09T07:53:14.251054Z",
     "shell.execute_reply": "2023-08-09T07:53:14.250028Z"
    },
    "papermill": {
     "duration": 0.10962,
     "end_time": "2023-08-09T07:53:14.253208",
     "exception": false,
     "start_time": "2023-08-09T07:53:14.143588",
     "status": "completed"
    },
    "tags": []
   },
   "outputs": [],
   "source": [
    "# rfe_vocab = voc_1gram_rfe + voc_2gram_rfe\n",
    "# len(rfe_vocab), rfe_vocab[:10], rfe_vocab[-10:]"
   ]
  },
  {
   "cell_type": "code",
   "execution_count": 213,
   "id": "921eb16e",
   "metadata": {
    "execution": {
     "iopub.execute_input": "2023-08-09T07:53:14.461237Z",
     "iopub.status.busy": "2023-08-09T07:53:14.460559Z",
     "iopub.status.idle": "2023-08-09T07:53:14.465158Z",
     "shell.execute_reply": "2023-08-09T07:53:14.464363Z"
    },
    "papermill": {
     "duration": 0.111805,
     "end_time": "2023-08-09T07:53:14.467241",
     "exception": false,
     "start_time": "2023-08-09T07:53:14.355436",
     "status": "completed"
    },
    "tags": []
   },
   "outputs": [],
   "source": [
    "## Test RFE obtained vocabulary in final pipeline (only with reviewText)  \n",
    "# submit_v4(selected_model=LogisticRegression(C=5, solver=\"saga\", max_iter=100000),\n",
    "#           selected_features=rt_dict,\n",
    "#           param_grid=None,\n",
    "#           vocab=rfe_vocab)"
   ]
  },
  {
   "cell_type": "markdown",
   "id": "d32c0efe",
   "metadata": {
    "papermill": {
     "duration": 0.102993,
     "end_time": "2023-08-09T07:53:14.672262",
     "exception": false,
     "start_time": "2023-08-09T07:53:14.569269",
     "status": "completed"
    },
    "tags": []
   },
   "source": [
    "## Use rfe_vocab in final pipeline with all params  "
   ]
  },
  {
   "cell_type": "code",
   "execution_count": 214,
   "id": "3ec4df35",
   "metadata": {
    "execution": {
     "iopub.execute_input": "2023-08-09T07:53:14.877800Z",
     "iopub.status.busy": "2023-08-09T07:53:14.877378Z",
     "iopub.status.idle": "2023-08-09T07:53:14.882076Z",
     "shell.execute_reply": "2023-08-09T07:53:14.880786Z"
    },
    "papermill": {
     "duration": 0.110174,
     "end_time": "2023-08-09T07:53:14.884267",
     "exception": false,
     "start_time": "2023-08-09T07:53:14.774093",
     "status": "completed"
    },
    "tags": []
   },
   "outputs": [],
   "source": [
    "# submit_v4(selected_model=LogisticRegression(max_iter=100000),\n",
    "#           selected_features=all_dict,\n",
    "#           param_grid=param_grid,\n",
    "#           vocab=rfe_vocab)"
   ]
  },
  {
   "cell_type": "code",
   "execution_count": 215,
   "id": "6b4104aa",
   "metadata": {
    "execution": {
     "iopub.execute_input": "2023-08-09T07:53:15.092362Z",
     "iopub.status.busy": "2023-08-09T07:53:15.091562Z",
     "iopub.status.idle": "2023-08-09T07:53:15.103435Z",
     "shell.execute_reply": "2023-08-09T07:53:15.102693Z"
    },
    "papermill": {
     "duration": 0.119346,
     "end_time": "2023-08-09T07:53:15.105545",
     "exception": false,
     "start_time": "2023-08-09T07:53:14.986199",
     "status": "completed"
    },
    "tags": []
   },
   "outputs": [
    {
     "data": {
      "text/html": [
       "<style>#sk-container-id-14 {color: black;background-color: white;}#sk-container-id-14 pre{padding: 0;}#sk-container-id-14 div.sk-toggleable {background-color: white;}#sk-container-id-14 label.sk-toggleable__label {cursor: pointer;display: block;width: 100%;margin-bottom: 0;padding: 0.3em;box-sizing: border-box;text-align: center;}#sk-container-id-14 label.sk-toggleable__label-arrow:before {content: \"▸\";float: left;margin-right: 0.25em;color: #696969;}#sk-container-id-14 label.sk-toggleable__label-arrow:hover:before {color: black;}#sk-container-id-14 div.sk-estimator:hover label.sk-toggleable__label-arrow:before {color: black;}#sk-container-id-14 div.sk-toggleable__content {max-height: 0;max-width: 0;overflow: hidden;text-align: left;background-color: #f0f8ff;}#sk-container-id-14 div.sk-toggleable__content pre {margin: 0.2em;color: black;border-radius: 0.25em;background-color: #f0f8ff;}#sk-container-id-14 input.sk-toggleable__control:checked~div.sk-toggleable__content {max-height: 200px;max-width: 100%;overflow: auto;}#sk-container-id-14 input.sk-toggleable__control:checked~label.sk-toggleable__label-arrow:before {content: \"▾\";}#sk-container-id-14 div.sk-estimator input.sk-toggleable__control:checked~label.sk-toggleable__label {background-color: #d4ebff;}#sk-container-id-14 div.sk-label input.sk-toggleable__control:checked~label.sk-toggleable__label {background-color: #d4ebff;}#sk-container-id-14 input.sk-hidden--visually {border: 0;clip: rect(1px 1px 1px 1px);clip: rect(1px, 1px, 1px, 1px);height: 1px;margin: -1px;overflow: hidden;padding: 0;position: absolute;width: 1px;}#sk-container-id-14 div.sk-estimator {font-family: monospace;background-color: #f0f8ff;border: 1px dotted black;border-radius: 0.25em;box-sizing: border-box;margin-bottom: 0.5em;}#sk-container-id-14 div.sk-estimator:hover {background-color: #d4ebff;}#sk-container-id-14 div.sk-parallel-item::after {content: \"\";width: 100%;border-bottom: 1px solid gray;flex-grow: 1;}#sk-container-id-14 div.sk-label:hover label.sk-toggleable__label {background-color: #d4ebff;}#sk-container-id-14 div.sk-serial::before {content: \"\";position: absolute;border-left: 1px solid gray;box-sizing: border-box;top: 0;bottom: 0;left: 50%;z-index: 0;}#sk-container-id-14 div.sk-serial {display: flex;flex-direction: column;align-items: center;background-color: white;padding-right: 0.2em;padding-left: 0.2em;position: relative;}#sk-container-id-14 div.sk-item {position: relative;z-index: 1;}#sk-container-id-14 div.sk-parallel {display: flex;align-items: stretch;justify-content: center;background-color: white;position: relative;}#sk-container-id-14 div.sk-item::before, #sk-container-id-14 div.sk-parallel-item::before {content: \"\";position: absolute;border-left: 1px solid gray;box-sizing: border-box;top: 0;bottom: 0;left: 50%;z-index: -1;}#sk-container-id-14 div.sk-parallel-item {display: flex;flex-direction: column;z-index: 1;position: relative;background-color: white;}#sk-container-id-14 div.sk-parallel-item:first-child::after {align-self: flex-end;width: 50%;}#sk-container-id-14 div.sk-parallel-item:last-child::after {align-self: flex-start;width: 50%;}#sk-container-id-14 div.sk-parallel-item:only-child::after {width: 0;}#sk-container-id-14 div.sk-dashed-wrapped {border: 1px dashed gray;margin: 0 0.4em 0.5em 0.4em;box-sizing: border-box;padding-bottom: 0.4em;background-color: white;}#sk-container-id-14 div.sk-label label {font-family: monospace;font-weight: bold;display: inline-block;line-height: 1.2em;}#sk-container-id-14 div.sk-label-container {text-align: center;}#sk-container-id-14 div.sk-container {/* jupyter's `normalize.less` sets `[hidden] { display: none; }` but bootstrap.min.css set `[hidden] { display: none !important; }` so we also need the `!important` here to be able to override the default hidden behavior on the sphinx rendered scikit-learn.org. See: https://github.com/scikit-learn/scikit-learn/issues/21755 */display: inline-block !important;position: relative;}#sk-container-id-14 div.sk-text-repr-fallback {display: none;}</style><div id=\"sk-container-id-14\" class=\"sk-top-container\"><div class=\"sk-text-repr-fallback\"><pre>AdaBoostClassifier(estimator=LogisticRegression(C=5, max_iter=100000,\n",
       "                                                solver=&#x27;saga&#x27;))</pre><b>In a Jupyter environment, please rerun this cell to show the HTML representation or trust the notebook. <br />On GitHub, the HTML representation is unable to render, please try loading this page with nbviewer.org.</b></div><div class=\"sk-container\" hidden><div class=\"sk-item sk-dashed-wrapped\"><div class=\"sk-label-container\"><div class=\"sk-label sk-toggleable\"><input class=\"sk-toggleable__control sk-hidden--visually\" id=\"sk-estimator-id-63\" type=\"checkbox\" ><label for=\"sk-estimator-id-63\" class=\"sk-toggleable__label sk-toggleable__label-arrow\">AdaBoostClassifier</label><div class=\"sk-toggleable__content\"><pre>AdaBoostClassifier(estimator=LogisticRegression(C=5, max_iter=100000,\n",
       "                                                solver=&#x27;saga&#x27;))</pre></div></div></div><div class=\"sk-parallel\"><div class=\"sk-parallel-item\"><div class=\"sk-item\"><div class=\"sk-label-container\"><div class=\"sk-label sk-toggleable\"><input class=\"sk-toggleable__control sk-hidden--visually\" id=\"sk-estimator-id-64\" type=\"checkbox\" ><label for=\"sk-estimator-id-64\" class=\"sk-toggleable__label sk-toggleable__label-arrow\">estimator: LogisticRegression</label><div class=\"sk-toggleable__content\"><pre>LogisticRegression(C=5, max_iter=100000, solver=&#x27;saga&#x27;)</pre></div></div></div><div class=\"sk-serial\"><div class=\"sk-item\"><div class=\"sk-estimator sk-toggleable\"><input class=\"sk-toggleable__control sk-hidden--visually\" id=\"sk-estimator-id-65\" type=\"checkbox\" ><label for=\"sk-estimator-id-65\" class=\"sk-toggleable__label sk-toggleable__label-arrow\">LogisticRegression</label><div class=\"sk-toggleable__content\"><pre>LogisticRegression(C=5, max_iter=100000, solver=&#x27;saga&#x27;)</pre></div></div></div></div></div></div></div></div></div></div>"
      ],
      "text/plain": [
       "AdaBoostClassifier(estimator=LogisticRegression(C=5, max_iter=100000,\n",
       "                                                solver='saga'))"
      ]
     },
     "execution_count": 215,
     "metadata": {},
     "output_type": "execute_result"
    }
   ],
   "source": [
    "adc = AdaBoostClassifier(estimator=LogisticRegression(C=5, solver=\"saga\", max_iter=100000), n_estimators=50)\n",
    "adc"
   ]
  },
  {
   "cell_type": "code",
   "execution_count": 216,
   "id": "90872a0d",
   "metadata": {
    "execution": {
     "iopub.execute_input": "2023-08-09T07:53:15.312260Z",
     "iopub.status.busy": "2023-08-09T07:53:15.311575Z",
     "iopub.status.idle": "2023-08-09T07:53:15.315430Z",
     "shell.execute_reply": "2023-08-09T07:53:15.314678Z"
    },
    "papermill": {
     "duration": 0.109614,
     "end_time": "2023-08-09T07:53:15.317542",
     "exception": false,
     "start_time": "2023-08-09T07:53:15.207928",
     "status": "completed"
    },
    "tags": []
   },
   "outputs": [],
   "source": [
    "# submit_v4(selected_model=adc,\n",
    "#           selected_features={'cat': ['isFrequentReviewer']},\n",
    "#           param_grid=None,\n",
    "#           vocab=rfe_vocab)"
   ]
  },
  {
   "cell_type": "code",
   "execution_count": 217,
   "id": "cf17193a",
   "metadata": {
    "execution": {
     "iopub.execute_input": "2023-08-09T07:53:15.525901Z",
     "iopub.status.busy": "2023-08-09T07:53:15.525170Z",
     "iopub.status.idle": "2023-08-09T07:53:15.529373Z",
     "shell.execute_reply": "2023-08-09T07:53:15.528299Z"
    },
    "papermill": {
     "duration": 0.111191,
     "end_time": "2023-08-09T07:53:15.531539",
     "exception": false,
     "start_time": "2023-08-09T07:53:15.420348",
     "status": "completed"
    },
    "tags": []
   },
   "outputs": [],
   "source": [
    "# AdaBoost on all features with RFE vocab on reviewText\n",
    "\n",
    "# submit_v4(selected_model=adc,\n",
    "#           selected_features=all_dict,\n",
    "#           param_grid=None,\n",
    "#           vocab=rfe_vocab)"
   ]
  },
  {
   "cell_type": "code",
   "execution_count": 218,
   "id": "b8c203af",
   "metadata": {
    "execution": {
     "iopub.execute_input": "2023-08-09T07:53:15.737965Z",
     "iopub.status.busy": "2023-08-09T07:53:15.737246Z",
     "iopub.status.idle": "2023-08-09T07:53:15.741013Z",
     "shell.execute_reply": "2023-08-09T07:53:15.740324Z"
    },
    "papermill": {
     "duration": 0.109334,
     "end_time": "2023-08-09T07:53:15.743011",
     "exception": false,
     "start_time": "2023-08-09T07:53:15.633677",
     "status": "completed"
    },
    "tags": []
   },
   "outputs": [],
   "source": [
    "# RandomForestClassifier test run on one feature\n",
    "\n",
    "# rfc_2 = RandomForestClassifier()\n",
    "# rfc_2"
   ]
  },
  {
   "cell_type": "code",
   "execution_count": 219,
   "id": "a11b0bb5",
   "metadata": {
    "execution": {
     "iopub.execute_input": "2023-08-09T07:53:15.949428Z",
     "iopub.status.busy": "2023-08-09T07:53:15.948712Z",
     "iopub.status.idle": "2023-08-09T07:53:15.953145Z",
     "shell.execute_reply": "2023-08-09T07:53:15.952131Z"
    },
    "papermill": {
     "duration": 0.109592,
     "end_time": "2023-08-09T07:53:15.955183",
     "exception": false,
     "start_time": "2023-08-09T07:53:15.845591",
     "status": "completed"
    },
    "tags": []
   },
   "outputs": [],
   "source": [
    "# submit_v4(selected_model=rfc_2,\n",
    "#           selected_features={'txt': ['reviewerName']},\n",
    "#           param_grid=None,\n",
    "#           vocab=rfe_vocab)"
   ]
  },
  {
   "cell_type": "code",
   "execution_count": 220,
   "id": "72a063ae",
   "metadata": {
    "execution": {
     "iopub.execute_input": "2023-08-09T07:53:16.164987Z",
     "iopub.status.busy": "2023-08-09T07:53:16.164325Z",
     "iopub.status.idle": "2023-08-09T07:53:16.168342Z",
     "shell.execute_reply": "2023-08-09T07:53:16.167608Z"
    },
    "papermill": {
     "duration": 0.112349,
     "end_time": "2023-08-09T07:53:16.170375",
     "exception": false,
     "start_time": "2023-08-09T07:53:16.058026",
     "status": "completed"
    },
    "tags": []
   },
   "outputs": [],
   "source": [
    "# RandomForestClassifier on all features with RFE vocab on reviewText\n",
    "\n",
    "# submit_v4(selected_model=rfc_2,\n",
    "#           selected_features=all_dict,\n",
    "#           param_grid=None,\n",
    "#           vocab=rfe_vocab)"
   ]
  },
  {
   "cell_type": "markdown",
   "id": "796b845a",
   "metadata": {
    "papermill": {
     "duration": 0.10268,
     "end_time": "2023-08-09T07:53:16.375068",
     "exception": false,
     "start_time": "2023-08-09T07:53:16.272388",
     "status": "completed"
    },
    "tags": []
   },
   "source": [
    "## Submit_v2 for merged file models  "
   ]
  },
  {
   "cell_type": "code",
   "execution_count": 221,
   "id": "2c4ae5ca",
   "metadata": {
    "execution": {
     "iopub.execute_input": "2023-08-09T07:53:16.644943Z",
     "iopub.status.busy": "2023-08-09T07:53:16.644290Z",
     "iopub.status.idle": "2023-08-09T07:53:16.649573Z",
     "shell.execute_reply": "2023-08-09T07:53:16.648872Z"
    },
    "papermill": {
     "duration": 0.111332,
     "end_time": "2023-08-09T07:53:16.651741",
     "exception": false,
     "start_time": "2023-08-09T07:53:16.540409",
     "status": "completed"
    },
    "tags": []
   },
   "outputs": [],
   "source": [
    "# def submit_v2(selected_model=pipe_final, selected_features=None):\n",
    "#     '''\n",
    "#     Note that \"selected_preprocessor\" is already used within selected_model or pipeline\n",
    "#     '''\n",
    "#     # Retrain on the whole train.csv file  \n",
    "#     merged = select_features(load_csv(\"train\"), load_csv(\"movies\"))\n",
    "#     X_train = merged.drop(labels=\"sentiment\", axis=1)\n",
    "#     y_train = merged[\"sentiment\"]\n",
    "    \n",
    "#     #Use selected features\n",
    "#     if selected_features:\n",
    "#         X_train = X_train[selected_features]\n",
    "    \n",
    "#     # Check1\n",
    "#     print(X_train.shape)\n",
    "#     print(X_train.head())\n",
    "#     try:\n",
    "#         print(selected_model.named_steps['model'].intercept_, selected_model.named_steps['model'].coef_)\n",
    "#     except:\n",
    "#         print(\"Model not trained yet!\")\n",
    "    \n",
    "#     # Fit \n",
    "#     selected_model.fit(X_train, y_train)\n",
    "    \n",
    "#     # Check2\n",
    "#     print(selected_model.named_steps['model'].intercept_, selected_model.named_steps['model'].coef_)\n",
    "    \n",
    "#     # Predict on test.csv file\n",
    "#     merged_test = select_features(load_csv(\"test\"), load_csv(\"movies\"))\n",
    "#     X_test = merged_test.copy()\n",
    "#     if selected_features:\n",
    "#         X_test = X_test[selected_features]\n",
    "    \n",
    "#     # Check3\n",
    "#     print(X_test.shape)\n",
    "#     print(X_test.head())\n",
    "    \n",
    "#     y_pred = selected_model.predict(X_test)\n",
    "    \n",
    "#     pred_df = pd.DataFrame(y_pred)\n",
    "#     pred_df.columns = [\"sentiment\"]\n",
    "#     pred_df.index.name = \"id\"\n",
    "#     pred_df.to_csv(\"submission.csv\")\n",
    "    \n",
    "#     return \"Successfully created the submission file!!!\""
   ]
  },
  {
   "cell_type": "code",
   "execution_count": 222,
   "id": "7650b3ec",
   "metadata": {
    "execution": {
     "iopub.execute_input": "2023-08-09T07:53:16.855933Z",
     "iopub.status.busy": "2023-08-09T07:53:16.855242Z",
     "iopub.status.idle": "2023-08-09T07:53:16.859566Z",
     "shell.execute_reply": "2023-08-09T07:53:16.858698Z"
    },
    "papermill": {
     "duration": 0.109885,
     "end_time": "2023-08-09T07:53:16.862182",
     "exception": false,
     "start_time": "2023-08-09T07:53:16.752297",
     "status": "completed"
    },
    "tags": []
   },
   "outputs": [],
   "source": [
    "#     X_test = merged_test.copy()\n",
    "    \n",
    "#     y_pred = pipe_best4.predict(X_test)\n",
    "# #     np.unique(y_pred, return_counts=True)\n",
    "#     pred_df = pd.DataFrame(y_pred)\n",
    "#     pred_df.columns = [\"sentiment\"]\n",
    "#     pred_df.index.name = \"id\"\n",
    "#     pred_df.value_counts()"
   ]
  },
  {
   "cell_type": "code",
   "execution_count": 223,
   "id": "a0741ea3",
   "metadata": {
    "execution": {
     "iopub.execute_input": "2023-08-09T07:53:17.071414Z",
     "iopub.status.busy": "2023-08-09T07:53:17.070896Z",
     "iopub.status.idle": "2023-08-09T07:53:17.075748Z",
     "shell.execute_reply": "2023-08-09T07:53:17.074683Z"
    },
    "papermill": {
     "duration": 0.112942,
     "end_time": "2023-08-09T07:53:17.077855",
     "exception": false,
     "start_time": "2023-08-09T07:53:16.964913",
     "status": "completed"
    },
    "tags": []
   },
   "outputs": [],
   "source": [
    "# X_test.columns"
   ]
  },
  {
   "cell_type": "markdown",
   "id": "7fa64afc",
   "metadata": {
    "papermill": {
     "duration": 0.102483,
     "end_time": "2023-08-09T07:53:17.282882",
     "exception": false,
     "start_time": "2023-08-09T07:53:17.180399",
     "status": "completed"
    },
    "tags": []
   },
   "source": [
    "### Uncomment to submit using v2 of submit function  "
   ]
  },
  {
   "cell_type": "code",
   "execution_count": 224,
   "id": "10fc4a97",
   "metadata": {
    "execution": {
     "iopub.execute_input": "2023-08-09T07:53:17.494190Z",
     "iopub.status.busy": "2023-08-09T07:53:17.493523Z",
     "iopub.status.idle": "2023-08-09T07:53:17.497156Z",
     "shell.execute_reply": "2023-08-09T07:53:17.496480Z"
    },
    "papermill": {
     "duration": 0.10937,
     "end_time": "2023-08-09T07:53:17.499142",
     "exception": false,
     "start_time": "2023-08-09T07:53:17.389772",
     "status": "completed"
    },
    "tags": []
   },
   "outputs": [],
   "source": [
    "# best4 = [\"audienceScore\", \"rating\", \"isFrequentReviewer\", \"reviewText\"]\n",
    "# best4"
   ]
  },
  {
   "cell_type": "code",
   "execution_count": 225,
   "id": "9f4a5ecb",
   "metadata": {
    "execution": {
     "iopub.execute_input": "2023-08-09T07:53:17.703779Z",
     "iopub.status.busy": "2023-08-09T07:53:17.703095Z",
     "iopub.status.idle": "2023-08-09T07:53:17.706926Z",
     "shell.execute_reply": "2023-08-09T07:53:17.706153Z"
    },
    "papermill": {
     "duration": 0.109325,
     "end_time": "2023-08-09T07:53:17.709061",
     "exception": false,
     "start_time": "2023-08-09T07:53:17.599736",
     "status": "completed"
    },
    "tags": []
   },
   "outputs": [],
   "source": [
    "# submit_v2(selected_model=pipe_RTonly, selected_features=['reviewText'])"
   ]
  },
  {
   "cell_type": "markdown",
   "id": "a1d446eb",
   "metadata": {
    "papermill": {
     "duration": 0.101125,
     "end_time": "2023-08-09T07:53:17.911349",
     "exception": false,
     "start_time": "2023-08-09T07:53:17.810224",
     "status": "completed"
    },
    "tags": []
   },
   "source": [
    "### Inspect the submission.csv file  "
   ]
  },
  {
   "cell_type": "code",
   "execution_count": 226,
   "id": "1fbe42d8",
   "metadata": {
    "execution": {
     "iopub.execute_input": "2023-08-09T07:53:18.118806Z",
     "iopub.status.busy": "2023-08-09T07:53:18.118380Z",
     "iopub.status.idle": "2023-08-09T07:53:18.122682Z",
     "shell.execute_reply": "2023-08-09T07:53:18.121640Z"
    },
    "papermill": {
     "duration": 0.111761,
     "end_time": "2023-08-09T07:53:18.124807",
     "exception": false,
     "start_time": "2023-08-09T07:53:18.013046",
     "status": "completed"
    },
    "tags": []
   },
   "outputs": [],
   "source": [
    "# sub = pd.read_csv('submission.csv')\n",
    "# sub.shape, sub.head()"
   ]
  },
  {
   "cell_type": "code",
   "execution_count": 227,
   "id": "5d447ed6",
   "metadata": {
    "execution": {
     "iopub.execute_input": "2023-08-09T07:53:18.331139Z",
     "iopub.status.busy": "2023-08-09T07:53:18.330725Z",
     "iopub.status.idle": "2023-08-09T07:53:18.335213Z",
     "shell.execute_reply": "2023-08-09T07:53:18.334179Z"
    },
    "papermill": {
     "duration": 0.110082,
     "end_time": "2023-08-09T07:53:18.337193",
     "exception": false,
     "start_time": "2023-08-09T07:53:18.227111",
     "status": "completed"
    },
    "tags": []
   },
   "outputs": [],
   "source": [
    "# sub['sentiment'].value_counts()"
   ]
  },
  {
   "cell_type": "markdown",
   "id": "9911179a",
   "metadata": {
    "papermill": {
     "duration": 0.101821,
     "end_time": "2023-08-09T07:53:18.541883",
     "exception": false,
     "start_time": "2023-08-09T07:53:18.440062",
     "status": "completed"
    },
    "tags": []
   },
   "source": [
    "## submit_v3 for merged file models - does not retrain on whole data  "
   ]
  },
  {
   "cell_type": "code",
   "execution_count": 228,
   "id": "f23f092d",
   "metadata": {
    "execution": {
     "iopub.execute_input": "2023-08-09T07:53:18.748831Z",
     "iopub.status.busy": "2023-08-09T07:53:18.748381Z",
     "iopub.status.idle": "2023-08-09T07:53:18.754032Z",
     "shell.execute_reply": "2023-08-09T07:53:18.752961Z"
    },
    "papermill": {
     "duration": 0.111858,
     "end_time": "2023-08-09T07:53:18.756074",
     "exception": false,
     "start_time": "2023-08-09T07:53:18.644216",
     "status": "completed"
    },
    "tags": []
   },
   "outputs": [],
   "source": [
    "# def submit_v3(selected_model=pipe_final):\n",
    "#     '''\n",
    "#     Note that \"selected_preprocessor\" is already used within selected_model or pipeline\n",
    "#     '''\n",
    "      \n",
    "#     # Predict on test.csv file\n",
    "#     merged_test = select_features(load_csv(\"test\"), load_csv(\"movies\"))\n",
    "#     X_test = merged_test.copy()\n",
    "    \n",
    "#     X_test = X_test[[\"audienceScore\", \"rating\", \"isFrequentReviewer\", \"reviewText\"]]    # This is a new line\n",
    "\n",
    "    \n",
    "#     y_pred = selected_model.predict(X_test)\n",
    "    \n",
    "#     pred_df = pd.DataFrame(y_pred)\n",
    "#     pred_df.columns = [\"sentiment\"]\n",
    "#     pred_df.index.name = \"id\"\n",
    "#     pred_df.to_csv(\"submission.csv\")\n",
    "    \n",
    "#     return \"Successfully created the submission file!!!\""
   ]
  },
  {
   "cell_type": "markdown",
   "id": "ee6d81fb",
   "metadata": {
    "papermill": {
     "duration": 0.10141,
     "end_time": "2023-08-09T07:53:18.959532",
     "exception": false,
     "start_time": "2023-08-09T07:53:18.858122",
     "status": "completed"
    },
    "tags": []
   },
   "source": [
    "### Uncomment to submit using v3 of submit function  "
   ]
  },
  {
   "cell_type": "code",
   "execution_count": 229,
   "id": "a8ea82f2",
   "metadata": {
    "execution": {
     "iopub.execute_input": "2023-08-09T07:53:19.167348Z",
     "iopub.status.busy": "2023-08-09T07:53:19.166550Z",
     "iopub.status.idle": "2023-08-09T07:53:19.171142Z",
     "shell.execute_reply": "2023-08-09T07:53:19.170040Z"
    },
    "papermill": {
     "duration": 0.111518,
     "end_time": "2023-08-09T07:53:19.173260",
     "exception": false,
     "start_time": "2023-08-09T07:53:19.061742",
     "status": "completed"
    },
    "tags": []
   },
   "outputs": [],
   "source": [
    "# submit_v3(selected_model=pipe_best4)"
   ]
  },
  {
   "cell_type": "markdown",
   "id": "bf32fbce",
   "metadata": {
    "papermill": {
     "duration": 0.101976,
     "end_time": "2023-08-09T07:53:19.377365",
     "exception": false,
     "start_time": "2023-08-09T07:53:19.275389",
     "status": "completed"
    },
    "tags": []
   },
   "source": [
    "## Rough work  "
   ]
  },
  {
   "cell_type": "code",
   "execution_count": 230,
   "id": "252fdd38",
   "metadata": {
    "execution": {
     "iopub.execute_input": "2023-08-09T07:53:19.583364Z",
     "iopub.status.busy": "2023-08-09T07:53:19.582962Z",
     "iopub.status.idle": "2023-08-09T07:53:25.584752Z",
     "shell.execute_reply": "2023-08-09T07:53:25.583571Z"
    },
    "papermill": {
     "duration": 6.107723,
     "end_time": "2023-08-09T07:53:25.587410",
     "exception": false,
     "start_time": "2023-08-09T07:53:19.479687",
     "status": "completed"
    },
    "tags": []
   },
   "outputs": [],
   "source": [
    "    # Predict on test.csv file\n",
    "    merged_test = select_features(load_csv(\"test\"), load_csv(\"movies\"))\n",
    "    X_test = merged_test.copy()\n",
    "    \n",
    "    X_test = X_test[[\"audienceScore\", \"rating\", \"isFrequentReviewer\", \"reviewText\"]]    # This is a new line"
   ]
  },
  {
   "cell_type": "code",
   "execution_count": 231,
   "id": "8af5fde1",
   "metadata": {
    "execution": {
     "iopub.execute_input": "2023-08-09T07:53:25.794307Z",
     "iopub.status.busy": "2023-08-09T07:53:25.793893Z",
     "iopub.status.idle": "2023-08-09T07:53:25.798839Z",
     "shell.execute_reply": "2023-08-09T07:53:25.797657Z"
    },
    "papermill": {
     "duration": 0.110768,
     "end_time": "2023-08-09T07:53:25.800908",
     "exception": false,
     "start_time": "2023-08-09T07:53:25.690140",
     "status": "completed"
    },
    "tags": []
   },
   "outputs": [],
   "source": [
    "# X_test.head()"
   ]
  },
  {
   "cell_type": "code",
   "execution_count": 232,
   "id": "083d470d",
   "metadata": {
    "execution": {
     "iopub.execute_input": "2023-08-09T07:53:26.006926Z",
     "iopub.status.busy": "2023-08-09T07:53:26.006478Z",
     "iopub.status.idle": "2023-08-09T07:53:26.010945Z",
     "shell.execute_reply": "2023-08-09T07:53:26.009703Z"
    },
    "papermill": {
     "duration": 0.110174,
     "end_time": "2023-08-09T07:53:26.013214",
     "exception": false,
     "start_time": "2023-08-09T07:53:25.903040",
     "status": "completed"
    },
    "tags": []
   },
   "outputs": [],
   "source": [
    "# X_test['audienceScore'].describe()"
   ]
  },
  {
   "cell_type": "code",
   "execution_count": 233,
   "id": "ec3683be",
   "metadata": {
    "execution": {
     "iopub.execute_input": "2023-08-09T07:53:26.221523Z",
     "iopub.status.busy": "2023-08-09T07:53:26.221146Z",
     "iopub.status.idle": "2023-08-09T07:53:26.225332Z",
     "shell.execute_reply": "2023-08-09T07:53:26.224437Z"
    },
    "papermill": {
     "duration": 0.110348,
     "end_time": "2023-08-09T07:53:26.227686",
     "exception": false,
     "start_time": "2023-08-09T07:53:26.117338",
     "status": "completed"
    },
    "tags": []
   },
   "outputs": [],
   "source": [
    "# X_test['rating'].value_counts()"
   ]
  },
  {
   "cell_type": "code",
   "execution_count": 234,
   "id": "05404fc4",
   "metadata": {
    "execution": {
     "iopub.execute_input": "2023-08-09T07:53:26.434306Z",
     "iopub.status.busy": "2023-08-09T07:53:26.433942Z",
     "iopub.status.idle": "2023-08-09T07:53:26.438265Z",
     "shell.execute_reply": "2023-08-09T07:53:26.437180Z"
    },
    "papermill": {
     "duration": 0.110071,
     "end_time": "2023-08-09T07:53:26.440449",
     "exception": false,
     "start_time": "2023-08-09T07:53:26.330378",
     "status": "completed"
    },
    "tags": []
   },
   "outputs": [],
   "source": [
    "# X_test['isFrequentReviewer'].value_counts()"
   ]
  },
  {
   "cell_type": "markdown",
   "id": "de9a8835",
   "metadata": {
    "papermill": {
     "duration": 0.163266,
     "end_time": "2023-08-09T07:53:26.705802",
     "exception": false,
     "start_time": "2023-08-09T07:53:26.542536",
     "status": "completed"
    },
    "tags": []
   },
   "source": [
    "## Implement KNN classifier  "
   ]
  },
  {
   "cell_type": "code",
   "execution_count": 235,
   "id": "c0825b29",
   "metadata": {
    "execution": {
     "iopub.execute_input": "2023-08-09T07:53:26.912442Z",
     "iopub.status.busy": "2023-08-09T07:53:26.911694Z",
     "iopub.status.idle": "2023-08-09T07:53:26.916664Z",
     "shell.execute_reply": "2023-08-09T07:53:26.915563Z"
    },
    "papermill": {
     "duration": 0.110397,
     "end_time": "2023-08-09T07:53:26.918771",
     "exception": false,
     "start_time": "2023-08-09T07:53:26.808374",
     "status": "completed"
    },
    "tags": []
   },
   "outputs": [],
   "source": [
    "# from sklearn.neighbors import KNeighborsClassifier"
   ]
  },
  {
   "cell_type": "code",
   "execution_count": 236,
   "id": "4030aba2",
   "metadata": {
    "execution": {
     "iopub.execute_input": "2023-08-09T07:53:27.128472Z",
     "iopub.status.busy": "2023-08-09T07:53:27.128085Z",
     "iopub.status.idle": "2023-08-09T07:53:27.132613Z",
     "shell.execute_reply": "2023-08-09T07:53:27.131625Z"
    },
    "papermill": {
     "duration": 0.113931,
     "end_time": "2023-08-09T07:53:27.134723",
     "exception": false,
     "start_time": "2023-08-09T07:53:27.020792",
     "status": "completed"
    },
    "tags": []
   },
   "outputs": [],
   "source": [
    "# Note that we are borrowing \"ct_final\" column transformer from above  "
   ]
  },
  {
   "cell_type": "code",
   "execution_count": 237,
   "id": "6db93cbd",
   "metadata": {
    "execution": {
     "iopub.execute_input": "2023-08-09T07:53:27.344345Z",
     "iopub.status.busy": "2023-08-09T07:53:27.343932Z",
     "iopub.status.idle": "2023-08-09T07:53:27.348790Z",
     "shell.execute_reply": "2023-08-09T07:53:27.347454Z"
    },
    "papermill": {
     "duration": 0.113254,
     "end_time": "2023-08-09T07:53:27.351298",
     "exception": false,
     "start_time": "2023-08-09T07:53:27.238044",
     "status": "completed"
    },
    "tags": []
   },
   "outputs": [],
   "source": [
    "# pipe_knn = Pipeline(steps=[\n",
    "#                         (\"preprocessor\", ct_final),\n",
    "#                         (\"model\", KNeighborsClassifier())\n",
    "#                     ])\n",
    "# pipe_knn"
   ]
  },
  {
   "cell_type": "code",
   "execution_count": 238,
   "id": "2072ae52",
   "metadata": {
    "execution": {
     "iopub.execute_input": "2023-08-09T07:53:27.560067Z",
     "iopub.status.busy": "2023-08-09T07:53:27.559662Z",
     "iopub.status.idle": "2023-08-09T07:53:27.563675Z",
     "shell.execute_reply": "2023-08-09T07:53:27.562944Z"
    },
    "papermill": {
     "duration": 0.110012,
     "end_time": "2023-08-09T07:53:27.565726",
     "exception": false,
     "start_time": "2023-08-09T07:53:27.455714",
     "status": "completed"
    },
    "tags": []
   },
   "outputs": [],
   "source": [
    "# Train and predict on merged training data  \n",
    "# split_train_predict(merged_train_features, merged_train_labels, pipe_knn, test_size=0.25, random_state=42)"
   ]
  }
 ],
 "metadata": {
  "kernelspec": {
   "display_name": "Python 3",
   "language": "python",
   "name": "python3"
  },
  "language_info": {
   "codemirror_mode": {
    "name": "ipython",
    "version": 3
   },
   "file_extension": ".py",
   "mimetype": "text/x-python",
   "name": "python",
   "nbconvert_exporter": "python",
   "pygments_lexer": "ipython3",
   "version": "3.10.10"
  },
  "papermill": {
   "default_parameters": {},
   "duration": 2994.743147,
   "end_time": "2023-08-09T07:53:30.495889",
   "environment_variables": {},
   "exception": null,
   "input_path": "__notebook__.ipynb",
   "output_path": "__notebook__.ipynb",
   "parameters": {},
   "start_time": "2023-08-09T07:03:35.752742",
   "version": "2.4.0"
  }
 },
 "nbformat": 4,
 "nbformat_minor": 5
}
