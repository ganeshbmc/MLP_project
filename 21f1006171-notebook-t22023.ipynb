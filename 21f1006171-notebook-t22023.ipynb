{
 "cells": [
  {
   "cell_type": "markdown",
   "id": "ea376a04",
   "metadata": {
    "papermill": {
     "duration": 0.109842,
     "end_time": "2023-08-26T04:40:55.090070",
     "exception": false,
     "start_time": "2023-08-26T04:40:54.980228",
     "status": "completed"
    },
    "tags": []
   },
   "source": [
    "# MLP Project (T2 2023) by Ganesh P  "
   ]
  },
  {
   "cell_type": "markdown",
   "id": "a2fb4174",
   "metadata": {
    "papermill": {
     "duration": 0.107645,
     "end_time": "2023-08-26T04:40:55.302878",
     "exception": false,
     "start_time": "2023-08-26T04:40:55.195233",
     "status": "completed"
    },
    "tags": []
   },
   "source": [
    "`Disclaimer`   \n",
    "\n",
    "> This final notebook contains only the most relevant code to show the path/flow of my project work over few weeks. Rest of the code is in [my github repo](https://github.com/ganeshbmc/MLP_project) which is private at present (I will make it public after the project is over).  "
   ]
  },
  {
   "cell_type": "markdown",
   "id": "44b7a076",
   "metadata": {
    "papermill": {
     "duration": 0.107024,
     "end_time": "2023-08-26T04:40:55.517347",
     "exception": false,
     "start_time": "2023-08-26T04:40:55.410323",
     "status": "completed"
    },
    "tags": []
   },
   "source": [
    "`Strengths`  \n",
    "\n",
    "> * Modular code (DRY principle)  \n",
    "> * End to end pipeline in one function (with helper functions)   "
   ]
  },
  {
   "cell_type": "markdown",
   "id": "19580374",
   "metadata": {
    "papermill": {
     "duration": 0.108962,
     "end_time": "2023-08-26T04:40:55.737690",
     "exception": false,
     "start_time": "2023-08-26T04:40:55.628728",
     "status": "completed"
    },
    "tags": []
   },
   "source": [
    "`Overview`  \n",
    "\n",
    "`PART I`  \n",
    "\n",
    "1.\t> Screen the datasets and import them.  \n",
    "2.\t> Perform EDA (first round).\n",
    "3.\t> Data cleaning.\n",
    "4.\t> Basic models including dummy model.\n",
    "5.\t> Because this is a text sentiment analysis project, focus on 'reviewText' column, work on cleaning text data and vectorising/tokenising it, build several models till the best possible score is reached.  \n",
    "\n",
    "\n",
    "`PART II`  \n",
    "\n",
    "6.\t> Merge train and movies dataset.\n",
    "7.\t> Perform EDA (second round) on merged dataset.\n",
    "8.\t> Data cleaning.\n",
    "9.\t> Build models on merged dataset.\n",
    "10.\t> Understand the results and do another round of EDA if needed.\n",
    "11.\t> Try ensemble methods, bagging, boosting.  \n",
    "12. > Select top model(s).\n",
    "\n",
    "\n",
    "`PART III`  \n",
    "\n",
    "14. > Implement models with SGDClassifier to improve performance  \n",
    "15. > Try KNN imputers, polynomial transformations  \n",
    "16. > Build voting and stacking classifiers (ensemble) to combine strengths of best models selected after part II.  \n",
    "17. > Compare performances of individual models, custom ensemble models in terms of scores, computational complexity and performance.\n",
    "\n",
    "\n",
    "`PART IV (After project window closes)`  \n",
    "\n",
    "18. > Try to address comments from different languages, special characters etc.  \n",
    "19. > Try imblearn library to address class imbalance.  \n",
    "20. > Try to use other libraries (which are disallowed in this project), currently available LLMs and see how my model performs against them.  "
   ]
  },
  {
   "cell_type": "markdown",
   "id": "b750aa5e",
   "metadata": {
    "papermill": {
     "duration": 0.109285,
     "end_time": "2023-08-26T04:40:55.956278",
     "exception": false,
     "start_time": "2023-08-26T04:40:55.846993",
     "status": "completed"
    },
    "tags": []
   },
   "source": [
    "`Default code on Kaggle notebook`  "
   ]
  },
  {
   "cell_type": "code",
   "execution_count": 1,
   "id": "5a44a308",
   "metadata": {
    "_cell_guid": "b1076dfc-b9ad-4769-8c92-a6c4dae69d19",
    "_uuid": "8f2839f25d086af736a60e9eeb907d3b93b6e0e5",
    "execution": {
     "iopub.execute_input": "2023-08-26T04:40:56.184259Z",
     "iopub.status.busy": "2023-08-26T04:40:56.183613Z",
     "iopub.status.idle": "2023-08-26T04:40:56.205453Z",
     "shell.execute_reply": "2023-08-26T04:40:56.203418Z"
    },
    "papermill": {
     "duration": 0.14115,
     "end_time": "2023-08-26T04:40:56.210525",
     "exception": false,
     "start_time": "2023-08-26T04:40:56.069375",
     "status": "completed"
    },
    "tags": []
   },
   "outputs": [
    {
     "name": "stdout",
     "output_type": "stream",
     "text": [
      "/kaggle/input/sentiment-prediction-on-movie-reviews/movies.csv\n",
      "/kaggle/input/sentiment-prediction-on-movie-reviews/sample.csv\n",
      "/kaggle/input/sentiment-prediction-on-movie-reviews/train.csv\n",
      "/kaggle/input/sentiment-prediction-on-movie-reviews/test.csv\n"
     ]
    }
   ],
   "source": [
    "# This Python 3 environment comes with many helpful analytics libraries installed\n",
    "# It is defined by the kaggle/python Docker image: https://github.com/kaggle/docker-python\n",
    "# For example, here's several helpful packages to load\n",
    "\n",
    "import numpy as np # linear algebra\n",
    "import pandas as pd # data processing, CSV file I/O (e.g. pd.read_csv)\n",
    "\n",
    "# Input data files are available in the read-only \"../input/\" directory\n",
    "# For example, running this (by clicking run or pressing Shift+Enter) will list all files under the input directory\n",
    "\n",
    "import os\n",
    "for dirname, _, filenames in os.walk('/kaggle/input'):\n",
    "    for filename in filenames:\n",
    "        print(os.path.join(dirname, filename))\n",
    "\n",
    "# You can write up to 20GB to the current directory (/kaggle/working/) that gets preserved as output when you create a version using \"Save & Run All\" \n",
    "# You can also write temporary files to /kaggle/temp/, but they won't be saved outside of the current session"
   ]
  },
  {
   "cell_type": "markdown",
   "id": "c9b00c5f",
   "metadata": {
    "papermill": {
     "duration": 0.107689,
     "end_time": "2023-08-26T04:40:56.428428",
     "exception": false,
     "start_time": "2023-08-26T04:40:56.320739",
     "status": "completed"
    },
    "tags": []
   },
   "source": [
    "### Specify platform  "
   ]
  },
  {
   "cell_type": "code",
   "execution_count": 2,
   "id": "94438b47",
   "metadata": {
    "execution": {
     "iopub.execute_input": "2023-08-26T04:40:56.651555Z",
     "iopub.status.busy": "2023-08-26T04:40:56.650697Z",
     "iopub.status.idle": "2023-08-26T04:40:56.656451Z",
     "shell.execute_reply": "2023-08-26T04:40:56.655267Z"
    },
    "papermill": {
     "duration": 0.121449,
     "end_time": "2023-08-26T04:40:56.659356",
     "exception": false,
     "start_time": "2023-08-26T04:40:56.537907",
     "status": "completed"
    },
    "tags": []
   },
   "outputs": [],
   "source": [
    "platform = 'kaggle'  "
   ]
  },
  {
   "cell_type": "markdown",
   "id": "d7f3c069",
   "metadata": {
    "papermill": {
     "duration": 0.11072,
     "end_time": "2023-08-26T04:40:56.878363",
     "exception": false,
     "start_time": "2023-08-26T04:40:56.767643",
     "status": "completed"
    },
    "tags": []
   },
   "source": [
    "### Import libraries  "
   ]
  },
  {
   "cell_type": "code",
   "execution_count": 3,
   "id": "45138780",
   "metadata": {
    "execution": {
     "iopub.execute_input": "2023-08-26T04:40:57.102025Z",
     "iopub.status.busy": "2023-08-26T04:40:57.101288Z",
     "iopub.status.idle": "2023-08-26T04:41:00.059776Z",
     "shell.execute_reply": "2023-08-26T04:41:00.057540Z"
    },
    "papermill": {
     "duration": 3.075959,
     "end_time": "2023-08-26T04:41:00.063722",
     "exception": false,
     "start_time": "2023-08-26T04:40:56.987763",
     "status": "completed"
    },
    "tags": []
   },
   "outputs": [
    {
     "name": "stdout",
     "output_type": "stream",
     "text": [
      "Imports done.\n"
     ]
    }
   ],
   "source": [
    "# Basic libraries\n",
    "import pandas as pd\n",
    "import numpy as np\n",
    "import re\n",
    "from itertools import compress\n",
    "\n",
    "# Visualization libraries\n",
    "import matplotlib.pyplot as plt\n",
    "import seaborn as sns\n",
    "\n",
    "# Statistical libraries\n",
    "import scipy.stats as stats\n",
    "\n",
    "# Sklearn \n",
    "# Preprocessing, feature extraction, feature selection\n",
    "from sklearn.feature_extraction.text import TfidfVectorizer, CountVectorizer\n",
    "from sklearn.preprocessing import StandardScaler, MinMaxScaler, RobustScaler, OneHotEncoder, LabelEncoder, PolynomialFeatures\n",
    "from sklearn.preprocessing import FunctionTransformer\n",
    "from sklearn.impute import SimpleImputer, KNNImputer\n",
    "from sklearn.feature_selection import RFE, RFECV\n",
    "from sklearn.decomposition import PCA, TruncatedSVD\n",
    "from sklearn.pipeline import Pipeline, FeatureUnion\n",
    "from sklearn.compose import ColumnTransformer\n",
    "from sklearn.model_selection import train_test_split, GridSearchCV, cross_val_score\n",
    "\n",
    "# Models\n",
    "from sklearn.dummy import DummyClassifier\n",
    "from sklearn.linear_model import LogisticRegression, SGDClassifier\n",
    "from sklearn.svm import LinearSVC\n",
    "from sklearn.naive_bayes import GaussianNB, BernoulliNB, CategoricalNB, ComplementNB, MultinomialNB\n",
    "from sklearn.neural_network import MLPClassifier\n",
    "from sklearn.tree import DecisionTreeClassifier\n",
    "from sklearn.ensemble import RandomForestClassifier, AdaBoostClassifier, StackingClassifier\n",
    "# import lightgbm as ltb\n",
    "\n",
    "# Evaluation\n",
    "from sklearn.metrics import classification_report, confusion_matrix, f1_score\n",
    "from sklearn.metrics import roc_auc_score, roc_curve, precision_recall_curve\n",
    "\n",
    "print(\"Imports done.\")"
   ]
  },
  {
   "cell_type": "markdown",
   "id": "2f664903",
   "metadata": {
    "papermill": {
     "duration": 0.108504,
     "end_time": "2023-08-26T04:41:00.283181",
     "exception": false,
     "start_time": "2023-08-26T04:41:00.174677",
     "status": "completed"
    },
    "tags": []
   },
   "source": [
    "# PART I  "
   ]
  },
  {
   "cell_type": "markdown",
   "id": "9886bb35",
   "metadata": {
    "papermill": {
     "duration": 0.107499,
     "end_time": "2023-08-26T04:41:00.499399",
     "exception": false,
     "start_time": "2023-08-26T04:41:00.391900",
     "status": "completed"
    },
    "tags": []
   },
   "source": [
    "## Load datasets  "
   ]
  },
  {
   "cell_type": "code",
   "execution_count": 4,
   "id": "fab1c3e7",
   "metadata": {
    "execution": {
     "iopub.execute_input": "2023-08-26T04:41:00.829140Z",
     "iopub.status.busy": "2023-08-26T04:41:00.828632Z",
     "iopub.status.idle": "2023-08-26T04:41:02.181934Z",
     "shell.execute_reply": "2023-08-26T04:41:02.180470Z"
    },
    "papermill": {
     "duration": 1.471923,
     "end_time": "2023-08-26T04:41:02.185249",
     "exception": false,
     "start_time": "2023-08-26T04:41:00.713326",
     "status": "completed"
    },
    "tags": []
   },
   "outputs": [
    {
     "data": {
      "text/plain": [
       "(162758, 5)"
      ]
     },
     "execution_count": 4,
     "metadata": {},
     "output_type": "execute_result"
    }
   ],
   "source": [
    "if platform == 'vscode':\n",
    "    traindf = pd.read_csv(\"data/train.csv\")\n",
    "else:\n",
    "    traindf = pd.read_csv(\"/kaggle/input/sentiment-prediction-on-movie-reviews/train.csv\")\n",
    "    \n",
    "traindf.shape"
   ]
  },
  {
   "cell_type": "code",
   "execution_count": 5,
   "id": "9198a516",
   "metadata": {
    "execution": {
     "iopub.execute_input": "2023-08-26T04:41:02.407205Z",
     "iopub.status.busy": "2023-08-26T04:41:02.406695Z",
     "iopub.status.idle": "2023-08-26T04:41:02.782758Z",
     "shell.execute_reply": "2023-08-26T04:41:02.781151Z"
    },
    "papermill": {
     "duration": 0.491342,
     "end_time": "2023-08-26T04:41:02.786162",
     "exception": false,
     "start_time": "2023-08-26T04:41:02.294820",
     "status": "completed"
    },
    "tags": []
   },
   "outputs": [
    {
     "data": {
      "text/plain": [
       "(55315, 4)"
      ]
     },
     "execution_count": 5,
     "metadata": {},
     "output_type": "execute_result"
    }
   ],
   "source": [
    "if platform == 'vscode':\n",
    "    testdf = pd.read_csv(\"data/test.csv\")\n",
    "else:\n",
    "    testdf = pd.read_csv(\"/kaggle/input/sentiment-prediction-on-movie-reviews/test.csv\")\n",
    "\n",
    "testdf.shape"
   ]
  },
  {
   "cell_type": "markdown",
   "id": "9c49243b",
   "metadata": {
    "papermill": {
     "duration": 0.110995,
     "end_time": "2023-08-26T04:41:03.007264",
     "exception": false,
     "start_time": "2023-08-26T04:41:02.896269",
     "status": "completed"
    },
    "tags": []
   },
   "source": [
    "### Understanding the data and getting it ready for training and evaluating models  \n"
   ]
  },
  {
   "cell_type": "code",
   "execution_count": 6,
   "id": "73691b60",
   "metadata": {
    "execution": {
     "iopub.execute_input": "2023-08-26T04:41:03.235505Z",
     "iopub.status.busy": "2023-08-26T04:41:03.234992Z",
     "iopub.status.idle": "2023-08-26T04:41:03.244091Z",
     "shell.execute_reply": "2023-08-26T04:41:03.242122Z"
    },
    "papermill": {
     "duration": 0.126299,
     "end_time": "2023-08-26T04:41:03.246916",
     "exception": false,
     "start_time": "2023-08-26T04:41:03.120617",
     "status": "completed"
    },
    "tags": []
   },
   "outputs": [
    {
     "data": {
      "text/plain": [
       "(162758, 5)"
      ]
     },
     "execution_count": 6,
     "metadata": {},
     "output_type": "execute_result"
    }
   ],
   "source": [
    "traindf.shape"
   ]
  },
  {
   "cell_type": "code",
   "execution_count": 7,
   "id": "7c0064cb",
   "metadata": {
    "execution": {
     "iopub.execute_input": "2023-08-26T04:41:03.470851Z",
     "iopub.status.busy": "2023-08-26T04:41:03.470349Z",
     "iopub.status.idle": "2023-08-26T04:41:03.727914Z",
     "shell.execute_reply": "2023-08-26T04:41:03.726590Z"
    },
    "papermill": {
     "duration": 0.373749,
     "end_time": "2023-08-26T04:41:03.731323",
     "exception": false,
     "start_time": "2023-08-26T04:41:03.357574",
     "status": "completed"
    },
    "tags": []
   },
   "outputs": [
    {
     "name": "stdout",
     "output_type": "stream",
     "text": [
      "<class 'pandas.core.frame.DataFrame'>\n",
      "RangeIndex: 162758 entries, 0 to 162757\n",
      "Data columns (total 5 columns):\n",
      " #   Column              Non-Null Count   Dtype \n",
      "---  ------              --------------   ----- \n",
      " 0   movieid             162758 non-null  object\n",
      " 1   reviewerName        162758 non-null  object\n",
      " 2   isFrequentReviewer  162758 non-null  bool  \n",
      " 3   reviewText          156311 non-null  object\n",
      " 4   sentiment           162758 non-null  object\n",
      "dtypes: bool(1), object(4)\n",
      "memory usage: 5.1+ MB\n"
     ]
    }
   ],
   "source": [
    "traindf.info()"
   ]
  },
  {
   "cell_type": "code",
   "execution_count": 8,
   "id": "8e0904b7",
   "metadata": {
    "execution": {
     "iopub.execute_input": "2023-08-26T04:41:03.953407Z",
     "iopub.status.busy": "2023-08-26T04:41:03.952923Z",
     "iopub.status.idle": "2023-08-26T04:41:04.188028Z",
     "shell.execute_reply": "2023-08-26T04:41:04.186773Z"
    },
    "papermill": {
     "duration": 0.349884,
     "end_time": "2023-08-26T04:41:04.191209",
     "exception": false,
     "start_time": "2023-08-26T04:41:03.841325",
     "status": "completed"
    },
    "tags": []
   },
   "outputs": [
    {
     "data": {
      "text/plain": [
       "movieid                  0\n",
       "reviewerName             0\n",
       "isFrequentReviewer       0\n",
       "reviewText            6447\n",
       "sentiment                0\n",
       "dtype: int64"
      ]
     },
     "execution_count": 8,
     "metadata": {},
     "output_type": "execute_result"
    }
   ],
   "source": [
    "traindf.isna().sum()"
   ]
  },
  {
   "cell_type": "markdown",
   "id": "f8abdbce",
   "metadata": {
    "papermill": {
     "duration": 0.116559,
     "end_time": "2023-08-26T04:41:04.419726",
     "exception": false,
     "start_time": "2023-08-26T04:41:04.303167",
     "status": "completed"
    },
    "tags": []
   },
   "source": [
    "### Fill empty reviewText with custom text  "
   ]
  },
  {
   "cell_type": "code",
   "execution_count": 9,
   "id": "3c64bc49",
   "metadata": {
    "execution": {
     "iopub.execute_input": "2023-08-26T04:41:04.650661Z",
     "iopub.status.busy": "2023-08-26T04:41:04.650216Z",
     "iopub.status.idle": "2023-08-26T04:41:04.897056Z",
     "shell.execute_reply": "2023-08-26T04:41:04.895590Z"
    },
    "papermill": {
     "duration": 0.36904,
     "end_time": "2023-08-26T04:41:04.900374",
     "exception": false,
     "start_time": "2023-08-26T04:41:04.531334",
     "status": "completed"
    },
    "tags": []
   },
   "outputs": [
    {
     "data": {
      "text/plain": [
       "movieid               0\n",
       "reviewerName          0\n",
       "isFrequentReviewer    0\n",
       "reviewText            0\n",
       "sentiment             0\n",
       "dtype: int64"
      ]
     },
     "execution_count": 9,
     "metadata": {},
     "output_type": "execute_result"
    }
   ],
   "source": [
    "traindf[\"reviewText\"].fillna(\"empty\", inplace=True)\n",
    "traindf.isna().sum()"
   ]
  },
  {
   "cell_type": "markdown",
   "id": "a008109f",
   "metadata": {
    "papermill": {
     "duration": 0.108955,
     "end_time": "2023-08-26T04:41:05.128330",
     "exception": false,
     "start_time": "2023-08-26T04:41:05.019375",
     "status": "completed"
    },
    "tags": []
   },
   "source": [
    "## EDA  \n"
   ]
  },
  {
   "cell_type": "markdown",
   "id": "1d118a6e",
   "metadata": {
    "papermill": {
     "duration": 0.110186,
     "end_time": "2023-08-26T04:41:05.349662",
     "exception": false,
     "start_time": "2023-08-26T04:41:05.239476",
     "status": "completed"
    },
    "tags": []
   },
   "source": [
    "### Classes  "
   ]
  },
  {
   "cell_type": "code",
   "execution_count": 10,
   "id": "87bbca99",
   "metadata": {
    "execution": {
     "iopub.execute_input": "2023-08-26T04:41:05.598315Z",
     "iopub.status.busy": "2023-08-26T04:41:05.597841Z",
     "iopub.status.idle": "2023-08-26T04:41:05.902946Z",
     "shell.execute_reply": "2023-08-26T04:41:05.901248Z"
    },
    "papermill": {
     "duration": 0.424227,
     "end_time": "2023-08-26T04:41:05.907815",
     "exception": false,
     "start_time": "2023-08-26T04:41:05.483588",
     "status": "completed"
    },
    "tags": []
   },
   "outputs": [
    {
     "data": {
      "image/png": "[encoded data removed]",
      "text/plain": [
       "<Figure size 600x400 with 1 Axes>"
      ]
     },
     "metadata": {},
     "output_type": "display_data"
    }
   ],
   "source": [
    "# Pie chart for sentiment column\n",
    "plt.figure(figsize=(6, 4))\n",
    "traindf[\"sentiment\"].value_counts().plot(kind='pie', autopct='%1.0f%%', colors=[\"lightgreen\", \"crimson\"])\n",
    "plt.title(\"Pie chart for sentiment column\")\n",
    "plt.show()"
   ]
  },
  {
   "cell_type": "markdown",
   "id": "dba97324",
   "metadata": {
    "papermill": {
     "duration": 0.112629,
     "end_time": "2023-08-26T04:41:06.160693",
     "exception": false,
     "start_time": "2023-08-26T04:41:06.048064",
     "status": "completed"
    },
    "tags": []
   },
   "source": [
    "`Is there a significant class imbalance?`  \n",
    "\n",
    "* There is some class imbalance but it does not appear to be significant enough to affect performance of model.  \n",
    "\n",
    "* That said, I did experiment with 'class_weight' in the model fitting to see if it would improve the model.  It did not.  "
   ]
  },
  {
   "cell_type": "markdown",
   "id": "f7b0ef88",
   "metadata": {
    "papermill": {
     "duration": 0.108291,
     "end_time": "2023-08-26T04:41:06.376968",
     "exception": false,
     "start_time": "2023-08-26T04:41:06.268677",
     "status": "completed"
    },
    "tags": []
   },
   "source": [
    "### 'isFrequentReviewer' column  "
   ]
  },
  {
   "cell_type": "code",
   "execution_count": 11,
   "id": "dfed3c70",
   "metadata": {
    "execution": {
     "iopub.execute_input": "2023-08-26T04:41:06.598567Z",
     "iopub.status.busy": "2023-08-26T04:41:06.597683Z",
     "iopub.status.idle": "2023-08-26T04:41:06.614624Z",
     "shell.execute_reply": "2023-08-26T04:41:06.612704Z"
    },
    "papermill": {
     "duration": 0.131987,
     "end_time": "2023-08-26T04:41:06.617819",
     "exception": false,
     "start_time": "2023-08-26T04:41:06.485832",
     "status": "completed"
    },
    "tags": []
   },
   "outputs": [
    {
     "name": "stdout",
     "output_type": "stream",
     "text": [
      "False    113189\n",
      "True      49569\n",
      "Name: isFrequentReviewer, dtype: int64\n",
      "False    0.695444\n",
      "True     0.304556\n",
      "Name: isFrequentReviewer, dtype: float64\n"
     ]
    }
   ],
   "source": [
    "print(traindf['isFrequentReviewer'].value_counts())\n",
    "print(traindf['isFrequentReviewer'].value_counts(normalize=True))"
   ]
  },
  {
   "cell_type": "code",
   "execution_count": 12,
   "id": "57c3d0a3",
   "metadata": {
    "execution": {
     "iopub.execute_input": "2023-08-26T04:41:06.843189Z",
     "iopub.status.busy": "2023-08-26T04:41:06.842508Z",
     "iopub.status.idle": "2023-08-26T04:41:09.068838Z",
     "shell.execute_reply": "2023-08-26T04:41:09.067566Z"
    },
    "papermill": {
     "duration": 2.340644,
     "end_time": "2023-08-26T04:41:09.071521",
     "exception": false,
     "start_time": "2023-08-26T04:41:06.730877",
     "status": "completed"
    },
    "tags": []
   },
   "outputs": [
    {
     "data": {
      "text/plain": [
       "<Axes: xlabel='isFrequentReviewer', ylabel='isFrequentReviewer'>"
      ]
     },
     "execution_count": 12,
     "metadata": {},
     "output_type": "execute_result"
    },
    {
     "data": {
      "image/png": "[encoded data removed]",
      "text/plain": [
       "<Figure size 640x480 with 1 Axes>"
      ]
     },
     "metadata": {},
     "output_type": "display_data"
    }
   ],
   "source": [
    "# Barchart for isFrequentReviewer  \n",
    "sns.barplot(x='isFrequentReviewer', y='isFrequentReviewer', data=traindf, estimator=lambda x: len(x) / len(traindf) * 100)"
   ]
  },
  {
   "cell_type": "code",
   "execution_count": 13,
   "id": "7e93d432",
   "metadata": {
    "execution": {
     "iopub.execute_input": "2023-08-26T04:41:09.308117Z",
     "iopub.status.busy": "2023-08-26T04:41:09.307370Z",
     "iopub.status.idle": "2023-08-26T04:41:09.312709Z",
     "shell.execute_reply": "2023-08-26T04:41:09.311632Z"
    },
    "papermill": {
     "duration": 0.12589,
     "end_time": "2023-08-26T04:41:09.315657",
     "exception": false,
     "start_time": "2023-08-26T04:41:09.189767",
     "status": "completed"
    },
    "tags": []
   },
   "outputs": [],
   "source": [
    "# Pie chart for isFrequentReviewer column  \n",
    "# plt.figure(figsize=(6, 4))\n",
    "# traindf[\"isFrequentReviewer\"].value_counts().plot(kind='pie', autopct='%1.0f%%', colors=[\"lightgreen\", \"crimson\"])\n",
    "# plt.title(\"Pie chart for isFrequentReviewer column\")\n",
    "# plt.show()"
   ]
  },
  {
   "cell_type": "code",
   "execution_count": 14,
   "id": "4b344e89",
   "metadata": {
    "execution": {
     "iopub.execute_input": "2023-08-26T04:41:09.551129Z",
     "iopub.status.busy": "2023-08-26T04:41:09.550290Z",
     "iopub.status.idle": "2023-08-26T04:41:09.633700Z",
     "shell.execute_reply": "2023-08-26T04:41:09.631596Z"
    },
    "papermill": {
     "duration": 0.203765,
     "end_time": "2023-08-26T04:41:09.636823",
     "exception": false,
     "start_time": "2023-08-26T04:41:09.433058",
     "status": "completed"
    },
    "tags": []
   },
   "outputs": [
    {
     "name": "stdout",
     "output_type": "stream",
     "text": [
      "sentiment           NEGATIVE  POSITIVE\n",
      "isFrequentReviewer                    \n",
      "False                  35760     77429\n",
      "True                   18237     31332\n"
     ]
    },
    {
     "data": {
      "text/plain": [
       "Chi2ContingencyResult(statistic=419.89235425657796, pvalue=2.5755894769493255e-93, dof=1, expected_freq=array([[37551.86493444, 75637.13506556],\n",
       "       [16445.13506556, 33123.86493444]]))"
      ]
     },
     "execution_count": 14,
     "metadata": {},
     "output_type": "execute_result"
    }
   ],
   "source": [
    "# Chi-square test for isFrequentReviewer column and sentiment column   \n",
    "\n",
    "contingency_table = pd.crosstab(traindf['isFrequentReviewer'], traindf['sentiment'])\n",
    "print(contingency_table)\n",
    "stats.chi2_contingency(contingency_table)"
   ]
  },
  {
   "cell_type": "markdown",
   "id": "d49b3fe1",
   "metadata": {
    "papermill": {
     "duration": 0.220786,
     "end_time": "2023-08-26T04:41:09.974923",
     "exception": false,
     "start_time": "2023-08-26T04:41:09.754137",
     "status": "completed"
    },
    "tags": []
   },
   "source": [
    "`Does a frequent reviewer give more negative (or positive) reviews?`  \n",
    "\n",
    "* It appears that a frequent reviewer is more likely to give a 'negative' review than an infrequent reviewer (36.8% vs. 31.6%, p<0.001).  \n",
    "* This feature may be useful in predicting the sentiment of a review where reviewText is missing or does not contain enough information to determine sentiment.  "
   ]
  },
  {
   "cell_type": "markdown",
   "id": "f60c36a3",
   "metadata": {
    "papermill": {
     "duration": 0.112042,
     "end_time": "2023-08-26T04:41:10.205574",
     "exception": false,
     "start_time": "2023-08-26T04:41:10.093532",
     "status": "completed"
    },
    "tags": []
   },
   "source": [
    "### Other columns  "
   ]
  },
  {
   "cell_type": "markdown",
   "id": "45b46c18",
   "metadata": {
    "papermill": {
     "duration": 0.114837,
     "end_time": "2023-08-26T04:41:10.434207",
     "exception": false,
     "start_time": "2023-08-26T04:41:10.319370",
     "status": "completed"
    },
    "tags": []
   },
   "source": [
    "`How many unique movies and reviewers are there in the dataset?`  "
   ]
  },
  {
   "cell_type": "code",
   "execution_count": 15,
   "id": "b2cc0d03",
   "metadata": {
    "execution": {
     "iopub.execute_input": "2023-08-26T04:41:10.664634Z",
     "iopub.status.busy": "2023-08-26T04:41:10.663626Z",
     "iopub.status.idle": "2023-08-26T04:41:10.739357Z",
     "shell.execute_reply": "2023-08-26T04:41:10.737839Z"
    },
    "papermill": {
     "duration": 0.19492,
     "end_time": "2023-08-26T04:41:10.743143",
     "exception": false,
     "start_time": "2023-08-26T04:41:10.548223",
     "status": "completed"
    },
    "tags": []
   },
   "outputs": [
    {
     "name": "stdout",
     "output_type": "stream",
     "text": [
      "Number of unique movies in training data: 16812\n",
      "Proportion of unique movies: 10.3%\n"
     ]
    }
   ],
   "source": [
    "print(f\"Number of unique movies in training data: {len(traindf['movieid'].unique())}\")\n",
    "print(f\"Proportion of unique movies: {len(traindf['movieid'].unique())/len(traindf) * 100:.1f}%\")"
   ]
  },
  {
   "cell_type": "code",
   "execution_count": 16,
   "id": "2043da54",
   "metadata": {
    "execution": {
     "iopub.execute_input": "2023-08-26T04:41:10.973503Z",
     "iopub.status.busy": "2023-08-26T04:41:10.972704Z",
     "iopub.status.idle": "2023-08-26T04:41:10.977739Z",
     "shell.execute_reply": "2023-08-26T04:41:10.976653Z"
    },
    "papermill": {
     "duration": 0.124977,
     "end_time": "2023-08-26T04:41:10.980477",
     "exception": false,
     "start_time": "2023-08-26T04:41:10.855500",
     "status": "completed"
    },
    "tags": []
   },
   "outputs": [],
   "source": [
    "# print(f\"Number of unique movies in test data: {len(testdf['movieid'].unique())}\")\n",
    "# print(f\"Proportion of unique movies in test data: {len(testdf['movieid'].unique())/len(testdf) * 100:.1f}%\")"
   ]
  },
  {
   "cell_type": "code",
   "execution_count": 17,
   "id": "f90eff19",
   "metadata": {
    "execution": {
     "iopub.execute_input": "2023-08-26T04:41:11.214259Z",
     "iopub.status.busy": "2023-08-26T04:41:11.213806Z",
     "iopub.status.idle": "2023-08-26T04:41:11.219414Z",
     "shell.execute_reply": "2023-08-26T04:41:11.218068Z"
    },
    "papermill": {
     "duration": 0.124047,
     "end_time": "2023-08-26T04:41:11.222411",
     "exception": false,
     "start_time": "2023-08-26T04:41:11.098364",
     "status": "completed"
    },
    "tags": []
   },
   "outputs": [],
   "source": [
    "# len(set(testdf['movieid'].unique()) - set(traindf['movieid'].unique()))\n",
    "# len(set(traindf['movieid'].unique()) - set(testdf['movieid'].unique()))"
   ]
  },
  {
   "cell_type": "code",
   "execution_count": 18,
   "id": "5528d520",
   "metadata": {
    "execution": {
     "iopub.execute_input": "2023-08-26T04:41:11.454297Z",
     "iopub.status.busy": "2023-08-26T04:41:11.452794Z",
     "iopub.status.idle": "2023-08-26T04:41:11.479986Z",
     "shell.execute_reply": "2023-08-26T04:41:11.478066Z"
    },
    "papermill": {
     "duration": 0.14735,
     "end_time": "2023-08-26T04:41:11.482907",
     "exception": false,
     "start_time": "2023-08-26T04:41:11.335557",
     "status": "completed"
    },
    "tags": []
   },
   "outputs": [
    {
     "name": "stdout",
     "output_type": "stream",
     "text": [
      "Number of unique reviewers in the dataset: 4482\n"
     ]
    }
   ],
   "source": [
    "print(f\"Number of unique reviewers in the dataset: {len(traindf['reviewerName'].unique())}\")"
   ]
  },
  {
   "cell_type": "code",
   "execution_count": 19,
   "id": "2db2c3b9",
   "metadata": {
    "execution": {
     "iopub.execute_input": "2023-08-26T04:41:11.714071Z",
     "iopub.status.busy": "2023-08-26T04:41:11.712998Z",
     "iopub.status.idle": "2023-08-26T04:41:11.748864Z",
     "shell.execute_reply": "2023-08-26T04:41:11.747608Z"
    },
    "papermill": {
     "duration": 0.156551,
     "end_time": "2023-08-26T04:41:11.751915",
     "exception": false,
     "start_time": "2023-08-26T04:41:11.595364",
     "status": "completed"
    },
    "tags": []
   },
   "outputs": [
    {
     "data": {
      "text/plain": [
       "Sherri Morrison      962\n",
       "Veronica Serrano     952\n",
       "Mrs. Vickie Young    827\n",
       "Kristy Ferguson      822\n",
       "Heather Pena         797\n",
       "Name: reviewerName, dtype: int64"
      ]
     },
     "execution_count": 19,
     "metadata": {},
     "output_type": "execute_result"
    }
   ],
   "source": [
    "traindf['reviewerName'].value_counts().head()"
   ]
  },
  {
   "cell_type": "code",
   "execution_count": 20,
   "id": "8231c3e2",
   "metadata": {
    "execution": {
     "iopub.execute_input": "2023-08-26T04:41:11.983383Z",
     "iopub.status.busy": "2023-08-26T04:41:11.982865Z",
     "iopub.status.idle": "2023-08-26T04:41:12.025264Z",
     "shell.execute_reply": "2023-08-26T04:41:12.023409Z"
    },
    "papermill": {
     "duration": 0.163183,
     "end_time": "2023-08-26T04:41:12.029131",
     "exception": false,
     "start_time": "2023-08-26T04:41:11.865948",
     "status": "completed"
    },
    "tags": []
   },
   "outputs": [
    {
     "data": {
      "text/plain": [
       "Ashley Munoz     1\n",
       "Ryan Dean        1\n",
       "Joanna Li        1\n",
       "Jason Carroll    1\n",
       "Chad Mueller     1\n",
       "Name: reviewerName, dtype: int64"
      ]
     },
     "execution_count": 20,
     "metadata": {},
     "output_type": "execute_result"
    }
   ],
   "source": [
    "traindf['reviewerName'].value_counts().tail()"
   ]
  },
  {
   "cell_type": "markdown",
   "id": "72628c00",
   "metadata": {
    "papermill": {
     "duration": 0.114383,
     "end_time": "2023-08-26T04:41:12.259790",
     "exception": false,
     "start_time": "2023-08-26T04:41:12.145407",
     "status": "completed"
    },
    "tags": []
   },
   "source": [
    "### Separate features and labels  "
   ]
  },
  {
   "cell_type": "code",
   "execution_count": 21,
   "id": "64870a3d",
   "metadata": {
    "execution": {
     "iopub.execute_input": "2023-08-26T04:41:12.495801Z",
     "iopub.status.busy": "2023-08-26T04:41:12.494949Z",
     "iopub.status.idle": "2023-08-26T04:41:12.504972Z",
     "shell.execute_reply": "2023-08-26T04:41:12.503647Z"
    },
    "papermill": {
     "duration": 0.133483,
     "end_time": "2023-08-26T04:41:12.508269",
     "exception": false,
     "start_time": "2023-08-26T04:41:12.374786",
     "status": "completed"
    },
    "tags": []
   },
   "outputs": [
    {
     "data": {
      "text/plain": [
       "((162758,), (162758,))"
      ]
     },
     "execution_count": 21,
     "metadata": {},
     "output_type": "execute_result"
    }
   ],
   "source": [
    "train_features = traindf[\"reviewText\"]\n",
    "train_labels = traindf.iloc[:, -1]\n",
    "train_features.shape, train_labels.shape"
   ]
  },
  {
   "cell_type": "markdown",
   "id": "cadee66a",
   "metadata": {
    "papermill": {
     "duration": 0.118224,
     "end_time": "2023-08-26T04:41:12.756386",
     "exception": false,
     "start_time": "2023-08-26T04:41:12.638162",
     "status": "completed"
    },
    "tags": []
   },
   "source": [
    "### Split traindf into training and testing parts  "
   ]
  },
  {
   "cell_type": "code",
   "execution_count": 22,
   "id": "1b693be1",
   "metadata": {
    "execution": {
     "iopub.execute_input": "2023-08-26T04:41:12.989145Z",
     "iopub.status.busy": "2023-08-26T04:41:12.987520Z",
     "iopub.status.idle": "2023-08-26T04:41:13.056520Z",
     "shell.execute_reply": "2023-08-26T04:41:13.055105Z"
    },
    "papermill": {
     "duration": 0.18881,
     "end_time": "2023-08-26T04:41:13.060422",
     "exception": false,
     "start_time": "2023-08-26T04:41:12.871612",
     "status": "completed"
    },
    "tags": []
   },
   "outputs": [
    {
     "data": {
      "text/plain": [
       "((122068,), (40690,), (122068,), (40690,))"
      ]
     },
     "execution_count": 22,
     "metadata": {},
     "output_type": "execute_result"
    }
   ],
   "source": [
    "X_train, X_test, y_train, y_test = train_test_split(train_features, train_labels, test_size=0.25, random_state=42)\n",
    "X_train.shape, X_test.shape, y_train.shape, y_test.shape"
   ]
  },
  {
   "cell_type": "markdown",
   "id": "b0005258",
   "metadata": {
    "papermill": {
     "duration": 0.11353,
     "end_time": "2023-08-26T04:41:13.290629",
     "exception": false,
     "start_time": "2023-08-26T04:41:13.177099",
     "status": "completed"
    },
    "tags": []
   },
   "source": [
    "## Model evaluation plan and code  "
   ]
  },
  {
   "cell_type": "code",
   "execution_count": 23,
   "id": "ec0bed13",
   "metadata": {
    "execution": {
     "iopub.execute_input": "2023-08-26T04:41:13.518169Z",
     "iopub.status.busy": "2023-08-26T04:41:13.517578Z",
     "iopub.status.idle": "2023-08-26T04:41:13.523894Z",
     "shell.execute_reply": "2023-08-26T04:41:13.522393Z"
    },
    "papermill": {
     "duration": 0.124991,
     "end_time": "2023-08-26T04:41:13.526925",
     "exception": false,
     "start_time": "2023-08-26T04:41:13.401934",
     "status": "completed"
    },
    "tags": []
   },
   "outputs": [],
   "source": [
    "# from sklearn.metrics import classification_report, confusion_matrix, ConfusionMatrixDisplay\n",
    "# from sklearn.metrics import f1_score"
   ]
  },
  {
   "cell_type": "code",
   "execution_count": 24,
   "id": "1c02785f",
   "metadata": {
    "execution": {
     "iopub.execute_input": "2023-08-26T04:41:13.757866Z",
     "iopub.status.busy": "2023-08-26T04:41:13.757392Z",
     "iopub.status.idle": "2023-08-26T04:41:13.763752Z",
     "shell.execute_reply": "2023-08-26T04:41:13.762308Z"
    },
    "papermill": {
     "duration": 0.126465,
     "end_time": "2023-08-26T04:41:13.767030",
     "exception": false,
     "start_time": "2023-08-26T04:41:13.640565",
     "status": "completed"
    },
    "tags": []
   },
   "outputs": [],
   "source": [
    "# def evaluate(y_test, y_pred):\n",
    "#     print(classification_report(y_test, y_pred))\n",
    "#     print(confusion_matrix(y_test, y_pred))\n",
    "#     # print(f1_score(y_test, y_pred))\n",
    "#     ConfusionMatrixDisplay(y_test, y_pred)\n",
    "#     return"
   ]
  },
  {
   "cell_type": "markdown",
   "id": "19c9a7aa",
   "metadata": {
    "papermill": {
     "duration": 0.114746,
     "end_time": "2023-08-26T04:41:13.995034",
     "exception": false,
     "start_time": "2023-08-26T04:41:13.880288",
     "status": "completed"
    },
    "tags": []
   },
   "source": [
    "### Data preprocessing  "
   ]
  },
  {
   "cell_type": "markdown",
   "id": "f78e10fe",
   "metadata": {
    "papermill": {
     "duration": 0.11329,
     "end_time": "2023-08-26T04:41:14.227498",
     "exception": false,
     "start_time": "2023-08-26T04:41:14.114208",
     "status": "completed"
    },
    "tags": []
   },
   "source": [
    "`Define stop words`  "
   ]
  },
  {
   "cell_type": "code",
   "execution_count": 25,
   "id": "fbe96ced",
   "metadata": {
    "execution": {
     "iopub.execute_input": "2023-08-26T04:41:14.458527Z",
     "iopub.status.busy": "2023-08-26T04:41:14.458117Z",
     "iopub.status.idle": "2023-08-26T04:41:14.463525Z",
     "shell.execute_reply": "2023-08-26T04:41:14.462120Z"
    },
    "papermill": {
     "duration": 0.125159,
     "end_time": "2023-08-26T04:41:14.466672",
     "exception": false,
     "start_time": "2023-08-26T04:41:14.341513",
     "status": "completed"
    },
    "tags": []
   },
   "outputs": [],
   "source": [
    "# stop_words = [\"able\", \"about\", \"above\", \"abst\", \"ac\"]     # Deprecated  \n",
    "# type(stop_words), len(stop_words)"
   ]
  },
  {
   "cell_type": "markdown",
   "id": "33b6c1a3",
   "metadata": {
    "papermill": {
     "duration": 0.116506,
     "end_time": "2023-08-26T04:41:14.697852",
     "exception": false,
     "start_time": "2023-08-26T04:41:14.581346",
     "status": "completed"
    },
    "tags": []
   },
   "source": [
    "## Feature extraction  "
   ]
  },
  {
   "cell_type": "markdown",
   "id": "6e9913bc",
   "metadata": {
    "papermill": {
     "duration": 0.116582,
     "end_time": "2023-08-26T04:41:14.934116",
     "exception": false,
     "start_time": "2023-08-26T04:41:14.817534",
     "status": "completed"
    },
    "tags": []
   },
   "source": [
    "### Understand CountVectorizer and TfidfVectorizer  "
   ]
  },
  {
   "cell_type": "code",
   "execution_count": 26,
   "id": "492c856b",
   "metadata": {
    "execution": {
     "iopub.execute_input": "2023-08-26T04:41:15.170926Z",
     "iopub.status.busy": "2023-08-26T04:41:15.170434Z",
     "iopub.status.idle": "2023-08-26T04:41:15.176184Z",
     "shell.execute_reply": "2023-08-26T04:41:15.174627Z"
    },
    "papermill": {
     "duration": 0.125536,
     "end_time": "2023-08-26T04:41:15.179438",
     "exception": false,
     "start_time": "2023-08-26T04:41:15.053902",
     "status": "completed"
    },
    "tags": []
   },
   "outputs": [],
   "source": [
    "# text = X_train.copy()\n",
    "# text.head()"
   ]
  },
  {
   "cell_type": "code",
   "execution_count": 27,
   "id": "1fa88a66",
   "metadata": {
    "execution": {
     "iopub.execute_input": "2023-08-26T04:41:15.413071Z",
     "iopub.status.busy": "2023-08-26T04:41:15.412493Z",
     "iopub.status.idle": "2023-08-26T04:41:15.418272Z",
     "shell.execute_reply": "2023-08-26T04:41:15.416359Z"
    },
    "papermill": {
     "duration": 0.125153,
     "end_time": "2023-08-26T04:41:15.421352",
     "exception": false,
     "start_time": "2023-08-26T04:41:15.296199",
     "status": "completed"
    },
    "tags": []
   },
   "outputs": [],
   "source": [
    "# vectorizer = TfidfVectorizer(stop_words=stop_words)\n",
    "# vectorized_text = vectorizer.fit_transform(text[\"reviewText\"])\n",
    "# vectorized_text"
   ]
  },
  {
   "cell_type": "markdown",
   "id": "41162fc3",
   "metadata": {
    "papermill": {
     "duration": 0.115567,
     "end_time": "2023-08-26T04:41:15.655504",
     "exception": false,
     "start_time": "2023-08-26T04:41:15.539937",
     "status": "completed"
    },
    "tags": []
   },
   "source": [
    "`Without stop words`  \n",
    "<122068x58624 sparse matrix of type '<class 'numpy.float64'>'\n",
    "\twith 2312222 stored elements in Compressed Sparse Row format>\n",
    "\n",
    "`With stop words`  \n",
    "<122068x57784 sparse matrix of type '<class 'numpy.float64'>'\n",
    "\twith 1188395 stored elements in Compressed Sparse Row format>   "
   ]
  },
  {
   "cell_type": "code",
   "execution_count": 28,
   "id": "bdb19d67",
   "metadata": {
    "execution": {
     "iopub.execute_input": "2023-08-26T04:41:15.891145Z",
     "iopub.status.busy": "2023-08-26T04:41:15.890650Z",
     "iopub.status.idle": "2023-08-26T04:41:15.895515Z",
     "shell.execute_reply": "2023-08-26T04:41:15.894109Z"
    },
    "papermill": {
     "duration": 0.125149,
     "end_time": "2023-08-26T04:41:15.898870",
     "exception": false,
     "start_time": "2023-08-26T04:41:15.773721",
     "status": "completed"
    },
    "tags": []
   },
   "outputs": [],
   "source": [
    "# vectorizer2 = CountVectorizer(stop_words=stop_words)\n",
    "# vectorized_text2 = vectorizer2.fit_transform(text[\"reviewText\"])\n",
    "# vectorized_text2"
   ]
  },
  {
   "cell_type": "markdown",
   "id": "2cbf38ef",
   "metadata": {
    "papermill": {
     "duration": 0.116314,
     "end_time": "2023-08-26T04:41:16.134857",
     "exception": false,
     "start_time": "2023-08-26T04:41:16.018543",
     "status": "completed"
    },
    "tags": []
   },
   "source": [
    "`Without stop words`  \n",
    "<122068x58624 sparse matrix of type '<class 'numpy.int64'>'\n",
    "\twith 2312222 stored elements in Compressed Sparse Row format>\n",
    "\n",
    "`With stop words`  \n",
    "<122068x57784 sparse matrix of type '<class 'numpy.int64'>'\n",
    "\twith 1188395 stored elements in Compressed Sparse Row format>"
   ]
  },
  {
   "cell_type": "markdown",
   "id": "f751df65",
   "metadata": {
    "papermill": {
     "duration": 0.113499,
     "end_time": "2023-08-26T04:41:16.362969",
     "exception": false,
     "start_time": "2023-08-26T04:41:16.249470",
     "status": "completed"
    },
    "tags": []
   },
   "source": [
    "### Conclusion   \n",
    "`TfidfVectorizer is equivalent to CountVectorizer followed by TfidfTransformer.`  \n",
    "\n",
    "https://scikit-learn.org/stable/modules/generated/sklearn.feature_extraction.text.TfidfVectorizer.html"
   ]
  },
  {
   "cell_type": "markdown",
   "id": "6ac89b89",
   "metadata": {
    "papermill": {
     "duration": 0.114665,
     "end_time": "2023-08-26T04:41:16.592283",
     "exception": false,
     "start_time": "2023-08-26T04:41:16.477618",
     "status": "completed"
    },
    "tags": []
   },
   "source": [
    "## Model building workflow  \n",
    "\n",
    "`Make pipeline for preprocesing and model training and predictions`  \n"
   ]
  },
  {
   "cell_type": "code",
   "execution_count": 29,
   "id": "655e7313",
   "metadata": {
    "execution": {
     "iopub.execute_input": "2023-08-26T04:41:16.828946Z",
     "iopub.status.busy": "2023-08-26T04:41:16.828532Z",
     "iopub.status.idle": "2023-08-26T04:41:16.833492Z",
     "shell.execute_reply": "2023-08-26T04:41:16.832588Z"
    },
    "papermill": {
     "duration": 0.125727,
     "end_time": "2023-08-26T04:41:16.835788",
     "exception": false,
     "start_time": "2023-08-26T04:41:16.710061",
     "status": "completed"
    },
    "tags": []
   },
   "outputs": [],
   "source": [
    "# def preprocess_n_train(X_train, y_train, preprocessor, model):\n",
    "#     pipe = Pipeline(steps=[\n",
    "#                             (\"preprocessor\", preprocessor),\n",
    "#                             (\"model\", model)\n",
    "#                         ])\n",
    "    \n",
    "#     pipe.fit(X_train, y_train)\n",
    "\n",
    "#     print(\"Given model has been trained. Use predict method to get predictions array.\")\n",
    "#     return pipe\n",
    "\n",
    "\n",
    "# def predict_n_evaluate(pipeline, X_test, y_test):\n",
    "#     y_pred = pipeline.predict(X_test)\n",
    "#     print(f\"y_pred shape: {y_pred.shape}\")\n",
    "#     print(f\"Summary of predictions: {np.unique(y_pred, return_counts=True)}\")\n",
    "#     print(classification_report(y_test, y_pred))\n",
    "#     print(confusion_matrix(y_test, y_pred))\n",
    "#     return y_pred"
   ]
  },
  {
   "cell_type": "markdown",
   "id": "35ed827b",
   "metadata": {
    "papermill": {
     "duration": 0.122637,
     "end_time": "2023-08-26T04:41:17.076443",
     "exception": false,
     "start_time": "2023-08-26T04:41:16.953806",
     "status": "completed"
    },
    "tags": []
   },
   "source": [
    "## Building 3 basic models  "
   ]
  },
  {
   "cell_type": "markdown",
   "id": "a7b51651",
   "metadata": {
    "papermill": {
     "duration": 0.117599,
     "end_time": "2023-08-26T04:41:17.309480",
     "exception": false,
     "start_time": "2023-08-26T04:41:17.191881",
     "status": "completed"
    },
    "tags": []
   },
   "source": [
    "### Text preprocessors  "
   ]
  },
  {
   "cell_type": "code",
   "execution_count": 30,
   "id": "1cc50e99",
   "metadata": {
    "execution": {
     "iopub.execute_input": "2023-08-26T04:41:17.546928Z",
     "iopub.status.busy": "2023-08-26T04:41:17.546405Z",
     "iopub.status.idle": "2023-08-26T04:41:17.551834Z",
     "shell.execute_reply": "2023-08-26T04:41:17.550433Z"
    },
    "papermill": {
     "duration": 0.128153,
     "end_time": "2023-08-26T04:41:17.554553",
     "exception": false,
     "start_time": "2023-08-26T04:41:17.426400",
     "status": "completed"
    },
    "tags": []
   },
   "outputs": [],
   "source": [
    "# tvec = TfidfVectorizer()\n",
    "# cvec = CountVectorizer()        # Note that TfidfVectorizer and CountVectorizer+TfidsTransformer do the same function\n",
    "# tvec, cvec"
   ]
  },
  {
   "cell_type": "markdown",
   "id": "dfc80c36",
   "metadata": {
    "papermill": {
     "duration": 0.116217,
     "end_time": "2023-08-26T04:41:17.789170",
     "exception": false,
     "start_time": "2023-08-26T04:41:17.672953",
     "status": "completed"
    },
    "tags": []
   },
   "source": [
    "### Logistic Regression with TfidVectorizer for preprocessing  "
   ]
  },
  {
   "cell_type": "code",
   "execution_count": 31,
   "id": "26bee23f",
   "metadata": {
    "execution": {
     "iopub.execute_input": "2023-08-26T04:41:18.034840Z",
     "iopub.status.busy": "2023-08-26T04:41:18.034409Z",
     "iopub.status.idle": "2023-08-26T04:41:18.039911Z",
     "shell.execute_reply": "2023-08-26T04:41:18.038636Z"
    },
    "papermill": {
     "duration": 0.133118,
     "end_time": "2023-08-26T04:41:18.042777",
     "exception": false,
     "start_time": "2023-08-26T04:41:17.909659",
     "status": "completed"
    },
    "tags": []
   },
   "outputs": [],
   "source": [
    "# logreg = LogisticRegression(max_iter=1000)\n",
    "# logreg_pipe = preprocess_n_train(X_train, y_train, tvec, logreg)\n",
    "# y_pred_logreg = predict_n_evaluate(logreg_pipe, X_test, y_test)\n",
    "# y_pred_logreg"
   ]
  },
  {
   "cell_type": "markdown",
   "id": "b90e307f",
   "metadata": {
    "papermill": {
     "duration": 0.114386,
     "end_time": "2023-08-26T04:41:18.279020",
     "exception": false,
     "start_time": "2023-08-26T04:41:18.164634",
     "status": "completed"
    },
    "tags": []
   },
   "source": [
    "### SVM model  "
   ]
  },
  {
   "cell_type": "code",
   "execution_count": 32,
   "id": "ca0883cd",
   "metadata": {
    "execution": {
     "iopub.execute_input": "2023-08-26T04:41:18.513945Z",
     "iopub.status.busy": "2023-08-26T04:41:18.513498Z",
     "iopub.status.idle": "2023-08-26T04:41:18.519890Z",
     "shell.execute_reply": "2023-08-26T04:41:18.518054Z"
    },
    "papermill": {
     "duration": 0.130487,
     "end_time": "2023-08-26T04:41:18.524297",
     "exception": false,
     "start_time": "2023-08-26T04:41:18.393810",
     "status": "completed"
    },
    "tags": []
   },
   "outputs": [],
   "source": [
    "# svm = LinearSVC()\n",
    "# svm_pipe = preprocess_n_train(X_train, y_train, tvec, svm)\n",
    "# y_pred_svm = predict_n_evaluate(svm_pipe, X_test, y_test)\n",
    "# y_pred_svm"
   ]
  },
  {
   "cell_type": "markdown",
   "id": "5204d669",
   "metadata": {
    "papermill": {
     "duration": 0.117351,
     "end_time": "2023-08-26T04:41:18.764536",
     "exception": false,
     "start_time": "2023-08-26T04:41:18.647185",
     "status": "completed"
    },
    "tags": []
   },
   "source": [
    "### Naive Bayes model  "
   ]
  },
  {
   "cell_type": "markdown",
   "id": "0217371a",
   "metadata": {
    "papermill": {
     "duration": 0.11567,
     "end_time": "2023-08-26T04:41:19.000069",
     "exception": false,
     "start_time": "2023-08-26T04:41:18.884399",
     "status": "completed"
    },
    "tags": []
   },
   "source": [
    "#### MultinomialNB  "
   ]
  },
  {
   "cell_type": "code",
   "execution_count": 33,
   "id": "0c3cf200",
   "metadata": {
    "execution": {
     "iopub.execute_input": "2023-08-26T04:41:19.239870Z",
     "iopub.status.busy": "2023-08-26T04:41:19.239386Z",
     "iopub.status.idle": "2023-08-26T04:41:19.245442Z",
     "shell.execute_reply": "2023-08-26T04:41:19.244155Z"
    },
    "papermill": {
     "duration": 0.127935,
     "end_time": "2023-08-26T04:41:19.249115",
     "exception": false,
     "start_time": "2023-08-26T04:41:19.121180",
     "status": "completed"
    },
    "tags": []
   },
   "outputs": [],
   "source": [
    "# mnb = MultinomialNB()\n",
    "# mnb_pipe = preprocess_n_train(X_train, y_train, tvec, mnb)\n",
    "# y_pred_mnb = predict_n_evaluate(mnb_pipe, X_test, y_test)\n",
    "# y_pred_mnb"
   ]
  },
  {
   "cell_type": "markdown",
   "id": "2fb13624",
   "metadata": {
    "papermill": {
     "duration": 0.11849,
     "end_time": "2023-08-26T04:41:19.488557",
     "exception": false,
     "start_time": "2023-08-26T04:41:19.370067",
     "status": "completed"
    },
    "tags": []
   },
   "source": [
    "## Submitting predictions to Kaggle competition  "
   ]
  },
  {
   "cell_type": "code",
   "execution_count": 34,
   "id": "9363358c",
   "metadata": {
    "execution": {
     "iopub.execute_input": "2023-08-26T04:41:19.732438Z",
     "iopub.status.busy": "2023-08-26T04:41:19.731984Z",
     "iopub.status.idle": "2023-08-26T04:41:19.737358Z",
     "shell.execute_reply": "2023-08-26T04:41:19.736361Z"
    },
    "papermill": {
     "duration": 0.134045,
     "end_time": "2023-08-26T04:41:19.739701",
     "exception": false,
     "start_time": "2023-08-26T04:41:19.605656",
     "status": "completed"
    },
    "tags": []
   },
   "outputs": [],
   "source": [
    "# def submit(selected_model=logreg, selected_preprocessor=tvec):\n",
    "    \n",
    "#     # Retrain on the whole train.csv file  \n",
    "#     traindf = pd.read_csv(\"/kaggle/input/sentiment-prediction-on-movie-reviews/train.csv\")\n",
    "#     X_train = traindf[\"reviewText\"]\n",
    "#     X_train.fillna(\"empty\", inplace=True)\n",
    "#     y_train = traindf[\"sentiment\"]\n",
    "#     pipe = preprocess_n_train(X_train, y_train, selected_preprocessor, selected_model)\n",
    "    \n",
    "#     # Predict on test.csv file\n",
    "#     testdf = pd.read_csv(\"/kaggle/input/sentiment-prediction-on-movie-reviews/test.csv\")\n",
    "#     X_test = testdf[\"reviewText\"]\n",
    "#     X_test.fillna(\"empty\", inplace=True)\n",
    "    \n",
    "#     y_pred = pipe.predict(X_test)\n",
    "    \n",
    "#     pred_df = pd.DataFrame(y_pred)\n",
    "#     pred_df.columns = [\"sentiment\"]\n",
    "#     pred_df.index.name = \"id\"\n",
    "#     pred_df.to_csv(\"submission.csv\")\n",
    "    \n",
    "#     return \"Successfully created the submission file!!!\""
   ]
  },
  {
   "cell_type": "code",
   "execution_count": 35,
   "id": "2b5e91f2",
   "metadata": {
    "execution": {
     "iopub.execute_input": "2023-08-26T04:41:19.981504Z",
     "iopub.status.busy": "2023-08-26T04:41:19.980972Z",
     "iopub.status.idle": "2023-08-26T04:41:19.986525Z",
     "shell.execute_reply": "2023-08-26T04:41:19.984852Z"
    },
    "papermill": {
     "duration": 0.131319,
     "end_time": "2023-08-26T04:41:19.990293",
     "exception": false,
     "start_time": "2023-08-26T04:41:19.858974",
     "status": "completed"
    },
    "tags": []
   },
   "outputs": [],
   "source": [
    "# submit(logreg_cv1, tvec_cv1)"
   ]
  },
  {
   "cell_type": "markdown",
   "id": "8d37c0c0",
   "metadata": {
    "papermill": {
     "duration": 0.114565,
     "end_time": "2023-08-26T04:41:20.320848",
     "exception": false,
     "start_time": "2023-08-26T04:41:20.206283",
     "status": "completed"
    },
    "tags": []
   },
   "source": [
    "# PART II  "
   ]
  },
  {
   "cell_type": "markdown",
   "id": "5485e3f0",
   "metadata": {
    "papermill": {
     "duration": 0.116003,
     "end_time": "2023-08-26T04:41:20.549912",
     "exception": false,
     "start_time": "2023-08-26T04:41:20.433909",
     "status": "completed"
    },
    "tags": []
   },
   "source": [
    "## Merge \"movies.csv\" with \"train.csv\" and \"test.csv\"  "
   ]
  },
  {
   "cell_type": "markdown",
   "id": "5bedbd5f",
   "metadata": {
    "papermill": {
     "duration": 0.116118,
     "end_time": "2023-08-26T04:41:20.779733",
     "exception": false,
     "start_time": "2023-08-26T04:41:20.663615",
     "status": "completed"
    },
    "tags": []
   },
   "source": [
    "### Helper functions  "
   ]
  },
  {
   "cell_type": "code",
   "execution_count": 36,
   "id": "494f581b",
   "metadata": {
    "execution": {
     "iopub.execute_input": "2023-08-26T04:41:21.018582Z",
     "iopub.status.busy": "2023-08-26T04:41:21.017977Z",
     "iopub.status.idle": "2023-08-26T04:41:21.026115Z",
     "shell.execute_reply": "2023-08-26T04:41:21.023894Z"
    },
    "papermill": {
     "duration": 0.133903,
     "end_time": "2023-08-26T04:41:21.029292",
     "exception": false,
     "start_time": "2023-08-26T04:41:20.895389",
     "status": "completed"
    },
    "tags": []
   },
   "outputs": [],
   "source": [
    "# Helper function for loading files  \n",
    "\n",
    "def load_csv(filename: str):\n",
    "    if platform == \"vscode\":\n",
    "        df = pd.read_csv(f\"data/{filename}.csv\")\n",
    "    else:\n",
    "        df = pd.read_csv(f\"/kaggle/input/sentiment-prediction-on-movie-reviews/{filename}.csv\")\n",
    "        \n",
    "    return df"
   ]
  },
  {
   "cell_type": "code",
   "execution_count": 37,
   "id": "fae0cba5",
   "metadata": {
    "execution": {
     "iopub.execute_input": "2023-08-26T04:41:21.264913Z",
     "iopub.status.busy": "2023-08-26T04:41:21.264415Z",
     "iopub.status.idle": "2023-08-26T04:41:21.272632Z",
     "shell.execute_reply": "2023-08-26T04:41:21.270608Z"
    },
    "papermill": {
     "duration": 0.130644,
     "end_time": "2023-08-26T04:41:21.275825",
     "exception": false,
     "start_time": "2023-08-26T04:41:21.145181",
     "status": "completed"
    },
    "tags": []
   },
   "outputs": [],
   "source": [
    "def inspect(df: pd.DataFrame):\n",
    "    print(f\"Shape of the dataframe: {df.shape}\")\n",
    "    print()\n",
    "    print(f\"Columns in the dataframe:\\n{df.columns}\")\n",
    "    print()\n",
    "    print(f\"{df.info()}\")\n",
    "    print()\n",
    "    # print(f\"Summary: {df.describe()}\")\n",
    "    print(f\"Missing values:\\n{df.isna().sum()}\")\n",
    "    return"
   ]
  },
  {
   "cell_type": "code",
   "execution_count": 38,
   "id": "34dd0855",
   "metadata": {
    "execution": {
     "iopub.execute_input": "2023-08-26T04:41:21.507022Z",
     "iopub.status.busy": "2023-08-26T04:41:21.505369Z",
     "iopub.status.idle": "2023-08-26T04:41:21.513400Z",
     "shell.execute_reply": "2023-08-26T04:41:21.511731Z"
    },
    "papermill": {
     "duration": 0.126415,
     "end_time": "2023-08-26T04:41:21.516711",
     "exception": false,
     "start_time": "2023-08-26T04:41:21.390296",
     "status": "completed"
    },
    "tags": []
   },
   "outputs": [],
   "source": [
    "def name_fl(name):\n",
    "    l = name.split()\n",
    "    n = ' '.join((l[0], l[-1]))\n",
    "    return n"
   ]
  },
  {
   "cell_type": "code",
   "execution_count": 39,
   "id": "af0a883e",
   "metadata": {
    "execution": {
     "iopub.execute_input": "2023-08-26T04:41:21.753591Z",
     "iopub.status.busy": "2023-08-26T04:41:21.752453Z",
     "iopub.status.idle": "2023-08-26T04:41:21.784785Z",
     "shell.execute_reply": "2023-08-26T04:41:21.783106Z"
    },
    "papermill": {
     "duration": 0.154748,
     "end_time": "2023-08-26T04:41:21.788001",
     "exception": false,
     "start_time": "2023-08-26T04:41:21.633253",
     "status": "completed"
    },
    "tags": []
   },
   "outputs": [],
   "source": [
    "def select_features(df: pd.DataFrame, moviesdf: pd.DataFrame, row_thresh_null=None):\n",
    "    '''\n",
    "    This function merges the given dataframes. Note that the first df must be \"train\" or \"test\" and\n",
    "    the second df should be \"movies\".\n",
    "    Note: Sentiment column is present only in \"train.csv\" file and not \"test.csv\" file.\n",
    "    '''\n",
    "    \n",
    "    # Drop duplicates from moviesdf\n",
    "#     movies_unique = moviesdf.drop_duplicates(subset=[\"movieid\"])\n",
    "\n",
    "    # Drop duplicates using groupby - clubs similar rows and fills in missing values better\n",
    "    movies_unique = moviesdf.fillna(value=np.nan).groupby(\"movieid\").first().reset_index()\n",
    "    \n",
    "\n",
    "    # Handle missing values in movies.csv better than just dropping duplicates?\n",
    "#     movies_unique = moviesdf.copy()\n",
    "#     movies_unique[[\"audienceScore\", \"runtimeMinutes\"]] = movies_unique[[\"audienceScore\", \"runtimeMinutes\"]].interpolate(method='linear', axis=0)\n",
    "#     movies_unique = movies_unique.fillna(value=np.nan).groupby(\"movieid\").first().fillna(method='ffill').reset_index()\n",
    "\n",
    "    \n",
    "\n",
    "    # Merge df and movies_unique\n",
    "    df_merged = pd.merge(df, movies_unique, on=\"movieid\", how='left')\n",
    "    \n",
    "    # Rename \"isTopCritic\" column, if it exists, to \"isFrequentReviewer\"\n",
    "    df_merged.rename(columns={\"isTopCritic\": \"isFrequentReviewer\"}, inplace=True)\n",
    "    \n",
    "    # Drop columns\n",
    "#     df_merged = df_merged.drop(columns=[\"title\", \"ratingContents\", \"releaseDateTheaters\", \"releaseDateStreaming\", \"distributor\", \"soundType\"])\n",
    "#     df_merged = df_merged.drop(columns=[\"title\", \"soundType\"])\n",
    "    \n",
    "    # Drop rows (OPTIONAL: Uses kwarg row_thresh_null)\n",
    "    if row_thresh_null != None:\n",
    "        df_merged.dropna(axis=0, thresh=(df_merged.shape[1] - row_thresh_null), inplace=True)\n",
    "        \n",
    "\n",
    "    # Create new columns based on reviewText\n",
    "    final = df_merged.copy()\n",
    "    final[\"reviewYN\"] = np.where(final[\"reviewText\"].isnull(), 1, 0)    # Feature engineering - adding a new column\n",
    "    final[\"reviewWC\"] = final.apply(lambda x: len(str(x[\"reviewText\"]).split()), axis=1)    # Feature engineering - adding second new column\n",
    "    \n",
    "    # Clean text (replace numbers with empty string) and fill missing values in \"reviewText\" with empty string\n",
    "    final[\"reviewText\"] = final[\"reviewText\"].str.replace('\\d+', '', regex=True)\n",
    "    final[\"reviewText\"] = final[\"reviewText\"].fillna(\"neutral\")\n",
    "    \n",
    "    # Fill missing values in \"rating\", \"genre\", original columns with the word \"unknown\"\n",
    "    final[\"rating\"] = final[\"rating\"].fillna(\"unknown\")\n",
    "    final[\"originalLanguage\"] = final[\"originalLanguage\"].fillna(\"unknown\")\n",
    "    final[\"genre\"] = final[\"genre\"].fillna(\"unknown\")\n",
    "    final[\"genre\"] = final[\"genre\"].apply(lambda x: re.sub(r\"-\", \"\", x))\n",
    "    final[\"genreSorted\"] = final[\"genre\"].apply(lambda x: (\",\").join(sorted(x.split(\", \"))))\n",
    "#     final[\"genre\"] = final[\"genre\"].replace(to_replace={\"&\": \"\"})\n",
    "\n",
    "    # Impute missing values for \"audienceScore\" and \"runtimeMinutes\" columns\n",
    "#     final[\"audienceScore\"] = final[\"audienceScore\"].fillna(final[\"audienceScore\"].mean())        # MOVED\n",
    "#     final[\"runtimeMinutes\"] = final[\"runtimeMinutes\"].fillna(final[\"runtimeMinutes\"].median())   # MOVED\n",
    "    \n",
    "    # Preprocess and impute missing values in \"boxOffice\" column\n",
    "    final[\"boxOffice\"] = final[\"boxOffice\"].str[1:]\n",
    "    final[\"boxOffice\"] = final[\"boxOffice\"].replace(to_replace={\"M\": \"*1000000\", \"K\": \"*1000\"}, regex=True)\n",
    "    final[\"boxOffice\"] = final[\"boxOffice\"].loc[final[\"boxOffice\"].notnull()].apply(lambda x: eval(str(x)))\n",
    "#     final[\"boxOffice\"] = final[\"boxOffice\"].fillna(final[\"boxOffice\"].median())                  # MOVED\n",
    "    # (Optional) Replace outliers in boxOffice with median\n",
    "#     median = final[\"boxOffice\"].describe()['50%']\n",
    "#     iqr = final[\"boxOffice\"].describe()['75%'] - final[\"boxOffice\"].describe()['25%']\n",
    "#     ll = median - (1.5*iqr)\n",
    "#     ul = median + (1.5*iqr)\n",
    "#     final.loc[final[\"boxOffice\"] > ul, \"boxOffice\"] = median\n",
    "    \n",
    "    # Clean language names\n",
    "    final[\"originalLanguage\"].replace({\"English (United Kingdom)\": \"English\", \n",
    "                                            \"English (Australia)\" : \"English\",\n",
    "                                            \"French (France)\": \"French\", \n",
    "                                            \"French (Canada)\": \"French\",\n",
    "                                            \"Portuguese (Brazil)\": \"Portuguese\",\n",
    "                                            \"Spanish (Spain)\": \"Spanish\"},                                         \n",
    "                                            inplace=True)\n",
    "    \n",
    "    # Clean reviewerName column\n",
    "    pre_post_fixes = {\"Mr. \": \"\", \"Mrs. \": \"\", \"Ms. \": \"\", \"Dr. \": \"\", \n",
    "                      \" MD\": \"\", \" DDS\": \"\", \" DVM\": \"\", \" Jr.\": \"\", \" PhD\": \"\", \" II\": \"\", \" IV\": \"\"}\n",
    "    final[\"reviewerName\"] = final[\"reviewerName\"].replace(pre_post_fixes, regex=True)\n",
    "    final[\"reviewerName\"] = final[\"reviewerName\"].apply(name_fl)\n",
    "    \n",
    "    # Handle 'ratingContents' column\n",
    "    final[\"ratingContents\"] = final[\"ratingContents\"].fillna(\"neutral\")\n",
    "    final[\"rcSorted\"] = final[\"ratingContents\"].apply(lambda x: (\",\").join(sorted(x.strip(\"][\").split(\", \"))))\n",
    "    final[\"rcSorted\"] = final[\"rcSorted\"].apply(lambda x: re.sub(r\"'\", \"\", x))\n",
    "    final[\"rcSorted\"] = final[\"rcSorted\"].apply(lambda x: re.sub(r\"[/\\s]\", \"_\", x))  \n",
    "    \n",
    "    # Handle 'ratingContents' column\n",
    "    final[\"distributor\"] = final[\"distributor\"].fillna(\"unknown\")\n",
    "    \n",
    "    # Work with 'releaseDateTheaters', releaseDateStreaming column\n",
    "    final[[\"releaseDateTheaters\", \"releaseDateStreaming\"]] = final[[\"releaseDateTheaters\", \"releaseDateStreaming\"]].astype('datetime64[ns]')\n",
    "\n",
    "    final[\"releaseDate\"] = final[[\"releaseDateTheaters\", \"releaseDateStreaming\"]].min(axis=1, skipna=False)\n",
    "#     final[\"releaseDate\"] = final[\"releaseDate\"].fillna(final[\"releaseDate\"].median())               # MOVED\n",
    "\n",
    "    final[\"releaseYear\"] = final[\"releaseDate\"].dt.year\n",
    "    final[\"releaseMonth\"] = final[\"releaseDate\"].dt.month\n",
    "    \n",
    "    # Compute \"releaseDiff\" column and fill missing values in \"releaseDiff\" and (optional) replace outliers\n",
    "    final[\"releaseDiff\"] = (final[\"releaseDateStreaming\"] - final[\"releaseDateTheaters\"]) / np.timedelta64(1, 'D')\n",
    "    final[\"releaseDiff\"] = final[\"releaseDiff\"].apply(lambda x: abs(x))\n",
    "    final[\"releaseDiff\"] = final[\"releaseDiff\"].fillna(value=0)\n",
    "#     final[\"releaseDiff\"] = final[\"releaseDiff\"].fillna(final[\"releaseDiff\"].median())\n",
    "    # median = final[\"releaseDiff\"].describe()['50%']\n",
    "    # iqr = final[\"releaseDiff\"].describe()['75%'] - final[\"releaseDiff\"].describe()['25%']\n",
    "    # ll = median - (1.5*iqr)\n",
    "    # ul = median + (1.5*iqr)\n",
    "    # final.loc[final[\"releaseDiff\"] > ul, \"releaseDiff\"] = median\n",
    "    # final.loc[final[\"releaseDiff\"] < ll, \"releaseDiff\"] = median\n",
    "    \n",
    "#     # Create new feature columns\n",
    "    \n",
    "#     # Convert audienceScore to categories  \n",
    "#     num_bins_as = 20\n",
    "#     final[\"audScoreBins\"] = pd.cut(final['audienceScore'], bins=num_bins_as, labels=False)\n",
    "    \n",
    "#     # Convert runtimeMinutes to categories  \n",
    "# #     num_bins_rt = 20\n",
    "#     final[\"runtimeBins\"] = pd.cut(final['runtimeMinutes'], bins=[0,75,120,180,565], labels=[4,3,2,1])\n",
    "    \n",
    "#     # Convert boxOffice to categories  \n",
    "#     num_bins_bo = 5\n",
    "#     final[\"boxOfficeBins\"] = pd.cut(final['boxOffice'], bins=num_bins_bo, labels=False)\n",
    "    \n",
    "#     # Convert releaseDiff to categories  \n",
    "#     num_bins_rd = 5\n",
    "#     final[\"releaseDiffBins\"] = pd.cut(final['releaseDiff'], bins=[-1, 180, 360, 1000, 40000], labels=[0, 1, 2, 3])\n",
    "\n",
    "    return final"
   ]
  },
  {
   "cell_type": "code",
   "execution_count": 40,
   "id": "672d3ab7",
   "metadata": {
    "execution": {
     "iopub.execute_input": "2023-08-26T04:41:22.027127Z",
     "iopub.status.busy": "2023-08-26T04:41:22.026586Z",
     "iopub.status.idle": "2023-08-26T04:41:22.036907Z",
     "shell.execute_reply": "2023-08-26T04:41:22.034834Z"
    },
    "papermill": {
     "duration": 0.136081,
     "end_time": "2023-08-26T04:41:22.040400",
     "exception": false,
     "start_time": "2023-08-26T04:41:21.904319",
     "status": "completed"
    },
    "tags": []
   },
   "outputs": [],
   "source": [
    "def split_train_predict(features, labels, pipeline, test_size=0.25, random_state=42):\n",
    "    # cols = features.columns\n",
    "    if len(features.shape) == 1:\n",
    "        features = features.to_numpy().reshape(-1, 1)  # reshape to 2D array\n",
    "    features = pd.DataFrame(features)\n",
    "    X_train, X_test, y_train, y_test = train_test_split(features, labels, test_size=test_size, random_state=random_state)\n",
    "    pipeline.fit(X_train, y_train)\n",
    "    y_pred = pipeline.predict(X_test)\n",
    "    print(classification_report(y_test, y_pred))\n",
    "    print(confusion_matrix(y_test, y_pred))\n",
    "    return pipeline"
   ]
  },
  {
   "cell_type": "markdown",
   "id": "1abf82c1",
   "metadata": {
    "papermill": {
     "duration": 0.112461,
     "end_time": "2023-08-26T04:41:22.267322",
     "exception": false,
     "start_time": "2023-08-26T04:41:22.154861",
     "status": "completed"
    },
    "tags": []
   },
   "source": [
    "### Merge \"train.csv\" file with \"movies.csv\" file  "
   ]
  },
  {
   "cell_type": "code",
   "execution_count": 41,
   "id": "b0a2dd39",
   "metadata": {
    "execution": {
     "iopub.execute_input": "2023-08-26T04:41:22.496651Z",
     "iopub.status.busy": "2023-08-26T04:41:22.496188Z",
     "iopub.status.idle": "2023-08-26T04:41:38.464758Z",
     "shell.execute_reply": "2023-08-26T04:41:38.463254Z"
    },
    "papermill": {
     "duration": 16.087968,
     "end_time": "2023-08-26T04:41:38.467790",
     "exception": false,
     "start_time": "2023-08-26T04:41:22.379822",
     "status": "completed"
    },
    "tags": []
   },
   "outputs": [],
   "source": [
    "merged = select_features(load_csv(\"train\"), load_csv(\"movies\"), row_thresh_null=None)"
   ]
  },
  {
   "cell_type": "code",
   "execution_count": 42,
   "id": "89b8caa9",
   "metadata": {
    "execution": {
     "iopub.execute_input": "2023-08-26T04:41:38.703645Z",
     "iopub.status.busy": "2023-08-26T04:41:38.703166Z",
     "iopub.status.idle": "2023-08-26T04:41:40.272629Z",
     "shell.execute_reply": "2023-08-26T04:41:40.270562Z"
    },
    "papermill": {
     "duration": 1.688501,
     "end_time": "2023-08-26T04:41:40.276140",
     "exception": false,
     "start_time": "2023-08-26T04:41:38.587639",
     "status": "completed"
    },
    "tags": []
   },
   "outputs": [
    {
     "name": "stdout",
     "output_type": "stream",
     "text": [
      "Shape of the dataframe: (162758, 26)\n",
      "\n",
      "Columns in the dataframe:\n",
      "Index(['movieid', 'reviewerName', 'isFrequentReviewer', 'reviewText',\n",
      "       'sentiment', 'title', 'audienceScore', 'rating', 'ratingContents',\n",
      "       'releaseDateTheaters', 'releaseDateStreaming', 'runtimeMinutes',\n",
      "       'genre', 'originalLanguage', 'director', 'boxOffice', 'distributor',\n",
      "       'soundType', 'reviewYN', 'reviewWC', 'genreSorted', 'rcSorted',\n",
      "       'releaseDate', 'releaseYear', 'releaseMonth', 'releaseDiff'],\n",
      "      dtype='object')\n",
      "\n",
      "<class 'pandas.core.frame.DataFrame'>\n",
      "Int64Index: 162758 entries, 0 to 162757\n",
      "Data columns (total 26 columns):\n",
      " #   Column                Non-Null Count   Dtype         \n",
      "---  ------                --------------   -----         \n",
      " 0   movieid               162758 non-null  object        \n",
      " 1   reviewerName          162758 non-null  object        \n",
      " 2   isFrequentReviewer    162758 non-null  bool          \n",
      " 3   reviewText            162758 non-null  object        \n",
      " 4   sentiment             162758 non-null  object        \n",
      " 5   title                 162758 non-null  object        \n",
      " 6   audienceScore         159922 non-null  float64       \n",
      " 7   rating                162758 non-null  object        \n",
      " 8   ratingContents        162758 non-null  object        \n",
      " 9   releaseDateTheaters   146403 non-null  datetime64[ns]\n",
      " 10  releaseDateStreaming  157353 non-null  datetime64[ns]\n",
      " 11  runtimeMinutes        162016 non-null  float64       \n",
      " 12  genre                 162758 non-null  object        \n",
      " 13  originalLanguage      162758 non-null  object        \n",
      " 14  director              162758 non-null  object        \n",
      " 15  boxOffice             130581 non-null  float64       \n",
      " 16  distributor           162758 non-null  object        \n",
      " 17  soundType             93466 non-null   object        \n",
      " 18  reviewYN              162758 non-null  int64         \n",
      " 19  reviewWC              162758 non-null  int64         \n",
      " 20  genreSorted           162758 non-null  object        \n",
      " 21  rcSorted              162758 non-null  object        \n",
      " 22  releaseDate           143073 non-null  datetime64[ns]\n",
      " 23  releaseYear           143073 non-null  float64       \n",
      " 24  releaseMonth          143073 non-null  float64       \n",
      " 25  releaseDiff           162758 non-null  float64       \n",
      "dtypes: bool(1), datetime64[ns](3), float64(6), int64(2), object(14)\n",
      "memory usage: 32.4+ MB\n",
      "None\n",
      "\n",
      "Missing values:\n",
      "movieid                     0\n",
      "reviewerName                0\n",
      "isFrequentReviewer          0\n",
      "reviewText                  0\n",
      "sentiment                   0\n",
      "title                       0\n",
      "audienceScore            2836\n",
      "rating                      0\n",
      "ratingContents              0\n",
      "releaseDateTheaters     16355\n",
      "releaseDateStreaming     5405\n",
      "runtimeMinutes            742\n",
      "genre                       0\n",
      "originalLanguage            0\n",
      "director                    0\n",
      "boxOffice               32177\n",
      "distributor                 0\n",
      "soundType               69292\n",
      "reviewYN                    0\n",
      "reviewWC                    0\n",
      "genreSorted                 0\n",
      "rcSorted                    0\n",
      "releaseDate             19685\n",
      "releaseYear             19685\n",
      "releaseMonth            19685\n",
      "releaseDiff                 0\n",
      "dtype: int64\n"
     ]
    }
   ],
   "source": [
    "inspect(merged)    # Note missing values in ['audienceScore', 'runtimeMinutes', 'boxOffice'] columns  "
   ]
  },
  {
   "cell_type": "code",
   "execution_count": 43,
   "id": "6d952efe",
   "metadata": {
    "execution": {
     "iopub.execute_input": "2023-08-26T04:41:40.507586Z",
     "iopub.status.busy": "2023-08-26T04:41:40.507132Z",
     "iopub.status.idle": "2023-08-26T04:41:40.624833Z",
     "shell.execute_reply": "2023-08-26T04:41:40.623103Z"
    },
    "papermill": {
     "duration": 0.238216,
     "end_time": "2023-08-26T04:41:40.628060",
     "exception": false,
     "start_time": "2023-08-26T04:41:40.389844",
     "status": "completed"
    },
    "tags": []
   },
   "outputs": [
    {
     "data": {
      "text/plain": [
       "array([6.80e+01, 1.04e+02, 1.43e+07])"
      ]
     },
     "execution_count": 43,
     "metadata": {},
     "output_type": "execute_result"
    }
   ],
   "source": [
    "# Simple Imputer for ['audienceScore', 'runtimeMinutes', 'boxOffice'] columns\n",
    "si = SimpleImputer(strategy='median')\n",
    "merged[['audienceScore', 'runtimeMinutes', 'boxOffice']] = si.fit_transform(merged[['audienceScore', 'runtimeMinutes', 'boxOffice']])\n",
    "si.statistics_"
   ]
  },
  {
   "cell_type": "code",
   "execution_count": 44,
   "id": "e7892bf3",
   "metadata": {
    "execution": {
     "iopub.execute_input": "2023-08-26T04:41:40.859313Z",
     "iopub.status.busy": "2023-08-26T04:41:40.858807Z",
     "iopub.status.idle": "2023-08-26T04:41:40.873911Z",
     "shell.execute_reply": "2023-08-26T04:41:40.872533Z"
    },
    "papermill": {
     "duration": 0.133458,
     "end_time": "2023-08-26T04:41:40.877085",
     "exception": false,
     "start_time": "2023-08-26T04:41:40.743627",
     "status": "completed"
    },
    "tags": []
   },
   "outputs": [],
   "source": [
    "# Fill 'releaseDate' column with median  \n",
    "merged['releaseDate'] = merged[\"releaseDate\"].fillna(merged[\"releaseDate\"].median())"
   ]
  },
  {
   "cell_type": "code",
   "execution_count": 45,
   "id": "98fda43e",
   "metadata": {
    "execution": {
     "iopub.execute_input": "2023-08-26T04:41:41.113532Z",
     "iopub.status.busy": "2023-08-26T04:41:41.113120Z",
     "iopub.status.idle": "2023-08-26T04:41:42.699092Z",
     "shell.execute_reply": "2023-08-26T04:41:42.697020Z"
    },
    "papermill": {
     "duration": 1.711316,
     "end_time": "2023-08-26T04:41:42.703152",
     "exception": false,
     "start_time": "2023-08-26T04:41:40.991836",
     "status": "completed"
    },
    "tags": []
   },
   "outputs": [
    {
     "name": "stdout",
     "output_type": "stream",
     "text": [
      "Shape of the dataframe: (162758, 26)\n",
      "\n",
      "Columns in the dataframe:\n",
      "Index(['movieid', 'reviewerName', 'isFrequentReviewer', 'reviewText',\n",
      "       'sentiment', 'title', 'audienceScore', 'rating', 'ratingContents',\n",
      "       'releaseDateTheaters', 'releaseDateStreaming', 'runtimeMinutes',\n",
      "       'genre', 'originalLanguage', 'director', 'boxOffice', 'distributor',\n",
      "       'soundType', 'reviewYN', 'reviewWC', 'genreSorted', 'rcSorted',\n",
      "       'releaseDate', 'releaseYear', 'releaseMonth', 'releaseDiff'],\n",
      "      dtype='object')\n",
      "\n",
      "<class 'pandas.core.frame.DataFrame'>\n",
      "Int64Index: 162758 entries, 0 to 162757\n",
      "Data columns (total 26 columns):\n",
      " #   Column                Non-Null Count   Dtype         \n",
      "---  ------                --------------   -----         \n",
      " 0   movieid               162758 non-null  object        \n",
      " 1   reviewerName          162758 non-null  object        \n",
      " 2   isFrequentReviewer    162758 non-null  bool          \n",
      " 3   reviewText            162758 non-null  object        \n",
      " 4   sentiment             162758 non-null  object        \n",
      " 5   title                 162758 non-null  object        \n",
      " 6   audienceScore         162758 non-null  float64       \n",
      " 7   rating                162758 non-null  object        \n",
      " 8   ratingContents        162758 non-null  object        \n",
      " 9   releaseDateTheaters   146403 non-null  datetime64[ns]\n",
      " 10  releaseDateStreaming  157353 non-null  datetime64[ns]\n",
      " 11  runtimeMinutes        162758 non-null  float64       \n",
      " 12  genre                 162758 non-null  object        \n",
      " 13  originalLanguage      162758 non-null  object        \n",
      " 14  director              162758 non-null  object        \n",
      " 15  boxOffice             162758 non-null  float64       \n",
      " 16  distributor           162758 non-null  object        \n",
      " 17  soundType             93466 non-null   object        \n",
      " 18  reviewYN              162758 non-null  int64         \n",
      " 19  reviewWC              162758 non-null  int64         \n",
      " 20  genreSorted           162758 non-null  object        \n",
      " 21  rcSorted              162758 non-null  object        \n",
      " 22  releaseDate           162758 non-null  datetime64[ns]\n",
      " 23  releaseYear           143073 non-null  float64       \n",
      " 24  releaseMonth          143073 non-null  float64       \n",
      " 25  releaseDiff           162758 non-null  float64       \n",
      "dtypes: bool(1), datetime64[ns](3), float64(6), int64(2), object(14)\n",
      "memory usage: 32.4+ MB\n",
      "None\n",
      "\n",
      "Missing values:\n",
      "movieid                     0\n",
      "reviewerName                0\n",
      "isFrequentReviewer          0\n",
      "reviewText                  0\n",
      "sentiment                   0\n",
      "title                       0\n",
      "audienceScore               0\n",
      "rating                      0\n",
      "ratingContents              0\n",
      "releaseDateTheaters     16355\n",
      "releaseDateStreaming     5405\n",
      "runtimeMinutes              0\n",
      "genre                       0\n",
      "originalLanguage            0\n",
      "director                    0\n",
      "boxOffice                   0\n",
      "distributor                 0\n",
      "soundType               69292\n",
      "reviewYN                    0\n",
      "reviewWC                    0\n",
      "genreSorted                 0\n",
      "rcSorted                    0\n",
      "releaseDate                 0\n",
      "releaseYear             19685\n",
      "releaseMonth            19685\n",
      "releaseDiff                 0\n",
      "dtype: int64\n"
     ]
    }
   ],
   "source": [
    "# Check out 'merged' df after imputation  \n",
    "inspect(merged)"
   ]
  },
  {
   "cell_type": "code",
   "execution_count": 46,
   "id": "2b5644ea",
   "metadata": {
    "execution": {
     "iopub.execute_input": "2023-08-26T04:41:42.934186Z",
     "iopub.status.busy": "2023-08-26T04:41:42.933701Z",
     "iopub.status.idle": "2023-08-26T04:41:43.007864Z",
     "shell.execute_reply": "2023-08-26T04:41:43.006082Z"
    },
    "papermill": {
     "duration": 0.196477,
     "end_time": "2023-08-26T04:41:43.011903",
     "exception": false,
     "start_time": "2023-08-26T04:41:42.815426",
     "status": "completed"
    },
    "tags": []
   },
   "outputs": [
    {
     "data": {
      "text/html": [
       "<div>\n",
       "<style scoped>\n",
       "    .dataframe tbody tr th:only-of-type {\n",
       "        vertical-align: middle;\n",
       "    }\n",
       "\n",
       "    .dataframe tbody tr th {\n",
       "        vertical-align: top;\n",
       "    }\n",
       "\n",
       "    .dataframe thead th {\n",
       "        text-align: right;\n",
       "    }\n",
       "</style>\n",
       "<table border=\"1\" class=\"dataframe\">\n",
       "  <thead>\n",
       "    <tr style=\"text-align: right;\">\n",
       "      <th></th>\n",
       "      <th>audienceScore</th>\n",
       "      <th>runtimeMinutes</th>\n",
       "      <th>boxOffice</th>\n",
       "    </tr>\n",
       "  </thead>\n",
       "  <tbody>\n",
       "    <tr>\n",
       "      <th>count</th>\n",
       "      <td>162758.000000</td>\n",
       "      <td>162758.000000</td>\n",
       "      <td>1.627580e+05</td>\n",
       "    </tr>\n",
       "    <tr>\n",
       "      <th>mean</th>\n",
       "      <td>65.062565</td>\n",
       "      <td>106.992019</td>\n",
       "      <td>4.160983e+07</td>\n",
       "    </tr>\n",
       "    <tr>\n",
       "      <th>std</th>\n",
       "      <td>19.844000</td>\n",
       "      <td>22.203778</td>\n",
       "      <td>7.932291e+07</td>\n",
       "    </tr>\n",
       "    <tr>\n",
       "      <th>min</th>\n",
       "      <td>0.000000</td>\n",
       "      <td>4.000000</td>\n",
       "      <td>0.000000e+00</td>\n",
       "    </tr>\n",
       "    <tr>\n",
       "      <th>25%</th>\n",
       "      <td>51.000000</td>\n",
       "      <td>93.000000</td>\n",
       "      <td>2.000000e+06</td>\n",
       "    </tr>\n",
       "    <tr>\n",
       "      <th>50%</th>\n",
       "      <td>68.000000</td>\n",
       "      <td>104.000000</td>\n",
       "      <td>1.430000e+07</td>\n",
       "    </tr>\n",
       "    <tr>\n",
       "      <th>75%</th>\n",
       "      <td>81.000000</td>\n",
       "      <td>118.000000</td>\n",
       "      <td>4.200000e+07</td>\n",
       "    </tr>\n",
       "    <tr>\n",
       "      <th>max</th>\n",
       "      <td>100.000000</td>\n",
       "      <td>561.000000</td>\n",
       "      <td>8.584000e+08</td>\n",
       "    </tr>\n",
       "  </tbody>\n",
       "</table>\n",
       "</div>"
      ],
      "text/plain": [
       "       audienceScore  runtimeMinutes     boxOffice\n",
       "count  162758.000000   162758.000000  1.627580e+05\n",
       "mean       65.062565      106.992019  4.160983e+07\n",
       "std        19.844000       22.203778  7.932291e+07\n",
       "min         0.000000        4.000000  0.000000e+00\n",
       "25%        51.000000       93.000000  2.000000e+06\n",
       "50%        68.000000      104.000000  1.430000e+07\n",
       "75%        81.000000      118.000000  4.200000e+07\n",
       "max       100.000000      561.000000  8.584000e+08"
      ]
     },
     "execution_count": 46,
     "metadata": {},
     "output_type": "execute_result"
    }
   ],
   "source": [
    "merged[['audienceScore', 'runtimeMinutes', 'boxOffice']].describe()"
   ]
  },
  {
   "cell_type": "markdown",
   "id": "4e8aded0",
   "metadata": {
    "papermill": {
     "duration": 0.112931,
     "end_time": "2023-08-26T04:41:43.237389",
     "exception": false,
     "start_time": "2023-08-26T04:41:43.124458",
     "status": "completed"
    },
    "tags": []
   },
   "source": [
    "### EDA audienceScore  "
   ]
  },
  {
   "cell_type": "code",
   "execution_count": 47,
   "id": "55bdfb79",
   "metadata": {
    "execution": {
     "iopub.execute_input": "2023-08-26T04:41:43.461868Z",
     "iopub.status.busy": "2023-08-26T04:41:43.461403Z",
     "iopub.status.idle": "2023-08-26T04:41:43.890274Z",
     "shell.execute_reply": "2023-08-26T04:41:43.888846Z"
    },
    "papermill": {
     "duration": 0.544272,
     "end_time": "2023-08-26T04:41:43.893718",
     "exception": false,
     "start_time": "2023-08-26T04:41:43.349446",
     "status": "completed"
    },
    "tags": []
   },
   "outputs": [
    {
     "data": {
      "text/plain": [
       "<Axes: xlabel='sentiment', ylabel='audienceScore'>"
      ]
     },
     "execution_count": 47,
     "metadata": {},
     "output_type": "execute_result"
    },
    {
     "data": {
      "image/png": "[encoded data removed]",
      "text/plain": [
       "<Figure size 640x480 with 1 Axes>"
      ]
     },
     "metadata": {},
     "output_type": "display_data"
    }
   ],
   "source": [
    "sns.boxplot(y=merged[\"audienceScore\"], x=merged[\"sentiment\"])"
   ]
  },
  {
   "cell_type": "code",
   "execution_count": 48,
   "id": "bec94fb8",
   "metadata": {
    "execution": {
     "iopub.execute_input": "2023-08-26T04:41:44.132437Z",
     "iopub.status.busy": "2023-08-26T04:41:44.130760Z",
     "iopub.status.idle": "2023-08-26T04:41:44.186147Z",
     "shell.execute_reply": "2023-08-26T04:41:44.184907Z"
    },
    "papermill": {
     "duration": 0.179346,
     "end_time": "2023-08-26T04:41:44.189355",
     "exception": false,
     "start_time": "2023-08-26T04:41:44.010009",
     "status": "completed"
    },
    "tags": []
   },
   "outputs": [
    {
     "data": {
      "text/html": [
       "<div>\n",
       "<style scoped>\n",
       "    .dataframe tbody tr th:only-of-type {\n",
       "        vertical-align: middle;\n",
       "    }\n",
       "\n",
       "    .dataframe tbody tr th {\n",
       "        vertical-align: top;\n",
       "    }\n",
       "\n",
       "    .dataframe thead th {\n",
       "        text-align: right;\n",
       "    }\n",
       "</style>\n",
       "<table border=\"1\" class=\"dataframe\">\n",
       "  <thead>\n",
       "    <tr style=\"text-align: right;\">\n",
       "      <th></th>\n",
       "      <th>count</th>\n",
       "      <th>mean</th>\n",
       "      <th>std</th>\n",
       "      <th>min</th>\n",
       "      <th>25%</th>\n",
       "      <th>50%</th>\n",
       "      <th>75%</th>\n",
       "      <th>max</th>\n",
       "    </tr>\n",
       "    <tr>\n",
       "      <th>sentiment</th>\n",
       "      <th></th>\n",
       "      <th></th>\n",
       "      <th></th>\n",
       "      <th></th>\n",
       "      <th></th>\n",
       "      <th></th>\n",
       "      <th></th>\n",
       "      <th></th>\n",
       "    </tr>\n",
       "  </thead>\n",
       "  <tbody>\n",
       "    <tr>\n",
       "      <th>NEGATIVE</th>\n",
       "      <td>53997.0</td>\n",
       "      <td>56.474786</td>\n",
       "      <td>19.902115</td>\n",
       "      <td>0.0</td>\n",
       "      <td>41.0</td>\n",
       "      <td>57.0</td>\n",
       "      <td>72.0</td>\n",
       "      <td>100.0</td>\n",
       "    </tr>\n",
       "    <tr>\n",
       "      <th>POSITIVE</th>\n",
       "      <td>108761.0</td>\n",
       "      <td>69.326174</td>\n",
       "      <td>18.380626</td>\n",
       "      <td>0.0</td>\n",
       "      <td>58.0</td>\n",
       "      <td>73.0</td>\n",
       "      <td>84.0</td>\n",
       "      <td>100.0</td>\n",
       "    </tr>\n",
       "  </tbody>\n",
       "</table>\n",
       "</div>"
      ],
      "text/plain": [
       "              count       mean        std  min   25%   50%   75%    max\n",
       "sentiment                                                              \n",
       "NEGATIVE    53997.0  56.474786  19.902115  0.0  41.0  57.0  72.0  100.0\n",
       "POSITIVE   108761.0  69.326174  18.380626  0.0  58.0  73.0  84.0  100.0"
      ]
     },
     "execution_count": 48,
     "metadata": {},
     "output_type": "execute_result"
    }
   ],
   "source": [
    "merged.groupby('sentiment')['audienceScore'].describe()"
   ]
  },
  {
   "cell_type": "code",
   "execution_count": 49,
   "id": "3f38710b",
   "metadata": {
    "execution": {
     "iopub.execute_input": "2023-08-26T04:41:44.420554Z",
     "iopub.status.busy": "2023-08-26T04:41:44.420123Z",
     "iopub.status.idle": "2023-08-26T04:41:44.484718Z",
     "shell.execute_reply": "2023-08-26T04:41:44.482952Z"
    },
    "papermill": {
     "duration": 0.184374,
     "end_time": "2023-08-26T04:41:44.487948",
     "exception": false,
     "start_time": "2023-08-26T04:41:44.303574",
     "status": "completed"
    },
    "tags": []
   },
   "outputs": [
    {
     "data": {
      "text/plain": [
       "(162758, 26)"
      ]
     },
     "execution_count": 49,
     "metadata": {},
     "output_type": "execute_result"
    }
   ],
   "source": [
    "merged.loc[merged['audienceScore'] >= 0].shape"
   ]
  },
  {
   "cell_type": "markdown",
   "id": "9823e9e6",
   "metadata": {
    "papermill": {
     "duration": 0.117878,
     "end_time": "2023-08-26T04:41:44.723262",
     "exception": false,
     "start_time": "2023-08-26T04:41:44.605384",
     "status": "completed"
    },
    "tags": []
   },
   "source": [
    "### EDA releaseDiff  "
   ]
  },
  {
   "cell_type": "code",
   "execution_count": 50,
   "id": "233a1ec0",
   "metadata": {
    "execution": {
     "iopub.execute_input": "2023-08-26T04:41:44.962641Z",
     "iopub.status.busy": "2023-08-26T04:41:44.962152Z",
     "iopub.status.idle": "2023-08-26T04:41:44.985740Z",
     "shell.execute_reply": "2023-08-26T04:41:44.984174Z"
    },
    "papermill": {
     "duration": 0.150033,
     "end_time": "2023-08-26T04:41:44.988483",
     "exception": false,
     "start_time": "2023-08-26T04:41:44.838450",
     "status": "completed"
    },
    "tags": []
   },
   "outputs": [
    {
     "data": {
      "text/plain": [
       "count    162758.000000\n",
       "mean       1653.469015\n",
       "std        4581.420922\n",
       "min           0.000000\n",
       "25%          65.000000\n",
       "50%         116.000000\n",
       "75%         375.000000\n",
       "max       38922.000000\n",
       "Name: releaseDiff, dtype: float64"
      ]
     },
     "execution_count": 50,
     "metadata": {},
     "output_type": "execute_result"
    }
   ],
   "source": [
    "# abs values\n",
    "merged[\"releaseDiff\"].describe()"
   ]
  },
  {
   "cell_type": "code",
   "execution_count": 51,
   "id": "11c62dad",
   "metadata": {
    "execution": {
     "iopub.execute_input": "2023-08-26T04:41:45.229470Z",
     "iopub.status.busy": "2023-08-26T04:41:45.229035Z",
     "iopub.status.idle": "2023-08-26T04:41:45.234490Z",
     "shell.execute_reply": "2023-08-26T04:41:45.232812Z"
    },
    "papermill": {
     "duration": 0.126849,
     "end_time": "2023-08-26T04:41:45.237181",
     "exception": false,
     "start_time": "2023-08-26T04:41:45.110332",
     "status": "completed"
    },
    "tags": []
   },
   "outputs": [],
   "source": [
    "# merged['releaseDiffBins'].value_counts()"
   ]
  },
  {
   "cell_type": "code",
   "execution_count": 52,
   "id": "21a501fd",
   "metadata": {
    "execution": {
     "iopub.execute_input": "2023-08-26T04:41:45.472714Z",
     "iopub.status.busy": "2023-08-26T04:41:45.472267Z",
     "iopub.status.idle": "2023-08-26T04:41:45.877332Z",
     "shell.execute_reply": "2023-08-26T04:41:45.875778Z"
    },
    "papermill": {
     "duration": 0.52662,
     "end_time": "2023-08-26T04:41:45.880372",
     "exception": false,
     "start_time": "2023-08-26T04:41:45.353752",
     "status": "completed"
    },
    "tags": []
   },
   "outputs": [
    {
     "data": {
      "text/plain": [
       "<Axes: xlabel='sentiment', ylabel='releaseDiff'>"
      ]
     },
     "execution_count": 52,
     "metadata": {},
     "output_type": "execute_result"
    },
    {
     "data": {
      "image/png": "[encoded data removed]",
      "text/plain": [
       "<Figure size 640x480 with 1 Axes>"
      ]
     },
     "metadata": {},
     "output_type": "display_data"
    }
   ],
   "source": [
    "sns.boxplot(x=merged['sentiment'], y=merged['releaseDiff'], showfliers=False)"
   ]
  },
  {
   "cell_type": "code",
   "execution_count": 53,
   "id": "bdf7cb99",
   "metadata": {
    "execution": {
     "iopub.execute_input": "2023-08-26T04:41:46.127532Z",
     "iopub.status.busy": "2023-08-26T04:41:46.126231Z",
     "iopub.status.idle": "2023-08-26T04:41:46.132785Z",
     "shell.execute_reply": "2023-08-26T04:41:46.131774Z"
    },
    "papermill": {
     "duration": 0.138249,
     "end_time": "2023-08-26T04:41:46.135544",
     "exception": false,
     "start_time": "2023-08-26T04:41:45.997295",
     "status": "completed"
    },
    "tags": []
   },
   "outputs": [],
   "source": [
    "# sns.displot(merged['releaseDiffBins'])"
   ]
  },
  {
   "cell_type": "code",
   "execution_count": 54,
   "id": "1cd426e9",
   "metadata": {
    "execution": {
     "iopub.execute_input": "2023-08-26T04:41:46.449228Z",
     "iopub.status.busy": "2023-08-26T04:41:46.448630Z",
     "iopub.status.idle": "2023-08-26T04:41:46.454427Z",
     "shell.execute_reply": "2023-08-26T04:41:46.452775Z"
    },
    "papermill": {
     "duration": 0.127206,
     "end_time": "2023-08-26T04:41:46.457439",
     "exception": false,
     "start_time": "2023-08-26T04:41:46.330233",
     "status": "completed"
    },
    "tags": []
   },
   "outputs": [],
   "source": [
    "# merged['sentiment'].loc[merged['releaseDiffBins'] > 0].value_counts()"
   ]
  },
  {
   "cell_type": "code",
   "execution_count": 55,
   "id": "c74e093c",
   "metadata": {
    "execution": {
     "iopub.execute_input": "2023-08-26T04:41:46.695304Z",
     "iopub.status.busy": "2023-08-26T04:41:46.694795Z",
     "iopub.status.idle": "2023-08-26T04:41:46.700155Z",
     "shell.execute_reply": "2023-08-26T04:41:46.698911Z"
    },
    "papermill": {
     "duration": 0.12912,
     "end_time": "2023-08-26T04:41:46.703056",
     "exception": false,
     "start_time": "2023-08-26T04:41:46.573936",
     "status": "completed"
    },
    "tags": []
   },
   "outputs": [],
   "source": [
    "# merged['releaseDiffBins'].describe()"
   ]
  },
  {
   "cell_type": "markdown",
   "id": "49181903",
   "metadata": {
    "papermill": {
     "duration": 0.121396,
     "end_time": "2023-08-26T04:41:46.942958",
     "exception": false,
     "start_time": "2023-08-26T04:41:46.821562",
     "status": "completed"
    },
    "tags": []
   },
   "source": [
    "### EDA 'distributor'  "
   ]
  },
  {
   "cell_type": "code",
   "execution_count": 56,
   "id": "702d91bc",
   "metadata": {
    "execution": {
     "iopub.execute_input": "2023-08-26T04:41:47.188291Z",
     "iopub.status.busy": "2023-08-26T04:41:47.187671Z",
     "iopub.status.idle": "2023-08-26T04:41:47.226070Z",
     "shell.execute_reply": "2023-08-26T04:41:47.224676Z"
    },
    "papermill": {
     "duration": 0.162391,
     "end_time": "2023-08-26T04:41:47.229187",
     "exception": false,
     "start_time": "2023-08-26T04:41:47.066796",
     "status": "completed"
    },
    "tags": []
   },
   "outputs": [
    {
     "data": {
      "text/plain": [
       "unknown                              20489\n",
       "Universal Pictures                    8847\n",
       "Warner Bros. Pictures                 8722\n",
       "Paramount Pictures                    7773\n",
       "20th Century Fox                      7007\n",
       "                                     ...  \n",
       "Almi Pictures                            1\n",
       "Koch Lorber                              1\n",
       "Magic Lamp                               1\n",
       "Fine Line Features, Miramax Films        1\n",
       "American Film Co.                        1\n",
       "Name: distributor, Length: 1796, dtype: int64"
      ]
     },
     "execution_count": 56,
     "metadata": {},
     "output_type": "execute_result"
    }
   ],
   "source": [
    "merged[\"distributor\"].value_counts()"
   ]
  },
  {
   "cell_type": "code",
   "execution_count": 57,
   "id": "6e997ac1",
   "metadata": {
    "execution": {
     "iopub.execute_input": "2023-08-26T04:41:47.472648Z",
     "iopub.status.busy": "2023-08-26T04:41:47.472213Z",
     "iopub.status.idle": "2023-08-26T04:41:47.493049Z",
     "shell.execute_reply": "2023-08-26T04:41:47.491535Z"
    },
    "papermill": {
     "duration": 0.145805,
     "end_time": "2023-08-26T04:41:47.495893",
     "exception": false,
     "start_time": "2023-08-26T04:41:47.350088",
     "status": "completed"
    },
    "tags": []
   },
   "outputs": [
    {
     "data": {
      "text/plain": [
       "count    162758.000000\n",
       "mean        106.992019\n",
       "std          22.203778\n",
       "min           4.000000\n",
       "25%          93.000000\n",
       "50%         104.000000\n",
       "75%         118.000000\n",
       "max         561.000000\n",
       "Name: runtimeMinutes, dtype: float64"
      ]
     },
     "execution_count": 57,
     "metadata": {},
     "output_type": "execute_result"
    }
   ],
   "source": [
    "merged[\"runtimeMinutes\"].describe()"
   ]
  },
  {
   "cell_type": "code",
   "execution_count": 58,
   "id": "18cb9a9b",
   "metadata": {
    "execution": {
     "iopub.execute_input": "2023-08-26T04:41:47.735942Z",
     "iopub.status.busy": "2023-08-26T04:41:47.735493Z",
     "iopub.status.idle": "2023-08-26T04:41:48.198205Z",
     "shell.execute_reply": "2023-08-26T04:41:48.196497Z"
    },
    "papermill": {
     "duration": 0.584573,
     "end_time": "2023-08-26T04:41:48.201057",
     "exception": false,
     "start_time": "2023-08-26T04:41:47.616484",
     "status": "completed"
    },
    "tags": []
   },
   "outputs": [
    {
     "data": {
      "text/plain": [
       "<Axes: xlabel='sentiment', ylabel='runtimeMinutes'>"
      ]
     },
     "execution_count": 58,
     "metadata": {},
     "output_type": "execute_result"
    },
    {
     "data": {
      "image/png": "[encoded data removed]",
      "text/plain": [
       "<Figure size 640x480 with 1 Axes>"
      ]
     },
     "metadata": {},
     "output_type": "display_data"
    }
   ],
   "source": [
    "sns.boxplot(y=merged[\"runtimeMinutes\"], x=merged[\"sentiment\"])"
   ]
  },
  {
   "cell_type": "code",
   "execution_count": 59,
   "id": "ba65bca6",
   "metadata": {
    "execution": {
     "iopub.execute_input": "2023-08-26T04:41:48.443399Z",
     "iopub.status.busy": "2023-08-26T04:41:48.441856Z",
     "iopub.status.idle": "2023-08-26T04:41:48.447754Z",
     "shell.execute_reply": "2023-08-26T04:41:48.446624Z"
    },
    "papermill": {
     "duration": 0.127955,
     "end_time": "2023-08-26T04:41:48.450483",
     "exception": false,
     "start_time": "2023-08-26T04:41:48.322528",
     "status": "completed"
    },
    "tags": []
   },
   "outputs": [],
   "source": [
    "# print(merged[\"boxOfficeBins\"].value_counts())\n",
    "# sns.displot(merged[\"boxOfficeBins\"])"
   ]
  },
  {
   "cell_type": "code",
   "execution_count": 60,
   "id": "956bc986",
   "metadata": {
    "execution": {
     "iopub.execute_input": "2023-08-26T04:41:48.691499Z",
     "iopub.status.busy": "2023-08-26T04:41:48.690975Z",
     "iopub.status.idle": "2023-08-26T04:41:48.700715Z",
     "shell.execute_reply": "2023-08-26T04:41:48.699302Z"
    },
    "papermill": {
     "duration": 0.135145,
     "end_time": "2023-08-26T04:41:48.703465",
     "exception": false,
     "start_time": "2023-08-26T04:41:48.568320",
     "status": "completed"
    },
    "tags": []
   },
   "outputs": [
    {
     "data": {
      "text/plain": [
       "0    Henry Selick’s first movie since ’s Coraline. ...\n",
       "1    With a cast that reads like the Vogue Oscar pa...\n",
       "2    Creed II does not give us anything but another...\n",
       "3    I know what you're thinking, but this is no Li...\n",
       "4    Director Fernando Meirelles tells the story wi...\n",
       "Name: reviewText, dtype: object"
      ]
     },
     "execution_count": 60,
     "metadata": {},
     "output_type": "execute_result"
    }
   ],
   "source": [
    "merged[\"reviewText\"].head()"
   ]
  },
  {
   "cell_type": "code",
   "execution_count": 61,
   "id": "19284901",
   "metadata": {
    "execution": {
     "iopub.execute_input": "2023-08-26T04:41:48.953957Z",
     "iopub.status.busy": "2023-08-26T04:41:48.953493Z",
     "iopub.status.idle": "2023-08-26T04:41:48.963804Z",
     "shell.execute_reply": "2023-08-26T04:41:48.962512Z"
    },
    "papermill": {
     "duration": 0.137706,
     "end_time": "2023-08-26T04:41:48.966625",
     "exception": false,
     "start_time": "2023-08-26T04:41:48.828919",
     "status": "completed"
    },
    "tags": []
   },
   "outputs": [
    {
     "data": {
      "text/plain": [
       "6447"
      ]
     },
     "execution_count": 61,
     "metadata": {},
     "output_type": "execute_result"
    }
   ],
   "source": [
    "merged[\"reviewYN\"].sum()"
   ]
  },
  {
   "cell_type": "markdown",
   "id": "f3d77956",
   "metadata": {
    "papermill": {
     "duration": 0.120967,
     "end_time": "2023-08-26T04:41:49.213925",
     "exception": false,
     "start_time": "2023-08-26T04:41:49.092958",
     "status": "completed"
    },
    "tags": []
   },
   "source": [
    "### Word count 'reviewText'  "
   ]
  },
  {
   "cell_type": "code",
   "execution_count": 62,
   "id": "1a31b836",
   "metadata": {
    "execution": {
     "iopub.execute_input": "2023-08-26T04:41:49.452492Z",
     "iopub.status.busy": "2023-08-26T04:41:49.452039Z",
     "iopub.status.idle": "2023-08-26T04:41:49.462821Z",
     "shell.execute_reply": "2023-08-26T04:41:49.461104Z"
    },
    "papermill": {
     "duration": 0.133405,
     "end_time": "2023-08-26T04:41:49.466254",
     "exception": false,
     "start_time": "2023-08-26T04:41:49.332849",
     "status": "completed"
    },
    "tags": []
   },
   "outputs": [
    {
     "data": {
      "text/plain": [
       "0    11\n",
       "1    24\n",
       "2    22\n",
       "3    34\n",
       "4    20\n",
       "Name: reviewWC, dtype: int64"
      ]
     },
     "execution_count": 62,
     "metadata": {},
     "output_type": "execute_result"
    }
   ],
   "source": [
    "merged[\"reviewWC\"].head()"
   ]
  },
  {
   "cell_type": "code",
   "execution_count": 63,
   "id": "90858f0e",
   "metadata": {
    "execution": {
     "iopub.execute_input": "2023-08-26T04:41:49.712369Z",
     "iopub.status.busy": "2023-08-26T04:41:49.711924Z",
     "iopub.status.idle": "2023-08-26T04:41:49.729696Z",
     "shell.execute_reply": "2023-08-26T04:41:49.728367Z"
    },
    "papermill": {
     "duration": 0.145563,
     "end_time": "2023-08-26T04:41:49.732718",
     "exception": false,
     "start_time": "2023-08-26T04:41:49.587155",
     "status": "completed"
    },
    "tags": []
   },
   "outputs": [
    {
     "data": {
      "text/plain": [
       "count    162758.000000\n",
       "mean         21.013707\n",
       "std          10.216532\n",
       "min           1.000000\n",
       "25%          14.000000\n",
       "50%          21.000000\n",
       "75%          28.000000\n",
       "max          54.000000\n",
       "Name: reviewWC, dtype: float64"
      ]
     },
     "execution_count": 63,
     "metadata": {},
     "output_type": "execute_result"
    }
   ],
   "source": [
    "merged[\"reviewWC\"].describe()"
   ]
  },
  {
   "cell_type": "markdown",
   "id": "d87cdbfc",
   "metadata": {
    "papermill": {
     "duration": 0.120501,
     "end_time": "2023-08-26T04:41:49.971631",
     "exception": false,
     "start_time": "2023-08-26T04:41:49.851130",
     "status": "completed"
    },
    "tags": []
   },
   "source": [
    "`Some interesting findings on word count`  \n",
    "\n",
    "* Median length of reviewText is only 21 words!  \n",
    "* Max review length is only 54 words (suspect truncation?)  \n",
    "* Min lenght is one word because I have filled it with the word 'neutral'  \n",
    "* It will be interesting to check how many unique words are present in the reviewText column  "
   ]
  },
  {
   "cell_type": "code",
   "execution_count": 64,
   "id": "d2cf63d8",
   "metadata": {
    "execution": {
     "iopub.execute_input": "2023-08-26T04:41:50.220246Z",
     "iopub.status.busy": "2023-08-26T04:41:50.219710Z",
     "iopub.status.idle": "2023-08-26T04:41:55.779033Z",
     "shell.execute_reply": "2023-08-26T04:41:55.777228Z"
    },
    "papermill": {
     "duration": 5.685354,
     "end_time": "2023-08-26T04:41:55.782224",
     "exception": false,
     "start_time": "2023-08-26T04:41:50.096870",
     "status": "completed"
    },
    "tags": []
   },
   "outputs": [
    {
     "data": {
      "text/html": [
       "<style>#sk-container-id-1 {color: black;background-color: white;}#sk-container-id-1 pre{padding: 0;}#sk-container-id-1 div.sk-toggleable {background-color: white;}#sk-container-id-1 label.sk-toggleable__label {cursor: pointer;display: block;width: 100%;margin-bottom: 0;padding: 0.3em;box-sizing: border-box;text-align: center;}#sk-container-id-1 label.sk-toggleable__label-arrow:before {content: \"▸\";float: left;margin-right: 0.25em;color: #696969;}#sk-container-id-1 label.sk-toggleable__label-arrow:hover:before {color: black;}#sk-container-id-1 div.sk-estimator:hover label.sk-toggleable__label-arrow:before {color: black;}#sk-container-id-1 div.sk-toggleable__content {max-height: 0;max-width: 0;overflow: hidden;text-align: left;background-color: #f0f8ff;}#sk-container-id-1 div.sk-toggleable__content pre {margin: 0.2em;color: black;border-radius: 0.25em;background-color: #f0f8ff;}#sk-container-id-1 input.sk-toggleable__control:checked~div.sk-toggleable__content {max-height: 200px;max-width: 100%;overflow: auto;}#sk-container-id-1 input.sk-toggleable__control:checked~label.sk-toggleable__label-arrow:before {content: \"▾\";}#sk-container-id-1 div.sk-estimator input.sk-toggleable__control:checked~label.sk-toggleable__label {background-color: #d4ebff;}#sk-container-id-1 div.sk-label input.sk-toggleable__control:checked~label.sk-toggleable__label {background-color: #d4ebff;}#sk-container-id-1 input.sk-hidden--visually {border: 0;clip: rect(1px 1px 1px 1px);clip: rect(1px, 1px, 1px, 1px);height: 1px;margin: -1px;overflow: hidden;padding: 0;position: absolute;width: 1px;}#sk-container-id-1 div.sk-estimator {font-family: monospace;background-color: #f0f8ff;border: 1px dotted black;border-radius: 0.25em;box-sizing: border-box;margin-bottom: 0.5em;}#sk-container-id-1 div.sk-estimator:hover {background-color: #d4ebff;}#sk-container-id-1 div.sk-parallel-item::after {content: \"\";width: 100%;border-bottom: 1px solid gray;flex-grow: 1;}#sk-container-id-1 div.sk-label:hover label.sk-toggleable__label {background-color: #d4ebff;}#sk-container-id-1 div.sk-serial::before {content: \"\";position: absolute;border-left: 1px solid gray;box-sizing: border-box;top: 0;bottom: 0;left: 50%;z-index: 0;}#sk-container-id-1 div.sk-serial {display: flex;flex-direction: column;align-items: center;background-color: white;padding-right: 0.2em;padding-left: 0.2em;position: relative;}#sk-container-id-1 div.sk-item {position: relative;z-index: 1;}#sk-container-id-1 div.sk-parallel {display: flex;align-items: stretch;justify-content: center;background-color: white;position: relative;}#sk-container-id-1 div.sk-item::before, #sk-container-id-1 div.sk-parallel-item::before {content: \"\";position: absolute;border-left: 1px solid gray;box-sizing: border-box;top: 0;bottom: 0;left: 50%;z-index: -1;}#sk-container-id-1 div.sk-parallel-item {display: flex;flex-direction: column;z-index: 1;position: relative;background-color: white;}#sk-container-id-1 div.sk-parallel-item:first-child::after {align-self: flex-end;width: 50%;}#sk-container-id-1 div.sk-parallel-item:last-child::after {align-self: flex-start;width: 50%;}#sk-container-id-1 div.sk-parallel-item:only-child::after {width: 0;}#sk-container-id-1 div.sk-dashed-wrapped {border: 1px dashed gray;margin: 0 0.4em 0.5em 0.4em;box-sizing: border-box;padding-bottom: 0.4em;background-color: white;}#sk-container-id-1 div.sk-label label {font-family: monospace;font-weight: bold;display: inline-block;line-height: 1.2em;}#sk-container-id-1 div.sk-label-container {text-align: center;}#sk-container-id-1 div.sk-container {/* jupyter's `normalize.less` sets `[hidden] { display: none; }` but bootstrap.min.css set `[hidden] { display: none !important; }` so we also need the `!important` here to be able to override the default hidden behavior on the sphinx rendered scikit-learn.org. See: https://github.com/scikit-learn/scikit-learn/issues/21755 */display: inline-block !important;position: relative;}#sk-container-id-1 div.sk-text-repr-fallback {display: none;}</style><div id=\"sk-container-id-1\" class=\"sk-top-container\"><div class=\"sk-text-repr-fallback\"><pre>TfidfVectorizer(stop_words=&#x27;english&#x27;)</pre><b>In a Jupyter environment, please rerun this cell to show the HTML representation or trust the notebook. <br />On GitHub, the HTML representation is unable to render, please try loading this page with nbviewer.org.</b></div><div class=\"sk-container\" hidden><div class=\"sk-item\"><div class=\"sk-estimator sk-toggleable\"><input class=\"sk-toggleable__control sk-hidden--visually\" id=\"sk-estimator-id-1\" type=\"checkbox\" checked><label for=\"sk-estimator-id-1\" class=\"sk-toggleable__label sk-toggleable__label-arrow\">TfidfVectorizer</label><div class=\"sk-toggleable__content\"><pre>TfidfVectorizer(stop_words=&#x27;english&#x27;)</pre></div></div></div></div></div>"
      ],
      "text/plain": [
       "TfidfVectorizer(stop_words='english')"
      ]
     },
     "execution_count": 64,
     "metadata": {},
     "output_type": "execute_result"
    }
   ],
   "source": [
    "tfvec = TfidfVectorizer(stop_words='english')\n",
    "tfvec.fit(merged[\"reviewText\"])"
   ]
  },
  {
   "cell_type": "code",
   "execution_count": 65,
   "id": "eca8d4d2",
   "metadata": {
    "execution": {
     "iopub.execute_input": "2023-08-26T04:41:56.036949Z",
     "iopub.status.busy": "2023-08-26T04:41:56.035991Z",
     "iopub.status.idle": "2023-08-26T04:41:56.044726Z",
     "shell.execute_reply": "2023-08-26T04:41:56.043406Z"
    },
    "papermill": {
     "duration": 0.14444,
     "end_time": "2023-08-26T04:41:56.047896",
     "exception": false,
     "start_time": "2023-08-26T04:41:55.903456",
     "status": "completed"
    },
    "tags": []
   },
   "outputs": [
    {
     "data": {
      "text/plain": [
       "64204"
      ]
     },
     "execution_count": 65,
     "metadata": {},
     "output_type": "execute_result"
    }
   ],
   "source": [
    "len(tfvec.vocabulary_)"
   ]
  },
  {
   "cell_type": "code",
   "execution_count": 66,
   "id": "7d7ec952",
   "metadata": {
    "execution": {
     "iopub.execute_input": "2023-08-26T04:41:56.293432Z",
     "iopub.status.busy": "2023-08-26T04:41:56.292623Z",
     "iopub.status.idle": "2023-08-26T04:41:56.299653Z",
     "shell.execute_reply": "2023-08-26T04:41:56.298481Z"
    },
    "papermill": {
     "duration": 0.133266,
     "end_time": "2023-08-26T04:41:56.302306",
     "exception": false,
     "start_time": "2023-08-26T04:41:56.169040",
     "status": "completed"
    },
    "tags": []
   },
   "outputs": [
    {
     "data": {
      "text/plain": [
       "0.03270824247710423"
      ]
     },
     "execution_count": 66,
     "metadata": {},
     "output_type": "execute_result"
    }
   ],
   "source": [
    "(21*100)/64204"
   ]
  },
  {
   "cell_type": "code",
   "execution_count": 67,
   "id": "08836846",
   "metadata": {
    "execution": {
     "iopub.execute_input": "2023-08-26T04:41:56.542044Z",
     "iopub.status.busy": "2023-08-26T04:41:56.541217Z",
     "iopub.status.idle": "2023-08-26T04:41:56.547729Z",
     "shell.execute_reply": "2023-08-26T04:41:56.546765Z"
    },
    "papermill": {
     "duration": 0.128969,
     "end_time": "2023-08-26T04:41:56.550542",
     "exception": false,
     "start_time": "2023-08-26T04:41:56.421573",
     "status": "completed"
    },
    "tags": []
   },
   "outputs": [
    {
     "data": {
      "text/plain": [
       "0.08410690922683944"
      ]
     },
     "execution_count": 67,
     "metadata": {},
     "output_type": "execute_result"
    }
   ],
   "source": [
    "(54*100)/64204"
   ]
  },
  {
   "cell_type": "markdown",
   "id": "0cef25f7",
   "metadata": {
    "papermill": {
     "duration": 0.127797,
     "end_time": "2023-08-26T04:41:56.821467",
     "exception": false,
     "start_time": "2023-08-26T04:41:56.693670",
     "status": "completed"
    },
    "tags": []
   },
   "source": [
    "`Comparing size of an average review with vocabulary in entire reviewText column`   \n",
    "\n",
    "* An average review uses only 20 words, which represents only 0.03% of the entire vocabulary!  \n",
    "* Which means  \n",
    "        * A given review may not even have the important words from a model's point of view  \n",
    "        * There are a lot of noise words which do not contribute to sentiment  \n",
    "        * Lot of scope for overfitting  \n",
    "        * Strategies to understand meaning of similar words or phrases will improve model performance"
   ]
  },
  {
   "cell_type": "code",
   "execution_count": 68,
   "id": "4cdebec3",
   "metadata": {
    "execution": {
     "iopub.execute_input": "2023-08-26T04:41:57.087794Z",
     "iopub.status.busy": "2023-08-26T04:41:57.086756Z",
     "iopub.status.idle": "2023-08-26T04:41:57.832025Z",
     "shell.execute_reply": "2023-08-26T04:41:57.830347Z"
    },
    "papermill": {
     "duration": 0.888003,
     "end_time": "2023-08-26T04:41:57.835093",
     "exception": false,
     "start_time": "2023-08-26T04:41:56.947090",
     "status": "completed"
    },
    "tags": []
   },
   "outputs": [
    {
     "data": {
      "text/plain": [
       "<Axes: xlabel='reviewWC', ylabel='Count'>"
      ]
     },
     "execution_count": 68,
     "metadata": {},
     "output_type": "execute_result"
    },
    {
     "data": {
      "image/png": "[encoded data removed]",
      "text/plain": [
       "<Figure size 640x480 with 1 Axes>"
      ]
     },
     "metadata": {},
     "output_type": "display_data"
    }
   ],
   "source": [
    "sns.histplot(merged[\"reviewWC\"])"
   ]
  },
  {
   "cell_type": "code",
   "execution_count": 69,
   "id": "28177b10",
   "metadata": {
    "execution": {
     "iopub.execute_input": "2023-08-26T04:41:58.195463Z",
     "iopub.status.busy": "2023-08-26T04:41:58.194954Z",
     "iopub.status.idle": "2023-08-26T04:41:58.230330Z",
     "shell.execute_reply": "2023-08-26T04:41:58.228493Z"
    },
    "papermill": {
     "duration": 0.274408,
     "end_time": "2023-08-26T04:41:58.233266",
     "exception": false,
     "start_time": "2023-08-26T04:41:57.958858",
     "status": "completed"
    },
    "tags": []
   },
   "outputs": [
    {
     "data": {
      "text/plain": [
       "R          60248\n",
       "unknown    44587\n",
       "PG-13      42697\n",
       "PG         13669\n",
       "TV14         947\n",
       "NC-17        285\n",
       "TVPG         281\n",
       "TVMA          44\n",
       "Name: rating, dtype: int64"
      ]
     },
     "execution_count": 69,
     "metadata": {},
     "output_type": "execute_result"
    }
   ],
   "source": [
    "merged['rating'].value_counts()"
   ]
  },
  {
   "cell_type": "code",
   "execution_count": 70,
   "id": "c5f3711d",
   "metadata": {
    "execution": {
     "iopub.execute_input": "2023-08-26T04:41:58.478371Z",
     "iopub.status.busy": "2023-08-26T04:41:58.477582Z",
     "iopub.status.idle": "2023-08-26T04:41:58.489650Z",
     "shell.execute_reply": "2023-08-26T04:41:58.488223Z"
    },
    "papermill": {
     "duration": 0.135157,
     "end_time": "2023-08-26T04:41:58.492502",
     "exception": false,
     "start_time": "2023-08-26T04:41:58.357345",
     "status": "completed"
    },
    "tags": []
   },
   "outputs": [
    {
     "data": {
      "text/plain": [
       "False    113189\n",
       "True      49569\n",
       "Name: isFrequentReviewer, dtype: int64"
      ]
     },
     "execution_count": 70,
     "metadata": {},
     "output_type": "execute_result"
    }
   ],
   "source": [
    "merged['isFrequentReviewer'].value_counts()"
   ]
  },
  {
   "cell_type": "code",
   "execution_count": 71,
   "id": "196d6da3",
   "metadata": {
    "execution": {
     "iopub.execute_input": "2023-08-26T04:41:58.738288Z",
     "iopub.status.busy": "2023-08-26T04:41:58.737338Z",
     "iopub.status.idle": "2023-08-26T04:41:58.747409Z",
     "shell.execute_reply": "2023-08-26T04:41:58.745930Z"
    },
    "papermill": {
     "duration": 0.137262,
     "end_time": "2023-08-26T04:41:58.749989",
     "exception": false,
     "start_time": "2023-08-26T04:41:58.612727",
     "status": "completed"
    },
    "tags": []
   },
   "outputs": [
    {
     "data": {
      "text/plain": [
       "0      Benjamin Henry\n",
       "1       Felicia Lopez\n",
       "2     Charles Burgess\n",
       "3        Ryan Barrett\n",
       "4    Alexander Glover\n",
       "Name: reviewerName, dtype: object"
      ]
     },
     "execution_count": 71,
     "metadata": {},
     "output_type": "execute_result"
    }
   ],
   "source": [
    "merged[\"reviewerName\"].head()"
   ]
  },
  {
   "cell_type": "code",
   "execution_count": 72,
   "id": "29a75220",
   "metadata": {
    "execution": {
     "iopub.execute_input": "2023-08-26T04:41:58.998421Z",
     "iopub.status.busy": "2023-08-26T04:41:58.997887Z",
     "iopub.status.idle": "2023-08-26T04:41:59.021872Z",
     "shell.execute_reply": "2023-08-26T04:41:59.020248Z"
    },
    "papermill": {
     "duration": 0.150107,
     "end_time": "2023-08-26T04:41:59.024934",
     "exception": false,
     "start_time": "2023-08-26T04:41:58.874827",
     "status": "completed"
    },
    "tags": []
   },
   "outputs": [
    {
     "data": {
      "text/plain": [
       "14300000.0    32327\n",
       "2000000.0       922\n",
       "1100000.0       891\n",
       "1000000.0       834\n",
       "1200000.0       802\n",
       "              ...  \n",
       "58500.0           1\n",
       "500800.0          1\n",
       "265600.0          1\n",
       "292500.0          1\n",
       "799400.0          1\n",
       "Name: boxOffice, Length: 3819, dtype: int64"
      ]
     },
     "execution_count": 72,
     "metadata": {},
     "output_type": "execute_result"
    }
   ],
   "source": [
    "merged['boxOffice'].value_counts()"
   ]
  },
  {
   "cell_type": "code",
   "execution_count": 73,
   "id": "f5c18781",
   "metadata": {
    "execution": {
     "iopub.execute_input": "2023-08-26T04:41:59.270103Z",
     "iopub.status.busy": "2023-08-26T04:41:59.269304Z",
     "iopub.status.idle": "2023-08-26T04:41:59.273967Z",
     "shell.execute_reply": "2023-08-26T04:41:59.272992Z"
    },
    "papermill": {
     "duration": 0.131617,
     "end_time": "2023-08-26T04:41:59.276792",
     "exception": false,
     "start_time": "2023-08-26T04:41:59.145175",
     "status": "completed"
    },
    "tags": []
   },
   "outputs": [],
   "source": [
    "# Check correlation between 'boxOffice' and ''sentiment'\n",
    "# bo_df = merged.copy()\n",
    "# print(bo_df[\"boxOffice\"])\n",
    "# bo_df[\"boxOffice\"] = bo_df[\"boxOffice\"].str[1:]\n",
    "# bo_df[\"boxOffice\"] = bo_df[\"boxOffice\"].replace(to_replace={\"M\": \"*1000000\", \"K\": \"*1000\"}, regex=True)\n",
    "# bo_df[\"boxOffice\"] = bo_df[\"boxOffice\"].loc[bo_df[\"boxOffice\"].notnull()].apply(lambda x: eval(str(x)))\n",
    "# bo_df[\"boxOffice\"] = bo_df[\"boxOffice\"].fillna(bo_df[\"boxOffice\"].median())\n",
    "# bo_df[\"boxOffice\"].describe()"
   ]
  },
  {
   "cell_type": "code",
   "execution_count": 74,
   "id": "7629d807",
   "metadata": {
    "execution": {
     "iopub.execute_input": "2023-08-26T04:41:59.522419Z",
     "iopub.status.busy": "2023-08-26T04:41:59.521631Z",
     "iopub.status.idle": "2023-08-26T04:41:59.526336Z",
     "shell.execute_reply": "2023-08-26T04:41:59.525216Z"
    },
    "papermill": {
     "duration": 0.131775,
     "end_time": "2023-08-26T04:41:59.529528",
     "exception": false,
     "start_time": "2023-08-26T04:41:59.397753",
     "status": "completed"
    },
    "tags": []
   },
   "outputs": [],
   "source": [
    "# median = bo_df[\"boxOffice\"].describe()['50%']\n",
    "# iqr = bo_df[\"boxOffice\"].describe()['75%'] - bo_df[\"boxOffice\"].describe()['25%']\n",
    "# median, iqr"
   ]
  },
  {
   "cell_type": "code",
   "execution_count": 75,
   "id": "24b84887",
   "metadata": {
    "execution": {
     "iopub.execute_input": "2023-08-26T04:41:59.779524Z",
     "iopub.status.busy": "2023-08-26T04:41:59.779028Z",
     "iopub.status.idle": "2023-08-26T04:41:59.785241Z",
     "shell.execute_reply": "2023-08-26T04:41:59.783418Z"
    },
    "papermill": {
     "duration": 0.13645,
     "end_time": "2023-08-26T04:41:59.788840",
     "exception": false,
     "start_time": "2023-08-26T04:41:59.652390",
     "status": "completed"
    },
    "tags": []
   },
   "outputs": [],
   "source": [
    "# ll = median - (1.5*iqr)\n",
    "# ul = median + (1.5*iqr)\n",
    "# ll, ul"
   ]
  },
  {
   "cell_type": "code",
   "execution_count": 76,
   "id": "12f2bf53",
   "metadata": {
    "execution": {
     "iopub.execute_input": "2023-08-26T04:42:00.047535Z",
     "iopub.status.busy": "2023-08-26T04:42:00.046958Z",
     "iopub.status.idle": "2023-08-26T04:42:00.053295Z",
     "shell.execute_reply": "2023-08-26T04:42:00.051687Z"
    },
    "papermill": {
     "duration": 0.142265,
     "end_time": "2023-08-26T04:42:00.056422",
     "exception": false,
     "start_time": "2023-08-26T04:41:59.914157",
     "status": "completed"
    },
    "tags": []
   },
   "outputs": [],
   "source": [
    "# bo_df[\"boxOffice\"].mean()"
   ]
  },
  {
   "cell_type": "code",
   "execution_count": 77,
   "id": "3cecc700",
   "metadata": {
    "execution": {
     "iopub.execute_input": "2023-08-26T04:42:00.300816Z",
     "iopub.status.busy": "2023-08-26T04:42:00.300329Z",
     "iopub.status.idle": "2023-08-26T04:42:00.305989Z",
     "shell.execute_reply": "2023-08-26T04:42:00.304538Z"
    },
    "papermill": {
     "duration": 0.130235,
     "end_time": "2023-08-26T04:42:00.308456",
     "exception": false,
     "start_time": "2023-08-26T04:42:00.178221",
     "status": "completed"
    },
    "tags": []
   },
   "outputs": [],
   "source": [
    "# bo_df.loc[bo_df[\"boxOffice\"] > ul, \"boxOffice\"] = median\n",
    "# bo_df[\"boxOffice\"].mean()"
   ]
  },
  {
   "cell_type": "code",
   "execution_count": 78,
   "id": "9d28541b",
   "metadata": {
    "execution": {
     "iopub.execute_input": "2023-08-26T04:42:00.554743Z",
     "iopub.status.busy": "2023-08-26T04:42:00.554069Z",
     "iopub.status.idle": "2023-08-26T04:42:00.560696Z",
     "shell.execute_reply": "2023-08-26T04:42:00.559124Z"
    },
    "papermill": {
     "duration": 0.133788,
     "end_time": "2023-08-26T04:42:00.563488",
     "exception": false,
     "start_time": "2023-08-26T04:42:00.429700",
     "status": "completed"
    },
    "tags": []
   },
   "outputs": [],
   "source": [
    "# bo_df[\"boxOffice\"].min(), bo_df[\"boxOffice\"].max()"
   ]
  },
  {
   "cell_type": "code",
   "execution_count": 79,
   "id": "11224113",
   "metadata": {
    "execution": {
     "iopub.execute_input": "2023-08-26T04:42:00.807391Z",
     "iopub.status.busy": "2023-08-26T04:42:00.806948Z",
     "iopub.status.idle": "2023-08-26T04:42:00.812862Z",
     "shell.execute_reply": "2023-08-26T04:42:00.811732Z"
    },
    "papermill": {
     "duration": 0.132008,
     "end_time": "2023-08-26T04:42:00.815708",
     "exception": false,
     "start_time": "2023-08-26T04:42:00.683700",
     "status": "completed"
    },
    "tags": []
   },
   "outputs": [],
   "source": [
    "# sns.boxplot(x=\"sentiment\", y=\"boxOffice\", data=bo_df, showfliers = False)"
   ]
  },
  {
   "cell_type": "markdown",
   "id": "24db1388",
   "metadata": {
    "papermill": {
     "duration": 0.127649,
     "end_time": "2023-08-26T04:42:01.064646",
     "exception": false,
     "start_time": "2023-08-26T04:42:00.936997",
     "status": "completed"
    },
    "tags": []
   },
   "source": [
    "## EDA  "
   ]
  },
  {
   "cell_type": "markdown",
   "id": "7a161938",
   "metadata": {
    "papermill": {
     "duration": 0.125077,
     "end_time": "2023-08-26T04:42:01.311074",
     "exception": false,
     "start_time": "2023-08-26T04:42:01.185997",
     "status": "completed"
    },
    "tags": []
   },
   "source": [
    "### An interesting finding through exploration  \n",
    "  \n",
    "* OHE and TfidfVectorizer on director column give the same result when ngram_range(2,2) is used (see code below)!"
   ]
  },
  {
   "cell_type": "code",
   "execution_count": 80,
   "id": "b5652242",
   "metadata": {
    "execution": {
     "iopub.execute_input": "2023-08-26T04:42:01.561416Z",
     "iopub.status.busy": "2023-08-26T04:42:01.560640Z",
     "iopub.status.idle": "2023-08-26T04:42:16.197031Z",
     "shell.execute_reply": "2023-08-26T04:42:16.195152Z"
    },
    "papermill": {
     "duration": 14.766651,
     "end_time": "2023-08-26T04:42:16.201505",
     "exception": false,
     "start_time": "2023-08-26T04:42:01.434854",
     "status": "completed"
    },
    "tags": []
   },
   "outputs": [
    {
     "name": "stdout",
     "output_type": "stream",
     "text": [
      "(162758,)\n",
      "9476\n",
      "(162758, 9476) <class 'numpy.ndarray'>\n",
      "(162758,)\n",
      "(162758, 9476) <class 'numpy.ndarray'>\n",
      "True\n"
     ]
    }
   ],
   "source": [
    "# Compare OHE and TfidfVectorizer on director column\n",
    "\n",
    "dirs = merged[\"director\"].copy()\n",
    "print(dirs.shape)\n",
    "dirs_uniq = merged[\"director\"].unique()\n",
    "print(len(dirs_uniq))\n",
    "\n",
    "du_ohe = OneHotEncoder(handle_unknown=\"ignore\", sparse_output=False).fit_transform(dirs.to_numpy().reshape(-1, 1))\n",
    "print(du_ohe.shape, type(du_ohe))\n",
    "\n",
    "dirs_2 = merged[\"director\"].copy()\n",
    "print(dirs_2.shape)\n",
    "du_tfidf = TfidfVectorizer(ngram_range=(2,2)).fit_transform(dirs_2).toarray()\n",
    "print(du_tfidf.shape, type(du_tfidf))\n",
    "\n",
    "print(np.array_equal(du_ohe, du_tfidf))"
   ]
  },
  {
   "cell_type": "code",
   "execution_count": 81,
   "id": "f68d7043",
   "metadata": {
    "execution": {
     "iopub.execute_input": "2023-08-26T04:42:16.446792Z",
     "iopub.status.busy": "2023-08-26T04:42:16.446280Z",
     "iopub.status.idle": "2023-08-26T04:42:16.840131Z",
     "shell.execute_reply": "2023-08-26T04:42:16.838536Z"
    },
    "papermill": {
     "duration": 0.519637,
     "end_time": "2023-08-26T04:42:16.843325",
     "exception": false,
     "start_time": "2023-08-26T04:42:16.323688",
     "status": "completed"
    },
    "tags": []
   },
   "outputs": [
    {
     "name": "stdout",
     "output_type": "stream",
     "text": [
      "0       Bennie Basso\n",
      "1         Alma White\n",
      "2       Bobby Oleary\n",
      "3    Eric Hutcherson\n",
      "4         John Trent\n",
      "Name: director, dtype: object\n"
     ]
    },
    {
     "data": {
      "text/plain": [
       "2    162758\n",
       "Name: director, dtype: int64"
      ]
     },
     "execution_count": 81,
     "metadata": {},
     "output_type": "execute_result"
    }
   ],
   "source": [
    "print(dirs.head())\n",
    "d = dirs.copy()\n",
    "d[\"name_len\"] = d.apply(lambda x: len(x.split()))\n",
    "d[\"name_len\"].value_counts()"
   ]
  },
  {
   "cell_type": "code",
   "execution_count": 82,
   "id": "f33a65fb",
   "metadata": {
    "execution": {
     "iopub.execute_input": "2023-08-26T04:42:17.096783Z",
     "iopub.status.busy": "2023-08-26T04:42:17.096247Z",
     "iopub.status.idle": "2023-08-26T04:42:17.104715Z",
     "shell.execute_reply": "2023-08-26T04:42:17.102968Z"
    },
    "papermill": {
     "duration": 0.144367,
     "end_time": "2023-08-26T04:42:17.107421",
     "exception": false,
     "start_time": "2023-08-26T04:42:16.963054",
     "status": "completed"
    },
    "tags": []
   },
   "outputs": [],
   "source": [
    "# Compare OHE and TfidfVectorizer on reviewerName column\n",
    "# Note: reviewerName column has salutations like \"Mr. \" etc, and some names appear middle names. Therefore needs cleaning\n",
    "\n",
    "# def name_fl(name):\n",
    "#     l = name.split()\n",
    "#     n = ' '.join((l[0], l[-1]))\n",
    "#     return n\n",
    "\n",
    "# reviewers = merged[\"reviewerName\"].copy()\n",
    "# reviewers = pd.DataFrame(reviewers)\n",
    "# reviewers = reviewers.replace({\"Mr. \": \"\", \"Mrs. \": \"\"}, regex=True)\n",
    "# reviewers[\"reviewerName\"] = reviewers[\"reviewerName\"].apply(name_fl)\n",
    "# print(reviewers.shape)\n",
    "\n",
    "# reviewers_uniq = merged[\"reviewerName\"].unique()\n",
    "# print(len(reviewers_uniq))\n",
    "\n",
    "# reviewers_ohe = OneHotEncoder(handle_unknown=\"ignore\", sparse_output=False).fit_transform(reviewers.to_numpy().reshape(-1, 1))\n",
    "# print(reviewers_ohe.shape, type(reviewers_ohe))\n",
    "\n",
    "# reviewers_2 = merged[\"reviewerName\"].copy()\n",
    "# reviewers_2 = pd.DataFrame(reviewers_2)\n",
    "# print(reviewers_2.head())\n",
    "# reviewers_2 = reviewers_2.replace({\"Mr. \": \"\", \"Mrs. \": \"\"}, regex=True)\n",
    "# reviewers_2[\"reviewerName\"] = reviewers_2[\"reviewerName\"].apply(name_fl)\n",
    "# reviewers_2 = reviewers_2.squeeze()\n",
    "# print(reviewers_2.shape)\n",
    "# print(reviewers_2.head())\n",
    "\n",
    "# reviewers_tfidf = TfidfVectorizer(ngram_range=(2,2)).fit_transform(reviewers_2).toarray()\n",
    "# print(reviewers_tfidf.shape, type(reviewers_tfidf))\n",
    "\n",
    "# print(np.array_equal(reviewers_ohe, reviewers_tfidf))"
   ]
  },
  {
   "cell_type": "code",
   "execution_count": 83,
   "id": "054fcaff",
   "metadata": {
    "execution": {
     "iopub.execute_input": "2023-08-26T04:42:17.350365Z",
     "iopub.status.busy": "2023-08-26T04:42:17.349886Z",
     "iopub.status.idle": "2023-08-26T04:42:17.355417Z",
     "shell.execute_reply": "2023-08-26T04:42:17.353735Z"
    },
    "papermill": {
     "duration": 0.130669,
     "end_time": "2023-08-26T04:42:17.358112",
     "exception": false,
     "start_time": "2023-08-26T04:42:17.227443",
     "status": "completed"
    },
    "tags": []
   },
   "outputs": [],
   "source": [
    "# def name_fl(name):\n",
    "#     l = name.split()\n",
    "#     n = ' '.join((l[0], l[-1]))\n",
    "#     return n"
   ]
  },
  {
   "cell_type": "code",
   "execution_count": 84,
   "id": "687091c5",
   "metadata": {
    "execution": {
     "iopub.execute_input": "2023-08-26T04:42:17.599845Z",
     "iopub.status.busy": "2023-08-26T04:42:17.599431Z",
     "iopub.status.idle": "2023-08-26T04:42:17.604870Z",
     "shell.execute_reply": "2023-08-26T04:42:17.603540Z"
    },
    "papermill": {
     "duration": 0.132971,
     "end_time": "2023-08-26T04:42:17.608290",
     "exception": false,
     "start_time": "2023-08-26T04:42:17.475319",
     "status": "completed"
    },
    "tags": []
   },
   "outputs": [],
   "source": [
    "# print(reviewers.head())\n",
    "# r = pd.DataFrame(reviewers.copy())\n",
    "# r[\"reviewerName\"] = r[\"reviewerName\"].apply(name_fl)\n",
    "# r[\"name_len\"] = r[\"reviewerName\"].apply(lambda x: len(x.split()))\n",
    "# print(r.shape)\n",
    "# print(r.head())\n",
    "# print(r['name_len'].value_counts())"
   ]
  },
  {
   "cell_type": "code",
   "execution_count": 85,
   "id": "0431c35d",
   "metadata": {
    "execution": {
     "iopub.execute_input": "2023-08-26T04:42:17.857344Z",
     "iopub.status.busy": "2023-08-26T04:42:17.856871Z",
     "iopub.status.idle": "2023-08-26T04:42:17.862325Z",
     "shell.execute_reply": "2023-08-26T04:42:17.860974Z"
    },
    "papermill": {
     "duration": 0.1317,
     "end_time": "2023-08-26T04:42:17.865284",
     "exception": false,
     "start_time": "2023-08-26T04:42:17.733584",
     "status": "completed"
    },
    "tags": []
   },
   "outputs": [],
   "source": [
    "## Box plot audienceScore and sentiment  \n",
    "# plt.figure(figsize=(6, 4))\n",
    "# sns.boxplot(x=\"sentiment\", y=\"audienceScore\", data=merged, width=0.3)\n",
    "# plt.title(\"Box plot audienceScore and sentiment\")\n",
    "# plt.show()"
   ]
  },
  {
   "cell_type": "code",
   "execution_count": 86,
   "id": "cf33bc78",
   "metadata": {
    "execution": {
     "iopub.execute_input": "2023-08-26T04:42:18.126452Z",
     "iopub.status.busy": "2023-08-26T04:42:18.125755Z",
     "iopub.status.idle": "2023-08-26T04:42:18.130814Z",
     "shell.execute_reply": "2023-08-26T04:42:18.129545Z"
    },
    "papermill": {
     "duration": 0.145407,
     "end_time": "2023-08-26T04:42:18.133693",
     "exception": false,
     "start_time": "2023-08-26T04:42:17.988286",
     "status": "completed"
    },
    "tags": []
   },
   "outputs": [],
   "source": [
    "## Box plot runtimeMinutes and sentiment  \n",
    "# plt.figure(figsize=(6, 4))\n",
    "# sns.boxplot(x=\"sentiment\", y=\"runtimeMinutes\", data=merged, width=0.3)\n",
    "# plt.title(\"Box plot runtimeMinutes and sentiment\")\n",
    "# plt.show()"
   ]
  },
  {
   "cell_type": "code",
   "execution_count": 87,
   "id": "7b7dba34",
   "metadata": {
    "execution": {
     "iopub.execute_input": "2023-08-26T04:42:18.385038Z",
     "iopub.status.busy": "2023-08-26T04:42:18.384566Z",
     "iopub.status.idle": "2023-08-26T04:42:18.389369Z",
     "shell.execute_reply": "2023-08-26T04:42:18.388404Z"
    },
    "papermill": {
     "duration": 0.1327,
     "end_time": "2023-08-26T04:42:18.391823",
     "exception": false,
     "start_time": "2023-08-26T04:42:18.259123",
     "status": "completed"
    },
    "tags": []
   },
   "outputs": [],
   "source": [
    "## Column chart for sentiment and rating columns\n",
    "# plt.figure(figsize=(6, 4))\n",
    "# sns.countplot(x=\"sentiment\", hue=\"rating\", data=merged)\n",
    "# plt.title(\"Column chart for sentiment and rating columns\")\n",
    "# plt.show()"
   ]
  },
  {
   "cell_type": "code",
   "execution_count": 88,
   "id": "c5bcb3c1",
   "metadata": {
    "execution": {
     "iopub.execute_input": "2023-08-26T04:42:18.639438Z",
     "iopub.status.busy": "2023-08-26T04:42:18.638913Z",
     "iopub.status.idle": "2023-08-26T04:42:18.645347Z",
     "shell.execute_reply": "2023-08-26T04:42:18.643518Z"
    },
    "papermill": {
     "duration": 0.134363,
     "end_time": "2023-08-26T04:42:18.648580",
     "exception": false,
     "start_time": "2023-08-26T04:42:18.514217",
     "status": "completed"
    },
    "tags": []
   },
   "outputs": [],
   "source": [
    "# Correlation heatmap  \n",
    "# plt.figure(figsize=(10, 8))\n",
    "# sns.heatmap(merged.corr(), annot=True, cmap=\"coolwarm\")\n",
    "# plt.title(\"Correlation heatmap\")\n",
    "# plt.show()"
   ]
  },
  {
   "cell_type": "markdown",
   "id": "6e020842",
   "metadata": {
    "papermill": {
     "duration": 0.122644,
     "end_time": "2023-08-26T04:42:18.895774",
     "exception": false,
     "start_time": "2023-08-26T04:42:18.773130",
     "status": "completed"
    },
    "tags": []
   },
   "source": [
    "## Merge and preprocess \"test.csv\" and \"movies.csv\" files  "
   ]
  },
  {
   "cell_type": "code",
   "execution_count": 89,
   "id": "e6be4f42",
   "metadata": {
    "execution": {
     "iopub.execute_input": "2023-08-26T04:42:19.148063Z",
     "iopub.status.busy": "2023-08-26T04:42:19.147579Z",
     "iopub.status.idle": "2023-08-26T04:42:26.020715Z",
     "shell.execute_reply": "2023-08-26T04:42:26.019454Z"
    },
    "papermill": {
     "duration": 7.000759,
     "end_time": "2023-08-26T04:42:26.023694",
     "exception": false,
     "start_time": "2023-08-26T04:42:19.022935",
     "status": "completed"
    },
    "tags": []
   },
   "outputs": [],
   "source": [
    "# Merge test and movies  \n",
    "merged_test = select_features(load_csv(\"test\"), load_csv(\"movies\"))"
   ]
  },
  {
   "cell_type": "code",
   "execution_count": 90,
   "id": "4ef5434b",
   "metadata": {
    "execution": {
     "iopub.execute_input": "2023-08-26T04:42:26.275560Z",
     "iopub.status.busy": "2023-08-26T04:42:26.275117Z",
     "iopub.status.idle": "2023-08-26T04:42:26.280782Z",
     "shell.execute_reply": "2023-08-26T04:42:26.279305Z"
    },
    "papermill": {
     "duration": 0.132636,
     "end_time": "2023-08-26T04:42:26.283880",
     "exception": false,
     "start_time": "2023-08-26T04:42:26.151244",
     "status": "completed"
    },
    "tags": []
   },
   "outputs": [],
   "source": [
    "# inspect(merged_test)      # Note the missing values in ['audienceScore', 'runtimeMinutes', 'boxOffice']"
   ]
  },
  {
   "cell_type": "code",
   "execution_count": 91,
   "id": "b6f35042",
   "metadata": {
    "execution": {
     "iopub.execute_input": "2023-08-26T04:42:26.527356Z",
     "iopub.status.busy": "2023-08-26T04:42:26.525625Z",
     "iopub.status.idle": "2023-08-26T04:42:26.547605Z",
     "shell.execute_reply": "2023-08-26T04:42:26.546107Z"
    },
    "papermill": {
     "duration": 0.146682,
     "end_time": "2023-08-26T04:42:26.550359",
     "exception": false,
     "start_time": "2023-08-26T04:42:26.403677",
     "status": "completed"
    },
    "tags": []
   },
   "outputs": [
    {
     "data": {
      "text/plain": [
       "array([6.80e+01, 1.04e+02, 1.43e+07])"
      ]
     },
     "execution_count": 91,
     "metadata": {},
     "output_type": "execute_result"
    }
   ],
   "source": [
    "# Transform ['audienceScore', 'runtimeMinutes', 'boxOffice'] columns in merged_test using 'si' fitted on 'merged' df  \n",
    "merged_test[['audienceScore', 'runtimeMinutes', 'boxOffice']] = si.transform(merged_test[['audienceScore', 'runtimeMinutes', 'boxOffice']])\n",
    "si.statistics_"
   ]
  },
  {
   "cell_type": "code",
   "execution_count": 92,
   "id": "aaa23f58",
   "metadata": {
    "execution": {
     "iopub.execute_input": "2023-08-26T04:42:26.797095Z",
     "iopub.status.busy": "2023-08-26T04:42:26.796292Z",
     "iopub.status.idle": "2023-08-26T04:42:26.809763Z",
     "shell.execute_reply": "2023-08-26T04:42:26.808616Z"
    },
    "papermill": {
     "duration": 0.142294,
     "end_time": "2023-08-26T04:42:26.812493",
     "exception": false,
     "start_time": "2023-08-26T04:42:26.670199",
     "status": "completed"
    },
    "tags": []
   },
   "outputs": [],
   "source": [
    "# Fill 'releaseDate' column in 'merged_test' df with median from the train (merged) df  \n",
    "merged_test['releaseDate'] = merged_test[\"releaseDate\"].fillna(merged[\"releaseDate\"].median())"
   ]
  },
  {
   "cell_type": "code",
   "execution_count": 93,
   "id": "ee19cd0a",
   "metadata": {
    "execution": {
     "iopub.execute_input": "2023-08-26T04:42:27.056709Z",
     "iopub.status.busy": "2023-08-26T04:42:27.055796Z",
     "iopub.status.idle": "2023-08-26T04:42:27.583592Z",
     "shell.execute_reply": "2023-08-26T04:42:27.581768Z"
    },
    "papermill": {
     "duration": 0.655507,
     "end_time": "2023-08-26T04:42:27.586931",
     "exception": false,
     "start_time": "2023-08-26T04:42:26.931424",
     "status": "completed"
    },
    "tags": []
   },
   "outputs": [
    {
     "name": "stdout",
     "output_type": "stream",
     "text": [
      "Shape of the dataframe: (55315, 25)\n",
      "\n",
      "Columns in the dataframe:\n",
      "Index(['movieid', 'reviewerName', 'isFrequentReviewer', 'reviewText', 'title',\n",
      "       'audienceScore', 'rating', 'ratingContents', 'releaseDateTheaters',\n",
      "       'releaseDateStreaming', 'runtimeMinutes', 'genre', 'originalLanguage',\n",
      "       'director', 'boxOffice', 'distributor', 'soundType', 'reviewYN',\n",
      "       'reviewWC', 'genreSorted', 'rcSorted', 'releaseDate', 'releaseYear',\n",
      "       'releaseMonth', 'releaseDiff'],\n",
      "      dtype='object')\n",
      "\n",
      "<class 'pandas.core.frame.DataFrame'>\n",
      "Int64Index: 55315 entries, 0 to 55314\n",
      "Data columns (total 25 columns):\n",
      " #   Column                Non-Null Count  Dtype         \n",
      "---  ------                --------------  -----         \n",
      " 0   movieid               55315 non-null  object        \n",
      " 1   reviewerName          55315 non-null  object        \n",
      " 2   isFrequentReviewer    55315 non-null  bool          \n",
      " 3   reviewText            55315 non-null  object        \n",
      " 4   title                 55315 non-null  object        \n",
      " 5   audienceScore         55315 non-null  float64       \n",
      " 6   rating                55315 non-null  object        \n",
      " 7   ratingContents        55315 non-null  object        \n",
      " 8   releaseDateTheaters   47844 non-null  datetime64[ns]\n",
      " 9   releaseDateStreaming  52929 non-null  datetime64[ns]\n",
      " 10  runtimeMinutes        55315 non-null  float64       \n",
      " 11  genre                 55315 non-null  object        \n",
      " 12  originalLanguage      55315 non-null  object        \n",
      " 13  director              55315 non-null  object        \n",
      " 14  boxOffice             55315 non-null  float64       \n",
      " 15  distributor           55315 non-null  object        \n",
      " 16  soundType             29845 non-null  object        \n",
      " 17  reviewYN              55315 non-null  int64         \n",
      " 18  reviewWC              55315 non-null  int64         \n",
      " 19  genreSorted           55315 non-null  object        \n",
      " 20  rcSorted              55315 non-null  object        \n",
      " 21  releaseDate           55315 non-null  datetime64[ns]\n",
      " 22  releaseYear           46626 non-null  float64       \n",
      " 23  releaseMonth          46626 non-null  float64       \n",
      " 24  releaseDiff           55315 non-null  float64       \n",
      "dtypes: bool(1), datetime64[ns](3), float64(6), int64(2), object(13)\n",
      "memory usage: 10.6+ MB\n",
      "None\n",
      "\n",
      "Missing values:\n",
      "movieid                     0\n",
      "reviewerName                0\n",
      "isFrequentReviewer          0\n",
      "reviewText                  0\n",
      "title                       0\n",
      "audienceScore               0\n",
      "rating                      0\n",
      "ratingContents              0\n",
      "releaseDateTheaters      7471\n",
      "releaseDateStreaming     2386\n",
      "runtimeMinutes              0\n",
      "genre                       0\n",
      "originalLanguage            0\n",
      "director                    0\n",
      "boxOffice                   0\n",
      "distributor                 0\n",
      "soundType               25470\n",
      "reviewYN                    0\n",
      "reviewWC                    0\n",
      "genreSorted                 0\n",
      "rcSorted                    0\n",
      "releaseDate                 0\n",
      "releaseYear              8689\n",
      "releaseMonth             8689\n",
      "releaseDiff                 0\n",
      "dtype: int64\n"
     ]
    }
   ],
   "source": [
    "# After transforming merged_test  \n",
    "inspect(merged_test)"
   ]
  },
  {
   "cell_type": "code",
   "execution_count": 94,
   "id": "5bf2d074",
   "metadata": {
    "execution": {
     "iopub.execute_input": "2023-08-26T04:42:27.922578Z",
     "iopub.status.busy": "2023-08-26T04:42:27.922147Z",
     "iopub.status.idle": "2023-08-26T04:42:27.931149Z",
     "shell.execute_reply": "2023-08-26T04:42:27.929267Z"
    },
    "papermill": {
     "duration": 0.135298,
     "end_time": "2023-08-26T04:42:27.933806",
     "exception": false,
     "start_time": "2023-08-26T04:42:27.798508",
     "status": "completed"
    },
    "tags": []
   },
   "outputs": [
    {
     "name": "stdout",
     "output_type": "stream",
     "text": [
      "2510\n",
      "4.537648015908886\n"
     ]
    }
   ],
   "source": [
    "print(merged_test[\"reviewYN\"].sum())\n",
    "print(merged_test[\"reviewYN\"].sum() * 100 / merged_test.shape[0])"
   ]
  },
  {
   "cell_type": "code",
   "execution_count": 95,
   "id": "669f6a8c",
   "metadata": {
    "execution": {
     "iopub.execute_input": "2023-08-26T04:42:28.207068Z",
     "iopub.status.busy": "2023-08-26T04:42:28.205952Z",
     "iopub.status.idle": "2023-08-26T04:42:28.228705Z",
     "shell.execute_reply": "2023-08-26T04:42:28.227462Z"
    },
    "papermill": {
     "duration": 0.165797,
     "end_time": "2023-08-26T04:42:28.231769",
     "exception": false,
     "start_time": "2023-08-26T04:42:28.065972",
     "status": "completed"
    },
    "tags": []
   },
   "outputs": [
    {
     "data": {
      "text/plain": [
       "R          18934\n",
       "unknown    18386\n",
       "PG-13      13220\n",
       "PG          4200\n",
       "TV14         333\n",
       "TVPG         109\n",
       "NC-17        108\n",
       "TVMA          25\n",
       "Name: rating, dtype: int64"
      ]
     },
     "execution_count": 95,
     "metadata": {},
     "output_type": "execute_result"
    }
   ],
   "source": [
    "merged_test['rating'].value_counts()"
   ]
  },
  {
   "cell_type": "code",
   "execution_count": 96,
   "id": "47966a9f",
   "metadata": {
    "execution": {
     "iopub.execute_input": "2023-08-26T04:42:28.497956Z",
     "iopub.status.busy": "2023-08-26T04:42:28.496164Z",
     "iopub.status.idle": "2023-08-26T04:42:28.510772Z",
     "shell.execute_reply": "2023-08-26T04:42:28.509781Z"
    },
    "papermill": {
     "duration": 0.149732,
     "end_time": "2023-08-26T04:42:28.514204",
     "exception": false,
     "start_time": "2023-08-26T04:42:28.364472",
     "status": "completed"
    },
    "tags": []
   },
   "outputs": [
    {
     "data": {
      "text/plain": [
       "False    38428\n",
       "True     16887\n",
       "Name: isFrequentReviewer, dtype: int64"
      ]
     },
     "execution_count": 96,
     "metadata": {},
     "output_type": "execute_result"
    }
   ],
   "source": [
    "merged_test['isFrequentReviewer'].value_counts()"
   ]
  },
  {
   "cell_type": "code",
   "execution_count": 97,
   "id": "be5701bd",
   "metadata": {
    "execution": {
     "iopub.execute_input": "2023-08-26T04:42:28.770743Z",
     "iopub.status.busy": "2023-08-26T04:42:28.768130Z",
     "iopub.status.idle": "2023-08-26T04:42:28.786158Z",
     "shell.execute_reply": "2023-08-26T04:42:28.784853Z"
    },
    "papermill": {
     "duration": 0.147207,
     "end_time": "2023-08-26T04:42:28.788959",
     "exception": false,
     "start_time": "2023-08-26T04:42:28.641752",
     "status": "completed"
    },
    "tags": []
   },
   "outputs": [
    {
     "data": {
      "text/plain": [
       "14300000.0    13593\n",
       "1100000.0       311\n",
       "1000000.0       272\n",
       "1300000.0       263\n",
       "2000000.0       256\n",
       "              ...  \n",
       "200400.0          1\n",
       "23800000.0        1\n",
       "111200.0          1\n",
       "277800.0          1\n",
       "100600.0          1\n",
       "Name: boxOffice, Length: 3816, dtype: int64"
      ]
     },
     "execution_count": 97,
     "metadata": {},
     "output_type": "execute_result"
    }
   ],
   "source": [
    "merged_test['boxOffice'].value_counts()"
   ]
  },
  {
   "cell_type": "markdown",
   "id": "74852aff",
   "metadata": {
    "papermill": {
     "duration": 0.130656,
     "end_time": "2023-08-26T04:42:29.044390",
     "exception": false,
     "start_time": "2023-08-26T04:42:28.913734",
     "status": "completed"
    },
    "tags": []
   },
   "source": [
    "## Work on vocabulary  \n",
    "\n",
    "`Build vocabulary from 'reviewText' column`  "
   ]
  },
  {
   "cell_type": "code",
   "execution_count": 98,
   "id": "3ecbb352",
   "metadata": {
    "execution": {
     "iopub.execute_input": "2023-08-26T04:42:29.304213Z",
     "iopub.status.busy": "2023-08-26T04:42:29.302737Z",
     "iopub.status.idle": "2023-08-26T04:42:29.328686Z",
     "shell.execute_reply": "2023-08-26T04:42:29.327053Z"
    },
    "papermill": {
     "duration": 0.155551,
     "end_time": "2023-08-26T04:42:29.331803",
     "exception": false,
     "start_time": "2023-08-26T04:42:29.176252",
     "status": "completed"
    },
    "tags": []
   },
   "outputs": [
    {
     "data": {
      "text/plain": [
       "((162758, 2),\n",
       "                                           reviewText sentiment\n",
       " 0  Henry Selick’s first movie since ’s Coraline. ...  POSITIVE\n",
       " 1  With a cast that reads like the Vogue Oscar pa...  NEGATIVE\n",
       " 2  Creed II does not give us anything but another...  POSITIVE\n",
       " 3  I know what you're thinking, but this is no Li...  POSITIVE\n",
       " 4  Director Fernando Meirelles tells the story wi...  POSITIVE)"
      ]
     },
     "execution_count": 98,
     "metadata": {},
     "output_type": "execute_result"
    }
   ],
   "source": [
    "rt_senti = merged[[\"reviewText\", \"sentiment\"]].copy()\n",
    "rt_senti.shape, rt_senti.head()"
   ]
  },
  {
   "cell_type": "code",
   "execution_count": 99,
   "id": "007c8e09",
   "metadata": {
    "execution": {
     "iopub.execute_input": "2023-08-26T04:42:29.578142Z",
     "iopub.status.busy": "2023-08-26T04:42:29.577251Z",
     "iopub.status.idle": "2023-08-26T04:42:29.592302Z",
     "shell.execute_reply": "2023-08-26T04:42:29.590876Z"
    },
    "papermill": {
     "duration": 0.141907,
     "end_time": "2023-08-26T04:42:29.594957",
     "exception": false,
     "start_time": "2023-08-26T04:42:29.453050",
     "status": "completed"
    },
    "tags": []
   },
   "outputs": [
    {
     "data": {
      "text/plain": [
       "((55315, 1),\n",
       "                                           reviewText\n",
       " 0  Green slowly cranks up the dread with style an...\n",
       " 1  Philip Noyce's direction is elegant and unforc...\n",
       " 2  It wouldn't do to say what path Maria ultimate...\n",
       " 3  Pig is not exactly the arthouse John Wick that...\n",
       " 4  An imaginative no-budget musical of sorts abou...)"
      ]
     },
     "execution_count": 99,
     "metadata": {},
     "output_type": "execute_result"
    }
   ],
   "source": [
    "rt_test = pd.DataFrame(merged_test[\"reviewText\"].copy())\n",
    "rt_test.shape, rt_test.head()"
   ]
  },
  {
   "cell_type": "code",
   "execution_count": 100,
   "id": "9d634ced",
   "metadata": {
    "execution": {
     "iopub.execute_input": "2023-08-26T04:42:29.846717Z",
     "iopub.status.busy": "2023-08-26T04:42:29.845901Z",
     "iopub.status.idle": "2023-08-26T04:42:29.851901Z",
     "shell.execute_reply": "2023-08-26T04:42:29.850793Z"
    },
    "papermill": {
     "duration": 0.137287,
     "end_time": "2023-08-26T04:42:29.854825",
     "exception": false,
     "start_time": "2023-08-26T04:42:29.717538",
     "status": "completed"
    },
    "tags": []
   },
   "outputs": [],
   "source": [
    "def get_vocab(text_df, ngram_range=(1,1)):\n",
    "#     print(f\"Generating vocabulary for ngram_range: {ngram_range}...\")\n",
    "    tvec1 = CountVectorizer(ngram_range=ngram_range, stop_words='english', strip_accents='unicode')\n",
    "    tvec1.fit(text_df)\n",
    "    voc_ngram = set(tvec1.vocabulary_.keys())\n",
    "    return voc_ngram"
   ]
  },
  {
   "cell_type": "code",
   "execution_count": 101,
   "id": "1be23815",
   "metadata": {
    "execution": {
     "iopub.execute_input": "2023-08-26T04:42:30.111230Z",
     "iopub.status.busy": "2023-08-26T04:42:30.110380Z",
     "iopub.status.idle": "2023-08-26T04:42:30.123313Z",
     "shell.execute_reply": "2023-08-26T04:42:30.122136Z"
    },
    "papermill": {
     "duration": 0.148982,
     "end_time": "2023-08-26T04:42:30.126548",
     "exception": false,
     "start_time": "2023-08-26T04:42:29.977566",
     "status": "completed"
    },
    "tags": []
   },
   "outputs": [],
   "source": [
    "def get_common_vocab(df_list: list, ngram_range_list: list):\n",
    "    \"\"\"\n",
    "    Get common vocabulary from a list of dataframes.\n",
    "    \"\"\"\n",
    "    final_common_vocab = set()\n",
    "    # Get vocabulary from each dataframe for a given ngram-range\n",
    "    for ngram_range in ngram_range_list:\n",
    "        vocab_ngram = set()\n",
    "        for num, df in enumerate(df_list, start=1):\n",
    "#             print(f\"Working on DF#{num} in the list of DFs provided\")\n",
    "            vocab_ngram_df = set(get_vocab(df['reviewText'], ngram_range))\n",
    "#             print(f\"Vocabulary size for ngram-range {ngram_range} in DF#{num}: {len(vocab_ngram_df)}\\n\")\n",
    "            if len(vocab_ngram) > 0:\n",
    "#                 print(f\"Keeping only the common (intersection) words for ngram-range {ngram_range}...\")\n",
    "                vocab_ngram = vocab_ngram.intersection(vocab_ngram_df)\n",
    "            else:\n",
    "#                 print(f\"Words from the first df for ngram-range {ngram_range} added.\\n\")\n",
    "                vocab_ngram = vocab_ngram_df\n",
    "        print(f\"Common vocabulary for ngram-range {ngram_range}: {len(vocab_ngram)}\\n\")\n",
    "        \n",
    "        if len(final_common_vocab) > 0:\n",
    "#             print(f\"Fusing (union) with final common vocabulary: ngram-range = {ngram_range}.\\n\")\n",
    "            final_common_vocab = final_common_vocab.union(vocab_ngram)\n",
    "        else:\n",
    "#             print(f\"Appended first time to final common vocabulary: ngram-range = {ngram_range}.\\n\")\n",
    "            final_common_vocab = vocab_ngram\n",
    "    print(f\"Size of the common vocabulary generated is: {len(final_common_vocab)}\")\n",
    "    return final_common_vocab"
   ]
  },
  {
   "cell_type": "code",
   "execution_count": 102,
   "id": "1a429613",
   "metadata": {
    "execution": {
     "iopub.execute_input": "2023-08-26T04:42:30.374707Z",
     "iopub.status.busy": "2023-08-26T04:42:30.374064Z",
     "iopub.status.idle": "2023-08-26T04:42:30.379515Z",
     "shell.execute_reply": "2023-08-26T04:42:30.378547Z"
    },
    "papermill": {
     "duration": 0.13139,
     "end_time": "2023-08-26T04:42:30.382160",
     "exception": false,
     "start_time": "2023-08-26T04:42:30.250770",
     "status": "completed"
    },
    "tags": []
   },
   "outputs": [],
   "source": [
    "# voc_1gram = get_vocab(rt_senti[\"reviewText\"], ngram_range=(1,1))\n",
    "# len(voc_1gram), voc_1gram[:10]"
   ]
  },
  {
   "cell_type": "code",
   "execution_count": 103,
   "id": "ec0e2eef",
   "metadata": {
    "execution": {
     "iopub.execute_input": "2023-08-26T04:42:30.637917Z",
     "iopub.status.busy": "2023-08-26T04:42:30.637175Z",
     "iopub.status.idle": "2023-08-26T04:42:30.642540Z",
     "shell.execute_reply": "2023-08-26T04:42:30.641308Z"
    },
    "papermill": {
     "duration": 0.139576,
     "end_time": "2023-08-26T04:42:30.646253",
     "exception": false,
     "start_time": "2023-08-26T04:42:30.506677",
     "status": "completed"
    },
    "tags": []
   },
   "outputs": [],
   "source": [
    "# voc_2gram = get_vocab(rt_senti[\"reviewText\"], ngram_range=(2,2))\n",
    "# len(voc_2gram), voc_2gram[:10]"
   ]
  },
  {
   "cell_type": "code",
   "execution_count": 104,
   "id": "6b7d25f8",
   "metadata": {
    "execution": {
     "iopub.execute_input": "2023-08-26T04:42:30.895858Z",
     "iopub.status.busy": "2023-08-26T04:42:30.895454Z",
     "iopub.status.idle": "2023-08-26T04:42:30.900884Z",
     "shell.execute_reply": "2023-08-26T04:42:30.899236Z"
    },
    "papermill": {
     "duration": 0.133794,
     "end_time": "2023-08-26T04:42:30.903573",
     "exception": false,
     "start_time": "2023-08-26T04:42:30.769779",
     "status": "completed"
    },
    "tags": []
   },
   "outputs": [],
   "source": [
    "# voc_3gram = get_vocab(rt_senti[\"reviewText\"], ngram_range=(3,3))\n",
    "# len(voc_3gram), voc_3gram[:10]"
   ]
  },
  {
   "cell_type": "code",
   "execution_count": 105,
   "id": "bbc85b3c",
   "metadata": {
    "execution": {
     "iopub.execute_input": "2023-08-26T04:42:31.167423Z",
     "iopub.status.busy": "2023-08-26T04:42:31.166185Z",
     "iopub.status.idle": "2023-08-26T04:42:31.175491Z",
     "shell.execute_reply": "2023-08-26T04:42:31.170988Z"
    },
    "papermill": {
     "duration": 0.146209,
     "end_time": "2023-08-26T04:42:31.179327",
     "exception": false,
     "start_time": "2023-08-26T04:42:31.033118",
     "status": "completed"
    },
    "tags": []
   },
   "outputs": [],
   "source": [
    "# common_unigrams = get_common_vocab([rt_senti, rt_test], ngram_range_list=[(1,1)])\n",
    "# print(len(common_unigrams))\n",
    "# # sorted(list(common_unigrams))"
   ]
  },
  {
   "cell_type": "code",
   "execution_count": 106,
   "id": "ab2dc813",
   "metadata": {
    "execution": {
     "iopub.execute_input": "2023-08-26T04:42:31.432783Z",
     "iopub.status.busy": "2023-08-26T04:42:31.431962Z",
     "iopub.status.idle": "2023-08-26T04:42:31.436702Z",
     "shell.execute_reply": "2023-08-26T04:42:31.435385Z"
    },
    "papermill": {
     "duration": 0.133471,
     "end_time": "2023-08-26T04:42:31.439886",
     "exception": false,
     "start_time": "2023-08-26T04:42:31.306415",
     "status": "completed"
    },
    "tags": []
   },
   "outputs": [],
   "source": [
    "# common_bigrams = get_common_vocab([rt_senti, rt_test], ngram_range_list=[(2,2)])\n",
    "# print(len(common_bigrams))\n",
    "# # # common_bigrams"
   ]
  },
  {
   "cell_type": "code",
   "execution_count": 107,
   "id": "fe011048",
   "metadata": {
    "execution": {
     "iopub.execute_input": "2023-08-26T04:42:31.692180Z",
     "iopub.status.busy": "2023-08-26T04:42:31.691508Z",
     "iopub.status.idle": "2023-08-26T04:42:31.695557Z",
     "shell.execute_reply": "2023-08-26T04:42:31.694717Z"
    },
    "papermill": {
     "duration": 0.135142,
     "end_time": "2023-08-26T04:42:31.698282",
     "exception": false,
     "start_time": "2023-08-26T04:42:31.563140",
     "status": "completed"
    },
    "tags": []
   },
   "outputs": [],
   "source": [
    "# common_1_2_grams = get_common_vocab([rt_senti, rt_test], ngram_range_list=[(1,1), (2,2)])\n",
    "# print(len(common_1_2_grams))\n",
    "# # sorted(list(common_1_2_grams))\n",
    "\n",
    "# # common_1_2_grams = common_unigrams | common_bigrams    # older code"
   ]
  },
  {
   "cell_type": "code",
   "execution_count": 108,
   "id": "27be2d8b",
   "metadata": {
    "execution": {
     "iopub.execute_input": "2023-08-26T04:42:31.949834Z",
     "iopub.status.busy": "2023-08-26T04:42:31.948993Z",
     "iopub.status.idle": "2023-08-26T04:42:31.953660Z",
     "shell.execute_reply": "2023-08-26T04:42:31.952704Z"
    },
    "papermill": {
     "duration": 0.133058,
     "end_time": "2023-08-26T04:42:31.956392",
     "exception": false,
     "start_time": "2023-08-26T04:42:31.823334",
     "status": "completed"
    },
    "tags": []
   },
   "outputs": [],
   "source": [
    "# common_trigrams = get_common_vocab([rt_senti, rt_test], ngram_range_list=[(3,3)])\n",
    "# print(len(common_trigrams))\n",
    "# # common_trigrams"
   ]
  },
  {
   "cell_type": "code",
   "execution_count": 109,
   "id": "d2b3019c",
   "metadata": {
    "execution": {
     "iopub.execute_input": "2023-08-26T04:42:32.319388Z",
     "iopub.status.busy": "2023-08-26T04:42:32.318637Z",
     "iopub.status.idle": "2023-08-26T04:42:32.323167Z",
     "shell.execute_reply": "2023-08-26T04:42:32.322022Z"
    },
    "papermill": {
     "duration": 0.132237,
     "end_time": "2023-08-26T04:42:32.326122",
     "exception": false,
     "start_time": "2023-08-26T04:42:32.193885",
     "status": "completed"
    },
    "tags": []
   },
   "outputs": [],
   "source": [
    "# common_1_2_3_grams = get_common_vocab([rt_senti, rt_test], ngram_range_list=[(1,1), (2,2), (3,3)])\n",
    "# print(len(common_1_2_3_grams))\n",
    "# # sorted((common_1_2_3_grams))\n",
    "\n",
    "# # common_1_2_3_grams = common_unigrams | common_bigrams | common_trigrams    # Older code  "
   ]
  },
  {
   "cell_type": "markdown",
   "id": "4c370da5",
   "metadata": {
    "papermill": {
     "duration": 0.138985,
     "end_time": "2023-08-26T04:42:32.591458",
     "exception": false,
     "start_time": "2023-08-26T04:42:32.452473",
     "status": "completed"
    },
    "tags": []
   },
   "source": [
    "### Find common vocabulary between text with positive and negative sentiments in training dataset  "
   ]
  },
  {
   "cell_type": "code",
   "execution_count": 110,
   "id": "ecc697d3",
   "metadata": {
    "execution": {
     "iopub.execute_input": "2023-08-26T04:42:32.860165Z",
     "iopub.status.busy": "2023-08-26T04:42:32.859206Z",
     "iopub.status.idle": "2023-08-26T04:42:32.913786Z",
     "shell.execute_reply": "2023-08-26T04:42:32.912113Z"
    },
    "papermill": {
     "duration": 0.183638,
     "end_time": "2023-08-26T04:42:32.916689",
     "exception": false,
     "start_time": "2023-08-26T04:42:32.733051",
     "status": "completed"
    },
    "tags": []
   },
   "outputs": [
    {
     "data": {
      "text/plain": [
       "(108761, 2)"
      ]
     },
     "execution_count": 110,
     "metadata": {},
     "output_type": "execute_result"
    }
   ],
   "source": [
    "# Dataframe for positive sentiment\n",
    "rt_senti_pos = rt_senti.loc[rt_senti['sentiment'] == 'POSITIVE'].copy()\n",
    "rt_senti_pos.shape"
   ]
  },
  {
   "cell_type": "code",
   "execution_count": 111,
   "id": "3ade0b80",
   "metadata": {
    "execution": {
     "iopub.execute_input": "2023-08-26T04:42:33.175086Z",
     "iopub.status.busy": "2023-08-26T04:42:33.173455Z",
     "iopub.status.idle": "2023-08-26T04:42:33.221569Z",
     "shell.execute_reply": "2023-08-26T04:42:33.220047Z"
    },
    "papermill": {
     "duration": 0.176131,
     "end_time": "2023-08-26T04:42:33.224802",
     "exception": false,
     "start_time": "2023-08-26T04:42:33.048671",
     "status": "completed"
    },
    "tags": []
   },
   "outputs": [
    {
     "data": {
      "text/plain": [
       "(53997, 2)"
      ]
     },
     "execution_count": 111,
     "metadata": {},
     "output_type": "execute_result"
    }
   ],
   "source": [
    "# Dataframe for negative sentiment\n",
    "rt_senti_neg = rt_senti.loc[rt_senti['sentiment'] == 'NEGATIVE'].copy()\n",
    "rt_senti_neg.shape"
   ]
  },
  {
   "cell_type": "code",
   "execution_count": 112,
   "id": "acc6b0ab",
   "metadata": {
    "execution": {
     "iopub.execute_input": "2023-08-26T04:42:33.467964Z",
     "iopub.status.busy": "2023-08-26T04:42:33.467455Z",
     "iopub.status.idle": "2023-08-26T04:42:33.473381Z",
     "shell.execute_reply": "2023-08-26T04:42:33.471818Z"
    },
    "papermill": {
     "duration": 0.130688,
     "end_time": "2023-08-26T04:42:33.476142",
     "exception": false,
     "start_time": "2023-08-26T04:42:33.345454",
     "status": "completed"
    },
    "tags": []
   },
   "outputs": [],
   "source": [
    "# Generate stop words/phrases specific for this project data  \n",
    "\n",
    "# common_1_2_3_grams_sentiment = get_common_vocab([rt_senti_pos, rt_senti_neg], ngram_range_list=[(1,1), (2,2), (3,3)])\n",
    "# print(len(common_1_2_3_grams_sentiment))\n",
    "# # sorted(list(common_1_2_3_grams_sentiment))"
   ]
  },
  {
   "cell_type": "code",
   "execution_count": 113,
   "id": "4e3f991e",
   "metadata": {
    "execution": {
     "iopub.execute_input": "2023-08-26T04:42:33.722783Z",
     "iopub.status.busy": "2023-08-26T04:42:33.722304Z",
     "iopub.status.idle": "2023-08-26T04:42:33.728604Z",
     "shell.execute_reply": "2023-08-26T04:42:33.726839Z"
    },
    "papermill": {
     "duration": 0.133839,
     "end_time": "2023-08-26T04:42:33.731878",
     "exception": false,
     "start_time": "2023-08-26T04:42:33.598039",
     "status": "completed"
    },
    "tags": []
   },
   "outputs": [],
   "source": [
    "# Generate and store the entire vocabulary of training data  \n",
    "\n",
    "# train_1_2_3_grams = get_vocab(rt_senti['reviewText'], ngram_range=(1,3))\n",
    "# print(len(train_1_2_3_grams))\n",
    "# # sorted(train_1_2_3_grams)"
   ]
  },
  {
   "cell_type": "code",
   "execution_count": 114,
   "id": "aa39dc9e",
   "metadata": {
    "execution": {
     "iopub.execute_input": "2023-08-26T04:42:33.982048Z",
     "iopub.status.busy": "2023-08-26T04:42:33.981166Z",
     "iopub.status.idle": "2023-08-26T04:42:33.987281Z",
     "shell.execute_reply": "2023-08-26T04:42:33.985991Z"
    },
    "papermill": {
     "duration": 0.136176,
     "end_time": "2023-08-26T04:42:33.990304",
     "exception": false,
     "start_time": "2023-08-26T04:42:33.854128",
     "status": "completed"
    },
    "tags": []
   },
   "outputs": [],
   "source": [
    "# type(train_1_2_3_grams)"
   ]
  },
  {
   "cell_type": "code",
   "execution_count": 115,
   "id": "6df728fa",
   "metadata": {
    "execution": {
     "iopub.execute_input": "2023-08-26T04:42:34.246520Z",
     "iopub.status.busy": "2023-08-26T04:42:34.246085Z",
     "iopub.status.idle": "2023-08-26T04:42:34.251413Z",
     "shell.execute_reply": "2023-08-26T04:42:34.250091Z"
    },
    "papermill": {
     "duration": 0.133661,
     "end_time": "2023-08-26T04:42:34.253966",
     "exception": false,
     "start_time": "2023-08-26T04:42:34.120305",
     "status": "completed"
    },
    "tags": []
   },
   "outputs": [],
   "source": [
    "# Get the vocabulary that should be used in the final models  \n",
    "# relevant_vocab = train_1_2_3_grams - common_1_2_3_grams_sentiment\n",
    "# print(len(relevant_vocab))"
   ]
  },
  {
   "cell_type": "markdown",
   "id": "57cf866b",
   "metadata": {
    "papermill": {
     "duration": 0.122336,
     "end_time": "2023-08-26T04:42:34.500507",
     "exception": false,
     "start_time": "2023-08-26T04:42:34.378171",
     "status": "completed"
    },
    "tags": []
   },
   "source": [
    "## Vocabulary based on audienceScore  "
   ]
  },
  {
   "cell_type": "code",
   "execution_count": 116,
   "id": "bf5b9822",
   "metadata": {
    "execution": {
     "iopub.execute_input": "2023-08-26T04:42:34.752705Z",
     "iopub.status.busy": "2023-08-26T04:42:34.752310Z",
     "iopub.status.idle": "2023-08-26T04:42:35.130158Z",
     "shell.execute_reply": "2023-08-26T04:42:35.128417Z"
    },
    "papermill": {
     "duration": 0.507954,
     "end_time": "2023-08-26T04:42:35.133181",
     "exception": false,
     "start_time": "2023-08-26T04:42:34.625227",
     "status": "completed"
    },
    "tags": []
   },
   "outputs": [
    {
     "data": {
      "text/plain": [
       "<Axes: xlabel='sentiment', ylabel='audienceScore'>"
      ]
     },
     "execution_count": 116,
     "metadata": {},
     "output_type": "execute_result"
    },
    {
     "data": {
      "image/png": "[encoded data removed]",
      "text/plain": [
       "<Figure size 640x480 with 1 Axes>"
      ]
     },
     "metadata": {},
     "output_type": "display_data"
    }
   ],
   "source": [
    "sns.boxplot(y=merged[\"audienceScore\"], x=merged[\"sentiment\"])"
   ]
  },
  {
   "cell_type": "code",
   "execution_count": 117,
   "id": "b5a05058",
   "metadata": {
    "execution": {
     "iopub.execute_input": "2023-08-26T04:42:35.386294Z",
     "iopub.status.busy": "2023-08-26T04:42:35.385767Z",
     "iopub.status.idle": "2023-08-26T04:42:35.445325Z",
     "shell.execute_reply": "2023-08-26T04:42:35.443972Z"
    },
    "papermill": {
     "duration": 0.188727,
     "end_time": "2023-08-26T04:42:35.448911",
     "exception": false,
     "start_time": "2023-08-26T04:42:35.260184",
     "status": "completed"
    },
    "tags": []
   },
   "outputs": [
    {
     "data": {
      "text/html": [
       "<div>\n",
       "<style scoped>\n",
       "    .dataframe tbody tr th:only-of-type {\n",
       "        vertical-align: middle;\n",
       "    }\n",
       "\n",
       "    .dataframe tbody tr th {\n",
       "        vertical-align: top;\n",
       "    }\n",
       "\n",
       "    .dataframe thead th {\n",
       "        text-align: right;\n",
       "    }\n",
       "</style>\n",
       "<table border=\"1\" class=\"dataframe\">\n",
       "  <thead>\n",
       "    <tr style=\"text-align: right;\">\n",
       "      <th></th>\n",
       "      <th>count</th>\n",
       "      <th>mean</th>\n",
       "      <th>std</th>\n",
       "      <th>min</th>\n",
       "      <th>25%</th>\n",
       "      <th>50%</th>\n",
       "      <th>75%</th>\n",
       "      <th>max</th>\n",
       "    </tr>\n",
       "    <tr>\n",
       "      <th>sentiment</th>\n",
       "      <th></th>\n",
       "      <th></th>\n",
       "      <th></th>\n",
       "      <th></th>\n",
       "      <th></th>\n",
       "      <th></th>\n",
       "      <th></th>\n",
       "      <th></th>\n",
       "    </tr>\n",
       "  </thead>\n",
       "  <tbody>\n",
       "    <tr>\n",
       "      <th>NEGATIVE</th>\n",
       "      <td>53997.0</td>\n",
       "      <td>56.474786</td>\n",
       "      <td>19.902115</td>\n",
       "      <td>0.0</td>\n",
       "      <td>41.0</td>\n",
       "      <td>57.0</td>\n",
       "      <td>72.0</td>\n",
       "      <td>100.0</td>\n",
       "    </tr>\n",
       "    <tr>\n",
       "      <th>POSITIVE</th>\n",
       "      <td>108761.0</td>\n",
       "      <td>69.326174</td>\n",
       "      <td>18.380626</td>\n",
       "      <td>0.0</td>\n",
       "      <td>58.0</td>\n",
       "      <td>73.0</td>\n",
       "      <td>84.0</td>\n",
       "      <td>100.0</td>\n",
       "    </tr>\n",
       "  </tbody>\n",
       "</table>\n",
       "</div>"
      ],
      "text/plain": [
       "              count       mean        std  min   25%   50%   75%    max\n",
       "sentiment                                                              \n",
       "NEGATIVE    53997.0  56.474786  19.902115  0.0  41.0  57.0  72.0  100.0\n",
       "POSITIVE   108761.0  69.326174  18.380626  0.0  58.0  73.0  84.0  100.0"
      ]
     },
     "execution_count": 117,
     "metadata": {},
     "output_type": "execute_result"
    }
   ],
   "source": [
    "merged.groupby('sentiment')['audienceScore'].describe()"
   ]
  },
  {
   "cell_type": "code",
   "execution_count": 118,
   "id": "be0feeea",
   "metadata": {
    "execution": {
     "iopub.execute_input": "2023-08-26T04:42:35.707046Z",
     "iopub.status.busy": "2023-08-26T04:42:35.705559Z",
     "iopub.status.idle": "2023-08-26T04:42:35.712192Z",
     "shell.execute_reply": "2023-08-26T04:42:35.710474Z"
    },
    "papermill": {
     "duration": 0.141958,
     "end_time": "2023-08-26T04:42:35.715105",
     "exception": false,
     "start_time": "2023-08-26T04:42:35.573147",
     "status": "completed"
    },
    "tags": []
   },
   "outputs": [],
   "source": [
    "# pos_scores = merged[['reviewText', 'sentiment']].loc[(merged['audienceScore'] > 73) & (merged['sentiment'] == 'POSITIVE')].copy()\n",
    "# pos_scores.shape, pos_scores.head()"
   ]
  },
  {
   "cell_type": "code",
   "execution_count": 119,
   "id": "d8a81dfb",
   "metadata": {
    "execution": {
     "iopub.execute_input": "2023-08-26T04:42:35.964453Z",
     "iopub.status.busy": "2023-08-26T04:42:35.963620Z",
     "iopub.status.idle": "2023-08-26T04:42:35.968692Z",
     "shell.execute_reply": "2023-08-26T04:42:35.967505Z"
    },
    "papermill": {
     "duration": 0.137231,
     "end_time": "2023-08-26T04:42:35.972274",
     "exception": false,
     "start_time": "2023-08-26T04:42:35.835043",
     "status": "completed"
    },
    "tags": []
   },
   "outputs": [],
   "source": [
    "# pos_scores['sentiment'].value_counts()"
   ]
  },
  {
   "cell_type": "code",
   "execution_count": 120,
   "id": "92ec92f1",
   "metadata": {
    "execution": {
     "iopub.execute_input": "2023-08-26T04:42:36.234091Z",
     "iopub.status.busy": "2023-08-26T04:42:36.233623Z",
     "iopub.status.idle": "2023-08-26T04:42:36.239601Z",
     "shell.execute_reply": "2023-08-26T04:42:36.237619Z"
    },
    "papermill": {
     "duration": 0.137779,
     "end_time": "2023-08-26T04:42:36.243261",
     "exception": false,
     "start_time": "2023-08-26T04:42:36.105482",
     "status": "completed"
    },
    "tags": []
   },
   "outputs": [],
   "source": [
    "# neg_scores = merged[['reviewText', 'sentiment']].loc[(merged['audienceScore'] < 57) & (merged['sentiment'] == 'NEGATIVE')].copy()\n",
    "# neg_scores.shape, neg_scores.head()"
   ]
  },
  {
   "cell_type": "code",
   "execution_count": 121,
   "id": "64a3517b",
   "metadata": {
    "execution": {
     "iopub.execute_input": "2023-08-26T04:42:36.497924Z",
     "iopub.status.busy": "2023-08-26T04:42:36.497157Z",
     "iopub.status.idle": "2023-08-26T04:42:36.501604Z",
     "shell.execute_reply": "2023-08-26T04:42:36.500475Z"
    },
    "papermill": {
     "duration": 0.133342,
     "end_time": "2023-08-26T04:42:36.504472",
     "exception": false,
     "start_time": "2023-08-26T04:42:36.371130",
     "status": "completed"
    },
    "tags": []
   },
   "outputs": [],
   "source": [
    "# neg_scores['sentiment'].value_counts()"
   ]
  },
  {
   "cell_type": "code",
   "execution_count": 122,
   "id": "ac57d614",
   "metadata": {
    "execution": {
     "iopub.execute_input": "2023-08-26T04:42:36.761728Z",
     "iopub.status.busy": "2023-08-26T04:42:36.761306Z",
     "iopub.status.idle": "2023-08-26T04:42:36.766169Z",
     "shell.execute_reply": "2023-08-26T04:42:36.764957Z"
    },
    "papermill": {
     "duration": 0.136854,
     "end_time": "2023-08-26T04:42:36.768724",
     "exception": false,
     "start_time": "2023-08-26T04:42:36.631870",
     "status": "completed"
    },
    "tags": []
   },
   "outputs": [],
   "source": [
    "# common_pos_neg_scores = get_common_vocab([pos_scores, neg_scores], ngram_range_list=[(1,1), (2,2), (3,3)])\n",
    "# print(len(common_pos_neg_scores))\n",
    "# # sorted(list(common_pos_neg_scores))"
   ]
  },
  {
   "cell_type": "code",
   "execution_count": 123,
   "id": "a2a042f6",
   "metadata": {
    "execution": {
     "iopub.execute_input": "2023-08-26T04:42:37.028781Z",
     "iopub.status.busy": "2023-08-26T04:42:37.027882Z",
     "iopub.status.idle": "2023-08-26T04:42:37.033830Z",
     "shell.execute_reply": "2023-08-26T04:42:37.032376Z"
    },
    "papermill": {
     "duration": 0.140697,
     "end_time": "2023-08-26T04:42:37.036912",
     "exception": false,
     "start_time": "2023-08-26T04:42:36.896215",
     "status": "completed"
    },
    "tags": []
   },
   "outputs": [],
   "source": [
    "# pos_vocab = get_common_vocab([pos_scores, pos_scores], ngram_range_list=[(1,1), (2,2), (3,3)])\n",
    "# print(len(pos_vocab))\n",
    "# # sorted(list(pos_vocab))"
   ]
  },
  {
   "cell_type": "code",
   "execution_count": 124,
   "id": "d0fd2dc8",
   "metadata": {
    "execution": {
     "iopub.execute_input": "2023-08-26T04:42:37.292754Z",
     "iopub.status.busy": "2023-08-26T04:42:37.291987Z",
     "iopub.status.idle": "2023-08-26T04:42:37.296482Z",
     "shell.execute_reply": "2023-08-26T04:42:37.295283Z"
    },
    "papermill": {
     "duration": 0.13241,
     "end_time": "2023-08-26T04:42:37.299178",
     "exception": false,
     "start_time": "2023-08-26T04:42:37.166768",
     "status": "completed"
    },
    "tags": []
   },
   "outputs": [],
   "source": [
    "# print(len(get_vocab(pos_scores['reviewText'], ngram_range=(1,1))))\n",
    "# print(len(get_vocab(pos_scores['reviewText'], ngram_range=(2,2))))\n",
    "# print(len(get_vocab(pos_scores['reviewText'], ngram_range=(3,3))))"
   ]
  },
  {
   "cell_type": "code",
   "execution_count": 125,
   "id": "6157a177",
   "metadata": {
    "execution": {
     "iopub.execute_input": "2023-08-26T04:42:37.548511Z",
     "iopub.status.busy": "2023-08-26T04:42:37.547404Z",
     "iopub.status.idle": "2023-08-26T04:42:37.552846Z",
     "shell.execute_reply": "2023-08-26T04:42:37.551835Z"
    },
    "papermill": {
     "duration": 0.13312,
     "end_time": "2023-08-26T04:42:37.555525",
     "exception": false,
     "start_time": "2023-08-26T04:42:37.422405",
     "status": "completed"
    },
    "tags": []
   },
   "outputs": [],
   "source": [
    "# neg_vocab = get_common_vocab([neg_scores, neg_scores], ngram_range_list=[(1,1), (2,2), (3,3)])\n",
    "# print(len(neg_vocab))\n",
    "# # sorted(list(neg_vocab))"
   ]
  },
  {
   "cell_type": "code",
   "execution_count": 126,
   "id": "95e2e1a1",
   "metadata": {
    "execution": {
     "iopub.execute_input": "2023-08-26T04:42:37.916289Z",
     "iopub.status.busy": "2023-08-26T04:42:37.915788Z",
     "iopub.status.idle": "2023-08-26T04:42:37.921336Z",
     "shell.execute_reply": "2023-08-26T04:42:37.919888Z"
    },
    "papermill": {
     "duration": 0.135035,
     "end_time": "2023-08-26T04:42:37.923767",
     "exception": false,
     "start_time": "2023-08-26T04:42:37.788732",
     "status": "completed"
    },
    "tags": []
   },
   "outputs": [],
   "source": [
    "# print(len(get_vocab(neg_scores['reviewText'], ngram_range=(1,1))))\n",
    "# print(len(get_vocab(neg_scores['reviewText'], ngram_range=(2,2))))\n",
    "# print(len(get_vocab(neg_scores['reviewText'], ngram_range=(3,3))))"
   ]
  },
  {
   "cell_type": "code",
   "execution_count": 127,
   "id": "172ab9d0",
   "metadata": {
    "execution": {
     "iopub.execute_input": "2023-08-26T04:42:38.185147Z",
     "iopub.status.busy": "2023-08-26T04:42:38.184091Z",
     "iopub.status.idle": "2023-08-26T04:42:38.190226Z",
     "shell.execute_reply": "2023-08-26T04:42:38.188691Z"
    },
    "papermill": {
     "duration": 0.138247,
     "end_time": "2023-08-26T04:42:38.192691",
     "exception": false,
     "start_time": "2023-08-26T04:42:38.054444",
     "status": "completed"
    },
    "tags": []
   },
   "outputs": [],
   "source": [
    "# len(pos_vocab), len(neg_vocab), len(pos_vocab - neg_vocab), len(neg_vocab - pos_vocab), len(pos_vocab & neg_vocab)"
   ]
  },
  {
   "cell_type": "markdown",
   "id": "44dd7680",
   "metadata": {
    "papermill": {
     "duration": 0.127427,
     "end_time": "2023-08-26T04:42:38.447688",
     "exception": false,
     "start_time": "2023-08-26T04:42:38.320261",
     "status": "completed"
    },
    "tags": []
   },
   "source": [
    "### Common pos, neg vocabs among train and test  "
   ]
  },
  {
   "cell_type": "code",
   "execution_count": 128,
   "id": "f0472f60",
   "metadata": {
    "execution": {
     "iopub.execute_input": "2023-08-26T04:42:38.699687Z",
     "iopub.status.busy": "2023-08-26T04:42:38.699033Z",
     "iopub.status.idle": "2023-08-26T04:42:38.704209Z",
     "shell.execute_reply": "2023-08-26T04:42:38.703143Z"
    },
    "papermill": {
     "duration": 0.133633,
     "end_time": "2023-08-26T04:42:38.706449",
     "exception": false,
     "start_time": "2023-08-26T04:42:38.572816",
     "status": "completed"
    },
    "tags": []
   },
   "outputs": [],
   "source": [
    "# len(common_1_2_3_grams & (pos_vocab - neg_vocab))"
   ]
  },
  {
   "cell_type": "code",
   "execution_count": 129,
   "id": "5275a0e9",
   "metadata": {
    "execution": {
     "iopub.execute_input": "2023-08-26T04:42:38.957395Z",
     "iopub.status.busy": "2023-08-26T04:42:38.956513Z",
     "iopub.status.idle": "2023-08-26T04:42:38.961219Z",
     "shell.execute_reply": "2023-08-26T04:42:38.960214Z"
    },
    "papermill": {
     "duration": 0.131465,
     "end_time": "2023-08-26T04:42:38.963777",
     "exception": false,
     "start_time": "2023-08-26T04:42:38.832312",
     "status": "completed"
    },
    "tags": []
   },
   "outputs": [],
   "source": [
    "# len(common_1_2_3_grams & (neg_vocab - pos_vocab))"
   ]
  },
  {
   "cell_type": "code",
   "execution_count": 130,
   "id": "041e973e",
   "metadata": {
    "execution": {
     "iopub.execute_input": "2023-08-26T04:42:39.228086Z",
     "iopub.status.busy": "2023-08-26T04:42:39.227325Z",
     "iopub.status.idle": "2023-08-26T04:42:39.237621Z",
     "shell.execute_reply": "2023-08-26T04:42:39.236479Z"
    },
    "papermill": {
     "duration": 0.145606,
     "end_time": "2023-08-26T04:42:39.240975",
     "exception": false,
     "start_time": "2023-08-26T04:42:39.095369",
     "status": "completed"
    },
    "tags": []
   },
   "outputs": [],
   "source": [
    "def audienceScore_vocab(df_list, scores=(57, 73), ngram_range_list=[(1,1), (2,2), (3,3)]):\n",
    "    train = df_list[0]\n",
    "    test = df_list[1]\n",
    "\n",
    "    lower_bound = scores[0]\n",
    "    upper_bound = scores[1]\n",
    "\n",
    "    common_ngrams = get_common_vocab([train, test], ngram_range_list=ngram_range_list)\n",
    "\n",
    "    pos_scores = train[['reviewText', 'sentiment']].loc[(train['audienceScore'] > upper_bound) & (train['sentiment'] == 'POSITIVE')].copy()\n",
    "    neg_scores = train[['reviewText', 'sentiment']].loc[(train['audienceScore'] < lower_bound) & (train['sentiment'] == 'NEGATIVE')].copy()\n",
    "\n",
    "    pos_vocab = get_common_vocab([pos_scores, pos_scores], ngram_range_list=ngram_range_list)\n",
    "    neg_vocab = get_common_vocab([neg_scores, neg_scores], ngram_range_list=ngram_range_list)\n",
    "\n",
    "    pure_common_pos = common_ngrams & (pos_vocab - neg_vocab)\n",
    "    pure_common_neg = common_ngrams & (neg_vocab - pos_vocab)\n",
    "\n",
    "    return pure_common_pos, pure_common_neg"
   ]
  },
  {
   "cell_type": "code",
   "execution_count": 131,
   "id": "d10efb6d",
   "metadata": {
    "execution": {
     "iopub.execute_input": "2023-08-26T04:42:39.498205Z",
     "iopub.status.busy": "2023-08-26T04:42:39.497601Z",
     "iopub.status.idle": "2023-08-26T04:42:39.502487Z",
     "shell.execute_reply": "2023-08-26T04:42:39.501517Z"
    },
    "papermill": {
     "duration": 0.138231,
     "end_time": "2023-08-26T04:42:39.505121",
     "exception": false,
     "start_time": "2023-08-26T04:42:39.366890",
     "status": "completed"
    },
    "tags": []
   },
   "outputs": [],
   "source": [
    "# pcp, pcn = audienceScore_vocab([merged, merged_test])\n",
    "# len(pcp), len(pcn)"
   ]
  },
  {
   "cell_type": "code",
   "execution_count": 132,
   "id": "efbd7777",
   "metadata": {
    "execution": {
     "iopub.execute_input": "2023-08-26T04:42:39.760611Z",
     "iopub.status.busy": "2023-08-26T04:42:39.760162Z",
     "iopub.status.idle": "2023-08-26T04:42:39.765756Z",
     "shell.execute_reply": "2023-08-26T04:42:39.764288Z"
    },
    "papermill": {
     "duration": 0.135771,
     "end_time": "2023-08-26T04:42:39.768282",
     "exception": false,
     "start_time": "2023-08-26T04:42:39.632511",
     "status": "completed"
    },
    "tags": []
   },
   "outputs": [],
   "source": [
    "# pc = pcp | pcn\n",
    "# sorted(list(pc))"
   ]
  },
  {
   "cell_type": "markdown",
   "id": "9c038176",
   "metadata": {
    "papermill": {
     "duration": 0.131565,
     "end_time": "2023-08-26T04:42:40.027641",
     "exception": false,
     "start_time": "2023-08-26T04:42:39.896076",
     "status": "completed"
    },
    "tags": []
   },
   "source": [
    "# Submit_v5 for merged file models  "
   ]
  },
  {
   "cell_type": "markdown",
   "id": "ba133acc",
   "metadata": {
    "papermill": {
     "duration": 0.125313,
     "end_time": "2023-08-26T04:42:40.279025",
     "exception": false,
     "start_time": "2023-08-26T04:42:40.153712",
     "status": "completed"
    },
    "tags": []
   },
   "source": [
    "### More Helper functions  "
   ]
  },
  {
   "cell_type": "code",
   "execution_count": 133,
   "id": "31cc2422",
   "metadata": {
    "execution": {
     "iopub.execute_input": "2023-08-26T04:42:40.532726Z",
     "iopub.status.busy": "2023-08-26T04:42:40.532295Z",
     "iopub.status.idle": "2023-08-26T04:42:40.541126Z",
     "shell.execute_reply": "2023-08-26T04:42:40.540194Z"
    },
    "papermill": {
     "duration": 0.140096,
     "end_time": "2023-08-26T04:42:40.543610",
     "exception": false,
     "start_time": "2023-08-26T04:42:40.403514",
     "status": "completed"
    },
    "tags": []
   },
   "outputs": [],
   "source": [
    "# Testing predictions on missing reviewtext columns  \n",
    "\n",
    "def predict_on_missing_review_data(pipe, selected_features, merged_train):\n",
    "    missing_reviews_train = merged_train.loc[merged_train['reviewYN'] == 1]\n",
    "    missing_reviews_train.reset_index(drop=True)\n",
    "    X_train_miss_revs = missing_reviews_train.drop('sentiment', axis = 1)\n",
    "    X_train_miss_revs = X_train_miss_revs[selected_features]\n",
    "    y_train_miss_revs = missing_reviews_train['sentiment']\n",
    "    \n",
    "    y_pred_miss_revs = pipe.predict(X_train_miss_revs)\n",
    "#     print('Predictions on rows which had missing reviewText')\n",
    "    print(\"Confusion matrix and f1-score for rows which have no reviewText in X_train: \")\n",
    "    print(confusion_matrix(y_train_miss_revs, y_pred_miss_revs, labels=pipe.classes_))\n",
    "    \n",
    "    return f1_score(y_train_miss_revs, y_pred_miss_revs, average='micro')"
   ]
  },
  {
   "cell_type": "code",
   "execution_count": 134,
   "id": "0bd6f157",
   "metadata": {
    "execution": {
     "iopub.execute_input": "2023-08-26T04:42:40.798504Z",
     "iopub.status.busy": "2023-08-26T04:42:40.797633Z",
     "iopub.status.idle": "2023-08-26T04:42:40.837180Z",
     "shell.execute_reply": "2023-08-26T04:42:40.835688Z"
    },
    "papermill": {
     "duration": 0.170983,
     "end_time": "2023-08-26T04:42:40.840458",
     "exception": false,
     "start_time": "2023-08-26T04:42:40.669475",
     "status": "completed"
    },
    "tags": []
   },
   "outputs": [],
   "source": [
    "# Function to build pipelines for GridSearchCV which goes into the final 'submit' function  \n",
    "def build_pipeline(selected_model=LogisticRegression(), \n",
    "                   selected_features={'txt': ['reviewText']}, \n",
    "                   param_grid=None,\n",
    "                   vocab=None,\n",
    "                   vocab_usage='tfidf',\n",
    "                   strip_accents='unicode', \n",
    "                   add_countvec=False,\n",
    "                   vocab_audscore=None,\n",
    "                  poly=True):\n",
    "    # Encoders  \n",
    "    ohe = OneHotEncoder(sparse_output=False, handle_unknown='ignore')\n",
    "    MMscaler = MinMaxScaler()\n",
    "    StdScaler = StandardScaler()\n",
    "    RobScaler = RobustScaler()\n",
    "    \n",
    "    # Categorical features\n",
    "    cat_pipe = Pipeline(steps=[\n",
    "                            (\"ohe\", ohe),\n",
    "                        ])\n",
    "    \n",
    "    # Numerical features\n",
    "    num_pipe = Pipeline(steps=[\n",
    "                            (\"robscaler\", RobustScaler()),\n",
    "                            (\"stdscaler\", StandardScaler())\n",
    "                        ])\n",
    "    num_pipe_poly = Pipeline(steps=[\n",
    "                            (\"robscaler\", RobustScaler()),\n",
    "                            (\"stdscaler\", StandardScaler()),\n",
    "                            (\"poly\", PolynomialFeatures(degree=2, interaction_only=True, include_bias=False))\n",
    "                        ])\n",
    "    \n",
    "    # Text features ['reviewText', 'reviewerName', 'movieid', 'genre', 'director']\n",
    "    tfidf_vec = TfidfVectorizer(ngram_range=(1,2))\n",
    "    count_vec = CountVectorizer(ngram_range=(1,2))\n",
    "    txt_pipe = Pipeline(steps=[\n",
    "                            (\"tvec\", TfidfVectorizer(ngram_range=(1,4), strip_accents=strip_accents))    # Adjust ngram_range here for reviewText\n",
    "                        ])\n",
    "    txt_pipe_vocab = Pipeline(steps=[\n",
    "                            (\"tvec\", TfidfVectorizer(ngram_range=(1,4), strip_accents=strip_accents, vocabulary=vocab))    # Adjust ngram_range here for reviewText\n",
    "                        ])\n",
    "    txt_pipe_2 = Pipeline(steps=[\n",
    "                            (\"tvec\", TfidfVectorizer(ngram_range=(2,2)))\n",
    "                        ])\n",
    "    txt_pipe_3 = Pipeline(steps=[\n",
    "                            (\"tvec\", TfidfVectorizer(ngram_range=(1,1)))\n",
    "                        ])\n",
    "    txt_pipe_4 = Pipeline(steps=[\n",
    "                            (\"tvec\", TfidfVectorizer(ngram_range=(1,3)))    # Adjust ngram_range here for reviewText\n",
    "                        ])\n",
    "    txt_pipe_title  = Pipeline(steps=[\n",
    "                            (\"tvec\", TfidfVectorizer(ngram_range=(1,5)))    # Adjust ngram_range here for reviewText\n",
    "                        ])\n",
    "    \n",
    "    # Additional pipes for count vectorizer\n",
    "    txt_pipe_countvec = Pipeline(steps=[\n",
    "                            (\"cvec\", CountVectorizer(ngram_range=(1,4), strip_accents=strip_accents))    # Adjust ngram_range here for reviewText\n",
    "                        ])\n",
    "    txt_pipe_countvec_vocab = Pipeline(steps=[\n",
    "                            (\"cvec\", CountVectorizer(ngram_range=(1,4), strip_accents=strip_accents, vocabulary=vocab))    # Adjust ngram_range here for reviewText\n",
    "                        ])\n",
    "    txt_pipe_countvec_vocab_audscore = Pipeline(steps=[\n",
    "                            (\"cvec\", CountVectorizer(ngram_range=(1,4), strip_accents=strip_accents, vocabulary=vocab_audscore))    # Adjust ngram_range here for reviewText\n",
    "                        ])\n",
    "    \n",
    "    txt_pipe_countvec_ratingContents = Pipeline(steps=[\n",
    "                            (\"cvec\", CountVectorizer(ngram_range=(1,5)))    # Adjust ngram_range here for reviewText\n",
    "                        ])\n",
    "    txt_pipe_countvec_rcSorted = Pipeline(steps=[\n",
    "                            (\"cvec\", CountVectorizer(ngram_range=(1,1)))    # Adjust ngram_range here for reviewText\n",
    "                        ])\n",
    "    txt_pipe_countvec_genre = Pipeline(steps=[\n",
    "                            (\"cvec\", CountVectorizer(ngram_range=(1,1)))\n",
    "                        ])\n",
    "    txt_pipe_countvec_genreSorted = Pipeline(steps=[\n",
    "                            (\"cvec\", CountVectorizer(ngram_range=(1,5)))\n",
    "                        ])\n",
    "    txt_pipe_countvec_distributor = Pipeline(steps=[\n",
    "                            (\"cvec\", CountVectorizer(ngram_range=(1,3)))    # Adjust ngram_range here for reviewText\n",
    "                        ])\n",
    "    txt_pipe_countvec_title = Pipeline(steps=[\n",
    "                            (\"cvec\", CountVectorizer(ngram_range=(1,5), strip_accents=strip_accents))\n",
    "                        ])\n",
    "    txt_pipe_countvec_movieid = Pipeline(steps=[\n",
    "                            (\"cvec\", CountVectorizer(ngram_range=(1,1)))\n",
    "                        ])\n",
    "    # Basic pipes  \n",
    "    TFs = []\n",
    "    try:\n",
    "        TFs.append((f\"cat\", ohe, selected_features['cat']))\n",
    "#         for c in selected_features['cat']:\n",
    "#             TFs.append((f\"cat_{c}\", ohe, [c]))\n",
    "    except:\n",
    "        pass\n",
    "    \n",
    "    try:\n",
    "        if poly:\n",
    "            TFs.append((f\"num\", num_pipe_poly, selected_features['num']))\n",
    "        else:\n",
    "            TFs.append((f\"num\", num_pipe, selected_features['num']))\n",
    "#             for n in selected_features['num']:\n",
    "#                 if n in [\"runtimeMinutes\", \"boxOffice\", \"releaseDiff\"]:\n",
    "#                     TFs.append((f\"num_{n}\", RobScaler, [n]))\n",
    "#                     TFs.append((f\"num_{n}_ss\", StdScaler, [n]))\n",
    "\n",
    "#                 else:\n",
    "#                     TFs.append((f\"num_{n}\", StdScaler, [n]))\n",
    "    except:\n",
    "        pass\n",
    "    \n",
    "    try:\n",
    "        for t in selected_features['txt']:\n",
    "            if t in ['director', 'reviewerName']:\n",
    "                TFs.append((f\"txt_{t}\", txt_pipe_2, t))\n",
    "            elif t in [\"originalLanguage\", \"releaseYear\"]:\n",
    "                TFs.append((f\"txt_{t}\", txt_pipe_3, t))\n",
    "            elif t in ['genre']:\n",
    "                TFs.append((f\"txt_{t}\", txt_pipe_countvec_genre, t))\n",
    "            elif t in [\"genreSorted\"]:\n",
    "                TFs.append((f\"txt_{t}\", txt_pipe_countvec_genreSorted, t))\n",
    "            elif t in [\"distributor\"]:\n",
    "                TFs.append((f\"txt_{t}\", txt_pipe_countvec_distributor, t))\n",
    "                \n",
    "            elif t in ['reviewText']:\n",
    "#                 if vocab and (vocab_usage in [\"tfidf\", \"both\"]):\n",
    "#                     txt_pipe.set_params(tvec__vocabulary=vocab)\n",
    "#                     txt_pipe.set_params(tvec__stop_words='english')\n",
    "                TFs.append((f\"txt_{t}\", txt_pipe, t))\n",
    "            elif t in ['reviewText_2']:\n",
    "                if add_countvec:\n",
    "#                     if vocab and (vocab_usage in [\"count\", \"both\"]):\n",
    "#                         txt_pipe_countvec.set_params(cvec__vocabulary=vocab)\n",
    "#                         txt_pipe_countvec.set_params(cvec__stop_words='english')\n",
    "                    TFs.append((f\"txt_{t}\", txt_pipe_countvec, t))\n",
    "            elif t in ['reviewText_3']:\n",
    "                if vocab_usage == 'tfidf':\n",
    "                    TFs.append((f\"txt_{t}\", txt_pipe_vocab, t))\n",
    "                elif vocab_usage == 'count':\n",
    "                    TFs.append((f\"txt_{t}\", txt_pipe_countvec_vocab, t))\n",
    "            elif t in ['reviewText_4']:\n",
    "                if vocab_audscore:                    \n",
    "                    TFs.append((f\"txt_{t}\", txt_pipe_countvec_vocab_audscore, t))\n",
    "                    \n",
    "            elif t in [\"ratingContents\"]:\n",
    "                TFs.append((f\"txt_{t}\", txt_pipe_countvec_ratingContents, t))\n",
    "            elif t in [\"rcSorted\"]:\n",
    "                TFs.append((f\"txt_{t}\", txt_pipe_countvec_rcSorted, t))\n",
    "            elif t in [\"title\"]:\n",
    "                TFs.append((f\"txt_{t}\", txt_pipe_title, t))\n",
    "            elif t in [\"movieid\"]:\n",
    "                TFs.append((f\"txt_{t}\", txt_pipe_countvec_movieid, t))\n",
    "            else:\n",
    "                pass\n",
    "    except:\n",
    "        pass\n",
    "\n",
    "    # Build ColumnTransformer  \n",
    "    ct = ColumnTransformer(transformers=TFs, remainder='drop')\n",
    "\n",
    "    # Build Pipeline\n",
    "    pipe = Pipeline(steps=[('ct', ct), ('model', selected_model)])\n",
    "    print(\"\\nPipeline built successfully.\")\n",
    "\n",
    "    # Use the pipe in GridSearchCV\n",
    "    if param_grid == None:\n",
    "        param_grid_temp = {\"model__C\": [1],\n",
    "                     'model__solver': ['liblinear']}\n",
    "        print(\"Full GridSearchCV pipeline built successfully with basic default param_grid.\\n\")\n",
    "        pipeCV = GridSearchCV(pipe, param_grid_temp, cv=10, scoring=\"f1_micro\", n_jobs=-1)\n",
    "        return pipeCV\n",
    "    \n",
    "    # GridSearchCV if param_grid provided\n",
    "    if param_grid:\n",
    "        pipeCV = GridSearchCV(pipe, param_grid, cv=10, scoring=\"f1_micro\", n_jobs=-1)\n",
    "        print(\"\\nFull GridSearchCV pipeline built successfully.\")\n",
    "        return pipeCV"
   ]
  },
  {
   "cell_type": "code",
   "execution_count": 135,
   "id": "b3fbfec0",
   "metadata": {
    "execution": {
     "iopub.execute_input": "2023-08-26T04:42:41.104777Z",
     "iopub.status.busy": "2023-08-26T04:42:41.104328Z",
     "iopub.status.idle": "2023-08-26T04:42:41.122860Z",
     "shell.execute_reply": "2023-08-26T04:42:41.121521Z"
    },
    "papermill": {
     "duration": 0.157983,
     "end_time": "2023-08-26T04:42:41.126103",
     "exception": false,
     "start_time": "2023-08-26T04:42:40.968120",
     "status": "completed"
    },
    "tags": []
   },
   "outputs": [],
   "source": [
    "def preprocessor(imputer_type='simple'):\n",
    "    \n",
    "    \"\"\"Preprocess train or test data. Choose 'simple' or 'knn' imputers to impute missing numerical values\"\"\"\n",
    "    \n",
    "    # Set imputer  \n",
    "    if imputer_type == 'simple':\n",
    "        imputer = SimpleImputer(strategy='median')\n",
    "        print(imputer)\n",
    "    elif imputer_type == 'knn':\n",
    "        imputer = KNNImputer(weights='distance', n_neighbors=3)    # Adjust KNNImputer params here\n",
    "        print(imputer)\n",
    "\n",
    "\n",
    "    \n",
    "    # Merge and preprocess train and movies data  \n",
    "    merged = select_features(load_csv(\"train\"), load_csv(\"movies\"), row_thresh_null=None)    # Decide if you want to drop any rows containing lot of nulls\n",
    "    \n",
    "    # Impute missing numerical values  \n",
    "    merged[['audienceScore', 'runtimeMinutes', 'boxOffice']] = imputer.fit_transform(merged[['audienceScore', 'runtimeMinutes', 'boxOffice']])\n",
    "    merged['releaseDate'] = merged[\"releaseDate\"].fillna(merged[\"releaseDate\"].median())\n",
    "\n",
    "    # Create new feature columns\n",
    "    \n",
    "    # Convert audienceScore to categories  \n",
    "    num_bins_as = 20\n",
    "    merged[\"audScoreBins\"] = pd.cut(merged['audienceScore'], bins=num_bins_as, labels=False)\n",
    "\n",
    "    # Convert runtimeMinutes to categories  \n",
    "#     num_bins_rt = 20\n",
    "    merged[\"runtimeBins\"] = pd.cut(merged['runtimeMinutes'], bins=[0,75,120,180,565], labels=[4,3,2,1])\n",
    "    \n",
    "    # Convert boxOffice to categories  \n",
    "    num_bins_bo = 5\n",
    "    merged[\"boxOfficeBins\"] = pd.cut(merged['boxOffice'], bins=num_bins_bo, labels=False)\n",
    "    \n",
    "    # Convert releaseDiff to categories  \n",
    "    num_bins_rd = 5\n",
    "    merged[\"releaseDiffBins\"] = pd.cut(merged['releaseDiff'], bins=[-1, 180, 360, 1000, 40000], labels=[0, 1, 2, 3])\n",
    "    \n",
    "    # Check1 (preprocessor)\n",
    "    print(\"\\nCheck 1 (preprocessor) complete.\")\n",
    "    print(f\"Shape of X_train: {merged.shape}\")\n",
    "    print(f\"Features in X_train: {merged.columns}\")\n",
    "\n",
    "\n",
    "    \n",
    "    # Merge and preprocess test and movies data  \n",
    "    merged_test = select_features(load_csv(\"test\"), load_csv(\"movies\"))\n",
    "    \n",
    "    # Transform ['audienceScore', 'runtimeMinutes', 'boxOffice'] columns in merged_test using 'imputer' fitted on 'merged' df  \n",
    "    merged_test[['audienceScore', 'runtimeMinutes', 'boxOffice']] = imputer.transform(merged_test[['audienceScore', 'runtimeMinutes', 'boxOffice']])\n",
    "    \n",
    "    # Fill 'releaseDate' column in 'merged_test' df with median from the train (merged) df  \n",
    "    merged_test['releaseDate'] = merged_test[\"releaseDate\"].fillna(merged[\"releaseDate\"].median())\n",
    "\n",
    "    \n",
    "    # Create new feature columns\n",
    "    \n",
    "    # Convert audienceScore to categories  \n",
    "    num_bins_as = 20\n",
    "    merged_test[\"audScoreBins\"] = pd.cut(merged_test['audienceScore'], bins=num_bins_as, labels=False)\n",
    "    \n",
    "    # Convert runtimeMinutes to categories  \n",
    "#     num_bins_rt = 20\n",
    "    merged_test[\"runtimeBins\"] = pd.cut(merged_test['runtimeMinutes'], bins=[0,75,120,180,565], labels=[4,3,2,1])\n",
    "    \n",
    "    # Convert boxOffice to categories  \n",
    "    num_bins_bo = 5\n",
    "    merged_test[\"boxOfficeBins\"] = pd.cut(merged_test['boxOffice'], bins=num_bins_bo, labels=False)\n",
    "    \n",
    "    # Convert releaseDiff to categories  \n",
    "    num_bins_rd = 5\n",
    "    merged_test[\"releaseDiffBins\"] = pd.cut(merged_test['releaseDiff'], bins=[-1, 180, 360, 1000, 40000], labels=[0, 1, 2, 3])\n",
    "    \n",
    "    \n",
    "    # Check2 (preprocessor)\n",
    "    print(\"\\nCheck 2 (preprocessor) complete.\")\n",
    "    print(f\"Shape of X_test: {merged_test.shape}\")\n",
    "    print(f\"Features in X_test: {merged_test.columns}\")\n",
    "\n",
    "    return merged, merged_test\n",
    "    "
   ]
  },
  {
   "cell_type": "code",
   "execution_count": 136,
   "id": "906fb250",
   "metadata": {
    "execution": {
     "iopub.execute_input": "2023-08-26T04:42:41.386044Z",
     "iopub.status.busy": "2023-08-26T04:42:41.384699Z",
     "iopub.status.idle": "2023-08-26T04:42:41.390631Z",
     "shell.execute_reply": "2023-08-26T04:42:41.389368Z"
    },
    "papermill": {
     "duration": 0.139421,
     "end_time": "2023-08-26T04:42:41.393987",
     "exception": false,
     "start_time": "2023-08-26T04:42:41.254566",
     "status": "completed"
    },
    "tags": []
   },
   "outputs": [],
   "source": [
    "# merged, merged_test = preprocessor()\n",
    "# merged.shape, merged_test.shape"
   ]
  },
  {
   "cell_type": "code",
   "execution_count": 137,
   "id": "9546a541",
   "metadata": {
    "execution": {
     "iopub.execute_input": "2023-08-26T04:42:41.646690Z",
     "iopub.status.busy": "2023-08-26T04:42:41.645328Z",
     "iopub.status.idle": "2023-08-26T04:42:41.664764Z",
     "shell.execute_reply": "2023-08-26T04:42:41.663329Z"
    },
    "papermill": {
     "duration": 0.149111,
     "end_time": "2023-08-26T04:42:41.668100",
     "exception": false,
     "start_time": "2023-08-26T04:42:41.518989",
     "status": "completed"
    },
    "tags": []
   },
   "outputs": [],
   "source": [
    "def voting_clf_custom(estimators: list, merged, merged_test):\n",
    "    print(f\"\\nRunning the voting_clf_custom function...\")\n",
    "    print(f\"\\nNumber of estimator pipelines provided: {len(estimators)}\")\n",
    "       \n",
    "    # Create X_train, y_train\n",
    "    X_train = merged.drop(labels=\"sentiment\", axis=1)\n",
    "    y_train = merged[\"sentiment\"]\n",
    "    print(f\"\\nX_train and y_train created.\")\n",
    "    print(f\"Shape of X_train: { X_train.shape}\")\n",
    "    print(f\"Columns in X_train: {X_train.columns}\")\n",
    "    print(f\"\\nShape of y_train: { y_train.shape}\")\n",
    "    print(f\"Inspect y_train: {y_train.head()}\")\n",
    "    \n",
    "    # Create X_test\n",
    "    X_test = merged_test.copy()\n",
    "    print(f\"\\nX_test created.\")\n",
    "    print(f\"Shape of X_test: { X_test.shape}\")\n",
    "    print(f\"Columns in X_test: {X_test.columns}\")\n",
    "\n",
    "    \n",
    "    # Create a list for estimators after fitting  \n",
    "    fitted_estimators = []\n",
    "    \n",
    "    # Build a dataframe of predictions  \n",
    "    predictions_df = pd.DataFrame()\n",
    "    \n",
    "    for n, item in enumerate(estimators, start=1):\n",
    "        \n",
    "        # Get the pipeline\n",
    "        pipe = item[1]\n",
    "        \n",
    "        # Fit \n",
    "        print(f\"\\nTraining started with full pipeline for classifier #{n}/{len(estimators)}...\")\n",
    "#         print(f\"Features included in the pipeline: {pipe.feature_names_in_}\")      # Gives an error\n",
    "        pipe.fit(X_train, y_train)\n",
    "        \n",
    "\n",
    "        # Check1\n",
    "        print(f\"\\nCheck #{n}.1 complete.\")\n",
    "        print(f\"Details of the best model using classifier #{n} (GridSearchCV) on X_train: \")\n",
    "        print(f\"Best Params: {pipe.best_params_}\")\n",
    "        print(f\"Best Score: {pipe.best_score_}\")\n",
    "        \n",
    "#         print(predict_on_missing_review_data(pipe, features, merged))    # Function defined above\n",
    "        \n",
    "        fitted_estimators.append((f\"classifier_{n}\", pipe))\n",
    "        print(f\"\\nclassifier_{n} successfully added to 'fitted_estimators' list\")\n",
    "\n",
    "        \n",
    "        # Predict on train data \n",
    "        y_train_pred = pipe.predict(X_train)\n",
    "        print(f\"\\nConfusion matrix for predictions on training data: \")\n",
    "        print(confusion_matrix(y_train, y_train_pred))\n",
    "        print(f\"\\nClassification report for predictions on training data: \")\n",
    "        print(classification_report(y_train, y_train_pred))\n",
    "        f1_train = f1_score(y_train, y_train_pred, average=\"micro\")\n",
    "        print(f\"F1-score on training data: {f1_train}\")\n",
    "        \n",
    "        # Predict on test data  \n",
    "        y_pred = pipe.predict(X_test)\n",
    "        \n",
    "        # Insert predictions in 'predictions_df' dataframe\n",
    "        predictions_df.insert(n-1, f\"pred_{n}\", y_pred, allow_duplicates=False)\n",
    "        print(predictions_df.shape)\n",
    "        print(predictions_df.head(10))\n",
    "        \n",
    "    \n",
    "        # Check2\n",
    "        print(f\"\\nCheck #{n}.2 complete.\")\n",
    "    #     cv_results_df = pd.DataFrame(pipe.cv_results_)\n",
    "        print(\"Details of the best model using full pipeline (GridSearchCV) on X_train: \")\n",
    "#         print(f\"Best Estimator: {pipe.best_estimator_}\")\n",
    "        print(f\"Best Params: {pipe.best_params_}\")\n",
    "        print(f\"Best Score: {pipe.best_score_}\")\n",
    "#         print(f\"Best Index: {pipe.best_index_}\")\n",
    "        print(f\"Refit Time: {pipe.refit_time_}\")\n",
    "    #     print(f\"Shape of CV results dataframe: {cv_results_df.shape}\")\n",
    "    \n",
    "    \n",
    "    # Voting classifier (custom) with hard voting\n",
    "    # Calculate the MODE for all predictions (Note that the 'predictions_df' generated above should have odd number of columns)\n",
    "    print(f\"\\nTaking votes from all the classifiers/estimators...\")\n",
    "    pred_df_final = predictions_df.mode('columns').iloc[: , 0]\n",
    "    pred_df_final.columns = [\"sentiment\"]\n",
    "    pred_df_final.index.name = \"id\"\n",
    "    pred_df_final.to_csv(\"submission.csv\")\n",
    "    \n",
    "    print(\"\\nSuccessfully created the submission file!!!\")\n",
    "    \n",
    "#     return pipe.cv_results_\n",
    "    return pred_df_final, fitted_estimators"
   ]
  },
  {
   "cell_type": "code",
   "execution_count": 138,
   "id": "44b08f8b",
   "metadata": {
    "execution": {
     "iopub.execute_input": "2023-08-26T04:42:41.924137Z",
     "iopub.status.busy": "2023-08-26T04:42:41.923677Z",
     "iopub.status.idle": "2023-08-26T04:42:41.935962Z",
     "shell.execute_reply": "2023-08-26T04:42:41.934522Z"
    },
    "papermill": {
     "duration": 0.14374,
     "end_time": "2023-08-26T04:42:41.939106",
     "exception": false,
     "start_time": "2023-08-26T04:42:41.795366",
     "status": "completed"
    },
    "tags": []
   },
   "outputs": [],
   "source": [
    "def  stacking_clf(estimators: list, merged, merged_test):\n",
    "    print(f\"\\nRunning the stacking_clf function...\")\n",
    "    print(f\"\\nNumber of estimator pipelines provided: {len(estimators)}\")\n",
    "    \n",
    "    # Create X_train, y_train\n",
    "    X_train = merged.drop(labels=\"sentiment\", axis=1)\n",
    "    y_train = merged[\"sentiment\"]\n",
    "    print(f\"\\nX_train and y_train created.\")\n",
    "    print(f\"Shape of X_train: { X_train.shape}\")\n",
    "    print(f\"Columns in X_train: {X_train.columns}\")\n",
    "    print(f\"\\nShape of y_train: { y_train.shape}\")\n",
    "    print(f\"Inspect y_train: {y_train.head()}\")\n",
    "    \n",
    "    # Create X_test\n",
    "    X_test = merged_test.copy()\n",
    "    print(f\"\\nX_test created.\")\n",
    "    print(f\"Shape of X_test: { X_test.shape}\")\n",
    "    print(f\"Columns in X_test: {X_test.columns}\")\n",
    "    \n",
    "    # Build the stacking classifier\n",
    "    stacking_classifier = StackingClassifier(estimators=estimators, \n",
    "                                             final_estimator=LogisticRegression(),\n",
    "                                             cv=5,\n",
    "                                             stack_method = 'auto',\n",
    "                                             passthrough = False,\n",
    "                                            verbose = 10,  # Control how many messages are displayed\n",
    "                                            n_jobs = 1)    \n",
    "    print(f\"\\nstacking_classifier object created.\")\n",
    "    print(stacking_classifier)\n",
    "    \n",
    "    # Fit the stacking classifer\n",
    "    print(f\"\\nstacking_classifier has begun training. Be patient, this can take a long time...\")\n",
    "    stacking_classifier.fit(X_train, y_train)\n",
    "    \n",
    "    # Predict on X_test\n",
    "    y_pred = stacking_classifier.predict(X_test)\n",
    "    \n",
    "    # Create 'submission.csv' file\n",
    "    pred_df = pd.DataFrame(y_pred)\n",
    "    pred_df.columns = [\"sentiment\"]\n",
    "    pred_df.index.name = \"id\"\n",
    "    pred_df.to_csv(\"submission.csv\")\n",
    "    \n",
    "    print(\"\\nSuccessfully created the submission file!!!\")\n",
    "    \n",
    "    return pred_df, stacking_classifier"
   ]
  },
  {
   "cell_type": "code",
   "execution_count": 139,
   "id": "0804047b",
   "metadata": {
    "execution": {
     "iopub.execute_input": "2023-08-26T04:42:42.306834Z",
     "iopub.status.busy": "2023-08-26T04:42:42.306202Z",
     "iopub.status.idle": "2023-08-26T04:42:42.335496Z",
     "shell.execute_reply": "2023-08-26T04:42:42.334515Z"
    },
    "papermill": {
     "duration": 0.160579,
     "end_time": "2023-08-26T04:42:42.338559",
     "exception": false,
     "start_time": "2023-08-26T04:42:42.177980",
     "status": "completed"
    },
    "tags": []
   },
   "outputs": [],
   "source": [
    "def submit_v5(classifiers= [\n",
    "                {'selected_model' : LogisticRegression(C=1, solver='saga', max_iter=100000),\n",
    "                 'param_grid' : None,\n",
    "                 'selected_features' : {'num': ['audienceScore']},\n",
    "                 'vocab' : None,\n",
    "                 'vocab_usage' : 'tfidf',\n",
    "                 'strip_accents' : 'unicode',\n",
    "                 'add_countvec' : False,\n",
    "                'vocab_audscore' : None}\n",
    "              ], \n",
    "            imputer_type='simple',\n",
    "              poly=True,\n",
    "              ensemble_type='voting_custom'\n",
    "            ):\n",
    "    \n",
    "    \"\"\"Takes a list of dictionaries each with same keys as mentioned in the default dictionary in function definition\"\"\"\n",
    "    \n",
    "    print(\"\\nRunning the submit_v5 function...\")\n",
    "    \n",
    "    print(f\"\\nData preprocessor initiated...\")\n",
    "    \n",
    "    imputer_type = imputer_type\n",
    "    print(f\"\\nImputer for missing numerical values: {imputer_type}\")\n",
    "    print(f\"Imputing missing values. (This could take a while if it is KNNImputer)\")\n",
    "    \n",
    "    merged, merged_test = preprocessor(imputer_type=imputer_type)\n",
    "    print(f\"\\nPreprocessing of train and test datasets complete.\")\n",
    "    \n",
    "    # Build vocabulary (if vocab is True)\n",
    "    ngram_range_vocab = (1,4)\n",
    "    ngram_range_vocab_list = [(1,1), (2,2), (3,3), (4,4)]\n",
    "    \n",
    "    vocab = None\n",
    "    vocab_audscore = None\n",
    "    for item in classifiers:\n",
    "        if item['vocab']:\n",
    "            vocab = True\n",
    "        if item['vocab_audscore']:\n",
    "            vocab_audscore = item['vocab_audscore']\n",
    "    \n",
    "    if vocab == True:\n",
    "        # Generate and store the entire vocabulary of training data  \n",
    "        print(f\"\\nGenerating vocabulary of entire training data...\")\n",
    "        train_ngrams = get_vocab(merged['reviewText'], ngram_range=ngram_range_vocab)\n",
    "        print(f\"Size of vocabulary of training data: {len(train_ngrams)}\")\n",
    "        # sorted(train_ngrams)\n",
    "\n",
    "        # Generate common vocabulary specific for this project data  \n",
    "        print(f\"\\nGenerating common vocabulary specific for this project data...\")\n",
    "        common_ngrams = get_common_vocab([merged, merged_test], ngram_range_list=ngram_range_vocab_list)\n",
    "        print(f\"Size of common vocabulary: {len(common_ngrams)}\")\n",
    "\n",
    "        # Get the speficic stop words that should be used in the final models  \n",
    "        print(f\"\\nGetting specific stop words for this project...\")\n",
    "        stop_words_specific = list(train_ngrams - common_ngrams)\n",
    "        print(f\"Size of 'stop_words_specific' generated: {len(stop_words_specific)}\")\n",
    "    else:\n",
    "        pass\n",
    "    \n",
    "    if vocab_audscore:\n",
    "        pure_common_pos, pure_common_neg = audienceScore_vocab([merged, merged_test], \n",
    "                                                               scores=(57, 73), \n",
    "                                                               ngram_range_list=ngram_range_vocab_list)\n",
    "        pure_common = pure_common_pos | pure_common_neg\n",
    "        print(f\"\\nSize of 'pure_common' vocabulary genrated: {len(pure_common)}\")\n",
    "    \n",
    "    \n",
    "    # Create a list to store estimators  \n",
    "    estimators = []     # List of tuples of the form ('classifier_name', 'classifer_instance')\n",
    "    \n",
    "#     # Build a dataframe of predictions  \n",
    "#     predictions_df = pd.DataFrame()\n",
    "    \n",
    "    # Build a separate pipeline and fit it on selected features (and param_grid) for each item in classifiers list\n",
    "    for n, item in enumerate(classifiers, start=1):\n",
    "        selected_model = item['selected_model']\n",
    "        selected_features = item['selected_features']\n",
    "        param_grid = item['param_grid']\n",
    "        vocab = item['vocab']\n",
    "        vocab_usage = item['vocab_usage']\n",
    "        strip_accents = item['strip_accents']\n",
    "        add_countvec = item['add_countvec']\n",
    "    \n",
    "    \n",
    "        # Fine tune selected_features\n",
    "        if add_countvec:\n",
    "            if 'txt' in selected_features.keys():\n",
    "                if \"reviewText_2\" not in selected_features['txt']:\n",
    "                    selected_features['txt'].append('reviewText_2')\n",
    "        if vocab:\n",
    "            if 'txt' in selected_features.keys():\n",
    "                if \"reviewText_3\" not in selected_features['txt']:\n",
    "                    selected_features['txt'].append('reviewText_3')\n",
    "        else:\n",
    "            print(f\"No vocabulary provided/used for this model.\")\n",
    "            \n",
    "        print(f\"\\nSelected features: {selected_features}\")\n",
    "        \n",
    "        if type(vocab) in [type([1, 2]), type({1, 2})]:\n",
    "            vocab = vocab\n",
    "            print(f\"Size of 'vocab' provided: {len(vocab)}\")\n",
    "        elif vocab == True:\n",
    "            vocab = common_ngrams    # Choose vocabulary here\n",
    "            print(f\"Size of 'vocab' generated by submit_v5: {len(vocab)}\")\n",
    "\n",
    "            \n",
    "        if vocab_audscore:\n",
    "            if 'txt' in selected_features.keys():\n",
    "                if \"reviewText_4\" not in selected_features['txt']:\n",
    "                    selected_features['txt'].append('reviewText_4')\n",
    "        else:\n",
    "            print(f\"No vocabulary based on audienceScore provided/used for this model.\")\n",
    "        if vocab_audscore:\n",
    "            vocab_audscore = pure_common\n",
    "            print(f\"Size of 'vocab_audscore' generated by submit_v5: {len(vocab_audscore)}\")\n",
    "            \n",
    "            \n",
    "        print(f\"\\nSelected features: {selected_features}\")\n",
    "\n",
    "        # Modify X_train for the given 'item' by creating a custom 'features' list\n",
    "        features = []\n",
    "        for item in selected_features.values():\n",
    "            features.extend(item)\n",
    "            \n",
    "        # Add new columns as needed  \n",
    "        if add_countvec:\n",
    "            merged['reviewText_2'] = merged['reviewText']\n",
    "        if vocab:\n",
    "            merged['reviewText_3'] = merged['reviewText']\n",
    "        if vocab_audscore:\n",
    "            merged['reviewText_4'] = merged['reviewText']\n",
    "        \n",
    "        # Create X_train, y_train\n",
    "        X_train = merged.drop(labels=\"sentiment\", axis=1)\n",
    "        y_train = merged[\"sentiment\"]\n",
    "        \n",
    "        X_train = merged[features].copy()\n",
    "        \n",
    "        # Create X_test\n",
    "        # Add new columns as needed \n",
    "        if add_countvec:\n",
    "            merged_test['reviewText_2'] = merged_test['reviewText']\n",
    "        if vocab:\n",
    "            merged_test['reviewText_3'] = merged_test['reviewText']\n",
    "        if vocab_audscore:\n",
    "            merged_test['reviewText_4'] = merged_test['reviewText']\n",
    "        \n",
    "        X_test = merged_test[features].copy()\n",
    "\n",
    "\n",
    "        # Build Pipeline\n",
    "        pipe = build_pipeline(selected_model, selected_features, param_grid=param_grid, \n",
    "                              vocab=vocab, vocab_usage='tfidf', \n",
    "                              strip_accents=strip_accents, add_countvec=add_countvec,\n",
    "                             poly=poly, vocab_audscore=vocab_audscore)\n",
    "        print(pipe)\n",
    "        \n",
    "        estimators.append((f\"classifier_{n}\", pipe))\n",
    "        print(f\"\\nclassifier_{n} successfully added to 'estimators' list\")\n",
    "    \n",
    "    # Choose the appropriate ensemble method for the 'ensemble_type' provided\n",
    "    if ensemble_type == 'voting_custom':\n",
    "        print(f\"\\nCalling function: 'voting_clf_custom'\")\n",
    "        pred_df_final, fitted_estimators = voting_clf_custom(estimators, merged, merged_test)\n",
    "        return pred_df_final, fitted_estimators\n",
    "    elif ensemble_type == 'stacking':\n",
    "        print(f\"\\nCalling function: 'stacking_clf'\")\n",
    "        pred_df, stacking_classifier = stacking_clf(estimators, merged, merged_test)\n",
    "        return pred_df, stacking_classifier"
   ]
  },
  {
   "cell_type": "markdown",
   "id": "ec418963",
   "metadata": {
    "papermill": {
     "duration": 0.136374,
     "end_time": "2023-08-26T04:42:42.601494",
     "exception": false,
     "start_time": "2023-08-26T04:42:42.465120",
     "status": "completed"
    },
    "tags": []
   },
   "source": [
    "# Use 'submit_v5' function  "
   ]
  },
  {
   "cell_type": "code",
   "execution_count": 140,
   "id": "709440a0",
   "metadata": {
    "execution": {
     "iopub.execute_input": "2023-08-26T04:42:42.868946Z",
     "iopub.status.busy": "2023-08-26T04:42:42.868302Z",
     "iopub.status.idle": "2023-08-26T04:42:42.873820Z",
     "shell.execute_reply": "2023-08-26T04:42:42.872317Z"
    },
    "papermill": {
     "duration": 0.138585,
     "end_time": "2023-08-26T04:42:42.876819",
     "exception": false,
     "start_time": "2023-08-26T04:42:42.738234",
     "status": "completed"
    },
    "tags": []
   },
   "outputs": [],
   "source": [
    "# Try submit_v5 with default settings\n",
    "# submit_v5()"
   ]
  },
  {
   "cell_type": "code",
   "execution_count": 141,
   "id": "cf18093a",
   "metadata": {
    "execution": {
     "iopub.execute_input": "2023-08-26T04:42:43.136900Z",
     "iopub.status.busy": "2023-08-26T04:42:43.136215Z",
     "iopub.status.idle": "2023-08-26T04:44:42.444259Z",
     "shell.execute_reply": "2023-08-26T04:44:42.441974Z"
    },
    "papermill": {
     "duration": 119.58928,
     "end_time": "2023-08-26T04:44:42.592237",
     "exception": false,
     "start_time": "2023-08-26T04:42:43.002957",
     "status": "completed"
    },
    "tags": []
   },
   "outputs": [
    {
     "name": "stdout",
     "output_type": "stream",
     "text": [
      "\n",
      "Running the submit_v5 function...\n",
      "\n",
      "Data preprocessor initiated...\n",
      "\n",
      "Imputer for missing numerical values: simple\n",
      "Imputing missing values. (This could take a while if it is KNNImputer)\n",
      "SimpleImputer(strategy='median')\n",
      "\n",
      "Check 1 (preprocessor) complete.\n",
      "Shape of X_train: (162758, 30)\n",
      "Features in X_train: Index(['movieid', 'reviewerName', 'isFrequentReviewer', 'reviewText',\n",
      "       'sentiment', 'title', 'audienceScore', 'rating', 'ratingContents',\n",
      "       'releaseDateTheaters', 'releaseDateStreaming', 'runtimeMinutes',\n",
      "       'genre', 'originalLanguage', 'director', 'boxOffice', 'distributor',\n",
      "       'soundType', 'reviewYN', 'reviewWC', 'genreSorted', 'rcSorted',\n",
      "       'releaseDate', 'releaseYear', 'releaseMonth', 'releaseDiff',\n",
      "       'audScoreBins', 'runtimeBins', 'boxOfficeBins', 'releaseDiffBins'],\n",
      "      dtype='object')\n",
      "\n",
      "Check 2 (preprocessor) complete.\n",
      "Shape of X_test: (55315, 29)\n",
      "Features in X_test: Index(['movieid', 'reviewerName', 'isFrequentReviewer', 'reviewText', 'title',\n",
      "       'audienceScore', 'rating', 'ratingContents', 'releaseDateTheaters',\n",
      "       'releaseDateStreaming', 'runtimeMinutes', 'genre', 'originalLanguage',\n",
      "       'director', 'boxOffice', 'distributor', 'soundType', 'reviewYN',\n",
      "       'reviewWC', 'genreSorted', 'rcSorted', 'releaseDate', 'releaseYear',\n",
      "       'releaseMonth', 'releaseDiff', 'audScoreBins', 'runtimeBins',\n",
      "       'boxOfficeBins', 'releaseDiffBins'],\n",
      "      dtype='object')\n",
      "\n",
      "Preprocessing of train and test datasets complete.\n",
      "No vocabulary provided/used for this model.\n",
      "\n",
      "Selected features: {'cat': ['audScoreBins']}\n",
      "No vocabulary based on audienceScore provided/used for this model.\n",
      "\n",
      "Selected features: {'cat': ['audScoreBins']}\n",
      "\n",
      "Pipeline built successfully.\n",
      "\n",
      "Full GridSearchCV pipeline built successfully.\n",
      "GridSearchCV(cv=10,\n",
      "             estimator=Pipeline(steps=[('ct',\n",
      "                                        ColumnTransformer(transformers=[('cat',\n",
      "                                                                         OneHotEncoder(handle_unknown='ignore',\n",
      "                                                                                       sparse_output=False),\n",
      "                                                                         ['audScoreBins'])])),\n",
      "                                       ('model',\n",
      "                                        SGDClassifier(loss='modified_huber',\n",
      "                                                      max_iter=1000000,\n",
      "                                                      n_iter_no_change=100,\n",
      "                                                      n_jobs=-1,\n",
      "                                                      tol=0.0001))]),\n",
      "             n_jobs=-1, param_grid={'model__alpha': [0.0001]},\n",
      "             scoring='f1_micro')\n",
      "\n",
      "classifier_1 successfully added to 'estimators' list\n",
      "\n",
      "Calling function: 'voting_clf_custom'\n",
      "\n",
      "Running the voting_clf_custom function...\n",
      "\n",
      "Number of estimator pipelines provided: 1\n",
      "\n",
      "X_train and y_train created.\n",
      "Shape of X_train: (162758, 29)\n",
      "Columns in X_train: Index(['movieid', 'reviewerName', 'isFrequentReviewer', 'reviewText', 'title',\n",
      "       'audienceScore', 'rating', 'ratingContents', 'releaseDateTheaters',\n",
      "       'releaseDateStreaming', 'runtimeMinutes', 'genre', 'originalLanguage',\n",
      "       'director', 'boxOffice', 'distributor', 'soundType', 'reviewYN',\n",
      "       'reviewWC', 'genreSorted', 'rcSorted', 'releaseDate', 'releaseYear',\n",
      "       'releaseMonth', 'releaseDiff', 'audScoreBins', 'runtimeBins',\n",
      "       'boxOfficeBins', 'releaseDiffBins'],\n",
      "      dtype='object')\n",
      "\n",
      "Shape of y_train: (162758,)\n",
      "Inspect y_train: 0    POSITIVE\n",
      "1    NEGATIVE\n",
      "2    POSITIVE\n",
      "3    POSITIVE\n",
      "4    POSITIVE\n",
      "Name: sentiment, dtype: object\n",
      "\n",
      "X_test created.\n",
      "Shape of X_test: (55315, 29)\n",
      "Columns in X_test: Index(['movieid', 'reviewerName', 'isFrequentReviewer', 'reviewText', 'title',\n",
      "       'audienceScore', 'rating', 'ratingContents', 'releaseDateTheaters',\n",
      "       'releaseDateStreaming', 'runtimeMinutes', 'genre', 'originalLanguage',\n",
      "       'director', 'boxOffice', 'distributor', 'soundType', 'reviewYN',\n",
      "       'reviewWC', 'genreSorted', 'rcSorted', 'releaseDate', 'releaseYear',\n",
      "       'releaseMonth', 'releaseDiff', 'audScoreBins', 'runtimeBins',\n",
      "       'boxOfficeBins', 'releaseDiffBins'],\n",
      "      dtype='object')\n",
      "\n",
      "Training started with full pipeline for classifier #1/1...\n",
      "\n",
      "Check #1.1 complete.\n",
      "Details of the best model using classifier #1 (GridSearchCV) on X_train: \n",
      "Best Params: {'model__alpha': 0.0001}\n",
      "Best Score: 0.6928937245721746\n",
      "\n",
      "classifier_1 successfully added to 'fitted_estimators' list\n",
      "\n",
      "Confusion matrix for predictions on training data: \n",
      "[[17216 36781]\n",
      " [13198 95563]]\n",
      "\n",
      "Classification report for predictions on training data: \n",
      "              precision    recall  f1-score   support\n",
      "\n",
      "    NEGATIVE       0.57      0.32      0.41     53997\n",
      "    POSITIVE       0.72      0.88      0.79    108761\n",
      "\n",
      "    accuracy                           0.69    162758\n",
      "   macro avg       0.64      0.60      0.60    162758\n",
      "weighted avg       0.67      0.69      0.67    162758\n",
      "\n",
      "F1-score on training data: 0.6929244645424495\n",
      "(55315, 1)\n",
      "     pred_1\n",
      "0  POSITIVE\n",
      "1  POSITIVE\n",
      "2  POSITIVE\n",
      "3  POSITIVE\n",
      "4  POSITIVE\n",
      "5  NEGATIVE\n",
      "6  POSITIVE\n",
      "7  POSITIVE\n",
      "8  POSITIVE\n",
      "9  POSITIVE\n",
      "\n",
      "Check #1.2 complete.\n",
      "Details of the best model using full pipeline (GridSearchCV) on X_train: \n",
      "Best Params: {'model__alpha': 0.0001}\n",
      "Best Score: 0.6928937245721746\n",
      "Refit Time: 10.1483895778656\n",
      "\n",
      "Taking votes from all the classifiers/estimators...\n",
      "\n",
      "Successfully created the submission file!!!\n"
     ]
    },
    {
     "data": {
      "text/plain": [
       "(55315,)"
      ]
     },
     "execution_count": 141,
     "metadata": {},
     "output_type": "execute_result"
    }
   ],
   "source": [
    "# Testing ONE classfier using submit_v5 function  \n",
    "\n",
    "# Feature dictionaries\n",
    "sfs = {'cat': ['isFrequentReviewer', 'rating'],\n",
    "       'num': [\"audienceScore\", \"runtimeMinutes\", \"boxOffice\", 'releaseDiff']}\n",
    "\n",
    "sf_best = {'cat': ['isFrequentReviewer'],\n",
    "            'num': [\"audienceScore\", \"boxOffice\", 'releaseDiff'],\n",
    "            'txt': ['reviewText', 'reviewerName', 'movieid', 'genre', 'director', \n",
    "                         'ratingContents', 'distributor']}\n",
    "\n",
    "alt_text = {'txt': ['reviewerName', 'movieid', 'genre', 'director', \n",
    "                         'ratingContents', 'distributor']}\n",
    "\n",
    "v88_dict = {'cat': ['isFrequentReviewer', 'audScoreBins', 'boxOfficeBins'],\n",
    "            'num': ['releaseDiff'],\n",
    "            'txt': ['reviewText', 'reviewerName', 'movieid', 'genre', 'director', \n",
    "                         'ratingContents', 'distributor']}\n",
    "\n",
    "# SGDClassifier hyperparameters  \n",
    "# \"model__loss\": ['hinge', 'log_loss', 'modified_huber', \n",
    "#                                                   'squared_hinge', 'perceptron', \n",
    "#                                                   'squared_error', 'huber', \n",
    "#                                                   'epsilon_insensitive', 'squared_epsilon_insensitive']\n",
    "\n",
    "# 'param_grid' : {\"model__alpha\": [0.0001], \n",
    "#                   'model__tol': [0.0001],\n",
    "#                   \"model__penalty\": [\"l2\"],\n",
    "#                   \"model__n_iter_no_change\": [100],\n",
    "#                  }\n",
    "\n",
    "# Best models \n",
    "# For sf_best features\n",
    "#                 {'selected_model' : SGDClassifier(loss='hinge', \n",
    "#                                      max_iter=1000000,\n",
    "#                                      alpha = 0.0001,\n",
    "#                                      tol = 0.0001,\n",
    "#                                      penalty = \"l2\",\n",
    "#                                      n_iter_no_change = 100,\n",
    "#                                      n_jobs = -1), \n",
    "#                   'selected_features' : sf_best, \n",
    "#                   'param_grid' : {\"model__alpha\": [ 0.0001]},\n",
    "#                   'vocab' : True,\n",
    "#                   'vocab_usage' : 'tfidf',\n",
    "#                   'strip_accents' : 'unicode', \n",
    "#                   'add_countvec' : True},\n",
    "\n",
    "# For sfs features\n",
    "#                 {'selected_model' : RandomForestClassifier(n_jobs = -1), \n",
    "#                   'selected_features' : sfs, \n",
    "#                   'param_grid': {'model__n_estimators': [100]},\n",
    "#                   'vocab' : None,\n",
    "#                   'vocab_usage' : 'tfidf',\n",
    "#                   'strip_accents' : 'unicode', \n",
    "#                   'add_countvec' : False}\n",
    "\n",
    "# Best SGD classifer (with params)  \n",
    "sgdc_modhuber = SGDClassifier(loss='modified_huber', \n",
    "                     max_iter=1000000,\n",
    "                     alpha = 0.0001,\n",
    "                     tol = 0.0001,\n",
    "                     penalty = \"l2\",\n",
    "                     n_iter_no_change = 100,\n",
    "                     n_jobs = -1)\n",
    "\n",
    "sgdc_logloss = SGDClassifier(loss='log_loss', \n",
    "                     max_iter=1000000,\n",
    "                     alpha = 0.0001,\n",
    "                     tol = 0.0001,\n",
    "                     penalty = \"l2\",\n",
    "                     n_iter_no_change = 100,\n",
    "                     n_jobs = -1)\n",
    "\n",
    "# Classifiers\n",
    "classifiers= [   \n",
    "                {'selected_model' : sgdc_modhuber, \n",
    "                  'selected_features' : {'cat': ['audScoreBins']}, \n",
    "                  'param_grid' : {\"model__alpha\": [0.0001]},\n",
    "                  'vocab' : None,\n",
    "                  'vocab_usage' : 'tfidf',\n",
    "                  'strip_accents' : 'unicode', \n",
    "                  'add_countvec' : False,\n",
    "                    'vocab_audscore' : False},\n",
    "    \n",
    "#                 {'selected_model' : sgdc_logloss, \n",
    "#                   'selected_features' : v88_dict, \n",
    "#                   'param_grid' : {\"model__alpha\": [0.0001]},\n",
    "#                   'vocab' : True,\n",
    "#                   'vocab_usage' : 'tfidf',\n",
    "#                   'strip_accents' : 'unicode', \n",
    "#                   'add_countvec' : True,\n",
    "#                     'vocab_audscore' : True}\n",
    "                \n",
    "#                 {'selected_model' : RandomForestClassifier(n_jobs = -1), \n",
    "#                   'selected_features' : sfs, \n",
    "#                   'param_grid': {'model__n_estimators': [100]},\n",
    "#                   'vocab' : None,\n",
    "#                   'vocab_usage' : 'tfidf',\n",
    "#                   'strip_accents' : 'unicode', \n",
    "#                   'add_countvec' : False,\n",
    "#                     'vocab_audscore' : False}\n",
    "            ]\n",
    "\n",
    "# classifiers= [\n",
    "#                 {'selected_model' : LogisticRegression(C=1, solver='saga', max_iter=100000), \n",
    "#                   'selected_features' : {'txt': [\"reviewText\"]}, \n",
    "#                   'param_grid' : {\"model__C\": [1], \n",
    "#                                   'model__solver': ['saga']},\n",
    "#                   'vocab' : None,\n",
    "#                   'vocab_usage' : 'tfidf',\n",
    "#                   'strip_accents' : 'unicode', \n",
    "#                   'add_countvec' : False},\n",
    "#             ]\n",
    "\n",
    "pred_df, estimators = submit_v5(classifiers=classifiers, imputer_type='simple', poly=False, ensemble_type='voting_custom')\n",
    "\n",
    "pred_df.shape"
   ]
  },
  {
   "cell_type": "code",
   "execution_count": 142,
   "id": "a774ce02",
   "metadata": {
    "execution": {
     "iopub.execute_input": "2023-08-26T04:44:42.872722Z",
     "iopub.status.busy": "2023-08-26T04:44:42.871381Z",
     "iopub.status.idle": "2023-08-26T04:44:42.880795Z",
     "shell.execute_reply": "2023-08-26T04:44:42.879104Z"
    },
    "papermill": {
     "duration": 0.143804,
     "end_time": "2023-08-26T04:44:42.883617",
     "exception": false,
     "start_time": "2023-08-26T04:44:42.739813",
     "status": "completed"
    },
    "tags": []
   },
   "outputs": [
    {
     "name": "stdout",
     "output_type": "stream",
     "text": [
      "(55315,)\n",
      "id\n",
      "0    POSITIVE\n",
      "1    POSITIVE\n",
      "2    POSITIVE\n",
      "3    POSITIVE\n",
      "4    POSITIVE\n",
      "Name: 0, dtype: object\n"
     ]
    }
   ],
   "source": [
    "print(pred_df.shape)\n",
    "print(pred_df.head())"
   ]
  },
  {
   "cell_type": "code",
   "execution_count": 143,
   "id": "404fdd15",
   "metadata": {
    "execution": {
     "iopub.execute_input": "2023-08-26T04:44:43.148815Z",
     "iopub.status.busy": "2023-08-26T04:44:43.147925Z",
     "iopub.status.idle": "2023-08-26T04:44:43.153851Z",
     "shell.execute_reply": "2023-08-26T04:44:43.152105Z"
    },
    "papermill": {
     "duration": 0.143943,
     "end_time": "2023-08-26T04:44:43.156984",
     "exception": false,
     "start_time": "2023-08-26T04:44:43.013041",
     "status": "completed"
    },
    "tags": []
   },
   "outputs": [],
   "source": [
    "# estimators"
   ]
  },
  {
   "cell_type": "code",
   "execution_count": 144,
   "id": "345bf087",
   "metadata": {
    "execution": {
     "iopub.execute_input": "2023-08-26T04:44:43.410956Z",
     "iopub.status.busy": "2023-08-26T04:44:43.410466Z",
     "iopub.status.idle": "2023-08-26T04:44:43.416844Z",
     "shell.execute_reply": "2023-08-26T04:44:43.415114Z"
    },
    "papermill": {
     "duration": 0.136612,
     "end_time": "2023-08-26T04:44:43.419425",
     "exception": false,
     "start_time": "2023-08-26T04:44:43.282813",
     "status": "completed"
    },
    "tags": []
   },
   "outputs": [],
   "source": [
    "# print(f\"Number of estimators: {len(estimators)}\\n\")\n",
    "# for est in estimators:\n",
    "#     print(f\"Estimator: {est[0]}\")\n",
    "# #     print(est[1].best_estimator_)\n",
    "#     print(est[1].best_params_)\n",
    "#     print(est[1].best_score_)\n",
    "#     print(est[1].refit_time_)\n",
    "#     print()"
   ]
  },
  {
   "cell_type": "code",
   "execution_count": 145,
   "id": "42138759",
   "metadata": {
    "execution": {
     "iopub.execute_input": "2023-08-26T04:44:43.676191Z",
     "iopub.status.busy": "2023-08-26T04:44:43.675658Z",
     "iopub.status.idle": "2023-08-26T04:44:43.684287Z",
     "shell.execute_reply": "2023-08-26T04:44:43.682407Z"
    },
    "papermill": {
     "duration": 0.140001,
     "end_time": "2023-08-26T04:44:43.687141",
     "exception": false,
     "start_time": "2023-08-26T04:44:43.547140",
     "status": "completed"
    },
    "tags": []
   },
   "outputs": [],
   "source": [
    "# Testing full capabilites of submit_v5  \n",
    "\n",
    "# # Feature dictionaries\n",
    "# sf1 = {'cat': ['isFrequentReviewer', 'rating'],\n",
    "#        'num': [\"audienceScore\", \"runtimeMinutes\", \"boxOffice\"]}\n",
    "\n",
    "# sf2 = {'cat': ['isFrequentReviewer', 'rating'],\n",
    "#        'num': [\"audienceScore\", \"runtimeMinutes\", \"boxOffice\"]}\n",
    "\n",
    "# sf3 = {'cat': ['isFrequentReviewer'],\n",
    "#         'num': ['releaseDiff', 'audienceScore', 'boxOffice'],\n",
    "#         'txt': ['reviewText', 'reviewerName', 'movieid', 'genre', 'director', \n",
    "#                          'ratingContents', 'distributor']}\n",
    "\n",
    "# # Individual classifiers\n",
    "# clf1 =  {'selected_model' : AdaBoostClassifier(), \n",
    "#           'selected_features' : sf1, \n",
    "#           'param_grid' : {\"model__n_estimators\": [50]},\n",
    "#           'vocab' : None,\n",
    "#           'vocab_usage' : 'tfidf',\n",
    "#           'strip_accents' : 'unicode', \n",
    "#           'add_countvec' : False}\n",
    "\n",
    "# clf2 =  {'selected_model' : RandomForestClassifier(), \n",
    "#           'selected_features' : sf2,\n",
    "#           'param_grid' : {\"model__n_estimators\": [50], \n",
    "#                           'model__criterion': ['gini']},\n",
    "#           'vocab' : None,\n",
    "#           'vocab_usage' : 'tfidf',\n",
    "#           'strip_accents' : 'unicode', \n",
    "#           'add_countvec' : False}\n",
    "\n",
    "# clf3 =  {'selected_model' : LogisticRegression(C=1, solver='saga', max_iter=100000), \n",
    "#           'selected_features' : sf3, \n",
    "#           'param_grid' : {'model__C' : [1],\n",
    "#                             'model__solver': ['saga'],\n",
    "#                             \"model__fit_intercept\" : [True],\n",
    "#                             \"model__dual\" : [False]},\n",
    "#           'vocab' : None,\n",
    "#           'vocab_usage' : 'tfidf',\n",
    "#           'strip_accents' : 'unicode', \n",
    "#           'add_countvec' : True}\n",
    "\n",
    "\n",
    "# # List of classifiers for voting\n",
    "# classifiers= [clf1, clf2, clf3]\n",
    "\n",
    "# # Final predictions \n",
    "# pred_df = submit_v5(classifiers=classifiers)"
   ]
  },
  {
   "cell_type": "code",
   "execution_count": 146,
   "id": "575e00c5",
   "metadata": {
    "execution": {
     "iopub.execute_input": "2023-08-26T04:44:43.944705Z",
     "iopub.status.busy": "2023-08-26T04:44:43.944243Z",
     "iopub.status.idle": "2023-08-26T04:44:43.956225Z",
     "shell.execute_reply": "2023-08-26T04:44:43.954593Z"
    },
    "papermill": {
     "duration": 0.143561,
     "end_time": "2023-08-26T04:44:43.958621",
     "exception": false,
     "start_time": "2023-08-26T04:44:43.815060",
     "status": "completed"
    },
    "tags": []
   },
   "outputs": [
    {
     "name": "stdout",
     "output_type": "stream",
     "text": [
      "(55315,)\n"
     ]
    },
    {
     "data": {
      "text/plain": [
       "id\n",
       "0        POSITIVE\n",
       "1        POSITIVE\n",
       "2        POSITIVE\n",
       "3        POSITIVE\n",
       "4        POSITIVE\n",
       "           ...   \n",
       "55310    NEGATIVE\n",
       "55311    POSITIVE\n",
       "55312    POSITIVE\n",
       "55313    POSITIVE\n",
       "55314    POSITIVE\n",
       "Name: 0, Length: 55315, dtype: object"
      ]
     },
     "execution_count": 146,
     "metadata": {},
     "output_type": "execute_result"
    }
   ],
   "source": [
    "print(pred_df.shape)\n",
    "pred_df"
   ]
  },
  {
   "cell_type": "code",
   "execution_count": 147,
   "id": "f59a5f18",
   "metadata": {
    "execution": {
     "iopub.execute_input": "2023-08-26T04:44:44.219828Z",
     "iopub.status.busy": "2023-08-26T04:44:44.219400Z",
     "iopub.status.idle": "2023-08-26T04:44:44.224545Z",
     "shell.execute_reply": "2023-08-26T04:44:44.223104Z"
    },
    "papermill": {
     "duration": 0.136415,
     "end_time": "2023-08-26T04:44:44.227494",
     "exception": false,
     "start_time": "2023-08-26T04:44:44.091079",
     "status": "completed"
    },
    "tags": []
   },
   "outputs": [],
   "source": [
    "# pred_df_mode = pred_df.mode(axis='columns')\n",
    "# print(pred_df_mode.shape)\n",
    "# pred_df_mode"
   ]
  },
  {
   "cell_type": "code",
   "execution_count": 148,
   "id": "90d75114",
   "metadata": {
    "execution": {
     "iopub.execute_input": "2023-08-26T04:44:44.484137Z",
     "iopub.status.busy": "2023-08-26T04:44:44.483667Z",
     "iopub.status.idle": "2023-08-26T04:44:44.503880Z",
     "shell.execute_reply": "2023-08-26T04:44:44.502492Z"
    },
    "papermill": {
     "duration": 0.151269,
     "end_time": "2023-08-26T04:44:44.507253",
     "exception": false,
     "start_time": "2023-08-26T04:44:44.355984",
     "status": "completed"
    },
    "tags": []
   },
   "outputs": [
    {
     "data": {
      "text/plain": [
       "POSITIVE    44945\n",
       "NEGATIVE    10370\n",
       "Name: 0, dtype: int64"
      ]
     },
     "execution_count": 148,
     "metadata": {},
     "output_type": "execute_result"
    }
   ],
   "source": [
    "pred_df.value_counts()"
   ]
  },
  {
   "cell_type": "markdown",
   "id": "0f8da82e",
   "metadata": {
    "papermill": {
     "duration": 0.123379,
     "end_time": "2023-08-26T04:44:44.757197",
     "exception": false,
     "start_time": "2023-08-26T04:44:44.633818",
     "status": "completed"
    },
    "tags": []
   },
   "source": [
    "# NOTE: Move submit_v4 submissions below the suubmit_v4 function  "
   ]
  },
  {
   "cell_type": "code",
   "execution_count": 149,
   "id": "6f514754",
   "metadata": {
    "execution": {
     "iopub.execute_input": "2023-08-26T04:44:45.024703Z",
     "iopub.status.busy": "2023-08-26T04:44:45.023960Z",
     "iopub.status.idle": "2023-08-26T04:44:45.029729Z",
     "shell.execute_reply": "2023-08-26T04:44:45.028161Z"
    },
    "papermill": {
     "duration": 0.150185,
     "end_time": "2023-08-26T04:44:45.033065",
     "exception": false,
     "start_time": "2023-08-26T04:44:44.882880",
     "status": "completed"
    },
    "tags": []
   },
   "outputs": [],
   "source": [
    "# Try 'submit_v4' function with default params (LogisticRegression model)  \n",
    "\n",
    "# submit_v4()\n",
    "\n",
    "#Default params to this function gave a score of 0.8259 - improvement over previous score of 0.82563!"
   ]
  },
  {
   "cell_type": "code",
   "execution_count": 150,
   "id": "1cd1625b",
   "metadata": {
    "execution": {
     "iopub.execute_input": "2023-08-26T04:44:45.291196Z",
     "iopub.status.busy": "2023-08-26T04:44:45.290755Z",
     "iopub.status.idle": "2023-08-26T04:44:45.295898Z",
     "shell.execute_reply": "2023-08-26T04:44:45.294506Z"
    },
    "papermill": {
     "duration": 0.137813,
     "end_time": "2023-08-26T04:44:45.299126",
     "exception": false,
     "start_time": "2023-08-26T04:44:45.161313",
     "status": "completed"
    },
    "tags": []
   },
   "outputs": [],
   "source": [
    "# Try out GridSearchCV on \"submit_v4\" function with param_grid  \n",
    "# param_grid = {\n",
    "#     \"model__C\": [0.1, 1, 5, 10]\n",
    "# }\n",
    "\n",
    "# submit_v4(selected_features={'txt': ['genre']}, param_grid=param_grid)"
   ]
  },
  {
   "cell_type": "markdown",
   "id": "214c508c",
   "metadata": {
    "papermill": {
     "duration": 0.125944,
     "end_time": "2023-08-26T04:44:45.552916",
     "exception": false,
     "start_time": "2023-08-26T04:44:45.426972",
     "status": "completed"
    },
    "tags": []
   },
   "source": [
    "### Try LinearSVC with GridSearchCV  "
   ]
  },
  {
   "cell_type": "code",
   "execution_count": 151,
   "id": "27c78f88",
   "metadata": {
    "execution": {
     "iopub.execute_input": "2023-08-26T04:44:45.807599Z",
     "iopub.status.busy": "2023-08-26T04:44:45.807151Z",
     "iopub.status.idle": "2023-08-26T04:44:45.812769Z",
     "shell.execute_reply": "2023-08-26T04:44:45.811508Z"
    },
    "papermill": {
     "duration": 0.136805,
     "end_time": "2023-08-26T04:44:45.815805",
     "exception": false,
     "start_time": "2023-08-26T04:44:45.679000",
     "status": "completed"
    },
    "tags": []
   },
   "outputs": [],
   "source": [
    "# all_dict = {'cat': [\"isFrequentReviewer\", \"rating\", \"originalLanguage\"],\n",
    "#              'num': [\"audienceScore\", \"runtimeMinutes\", \"boxOffice\"],\n",
    "#              'txt': ['reviewText', 'reviewerName', 'movieid', 'genre', 'director']}\n",
    "\n",
    "# param_grid_svc = {\n",
    "#     \"model__C\": [0.1, 1, 10, 100]\n",
    "# }\n",
    "# param_grid_svc"
   ]
  },
  {
   "cell_type": "code",
   "execution_count": 152,
   "id": "2cfb3df5",
   "metadata": {
    "execution": {
     "iopub.execute_input": "2023-08-26T04:44:46.192841Z",
     "iopub.status.busy": "2023-08-26T04:44:46.192446Z",
     "iopub.status.idle": "2023-08-26T04:44:46.197269Z",
     "shell.execute_reply": "2023-08-26T04:44:46.196114Z"
    },
    "papermill": {
     "duration": 0.254643,
     "end_time": "2023-08-26T04:44:46.200267",
     "exception": false,
     "start_time": "2023-08-26T04:44:45.945624",
     "status": "completed"
    },
    "tags": []
   },
   "outputs": [],
   "source": [
    "# LinearSCV on single feature  \n",
    "\n",
    "# submit_v4(selected_model=LinearSVC(max_iter=100000, random_state=42), selected_features={'num': [\"audienceScore\"]}, param_grid=param_grid_svc)\n",
    "\n",
    "# Comment: LinearSVC even on single column feature set takes too long to converge."
   ]
  },
  {
   "cell_type": "code",
   "execution_count": 153,
   "id": "9b700bfe",
   "metadata": {
    "execution": {
     "iopub.execute_input": "2023-08-26T04:44:46.459799Z",
     "iopub.status.busy": "2023-08-26T04:44:46.459058Z",
     "iopub.status.idle": "2023-08-26T04:44:46.464801Z",
     "shell.execute_reply": "2023-08-26T04:44:46.463385Z"
    },
    "papermill": {
     "duration": 0.140708,
     "end_time": "2023-08-26T04:44:46.467910",
     "exception": false,
     "start_time": "2023-08-26T04:44:46.327202",
     "status": "completed"
    },
    "tags": []
   },
   "outputs": [],
   "source": [
    "# LinearSCV on all available features\n",
    "\n",
    "# submit_v4(selected_model=LinearSVC(max_iter=100000, random_state=42), selected_features=all_dict, param_grid=param_grid_svc)\n",
    "\n",
    "# (Update): This took 66 mins to run and gave a public score of 0.84295 (lesser than logreg gridsearchcv wwhich gave 0.84441). Best C was 1.0.\n"
   ]
  },
  {
   "cell_type": "markdown",
   "id": "2e9004b6",
   "metadata": {
    "papermill": {
     "duration": 0.128142,
     "end_time": "2023-08-26T04:44:46.725601",
     "exception": false,
     "start_time": "2023-08-26T04:44:46.597459",
     "status": "completed"
    },
    "tags": []
   },
   "source": [
    "### Boosting techniques  "
   ]
  },
  {
   "cell_type": "code",
   "execution_count": 154,
   "id": "7ae29c3e",
   "metadata": {
    "execution": {
     "iopub.execute_input": "2023-08-26T04:44:46.987785Z",
     "iopub.status.busy": "2023-08-26T04:44:46.987347Z",
     "iopub.status.idle": "2023-08-26T04:44:46.992516Z",
     "shell.execute_reply": "2023-08-26T04:44:46.991330Z"
    },
    "papermill": {
     "duration": 0.14144,
     "end_time": "2023-08-26T04:44:46.995303",
     "exception": false,
     "start_time": "2023-08-26T04:44:46.853863",
     "status": "completed"
    },
    "tags": []
   },
   "outputs": [],
   "source": [
    "# adc = AdaBoostClassifier(estimator=LogisticRegression(C=5, solver=\"saga\", max_iter=100000), n_estimators=50)\n",
    "# adc"
   ]
  },
  {
   "cell_type": "code",
   "execution_count": 155,
   "id": "0228cebc",
   "metadata": {
    "execution": {
     "iopub.execute_input": "2023-08-26T04:44:47.257453Z",
     "iopub.status.busy": "2023-08-26T04:44:47.257030Z",
     "iopub.status.idle": "2023-08-26T04:44:47.262090Z",
     "shell.execute_reply": "2023-08-26T04:44:47.261090Z"
    },
    "papermill": {
     "duration": 0.136759,
     "end_time": "2023-08-26T04:44:47.264568",
     "exception": false,
     "start_time": "2023-08-26T04:44:47.127809",
     "status": "completed"
    },
    "tags": []
   },
   "outputs": [],
   "source": [
    "# submit_v4(selected_model=adc, selected_features={'num': [\"audienceScore\"]}, param_grid=None)"
   ]
  },
  {
   "cell_type": "code",
   "execution_count": 156,
   "id": "95a529b1",
   "metadata": {
    "execution": {
     "iopub.execute_input": "2023-08-26T04:44:47.530766Z",
     "iopub.status.busy": "2023-08-26T04:44:47.530370Z",
     "iopub.status.idle": "2023-08-26T04:44:47.535270Z",
     "shell.execute_reply": "2023-08-26T04:44:47.534273Z"
    },
    "papermill": {
     "duration": 0.140434,
     "end_time": "2023-08-26T04:44:47.537861",
     "exception": false,
     "start_time": "2023-08-26T04:44:47.397427",
     "status": "completed"
    },
    "tags": []
   },
   "outputs": [],
   "source": [
    "# submit_v4(selected_model=adc, selected_features=all_dict, param_grid=None)\n",
    "\n",
    "# Took 1 hour 15 mins to run and gave a public score of only 0.71089. Discarded."
   ]
  },
  {
   "cell_type": "markdown",
   "id": "8a10d831",
   "metadata": {
    "papermill": {
     "duration": 0.126002,
     "end_time": "2023-08-26T04:44:47.790898",
     "exception": false,
     "start_time": "2023-08-26T04:44:47.664896",
     "status": "completed"
    },
    "tags": []
   },
   "source": [
    "### LightGBM  "
   ]
  },
  {
   "cell_type": "code",
   "execution_count": 157,
   "id": "a5b2238e",
   "metadata": {
    "execution": {
     "iopub.execute_input": "2023-08-26T04:44:48.061711Z",
     "iopub.status.busy": "2023-08-26T04:44:48.060813Z",
     "iopub.status.idle": "2023-08-26T04:44:48.066687Z",
     "shell.execute_reply": "2023-08-26T04:44:48.065075Z"
    },
    "papermill": {
     "duration": 0.147025,
     "end_time": "2023-08-26T04:44:48.070272",
     "exception": false,
     "start_time": "2023-08-26T04:44:47.923247",
     "status": "completed"
    },
    "tags": []
   },
   "outputs": [],
   "source": [
    "# lgb = ltb.LGBMClassifier()\n",
    "# lgb"
   ]
  },
  {
   "cell_type": "code",
   "execution_count": 158,
   "id": "022ad00b",
   "metadata": {
    "execution": {
     "iopub.execute_input": "2023-08-26T04:44:48.326190Z",
     "iopub.status.busy": "2023-08-26T04:44:48.325760Z",
     "iopub.status.idle": "2023-08-26T04:44:48.331647Z",
     "shell.execute_reply": "2023-08-26T04:44:48.330091Z"
    },
    "papermill": {
     "duration": 0.136061,
     "end_time": "2023-08-26T04:44:48.335279",
     "exception": false,
     "start_time": "2023-08-26T04:44:48.199218",
     "status": "completed"
    },
    "tags": []
   },
   "outputs": [],
   "source": [
    "# Try LightGBM with default settings\n",
    "# (Update): Public score only 0.77713. It was fast, took less than 5 mins (without GridSearchCV)\n",
    "\n",
    "# submit_v4(selected_model=ltb.LGBMClassifier(), selected_features=all_dict, param_grid=None)"
   ]
  },
  {
   "cell_type": "markdown",
   "id": "17ae3aab",
   "metadata": {
    "papermill": {
     "duration": 0.125266,
     "end_time": "2023-08-26T04:44:48.586663",
     "exception": false,
     "start_time": "2023-08-26T04:44:48.461397",
     "status": "completed"
    },
    "tags": []
   },
   "source": [
    "## Feature Engineering"
   ]
  },
  {
   "cell_type": "markdown",
   "id": "73144f35",
   "metadata": {
    "papermill": {
     "duration": 0.128108,
     "end_time": "2023-08-26T04:44:48.843907",
     "exception": false,
     "start_time": "2023-08-26T04:44:48.715799",
     "status": "completed"
    },
    "tags": []
   },
   "source": [
    "### Plan  \n",
    "* Add a new column 'reviewWC' which has word count of 'reviewText'  \n",
    "    * Check if there is any relationship between 'reviewWC' and 'sentiment'\n",
    "* Work on vocabulary\n",
    "     * Use TfidfVectorizer and find out the vocabulary of 'reviewText' column for various ngrams\n",
    "     * Use RecursiveFeatureElimination (RFE) or RFECV to select 1000 top words/vocab for each ngram\n",
    "     * Use the final vocab (1000-3000 words) in the model and see how it performs compared to whole vocab\n",
    "\n",
    "`(Update): Code incorporated into the \"select_features\" function  `  \n",
    "`(Update): Many other new features incorporated into the \"select_features\" function too  `  \n",
    "\n"
   ]
  },
  {
   "cell_type": "markdown",
   "id": "9a9a421b",
   "metadata": {
    "papermill": {
     "duration": 0.133753,
     "end_time": "2023-08-26T04:44:49.105471",
     "exception": false,
     "start_time": "2023-08-26T04:44:48.971718",
     "status": "completed"
    },
    "tags": []
   },
   "source": [
    "# Back to vocab after success of version 63  "
   ]
  },
  {
   "cell_type": "code",
   "execution_count": 159,
   "id": "f503603c",
   "metadata": {
    "execution": {
     "iopub.execute_input": "2023-08-26T04:44:49.363355Z",
     "iopub.status.busy": "2023-08-26T04:44:49.362917Z",
     "iopub.status.idle": "2023-08-26T04:44:49.386331Z",
     "shell.execute_reply": "2023-08-26T04:44:49.384989Z"
    },
    "papermill": {
     "duration": 0.155121,
     "end_time": "2023-08-26T04:44:49.389359",
     "exception": false,
     "start_time": "2023-08-26T04:44:49.234238",
     "status": "completed"
    },
    "tags": []
   },
   "outputs": [],
   "source": [
    "def submit_v4(selected_model=LogisticRegression(C=1, solver='liblinear', max_iter=100000), \n",
    "              selected_features={'txt': ['reviewText']}, \n",
    "              param_grid=None,\n",
    "              vocab=None,\n",
    "              vocab_usage='tfidf',\n",
    "              strip_accents='unicode', \n",
    "              add_countvec=False):\n",
    "    \n",
    "    print(\"\\nRunning the submit_v4 function...\")\n",
    "    \n",
    "    # Fine tune selected_features\n",
    "    if add_countvec:\n",
    "        if 'txt' in selected_features.keys():\n",
    "            if \"reviewText_2\" not in selected_features['txt']:\n",
    "                selected_features['txt'].append('reviewText_2')\n",
    "    if vocab:\n",
    "        if 'txt' in selected_features.keys():\n",
    "            if \"reviewText_3\" not in selected_features['txt']:\n",
    "                selected_features['txt'].append('reviewText_3')\n",
    "    print(f\"\\nSelected features: {selected_features}\")\n",
    "\n",
    "    \n",
    "    \n",
    "    # Build Pipeline\n",
    "    pipe = build_pipeline(selected_model, selected_features, param_grid=param_grid, \n",
    "                          vocab=vocab, vocab_usage='tfidf', \n",
    "                          strip_accents=strip_accents, add_countvec=add_countvec)\n",
    "    print(pipe)\n",
    "\n",
    "    \n",
    "    \n",
    "    # Features list\n",
    "    features = []\n",
    "    for item in selected_features.values():\n",
    "        features.extend(item)\n",
    " \n",
    "\n",
    "    # Merge and preprocess train and movies data  \n",
    "    merged = select_features(load_csv(\"train\"), load_csv(\"movies\"), row_thresh_null=None)    # Decide if you want to drop any rows containing lot of nulls\n",
    "    # Impute missing numerical values  \n",
    "    # Simple Imputer for ['audienceScore', 'runtimeMinutes', 'boxOffice'] and 'releaseDate' columns\n",
    "    si = SimpleImputer(strategy='median')\n",
    "    merged[['audienceScore', 'runtimeMinutes', 'boxOffice']] = si.fit_transform(merged[['audienceScore', 'runtimeMinutes', 'boxOffice']])\n",
    "    merged['releaseDate'] = merged[\"releaseDate\"].fillna(merged[\"releaseDate\"].median())    \n",
    "    # Add new columns as needed  \n",
    "    if add_countvec:\n",
    "        merged['reviewText_2'] = merged['reviewText']\n",
    "    if vocab:\n",
    "        merged['reviewText_3'] = merged['reviewText']\n",
    "        \n",
    "    X_train = merged.drop(labels=\"sentiment\", axis=1)\n",
    "    y_train = merged[\"sentiment\"]\n",
    "\n",
    "    X_train = X_train[features]\n",
    "    \n",
    "    \n",
    "    # Check1\n",
    "    print(\"\\nCheck 1 complete.\")\n",
    "    print(f\"Shape of X_train: {X_train.shape}\")\n",
    "    print(f\"Features in X_train: {X_train.columns}\")\n",
    "#     print(X_train.head())\n",
    "    \n",
    "    \n",
    "    # Fit \n",
    "    print(\"\\nTraining started with full pipeline...\")\n",
    "    pipe.fit(X_train, y_train)\n",
    "    \n",
    "    # Check2\n",
    "    print(\"\\nCheck 2 complete.\")\n",
    "    print(\"Details of the best model using full pipeline (GridSearchCV) on X_train: \")\n",
    "    print(f\"Best Params: {pipe.best_params_}\")\n",
    "    print(f\"Best Score: {pipe.best_score_}\")\n",
    "    \n",
    "    print(predict_on_missing_review_data(pipe, features, merged))    # Function defined above\n",
    "    \n",
    "        \n",
    "    # Predict on test.csv file\n",
    "    \n",
    "    # Merge and preprocess test and movies data  \n",
    "    merged_test = select_features(load_csv(\"test\"), load_csv(\"movies\"))\n",
    "    # Transform ['audienceScore', 'runtimeMinutes', 'boxOffice'] columns in merged_test using 'si' fitted on 'merged' df  \n",
    "    merged_test[['audienceScore', 'runtimeMinutes', 'boxOffice']] = si.transform(merged_test[['audienceScore', 'runtimeMinutes', 'boxOffice']])\n",
    "    # Fill 'releaseDate' column in 'merged_test' df with median from the train (merged) df  \n",
    "    merged_test['releaseDate'] = merged_test[\"releaseDate\"].fillna(merged[\"releaseDate\"].median())\n",
    "    # Add new columns as needed \n",
    "    if add_countvec:\n",
    "        merged_test['reviewText_2'] = merged_test['reviewText']\n",
    "    if vocab:\n",
    "        merged_test['reviewText_3'] = merged_test['reviewText']\n",
    "        \n",
    "    X_test = merged_test.copy()\n",
    "\n",
    "    X_test = X_test[features]\n",
    "    \n",
    "    \n",
    "    # Check3\n",
    "    print(\"\\nCheck 3 complete.\")\n",
    "    print(f\"Shape of X_test: {X_test.shape}\")\n",
    "    print(f\"Features in X_test: {X_test.columns}\")\n",
    "#     print(X_test.head())\n",
    "    \n",
    "    y_pred = pipe.predict(X_test)\n",
    "    \n",
    "    # Check4\n",
    "    print(\"\\nCheck 4 complete.\")\n",
    "#     cv_results_df = pd.DataFrame(pipe.cv_results_)\n",
    "    print(\"Details of the best model using full pipeline (GridSearchCV) on X_train: \")\n",
    "    print(f\"Best Estimator: {pipe.best_estimator_}\")\n",
    "    print(f\"Best Params: {pipe.best_params_}\")\n",
    "    print(f\"Best Score: {pipe.best_score_}\")\n",
    "    print(f\"Best Index: {pipe.best_index_}\")\n",
    "    print(f\"Refit Time: {pipe.refit_time_}\")\n",
    "#     print(f\"Shape of CV results dataframe: {cv_results_df.shape}\")\n",
    "    \n",
    "    pred_df = pd.DataFrame(y_pred)\n",
    "    pred_df.columns = [\"sentiment\"]\n",
    "    pred_df.index.name = \"id\"\n",
    "    pred_df.to_csv(\"submission.csv\")\n",
    "    \n",
    "    print(\"\\nSuccessfully created the submission file!!!\")\n",
    "    \n",
    "    return pipe.cv_results_"
   ]
  },
  {
   "cell_type": "code",
   "execution_count": 160,
   "id": "d823226c",
   "metadata": {
    "execution": {
     "iopub.execute_input": "2023-08-26T04:44:49.646381Z",
     "iopub.status.busy": "2023-08-26T04:44:49.645573Z",
     "iopub.status.idle": "2023-08-26T04:44:49.652754Z",
     "shell.execute_reply": "2023-08-26T04:44:49.651832Z"
    },
    "papermill": {
     "duration": 0.138779,
     "end_time": "2023-08-26T04:44:49.655279",
     "exception": false,
     "start_time": "2023-08-26T04:44:49.516500",
     "status": "completed"
    },
    "tags": []
   },
   "outputs": [
    {
     "data": {
      "text/plain": [
       "Index(['movieid', 'reviewerName', 'isFrequentReviewer', 'reviewText',\n",
       "       'sentiment', 'title', 'audienceScore', 'rating', 'ratingContents',\n",
       "       'releaseDateTheaters', 'releaseDateStreaming', 'runtimeMinutes',\n",
       "       'genre', 'originalLanguage', 'director', 'boxOffice', 'distributor',\n",
       "       'soundType', 'reviewYN', 'reviewWC', 'genreSorted', 'rcSorted',\n",
       "       'releaseDate', 'releaseYear', 'releaseMonth', 'releaseDiff'],\n",
       "      dtype='object')"
      ]
     },
     "execution_count": 160,
     "metadata": {},
     "output_type": "execute_result"
    }
   ],
   "source": [
    "merged.columns"
   ]
  },
  {
   "cell_type": "code",
   "execution_count": 161,
   "id": "dbe442e2",
   "metadata": {
    "execution": {
     "iopub.execute_input": "2023-08-26T04:44:49.915495Z",
     "iopub.status.busy": "2023-08-26T04:44:49.914957Z",
     "iopub.status.idle": "2023-08-26T04:44:49.925882Z",
     "shell.execute_reply": "2023-08-26T04:44:49.924913Z"
    },
    "papermill": {
     "duration": 0.144222,
     "end_time": "2023-08-26T04:44:49.928777",
     "exception": false,
     "start_time": "2023-08-26T04:44:49.784555",
     "status": "completed"
    },
    "tags": []
   },
   "outputs": [],
   "source": [
    "# Best #2\n",
    "v80_dict = {'cat': ['isFrequentReviewer', 'audScoreBins', 'boxOfficeBins'], \n",
    "                  'txt': ['reviewText', 'reviewerName', 'movieid', 'genre', 'director', \n",
    "                          'ratingContents', 'distributor']}\n",
    "# Best #1\n",
    "v88_dict = {'cat': ['isFrequentReviewer', 'audScoreBins', 'boxOfficeBins'],\n",
    "            'num': ['releaseDiff'],\n",
    "            'txt': ['reviewText', 'reviewerName', 'movieid', 'genre', 'director', \n",
    "                         'ratingContents', 'distributor']}\n",
    "\n",
    "v92_dict = {'cat': ['isFrequentReviewer', 'audScoreBins', 'boxOfficeBins', 'releaseDiffBins'],\n",
    "            'txt': ['reviewText', 'reviewerName', 'title', 'genre', 'director', \n",
    "                         'ratingContents', 'distributor']}\n",
    "\n",
    "# Best univariable datapoints dict\n",
    "best_uni_dict = {'cat': [\"isFrequentReviewer\", \"audScoreBins\"],\n",
    "                 'txt': ['reviewText','movieid', 'director', \"ratingContents\"]}\n",
    "\n",
    "# param_grids for LogisticRegression  \n",
    "\n",
    "# Best #1  \n",
    "# param_grid = {\n",
    "#     'model__C' : [1],\n",
    "#     'model__solver': ['saga'],\n",
    "#     \"model__fit_intercept\" : [True],\n",
    "#     \"model__dual\" : [False]\n",
    "#     }\n",
    "\n",
    "# working\n",
    "param_grid = {\n",
    "    'model__C' : [1],\n",
    "    'model__solver': ['saga'],\n",
    "    \"model__fit_intercept\" : [True],\n",
    "    \"model__dual\" : [False],\n",
    "#     \"model__class_weight\": ['balanced', None]\n",
    "}\n",
    "\n",
    "\n",
    "# param_grids for LinearSVC  \n",
    "\n",
    "# param_grid = {\n",
    "#     'model__C' : [1, 10, 20],\n",
    "#     'model__loss': ['hinge', 'squared_hinge'],\n",
    "#     \"model__fit_intercept\" : [True, False],\n",
    "# #     \"model__dual\" : [True, False] \n",
    "# }\n",
    "\n",
    "svm = LinearSVC(max_iter=10000, random_state=42)    # LinearSVC\n",
    "\n",
    "\n",
    "# Local testing\n",
    "# selected_mov = {'num': ['audienceScore', 'boxOffice', 'releaseDiff'], \n",
    "#                 'txt': ['movieid', 'genre', 'director', \n",
    "#                          'ratingContents', 'distributor']}\n",
    "# results = submit_v4(\n",
    "#             selected_features={'num': ['boxOffice']},\n",
    "#             add_countvec=False,\n",
    "#             vocab=None,\n",
    "#             vocab_usage='tfidf',\n",
    "#             param_grid=param_grid\n",
    "#          )\n",
    "\n",
    "# results = submit_v4(selected_model = DummyClassifier(strategy='constant', constant='NEGATIVE'),\n",
    "#             selected_features={'num': ['boxOffice']},\n",
    "#             add_countvec=False,\n",
    "#             vocab=None,\n",
    "#             vocab_usage='tfidf',\n",
    "#             param_grid={'model__strategy' : ['constant']}\n",
    "#          )\n",
    "\n",
    "# Main submission\n",
    "\n",
    "# results = submit_v4(\n",
    "#     selected_features=v88_dict,\n",
    "#     add_countvec=False,\n",
    "#     vocab=common_1_2_3_grams,\n",
    "#     vocab_usage='tfidf',\n",
    "#     param_grid=param_grid\n",
    "#     )\n",
    "\n",
    "# results"
   ]
  },
  {
   "cell_type": "markdown",
   "id": "0f91e7d1",
   "metadata": {
    "papermill": {
     "duration": 0.129292,
     "end_time": "2023-08-26T04:44:50.190673",
     "exception": false,
     "start_time": "2023-08-26T04:44:50.061381",
     "status": "completed"
    },
    "tags": []
   },
   "source": [
    "### ratingContents analysis  "
   ]
  },
  {
   "cell_type": "code",
   "execution_count": 162,
   "id": "237ddce9",
   "metadata": {
    "execution": {
     "iopub.execute_input": "2023-08-26T04:44:50.445391Z",
     "iopub.status.busy": "2023-08-26T04:44:50.444918Z",
     "iopub.status.idle": "2023-08-26T04:44:50.449348Z",
     "shell.execute_reply": "2023-08-26T04:44:50.448310Z"
    },
    "papermill": {
     "duration": 0.134772,
     "end_time": "2023-08-26T04:44:50.452156",
     "exception": false,
     "start_time": "2023-08-26T04:44:50.317384",
     "status": "completed"
    },
    "tags": []
   },
   "outputs": [],
   "source": [
    "# Try string split  \n",
    "# s = \"comedy, animation, adventure, fantasy\"\n",
    "# (\",\").join(sorted(s.split(\", \")))"
   ]
  },
  {
   "cell_type": "code",
   "execution_count": 163,
   "id": "52fec08f",
   "metadata": {
    "execution": {
     "iopub.execute_input": "2023-08-26T04:44:50.710665Z",
     "iopub.status.busy": "2023-08-26T04:44:50.710163Z",
     "iopub.status.idle": "2023-08-26T04:44:50.716198Z",
     "shell.execute_reply": "2023-08-26T04:44:50.714401Z"
    },
    "papermill": {
     "duration": 0.140736,
     "end_time": "2023-08-26T04:44:50.719842",
     "exception": false,
     "start_time": "2023-08-26T04:44:50.579106",
     "status": "completed"
    },
    "tags": []
   },
   "outputs": [],
   "source": [
    "# ratingContents_analysis = merged[[\"ratingContents\", \"sentiment\"]].copy()\n",
    "# print(ratingContents_analysis.head())\n",
    "# ratingContents_analysis[\"rcSorted\"] = ratingContents_analysis[\"ratingContents\"].apply(lambda x: (\",\").join(sorted(x.strip(\"][\").split(\", \"))))\n",
    "# ratingContents_analysis[\"rcSorted\"] = ratingContents_analysis[\"rcSorted\"].apply(lambda x: re.sub(r\"'\", \"\", x))\n",
    "# ratingContents_analysis[\"rcSorted\"] = ratingContents_analysis[\"rcSorted\"].apply(lambda x: re.sub(r\"[/\\s]\", \"_\", x))\n",
    "# ratingContents_analysis.head(10)"
   ]
  },
  {
   "cell_type": "code",
   "execution_count": 164,
   "id": "46ad9601",
   "metadata": {
    "execution": {
     "iopub.execute_input": "2023-08-26T04:44:50.977247Z",
     "iopub.status.busy": "2023-08-26T04:44:50.976756Z",
     "iopub.status.idle": "2023-08-26T04:44:50.982953Z",
     "shell.execute_reply": "2023-08-26T04:44:50.981351Z"
    },
    "papermill": {
     "duration": 0.13819,
     "end_time": "2023-08-26T04:44:50.985555",
     "exception": false,
     "start_time": "2023-08-26T04:44:50.847365",
     "status": "completed"
    },
    "tags": []
   },
   "outputs": [],
   "source": [
    "# cvec_rc = CountVectorizer(ngram_range=(1,1))\n",
    "# cvec_rc.fit(ratingContents_analysis['rcSorted'])\n",
    "# # len(cvec_rc.vocabulary_), cvec_rc.vocabulary_"
   ]
  },
  {
   "cell_type": "code",
   "execution_count": 165,
   "id": "7b5418f9",
   "metadata": {
    "execution": {
     "iopub.execute_input": "2023-08-26T04:44:51.249212Z",
     "iopub.status.busy": "2023-08-26T04:44:51.248699Z",
     "iopub.status.idle": "2023-08-26T04:44:51.254282Z",
     "shell.execute_reply": "2023-08-26T04:44:51.252489Z"
    },
    "papermill": {
     "duration": 0.137819,
     "end_time": "2023-08-26T04:44:51.257478",
     "exception": false,
     "start_time": "2023-08-26T04:44:51.119659",
     "status": "completed"
    },
    "tags": []
   },
   "outputs": [],
   "source": [
    "# genre_testing = cvec_g.transform(merged[\"genre\"])\n",
    "# print(genre_testing)"
   ]
  },
  {
   "cell_type": "markdown",
   "id": "bba2731d",
   "metadata": {
    "papermill": {
     "duration": 0.129631,
     "end_time": "2023-08-26T04:44:51.517134",
     "exception": false,
     "start_time": "2023-08-26T04:44:51.387503",
     "status": "completed"
    },
    "tags": []
   },
   "source": [
    "## Statistical tests  "
   ]
  },
  {
   "cell_type": "markdown",
   "id": "ffe824b5",
   "metadata": {
    "papermill": {
     "duration": 0.126429,
     "end_time": "2023-08-26T04:44:51.769571",
     "exception": false,
     "start_time": "2023-08-26T04:44:51.643142",
     "status": "completed"
    },
    "tags": []
   },
   "source": [
    "[Go to genre](#genre_analysis)"
   ]
  },
  {
   "cell_type": "code",
   "execution_count": 166,
   "id": "41f5eef8",
   "metadata": {
    "execution": {
     "iopub.execute_input": "2023-08-26T04:44:52.042193Z",
     "iopub.status.busy": "2023-08-26T04:44:52.041289Z",
     "iopub.status.idle": "2023-08-26T04:44:52.047072Z",
     "shell.execute_reply": "2023-08-26T04:44:52.045738Z"
    },
    "papermill": {
     "duration": 0.151633,
     "end_time": "2023-08-26T04:44:52.050131",
     "exception": false,
     "start_time": "2023-08-26T04:44:51.898498",
     "status": "completed"
    },
    "tags": []
   },
   "outputs": [],
   "source": [
    "# print(merged['boxOffice'].head())\n",
    "# merged[\"boxOffice\"].describe()"
   ]
  },
  {
   "cell_type": "code",
   "execution_count": 167,
   "id": "c9eec50c",
   "metadata": {
    "execution": {
     "iopub.execute_input": "2023-08-26T04:44:52.308280Z",
     "iopub.status.busy": "2023-08-26T04:44:52.307779Z",
     "iopub.status.idle": "2023-08-26T04:44:52.313734Z",
     "shell.execute_reply": "2023-08-26T04:44:52.312453Z"
    },
    "papermill": {
     "duration": 0.138119,
     "end_time": "2023-08-26T04:44:52.318065",
     "exception": false,
     "start_time": "2023-08-26T04:44:52.179946",
     "status": "completed"
    },
    "tags": []
   },
   "outputs": [],
   "source": [
    "# Function for independent samples t-test on numerical columns  \n",
    "# def ttest_ind(feature):\n",
    "#     pos_grp = merged[feature].loc[merged['sentiment'] == \"POSITIVE\"]\n",
    "#     neg_grp = merged[feature].loc[merged['sentiment'] == \"NEGATIVE\"]\n",
    "\n",
    "#     print(pos_grp.shape, neg_grp.shape)\n",
    "#     print(pos_grp.describe(), neg_grp.describe())\n",
    "\n",
    "#     return stats.ttest_ind(pos_grp, neg_grp)"
   ]
  },
  {
   "cell_type": "code",
   "execution_count": 168,
   "id": "cabe1f3d",
   "metadata": {
    "execution": {
     "iopub.execute_input": "2023-08-26T04:44:52.599991Z",
     "iopub.status.busy": "2023-08-26T04:44:52.599554Z",
     "iopub.status.idle": "2023-08-26T04:44:52.605812Z",
     "shell.execute_reply": "2023-08-26T04:44:52.604051Z"
    },
    "papermill": {
     "duration": 0.157008,
     "end_time": "2023-08-26T04:44:52.608792",
     "exception": false,
     "start_time": "2023-08-26T04:44:52.451784",
     "status": "completed"
    },
    "tags": []
   },
   "outputs": [],
   "source": [
    "# ttest_ind('boxOffice')"
   ]
  },
  {
   "cell_type": "code",
   "execution_count": 169,
   "id": "56618a8a",
   "metadata": {
    "execution": {
     "iopub.execute_input": "2023-08-26T04:44:52.870537Z",
     "iopub.status.busy": "2023-08-26T04:44:52.870130Z",
     "iopub.status.idle": "2023-08-26T04:44:52.875781Z",
     "shell.execute_reply": "2023-08-26T04:44:52.873915Z"
    },
    "papermill": {
     "duration": 0.136497,
     "end_time": "2023-08-26T04:44:52.878303",
     "exception": false,
     "start_time": "2023-08-26T04:44:52.741806",
     "status": "completed"
    },
    "tags": []
   },
   "outputs": [],
   "source": [
    "# ttest_ind('runtimeMinutes')"
   ]
  },
  {
   "cell_type": "code",
   "execution_count": 170,
   "id": "ecb428e8",
   "metadata": {
    "execution": {
     "iopub.execute_input": "2023-08-26T04:44:53.141688Z",
     "iopub.status.busy": "2023-08-26T04:44:53.141220Z",
     "iopub.status.idle": "2023-08-26T04:44:53.146623Z",
     "shell.execute_reply": "2023-08-26T04:44:53.144865Z"
    },
    "papermill": {
     "duration": 0.136707,
     "end_time": "2023-08-26T04:44:53.150085",
     "exception": false,
     "start_time": "2023-08-26T04:44:53.013378",
     "status": "completed"
    },
    "tags": []
   },
   "outputs": [],
   "source": [
    "# ttest_ind('audienceScore')"
   ]
  },
  {
   "cell_type": "code",
   "execution_count": 171,
   "id": "cd293157",
   "metadata": {
    "execution": {
     "iopub.execute_input": "2023-08-26T04:44:53.515231Z",
     "iopub.status.busy": "2023-08-26T04:44:53.514739Z",
     "iopub.status.idle": "2023-08-26T04:44:53.520818Z",
     "shell.execute_reply": "2023-08-26T04:44:53.519252Z"
    },
    "papermill": {
     "duration": 0.243319,
     "end_time": "2023-08-26T04:44:53.523715",
     "exception": false,
     "start_time": "2023-08-26T04:44:53.280396",
     "status": "completed"
    },
    "tags": []
   },
   "outputs": [],
   "source": [
    "# sns.boxplot(x=merged['sentiment'], y=merged['boxOffice'])"
   ]
  },
  {
   "cell_type": "markdown",
   "id": "05d0b455",
   "metadata": {
    "papermill": {
     "duration": 0.126145,
     "end_time": "2023-08-26T04:44:53.778916",
     "exception": false,
     "start_time": "2023-08-26T04:44:53.652771",
     "status": "completed"
    },
    "tags": []
   },
   "source": [
    "## <div id='genre_analysis'>Genre analysis</div>"
   ]
  },
  {
   "cell_type": "code",
   "execution_count": 172,
   "id": "02d76a74",
   "metadata": {
    "execution": {
     "iopub.execute_input": "2023-08-26T04:44:54.037875Z",
     "iopub.status.busy": "2023-08-26T04:44:54.037438Z",
     "iopub.status.idle": "2023-08-26T04:44:54.042674Z",
     "shell.execute_reply": "2023-08-26T04:44:54.041328Z"
    },
    "papermill": {
     "duration": 0.141018,
     "end_time": "2023-08-26T04:44:54.045372",
     "exception": false,
     "start_time": "2023-08-26T04:44:53.904354",
     "status": "completed"
    },
    "tags": []
   },
   "outputs": [],
   "source": [
    "# genre_analysis = merged[[\"genre\", \"genreSorted\", \"sentiment\"]].copy()\n",
    "# # print(genre_analysis.head())\n",
    "# # genre_analysis[\"genre\"] = genre_analysis[\"genre\"].apply(lambda x: (\",\").join(sorted(x.split(\", \"))))\n",
    "# genre_analysis.head()"
   ]
  },
  {
   "cell_type": "code",
   "execution_count": 173,
   "id": "0058065c",
   "metadata": {
    "execution": {
     "iopub.execute_input": "2023-08-26T04:44:54.305846Z",
     "iopub.status.busy": "2023-08-26T04:44:54.305397Z",
     "iopub.status.idle": "2023-08-26T04:44:54.310501Z",
     "shell.execute_reply": "2023-08-26T04:44:54.309556Z"
    },
    "papermill": {
     "duration": 0.135975,
     "end_time": "2023-08-26T04:44:54.312624",
     "exception": false,
     "start_time": "2023-08-26T04:44:54.176649",
     "status": "completed"
    },
    "tags": []
   },
   "outputs": [],
   "source": [
    "# cvec_g = CountVectorizer(ngram_range=(1,3))\n",
    "# cvec_g.fit(genre_analysis['genre'])\n",
    "# # len(cvec_g.vocabulary_), cvec_g.vocabulary_"
   ]
  },
  {
   "cell_type": "code",
   "execution_count": 174,
   "id": "a2ce7c79",
   "metadata": {
    "execution": {
     "iopub.execute_input": "2023-08-26T04:44:54.572712Z",
     "iopub.status.busy": "2023-08-26T04:44:54.572306Z",
     "iopub.status.idle": "2023-08-26T04:44:54.576418Z",
     "shell.execute_reply": "2023-08-26T04:44:54.575450Z"
    },
    "papermill": {
     "duration": 0.137597,
     "end_time": "2023-08-26T04:44:54.578728",
     "exception": false,
     "start_time": "2023-08-26T04:44:54.441131",
     "status": "completed"
    },
    "tags": []
   },
   "outputs": [],
   "source": [
    "# cvec_gSorted = CountVectorizer(ngram_range=(1,3))\n",
    "# cvec_gSorted.fit(genre_analysis['genreSorted'])\n",
    "# len(cvec_gSorted.vocabulary_), cvec_gSorted.vocabulary_"
   ]
  },
  {
   "cell_type": "code",
   "execution_count": 175,
   "id": "6062d656",
   "metadata": {
    "execution": {
     "iopub.execute_input": "2023-08-26T04:44:54.834315Z",
     "iopub.status.busy": "2023-08-26T04:44:54.833533Z",
     "iopub.status.idle": "2023-08-26T04:44:54.838529Z",
     "shell.execute_reply": "2023-08-26T04:44:54.837229Z"
    },
    "papermill": {
     "duration": 0.135599,
     "end_time": "2023-08-26T04:44:54.841429",
     "exception": false,
     "start_time": "2023-08-26T04:44:54.705830",
     "status": "completed"
    },
    "tags": []
   },
   "outputs": [],
   "source": [
    "# genre_testing = cvec_g.transform(merged[\"genre\"])\n",
    "# # print(genre_testing)"
   ]
  },
  {
   "cell_type": "code",
   "execution_count": 176,
   "id": "944587ae",
   "metadata": {
    "execution": {
     "iopub.execute_input": "2023-08-26T04:44:55.107508Z",
     "iopub.status.busy": "2023-08-26T04:44:55.106746Z",
     "iopub.status.idle": "2023-08-26T04:44:55.110926Z",
     "shell.execute_reply": "2023-08-26T04:44:55.110089Z"
    },
    "papermill": {
     "duration": 0.141879,
     "end_time": "2023-08-26T04:44:55.113593",
     "exception": false,
     "start_time": "2023-08-26T04:44:54.971714",
     "status": "completed"
    },
    "tags": []
   },
   "outputs": [],
   "source": [
    "# genre_counts_testing = merged[[\"genre\", \"sentiment\"]].copy()\n",
    "# genre_counts_testing[\"gCount\"] = genre_counts_testing.apply(lambda x: len(str(x[\"genre\"]).split()), axis=1)\n",
    "# genre_counts_testing"
   ]
  },
  {
   "cell_type": "code",
   "execution_count": 177,
   "id": "4e982830",
   "metadata": {
    "execution": {
     "iopub.execute_input": "2023-08-26T04:44:55.377617Z",
     "iopub.status.busy": "2023-08-26T04:44:55.376939Z",
     "iopub.status.idle": "2023-08-26T04:44:55.382160Z",
     "shell.execute_reply": "2023-08-26T04:44:55.380571Z"
    },
    "papermill": {
     "duration": 0.139696,
     "end_time": "2023-08-26T04:44:55.385683",
     "exception": false,
     "start_time": "2023-08-26T04:44:55.245987",
     "status": "completed"
    },
    "tags": []
   },
   "outputs": [],
   "source": [
    "# sns.boxplot(y=genre_counts_testing[\"gCount\"], x=genre_counts_testing[\"sentiment\"])"
   ]
  },
  {
   "cell_type": "code",
   "execution_count": 178,
   "id": "482553b1",
   "metadata": {
    "execution": {
     "iopub.execute_input": "2023-08-26T04:44:55.652729Z",
     "iopub.status.busy": "2023-08-26T04:44:55.652103Z",
     "iopub.status.idle": "2023-08-26T04:44:55.656117Z",
     "shell.execute_reply": "2023-08-26T04:44:55.655182Z"
    },
    "papermill": {
     "duration": 0.141066,
     "end_time": "2023-08-26T04:44:55.659226",
     "exception": false,
     "start_time": "2023-08-26T04:44:55.518160",
     "status": "completed"
    },
    "tags": []
   },
   "outputs": [],
   "source": [
    "# sns.boxplot(y=merged[\"reviewWC\"], x=merged[\"sentiment\"])"
   ]
  },
  {
   "cell_type": "code",
   "execution_count": 179,
   "id": "4b8fff06",
   "metadata": {
    "execution": {
     "iopub.execute_input": "2023-08-26T04:44:55.919270Z",
     "iopub.status.busy": "2023-08-26T04:44:55.918639Z",
     "iopub.status.idle": "2023-08-26T04:44:55.922555Z",
     "shell.execute_reply": "2023-08-26T04:44:55.921669Z"
    },
    "papermill": {
     "duration": 0.137884,
     "end_time": "2023-08-26T04:44:55.925040",
     "exception": false,
     "start_time": "2023-08-26T04:44:55.787156",
     "status": "completed"
    },
    "tags": []
   },
   "outputs": [],
   "source": [
    "# audienceScore bins\n",
    "# asc = merged[['audienceScore', 'sentiment']].copy()\n",
    "# asc.head()"
   ]
  },
  {
   "cell_type": "code",
   "execution_count": 180,
   "id": "ac7bc0c2",
   "metadata": {
    "execution": {
     "iopub.execute_input": "2023-08-26T04:44:56.194909Z",
     "iopub.status.busy": "2023-08-26T04:44:56.194203Z",
     "iopub.status.idle": "2023-08-26T04:44:56.198663Z",
     "shell.execute_reply": "2023-08-26T04:44:56.197747Z"
    },
    "papermill": {
     "duration": 0.136808,
     "end_time": "2023-08-26T04:44:56.201482",
     "exception": false,
     "start_time": "2023-08-26T04:44:56.064674",
     "status": "completed"
    },
    "tags": []
   },
   "outputs": [],
   "source": [
    "# Binning numerical features  \n",
    "\n",
    "# print(merged[\"runtimeBins\"].value_counts())\n",
    "# sns.displot(merged[\"runtimeBins\"])"
   ]
  },
  {
   "cell_type": "code",
   "execution_count": 181,
   "id": "32fd33da",
   "metadata": {
    "execution": {
     "iopub.execute_input": "2023-08-26T04:44:56.459817Z",
     "iopub.status.busy": "2023-08-26T04:44:56.459184Z",
     "iopub.status.idle": "2023-08-26T04:44:56.463670Z",
     "shell.execute_reply": "2023-08-26T04:44:56.462775Z"
    },
    "papermill": {
     "duration": 0.135986,
     "end_time": "2023-08-26T04:44:56.466337",
     "exception": false,
     "start_time": "2023-08-26T04:44:56.330351",
     "status": "completed"
    },
    "tags": []
   },
   "outputs": [],
   "source": [
    "# Chi-square test for isFrequentReviewer column and sentiment column   \n",
    "\n",
    "# contingency_table = pd.crosstab(traindf['isFrequentReviewer'], traindf['sentiment'])\n",
    "# print(contingency_table)\n",
    "# stats.chi2_contingency(contingency_table)"
   ]
  },
  {
   "cell_type": "markdown",
   "id": "ceb95cdf",
   "metadata": {
    "papermill": {
     "duration": 0.128378,
     "end_time": "2023-08-26T04:44:56.721946",
     "exception": false,
     "start_time": "2023-08-26T04:44:56.593568",
     "status": "completed"
    },
    "tags": []
   },
   "source": [
    "## Baseline performance of 'reviewText' column  "
   ]
  },
  {
   "cell_type": "code",
   "execution_count": 182,
   "id": "abe90c66",
   "metadata": {
    "execution": {
     "iopub.execute_input": "2023-08-26T04:44:56.976534Z",
     "iopub.status.busy": "2023-08-26T04:44:56.975910Z",
     "iopub.status.idle": "2023-08-26T04:44:56.979743Z",
     "shell.execute_reply": "2023-08-26T04:44:56.978905Z"
    },
    "papermill": {
     "duration": 0.134251,
     "end_time": "2023-08-26T04:44:56.981987",
     "exception": false,
     "start_time": "2023-08-26T04:44:56.847736",
     "status": "completed"
    },
    "tags": []
   },
   "outputs": [],
   "source": [
    "# rt_dict = {'txt': ['reviewText']}\n",
    "# rt_dict"
   ]
  },
  {
   "cell_type": "code",
   "execution_count": 183,
   "id": "3ecc16a2",
   "metadata": {
    "execution": {
     "iopub.execute_input": "2023-08-26T04:44:57.242661Z",
     "iopub.status.busy": "2023-08-26T04:44:57.242170Z",
     "iopub.status.idle": "2023-08-26T04:44:57.248237Z",
     "shell.execute_reply": "2023-08-26T04:44:57.246509Z"
    },
    "papermill": {
     "duration": 0.13848,
     "end_time": "2023-08-26T04:44:57.251425",
     "exception": false,
     "start_time": "2023-08-26T04:44:57.112945",
     "status": "completed"
    },
    "tags": []
   },
   "outputs": [],
   "source": [
    "# submit_v4(selected_model=LogisticRegression(C=5, solver=\"saga\", max_iter=100000),\n",
    "#           selected_features=rt_dict,\n",
    "#           param_grid=None,\n",
    "#           vocab=None)"
   ]
  },
  {
   "cell_type": "markdown",
   "id": "28be3bbc",
   "metadata": {
    "papermill": {
     "duration": 0.123515,
     "end_time": "2023-08-26T04:44:57.501854",
     "exception": false,
     "start_time": "2023-08-26T04:44:57.378339",
     "status": "completed"
    },
    "tags": []
   },
   "source": [
    "## RFE  "
   ]
  },
  {
   "cell_type": "code",
   "execution_count": 184,
   "id": "cd6b8030",
   "metadata": {
    "execution": {
     "iopub.execute_input": "2023-08-26T04:44:57.753216Z",
     "iopub.status.busy": "2023-08-26T04:44:57.752682Z",
     "iopub.status.idle": "2023-08-26T04:44:57.759592Z",
     "shell.execute_reply": "2023-08-26T04:44:57.758337Z"
    },
    "papermill": {
     "duration": 0.13566,
     "end_time": "2023-08-26T04:44:57.762375",
     "exception": false,
     "start_time": "2023-08-26T04:44:57.626715",
     "status": "completed"
    },
    "tags": []
   },
   "outputs": [],
   "source": [
    "# def fs_rfe(selector, text_df, labels, ngram_range=(1,1)):\n",
    "#     text_df_ngram = TfidfVectorizer(ngram_range=ngram_range, stop_words='english').fit_transform(text_df)\n",
    "#     print(\"text_df was vectorized using TF-IDF vectorizer with ngram_range: \", ngram_range)\n",
    "#     print(\"text_df.shape: \", text_df.shape)\n",
    "#     print(\"labels.shape: \", labels.shape)\n",
    "#     print(\"text_df_ngram.shape: \", text_df_ngram.shape)\n",
    "#     print()\n",
    "\n",
    "#     print(\"Starting RFE fit...\")\n",
    "#     selector.fit(text_df_ngram, labels)\n",
    "#     print(\"RFE fit complete.\\n\")\n",
    "    \n",
    "#     print(\"selector.n_features_: \", selector.n_features_)   \n",
    "#     print(\"selector.n_features_in_: \", selector.n_features_in_)\n",
    "#     print(\"selector.support_.shape: \", selector.support_.shape)\n",
    "\n",
    "#     return selector.support_"
   ]
  },
  {
   "cell_type": "markdown",
   "id": "601bd757",
   "metadata": {
    "papermill": {
     "duration": 0.136546,
     "end_time": "2023-08-26T04:44:58.029089",
     "exception": false,
     "start_time": "2023-08-26T04:44:57.892543",
     "status": "completed"
    },
    "tags": []
   },
   "source": [
    "`RFE for unigrams`  "
   ]
  },
  {
   "cell_type": "code",
   "execution_count": 185,
   "id": "d643da8f",
   "metadata": {
    "execution": {
     "iopub.execute_input": "2023-08-26T04:44:58.283260Z",
     "iopub.status.busy": "2023-08-26T04:44:58.282727Z",
     "iopub.status.idle": "2023-08-26T04:44:58.288280Z",
     "shell.execute_reply": "2023-08-26T04:44:58.286897Z"
    },
    "papermill": {
     "duration": 0.135668,
     "end_time": "2023-08-26T04:44:58.291055",
     "exception": false,
     "start_time": "2023-08-26T04:44:58.155387",
     "status": "completed"
    },
    "tags": []
   },
   "outputs": [],
   "source": [
    "# estimator_rfe_1 = LogisticRegression(solver='saga', max_iter=100000)\n",
    "# selector_rfe_1 = RFE(estimator_rfe_1, step=0.1, n_features_to_select=30000)"
   ]
  },
  {
   "cell_type": "code",
   "execution_count": 186,
   "id": "4024e8ba",
   "metadata": {
    "execution": {
     "iopub.execute_input": "2023-08-26T04:44:58.549022Z",
     "iopub.status.busy": "2023-08-26T04:44:58.547667Z",
     "iopub.status.idle": "2023-08-26T04:44:58.552824Z",
     "shell.execute_reply": "2023-08-26T04:44:58.551877Z"
    },
    "papermill": {
     "duration": 0.137594,
     "end_time": "2023-08-26T04:44:58.555667",
     "exception": false,
     "start_time": "2023-08-26T04:44:58.418073",
     "status": "completed"
    },
    "tags": []
   },
   "outputs": [],
   "source": [
    "# rfe_1_feat_mask = fs_rfe(selector_rfe_1, rt_senti[\"reviewText\"], rt_senti[\"sentiment\"], ngram_range=(1,1))\n",
    "# rfe_1_feat_mask"
   ]
  },
  {
   "cell_type": "code",
   "execution_count": 187,
   "id": "34ed76c3",
   "metadata": {
    "execution": {
     "iopub.execute_input": "2023-08-26T04:44:58.922461Z",
     "iopub.status.busy": "2023-08-26T04:44:58.920994Z",
     "iopub.status.idle": "2023-08-26T04:44:58.925902Z",
     "shell.execute_reply": "2023-08-26T04:44:58.925040Z"
    },
    "papermill": {
     "duration": 0.244912,
     "end_time": "2023-08-26T04:44:58.928381",
     "exception": false,
     "start_time": "2023-08-26T04:44:58.683469",
     "status": "completed"
    },
    "tags": []
   },
   "outputs": [],
   "source": [
    "# voc_1gram_rfe = list(compress(voc_1gram, rfe_1_feat_mask))\n",
    "# len(voc_1gram_rfe), voc_1gram_rfe[:10]"
   ]
  },
  {
   "cell_type": "markdown",
   "id": "22d895ba",
   "metadata": {
    "papermill": {
     "duration": 0.124974,
     "end_time": "2023-08-26T04:44:59.190702",
     "exception": false,
     "start_time": "2023-08-26T04:44:59.065728",
     "status": "completed"
    },
    "tags": []
   },
   "source": [
    "`RFE for bigrams`  "
   ]
  },
  {
   "cell_type": "code",
   "execution_count": 188,
   "id": "10d2b294",
   "metadata": {
    "execution": {
     "iopub.execute_input": "2023-08-26T04:44:59.445192Z",
     "iopub.status.busy": "2023-08-26T04:44:59.444744Z",
     "iopub.status.idle": "2023-08-26T04:44:59.450039Z",
     "shell.execute_reply": "2023-08-26T04:44:59.448542Z"
    },
    "papermill": {
     "duration": 0.134903,
     "end_time": "2023-08-26T04:44:59.453057",
     "exception": false,
     "start_time": "2023-08-26T04:44:59.318154",
     "status": "completed"
    },
    "tags": []
   },
   "outputs": [],
   "source": [
    "# estimator_rfe_2 = LogisticRegression(solver='saga', max_iter=100000)\n",
    "# selector_rfe_2 = RFE(estimator_rfe_2, step=0.1, n_features_to_select=50000)"
   ]
  },
  {
   "cell_type": "code",
   "execution_count": 189,
   "id": "1b8b715b",
   "metadata": {
    "execution": {
     "iopub.execute_input": "2023-08-26T04:44:59.710161Z",
     "iopub.status.busy": "2023-08-26T04:44:59.709671Z",
     "iopub.status.idle": "2023-08-26T04:44:59.715488Z",
     "shell.execute_reply": "2023-08-26T04:44:59.713929Z"
    },
    "papermill": {
     "duration": 0.137518,
     "end_time": "2023-08-26T04:44:59.718192",
     "exception": false,
     "start_time": "2023-08-26T04:44:59.580674",
     "status": "completed"
    },
    "tags": []
   },
   "outputs": [],
   "source": [
    "# rfe_2_feat_mask = fs_rfe(selector_rfe_2, rt_senti[\"reviewText\"], rt_senti[\"sentiment\"], ngram_range=(2,2))\n",
    "# rfe_2_feat_mask"
   ]
  },
  {
   "cell_type": "code",
   "execution_count": 190,
   "id": "99531ccb",
   "metadata": {
    "execution": {
     "iopub.execute_input": "2023-08-26T04:44:59.982441Z",
     "iopub.status.busy": "2023-08-26T04:44:59.981689Z",
     "iopub.status.idle": "2023-08-26T04:44:59.987289Z",
     "shell.execute_reply": "2023-08-26T04:44:59.985645Z"
    },
    "papermill": {
     "duration": 0.140563,
     "end_time": "2023-08-26T04:44:59.990457",
     "exception": false,
     "start_time": "2023-08-26T04:44:59.849894",
     "status": "completed"
    },
    "tags": []
   },
   "outputs": [],
   "source": [
    "# voc_2gram_rfe = list(compress(voc_2gram, rfe_2_feat_mask))\n",
    "# len(voc_2gram_rfe), voc_2gram_rfe[:10]"
   ]
  },
  {
   "cell_type": "markdown",
   "id": "a130e0db",
   "metadata": {
    "papermill": {
     "duration": 0.127657,
     "end_time": "2023-08-26T04:45:00.252972",
     "exception": false,
     "start_time": "2023-08-26T04:45:00.125315",
     "status": "completed"
    },
    "tags": []
   },
   "source": [
    "## Final RFE-derived vocabulary  "
   ]
  },
  {
   "cell_type": "code",
   "execution_count": 191,
   "id": "0b2dfae2",
   "metadata": {
    "execution": {
     "iopub.execute_input": "2023-08-26T04:45:00.507928Z",
     "iopub.status.busy": "2023-08-26T04:45:00.507245Z",
     "iopub.status.idle": "2023-08-26T04:45:00.513631Z",
     "shell.execute_reply": "2023-08-26T04:45:00.512330Z"
    },
    "papermill": {
     "duration": 0.136739,
     "end_time": "2023-08-26T04:45:00.516301",
     "exception": false,
     "start_time": "2023-08-26T04:45:00.379562",
     "status": "completed"
    },
    "tags": []
   },
   "outputs": [],
   "source": [
    "# rfe_vocab = voc_1gram_rfe + voc_2gram_rfe\n",
    "# len(rfe_vocab), rfe_vocab[:10], rfe_vocab[-10:]"
   ]
  },
  {
   "cell_type": "code",
   "execution_count": 192,
   "id": "331ca591",
   "metadata": {
    "execution": {
     "iopub.execute_input": "2023-08-26T04:45:00.775342Z",
     "iopub.status.busy": "2023-08-26T04:45:00.774247Z",
     "iopub.status.idle": "2023-08-26T04:45:00.780295Z",
     "shell.execute_reply": "2023-08-26T04:45:00.778999Z"
    },
    "papermill": {
     "duration": 0.137414,
     "end_time": "2023-08-26T04:45:00.783071",
     "exception": false,
     "start_time": "2023-08-26T04:45:00.645657",
     "status": "completed"
    },
    "tags": []
   },
   "outputs": [],
   "source": [
    "## Test RFE obtained vocabulary in final pipeline (only with reviewText)  \n",
    "# submit_v4(selected_model=LogisticRegression(C=5, solver=\"saga\", max_iter=100000),\n",
    "#           selected_features=rt_dict,\n",
    "#           param_grid=None,\n",
    "#           vocab=rfe_vocab)"
   ]
  },
  {
   "cell_type": "markdown",
   "id": "7d3425db",
   "metadata": {
    "papermill": {
     "duration": 0.132694,
     "end_time": "2023-08-26T04:45:01.042497",
     "exception": false,
     "start_time": "2023-08-26T04:45:00.909803",
     "status": "completed"
    },
    "tags": []
   },
   "source": [
    "## Use rfe_vocab in final pipeline with all params  "
   ]
  },
  {
   "cell_type": "code",
   "execution_count": 193,
   "id": "4ab67d28",
   "metadata": {
    "execution": {
     "iopub.execute_input": "2023-08-26T04:45:01.305340Z",
     "iopub.status.busy": "2023-08-26T04:45:01.304442Z",
     "iopub.status.idle": "2023-08-26T04:45:01.309342Z",
     "shell.execute_reply": "2023-08-26T04:45:01.308318Z"
    },
    "papermill": {
     "duration": 0.142371,
     "end_time": "2023-08-26T04:45:01.312123",
     "exception": false,
     "start_time": "2023-08-26T04:45:01.169752",
     "status": "completed"
    },
    "tags": []
   },
   "outputs": [],
   "source": [
    "# submit_v4(selected_model=LogisticRegression(max_iter=100000),\n",
    "#           selected_features=all_dict,\n",
    "#           param_grid=param_grid,\n",
    "#           vocab=rfe_vocab)"
   ]
  },
  {
   "cell_type": "code",
   "execution_count": 194,
   "id": "6e7d6ece",
   "metadata": {
    "execution": {
     "iopub.execute_input": "2023-08-26T04:45:01.578533Z",
     "iopub.status.busy": "2023-08-26T04:45:01.577799Z",
     "iopub.status.idle": "2023-08-26T04:45:01.592404Z",
     "shell.execute_reply": "2023-08-26T04:45:01.591111Z"
    },
    "papermill": {
     "duration": 0.150807,
     "end_time": "2023-08-26T04:45:01.595619",
     "exception": false,
     "start_time": "2023-08-26T04:45:01.444812",
     "status": "completed"
    },
    "tags": []
   },
   "outputs": [
    {
     "data": {
      "text/html": [
       "<style>#sk-container-id-2 {color: black;background-color: white;}#sk-container-id-2 pre{padding: 0;}#sk-container-id-2 div.sk-toggleable {background-color: white;}#sk-container-id-2 label.sk-toggleable__label {cursor: pointer;display: block;width: 100%;margin-bottom: 0;padding: 0.3em;box-sizing: border-box;text-align: center;}#sk-container-id-2 label.sk-toggleable__label-arrow:before {content: \"▸\";float: left;margin-right: 0.25em;color: #696969;}#sk-container-id-2 label.sk-toggleable__label-arrow:hover:before {color: black;}#sk-container-id-2 div.sk-estimator:hover label.sk-toggleable__label-arrow:before {color: black;}#sk-container-id-2 div.sk-toggleable__content {max-height: 0;max-width: 0;overflow: hidden;text-align: left;background-color: #f0f8ff;}#sk-container-id-2 div.sk-toggleable__content pre {margin: 0.2em;color: black;border-radius: 0.25em;background-color: #f0f8ff;}#sk-container-id-2 input.sk-toggleable__control:checked~div.sk-toggleable__content {max-height: 200px;max-width: 100%;overflow: auto;}#sk-container-id-2 input.sk-toggleable__control:checked~label.sk-toggleable__label-arrow:before {content: \"▾\";}#sk-container-id-2 div.sk-estimator input.sk-toggleable__control:checked~label.sk-toggleable__label {background-color: #d4ebff;}#sk-container-id-2 div.sk-label input.sk-toggleable__control:checked~label.sk-toggleable__label {background-color: #d4ebff;}#sk-container-id-2 input.sk-hidden--visually {border: 0;clip: rect(1px 1px 1px 1px);clip: rect(1px, 1px, 1px, 1px);height: 1px;margin: -1px;overflow: hidden;padding: 0;position: absolute;width: 1px;}#sk-container-id-2 div.sk-estimator {font-family: monospace;background-color: #f0f8ff;border: 1px dotted black;border-radius: 0.25em;box-sizing: border-box;margin-bottom: 0.5em;}#sk-container-id-2 div.sk-estimator:hover {background-color: #d4ebff;}#sk-container-id-2 div.sk-parallel-item::after {content: \"\";width: 100%;border-bottom: 1px solid gray;flex-grow: 1;}#sk-container-id-2 div.sk-label:hover label.sk-toggleable__label {background-color: #d4ebff;}#sk-container-id-2 div.sk-serial::before {content: \"\";position: absolute;border-left: 1px solid gray;box-sizing: border-box;top: 0;bottom: 0;left: 50%;z-index: 0;}#sk-container-id-2 div.sk-serial {display: flex;flex-direction: column;align-items: center;background-color: white;padding-right: 0.2em;padding-left: 0.2em;position: relative;}#sk-container-id-2 div.sk-item {position: relative;z-index: 1;}#sk-container-id-2 div.sk-parallel {display: flex;align-items: stretch;justify-content: center;background-color: white;position: relative;}#sk-container-id-2 div.sk-item::before, #sk-container-id-2 div.sk-parallel-item::before {content: \"\";position: absolute;border-left: 1px solid gray;box-sizing: border-box;top: 0;bottom: 0;left: 50%;z-index: -1;}#sk-container-id-2 div.sk-parallel-item {display: flex;flex-direction: column;z-index: 1;position: relative;background-color: white;}#sk-container-id-2 div.sk-parallel-item:first-child::after {align-self: flex-end;width: 50%;}#sk-container-id-2 div.sk-parallel-item:last-child::after {align-self: flex-start;width: 50%;}#sk-container-id-2 div.sk-parallel-item:only-child::after {width: 0;}#sk-container-id-2 div.sk-dashed-wrapped {border: 1px dashed gray;margin: 0 0.4em 0.5em 0.4em;box-sizing: border-box;padding-bottom: 0.4em;background-color: white;}#sk-container-id-2 div.sk-label label {font-family: monospace;font-weight: bold;display: inline-block;line-height: 1.2em;}#sk-container-id-2 div.sk-label-container {text-align: center;}#sk-container-id-2 div.sk-container {/* jupyter's `normalize.less` sets `[hidden] { display: none; }` but bootstrap.min.css set `[hidden] { display: none !important; }` so we also need the `!important` here to be able to override the default hidden behavior on the sphinx rendered scikit-learn.org. See: https://github.com/scikit-learn/scikit-learn/issues/21755 */display: inline-block !important;position: relative;}#sk-container-id-2 div.sk-text-repr-fallback {display: none;}</style><div id=\"sk-container-id-2\" class=\"sk-top-container\"><div class=\"sk-text-repr-fallback\"><pre>AdaBoostClassifier(estimator=LogisticRegression(C=5, max_iter=100000,\n",
       "                                                solver=&#x27;saga&#x27;))</pre><b>In a Jupyter environment, please rerun this cell to show the HTML representation or trust the notebook. <br />On GitHub, the HTML representation is unable to render, please try loading this page with nbviewer.org.</b></div><div class=\"sk-container\" hidden><div class=\"sk-item sk-dashed-wrapped\"><div class=\"sk-label-container\"><div class=\"sk-label sk-toggleable\"><input class=\"sk-toggleable__control sk-hidden--visually\" id=\"sk-estimator-id-2\" type=\"checkbox\" ><label for=\"sk-estimator-id-2\" class=\"sk-toggleable__label sk-toggleable__label-arrow\">AdaBoostClassifier</label><div class=\"sk-toggleable__content\"><pre>AdaBoostClassifier(estimator=LogisticRegression(C=5, max_iter=100000,\n",
       "                                                solver=&#x27;saga&#x27;))</pre></div></div></div><div class=\"sk-parallel\"><div class=\"sk-parallel-item\"><div class=\"sk-item\"><div class=\"sk-label-container\"><div class=\"sk-label sk-toggleable\"><input class=\"sk-toggleable__control sk-hidden--visually\" id=\"sk-estimator-id-3\" type=\"checkbox\" ><label for=\"sk-estimator-id-3\" class=\"sk-toggleable__label sk-toggleable__label-arrow\">estimator: LogisticRegression</label><div class=\"sk-toggleable__content\"><pre>LogisticRegression(C=5, max_iter=100000, solver=&#x27;saga&#x27;)</pre></div></div></div><div class=\"sk-serial\"><div class=\"sk-item\"><div class=\"sk-estimator sk-toggleable\"><input class=\"sk-toggleable__control sk-hidden--visually\" id=\"sk-estimator-id-4\" type=\"checkbox\" ><label for=\"sk-estimator-id-4\" class=\"sk-toggleable__label sk-toggleable__label-arrow\">LogisticRegression</label><div class=\"sk-toggleable__content\"><pre>LogisticRegression(C=5, max_iter=100000, solver=&#x27;saga&#x27;)</pre></div></div></div></div></div></div></div></div></div></div>"
      ],
      "text/plain": [
       "AdaBoostClassifier(estimator=LogisticRegression(C=5, max_iter=100000,\n",
       "                                                solver='saga'))"
      ]
     },
     "execution_count": 194,
     "metadata": {},
     "output_type": "execute_result"
    }
   ],
   "source": [
    "adc = AdaBoostClassifier(estimator=LogisticRegression(C=5, solver=\"saga\", max_iter=100000), n_estimators=50)\n",
    "adc"
   ]
  },
  {
   "cell_type": "code",
   "execution_count": 195,
   "id": "b669b146",
   "metadata": {
    "execution": {
     "iopub.execute_input": "2023-08-26T04:45:01.862560Z",
     "iopub.status.busy": "2023-08-26T04:45:01.861764Z",
     "iopub.status.idle": "2023-08-26T04:45:01.867265Z",
     "shell.execute_reply": "2023-08-26T04:45:01.866324Z"
    },
    "papermill": {
     "duration": 0.141188,
     "end_time": "2023-08-26T04:45:01.870168",
     "exception": false,
     "start_time": "2023-08-26T04:45:01.728980",
     "status": "completed"
    },
    "tags": []
   },
   "outputs": [],
   "source": [
    "# submit_v4(selected_model=adc,\n",
    "#           selected_features={'cat': ['isFrequentReviewer']},\n",
    "#           param_grid=None,\n",
    "#           vocab=rfe_vocab)"
   ]
  },
  {
   "cell_type": "code",
   "execution_count": 196,
   "id": "480d2050",
   "metadata": {
    "execution": {
     "iopub.execute_input": "2023-08-26T04:45:02.133586Z",
     "iopub.status.busy": "2023-08-26T04:45:02.133147Z",
     "iopub.status.idle": "2023-08-26T04:45:02.139134Z",
     "shell.execute_reply": "2023-08-26T04:45:02.137549Z"
    },
    "papermill": {
     "duration": 0.143686,
     "end_time": "2023-08-26T04:45:02.142542",
     "exception": false,
     "start_time": "2023-08-26T04:45:01.998856",
     "status": "completed"
    },
    "tags": []
   },
   "outputs": [],
   "source": [
    "# AdaBoost on all features with RFE vocab on reviewText\n",
    "\n",
    "# submit_v4(selected_model=adc,\n",
    "#           selected_features=all_dict,\n",
    "#           param_grid=None,\n",
    "#           vocab=rfe_vocab)"
   ]
  },
  {
   "cell_type": "code",
   "execution_count": 197,
   "id": "3aa52f71",
   "metadata": {
    "execution": {
     "iopub.execute_input": "2023-08-26T04:45:02.401191Z",
     "iopub.status.busy": "2023-08-26T04:45:02.400771Z",
     "iopub.status.idle": "2023-08-26T04:45:02.407115Z",
     "shell.execute_reply": "2023-08-26T04:45:02.405086Z"
    },
    "papermill": {
     "duration": 0.139642,
     "end_time": "2023-08-26T04:45:02.410509",
     "exception": false,
     "start_time": "2023-08-26T04:45:02.270867",
     "status": "completed"
    },
    "tags": []
   },
   "outputs": [],
   "source": [
    "# RandomForestClassifier test run on one feature\n",
    "\n",
    "# rfc_2 = RandomForestClassifier()\n",
    "# rfc_2"
   ]
  },
  {
   "cell_type": "code",
   "execution_count": 198,
   "id": "de03277c",
   "metadata": {
    "execution": {
     "iopub.execute_input": "2023-08-26T04:45:02.696667Z",
     "iopub.status.busy": "2023-08-26T04:45:02.694944Z",
     "iopub.status.idle": "2023-08-26T04:45:02.701733Z",
     "shell.execute_reply": "2023-08-26T04:45:02.700565Z"
    },
    "papermill": {
     "duration": 0.15931,
     "end_time": "2023-08-26T04:45:02.704649",
     "exception": false,
     "start_time": "2023-08-26T04:45:02.545339",
     "status": "completed"
    },
    "tags": []
   },
   "outputs": [],
   "source": [
    "# submit_v4(selected_model=rfc_2,\n",
    "#           selected_features={'txt': ['reviewerName']},\n",
    "#           param_grid=None,\n",
    "#           vocab=rfe_vocab)"
   ]
  },
  {
   "cell_type": "code",
   "execution_count": 199,
   "id": "50671f36",
   "metadata": {
    "execution": {
     "iopub.execute_input": "2023-08-26T04:45:02.963776Z",
     "iopub.status.busy": "2023-08-26T04:45:02.962344Z",
     "iopub.status.idle": "2023-08-26T04:45:02.967744Z",
     "shell.execute_reply": "2023-08-26T04:45:02.966599Z"
    },
    "papermill": {
     "duration": 0.137994,
     "end_time": "2023-08-26T04:45:02.970452",
     "exception": false,
     "start_time": "2023-08-26T04:45:02.832458",
     "status": "completed"
    },
    "tags": []
   },
   "outputs": [],
   "source": [
    "# RandomForestClassifier on all features with RFE vocab on reviewText\n",
    "\n",
    "# submit_v4(selected_model=rfc_2,\n",
    "#           selected_features=all_dict,\n",
    "#           param_grid=None,\n",
    "#           vocab=rfe_vocab)"
   ]
  },
  {
   "cell_type": "markdown",
   "id": "7c4cb452",
   "metadata": {
    "papermill": {
     "duration": 0.220986,
     "end_time": "2023-08-26T04:45:03.326622",
     "exception": false,
     "start_time": "2023-08-26T04:45:03.105636",
     "status": "completed"
    },
    "tags": []
   },
   "source": [
    "## Submit_v2 for merged file models  "
   ]
  },
  {
   "cell_type": "code",
   "execution_count": 200,
   "id": "7f3726c1",
   "metadata": {
    "execution": {
     "iopub.execute_input": "2023-08-26T04:45:03.583641Z",
     "iopub.status.busy": "2023-08-26T04:45:03.583241Z",
     "iopub.status.idle": "2023-08-26T04:45:03.590884Z",
     "shell.execute_reply": "2023-08-26T04:45:03.589293Z"
    },
    "papermill": {
     "duration": 0.138815,
     "end_time": "2023-08-26T04:45:03.593871",
     "exception": false,
     "start_time": "2023-08-26T04:45:03.455056",
     "status": "completed"
    },
    "tags": []
   },
   "outputs": [],
   "source": [
    "# def submit_v2(selected_model=pipe_final, selected_features=None):\n",
    "#     '''\n",
    "#     Note that \"selected_preprocessor\" is already used within selected_model or pipeline\n",
    "#     '''\n",
    "#     # Retrain on the whole train.csv file  \n",
    "#     merged = select_features(load_csv(\"train\"), load_csv(\"movies\"))\n",
    "#     X_train = merged.drop(labels=\"sentiment\", axis=1)\n",
    "#     y_train = merged[\"sentiment\"]\n",
    "    \n",
    "#     #Use selected features\n",
    "#     if selected_features:\n",
    "#         X_train = X_train[selected_features]\n",
    "    \n",
    "#     # Check1\n",
    "#     print(X_train.shape)\n",
    "#     print(X_train.head())\n",
    "#     try:\n",
    "#         print(selected_model.named_steps['model'].intercept_, selected_model.named_steps['model'].coef_)\n",
    "#     except:\n",
    "#         print(\"Model not trained yet!\")\n",
    "    \n",
    "#     # Fit \n",
    "#     selected_model.fit(X_train, y_train)\n",
    "    \n",
    "#     # Check2\n",
    "#     print(selected_model.named_steps['model'].intercept_, selected_model.named_steps['model'].coef_)\n",
    "    \n",
    "#     # Predict on test.csv file\n",
    "#     merged_test = select_features(load_csv(\"test\"), load_csv(\"movies\"))\n",
    "#     X_test = merged_test.copy()\n",
    "#     if selected_features:\n",
    "#         X_test = X_test[selected_features]\n",
    "    \n",
    "#     # Check3\n",
    "#     print(X_test.shape)\n",
    "#     print(X_test.head())\n",
    "    \n",
    "#     y_pred = selected_model.predict(X_test)\n",
    "    \n",
    "#     pred_df = pd.DataFrame(y_pred)\n",
    "#     pred_df.columns = [\"sentiment\"]\n",
    "#     pred_df.index.name = \"id\"\n",
    "#     pred_df.to_csv(\"submission.csv\")\n",
    "    \n",
    "#     return \"Successfully created the submission file!!!\""
   ]
  },
  {
   "cell_type": "code",
   "execution_count": 201,
   "id": "42f860f3",
   "metadata": {
    "execution": {
     "iopub.execute_input": "2023-08-26T04:45:03.854489Z",
     "iopub.status.busy": "2023-08-26T04:45:03.853485Z",
     "iopub.status.idle": "2023-08-26T04:45:03.858866Z",
     "shell.execute_reply": "2023-08-26T04:45:03.857801Z"
    },
    "papermill": {
     "duration": 0.138689,
     "end_time": "2023-08-26T04:45:03.861651",
     "exception": false,
     "start_time": "2023-08-26T04:45:03.722962",
     "status": "completed"
    },
    "tags": []
   },
   "outputs": [],
   "source": [
    "#     X_test = merged_test.copy()\n",
    "    \n",
    "#     y_pred = pipe_best4.predict(X_test)\n",
    "# #     np.unique(y_pred, return_counts=True)\n",
    "#     pred_df = pd.DataFrame(y_pred)\n",
    "#     pred_df.columns = [\"sentiment\"]\n",
    "#     pred_df.index.name = \"id\"\n",
    "#     pred_df.value_counts()"
   ]
  },
  {
   "cell_type": "code",
   "execution_count": 202,
   "id": "88ab49a8",
   "metadata": {
    "execution": {
     "iopub.execute_input": "2023-08-26T04:45:04.131232Z",
     "iopub.status.busy": "2023-08-26T04:45:04.130324Z",
     "iopub.status.idle": "2023-08-26T04:45:04.136066Z",
     "shell.execute_reply": "2023-08-26T04:45:04.134483Z"
    },
    "papermill": {
     "duration": 0.151447,
     "end_time": "2023-08-26T04:45:04.138959",
     "exception": false,
     "start_time": "2023-08-26T04:45:03.987512",
     "status": "completed"
    },
    "tags": []
   },
   "outputs": [],
   "source": [
    "# X_test.columns"
   ]
  },
  {
   "cell_type": "markdown",
   "id": "ed7b3a99",
   "metadata": {
    "papermill": {
     "duration": 0.123496,
     "end_time": "2023-08-26T04:45:04.393335",
     "exception": false,
     "start_time": "2023-08-26T04:45:04.269839",
     "status": "completed"
    },
    "tags": []
   },
   "source": [
    "### Uncomment to submit using v2 of submit function  "
   ]
  },
  {
   "cell_type": "code",
   "execution_count": 203,
   "id": "5fbc353c",
   "metadata": {
    "execution": {
     "iopub.execute_input": "2023-08-26T04:45:04.655926Z",
     "iopub.status.busy": "2023-08-26T04:45:04.655126Z",
     "iopub.status.idle": "2023-08-26T04:45:04.660587Z",
     "shell.execute_reply": "2023-08-26T04:45:04.659154Z"
    },
    "papermill": {
     "duration": 0.140038,
     "end_time": "2023-08-26T04:45:04.663235",
     "exception": false,
     "start_time": "2023-08-26T04:45:04.523197",
     "status": "completed"
    },
    "tags": []
   },
   "outputs": [],
   "source": [
    "# best4 = [\"audienceScore\", \"rating\", \"isFrequentReviewer\", \"reviewText\"]\n",
    "# best4"
   ]
  },
  {
   "cell_type": "code",
   "execution_count": 204,
   "id": "47f24258",
   "metadata": {
    "execution": {
     "iopub.execute_input": "2023-08-26T04:45:04.926202Z",
     "iopub.status.busy": "2023-08-26T04:45:04.924747Z",
     "iopub.status.idle": "2023-08-26T04:45:04.930695Z",
     "shell.execute_reply": "2023-08-26T04:45:04.929676Z"
    },
    "papermill": {
     "duration": 0.141183,
     "end_time": "2023-08-26T04:45:04.933595",
     "exception": false,
     "start_time": "2023-08-26T04:45:04.792412",
     "status": "completed"
    },
    "tags": []
   },
   "outputs": [],
   "source": [
    "# submit_v2(selected_model=pipe_RTonly, selected_features=['reviewText'])"
   ]
  },
  {
   "cell_type": "markdown",
   "id": "4eab0dd6",
   "metadata": {
    "papermill": {
     "duration": 0.127399,
     "end_time": "2023-08-26T04:45:05.197231",
     "exception": false,
     "start_time": "2023-08-26T04:45:05.069832",
     "status": "completed"
    },
    "tags": []
   },
   "source": [
    "### Inspect the submission.csv file  "
   ]
  },
  {
   "cell_type": "code",
   "execution_count": 205,
   "id": "81654727",
   "metadata": {
    "execution": {
     "iopub.execute_input": "2023-08-26T04:45:05.455789Z",
     "iopub.status.busy": "2023-08-26T04:45:05.455343Z",
     "iopub.status.idle": "2023-08-26T04:45:05.460566Z",
     "shell.execute_reply": "2023-08-26T04:45:05.459205Z"
    },
    "papermill": {
     "duration": 0.138319,
     "end_time": "2023-08-26T04:45:05.463465",
     "exception": false,
     "start_time": "2023-08-26T04:45:05.325146",
     "status": "completed"
    },
    "tags": []
   },
   "outputs": [],
   "source": [
    "# sub = pd.read_csv('submission.csv')\n",
    "# sub.shape, sub.head()"
   ]
  },
  {
   "cell_type": "code",
   "execution_count": 206,
   "id": "2dd35d9b",
   "metadata": {
    "execution": {
     "iopub.execute_input": "2023-08-26T04:45:05.719141Z",
     "iopub.status.busy": "2023-08-26T04:45:05.718688Z",
     "iopub.status.idle": "2023-08-26T04:45:05.723665Z",
     "shell.execute_reply": "2023-08-26T04:45:05.722541Z"
    },
    "papermill": {
     "duration": 0.135991,
     "end_time": "2023-08-26T04:45:05.725972",
     "exception": false,
     "start_time": "2023-08-26T04:45:05.589981",
     "status": "completed"
    },
    "tags": []
   },
   "outputs": [],
   "source": [
    "# sub['sentiment'].value_counts()"
   ]
  },
  {
   "cell_type": "markdown",
   "id": "38c9d85b",
   "metadata": {
    "papermill": {
     "duration": 0.128601,
     "end_time": "2023-08-26T04:45:05.982454",
     "exception": false,
     "start_time": "2023-08-26T04:45:05.853853",
     "status": "completed"
    },
    "tags": []
   },
   "source": [
    "## submit_v3 for merged file models - does not retrain on whole data  "
   ]
  },
  {
   "cell_type": "code",
   "execution_count": 207,
   "id": "f037d8e2",
   "metadata": {
    "execution": {
     "iopub.execute_input": "2023-08-26T04:45:06.281214Z",
     "iopub.status.busy": "2023-08-26T04:45:06.280410Z",
     "iopub.status.idle": "2023-08-26T04:45:06.287307Z",
     "shell.execute_reply": "2023-08-26T04:45:06.285738Z"
    },
    "papermill": {
     "duration": 0.154663,
     "end_time": "2023-08-26T04:45:06.291307",
     "exception": false,
     "start_time": "2023-08-26T04:45:06.136644",
     "status": "completed"
    },
    "tags": []
   },
   "outputs": [],
   "source": [
    "# def submit_v3(selected_model=pipe_final):\n",
    "#     '''\n",
    "#     Note that \"selected_preprocessor\" is already used within selected_model or pipeline\n",
    "#     '''\n",
    "      \n",
    "#     # Predict on test.csv file\n",
    "#     merged_test = select_features(load_csv(\"test\"), load_csv(\"movies\"))\n",
    "#     X_test = merged_test.copy()\n",
    "    \n",
    "#     X_test = X_test[[\"audienceScore\", \"rating\", \"isFrequentReviewer\", \"reviewText\"]]    # This is a new line\n",
    "\n",
    "    \n",
    "#     y_pred = selected_model.predict(X_test)\n",
    "    \n",
    "#     pred_df = pd.DataFrame(y_pred)\n",
    "#     pred_df.columns = [\"sentiment\"]\n",
    "#     pred_df.index.name = \"id\"\n",
    "#     pred_df.to_csv(\"submission.csv\")\n",
    "    \n",
    "#     return \"Successfully created the submission file!!!\""
   ]
  },
  {
   "cell_type": "markdown",
   "id": "0d5f37f0",
   "metadata": {
    "papermill": {
     "duration": 0.140424,
     "end_time": "2023-08-26T04:45:06.573311",
     "exception": false,
     "start_time": "2023-08-26T04:45:06.432887",
     "status": "completed"
    },
    "tags": []
   },
   "source": [
    "### Uncomment to submit using v3 of submit function  "
   ]
  },
  {
   "cell_type": "code",
   "execution_count": 208,
   "id": "903fcedd",
   "metadata": {
    "execution": {
     "iopub.execute_input": "2023-08-26T04:45:06.836212Z",
     "iopub.status.busy": "2023-08-26T04:45:06.835789Z",
     "iopub.status.idle": "2023-08-26T04:45:06.839855Z",
     "shell.execute_reply": "2023-08-26T04:45:06.839030Z"
    },
    "papermill": {
     "duration": 0.138405,
     "end_time": "2023-08-26T04:45:06.842870",
     "exception": false,
     "start_time": "2023-08-26T04:45:06.704465",
     "status": "completed"
    },
    "tags": []
   },
   "outputs": [],
   "source": [
    "# submit_v3(selected_model=pipe_best4)"
   ]
  },
  {
   "cell_type": "markdown",
   "id": "9a80e6cc",
   "metadata": {
    "papermill": {
     "duration": 0.137029,
     "end_time": "2023-08-26T04:45:07.114777",
     "exception": false,
     "start_time": "2023-08-26T04:45:06.977748",
     "status": "completed"
    },
    "tags": []
   },
   "source": [
    "## Rough work  "
   ]
  },
  {
   "cell_type": "code",
   "execution_count": 209,
   "id": "a5dd3972",
   "metadata": {
    "execution": {
     "iopub.execute_input": "2023-08-26T04:45:07.373897Z",
     "iopub.status.busy": "2023-08-26T04:45:07.373083Z",
     "iopub.status.idle": "2023-08-26T04:45:14.295703Z",
     "shell.execute_reply": "2023-08-26T04:45:14.294265Z"
    },
    "papermill": {
     "duration": 7.056208,
     "end_time": "2023-08-26T04:45:14.298726",
     "exception": false,
     "start_time": "2023-08-26T04:45:07.242518",
     "status": "completed"
    },
    "tags": []
   },
   "outputs": [],
   "source": [
    "    # Predict on test.csv file\n",
    "    merged_test = select_features(load_csv(\"test\"), load_csv(\"movies\"))\n",
    "    X_test = merged_test.copy()\n",
    "    \n",
    "    X_test = X_test[[\"audienceScore\", \"rating\", \"isFrequentReviewer\", \"reviewText\"]]    # This is a new line"
   ]
  },
  {
   "cell_type": "code",
   "execution_count": 210,
   "id": "680b342c",
   "metadata": {
    "execution": {
     "iopub.execute_input": "2023-08-26T04:45:14.555857Z",
     "iopub.status.busy": "2023-08-26T04:45:14.555393Z",
     "iopub.status.idle": "2023-08-26T04:45:14.560402Z",
     "shell.execute_reply": "2023-08-26T04:45:14.559191Z"
    },
    "papermill": {
     "duration": 0.135921,
     "end_time": "2023-08-26T04:45:14.563188",
     "exception": false,
     "start_time": "2023-08-26T04:45:14.427267",
     "status": "completed"
    },
    "tags": []
   },
   "outputs": [],
   "source": [
    "# X_test.head()"
   ]
  },
  {
   "cell_type": "code",
   "execution_count": 211,
   "id": "5aaaf844",
   "metadata": {
    "execution": {
     "iopub.execute_input": "2023-08-26T04:45:14.818232Z",
     "iopub.status.busy": "2023-08-26T04:45:14.817758Z",
     "iopub.status.idle": "2023-08-26T04:45:14.823827Z",
     "shell.execute_reply": "2023-08-26T04:45:14.822384Z"
    },
    "papermill": {
     "duration": 0.137543,
     "end_time": "2023-08-26T04:45:14.826335",
     "exception": false,
     "start_time": "2023-08-26T04:45:14.688792",
     "status": "completed"
    },
    "tags": []
   },
   "outputs": [],
   "source": [
    "# X_test['audienceScore'].describe()"
   ]
  },
  {
   "cell_type": "code",
   "execution_count": 212,
   "id": "f3de2555",
   "metadata": {
    "execution": {
     "iopub.execute_input": "2023-08-26T04:45:15.090167Z",
     "iopub.status.busy": "2023-08-26T04:45:15.088874Z",
     "iopub.status.idle": "2023-08-26T04:45:15.093601Z",
     "shell.execute_reply": "2023-08-26T04:45:15.092763Z"
    },
    "papermill": {
     "duration": 0.137207,
     "end_time": "2023-08-26T04:45:15.096102",
     "exception": false,
     "start_time": "2023-08-26T04:45:14.958895",
     "status": "completed"
    },
    "tags": []
   },
   "outputs": [],
   "source": [
    "# X_test['rating'].value_counts()"
   ]
  },
  {
   "cell_type": "code",
   "execution_count": 213,
   "id": "f2a57239",
   "metadata": {
    "execution": {
     "iopub.execute_input": "2023-08-26T04:45:15.354723Z",
     "iopub.status.busy": "2023-08-26T04:45:15.353451Z",
     "iopub.status.idle": "2023-08-26T04:45:15.359084Z",
     "shell.execute_reply": "2023-08-26T04:45:15.357896Z"
    },
    "papermill": {
     "duration": 0.137093,
     "end_time": "2023-08-26T04:45:15.362352",
     "exception": false,
     "start_time": "2023-08-26T04:45:15.225259",
     "status": "completed"
    },
    "tags": []
   },
   "outputs": [],
   "source": [
    "# X_test['isFrequentReviewer'].value_counts()"
   ]
  },
  {
   "cell_type": "markdown",
   "id": "e77993a7",
   "metadata": {
    "papermill": {
     "duration": 0.129067,
     "end_time": "2023-08-26T04:45:15.619807",
     "exception": false,
     "start_time": "2023-08-26T04:45:15.490740",
     "status": "completed"
    },
    "tags": []
   },
   "source": [
    "## Implement KNN classifier  "
   ]
  },
  {
   "cell_type": "code",
   "execution_count": 214,
   "id": "7b035451",
   "metadata": {
    "execution": {
     "iopub.execute_input": "2023-08-26T04:45:15.873782Z",
     "iopub.status.busy": "2023-08-26T04:45:15.873352Z",
     "iopub.status.idle": "2023-08-26T04:45:15.878068Z",
     "shell.execute_reply": "2023-08-26T04:45:15.876914Z"
    },
    "papermill": {
     "duration": 0.13458,
     "end_time": "2023-08-26T04:45:15.880712",
     "exception": false,
     "start_time": "2023-08-26T04:45:15.746132",
     "status": "completed"
    },
    "tags": []
   },
   "outputs": [],
   "source": [
    "# from sklearn.neighbors import KNeighborsClassifier"
   ]
  },
  {
   "cell_type": "code",
   "execution_count": 215,
   "id": "99ba96e3",
   "metadata": {
    "execution": {
     "iopub.execute_input": "2023-08-26T04:45:16.142059Z",
     "iopub.status.busy": "2023-08-26T04:45:16.141565Z",
     "iopub.status.idle": "2023-08-26T04:45:16.147045Z",
     "shell.execute_reply": "2023-08-26T04:45:16.145580Z"
    },
    "papermill": {
     "duration": 0.13946,
     "end_time": "2023-08-26T04:45:16.149753",
     "exception": false,
     "start_time": "2023-08-26T04:45:16.010293",
     "status": "completed"
    },
    "tags": []
   },
   "outputs": [],
   "source": [
    "# Note that we are borrowing \"ct_final\" column transformer from above  "
   ]
  },
  {
   "cell_type": "code",
   "execution_count": 216,
   "id": "1293800c",
   "metadata": {
    "execution": {
     "iopub.execute_input": "2023-08-26T04:45:16.406574Z",
     "iopub.status.busy": "2023-08-26T04:45:16.406143Z",
     "iopub.status.idle": "2023-08-26T04:45:16.411451Z",
     "shell.execute_reply": "2023-08-26T04:45:16.409792Z"
    },
    "papermill": {
     "duration": 0.137368,
     "end_time": "2023-08-26T04:45:16.414845",
     "exception": false,
     "start_time": "2023-08-26T04:45:16.277477",
     "status": "completed"
    },
    "tags": []
   },
   "outputs": [],
   "source": [
    "# pipe_knn = Pipeline(steps=[\n",
    "#                         (\"preprocessor\", ct_final),\n",
    "#                         (\"model\", KNeighborsClassifier())\n",
    "#                     ])\n",
    "# pipe_knn"
   ]
  },
  {
   "cell_type": "code",
   "execution_count": 217,
   "id": "7230ae5b",
   "metadata": {
    "execution": {
     "iopub.execute_input": "2023-08-26T04:45:16.679516Z",
     "iopub.status.busy": "2023-08-26T04:45:16.679100Z",
     "iopub.status.idle": "2023-08-26T04:45:16.684393Z",
     "shell.execute_reply": "2023-08-26T04:45:16.682886Z"
    },
    "papermill": {
     "duration": 0.14166,
     "end_time": "2023-08-26T04:45:16.687437",
     "exception": false,
     "start_time": "2023-08-26T04:45:16.545777",
     "status": "completed"
    },
    "tags": []
   },
   "outputs": [],
   "source": [
    "# Train and predict on merged training data  \n",
    "# split_train_predict(merged_train_features, merged_train_labels, pipe_knn, test_size=0.25, random_state=42)"
   ]
  },
  {
   "cell_type": "markdown",
   "id": "0fa979be",
   "metadata": {
    "papermill": {
     "duration": 0.125439,
     "end_time": "2023-08-26T04:45:16.938705",
     "exception": false,
     "start_time": "2023-08-26T04:45:16.813266",
     "status": "completed"
    },
    "tags": []
   },
   "source": [
    "# Part I (Older code)  "
   ]
  },
  {
   "cell_type": "markdown",
   "id": "ab71856b",
   "metadata": {
    "papermill": {
     "duration": 0.129762,
     "end_time": "2023-08-26T04:45:17.199338",
     "exception": false,
     "start_time": "2023-08-26T04:45:17.069576",
     "status": "completed"
    },
    "tags": []
   },
   "source": [
    "### Logistic Regression with stop words  "
   ]
  },
  {
   "cell_type": "code",
   "execution_count": 218,
   "id": "cafec8d8",
   "metadata": {
    "execution": {
     "iopub.execute_input": "2023-08-26T04:45:17.526856Z",
     "iopub.status.busy": "2023-08-26T04:45:17.526457Z",
     "iopub.status.idle": "2023-08-26T04:45:17.531550Z",
     "shell.execute_reply": "2023-08-26T04:45:17.530077Z"
    },
    "papermill": {
     "duration": 0.208062,
     "end_time": "2023-08-26T04:45:17.534283",
     "exception": false,
     "start_time": "2023-08-26T04:45:17.326221",
     "status": "completed"
    },
    "tags": []
   },
   "outputs": [],
   "source": [
    "# tvec_sw = TfidfVectorizer(stop_words=stop_words)"
   ]
  },
  {
   "cell_type": "code",
   "execution_count": 219,
   "id": "45d2e488",
   "metadata": {
    "execution": {
     "iopub.execute_input": "2023-08-26T04:45:17.792505Z",
     "iopub.status.busy": "2023-08-26T04:45:17.792038Z",
     "iopub.status.idle": "2023-08-26T04:45:17.797459Z",
     "shell.execute_reply": "2023-08-26T04:45:17.795761Z"
    },
    "papermill": {
     "duration": 0.139597,
     "end_time": "2023-08-26T04:45:17.800111",
     "exception": false,
     "start_time": "2023-08-26T04:45:17.660514",
     "status": "completed"
    },
    "tags": []
   },
   "outputs": [],
   "source": [
    "# logreg_sw_pipe = preprocess_n_train(X_train, y_train, tvec_sw, logreg)\n",
    "# logreg_sw_pipe"
   ]
  },
  {
   "cell_type": "code",
   "execution_count": 220,
   "id": "e0e4dbcb",
   "metadata": {
    "execution": {
     "iopub.execute_input": "2023-08-26T04:45:18.067244Z",
     "iopub.status.busy": "2023-08-26T04:45:18.066754Z",
     "iopub.status.idle": "2023-08-26T04:45:18.072176Z",
     "shell.execute_reply": "2023-08-26T04:45:18.070610Z"
    },
    "papermill": {
     "duration": 0.147324,
     "end_time": "2023-08-26T04:45:18.074601",
     "exception": false,
     "start_time": "2023-08-26T04:45:17.927277",
     "status": "completed"
    },
    "tags": []
   },
   "outputs": [],
   "source": [
    "# y_pred_logreg_sw = predict_n_evaluate(logreg_sw_pipe, X_test, y_test)\n",
    "# y_pred_logreg_sw"
   ]
  },
  {
   "cell_type": "markdown",
   "id": "5fa1879f",
   "metadata": {
    "papermill": {
     "duration": 0.12802,
     "end_time": "2023-08-26T04:45:18.332607",
     "exception": false,
     "start_time": "2023-08-26T04:45:18.204587",
     "status": "completed"
    },
    "tags": []
   },
   "source": [
    "### Logistic regression with different ngram ranges  "
   ]
  },
  {
   "cell_type": "code",
   "execution_count": 221,
   "id": "2296122c",
   "metadata": {
    "execution": {
     "iopub.execute_input": "2023-08-26T04:45:18.606412Z",
     "iopub.status.busy": "2023-08-26T04:45:18.605860Z",
     "iopub.status.idle": "2023-08-26T04:45:18.611709Z",
     "shell.execute_reply": "2023-08-26T04:45:18.610294Z"
    },
    "papermill": {
     "duration": 0.141272,
     "end_time": "2023-08-26T04:45:18.614789",
     "exception": false,
     "start_time": "2023-08-26T04:45:18.473517",
     "status": "completed"
    },
    "tags": []
   },
   "outputs": [],
   "source": [
    "# tvec_ngram_2 = TfidfVectorizer(ngram_range=(1,2))"
   ]
  },
  {
   "cell_type": "code",
   "execution_count": 222,
   "id": "272631bb",
   "metadata": {
    "execution": {
     "iopub.execute_input": "2023-08-26T04:45:18.877796Z",
     "iopub.status.busy": "2023-08-26T04:45:18.877299Z",
     "iopub.status.idle": "2023-08-26T04:45:18.882852Z",
     "shell.execute_reply": "2023-08-26T04:45:18.881292Z"
    },
    "papermill": {
     "duration": 0.140621,
     "end_time": "2023-08-26T04:45:18.886466",
     "exception": false,
     "start_time": "2023-08-26T04:45:18.745845",
     "status": "completed"
    },
    "tags": []
   },
   "outputs": [],
   "source": [
    "# logreg_ng2_pipe = preprocess_n_train(X_train, y_train, tvec_ngram_2, logreg)\n",
    "# logreg_ng2_pipe"
   ]
  },
  {
   "cell_type": "code",
   "execution_count": 223,
   "id": "33fbee93",
   "metadata": {
    "execution": {
     "iopub.execute_input": "2023-08-26T04:45:19.154807Z",
     "iopub.status.busy": "2023-08-26T04:45:19.154325Z",
     "iopub.status.idle": "2023-08-26T04:45:19.159875Z",
     "shell.execute_reply": "2023-08-26T04:45:19.158235Z"
    },
    "papermill": {
     "duration": 0.138101,
     "end_time": "2023-08-26T04:45:19.162588",
     "exception": false,
     "start_time": "2023-08-26T04:45:19.024487",
     "status": "completed"
    },
    "tags": []
   },
   "outputs": [],
   "source": [
    "# y_pred_logreg_ng2 = predict_n_evaluate(logreg_ng2_pipe, X_test, y_test)\n",
    "# y_pred_logreg_ng2"
   ]
  },
  {
   "cell_type": "markdown",
   "id": "61cb8072",
   "metadata": {
    "papermill": {
     "duration": 0.131673,
     "end_time": "2023-08-26T04:45:19.424572",
     "exception": false,
     "start_time": "2023-08-26T04:45:19.292899",
     "status": "completed"
    },
    "tags": []
   },
   "source": [
    "### Logistic regression with C=2, ngram range (1,2), stop words as None and min_df, max_df adjusted\n",
    "### Class weight balanced"
   ]
  },
  {
   "cell_type": "code",
   "execution_count": 224,
   "id": "77f228a7",
   "metadata": {
    "execution": {
     "iopub.execute_input": "2023-08-26T04:45:19.686562Z",
     "iopub.status.busy": "2023-08-26T04:45:19.686102Z",
     "iopub.status.idle": "2023-08-26T04:45:19.691755Z",
     "shell.execute_reply": "2023-08-26T04:45:19.690607Z"
    },
    "papermill": {
     "duration": 0.140675,
     "end_time": "2023-08-26T04:45:19.694405",
     "exception": false,
     "start_time": "2023-08-26T04:45:19.553730",
     "status": "completed"
    },
    "tags": []
   },
   "outputs": [],
   "source": [
    "# logreg = LogisticRegression(max_iter=100000, C=2, class_weight=\"balanced\")"
   ]
  },
  {
   "cell_type": "code",
   "execution_count": 225,
   "id": "c59eb3b3",
   "metadata": {
    "execution": {
     "iopub.execute_input": "2023-08-26T04:45:19.958253Z",
     "iopub.status.busy": "2023-08-26T04:45:19.956889Z",
     "iopub.status.idle": "2023-08-26T04:45:19.962792Z",
     "shell.execute_reply": "2023-08-26T04:45:19.961761Z"
    },
    "papermill": {
     "duration": 0.141376,
     "end_time": "2023-08-26T04:45:19.965485",
     "exception": false,
     "start_time": "2023-08-26T04:45:19.824109",
     "status": "completed"
    },
    "tags": []
   },
   "outputs": [],
   "source": [
    "# tvec_ngram_2_sw_df = TfidfVectorizer(ngram_range=(1,2), stop_words=None, min_df=0.0001, max_df=0.50)\n",
    "# tvec_ngram_2_sw_df"
   ]
  },
  {
   "cell_type": "code",
   "execution_count": 226,
   "id": "7360b574",
   "metadata": {
    "execution": {
     "iopub.execute_input": "2023-08-26T04:45:20.230275Z",
     "iopub.status.busy": "2023-08-26T04:45:20.229474Z",
     "iopub.status.idle": "2023-08-26T04:45:20.234912Z",
     "shell.execute_reply": "2023-08-26T04:45:20.233493Z"
    },
    "papermill": {
     "duration": 0.140291,
     "end_time": "2023-08-26T04:45:20.237791",
     "exception": false,
     "start_time": "2023-08-26T04:45:20.097500",
     "status": "completed"
    },
    "tags": []
   },
   "outputs": [],
   "source": [
    "# logreg_ng2_sw_df_pipe = preprocess_n_train(X_train, y_train, tvec_ngram_2_sw_df, logreg)\n",
    "# logreg_ng2_sw_df_pipe"
   ]
  },
  {
   "cell_type": "code",
   "execution_count": 227,
   "id": "3c6e6268",
   "metadata": {
    "execution": {
     "iopub.execute_input": "2023-08-26T04:45:20.499307Z",
     "iopub.status.busy": "2023-08-26T04:45:20.498790Z",
     "iopub.status.idle": "2023-08-26T04:45:20.504766Z",
     "shell.execute_reply": "2023-08-26T04:45:20.503244Z"
    },
    "papermill": {
     "duration": 0.143223,
     "end_time": "2023-08-26T04:45:20.507809",
     "exception": false,
     "start_time": "2023-08-26T04:45:20.364586",
     "status": "completed"
    },
    "tags": []
   },
   "outputs": [],
   "source": [
    "# y_pred_logreg_ng2_sw_df = predict_n_evaluate(logreg_ng2_sw_df_pipe, X_test, y_test)\n",
    "# y_pred_logreg_ng2_sw_df"
   ]
  },
  {
   "cell_type": "markdown",
   "id": "5a46aa3f",
   "metadata": {
    "papermill": {
     "duration": 0.127478,
     "end_time": "2023-08-26T04:45:20.761677",
     "exception": false,
     "start_time": "2023-08-26T04:45:20.634199",
     "status": "completed"
    },
    "tags": []
   },
   "source": [
    "### Log reg with parameters from GridSearchCV  \n",
    "\n",
    "`This is the best score with \"reviewText column alone for analysis`  "
   ]
  },
  {
   "cell_type": "code",
   "execution_count": 228,
   "id": "737e5bf7",
   "metadata": {
    "execution": {
     "iopub.execute_input": "2023-08-26T04:45:21.036193Z",
     "iopub.status.busy": "2023-08-26T04:45:21.035727Z",
     "iopub.status.idle": "2023-08-26T04:45:21.042691Z",
     "shell.execute_reply": "2023-08-26T04:45:21.041180Z"
    },
    "papermill": {
     "duration": 0.149378,
     "end_time": "2023-08-26T04:45:21.045624",
     "exception": false,
     "start_time": "2023-08-26T04:45:20.896246",
     "status": "completed"
    },
    "tags": []
   },
   "outputs": [],
   "source": [
    "logreg_cv1 = LogisticRegression(max_iter=100000, C=10)\n",
    "tvec_cv1 = TfidfVectorizer(max_features=None, ngram_range=(1,2))"
   ]
  },
  {
   "cell_type": "code",
   "execution_count": 229,
   "id": "7c7cc9b9",
   "metadata": {
    "execution": {
     "iopub.execute_input": "2023-08-26T04:45:21.309131Z",
     "iopub.status.busy": "2023-08-26T04:45:21.308713Z",
     "iopub.status.idle": "2023-08-26T04:45:21.315112Z",
     "shell.execute_reply": "2023-08-26T04:45:21.313674Z"
    },
    "papermill": {
     "duration": 0.140752,
     "end_time": "2023-08-26T04:45:21.317921",
     "exception": false,
     "start_time": "2023-08-26T04:45:21.177169",
     "status": "completed"
    },
    "tags": []
   },
   "outputs": [],
   "source": [
    "pipe_cv1 = Pipeline(steps=[\n",
    "    (\"preprocessor\", tvec_cv1),\n",
    "    (\"model\", logreg_cv1)\n",
    "])"
   ]
  },
  {
   "cell_type": "code",
   "execution_count": 230,
   "id": "01e433e3",
   "metadata": {
    "execution": {
     "iopub.execute_input": "2023-08-26T04:45:21.579301Z",
     "iopub.status.busy": "2023-08-26T04:45:21.578860Z",
     "iopub.status.idle": "2023-08-26T04:45:21.585095Z",
     "shell.execute_reply": "2023-08-26T04:45:21.583581Z"
    },
    "papermill": {
     "duration": 0.141543,
     "end_time": "2023-08-26T04:45:21.587864",
     "exception": false,
     "start_time": "2023-08-26T04:45:21.446321",
     "status": "completed"
    },
    "tags": []
   },
   "outputs": [],
   "source": [
    "# pipe_cv1.fit(X_train, y_train)"
   ]
  },
  {
   "cell_type": "code",
   "execution_count": 231,
   "id": "d4bcc23c",
   "metadata": {
    "execution": {
     "iopub.execute_input": "2023-08-26T04:45:21.846169Z",
     "iopub.status.busy": "2023-08-26T04:45:21.844879Z",
     "iopub.status.idle": "2023-08-26T04:45:21.850518Z",
     "shell.execute_reply": "2023-08-26T04:45:21.849232Z"
    },
    "papermill": {
     "duration": 0.137223,
     "end_time": "2023-08-26T04:45:21.853147",
     "exception": false,
     "start_time": "2023-08-26T04:45:21.715924",
     "status": "completed"
    },
    "tags": []
   },
   "outputs": [],
   "source": [
    "# pipe_cv1.score(X_train, y_train)"
   ]
  },
  {
   "cell_type": "markdown",
   "id": "74d80d15",
   "metadata": {
    "papermill": {
     "duration": 0.136139,
     "end_time": "2023-08-26T04:45:22.121850",
     "exception": false,
     "start_time": "2023-08-26T04:45:21.985711",
     "status": "completed"
    },
    "tags": []
   },
   "source": [
    "### SVM model with stop words  "
   ]
  },
  {
   "cell_type": "code",
   "execution_count": 232,
   "id": "023af3e7",
   "metadata": {
    "execution": {
     "iopub.execute_input": "2023-08-26T04:45:22.383318Z",
     "iopub.status.busy": "2023-08-26T04:45:22.382796Z",
     "iopub.status.idle": "2023-08-26T04:45:22.388675Z",
     "shell.execute_reply": "2023-08-26T04:45:22.387047Z"
    },
    "papermill": {
     "duration": 0.136587,
     "end_time": "2023-08-26T04:45:22.391569",
     "exception": false,
     "start_time": "2023-08-26T04:45:22.254982",
     "status": "completed"
    },
    "tags": []
   },
   "outputs": [],
   "source": [
    "# svm_sw_pipe = preprocess_n_train(X_train, y_train, tvec_sw, svm)\n",
    "# svm_sw_pipe"
   ]
  },
  {
   "cell_type": "code",
   "execution_count": 233,
   "id": "f37ff117",
   "metadata": {
    "execution": {
     "iopub.execute_input": "2023-08-26T04:45:22.679351Z",
     "iopub.status.busy": "2023-08-26T04:45:22.678835Z",
     "iopub.status.idle": "2023-08-26T04:45:22.684507Z",
     "shell.execute_reply": "2023-08-26T04:45:22.683167Z"
    },
    "papermill": {
     "duration": 0.162681,
     "end_time": "2023-08-26T04:45:22.687125",
     "exception": false,
     "start_time": "2023-08-26T04:45:22.524444",
     "status": "completed"
    },
    "tags": []
   },
   "outputs": [],
   "source": [
    "# y_pred_svm_sw = predict_n_evaluate(svm_sw_pipe, X_test, y_test)\n",
    "# y_pred_svm_sw"
   ]
  },
  {
   "cell_type": "markdown",
   "id": "3655555a",
   "metadata": {
    "papermill": {
     "duration": 0.239108,
     "end_time": "2023-08-26T04:45:23.054577",
     "exception": false,
     "start_time": "2023-08-26T04:45:22.815469",
     "status": "completed"
    },
    "tags": []
   },
   "source": [
    "### GaussianNB  "
   ]
  },
  {
   "cell_type": "markdown",
   "id": "4d58d32e",
   "metadata": {
    "papermill": {
     "duration": 0.127511,
     "end_time": "2023-08-26T04:45:23.312231",
     "exception": false,
     "start_time": "2023-08-26T04:45:23.184720",
     "status": "completed"
    },
    "tags": []
   },
   "source": [
    "https://stackoverflow.com/questions/28384680/scikit-learns-pipeline-a-sparse-matrix-was-passed-but-dense-data-is-required"
   ]
  },
  {
   "cell_type": "code",
   "execution_count": 234,
   "id": "ea3bf613",
   "metadata": {
    "execution": {
     "iopub.execute_input": "2023-08-26T04:45:23.573658Z",
     "iopub.status.busy": "2023-08-26T04:45:23.573178Z",
     "iopub.status.idle": "2023-08-26T04:45:23.578414Z",
     "shell.execute_reply": "2023-08-26T04:45:23.576862Z"
    },
    "papermill": {
     "duration": 0.139533,
     "end_time": "2023-08-26T04:45:23.581453",
     "exception": false,
     "start_time": "2023-08-26T04:45:23.441920",
     "status": "completed"
    },
    "tags": []
   },
   "outputs": [],
   "source": [
    "# gnb = GaussianNB()\n",
    "# gnb"
   ]
  },
  {
   "cell_type": "code",
   "execution_count": 235,
   "id": "85099fec",
   "metadata": {
    "execution": {
     "iopub.execute_input": "2023-08-26T04:45:23.840672Z",
     "iopub.status.busy": "2023-08-26T04:45:23.839934Z",
     "iopub.status.idle": "2023-08-26T04:45:23.845313Z",
     "shell.execute_reply": "2023-08-26T04:45:23.843957Z"
    },
    "papermill": {
     "duration": 0.136761,
     "end_time": "2023-08-26T04:45:23.847838",
     "exception": false,
     "start_time": "2023-08-26T04:45:23.711077",
     "status": "completed"
    },
    "tags": []
   },
   "outputs": [],
   "source": [
    "# gnb_pipe = preprocess_n_train(X_train, y_train, tvec, gnb)\n",
    "# gnb_pipe"
   ]
  },
  {
   "cell_type": "markdown",
   "id": "29c948ba",
   "metadata": {
    "papermill": {
     "duration": 0.136742,
     "end_time": "2023-08-26T04:45:24.113513",
     "exception": false,
     "start_time": "2023-08-26T04:45:23.976771",
     "status": "completed"
    },
    "tags": []
   },
   "source": [
    "# Part II (Older code)  \n"
   ]
  },
  {
   "cell_type": "markdown",
   "id": "3fb306a1",
   "metadata": {
    "papermill": {
     "duration": 0.126128,
     "end_time": "2023-08-26T04:45:24.367600",
     "exception": false,
     "start_time": "2023-08-26T04:45:24.241472",
     "status": "completed"
    },
    "tags": []
   },
   "source": [
    "### Separate features and labels from merged dataset  "
   ]
  },
  {
   "cell_type": "code",
   "execution_count": 236,
   "id": "fb9a166b",
   "metadata": {
    "execution": {
     "iopub.execute_input": "2023-08-26T04:45:24.626477Z",
     "iopub.status.busy": "2023-08-26T04:45:24.626053Z",
     "iopub.status.idle": "2023-08-26T04:45:24.631767Z",
     "shell.execute_reply": "2023-08-26T04:45:24.630131Z"
    },
    "papermill": {
     "duration": 0.139087,
     "end_time": "2023-08-26T04:45:24.634949",
     "exception": false,
     "start_time": "2023-08-26T04:45:24.495862",
     "status": "completed"
    },
    "tags": []
   },
   "outputs": [],
   "source": [
    "# merged_train_features = merged[['movieid', 'reviewerName', 'isFrequentReviewer', 'reviewText',\n",
    "#        'audienceScore', 'rating', 'runtimeMinutes', 'genre',\n",
    "#        'originalLanguage', 'director']]\n",
    "# merged_train_features.shape"
   ]
  },
  {
   "cell_type": "code",
   "execution_count": 237,
   "id": "6fefa556",
   "metadata": {
    "execution": {
     "iopub.execute_input": "2023-08-26T04:45:24.892053Z",
     "iopub.status.busy": "2023-08-26T04:45:24.891595Z",
     "iopub.status.idle": "2023-08-26T04:45:24.896988Z",
     "shell.execute_reply": "2023-08-26T04:45:24.895526Z"
    },
    "papermill": {
     "duration": 0.137177,
     "end_time": "2023-08-26T04:45:24.900025",
     "exception": false,
     "start_time": "2023-08-26T04:45:24.762848",
     "status": "completed"
    },
    "tags": []
   },
   "outputs": [],
   "source": [
    "# merged_train_labels = merged[\"sentiment\"]\n",
    "# merged_train_labels.shape"
   ]
  },
  {
   "cell_type": "markdown",
   "id": "228ace7d",
   "metadata": {
    "papermill": {
     "duration": 0.128718,
     "end_time": "2023-08-26T04:45:25.162579",
     "exception": false,
     "start_time": "2023-08-26T04:45:25.033861",
     "status": "completed"
    },
    "tags": []
   },
   "source": [
    "### Identify variable types for different preprocessing pipes  "
   ]
  },
  {
   "cell_type": "code",
   "execution_count": 238,
   "id": "82199f8c",
   "metadata": {
    "execution": {
     "iopub.execute_input": "2023-08-26T04:45:25.422545Z",
     "iopub.status.busy": "2023-08-26T04:45:25.421746Z",
     "iopub.status.idle": "2023-08-26T04:45:25.427703Z",
     "shell.execute_reply": "2023-08-26T04:45:25.426160Z"
    },
    "papermill": {
     "duration": 0.139161,
     "end_time": "2023-08-26T04:45:25.430617",
     "exception": false,
     "start_time": "2023-08-26T04:45:25.291456",
     "status": "completed"
    },
    "tags": []
   },
   "outputs": [],
   "source": [
    "# num_vars = [\"audienceScore\", \"runtimeMinutes\"]\n",
    "# txt_vars = [\"originalLanguage\", \"genre\", \"director\", \"reviewerName\", \"reviewText\"]\n",
    "# cat_vars = [\"rating\", \"isFrequentReviewer\"]"
   ]
  },
  {
   "cell_type": "code",
   "execution_count": 239,
   "id": "b2c4c245",
   "metadata": {
    "execution": {
     "iopub.execute_input": "2023-08-26T04:45:25.693071Z",
     "iopub.status.busy": "2023-08-26T04:45:25.692580Z",
     "iopub.status.idle": "2023-08-26T04:45:25.697928Z",
     "shell.execute_reply": "2023-08-26T04:45:25.696877Z"
    },
    "papermill": {
     "duration": 0.136731,
     "end_time": "2023-08-26T04:45:25.700261",
     "exception": false,
     "start_time": "2023-08-26T04:45:25.563530",
     "status": "completed"
    },
    "tags": []
   },
   "outputs": [],
   "source": [
    "# num_pipe = Pipeline(steps=[\n",
    "#                             (\"imputer\", SimpleImputer(strategy=\"mean\", missing_values=np.nan)),\n",
    "#                             (\"scaler\", MinMaxScaler())\n",
    "#                         ])\n",
    "# num_pipe"
   ]
  },
  {
   "cell_type": "code",
   "execution_count": 240,
   "id": "450063ae",
   "metadata": {
    "execution": {
     "iopub.execute_input": "2023-08-26T04:45:25.958836Z",
     "iopub.status.busy": "2023-08-26T04:45:25.958087Z",
     "iopub.status.idle": "2023-08-26T04:45:25.963074Z",
     "shell.execute_reply": "2023-08-26T04:45:25.962149Z"
    },
    "papermill": {
     "duration": 0.137882,
     "end_time": "2023-08-26T04:45:25.965539",
     "exception": false,
     "start_time": "2023-08-26T04:45:25.827657",
     "status": "completed"
    },
    "tags": []
   },
   "outputs": [],
   "source": [
    "# txt_pipe = Pipeline(steps=[\n",
    "#                             (\"tvec\", TfidfVectorizer())\n",
    "#                         ])\n",
    "# txt_pipe"
   ]
  },
  {
   "cell_type": "code",
   "execution_count": 241,
   "id": "b61b889b",
   "metadata": {
    "execution": {
     "iopub.execute_input": "2023-08-26T04:45:26.232402Z",
     "iopub.status.busy": "2023-08-26T04:45:26.231951Z",
     "iopub.status.idle": "2023-08-26T04:45:26.236400Z",
     "shell.execute_reply": "2023-08-26T04:45:26.235503Z"
    },
    "papermill": {
     "duration": 0.137048,
     "end_time": "2023-08-26T04:45:26.238483",
     "exception": false,
     "start_time": "2023-08-26T04:45:26.101435",
     "status": "completed"
    },
    "tags": []
   },
   "outputs": [],
   "source": [
    "# cat_pipe = Pipeline(steps=[\n",
    "#                             (\"ohe\", OneHotEncoder(handle_unknown=\"ignore\"))\n",
    "#                         ])\n",
    "# cat_pipe"
   ]
  },
  {
   "cell_type": "code",
   "execution_count": 242,
   "id": "c3107e94",
   "metadata": {
    "execution": {
     "iopub.execute_input": "2023-08-26T04:45:26.498717Z",
     "iopub.status.busy": "2023-08-26T04:45:26.498105Z",
     "iopub.status.idle": "2023-08-26T04:45:26.504088Z",
     "shell.execute_reply": "2023-08-26T04:45:26.502697Z"
    },
    "papermill": {
     "duration": 0.13986,
     "end_time": "2023-08-26T04:45:26.507218",
     "exception": false,
     "start_time": "2023-08-26T04:45:26.367358",
     "status": "completed"
    },
    "tags": []
   },
   "outputs": [],
   "source": [
    "# tfidf_vec_1 = TfidfVectorizer(ngram_range=(1,2))\n",
    "# tfidf_vec_1"
   ]
  },
  {
   "cell_type": "code",
   "execution_count": 243,
   "id": "02b4b352",
   "metadata": {
    "execution": {
     "iopub.execute_input": "2023-08-26T04:45:26.768701Z",
     "iopub.status.busy": "2023-08-26T04:45:26.767665Z",
     "iopub.status.idle": "2023-08-26T04:45:26.773816Z",
     "shell.execute_reply": "2023-08-26T04:45:26.772370Z"
    },
    "papermill": {
     "duration": 0.13907,
     "end_time": "2023-08-26T04:45:26.776512",
     "exception": false,
     "start_time": "2023-08-26T04:45:26.637442",
     "status": "completed"
    },
    "tags": []
   },
   "outputs": [],
   "source": [
    "# ct_final = ColumnTransformer(transformers=[\n",
    "#                                         (\"num\", num_pipe, num_vars),\n",
    "#                                         (\"txt1\", txt_pipe, \"originalLanguage\"),\n",
    "#                                         (\"txt2\", txt_pipe, \"genre\"),\n",
    "#                                         (\"txt3\", txt_pipe, \"director\"),\n",
    "#                                         (\"cat\", cat_pipe, cat_vars),\n",
    "#                                         (\"txt4a\", tfidf_vec_1, \"reviewText\")\n",
    "# #                                         (\"txt4\", TfidfVectorizer(ngram_range=(1,2)), \"reviewText\"),\n",
    "# #                                         (\"cat2\", cat_pipe, [\"isFrequentReviewer\"])\n",
    "#                                         ], remainder=\"drop\", n_jobs=1)\n",
    "\n",
    "# # Note that this transformer drops \"movieid\" column and \"reviewerName\" column  \n",
    "# ct_final"
   ]
  },
  {
   "cell_type": "code",
   "execution_count": 244,
   "id": "ce5f4bdf",
   "metadata": {
    "execution": {
     "iopub.execute_input": "2023-08-26T04:45:27.047292Z",
     "iopub.status.busy": "2023-08-26T04:45:27.045707Z",
     "iopub.status.idle": "2023-08-26T04:45:27.051104Z",
     "shell.execute_reply": "2023-08-26T04:45:27.050146Z"
    },
    "papermill": {
     "duration": 0.149081,
     "end_time": "2023-08-26T04:45:27.053958",
     "exception": false,
     "start_time": "2023-08-26T04:45:26.904877",
     "status": "completed"
    },
    "tags": []
   },
   "outputs": [],
   "source": [
    "# pipe_final = Pipeline(steps=[\n",
    "#                         (\"preprocessor\", ct_final),\n",
    "#                         (\"model\", LogisticRegression(max_iter=100000))\n",
    "#                     ])\n",
    "# pipe_final"
   ]
  },
  {
   "cell_type": "code",
   "execution_count": 245,
   "id": "f9de320b",
   "metadata": {
    "execution": {
     "iopub.execute_input": "2023-08-26T04:45:27.420402Z",
     "iopub.status.busy": "2023-08-26T04:45:27.419569Z",
     "iopub.status.idle": "2023-08-26T04:45:27.423754Z",
     "shell.execute_reply": "2023-08-26T04:45:27.422925Z"
    },
    "papermill": {
     "duration": 0.239183,
     "end_time": "2023-08-26T04:45:27.426480",
     "exception": false,
     "start_time": "2023-08-26T04:45:27.187297",
     "status": "completed"
    },
    "tags": []
   },
   "outputs": [],
   "source": [
    "# final_vars = num_vars + txt_vars + cat_vars\n",
    "# len(final_vars), final_vars"
   ]
  },
  {
   "cell_type": "markdown",
   "id": "40a49169",
   "metadata": {
    "papermill": {
     "duration": 0.126579,
     "end_time": "2023-08-26T04:45:27.684353",
     "exception": false,
     "start_time": "2023-08-26T04:45:27.557774",
     "status": "completed"
    },
    "tags": []
   },
   "source": [
    "### Use \"split_train_predict\" function to run end-to-end pipeline  "
   ]
  },
  {
   "cell_type": "code",
   "execution_count": 246,
   "id": "ab48fcab",
   "metadata": {
    "execution": {
     "iopub.execute_input": "2023-08-26T04:45:27.952034Z",
     "iopub.status.busy": "2023-08-26T04:45:27.951231Z",
     "iopub.status.idle": "2023-08-26T04:45:27.956375Z",
     "shell.execute_reply": "2023-08-26T04:45:27.955278Z"
    },
    "papermill": {
     "duration": 0.139529,
     "end_time": "2023-08-26T04:45:27.959233",
     "exception": false,
     "start_time": "2023-08-26T04:45:27.819704",
     "status": "completed"
    },
    "tags": []
   },
   "outputs": [],
   "source": [
    "# split_train_predict(merged_train_features, merged_train_labels, pipe_final, test_size=0.25, random_state=42)"
   ]
  },
  {
   "cell_type": "markdown",
   "id": "0a9fb17c",
   "metadata": {
    "papermill": {
     "duration": 0.130132,
     "end_time": "2023-08-26T04:45:28.225126",
     "exception": false,
     "start_time": "2023-08-26T04:45:28.094994",
     "status": "completed"
    },
    "tags": []
   },
   "source": [
    "## Try the best four features obtained on local machine  "
   ]
  },
  {
   "cell_type": "code",
   "execution_count": 247,
   "id": "95c4c123",
   "metadata": {
    "execution": {
     "iopub.execute_input": "2023-08-26T04:45:28.485979Z",
     "iopub.status.busy": "2023-08-26T04:45:28.485524Z",
     "iopub.status.idle": "2023-08-26T04:45:28.490503Z",
     "shell.execute_reply": "2023-08-26T04:45:28.489526Z"
    },
    "papermill": {
     "duration": 0.137349,
     "end_time": "2023-08-26T04:45:28.493377",
     "exception": false,
     "start_time": "2023-08-26T04:45:28.356028",
     "status": "completed"
    },
    "tags": []
   },
   "outputs": [],
   "source": [
    "# tfidf_vec_2 = TfidfVectorizer(ngram_range=(1,2))\n",
    "# tfidf_vec_2"
   ]
  },
  {
   "cell_type": "code",
   "execution_count": 248,
   "id": "175a4387",
   "metadata": {
    "execution": {
     "iopub.execute_input": "2023-08-26T04:45:28.757065Z",
     "iopub.status.busy": "2023-08-26T04:45:28.756269Z",
     "iopub.status.idle": "2023-08-26T04:45:28.761050Z",
     "shell.execute_reply": "2023-08-26T04:45:28.760108Z"
    },
    "papermill": {
     "duration": 0.139606,
     "end_time": "2023-08-26T04:45:28.764050",
     "exception": false,
     "start_time": "2023-08-26T04:45:28.624444",
     "status": "completed"
    },
    "tags": []
   },
   "outputs": [],
   "source": [
    "# ct_best4 = ColumnTransformer(transformers=[\n",
    "#                                             (\"num\", num_pipe, [\"audienceScore\"]),\n",
    "#                                             (\"cat\", cat_pipe, [\"rating\", \"isFrequentReviewer\"]),\n",
    "#                                             (\"tvec\", tfidf_vec_2, \"reviewText\")\n",
    "#                             ])\n",
    "\n",
    "# pipe_best4 = Pipeline(steps=[\n",
    "#     (\"preprocessor\", ct_best4),\n",
    "#     (\"model\", LogisticRegression())\n",
    "# ])\n",
    "\n",
    "# pipe_best4.set_params(model__C=10, model__max_iter=100000)\n",
    "\n",
    "# pipe_best4"
   ]
  },
  {
   "cell_type": "code",
   "execution_count": 249,
   "id": "a35d2571",
   "metadata": {
    "execution": {
     "iopub.execute_input": "2023-08-26T04:45:29.032045Z",
     "iopub.status.busy": "2023-08-26T04:45:29.031268Z",
     "iopub.status.idle": "2023-08-26T04:45:29.035715Z",
     "shell.execute_reply": "2023-08-26T04:45:29.034787Z"
    },
    "papermill": {
     "duration": 0.143412,
     "end_time": "2023-08-26T04:45:29.038302",
     "exception": false,
     "start_time": "2023-08-26T04:45:28.894890",
     "status": "completed"
    },
    "tags": []
   },
   "outputs": [],
   "source": [
    "# split_train_predict(merged[[\"audienceScore\", \"rating\", \"isFrequentReviewer\", \"reviewText\"]], merged[\"sentiment\"], pipe_best4, test_size=0.25)"
   ]
  },
  {
   "cell_type": "markdown",
   "id": "353685ca",
   "metadata": {
    "papermill": {
     "duration": 0.133499,
     "end_time": "2023-08-26T04:45:29.299626",
     "exception": false,
     "start_time": "2023-08-26T04:45:29.166127",
     "status": "completed"
    },
    "tags": []
   },
   "source": [
    "## Try only 'reviewText' column  "
   ]
  },
  {
   "cell_type": "code",
   "execution_count": 250,
   "id": "81e57956",
   "metadata": {
    "execution": {
     "iopub.execute_input": "2023-08-26T04:45:29.557477Z",
     "iopub.status.busy": "2023-08-26T04:45:29.556995Z",
     "iopub.status.idle": "2023-08-26T04:45:29.561800Z",
     "shell.execute_reply": "2023-08-26T04:45:29.560524Z"
    },
    "papermill": {
     "duration": 0.137512,
     "end_time": "2023-08-26T04:45:29.564751",
     "exception": false,
     "start_time": "2023-08-26T04:45:29.427239",
     "status": "completed"
    },
    "tags": []
   },
   "outputs": [],
   "source": [
    "# tfidf_vec_3 = TfidfVectorizer(ngram_range=(1,2))\n",
    "# tfidf_vec_3"
   ]
  },
  {
   "cell_type": "code",
   "execution_count": 251,
   "id": "cc4900fe",
   "metadata": {
    "execution": {
     "iopub.execute_input": "2023-08-26T04:45:29.826650Z",
     "iopub.status.busy": "2023-08-26T04:45:29.826177Z",
     "iopub.status.idle": "2023-08-26T04:45:29.831923Z",
     "shell.execute_reply": "2023-08-26T04:45:29.830318Z"
    },
    "papermill": {
     "duration": 0.13988,
     "end_time": "2023-08-26T04:45:29.834812",
     "exception": false,
     "start_time": "2023-08-26T04:45:29.694932",
     "status": "completed"
    },
    "tags": []
   },
   "outputs": [],
   "source": [
    "# ct_RTonly = ColumnTransformer(transformers=[\n",
    "#                                             ('txt', tfidf_vec_3, 'reviewText'),\n",
    "#                                             ], remainder='drop')\n",
    "# ct_RTonly"
   ]
  },
  {
   "cell_type": "code",
   "execution_count": 252,
   "id": "39e34b86",
   "metadata": {
    "execution": {
     "iopub.execute_input": "2023-08-26T04:45:30.103394Z",
     "iopub.status.busy": "2023-08-26T04:45:30.102876Z",
     "iopub.status.idle": "2023-08-26T04:45:30.108687Z",
     "shell.execute_reply": "2023-08-26T04:45:30.107441Z"
    },
    "papermill": {
     "duration": 0.145474,
     "end_time": "2023-08-26T04:45:30.111312",
     "exception": false,
     "start_time": "2023-08-26T04:45:29.965838",
     "status": "completed"
    },
    "tags": []
   },
   "outputs": [],
   "source": [
    "# pipe_RTonly = Pipeline(steps=[\n",
    "#     (\"preprocessor\", ct_RTonly),\n",
    "#     (\"model\", LogisticRegression())\n",
    "# ])\n",
    "\n",
    "# pipe_RTonly.set_params(model__C=10, model__max_iter=100000)\n",
    "\n",
    "# pipe_RTonly"
   ]
  },
  {
   "cell_type": "markdown",
   "id": "8f4b1154",
   "metadata": {
    "papermill": {
     "duration": 0.128753,
     "end_time": "2023-08-26T04:45:30.370618",
     "exception": false,
     "start_time": "2023-08-26T04:45:30.241865",
     "status": "completed"
    },
    "tags": []
   },
   "source": [
    "## Using the 'submit_v4' function  "
   ]
  },
  {
   "cell_type": "markdown",
   "id": "4dd033ee",
   "metadata": {
    "papermill": {
     "duration": 0.129095,
     "end_time": "2023-08-26T04:45:30.632706",
     "exception": false,
     "start_time": "2023-08-26T04:45:30.503611",
     "status": "completed"
    },
    "tags": []
   },
   "source": [
    "### Try the best 4 parameters with submit_v4 function"
   ]
  },
  {
   "cell_type": "code",
   "execution_count": 253,
   "id": "97171acd",
   "metadata": {
    "execution": {
     "iopub.execute_input": "2023-08-26T04:45:30.892356Z",
     "iopub.status.busy": "2023-08-26T04:45:30.890511Z",
     "iopub.status.idle": "2023-08-26T04:45:30.897581Z",
     "shell.execute_reply": "2023-08-26T04:45:30.896478Z"
    },
    "papermill": {
     "duration": 0.140354,
     "end_time": "2023-08-26T04:45:30.900813",
     "exception": false,
     "start_time": "2023-08-26T04:45:30.760459",
     "status": "completed"
    },
    "tags": []
   },
   "outputs": [],
   "source": [
    "# best4 = [\"audienceScore\", \"rating\", \"isFrequentReviewer\", \"reviewText\"]\n",
    "\n",
    "# best4_dict = {'cat': [\"rating\", \"isFrequentReviewer\"],\n",
    "#              'num': [\"audienceScore\"],\n",
    "#              'txt': ['reviewText']}\n",
    "\n",
    "# best4_dict = {'num': [\"audienceScore\"],\n",
    "#              'txt': ['reviewText', 'movieid', 'director']}\n",
    "\n",
    "# best4_dict"
   ]
  },
  {
   "cell_type": "code",
   "execution_count": 254,
   "id": "f95ed1a5",
   "metadata": {
    "execution": {
     "iopub.execute_input": "2023-08-26T04:45:31.165638Z",
     "iopub.status.busy": "2023-08-26T04:45:31.164396Z",
     "iopub.status.idle": "2023-08-26T04:45:31.172152Z",
     "shell.execute_reply": "2023-08-26T04:45:31.170479Z"
    },
    "papermill": {
     "duration": 0.141799,
     "end_time": "2023-08-26T04:45:31.175359",
     "exception": false,
     "start_time": "2023-08-26T04:45:31.033560",
     "status": "completed"
    },
    "tags": []
   },
   "outputs": [],
   "source": [
    "# submit_v4(selected_features=best4_dict)"
   ]
  },
  {
   "cell_type": "markdown",
   "id": "dca9a372",
   "metadata": {
    "papermill": {
     "duration": 0.128091,
     "end_time": "2023-08-26T04:45:31.435389",
     "exception": false,
     "start_time": "2023-08-26T04:45:31.307298",
     "status": "completed"
    },
    "tags": []
   },
   "source": [
    "### Try the best 3 parameters with submit_v4 function"
   ]
  },
  {
   "cell_type": "code",
   "execution_count": 255,
   "id": "58620575",
   "metadata": {
    "execution": {
     "iopub.execute_input": "2023-08-26T04:45:31.699881Z",
     "iopub.status.busy": "2023-08-26T04:45:31.698418Z",
     "iopub.status.idle": "2023-08-26T04:45:31.704545Z",
     "shell.execute_reply": "2023-08-26T04:45:31.703454Z"
    },
    "papermill": {
     "duration": 0.141872,
     "end_time": "2023-08-26T04:45:31.707658",
     "exception": false,
     "start_time": "2023-08-26T04:45:31.565786",
     "status": "completed"
    },
    "tags": []
   },
   "outputs": [],
   "source": [
    "# best3 = [\"audienceScore\", \"isFrequentReviewer\", \"reviewText\"]\n",
    "# best3_dict = {'cat': [\"isFrequentReviewer\"],\n",
    "#              'num': [\"audienceScore\"],\n",
    "#              'txt': ['reviewText']}\n",
    "# best3_dict"
   ]
  },
  {
   "cell_type": "code",
   "execution_count": 256,
   "id": "ab4487c4",
   "metadata": {
    "execution": {
     "iopub.execute_input": "2023-08-26T04:45:31.968844Z",
     "iopub.status.busy": "2023-08-26T04:45:31.966911Z",
     "iopub.status.idle": "2023-08-26T04:45:31.973957Z",
     "shell.execute_reply": "2023-08-26T04:45:31.972911Z"
    },
    "papermill": {
     "duration": 0.141194,
     "end_time": "2023-08-26T04:45:31.976895",
     "exception": false,
     "start_time": "2023-08-26T04:45:31.835701",
     "status": "completed"
    },
    "tags": []
   },
   "outputs": [],
   "source": [
    "# submit_v4(selected_features=best3_dict)"
   ]
  },
  {
   "cell_type": "markdown",
   "id": "5ab07f9d",
   "metadata": {
    "papermill": {
     "duration": 0.129795,
     "end_time": "2023-08-26T04:45:32.239679",
     "exception": false,
     "start_time": "2023-08-26T04:45:32.109884",
     "status": "completed"
    },
    "tags": []
   },
   "source": [
    "## Try throwing almost everything (no boxOffice) at submit_v4!  "
   ]
  },
  {
   "cell_type": "code",
   "execution_count": 257,
   "id": "74762945",
   "metadata": {
    "execution": {
     "iopub.execute_input": "2023-08-26T04:45:32.503332Z",
     "iopub.status.busy": "2023-08-26T04:45:32.501377Z",
     "iopub.status.idle": "2023-08-26T04:45:32.511251Z",
     "shell.execute_reply": "2023-08-26T04:45:32.509979Z"
    },
    "papermill": {
     "duration": 0.147082,
     "end_time": "2023-08-26T04:45:32.513900",
     "exception": false,
     "start_time": "2023-08-26T04:45:32.366818",
     "status": "completed"
    },
    "tags": []
   },
   "outputs": [
    {
     "data": {
      "text/plain": [
       "\"Most from merged = ['movieid', 'reviewerName', 'isFrequentReviewer', 'reviewText',\\n       'audienceScore', 'rating', 'runtimeMinutes', 'genre', \\n       'originalLanguage', 'director']\""
      ]
     },
     "execution_count": 257,
     "metadata": {},
     "output_type": "execute_result"
    }
   ],
   "source": [
    "\"\"\"Most from merged = ['movieid', 'reviewerName', 'isFrequentReviewer', 'reviewText',\n",
    "       'audienceScore', 'rating', 'runtimeMinutes', 'genre', \n",
    "       'originalLanguage', 'director']\"\"\"\n",
    "\n",
    "# almost_dict = {'cat': [\"isFrequentReviewer\", \"rating\", \"originalLanguage\"],\n",
    "#              'num': [\"audienceScore\", \"runtimeMinutes\"],\n",
    "#              'txt': ['reviewText', 'reviewerName', 'movieid', 'genre', 'director']}\n",
    "# almost_dict"
   ]
  },
  {
   "cell_type": "code",
   "execution_count": 258,
   "id": "d79d29ab",
   "metadata": {
    "execution": {
     "iopub.execute_input": "2023-08-26T04:45:32.808370Z",
     "iopub.status.busy": "2023-08-26T04:45:32.807199Z",
     "iopub.status.idle": "2023-08-26T04:45:32.814108Z",
     "shell.execute_reply": "2023-08-26T04:45:32.812414Z"
    },
    "papermill": {
     "duration": 0.140804,
     "end_time": "2023-08-26T04:45:32.817446",
     "exception": false,
     "start_time": "2023-08-26T04:45:32.676642",
     "status": "completed"
    },
    "tags": []
   },
   "outputs": [],
   "source": [
    "# submit_v4(selected_features=almost_dict)"
   ]
  },
  {
   "cell_type": "markdown",
   "id": "43d0e2d2",
   "metadata": {
    "papermill": {
     "duration": 0.132911,
     "end_time": "2023-08-26T04:45:33.078794",
     "exception": false,
     "start_time": "2023-08-26T04:45:32.945883",
     "status": "completed"
    },
    "tags": []
   },
   "source": [
    "## Try throwing everything possible at submit_v4!  "
   ]
  },
  {
   "cell_type": "code",
   "execution_count": 259,
   "id": "5ec2a670",
   "metadata": {
    "execution": {
     "iopub.execute_input": "2023-08-26T04:45:33.343843Z",
     "iopub.status.busy": "2023-08-26T04:45:33.342815Z",
     "iopub.status.idle": "2023-08-26T04:45:33.351028Z",
     "shell.execute_reply": "2023-08-26T04:45:33.350028Z"
    },
    "papermill": {
     "duration": 0.140518,
     "end_time": "2023-08-26T04:45:33.353220",
     "exception": false,
     "start_time": "2023-08-26T04:45:33.212702",
     "status": "completed"
    },
    "tags": []
   },
   "outputs": [
    {
     "data": {
      "text/plain": [
       "\"All from merged = ['movieid', 'reviewerName', 'isFrequentReviewer', 'reviewText',\\n       'audienceScore', 'rating', 'runtimeMinutes', 'genre', 'boxOffice',\\n       'originalLanguage', 'director']\""
      ]
     },
     "execution_count": 259,
     "metadata": {},
     "output_type": "execute_result"
    }
   ],
   "source": [
    "\"\"\"All from merged = ['movieid', 'reviewerName', 'isFrequentReviewer', 'reviewText',\n",
    "       'audienceScore', 'rating', 'runtimeMinutes', 'genre', 'boxOffice',\n",
    "       'originalLanguage', 'director']\"\"\"\n",
    "\n",
    "# all_dict = {'cat': [\"isFrequentReviewer\", \"rating\", \"originalLanguage\"],\n",
    "#              'num': [\"audienceScore\", \"runtimeMinutes\", \"boxOffice\"],\n",
    "#              'txt': ['reviewText', 'reviewerName', 'movieid', 'genre', 'director']}\n",
    "# all_dict"
   ]
  },
  {
   "cell_type": "code",
   "execution_count": 260,
   "id": "6805d8d4",
   "metadata": {
    "execution": {
     "iopub.execute_input": "2023-08-26T04:45:33.616501Z",
     "iopub.status.busy": "2023-08-26T04:45:33.615699Z",
     "iopub.status.idle": "2023-08-26T04:45:33.621067Z",
     "shell.execute_reply": "2023-08-26T04:45:33.620049Z"
    },
    "papermill": {
     "duration": 0.142672,
     "end_time": "2023-08-26T04:45:33.623981",
     "exception": false,
     "start_time": "2023-08-26T04:45:33.481309",
     "status": "completed"
    },
    "tags": []
   },
   "outputs": [],
   "source": [
    "# submit_v4(selected_features=all_dict)"
   ]
  },
  {
   "cell_type": "markdown",
   "id": "d7f8ec16",
   "metadata": {
    "papermill": {
     "duration": 0.127618,
     "end_time": "2023-08-26T04:45:33.880156",
     "exception": false,
     "start_time": "2023-08-26T04:45:33.752538",
     "status": "completed"
    },
    "tags": []
   },
   "source": [
    "## Try GridSearchCV on everything  "
   ]
  },
  {
   "cell_type": "code",
   "execution_count": 261,
   "id": "3a05ba45",
   "metadata": {
    "execution": {
     "iopub.execute_input": "2023-08-26T04:45:34.149378Z",
     "iopub.status.busy": "2023-08-26T04:45:34.148715Z",
     "iopub.status.idle": "2023-08-26T04:45:34.154290Z",
     "shell.execute_reply": "2023-08-26T04:45:34.153350Z"
    },
    "papermill": {
     "duration": 0.140098,
     "end_time": "2023-08-26T04:45:34.156633",
     "exception": false,
     "start_time": "2023-08-26T04:45:34.016535",
     "status": "completed"
    },
    "tags": []
   },
   "outputs": [],
   "source": [
    "# param_grid = {\n",
    "#     \"model__C\": [0.5, 2, 5, 15]\n",
    "# }\n",
    "\n",
    "# param_grid = {\n",
    "#     'model__C' : [1, 5],\n",
    "#     'model__solver': ['lbfgs', 'liblinear', 'newton-cg', 'newton-cholesky', 'sag', 'saga']\n",
    "# }\n",
    "\n",
    "# param_grid = {\n",
    "#     'model__C' : [1, 5],\n",
    "#     'model__solver': ['lbfgs', 'liblinear', 'sag', 'saga']\n",
    "# }\n",
    "\n",
    "# param_grid = {\n",
    "#     'model__C' : [1, 5, 10, 15],\n",
    "#     'model__solver': ['lbfgs', 'liblinear', 'saga', 'newton-cg']\n",
    "# }\n",
    "\n",
    "# param_grid = {\n",
    "#     'model__C' : [1, 5, 10, 20],\n",
    "#     'model__solver': ['lbfgs', 'liblinear', 'saga']\n",
    "# }\n",
    "\n",
    "# param_grid"
   ]
  },
  {
   "cell_type": "code",
   "execution_count": 262,
   "id": "af621ea0",
   "metadata": {
    "execution": {
     "iopub.execute_input": "2023-08-26T04:45:34.418272Z",
     "iopub.status.busy": "2023-08-26T04:45:34.417616Z",
     "iopub.status.idle": "2023-08-26T04:45:34.421651Z",
     "shell.execute_reply": "2023-08-26T04:45:34.420774Z"
    },
    "papermill": {
     "duration": 0.136323,
     "end_time": "2023-08-26T04:45:34.424163",
     "exception": false,
     "start_time": "2023-08-26T04:45:34.287840",
     "status": "completed"
    },
    "tags": []
   },
   "outputs": [],
   "source": [
    "# submit_v4(selected_features={'txt': [\"genre\"]}, param_grid=param_grid)"
   ]
  },
  {
   "cell_type": "code",
   "execution_count": 263,
   "id": "5adec71a",
   "metadata": {
    "execution": {
     "iopub.execute_input": "2023-08-26T04:45:34.795263Z",
     "iopub.status.busy": "2023-08-26T04:45:34.794606Z",
     "iopub.status.idle": "2023-08-26T04:45:34.800996Z",
     "shell.execute_reply": "2023-08-26T04:45:34.800157Z"
    },
    "papermill": {
     "duration": 0.249678,
     "end_time": "2023-08-26T04:45:34.803531",
     "exception": false,
     "start_time": "2023-08-26T04:45:34.553853",
     "status": "completed"
    },
    "tags": []
   },
   "outputs": [
    {
     "data": {
      "text/plain": [
       "\"Used 'groupby' function instead on 'drop_duplicates' on movies.csv file. \\nIt reduced the number of missing values significantly! \\nThen used LogisticRegression() with GridSearchCV on submit_v4 function with \\nparam_grid={'model__C': [1, 5, 10], 'model__solver': ['lbfgs', 'liblinear', 'saga']}. \\nThe best f1_micro score in GridSearchCV was 0.8399771362056203 which is highest among \\nall the versions so far. Best C was 5 and best solver was 'saga'.\\nScore obtained was 0.84385 which is lower than 0.84441.\""
      ]
     },
     "execution_count": 263,
     "metadata": {},
     "output_type": "execute_result"
    }
   ],
   "source": [
    "# submit_v4(selected_features=all_dict, param_grid=param_grid)\n",
    "\n",
    "# Best C was 5\n",
    "# Best solver was liblinear\n",
    "\n",
    "\"\"\"Used 'groupby' function instead on 'drop_duplicates' on movies.csv file. \n",
    "It reduced the number of missing values significantly! \n",
    "Then used LogisticRegression() with GridSearchCV on submit_v4 function with \n",
    "param_grid={'model__C': [1, 5, 10], 'model__solver': ['lbfgs', 'liblinear', 'saga']}. \n",
    "The best f1_micro score in GridSearchCV was 0.8399771362056203 which is highest among \n",
    "all the versions so far. Best C was 5 and best solver was 'saga'.\n",
    "Score obtained was 0.84385 which is lower than 0.84441.\"\"\""
   ]
  },
  {
   "cell_type": "code",
   "execution_count": 264,
   "id": "dc995a0f",
   "metadata": {
    "execution": {
     "iopub.execute_input": "2023-08-26T04:45:35.072964Z",
     "iopub.status.busy": "2023-08-26T04:45:35.072162Z",
     "iopub.status.idle": "2023-08-26T04:45:35.076692Z",
     "shell.execute_reply": "2023-08-26T04:45:35.075722Z"
    },
    "papermill": {
     "duration": 0.144456,
     "end_time": "2023-08-26T04:45:35.079192",
     "exception": false,
     "start_time": "2023-08-26T04:45:34.934736",
     "status": "completed"
    },
    "tags": []
   },
   "outputs": [],
   "source": [
    "# Best 5 parameters\n",
    "\n",
    "# best5_dict = {'num': [\"audienceScore\"],\n",
    "#              'txt': ['reviewText', 'reviewerName','movieid', 'director']}\n",
    "\n",
    "# best5_dict"
   ]
  },
  {
   "cell_type": "code",
   "execution_count": 265,
   "id": "edc98e86",
   "metadata": {
    "execution": {
     "iopub.execute_input": "2023-08-26T04:45:35.344743Z",
     "iopub.status.busy": "2023-08-26T04:45:35.343922Z",
     "iopub.status.idle": "2023-08-26T04:45:35.353273Z",
     "shell.execute_reply": "2023-08-26T04:45:35.351472Z"
    },
    "papermill": {
     "duration": 0.146212,
     "end_time": "2023-08-26T04:45:35.356435",
     "exception": false,
     "start_time": "2023-08-26T04:45:35.210223",
     "status": "completed"
    },
    "tags": []
   },
   "outputs": [
    {
     "data": {
      "text/plain": [
       "\"(Update): Used both CountVectorizer and TfidfVectorizer on a massive GridSearchCV \\nwhich took 22527.2s  (6.25 hrs) to run! Gave a score of 0.8439093822800923 locally and did not overfit!\\nBest params: {'model__C': 1, 'model__solver': 'liblinear'}.\\nHighest public score yet: 0.84591 (Rank up from 9 to 5!)\""
      ]
     },
     "execution_count": 265,
     "metadata": {},
     "output_type": "execute_result"
    }
   ],
   "source": [
    "# Submit best 5 features\n",
    "\n",
    "\"\"\"(Update): Used both CountVectorizer and TfidfVectorizer on a massive GridSearchCV \n",
    "which took 22527.2s  (6.25 hrs) to run! Gave a score of 0.8439093822800923 locally and did not overfit!\n",
    "Best params: {'model__C': 1, 'model__solver': 'liblinear'}.\n",
    "Highest public score yet: 0.84591 (Rank up from 9 to 5!)\"\"\"\n",
    "\n",
    "# param_grid = {\n",
    "#     'model__C' : [5, 10, 15],\n",
    "#     'model__solver': ['lbfgs', 'liblinear', 'saga']\n",
    "# }\n",
    "\n",
    "\n",
    "# Try new param_grid with fit_intercept and dual in logreg\n",
    "\n",
    "# param_grid = {\n",
    "#     'model__C' : [1],\n",
    "#     'model__solver': ['liblinear'],\n",
    "#     \"model__fit_intercept\" : [True, False],\n",
    "#     \"model__dual\" : [True, False] \n",
    "# }\n",
    "\n",
    "\n",
    "# Local testing  \n",
    "# submit_v4(selected_features={'num': ['audienceScore']},\n",
    "#          add_countvec=True)\n",
    "\n",
    "# submit_v4(selected_features={'num': ['audienceScore']},\n",
    "#          add_countvec=True, \n",
    "#           param_grid=param_grid)\n",
    "\n",
    "\n",
    "# Main submission\n",
    "\n",
    "# submit_v4(selected_features=best5_dict,\n",
    "#          add_countvec=True)\n",
    "\n",
    "\n",
    "# submit_v4(selected_features=best5_dict,\n",
    "#           add_countvec=True,\n",
    "#           param_grid=param_grid)"
   ]
  },
  {
   "cell_type": "code",
   "execution_count": 266,
   "id": "a09f16d8",
   "metadata": {
    "execution": {
     "iopub.execute_input": "2023-08-26T04:45:35.625049Z",
     "iopub.status.busy": "2023-08-26T04:45:35.624298Z",
     "iopub.status.idle": "2023-08-26T04:45:35.629473Z",
     "shell.execute_reply": "2023-08-26T04:45:35.628533Z"
    },
    "papermill": {
     "duration": 0.145227,
     "end_time": "2023-08-26T04:45:35.632273",
     "exception": false,
     "start_time": "2023-08-26T04:45:35.487046",
     "status": "completed"
    },
    "tags": []
   },
   "outputs": [],
   "source": [
    "## ALL DICT cv=10\n",
    "\n",
    "# all_dict = {'cat': [\"isFrequentReviewer\", \"rating\", \"originalLanguage\"],\n",
    "#              'num': [\"audienceScore\", \"runtimeMinutes\", \"boxOffice\"],\n",
    "#              'txt': ['reviewText', 'reviewerName', 'movieid', 'genre', 'director']}\n",
    "# print(all_dict)\n",
    "\n",
    "# param_grid = {\n",
    "#     'model__C' : [2, 5, 10],\n",
    "#     'model__solver': ['lbfgs', 'liblinear', 'saga']\n",
    "# }\n",
    "# print(param_grid)\n",
    "\n",
    "# param_grid = {\n",
    "#     'model__C' : [1, 5, 10],\n",
    "#     'model__solver': ['liblinear'],\n",
    "#     \"model__fit_intercept\" : [True, False],\n",
    "#     \"model__dual\" : [True, False] \n",
    "# }\n",
    "\n",
    "\n",
    "# Main submission\n",
    "\n",
    "# submit_v4(selected_model=LogisticRegression(C=5, solver='liblinear', max_iter=10000),\n",
    "#           selected_features=all_dict,\n",
    "#           param_grid=param_grid)\n",
    "\n",
    "# submit_v4(selected_features=all_dict,\n",
    "#           add_countvec=True,\n",
    "#           param_grid=param_grid)"
   ]
  },
  {
   "cell_type": "code",
   "execution_count": 267,
   "id": "9b44e3a1",
   "metadata": {
    "execution": {
     "iopub.execute_input": "2023-08-26T04:45:35.894259Z",
     "iopub.status.busy": "2023-08-26T04:45:35.893473Z",
     "iopub.status.idle": "2023-08-26T04:45:35.899079Z",
     "shell.execute_reply": "2023-08-26T04:45:35.897835Z"
    },
    "papermill": {
     "duration": 0.140003,
     "end_time": "2023-08-26T04:45:35.902474",
     "exception": false,
     "start_time": "2023-08-26T04:45:35.762471",
     "status": "completed"
    },
    "tags": []
   },
   "outputs": [],
   "source": [
    "# Best 6 parameters\n",
    "\n",
    "# best6_dict = {'cat': [\"isFrequentReviewer\"],\n",
    "#              'num': [\"audienceScore\"],\n",
    "#              'txt': ['reviewText', 'reviewerName', 'genre', 'director']}\n",
    "\n",
    "# best6_dict = {'num': [\"audienceScore\"],\n",
    "#              'txt': ['reviewText', 'reviewerName', 'genre','movieid', 'director']}\n",
    "\n",
    "# best6_dict"
   ]
  },
  {
   "cell_type": "code",
   "execution_count": 268,
   "id": "ffdbd5cb",
   "metadata": {
    "execution": {
     "iopub.execute_input": "2023-08-26T04:45:36.170833Z",
     "iopub.status.busy": "2023-08-26T04:45:36.168866Z",
     "iopub.status.idle": "2023-08-26T04:45:36.176243Z",
     "shell.execute_reply": "2023-08-26T04:45:36.174510Z"
    },
    "papermill": {
     "duration": 0.14279,
     "end_time": "2023-08-26T04:45:36.179489",
     "exception": false,
     "start_time": "2023-08-26T04:45:36.036699",
     "status": "completed"
    },
    "tags": []
   },
   "outputs": [],
   "source": [
    "# Submit best 6 features (version 2)\n",
    "\n",
    "# submit_v4(selected_features=best6_dict,\n",
    "#           param_grid=param_grid)"
   ]
  },
  {
   "cell_type": "code",
   "execution_count": 269,
   "id": "e668a7c1",
   "metadata": {
    "execution": {
     "iopub.execute_input": "2023-08-26T04:45:36.442433Z",
     "iopub.status.busy": "2023-08-26T04:45:36.441644Z",
     "iopub.status.idle": "2023-08-26T04:45:36.447071Z",
     "shell.execute_reply": "2023-08-26T04:45:36.445981Z"
    },
    "papermill": {
     "duration": 0.140313,
     "end_time": "2023-08-26T04:45:36.450474",
     "exception": false,
     "start_time": "2023-08-26T04:45:36.310161",
     "status": "completed"
    },
    "tags": []
   },
   "outputs": [],
   "source": [
    "# Best 7 parameters\n",
    "\n",
    "# best7_dict = {'cat': [\"isFrequentReviewer\"],\n",
    "#              'num': [\"audienceScore\"],\n",
    "#              'txt': ['reviewText', 'reviewerName', 'movieid', 'genre', 'director']}\n",
    "# best7_dict"
   ]
  },
  {
   "cell_type": "code",
   "execution_count": 270,
   "id": "0bd9d2b2",
   "metadata": {
    "execution": {
     "iopub.execute_input": "2023-08-26T04:45:36.717898Z",
     "iopub.status.busy": "2023-08-26T04:45:36.717028Z",
     "iopub.status.idle": "2023-08-26T04:45:36.722390Z",
     "shell.execute_reply": "2023-08-26T04:45:36.721315Z"
    },
    "papermill": {
     "duration": 0.143553,
     "end_time": "2023-08-26T04:45:36.725455",
     "exception": false,
     "start_time": "2023-08-26T04:45:36.581902",
     "status": "completed"
    },
    "tags": []
   },
   "outputs": [],
   "source": [
    "# Submit best 7 features\n",
    "\n",
    "# submit_v4(selected_features=best7_dict,\n",
    "#           param_grid=param_grid)"
   ]
  },
  {
   "cell_type": "code",
   "execution_count": 271,
   "id": "c8ff8b72",
   "metadata": {
    "execution": {
     "iopub.execute_input": "2023-08-26T04:45:36.990081Z",
     "iopub.status.busy": "2023-08-26T04:45:36.989302Z",
     "iopub.status.idle": "2023-08-26T04:45:36.994476Z",
     "shell.execute_reply": "2023-08-26T04:45:36.993488Z"
    },
    "papermill": {
     "duration": 0.142146,
     "end_time": "2023-08-26T04:45:36.997583",
     "exception": false,
     "start_time": "2023-08-26T04:45:36.855437",
     "status": "completed"
    },
    "tags": []
   },
   "outputs": [],
   "source": [
    "# submit_v4(selected_features=best6_dict, param_grid=param_grid)"
   ]
  },
  {
   "cell_type": "markdown",
   "id": "e87fa243",
   "metadata": {
    "papermill": {
     "duration": 0.129413,
     "end_time": "2023-08-26T04:45:37.260279",
     "exception": false,
     "start_time": "2023-08-26T04:45:37.130866",
     "status": "completed"
    },
    "tags": []
   },
   "source": [
    "## Try a new feature dict  \n",
    "\n"
   ]
  },
  {
   "cell_type": "code",
   "execution_count": 272,
   "id": "9f92cc54",
   "metadata": {
    "execution": {
     "iopub.execute_input": "2023-08-26T04:45:37.529221Z",
     "iopub.status.busy": "2023-08-26T04:45:37.528157Z",
     "iopub.status.idle": "2023-08-26T04:45:37.533822Z",
     "shell.execute_reply": "2023-08-26T04:45:37.532896Z"
    },
    "papermill": {
     "duration": 0.149072,
     "end_time": "2023-08-26T04:45:37.536784",
     "exception": false,
     "start_time": "2023-08-26T04:45:37.387712",
     "status": "completed"
    },
    "tags": []
   },
   "outputs": [],
   "source": [
    "# all_dict_new = {'cat': [\"isFrequentReviewer\", \"rating\", \"originalLanguage\"],\n",
    "#              'num': [\"audienceScore\", \"runtimeMinutes\", \"boxOffice\"],\n",
    "#              'txt': ['reviewText', \"reviewerName\", 'movieid', 'genre', 'director']}\n",
    "# all_dict_new"
   ]
  },
  {
   "cell_type": "code",
   "execution_count": 273,
   "id": "1e9f6d51",
   "metadata": {
    "execution": {
     "iopub.execute_input": "2023-08-26T04:45:37.817554Z",
     "iopub.status.busy": "2023-08-26T04:45:37.816955Z",
     "iopub.status.idle": "2023-08-26T04:45:37.823067Z",
     "shell.execute_reply": "2023-08-26T04:45:37.821884Z"
    },
    "papermill": {
     "duration": 0.150705,
     "end_time": "2023-08-26T04:45:37.825676",
     "exception": false,
     "start_time": "2023-08-26T04:45:37.674971",
     "status": "completed"
    },
    "tags": []
   },
   "outputs": [],
   "source": [
    "# submit_v4(selected_features={'txt': ['genre']}, param_grid=param_grid)"
   ]
  },
  {
   "cell_type": "code",
   "execution_count": 274,
   "id": "a7db25f2",
   "metadata": {
    "execution": {
     "iopub.execute_input": "2023-08-26T04:45:38.113059Z",
     "iopub.status.busy": "2023-08-26T04:45:38.111978Z",
     "iopub.status.idle": "2023-08-26T04:45:38.118139Z",
     "shell.execute_reply": "2023-08-26T04:45:38.116719Z"
    },
    "papermill": {
     "duration": 0.150866,
     "end_time": "2023-08-26T04:45:38.121709",
     "exception": false,
     "start_time": "2023-08-26T04:45:37.970843",
     "status": "completed"
    },
    "tags": []
   },
   "outputs": [],
   "source": [
    "# submit_v4(selected_features=all_dict_new, param_grid=param_grid)"
   ]
  },
  {
   "cell_type": "code",
   "execution_count": 275,
   "id": "740d66ba",
   "metadata": {
    "execution": {
     "iopub.execute_input": "2023-08-26T04:45:38.386692Z",
     "iopub.status.busy": "2023-08-26T04:45:38.385535Z",
     "iopub.status.idle": "2023-08-26T04:45:38.391188Z",
     "shell.execute_reply": "2023-08-26T04:45:38.390077Z"
    },
    "papermill": {
     "duration": 0.140204,
     "end_time": "2023-08-26T04:45:38.393891",
     "exception": false,
     "start_time": "2023-08-26T04:45:38.253687",
     "status": "completed"
    },
    "tags": []
   },
   "outputs": [],
   "source": [
    "# Try non-text based columns\n",
    "# num_cat_dict = {'cat': ['isFrequentReviewer', 'rating', 'originalLanguage'],\n",
    "#  'num': ['audienceScore', 'runtimeMinutes', 'boxOffice']}\n",
    "# num_cat_dict"
   ]
  },
  {
   "cell_type": "code",
   "execution_count": 276,
   "id": "8216cee6",
   "metadata": {
    "execution": {
     "iopub.execute_input": "2023-08-26T04:45:38.660345Z",
     "iopub.status.busy": "2023-08-26T04:45:38.659482Z",
     "iopub.status.idle": "2023-08-26T04:45:38.664049Z",
     "shell.execute_reply": "2023-08-26T04:45:38.663153Z"
    },
    "papermill": {
     "duration": 0.140638,
     "end_time": "2023-08-26T04:45:38.666614",
     "exception": false,
     "start_time": "2023-08-26T04:45:38.525976",
     "status": "completed"
    },
    "tags": []
   },
   "outputs": [],
   "source": [
    "# Use num_cat_dict features\n",
    "# (Update): Gets a local score of 0.7027181356991726. Not great.\n",
    "# submit_v4(selected_model=LogisticRegression(max_iter=100000), selected_features=num_cat_dict, param_grid=param_grid)"
   ]
  },
  {
   "cell_type": "code",
   "execution_count": 277,
   "id": "42bf56ce",
   "metadata": {
    "execution": {
     "iopub.execute_input": "2023-08-26T04:45:38.933873Z",
     "iopub.status.busy": "2023-08-26T04:45:38.932946Z",
     "iopub.status.idle": "2023-08-26T04:45:38.937734Z",
     "shell.execute_reply": "2023-08-26T04:45:38.936718Z"
    },
    "papermill": {
     "duration": 0.142994,
     "end_time": "2023-08-26T04:45:38.940332",
     "exception": false,
     "start_time": "2023-08-26T04:45:38.797338",
     "status": "completed"
    },
    "tags": []
   },
   "outputs": [],
   "source": [
    "# Try data other than reviewText\n",
    "\n",
    "# mov_dict = {'cat': ['rating', 'originalLanguage'],\n",
    "#  'num': ['audienceScore', 'runtimeMinutes', 'boxOffice'],\n",
    "#  'txt': ['movieid', 'genre', 'director']}\n",
    "# mov_dict"
   ]
  },
  {
   "cell_type": "code",
   "execution_count": 278,
   "id": "0ea9cb4b",
   "metadata": {
    "execution": {
     "iopub.execute_input": "2023-08-26T04:45:39.208229Z",
     "iopub.status.busy": "2023-08-26T04:45:39.207054Z",
     "iopub.status.idle": "2023-08-26T04:45:39.212921Z",
     "shell.execute_reply": "2023-08-26T04:45:39.211870Z"
    },
    "papermill": {
     "duration": 0.140961,
     "end_time": "2023-08-26T04:45:39.215727",
     "exception": false,
     "start_time": "2023-08-26T04:45:39.074766",
     "status": "completed"
    },
    "tags": []
   },
   "outputs": [],
   "source": [
    "# Use mov_dict features\n",
    "# (Update): Gets a local score of 0.7475454316469369, which is not bad at all.\n",
    "# submit_v4(selected_model=LogisticRegression(max_iter=100000), selected_features=mov_dict, param_grid=param_grid)"
   ]
  },
  {
   "cell_type": "markdown",
   "id": "52ada836",
   "metadata": {
    "papermill": {
     "duration": 0.130345,
     "end_time": "2023-08-26T04:45:39.478201",
     "exception": false,
     "start_time": "2023-08-26T04:45:39.347856",
     "status": "completed"
    },
    "tags": []
   },
   "source": [
    "# Try a new column 'reviewYN'  \n",
    "\n"
   ]
  },
  {
   "cell_type": "code",
   "execution_count": 279,
   "id": "1a31b55a",
   "metadata": {
    "execution": {
     "iopub.execute_input": "2023-08-26T04:45:39.744130Z",
     "iopub.status.busy": "2023-08-26T04:45:39.742733Z",
     "iopub.status.idle": "2023-08-26T04:45:39.748921Z",
     "shell.execute_reply": "2023-08-26T04:45:39.747539Z"
    },
    "papermill": {
     "duration": 0.142618,
     "end_time": "2023-08-26T04:45:39.752180",
     "exception": false,
     "start_time": "2023-08-26T04:45:39.609562",
     "status": "completed"
    },
    "tags": []
   },
   "outputs": [],
   "source": [
    "# all_dict_3 = {'cat': [\"isFrequentReviewer\", \"rating\", \"originalLanguage\", \"reviewYN\"],\n",
    "#              'num': [\"audienceScore\", \"runtimeMinutes\", \"boxOffice\"],\n",
    "#              'txt': ['reviewText', \"reviewerName\", 'movieid', 'genre', 'director']}\n",
    "# all_dict_3"
   ]
  },
  {
   "cell_type": "code",
   "execution_count": 280,
   "id": "1df5fd0a",
   "metadata": {
    "execution": {
     "iopub.execute_input": "2023-08-26T04:45:40.012875Z",
     "iopub.status.busy": "2023-08-26T04:45:40.012311Z",
     "iopub.status.idle": "2023-08-26T04:45:40.018244Z",
     "shell.execute_reply": "2023-08-26T04:45:40.016699Z"
    },
    "papermill": {
     "duration": 0.142331,
     "end_time": "2023-08-26T04:45:40.020918",
     "exception": false,
     "start_time": "2023-08-26T04:45:39.878587",
     "status": "completed"
    },
    "tags": []
   },
   "outputs": [],
   "source": [
    "# submit_v4(selected_model=LogisticRegression(max_iter=100000),\n",
    "#          selected_features=all_dict_3, \n",
    "#           param_grid=param_grid)"
   ]
  },
  {
   "cell_type": "markdown",
   "id": "4745dc49",
   "metadata": {
    "papermill": {
     "duration": 0.21196,
     "end_time": "2023-08-26T04:45:40.358455",
     "exception": false,
     "start_time": "2023-08-26T04:45:40.146495",
     "status": "completed"
    },
    "tags": []
   },
   "source": [
    "### More GridSearchCV using LinearSVC  "
   ]
  },
  {
   "cell_type": "code",
   "execution_count": 281,
   "id": "efd1f8fa",
   "metadata": {
    "execution": {
     "iopub.execute_input": "2023-08-26T04:45:40.622633Z",
     "iopub.status.busy": "2023-08-26T04:45:40.622193Z",
     "iopub.status.idle": "2023-08-26T04:45:40.627537Z",
     "shell.execute_reply": "2023-08-26T04:45:40.626100Z"
    },
    "papermill": {
     "duration": 0.140797,
     "end_time": "2023-08-26T04:45:40.630378",
     "exception": false,
     "start_time": "2023-08-26T04:45:40.489581",
     "status": "completed"
    },
    "tags": []
   },
   "outputs": [],
   "source": [
    "# param_grid_svc_2 = {\n",
    "#     'model__C': [1.0],\n",
    "#     'model__loss': ['hinge', 'squared_hinge'],\n",
    "#     'model__class_weight': ['balanced', None]\n",
    "# }\n",
    "# param_grid_svc_2"
   ]
  },
  {
   "cell_type": "code",
   "execution_count": 282,
   "id": "68089970",
   "metadata": {
    "execution": {
     "iopub.execute_input": "2023-08-26T04:45:40.892739Z",
     "iopub.status.busy": "2023-08-26T04:45:40.892298Z",
     "iopub.status.idle": "2023-08-26T04:45:40.897737Z",
     "shell.execute_reply": "2023-08-26T04:45:40.896070Z"
    },
    "papermill": {
     "duration": 0.139198,
     "end_time": "2023-08-26T04:45:40.900589",
     "exception": false,
     "start_time": "2023-08-26T04:45:40.761391",
     "status": "completed"
    },
    "tags": []
   },
   "outputs": [],
   "source": [
    "# submit_v4(selected_model=LinearSVC(max_iter=100000, random_state=42), selected_features={'num': [\"audienceScore\"]}, param_grid=param_grid_svc_2)"
   ]
  },
  {
   "cell_type": "code",
   "execution_count": 283,
   "id": "a5333f98",
   "metadata": {
    "execution": {
     "iopub.execute_input": "2023-08-26T04:45:41.167063Z",
     "iopub.status.busy": "2023-08-26T04:45:41.166624Z",
     "iopub.status.idle": "2023-08-26T04:45:41.171748Z",
     "shell.execute_reply": "2023-08-26T04:45:41.170461Z"
    },
    "papermill": {
     "duration": 0.138936,
     "end_time": "2023-08-26T04:45:41.174451",
     "exception": false,
     "start_time": "2023-08-26T04:45:41.035515",
     "status": "completed"
    },
    "tags": []
   },
   "outputs": [],
   "source": [
    "# submit_v4(selected_model=LinearSVC(max_iter=100000, random_state=42), selected_features=all_dict, param_grid=param_grid_svc_2)"
   ]
  },
  {
   "cell_type": "markdown",
   "id": "d232321a",
   "metadata": {
    "papermill": {
     "duration": 0.127583,
     "end_time": "2023-08-26T04:45:41.434269",
     "exception": false,
     "start_time": "2023-08-26T04:45:41.306686",
     "status": "completed"
    },
    "tags": []
   },
   "source": [
    "### Boosting techniques  "
   ]
  },
  {
   "cell_type": "code",
   "execution_count": 284,
   "id": "7d33ac5f",
   "metadata": {
    "execution": {
     "iopub.execute_input": "2023-08-26T04:45:41.698614Z",
     "iopub.status.busy": "2023-08-26T04:45:41.698142Z",
     "iopub.status.idle": "2023-08-26T04:45:41.703553Z",
     "shell.execute_reply": "2023-08-26T04:45:41.702379Z"
    },
    "papermill": {
     "duration": 0.141807,
     "end_time": "2023-08-26T04:45:41.706557",
     "exception": false,
     "start_time": "2023-08-26T04:45:41.564750",
     "status": "completed"
    },
    "tags": []
   },
   "outputs": [],
   "source": [
    "# adc = AdaBoostClassifier(estimator=LogisticRegression(C=5, solver=\"saga\", max_iter=100000), n_estimators=50)\n",
    "# adc"
   ]
  },
  {
   "cell_type": "code",
   "execution_count": 285,
   "id": "84fbb083",
   "metadata": {
    "execution": {
     "iopub.execute_input": "2023-08-26T04:45:41.973209Z",
     "iopub.status.busy": "2023-08-26T04:45:41.972058Z",
     "iopub.status.idle": "2023-08-26T04:45:41.977783Z",
     "shell.execute_reply": "2023-08-26T04:45:41.976489Z"
    },
    "papermill": {
     "duration": 0.142779,
     "end_time": "2023-08-26T04:45:41.980753",
     "exception": false,
     "start_time": "2023-08-26T04:45:41.837974",
     "status": "completed"
    },
    "tags": []
   },
   "outputs": [],
   "source": [
    "# submit_v4(selected_model=adc, selected_features={'num': [\"audienceScore\"]}, param_grid=None)"
   ]
  },
  {
   "cell_type": "code",
   "execution_count": 286,
   "id": "608ff3c5",
   "metadata": {
    "execution": {
     "iopub.execute_input": "2023-08-26T04:45:42.246297Z",
     "iopub.status.busy": "2023-08-26T04:45:42.245878Z",
     "iopub.status.idle": "2023-08-26T04:45:42.250997Z",
     "shell.execute_reply": "2023-08-26T04:45:42.249508Z"
    },
    "papermill": {
     "duration": 0.139824,
     "end_time": "2023-08-26T04:45:42.253711",
     "exception": false,
     "start_time": "2023-08-26T04:45:42.113887",
     "status": "completed"
    },
    "tags": []
   },
   "outputs": [],
   "source": [
    "# submit_v4(selected_model=adc, selected_features=all_dict, param_grid=None)\n",
    "\n",
    "# Took 1 hour 15 mins to run and gave a public score of only 0.71089. Discarded."
   ]
  },
  {
   "cell_type": "markdown",
   "id": "c76df790",
   "metadata": {
    "papermill": {
     "duration": 0.131261,
     "end_time": "2023-08-26T04:45:42.514522",
     "exception": false,
     "start_time": "2023-08-26T04:45:42.383261",
     "status": "completed"
    },
    "tags": []
   },
   "source": [
    "### LightGBM  "
   ]
  },
  {
   "cell_type": "code",
   "execution_count": 287,
   "id": "73c05fb5",
   "metadata": {
    "execution": {
     "iopub.execute_input": "2023-08-26T04:45:42.800338Z",
     "iopub.status.busy": "2023-08-26T04:45:42.799812Z",
     "iopub.status.idle": "2023-08-26T04:45:42.805780Z",
     "shell.execute_reply": "2023-08-26T04:45:42.804278Z"
    },
    "papermill": {
     "duration": 0.140059,
     "end_time": "2023-08-26T04:45:42.808815",
     "exception": false,
     "start_time": "2023-08-26T04:45:42.668756",
     "status": "completed"
    },
    "tags": []
   },
   "outputs": [],
   "source": [
    "# lgb = ltb.LGBMClassifier()\n",
    "# lgb"
   ]
  },
  {
   "cell_type": "code",
   "execution_count": 288,
   "id": "cd44547b",
   "metadata": {
    "execution": {
     "iopub.execute_input": "2023-08-26T04:45:43.076902Z",
     "iopub.status.busy": "2023-08-26T04:45:43.076427Z",
     "iopub.status.idle": "2023-08-26T04:45:43.082281Z",
     "shell.execute_reply": "2023-08-26T04:45:43.080514Z"
    },
    "papermill": {
     "duration": 0.143602,
     "end_time": "2023-08-26T04:45:43.084763",
     "exception": false,
     "start_time": "2023-08-26T04:45:42.941161",
     "status": "completed"
    },
    "tags": []
   },
   "outputs": [],
   "source": [
    "# Try LightGBM with default settings\n",
    "# (Update): Public score only 0.77713. It was fast, took less than 5 mins (without GridSearchCV)\n",
    "\n",
    "# submit_v4(selected_model=ltb.LGBMClassifier(), selected_features=all_dict, param_grid=None)"
   ]
  },
  {
   "cell_type": "markdown",
   "id": "0c07e649",
   "metadata": {
    "papermill": {
     "duration": 0.12861,
     "end_time": "2023-08-26T04:45:43.343352",
     "exception": false,
     "start_time": "2023-08-26T04:45:43.214742",
     "status": "completed"
    },
    "tags": []
   },
   "source": [
    "# Try feature selection and vocab fine tuning of reviewText column"
   ]
  },
  {
   "cell_type": "markdown",
   "id": "663287a6",
   "metadata": {
    "papermill": {
     "duration": 0.130698,
     "end_time": "2023-08-26T04:45:43.603276",
     "exception": false,
     "start_time": "2023-08-26T04:45:43.472578",
     "status": "completed"
    },
    "tags": []
   },
   "source": [
    "## Plan  \n",
    "* Add a new column 'reviewWC' which has word count of 'reviewText'  \n",
    "    * Check if there is any relationship between 'reviewWC' and 'sentiment'\n",
    "* Work on vocabulary\n",
    "     * Use TfidfVectorizer and find out the vocabulary of 'reviewText' column for various ngrams\n",
    "     * Use RecursiveFeatureElimination (RFE) or RFECV to select 1000 top words/vocab for each ngram\n",
    "     * Use the final vocab (1000-3000 words) in the model and see how it performs compared to whole vocab\n"
   ]
  },
  {
   "cell_type": "code",
   "execution_count": 289,
   "id": "cd35892b",
   "metadata": {
    "execution": {
     "iopub.execute_input": "2023-08-26T04:45:43.875677Z",
     "iopub.status.busy": "2023-08-26T04:45:43.875175Z",
     "iopub.status.idle": "2023-08-26T04:45:43.881407Z",
     "shell.execute_reply": "2023-08-26T04:45:43.879719Z"
    },
    "papermill": {
     "duration": 0.143241,
     "end_time": "2023-08-26T04:45:43.884331",
     "exception": false,
     "start_time": "2023-08-26T04:45:43.741090",
     "status": "completed"
    },
    "tags": []
   },
   "outputs": [],
   "source": [
    "# 'reviewWC' and 'sentiment'\n",
    "# (Conclusion): 'reviewWC' is practically same as DummyClassifier (accuracy of 0.6682375059904889 on train data). It just predicts 'positive' for all columns\n",
    "\n",
    "# reviewWC_dict = {\"num\": [\"reviewWC\"]}\n",
    "# submit_v4(selected_model=LogisticRegression(),\n",
    "#          selected_features=reviewWC_dict,\n",
    "#          param_grid=None)"
   ]
  },
  {
   "cell_type": "code",
   "execution_count": 290,
   "id": "4a247428",
   "metadata": {
    "execution": {
     "iopub.execute_input": "2023-08-26T04:45:44.151583Z",
     "iopub.status.busy": "2023-08-26T04:45:44.151163Z",
     "iopub.status.idle": "2023-08-26T04:45:44.158430Z",
     "shell.execute_reply": "2023-08-26T04:45:44.155759Z"
    },
    "papermill": {
     "duration": 0.140613,
     "end_time": "2023-08-26T04:45:44.161488",
     "exception": false,
     "start_time": "2023-08-26T04:45:44.020875",
     "status": "completed"
    },
    "tags": []
   },
   "outputs": [],
   "source": [
    "# 'reviewYN' and 'sentiment'\n",
    "# (Conclusion): 'reviewYN' is practically same as DummyClassifier (accuracy of 0.6682375059904889 on train data). It just predicts 'positive' for all columns\n",
    "\n",
    "# reviewYN_dict = {\"cat\": [\"reviewYN\"]}\n",
    "# submit_v4(selected_model=LogisticRegression(),\n",
    "#          selected_features=reviewYN_dict,\n",
    "#          param_grid=None)"
   ]
  },
  {
   "cell_type": "markdown",
   "id": "03139031",
   "metadata": {
    "papermill": {
     "duration": 0.130155,
     "end_time": "2023-08-26T04:45:44.425038",
     "exception": false,
     "start_time": "2023-08-26T04:45:44.294883",
     "status": "completed"
    },
    "tags": []
   },
   "source": [
    "## Submissions using 'vocabulary' built from 'reviewText' data  "
   ]
  },
  {
   "cell_type": "markdown",
   "id": "ecfb04f1",
   "metadata": {
    "papermill": {
     "duration": 0.239157,
     "end_time": "2023-08-26T04:45:44.792692",
     "exception": false,
     "start_time": "2023-08-26T04:45:44.553535",
     "status": "completed"
    },
    "tags": []
   },
   "source": [
    "### Submit best 6 features along with common vocab  "
   ]
  },
  {
   "cell_type": "code",
   "execution_count": 291,
   "id": "c1644bf4",
   "metadata": {
    "execution": {
     "iopub.execute_input": "2023-08-26T04:45:45.064586Z",
     "iopub.status.busy": "2023-08-26T04:45:45.064143Z",
     "iopub.status.idle": "2023-08-26T04:45:45.069957Z",
     "shell.execute_reply": "2023-08-26T04:45:45.068341Z"
    },
    "papermill": {
     "duration": 0.147306,
     "end_time": "2023-08-26T04:45:45.072982",
     "exception": false,
     "start_time": "2023-08-26T04:45:44.925676",
     "status": "completed"
    },
    "tags": []
   },
   "outputs": [],
   "source": [
    "# Best 6 parameters (version 2)  \n",
    "\n",
    "# best6_dict = {'num': [\"audienceScore\"],\n",
    "#              'txt': ['reviewText', 'reviewerName', 'genre','movieid', 'director']}\n",
    "\n",
    "# best6_dict"
   ]
  },
  {
   "cell_type": "code",
   "execution_count": 292,
   "id": "86aff94e",
   "metadata": {
    "execution": {
     "iopub.execute_input": "2023-08-26T04:45:45.335116Z",
     "iopub.status.busy": "2023-08-26T04:45:45.334670Z",
     "iopub.status.idle": "2023-08-26T04:45:45.340025Z",
     "shell.execute_reply": "2023-08-26T04:45:45.338571Z"
    },
    "papermill": {
     "duration": 0.138768,
     "end_time": "2023-08-26T04:45:45.342370",
     "exception": false,
     "start_time": "2023-08-26T04:45:45.203602",
     "status": "completed"
    },
    "tags": []
   },
   "outputs": [],
   "source": [
    "# Submit best 6 features (version 2) with common vocabulary (common_1_2_grams)\n",
    "# (Update): Score 0.82867\n",
    "\n",
    "# submit_v4(selected_features=best6_dict,\n",
    "#           param_grid=param_grid,\n",
    "#          vocab=common_1_2_grams)"
   ]
  },
  {
   "cell_type": "code",
   "execution_count": 293,
   "id": "e81dc3dd",
   "metadata": {
    "execution": {
     "iopub.execute_input": "2023-08-26T04:45:45.605046Z",
     "iopub.status.busy": "2023-08-26T04:45:45.604446Z",
     "iopub.status.idle": "2023-08-26T04:45:45.611157Z",
     "shell.execute_reply": "2023-08-26T04:45:45.609767Z"
    },
    "papermill": {
     "duration": 0.144206,
     "end_time": "2023-08-26T04:45:45.614231",
     "exception": false,
     "start_time": "2023-08-26T04:45:45.470025",
     "status": "completed"
    },
    "tags": []
   },
   "outputs": [],
   "source": [
    "# Submit best 6 features (version 2) with common vocabulary (common_1_2_3_grams)\n",
    "# Note: for this submission submit_v4 function has to be modified: reviewText TfidfVectorizer must have ngram_range(1,3).\n",
    "# (Update): Score in the range 0.825+\n",
    "\n",
    "# submit_v4(selected_features=best6_dict,\n",
    "#           param_grid=param_grid,\n",
    "#          vocab=common_1_2_3_grams)"
   ]
  }
 ],
 "metadata": {
  "kernelspec": {
   "display_name": "Python 3",
   "language": "python",
   "name": "python3"
  },
  "language_info": {
   "codemirror_mode": {
    "name": "ipython",
    "version": 3
   },
   "file_extension": ".py",
   "mimetype": "text/x-python",
   "name": "python",
   "nbconvert_exporter": "python",
   "pygments_lexer": "ipython3",
   "version": "3.10.10"
  },
  "papermill": {
   "default_parameters": {},
   "duration": 312.126378,
   "end_time": "2023-08-26T04:45:48.575364",
   "environment_variables": {},
   "exception": null,
   "input_path": "__notebook__.ipynb",
   "output_path": "__notebook__.ipynb",
   "parameters": {},
   "start_time": "2023-08-26T04:40:36.448986",
   "version": "2.4.0"
  }
 },
 "nbformat": 4,
 "nbformat_minor": 5
}
