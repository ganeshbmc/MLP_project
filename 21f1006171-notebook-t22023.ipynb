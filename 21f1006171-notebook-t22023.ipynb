{
 "cells": [
  {
   "cell_type": "markdown",
   "id": "efc1a615",
   "metadata": {
    "papermill": {
     "duration": 0.09439,
     "end_time": "2023-08-12T09:11:14.724149",
     "exception": false,
     "start_time": "2023-08-12T09:11:14.629759",
     "status": "completed"
    },
    "tags": []
   },
   "source": [
    "# MLP Project (T2 2023) by Ganesh P  "
   ]
  },
  {
   "cell_type": "markdown",
   "id": "0c907ad3",
   "metadata": {
    "papermill": {
     "duration": 0.09121,
     "end_time": "2023-08-12T09:11:14.908179",
     "exception": false,
     "start_time": "2023-08-12T09:11:14.816969",
     "status": "completed"
    },
    "tags": []
   },
   "source": [
    "`Disclaimer`   \n",
    "\n",
    "> This final notebook contains only the most relevant code to show the path/flow of my project work over few weeks. Rest of the code is in [my github repo](https://github.com/ganeshbmc/MLP_project) which is private at present (I will make it public after the project is over).  "
   ]
  },
  {
   "cell_type": "markdown",
   "id": "408b87f7",
   "metadata": {
    "papermill": {
     "duration": 0.091878,
     "end_time": "2023-08-12T09:11:15.091334",
     "exception": false,
     "start_time": "2023-08-12T09:11:14.999456",
     "status": "completed"
    },
    "tags": []
   },
   "source": [
    "`Strengths`  \n",
    "\n",
    "> * Modular code (DRY principle)  \n",
    "> * End to end pipeline in one function (with helper functions)   "
   ]
  },
  {
   "cell_type": "markdown",
   "id": "58d79460",
   "metadata": {
    "papermill": {
     "duration": 0.092343,
     "end_time": "2023-08-12T09:11:15.275639",
     "exception": false,
     "start_time": "2023-08-12T09:11:15.183296",
     "status": "completed"
    },
    "tags": []
   },
   "source": [
    "`Overview`  \n",
    "\n",
    "`PART I`  \n",
    "\n",
    "1.\t> Screen the datasets and import them.  \n",
    "2.\t> Perform EDA (first round).\n",
    "3.\t> Data cleaning.\n",
    "4.\t> Basic models including dummy model.\n",
    "5.\t> Because this is a text sentiment analysis project, focus on 'reviewText' column, work on cleaning text data and vectorising/tokenising it, build several models till the best possible score is reached.  \n",
    "\n",
    "`PART II`  \n",
    "\n",
    "6.\t> Merge train and movies dataset.\n",
    "7.\t> Perform EDA (second round) on merged dataset.\n",
    "8.\t> Data cleaning.\n",
    "9.\t> Build models on merged dataset.\n",
    "10.\t> Understand the results and do another round of EDA if needed.\n",
    "11.\t> Build final model.  \n",
    "\n",
    "`PART III (After project window closes)`  \n",
    "\n",
    "12. > Use NLTK library for further processing text data.  \n",
    "13. > Try to address comments from different languages, special characters etc.  \n",
    "14. > Try imblearn library to address class imbalance.  \n",
    "15. > Try to use currently available LLMs and see how my model performs agains them.  "
   ]
  },
  {
   "cell_type": "markdown",
   "id": "211678c6",
   "metadata": {
    "papermill": {
     "duration": 0.090256,
     "end_time": "2023-08-12T09:11:15.457716",
     "exception": false,
     "start_time": "2023-08-12T09:11:15.367460",
     "status": "completed"
    },
    "tags": []
   },
   "source": [
    "`Default code on Kaggle notebook`  "
   ]
  },
  {
   "cell_type": "code",
   "execution_count": 1,
   "id": "139b8bfa",
   "metadata": {
    "_cell_guid": "b1076dfc-b9ad-4769-8c92-a6c4dae69d19",
    "_uuid": "8f2839f25d086af736a60e9eeb907d3b93b6e0e5",
    "execution": {
     "iopub.execute_input": "2023-08-12T09:11:15.643548Z",
     "iopub.status.busy": "2023-08-12T09:11:15.642756Z",
     "iopub.status.idle": "2023-08-12T09:11:15.658009Z",
     "shell.execute_reply": "2023-08-12T09:11:15.656752Z"
    },
    "papermill": {
     "duration": 0.112005,
     "end_time": "2023-08-12T09:11:15.660555",
     "exception": false,
     "start_time": "2023-08-12T09:11:15.548550",
     "status": "completed"
    },
    "tags": []
   },
   "outputs": [
    {
     "name": "stdout",
     "output_type": "stream",
     "text": [
      "/kaggle/input/sentiment-prediction-on-movie-reviews/movies.csv\n",
      "/kaggle/input/sentiment-prediction-on-movie-reviews/sample.csv\n",
      "/kaggle/input/sentiment-prediction-on-movie-reviews/train.csv\n",
      "/kaggle/input/sentiment-prediction-on-movie-reviews/test.csv\n"
     ]
    }
   ],
   "source": [
    "# This Python 3 environment comes with many helpful analytics libraries installed\n",
    "# It is defined by the kaggle/python Docker image: https://github.com/kaggle/docker-python\n",
    "# For example, here's several helpful packages to load\n",
    "\n",
    "import numpy as np # linear algebra\n",
    "import pandas as pd # data processing, CSV file I/O (e.g. pd.read_csv)\n",
    "\n",
    "# Input data files are available in the read-only \"../input/\" directory\n",
    "# For example, running this (by clicking run or pressing Shift+Enter) will list all files under the input directory\n",
    "\n",
    "import os\n",
    "for dirname, _, filenames in os.walk('/kaggle/input'):\n",
    "    for filename in filenames:\n",
    "        print(os.path.join(dirname, filename))\n",
    "\n",
    "# You can write up to 20GB to the current directory (/kaggle/working/) that gets preserved as output when you create a version using \"Save & Run All\" \n",
    "# You can also write temporary files to /kaggle/temp/, but they won't be saved outside of the current session"
   ]
  },
  {
   "cell_type": "markdown",
   "id": "a914c46a",
   "metadata": {
    "papermill": {
     "duration": 0.090884,
     "end_time": "2023-08-12T09:11:15.843985",
     "exception": false,
     "start_time": "2023-08-12T09:11:15.753101",
     "status": "completed"
    },
    "tags": []
   },
   "source": [
    "### Specify platform  "
   ]
  },
  {
   "cell_type": "code",
   "execution_count": 2,
   "id": "9762c1d9",
   "metadata": {
    "execution": {
     "iopub.execute_input": "2023-08-12T09:11:16.030251Z",
     "iopub.status.busy": "2023-08-12T09:11:16.029796Z",
     "iopub.status.idle": "2023-08-12T09:11:16.034296Z",
     "shell.execute_reply": "2023-08-12T09:11:16.033394Z"
    },
    "papermill": {
     "duration": 0.099693,
     "end_time": "2023-08-12T09:11:16.036356",
     "exception": false,
     "start_time": "2023-08-12T09:11:15.936663",
     "status": "completed"
    },
    "tags": []
   },
   "outputs": [],
   "source": [
    "platform = 'kaggle'  "
   ]
  },
  {
   "cell_type": "markdown",
   "id": "fb7b2047",
   "metadata": {
    "papermill": {
     "duration": 0.090973,
     "end_time": "2023-08-12T09:11:16.218855",
     "exception": false,
     "start_time": "2023-08-12T09:11:16.127882",
     "status": "completed"
    },
    "tags": []
   },
   "source": [
    "### Import libraries  "
   ]
  },
  {
   "cell_type": "code",
   "execution_count": 3,
   "id": "4f58e3ff",
   "metadata": {
    "execution": {
     "iopub.execute_input": "2023-08-12T09:11:16.406667Z",
     "iopub.status.busy": "2023-08-12T09:11:16.405940Z",
     "iopub.status.idle": "2023-08-12T09:11:18.684594Z",
     "shell.execute_reply": "2023-08-12T09:11:18.683169Z"
    },
    "papermill": {
     "duration": 2.374599,
     "end_time": "2023-08-12T09:11:18.687343",
     "exception": false,
     "start_time": "2023-08-12T09:11:16.312744",
     "status": "completed"
    },
    "tags": []
   },
   "outputs": [
    {
     "name": "stdout",
     "output_type": "stream",
     "text": [
      "Imports done.\n"
     ]
    }
   ],
   "source": [
    "import pandas as pd\n",
    "import numpy as np\n",
    "import matplotlib.pyplot as plt\n",
    "import seaborn as sns\n",
    "import re\n",
    "from itertools import compress\n",
    "\n",
    "from sklearn.dummy import DummyClassifier\n",
    "from sklearn.pipeline import Pipeline, FeatureUnion\n",
    "from sklearn.compose import ColumnTransformer\n",
    "from sklearn.metrics import classification_report, confusion_matrix,f1_score\n",
    "from sklearn.feature_extraction.text import TfidfVectorizer, CountVectorizer\n",
    "from sklearn.preprocessing import FunctionTransformer\n",
    "from sklearn.preprocessing import StandardScaler, MinMaxScaler, RobustScaler, OneHotEncoder, LabelEncoder\n",
    "from sklearn.impute import SimpleImputer\n",
    "from sklearn.linear_model import LogisticRegression, SGDClassifier\n",
    "from sklearn.tree import DecisionTreeClassifier\n",
    "from sklearn.ensemble import RandomForestClassifier, AdaBoostClassifier\n",
    "from sklearn.svm import LinearSVC\n",
    "from sklearn.naive_bayes import GaussianNB, BernoulliNB, CategoricalNB, ComplementNB, MultinomialNB\n",
    "from sklearn.model_selection import train_test_split, GridSearchCV, cross_val_score\n",
    "from sklearn.decomposition import PCA, TruncatedSVD\n",
    "from sklearn.feature_selection import RFECV\n",
    "from sklearn.feature_selection import RFE\n",
    "from sklearn.neural_network import MLPClassifier\n",
    "\n",
    "# import lightgbm as ltb\n",
    "\n",
    "import scipy.stats as stats\n",
    "print(\"Imports done.\")"
   ]
  },
  {
   "cell_type": "markdown",
   "id": "ce3dea99",
   "metadata": {
    "papermill": {
     "duration": 0.091458,
     "end_time": "2023-08-12T09:11:18.871995",
     "exception": false,
     "start_time": "2023-08-12T09:11:18.780537",
     "status": "completed"
    },
    "tags": []
   },
   "source": [
    "# PART I  "
   ]
  },
  {
   "cell_type": "markdown",
   "id": "2661603a",
   "metadata": {
    "papermill": {
     "duration": 0.091606,
     "end_time": "2023-08-12T09:11:19.055819",
     "exception": false,
     "start_time": "2023-08-12T09:11:18.964213",
     "status": "completed"
    },
    "tags": []
   },
   "source": [
    "## Load datasets  "
   ]
  },
  {
   "cell_type": "code",
   "execution_count": 4,
   "id": "6a2d5bb5",
   "metadata": {
    "execution": {
     "iopub.execute_input": "2023-08-12T09:11:19.243283Z",
     "iopub.status.busy": "2023-08-12T09:11:19.242412Z",
     "iopub.status.idle": "2023-08-12T09:11:20.382068Z",
     "shell.execute_reply": "2023-08-12T09:11:20.381059Z"
    },
    "papermill": {
     "duration": 1.236937,
     "end_time": "2023-08-12T09:11:20.384773",
     "exception": false,
     "start_time": "2023-08-12T09:11:19.147836",
     "status": "completed"
    },
    "tags": []
   },
   "outputs": [
    {
     "data": {
      "text/plain": [
       "(162758, 5)"
      ]
     },
     "execution_count": 4,
     "metadata": {},
     "output_type": "execute_result"
    }
   ],
   "source": [
    "if platform == 'vscode':\n",
    "    traindf = pd.read_csv(\"data/train.csv\")\n",
    "else:\n",
    "    traindf = pd.read_csv(\"/kaggle/input/sentiment-prediction-on-movie-reviews/train.csv\")\n",
    "    \n",
    "traindf.shape"
   ]
  },
  {
   "cell_type": "code",
   "execution_count": 5,
   "id": "de63b14c",
   "metadata": {
    "execution": {
     "iopub.execute_input": "2023-08-12T09:11:20.575387Z",
     "iopub.status.busy": "2023-08-12T09:11:20.574557Z",
     "iopub.status.idle": "2023-08-12T09:11:20.920239Z",
     "shell.execute_reply": "2023-08-12T09:11:20.919145Z"
    },
    "papermill": {
     "duration": 0.44578,
     "end_time": "2023-08-12T09:11:20.922877",
     "exception": false,
     "start_time": "2023-08-12T09:11:20.477097",
     "status": "completed"
    },
    "tags": []
   },
   "outputs": [
    {
     "data": {
      "text/plain": [
       "(55315, 4)"
      ]
     },
     "execution_count": 5,
     "metadata": {},
     "output_type": "execute_result"
    }
   ],
   "source": [
    "if platform == 'vscode':\n",
    "    testdf = pd.read_csv(\"data/test.csv\")\n",
    "else:\n",
    "    testdf = pd.read_csv(\"/kaggle/input/sentiment-prediction-on-movie-reviews/test.csv\")\n",
    "\n",
    "testdf.shape"
   ]
  },
  {
   "cell_type": "markdown",
   "id": "1e211c04",
   "metadata": {
    "papermill": {
     "duration": 0.0914,
     "end_time": "2023-08-12T09:11:21.106613",
     "exception": false,
     "start_time": "2023-08-12T09:11:21.015213",
     "status": "completed"
    },
    "tags": []
   },
   "source": [
    "### Understanding the data and getting it ready for training and evaluating models  \n"
   ]
  },
  {
   "cell_type": "code",
   "execution_count": 6,
   "id": "95a8ed63",
   "metadata": {
    "execution": {
     "iopub.execute_input": "2023-08-12T09:11:21.294936Z",
     "iopub.status.busy": "2023-08-12T09:11:21.294552Z",
     "iopub.status.idle": "2023-08-12T09:11:21.300807Z",
     "shell.execute_reply": "2023-08-12T09:11:21.299640Z"
    },
    "papermill": {
     "duration": 0.10376,
     "end_time": "2023-08-12T09:11:21.303079",
     "exception": false,
     "start_time": "2023-08-12T09:11:21.199319",
     "status": "completed"
    },
    "tags": []
   },
   "outputs": [
    {
     "data": {
      "text/plain": [
       "(162758, 5)"
      ]
     },
     "execution_count": 6,
     "metadata": {},
     "output_type": "execute_result"
    }
   ],
   "source": [
    "traindf.shape"
   ]
  },
  {
   "cell_type": "code",
   "execution_count": 7,
   "id": "93af2109",
   "metadata": {
    "execution": {
     "iopub.execute_input": "2023-08-12T09:11:21.491488Z",
     "iopub.status.busy": "2023-08-12T09:11:21.490233Z",
     "iopub.status.idle": "2023-08-12T09:11:21.736388Z",
     "shell.execute_reply": "2023-08-12T09:11:21.734891Z"
    },
    "papermill": {
     "duration": 0.343018,
     "end_time": "2023-08-12T09:11:21.739531",
     "exception": false,
     "start_time": "2023-08-12T09:11:21.396513",
     "status": "completed"
    },
    "tags": []
   },
   "outputs": [
    {
     "name": "stdout",
     "output_type": "stream",
     "text": [
      "<class 'pandas.core.frame.DataFrame'>\n",
      "RangeIndex: 162758 entries, 0 to 162757\n",
      "Data columns (total 5 columns):\n",
      " #   Column              Non-Null Count   Dtype \n",
      "---  ------              --------------   ----- \n",
      " 0   movieid             162758 non-null  object\n",
      " 1   reviewerName        162758 non-null  object\n",
      " 2   isFrequentReviewer  162758 non-null  bool  \n",
      " 3   reviewText          156311 non-null  object\n",
      " 4   sentiment           162758 non-null  object\n",
      "dtypes: bool(1), object(4)\n",
      "memory usage: 5.1+ MB\n"
     ]
    }
   ],
   "source": [
    "traindf.info()"
   ]
  },
  {
   "cell_type": "code",
   "execution_count": 8,
   "id": "3bcc2c09",
   "metadata": {
    "execution": {
     "iopub.execute_input": "2023-08-12T09:11:21.929364Z",
     "iopub.status.busy": "2023-08-12T09:11:21.928854Z",
     "iopub.status.idle": "2023-08-12T09:11:22.156380Z",
     "shell.execute_reply": "2023-08-12T09:11:22.155138Z"
    },
    "papermill": {
     "duration": 0.325629,
     "end_time": "2023-08-12T09:11:22.158909",
     "exception": false,
     "start_time": "2023-08-12T09:11:21.833280",
     "status": "completed"
    },
    "tags": []
   },
   "outputs": [
    {
     "data": {
      "text/plain": [
       "movieid                  0\n",
       "reviewerName             0\n",
       "isFrequentReviewer       0\n",
       "reviewText            6447\n",
       "sentiment                0\n",
       "dtype: int64"
      ]
     },
     "execution_count": 8,
     "metadata": {},
     "output_type": "execute_result"
    }
   ],
   "source": [
    "traindf.isna().sum()"
   ]
  },
  {
   "cell_type": "markdown",
   "id": "acdb1406",
   "metadata": {
    "papermill": {
     "duration": 0.092968,
     "end_time": "2023-08-12T09:11:22.414836",
     "exception": false,
     "start_time": "2023-08-12T09:11:22.321868",
     "status": "completed"
    },
    "tags": []
   },
   "source": [
    "### Fill empty reviewText with custom text  "
   ]
  },
  {
   "cell_type": "code",
   "execution_count": 9,
   "id": "6b4ef599",
   "metadata": {
    "execution": {
     "iopub.execute_input": "2023-08-12T09:11:22.603523Z",
     "iopub.status.busy": "2023-08-12T09:11:22.602999Z",
     "iopub.status.idle": "2023-08-12T09:11:22.854267Z",
     "shell.execute_reply": "2023-08-12T09:11:22.853138Z"
    },
    "papermill": {
     "duration": 0.348215,
     "end_time": "2023-08-12T09:11:22.856949",
     "exception": false,
     "start_time": "2023-08-12T09:11:22.508734",
     "status": "completed"
    },
    "tags": []
   },
   "outputs": [
    {
     "data": {
      "text/plain": [
       "movieid               0\n",
       "reviewerName          0\n",
       "isFrequentReviewer    0\n",
       "reviewText            0\n",
       "sentiment             0\n",
       "dtype: int64"
      ]
     },
     "execution_count": 9,
     "metadata": {},
     "output_type": "execute_result"
    }
   ],
   "source": [
    "traindf[\"reviewText\"].fillna(\"empty\", inplace=True)\n",
    "traindf.isna().sum()"
   ]
  },
  {
   "cell_type": "markdown",
   "id": "88712185",
   "metadata": {
    "papermill": {
     "duration": 0.092811,
     "end_time": "2023-08-12T09:11:23.044785",
     "exception": false,
     "start_time": "2023-08-12T09:11:22.951974",
     "status": "completed"
    },
    "tags": []
   },
   "source": [
    "## EDA  \n"
   ]
  },
  {
   "cell_type": "code",
   "execution_count": 10,
   "id": "7e015051",
   "metadata": {
    "execution": {
     "iopub.execute_input": "2023-08-12T09:11:23.233709Z",
     "iopub.status.busy": "2023-08-12T09:11:23.233310Z",
     "iopub.status.idle": "2023-08-12T09:11:23.495758Z",
     "shell.execute_reply": "2023-08-12T09:11:23.494158Z"
    },
    "papermill": {
     "duration": 0.361759,
     "end_time": "2023-08-12T09:11:23.500392",
     "exception": false,
     "start_time": "2023-08-12T09:11:23.138633",
     "status": "completed"
    },
    "tags": []
   },
   "outputs": [
    {
     "data": {
      "image/png": "[encoded data removed]",
      "text/plain": [
       "<Figure size 600x400 with 1 Axes>"
      ]
     },
     "metadata": {},
     "output_type": "display_data"
    }
   ],
   "source": [
    "# Pie chart for sentiment column\n",
    "plt.figure(figsize=(6, 4))\n",
    "traindf[\"sentiment\"].value_counts().plot(kind='pie', autopct='%1.0f%%', colors=[\"lightgreen\", \"crimson\"])\n",
    "plt.title(\"Pie chart for sentiment column\")\n",
    "plt.show()"
   ]
  },
  {
   "cell_type": "code",
   "execution_count": 11,
   "id": "e7c388ba",
   "metadata": {
    "execution": {
     "iopub.execute_input": "2023-08-12T09:11:23.714911Z",
     "iopub.status.busy": "2023-08-12T09:11:23.714174Z",
     "iopub.status.idle": "2023-08-12T09:11:23.786132Z",
     "shell.execute_reply": "2023-08-12T09:11:23.784977Z"
    },
    "papermill": {
     "duration": 0.170549,
     "end_time": "2023-08-12T09:11:23.788518",
     "exception": false,
     "start_time": "2023-08-12T09:11:23.617969",
     "status": "completed"
    },
    "tags": []
   },
   "outputs": [
    {
     "name": "stdout",
     "output_type": "stream",
     "text": [
      "sentiment           NEGATIVE  POSITIVE\n",
      "isFrequentReviewer                    \n",
      "False                  35760     77429\n",
      "True                   18237     31332\n"
     ]
    },
    {
     "data": {
      "text/plain": [
       "Chi2ContingencyResult(statistic=419.89235425657796, pvalue=2.5755894769493255e-93, dof=1, expected_freq=array([[37551.86493444, 75637.13506556],\n",
       "       [16445.13506556, 33123.86493444]]))"
      ]
     },
     "execution_count": 11,
     "metadata": {},
     "output_type": "execute_result"
    }
   ],
   "source": [
    "# Chi-square test for isFrequentReviewer column and sentiment column   \n",
    "\n",
    "contingency_table = pd.crosstab(traindf['isFrequentReviewer'], traindf['sentiment'])\n",
    "print(contingency_table)\n",
    "stats.chi2_contingency(contingency_table)"
   ]
  },
  {
   "cell_type": "markdown",
   "id": "0cb12db2",
   "metadata": {
    "papermill": {
     "duration": 0.094859,
     "end_time": "2023-08-12T09:11:23.979005",
     "exception": false,
     "start_time": "2023-08-12T09:11:23.884146",
     "status": "completed"
    },
    "tags": []
   },
   "source": [
    "### Separate features and labels  "
   ]
  },
  {
   "cell_type": "code",
   "execution_count": 12,
   "id": "66d07623",
   "metadata": {
    "execution": {
     "iopub.execute_input": "2023-08-12T09:11:24.170582Z",
     "iopub.status.busy": "2023-08-12T09:11:24.170173Z",
     "iopub.status.idle": "2023-08-12T09:11:24.177455Z",
     "shell.execute_reply": "2023-08-12T09:11:24.176447Z"
    },
    "papermill": {
     "duration": 0.10585,
     "end_time": "2023-08-12T09:11:24.180060",
     "exception": false,
     "start_time": "2023-08-12T09:11:24.074210",
     "status": "completed"
    },
    "tags": []
   },
   "outputs": [
    {
     "data": {
      "text/plain": [
       "((162758,), (162758,))"
      ]
     },
     "execution_count": 12,
     "metadata": {},
     "output_type": "execute_result"
    }
   ],
   "source": [
    "train_features = traindf[\"reviewText\"]\n",
    "train_labels = traindf.iloc[:, -1]\n",
    "train_features.shape, train_labels.shape"
   ]
  },
  {
   "cell_type": "markdown",
   "id": "2d6e6a84",
   "metadata": {
    "papermill": {
     "duration": 0.097244,
     "end_time": "2023-08-12T09:11:24.372002",
     "exception": false,
     "start_time": "2023-08-12T09:11:24.274758",
     "status": "completed"
    },
    "tags": []
   },
   "source": [
    "### Split traindf into training and testing parts  "
   ]
  },
  {
   "cell_type": "code",
   "execution_count": 13,
   "id": "5e2d1d77",
   "metadata": {
    "execution": {
     "iopub.execute_input": "2023-08-12T09:11:24.564936Z",
     "iopub.status.busy": "2023-08-12T09:11:24.564540Z",
     "iopub.status.idle": "2023-08-12T09:11:24.604425Z",
     "shell.execute_reply": "2023-08-12T09:11:24.603286Z"
    },
    "papermill": {
     "duration": 0.138917,
     "end_time": "2023-08-12T09:11:24.606909",
     "exception": false,
     "start_time": "2023-08-12T09:11:24.467992",
     "status": "completed"
    },
    "tags": []
   },
   "outputs": [
    {
     "data": {
      "text/plain": [
       "((122068,), (40690,), (122068,), (40690,))"
      ]
     },
     "execution_count": 13,
     "metadata": {},
     "output_type": "execute_result"
    }
   ],
   "source": [
    "X_train, X_test, y_train, y_test = train_test_split(train_features, train_labels, test_size=0.25, random_state=42)\n",
    "X_train.shape, X_test.shape, y_train.shape, y_test.shape"
   ]
  },
  {
   "cell_type": "markdown",
   "id": "a787d612",
   "metadata": {
    "papermill": {
     "duration": 0.09437,
     "end_time": "2023-08-12T09:11:24.797176",
     "exception": false,
     "start_time": "2023-08-12T09:11:24.702806",
     "status": "completed"
    },
    "tags": []
   },
   "source": [
    "## Model evaluation plan and code  "
   ]
  },
  {
   "cell_type": "code",
   "execution_count": 14,
   "id": "935f7f59",
   "metadata": {
    "execution": {
     "iopub.execute_input": "2023-08-12T09:11:24.991153Z",
     "iopub.status.busy": "2023-08-12T09:11:24.990669Z",
     "iopub.status.idle": "2023-08-12T09:11:24.996189Z",
     "shell.execute_reply": "2023-08-12T09:11:24.994763Z"
    },
    "papermill": {
     "duration": 0.106569,
     "end_time": "2023-08-12T09:11:24.998736",
     "exception": false,
     "start_time": "2023-08-12T09:11:24.892167",
     "status": "completed"
    },
    "tags": []
   },
   "outputs": [],
   "source": [
    "# from sklearn.metrics import classification_report, confusion_matrix, ConfusionMatrixDisplay\n",
    "# from sklearn.metrics import f1_score"
   ]
  },
  {
   "cell_type": "code",
   "execution_count": 15,
   "id": "53391139",
   "metadata": {
    "execution": {
     "iopub.execute_input": "2023-08-12T09:11:25.190300Z",
     "iopub.status.busy": "2023-08-12T09:11:25.189873Z",
     "iopub.status.idle": "2023-08-12T09:11:25.195099Z",
     "shell.execute_reply": "2023-08-12T09:11:25.193921Z"
    },
    "papermill": {
     "duration": 0.10323,
     "end_time": "2023-08-12T09:11:25.197525",
     "exception": false,
     "start_time": "2023-08-12T09:11:25.094295",
     "status": "completed"
    },
    "tags": []
   },
   "outputs": [],
   "source": [
    "# def evaluate(y_test, y_pred):\n",
    "#     print(classification_report(y_test, y_pred))\n",
    "#     print(confusion_matrix(y_test, y_pred))\n",
    "#     # print(f1_score(y_test, y_pred))\n",
    "#     ConfusionMatrixDisplay(y_test, y_pred)\n",
    "#     return"
   ]
  },
  {
   "cell_type": "markdown",
   "id": "a00b9ee5",
   "metadata": {
    "papermill": {
     "duration": 0.096487,
     "end_time": "2023-08-12T09:11:25.388009",
     "exception": false,
     "start_time": "2023-08-12T09:11:25.291522",
     "status": "completed"
    },
    "tags": []
   },
   "source": [
    "### Data preprocessing  "
   ]
  },
  {
   "cell_type": "markdown",
   "id": "3cc8f2bc",
   "metadata": {
    "papermill": {
     "duration": 0.095014,
     "end_time": "2023-08-12T09:11:25.577623",
     "exception": false,
     "start_time": "2023-08-12T09:11:25.482609",
     "status": "completed"
    },
    "tags": []
   },
   "source": [
    "`Define stop words`  "
   ]
  },
  {
   "cell_type": "code",
   "execution_count": 16,
   "id": "84574893",
   "metadata": {
    "execution": {
     "iopub.execute_input": "2023-08-12T09:11:25.769246Z",
     "iopub.status.busy": "2023-08-12T09:11:25.768451Z",
     "iopub.status.idle": "2023-08-12T09:11:25.773270Z",
     "shell.execute_reply": "2023-08-12T09:11:25.772217Z"
    },
    "papermill": {
     "duration": 0.103312,
     "end_time": "2023-08-12T09:11:25.775670",
     "exception": false,
     "start_time": "2023-08-12T09:11:25.672358",
     "status": "completed"
    },
    "tags": []
   },
   "outputs": [],
   "source": [
    "# stop_words = [\"able\", \"about\", \"above\", \"abst\", \"ac\"]     # Deprecated  \n",
    "# type(stop_words), len(stop_words)"
   ]
  },
  {
   "cell_type": "markdown",
   "id": "44500248",
   "metadata": {
    "papermill": {
     "duration": 0.094695,
     "end_time": "2023-08-12T09:11:25.964868",
     "exception": false,
     "start_time": "2023-08-12T09:11:25.870173",
     "status": "completed"
    },
    "tags": []
   },
   "source": [
    "## Feature extraction  "
   ]
  },
  {
   "cell_type": "markdown",
   "id": "f5a5f4f2",
   "metadata": {
    "papermill": {
     "duration": 0.09424,
     "end_time": "2023-08-12T09:11:26.153665",
     "exception": false,
     "start_time": "2023-08-12T09:11:26.059425",
     "status": "completed"
    },
    "tags": []
   },
   "source": [
    "### Understand CountVectorizer and TfidfVectorizer  "
   ]
  },
  {
   "cell_type": "code",
   "execution_count": 17,
   "id": "955b1af2",
   "metadata": {
    "execution": {
     "iopub.execute_input": "2023-08-12T09:11:26.346806Z",
     "iopub.status.busy": "2023-08-12T09:11:26.346415Z",
     "iopub.status.idle": "2023-08-12T09:11:26.351534Z",
     "shell.execute_reply": "2023-08-12T09:11:26.350445Z"
    },
    "papermill": {
     "duration": 0.105683,
     "end_time": "2023-08-12T09:11:26.353813",
     "exception": false,
     "start_time": "2023-08-12T09:11:26.248130",
     "status": "completed"
    },
    "tags": []
   },
   "outputs": [],
   "source": [
    "# text = X_train.copy()\n",
    "# text.head()"
   ]
  },
  {
   "cell_type": "code",
   "execution_count": 18,
   "id": "03cd0657",
   "metadata": {
    "execution": {
     "iopub.execute_input": "2023-08-12T09:11:26.546482Z",
     "iopub.status.busy": "2023-08-12T09:11:26.545990Z",
     "iopub.status.idle": "2023-08-12T09:11:26.550729Z",
     "shell.execute_reply": "2023-08-12T09:11:26.549603Z"
    },
    "papermill": {
     "duration": 0.103356,
     "end_time": "2023-08-12T09:11:26.553120",
     "exception": false,
     "start_time": "2023-08-12T09:11:26.449764",
     "status": "completed"
    },
    "tags": []
   },
   "outputs": [],
   "source": [
    "# vectorizer = TfidfVectorizer(stop_words=stop_words)\n",
    "# vectorized_text = vectorizer.fit_transform(text[\"reviewText\"])\n",
    "# vectorized_text"
   ]
  },
  {
   "cell_type": "markdown",
   "id": "d427efa8",
   "metadata": {
    "papermill": {
     "duration": 0.094944,
     "end_time": "2023-08-12T09:11:26.745679",
     "exception": false,
     "start_time": "2023-08-12T09:11:26.650735",
     "status": "completed"
    },
    "tags": []
   },
   "source": [
    "`Without stop words`  \n",
    "<122068x58624 sparse matrix of type '<class 'numpy.float64'>'\n",
    "\twith 2312222 stored elements in Compressed Sparse Row format>\n",
    "\n",
    "`With stop words`  \n",
    "<122068x57784 sparse matrix of type '<class 'numpy.float64'>'\n",
    "\twith 1188395 stored elements in Compressed Sparse Row format>   "
   ]
  },
  {
   "cell_type": "code",
   "execution_count": 19,
   "id": "a662fd15",
   "metadata": {
    "execution": {
     "iopub.execute_input": "2023-08-12T09:11:26.948896Z",
     "iopub.status.busy": "2023-08-12T09:11:26.948367Z",
     "iopub.status.idle": "2023-08-12T09:11:26.953662Z",
     "shell.execute_reply": "2023-08-12T09:11:26.952500Z"
    },
    "papermill": {
     "duration": 0.113874,
     "end_time": "2023-08-12T09:11:26.955946",
     "exception": false,
     "start_time": "2023-08-12T09:11:26.842072",
     "status": "completed"
    },
    "tags": []
   },
   "outputs": [],
   "source": [
    "# vectorizer2 = CountVectorizer(stop_words=stop_words)\n",
    "# vectorized_text2 = vectorizer2.fit_transform(text[\"reviewText\"])\n",
    "# vectorized_text2"
   ]
  },
  {
   "cell_type": "markdown",
   "id": "f83f2e55",
   "metadata": {
    "papermill": {
     "duration": 0.096652,
     "end_time": "2023-08-12T09:11:27.151612",
     "exception": false,
     "start_time": "2023-08-12T09:11:27.054960",
     "status": "completed"
    },
    "tags": []
   },
   "source": [
    "`Without stop words`  \n",
    "<122068x58624 sparse matrix of type '<class 'numpy.int64'>'\n",
    "\twith 2312222 stored elements in Compressed Sparse Row format>\n",
    "\n",
    "`With stop words`  \n",
    "<122068x57784 sparse matrix of type '<class 'numpy.int64'>'\n",
    "\twith 1188395 stored elements in Compressed Sparse Row format>"
   ]
  },
  {
   "cell_type": "markdown",
   "id": "67c6dea8",
   "metadata": {
    "papermill": {
     "duration": 0.132153,
     "end_time": "2023-08-12T09:11:27.392165",
     "exception": false,
     "start_time": "2023-08-12T09:11:27.260012",
     "status": "completed"
    },
    "tags": []
   },
   "source": [
    "### Conclusion   \n",
    "`TfidfVectorizer is equivalent to CountVectorizer followed by TfidfTransformer.`  \n",
    "\n",
    "https://scikit-learn.org/stable/modules/generated/sklearn.feature_extraction.text.TfidfVectorizer.html"
   ]
  },
  {
   "cell_type": "markdown",
   "id": "000b39e3",
   "metadata": {
    "papermill": {
     "duration": 0.094858,
     "end_time": "2023-08-12T09:11:27.593573",
     "exception": false,
     "start_time": "2023-08-12T09:11:27.498715",
     "status": "completed"
    },
    "tags": []
   },
   "source": [
    "## Model building workflow  \n",
    "\n",
    "`Make pipeline for preprocesing and model training and predictions`  \n"
   ]
  },
  {
   "cell_type": "code",
   "execution_count": 20,
   "id": "aee75b6d",
   "metadata": {
    "execution": {
     "iopub.execute_input": "2023-08-12T09:11:27.786957Z",
     "iopub.status.busy": "2023-08-12T09:11:27.786563Z",
     "iopub.status.idle": "2023-08-12T09:11:27.792137Z",
     "shell.execute_reply": "2023-08-12T09:11:27.790837Z"
    },
    "papermill": {
     "duration": 0.105486,
     "end_time": "2023-08-12T09:11:27.794612",
     "exception": false,
     "start_time": "2023-08-12T09:11:27.689126",
     "status": "completed"
    },
    "tags": []
   },
   "outputs": [],
   "source": [
    "# def preprocess_n_train(X_train, y_train, preprocessor, model):\n",
    "#     pipe = Pipeline(steps=[\n",
    "#                             (\"preprocessor\", preprocessor),\n",
    "#                             (\"model\", model)\n",
    "#                         ])\n",
    "    \n",
    "#     pipe.fit(X_train, y_train)\n",
    "\n",
    "#     print(\"Given model has been trained. Use predict method to get predictions array.\")\n",
    "#     return pipe\n",
    "\n",
    "\n",
    "# def predict_n_evaluate(pipeline, X_test, y_test):\n",
    "#     y_pred = pipeline.predict(X_test)\n",
    "#     print(f\"y_pred shape: {y_pred.shape}\")\n",
    "#     print(f\"Summary of predictions: {np.unique(y_pred, return_counts=True)}\")\n",
    "#     print(classification_report(y_test, y_pred))\n",
    "#     print(confusion_matrix(y_test, y_pred))\n",
    "#     return y_pred"
   ]
  },
  {
   "cell_type": "markdown",
   "id": "ee8370cd",
   "metadata": {
    "papermill": {
     "duration": 0.096303,
     "end_time": "2023-08-12T09:11:27.986172",
     "exception": false,
     "start_time": "2023-08-12T09:11:27.889869",
     "status": "completed"
    },
    "tags": []
   },
   "source": [
    "## Building 3 basic models  "
   ]
  },
  {
   "cell_type": "markdown",
   "id": "75fc735b",
   "metadata": {
    "papermill": {
     "duration": 0.093741,
     "end_time": "2023-08-12T09:11:28.174530",
     "exception": false,
     "start_time": "2023-08-12T09:11:28.080789",
     "status": "completed"
    },
    "tags": []
   },
   "source": [
    "### Text preprocessors  "
   ]
  },
  {
   "cell_type": "code",
   "execution_count": 21,
   "id": "a6a46afb",
   "metadata": {
    "execution": {
     "iopub.execute_input": "2023-08-12T09:11:28.367129Z",
     "iopub.status.busy": "2023-08-12T09:11:28.366466Z",
     "iopub.status.idle": "2023-08-12T09:11:28.371016Z",
     "shell.execute_reply": "2023-08-12T09:11:28.370213Z"
    },
    "papermill": {
     "duration": 0.104759,
     "end_time": "2023-08-12T09:11:28.373343",
     "exception": false,
     "start_time": "2023-08-12T09:11:28.268584",
     "status": "completed"
    },
    "tags": []
   },
   "outputs": [],
   "source": [
    "# tvec = TfidfVectorizer()\n",
    "# cvec = CountVectorizer()        # Note that TfidfVectorizer and CountVectorizer+TfidsTransformer do the same function\n",
    "# tvec, cvec"
   ]
  },
  {
   "cell_type": "markdown",
   "id": "78b56b7a",
   "metadata": {
    "papermill": {
     "duration": 0.113266,
     "end_time": "2023-08-12T09:11:28.580930",
     "exception": false,
     "start_time": "2023-08-12T09:11:28.467664",
     "status": "completed"
    },
    "tags": []
   },
   "source": [
    "### Logistic Regression with TfidVectorizer for preprocessing  "
   ]
  },
  {
   "cell_type": "code",
   "execution_count": 22,
   "id": "33616b9c",
   "metadata": {
    "execution": {
     "iopub.execute_input": "2023-08-12T09:11:28.771531Z",
     "iopub.status.busy": "2023-08-12T09:11:28.770822Z",
     "iopub.status.idle": "2023-08-12T09:11:28.775648Z",
     "shell.execute_reply": "2023-08-12T09:11:28.774700Z"
    },
    "papermill": {
     "duration": 0.102891,
     "end_time": "2023-08-12T09:11:28.777794",
     "exception": false,
     "start_time": "2023-08-12T09:11:28.674903",
     "status": "completed"
    },
    "tags": []
   },
   "outputs": [],
   "source": [
    "# logreg = LogisticRegression(max_iter=1000)\n",
    "# logreg_pipe = preprocess_n_train(X_train, y_train, tvec, logreg)\n",
    "# y_pred_logreg = predict_n_evaluate(logreg_pipe, X_test, y_test)\n",
    "# y_pred_logreg"
   ]
  },
  {
   "cell_type": "markdown",
   "id": "e03f6ba3",
   "metadata": {
    "papermill": {
     "duration": 0.161744,
     "end_time": "2023-08-12T09:11:29.033574",
     "exception": false,
     "start_time": "2023-08-12T09:11:28.871830",
     "status": "completed"
    },
    "tags": []
   },
   "source": [
    "### SVM model  "
   ]
  },
  {
   "cell_type": "code",
   "execution_count": 23,
   "id": "7190ce14",
   "metadata": {
    "execution": {
     "iopub.execute_input": "2023-08-12T09:11:29.225617Z",
     "iopub.status.busy": "2023-08-12T09:11:29.225242Z",
     "iopub.status.idle": "2023-08-12T09:11:29.229748Z",
     "shell.execute_reply": "2023-08-12T09:11:29.228570Z"
    },
    "papermill": {
     "duration": 0.101855,
     "end_time": "2023-08-12T09:11:29.232089",
     "exception": false,
     "start_time": "2023-08-12T09:11:29.130234",
     "status": "completed"
    },
    "tags": []
   },
   "outputs": [],
   "source": [
    "# svm = LinearSVC()\n",
    "# svm_pipe = preprocess_n_train(X_train, y_train, tvec, svm)\n",
    "# y_pred_svm = predict_n_evaluate(svm_pipe, X_test, y_test)\n",
    "# y_pred_svm"
   ]
  },
  {
   "cell_type": "markdown",
   "id": "8b91cac1",
   "metadata": {
    "papermill": {
     "duration": 0.094377,
     "end_time": "2023-08-12T09:11:29.422846",
     "exception": false,
     "start_time": "2023-08-12T09:11:29.328469",
     "status": "completed"
    },
    "tags": []
   },
   "source": [
    "### Naive Bayes model  "
   ]
  },
  {
   "cell_type": "markdown",
   "id": "140b13ba",
   "metadata": {
    "papermill": {
     "duration": 0.094289,
     "end_time": "2023-08-12T09:11:29.611515",
     "exception": false,
     "start_time": "2023-08-12T09:11:29.517226",
     "status": "completed"
    },
    "tags": []
   },
   "source": [
    "#### MultinomialNB  "
   ]
  },
  {
   "cell_type": "code",
   "execution_count": 24,
   "id": "018015b9",
   "metadata": {
    "execution": {
     "iopub.execute_input": "2023-08-12T09:11:29.804290Z",
     "iopub.status.busy": "2023-08-12T09:11:29.803869Z",
     "iopub.status.idle": "2023-08-12T09:11:29.808388Z",
     "shell.execute_reply": "2023-08-12T09:11:29.807452Z"
    },
    "papermill": {
     "duration": 0.104591,
     "end_time": "2023-08-12T09:11:29.810610",
     "exception": false,
     "start_time": "2023-08-12T09:11:29.706019",
     "status": "completed"
    },
    "tags": []
   },
   "outputs": [],
   "source": [
    "# mnb = MultinomialNB()\n",
    "# mnb_pipe = preprocess_n_train(X_train, y_train, tvec, mnb)\n",
    "# y_pred_mnb = predict_n_evaluate(mnb_pipe, X_test, y_test)\n",
    "# y_pred_mnb"
   ]
  },
  {
   "cell_type": "markdown",
   "id": "7463f53f",
   "metadata": {
    "papermill": {
     "duration": 0.093868,
     "end_time": "2023-08-12T09:11:29.998769",
     "exception": false,
     "start_time": "2023-08-12T09:11:29.904901",
     "status": "completed"
    },
    "tags": []
   },
   "source": [
    "## Submitting predictions to Kaggle competition  "
   ]
  },
  {
   "cell_type": "code",
   "execution_count": 25,
   "id": "0d604583",
   "metadata": {
    "execution": {
     "iopub.execute_input": "2023-08-12T09:11:30.189409Z",
     "iopub.status.busy": "2023-08-12T09:11:30.187968Z",
     "iopub.status.idle": "2023-08-12T09:11:30.194195Z",
     "shell.execute_reply": "2023-08-12T09:11:30.193091Z"
    },
    "papermill": {
     "duration": 0.103797,
     "end_time": "2023-08-12T09:11:30.196506",
     "exception": false,
     "start_time": "2023-08-12T09:11:30.092709",
     "status": "completed"
    },
    "tags": []
   },
   "outputs": [],
   "source": [
    "# def submit(selected_model=logreg, selected_preprocessor=tvec):\n",
    "    \n",
    "#     # Retrain on the whole train.csv file  \n",
    "#     traindf = pd.read_csv(\"/kaggle/input/sentiment-prediction-on-movie-reviews/train.csv\")\n",
    "#     X_train = traindf[\"reviewText\"]\n",
    "#     X_train.fillna(\"empty\", inplace=True)\n",
    "#     y_train = traindf[\"sentiment\"]\n",
    "#     pipe = preprocess_n_train(X_train, y_train, selected_preprocessor, selected_model)\n",
    "    \n",
    "#     # Predict on test.csv file\n",
    "#     testdf = pd.read_csv(\"/kaggle/input/sentiment-prediction-on-movie-reviews/test.csv\")\n",
    "#     X_test = testdf[\"reviewText\"]\n",
    "#     X_test.fillna(\"empty\", inplace=True)\n",
    "    \n",
    "#     y_pred = pipe.predict(X_test)\n",
    "    \n",
    "#     pred_df = pd.DataFrame(y_pred)\n",
    "#     pred_df.columns = [\"sentiment\"]\n",
    "#     pred_df.index.name = \"id\"\n",
    "#     pred_df.to_csv(\"submission.csv\")\n",
    "    \n",
    "#     return \"Successfully created the submission file!!!\""
   ]
  },
  {
   "cell_type": "code",
   "execution_count": 26,
   "id": "94aaf2e0",
   "metadata": {
    "execution": {
     "iopub.execute_input": "2023-08-12T09:11:30.390090Z",
     "iopub.status.busy": "2023-08-12T09:11:30.388904Z",
     "iopub.status.idle": "2023-08-12T09:11:30.393910Z",
     "shell.execute_reply": "2023-08-12T09:11:30.393104Z"
    },
    "papermill": {
     "duration": 0.104282,
     "end_time": "2023-08-12T09:11:30.396081",
     "exception": false,
     "start_time": "2023-08-12T09:11:30.291799",
     "status": "completed"
    },
    "tags": []
   },
   "outputs": [],
   "source": [
    "# submit(logreg_cv1, tvec_cv1)"
   ]
  },
  {
   "cell_type": "markdown",
   "id": "15f26024",
   "metadata": {
    "papermill": {
     "duration": 0.09443,
     "end_time": "2023-08-12T09:11:30.585030",
     "exception": false,
     "start_time": "2023-08-12T09:11:30.490600",
     "status": "completed"
    },
    "tags": []
   },
   "source": [
    "# PART II  "
   ]
  },
  {
   "cell_type": "markdown",
   "id": "9236e636",
   "metadata": {
    "papermill": {
     "duration": 0.095724,
     "end_time": "2023-08-12T09:11:30.776092",
     "exception": false,
     "start_time": "2023-08-12T09:11:30.680368",
     "status": "completed"
    },
    "tags": []
   },
   "source": [
    "## Merge \"movies.csv\" with \"train.csv\" and \"test.csv\"  "
   ]
  },
  {
   "cell_type": "markdown",
   "id": "828f08a2",
   "metadata": {
    "papermill": {
     "duration": 0.094368,
     "end_time": "2023-08-12T09:11:30.964686",
     "exception": false,
     "start_time": "2023-08-12T09:11:30.870318",
     "status": "completed"
    },
    "tags": []
   },
   "source": [
    "### Helper functions  "
   ]
  },
  {
   "cell_type": "code",
   "execution_count": 27,
   "id": "97c0d343",
   "metadata": {
    "execution": {
     "iopub.execute_input": "2023-08-12T09:11:31.155744Z",
     "iopub.status.busy": "2023-08-12T09:11:31.155006Z",
     "iopub.status.idle": "2023-08-12T09:11:31.160287Z",
     "shell.execute_reply": "2023-08-12T09:11:31.159435Z"
    },
    "papermill": {
     "duration": 0.103661,
     "end_time": "2023-08-12T09:11:31.162650",
     "exception": false,
     "start_time": "2023-08-12T09:11:31.058989",
     "status": "completed"
    },
    "tags": []
   },
   "outputs": [],
   "source": [
    "# Helper function for loading files  \n",
    "\n",
    "def load_csv(filename: str):\n",
    "    if platform == \"vscode\":\n",
    "        df = pd.read_csv(f\"data/{filename}.csv\")\n",
    "    else:\n",
    "        df = pd.read_csv(f\"/kaggle/input/sentiment-prediction-on-movie-reviews/{filename}.csv\")\n",
    "        \n",
    "    return df"
   ]
  },
  {
   "cell_type": "code",
   "execution_count": 28,
   "id": "f1baf9c7",
   "metadata": {
    "execution": {
     "iopub.execute_input": "2023-08-12T09:11:31.354107Z",
     "iopub.status.busy": "2023-08-12T09:11:31.353369Z",
     "iopub.status.idle": "2023-08-12T09:11:31.359098Z",
     "shell.execute_reply": "2023-08-12T09:11:31.358224Z"
    },
    "papermill": {
     "duration": 0.104809,
     "end_time": "2023-08-12T09:11:31.361767",
     "exception": false,
     "start_time": "2023-08-12T09:11:31.256958",
     "status": "completed"
    },
    "tags": []
   },
   "outputs": [],
   "source": [
    "def inspect(df: pd.DataFrame):\n",
    "    print(f\"Shape of the dataframe: {df.shape}\")\n",
    "    print()\n",
    "    print(f\"Columns in the dataframe:\\n{df.columns}\")\n",
    "    print()\n",
    "    print(f\"{df.info()}\")\n",
    "    print()\n",
    "    # print(f\"Summary: {df.describe()}\")\n",
    "    print(f\"Missing values:\\n{df.isna().sum()}\")\n",
    "    return"
   ]
  },
  {
   "cell_type": "code",
   "execution_count": 29,
   "id": "86c6f597",
   "metadata": {
    "execution": {
     "iopub.execute_input": "2023-08-12T09:11:31.557420Z",
     "iopub.status.busy": "2023-08-12T09:11:31.556688Z",
     "iopub.status.idle": "2023-08-12T09:11:31.562684Z",
     "shell.execute_reply": "2023-08-12T09:11:31.561456Z"
    },
    "papermill": {
     "duration": 0.106133,
     "end_time": "2023-08-12T09:11:31.565010",
     "exception": false,
     "start_time": "2023-08-12T09:11:31.458877",
     "status": "completed"
    },
    "tags": []
   },
   "outputs": [],
   "source": [
    "def name_fl(name):\n",
    "    l = name.split()\n",
    "    n = ' '.join((l[0], l[-1]))\n",
    "    return n"
   ]
  },
  {
   "cell_type": "code",
   "execution_count": 30,
   "id": "f50acf31",
   "metadata": {
    "execution": {
     "iopub.execute_input": "2023-08-12T09:11:31.760679Z",
     "iopub.status.busy": "2023-08-12T09:11:31.759906Z",
     "iopub.status.idle": "2023-08-12T09:11:31.787828Z",
     "shell.execute_reply": "2023-08-12T09:11:31.786761Z"
    },
    "papermill": {
     "duration": 0.128634,
     "end_time": "2023-08-12T09:11:31.790644",
     "exception": false,
     "start_time": "2023-08-12T09:11:31.662010",
     "status": "completed"
    },
    "tags": []
   },
   "outputs": [],
   "source": [
    "def select_features(df: pd.DataFrame, moviesdf: pd.DataFrame, row_thresh_null=None):\n",
    "    '''\n",
    "    This function merges the given dataframes. Note that the first df must be \"train\" or \"test\" and\n",
    "    the second df should be \"movies\".\n",
    "    Note: Sentiment column is present only in \"train.csv\" file and not \"test.csv\" file.\n",
    "    '''\n",
    "    \n",
    "    # Drop duplicates from moviesdf\n",
    "#     movies_unique = moviesdf.drop_duplicates(subset=[\"movieid\"])\n",
    "\n",
    "    # Drop duplicates using groupby - clubs similar rows and fills in missing values better\n",
    "    movies_unique = moviesdf.fillna(value=np.nan).groupby(\"movieid\").first().reset_index()\n",
    "    \n",
    "\n",
    "    # Handle missing values in movies.csv better than just dropping duplicates?\n",
    "#     movies_unique = moviesdf.copy()\n",
    "#     movies_unique[[\"audienceScore\", \"runtimeMinutes\"]] = movies_unique[[\"audienceScore\", \"runtimeMinutes\"]].interpolate(method='linear', axis=0)\n",
    "#     movies_unique = movies_unique.fillna(value=np.nan).groupby(\"movieid\").first().fillna(method='ffill').reset_index()\n",
    "\n",
    "    \n",
    "\n",
    "    # Merge df and movies_unique\n",
    "    df_merged = pd.merge(df, movies_unique, on=\"movieid\", how='left')\n",
    "    \n",
    "    # Rename \"isTopCritic\" column, if it exists, to \"isFrequentReviewer\"\n",
    "    df_merged.rename(columns={\"isTopCritic\": \"isFrequentReviewer\"}, inplace=True)\n",
    "    \n",
    "    # Drop columns\n",
    "#     df_merged = df_merged.drop(columns=[\"title\", \"ratingContents\", \"releaseDateTheaters\", \"releaseDateStreaming\", \"distributor\", \"soundType\"])\n",
    "#     df_merged = df_merged.drop(columns=[\"title\", \"soundType\"])\n",
    "    \n",
    "    # Drop rows (OPTIONAL: Uses kwarg row_thresh_null)\n",
    "    if row_thresh_null != None:\n",
    "        df_merged.dropna(axis=0, thresh=(df_merged.shape[1] - row_thresh_null), inplace=True)\n",
    "        \n",
    "\n",
    "    # Create new columns based on reviewText\n",
    "    final = df_merged.copy()\n",
    "    final[\"reviewYN\"] = np.where(final[\"reviewText\"].isnull(), 1, 0)    # Feature engineering - adding a new column\n",
    "    final[\"reviewWC\"] = final.apply(lambda x: len(str(x[\"reviewText\"]).split()), axis=1)    # Feature engineering - adding second new column\n",
    "    \n",
    "    # Clean text (replace numbers with empty string) and fill missing values in \"reviewText\" with empty string\n",
    "    final[\"reviewText\"] = final[\"reviewText\"].str.replace('\\d+', '', regex=True)\n",
    "    final[\"reviewText\"] = final[\"reviewText\"].fillna(\"neutral\")\n",
    "    \n",
    "    # Fill missing values in \"rating\", \"genre\", original columns with the word \"unknown\"\n",
    "    final[\"rating\"] = final[\"rating\"].fillna(\"unknown\")\n",
    "    final[\"originalLanguage\"] = final[\"originalLanguage\"].fillna(\"unknown\")\n",
    "    final[\"genre\"] = final[\"genre\"].fillna(\"unknown\")\n",
    "    final[\"genre\"] = final[\"genre\"].apply(lambda x: re.sub(r\"-\", \"\", x))\n",
    "    final[\"genreSorted\"] = final[\"genre\"].apply(lambda x: (\",\").join(sorted(x.split(\", \"))))\n",
    "#     final[\"genre\"] = final[\"genre\"].replace(to_replace={\"&\": \"\"})\n",
    "\n",
    "    # Impute missing values for \"audienceScore\" and \"runtimeMinutes\" columns\n",
    "#     final[\"audienceScore\"] = final[\"audienceScore\"].fillna(final[\"audienceScore\"].mean())        # MOVED\n",
    "#     final[\"runtimeMinutes\"] = final[\"runtimeMinutes\"].fillna(final[\"runtimeMinutes\"].median())   # MOVED\n",
    "    \n",
    "    # Preprocess and impute missing values in \"boxOffice\" column\n",
    "    final[\"boxOffice\"] = final[\"boxOffice\"].str[1:]\n",
    "    final[\"boxOffice\"] = final[\"boxOffice\"].replace(to_replace={\"M\": \"*1000000\", \"K\": \"*1000\"}, regex=True)\n",
    "    final[\"boxOffice\"] = final[\"boxOffice\"].loc[final[\"boxOffice\"].notnull()].apply(lambda x: eval(str(x)))\n",
    "#     final[\"boxOffice\"] = final[\"boxOffice\"].fillna(final[\"boxOffice\"].median())                  # MOVED\n",
    "    # (Optional) Replace outliers in boxOffice with median\n",
    "#     median = final[\"boxOffice\"].describe()['50%']\n",
    "#     iqr = final[\"boxOffice\"].describe()['75%'] - final[\"boxOffice\"].describe()['25%']\n",
    "#     ll = median - (1.5*iqr)\n",
    "#     ul = median + (1.5*iqr)\n",
    "#     final.loc[final[\"boxOffice\"] > ul, \"boxOffice\"] = median\n",
    "    \n",
    "    # Clean language names\n",
    "    final[\"originalLanguage\"].replace({\"English (United Kingdom)\": \"English\", \n",
    "                                            \"English (Australia)\" : \"English\",\n",
    "                                            \"French (France)\": \"French\", \n",
    "                                            \"French (Canada)\": \"French\",\n",
    "                                            \"Portuguese (Brazil)\": \"Portuguese\",\n",
    "                                            \"Spanish (Spain)\": \"Spanish\"},                                         \n",
    "                                            inplace=True)\n",
    "    \n",
    "    # Clean reviewerName column\n",
    "    pre_post_fixes = {\"Mr. \": \"\", \"Mrs. \": \"\", \"Ms. \": \"\", \"Dr. \": \"\", \n",
    "                      \" MD\": \"\", \" DDS\": \"\", \" DVM\": \"\", \" Jr.\": \"\", \" PhD\": \"\", \" II\": \"\", \" IV\": \"\"}\n",
    "    final[\"reviewerName\"] = final[\"reviewerName\"].replace(pre_post_fixes, regex=True)\n",
    "    final[\"reviewerName\"] = final[\"reviewerName\"].apply(name_fl)\n",
    "    \n",
    "    # Handle 'ratingContents' column\n",
    "    final[\"ratingContents\"] = final[\"ratingContents\"].fillna(\"neutral\")\n",
    "    final[\"rcSorted\"] = final[\"ratingContents\"].apply(lambda x: (\",\").join(sorted(x.strip(\"][\").split(\", \"))))\n",
    "    final[\"rcSorted\"] = final[\"rcSorted\"].apply(lambda x: re.sub(r\"'\", \"\", x))\n",
    "    final[\"rcSorted\"] = final[\"rcSorted\"].apply(lambda x: re.sub(r\"[/\\s]\", \"_\", x))  \n",
    "    \n",
    "    # Handle 'ratingContents' column\n",
    "    final[\"distributor\"] = final[\"distributor\"].fillna(\"unknown\")\n",
    "    \n",
    "    # Work with 'releaseDateTheaters', releaseDateStreaming column\n",
    "    final[[\"releaseDateTheaters\", \"releaseDateStreaming\"]] = final[[\"releaseDateTheaters\", \"releaseDateStreaming\"]].astype('datetime64[ns]')\n",
    "\n",
    "    final[\"releaseDate\"] = final[[\"releaseDateTheaters\", \"releaseDateStreaming\"]].min(axis=1, skipna=False)\n",
    "#     final[\"releaseDate\"] = final[\"releaseDate\"].fillna(final[\"releaseDate\"].median())               # MOVED\n",
    "\n",
    "    final[\"releaseYear\"] = final[\"releaseDate\"].dt.year\n",
    "    final[\"releaseMonth\"] = final[\"releaseDate\"].dt.month\n",
    "    \n",
    "    # Compute \"releaseDiff\" column and fill missing values in \"releaseDiff\" and (optional) replace outliers\n",
    "    final[\"releaseDiff\"] = (final[\"releaseDateStreaming\"] - final[\"releaseDateTheaters\"]) / np.timedelta64(1, 'D')\n",
    "    final[\"releaseDiff\"] = final[\"releaseDiff\"].apply(lambda x: abs(x))\n",
    "    final[\"releaseDiff\"] = final[\"releaseDiff\"].fillna(value=0)\n",
    "#     final[\"releaseDiff\"] = final[\"releaseDiff\"].fillna(final[\"releaseDiff\"].median())\n",
    "    # median = final[\"releaseDiff\"].describe()['50%']\n",
    "    # iqr = final[\"releaseDiff\"].describe()['75%'] - final[\"releaseDiff\"].describe()['25%']\n",
    "    # ll = median - (1.5*iqr)\n",
    "    # ul = median + (1.5*iqr)\n",
    "    # final.loc[final[\"releaseDiff\"] > ul, \"releaseDiff\"] = median\n",
    "    # final.loc[final[\"releaseDiff\"] < ll, \"releaseDiff\"] = median\n",
    "    \n",
    "#     # Create new feature columns\n",
    "    \n",
    "#     # Convert audienceScore to categories  \n",
    "#     num_bins_as = 20\n",
    "#     final[\"audScoreBins\"] = pd.cut(final['audienceScore'], bins=num_bins_as, labels=False)\n",
    "    \n",
    "#     # Convert runtimeMinutes to categories  \n",
    "# #     num_bins_rt = 20\n",
    "#     final[\"runtimeBins\"] = pd.cut(final['runtimeMinutes'], bins=[0,75,120,180,565], labels=[4,3,2,1])\n",
    "    \n",
    "#     # Convert boxOffice to categories  \n",
    "#     num_bins_bo = 5\n",
    "#     final[\"boxOfficeBins\"] = pd.cut(final['boxOffice'], bins=num_bins_bo, labels=False)\n",
    "    \n",
    "#     # Convert releaseDiff to categories  \n",
    "#     num_bins_rd = 5\n",
    "#     final[\"releaseDiffBins\"] = pd.cut(final['releaseDiff'], bins=[-1, 180, 360, 1000, 40000], labels=[0, 1, 2, 3])\n",
    "\n",
    "    return final"
   ]
  },
  {
   "cell_type": "code",
   "execution_count": 31,
   "id": "7d1c7ca5",
   "metadata": {
    "execution": {
     "iopub.execute_input": "2023-08-12T09:11:31.980814Z",
     "iopub.status.busy": "2023-08-12T09:11:31.980382Z",
     "iopub.status.idle": "2023-08-12T09:11:31.987960Z",
     "shell.execute_reply": "2023-08-12T09:11:31.986880Z"
    },
    "papermill": {
     "duration": 0.105569,
     "end_time": "2023-08-12T09:11:31.990146",
     "exception": false,
     "start_time": "2023-08-12T09:11:31.884577",
     "status": "completed"
    },
    "tags": []
   },
   "outputs": [],
   "source": [
    "def split_train_predict(features, labels, pipeline, test_size=0.25, random_state=42):\n",
    "    # cols = features.columns\n",
    "    if len(features.shape) == 1:\n",
    "        features = features.to_numpy().reshape(-1, 1)  # reshape to 2D array\n",
    "    features = pd.DataFrame(features)\n",
    "    X_train, X_test, y_train, y_test = train_test_split(features, labels, test_size=test_size, random_state=random_state)\n",
    "    pipeline.fit(X_train, y_train)\n",
    "    y_pred = pipeline.predict(X_test)\n",
    "    print(classification_report(y_test, y_pred))\n",
    "    print(confusion_matrix(y_test, y_pred))\n",
    "    return pipeline"
   ]
  },
  {
   "cell_type": "markdown",
   "id": "0a694e0e",
   "metadata": {
    "papermill": {
     "duration": 0.09389,
     "end_time": "2023-08-12T09:11:32.177684",
     "exception": false,
     "start_time": "2023-08-12T09:11:32.083794",
     "status": "completed"
    },
    "tags": []
   },
   "source": [
    "### Merge \"train.csv\" file with \"movies.csv\" file  "
   ]
  },
  {
   "cell_type": "code",
   "execution_count": 32,
   "id": "d24c13e7",
   "metadata": {
    "execution": {
     "iopub.execute_input": "2023-08-12T09:11:32.369414Z",
     "iopub.status.busy": "2023-08-12T09:11:32.368962Z",
     "iopub.status.idle": "2023-08-12T09:11:46.926199Z",
     "shell.execute_reply": "2023-08-12T09:11:46.924881Z"
    },
    "papermill": {
     "duration": 14.657593,
     "end_time": "2023-08-12T09:11:46.929018",
     "exception": false,
     "start_time": "2023-08-12T09:11:32.271425",
     "status": "completed"
    },
    "tags": []
   },
   "outputs": [],
   "source": [
    "merged = select_features(load_csv(\"train\"), load_csv(\"movies\"), row_thresh_null=None)"
   ]
  },
  {
   "cell_type": "code",
   "execution_count": 33,
   "id": "ab6150cb",
   "metadata": {
    "execution": {
     "iopub.execute_input": "2023-08-12T09:11:47.119630Z",
     "iopub.status.busy": "2023-08-12T09:11:47.118771Z",
     "iopub.status.idle": "2023-08-12T09:11:47.123843Z",
     "shell.execute_reply": "2023-08-12T09:11:47.123014Z"
    },
    "papermill": {
     "duration": 0.103218,
     "end_time": "2023-08-12T09:11:47.126131",
     "exception": false,
     "start_time": "2023-08-12T09:11:47.022913",
     "status": "completed"
    },
    "tags": []
   },
   "outputs": [],
   "source": [
    "# inspect(merged)    # Note missing values in ['audienceScore', 'runtimeMinutes', 'boxOffice'] columns  "
   ]
  },
  {
   "cell_type": "code",
   "execution_count": 34,
   "id": "8fc88879",
   "metadata": {
    "execution": {
     "iopub.execute_input": "2023-08-12T09:11:47.323218Z",
     "iopub.status.busy": "2023-08-12T09:11:47.321932Z",
     "iopub.status.idle": "2023-08-12T09:11:47.429973Z",
     "shell.execute_reply": "2023-08-12T09:11:47.428456Z"
    },
    "papermill": {
     "duration": 0.209851,
     "end_time": "2023-08-12T09:11:47.433015",
     "exception": false,
     "start_time": "2023-08-12T09:11:47.223164",
     "status": "completed"
    },
    "tags": []
   },
   "outputs": [
    {
     "data": {
      "text/plain": [
       "array([6.80e+01, 1.04e+02, 1.43e+07])"
      ]
     },
     "execution_count": 34,
     "metadata": {},
     "output_type": "execute_result"
    }
   ],
   "source": [
    "# Simple Imputer for ['audienceScore', 'runtimeMinutes', 'boxOffice'] columns\n",
    "si = SimpleImputer(strategy='median')\n",
    "merged[['audienceScore', 'runtimeMinutes', 'boxOffice']] = si.fit_transform(merged[['audienceScore', 'runtimeMinutes', 'boxOffice']])\n",
    "si.statistics_"
   ]
  },
  {
   "cell_type": "code",
   "execution_count": 35,
   "id": "10fcb271",
   "metadata": {
    "execution": {
     "iopub.execute_input": "2023-08-12T09:11:47.625005Z",
     "iopub.status.busy": "2023-08-12T09:11:47.624149Z",
     "iopub.status.idle": "2023-08-12T09:11:47.639407Z",
     "shell.execute_reply": "2023-08-12T09:11:47.638346Z"
    },
    "papermill": {
     "duration": 0.113232,
     "end_time": "2023-08-12T09:11:47.642023",
     "exception": false,
     "start_time": "2023-08-12T09:11:47.528791",
     "status": "completed"
    },
    "tags": []
   },
   "outputs": [],
   "source": [
    "# Fill 'releaseDate' column with median  \n",
    "merged['releaseDate'] = merged[\"releaseDate\"].fillna(merged[\"releaseDate\"].median())"
   ]
  },
  {
   "cell_type": "code",
   "execution_count": 36,
   "id": "d15651f5",
   "metadata": {
    "execution": {
     "iopub.execute_input": "2023-08-12T09:11:47.834871Z",
     "iopub.status.busy": "2023-08-12T09:11:47.833718Z",
     "iopub.status.idle": "2023-08-12T09:11:49.293589Z",
     "shell.execute_reply": "2023-08-12T09:11:49.292718Z"
    },
    "papermill": {
     "duration": 1.559557,
     "end_time": "2023-08-12T09:11:49.295924",
     "exception": false,
     "start_time": "2023-08-12T09:11:47.736367",
     "status": "completed"
    },
    "tags": []
   },
   "outputs": [
    {
     "name": "stdout",
     "output_type": "stream",
     "text": [
      "Shape of the dataframe: (162758, 26)\n",
      "\n",
      "Columns in the dataframe:\n",
      "Index(['movieid', 'reviewerName', 'isFrequentReviewer', 'reviewText',\n",
      "       'sentiment', 'title', 'audienceScore', 'rating', 'ratingContents',\n",
      "       'releaseDateTheaters', 'releaseDateStreaming', 'runtimeMinutes',\n",
      "       'genre', 'originalLanguage', 'director', 'boxOffice', 'distributor',\n",
      "       'soundType', 'reviewYN', 'reviewWC', 'genreSorted', 'rcSorted',\n",
      "       'releaseDate', 'releaseYear', 'releaseMonth', 'releaseDiff'],\n",
      "      dtype='object')\n",
      "\n",
      "<class 'pandas.core.frame.DataFrame'>\n",
      "Int64Index: 162758 entries, 0 to 162757\n",
      "Data columns (total 26 columns):\n",
      " #   Column                Non-Null Count   Dtype         \n",
      "---  ------                --------------   -----         \n",
      " 0   movieid               162758 non-null  object        \n",
      " 1   reviewerName          162758 non-null  object        \n",
      " 2   isFrequentReviewer    162758 non-null  bool          \n",
      " 3   reviewText            162758 non-null  object        \n",
      " 4   sentiment             162758 non-null  object        \n",
      " 5   title                 162758 non-null  object        \n",
      " 6   audienceScore         162758 non-null  float64       \n",
      " 7   rating                162758 non-null  object        \n",
      " 8   ratingContents        162758 non-null  object        \n",
      " 9   releaseDateTheaters   146403 non-null  datetime64[ns]\n",
      " 10  releaseDateStreaming  157353 non-null  datetime64[ns]\n",
      " 11  runtimeMinutes        162758 non-null  float64       \n",
      " 12  genre                 162758 non-null  object        \n",
      " 13  originalLanguage      162758 non-null  object        \n",
      " 14  director              162758 non-null  object        \n",
      " 15  boxOffice             162758 non-null  float64       \n",
      " 16  distributor           162758 non-null  object        \n",
      " 17  soundType             93466 non-null   object        \n",
      " 18  reviewYN              162758 non-null  int64         \n",
      " 19  reviewWC              162758 non-null  int64         \n",
      " 20  genreSorted           162758 non-null  object        \n",
      " 21  rcSorted              162758 non-null  object        \n",
      " 22  releaseDate           162758 non-null  datetime64[ns]\n",
      " 23  releaseYear           143073 non-null  float64       \n",
      " 24  releaseMonth          143073 non-null  float64       \n",
      " 25  releaseDiff           162758 non-null  float64       \n",
      "dtypes: bool(1), datetime64[ns](3), float64(6), int64(2), object(14)\n",
      "memory usage: 32.4+ MB\n",
      "None\n",
      "\n",
      "Missing values:\n",
      "movieid                     0\n",
      "reviewerName                0\n",
      "isFrequentReviewer          0\n",
      "reviewText                  0\n",
      "sentiment                   0\n",
      "title                       0\n",
      "audienceScore               0\n",
      "rating                      0\n",
      "ratingContents              0\n",
      "releaseDateTheaters     16355\n",
      "releaseDateStreaming     5405\n",
      "runtimeMinutes              0\n",
      "genre                       0\n",
      "originalLanguage            0\n",
      "director                    0\n",
      "boxOffice                   0\n",
      "distributor                 0\n",
      "soundType               69292\n",
      "reviewYN                    0\n",
      "reviewWC                    0\n",
      "genreSorted                 0\n",
      "rcSorted                    0\n",
      "releaseDate                 0\n",
      "releaseYear             19685\n",
      "releaseMonth            19685\n",
      "releaseDiff                 0\n",
      "dtype: int64\n"
     ]
    }
   ],
   "source": [
    "# Check out 'merged' df after imputation  \n",
    "inspect(merged)"
   ]
  },
  {
   "cell_type": "code",
   "execution_count": 37,
   "id": "c2028f9a",
   "metadata": {
    "execution": {
     "iopub.execute_input": "2023-08-12T09:11:49.492253Z",
     "iopub.status.busy": "2023-08-12T09:11:49.491503Z",
     "iopub.status.idle": "2023-08-12T09:11:49.551976Z",
     "shell.execute_reply": "2023-08-12T09:11:49.550807Z"
    },
    "papermill": {
     "duration": 0.164748,
     "end_time": "2023-08-12T09:11:49.555383",
     "exception": false,
     "start_time": "2023-08-12T09:11:49.390635",
     "status": "completed"
    },
    "tags": []
   },
   "outputs": [
    {
     "data": {
      "text/html": [
       "<div>\n",
       "<style scoped>\n",
       "    .dataframe tbody tr th:only-of-type {\n",
       "        vertical-align: middle;\n",
       "    }\n",
       "\n",
       "    .dataframe tbody tr th {\n",
       "        vertical-align: top;\n",
       "    }\n",
       "\n",
       "    .dataframe thead th {\n",
       "        text-align: right;\n",
       "    }\n",
       "</style>\n",
       "<table border=\"1\" class=\"dataframe\">\n",
       "  <thead>\n",
       "    <tr style=\"text-align: right;\">\n",
       "      <th></th>\n",
       "      <th>audienceScore</th>\n",
       "      <th>runtimeMinutes</th>\n",
       "      <th>boxOffice</th>\n",
       "    </tr>\n",
       "  </thead>\n",
       "  <tbody>\n",
       "    <tr>\n",
       "      <th>count</th>\n",
       "      <td>162758.000000</td>\n",
       "      <td>162758.000000</td>\n",
       "      <td>1.627580e+05</td>\n",
       "    </tr>\n",
       "    <tr>\n",
       "      <th>mean</th>\n",
       "      <td>65.062565</td>\n",
       "      <td>106.992019</td>\n",
       "      <td>4.160983e+07</td>\n",
       "    </tr>\n",
       "    <tr>\n",
       "      <th>std</th>\n",
       "      <td>19.844000</td>\n",
       "      <td>22.203778</td>\n",
       "      <td>7.932291e+07</td>\n",
       "    </tr>\n",
       "    <tr>\n",
       "      <th>min</th>\n",
       "      <td>0.000000</td>\n",
       "      <td>4.000000</td>\n",
       "      <td>0.000000e+00</td>\n",
       "    </tr>\n",
       "    <tr>\n",
       "      <th>25%</th>\n",
       "      <td>51.000000</td>\n",
       "      <td>93.000000</td>\n",
       "      <td>2.000000e+06</td>\n",
       "    </tr>\n",
       "    <tr>\n",
       "      <th>50%</th>\n",
       "      <td>68.000000</td>\n",
       "      <td>104.000000</td>\n",
       "      <td>1.430000e+07</td>\n",
       "    </tr>\n",
       "    <tr>\n",
       "      <th>75%</th>\n",
       "      <td>81.000000</td>\n",
       "      <td>118.000000</td>\n",
       "      <td>4.200000e+07</td>\n",
       "    </tr>\n",
       "    <tr>\n",
       "      <th>max</th>\n",
       "      <td>100.000000</td>\n",
       "      <td>561.000000</td>\n",
       "      <td>8.584000e+08</td>\n",
       "    </tr>\n",
       "  </tbody>\n",
       "</table>\n",
       "</div>"
      ],
      "text/plain": [
       "       audienceScore  runtimeMinutes     boxOffice\n",
       "count  162758.000000   162758.000000  1.627580e+05\n",
       "mean       65.062565      106.992019  4.160983e+07\n",
       "std        19.844000       22.203778  7.932291e+07\n",
       "min         0.000000        4.000000  0.000000e+00\n",
       "25%        51.000000       93.000000  2.000000e+06\n",
       "50%        68.000000      104.000000  1.430000e+07\n",
       "75%        81.000000      118.000000  4.200000e+07\n",
       "max       100.000000      561.000000  8.584000e+08"
      ]
     },
     "execution_count": 37,
     "metadata": {},
     "output_type": "execute_result"
    }
   ],
   "source": [
    "merged[['audienceScore', 'runtimeMinutes', 'boxOffice']].describe()"
   ]
  },
  {
   "cell_type": "markdown",
   "id": "a475cfbd",
   "metadata": {
    "papermill": {
     "duration": 0.095075,
     "end_time": "2023-08-12T09:11:49.746766",
     "exception": false,
     "start_time": "2023-08-12T09:11:49.651691",
     "status": "completed"
    },
    "tags": []
   },
   "source": [
    "### EDA releaseDiff  "
   ]
  },
  {
   "cell_type": "code",
   "execution_count": 38,
   "id": "2722b6e5",
   "metadata": {
    "execution": {
     "iopub.execute_input": "2023-08-12T09:11:49.938993Z",
     "iopub.status.busy": "2023-08-12T09:11:49.938581Z",
     "iopub.status.idle": "2023-08-12T09:11:49.956920Z",
     "shell.execute_reply": "2023-08-12T09:11:49.955913Z"
    },
    "papermill": {
     "duration": 0.11708,
     "end_time": "2023-08-12T09:11:49.959340",
     "exception": false,
     "start_time": "2023-08-12T09:11:49.842260",
     "status": "completed"
    },
    "tags": []
   },
   "outputs": [
    {
     "data": {
      "text/plain": [
       "count    162758.000000\n",
       "mean       1653.469015\n",
       "std        4581.420922\n",
       "min           0.000000\n",
       "25%          65.000000\n",
       "50%         116.000000\n",
       "75%         375.000000\n",
       "max       38922.000000\n",
       "Name: releaseDiff, dtype: float64"
      ]
     },
     "execution_count": 38,
     "metadata": {},
     "output_type": "execute_result"
    }
   ],
   "source": [
    "# abs values\n",
    "merged[\"releaseDiff\"].describe()"
   ]
  },
  {
   "cell_type": "code",
   "execution_count": 39,
   "id": "1bcda7fc",
   "metadata": {
    "execution": {
     "iopub.execute_input": "2023-08-12T09:11:50.153942Z",
     "iopub.status.busy": "2023-08-12T09:11:50.153113Z",
     "iopub.status.idle": "2023-08-12T09:11:50.158197Z",
     "shell.execute_reply": "2023-08-12T09:11:50.156887Z"
    },
    "papermill": {
     "duration": 0.103642,
     "end_time": "2023-08-12T09:11:50.160668",
     "exception": false,
     "start_time": "2023-08-12T09:11:50.057026",
     "status": "completed"
    },
    "tags": []
   },
   "outputs": [],
   "source": [
    "# merged['releaseDiffBins'].value_counts()"
   ]
  },
  {
   "cell_type": "code",
   "execution_count": 40,
   "id": "16b10950",
   "metadata": {
    "execution": {
     "iopub.execute_input": "2023-08-12T09:11:50.354610Z",
     "iopub.status.busy": "2023-08-12T09:11:50.353488Z",
     "iopub.status.idle": "2023-08-12T09:11:50.737106Z",
     "shell.execute_reply": "2023-08-12T09:11:50.735921Z"
    },
    "papermill": {
     "duration": 0.482985,
     "end_time": "2023-08-12T09:11:50.739909",
     "exception": false,
     "start_time": "2023-08-12T09:11:50.256924",
     "status": "completed"
    },
    "tags": []
   },
   "outputs": [
    {
     "data": {
      "text/plain": [
       "<Axes: xlabel='sentiment', ylabel='releaseDiff'>"
      ]
     },
     "execution_count": 40,
     "metadata": {},
     "output_type": "execute_result"
    },
    {
     "data": {
      "image/png": "[encoded data removed]",
      "text/plain": [
       "<Figure size 640x480 with 1 Axes>"
      ]
     },
     "metadata": {},
     "output_type": "display_data"
    }
   ],
   "source": [
    "sns.boxplot(x=merged['sentiment'], y=merged['releaseDiff'], showfliers=False)"
   ]
  },
  {
   "cell_type": "code",
   "execution_count": 41,
   "id": "1d52a154",
   "metadata": {
    "execution": {
     "iopub.execute_input": "2023-08-12T09:11:50.933161Z",
     "iopub.status.busy": "2023-08-12T09:11:50.932714Z",
     "iopub.status.idle": "2023-08-12T09:11:50.937173Z",
     "shell.execute_reply": "2023-08-12T09:11:50.936159Z"
    },
    "papermill": {
     "duration": 0.10396,
     "end_time": "2023-08-12T09:11:50.939261",
     "exception": false,
     "start_time": "2023-08-12T09:11:50.835301",
     "status": "completed"
    },
    "tags": []
   },
   "outputs": [],
   "source": [
    "# sns.displot(merged['releaseDiffBins'])"
   ]
  },
  {
   "cell_type": "code",
   "execution_count": 42,
   "id": "573df9a9",
   "metadata": {
    "execution": {
     "iopub.execute_input": "2023-08-12T09:11:51.132714Z",
     "iopub.status.busy": "2023-08-12T09:11:51.131640Z",
     "iopub.status.idle": "2023-08-12T09:11:51.136383Z",
     "shell.execute_reply": "2023-08-12T09:11:51.135427Z"
    },
    "papermill": {
     "duration": 0.103892,
     "end_time": "2023-08-12T09:11:51.138685",
     "exception": false,
     "start_time": "2023-08-12T09:11:51.034793",
     "status": "completed"
    },
    "tags": []
   },
   "outputs": [],
   "source": [
    "# merged['sentiment'].loc[merged['releaseDiffBins'] > 0].value_counts()"
   ]
  },
  {
   "cell_type": "code",
   "execution_count": 43,
   "id": "86005141",
   "metadata": {
    "execution": {
     "iopub.execute_input": "2023-08-12T09:11:51.331720Z",
     "iopub.status.busy": "2023-08-12T09:11:51.330853Z",
     "iopub.status.idle": "2023-08-12T09:11:51.336165Z",
     "shell.execute_reply": "2023-08-12T09:11:51.335113Z"
    },
    "papermill": {
     "duration": 0.104293,
     "end_time": "2023-08-12T09:11:51.338598",
     "exception": false,
     "start_time": "2023-08-12T09:11:51.234305",
     "status": "completed"
    },
    "tags": []
   },
   "outputs": [],
   "source": [
    "# merged['releaseDiffBins'].describe()"
   ]
  },
  {
   "cell_type": "markdown",
   "id": "8d119829",
   "metadata": {
    "papermill": {
     "duration": 0.095427,
     "end_time": "2023-08-12T09:11:51.534401",
     "exception": false,
     "start_time": "2023-08-12T09:11:51.438974",
     "status": "completed"
    },
    "tags": []
   },
   "source": [
    "### EDA 'distributor'  "
   ]
  },
  {
   "cell_type": "code",
   "execution_count": 44,
   "id": "c0b62806",
   "metadata": {
    "execution": {
     "iopub.execute_input": "2023-08-12T09:11:51.800619Z",
     "iopub.status.busy": "2023-08-12T09:11:51.799547Z",
     "iopub.status.idle": "2023-08-12T09:11:51.836803Z",
     "shell.execute_reply": "2023-08-12T09:11:51.835630Z"
    },
    "papermill": {
     "duration": 0.137493,
     "end_time": "2023-08-12T09:11:51.839633",
     "exception": false,
     "start_time": "2023-08-12T09:11:51.702140",
     "status": "completed"
    },
    "tags": []
   },
   "outputs": [
    {
     "data": {
      "text/plain": [
       "unknown                              20489\n",
       "Universal Pictures                    8847\n",
       "Warner Bros. Pictures                 8722\n",
       "Paramount Pictures                    7773\n",
       "20th Century Fox                      7007\n",
       "                                     ...  \n",
       "Almi Pictures                            1\n",
       "Koch Lorber                              1\n",
       "Magic Lamp                               1\n",
       "Fine Line Features, Miramax Films        1\n",
       "American Film Co.                        1\n",
       "Name: distributor, Length: 1796, dtype: int64"
      ]
     },
     "execution_count": 44,
     "metadata": {},
     "output_type": "execute_result"
    }
   ],
   "source": [
    "merged[\"distributor\"].value_counts()"
   ]
  },
  {
   "cell_type": "code",
   "execution_count": 45,
   "id": "0b688d6e",
   "metadata": {
    "execution": {
     "iopub.execute_input": "2023-08-12T09:11:52.034852Z",
     "iopub.status.busy": "2023-08-12T09:11:52.033963Z",
     "iopub.status.idle": "2023-08-12T09:11:52.054080Z",
     "shell.execute_reply": "2023-08-12T09:11:52.052850Z"
    },
    "papermill": {
     "duration": 0.12045,
     "end_time": "2023-08-12T09:11:52.056508",
     "exception": false,
     "start_time": "2023-08-12T09:11:51.936058",
     "status": "completed"
    },
    "tags": []
   },
   "outputs": [
    {
     "data": {
      "text/plain": [
       "count    162758.000000\n",
       "mean        106.992019\n",
       "std          22.203778\n",
       "min           4.000000\n",
       "25%          93.000000\n",
       "50%         104.000000\n",
       "75%         118.000000\n",
       "max         561.000000\n",
       "Name: runtimeMinutes, dtype: float64"
      ]
     },
     "execution_count": 45,
     "metadata": {},
     "output_type": "execute_result"
    }
   ],
   "source": [
    "merged[\"runtimeMinutes\"].describe()"
   ]
  },
  {
   "cell_type": "code",
   "execution_count": 46,
   "id": "65c87a01",
   "metadata": {
    "execution": {
     "iopub.execute_input": "2023-08-12T09:11:52.251418Z",
     "iopub.status.busy": "2023-08-12T09:11:52.250247Z",
     "iopub.status.idle": "2023-08-12T09:11:52.666622Z",
     "shell.execute_reply": "2023-08-12T09:11:52.665400Z"
    },
    "papermill": {
     "duration": 0.516388,
     "end_time": "2023-08-12T09:11:52.669242",
     "exception": false,
     "start_time": "2023-08-12T09:11:52.152854",
     "status": "completed"
    },
    "tags": []
   },
   "outputs": [
    {
     "data": {
      "text/plain": [
       "<Axes: xlabel='sentiment', ylabel='runtimeMinutes'>"
      ]
     },
     "execution_count": 46,
     "metadata": {},
     "output_type": "execute_result"
    },
    {
     "data": {
      "image/png": "[encoded data removed]",
      "text/plain": [
       "<Figure size 640x480 with 1 Axes>"
      ]
     },
     "metadata": {},
     "output_type": "display_data"
    }
   ],
   "source": [
    "sns.boxplot(y=merged[\"runtimeMinutes\"], x=merged[\"sentiment\"])"
   ]
  },
  {
   "cell_type": "code",
   "execution_count": 47,
   "id": "f52ea595",
   "metadata": {
    "execution": {
     "iopub.execute_input": "2023-08-12T09:11:52.865291Z",
     "iopub.status.busy": "2023-08-12T09:11:52.864853Z",
     "iopub.status.idle": "2023-08-12T09:11:52.868799Z",
     "shell.execute_reply": "2023-08-12T09:11:52.867862Z"
    },
    "papermill": {
     "duration": 0.10495,
     "end_time": "2023-08-12T09:11:52.871208",
     "exception": false,
     "start_time": "2023-08-12T09:11:52.766258",
     "status": "completed"
    },
    "tags": []
   },
   "outputs": [],
   "source": [
    "# print(merged[\"boxOfficeBins\"].value_counts())\n",
    "# sns.displot(merged[\"boxOfficeBins\"])"
   ]
  },
  {
   "cell_type": "code",
   "execution_count": 48,
   "id": "a9242c81",
   "metadata": {
    "execution": {
     "iopub.execute_input": "2023-08-12T09:11:53.066736Z",
     "iopub.status.busy": "2023-08-12T09:11:53.066317Z",
     "iopub.status.idle": "2023-08-12T09:11:53.075295Z",
     "shell.execute_reply": "2023-08-12T09:11:53.074092Z"
    },
    "papermill": {
     "duration": 0.108952,
     "end_time": "2023-08-12T09:11:53.077659",
     "exception": false,
     "start_time": "2023-08-12T09:11:52.968707",
     "status": "completed"
    },
    "tags": []
   },
   "outputs": [
    {
     "data": {
      "text/plain": [
       "0    Henry Selick’s first movie since ’s Coraline. ...\n",
       "1    With a cast that reads like the Vogue Oscar pa...\n",
       "2    Creed II does not give us anything but another...\n",
       "3    I know what you're thinking, but this is no Li...\n",
       "4    Director Fernando Meirelles tells the story wi...\n",
       "Name: reviewText, dtype: object"
      ]
     },
     "execution_count": 48,
     "metadata": {},
     "output_type": "execute_result"
    }
   ],
   "source": [
    "merged[\"reviewText\"].head()"
   ]
  },
  {
   "cell_type": "code",
   "execution_count": 49,
   "id": "bc634a67",
   "metadata": {
    "execution": {
     "iopub.execute_input": "2023-08-12T09:11:53.274476Z",
     "iopub.status.busy": "2023-08-12T09:11:53.274009Z",
     "iopub.status.idle": "2023-08-12T09:11:53.281539Z",
     "shell.execute_reply": "2023-08-12T09:11:53.280526Z"
    },
    "papermill": {
     "duration": 0.108203,
     "end_time": "2023-08-12T09:11:53.283918",
     "exception": false,
     "start_time": "2023-08-12T09:11:53.175715",
     "status": "completed"
    },
    "tags": []
   },
   "outputs": [
    {
     "data": {
      "text/plain": [
       "6447"
      ]
     },
     "execution_count": 49,
     "metadata": {},
     "output_type": "execute_result"
    }
   ],
   "source": [
    "merged[\"reviewYN\"].sum()"
   ]
  },
  {
   "cell_type": "code",
   "execution_count": 50,
   "id": "58b79943",
   "metadata": {
    "execution": {
     "iopub.execute_input": "2023-08-12T09:11:53.485571Z",
     "iopub.status.busy": "2023-08-12T09:11:53.485178Z",
     "iopub.status.idle": "2023-08-12T09:11:53.493078Z",
     "shell.execute_reply": "2023-08-12T09:11:53.491875Z"
    },
    "papermill": {
     "duration": 0.113133,
     "end_time": "2023-08-12T09:11:53.495658",
     "exception": false,
     "start_time": "2023-08-12T09:11:53.382525",
     "status": "completed"
    },
    "tags": []
   },
   "outputs": [
    {
     "data": {
      "text/plain": [
       "0    11\n",
       "1    24\n",
       "2    22\n",
       "3    34\n",
       "4    20\n",
       "Name: reviewWC, dtype: int64"
      ]
     },
     "execution_count": 50,
     "metadata": {},
     "output_type": "execute_result"
    }
   ],
   "source": [
    "merged[\"reviewWC\"].head()"
   ]
  },
  {
   "cell_type": "code",
   "execution_count": 51,
   "id": "077f7399",
   "metadata": {
    "execution": {
     "iopub.execute_input": "2023-08-12T09:11:53.694720Z",
     "iopub.status.busy": "2023-08-12T09:11:53.694330Z",
     "iopub.status.idle": "2023-08-12T09:11:53.710977Z",
     "shell.execute_reply": "2023-08-12T09:11:53.710165Z"
    },
    "papermill": {
     "duration": 0.118224,
     "end_time": "2023-08-12T09:11:53.713226",
     "exception": false,
     "start_time": "2023-08-12T09:11:53.595002",
     "status": "completed"
    },
    "tags": []
   },
   "outputs": [
    {
     "data": {
      "text/plain": [
       "count    162758.000000\n",
       "mean         21.013707\n",
       "std          10.216532\n",
       "min           1.000000\n",
       "25%          14.000000\n",
       "50%          21.000000\n",
       "75%          28.000000\n",
       "max          54.000000\n",
       "Name: reviewWC, dtype: float64"
      ]
     },
     "execution_count": 51,
     "metadata": {},
     "output_type": "execute_result"
    }
   ],
   "source": [
    "merged[\"reviewWC\"].describe()"
   ]
  },
  {
   "cell_type": "code",
   "execution_count": 52,
   "id": "b26db347",
   "metadata": {
    "execution": {
     "iopub.execute_input": "2023-08-12T09:11:53.911272Z",
     "iopub.status.busy": "2023-08-12T09:11:53.910818Z",
     "iopub.status.idle": "2023-08-12T09:11:54.605503Z",
     "shell.execute_reply": "2023-08-12T09:11:54.604233Z"
    },
    "papermill": {
     "duration": 0.796824,
     "end_time": "2023-08-12T09:11:54.608002",
     "exception": false,
     "start_time": "2023-08-12T09:11:53.811178",
     "status": "completed"
    },
    "tags": []
   },
   "outputs": [
    {
     "data": {
      "text/plain": [
       "<Axes: xlabel='reviewWC', ylabel='Count'>"
      ]
     },
     "execution_count": 52,
     "metadata": {},
     "output_type": "execute_result"
    },
    {
     "data": {
      "image/png": "[encoded data removed]",
      "text/plain": [
       "<Figure size 640x480 with 1 Axes>"
      ]
     },
     "metadata": {},
     "output_type": "display_data"
    }
   ],
   "source": [
    "sns.histplot(merged[\"reviewWC\"])"
   ]
  },
  {
   "cell_type": "code",
   "execution_count": 53,
   "id": "f0aac2e4",
   "metadata": {
    "execution": {
     "iopub.execute_input": "2023-08-12T09:11:54.807725Z",
     "iopub.status.busy": "2023-08-12T09:11:54.807272Z",
     "iopub.status.idle": "2023-08-12T09:11:54.838915Z",
     "shell.execute_reply": "2023-08-12T09:11:54.838116Z"
    },
    "papermill": {
     "duration": 0.133678,
     "end_time": "2023-08-12T09:11:54.840969",
     "exception": false,
     "start_time": "2023-08-12T09:11:54.707291",
     "status": "completed"
    },
    "tags": []
   },
   "outputs": [
    {
     "data": {
      "text/plain": [
       "R          60248\n",
       "unknown    44587\n",
       "PG-13      42697\n",
       "PG         13669\n",
       "TV14         947\n",
       "NC-17        285\n",
       "TVPG         281\n",
       "TVMA          44\n",
       "Name: rating, dtype: int64"
      ]
     },
     "execution_count": 53,
     "metadata": {},
     "output_type": "execute_result"
    }
   ],
   "source": [
    "merged['rating'].value_counts()"
   ]
  },
  {
   "cell_type": "code",
   "execution_count": 54,
   "id": "db4c7fef",
   "metadata": {
    "execution": {
     "iopub.execute_input": "2023-08-12T09:11:55.039422Z",
     "iopub.status.busy": "2023-08-12T09:11:55.038945Z",
     "iopub.status.idle": "2023-08-12T09:11:55.049193Z",
     "shell.execute_reply": "2023-08-12T09:11:55.048139Z"
    },
    "papermill": {
     "duration": 0.111632,
     "end_time": "2023-08-12T09:11:55.051415",
     "exception": false,
     "start_time": "2023-08-12T09:11:54.939783",
     "status": "completed"
    },
    "tags": []
   },
   "outputs": [
    {
     "data": {
      "text/plain": [
       "False    113189\n",
       "True      49569\n",
       "Name: isFrequentReviewer, dtype: int64"
      ]
     },
     "execution_count": 54,
     "metadata": {},
     "output_type": "execute_result"
    }
   ],
   "source": [
    "merged['isFrequentReviewer'].value_counts()"
   ]
  },
  {
   "cell_type": "code",
   "execution_count": 55,
   "id": "05f2bd3e",
   "metadata": {
    "execution": {
     "iopub.execute_input": "2023-08-12T09:11:55.250338Z",
     "iopub.status.busy": "2023-08-12T09:11:55.249540Z",
     "iopub.status.idle": "2023-08-12T09:11:55.258510Z",
     "shell.execute_reply": "2023-08-12T09:11:55.257375Z"
    },
    "papermill": {
     "duration": 0.110653,
     "end_time": "2023-08-12T09:11:55.260781",
     "exception": false,
     "start_time": "2023-08-12T09:11:55.150128",
     "status": "completed"
    },
    "tags": []
   },
   "outputs": [
    {
     "data": {
      "text/plain": [
       "0      Benjamin Henry\n",
       "1       Felicia Lopez\n",
       "2     Charles Burgess\n",
       "3        Ryan Barrett\n",
       "4    Alexander Glover\n",
       "Name: reviewerName, dtype: object"
      ]
     },
     "execution_count": 55,
     "metadata": {},
     "output_type": "execute_result"
    }
   ],
   "source": [
    "merged[\"reviewerName\"].head()"
   ]
  },
  {
   "cell_type": "code",
   "execution_count": 56,
   "id": "f7180135",
   "metadata": {
    "execution": {
     "iopub.execute_input": "2023-08-12T09:11:55.462371Z",
     "iopub.status.busy": "2023-08-12T09:11:55.461177Z",
     "iopub.status.idle": "2023-08-12T09:11:55.475815Z",
     "shell.execute_reply": "2023-08-12T09:11:55.474685Z"
    },
    "papermill": {
     "duration": 0.118943,
     "end_time": "2023-08-12T09:11:55.478195",
     "exception": false,
     "start_time": "2023-08-12T09:11:55.359252",
     "status": "completed"
    },
    "tags": []
   },
   "outputs": [
    {
     "data": {
      "text/plain": [
       "14300000.0    32327\n",
       "2000000.0       922\n",
       "1100000.0       891\n",
       "1000000.0       834\n",
       "1200000.0       802\n",
       "              ...  \n",
       "58500.0           1\n",
       "500800.0          1\n",
       "265600.0          1\n",
       "292500.0          1\n",
       "799400.0          1\n",
       "Name: boxOffice, Length: 3819, dtype: int64"
      ]
     },
     "execution_count": 56,
     "metadata": {},
     "output_type": "execute_result"
    }
   ],
   "source": [
    "merged['boxOffice'].value_counts()"
   ]
  },
  {
   "cell_type": "code",
   "execution_count": 57,
   "id": "bb1bd7ae",
   "metadata": {
    "execution": {
     "iopub.execute_input": "2023-08-12T09:11:55.683027Z",
     "iopub.status.busy": "2023-08-12T09:11:55.682129Z",
     "iopub.status.idle": "2023-08-12T09:11:55.687211Z",
     "shell.execute_reply": "2023-08-12T09:11:55.686320Z"
    },
    "papermill": {
     "duration": 0.109875,
     "end_time": "2023-08-12T09:11:55.689445",
     "exception": false,
     "start_time": "2023-08-12T09:11:55.579570",
     "status": "completed"
    },
    "tags": []
   },
   "outputs": [],
   "source": [
    "# Check correlation between 'boxOffice' and ''sentiment'\n",
    "# bo_df = merged.copy()\n",
    "# print(bo_df[\"boxOffice\"])\n",
    "# bo_df[\"boxOffice\"] = bo_df[\"boxOffice\"].str[1:]\n",
    "# bo_df[\"boxOffice\"] = bo_df[\"boxOffice\"].replace(to_replace={\"M\": \"*1000000\", \"K\": \"*1000\"}, regex=True)\n",
    "# bo_df[\"boxOffice\"] = bo_df[\"boxOffice\"].loc[bo_df[\"boxOffice\"].notnull()].apply(lambda x: eval(str(x)))\n",
    "# bo_df[\"boxOffice\"] = bo_df[\"boxOffice\"].fillna(bo_df[\"boxOffice\"].median())\n",
    "# bo_df[\"boxOffice\"].describe()"
   ]
  },
  {
   "cell_type": "code",
   "execution_count": 58,
   "id": "9e9e4932",
   "metadata": {
    "execution": {
     "iopub.execute_input": "2023-08-12T09:11:55.892181Z",
     "iopub.status.busy": "2023-08-12T09:11:55.890837Z",
     "iopub.status.idle": "2023-08-12T09:11:55.895571Z",
     "shell.execute_reply": "2023-08-12T09:11:55.894734Z"
    },
    "papermill": {
     "duration": 0.107592,
     "end_time": "2023-08-12T09:11:55.897786",
     "exception": false,
     "start_time": "2023-08-12T09:11:55.790194",
     "status": "completed"
    },
    "tags": []
   },
   "outputs": [],
   "source": [
    "# median = bo_df[\"boxOffice\"].describe()['50%']\n",
    "# iqr = bo_df[\"boxOffice\"].describe()['75%'] - bo_df[\"boxOffice\"].describe()['25%']\n",
    "# median, iqr"
   ]
  },
  {
   "cell_type": "code",
   "execution_count": 59,
   "id": "a89b8c03",
   "metadata": {
    "execution": {
     "iopub.execute_input": "2023-08-12T09:11:56.099266Z",
     "iopub.status.busy": "2023-08-12T09:11:56.098168Z",
     "iopub.status.idle": "2023-08-12T09:11:56.102434Z",
     "shell.execute_reply": "2023-08-12T09:11:56.101596Z"
    },
    "papermill": {
     "duration": 0.106574,
     "end_time": "2023-08-12T09:11:56.104607",
     "exception": false,
     "start_time": "2023-08-12T09:11:55.998033",
     "status": "completed"
    },
    "tags": []
   },
   "outputs": [],
   "source": [
    "# ll = median - (1.5*iqr)\n",
    "# ul = median + (1.5*iqr)\n",
    "# ll, ul"
   ]
  },
  {
   "cell_type": "code",
   "execution_count": 60,
   "id": "b3b623f8",
   "metadata": {
    "execution": {
     "iopub.execute_input": "2023-08-12T09:11:56.307300Z",
     "iopub.status.busy": "2023-08-12T09:11:56.306278Z",
     "iopub.status.idle": "2023-08-12T09:11:56.310903Z",
     "shell.execute_reply": "2023-08-12T09:11:56.309780Z"
    },
    "papermill": {
     "duration": 0.108167,
     "end_time": "2023-08-12T09:11:56.313401",
     "exception": false,
     "start_time": "2023-08-12T09:11:56.205234",
     "status": "completed"
    },
    "tags": []
   },
   "outputs": [],
   "source": [
    "# bo_df[\"boxOffice\"].mean()"
   ]
  },
  {
   "cell_type": "code",
   "execution_count": 61,
   "id": "f8469acb",
   "metadata": {
    "execution": {
     "iopub.execute_input": "2023-08-12T09:11:56.516325Z",
     "iopub.status.busy": "2023-08-12T09:11:56.515639Z",
     "iopub.status.idle": "2023-08-12T09:11:56.519881Z",
     "shell.execute_reply": "2023-08-12T09:11:56.519104Z"
    },
    "papermill": {
     "duration": 0.108992,
     "end_time": "2023-08-12T09:11:56.522170",
     "exception": false,
     "start_time": "2023-08-12T09:11:56.413178",
     "status": "completed"
    },
    "tags": []
   },
   "outputs": [],
   "source": [
    "# bo_df.loc[bo_df[\"boxOffice\"] > ul, \"boxOffice\"] = median\n",
    "# bo_df[\"boxOffice\"].mean()"
   ]
  },
  {
   "cell_type": "code",
   "execution_count": 62,
   "id": "5be52848",
   "metadata": {
    "execution": {
     "iopub.execute_input": "2023-08-12T09:11:56.725763Z",
     "iopub.status.busy": "2023-08-12T09:11:56.724902Z",
     "iopub.status.idle": "2023-08-12T09:11:56.730480Z",
     "shell.execute_reply": "2023-08-12T09:11:56.729423Z"
    },
    "papermill": {
     "duration": 0.11051,
     "end_time": "2023-08-12T09:11:56.732969",
     "exception": false,
     "start_time": "2023-08-12T09:11:56.622459",
     "status": "completed"
    },
    "tags": []
   },
   "outputs": [],
   "source": [
    "# bo_df[\"boxOffice\"].min(), bo_df[\"boxOffice\"].max()"
   ]
  },
  {
   "cell_type": "code",
   "execution_count": 63,
   "id": "ab49ecfd",
   "metadata": {
    "execution": {
     "iopub.execute_input": "2023-08-12T09:11:56.934477Z",
     "iopub.status.busy": "2023-08-12T09:11:56.933641Z",
     "iopub.status.idle": "2023-08-12T09:11:56.938623Z",
     "shell.execute_reply": "2023-08-12T09:11:56.937836Z"
    },
    "papermill": {
     "duration": 0.108017,
     "end_time": "2023-08-12T09:11:56.940932",
     "exception": false,
     "start_time": "2023-08-12T09:11:56.832915",
     "status": "completed"
    },
    "tags": []
   },
   "outputs": [],
   "source": [
    "# sns.boxplot(x=\"sentiment\", y=\"boxOffice\", data=bo_df, showfliers = False)"
   ]
  },
  {
   "cell_type": "markdown",
   "id": "30941e93",
   "metadata": {
    "papermill": {
     "duration": 0.098455,
     "end_time": "2023-08-12T09:11:57.138531",
     "exception": false,
     "start_time": "2023-08-12T09:11:57.040076",
     "status": "completed"
    },
    "tags": []
   },
   "source": [
    "## EDA  "
   ]
  },
  {
   "cell_type": "markdown",
   "id": "cc2585de",
   "metadata": {
    "papermill": {
     "duration": 0.105324,
     "end_time": "2023-08-12T09:11:57.344902",
     "exception": false,
     "start_time": "2023-08-12T09:11:57.239578",
     "status": "completed"
    },
    "tags": []
   },
   "source": [
    "### An interesting finding through exploration  \n",
    "  \n",
    "* OHE and TfidfVectorizer on director column give the same result when ngram_range(2,2) is used (see code below)!"
   ]
  },
  {
   "cell_type": "code",
   "execution_count": 64,
   "id": "55058279",
   "metadata": {
    "execution": {
     "iopub.execute_input": "2023-08-12T09:11:57.559273Z",
     "iopub.status.busy": "2023-08-12T09:11:57.558783Z",
     "iopub.status.idle": "2023-08-12T09:12:10.681438Z",
     "shell.execute_reply": "2023-08-12T09:12:10.680072Z"
    },
    "papermill": {
     "duration": 13.22729,
     "end_time": "2023-08-12T09:12:10.684097",
     "exception": false,
     "start_time": "2023-08-12T09:11:57.456807",
     "status": "completed"
    },
    "tags": []
   },
   "outputs": [
    {
     "name": "stdout",
     "output_type": "stream",
     "text": [
      "(162758,)\n",
      "9476\n",
      "(162758, 9476) <class 'numpy.ndarray'>\n",
      "(162758,)\n",
      "(162758, 9476) <class 'numpy.ndarray'>\n",
      "True\n"
     ]
    }
   ],
   "source": [
    "# Compare OHE and TfidfVectorizer on director column\n",
    "\n",
    "dirs = merged[\"director\"].copy()\n",
    "print(dirs.shape)\n",
    "dirs_uniq = merged[\"director\"].unique()\n",
    "print(len(dirs_uniq))\n",
    "\n",
    "du_ohe = OneHotEncoder(handle_unknown=\"ignore\", sparse_output=False).fit_transform(dirs.to_numpy().reshape(-1, 1))\n",
    "print(du_ohe.shape, type(du_ohe))\n",
    "\n",
    "dirs_2 = merged[\"director\"].copy()\n",
    "print(dirs_2.shape)\n",
    "du_tfidf = TfidfVectorizer(ngram_range=(2,2)).fit_transform(dirs_2).toarray()\n",
    "print(du_tfidf.shape, type(du_tfidf))\n",
    "\n",
    "print(np.array_equal(du_ohe, du_tfidf))"
   ]
  },
  {
   "cell_type": "code",
   "execution_count": 65,
   "id": "07963bd0",
   "metadata": {
    "execution": {
     "iopub.execute_input": "2023-08-12T09:12:10.885355Z",
     "iopub.status.busy": "2023-08-12T09:12:10.884284Z",
     "iopub.status.idle": "2023-08-12T09:12:11.240423Z",
     "shell.execute_reply": "2023-08-12T09:12:11.239151Z"
    },
    "papermill": {
     "duration": 0.459155,
     "end_time": "2023-08-12T09:12:11.242965",
     "exception": false,
     "start_time": "2023-08-12T09:12:10.783810",
     "status": "completed"
    },
    "tags": []
   },
   "outputs": [
    {
     "name": "stdout",
     "output_type": "stream",
     "text": [
      "0       Bennie Basso\n",
      "1         Alma White\n",
      "2       Bobby Oleary\n",
      "3    Eric Hutcherson\n",
      "4         John Trent\n",
      "Name: director, dtype: object\n"
     ]
    },
    {
     "data": {
      "text/plain": [
       "2    162758\n",
       "Name: director, dtype: int64"
      ]
     },
     "execution_count": 65,
     "metadata": {},
     "output_type": "execute_result"
    }
   ],
   "source": [
    "print(dirs.head())\n",
    "d = dirs.copy()\n",
    "d[\"name_len\"] = d.apply(lambda x: len(x.split()))\n",
    "d[\"name_len\"].value_counts()"
   ]
  },
  {
   "cell_type": "code",
   "execution_count": 66,
   "id": "b8029f02",
   "metadata": {
    "execution": {
     "iopub.execute_input": "2023-08-12T09:12:11.443323Z",
     "iopub.status.busy": "2023-08-12T09:12:11.442906Z",
     "iopub.status.idle": "2023-08-12T09:12:11.448174Z",
     "shell.execute_reply": "2023-08-12T09:12:11.447280Z"
    },
    "papermill": {
     "duration": 0.108617,
     "end_time": "2023-08-12T09:12:11.450536",
     "exception": false,
     "start_time": "2023-08-12T09:12:11.341919",
     "status": "completed"
    },
    "tags": []
   },
   "outputs": [],
   "source": [
    "# Compare OHE and TfidfVectorizer on reviewerName column\n",
    "# Note: reviewerName column has salutations like \"Mr. \" etc, and some names appear middle names. Therefore needs cleaning\n",
    "\n",
    "# def name_fl(name):\n",
    "#     l = name.split()\n",
    "#     n = ' '.join((l[0], l[-1]))\n",
    "#     return n\n",
    "\n",
    "# reviewers = merged[\"reviewerName\"].copy()\n",
    "# reviewers = pd.DataFrame(reviewers)\n",
    "# reviewers = reviewers.replace({\"Mr. \": \"\", \"Mrs. \": \"\"}, regex=True)\n",
    "# reviewers[\"reviewerName\"] = reviewers[\"reviewerName\"].apply(name_fl)\n",
    "# print(reviewers.shape)\n",
    "\n",
    "# reviewers_uniq = merged[\"reviewerName\"].unique()\n",
    "# print(len(reviewers_uniq))\n",
    "\n",
    "# reviewers_ohe = OneHotEncoder(handle_unknown=\"ignore\", sparse_output=False).fit_transform(reviewers.to_numpy().reshape(-1, 1))\n",
    "# print(reviewers_ohe.shape, type(reviewers_ohe))\n",
    "\n",
    "# reviewers_2 = merged[\"reviewerName\"].copy()\n",
    "# reviewers_2 = pd.DataFrame(reviewers_2)\n",
    "# print(reviewers_2.head())\n",
    "# reviewers_2 = reviewers_2.replace({\"Mr. \": \"\", \"Mrs. \": \"\"}, regex=True)\n",
    "# reviewers_2[\"reviewerName\"] = reviewers_2[\"reviewerName\"].apply(name_fl)\n",
    "# reviewers_2 = reviewers_2.squeeze()\n",
    "# print(reviewers_2.shape)\n",
    "# print(reviewers_2.head())\n",
    "\n",
    "# reviewers_tfidf = TfidfVectorizer(ngram_range=(2,2)).fit_transform(reviewers_2).toarray()\n",
    "# print(reviewers_tfidf.shape, type(reviewers_tfidf))\n",
    "\n",
    "# print(np.array_equal(reviewers_ohe, reviewers_tfidf))"
   ]
  },
  {
   "cell_type": "code",
   "execution_count": 67,
   "id": "cddf272d",
   "metadata": {
    "execution": {
     "iopub.execute_input": "2023-08-12T09:12:11.657520Z",
     "iopub.status.busy": "2023-08-12T09:12:11.656606Z",
     "iopub.status.idle": "2023-08-12T09:12:11.660681Z",
     "shell.execute_reply": "2023-08-12T09:12:11.659890Z"
    },
    "papermill": {
     "duration": 0.108801,
     "end_time": "2023-08-12T09:12:11.662840",
     "exception": false,
     "start_time": "2023-08-12T09:12:11.554039",
     "status": "completed"
    },
    "tags": []
   },
   "outputs": [],
   "source": [
    "# def name_fl(name):\n",
    "#     l = name.split()\n",
    "#     n = ' '.join((l[0], l[-1]))\n",
    "#     return n"
   ]
  },
  {
   "cell_type": "code",
   "execution_count": 68,
   "id": "d4f444f2",
   "metadata": {
    "execution": {
     "iopub.execute_input": "2023-08-12T09:12:11.866199Z",
     "iopub.status.busy": "2023-08-12T09:12:11.865758Z",
     "iopub.status.idle": "2023-08-12T09:12:11.870319Z",
     "shell.execute_reply": "2023-08-12T09:12:11.869144Z"
    },
    "papermill": {
     "duration": 0.10844,
     "end_time": "2023-08-12T09:12:11.872723",
     "exception": false,
     "start_time": "2023-08-12T09:12:11.764283",
     "status": "completed"
    },
    "tags": []
   },
   "outputs": [],
   "source": [
    "# print(reviewers.head())\n",
    "# r = pd.DataFrame(reviewers.copy())\n",
    "# r[\"reviewerName\"] = r[\"reviewerName\"].apply(name_fl)\n",
    "# r[\"name_len\"] = r[\"reviewerName\"].apply(lambda x: len(x.split()))\n",
    "# print(r.shape)\n",
    "# print(r.head())\n",
    "# print(r['name_len'].value_counts())"
   ]
  },
  {
   "cell_type": "code",
   "execution_count": 69,
   "id": "28d23913",
   "metadata": {
    "execution": {
     "iopub.execute_input": "2023-08-12T09:12:12.074947Z",
     "iopub.status.busy": "2023-08-12T09:12:12.074542Z",
     "iopub.status.idle": "2023-08-12T09:12:12.078903Z",
     "shell.execute_reply": "2023-08-12T09:12:12.077778Z"
    },
    "papermill": {
     "duration": 0.10933,
     "end_time": "2023-08-12T09:12:12.081306",
     "exception": false,
     "start_time": "2023-08-12T09:12:11.971976",
     "status": "completed"
    },
    "tags": []
   },
   "outputs": [],
   "source": [
    "## Box plot audienceScore and sentiment  \n",
    "# plt.figure(figsize=(6, 4))\n",
    "# sns.boxplot(x=\"sentiment\", y=\"audienceScore\", data=merged, width=0.3)\n",
    "# plt.title(\"Box plot audienceScore and sentiment\")\n",
    "# plt.show()"
   ]
  },
  {
   "cell_type": "code",
   "execution_count": 70,
   "id": "91cadc21",
   "metadata": {
    "execution": {
     "iopub.execute_input": "2023-08-12T09:12:12.282900Z",
     "iopub.status.busy": "2023-08-12T09:12:12.282492Z",
     "iopub.status.idle": "2023-08-12T09:12:12.287125Z",
     "shell.execute_reply": "2023-08-12T09:12:12.285930Z"
    },
    "papermill": {
     "duration": 0.108784,
     "end_time": "2023-08-12T09:12:12.289497",
     "exception": false,
     "start_time": "2023-08-12T09:12:12.180713",
     "status": "completed"
    },
    "tags": []
   },
   "outputs": [],
   "source": [
    "## Box plot runtimeMinutes and sentiment  \n",
    "# plt.figure(figsize=(6, 4))\n",
    "# sns.boxplot(x=\"sentiment\", y=\"runtimeMinutes\", data=merged, width=0.3)\n",
    "# plt.title(\"Box plot runtimeMinutes and sentiment\")\n",
    "# plt.show()"
   ]
  },
  {
   "cell_type": "code",
   "execution_count": 71,
   "id": "01d440ce",
   "metadata": {
    "execution": {
     "iopub.execute_input": "2023-08-12T09:12:12.561981Z",
     "iopub.status.busy": "2023-08-12T09:12:12.561325Z",
     "iopub.status.idle": "2023-08-12T09:12:12.566027Z",
     "shell.execute_reply": "2023-08-12T09:12:12.565126Z"
    },
    "papermill": {
     "duration": 0.110665,
     "end_time": "2023-08-12T09:12:12.568357",
     "exception": false,
     "start_time": "2023-08-12T09:12:12.457692",
     "status": "completed"
    },
    "tags": []
   },
   "outputs": [],
   "source": [
    "## Column chart for sentiment and rating columns\n",
    "# plt.figure(figsize=(6, 4))\n",
    "# sns.countplot(x=\"sentiment\", hue=\"rating\", data=merged)\n",
    "# plt.title(\"Column chart for sentiment and rating columns\")\n",
    "# plt.show()"
   ]
  },
  {
   "cell_type": "code",
   "execution_count": 72,
   "id": "6a7b6217",
   "metadata": {
    "execution": {
     "iopub.execute_input": "2023-08-12T09:12:12.771162Z",
     "iopub.status.busy": "2023-08-12T09:12:12.770462Z",
     "iopub.status.idle": "2023-08-12T09:12:12.775118Z",
     "shell.execute_reply": "2023-08-12T09:12:12.774295Z"
    },
    "papermill": {
     "duration": 0.108577,
     "end_time": "2023-08-12T09:12:12.777407",
     "exception": false,
     "start_time": "2023-08-12T09:12:12.668830",
     "status": "completed"
    },
    "tags": []
   },
   "outputs": [],
   "source": [
    "# Correlation heatmap  \n",
    "# plt.figure(figsize=(10, 8))\n",
    "# sns.heatmap(merged.corr(), annot=True, cmap=\"coolwarm\")\n",
    "# plt.title(\"Correlation heatmap\")\n",
    "# plt.show()"
   ]
  },
  {
   "cell_type": "markdown",
   "id": "9b6e455a",
   "metadata": {
    "papermill": {
     "duration": 0.099405,
     "end_time": "2023-08-12T09:12:12.976512",
     "exception": false,
     "start_time": "2023-08-12T09:12:12.877107",
     "status": "completed"
    },
    "tags": []
   },
   "source": [
    "## Merge and preprocess \"test.csv\" and \"movies.csv\" files  "
   ]
  },
  {
   "cell_type": "code",
   "execution_count": 73,
   "id": "a60de392",
   "metadata": {
    "execution": {
     "iopub.execute_input": "2023-08-12T09:12:13.178463Z",
     "iopub.status.busy": "2023-08-12T09:12:13.177759Z",
     "iopub.status.idle": "2023-08-12T09:12:19.311579Z",
     "shell.execute_reply": "2023-08-12T09:12:19.310375Z"
    },
    "papermill": {
     "duration": 6.238319,
     "end_time": "2023-08-12T09:12:19.314798",
     "exception": false,
     "start_time": "2023-08-12T09:12:13.076479",
     "status": "completed"
    },
    "tags": []
   },
   "outputs": [],
   "source": [
    "# Merge test and movies  \n",
    "merged_test = select_features(load_csv(\"test\"), load_csv(\"movies\"))"
   ]
  },
  {
   "cell_type": "code",
   "execution_count": 74,
   "id": "5fadbacb",
   "metadata": {
    "execution": {
     "iopub.execute_input": "2023-08-12T09:12:19.516763Z",
     "iopub.status.busy": "2023-08-12T09:12:19.516356Z",
     "iopub.status.idle": "2023-08-12T09:12:19.521057Z",
     "shell.execute_reply": "2023-08-12T09:12:19.519831Z"
    },
    "papermill": {
     "duration": 0.108363,
     "end_time": "2023-08-12T09:12:19.523478",
     "exception": false,
     "start_time": "2023-08-12T09:12:19.415115",
     "status": "completed"
    },
    "tags": []
   },
   "outputs": [],
   "source": [
    "# inspect(merged_test)      # Note the missing values in ['audienceScore', 'runtimeMinutes', 'boxOffice']"
   ]
  },
  {
   "cell_type": "code",
   "execution_count": 75,
   "id": "2f5f955c",
   "metadata": {
    "execution": {
     "iopub.execute_input": "2023-08-12T09:12:19.728548Z",
     "iopub.status.busy": "2023-08-12T09:12:19.728105Z",
     "iopub.status.idle": "2023-08-12T09:12:19.745899Z",
     "shell.execute_reply": "2023-08-12T09:12:19.745128Z"
    },
    "papermill": {
     "duration": 0.122064,
     "end_time": "2023-08-12T09:12:19.748078",
     "exception": false,
     "start_time": "2023-08-12T09:12:19.626014",
     "status": "completed"
    },
    "tags": []
   },
   "outputs": [
    {
     "data": {
      "text/plain": [
       "array([6.80e+01, 1.04e+02, 1.43e+07])"
      ]
     },
     "execution_count": 75,
     "metadata": {},
     "output_type": "execute_result"
    }
   ],
   "source": [
    "# Transform ['audienceScore', 'runtimeMinutes', 'boxOffice'] columns in merged_test using 'si' fitted on 'merged' df  \n",
    "merged_test[['audienceScore', 'runtimeMinutes', 'boxOffice']] = si.transform(merged_test[['audienceScore', 'runtimeMinutes', 'boxOffice']])\n",
    "si.statistics_"
   ]
  },
  {
   "cell_type": "code",
   "execution_count": 76,
   "id": "7a4851d0",
   "metadata": {
    "execution": {
     "iopub.execute_input": "2023-08-12T09:12:19.951483Z",
     "iopub.status.busy": "2023-08-12T09:12:19.951020Z",
     "iopub.status.idle": "2023-08-12T09:12:19.962632Z",
     "shell.execute_reply": "2023-08-12T09:12:19.961159Z"
    },
    "papermill": {
     "duration": 0.116287,
     "end_time": "2023-08-12T09:12:19.965488",
     "exception": false,
     "start_time": "2023-08-12T09:12:19.849201",
     "status": "completed"
    },
    "tags": []
   },
   "outputs": [],
   "source": [
    "# Fill 'releaseDate' column in 'merged_test' df with median from the train (merged) df  \n",
    "merged_test['releaseDate'] = merged_test[\"releaseDate\"].fillna(merged[\"releaseDate\"].median())"
   ]
  },
  {
   "cell_type": "code",
   "execution_count": 77,
   "id": "cca626c5",
   "metadata": {
    "execution": {
     "iopub.execute_input": "2023-08-12T09:12:20.168420Z",
     "iopub.status.busy": "2023-08-12T09:12:20.167957Z",
     "iopub.status.idle": "2023-08-12T09:12:20.664937Z",
     "shell.execute_reply": "2023-08-12T09:12:20.663517Z"
    },
    "papermill": {
     "duration": 0.601979,
     "end_time": "2023-08-12T09:12:20.667769",
     "exception": false,
     "start_time": "2023-08-12T09:12:20.065790",
     "status": "completed"
    },
    "tags": []
   },
   "outputs": [
    {
     "name": "stdout",
     "output_type": "stream",
     "text": [
      "Shape of the dataframe: (55315, 25)\n",
      "\n",
      "Columns in the dataframe:\n",
      "Index(['movieid', 'reviewerName', 'isFrequentReviewer', 'reviewText', 'title',\n",
      "       'audienceScore', 'rating', 'ratingContents', 'releaseDateTheaters',\n",
      "       'releaseDateStreaming', 'runtimeMinutes', 'genre', 'originalLanguage',\n",
      "       'director', 'boxOffice', 'distributor', 'soundType', 'reviewYN',\n",
      "       'reviewWC', 'genreSorted', 'rcSorted', 'releaseDate', 'releaseYear',\n",
      "       'releaseMonth', 'releaseDiff'],\n",
      "      dtype='object')\n",
      "\n",
      "<class 'pandas.core.frame.DataFrame'>\n",
      "Int64Index: 55315 entries, 0 to 55314\n",
      "Data columns (total 25 columns):\n",
      " #   Column                Non-Null Count  Dtype         \n",
      "---  ------                --------------  -----         \n",
      " 0   movieid               55315 non-null  object        \n",
      " 1   reviewerName          55315 non-null  object        \n",
      " 2   isFrequentReviewer    55315 non-null  bool          \n",
      " 3   reviewText            55315 non-null  object        \n",
      " 4   title                 55315 non-null  object        \n",
      " 5   audienceScore         55315 non-null  float64       \n",
      " 6   rating                55315 non-null  object        \n",
      " 7   ratingContents        55315 non-null  object        \n",
      " 8   releaseDateTheaters   47844 non-null  datetime64[ns]\n",
      " 9   releaseDateStreaming  52929 non-null  datetime64[ns]\n",
      " 10  runtimeMinutes        55315 non-null  float64       \n",
      " 11  genre                 55315 non-null  object        \n",
      " 12  originalLanguage      55315 non-null  object        \n",
      " 13  director              55315 non-null  object        \n",
      " 14  boxOffice             55315 non-null  float64       \n",
      " 15  distributor           55315 non-null  object        \n",
      " 16  soundType             29845 non-null  object        \n",
      " 17  reviewYN              55315 non-null  int64         \n",
      " 18  reviewWC              55315 non-null  int64         \n",
      " 19  genreSorted           55315 non-null  object        \n",
      " 20  rcSorted              55315 non-null  object        \n",
      " 21  releaseDate           55315 non-null  datetime64[ns]\n",
      " 22  releaseYear           46626 non-null  float64       \n",
      " 23  releaseMonth          46626 non-null  float64       \n",
      " 24  releaseDiff           55315 non-null  float64       \n",
      "dtypes: bool(1), datetime64[ns](3), float64(6), int64(2), object(13)\n",
      "memory usage: 10.6+ MB\n",
      "None\n",
      "\n",
      "Missing values:\n",
      "movieid                     0\n",
      "reviewerName                0\n",
      "isFrequentReviewer          0\n",
      "reviewText                  0\n",
      "title                       0\n",
      "audienceScore               0\n",
      "rating                      0\n",
      "ratingContents              0\n",
      "releaseDateTheaters      7471\n",
      "releaseDateStreaming     2386\n",
      "runtimeMinutes              0\n",
      "genre                       0\n",
      "originalLanguage            0\n",
      "director                    0\n",
      "boxOffice                   0\n",
      "distributor                 0\n",
      "soundType               25470\n",
      "reviewYN                    0\n",
      "reviewWC                    0\n",
      "genreSorted                 0\n",
      "rcSorted                    0\n",
      "releaseDate                 0\n",
      "releaseYear              8689\n",
      "releaseMonth             8689\n",
      "releaseDiff                 0\n",
      "dtype: int64\n"
     ]
    }
   ],
   "source": [
    "# After transforming merged_test  \n",
    "inspect(merged_test)"
   ]
  },
  {
   "cell_type": "code",
   "execution_count": 78,
   "id": "38b07c40",
   "metadata": {
    "execution": {
     "iopub.execute_input": "2023-08-12T09:12:20.873413Z",
     "iopub.status.busy": "2023-08-12T09:12:20.872951Z",
     "iopub.status.idle": "2023-08-12T09:12:20.879560Z",
     "shell.execute_reply": "2023-08-12T09:12:20.878761Z"
    },
    "papermill": {
     "duration": 0.112457,
     "end_time": "2023-08-12T09:12:20.882479",
     "exception": false,
     "start_time": "2023-08-12T09:12:20.770022",
     "status": "completed"
    },
    "tags": []
   },
   "outputs": [
    {
     "name": "stdout",
     "output_type": "stream",
     "text": [
      "2510\n",
      "4.537648015908886\n"
     ]
    }
   ],
   "source": [
    "print(merged_test[\"reviewYN\"].sum())\n",
    "print(merged_test[\"reviewYN\"].sum() * 100 / merged_test.shape[0])"
   ]
  },
  {
   "cell_type": "code",
   "execution_count": 79,
   "id": "a46f1980",
   "metadata": {
    "execution": {
     "iopub.execute_input": "2023-08-12T09:12:21.086151Z",
     "iopub.status.busy": "2023-08-12T09:12:21.084970Z",
     "iopub.status.idle": "2023-08-12T09:12:21.101948Z",
     "shell.execute_reply": "2023-08-12T09:12:21.100688Z"
    },
    "papermill": {
     "duration": 0.120576,
     "end_time": "2023-08-12T09:12:21.104504",
     "exception": false,
     "start_time": "2023-08-12T09:12:20.983928",
     "status": "completed"
    },
    "tags": []
   },
   "outputs": [
    {
     "data": {
      "text/plain": [
       "R          18934\n",
       "unknown    18386\n",
       "PG-13      13220\n",
       "PG          4200\n",
       "TV14         333\n",
       "TVPG         109\n",
       "NC-17        108\n",
       "TVMA          25\n",
       "Name: rating, dtype: int64"
      ]
     },
     "execution_count": 79,
     "metadata": {},
     "output_type": "execute_result"
    }
   ],
   "source": [
    "merged_test['rating'].value_counts()"
   ]
  },
  {
   "cell_type": "code",
   "execution_count": 80,
   "id": "ba348f4c",
   "metadata": {
    "execution": {
     "iopub.execute_input": "2023-08-12T09:12:21.308971Z",
     "iopub.status.busy": "2023-08-12T09:12:21.308555Z",
     "iopub.status.idle": "2023-08-12T09:12:21.318572Z",
     "shell.execute_reply": "2023-08-12T09:12:21.317371Z"
    },
    "papermill": {
     "duration": 0.114673,
     "end_time": "2023-08-12T09:12:21.321134",
     "exception": false,
     "start_time": "2023-08-12T09:12:21.206461",
     "status": "completed"
    },
    "tags": []
   },
   "outputs": [
    {
     "data": {
      "text/plain": [
       "False    38428\n",
       "True     16887\n",
       "Name: isFrequentReviewer, dtype: int64"
      ]
     },
     "execution_count": 80,
     "metadata": {},
     "output_type": "execute_result"
    }
   ],
   "source": [
    "merged_test['isFrequentReviewer'].value_counts()"
   ]
  },
  {
   "cell_type": "code",
   "execution_count": 81,
   "id": "9dd12cfd",
   "metadata": {
    "execution": {
     "iopub.execute_input": "2023-08-12T09:12:21.526760Z",
     "iopub.status.busy": "2023-08-12T09:12:21.526361Z",
     "iopub.status.idle": "2023-08-12T09:12:21.537198Z",
     "shell.execute_reply": "2023-08-12T09:12:21.536414Z"
    },
    "papermill": {
     "duration": 0.116519,
     "end_time": "2023-08-12T09:12:21.539693",
     "exception": false,
     "start_time": "2023-08-12T09:12:21.423174",
     "status": "completed"
    },
    "tags": []
   },
   "outputs": [
    {
     "data": {
      "text/plain": [
       "14300000.0    13593\n",
       "1100000.0       311\n",
       "1000000.0       272\n",
       "1300000.0       263\n",
       "2000000.0       256\n",
       "              ...  \n",
       "200400.0          1\n",
       "23800000.0        1\n",
       "111200.0          1\n",
       "277800.0          1\n",
       "100600.0          1\n",
       "Name: boxOffice, Length: 3816, dtype: int64"
      ]
     },
     "execution_count": 81,
     "metadata": {},
     "output_type": "execute_result"
    }
   ],
   "source": [
    "merged_test['boxOffice'].value_counts()"
   ]
  },
  {
   "cell_type": "markdown",
   "id": "b8b29ba5",
   "metadata": {
    "papermill": {
     "duration": 0.102383,
     "end_time": "2023-08-12T09:12:21.746216",
     "exception": false,
     "start_time": "2023-08-12T09:12:21.643833",
     "status": "completed"
    },
    "tags": []
   },
   "source": [
    "## Work on vocabulary  \n",
    "\n",
    "`Build vocabulary from 'reviewText' column`  "
   ]
  },
  {
   "cell_type": "code",
   "execution_count": 82,
   "id": "1fd837ae",
   "metadata": {
    "execution": {
     "iopub.execute_input": "2023-08-12T09:12:21.950610Z",
     "iopub.status.busy": "2023-08-12T09:12:21.950209Z",
     "iopub.status.idle": "2023-08-12T09:12:21.970984Z",
     "shell.execute_reply": "2023-08-12T09:12:21.969951Z"
    },
    "papermill": {
     "duration": 0.125925,
     "end_time": "2023-08-12T09:12:21.973467",
     "exception": false,
     "start_time": "2023-08-12T09:12:21.847542",
     "status": "completed"
    },
    "tags": []
   },
   "outputs": [
    {
     "data": {
      "text/plain": [
       "((162758, 2),\n",
       "                                           reviewText sentiment\n",
       " 0  Henry Selick’s first movie since ’s Coraline. ...  POSITIVE\n",
       " 1  With a cast that reads like the Vogue Oscar pa...  NEGATIVE\n",
       " 2  Creed II does not give us anything but another...  POSITIVE\n",
       " 3  I know what you're thinking, but this is no Li...  POSITIVE\n",
       " 4  Director Fernando Meirelles tells the story wi...  POSITIVE)"
      ]
     },
     "execution_count": 82,
     "metadata": {},
     "output_type": "execute_result"
    }
   ],
   "source": [
    "rt_senti = merged[[\"reviewText\", \"sentiment\"]].copy()\n",
    "rt_senti.shape, rt_senti.head()"
   ]
  },
  {
   "cell_type": "code",
   "execution_count": 83,
   "id": "3d677023",
   "metadata": {
    "execution": {
     "iopub.execute_input": "2023-08-12T09:12:22.178783Z",
     "iopub.status.busy": "2023-08-12T09:12:22.178385Z",
     "iopub.status.idle": "2023-08-12T09:12:22.191493Z",
     "shell.execute_reply": "2023-08-12T09:12:22.190325Z"
    },
    "papermill": {
     "duration": 0.118542,
     "end_time": "2023-08-12T09:12:22.193950",
     "exception": false,
     "start_time": "2023-08-12T09:12:22.075408",
     "status": "completed"
    },
    "tags": []
   },
   "outputs": [
    {
     "data": {
      "text/plain": [
       "((55315, 1),\n",
       "                                           reviewText\n",
       " 0  Green slowly cranks up the dread with style an...\n",
       " 1  Philip Noyce's direction is elegant and unforc...\n",
       " 2  It wouldn't do to say what path Maria ultimate...\n",
       " 3  Pig is not exactly the arthouse John Wick that...\n",
       " 4  An imaginative no-budget musical of sorts abou...)"
      ]
     },
     "execution_count": 83,
     "metadata": {},
     "output_type": "execute_result"
    }
   ],
   "source": [
    "rt_test = pd.DataFrame(merged_test[\"reviewText\"].copy())\n",
    "rt_test.shape, rt_test.head()"
   ]
  },
  {
   "cell_type": "code",
   "execution_count": 84,
   "id": "1d28a0e8",
   "metadata": {
    "execution": {
     "iopub.execute_input": "2023-08-12T09:12:22.398929Z",
     "iopub.status.busy": "2023-08-12T09:12:22.397843Z",
     "iopub.status.idle": "2023-08-12T09:12:22.404660Z",
     "shell.execute_reply": "2023-08-12T09:12:22.403752Z"
    },
    "papermill": {
     "duration": 0.111748,
     "end_time": "2023-08-12T09:12:22.407253",
     "exception": false,
     "start_time": "2023-08-12T09:12:22.295505",
     "status": "completed"
    },
    "tags": []
   },
   "outputs": [],
   "source": [
    "def get_vocab(text_df, ngram_range=(1,1)):\n",
    "    print(f\"Generating vocabulary for ngram_range: {ngram_range}...\")\n",
    "    tvec1 = CountVectorizer(ngram_range=ngram_range, stop_words='english', strip_accents='unicode')\n",
    "    tvec1.fit(text_df)\n",
    "    voc_ngram = set(tvec1.vocabulary_.keys())\n",
    "    return voc_ngram"
   ]
  },
  {
   "cell_type": "code",
   "execution_count": 85,
   "id": "34cc75a6",
   "metadata": {
    "execution": {
     "iopub.execute_input": "2023-08-12T09:12:22.615085Z",
     "iopub.status.busy": "2023-08-12T09:12:22.614315Z",
     "iopub.status.idle": "2023-08-12T09:12:22.624479Z",
     "shell.execute_reply": "2023-08-12T09:12:22.623494Z"
    },
    "papermill": {
     "duration": 0.118873,
     "end_time": "2023-08-12T09:12:22.627265",
     "exception": false,
     "start_time": "2023-08-12T09:12:22.508392",
     "status": "completed"
    },
    "tags": []
   },
   "outputs": [],
   "source": [
    "def get_common_vocab(df_list: list, ngram_range_list: list):\n",
    "    \"\"\"\n",
    "    Get common vocabulary from a list of dataframes.\n",
    "    \"\"\"\n",
    "    final_common_vocab = set()\n",
    "    # Get vocabulary from each dataframe for a given ngram-range\n",
    "    for ngram_range in ngram_range_list:\n",
    "        vocab_ngram = set()\n",
    "        for num, df in enumerate(df_list, start=1):\n",
    "            print(f\"Working on DF#{num} in the list of DFs provided\")\n",
    "            vocab_ngram_df = set(get_vocab(df['reviewText'], ngram_range))\n",
    "            print(f\"Vocabulary size for ngram-range {ngram_range} in DF#{num}: {len(vocab_ngram_df)}\\n\")\n",
    "            if len(vocab_ngram) > 0:\n",
    "                print(f\"Keeping only the common (intersection) words for ngram-range {ngram_range}...\")\n",
    "                vocab_ngram = vocab_ngram.intersection(vocab_ngram_df)\n",
    "            else:\n",
    "                print(f\"Words from the first df for ngram-range {ngram_range} added.\\n\")\n",
    "                vocab_ngram = vocab_ngram_df\n",
    "        print(f\"Common vocabulary for ngram-range {ngram_range}: {len(vocab_ngram)}\\n\")\n",
    "        \n",
    "        if len(final_common_vocab) > 0:\n",
    "            print(f\"Fusing (union) with final common vocabulary: ngram-range = {ngram_range}.\\n\")\n",
    "            final_common_vocab = final_common_vocab.union(vocab_ngram)\n",
    "        else:\n",
    "            print(f\"Appended first time to final common vocabulary: ngram-range = {ngram_range}.\\n\")\n",
    "            final_common_vocab = vocab_ngram\n",
    "    return final_common_vocab"
   ]
  },
  {
   "cell_type": "code",
   "execution_count": 86,
   "id": "dab2d221",
   "metadata": {
    "execution": {
     "iopub.execute_input": "2023-08-12T09:12:22.832364Z",
     "iopub.status.busy": "2023-08-12T09:12:22.831543Z",
     "iopub.status.idle": "2023-08-12T09:12:22.836265Z",
     "shell.execute_reply": "2023-08-12T09:12:22.835471Z"
    },
    "papermill": {
     "duration": 0.110111,
     "end_time": "2023-08-12T09:12:22.838564",
     "exception": false,
     "start_time": "2023-08-12T09:12:22.728453",
     "status": "completed"
    },
    "tags": []
   },
   "outputs": [],
   "source": [
    "# voc_1gram = get_vocab(rt_senti[\"reviewText\"], ngram_range=(1,1))\n",
    "# len(voc_1gram), voc_1gram[:10]"
   ]
  },
  {
   "cell_type": "code",
   "execution_count": 87,
   "id": "2c8689e5",
   "metadata": {
    "execution": {
     "iopub.execute_input": "2023-08-12T09:12:23.042226Z",
     "iopub.status.busy": "2023-08-12T09:12:23.041543Z",
     "iopub.status.idle": "2023-08-12T09:12:23.045899Z",
     "shell.execute_reply": "2023-08-12T09:12:23.045132Z"
    },
    "papermill": {
     "duration": 0.108587,
     "end_time": "2023-08-12T09:12:23.048162",
     "exception": false,
     "start_time": "2023-08-12T09:12:22.939575",
     "status": "completed"
    },
    "tags": []
   },
   "outputs": [],
   "source": [
    "# voc_2gram = get_vocab(rt_senti[\"reviewText\"], ngram_range=(2,2))\n",
    "# len(voc_2gram), voc_2gram[:10]"
   ]
  },
  {
   "cell_type": "code",
   "execution_count": 88,
   "id": "7f590d58",
   "metadata": {
    "execution": {
     "iopub.execute_input": "2023-08-12T09:12:23.251957Z",
     "iopub.status.busy": "2023-08-12T09:12:23.251293Z",
     "iopub.status.idle": "2023-08-12T09:12:23.255818Z",
     "shell.execute_reply": "2023-08-12T09:12:23.254951Z"
    },
    "papermill": {
     "duration": 0.109358,
     "end_time": "2023-08-12T09:12:23.258145",
     "exception": false,
     "start_time": "2023-08-12T09:12:23.148787",
     "status": "completed"
    },
    "tags": []
   },
   "outputs": [],
   "source": [
    "# voc_3gram = get_vocab(rt_senti[\"reviewText\"], ngram_range=(3,3))\n",
    "# len(voc_3gram), voc_3gram[:10]"
   ]
  },
  {
   "cell_type": "code",
   "execution_count": 89,
   "id": "8c7f47f3",
   "metadata": {
    "execution": {
     "iopub.execute_input": "2023-08-12T09:12:23.461689Z",
     "iopub.status.busy": "2023-08-12T09:12:23.460995Z",
     "iopub.status.idle": "2023-08-12T09:12:23.465565Z",
     "shell.execute_reply": "2023-08-12T09:12:23.464740Z"
    },
    "papermill": {
     "duration": 0.109057,
     "end_time": "2023-08-12T09:12:23.467815",
     "exception": false,
     "start_time": "2023-08-12T09:12:23.358758",
     "status": "completed"
    },
    "tags": []
   },
   "outputs": [],
   "source": [
    "# common_unigrams = get_common_vocab([rt_senti, rt_test], ngram_range_list=[(1,1)])\n",
    "# print(len(common_unigrams))\n",
    "# # sorted(list(common_unigrams))"
   ]
  },
  {
   "cell_type": "code",
   "execution_count": 90,
   "id": "4a0fbb43",
   "metadata": {
    "execution": {
     "iopub.execute_input": "2023-08-12T09:12:23.677091Z",
     "iopub.status.busy": "2023-08-12T09:12:23.676247Z",
     "iopub.status.idle": "2023-08-12T09:12:23.681111Z",
     "shell.execute_reply": "2023-08-12T09:12:23.680275Z"
    },
    "papermill": {
     "duration": 0.112288,
     "end_time": "2023-08-12T09:12:23.683489",
     "exception": false,
     "start_time": "2023-08-12T09:12:23.571201",
     "status": "completed"
    },
    "tags": []
   },
   "outputs": [],
   "source": [
    "# common_bigrams = get_common_vocab([rt_senti, rt_test], ngram_range_list=[(2,2)])\n",
    "# print(len(common_bigrams))\n",
    "# # # common_bigrams"
   ]
  },
  {
   "cell_type": "code",
   "execution_count": 91,
   "id": "58ff1c11",
   "metadata": {
    "execution": {
     "iopub.execute_input": "2023-08-12T09:12:23.957885Z",
     "iopub.status.busy": "2023-08-12T09:12:23.957190Z",
     "iopub.status.idle": "2023-08-12T09:12:23.961959Z",
     "shell.execute_reply": "2023-08-12T09:12:23.961184Z"
    },
    "papermill": {
     "duration": 0.17842,
     "end_time": "2023-08-12T09:12:23.964276",
     "exception": false,
     "start_time": "2023-08-12T09:12:23.785856",
     "status": "completed"
    },
    "tags": []
   },
   "outputs": [],
   "source": [
    "# common_1_2_grams = get_common_vocab([rt_senti, rt_test], ngram_range_list=[(1,1), (2,2)])\n",
    "# print(len(common_1_2_grams))\n",
    "# # sorted(list(common_1_2_grams))\n",
    "\n",
    "# # common_1_2_grams = common_unigrams | common_bigrams    # older code"
   ]
  },
  {
   "cell_type": "code",
   "execution_count": 92,
   "id": "c5e838bb",
   "metadata": {
    "execution": {
     "iopub.execute_input": "2023-08-12T09:12:24.167721Z",
     "iopub.status.busy": "2023-08-12T09:12:24.167022Z",
     "iopub.status.idle": "2023-08-12T09:12:24.171602Z",
     "shell.execute_reply": "2023-08-12T09:12:24.170774Z"
    },
    "papermill": {
     "duration": 0.108746,
     "end_time": "2023-08-12T09:12:24.173759",
     "exception": false,
     "start_time": "2023-08-12T09:12:24.065013",
     "status": "completed"
    },
    "tags": []
   },
   "outputs": [],
   "source": [
    "# common_trigrams = get_common_vocab([rt_senti, rt_test], ngram_range_list=[(3,3)])\n",
    "# print(len(common_trigrams))\n",
    "# # common_trigrams"
   ]
  },
  {
   "cell_type": "code",
   "execution_count": 93,
   "id": "776250a5",
   "metadata": {
    "execution": {
     "iopub.execute_input": "2023-08-12T09:12:24.378479Z",
     "iopub.status.busy": "2023-08-12T09:12:24.378029Z",
     "iopub.status.idle": "2023-08-12T09:12:24.382427Z",
     "shell.execute_reply": "2023-08-12T09:12:24.381545Z"
    },
    "papermill": {
     "duration": 0.10976,
     "end_time": "2023-08-12T09:12:24.384913",
     "exception": false,
     "start_time": "2023-08-12T09:12:24.275153",
     "status": "completed"
    },
    "tags": []
   },
   "outputs": [],
   "source": [
    "# common_1_2_3_grams = get_common_vocab([rt_senti, rt_test], ngram_range_list=[(1,1), (2,2), (3,3)])\n",
    "# print(len(common_1_2_3_grams))\n",
    "# # sorted((common_1_2_3_grams))\n",
    "\n",
    "# # common_1_2_3_grams = common_unigrams | common_bigrams | common_trigrams    # Older code  "
   ]
  },
  {
   "cell_type": "markdown",
   "id": "4f9545ab",
   "metadata": {
    "papermill": {
     "duration": 0.107272,
     "end_time": "2023-08-12T09:12:24.594271",
     "exception": false,
     "start_time": "2023-08-12T09:12:24.486999",
     "status": "completed"
    },
    "tags": []
   },
   "source": [
    "### Find common vocabulary between text with positive and negative sentiments in training dataset  "
   ]
  },
  {
   "cell_type": "code",
   "execution_count": 94,
   "id": "9e337283",
   "metadata": {
    "execution": {
     "iopub.execute_input": "2023-08-12T09:12:24.799873Z",
     "iopub.status.busy": "2023-08-12T09:12:24.799018Z",
     "iopub.status.idle": "2023-08-12T09:12:24.849643Z",
     "shell.execute_reply": "2023-08-12T09:12:24.848242Z"
    },
    "papermill": {
     "duration": 0.156526,
     "end_time": "2023-08-12T09:12:24.852275",
     "exception": false,
     "start_time": "2023-08-12T09:12:24.695749",
     "status": "completed"
    },
    "tags": []
   },
   "outputs": [
    {
     "data": {
      "text/plain": [
       "(108761, 2)"
      ]
     },
     "execution_count": 94,
     "metadata": {},
     "output_type": "execute_result"
    }
   ],
   "source": [
    "# Dataframe for positive sentiment\n",
    "rt_senti_pos = rt_senti.loc[rt_senti['sentiment'] == 'POSITIVE'].copy()\n",
    "rt_senti_pos.shape"
   ]
  },
  {
   "cell_type": "code",
   "execution_count": 95,
   "id": "7a636a39",
   "metadata": {
    "execution": {
     "iopub.execute_input": "2023-08-12T09:12:25.057020Z",
     "iopub.status.busy": "2023-08-12T09:12:25.056606Z",
     "iopub.status.idle": "2023-08-12T09:12:25.102163Z",
     "shell.execute_reply": "2023-08-12T09:12:25.101062Z"
    },
    "papermill": {
     "duration": 0.150519,
     "end_time": "2023-08-12T09:12:25.104646",
     "exception": false,
     "start_time": "2023-08-12T09:12:24.954127",
     "status": "completed"
    },
    "tags": []
   },
   "outputs": [
    {
     "data": {
      "text/plain": [
       "(53997, 2)"
      ]
     },
     "execution_count": 95,
     "metadata": {},
     "output_type": "execute_result"
    }
   ],
   "source": [
    "# Dataframe for negative sentiment\n",
    "rt_senti_neg = rt_senti.loc[rt_senti['sentiment'] == 'NEGATIVE'].copy()\n",
    "rt_senti_neg.shape"
   ]
  },
  {
   "cell_type": "code",
   "execution_count": 96,
   "id": "f977543f",
   "metadata": {
    "execution": {
     "iopub.execute_input": "2023-08-12T09:12:25.309916Z",
     "iopub.status.busy": "2023-08-12T09:12:25.309513Z",
     "iopub.status.idle": "2023-08-12T09:12:25.314602Z",
     "shell.execute_reply": "2023-08-12T09:12:25.313413Z"
    },
    "papermill": {
     "duration": 0.110693,
     "end_time": "2023-08-12T09:12:25.316946",
     "exception": false,
     "start_time": "2023-08-12T09:12:25.206253",
     "status": "completed"
    },
    "tags": []
   },
   "outputs": [],
   "source": [
    "# Generate stop words/phrases specific for this project data  \n",
    "\n",
    "# common_1_2_3_grams_sentiment = get_common_vocab([rt_senti_pos, rt_senti_neg], ngram_range_list=[(1,1), (2,2), (3,3)])\n",
    "# print(len(common_1_2_3_grams_sentiment))\n",
    "# # sorted(list(common_1_2_3_grams_sentiment))"
   ]
  },
  {
   "cell_type": "code",
   "execution_count": 97,
   "id": "9113cb39",
   "metadata": {
    "execution": {
     "iopub.execute_input": "2023-08-12T09:12:25.523905Z",
     "iopub.status.busy": "2023-08-12T09:12:25.523460Z",
     "iopub.status.idle": "2023-08-12T09:12:25.528182Z",
     "shell.execute_reply": "2023-08-12T09:12:25.527104Z"
    },
    "papermill": {
     "duration": 0.111693,
     "end_time": "2023-08-12T09:12:25.530592",
     "exception": false,
     "start_time": "2023-08-12T09:12:25.418899",
     "status": "completed"
    },
    "tags": []
   },
   "outputs": [],
   "source": [
    "# Generate and store the entire vocabulary of training data  \n",
    "\n",
    "# train_1_2_3_grams = get_vocab(rt_senti['reviewText'], ngram_range=(1,3))\n",
    "# print(len(train_1_2_3_grams))\n",
    "# # sorted(train_1_2_3_grams)"
   ]
  },
  {
   "cell_type": "code",
   "execution_count": 98,
   "id": "65618bb1",
   "metadata": {
    "execution": {
     "iopub.execute_input": "2023-08-12T09:12:25.741308Z",
     "iopub.status.busy": "2023-08-12T09:12:25.740876Z",
     "iopub.status.idle": "2023-08-12T09:12:25.746007Z",
     "shell.execute_reply": "2023-08-12T09:12:25.744923Z"
    },
    "papermill": {
     "duration": 0.111347,
     "end_time": "2023-08-12T09:12:25.748323",
     "exception": false,
     "start_time": "2023-08-12T09:12:25.636976",
     "status": "completed"
    },
    "tags": []
   },
   "outputs": [],
   "source": [
    "# type(train_1_2_3_grams)"
   ]
  },
  {
   "cell_type": "code",
   "execution_count": 99,
   "id": "c2261ab8",
   "metadata": {
    "execution": {
     "iopub.execute_input": "2023-08-12T09:12:25.954337Z",
     "iopub.status.busy": "2023-08-12T09:12:25.953885Z",
     "iopub.status.idle": "2023-08-12T09:12:25.958660Z",
     "shell.execute_reply": "2023-08-12T09:12:25.957475Z"
    },
    "papermill": {
     "duration": 0.110744,
     "end_time": "2023-08-12T09:12:25.960967",
     "exception": false,
     "start_time": "2023-08-12T09:12:25.850223",
     "status": "completed"
    },
    "tags": []
   },
   "outputs": [],
   "source": [
    "# Get the vocabulary that should be used in the final models  \n",
    "# relevant_vocab = train_1_2_3_grams - common_1_2_3_grams_sentiment\n",
    "# print(len(relevant_vocab))"
   ]
  },
  {
   "cell_type": "markdown",
   "id": "4c461438",
   "metadata": {
    "papermill": {
     "duration": 0.100853,
     "end_time": "2023-08-12T09:12:26.163115",
     "exception": false,
     "start_time": "2023-08-12T09:12:26.062262",
     "status": "completed"
    },
    "tags": []
   },
   "source": [
    "## Submit_v4 for merged file models  "
   ]
  },
  {
   "cell_type": "markdown",
   "id": "e2953775",
   "metadata": {
    "papermill": {
     "duration": 0.100548,
     "end_time": "2023-08-12T09:12:26.365436",
     "exception": false,
     "start_time": "2023-08-12T09:12:26.264888",
     "status": "completed"
    },
    "tags": []
   },
   "source": [
    "### More Helper functions  "
   ]
  },
  {
   "cell_type": "code",
   "execution_count": 100,
   "id": "0fba29d1",
   "metadata": {
    "execution": {
     "iopub.execute_input": "2023-08-12T09:12:26.570429Z",
     "iopub.status.busy": "2023-08-12T09:12:26.569984Z",
     "iopub.status.idle": "2023-08-12T09:12:26.577604Z",
     "shell.execute_reply": "2023-08-12T09:12:26.576418Z"
    },
    "papermill": {
     "duration": 0.113308,
     "end_time": "2023-08-12T09:12:26.579892",
     "exception": false,
     "start_time": "2023-08-12T09:12:26.466584",
     "status": "completed"
    },
    "tags": []
   },
   "outputs": [],
   "source": [
    "# Testing predictions on missing reviewtext columns  \n",
    "\n",
    "def predict_on_missing_review_data(pipe, selected_features, merged_train):\n",
    "    missing_reviews_train = merged_train.loc[merged_train['reviewYN'] == 1]\n",
    "    missing_reviews_train.reset_index(drop=True)\n",
    "    X_train_miss_revs = missing_reviews_train.drop('sentiment', axis = 1)\n",
    "    X_train_miss_revs = X_train_miss_revs[selected_features]\n",
    "    y_train_miss_revs = missing_reviews_train['sentiment']\n",
    "    \n",
    "    y_pred_miss_revs = pipe.predict(X_train_miss_revs)\n",
    "#     print('Predictions on rows which had missing reviewText')\n",
    "    print(\"Confusion matrix and f1-score for rows which have no reviewText in X_train: \")\n",
    "    print(confusion_matrix(y_train_miss_revs, y_pred_miss_revs, labels=pipe.classes_))\n",
    "    \n",
    "    return f1_score(y_train_miss_revs, y_pred_miss_revs, average='micro')"
   ]
  },
  {
   "cell_type": "code",
   "execution_count": 101,
   "id": "e129145e",
   "metadata": {
    "execution": {
     "iopub.execute_input": "2023-08-12T09:12:26.785800Z",
     "iopub.status.busy": "2023-08-12T09:12:26.785398Z",
     "iopub.status.idle": "2023-08-12T09:12:26.819240Z",
     "shell.execute_reply": "2023-08-12T09:12:26.818239Z"
    },
    "papermill": {
     "duration": 0.139972,
     "end_time": "2023-08-12T09:12:26.821936",
     "exception": false,
     "start_time": "2023-08-12T09:12:26.681964",
     "status": "completed"
    },
    "tags": []
   },
   "outputs": [],
   "source": [
    "# Function to build pipelines for GridSearchCV which goes into the final 'submit' function  \n",
    "def build_pipeline(selected_model=LogisticRegression(), \n",
    "                   selected_features={'txt': ['reviewText']}, \n",
    "                   param_grid=None,\n",
    "                   vocab=None,\n",
    "                   vocab_usage='tfidf',\n",
    "                   strip_accents='unicode', \n",
    "                   add_countvec=False):\n",
    "    # Encoders  \n",
    "    ohe = OneHotEncoder(sparse_output=False, handle_unknown='ignore')\n",
    "    MMscaler = MinMaxScaler()\n",
    "    StdScaler = StandardScaler()\n",
    "    RobScaler = RobustScaler()\n",
    "    \n",
    "    # Text features ['reviewText', 'reviewerName', 'movieid', 'genre', 'director']\n",
    "    tfidf_vec = TfidfVectorizer(ngram_range=(1,2))\n",
    "    count_vec = CountVectorizer(ngram_range=(1,2))\n",
    "    txt_pipe = Pipeline(steps=[\n",
    "                            (\"tvec\", TfidfVectorizer(ngram_range=(1,3), strip_accents=strip_accents))    # Adjust ngram_range here for reviewText\n",
    "                        ])\n",
    "    txt_pipe_vocab = Pipeline(steps=[\n",
    "                            (\"tvec\", TfidfVectorizer(ngram_range=(1,3), strip_accents=strip_accents, vocabulary=vocab))    # Adjust ngram_range here for reviewText\n",
    "                        ])\n",
    "    txt_pipe_2 = Pipeline(steps=[\n",
    "                            (\"tvec\", TfidfVectorizer(ngram_range=(2,2)))\n",
    "                        ])\n",
    "    txt_pipe_3 = Pipeline(steps=[\n",
    "                            (\"tvec\", TfidfVectorizer(ngram_range=(1,1)))\n",
    "                        ])\n",
    "    txt_pipe_4 = Pipeline(steps=[\n",
    "                            (\"tvec\", TfidfVectorizer(ngram_range=(1,3)))    # Adjust ngram_range here for reviewText\n",
    "                        ])\n",
    "    txt_pipe_title  = Pipeline(steps=[\n",
    "                            (\"tvec\", TfidfVectorizer(ngram_range=(1,5)))    # Adjust ngram_range here for reviewText\n",
    "                        ])\n",
    "    \n",
    "    # Additional pipes for count vectorizer\n",
    "    txt_pipe_countvec = Pipeline(steps=[\n",
    "                            (\"cvec\", CountVectorizer(ngram_range=(1,3), strip_accents=strip_accents))    # Adjust ngram_range here for reviewText\n",
    "                        ])\n",
    "    txt_pipe_countvec_vocab = Pipeline(steps=[\n",
    "                            (\"cvec\", CountVectorizer(ngram_range=(1,3), strip_accents=strip_accents, vocabulary=vocab))    # Adjust ngram_range here for reviewText\n",
    "                        ])\n",
    "    \n",
    "    txt_pipe_countvec_ratingContents = Pipeline(steps=[\n",
    "                            (\"cvec\", CountVectorizer(ngram_range=(1,5)))    # Adjust ngram_range here for reviewText\n",
    "                        ])\n",
    "    txt_pipe_countvec_rcSorted = Pipeline(steps=[\n",
    "                            (\"cvec\", CountVectorizer(ngram_range=(1,1)))    # Adjust ngram_range here for reviewText\n",
    "                        ])\n",
    "    txt_pipe_countvec_genre = Pipeline(steps=[\n",
    "                            (\"cvec\", CountVectorizer(ngram_range=(1,1)))\n",
    "                        ])\n",
    "    txt_pipe_countvec_genreSorted = Pipeline(steps=[\n",
    "                            (\"cvec\", CountVectorizer(ngram_range=(1,5)))\n",
    "                        ])\n",
    "    txt_pipe_countvec_distributor = Pipeline(steps=[\n",
    "                            (\"cvec\", CountVectorizer(ngram_range=(1,3)))    # Adjust ngram_range here for reviewText\n",
    "                        ])\n",
    "    txt_pipe_countvec_title = Pipeline(steps=[\n",
    "                            (\"cvec\", CountVectorizer(ngram_range=(1,5), strip_accents=strip_accents))\n",
    "                        ])\n",
    "    txt_pipe_countvec_movieid = Pipeline(steps=[\n",
    "                            (\"cvec\", CountVectorizer(ngram_range=(1,1)))\n",
    "                        ])\n",
    "    # Basic pipes  \n",
    "    TFs = []\n",
    "    try:\n",
    "        for c in selected_features['cat']:\n",
    "            TFs.append((f\"cat_{c}\", ohe, [c]))\n",
    "    except:\n",
    "        pass\n",
    "    try:\n",
    "        for n in selected_features['num']:\n",
    "            if n in [\"runtimeMinutes\", \"boxOffice\", \"releaseDiff\"]:\n",
    "                TFs.append((f\"num_{n}\", RobScaler, [n]))\n",
    "                TFs.append((f\"num_{n}_ss\", StdScaler, [n]))\n",
    "                \n",
    "            else:\n",
    "                TFs.append((f\"num_{n}\", StdScaler, [n]))\n",
    "    except:\n",
    "        pass\n",
    "    try:\n",
    "        for t in selected_features['txt']:\n",
    "            if t in ['director', 'reviewerName']:\n",
    "                TFs.append((f\"txt_{t}\", txt_pipe_2, t))\n",
    "            elif t in [\"originalLanguage\", \"releaseYear\"]:\n",
    "                TFs.append((f\"txt_{t}\", txt_pipe_3, t))\n",
    "            elif t in ['genre']:\n",
    "                TFs.append((f\"txt_{t}\", txt_pipe_countvec_genre, t))\n",
    "            elif t in [\"genreSorted\"]:\n",
    "                TFs.append((f\"txt_{t}\", txt_pipe_countvec_genreSorted, t))\n",
    "            elif t in [\"distributor\"]:\n",
    "                TFs.append((f\"txt_{t}\", txt_pipe_countvec_distributor, t))\n",
    "            elif t in ['reviewText']:\n",
    "#                 if vocab and (vocab_usage in [\"tfidf\", \"both\"]):\n",
    "#                     txt_pipe.set_params(tvec__vocabulary=vocab)\n",
    "#                     txt_pipe.set_params(tvec__stop_words='english')\n",
    "                TFs.append((f\"txt_{t}\", txt_pipe, t))\n",
    "            elif t in ['reviewText_2']:\n",
    "                if add_countvec:\n",
    "#                     if vocab and (vocab_usage in [\"count\", \"both\"]):\n",
    "#                         txt_pipe_countvec.set_params(cvec__vocabulary=vocab)\n",
    "#                         txt_pipe_countvec.set_params(cvec__stop_words='english')\n",
    "                    TFs.append((f\"txt_{t}\", txt_pipe_countvec, t))\n",
    "            elif t in ['reviewText_3']:\n",
    "                if vocab_usage == 'tfidf':\n",
    "                    TFs.append((f\"txt_{t}\", txt_pipe_vocab, t))\n",
    "                elif vocab_usage == 'count':\n",
    "                    TFs.append((f\"txt_{t}\", txt_pipe_countvec_vocab, t))\n",
    "            elif t in [\"ratingContents\"]:\n",
    "                TFs.append((f\"txt_{t}\", txt_pipe_countvec_ratingContents, t))\n",
    "            elif t in [\"rcSorted\"]:\n",
    "                TFs.append((f\"txt_{t}\", txt_pipe_countvec_rcSorted, t))\n",
    "            elif t in [\"title\"]:\n",
    "                TFs.append((f\"txt_{t}\", txt_pipe_title, t))\n",
    "            elif t in [\"movieid\"]:\n",
    "                TFs.append((f\"txt_{t}\", txt_pipe_countvec_movieid, t))\n",
    "            else:\n",
    "                pass\n",
    "    except:\n",
    "        pass\n",
    "\n",
    "    # Build ColumnTransformer  \n",
    "    ct = ColumnTransformer(transformers=TFs, remainder='drop')\n",
    "\n",
    "    # Build Pipeline\n",
    "    pipe = Pipeline(steps=[('ct', ct), ('model', selected_model)])\n",
    "    print(\"\\nPipeline built successfully.\")\n",
    "\n",
    "    # Use the pipe in GridSearchCV\n",
    "    if param_grid == None:\n",
    "        param_grid_temp = {\"model__C\": [1],\n",
    "                     'model__solver': ['liblinear']}\n",
    "        print(\"Full GridSearchCV pipeline built successfully with basic default param_grid.\\n\")\n",
    "        pipeCV = GridSearchCV(pipe, param_grid_temp, cv=10, scoring=\"f1_micro\", n_jobs=-1)\n",
    "        return pipeCV\n",
    "    \n",
    "    # GridSearchCV if param_grid provided\n",
    "    if param_grid:\n",
    "        pipeCV = GridSearchCV(pipe, param_grid, cv=10, scoring=\"f1_micro\", n_jobs=-1)\n",
    "        print(\"\\nFull GridSearchCV pipeline built successfully.\")\n",
    "        return pipeCV"
   ]
  },
  {
   "cell_type": "code",
   "execution_count": 102,
   "id": "4d89fa99",
   "metadata": {
    "execution": {
     "iopub.execute_input": "2023-08-12T09:12:27.028074Z",
     "iopub.status.busy": "2023-08-12T09:12:27.027647Z",
     "iopub.status.idle": "2023-08-12T09:12:27.044361Z",
     "shell.execute_reply": "2023-08-12T09:12:27.043290Z"
    },
    "papermill": {
     "duration": 0.122388,
     "end_time": "2023-08-12T09:12:27.046990",
     "exception": false,
     "start_time": "2023-08-12T09:12:26.924602",
     "status": "completed"
    },
    "tags": []
   },
   "outputs": [],
   "source": [
    "def preprocessor():\n",
    "    \n",
    "    # Merge and preprocess train and movies data  \n",
    "    merged = select_features(load_csv(\"train\"), load_csv(\"movies\"), row_thresh_null=None)    # Decide if you want to drop any rows containing lot of nulls\n",
    "    # Impute missing numerical values  \n",
    "    # Simple Imputer for ['audienceScore', 'runtimeMinutes', 'boxOffice'] and 'releaseDate' columns\n",
    "    si = SimpleImputer(strategy='median')\n",
    "    merged[['audienceScore', 'runtimeMinutes', 'boxOffice']] = si.fit_transform(merged[['audienceScore', 'runtimeMinutes', 'boxOffice']])\n",
    "    merged['releaseDate'] = merged[\"releaseDate\"].fillna(merged[\"releaseDate\"].median())    \n",
    "\n",
    "    # Create new feature columns\n",
    "    \n",
    "    # Convert audienceScore to categories  \n",
    "    num_bins_as = 20\n",
    "    merged[\"audScoreBins\"] = pd.cut(merged['audienceScore'], bins=num_bins_as, labels=False)\n",
    "\n",
    "    # Convert runtimeMinutes to categories  \n",
    "#     num_bins_rt = 20\n",
    "    merged[\"runtimeBins\"] = pd.cut(merged['runtimeMinutes'], bins=[0,75,120,180,565], labels=[4,3,2,1])\n",
    "    \n",
    "    # Convert boxOffice to categories  \n",
    "    num_bins_bo = 5\n",
    "    merged[\"boxOfficeBins\"] = pd.cut(merged['boxOffice'], bins=num_bins_bo, labels=False)\n",
    "    \n",
    "    # Convert releaseDiff to categories  \n",
    "    num_bins_rd = 5\n",
    "    merged[\"releaseDiffBins\"] = pd.cut(merged['releaseDiff'], bins=[-1, 180, 360, 1000, 40000], labels=[0, 1, 2, 3])\n",
    "    \n",
    "    # Check1 (preprocessor)\n",
    "    print(\"\\nCheck 1 (preprocessor) complete.\")\n",
    "    print(f\"Shape of X_train: {merged.shape}\")\n",
    "    print(f\"Features in X_train: {merged.columns}\")\n",
    "\n",
    "\n",
    "    \n",
    "    # Merge and preprocess test and movies data  \n",
    "    merged_test = select_features(load_csv(\"test\"), load_csv(\"movies\"))\n",
    "    # Transform ['audienceScore', 'runtimeMinutes', 'boxOffice'] columns in merged_test using 'si' fitted on 'merged' df  \n",
    "    merged_test[['audienceScore', 'runtimeMinutes', 'boxOffice']] = si.transform(merged_test[['audienceScore', 'runtimeMinutes', 'boxOffice']])\n",
    "    # Fill 'releaseDate' column in 'merged_test' df with median from the train (merged) df  \n",
    "    merged_test['releaseDate'] = merged_test[\"releaseDate\"].fillna(merged[\"releaseDate\"].median())\n",
    "\n",
    "    \n",
    "    # Create new feature columns\n",
    "    \n",
    "    # Convert audienceScore to categories  \n",
    "    num_bins_as = 20\n",
    "    merged_test[\"audScoreBins\"] = pd.cut(merged_test['audienceScore'], bins=num_bins_as, labels=False)\n",
    "    \n",
    "    # Convert runtimeMinutes to categories  \n",
    "#     num_bins_rt = 20\n",
    "    merged_test[\"runtimeBins\"] = pd.cut(merged_test['runtimeMinutes'], bins=[0,75,120,180,565], labels=[4,3,2,1])\n",
    "    \n",
    "    # Convert boxOffice to categories  \n",
    "    num_bins_bo = 5\n",
    "    merged_test[\"boxOfficeBins\"] = pd.cut(merged_test['boxOffice'], bins=num_bins_bo, labels=False)\n",
    "    \n",
    "    # Convert releaseDiff to categories  \n",
    "    num_bins_rd = 5\n",
    "    merged_test[\"releaseDiffBins\"] = pd.cut(merged_test['releaseDiff'], bins=[-1, 180, 360, 1000, 40000], labels=[0, 1, 2, 3])\n",
    "    \n",
    "    \n",
    "    # Check2 (preprocessor)\n",
    "    print(\"\\nCheck 2 (preprocessor) complete.\")\n",
    "    print(f\"Shape of X_test: {merged_test.shape}\")\n",
    "    print(f\"Features in X_test: {merged_test.columns}\")\n",
    "\n",
    "    return merged, merged_test\n",
    "    "
   ]
  },
  {
   "cell_type": "code",
   "execution_count": 103,
   "id": "e932e0ef",
   "metadata": {
    "execution": {
     "iopub.execute_input": "2023-08-12T09:12:27.256384Z",
     "iopub.status.busy": "2023-08-12T09:12:27.255921Z",
     "iopub.status.idle": "2023-08-12T09:12:27.260871Z",
     "shell.execute_reply": "2023-08-12T09:12:27.259620Z"
    },
    "papermill": {
     "duration": 0.11442,
     "end_time": "2023-08-12T09:12:27.263211",
     "exception": false,
     "start_time": "2023-08-12T09:12:27.148791",
     "status": "completed"
    },
    "tags": []
   },
   "outputs": [],
   "source": [
    "# merged, merged_test = preprocessor()\n",
    "# merged.shape, merged_test.shape"
   ]
  },
  {
   "cell_type": "code",
   "execution_count": 104,
   "id": "a17c026e",
   "metadata": {
    "execution": {
     "iopub.execute_input": "2023-08-12T09:12:27.490584Z",
     "iopub.status.busy": "2023-08-12T09:12:27.489788Z",
     "iopub.status.idle": "2023-08-12T09:12:27.519419Z",
     "shell.execute_reply": "2023-08-12T09:12:27.518189Z"
    },
    "papermill": {
     "duration": 0.140326,
     "end_time": "2023-08-12T09:12:27.521758",
     "exception": false,
     "start_time": "2023-08-12T09:12:27.381432",
     "status": "completed"
    },
    "tags": []
   },
   "outputs": [],
   "source": [
    "def submit_v5(classifiers= [\n",
    "                {'selected_model' : LogisticRegression(C=1, solver='saga', max_iter=100000), \n",
    "                  'selected_features' : {'num': ['audienceScore']}, \n",
    "                  'param_grid' : None,\n",
    "                  'vocab' : None,\n",
    "                  'vocab_usage' : 'tfidf',\n",
    "                  'strip_accents' : 'unicode', \n",
    "                  'add_countvec' : False}\n",
    "              ]):\n",
    "    \n",
    "    \"\"\"Takes a list of dictionaries each with same keys as mentioned in the default dictionary in function definition\"\"\"\n",
    "    \n",
    "    print(\"\\nRunning the submit_v5 function...\")\n",
    "    \n",
    "    merged, merged_test = preprocessor()\n",
    "    print(f\"Preprocessing of train and test datasets complete.\")\n",
    "    \n",
    "    # Build vocabulary (if vocab is True)\n",
    "    vocab = None\n",
    "    for item in classifiers:\n",
    "        if item['vocab']:\n",
    "            vocab = True\n",
    "            break\n",
    "    \n",
    "    if vocab == True:\n",
    "        # Generate and store the entire vocabulary of training data  \n",
    "        print(f\"Generating stop words/phrases specific for this project data...\")\n",
    "        train_1_2_3_grams = get_vocab(merged['reviewText'], ngram_range=(1,3))\n",
    "        print(f\"Size of vocabulary of training data: {len(train_1_2_3_grams)}\")\n",
    "        # sorted(train_1_2_3_grams)\n",
    "\n",
    "        # Generate stop words/phrases specific for this project data  \n",
    "        print(f\"Generating stop words/phrases specific for this project data...\")\n",
    "        common_1_2_3_grams = get_common_vocab([merged, merged_test], ngram_range_list=[(1,1), (2,2), (3,3)])\n",
    "        print(f\"Number of stop words: {len(common_1_2_3_grams)}\")\n",
    "\n",
    "        # Get the vocabulary that should be used in the final models  \n",
    "        print(f\"Getting the vocabulary that will be fed to the final model(s)...\")\n",
    "        relevant_vocab = list(train_1_2_3_grams - common_1_2_3_grams)\n",
    "        print(f\"Size of the final relevant vocabulary: {len(relevant_vocab)}\")\n",
    "    else:\n",
    "        pass\n",
    "    \n",
    "    \n",
    "    # Create a list to store estimators  \n",
    "    estimators = []     # List of tuples of the form ('classifier_name', 'classifer_instance')\n",
    "    \n",
    "    # Build a dataframe of predictions  \n",
    "    predictions_df = pd.DataFrame()\n",
    "    \n",
    "    # Build a separate pipeline and fit it on selected features (and param_grid) for each item in classifiers list\n",
    "    for n, item in enumerate(classifiers, start=1):\n",
    "        selected_model = item['selected_model']\n",
    "        selected_features = item['selected_features']\n",
    "        param_grid = item['param_grid']\n",
    "        vocab = item['vocab']\n",
    "        vocab_usage = item['vocab_usage']\n",
    "        strip_accents = item['strip_accents']\n",
    "        add_countvec = item['add_countvec']\n",
    "    \n",
    "    \n",
    "        # Fine tune selected_features\n",
    "        if add_countvec:\n",
    "            if 'txt' in selected_features.keys():\n",
    "                if \"reviewText_2\" not in selected_features['txt']:\n",
    "                    selected_features['txt'].append('reviewText_2')\n",
    "        if vocab:\n",
    "            if 'txt' in selected_features.keys():\n",
    "                if \"reviewText_3\" not in selected_features['txt']:\n",
    "                    selected_features['txt'].append('reviewText_3')\n",
    "        else:\n",
    "            print(f\"No vocabulary provided/used for this model.\")\n",
    "        print(f\"\\nSelected features: {selected_features}\")\n",
    "        \n",
    "        if type(vocab) in [type([1, 2]), type({1, 2})]:\n",
    "            vocab = vocab\n",
    "        elif vocab == True:\n",
    "            vocab = common_1_2_3_grams    # Choose vocabulary here\n",
    "\n",
    "        # Modify X_train for the given 'item' by creating a custom 'features' list\n",
    "        features = []\n",
    "        for item in selected_features.values():\n",
    "            features.extend(item)\n",
    "            \n",
    "        # Add new columns as needed  \n",
    "        if add_countvec:\n",
    "            merged['reviewText_2'] = merged['reviewText']\n",
    "        if vocab:\n",
    "            merged['reviewText_3'] = merged['reviewText']\n",
    "        \n",
    "        # Create X_tran, y_train\n",
    "        X_train = merged.drop(labels=\"sentiment\", axis=1)\n",
    "        y_train = merged[\"sentiment\"]\n",
    "        \n",
    "        X_train = merged[features].copy()\n",
    "\n",
    "\n",
    "        # Build Pipeline\n",
    "        pipe = build_pipeline(selected_model, selected_features, param_grid=param_grid, \n",
    "                              vocab=vocab, vocab_usage='tfidf', \n",
    "                              strip_accents=strip_accents, add_countvec=add_countvec)\n",
    "        print(pipe)\n",
    "\n",
    "        \n",
    "        # Fit \n",
    "        print(f\"\\nTraining started with full pipeline for classifier #{n}/{len(classifiers)}...\")\n",
    "        pipe.fit(X_train, y_train)\n",
    "        \n",
    "\n",
    "        # Check1\n",
    "        print(f\"\\nCheck #{n}.1 complete.\")\n",
    "        print(f\"Details of the best model using classifier #{n} (GridSearchCV) on X_train: \")\n",
    "        print(f\"Best Params: {pipe.best_params_}\")\n",
    "        print(f\"Best Score: {pipe.best_score_}\")\n",
    "        \n",
    "        print(predict_on_missing_review_data(pipe, features, merged))    # Function defined above\n",
    "        \n",
    "        estimators.append((f\"classifier_{n}\", pipe))\n",
    "        print(f\"classifier_{n} successfully added to 'estimators' list\")\n",
    "\n",
    "        \n",
    "        # Predict on train data \n",
    "        y_train_pred = pipe.predict(X_train)\n",
    "        print(f\"Confusion matrix for predictions on training data: \")\n",
    "        print(confusion_matrix(y_train, y_train_pred))\n",
    "        f1_train = f1_score(y_train, y_train_pred, average=\"micro\")\n",
    "        print(f\"F1-score on training data: {f1_train}\")\n",
    "        \n",
    "        \n",
    "        # Predict on test.csv file\n",
    "        # Add new columns as needed \n",
    "        if add_countvec:\n",
    "            merged_test['reviewText_2'] = merged_test['reviewText']\n",
    "        if vocab:\n",
    "            merged_test['reviewText_3'] = merged_test['reviewText']\n",
    "        \n",
    "               \n",
    "        X_test = merged_test[features].copy()\n",
    "\n",
    "    \n",
    "        y_pred = pipe.predict(X_test)\n",
    "        \n",
    "        # Insert predictions in 'predictions_df' dataframe\n",
    "        predictions_df.insert(n-1, f\"pred_{n}\", y_pred, allow_duplicates=False)\n",
    "        print(predictions_df.shape)\n",
    "        print(predictions_df.head(10))\n",
    "        \n",
    "    \n",
    "        # Check2\n",
    "        print(f\"\\nCheck #{n}.2 complete.\")\n",
    "    #     cv_results_df = pd.DataFrame(pipe.cv_results_)\n",
    "        print(\"Details of the best model using full pipeline (GridSearchCV) on X_train: \")\n",
    "#         print(f\"Best Estimator: {pipe.best_estimator_}\")\n",
    "        print(f\"Best Params: {pipe.best_params_}\")\n",
    "        print(f\"Best Score: {pipe.best_score_}\")\n",
    "#         print(f\"Best Index: {pipe.best_index_}\")\n",
    "        print(f\"Refit Time: {pipe.refit_time_}\")\n",
    "    #     print(f\"Shape of CV results dataframe: {cv_results_df.shape}\")\n",
    "    \n",
    "    # Voting classifier (custom) with hard voting\n",
    "    # Calculate the MODE for all predictions (Note that the 'predictions_df' generated above should have odd number of columns)\n",
    "    pred_df_final = predictions_df.mode('columns')\n",
    "    pred_df_final.columns = [\"sentiment\"]\n",
    "    pred_df_final.index.name = \"id\"\n",
    "    pred_df_final.to_csv(\"submission.csv\")\n",
    "    \n",
    "    print(\"\\nSuccessfully created the submission file!!!\")\n",
    "    \n",
    "#     return pipe.cv_results_\n",
    "    return pred_df_final, estimators"
   ]
  },
  {
   "cell_type": "markdown",
   "id": "897a698d",
   "metadata": {
    "papermill": {
     "duration": 0.102024,
     "end_time": "2023-08-12T09:12:27.728826",
     "exception": false,
     "start_time": "2023-08-12T09:12:27.626802",
     "status": "completed"
    },
    "tags": []
   },
   "source": [
    "## Use 'submit_v5' function  "
   ]
  },
  {
   "cell_type": "code",
   "execution_count": 105,
   "id": "818adbb0",
   "metadata": {
    "execution": {
     "iopub.execute_input": "2023-08-12T09:12:27.934842Z",
     "iopub.status.busy": "2023-08-12T09:12:27.934386Z",
     "iopub.status.idle": "2023-08-12T09:12:27.938679Z",
     "shell.execute_reply": "2023-08-12T09:12:27.937569Z"
    },
    "papermill": {
     "duration": 0.109559,
     "end_time": "2023-08-12T09:12:27.941206",
     "exception": false,
     "start_time": "2023-08-12T09:12:27.831647",
     "status": "completed"
    },
    "tags": []
   },
   "outputs": [],
   "source": [
    "# Try submit_v5 with default settings\n",
    "# submit_v5()"
   ]
  },
  {
   "cell_type": "code",
   "execution_count": 106,
   "id": "b2706935",
   "metadata": {
    "execution": {
     "iopub.execute_input": "2023-08-12T09:12:28.147402Z",
     "iopub.status.busy": "2023-08-12T09:12:28.146987Z",
     "iopub.status.idle": "2023-08-12T09:38:11.739688Z",
     "shell.execute_reply": "2023-08-12T09:38:11.738289Z"
    },
    "papermill": {
     "duration": 1543.806861,
     "end_time": "2023-08-12T09:38:11.850569",
     "exception": false,
     "start_time": "2023-08-12T09:12:28.043708",
     "status": "completed"
    },
    "tags": []
   },
   "outputs": [
    {
     "name": "stdout",
     "output_type": "stream",
     "text": [
      "\n",
      "Running the submit_v5 function...\n",
      "\n",
      "Check 1 (preprocessor) complete.\n",
      "Shape of X_train: (162758, 30)\n",
      "Features in X_train: Index(['movieid', 'reviewerName', 'isFrequentReviewer', 'reviewText',\n",
      "       'sentiment', 'title', 'audienceScore', 'rating', 'ratingContents',\n",
      "       'releaseDateTheaters', 'releaseDateStreaming', 'runtimeMinutes',\n",
      "       'genre', 'originalLanguage', 'director', 'boxOffice', 'distributor',\n",
      "       'soundType', 'reviewYN', 'reviewWC', 'genreSorted', 'rcSorted',\n",
      "       'releaseDate', 'releaseYear', 'releaseMonth', 'releaseDiff',\n",
      "       'audScoreBins', 'runtimeBins', 'boxOfficeBins', 'releaseDiffBins'],\n",
      "      dtype='object')\n",
      "\n",
      "Check 2 (preprocessor) complete.\n",
      "Shape of X_test: (55315, 29)\n",
      "Features in X_test: Index(['movieid', 'reviewerName', 'isFrequentReviewer', 'reviewText', 'title',\n",
      "       'audienceScore', 'rating', 'ratingContents', 'releaseDateTheaters',\n",
      "       'releaseDateStreaming', 'runtimeMinutes', 'genre', 'originalLanguage',\n",
      "       'director', 'boxOffice', 'distributor', 'soundType', 'reviewYN',\n",
      "       'reviewWC', 'genreSorted', 'rcSorted', 'releaseDate', 'releaseYear',\n",
      "       'releaseMonth', 'releaseDiff', 'audScoreBins', 'runtimeBins',\n",
      "       'boxOfficeBins', 'releaseDiffBins'],\n",
      "      dtype='object')\n",
      "Preprocessing of train and test datasets complete.\n",
      "Generating stop words/phrases specific for this project data...\n",
      "Generating vocabulary for ngram_range: (1, 3)...\n",
      "Size of vocabulary of training data: 2610596\n",
      "Generating stop words/phrases specific for this project data...\n",
      "Working on DF#1 in the list of DFs provided\n",
      "Generating vocabulary for ngram_range: (1, 1)...\n",
      "Vocabulary size for ngram-range (1, 1) in DF#1: 63881\n",
      "\n",
      "Words from the first df for ngram-range (1, 1) added.\n",
      "\n",
      "Working on DF#2 in the list of DFs provided\n",
      "Generating vocabulary for ngram_range: (1, 1)...\n",
      "Vocabulary size for ngram-range (1, 1) in DF#2: 42992\n",
      "\n",
      "Keeping only the common (intersection) words for ngram-range (1, 1)...\n",
      "Common vocabulary for ngram-range (1, 1): 35498\n",
      "\n",
      "Appended first time to final common vocabulary: ngram-range = (1, 1).\n",
      "\n",
      "Working on DF#1 in the list of DFs provided\n",
      "Generating vocabulary for ngram_range: (2, 2)...\n",
      "Vocabulary size for ngram-range (2, 2) in DF#1: 1130406\n",
      "\n",
      "Words from the first df for ngram-range (2, 2) added.\n",
      "\n",
      "Working on DF#2 in the list of DFs provided\n",
      "Generating vocabulary for ngram_range: (2, 2)...\n",
      "Vocabulary size for ngram-range (2, 2) in DF#2: 436174\n",
      "\n",
      "Keeping only the common (intersection) words for ngram-range (2, 2)...\n",
      "Common vocabulary for ngram-range (2, 2): 112530\n",
      "\n",
      "Fusing (union) with final common vocabulary: ngram-range = (2, 2).\n",
      "\n",
      "Working on DF#1 in the list of DFs provided\n",
      "Generating vocabulary for ngram_range: (3, 3)...\n",
      "Vocabulary size for ngram-range (3, 3) in DF#1: 1416309\n",
      "\n",
      "Words from the first df for ngram-range (3, 3) added.\n",
      "\n",
      "Working on DF#2 in the list of DFs provided\n",
      "Generating vocabulary for ngram_range: (3, 3)...\n",
      "Vocabulary size for ngram-range (3, 3) in DF#2: 488867\n",
      "\n",
      "Keeping only the common (intersection) words for ngram-range (3, 3)...\n",
      "Common vocabulary for ngram-range (3, 3): 22631\n",
      "\n",
      "Fusing (union) with final common vocabulary: ngram-range = (3, 3).\n",
      "\n",
      "Number of stop words: 170659\n",
      "Getting the vocabulary that will be fed to the final model(s)...\n",
      "Size of the final relevant vocabulary: 2439937\n",
      "\n",
      "Selected features: {'cat': ['isFrequentReviewer', 'audScoreBins', 'boxOfficeBins'], 'num': ['releaseDiff'], 'txt': ['reviewText', 'reviewerName', 'movieid', 'genre', 'director', 'ratingContents', 'distributor', 'reviewText_2', 'reviewText_3']}\n",
      "\n",
      "Pipeline built successfully.\n",
      "\n",
      "Full GridSearchCV pipeline built successfully.\n",
      "GridSearchCV(cv=10,\n",
      "             estimator=Pipeline(steps=[('ct',\n",
      "                                        ColumnTransformer(transformers=[('cat_isFrequentReviewer',\n",
      "                                                                         OneHotEncoder(handle_unknown='ignore',\n",
      "                                                                                       sparse_output=False),\n",
      "                                                                         ['isFrequentReviewer']),\n",
      "                                                                        ('cat_audScoreBins',\n",
      "                                                                         OneHotEncoder(handle_unknown='ignore',\n",
      "                                                                                       sparse_output=False),\n",
      "                                                                         ['audScoreBins']),\n",
      "                                                                        ('cat_boxOfficeBins',\n",
      "                                                                         OneHotEncoder(handle_unknown='ignore',\n",
      "                                                                                       sp...\n",
      "                                                                                                                      'script',\n",
      "                                                                                                                      'aaron '\n",
      "                                                                                                                      'spelling',\n",
      "                                                                                                                      'aarp',\n",
      "                                                                                                                      'ab',\n",
      "                                                                                                                      'abandon',\n",
      "                                                                                                                      'abandoned',\n",
      "                                                                                                                      'abandoned '\n",
      "                                                                                                                      'good',\n",
      "                                                                                                                      'abandoning',\n",
      "                                                                                                                      'abandoning '\n",
      "                                                                                                                      'logic',\n",
      "                                                                                                                      'abandoning '\n",
      "                                                                                                                      'traditional',\n",
      "                                                                                                                      'abandonment',\n",
      "                                                                                                                      'abandonment '\n",
      "                                                                                                                      'adoption', ...}))]),\n",
      "                                                                         'reviewText_3')])),\n",
      "                                       ('model',\n",
      "                                        SGDClassifier(max_iter=1000000,\n",
      "                                                      n_iter_no_change=100,\n",
      "                                                      n_jobs=-1,\n",
      "                                                      tol=0.0001))]),\n",
      "             n_jobs=-1, param_grid={'model__alpha': [0.0001]},\n",
      "             scoring='f1_micro')\n",
      "\n",
      "Training started with full pipeline for classifier #1/1...\n",
      "\n",
      "Check #1.1 complete.\n",
      "Details of the best model using classifier #1 (GridSearchCV) on X_train: \n",
      "Best Params: {'model__alpha': 0.0001}\n",
      "Best Score: 0.842023141892976\n",
      "Confusion matrix and f1-score for rows which have no reviewText in X_train: \n",
      "[[ 880 1525]\n",
      " [ 117 3925]]\n",
      "0.7453078951450287\n",
      "classifier_1 successfully added to 'estimators' list\n",
      "Confusion matrix for predictions on training data: \n",
      "[[ 51892   2105]\n",
      " [   273 108488]]\n",
      "F1-score on training data: 0.9853893510610846\n",
      "(55315, 1)\n",
      "     pred_1\n",
      "0  POSITIVE\n",
      "1  POSITIVE\n",
      "2  POSITIVE\n",
      "3  POSITIVE\n",
      "4  POSITIVE\n",
      "5  POSITIVE\n",
      "6  POSITIVE\n",
      "7  POSITIVE\n",
      "8  NEGATIVE\n",
      "9  NEGATIVE\n",
      "\n",
      "Check #1.2 complete.\n",
      "Details of the best model using full pipeline (GridSearchCV) on X_train: \n",
      "Best Params: {'model__alpha': 0.0001}\n",
      "Best Score: 0.842023141892976\n",
      "Refit Time: 250.11436486244202\n",
      "\n",
      "Successfully created the submission file!!!\n"
     ]
    }
   ],
   "source": [
    "# Testing ONE classfier using submit_v5 function  \n",
    "\n",
    "# Feature dictionaries\n",
    "sfs = {'cat': ['isFrequentReviewer', 'rating'],\n",
    "       'num': [\"audienceScore\", \"runtimeMinutes\", \"boxOffice\", 'releaseDiff']}\n",
    "\n",
    "sf_best = {'cat': ['isFrequentReviewer'],\n",
    "            'num': [\"audienceScore\", \"boxOffice\", 'releaseDiff'],\n",
    "            'txt': ['reviewText', 'reviewerName', 'movieid', 'genre', 'director', \n",
    "                         'ratingContents', 'distributor']}\n",
    "\n",
    "alt_text = {'txt': ['reviewerName', 'movieid', 'genre', 'director', \n",
    "                         'ratingContents', 'distributor']}\n",
    "\n",
    "v88_dict = {'cat': ['isFrequentReviewer', 'audScoreBins', 'boxOfficeBins'],\n",
    "            'num': ['releaseDiff'],\n",
    "            'txt': ['reviewText', 'reviewerName', 'movieid', 'genre', 'director', \n",
    "                         'ratingContents', 'distributor']}\n",
    "\n",
    "# SGDClassifier hyperparameters  \n",
    "# \"model__loss\": ['hinge', 'log_loss', 'modified_huber', \n",
    "#                                                   'squared_hinge', 'perceptron', \n",
    "#                                                   'squared_error', 'huber', \n",
    "#                                                   'epsilon_insensitive', 'squared_epsilon_insensitive']\n",
    "\n",
    "# 'param_grid' : {\"model__alpha\": [0.0001], \n",
    "#                   'model__tol': [0.0001],\n",
    "#                   \"model__penalty\": [\"l2\"],\n",
    "#                   \"model__n_iter_no_change\": [100],\n",
    "#                  }\n",
    "\n",
    "# Best models \n",
    "# For sf_best features\n",
    "#                 {'selected_model' : SGDClassifier(loss='hinge', \n",
    "#                                      max_iter=1000000,\n",
    "#                                      alpha = 0.0001,\n",
    "#                                      tol = 0.0001,\n",
    "#                                      penalty = \"l2\",\n",
    "#                                      n_iter_no_change = 100,\n",
    "#                                      n_jobs = -1), \n",
    "#                   'selected_features' : sf_best, \n",
    "#                   'param_grid' : {\"model__alpha\": [ 0.0001]},\n",
    "#                   'vocab' : True,\n",
    "#                   'vocab_usage' : 'tfidf',\n",
    "#                   'strip_accents' : 'unicode', \n",
    "#                   'add_countvec' : True},\n",
    "\n",
    "# For sfs features\n",
    "#                 {'selected_model' : RandomForestClassifier(n_jobs = -1), \n",
    "#                   'selected_features' : sfs, \n",
    "#                   'param_grid': {'model__n_estimators': [100]},\n",
    "#                   'vocab' : None,\n",
    "#                   'vocab_usage' : 'tfidf',\n",
    "#                   'strip_accents' : 'unicode', \n",
    "#                   'add_countvec' : False}\n",
    "\n",
    "# Best SGD classifer (with params)  \n",
    "sgdc = SGDClassifier(loss='hinge', \n",
    "                     max_iter=1000000,\n",
    "                     alpha = 0.0001,\n",
    "                     tol = 0.0001,\n",
    "                     penalty = \"l2\",\n",
    "                     n_iter_no_change = 100,\n",
    "                     n_jobs = -1)\n",
    "\n",
    "# Classifiers\n",
    "classifiers= [   \n",
    "                {'selected_model' : sgdc, \n",
    "                  'selected_features' : v88_dict, \n",
    "                  'param_grid' : {\"model__alpha\": [0.0001]},\n",
    "                  'vocab' : True,\n",
    "                  'vocab_usage' : 'tfidf',\n",
    "                  'strip_accents' : 'unicode', \n",
    "                  'add_countvec' : True}\n",
    "            ]\n",
    "\n",
    "# classifiers= [\n",
    "#                 {'selected_model' : LogisticRegression(C=1, solver='saga', max_iter=100000), \n",
    "#                   'selected_features' : {'txt': [\"reviewText\"]}, \n",
    "#                   'param_grid' : {\"model__C\": [1], \n",
    "#                                   'model__solver': ['saga']},\n",
    "#                   'vocab' : None,\n",
    "#                   'vocab_usage' : 'tfidf',\n",
    "#                   'strip_accents' : 'unicode', \n",
    "#                   'add_countvec' : False},\n",
    "#             ]\n",
    "\n",
    "pred_df, estimators = submit_v5(classifiers=classifiers)"
   ]
  },
  {
   "cell_type": "code",
   "execution_count": 107,
   "id": "25a1e255",
   "metadata": {
    "execution": {
     "iopub.execute_input": "2023-08-12T09:38:12.060338Z",
     "iopub.status.busy": "2023-08-12T09:38:12.059882Z",
     "iopub.status.idle": "2023-08-12T09:38:12.067873Z",
     "shell.execute_reply": "2023-08-12T09:38:12.066641Z"
    },
    "papermill": {
     "duration": 0.116032,
     "end_time": "2023-08-12T09:38:12.070422",
     "exception": false,
     "start_time": "2023-08-12T09:38:11.954390",
     "status": "completed"
    },
    "tags": []
   },
   "outputs": [
    {
     "name": "stdout",
     "output_type": "stream",
     "text": [
      "(55315, 1)\n",
      "   sentiment\n",
      "id          \n",
      "0   POSITIVE\n",
      "1   POSITIVE\n",
      "2   POSITIVE\n",
      "3   POSITIVE\n",
      "4   POSITIVE\n"
     ]
    }
   ],
   "source": [
    "print(pred_df.shape)\n",
    "print(pred_df.head())"
   ]
  },
  {
   "cell_type": "code",
   "execution_count": 108,
   "id": "e83ea5e3",
   "metadata": {
    "execution": {
     "iopub.execute_input": "2023-08-12T09:38:12.279201Z",
     "iopub.status.busy": "2023-08-12T09:38:12.278704Z",
     "iopub.status.idle": "2023-08-12T09:38:12.283988Z",
     "shell.execute_reply": "2023-08-12T09:38:12.282872Z"
    },
    "papermill": {
     "duration": 0.112725,
     "end_time": "2023-08-12T09:38:12.286298",
     "exception": false,
     "start_time": "2023-08-12T09:38:12.173573",
     "status": "completed"
    },
    "tags": []
   },
   "outputs": [],
   "source": [
    "# estimators"
   ]
  },
  {
   "cell_type": "code",
   "execution_count": 109,
   "id": "3a46bc2d",
   "metadata": {
    "execution": {
     "iopub.execute_input": "2023-08-12T09:38:12.496061Z",
     "iopub.status.busy": "2023-08-12T09:38:12.495659Z",
     "iopub.status.idle": "2023-08-12T09:38:12.503870Z",
     "shell.execute_reply": "2023-08-12T09:38:12.502313Z"
    },
    "papermill": {
     "duration": 0.116982,
     "end_time": "2023-08-12T09:38:12.506385",
     "exception": false,
     "start_time": "2023-08-12T09:38:12.389403",
     "status": "completed"
    },
    "tags": []
   },
   "outputs": [
    {
     "name": "stdout",
     "output_type": "stream",
     "text": [
      "Number of estimators: 1\n",
      "\n",
      "Estimator: classifier_1\n",
      "{'model__alpha': 0.0001}\n",
      "0.842023141892976\n",
      "250.11436486244202\n",
      "\n"
     ]
    }
   ],
   "source": [
    "print(f\"Number of estimators: {len(estimators)}\\n\")\n",
    "for est in estimators:\n",
    "    print(f\"Estimator: {est[0]}\")\n",
    "#     print(est[1].best_estimator_)\n",
    "    print(est[1].best_params_)\n",
    "    print(est[1].best_score_)\n",
    "    print(est[1].refit_time_)\n",
    "    print()"
   ]
  },
  {
   "cell_type": "code",
   "execution_count": 110,
   "id": "381b887e",
   "metadata": {
    "execution": {
     "iopub.execute_input": "2023-08-12T09:38:12.716715Z",
     "iopub.status.busy": "2023-08-12T09:38:12.716193Z",
     "iopub.status.idle": "2023-08-12T09:38:12.723564Z",
     "shell.execute_reply": "2023-08-12T09:38:12.722270Z"
    },
    "papermill": {
     "duration": 0.115466,
     "end_time": "2023-08-12T09:38:12.725974",
     "exception": false,
     "start_time": "2023-08-12T09:38:12.610508",
     "status": "completed"
    },
    "tags": []
   },
   "outputs": [],
   "source": [
    "# Testing full capabilites of submit_v5  \n",
    "\n",
    "# # Feature dictionaries\n",
    "# sf1 = {'cat': ['isFrequentReviewer', 'rating'],\n",
    "#        'num': [\"audienceScore\", \"runtimeMinutes\", \"boxOffice\"]}\n",
    "\n",
    "# sf2 = {'cat': ['isFrequentReviewer', 'rating'],\n",
    "#        'num': [\"audienceScore\", \"runtimeMinutes\", \"boxOffice\"]}\n",
    "\n",
    "# sf3 = {'cat': ['isFrequentReviewer'],\n",
    "#         'num': ['releaseDiff', 'audienceScore', 'boxOffice'],\n",
    "#         'txt': ['reviewText', 'reviewerName', 'movieid', 'genre', 'director', \n",
    "#                          'ratingContents', 'distributor']}\n",
    "\n",
    "# # Individual classifiers\n",
    "# clf1 =  {'selected_model' : AdaBoostClassifier(), \n",
    "#           'selected_features' : sf1, \n",
    "#           'param_grid' : {\"model__n_estimators\": [50]},\n",
    "#           'vocab' : None,\n",
    "#           'vocab_usage' : 'tfidf',\n",
    "#           'strip_accents' : 'unicode', \n",
    "#           'add_countvec' : False}\n",
    "\n",
    "# clf2 =  {'selected_model' : RandomForestClassifier(), \n",
    "#           'selected_features' : sf2,\n",
    "#           'param_grid' : {\"model__n_estimators\": [50], \n",
    "#                           'model__criterion': ['gini']},\n",
    "#           'vocab' : None,\n",
    "#           'vocab_usage' : 'tfidf',\n",
    "#           'strip_accents' : 'unicode', \n",
    "#           'add_countvec' : False}\n",
    "\n",
    "# clf3 =  {'selected_model' : LogisticRegression(C=1, solver='saga', max_iter=100000), \n",
    "#           'selected_features' : sf3, \n",
    "#           'param_grid' : {'model__C' : [1],\n",
    "#                             'model__solver': ['saga'],\n",
    "#                             \"model__fit_intercept\" : [True],\n",
    "#                             \"model__dual\" : [False]},\n",
    "#           'vocab' : None,\n",
    "#           'vocab_usage' : 'tfidf',\n",
    "#           'strip_accents' : 'unicode', \n",
    "#           'add_countvec' : True}\n",
    "\n",
    "\n",
    "# # List of classifiers for voting\n",
    "# classifiers= [clf1, clf2, clf3]\n",
    "\n",
    "# # Final predictions \n",
    "# pred_df = submit_v5(classifiers=classifiers)"
   ]
  },
  {
   "cell_type": "code",
   "execution_count": 111,
   "id": "e5038242",
   "metadata": {
    "execution": {
     "iopub.execute_input": "2023-08-12T09:38:12.937557Z",
     "iopub.status.busy": "2023-08-12T09:38:12.936677Z",
     "iopub.status.idle": "2023-08-12T09:38:12.950959Z",
     "shell.execute_reply": "2023-08-12T09:38:12.949805Z"
    },
    "papermill": {
     "duration": 0.122407,
     "end_time": "2023-08-12T09:38:12.953737",
     "exception": false,
     "start_time": "2023-08-12T09:38:12.831330",
     "status": "completed"
    },
    "tags": []
   },
   "outputs": [
    {
     "name": "stdout",
     "output_type": "stream",
     "text": [
      "(55315, 1)\n"
     ]
    },
    {
     "data": {
      "text/html": [
       "<div>\n",
       "<style scoped>\n",
       "    .dataframe tbody tr th:only-of-type {\n",
       "        vertical-align: middle;\n",
       "    }\n",
       "\n",
       "    .dataframe tbody tr th {\n",
       "        vertical-align: top;\n",
       "    }\n",
       "\n",
       "    .dataframe thead th {\n",
       "        text-align: right;\n",
       "    }\n",
       "</style>\n",
       "<table border=\"1\" class=\"dataframe\">\n",
       "  <thead>\n",
       "    <tr style=\"text-align: right;\">\n",
       "      <th></th>\n",
       "      <th>sentiment</th>\n",
       "    </tr>\n",
       "    <tr>\n",
       "      <th>id</th>\n",
       "      <th></th>\n",
       "    </tr>\n",
       "  </thead>\n",
       "  <tbody>\n",
       "    <tr>\n",
       "      <th>0</th>\n",
       "      <td>POSITIVE</td>\n",
       "    </tr>\n",
       "    <tr>\n",
       "      <th>1</th>\n",
       "      <td>POSITIVE</td>\n",
       "    </tr>\n",
       "    <tr>\n",
       "      <th>2</th>\n",
       "      <td>POSITIVE</td>\n",
       "    </tr>\n",
       "    <tr>\n",
       "      <th>3</th>\n",
       "      <td>POSITIVE</td>\n",
       "    </tr>\n",
       "    <tr>\n",
       "      <th>4</th>\n",
       "      <td>POSITIVE</td>\n",
       "    </tr>\n",
       "    <tr>\n",
       "      <th>...</th>\n",
       "      <td>...</td>\n",
       "    </tr>\n",
       "    <tr>\n",
       "      <th>55310</th>\n",
       "      <td>POSITIVE</td>\n",
       "    </tr>\n",
       "    <tr>\n",
       "      <th>55311</th>\n",
       "      <td>NEGATIVE</td>\n",
       "    </tr>\n",
       "    <tr>\n",
       "      <th>55312</th>\n",
       "      <td>NEGATIVE</td>\n",
       "    </tr>\n",
       "    <tr>\n",
       "      <th>55313</th>\n",
       "      <td>POSITIVE</td>\n",
       "    </tr>\n",
       "    <tr>\n",
       "      <th>55314</th>\n",
       "      <td>NEGATIVE</td>\n",
       "    </tr>\n",
       "  </tbody>\n",
       "</table>\n",
       "<p>55315 rows × 1 columns</p>\n",
       "</div>"
      ],
      "text/plain": [
       "      sentiment\n",
       "id             \n",
       "0      POSITIVE\n",
       "1      POSITIVE\n",
       "2      POSITIVE\n",
       "3      POSITIVE\n",
       "4      POSITIVE\n",
       "...         ...\n",
       "55310  POSITIVE\n",
       "55311  NEGATIVE\n",
       "55312  NEGATIVE\n",
       "55313  POSITIVE\n",
       "55314  NEGATIVE\n",
       "\n",
       "[55315 rows x 1 columns]"
      ]
     },
     "execution_count": 111,
     "metadata": {},
     "output_type": "execute_result"
    }
   ],
   "source": [
    "print(pred_df.shape)\n",
    "pred_df"
   ]
  },
  {
   "cell_type": "code",
   "execution_count": 112,
   "id": "43545e03",
   "metadata": {
    "execution": {
     "iopub.execute_input": "2023-08-12T09:38:13.165966Z",
     "iopub.status.busy": "2023-08-12T09:38:13.165036Z",
     "iopub.status.idle": "2023-08-12T09:38:13.170291Z",
     "shell.execute_reply": "2023-08-12T09:38:13.169359Z"
    },
    "papermill": {
     "duration": 0.115005,
     "end_time": "2023-08-12T09:38:13.172813",
     "exception": false,
     "start_time": "2023-08-12T09:38:13.057808",
     "status": "completed"
    },
    "tags": []
   },
   "outputs": [],
   "source": [
    "# pred_df_mode = pred_df.mode(axis='columns')\n",
    "# print(pred_df_mode.shape)\n",
    "# pred_df_mode"
   ]
  },
  {
   "cell_type": "code",
   "execution_count": 113,
   "id": "6b49d247",
   "metadata": {
    "execution": {
     "iopub.execute_input": "2023-08-12T09:38:13.383888Z",
     "iopub.status.busy": "2023-08-12T09:38:13.383084Z",
     "iopub.status.idle": "2023-08-12T09:38:13.402445Z",
     "shell.execute_reply": "2023-08-12T09:38:13.401573Z"
    },
    "papermill": {
     "duration": 0.127535,
     "end_time": "2023-08-12T09:38:13.404712",
     "exception": false,
     "start_time": "2023-08-12T09:38:13.277177",
     "status": "completed"
    },
    "tags": []
   },
   "outputs": [
    {
     "data": {
      "text/plain": [
       "sentiment\n",
       "POSITIVE     39443\n",
       "NEGATIVE     15872\n",
       "dtype: int64"
      ]
     },
     "execution_count": 113,
     "metadata": {},
     "output_type": "execute_result"
    }
   ],
   "source": [
    "pred_df.value_counts()"
   ]
  },
  {
   "cell_type": "markdown",
   "id": "95abcaea",
   "metadata": {
    "papermill": {
     "duration": 0.104056,
     "end_time": "2023-08-12T09:38:13.613093",
     "exception": false,
     "start_time": "2023-08-12T09:38:13.509037",
     "status": "completed"
    },
    "tags": []
   },
   "source": [
    "# NOTE: Move submit_v4 submissions below the suubmit_v4 function  "
   ]
  },
  {
   "cell_type": "code",
   "execution_count": 114,
   "id": "f342bcf7",
   "metadata": {
    "execution": {
     "iopub.execute_input": "2023-08-12T09:38:13.825948Z",
     "iopub.status.busy": "2023-08-12T09:38:13.825119Z",
     "iopub.status.idle": "2023-08-12T09:38:13.830342Z",
     "shell.execute_reply": "2023-08-12T09:38:13.829348Z"
    },
    "papermill": {
     "duration": 0.11586,
     "end_time": "2023-08-12T09:38:13.832740",
     "exception": false,
     "start_time": "2023-08-12T09:38:13.716880",
     "status": "completed"
    },
    "tags": []
   },
   "outputs": [],
   "source": [
    "# Try 'submit_v4' function with default params (LogisticRegression model)  \n",
    "\n",
    "# submit_v4()\n",
    "\n",
    "#Default params to this function gave a score of 0.8259 - improvement over previous score of 0.82563!"
   ]
  },
  {
   "cell_type": "code",
   "execution_count": 115,
   "id": "65e80bfc",
   "metadata": {
    "execution": {
     "iopub.execute_input": "2023-08-12T09:38:14.043421Z",
     "iopub.status.busy": "2023-08-12T09:38:14.042590Z",
     "iopub.status.idle": "2023-08-12T09:38:14.047610Z",
     "shell.execute_reply": "2023-08-12T09:38:14.046733Z"
    },
    "papermill": {
     "duration": 0.113074,
     "end_time": "2023-08-12T09:38:14.050022",
     "exception": false,
     "start_time": "2023-08-12T09:38:13.936948",
     "status": "completed"
    },
    "tags": []
   },
   "outputs": [],
   "source": [
    "# Try out GridSearchCV on \"submit_v4\" function with param_grid  \n",
    "# param_grid = {\n",
    "#     \"model__C\": [0.1, 1, 5, 10]\n",
    "# }\n",
    "\n",
    "# submit_v4(selected_features={'txt': ['genre']}, param_grid=param_grid)"
   ]
  },
  {
   "cell_type": "markdown",
   "id": "e693ab13",
   "metadata": {
    "papermill": {
     "duration": 0.103476,
     "end_time": "2023-08-12T09:38:14.257331",
     "exception": false,
     "start_time": "2023-08-12T09:38:14.153855",
     "status": "completed"
    },
    "tags": []
   },
   "source": [
    "### Try LinearSVC with GridSearchCV  "
   ]
  },
  {
   "cell_type": "code",
   "execution_count": 116,
   "id": "78c32578",
   "metadata": {
    "execution": {
     "iopub.execute_input": "2023-08-12T09:38:14.468147Z",
     "iopub.status.busy": "2023-08-12T09:38:14.467301Z",
     "iopub.status.idle": "2023-08-12T09:38:14.472645Z",
     "shell.execute_reply": "2023-08-12T09:38:14.471853Z"
    },
    "papermill": {
     "duration": 0.113461,
     "end_time": "2023-08-12T09:38:14.474920",
     "exception": false,
     "start_time": "2023-08-12T09:38:14.361459",
     "status": "completed"
    },
    "tags": []
   },
   "outputs": [],
   "source": [
    "# all_dict = {'cat': [\"isFrequentReviewer\", \"rating\", \"originalLanguage\"],\n",
    "#              'num': [\"audienceScore\", \"runtimeMinutes\", \"boxOffice\"],\n",
    "#              'txt': ['reviewText', 'reviewerName', 'movieid', 'genre', 'director']}\n",
    "\n",
    "# param_grid_svc = {\n",
    "#     \"model__C\": [0.1, 1, 10, 100]\n",
    "# }\n",
    "# param_grid_svc"
   ]
  },
  {
   "cell_type": "code",
   "execution_count": 117,
   "id": "0d74ca36",
   "metadata": {
    "execution": {
     "iopub.execute_input": "2023-08-12T09:38:14.686757Z",
     "iopub.status.busy": "2023-08-12T09:38:14.686336Z",
     "iopub.status.idle": "2023-08-12T09:38:14.691244Z",
     "shell.execute_reply": "2023-08-12T09:38:14.690018Z"
    },
    "papermill": {
     "duration": 0.112627,
     "end_time": "2023-08-12T09:38:14.693454",
     "exception": false,
     "start_time": "2023-08-12T09:38:14.580827",
     "status": "completed"
    },
    "tags": []
   },
   "outputs": [],
   "source": [
    "# LinearSCV on single feature  \n",
    "\n",
    "# submit_v4(selected_model=LinearSVC(max_iter=100000, random_state=42), selected_features={'num': [\"audienceScore\"]}, param_grid=param_grid_svc)\n",
    "\n",
    "# Comment: LinearSVC even on single column feature set takes too long to converge."
   ]
  },
  {
   "cell_type": "code",
   "execution_count": 118,
   "id": "2b73f73b",
   "metadata": {
    "execution": {
     "iopub.execute_input": "2023-08-12T09:38:14.908699Z",
     "iopub.status.busy": "2023-08-12T09:38:14.908254Z",
     "iopub.status.idle": "2023-08-12T09:38:14.913610Z",
     "shell.execute_reply": "2023-08-12T09:38:14.912382Z"
    },
    "papermill": {
     "duration": 0.114867,
     "end_time": "2023-08-12T09:38:14.916067",
     "exception": false,
     "start_time": "2023-08-12T09:38:14.801200",
     "status": "completed"
    },
    "tags": []
   },
   "outputs": [],
   "source": [
    "# LinearSCV on all available features\n",
    "\n",
    "# submit_v4(selected_model=LinearSVC(max_iter=100000, random_state=42), selected_features=all_dict, param_grid=param_grid_svc)\n",
    "\n",
    "# (Update): This took 66 mins to run and gave a public score of 0.84295 (lesser than logreg gridsearchcv wwhich gave 0.84441). Best C was 1.0.\n"
   ]
  },
  {
   "cell_type": "markdown",
   "id": "80b279f9",
   "metadata": {
    "papermill": {
     "duration": 0.104697,
     "end_time": "2023-08-12T09:38:15.127518",
     "exception": false,
     "start_time": "2023-08-12T09:38:15.022821",
     "status": "completed"
    },
    "tags": []
   },
   "source": [
    "### Boosting techniques  "
   ]
  },
  {
   "cell_type": "code",
   "execution_count": 119,
   "id": "c380adc1",
   "metadata": {
    "execution": {
     "iopub.execute_input": "2023-08-12T09:38:15.338016Z",
     "iopub.status.busy": "2023-08-12T09:38:15.337587Z",
     "iopub.status.idle": "2023-08-12T09:38:15.342847Z",
     "shell.execute_reply": "2023-08-12T09:38:15.341800Z"
    },
    "papermill": {
     "duration": 0.113249,
     "end_time": "2023-08-12T09:38:15.345238",
     "exception": false,
     "start_time": "2023-08-12T09:38:15.231989",
     "status": "completed"
    },
    "tags": []
   },
   "outputs": [],
   "source": [
    "# adc = AdaBoostClassifier(estimator=LogisticRegression(C=5, solver=\"saga\", max_iter=100000), n_estimators=50)\n",
    "# adc"
   ]
  },
  {
   "cell_type": "code",
   "execution_count": 120,
   "id": "daddc65e",
   "metadata": {
    "execution": {
     "iopub.execute_input": "2023-08-12T09:38:15.555944Z",
     "iopub.status.busy": "2023-08-12T09:38:15.555505Z",
     "iopub.status.idle": "2023-08-12T09:38:15.560599Z",
     "shell.execute_reply": "2023-08-12T09:38:15.559366Z"
    },
    "papermill": {
     "duration": 0.113175,
     "end_time": "2023-08-12T09:38:15.562860",
     "exception": false,
     "start_time": "2023-08-12T09:38:15.449685",
     "status": "completed"
    },
    "tags": []
   },
   "outputs": [],
   "source": [
    "# submit_v4(selected_model=adc, selected_features={'num': [\"audienceScore\"]}, param_grid=None)"
   ]
  },
  {
   "cell_type": "code",
   "execution_count": 121,
   "id": "e5fe3f5b",
   "metadata": {
    "execution": {
     "iopub.execute_input": "2023-08-12T09:38:15.866719Z",
     "iopub.status.busy": "2023-08-12T09:38:15.866289Z",
     "iopub.status.idle": "2023-08-12T09:38:15.871387Z",
     "shell.execute_reply": "2023-08-12T09:38:15.870141Z"
    },
    "papermill": {
     "duration": 0.205568,
     "end_time": "2023-08-12T09:38:15.873735",
     "exception": false,
     "start_time": "2023-08-12T09:38:15.668167",
     "status": "completed"
    },
    "tags": []
   },
   "outputs": [],
   "source": [
    "# submit_v4(selected_model=adc, selected_features=all_dict, param_grid=None)\n",
    "\n",
    "# Took 1 hour 15 mins to run and gave a public score of only 0.71089. Discarded."
   ]
  },
  {
   "cell_type": "markdown",
   "id": "2c6329df",
   "metadata": {
    "papermill": {
     "duration": 0.104691,
     "end_time": "2023-08-12T09:38:16.082533",
     "exception": false,
     "start_time": "2023-08-12T09:38:15.977842",
     "status": "completed"
    },
    "tags": []
   },
   "source": [
    "### LightGBM  "
   ]
  },
  {
   "cell_type": "code",
   "execution_count": 122,
   "id": "3adb2921",
   "metadata": {
    "execution": {
     "iopub.execute_input": "2023-08-12T09:38:16.294854Z",
     "iopub.status.busy": "2023-08-12T09:38:16.294427Z",
     "iopub.status.idle": "2023-08-12T09:38:16.299801Z",
     "shell.execute_reply": "2023-08-12T09:38:16.298404Z"
    },
    "papermill": {
     "duration": 0.113424,
     "end_time": "2023-08-12T09:38:16.302341",
     "exception": false,
     "start_time": "2023-08-12T09:38:16.188917",
     "status": "completed"
    },
    "tags": []
   },
   "outputs": [],
   "source": [
    "# lgb = ltb.LGBMClassifier()\n",
    "# lgb"
   ]
  },
  {
   "cell_type": "code",
   "execution_count": 123,
   "id": "1923a23b",
   "metadata": {
    "execution": {
     "iopub.execute_input": "2023-08-12T09:38:16.514588Z",
     "iopub.status.busy": "2023-08-12T09:38:16.514174Z",
     "iopub.status.idle": "2023-08-12T09:38:16.519010Z",
     "shell.execute_reply": "2023-08-12T09:38:16.517654Z"
    },
    "papermill": {
     "duration": 0.114311,
     "end_time": "2023-08-12T09:38:16.521577",
     "exception": false,
     "start_time": "2023-08-12T09:38:16.407266",
     "status": "completed"
    },
    "tags": []
   },
   "outputs": [],
   "source": [
    "# Try LightGBM with default settings\n",
    "# (Update): Public score only 0.77713. It was fast, took less than 5 mins (without GridSearchCV)\n",
    "\n",
    "# submit_v4(selected_model=ltb.LGBMClassifier(), selected_features=all_dict, param_grid=None)"
   ]
  },
  {
   "cell_type": "markdown",
   "id": "80e8e8c4",
   "metadata": {
    "papermill": {
     "duration": 0.105055,
     "end_time": "2023-08-12T09:38:16.731218",
     "exception": false,
     "start_time": "2023-08-12T09:38:16.626163",
     "status": "completed"
    },
    "tags": []
   },
   "source": [
    "## Feature Engineering"
   ]
  },
  {
   "cell_type": "markdown",
   "id": "e9f9fd81",
   "metadata": {
    "papermill": {
     "duration": 0.103185,
     "end_time": "2023-08-12T09:38:16.939138",
     "exception": false,
     "start_time": "2023-08-12T09:38:16.835953",
     "status": "completed"
    },
    "tags": []
   },
   "source": [
    "### Plan  \n",
    "* Add a new column 'reviewWC' which has word count of 'reviewText'  \n",
    "    * Check if there is any relationship between 'reviewWC' and 'sentiment'\n",
    "* Work on vocabulary\n",
    "     * Use TfidfVectorizer and find out the vocabulary of 'reviewText' column for various ngrams\n",
    "     * Use RecursiveFeatureElimination (RFE) or RFECV to select 1000 top words/vocab for each ngram\n",
    "     * Use the final vocab (1000-3000 words) in the model and see how it performs compared to whole vocab\n",
    "\n",
    "`(Update): Code incorporated into the \"select_features\" function  `  \n",
    "`(Update): Many other new features incorporated into the \"select_features\" function too  `  \n",
    "\n"
   ]
  },
  {
   "cell_type": "markdown",
   "id": "21f94e05",
   "metadata": {
    "papermill": {
     "duration": 0.102782,
     "end_time": "2023-08-12T09:38:17.145954",
     "exception": false,
     "start_time": "2023-08-12T09:38:17.043172",
     "status": "completed"
    },
    "tags": []
   },
   "source": [
    "# Back to vocab after success of version 63  "
   ]
  },
  {
   "cell_type": "code",
   "execution_count": 124,
   "id": "dfbdde23",
   "metadata": {
    "execution": {
     "iopub.execute_input": "2023-08-12T09:38:17.370249Z",
     "iopub.status.busy": "2023-08-12T09:38:17.369605Z",
     "iopub.status.idle": "2023-08-12T09:38:17.399074Z",
     "shell.execute_reply": "2023-08-12T09:38:17.397311Z"
    },
    "papermill": {
     "duration": 0.150293,
     "end_time": "2023-08-12T09:38:17.402330",
     "exception": false,
     "start_time": "2023-08-12T09:38:17.252037",
     "status": "completed"
    },
    "tags": []
   },
   "outputs": [],
   "source": [
    "def submit_v4(selected_model=LogisticRegression(C=1, solver='liblinear', max_iter=100000), \n",
    "              selected_features={'txt': ['reviewText']}, \n",
    "              param_grid=None,\n",
    "              vocab=None,\n",
    "              vocab_usage='tfidf',\n",
    "              strip_accents='unicode', \n",
    "              add_countvec=False):\n",
    "    \n",
    "    print(\"\\nRunning the submit_v4 function...\")\n",
    "    \n",
    "    # Fine tune selected_features\n",
    "    if add_countvec:\n",
    "        if 'txt' in selected_features.keys():\n",
    "            if \"reviewText_2\" not in selected_features['txt']:\n",
    "                selected_features['txt'].append('reviewText_2')\n",
    "    if vocab:\n",
    "        if 'txt' in selected_features.keys():\n",
    "            if \"reviewText_3\" not in selected_features['txt']:\n",
    "                selected_features['txt'].append('reviewText_3')\n",
    "    print(f\"\\nSelected features: {selected_features}\")\n",
    "\n",
    "    \n",
    "    \n",
    "    # Build Pipeline\n",
    "    pipe = build_pipeline(selected_model, selected_features, param_grid=param_grid, \n",
    "                          vocab=vocab, vocab_usage='tfidf', \n",
    "                          strip_accents=strip_accents, add_countvec=add_countvec)\n",
    "    print(pipe)\n",
    "\n",
    "    \n",
    "    \n",
    "    # Features list\n",
    "    features = []\n",
    "    for item in selected_features.values():\n",
    "        features.extend(item)\n",
    " \n",
    "\n",
    "    # Merge and preprocess train and movies data  \n",
    "    merged = select_features(load_csv(\"train\"), load_csv(\"movies\"), row_thresh_null=None)    # Decide if you want to drop any rows containing lot of nulls\n",
    "    # Impute missing numerical values  \n",
    "    # Simple Imputer for ['audienceScore', 'runtimeMinutes', 'boxOffice'] and 'releaseDate' columns\n",
    "    si = SimpleImputer(strategy='median')\n",
    "    merged[['audienceScore', 'runtimeMinutes', 'boxOffice']] = si.fit_transform(merged[['audienceScore', 'runtimeMinutes', 'boxOffice']])\n",
    "    merged['releaseDate'] = merged[\"releaseDate\"].fillna(merged[\"releaseDate\"].median())    \n",
    "    # Add new columns as needed  \n",
    "    if add_countvec:\n",
    "        merged['reviewText_2'] = merged['reviewText']\n",
    "    if vocab:\n",
    "        merged['reviewText_3'] = merged['reviewText']\n",
    "        \n",
    "    X_train = merged.drop(labels=\"sentiment\", axis=1)\n",
    "    y_train = merged[\"sentiment\"]\n",
    "\n",
    "    X_train = X_train[features]\n",
    "    \n",
    "    \n",
    "    # Check1\n",
    "    print(\"\\nCheck 1 complete.\")\n",
    "    print(f\"Shape of X_train: {X_train.shape}\")\n",
    "    print(f\"Features in X_train: {X_train.columns}\")\n",
    "#     print(X_train.head())\n",
    "    \n",
    "    \n",
    "    # Fit \n",
    "    print(\"\\nTraining started with full pipeline...\")\n",
    "    pipe.fit(X_train, y_train)\n",
    "    \n",
    "    # Check2\n",
    "    print(\"\\nCheck 2 complete.\")\n",
    "    print(\"Details of the best model using full pipeline (GridSearchCV) on X_train: \")\n",
    "    print(f\"Best Params: {pipe.best_params_}\")\n",
    "    print(f\"Best Score: {pipe.best_score_}\")\n",
    "    \n",
    "    print(predict_on_missing_review_data(pipe, features, merged))    # Function defined above\n",
    "    \n",
    "        \n",
    "    # Predict on test.csv file\n",
    "    \n",
    "    # Merge and preprocess test and movies data  \n",
    "    merged_test = select_features(load_csv(\"test\"), load_csv(\"movies\"))\n",
    "    # Transform ['audienceScore', 'runtimeMinutes', 'boxOffice'] columns in merged_test using 'si' fitted on 'merged' df  \n",
    "    merged_test[['audienceScore', 'runtimeMinutes', 'boxOffice']] = si.transform(merged_test[['audienceScore', 'runtimeMinutes', 'boxOffice']])\n",
    "    # Fill 'releaseDate' column in 'merged_test' df with median from the train (merged) df  \n",
    "    merged_test['releaseDate'] = merged_test[\"releaseDate\"].fillna(merged[\"releaseDate\"].median())\n",
    "    # Add new columns as needed \n",
    "    if add_countvec:\n",
    "        merged_test['reviewText_2'] = merged_test['reviewText']\n",
    "    if vocab:\n",
    "        merged_test['reviewText_3'] = merged_test['reviewText']\n",
    "        \n",
    "    X_test = merged_test.copy()\n",
    "\n",
    "    X_test = X_test[features]\n",
    "    \n",
    "    \n",
    "    # Check3\n",
    "    print(\"\\nCheck 3 complete.\")\n",
    "    print(f\"Shape of X_test: {X_test.shape}\")\n",
    "    print(f\"Features in X_test: {X_test.columns}\")\n",
    "#     print(X_test.head())\n",
    "    \n",
    "    y_pred = pipe.predict(X_test)\n",
    "    \n",
    "    # Check4\n",
    "    print(\"\\nCheck 4 complete.\")\n",
    "#     cv_results_df = pd.DataFrame(pipe.cv_results_)\n",
    "    print(\"Details of the best model using full pipeline (GridSearchCV) on X_train: \")\n",
    "    print(f\"Best Estimator: {pipe.best_estimator_}\")\n",
    "    print(f\"Best Params: {pipe.best_params_}\")\n",
    "    print(f\"Best Score: {pipe.best_score_}\")\n",
    "    print(f\"Best Index: {pipe.best_index_}\")\n",
    "    print(f\"Refit Time: {pipe.refit_time_}\")\n",
    "#     print(f\"Shape of CV results dataframe: {cv_results_df.shape}\")\n",
    "    \n",
    "    pred_df = pd.DataFrame(y_pred)\n",
    "    pred_df.columns = [\"sentiment\"]\n",
    "    pred_df.index.name = \"id\"\n",
    "    pred_df.to_csv(\"submission.csv\")\n",
    "    \n",
    "    print(\"\\nSuccessfully created the submission file!!!\")\n",
    "    \n",
    "    return pipe.cv_results_"
   ]
  },
  {
   "cell_type": "code",
   "execution_count": 125,
   "id": "a5903a5f",
   "metadata": {
    "execution": {
     "iopub.execute_input": "2023-08-12T09:38:17.614294Z",
     "iopub.status.busy": "2023-08-12T09:38:17.613512Z",
     "iopub.status.idle": "2023-08-12T09:38:17.620100Z",
     "shell.execute_reply": "2023-08-12T09:38:17.619290Z"
    },
    "papermill": {
     "duration": 0.114837,
     "end_time": "2023-08-12T09:38:17.622382",
     "exception": false,
     "start_time": "2023-08-12T09:38:17.507545",
     "status": "completed"
    },
    "tags": []
   },
   "outputs": [
    {
     "data": {
      "text/plain": [
       "Index(['movieid', 'reviewerName', 'isFrequentReviewer', 'reviewText',\n",
       "       'sentiment', 'title', 'audienceScore', 'rating', 'ratingContents',\n",
       "       'releaseDateTheaters', 'releaseDateStreaming', 'runtimeMinutes',\n",
       "       'genre', 'originalLanguage', 'director', 'boxOffice', 'distributor',\n",
       "       'soundType', 'reviewYN', 'reviewWC', 'genreSorted', 'rcSorted',\n",
       "       'releaseDate', 'releaseYear', 'releaseMonth', 'releaseDiff'],\n",
       "      dtype='object')"
      ]
     },
     "execution_count": 125,
     "metadata": {},
     "output_type": "execute_result"
    }
   ],
   "source": [
    "merged.columns"
   ]
  },
  {
   "cell_type": "code",
   "execution_count": 126,
   "id": "c4ee2c00",
   "metadata": {
    "execution": {
     "iopub.execute_input": "2023-08-12T09:38:17.837306Z",
     "iopub.status.busy": "2023-08-12T09:38:17.836873Z",
     "iopub.status.idle": "2023-08-12T09:38:17.848474Z",
     "shell.execute_reply": "2023-08-12T09:38:17.847096Z"
    },
    "papermill": {
     "duration": 0.122143,
     "end_time": "2023-08-12T09:38:17.851136",
     "exception": false,
     "start_time": "2023-08-12T09:38:17.728993",
     "status": "completed"
    },
    "tags": []
   },
   "outputs": [],
   "source": [
    "# Best #2\n",
    "v80_dict = {'cat': ['isFrequentReviewer', 'audScoreBins', 'boxOfficeBins'], \n",
    "                  'txt': ['reviewText', 'reviewerName', 'movieid', 'genre', 'director', \n",
    "                          'ratingContents', 'distributor']}\n",
    "# Best #1\n",
    "v88_dict = {'cat': ['isFrequentReviewer', 'audScoreBins', 'boxOfficeBins'],\n",
    "            'num': ['releaseDiff'],\n",
    "            'txt': ['reviewText', 'reviewerName', 'movieid', 'genre', 'director', \n",
    "                         'ratingContents', 'distributor']}\n",
    "\n",
    "v92_dict = {'cat': ['isFrequentReviewer', 'audScoreBins', 'boxOfficeBins', 'releaseDiffBins'],\n",
    "            'txt': ['reviewText', 'reviewerName', 'title', 'genre', 'director', \n",
    "                         'ratingContents', 'distributor']}\n",
    "\n",
    "# Best univariable datapoints dict\n",
    "best_uni_dict = {'cat': [\"isFrequentReviewer\", \"audScoreBins\"],\n",
    "                 'txt': ['reviewText','movieid', 'director', \"ratingContents\"]}\n",
    "\n",
    "# param_grids for LogisticRegression  \n",
    "\n",
    "# Best #1  \n",
    "# param_grid = {\n",
    "#     'model__C' : [1],\n",
    "#     'model__solver': ['saga'],\n",
    "#     \"model__fit_intercept\" : [True],\n",
    "#     \"model__dual\" : [False]\n",
    "#     }\n",
    "\n",
    "# working\n",
    "param_grid = {\n",
    "    'model__C' : [1],\n",
    "    'model__solver': ['saga'],\n",
    "    \"model__fit_intercept\" : [True],\n",
    "    \"model__dual\" : [False],\n",
    "#     \"model__class_weight\": ['balanced', None]\n",
    "}\n",
    "\n",
    "\n",
    "# param_grids for LinearSVC  \n",
    "\n",
    "# param_grid = {\n",
    "#     'model__C' : [1, 10, 20],\n",
    "#     'model__loss': ['hinge', 'squared_hinge'],\n",
    "#     \"model__fit_intercept\" : [True, False],\n",
    "# #     \"model__dual\" : [True, False] \n",
    "# }\n",
    "\n",
    "svm = LinearSVC(max_iter=10000, random_state=42)    # LinearSVC\n",
    "\n",
    "\n",
    "# Local testing\n",
    "# selected_mov = {'num': ['audienceScore', 'boxOffice', 'releaseDiff'], \n",
    "#                 'txt': ['movieid', 'genre', 'director', \n",
    "#                          'ratingContents', 'distributor']}\n",
    "# results = submit_v4(\n",
    "#             selected_features={'num': ['boxOffice']},\n",
    "#             add_countvec=False,\n",
    "#             vocab=None,\n",
    "#             vocab_usage='tfidf',\n",
    "#             param_grid=param_grid\n",
    "#          )\n",
    "\n",
    "# results = submit_v4(selected_model = DummyClassifier(strategy='constant', constant='NEGATIVE'),\n",
    "#             selected_features={'num': ['boxOffice']},\n",
    "#             add_countvec=False,\n",
    "#             vocab=None,\n",
    "#             vocab_usage='tfidf',\n",
    "#             param_grid={'model__strategy' : ['constant']}\n",
    "#          )\n",
    "\n",
    "# Main submission\n",
    "\n",
    "# results = submit_v4(\n",
    "#     selected_features=v88_dict,\n",
    "#     add_countvec=False,\n",
    "#     vocab=common_1_2_3_grams,\n",
    "#     vocab_usage='tfidf',\n",
    "#     param_grid=param_grid\n",
    "#     )\n",
    "\n",
    "# results"
   ]
  },
  {
   "cell_type": "markdown",
   "id": "b33ad360",
   "metadata": {
    "papermill": {
     "duration": 0.104828,
     "end_time": "2023-08-12T09:38:18.063171",
     "exception": false,
     "start_time": "2023-08-12T09:38:17.958343",
     "status": "completed"
    },
    "tags": []
   },
   "source": [
    "### ratingContents analysis  "
   ]
  },
  {
   "cell_type": "code",
   "execution_count": 127,
   "id": "0f59dce0",
   "metadata": {
    "execution": {
     "iopub.execute_input": "2023-08-12T09:38:18.273977Z",
     "iopub.status.busy": "2023-08-12T09:38:18.273570Z",
     "iopub.status.idle": "2023-08-12T09:38:18.278670Z",
     "shell.execute_reply": "2023-08-12T09:38:18.277476Z"
    },
    "papermill": {
     "duration": 0.113198,
     "end_time": "2023-08-12T09:38:18.280958",
     "exception": false,
     "start_time": "2023-08-12T09:38:18.167760",
     "status": "completed"
    },
    "tags": []
   },
   "outputs": [],
   "source": [
    "# Try string split  \n",
    "# s = \"comedy, animation, adventure, fantasy\"\n",
    "# (\",\").join(sorted(s.split(\", \")))"
   ]
  },
  {
   "cell_type": "code",
   "execution_count": 128,
   "id": "c2a8cdf7",
   "metadata": {
    "execution": {
     "iopub.execute_input": "2023-08-12T09:38:18.494501Z",
     "iopub.status.busy": "2023-08-12T09:38:18.493335Z",
     "iopub.status.idle": "2023-08-12T09:38:18.498296Z",
     "shell.execute_reply": "2023-08-12T09:38:18.497439Z"
    },
    "papermill": {
     "duration": 0.11341,
     "end_time": "2023-08-12T09:38:18.500505",
     "exception": false,
     "start_time": "2023-08-12T09:38:18.387095",
     "status": "completed"
    },
    "tags": []
   },
   "outputs": [],
   "source": [
    "# ratingContents_analysis = merged[[\"ratingContents\", \"sentiment\"]].copy()\n",
    "# print(ratingContents_analysis.head())\n",
    "# ratingContents_analysis[\"rcSorted\"] = ratingContents_analysis[\"ratingContents\"].apply(lambda x: (\",\").join(sorted(x.strip(\"][\").split(\", \"))))\n",
    "# ratingContents_analysis[\"rcSorted\"] = ratingContents_analysis[\"rcSorted\"].apply(lambda x: re.sub(r\"'\", \"\", x))\n",
    "# ratingContents_analysis[\"rcSorted\"] = ratingContents_analysis[\"rcSorted\"].apply(lambda x: re.sub(r\"[/\\s]\", \"_\", x))\n",
    "# ratingContents_analysis.head(10)"
   ]
  },
  {
   "cell_type": "code",
   "execution_count": 129,
   "id": "72045f19",
   "metadata": {
    "execution": {
     "iopub.execute_input": "2023-08-12T09:38:18.715431Z",
     "iopub.status.busy": "2023-08-12T09:38:18.714271Z",
     "iopub.status.idle": "2023-08-12T09:38:18.719260Z",
     "shell.execute_reply": "2023-08-12T09:38:18.718034Z"
    },
    "papermill": {
     "duration": 0.114261,
     "end_time": "2023-08-12T09:38:18.721800",
     "exception": false,
     "start_time": "2023-08-12T09:38:18.607539",
     "status": "completed"
    },
    "tags": []
   },
   "outputs": [],
   "source": [
    "# cvec_rc = CountVectorizer(ngram_range=(1,1))\n",
    "# cvec_rc.fit(ratingContents_analysis['rcSorted'])\n",
    "# # len(cvec_rc.vocabulary_), cvec_rc.vocabulary_"
   ]
  },
  {
   "cell_type": "code",
   "execution_count": 130,
   "id": "df126204",
   "metadata": {
    "execution": {
     "iopub.execute_input": "2023-08-12T09:38:18.934481Z",
     "iopub.status.busy": "2023-08-12T09:38:18.934025Z",
     "iopub.status.idle": "2023-08-12T09:38:18.938558Z",
     "shell.execute_reply": "2023-08-12T09:38:18.937428Z"
    },
    "papermill": {
     "duration": 0.112526,
     "end_time": "2023-08-12T09:38:18.941123",
     "exception": false,
     "start_time": "2023-08-12T09:38:18.828597",
     "status": "completed"
    },
    "tags": []
   },
   "outputs": [],
   "source": [
    "# genre_testing = cvec_g.transform(merged[\"genre\"])\n",
    "# print(genre_testing)"
   ]
  },
  {
   "cell_type": "markdown",
   "id": "42ced6ad",
   "metadata": {
    "papermill": {
     "duration": 0.104336,
     "end_time": "2023-08-12T09:38:19.150743",
     "exception": false,
     "start_time": "2023-08-12T09:38:19.046407",
     "status": "completed"
    },
    "tags": []
   },
   "source": [
    "## Statistical tests  "
   ]
  },
  {
   "cell_type": "markdown",
   "id": "58eb2c4a",
   "metadata": {
    "papermill": {
     "duration": 0.104693,
     "end_time": "2023-08-12T09:38:19.360349",
     "exception": false,
     "start_time": "2023-08-12T09:38:19.255656",
     "status": "completed"
    },
    "tags": []
   },
   "source": [
    "[Go to genre](#genre_analysis)"
   ]
  },
  {
   "cell_type": "code",
   "execution_count": 131,
   "id": "3228c72f",
   "metadata": {
    "execution": {
     "iopub.execute_input": "2023-08-12T09:38:19.573198Z",
     "iopub.status.busy": "2023-08-12T09:38:19.572719Z",
     "iopub.status.idle": "2023-08-12T09:38:19.577324Z",
     "shell.execute_reply": "2023-08-12T09:38:19.576129Z"
    },
    "papermill": {
     "duration": 0.114516,
     "end_time": "2023-08-12T09:38:19.579719",
     "exception": false,
     "start_time": "2023-08-12T09:38:19.465203",
     "status": "completed"
    },
    "tags": []
   },
   "outputs": [],
   "source": [
    "# print(merged['boxOffice'].head())\n",
    "# merged[\"boxOffice\"].describe()"
   ]
  },
  {
   "cell_type": "code",
   "execution_count": 132,
   "id": "4a43b621",
   "metadata": {
    "execution": {
     "iopub.execute_input": "2023-08-12T09:38:19.794769Z",
     "iopub.status.busy": "2023-08-12T09:38:19.794354Z",
     "iopub.status.idle": "2023-08-12T09:38:19.799509Z",
     "shell.execute_reply": "2023-08-12T09:38:19.798289Z"
    },
    "papermill": {
     "duration": 0.116523,
     "end_time": "2023-08-12T09:38:19.801833",
     "exception": false,
     "start_time": "2023-08-12T09:38:19.685310",
     "status": "completed"
    },
    "tags": []
   },
   "outputs": [],
   "source": [
    "# Function for independent samples t-test on numerical columns  \n",
    "# def ttest_ind(feature):\n",
    "#     pos_grp = merged[feature].loc[merged['sentiment'] == \"POSITIVE\"]\n",
    "#     neg_grp = merged[feature].loc[merged['sentiment'] == \"NEGATIVE\"]\n",
    "\n",
    "#     print(pos_grp.shape, neg_grp.shape)\n",
    "#     print(pos_grp.describe(), neg_grp.describe())\n",
    "\n",
    "#     return stats.ttest_ind(pos_grp, neg_grp)"
   ]
  },
  {
   "cell_type": "code",
   "execution_count": 133,
   "id": "f7903233",
   "metadata": {
    "execution": {
     "iopub.execute_input": "2023-08-12T09:38:20.012765Z",
     "iopub.status.busy": "2023-08-12T09:38:20.012346Z",
     "iopub.status.idle": "2023-08-12T09:38:20.017780Z",
     "shell.execute_reply": "2023-08-12T09:38:20.016320Z"
    },
    "papermill": {
     "duration": 0.1137,
     "end_time": "2023-08-12T09:38:20.020213",
     "exception": false,
     "start_time": "2023-08-12T09:38:19.906513",
     "status": "completed"
    },
    "tags": []
   },
   "outputs": [],
   "source": [
    "# ttest_ind('boxOffice')"
   ]
  },
  {
   "cell_type": "code",
   "execution_count": 134,
   "id": "7459e264",
   "metadata": {
    "execution": {
     "iopub.execute_input": "2023-08-12T09:38:20.231596Z",
     "iopub.status.busy": "2023-08-12T09:38:20.230770Z",
     "iopub.status.idle": "2023-08-12T09:38:20.236164Z",
     "shell.execute_reply": "2023-08-12T09:38:20.235062Z"
    },
    "papermill": {
     "duration": 0.113449,
     "end_time": "2023-08-12T09:38:20.238424",
     "exception": false,
     "start_time": "2023-08-12T09:38:20.124975",
     "status": "completed"
    },
    "tags": []
   },
   "outputs": [],
   "source": [
    "# ttest_ind('runtimeMinutes')"
   ]
  },
  {
   "cell_type": "code",
   "execution_count": 135,
   "id": "53412da5",
   "metadata": {
    "execution": {
     "iopub.execute_input": "2023-08-12T09:38:20.448823Z",
     "iopub.status.busy": "2023-08-12T09:38:20.448380Z",
     "iopub.status.idle": "2023-08-12T09:38:20.453187Z",
     "shell.execute_reply": "2023-08-12T09:38:20.451950Z"
    },
    "papermill": {
     "duration": 0.112701,
     "end_time": "2023-08-12T09:38:20.455539",
     "exception": false,
     "start_time": "2023-08-12T09:38:20.342838",
     "status": "completed"
    },
    "tags": []
   },
   "outputs": [],
   "source": [
    "# ttest_ind('audienceScore')"
   ]
  },
  {
   "cell_type": "code",
   "execution_count": 136,
   "id": "6bd7daab",
   "metadata": {
    "execution": {
     "iopub.execute_input": "2023-08-12T09:38:20.666385Z",
     "iopub.status.busy": "2023-08-12T09:38:20.665937Z",
     "iopub.status.idle": "2023-08-12T09:38:20.670657Z",
     "shell.execute_reply": "2023-08-12T09:38:20.669564Z"
    },
    "papermill": {
     "duration": 0.112483,
     "end_time": "2023-08-12T09:38:20.672996",
     "exception": false,
     "start_time": "2023-08-12T09:38:20.560513",
     "status": "completed"
    },
    "tags": []
   },
   "outputs": [],
   "source": [
    "# sns.boxplot(x=merged['sentiment'], y=merged['boxOffice'])"
   ]
  },
  {
   "cell_type": "markdown",
   "id": "0654dd8c",
   "metadata": {
    "papermill": {
     "duration": 0.17649,
     "end_time": "2023-08-12T09:38:20.953554",
     "exception": false,
     "start_time": "2023-08-12T09:38:20.777064",
     "status": "completed"
    },
    "tags": []
   },
   "source": [
    "## <div id='genre_analysis'>Genre analysis</div>"
   ]
  },
  {
   "cell_type": "code",
   "execution_count": 137,
   "id": "31e67948",
   "metadata": {
    "execution": {
     "iopub.execute_input": "2023-08-12T09:38:21.165435Z",
     "iopub.status.busy": "2023-08-12T09:38:21.164296Z",
     "iopub.status.idle": "2023-08-12T09:38:21.169573Z",
     "shell.execute_reply": "2023-08-12T09:38:21.168591Z"
    },
    "papermill": {
     "duration": 0.113421,
     "end_time": "2023-08-12T09:38:21.171993",
     "exception": false,
     "start_time": "2023-08-12T09:38:21.058572",
     "status": "completed"
    },
    "tags": []
   },
   "outputs": [],
   "source": [
    "# genre_analysis = merged[[\"genre\", \"genreSorted\", \"sentiment\"]].copy()\n",
    "# # print(genre_analysis.head())\n",
    "# # genre_analysis[\"genre\"] = genre_analysis[\"genre\"].apply(lambda x: (\",\").join(sorted(x.split(\", \"))))\n",
    "# genre_analysis.head()"
   ]
  },
  {
   "cell_type": "code",
   "execution_count": 138,
   "id": "d6ea9c0f",
   "metadata": {
    "execution": {
     "iopub.execute_input": "2023-08-12T09:38:21.382998Z",
     "iopub.status.busy": "2023-08-12T09:38:21.382601Z",
     "iopub.status.idle": "2023-08-12T09:38:21.386920Z",
     "shell.execute_reply": "2023-08-12T09:38:21.385814Z"
    },
    "papermill": {
     "duration": 0.112957,
     "end_time": "2023-08-12T09:38:21.389313",
     "exception": false,
     "start_time": "2023-08-12T09:38:21.276356",
     "status": "completed"
    },
    "tags": []
   },
   "outputs": [],
   "source": [
    "# cvec_g = CountVectorizer(ngram_range=(1,3))\n",
    "# cvec_g.fit(genre_analysis['genre'])\n",
    "# # len(cvec_g.vocabulary_), cvec_g.vocabulary_"
   ]
  },
  {
   "cell_type": "code",
   "execution_count": 139,
   "id": "676db57f",
   "metadata": {
    "execution": {
     "iopub.execute_input": "2023-08-12T09:38:21.601868Z",
     "iopub.status.busy": "2023-08-12T09:38:21.601443Z",
     "iopub.status.idle": "2023-08-12T09:38:21.606434Z",
     "shell.execute_reply": "2023-08-12T09:38:21.605224Z"
    },
    "papermill": {
     "duration": 0.114183,
     "end_time": "2023-08-12T09:38:21.608843",
     "exception": false,
     "start_time": "2023-08-12T09:38:21.494660",
     "status": "completed"
    },
    "tags": []
   },
   "outputs": [],
   "source": [
    "# cvec_gSorted = CountVectorizer(ngram_range=(1,3))\n",
    "# cvec_gSorted.fit(genre_analysis['genreSorted'])\n",
    "# len(cvec_gSorted.vocabulary_), cvec_gSorted.vocabulary_"
   ]
  },
  {
   "cell_type": "code",
   "execution_count": 140,
   "id": "104c3406",
   "metadata": {
    "execution": {
     "iopub.execute_input": "2023-08-12T09:38:21.823815Z",
     "iopub.status.busy": "2023-08-12T09:38:21.822530Z",
     "iopub.status.idle": "2023-08-12T09:38:21.827550Z",
     "shell.execute_reply": "2023-08-12T09:38:21.826629Z"
    },
    "papermill": {
     "duration": 0.114867,
     "end_time": "2023-08-12T09:38:21.829742",
     "exception": false,
     "start_time": "2023-08-12T09:38:21.714875",
     "status": "completed"
    },
    "tags": []
   },
   "outputs": [],
   "source": [
    "# genre_testing = cvec_g.transform(merged[\"genre\"])\n",
    "# # print(genre_testing)"
   ]
  },
  {
   "cell_type": "code",
   "execution_count": 141,
   "id": "41e0e2a7",
   "metadata": {
    "execution": {
     "iopub.execute_input": "2023-08-12T09:38:22.043277Z",
     "iopub.status.busy": "2023-08-12T09:38:22.042817Z",
     "iopub.status.idle": "2023-08-12T09:38:22.047413Z",
     "shell.execute_reply": "2023-08-12T09:38:22.046148Z"
    },
    "papermill": {
     "duration": 0.115336,
     "end_time": "2023-08-12T09:38:22.050262",
     "exception": false,
     "start_time": "2023-08-12T09:38:21.934926",
     "status": "completed"
    },
    "tags": []
   },
   "outputs": [],
   "source": [
    "# genre_counts_testing = merged[[\"genre\", \"sentiment\"]].copy()\n",
    "# genre_counts_testing[\"gCount\"] = genre_counts_testing.apply(lambda x: len(str(x[\"genre\"]).split()), axis=1)\n",
    "# genre_counts_testing"
   ]
  },
  {
   "cell_type": "code",
   "execution_count": 142,
   "id": "a6f4b8f7",
   "metadata": {
    "execution": {
     "iopub.execute_input": "2023-08-12T09:38:22.263176Z",
     "iopub.status.busy": "2023-08-12T09:38:22.262737Z",
     "iopub.status.idle": "2023-08-12T09:38:22.266724Z",
     "shell.execute_reply": "2023-08-12T09:38:22.265953Z"
    },
    "papermill": {
     "duration": 0.113501,
     "end_time": "2023-08-12T09:38:22.269108",
     "exception": false,
     "start_time": "2023-08-12T09:38:22.155607",
     "status": "completed"
    },
    "tags": []
   },
   "outputs": [],
   "source": [
    "# sns.boxplot(y=genre_counts_testing[\"gCount\"], x=genre_counts_testing[\"sentiment\"])"
   ]
  },
  {
   "cell_type": "code",
   "execution_count": 143,
   "id": "23a524c6",
   "metadata": {
    "execution": {
     "iopub.execute_input": "2023-08-12T09:38:22.481103Z",
     "iopub.status.busy": "2023-08-12T09:38:22.480676Z",
     "iopub.status.idle": "2023-08-12T09:38:22.485683Z",
     "shell.execute_reply": "2023-08-12T09:38:22.484605Z"
    },
    "papermill": {
     "duration": 0.113613,
     "end_time": "2023-08-12T09:38:22.488090",
     "exception": false,
     "start_time": "2023-08-12T09:38:22.374477",
     "status": "completed"
    },
    "tags": []
   },
   "outputs": [],
   "source": [
    "# sns.boxplot(y=merged[\"reviewWC\"], x=merged[\"sentiment\"])"
   ]
  },
  {
   "cell_type": "code",
   "execution_count": 144,
   "id": "de57aaee",
   "metadata": {
    "execution": {
     "iopub.execute_input": "2023-08-12T09:38:22.705030Z",
     "iopub.status.busy": "2023-08-12T09:38:22.704583Z",
     "iopub.status.idle": "2023-08-12T09:38:22.708725Z",
     "shell.execute_reply": "2023-08-12T09:38:22.707850Z"
    },
    "papermill": {
     "duration": 0.11516,
     "end_time": "2023-08-12T09:38:22.711251",
     "exception": false,
     "start_time": "2023-08-12T09:38:22.596091",
     "status": "completed"
    },
    "tags": []
   },
   "outputs": [],
   "source": [
    "# audienceScore bins\n",
    "# asc = merged[['audienceScore', 'sentiment']].copy()\n",
    "# asc.head()"
   ]
  },
  {
   "cell_type": "code",
   "execution_count": 145,
   "id": "1be27a2c",
   "metadata": {
    "execution": {
     "iopub.execute_input": "2023-08-12T09:38:22.928076Z",
     "iopub.status.busy": "2023-08-12T09:38:22.927639Z",
     "iopub.status.idle": "2023-08-12T09:38:22.932625Z",
     "shell.execute_reply": "2023-08-12T09:38:22.931290Z"
    },
    "papermill": {
     "duration": 0.113997,
     "end_time": "2023-08-12T09:38:22.935135",
     "exception": false,
     "start_time": "2023-08-12T09:38:22.821138",
     "status": "completed"
    },
    "tags": []
   },
   "outputs": [],
   "source": [
    "# Binning numerical features  \n",
    "\n",
    "# print(merged[\"runtimeBins\"].value_counts())\n",
    "# sns.displot(merged[\"runtimeBins\"])"
   ]
  },
  {
   "cell_type": "code",
   "execution_count": 146,
   "id": "6518b91a",
   "metadata": {
    "execution": {
     "iopub.execute_input": "2023-08-12T09:38:23.149456Z",
     "iopub.status.busy": "2023-08-12T09:38:23.148626Z",
     "iopub.status.idle": "2023-08-12T09:38:23.153066Z",
     "shell.execute_reply": "2023-08-12T09:38:23.152199Z"
    },
    "papermill": {
     "duration": 0.113721,
     "end_time": "2023-08-12T09:38:23.155347",
     "exception": false,
     "start_time": "2023-08-12T09:38:23.041626",
     "status": "completed"
    },
    "tags": []
   },
   "outputs": [],
   "source": [
    "# Chi-square test for isFrequentReviewer column and sentiment column   \n",
    "\n",
    "# contingency_table = pd.crosstab(traindf['isFrequentReviewer'], traindf['sentiment'])\n",
    "# print(contingency_table)\n",
    "# stats.chi2_contingency(contingency_table)"
   ]
  },
  {
   "cell_type": "markdown",
   "id": "a774cc70",
   "metadata": {
    "papermill": {
     "duration": 0.106351,
     "end_time": "2023-08-12T09:38:23.369290",
     "exception": false,
     "start_time": "2023-08-12T09:38:23.262939",
     "status": "completed"
    },
    "tags": []
   },
   "source": [
    "## Baseline performance of 'reviewText' column  "
   ]
  },
  {
   "cell_type": "code",
   "execution_count": 147,
   "id": "02115e8e",
   "metadata": {
    "execution": {
     "iopub.execute_input": "2023-08-12T09:38:23.582330Z",
     "iopub.status.busy": "2023-08-12T09:38:23.581563Z",
     "iopub.status.idle": "2023-08-12T09:38:23.585662Z",
     "shell.execute_reply": "2023-08-12T09:38:23.584786Z"
    },
    "papermill": {
     "duration": 0.113397,
     "end_time": "2023-08-12T09:38:23.588060",
     "exception": false,
     "start_time": "2023-08-12T09:38:23.474663",
     "status": "completed"
    },
    "tags": []
   },
   "outputs": [],
   "source": [
    "# rt_dict = {'txt': ['reviewText']}\n",
    "# rt_dict"
   ]
  },
  {
   "cell_type": "code",
   "execution_count": 148,
   "id": "7c2902b0",
   "metadata": {
    "execution": {
     "iopub.execute_input": "2023-08-12T09:38:23.804562Z",
     "iopub.status.busy": "2023-08-12T09:38:23.803919Z",
     "iopub.status.idle": "2023-08-12T09:38:23.809325Z",
     "shell.execute_reply": "2023-08-12T09:38:23.808385Z"
    },
    "papermill": {
     "duration": 0.115366,
     "end_time": "2023-08-12T09:38:23.811620",
     "exception": false,
     "start_time": "2023-08-12T09:38:23.696254",
     "status": "completed"
    },
    "tags": []
   },
   "outputs": [],
   "source": [
    "# submit_v4(selected_model=LogisticRegression(C=5, solver=\"saga\", max_iter=100000),\n",
    "#           selected_features=rt_dict,\n",
    "#           param_grid=None,\n",
    "#           vocab=None)"
   ]
  },
  {
   "cell_type": "markdown",
   "id": "72c2f656",
   "metadata": {
    "papermill": {
     "duration": 0.108054,
     "end_time": "2023-08-12T09:38:24.026349",
     "exception": false,
     "start_time": "2023-08-12T09:38:23.918295",
     "status": "completed"
    },
    "tags": []
   },
   "source": [
    "## RFE  "
   ]
  },
  {
   "cell_type": "code",
   "execution_count": 149,
   "id": "fe94935e",
   "metadata": {
    "execution": {
     "iopub.execute_input": "2023-08-12T09:38:24.238019Z",
     "iopub.status.busy": "2023-08-12T09:38:24.237217Z",
     "iopub.status.idle": "2023-08-12T09:38:24.242029Z",
     "shell.execute_reply": "2023-08-12T09:38:24.241240Z"
    },
    "papermill": {
     "duration": 0.112586,
     "end_time": "2023-08-12T09:38:24.244281",
     "exception": false,
     "start_time": "2023-08-12T09:38:24.131695",
     "status": "completed"
    },
    "tags": []
   },
   "outputs": [],
   "source": [
    "# def fs_rfe(selector, text_df, labels, ngram_range=(1,1)):\n",
    "#     text_df_ngram = TfidfVectorizer(ngram_range=ngram_range, stop_words='english').fit_transform(text_df)\n",
    "#     print(\"text_df was vectorized using TF-IDF vectorizer with ngram_range: \", ngram_range)\n",
    "#     print(\"text_df.shape: \", text_df.shape)\n",
    "#     print(\"labels.shape: \", labels.shape)\n",
    "#     print(\"text_df_ngram.shape: \", text_df_ngram.shape)\n",
    "#     print()\n",
    "\n",
    "#     print(\"Starting RFE fit...\")\n",
    "#     selector.fit(text_df_ngram, labels)\n",
    "#     print(\"RFE fit complete.\\n\")\n",
    "    \n",
    "#     print(\"selector.n_features_: \", selector.n_features_)   \n",
    "#     print(\"selector.n_features_in_: \", selector.n_features_in_)\n",
    "#     print(\"selector.support_.shape: \", selector.support_.shape)\n",
    "\n",
    "#     return selector.support_"
   ]
  },
  {
   "cell_type": "markdown",
   "id": "4ffb783d",
   "metadata": {
    "papermill": {
     "duration": 0.103931,
     "end_time": "2023-08-12T09:38:24.453400",
     "exception": false,
     "start_time": "2023-08-12T09:38:24.349469",
     "status": "completed"
    },
    "tags": []
   },
   "source": [
    "`RFE for unigrams`  "
   ]
  },
  {
   "cell_type": "code",
   "execution_count": 150,
   "id": "f022f5e9",
   "metadata": {
    "execution": {
     "iopub.execute_input": "2023-08-12T09:38:24.666320Z",
     "iopub.status.busy": "2023-08-12T09:38:24.665580Z",
     "iopub.status.idle": "2023-08-12T09:38:24.669950Z",
     "shell.execute_reply": "2023-08-12T09:38:24.669122Z"
    },
    "papermill": {
     "duration": 0.11338,
     "end_time": "2023-08-12T09:38:24.672235",
     "exception": false,
     "start_time": "2023-08-12T09:38:24.558855",
     "status": "completed"
    },
    "tags": []
   },
   "outputs": [],
   "source": [
    "# estimator_rfe_1 = LogisticRegression(solver='saga', max_iter=100000)\n",
    "# selector_rfe_1 = RFE(estimator_rfe_1, step=0.1, n_features_to_select=30000)"
   ]
  },
  {
   "cell_type": "code",
   "execution_count": 151,
   "id": "f2dc4426",
   "metadata": {
    "execution": {
     "iopub.execute_input": "2023-08-12T09:38:24.886175Z",
     "iopub.status.busy": "2023-08-12T09:38:24.885736Z",
     "iopub.status.idle": "2023-08-12T09:38:24.890440Z",
     "shell.execute_reply": "2023-08-12T09:38:24.889223Z"
    },
    "papermill": {
     "duration": 0.115116,
     "end_time": "2023-08-12T09:38:24.892736",
     "exception": false,
     "start_time": "2023-08-12T09:38:24.777620",
     "status": "completed"
    },
    "tags": []
   },
   "outputs": [],
   "source": [
    "# rfe_1_feat_mask = fs_rfe(selector_rfe_1, rt_senti[\"reviewText\"], rt_senti[\"sentiment\"], ngram_range=(1,1))\n",
    "# rfe_1_feat_mask"
   ]
  },
  {
   "cell_type": "code",
   "execution_count": 152,
   "id": "e449158c",
   "metadata": {
    "execution": {
     "iopub.execute_input": "2023-08-12T09:38:25.105242Z",
     "iopub.status.busy": "2023-08-12T09:38:25.104814Z",
     "iopub.status.idle": "2023-08-12T09:38:25.109866Z",
     "shell.execute_reply": "2023-08-12T09:38:25.108756Z"
    },
    "papermill": {
     "duration": 0.113696,
     "end_time": "2023-08-12T09:38:25.112331",
     "exception": false,
     "start_time": "2023-08-12T09:38:24.998635",
     "status": "completed"
    },
    "tags": []
   },
   "outputs": [],
   "source": [
    "# voc_1gram_rfe = list(compress(voc_1gram, rfe_1_feat_mask))\n",
    "# len(voc_1gram_rfe), voc_1gram_rfe[:10]"
   ]
  },
  {
   "cell_type": "markdown",
   "id": "54d6f35f",
   "metadata": {
    "papermill": {
     "duration": 0.104307,
     "end_time": "2023-08-12T09:38:25.322125",
     "exception": false,
     "start_time": "2023-08-12T09:38:25.217818",
     "status": "completed"
    },
    "tags": []
   },
   "source": [
    "`RFE for bigrams`  "
   ]
  },
  {
   "cell_type": "code",
   "execution_count": 153,
   "id": "11485036",
   "metadata": {
    "execution": {
     "iopub.execute_input": "2023-08-12T09:38:25.532838Z",
     "iopub.status.busy": "2023-08-12T09:38:25.532440Z",
     "iopub.status.idle": "2023-08-12T09:38:25.537340Z",
     "shell.execute_reply": "2023-08-12T09:38:25.536183Z"
    },
    "papermill": {
     "duration": 0.113293,
     "end_time": "2023-08-12T09:38:25.539653",
     "exception": false,
     "start_time": "2023-08-12T09:38:25.426360",
     "status": "completed"
    },
    "tags": []
   },
   "outputs": [],
   "source": [
    "# estimator_rfe_2 = LogisticRegression(solver='saga', max_iter=100000)\n",
    "# selector_rfe_2 = RFE(estimator_rfe_2, step=0.1, n_features_to_select=50000)"
   ]
  },
  {
   "cell_type": "code",
   "execution_count": 154,
   "id": "a83d0f1a",
   "metadata": {
    "execution": {
     "iopub.execute_input": "2023-08-12T09:38:25.752611Z",
     "iopub.status.busy": "2023-08-12T09:38:25.752195Z",
     "iopub.status.idle": "2023-08-12T09:38:25.757232Z",
     "shell.execute_reply": "2023-08-12T09:38:25.756055Z"
    },
    "papermill": {
     "duration": 0.11379,
     "end_time": "2023-08-12T09:38:25.759591",
     "exception": false,
     "start_time": "2023-08-12T09:38:25.645801",
     "status": "completed"
    },
    "tags": []
   },
   "outputs": [],
   "source": [
    "# rfe_2_feat_mask = fs_rfe(selector_rfe_2, rt_senti[\"reviewText\"], rt_senti[\"sentiment\"], ngram_range=(2,2))\n",
    "# rfe_2_feat_mask"
   ]
  },
  {
   "cell_type": "code",
   "execution_count": 155,
   "id": "2c686a27",
   "metadata": {
    "execution": {
     "iopub.execute_input": "2023-08-12T09:38:25.975957Z",
     "iopub.status.busy": "2023-08-12T09:38:25.975512Z",
     "iopub.status.idle": "2023-08-12T09:38:25.979486Z",
     "shell.execute_reply": "2023-08-12T09:38:25.978471Z"
    },
    "papermill": {
     "duration": 0.113484,
     "end_time": "2023-08-12T09:38:25.981930",
     "exception": false,
     "start_time": "2023-08-12T09:38:25.868446",
     "status": "completed"
    },
    "tags": []
   },
   "outputs": [],
   "source": [
    "# voc_2gram_rfe = list(compress(voc_2gram, rfe_2_feat_mask))\n",
    "# len(voc_2gram_rfe), voc_2gram_rfe[:10]"
   ]
  },
  {
   "cell_type": "markdown",
   "id": "1f8e3914",
   "metadata": {
    "papermill": {
     "duration": 0.104542,
     "end_time": "2023-08-12T09:38:26.191719",
     "exception": false,
     "start_time": "2023-08-12T09:38:26.087177",
     "status": "completed"
    },
    "tags": []
   },
   "source": [
    "## Final RFE-derived vocabulary  "
   ]
  },
  {
   "cell_type": "code",
   "execution_count": 156,
   "id": "88bedf34",
   "metadata": {
    "execution": {
     "iopub.execute_input": "2023-08-12T09:38:26.404360Z",
     "iopub.status.busy": "2023-08-12T09:38:26.403864Z",
     "iopub.status.idle": "2023-08-12T09:38:26.409025Z",
     "shell.execute_reply": "2023-08-12T09:38:26.407748Z"
    },
    "papermill": {
     "duration": 0.113788,
     "end_time": "2023-08-12T09:38:26.411643",
     "exception": false,
     "start_time": "2023-08-12T09:38:26.297855",
     "status": "completed"
    },
    "tags": []
   },
   "outputs": [],
   "source": [
    "# rfe_vocab = voc_1gram_rfe + voc_2gram_rfe\n",
    "# len(rfe_vocab), rfe_vocab[:10], rfe_vocab[-10:]"
   ]
  },
  {
   "cell_type": "code",
   "execution_count": 157,
   "id": "519e570e",
   "metadata": {
    "execution": {
     "iopub.execute_input": "2023-08-12T09:38:26.626823Z",
     "iopub.status.busy": "2023-08-12T09:38:26.626182Z",
     "iopub.status.idle": "2023-08-12T09:38:26.630347Z",
     "shell.execute_reply": "2023-08-12T09:38:26.629316Z"
    },
    "papermill": {
     "duration": 0.114316,
     "end_time": "2023-08-12T09:38:26.632522",
     "exception": false,
     "start_time": "2023-08-12T09:38:26.518206",
     "status": "completed"
    },
    "tags": []
   },
   "outputs": [],
   "source": [
    "## Test RFE obtained vocabulary in final pipeline (only with reviewText)  \n",
    "# submit_v4(selected_model=LogisticRegression(C=5, solver=\"saga\", max_iter=100000),\n",
    "#           selected_features=rt_dict,\n",
    "#           param_grid=None,\n",
    "#           vocab=rfe_vocab)"
   ]
  },
  {
   "cell_type": "markdown",
   "id": "20593d8f",
   "metadata": {
    "papermill": {
     "duration": 0.105531,
     "end_time": "2023-08-12T09:38:26.842948",
     "exception": false,
     "start_time": "2023-08-12T09:38:26.737417",
     "status": "completed"
    },
    "tags": []
   },
   "source": [
    "## Use rfe_vocab in final pipeline with all params  "
   ]
  },
  {
   "cell_type": "code",
   "execution_count": 158,
   "id": "c1d61dc4",
   "metadata": {
    "execution": {
     "iopub.execute_input": "2023-08-12T09:38:27.053707Z",
     "iopub.status.busy": "2023-08-12T09:38:27.053035Z",
     "iopub.status.idle": "2023-08-12T09:38:27.057240Z",
     "shell.execute_reply": "2023-08-12T09:38:27.056383Z"
    },
    "papermill": {
     "duration": 0.112059,
     "end_time": "2023-08-12T09:38:27.059545",
     "exception": false,
     "start_time": "2023-08-12T09:38:26.947486",
     "status": "completed"
    },
    "tags": []
   },
   "outputs": [],
   "source": [
    "# submit_v4(selected_model=LogisticRegression(max_iter=100000),\n",
    "#           selected_features=all_dict,\n",
    "#           param_grid=param_grid,\n",
    "#           vocab=rfe_vocab)"
   ]
  },
  {
   "cell_type": "code",
   "execution_count": 159,
   "id": "56ecdcda",
   "metadata": {
    "execution": {
     "iopub.execute_input": "2023-08-12T09:38:27.354597Z",
     "iopub.status.busy": "2023-08-12T09:38:27.353109Z",
     "iopub.status.idle": "2023-08-12T09:38:27.373003Z",
     "shell.execute_reply": "2023-08-12T09:38:27.371513Z"
    },
    "papermill": {
     "duration": 0.209204,
     "end_time": "2023-08-12T09:38:27.375849",
     "exception": false,
     "start_time": "2023-08-12T09:38:27.166645",
     "status": "completed"
    },
    "tags": []
   },
   "outputs": [
    {
     "data": {
      "text/html": [
       "<style>#sk-container-id-1 {color: black;background-color: white;}#sk-container-id-1 pre{padding: 0;}#sk-container-id-1 div.sk-toggleable {background-color: white;}#sk-container-id-1 label.sk-toggleable__label {cursor: pointer;display: block;width: 100%;margin-bottom: 0;padding: 0.3em;box-sizing: border-box;text-align: center;}#sk-container-id-1 label.sk-toggleable__label-arrow:before {content: \"▸\";float: left;margin-right: 0.25em;color: #696969;}#sk-container-id-1 label.sk-toggleable__label-arrow:hover:before {color: black;}#sk-container-id-1 div.sk-estimator:hover label.sk-toggleable__label-arrow:before {color: black;}#sk-container-id-1 div.sk-toggleable__content {max-height: 0;max-width: 0;overflow: hidden;text-align: left;background-color: #f0f8ff;}#sk-container-id-1 div.sk-toggleable__content pre {margin: 0.2em;color: black;border-radius: 0.25em;background-color: #f0f8ff;}#sk-container-id-1 input.sk-toggleable__control:checked~div.sk-toggleable__content {max-height: 200px;max-width: 100%;overflow: auto;}#sk-container-id-1 input.sk-toggleable__control:checked~label.sk-toggleable__label-arrow:before {content: \"▾\";}#sk-container-id-1 div.sk-estimator input.sk-toggleable__control:checked~label.sk-toggleable__label {background-color: #d4ebff;}#sk-container-id-1 div.sk-label input.sk-toggleable__control:checked~label.sk-toggleable__label {background-color: #d4ebff;}#sk-container-id-1 input.sk-hidden--visually {border: 0;clip: rect(1px 1px 1px 1px);clip: rect(1px, 1px, 1px, 1px);height: 1px;margin: -1px;overflow: hidden;padding: 0;position: absolute;width: 1px;}#sk-container-id-1 div.sk-estimator {font-family: monospace;background-color: #f0f8ff;border: 1px dotted black;border-radius: 0.25em;box-sizing: border-box;margin-bottom: 0.5em;}#sk-container-id-1 div.sk-estimator:hover {background-color: #d4ebff;}#sk-container-id-1 div.sk-parallel-item::after {content: \"\";width: 100%;border-bottom: 1px solid gray;flex-grow: 1;}#sk-container-id-1 div.sk-label:hover label.sk-toggleable__label {background-color: #d4ebff;}#sk-container-id-1 div.sk-serial::before {content: \"\";position: absolute;border-left: 1px solid gray;box-sizing: border-box;top: 0;bottom: 0;left: 50%;z-index: 0;}#sk-container-id-1 div.sk-serial {display: flex;flex-direction: column;align-items: center;background-color: white;padding-right: 0.2em;padding-left: 0.2em;position: relative;}#sk-container-id-1 div.sk-item {position: relative;z-index: 1;}#sk-container-id-1 div.sk-parallel {display: flex;align-items: stretch;justify-content: center;background-color: white;position: relative;}#sk-container-id-1 div.sk-item::before, #sk-container-id-1 div.sk-parallel-item::before {content: \"\";position: absolute;border-left: 1px solid gray;box-sizing: border-box;top: 0;bottom: 0;left: 50%;z-index: -1;}#sk-container-id-1 div.sk-parallel-item {display: flex;flex-direction: column;z-index: 1;position: relative;background-color: white;}#sk-container-id-1 div.sk-parallel-item:first-child::after {align-self: flex-end;width: 50%;}#sk-container-id-1 div.sk-parallel-item:last-child::after {align-self: flex-start;width: 50%;}#sk-container-id-1 div.sk-parallel-item:only-child::after {width: 0;}#sk-container-id-1 div.sk-dashed-wrapped {border: 1px dashed gray;margin: 0 0.4em 0.5em 0.4em;box-sizing: border-box;padding-bottom: 0.4em;background-color: white;}#sk-container-id-1 div.sk-label label {font-family: monospace;font-weight: bold;display: inline-block;line-height: 1.2em;}#sk-container-id-1 div.sk-label-container {text-align: center;}#sk-container-id-1 div.sk-container {/* jupyter's `normalize.less` sets `[hidden] { display: none; }` but bootstrap.min.css set `[hidden] { display: none !important; }` so we also need the `!important` here to be able to override the default hidden behavior on the sphinx rendered scikit-learn.org. See: https://github.com/scikit-learn/scikit-learn/issues/21755 */display: inline-block !important;position: relative;}#sk-container-id-1 div.sk-text-repr-fallback {display: none;}</style><div id=\"sk-container-id-1\" class=\"sk-top-container\"><div class=\"sk-text-repr-fallback\"><pre>AdaBoostClassifier(estimator=LogisticRegression(C=5, max_iter=100000,\n",
       "                                                solver=&#x27;saga&#x27;))</pre><b>In a Jupyter environment, please rerun this cell to show the HTML representation or trust the notebook. <br />On GitHub, the HTML representation is unable to render, please try loading this page with nbviewer.org.</b></div><div class=\"sk-container\" hidden><div class=\"sk-item sk-dashed-wrapped\"><div class=\"sk-label-container\"><div class=\"sk-label sk-toggleable\"><input class=\"sk-toggleable__control sk-hidden--visually\" id=\"sk-estimator-id-1\" type=\"checkbox\" ><label for=\"sk-estimator-id-1\" class=\"sk-toggleable__label sk-toggleable__label-arrow\">AdaBoostClassifier</label><div class=\"sk-toggleable__content\"><pre>AdaBoostClassifier(estimator=LogisticRegression(C=5, max_iter=100000,\n",
       "                                                solver=&#x27;saga&#x27;))</pre></div></div></div><div class=\"sk-parallel\"><div class=\"sk-parallel-item\"><div class=\"sk-item\"><div class=\"sk-label-container\"><div class=\"sk-label sk-toggleable\"><input class=\"sk-toggleable__control sk-hidden--visually\" id=\"sk-estimator-id-2\" type=\"checkbox\" ><label for=\"sk-estimator-id-2\" class=\"sk-toggleable__label sk-toggleable__label-arrow\">estimator: LogisticRegression</label><div class=\"sk-toggleable__content\"><pre>LogisticRegression(C=5, max_iter=100000, solver=&#x27;saga&#x27;)</pre></div></div></div><div class=\"sk-serial\"><div class=\"sk-item\"><div class=\"sk-estimator sk-toggleable\"><input class=\"sk-toggleable__control sk-hidden--visually\" id=\"sk-estimator-id-3\" type=\"checkbox\" ><label for=\"sk-estimator-id-3\" class=\"sk-toggleable__label sk-toggleable__label-arrow\">LogisticRegression</label><div class=\"sk-toggleable__content\"><pre>LogisticRegression(C=5, max_iter=100000, solver=&#x27;saga&#x27;)</pre></div></div></div></div></div></div></div></div></div></div>"
      ],
      "text/plain": [
       "AdaBoostClassifier(estimator=LogisticRegression(C=5, max_iter=100000,\n",
       "                                                solver='saga'))"
      ]
     },
     "execution_count": 159,
     "metadata": {},
     "output_type": "execute_result"
    }
   ],
   "source": [
    "adc = AdaBoostClassifier(estimator=LogisticRegression(C=5, solver=\"saga\", max_iter=100000), n_estimators=50)\n",
    "adc"
   ]
  },
  {
   "cell_type": "code",
   "execution_count": 160,
   "id": "f23352fc",
   "metadata": {
    "execution": {
     "iopub.execute_input": "2023-08-12T09:38:27.598545Z",
     "iopub.status.busy": "2023-08-12T09:38:27.597177Z",
     "iopub.status.idle": "2023-08-12T09:38:27.602846Z",
     "shell.execute_reply": "2023-08-12T09:38:27.601584Z"
    },
    "papermill": {
     "duration": 0.115096,
     "end_time": "2023-08-12T09:38:27.605544",
     "exception": false,
     "start_time": "2023-08-12T09:38:27.490448",
     "status": "completed"
    },
    "tags": []
   },
   "outputs": [],
   "source": [
    "# submit_v4(selected_model=adc,\n",
    "#           selected_features={'cat': ['isFrequentReviewer']},\n",
    "#           param_grid=None,\n",
    "#           vocab=rfe_vocab)"
   ]
  },
  {
   "cell_type": "code",
   "execution_count": 161,
   "id": "b467d679",
   "metadata": {
    "execution": {
     "iopub.execute_input": "2023-08-12T09:38:27.826983Z",
     "iopub.status.busy": "2023-08-12T09:38:27.825747Z",
     "iopub.status.idle": "2023-08-12T09:38:27.830855Z",
     "shell.execute_reply": "2023-08-12T09:38:27.829985Z"
    },
    "papermill": {
     "duration": 0.115271,
     "end_time": "2023-08-12T09:38:27.833013",
     "exception": false,
     "start_time": "2023-08-12T09:38:27.717742",
     "status": "completed"
    },
    "tags": []
   },
   "outputs": [],
   "source": [
    "# AdaBoost on all features with RFE vocab on reviewText\n",
    "\n",
    "# submit_v4(selected_model=adc,\n",
    "#           selected_features=all_dict,\n",
    "#           param_grid=None,\n",
    "#           vocab=rfe_vocab)"
   ]
  },
  {
   "cell_type": "code",
   "execution_count": 162,
   "id": "04d7429e",
   "metadata": {
    "execution": {
     "iopub.execute_input": "2023-08-12T09:38:28.044580Z",
     "iopub.status.busy": "2023-08-12T09:38:28.043314Z",
     "iopub.status.idle": "2023-08-12T09:38:28.048947Z",
     "shell.execute_reply": "2023-08-12T09:38:28.047634Z"
    },
    "papermill": {
     "duration": 0.114244,
     "end_time": "2023-08-12T09:38:28.051678",
     "exception": false,
     "start_time": "2023-08-12T09:38:27.937434",
     "status": "completed"
    },
    "tags": []
   },
   "outputs": [],
   "source": [
    "# RandomForestClassifier test run on one feature\n",
    "\n",
    "# rfc_2 = RandomForestClassifier()\n",
    "# rfc_2"
   ]
  },
  {
   "cell_type": "code",
   "execution_count": 163,
   "id": "a3454415",
   "metadata": {
    "execution": {
     "iopub.execute_input": "2023-08-12T09:38:28.266421Z",
     "iopub.status.busy": "2023-08-12T09:38:28.265736Z",
     "iopub.status.idle": "2023-08-12T09:38:28.270634Z",
     "shell.execute_reply": "2023-08-12T09:38:28.269409Z"
    },
    "papermill": {
     "duration": 0.113732,
     "end_time": "2023-08-12T09:38:28.272928",
     "exception": false,
     "start_time": "2023-08-12T09:38:28.159196",
     "status": "completed"
    },
    "tags": []
   },
   "outputs": [],
   "source": [
    "# submit_v4(selected_model=rfc_2,\n",
    "#           selected_features={'txt': ['reviewerName']},\n",
    "#           param_grid=None,\n",
    "#           vocab=rfe_vocab)"
   ]
  },
  {
   "cell_type": "code",
   "execution_count": 164,
   "id": "1601b56a",
   "metadata": {
    "execution": {
     "iopub.execute_input": "2023-08-12T09:38:28.486512Z",
     "iopub.status.busy": "2023-08-12T09:38:28.486029Z",
     "iopub.status.idle": "2023-08-12T09:38:28.491099Z",
     "shell.execute_reply": "2023-08-12T09:38:28.489965Z"
    },
    "papermill": {
     "duration": 0.114915,
     "end_time": "2023-08-12T09:38:28.493559",
     "exception": false,
     "start_time": "2023-08-12T09:38:28.378644",
     "status": "completed"
    },
    "tags": []
   },
   "outputs": [],
   "source": [
    "# RandomForestClassifier on all features with RFE vocab on reviewText\n",
    "\n",
    "# submit_v4(selected_model=rfc_2,\n",
    "#           selected_features=all_dict,\n",
    "#           param_grid=None,\n",
    "#           vocab=rfe_vocab)"
   ]
  },
  {
   "cell_type": "markdown",
   "id": "a80854bd",
   "metadata": {
    "papermill": {
     "duration": 0.106723,
     "end_time": "2023-08-12T09:38:28.707154",
     "exception": false,
     "start_time": "2023-08-12T09:38:28.600431",
     "status": "completed"
    },
    "tags": []
   },
   "source": [
    "## Submit_v2 for merged file models  "
   ]
  },
  {
   "cell_type": "code",
   "execution_count": 165,
   "id": "e8a3196d",
   "metadata": {
    "execution": {
     "iopub.execute_input": "2023-08-12T09:38:28.922470Z",
     "iopub.status.busy": "2023-08-12T09:38:28.921982Z",
     "iopub.status.idle": "2023-08-12T09:38:28.928520Z",
     "shell.execute_reply": "2023-08-12T09:38:28.927196Z"
    },
    "papermill": {
     "duration": 0.118395,
     "end_time": "2023-08-12T09:38:28.930934",
     "exception": false,
     "start_time": "2023-08-12T09:38:28.812539",
     "status": "completed"
    },
    "tags": []
   },
   "outputs": [],
   "source": [
    "# def submit_v2(selected_model=pipe_final, selected_features=None):\n",
    "#     '''\n",
    "#     Note that \"selected_preprocessor\" is already used within selected_model or pipeline\n",
    "#     '''\n",
    "#     # Retrain on the whole train.csv file  \n",
    "#     merged = select_features(load_csv(\"train\"), load_csv(\"movies\"))\n",
    "#     X_train = merged.drop(labels=\"sentiment\", axis=1)\n",
    "#     y_train = merged[\"sentiment\"]\n",
    "    \n",
    "#     #Use selected features\n",
    "#     if selected_features:\n",
    "#         X_train = X_train[selected_features]\n",
    "    \n",
    "#     # Check1\n",
    "#     print(X_train.shape)\n",
    "#     print(X_train.head())\n",
    "#     try:\n",
    "#         print(selected_model.named_steps['model'].intercept_, selected_model.named_steps['model'].coef_)\n",
    "#     except:\n",
    "#         print(\"Model not trained yet!\")\n",
    "    \n",
    "#     # Fit \n",
    "#     selected_model.fit(X_train, y_train)\n",
    "    \n",
    "#     # Check2\n",
    "#     print(selected_model.named_steps['model'].intercept_, selected_model.named_steps['model'].coef_)\n",
    "    \n",
    "#     # Predict on test.csv file\n",
    "#     merged_test = select_features(load_csv(\"test\"), load_csv(\"movies\"))\n",
    "#     X_test = merged_test.copy()\n",
    "#     if selected_features:\n",
    "#         X_test = X_test[selected_features]\n",
    "    \n",
    "#     # Check3\n",
    "#     print(X_test.shape)\n",
    "#     print(X_test.head())\n",
    "    \n",
    "#     y_pred = selected_model.predict(X_test)\n",
    "    \n",
    "#     pred_df = pd.DataFrame(y_pred)\n",
    "#     pred_df.columns = [\"sentiment\"]\n",
    "#     pred_df.index.name = \"id\"\n",
    "#     pred_df.to_csv(\"submission.csv\")\n",
    "    \n",
    "#     return \"Successfully created the submission file!!!\""
   ]
  },
  {
   "cell_type": "code",
   "execution_count": 166,
   "id": "285e7519",
   "metadata": {
    "execution": {
     "iopub.execute_input": "2023-08-12T09:38:29.145445Z",
     "iopub.status.busy": "2023-08-12T09:38:29.144622Z",
     "iopub.status.idle": "2023-08-12T09:38:29.150201Z",
     "shell.execute_reply": "2023-08-12T09:38:29.148991Z"
    },
    "papermill": {
     "duration": 0.115265,
     "end_time": "2023-08-12T09:38:29.152695",
     "exception": false,
     "start_time": "2023-08-12T09:38:29.037430",
     "status": "completed"
    },
    "tags": []
   },
   "outputs": [],
   "source": [
    "#     X_test = merged_test.copy()\n",
    "    \n",
    "#     y_pred = pipe_best4.predict(X_test)\n",
    "# #     np.unique(y_pred, return_counts=True)\n",
    "#     pred_df = pd.DataFrame(y_pred)\n",
    "#     pred_df.columns = [\"sentiment\"]\n",
    "#     pred_df.index.name = \"id\"\n",
    "#     pred_df.value_counts()"
   ]
  },
  {
   "cell_type": "code",
   "execution_count": 167,
   "id": "90ee8a0c",
   "metadata": {
    "execution": {
     "iopub.execute_input": "2023-08-12T09:38:29.365238Z",
     "iopub.status.busy": "2023-08-12T09:38:29.364760Z",
     "iopub.status.idle": "2023-08-12T09:38:29.369815Z",
     "shell.execute_reply": "2023-08-12T09:38:29.368769Z"
    },
    "papermill": {
     "duration": 0.11418,
     "end_time": "2023-08-12T09:38:29.372030",
     "exception": false,
     "start_time": "2023-08-12T09:38:29.257850",
     "status": "completed"
    },
    "tags": []
   },
   "outputs": [],
   "source": [
    "# X_test.columns"
   ]
  },
  {
   "cell_type": "markdown",
   "id": "8e209297",
   "metadata": {
    "papermill": {
     "duration": 0.104396,
     "end_time": "2023-08-12T09:38:29.583194",
     "exception": false,
     "start_time": "2023-08-12T09:38:29.478798",
     "status": "completed"
    },
    "tags": []
   },
   "source": [
    "### Uncomment to submit using v2 of submit function  "
   ]
  },
  {
   "cell_type": "code",
   "execution_count": 168,
   "id": "f33c1422",
   "metadata": {
    "execution": {
     "iopub.execute_input": "2023-08-12T09:38:29.802290Z",
     "iopub.status.busy": "2023-08-12T09:38:29.801476Z",
     "iopub.status.idle": "2023-08-12T09:38:29.806908Z",
     "shell.execute_reply": "2023-08-12T09:38:29.805737Z"
    },
    "papermill": {
     "duration": 0.117037,
     "end_time": "2023-08-12T09:38:29.809480",
     "exception": false,
     "start_time": "2023-08-12T09:38:29.692443",
     "status": "completed"
    },
    "tags": []
   },
   "outputs": [],
   "source": [
    "# best4 = [\"audienceScore\", \"rating\", \"isFrequentReviewer\", \"reviewText\"]\n",
    "# best4"
   ]
  },
  {
   "cell_type": "code",
   "execution_count": 169,
   "id": "86e2423f",
   "metadata": {
    "execution": {
     "iopub.execute_input": "2023-08-12T09:38:30.022607Z",
     "iopub.status.busy": "2023-08-12T09:38:30.021722Z",
     "iopub.status.idle": "2023-08-12T09:38:30.026202Z",
     "shell.execute_reply": "2023-08-12T09:38:30.025342Z"
    },
    "papermill": {
     "duration": 0.11314,
     "end_time": "2023-08-12T09:38:30.028486",
     "exception": false,
     "start_time": "2023-08-12T09:38:29.915346",
     "status": "completed"
    },
    "tags": []
   },
   "outputs": [],
   "source": [
    "# submit_v2(selected_model=pipe_RTonly, selected_features=['reviewText'])"
   ]
  },
  {
   "cell_type": "markdown",
   "id": "b9f05425",
   "metadata": {
    "papermill": {
     "duration": 0.104823,
     "end_time": "2023-08-12T09:38:30.237797",
     "exception": false,
     "start_time": "2023-08-12T09:38:30.132974",
     "status": "completed"
    },
    "tags": []
   },
   "source": [
    "### Inspect the submission.csv file  "
   ]
  },
  {
   "cell_type": "code",
   "execution_count": 170,
   "id": "31f1943a",
   "metadata": {
    "execution": {
     "iopub.execute_input": "2023-08-12T09:38:30.450260Z",
     "iopub.status.busy": "2023-08-12T09:38:30.449755Z",
     "iopub.status.idle": "2023-08-12T09:38:30.454797Z",
     "shell.execute_reply": "2023-08-12T09:38:30.453636Z"
    },
    "papermill": {
     "duration": 0.113958,
     "end_time": "2023-08-12T09:38:30.457231",
     "exception": false,
     "start_time": "2023-08-12T09:38:30.343273",
     "status": "completed"
    },
    "tags": []
   },
   "outputs": [],
   "source": [
    "# sub = pd.read_csv('submission.csv')\n",
    "# sub.shape, sub.head()"
   ]
  },
  {
   "cell_type": "code",
   "execution_count": 171,
   "id": "6e97f482",
   "metadata": {
    "execution": {
     "iopub.execute_input": "2023-08-12T09:38:30.671105Z",
     "iopub.status.busy": "2023-08-12T09:38:30.670651Z",
     "iopub.status.idle": "2023-08-12T09:38:30.676322Z",
     "shell.execute_reply": "2023-08-12T09:38:30.675207Z"
    },
    "papermill": {
     "duration": 0.115318,
     "end_time": "2023-08-12T09:38:30.678906",
     "exception": false,
     "start_time": "2023-08-12T09:38:30.563588",
     "status": "completed"
    },
    "tags": []
   },
   "outputs": [],
   "source": [
    "# sub['sentiment'].value_counts()"
   ]
  },
  {
   "cell_type": "markdown",
   "id": "4ce41d43",
   "metadata": {
    "papermill": {
     "duration": 0.107074,
     "end_time": "2023-08-12T09:38:30.894200",
     "exception": false,
     "start_time": "2023-08-12T09:38:30.787126",
     "status": "completed"
    },
    "tags": []
   },
   "source": [
    "## submit_v3 for merged file models - does not retrain on whole data  "
   ]
  },
  {
   "cell_type": "code",
   "execution_count": 172,
   "id": "8301cd56",
   "metadata": {
    "execution": {
     "iopub.execute_input": "2023-08-12T09:38:31.106657Z",
     "iopub.status.busy": "2023-08-12T09:38:31.106212Z",
     "iopub.status.idle": "2023-08-12T09:38:31.112094Z",
     "shell.execute_reply": "2023-08-12T09:38:31.110834Z"
    },
    "papermill": {
     "duration": 0.11485,
     "end_time": "2023-08-12T09:38:31.114614",
     "exception": false,
     "start_time": "2023-08-12T09:38:30.999764",
     "status": "completed"
    },
    "tags": []
   },
   "outputs": [],
   "source": [
    "# def submit_v3(selected_model=pipe_final):\n",
    "#     '''\n",
    "#     Note that \"selected_preprocessor\" is already used within selected_model or pipeline\n",
    "#     '''\n",
    "      \n",
    "#     # Predict on test.csv file\n",
    "#     merged_test = select_features(load_csv(\"test\"), load_csv(\"movies\"))\n",
    "#     X_test = merged_test.copy()\n",
    "    \n",
    "#     X_test = X_test[[\"audienceScore\", \"rating\", \"isFrequentReviewer\", \"reviewText\"]]    # This is a new line\n",
    "\n",
    "    \n",
    "#     y_pred = selected_model.predict(X_test)\n",
    "    \n",
    "#     pred_df = pd.DataFrame(y_pred)\n",
    "#     pred_df.columns = [\"sentiment\"]\n",
    "#     pred_df.index.name = \"id\"\n",
    "#     pred_df.to_csv(\"submission.csv\")\n",
    "    \n",
    "#     return \"Successfully created the submission file!!!\""
   ]
  },
  {
   "cell_type": "markdown",
   "id": "c49b1c4a",
   "metadata": {
    "papermill": {
     "duration": 0.105105,
     "end_time": "2023-08-12T09:38:31.325986",
     "exception": false,
     "start_time": "2023-08-12T09:38:31.220881",
     "status": "completed"
    },
    "tags": []
   },
   "source": [
    "### Uncomment to submit using v3 of submit function  "
   ]
  },
  {
   "cell_type": "code",
   "execution_count": 173,
   "id": "1adaba1c",
   "metadata": {
    "execution": {
     "iopub.execute_input": "2023-08-12T09:38:31.540517Z",
     "iopub.status.busy": "2023-08-12T09:38:31.540093Z",
     "iopub.status.idle": "2023-08-12T09:38:31.544844Z",
     "shell.execute_reply": "2023-08-12T09:38:31.543672Z"
    },
    "papermill": {
     "duration": 0.113618,
     "end_time": "2023-08-12T09:38:31.547262",
     "exception": false,
     "start_time": "2023-08-12T09:38:31.433644",
     "status": "completed"
    },
    "tags": []
   },
   "outputs": [],
   "source": [
    "# submit_v3(selected_model=pipe_best4)"
   ]
  },
  {
   "cell_type": "markdown",
   "id": "2422ef81",
   "metadata": {
    "papermill": {
     "duration": 0.108998,
     "end_time": "2023-08-12T09:38:31.762802",
     "exception": false,
     "start_time": "2023-08-12T09:38:31.653804",
     "status": "completed"
    },
    "tags": []
   },
   "source": [
    "## Rough work  "
   ]
  },
  {
   "cell_type": "code",
   "execution_count": 174,
   "id": "82f0f8c0",
   "metadata": {
    "execution": {
     "iopub.execute_input": "2023-08-12T09:38:31.979597Z",
     "iopub.status.busy": "2023-08-12T09:38:31.979183Z",
     "iopub.status.idle": "2023-08-12T09:38:38.202351Z",
     "shell.execute_reply": "2023-08-12T09:38:38.201020Z"
    },
    "papermill": {
     "duration": 6.335121,
     "end_time": "2023-08-12T09:38:38.205256",
     "exception": false,
     "start_time": "2023-08-12T09:38:31.870135",
     "status": "completed"
    },
    "tags": []
   },
   "outputs": [],
   "source": [
    "    # Predict on test.csv file\n",
    "    merged_test = select_features(load_csv(\"test\"), load_csv(\"movies\"))\n",
    "    X_test = merged_test.copy()\n",
    "    \n",
    "    X_test = X_test[[\"audienceScore\", \"rating\", \"isFrequentReviewer\", \"reviewText\"]]    # This is a new line"
   ]
  },
  {
   "cell_type": "code",
   "execution_count": 175,
   "id": "1c9d96e1",
   "metadata": {
    "execution": {
     "iopub.execute_input": "2023-08-12T09:38:38.419363Z",
     "iopub.status.busy": "2023-08-12T09:38:38.418920Z",
     "iopub.status.idle": "2023-08-12T09:38:38.423838Z",
     "shell.execute_reply": "2023-08-12T09:38:38.422531Z"
    },
    "papermill": {
     "duration": 0.114991,
     "end_time": "2023-08-12T09:38:38.426089",
     "exception": false,
     "start_time": "2023-08-12T09:38:38.311098",
     "status": "completed"
    },
    "tags": []
   },
   "outputs": [],
   "source": [
    "# X_test.head()"
   ]
  },
  {
   "cell_type": "code",
   "execution_count": 176,
   "id": "9dc07b5c",
   "metadata": {
    "execution": {
     "iopub.execute_input": "2023-08-12T09:38:38.640777Z",
     "iopub.status.busy": "2023-08-12T09:38:38.640386Z",
     "iopub.status.idle": "2023-08-12T09:38:38.644380Z",
     "shell.execute_reply": "2023-08-12T09:38:38.643527Z"
    },
    "papermill": {
     "duration": 0.113733,
     "end_time": "2023-08-12T09:38:38.646451",
     "exception": false,
     "start_time": "2023-08-12T09:38:38.532718",
     "status": "completed"
    },
    "tags": []
   },
   "outputs": [],
   "source": [
    "# X_test['audienceScore'].describe()"
   ]
  },
  {
   "cell_type": "code",
   "execution_count": 177,
   "id": "71f2a469",
   "metadata": {
    "execution": {
     "iopub.execute_input": "2023-08-12T09:38:38.859616Z",
     "iopub.status.busy": "2023-08-12T09:38:38.858733Z",
     "iopub.status.idle": "2023-08-12T09:38:38.863509Z",
     "shell.execute_reply": "2023-08-12T09:38:38.862417Z"
    },
    "papermill": {
     "duration": 0.11434,
     "end_time": "2023-08-12T09:38:38.865843",
     "exception": false,
     "start_time": "2023-08-12T09:38:38.751503",
     "status": "completed"
    },
    "tags": []
   },
   "outputs": [],
   "source": [
    "# X_test['rating'].value_counts()"
   ]
  },
  {
   "cell_type": "code",
   "execution_count": 178,
   "id": "a086b68b",
   "metadata": {
    "execution": {
     "iopub.execute_input": "2023-08-12T09:38:39.078380Z",
     "iopub.status.busy": "2023-08-12T09:38:39.077959Z",
     "iopub.status.idle": "2023-08-12T09:38:39.082072Z",
     "shell.execute_reply": "2023-08-12T09:38:39.081219Z"
    },
    "papermill": {
     "duration": 0.112371,
     "end_time": "2023-08-12T09:38:39.084234",
     "exception": false,
     "start_time": "2023-08-12T09:38:38.971863",
     "status": "completed"
    },
    "tags": []
   },
   "outputs": [],
   "source": [
    "# X_test['isFrequentReviewer'].value_counts()"
   ]
  },
  {
   "cell_type": "markdown",
   "id": "0929350e",
   "metadata": {
    "papermill": {
     "duration": 0.104639,
     "end_time": "2023-08-12T09:38:39.295021",
     "exception": false,
     "start_time": "2023-08-12T09:38:39.190382",
     "status": "completed"
    },
    "tags": []
   },
   "source": [
    "## Implement KNN classifier  "
   ]
  },
  {
   "cell_type": "code",
   "execution_count": 179,
   "id": "3c471cb5",
   "metadata": {
    "execution": {
     "iopub.execute_input": "2023-08-12T09:38:39.507875Z",
     "iopub.status.busy": "2023-08-12T09:38:39.506789Z",
     "iopub.status.idle": "2023-08-12T09:38:39.512143Z",
     "shell.execute_reply": "2023-08-12T09:38:39.511012Z"
    },
    "papermill": {
     "duration": 0.114738,
     "end_time": "2023-08-12T09:38:39.514827",
     "exception": false,
     "start_time": "2023-08-12T09:38:39.400089",
     "status": "completed"
    },
    "tags": []
   },
   "outputs": [],
   "source": [
    "# from sklearn.neighbors import KNeighborsClassifier"
   ]
  },
  {
   "cell_type": "code",
   "execution_count": 180,
   "id": "15030c65",
   "metadata": {
    "execution": {
     "iopub.execute_input": "2023-08-12T09:38:39.731270Z",
     "iopub.status.busy": "2023-08-12T09:38:39.730843Z",
     "iopub.status.idle": "2023-08-12T09:38:39.735687Z",
     "shell.execute_reply": "2023-08-12T09:38:39.734500Z"
    },
    "papermill": {
     "duration": 0.117057,
     "end_time": "2023-08-12T09:38:39.738267",
     "exception": false,
     "start_time": "2023-08-12T09:38:39.621210",
     "status": "completed"
    },
    "tags": []
   },
   "outputs": [],
   "source": [
    "# Note that we are borrowing \"ct_final\" column transformer from above  "
   ]
  },
  {
   "cell_type": "code",
   "execution_count": 181,
   "id": "c2aa8bc8",
   "metadata": {
    "execution": {
     "iopub.execute_input": "2023-08-12T09:38:39.955343Z",
     "iopub.status.busy": "2023-08-12T09:38:39.954288Z",
     "iopub.status.idle": "2023-08-12T09:38:39.959819Z",
     "shell.execute_reply": "2023-08-12T09:38:39.958619Z"
    },
    "papermill": {
     "duration": 0.117259,
     "end_time": "2023-08-12T09:38:39.962423",
     "exception": false,
     "start_time": "2023-08-12T09:38:39.845164",
     "status": "completed"
    },
    "tags": []
   },
   "outputs": [],
   "source": [
    "# pipe_knn = Pipeline(steps=[\n",
    "#                         (\"preprocessor\", ct_final),\n",
    "#                         (\"model\", KNeighborsClassifier())\n",
    "#                     ])\n",
    "# pipe_knn"
   ]
  },
  {
   "cell_type": "code",
   "execution_count": 182,
   "id": "3dff75f7",
   "metadata": {
    "execution": {
     "iopub.execute_input": "2023-08-12T09:38:40.191345Z",
     "iopub.status.busy": "2023-08-12T09:38:40.190886Z",
     "iopub.status.idle": "2023-08-12T09:38:40.196158Z",
     "shell.execute_reply": "2023-08-12T09:38:40.194897Z"
    },
    "papermill": {
     "duration": 0.122268,
     "end_time": "2023-08-12T09:38:40.198720",
     "exception": false,
     "start_time": "2023-08-12T09:38:40.076452",
     "status": "completed"
    },
    "tags": []
   },
   "outputs": [],
   "source": [
    "# Train and predict on merged training data  \n",
    "# split_train_predict(merged_train_features, merged_train_labels, pipe_knn, test_size=0.25, random_state=42)"
   ]
  },
  {
   "cell_type": "markdown",
   "id": "a47a8b91",
   "metadata": {
    "papermill": {
     "duration": 0.107684,
     "end_time": "2023-08-12T09:38:40.431173",
     "exception": false,
     "start_time": "2023-08-12T09:38:40.323489",
     "status": "completed"
    },
    "tags": []
   },
   "source": [
    "# Part I (Older code)  "
   ]
  },
  {
   "cell_type": "markdown",
   "id": "c6bff42b",
   "metadata": {
    "papermill": {
     "duration": 0.110921,
     "end_time": "2023-08-12T09:38:40.660735",
     "exception": false,
     "start_time": "2023-08-12T09:38:40.549814",
     "status": "completed"
    },
    "tags": []
   },
   "source": [
    "### Logistic Regression with stop words  "
   ]
  },
  {
   "cell_type": "code",
   "execution_count": 183,
   "id": "c5afab85",
   "metadata": {
    "execution": {
     "iopub.execute_input": "2023-08-12T09:38:40.881719Z",
     "iopub.status.busy": "2023-08-12T09:38:40.880696Z",
     "iopub.status.idle": "2023-08-12T09:38:40.887986Z",
     "shell.execute_reply": "2023-08-12T09:38:40.884791Z"
    },
    "papermill": {
     "duration": 0.121081,
     "end_time": "2023-08-12T09:38:40.890542",
     "exception": false,
     "start_time": "2023-08-12T09:38:40.769461",
     "status": "completed"
    },
    "tags": []
   },
   "outputs": [],
   "source": [
    "# tvec_sw = TfidfVectorizer(stop_words=stop_words)"
   ]
  },
  {
   "cell_type": "code",
   "execution_count": 184,
   "id": "41551551",
   "metadata": {
    "execution": {
     "iopub.execute_input": "2023-08-12T09:38:41.110898Z",
     "iopub.status.busy": "2023-08-12T09:38:41.110108Z",
     "iopub.status.idle": "2023-08-12T09:38:41.115073Z",
     "shell.execute_reply": "2023-08-12T09:38:41.113870Z"
    },
    "papermill": {
     "duration": 0.118223,
     "end_time": "2023-08-12T09:38:41.117934",
     "exception": false,
     "start_time": "2023-08-12T09:38:40.999711",
     "status": "completed"
    },
    "tags": []
   },
   "outputs": [],
   "source": [
    "# logreg_sw_pipe = preprocess_n_train(X_train, y_train, tvec_sw, logreg)\n",
    "# logreg_sw_pipe"
   ]
  },
  {
   "cell_type": "code",
   "execution_count": 185,
   "id": "41d22c1f",
   "metadata": {
    "execution": {
     "iopub.execute_input": "2023-08-12T09:38:41.331834Z",
     "iopub.status.busy": "2023-08-12T09:38:41.331435Z",
     "iopub.status.idle": "2023-08-12T09:38:41.336172Z",
     "shell.execute_reply": "2023-08-12T09:38:41.334931Z"
    },
    "papermill": {
     "duration": 0.114776,
     "end_time": "2023-08-12T09:38:41.338620",
     "exception": false,
     "start_time": "2023-08-12T09:38:41.223844",
     "status": "completed"
    },
    "tags": []
   },
   "outputs": [],
   "source": [
    "# y_pred_logreg_sw = predict_n_evaluate(logreg_sw_pipe, X_test, y_test)\n",
    "# y_pred_logreg_sw"
   ]
  },
  {
   "cell_type": "markdown",
   "id": "a60c8b9c",
   "metadata": {
    "papermill": {
     "duration": 0.105586,
     "end_time": "2023-08-12T09:38:41.550700",
     "exception": false,
     "start_time": "2023-08-12T09:38:41.445114",
     "status": "completed"
    },
    "tags": []
   },
   "source": [
    "### Logistic regression with different ngram ranges  "
   ]
  },
  {
   "cell_type": "code",
   "execution_count": 186,
   "id": "94f9ab59",
   "metadata": {
    "execution": {
     "iopub.execute_input": "2023-08-12T09:38:41.767398Z",
     "iopub.status.busy": "2023-08-12T09:38:41.766508Z",
     "iopub.status.idle": "2023-08-12T09:38:41.772002Z",
     "shell.execute_reply": "2023-08-12T09:38:41.771129Z"
    },
    "papermill": {
     "duration": 0.116753,
     "end_time": "2023-08-12T09:38:41.774620",
     "exception": false,
     "start_time": "2023-08-12T09:38:41.657867",
     "status": "completed"
    },
    "tags": []
   },
   "outputs": [],
   "source": [
    "# tvec_ngram_2 = TfidfVectorizer(ngram_range=(1,2))"
   ]
  },
  {
   "cell_type": "code",
   "execution_count": 187,
   "id": "6a27d423",
   "metadata": {
    "execution": {
     "iopub.execute_input": "2023-08-12T09:38:41.989186Z",
     "iopub.status.busy": "2023-08-12T09:38:41.988235Z",
     "iopub.status.idle": "2023-08-12T09:38:41.993845Z",
     "shell.execute_reply": "2023-08-12T09:38:41.992516Z"
    },
    "papermill": {
     "duration": 0.115764,
     "end_time": "2023-08-12T09:38:41.996465",
     "exception": false,
     "start_time": "2023-08-12T09:38:41.880701",
     "status": "completed"
    },
    "tags": []
   },
   "outputs": [],
   "source": [
    "# logreg_ng2_pipe = preprocess_n_train(X_train, y_train, tvec_ngram_2, logreg)\n",
    "# logreg_ng2_pipe"
   ]
  },
  {
   "cell_type": "code",
   "execution_count": 188,
   "id": "03d63a85",
   "metadata": {
    "execution": {
     "iopub.execute_input": "2023-08-12T09:38:42.210486Z",
     "iopub.status.busy": "2023-08-12T09:38:42.209616Z",
     "iopub.status.idle": "2023-08-12T09:38:42.214670Z",
     "shell.execute_reply": "2023-08-12T09:38:42.213815Z"
    },
    "papermill": {
     "duration": 0.11483,
     "end_time": "2023-08-12T09:38:42.216985",
     "exception": false,
     "start_time": "2023-08-12T09:38:42.102155",
     "status": "completed"
    },
    "tags": []
   },
   "outputs": [],
   "source": [
    "# y_pred_logreg_ng2 = predict_n_evaluate(logreg_ng2_pipe, X_test, y_test)\n",
    "# y_pred_logreg_ng2"
   ]
  },
  {
   "cell_type": "markdown",
   "id": "aa142270",
   "metadata": {
    "papermill": {
     "duration": 0.105056,
     "end_time": "2023-08-12T09:38:42.428056",
     "exception": false,
     "start_time": "2023-08-12T09:38:42.323000",
     "status": "completed"
    },
    "tags": []
   },
   "source": [
    "### Logistic regression with C=2, ngram range (1,2), stop words as None and min_df, max_df adjusted\n",
    "### Class weight balanced"
   ]
  },
  {
   "cell_type": "code",
   "execution_count": 189,
   "id": "984e2ba4",
   "metadata": {
    "execution": {
     "iopub.execute_input": "2023-08-12T09:38:42.641435Z",
     "iopub.status.busy": "2023-08-12T09:38:42.640656Z",
     "iopub.status.idle": "2023-08-12T09:38:42.644680Z",
     "shell.execute_reply": "2023-08-12T09:38:42.643898Z"
    },
    "papermill": {
     "duration": 0.112659,
     "end_time": "2023-08-12T09:38:42.646878",
     "exception": false,
     "start_time": "2023-08-12T09:38:42.534219",
     "status": "completed"
    },
    "tags": []
   },
   "outputs": [],
   "source": [
    "# logreg = LogisticRegression(max_iter=100000, C=2, class_weight=\"balanced\")"
   ]
  },
  {
   "cell_type": "code",
   "execution_count": 190,
   "id": "907a3666",
   "metadata": {
    "execution": {
     "iopub.execute_input": "2023-08-12T09:38:42.863504Z",
     "iopub.status.busy": "2023-08-12T09:38:42.862294Z",
     "iopub.status.idle": "2023-08-12T09:38:42.867078Z",
     "shell.execute_reply": "2023-08-12T09:38:42.866189Z"
    },
    "papermill": {
     "duration": 0.114508,
     "end_time": "2023-08-12T09:38:42.869465",
     "exception": false,
     "start_time": "2023-08-12T09:38:42.754957",
     "status": "completed"
    },
    "tags": []
   },
   "outputs": [],
   "source": [
    "# tvec_ngram_2_sw_df = TfidfVectorizer(ngram_range=(1,2), stop_words=None, min_df=0.0001, max_df=0.50)\n",
    "# tvec_ngram_2_sw_df"
   ]
  },
  {
   "cell_type": "code",
   "execution_count": 191,
   "id": "234f60df",
   "metadata": {
    "execution": {
     "iopub.execute_input": "2023-08-12T09:38:43.089243Z",
     "iopub.status.busy": "2023-08-12T09:38:43.088454Z",
     "iopub.status.idle": "2023-08-12T09:38:43.093138Z",
     "shell.execute_reply": "2023-08-12T09:38:43.092236Z"
    },
    "papermill": {
     "duration": 0.115255,
     "end_time": "2023-08-12T09:38:43.095433",
     "exception": false,
     "start_time": "2023-08-12T09:38:42.980178",
     "status": "completed"
    },
    "tags": []
   },
   "outputs": [],
   "source": [
    "# logreg_ng2_sw_df_pipe = preprocess_n_train(X_train, y_train, tvec_ngram_2_sw_df, logreg)\n",
    "# logreg_ng2_sw_df_pipe"
   ]
  },
  {
   "cell_type": "code",
   "execution_count": 192,
   "id": "aa46e657",
   "metadata": {
    "execution": {
     "iopub.execute_input": "2023-08-12T09:38:43.310964Z",
     "iopub.status.busy": "2023-08-12T09:38:43.310510Z",
     "iopub.status.idle": "2023-08-12T09:38:43.314850Z",
     "shell.execute_reply": "2023-08-12T09:38:43.313646Z"
    },
    "papermill": {
     "duration": 0.114989,
     "end_time": "2023-08-12T09:38:43.317326",
     "exception": false,
     "start_time": "2023-08-12T09:38:43.202337",
     "status": "completed"
    },
    "tags": []
   },
   "outputs": [],
   "source": [
    "# y_pred_logreg_ng2_sw_df = predict_n_evaluate(logreg_ng2_sw_df_pipe, X_test, y_test)\n",
    "# y_pred_logreg_ng2_sw_df"
   ]
  },
  {
   "cell_type": "markdown",
   "id": "ca5eee72",
   "metadata": {
    "papermill": {
     "duration": 0.181395,
     "end_time": "2023-08-12T09:38:43.606618",
     "exception": false,
     "start_time": "2023-08-12T09:38:43.425223",
     "status": "completed"
    },
    "tags": []
   },
   "source": [
    "### Log reg with parameters from GridSearchCV  \n",
    "\n",
    "`This is the best score with \"reviewText column alone for analysis`  "
   ]
  },
  {
   "cell_type": "code",
   "execution_count": 193,
   "id": "606cb510",
   "metadata": {
    "execution": {
     "iopub.execute_input": "2023-08-12T09:38:43.822299Z",
     "iopub.status.busy": "2023-08-12T09:38:43.821800Z",
     "iopub.status.idle": "2023-08-12T09:38:43.827804Z",
     "shell.execute_reply": "2023-08-12T09:38:43.826507Z"
    },
    "papermill": {
     "duration": 0.116756,
     "end_time": "2023-08-12T09:38:43.830493",
     "exception": false,
     "start_time": "2023-08-12T09:38:43.713737",
     "status": "completed"
    },
    "tags": []
   },
   "outputs": [],
   "source": [
    "logreg_cv1 = LogisticRegression(max_iter=100000, C=10)\n",
    "tvec_cv1 = TfidfVectorizer(max_features=None, ngram_range=(1,2))"
   ]
  },
  {
   "cell_type": "code",
   "execution_count": 194,
   "id": "3ffcc042",
   "metadata": {
    "execution": {
     "iopub.execute_input": "2023-08-12T09:38:44.047900Z",
     "iopub.status.busy": "2023-08-12T09:38:44.047200Z",
     "iopub.status.idle": "2023-08-12T09:38:44.052471Z",
     "shell.execute_reply": "2023-08-12T09:38:44.051638Z"
    },
    "papermill": {
     "duration": 0.115114,
     "end_time": "2023-08-12T09:38:44.054695",
     "exception": false,
     "start_time": "2023-08-12T09:38:43.939581",
     "status": "completed"
    },
    "tags": []
   },
   "outputs": [],
   "source": [
    "pipe_cv1 = Pipeline(steps=[\n",
    "    (\"preprocessor\", tvec_cv1),\n",
    "    (\"model\", logreg_cv1)\n",
    "])"
   ]
  },
  {
   "cell_type": "code",
   "execution_count": 195,
   "id": "6a83676f",
   "metadata": {
    "execution": {
     "iopub.execute_input": "2023-08-12T09:38:44.267309Z",
     "iopub.status.busy": "2023-08-12T09:38:44.266590Z",
     "iopub.status.idle": "2023-08-12T09:38:44.271338Z",
     "shell.execute_reply": "2023-08-12T09:38:44.270488Z"
    },
    "papermill": {
     "duration": 0.11398,
     "end_time": "2023-08-12T09:38:44.273612",
     "exception": false,
     "start_time": "2023-08-12T09:38:44.159632",
     "status": "completed"
    },
    "tags": []
   },
   "outputs": [],
   "source": [
    "# pipe_cv1.fit(X_train, y_train)"
   ]
  },
  {
   "cell_type": "code",
   "execution_count": 196,
   "id": "8a67dc1a",
   "metadata": {
    "execution": {
     "iopub.execute_input": "2023-08-12T09:38:44.486665Z",
     "iopub.status.busy": "2023-08-12T09:38:44.485935Z",
     "iopub.status.idle": "2023-08-12T09:38:44.490719Z",
     "shell.execute_reply": "2023-08-12T09:38:44.489859Z"
    },
    "papermill": {
     "duration": 0.11354,
     "end_time": "2023-08-12T09:38:44.492943",
     "exception": false,
     "start_time": "2023-08-12T09:38:44.379403",
     "status": "completed"
    },
    "tags": []
   },
   "outputs": [],
   "source": [
    "# pipe_cv1.score(X_train, y_train)"
   ]
  },
  {
   "cell_type": "markdown",
   "id": "dcab834f",
   "metadata": {
    "papermill": {
     "duration": 0.105894,
     "end_time": "2023-08-12T09:38:44.704454",
     "exception": false,
     "start_time": "2023-08-12T09:38:44.598560",
     "status": "completed"
    },
    "tags": []
   },
   "source": [
    "### SVM model with stop words  "
   ]
  },
  {
   "cell_type": "code",
   "execution_count": 197,
   "id": "2a5ec607",
   "metadata": {
    "execution": {
     "iopub.execute_input": "2023-08-12T09:38:44.916698Z",
     "iopub.status.busy": "2023-08-12T09:38:44.916224Z",
     "iopub.status.idle": "2023-08-12T09:38:44.920937Z",
     "shell.execute_reply": "2023-08-12T09:38:44.920117Z"
    },
    "papermill": {
     "duration": 0.113453,
     "end_time": "2023-08-12T09:38:44.923349",
     "exception": false,
     "start_time": "2023-08-12T09:38:44.809896",
     "status": "completed"
    },
    "tags": []
   },
   "outputs": [],
   "source": [
    "# svm_sw_pipe = preprocess_n_train(X_train, y_train, tvec_sw, svm)\n",
    "# svm_sw_pipe"
   ]
  },
  {
   "cell_type": "code",
   "execution_count": 198,
   "id": "e42fe771",
   "metadata": {
    "execution": {
     "iopub.execute_input": "2023-08-12T09:38:45.135298Z",
     "iopub.status.busy": "2023-08-12T09:38:45.134815Z",
     "iopub.status.idle": "2023-08-12T09:38:45.138996Z",
     "shell.execute_reply": "2023-08-12T09:38:45.138117Z"
    },
    "papermill": {
     "duration": 0.11258,
     "end_time": "2023-08-12T09:38:45.141179",
     "exception": false,
     "start_time": "2023-08-12T09:38:45.028599",
     "status": "completed"
    },
    "tags": []
   },
   "outputs": [],
   "source": [
    "# y_pred_svm_sw = predict_n_evaluate(svm_sw_pipe, X_test, y_test)\n",
    "# y_pred_svm_sw"
   ]
  },
  {
   "cell_type": "markdown",
   "id": "e625e0ea",
   "metadata": {
    "papermill": {
     "duration": 0.104649,
     "end_time": "2023-08-12T09:38:45.350650",
     "exception": false,
     "start_time": "2023-08-12T09:38:45.246001",
     "status": "completed"
    },
    "tags": []
   },
   "source": [
    "### GaussianNB  "
   ]
  },
  {
   "cell_type": "markdown",
   "id": "0e51053a",
   "metadata": {
    "papermill": {
     "duration": 0.107704,
     "end_time": "2023-08-12T09:38:45.563083",
     "exception": false,
     "start_time": "2023-08-12T09:38:45.455379",
     "status": "completed"
    },
    "tags": []
   },
   "source": [
    "https://stackoverflow.com/questions/28384680/scikit-learns-pipeline-a-sparse-matrix-was-passed-but-dense-data-is-required"
   ]
  },
  {
   "cell_type": "code",
   "execution_count": 199,
   "id": "668863b1",
   "metadata": {
    "execution": {
     "iopub.execute_input": "2023-08-12T09:38:45.778655Z",
     "iopub.status.busy": "2023-08-12T09:38:45.777962Z",
     "iopub.status.idle": "2023-08-12T09:38:45.781829Z",
     "shell.execute_reply": "2023-08-12T09:38:45.780966Z"
    },
    "papermill": {
     "duration": 0.115423,
     "end_time": "2023-08-12T09:38:45.784011",
     "exception": false,
     "start_time": "2023-08-12T09:38:45.668588",
     "status": "completed"
    },
    "tags": []
   },
   "outputs": [],
   "source": [
    "# gnb = GaussianNB()\n",
    "# gnb"
   ]
  },
  {
   "cell_type": "code",
   "execution_count": 200,
   "id": "95e642b6",
   "metadata": {
    "execution": {
     "iopub.execute_input": "2023-08-12T09:38:46.001172Z",
     "iopub.status.busy": "2023-08-12T09:38:45.999711Z",
     "iopub.status.idle": "2023-08-12T09:38:46.004562Z",
     "shell.execute_reply": "2023-08-12T09:38:46.003595Z"
    },
    "papermill": {
     "duration": 0.116897,
     "end_time": "2023-08-12T09:38:46.006820",
     "exception": false,
     "start_time": "2023-08-12T09:38:45.889923",
     "status": "completed"
    },
    "tags": []
   },
   "outputs": [],
   "source": [
    "# gnb_pipe = preprocess_n_train(X_train, y_train, tvec, gnb)\n",
    "# gnb_pipe"
   ]
  },
  {
   "cell_type": "markdown",
   "id": "495f2990",
   "metadata": {
    "papermill": {
     "duration": 0.105507,
     "end_time": "2023-08-12T09:38:46.218471",
     "exception": false,
     "start_time": "2023-08-12T09:38:46.112964",
     "status": "completed"
    },
    "tags": []
   },
   "source": [
    "# Part II (Older code)  \n"
   ]
  },
  {
   "cell_type": "markdown",
   "id": "2b82f1e6",
   "metadata": {
    "papermill": {
     "duration": 0.104838,
     "end_time": "2023-08-12T09:38:46.429636",
     "exception": false,
     "start_time": "2023-08-12T09:38:46.324798",
     "status": "completed"
    },
    "tags": []
   },
   "source": [
    "### Separate features and labels from merged dataset  "
   ]
  },
  {
   "cell_type": "code",
   "execution_count": 201,
   "id": "487ba5c3",
   "metadata": {
    "execution": {
     "iopub.execute_input": "2023-08-12T09:38:46.644710Z",
     "iopub.status.busy": "2023-08-12T09:38:46.644018Z",
     "iopub.status.idle": "2023-08-12T09:38:46.649113Z",
     "shell.execute_reply": "2023-08-12T09:38:46.647903Z"
    },
    "papermill": {
     "duration": 0.115423,
     "end_time": "2023-08-12T09:38:46.651845",
     "exception": false,
     "start_time": "2023-08-12T09:38:46.536422",
     "status": "completed"
    },
    "tags": []
   },
   "outputs": [],
   "source": [
    "# merged_train_features = merged[['movieid', 'reviewerName', 'isFrequentReviewer', 'reviewText',\n",
    "#        'audienceScore', 'rating', 'runtimeMinutes', 'genre',\n",
    "#        'originalLanguage', 'director']]\n",
    "# merged_train_features.shape"
   ]
  },
  {
   "cell_type": "code",
   "execution_count": 202,
   "id": "d5bc68f4",
   "metadata": {
    "execution": {
     "iopub.execute_input": "2023-08-12T09:38:46.867062Z",
     "iopub.status.busy": "2023-08-12T09:38:46.866638Z",
     "iopub.status.idle": "2023-08-12T09:38:46.871630Z",
     "shell.execute_reply": "2023-08-12T09:38:46.870431Z"
    },
    "papermill": {
     "duration": 0.115098,
     "end_time": "2023-08-12T09:38:46.874134",
     "exception": false,
     "start_time": "2023-08-12T09:38:46.759036",
     "status": "completed"
    },
    "tags": []
   },
   "outputs": [],
   "source": [
    "# merged_train_labels = merged[\"sentiment\"]\n",
    "# merged_train_labels.shape"
   ]
  },
  {
   "cell_type": "markdown",
   "id": "946bc35a",
   "metadata": {
    "papermill": {
     "duration": 0.106133,
     "end_time": "2023-08-12T09:38:47.088099",
     "exception": false,
     "start_time": "2023-08-12T09:38:46.981966",
     "status": "completed"
    },
    "tags": []
   },
   "source": [
    "### Identify variable types for different preprocessing pipes  "
   ]
  },
  {
   "cell_type": "code",
   "execution_count": 203,
   "id": "1c25d434",
   "metadata": {
    "execution": {
     "iopub.execute_input": "2023-08-12T09:38:47.306797Z",
     "iopub.status.busy": "2023-08-12T09:38:47.306346Z",
     "iopub.status.idle": "2023-08-12T09:38:47.313630Z",
     "shell.execute_reply": "2023-08-12T09:38:47.311742Z"
    },
    "papermill": {
     "duration": 0.119004,
     "end_time": "2023-08-12T09:38:47.316991",
     "exception": false,
     "start_time": "2023-08-12T09:38:47.197987",
     "status": "completed"
    },
    "tags": []
   },
   "outputs": [],
   "source": [
    "# num_vars = [\"audienceScore\", \"runtimeMinutes\"]\n",
    "# txt_vars = [\"originalLanguage\", \"genre\", \"director\", \"reviewerName\", \"reviewText\"]\n",
    "# cat_vars = [\"rating\", \"isFrequentReviewer\"]"
   ]
  },
  {
   "cell_type": "code",
   "execution_count": 204,
   "id": "32bf07bb",
   "metadata": {
    "execution": {
     "iopub.execute_input": "2023-08-12T09:38:47.548290Z",
     "iopub.status.busy": "2023-08-12T09:38:47.546676Z",
     "iopub.status.idle": "2023-08-12T09:38:47.552568Z",
     "shell.execute_reply": "2023-08-12T09:38:47.551371Z"
    },
    "papermill": {
     "duration": 0.11641,
     "end_time": "2023-08-12T09:38:47.555150",
     "exception": false,
     "start_time": "2023-08-12T09:38:47.438740",
     "status": "completed"
    },
    "tags": []
   },
   "outputs": [],
   "source": [
    "# num_pipe = Pipeline(steps=[\n",
    "#                             (\"imputer\", SimpleImputer(strategy=\"mean\", missing_values=np.nan)),\n",
    "#                             (\"scaler\", MinMaxScaler())\n",
    "#                         ])\n",
    "# num_pipe"
   ]
  },
  {
   "cell_type": "code",
   "execution_count": 205,
   "id": "971b2804",
   "metadata": {
    "execution": {
     "iopub.execute_input": "2023-08-12T09:38:47.840937Z",
     "iopub.status.busy": "2023-08-12T09:38:47.840472Z",
     "iopub.status.idle": "2023-08-12T09:38:47.845368Z",
     "shell.execute_reply": "2023-08-12T09:38:47.844136Z"
    },
    "papermill": {
     "duration": 0.185649,
     "end_time": "2023-08-12T09:38:47.847760",
     "exception": false,
     "start_time": "2023-08-12T09:38:47.662111",
     "status": "completed"
    },
    "tags": []
   },
   "outputs": [],
   "source": [
    "# txt_pipe = Pipeline(steps=[\n",
    "#                             (\"tvec\", TfidfVectorizer())\n",
    "#                         ])\n",
    "# txt_pipe"
   ]
  },
  {
   "cell_type": "code",
   "execution_count": 206,
   "id": "d9ac26ae",
   "metadata": {
    "execution": {
     "iopub.execute_input": "2023-08-12T09:38:48.066541Z",
     "iopub.status.busy": "2023-08-12T09:38:48.066107Z",
     "iopub.status.idle": "2023-08-12T09:38:48.071262Z",
     "shell.execute_reply": "2023-08-12T09:38:48.070067Z"
    },
    "papermill": {
     "duration": 0.116637,
     "end_time": "2023-08-12T09:38:48.073514",
     "exception": false,
     "start_time": "2023-08-12T09:38:47.956877",
     "status": "completed"
    },
    "tags": []
   },
   "outputs": [],
   "source": [
    "# cat_pipe = Pipeline(steps=[\n",
    "#                             (\"ohe\", OneHotEncoder(handle_unknown=\"ignore\"))\n",
    "#                         ])\n",
    "# cat_pipe"
   ]
  },
  {
   "cell_type": "code",
   "execution_count": 207,
   "id": "364d86d5",
   "metadata": {
    "execution": {
     "iopub.execute_input": "2023-08-12T09:38:48.289839Z",
     "iopub.status.busy": "2023-08-12T09:38:48.289428Z",
     "iopub.status.idle": "2023-08-12T09:38:48.294243Z",
     "shell.execute_reply": "2023-08-12T09:38:48.293090Z"
    },
    "papermill": {
     "duration": 0.115975,
     "end_time": "2023-08-12T09:38:48.296489",
     "exception": false,
     "start_time": "2023-08-12T09:38:48.180514",
     "status": "completed"
    },
    "tags": []
   },
   "outputs": [],
   "source": [
    "# tfidf_vec_1 = TfidfVectorizer(ngram_range=(1,2))\n",
    "# tfidf_vec_1"
   ]
  },
  {
   "cell_type": "code",
   "execution_count": 208,
   "id": "9b7c3a79",
   "metadata": {
    "execution": {
     "iopub.execute_input": "2023-08-12T09:38:48.514805Z",
     "iopub.status.busy": "2023-08-12T09:38:48.514383Z",
     "iopub.status.idle": "2023-08-12T09:38:48.521207Z",
     "shell.execute_reply": "2023-08-12T09:38:48.520206Z"
    },
    "papermill": {
     "duration": 0.120013,
     "end_time": "2023-08-12T09:38:48.523775",
     "exception": false,
     "start_time": "2023-08-12T09:38:48.403762",
     "status": "completed"
    },
    "tags": []
   },
   "outputs": [],
   "source": [
    "# ct_final = ColumnTransformer(transformers=[\n",
    "#                                         (\"num\", num_pipe, num_vars),\n",
    "#                                         (\"txt1\", txt_pipe, \"originalLanguage\"),\n",
    "#                                         (\"txt2\", txt_pipe, \"genre\"),\n",
    "#                                         (\"txt3\", txt_pipe, \"director\"),\n",
    "#                                         (\"cat\", cat_pipe, cat_vars),\n",
    "#                                         (\"txt4a\", tfidf_vec_1, \"reviewText\")\n",
    "# #                                         (\"txt4\", TfidfVectorizer(ngram_range=(1,2)), \"reviewText\"),\n",
    "# #                                         (\"cat2\", cat_pipe, [\"isFrequentReviewer\"])\n",
    "#                                         ], remainder=\"drop\", n_jobs=1)\n",
    "\n",
    "# # Note that this transformer drops \"movieid\" column and \"reviewerName\" column  \n",
    "# ct_final"
   ]
  },
  {
   "cell_type": "code",
   "execution_count": 209,
   "id": "008de646",
   "metadata": {
    "execution": {
     "iopub.execute_input": "2023-08-12T09:38:48.741504Z",
     "iopub.status.busy": "2023-08-12T09:38:48.741067Z",
     "iopub.status.idle": "2023-08-12T09:38:48.746096Z",
     "shell.execute_reply": "2023-08-12T09:38:48.744971Z"
    },
    "papermill": {
     "duration": 0.114854,
     "end_time": "2023-08-12T09:38:48.748314",
     "exception": false,
     "start_time": "2023-08-12T09:38:48.633460",
     "status": "completed"
    },
    "tags": []
   },
   "outputs": [],
   "source": [
    "# pipe_final = Pipeline(steps=[\n",
    "#                         (\"preprocessor\", ct_final),\n",
    "#                         (\"model\", LogisticRegression(max_iter=100000))\n",
    "#                     ])\n",
    "# pipe_final"
   ]
  },
  {
   "cell_type": "code",
   "execution_count": 210,
   "id": "b409ffe0",
   "metadata": {
    "execution": {
     "iopub.execute_input": "2023-08-12T09:38:48.963040Z",
     "iopub.status.busy": "2023-08-12T09:38:48.962234Z",
     "iopub.status.idle": "2023-08-12T09:38:48.966445Z",
     "shell.execute_reply": "2023-08-12T09:38:48.965559Z"
    },
    "papermill": {
     "duration": 0.114009,
     "end_time": "2023-08-12T09:38:48.968631",
     "exception": false,
     "start_time": "2023-08-12T09:38:48.854622",
     "status": "completed"
    },
    "tags": []
   },
   "outputs": [],
   "source": [
    "# final_vars = num_vars + txt_vars + cat_vars\n",
    "# len(final_vars), final_vars"
   ]
  },
  {
   "cell_type": "markdown",
   "id": "c80bdf14",
   "metadata": {
    "papermill": {
     "duration": 0.104125,
     "end_time": "2023-08-12T09:38:49.178694",
     "exception": false,
     "start_time": "2023-08-12T09:38:49.074569",
     "status": "completed"
    },
    "tags": []
   },
   "source": [
    "### Use \"split_train_predict\" function to run end-to-end pipeline  "
   ]
  },
  {
   "cell_type": "code",
   "execution_count": 211,
   "id": "a06ae0b8",
   "metadata": {
    "execution": {
     "iopub.execute_input": "2023-08-12T09:38:49.392021Z",
     "iopub.status.busy": "2023-08-12T09:38:49.391218Z",
     "iopub.status.idle": "2023-08-12T09:38:49.395542Z",
     "shell.execute_reply": "2023-08-12T09:38:49.394662Z"
    },
    "papermill": {
     "duration": 0.114181,
     "end_time": "2023-08-12T09:38:49.398110",
     "exception": false,
     "start_time": "2023-08-12T09:38:49.283929",
     "status": "completed"
    },
    "tags": []
   },
   "outputs": [],
   "source": [
    "# split_train_predict(merged_train_features, merged_train_labels, pipe_final, test_size=0.25, random_state=42)"
   ]
  },
  {
   "cell_type": "markdown",
   "id": "86507781",
   "metadata": {
    "papermill": {
     "duration": 0.106476,
     "end_time": "2023-08-12T09:38:49.610198",
     "exception": false,
     "start_time": "2023-08-12T09:38:49.503722",
     "status": "completed"
    },
    "tags": []
   },
   "source": [
    "## Try the best four features obtained on local machine  "
   ]
  },
  {
   "cell_type": "code",
   "execution_count": 212,
   "id": "61da996d",
   "metadata": {
    "execution": {
     "iopub.execute_input": "2023-08-12T09:38:49.826377Z",
     "iopub.status.busy": "2023-08-12T09:38:49.825582Z",
     "iopub.status.idle": "2023-08-12T09:38:49.830451Z",
     "shell.execute_reply": "2023-08-12T09:38:49.829175Z"
    },
    "papermill": {
     "duration": 0.117051,
     "end_time": "2023-08-12T09:38:49.833344",
     "exception": false,
     "start_time": "2023-08-12T09:38:49.716293",
     "status": "completed"
    },
    "tags": []
   },
   "outputs": [],
   "source": [
    "# tfidf_vec_2 = TfidfVectorizer(ngram_range=(1,2))\n",
    "# tfidf_vec_2"
   ]
  },
  {
   "cell_type": "code",
   "execution_count": 213,
   "id": "d4131f19",
   "metadata": {
    "execution": {
     "iopub.execute_input": "2023-08-12T09:38:50.049377Z",
     "iopub.status.busy": "2023-08-12T09:38:50.048434Z",
     "iopub.status.idle": "2023-08-12T09:38:50.053550Z",
     "shell.execute_reply": "2023-08-12T09:38:50.052489Z"
    },
    "papermill": {
     "duration": 0.115271,
     "end_time": "2023-08-12T09:38:50.056002",
     "exception": false,
     "start_time": "2023-08-12T09:38:49.940731",
     "status": "completed"
    },
    "tags": []
   },
   "outputs": [],
   "source": [
    "# ct_best4 = ColumnTransformer(transformers=[\n",
    "#                                             (\"num\", num_pipe, [\"audienceScore\"]),\n",
    "#                                             (\"cat\", cat_pipe, [\"rating\", \"isFrequentReviewer\"]),\n",
    "#                                             (\"tvec\", tfidf_vec_2, \"reviewText\")\n",
    "#                             ])\n",
    "\n",
    "# pipe_best4 = Pipeline(steps=[\n",
    "#     (\"preprocessor\", ct_best4),\n",
    "#     (\"model\", LogisticRegression())\n",
    "# ])\n",
    "\n",
    "# pipe_best4.set_params(model__C=10, model__max_iter=100000)\n",
    "\n",
    "# pipe_best4"
   ]
  },
  {
   "cell_type": "code",
   "execution_count": 214,
   "id": "3d255963",
   "metadata": {
    "execution": {
     "iopub.execute_input": "2023-08-12T09:38:50.272951Z",
     "iopub.status.busy": "2023-08-12T09:38:50.272505Z",
     "iopub.status.idle": "2023-08-12T09:38:50.277336Z",
     "shell.execute_reply": "2023-08-12T09:38:50.276122Z"
    },
    "papermill": {
     "duration": 0.115822,
     "end_time": "2023-08-12T09:38:50.279915",
     "exception": false,
     "start_time": "2023-08-12T09:38:50.164093",
     "status": "completed"
    },
    "tags": []
   },
   "outputs": [],
   "source": [
    "# split_train_predict(merged[[\"audienceScore\", \"rating\", \"isFrequentReviewer\", \"reviewText\"]], merged[\"sentiment\"], pipe_best4, test_size=0.25)"
   ]
  },
  {
   "cell_type": "markdown",
   "id": "5fde4abe",
   "metadata": {
    "papermill": {
     "duration": 0.105189,
     "end_time": "2023-08-12T09:38:50.493443",
     "exception": false,
     "start_time": "2023-08-12T09:38:50.388254",
     "status": "completed"
    },
    "tags": []
   },
   "source": [
    "## Try only 'reviewText' column  "
   ]
  },
  {
   "cell_type": "code",
   "execution_count": 215,
   "id": "0407a6bd",
   "metadata": {
    "execution": {
     "iopub.execute_input": "2023-08-12T09:38:50.710086Z",
     "iopub.status.busy": "2023-08-12T09:38:50.708969Z",
     "iopub.status.idle": "2023-08-12T09:38:50.713624Z",
     "shell.execute_reply": "2023-08-12T09:38:50.712718Z"
    },
    "papermill": {
     "duration": 0.114612,
     "end_time": "2023-08-12T09:38:50.715890",
     "exception": false,
     "start_time": "2023-08-12T09:38:50.601278",
     "status": "completed"
    },
    "tags": []
   },
   "outputs": [],
   "source": [
    "# tfidf_vec_3 = TfidfVectorizer(ngram_range=(1,2))\n",
    "# tfidf_vec_3"
   ]
  },
  {
   "cell_type": "code",
   "execution_count": 216,
   "id": "706d1228",
   "metadata": {
    "execution": {
     "iopub.execute_input": "2023-08-12T09:38:50.928262Z",
     "iopub.status.busy": "2023-08-12T09:38:50.927798Z",
     "iopub.status.idle": "2023-08-12T09:38:50.932898Z",
     "shell.execute_reply": "2023-08-12T09:38:50.931829Z"
    },
    "papermill": {
     "duration": 0.113687,
     "end_time": "2023-08-12T09:38:50.935167",
     "exception": false,
     "start_time": "2023-08-12T09:38:50.821480",
     "status": "completed"
    },
    "tags": []
   },
   "outputs": [],
   "source": [
    "# ct_RTonly = ColumnTransformer(transformers=[\n",
    "#                                             ('txt', tfidf_vec_3, 'reviewText'),\n",
    "#                                             ], remainder='drop')\n",
    "# ct_RTonly"
   ]
  },
  {
   "cell_type": "code",
   "execution_count": 217,
   "id": "c63b32bc",
   "metadata": {
    "execution": {
     "iopub.execute_input": "2023-08-12T09:38:51.150513Z",
     "iopub.status.busy": "2023-08-12T09:38:51.149779Z",
     "iopub.status.idle": "2023-08-12T09:38:51.154654Z",
     "shell.execute_reply": "2023-08-12T09:38:51.153827Z"
    },
    "papermill": {
     "duration": 0.113874,
     "end_time": "2023-08-12T09:38:51.156862",
     "exception": false,
     "start_time": "2023-08-12T09:38:51.042988",
     "status": "completed"
    },
    "tags": []
   },
   "outputs": [],
   "source": [
    "# pipe_RTonly = Pipeline(steps=[\n",
    "#     (\"preprocessor\", ct_RTonly),\n",
    "#     (\"model\", LogisticRegression())\n",
    "# ])\n",
    "\n",
    "# pipe_RTonly.set_params(model__C=10, model__max_iter=100000)\n",
    "\n",
    "# pipe_RTonly"
   ]
  },
  {
   "cell_type": "markdown",
   "id": "f936ead8",
   "metadata": {
    "papermill": {
     "duration": 0.105503,
     "end_time": "2023-08-12T09:38:51.367882",
     "exception": false,
     "start_time": "2023-08-12T09:38:51.262379",
     "status": "completed"
    },
    "tags": []
   },
   "source": [
    "## Using the 'submit_v4' function  "
   ]
  },
  {
   "cell_type": "markdown",
   "id": "e733e8bc",
   "metadata": {
    "papermill": {
     "duration": 0.106098,
     "end_time": "2023-08-12T09:38:51.579511",
     "exception": false,
     "start_time": "2023-08-12T09:38:51.473413",
     "status": "completed"
    },
    "tags": []
   },
   "source": [
    "### Try the best 4 parameters with submit_v4 function"
   ]
  },
  {
   "cell_type": "code",
   "execution_count": 218,
   "id": "67afd7fe",
   "metadata": {
    "execution": {
     "iopub.execute_input": "2023-08-12T09:38:51.795164Z",
     "iopub.status.busy": "2023-08-12T09:38:51.794469Z",
     "iopub.status.idle": "2023-08-12T09:38:51.799416Z",
     "shell.execute_reply": "2023-08-12T09:38:51.798589Z"
    },
    "papermill": {
     "duration": 0.116246,
     "end_time": "2023-08-12T09:38:51.801806",
     "exception": false,
     "start_time": "2023-08-12T09:38:51.685560",
     "status": "completed"
    },
    "tags": []
   },
   "outputs": [],
   "source": [
    "# best4 = [\"audienceScore\", \"rating\", \"isFrequentReviewer\", \"reviewText\"]\n",
    "\n",
    "# best4_dict = {'cat': [\"rating\", \"isFrequentReviewer\"],\n",
    "#              'num': [\"audienceScore\"],\n",
    "#              'txt': ['reviewText']}\n",
    "\n",
    "# best4_dict = {'num': [\"audienceScore\"],\n",
    "#              'txt': ['reviewText', 'movieid', 'director']}\n",
    "\n",
    "# best4_dict"
   ]
  },
  {
   "cell_type": "code",
   "execution_count": 219,
   "id": "0245c4b3",
   "metadata": {
    "execution": {
     "iopub.execute_input": "2023-08-12T09:38:52.017187Z",
     "iopub.status.busy": "2023-08-12T09:38:52.016753Z",
     "iopub.status.idle": "2023-08-12T09:38:52.021620Z",
     "shell.execute_reply": "2023-08-12T09:38:52.020285Z"
    },
    "papermill": {
     "duration": 0.115614,
     "end_time": "2023-08-12T09:38:52.023932",
     "exception": false,
     "start_time": "2023-08-12T09:38:51.908318",
     "status": "completed"
    },
    "tags": []
   },
   "outputs": [],
   "source": [
    "# submit_v4(selected_features=best4_dict)"
   ]
  },
  {
   "cell_type": "markdown",
   "id": "f749eb5a",
   "metadata": {
    "papermill": {
     "duration": 0.104846,
     "end_time": "2023-08-12T09:38:52.234653",
     "exception": false,
     "start_time": "2023-08-12T09:38:52.129807",
     "status": "completed"
    },
    "tags": []
   },
   "source": [
    "### Try the best 3 parameters with submit_v4 function"
   ]
  },
  {
   "cell_type": "code",
   "execution_count": 220,
   "id": "8ff9e85f",
   "metadata": {
    "execution": {
     "iopub.execute_input": "2023-08-12T09:38:52.447941Z",
     "iopub.status.busy": "2023-08-12T09:38:52.447524Z",
     "iopub.status.idle": "2023-08-12T09:38:52.452126Z",
     "shell.execute_reply": "2023-08-12T09:38:52.451297Z"
    },
    "papermill": {
     "duration": 0.114375,
     "end_time": "2023-08-12T09:38:52.454402",
     "exception": false,
     "start_time": "2023-08-12T09:38:52.340027",
     "status": "completed"
    },
    "tags": []
   },
   "outputs": [],
   "source": [
    "# best3 = [\"audienceScore\", \"isFrequentReviewer\", \"reviewText\"]\n",
    "# best3_dict = {'cat': [\"isFrequentReviewer\"],\n",
    "#              'num': [\"audienceScore\"],\n",
    "#              'txt': ['reviewText']}\n",
    "# best3_dict"
   ]
  },
  {
   "cell_type": "code",
   "execution_count": 221,
   "id": "28aafdb0",
   "metadata": {
    "execution": {
     "iopub.execute_input": "2023-08-12T09:38:52.668363Z",
     "iopub.status.busy": "2023-08-12T09:38:52.667558Z",
     "iopub.status.idle": "2023-08-12T09:38:52.671910Z",
     "shell.execute_reply": "2023-08-12T09:38:52.671085Z"
    },
    "papermill": {
     "duration": 0.113933,
     "end_time": "2023-08-12T09:38:52.674261",
     "exception": false,
     "start_time": "2023-08-12T09:38:52.560328",
     "status": "completed"
    },
    "tags": []
   },
   "outputs": [],
   "source": [
    "# submit_v4(selected_features=best3_dict)"
   ]
  },
  {
   "cell_type": "markdown",
   "id": "c7881315",
   "metadata": {
    "papermill": {
     "duration": 0.177644,
     "end_time": "2023-08-12T09:38:52.958928",
     "exception": false,
     "start_time": "2023-08-12T09:38:52.781284",
     "status": "completed"
    },
    "tags": []
   },
   "source": [
    "## Try throwing almost everything (no boxOffice) at submit_v4!  "
   ]
  },
  {
   "cell_type": "code",
   "execution_count": 222,
   "id": "da69ff6d",
   "metadata": {
    "execution": {
     "iopub.execute_input": "2023-08-12T09:38:53.171260Z",
     "iopub.status.busy": "2023-08-12T09:38:53.170784Z",
     "iopub.status.idle": "2023-08-12T09:38:53.177878Z",
     "shell.execute_reply": "2023-08-12T09:38:53.177000Z"
    },
    "papermill": {
     "duration": 0.115941,
     "end_time": "2023-08-12T09:38:53.180233",
     "exception": false,
     "start_time": "2023-08-12T09:38:53.064292",
     "status": "completed"
    },
    "tags": []
   },
   "outputs": [
    {
     "data": {
      "text/plain": [
       "\"Most from merged = ['movieid', 'reviewerName', 'isFrequentReviewer', 'reviewText',\\n       'audienceScore', 'rating', 'runtimeMinutes', 'genre', \\n       'originalLanguage', 'director']\""
      ]
     },
     "execution_count": 222,
     "metadata": {},
     "output_type": "execute_result"
    }
   ],
   "source": [
    "\"\"\"Most from merged = ['movieid', 'reviewerName', 'isFrequentReviewer', 'reviewText',\n",
    "       'audienceScore', 'rating', 'runtimeMinutes', 'genre', \n",
    "       'originalLanguage', 'director']\"\"\"\n",
    "\n",
    "# almost_dict = {'cat': [\"isFrequentReviewer\", \"rating\", \"originalLanguage\"],\n",
    "#              'num': [\"audienceScore\", \"runtimeMinutes\"],\n",
    "#              'txt': ['reviewText', 'reviewerName', 'movieid', 'genre', 'director']}\n",
    "# almost_dict"
   ]
  },
  {
   "cell_type": "code",
   "execution_count": 223,
   "id": "7c241d31",
   "metadata": {
    "execution": {
     "iopub.execute_input": "2023-08-12T09:38:53.394856Z",
     "iopub.status.busy": "2023-08-12T09:38:53.394017Z",
     "iopub.status.idle": "2023-08-12T09:38:53.398289Z",
     "shell.execute_reply": "2023-08-12T09:38:53.397398Z"
    },
    "papermill": {
     "duration": 0.114671,
     "end_time": "2023-08-12T09:38:53.400503",
     "exception": false,
     "start_time": "2023-08-12T09:38:53.285832",
     "status": "completed"
    },
    "tags": []
   },
   "outputs": [],
   "source": [
    "# submit_v4(selected_features=almost_dict)"
   ]
  },
  {
   "cell_type": "markdown",
   "id": "4376e0d1",
   "metadata": {
    "papermill": {
     "duration": 0.105355,
     "end_time": "2023-08-12T09:38:53.614758",
     "exception": false,
     "start_time": "2023-08-12T09:38:53.509403",
     "status": "completed"
    },
    "tags": []
   },
   "source": [
    "## Try throwing everything possible at submit_v4!  "
   ]
  },
  {
   "cell_type": "code",
   "execution_count": 224,
   "id": "48df39af",
   "metadata": {
    "execution": {
     "iopub.execute_input": "2023-08-12T09:38:53.832815Z",
     "iopub.status.busy": "2023-08-12T09:38:53.831996Z",
     "iopub.status.idle": "2023-08-12T09:38:53.838399Z",
     "shell.execute_reply": "2023-08-12T09:38:53.837350Z"
    },
    "papermill": {
     "duration": 0.119732,
     "end_time": "2023-08-12T09:38:53.840562",
     "exception": false,
     "start_time": "2023-08-12T09:38:53.720830",
     "status": "completed"
    },
    "tags": []
   },
   "outputs": [
    {
     "data": {
      "text/plain": [
       "\"All from merged = ['movieid', 'reviewerName', 'isFrequentReviewer', 'reviewText',\\n       'audienceScore', 'rating', 'runtimeMinutes', 'genre', 'boxOffice',\\n       'originalLanguage', 'director']\""
      ]
     },
     "execution_count": 224,
     "metadata": {},
     "output_type": "execute_result"
    }
   ],
   "source": [
    "\"\"\"All from merged = ['movieid', 'reviewerName', 'isFrequentReviewer', 'reviewText',\n",
    "       'audienceScore', 'rating', 'runtimeMinutes', 'genre', 'boxOffice',\n",
    "       'originalLanguage', 'director']\"\"\"\n",
    "\n",
    "# all_dict = {'cat': [\"isFrequentReviewer\", \"rating\", \"originalLanguage\"],\n",
    "#              'num': [\"audienceScore\", \"runtimeMinutes\", \"boxOffice\"],\n",
    "#              'txt': ['reviewText', 'reviewerName', 'movieid', 'genre', 'director']}\n",
    "# all_dict"
   ]
  },
  {
   "cell_type": "code",
   "execution_count": 225,
   "id": "9d176078",
   "metadata": {
    "execution": {
     "iopub.execute_input": "2023-08-12T09:38:54.057869Z",
     "iopub.status.busy": "2023-08-12T09:38:54.057122Z",
     "iopub.status.idle": "2023-08-12T09:38:54.061190Z",
     "shell.execute_reply": "2023-08-12T09:38:54.060368Z"
    },
    "papermill": {
     "duration": 0.115976,
     "end_time": "2023-08-12T09:38:54.063488",
     "exception": false,
     "start_time": "2023-08-12T09:38:53.947512",
     "status": "completed"
    },
    "tags": []
   },
   "outputs": [],
   "source": [
    "# submit_v4(selected_features=all_dict)"
   ]
  },
  {
   "cell_type": "markdown",
   "id": "4db3894d",
   "metadata": {
    "papermill": {
     "duration": 0.10529,
     "end_time": "2023-08-12T09:38:54.274561",
     "exception": false,
     "start_time": "2023-08-12T09:38:54.169271",
     "status": "completed"
    },
    "tags": []
   },
   "source": [
    "## Try GridSearchCV on everything  "
   ]
  },
  {
   "cell_type": "code",
   "execution_count": 226,
   "id": "8eecbaf1",
   "metadata": {
    "execution": {
     "iopub.execute_input": "2023-08-12T09:38:54.487785Z",
     "iopub.status.busy": "2023-08-12T09:38:54.487330Z",
     "iopub.status.idle": "2023-08-12T09:38:54.493193Z",
     "shell.execute_reply": "2023-08-12T09:38:54.491958Z"
    },
    "papermill": {
     "duration": 0.115417,
     "end_time": "2023-08-12T09:38:54.495852",
     "exception": false,
     "start_time": "2023-08-12T09:38:54.380435",
     "status": "completed"
    },
    "tags": []
   },
   "outputs": [],
   "source": [
    "# param_grid = {\n",
    "#     \"model__C\": [0.5, 2, 5, 15]\n",
    "# }\n",
    "\n",
    "# param_grid = {\n",
    "#     'model__C' : [1, 5],\n",
    "#     'model__solver': ['lbfgs', 'liblinear', 'newton-cg', 'newton-cholesky', 'sag', 'saga']\n",
    "# }\n",
    "\n",
    "# param_grid = {\n",
    "#     'model__C' : [1, 5],\n",
    "#     'model__solver': ['lbfgs', 'liblinear', 'sag', 'saga']\n",
    "# }\n",
    "\n",
    "# param_grid = {\n",
    "#     'model__C' : [1, 5, 10, 15],\n",
    "#     'model__solver': ['lbfgs', 'liblinear', 'saga', 'newton-cg']\n",
    "# }\n",
    "\n",
    "# param_grid = {\n",
    "#     'model__C' : [1, 5, 10, 20],\n",
    "#     'model__solver': ['lbfgs', 'liblinear', 'saga']\n",
    "# }\n",
    "\n",
    "# param_grid"
   ]
  },
  {
   "cell_type": "code",
   "execution_count": 227,
   "id": "6ad4d319",
   "metadata": {
    "execution": {
     "iopub.execute_input": "2023-08-12T09:38:54.710424Z",
     "iopub.status.busy": "2023-08-12T09:38:54.709941Z",
     "iopub.status.idle": "2023-08-12T09:38:54.715398Z",
     "shell.execute_reply": "2023-08-12T09:38:54.713931Z"
    },
    "papermill": {
     "duration": 0.115174,
     "end_time": "2023-08-12T09:38:54.717859",
     "exception": false,
     "start_time": "2023-08-12T09:38:54.602685",
     "status": "completed"
    },
    "tags": []
   },
   "outputs": [],
   "source": [
    "# submit_v4(selected_features={'txt': [\"genre\"]}, param_grid=param_grid)"
   ]
  },
  {
   "cell_type": "code",
   "execution_count": 228,
   "id": "0b767342",
   "metadata": {
    "execution": {
     "iopub.execute_input": "2023-08-12T09:38:54.932069Z",
     "iopub.status.busy": "2023-08-12T09:38:54.931565Z",
     "iopub.status.idle": "2023-08-12T09:38:54.939067Z",
     "shell.execute_reply": "2023-08-12T09:38:54.937885Z"
    },
    "papermill": {
     "duration": 0.117197,
     "end_time": "2023-08-12T09:38:54.941421",
     "exception": false,
     "start_time": "2023-08-12T09:38:54.824224",
     "status": "completed"
    },
    "tags": []
   },
   "outputs": [
    {
     "data": {
      "text/plain": [
       "\"Used 'groupby' function instead on 'drop_duplicates' on movies.csv file. \\nIt reduced the number of missing values significantly! \\nThen used LogisticRegression() with GridSearchCV on submit_v4 function with \\nparam_grid={'model__C': [1, 5, 10], 'model__solver': ['lbfgs', 'liblinear', 'saga']}. \\nThe best f1_micro score in GridSearchCV was 0.8399771362056203 which is highest among \\nall the versions so far. Best C was 5 and best solver was 'saga'.\\nScore obtained was 0.84385 which is lower than 0.84441.\""
      ]
     },
     "execution_count": 228,
     "metadata": {},
     "output_type": "execute_result"
    }
   ],
   "source": [
    "# submit_v4(selected_features=all_dict, param_grid=param_grid)\n",
    "\n",
    "# Best C was 5\n",
    "# Best solver was liblinear\n",
    "\n",
    "\"\"\"Used 'groupby' function instead on 'drop_duplicates' on movies.csv file. \n",
    "It reduced the number of missing values significantly! \n",
    "Then used LogisticRegression() with GridSearchCV on submit_v4 function with \n",
    "param_grid={'model__C': [1, 5, 10], 'model__solver': ['lbfgs', 'liblinear', 'saga']}. \n",
    "The best f1_micro score in GridSearchCV was 0.8399771362056203 which is highest among \n",
    "all the versions so far. Best C was 5 and best solver was 'saga'.\n",
    "Score obtained was 0.84385 which is lower than 0.84441.\"\"\""
   ]
  },
  {
   "cell_type": "code",
   "execution_count": 229,
   "id": "eaf5cbf9",
   "metadata": {
    "execution": {
     "iopub.execute_input": "2023-08-12T09:38:55.155473Z",
     "iopub.status.busy": "2023-08-12T09:38:55.155079Z",
     "iopub.status.idle": "2023-08-12T09:38:55.159499Z",
     "shell.execute_reply": "2023-08-12T09:38:55.158614Z"
    },
    "papermill": {
     "duration": 0.11387,
     "end_time": "2023-08-12T09:38:55.161677",
     "exception": false,
     "start_time": "2023-08-12T09:38:55.047807",
     "status": "completed"
    },
    "tags": []
   },
   "outputs": [],
   "source": [
    "# Best 5 parameters\n",
    "\n",
    "# best5_dict = {'num': [\"audienceScore\"],\n",
    "#              'txt': ['reviewText', 'reviewerName','movieid', 'director']}\n",
    "\n",
    "# best5_dict"
   ]
  },
  {
   "cell_type": "code",
   "execution_count": 230,
   "id": "c4824068",
   "metadata": {
    "execution": {
     "iopub.execute_input": "2023-08-12T09:38:55.377458Z",
     "iopub.status.busy": "2023-08-12T09:38:55.377028Z",
     "iopub.status.idle": "2023-08-12T09:38:55.386120Z",
     "shell.execute_reply": "2023-08-12T09:38:55.384902Z"
    },
    "papermill": {
     "duration": 0.120054,
     "end_time": "2023-08-12T09:38:55.388335",
     "exception": false,
     "start_time": "2023-08-12T09:38:55.268281",
     "status": "completed"
    },
    "tags": []
   },
   "outputs": [
    {
     "data": {
      "text/plain": [
       "\"(Update): Used both CountVectorizer and TfidfVectorizer on a massive GridSearchCV \\nwhich took 22527.2s  (6.25 hrs) to run! Gave a score of 0.8439093822800923 locally and did not overfit!\\nBest params: {'model__C': 1, 'model__solver': 'liblinear'}.\\nHighest public score yet: 0.84591 (Rank up from 9 to 5!)\""
      ]
     },
     "execution_count": 230,
     "metadata": {},
     "output_type": "execute_result"
    }
   ],
   "source": [
    "# Submit best 5 features\n",
    "\n",
    "\"\"\"(Update): Used both CountVectorizer and TfidfVectorizer on a massive GridSearchCV \n",
    "which took 22527.2s  (6.25 hrs) to run! Gave a score of 0.8439093822800923 locally and did not overfit!\n",
    "Best params: {'model__C': 1, 'model__solver': 'liblinear'}.\n",
    "Highest public score yet: 0.84591 (Rank up from 9 to 5!)\"\"\"\n",
    "\n",
    "# param_grid = {\n",
    "#     'model__C' : [5, 10, 15],\n",
    "#     'model__solver': ['lbfgs', 'liblinear', 'saga']\n",
    "# }\n",
    "\n",
    "\n",
    "# Try new param_grid with fit_intercept and dual in logreg\n",
    "\n",
    "# param_grid = {\n",
    "#     'model__C' : [1],\n",
    "#     'model__solver': ['liblinear'],\n",
    "#     \"model__fit_intercept\" : [True, False],\n",
    "#     \"model__dual\" : [True, False] \n",
    "# }\n",
    "\n",
    "\n",
    "# Local testing  \n",
    "# submit_v4(selected_features={'num': ['audienceScore']},\n",
    "#          add_countvec=True)\n",
    "\n",
    "# submit_v4(selected_features={'num': ['audienceScore']},\n",
    "#          add_countvec=True, \n",
    "#           param_grid=param_grid)\n",
    "\n",
    "\n",
    "# Main submission\n",
    "\n",
    "# submit_v4(selected_features=best5_dict,\n",
    "#          add_countvec=True)\n",
    "\n",
    "\n",
    "# submit_v4(selected_features=best5_dict,\n",
    "#           add_countvec=True,\n",
    "#           param_grid=param_grid)"
   ]
  },
  {
   "cell_type": "code",
   "execution_count": 231,
   "id": "d8c7fbd8",
   "metadata": {
    "execution": {
     "iopub.execute_input": "2023-08-12T09:38:55.606761Z",
     "iopub.status.busy": "2023-08-12T09:38:55.606331Z",
     "iopub.status.idle": "2023-08-12T09:38:55.612496Z",
     "shell.execute_reply": "2023-08-12T09:38:55.611022Z"
    },
    "papermill": {
     "duration": 0.118565,
     "end_time": "2023-08-12T09:38:55.614986",
     "exception": false,
     "start_time": "2023-08-12T09:38:55.496421",
     "status": "completed"
    },
    "tags": []
   },
   "outputs": [],
   "source": [
    "## ALL DICT cv=10\n",
    "\n",
    "# all_dict = {'cat': [\"isFrequentReviewer\", \"rating\", \"originalLanguage\"],\n",
    "#              'num': [\"audienceScore\", \"runtimeMinutes\", \"boxOffice\"],\n",
    "#              'txt': ['reviewText', 'reviewerName', 'movieid', 'genre', 'director']}\n",
    "# print(all_dict)\n",
    "\n",
    "# param_grid = {\n",
    "#     'model__C' : [2, 5, 10],\n",
    "#     'model__solver': ['lbfgs', 'liblinear', 'saga']\n",
    "# }\n",
    "# print(param_grid)\n",
    "\n",
    "# param_grid = {\n",
    "#     'model__C' : [1, 5, 10],\n",
    "#     'model__solver': ['liblinear'],\n",
    "#     \"model__fit_intercept\" : [True, False],\n",
    "#     \"model__dual\" : [True, False] \n",
    "# }\n",
    "\n",
    "\n",
    "# Main submission\n",
    "\n",
    "# submit_v4(selected_model=LogisticRegression(C=5, solver='liblinear', max_iter=10000),\n",
    "#           selected_features=all_dict,\n",
    "#           param_grid=param_grid)\n",
    "\n",
    "# submit_v4(selected_features=all_dict,\n",
    "#           add_countvec=True,\n",
    "#           param_grid=param_grid)"
   ]
  },
  {
   "cell_type": "code",
   "execution_count": 232,
   "id": "23f4f552",
   "metadata": {
    "execution": {
     "iopub.execute_input": "2023-08-12T09:38:55.831889Z",
     "iopub.status.busy": "2023-08-12T09:38:55.831438Z",
     "iopub.status.idle": "2023-08-12T09:38:55.836538Z",
     "shell.execute_reply": "2023-08-12T09:38:55.835405Z"
    },
    "papermill": {
     "duration": 0.11544,
     "end_time": "2023-08-12T09:38:55.838977",
     "exception": false,
     "start_time": "2023-08-12T09:38:55.723537",
     "status": "completed"
    },
    "tags": []
   },
   "outputs": [],
   "source": [
    "# Best 6 parameters\n",
    "\n",
    "# best6_dict = {'cat': [\"isFrequentReviewer\"],\n",
    "#              'num': [\"audienceScore\"],\n",
    "#              'txt': ['reviewText', 'reviewerName', 'genre', 'director']}\n",
    "\n",
    "# best6_dict = {'num': [\"audienceScore\"],\n",
    "#              'txt': ['reviewText', 'reviewerName', 'genre','movieid', 'director']}\n",
    "\n",
    "# best6_dict"
   ]
  },
  {
   "cell_type": "code",
   "execution_count": 233,
   "id": "d57ffa0c",
   "metadata": {
    "execution": {
     "iopub.execute_input": "2023-08-12T09:38:56.053871Z",
     "iopub.status.busy": "2023-08-12T09:38:56.053459Z",
     "iopub.status.idle": "2023-08-12T09:38:56.058578Z",
     "shell.execute_reply": "2023-08-12T09:38:56.057163Z"
    },
    "papermill": {
     "duration": 0.116117,
     "end_time": "2023-08-12T09:38:56.061254",
     "exception": false,
     "start_time": "2023-08-12T09:38:55.945137",
     "status": "completed"
    },
    "tags": []
   },
   "outputs": [],
   "source": [
    "# Submit best 6 features (version 2)\n",
    "\n",
    "# submit_v4(selected_features=best6_dict,\n",
    "#           param_grid=param_grid)"
   ]
  },
  {
   "cell_type": "code",
   "execution_count": 234,
   "id": "7f8ed367",
   "metadata": {
    "execution": {
     "iopub.execute_input": "2023-08-12T09:38:56.278197Z",
     "iopub.status.busy": "2023-08-12T09:38:56.277715Z",
     "iopub.status.idle": "2023-08-12T09:38:56.282332Z",
     "shell.execute_reply": "2023-08-12T09:38:56.281480Z"
    },
    "papermill": {
     "duration": 0.115629,
     "end_time": "2023-08-12T09:38:56.284470",
     "exception": false,
     "start_time": "2023-08-12T09:38:56.168841",
     "status": "completed"
    },
    "tags": []
   },
   "outputs": [],
   "source": [
    "# Best 7 parameters\n",
    "\n",
    "# best7_dict = {'cat': [\"isFrequentReviewer\"],\n",
    "#              'num': [\"audienceScore\"],\n",
    "#              'txt': ['reviewText', 'reviewerName', 'movieid', 'genre', 'director']}\n",
    "# best7_dict"
   ]
  },
  {
   "cell_type": "code",
   "execution_count": 235,
   "id": "ca4a27a7",
   "metadata": {
    "execution": {
     "iopub.execute_input": "2023-08-12T09:38:56.499703Z",
     "iopub.status.busy": "2023-08-12T09:38:56.499279Z",
     "iopub.status.idle": "2023-08-12T09:38:56.503356Z",
     "shell.execute_reply": "2023-08-12T09:38:56.502439Z"
    },
    "papermill": {
     "duration": 0.11352,
     "end_time": "2023-08-12T09:38:56.505453",
     "exception": false,
     "start_time": "2023-08-12T09:38:56.391933",
     "status": "completed"
    },
    "tags": []
   },
   "outputs": [],
   "source": [
    "# Submit best 7 features\n",
    "\n",
    "# submit_v4(selected_features=best7_dict,\n",
    "#           param_grid=param_grid)"
   ]
  },
  {
   "cell_type": "code",
   "execution_count": 236,
   "id": "fec6340f",
   "metadata": {
    "execution": {
     "iopub.execute_input": "2023-08-12T09:38:56.722864Z",
     "iopub.status.busy": "2023-08-12T09:38:56.721801Z",
     "iopub.status.idle": "2023-08-12T09:38:56.726460Z",
     "shell.execute_reply": "2023-08-12T09:38:56.725450Z"
    },
    "papermill": {
     "duration": 0.114804,
     "end_time": "2023-08-12T09:38:56.728675",
     "exception": false,
     "start_time": "2023-08-12T09:38:56.613871",
     "status": "completed"
    },
    "tags": []
   },
   "outputs": [],
   "source": [
    "# submit_v4(selected_features=best6_dict, param_grid=param_grid)"
   ]
  },
  {
   "cell_type": "markdown",
   "id": "1551a42e",
   "metadata": {
    "papermill": {
     "duration": 0.105861,
     "end_time": "2023-08-12T09:38:56.942033",
     "exception": false,
     "start_time": "2023-08-12T09:38:56.836172",
     "status": "completed"
    },
    "tags": []
   },
   "source": [
    "## Try a new feature dict  \n",
    "\n"
   ]
  },
  {
   "cell_type": "code",
   "execution_count": 237,
   "id": "4ee13955",
   "metadata": {
    "execution": {
     "iopub.execute_input": "2023-08-12T09:38:57.156745Z",
     "iopub.status.busy": "2023-08-12T09:38:57.156306Z",
     "iopub.status.idle": "2023-08-12T09:38:57.162635Z",
     "shell.execute_reply": "2023-08-12T09:38:57.161752Z"
    },
    "papermill": {
     "duration": 0.116723,
     "end_time": "2023-08-12T09:38:57.165682",
     "exception": false,
     "start_time": "2023-08-12T09:38:57.048959",
     "status": "completed"
    },
    "tags": []
   },
   "outputs": [],
   "source": [
    "# all_dict_new = {'cat': [\"isFrequentReviewer\", \"rating\", \"originalLanguage\"],\n",
    "#              'num': [\"audienceScore\", \"runtimeMinutes\", \"boxOffice\"],\n",
    "#              'txt': ['reviewText', \"reviewerName\", 'movieid', 'genre', 'director']}\n",
    "# all_dict_new"
   ]
  },
  {
   "cell_type": "code",
   "execution_count": 238,
   "id": "2b1473f3",
   "metadata": {
    "execution": {
     "iopub.execute_input": "2023-08-12T09:38:57.406362Z",
     "iopub.status.busy": "2023-08-12T09:38:57.405184Z",
     "iopub.status.idle": "2023-08-12T09:38:57.410477Z",
     "shell.execute_reply": "2023-08-12T09:38:57.409650Z"
    },
    "papermill": {
     "duration": 0.136276,
     "end_time": "2023-08-12T09:38:57.412822",
     "exception": false,
     "start_time": "2023-08-12T09:38:57.276546",
     "status": "completed"
    },
    "tags": []
   },
   "outputs": [],
   "source": [
    "# submit_v4(selected_features={'txt': ['genre']}, param_grid=param_grid)"
   ]
  },
  {
   "cell_type": "code",
   "execution_count": 239,
   "id": "502ade1c",
   "metadata": {
    "execution": {
     "iopub.execute_input": "2023-08-12T09:38:57.629453Z",
     "iopub.status.busy": "2023-08-12T09:38:57.628195Z",
     "iopub.status.idle": "2023-08-12T09:38:57.633593Z",
     "shell.execute_reply": "2023-08-12T09:38:57.632510Z"
    },
    "papermill": {
     "duration": 0.116311,
     "end_time": "2023-08-12T09:38:57.636158",
     "exception": false,
     "start_time": "2023-08-12T09:38:57.519847",
     "status": "completed"
    },
    "tags": []
   },
   "outputs": [],
   "source": [
    "# submit_v4(selected_features=all_dict_new, param_grid=param_grid)"
   ]
  },
  {
   "cell_type": "code",
   "execution_count": 240,
   "id": "11ea5b68",
   "metadata": {
    "execution": {
     "iopub.execute_input": "2023-08-12T09:38:57.856101Z",
     "iopub.status.busy": "2023-08-12T09:38:57.855636Z",
     "iopub.status.idle": "2023-08-12T09:38:57.859859Z",
     "shell.execute_reply": "2023-08-12T09:38:57.859010Z"
    },
    "papermill": {
     "duration": 0.116613,
     "end_time": "2023-08-12T09:38:57.861925",
     "exception": false,
     "start_time": "2023-08-12T09:38:57.745312",
     "status": "completed"
    },
    "tags": []
   },
   "outputs": [],
   "source": [
    "# Try non-text based columns\n",
    "# num_cat_dict = {'cat': ['isFrequentReviewer', 'rating', 'originalLanguage'],\n",
    "#  'num': ['audienceScore', 'runtimeMinutes', 'boxOffice']}\n",
    "# num_cat_dict"
   ]
  },
  {
   "cell_type": "code",
   "execution_count": 241,
   "id": "a44ee507",
   "metadata": {
    "execution": {
     "iopub.execute_input": "2023-08-12T09:38:58.079687Z",
     "iopub.status.busy": "2023-08-12T09:38:58.078862Z",
     "iopub.status.idle": "2023-08-12T09:38:58.083647Z",
     "shell.execute_reply": "2023-08-12T09:38:58.082548Z"
    },
    "papermill": {
     "duration": 0.11625,
     "end_time": "2023-08-12T09:38:58.085910",
     "exception": false,
     "start_time": "2023-08-12T09:38:57.969660",
     "status": "completed"
    },
    "tags": []
   },
   "outputs": [],
   "source": [
    "# Use num_cat_dict features\n",
    "# (Update): Gets a local score of 0.7027181356991726. Not great.\n",
    "# submit_v4(selected_model=LogisticRegression(max_iter=100000), selected_features=num_cat_dict, param_grid=param_grid)"
   ]
  },
  {
   "cell_type": "code",
   "execution_count": 242,
   "id": "069cadcc",
   "metadata": {
    "execution": {
     "iopub.execute_input": "2023-08-12T09:38:58.301426Z",
     "iopub.status.busy": "2023-08-12T09:38:58.300977Z",
     "iopub.status.idle": "2023-08-12T09:38:58.305833Z",
     "shell.execute_reply": "2023-08-12T09:38:58.304758Z"
    },
    "papermill": {
     "duration": 0.115514,
     "end_time": "2023-08-12T09:38:58.307987",
     "exception": false,
     "start_time": "2023-08-12T09:38:58.192473",
     "status": "completed"
    },
    "tags": []
   },
   "outputs": [],
   "source": [
    "# Try data other than reviewText\n",
    "\n",
    "# mov_dict = {'cat': ['rating', 'originalLanguage'],\n",
    "#  'num': ['audienceScore', 'runtimeMinutes', 'boxOffice'],\n",
    "#  'txt': ['movieid', 'genre', 'director']}\n",
    "# mov_dict"
   ]
  },
  {
   "cell_type": "code",
   "execution_count": 243,
   "id": "c7a55d77",
   "metadata": {
    "execution": {
     "iopub.execute_input": "2023-08-12T09:38:58.522872Z",
     "iopub.status.busy": "2023-08-12T09:38:58.522086Z",
     "iopub.status.idle": "2023-08-12T09:38:58.526926Z",
     "shell.execute_reply": "2023-08-12T09:38:58.525804Z"
    },
    "papermill": {
     "duration": 0.114709,
     "end_time": "2023-08-12T09:38:58.529662",
     "exception": false,
     "start_time": "2023-08-12T09:38:58.414953",
     "status": "completed"
    },
    "tags": []
   },
   "outputs": [],
   "source": [
    "# Use mov_dict features\n",
    "# (Update): Gets a local score of 0.7475454316469369, which is not bad at all.\n",
    "# submit_v4(selected_model=LogisticRegression(max_iter=100000), selected_features=mov_dict, param_grid=param_grid)"
   ]
  },
  {
   "cell_type": "markdown",
   "id": "9dbf8367",
   "metadata": {
    "papermill": {
     "duration": 0.11078,
     "end_time": "2023-08-12T09:38:58.748934",
     "exception": false,
     "start_time": "2023-08-12T09:38:58.638154",
     "status": "completed"
    },
    "tags": []
   },
   "source": [
    "# Try a new column 'reviewYN'  \n",
    "\n"
   ]
  },
  {
   "cell_type": "code",
   "execution_count": 244,
   "id": "7878efcb",
   "metadata": {
    "execution": {
     "iopub.execute_input": "2023-08-12T09:38:58.963566Z",
     "iopub.status.busy": "2023-08-12T09:38:58.962835Z",
     "iopub.status.idle": "2023-08-12T09:38:58.967598Z",
     "shell.execute_reply": "2023-08-12T09:38:58.966449Z"
    },
    "papermill": {
     "duration": 0.11503,
     "end_time": "2023-08-12T09:38:58.970005",
     "exception": false,
     "start_time": "2023-08-12T09:38:58.854975",
     "status": "completed"
    },
    "tags": []
   },
   "outputs": [],
   "source": [
    "# all_dict_3 = {'cat': [\"isFrequentReviewer\", \"rating\", \"originalLanguage\", \"reviewYN\"],\n",
    "#              'num': [\"audienceScore\", \"runtimeMinutes\", \"boxOffice\"],\n",
    "#              'txt': ['reviewText', \"reviewerName\", 'movieid', 'genre', 'director']}\n",
    "# all_dict_3"
   ]
  },
  {
   "cell_type": "code",
   "execution_count": 245,
   "id": "5553ec85",
   "metadata": {
    "execution": {
     "iopub.execute_input": "2023-08-12T09:38:59.186054Z",
     "iopub.status.busy": "2023-08-12T09:38:59.185616Z",
     "iopub.status.idle": "2023-08-12T09:38:59.190884Z",
     "shell.execute_reply": "2023-08-12T09:38:59.189621Z"
    },
    "papermill": {
     "duration": 0.114932,
     "end_time": "2023-08-12T09:38:59.193193",
     "exception": false,
     "start_time": "2023-08-12T09:38:59.078261",
     "status": "completed"
    },
    "tags": []
   },
   "outputs": [],
   "source": [
    "# submit_v4(selected_model=LogisticRegression(max_iter=100000),\n",
    "#          selected_features=all_dict_3, \n",
    "#           param_grid=param_grid)"
   ]
  },
  {
   "cell_type": "markdown",
   "id": "d7eb76a2",
   "metadata": {
    "papermill": {
     "duration": 0.177808,
     "end_time": "2023-08-12T09:38:59.477273",
     "exception": false,
     "start_time": "2023-08-12T09:38:59.299465",
     "status": "completed"
    },
    "tags": []
   },
   "source": [
    "### More GridSearchCV using LinearSVC  "
   ]
  },
  {
   "cell_type": "code",
   "execution_count": 246,
   "id": "53ab5cb5",
   "metadata": {
    "execution": {
     "iopub.execute_input": "2023-08-12T09:38:59.691781Z",
     "iopub.status.busy": "2023-08-12T09:38:59.691091Z",
     "iopub.status.idle": "2023-08-12T09:38:59.696011Z",
     "shell.execute_reply": "2023-08-12T09:38:59.695024Z"
    },
    "papermill": {
     "duration": 0.114867,
     "end_time": "2023-08-12T09:38:59.698346",
     "exception": false,
     "start_time": "2023-08-12T09:38:59.583479",
     "status": "completed"
    },
    "tags": []
   },
   "outputs": [],
   "source": [
    "# param_grid_svc_2 = {\n",
    "#     'model__C': [1.0],\n",
    "#     'model__loss': ['hinge', 'squared_hinge'],\n",
    "#     'model__class_weight': ['balanced', None]\n",
    "# }\n",
    "# param_grid_svc_2"
   ]
  },
  {
   "cell_type": "code",
   "execution_count": 247,
   "id": "c04d0192",
   "metadata": {
    "execution": {
     "iopub.execute_input": "2023-08-12T09:38:59.915859Z",
     "iopub.status.busy": "2023-08-12T09:38:59.915201Z",
     "iopub.status.idle": "2023-08-12T09:38:59.920444Z",
     "shell.execute_reply": "2023-08-12T09:38:59.919242Z"
    },
    "papermill": {
     "duration": 0.115937,
     "end_time": "2023-08-12T09:38:59.922947",
     "exception": false,
     "start_time": "2023-08-12T09:38:59.807010",
     "status": "completed"
    },
    "tags": []
   },
   "outputs": [],
   "source": [
    "# submit_v4(selected_model=LinearSVC(max_iter=100000, random_state=42), selected_features={'num': [\"audienceScore\"]}, param_grid=param_grid_svc_2)"
   ]
  },
  {
   "cell_type": "code",
   "execution_count": 248,
   "id": "97495393",
   "metadata": {
    "execution": {
     "iopub.execute_input": "2023-08-12T09:39:00.140869Z",
     "iopub.status.busy": "2023-08-12T09:39:00.140397Z",
     "iopub.status.idle": "2023-08-12T09:39:00.145328Z",
     "shell.execute_reply": "2023-08-12T09:39:00.144000Z"
    },
    "papermill": {
     "duration": 0.11718,
     "end_time": "2023-08-12T09:39:00.147697",
     "exception": false,
     "start_time": "2023-08-12T09:39:00.030517",
     "status": "completed"
    },
    "tags": []
   },
   "outputs": [],
   "source": [
    "# submit_v4(selected_model=LinearSVC(max_iter=100000, random_state=42), selected_features=all_dict, param_grid=param_grid_svc_2)"
   ]
  },
  {
   "cell_type": "markdown",
   "id": "e362428c",
   "metadata": {
    "papermill": {
     "duration": 0.105218,
     "end_time": "2023-08-12T09:39:00.359173",
     "exception": false,
     "start_time": "2023-08-12T09:39:00.253955",
     "status": "completed"
    },
    "tags": []
   },
   "source": [
    "### Boosting techniques  "
   ]
  },
  {
   "cell_type": "code",
   "execution_count": 249,
   "id": "0bb8de12",
   "metadata": {
    "execution": {
     "iopub.execute_input": "2023-08-12T09:39:00.574479Z",
     "iopub.status.busy": "2023-08-12T09:39:00.574011Z",
     "iopub.status.idle": "2023-08-12T09:39:00.579109Z",
     "shell.execute_reply": "2023-08-12T09:39:00.577797Z"
    },
    "papermill": {
     "duration": 0.114774,
     "end_time": "2023-08-12T09:39:00.581480",
     "exception": false,
     "start_time": "2023-08-12T09:39:00.466706",
     "status": "completed"
    },
    "tags": []
   },
   "outputs": [],
   "source": [
    "# adc = AdaBoostClassifier(estimator=LogisticRegression(C=5, solver=\"saga\", max_iter=100000), n_estimators=50)\n",
    "# adc"
   ]
  },
  {
   "cell_type": "code",
   "execution_count": 250,
   "id": "ae43ef36",
   "metadata": {
    "execution": {
     "iopub.execute_input": "2023-08-12T09:39:00.799088Z",
     "iopub.status.busy": "2023-08-12T09:39:00.798428Z",
     "iopub.status.idle": "2023-08-12T09:39:00.802462Z",
     "shell.execute_reply": "2023-08-12T09:39:00.801471Z"
    },
    "papermill": {
     "duration": 0.116005,
     "end_time": "2023-08-12T09:39:00.804833",
     "exception": false,
     "start_time": "2023-08-12T09:39:00.688828",
     "status": "completed"
    },
    "tags": []
   },
   "outputs": [],
   "source": [
    "# submit_v4(selected_model=adc, selected_features={'num': [\"audienceScore\"]}, param_grid=None)"
   ]
  },
  {
   "cell_type": "code",
   "execution_count": 251,
   "id": "64a03658",
   "metadata": {
    "execution": {
     "iopub.execute_input": "2023-08-12T09:39:01.023134Z",
     "iopub.status.busy": "2023-08-12T09:39:01.022659Z",
     "iopub.status.idle": "2023-08-12T09:39:01.027748Z",
     "shell.execute_reply": "2023-08-12T09:39:01.026438Z"
    },
    "papermill": {
     "duration": 0.11723,
     "end_time": "2023-08-12T09:39:01.030219",
     "exception": false,
     "start_time": "2023-08-12T09:39:00.912989",
     "status": "completed"
    },
    "tags": []
   },
   "outputs": [],
   "source": [
    "# submit_v4(selected_model=adc, selected_features=all_dict, param_grid=None)\n",
    "\n",
    "# Took 1 hour 15 mins to run and gave a public score of only 0.71089. Discarded."
   ]
  },
  {
   "cell_type": "markdown",
   "id": "0a0f91d2",
   "metadata": {
    "papermill": {
     "duration": 0.105071,
     "end_time": "2023-08-12T09:39:01.242426",
     "exception": false,
     "start_time": "2023-08-12T09:39:01.137355",
     "status": "completed"
    },
    "tags": []
   },
   "source": [
    "### LightGBM  "
   ]
  },
  {
   "cell_type": "code",
   "execution_count": 252,
   "id": "a7a8777c",
   "metadata": {
    "execution": {
     "iopub.execute_input": "2023-08-12T09:39:01.456489Z",
     "iopub.status.busy": "2023-08-12T09:39:01.456014Z",
     "iopub.status.idle": "2023-08-12T09:39:01.460887Z",
     "shell.execute_reply": "2023-08-12T09:39:01.459756Z"
    },
    "papermill": {
     "duration": 0.114539,
     "end_time": "2023-08-12T09:39:01.463066",
     "exception": false,
     "start_time": "2023-08-12T09:39:01.348527",
     "status": "completed"
    },
    "tags": []
   },
   "outputs": [],
   "source": [
    "# lgb = ltb.LGBMClassifier()\n",
    "# lgb"
   ]
  },
  {
   "cell_type": "code",
   "execution_count": 253,
   "id": "88a83493",
   "metadata": {
    "execution": {
     "iopub.execute_input": "2023-08-12T09:39:01.676685Z",
     "iopub.status.busy": "2023-08-12T09:39:01.676255Z",
     "iopub.status.idle": "2023-08-12T09:39:01.680802Z",
     "shell.execute_reply": "2023-08-12T09:39:01.679911Z"
    },
    "papermill": {
     "duration": 0.113958,
     "end_time": "2023-08-12T09:39:01.683017",
     "exception": false,
     "start_time": "2023-08-12T09:39:01.569059",
     "status": "completed"
    },
    "tags": []
   },
   "outputs": [],
   "source": [
    "# Try LightGBM with default settings\n",
    "# (Update): Public score only 0.77713. It was fast, took less than 5 mins (without GridSearchCV)\n",
    "\n",
    "# submit_v4(selected_model=ltb.LGBMClassifier(), selected_features=all_dict, param_grid=None)"
   ]
  },
  {
   "cell_type": "markdown",
   "id": "11e3830b",
   "metadata": {
    "papermill": {
     "duration": 0.106561,
     "end_time": "2023-08-12T09:39:01.896781",
     "exception": false,
     "start_time": "2023-08-12T09:39:01.790220",
     "status": "completed"
    },
    "tags": []
   },
   "source": [
    "# Try feature selection and vocab fine tuning of reviewText column"
   ]
  },
  {
   "cell_type": "markdown",
   "id": "7a7f13e1",
   "metadata": {
    "papermill": {
     "duration": 0.105635,
     "end_time": "2023-08-12T09:39:02.110694",
     "exception": false,
     "start_time": "2023-08-12T09:39:02.005059",
     "status": "completed"
    },
    "tags": []
   },
   "source": [
    "## Plan  \n",
    "* Add a new column 'reviewWC' which has word count of 'reviewText'  \n",
    "    * Check if there is any relationship between 'reviewWC' and 'sentiment'\n",
    "* Work on vocabulary\n",
    "     * Use TfidfVectorizer and find out the vocabulary of 'reviewText' column for various ngrams\n",
    "     * Use RecursiveFeatureElimination (RFE) or RFECV to select 1000 top words/vocab for each ngram\n",
    "     * Use the final vocab (1000-3000 words) in the model and see how it performs compared to whole vocab\n"
   ]
  },
  {
   "cell_type": "code",
   "execution_count": 254,
   "id": "55a9f57b",
   "metadata": {
    "execution": {
     "iopub.execute_input": "2023-08-12T09:39:02.324919Z",
     "iopub.status.busy": "2023-08-12T09:39:02.324511Z",
     "iopub.status.idle": "2023-08-12T09:39:02.329468Z",
     "shell.execute_reply": "2023-08-12T09:39:02.328296Z"
    },
    "papermill": {
     "duration": 0.114618,
     "end_time": "2023-08-12T09:39:02.331696",
     "exception": false,
     "start_time": "2023-08-12T09:39:02.217078",
     "status": "completed"
    },
    "tags": []
   },
   "outputs": [],
   "source": [
    "# 'reviewWC' and 'sentiment'\n",
    "# (Conclusion): 'reviewWC' is practically same as DummyClassifier (accuracy of 0.6682375059904889 on train data). It just predicts 'positive' for all columns\n",
    "\n",
    "# reviewWC_dict = {\"num\": [\"reviewWC\"]}\n",
    "# submit_v4(selected_model=LogisticRegression(),\n",
    "#          selected_features=reviewWC_dict,\n",
    "#          param_grid=None)"
   ]
  },
  {
   "cell_type": "code",
   "execution_count": 255,
   "id": "602c1cb9",
   "metadata": {
    "execution": {
     "iopub.execute_input": "2023-08-12T09:39:02.546968Z",
     "iopub.status.busy": "2023-08-12T09:39:02.546515Z",
     "iopub.status.idle": "2023-08-12T09:39:02.551625Z",
     "shell.execute_reply": "2023-08-12T09:39:02.550413Z"
    },
    "papermill": {
     "duration": 0.114588,
     "end_time": "2023-08-12T09:39:02.553677",
     "exception": false,
     "start_time": "2023-08-12T09:39:02.439089",
     "status": "completed"
    },
    "tags": []
   },
   "outputs": [],
   "source": [
    "# 'reviewYN' and 'sentiment'\n",
    "# (Conclusion): 'reviewYN' is practically same as DummyClassifier (accuracy of 0.6682375059904889 on train data). It just predicts 'positive' for all columns\n",
    "\n",
    "# reviewYN_dict = {\"cat\": [\"reviewYN\"]}\n",
    "# submit_v4(selected_model=LogisticRegression(),\n",
    "#          selected_features=reviewYN_dict,\n",
    "#          param_grid=None)"
   ]
  },
  {
   "cell_type": "markdown",
   "id": "501b5fc4",
   "metadata": {
    "papermill": {
     "duration": 0.106336,
     "end_time": "2023-08-12T09:39:02.766647",
     "exception": false,
     "start_time": "2023-08-12T09:39:02.660311",
     "status": "completed"
    },
    "tags": []
   },
   "source": [
    "## Submissions using 'vocabulary' built from 'reviewText' data  "
   ]
  },
  {
   "cell_type": "markdown",
   "id": "dfca5105",
   "metadata": {
    "papermill": {
     "duration": 0.106294,
     "end_time": "2023-08-12T09:39:02.980720",
     "exception": false,
     "start_time": "2023-08-12T09:39:02.874426",
     "status": "completed"
    },
    "tags": []
   },
   "source": [
    "### Submit best 6 features along with common vocab  "
   ]
  },
  {
   "cell_type": "code",
   "execution_count": 256,
   "id": "bbed2f1f",
   "metadata": {
    "execution": {
     "iopub.execute_input": "2023-08-12T09:39:03.196703Z",
     "iopub.status.busy": "2023-08-12T09:39:03.196288Z",
     "iopub.status.idle": "2023-08-12T09:39:03.200890Z",
     "shell.execute_reply": "2023-08-12T09:39:03.200054Z"
    },
    "papermill": {
     "duration": 0.113749,
     "end_time": "2023-08-12T09:39:03.202925",
     "exception": false,
     "start_time": "2023-08-12T09:39:03.089176",
     "status": "completed"
    },
    "tags": []
   },
   "outputs": [],
   "source": [
    "# Best 6 parameters (version 2)  \n",
    "\n",
    "# best6_dict = {'num': [\"audienceScore\"],\n",
    "#              'txt': ['reviewText', 'reviewerName', 'genre','movieid', 'director']}\n",
    "\n",
    "# best6_dict"
   ]
  },
  {
   "cell_type": "code",
   "execution_count": 257,
   "id": "f2d9b5ad",
   "metadata": {
    "execution": {
     "iopub.execute_input": "2023-08-12T09:39:03.420537Z",
     "iopub.status.busy": "2023-08-12T09:39:03.420084Z",
     "iopub.status.idle": "2023-08-12T09:39:03.425596Z",
     "shell.execute_reply": "2023-08-12T09:39:03.424431Z"
    },
    "papermill": {
     "duration": 0.117052,
     "end_time": "2023-08-12T09:39:03.428089",
     "exception": false,
     "start_time": "2023-08-12T09:39:03.311037",
     "status": "completed"
    },
    "tags": []
   },
   "outputs": [],
   "source": [
    "# Submit best 6 features (version 2) with common vocabulary (common_1_2_grams)\n",
    "# (Update): Score 0.82867\n",
    "\n",
    "# submit_v4(selected_features=best6_dict,\n",
    "#           param_grid=param_grid,\n",
    "#          vocab=common_1_2_grams)"
   ]
  },
  {
   "cell_type": "code",
   "execution_count": 258,
   "id": "36881b91",
   "metadata": {
    "execution": {
     "iopub.execute_input": "2023-08-12T09:39:03.650701Z",
     "iopub.status.busy": "2023-08-12T09:39:03.649522Z",
     "iopub.status.idle": "2023-08-12T09:39:03.655249Z",
     "shell.execute_reply": "2023-08-12T09:39:03.654131Z"
    },
    "papermill": {
     "duration": 0.121589,
     "end_time": "2023-08-12T09:39:03.658316",
     "exception": false,
     "start_time": "2023-08-12T09:39:03.536727",
     "status": "completed"
    },
    "tags": []
   },
   "outputs": [],
   "source": [
    "# Submit best 6 features (version 2) with common vocabulary (common_1_2_3_grams)\n",
    "# Note: for this submission submit_v4 function has to be modified: reviewText TfidfVectorizer must have ngram_range(1,3).\n",
    "# (Update): Score in the range 0.825+\n",
    "\n",
    "# submit_v4(selected_features=best6_dict,\n",
    "#           param_grid=param_grid,\n",
    "#          vocab=common_1_2_3_grams)"
   ]
  }
 ],
 "metadata": {
  "kernelspec": {
   "display_name": "Python 3",
   "language": "python",
   "name": "python3"
  },
  "language_info": {
   "codemirror_mode": {
    "name": "ipython",
    "version": 3
   },
   "file_extension": ".py",
   "mimetype": "text/x-python",
   "name": "python",
   "nbconvert_exporter": "python",
   "pygments_lexer": "ipython3",
   "version": "3.10.10"
  },
  "papermill": {
   "default_parameters": {},
   "duration": 1685.796473,
   "end_time": "2023-08-12T09:39:06.797971",
   "environment_variables": {},
   "exception": null,
   "input_path": "__notebook__.ipynb",
   "output_path": "__notebook__.ipynb",
   "parameters": {},
   "start_time": "2023-08-12T09:11:01.001498",
   "version": "2.4.0"
  }
 },
 "nbformat": 4,
 "nbformat_minor": 5
}
