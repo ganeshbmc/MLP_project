{
 "cells": [
  {
   "cell_type": "markdown",
   "id": "9264ac54",
   "metadata": {
    "papermill": {
     "duration": 0.093757,
     "end_time": "2023-08-10T20:00:56.020607",
     "exception": false,
     "start_time": "2023-08-10T20:00:55.926850",
     "status": "completed"
    },
    "tags": []
   },
   "source": [
    "# MLP Project (T2 2023) by Ganesh P  "
   ]
  },
  {
   "cell_type": "markdown",
   "id": "427faec9",
   "metadata": {
    "papermill": {
     "duration": 0.092434,
     "end_time": "2023-08-10T20:00:56.205408",
     "exception": false,
     "start_time": "2023-08-10T20:00:56.112974",
     "status": "completed"
    },
    "tags": []
   },
   "source": [
    "`Disclaimer`   \n",
    "\n",
    "> This final notebook contains only the most relevant code to show the path/flow of my project work over few weeks. Rest of the code is in [my github repo](https://github.com/ganeshbmc/MLP_project) which is private at present (I will make it public after the project is over).  "
   ]
  },
  {
   "cell_type": "markdown",
   "id": "3a339d9f",
   "metadata": {
    "papermill": {
     "duration": 0.091289,
     "end_time": "2023-08-10T20:00:56.387215",
     "exception": false,
     "start_time": "2023-08-10T20:00:56.295926",
     "status": "completed"
    },
    "tags": []
   },
   "source": [
    "`Strengths`  \n",
    "\n",
    "> * Modular code (DRY principle)  \n",
    "> * End to end pipeline in one function (with helper functions)   "
   ]
  },
  {
   "cell_type": "markdown",
   "id": "8cdab380",
   "metadata": {
    "papermill": {
     "duration": 0.092659,
     "end_time": "2023-08-10T20:00:56.570949",
     "exception": false,
     "start_time": "2023-08-10T20:00:56.478290",
     "status": "completed"
    },
    "tags": []
   },
   "source": [
    "`Overview`  \n",
    "\n",
    "`PART I`  \n",
    "\n",
    "1.\t> Screen the datasets and import them.  \n",
    "2.\t> Perform EDA (first round).\n",
    "3.\t> Data cleaning.\n",
    "4.\t> Basic models including dummy model.\n",
    "5.\t> Because this is a text sentiment analysis project, focus on 'reviewText' column, work on cleaning text data and vectorising/tokenising it, build several models till the best possible score is reached.  \n",
    "\n",
    "`PART II`  \n",
    "\n",
    "6.\t> Merge train and movies dataset.\n",
    "7.\t> Perform EDA (second round) on merged dataset.\n",
    "8.\t> Data cleaning.\n",
    "9.\t> Build models on merged dataset.\n",
    "10.\t> Understand the results and do another round of EDA if needed.\n",
    "11.\t> Build final model.  \n",
    "\n",
    "`PART III (After project window closes)`  \n",
    "\n",
    "12. > Use NLTK library for further processing text data.  \n",
    "13. > Try to address comments from different languages, special characters etc.  \n",
    "14. > Try imblearn library to address class imbalance.  \n",
    "15. > Try to use currently available LLMs and see how my model performs agains them.  "
   ]
  },
  {
   "cell_type": "markdown",
   "id": "91b3a66d",
   "metadata": {
    "papermill": {
     "duration": 0.089295,
     "end_time": "2023-08-10T20:00:56.749852",
     "exception": false,
     "start_time": "2023-08-10T20:00:56.660557",
     "status": "completed"
    },
    "tags": []
   },
   "source": [
    "`Default code on Kaggle notebook`  "
   ]
  },
  {
   "cell_type": "code",
   "execution_count": 1,
   "id": "f78d7e0d",
   "metadata": {
    "_cell_guid": "b1076dfc-b9ad-4769-8c92-a6c4dae69d19",
    "_uuid": "8f2839f25d086af736a60e9eeb907d3b93b6e0e5",
    "execution": {
     "iopub.execute_input": "2023-08-10T20:00:56.935734Z",
     "iopub.status.busy": "2023-08-10T20:00:56.934233Z",
     "iopub.status.idle": "2023-08-10T20:00:56.951890Z",
     "shell.execute_reply": "2023-08-10T20:00:56.950714Z"
    },
    "papermill": {
     "duration": 0.112861,
     "end_time": "2023-08-10T20:00:56.954608",
     "exception": false,
     "start_time": "2023-08-10T20:00:56.841747",
     "status": "completed"
    },
    "tags": []
   },
   "outputs": [
    {
     "name": "stdout",
     "output_type": "stream",
     "text": [
      "/kaggle/input/sentiment-prediction-on-movie-reviews/movies.csv\n",
      "/kaggle/input/sentiment-prediction-on-movie-reviews/sample.csv\n",
      "/kaggle/input/sentiment-prediction-on-movie-reviews/train.csv\n",
      "/kaggle/input/sentiment-prediction-on-movie-reviews/test.csv\n"
     ]
    }
   ],
   "source": [
    "# This Python 3 environment comes with many helpful analytics libraries installed\n",
    "# It is defined by the kaggle/python Docker image: https://github.com/kaggle/docker-python\n",
    "# For example, here's several helpful packages to load\n",
    "\n",
    "import numpy as np # linear algebra\n",
    "import pandas as pd # data processing, CSV file I/O (e.g. pd.read_csv)\n",
    "\n",
    "# Input data files are available in the read-only \"../input/\" directory\n",
    "# For example, running this (by clicking run or pressing Shift+Enter) will list all files under the input directory\n",
    "\n",
    "import os\n",
    "for dirname, _, filenames in os.walk('/kaggle/input'):\n",
    "    for filename in filenames:\n",
    "        print(os.path.join(dirname, filename))\n",
    "\n",
    "# You can write up to 20GB to the current directory (/kaggle/working/) that gets preserved as output when you create a version using \"Save & Run All\" \n",
    "# You can also write temporary files to /kaggle/temp/, but they won't be saved outside of the current session"
   ]
  },
  {
   "cell_type": "markdown",
   "id": "8c8e45ea",
   "metadata": {
    "papermill": {
     "duration": 0.097174,
     "end_time": "2023-08-10T20:00:57.145605",
     "exception": false,
     "start_time": "2023-08-10T20:00:57.048431",
     "status": "completed"
    },
    "tags": []
   },
   "source": [
    "### Specify platform  "
   ]
  },
  {
   "cell_type": "code",
   "execution_count": 2,
   "id": "49ec560a",
   "metadata": {
    "execution": {
     "iopub.execute_input": "2023-08-10T20:00:57.354260Z",
     "iopub.status.busy": "2023-08-10T20:00:57.353013Z",
     "iopub.status.idle": "2023-08-10T20:00:57.358342Z",
     "shell.execute_reply": "2023-08-10T20:00:57.357424Z"
    },
    "papermill": {
     "duration": 0.10092,
     "end_time": "2023-08-10T20:00:57.360763",
     "exception": false,
     "start_time": "2023-08-10T20:00:57.259843",
     "status": "completed"
    },
    "tags": []
   },
   "outputs": [],
   "source": [
    "platform = 'kaggle'  "
   ]
  },
  {
   "cell_type": "markdown",
   "id": "7bfa4dfb",
   "metadata": {
    "papermill": {
     "duration": 0.090003,
     "end_time": "2023-08-10T20:00:57.542005",
     "exception": false,
     "start_time": "2023-08-10T20:00:57.452002",
     "status": "completed"
    },
    "tags": []
   },
   "source": [
    "### Import libraries  "
   ]
  },
  {
   "cell_type": "code",
   "execution_count": 3,
   "id": "cae0066d",
   "metadata": {
    "execution": {
     "iopub.execute_input": "2023-08-10T20:00:57.723493Z",
     "iopub.status.busy": "2023-08-10T20:00:57.723099Z",
     "iopub.status.idle": "2023-08-10T20:01:00.490507Z",
     "shell.execute_reply": "2023-08-10T20:01:00.489134Z"
    },
    "papermill": {
     "duration": 2.861205,
     "end_time": "2023-08-10T20:01:00.493301",
     "exception": false,
     "start_time": "2023-08-10T20:00:57.632096",
     "status": "completed"
    },
    "tags": []
   },
   "outputs": [
    {
     "name": "stdout",
     "output_type": "stream",
     "text": [
      "Imports done.\n"
     ]
    }
   ],
   "source": [
    "import pandas as pd\n",
    "import numpy as np\n",
    "import matplotlib.pyplot as plt\n",
    "import seaborn as sns\n",
    "import re\n",
    "from itertools import compress\n",
    "\n",
    "from sklearn.dummy import DummyClassifier\n",
    "from sklearn.pipeline import Pipeline, FeatureUnion\n",
    "from sklearn.compose import ColumnTransformer\n",
    "from sklearn.metrics import classification_report, confusion_matrix,f1_score\n",
    "from sklearn.feature_extraction.text import TfidfVectorizer, CountVectorizer\n",
    "from sklearn.preprocessing import FunctionTransformer\n",
    "from sklearn.preprocessing import StandardScaler, MinMaxScaler, RobustScaler, OneHotEncoder, LabelEncoder\n",
    "from sklearn.impute import SimpleImputer\n",
    "from sklearn.linear_model import LogisticRegression, SGDClassifier\n",
    "from sklearn.tree import DecisionTreeClassifier\n",
    "from sklearn.ensemble import RandomForestClassifier, AdaBoostClassifier\n",
    "from sklearn.svm import LinearSVC\n",
    "from sklearn.naive_bayes import GaussianNB, BernoulliNB, CategoricalNB, ComplementNB, MultinomialNB\n",
    "from sklearn.model_selection import train_test_split, GridSearchCV, cross_val_score\n",
    "from sklearn.decomposition import PCA, TruncatedSVD\n",
    "from sklearn.feature_selection import RFECV\n",
    "from sklearn.feature_selection import RFE\n",
    "from sklearn.neural_network import MLPClassifier\n",
    "\n",
    "# import lightgbm as ltb\n",
    "\n",
    "import scipy.stats as stats\n",
    "print(\"Imports done.\")"
   ]
  },
  {
   "cell_type": "markdown",
   "id": "8d4dc0c4",
   "metadata": {
    "papermill": {
     "duration": 0.089775,
     "end_time": "2023-08-10T20:01:00.673857",
     "exception": false,
     "start_time": "2023-08-10T20:01:00.584082",
     "status": "completed"
    },
    "tags": []
   },
   "source": [
    "# PART I  "
   ]
  },
  {
   "cell_type": "markdown",
   "id": "128a6fe6",
   "metadata": {
    "papermill": {
     "duration": 0.092135,
     "end_time": "2023-08-10T20:01:00.856106",
     "exception": false,
     "start_time": "2023-08-10T20:01:00.763971",
     "status": "completed"
    },
    "tags": []
   },
   "source": [
    "## Load datasets  "
   ]
  },
  {
   "cell_type": "code",
   "execution_count": 4,
   "id": "2d8ab5c3",
   "metadata": {
    "execution": {
     "iopub.execute_input": "2023-08-10T20:01:01.044013Z",
     "iopub.status.busy": "2023-08-10T20:01:01.043258Z",
     "iopub.status.idle": "2023-08-10T20:01:02.082048Z",
     "shell.execute_reply": "2023-08-10T20:01:02.080928Z"
    },
    "papermill": {
     "duration": 1.136309,
     "end_time": "2023-08-10T20:01:02.084438",
     "exception": false,
     "start_time": "2023-08-10T20:01:00.948129",
     "status": "completed"
    },
    "tags": []
   },
   "outputs": [
    {
     "data": {
      "text/plain": [
       "(162758, 5)"
      ]
     },
     "execution_count": 4,
     "metadata": {},
     "output_type": "execute_result"
    }
   ],
   "source": [
    "if platform == 'vscode':\n",
    "    traindf = pd.read_csv(\"data/train.csv\")\n",
    "else:\n",
    "    traindf = pd.read_csv(\"/kaggle/input/sentiment-prediction-on-movie-reviews/train.csv\")\n",
    "    \n",
    "traindf.shape"
   ]
  },
  {
   "cell_type": "code",
   "execution_count": 5,
   "id": "352e306c",
   "metadata": {
    "execution": {
     "iopub.execute_input": "2023-08-10T20:01:02.269281Z",
     "iopub.status.busy": "2023-08-10T20:01:02.268867Z",
     "iopub.status.idle": "2023-08-10T20:01:02.615020Z",
     "shell.execute_reply": "2023-08-10T20:01:02.613649Z"
    },
    "papermill": {
     "duration": 0.443059,
     "end_time": "2023-08-10T20:01:02.617662",
     "exception": false,
     "start_time": "2023-08-10T20:01:02.174603",
     "status": "completed"
    },
    "tags": []
   },
   "outputs": [
    {
     "data": {
      "text/plain": [
       "(55315, 4)"
      ]
     },
     "execution_count": 5,
     "metadata": {},
     "output_type": "execute_result"
    }
   ],
   "source": [
    "if platform == 'vscode':\n",
    "    testdf = pd.read_csv(\"data/test.csv\")\n",
    "else:\n",
    "    testdf = pd.read_csv(\"/kaggle/input/sentiment-prediction-on-movie-reviews/test.csv\")\n",
    "\n",
    "testdf.shape"
   ]
  },
  {
   "cell_type": "markdown",
   "id": "c30c9027",
   "metadata": {
    "papermill": {
     "duration": 0.090487,
     "end_time": "2023-08-10T20:01:02.798881",
     "exception": false,
     "start_time": "2023-08-10T20:01:02.708394",
     "status": "completed"
    },
    "tags": []
   },
   "source": [
    "### Understanding the data and getting it ready for training and evaluating models  \n"
   ]
  },
  {
   "cell_type": "code",
   "execution_count": 6,
   "id": "dd22018f",
   "metadata": {
    "execution": {
     "iopub.execute_input": "2023-08-10T20:01:02.983107Z",
     "iopub.status.busy": "2023-08-10T20:01:02.982687Z",
     "iopub.status.idle": "2023-08-10T20:01:02.989585Z",
     "shell.execute_reply": "2023-08-10T20:01:02.988447Z"
    },
    "papermill": {
     "duration": 0.10106,
     "end_time": "2023-08-10T20:01:02.992050",
     "exception": false,
     "start_time": "2023-08-10T20:01:02.890990",
     "status": "completed"
    },
    "tags": []
   },
   "outputs": [
    {
     "data": {
      "text/plain": [
       "(162758, 5)"
      ]
     },
     "execution_count": 6,
     "metadata": {},
     "output_type": "execute_result"
    }
   ],
   "source": [
    "traindf.shape"
   ]
  },
  {
   "cell_type": "code",
   "execution_count": 7,
   "id": "0f9b4f37",
   "metadata": {
    "execution": {
     "iopub.execute_input": "2023-08-10T20:01:03.177706Z",
     "iopub.status.busy": "2023-08-10T20:01:03.176627Z",
     "iopub.status.idle": "2023-08-10T20:01:03.417813Z",
     "shell.execute_reply": "2023-08-10T20:01:03.416539Z"
    },
    "papermill": {
     "duration": 0.336464,
     "end_time": "2023-08-10T20:01:03.421162",
     "exception": false,
     "start_time": "2023-08-10T20:01:03.084698",
     "status": "completed"
    },
    "tags": []
   },
   "outputs": [
    {
     "name": "stdout",
     "output_type": "stream",
     "text": [
      "<class 'pandas.core.frame.DataFrame'>\n",
      "RangeIndex: 162758 entries, 0 to 162757\n",
      "Data columns (total 5 columns):\n",
      " #   Column              Non-Null Count   Dtype \n",
      "---  ------              --------------   ----- \n",
      " 0   movieid             162758 non-null  object\n",
      " 1   reviewerName        162758 non-null  object\n",
      " 2   isFrequentReviewer  162758 non-null  bool  \n",
      " 3   reviewText          156311 non-null  object\n",
      " 4   sentiment           162758 non-null  object\n",
      "dtypes: bool(1), object(4)\n",
      "memory usage: 5.1+ MB\n"
     ]
    }
   ],
   "source": [
    "traindf.info()"
   ]
  },
  {
   "cell_type": "code",
   "execution_count": 8,
   "id": "ccc1ad97",
   "metadata": {
    "execution": {
     "iopub.execute_input": "2023-08-10T20:01:03.604842Z",
     "iopub.status.busy": "2023-08-10T20:01:03.604437Z",
     "iopub.status.idle": "2023-08-10T20:01:03.823363Z",
     "shell.execute_reply": "2023-08-10T20:01:03.822176Z"
    },
    "papermill": {
     "duration": 0.313618,
     "end_time": "2023-08-10T20:01:03.825758",
     "exception": false,
     "start_time": "2023-08-10T20:01:03.512140",
     "status": "completed"
    },
    "tags": []
   },
   "outputs": [
    {
     "data": {
      "text/plain": [
       "movieid                  0\n",
       "reviewerName             0\n",
       "isFrequentReviewer       0\n",
       "reviewText            6447\n",
       "sentiment                0\n",
       "dtype: int64"
      ]
     },
     "execution_count": 8,
     "metadata": {},
     "output_type": "execute_result"
    }
   ],
   "source": [
    "traindf.isna().sum()"
   ]
  },
  {
   "cell_type": "markdown",
   "id": "775a5493",
   "metadata": {
    "papermill": {
     "duration": 0.091846,
     "end_time": "2023-08-10T20:01:04.073181",
     "exception": false,
     "start_time": "2023-08-10T20:01:03.981335",
     "status": "completed"
    },
    "tags": []
   },
   "source": [
    "### Fill empty reviewText with custom text  "
   ]
  },
  {
   "cell_type": "code",
   "execution_count": 9,
   "id": "19df2f1a",
   "metadata": {
    "execution": {
     "iopub.execute_input": "2023-08-10T20:01:04.259998Z",
     "iopub.status.busy": "2023-08-10T20:01:04.259538Z",
     "iopub.status.idle": "2023-08-10T20:01:04.497054Z",
     "shell.execute_reply": "2023-08-10T20:01:04.495957Z"
    },
    "papermill": {
     "duration": 0.33457,
     "end_time": "2023-08-10T20:01:04.499364",
     "exception": false,
     "start_time": "2023-08-10T20:01:04.164794",
     "status": "completed"
    },
    "tags": []
   },
   "outputs": [
    {
     "data": {
      "text/plain": [
       "movieid               0\n",
       "reviewerName          0\n",
       "isFrequentReviewer    0\n",
       "reviewText            0\n",
       "sentiment             0\n",
       "dtype: int64"
      ]
     },
     "execution_count": 9,
     "metadata": {},
     "output_type": "execute_result"
    }
   ],
   "source": [
    "traindf[\"reviewText\"].fillna(\"empty\", inplace=True)\n",
    "traindf.isna().sum()"
   ]
  },
  {
   "cell_type": "markdown",
   "id": "8b748209",
   "metadata": {
    "papermill": {
     "duration": 0.091417,
     "end_time": "2023-08-10T20:01:04.683313",
     "exception": false,
     "start_time": "2023-08-10T20:01:04.591896",
     "status": "completed"
    },
    "tags": []
   },
   "source": [
    "## EDA  \n"
   ]
  },
  {
   "cell_type": "code",
   "execution_count": 10,
   "id": "e784c120",
   "metadata": {
    "execution": {
     "iopub.execute_input": "2023-08-10T20:01:04.871781Z",
     "iopub.status.busy": "2023-08-10T20:01:04.871059Z",
     "iopub.status.idle": "2023-08-10T20:01:05.143418Z",
     "shell.execute_reply": "2023-08-10T20:01:05.142309Z"
    },
    "papermill": {
     "duration": 0.371909,
     "end_time": "2023-08-10T20:01:05.147220",
     "exception": false,
     "start_time": "2023-08-10T20:01:04.775311",
     "status": "completed"
    },
    "tags": []
   },
   "outputs": [
    {
     "data": {
      "image/png": "[encoded data removed]",
      "text/plain": [
       "<Figure size 600x400 with 1 Axes>"
      ]
     },
     "metadata": {},
     "output_type": "display_data"
    }
   ],
   "source": [
    "# Pie chart for sentiment column\n",
    "plt.figure(figsize=(6, 4))\n",
    "traindf[\"sentiment\"].value_counts().plot(kind='pie', autopct='%1.0f%%', colors=[\"lightgreen\", \"crimson\"])\n",
    "plt.title(\"Pie chart for sentiment column\")\n",
    "plt.show()"
   ]
  },
  {
   "cell_type": "code",
   "execution_count": 11,
   "id": "4012bb87",
   "metadata": {
    "execution": {
     "iopub.execute_input": "2023-08-10T20:01:05.359654Z",
     "iopub.status.busy": "2023-08-10T20:01:05.359233Z",
     "iopub.status.idle": "2023-08-10T20:01:05.443929Z",
     "shell.execute_reply": "2023-08-10T20:01:05.442423Z"
    },
    "papermill": {
     "duration": 0.181373,
     "end_time": "2023-08-10T20:01:05.446479",
     "exception": false,
     "start_time": "2023-08-10T20:01:05.265106",
     "status": "completed"
    },
    "tags": []
   },
   "outputs": [
    {
     "name": "stdout",
     "output_type": "stream",
     "text": [
      "sentiment           NEGATIVE  POSITIVE\n",
      "isFrequentReviewer                    \n",
      "False                  35760     77429\n",
      "True                   18237     31332\n"
     ]
    },
    {
     "data": {
      "text/plain": [
       "Chi2ContingencyResult(statistic=419.89235425657796, pvalue=2.5755894769493255e-93, dof=1, expected_freq=array([[37551.86493444, 75637.13506556],\n",
       "       [16445.13506556, 33123.86493444]]))"
      ]
     },
     "execution_count": 11,
     "metadata": {},
     "output_type": "execute_result"
    }
   ],
   "source": [
    "# Chi-square test for isFrequentReviewer column and sentiment column   \n",
    "\n",
    "contingency_table = pd.crosstab(traindf['isFrequentReviewer'], traindf['sentiment'])\n",
    "print(contingency_table)\n",
    "stats.chi2_contingency(contingency_table)"
   ]
  },
  {
   "cell_type": "markdown",
   "id": "2825a2b7",
   "metadata": {
    "papermill": {
     "duration": 0.092413,
     "end_time": "2023-08-10T20:01:05.631334",
     "exception": false,
     "start_time": "2023-08-10T20:01:05.538921",
     "status": "completed"
    },
    "tags": []
   },
   "source": [
    "### Separate features and labels  "
   ]
  },
  {
   "cell_type": "code",
   "execution_count": 12,
   "id": "74f33452",
   "metadata": {
    "execution": {
     "iopub.execute_input": "2023-08-10T20:01:05.821144Z",
     "iopub.status.busy": "2023-08-10T20:01:05.820538Z",
     "iopub.status.idle": "2023-08-10T20:01:05.829091Z",
     "shell.execute_reply": "2023-08-10T20:01:05.827864Z"
    },
    "papermill": {
     "duration": 0.107861,
     "end_time": "2023-08-10T20:01:05.831761",
     "exception": false,
     "start_time": "2023-08-10T20:01:05.723900",
     "status": "completed"
    },
    "tags": []
   },
   "outputs": [
    {
     "data": {
      "text/plain": [
       "((162758,), (162758,))"
      ]
     },
     "execution_count": 12,
     "metadata": {},
     "output_type": "execute_result"
    }
   ],
   "source": [
    "train_features = traindf[\"reviewText\"]\n",
    "train_labels = traindf.iloc[:, -1]\n",
    "train_features.shape, train_labels.shape"
   ]
  },
  {
   "cell_type": "markdown",
   "id": "9a32a74f",
   "metadata": {
    "papermill": {
     "duration": 0.094131,
     "end_time": "2023-08-10T20:01:06.020274",
     "exception": false,
     "start_time": "2023-08-10T20:01:05.926143",
     "status": "completed"
    },
    "tags": []
   },
   "source": [
    "### Split traindf into training and testing parts  "
   ]
  },
  {
   "cell_type": "code",
   "execution_count": 13,
   "id": "68bf7277",
   "metadata": {
    "execution": {
     "iopub.execute_input": "2023-08-10T20:01:06.212123Z",
     "iopub.status.busy": "2023-08-10T20:01:06.211715Z",
     "iopub.status.idle": "2023-08-10T20:01:06.252287Z",
     "shell.execute_reply": "2023-08-10T20:01:06.251135Z"
    },
    "papermill": {
     "duration": 0.139007,
     "end_time": "2023-08-10T20:01:06.254854",
     "exception": false,
     "start_time": "2023-08-10T20:01:06.115847",
     "status": "completed"
    },
    "tags": []
   },
   "outputs": [
    {
     "data": {
      "text/plain": [
       "((122068,), (40690,), (122068,), (40690,))"
      ]
     },
     "execution_count": 13,
     "metadata": {},
     "output_type": "execute_result"
    }
   ],
   "source": [
    "X_train, X_test, y_train, y_test = train_test_split(train_features, train_labels, test_size=0.25, random_state=42)\n",
    "X_train.shape, X_test.shape, y_train.shape, y_test.shape"
   ]
  },
  {
   "cell_type": "markdown",
   "id": "74a9d0d3",
   "metadata": {
    "papermill": {
     "duration": 0.091675,
     "end_time": "2023-08-10T20:01:06.438747",
     "exception": false,
     "start_time": "2023-08-10T20:01:06.347072",
     "status": "completed"
    },
    "tags": []
   },
   "source": [
    "## Model evaluation plan and code  "
   ]
  },
  {
   "cell_type": "code",
   "execution_count": 14,
   "id": "a8a42754",
   "metadata": {
    "execution": {
     "iopub.execute_input": "2023-08-10T20:01:06.628401Z",
     "iopub.status.busy": "2023-08-10T20:01:06.628033Z",
     "iopub.status.idle": "2023-08-10T20:01:06.632351Z",
     "shell.execute_reply": "2023-08-10T20:01:06.631228Z"
    },
    "papermill": {
     "duration": 0.101891,
     "end_time": "2023-08-10T20:01:06.634742",
     "exception": false,
     "start_time": "2023-08-10T20:01:06.532851",
     "status": "completed"
    },
    "tags": []
   },
   "outputs": [],
   "source": [
    "# from sklearn.metrics import classification_report, confusion_matrix, ConfusionMatrixDisplay\n",
    "# from sklearn.metrics import f1_score"
   ]
  },
  {
   "cell_type": "code",
   "execution_count": 15,
   "id": "ecd701a4",
   "metadata": {
    "execution": {
     "iopub.execute_input": "2023-08-10T20:01:06.826200Z",
     "iopub.status.busy": "2023-08-10T20:01:06.825810Z",
     "iopub.status.idle": "2023-08-10T20:01:06.831143Z",
     "shell.execute_reply": "2023-08-10T20:01:06.829946Z"
    },
    "papermill": {
     "duration": 0.104615,
     "end_time": "2023-08-10T20:01:06.833509",
     "exception": false,
     "start_time": "2023-08-10T20:01:06.728894",
     "status": "completed"
    },
    "tags": []
   },
   "outputs": [],
   "source": [
    "# def evaluate(y_test, y_pred):\n",
    "#     print(classification_report(y_test, y_pred))\n",
    "#     print(confusion_matrix(y_test, y_pred))\n",
    "#     # print(f1_score(y_test, y_pred))\n",
    "#     ConfusionMatrixDisplay(y_test, y_pred)\n",
    "#     return"
   ]
  },
  {
   "cell_type": "markdown",
   "id": "8f6674c4",
   "metadata": {
    "papermill": {
     "duration": 0.093262,
     "end_time": "2023-08-10T20:01:07.019524",
     "exception": false,
     "start_time": "2023-08-10T20:01:06.926262",
     "status": "completed"
    },
    "tags": []
   },
   "source": [
    "### Data preprocessing  "
   ]
  },
  {
   "cell_type": "markdown",
   "id": "6211ceb7",
   "metadata": {
    "papermill": {
     "duration": 0.114324,
     "end_time": "2023-08-10T20:01:07.233147",
     "exception": false,
     "start_time": "2023-08-10T20:01:07.118823",
     "status": "completed"
    },
    "tags": []
   },
   "source": [
    "`Define stop words`  "
   ]
  },
  {
   "cell_type": "code",
   "execution_count": 16,
   "id": "8d82488a",
   "metadata": {
    "execution": {
     "iopub.execute_input": "2023-08-10T20:01:07.420939Z",
     "iopub.status.busy": "2023-08-10T20:01:07.419944Z",
     "iopub.status.idle": "2023-08-10T20:01:07.424951Z",
     "shell.execute_reply": "2023-08-10T20:01:07.423820Z"
    },
    "papermill": {
     "duration": 0.10111,
     "end_time": "2023-08-10T20:01:07.427383",
     "exception": false,
     "start_time": "2023-08-10T20:01:07.326273",
     "status": "completed"
    },
    "tags": []
   },
   "outputs": [],
   "source": [
    "# stop_words = [\"able\", \"about\", \"above\", \"abst\", \"ac\"]     # Deprecated  \n",
    "# type(stop_words), len(stop_words)"
   ]
  },
  {
   "cell_type": "markdown",
   "id": "6a6a75af",
   "metadata": {
    "papermill": {
     "duration": 0.092699,
     "end_time": "2023-08-10T20:01:07.613058",
     "exception": false,
     "start_time": "2023-08-10T20:01:07.520359",
     "status": "completed"
    },
    "tags": []
   },
   "source": [
    "## Feature extraction  "
   ]
  },
  {
   "cell_type": "markdown",
   "id": "f1b2244b",
   "metadata": {
    "papermill": {
     "duration": 0.093912,
     "end_time": "2023-08-10T20:01:07.804239",
     "exception": false,
     "start_time": "2023-08-10T20:01:07.710327",
     "status": "completed"
    },
    "tags": []
   },
   "source": [
    "### Understand CountVectorizer and TfidfVectorizer  "
   ]
  },
  {
   "cell_type": "code",
   "execution_count": 17,
   "id": "9ddcfcec",
   "metadata": {
    "execution": {
     "iopub.execute_input": "2023-08-10T20:01:07.993162Z",
     "iopub.status.busy": "2023-08-10T20:01:07.992767Z",
     "iopub.status.idle": "2023-08-10T20:01:07.997634Z",
     "shell.execute_reply": "2023-08-10T20:01:07.996576Z"
    },
    "papermill": {
     "duration": 0.103435,
     "end_time": "2023-08-10T20:01:08.000041",
     "exception": false,
     "start_time": "2023-08-10T20:01:07.896606",
     "status": "completed"
    },
    "tags": []
   },
   "outputs": [],
   "source": [
    "# text = X_train.copy()\n",
    "# text.head()"
   ]
  },
  {
   "cell_type": "code",
   "execution_count": 18,
   "id": "5fb23567",
   "metadata": {
    "execution": {
     "iopub.execute_input": "2023-08-10T20:01:08.192503Z",
     "iopub.status.busy": "2023-08-10T20:01:08.191438Z",
     "iopub.status.idle": "2023-08-10T20:01:08.195758Z",
     "shell.execute_reply": "2023-08-10T20:01:08.194949Z"
    },
    "papermill": {
     "duration": 0.103154,
     "end_time": "2023-08-10T20:01:08.197970",
     "exception": false,
     "start_time": "2023-08-10T20:01:08.094816",
     "status": "completed"
    },
    "tags": []
   },
   "outputs": [],
   "source": [
    "# vectorizer = TfidfVectorizer(stop_words=stop_words)\n",
    "# vectorized_text = vectorizer.fit_transform(text[\"reviewText\"])\n",
    "# vectorized_text"
   ]
  },
  {
   "cell_type": "markdown",
   "id": "9dfcd2e0",
   "metadata": {
    "papermill": {
     "duration": 0.095097,
     "end_time": "2023-08-10T20:01:08.388504",
     "exception": false,
     "start_time": "2023-08-10T20:01:08.293407",
     "status": "completed"
    },
    "tags": []
   },
   "source": [
    "`Without stop words`  \n",
    "<122068x58624 sparse matrix of type '<class 'numpy.float64'>'\n",
    "\twith 2312222 stored elements in Compressed Sparse Row format>\n",
    "\n",
    "`With stop words`  \n",
    "<122068x57784 sparse matrix of type '<class 'numpy.float64'>'\n",
    "\twith 1188395 stored elements in Compressed Sparse Row format>   "
   ]
  },
  {
   "cell_type": "code",
   "execution_count": 19,
   "id": "a7e5ba86",
   "metadata": {
    "execution": {
     "iopub.execute_input": "2023-08-10T20:01:08.577594Z",
     "iopub.status.busy": "2023-08-10T20:01:08.576877Z",
     "iopub.status.idle": "2023-08-10T20:01:08.581181Z",
     "shell.execute_reply": "2023-08-10T20:01:08.580118Z"
    },
    "papermill": {
     "duration": 0.100494,
     "end_time": "2023-08-10T20:01:08.583581",
     "exception": false,
     "start_time": "2023-08-10T20:01:08.483087",
     "status": "completed"
    },
    "tags": []
   },
   "outputs": [],
   "source": [
    "# vectorizer2 = CountVectorizer(stop_words=stop_words)\n",
    "# vectorized_text2 = vectorizer2.fit_transform(text[\"reviewText\"])\n",
    "# vectorized_text2"
   ]
  },
  {
   "cell_type": "markdown",
   "id": "5b4edf76",
   "metadata": {
    "papermill": {
     "duration": 0.092962,
     "end_time": "2023-08-10T20:01:08.770741",
     "exception": false,
     "start_time": "2023-08-10T20:01:08.677779",
     "status": "completed"
    },
    "tags": []
   },
   "source": [
    "`Without stop words`  \n",
    "<122068x58624 sparse matrix of type '<class 'numpy.int64'>'\n",
    "\twith 2312222 stored elements in Compressed Sparse Row format>\n",
    "\n",
    "`With stop words`  \n",
    "<122068x57784 sparse matrix of type '<class 'numpy.int64'>'\n",
    "\twith 1188395 stored elements in Compressed Sparse Row format>"
   ]
  },
  {
   "cell_type": "markdown",
   "id": "2eb00afc",
   "metadata": {
    "papermill": {
     "duration": 0.09344,
     "end_time": "2023-08-10T20:01:08.957014",
     "exception": false,
     "start_time": "2023-08-10T20:01:08.863574",
     "status": "completed"
    },
    "tags": []
   },
   "source": [
    "### Conclusion   \n",
    "`TfidfVectorizer is equivalent to CountVectorizer followed by TfidfTransformer.`  \n",
    "\n",
    "https://scikit-learn.org/stable/modules/generated/sklearn.feature_extraction.text.TfidfVectorizer.html"
   ]
  },
  {
   "cell_type": "markdown",
   "id": "f5dcc4e4",
   "metadata": {
    "papermill": {
     "duration": 0.093294,
     "end_time": "2023-08-10T20:01:09.145004",
     "exception": false,
     "start_time": "2023-08-10T20:01:09.051710",
     "status": "completed"
    },
    "tags": []
   },
   "source": [
    "## Model building workflow  \n",
    "\n",
    "`Make pipeline for preprocesing and model training and predictions`  \n"
   ]
  },
  {
   "cell_type": "code",
   "execution_count": 20,
   "id": "39955f74",
   "metadata": {
    "execution": {
     "iopub.execute_input": "2023-08-10T20:01:09.360230Z",
     "iopub.status.busy": "2023-08-10T20:01:09.359249Z",
     "iopub.status.idle": "2023-08-10T20:01:09.364332Z",
     "shell.execute_reply": "2023-08-10T20:01:09.363353Z"
    },
    "papermill": {
     "duration": 0.101292,
     "end_time": "2023-08-10T20:01:09.366504",
     "exception": false,
     "start_time": "2023-08-10T20:01:09.265212",
     "status": "completed"
    },
    "tags": []
   },
   "outputs": [],
   "source": [
    "# def preprocess_n_train(X_train, y_train, preprocessor, model):\n",
    "#     pipe = Pipeline(steps=[\n",
    "#                             (\"preprocessor\", preprocessor),\n",
    "#                             (\"model\", model)\n",
    "#                         ])\n",
    "    \n",
    "#     pipe.fit(X_train, y_train)\n",
    "\n",
    "#     print(\"Given model has been trained. Use predict method to get predictions array.\")\n",
    "#     return pipe\n",
    "\n",
    "\n",
    "# def predict_n_evaluate(pipeline, X_test, y_test):\n",
    "#     y_pred = pipeline.predict(X_test)\n",
    "#     print(f\"y_pred shape: {y_pred.shape}\")\n",
    "#     print(f\"Summary of predictions: {np.unique(y_pred, return_counts=True)}\")\n",
    "#     print(classification_report(y_test, y_pred))\n",
    "#     print(confusion_matrix(y_test, y_pred))\n",
    "#     return y_pred"
   ]
  },
  {
   "cell_type": "markdown",
   "id": "074d81d7",
   "metadata": {
    "papermill": {
     "duration": 0.092066,
     "end_time": "2023-08-10T20:01:09.553211",
     "exception": false,
     "start_time": "2023-08-10T20:01:09.461145",
     "status": "completed"
    },
    "tags": []
   },
   "source": [
    "## Building 3 basic models  "
   ]
  },
  {
   "cell_type": "markdown",
   "id": "e7ee5e23",
   "metadata": {
    "papermill": {
     "duration": 0.094144,
     "end_time": "2023-08-10T20:01:09.740022",
     "exception": false,
     "start_time": "2023-08-10T20:01:09.645878",
     "status": "completed"
    },
    "tags": []
   },
   "source": [
    "### Text preprocessors  "
   ]
  },
  {
   "cell_type": "code",
   "execution_count": 21,
   "id": "00d29eeb",
   "metadata": {
    "execution": {
     "iopub.execute_input": "2023-08-10T20:01:09.929977Z",
     "iopub.status.busy": "2023-08-10T20:01:09.928806Z",
     "iopub.status.idle": "2023-08-10T20:01:09.933543Z",
     "shell.execute_reply": "2023-08-10T20:01:09.932642Z"
    },
    "papermill": {
     "duration": 0.101824,
     "end_time": "2023-08-10T20:01:09.935914",
     "exception": false,
     "start_time": "2023-08-10T20:01:09.834090",
     "status": "completed"
    },
    "tags": []
   },
   "outputs": [],
   "source": [
    "# tvec = TfidfVectorizer()\n",
    "# cvec = CountVectorizer()        # Note that TfidfVectorizer and CountVectorizer+TfidsTransformer do the same function\n",
    "# tvec, cvec"
   ]
  },
  {
   "cell_type": "markdown",
   "id": "4ef30398",
   "metadata": {
    "papermill": {
     "duration": 0.093925,
     "end_time": "2023-08-10T20:01:10.125747",
     "exception": false,
     "start_time": "2023-08-10T20:01:10.031822",
     "status": "completed"
    },
    "tags": []
   },
   "source": [
    "### Logistic Regression with TfidVectorizer for preprocessing  "
   ]
  },
  {
   "cell_type": "code",
   "execution_count": 22,
   "id": "7bdb9c64",
   "metadata": {
    "execution": {
     "iopub.execute_input": "2023-08-10T20:01:10.314643Z",
     "iopub.status.busy": "2023-08-10T20:01:10.313949Z",
     "iopub.status.idle": "2023-08-10T20:01:10.318205Z",
     "shell.execute_reply": "2023-08-10T20:01:10.317137Z"
    },
    "papermill": {
     "duration": 0.101399,
     "end_time": "2023-08-10T20:01:10.320483",
     "exception": false,
     "start_time": "2023-08-10T20:01:10.219084",
     "status": "completed"
    },
    "tags": []
   },
   "outputs": [],
   "source": [
    "# logreg = LogisticRegression(max_iter=1000)\n",
    "# logreg_pipe = preprocess_n_train(X_train, y_train, tvec, logreg)\n",
    "# y_pred_logreg = predict_n_evaluate(logreg_pipe, X_test, y_test)\n",
    "# y_pred_logreg"
   ]
  },
  {
   "cell_type": "markdown",
   "id": "c4bddf2a",
   "metadata": {
    "papermill": {
     "duration": 0.157457,
     "end_time": "2023-08-10T20:01:10.571171",
     "exception": false,
     "start_time": "2023-08-10T20:01:10.413714",
     "status": "completed"
    },
    "tags": []
   },
   "source": [
    "### SVM model  "
   ]
  },
  {
   "cell_type": "code",
   "execution_count": 23,
   "id": "40891f27",
   "metadata": {
    "execution": {
     "iopub.execute_input": "2023-08-10T20:01:10.759317Z",
     "iopub.status.busy": "2023-08-10T20:01:10.758331Z",
     "iopub.status.idle": "2023-08-10T20:01:10.762670Z",
     "shell.execute_reply": "2023-08-10T20:01:10.761825Z"
    },
    "papermill": {
     "duration": 0.100927,
     "end_time": "2023-08-10T20:01:10.764968",
     "exception": false,
     "start_time": "2023-08-10T20:01:10.664041",
     "status": "completed"
    },
    "tags": []
   },
   "outputs": [],
   "source": [
    "# svm = LinearSVC()\n",
    "# svm_pipe = preprocess_n_train(X_train, y_train, tvec, svm)\n",
    "# y_pred_svm = predict_n_evaluate(svm_pipe, X_test, y_test)\n",
    "# y_pred_svm"
   ]
  },
  {
   "cell_type": "markdown",
   "id": "8c555fad",
   "metadata": {
    "papermill": {
     "duration": 0.092362,
     "end_time": "2023-08-10T20:01:10.951589",
     "exception": false,
     "start_time": "2023-08-10T20:01:10.859227",
     "status": "completed"
    },
    "tags": []
   },
   "source": [
    "### Naive Bayes model  "
   ]
  },
  {
   "cell_type": "markdown",
   "id": "b28cddc6",
   "metadata": {
    "papermill": {
     "duration": 0.095281,
     "end_time": "2023-08-10T20:01:11.142514",
     "exception": false,
     "start_time": "2023-08-10T20:01:11.047233",
     "status": "completed"
    },
    "tags": []
   },
   "source": [
    "#### MultinomialNB  "
   ]
  },
  {
   "cell_type": "code",
   "execution_count": 24,
   "id": "d2076780",
   "metadata": {
    "execution": {
     "iopub.execute_input": "2023-08-10T20:01:11.340806Z",
     "iopub.status.busy": "2023-08-10T20:01:11.340002Z",
     "iopub.status.idle": "2023-08-10T20:01:11.344601Z",
     "shell.execute_reply": "2023-08-10T20:01:11.343402Z"
    },
    "papermill": {
     "duration": 0.10275,
     "end_time": "2023-08-10T20:01:11.347333",
     "exception": false,
     "start_time": "2023-08-10T20:01:11.244583",
     "status": "completed"
    },
    "tags": []
   },
   "outputs": [],
   "source": [
    "# mnb = MultinomialNB()\n",
    "# mnb_pipe = preprocess_n_train(X_train, y_train, tvec, mnb)\n",
    "# y_pred_mnb = predict_n_evaluate(mnb_pipe, X_test, y_test)\n",
    "# y_pred_mnb"
   ]
  },
  {
   "cell_type": "markdown",
   "id": "cdbaba32",
   "metadata": {
    "papermill": {
     "duration": 0.092751,
     "end_time": "2023-08-10T20:01:11.537111",
     "exception": false,
     "start_time": "2023-08-10T20:01:11.444360",
     "status": "completed"
    },
    "tags": []
   },
   "source": [
    "## Submitting predictions to Kaggle competition  "
   ]
  },
  {
   "cell_type": "code",
   "execution_count": 25,
   "id": "2f0e4177",
   "metadata": {
    "execution": {
     "iopub.execute_input": "2023-08-10T20:01:11.737743Z",
     "iopub.status.busy": "2023-08-10T20:01:11.736959Z",
     "iopub.status.idle": "2023-08-10T20:01:11.741951Z",
     "shell.execute_reply": "2023-08-10T20:01:11.741030Z"
    },
    "papermill": {
     "duration": 0.114773,
     "end_time": "2023-08-10T20:01:11.744654",
     "exception": false,
     "start_time": "2023-08-10T20:01:11.629881",
     "status": "completed"
    },
    "tags": []
   },
   "outputs": [],
   "source": [
    "# def submit(selected_model=logreg, selected_preprocessor=tvec):\n",
    "    \n",
    "#     # Retrain on the whole train.csv file  \n",
    "#     traindf = pd.read_csv(\"/kaggle/input/sentiment-prediction-on-movie-reviews/train.csv\")\n",
    "#     X_train = traindf[\"reviewText\"]\n",
    "#     X_train.fillna(\"empty\", inplace=True)\n",
    "#     y_train = traindf[\"sentiment\"]\n",
    "#     pipe = preprocess_n_train(X_train, y_train, selected_preprocessor, selected_model)\n",
    "    \n",
    "#     # Predict on test.csv file\n",
    "#     testdf = pd.read_csv(\"/kaggle/input/sentiment-prediction-on-movie-reviews/test.csv\")\n",
    "#     X_test = testdf[\"reviewText\"]\n",
    "#     X_test.fillna(\"empty\", inplace=True)\n",
    "    \n",
    "#     y_pred = pipe.predict(X_test)\n",
    "    \n",
    "#     pred_df = pd.DataFrame(y_pred)\n",
    "#     pred_df.columns = [\"sentiment\"]\n",
    "#     pred_df.index.name = \"id\"\n",
    "#     pred_df.to_csv(\"submission.csv\")\n",
    "    \n",
    "#     return \"Successfully created the submission file!!!\""
   ]
  },
  {
   "cell_type": "code",
   "execution_count": 26,
   "id": "d6df37d7",
   "metadata": {
    "execution": {
     "iopub.execute_input": "2023-08-10T20:01:11.934795Z",
     "iopub.status.busy": "2023-08-10T20:01:11.934037Z",
     "iopub.status.idle": "2023-08-10T20:01:11.938260Z",
     "shell.execute_reply": "2023-08-10T20:01:11.937323Z"
    },
    "papermill": {
     "duration": 0.101995,
     "end_time": "2023-08-10T20:01:11.940512",
     "exception": false,
     "start_time": "2023-08-10T20:01:11.838517",
     "status": "completed"
    },
    "tags": []
   },
   "outputs": [],
   "source": [
    "# submit(logreg_cv1, tvec_cv1)"
   ]
  },
  {
   "cell_type": "markdown",
   "id": "e6987d88",
   "metadata": {
    "papermill": {
     "duration": 0.092474,
     "end_time": "2023-08-10T20:01:12.128387",
     "exception": false,
     "start_time": "2023-08-10T20:01:12.035913",
     "status": "completed"
    },
    "tags": []
   },
   "source": [
    "# PART II  "
   ]
  },
  {
   "cell_type": "markdown",
   "id": "1bf4dc5a",
   "metadata": {
    "papermill": {
     "duration": 0.093353,
     "end_time": "2023-08-10T20:01:12.313874",
     "exception": false,
     "start_time": "2023-08-10T20:01:12.220521",
     "status": "completed"
    },
    "tags": []
   },
   "source": [
    "## Merge \"movies.csv\" with \"train.csv\" and \"test.csv\"  "
   ]
  },
  {
   "cell_type": "markdown",
   "id": "41434dc2",
   "metadata": {
    "papermill": {
     "duration": 0.091913,
     "end_time": "2023-08-10T20:01:12.497972",
     "exception": false,
     "start_time": "2023-08-10T20:01:12.406059",
     "status": "completed"
    },
    "tags": []
   },
   "source": [
    "### Helper functions  "
   ]
  },
  {
   "cell_type": "code",
   "execution_count": 27,
   "id": "c11c88bf",
   "metadata": {
    "execution": {
     "iopub.execute_input": "2023-08-10T20:01:12.684998Z",
     "iopub.status.busy": "2023-08-10T20:01:12.684229Z",
     "iopub.status.idle": "2023-08-10T20:01:12.689484Z",
     "shell.execute_reply": "2023-08-10T20:01:12.688672Z"
    },
    "papermill": {
     "duration": 0.101949,
     "end_time": "2023-08-10T20:01:12.691736",
     "exception": false,
     "start_time": "2023-08-10T20:01:12.589787",
     "status": "completed"
    },
    "tags": []
   },
   "outputs": [],
   "source": [
    "# Helper function for loading files  \n",
    "\n",
    "def load_csv(filename: str):\n",
    "    if platform == \"vscode\":\n",
    "        df = pd.read_csv(f\"data/{filename}.csv\")\n",
    "    else:\n",
    "        df = pd.read_csv(f\"/kaggle/input/sentiment-prediction-on-movie-reviews/{filename}.csv\")\n",
    "        \n",
    "    return df"
   ]
  },
  {
   "cell_type": "code",
   "execution_count": 28,
   "id": "dd0693ef",
   "metadata": {
    "execution": {
     "iopub.execute_input": "2023-08-10T20:01:12.880630Z",
     "iopub.status.busy": "2023-08-10T20:01:12.879867Z",
     "iopub.status.idle": "2023-08-10T20:01:12.885804Z",
     "shell.execute_reply": "2023-08-10T20:01:12.884596Z"
    },
    "papermill": {
     "duration": 0.103148,
     "end_time": "2023-08-10T20:01:12.888314",
     "exception": false,
     "start_time": "2023-08-10T20:01:12.785166",
     "status": "completed"
    },
    "tags": []
   },
   "outputs": [],
   "source": [
    "def inspect(df: pd.DataFrame):\n",
    "    print(f\"Shape of the dataframe: {df.shape}\")\n",
    "    print()\n",
    "    print(f\"Columns in the dataframe:\\n{df.columns}\")\n",
    "    print()\n",
    "    print(f\"{df.info()}\")\n",
    "    print()\n",
    "    # print(f\"Summary: {df.describe()}\")\n",
    "    print(f\"Missing values:\\n{df.isna().sum()}\")\n",
    "    return"
   ]
  },
  {
   "cell_type": "code",
   "execution_count": 29,
   "id": "8f19071b",
   "metadata": {
    "execution": {
     "iopub.execute_input": "2023-08-10T20:01:13.078924Z",
     "iopub.status.busy": "2023-08-10T20:01:13.078479Z",
     "iopub.status.idle": "2023-08-10T20:01:13.084480Z",
     "shell.execute_reply": "2023-08-10T20:01:13.083214Z"
    },
    "papermill": {
     "duration": 0.103856,
     "end_time": "2023-08-10T20:01:13.087005",
     "exception": false,
     "start_time": "2023-08-10T20:01:12.983149",
     "status": "completed"
    },
    "tags": []
   },
   "outputs": [],
   "source": [
    "def name_fl(name):\n",
    "    l = name.split()\n",
    "    n = ' '.join((l[0], l[-1]))\n",
    "    return n"
   ]
  },
  {
   "cell_type": "code",
   "execution_count": 30,
   "id": "a71ef83e",
   "metadata": {
    "execution": {
     "iopub.execute_input": "2023-08-10T20:01:13.280927Z",
     "iopub.status.busy": "2023-08-10T20:01:13.280478Z",
     "iopub.status.idle": "2023-08-10T20:01:13.313478Z",
     "shell.execute_reply": "2023-08-10T20:01:13.312037Z"
    },
    "papermill": {
     "duration": 0.13339,
     "end_time": "2023-08-10T20:01:13.316415",
     "exception": false,
     "start_time": "2023-08-10T20:01:13.183025",
     "status": "completed"
    },
    "tags": []
   },
   "outputs": [],
   "source": [
    "def select_features(df: pd.DataFrame, moviesdf: pd.DataFrame, row_thresh_null=None):\n",
    "    '''\n",
    "    This function merges the given dataframes. Note that the first df must be \"train\" or \"test\" and\n",
    "    the second df should be \"movies\".\n",
    "    Note: Sentiment column is present only in \"train.csv\" file and not \"test.csv\" file.\n",
    "    '''\n",
    "    \n",
    "    # Drop duplicates from moviesdf\n",
    "#     movies_unique = moviesdf.drop_duplicates(subset=[\"movieid\"])\n",
    "\n",
    "    # Drop duplicates using groupby - clubs similar rows and fills in missing values better\n",
    "    movies_unique = moviesdf.fillna(value=np.nan).groupby(\"movieid\").first().reset_index()\n",
    "    \n",
    "\n",
    "    # Handle missing values in movies.csv better than just dropping duplicates?\n",
    "#     movies_unique = moviesdf.copy()\n",
    "#     movies_unique[[\"audienceScore\", \"runtimeMinutes\"]] = movies_unique[[\"audienceScore\", \"runtimeMinutes\"]].interpolate(method='linear', axis=0)\n",
    "#     movies_unique = movies_unique.fillna(value=np.nan).groupby(\"movieid\").first().fillna(method='ffill').reset_index()\n",
    "\n",
    "    \n",
    "\n",
    "    # Merge df and movies_unique\n",
    "    df_merged = pd.merge(df, movies_unique, on=\"movieid\", how='left')\n",
    "    \n",
    "    # Rename \"isTopCritic\" column, if it exists, to \"isFrequentReviewer\"\n",
    "    df_merged.rename(columns={\"isTopCritic\": \"isFrequentReviewer\"}, inplace=True)\n",
    "    \n",
    "    # Drop columns\n",
    "#     df_merged = df_merged.drop(columns=[\"title\", \"ratingContents\", \"releaseDateTheaters\", \"releaseDateStreaming\", \"distributor\", \"soundType\"])\n",
    "#     df_merged = df_merged.drop(columns=[\"title\", \"soundType\"])\n",
    "    \n",
    "    # Drop rows (OPTIONAL: Uses kwarg row_thresh_null)\n",
    "    if row_thresh_null != None:\n",
    "        df_merged.dropna(axis=0, thresh=(df_merged.shape[1] - row_thresh_null), inplace=True)\n",
    "        \n",
    "\n",
    "    # Create new columns based on reviewText\n",
    "    final = df_merged.copy()\n",
    "    final[\"reviewYN\"] = np.where(final[\"reviewText\"].isnull(), 1, 0)    # Feature engineering - adding a new column\n",
    "    final[\"reviewWC\"] = final.apply(lambda x: len(str(x[\"reviewText\"]).split()), axis=1)    # Feature engineering - adding second new column\n",
    "    \n",
    "    # Clean text (replace numbers with empty string) and fill missing values in \"reviewText\" with empty string\n",
    "    final[\"reviewText\"] = final[\"reviewText\"].str.replace('\\d+', '', regex=True)\n",
    "    final[\"reviewText\"] = final[\"reviewText\"].fillna(\"neutral\")\n",
    "    \n",
    "    # Fill missing values in \"rating\", \"genre\", original columns with the word \"unknown\"\n",
    "    final[\"rating\"] = final[\"rating\"].fillna(\"unknown\")\n",
    "    final[\"originalLanguage\"] = final[\"originalLanguage\"].fillna(\"unknown\")\n",
    "    final[\"genre\"] = final[\"genre\"].fillna(\"unknown\")\n",
    "    final[\"genre\"] = final[\"genre\"].apply(lambda x: re.sub(r\"-\", \"\", x))\n",
    "    final[\"genreSorted\"] = final[\"genre\"].apply(lambda x: (\",\").join(sorted(x.split(\", \"))))\n",
    "#     final[\"genre\"] = final[\"genre\"].replace(to_replace={\"&\": \"\"})\n",
    "\n",
    "    # Impute missing values for \"audienceScore\" and \"runtimeMinutes\" columns\n",
    "#     final[\"audienceScore\"] = final[\"audienceScore\"].fillna(final[\"audienceScore\"].mean())        # MOVED\n",
    "#     final[\"runtimeMinutes\"] = final[\"runtimeMinutes\"].fillna(final[\"runtimeMinutes\"].median())   # MOVED\n",
    "    \n",
    "    # Preprocess and impute missing values in \"boxOffice\" column\n",
    "    final[\"boxOffice\"] = final[\"boxOffice\"].str[1:]\n",
    "    final[\"boxOffice\"] = final[\"boxOffice\"].replace(to_replace={\"M\": \"*1000000\", \"K\": \"*1000\"}, regex=True)\n",
    "    final[\"boxOffice\"] = final[\"boxOffice\"].loc[final[\"boxOffice\"].notnull()].apply(lambda x: eval(str(x)))\n",
    "#     final[\"boxOffice\"] = final[\"boxOffice\"].fillna(final[\"boxOffice\"].median())                  # MOVED\n",
    "    # (Optional) Replace outliers in boxOffice with median\n",
    "#     median = final[\"boxOffice\"].describe()['50%']\n",
    "#     iqr = final[\"boxOffice\"].describe()['75%'] - final[\"boxOffice\"].describe()['25%']\n",
    "#     ll = median - (1.5*iqr)\n",
    "#     ul = median + (1.5*iqr)\n",
    "#     final.loc[final[\"boxOffice\"] > ul, \"boxOffice\"] = median\n",
    "    \n",
    "    # Clean language names\n",
    "    final[\"originalLanguage\"].replace({\"English (United Kingdom)\": \"English\", \n",
    "                                            \"English (Australia)\" : \"English\",\n",
    "                                            \"French (France)\": \"French\", \n",
    "                                            \"French (Canada)\": \"French\",\n",
    "                                            \"Portuguese (Brazil)\": \"Portuguese\",\n",
    "                                            \"Spanish (Spain)\": \"Spanish\"},                                         \n",
    "                                            inplace=True)\n",
    "    \n",
    "    # Clean reviewerName column\n",
    "    pre_post_fixes = {\"Mr. \": \"\", \"Mrs. \": \"\", \"Ms. \": \"\", \"Dr. \": \"\", \n",
    "                      \" MD\": \"\", \" DDS\": \"\", \" DVM\": \"\", \" Jr.\": \"\", \" PhD\": \"\", \" II\": \"\", \" IV\": \"\"}\n",
    "    final[\"reviewerName\"] = final[\"reviewerName\"].replace(pre_post_fixes, regex=True)\n",
    "    final[\"reviewerName\"] = final[\"reviewerName\"].apply(name_fl)\n",
    "    \n",
    "    # Handle 'ratingContents' column\n",
    "    final[\"ratingContents\"] = final[\"ratingContents\"].fillna(\"neutral\")\n",
    "    final[\"rcSorted\"] = final[\"ratingContents\"].apply(lambda x: (\",\").join(sorted(x.strip(\"][\").split(\", \"))))\n",
    "    final[\"rcSorted\"] = final[\"rcSorted\"].apply(lambda x: re.sub(r\"'\", \"\", x))\n",
    "    final[\"rcSorted\"] = final[\"rcSorted\"].apply(lambda x: re.sub(r\"[/\\s]\", \"_\", x))  \n",
    "    \n",
    "    # Handle 'ratingContents' column\n",
    "    final[\"distributor\"] = final[\"distributor\"].fillna(\"unknown\")\n",
    "    \n",
    "    # Work with 'releaseDateTheaters', releaseDateStreaming column\n",
    "    final[[\"releaseDateTheaters\", \"releaseDateStreaming\"]] = final[[\"releaseDateTheaters\", \"releaseDateStreaming\"]].astype('datetime64[ns]')\n",
    "\n",
    "    final[\"releaseDate\"] = final[[\"releaseDateTheaters\", \"releaseDateStreaming\"]].min(axis=1, skipna=False)\n",
    "#     final[\"releaseDate\"] = final[\"releaseDate\"].fillna(final[\"releaseDate\"].median())               # MOVED\n",
    "\n",
    "    final[\"releaseYear\"] = final[\"releaseDate\"].dt.year\n",
    "    final[\"releaseMonth\"] = final[\"releaseDate\"].dt.month\n",
    "    \n",
    "    # Compute \"releaseDiff\" column and fill missing values in \"releaseDiff\" and (optional) replace outliers\n",
    "    final[\"releaseDiff\"] = (final[\"releaseDateStreaming\"] - final[\"releaseDateTheaters\"]) / np.timedelta64(1, 'D')\n",
    "    final[\"releaseDiff\"] = final[\"releaseDiff\"].apply(lambda x: abs(x))\n",
    "    final[\"releaseDiff\"] = final[\"releaseDiff\"].fillna(value=0)\n",
    "#     final[\"releaseDiff\"] = final[\"releaseDiff\"].fillna(final[\"releaseDiff\"].median())\n",
    "    # median = final[\"releaseDiff\"].describe()['50%']\n",
    "    # iqr = final[\"releaseDiff\"].describe()['75%'] - final[\"releaseDiff\"].describe()['25%']\n",
    "    # ll = median - (1.5*iqr)\n",
    "    # ul = median + (1.5*iqr)\n",
    "    # final.loc[final[\"releaseDiff\"] > ul, \"releaseDiff\"] = median\n",
    "    # final.loc[final[\"releaseDiff\"] < ll, \"releaseDiff\"] = median\n",
    "    \n",
    "    # Create new feature columns\n",
    "    \n",
    "    # Convert audienceScore to categories  \n",
    "    num_bins_as = 20\n",
    "    final[\"audScoreBins\"] = pd.cut(final['audienceScore'], bins=num_bins_as, labels=False)\n",
    "    \n",
    "    # Convert runtimeMinutes to categories  \n",
    "#     num_bins_rt = 20\n",
    "    final[\"runtimeBins\"] = pd.cut(final['runtimeMinutes'], bins=[0,75,120,180,565], labels=[4,3,2,1])\n",
    "    \n",
    "    # Convert boxOffice to categories  \n",
    "    num_bins_bo = 5\n",
    "    final[\"boxOfficeBins\"] = pd.cut(final['boxOffice'], bins=num_bins_bo, labels=False)\n",
    "    \n",
    "    # Convert releaseDiff to categories  \n",
    "    num_bins_rd = 5\n",
    "    final[\"releaseDiffBins\"] = pd.cut(final['releaseDiff'], bins=[-1, 180, 360, 1000, 40000], labels=[0, 1, 2, 3])\n",
    "\n",
    "    return final"
   ]
  },
  {
   "cell_type": "code",
   "execution_count": 31,
   "id": "1c28b7d7",
   "metadata": {
    "execution": {
     "iopub.execute_input": "2023-08-10T20:01:13.507922Z",
     "iopub.status.busy": "2023-08-10T20:01:13.507475Z",
     "iopub.status.idle": "2023-08-10T20:01:13.514417Z",
     "shell.execute_reply": "2023-08-10T20:01:13.513508Z"
    },
    "papermill": {
     "duration": 0.106254,
     "end_time": "2023-08-10T20:01:13.516660",
     "exception": false,
     "start_time": "2023-08-10T20:01:13.410406",
     "status": "completed"
    },
    "tags": []
   },
   "outputs": [],
   "source": [
    "def split_train_predict(features, labels, pipeline, test_size=0.25, random_state=42):\n",
    "    # cols = features.columns\n",
    "    if len(features.shape) == 1:\n",
    "        features = features.to_numpy().reshape(-1, 1)  # reshape to 2D array\n",
    "    features = pd.DataFrame(features)\n",
    "    X_train, X_test, y_train, y_test = train_test_split(features, labels, test_size=test_size, random_state=random_state)\n",
    "    pipeline.fit(X_train, y_train)\n",
    "    y_pred = pipeline.predict(X_test)\n",
    "    print(classification_report(y_test, y_pred))\n",
    "    print(confusion_matrix(y_test, y_pred))\n",
    "    return pipeline"
   ]
  },
  {
   "cell_type": "markdown",
   "id": "33a728df",
   "metadata": {
    "papermill": {
     "duration": 0.09326,
     "end_time": "2023-08-10T20:01:13.704796",
     "exception": false,
     "start_time": "2023-08-10T20:01:13.611536",
     "status": "completed"
    },
    "tags": []
   },
   "source": [
    "### Merge \"train.csv\" file with \"movies.csv\" file  "
   ]
  },
  {
   "cell_type": "code",
   "execution_count": 32,
   "id": "278e83d4",
   "metadata": {
    "execution": {
     "iopub.execute_input": "2023-08-10T20:01:13.893413Z",
     "iopub.status.busy": "2023-08-10T20:01:13.892296Z",
     "iopub.status.idle": "2023-08-10T20:01:28.416705Z",
     "shell.execute_reply": "2023-08-10T20:01:28.415263Z"
    },
    "papermill": {
     "duration": 14.621649,
     "end_time": "2023-08-10T20:01:28.419656",
     "exception": false,
     "start_time": "2023-08-10T20:01:13.798007",
     "status": "completed"
    },
    "tags": []
   },
   "outputs": [],
   "source": [
    "merged = select_features(load_csv(\"train\"), load_csv(\"movies\"), row_thresh_null=None)"
   ]
  },
  {
   "cell_type": "code",
   "execution_count": 33,
   "id": "d06448d2",
   "metadata": {
    "execution": {
     "iopub.execute_input": "2023-08-10T20:01:28.607970Z",
     "iopub.status.busy": "2023-08-10T20:01:28.607500Z",
     "iopub.status.idle": "2023-08-10T20:01:28.612886Z",
     "shell.execute_reply": "2023-08-10T20:01:28.611590Z"
    },
    "papermill": {
     "duration": 0.103001,
     "end_time": "2023-08-10T20:01:28.615259",
     "exception": false,
     "start_time": "2023-08-10T20:01:28.512258",
     "status": "completed"
    },
    "tags": []
   },
   "outputs": [],
   "source": [
    "# inspect(merged)    # Note missing values in ['audienceScore', 'runtimeMinutes', 'boxOffice'] columns  "
   ]
  },
  {
   "cell_type": "code",
   "execution_count": 34,
   "id": "e1dd5b90",
   "metadata": {
    "execution": {
     "iopub.execute_input": "2023-08-10T20:01:28.805319Z",
     "iopub.status.busy": "2023-08-10T20:01:28.804920Z",
     "iopub.status.idle": "2023-08-10T20:01:28.902252Z",
     "shell.execute_reply": "2023-08-10T20:01:28.900787Z"
    },
    "papermill": {
     "duration": 0.196375,
     "end_time": "2023-08-10T20:01:28.905006",
     "exception": false,
     "start_time": "2023-08-10T20:01:28.708631",
     "status": "completed"
    },
    "tags": []
   },
   "outputs": [
    {
     "data": {
      "text/plain": [
       "array([6.80e+01, 1.04e+02, 1.43e+07])"
      ]
     },
     "execution_count": 34,
     "metadata": {},
     "output_type": "execute_result"
    }
   ],
   "source": [
    "# Simple Imputer for ['audienceScore', 'runtimeMinutes', 'boxOffice'] columns\n",
    "si = SimpleImputer(strategy='median')\n",
    "merged[['audienceScore', 'runtimeMinutes', 'boxOffice']] = si.fit_transform(merged[['audienceScore', 'runtimeMinutes', 'boxOffice']])\n",
    "si.statistics_"
   ]
  },
  {
   "cell_type": "code",
   "execution_count": 35,
   "id": "f2b4dccd",
   "metadata": {
    "execution": {
     "iopub.execute_input": "2023-08-10T20:01:29.096761Z",
     "iopub.status.busy": "2023-08-10T20:01:29.095917Z",
     "iopub.status.idle": "2023-08-10T20:01:29.111469Z",
     "shell.execute_reply": "2023-08-10T20:01:29.109958Z"
    },
    "papermill": {
     "duration": 0.115552,
     "end_time": "2023-08-10T20:01:29.114438",
     "exception": false,
     "start_time": "2023-08-10T20:01:28.998886",
     "status": "completed"
    },
    "tags": []
   },
   "outputs": [],
   "source": [
    "# Fill 'releaseDate' column with median  \n",
    "merged['releaseDate'] = merged[\"releaseDate\"].fillna(merged[\"releaseDate\"].median())"
   ]
  },
  {
   "cell_type": "code",
   "execution_count": 36,
   "id": "39794961",
   "metadata": {
    "execution": {
     "iopub.execute_input": "2023-08-10T20:01:29.309042Z",
     "iopub.status.busy": "2023-08-10T20:01:29.307587Z",
     "iopub.status.idle": "2023-08-10T20:01:30.830586Z",
     "shell.execute_reply": "2023-08-10T20:01:30.829215Z"
    },
    "papermill": {
     "duration": 1.62352,
     "end_time": "2023-08-10T20:01:30.833214",
     "exception": false,
     "start_time": "2023-08-10T20:01:29.209694",
     "status": "completed"
    },
    "tags": []
   },
   "outputs": [
    {
     "name": "stdout",
     "output_type": "stream",
     "text": [
      "Shape of the dataframe: (162758, 30)\n",
      "\n",
      "Columns in the dataframe:\n",
      "Index(['movieid', 'reviewerName', 'isFrequentReviewer', 'reviewText',\n",
      "       'sentiment', 'title', 'audienceScore', 'rating', 'ratingContents',\n",
      "       'releaseDateTheaters', 'releaseDateStreaming', 'runtimeMinutes',\n",
      "       'genre', 'originalLanguage', 'director', 'boxOffice', 'distributor',\n",
      "       'soundType', 'reviewYN', 'reviewWC', 'genreSorted', 'rcSorted',\n",
      "       'releaseDate', 'releaseYear', 'releaseMonth', 'releaseDiff',\n",
      "       'audScoreBins', 'runtimeBins', 'boxOfficeBins', 'releaseDiffBins'],\n",
      "      dtype='object')\n",
      "\n",
      "<class 'pandas.core.frame.DataFrame'>\n",
      "Int64Index: 162758 entries, 0 to 162757\n",
      "Data columns (total 30 columns):\n",
      " #   Column                Non-Null Count   Dtype         \n",
      "---  ------                --------------   -----         \n",
      " 0   movieid               162758 non-null  object        \n",
      " 1   reviewerName          162758 non-null  object        \n",
      " 2   isFrequentReviewer    162758 non-null  bool          \n",
      " 3   reviewText            162758 non-null  object        \n",
      " 4   sentiment             162758 non-null  object        \n",
      " 5   title                 162758 non-null  object        \n",
      " 6   audienceScore         162758 non-null  float64       \n",
      " 7   rating                162758 non-null  object        \n",
      " 8   ratingContents        162758 non-null  object        \n",
      " 9   releaseDateTheaters   146403 non-null  datetime64[ns]\n",
      " 10  releaseDateStreaming  157353 non-null  datetime64[ns]\n",
      " 11  runtimeMinutes        162758 non-null  float64       \n",
      " 12  genre                 162758 non-null  object        \n",
      " 13  originalLanguage      162758 non-null  object        \n",
      " 14  director              162758 non-null  object        \n",
      " 15  boxOffice             162758 non-null  float64       \n",
      " 16  distributor           162758 non-null  object        \n",
      " 17  soundType             93466 non-null   object        \n",
      " 18  reviewYN              162758 non-null  int64         \n",
      " 19  reviewWC              162758 non-null  int64         \n",
      " 20  genreSorted           162758 non-null  object        \n",
      " 21  rcSorted              162758 non-null  object        \n",
      " 22  releaseDate           162758 non-null  datetime64[ns]\n",
      " 23  releaseYear           143073 non-null  float64       \n",
      " 24  releaseMonth          143073 non-null  float64       \n",
      " 25  releaseDiff           162758 non-null  float64       \n",
      " 26  audScoreBins          159922 non-null  float64       \n",
      " 27  runtimeBins           162016 non-null  category      \n",
      " 28  boxOfficeBins         130581 non-null  float64       \n",
      " 29  releaseDiffBins       162758 non-null  category      \n",
      "dtypes: bool(1), category(2), datetime64[ns](3), float64(8), int64(2), object(14)\n",
      "memory usage: 35.2+ MB\n",
      "None\n",
      "\n",
      "Missing values:\n",
      "movieid                     0\n",
      "reviewerName                0\n",
      "isFrequentReviewer          0\n",
      "reviewText                  0\n",
      "sentiment                   0\n",
      "title                       0\n",
      "audienceScore               0\n",
      "rating                      0\n",
      "ratingContents              0\n",
      "releaseDateTheaters     16355\n",
      "releaseDateStreaming     5405\n",
      "runtimeMinutes              0\n",
      "genre                       0\n",
      "originalLanguage            0\n",
      "director                    0\n",
      "boxOffice                   0\n",
      "distributor                 0\n",
      "soundType               69292\n",
      "reviewYN                    0\n",
      "reviewWC                    0\n",
      "genreSorted                 0\n",
      "rcSorted                    0\n",
      "releaseDate                 0\n",
      "releaseYear             19685\n",
      "releaseMonth            19685\n",
      "releaseDiff                 0\n",
      "audScoreBins             2836\n",
      "runtimeBins               742\n",
      "boxOfficeBins           32177\n",
      "releaseDiffBins             0\n",
      "dtype: int64\n"
     ]
    }
   ],
   "source": [
    "# Check out 'merged' df after imputation  \n",
    "inspect(merged)"
   ]
  },
  {
   "cell_type": "code",
   "execution_count": 37,
   "id": "7e791d22",
   "metadata": {
    "execution": {
     "iopub.execute_input": "2023-08-10T20:01:31.027344Z",
     "iopub.status.busy": "2023-08-10T20:01:31.026556Z",
     "iopub.status.idle": "2023-08-10T20:01:31.086638Z",
     "shell.execute_reply": "2023-08-10T20:01:31.085665Z"
    },
    "papermill": {
     "duration": 0.160958,
     "end_time": "2023-08-10T20:01:31.089005",
     "exception": false,
     "start_time": "2023-08-10T20:01:30.928047",
     "status": "completed"
    },
    "tags": []
   },
   "outputs": [
    {
     "data": {
      "text/html": [
       "<div>\n",
       "<style scoped>\n",
       "    .dataframe tbody tr th:only-of-type {\n",
       "        vertical-align: middle;\n",
       "    }\n",
       "\n",
       "    .dataframe tbody tr th {\n",
       "        vertical-align: top;\n",
       "    }\n",
       "\n",
       "    .dataframe thead th {\n",
       "        text-align: right;\n",
       "    }\n",
       "</style>\n",
       "<table border=\"1\" class=\"dataframe\">\n",
       "  <thead>\n",
       "    <tr style=\"text-align: right;\">\n",
       "      <th></th>\n",
       "      <th>audienceScore</th>\n",
       "      <th>runtimeMinutes</th>\n",
       "      <th>boxOffice</th>\n",
       "    </tr>\n",
       "  </thead>\n",
       "  <tbody>\n",
       "    <tr>\n",
       "      <th>count</th>\n",
       "      <td>162758.000000</td>\n",
       "      <td>162758.000000</td>\n",
       "      <td>1.627580e+05</td>\n",
       "    </tr>\n",
       "    <tr>\n",
       "      <th>mean</th>\n",
       "      <td>65.062565</td>\n",
       "      <td>106.992019</td>\n",
       "      <td>4.160983e+07</td>\n",
       "    </tr>\n",
       "    <tr>\n",
       "      <th>std</th>\n",
       "      <td>19.844000</td>\n",
       "      <td>22.203778</td>\n",
       "      <td>7.932291e+07</td>\n",
       "    </tr>\n",
       "    <tr>\n",
       "      <th>min</th>\n",
       "      <td>0.000000</td>\n",
       "      <td>4.000000</td>\n",
       "      <td>0.000000e+00</td>\n",
       "    </tr>\n",
       "    <tr>\n",
       "      <th>25%</th>\n",
       "      <td>51.000000</td>\n",
       "      <td>93.000000</td>\n",
       "      <td>2.000000e+06</td>\n",
       "    </tr>\n",
       "    <tr>\n",
       "      <th>50%</th>\n",
       "      <td>68.000000</td>\n",
       "      <td>104.000000</td>\n",
       "      <td>1.430000e+07</td>\n",
       "    </tr>\n",
       "    <tr>\n",
       "      <th>75%</th>\n",
       "      <td>81.000000</td>\n",
       "      <td>118.000000</td>\n",
       "      <td>4.200000e+07</td>\n",
       "    </tr>\n",
       "    <tr>\n",
       "      <th>max</th>\n",
       "      <td>100.000000</td>\n",
       "      <td>561.000000</td>\n",
       "      <td>8.584000e+08</td>\n",
       "    </tr>\n",
       "  </tbody>\n",
       "</table>\n",
       "</div>"
      ],
      "text/plain": [
       "       audienceScore  runtimeMinutes     boxOffice\n",
       "count  162758.000000   162758.000000  1.627580e+05\n",
       "mean       65.062565      106.992019  4.160983e+07\n",
       "std        19.844000       22.203778  7.932291e+07\n",
       "min         0.000000        4.000000  0.000000e+00\n",
       "25%        51.000000       93.000000  2.000000e+06\n",
       "50%        68.000000      104.000000  1.430000e+07\n",
       "75%        81.000000      118.000000  4.200000e+07\n",
       "max       100.000000      561.000000  8.584000e+08"
      ]
     },
     "execution_count": 37,
     "metadata": {},
     "output_type": "execute_result"
    }
   ],
   "source": [
    "merged[['audienceScore', 'runtimeMinutes', 'boxOffice']].describe()"
   ]
  },
  {
   "cell_type": "markdown",
   "id": "fb9a9dd9",
   "metadata": {
    "papermill": {
     "duration": 0.095293,
     "end_time": "2023-08-10T20:01:31.280851",
     "exception": false,
     "start_time": "2023-08-10T20:01:31.185558",
     "status": "completed"
    },
    "tags": []
   },
   "source": [
    "### EDA releaseDiff  "
   ]
  },
  {
   "cell_type": "code",
   "execution_count": 38,
   "id": "6f03e888",
   "metadata": {
    "execution": {
     "iopub.execute_input": "2023-08-10T20:01:31.472912Z",
     "iopub.status.busy": "2023-08-10T20:01:31.472194Z",
     "iopub.status.idle": "2023-08-10T20:01:31.490036Z",
     "shell.execute_reply": "2023-08-10T20:01:31.488350Z"
    },
    "papermill": {
     "duration": 0.116891,
     "end_time": "2023-08-10T20:01:31.492902",
     "exception": false,
     "start_time": "2023-08-10T20:01:31.376011",
     "status": "completed"
    },
    "tags": []
   },
   "outputs": [
    {
     "data": {
      "text/plain": [
       "count    162758.000000\n",
       "mean       1653.469015\n",
       "std        4581.420922\n",
       "min           0.000000\n",
       "25%          65.000000\n",
       "50%         116.000000\n",
       "75%         375.000000\n",
       "max       38922.000000\n",
       "Name: releaseDiff, dtype: float64"
      ]
     },
     "execution_count": 38,
     "metadata": {},
     "output_type": "execute_result"
    }
   ],
   "source": [
    "# abs values\n",
    "merged[\"releaseDiff\"].describe()"
   ]
  },
  {
   "cell_type": "code",
   "execution_count": 39,
   "id": "f5c9fe53",
   "metadata": {
    "execution": {
     "iopub.execute_input": "2023-08-10T20:01:31.683736Z",
     "iopub.status.busy": "2023-08-10T20:01:31.682934Z",
     "iopub.status.idle": "2023-08-10T20:01:31.693403Z",
     "shell.execute_reply": "2023-08-10T20:01:31.692050Z"
    },
    "papermill": {
     "duration": 0.108627,
     "end_time": "2023-08-10T20:01:31.696194",
     "exception": false,
     "start_time": "2023-08-10T20:01:31.587567",
     "status": "completed"
    },
    "tags": []
   },
   "outputs": [
    {
     "data": {
      "text/plain": [
       "0    111750\n",
       "3     32557\n",
       "1      9920\n",
       "2      8531\n",
       "Name: releaseDiffBins, dtype: int64"
      ]
     },
     "execution_count": 39,
     "metadata": {},
     "output_type": "execute_result"
    }
   ],
   "source": [
    "merged['releaseDiffBins'].value_counts()"
   ]
  },
  {
   "cell_type": "code",
   "execution_count": 40,
   "id": "ce679fb0",
   "metadata": {
    "execution": {
     "iopub.execute_input": "2023-08-10T20:01:31.889354Z",
     "iopub.status.busy": "2023-08-10T20:01:31.888519Z",
     "iopub.status.idle": "2023-08-10T20:01:32.271748Z",
     "shell.execute_reply": "2023-08-10T20:01:32.270418Z"
    },
    "papermill": {
     "duration": 0.483266,
     "end_time": "2023-08-10T20:01:32.274489",
     "exception": false,
     "start_time": "2023-08-10T20:01:31.791223",
     "status": "completed"
    },
    "tags": []
   },
   "outputs": [
    {
     "data": {
      "text/plain": [
       "<Axes: xlabel='sentiment', ylabel='releaseDiff'>"
      ]
     },
     "execution_count": 40,
     "metadata": {},
     "output_type": "execute_result"
    },
    {
     "data": {
      "image/png": "[encoded data removed]",
      "text/plain": [
       "<Figure size 640x480 with 1 Axes>"
      ]
     },
     "metadata": {},
     "output_type": "display_data"
    }
   ],
   "source": [
    "sns.boxplot(x=merged['sentiment'], y=merged['releaseDiff'], showfliers=False)"
   ]
  },
  {
   "cell_type": "code",
   "execution_count": 41,
   "id": "d8fb0724",
   "metadata": {
    "execution": {
     "iopub.execute_input": "2023-08-10T20:01:32.465492Z",
     "iopub.status.busy": "2023-08-10T20:01:32.465086Z",
     "iopub.status.idle": "2023-08-10T20:01:33.186158Z",
     "shell.execute_reply": "2023-08-10T20:01:33.184734Z"
    },
    "papermill": {
     "duration": 0.819008,
     "end_time": "2023-08-10T20:01:33.188675",
     "exception": false,
     "start_time": "2023-08-10T20:01:32.369667",
     "status": "completed"
    },
    "tags": []
   },
   "outputs": [
    {
     "data": {
      "text/plain": [
       "<seaborn.axisgrid.FacetGrid at 0x7bc5aa683910>"
      ]
     },
     "execution_count": 41,
     "metadata": {},
     "output_type": "execute_result"
    },
    {
     "data": {
      "image/png": "[encoded data removed]",
      "text/plain": [
       "<Figure size 500x500 with 1 Axes>"
      ]
     },
     "metadata": {},
     "output_type": "display_data"
    }
   ],
   "source": [
    "sns.displot(merged['releaseDiffBins'])"
   ]
  },
  {
   "cell_type": "code",
   "execution_count": 42,
   "id": "f7f7b5e9",
   "metadata": {
    "execution": {
     "iopub.execute_input": "2023-08-10T20:01:33.383693Z",
     "iopub.status.busy": "2023-08-10T20:01:33.383035Z",
     "iopub.status.idle": "2023-08-10T20:01:33.402296Z",
     "shell.execute_reply": "2023-08-10T20:01:33.400974Z"
    },
    "papermill": {
     "duration": 0.120169,
     "end_time": "2023-08-10T20:01:33.404797",
     "exception": false,
     "start_time": "2023-08-10T20:01:33.284628",
     "status": "completed"
    },
    "tags": []
   },
   "outputs": [
    {
     "data": {
      "text/plain": [
       "POSITIVE    34446\n",
       "NEGATIVE    16562\n",
       "Name: sentiment, dtype: int64"
      ]
     },
     "execution_count": 42,
     "metadata": {},
     "output_type": "execute_result"
    }
   ],
   "source": [
    "merged['sentiment'].loc[merged['releaseDiffBins'] > 0].value_counts()"
   ]
  },
  {
   "cell_type": "code",
   "execution_count": 43,
   "id": "083cac56",
   "metadata": {
    "execution": {
     "iopub.execute_input": "2023-08-10T20:01:33.596706Z",
     "iopub.status.busy": "2023-08-10T20:01:33.596261Z",
     "iopub.status.idle": "2023-08-10T20:01:33.609644Z",
     "shell.execute_reply": "2023-08-10T20:01:33.608687Z"
    },
    "papermill": {
     "duration": 0.112488,
     "end_time": "2023-08-10T20:01:33.612061",
     "exception": false,
     "start_time": "2023-08-10T20:01:33.499573",
     "status": "completed"
    },
    "tags": []
   },
   "outputs": [
    {
     "data": {
      "text/plain": [
       "count     162758\n",
       "unique         4\n",
       "top            0\n",
       "freq      111750\n",
       "Name: releaseDiffBins, dtype: int64"
      ]
     },
     "execution_count": 43,
     "metadata": {},
     "output_type": "execute_result"
    }
   ],
   "source": [
    "merged['releaseDiffBins'].describe()"
   ]
  },
  {
   "cell_type": "markdown",
   "id": "a2dbeffd",
   "metadata": {
    "papermill": {
     "duration": 0.095786,
     "end_time": "2023-08-10T20:01:33.803068",
     "exception": false,
     "start_time": "2023-08-10T20:01:33.707282",
     "status": "completed"
    },
    "tags": []
   },
   "source": [
    "### EDA 'distributor'  "
   ]
  },
  {
   "cell_type": "code",
   "execution_count": 44,
   "id": "99643c20",
   "metadata": {
    "execution": {
     "iopub.execute_input": "2023-08-10T20:01:34.064659Z",
     "iopub.status.busy": "2023-08-10T20:01:34.063551Z",
     "iopub.status.idle": "2023-08-10T20:01:34.099712Z",
     "shell.execute_reply": "2023-08-10T20:01:34.098576Z"
    },
    "papermill": {
     "duration": 0.137645,
     "end_time": "2023-08-10T20:01:34.102374",
     "exception": false,
     "start_time": "2023-08-10T20:01:33.964729",
     "status": "completed"
    },
    "tags": []
   },
   "outputs": [
    {
     "data": {
      "text/plain": [
       "unknown                              20489\n",
       "Universal Pictures                    8847\n",
       "Warner Bros. Pictures                 8722\n",
       "Paramount Pictures                    7773\n",
       "20th Century Fox                      7007\n",
       "                                     ...  \n",
       "Almi Pictures                            1\n",
       "Koch Lorber                              1\n",
       "Magic Lamp                               1\n",
       "Fine Line Features, Miramax Films        1\n",
       "American Film Co.                        1\n",
       "Name: distributor, Length: 1796, dtype: int64"
      ]
     },
     "execution_count": 44,
     "metadata": {},
     "output_type": "execute_result"
    }
   ],
   "source": [
    "merged[\"distributor\"].value_counts()"
   ]
  },
  {
   "cell_type": "code",
   "execution_count": 45,
   "id": "2dc5308b",
   "metadata": {
    "execution": {
     "iopub.execute_input": "2023-08-10T20:01:34.298183Z",
     "iopub.status.busy": "2023-08-10T20:01:34.297761Z",
     "iopub.status.idle": "2023-08-10T20:01:34.316027Z",
     "shell.execute_reply": "2023-08-10T20:01:34.315000Z"
    },
    "papermill": {
     "duration": 0.119393,
     "end_time": "2023-08-10T20:01:34.318641",
     "exception": false,
     "start_time": "2023-08-10T20:01:34.199248",
     "status": "completed"
    },
    "tags": []
   },
   "outputs": [
    {
     "data": {
      "text/plain": [
       "count    162758.000000\n",
       "mean        106.992019\n",
       "std          22.203778\n",
       "min           4.000000\n",
       "25%          93.000000\n",
       "50%         104.000000\n",
       "75%         118.000000\n",
       "max         561.000000\n",
       "Name: runtimeMinutes, dtype: float64"
      ]
     },
     "execution_count": 45,
     "metadata": {},
     "output_type": "execute_result"
    }
   ],
   "source": [
    "merged[\"runtimeMinutes\"].describe()"
   ]
  },
  {
   "cell_type": "code",
   "execution_count": 46,
   "id": "b13a5feb",
   "metadata": {
    "execution": {
     "iopub.execute_input": "2023-08-10T20:01:34.519437Z",
     "iopub.status.busy": "2023-08-10T20:01:34.519004Z",
     "iopub.status.idle": "2023-08-10T20:01:34.932149Z",
     "shell.execute_reply": "2023-08-10T20:01:34.930694Z"
    },
    "papermill": {
     "duration": 0.51586,
     "end_time": "2023-08-10T20:01:34.934753",
     "exception": false,
     "start_time": "2023-08-10T20:01:34.418893",
     "status": "completed"
    },
    "tags": []
   },
   "outputs": [
    {
     "data": {
      "text/plain": [
       "<Axes: xlabel='sentiment', ylabel='runtimeMinutes'>"
      ]
     },
     "execution_count": 46,
     "metadata": {},
     "output_type": "execute_result"
    },
    {
     "data": {
      "image/png": "[encoded data removed]",
      "text/plain": [
       "<Figure size 640x480 with 1 Axes>"
      ]
     },
     "metadata": {},
     "output_type": "display_data"
    }
   ],
   "source": [
    "sns.boxplot(y=merged[\"runtimeMinutes\"], x=merged[\"sentiment\"])"
   ]
  },
  {
   "cell_type": "code",
   "execution_count": 47,
   "id": "32cb484b",
   "metadata": {
    "execution": {
     "iopub.execute_input": "2023-08-10T20:01:35.131404Z",
     "iopub.status.busy": "2023-08-10T20:01:35.130956Z",
     "iopub.status.idle": "2023-08-10T20:01:35.843199Z",
     "shell.execute_reply": "2023-08-10T20:01:35.841887Z"
    },
    "papermill": {
     "duration": 0.813752,
     "end_time": "2023-08-10T20:01:35.846189",
     "exception": false,
     "start_time": "2023-08-10T20:01:35.032437",
     "status": "completed"
    },
    "tags": []
   },
   "outputs": [
    {
     "name": "stdout",
     "output_type": "stream",
     "text": [
      "0.0    121579\n",
      "1.0      6474\n",
      "2.0      1819\n",
      "3.0       433\n",
      "4.0       276\n",
      "Name: boxOfficeBins, dtype: int64\n"
     ]
    },
    {
     "data": {
      "text/plain": [
       "<seaborn.axisgrid.FacetGrid at 0x7bc5ab41ed40>"
      ]
     },
     "execution_count": 47,
     "metadata": {},
     "output_type": "execute_result"
    },
    {
     "data": {
      "image/png": "[encoded data removed]",
      "text/plain": [
       "<Figure size 500x500 with 1 Axes>"
      ]
     },
     "metadata": {},
     "output_type": "display_data"
    }
   ],
   "source": [
    "print(merged[\"boxOfficeBins\"].value_counts())\n",
    "sns.displot(merged[\"boxOfficeBins\"])"
   ]
  },
  {
   "cell_type": "code",
   "execution_count": 48,
   "id": "9c4c017e",
   "metadata": {
    "execution": {
     "iopub.execute_input": "2023-08-10T20:01:36.045606Z",
     "iopub.status.busy": "2023-08-10T20:01:36.045214Z",
     "iopub.status.idle": "2023-08-10T20:01:36.054257Z",
     "shell.execute_reply": "2023-08-10T20:01:36.053108Z"
    },
    "papermill": {
     "duration": 0.113239,
     "end_time": "2023-08-10T20:01:36.057088",
     "exception": false,
     "start_time": "2023-08-10T20:01:35.943849",
     "status": "completed"
    },
    "tags": []
   },
   "outputs": [
    {
     "data": {
      "text/plain": [
       "0    Henry Selick’s first movie since ’s Coraline. ...\n",
       "1    With a cast that reads like the Vogue Oscar pa...\n",
       "2    Creed II does not give us anything but another...\n",
       "3    I know what you're thinking, but this is no Li...\n",
       "4    Director Fernando Meirelles tells the story wi...\n",
       "Name: reviewText, dtype: object"
      ]
     },
     "execution_count": 48,
     "metadata": {},
     "output_type": "execute_result"
    }
   ],
   "source": [
    "merged[\"reviewText\"].head()"
   ]
  },
  {
   "cell_type": "code",
   "execution_count": 49,
   "id": "343b9fb6",
   "metadata": {
    "execution": {
     "iopub.execute_input": "2023-08-10T20:01:36.254499Z",
     "iopub.status.busy": "2023-08-10T20:01:36.254075Z",
     "iopub.status.idle": "2023-08-10T20:01:36.262456Z",
     "shell.execute_reply": "2023-08-10T20:01:36.261362Z"
    },
    "papermill": {
     "duration": 0.109927,
     "end_time": "2023-08-10T20:01:36.264827",
     "exception": false,
     "start_time": "2023-08-10T20:01:36.154900",
     "status": "completed"
    },
    "tags": []
   },
   "outputs": [
    {
     "data": {
      "text/plain": [
       "6447"
      ]
     },
     "execution_count": 49,
     "metadata": {},
     "output_type": "execute_result"
    }
   ],
   "source": [
    "merged[\"reviewYN\"].sum()"
   ]
  },
  {
   "cell_type": "code",
   "execution_count": 50,
   "id": "0ffea8cf",
   "metadata": {
    "execution": {
     "iopub.execute_input": "2023-08-10T20:01:36.464239Z",
     "iopub.status.busy": "2023-08-10T20:01:36.463845Z",
     "iopub.status.idle": "2023-08-10T20:01:36.472289Z",
     "shell.execute_reply": "2023-08-10T20:01:36.471043Z"
    },
    "papermill": {
     "duration": 0.111723,
     "end_time": "2023-08-10T20:01:36.474736",
     "exception": false,
     "start_time": "2023-08-10T20:01:36.363013",
     "status": "completed"
    },
    "tags": []
   },
   "outputs": [
    {
     "data": {
      "text/plain": [
       "0    11\n",
       "1    24\n",
       "2    22\n",
       "3    34\n",
       "4    20\n",
       "Name: reviewWC, dtype: int64"
      ]
     },
     "execution_count": 50,
     "metadata": {},
     "output_type": "execute_result"
    }
   ],
   "source": [
    "merged[\"reviewWC\"].head()"
   ]
  },
  {
   "cell_type": "code",
   "execution_count": 51,
   "id": "428aa11d",
   "metadata": {
    "execution": {
     "iopub.execute_input": "2023-08-10T20:01:36.672464Z",
     "iopub.status.busy": "2023-08-10T20:01:36.672059Z",
     "iopub.status.idle": "2023-08-10T20:01:36.688754Z",
     "shell.execute_reply": "2023-08-10T20:01:36.687920Z"
    },
    "papermill": {
     "duration": 0.118458,
     "end_time": "2023-08-10T20:01:36.691005",
     "exception": false,
     "start_time": "2023-08-10T20:01:36.572547",
     "status": "completed"
    },
    "tags": []
   },
   "outputs": [
    {
     "data": {
      "text/plain": [
       "count    162758.000000\n",
       "mean         21.013707\n",
       "std          10.216532\n",
       "min           1.000000\n",
       "25%          14.000000\n",
       "50%          21.000000\n",
       "75%          28.000000\n",
       "max          54.000000\n",
       "Name: reviewWC, dtype: float64"
      ]
     },
     "execution_count": 51,
     "metadata": {},
     "output_type": "execute_result"
    }
   ],
   "source": [
    "merged[\"reviewWC\"].describe()"
   ]
  },
  {
   "cell_type": "code",
   "execution_count": 52,
   "id": "e4440009",
   "metadata": {
    "execution": {
     "iopub.execute_input": "2023-08-10T20:01:36.893034Z",
     "iopub.status.busy": "2023-08-10T20:01:36.892629Z",
     "iopub.status.idle": "2023-08-10T20:01:37.766180Z",
     "shell.execute_reply": "2023-08-10T20:01:37.764973Z"
    },
    "papermill": {
     "duration": 0.97871,
     "end_time": "2023-08-10T20:01:37.768878",
     "exception": false,
     "start_time": "2023-08-10T20:01:36.790168",
     "status": "completed"
    },
    "tags": []
   },
   "outputs": [
    {
     "data": {
      "text/plain": [
       "<Axes: xlabel='reviewWC', ylabel='Count'>"
      ]
     },
     "execution_count": 52,
     "metadata": {},
     "output_type": "execute_result"
    },
    {
     "data": {
      "image/png": "[encoded data removed]",
      "text/plain": [
       "<Figure size 640x480 with 1 Axes>"
      ]
     },
     "metadata": {},
     "output_type": "display_data"
    }
   ],
   "source": [
    "sns.histplot(merged[\"reviewWC\"])"
   ]
  },
  {
   "cell_type": "code",
   "execution_count": 53,
   "id": "047d4f71",
   "metadata": {
    "execution": {
     "iopub.execute_input": "2023-08-10T20:01:37.975246Z",
     "iopub.status.busy": "2023-08-10T20:01:37.974850Z",
     "iopub.status.idle": "2023-08-10T20:01:38.008669Z",
     "shell.execute_reply": "2023-08-10T20:01:38.007160Z"
    },
    "papermill": {
     "duration": 0.141978,
     "end_time": "2023-08-10T20:01:38.011634",
     "exception": false,
     "start_time": "2023-08-10T20:01:37.869656",
     "status": "completed"
    },
    "tags": []
   },
   "outputs": [
    {
     "data": {
      "text/plain": [
       "R          60248\n",
       "unknown    44587\n",
       "PG-13      42697\n",
       "PG         13669\n",
       "TV14         947\n",
       "NC-17        285\n",
       "TVPG         281\n",
       "TVMA          44\n",
       "Name: rating, dtype: int64"
      ]
     },
     "execution_count": 53,
     "metadata": {},
     "output_type": "execute_result"
    }
   ],
   "source": [
    "merged['rating'].value_counts()"
   ]
  },
  {
   "cell_type": "code",
   "execution_count": 54,
   "id": "ce602b8b",
   "metadata": {
    "execution": {
     "iopub.execute_input": "2023-08-10T20:01:38.214190Z",
     "iopub.status.busy": "2023-08-10T20:01:38.213737Z",
     "iopub.status.idle": "2023-08-10T20:01:38.224923Z",
     "shell.execute_reply": "2023-08-10T20:01:38.223768Z"
    },
    "papermill": {
     "duration": 0.114174,
     "end_time": "2023-08-10T20:01:38.227412",
     "exception": false,
     "start_time": "2023-08-10T20:01:38.113238",
     "status": "completed"
    },
    "tags": []
   },
   "outputs": [
    {
     "data": {
      "text/plain": [
       "False    113189\n",
       "True      49569\n",
       "Name: isFrequentReviewer, dtype: int64"
      ]
     },
     "execution_count": 54,
     "metadata": {},
     "output_type": "execute_result"
    }
   ],
   "source": [
    "merged['isFrequentReviewer'].value_counts()"
   ]
  },
  {
   "cell_type": "code",
   "execution_count": 55,
   "id": "f625f7fc",
   "metadata": {
    "execution": {
     "iopub.execute_input": "2023-08-10T20:01:38.435696Z",
     "iopub.status.busy": "2023-08-10T20:01:38.434498Z",
     "iopub.status.idle": "2023-08-10T20:01:38.443866Z",
     "shell.execute_reply": "2023-08-10T20:01:38.442683Z"
    },
    "papermill": {
     "duration": 0.116324,
     "end_time": "2023-08-10T20:01:38.446160",
     "exception": false,
     "start_time": "2023-08-10T20:01:38.329836",
     "status": "completed"
    },
    "tags": []
   },
   "outputs": [
    {
     "data": {
      "text/plain": [
       "0      Benjamin Henry\n",
       "1       Felicia Lopez\n",
       "2     Charles Burgess\n",
       "3        Ryan Barrett\n",
       "4    Alexander Glover\n",
       "Name: reviewerName, dtype: object"
      ]
     },
     "execution_count": 55,
     "metadata": {},
     "output_type": "execute_result"
    }
   ],
   "source": [
    "merged[\"reviewerName\"].head()"
   ]
  },
  {
   "cell_type": "code",
   "execution_count": 56,
   "id": "8e46f505",
   "metadata": {
    "execution": {
     "iopub.execute_input": "2023-08-10T20:01:38.648796Z",
     "iopub.status.busy": "2023-08-10T20:01:38.648383Z",
     "iopub.status.idle": "2023-08-10T20:01:38.662780Z",
     "shell.execute_reply": "2023-08-10T20:01:38.661552Z"
    },
    "papermill": {
     "duration": 0.117943,
     "end_time": "2023-08-10T20:01:38.665251",
     "exception": false,
     "start_time": "2023-08-10T20:01:38.547308",
     "status": "completed"
    },
    "tags": []
   },
   "outputs": [
    {
     "data": {
      "text/plain": [
       "14300000.0    32327\n",
       "2000000.0       922\n",
       "1100000.0       891\n",
       "1000000.0       834\n",
       "1200000.0       802\n",
       "              ...  \n",
       "58500.0           1\n",
       "500800.0          1\n",
       "265600.0          1\n",
       "292500.0          1\n",
       "799400.0          1\n",
       "Name: boxOffice, Length: 3819, dtype: int64"
      ]
     },
     "execution_count": 56,
     "metadata": {},
     "output_type": "execute_result"
    }
   ],
   "source": [
    "merged['boxOffice'].value_counts()"
   ]
  },
  {
   "cell_type": "code",
   "execution_count": 57,
   "id": "4c1de877",
   "metadata": {
    "execution": {
     "iopub.execute_input": "2023-08-10T20:01:38.870179Z",
     "iopub.status.busy": "2023-08-10T20:01:38.869564Z",
     "iopub.status.idle": "2023-08-10T20:01:38.875140Z",
     "shell.execute_reply": "2023-08-10T20:01:38.873707Z"
    },
    "papermill": {
     "duration": 0.112626,
     "end_time": "2023-08-10T20:01:38.878478",
     "exception": false,
     "start_time": "2023-08-10T20:01:38.765852",
     "status": "completed"
    },
    "tags": []
   },
   "outputs": [],
   "source": [
    "# Check correlation between 'boxOffice' and ''sentiment'\n",
    "# bo_df = merged.copy()\n",
    "# print(bo_df[\"boxOffice\"])\n",
    "# bo_df[\"boxOffice\"] = bo_df[\"boxOffice\"].str[1:]\n",
    "# bo_df[\"boxOffice\"] = bo_df[\"boxOffice\"].replace(to_replace={\"M\": \"*1000000\", \"K\": \"*1000\"}, regex=True)\n",
    "# bo_df[\"boxOffice\"] = bo_df[\"boxOffice\"].loc[bo_df[\"boxOffice\"].notnull()].apply(lambda x: eval(str(x)))\n",
    "# bo_df[\"boxOffice\"] = bo_df[\"boxOffice\"].fillna(bo_df[\"boxOffice\"].median())\n",
    "# bo_df[\"boxOffice\"].describe()"
   ]
  },
  {
   "cell_type": "code",
   "execution_count": 58,
   "id": "bd93d079",
   "metadata": {
    "execution": {
     "iopub.execute_input": "2023-08-10T20:01:39.095079Z",
     "iopub.status.busy": "2023-08-10T20:01:39.094464Z",
     "iopub.status.idle": "2023-08-10T20:01:39.103408Z",
     "shell.execute_reply": "2023-08-10T20:01:39.100900Z"
    },
    "papermill": {
     "duration": 0.128934,
     "end_time": "2023-08-10T20:01:39.107496",
     "exception": false,
     "start_time": "2023-08-10T20:01:38.978562",
     "status": "completed"
    },
    "tags": []
   },
   "outputs": [],
   "source": [
    "# median = bo_df[\"boxOffice\"].describe()['50%']\n",
    "# iqr = bo_df[\"boxOffice\"].describe()['75%'] - bo_df[\"boxOffice\"].describe()['25%']\n",
    "# median, iqr"
   ]
  },
  {
   "cell_type": "code",
   "execution_count": 59,
   "id": "bda13045",
   "metadata": {
    "execution": {
     "iopub.execute_input": "2023-08-10T20:01:39.320599Z",
     "iopub.status.busy": "2023-08-10T20:01:39.320138Z",
     "iopub.status.idle": "2023-08-10T20:01:39.325119Z",
     "shell.execute_reply": "2023-08-10T20:01:39.323787Z"
    },
    "papermill": {
     "duration": 0.109583,
     "end_time": "2023-08-10T20:01:39.327515",
     "exception": false,
     "start_time": "2023-08-10T20:01:39.217932",
     "status": "completed"
    },
    "tags": []
   },
   "outputs": [],
   "source": [
    "# ll = median - (1.5*iqr)\n",
    "# ul = median + (1.5*iqr)\n",
    "# ll, ul"
   ]
  },
  {
   "cell_type": "code",
   "execution_count": 60,
   "id": "c557672e",
   "metadata": {
    "execution": {
     "iopub.execute_input": "2023-08-10T20:01:39.529789Z",
     "iopub.status.busy": "2023-08-10T20:01:39.529363Z",
     "iopub.status.idle": "2023-08-10T20:01:39.534458Z",
     "shell.execute_reply": "2023-08-10T20:01:39.533154Z"
    },
    "papermill": {
     "duration": 0.109227,
     "end_time": "2023-08-10T20:01:39.537111",
     "exception": false,
     "start_time": "2023-08-10T20:01:39.427884",
     "status": "completed"
    },
    "tags": []
   },
   "outputs": [],
   "source": [
    "# bo_df[\"boxOffice\"].mean()"
   ]
  },
  {
   "cell_type": "code",
   "execution_count": 61,
   "id": "e6a61b35",
   "metadata": {
    "execution": {
     "iopub.execute_input": "2023-08-10T20:01:39.753422Z",
     "iopub.status.busy": "2023-08-10T20:01:39.752668Z",
     "iopub.status.idle": "2023-08-10T20:01:39.757722Z",
     "shell.execute_reply": "2023-08-10T20:01:39.756536Z"
    },
    "papermill": {
     "duration": 0.117542,
     "end_time": "2023-08-10T20:01:39.760176",
     "exception": false,
     "start_time": "2023-08-10T20:01:39.642634",
     "status": "completed"
    },
    "tags": []
   },
   "outputs": [],
   "source": [
    "# bo_df.loc[bo_df[\"boxOffice\"] > ul, \"boxOffice\"] = median\n",
    "# bo_df[\"boxOffice\"].mean()"
   ]
  },
  {
   "cell_type": "code",
   "execution_count": 62,
   "id": "a87c8148",
   "metadata": {
    "execution": {
     "iopub.execute_input": "2023-08-10T20:01:39.972515Z",
     "iopub.status.busy": "2023-08-10T20:01:39.971749Z",
     "iopub.status.idle": "2023-08-10T20:01:39.976563Z",
     "shell.execute_reply": "2023-08-10T20:01:39.975727Z"
    },
    "papermill": {
     "duration": 0.11424,
     "end_time": "2023-08-10T20:01:39.979053",
     "exception": false,
     "start_time": "2023-08-10T20:01:39.864813",
     "status": "completed"
    },
    "tags": []
   },
   "outputs": [],
   "source": [
    "# bo_df[\"boxOffice\"].min(), bo_df[\"boxOffice\"].max()"
   ]
  },
  {
   "cell_type": "code",
   "execution_count": 63,
   "id": "4a4ba5d7",
   "metadata": {
    "execution": {
     "iopub.execute_input": "2023-08-10T20:01:40.190055Z",
     "iopub.status.busy": "2023-08-10T20:01:40.189357Z",
     "iopub.status.idle": "2023-08-10T20:01:40.194181Z",
     "shell.execute_reply": "2023-08-10T20:01:40.193149Z"
    },
    "papermill": {
     "duration": 0.110781,
     "end_time": "2023-08-10T20:01:40.197040",
     "exception": false,
     "start_time": "2023-08-10T20:01:40.086259",
     "status": "completed"
    },
    "tags": []
   },
   "outputs": [],
   "source": [
    "# sns.boxplot(x=\"sentiment\", y=\"boxOffice\", data=bo_df, showfliers = False)"
   ]
  },
  {
   "cell_type": "markdown",
   "id": "1cb733a0",
   "metadata": {
    "papermill": {
     "duration": 0.103645,
     "end_time": "2023-08-10T20:01:40.402009",
     "exception": false,
     "start_time": "2023-08-10T20:01:40.298364",
     "status": "completed"
    },
    "tags": []
   },
   "source": [
    "## EDA  "
   ]
  },
  {
   "cell_type": "markdown",
   "id": "d3d2f646",
   "metadata": {
    "papermill": {
     "duration": 0.102783,
     "end_time": "2023-08-10T20:01:40.604999",
     "exception": false,
     "start_time": "2023-08-10T20:01:40.502216",
     "status": "completed"
    },
    "tags": []
   },
   "source": [
    "### An interesting finding through exploration  \n",
    "  \n",
    "* OHE and TfidfVectorizer on director column give the same result when ngram_range(2,2) is used (see code below)!"
   ]
  },
  {
   "cell_type": "code",
   "execution_count": 64,
   "id": "aa0d4591",
   "metadata": {
    "execution": {
     "iopub.execute_input": "2023-08-10T20:01:40.807335Z",
     "iopub.status.busy": "2023-08-10T20:01:40.806921Z",
     "iopub.status.idle": "2023-08-10T20:01:54.127911Z",
     "shell.execute_reply": "2023-08-10T20:01:54.126516Z"
    },
    "papermill": {
     "duration": 13.424501,
     "end_time": "2023-08-10T20:01:54.130761",
     "exception": false,
     "start_time": "2023-08-10T20:01:40.706260",
     "status": "completed"
    },
    "tags": []
   },
   "outputs": [
    {
     "name": "stdout",
     "output_type": "stream",
     "text": [
      "(162758,)\n",
      "9476\n",
      "(162758, 9476) <class 'numpy.ndarray'>\n",
      "(162758,)\n",
      "(162758, 9476) <class 'numpy.ndarray'>\n",
      "True\n"
     ]
    }
   ],
   "source": [
    "# Compare OHE and TfidfVectorizer on director column\n",
    "\n",
    "dirs = merged[\"director\"].copy()\n",
    "print(dirs.shape)\n",
    "dirs_uniq = merged[\"director\"].unique()\n",
    "print(len(dirs_uniq))\n",
    "\n",
    "du_ohe = OneHotEncoder(handle_unknown=\"ignore\", sparse_output=False).fit_transform(dirs.to_numpy().reshape(-1, 1))\n",
    "print(du_ohe.shape, type(du_ohe))\n",
    "\n",
    "dirs_2 = merged[\"director\"].copy()\n",
    "print(dirs_2.shape)\n",
    "du_tfidf = TfidfVectorizer(ngram_range=(2,2)).fit_transform(dirs_2).toarray()\n",
    "print(du_tfidf.shape, type(du_tfidf))\n",
    "\n",
    "print(np.array_equal(du_ohe, du_tfidf))"
   ]
  },
  {
   "cell_type": "code",
   "execution_count": 65,
   "id": "795ca81d",
   "metadata": {
    "execution": {
     "iopub.execute_input": "2023-08-10T20:01:54.331593Z",
     "iopub.status.busy": "2023-08-10T20:01:54.330929Z",
     "iopub.status.idle": "2023-08-10T20:01:54.687979Z",
     "shell.execute_reply": "2023-08-10T20:01:54.686795Z"
    },
    "papermill": {
     "duration": 0.460082,
     "end_time": "2023-08-10T20:01:54.690468",
     "exception": false,
     "start_time": "2023-08-10T20:01:54.230386",
     "status": "completed"
    },
    "tags": []
   },
   "outputs": [
    {
     "name": "stdout",
     "output_type": "stream",
     "text": [
      "0       Bennie Basso\n",
      "1         Alma White\n",
      "2       Bobby Oleary\n",
      "3    Eric Hutcherson\n",
      "4         John Trent\n",
      "Name: director, dtype: object\n"
     ]
    },
    {
     "data": {
      "text/plain": [
       "2    162758\n",
       "Name: director, dtype: int64"
      ]
     },
     "execution_count": 65,
     "metadata": {},
     "output_type": "execute_result"
    }
   ],
   "source": [
    "print(dirs.head())\n",
    "d = dirs.copy()\n",
    "d[\"name_len\"] = d.apply(lambda x: len(x.split()))\n",
    "d[\"name_len\"].value_counts()"
   ]
  },
  {
   "cell_type": "code",
   "execution_count": 66,
   "id": "2b10fda9",
   "metadata": {
    "execution": {
     "iopub.execute_input": "2023-08-10T20:01:54.894893Z",
     "iopub.status.busy": "2023-08-10T20:01:54.893789Z",
     "iopub.status.idle": "2023-08-10T20:01:54.900036Z",
     "shell.execute_reply": "2023-08-10T20:01:54.899033Z"
    },
    "papermill": {
     "duration": 0.11163,
     "end_time": "2023-08-10T20:01:54.902420",
     "exception": false,
     "start_time": "2023-08-10T20:01:54.790790",
     "status": "completed"
    },
    "tags": []
   },
   "outputs": [],
   "source": [
    "# Compare OHE and TfidfVectorizer on reviewerName column\n",
    "# Note: reviewerName column has salutations like \"Mr. \" etc, and some names appear middle names. Therefore needs cleaning\n",
    "\n",
    "# def name_fl(name):\n",
    "#     l = name.split()\n",
    "#     n = ' '.join((l[0], l[-1]))\n",
    "#     return n\n",
    "\n",
    "# reviewers = merged[\"reviewerName\"].copy()\n",
    "# reviewers = pd.DataFrame(reviewers)\n",
    "# reviewers = reviewers.replace({\"Mr. \": \"\", \"Mrs. \": \"\"}, regex=True)\n",
    "# reviewers[\"reviewerName\"] = reviewers[\"reviewerName\"].apply(name_fl)\n",
    "# print(reviewers.shape)\n",
    "\n",
    "# reviewers_uniq = merged[\"reviewerName\"].unique()\n",
    "# print(len(reviewers_uniq))\n",
    "\n",
    "# reviewers_ohe = OneHotEncoder(handle_unknown=\"ignore\", sparse_output=False).fit_transform(reviewers.to_numpy().reshape(-1, 1))\n",
    "# print(reviewers_ohe.shape, type(reviewers_ohe))\n",
    "\n",
    "# reviewers_2 = merged[\"reviewerName\"].copy()\n",
    "# reviewers_2 = pd.DataFrame(reviewers_2)\n",
    "# print(reviewers_2.head())\n",
    "# reviewers_2 = reviewers_2.replace({\"Mr. \": \"\", \"Mrs. \": \"\"}, regex=True)\n",
    "# reviewers_2[\"reviewerName\"] = reviewers_2[\"reviewerName\"].apply(name_fl)\n",
    "# reviewers_2 = reviewers_2.squeeze()\n",
    "# print(reviewers_2.shape)\n",
    "# print(reviewers_2.head())\n",
    "\n",
    "# reviewers_tfidf = TfidfVectorizer(ngram_range=(2,2)).fit_transform(reviewers_2).toarray()\n",
    "# print(reviewers_tfidf.shape, type(reviewers_tfidf))\n",
    "\n",
    "# print(np.array_equal(reviewers_ohe, reviewers_tfidf))"
   ]
  },
  {
   "cell_type": "code",
   "execution_count": 67,
   "id": "36386994",
   "metadata": {
    "execution": {
     "iopub.execute_input": "2023-08-10T20:01:55.107931Z",
     "iopub.status.busy": "2023-08-10T20:01:55.107213Z",
     "iopub.status.idle": "2023-08-10T20:01:55.111852Z",
     "shell.execute_reply": "2023-08-10T20:01:55.110676Z"
    },
    "papermill": {
     "duration": 0.111325,
     "end_time": "2023-08-10T20:01:55.114260",
     "exception": false,
     "start_time": "2023-08-10T20:01:55.002935",
     "status": "completed"
    },
    "tags": []
   },
   "outputs": [],
   "source": [
    "# def name_fl(name):\n",
    "#     l = name.split()\n",
    "#     n = ' '.join((l[0], l[-1]))\n",
    "#     return n"
   ]
  },
  {
   "cell_type": "code",
   "execution_count": 68,
   "id": "f62783e1",
   "metadata": {
    "execution": {
     "iopub.execute_input": "2023-08-10T20:01:55.317186Z",
     "iopub.status.busy": "2023-08-10T20:01:55.316423Z",
     "iopub.status.idle": "2023-08-10T20:01:55.321324Z",
     "shell.execute_reply": "2023-08-10T20:01:55.320522Z"
    },
    "papermill": {
     "duration": 0.109519,
     "end_time": "2023-08-10T20:01:55.323600",
     "exception": false,
     "start_time": "2023-08-10T20:01:55.214081",
     "status": "completed"
    },
    "tags": []
   },
   "outputs": [],
   "source": [
    "# print(reviewers.head())\n",
    "# r = pd.DataFrame(reviewers.copy())\n",
    "# r[\"reviewerName\"] = r[\"reviewerName\"].apply(name_fl)\n",
    "# r[\"name_len\"] = r[\"reviewerName\"].apply(lambda x: len(x.split()))\n",
    "# print(r.shape)\n",
    "# print(r.head())\n",
    "# print(r['name_len'].value_counts())"
   ]
  },
  {
   "cell_type": "code",
   "execution_count": 69,
   "id": "7305d1c2",
   "metadata": {
    "execution": {
     "iopub.execute_input": "2023-08-10T20:01:55.525786Z",
     "iopub.status.busy": "2023-08-10T20:01:55.524634Z",
     "iopub.status.idle": "2023-08-10T20:01:55.529993Z",
     "shell.execute_reply": "2023-08-10T20:01:55.529035Z"
    },
    "papermill": {
     "duration": 0.109774,
     "end_time": "2023-08-10T20:01:55.532223",
     "exception": false,
     "start_time": "2023-08-10T20:01:55.422449",
     "status": "completed"
    },
    "tags": []
   },
   "outputs": [],
   "source": [
    "## Box plot audienceScore and sentiment  \n",
    "# plt.figure(figsize=(6, 4))\n",
    "# sns.boxplot(x=\"sentiment\", y=\"audienceScore\", data=merged, width=0.3)\n",
    "# plt.title(\"Box plot audienceScore and sentiment\")\n",
    "# plt.show()"
   ]
  },
  {
   "cell_type": "code",
   "execution_count": 70,
   "id": "ee626736",
   "metadata": {
    "execution": {
     "iopub.execute_input": "2023-08-10T20:01:55.733469Z",
     "iopub.status.busy": "2023-08-10T20:01:55.732367Z",
     "iopub.status.idle": "2023-08-10T20:01:55.737333Z",
     "shell.execute_reply": "2023-08-10T20:01:55.736439Z"
    },
    "papermill": {
     "duration": 0.107913,
     "end_time": "2023-08-10T20:01:55.739669",
     "exception": false,
     "start_time": "2023-08-10T20:01:55.631756",
     "status": "completed"
    },
    "tags": []
   },
   "outputs": [],
   "source": [
    "## Box plot runtimeMinutes and sentiment  \n",
    "# plt.figure(figsize=(6, 4))\n",
    "# sns.boxplot(x=\"sentiment\", y=\"runtimeMinutes\", data=merged, width=0.3)\n",
    "# plt.title(\"Box plot runtimeMinutes and sentiment\")\n",
    "# plt.show()"
   ]
  },
  {
   "cell_type": "code",
   "execution_count": 71,
   "id": "3813360a",
   "metadata": {
    "execution": {
     "iopub.execute_input": "2023-08-10T20:01:55.946157Z",
     "iopub.status.busy": "2023-08-10T20:01:55.945473Z",
     "iopub.status.idle": "2023-08-10T20:01:55.950417Z",
     "shell.execute_reply": "2023-08-10T20:01:55.949429Z"
    },
    "papermill": {
     "duration": 0.110402,
     "end_time": "2023-08-10T20:01:55.952845",
     "exception": false,
     "start_time": "2023-08-10T20:01:55.842443",
     "status": "completed"
    },
    "tags": []
   },
   "outputs": [],
   "source": [
    "## Column chart for sentiment and rating columns\n",
    "# plt.figure(figsize=(6, 4))\n",
    "# sns.countplot(x=\"sentiment\", hue=\"rating\", data=merged)\n",
    "# plt.title(\"Column chart for sentiment and rating columns\")\n",
    "# plt.show()"
   ]
  },
  {
   "cell_type": "code",
   "execution_count": 72,
   "id": "91068e14",
   "metadata": {
    "execution": {
     "iopub.execute_input": "2023-08-10T20:01:56.158848Z",
     "iopub.status.busy": "2023-08-10T20:01:56.158181Z",
     "iopub.status.idle": "2023-08-10T20:01:56.162742Z",
     "shell.execute_reply": "2023-08-10T20:01:56.161898Z"
    },
    "papermill": {
     "duration": 0.109838,
     "end_time": "2023-08-10T20:01:56.164981",
     "exception": false,
     "start_time": "2023-08-10T20:01:56.055143",
     "status": "completed"
    },
    "tags": []
   },
   "outputs": [],
   "source": [
    "# Correlation heatmap  \n",
    "# plt.figure(figsize=(10, 8))\n",
    "# sns.heatmap(merged.corr(), annot=True, cmap=\"coolwarm\")\n",
    "# plt.title(\"Correlation heatmap\")\n",
    "# plt.show()"
   ]
  },
  {
   "cell_type": "markdown",
   "id": "606e13c0",
   "metadata": {
    "papermill": {
     "duration": 0.170292,
     "end_time": "2023-08-10T20:01:56.436728",
     "exception": false,
     "start_time": "2023-08-10T20:01:56.266436",
     "status": "completed"
    },
    "tags": []
   },
   "source": [
    "## Merge and preprocess \"test.csv\" and \"movies.csv\" files  "
   ]
  },
  {
   "cell_type": "code",
   "execution_count": 73,
   "id": "d7d73fc3",
   "metadata": {
    "execution": {
     "iopub.execute_input": "2023-08-10T20:01:56.643094Z",
     "iopub.status.busy": "2023-08-10T20:01:56.642418Z",
     "iopub.status.idle": "2023-08-10T20:02:02.775696Z",
     "shell.execute_reply": "2023-08-10T20:02:02.774251Z"
    },
    "papermill": {
     "duration": 6.238349,
     "end_time": "2023-08-10T20:02:02.778799",
     "exception": false,
     "start_time": "2023-08-10T20:01:56.540450",
     "status": "completed"
    },
    "tags": []
   },
   "outputs": [],
   "source": [
    "# Merge test and movies  \n",
    "merged_test = select_features(load_csv(\"test\"), load_csv(\"movies\"))"
   ]
  },
  {
   "cell_type": "code",
   "execution_count": 74,
   "id": "667f06c8",
   "metadata": {
    "execution": {
     "iopub.execute_input": "2023-08-10T20:02:02.980938Z",
     "iopub.status.busy": "2023-08-10T20:02:02.980505Z",
     "iopub.status.idle": "2023-08-10T20:02:02.985467Z",
     "shell.execute_reply": "2023-08-10T20:02:02.984332Z"
    },
    "papermill": {
     "duration": 0.108854,
     "end_time": "2023-08-10T20:02:02.988028",
     "exception": false,
     "start_time": "2023-08-10T20:02:02.879174",
     "status": "completed"
    },
    "tags": []
   },
   "outputs": [],
   "source": [
    "# inspect(merged_test)      # Note the missing values in ['audienceScore', 'runtimeMinutes', 'boxOffice']"
   ]
  },
  {
   "cell_type": "code",
   "execution_count": 75,
   "id": "176fb944",
   "metadata": {
    "execution": {
     "iopub.execute_input": "2023-08-10T20:02:03.191474Z",
     "iopub.status.busy": "2023-08-10T20:02:03.190850Z",
     "iopub.status.idle": "2023-08-10T20:02:03.212624Z",
     "shell.execute_reply": "2023-08-10T20:02:03.211463Z"
    },
    "papermill": {
     "duration": 0.126915,
     "end_time": "2023-08-10T20:02:03.214924",
     "exception": false,
     "start_time": "2023-08-10T20:02:03.088009",
     "status": "completed"
    },
    "tags": []
   },
   "outputs": [
    {
     "data": {
      "text/plain": [
       "array([6.80e+01, 1.04e+02, 1.43e+07])"
      ]
     },
     "execution_count": 75,
     "metadata": {},
     "output_type": "execute_result"
    }
   ],
   "source": [
    "# Transform ['audienceScore', 'runtimeMinutes', 'boxOffice'] columns in merged_test using 'si' fitted on 'merged' df  \n",
    "merged_test[['audienceScore', 'runtimeMinutes', 'boxOffice']] = si.transform(merged_test[['audienceScore', 'runtimeMinutes', 'boxOffice']])\n",
    "si.statistics_"
   ]
  },
  {
   "cell_type": "code",
   "execution_count": 76,
   "id": "e6d2588d",
   "metadata": {
    "execution": {
     "iopub.execute_input": "2023-08-10T20:02:03.417109Z",
     "iopub.status.busy": "2023-08-10T20:02:03.416728Z",
     "iopub.status.idle": "2023-08-10T20:02:03.427321Z",
     "shell.execute_reply": "2023-08-10T20:02:03.426110Z"
    },
    "papermill": {
     "duration": 0.11442,
     "end_time": "2023-08-10T20:02:03.429750",
     "exception": false,
     "start_time": "2023-08-10T20:02:03.315330",
     "status": "completed"
    },
    "tags": []
   },
   "outputs": [],
   "source": [
    "# Fill 'releaseDate' column in 'merged_test' df with median from the train (merged) df  \n",
    "merged_test['releaseDate'] = merged_test[\"releaseDate\"].fillna(merged[\"releaseDate\"].median())"
   ]
  },
  {
   "cell_type": "code",
   "execution_count": 77,
   "id": "956f5b1c",
   "metadata": {
    "execution": {
     "iopub.execute_input": "2023-08-10T20:02:03.635796Z",
     "iopub.status.busy": "2023-08-10T20:02:03.635338Z",
     "iopub.status.idle": "2023-08-10T20:02:04.129025Z",
     "shell.execute_reply": "2023-08-10T20:02:04.127909Z"
    },
    "papermill": {
     "duration": 0.599859,
     "end_time": "2023-08-10T20:02:04.131730",
     "exception": false,
     "start_time": "2023-08-10T20:02:03.531871",
     "status": "completed"
    },
    "tags": []
   },
   "outputs": [
    {
     "name": "stdout",
     "output_type": "stream",
     "text": [
      "Shape of the dataframe: (55315, 29)\n",
      "\n",
      "Columns in the dataframe:\n",
      "Index(['movieid', 'reviewerName', 'isFrequentReviewer', 'reviewText', 'title',\n",
      "       'audienceScore', 'rating', 'ratingContents', 'releaseDateTheaters',\n",
      "       'releaseDateStreaming', 'runtimeMinutes', 'genre', 'originalLanguage',\n",
      "       'director', 'boxOffice', 'distributor', 'soundType', 'reviewYN',\n",
      "       'reviewWC', 'genreSorted', 'rcSorted', 'releaseDate', 'releaseYear',\n",
      "       'releaseMonth', 'releaseDiff', 'audScoreBins', 'runtimeBins',\n",
      "       'boxOfficeBins', 'releaseDiffBins'],\n",
      "      dtype='object')\n",
      "\n",
      "<class 'pandas.core.frame.DataFrame'>\n",
      "Int64Index: 55315 entries, 0 to 55314\n",
      "Data columns (total 29 columns):\n",
      " #   Column                Non-Null Count  Dtype         \n",
      "---  ------                --------------  -----         \n",
      " 0   movieid               55315 non-null  object        \n",
      " 1   reviewerName          55315 non-null  object        \n",
      " 2   isFrequentReviewer    55315 non-null  bool          \n",
      " 3   reviewText            55315 non-null  object        \n",
      " 4   title                 55315 non-null  object        \n",
      " 5   audienceScore         55315 non-null  float64       \n",
      " 6   rating                55315 non-null  object        \n",
      " 7   ratingContents        55315 non-null  object        \n",
      " 8   releaseDateTheaters   47844 non-null  datetime64[ns]\n",
      " 9   releaseDateStreaming  52929 non-null  datetime64[ns]\n",
      " 10  runtimeMinutes        55315 non-null  float64       \n",
      " 11  genre                 55315 non-null  object        \n",
      " 12  originalLanguage      55315 non-null  object        \n",
      " 13  director              55315 non-null  object        \n",
      " 14  boxOffice             55315 non-null  float64       \n",
      " 15  distributor           55315 non-null  object        \n",
      " 16  soundType             29845 non-null  object        \n",
      " 17  reviewYN              55315 non-null  int64         \n",
      " 18  reviewWC              55315 non-null  int64         \n",
      " 19  genreSorted           55315 non-null  object        \n",
      " 20  rcSorted              55315 non-null  object        \n",
      " 21  releaseDate           55315 non-null  datetime64[ns]\n",
      " 22  releaseYear           46626 non-null  float64       \n",
      " 23  releaseMonth          46626 non-null  float64       \n",
      " 24  releaseDiff           55315 non-null  float64       \n",
      " 25  audScoreBins          53866 non-null  float64       \n",
      " 26  runtimeBins           54937 non-null  category      \n",
      " 27  boxOfficeBins         41756 non-null  float64       \n",
      " 28  releaseDiffBins       55315 non-null  category      \n",
      "dtypes: bool(1), category(2), datetime64[ns](3), float64(8), int64(2), object(13)\n",
      "memory usage: 11.6+ MB\n",
      "None\n",
      "\n",
      "Missing values:\n",
      "movieid                     0\n",
      "reviewerName                0\n",
      "isFrequentReviewer          0\n",
      "reviewText                  0\n",
      "title                       0\n",
      "audienceScore               0\n",
      "rating                      0\n",
      "ratingContents              0\n",
      "releaseDateTheaters      7471\n",
      "releaseDateStreaming     2386\n",
      "runtimeMinutes              0\n",
      "genre                       0\n",
      "originalLanguage            0\n",
      "director                    0\n",
      "boxOffice                   0\n",
      "distributor                 0\n",
      "soundType               25470\n",
      "reviewYN                    0\n",
      "reviewWC                    0\n",
      "genreSorted                 0\n",
      "rcSorted                    0\n",
      "releaseDate                 0\n",
      "releaseYear              8689\n",
      "releaseMonth             8689\n",
      "releaseDiff                 0\n",
      "audScoreBins             1449\n",
      "runtimeBins               378\n",
      "boxOfficeBins           13559\n",
      "releaseDiffBins             0\n",
      "dtype: int64\n"
     ]
    }
   ],
   "source": [
    "# After transforming merged_test  \n",
    "inspect(merged_test)"
   ]
  },
  {
   "cell_type": "code",
   "execution_count": 78,
   "id": "a553230c",
   "metadata": {
    "execution": {
     "iopub.execute_input": "2023-08-10T20:02:04.334479Z",
     "iopub.status.busy": "2023-08-10T20:02:04.333631Z",
     "iopub.status.idle": "2023-08-10T20:02:04.341005Z",
     "shell.execute_reply": "2023-08-10T20:02:04.339694Z"
    },
    "papermill": {
     "duration": 0.111603,
     "end_time": "2023-08-10T20:02:04.343359",
     "exception": false,
     "start_time": "2023-08-10T20:02:04.231756",
     "status": "completed"
    },
    "tags": []
   },
   "outputs": [
    {
     "name": "stdout",
     "output_type": "stream",
     "text": [
      "2510\n",
      "4.537648015908886\n"
     ]
    }
   ],
   "source": [
    "print(merged_test[\"reviewYN\"].sum())\n",
    "print(merged_test[\"reviewYN\"].sum() * 100 / merged_test.shape[0])"
   ]
  },
  {
   "cell_type": "code",
   "execution_count": 79,
   "id": "6d1974fb",
   "metadata": {
    "execution": {
     "iopub.execute_input": "2023-08-10T20:02:04.551973Z",
     "iopub.status.busy": "2023-08-10T20:02:04.551230Z",
     "iopub.status.idle": "2023-08-10T20:02:04.567830Z",
     "shell.execute_reply": "2023-08-10T20:02:04.566704Z"
    },
    "papermill": {
     "duration": 0.124248,
     "end_time": "2023-08-10T20:02:04.570283",
     "exception": false,
     "start_time": "2023-08-10T20:02:04.446035",
     "status": "completed"
    },
    "tags": []
   },
   "outputs": [
    {
     "data": {
      "text/plain": [
       "R          18934\n",
       "unknown    18386\n",
       "PG-13      13220\n",
       "PG          4200\n",
       "TV14         333\n",
       "TVPG         109\n",
       "NC-17        108\n",
       "TVMA          25\n",
       "Name: rating, dtype: int64"
      ]
     },
     "execution_count": 79,
     "metadata": {},
     "output_type": "execute_result"
    }
   ],
   "source": [
    "merged_test['rating'].value_counts()"
   ]
  },
  {
   "cell_type": "code",
   "execution_count": 80,
   "id": "f64ed77d",
   "metadata": {
    "execution": {
     "iopub.execute_input": "2023-08-10T20:02:04.773846Z",
     "iopub.status.busy": "2023-08-10T20:02:04.773145Z",
     "iopub.status.idle": "2023-08-10T20:02:04.783413Z",
     "shell.execute_reply": "2023-08-10T20:02:04.782182Z"
    },
    "papermill": {
     "duration": 0.114573,
     "end_time": "2023-08-10T20:02:04.785775",
     "exception": false,
     "start_time": "2023-08-10T20:02:04.671202",
     "status": "completed"
    },
    "tags": []
   },
   "outputs": [
    {
     "data": {
      "text/plain": [
       "False    38428\n",
       "True     16887\n",
       "Name: isFrequentReviewer, dtype: int64"
      ]
     },
     "execution_count": 80,
     "metadata": {},
     "output_type": "execute_result"
    }
   ],
   "source": [
    "merged_test['isFrequentReviewer'].value_counts()"
   ]
  },
  {
   "cell_type": "code",
   "execution_count": 81,
   "id": "817a927b",
   "metadata": {
    "execution": {
     "iopub.execute_input": "2023-08-10T20:02:04.993105Z",
     "iopub.status.busy": "2023-08-10T20:02:04.992698Z",
     "iopub.status.idle": "2023-08-10T20:02:05.003938Z",
     "shell.execute_reply": "2023-08-10T20:02:05.002949Z"
    },
    "papermill": {
     "duration": 0.118563,
     "end_time": "2023-08-10T20:02:05.006393",
     "exception": false,
     "start_time": "2023-08-10T20:02:04.887830",
     "status": "completed"
    },
    "tags": []
   },
   "outputs": [
    {
     "data": {
      "text/plain": [
       "14300000.0    13593\n",
       "1100000.0       311\n",
       "1000000.0       272\n",
       "1300000.0       263\n",
       "2000000.0       256\n",
       "              ...  \n",
       "200400.0          1\n",
       "23800000.0        1\n",
       "111200.0          1\n",
       "277800.0          1\n",
       "100600.0          1\n",
       "Name: boxOffice, Length: 3816, dtype: int64"
      ]
     },
     "execution_count": 81,
     "metadata": {},
     "output_type": "execute_result"
    }
   ],
   "source": [
    "merged_test['boxOffice'].value_counts()"
   ]
  },
  {
   "cell_type": "markdown",
   "id": "60d6f33c",
   "metadata": {
    "papermill": {
     "duration": 0.101752,
     "end_time": "2023-08-10T20:02:05.211353",
     "exception": false,
     "start_time": "2023-08-10T20:02:05.109601",
     "status": "completed"
    },
    "tags": []
   },
   "source": [
    "## Work on vocabulary  \n",
    "\n",
    "`Build vocabulary from 'reviewText' column`  "
   ]
  },
  {
   "cell_type": "code",
   "execution_count": 82,
   "id": "357851be",
   "metadata": {
    "execution": {
     "iopub.execute_input": "2023-08-10T20:02:05.414433Z",
     "iopub.status.busy": "2023-08-10T20:02:05.413564Z",
     "iopub.status.idle": "2023-08-10T20:02:05.435266Z",
     "shell.execute_reply": "2023-08-10T20:02:05.434067Z"
    },
    "papermill": {
     "duration": 0.126252,
     "end_time": "2023-08-10T20:02:05.437922",
     "exception": false,
     "start_time": "2023-08-10T20:02:05.311670",
     "status": "completed"
    },
    "tags": []
   },
   "outputs": [
    {
     "data": {
      "text/plain": [
       "((162758, 2),\n",
       "                                           reviewText sentiment\n",
       " 0  Henry Selick’s first movie since ’s Coraline. ...  POSITIVE\n",
       " 1  With a cast that reads like the Vogue Oscar pa...  NEGATIVE\n",
       " 2  Creed II does not give us anything but another...  POSITIVE\n",
       " 3  I know what you're thinking, but this is no Li...  POSITIVE\n",
       " 4  Director Fernando Meirelles tells the story wi...  POSITIVE)"
      ]
     },
     "execution_count": 82,
     "metadata": {},
     "output_type": "execute_result"
    }
   ],
   "source": [
    "rt_senti = merged[[\"reviewText\", \"sentiment\"]].copy()\n",
    "rt_senti.shape, rt_senti.head()"
   ]
  },
  {
   "cell_type": "code",
   "execution_count": 83,
   "id": "3b7b2422",
   "metadata": {
    "execution": {
     "iopub.execute_input": "2023-08-10T20:02:05.645841Z",
     "iopub.status.busy": "2023-08-10T20:02:05.645447Z",
     "iopub.status.idle": "2023-08-10T20:02:05.657783Z",
     "shell.execute_reply": "2023-08-10T20:02:05.656668Z"
    },
    "papermill": {
     "duration": 0.117627,
     "end_time": "2023-08-10T20:02:05.660121",
     "exception": false,
     "start_time": "2023-08-10T20:02:05.542494",
     "status": "completed"
    },
    "tags": []
   },
   "outputs": [
    {
     "data": {
      "text/plain": [
       "((55315, 1),\n",
       "                                           reviewText\n",
       " 0  Green slowly cranks up the dread with style an...\n",
       " 1  Philip Noyce's direction is elegant and unforc...\n",
       " 2  It wouldn't do to say what path Maria ultimate...\n",
       " 3  Pig is not exactly the arthouse John Wick that...\n",
       " 4  An imaginative no-budget musical of sorts abou...)"
      ]
     },
     "execution_count": 83,
     "metadata": {},
     "output_type": "execute_result"
    }
   ],
   "source": [
    "rt_test = pd.DataFrame(merged_test[\"reviewText\"].copy())\n",
    "rt_test.shape, rt_test.head()"
   ]
  },
  {
   "cell_type": "code",
   "execution_count": 84,
   "id": "39f5071f",
   "metadata": {
    "execution": {
     "iopub.execute_input": "2023-08-10T20:02:05.867950Z",
     "iopub.status.busy": "2023-08-10T20:02:05.867490Z",
     "iopub.status.idle": "2023-08-10T20:02:05.874295Z",
     "shell.execute_reply": "2023-08-10T20:02:05.873164Z"
    },
    "papermill": {
     "duration": 0.113418,
     "end_time": "2023-08-10T20:02:05.876934",
     "exception": false,
     "start_time": "2023-08-10T20:02:05.763516",
     "status": "completed"
    },
    "tags": []
   },
   "outputs": [],
   "source": [
    "def get_vocab(text_df, ngram_range=(1,1)):\n",
    "    print(f\"Generating vocabulary for ngram_range: {ngram_range}...\")\n",
    "    tvec1 = CountVectorizer(ngram_range=ngram_range, stop_words='english', strip_accents='unicode')\n",
    "    tvec1.fit(text_df)\n",
    "    voc_ngram = list(tvec1.vocabulary_.keys())\n",
    "    return voc_ngram"
   ]
  },
  {
   "cell_type": "code",
   "execution_count": 85,
   "id": "2371b3b2",
   "metadata": {
    "execution": {
     "iopub.execute_input": "2023-08-10T20:02:06.085356Z",
     "iopub.status.busy": "2023-08-10T20:02:06.084944Z",
     "iopub.status.idle": "2023-08-10T20:02:06.092863Z",
     "shell.execute_reply": "2023-08-10T20:02:06.091866Z"
    },
    "papermill": {
     "duration": 0.114629,
     "end_time": "2023-08-10T20:02:06.095049",
     "exception": false,
     "start_time": "2023-08-10T20:02:05.980420",
     "status": "completed"
    },
    "tags": []
   },
   "outputs": [],
   "source": [
    "def get_common_vocab(df_list: list, ngram_range_list: list):\n",
    "    \"\"\"\n",
    "    Get common vocabulary from a list of dataframes.\n",
    "    \"\"\"\n",
    "    # Get vocabulary from each dataframe for a given ngram-range\n",
    "    for ngram_range in ngram_range_list:\n",
    "        vocab_ngram = set()\n",
    "        for df in df_list:\n",
    "            vocab_ngram_df = set(get_vocab(df['reviewText'], ngram_range))\n",
    "            print(f\"Vocabulary for ngram-range {ngram_range} in df: {len(vocab_ngram_df)}\")\n",
    "            if vocab_ngram:\n",
    "                vocab_ngram = vocab_ngram.intersection(vocab_ngram_df)\n",
    "            else:\n",
    "                vocab_ngram = vocab_ngram_df\n",
    "        print(f\"Common vocabulary for ngram-range {ngram_range}: {len(vocab_ngram)}\")   \n",
    "    return vocab_ngram"
   ]
  },
  {
   "cell_type": "code",
   "execution_count": 86,
   "id": "7a18eb75",
   "metadata": {
    "execution": {
     "iopub.execute_input": "2023-08-10T20:02:06.300536Z",
     "iopub.status.busy": "2023-08-10T20:02:06.300115Z",
     "iopub.status.idle": "2023-08-10T20:02:11.644155Z",
     "shell.execute_reply": "2023-08-10T20:02:11.642990Z"
    },
    "papermill": {
     "duration": 5.449377,
     "end_time": "2023-08-10T20:02:11.646930",
     "exception": false,
     "start_time": "2023-08-10T20:02:06.197553",
     "status": "completed"
    },
    "tags": []
   },
   "outputs": [
    {
     "name": "stdout",
     "output_type": "stream",
     "text": [
      "Generating vocabulary for ngram_range: (1, 1)...\n"
     ]
    },
    {
     "data": {
      "text/plain": [
       "(63881,\n",
       " ['henry',\n",
       "  'selick',\n",
       "  'movie',\n",
       "  'coraline',\n",
       "  'fifth',\n",
       "  'stop',\n",
       "  'motion',\n",
       "  'masterpiece',\n",
       "  'cast',\n",
       "  'reads'])"
      ]
     },
     "execution_count": 86,
     "metadata": {},
     "output_type": "execute_result"
    }
   ],
   "source": [
    "voc_1gram = get_vocab(rt_senti[\"reviewText\"], ngram_range=(1,1))\n",
    "len(voc_1gram), voc_1gram[:10]"
   ]
  },
  {
   "cell_type": "code",
   "execution_count": 87,
   "id": "1fa84213",
   "metadata": {
    "execution": {
     "iopub.execute_input": "2023-08-10T20:02:11.857370Z",
     "iopub.status.busy": "2023-08-10T20:02:11.856969Z",
     "iopub.status.idle": "2023-08-10T20:02:24.314028Z",
     "shell.execute_reply": "2023-08-10T20:02:24.312502Z"
    },
    "papermill": {
     "duration": 12.567112,
     "end_time": "2023-08-10T20:02:24.316889",
     "exception": false,
     "start_time": "2023-08-10T20:02:11.749777",
     "status": "completed"
    },
    "tags": []
   },
   "outputs": [
    {
     "name": "stdout",
     "output_type": "stream",
     "text": [
      "Generating vocabulary for ngram_range: (2, 2)...\n"
     ]
    },
    {
     "data": {
      "text/plain": [
       "(1130406,\n",
       " ['henry selick',\n",
       "  'selick movie',\n",
       "  'movie coraline',\n",
       "  'coraline fifth',\n",
       "  'fifth stop',\n",
       "  'stop motion',\n",
       "  'motion masterpiece',\n",
       "  'cast reads',\n",
       "  'reads like',\n",
       "  'like vogue'])"
      ]
     },
     "execution_count": 87,
     "metadata": {},
     "output_type": "execute_result"
    }
   ],
   "source": [
    "voc_2gram = get_vocab(rt_senti[\"reviewText\"], ngram_range=(2,2))\n",
    "len(voc_2gram), voc_2gram[:10]"
   ]
  },
  {
   "cell_type": "code",
   "execution_count": 88,
   "id": "6d241f44",
   "metadata": {
    "execution": {
     "iopub.execute_input": "2023-08-10T20:02:24.522662Z",
     "iopub.status.busy": "2023-08-10T20:02:24.522201Z",
     "iopub.status.idle": "2023-08-10T20:02:38.452045Z",
     "shell.execute_reply": "2023-08-10T20:02:38.450906Z"
    },
    "papermill": {
     "duration": 14.035498,
     "end_time": "2023-08-10T20:02:38.454499",
     "exception": false,
     "start_time": "2023-08-10T20:02:24.419001",
     "status": "completed"
    },
    "tags": []
   },
   "outputs": [
    {
     "name": "stdout",
     "output_type": "stream",
     "text": [
      "Generating vocabulary for ngram_range: (3, 3)...\n"
     ]
    },
    {
     "data": {
      "text/plain": [
       "(1416309,\n",
       " ['henry selick movie',\n",
       "  'selick movie coraline',\n",
       "  'movie coraline fifth',\n",
       "  'coraline fifth stop',\n",
       "  'fifth stop motion',\n",
       "  'stop motion masterpiece',\n",
       "  'cast reads like',\n",
       "  'reads like vogue',\n",
       "  'like vogue oscar',\n",
       "  'vogue oscar party'])"
      ]
     },
     "execution_count": 88,
     "metadata": {},
     "output_type": "execute_result"
    }
   ],
   "source": [
    "voc_3gram = get_vocab(rt_senti[\"reviewText\"], ngram_range=(3,3))\n",
    "len(voc_3gram), voc_3gram[:10]"
   ]
  },
  {
   "cell_type": "code",
   "execution_count": 89,
   "id": "a2e5c6d4",
   "metadata": {
    "execution": {
     "iopub.execute_input": "2023-08-10T20:02:38.663832Z",
     "iopub.status.busy": "2023-08-10T20:02:38.663173Z",
     "iopub.status.idle": "2023-08-10T20:02:45.957342Z",
     "shell.execute_reply": "2023-08-10T20:02:45.956170Z"
    },
    "papermill": {
     "duration": 7.403785,
     "end_time": "2023-08-10T20:02:45.959821",
     "exception": false,
     "start_time": "2023-08-10T20:02:38.556036",
     "status": "completed"
    },
    "tags": []
   },
   "outputs": [
    {
     "name": "stdout",
     "output_type": "stream",
     "text": [
      "Generating vocabulary for ngram_range: (1, 1)...\n",
      "Vocabulary for ngram-range (1, 1) in df: 63881\n",
      "Generating vocabulary for ngram_range: (1, 1)...\n",
      "Vocabulary for ngram-range (1, 1) in df: 42992\n",
      "Common vocabulary for ngram-range (1, 1): 35498\n"
     ]
    }
   ],
   "source": [
    "common_unigrams = get_common_vocab([rt_senti, rt_test], ngram_range_list=[(1,1)])\n",
    "# sorted(list(common_unigrams))"
   ]
  },
  {
   "cell_type": "code",
   "execution_count": 90,
   "id": "0504ceb2",
   "metadata": {
    "execution": {
     "iopub.execute_input": "2023-08-10T20:02:46.175770Z",
     "iopub.status.busy": "2023-08-10T20:02:46.175317Z",
     "iopub.status.idle": "2023-08-10T20:03:03.438983Z",
     "shell.execute_reply": "2023-08-10T20:03:03.437687Z"
    },
    "papermill": {
     "duration": 17.374989,
     "end_time": "2023-08-10T20:03:03.442549",
     "exception": false,
     "start_time": "2023-08-10T20:02:46.067560",
     "status": "completed"
    },
    "tags": []
   },
   "outputs": [
    {
     "name": "stdout",
     "output_type": "stream",
     "text": [
      "Generating vocabulary for ngram_range: (2, 2)...\n",
      "Vocabulary for ngram-range (2, 2) in df: 1130406\n",
      "Generating vocabulary for ngram_range: (2, 2)...\n",
      "Vocabulary for ngram-range (2, 2) in df: 436174\n",
      "Common vocabulary for ngram-range (2, 2): 112530\n"
     ]
    }
   ],
   "source": [
    "common_bigrams = get_common_vocab([rt_senti, rt_test], ngram_range_list=[(2,2)])\n",
    "# common_bigrams"
   ]
  },
  {
   "cell_type": "code",
   "execution_count": 91,
   "id": "613b1b0a",
   "metadata": {
    "execution": {
     "iopub.execute_input": "2023-08-10T20:03:03.671808Z",
     "iopub.status.busy": "2023-08-10T20:03:03.671012Z",
     "iopub.status.idle": "2023-08-10T20:03:03.691464Z",
     "shell.execute_reply": "2023-08-10T20:03:03.689825Z"
    },
    "papermill": {
     "duration": 0.138761,
     "end_time": "2023-08-10T20:03:03.694002",
     "exception": false,
     "start_time": "2023-08-10T20:03:03.555241",
     "status": "completed"
    },
    "tags": []
   },
   "outputs": [
    {
     "name": "stdout",
     "output_type": "stream",
     "text": [
      "148028\n"
     ]
    }
   ],
   "source": [
    "common_1_2_grams = common_unigrams | common_bigrams\n",
    "print(len(common_1_2_grams))\n",
    "# sorted(list(common_1_2_grams))"
   ]
  },
  {
   "cell_type": "code",
   "execution_count": 92,
   "id": "92d8bc26",
   "metadata": {
    "execution": {
     "iopub.execute_input": "2023-08-10T20:03:03.909123Z",
     "iopub.status.busy": "2023-08-10T20:03:03.908720Z",
     "iopub.status.idle": "2023-08-10T20:03:22.881252Z",
     "shell.execute_reply": "2023-08-10T20:03:22.879589Z"
    },
    "papermill": {
     "duration": 19.080381,
     "end_time": "2023-08-10T20:03:22.883974",
     "exception": false,
     "start_time": "2023-08-10T20:03:03.803593",
     "status": "completed"
    },
    "tags": []
   },
   "outputs": [
    {
     "name": "stdout",
     "output_type": "stream",
     "text": [
      "Generating vocabulary for ngram_range: (3, 3)...\n",
      "Vocabulary for ngram-range (3, 3) in df: 1416309\n",
      "Generating vocabulary for ngram_range: (3, 3)...\n",
      "Vocabulary for ngram-range (3, 3) in df: 488867\n",
      "Common vocabulary for ngram-range (3, 3): 22631\n"
     ]
    }
   ],
   "source": [
    "common_trigrams = get_common_vocab([rt_senti, rt_test], ngram_range_list=[(3,3)])\n",
    "# common_trigrams"
   ]
  },
  {
   "cell_type": "code",
   "execution_count": 93,
   "id": "572fe658",
   "metadata": {
    "execution": {
     "iopub.execute_input": "2023-08-10T20:03:23.096762Z",
     "iopub.status.busy": "2023-08-10T20:03:23.096295Z",
     "iopub.status.idle": "2023-08-10T20:03:23.129624Z",
     "shell.execute_reply": "2023-08-10T20:03:23.128351Z"
    },
    "papermill": {
     "duration": 0.142029,
     "end_time": "2023-08-10T20:03:23.131921",
     "exception": false,
     "start_time": "2023-08-10T20:03:22.989892",
     "status": "completed"
    },
    "tags": []
   },
   "outputs": [
    {
     "name": "stdout",
     "output_type": "stream",
     "text": [
      "170659\n"
     ]
    }
   ],
   "source": [
    "common_1_2_3_grams = common_unigrams | common_bigrams | common_trigrams\n",
    "print(len(common_1_2_3_grams))\n",
    "# sorted((common_1_2_3_grams))"
   ]
  },
  {
   "cell_type": "markdown",
   "id": "3e26af18",
   "metadata": {
    "papermill": {
     "duration": 0.103474,
     "end_time": "2023-08-10T20:03:23.340076",
     "exception": false,
     "start_time": "2023-08-10T20:03:23.236602",
     "status": "completed"
    },
    "tags": []
   },
   "source": [
    "## Submit_v4 for merged file models  "
   ]
  },
  {
   "cell_type": "markdown",
   "id": "f8e578c5",
   "metadata": {
    "papermill": {
     "duration": 0.102985,
     "end_time": "2023-08-10T20:03:23.546805",
     "exception": false,
     "start_time": "2023-08-10T20:03:23.443820",
     "status": "completed"
    },
    "tags": []
   },
   "source": [
    "### More Helper functions  "
   ]
  },
  {
   "cell_type": "code",
   "execution_count": 94,
   "id": "41ea53fe",
   "metadata": {
    "execution": {
     "iopub.execute_input": "2023-08-10T20:03:23.826869Z",
     "iopub.status.busy": "2023-08-10T20:03:23.826404Z",
     "iopub.status.idle": "2023-08-10T20:03:23.833933Z",
     "shell.execute_reply": "2023-08-10T20:03:23.832906Z"
    },
    "papermill": {
     "duration": 0.184074,
     "end_time": "2023-08-10T20:03:23.836375",
     "exception": false,
     "start_time": "2023-08-10T20:03:23.652301",
     "status": "completed"
    },
    "tags": []
   },
   "outputs": [],
   "source": [
    "# Testing predictions on missing reviewtext columns  \n",
    "\n",
    "def predict_on_missing_review_data(pipe, selected_features, merged_train):\n",
    "    missing_reviews_train = merged_train.loc[merged_train['reviewYN'] == 1]\n",
    "    missing_reviews_train.reset_index(drop=True)\n",
    "    X_train_miss_revs = missing_reviews_train.drop('sentiment', axis = 1)\n",
    "    X_train_miss_revs = X_train_miss_revs[selected_features]\n",
    "    y_train_miss_revs = missing_reviews_train['sentiment']\n",
    "    \n",
    "    y_pred_miss_revs = pipe.predict(X_train_miss_revs)\n",
    "#     print('Predictions on rows which had missing reviewText')\n",
    "    print(\"Confusion matrix and f1-score for rows which have no reviewText in X_train: \")\n",
    "    print(confusion_matrix(y_train_miss_revs, y_pred_miss_revs, labels=pipe.classes_))\n",
    "    \n",
    "    return f1_score(y_train_miss_revs, y_pred_miss_revs, average='micro')"
   ]
  },
  {
   "cell_type": "code",
   "execution_count": 95,
   "id": "41abf38b",
   "metadata": {
    "execution": {
     "iopub.execute_input": "2023-08-10T20:03:24.051151Z",
     "iopub.status.busy": "2023-08-10T20:03:24.050645Z",
     "iopub.status.idle": "2023-08-10T20:03:24.113922Z",
     "shell.execute_reply": "2023-08-10T20:03:24.112586Z"
    },
    "papermill": {
     "duration": 0.172191,
     "end_time": "2023-08-10T20:03:24.116835",
     "exception": false,
     "start_time": "2023-08-10T20:03:23.944644",
     "status": "completed"
    },
    "tags": []
   },
   "outputs": [],
   "source": [
    "# Function to build pipelines for GridSearchCV which goes into the final 'submit' function  \n",
    "def build_pipeline(selected_model=LogisticRegression(), \n",
    "                   selected_features={'txt': ['reviewText']}, \n",
    "                   param_grid=None,\n",
    "                   vocab=None,\n",
    "                   vocab_usage='tfidf',\n",
    "                   strip_accents='unicode', \n",
    "                   add_countvec=False):\n",
    "    # Encoders  \n",
    "    ohe = OneHotEncoder(sparse_output=False, handle_unknown='ignore')\n",
    "    MMscaler = MinMaxScaler()\n",
    "    StdScaler = StandardScaler()\n",
    "    RobScaler = RobustScaler()\n",
    "    \n",
    "    # Text features ['reviewText', 'reviewerName', 'movieid', 'genre', 'director']\n",
    "    tfidf_vec = TfidfVectorizer(ngram_range=(1,2))\n",
    "    count_vec = CountVectorizer(ngram_range=(1,2))\n",
    "    txt_pipe = Pipeline(steps=[\n",
    "                            (\"tvec\", TfidfVectorizer(ngram_range=(1,3), strip_accents=strip_accents))    # Adjust ngram_range here for reviewText\n",
    "                        ])\n",
    "    txt_pipe_vocab = Pipeline(steps=[\n",
    "                            (\"tvec\", TfidfVectorizer(ngram_range=(1,3), strip_accents=strip_accents, vocabulary=vocab))    # Adjust ngram_range here for reviewText\n",
    "                        ])\n",
    "    txt_pipe_2 = Pipeline(steps=[\n",
    "                            (\"tvec\", TfidfVectorizer(ngram_range=(2,2)))\n",
    "                        ])\n",
    "    txt_pipe_3 = Pipeline(steps=[\n",
    "                            (\"tvec\", TfidfVectorizer(ngram_range=(1,1)))\n",
    "                        ])\n",
    "    txt_pipe_4 = Pipeline(steps=[\n",
    "                            (\"tvec\", TfidfVectorizer(ngram_range=(1,3)))    # Adjust ngram_range here for reviewText\n",
    "                        ])\n",
    "    txt_pipe_title  = Pipeline(steps=[\n",
    "                            (\"tvec\", TfidfVectorizer(ngram_range=(1,5)))    # Adjust ngram_range here for reviewText\n",
    "                        ])\n",
    "    \n",
    "    # Additional pipes for count vectorizer\n",
    "    txt_pipe_countvec = Pipeline(steps=[\n",
    "                            (\"cvec\", CountVectorizer(ngram_range=(1,3), strip_accents=strip_accents))    # Adjust ngram_range here for reviewText\n",
    "                        ])\n",
    "    txt_pipe_countvec_vocab = Pipeline(steps=[\n",
    "                            (\"cvec\", CountVectorizer(ngram_range=(1,3), strip_accents=strip_accents, vocabulary=vocab))    # Adjust ngram_range here for reviewText\n",
    "                        ])\n",
    "    \n",
    "    txt_pipe_countvec_ratingContents = Pipeline(steps=[\n",
    "                            (\"cvec\", CountVectorizer(ngram_range=(1,5)))    # Adjust ngram_range here for reviewText\n",
    "                        ])\n",
    "    txt_pipe_countvec_rcSorted = Pipeline(steps=[\n",
    "                            (\"cvec\", CountVectorizer(ngram_range=(1,1)))    # Adjust ngram_range here for reviewText\n",
    "                        ])\n",
    "    txt_pipe_countvec_genre = Pipeline(steps=[\n",
    "                            (\"cvec\", CountVectorizer(ngram_range=(1,1)))\n",
    "                        ])\n",
    "    txt_pipe_countvec_genreSorted = Pipeline(steps=[\n",
    "                            (\"cvec\", CountVectorizer(ngram_range=(1,5)))\n",
    "                        ])\n",
    "    txt_pipe_countvec_distributor = Pipeline(steps=[\n",
    "                            (\"cvec\", CountVectorizer(ngram_range=(1,3)))    # Adjust ngram_range here for reviewText\n",
    "                        ])\n",
    "    txt_pipe_countvec_title = Pipeline(steps=[\n",
    "                            (\"cvec\", CountVectorizer(ngram_range=(1,5), strip_accents=strip_accents))\n",
    "                        ])\n",
    "    txt_pipe_countvec_movieid = Pipeline(steps=[\n",
    "                            (\"cvec\", CountVectorizer(ngram_range=(1,1)))\n",
    "                        ])\n",
    "    # Basic pipes  \n",
    "    TFs = []\n",
    "    try:\n",
    "        for c in selected_features['cat']:\n",
    "            TFs.append((f\"cat_{c}\", ohe, [c]))\n",
    "    except:\n",
    "        pass\n",
    "    try:\n",
    "        for n in selected_features['num']:\n",
    "            if n in [\"runtimeMinutes\", \"boxOffice\", \"releaseDiff\"]:\n",
    "                TFs.append((f\"num_{n}\", RobScaler, [n]))\n",
    "                TFs.append((f\"num_{n}_ss\", StdScaler, [n]))\n",
    "                \n",
    "            else:\n",
    "                TFs.append((f\"num_{n}\", StdScaler, [n]))\n",
    "    except:\n",
    "        pass\n",
    "    try:\n",
    "        for t in selected_features['txt']:\n",
    "            if t in ['director', 'reviewerName']:\n",
    "                TFs.append((f\"txt_{t}\", txt_pipe_2, t))\n",
    "            elif t in [\"originalLanguage\", \"releaseYear\"]:\n",
    "                TFs.append((f\"txt_{t}\", txt_pipe_3, t))\n",
    "            elif t in ['genre']:\n",
    "                TFs.append((f\"txt_{t}\", txt_pipe_countvec_genre, t))\n",
    "            elif t in [\"genreSorted\"]:\n",
    "                TFs.append((f\"txt_{t}\", txt_pipe_countvec_genreSorted, t))\n",
    "            elif t in [\"distributor\"]:\n",
    "                TFs.append((f\"txt_{t}\", txt_pipe_countvec_distributor, t))\n",
    "            elif t in ['reviewText']:\n",
    "#                 if vocab and (vocab_usage in [\"tfidf\", \"both\"]):\n",
    "#                     txt_pipe.set_params(tvec__vocabulary=vocab)\n",
    "#                     txt_pipe.set_params(tvec__stop_words='english')\n",
    "                TFs.append((f\"txt_{t}\", txt_pipe, t))\n",
    "            elif t in ['reviewText_2']:\n",
    "                if add_countvec:\n",
    "#                     if vocab and (vocab_usage in [\"count\", \"both\"]):\n",
    "#                         txt_pipe_countvec.set_params(cvec__vocabulary=vocab)\n",
    "#                         txt_pipe_countvec.set_params(cvec__stop_words='english')\n",
    "                    TFs.append((f\"txt_{t}\", txt_pipe_countvec, t))\n",
    "            elif t in ['reviewText_3']:\n",
    "                if vocab_usage == 'tfidf':\n",
    "                    TFs.append((f\"txt_{t}\", txt_pipe_vocab, t))\n",
    "                elif vocab_usage == 'count':\n",
    "                    TFs.append((f\"txt_{t}\", txt_pipe_countvec_vocab, t))\n",
    "            elif t in [\"ratingContents\"]:\n",
    "                TFs.append((f\"txt_{t}\", txt_pipe_countvec_ratingContents, t))\n",
    "            elif t in [\"rcSorted\"]:\n",
    "                TFs.append((f\"txt_{t}\", txt_pipe_countvec_rcSorted, t))\n",
    "            elif t in [\"title\"]:\n",
    "                TFs.append((f\"txt_{t}\", txt_pipe_title, t))\n",
    "            elif t in [\"movieid\"]:\n",
    "                TFs.append((f\"txt_{t}\", txt_pipe_countvec_movieid, t))\n",
    "            else:\n",
    "                pass\n",
    "    except:\n",
    "        pass\n",
    "\n",
    "    # Build ColumnTransformer  \n",
    "    ct = ColumnTransformer(transformers=TFs, remainder='drop')\n",
    "\n",
    "    # Build Pipeline\n",
    "    pipe = Pipeline(steps=[('ct', ct), ('model', selected_model)])\n",
    "    print(\"\\nPipeline built successfully.\")\n",
    "\n",
    "    # Use the pipe in GridSearchCV\n",
    "    if param_grid == None:\n",
    "        param_grid_temp = {\"model__C\": [1],\n",
    "                     'model__solver': ['liblinear']}\n",
    "        print(\"Full GridSearchCV pipeline built successfully with basic default param_grid.\\n\")\n",
    "        pipeCV = GridSearchCV(pipe, param_grid_temp, cv=10, scoring=\"f1_micro\", n_jobs=-1)\n",
    "        return pipeCV\n",
    "    \n",
    "    # GridSearchCV if param_grid provided\n",
    "    if param_grid:\n",
    "        pipeCV = GridSearchCV(pipe, param_grid, cv=10, scoring=\"f1_micro\", n_jobs=-1)\n",
    "        print(\"\\nFull GridSearchCV pipeline built successfully.\")\n",
    "        return pipeCV"
   ]
  },
  {
   "cell_type": "code",
   "execution_count": 96,
   "id": "416565b7",
   "metadata": {
    "execution": {
     "iopub.execute_input": "2023-08-10T20:03:24.326998Z",
     "iopub.status.busy": "2023-08-10T20:03:24.326551Z",
     "iopub.status.idle": "2023-08-10T20:03:24.336581Z",
     "shell.execute_reply": "2023-08-10T20:03:24.335496Z"
    },
    "papermill": {
     "duration": 0.117744,
     "end_time": "2023-08-10T20:03:24.339133",
     "exception": false,
     "start_time": "2023-08-10T20:03:24.221389",
     "status": "completed"
    },
    "tags": []
   },
   "outputs": [],
   "source": [
    "def preprocessor():\n",
    "    \n",
    "    # Merge and preprocess train and movies data  \n",
    "    merged = select_features(load_csv(\"train\"), load_csv(\"movies\"), row_thresh_null=None)    # Decide if you want to drop any rows containing lot of nulls\n",
    "    # Impute missing numerical values  \n",
    "    # Simple Imputer for ['audienceScore', 'runtimeMinutes', 'boxOffice'] and 'releaseDate' columns\n",
    "    si = SimpleImputer(strategy='median')\n",
    "    merged[['audienceScore', 'runtimeMinutes', 'boxOffice']] = si.fit_transform(merged[['audienceScore', 'runtimeMinutes', 'boxOffice']])\n",
    "    merged['releaseDate'] = merged[\"releaseDate\"].fillna(merged[\"releaseDate\"].median())    \n",
    "\n",
    "    # Check1 (preprocessor)\n",
    "    print(\"\\nCheck 1 (preprocessor) complete.\")\n",
    "    print(f\"Shape of X_train: {merged.shape}\")\n",
    "    print(f\"Features in X_train: {merged.columns}\")\n",
    "\n",
    "\n",
    "    # Merge and preprocess test and movies data  \n",
    "    merged_test = select_features(load_csv(\"test\"), load_csv(\"movies\"))\n",
    "    # Transform ['audienceScore', 'runtimeMinutes', 'boxOffice'] columns in merged_test using 'si' fitted on 'merged' df  \n",
    "    merged_test[['audienceScore', 'runtimeMinutes', 'boxOffice']] = si.transform(merged_test[['audienceScore', 'runtimeMinutes', 'boxOffice']])\n",
    "    # Fill 'releaseDate' column in 'merged_test' df with median from the train (merged) df  \n",
    "    merged_test['releaseDate'] = merged_test[\"releaseDate\"].fillna(merged[\"releaseDate\"].median())\n",
    "\n",
    "    \n",
    "    # Check2 (preprocessor)\n",
    "    print(\"\\nCheck 2 (preprocessor) complete.\")\n",
    "    print(f\"Shape of X_test: {merged_test.shape}\")\n",
    "    print(f\"Features in X_test: {merged_test.columns}\")\n",
    "\n",
    "    return merged, merged_test\n",
    "    "
   ]
  },
  {
   "cell_type": "code",
   "execution_count": 97,
   "id": "ba3d5803",
   "metadata": {
    "execution": {
     "iopub.execute_input": "2023-08-10T20:03:24.548674Z",
     "iopub.status.busy": "2023-08-10T20:03:24.548216Z",
     "iopub.status.idle": "2023-08-10T20:03:24.554042Z",
     "shell.execute_reply": "2023-08-10T20:03:24.552608Z"
    },
    "papermill": {
     "duration": 0.1151,
     "end_time": "2023-08-10T20:03:24.556926",
     "exception": false,
     "start_time": "2023-08-10T20:03:24.441826",
     "status": "completed"
    },
    "tags": []
   },
   "outputs": [],
   "source": [
    "# merged, merged_test = preprocessor()\n",
    "# merged.shape, merged_test.shape"
   ]
  },
  {
   "cell_type": "code",
   "execution_count": 98,
   "id": "ce3e7b66",
   "metadata": {
    "execution": {
     "iopub.execute_input": "2023-08-10T20:03:24.769397Z",
     "iopub.status.busy": "2023-08-10T20:03:24.768954Z",
     "iopub.status.idle": "2023-08-10T20:03:24.792425Z",
     "shell.execute_reply": "2023-08-10T20:03:24.791147Z"
    },
    "papermill": {
     "duration": 0.133478,
     "end_time": "2023-08-10T20:03:24.795139",
     "exception": false,
     "start_time": "2023-08-10T20:03:24.661661",
     "status": "completed"
    },
    "tags": []
   },
   "outputs": [],
   "source": [
    "def submit_v5(classifiers= [\n",
    "                {'selected_model' : LogisticRegression(C=1, solver='saga', max_iter=100000), \n",
    "                  'selected_features' : {'num': ['audienceScore']}, \n",
    "                  'param_grid' : None,\n",
    "                  'vocab' : None,\n",
    "                  'vocab_usage' : 'tfidf',\n",
    "                  'strip_accents' : 'unicode', \n",
    "                  'add_countvec' : False}\n",
    "              ]):\n",
    "    \n",
    "    \"\"\"Takes a list of dictionaries each with same keys as mentioned in the default dictionary in function definition\"\"\"\n",
    "    \n",
    "    print(\"\\nRunning the submit_v5 function...\")\n",
    "    \n",
    "    merged, merged_test = preprocessor()\n",
    "    \n",
    "    estimators = []     # List of tuples of the form ('classifier_name', 'classifer_instance')\n",
    "    \n",
    "    # Build a dataframe of predictions  \n",
    "    predictions_df = pd.DataFrame()\n",
    "    \n",
    "    # Build a separate pipeline and fit it on selected features (and param_grid) for each item in classifiers list\n",
    "    for n, item in enumerate(classifiers, start=1):\n",
    "        selected_model = item['selected_model']\n",
    "        selected_features = item['selected_features']\n",
    "        param_grid = item['param_grid']\n",
    "        vocab = item['vocab']\n",
    "        vocab_usage = item['vocab_usage']\n",
    "        strip_accents = item['strip_accents']\n",
    "        add_countvec = item['add_countvec']\n",
    "    \n",
    "    \n",
    "        # Fine tune selected_features\n",
    "        if add_countvec:\n",
    "            if 'txt' in selected_features.keys():\n",
    "                if \"reviewText_2\" not in selected_features['txt']:\n",
    "                    selected_features['txt'].append('reviewText_2')\n",
    "        if vocab:\n",
    "            if 'txt' in selected_features.keys():\n",
    "                if \"reviewText_3\" not in selected_features['txt']:\n",
    "                    selected_features['txt'].append('reviewText_3')\n",
    "        print(f\"\\nSelected features: {selected_features}\")\n",
    "        \n",
    "        # Modify X_train for the given 'item' by creating a custom 'features' list\n",
    "        features = []\n",
    "        for item in selected_features.values():\n",
    "            features.extend(item)\n",
    "            \n",
    "        # Add new columns as needed  \n",
    "        if add_countvec:\n",
    "            merged['reviewText_2'] = merged['reviewText']\n",
    "        if vocab:\n",
    "            merged['reviewText_3'] = merged['reviewText']\n",
    "        \n",
    "        # Create X_tran, y_train\n",
    "        X_train = merged.drop(labels=\"sentiment\", axis=1)\n",
    "        y_train = merged[\"sentiment\"]\n",
    "        \n",
    "        X_train = merged[features].copy()\n",
    "\n",
    "\n",
    "        # Build Pipeline\n",
    "        pipe = build_pipeline(selected_model, selected_features, param_grid=param_grid, \n",
    "                              vocab=vocab, vocab_usage='tfidf', \n",
    "                              strip_accents=strip_accents, add_countvec=add_countvec)\n",
    "        print(pipe)\n",
    "\n",
    "        \n",
    "        # Fit \n",
    "        print(f\"\\nTraining started with full pipeline for classifier #{n}...\")\n",
    "        pipe.fit(X_train, y_train)\n",
    "        \n",
    "\n",
    "        # Check1\n",
    "        print(f\"\\nCheck #{n}.1 complete.\")\n",
    "        print(f\"Details of the best model using classifier #{n} (GridSearchCV) on X_train: \")\n",
    "        print(f\"Best Params: {pipe.best_params_}\")\n",
    "        print(f\"Best Score: {pipe.best_score_}\")\n",
    "        \n",
    "        print(predict_on_missing_review_data(pipe, features, merged))    # Function defined above\n",
    "        \n",
    "        estimators.append((f\"classifier_{n}\", pipe))\n",
    "        print(f\"classifier_{n} successfully added to 'estimators' list\")\n",
    "\n",
    "        \n",
    "        # Predict on test.csv file\n",
    "        # Add new columns as needed \n",
    "        if add_countvec:\n",
    "            merged_test['reviewText_2'] = merged_test['reviewText']\n",
    "        if vocab:\n",
    "            merged_test['reviewText_3'] = merged_test['reviewText']\n",
    "        \n",
    "               \n",
    "        X_test = merged_test[features].copy()\n",
    "\n",
    "    \n",
    "        y_pred = pipe.predict(X_test)\n",
    "        \n",
    "        # Insert predictions in 'predictions_df' dataframe\n",
    "        predictions_df.insert(n-1, f\"pred_{n}\", y_pred, allow_duplicates=False)\n",
    "        print(predictions_df.shape)\n",
    "        print(predictions_df.head(10))\n",
    "        \n",
    "    \n",
    "        # Check2\n",
    "        print(f\"\\nCheck #{n}.2 complete.\")\n",
    "    #     cv_results_df = pd.DataFrame(pipe.cv_results_)\n",
    "        print(\"Details of the best model using full pipeline (GridSearchCV) on X_train: \")\n",
    "#         print(f\"Best Estimator: {pipe.best_estimator_}\")\n",
    "        print(f\"Best Params: {pipe.best_params_}\")\n",
    "        print(f\"Best Score: {pipe.best_score_}\")\n",
    "#         print(f\"Best Index: {pipe.best_index_}\")\n",
    "        print(f\"Refit Time: {pipe.refit_time_}\")\n",
    "    #     print(f\"Shape of CV results dataframe: {cv_results_df.shape}\")\n",
    "    \n",
    "    # Voting classifier (custom) with hard voting\n",
    "    # Calculate the MODE for all predictions (Note that the 'predictions_df' generated above should have odd number of columns)\n",
    "    pred_df_final = predictions_df.mode('columns')\n",
    "    pred_df_final.columns = [\"sentiment\"]\n",
    "    pred_df_final.index.name = \"id\"\n",
    "    pred_df_final.to_csv(\"submission.csv\")\n",
    "    \n",
    "    print(\"\\nSuccessfully created the submission file!!!\")\n",
    "    \n",
    "#     return pipe.cv_results_\n",
    "    return pred_df_final, estimators"
   ]
  },
  {
   "cell_type": "markdown",
   "id": "34e8054a",
   "metadata": {
    "papermill": {
     "duration": 0.106153,
     "end_time": "2023-08-10T20:03:25.008921",
     "exception": false,
     "start_time": "2023-08-10T20:03:24.902768",
     "status": "completed"
    },
    "tags": []
   },
   "source": [
    "## Use 'submit_v5' function  "
   ]
  },
  {
   "cell_type": "code",
   "execution_count": 99,
   "id": "ed03a483",
   "metadata": {
    "execution": {
     "iopub.execute_input": "2023-08-10T20:03:25.221384Z",
     "iopub.status.busy": "2023-08-10T20:03:25.220977Z",
     "iopub.status.idle": "2023-08-10T20:03:25.225662Z",
     "shell.execute_reply": "2023-08-10T20:03:25.224337Z"
    },
    "papermill": {
     "duration": 0.11282,
     "end_time": "2023-08-10T20:03:25.228246",
     "exception": false,
     "start_time": "2023-08-10T20:03:25.115426",
     "status": "completed"
    },
    "tags": []
   },
   "outputs": [],
   "source": [
    "# Try submit_v5 with default settings\n",
    "# submit_v5()"
   ]
  },
  {
   "cell_type": "code",
   "execution_count": 100,
   "id": "99bd3e86",
   "metadata": {
    "execution": {
     "iopub.execute_input": "2023-08-10T20:03:25.440243Z",
     "iopub.status.busy": "2023-08-10T20:03:25.439857Z",
     "iopub.status.idle": "2023-08-10T20:14:33.476428Z",
     "shell.execute_reply": "2023-08-10T20:14:33.474946Z"
    },
    "papermill": {
     "duration": 668.250035,
     "end_time": "2023-08-10T20:14:33.583094",
     "exception": false,
     "start_time": "2023-08-10T20:03:25.333059",
     "status": "completed"
    },
    "tags": []
   },
   "outputs": [
    {
     "name": "stdout",
     "output_type": "stream",
     "text": [
      "\n",
      "Running the submit_v5 function...\n",
      "\n",
      "Check 1 (preprocessor) complete.\n",
      "Shape of X_train: (162758, 30)\n",
      "Features in X_train: Index(['movieid', 'reviewerName', 'isFrequentReviewer', 'reviewText',\n",
      "       'sentiment', 'title', 'audienceScore', 'rating', 'ratingContents',\n",
      "       'releaseDateTheaters', 'releaseDateStreaming', 'runtimeMinutes',\n",
      "       'genre', 'originalLanguage', 'director', 'boxOffice', 'distributor',\n",
      "       'soundType', 'reviewYN', 'reviewWC', 'genreSorted', 'rcSorted',\n",
      "       'releaseDate', 'releaseYear', 'releaseMonth', 'releaseDiff',\n",
      "       'audScoreBins', 'runtimeBins', 'boxOfficeBins', 'releaseDiffBins'],\n",
      "      dtype='object')\n",
      "\n",
      "Check 2 (preprocessor) complete.\n",
      "Shape of X_test: (55315, 29)\n",
      "Features in X_test: Index(['movieid', 'reviewerName', 'isFrequentReviewer', 'reviewText', 'title',\n",
      "       'audienceScore', 'rating', 'ratingContents', 'releaseDateTheaters',\n",
      "       'releaseDateStreaming', 'runtimeMinutes', 'genre', 'originalLanguage',\n",
      "       'director', 'boxOffice', 'distributor', 'soundType', 'reviewYN',\n",
      "       'reviewWC', 'genreSorted', 'rcSorted', 'releaseDate', 'releaseYear',\n",
      "       'releaseMonth', 'releaseDiff', 'audScoreBins', 'runtimeBins',\n",
      "       'boxOfficeBins', 'releaseDiffBins'],\n",
      "      dtype='object')\n",
      "\n",
      "Selected features: {'cat': ['isFrequentReviewer'], 'num': ['audienceScore', 'boxOffice', 'releaseDiff'], 'txt': ['reviewText', 'reviewerName', 'movieid', 'genre', 'director', 'ratingContents', 'distributor', 'reviewText_2', 'reviewText_3']}\n",
      "\n",
      "Pipeline built successfully.\n",
      "\n",
      "Full GridSearchCV pipeline built successfully.\n",
      "GridSearchCV(cv=10,\n",
      "             estimator=Pipeline(steps=[('ct',\n",
      "                                        ColumnTransformer(transformers=[('cat_isFrequentReviewer',\n",
      "                                                                         OneHotEncoder(handle_unknown='ignore',\n",
      "                                                                                       sparse_output=False),\n",
      "                                                                         ['isFrequentReviewer']),\n",
      "                                                                        ('num_audienceScore',\n",
      "                                                                         StandardScaler(),\n",
      "                                                                         ['audienceScore']),\n",
      "                                                                        ('num_boxOffice',\n",
      "                                                                         RobustScaler(),\n",
      "                                                                         ['boxOffice']),\n",
      "                                                                        ('num_boxOffice_ss',\n",
      "                                                                         StandardScaler(),\n",
      "                                                                         ['boxOffice']),\n",
      "                                                                        ('...\n",
      "                                                                                                                      'script',\n",
      "                                                                                                                      'aaron '\n",
      "                                                                                                                      'spelling',\n",
      "                                                                                                                      'aarp',\n",
      "                                                                                                                      'ab',\n",
      "                                                                                                                      'abandon',\n",
      "                                                                                                                      'abandoned',\n",
      "                                                                                                                      'abandoned '\n",
      "                                                                                                                      'good',\n",
      "                                                                                                                      'abandoning',\n",
      "                                                                                                                      'abandoning '\n",
      "                                                                                                                      'logic',\n",
      "                                                                                                                      'abandoning '\n",
      "                                                                                                                      'traditional',\n",
      "                                                                                                                      'abandonment',\n",
      "                                                                                                                      'abandonment '\n",
      "                                                                                                                      'adoption', ...}))]),\n",
      "                                                                         'reviewText_3')])),\n",
      "                                       ('model',\n",
      "                                        SGDClassifier(loss='log_loss',\n",
      "                                                      max_iter=1000000))]),\n",
      "             n_jobs=-1,\n",
      "             param_grid={'model__alpha': [0.0001], 'model__tol': [0.001]},\n",
      "             scoring='f1_micro')\n",
      "\n",
      "Training started with full pipeline for classifier #1...\n",
      "\n",
      "Check #1.1 complete.\n",
      "Details of the best model using classifier #1 (GridSearchCV) on X_train: \n",
      "Best Params: {'model__alpha': 0.0001, 'model__tol': 0.001}\n",
      "Best Score: 0.8371938330315121\n",
      "Confusion matrix and f1-score for rows which have no reviewText in X_train: \n",
      "[[1434  971]\n",
      " [ 678 3364]]\n",
      "0.7442221188149527\n",
      "classifier_1 successfully added to 'estimators' list\n",
      "(55315, 1)\n",
      "     pred_1\n",
      "0  POSITIVE\n",
      "1  POSITIVE\n",
      "2  POSITIVE\n",
      "3  POSITIVE\n",
      "4  POSITIVE\n",
      "5  POSITIVE\n",
      "6  POSITIVE\n",
      "7  NEGATIVE\n",
      "8  NEGATIVE\n",
      "9  NEGATIVE\n",
      "\n",
      "Check #1.2 complete.\n",
      "Details of the best model using full pipeline (GridSearchCV) on X_train: \n",
      "Best Params: {'model__alpha': 0.0001, 'model__tol': 0.001}\n",
      "Best Score: 0.8371938330315121\n",
      "Refit Time: 117.37466859817505\n",
      "\n",
      "Successfully created the submission file!!!\n"
     ]
    }
   ],
   "source": [
    "# Testing ONE classfier using submit_v5 function  \n",
    "\n",
    "# Feature dictionaries\n",
    "sfs = {'cat': ['isFrequentReviewer', 'rating'],\n",
    "       'num': [\"audienceScore\", \"runtimeMinutes\", \"boxOffice\"]}\n",
    "\n",
    "sf_best = {'cat': ['isFrequentReviewer'],\n",
    "            'num': [\"audienceScore\", \"boxOffice\", 'releaseDiff'],\n",
    "            'txt': ['reviewText', 'reviewerName', 'movieid', 'genre', 'director', \n",
    "                         'ratingContents', 'distributor']}\n",
    "\n",
    "# Classifiers\n",
    "classifiers= [\n",
    "                {'selected_model' : SGDClassifier(loss='log_loss', max_iter=1000000), \n",
    "                  'selected_features' : sf_best, \n",
    "                  'param_grid' : {\"model__alpha\": [0.0001], \n",
    "                                  'model__tol': [0.001]},\n",
    "                  'vocab' : common_1_2_3_grams,\n",
    "                  'vocab_usage' : 'tfidf',\n",
    "                  'strip_accents' : 'unicode', \n",
    "                  'add_countvec' : True},\n",
    "            ]\n",
    "\n",
    "# classifiers= [\n",
    "#                 {'selected_model' : LogisticRegression(C=1, solver='saga', max_iter=100000), \n",
    "#                   'selected_features' : {'txt': [\"reviewText\"]}, \n",
    "#                   'param_grid' : {\"model__C\": [1], \n",
    "#                                   'model__solver': ['saga']},\n",
    "#                   'vocab' : None,\n",
    "#                   'vocab_usage' : 'tfidf',\n",
    "#                   'strip_accents' : 'unicode', \n",
    "#                   'add_countvec' : False},\n",
    "#             ]\n",
    "\n",
    "pred_df, estimators = submit_v5(classifiers=classifiers)"
   ]
  },
  {
   "cell_type": "code",
   "execution_count": 101,
   "id": "ac024f43",
   "metadata": {
    "execution": {
     "iopub.execute_input": "2023-08-10T20:14:33.794253Z",
     "iopub.status.busy": "2023-08-10T20:14:33.793848Z",
     "iopub.status.idle": "2023-08-10T20:14:33.801778Z",
     "shell.execute_reply": "2023-08-10T20:14:33.800521Z"
    },
    "papermill": {
     "duration": 0.115628,
     "end_time": "2023-08-10T20:14:33.803938",
     "exception": false,
     "start_time": "2023-08-10T20:14:33.688310",
     "status": "completed"
    },
    "tags": []
   },
   "outputs": [
    {
     "name": "stdout",
     "output_type": "stream",
     "text": [
      "(55315, 1)\n",
      "   sentiment\n",
      "id          \n",
      "0   POSITIVE\n",
      "1   POSITIVE\n",
      "2   POSITIVE\n",
      "3   POSITIVE\n",
      "4   POSITIVE\n"
     ]
    }
   ],
   "source": [
    "print(pred_df.shape)\n",
    "print(pred_df.head())"
   ]
  },
  {
   "cell_type": "code",
   "execution_count": 102,
   "id": "f615789c",
   "metadata": {
    "execution": {
     "iopub.execute_input": "2023-08-10T20:14:34.015720Z",
     "iopub.status.busy": "2023-08-10T20:14:34.015233Z",
     "iopub.status.idle": "2023-08-10T20:14:34.020059Z",
     "shell.execute_reply": "2023-08-10T20:14:34.019025Z"
    },
    "papermill": {
     "duration": 0.114699,
     "end_time": "2023-08-10T20:14:34.022416",
     "exception": false,
     "start_time": "2023-08-10T20:14:33.907717",
     "status": "completed"
    },
    "tags": []
   },
   "outputs": [],
   "source": [
    "# estimators"
   ]
  },
  {
   "cell_type": "code",
   "execution_count": 103,
   "id": "080fb345",
   "metadata": {
    "execution": {
     "iopub.execute_input": "2023-08-10T20:14:34.231564Z",
     "iopub.status.busy": "2023-08-10T20:14:34.231127Z",
     "iopub.status.idle": "2023-08-10T20:14:52.991396Z",
     "shell.execute_reply": "2023-08-10T20:14:52.988688Z"
    },
    "papermill": {
     "duration": 18.868608,
     "end_time": "2023-08-10T20:14:52.994391",
     "exception": false,
     "start_time": "2023-08-10T20:14:34.125783",
     "status": "completed"
    },
    "tags": []
   },
   "outputs": [
    {
     "name": "stdout",
     "output_type": "stream",
     "text": [
      "Number of estimators: 1\n",
      "\n",
      "Estimator: classifier_1\n",
      "Pipeline(steps=[('ct',\n",
      "                 ColumnTransformer(transformers=[('cat_isFrequentReviewer',\n",
      "                                                  OneHotEncoder(handle_unknown='ignore',\n",
      "                                                                sparse_output=False),\n",
      "                                                  ['isFrequentReviewer']),\n",
      "                                                 ('num_audienceScore',\n",
      "                                                  StandardScaler(),\n",
      "                                                  ['audienceScore']),\n",
      "                                                 ('num_boxOffice',\n",
      "                                                  RobustScaler(),\n",
      "                                                  ['boxOffice']),\n",
      "                                                 ('num_boxOffice_ss',\n",
      "                                                  StandardScaler(),\n",
      "                                                  ['boxOffice']),\n",
      "                                                 ('num_releaseDiff',\n",
      "                                                  RobustScaler...\n",
      "                                                                                               'seltzer',\n",
      "                                                                                               'aaron '\n",
      "                                                                                               'sorkin',\n",
      "                                                                                               'aaron '\n",
      "                                                                                               'sorkin '\n",
      "                                                                                               'movie',\n",
      "                                                                                               'aaron '\n",
      "                                                                                               'sorkin '\n",
      "                                                                                               'ricardos',\n",
      "                                                                                               'aaron '\n",
      "                                                                                               'sorkin '\n",
      "                                                                                               'script',\n",
      "                                                                                               'aaron '\n",
      "                                                                                               'spelling',\n",
      "                                                                                               'aarp',\n",
      "                                                                                               'ab',\n",
      "                                                                                               'abandon',\n",
      "                                                                                               'abandoned',\n",
      "                                                                                               'abandoned '\n",
      "                                                                                               'good',\n",
      "                                                                                               'abandoning',\n",
      "                                                                                               'abandoning '\n",
      "                                                                                               'logic',\n",
      "                                                                                               'abandoning '\n",
      "                                                                                               'traditional',\n",
      "                                                                                               'abandonment',\n",
      "                                                                                               'abandonment '\n",
      "                                                                                               'adoption', ...}))]),\n",
      "                                                  'reviewText_3')])),\n",
      "                ('model', SGDClassifier(loss='log_loss', max_iter=1000000))])\n",
      "{'model__alpha': 0.0001, 'model__tol': 0.001}\n",
      "0.8371938330315121\n",
      "117.37466859817505\n",
      "\n"
     ]
    }
   ],
   "source": [
    "print(f\"Number of estimators: {len(estimators)}\\n\")\n",
    "for est in estimators:\n",
    "    print(f\"Estimator: {est[0]}\")\n",
    "    print(est[1].best_estimator_)\n",
    "    print(est[1].best_params_)\n",
    "    print(est[1].best_score_)\n",
    "    print(est[1].refit_time_)\n",
    "    print()"
   ]
  },
  {
   "cell_type": "code",
   "execution_count": 104,
   "id": "a0503489",
   "metadata": {
    "execution": {
     "iopub.execute_input": "2023-08-10T20:14:53.206604Z",
     "iopub.status.busy": "2023-08-10T20:14:53.206216Z",
     "iopub.status.idle": "2023-08-10T20:14:53.213181Z",
     "shell.execute_reply": "2023-08-10T20:14:53.212037Z"
    },
    "papermill": {
     "duration": 0.115959,
     "end_time": "2023-08-10T20:14:53.215676",
     "exception": false,
     "start_time": "2023-08-10T20:14:53.099717",
     "status": "completed"
    },
    "tags": []
   },
   "outputs": [],
   "source": [
    "# Testing full capabilites of submit_v5  \n",
    "\n",
    "# # Feature dictionaries\n",
    "# sf1 = {'cat': ['isFrequentReviewer', 'rating'],\n",
    "#        'num': [\"audienceScore\", \"runtimeMinutes\", \"boxOffice\"]}\n",
    "\n",
    "# sf2 = {'cat': ['isFrequentReviewer', 'rating'],\n",
    "#        'num': [\"audienceScore\", \"runtimeMinutes\", \"boxOffice\"]}\n",
    "\n",
    "# sf3 = {'cat': ['isFrequentReviewer'],\n",
    "#         'num': ['releaseDiff', 'audienceScore', 'boxOffice'],\n",
    "#         'txt': ['reviewText', 'reviewerName', 'movieid', 'genre', 'director', \n",
    "#                          'ratingContents', 'distributor']}\n",
    "\n",
    "# # Individual classifiers\n",
    "# clf1 =  {'selected_model' : AdaBoostClassifier(), \n",
    "#           'selected_features' : sf1, \n",
    "#           'param_grid' : {\"model__n_estimators\": [50]},\n",
    "#           'vocab' : None,\n",
    "#           'vocab_usage' : 'tfidf',\n",
    "#           'strip_accents' : 'unicode', \n",
    "#           'add_countvec' : False}\n",
    "\n",
    "# clf2 =  {'selected_model' : RandomForestClassifier(), \n",
    "#           'selected_features' : sf2,\n",
    "#           'param_grid' : {\"model__n_estimators\": [50], \n",
    "#                           'model__criterion': ['gini']},\n",
    "#           'vocab' : None,\n",
    "#           'vocab_usage' : 'tfidf',\n",
    "#           'strip_accents' : 'unicode', \n",
    "#           'add_countvec' : False}\n",
    "\n",
    "# clf3 =  {'selected_model' : LogisticRegression(C=1, solver='saga', max_iter=100000), \n",
    "#           'selected_features' : sf3, \n",
    "#           'param_grid' : {'model__C' : [1],\n",
    "#                             'model__solver': ['saga'],\n",
    "#                             \"model__fit_intercept\" : [True],\n",
    "#                             \"model__dual\" : [False]},\n",
    "#           'vocab' : None,\n",
    "#           'vocab_usage' : 'tfidf',\n",
    "#           'strip_accents' : 'unicode', \n",
    "#           'add_countvec' : True}\n",
    "\n",
    "\n",
    "# # List of classifiers for voting\n",
    "# classifiers= [clf1, clf2, clf3]\n",
    "\n",
    "# # Final predictions \n",
    "# pred_df = submit_v5(classifiers=classifiers)"
   ]
  },
  {
   "cell_type": "code",
   "execution_count": 105,
   "id": "537e34db",
   "metadata": {
    "execution": {
     "iopub.execute_input": "2023-08-10T20:14:53.429482Z",
     "iopub.status.busy": "2023-08-10T20:14:53.429032Z",
     "iopub.status.idle": "2023-08-10T20:14:53.443295Z",
     "shell.execute_reply": "2023-08-10T20:14:53.442001Z"
    },
    "papermill": {
     "duration": 0.125182,
     "end_time": "2023-08-10T20:14:53.445702",
     "exception": false,
     "start_time": "2023-08-10T20:14:53.320520",
     "status": "completed"
    },
    "tags": []
   },
   "outputs": [
    {
     "name": "stdout",
     "output_type": "stream",
     "text": [
      "(55315, 1)\n"
     ]
    },
    {
     "data": {
      "text/html": [
       "<div>\n",
       "<style scoped>\n",
       "    .dataframe tbody tr th:only-of-type {\n",
       "        vertical-align: middle;\n",
       "    }\n",
       "\n",
       "    .dataframe tbody tr th {\n",
       "        vertical-align: top;\n",
       "    }\n",
       "\n",
       "    .dataframe thead th {\n",
       "        text-align: right;\n",
       "    }\n",
       "</style>\n",
       "<table border=\"1\" class=\"dataframe\">\n",
       "  <thead>\n",
       "    <tr style=\"text-align: right;\">\n",
       "      <th></th>\n",
       "      <th>sentiment</th>\n",
       "    </tr>\n",
       "    <tr>\n",
       "      <th>id</th>\n",
       "      <th></th>\n",
       "    </tr>\n",
       "  </thead>\n",
       "  <tbody>\n",
       "    <tr>\n",
       "      <th>0</th>\n",
       "      <td>POSITIVE</td>\n",
       "    </tr>\n",
       "    <tr>\n",
       "      <th>1</th>\n",
       "      <td>POSITIVE</td>\n",
       "    </tr>\n",
       "    <tr>\n",
       "      <th>2</th>\n",
       "      <td>POSITIVE</td>\n",
       "    </tr>\n",
       "    <tr>\n",
       "      <th>3</th>\n",
       "      <td>POSITIVE</td>\n",
       "    </tr>\n",
       "    <tr>\n",
       "      <th>4</th>\n",
       "      <td>POSITIVE</td>\n",
       "    </tr>\n",
       "    <tr>\n",
       "      <th>...</th>\n",
       "      <td>...</td>\n",
       "    </tr>\n",
       "    <tr>\n",
       "      <th>55310</th>\n",
       "      <td>POSITIVE</td>\n",
       "    </tr>\n",
       "    <tr>\n",
       "      <th>55311</th>\n",
       "      <td>POSITIVE</td>\n",
       "    </tr>\n",
       "    <tr>\n",
       "      <th>55312</th>\n",
       "      <td>NEGATIVE</td>\n",
       "    </tr>\n",
       "    <tr>\n",
       "      <th>55313</th>\n",
       "      <td>POSITIVE</td>\n",
       "    </tr>\n",
       "    <tr>\n",
       "      <th>55314</th>\n",
       "      <td>NEGATIVE</td>\n",
       "    </tr>\n",
       "  </tbody>\n",
       "</table>\n",
       "<p>55315 rows × 1 columns</p>\n",
       "</div>"
      ],
      "text/plain": [
       "      sentiment\n",
       "id             \n",
       "0      POSITIVE\n",
       "1      POSITIVE\n",
       "2      POSITIVE\n",
       "3      POSITIVE\n",
       "4      POSITIVE\n",
       "...         ...\n",
       "55310  POSITIVE\n",
       "55311  POSITIVE\n",
       "55312  NEGATIVE\n",
       "55313  POSITIVE\n",
       "55314  NEGATIVE\n",
       "\n",
       "[55315 rows x 1 columns]"
      ]
     },
     "execution_count": 105,
     "metadata": {},
     "output_type": "execute_result"
    }
   ],
   "source": [
    "print(pred_df.shape)\n",
    "pred_df"
   ]
  },
  {
   "cell_type": "code",
   "execution_count": 106,
   "id": "122673b9",
   "metadata": {
    "execution": {
     "iopub.execute_input": "2023-08-10T20:14:53.658258Z",
     "iopub.status.busy": "2023-08-10T20:14:53.657461Z",
     "iopub.status.idle": "2023-08-10T20:14:53.662926Z",
     "shell.execute_reply": "2023-08-10T20:14:53.661718Z"
    },
    "papermill": {
     "duration": 0.115374,
     "end_time": "2023-08-10T20:14:53.665556",
     "exception": false,
     "start_time": "2023-08-10T20:14:53.550182",
     "status": "completed"
    },
    "tags": []
   },
   "outputs": [],
   "source": [
    "# pred_df_mode = pred_df.mode(axis='columns')\n",
    "# print(pred_df_mode.shape)\n",
    "# pred_df_mode"
   ]
  },
  {
   "cell_type": "code",
   "execution_count": 107,
   "id": "49154354",
   "metadata": {
    "execution": {
     "iopub.execute_input": "2023-08-10T20:14:53.879247Z",
     "iopub.status.busy": "2023-08-10T20:14:53.878848Z",
     "iopub.status.idle": "2023-08-10T20:14:53.895564Z",
     "shell.execute_reply": "2023-08-10T20:14:53.894470Z"
    },
    "papermill": {
     "duration": 0.127557,
     "end_time": "2023-08-10T20:14:53.898022",
     "exception": false,
     "start_time": "2023-08-10T20:14:53.770465",
     "status": "completed"
    },
    "tags": []
   },
   "outputs": [
    {
     "data": {
      "text/plain": [
       "sentiment\n",
       "POSITIVE     39061\n",
       "NEGATIVE     16254\n",
       "dtype: int64"
      ]
     },
     "execution_count": 107,
     "metadata": {},
     "output_type": "execute_result"
    }
   ],
   "source": [
    "pred_df.value_counts()"
   ]
  },
  {
   "cell_type": "markdown",
   "id": "af288fca",
   "metadata": {
    "papermill": {
     "duration": 0.105396,
     "end_time": "2023-08-10T20:14:54.110637",
     "exception": false,
     "start_time": "2023-08-10T20:14:54.005241",
     "status": "completed"
    },
    "tags": []
   },
   "source": [
    "# NOTE: Move submit_v4 submissions below the suubmit_v4 function  "
   ]
  },
  {
   "cell_type": "code",
   "execution_count": 108,
   "id": "5dd6e269",
   "metadata": {
    "execution": {
     "iopub.execute_input": "2023-08-10T20:14:54.324878Z",
     "iopub.status.busy": "2023-08-10T20:14:54.324463Z",
     "iopub.status.idle": "2023-08-10T20:14:54.329671Z",
     "shell.execute_reply": "2023-08-10T20:14:54.328456Z"
    },
    "papermill": {
     "duration": 0.115716,
     "end_time": "2023-08-10T20:14:54.332161",
     "exception": false,
     "start_time": "2023-08-10T20:14:54.216445",
     "status": "completed"
    },
    "tags": []
   },
   "outputs": [],
   "source": [
    "# Try 'submit_v4' function with default params (LogisticRegression model)  \n",
    "\n",
    "# submit_v4()\n",
    "\n",
    "#Default params to this function gave a score of 0.8259 - improvement over previous score of 0.82563!"
   ]
  },
  {
   "cell_type": "code",
   "execution_count": 109,
   "id": "b51e0f55",
   "metadata": {
    "execution": {
     "iopub.execute_input": "2023-08-10T20:14:54.549247Z",
     "iopub.status.busy": "2023-08-10T20:14:54.548804Z",
     "iopub.status.idle": "2023-08-10T20:14:54.553754Z",
     "shell.execute_reply": "2023-08-10T20:14:54.552525Z"
    },
    "papermill": {
     "duration": 0.115567,
     "end_time": "2023-08-10T20:14:54.556056",
     "exception": false,
     "start_time": "2023-08-10T20:14:54.440489",
     "status": "completed"
    },
    "tags": []
   },
   "outputs": [],
   "source": [
    "# Try out GridSearchCV on \"submit_v4\" function with param_grid  \n",
    "# param_grid = {\n",
    "#     \"model__C\": [0.1, 1, 5, 10]\n",
    "# }\n",
    "\n",
    "# submit_v4(selected_features={'txt': ['genre']}, param_grid=param_grid)"
   ]
  },
  {
   "cell_type": "markdown",
   "id": "3b2d62cc",
   "metadata": {
    "papermill": {
     "duration": 0.105,
     "end_time": "2023-08-10T20:14:54.767235",
     "exception": false,
     "start_time": "2023-08-10T20:14:54.662235",
     "status": "completed"
    },
    "tags": []
   },
   "source": [
    "### Try LinearSVC with GridSearchCV  "
   ]
  },
  {
   "cell_type": "code",
   "execution_count": 110,
   "id": "253df10e",
   "metadata": {
    "execution": {
     "iopub.execute_input": "2023-08-10T20:14:54.985974Z",
     "iopub.status.busy": "2023-08-10T20:14:54.985028Z",
     "iopub.status.idle": "2023-08-10T20:14:54.989796Z",
     "shell.execute_reply": "2023-08-10T20:14:54.988878Z"
    },
    "papermill": {
     "duration": 0.118881,
     "end_time": "2023-08-10T20:14:54.992163",
     "exception": false,
     "start_time": "2023-08-10T20:14:54.873282",
     "status": "completed"
    },
    "tags": []
   },
   "outputs": [],
   "source": [
    "# all_dict = {'cat': [\"isFrequentReviewer\", \"rating\", \"originalLanguage\"],\n",
    "#              'num': [\"audienceScore\", \"runtimeMinutes\", \"boxOffice\"],\n",
    "#              'txt': ['reviewText', 'reviewerName', 'movieid', 'genre', 'director']}\n",
    "\n",
    "# param_grid_svc = {\n",
    "#     \"model__C\": [0.1, 1, 10, 100]\n",
    "# }\n",
    "# param_grid_svc"
   ]
  },
  {
   "cell_type": "code",
   "execution_count": 111,
   "id": "451e100f",
   "metadata": {
    "execution": {
     "iopub.execute_input": "2023-08-10T20:14:55.206793Z",
     "iopub.status.busy": "2023-08-10T20:14:55.205421Z",
     "iopub.status.idle": "2023-08-10T20:14:55.210450Z",
     "shell.execute_reply": "2023-08-10T20:14:55.209681Z"
    },
    "papermill": {
     "duration": 0.114487,
     "end_time": "2023-08-10T20:14:55.212844",
     "exception": false,
     "start_time": "2023-08-10T20:14:55.098357",
     "status": "completed"
    },
    "tags": []
   },
   "outputs": [],
   "source": [
    "# LinearSCV on single feature  \n",
    "\n",
    "# submit_v4(selected_model=LinearSVC(max_iter=100000, random_state=42), selected_features={'num': [\"audienceScore\"]}, param_grid=param_grid_svc)\n",
    "\n",
    "# Comment: LinearSVC even on single column feature set takes too long to converge."
   ]
  },
  {
   "cell_type": "code",
   "execution_count": 112,
   "id": "a1403f86",
   "metadata": {
    "execution": {
     "iopub.execute_input": "2023-08-10T20:14:55.427777Z",
     "iopub.status.busy": "2023-08-10T20:14:55.427024Z",
     "iopub.status.idle": "2023-08-10T20:14:55.431248Z",
     "shell.execute_reply": "2023-08-10T20:14:55.430346Z"
    },
    "papermill": {
     "duration": 0.115481,
     "end_time": "2023-08-10T20:14:55.433470",
     "exception": false,
     "start_time": "2023-08-10T20:14:55.317989",
     "status": "completed"
    },
    "tags": []
   },
   "outputs": [],
   "source": [
    "# LinearSCV on all available features\n",
    "\n",
    "# submit_v4(selected_model=LinearSVC(max_iter=100000, random_state=42), selected_features=all_dict, param_grid=param_grid_svc)\n",
    "\n",
    "# (Update): This took 66 mins to run and gave a public score of 0.84295 (lesser than logreg gridsearchcv wwhich gave 0.84441). Best C was 1.0.\n"
   ]
  },
  {
   "cell_type": "markdown",
   "id": "3f2c3a1b",
   "metadata": {
    "papermill": {
     "duration": 0.104593,
     "end_time": "2023-08-10T20:14:55.643102",
     "exception": false,
     "start_time": "2023-08-10T20:14:55.538509",
     "status": "completed"
    },
    "tags": []
   },
   "source": [
    "### Boosting techniques  "
   ]
  },
  {
   "cell_type": "code",
   "execution_count": 113,
   "id": "4ae1be97",
   "metadata": {
    "execution": {
     "iopub.execute_input": "2023-08-10T20:14:55.854480Z",
     "iopub.status.busy": "2023-08-10T20:14:55.853789Z",
     "iopub.status.idle": "2023-08-10T20:14:55.858356Z",
     "shell.execute_reply": "2023-08-10T20:14:55.857311Z"
    },
    "papermill": {
     "duration": 0.113001,
     "end_time": "2023-08-10T20:14:55.860809",
     "exception": false,
     "start_time": "2023-08-10T20:14:55.747808",
     "status": "completed"
    },
    "tags": []
   },
   "outputs": [],
   "source": [
    "# adc = AdaBoostClassifier(estimator=LogisticRegression(C=5, solver=\"saga\", max_iter=100000), n_estimators=50)\n",
    "# adc"
   ]
  },
  {
   "cell_type": "code",
   "execution_count": 114,
   "id": "b00ab2ae",
   "metadata": {
    "execution": {
     "iopub.execute_input": "2023-08-10T20:14:56.076196Z",
     "iopub.status.busy": "2023-08-10T20:14:56.075780Z",
     "iopub.status.idle": "2023-08-10T20:14:56.080182Z",
     "shell.execute_reply": "2023-08-10T20:14:56.079011Z"
    },
    "papermill": {
     "duration": 0.114566,
     "end_time": "2023-08-10T20:14:56.082540",
     "exception": false,
     "start_time": "2023-08-10T20:14:55.967974",
     "status": "completed"
    },
    "tags": []
   },
   "outputs": [],
   "source": [
    "# submit_v4(selected_model=adc, selected_features={'num': [\"audienceScore\"]}, param_grid=None)"
   ]
  },
  {
   "cell_type": "code",
   "execution_count": 115,
   "id": "ae5ee75f",
   "metadata": {
    "execution": {
     "iopub.execute_input": "2023-08-10T20:14:56.296329Z",
     "iopub.status.busy": "2023-08-10T20:14:56.295943Z",
     "iopub.status.idle": "2023-08-10T20:14:56.300416Z",
     "shell.execute_reply": "2023-08-10T20:14:56.299130Z"
    },
    "papermill": {
     "duration": 0.113162,
     "end_time": "2023-08-10T20:14:56.302831",
     "exception": false,
     "start_time": "2023-08-10T20:14:56.189669",
     "status": "completed"
    },
    "tags": []
   },
   "outputs": [],
   "source": [
    "# submit_v4(selected_model=adc, selected_features=all_dict, param_grid=None)\n",
    "\n",
    "# Took 1 hour 15 mins to run and gave a public score of only 0.71089. Discarded."
   ]
  },
  {
   "cell_type": "markdown",
   "id": "4a7b8349",
   "metadata": {
    "papermill": {
     "duration": 0.110067,
     "end_time": "2023-08-10T20:14:56.519409",
     "exception": false,
     "start_time": "2023-08-10T20:14:56.409342",
     "status": "completed"
    },
    "tags": []
   },
   "source": [
    "### LightGBM  "
   ]
  },
  {
   "cell_type": "code",
   "execution_count": 116,
   "id": "0be88318",
   "metadata": {
    "execution": {
     "iopub.execute_input": "2023-08-10T20:14:56.733354Z",
     "iopub.status.busy": "2023-08-10T20:14:56.732933Z",
     "iopub.status.idle": "2023-08-10T20:14:56.737974Z",
     "shell.execute_reply": "2023-08-10T20:14:56.736954Z"
    },
    "papermill": {
     "duration": 0.114092,
     "end_time": "2023-08-10T20:14:56.740417",
     "exception": false,
     "start_time": "2023-08-10T20:14:56.626325",
     "status": "completed"
    },
    "tags": []
   },
   "outputs": [],
   "source": [
    "# lgb = ltb.LGBMClassifier()\n",
    "# lgb"
   ]
  },
  {
   "cell_type": "code",
   "execution_count": 117,
   "id": "c8cfed2a",
   "metadata": {
    "execution": {
     "iopub.execute_input": "2023-08-10T20:14:56.954578Z",
     "iopub.status.busy": "2023-08-10T20:14:56.953954Z",
     "iopub.status.idle": "2023-08-10T20:14:56.958608Z",
     "shell.execute_reply": "2023-08-10T20:14:56.957723Z"
    },
    "papermill": {
     "duration": 0.1141,
     "end_time": "2023-08-10T20:14:56.960963",
     "exception": false,
     "start_time": "2023-08-10T20:14:56.846863",
     "status": "completed"
    },
    "tags": []
   },
   "outputs": [],
   "source": [
    "# Try LightGBM with default settings\n",
    "# (Update): Public score only 0.77713. It was fast, took less than 5 mins (without GridSearchCV)\n",
    "\n",
    "# submit_v4(selected_model=ltb.LGBMClassifier(), selected_features=all_dict, param_grid=None)"
   ]
  },
  {
   "cell_type": "markdown",
   "id": "5d535ade",
   "metadata": {
    "papermill": {
     "duration": 0.118482,
     "end_time": "2023-08-10T20:14:57.187018",
     "exception": false,
     "start_time": "2023-08-10T20:14:57.068536",
     "status": "completed"
    },
    "tags": []
   },
   "source": [
    "## Feature Engineering"
   ]
  },
  {
   "cell_type": "markdown",
   "id": "7d0e97b1",
   "metadata": {
    "papermill": {
     "duration": 0.105801,
     "end_time": "2023-08-10T20:14:57.407018",
     "exception": false,
     "start_time": "2023-08-10T20:14:57.301217",
     "status": "completed"
    },
    "tags": []
   },
   "source": [
    "### Plan  \n",
    "* Add a new column 'reviewWC' which has word count of 'reviewText'  \n",
    "    * Check if there is any relationship between 'reviewWC' and 'sentiment'\n",
    "* Work on vocabulary\n",
    "     * Use TfidfVectorizer and find out the vocabulary of 'reviewText' column for various ngrams\n",
    "     * Use RecursiveFeatureElimination (RFE) or RFECV to select 1000 top words/vocab for each ngram\n",
    "     * Use the final vocab (1000-3000 words) in the model and see how it performs compared to whole vocab\n",
    "\n",
    "`(Update): Code incorporated into the \"select_features\" function  `  \n",
    "`(Update): Many other new features incorporated into the \"select_features\" function too  `  \n",
    "\n"
   ]
  },
  {
   "cell_type": "markdown",
   "id": "7e3cd803",
   "metadata": {
    "papermill": {
     "duration": 0.105478,
     "end_time": "2023-08-10T20:14:57.683165",
     "exception": false,
     "start_time": "2023-08-10T20:14:57.577687",
     "status": "completed"
    },
    "tags": []
   },
   "source": [
    "# Back to vocab after success of version 63  "
   ]
  },
  {
   "cell_type": "code",
   "execution_count": 118,
   "id": "8738fc3e",
   "metadata": {
    "execution": {
     "iopub.execute_input": "2023-08-10T20:14:57.897893Z",
     "iopub.status.busy": "2023-08-10T20:14:57.897218Z",
     "iopub.status.idle": "2023-08-10T20:14:57.918906Z",
     "shell.execute_reply": "2023-08-10T20:14:57.917905Z"
    },
    "papermill": {
     "duration": 0.13268,
     "end_time": "2023-08-10T20:14:57.921476",
     "exception": false,
     "start_time": "2023-08-10T20:14:57.788796",
     "status": "completed"
    },
    "tags": []
   },
   "outputs": [],
   "source": [
    "def submit_v4(selected_model=LogisticRegression(C=1, solver='liblinear', max_iter=100000), \n",
    "              selected_features={'txt': ['reviewText']}, \n",
    "              param_grid=None,\n",
    "              vocab=None,\n",
    "              vocab_usage='tfidf',\n",
    "              strip_accents='unicode', \n",
    "              add_countvec=False):\n",
    "    \n",
    "    print(\"\\nRunning the submit_v4 function...\")\n",
    "    \n",
    "    # Fine tune selected_features\n",
    "    if add_countvec:\n",
    "        if 'txt' in selected_features.keys():\n",
    "            if \"reviewText_2\" not in selected_features['txt']:\n",
    "                selected_features['txt'].append('reviewText_2')\n",
    "    if vocab:\n",
    "        if 'txt' in selected_features.keys():\n",
    "            if \"reviewText_3\" not in selected_features['txt']:\n",
    "                selected_features['txt'].append('reviewText_3')\n",
    "    print(f\"\\nSelected features: {selected_features}\")\n",
    "\n",
    "    \n",
    "    \n",
    "    # Build Pipeline\n",
    "    pipe = build_pipeline(selected_model, selected_features, param_grid=param_grid, \n",
    "                          vocab=vocab, vocab_usage='tfidf', \n",
    "                          strip_accents=strip_accents, add_countvec=add_countvec)\n",
    "    print(pipe)\n",
    "\n",
    "    \n",
    "    \n",
    "    # Features list\n",
    "    features = []\n",
    "    for item in selected_features.values():\n",
    "        features.extend(item)\n",
    " \n",
    "\n",
    "    # Merge and preprocess train and movies data  \n",
    "    merged = select_features(load_csv(\"train\"), load_csv(\"movies\"), row_thresh_null=None)    # Decide if you want to drop any rows containing lot of nulls\n",
    "    # Impute missing numerical values  \n",
    "    # Simple Imputer for ['audienceScore', 'runtimeMinutes', 'boxOffice'] and 'releaseDate' columns\n",
    "    si = SimpleImputer(strategy='median')\n",
    "    merged[['audienceScore', 'runtimeMinutes', 'boxOffice']] = si.fit_transform(merged[['audienceScore', 'runtimeMinutes', 'boxOffice']])\n",
    "    merged['releaseDate'] = merged[\"releaseDate\"].fillna(merged[\"releaseDate\"].median())    \n",
    "    # Add new columns as needed  \n",
    "    if add_countvec:\n",
    "        merged['reviewText_2'] = merged['reviewText']\n",
    "    if vocab:\n",
    "        merged['reviewText_3'] = merged['reviewText']\n",
    "        \n",
    "    X_train = merged.drop(labels=\"sentiment\", axis=1)\n",
    "    y_train = merged[\"sentiment\"]\n",
    "\n",
    "    X_train = X_train[features]\n",
    "    \n",
    "    \n",
    "    # Check1\n",
    "    print(\"\\nCheck 1 complete.\")\n",
    "    print(f\"Shape of X_train: {X_train.shape}\")\n",
    "    print(f\"Features in X_train: {X_train.columns}\")\n",
    "#     print(X_train.head())\n",
    "    \n",
    "    \n",
    "    # Fit \n",
    "    print(\"\\nTraining started with full pipeline...\")\n",
    "    pipe.fit(X_train, y_train)\n",
    "    \n",
    "    # Check2\n",
    "    print(\"\\nCheck 2 complete.\")\n",
    "    print(\"Details of the best model using full pipeline (GridSearchCV) on X_train: \")\n",
    "    print(f\"Best Params: {pipe.best_params_}\")\n",
    "    print(f\"Best Score: {pipe.best_score_}\")\n",
    "    \n",
    "    print(predict_on_missing_review_data(pipe, features, merged))    # Function defined above\n",
    "    \n",
    "        \n",
    "    # Predict on test.csv file\n",
    "    \n",
    "    # Merge and preprocess test and movies data  \n",
    "    merged_test = select_features(load_csv(\"test\"), load_csv(\"movies\"))\n",
    "    # Transform ['audienceScore', 'runtimeMinutes', 'boxOffice'] columns in merged_test using 'si' fitted on 'merged' df  \n",
    "    merged_test[['audienceScore', 'runtimeMinutes', 'boxOffice']] = si.transform(merged_test[['audienceScore', 'runtimeMinutes', 'boxOffice']])\n",
    "    # Fill 'releaseDate' column in 'merged_test' df with median from the train (merged) df  \n",
    "    merged_test['releaseDate'] = merged_test[\"releaseDate\"].fillna(merged[\"releaseDate\"].median())\n",
    "    # Add new columns as needed \n",
    "    if add_countvec:\n",
    "        merged_test['reviewText_2'] = merged_test['reviewText']\n",
    "    if vocab:\n",
    "        merged_test['reviewText_3'] = merged_test['reviewText']\n",
    "        \n",
    "    X_test = merged_test.copy()\n",
    "\n",
    "    X_test = X_test[features]\n",
    "    \n",
    "    \n",
    "    # Check3\n",
    "    print(\"\\nCheck 3 complete.\")\n",
    "    print(f\"Shape of X_test: {X_test.shape}\")\n",
    "    print(f\"Features in X_test: {X_test.columns}\")\n",
    "#     print(X_test.head())\n",
    "    \n",
    "    y_pred = pipe.predict(X_test)\n",
    "    \n",
    "    # Check4\n",
    "    print(\"\\nCheck 4 complete.\")\n",
    "#     cv_results_df = pd.DataFrame(pipe.cv_results_)\n",
    "    print(\"Details of the best model using full pipeline (GridSearchCV) on X_train: \")\n",
    "    print(f\"Best Estimator: {pipe.best_estimator_}\")\n",
    "    print(f\"Best Params: {pipe.best_params_}\")\n",
    "    print(f\"Best Score: {pipe.best_score_}\")\n",
    "    print(f\"Best Index: {pipe.best_index_}\")\n",
    "    print(f\"Refit Time: {pipe.refit_time_}\")\n",
    "#     print(f\"Shape of CV results dataframe: {cv_results_df.shape}\")\n",
    "    \n",
    "    pred_df = pd.DataFrame(y_pred)\n",
    "    pred_df.columns = [\"sentiment\"]\n",
    "    pred_df.index.name = \"id\"\n",
    "    pred_df.to_csv(\"submission.csv\")\n",
    "    \n",
    "    print(\"\\nSuccessfully created the submission file!!!\")\n",
    "    \n",
    "    return pipe.cv_results_"
   ]
  },
  {
   "cell_type": "code",
   "execution_count": 119,
   "id": "6b4babfd",
   "metadata": {
    "execution": {
     "iopub.execute_input": "2023-08-10T20:14:58.139224Z",
     "iopub.status.busy": "2023-08-10T20:14:58.138849Z",
     "iopub.status.idle": "2023-08-10T20:14:58.146441Z",
     "shell.execute_reply": "2023-08-10T20:14:58.145340Z"
    },
    "papermill": {
     "duration": 0.119147,
     "end_time": "2023-08-10T20:14:58.148849",
     "exception": false,
     "start_time": "2023-08-10T20:14:58.029702",
     "status": "completed"
    },
    "tags": []
   },
   "outputs": [
    {
     "data": {
      "text/plain": [
       "Index(['movieid', 'reviewerName', 'isFrequentReviewer', 'reviewText',\n",
       "       'sentiment', 'title', 'audienceScore', 'rating', 'ratingContents',\n",
       "       'releaseDateTheaters', 'releaseDateStreaming', 'runtimeMinutes',\n",
       "       'genre', 'originalLanguage', 'director', 'boxOffice', 'distributor',\n",
       "       'soundType', 'reviewYN', 'reviewWC', 'genreSorted', 'rcSorted',\n",
       "       'releaseDate', 'releaseYear', 'releaseMonth', 'releaseDiff',\n",
       "       'audScoreBins', 'runtimeBins', 'boxOfficeBins', 'releaseDiffBins'],\n",
       "      dtype='object')"
      ]
     },
     "execution_count": 119,
     "metadata": {},
     "output_type": "execute_result"
    }
   ],
   "source": [
    "merged.columns"
   ]
  },
  {
   "cell_type": "code",
   "execution_count": 120,
   "id": "ee134f2e",
   "metadata": {
    "execution": {
     "iopub.execute_input": "2023-08-10T20:14:58.361479Z",
     "iopub.status.busy": "2023-08-10T20:14:58.360956Z",
     "iopub.status.idle": "2023-08-10T20:14:58.372768Z",
     "shell.execute_reply": "2023-08-10T20:14:58.371407Z"
    },
    "papermill": {
     "duration": 0.121756,
     "end_time": "2023-08-10T20:14:58.375321",
     "exception": false,
     "start_time": "2023-08-10T20:14:58.253565",
     "status": "completed"
    },
    "tags": []
   },
   "outputs": [],
   "source": [
    "# Best #2\n",
    "v80_dict = {'cat': ['isFrequentReviewer', 'audScoreBins', 'boxOfficeBins'], \n",
    "                  'txt': ['reviewText', 'reviewerName', 'movieid', 'genre', 'director', \n",
    "                          'ratingContents', 'distributor']}\n",
    "# Best #1\n",
    "v88_dict = {'cat': ['isFrequentReviewer', 'audScoreBins', 'boxOfficeBins'],\n",
    "            'num': ['releaseDiff'],\n",
    "            'txt': ['reviewText', 'reviewerName', 'movieid', 'genre', 'director', \n",
    "                         'ratingContents', 'distributor']}\n",
    "\n",
    "v92_dict = {'cat': ['isFrequentReviewer', 'audScoreBins', 'boxOfficeBins', 'releaseDiffBins'],\n",
    "            'txt': ['reviewText', 'reviewerName', 'title', 'genre', 'director', \n",
    "                         'ratingContents', 'distributor']}\n",
    "\n",
    "# Best univariable datapoints dict\n",
    "best_uni_dict = {'cat': [\"isFrequentReviewer\", \"audScoreBins\"],\n",
    "                 'txt': ['reviewText','movieid', 'director', \"ratingContents\"]}\n",
    "\n",
    "# param_grids for LogisticRegression  \n",
    "\n",
    "# Best #1  \n",
    "# param_grid = {\n",
    "#     'model__C' : [1],\n",
    "#     'model__solver': ['saga'],\n",
    "#     \"model__fit_intercept\" : [True],\n",
    "#     \"model__dual\" : [False]\n",
    "#     }\n",
    "\n",
    "# working\n",
    "param_grid = {\n",
    "    'model__C' : [1],\n",
    "    'model__solver': ['saga'],\n",
    "    \"model__fit_intercept\" : [True],\n",
    "    \"model__dual\" : [False],\n",
    "#     \"model__class_weight\": ['balanced', None]\n",
    "}\n",
    "\n",
    "\n",
    "# param_grids for LinearSVC  \n",
    "\n",
    "# param_grid = {\n",
    "#     'model__C' : [1, 10, 20],\n",
    "#     'model__loss': ['hinge', 'squared_hinge'],\n",
    "#     \"model__fit_intercept\" : [True, False],\n",
    "# #     \"model__dual\" : [True, False] \n",
    "# }\n",
    "\n",
    "svm = LinearSVC(max_iter=10000, random_state=42)    # LinearSVC\n",
    "\n",
    "\n",
    "# Local testing\n",
    "# selected_mov = {'num': ['audienceScore', 'boxOffice', 'releaseDiff'], \n",
    "#                 'txt': ['movieid', 'genre', 'director', \n",
    "#                          'ratingContents', 'distributor']}\n",
    "# results = submit_v4(\n",
    "#             selected_features={'num': ['boxOffice']},\n",
    "#             add_countvec=False,\n",
    "#             vocab=None,\n",
    "#             vocab_usage='tfidf',\n",
    "#             param_grid=param_grid\n",
    "#          )\n",
    "\n",
    "# results = submit_v4(selected_model = DummyClassifier(strategy='constant', constant='NEGATIVE'),\n",
    "#             selected_features={'num': ['boxOffice']},\n",
    "#             add_countvec=False,\n",
    "#             vocab=None,\n",
    "#             vocab_usage='tfidf',\n",
    "#             param_grid={'model__strategy' : ['constant']}\n",
    "#          )\n",
    "\n",
    "# Main submission\n",
    "\n",
    "# results = submit_v4(\n",
    "#     selected_features=v88_dict,\n",
    "#     add_countvec=False,\n",
    "#     vocab=common_1_2_3_grams,\n",
    "#     vocab_usage='tfidf',\n",
    "#     param_grid=param_grid\n",
    "#     )\n",
    "\n",
    "# results"
   ]
  },
  {
   "cell_type": "markdown",
   "id": "8a98b774",
   "metadata": {
    "papermill": {
     "duration": 0.104273,
     "end_time": "2023-08-10T20:14:58.594802",
     "exception": false,
     "start_time": "2023-08-10T20:14:58.490529",
     "status": "completed"
    },
    "tags": []
   },
   "source": [
    "### ratingContents analysis  "
   ]
  },
  {
   "cell_type": "code",
   "execution_count": 121,
   "id": "64178945",
   "metadata": {
    "execution": {
     "iopub.execute_input": "2023-08-10T20:14:58.806426Z",
     "iopub.status.busy": "2023-08-10T20:14:58.805590Z",
     "iopub.status.idle": "2023-08-10T20:14:58.811341Z",
     "shell.execute_reply": "2023-08-10T20:14:58.809899Z"
    },
    "papermill": {
     "duration": 0.114205,
     "end_time": "2023-08-10T20:14:58.814064",
     "exception": false,
     "start_time": "2023-08-10T20:14:58.699859",
     "status": "completed"
    },
    "tags": []
   },
   "outputs": [],
   "source": [
    "# Try string split  \n",
    "# s = \"comedy, animation, adventure, fantasy\"\n",
    "# (\",\").join(sorted(s.split(\", \")))"
   ]
  },
  {
   "cell_type": "code",
   "execution_count": 122,
   "id": "4812b9e8",
   "metadata": {
    "execution": {
     "iopub.execute_input": "2023-08-10T20:14:59.028854Z",
     "iopub.status.busy": "2023-08-10T20:14:59.028395Z",
     "iopub.status.idle": "2023-08-10T20:14:59.033409Z",
     "shell.execute_reply": "2023-08-10T20:14:59.032384Z"
    },
    "papermill": {
     "duration": 0.115013,
     "end_time": "2023-08-10T20:14:59.035471",
     "exception": false,
     "start_time": "2023-08-10T20:14:58.920458",
     "status": "completed"
    },
    "tags": []
   },
   "outputs": [],
   "source": [
    "# ratingContents_analysis = merged[[\"ratingContents\", \"sentiment\"]].copy()\n",
    "# print(ratingContents_analysis.head())\n",
    "# ratingContents_analysis[\"rcSorted\"] = ratingContents_analysis[\"ratingContents\"].apply(lambda x: (\",\").join(sorted(x.strip(\"][\").split(\", \"))))\n",
    "# ratingContents_analysis[\"rcSorted\"] = ratingContents_analysis[\"rcSorted\"].apply(lambda x: re.sub(r\"'\", \"\", x))\n",
    "# ratingContents_analysis[\"rcSorted\"] = ratingContents_analysis[\"rcSorted\"].apply(lambda x: re.sub(r\"[/\\s]\", \"_\", x))\n",
    "# ratingContents_analysis.head(10)"
   ]
  },
  {
   "cell_type": "code",
   "execution_count": 123,
   "id": "9b80cea4",
   "metadata": {
    "execution": {
     "iopub.execute_input": "2023-08-10T20:14:59.254255Z",
     "iopub.status.busy": "2023-08-10T20:14:59.253870Z",
     "iopub.status.idle": "2023-08-10T20:14:59.257759Z",
     "shell.execute_reply": "2023-08-10T20:14:59.256985Z"
    },
    "papermill": {
     "duration": 0.1142,
     "end_time": "2023-08-10T20:14:59.259762",
     "exception": false,
     "start_time": "2023-08-10T20:14:59.145562",
     "status": "completed"
    },
    "tags": []
   },
   "outputs": [],
   "source": [
    "# cvec_rc = CountVectorizer(ngram_range=(1,1))\n",
    "# cvec_rc.fit(ratingContents_analysis['rcSorted'])\n",
    "# # len(cvec_rc.vocabulary_), cvec_rc.vocabulary_"
   ]
  },
  {
   "cell_type": "code",
   "execution_count": 124,
   "id": "70ba9094",
   "metadata": {
    "execution": {
     "iopub.execute_input": "2023-08-10T20:14:59.476797Z",
     "iopub.status.busy": "2023-08-10T20:14:59.476043Z",
     "iopub.status.idle": "2023-08-10T20:14:59.480161Z",
     "shell.execute_reply": "2023-08-10T20:14:59.479116Z"
    },
    "papermill": {
     "duration": 0.114579,
     "end_time": "2023-08-10T20:14:59.482498",
     "exception": false,
     "start_time": "2023-08-10T20:14:59.367919",
     "status": "completed"
    },
    "tags": []
   },
   "outputs": [],
   "source": [
    "# genre_testing = cvec_g.transform(merged[\"genre\"])\n",
    "# print(genre_testing)"
   ]
  },
  {
   "cell_type": "markdown",
   "id": "afd83ba5",
   "metadata": {
    "papermill": {
     "duration": 0.105901,
     "end_time": "2023-08-10T20:14:59.694386",
     "exception": false,
     "start_time": "2023-08-10T20:14:59.588485",
     "status": "completed"
    },
    "tags": []
   },
   "source": [
    "## Statistical tests  "
   ]
  },
  {
   "cell_type": "markdown",
   "id": "7d2e3af1",
   "metadata": {
    "papermill": {
     "duration": 0.105161,
     "end_time": "2023-08-10T20:14:59.905257",
     "exception": false,
     "start_time": "2023-08-10T20:14:59.800096",
     "status": "completed"
    },
    "tags": []
   },
   "source": [
    "[Go to genre](#genre_analysis)"
   ]
  },
  {
   "cell_type": "code",
   "execution_count": 125,
   "id": "981d6125",
   "metadata": {
    "execution": {
     "iopub.execute_input": "2023-08-10T20:15:00.118404Z",
     "iopub.status.busy": "2023-08-10T20:15:00.117676Z",
     "iopub.status.idle": "2023-08-10T20:15:00.123380Z",
     "shell.execute_reply": "2023-08-10T20:15:00.122073Z"
    },
    "papermill": {
     "duration": 0.113917,
     "end_time": "2023-08-10T20:15:00.125734",
     "exception": false,
     "start_time": "2023-08-10T20:15:00.011817",
     "status": "completed"
    },
    "tags": []
   },
   "outputs": [],
   "source": [
    "# print(merged['boxOffice'].head())\n",
    "# merged[\"boxOffice\"].describe()"
   ]
  },
  {
   "cell_type": "code",
   "execution_count": 126,
   "id": "6782ee3e",
   "metadata": {
    "execution": {
     "iopub.execute_input": "2023-08-10T20:15:00.343397Z",
     "iopub.status.busy": "2023-08-10T20:15:00.342561Z",
     "iopub.status.idle": "2023-08-10T20:15:00.346877Z",
     "shell.execute_reply": "2023-08-10T20:15:00.346107Z"
    },
    "papermill": {
     "duration": 0.115356,
     "end_time": "2023-08-10T20:15:00.349132",
     "exception": false,
     "start_time": "2023-08-10T20:15:00.233776",
     "status": "completed"
    },
    "tags": []
   },
   "outputs": [],
   "source": [
    "# Function for independent samples t-test on numerical columns  \n",
    "# def ttest_ind(feature):\n",
    "#     pos_grp = merged[feature].loc[merged['sentiment'] == \"POSITIVE\"]\n",
    "#     neg_grp = merged[feature].loc[merged['sentiment'] == \"NEGATIVE\"]\n",
    "\n",
    "#     print(pos_grp.shape, neg_grp.shape)\n",
    "#     print(pos_grp.describe(), neg_grp.describe())\n",
    "\n",
    "#     return stats.ttest_ind(pos_grp, neg_grp)"
   ]
  },
  {
   "cell_type": "code",
   "execution_count": 127,
   "id": "a56df1a9",
   "metadata": {
    "execution": {
     "iopub.execute_input": "2023-08-10T20:15:00.563794Z",
     "iopub.status.busy": "2023-08-10T20:15:00.563011Z",
     "iopub.status.idle": "2023-08-10T20:15:00.567336Z",
     "shell.execute_reply": "2023-08-10T20:15:00.566228Z"
    },
    "papermill": {
     "duration": 0.113217,
     "end_time": "2023-08-10T20:15:00.569751",
     "exception": false,
     "start_time": "2023-08-10T20:15:00.456534",
     "status": "completed"
    },
    "tags": []
   },
   "outputs": [],
   "source": [
    "# ttest_ind('boxOffice')"
   ]
  },
  {
   "cell_type": "code",
   "execution_count": 128,
   "id": "b55a38cb",
   "metadata": {
    "execution": {
     "iopub.execute_input": "2023-08-10T20:15:00.784443Z",
     "iopub.status.busy": "2023-08-10T20:15:00.783681Z",
     "iopub.status.idle": "2023-08-10T20:15:00.787925Z",
     "shell.execute_reply": "2023-08-10T20:15:00.786939Z"
    },
    "papermill": {
     "duration": 0.114885,
     "end_time": "2023-08-10T20:15:00.790190",
     "exception": false,
     "start_time": "2023-08-10T20:15:00.675305",
     "status": "completed"
    },
    "tags": []
   },
   "outputs": [],
   "source": [
    "# ttest_ind('runtimeMinutes')"
   ]
  },
  {
   "cell_type": "code",
   "execution_count": 129,
   "id": "731ea14e",
   "metadata": {
    "execution": {
     "iopub.execute_input": "2023-08-10T20:15:01.002832Z",
     "iopub.status.busy": "2023-08-10T20:15:01.002295Z",
     "iopub.status.idle": "2023-08-10T20:15:01.007342Z",
     "shell.execute_reply": "2023-08-10T20:15:01.006093Z"
    },
    "papermill": {
     "duration": 0.115473,
     "end_time": "2023-08-10T20:15:01.010186",
     "exception": false,
     "start_time": "2023-08-10T20:15:00.894713",
     "status": "completed"
    },
    "tags": []
   },
   "outputs": [],
   "source": [
    "# ttest_ind('audienceScore')"
   ]
  },
  {
   "cell_type": "code",
   "execution_count": 130,
   "id": "8f0406ed",
   "metadata": {
    "execution": {
     "iopub.execute_input": "2023-08-10T20:15:01.222506Z",
     "iopub.status.busy": "2023-08-10T20:15:01.221880Z",
     "iopub.status.idle": "2023-08-10T20:15:01.227037Z",
     "shell.execute_reply": "2023-08-10T20:15:01.225811Z"
    },
    "papermill": {
     "duration": 0.113958,
     "end_time": "2023-08-10T20:15:01.229492",
     "exception": false,
     "start_time": "2023-08-10T20:15:01.115534",
     "status": "completed"
    },
    "tags": []
   },
   "outputs": [],
   "source": [
    "# sns.boxplot(x=merged['sentiment'], y=merged['boxOffice'])"
   ]
  },
  {
   "cell_type": "markdown",
   "id": "f35b22f8",
   "metadata": {
    "papermill": {
     "duration": 0.105808,
     "end_time": "2023-08-10T20:15:01.440184",
     "exception": false,
     "start_time": "2023-08-10T20:15:01.334376",
     "status": "completed"
    },
    "tags": []
   },
   "source": [
    "## <div id='genre_analysis'>Genre analysis</div>"
   ]
  },
  {
   "cell_type": "code",
   "execution_count": 131,
   "id": "b3dae80c",
   "metadata": {
    "execution": {
     "iopub.execute_input": "2023-08-10T20:15:01.720123Z",
     "iopub.status.busy": "2023-08-10T20:15:01.719284Z",
     "iopub.status.idle": "2023-08-10T20:15:01.723363Z",
     "shell.execute_reply": "2023-08-10T20:15:01.722572Z"
    },
    "papermill": {
     "duration": 0.113103,
     "end_time": "2023-08-10T20:15:01.725574",
     "exception": false,
     "start_time": "2023-08-10T20:15:01.612471",
     "status": "completed"
    },
    "tags": []
   },
   "outputs": [],
   "source": [
    "# genre_analysis = merged[[\"genre\", \"genreSorted\", \"sentiment\"]].copy()\n",
    "# # print(genre_analysis.head())\n",
    "# # genre_analysis[\"genre\"] = genre_analysis[\"genre\"].apply(lambda x: (\",\").join(sorted(x.split(\", \"))))\n",
    "# genre_analysis.head()"
   ]
  },
  {
   "cell_type": "code",
   "execution_count": 132,
   "id": "63b03113",
   "metadata": {
    "execution": {
     "iopub.execute_input": "2023-08-10T20:15:01.939147Z",
     "iopub.status.busy": "2023-08-10T20:15:01.938541Z",
     "iopub.status.idle": "2023-08-10T20:15:01.942296Z",
     "shell.execute_reply": "2023-08-10T20:15:01.941500Z"
    },
    "papermill": {
     "duration": 0.113048,
     "end_time": "2023-08-10T20:15:01.944414",
     "exception": false,
     "start_time": "2023-08-10T20:15:01.831366",
     "status": "completed"
    },
    "tags": []
   },
   "outputs": [],
   "source": [
    "# cvec_g = CountVectorizer(ngram_range=(1,3))\n",
    "# cvec_g.fit(genre_analysis['genre'])\n",
    "# # len(cvec_g.vocabulary_), cvec_g.vocabulary_"
   ]
  },
  {
   "cell_type": "code",
   "execution_count": 133,
   "id": "cf756642",
   "metadata": {
    "execution": {
     "iopub.execute_input": "2023-08-10T20:15:02.155782Z",
     "iopub.status.busy": "2023-08-10T20:15:02.155031Z",
     "iopub.status.idle": "2023-08-10T20:15:02.159245Z",
     "shell.execute_reply": "2023-08-10T20:15:02.158134Z"
    },
    "papermill": {
     "duration": 0.112765,
     "end_time": "2023-08-10T20:15:02.161766",
     "exception": false,
     "start_time": "2023-08-10T20:15:02.049001",
     "status": "completed"
    },
    "tags": []
   },
   "outputs": [],
   "source": [
    "# cvec_gSorted = CountVectorizer(ngram_range=(1,3))\n",
    "# cvec_gSorted.fit(genre_analysis['genreSorted'])\n",
    "# len(cvec_gSorted.vocabulary_), cvec_gSorted.vocabulary_"
   ]
  },
  {
   "cell_type": "code",
   "execution_count": 134,
   "id": "0c113eda",
   "metadata": {
    "execution": {
     "iopub.execute_input": "2023-08-10T20:15:02.377049Z",
     "iopub.status.busy": "2023-08-10T20:15:02.376324Z",
     "iopub.status.idle": "2023-08-10T20:15:02.380300Z",
     "shell.execute_reply": "2023-08-10T20:15:02.379455Z"
    },
    "papermill": {
     "duration": 0.11415,
     "end_time": "2023-08-10T20:15:02.382421",
     "exception": false,
     "start_time": "2023-08-10T20:15:02.268271",
     "status": "completed"
    },
    "tags": []
   },
   "outputs": [],
   "source": [
    "# genre_testing = cvec_g.transform(merged[\"genre\"])\n",
    "# # print(genre_testing)"
   ]
  },
  {
   "cell_type": "code",
   "execution_count": 135,
   "id": "b716c5d2",
   "metadata": {
    "execution": {
     "iopub.execute_input": "2023-08-10T20:15:02.594387Z",
     "iopub.status.busy": "2023-08-10T20:15:02.593675Z",
     "iopub.status.idle": "2023-08-10T20:15:02.597490Z",
     "shell.execute_reply": "2023-08-10T20:15:02.596711Z"
    },
    "papermill": {
     "duration": 0.112023,
     "end_time": "2023-08-10T20:15:02.599933",
     "exception": false,
     "start_time": "2023-08-10T20:15:02.487910",
     "status": "completed"
    },
    "tags": []
   },
   "outputs": [],
   "source": [
    "# genre_counts_testing = merged[[\"genre\", \"sentiment\"]].copy()\n",
    "# genre_counts_testing[\"gCount\"] = genre_counts_testing.apply(lambda x: len(str(x[\"genre\"]).split()), axis=1)\n",
    "# genre_counts_testing"
   ]
  },
  {
   "cell_type": "code",
   "execution_count": 136,
   "id": "94a5df5d",
   "metadata": {
    "execution": {
     "iopub.execute_input": "2023-08-10T20:15:02.819315Z",
     "iopub.status.busy": "2023-08-10T20:15:02.818690Z",
     "iopub.status.idle": "2023-08-10T20:15:02.823263Z",
     "shell.execute_reply": "2023-08-10T20:15:02.822364Z"
    },
    "papermill": {
     "duration": 0.114772,
     "end_time": "2023-08-10T20:15:02.826232",
     "exception": false,
     "start_time": "2023-08-10T20:15:02.711460",
     "status": "completed"
    },
    "tags": []
   },
   "outputs": [],
   "source": [
    "# sns.boxplot(y=genre_counts_testing[\"gCount\"], x=genre_counts_testing[\"sentiment\"])"
   ]
  },
  {
   "cell_type": "code",
   "execution_count": 137,
   "id": "6fe20332",
   "metadata": {
    "execution": {
     "iopub.execute_input": "2023-08-10T20:15:03.045941Z",
     "iopub.status.busy": "2023-08-10T20:15:03.045107Z",
     "iopub.status.idle": "2023-08-10T20:15:03.050191Z",
     "shell.execute_reply": "2023-08-10T20:15:03.049098Z"
    },
    "papermill": {
     "duration": 0.115846,
     "end_time": "2023-08-10T20:15:03.052504",
     "exception": false,
     "start_time": "2023-08-10T20:15:02.936658",
     "status": "completed"
    },
    "tags": []
   },
   "outputs": [],
   "source": [
    "# sns.boxplot(y=merged[\"reviewWC\"], x=merged[\"sentiment\"])"
   ]
  },
  {
   "cell_type": "code",
   "execution_count": 138,
   "id": "89e391e0",
   "metadata": {
    "execution": {
     "iopub.execute_input": "2023-08-10T20:15:03.270881Z",
     "iopub.status.busy": "2023-08-10T20:15:03.270156Z",
     "iopub.status.idle": "2023-08-10T20:15:03.274104Z",
     "shell.execute_reply": "2023-08-10T20:15:03.273270Z"
    },
    "papermill": {
     "duration": 0.117371,
     "end_time": "2023-08-10T20:15:03.276257",
     "exception": false,
     "start_time": "2023-08-10T20:15:03.158886",
     "status": "completed"
    },
    "tags": []
   },
   "outputs": [],
   "source": [
    "# audienceScore bins\n",
    "# asc = merged[['audienceScore', 'sentiment']].copy()\n",
    "# asc.head()"
   ]
  },
  {
   "cell_type": "code",
   "execution_count": 139,
   "id": "9301d143",
   "metadata": {
    "execution": {
     "iopub.execute_input": "2023-08-10T20:15:03.491397Z",
     "iopub.status.busy": "2023-08-10T20:15:03.490698Z",
     "iopub.status.idle": "2023-08-10T20:15:03.494838Z",
     "shell.execute_reply": "2023-08-10T20:15:03.493978Z"
    },
    "papermill": {
     "duration": 0.114375,
     "end_time": "2023-08-10T20:15:03.496881",
     "exception": false,
     "start_time": "2023-08-10T20:15:03.382506",
     "status": "completed"
    },
    "tags": []
   },
   "outputs": [],
   "source": [
    "# Binning numerical features  \n",
    "\n",
    "# print(merged[\"runtimeBins\"].value_counts())\n",
    "# sns.displot(merged[\"runtimeBins\"])"
   ]
  },
  {
   "cell_type": "code",
   "execution_count": 140,
   "id": "fcb18c11",
   "metadata": {
    "execution": {
     "iopub.execute_input": "2023-08-10T20:15:03.709824Z",
     "iopub.status.busy": "2023-08-10T20:15:03.708770Z",
     "iopub.status.idle": "2023-08-10T20:15:03.713482Z",
     "shell.execute_reply": "2023-08-10T20:15:03.712677Z"
    },
    "papermill": {
     "duration": 0.114431,
     "end_time": "2023-08-10T20:15:03.715792",
     "exception": false,
     "start_time": "2023-08-10T20:15:03.601361",
     "status": "completed"
    },
    "tags": []
   },
   "outputs": [],
   "source": [
    "# Chi-square test for isFrequentReviewer column and sentiment column   \n",
    "\n",
    "# contingency_table = pd.crosstab(traindf['isFrequentReviewer'], traindf['sentiment'])\n",
    "# print(contingency_table)\n",
    "# stats.chi2_contingency(contingency_table)"
   ]
  },
  {
   "cell_type": "markdown",
   "id": "180dd6d2",
   "metadata": {
    "papermill": {
     "duration": 0.106676,
     "end_time": "2023-08-10T20:15:03.928241",
     "exception": false,
     "start_time": "2023-08-10T20:15:03.821565",
     "status": "completed"
    },
    "tags": []
   },
   "source": [
    "## Baseline performance of 'reviewText' column  "
   ]
  },
  {
   "cell_type": "code",
   "execution_count": 141,
   "id": "62434dbc",
   "metadata": {
    "execution": {
     "iopub.execute_input": "2023-08-10T20:15:04.141964Z",
     "iopub.status.busy": "2023-08-10T20:15:04.141503Z",
     "iopub.status.idle": "2023-08-10T20:15:04.145525Z",
     "shell.execute_reply": "2023-08-10T20:15:04.144623Z"
    },
    "papermill": {
     "duration": 0.112589,
     "end_time": "2023-08-10T20:15:04.147792",
     "exception": false,
     "start_time": "2023-08-10T20:15:04.035203",
     "status": "completed"
    },
    "tags": []
   },
   "outputs": [],
   "source": [
    "# rt_dict = {'txt': ['reviewText']}\n",
    "# rt_dict"
   ]
  },
  {
   "cell_type": "code",
   "execution_count": 142,
   "id": "72a6ee92",
   "metadata": {
    "execution": {
     "iopub.execute_input": "2023-08-10T20:15:04.361951Z",
     "iopub.status.busy": "2023-08-10T20:15:04.361533Z",
     "iopub.status.idle": "2023-08-10T20:15:04.366029Z",
     "shell.execute_reply": "2023-08-10T20:15:04.364843Z"
    },
    "papermill": {
     "duration": 0.115106,
     "end_time": "2023-08-10T20:15:04.368584",
     "exception": false,
     "start_time": "2023-08-10T20:15:04.253478",
     "status": "completed"
    },
    "tags": []
   },
   "outputs": [],
   "source": [
    "# submit_v4(selected_model=LogisticRegression(C=5, solver=\"saga\", max_iter=100000),\n",
    "#           selected_features=rt_dict,\n",
    "#           param_grid=None,\n",
    "#           vocab=None)"
   ]
  },
  {
   "cell_type": "markdown",
   "id": "0a902948",
   "metadata": {
    "papermill": {
     "duration": 0.104138,
     "end_time": "2023-08-10T20:15:04.582396",
     "exception": false,
     "start_time": "2023-08-10T20:15:04.478258",
     "status": "completed"
    },
    "tags": []
   },
   "source": [
    "## RFE  "
   ]
  },
  {
   "cell_type": "code",
   "execution_count": 143,
   "id": "97e8ae8f",
   "metadata": {
    "execution": {
     "iopub.execute_input": "2023-08-10T20:15:04.797124Z",
     "iopub.status.busy": "2023-08-10T20:15:04.796643Z",
     "iopub.status.idle": "2023-08-10T20:15:04.802940Z",
     "shell.execute_reply": "2023-08-10T20:15:04.801690Z"
    },
    "papermill": {
     "duration": 0.116837,
     "end_time": "2023-08-10T20:15:04.805425",
     "exception": false,
     "start_time": "2023-08-10T20:15:04.688588",
     "status": "completed"
    },
    "tags": []
   },
   "outputs": [],
   "source": [
    "# def fs_rfe(selector, text_df, labels, ngram_range=(1,1)):\n",
    "#     text_df_ngram = TfidfVectorizer(ngram_range=ngram_range, stop_words='english').fit_transform(text_df)\n",
    "#     print(\"text_df was vectorized using TF-IDF vectorizer with ngram_range: \", ngram_range)\n",
    "#     print(\"text_df.shape: \", text_df.shape)\n",
    "#     print(\"labels.shape: \", labels.shape)\n",
    "#     print(\"text_df_ngram.shape: \", text_df_ngram.shape)\n",
    "#     print()\n",
    "\n",
    "#     print(\"Starting RFE fit...\")\n",
    "#     selector.fit(text_df_ngram, labels)\n",
    "#     print(\"RFE fit complete.\\n\")\n",
    "    \n",
    "#     print(\"selector.n_features_: \", selector.n_features_)   \n",
    "#     print(\"selector.n_features_in_: \", selector.n_features_in_)\n",
    "#     print(\"selector.support_.shape: \", selector.support_.shape)\n",
    "\n",
    "#     return selector.support_"
   ]
  },
  {
   "cell_type": "markdown",
   "id": "623555b3",
   "metadata": {
    "papermill": {
     "duration": 0.107602,
     "end_time": "2023-08-10T20:15:05.019047",
     "exception": false,
     "start_time": "2023-08-10T20:15:04.911445",
     "status": "completed"
    },
    "tags": []
   },
   "source": [
    "`RFE for unigrams`  "
   ]
  },
  {
   "cell_type": "code",
   "execution_count": 144,
   "id": "ae3bb5df",
   "metadata": {
    "execution": {
     "iopub.execute_input": "2023-08-10T20:15:05.230014Z",
     "iopub.status.busy": "2023-08-10T20:15:05.229581Z",
     "iopub.status.idle": "2023-08-10T20:15:05.234467Z",
     "shell.execute_reply": "2023-08-10T20:15:05.233105Z"
    },
    "papermill": {
     "duration": 0.113576,
     "end_time": "2023-08-10T20:15:05.237134",
     "exception": false,
     "start_time": "2023-08-10T20:15:05.123558",
     "status": "completed"
    },
    "tags": []
   },
   "outputs": [],
   "source": [
    "# estimator_rfe_1 = LogisticRegression(solver='saga', max_iter=100000)\n",
    "# selector_rfe_1 = RFE(estimator_rfe_1, step=0.1, n_features_to_select=30000)"
   ]
  },
  {
   "cell_type": "code",
   "execution_count": 145,
   "id": "0ded3ea1",
   "metadata": {
    "execution": {
     "iopub.execute_input": "2023-08-10T20:15:05.454346Z",
     "iopub.status.busy": "2023-08-10T20:15:05.453961Z",
     "iopub.status.idle": "2023-08-10T20:15:05.458885Z",
     "shell.execute_reply": "2023-08-10T20:15:05.457705Z"
    },
    "papermill": {
     "duration": 0.11706,
     "end_time": "2023-08-10T20:15:05.461546",
     "exception": false,
     "start_time": "2023-08-10T20:15:05.344486",
     "status": "completed"
    },
    "tags": []
   },
   "outputs": [],
   "source": [
    "# rfe_1_feat_mask = fs_rfe(selector_rfe_1, rt_senti[\"reviewText\"], rt_senti[\"sentiment\"], ngram_range=(1,1))\n",
    "# rfe_1_feat_mask"
   ]
  },
  {
   "cell_type": "code",
   "execution_count": 146,
   "id": "6cd68123",
   "metadata": {
    "execution": {
     "iopub.execute_input": "2023-08-10T20:15:05.677039Z",
     "iopub.status.busy": "2023-08-10T20:15:05.676293Z",
     "iopub.status.idle": "2023-08-10T20:15:05.681423Z",
     "shell.execute_reply": "2023-08-10T20:15:05.680177Z"
    },
    "papermill": {
     "duration": 0.114838,
     "end_time": "2023-08-10T20:15:05.683833",
     "exception": false,
     "start_time": "2023-08-10T20:15:05.568995",
     "status": "completed"
    },
    "tags": []
   },
   "outputs": [],
   "source": [
    "# voc_1gram_rfe = list(compress(voc_1gram, rfe_1_feat_mask))\n",
    "# len(voc_1gram_rfe), voc_1gram_rfe[:10]"
   ]
  },
  {
   "cell_type": "markdown",
   "id": "db41fad5",
   "metadata": {
    "papermill": {
     "duration": 0.106052,
     "end_time": "2023-08-10T20:15:05.896347",
     "exception": false,
     "start_time": "2023-08-10T20:15:05.790295",
     "status": "completed"
    },
    "tags": []
   },
   "source": [
    "`RFE for bigrams`  "
   ]
  },
  {
   "cell_type": "code",
   "execution_count": 147,
   "id": "39e6c95c",
   "metadata": {
    "execution": {
     "iopub.execute_input": "2023-08-10T20:15:06.113145Z",
     "iopub.status.busy": "2023-08-10T20:15:06.112750Z",
     "iopub.status.idle": "2023-08-10T20:15:06.117451Z",
     "shell.execute_reply": "2023-08-10T20:15:06.116442Z"
    },
    "papermill": {
     "duration": 0.114879,
     "end_time": "2023-08-10T20:15:06.119998",
     "exception": false,
     "start_time": "2023-08-10T20:15:06.005119",
     "status": "completed"
    },
    "tags": []
   },
   "outputs": [],
   "source": [
    "# estimator_rfe_2 = LogisticRegression(solver='saga', max_iter=100000)\n",
    "# selector_rfe_2 = RFE(estimator_rfe_2, step=0.1, n_features_to_select=50000)"
   ]
  },
  {
   "cell_type": "code",
   "execution_count": 148,
   "id": "2d687222",
   "metadata": {
    "execution": {
     "iopub.execute_input": "2023-08-10T20:15:06.336723Z",
     "iopub.status.busy": "2023-08-10T20:15:06.336289Z",
     "iopub.status.idle": "2023-08-10T20:15:06.340930Z",
     "shell.execute_reply": "2023-08-10T20:15:06.339677Z"
    },
    "papermill": {
     "duration": 0.115806,
     "end_time": "2023-08-10T20:15:06.343409",
     "exception": false,
     "start_time": "2023-08-10T20:15:06.227603",
     "status": "completed"
    },
    "tags": []
   },
   "outputs": [],
   "source": [
    "# rfe_2_feat_mask = fs_rfe(selector_rfe_2, rt_senti[\"reviewText\"], rt_senti[\"sentiment\"], ngram_range=(2,2))\n",
    "# rfe_2_feat_mask"
   ]
  },
  {
   "cell_type": "code",
   "execution_count": 149,
   "id": "367a4370",
   "metadata": {
    "execution": {
     "iopub.execute_input": "2023-08-10T20:15:06.558756Z",
     "iopub.status.busy": "2023-08-10T20:15:06.558335Z",
     "iopub.status.idle": "2023-08-10T20:15:06.562830Z",
     "shell.execute_reply": "2023-08-10T20:15:06.561664Z"
    },
    "papermill": {
     "duration": 0.114259,
     "end_time": "2023-08-10T20:15:06.565437",
     "exception": false,
     "start_time": "2023-08-10T20:15:06.451178",
     "status": "completed"
    },
    "tags": []
   },
   "outputs": [],
   "source": [
    "# voc_2gram_rfe = list(compress(voc_2gram, rfe_2_feat_mask))\n",
    "# len(voc_2gram_rfe), voc_2gram_rfe[:10]"
   ]
  },
  {
   "cell_type": "markdown",
   "id": "cc0ca5ee",
   "metadata": {
    "papermill": {
     "duration": 0.104888,
     "end_time": "2023-08-10T20:15:06.775214",
     "exception": false,
     "start_time": "2023-08-10T20:15:06.670326",
     "status": "completed"
    },
    "tags": []
   },
   "source": [
    "## Final RFE-derived vocabulary  "
   ]
  },
  {
   "cell_type": "code",
   "execution_count": 150,
   "id": "e0b85791",
   "metadata": {
    "execution": {
     "iopub.execute_input": "2023-08-10T20:15:06.988963Z",
     "iopub.status.busy": "2023-08-10T20:15:06.988526Z",
     "iopub.status.idle": "2023-08-10T20:15:06.993189Z",
     "shell.execute_reply": "2023-08-10T20:15:06.992134Z"
    },
    "papermill": {
     "duration": 0.115715,
     "end_time": "2023-08-10T20:15:06.995354",
     "exception": false,
     "start_time": "2023-08-10T20:15:06.879639",
     "status": "completed"
    },
    "tags": []
   },
   "outputs": [],
   "source": [
    "# rfe_vocab = voc_1gram_rfe + voc_2gram_rfe\n",
    "# len(rfe_vocab), rfe_vocab[:10], rfe_vocab[-10:]"
   ]
  },
  {
   "cell_type": "code",
   "execution_count": 151,
   "id": "86416c04",
   "metadata": {
    "execution": {
     "iopub.execute_input": "2023-08-10T20:15:07.224551Z",
     "iopub.status.busy": "2023-08-10T20:15:07.224160Z",
     "iopub.status.idle": "2023-08-10T20:15:07.229372Z",
     "shell.execute_reply": "2023-08-10T20:15:07.228062Z"
    },
    "papermill": {
     "duration": 0.130055,
     "end_time": "2023-08-10T20:15:07.231585",
     "exception": false,
     "start_time": "2023-08-10T20:15:07.101530",
     "status": "completed"
    },
    "tags": []
   },
   "outputs": [],
   "source": [
    "## Test RFE obtained vocabulary in final pipeline (only with reviewText)  \n",
    "# submit_v4(selected_model=LogisticRegression(C=5, solver=\"saga\", max_iter=100000),\n",
    "#           selected_features=rt_dict,\n",
    "#           param_grid=None,\n",
    "#           vocab=rfe_vocab)"
   ]
  },
  {
   "cell_type": "markdown",
   "id": "bed7707b",
   "metadata": {
    "papermill": {
     "duration": 0.106605,
     "end_time": "2023-08-10T20:15:07.444263",
     "exception": false,
     "start_time": "2023-08-10T20:15:07.337658",
     "status": "completed"
    },
    "tags": []
   },
   "source": [
    "## Use rfe_vocab in final pipeline with all params  "
   ]
  },
  {
   "cell_type": "code",
   "execution_count": 152,
   "id": "5353e6fb",
   "metadata": {
    "execution": {
     "iopub.execute_input": "2023-08-10T20:15:07.721868Z",
     "iopub.status.busy": "2023-08-10T20:15:07.721411Z",
     "iopub.status.idle": "2023-08-10T20:15:07.726223Z",
     "shell.execute_reply": "2023-08-10T20:15:07.725096Z"
    },
    "papermill": {
     "duration": 0.179272,
     "end_time": "2023-08-10T20:15:07.728430",
     "exception": false,
     "start_time": "2023-08-10T20:15:07.549158",
     "status": "completed"
    },
    "tags": []
   },
   "outputs": [],
   "source": [
    "# submit_v4(selected_model=LogisticRegression(max_iter=100000),\n",
    "#           selected_features=all_dict,\n",
    "#           param_grid=param_grid,\n",
    "#           vocab=rfe_vocab)"
   ]
  },
  {
   "cell_type": "code",
   "execution_count": 153,
   "id": "28ee334f",
   "metadata": {
    "execution": {
     "iopub.execute_input": "2023-08-10T20:15:07.940835Z",
     "iopub.status.busy": "2023-08-10T20:15:07.940369Z",
     "iopub.status.idle": "2023-08-10T20:15:07.952162Z",
     "shell.execute_reply": "2023-08-10T20:15:07.951143Z"
    },
    "papermill": {
     "duration": 0.121113,
     "end_time": "2023-08-10T20:15:07.954699",
     "exception": false,
     "start_time": "2023-08-10T20:15:07.833586",
     "status": "completed"
    },
    "tags": []
   },
   "outputs": [
    {
     "data": {
      "text/html": [
       "<style>#sk-container-id-1 {color: black;background-color: white;}#sk-container-id-1 pre{padding: 0;}#sk-container-id-1 div.sk-toggleable {background-color: white;}#sk-container-id-1 label.sk-toggleable__label {cursor: pointer;display: block;width: 100%;margin-bottom: 0;padding: 0.3em;box-sizing: border-box;text-align: center;}#sk-container-id-1 label.sk-toggleable__label-arrow:before {content: \"▸\";float: left;margin-right: 0.25em;color: #696969;}#sk-container-id-1 label.sk-toggleable__label-arrow:hover:before {color: black;}#sk-container-id-1 div.sk-estimator:hover label.sk-toggleable__label-arrow:before {color: black;}#sk-container-id-1 div.sk-toggleable__content {max-height: 0;max-width: 0;overflow: hidden;text-align: left;background-color: #f0f8ff;}#sk-container-id-1 div.sk-toggleable__content pre {margin: 0.2em;color: black;border-radius: 0.25em;background-color: #f0f8ff;}#sk-container-id-1 input.sk-toggleable__control:checked~div.sk-toggleable__content {max-height: 200px;max-width: 100%;overflow: auto;}#sk-container-id-1 input.sk-toggleable__control:checked~label.sk-toggleable__label-arrow:before {content: \"▾\";}#sk-container-id-1 div.sk-estimator input.sk-toggleable__control:checked~label.sk-toggleable__label {background-color: #d4ebff;}#sk-container-id-1 div.sk-label input.sk-toggleable__control:checked~label.sk-toggleable__label {background-color: #d4ebff;}#sk-container-id-1 input.sk-hidden--visually {border: 0;clip: rect(1px 1px 1px 1px);clip: rect(1px, 1px, 1px, 1px);height: 1px;margin: -1px;overflow: hidden;padding: 0;position: absolute;width: 1px;}#sk-container-id-1 div.sk-estimator {font-family: monospace;background-color: #f0f8ff;border: 1px dotted black;border-radius: 0.25em;box-sizing: border-box;margin-bottom: 0.5em;}#sk-container-id-1 div.sk-estimator:hover {background-color: #d4ebff;}#sk-container-id-1 div.sk-parallel-item::after {content: \"\";width: 100%;border-bottom: 1px solid gray;flex-grow: 1;}#sk-container-id-1 div.sk-label:hover label.sk-toggleable__label {background-color: #d4ebff;}#sk-container-id-1 div.sk-serial::before {content: \"\";position: absolute;border-left: 1px solid gray;box-sizing: border-box;top: 0;bottom: 0;left: 50%;z-index: 0;}#sk-container-id-1 div.sk-serial {display: flex;flex-direction: column;align-items: center;background-color: white;padding-right: 0.2em;padding-left: 0.2em;position: relative;}#sk-container-id-1 div.sk-item {position: relative;z-index: 1;}#sk-container-id-1 div.sk-parallel {display: flex;align-items: stretch;justify-content: center;background-color: white;position: relative;}#sk-container-id-1 div.sk-item::before, #sk-container-id-1 div.sk-parallel-item::before {content: \"\";position: absolute;border-left: 1px solid gray;box-sizing: border-box;top: 0;bottom: 0;left: 50%;z-index: -1;}#sk-container-id-1 div.sk-parallel-item {display: flex;flex-direction: column;z-index: 1;position: relative;background-color: white;}#sk-container-id-1 div.sk-parallel-item:first-child::after {align-self: flex-end;width: 50%;}#sk-container-id-1 div.sk-parallel-item:last-child::after {align-self: flex-start;width: 50%;}#sk-container-id-1 div.sk-parallel-item:only-child::after {width: 0;}#sk-container-id-1 div.sk-dashed-wrapped {border: 1px dashed gray;margin: 0 0.4em 0.5em 0.4em;box-sizing: border-box;padding-bottom: 0.4em;background-color: white;}#sk-container-id-1 div.sk-label label {font-family: monospace;font-weight: bold;display: inline-block;line-height: 1.2em;}#sk-container-id-1 div.sk-label-container {text-align: center;}#sk-container-id-1 div.sk-container {/* jupyter's `normalize.less` sets `[hidden] { display: none; }` but bootstrap.min.css set `[hidden] { display: none !important; }` so we also need the `!important` here to be able to override the default hidden behavior on the sphinx rendered scikit-learn.org. See: https://github.com/scikit-learn/scikit-learn/issues/21755 */display: inline-block !important;position: relative;}#sk-container-id-1 div.sk-text-repr-fallback {display: none;}</style><div id=\"sk-container-id-1\" class=\"sk-top-container\"><div class=\"sk-text-repr-fallback\"><pre>AdaBoostClassifier(estimator=LogisticRegression(C=5, max_iter=100000,\n",
       "                                                solver=&#x27;saga&#x27;))</pre><b>In a Jupyter environment, please rerun this cell to show the HTML representation or trust the notebook. <br />On GitHub, the HTML representation is unable to render, please try loading this page with nbviewer.org.</b></div><div class=\"sk-container\" hidden><div class=\"sk-item sk-dashed-wrapped\"><div class=\"sk-label-container\"><div class=\"sk-label sk-toggleable\"><input class=\"sk-toggleable__control sk-hidden--visually\" id=\"sk-estimator-id-1\" type=\"checkbox\" ><label for=\"sk-estimator-id-1\" class=\"sk-toggleable__label sk-toggleable__label-arrow\">AdaBoostClassifier</label><div class=\"sk-toggleable__content\"><pre>AdaBoostClassifier(estimator=LogisticRegression(C=5, max_iter=100000,\n",
       "                                                solver=&#x27;saga&#x27;))</pre></div></div></div><div class=\"sk-parallel\"><div class=\"sk-parallel-item\"><div class=\"sk-item\"><div class=\"sk-label-container\"><div class=\"sk-label sk-toggleable\"><input class=\"sk-toggleable__control sk-hidden--visually\" id=\"sk-estimator-id-2\" type=\"checkbox\" ><label for=\"sk-estimator-id-2\" class=\"sk-toggleable__label sk-toggleable__label-arrow\">estimator: LogisticRegression</label><div class=\"sk-toggleable__content\"><pre>LogisticRegression(C=5, max_iter=100000, solver=&#x27;saga&#x27;)</pre></div></div></div><div class=\"sk-serial\"><div class=\"sk-item\"><div class=\"sk-estimator sk-toggleable\"><input class=\"sk-toggleable__control sk-hidden--visually\" id=\"sk-estimator-id-3\" type=\"checkbox\" ><label for=\"sk-estimator-id-3\" class=\"sk-toggleable__label sk-toggleable__label-arrow\">LogisticRegression</label><div class=\"sk-toggleable__content\"><pre>LogisticRegression(C=5, max_iter=100000, solver=&#x27;saga&#x27;)</pre></div></div></div></div></div></div></div></div></div></div>"
      ],
      "text/plain": [
       "AdaBoostClassifier(estimator=LogisticRegression(C=5, max_iter=100000,\n",
       "                                                solver='saga'))"
      ]
     },
     "execution_count": 153,
     "metadata": {},
     "output_type": "execute_result"
    }
   ],
   "source": [
    "adc = AdaBoostClassifier(estimator=LogisticRegression(C=5, solver=\"saga\", max_iter=100000), n_estimators=50)\n",
    "adc"
   ]
  },
  {
   "cell_type": "code",
   "execution_count": 154,
   "id": "94fe20f2",
   "metadata": {
    "execution": {
     "iopub.execute_input": "2023-08-10T20:15:08.169382Z",
     "iopub.status.busy": "2023-08-10T20:15:08.168967Z",
     "iopub.status.idle": "2023-08-10T20:15:08.173984Z",
     "shell.execute_reply": "2023-08-10T20:15:08.172576Z"
    },
    "papermill": {
     "duration": 0.114794,
     "end_time": "2023-08-10T20:15:08.176284",
     "exception": false,
     "start_time": "2023-08-10T20:15:08.061490",
     "status": "completed"
    },
    "tags": []
   },
   "outputs": [],
   "source": [
    "# submit_v4(selected_model=adc,\n",
    "#           selected_features={'cat': ['isFrequentReviewer']},\n",
    "#           param_grid=None,\n",
    "#           vocab=rfe_vocab)"
   ]
  },
  {
   "cell_type": "code",
   "execution_count": 155,
   "id": "830db220",
   "metadata": {
    "execution": {
     "iopub.execute_input": "2023-08-10T20:15:08.389420Z",
     "iopub.status.busy": "2023-08-10T20:15:08.389039Z",
     "iopub.status.idle": "2023-08-10T20:15:08.393794Z",
     "shell.execute_reply": "2023-08-10T20:15:08.392687Z"
    },
    "papermill": {
     "duration": 0.11436,
     "end_time": "2023-08-10T20:15:08.396197",
     "exception": false,
     "start_time": "2023-08-10T20:15:08.281837",
     "status": "completed"
    },
    "tags": []
   },
   "outputs": [],
   "source": [
    "# AdaBoost on all features with RFE vocab on reviewText\n",
    "\n",
    "# submit_v4(selected_model=adc,\n",
    "#           selected_features=all_dict,\n",
    "#           param_grid=None,\n",
    "#           vocab=rfe_vocab)"
   ]
  },
  {
   "cell_type": "code",
   "execution_count": 156,
   "id": "eb1e99b3",
   "metadata": {
    "execution": {
     "iopub.execute_input": "2023-08-10T20:15:08.609042Z",
     "iopub.status.busy": "2023-08-10T20:15:08.608637Z",
     "iopub.status.idle": "2023-08-10T20:15:08.613435Z",
     "shell.execute_reply": "2023-08-10T20:15:08.612182Z"
    },
    "papermill": {
     "duration": 0.113223,
     "end_time": "2023-08-10T20:15:08.615896",
     "exception": false,
     "start_time": "2023-08-10T20:15:08.502673",
     "status": "completed"
    },
    "tags": []
   },
   "outputs": [],
   "source": [
    "# RandomForestClassifier test run on one feature\n",
    "\n",
    "# rfc_2 = RandomForestClassifier()\n",
    "# rfc_2"
   ]
  },
  {
   "cell_type": "code",
   "execution_count": 157,
   "id": "10e1646f",
   "metadata": {
    "execution": {
     "iopub.execute_input": "2023-08-10T20:15:08.831587Z",
     "iopub.status.busy": "2023-08-10T20:15:08.831179Z",
     "iopub.status.idle": "2023-08-10T20:15:08.835658Z",
     "shell.execute_reply": "2023-08-10T20:15:08.834554Z"
    },
    "papermill": {
     "duration": 0.115194,
     "end_time": "2023-08-10T20:15:08.838176",
     "exception": false,
     "start_time": "2023-08-10T20:15:08.722982",
     "status": "completed"
    },
    "tags": []
   },
   "outputs": [],
   "source": [
    "# submit_v4(selected_model=rfc_2,\n",
    "#           selected_features={'txt': ['reviewerName']},\n",
    "#           param_grid=None,\n",
    "#           vocab=rfe_vocab)"
   ]
  },
  {
   "cell_type": "code",
   "execution_count": 158,
   "id": "d72371ba",
   "metadata": {
    "execution": {
     "iopub.execute_input": "2023-08-10T20:15:09.052662Z",
     "iopub.status.busy": "2023-08-10T20:15:09.052250Z",
     "iopub.status.idle": "2023-08-10T20:15:09.057100Z",
     "shell.execute_reply": "2023-08-10T20:15:09.055835Z"
    },
    "papermill": {
     "duration": 0.115946,
     "end_time": "2023-08-10T20:15:09.059522",
     "exception": false,
     "start_time": "2023-08-10T20:15:08.943576",
     "status": "completed"
    },
    "tags": []
   },
   "outputs": [],
   "source": [
    "# RandomForestClassifier on all features with RFE vocab on reviewText\n",
    "\n",
    "# submit_v4(selected_model=rfc_2,\n",
    "#           selected_features=all_dict,\n",
    "#           param_grid=None,\n",
    "#           vocab=rfe_vocab)"
   ]
  },
  {
   "cell_type": "markdown",
   "id": "a8e490f3",
   "metadata": {
    "papermill": {
     "duration": 0.104873,
     "end_time": "2023-08-10T20:15:09.269777",
     "exception": false,
     "start_time": "2023-08-10T20:15:09.164904",
     "status": "completed"
    },
    "tags": []
   },
   "source": [
    "## Submit_v2 for merged file models  "
   ]
  },
  {
   "cell_type": "code",
   "execution_count": 159,
   "id": "d7d737f1",
   "metadata": {
    "execution": {
     "iopub.execute_input": "2023-08-10T20:15:09.484106Z",
     "iopub.status.busy": "2023-08-10T20:15:09.483703Z",
     "iopub.status.idle": "2023-08-10T20:15:09.490539Z",
     "shell.execute_reply": "2023-08-10T20:15:09.489097Z"
    },
    "papermill": {
     "duration": 0.11796,
     "end_time": "2023-08-10T20:15:09.493150",
     "exception": false,
     "start_time": "2023-08-10T20:15:09.375190",
     "status": "completed"
    },
    "tags": []
   },
   "outputs": [],
   "source": [
    "# def submit_v2(selected_model=pipe_final, selected_features=None):\n",
    "#     '''\n",
    "#     Note that \"selected_preprocessor\" is already used within selected_model or pipeline\n",
    "#     '''\n",
    "#     # Retrain on the whole train.csv file  \n",
    "#     merged = select_features(load_csv(\"train\"), load_csv(\"movies\"))\n",
    "#     X_train = merged.drop(labels=\"sentiment\", axis=1)\n",
    "#     y_train = merged[\"sentiment\"]\n",
    "    \n",
    "#     #Use selected features\n",
    "#     if selected_features:\n",
    "#         X_train = X_train[selected_features]\n",
    "    \n",
    "#     # Check1\n",
    "#     print(X_train.shape)\n",
    "#     print(X_train.head())\n",
    "#     try:\n",
    "#         print(selected_model.named_steps['model'].intercept_, selected_model.named_steps['model'].coef_)\n",
    "#     except:\n",
    "#         print(\"Model not trained yet!\")\n",
    "    \n",
    "#     # Fit \n",
    "#     selected_model.fit(X_train, y_train)\n",
    "    \n",
    "#     # Check2\n",
    "#     print(selected_model.named_steps['model'].intercept_, selected_model.named_steps['model'].coef_)\n",
    "    \n",
    "#     # Predict on test.csv file\n",
    "#     merged_test = select_features(load_csv(\"test\"), load_csv(\"movies\"))\n",
    "#     X_test = merged_test.copy()\n",
    "#     if selected_features:\n",
    "#         X_test = X_test[selected_features]\n",
    "    \n",
    "#     # Check3\n",
    "#     print(X_test.shape)\n",
    "#     print(X_test.head())\n",
    "    \n",
    "#     y_pred = selected_model.predict(X_test)\n",
    "    \n",
    "#     pred_df = pd.DataFrame(y_pred)\n",
    "#     pred_df.columns = [\"sentiment\"]\n",
    "#     pred_df.index.name = \"id\"\n",
    "#     pred_df.to_csv(\"submission.csv\")\n",
    "    \n",
    "#     return \"Successfully created the submission file!!!\""
   ]
  },
  {
   "cell_type": "code",
   "execution_count": 160,
   "id": "89b611e6",
   "metadata": {
    "execution": {
     "iopub.execute_input": "2023-08-10T20:15:09.707225Z",
     "iopub.status.busy": "2023-08-10T20:15:09.706846Z",
     "iopub.status.idle": "2023-08-10T20:15:09.712026Z",
     "shell.execute_reply": "2023-08-10T20:15:09.710656Z"
    },
    "papermill": {
     "duration": 0.116491,
     "end_time": "2023-08-10T20:15:09.714570",
     "exception": false,
     "start_time": "2023-08-10T20:15:09.598079",
     "status": "completed"
    },
    "tags": []
   },
   "outputs": [],
   "source": [
    "#     X_test = merged_test.copy()\n",
    "    \n",
    "#     y_pred = pipe_best4.predict(X_test)\n",
    "# #     np.unique(y_pred, return_counts=True)\n",
    "#     pred_df = pd.DataFrame(y_pred)\n",
    "#     pred_df.columns = [\"sentiment\"]\n",
    "#     pred_df.index.name = \"id\"\n",
    "#     pred_df.value_counts()"
   ]
  },
  {
   "cell_type": "code",
   "execution_count": 161,
   "id": "6a98e1b6",
   "metadata": {
    "execution": {
     "iopub.execute_input": "2023-08-10T20:15:09.931721Z",
     "iopub.status.busy": "2023-08-10T20:15:09.931281Z",
     "iopub.status.idle": "2023-08-10T20:15:09.936347Z",
     "shell.execute_reply": "2023-08-10T20:15:09.934940Z"
    },
    "papermill": {
     "duration": 0.115405,
     "end_time": "2023-08-10T20:15:09.938859",
     "exception": false,
     "start_time": "2023-08-10T20:15:09.823454",
     "status": "completed"
    },
    "tags": []
   },
   "outputs": [],
   "source": [
    "# X_test.columns"
   ]
  },
  {
   "cell_type": "markdown",
   "id": "e2e38ad5",
   "metadata": {
    "papermill": {
     "duration": 0.106254,
     "end_time": "2023-08-10T20:15:10.153727",
     "exception": false,
     "start_time": "2023-08-10T20:15:10.047473",
     "status": "completed"
    },
    "tags": []
   },
   "source": [
    "### Uncomment to submit using v2 of submit function  "
   ]
  },
  {
   "cell_type": "code",
   "execution_count": 162,
   "id": "2960434f",
   "metadata": {
    "execution": {
     "iopub.execute_input": "2023-08-10T20:15:10.366379Z",
     "iopub.status.busy": "2023-08-10T20:15:10.365984Z",
     "iopub.status.idle": "2023-08-10T20:15:10.370974Z",
     "shell.execute_reply": "2023-08-10T20:15:10.369461Z"
    },
    "papermill": {
     "duration": 0.114979,
     "end_time": "2023-08-10T20:15:10.373756",
     "exception": false,
     "start_time": "2023-08-10T20:15:10.258777",
     "status": "completed"
    },
    "tags": []
   },
   "outputs": [],
   "source": [
    "# best4 = [\"audienceScore\", \"rating\", \"isFrequentReviewer\", \"reviewText\"]\n",
    "# best4"
   ]
  },
  {
   "cell_type": "code",
   "execution_count": 163,
   "id": "da2c3253",
   "metadata": {
    "execution": {
     "iopub.execute_input": "2023-08-10T20:15:10.587938Z",
     "iopub.status.busy": "2023-08-10T20:15:10.587506Z",
     "iopub.status.idle": "2023-08-10T20:15:10.592365Z",
     "shell.execute_reply": "2023-08-10T20:15:10.591158Z"
    },
    "papermill": {
     "duration": 0.113819,
     "end_time": "2023-08-10T20:15:10.594713",
     "exception": false,
     "start_time": "2023-08-10T20:15:10.480894",
     "status": "completed"
    },
    "tags": []
   },
   "outputs": [],
   "source": [
    "# submit_v2(selected_model=pipe_RTonly, selected_features=['reviewText'])"
   ]
  },
  {
   "cell_type": "markdown",
   "id": "b62fb805",
   "metadata": {
    "papermill": {
     "duration": 0.10754,
     "end_time": "2023-08-10T20:15:10.808899",
     "exception": false,
     "start_time": "2023-08-10T20:15:10.701359",
     "status": "completed"
    },
    "tags": []
   },
   "source": [
    "### Inspect the submission.csv file  "
   ]
  },
  {
   "cell_type": "code",
   "execution_count": 164,
   "id": "09380b1e",
   "metadata": {
    "execution": {
     "iopub.execute_input": "2023-08-10T20:15:11.030513Z",
     "iopub.status.busy": "2023-08-10T20:15:11.030079Z",
     "iopub.status.idle": "2023-08-10T20:15:11.034855Z",
     "shell.execute_reply": "2023-08-10T20:15:11.033704Z"
    },
    "papermill": {
     "duration": 0.118859,
     "end_time": "2023-08-10T20:15:11.037381",
     "exception": false,
     "start_time": "2023-08-10T20:15:10.918522",
     "status": "completed"
    },
    "tags": []
   },
   "outputs": [],
   "source": [
    "# sub = pd.read_csv('submission.csv')\n",
    "# sub.shape, sub.head()"
   ]
  },
  {
   "cell_type": "code",
   "execution_count": 165,
   "id": "a6387c84",
   "metadata": {
    "execution": {
     "iopub.execute_input": "2023-08-10T20:15:11.278664Z",
     "iopub.status.busy": "2023-08-10T20:15:11.278153Z",
     "iopub.status.idle": "2023-08-10T20:15:11.283018Z",
     "shell.execute_reply": "2023-08-10T20:15:11.281862Z"
    },
    "papermill": {
     "duration": 0.138854,
     "end_time": "2023-08-10T20:15:11.285482",
     "exception": false,
     "start_time": "2023-08-10T20:15:11.146628",
     "status": "completed"
    },
    "tags": []
   },
   "outputs": [],
   "source": [
    "# sub['sentiment'].value_counts()"
   ]
  },
  {
   "cell_type": "markdown",
   "id": "7f89baeb",
   "metadata": {
    "papermill": {
     "duration": 0.11241,
     "end_time": "2023-08-10T20:15:11.508462",
     "exception": false,
     "start_time": "2023-08-10T20:15:11.396052",
     "status": "completed"
    },
    "tags": []
   },
   "source": [
    "## submit_v3 for merged file models - does not retrain on whole data  "
   ]
  },
  {
   "cell_type": "code",
   "execution_count": 166,
   "id": "1a501176",
   "metadata": {
    "execution": {
     "iopub.execute_input": "2023-08-10T20:15:11.747138Z",
     "iopub.status.busy": "2023-08-10T20:15:11.746754Z",
     "iopub.status.idle": "2023-08-10T20:15:11.752233Z",
     "shell.execute_reply": "2023-08-10T20:15:11.750954Z"
    },
    "papermill": {
     "duration": 0.123784,
     "end_time": "2023-08-10T20:15:11.755295",
     "exception": false,
     "start_time": "2023-08-10T20:15:11.631511",
     "status": "completed"
    },
    "tags": []
   },
   "outputs": [],
   "source": [
    "# def submit_v3(selected_model=pipe_final):\n",
    "#     '''\n",
    "#     Note that \"selected_preprocessor\" is already used within selected_model or pipeline\n",
    "#     '''\n",
    "      \n",
    "#     # Predict on test.csv file\n",
    "#     merged_test = select_features(load_csv(\"test\"), load_csv(\"movies\"))\n",
    "#     X_test = merged_test.copy()\n",
    "    \n",
    "#     X_test = X_test[[\"audienceScore\", \"rating\", \"isFrequentReviewer\", \"reviewText\"]]    # This is a new line\n",
    "\n",
    "    \n",
    "#     y_pred = selected_model.predict(X_test)\n",
    "    \n",
    "#     pred_df = pd.DataFrame(y_pred)\n",
    "#     pred_df.columns = [\"sentiment\"]\n",
    "#     pred_df.index.name = \"id\"\n",
    "#     pred_df.to_csv(\"submission.csv\")\n",
    "    \n",
    "#     return \"Successfully created the submission file!!!\""
   ]
  },
  {
   "cell_type": "markdown",
   "id": "bc9adbc2",
   "metadata": {
    "papermill": {
     "duration": 0.107599,
     "end_time": "2023-08-10T20:15:11.972328",
     "exception": false,
     "start_time": "2023-08-10T20:15:11.864729",
     "status": "completed"
    },
    "tags": []
   },
   "source": [
    "### Uncomment to submit using v3 of submit function  "
   ]
  },
  {
   "cell_type": "code",
   "execution_count": 167,
   "id": "c729bda5",
   "metadata": {
    "execution": {
     "iopub.execute_input": "2023-08-10T20:15:12.192504Z",
     "iopub.status.busy": "2023-08-10T20:15:12.192008Z",
     "iopub.status.idle": "2023-08-10T20:15:12.196488Z",
     "shell.execute_reply": "2023-08-10T20:15:12.195572Z"
    },
    "papermill": {
     "duration": 0.117212,
     "end_time": "2023-08-10T20:15:12.199016",
     "exception": false,
     "start_time": "2023-08-10T20:15:12.081804",
     "status": "completed"
    },
    "tags": []
   },
   "outputs": [],
   "source": [
    "# submit_v3(selected_model=pipe_best4)"
   ]
  },
  {
   "cell_type": "markdown",
   "id": "6def4677",
   "metadata": {
    "papermill": {
     "duration": 0.105204,
     "end_time": "2023-08-10T20:15:12.410366",
     "exception": false,
     "start_time": "2023-08-10T20:15:12.305162",
     "status": "completed"
    },
    "tags": []
   },
   "source": [
    "## Rough work  "
   ]
  },
  {
   "cell_type": "code",
   "execution_count": 168,
   "id": "fbcafe0e",
   "metadata": {
    "execution": {
     "iopub.execute_input": "2023-08-10T20:15:12.625356Z",
     "iopub.status.busy": "2023-08-10T20:15:12.624973Z",
     "iopub.status.idle": "2023-08-10T20:15:18.780663Z",
     "shell.execute_reply": "2023-08-10T20:15:18.779342Z"
    },
    "papermill": {
     "duration": 6.265996,
     "end_time": "2023-08-10T20:15:18.783603",
     "exception": false,
     "start_time": "2023-08-10T20:15:12.517607",
     "status": "completed"
    },
    "tags": []
   },
   "outputs": [],
   "source": [
    "    # Predict on test.csv file\n",
    "    merged_test = select_features(load_csv(\"test\"), load_csv(\"movies\"))\n",
    "    X_test = merged_test.copy()\n",
    "    \n",
    "    X_test = X_test[[\"audienceScore\", \"rating\", \"isFrequentReviewer\", \"reviewText\"]]    # This is a new line"
   ]
  },
  {
   "cell_type": "code",
   "execution_count": 169,
   "id": "4a05eb3c",
   "metadata": {
    "execution": {
     "iopub.execute_input": "2023-08-10T20:15:18.999141Z",
     "iopub.status.busy": "2023-08-10T20:15:18.998719Z",
     "iopub.status.idle": "2023-08-10T20:15:19.003751Z",
     "shell.execute_reply": "2023-08-10T20:15:19.002620Z"
    },
    "papermill": {
     "duration": 0.115906,
     "end_time": "2023-08-10T20:15:19.006438",
     "exception": false,
     "start_time": "2023-08-10T20:15:18.890532",
     "status": "completed"
    },
    "tags": []
   },
   "outputs": [],
   "source": [
    "# X_test.head()"
   ]
  },
  {
   "cell_type": "code",
   "execution_count": 170,
   "id": "e1a03499",
   "metadata": {
    "execution": {
     "iopub.execute_input": "2023-08-10T20:15:19.221051Z",
     "iopub.status.busy": "2023-08-10T20:15:19.220622Z",
     "iopub.status.idle": "2023-08-10T20:15:19.225592Z",
     "shell.execute_reply": "2023-08-10T20:15:19.224435Z"
    },
    "papermill": {
     "duration": 0.114583,
     "end_time": "2023-08-10T20:15:19.227897",
     "exception": false,
     "start_time": "2023-08-10T20:15:19.113314",
     "status": "completed"
    },
    "tags": []
   },
   "outputs": [],
   "source": [
    "# X_test['audienceScore'].describe()"
   ]
  },
  {
   "cell_type": "code",
   "execution_count": 171,
   "id": "d29bbfd2",
   "metadata": {
    "execution": {
     "iopub.execute_input": "2023-08-10T20:15:19.443264Z",
     "iopub.status.busy": "2023-08-10T20:15:19.442848Z",
     "iopub.status.idle": "2023-08-10T20:15:19.447662Z",
     "shell.execute_reply": "2023-08-10T20:15:19.446500Z"
    },
    "papermill": {
     "duration": 0.114529,
     "end_time": "2023-08-10T20:15:19.450065",
     "exception": false,
     "start_time": "2023-08-10T20:15:19.335536",
     "status": "completed"
    },
    "tags": []
   },
   "outputs": [],
   "source": [
    "# X_test['rating'].value_counts()"
   ]
  },
  {
   "cell_type": "code",
   "execution_count": 172,
   "id": "fda14ebb",
   "metadata": {
    "execution": {
     "iopub.execute_input": "2023-08-10T20:15:19.663930Z",
     "iopub.status.busy": "2023-08-10T20:15:19.663268Z",
     "iopub.status.idle": "2023-08-10T20:15:19.668079Z",
     "shell.execute_reply": "2023-08-10T20:15:19.667013Z"
    },
    "papermill": {
     "duration": 0.113595,
     "end_time": "2023-08-10T20:15:19.670390",
     "exception": false,
     "start_time": "2023-08-10T20:15:19.556795",
     "status": "completed"
    },
    "tags": []
   },
   "outputs": [],
   "source": [
    "# X_test['isFrequentReviewer'].value_counts()"
   ]
  },
  {
   "cell_type": "markdown",
   "id": "3b7a61fa",
   "metadata": {
    "papermill": {
     "duration": 0.107175,
     "end_time": "2023-08-10T20:15:19.883577",
     "exception": false,
     "start_time": "2023-08-10T20:15:19.776402",
     "status": "completed"
    },
    "tags": []
   },
   "source": [
    "## Implement KNN classifier  "
   ]
  },
  {
   "cell_type": "code",
   "execution_count": 173,
   "id": "07191650",
   "metadata": {
    "execution": {
     "iopub.execute_input": "2023-08-10T20:15:20.098038Z",
     "iopub.status.busy": "2023-08-10T20:15:20.097658Z",
     "iopub.status.idle": "2023-08-10T20:15:20.101689Z",
     "shell.execute_reply": "2023-08-10T20:15:20.100784Z"
    },
    "papermill": {
     "duration": 0.114264,
     "end_time": "2023-08-10T20:15:20.104042",
     "exception": false,
     "start_time": "2023-08-10T20:15:19.989778",
     "status": "completed"
    },
    "tags": []
   },
   "outputs": [],
   "source": [
    "# from sklearn.neighbors import KNeighborsClassifier"
   ]
  },
  {
   "cell_type": "code",
   "execution_count": 174,
   "id": "a34d2dd2",
   "metadata": {
    "execution": {
     "iopub.execute_input": "2023-08-10T20:15:20.316987Z",
     "iopub.status.busy": "2023-08-10T20:15:20.316313Z",
     "iopub.status.idle": "2023-08-10T20:15:20.321163Z",
     "shell.execute_reply": "2023-08-10T20:15:20.320076Z"
    },
    "papermill": {
     "duration": 0.113688,
     "end_time": "2023-08-10T20:15:20.323399",
     "exception": false,
     "start_time": "2023-08-10T20:15:20.209711",
     "status": "completed"
    },
    "tags": []
   },
   "outputs": [],
   "source": [
    "# Note that we are borrowing \"ct_final\" column transformer from above  "
   ]
  },
  {
   "cell_type": "code",
   "execution_count": 175,
   "id": "a1f6e783",
   "metadata": {
    "execution": {
     "iopub.execute_input": "2023-08-10T20:15:20.539376Z",
     "iopub.status.busy": "2023-08-10T20:15:20.539000Z",
     "iopub.status.idle": "2023-08-10T20:15:20.543594Z",
     "shell.execute_reply": "2023-08-10T20:15:20.542397Z"
    },
    "papermill": {
     "duration": 0.115325,
     "end_time": "2023-08-10T20:15:20.546004",
     "exception": false,
     "start_time": "2023-08-10T20:15:20.430679",
     "status": "completed"
    },
    "tags": []
   },
   "outputs": [],
   "source": [
    "# pipe_knn = Pipeline(steps=[\n",
    "#                         (\"preprocessor\", ct_final),\n",
    "#                         (\"model\", KNeighborsClassifier())\n",
    "#                     ])\n",
    "# pipe_knn"
   ]
  },
  {
   "cell_type": "code",
   "execution_count": 176,
   "id": "5e5ecd4c",
   "metadata": {
    "execution": {
     "iopub.execute_input": "2023-08-10T20:15:20.757975Z",
     "iopub.status.busy": "2023-08-10T20:15:20.757545Z",
     "iopub.status.idle": "2023-08-10T20:15:20.762391Z",
     "shell.execute_reply": "2023-08-10T20:15:20.761203Z"
    },
    "papermill": {
     "duration": 0.114524,
     "end_time": "2023-08-10T20:15:20.765434",
     "exception": false,
     "start_time": "2023-08-10T20:15:20.650910",
     "status": "completed"
    },
    "tags": []
   },
   "outputs": [],
   "source": [
    "# Train and predict on merged training data  \n",
    "# split_train_predict(merged_train_features, merged_train_labels, pipe_knn, test_size=0.25, random_state=42)"
   ]
  },
  {
   "cell_type": "markdown",
   "id": "a0ca77ff",
   "metadata": {
    "papermill": {
     "duration": 0.105002,
     "end_time": "2023-08-10T20:15:20.979088",
     "exception": false,
     "start_time": "2023-08-10T20:15:20.874086",
     "status": "completed"
    },
    "tags": []
   },
   "source": [
    "# Part I (Older code)  "
   ]
  },
  {
   "cell_type": "markdown",
   "id": "22ea7479",
   "metadata": {
    "papermill": {
     "duration": 0.10633,
     "end_time": "2023-08-10T20:15:21.193185",
     "exception": false,
     "start_time": "2023-08-10T20:15:21.086855",
     "status": "completed"
    },
    "tags": []
   },
   "source": [
    "### Logistic Regression with stop words  "
   ]
  },
  {
   "cell_type": "code",
   "execution_count": 177,
   "id": "3ac0618b",
   "metadata": {
    "execution": {
     "iopub.execute_input": "2023-08-10T20:15:21.406185Z",
     "iopub.status.busy": "2023-08-10T20:15:21.405760Z",
     "iopub.status.idle": "2023-08-10T20:15:21.410958Z",
     "shell.execute_reply": "2023-08-10T20:15:21.409931Z"
    },
    "papermill": {
     "duration": 0.114303,
     "end_time": "2023-08-10T20:15:21.413321",
     "exception": false,
     "start_time": "2023-08-10T20:15:21.299018",
     "status": "completed"
    },
    "tags": []
   },
   "outputs": [],
   "source": [
    "# tvec_sw = TfidfVectorizer(stop_words=stop_words)"
   ]
  },
  {
   "cell_type": "code",
   "execution_count": 178,
   "id": "8b6999b1",
   "metadata": {
    "execution": {
     "iopub.execute_input": "2023-08-10T20:15:21.625931Z",
     "iopub.status.busy": "2023-08-10T20:15:21.625351Z",
     "iopub.status.idle": "2023-08-10T20:15:21.630415Z",
     "shell.execute_reply": "2023-08-10T20:15:21.629207Z"
    },
    "papermill": {
     "duration": 0.114272,
     "end_time": "2023-08-10T20:15:21.633035",
     "exception": false,
     "start_time": "2023-08-10T20:15:21.518763",
     "status": "completed"
    },
    "tags": []
   },
   "outputs": [],
   "source": [
    "# logreg_sw_pipe = preprocess_n_train(X_train, y_train, tvec_sw, logreg)\n",
    "# logreg_sw_pipe"
   ]
  },
  {
   "cell_type": "code",
   "execution_count": 179,
   "id": "9d589b95",
   "metadata": {
    "execution": {
     "iopub.execute_input": "2023-08-10T20:15:21.849283Z",
     "iopub.status.busy": "2023-08-10T20:15:21.848879Z",
     "iopub.status.idle": "2023-08-10T20:15:21.853697Z",
     "shell.execute_reply": "2023-08-10T20:15:21.852463Z"
    },
    "papermill": {
     "duration": 0.116158,
     "end_time": "2023-08-10T20:15:21.856172",
     "exception": false,
     "start_time": "2023-08-10T20:15:21.740014",
     "status": "completed"
    },
    "tags": []
   },
   "outputs": [],
   "source": [
    "# y_pred_logreg_sw = predict_n_evaluate(logreg_sw_pipe, X_test, y_test)\n",
    "# y_pred_logreg_sw"
   ]
  },
  {
   "cell_type": "markdown",
   "id": "296cf551",
   "metadata": {
    "papermill": {
     "duration": 0.106564,
     "end_time": "2023-08-10T20:15:22.068952",
     "exception": false,
     "start_time": "2023-08-10T20:15:21.962388",
     "status": "completed"
    },
    "tags": []
   },
   "source": [
    "### Logistic regression with different ngram ranges  "
   ]
  },
  {
   "cell_type": "code",
   "execution_count": 180,
   "id": "bff3ca09",
   "metadata": {
    "execution": {
     "iopub.execute_input": "2023-08-10T20:15:22.284734Z",
     "iopub.status.busy": "2023-08-10T20:15:22.284307Z",
     "iopub.status.idle": "2023-08-10T20:15:22.288531Z",
     "shell.execute_reply": "2023-08-10T20:15:22.287749Z"
    },
    "papermill": {
     "duration": 0.115314,
     "end_time": "2023-08-10T20:15:22.290800",
     "exception": false,
     "start_time": "2023-08-10T20:15:22.175486",
     "status": "completed"
    },
    "tags": []
   },
   "outputs": [],
   "source": [
    "# tvec_ngram_2 = TfidfVectorizer(ngram_range=(1,2))"
   ]
  },
  {
   "cell_type": "code",
   "execution_count": 181,
   "id": "01f0c003",
   "metadata": {
    "execution": {
     "iopub.execute_input": "2023-08-10T20:15:22.505279Z",
     "iopub.status.busy": "2023-08-10T20:15:22.504532Z",
     "iopub.status.idle": "2023-08-10T20:15:22.509100Z",
     "shell.execute_reply": "2023-08-10T20:15:22.508016Z"
    },
    "papermill": {
     "duration": 0.114222,
     "end_time": "2023-08-10T20:15:22.511663",
     "exception": false,
     "start_time": "2023-08-10T20:15:22.397441",
     "status": "completed"
    },
    "tags": []
   },
   "outputs": [],
   "source": [
    "# logreg_ng2_pipe = preprocess_n_train(X_train, y_train, tvec_ngram_2, logreg)\n",
    "# logreg_ng2_pipe"
   ]
  },
  {
   "cell_type": "code",
   "execution_count": 182,
   "id": "6e53872b",
   "metadata": {
    "execution": {
     "iopub.execute_input": "2023-08-10T20:15:22.735767Z",
     "iopub.status.busy": "2023-08-10T20:15:22.735245Z",
     "iopub.status.idle": "2023-08-10T20:15:22.740123Z",
     "shell.execute_reply": "2023-08-10T20:15:22.738941Z"
    },
    "papermill": {
     "duration": 0.122846,
     "end_time": "2023-08-10T20:15:22.742655",
     "exception": false,
     "start_time": "2023-08-10T20:15:22.619809",
     "status": "completed"
    },
    "tags": []
   },
   "outputs": [],
   "source": [
    "# y_pred_logreg_ng2 = predict_n_evaluate(logreg_ng2_pipe, X_test, y_test)\n",
    "# y_pred_logreg_ng2"
   ]
  },
  {
   "cell_type": "markdown",
   "id": "92dc1a9a",
   "metadata": {
    "papermill": {
     "duration": 0.105082,
     "end_time": "2023-08-10T20:15:22.956443",
     "exception": false,
     "start_time": "2023-08-10T20:15:22.851361",
     "status": "completed"
    },
    "tags": []
   },
   "source": [
    "### Logistic regression with C=2, ngram range (1,2), stop words as None and min_df, max_df adjusted\n",
    "### Class weight balanced"
   ]
  },
  {
   "cell_type": "code",
   "execution_count": 183,
   "id": "618ced05",
   "metadata": {
    "execution": {
     "iopub.execute_input": "2023-08-10T20:15:23.173291Z",
     "iopub.status.busy": "2023-08-10T20:15:23.171030Z",
     "iopub.status.idle": "2023-08-10T20:15:23.177158Z",
     "shell.execute_reply": "2023-08-10T20:15:23.176075Z"
    },
    "papermill": {
     "duration": 0.115945,
     "end_time": "2023-08-10T20:15:23.179605",
     "exception": false,
     "start_time": "2023-08-10T20:15:23.063660",
     "status": "completed"
    },
    "tags": []
   },
   "outputs": [],
   "source": [
    "# logreg = LogisticRegression(max_iter=100000, C=2, class_weight=\"balanced\")"
   ]
  },
  {
   "cell_type": "code",
   "execution_count": 184,
   "id": "e32b8320",
   "metadata": {
    "execution": {
     "iopub.execute_input": "2023-08-10T20:15:23.392050Z",
     "iopub.status.busy": "2023-08-10T20:15:23.391648Z",
     "iopub.status.idle": "2023-08-10T20:15:23.395975Z",
     "shell.execute_reply": "2023-08-10T20:15:23.394688Z"
    },
    "papermill": {
     "duration": 0.113231,
     "end_time": "2023-08-10T20:15:23.398290",
     "exception": false,
     "start_time": "2023-08-10T20:15:23.285059",
     "status": "completed"
    },
    "tags": []
   },
   "outputs": [],
   "source": [
    "# tvec_ngram_2_sw_df = TfidfVectorizer(ngram_range=(1,2), stop_words=None, min_df=0.0001, max_df=0.50)\n",
    "# tvec_ngram_2_sw_df"
   ]
  },
  {
   "cell_type": "code",
   "execution_count": 185,
   "id": "53257b8d",
   "metadata": {
    "execution": {
     "iopub.execute_input": "2023-08-10T20:15:23.677677Z",
     "iopub.status.busy": "2023-08-10T20:15:23.677282Z",
     "iopub.status.idle": "2023-08-10T20:15:23.682032Z",
     "shell.execute_reply": "2023-08-10T20:15:23.680567Z"
    },
    "papermill": {
     "duration": 0.114492,
     "end_time": "2023-08-10T20:15:23.684447",
     "exception": false,
     "start_time": "2023-08-10T20:15:23.569955",
     "status": "completed"
    },
    "tags": []
   },
   "outputs": [],
   "source": [
    "# logreg_ng2_sw_df_pipe = preprocess_n_train(X_train, y_train, tvec_ngram_2_sw_df, logreg)\n",
    "# logreg_ng2_sw_df_pipe"
   ]
  },
  {
   "cell_type": "code",
   "execution_count": 186,
   "id": "11a00fd6",
   "metadata": {
    "execution": {
     "iopub.execute_input": "2023-08-10T20:15:23.905120Z",
     "iopub.status.busy": "2023-08-10T20:15:23.903677Z",
     "iopub.status.idle": "2023-08-10T20:15:23.909392Z",
     "shell.execute_reply": "2023-08-10T20:15:23.908233Z"
    },
    "papermill": {
     "duration": 0.1178,
     "end_time": "2023-08-10T20:15:23.911630",
     "exception": false,
     "start_time": "2023-08-10T20:15:23.793830",
     "status": "completed"
    },
    "tags": []
   },
   "outputs": [],
   "source": [
    "# y_pred_logreg_ng2_sw_df = predict_n_evaluate(logreg_ng2_sw_df_pipe, X_test, y_test)\n",
    "# y_pred_logreg_ng2_sw_df"
   ]
  },
  {
   "cell_type": "markdown",
   "id": "54db8723",
   "metadata": {
    "papermill": {
     "duration": 0.105744,
     "end_time": "2023-08-10T20:15:24.128809",
     "exception": false,
     "start_time": "2023-08-10T20:15:24.023065",
     "status": "completed"
    },
    "tags": []
   },
   "source": [
    "### Log reg with parameters from GridSearchCV  \n",
    "\n",
    "`This is the best score with \"reviewText column alone for analysis`  "
   ]
  },
  {
   "cell_type": "code",
   "execution_count": 187,
   "id": "dac05a90",
   "metadata": {
    "execution": {
     "iopub.execute_input": "2023-08-10T20:15:24.342134Z",
     "iopub.status.busy": "2023-08-10T20:15:24.341115Z",
     "iopub.status.idle": "2023-08-10T20:15:24.346405Z",
     "shell.execute_reply": "2023-08-10T20:15:24.345273Z"
    },
    "papermill": {
     "duration": 0.114927,
     "end_time": "2023-08-10T20:15:24.348867",
     "exception": false,
     "start_time": "2023-08-10T20:15:24.233940",
     "status": "completed"
    },
    "tags": []
   },
   "outputs": [],
   "source": [
    "logreg_cv1 = LogisticRegression(max_iter=100000, C=10)\n",
    "tvec_cv1 = TfidfVectorizer(max_features=None, ngram_range=(1,2))"
   ]
  },
  {
   "cell_type": "code",
   "execution_count": 188,
   "id": "50d416fe",
   "metadata": {
    "execution": {
     "iopub.execute_input": "2023-08-10T20:15:24.565967Z",
     "iopub.status.busy": "2023-08-10T20:15:24.565480Z",
     "iopub.status.idle": "2023-08-10T20:15:24.570934Z",
     "shell.execute_reply": "2023-08-10T20:15:24.569704Z"
    },
    "papermill": {
     "duration": 0.119522,
     "end_time": "2023-08-10T20:15:24.573687",
     "exception": false,
     "start_time": "2023-08-10T20:15:24.454165",
     "status": "completed"
    },
    "tags": []
   },
   "outputs": [],
   "source": [
    "pipe_cv1 = Pipeline(steps=[\n",
    "    (\"preprocessor\", tvec_cv1),\n",
    "    (\"model\", logreg_cv1)\n",
    "])"
   ]
  },
  {
   "cell_type": "code",
   "execution_count": 189,
   "id": "c69ed760",
   "metadata": {
    "execution": {
     "iopub.execute_input": "2023-08-10T20:15:24.790517Z",
     "iopub.status.busy": "2023-08-10T20:15:24.789733Z",
     "iopub.status.idle": "2023-08-10T20:15:24.794695Z",
     "shell.execute_reply": "2023-08-10T20:15:24.793834Z"
    },
    "papermill": {
     "duration": 0.115337,
     "end_time": "2023-08-10T20:15:24.797207",
     "exception": false,
     "start_time": "2023-08-10T20:15:24.681870",
     "status": "completed"
    },
    "tags": []
   },
   "outputs": [],
   "source": [
    "# pipe_cv1.fit(X_train, y_train)"
   ]
  },
  {
   "cell_type": "code",
   "execution_count": 190,
   "id": "e23f9a1a",
   "metadata": {
    "execution": {
     "iopub.execute_input": "2023-08-10T20:15:25.012151Z",
     "iopub.status.busy": "2023-08-10T20:15:25.011064Z",
     "iopub.status.idle": "2023-08-10T20:15:25.016561Z",
     "shell.execute_reply": "2023-08-10T20:15:25.015638Z"
    },
    "papermill": {
     "duration": 0.116517,
     "end_time": "2023-08-10T20:15:25.019263",
     "exception": false,
     "start_time": "2023-08-10T20:15:24.902746",
     "status": "completed"
    },
    "tags": []
   },
   "outputs": [],
   "source": [
    "# pipe_cv1.score(X_train, y_train)"
   ]
  },
  {
   "cell_type": "markdown",
   "id": "5613fe3a",
   "metadata": {
    "papermill": {
     "duration": 0.105255,
     "end_time": "2023-08-10T20:15:25.231215",
     "exception": false,
     "start_time": "2023-08-10T20:15:25.125960",
     "status": "completed"
    },
    "tags": []
   },
   "source": [
    "### SVM model with stop words  "
   ]
  },
  {
   "cell_type": "code",
   "execution_count": 191,
   "id": "719d050c",
   "metadata": {
    "execution": {
     "iopub.execute_input": "2023-08-10T20:15:25.444513Z",
     "iopub.status.busy": "2023-08-10T20:15:25.443879Z",
     "iopub.status.idle": "2023-08-10T20:15:25.449087Z",
     "shell.execute_reply": "2023-08-10T20:15:25.447597Z"
    },
    "papermill": {
     "duration": 0.1156,
     "end_time": "2023-08-10T20:15:25.451770",
     "exception": false,
     "start_time": "2023-08-10T20:15:25.336170",
     "status": "completed"
    },
    "tags": []
   },
   "outputs": [],
   "source": [
    "# svm_sw_pipe = preprocess_n_train(X_train, y_train, tvec_sw, svm)\n",
    "# svm_sw_pipe"
   ]
  },
  {
   "cell_type": "code",
   "execution_count": 192,
   "id": "d644d307",
   "metadata": {
    "execution": {
     "iopub.execute_input": "2023-08-10T20:15:25.666526Z",
     "iopub.status.busy": "2023-08-10T20:15:25.666143Z",
     "iopub.status.idle": "2023-08-10T20:15:25.670682Z",
     "shell.execute_reply": "2023-08-10T20:15:25.669409Z"
    },
    "papermill": {
     "duration": 0.114134,
     "end_time": "2023-08-10T20:15:25.673096",
     "exception": false,
     "start_time": "2023-08-10T20:15:25.558962",
     "status": "completed"
    },
    "tags": []
   },
   "outputs": [],
   "source": [
    "# y_pred_svm_sw = predict_n_evaluate(svm_sw_pipe, X_test, y_test)\n",
    "# y_pred_svm_sw"
   ]
  },
  {
   "cell_type": "markdown",
   "id": "061ea5e8",
   "metadata": {
    "papermill": {
     "duration": 0.108654,
     "end_time": "2023-08-10T20:15:25.890129",
     "exception": false,
     "start_time": "2023-08-10T20:15:25.781475",
     "status": "completed"
    },
    "tags": []
   },
   "source": [
    "### GaussianNB  "
   ]
  },
  {
   "cell_type": "markdown",
   "id": "c4d46eb7",
   "metadata": {
    "papermill": {
     "duration": 0.108644,
     "end_time": "2023-08-10T20:15:26.108910",
     "exception": false,
     "start_time": "2023-08-10T20:15:26.000266",
     "status": "completed"
    },
    "tags": []
   },
   "source": [
    "https://stackoverflow.com/questions/28384680/scikit-learns-pipeline-a-sparse-matrix-was-passed-but-dense-data-is-required"
   ]
  },
  {
   "cell_type": "code",
   "execution_count": 193,
   "id": "8c45fb41",
   "metadata": {
    "execution": {
     "iopub.execute_input": "2023-08-10T20:15:26.323924Z",
     "iopub.status.busy": "2023-08-10T20:15:26.323496Z",
     "iopub.status.idle": "2023-08-10T20:15:26.328072Z",
     "shell.execute_reply": "2023-08-10T20:15:26.326942Z"
    },
    "papermill": {
     "duration": 0.114853,
     "end_time": "2023-08-10T20:15:26.330922",
     "exception": false,
     "start_time": "2023-08-10T20:15:26.216069",
     "status": "completed"
    },
    "tags": []
   },
   "outputs": [],
   "source": [
    "# gnb = GaussianNB()\n",
    "# gnb"
   ]
  },
  {
   "cell_type": "code",
   "execution_count": 194,
   "id": "0064a720",
   "metadata": {
    "execution": {
     "iopub.execute_input": "2023-08-10T20:15:26.551977Z",
     "iopub.status.busy": "2023-08-10T20:15:26.551224Z",
     "iopub.status.idle": "2023-08-10T20:15:26.555377Z",
     "shell.execute_reply": "2023-08-10T20:15:26.554320Z"
    },
    "papermill": {
     "duration": 0.116072,
     "end_time": "2023-08-10T20:15:26.557744",
     "exception": false,
     "start_time": "2023-08-10T20:15:26.441672",
     "status": "completed"
    },
    "tags": []
   },
   "outputs": [],
   "source": [
    "# gnb_pipe = preprocess_n_train(X_train, y_train, tvec, gnb)\n",
    "# gnb_pipe"
   ]
  },
  {
   "cell_type": "markdown",
   "id": "0d9a5f88",
   "metadata": {
    "papermill": {
     "duration": 0.104813,
     "end_time": "2023-08-10T20:15:26.769468",
     "exception": false,
     "start_time": "2023-08-10T20:15:26.664655",
     "status": "completed"
    },
    "tags": []
   },
   "source": [
    "# Part II (Older code)  \n"
   ]
  },
  {
   "cell_type": "markdown",
   "id": "2a5255b8",
   "metadata": {
    "papermill": {
     "duration": 0.105705,
     "end_time": "2023-08-10T20:15:26.982898",
     "exception": false,
     "start_time": "2023-08-10T20:15:26.877193",
     "status": "completed"
    },
    "tags": []
   },
   "source": [
    "### Separate features and labels from merged dataset  "
   ]
  },
  {
   "cell_type": "code",
   "execution_count": 195,
   "id": "8db8b20e",
   "metadata": {
    "execution": {
     "iopub.execute_input": "2023-08-10T20:15:27.218596Z",
     "iopub.status.busy": "2023-08-10T20:15:27.217577Z",
     "iopub.status.idle": "2023-08-10T20:15:27.223271Z",
     "shell.execute_reply": "2023-08-10T20:15:27.222405Z"
    },
    "papermill": {
     "duration": 0.135302,
     "end_time": "2023-08-10T20:15:27.226290",
     "exception": false,
     "start_time": "2023-08-10T20:15:27.090988",
     "status": "completed"
    },
    "tags": []
   },
   "outputs": [],
   "source": [
    "# merged_train_features = merged[['movieid', 'reviewerName', 'isFrequentReviewer', 'reviewText',\n",
    "#        'audienceScore', 'rating', 'runtimeMinutes', 'genre',\n",
    "#        'originalLanguage', 'director']]\n",
    "# merged_train_features.shape"
   ]
  },
  {
   "cell_type": "code",
   "execution_count": 196,
   "id": "ae235f8f",
   "metadata": {
    "execution": {
     "iopub.execute_input": "2023-08-10T20:15:27.441735Z",
     "iopub.status.busy": "2023-08-10T20:15:27.441096Z",
     "iopub.status.idle": "2023-08-10T20:15:27.445428Z",
     "shell.execute_reply": "2023-08-10T20:15:27.444683Z"
    },
    "papermill": {
     "duration": 0.113617,
     "end_time": "2023-08-10T20:15:27.447588",
     "exception": false,
     "start_time": "2023-08-10T20:15:27.333971",
     "status": "completed"
    },
    "tags": []
   },
   "outputs": [],
   "source": [
    "# merged_train_labels = merged[\"sentiment\"]\n",
    "# merged_train_labels.shape"
   ]
  },
  {
   "cell_type": "markdown",
   "id": "88ca574d",
   "metadata": {
    "papermill": {
     "duration": 0.107479,
     "end_time": "2023-08-10T20:15:27.728728",
     "exception": false,
     "start_time": "2023-08-10T20:15:27.621249",
     "status": "completed"
    },
    "tags": []
   },
   "source": [
    "### Identify variable types for different preprocessing pipes  "
   ]
  },
  {
   "cell_type": "code",
   "execution_count": 197,
   "id": "89fa0698",
   "metadata": {
    "execution": {
     "iopub.execute_input": "2023-08-10T20:15:27.943370Z",
     "iopub.status.busy": "2023-08-10T20:15:27.942939Z",
     "iopub.status.idle": "2023-08-10T20:15:27.948081Z",
     "shell.execute_reply": "2023-08-10T20:15:27.946914Z"
    },
    "papermill": {
     "duration": 0.115273,
     "end_time": "2023-08-10T20:15:27.950329",
     "exception": false,
     "start_time": "2023-08-10T20:15:27.835056",
     "status": "completed"
    },
    "tags": []
   },
   "outputs": [],
   "source": [
    "# num_vars = [\"audienceScore\", \"runtimeMinutes\"]\n",
    "# txt_vars = [\"originalLanguage\", \"genre\", \"director\", \"reviewerName\", \"reviewText\"]\n",
    "# cat_vars = [\"rating\", \"isFrequentReviewer\"]"
   ]
  },
  {
   "cell_type": "code",
   "execution_count": 198,
   "id": "266b5833",
   "metadata": {
    "execution": {
     "iopub.execute_input": "2023-08-10T20:15:28.164797Z",
     "iopub.status.busy": "2023-08-10T20:15:28.164311Z",
     "iopub.status.idle": "2023-08-10T20:15:28.169365Z",
     "shell.execute_reply": "2023-08-10T20:15:28.168168Z"
    },
    "papermill": {
     "duration": 0.114508,
     "end_time": "2023-08-10T20:15:28.171686",
     "exception": false,
     "start_time": "2023-08-10T20:15:28.057178",
     "status": "completed"
    },
    "tags": []
   },
   "outputs": [],
   "source": [
    "# num_pipe = Pipeline(steps=[\n",
    "#                             (\"imputer\", SimpleImputer(strategy=\"mean\", missing_values=np.nan)),\n",
    "#                             (\"scaler\", MinMaxScaler())\n",
    "#                         ])\n",
    "# num_pipe"
   ]
  },
  {
   "cell_type": "code",
   "execution_count": 199,
   "id": "3f025cde",
   "metadata": {
    "execution": {
     "iopub.execute_input": "2023-08-10T20:15:28.388277Z",
     "iopub.status.busy": "2023-08-10T20:15:28.387502Z",
     "iopub.status.idle": "2023-08-10T20:15:28.391815Z",
     "shell.execute_reply": "2023-08-10T20:15:28.391038Z"
    },
    "papermill": {
     "duration": 0.113915,
     "end_time": "2023-08-10T20:15:28.394132",
     "exception": false,
     "start_time": "2023-08-10T20:15:28.280217",
     "status": "completed"
    },
    "tags": []
   },
   "outputs": [],
   "source": [
    "# txt_pipe = Pipeline(steps=[\n",
    "#                             (\"tvec\", TfidfVectorizer())\n",
    "#                         ])\n",
    "# txt_pipe"
   ]
  },
  {
   "cell_type": "code",
   "execution_count": 200,
   "id": "3658197c",
   "metadata": {
    "execution": {
     "iopub.execute_input": "2023-08-10T20:15:28.609648Z",
     "iopub.status.busy": "2023-08-10T20:15:28.608889Z",
     "iopub.status.idle": "2023-08-10T20:15:28.612977Z",
     "shell.execute_reply": "2023-08-10T20:15:28.612053Z"
    },
    "papermill": {
     "duration": 0.114608,
     "end_time": "2023-08-10T20:15:28.615459",
     "exception": false,
     "start_time": "2023-08-10T20:15:28.500851",
     "status": "completed"
    },
    "tags": []
   },
   "outputs": [],
   "source": [
    "# cat_pipe = Pipeline(steps=[\n",
    "#                             (\"ohe\", OneHotEncoder(handle_unknown=\"ignore\"))\n",
    "#                         ])\n",
    "# cat_pipe"
   ]
  },
  {
   "cell_type": "code",
   "execution_count": 201,
   "id": "ba079be9",
   "metadata": {
    "execution": {
     "iopub.execute_input": "2023-08-10T20:15:28.837677Z",
     "iopub.status.busy": "2023-08-10T20:15:28.836897Z",
     "iopub.status.idle": "2023-08-10T20:15:28.841266Z",
     "shell.execute_reply": "2023-08-10T20:15:28.840079Z"
    },
    "papermill": {
     "duration": 0.119384,
     "end_time": "2023-08-10T20:15:28.843591",
     "exception": false,
     "start_time": "2023-08-10T20:15:28.724207",
     "status": "completed"
    },
    "tags": []
   },
   "outputs": [],
   "source": [
    "# tfidf_vec_1 = TfidfVectorizer(ngram_range=(1,2))\n",
    "# tfidf_vec_1"
   ]
  },
  {
   "cell_type": "code",
   "execution_count": 202,
   "id": "63bb35d3",
   "metadata": {
    "execution": {
     "iopub.execute_input": "2023-08-10T20:15:29.063273Z",
     "iopub.status.busy": "2023-08-10T20:15:29.062419Z",
     "iopub.status.idle": "2023-08-10T20:15:29.067653Z",
     "shell.execute_reply": "2023-08-10T20:15:29.066666Z"
    },
    "papermill": {
     "duration": 0.118609,
     "end_time": "2023-08-10T20:15:29.070090",
     "exception": false,
     "start_time": "2023-08-10T20:15:28.951481",
     "status": "completed"
    },
    "tags": []
   },
   "outputs": [],
   "source": [
    "# ct_final = ColumnTransformer(transformers=[\n",
    "#                                         (\"num\", num_pipe, num_vars),\n",
    "#                                         (\"txt1\", txt_pipe, \"originalLanguage\"),\n",
    "#                                         (\"txt2\", txt_pipe, \"genre\"),\n",
    "#                                         (\"txt3\", txt_pipe, \"director\"),\n",
    "#                                         (\"cat\", cat_pipe, cat_vars),\n",
    "#                                         (\"txt4a\", tfidf_vec_1, \"reviewText\")\n",
    "# #                                         (\"txt4\", TfidfVectorizer(ngram_range=(1,2)), \"reviewText\"),\n",
    "# #                                         (\"cat2\", cat_pipe, [\"isFrequentReviewer\"])\n",
    "#                                         ], remainder=\"drop\", n_jobs=1)\n",
    "\n",
    "# # Note that this transformer drops \"movieid\" column and \"reviewerName\" column  \n",
    "# ct_final"
   ]
  },
  {
   "cell_type": "code",
   "execution_count": 203,
   "id": "ef68b9c7",
   "metadata": {
    "execution": {
     "iopub.execute_input": "2023-08-10T20:15:29.284767Z",
     "iopub.status.busy": "2023-08-10T20:15:29.284293Z",
     "iopub.status.idle": "2023-08-10T20:15:29.288576Z",
     "shell.execute_reply": "2023-08-10T20:15:29.287687Z"
    },
    "papermill": {
     "duration": 0.113891,
     "end_time": "2023-08-10T20:15:29.291539",
     "exception": false,
     "start_time": "2023-08-10T20:15:29.177648",
     "status": "completed"
    },
    "tags": []
   },
   "outputs": [],
   "source": [
    "# pipe_final = Pipeline(steps=[\n",
    "#                         (\"preprocessor\", ct_final),\n",
    "#                         (\"model\", LogisticRegression(max_iter=100000))\n",
    "#                     ])\n",
    "# pipe_final"
   ]
  },
  {
   "cell_type": "code",
   "execution_count": 204,
   "id": "fe4f0446",
   "metadata": {
    "execution": {
     "iopub.execute_input": "2023-08-10T20:15:29.509368Z",
     "iopub.status.busy": "2023-08-10T20:15:29.508702Z",
     "iopub.status.idle": "2023-08-10T20:15:29.513100Z",
     "shell.execute_reply": "2023-08-10T20:15:29.512040Z"
    },
    "papermill": {
     "duration": 0.116331,
     "end_time": "2023-08-10T20:15:29.515445",
     "exception": false,
     "start_time": "2023-08-10T20:15:29.399114",
     "status": "completed"
    },
    "tags": []
   },
   "outputs": [],
   "source": [
    "# final_vars = num_vars + txt_vars + cat_vars\n",
    "# len(final_vars), final_vars"
   ]
  },
  {
   "cell_type": "markdown",
   "id": "58d216e7",
   "metadata": {
    "papermill": {
     "duration": 0.105815,
     "end_time": "2023-08-10T20:15:29.728714",
     "exception": false,
     "start_time": "2023-08-10T20:15:29.622899",
     "status": "completed"
    },
    "tags": []
   },
   "source": [
    "### Use \"split_train_predict\" function to run end-to-end pipeline  "
   ]
  },
  {
   "cell_type": "code",
   "execution_count": 205,
   "id": "5e2e8d5b",
   "metadata": {
    "execution": {
     "iopub.execute_input": "2023-08-10T20:15:29.943591Z",
     "iopub.status.busy": "2023-08-10T20:15:29.943158Z",
     "iopub.status.idle": "2023-08-10T20:15:29.948326Z",
     "shell.execute_reply": "2023-08-10T20:15:29.946946Z"
    },
    "papermill": {
     "duration": 0.114815,
     "end_time": "2023-08-10T20:15:29.951177",
     "exception": false,
     "start_time": "2023-08-10T20:15:29.836362",
     "status": "completed"
    },
    "tags": []
   },
   "outputs": [],
   "source": [
    "# split_train_predict(merged_train_features, merged_train_labels, pipe_final, test_size=0.25, random_state=42)"
   ]
  },
  {
   "cell_type": "markdown",
   "id": "7c8f5ac8",
   "metadata": {
    "papermill": {
     "duration": 0.105629,
     "end_time": "2023-08-10T20:15:30.164120",
     "exception": false,
     "start_time": "2023-08-10T20:15:30.058491",
     "status": "completed"
    },
    "tags": []
   },
   "source": [
    "## Try the best four features obtained on local machine  "
   ]
  },
  {
   "cell_type": "code",
   "execution_count": 206,
   "id": "5f599371",
   "metadata": {
    "execution": {
     "iopub.execute_input": "2023-08-10T20:15:30.376333Z",
     "iopub.status.busy": "2023-08-10T20:15:30.375939Z",
     "iopub.status.idle": "2023-08-10T20:15:30.381289Z",
     "shell.execute_reply": "2023-08-10T20:15:30.379838Z"
    },
    "papermill": {
     "duration": 0.114714,
     "end_time": "2023-08-10T20:15:30.383830",
     "exception": false,
     "start_time": "2023-08-10T20:15:30.269116",
     "status": "completed"
    },
    "tags": []
   },
   "outputs": [],
   "source": [
    "# tfidf_vec_2 = TfidfVectorizer(ngram_range=(1,2))\n",
    "# tfidf_vec_2"
   ]
  },
  {
   "cell_type": "code",
   "execution_count": 207,
   "id": "aee1a969",
   "metadata": {
    "execution": {
     "iopub.execute_input": "2023-08-10T20:15:30.601682Z",
     "iopub.status.busy": "2023-08-10T20:15:30.601247Z",
     "iopub.status.idle": "2023-08-10T20:15:30.606636Z",
     "shell.execute_reply": "2023-08-10T20:15:30.605381Z"
    },
    "papermill": {
     "duration": 0.117742,
     "end_time": "2023-08-10T20:15:30.609284",
     "exception": false,
     "start_time": "2023-08-10T20:15:30.491542",
     "status": "completed"
    },
    "tags": []
   },
   "outputs": [],
   "source": [
    "# ct_best4 = ColumnTransformer(transformers=[\n",
    "#                                             (\"num\", num_pipe, [\"audienceScore\"]),\n",
    "#                                             (\"cat\", cat_pipe, [\"rating\", \"isFrequentReviewer\"]),\n",
    "#                                             (\"tvec\", tfidf_vec_2, \"reviewText\")\n",
    "#                             ])\n",
    "\n",
    "# pipe_best4 = Pipeline(steps=[\n",
    "#     (\"preprocessor\", ct_best4),\n",
    "#     (\"model\", LogisticRegression())\n",
    "# ])\n",
    "\n",
    "# pipe_best4.set_params(model__C=10, model__max_iter=100000)\n",
    "\n",
    "# pipe_best4"
   ]
  },
  {
   "cell_type": "code",
   "execution_count": 208,
   "id": "b69db3cb",
   "metadata": {
    "execution": {
     "iopub.execute_input": "2023-08-10T20:15:30.829429Z",
     "iopub.status.busy": "2023-08-10T20:15:30.828575Z",
     "iopub.status.idle": "2023-08-10T20:15:30.833498Z",
     "shell.execute_reply": "2023-08-10T20:15:30.832686Z"
    },
    "papermill": {
     "duration": 0.119015,
     "end_time": "2023-08-10T20:15:30.836462",
     "exception": false,
     "start_time": "2023-08-10T20:15:30.717447",
     "status": "completed"
    },
    "tags": []
   },
   "outputs": [],
   "source": [
    "# split_train_predict(merged[[\"audienceScore\", \"rating\", \"isFrequentReviewer\", \"reviewText\"]], merged[\"sentiment\"], pipe_best4, test_size=0.25)"
   ]
  },
  {
   "cell_type": "markdown",
   "id": "c576068c",
   "metadata": {
    "papermill": {
     "duration": 0.109215,
     "end_time": "2023-08-10T20:15:31.054727",
     "exception": false,
     "start_time": "2023-08-10T20:15:30.945512",
     "status": "completed"
    },
    "tags": []
   },
   "source": [
    "## Try only 'reviewText' column  "
   ]
  },
  {
   "cell_type": "code",
   "execution_count": 209,
   "id": "a761e929",
   "metadata": {
    "execution": {
     "iopub.execute_input": "2023-08-10T20:15:31.270789Z",
     "iopub.status.busy": "2023-08-10T20:15:31.270397Z",
     "iopub.status.idle": "2023-08-10T20:15:31.274509Z",
     "shell.execute_reply": "2023-08-10T20:15:31.273584Z"
    },
    "papermill": {
     "duration": 0.114632,
     "end_time": "2023-08-10T20:15:31.276575",
     "exception": false,
     "start_time": "2023-08-10T20:15:31.161943",
     "status": "completed"
    },
    "tags": []
   },
   "outputs": [],
   "source": [
    "# tfidf_vec_3 = TfidfVectorizer(ngram_range=(1,2))\n",
    "# tfidf_vec_3"
   ]
  },
  {
   "cell_type": "code",
   "execution_count": 210,
   "id": "f9d876d4",
   "metadata": {
    "execution": {
     "iopub.execute_input": "2023-08-10T20:15:31.490708Z",
     "iopub.status.busy": "2023-08-10T20:15:31.489930Z",
     "iopub.status.idle": "2023-08-10T20:15:31.494354Z",
     "shell.execute_reply": "2023-08-10T20:15:31.493203Z"
    },
    "papermill": {
     "duration": 0.11405,
     "end_time": "2023-08-10T20:15:31.496823",
     "exception": false,
     "start_time": "2023-08-10T20:15:31.382773",
     "status": "completed"
    },
    "tags": []
   },
   "outputs": [],
   "source": [
    "# ct_RTonly = ColumnTransformer(transformers=[\n",
    "#                                             ('txt', tfidf_vec_3, 'reviewText'),\n",
    "#                                             ], remainder='drop')\n",
    "# ct_RTonly"
   ]
  },
  {
   "cell_type": "code",
   "execution_count": 211,
   "id": "68fbfb22",
   "metadata": {
    "execution": {
     "iopub.execute_input": "2023-08-10T20:15:31.709839Z",
     "iopub.status.busy": "2023-08-10T20:15:31.709412Z",
     "iopub.status.idle": "2023-08-10T20:15:31.714228Z",
     "shell.execute_reply": "2023-08-10T20:15:31.713125Z"
    },
    "papermill": {
     "duration": 0.11388,
     "end_time": "2023-08-10T20:15:31.716393",
     "exception": false,
     "start_time": "2023-08-10T20:15:31.602513",
     "status": "completed"
    },
    "tags": []
   },
   "outputs": [],
   "source": [
    "# pipe_RTonly = Pipeline(steps=[\n",
    "#     (\"preprocessor\", ct_RTonly),\n",
    "#     (\"model\", LogisticRegression())\n",
    "# ])\n",
    "\n",
    "# pipe_RTonly.set_params(model__C=10, model__max_iter=100000)\n",
    "\n",
    "# pipe_RTonly"
   ]
  },
  {
   "cell_type": "markdown",
   "id": "15384735",
   "metadata": {
    "papermill": {
     "duration": 0.106466,
     "end_time": "2023-08-10T20:15:31.928232",
     "exception": false,
     "start_time": "2023-08-10T20:15:31.821766",
     "status": "completed"
    },
    "tags": []
   },
   "source": [
    "## Using the 'submit_v4' function  "
   ]
  },
  {
   "cell_type": "markdown",
   "id": "559f560a",
   "metadata": {
    "papermill": {
     "duration": 0.104736,
     "end_time": "2023-08-10T20:15:32.139505",
     "exception": false,
     "start_time": "2023-08-10T20:15:32.034769",
     "status": "completed"
    },
    "tags": []
   },
   "source": [
    "### Try the best 4 parameters with submit_v4 function"
   ]
  },
  {
   "cell_type": "code",
   "execution_count": 212,
   "id": "81961c17",
   "metadata": {
    "execution": {
     "iopub.execute_input": "2023-08-10T20:15:32.352427Z",
     "iopub.status.busy": "2023-08-10T20:15:32.351995Z",
     "iopub.status.idle": "2023-08-10T20:15:32.357137Z",
     "shell.execute_reply": "2023-08-10T20:15:32.355976Z"
    },
    "papermill": {
     "duration": 0.114921,
     "end_time": "2023-08-10T20:15:32.359446",
     "exception": false,
     "start_time": "2023-08-10T20:15:32.244525",
     "status": "completed"
    },
    "tags": []
   },
   "outputs": [],
   "source": [
    "# best4 = [\"audienceScore\", \"rating\", \"isFrequentReviewer\", \"reviewText\"]\n",
    "\n",
    "# best4_dict = {'cat': [\"rating\", \"isFrequentReviewer\"],\n",
    "#              'num': [\"audienceScore\"],\n",
    "#              'txt': ['reviewText']}\n",
    "\n",
    "# best4_dict = {'num': [\"audienceScore\"],\n",
    "#              'txt': ['reviewText', 'movieid', 'director']}\n",
    "\n",
    "# best4_dict"
   ]
  },
  {
   "cell_type": "code",
   "execution_count": 213,
   "id": "7c0f26d9",
   "metadata": {
    "execution": {
     "iopub.execute_input": "2023-08-10T20:15:32.572488Z",
     "iopub.status.busy": "2023-08-10T20:15:32.571467Z",
     "iopub.status.idle": "2023-08-10T20:15:32.576599Z",
     "shell.execute_reply": "2023-08-10T20:15:32.575415Z"
    },
    "papermill": {
     "duration": 0.114792,
     "end_time": "2023-08-10T20:15:32.578935",
     "exception": false,
     "start_time": "2023-08-10T20:15:32.464143",
     "status": "completed"
    },
    "tags": []
   },
   "outputs": [],
   "source": [
    "# submit_v4(selected_features=best4_dict)"
   ]
  },
  {
   "cell_type": "markdown",
   "id": "82543ddd",
   "metadata": {
    "papermill": {
     "duration": 0.10646,
     "end_time": "2023-08-10T20:15:32.793098",
     "exception": false,
     "start_time": "2023-08-10T20:15:32.686638",
     "status": "completed"
    },
    "tags": []
   },
   "source": [
    "### Try the best 3 parameters with submit_v4 function"
   ]
  },
  {
   "cell_type": "code",
   "execution_count": 214,
   "id": "9e515e13",
   "metadata": {
    "execution": {
     "iopub.execute_input": "2023-08-10T20:15:33.012387Z",
     "iopub.status.busy": "2023-08-10T20:15:33.011577Z",
     "iopub.status.idle": "2023-08-10T20:15:33.016574Z",
     "shell.execute_reply": "2023-08-10T20:15:33.015674Z"
    },
    "papermill": {
     "duration": 0.117442,
     "end_time": "2023-08-10T20:15:33.018810",
     "exception": false,
     "start_time": "2023-08-10T20:15:32.901368",
     "status": "completed"
    },
    "tags": []
   },
   "outputs": [],
   "source": [
    "# best3 = [\"audienceScore\", \"isFrequentReviewer\", \"reviewText\"]\n",
    "# best3_dict = {'cat': [\"isFrequentReviewer\"],\n",
    "#              'num': [\"audienceScore\"],\n",
    "#              'txt': ['reviewText']}\n",
    "# best3_dict"
   ]
  },
  {
   "cell_type": "code",
   "execution_count": 215,
   "id": "ffdd0907",
   "metadata": {
    "execution": {
     "iopub.execute_input": "2023-08-10T20:15:33.233475Z",
     "iopub.status.busy": "2023-08-10T20:15:33.232288Z",
     "iopub.status.idle": "2023-08-10T20:15:33.237447Z",
     "shell.execute_reply": "2023-08-10T20:15:33.236386Z"
    },
    "papermill": {
     "duration": 0.114871,
     "end_time": "2023-08-10T20:15:33.239839",
     "exception": false,
     "start_time": "2023-08-10T20:15:33.124968",
     "status": "completed"
    },
    "tags": []
   },
   "outputs": [],
   "source": [
    "# submit_v4(selected_features=best3_dict)"
   ]
  },
  {
   "cell_type": "markdown",
   "id": "9bbe5d0e",
   "metadata": {
    "papermill": {
     "duration": 0.104942,
     "end_time": "2023-08-10T20:15:33.450431",
     "exception": false,
     "start_time": "2023-08-10T20:15:33.345489",
     "status": "completed"
    },
    "tags": []
   },
   "source": [
    "## Try throwing almost everything (no boxOffice) at submit_v4!  "
   ]
  },
  {
   "cell_type": "code",
   "execution_count": 216,
   "id": "47d35bb5",
   "metadata": {
    "execution": {
     "iopub.execute_input": "2023-08-10T20:15:33.733232Z",
     "iopub.status.busy": "2023-08-10T20:15:33.732543Z",
     "iopub.status.idle": "2023-08-10T20:15:33.739646Z",
     "shell.execute_reply": "2023-08-10T20:15:33.738506Z"
    },
    "papermill": {
     "duration": 0.186904,
     "end_time": "2023-08-10T20:15:33.741921",
     "exception": false,
     "start_time": "2023-08-10T20:15:33.555017",
     "status": "completed"
    },
    "tags": []
   },
   "outputs": [
    {
     "data": {
      "text/plain": [
       "\"Most from merged = ['movieid', 'reviewerName', 'isFrequentReviewer', 'reviewText',\\n       'audienceScore', 'rating', 'runtimeMinutes', 'genre', \\n       'originalLanguage', 'director']\""
      ]
     },
     "execution_count": 216,
     "metadata": {},
     "output_type": "execute_result"
    }
   ],
   "source": [
    "\"\"\"Most from merged = ['movieid', 'reviewerName', 'isFrequentReviewer', 'reviewText',\n",
    "       'audienceScore', 'rating', 'runtimeMinutes', 'genre', \n",
    "       'originalLanguage', 'director']\"\"\"\n",
    "\n",
    "# almost_dict = {'cat': [\"isFrequentReviewer\", \"rating\", \"originalLanguage\"],\n",
    "#              'num': [\"audienceScore\", \"runtimeMinutes\"],\n",
    "#              'txt': ['reviewText', 'reviewerName', 'movieid', 'genre', 'director']}\n",
    "# almost_dict"
   ]
  },
  {
   "cell_type": "code",
   "execution_count": 217,
   "id": "e0817c82",
   "metadata": {
    "execution": {
     "iopub.execute_input": "2023-08-10T20:15:33.959489Z",
     "iopub.status.busy": "2023-08-10T20:15:33.958953Z",
     "iopub.status.idle": "2023-08-10T20:15:33.963597Z",
     "shell.execute_reply": "2023-08-10T20:15:33.962651Z"
    },
    "papermill": {
     "duration": 0.116424,
     "end_time": "2023-08-10T20:15:33.965725",
     "exception": false,
     "start_time": "2023-08-10T20:15:33.849301",
     "status": "completed"
    },
    "tags": []
   },
   "outputs": [],
   "source": [
    "# submit_v4(selected_features=almost_dict)"
   ]
  },
  {
   "cell_type": "markdown",
   "id": "190a6cfc",
   "metadata": {
    "papermill": {
     "duration": 0.109552,
     "end_time": "2023-08-10T20:15:34.182986",
     "exception": false,
     "start_time": "2023-08-10T20:15:34.073434",
     "status": "completed"
    },
    "tags": []
   },
   "source": [
    "## Try throwing everything possible at submit_v4!  "
   ]
  },
  {
   "cell_type": "code",
   "execution_count": 218,
   "id": "6a12f265",
   "metadata": {
    "execution": {
     "iopub.execute_input": "2023-08-10T20:15:34.396149Z",
     "iopub.status.busy": "2023-08-10T20:15:34.395406Z",
     "iopub.status.idle": "2023-08-10T20:15:34.401480Z",
     "shell.execute_reply": "2023-08-10T20:15:34.400687Z"
    },
    "papermill": {
     "duration": 0.115279,
     "end_time": "2023-08-10T20:15:34.403566",
     "exception": false,
     "start_time": "2023-08-10T20:15:34.288287",
     "status": "completed"
    },
    "tags": []
   },
   "outputs": [
    {
     "data": {
      "text/plain": [
       "\"All from merged = ['movieid', 'reviewerName', 'isFrequentReviewer', 'reviewText',\\n       'audienceScore', 'rating', 'runtimeMinutes', 'genre', 'boxOffice',\\n       'originalLanguage', 'director']\""
      ]
     },
     "execution_count": 218,
     "metadata": {},
     "output_type": "execute_result"
    }
   ],
   "source": [
    "\"\"\"All from merged = ['movieid', 'reviewerName', 'isFrequentReviewer', 'reviewText',\n",
    "       'audienceScore', 'rating', 'runtimeMinutes', 'genre', 'boxOffice',\n",
    "       'originalLanguage', 'director']\"\"\"\n",
    "\n",
    "# all_dict = {'cat': [\"isFrequentReviewer\", \"rating\", \"originalLanguage\"],\n",
    "#              'num': [\"audienceScore\", \"runtimeMinutes\", \"boxOffice\"],\n",
    "#              'txt': ['reviewText', 'reviewerName', 'movieid', 'genre', 'director']}\n",
    "# all_dict"
   ]
  },
  {
   "cell_type": "code",
   "execution_count": 219,
   "id": "d2224112",
   "metadata": {
    "execution": {
     "iopub.execute_input": "2023-08-10T20:15:34.623501Z",
     "iopub.status.busy": "2023-08-10T20:15:34.622698Z",
     "iopub.status.idle": "2023-08-10T20:15:34.628074Z",
     "shell.execute_reply": "2023-08-10T20:15:34.626914Z"
    },
    "papermill": {
     "duration": 0.119202,
     "end_time": "2023-08-10T20:15:34.630473",
     "exception": false,
     "start_time": "2023-08-10T20:15:34.511271",
     "status": "completed"
    },
    "tags": []
   },
   "outputs": [],
   "source": [
    "# submit_v4(selected_features=all_dict)"
   ]
  },
  {
   "cell_type": "markdown",
   "id": "ccbb22b0",
   "metadata": {
    "papermill": {
     "duration": 0.106924,
     "end_time": "2023-08-10T20:15:34.843758",
     "exception": false,
     "start_time": "2023-08-10T20:15:34.736834",
     "status": "completed"
    },
    "tags": []
   },
   "source": [
    "## Try GridSearchCV on everything  "
   ]
  },
  {
   "cell_type": "code",
   "execution_count": 220,
   "id": "fc1e593f",
   "metadata": {
    "execution": {
     "iopub.execute_input": "2023-08-10T20:15:35.062134Z",
     "iopub.status.busy": "2023-08-10T20:15:35.061375Z",
     "iopub.status.idle": "2023-08-10T20:15:35.067625Z",
     "shell.execute_reply": "2023-08-10T20:15:35.066402Z"
    },
    "papermill": {
     "duration": 0.118794,
     "end_time": "2023-08-10T20:15:35.070132",
     "exception": false,
     "start_time": "2023-08-10T20:15:34.951338",
     "status": "completed"
    },
    "tags": []
   },
   "outputs": [],
   "source": [
    "# param_grid = {\n",
    "#     \"model__C\": [0.5, 2, 5, 15]\n",
    "# }\n",
    "\n",
    "# param_grid = {\n",
    "#     'model__C' : [1, 5],\n",
    "#     'model__solver': ['lbfgs', 'liblinear', 'newton-cg', 'newton-cholesky', 'sag', 'saga']\n",
    "# }\n",
    "\n",
    "# param_grid = {\n",
    "#     'model__C' : [1, 5],\n",
    "#     'model__solver': ['lbfgs', 'liblinear', 'sag', 'saga']\n",
    "# }\n",
    "\n",
    "# param_grid = {\n",
    "#     'model__C' : [1, 5, 10, 15],\n",
    "#     'model__solver': ['lbfgs', 'liblinear', 'saga', 'newton-cg']\n",
    "# }\n",
    "\n",
    "# param_grid = {\n",
    "#     'model__C' : [1, 5, 10, 20],\n",
    "#     'model__solver': ['lbfgs', 'liblinear', 'saga']\n",
    "# }\n",
    "\n",
    "# param_grid"
   ]
  },
  {
   "cell_type": "code",
   "execution_count": 221,
   "id": "9c364620",
   "metadata": {
    "execution": {
     "iopub.execute_input": "2023-08-10T20:15:35.282223Z",
     "iopub.status.busy": "2023-08-10T20:15:35.281442Z",
     "iopub.status.idle": "2023-08-10T20:15:35.287161Z",
     "shell.execute_reply": "2023-08-10T20:15:35.285686Z"
    },
    "papermill": {
     "duration": 0.114615,
     "end_time": "2023-08-10T20:15:35.289709",
     "exception": false,
     "start_time": "2023-08-10T20:15:35.175094",
     "status": "completed"
    },
    "tags": []
   },
   "outputs": [],
   "source": [
    "# submit_v4(selected_features={'txt': [\"genre\"]}, param_grid=param_grid)"
   ]
  },
  {
   "cell_type": "code",
   "execution_count": 222,
   "id": "7a4357c4",
   "metadata": {
    "execution": {
     "iopub.execute_input": "2023-08-10T20:15:35.508821Z",
     "iopub.status.busy": "2023-08-10T20:15:35.507725Z",
     "iopub.status.idle": "2023-08-10T20:15:35.514995Z",
     "shell.execute_reply": "2023-08-10T20:15:35.513915Z"
    },
    "papermill": {
     "duration": 0.118952,
     "end_time": "2023-08-10T20:15:35.517247",
     "exception": false,
     "start_time": "2023-08-10T20:15:35.398295",
     "status": "completed"
    },
    "tags": []
   },
   "outputs": [
    {
     "data": {
      "text/plain": [
       "\"Used 'groupby' function instead on 'drop_duplicates' on movies.csv file. \\nIt reduced the number of missing values significantly! \\nThen used LogisticRegression() with GridSearchCV on submit_v4 function with \\nparam_grid={'model__C': [1, 5, 10], 'model__solver': ['lbfgs', 'liblinear', 'saga']}. \\nThe best f1_micro score in GridSearchCV was 0.8399771362056203 which is highest among \\nall the versions so far. Best C was 5 and best solver was 'saga'.\\nScore obtained was 0.84385 which is lower than 0.84441.\""
      ]
     },
     "execution_count": 222,
     "metadata": {},
     "output_type": "execute_result"
    }
   ],
   "source": [
    "# submit_v4(selected_features=all_dict, param_grid=param_grid)\n",
    "\n",
    "# Best C was 5\n",
    "# Best solver was liblinear\n",
    "\n",
    "\"\"\"Used 'groupby' function instead on 'drop_duplicates' on movies.csv file. \n",
    "It reduced the number of missing values significantly! \n",
    "Then used LogisticRegression() with GridSearchCV on submit_v4 function with \n",
    "param_grid={'model__C': [1, 5, 10], 'model__solver': ['lbfgs', 'liblinear', 'saga']}. \n",
    "The best f1_micro score in GridSearchCV was 0.8399771362056203 which is highest among \n",
    "all the versions so far. Best C was 5 and best solver was 'saga'.\n",
    "Score obtained was 0.84385 which is lower than 0.84441.\"\"\""
   ]
  },
  {
   "cell_type": "code",
   "execution_count": 223,
   "id": "8a974e5c",
   "metadata": {
    "execution": {
     "iopub.execute_input": "2023-08-10T20:15:35.733711Z",
     "iopub.status.busy": "2023-08-10T20:15:35.732908Z",
     "iopub.status.idle": "2023-08-10T20:15:35.737387Z",
     "shell.execute_reply": "2023-08-10T20:15:35.736249Z"
    },
    "papermill": {
     "duration": 0.115513,
     "end_time": "2023-08-10T20:15:35.740048",
     "exception": false,
     "start_time": "2023-08-10T20:15:35.624535",
     "status": "completed"
    },
    "tags": []
   },
   "outputs": [],
   "source": [
    "# Best 5 parameters\n",
    "\n",
    "# best5_dict = {'num': [\"audienceScore\"],\n",
    "#              'txt': ['reviewText', 'reviewerName','movieid', 'director']}\n",
    "\n",
    "# best5_dict"
   ]
  },
  {
   "cell_type": "code",
   "execution_count": 224,
   "id": "fe356ec6",
   "metadata": {
    "execution": {
     "iopub.execute_input": "2023-08-10T20:15:35.959679Z",
     "iopub.status.busy": "2023-08-10T20:15:35.959220Z",
     "iopub.status.idle": "2023-08-10T20:15:35.969030Z",
     "shell.execute_reply": "2023-08-10T20:15:35.967747Z"
    },
    "papermill": {
     "duration": 0.122687,
     "end_time": "2023-08-10T20:15:35.971646",
     "exception": false,
     "start_time": "2023-08-10T20:15:35.848959",
     "status": "completed"
    },
    "tags": []
   },
   "outputs": [
    {
     "data": {
      "text/plain": [
       "\"(Update): Used both CountVectorizer and TfidfVectorizer on a massive GridSearchCV \\nwhich took 22527.2s  (6.25 hrs) to run! Gave a score of 0.8439093822800923 locally and did not overfit!\\nBest params: {'model__C': 1, 'model__solver': 'liblinear'}.\\nHighest public score yet: 0.84591 (Rank up from 9 to 5!)\""
      ]
     },
     "execution_count": 224,
     "metadata": {},
     "output_type": "execute_result"
    }
   ],
   "source": [
    "# Submit best 5 features\n",
    "\n",
    "\"\"\"(Update): Used both CountVectorizer and TfidfVectorizer on a massive GridSearchCV \n",
    "which took 22527.2s  (6.25 hrs) to run! Gave a score of 0.8439093822800923 locally and did not overfit!\n",
    "Best params: {'model__C': 1, 'model__solver': 'liblinear'}.\n",
    "Highest public score yet: 0.84591 (Rank up from 9 to 5!)\"\"\"\n",
    "\n",
    "# param_grid = {\n",
    "#     'model__C' : [5, 10, 15],\n",
    "#     'model__solver': ['lbfgs', 'liblinear', 'saga']\n",
    "# }\n",
    "\n",
    "\n",
    "# Try new param_grid with fit_intercept and dual in logreg\n",
    "\n",
    "# param_grid = {\n",
    "#     'model__C' : [1],\n",
    "#     'model__solver': ['liblinear'],\n",
    "#     \"model__fit_intercept\" : [True, False],\n",
    "#     \"model__dual\" : [True, False] \n",
    "# }\n",
    "\n",
    "\n",
    "# Local testing  \n",
    "# submit_v4(selected_features={'num': ['audienceScore']},\n",
    "#          add_countvec=True)\n",
    "\n",
    "# submit_v4(selected_features={'num': ['audienceScore']},\n",
    "#          add_countvec=True, \n",
    "#           param_grid=param_grid)\n",
    "\n",
    "\n",
    "# Main submission\n",
    "\n",
    "# submit_v4(selected_features=best5_dict,\n",
    "#          add_countvec=True)\n",
    "\n",
    "\n",
    "# submit_v4(selected_features=best5_dict,\n",
    "#           add_countvec=True,\n",
    "#           param_grid=param_grid)"
   ]
  },
  {
   "cell_type": "code",
   "execution_count": 225,
   "id": "bd3d291f",
   "metadata": {
    "execution": {
     "iopub.execute_input": "2023-08-10T20:15:36.189202Z",
     "iopub.status.busy": "2023-08-10T20:15:36.188394Z",
     "iopub.status.idle": "2023-08-10T20:15:36.193546Z",
     "shell.execute_reply": "2023-08-10T20:15:36.192633Z"
    },
    "papermill": {
     "duration": 0.115479,
     "end_time": "2023-08-10T20:15:36.195913",
     "exception": false,
     "start_time": "2023-08-10T20:15:36.080434",
     "status": "completed"
    },
    "tags": []
   },
   "outputs": [],
   "source": [
    "## ALL DICT cv=10\n",
    "\n",
    "# all_dict = {'cat': [\"isFrequentReviewer\", \"rating\", \"originalLanguage\"],\n",
    "#              'num': [\"audienceScore\", \"runtimeMinutes\", \"boxOffice\"],\n",
    "#              'txt': ['reviewText', 'reviewerName', 'movieid', 'genre', 'director']}\n",
    "# print(all_dict)\n",
    "\n",
    "# param_grid = {\n",
    "#     'model__C' : [2, 5, 10],\n",
    "#     'model__solver': ['lbfgs', 'liblinear', 'saga']\n",
    "# }\n",
    "# print(param_grid)\n",
    "\n",
    "# param_grid = {\n",
    "#     'model__C' : [1, 5, 10],\n",
    "#     'model__solver': ['liblinear'],\n",
    "#     \"model__fit_intercept\" : [True, False],\n",
    "#     \"model__dual\" : [True, False] \n",
    "# }\n",
    "\n",
    "\n",
    "# Main submission\n",
    "\n",
    "# submit_v4(selected_model=LogisticRegression(C=5, solver='liblinear', max_iter=10000),\n",
    "#           selected_features=all_dict,\n",
    "#           param_grid=param_grid)\n",
    "\n",
    "# submit_v4(selected_features=all_dict,\n",
    "#           add_countvec=True,\n",
    "#           param_grid=param_grid)"
   ]
  },
  {
   "cell_type": "code",
   "execution_count": 226,
   "id": "4a651627",
   "metadata": {
    "execution": {
     "iopub.execute_input": "2023-08-10T20:15:36.415031Z",
     "iopub.status.busy": "2023-08-10T20:15:36.414259Z",
     "iopub.status.idle": "2023-08-10T20:15:36.418579Z",
     "shell.execute_reply": "2023-08-10T20:15:36.417758Z"
    },
    "papermill": {
     "duration": 0.117987,
     "end_time": "2023-08-10T20:15:36.421043",
     "exception": false,
     "start_time": "2023-08-10T20:15:36.303056",
     "status": "completed"
    },
    "tags": []
   },
   "outputs": [],
   "source": [
    "# Best 6 parameters\n",
    "\n",
    "# best6_dict = {'cat': [\"isFrequentReviewer\"],\n",
    "#              'num': [\"audienceScore\"],\n",
    "#              'txt': ['reviewText', 'reviewerName', 'genre', 'director']}\n",
    "\n",
    "# best6_dict = {'num': [\"audienceScore\"],\n",
    "#              'txt': ['reviewText', 'reviewerName', 'genre','movieid', 'director']}\n",
    "\n",
    "# best6_dict"
   ]
  },
  {
   "cell_type": "code",
   "execution_count": 227,
   "id": "b0541614",
   "metadata": {
    "execution": {
     "iopub.execute_input": "2023-08-10T20:15:36.638759Z",
     "iopub.status.busy": "2023-08-10T20:15:36.638025Z",
     "iopub.status.idle": "2023-08-10T20:15:36.642205Z",
     "shell.execute_reply": "2023-08-10T20:15:36.641155Z"
    },
    "papermill": {
     "duration": 0.115832,
     "end_time": "2023-08-10T20:15:36.644543",
     "exception": false,
     "start_time": "2023-08-10T20:15:36.528711",
     "status": "completed"
    },
    "tags": []
   },
   "outputs": [],
   "source": [
    "# Submit best 6 features (version 2)\n",
    "\n",
    "# submit_v4(selected_features=best6_dict,\n",
    "#           param_grid=param_grid)"
   ]
  },
  {
   "cell_type": "code",
   "execution_count": 228,
   "id": "07b84c12",
   "metadata": {
    "execution": {
     "iopub.execute_input": "2023-08-10T20:15:36.859508Z",
     "iopub.status.busy": "2023-08-10T20:15:36.859080Z",
     "iopub.status.idle": "2023-08-10T20:15:36.863860Z",
     "shell.execute_reply": "2023-08-10T20:15:36.862660Z"
    },
    "papermill": {
     "duration": 0.115004,
     "end_time": "2023-08-10T20:15:36.866251",
     "exception": false,
     "start_time": "2023-08-10T20:15:36.751247",
     "status": "completed"
    },
    "tags": []
   },
   "outputs": [],
   "source": [
    "# Best 7 parameters\n",
    "\n",
    "# best7_dict = {'cat': [\"isFrequentReviewer\"],\n",
    "#              'num': [\"audienceScore\"],\n",
    "#              'txt': ['reviewText', 'reviewerName', 'movieid', 'genre', 'director']}\n",
    "# best7_dict"
   ]
  },
  {
   "cell_type": "code",
   "execution_count": 229,
   "id": "939fc84c",
   "metadata": {
    "execution": {
     "iopub.execute_input": "2023-08-10T20:15:37.086275Z",
     "iopub.status.busy": "2023-08-10T20:15:37.085875Z",
     "iopub.status.idle": "2023-08-10T20:15:37.090678Z",
     "shell.execute_reply": "2023-08-10T20:15:37.089516Z"
    },
    "papermill": {
     "duration": 0.119261,
     "end_time": "2023-08-10T20:15:37.093122",
     "exception": false,
     "start_time": "2023-08-10T20:15:36.973861",
     "status": "completed"
    },
    "tags": []
   },
   "outputs": [],
   "source": [
    "# Submit best 7 features\n",
    "\n",
    "# submit_v4(selected_features=best7_dict,\n",
    "#           param_grid=param_grid)"
   ]
  },
  {
   "cell_type": "code",
   "execution_count": 230,
   "id": "3df99632",
   "metadata": {
    "execution": {
     "iopub.execute_input": "2023-08-10T20:15:37.328232Z",
     "iopub.status.busy": "2023-08-10T20:15:37.326918Z",
     "iopub.status.idle": "2023-08-10T20:15:37.332633Z",
     "shell.execute_reply": "2023-08-10T20:15:37.331678Z"
    },
    "papermill": {
     "duration": 0.121659,
     "end_time": "2023-08-10T20:15:37.335096",
     "exception": false,
     "start_time": "2023-08-10T20:15:37.213437",
     "status": "completed"
    },
    "tags": []
   },
   "outputs": [],
   "source": [
    "# submit_v4(selected_features=best6_dict, param_grid=param_grid)"
   ]
  },
  {
   "cell_type": "markdown",
   "id": "f002b219",
   "metadata": {
    "papermill": {
     "duration": 0.106104,
     "end_time": "2023-08-10T20:15:37.550638",
     "exception": false,
     "start_time": "2023-08-10T20:15:37.444534",
     "status": "completed"
    },
    "tags": []
   },
   "source": [
    "## Try a new feature dict  \n",
    "\n"
   ]
  },
  {
   "cell_type": "code",
   "execution_count": 231,
   "id": "14453ab4",
   "metadata": {
    "execution": {
     "iopub.execute_input": "2023-08-10T20:15:37.768888Z",
     "iopub.status.busy": "2023-08-10T20:15:37.768461Z",
     "iopub.status.idle": "2023-08-10T20:15:37.773017Z",
     "shell.execute_reply": "2023-08-10T20:15:37.772078Z"
    },
    "papermill": {
     "duration": 0.115389,
     "end_time": "2023-08-10T20:15:37.775300",
     "exception": false,
     "start_time": "2023-08-10T20:15:37.659911",
     "status": "completed"
    },
    "tags": []
   },
   "outputs": [],
   "source": [
    "# all_dict_new = {'cat': [\"isFrequentReviewer\", \"rating\", \"originalLanguage\"],\n",
    "#              'num': [\"audienceScore\", \"runtimeMinutes\", \"boxOffice\"],\n",
    "#              'txt': ['reviewText', \"reviewerName\", 'movieid', 'genre', 'director']}\n",
    "# all_dict_new"
   ]
  },
  {
   "cell_type": "code",
   "execution_count": 232,
   "id": "ce07da01",
   "metadata": {
    "execution": {
     "iopub.execute_input": "2023-08-10T20:15:37.993716Z",
     "iopub.status.busy": "2023-08-10T20:15:37.993032Z",
     "iopub.status.idle": "2023-08-10T20:15:37.997675Z",
     "shell.execute_reply": "2023-08-10T20:15:37.996876Z"
    },
    "papermill": {
     "duration": 0.116682,
     "end_time": "2023-08-10T20:15:37.999916",
     "exception": false,
     "start_time": "2023-08-10T20:15:37.883234",
     "status": "completed"
    },
    "tags": []
   },
   "outputs": [],
   "source": [
    "# submit_v4(selected_features={'txt': ['genre']}, param_grid=param_grid)"
   ]
  },
  {
   "cell_type": "code",
   "execution_count": 233,
   "id": "7c9cb05e",
   "metadata": {
    "execution": {
     "iopub.execute_input": "2023-08-10T20:15:38.219125Z",
     "iopub.status.busy": "2023-08-10T20:15:38.218443Z",
     "iopub.status.idle": "2023-08-10T20:15:38.223305Z",
     "shell.execute_reply": "2023-08-10T20:15:38.222154Z"
    },
    "papermill": {
     "duration": 0.118229,
     "end_time": "2023-08-10T20:15:38.225871",
     "exception": false,
     "start_time": "2023-08-10T20:15:38.107642",
     "status": "completed"
    },
    "tags": []
   },
   "outputs": [],
   "source": [
    "# submit_v4(selected_features=all_dict_new, param_grid=param_grid)"
   ]
  },
  {
   "cell_type": "code",
   "execution_count": 234,
   "id": "eec36bdb",
   "metadata": {
    "execution": {
     "iopub.execute_input": "2023-08-10T20:15:38.440538Z",
     "iopub.status.busy": "2023-08-10T20:15:38.440143Z",
     "iopub.status.idle": "2023-08-10T20:15:38.444868Z",
     "shell.execute_reply": "2023-08-10T20:15:38.443435Z"
    },
    "papermill": {
     "duration": 0.115337,
     "end_time": "2023-08-10T20:15:38.447370",
     "exception": false,
     "start_time": "2023-08-10T20:15:38.332033",
     "status": "completed"
    },
    "tags": []
   },
   "outputs": [],
   "source": [
    "# Try non-text based columns\n",
    "# num_cat_dict = {'cat': ['isFrequentReviewer', 'rating', 'originalLanguage'],\n",
    "#  'num': ['audienceScore', 'runtimeMinutes', 'boxOffice']}\n",
    "# num_cat_dict"
   ]
  },
  {
   "cell_type": "code",
   "execution_count": 235,
   "id": "42430e12",
   "metadata": {
    "execution": {
     "iopub.execute_input": "2023-08-10T20:15:38.663289Z",
     "iopub.status.busy": "2023-08-10T20:15:38.662918Z",
     "iopub.status.idle": "2023-08-10T20:15:38.667179Z",
     "shell.execute_reply": "2023-08-10T20:15:38.665996Z"
    },
    "papermill": {
     "duration": 0.115335,
     "end_time": "2023-08-10T20:15:38.669586",
     "exception": false,
     "start_time": "2023-08-10T20:15:38.554251",
     "status": "completed"
    },
    "tags": []
   },
   "outputs": [],
   "source": [
    "# Use num_cat_dict features\n",
    "# (Update): Gets a local score of 0.7027181356991726. Not great.\n",
    "# submit_v4(selected_model=LogisticRegression(max_iter=100000), selected_features=num_cat_dict, param_grid=param_grid)"
   ]
  },
  {
   "cell_type": "code",
   "execution_count": 236,
   "id": "f0295312",
   "metadata": {
    "execution": {
     "iopub.execute_input": "2023-08-10T20:15:38.885386Z",
     "iopub.status.busy": "2023-08-10T20:15:38.885010Z",
     "iopub.status.idle": "2023-08-10T20:15:38.889330Z",
     "shell.execute_reply": "2023-08-10T20:15:38.888224Z"
    },
    "papermill": {
     "duration": 0.115237,
     "end_time": "2023-08-10T20:15:38.891771",
     "exception": false,
     "start_time": "2023-08-10T20:15:38.776534",
     "status": "completed"
    },
    "tags": []
   },
   "outputs": [],
   "source": [
    "# Try data other than reviewText\n",
    "\n",
    "# mov_dict = {'cat': ['rating', 'originalLanguage'],\n",
    "#  'num': ['audienceScore', 'runtimeMinutes', 'boxOffice'],\n",
    "#  'txt': ['movieid', 'genre', 'director']}\n",
    "# mov_dict"
   ]
  },
  {
   "cell_type": "code",
   "execution_count": 237,
   "id": "4268f2ec",
   "metadata": {
    "execution": {
     "iopub.execute_input": "2023-08-10T20:15:39.115911Z",
     "iopub.status.busy": "2023-08-10T20:15:39.115373Z",
     "iopub.status.idle": "2023-08-10T20:15:39.119437Z",
     "shell.execute_reply": "2023-08-10T20:15:39.118673Z"
    },
    "papermill": {
     "duration": 0.120583,
     "end_time": "2023-08-10T20:15:39.121591",
     "exception": false,
     "start_time": "2023-08-10T20:15:39.001008",
     "status": "completed"
    },
    "tags": []
   },
   "outputs": [],
   "source": [
    "# Use mov_dict features\n",
    "# (Update): Gets a local score of 0.7475454316469369, which is not bad at all.\n",
    "# submit_v4(selected_model=LogisticRegression(max_iter=100000), selected_features=mov_dict, param_grid=param_grid)"
   ]
  },
  {
   "cell_type": "markdown",
   "id": "0f1b06ef",
   "metadata": {
    "papermill": {
     "duration": 0.107387,
     "end_time": "2023-08-10T20:15:39.335186",
     "exception": false,
     "start_time": "2023-08-10T20:15:39.227799",
     "status": "completed"
    },
    "tags": []
   },
   "source": [
    "# Try a new column 'reviewYN'  \n",
    "\n"
   ]
  },
  {
   "cell_type": "code",
   "execution_count": 238,
   "id": "c73292c9",
   "metadata": {
    "execution": {
     "iopub.execute_input": "2023-08-10T20:15:39.549644Z",
     "iopub.status.busy": "2023-08-10T20:15:39.549242Z",
     "iopub.status.idle": "2023-08-10T20:15:39.553423Z",
     "shell.execute_reply": "2023-08-10T20:15:39.552441Z"
    },
    "papermill": {
     "duration": 0.114294,
     "end_time": "2023-08-10T20:15:39.555425",
     "exception": false,
     "start_time": "2023-08-10T20:15:39.441131",
     "status": "completed"
    },
    "tags": []
   },
   "outputs": [],
   "source": [
    "# all_dict_3 = {'cat': [\"isFrequentReviewer\", \"rating\", \"originalLanguage\", \"reviewYN\"],\n",
    "#              'num': [\"audienceScore\", \"runtimeMinutes\", \"boxOffice\"],\n",
    "#              'txt': ['reviewText', \"reviewerName\", 'movieid', 'genre', 'director']}\n",
    "# all_dict_3"
   ]
  },
  {
   "cell_type": "code",
   "execution_count": 239,
   "id": "38cb263a",
   "metadata": {
    "execution": {
     "iopub.execute_input": "2023-08-10T20:15:39.769929Z",
     "iopub.status.busy": "2023-08-10T20:15:39.769532Z",
     "iopub.status.idle": "2023-08-10T20:15:39.774160Z",
     "shell.execute_reply": "2023-08-10T20:15:39.772963Z"
    },
    "papermill": {
     "duration": 0.114206,
     "end_time": "2023-08-10T20:15:39.776408",
     "exception": false,
     "start_time": "2023-08-10T20:15:39.662202",
     "status": "completed"
    },
    "tags": []
   },
   "outputs": [],
   "source": [
    "# submit_v4(selected_model=LogisticRegression(max_iter=100000),\n",
    "#          selected_features=all_dict_3, \n",
    "#           param_grid=param_grid)"
   ]
  },
  {
   "cell_type": "markdown",
   "id": "d185c54b",
   "metadata": {
    "papermill": {
     "duration": 0.109108,
     "end_time": "2023-08-10T20:15:39.990939",
     "exception": false,
     "start_time": "2023-08-10T20:15:39.881831",
     "status": "completed"
    },
    "tags": []
   },
   "source": [
    "### More GridSearchCV using LinearSVC  "
   ]
  },
  {
   "cell_type": "code",
   "execution_count": 240,
   "id": "2688913c",
   "metadata": {
    "execution": {
     "iopub.execute_input": "2023-08-10T20:15:40.206445Z",
     "iopub.status.busy": "2023-08-10T20:15:40.206076Z",
     "iopub.status.idle": "2023-08-10T20:15:40.210511Z",
     "shell.execute_reply": "2023-08-10T20:15:40.209418Z"
    },
    "papermill": {
     "duration": 0.113838,
     "end_time": "2023-08-10T20:15:40.212943",
     "exception": false,
     "start_time": "2023-08-10T20:15:40.099105",
     "status": "completed"
    },
    "tags": []
   },
   "outputs": [],
   "source": [
    "# param_grid_svc_2 = {\n",
    "#     'model__C': [1.0],\n",
    "#     'model__loss': ['hinge', 'squared_hinge'],\n",
    "#     'model__class_weight': ['balanced', None]\n",
    "# }\n",
    "# param_grid_svc_2"
   ]
  },
  {
   "cell_type": "code",
   "execution_count": 241,
   "id": "8d76e1dd",
   "metadata": {
    "execution": {
     "iopub.execute_input": "2023-08-10T20:15:40.428315Z",
     "iopub.status.busy": "2023-08-10T20:15:40.427905Z",
     "iopub.status.idle": "2023-08-10T20:15:40.432804Z",
     "shell.execute_reply": "2023-08-10T20:15:40.431700Z"
    },
    "papermill": {
     "duration": 0.115678,
     "end_time": "2023-08-10T20:15:40.435234",
     "exception": false,
     "start_time": "2023-08-10T20:15:40.319556",
     "status": "completed"
    },
    "tags": []
   },
   "outputs": [],
   "source": [
    "# submit_v4(selected_model=LinearSVC(max_iter=100000, random_state=42), selected_features={'num': [\"audienceScore\"]}, param_grid=param_grid_svc_2)"
   ]
  },
  {
   "cell_type": "code",
   "execution_count": 242,
   "id": "d33a1dbb",
   "metadata": {
    "execution": {
     "iopub.execute_input": "2023-08-10T20:15:40.650481Z",
     "iopub.status.busy": "2023-08-10T20:15:40.649643Z",
     "iopub.status.idle": "2023-08-10T20:15:40.654535Z",
     "shell.execute_reply": "2023-08-10T20:15:40.653781Z"
    },
    "papermill": {
     "duration": 0.116211,
     "end_time": "2023-08-10T20:15:40.656934",
     "exception": false,
     "start_time": "2023-08-10T20:15:40.540723",
     "status": "completed"
    },
    "tags": []
   },
   "outputs": [],
   "source": [
    "# submit_v4(selected_model=LinearSVC(max_iter=100000, random_state=42), selected_features=all_dict, param_grid=param_grid_svc_2)"
   ]
  },
  {
   "cell_type": "markdown",
   "id": "58a1dbc4",
   "metadata": {
    "papermill": {
     "duration": 0.105156,
     "end_time": "2023-08-10T20:15:40.867662",
     "exception": false,
     "start_time": "2023-08-10T20:15:40.762506",
     "status": "completed"
    },
    "tags": []
   },
   "source": [
    "### Boosting techniques  "
   ]
  },
  {
   "cell_type": "code",
   "execution_count": 243,
   "id": "b3fc4958",
   "metadata": {
    "execution": {
     "iopub.execute_input": "2023-08-10T20:15:41.086487Z",
     "iopub.status.busy": "2023-08-10T20:15:41.085606Z",
     "iopub.status.idle": "2023-08-10T20:15:41.090548Z",
     "shell.execute_reply": "2023-08-10T20:15:41.089759Z"
    },
    "papermill": {
     "duration": 0.117879,
     "end_time": "2023-08-10T20:15:41.092951",
     "exception": false,
     "start_time": "2023-08-10T20:15:40.975072",
     "status": "completed"
    },
    "tags": []
   },
   "outputs": [],
   "source": [
    "# adc = AdaBoostClassifier(estimator=LogisticRegression(C=5, solver=\"saga\", max_iter=100000), n_estimators=50)\n",
    "# adc"
   ]
  },
  {
   "cell_type": "code",
   "execution_count": 244,
   "id": "4cc9c089",
   "metadata": {
    "execution": {
     "iopub.execute_input": "2023-08-10T20:15:41.306287Z",
     "iopub.status.busy": "2023-08-10T20:15:41.305476Z",
     "iopub.status.idle": "2023-08-10T20:15:41.310256Z",
     "shell.execute_reply": "2023-08-10T20:15:41.309466Z"
    },
    "papermill": {
     "duration": 0.11399,
     "end_time": "2023-08-10T20:15:41.312443",
     "exception": false,
     "start_time": "2023-08-10T20:15:41.198453",
     "status": "completed"
    },
    "tags": []
   },
   "outputs": [],
   "source": [
    "# submit_v4(selected_model=adc, selected_features={'num': [\"audienceScore\"]}, param_grid=None)"
   ]
  },
  {
   "cell_type": "code",
   "execution_count": 245,
   "id": "d64733ce",
   "metadata": {
    "execution": {
     "iopub.execute_input": "2023-08-10T20:15:41.527450Z",
     "iopub.status.busy": "2023-08-10T20:15:41.526259Z",
     "iopub.status.idle": "2023-08-10T20:15:41.531574Z",
     "shell.execute_reply": "2023-08-10T20:15:41.530607Z"
    },
    "papermill": {
     "duration": 0.115957,
     "end_time": "2023-08-10T20:15:41.534150",
     "exception": false,
     "start_time": "2023-08-10T20:15:41.418193",
     "status": "completed"
    },
    "tags": []
   },
   "outputs": [],
   "source": [
    "# submit_v4(selected_model=adc, selected_features=all_dict, param_grid=None)\n",
    "\n",
    "# Took 1 hour 15 mins to run and gave a public score of only 0.71089. Discarded."
   ]
  },
  {
   "cell_type": "markdown",
   "id": "c5c4ef58",
   "metadata": {
    "papermill": {
     "duration": 0.107533,
     "end_time": "2023-08-10T20:15:41.748951",
     "exception": false,
     "start_time": "2023-08-10T20:15:41.641418",
     "status": "completed"
    },
    "tags": []
   },
   "source": [
    "### LightGBM  "
   ]
  },
  {
   "cell_type": "code",
   "execution_count": 246,
   "id": "8a1e02a0",
   "metadata": {
    "execution": {
     "iopub.execute_input": "2023-08-10T20:15:41.964230Z",
     "iopub.status.busy": "2023-08-10T20:15:41.963496Z",
     "iopub.status.idle": "2023-08-10T20:15:41.967843Z",
     "shell.execute_reply": "2023-08-10T20:15:41.967029Z"
    },
    "papermill": {
     "duration": 0.115168,
     "end_time": "2023-08-10T20:15:41.969995",
     "exception": false,
     "start_time": "2023-08-10T20:15:41.854827",
     "status": "completed"
    },
    "tags": []
   },
   "outputs": [],
   "source": [
    "# lgb = ltb.LGBMClassifier()\n",
    "# lgb"
   ]
  },
  {
   "cell_type": "code",
   "execution_count": 247,
   "id": "348e7ed6",
   "metadata": {
    "execution": {
     "iopub.execute_input": "2023-08-10T20:15:42.185571Z",
     "iopub.status.busy": "2023-08-10T20:15:42.184937Z",
     "iopub.status.idle": "2023-08-10T20:15:42.189509Z",
     "shell.execute_reply": "2023-08-10T20:15:42.188692Z"
    },
    "papermill": {
     "duration": 0.114596,
     "end_time": "2023-08-10T20:15:42.191818",
     "exception": false,
     "start_time": "2023-08-10T20:15:42.077222",
     "status": "completed"
    },
    "tags": []
   },
   "outputs": [],
   "source": [
    "# Try LightGBM with default settings\n",
    "# (Update): Public score only 0.77713. It was fast, took less than 5 mins (without GridSearchCV)\n",
    "\n",
    "# submit_v4(selected_model=ltb.LGBMClassifier(), selected_features=all_dict, param_grid=None)"
   ]
  },
  {
   "cell_type": "markdown",
   "id": "b5b97bee",
   "metadata": {
    "papermill": {
     "duration": 0.105581,
     "end_time": "2023-08-10T20:15:42.402936",
     "exception": false,
     "start_time": "2023-08-10T20:15:42.297355",
     "status": "completed"
    },
    "tags": []
   },
   "source": [
    "# Try feature selection and vocab fine tuning of reviewText column"
   ]
  },
  {
   "cell_type": "markdown",
   "id": "5bc73a87",
   "metadata": {
    "papermill": {
     "duration": 0.108285,
     "end_time": "2023-08-10T20:15:42.627180",
     "exception": false,
     "start_time": "2023-08-10T20:15:42.518895",
     "status": "completed"
    },
    "tags": []
   },
   "source": [
    "## Plan  \n",
    "* Add a new column 'reviewWC' which has word count of 'reviewText'  \n",
    "    * Check if there is any relationship between 'reviewWC' and 'sentiment'\n",
    "* Work on vocabulary\n",
    "     * Use TfidfVectorizer and find out the vocabulary of 'reviewText' column for various ngrams\n",
    "     * Use RecursiveFeatureElimination (RFE) or RFECV to select 1000 top words/vocab for each ngram\n",
    "     * Use the final vocab (1000-3000 words) in the model and see how it performs compared to whole vocab\n"
   ]
  },
  {
   "cell_type": "code",
   "execution_count": 248,
   "id": "372f3358",
   "metadata": {
    "execution": {
     "iopub.execute_input": "2023-08-10T20:15:42.861541Z",
     "iopub.status.busy": "2023-08-10T20:15:42.860273Z",
     "iopub.status.idle": "2023-08-10T20:15:42.865856Z",
     "shell.execute_reply": "2023-08-10T20:15:42.864864Z"
    },
    "papermill": {
     "duration": 0.127423,
     "end_time": "2023-08-10T20:15:42.868230",
     "exception": false,
     "start_time": "2023-08-10T20:15:42.740807",
     "status": "completed"
    },
    "tags": []
   },
   "outputs": [],
   "source": [
    "# 'reviewWC' and 'sentiment'\n",
    "# (Conclusion): 'reviewWC' is practically same as DummyClassifier (accuracy of 0.6682375059904889 on train data). It just predicts 'positive' for all columns\n",
    "\n",
    "# reviewWC_dict = {\"num\": [\"reviewWC\"]}\n",
    "# submit_v4(selected_model=LogisticRegression(),\n",
    "#          selected_features=reviewWC_dict,\n",
    "#          param_grid=None)"
   ]
  },
  {
   "cell_type": "code",
   "execution_count": 249,
   "id": "18eb8e0a",
   "metadata": {
    "execution": {
     "iopub.execute_input": "2023-08-10T20:15:43.087857Z",
     "iopub.status.busy": "2023-08-10T20:15:43.086892Z",
     "iopub.status.idle": "2023-08-10T20:15:43.092294Z",
     "shell.execute_reply": "2023-08-10T20:15:43.091506Z"
    },
    "papermill": {
     "duration": 0.118301,
     "end_time": "2023-08-10T20:15:43.094572",
     "exception": false,
     "start_time": "2023-08-10T20:15:42.976271",
     "status": "completed"
    },
    "tags": []
   },
   "outputs": [],
   "source": [
    "# 'reviewYN' and 'sentiment'\n",
    "# (Conclusion): 'reviewYN' is practically same as DummyClassifier (accuracy of 0.6682375059904889 on train data). It just predicts 'positive' for all columns\n",
    "\n",
    "# reviewYN_dict = {\"cat\": [\"reviewYN\"]}\n",
    "# submit_v4(selected_model=LogisticRegression(),\n",
    "#          selected_features=reviewYN_dict,\n",
    "#          param_grid=None)"
   ]
  },
  {
   "cell_type": "markdown",
   "id": "d4a3196f",
   "metadata": {
    "papermill": {
     "duration": 0.105428,
     "end_time": "2023-08-10T20:15:43.306384",
     "exception": false,
     "start_time": "2023-08-10T20:15:43.200956",
     "status": "completed"
    },
    "tags": []
   },
   "source": [
    "## Submissions using 'vocabulary' built from 'reviewText' data  "
   ]
  },
  {
   "cell_type": "markdown",
   "id": "89addcb7",
   "metadata": {
    "papermill": {
     "duration": 0.10941,
     "end_time": "2023-08-10T20:15:43.596124",
     "exception": false,
     "start_time": "2023-08-10T20:15:43.486714",
     "status": "completed"
    },
    "tags": []
   },
   "source": [
    "### Submit best 6 features along with common vocab  "
   ]
  },
  {
   "cell_type": "code",
   "execution_count": 250,
   "id": "9eb63fc6",
   "metadata": {
    "execution": {
     "iopub.execute_input": "2023-08-10T20:15:43.816303Z",
     "iopub.status.busy": "2023-08-10T20:15:43.815027Z",
     "iopub.status.idle": "2023-08-10T20:15:43.820147Z",
     "shell.execute_reply": "2023-08-10T20:15:43.819086Z"
    },
    "papermill": {
     "duration": 0.117589,
     "end_time": "2023-08-10T20:15:43.822558",
     "exception": false,
     "start_time": "2023-08-10T20:15:43.704969",
     "status": "completed"
    },
    "tags": []
   },
   "outputs": [],
   "source": [
    "# Best 6 parameters (version 2)  \n",
    "\n",
    "# best6_dict = {'num': [\"audienceScore\"],\n",
    "#              'txt': ['reviewText', 'reviewerName', 'genre','movieid', 'director']}\n",
    "\n",
    "# best6_dict"
   ]
  },
  {
   "cell_type": "code",
   "execution_count": 251,
   "id": "4d978c55",
   "metadata": {
    "execution": {
     "iopub.execute_input": "2023-08-10T20:15:44.040235Z",
     "iopub.status.busy": "2023-08-10T20:15:44.039836Z",
     "iopub.status.idle": "2023-08-10T20:15:44.044424Z",
     "shell.execute_reply": "2023-08-10T20:15:44.043371Z"
    },
    "papermill": {
     "duration": 0.117829,
     "end_time": "2023-08-10T20:15:44.046789",
     "exception": false,
     "start_time": "2023-08-10T20:15:43.928960",
     "status": "completed"
    },
    "tags": []
   },
   "outputs": [],
   "source": [
    "# Submit best 6 features (version 2) with common vocabulary (common_1_2_grams)\n",
    "# (Update): Score 0.82867\n",
    "\n",
    "# submit_v4(selected_features=best6_dict,\n",
    "#           param_grid=param_grid,\n",
    "#          vocab=common_1_2_grams)"
   ]
  },
  {
   "cell_type": "code",
   "execution_count": 252,
   "id": "d75b7da0",
   "metadata": {
    "execution": {
     "iopub.execute_input": "2023-08-10T20:15:44.264113Z",
     "iopub.status.busy": "2023-08-10T20:15:44.262793Z",
     "iopub.status.idle": "2023-08-10T20:15:44.268072Z",
     "shell.execute_reply": "2023-08-10T20:15:44.267132Z"
    },
    "papermill": {
     "duration": 0.117392,
     "end_time": "2023-08-10T20:15:44.270167",
     "exception": false,
     "start_time": "2023-08-10T20:15:44.152775",
     "status": "completed"
    },
    "tags": []
   },
   "outputs": [],
   "source": [
    "# Submit best 6 features (version 2) with common vocabulary (common_1_2_3_grams)\n",
    "# Note: for this submission submit_v4 function has to be modified: reviewText TfidfVectorizer must have ngram_range(1,3).\n",
    "# (Update): Score in the range 0.825+\n",
    "\n",
    "# submit_v4(selected_features=best6_dict,\n",
    "#           param_grid=param_grid,\n",
    "#          vocab=common_1_2_3_grams)"
   ]
  }
 ],
 "metadata": {
  "kernelspec": {
   "display_name": "Python 3",
   "language": "python",
   "name": "python3"
  },
  "language_info": {
   "codemirror_mode": {
    "name": "ipython",
    "version": 3
   },
   "file_extension": ".py",
   "mimetype": "text/x-python",
   "name": "python",
   "nbconvert_exporter": "python",
   "pygments_lexer": "ipython3",
   "version": "3.10.10"
  },
  "papermill": {
   "default_parameters": {},
   "duration": 906.072857,
   "end_time": "2023-08-10T20:15:47.301919",
   "environment_variables": {},
   "exception": null,
   "input_path": "__notebook__.ipynb",
   "output_path": "__notebook__.ipynb",
   "parameters": {},
   "start_time": "2023-08-10T20:00:41.229062",
   "version": "2.4.0"
  }
 },
 "nbformat": 4,
 "nbformat_minor": 5
}
