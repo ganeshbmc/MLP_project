{
 "cells": [
  {
   "cell_type": "markdown",
   "id": "79ae835a",
   "metadata": {
    "papermill": {
     "duration": 0.076405,
     "end_time": "2023-08-13T15:44:55.657179",
     "exception": false,
     "start_time": "2023-08-13T15:44:55.580774",
     "status": "completed"
    },
    "tags": []
   },
   "source": [
    "# MLP Project (T2 2023) by Ganesh P  "
   ]
  },
  {
   "cell_type": "markdown",
   "id": "c0afeed3",
   "metadata": {
    "papermill": {
     "duration": 0.079701,
     "end_time": "2023-08-13T15:44:55.816186",
     "exception": false,
     "start_time": "2023-08-13T15:44:55.736485",
     "status": "completed"
    },
    "tags": []
   },
   "source": [
    "`Disclaimer`   \n",
    "\n",
    "> This final notebook contains only the most relevant code to show the path/flow of my project work over few weeks. Rest of the code is in [my github repo](https://github.com/ganeshbmc/MLP_project) which is private at present (I will make it public after the project is over).  "
   ]
  },
  {
   "cell_type": "markdown",
   "id": "4a8a635b",
   "metadata": {
    "papermill": {
     "duration": 0.08027,
     "end_time": "2023-08-13T15:44:55.966624",
     "exception": false,
     "start_time": "2023-08-13T15:44:55.886354",
     "status": "completed"
    },
    "tags": []
   },
   "source": [
    "`Strengths`  \n",
    "\n",
    "> * Modular code (DRY principle)  \n",
    "> * End to end pipeline in one function (with helper functions)   "
   ]
  },
  {
   "cell_type": "markdown",
   "id": "096a7435",
   "metadata": {
    "papermill": {
     "duration": 0.073314,
     "end_time": "2023-08-13T15:44:56.111694",
     "exception": false,
     "start_time": "2023-08-13T15:44:56.038380",
     "status": "completed"
    },
    "tags": []
   },
   "source": [
    "`Overview`  \n",
    "\n",
    "`PART I`  \n",
    "\n",
    "1.\t> Screen the datasets and import them.  \n",
    "2.\t> Perform EDA (first round).\n",
    "3.\t> Data cleaning.\n",
    "4.\t> Basic models including dummy model.\n",
    "5.\t> Because this is a text sentiment analysis project, focus on 'reviewText' column, work on cleaning text data and vectorising/tokenising it, build several models till the best possible score is reached.  \n",
    "\n",
    "`PART II`  \n",
    "\n",
    "6.\t> Merge train and movies dataset.\n",
    "7.\t> Perform EDA (second round) on merged dataset.\n",
    "8.\t> Data cleaning.\n",
    "9.\t> Build models on merged dataset.\n",
    "10.\t> Understand the results and do another round of EDA if needed.\n",
    "11.\t> Build final model.  \n",
    "\n",
    "`PART III (After project window closes)`  \n",
    "\n",
    "12. > Use NLTK library for further processing text data.  \n",
    "13. > Try to address comments from different languages, special characters etc.  \n",
    "14. > Try imblearn library to address class imbalance.  \n",
    "15. > Try to use currently available LLMs and see how my model performs agains them.  "
   ]
  },
  {
   "cell_type": "markdown",
   "id": "02f40a4a",
   "metadata": {
    "papermill": {
     "duration": 0.0691,
     "end_time": "2023-08-13T15:44:56.250124",
     "exception": false,
     "start_time": "2023-08-13T15:44:56.181024",
     "status": "completed"
    },
    "tags": []
   },
   "source": [
    "`Default code on Kaggle notebook`  "
   ]
  },
  {
   "cell_type": "code",
   "execution_count": 63,
   "id": "c10074c9",
   "metadata": {
    "_cell_guid": "b1076dfc-b9ad-4769-8c92-a6c4dae69d19",
    "_uuid": "8f2839f25d086af736a60e9eeb907d3b93b6e0e5",
    "execution": {
     "iopub.execute_input": "2023-08-13T15:44:56.389445Z",
     "iopub.status.busy": "2023-08-13T15:44:56.388948Z",
     "iopub.status.idle": "2023-08-13T15:44:56.405357Z",
     "shell.execute_reply": "2023-08-13T15:44:56.404058Z"
    },
    "papermill": {
     "duration": 0.089862,
     "end_time": "2023-08-13T15:44:56.407746",
     "exception": false,
     "start_time": "2023-08-13T15:44:56.317884",
     "status": "completed"
    },
    "tags": []
   },
   "outputs": [],
   "source": [
    "# This Python 3 environment comes with many helpful analytics libraries installed\n",
    "# It is defined by the kaggle/python Docker image: https://github.com/kaggle/docker-python\n",
    "# For example, here's several helpful packages to load\n",
    "\n",
    "import numpy as np # linear algebra\n",
    "import pandas as pd # data processing, CSV file I/O (e.g. pd.read_csv)\n",
    "\n",
    "# Input data files are available in the read-only \"../input/\" directory\n",
    "# For example, running this (by clicking run or pressing Shift+Enter) will list all files under the input directory\n",
    "\n",
    "import os\n",
    "for dirname, _, filenames in os.walk('/kaggle/input'):\n",
    "    for filename in filenames:\n",
    "        print(os.path.join(dirname, filename))\n",
    "\n",
    "# You can write up to 20GB to the current directory (/kaggle/working/) that gets preserved as output when you create a version using \"Save & Run All\" \n",
    "# You can also write temporary files to /kaggle/temp/, but they won't be saved outside of the current session"
   ]
  },
  {
   "cell_type": "markdown",
   "id": "d5d3c4da",
   "metadata": {
    "papermill": {
     "duration": 0.070787,
     "end_time": "2023-08-13T15:44:56.547529",
     "exception": false,
     "start_time": "2023-08-13T15:44:56.476742",
     "status": "completed"
    },
    "tags": []
   },
   "source": [
    "### Specify platform  "
   ]
  },
  {
   "cell_type": "code",
   "execution_count": 64,
   "id": "510f0e33",
   "metadata": {
    "execution": {
     "iopub.execute_input": "2023-08-13T15:44:56.692898Z",
     "iopub.status.busy": "2023-08-13T15:44:56.692493Z",
     "iopub.status.idle": "2023-08-13T15:44:56.696955Z",
     "shell.execute_reply": "2023-08-13T15:44:56.695735Z"
    },
    "papermill": {
     "duration": 0.082872,
     "end_time": "2023-08-13T15:44:56.699397",
     "exception": false,
     "start_time": "2023-08-13T15:44:56.616525",
     "status": "completed"
    },
    "tags": []
   },
   "outputs": [],
   "source": [
    "platform = 'vscode'  "
   ]
  },
  {
   "cell_type": "markdown",
   "id": "db794567",
   "metadata": {
    "papermill": {
     "duration": 0.067886,
     "end_time": "2023-08-13T15:44:56.836109",
     "exception": false,
     "start_time": "2023-08-13T15:44:56.768223",
     "status": "completed"
    },
    "tags": []
   },
   "source": [
    "### Import libraries  "
   ]
  },
  {
   "cell_type": "code",
   "execution_count": 65,
   "id": "78c18411",
   "metadata": {
    "execution": {
     "iopub.execute_input": "2023-08-13T15:44:56.975690Z",
     "iopub.status.busy": "2023-08-13T15:44:56.974964Z",
     "iopub.status.idle": "2023-08-13T15:44:59.496160Z",
     "shell.execute_reply": "2023-08-13T15:44:59.494765Z"
    },
    "papermill": {
     "duration": 2.593992,
     "end_time": "2023-08-13T15:44:59.499140",
     "exception": false,
     "start_time": "2023-08-13T15:44:56.905148",
     "status": "completed"
    },
    "tags": []
   },
   "outputs": [
    {
     "name": "stdout",
     "output_type": "stream",
     "text": [
      "Imports done.\n"
     ]
    }
   ],
   "source": [
    "# Basic libraries\n",
    "import pandas as pd\n",
    "import numpy as np\n",
    "import re\n",
    "from itertools import compress\n",
    "\n",
    "# Visualization libraries\n",
    "import matplotlib.pyplot as plt\n",
    "import seaborn as sns\n",
    "\n",
    "# Statistical libraries\n",
    "import scipy.stats as stats\n",
    "\n",
    "# Sklearn \n",
    "# Preprocessing, feature extraction, feature selection\n",
    "from sklearn.feature_extraction.text import TfidfVectorizer, CountVectorizer\n",
    "from sklearn.preprocessing import StandardScaler, MinMaxScaler, RobustScaler, OneHotEncoder, LabelEncoder, PolynomialFeatures\n",
    "from sklearn.preprocessing import FunctionTransformer\n",
    "from sklearn.impute import SimpleImputer, KNNImputer\n",
    "from sklearn.feature_selection import RFE, RFECV\n",
    "from sklearn.decomposition import PCA, TruncatedSVD\n",
    "from sklearn.pipeline import Pipeline, FeatureUnion\n",
    "from sklearn.compose import ColumnTransformer\n",
    "from sklearn.model_selection import train_test_split, GridSearchCV, cross_val_score\n",
    "\n",
    "# Models\n",
    "from sklearn.dummy import DummyClassifier\n",
    "from sklearn.linear_model import LogisticRegression, SGDClassifier\n",
    "from sklearn.svm import LinearSVC\n",
    "from sklearn.naive_bayes import GaussianNB, BernoulliNB, CategoricalNB, ComplementNB, MultinomialNB\n",
    "from sklearn.neural_network import MLPClassifier\n",
    "from sklearn.tree import DecisionTreeClassifier\n",
    "from sklearn.ensemble import RandomForestClassifier, AdaBoostClassifier, StackingClassifier\n",
    "# import lightgbm as ltb\n",
    "\n",
    "# Evaluation\n",
    "from sklearn.metrics import classification_report, confusion_matrix, f1_score\n",
    "from sklearn.metrics import roc_auc_score, roc_curve, precision_recall_curve\n",
    "\n",
    "print(\"Imports done.\")"
   ]
  },
  {
   "cell_type": "markdown",
   "id": "2b73b77f",
   "metadata": {
    "papermill": {
     "duration": 0.073976,
     "end_time": "2023-08-13T15:44:59.642764",
     "exception": false,
     "start_time": "2023-08-13T15:44:59.568788",
     "status": "completed"
    },
    "tags": []
   },
   "source": [
    "# PART I  "
   ]
  },
  {
   "cell_type": "markdown",
   "id": "4d3e1e7a",
   "metadata": {
    "papermill": {
     "duration": 0.161575,
     "end_time": "2023-08-13T15:44:59.888655",
     "exception": false,
     "start_time": "2023-08-13T15:44:59.727080",
     "status": "completed"
    },
    "tags": []
   },
   "source": [
    "## Load datasets  "
   ]
  },
  {
   "cell_type": "code",
   "execution_count": 66,
   "id": "8941fc6f",
   "metadata": {
    "execution": {
     "iopub.execute_input": "2023-08-13T15:45:00.031236Z",
     "iopub.status.busy": "2023-08-13T15:45:00.030518Z",
     "iopub.status.idle": "2023-08-13T15:45:01.211250Z",
     "shell.execute_reply": "2023-08-13T15:45:01.209912Z"
    },
    "papermill": {
     "duration": 1.256255,
     "end_time": "2023-08-13T15:45:01.213990",
     "exception": false,
     "start_time": "2023-08-13T15:44:59.957735",
     "status": "completed"
    },
    "tags": []
   },
   "outputs": [
    {
     "data": {
      "text/plain": [
       "(162758, 5)"
      ]
     },
     "execution_count": 66,
     "metadata": {},
     "output_type": "execute_result"
    }
   ],
   "source": [
    "if platform == 'vscode':\n",
    "    traindf = pd.read_csv(\"data/train.csv\")\n",
    "else:\n",
    "    traindf = pd.read_csv(\"/kaggle/input/sentiment-prediction-on-movie-reviews/train.csv\")\n",
    "    \n",
    "traindf.shape"
   ]
  },
  {
   "cell_type": "code",
   "execution_count": 67,
   "id": "42c0ea77",
   "metadata": {
    "execution": {
     "iopub.execute_input": "2023-08-13T15:45:01.359487Z",
     "iopub.status.busy": "2023-08-13T15:45:01.359070Z",
     "iopub.status.idle": "2023-08-13T15:45:01.734359Z",
     "shell.execute_reply": "2023-08-13T15:45:01.733257Z"
    },
    "papermill": {
     "duration": 0.448072,
     "end_time": "2023-08-13T15:45:01.736603",
     "exception": false,
     "start_time": "2023-08-13T15:45:01.288531",
     "status": "completed"
    },
    "tags": []
   },
   "outputs": [
    {
     "data": {
      "text/plain": [
       "(55315, 4)"
      ]
     },
     "execution_count": 67,
     "metadata": {},
     "output_type": "execute_result"
    }
   ],
   "source": [
    "if platform == 'vscode':\n",
    "    testdf = pd.read_csv(\"data/test.csv\")\n",
    "else:\n",
    "    testdf = pd.read_csv(\"/kaggle/input/sentiment-prediction-on-movie-reviews/test.csv\")\n",
    "\n",
    "testdf.shape"
   ]
  },
  {
   "cell_type": "markdown",
   "id": "19f42e93",
   "metadata": {
    "papermill": {
     "duration": 0.068336,
     "end_time": "2023-08-13T15:45:01.873867",
     "exception": false,
     "start_time": "2023-08-13T15:45:01.805531",
     "status": "completed"
    },
    "tags": []
   },
   "source": [
    "### Understanding the data and getting it ready for training and evaluating models  \n"
   ]
  },
  {
   "cell_type": "code",
   "execution_count": 68,
   "id": "e599bd46",
   "metadata": {
    "execution": {
     "iopub.execute_input": "2023-08-13T15:45:02.014501Z",
     "iopub.status.busy": "2023-08-13T15:45:02.013284Z",
     "iopub.status.idle": "2023-08-13T15:45:02.020620Z",
     "shell.execute_reply": "2023-08-13T15:45:02.019768Z"
    },
    "papermill": {
     "duration": 0.080307,
     "end_time": "2023-08-13T15:45:02.022785",
     "exception": false,
     "start_time": "2023-08-13T15:45:01.942478",
     "status": "completed"
    },
    "tags": []
   },
   "outputs": [
    {
     "data": {
      "text/plain": [
       "(162758, 5)"
      ]
     },
     "execution_count": 68,
     "metadata": {},
     "output_type": "execute_result"
    }
   ],
   "source": [
    "traindf.shape"
   ]
  },
  {
   "cell_type": "code",
   "execution_count": 69,
   "id": "6ff092a4",
   "metadata": {
    "execution": {
     "iopub.execute_input": "2023-08-13T15:45:02.165187Z",
     "iopub.status.busy": "2023-08-13T15:45:02.164371Z",
     "iopub.status.idle": "2023-08-13T15:45:02.300282Z",
     "shell.execute_reply": "2023-08-13T15:45:02.299157Z"
    },
    "papermill": {
     "duration": 0.210246,
     "end_time": "2023-08-13T15:45:02.302991",
     "exception": false,
     "start_time": "2023-08-13T15:45:02.092745",
     "status": "completed"
    },
    "tags": []
   },
   "outputs": [
    {
     "name": "stdout",
     "output_type": "stream",
     "text": [
      "<class 'pandas.core.frame.DataFrame'>\n",
      "RangeIndex: 162758 entries, 0 to 162757\n",
      "Data columns (total 5 columns):\n",
      " #   Column              Non-Null Count   Dtype \n",
      "---  ------              --------------   ----- \n",
      " 0   movieid             162758 non-null  object\n",
      " 1   reviewerName        162758 non-null  object\n",
      " 2   isFrequentReviewer  162758 non-null  bool  \n",
      " 3   reviewText          156311 non-null  object\n",
      " 4   sentiment           162758 non-null  object\n",
      "dtypes: bool(1), object(4)\n",
      "memory usage: 5.1+ MB\n"
     ]
    }
   ],
   "source": [
    "traindf.info()"
   ]
  },
  {
   "cell_type": "code",
   "execution_count": 70,
   "id": "4336683d",
   "metadata": {
    "execution": {
     "iopub.execute_input": "2023-08-13T15:45:02.446093Z",
     "iopub.status.busy": "2023-08-13T15:45:02.445644Z",
     "iopub.status.idle": "2023-08-13T15:45:02.560763Z",
     "shell.execute_reply": "2023-08-13T15:45:02.559560Z"
    },
    "papermill": {
     "duration": 0.191238,
     "end_time": "2023-08-13T15:45:02.563434",
     "exception": false,
     "start_time": "2023-08-13T15:45:02.372196",
     "status": "completed"
    },
    "tags": []
   },
   "outputs": [
    {
     "data": {
      "text/plain": [
       "movieid                  0\n",
       "reviewerName             0\n",
       "isFrequentReviewer       0\n",
       "reviewText            6447\n",
       "sentiment                0\n",
       "dtype: int64"
      ]
     },
     "execution_count": 70,
     "metadata": {},
     "output_type": "execute_result"
    }
   ],
   "source": [
    "traindf.isna().sum()"
   ]
  },
  {
   "cell_type": "markdown",
   "id": "ae225881",
   "metadata": {
    "papermill": {
     "duration": 0.071182,
     "end_time": "2023-08-13T15:45:02.704323",
     "exception": false,
     "start_time": "2023-08-13T15:45:02.633141",
     "status": "completed"
    },
    "tags": []
   },
   "source": [
    "### Fill empty reviewText with custom text  "
   ]
  },
  {
   "cell_type": "code",
   "execution_count": 71,
   "id": "74d6c31e",
   "metadata": {
    "execution": {
     "iopub.execute_input": "2023-08-13T15:45:02.845170Z",
     "iopub.status.busy": "2023-08-13T15:45:02.844670Z",
     "iopub.status.idle": "2023-08-13T15:45:02.978104Z",
     "shell.execute_reply": "2023-08-13T15:45:02.976808Z"
    },
    "papermill": {
     "duration": 0.206699,
     "end_time": "2023-08-13T15:45:02.980573",
     "exception": false,
     "start_time": "2023-08-13T15:45:02.773874",
     "status": "completed"
    },
    "tags": []
   },
   "outputs": [
    {
     "data": {
      "text/plain": [
       "movieid               0\n",
       "reviewerName          0\n",
       "isFrequentReviewer    0\n",
       "reviewText            0\n",
       "sentiment             0\n",
       "dtype: int64"
      ]
     },
     "execution_count": 71,
     "metadata": {},
     "output_type": "execute_result"
    }
   ],
   "source": [
    "traindf[\"reviewText\"].fillna(\"empty\", inplace=True)\n",
    "traindf.isna().sum()"
   ]
  },
  {
   "cell_type": "markdown",
   "id": "a5733208",
   "metadata": {
    "papermill": {
     "duration": 0.068995,
     "end_time": "2023-08-13T15:45:03.119696",
     "exception": false,
     "start_time": "2023-08-13T15:45:03.050701",
     "status": "completed"
    },
    "tags": []
   },
   "source": [
    "## EDA  \n"
   ]
  },
  {
   "cell_type": "markdown",
   "id": "1f265743",
   "metadata": {},
   "source": [
    "### Classes  "
   ]
  },
  {
   "cell_type": "code",
   "execution_count": 72,
   "id": "3a17e8ed",
   "metadata": {
    "execution": {
     "iopub.execute_input": "2023-08-13T15:45:03.262472Z",
     "iopub.status.busy": "2023-08-13T15:45:03.261686Z",
     "iopub.status.idle": "2023-08-13T15:45:03.499729Z",
     "shell.execute_reply": "2023-08-13T15:45:03.498463Z"
    },
    "papermill": {
     "duration": 0.312531,
     "end_time": "2023-08-13T15:45:03.502242",
     "exception": false,
     "start_time": "2023-08-13T15:45:03.189711",
     "status": "completed"
    },
    "tags": []
   },
   "outputs": [
    {
     "data": {
      "image/png": "[encoded data removed]",
      "text/plain": [
       "<Figure size 432x288 with 1 Axes>"
      ]
     },
     "metadata": {},
     "output_type": "display_data"
    }
   ],
   "source": [
    "# Pie chart for sentiment column\n",
    "plt.figure(figsize=(6, 4))\n",
    "traindf[\"sentiment\"].value_counts().plot(kind='pie', autopct='%1.0f%%', colors=[\"lightgreen\", \"crimson\"])\n",
    "plt.title(\"Pie chart for sentiment column\")\n",
    "plt.show()"
   ]
  },
  {
   "cell_type": "markdown",
   "id": "40af1b14",
   "metadata": {},
   "source": [
    "`Is there a significant class imbalance?`  \n",
    "\n",
    "* There is some class imbalance but it does not appear to be significant enough to affect performance of model.  \n",
    "\n",
    "* That said, I did experiment with 'class_weight' in the model fitting to see if it would improve the model.  It did not.  "
   ]
  },
  {
   "cell_type": "markdown",
   "id": "6388c4c9",
   "metadata": {},
   "source": [
    "### 'isFrequentReviewer' column  "
   ]
  },
  {
   "cell_type": "code",
   "execution_count": 73,
   "id": "97812f45",
   "metadata": {},
   "outputs": [
    {
     "name": "stdout",
     "output_type": "stream",
     "text": [
      "False    113189\n",
      "True      49569\n",
      "Name: isFrequentReviewer, dtype: int64\n",
      "False    0.695444\n",
      "True     0.304556\n",
      "Name: isFrequentReviewer, dtype: float64\n"
     ]
    }
   ],
   "source": [
    "print(traindf['isFrequentReviewer'].value_counts())\n",
    "print(traindf['isFrequentReviewer'].value_counts(normalize=True))"
   ]
  },
  {
   "cell_type": "code",
   "execution_count": 74,
   "id": "4229e80f",
   "metadata": {},
   "outputs": [
    {
     "data": {
      "text/plain": [
       "<AxesSubplot:xlabel='isFrequentReviewer', ylabel='isFrequentReviewer'>"
      ]
     },
     "execution_count": 74,
     "metadata": {},
     "output_type": "execute_result"
    },
    {
     "data": {
      "image/png": "[encoded data removed]",
      "text/plain": [
       "<Figure size 432x288 with 1 Axes>"
      ]
     },
     "metadata": {
      "needs_background": "light"
     },
     "output_type": "display_data"
    }
   ],
   "source": [
    "# Barchart for isFrequentReviewer  \n",
    "sns.barplot(x='isFrequentReviewer', y='isFrequentReviewer', data=traindf, estimator=lambda x: len(x) / len(traindf) * 100)"
   ]
  },
  {
   "cell_type": "code",
   "execution_count": 75,
   "id": "612181f4",
   "metadata": {},
   "outputs": [],
   "source": [
    "# Pie chart for isFrequentReviewer column  \n",
    "# plt.figure(figsize=(6, 4))\n",
    "# traindf[\"isFrequentReviewer\"].value_counts().plot(kind='pie', autopct='%1.0f%%', colors=[\"lightgreen\", \"crimson\"])\n",
    "# plt.title(\"Pie chart for isFrequentReviewer column\")\n",
    "# plt.show()"
   ]
  },
  {
   "cell_type": "code",
   "execution_count": 11,
   "id": "33d07a77",
   "metadata": {
    "execution": {
     "iopub.execute_input": "2023-08-13T15:45:03.648401Z",
     "iopub.status.busy": "2023-08-13T15:45:03.647921Z",
     "iopub.status.idle": "2023-08-13T15:45:03.731103Z",
     "shell.execute_reply": "2023-08-13T15:45:03.729884Z"
    },
    "papermill": {
     "duration": 0.159385,
     "end_time": "2023-08-13T15:45:03.733308",
     "exception": false,
     "start_time": "2023-08-13T15:45:03.573923",
     "status": "completed"
    },
    "tags": []
   },
   "outputs": [
    {
     "name": "stdout",
     "output_type": "stream",
     "text": [
      "sentiment           NEGATIVE  POSITIVE\n",
      "isFrequentReviewer                    \n",
      "False                  35760     77429\n",
      "True                   18237     31332\n"
     ]
    },
    {
     "data": {
      "text/plain": [
       "Chi2ContingencyResult(statistic=419.89235425657796, pvalue=2.5755894769493255e-93, dof=1, expected_freq=array([[37551.86493444, 75637.13506556],\n",
       "       [16445.13506556, 33123.86493444]]))"
      ]
     },
     "execution_count": 11,
     "metadata": {},
     "output_type": "execute_result"
    }
   ],
   "source": [
    "# Chi-square test for isFrequentReviewer column and sentiment column   \n",
    "\n",
    "contingency_table = pd.crosstab(traindf['isFrequentReviewer'], traindf['sentiment'])\n",
    "print(contingency_table)\n",
    "stats.chi2_contingency(contingency_table)"
   ]
  },
  {
   "cell_type": "markdown",
   "id": "9a2c6e8e",
   "metadata": {},
   "source": [
    "`Does a frequent reviewer give more negative (or positive) reviews?`  \n",
    "\n",
    "* It appears that a frequent reviewer is more likely to give a 'negative' review than an infrequent reviewer (36.8% vs. 31.6%, p<0.001).  \n",
    "* This feature may be useful in predicting the sentiment of a review where reviewText is missing or does not contain enough information to determine sentiment.  "
   ]
  },
  {
   "cell_type": "markdown",
   "id": "99fb9165",
   "metadata": {},
   "source": [
    "### Other columns  "
   ]
  },
  {
   "cell_type": "markdown",
   "id": "5a6ceb0c",
   "metadata": {},
   "source": [
    "`How many unique movies and reviewers are there in the dataset?`  "
   ]
  },
  {
   "cell_type": "code",
   "execution_count": 50,
   "id": "9fd6f0b8",
   "metadata": {},
   "outputs": [
    {
     "name": "stdout",
     "output_type": "stream",
     "text": [
      "Number of unique movies in training data: 16812\n",
      "Proportion of unique movies: 10.3%\n"
     ]
    }
   ],
   "source": [
    "print(f\"Number of unique movies in training data: {len(traindf['movieid'].unique())}\")\n",
    "print(f\"Proportion of unique movies: {len(traindf['movieid'].unique())/len(traindf) * 100:.1f}%\")"
   ]
  },
  {
   "cell_type": "code",
   "execution_count": 59,
   "id": "05c97921",
   "metadata": {},
   "outputs": [],
   "source": [
    "# print(f\"Number of unique movies in test data: {len(testdf['movieid'].unique())}\")\n",
    "# print(f\"Proportion of unique movies in test data: {len(testdf['movieid'].unique())/len(testdf) * 100:.1f}%\")"
   ]
  },
  {
   "cell_type": "code",
   "execution_count": 39,
   "id": "183c00a9",
   "metadata": {},
   "outputs": [
    {
     "data": {
      "text/plain": [
       "104"
      ]
     },
     "execution_count": 39,
     "metadata": {},
     "output_type": "execute_result"
    }
   ],
   "source": [
    "# len(set(testdf['movieid'].unique()) - set(traindf['movieid'].unique()))\n",
    "# len(set(traindf['movieid'].unique()) - set(testdf['movieid'].unique()))"
   ]
  },
  {
   "cell_type": "code",
   "execution_count": 54,
   "id": "ff65f07e",
   "metadata": {},
   "outputs": [
    {
     "name": "stdout",
     "output_type": "stream",
     "text": [
      "Number of unique reviewers in the dataset: 4482\n"
     ]
    }
   ],
   "source": [
    "print(f\"Number of unique reviewers in the dataset: {len(traindf['reviewerName'].unique())}\")"
   ]
  },
  {
   "cell_type": "code",
   "execution_count": 61,
   "id": "7e27f7fe",
   "metadata": {},
   "outputs": [
    {
     "data": {
      "text/plain": [
       "Sherri Morrison      962\n",
       "Veronica Serrano     952\n",
       "Mrs. Vickie Young    827\n",
       "Kristy Ferguson      822\n",
       "Heather Pena         797\n",
       "Name: reviewerName, dtype: int64"
      ]
     },
     "execution_count": 61,
     "metadata": {},
     "output_type": "execute_result"
    }
   ],
   "source": [
    "traindf['reviewerName'].value_counts().head()"
   ]
  },
  {
   "cell_type": "code",
   "execution_count": 62,
   "id": "b8d92a79",
   "metadata": {},
   "outputs": [
    {
     "data": {
      "text/plain": [
       "Ashley Munoz     1\n",
       "Ryan Dean        1\n",
       "Joanna Li        1\n",
       "Jason Carroll    1\n",
       "Chad Mueller     1\n",
       "Name: reviewerName, dtype: int64"
      ]
     },
     "execution_count": 62,
     "metadata": {},
     "output_type": "execute_result"
    }
   ],
   "source": [
    "traindf['reviewerName'].value_counts().tail()"
   ]
  },
  {
   "cell_type": "markdown",
   "id": "cb4857fd",
   "metadata": {
    "papermill": {
     "duration": 0.070134,
     "end_time": "2023-08-13T15:45:03.873681",
     "exception": false,
     "start_time": "2023-08-13T15:45:03.803547",
     "status": "completed"
    },
    "tags": []
   },
   "source": [
    "### Separate features and labels  "
   ]
  },
  {
   "cell_type": "code",
   "execution_count": 12,
   "id": "9823bceb",
   "metadata": {
    "execution": {
     "iopub.execute_input": "2023-08-13T15:45:04.017709Z",
     "iopub.status.busy": "2023-08-13T15:45:04.017241Z",
     "iopub.status.idle": "2023-08-13T15:45:04.025630Z",
     "shell.execute_reply": "2023-08-13T15:45:04.024582Z"
    },
    "papermill": {
     "duration": 0.083592,
     "end_time": "2023-08-13T15:45:04.027754",
     "exception": false,
     "start_time": "2023-08-13T15:45:03.944162",
     "status": "completed"
    },
    "tags": []
   },
   "outputs": [
    {
     "data": {
      "text/plain": [
       "((162758,), (162758,))"
      ]
     },
     "execution_count": 12,
     "metadata": {},
     "output_type": "execute_result"
    }
   ],
   "source": [
    "train_features = traindf[\"reviewText\"]\n",
    "train_labels = traindf.iloc[:, -1]\n",
    "train_features.shape, train_labels.shape"
   ]
  },
  {
   "cell_type": "markdown",
   "id": "9b3d7585",
   "metadata": {
    "papermill": {
     "duration": 0.070029,
     "end_time": "2023-08-13T15:45:04.168757",
     "exception": false,
     "start_time": "2023-08-13T15:45:04.098728",
     "status": "completed"
    },
    "tags": []
   },
   "source": [
    "### Split traindf into training and testing parts  "
   ]
  },
  {
   "cell_type": "code",
   "execution_count": 13,
   "id": "6f263131",
   "metadata": {
    "execution": {
     "iopub.execute_input": "2023-08-13T15:45:04.312070Z",
     "iopub.status.busy": "2023-08-13T15:45:04.311617Z",
     "iopub.status.idle": "2023-08-13T15:45:04.365745Z",
     "shell.execute_reply": "2023-08-13T15:45:04.364661Z"
    },
    "papermill": {
     "duration": 0.12895,
     "end_time": "2023-08-13T15:45:04.368178",
     "exception": false,
     "start_time": "2023-08-13T15:45:04.239228",
     "status": "completed"
    },
    "tags": []
   },
   "outputs": [
    {
     "data": {
      "text/plain": [
       "((122068,), (40690,), (122068,), (40690,))"
      ]
     },
     "execution_count": 13,
     "metadata": {},
     "output_type": "execute_result"
    }
   ],
   "source": [
    "X_train, X_test, y_train, y_test = train_test_split(train_features, train_labels, test_size=0.25, random_state=42)\n",
    "X_train.shape, X_test.shape, y_train.shape, y_test.shape"
   ]
  },
  {
   "cell_type": "markdown",
   "id": "d76c6045",
   "metadata": {
    "papermill": {
     "duration": 0.069952,
     "end_time": "2023-08-13T15:45:04.508196",
     "exception": false,
     "start_time": "2023-08-13T15:45:04.438244",
     "status": "completed"
    },
    "tags": []
   },
   "source": [
    "## Model evaluation plan and code  "
   ]
  },
  {
   "cell_type": "code",
   "execution_count": 14,
   "id": "09b38516",
   "metadata": {
    "execution": {
     "iopub.execute_input": "2023-08-13T15:45:04.653399Z",
     "iopub.status.busy": "2023-08-13T15:45:04.652966Z",
     "iopub.status.idle": "2023-08-13T15:45:04.657030Z",
     "shell.execute_reply": "2023-08-13T15:45:04.656145Z"
    },
    "papermill": {
     "duration": 0.078351,
     "end_time": "2023-08-13T15:45:04.659238",
     "exception": false,
     "start_time": "2023-08-13T15:45:04.580887",
     "status": "completed"
    },
    "tags": []
   },
   "outputs": [],
   "source": [
    "# from sklearn.metrics import classification_report, confusion_matrix, ConfusionMatrixDisplay\n",
    "# from sklearn.metrics import f1_score"
   ]
  },
  {
   "cell_type": "code",
   "execution_count": 15,
   "id": "d32e01d0",
   "metadata": {
    "execution": {
     "iopub.execute_input": "2023-08-13T15:45:04.805827Z",
     "iopub.status.busy": "2023-08-13T15:45:04.805376Z",
     "iopub.status.idle": "2023-08-13T15:45:04.809572Z",
     "shell.execute_reply": "2023-08-13T15:45:04.808504Z"
    },
    "papermill": {
     "duration": 0.079769,
     "end_time": "2023-08-13T15:45:04.811890",
     "exception": false,
     "start_time": "2023-08-13T15:45:04.732121",
     "status": "completed"
    },
    "tags": []
   },
   "outputs": [],
   "source": [
    "# def evaluate(y_test, y_pred):\n",
    "#     print(classification_report(y_test, y_pred))\n",
    "#     print(confusion_matrix(y_test, y_pred))\n",
    "#     # print(f1_score(y_test, y_pred))\n",
    "#     ConfusionMatrixDisplay(y_test, y_pred)\n",
    "#     return"
   ]
  },
  {
   "cell_type": "markdown",
   "id": "0fe15f15",
   "metadata": {
    "papermill": {
     "duration": 0.069539,
     "end_time": "2023-08-13T15:45:04.951822",
     "exception": false,
     "start_time": "2023-08-13T15:45:04.882283",
     "status": "completed"
    },
    "tags": []
   },
   "source": [
    "### Data preprocessing  "
   ]
  },
  {
   "cell_type": "markdown",
   "id": "9b6e04e6",
   "metadata": {
    "papermill": {
     "duration": 0.07136,
     "end_time": "2023-08-13T15:45:05.095707",
     "exception": false,
     "start_time": "2023-08-13T15:45:05.024347",
     "status": "completed"
    },
    "tags": []
   },
   "source": [
    "`Define stop words`  "
   ]
  },
  {
   "cell_type": "code",
   "execution_count": 16,
   "id": "60d71109",
   "metadata": {
    "execution": {
     "iopub.execute_input": "2023-08-13T15:45:05.241451Z",
     "iopub.status.busy": "2023-08-13T15:45:05.240790Z",
     "iopub.status.idle": "2023-08-13T15:45:05.244483Z",
     "shell.execute_reply": "2023-08-13T15:45:05.243740Z"
    },
    "papermill": {
     "duration": 0.07932,
     "end_time": "2023-08-13T15:45:05.246603",
     "exception": false,
     "start_time": "2023-08-13T15:45:05.167283",
     "status": "completed"
    },
    "tags": []
   },
   "outputs": [],
   "source": [
    "# stop_words = [\"able\", \"about\", \"above\", \"abst\", \"ac\"]     # Deprecated  \n",
    "# type(stop_words), len(stop_words)"
   ]
  },
  {
   "cell_type": "markdown",
   "id": "3da866a5",
   "metadata": {
    "papermill": {
     "duration": 0.071557,
     "end_time": "2023-08-13T15:45:05.390370",
     "exception": false,
     "start_time": "2023-08-13T15:45:05.318813",
     "status": "completed"
    },
    "tags": []
   },
   "source": [
    "## Feature extraction  "
   ]
  },
  {
   "cell_type": "markdown",
   "id": "3bb7e6da",
   "metadata": {
    "papermill": {
     "duration": 0.071373,
     "end_time": "2023-08-13T15:45:05.534139",
     "exception": false,
     "start_time": "2023-08-13T15:45:05.462766",
     "status": "completed"
    },
    "tags": []
   },
   "source": [
    "### Understand CountVectorizer and TfidfVectorizer  "
   ]
  },
  {
   "cell_type": "code",
   "execution_count": 17,
   "id": "2c3a4ebf",
   "metadata": {
    "execution": {
     "iopub.execute_input": "2023-08-13T15:45:05.678188Z",
     "iopub.status.busy": "2023-08-13T15:45:05.677512Z",
     "iopub.status.idle": "2023-08-13T15:45:05.681162Z",
     "shell.execute_reply": "2023-08-13T15:45:05.680386Z"
    },
    "papermill": {
     "duration": 0.078225,
     "end_time": "2023-08-13T15:45:05.683138",
     "exception": false,
     "start_time": "2023-08-13T15:45:05.604913",
     "status": "completed"
    },
    "tags": []
   },
   "outputs": [],
   "source": [
    "# text = X_train.copy()\n",
    "# text.head()"
   ]
  },
  {
   "cell_type": "code",
   "execution_count": 18,
   "id": "f05fb393",
   "metadata": {
    "execution": {
     "iopub.execute_input": "2023-08-13T15:45:05.827724Z",
     "iopub.status.busy": "2023-08-13T15:45:05.827051Z",
     "iopub.status.idle": "2023-08-13T15:45:05.830760Z",
     "shell.execute_reply": "2023-08-13T15:45:05.830047Z"
    },
    "papermill": {
     "duration": 0.078075,
     "end_time": "2023-08-13T15:45:05.832854",
     "exception": false,
     "start_time": "2023-08-13T15:45:05.754779",
     "status": "completed"
    },
    "tags": []
   },
   "outputs": [],
   "source": [
    "# vectorizer = TfidfVectorizer(stop_words=stop_words)\n",
    "# vectorized_text = vectorizer.fit_transform(text[\"reviewText\"])\n",
    "# vectorized_text"
   ]
  },
  {
   "cell_type": "markdown",
   "id": "5e58bb44",
   "metadata": {
    "papermill": {
     "duration": 0.069936,
     "end_time": "2023-08-13T15:45:05.973869",
     "exception": false,
     "start_time": "2023-08-13T15:45:05.903933",
     "status": "completed"
    },
    "tags": []
   },
   "source": [
    "`Without stop words`  \n",
    "<122068x58624 sparse matrix of type '<class 'numpy.float64'>'\n",
    "\twith 2312222 stored elements in Compressed Sparse Row format>\n",
    "\n",
    "`With stop words`  \n",
    "<122068x57784 sparse matrix of type '<class 'numpy.float64'>'\n",
    "\twith 1188395 stored elements in Compressed Sparse Row format>   "
   ]
  },
  {
   "cell_type": "code",
   "execution_count": 19,
   "id": "a9236d47",
   "metadata": {
    "execution": {
     "iopub.execute_input": "2023-08-13T15:45:06.117744Z",
     "iopub.status.busy": "2023-08-13T15:45:06.117118Z",
     "iopub.status.idle": "2023-08-13T15:45:06.120607Z",
     "shell.execute_reply": "2023-08-13T15:45:06.119934Z"
    },
    "papermill": {
     "duration": 0.077056,
     "end_time": "2023-08-13T15:45:06.122522",
     "exception": false,
     "start_time": "2023-08-13T15:45:06.045466",
     "status": "completed"
    },
    "tags": []
   },
   "outputs": [],
   "source": [
    "# vectorizer2 = CountVectorizer(stop_words=stop_words)\n",
    "# vectorized_text2 = vectorizer2.fit_transform(text[\"reviewText\"])\n",
    "# vectorized_text2"
   ]
  },
  {
   "cell_type": "markdown",
   "id": "2a32ae41",
   "metadata": {
    "papermill": {
     "duration": 0.070726,
     "end_time": "2023-08-13T15:45:06.265267",
     "exception": false,
     "start_time": "2023-08-13T15:45:06.194541",
     "status": "completed"
    },
    "tags": []
   },
   "source": [
    "`Without stop words`  \n",
    "<122068x58624 sparse matrix of type '<class 'numpy.int64'>'\n",
    "\twith 2312222 stored elements in Compressed Sparse Row format>\n",
    "\n",
    "`With stop words`  \n",
    "<122068x57784 sparse matrix of type '<class 'numpy.int64'>'\n",
    "\twith 1188395 stored elements in Compressed Sparse Row format>"
   ]
  },
  {
   "cell_type": "markdown",
   "id": "fc661fda",
   "metadata": {
    "papermill": {
     "duration": 0.075573,
     "end_time": "2023-08-13T15:45:06.413663",
     "exception": false,
     "start_time": "2023-08-13T15:45:06.338090",
     "status": "completed"
    },
    "tags": []
   },
   "source": [
    "### Conclusion   \n",
    "`TfidfVectorizer is equivalent to CountVectorizer followed by TfidfTransformer.`  \n",
    "\n",
    "https://scikit-learn.org/stable/modules/generated/sklearn.feature_extraction.text.TfidfVectorizer.html"
   ]
  },
  {
   "cell_type": "markdown",
   "id": "9e2e4660",
   "metadata": {
    "papermill": {
     "duration": 0.069491,
     "end_time": "2023-08-13T15:45:06.554379",
     "exception": false,
     "start_time": "2023-08-13T15:45:06.484888",
     "status": "completed"
    },
    "tags": []
   },
   "source": [
    "## Model building workflow  \n",
    "\n",
    "`Make pipeline for preprocesing and model training and predictions`  \n"
   ]
  },
  {
   "cell_type": "code",
   "execution_count": 20,
   "id": "6a267f41",
   "metadata": {
    "execution": {
     "iopub.execute_input": "2023-08-13T15:45:06.696958Z",
     "iopub.status.busy": "2023-08-13T15:45:06.696188Z",
     "iopub.status.idle": "2023-08-13T15:45:06.700792Z",
     "shell.execute_reply": "2023-08-13T15:45:06.700048Z"
    },
    "papermill": {
     "duration": 0.078417,
     "end_time": "2023-08-13T15:45:06.702776",
     "exception": false,
     "start_time": "2023-08-13T15:45:06.624359",
     "status": "completed"
    },
    "tags": []
   },
   "outputs": [],
   "source": [
    "# def preprocess_n_train(X_train, y_train, preprocessor, model):\n",
    "#     pipe = Pipeline(steps=[\n",
    "#                             (\"preprocessor\", preprocessor),\n",
    "#                             (\"model\", model)\n",
    "#                         ])\n",
    "    \n",
    "#     pipe.fit(X_train, y_train)\n",
    "\n",
    "#     print(\"Given model has been trained. Use predict method to get predictions array.\")\n",
    "#     return pipe\n",
    "\n",
    "\n",
    "# def predict_n_evaluate(pipeline, X_test, y_test):\n",
    "#     y_pred = pipeline.predict(X_test)\n",
    "#     print(f\"y_pred shape: {y_pred.shape}\")\n",
    "#     print(f\"Summary of predictions: {np.unique(y_pred, return_counts=True)}\")\n",
    "#     print(classification_report(y_test, y_pred))\n",
    "#     print(confusion_matrix(y_test, y_pred))\n",
    "#     return y_pred"
   ]
  },
  {
   "cell_type": "markdown",
   "id": "3fcdb329",
   "metadata": {
    "papermill": {
     "duration": 0.069892,
     "end_time": "2023-08-13T15:45:06.846606",
     "exception": false,
     "start_time": "2023-08-13T15:45:06.776714",
     "status": "completed"
    },
    "tags": []
   },
   "source": [
    "## Building 3 basic models  "
   ]
  },
  {
   "cell_type": "markdown",
   "id": "5f7fe2be",
   "metadata": {
    "papermill": {
     "duration": 0.071171,
     "end_time": "2023-08-13T15:45:06.988313",
     "exception": false,
     "start_time": "2023-08-13T15:45:06.917142",
     "status": "completed"
    },
    "tags": []
   },
   "source": [
    "### Text preprocessors  "
   ]
  },
  {
   "cell_type": "code",
   "execution_count": 21,
   "id": "f93a6306",
   "metadata": {
    "execution": {
     "iopub.execute_input": "2023-08-13T15:45:07.134049Z",
     "iopub.status.busy": "2023-08-13T15:45:07.133184Z",
     "iopub.status.idle": "2023-08-13T15:45:07.137496Z",
     "shell.execute_reply": "2023-08-13T15:45:07.136600Z"
    },
    "papermill": {
     "duration": 0.079734,
     "end_time": "2023-08-13T15:45:07.139832",
     "exception": false,
     "start_time": "2023-08-13T15:45:07.060098",
     "status": "completed"
    },
    "tags": []
   },
   "outputs": [],
   "source": [
    "# tvec = TfidfVectorizer()\n",
    "# cvec = CountVectorizer()        # Note that TfidfVectorizer and CountVectorizer+TfidsTransformer do the same function\n",
    "# tvec, cvec"
   ]
  },
  {
   "cell_type": "markdown",
   "id": "8adbacc3",
   "metadata": {
    "papermill": {
     "duration": 0.071024,
     "end_time": "2023-08-13T15:45:07.282398",
     "exception": false,
     "start_time": "2023-08-13T15:45:07.211374",
     "status": "completed"
    },
    "tags": []
   },
   "source": [
    "### Logistic Regression with TfidVectorizer for preprocessing  "
   ]
  },
  {
   "cell_type": "code",
   "execution_count": 22,
   "id": "10e900eb",
   "metadata": {
    "execution": {
     "iopub.execute_input": "2023-08-13T15:45:07.430273Z",
     "iopub.status.busy": "2023-08-13T15:45:07.429441Z",
     "iopub.status.idle": "2023-08-13T15:45:07.434414Z",
     "shell.execute_reply": "2023-08-13T15:45:07.433526Z"
    },
    "papermill": {
     "duration": 0.081305,
     "end_time": "2023-08-13T15:45:07.436763",
     "exception": false,
     "start_time": "2023-08-13T15:45:07.355458",
     "status": "completed"
    },
    "tags": []
   },
   "outputs": [],
   "source": [
    "# logreg = LogisticRegression(max_iter=1000)\n",
    "# logreg_pipe = preprocess_n_train(X_train, y_train, tvec, logreg)\n",
    "# y_pred_logreg = predict_n_evaluate(logreg_pipe, X_test, y_test)\n",
    "# y_pred_logreg"
   ]
  },
  {
   "cell_type": "markdown",
   "id": "30596321",
   "metadata": {
    "papermill": {
     "duration": 0.070665,
     "end_time": "2023-08-13T15:45:07.578358",
     "exception": false,
     "start_time": "2023-08-13T15:45:07.507693",
     "status": "completed"
    },
    "tags": []
   },
   "source": [
    "### SVM model  "
   ]
  },
  {
   "cell_type": "code",
   "execution_count": 23,
   "id": "9ffd8cc1",
   "metadata": {
    "execution": {
     "iopub.execute_input": "2023-08-13T15:45:07.723131Z",
     "iopub.status.busy": "2023-08-13T15:45:07.722365Z",
     "iopub.status.idle": "2023-08-13T15:45:07.726939Z",
     "shell.execute_reply": "2023-08-13T15:45:07.726146Z"
    },
    "papermill": {
     "duration": 0.07941,
     "end_time": "2023-08-13T15:45:07.728874",
     "exception": false,
     "start_time": "2023-08-13T15:45:07.649464",
     "status": "completed"
    },
    "tags": []
   },
   "outputs": [],
   "source": [
    "# svm = LinearSVC()\n",
    "# svm_pipe = preprocess_n_train(X_train, y_train, tvec, svm)\n",
    "# y_pred_svm = predict_n_evaluate(svm_pipe, X_test, y_test)\n",
    "# y_pred_svm"
   ]
  },
  {
   "cell_type": "markdown",
   "id": "c1c1a822",
   "metadata": {
    "papermill": {
     "duration": 0.071643,
     "end_time": "2023-08-13T15:45:07.871416",
     "exception": false,
     "start_time": "2023-08-13T15:45:07.799773",
     "status": "completed"
    },
    "tags": []
   },
   "source": [
    "### Naive Bayes model  "
   ]
  },
  {
   "cell_type": "markdown",
   "id": "4e94ac39",
   "metadata": {
    "papermill": {
     "duration": 0.071685,
     "end_time": "2023-08-13T15:45:08.014312",
     "exception": false,
     "start_time": "2023-08-13T15:45:07.942627",
     "status": "completed"
    },
    "tags": []
   },
   "source": [
    "#### MultinomialNB  "
   ]
  },
  {
   "cell_type": "code",
   "execution_count": 24,
   "id": "d5b07462",
   "metadata": {
    "execution": {
     "iopub.execute_input": "2023-08-13T15:45:08.158797Z",
     "iopub.status.busy": "2023-08-13T15:45:08.158395Z",
     "iopub.status.idle": "2023-08-13T15:45:08.162831Z",
     "shell.execute_reply": "2023-08-13T15:45:08.161620Z"
    },
    "papermill": {
     "duration": 0.079991,
     "end_time": "2023-08-13T15:45:08.165210",
     "exception": false,
     "start_time": "2023-08-13T15:45:08.085219",
     "status": "completed"
    },
    "tags": []
   },
   "outputs": [],
   "source": [
    "# mnb = MultinomialNB()\n",
    "# mnb_pipe = preprocess_n_train(X_train, y_train, tvec, mnb)\n",
    "# y_pred_mnb = predict_n_evaluate(mnb_pipe, X_test, y_test)\n",
    "# y_pred_mnb"
   ]
  },
  {
   "cell_type": "markdown",
   "id": "71b0b092",
   "metadata": {
    "papermill": {
     "duration": 0.155007,
     "end_time": "2023-08-13T15:45:08.390776",
     "exception": false,
     "start_time": "2023-08-13T15:45:08.235769",
     "status": "completed"
    },
    "tags": []
   },
   "source": [
    "## Submitting predictions to Kaggle competition  "
   ]
  },
  {
   "cell_type": "code",
   "execution_count": 25,
   "id": "92d16b88",
   "metadata": {
    "execution": {
     "iopub.execute_input": "2023-08-13T15:45:08.533080Z",
     "iopub.status.busy": "2023-08-13T15:45:08.532638Z",
     "iopub.status.idle": "2023-08-13T15:45:08.537777Z",
     "shell.execute_reply": "2023-08-13T15:45:08.536844Z"
    },
    "papermill": {
     "duration": 0.078506,
     "end_time": "2023-08-13T15:45:08.539875",
     "exception": false,
     "start_time": "2023-08-13T15:45:08.461369",
     "status": "completed"
    },
    "tags": []
   },
   "outputs": [],
   "source": [
    "# def submit(selected_model=logreg, selected_preprocessor=tvec):\n",
    "    \n",
    "#     # Retrain on the whole train.csv file  \n",
    "#     traindf = pd.read_csv(\"/kaggle/input/sentiment-prediction-on-movie-reviews/train.csv\")\n",
    "#     X_train = traindf[\"reviewText\"]\n",
    "#     X_train.fillna(\"empty\", inplace=True)\n",
    "#     y_train = traindf[\"sentiment\"]\n",
    "#     pipe = preprocess_n_train(X_train, y_train, selected_preprocessor, selected_model)\n",
    "    \n",
    "#     # Predict on test.csv file\n",
    "#     testdf = pd.read_csv(\"/kaggle/input/sentiment-prediction-on-movie-reviews/test.csv\")\n",
    "#     X_test = testdf[\"reviewText\"]\n",
    "#     X_test.fillna(\"empty\", inplace=True)\n",
    "    \n",
    "#     y_pred = pipe.predict(X_test)\n",
    "    \n",
    "#     pred_df = pd.DataFrame(y_pred)\n",
    "#     pred_df.columns = [\"sentiment\"]\n",
    "#     pred_df.index.name = \"id\"\n",
    "#     pred_df.to_csv(\"submission.csv\")\n",
    "    \n",
    "#     return \"Successfully created the submission file!!!\""
   ]
  },
  {
   "cell_type": "code",
   "execution_count": 26,
   "id": "a541f05a",
   "metadata": {
    "execution": {
     "iopub.execute_input": "2023-08-13T15:45:08.683437Z",
     "iopub.status.busy": "2023-08-13T15:45:08.682219Z",
     "iopub.status.idle": "2023-08-13T15:45:08.687408Z",
     "shell.execute_reply": "2023-08-13T15:45:08.686635Z"
    },
    "papermill": {
     "duration": 0.079188,
     "end_time": "2023-08-13T15:45:08.689431",
     "exception": false,
     "start_time": "2023-08-13T15:45:08.610243",
     "status": "completed"
    },
    "tags": []
   },
   "outputs": [],
   "source": [
    "# submit(logreg_cv1, tvec_cv1)"
   ]
  },
  {
   "cell_type": "markdown",
   "id": "edb84c8d",
   "metadata": {
    "papermill": {
     "duration": 0.070219,
     "end_time": "2023-08-13T15:45:08.832113",
     "exception": false,
     "start_time": "2023-08-13T15:45:08.761894",
     "status": "completed"
    },
    "tags": []
   },
   "source": [
    "# PART II  "
   ]
  },
  {
   "cell_type": "markdown",
   "id": "55c1fc64",
   "metadata": {
    "papermill": {
     "duration": 0.069717,
     "end_time": "2023-08-13T15:45:08.972638",
     "exception": false,
     "start_time": "2023-08-13T15:45:08.902921",
     "status": "completed"
    },
    "tags": []
   },
   "source": [
    "## Merge \"movies.csv\" with \"train.csv\" and \"test.csv\"  "
   ]
  },
  {
   "cell_type": "markdown",
   "id": "4a874a1f",
   "metadata": {
    "papermill": {
     "duration": 0.070753,
     "end_time": "2023-08-13T15:45:09.114374",
     "exception": false,
     "start_time": "2023-08-13T15:45:09.043621",
     "status": "completed"
    },
    "tags": []
   },
   "source": [
    "### Helper functions  "
   ]
  },
  {
   "cell_type": "code",
   "execution_count": 27,
   "id": "e6aa0d60",
   "metadata": {
    "execution": {
     "iopub.execute_input": "2023-08-13T15:45:09.257545Z",
     "iopub.status.busy": "2023-08-13T15:45:09.256613Z",
     "iopub.status.idle": "2023-08-13T15:45:09.262159Z",
     "shell.execute_reply": "2023-08-13T15:45:09.261461Z"
    },
    "papermill": {
     "duration": 0.078813,
     "end_time": "2023-08-13T15:45:09.264072",
     "exception": false,
     "start_time": "2023-08-13T15:45:09.185259",
     "status": "completed"
    },
    "tags": []
   },
   "outputs": [],
   "source": [
    "# Helper function for loading files  \n",
    "\n",
    "def load_csv(filename: str):\n",
    "    if platform == \"vscode\":\n",
    "        df = pd.read_csv(f\"data/{filename}.csv\")\n",
    "    else:\n",
    "        df = pd.read_csv(f\"/kaggle/input/sentiment-prediction-on-movie-reviews/{filename}.csv\")\n",
    "        \n",
    "    return df"
   ]
  },
  {
   "cell_type": "code",
   "execution_count": 28,
   "id": "10925d0a",
   "metadata": {
    "execution": {
     "iopub.execute_input": "2023-08-13T15:45:09.407382Z",
     "iopub.status.busy": "2023-08-13T15:45:09.406836Z",
     "iopub.status.idle": "2023-08-13T15:45:09.412795Z",
     "shell.execute_reply": "2023-08-13T15:45:09.411478Z"
    },
    "papermill": {
     "duration": 0.080859,
     "end_time": "2023-08-13T15:45:09.415221",
     "exception": false,
     "start_time": "2023-08-13T15:45:09.334362",
     "status": "completed"
    },
    "tags": []
   },
   "outputs": [],
   "source": [
    "def inspect(df: pd.DataFrame):\n",
    "    print(f\"Shape of the dataframe: {df.shape}\")\n",
    "    print()\n",
    "    print(f\"Columns in the dataframe:\\n{df.columns}\")\n",
    "    print()\n",
    "    print(f\"{df.info()}\")\n",
    "    print()\n",
    "    # print(f\"Summary: {df.describe()}\")\n",
    "    print(f\"Missing values:\\n{df.isna().sum()}\")\n",
    "    return"
   ]
  },
  {
   "cell_type": "code",
   "execution_count": 29,
   "id": "e0861b19",
   "metadata": {
    "execution": {
     "iopub.execute_input": "2023-08-13T15:45:09.559471Z",
     "iopub.status.busy": "2023-08-13T15:45:09.558096Z",
     "iopub.status.idle": "2023-08-13T15:45:09.564102Z",
     "shell.execute_reply": "2023-08-13T15:45:09.563336Z"
    },
    "papermill": {
     "duration": 0.079346,
     "end_time": "2023-08-13T15:45:09.566253",
     "exception": false,
     "start_time": "2023-08-13T15:45:09.486907",
     "status": "completed"
    },
    "tags": []
   },
   "outputs": [],
   "source": [
    "def name_fl(name):\n",
    "    l = name.split()\n",
    "    n = ' '.join((l[0], l[-1]))\n",
    "    return n"
   ]
  },
  {
   "cell_type": "code",
   "execution_count": 30,
   "id": "f3d5813f",
   "metadata": {
    "execution": {
     "iopub.execute_input": "2023-08-13T15:45:09.729867Z",
     "iopub.status.busy": "2023-08-13T15:45:09.729288Z",
     "iopub.status.idle": "2023-08-13T15:45:09.756709Z",
     "shell.execute_reply": "2023-08-13T15:45:09.755478Z"
    },
    "papermill": {
     "duration": 0.119733,
     "end_time": "2023-08-13T15:45:09.760209",
     "exception": false,
     "start_time": "2023-08-13T15:45:09.640476",
     "status": "completed"
    },
    "tags": []
   },
   "outputs": [],
   "source": [
    "def select_features(df: pd.DataFrame, moviesdf: pd.DataFrame, row_thresh_null=None):\n",
    "    '''\n",
    "    This function merges the given dataframes. Note that the first df must be \"train\" or \"test\" and\n",
    "    the second df should be \"movies\".\n",
    "    Note: Sentiment column is present only in \"train.csv\" file and not \"test.csv\" file.\n",
    "    '''\n",
    "    \n",
    "    # Drop duplicates from moviesdf\n",
    "#     movies_unique = moviesdf.drop_duplicates(subset=[\"movieid\"])\n",
    "\n",
    "    # Drop duplicates using groupby - clubs similar rows and fills in missing values better\n",
    "    movies_unique = moviesdf.fillna(value=np.nan).groupby(\"movieid\").first().reset_index()\n",
    "    \n",
    "\n",
    "    # Handle missing values in movies.csv better than just dropping duplicates?\n",
    "#     movies_unique = moviesdf.copy()\n",
    "#     movies_unique[[\"audienceScore\", \"runtimeMinutes\"]] = movies_unique[[\"audienceScore\", \"runtimeMinutes\"]].interpolate(method='linear', axis=0)\n",
    "#     movies_unique = movies_unique.fillna(value=np.nan).groupby(\"movieid\").first().fillna(method='ffill').reset_index()\n",
    "\n",
    "    \n",
    "\n",
    "    # Merge df and movies_unique\n",
    "    df_merged = pd.merge(df, movies_unique, on=\"movieid\", how='left')\n",
    "    \n",
    "    # Rename \"isTopCritic\" column, if it exists, to \"isFrequentReviewer\"\n",
    "    df_merged.rename(columns={\"isTopCritic\": \"isFrequentReviewer\"}, inplace=True)\n",
    "    \n",
    "    # Drop columns\n",
    "#     df_merged = df_merged.drop(columns=[\"title\", \"ratingContents\", \"releaseDateTheaters\", \"releaseDateStreaming\", \"distributor\", \"soundType\"])\n",
    "#     df_merged = df_merged.drop(columns=[\"title\", \"soundType\"])\n",
    "    \n",
    "    # Drop rows (OPTIONAL: Uses kwarg row_thresh_null)\n",
    "    if row_thresh_null != None:\n",
    "        df_merged.dropna(axis=0, thresh=(df_merged.shape[1] - row_thresh_null), inplace=True)\n",
    "        \n",
    "\n",
    "    # Create new columns based on reviewText\n",
    "    final = df_merged.copy()\n",
    "    final[\"reviewYN\"] = np.where(final[\"reviewText\"].isnull(), 1, 0)    # Feature engineering - adding a new column\n",
    "    final[\"reviewWC\"] = final.apply(lambda x: len(str(x[\"reviewText\"]).split()), axis=1)    # Feature engineering - adding second new column\n",
    "    \n",
    "    # Clean text (replace numbers with empty string) and fill missing values in \"reviewText\" with empty string\n",
    "    final[\"reviewText\"] = final[\"reviewText\"].str.replace('\\d+', '', regex=True)\n",
    "    final[\"reviewText\"] = final[\"reviewText\"].fillna(\"neutral\")\n",
    "    \n",
    "    # Fill missing values in \"rating\", \"genre\", original columns with the word \"unknown\"\n",
    "    final[\"rating\"] = final[\"rating\"].fillna(\"unknown\")\n",
    "    final[\"originalLanguage\"] = final[\"originalLanguage\"].fillna(\"unknown\")\n",
    "    final[\"genre\"] = final[\"genre\"].fillna(\"unknown\")\n",
    "    final[\"genre\"] = final[\"genre\"].apply(lambda x: re.sub(r\"-\", \"\", x))\n",
    "    final[\"genreSorted\"] = final[\"genre\"].apply(lambda x: (\",\").join(sorted(x.split(\", \"))))\n",
    "#     final[\"genre\"] = final[\"genre\"].replace(to_replace={\"&\": \"\"})\n",
    "\n",
    "    # Impute missing values for \"audienceScore\" and \"runtimeMinutes\" columns\n",
    "#     final[\"audienceScore\"] = final[\"audienceScore\"].fillna(final[\"audienceScore\"].mean())        # MOVED\n",
    "#     final[\"runtimeMinutes\"] = final[\"runtimeMinutes\"].fillna(final[\"runtimeMinutes\"].median())   # MOVED\n",
    "    \n",
    "    # Preprocess and impute missing values in \"boxOffice\" column\n",
    "    final[\"boxOffice\"] = final[\"boxOffice\"].str[1:]\n",
    "    final[\"boxOffice\"] = final[\"boxOffice\"].replace(to_replace={\"M\": \"*1000000\", \"K\": \"*1000\"}, regex=True)\n",
    "    final[\"boxOffice\"] = final[\"boxOffice\"].loc[final[\"boxOffice\"].notnull()].apply(lambda x: eval(str(x)))\n",
    "#     final[\"boxOffice\"] = final[\"boxOffice\"].fillna(final[\"boxOffice\"].median())                  # MOVED\n",
    "    # (Optional) Replace outliers in boxOffice with median\n",
    "#     median = final[\"boxOffice\"].describe()['50%']\n",
    "#     iqr = final[\"boxOffice\"].describe()['75%'] - final[\"boxOffice\"].describe()['25%']\n",
    "#     ll = median - (1.5*iqr)\n",
    "#     ul = median + (1.5*iqr)\n",
    "#     final.loc[final[\"boxOffice\"] > ul, \"boxOffice\"] = median\n",
    "    \n",
    "    # Clean language names\n",
    "    final[\"originalLanguage\"].replace({\"English (United Kingdom)\": \"English\", \n",
    "                                            \"English (Australia)\" : \"English\",\n",
    "                                            \"French (France)\": \"French\", \n",
    "                                            \"French (Canada)\": \"French\",\n",
    "                                            \"Portuguese (Brazil)\": \"Portuguese\",\n",
    "                                            \"Spanish (Spain)\": \"Spanish\"},                                         \n",
    "                                            inplace=True)\n",
    "    \n",
    "    # Clean reviewerName column\n",
    "    pre_post_fixes = {\"Mr. \": \"\", \"Mrs. \": \"\", \"Ms. \": \"\", \"Dr. \": \"\", \n",
    "                      \" MD\": \"\", \" DDS\": \"\", \" DVM\": \"\", \" Jr.\": \"\", \" PhD\": \"\", \" II\": \"\", \" IV\": \"\"}\n",
    "    final[\"reviewerName\"] = final[\"reviewerName\"].replace(pre_post_fixes, regex=True)\n",
    "    final[\"reviewerName\"] = final[\"reviewerName\"].apply(name_fl)\n",
    "    \n",
    "    # Handle 'ratingContents' column\n",
    "    final[\"ratingContents\"] = final[\"ratingContents\"].fillna(\"neutral\")\n",
    "    final[\"rcSorted\"] = final[\"ratingContents\"].apply(lambda x: (\",\").join(sorted(x.strip(\"][\").split(\", \"))))\n",
    "    final[\"rcSorted\"] = final[\"rcSorted\"].apply(lambda x: re.sub(r\"'\", \"\", x))\n",
    "    final[\"rcSorted\"] = final[\"rcSorted\"].apply(lambda x: re.sub(r\"[/\\s]\", \"_\", x))  \n",
    "    \n",
    "    # Handle 'ratingContents' column\n",
    "    final[\"distributor\"] = final[\"distributor\"].fillna(\"unknown\")\n",
    "    \n",
    "    # Work with 'releaseDateTheaters', releaseDateStreaming column\n",
    "    final[[\"releaseDateTheaters\", \"releaseDateStreaming\"]] = final[[\"releaseDateTheaters\", \"releaseDateStreaming\"]].astype('datetime64[ns]')\n",
    "\n",
    "    final[\"releaseDate\"] = final[[\"releaseDateTheaters\", \"releaseDateStreaming\"]].min(axis=1, skipna=False)\n",
    "#     final[\"releaseDate\"] = final[\"releaseDate\"].fillna(final[\"releaseDate\"].median())               # MOVED\n",
    "\n",
    "    final[\"releaseYear\"] = final[\"releaseDate\"].dt.year\n",
    "    final[\"releaseMonth\"] = final[\"releaseDate\"].dt.month\n",
    "    \n",
    "    # Compute \"releaseDiff\" column and fill missing values in \"releaseDiff\" and (optional) replace outliers\n",
    "    final[\"releaseDiff\"] = (final[\"releaseDateStreaming\"] - final[\"releaseDateTheaters\"]) / np.timedelta64(1, 'D')\n",
    "    final[\"releaseDiff\"] = final[\"releaseDiff\"].apply(lambda x: abs(x))\n",
    "    final[\"releaseDiff\"] = final[\"releaseDiff\"].fillna(value=0)\n",
    "#     final[\"releaseDiff\"] = final[\"releaseDiff\"].fillna(final[\"releaseDiff\"].median())\n",
    "    # median = final[\"releaseDiff\"].describe()['50%']\n",
    "    # iqr = final[\"releaseDiff\"].describe()['75%'] - final[\"releaseDiff\"].describe()['25%']\n",
    "    # ll = median - (1.5*iqr)\n",
    "    # ul = median + (1.5*iqr)\n",
    "    # final.loc[final[\"releaseDiff\"] > ul, \"releaseDiff\"] = median\n",
    "    # final.loc[final[\"releaseDiff\"] < ll, \"releaseDiff\"] = median\n",
    "    \n",
    "#     # Create new feature columns\n",
    "    \n",
    "#     # Convert audienceScore to categories  \n",
    "#     num_bins_as = 20\n",
    "#     final[\"audScoreBins\"] = pd.cut(final['audienceScore'], bins=num_bins_as, labels=False)\n",
    "    \n",
    "#     # Convert runtimeMinutes to categories  \n",
    "# #     num_bins_rt = 20\n",
    "#     final[\"runtimeBins\"] = pd.cut(final['runtimeMinutes'], bins=[0,75,120,180,565], labels=[4,3,2,1])\n",
    "    \n",
    "#     # Convert boxOffice to categories  \n",
    "#     num_bins_bo = 5\n",
    "#     final[\"boxOfficeBins\"] = pd.cut(final['boxOffice'], bins=num_bins_bo, labels=False)\n",
    "    \n",
    "#     # Convert releaseDiff to categories  \n",
    "#     num_bins_rd = 5\n",
    "#     final[\"releaseDiffBins\"] = pd.cut(final['releaseDiff'], bins=[-1, 180, 360, 1000, 40000], labels=[0, 1, 2, 3])\n",
    "\n",
    "    return final"
   ]
  },
  {
   "cell_type": "code",
   "execution_count": 31,
   "id": "b896236e",
   "metadata": {
    "execution": {
     "iopub.execute_input": "2023-08-13T15:45:09.911663Z",
     "iopub.status.busy": "2023-08-13T15:45:09.910399Z",
     "iopub.status.idle": "2023-08-13T15:45:09.917586Z",
     "shell.execute_reply": "2023-08-13T15:45:09.916399Z"
    },
    "papermill": {
     "duration": 0.084571,
     "end_time": "2023-08-13T15:45:09.919935",
     "exception": false,
     "start_time": "2023-08-13T15:45:09.835364",
     "status": "completed"
    },
    "tags": []
   },
   "outputs": [],
   "source": [
    "def split_train_predict(features, labels, pipeline, test_size=0.25, random_state=42):\n",
    "    # cols = features.columns\n",
    "    if len(features.shape) == 1:\n",
    "        features = features.to_numpy().reshape(-1, 1)  # reshape to 2D array\n",
    "    features = pd.DataFrame(features)\n",
    "    X_train, X_test, y_train, y_test = train_test_split(features, labels, test_size=test_size, random_state=random_state)\n",
    "    pipeline.fit(X_train, y_train)\n",
    "    y_pred = pipeline.predict(X_test)\n",
    "    print(classification_report(y_test, y_pred))\n",
    "    print(confusion_matrix(y_test, y_pred))\n",
    "    return pipeline"
   ]
  },
  {
   "cell_type": "markdown",
   "id": "21a8304b",
   "metadata": {
    "papermill": {
     "duration": 0.07299,
     "end_time": "2023-08-13T15:45:10.065196",
     "exception": false,
     "start_time": "2023-08-13T15:45:09.992206",
     "status": "completed"
    },
    "tags": []
   },
   "source": [
    "### Merge \"train.csv\" file with \"movies.csv\" file  "
   ]
  },
  {
   "cell_type": "code",
   "execution_count": 32,
   "id": "340c4963",
   "metadata": {
    "execution": {
     "iopub.execute_input": "2023-08-13T15:45:10.211343Z",
     "iopub.status.busy": "2023-08-13T15:45:10.210112Z",
     "iopub.status.idle": "2023-08-13T15:45:21.144437Z",
     "shell.execute_reply": "2023-08-13T15:45:21.143046Z"
    },
    "papermill": {
     "duration": 11.010925,
     "end_time": "2023-08-13T15:45:21.147362",
     "exception": false,
     "start_time": "2023-08-13T15:45:10.136437",
     "status": "completed"
    },
    "tags": []
   },
   "outputs": [],
   "source": [
    "merged = select_features(load_csv(\"train\"), load_csv(\"movies\"), row_thresh_null=None)"
   ]
  },
  {
   "cell_type": "code",
   "execution_count": 33,
   "id": "559e6af6",
   "metadata": {
    "execution": {
     "iopub.execute_input": "2023-08-13T15:45:21.292981Z",
     "iopub.status.busy": "2023-08-13T15:45:21.292552Z",
     "iopub.status.idle": "2023-08-13T15:45:22.035383Z",
     "shell.execute_reply": "2023-08-13T15:45:22.034077Z"
    },
    "papermill": {
     "duration": 0.819416,
     "end_time": "2023-08-13T15:45:22.037900",
     "exception": false,
     "start_time": "2023-08-13T15:45:21.218484",
     "status": "completed"
    },
    "tags": []
   },
   "outputs": [
    {
     "name": "stdout",
     "output_type": "stream",
     "text": [
      "Shape of the dataframe: (162758, 26)\n",
      "\n",
      "Columns in the dataframe:\n",
      "Index(['movieid', 'reviewerName', 'isFrequentReviewer', 'reviewText',\n",
      "       'sentiment', 'title', 'audienceScore', 'rating', 'ratingContents',\n",
      "       'releaseDateTheaters', 'releaseDateStreaming', 'runtimeMinutes',\n",
      "       'genre', 'originalLanguage', 'director', 'boxOffice', 'distributor',\n",
      "       'soundType', 'reviewYN', 'reviewWC', 'genreSorted', 'rcSorted',\n",
      "       'releaseDate', 'releaseYear', 'releaseMonth', 'releaseDiff'],\n",
      "      dtype='object')\n",
      "\n",
      "<class 'pandas.core.frame.DataFrame'>\n",
      "Int64Index: 162758 entries, 0 to 162757\n",
      "Data columns (total 26 columns):\n",
      " #   Column                Non-Null Count   Dtype         \n",
      "---  ------                --------------   -----         \n",
      " 0   movieid               162758 non-null  object        \n",
      " 1   reviewerName          162758 non-null  object        \n",
      " 2   isFrequentReviewer    162758 non-null  bool          \n",
      " 3   reviewText            162758 non-null  object        \n",
      " 4   sentiment             162758 non-null  object        \n",
      " 5   title                 162758 non-null  object        \n",
      " 6   audienceScore         159922 non-null  float64       \n",
      " 7   rating                162758 non-null  object        \n",
      " 8   ratingContents        162758 non-null  object        \n",
      " 9   releaseDateTheaters   146403 non-null  datetime64[ns]\n",
      " 10  releaseDateStreaming  157353 non-null  datetime64[ns]\n",
      " 11  runtimeMinutes        162016 non-null  float64       \n",
      " 12  genre                 162758 non-null  object        \n",
      " 13  originalLanguage      162758 non-null  object        \n",
      " 14  director              162758 non-null  object        \n",
      " 15  boxOffice             130581 non-null  float64       \n",
      " 16  distributor           162758 non-null  object        \n",
      " 17  soundType             93466 non-null   object        \n",
      " 18  reviewYN              162758 non-null  int64         \n",
      " 19  reviewWC              162758 non-null  int64         \n",
      " 20  genreSorted           162758 non-null  object        \n",
      " 21  rcSorted              162758 non-null  object        \n",
      " 22  releaseDate           143073 non-null  datetime64[ns]\n",
      " 23  releaseYear           143073 non-null  float64       \n",
      " 24  releaseMonth          143073 non-null  float64       \n",
      " 25  releaseDiff           162758 non-null  float64       \n",
      "dtypes: bool(1), datetime64[ns](3), float64(6), int64(2), object(14)\n",
      "memory usage: 32.4+ MB\n",
      "None\n",
      "\n",
      "Missing values:\n",
      "movieid                     0\n",
      "reviewerName                0\n",
      "isFrequentReviewer          0\n",
      "reviewText                  0\n",
      "sentiment                   0\n",
      "title                       0\n",
      "audienceScore            2836\n",
      "rating                      0\n",
      "ratingContents              0\n",
      "releaseDateTheaters     16355\n",
      "releaseDateStreaming     5405\n",
      "runtimeMinutes            742\n",
      "genre                       0\n",
      "originalLanguage            0\n",
      "director                    0\n",
      "boxOffice               32177\n",
      "distributor                 0\n",
      "soundType               69292\n",
      "reviewYN                    0\n",
      "reviewWC                    0\n",
      "genreSorted                 0\n",
      "rcSorted                    0\n",
      "releaseDate             19685\n",
      "releaseYear             19685\n",
      "releaseMonth            19685\n",
      "releaseDiff                 0\n",
      "dtype: int64\n"
     ]
    }
   ],
   "source": [
    "inspect(merged)    # Note missing values in ['audienceScore', 'runtimeMinutes', 'boxOffice'] columns  "
   ]
  },
  {
   "cell_type": "code",
   "execution_count": 34,
   "id": "08d94c3e",
   "metadata": {
    "execution": {
     "iopub.execute_input": "2023-08-13T15:45:22.184150Z",
     "iopub.status.busy": "2023-08-13T15:45:22.183712Z",
     "iopub.status.idle": "2023-08-13T15:45:22.295650Z",
     "shell.execute_reply": "2023-08-13T15:45:22.294306Z"
    },
    "papermill": {
     "duration": 0.189342,
     "end_time": "2023-08-13T15:45:22.298271",
     "exception": false,
     "start_time": "2023-08-13T15:45:22.108929",
     "status": "completed"
    },
    "tags": []
   },
   "outputs": [
    {
     "data": {
      "text/plain": [
       "array([6.80e+01, 1.04e+02, 1.43e+07])"
      ]
     },
     "execution_count": 34,
     "metadata": {},
     "output_type": "execute_result"
    }
   ],
   "source": [
    "# Simple Imputer for ['audienceScore', 'runtimeMinutes', 'boxOffice'] columns\n",
    "si = SimpleImputer(strategy='median')\n",
    "merged[['audienceScore', 'runtimeMinutes', 'boxOffice']] = si.fit_transform(merged[['audienceScore', 'runtimeMinutes', 'boxOffice']])\n",
    "si.statistics_"
   ]
  },
  {
   "cell_type": "code",
   "execution_count": 35,
   "id": "9e1397b3",
   "metadata": {
    "execution": {
     "iopub.execute_input": "2023-08-13T15:45:22.444584Z",
     "iopub.status.busy": "2023-08-13T15:45:22.444128Z",
     "iopub.status.idle": "2023-08-13T15:45:22.463509Z",
     "shell.execute_reply": "2023-08-13T15:45:22.462509Z"
    },
    "papermill": {
     "duration": 0.095967,
     "end_time": "2023-08-13T15:45:22.465901",
     "exception": false,
     "start_time": "2023-08-13T15:45:22.369934",
     "status": "completed"
    },
    "tags": []
   },
   "outputs": [],
   "source": [
    "# Fill 'releaseDate' column with median  \n",
    "merged['releaseDate'] = merged[\"releaseDate\"].fillna(merged[\"releaseDate\"].median())"
   ]
  },
  {
   "cell_type": "code",
   "execution_count": 36,
   "id": "470ba1f2",
   "metadata": {
    "execution": {
     "iopub.execute_input": "2023-08-13T15:45:22.610124Z",
     "iopub.status.busy": "2023-08-13T15:45:22.609209Z",
     "iopub.status.idle": "2023-08-13T15:45:23.351599Z",
     "shell.execute_reply": "2023-08-13T15:45:23.350148Z"
    },
    "papermill": {
     "duration": 0.817086,
     "end_time": "2023-08-13T15:45:23.353849",
     "exception": false,
     "start_time": "2023-08-13T15:45:22.536763",
     "status": "completed"
    },
    "tags": []
   },
   "outputs": [
    {
     "name": "stdout",
     "output_type": "stream",
     "text": [
      "Shape of the dataframe: (162758, 26)\n",
      "\n",
      "Columns in the dataframe:\n",
      "Index(['movieid', 'reviewerName', 'isFrequentReviewer', 'reviewText',\n",
      "       'sentiment', 'title', 'audienceScore', 'rating', 'ratingContents',\n",
      "       'releaseDateTheaters', 'releaseDateStreaming', 'runtimeMinutes',\n",
      "       'genre', 'originalLanguage', 'director', 'boxOffice', 'distributor',\n",
      "       'soundType', 'reviewYN', 'reviewWC', 'genreSorted', 'rcSorted',\n",
      "       'releaseDate', 'releaseYear', 'releaseMonth', 'releaseDiff'],\n",
      "      dtype='object')\n",
      "\n",
      "<class 'pandas.core.frame.DataFrame'>\n",
      "Int64Index: 162758 entries, 0 to 162757\n",
      "Data columns (total 26 columns):\n",
      " #   Column                Non-Null Count   Dtype         \n",
      "---  ------                --------------   -----         \n",
      " 0   movieid               162758 non-null  object        \n",
      " 1   reviewerName          162758 non-null  object        \n",
      " 2   isFrequentReviewer    162758 non-null  bool          \n",
      " 3   reviewText            162758 non-null  object        \n",
      " 4   sentiment             162758 non-null  object        \n",
      " 5   title                 162758 non-null  object        \n",
      " 6   audienceScore         162758 non-null  float64       \n",
      " 7   rating                162758 non-null  object        \n",
      " 8   ratingContents        162758 non-null  object        \n",
      " 9   releaseDateTheaters   146403 non-null  datetime64[ns]\n",
      " 10  releaseDateStreaming  157353 non-null  datetime64[ns]\n",
      " 11  runtimeMinutes        162758 non-null  float64       \n",
      " 12  genre                 162758 non-null  object        \n",
      " 13  originalLanguage      162758 non-null  object        \n",
      " 14  director              162758 non-null  object        \n",
      " 15  boxOffice             162758 non-null  float64       \n",
      " 16  distributor           162758 non-null  object        \n",
      " 17  soundType             93466 non-null   object        \n",
      " 18  reviewYN              162758 non-null  int64         \n",
      " 19  reviewWC              162758 non-null  int64         \n",
      " 20  genreSorted           162758 non-null  object        \n",
      " 21  rcSorted              162758 non-null  object        \n",
      " 22  releaseDate           162758 non-null  datetime64[ns]\n",
      " 23  releaseYear           143073 non-null  float64       \n",
      " 24  releaseMonth          143073 non-null  float64       \n",
      " 25  releaseDiff           162758 non-null  float64       \n",
      "dtypes: bool(1), datetime64[ns](3), float64(6), int64(2), object(14)\n",
      "memory usage: 32.4+ MB\n",
      "None\n",
      "\n",
      "Missing values:\n",
      "movieid                     0\n",
      "reviewerName                0\n",
      "isFrequentReviewer          0\n",
      "reviewText                  0\n",
      "sentiment                   0\n",
      "title                       0\n",
      "audienceScore               0\n",
      "rating                      0\n",
      "ratingContents              0\n",
      "releaseDateTheaters     16355\n",
      "releaseDateStreaming     5405\n",
      "runtimeMinutes              0\n",
      "genre                       0\n",
      "originalLanguage            0\n",
      "director                    0\n",
      "boxOffice                   0\n",
      "distributor                 0\n",
      "soundType               69292\n",
      "reviewYN                    0\n",
      "reviewWC                    0\n",
      "genreSorted                 0\n",
      "rcSorted                    0\n",
      "releaseDate                 0\n",
      "releaseYear             19685\n",
      "releaseMonth            19685\n",
      "releaseDiff                 0\n",
      "dtype: int64\n"
     ]
    }
   ],
   "source": [
    "# Check out 'merged' df after imputation  \n",
    "inspect(merged)"
   ]
  },
  {
   "cell_type": "code",
   "execution_count": 37,
   "id": "c64619f1",
   "metadata": {
    "execution": {
     "iopub.execute_input": "2023-08-13T15:45:23.502523Z",
     "iopub.status.busy": "2023-08-13T15:45:23.501849Z",
     "iopub.status.idle": "2023-08-13T15:45:23.564749Z",
     "shell.execute_reply": "2023-08-13T15:45:23.563629Z"
    },
    "papermill": {
     "duration": 0.13971,
     "end_time": "2023-08-13T15:45:23.567232",
     "exception": false,
     "start_time": "2023-08-13T15:45:23.427522",
     "status": "completed"
    },
    "tags": []
   },
   "outputs": [
    {
     "data": {
      "text/html": [
       "<div>\n",
       "<style scoped>\n",
       "    .dataframe tbody tr th:only-of-type {\n",
       "        vertical-align: middle;\n",
       "    }\n",
       "\n",
       "    .dataframe tbody tr th {\n",
       "        vertical-align: top;\n",
       "    }\n",
       "\n",
       "    .dataframe thead th {\n",
       "        text-align: right;\n",
       "    }\n",
       "</style>\n",
       "<table border=\"1\" class=\"dataframe\">\n",
       "  <thead>\n",
       "    <tr style=\"text-align: right;\">\n",
       "      <th></th>\n",
       "      <th>audienceScore</th>\n",
       "      <th>runtimeMinutes</th>\n",
       "      <th>boxOffice</th>\n",
       "    </tr>\n",
       "  </thead>\n",
       "  <tbody>\n",
       "    <tr>\n",
       "      <th>count</th>\n",
       "      <td>162758.000000</td>\n",
       "      <td>162758.000000</td>\n",
       "      <td>1.627580e+05</td>\n",
       "    </tr>\n",
       "    <tr>\n",
       "      <th>mean</th>\n",
       "      <td>65.062565</td>\n",
       "      <td>106.992019</td>\n",
       "      <td>4.160983e+07</td>\n",
       "    </tr>\n",
       "    <tr>\n",
       "      <th>std</th>\n",
       "      <td>19.844000</td>\n",
       "      <td>22.203778</td>\n",
       "      <td>7.932291e+07</td>\n",
       "    </tr>\n",
       "    <tr>\n",
       "      <th>min</th>\n",
       "      <td>0.000000</td>\n",
       "      <td>4.000000</td>\n",
       "      <td>0.000000e+00</td>\n",
       "    </tr>\n",
       "    <tr>\n",
       "      <th>25%</th>\n",
       "      <td>51.000000</td>\n",
       "      <td>93.000000</td>\n",
       "      <td>2.000000e+06</td>\n",
       "    </tr>\n",
       "    <tr>\n",
       "      <th>50%</th>\n",
       "      <td>68.000000</td>\n",
       "      <td>104.000000</td>\n",
       "      <td>1.430000e+07</td>\n",
       "    </tr>\n",
       "    <tr>\n",
       "      <th>75%</th>\n",
       "      <td>81.000000</td>\n",
       "      <td>118.000000</td>\n",
       "      <td>4.200000e+07</td>\n",
       "    </tr>\n",
       "    <tr>\n",
       "      <th>max</th>\n",
       "      <td>100.000000</td>\n",
       "      <td>561.000000</td>\n",
       "      <td>8.584000e+08</td>\n",
       "    </tr>\n",
       "  </tbody>\n",
       "</table>\n",
       "</div>"
      ],
      "text/plain": [
       "       audienceScore  runtimeMinutes     boxOffice\n",
       "count  162758.000000   162758.000000  1.627580e+05\n",
       "mean       65.062565      106.992019  4.160983e+07\n",
       "std        19.844000       22.203778  7.932291e+07\n",
       "min         0.000000        4.000000  0.000000e+00\n",
       "25%        51.000000       93.000000  2.000000e+06\n",
       "50%        68.000000      104.000000  1.430000e+07\n",
       "75%        81.000000      118.000000  4.200000e+07\n",
       "max       100.000000      561.000000  8.584000e+08"
      ]
     },
     "execution_count": 37,
     "metadata": {},
     "output_type": "execute_result"
    }
   ],
   "source": [
    "merged[['audienceScore', 'runtimeMinutes', 'boxOffice']].describe()"
   ]
  },
  {
   "cell_type": "markdown",
   "id": "0a680b2c",
   "metadata": {
    "papermill": {
     "duration": 0.074341,
     "end_time": "2023-08-13T15:45:23.795327",
     "exception": false,
     "start_time": "2023-08-13T15:45:23.720986",
     "status": "completed"
    },
    "tags": []
   },
   "source": [
    "### EDA audienceScore  "
   ]
  },
  {
   "cell_type": "code",
   "execution_count": 38,
   "id": "8d3077e5",
   "metadata": {
    "execution": {
     "iopub.execute_input": "2023-08-13T15:45:23.943095Z",
     "iopub.status.busy": "2023-08-13T15:45:23.942486Z",
     "iopub.status.idle": "2023-08-13T15:45:24.215253Z",
     "shell.execute_reply": "2023-08-13T15:45:24.214067Z"
    },
    "papermill": {
     "duration": 0.349132,
     "end_time": "2023-08-13T15:45:24.217786",
     "exception": false,
     "start_time": "2023-08-13T15:45:23.868654",
     "status": "completed"
    },
    "tags": []
   },
   "outputs": [
    {
     "data": {
      "text/plain": [
       "<Axes: xlabel='sentiment', ylabel='audienceScore'>"
      ]
     },
     "execution_count": 38,
     "metadata": {},
     "output_type": "execute_result"
    },
    {
     "data": {
      "image/png": "[encoded data removed]",
      "text/plain": [
       "<Figure size 640x480 with 1 Axes>"
      ]
     },
     "metadata": {},
     "output_type": "display_data"
    }
   ],
   "source": [
    "sns.boxplot(y=merged[\"audienceScore\"], x=merged[\"sentiment\"])"
   ]
  },
  {
   "cell_type": "code",
   "execution_count": 39,
   "id": "c67f0c8a",
   "metadata": {
    "execution": {
     "iopub.execute_input": "2023-08-13T15:45:24.365626Z",
     "iopub.status.busy": "2023-08-13T15:45:24.365218Z",
     "iopub.status.idle": "2023-08-13T15:45:24.412048Z",
     "shell.execute_reply": "2023-08-13T15:45:24.410727Z"
    },
    "papermill": {
     "duration": 0.124462,
     "end_time": "2023-08-13T15:45:24.414665",
     "exception": false,
     "start_time": "2023-08-13T15:45:24.290203",
     "status": "completed"
    },
    "tags": []
   },
   "outputs": [
    {
     "data": {
      "text/html": [
       "<div>\n",
       "<style scoped>\n",
       "    .dataframe tbody tr th:only-of-type {\n",
       "        vertical-align: middle;\n",
       "    }\n",
       "\n",
       "    .dataframe tbody tr th {\n",
       "        vertical-align: top;\n",
       "    }\n",
       "\n",
       "    .dataframe thead th {\n",
       "        text-align: right;\n",
       "    }\n",
       "</style>\n",
       "<table border=\"1\" class=\"dataframe\">\n",
       "  <thead>\n",
       "    <tr style=\"text-align: right;\">\n",
       "      <th></th>\n",
       "      <th>count</th>\n",
       "      <th>mean</th>\n",
       "      <th>std</th>\n",
       "      <th>min</th>\n",
       "      <th>25%</th>\n",
       "      <th>50%</th>\n",
       "      <th>75%</th>\n",
       "      <th>max</th>\n",
       "    </tr>\n",
       "    <tr>\n",
       "      <th>sentiment</th>\n",
       "      <th></th>\n",
       "      <th></th>\n",
       "      <th></th>\n",
       "      <th></th>\n",
       "      <th></th>\n",
       "      <th></th>\n",
       "      <th></th>\n",
       "      <th></th>\n",
       "    </tr>\n",
       "  </thead>\n",
       "  <tbody>\n",
       "    <tr>\n",
       "      <th>NEGATIVE</th>\n",
       "      <td>53997.0</td>\n",
       "      <td>56.474786</td>\n",
       "      <td>19.902115</td>\n",
       "      <td>0.0</td>\n",
       "      <td>41.0</td>\n",
       "      <td>57.0</td>\n",
       "      <td>72.0</td>\n",
       "      <td>100.0</td>\n",
       "    </tr>\n",
       "    <tr>\n",
       "      <th>POSITIVE</th>\n",
       "      <td>108761.0</td>\n",
       "      <td>69.326174</td>\n",
       "      <td>18.380626</td>\n",
       "      <td>0.0</td>\n",
       "      <td>58.0</td>\n",
       "      <td>73.0</td>\n",
       "      <td>84.0</td>\n",
       "      <td>100.0</td>\n",
       "    </tr>\n",
       "  </tbody>\n",
       "</table>\n",
       "</div>"
      ],
      "text/plain": [
       "              count       mean        std  min   25%   50%   75%    max\n",
       "sentiment                                                              \n",
       "NEGATIVE    53997.0  56.474786  19.902115  0.0  41.0  57.0  72.0  100.0\n",
       "POSITIVE   108761.0  69.326174  18.380626  0.0  58.0  73.0  84.0  100.0"
      ]
     },
     "execution_count": 39,
     "metadata": {},
     "output_type": "execute_result"
    }
   ],
   "source": [
    "merged.groupby('sentiment')['audienceScore'].describe()"
   ]
  },
  {
   "cell_type": "code",
   "execution_count": 40,
   "id": "750b5ed6",
   "metadata": {
    "execution": {
     "iopub.execute_input": "2023-08-13T15:45:24.565260Z",
     "iopub.status.busy": "2023-08-13T15:45:24.563896Z",
     "iopub.status.idle": "2023-08-13T15:45:24.638109Z",
     "shell.execute_reply": "2023-08-13T15:45:24.636872Z"
    },
    "papermill": {
     "duration": 0.151766,
     "end_time": "2023-08-13T15:45:24.640623",
     "exception": false,
     "start_time": "2023-08-13T15:45:24.488857",
     "status": "completed"
    },
    "tags": []
   },
   "outputs": [
    {
     "data": {
      "text/plain": [
       "(162758, 26)"
      ]
     },
     "execution_count": 40,
     "metadata": {},
     "output_type": "execute_result"
    }
   ],
   "source": [
    "merged.loc[merged['audienceScore'] >= 0].shape"
   ]
  },
  {
   "cell_type": "markdown",
   "id": "894d9a69",
   "metadata": {
    "papermill": {
     "duration": 0.07239,
     "end_time": "2023-08-13T15:45:24.786063",
     "exception": false,
     "start_time": "2023-08-13T15:45:24.713673",
     "status": "completed"
    },
    "tags": []
   },
   "source": [
    "### EDA releaseDiff  "
   ]
  },
  {
   "cell_type": "code",
   "execution_count": 41,
   "id": "8c0e541b",
   "metadata": {
    "execution": {
     "iopub.execute_input": "2023-08-13T15:45:24.938487Z",
     "iopub.status.busy": "2023-08-13T15:45:24.937563Z",
     "iopub.status.idle": "2023-08-13T15:45:24.957857Z",
     "shell.execute_reply": "2023-08-13T15:45:24.956621Z"
    },
    "papermill": {
     "duration": 0.099388,
     "end_time": "2023-08-13T15:45:24.960505",
     "exception": false,
     "start_time": "2023-08-13T15:45:24.861117",
     "status": "completed"
    },
    "tags": []
   },
   "outputs": [
    {
     "data": {
      "text/plain": [
       "count    162758.000000\n",
       "mean       1653.469015\n",
       "std        4581.420922\n",
       "min           0.000000\n",
       "25%          65.000000\n",
       "50%         116.000000\n",
       "75%         375.000000\n",
       "max       38922.000000\n",
       "Name: releaseDiff, dtype: float64"
      ]
     },
     "execution_count": 41,
     "metadata": {},
     "output_type": "execute_result"
    }
   ],
   "source": [
    "# abs values\n",
    "merged[\"releaseDiff\"].describe()"
   ]
  },
  {
   "cell_type": "code",
   "execution_count": 42,
   "id": "039aced2",
   "metadata": {
    "execution": {
     "iopub.execute_input": "2023-08-13T15:45:25.109214Z",
     "iopub.status.busy": "2023-08-13T15:45:25.108693Z",
     "iopub.status.idle": "2023-08-13T15:45:25.113285Z",
     "shell.execute_reply": "2023-08-13T15:45:25.112367Z"
    },
    "papermill": {
     "duration": 0.081401,
     "end_time": "2023-08-13T15:45:25.115330",
     "exception": false,
     "start_time": "2023-08-13T15:45:25.033929",
     "status": "completed"
    },
    "tags": []
   },
   "outputs": [],
   "source": [
    "# merged['releaseDiffBins'].value_counts()"
   ]
  },
  {
   "cell_type": "code",
   "execution_count": 43,
   "id": "485e80a3",
   "metadata": {
    "execution": {
     "iopub.execute_input": "2023-08-13T15:45:25.267384Z",
     "iopub.status.busy": "2023-08-13T15:45:25.266283Z",
     "iopub.status.idle": "2023-08-13T15:45:25.521349Z",
     "shell.execute_reply": "2023-08-13T15:45:25.520051Z"
    },
    "papermill": {
     "duration": 0.332471,
     "end_time": "2023-08-13T15:45:25.524015",
     "exception": false,
     "start_time": "2023-08-13T15:45:25.191544",
     "status": "completed"
    },
    "tags": []
   },
   "outputs": [
    {
     "data": {
      "text/plain": [
       "<Axes: xlabel='sentiment', ylabel='releaseDiff'>"
      ]
     },
     "execution_count": 43,
     "metadata": {},
     "output_type": "execute_result"
    },
    {
     "data": {
      "image/png": "[encoded data removed]",
      "text/plain": [
       "<Figure size 640x480 with 1 Axes>"
      ]
     },
     "metadata": {},
     "output_type": "display_data"
    }
   ],
   "source": [
    "sns.boxplot(x=merged['sentiment'], y=merged['releaseDiff'], showfliers=False)"
   ]
  },
  {
   "cell_type": "code",
   "execution_count": 44,
   "id": "4cf73c94",
   "metadata": {
    "execution": {
     "iopub.execute_input": "2023-08-13T15:45:25.672838Z",
     "iopub.status.busy": "2023-08-13T15:45:25.672077Z",
     "iopub.status.idle": "2023-08-13T15:45:25.676893Z",
     "shell.execute_reply": "2023-08-13T15:45:25.676033Z"
    },
    "papermill": {
     "duration": 0.082007,
     "end_time": "2023-08-13T15:45:25.679204",
     "exception": false,
     "start_time": "2023-08-13T15:45:25.597197",
     "status": "completed"
    },
    "tags": []
   },
   "outputs": [],
   "source": [
    "# sns.displot(merged['releaseDiffBins'])"
   ]
  },
  {
   "cell_type": "code",
   "execution_count": 45,
   "id": "73f2a907",
   "metadata": {
    "execution": {
     "iopub.execute_input": "2023-08-13T15:45:25.829320Z",
     "iopub.status.busy": "2023-08-13T15:45:25.828840Z",
     "iopub.status.idle": "2023-08-13T15:45:25.834454Z",
     "shell.execute_reply": "2023-08-13T15:45:25.833207Z"
    },
    "papermill": {
     "duration": 0.084304,
     "end_time": "2023-08-13T15:45:25.836908",
     "exception": false,
     "start_time": "2023-08-13T15:45:25.752604",
     "status": "completed"
    },
    "tags": []
   },
   "outputs": [],
   "source": [
    "# merged['sentiment'].loc[merged['releaseDiffBins'] > 0].value_counts()"
   ]
  },
  {
   "cell_type": "code",
   "execution_count": 46,
   "id": "a8ba85a4",
   "metadata": {
    "execution": {
     "iopub.execute_input": "2023-08-13T15:45:25.985655Z",
     "iopub.status.busy": "2023-08-13T15:45:25.985225Z",
     "iopub.status.idle": "2023-08-13T15:45:25.989909Z",
     "shell.execute_reply": "2023-08-13T15:45:25.988930Z"
    },
    "papermill": {
     "duration": 0.0815,
     "end_time": "2023-08-13T15:45:25.991948",
     "exception": false,
     "start_time": "2023-08-13T15:45:25.910448",
     "status": "completed"
    },
    "tags": []
   },
   "outputs": [],
   "source": [
    "# merged['releaseDiffBins'].describe()"
   ]
  },
  {
   "cell_type": "markdown",
   "id": "1b7e467c",
   "metadata": {
    "papermill": {
     "duration": 0.076951,
     "end_time": "2023-08-13T15:45:26.144710",
     "exception": false,
     "start_time": "2023-08-13T15:45:26.067759",
     "status": "completed"
    },
    "tags": []
   },
   "source": [
    "### EDA 'distributor'  "
   ]
  },
  {
   "cell_type": "code",
   "execution_count": 47,
   "id": "853a5468",
   "metadata": {
    "execution": {
     "iopub.execute_input": "2023-08-13T15:45:26.297507Z",
     "iopub.status.busy": "2023-08-13T15:45:26.296746Z",
     "iopub.status.idle": "2023-08-13T15:45:26.319527Z",
     "shell.execute_reply": "2023-08-13T15:45:26.318389Z"
    },
    "papermill": {
     "duration": 0.101978,
     "end_time": "2023-08-13T15:45:26.321702",
     "exception": false,
     "start_time": "2023-08-13T15:45:26.219724",
     "status": "completed"
    },
    "tags": []
   },
   "outputs": [
    {
     "data": {
      "text/plain": [
       "unknown                              20489\n",
       "Universal Pictures                    8847\n",
       "Warner Bros. Pictures                 8722\n",
       "Paramount Pictures                    7773\n",
       "20th Century Fox                      7007\n",
       "                                     ...  \n",
       "Almi Pictures                            1\n",
       "Koch Lorber                              1\n",
       "Magic Lamp                               1\n",
       "Fine Line Features, Miramax Films        1\n",
       "American Film Co.                        1\n",
       "Name: distributor, Length: 1796, dtype: int64"
      ]
     },
     "execution_count": 47,
     "metadata": {},
     "output_type": "execute_result"
    }
   ],
   "source": [
    "merged[\"distributor\"].value_counts()"
   ]
  },
  {
   "cell_type": "code",
   "execution_count": 48,
   "id": "970e9b87",
   "metadata": {
    "execution": {
     "iopub.execute_input": "2023-08-13T15:45:26.472170Z",
     "iopub.status.busy": "2023-08-13T15:45:26.471424Z",
     "iopub.status.idle": "2023-08-13T15:45:26.489254Z",
     "shell.execute_reply": "2023-08-13T15:45:26.487989Z"
    },
    "papermill": {
     "duration": 0.095659,
     "end_time": "2023-08-13T15:45:26.491513",
     "exception": false,
     "start_time": "2023-08-13T15:45:26.395854",
     "status": "completed"
    },
    "tags": []
   },
   "outputs": [
    {
     "data": {
      "text/plain": [
       "count    162758.000000\n",
       "mean        106.992019\n",
       "std          22.203778\n",
       "min           4.000000\n",
       "25%          93.000000\n",
       "50%         104.000000\n",
       "75%         118.000000\n",
       "max         561.000000\n",
       "Name: runtimeMinutes, dtype: float64"
      ]
     },
     "execution_count": 48,
     "metadata": {},
     "output_type": "execute_result"
    }
   ],
   "source": [
    "merged[\"runtimeMinutes\"].describe()"
   ]
  },
  {
   "cell_type": "code",
   "execution_count": 49,
   "id": "602fbad6",
   "metadata": {
    "execution": {
     "iopub.execute_input": "2023-08-13T15:45:26.645188Z",
     "iopub.status.busy": "2023-08-13T15:45:26.644017Z",
     "iopub.status.idle": "2023-08-13T15:45:26.928134Z",
     "shell.execute_reply": "2023-08-13T15:45:26.927246Z"
    },
    "papermill": {
     "duration": 0.364271,
     "end_time": "2023-08-13T15:45:26.930546",
     "exception": false,
     "start_time": "2023-08-13T15:45:26.566275",
     "status": "completed"
    },
    "tags": []
   },
   "outputs": [
    {
     "data": {
      "text/plain": [
       "<Axes: xlabel='sentiment', ylabel='runtimeMinutes'>"
      ]
     },
     "execution_count": 49,
     "metadata": {},
     "output_type": "execute_result"
    },
    {
     "data": {
      "image/png": "[encoded data removed]",
      "text/plain": [
       "<Figure size 640x480 with 1 Axes>"
      ]
     },
     "metadata": {},
     "output_type": "display_data"
    }
   ],
   "source": [
    "sns.boxplot(y=merged[\"runtimeMinutes\"], x=merged[\"sentiment\"])"
   ]
  },
  {
   "cell_type": "code",
   "execution_count": 50,
   "id": "bb83fc50",
   "metadata": {
    "execution": {
     "iopub.execute_input": "2023-08-13T15:45:27.094860Z",
     "iopub.status.busy": "2023-08-13T15:45:27.094053Z",
     "iopub.status.idle": "2023-08-13T15:45:27.100625Z",
     "shell.execute_reply": "2023-08-13T15:45:27.099659Z"
    },
    "papermill": {
     "duration": 0.086632,
     "end_time": "2023-08-13T15:45:27.103165",
     "exception": false,
     "start_time": "2023-08-13T15:45:27.016533",
     "status": "completed"
    },
    "tags": []
   },
   "outputs": [],
   "source": [
    "# print(merged[\"boxOfficeBins\"].value_counts())\n",
    "# sns.displot(merged[\"boxOfficeBins\"])"
   ]
  },
  {
   "cell_type": "code",
   "execution_count": 51,
   "id": "d3184790",
   "metadata": {
    "execution": {
     "iopub.execute_input": "2023-08-13T15:45:27.264339Z",
     "iopub.status.busy": "2023-08-13T15:45:27.263367Z",
     "iopub.status.idle": "2023-08-13T15:45:27.273235Z",
     "shell.execute_reply": "2023-08-13T15:45:27.272108Z"
    },
    "papermill": {
     "duration": 0.095388,
     "end_time": "2023-08-13T15:45:27.275823",
     "exception": false,
     "start_time": "2023-08-13T15:45:27.180435",
     "status": "completed"
    },
    "tags": []
   },
   "outputs": [
    {
     "data": {
      "text/plain": [
       "0    Henry Selick’s first movie since ’s Coraline. ...\n",
       "1    With a cast that reads like the Vogue Oscar pa...\n",
       "2    Creed II does not give us anything but another...\n",
       "3    I know what you're thinking, but this is no Li...\n",
       "4    Director Fernando Meirelles tells the story wi...\n",
       "Name: reviewText, dtype: object"
      ]
     },
     "execution_count": 51,
     "metadata": {},
     "output_type": "execute_result"
    }
   ],
   "source": [
    "merged[\"reviewText\"].head()"
   ]
  },
  {
   "cell_type": "code",
   "execution_count": 52,
   "id": "5181331a",
   "metadata": {
    "execution": {
     "iopub.execute_input": "2023-08-13T15:45:27.437779Z",
     "iopub.status.busy": "2023-08-13T15:45:27.437024Z",
     "iopub.status.idle": "2023-08-13T15:45:27.443585Z",
     "shell.execute_reply": "2023-08-13T15:45:27.442817Z"
    },
    "papermill": {
     "duration": 0.091997,
     "end_time": "2023-08-13T15:45:27.445914",
     "exception": false,
     "start_time": "2023-08-13T15:45:27.353917",
     "status": "completed"
    },
    "tags": []
   },
   "outputs": [
    {
     "data": {
      "text/plain": [
       "6447"
      ]
     },
     "execution_count": 52,
     "metadata": {},
     "output_type": "execute_result"
    }
   ],
   "source": [
    "merged[\"reviewYN\"].sum()"
   ]
  },
  {
   "cell_type": "code",
   "execution_count": 53,
   "id": "d064b55c",
   "metadata": {
    "execution": {
     "iopub.execute_input": "2023-08-13T15:45:27.614181Z",
     "iopub.status.busy": "2023-08-13T15:45:27.613160Z",
     "iopub.status.idle": "2023-08-13T15:45:27.622293Z",
     "shell.execute_reply": "2023-08-13T15:45:27.621265Z"
    },
    "papermill": {
     "duration": 0.089975,
     "end_time": "2023-08-13T15:45:27.624617",
     "exception": false,
     "start_time": "2023-08-13T15:45:27.534642",
     "status": "completed"
    },
    "tags": []
   },
   "outputs": [
    {
     "data": {
      "text/plain": [
       "0    11\n",
       "1    24\n",
       "2    22\n",
       "3    34\n",
       "4    20\n",
       "Name: reviewWC, dtype: int64"
      ]
     },
     "execution_count": 53,
     "metadata": {},
     "output_type": "execute_result"
    }
   ],
   "source": [
    "merged[\"reviewWC\"].head()"
   ]
  },
  {
   "cell_type": "code",
   "execution_count": 54,
   "id": "9063daf6",
   "metadata": {
    "execution": {
     "iopub.execute_input": "2023-08-13T15:45:27.783044Z",
     "iopub.status.busy": "2023-08-13T15:45:27.782069Z",
     "iopub.status.idle": "2023-08-13T15:45:27.801154Z",
     "shell.execute_reply": "2023-08-13T15:45:27.800116Z"
    },
    "papermill": {
     "duration": 0.100761,
     "end_time": "2023-08-13T15:45:27.803377",
     "exception": false,
     "start_time": "2023-08-13T15:45:27.702616",
     "status": "completed"
    },
    "tags": []
   },
   "outputs": [
    {
     "data": {
      "text/plain": [
       "count    162758.000000\n",
       "mean         21.013707\n",
       "std          10.216532\n",
       "min           1.000000\n",
       "25%          14.000000\n",
       "50%          21.000000\n",
       "75%          28.000000\n",
       "max          54.000000\n",
       "Name: reviewWC, dtype: float64"
      ]
     },
     "execution_count": 54,
     "metadata": {},
     "output_type": "execute_result"
    }
   ],
   "source": [
    "merged[\"reviewWC\"].describe()"
   ]
  },
  {
   "cell_type": "code",
   "execution_count": 55,
   "id": "116dd564",
   "metadata": {
    "execution": {
     "iopub.execute_input": "2023-08-13T15:45:27.961220Z",
     "iopub.status.busy": "2023-08-13T15:45:27.960352Z",
     "iopub.status.idle": "2023-08-13T15:45:28.483943Z",
     "shell.execute_reply": "2023-08-13T15:45:28.482793Z"
    },
    "papermill": {
     "duration": 0.603312,
     "end_time": "2023-08-13T15:45:28.486286",
     "exception": false,
     "start_time": "2023-08-13T15:45:27.882974",
     "status": "completed"
    },
    "tags": []
   },
   "outputs": [
    {
     "data": {
      "text/plain": [
       "<Axes: xlabel='reviewWC', ylabel='Count'>"
      ]
     },
     "execution_count": 55,
     "metadata": {},
     "output_type": "execute_result"
    },
    {
     "data": {
      "image/png": "[encoded data removed]",
      "text/plain": [
       "<Figure size 640x480 with 1 Axes>"
      ]
     },
     "metadata": {},
     "output_type": "display_data"
    }
   ],
   "source": [
    "sns.histplot(merged[\"reviewWC\"])"
   ]
  },
  {
   "cell_type": "code",
   "execution_count": 56,
   "id": "a4911cd2",
   "metadata": {
    "execution": {
     "iopub.execute_input": "2023-08-13T15:45:28.722492Z",
     "iopub.status.busy": "2023-08-13T15:45:28.721763Z",
     "iopub.status.idle": "2023-08-13T15:45:28.741676Z",
     "shell.execute_reply": "2023-08-13T15:45:28.740357Z"
    },
    "papermill": {
     "duration": 0.18299,
     "end_time": "2023-08-13T15:45:28.744338",
     "exception": false,
     "start_time": "2023-08-13T15:45:28.561348",
     "status": "completed"
    },
    "tags": []
   },
   "outputs": [
    {
     "data": {
      "text/plain": [
       "R          60248\n",
       "unknown    44587\n",
       "PG-13      42697\n",
       "PG         13669\n",
       "TV14         947\n",
       "NC-17        285\n",
       "TVPG         281\n",
       "TVMA          44\n",
       "Name: rating, dtype: int64"
      ]
     },
     "execution_count": 56,
     "metadata": {},
     "output_type": "execute_result"
    }
   ],
   "source": [
    "merged['rating'].value_counts()"
   ]
  },
  {
   "cell_type": "code",
   "execution_count": 57,
   "id": "3c6db9f5",
   "metadata": {
    "execution": {
     "iopub.execute_input": "2023-08-13T15:45:28.901015Z",
     "iopub.status.busy": "2023-08-13T15:45:28.900601Z",
     "iopub.status.idle": "2023-08-13T15:45:28.910361Z",
     "shell.execute_reply": "2023-08-13T15:45:28.909561Z"
    },
    "papermill": {
     "duration": 0.088914,
     "end_time": "2023-08-13T15:45:28.912247",
     "exception": false,
     "start_time": "2023-08-13T15:45:28.823333",
     "status": "completed"
    },
    "tags": []
   },
   "outputs": [
    {
     "data": {
      "text/plain": [
       "False    113189\n",
       "True      49569\n",
       "Name: isFrequentReviewer, dtype: int64"
      ]
     },
     "execution_count": 57,
     "metadata": {},
     "output_type": "execute_result"
    }
   ],
   "source": [
    "merged['isFrequentReviewer'].value_counts()"
   ]
  },
  {
   "cell_type": "code",
   "execution_count": 58,
   "id": "ab4b2d53",
   "metadata": {
    "execution": {
     "iopub.execute_input": "2023-08-13T15:45:29.068846Z",
     "iopub.status.busy": "2023-08-13T15:45:29.067570Z",
     "iopub.status.idle": "2023-08-13T15:45:29.077354Z",
     "shell.execute_reply": "2023-08-13T15:45:29.076074Z"
    },
    "papermill": {
     "duration": 0.091153,
     "end_time": "2023-08-13T15:45:29.079587",
     "exception": false,
     "start_time": "2023-08-13T15:45:28.988434",
     "status": "completed"
    },
    "tags": []
   },
   "outputs": [
    {
     "data": {
      "text/plain": [
       "0      Benjamin Henry\n",
       "1       Felicia Lopez\n",
       "2     Charles Burgess\n",
       "3        Ryan Barrett\n",
       "4    Alexander Glover\n",
       "Name: reviewerName, dtype: object"
      ]
     },
     "execution_count": 58,
     "metadata": {},
     "output_type": "execute_result"
    }
   ],
   "source": [
    "merged[\"reviewerName\"].head()"
   ]
  },
  {
   "cell_type": "code",
   "execution_count": 59,
   "id": "0814dccb",
   "metadata": {
    "execution": {
     "iopub.execute_input": "2023-08-13T15:45:29.235126Z",
     "iopub.status.busy": "2023-08-13T15:45:29.234678Z",
     "iopub.status.idle": "2023-08-13T15:45:29.249533Z",
     "shell.execute_reply": "2023-08-13T15:45:29.248312Z"
    },
    "papermill": {
     "duration": 0.095032,
     "end_time": "2023-08-13T15:45:29.251738",
     "exception": false,
     "start_time": "2023-08-13T15:45:29.156706",
     "status": "completed"
    },
    "tags": []
   },
   "outputs": [
    {
     "data": {
      "text/plain": [
       "14300000.0    32327\n",
       "2000000.0       922\n",
       "1100000.0       891\n",
       "1000000.0       834\n",
       "1200000.0       802\n",
       "              ...  \n",
       "58500.0           1\n",
       "500800.0          1\n",
       "265600.0          1\n",
       "292500.0          1\n",
       "799400.0          1\n",
       "Name: boxOffice, Length: 3819, dtype: int64"
      ]
     },
     "execution_count": 59,
     "metadata": {},
     "output_type": "execute_result"
    }
   ],
   "source": [
    "merged['boxOffice'].value_counts()"
   ]
  },
  {
   "cell_type": "code",
   "execution_count": 60,
   "id": "0da7a07c",
   "metadata": {
    "execution": {
     "iopub.execute_input": "2023-08-13T15:45:29.405520Z",
     "iopub.status.busy": "2023-08-13T15:45:29.405084Z",
     "iopub.status.idle": "2023-08-13T15:45:29.410214Z",
     "shell.execute_reply": "2023-08-13T15:45:29.408941Z"
    },
    "papermill": {
     "duration": 0.084793,
     "end_time": "2023-08-13T15:45:29.412605",
     "exception": false,
     "start_time": "2023-08-13T15:45:29.327812",
     "status": "completed"
    },
    "tags": []
   },
   "outputs": [],
   "source": [
    "# Check correlation between 'boxOffice' and ''sentiment'\n",
    "# bo_df = merged.copy()\n",
    "# print(bo_df[\"boxOffice\"])\n",
    "# bo_df[\"boxOffice\"] = bo_df[\"boxOffice\"].str[1:]\n",
    "# bo_df[\"boxOffice\"] = bo_df[\"boxOffice\"].replace(to_replace={\"M\": \"*1000000\", \"K\": \"*1000\"}, regex=True)\n",
    "# bo_df[\"boxOffice\"] = bo_df[\"boxOffice\"].loc[bo_df[\"boxOffice\"].notnull()].apply(lambda x: eval(str(x)))\n",
    "# bo_df[\"boxOffice\"] = bo_df[\"boxOffice\"].fillna(bo_df[\"boxOffice\"].median())\n",
    "# bo_df[\"boxOffice\"].describe()"
   ]
  },
  {
   "cell_type": "code",
   "execution_count": 61,
   "id": "f1b17961",
   "metadata": {
    "execution": {
     "iopub.execute_input": "2023-08-13T15:45:29.570623Z",
     "iopub.status.busy": "2023-08-13T15:45:29.570204Z",
     "iopub.status.idle": "2023-08-13T15:45:29.575133Z",
     "shell.execute_reply": "2023-08-13T15:45:29.573753Z"
    },
    "papermill": {
     "duration": 0.086573,
     "end_time": "2023-08-13T15:45:29.577240",
     "exception": false,
     "start_time": "2023-08-13T15:45:29.490667",
     "status": "completed"
    },
    "tags": []
   },
   "outputs": [],
   "source": [
    "# median = bo_df[\"boxOffice\"].describe()['50%']\n",
    "# iqr = bo_df[\"boxOffice\"].describe()['75%'] - bo_df[\"boxOffice\"].describe()['25%']\n",
    "# median, iqr"
   ]
  },
  {
   "cell_type": "code",
   "execution_count": 62,
   "id": "dfb867de",
   "metadata": {
    "execution": {
     "iopub.execute_input": "2023-08-13T15:45:29.751704Z",
     "iopub.status.busy": "2023-08-13T15:45:29.751156Z",
     "iopub.status.idle": "2023-08-13T15:45:29.756652Z",
     "shell.execute_reply": "2023-08-13T15:45:29.755322Z"
    },
    "papermill": {
     "duration": 0.103318,
     "end_time": "2023-08-13T15:45:29.759806",
     "exception": false,
     "start_time": "2023-08-13T15:45:29.656488",
     "status": "completed"
    },
    "tags": []
   },
   "outputs": [],
   "source": [
    "# ll = median - (1.5*iqr)\n",
    "# ul = median + (1.5*iqr)\n",
    "# ll, ul"
   ]
  },
  {
   "cell_type": "code",
   "execution_count": 63,
   "id": "b3e19561",
   "metadata": {
    "execution": {
     "iopub.execute_input": "2023-08-13T15:45:29.920853Z",
     "iopub.status.busy": "2023-08-13T15:45:29.920460Z",
     "iopub.status.idle": "2023-08-13T15:45:29.924800Z",
     "shell.execute_reply": "2023-08-13T15:45:29.923764Z"
    },
    "papermill": {
     "duration": 0.08397,
     "end_time": "2023-08-13T15:45:29.927169",
     "exception": false,
     "start_time": "2023-08-13T15:45:29.843199",
     "status": "completed"
    },
    "tags": []
   },
   "outputs": [],
   "source": [
    "# bo_df[\"boxOffice\"].mean()"
   ]
  },
  {
   "cell_type": "code",
   "execution_count": 64,
   "id": "5e31dc98",
   "metadata": {
    "execution": {
     "iopub.execute_input": "2023-08-13T15:45:30.086456Z",
     "iopub.status.busy": "2023-08-13T15:45:30.085992Z",
     "iopub.status.idle": "2023-08-13T15:45:30.090673Z",
     "shell.execute_reply": "2023-08-13T15:45:30.089525Z"
    },
    "papermill": {
     "duration": 0.087284,
     "end_time": "2023-08-13T15:45:30.093059",
     "exception": false,
     "start_time": "2023-08-13T15:45:30.005775",
     "status": "completed"
    },
    "tags": []
   },
   "outputs": [],
   "source": [
    "# bo_df.loc[bo_df[\"boxOffice\"] > ul, \"boxOffice\"] = median\n",
    "# bo_df[\"boxOffice\"].mean()"
   ]
  },
  {
   "cell_type": "code",
   "execution_count": 65,
   "id": "dc67eb92",
   "metadata": {
    "execution": {
     "iopub.execute_input": "2023-08-13T15:45:30.251124Z",
     "iopub.status.busy": "2023-08-13T15:45:30.250638Z",
     "iopub.status.idle": "2023-08-13T15:45:30.255973Z",
     "shell.execute_reply": "2023-08-13T15:45:30.254804Z"
    },
    "papermill": {
     "duration": 0.086517,
     "end_time": "2023-08-13T15:45:30.258540",
     "exception": false,
     "start_time": "2023-08-13T15:45:30.172023",
     "status": "completed"
    },
    "tags": []
   },
   "outputs": [],
   "source": [
    "# bo_df[\"boxOffice\"].min(), bo_df[\"boxOffice\"].max()"
   ]
  },
  {
   "cell_type": "code",
   "execution_count": 66,
   "id": "b6f6c701",
   "metadata": {
    "execution": {
     "iopub.execute_input": "2023-08-13T15:45:30.413916Z",
     "iopub.status.busy": "2023-08-13T15:45:30.413483Z",
     "iopub.status.idle": "2023-08-13T15:45:30.418480Z",
     "shell.execute_reply": "2023-08-13T15:45:30.417384Z"
    },
    "papermill": {
     "duration": 0.085563,
     "end_time": "2023-08-13T15:45:30.420882",
     "exception": false,
     "start_time": "2023-08-13T15:45:30.335319",
     "status": "completed"
    },
    "tags": []
   },
   "outputs": [],
   "source": [
    "# sns.boxplot(x=\"sentiment\", y=\"boxOffice\", data=bo_df, showfliers = False)"
   ]
  },
  {
   "cell_type": "markdown",
   "id": "51937e68",
   "metadata": {
    "papermill": {
     "duration": 0.07618,
     "end_time": "2023-08-13T15:45:30.575110",
     "exception": false,
     "start_time": "2023-08-13T15:45:30.498930",
     "status": "completed"
    },
    "tags": []
   },
   "source": [
    "## EDA  "
   ]
  },
  {
   "cell_type": "markdown",
   "id": "3aba8d5f",
   "metadata": {
    "papermill": {
     "duration": 0.077914,
     "end_time": "2023-08-13T15:45:30.729981",
     "exception": false,
     "start_time": "2023-08-13T15:45:30.652067",
     "status": "completed"
    },
    "tags": []
   },
   "source": [
    "### An interesting finding through exploration  \n",
    "  \n",
    "* OHE and TfidfVectorizer on director column give the same result when ngram_range(2,2) is used (see code below)!"
   ]
  },
  {
   "cell_type": "code",
   "execution_count": 67,
   "id": "9c541a55",
   "metadata": {
    "execution": {
     "iopub.execute_input": "2023-08-13T15:45:30.891407Z",
     "iopub.status.busy": "2023-08-13T15:45:30.890866Z",
     "iopub.status.idle": "2023-08-13T15:45:43.123207Z",
     "shell.execute_reply": "2023-08-13T15:45:43.121851Z"
    },
    "papermill": {
     "duration": 12.316245,
     "end_time": "2023-08-13T15:45:43.125650",
     "exception": false,
     "start_time": "2023-08-13T15:45:30.809405",
     "status": "completed"
    },
    "tags": []
   },
   "outputs": [
    {
     "name": "stdout",
     "output_type": "stream",
     "text": [
      "(162758,)\n",
      "9476\n",
      "(162758, 9476) <class 'numpy.ndarray'>\n",
      "(162758,)\n",
      "(162758, 9476) <class 'numpy.ndarray'>\n",
      "True\n"
     ]
    }
   ],
   "source": [
    "# Compare OHE and TfidfVectorizer on director column\n",
    "\n",
    "dirs = merged[\"director\"].copy()\n",
    "print(dirs.shape)\n",
    "dirs_uniq = merged[\"director\"].unique()\n",
    "print(len(dirs_uniq))\n",
    "\n",
    "du_ohe = OneHotEncoder(handle_unknown=\"ignore\", sparse_output=False).fit_transform(dirs.to_numpy().reshape(-1, 1))\n",
    "print(du_ohe.shape, type(du_ohe))\n",
    "\n",
    "dirs_2 = merged[\"director\"].copy()\n",
    "print(dirs_2.shape)\n",
    "du_tfidf = TfidfVectorizer(ngram_range=(2,2)).fit_transform(dirs_2).toarray()\n",
    "print(du_tfidf.shape, type(du_tfidf))\n",
    "\n",
    "print(np.array_equal(du_ohe, du_tfidf))"
   ]
  },
  {
   "cell_type": "code",
   "execution_count": 68,
   "id": "953155b2",
   "metadata": {
    "execution": {
     "iopub.execute_input": "2023-08-13T15:45:43.286421Z",
     "iopub.status.busy": "2023-08-13T15:45:43.285608Z",
     "iopub.status.idle": "2023-08-13T15:45:43.502796Z",
     "shell.execute_reply": "2023-08-13T15:45:43.501729Z"
    },
    "papermill": {
     "duration": 0.301322,
     "end_time": "2023-08-13T15:45:43.505146",
     "exception": false,
     "start_time": "2023-08-13T15:45:43.203824",
     "status": "completed"
    },
    "tags": []
   },
   "outputs": [
    {
     "name": "stdout",
     "output_type": "stream",
     "text": [
      "0       Bennie Basso\n",
      "1         Alma White\n",
      "2       Bobby Oleary\n",
      "3    Eric Hutcherson\n",
      "4         John Trent\n",
      "Name: director, dtype: object\n"
     ]
    },
    {
     "data": {
      "text/plain": [
       "2    162758\n",
       "Name: director, dtype: int64"
      ]
     },
     "execution_count": 68,
     "metadata": {},
     "output_type": "execute_result"
    }
   ],
   "source": [
    "print(dirs.head())\n",
    "d = dirs.copy()\n",
    "d[\"name_len\"] = d.apply(lambda x: len(x.split()))\n",
    "d[\"name_len\"].value_counts()"
   ]
  },
  {
   "cell_type": "code",
   "execution_count": 69,
   "id": "79abb325",
   "metadata": {
    "execution": {
     "iopub.execute_input": "2023-08-13T15:45:43.659953Z",
     "iopub.status.busy": "2023-08-13T15:45:43.659227Z",
     "iopub.status.idle": "2023-08-13T15:45:43.665058Z",
     "shell.execute_reply": "2023-08-13T15:45:43.663926Z"
    },
    "papermill": {
     "duration": 0.085544,
     "end_time": "2023-08-13T15:45:43.667269",
     "exception": false,
     "start_time": "2023-08-13T15:45:43.581725",
     "status": "completed"
    },
    "tags": []
   },
   "outputs": [],
   "source": [
    "# Compare OHE and TfidfVectorizer on reviewerName column\n",
    "# Note: reviewerName column has salutations like \"Mr. \" etc, and some names appear middle names. Therefore needs cleaning\n",
    "\n",
    "# def name_fl(name):\n",
    "#     l = name.split()\n",
    "#     n = ' '.join((l[0], l[-1]))\n",
    "#     return n\n",
    "\n",
    "# reviewers = merged[\"reviewerName\"].copy()\n",
    "# reviewers = pd.DataFrame(reviewers)\n",
    "# reviewers = reviewers.replace({\"Mr. \": \"\", \"Mrs. \": \"\"}, regex=True)\n",
    "# reviewers[\"reviewerName\"] = reviewers[\"reviewerName\"].apply(name_fl)\n",
    "# print(reviewers.shape)\n",
    "\n",
    "# reviewers_uniq = merged[\"reviewerName\"].unique()\n",
    "# print(len(reviewers_uniq))\n",
    "\n",
    "# reviewers_ohe = OneHotEncoder(handle_unknown=\"ignore\", sparse_output=False).fit_transform(reviewers.to_numpy().reshape(-1, 1))\n",
    "# print(reviewers_ohe.shape, type(reviewers_ohe))\n",
    "\n",
    "# reviewers_2 = merged[\"reviewerName\"].copy()\n",
    "# reviewers_2 = pd.DataFrame(reviewers_2)\n",
    "# print(reviewers_2.head())\n",
    "# reviewers_2 = reviewers_2.replace({\"Mr. \": \"\", \"Mrs. \": \"\"}, regex=True)\n",
    "# reviewers_2[\"reviewerName\"] = reviewers_2[\"reviewerName\"].apply(name_fl)\n",
    "# reviewers_2 = reviewers_2.squeeze()\n",
    "# print(reviewers_2.shape)\n",
    "# print(reviewers_2.head())\n",
    "\n",
    "# reviewers_tfidf = TfidfVectorizer(ngram_range=(2,2)).fit_transform(reviewers_2).toarray()\n",
    "# print(reviewers_tfidf.shape, type(reviewers_tfidf))\n",
    "\n",
    "# print(np.array_equal(reviewers_ohe, reviewers_tfidf))"
   ]
  },
  {
   "cell_type": "code",
   "execution_count": 70,
   "id": "b3ea7af9",
   "metadata": {
    "execution": {
     "iopub.execute_input": "2023-08-13T15:45:43.827971Z",
     "iopub.status.busy": "2023-08-13T15:45:43.827384Z",
     "iopub.status.idle": "2023-08-13T15:45:43.832736Z",
     "shell.execute_reply": "2023-08-13T15:45:43.831592Z"
    },
    "papermill": {
     "duration": 0.089117,
     "end_time": "2023-08-13T15:45:43.835287",
     "exception": false,
     "start_time": "2023-08-13T15:45:43.746170",
     "status": "completed"
    },
    "tags": []
   },
   "outputs": [],
   "source": [
    "# def name_fl(name):\n",
    "#     l = name.split()\n",
    "#     n = ' '.join((l[0], l[-1]))\n",
    "#     return n"
   ]
  },
  {
   "cell_type": "code",
   "execution_count": 71,
   "id": "171f9973",
   "metadata": {
    "execution": {
     "iopub.execute_input": "2023-08-13T15:45:43.994651Z",
     "iopub.status.busy": "2023-08-13T15:45:43.994130Z",
     "iopub.status.idle": "2023-08-13T15:45:43.999327Z",
     "shell.execute_reply": "2023-08-13T15:45:43.998116Z"
    },
    "papermill": {
     "duration": 0.087598,
     "end_time": "2023-08-13T15:45:44.002182",
     "exception": false,
     "start_time": "2023-08-13T15:45:43.914584",
     "status": "completed"
    },
    "tags": []
   },
   "outputs": [],
   "source": [
    "# print(reviewers.head())\n",
    "# r = pd.DataFrame(reviewers.copy())\n",
    "# r[\"reviewerName\"] = r[\"reviewerName\"].apply(name_fl)\n",
    "# r[\"name_len\"] = r[\"reviewerName\"].apply(lambda x: len(x.split()))\n",
    "# print(r.shape)\n",
    "# print(r.head())\n",
    "# print(r['name_len'].value_counts())"
   ]
  },
  {
   "cell_type": "code",
   "execution_count": 72,
   "id": "304f7adb",
   "metadata": {
    "execution": {
     "iopub.execute_input": "2023-08-13T15:45:44.159456Z",
     "iopub.status.busy": "2023-08-13T15:45:44.158984Z",
     "iopub.status.idle": "2023-08-13T15:45:44.164274Z",
     "shell.execute_reply": "2023-08-13T15:45:44.163050Z"
    },
    "papermill": {
     "duration": 0.086054,
     "end_time": "2023-08-13T15:45:44.166360",
     "exception": false,
     "start_time": "2023-08-13T15:45:44.080306",
     "status": "completed"
    },
    "tags": []
   },
   "outputs": [],
   "source": [
    "## Box plot audienceScore and sentiment  \n",
    "# plt.figure(figsize=(6, 4))\n",
    "# sns.boxplot(x=\"sentiment\", y=\"audienceScore\", data=merged, width=0.3)\n",
    "# plt.title(\"Box plot audienceScore and sentiment\")\n",
    "# plt.show()"
   ]
  },
  {
   "cell_type": "code",
   "execution_count": 73,
   "id": "f5fdb3d9",
   "metadata": {
    "execution": {
     "iopub.execute_input": "2023-08-13T15:45:44.323558Z",
     "iopub.status.busy": "2023-08-13T15:45:44.323077Z",
     "iopub.status.idle": "2023-08-13T15:45:44.327860Z",
     "shell.execute_reply": "2023-08-13T15:45:44.326833Z"
    },
    "papermill": {
     "duration": 0.084937,
     "end_time": "2023-08-13T15:45:44.329899",
     "exception": false,
     "start_time": "2023-08-13T15:45:44.244962",
     "status": "completed"
    },
    "tags": []
   },
   "outputs": [],
   "source": [
    "## Box plot runtimeMinutes and sentiment  \n",
    "# plt.figure(figsize=(6, 4))\n",
    "# sns.boxplot(x=\"sentiment\", y=\"runtimeMinutes\", data=merged, width=0.3)\n",
    "# plt.title(\"Box plot runtimeMinutes and sentiment\")\n",
    "# plt.show()"
   ]
  },
  {
   "cell_type": "code",
   "execution_count": 74,
   "id": "081cc60b",
   "metadata": {
    "execution": {
     "iopub.execute_input": "2023-08-13T15:45:44.486153Z",
     "iopub.status.busy": "2023-08-13T15:45:44.485356Z",
     "iopub.status.idle": "2023-08-13T15:45:44.491046Z",
     "shell.execute_reply": "2023-08-13T15:45:44.489783Z"
    },
    "papermill": {
     "duration": 0.087272,
     "end_time": "2023-08-13T15:45:44.493570",
     "exception": false,
     "start_time": "2023-08-13T15:45:44.406298",
     "status": "completed"
    },
    "tags": []
   },
   "outputs": [],
   "source": [
    "## Column chart for sentiment and rating columns\n",
    "# plt.figure(figsize=(6, 4))\n",
    "# sns.countplot(x=\"sentiment\", hue=\"rating\", data=merged)\n",
    "# plt.title(\"Column chart for sentiment and rating columns\")\n",
    "# plt.show()"
   ]
  },
  {
   "cell_type": "code",
   "execution_count": 75,
   "id": "be7d7209",
   "metadata": {
    "execution": {
     "iopub.execute_input": "2023-08-13T15:45:44.651716Z",
     "iopub.status.busy": "2023-08-13T15:45:44.651277Z",
     "iopub.status.idle": "2023-08-13T15:45:44.656202Z",
     "shell.execute_reply": "2023-08-13T15:45:44.655166Z"
    },
    "papermill": {
     "duration": 0.086058,
     "end_time": "2023-08-13T15:45:44.658225",
     "exception": false,
     "start_time": "2023-08-13T15:45:44.572167",
     "status": "completed"
    },
    "tags": []
   },
   "outputs": [],
   "source": [
    "# Correlation heatmap  \n",
    "# plt.figure(figsize=(10, 8))\n",
    "# sns.heatmap(merged.corr(), annot=True, cmap=\"coolwarm\")\n",
    "# plt.title(\"Correlation heatmap\")\n",
    "# plt.show()"
   ]
  },
  {
   "cell_type": "markdown",
   "id": "9afcc11e",
   "metadata": {
    "papermill": {
     "duration": 0.075882,
     "end_time": "2023-08-13T15:45:44.810547",
     "exception": false,
     "start_time": "2023-08-13T15:45:44.734665",
     "status": "completed"
    },
    "tags": []
   },
   "source": [
    "## Merge and preprocess \"test.csv\" and \"movies.csv\" files  "
   ]
  },
  {
   "cell_type": "code",
   "execution_count": 76,
   "id": "4ff45e36",
   "metadata": {
    "execution": {
     "iopub.execute_input": "2023-08-13T15:45:44.965581Z",
     "iopub.status.busy": "2023-08-13T15:45:44.965150Z",
     "iopub.status.idle": "2023-08-13T15:45:49.771465Z",
     "shell.execute_reply": "2023-08-13T15:45:49.770183Z"
    },
    "papermill": {
     "duration": 4.88769,
     "end_time": "2023-08-13T15:45:49.774481",
     "exception": false,
     "start_time": "2023-08-13T15:45:44.886791",
     "status": "completed"
    },
    "tags": []
   },
   "outputs": [],
   "source": [
    "# Merge test and movies  \n",
    "merged_test = select_features(load_csv(\"test\"), load_csv(\"movies\"))"
   ]
  },
  {
   "cell_type": "code",
   "execution_count": 77,
   "id": "be3d6c2b",
   "metadata": {
    "execution": {
     "iopub.execute_input": "2023-08-13T15:45:49.935933Z",
     "iopub.status.busy": "2023-08-13T15:45:49.935467Z",
     "iopub.status.idle": "2023-08-13T15:45:49.941190Z",
     "shell.execute_reply": "2023-08-13T15:45:49.939964Z"
    },
    "papermill": {
     "duration": 0.089941,
     "end_time": "2023-08-13T15:45:49.943577",
     "exception": false,
     "start_time": "2023-08-13T15:45:49.853636",
     "status": "completed"
    },
    "tags": []
   },
   "outputs": [],
   "source": [
    "# inspect(merged_test)      # Note the missing values in ['audienceScore', 'runtimeMinutes', 'boxOffice']"
   ]
  },
  {
   "cell_type": "code",
   "execution_count": 78,
   "id": "87b09eae",
   "metadata": {
    "execution": {
     "iopub.execute_input": "2023-08-13T15:45:50.099129Z",
     "iopub.status.busy": "2023-08-13T15:45:50.098365Z",
     "iopub.status.idle": "2023-08-13T15:45:50.116978Z",
     "shell.execute_reply": "2023-08-13T15:45:50.115810Z"
    },
    "papermill": {
     "duration": 0.098922,
     "end_time": "2023-08-13T15:45:50.119422",
     "exception": false,
     "start_time": "2023-08-13T15:45:50.020500",
     "status": "completed"
    },
    "tags": []
   },
   "outputs": [
    {
     "data": {
      "text/plain": [
       "array([6.80e+01, 1.04e+02, 1.43e+07])"
      ]
     },
     "execution_count": 78,
     "metadata": {},
     "output_type": "execute_result"
    }
   ],
   "source": [
    "# Transform ['audienceScore', 'runtimeMinutes', 'boxOffice'] columns in merged_test using 'si' fitted on 'merged' df  \n",
    "merged_test[['audienceScore', 'runtimeMinutes', 'boxOffice']] = si.transform(merged_test[['audienceScore', 'runtimeMinutes', 'boxOffice']])\n",
    "si.statistics_"
   ]
  },
  {
   "cell_type": "code",
   "execution_count": 79,
   "id": "48bb45f6",
   "metadata": {
    "execution": {
     "iopub.execute_input": "2023-08-13T15:45:50.275888Z",
     "iopub.status.busy": "2023-08-13T15:45:50.275081Z",
     "iopub.status.idle": "2023-08-13T15:45:50.287156Z",
     "shell.execute_reply": "2023-08-13T15:45:50.285829Z"
    },
    "papermill": {
     "duration": 0.093367,
     "end_time": "2023-08-13T15:45:50.289940",
     "exception": false,
     "start_time": "2023-08-13T15:45:50.196573",
     "status": "completed"
    },
    "tags": []
   },
   "outputs": [],
   "source": [
    "# Fill 'releaseDate' column in 'merged_test' df with median from the train (merged) df  \n",
    "merged_test['releaseDate'] = merged_test[\"releaseDate\"].fillna(merged[\"releaseDate\"].median())"
   ]
  },
  {
   "cell_type": "code",
   "execution_count": 80,
   "id": "9a63d7e2",
   "metadata": {
    "execution": {
     "iopub.execute_input": "2023-08-13T15:45:50.447365Z",
     "iopub.status.busy": "2023-08-13T15:45:50.446933Z",
     "iopub.status.idle": "2023-08-13T15:45:50.718468Z",
     "shell.execute_reply": "2023-08-13T15:45:50.716834Z"
    },
    "papermill": {
     "duration": 0.353387,
     "end_time": "2023-08-13T15:45:50.720929",
     "exception": false,
     "start_time": "2023-08-13T15:45:50.367542",
     "status": "completed"
    },
    "tags": []
   },
   "outputs": [
    {
     "name": "stdout",
     "output_type": "stream",
     "text": [
      "Shape of the dataframe: (55315, 25)\n",
      "\n",
      "Columns in the dataframe:\n",
      "Index(['movieid', 'reviewerName', 'isFrequentReviewer', 'reviewText', 'title',\n",
      "       'audienceScore', 'rating', 'ratingContents', 'releaseDateTheaters',\n",
      "       'releaseDateStreaming', 'runtimeMinutes', 'genre', 'originalLanguage',\n",
      "       'director', 'boxOffice', 'distributor', 'soundType', 'reviewYN',\n",
      "       'reviewWC', 'genreSorted', 'rcSorted', 'releaseDate', 'releaseYear',\n",
      "       'releaseMonth', 'releaseDiff'],\n",
      "      dtype='object')\n",
      "\n",
      "<class 'pandas.core.frame.DataFrame'>\n",
      "Int64Index: 55315 entries, 0 to 55314\n",
      "Data columns (total 25 columns):\n",
      " #   Column                Non-Null Count  Dtype         \n",
      "---  ------                --------------  -----         \n",
      " 0   movieid               55315 non-null  object        \n",
      " 1   reviewerName          55315 non-null  object        \n",
      " 2   isFrequentReviewer    55315 non-null  bool          \n",
      " 3   reviewText            55315 non-null  object        \n",
      " 4   title                 55315 non-null  object        \n",
      " 5   audienceScore         55315 non-null  float64       \n",
      " 6   rating                55315 non-null  object        \n",
      " 7   ratingContents        55315 non-null  object        \n",
      " 8   releaseDateTheaters   47844 non-null  datetime64[ns]\n",
      " 9   releaseDateStreaming  52929 non-null  datetime64[ns]\n",
      " 10  runtimeMinutes        55315 non-null  float64       \n",
      " 11  genre                 55315 non-null  object        \n",
      " 12  originalLanguage      55315 non-null  object        \n",
      " 13  director              55315 non-null  object        \n",
      " 14  boxOffice             55315 non-null  float64       \n",
      " 15  distributor           55315 non-null  object        \n",
      " 16  soundType             29845 non-null  object        \n",
      " 17  reviewYN              55315 non-null  int64         \n",
      " 18  reviewWC              55315 non-null  int64         \n",
      " 19  genreSorted           55315 non-null  object        \n",
      " 20  rcSorted              55315 non-null  object        \n",
      " 21  releaseDate           55315 non-null  datetime64[ns]\n",
      " 22  releaseYear           46626 non-null  float64       \n",
      " 23  releaseMonth          46626 non-null  float64       \n",
      " 24  releaseDiff           55315 non-null  float64       \n",
      "dtypes: bool(1), datetime64[ns](3), float64(6), int64(2), object(13)\n",
      "memory usage: 10.6+ MB\n",
      "None\n",
      "\n",
      "Missing values:\n",
      "movieid                     0\n",
      "reviewerName                0\n",
      "isFrequentReviewer          0\n",
      "reviewText                  0\n",
      "title                       0\n",
      "audienceScore               0\n",
      "rating                      0\n",
      "ratingContents              0\n",
      "releaseDateTheaters      7471\n",
      "releaseDateStreaming     2386\n",
      "runtimeMinutes              0\n",
      "genre                       0\n",
      "originalLanguage            0\n",
      "director                    0\n",
      "boxOffice                   0\n",
      "distributor                 0\n",
      "soundType               25470\n",
      "reviewYN                    0\n",
      "reviewWC                    0\n",
      "genreSorted                 0\n",
      "rcSorted                    0\n",
      "releaseDate                 0\n",
      "releaseYear              8689\n",
      "releaseMonth             8689\n",
      "releaseDiff                 0\n",
      "dtype: int64\n"
     ]
    }
   ],
   "source": [
    "# After transforming merged_test  \n",
    "inspect(merged_test)"
   ]
  },
  {
   "cell_type": "code",
   "execution_count": 81,
   "id": "e217592c",
   "metadata": {
    "execution": {
     "iopub.execute_input": "2023-08-13T15:45:50.879106Z",
     "iopub.status.busy": "2023-08-13T15:45:50.878640Z",
     "iopub.status.idle": "2023-08-13T15:45:50.886195Z",
     "shell.execute_reply": "2023-08-13T15:45:50.884812Z"
    },
    "papermill": {
     "duration": 0.089374,
     "end_time": "2023-08-13T15:45:50.888802",
     "exception": false,
     "start_time": "2023-08-13T15:45:50.799428",
     "status": "completed"
    },
    "tags": []
   },
   "outputs": [
    {
     "name": "stdout",
     "output_type": "stream",
     "text": [
      "2510\n",
      "4.537648015908886\n"
     ]
    }
   ],
   "source": [
    "print(merged_test[\"reviewYN\"].sum())\n",
    "print(merged_test[\"reviewYN\"].sum() * 100 / merged_test.shape[0])"
   ]
  },
  {
   "cell_type": "code",
   "execution_count": 82,
   "id": "2ac229c8",
   "metadata": {
    "execution": {
     "iopub.execute_input": "2023-08-13T15:45:51.051945Z",
     "iopub.status.busy": "2023-08-13T15:45:51.051533Z",
     "iopub.status.idle": "2023-08-13T15:45:51.065307Z",
     "shell.execute_reply": "2023-08-13T15:45:51.064069Z"
    },
    "papermill": {
     "duration": 0.096716,
     "end_time": "2023-08-13T15:45:51.067549",
     "exception": false,
     "start_time": "2023-08-13T15:45:50.970833",
     "status": "completed"
    },
    "tags": []
   },
   "outputs": [
    {
     "data": {
      "text/plain": [
       "R          18934\n",
       "unknown    18386\n",
       "PG-13      13220\n",
       "PG          4200\n",
       "TV14         333\n",
       "TVPG         109\n",
       "NC-17        108\n",
       "TVMA          25\n",
       "Name: rating, dtype: int64"
      ]
     },
     "execution_count": 82,
     "metadata": {},
     "output_type": "execute_result"
    }
   ],
   "source": [
    "merged_test['rating'].value_counts()"
   ]
  },
  {
   "cell_type": "code",
   "execution_count": 83,
   "id": "df8a446b",
   "metadata": {
    "execution": {
     "iopub.execute_input": "2023-08-13T15:45:51.225088Z",
     "iopub.status.busy": "2023-08-13T15:45:51.224629Z",
     "iopub.status.idle": "2023-08-13T15:45:51.234669Z",
     "shell.execute_reply": "2023-08-13T15:45:51.233413Z"
    },
    "papermill": {
     "duration": 0.090859,
     "end_time": "2023-08-13T15:45:51.236713",
     "exception": false,
     "start_time": "2023-08-13T15:45:51.145854",
     "status": "completed"
    },
    "tags": []
   },
   "outputs": [
    {
     "data": {
      "text/plain": [
       "False    38428\n",
       "True     16887\n",
       "Name: isFrequentReviewer, dtype: int64"
      ]
     },
     "execution_count": 83,
     "metadata": {},
     "output_type": "execute_result"
    }
   ],
   "source": [
    "merged_test['isFrequentReviewer'].value_counts()"
   ]
  },
  {
   "cell_type": "code",
   "execution_count": 84,
   "id": "ced5568e",
   "metadata": {
    "execution": {
     "iopub.execute_input": "2023-08-13T15:45:51.399086Z",
     "iopub.status.busy": "2023-08-13T15:45:51.398615Z",
     "iopub.status.idle": "2023-08-13T15:45:51.410928Z",
     "shell.execute_reply": "2023-08-13T15:45:51.410058Z"
    },
    "papermill": {
     "duration": 0.098138,
     "end_time": "2023-08-13T15:45:51.413324",
     "exception": false,
     "start_time": "2023-08-13T15:45:51.315186",
     "status": "completed"
    },
    "tags": []
   },
   "outputs": [
    {
     "data": {
      "text/plain": [
       "14300000.0    13593\n",
       "1100000.0       311\n",
       "1000000.0       272\n",
       "1300000.0       263\n",
       "2000000.0       256\n",
       "              ...  \n",
       "200400.0          1\n",
       "23800000.0        1\n",
       "111200.0          1\n",
       "277800.0          1\n",
       "100600.0          1\n",
       "Name: boxOffice, Length: 3816, dtype: int64"
      ]
     },
     "execution_count": 84,
     "metadata": {},
     "output_type": "execute_result"
    }
   ],
   "source": [
    "merged_test['boxOffice'].value_counts()"
   ]
  },
  {
   "cell_type": "markdown",
   "id": "9358a826",
   "metadata": {
    "papermill": {
     "duration": 0.081742,
     "end_time": "2023-08-13T15:45:51.573688",
     "exception": false,
     "start_time": "2023-08-13T15:45:51.491946",
     "status": "completed"
    },
    "tags": []
   },
   "source": [
    "## Work on vocabulary  \n",
    "\n",
    "`Build vocabulary from 'reviewText' column`  "
   ]
  },
  {
   "cell_type": "code",
   "execution_count": 85,
   "id": "04b7cf3d",
   "metadata": {
    "execution": {
     "iopub.execute_input": "2023-08-13T15:45:51.735174Z",
     "iopub.status.busy": "2023-08-13T15:45:51.734368Z",
     "iopub.status.idle": "2023-08-13T15:45:51.759859Z",
     "shell.execute_reply": "2023-08-13T15:45:51.758647Z"
    },
    "papermill": {
     "duration": 0.109445,
     "end_time": "2023-08-13T15:45:51.762295",
     "exception": false,
     "start_time": "2023-08-13T15:45:51.652850",
     "status": "completed"
    },
    "tags": []
   },
   "outputs": [
    {
     "data": {
      "text/plain": [
       "((162758, 2),\n",
       "                                           reviewText sentiment\n",
       " 0  Henry Selick’s first movie since ’s Coraline. ...  POSITIVE\n",
       " 1  With a cast that reads like the Vogue Oscar pa...  NEGATIVE\n",
       " 2  Creed II does not give us anything but another...  POSITIVE\n",
       " 3  I know what you're thinking, but this is no Li...  POSITIVE\n",
       " 4  Director Fernando Meirelles tells the story wi...  POSITIVE)"
      ]
     },
     "execution_count": 85,
     "metadata": {},
     "output_type": "execute_result"
    }
   ],
   "source": [
    "rt_senti = merged[[\"reviewText\", \"sentiment\"]].copy()\n",
    "rt_senti.shape, rt_senti.head()"
   ]
  },
  {
   "cell_type": "code",
   "execution_count": 86,
   "id": "1c5fa7c6",
   "metadata": {
    "execution": {
     "iopub.execute_input": "2023-08-13T15:45:51.924191Z",
     "iopub.status.busy": "2023-08-13T15:45:51.922920Z",
     "iopub.status.idle": "2023-08-13T15:45:51.937287Z",
     "shell.execute_reply": "2023-08-13T15:45:51.935991Z"
    },
    "papermill": {
     "duration": 0.098087,
     "end_time": "2023-08-13T15:45:51.940014",
     "exception": false,
     "start_time": "2023-08-13T15:45:51.841927",
     "status": "completed"
    },
    "tags": []
   },
   "outputs": [
    {
     "data": {
      "text/plain": [
       "((55315, 1),\n",
       "                                           reviewText\n",
       " 0  Green slowly cranks up the dread with style an...\n",
       " 1  Philip Noyce's direction is elegant and unforc...\n",
       " 2  It wouldn't do to say what path Maria ultimate...\n",
       " 3  Pig is not exactly the arthouse John Wick that...\n",
       " 4  An imaginative no-budget musical of sorts abou...)"
      ]
     },
     "execution_count": 86,
     "metadata": {},
     "output_type": "execute_result"
    }
   ],
   "source": [
    "rt_test = pd.DataFrame(merged_test[\"reviewText\"].copy())\n",
    "rt_test.shape, rt_test.head()"
   ]
  },
  {
   "cell_type": "code",
   "execution_count": 87,
   "id": "a33ef376",
   "metadata": {
    "execution": {
     "iopub.execute_input": "2023-08-13T15:45:52.103756Z",
     "iopub.status.busy": "2023-08-13T15:45:52.103264Z",
     "iopub.status.idle": "2023-08-13T15:45:52.109315Z",
     "shell.execute_reply": "2023-08-13T15:45:52.108243Z"
    },
    "papermill": {
     "duration": 0.09097,
     "end_time": "2023-08-13T15:45:52.111468",
     "exception": false,
     "start_time": "2023-08-13T15:45:52.020498",
     "status": "completed"
    },
    "tags": []
   },
   "outputs": [],
   "source": [
    "def get_vocab(text_df, ngram_range=(1,1)):\n",
    "#     print(f\"Generating vocabulary for ngram_range: {ngram_range}...\")\n",
    "    tvec1 = CountVectorizer(ngram_range=ngram_range, stop_words='english', strip_accents='unicode')\n",
    "    tvec1.fit(text_df)\n",
    "    voc_ngram = set(tvec1.vocabulary_.keys())\n",
    "    return voc_ngram"
   ]
  },
  {
   "cell_type": "code",
   "execution_count": 88,
   "id": "accfcb9a",
   "metadata": {
    "execution": {
     "iopub.execute_input": "2023-08-13T15:45:52.274788Z",
     "iopub.status.busy": "2023-08-13T15:45:52.274115Z",
     "iopub.status.idle": "2023-08-13T15:45:52.281576Z",
     "shell.execute_reply": "2023-08-13T15:45:52.280729Z"
    },
    "papermill": {
     "duration": 0.092257,
     "end_time": "2023-08-13T15:45:52.284107",
     "exception": false,
     "start_time": "2023-08-13T15:45:52.191850",
     "status": "completed"
    },
    "tags": []
   },
   "outputs": [],
   "source": [
    "def get_common_vocab(df_list: list, ngram_range_list: list):\n",
    "    \"\"\"\n",
    "    Get common vocabulary from a list of dataframes.\n",
    "    \"\"\"\n",
    "    final_common_vocab = set()\n",
    "    # Get vocabulary from each dataframe for a given ngram-range\n",
    "    for ngram_range in ngram_range_list:\n",
    "        vocab_ngram = set()\n",
    "        for num, df in enumerate(df_list, start=1):\n",
    "#             print(f\"Working on DF#{num} in the list of DFs provided\")\n",
    "            vocab_ngram_df = set(get_vocab(df['reviewText'], ngram_range))\n",
    "#             print(f\"Vocabulary size for ngram-range {ngram_range} in DF#{num}: {len(vocab_ngram_df)}\\n\")\n",
    "            if len(vocab_ngram) > 0:\n",
    "#                 print(f\"Keeping only the common (intersection) words for ngram-range {ngram_range}...\")\n",
    "                vocab_ngram = vocab_ngram.intersection(vocab_ngram_df)\n",
    "            else:\n",
    "#                 print(f\"Words from the first df for ngram-range {ngram_range} added.\\n\")\n",
    "                vocab_ngram = vocab_ngram_df\n",
    "        print(f\"Common vocabulary for ngram-range {ngram_range}: {len(vocab_ngram)}\\n\")\n",
    "        \n",
    "        if len(final_common_vocab) > 0:\n",
    "#             print(f\"Fusing (union) with final common vocabulary: ngram-range = {ngram_range}.\\n\")\n",
    "            final_common_vocab = final_common_vocab.union(vocab_ngram)\n",
    "        else:\n",
    "#             print(f\"Appended first time to final common vocabulary: ngram-range = {ngram_range}.\\n\")\n",
    "            final_common_vocab = vocab_ngram\n",
    "    print(f\"Size of the common vocabulary generated is: {len(final_common_vocab)}\")\n",
    "    return final_common_vocab"
   ]
  },
  {
   "cell_type": "code",
   "execution_count": 89,
   "id": "17a81500",
   "metadata": {
    "execution": {
     "iopub.execute_input": "2023-08-13T15:45:52.443988Z",
     "iopub.status.busy": "2023-08-13T15:45:52.443306Z",
     "iopub.status.idle": "2023-08-13T15:45:52.447488Z",
     "shell.execute_reply": "2023-08-13T15:45:52.446350Z"
    },
    "papermill": {
     "duration": 0.086468,
     "end_time": "2023-08-13T15:45:52.450066",
     "exception": false,
     "start_time": "2023-08-13T15:45:52.363598",
     "status": "completed"
    },
    "tags": []
   },
   "outputs": [],
   "source": [
    "# voc_1gram = get_vocab(rt_senti[\"reviewText\"], ngram_range=(1,1))\n",
    "# len(voc_1gram), voc_1gram[:10]"
   ]
  },
  {
   "cell_type": "code",
   "execution_count": 90,
   "id": "0cad85bf",
   "metadata": {
    "execution": {
     "iopub.execute_input": "2023-08-13T15:45:52.613406Z",
     "iopub.status.busy": "2023-08-13T15:45:52.612809Z",
     "iopub.status.idle": "2023-08-13T15:45:52.617577Z",
     "shell.execute_reply": "2023-08-13T15:45:52.616486Z"
    },
    "papermill": {
     "duration": 0.088155,
     "end_time": "2023-08-13T15:45:52.619989",
     "exception": false,
     "start_time": "2023-08-13T15:45:52.531834",
     "status": "completed"
    },
    "tags": []
   },
   "outputs": [],
   "source": [
    "# voc_2gram = get_vocab(rt_senti[\"reviewText\"], ngram_range=(2,2))\n",
    "# len(voc_2gram), voc_2gram[:10]"
   ]
  },
  {
   "cell_type": "code",
   "execution_count": 91,
   "id": "18994d11",
   "metadata": {
    "execution": {
     "iopub.execute_input": "2023-08-13T15:45:52.778362Z",
     "iopub.status.busy": "2023-08-13T15:45:52.777880Z",
     "iopub.status.idle": "2023-08-13T15:45:52.782551Z",
     "shell.execute_reply": "2023-08-13T15:45:52.781496Z"
    },
    "papermill": {
     "duration": 0.086402,
     "end_time": "2023-08-13T15:45:52.784699",
     "exception": false,
     "start_time": "2023-08-13T15:45:52.698297",
     "status": "completed"
    },
    "tags": []
   },
   "outputs": [],
   "source": [
    "# voc_3gram = get_vocab(rt_senti[\"reviewText\"], ngram_range=(3,3))\n",
    "# len(voc_3gram), voc_3gram[:10]"
   ]
  },
  {
   "cell_type": "code",
   "execution_count": 92,
   "id": "cf0b513d",
   "metadata": {
    "execution": {
     "iopub.execute_input": "2023-08-13T15:45:52.951251Z",
     "iopub.status.busy": "2023-08-13T15:45:52.950422Z",
     "iopub.status.idle": "2023-08-13T15:45:52.954912Z",
     "shell.execute_reply": "2023-08-13T15:45:52.953951Z"
    },
    "papermill": {
     "duration": 0.092565,
     "end_time": "2023-08-13T15:45:52.957742",
     "exception": false,
     "start_time": "2023-08-13T15:45:52.865177",
     "status": "completed"
    },
    "tags": []
   },
   "outputs": [],
   "source": [
    "# common_unigrams = get_common_vocab([rt_senti, rt_test], ngram_range_list=[(1,1)])\n",
    "# print(len(common_unigrams))\n",
    "# # sorted(list(common_unigrams))"
   ]
  },
  {
   "cell_type": "code",
   "execution_count": 93,
   "id": "d5ef3356",
   "metadata": {
    "execution": {
     "iopub.execute_input": "2023-08-13T15:45:53.203371Z",
     "iopub.status.busy": "2023-08-13T15:45:53.202583Z",
     "iopub.status.idle": "2023-08-13T15:45:53.207596Z",
     "shell.execute_reply": "2023-08-13T15:45:53.206704Z"
    },
    "papermill": {
     "duration": 0.17296,
     "end_time": "2023-08-13T15:45:53.209876",
     "exception": false,
     "start_time": "2023-08-13T15:45:53.036916",
     "status": "completed"
    },
    "tags": []
   },
   "outputs": [],
   "source": [
    "# common_bigrams = get_common_vocab([rt_senti, rt_test], ngram_range_list=[(2,2)])\n",
    "# print(len(common_bigrams))\n",
    "# # # common_bigrams"
   ]
  },
  {
   "cell_type": "code",
   "execution_count": 94,
   "id": "1a19251e",
   "metadata": {
    "execution": {
     "iopub.execute_input": "2023-08-13T15:45:53.369959Z",
     "iopub.status.busy": "2023-08-13T15:45:53.369565Z",
     "iopub.status.idle": "2023-08-13T15:45:53.374378Z",
     "shell.execute_reply": "2023-08-13T15:45:53.373062Z"
    },
    "papermill": {
     "duration": 0.087253,
     "end_time": "2023-08-13T15:45:53.376463",
     "exception": false,
     "start_time": "2023-08-13T15:45:53.289210",
     "status": "completed"
    },
    "tags": []
   },
   "outputs": [],
   "source": [
    "# common_1_2_grams = get_common_vocab([rt_senti, rt_test], ngram_range_list=[(1,1), (2,2)])\n",
    "# print(len(common_1_2_grams))\n",
    "# # sorted(list(common_1_2_grams))\n",
    "\n",
    "# # common_1_2_grams = common_unigrams | common_bigrams    # older code"
   ]
  },
  {
   "cell_type": "code",
   "execution_count": 95,
   "id": "6667d513",
   "metadata": {
    "execution": {
     "iopub.execute_input": "2023-08-13T15:45:53.535254Z",
     "iopub.status.busy": "2023-08-13T15:45:53.534831Z",
     "iopub.status.idle": "2023-08-13T15:45:53.539384Z",
     "shell.execute_reply": "2023-08-13T15:45:53.538305Z"
    },
    "papermill": {
     "duration": 0.087132,
     "end_time": "2023-08-13T15:45:53.541638",
     "exception": false,
     "start_time": "2023-08-13T15:45:53.454506",
     "status": "completed"
    },
    "tags": []
   },
   "outputs": [],
   "source": [
    "# common_trigrams = get_common_vocab([rt_senti, rt_test], ngram_range_list=[(3,3)])\n",
    "# print(len(common_trigrams))\n",
    "# # common_trigrams"
   ]
  },
  {
   "cell_type": "code",
   "execution_count": 96,
   "id": "12a20f97",
   "metadata": {
    "execution": {
     "iopub.execute_input": "2023-08-13T15:45:53.699797Z",
     "iopub.status.busy": "2023-08-13T15:45:53.699217Z",
     "iopub.status.idle": "2023-08-13T15:45:53.703943Z",
     "shell.execute_reply": "2023-08-13T15:45:53.702864Z"
    },
    "papermill": {
     "duration": 0.087342,
     "end_time": "2023-08-13T15:45:53.706131",
     "exception": false,
     "start_time": "2023-08-13T15:45:53.618789",
     "status": "completed"
    },
    "tags": []
   },
   "outputs": [],
   "source": [
    "# common_1_2_3_grams = get_common_vocab([rt_senti, rt_test], ngram_range_list=[(1,1), (2,2), (3,3)])\n",
    "# print(len(common_1_2_3_grams))\n",
    "# # sorted((common_1_2_3_grams))\n",
    "\n",
    "# # common_1_2_3_grams = common_unigrams | common_bigrams | common_trigrams    # Older code  "
   ]
  },
  {
   "cell_type": "markdown",
   "id": "e6a52c99",
   "metadata": {
    "papermill": {
     "duration": 0.076791,
     "end_time": "2023-08-13T15:45:53.861086",
     "exception": false,
     "start_time": "2023-08-13T15:45:53.784295",
     "status": "completed"
    },
    "tags": []
   },
   "source": [
    "### Find common vocabulary between text with positive and negative sentiments in training dataset  "
   ]
  },
  {
   "cell_type": "code",
   "execution_count": 97,
   "id": "6c2431de",
   "metadata": {
    "execution": {
     "iopub.execute_input": "2023-08-13T15:45:54.025542Z",
     "iopub.status.busy": "2023-08-13T15:45:54.024700Z",
     "iopub.status.idle": "2023-08-13T15:45:54.061545Z",
     "shell.execute_reply": "2023-08-13T15:45:54.060318Z"
    },
    "papermill": {
     "duration": 0.121756,
     "end_time": "2023-08-13T15:45:54.063801",
     "exception": false,
     "start_time": "2023-08-13T15:45:53.942045",
     "status": "completed"
    },
    "tags": []
   },
   "outputs": [
    {
     "data": {
      "text/plain": [
       "(108761, 2)"
      ]
     },
     "execution_count": 97,
     "metadata": {},
     "output_type": "execute_result"
    }
   ],
   "source": [
    "# Dataframe for positive sentiment\n",
    "rt_senti_pos = rt_senti.loc[rt_senti['sentiment'] == 'POSITIVE'].copy()\n",
    "rt_senti_pos.shape"
   ]
  },
  {
   "cell_type": "code",
   "execution_count": 98,
   "id": "7d2a60a2",
   "metadata": {
    "execution": {
     "iopub.execute_input": "2023-08-13T15:45:54.226955Z",
     "iopub.status.busy": "2023-08-13T15:45:54.226493Z",
     "iopub.status.idle": "2023-08-13T15:45:54.254797Z",
     "shell.execute_reply": "2023-08-13T15:45:54.253632Z"
    },
    "papermill": {
     "duration": 0.113053,
     "end_time": "2023-08-13T15:45:54.257380",
     "exception": false,
     "start_time": "2023-08-13T15:45:54.144327",
     "status": "completed"
    },
    "tags": []
   },
   "outputs": [
    {
     "data": {
      "text/plain": [
       "(53997, 2)"
      ]
     },
     "execution_count": 98,
     "metadata": {},
     "output_type": "execute_result"
    }
   ],
   "source": [
    "# Dataframe for negative sentiment\n",
    "rt_senti_neg = rt_senti.loc[rt_senti['sentiment'] == 'NEGATIVE'].copy()\n",
    "rt_senti_neg.shape"
   ]
  },
  {
   "cell_type": "code",
   "execution_count": 99,
   "id": "0b1323f8",
   "metadata": {
    "execution": {
     "iopub.execute_input": "2023-08-13T15:45:54.416952Z",
     "iopub.status.busy": "2023-08-13T15:45:54.416525Z",
     "iopub.status.idle": "2023-08-13T15:45:54.420931Z",
     "shell.execute_reply": "2023-08-13T15:45:54.419908Z"
    },
    "papermill": {
     "duration": 0.087265,
     "end_time": "2023-08-13T15:45:54.423119",
     "exception": false,
     "start_time": "2023-08-13T15:45:54.335854",
     "status": "completed"
    },
    "tags": []
   },
   "outputs": [],
   "source": [
    "# Generate stop words/phrases specific for this project data  \n",
    "\n",
    "# common_1_2_3_grams_sentiment = get_common_vocab([rt_senti_pos, rt_senti_neg], ngram_range_list=[(1,1), (2,2), (3,3)])\n",
    "# print(len(common_1_2_3_grams_sentiment))\n",
    "# # sorted(list(common_1_2_3_grams_sentiment))"
   ]
  },
  {
   "cell_type": "code",
   "execution_count": 100,
   "id": "946ddd4b",
   "metadata": {
    "execution": {
     "iopub.execute_input": "2023-08-13T15:45:54.583253Z",
     "iopub.status.busy": "2023-08-13T15:45:54.582806Z",
     "iopub.status.idle": "2023-08-13T15:45:54.587488Z",
     "shell.execute_reply": "2023-08-13T15:45:54.586399Z"
    },
    "papermill": {
     "duration": 0.087968,
     "end_time": "2023-08-13T15:45:54.589592",
     "exception": false,
     "start_time": "2023-08-13T15:45:54.501624",
     "status": "completed"
    },
    "tags": []
   },
   "outputs": [],
   "source": [
    "# Generate and store the entire vocabulary of training data  \n",
    "\n",
    "# train_1_2_3_grams = get_vocab(rt_senti['reviewText'], ngram_range=(1,3))\n",
    "# print(len(train_1_2_3_grams))\n",
    "# # sorted(train_1_2_3_grams)"
   ]
  },
  {
   "cell_type": "code",
   "execution_count": 101,
   "id": "b30f8ed7",
   "metadata": {
    "execution": {
     "iopub.execute_input": "2023-08-13T15:45:54.746541Z",
     "iopub.status.busy": "2023-08-13T15:45:54.746148Z",
     "iopub.status.idle": "2023-08-13T15:45:54.750242Z",
     "shell.execute_reply": "2023-08-13T15:45:54.749306Z"
    },
    "papermill": {
     "duration": 0.08488,
     "end_time": "2023-08-13T15:45:54.752292",
     "exception": false,
     "start_time": "2023-08-13T15:45:54.667412",
     "status": "completed"
    },
    "tags": []
   },
   "outputs": [],
   "source": [
    "# type(train_1_2_3_grams)"
   ]
  },
  {
   "cell_type": "code",
   "execution_count": 102,
   "id": "fa79894d",
   "metadata": {
    "execution": {
     "iopub.execute_input": "2023-08-13T15:45:54.912886Z",
     "iopub.status.busy": "2023-08-13T15:45:54.912068Z",
     "iopub.status.idle": "2023-08-13T15:45:54.917943Z",
     "shell.execute_reply": "2023-08-13T15:45:54.916753Z"
    },
    "papermill": {
     "duration": 0.089405,
     "end_time": "2023-08-13T15:45:54.921102",
     "exception": false,
     "start_time": "2023-08-13T15:45:54.831697",
     "status": "completed"
    },
    "tags": []
   },
   "outputs": [],
   "source": [
    "# Get the vocabulary that should be used in the final models  \n",
    "# relevant_vocab = train_1_2_3_grams - common_1_2_3_grams_sentiment\n",
    "# print(len(relevant_vocab))"
   ]
  },
  {
   "cell_type": "markdown",
   "id": "bc7b3a51",
   "metadata": {
    "papermill": {
     "duration": 0.079233,
     "end_time": "2023-08-13T15:45:55.082351",
     "exception": false,
     "start_time": "2023-08-13T15:45:55.003118",
     "status": "completed"
    },
    "tags": []
   },
   "source": [
    "## Vocabulary based on audienceScore  "
   ]
  },
  {
   "cell_type": "code",
   "execution_count": 103,
   "id": "57291914",
   "metadata": {
    "execution": {
     "iopub.execute_input": "2023-08-13T15:45:55.242862Z",
     "iopub.status.busy": "2023-08-13T15:45:55.242106Z",
     "iopub.status.idle": "2023-08-13T15:45:55.506183Z",
     "shell.execute_reply": "2023-08-13T15:45:55.505053Z"
    },
    "papermill": {
     "duration": 0.346095,
     "end_time": "2023-08-13T15:45:55.508670",
     "exception": false,
     "start_time": "2023-08-13T15:45:55.162575",
     "status": "completed"
    },
    "tags": []
   },
   "outputs": [
    {
     "data": {
      "text/plain": [
       "<Axes: xlabel='sentiment', ylabel='audienceScore'>"
      ]
     },
     "execution_count": 103,
     "metadata": {},
     "output_type": "execute_result"
    },
    {
     "data": {
      "image/png": "[encoded data removed]",
      "text/plain": [
       "<Figure size 640x480 with 1 Axes>"
      ]
     },
     "metadata": {},
     "output_type": "display_data"
    }
   ],
   "source": [
    "sns.boxplot(y=merged[\"audienceScore\"], x=merged[\"sentiment\"])"
   ]
  },
  {
   "cell_type": "code",
   "execution_count": 104,
   "id": "210ec51b",
   "metadata": {
    "execution": {
     "iopub.execute_input": "2023-08-13T15:45:55.669663Z",
     "iopub.status.busy": "2023-08-13T15:45:55.669066Z",
     "iopub.status.idle": "2023-08-13T15:45:55.719227Z",
     "shell.execute_reply": "2023-08-13T15:45:55.717946Z"
    },
    "papermill": {
     "duration": 0.13375,
     "end_time": "2023-08-13T15:45:55.721926",
     "exception": false,
     "start_time": "2023-08-13T15:45:55.588176",
     "status": "completed"
    },
    "tags": []
   },
   "outputs": [
    {
     "data": {
      "text/html": [
       "<div>\n",
       "<style scoped>\n",
       "    .dataframe tbody tr th:only-of-type {\n",
       "        vertical-align: middle;\n",
       "    }\n",
       "\n",
       "    .dataframe tbody tr th {\n",
       "        vertical-align: top;\n",
       "    }\n",
       "\n",
       "    .dataframe thead th {\n",
       "        text-align: right;\n",
       "    }\n",
       "</style>\n",
       "<table border=\"1\" class=\"dataframe\">\n",
       "  <thead>\n",
       "    <tr style=\"text-align: right;\">\n",
       "      <th></th>\n",
       "      <th>count</th>\n",
       "      <th>mean</th>\n",
       "      <th>std</th>\n",
       "      <th>min</th>\n",
       "      <th>25%</th>\n",
       "      <th>50%</th>\n",
       "      <th>75%</th>\n",
       "      <th>max</th>\n",
       "    </tr>\n",
       "    <tr>\n",
       "      <th>sentiment</th>\n",
       "      <th></th>\n",
       "      <th></th>\n",
       "      <th></th>\n",
       "      <th></th>\n",
       "      <th></th>\n",
       "      <th></th>\n",
       "      <th></th>\n",
       "      <th></th>\n",
       "    </tr>\n",
       "  </thead>\n",
       "  <tbody>\n",
       "    <tr>\n",
       "      <th>NEGATIVE</th>\n",
       "      <td>53997.0</td>\n",
       "      <td>56.474786</td>\n",
       "      <td>19.902115</td>\n",
       "      <td>0.0</td>\n",
       "      <td>41.0</td>\n",
       "      <td>57.0</td>\n",
       "      <td>72.0</td>\n",
       "      <td>100.0</td>\n",
       "    </tr>\n",
       "    <tr>\n",
       "      <th>POSITIVE</th>\n",
       "      <td>108761.0</td>\n",
       "      <td>69.326174</td>\n",
       "      <td>18.380626</td>\n",
       "      <td>0.0</td>\n",
       "      <td>58.0</td>\n",
       "      <td>73.0</td>\n",
       "      <td>84.0</td>\n",
       "      <td>100.0</td>\n",
       "    </tr>\n",
       "  </tbody>\n",
       "</table>\n",
       "</div>"
      ],
      "text/plain": [
       "              count       mean        std  min   25%   50%   75%    max\n",
       "sentiment                                                              \n",
       "NEGATIVE    53997.0  56.474786  19.902115  0.0  41.0  57.0  72.0  100.0\n",
       "POSITIVE   108761.0  69.326174  18.380626  0.0  58.0  73.0  84.0  100.0"
      ]
     },
     "execution_count": 104,
     "metadata": {},
     "output_type": "execute_result"
    }
   ],
   "source": [
    "merged.groupby('sentiment')['audienceScore'].describe()"
   ]
  },
  {
   "cell_type": "code",
   "execution_count": 105,
   "id": "f07ddf5e",
   "metadata": {
    "execution": {
     "iopub.execute_input": "2023-08-13T15:45:55.882357Z",
     "iopub.status.busy": "2023-08-13T15:45:55.881911Z",
     "iopub.status.idle": "2023-08-13T15:45:55.886485Z",
     "shell.execute_reply": "2023-08-13T15:45:55.885223Z"
    },
    "papermill": {
     "duration": 0.087949,
     "end_time": "2023-08-13T15:45:55.888478",
     "exception": false,
     "start_time": "2023-08-13T15:45:55.800529",
     "status": "completed"
    },
    "tags": []
   },
   "outputs": [],
   "source": [
    "# pos_scores = merged[['reviewText', 'sentiment']].loc[(merged['audienceScore'] > 73) & (merged['sentiment'] == 'POSITIVE')].copy()\n",
    "# pos_scores.shape, pos_scores.head()"
   ]
  },
  {
   "cell_type": "code",
   "execution_count": 106,
   "id": "77c894a6",
   "metadata": {
    "execution": {
     "iopub.execute_input": "2023-08-13T15:45:56.053325Z",
     "iopub.status.busy": "2023-08-13T15:45:56.052111Z",
     "iopub.status.idle": "2023-08-13T15:45:56.057100Z",
     "shell.execute_reply": "2023-08-13T15:45:56.056207Z"
    },
    "papermill": {
     "duration": 0.08854,
     "end_time": "2023-08-13T15:45:56.059310",
     "exception": false,
     "start_time": "2023-08-13T15:45:55.970770",
     "status": "completed"
    },
    "tags": []
   },
   "outputs": [],
   "source": [
    "# pos_scores['sentiment'].value_counts()"
   ]
  },
  {
   "cell_type": "code",
   "execution_count": 107,
   "id": "39d85e69",
   "metadata": {
    "execution": {
     "iopub.execute_input": "2023-08-13T15:45:56.222139Z",
     "iopub.status.busy": "2023-08-13T15:45:56.220785Z",
     "iopub.status.idle": "2023-08-13T15:45:56.225752Z",
     "shell.execute_reply": "2023-08-13T15:45:56.224845Z"
    },
    "papermill": {
     "duration": 0.088503,
     "end_time": "2023-08-13T15:45:56.228036",
     "exception": false,
     "start_time": "2023-08-13T15:45:56.139533",
     "status": "completed"
    },
    "tags": []
   },
   "outputs": [],
   "source": [
    "# neg_scores = merged[['reviewText', 'sentiment']].loc[(merged['audienceScore'] < 57) & (merged['sentiment'] == 'NEGATIVE')].copy()\n",
    "# neg_scores.shape, neg_scores.head()"
   ]
  },
  {
   "cell_type": "code",
   "execution_count": 108,
   "id": "226a25dc",
   "metadata": {
    "execution": {
     "iopub.execute_input": "2023-08-13T15:45:56.390811Z",
     "iopub.status.busy": "2023-08-13T15:45:56.389703Z",
     "iopub.status.idle": "2023-08-13T15:45:56.394337Z",
     "shell.execute_reply": "2023-08-13T15:45:56.393414Z"
    },
    "papermill": {
     "duration": 0.087914,
     "end_time": "2023-08-13T15:45:56.396546",
     "exception": false,
     "start_time": "2023-08-13T15:45:56.308632",
     "status": "completed"
    },
    "tags": []
   },
   "outputs": [],
   "source": [
    "# neg_scores['sentiment'].value_counts()"
   ]
  },
  {
   "cell_type": "code",
   "execution_count": 109,
   "id": "72b91fda",
   "metadata": {
    "execution": {
     "iopub.execute_input": "2023-08-13T15:45:56.556506Z",
     "iopub.status.busy": "2023-08-13T15:45:56.555719Z",
     "iopub.status.idle": "2023-08-13T15:45:56.559809Z",
     "shell.execute_reply": "2023-08-13T15:45:56.559042Z"
    },
    "papermill": {
     "duration": 0.086797,
     "end_time": "2023-08-13T15:45:56.561850",
     "exception": false,
     "start_time": "2023-08-13T15:45:56.475053",
     "status": "completed"
    },
    "tags": []
   },
   "outputs": [],
   "source": [
    "# common_pos_neg_scores = get_common_vocab([pos_scores, neg_scores], ngram_range_list=[(1,1), (2,2), (3,3)])\n",
    "# print(len(common_pos_neg_scores))\n",
    "# # sorted(list(common_pos_neg_scores))"
   ]
  },
  {
   "cell_type": "code",
   "execution_count": 110,
   "id": "4eea4804",
   "metadata": {
    "execution": {
     "iopub.execute_input": "2023-08-13T15:45:56.727843Z",
     "iopub.status.busy": "2023-08-13T15:45:56.727065Z",
     "iopub.status.idle": "2023-08-13T15:45:56.731539Z",
     "shell.execute_reply": "2023-08-13T15:45:56.730336Z"
    },
    "papermill": {
     "duration": 0.090138,
     "end_time": "2023-08-13T15:45:56.733989",
     "exception": false,
     "start_time": "2023-08-13T15:45:56.643851",
     "status": "completed"
    },
    "tags": []
   },
   "outputs": [],
   "source": [
    "# pos_vocab = get_common_vocab([pos_scores, pos_scores], ngram_range_list=[(1,1), (2,2), (3,3)])\n",
    "# print(len(pos_vocab))\n",
    "# # sorted(list(pos_vocab))"
   ]
  },
  {
   "cell_type": "code",
   "execution_count": 111,
   "id": "e1405d25",
   "metadata": {
    "execution": {
     "iopub.execute_input": "2023-08-13T15:45:56.896620Z",
     "iopub.status.busy": "2023-08-13T15:45:56.896219Z",
     "iopub.status.idle": "2023-08-13T15:45:56.900637Z",
     "shell.execute_reply": "2023-08-13T15:45:56.899526Z"
    },
    "papermill": {
     "duration": 0.088332,
     "end_time": "2023-08-13T15:45:56.902878",
     "exception": false,
     "start_time": "2023-08-13T15:45:56.814546",
     "status": "completed"
    },
    "tags": []
   },
   "outputs": [],
   "source": [
    "# print(len(get_vocab(pos_scores['reviewText'], ngram_range=(1,1))))\n",
    "# print(len(get_vocab(pos_scores['reviewText'], ngram_range=(2,2))))\n",
    "# print(len(get_vocab(pos_scores['reviewText'], ngram_range=(3,3))))"
   ]
  },
  {
   "cell_type": "code",
   "execution_count": 112,
   "id": "78026951",
   "metadata": {
    "execution": {
     "iopub.execute_input": "2023-08-13T15:45:57.066541Z",
     "iopub.status.busy": "2023-08-13T15:45:57.065905Z",
     "iopub.status.idle": "2023-08-13T15:45:57.071242Z",
     "shell.execute_reply": "2023-08-13T15:45:57.069949Z"
    },
    "papermill": {
     "duration": 0.088333,
     "end_time": "2023-08-13T15:45:57.073544",
     "exception": false,
     "start_time": "2023-08-13T15:45:56.985211",
     "status": "completed"
    },
    "tags": []
   },
   "outputs": [],
   "source": [
    "# neg_vocab = get_common_vocab([neg_scores, neg_scores], ngram_range_list=[(1,1), (2,2), (3,3)])\n",
    "# print(len(neg_vocab))\n",
    "# # sorted(list(neg_vocab))"
   ]
  },
  {
   "cell_type": "code",
   "execution_count": 113,
   "id": "27bdef10",
   "metadata": {
    "execution": {
     "iopub.execute_input": "2023-08-13T15:45:57.321832Z",
     "iopub.status.busy": "2023-08-13T15:45:57.321406Z",
     "iopub.status.idle": "2023-08-13T15:45:57.326137Z",
     "shell.execute_reply": "2023-08-13T15:45:57.324919Z"
    },
    "papermill": {
     "duration": 0.088601,
     "end_time": "2023-08-13T15:45:57.328396",
     "exception": false,
     "start_time": "2023-08-13T15:45:57.239795",
     "status": "completed"
    },
    "tags": []
   },
   "outputs": [],
   "source": [
    "# print(len(get_vocab(neg_scores['reviewText'], ngram_range=(1,1))))\n",
    "# print(len(get_vocab(neg_scores['reviewText'], ngram_range=(2,2))))\n",
    "# print(len(get_vocab(neg_scores['reviewText'], ngram_range=(3,3))))"
   ]
  },
  {
   "cell_type": "code",
   "execution_count": 114,
   "id": "672682ce",
   "metadata": {
    "execution": {
     "iopub.execute_input": "2023-08-13T15:45:57.492124Z",
     "iopub.status.busy": "2023-08-13T15:45:57.491668Z",
     "iopub.status.idle": "2023-08-13T15:45:57.496011Z",
     "shell.execute_reply": "2023-08-13T15:45:57.495139Z"
    },
    "papermill": {
     "duration": 0.088478,
     "end_time": "2023-08-13T15:45:57.498031",
     "exception": false,
     "start_time": "2023-08-13T15:45:57.409553",
     "status": "completed"
    },
    "tags": []
   },
   "outputs": [],
   "source": [
    "# len(pos_vocab), len(neg_vocab), len(pos_vocab - neg_vocab), len(neg_vocab - pos_vocab), len(pos_vocab & neg_vocab)"
   ]
  },
  {
   "cell_type": "markdown",
   "id": "74a20f98",
   "metadata": {
    "papermill": {
     "duration": 0.078174,
     "end_time": "2023-08-13T15:45:57.656760",
     "exception": false,
     "start_time": "2023-08-13T15:45:57.578586",
     "status": "completed"
    },
    "tags": []
   },
   "source": [
    "### Common pos, neg vocabs among train and test  "
   ]
  },
  {
   "cell_type": "code",
   "execution_count": 115,
   "id": "036a48ae",
   "metadata": {
    "execution": {
     "iopub.execute_input": "2023-08-13T15:45:57.819287Z",
     "iopub.status.busy": "2023-08-13T15:45:57.816942Z",
     "iopub.status.idle": "2023-08-13T15:45:57.822763Z",
     "shell.execute_reply": "2023-08-13T15:45:57.821911Z"
    },
    "papermill": {
     "duration": 0.090235,
     "end_time": "2023-08-13T15:45:57.824934",
     "exception": false,
     "start_time": "2023-08-13T15:45:57.734699",
     "status": "completed"
    },
    "tags": []
   },
   "outputs": [],
   "source": [
    "# len(common_1_2_3_grams & (pos_vocab - neg_vocab))"
   ]
  },
  {
   "cell_type": "code",
   "execution_count": 116,
   "id": "055f3018",
   "metadata": {
    "execution": {
     "iopub.execute_input": "2023-08-13T15:45:57.988734Z",
     "iopub.status.busy": "2023-08-13T15:45:57.987880Z",
     "iopub.status.idle": "2023-08-13T15:45:57.992891Z",
     "shell.execute_reply": "2023-08-13T15:45:57.991749Z"
    },
    "papermill": {
     "duration": 0.090656,
     "end_time": "2023-08-13T15:45:57.995733",
     "exception": false,
     "start_time": "2023-08-13T15:45:57.905077",
     "status": "completed"
    },
    "tags": []
   },
   "outputs": [],
   "source": [
    "# len(common_1_2_3_grams & (neg_vocab - pos_vocab))"
   ]
  },
  {
   "cell_type": "code",
   "execution_count": 117,
   "id": "e2c416c8",
   "metadata": {
    "execution": {
     "iopub.execute_input": "2023-08-13T15:45:58.158194Z",
     "iopub.status.busy": "2023-08-13T15:45:58.157352Z",
     "iopub.status.idle": "2023-08-13T15:45:58.165811Z",
     "shell.execute_reply": "2023-08-13T15:45:58.164914Z"
    },
    "papermill": {
     "duration": 0.09151,
     "end_time": "2023-08-13T15:45:58.168154",
     "exception": false,
     "start_time": "2023-08-13T15:45:58.076644",
     "status": "completed"
    },
    "tags": []
   },
   "outputs": [],
   "source": [
    "def audienceScore_vocab(df_list, scores=(57, 73), ngram_range_list=[(1,1), (2,2), (3,3)]):\n",
    "    train = df_list[0]\n",
    "    test = df_list[1]\n",
    "\n",
    "    lower_bound = scores[0]\n",
    "    upper_bound = scores[1]\n",
    "\n",
    "    common_ngrams = get_common_vocab([train, test], ngram_range_list=ngram_range_list)\n",
    "\n",
    "    pos_scores = train[['reviewText', 'sentiment']].loc[(train['audienceScore'] > upper_bound) & (train['sentiment'] == 'POSITIVE')].copy()\n",
    "    neg_scores = train[['reviewText', 'sentiment']].loc[(train['audienceScore'] < lower_bound) & (train['sentiment'] == 'NEGATIVE')].copy()\n",
    "\n",
    "    pos_vocab = get_common_vocab([pos_scores, pos_scores], ngram_range_list=ngram_range_list)\n",
    "    neg_vocab = get_common_vocab([neg_scores, neg_scores], ngram_range_list=ngram_range_list)\n",
    "\n",
    "    pure_common_pos = common_ngrams & (pos_vocab - neg_vocab)\n",
    "    pure_common_neg = common_ngrams & (neg_vocab - pos_vocab)\n",
    "\n",
    "    return pure_common_pos, pure_common_neg"
   ]
  },
  {
   "cell_type": "code",
   "execution_count": 118,
   "id": "bb2462ba",
   "metadata": {
    "execution": {
     "iopub.execute_input": "2023-08-13T15:45:58.335793Z",
     "iopub.status.busy": "2023-08-13T15:45:58.335164Z",
     "iopub.status.idle": "2023-08-13T15:45:58.339727Z",
     "shell.execute_reply": "2023-08-13T15:45:58.338754Z"
    },
    "papermill": {
     "duration": 0.092408,
     "end_time": "2023-08-13T15:45:58.341930",
     "exception": false,
     "start_time": "2023-08-13T15:45:58.249522",
     "status": "completed"
    },
    "tags": []
   },
   "outputs": [],
   "source": [
    "# pcp, pcn = audienceScore_vocab([merged, merged_test])\n",
    "# len(pcp), len(pcn)"
   ]
  },
  {
   "cell_type": "code",
   "execution_count": 119,
   "id": "19dbe99d",
   "metadata": {
    "execution": {
     "iopub.execute_input": "2023-08-13T15:45:58.516640Z",
     "iopub.status.busy": "2023-08-13T15:45:58.515638Z",
     "iopub.status.idle": "2023-08-13T15:45:58.520625Z",
     "shell.execute_reply": "2023-08-13T15:45:58.519566Z"
    },
    "papermill": {
     "duration": 0.094514,
     "end_time": "2023-08-13T15:45:58.523148",
     "exception": false,
     "start_time": "2023-08-13T15:45:58.428634",
     "status": "completed"
    },
    "tags": []
   },
   "outputs": [],
   "source": [
    "# pc = pcp | pcn\n",
    "# sorted(list(pc))"
   ]
  },
  {
   "cell_type": "markdown",
   "id": "c3004b6b",
   "metadata": {
    "papermill": {
     "duration": 0.086213,
     "end_time": "2023-08-13T15:45:58.691697",
     "exception": false,
     "start_time": "2023-08-13T15:45:58.605484",
     "status": "completed"
    },
    "tags": []
   },
   "source": [
    "# Submit_v5 for merged file models  "
   ]
  },
  {
   "cell_type": "markdown",
   "id": "5e4fd638",
   "metadata": {
    "papermill": {
     "duration": 0.081068,
     "end_time": "2023-08-13T15:45:58.861498",
     "exception": false,
     "start_time": "2023-08-13T15:45:58.780430",
     "status": "completed"
    },
    "tags": []
   },
   "source": [
    "### More Helper functions  "
   ]
  },
  {
   "cell_type": "code",
   "execution_count": 120,
   "id": "bf859b63",
   "metadata": {
    "execution": {
     "iopub.execute_input": "2023-08-13T15:45:59.025946Z",
     "iopub.status.busy": "2023-08-13T15:45:59.024911Z",
     "iopub.status.idle": "2023-08-13T15:45:59.033577Z",
     "shell.execute_reply": "2023-08-13T15:45:59.032453Z"
    },
    "papermill": {
     "duration": 0.095143,
     "end_time": "2023-08-13T15:45:59.036211",
     "exception": false,
     "start_time": "2023-08-13T15:45:58.941068",
     "status": "completed"
    },
    "tags": []
   },
   "outputs": [],
   "source": [
    "# Testing predictions on missing reviewtext columns  \n",
    "\n",
    "def predict_on_missing_review_data(pipe, selected_features, merged_train):\n",
    "    missing_reviews_train = merged_train.loc[merged_train['reviewYN'] == 1]\n",
    "    missing_reviews_train.reset_index(drop=True)\n",
    "    X_train_miss_revs = missing_reviews_train.drop('sentiment', axis = 1)\n",
    "    X_train_miss_revs = X_train_miss_revs[selected_features]\n",
    "    y_train_miss_revs = missing_reviews_train['sentiment']\n",
    "    \n",
    "    y_pred_miss_revs = pipe.predict(X_train_miss_revs)\n",
    "#     print('Predictions on rows which had missing reviewText')\n",
    "    print(\"Confusion matrix and f1-score for rows which have no reviewText in X_train: \")\n",
    "    print(confusion_matrix(y_train_miss_revs, y_pred_miss_revs, labels=pipe.classes_))\n",
    "    \n",
    "    return f1_score(y_train_miss_revs, y_pred_miss_revs, average='micro')"
   ]
  },
  {
   "cell_type": "code",
   "execution_count": 121,
   "id": "4ea7f7a4",
   "metadata": {
    "execution": {
     "iopub.execute_input": "2023-08-13T15:45:59.203985Z",
     "iopub.status.busy": "2023-08-13T15:45:59.203018Z",
     "iopub.status.idle": "2023-08-13T15:45:59.474568Z",
     "shell.execute_reply": "2023-08-13T15:45:59.473689Z"
    },
    "papermill": {
     "duration": 0.359356,
     "end_time": "2023-08-13T15:45:59.477114",
     "exception": false,
     "start_time": "2023-08-13T15:45:59.117758",
     "status": "completed"
    },
    "tags": []
   },
   "outputs": [],
   "source": [
    "# Function to build pipelines for GridSearchCV which goes into the final 'submit' function  \n",
    "def build_pipeline(selected_model=LogisticRegression(), \n",
    "                   selected_features={'txt': ['reviewText']}, \n",
    "                   param_grid=None,\n",
    "                   vocab=None,\n",
    "                   vocab_usage='tfidf',\n",
    "                   strip_accents='unicode', \n",
    "                   add_countvec=False,\n",
    "                   vocab_audscore=None,\n",
    "                  poly=True):\n",
    "    # Encoders  \n",
    "    ohe = OneHotEncoder(sparse_output=False, handle_unknown='ignore')\n",
    "    MMscaler = MinMaxScaler()\n",
    "    StdScaler = StandardScaler()\n",
    "    RobScaler = RobustScaler()\n",
    "    \n",
    "    # Categorical features\n",
    "    cat_pipe = Pipeline(steps=[\n",
    "                            (\"ohe\", ohe),\n",
    "                        ])\n",
    "    \n",
    "    # Numerical features\n",
    "    num_pipe = Pipeline(steps=[\n",
    "                            (\"robscaler\", RobustScaler()),\n",
    "                            (\"stdscaler\", StandardScaler())\n",
    "                        ])\n",
    "    num_pipe_poly = Pipeline(steps=[\n",
    "                            (\"robscaler\", RobustScaler()),\n",
    "                            (\"stdscaler\", StandardScaler()),\n",
    "                            (\"poly\", PolynomialFeatures(degree=2, interaction_only=True, include_bias=False))\n",
    "                        ])\n",
    "    \n",
    "    # Text features ['reviewText', 'reviewerName', 'movieid', 'genre', 'director']\n",
    "    tfidf_vec = TfidfVectorizer(ngram_range=(1,2))\n",
    "    count_vec = CountVectorizer(ngram_range=(1,2))\n",
    "    txt_pipe = Pipeline(steps=[\n",
    "                            (\"tvec\", TfidfVectorizer(ngram_range=(1,4), strip_accents=strip_accents))    # Adjust ngram_range here for reviewText\n",
    "                        ])\n",
    "    txt_pipe_vocab = Pipeline(steps=[\n",
    "                            (\"tvec\", TfidfVectorizer(ngram_range=(1,4), strip_accents=strip_accents, vocabulary=vocab))    # Adjust ngram_range here for reviewText\n",
    "                        ])\n",
    "    txt_pipe_2 = Pipeline(steps=[\n",
    "                            (\"tvec\", TfidfVectorizer(ngram_range=(2,2)))\n",
    "                        ])\n",
    "    txt_pipe_3 = Pipeline(steps=[\n",
    "                            (\"tvec\", TfidfVectorizer(ngram_range=(1,1)))\n",
    "                        ])\n",
    "    txt_pipe_4 = Pipeline(steps=[\n",
    "                            (\"tvec\", TfidfVectorizer(ngram_range=(1,3)))    # Adjust ngram_range here for reviewText\n",
    "                        ])\n",
    "    txt_pipe_title  = Pipeline(steps=[\n",
    "                            (\"tvec\", TfidfVectorizer(ngram_range=(1,5)))    # Adjust ngram_range here for reviewText\n",
    "                        ])\n",
    "    \n",
    "    # Additional pipes for count vectorizer\n",
    "    txt_pipe_countvec = Pipeline(steps=[\n",
    "                            (\"cvec\", CountVectorizer(ngram_range=(1,4), strip_accents=strip_accents))    # Adjust ngram_range here for reviewText\n",
    "                        ])\n",
    "    txt_pipe_countvec_vocab = Pipeline(steps=[\n",
    "                            (\"cvec\", CountVectorizer(ngram_range=(1,4), strip_accents=strip_accents, vocabulary=vocab))    # Adjust ngram_range here for reviewText\n",
    "                        ])\n",
    "    txt_pipe_countvec_vocab_audscore = Pipeline(steps=[\n",
    "                            (\"cvec\", CountVectorizer(ngram_range=(1,4), strip_accents=strip_accents, vocabulary=vocab_audscore))    # Adjust ngram_range here for reviewText\n",
    "                        ])\n",
    "    \n",
    "    txt_pipe_countvec_ratingContents = Pipeline(steps=[\n",
    "                            (\"cvec\", CountVectorizer(ngram_range=(1,5)))    # Adjust ngram_range here for reviewText\n",
    "                        ])\n",
    "    txt_pipe_countvec_rcSorted = Pipeline(steps=[\n",
    "                            (\"cvec\", CountVectorizer(ngram_range=(1,1)))    # Adjust ngram_range here for reviewText\n",
    "                        ])\n",
    "    txt_pipe_countvec_genre = Pipeline(steps=[\n",
    "                            (\"cvec\", CountVectorizer(ngram_range=(1,1)))\n",
    "                        ])\n",
    "    txt_pipe_countvec_genreSorted = Pipeline(steps=[\n",
    "                            (\"cvec\", CountVectorizer(ngram_range=(1,5)))\n",
    "                        ])\n",
    "    txt_pipe_countvec_distributor = Pipeline(steps=[\n",
    "                            (\"cvec\", CountVectorizer(ngram_range=(1,3)))    # Adjust ngram_range here for reviewText\n",
    "                        ])\n",
    "    txt_pipe_countvec_title = Pipeline(steps=[\n",
    "                            (\"cvec\", CountVectorizer(ngram_range=(1,5), strip_accents=strip_accents))\n",
    "                        ])\n",
    "    txt_pipe_countvec_movieid = Pipeline(steps=[\n",
    "                            (\"cvec\", CountVectorizer(ngram_range=(1,1)))\n",
    "                        ])\n",
    "    # Basic pipes  \n",
    "    TFs = []\n",
    "    try:\n",
    "        TFs.append((f\"cat\", ohe, selected_features['cat']))\n",
    "#         for c in selected_features['cat']:\n",
    "#             TFs.append((f\"cat_{c}\", ohe, [c]))\n",
    "    except:\n",
    "        pass\n",
    "    \n",
    "    try:\n",
    "        if poly:\n",
    "            TFs.append((f\"num\", num_pipe_poly, selected_features['num']))\n",
    "        else:\n",
    "            TFs.append((f\"num\", num_pipe, selected_features['num']))\n",
    "#             for n in selected_features['num']:\n",
    "#                 if n in [\"runtimeMinutes\", \"boxOffice\", \"releaseDiff\"]:\n",
    "#                     TFs.append((f\"num_{n}\", RobScaler, [n]))\n",
    "#                     TFs.append((f\"num_{n}_ss\", StdScaler, [n]))\n",
    "\n",
    "#                 else:\n",
    "#                     TFs.append((f\"num_{n}\", StdScaler, [n]))\n",
    "    except:\n",
    "        pass\n",
    "    \n",
    "    try:\n",
    "        for t in selected_features['txt']:\n",
    "            if t in ['director', 'reviewerName']:\n",
    "                TFs.append((f\"txt_{t}\", txt_pipe_2, t))\n",
    "            elif t in [\"originalLanguage\", \"releaseYear\"]:\n",
    "                TFs.append((f\"txt_{t}\", txt_pipe_3, t))\n",
    "            elif t in ['genre']:\n",
    "                TFs.append((f\"txt_{t}\", txt_pipe_countvec_genre, t))\n",
    "            elif t in [\"genreSorted\"]:\n",
    "                TFs.append((f\"txt_{t}\", txt_pipe_countvec_genreSorted, t))\n",
    "            elif t in [\"distributor\"]:\n",
    "                TFs.append((f\"txt_{t}\", txt_pipe_countvec_distributor, t))\n",
    "                \n",
    "            elif t in ['reviewText']:\n",
    "#                 if vocab and (vocab_usage in [\"tfidf\", \"both\"]):\n",
    "#                     txt_pipe.set_params(tvec__vocabulary=vocab)\n",
    "#                     txt_pipe.set_params(tvec__stop_words='english')\n",
    "                TFs.append((f\"txt_{t}\", txt_pipe, t))\n",
    "            elif t in ['reviewText_2']:\n",
    "                if add_countvec:\n",
    "#                     if vocab and (vocab_usage in [\"count\", \"both\"]):\n",
    "#                         txt_pipe_countvec.set_params(cvec__vocabulary=vocab)\n",
    "#                         txt_pipe_countvec.set_params(cvec__stop_words='english')\n",
    "                    TFs.append((f\"txt_{t}\", txt_pipe_countvec, t))\n",
    "            elif t in ['reviewText_3']:\n",
    "                if vocab_usage == 'tfidf':\n",
    "                    TFs.append((f\"txt_{t}\", txt_pipe_vocab, t))\n",
    "                elif vocab_usage == 'count':\n",
    "                    TFs.append((f\"txt_{t}\", txt_pipe_countvec_vocab, t))\n",
    "            elif t in ['reviewText_4']:\n",
    "                if vocab_audscore:                    \n",
    "                    TFs.append((f\"txt_{t}\", txt_pipe_countvec_vocab_audscore, t))\n",
    "                    \n",
    "            elif t in [\"ratingContents\"]:\n",
    "                TFs.append((f\"txt_{t}\", txt_pipe_countvec_ratingContents, t))\n",
    "            elif t in [\"rcSorted\"]:\n",
    "                TFs.append((f\"txt_{t}\", txt_pipe_countvec_rcSorted, t))\n",
    "            elif t in [\"title\"]:\n",
    "                TFs.append((f\"txt_{t}\", txt_pipe_title, t))\n",
    "            elif t in [\"movieid\"]:\n",
    "                TFs.append((f\"txt_{t}\", txt_pipe_countvec_movieid, t))\n",
    "            else:\n",
    "                pass\n",
    "    except:\n",
    "        pass\n",
    "\n",
    "    # Build ColumnTransformer  \n",
    "    ct = ColumnTransformer(transformers=TFs, remainder='drop')\n",
    "\n",
    "    # Build Pipeline\n",
    "    pipe = Pipeline(steps=[('ct', ct), ('model', selected_model)])\n",
    "    print(\"\\nPipeline built successfully.\")\n",
    "\n",
    "    # Use the pipe in GridSearchCV\n",
    "    if param_grid == None:\n",
    "        param_grid_temp = {\"model__C\": [1],\n",
    "                     'model__solver': ['liblinear']}\n",
    "        print(\"Full GridSearchCV pipeline built successfully with basic default param_grid.\\n\")\n",
    "        pipeCV = GridSearchCV(pipe, param_grid_temp, cv=10, scoring=\"f1_micro\", n_jobs=-1)\n",
    "        return pipeCV\n",
    "    \n",
    "    # GridSearchCV if param_grid provided\n",
    "    if param_grid:\n",
    "        pipeCV = GridSearchCV(pipe, param_grid, cv=10, scoring=\"f1_micro\", n_jobs=-1)\n",
    "        print(\"\\nFull GridSearchCV pipeline built successfully.\")\n",
    "        return pipeCV"
   ]
  },
  {
   "cell_type": "code",
   "execution_count": 122,
   "id": "0703333d",
   "metadata": {
    "execution": {
     "iopub.execute_input": "2023-08-13T15:45:59.646067Z",
     "iopub.status.busy": "2023-08-13T15:45:59.645111Z",
     "iopub.status.idle": "2023-08-13T15:45:59.660216Z",
     "shell.execute_reply": "2023-08-13T15:45:59.659166Z"
    },
    "papermill": {
     "duration": 0.105719,
     "end_time": "2023-08-13T15:45:59.662912",
     "exception": false,
     "start_time": "2023-08-13T15:45:59.557193",
     "status": "completed"
    },
    "tags": []
   },
   "outputs": [],
   "source": [
    "def preprocessor(imputer_type='simple'):\n",
    "    \n",
    "    \"\"\"Preprocess train or test data. Choose 'simple' or 'knn' imputers to impute missing numerical values\"\"\"\n",
    "    \n",
    "    # Set imputer  \n",
    "    if imputer_type == 'simple':\n",
    "        imputer = SimpleImputer(strategy='median')\n",
    "        print(imputer)\n",
    "    elif imputer_type == 'knn':\n",
    "        imputer = KNNImputer(weights='distance', n_neighbors=3)    # Adjust KNNImputer params here\n",
    "        print(imputer)\n",
    "\n",
    "\n",
    "    \n",
    "    # Merge and preprocess train and movies data  \n",
    "    merged = select_features(load_csv(\"train\"), load_csv(\"movies\"), row_thresh_null=None)    # Decide if you want to drop any rows containing lot of nulls\n",
    "    \n",
    "    # Impute missing numerical values  \n",
    "    merged[['audienceScore', 'runtimeMinutes', 'boxOffice']] = imputer.fit_transform(merged[['audienceScore', 'runtimeMinutes', 'boxOffice']])\n",
    "    merged['releaseDate'] = merged[\"releaseDate\"].fillna(merged[\"releaseDate\"].median())\n",
    "\n",
    "    # Create new feature columns\n",
    "    \n",
    "    # Convert audienceScore to categories  \n",
    "    num_bins_as = 20\n",
    "    merged[\"audScoreBins\"] = pd.cut(merged['audienceScore'], bins=num_bins_as, labels=False)\n",
    "\n",
    "    # Convert runtimeMinutes to categories  \n",
    "#     num_bins_rt = 20\n",
    "    merged[\"runtimeBins\"] = pd.cut(merged['runtimeMinutes'], bins=[0,75,120,180,565], labels=[4,3,2,1])\n",
    "    \n",
    "    # Convert boxOffice to categories  \n",
    "    num_bins_bo = 5\n",
    "    merged[\"boxOfficeBins\"] = pd.cut(merged['boxOffice'], bins=num_bins_bo, labels=False)\n",
    "    \n",
    "    # Convert releaseDiff to categories  \n",
    "    num_bins_rd = 5\n",
    "    merged[\"releaseDiffBins\"] = pd.cut(merged['releaseDiff'], bins=[-1, 180, 360, 1000, 40000], labels=[0, 1, 2, 3])\n",
    "    \n",
    "    # Check1 (preprocessor)\n",
    "    print(\"\\nCheck 1 (preprocessor) complete.\")\n",
    "    print(f\"Shape of X_train: {merged.shape}\")\n",
    "    print(f\"Features in X_train: {merged.columns}\")\n",
    "\n",
    "\n",
    "    \n",
    "    # Merge and preprocess test and movies data  \n",
    "    merged_test = select_features(load_csv(\"test\"), load_csv(\"movies\"))\n",
    "    \n",
    "    # Transform ['audienceScore', 'runtimeMinutes', 'boxOffice'] columns in merged_test using 'imputer' fitted on 'merged' df  \n",
    "    merged_test[['audienceScore', 'runtimeMinutes', 'boxOffice']] = imputer.transform(merged_test[['audienceScore', 'runtimeMinutes', 'boxOffice']])\n",
    "    \n",
    "    # Fill 'releaseDate' column in 'merged_test' df with median from the train (merged) df  \n",
    "    merged_test['releaseDate'] = merged_test[\"releaseDate\"].fillna(merged[\"releaseDate\"].median())\n",
    "\n",
    "    \n",
    "    # Create new feature columns\n",
    "    \n",
    "    # Convert audienceScore to categories  \n",
    "    num_bins_as = 20\n",
    "    merged_test[\"audScoreBins\"] = pd.cut(merged_test['audienceScore'], bins=num_bins_as, labels=False)\n",
    "    \n",
    "    # Convert runtimeMinutes to categories  \n",
    "#     num_bins_rt = 20\n",
    "    merged_test[\"runtimeBins\"] = pd.cut(merged_test['runtimeMinutes'], bins=[0,75,120,180,565], labels=[4,3,2,1])\n",
    "    \n",
    "    # Convert boxOffice to categories  \n",
    "    num_bins_bo = 5\n",
    "    merged_test[\"boxOfficeBins\"] = pd.cut(merged_test['boxOffice'], bins=num_bins_bo, labels=False)\n",
    "    \n",
    "    # Convert releaseDiff to categories  \n",
    "    num_bins_rd = 5\n",
    "    merged_test[\"releaseDiffBins\"] = pd.cut(merged_test['releaseDiff'], bins=[-1, 180, 360, 1000, 40000], labels=[0, 1, 2, 3])\n",
    "    \n",
    "    \n",
    "    # Check2 (preprocessor)\n",
    "    print(\"\\nCheck 2 (preprocessor) complete.\")\n",
    "    print(f\"Shape of X_test: {merged_test.shape}\")\n",
    "    print(f\"Features in X_test: {merged_test.columns}\")\n",
    "\n",
    "    return merged, merged_test\n",
    "    "
   ]
  },
  {
   "cell_type": "code",
   "execution_count": 123,
   "id": "65655de5",
   "metadata": {
    "execution": {
     "iopub.execute_input": "2023-08-13T15:45:59.846669Z",
     "iopub.status.busy": "2023-08-13T15:45:59.845835Z",
     "iopub.status.idle": "2023-08-13T15:45:59.850646Z",
     "shell.execute_reply": "2023-08-13T15:45:59.849603Z"
    },
    "papermill": {
     "duration": 0.090974,
     "end_time": "2023-08-13T15:45:59.853043",
     "exception": false,
     "start_time": "2023-08-13T15:45:59.762069",
     "status": "completed"
    },
    "tags": []
   },
   "outputs": [],
   "source": [
    "# merged, merged_test = preprocessor()\n",
    "# merged.shape, merged_test.shape"
   ]
  },
  {
   "cell_type": "code",
   "execution_count": 124,
   "id": "0f38207d",
   "metadata": {
    "execution": {
     "iopub.execute_input": "2023-08-13T15:46:00.017425Z",
     "iopub.status.busy": "2023-08-13T15:46:00.016639Z",
     "iopub.status.idle": "2023-08-13T15:46:00.031017Z",
     "shell.execute_reply": "2023-08-13T15:46:00.030102Z"
    },
    "papermill": {
     "duration": 0.100554,
     "end_time": "2023-08-13T15:46:00.033474",
     "exception": false,
     "start_time": "2023-08-13T15:45:59.932920",
     "status": "completed"
    },
    "tags": []
   },
   "outputs": [],
   "source": [
    "def voting_clf_custom(estimators: list, merged, merged_test):\n",
    "    print(f\"\\nRunning the voting_clf_custom function...\")\n",
    "    print(f\"\\nNumber of estimator pipelines provided: {len(estimators)}\")\n",
    "       \n",
    "    # Create X_train, y_train\n",
    "    X_train = merged.drop(labels=\"sentiment\", axis=1)\n",
    "    y_train = merged[\"sentiment\"]\n",
    "    print(f\"\\nX_train and y_train created.\")\n",
    "    print(f\"Shape of X_train: { X_train.shape}\")\n",
    "    print(f\"Columns in X_train: {X_train.columns}\")\n",
    "    print(f\"\\nShape of y_train: { y_train.shape}\")\n",
    "    print(f\"Inspect y_train: {y_train.head()}\")\n",
    "    \n",
    "    # Create X_test\n",
    "    X_test = merged_test.copy()\n",
    "    print(f\"\\nX_test created.\")\n",
    "    print(f\"Shape of X_test: { X_test.shape}\")\n",
    "    print(f\"Columns in X_test: {X_test.columns}\")\n",
    "\n",
    "    \n",
    "    # Create a list for estimators after fitting  \n",
    "    fitted_estimators = []\n",
    "    \n",
    "    # Build a dataframe of predictions  \n",
    "    predictions_df = pd.DataFrame()\n",
    "    \n",
    "    for n, item in enumerate(estimators, start=1):\n",
    "        \n",
    "        # Get the pipeline\n",
    "        pipe = item[1]\n",
    "        \n",
    "        # Fit \n",
    "        print(f\"\\nTraining started with full pipeline for classifier #{n}/{len(estimators)}...\")\n",
    "#         print(f\"Features included in the pipeline: {pipe.feature_names_in_}\")      # Gives an error\n",
    "        pipe.fit(X_train, y_train)\n",
    "        \n",
    "\n",
    "        # Check1\n",
    "        print(f\"\\nCheck #{n}.1 complete.\")\n",
    "        print(f\"Details of the best model using classifier #{n} (GridSearchCV) on X_train: \")\n",
    "        print(f\"Best Params: {pipe.best_params_}\")\n",
    "        print(f\"Best Score: {pipe.best_score_}\")\n",
    "        \n",
    "#         print(predict_on_missing_review_data(pipe, features, merged))    # Function defined above\n",
    "        \n",
    "        fitted_estimators.append((f\"classifier_{n}\", pipe))\n",
    "        print(f\"\\nclassifier_{n} successfully added to 'fitted_estimators' list\")\n",
    "\n",
    "        \n",
    "        # Predict on train data \n",
    "        y_train_pred = pipe.predict(X_train)\n",
    "        print(f\"\\nConfusion matrix for predictions on training data: \")\n",
    "        print(confusion_matrix(y_train, y_train_pred))\n",
    "        f1_train = f1_score(y_train, y_train_pred, average=\"micro\")\n",
    "        print(f\"F1-score on training data: {f1_train}\")\n",
    "        \n",
    "        \n",
    "#         # Predict on test.csv file\n",
    "#         # Add new columns as needed \n",
    "#         if add_countvec:\n",
    "#             merged_test['reviewText_2'] = merged_test['reviewText']\n",
    "#         if vocab:\n",
    "#             merged_test['reviewText_3'] = merged_test['reviewText']\n",
    "#         if vocab_audscore:\n",
    "#             merged_test['reviewText_4'] = merged_test['reviewText']\n",
    "        \n",
    "               \n",
    "#         X_test = merged_test[features].copy()\n",
    "\n",
    "    \n",
    "        y_pred = pipe.predict(X_test)\n",
    "        \n",
    "        # Insert predictions in 'predictions_df' dataframe\n",
    "        predictions_df.insert(n-1, f\"pred_{n}\", y_pred, allow_duplicates=False)\n",
    "        print(predictions_df.shape)\n",
    "        print(predictions_df.head(10))\n",
    "        \n",
    "    \n",
    "        # Check2\n",
    "        print(f\"\\nCheck #{n}.2 complete.\")\n",
    "    #     cv_results_df = pd.DataFrame(pipe.cv_results_)\n",
    "        print(\"Details of the best model using full pipeline (GridSearchCV) on X_train: \")\n",
    "#         print(f\"Best Estimator: {pipe.best_estimator_}\")\n",
    "        print(f\"Best Params: {pipe.best_params_}\")\n",
    "        print(f\"Best Score: {pipe.best_score_}\")\n",
    "#         print(f\"Best Index: {pipe.best_index_}\")\n",
    "        print(f\"Refit Time: {pipe.refit_time_}\")\n",
    "    #     print(f\"Shape of CV results dataframe: {cv_results_df.shape}\")\n",
    "    \n",
    "    \n",
    "    # Voting classifier (custom) with hard voting\n",
    "    # Calculate the MODE for all predictions (Note that the 'predictions_df' generated above should have odd number of columns)\n",
    "    print(f\"\\nTaking votes from all the classifiers/estimators...\")\n",
    "    pred_df_final = predictions_df.mode('columns').iloc[: , 0]\n",
    "    pred_df_final.columns = [\"sentiment\"]\n",
    "    pred_df_final.index.name = \"id\"\n",
    "    pred_df_final.to_csv(\"submission.csv\")\n",
    "    \n",
    "    print(\"\\nSuccessfully created the submission file!!!\")\n",
    "    \n",
    "#     return pipe.cv_results_\n",
    "    return pred_df_final, fitted_estimators"
   ]
  },
  {
   "cell_type": "code",
   "execution_count": 125,
   "id": "54da5218",
   "metadata": {
    "execution": {
     "iopub.execute_input": "2023-08-13T15:46:00.199046Z",
     "iopub.status.busy": "2023-08-13T15:46:00.198256Z",
     "iopub.status.idle": "2023-08-13T15:46:00.208375Z",
     "shell.execute_reply": "2023-08-13T15:46:00.207297Z"
    },
    "papermill": {
     "duration": 0.097332,
     "end_time": "2023-08-13T15:46:00.210973",
     "exception": false,
     "start_time": "2023-08-13T15:46:00.113641",
     "status": "completed"
    },
    "tags": []
   },
   "outputs": [],
   "source": [
    "def  stacking_clf(estimators: list, merged, merged_test):\n",
    "    print(f\"\\nRunning the stacking_clf function...\")\n",
    "    print(f\"\\nNumber of estimator pipelines provided: {len(estimators)}\")\n",
    "    \n",
    "    # Create X_train, y_train\n",
    "    X_train = merged.drop(labels=\"sentiment\", axis=1)\n",
    "    y_train = merged[\"sentiment\"]\n",
    "    print(f\"\\nX_train and y_train created.\")\n",
    "    print(f\"Shape of X_train: { X_train.shape}\")\n",
    "    print(f\"Columns in X_train: {X_train.columns}\")\n",
    "    print(f\"\\nShape of y_train: { y_train.shape}\")\n",
    "    print(f\"Inspect y_train: {y_train.head()}\")\n",
    "    \n",
    "    # Create X_test\n",
    "    X_test = merged_test.copy()\n",
    "    print(f\"\\nX_test created.\")\n",
    "    print(f\"Shape of X_test: { X_test.shape}\")\n",
    "    print(f\"Columns in X_test: {X_test.columns}\")\n",
    "    \n",
    "    # Build the stacking classifier\n",
    "    stacking_classifier = StackingClassifier(estimators=estimators, \n",
    "                                             final_estimator=LogisticRegression(),\n",
    "                                             cv=5,\n",
    "                                             stack_method = 'auto',\n",
    "                                             passthrough = False,\n",
    "                                            verbose = 10,  # Control how many messages are displayed\n",
    "                                            n_jobs = 1)    \n",
    "    print(f\"\\nstacking_classifier object created.\")\n",
    "    print(stacking_classifier)\n",
    "    \n",
    "    # Fit the stacking classifer\n",
    "    print(f\"\\nstacking_classifier has begun training. Be patient, this can take a long time...\")\n",
    "    stacking_classifier.fit(X_train, y_train)\n",
    "    \n",
    "    # Predict on X_test\n",
    "    y_pred = stacking_classifier.predict(X_test)\n",
    "    \n",
    "    # Create 'submission.csv' file\n",
    "    pred_df = pd.DataFrame(y_pred)\n",
    "    pred_df.columns = [\"sentiment\"]\n",
    "    pred_df.index.name = \"id\"\n",
    "    pred_df.to_csv(\"submission.csv\")\n",
    "    \n",
    "    print(\"\\nSuccessfully created the submission file!!!\")\n",
    "    \n",
    "    return pred_df, stacking_classifier"
   ]
  },
  {
   "cell_type": "code",
   "execution_count": 126,
   "id": "c90723f9",
   "metadata": {
    "execution": {
     "iopub.execute_input": "2023-08-13T15:46:00.372081Z",
     "iopub.status.busy": "2023-08-13T15:46:00.371313Z",
     "iopub.status.idle": "2023-08-13T15:46:00.396606Z",
     "shell.execute_reply": "2023-08-13T15:46:00.395621Z"
    },
    "papermill": {
     "duration": 0.109032,
     "end_time": "2023-08-13T15:46:00.399204",
     "exception": false,
     "start_time": "2023-08-13T15:46:00.290172",
     "status": "completed"
    },
    "tags": []
   },
   "outputs": [],
   "source": [
    "def submit_v5(classifiers= [\n",
    "                {'selected_model' : LogisticRegression(C=1, solver='saga', max_iter=100000),\n",
    "                 'param_grid' : None,\n",
    "                 'selected_features' : {'num': ['audienceScore']},\n",
    "                 'vocab' : None,\n",
    "                 'vocab_usage' : 'tfidf',\n",
    "                 'strip_accents' : 'unicode',\n",
    "                 'add_countvec' : False,\n",
    "                'vocab_audscore' : None}\n",
    "              ], \n",
    "            imputer_type='simple',\n",
    "              poly=True,\n",
    "              ensemble_type='voting_custom'\n",
    "            ):\n",
    "    \n",
    "    \"\"\"Takes a list of dictionaries each with same keys as mentioned in the default dictionary in function definition\"\"\"\n",
    "    \n",
    "    print(\"\\nRunning the submit_v5 function...\")\n",
    "    \n",
    "    print(f\"\\nData preprocessor initiated...\")\n",
    "    \n",
    "    imputer_type = imputer_type\n",
    "    print(f\"\\nImputer for missing numerical values: {imputer_type}\")\n",
    "    print(f\"Imputing missing values. (This could take a while if it is KNNImputer)\")\n",
    "    \n",
    "    merged, merged_test = preprocessor(imputer_type=imputer_type)\n",
    "    print(f\"\\nPreprocessing of train and test datasets complete.\")\n",
    "    \n",
    "    # Build vocabulary (if vocab is True)\n",
    "    ngram_range_vocab = (1,4)\n",
    "    ngram_range_vocab_list = [(1,1), (2,2), (3,3), (4,4)]\n",
    "    \n",
    "    vocab = None\n",
    "    vocab_audscore = None\n",
    "    for item in classifiers:\n",
    "        if item['vocab']:\n",
    "            vocab = True\n",
    "        if item['vocab_audscore']:\n",
    "            vocab_audscore = item['vocab_audscore']\n",
    "    \n",
    "    if vocab == True:\n",
    "        # Generate and store the entire vocabulary of training data  \n",
    "        print(f\"\\nGenerating vocabulary of entire training data...\")\n",
    "        train_ngrams = get_vocab(merged['reviewText'], ngram_range=ngram_range_vocab)\n",
    "        print(f\"Size of vocabulary of training data: {len(train_ngrams)}\")\n",
    "        # sorted(train_ngrams)\n",
    "\n",
    "        # Generate common vocabulary specific for this project data  \n",
    "        print(f\"\\nGenerating common vocabulary specific for this project data...\")\n",
    "        common_ngrams = get_common_vocab([merged, merged_test], ngram_range_list=ngram_range_vocab_list)\n",
    "        print(f\"Size of common vocabulary: {len(common_ngrams)}\")\n",
    "\n",
    "        # Get the speficic stop words that should be used in the final models  \n",
    "        print(f\"\\nGetting specific stop words for this project...\")\n",
    "        stop_words_specific = list(train_ngrams - common_ngrams)\n",
    "        print(f\"Size of 'stop_words_specific' generated: {len(stop_words_specific)}\")\n",
    "    else:\n",
    "        pass\n",
    "    \n",
    "    if vocab_audscore:\n",
    "        pure_common_pos, pure_common_neg = audienceScore_vocab([merged, merged_test], \n",
    "                                                               scores=(57, 73), \n",
    "                                                               ngram_range_list=ngram_range_vocab_list)\n",
    "        pure_common = pure_common_pos | pure_common_neg\n",
    "        print(f\"\\nSize of 'pure_common' vocabulary genrated: {len(pure_common)}\")\n",
    "    \n",
    "    \n",
    "    # Create a list to store estimators  \n",
    "    estimators = []     # List of tuples of the form ('classifier_name', 'classifer_instance')\n",
    "    \n",
    "#     # Build a dataframe of predictions  \n",
    "#     predictions_df = pd.DataFrame()\n",
    "    \n",
    "    # Build a separate pipeline and fit it on selected features (and param_grid) for each item in classifiers list\n",
    "    for n, item in enumerate(classifiers, start=1):\n",
    "        selected_model = item['selected_model']\n",
    "        selected_features = item['selected_features']\n",
    "        param_grid = item['param_grid']\n",
    "        vocab = item['vocab']\n",
    "        vocab_usage = item['vocab_usage']\n",
    "        strip_accents = item['strip_accents']\n",
    "        add_countvec = item['add_countvec']\n",
    "    \n",
    "    \n",
    "        # Fine tune selected_features\n",
    "        if add_countvec:\n",
    "            if 'txt' in selected_features.keys():\n",
    "                if \"reviewText_2\" not in selected_features['txt']:\n",
    "                    selected_features['txt'].append('reviewText_2')\n",
    "        if vocab:\n",
    "            if 'txt' in selected_features.keys():\n",
    "                if \"reviewText_3\" not in selected_features['txt']:\n",
    "                    selected_features['txt'].append('reviewText_3')\n",
    "        else:\n",
    "            print(f\"No vocabulary provided/used for this model.\")\n",
    "            \n",
    "        print(f\"\\nSelected features: {selected_features}\")\n",
    "        \n",
    "        if type(vocab) in [type([1, 2]), type({1, 2})]:\n",
    "            vocab = vocab\n",
    "            print(f\"Size of 'vocab' provided: {len(vocab)}\")\n",
    "        elif vocab == True:\n",
    "            vocab = common_ngrams    # Choose vocabulary here\n",
    "            print(f\"Size of 'vocab' generated by submit_v5: {len(vocab)}\")\n",
    "\n",
    "            \n",
    "        if vocab_audscore:\n",
    "            if 'txt' in selected_features.keys():\n",
    "                if \"reviewText_4\" not in selected_features['txt']:\n",
    "                    selected_features['txt'].append('reviewText_4')\n",
    "        else:\n",
    "            print(f\"No vocabulary based on audienceScore provided/used for this model.\")\n",
    "        if vocab_audscore:\n",
    "            vocab_audscore = pure_common\n",
    "            print(f\"Size of 'vocab_audscore' generated by submit_v5: {len(vocab_audscore)}\")\n",
    "            \n",
    "            \n",
    "        print(f\"\\nSelected features: {selected_features}\")\n",
    "\n",
    "        # Modify X_train for the given 'item' by creating a custom 'features' list\n",
    "        features = []\n",
    "        for item in selected_features.values():\n",
    "            features.extend(item)\n",
    "            \n",
    "        # Add new columns as needed  \n",
    "        if add_countvec:\n",
    "            merged['reviewText_2'] = merged['reviewText']\n",
    "        if vocab:\n",
    "            merged['reviewText_3'] = merged['reviewText']\n",
    "        if vocab_audscore:\n",
    "            merged['reviewText_4'] = merged['reviewText']\n",
    "        \n",
    "        # Create X_train, y_train\n",
    "        X_train = merged.drop(labels=\"sentiment\", axis=1)\n",
    "        y_train = merged[\"sentiment\"]\n",
    "        \n",
    "        X_train = merged[features].copy()\n",
    "        \n",
    "        # Create X_test\n",
    "        # Add new columns as needed \n",
    "        if add_countvec:\n",
    "            merged_test['reviewText_2'] = merged_test['reviewText']\n",
    "        if vocab:\n",
    "            merged_test['reviewText_3'] = merged_test['reviewText']\n",
    "        if vocab_audscore:\n",
    "            merged_test['reviewText_4'] = merged_test['reviewText']\n",
    "        \n",
    "        X_test = merged_test[features].copy()\n",
    "\n",
    "\n",
    "        # Build Pipeline\n",
    "        pipe = build_pipeline(selected_model, selected_features, param_grid=param_grid, \n",
    "                              vocab=vocab, vocab_usage='tfidf', \n",
    "                              strip_accents=strip_accents, add_countvec=add_countvec,\n",
    "                             poly=poly, vocab_audscore=vocab_audscore)\n",
    "        print(pipe)\n",
    "        \n",
    "        estimators.append((f\"classifier_{n}\", pipe))\n",
    "        print(f\"\\nclassifier_{n} successfully added to 'estimators' list\")\n",
    "    \n",
    "    # Choose the appropriate ensemble method for the 'ensemble_type' provided\n",
    "    if ensemble_type == 'voting_custom':\n",
    "        print(f\"\\nCalling function: 'voting_clf_custom'\")\n",
    "        pred_df_final, fitted_estimators = voting_clf_custom(estimators, merged, merged_test)\n",
    "        return pred_df_final, fitted_estimators\n",
    "    elif ensemble_type == 'stacking':\n",
    "        print(f\"\\nCalling function: 'stacking_clf'\")\n",
    "        pred_df, stacking_classifier = stacking_clf(estimators, merged, merged_test)\n",
    "        return pred_df, stacking_classifier\n",
    "        \n",
    "        \n",
    "#         # Fit \n",
    "#         print(f\"\\nTraining started with full pipeline for classifier #{n}/{len(classifiers)}...\")\n",
    "#         pipe.fit(X_train, y_train)\n",
    "        \n",
    "\n",
    "#         # Check1\n",
    "#         print(f\"\\nCheck #{n}.1 complete.\")\n",
    "#         print(f\"Details of the best model using classifier #{n} (GridSearchCV) on X_train: \")\n",
    "#         print(f\"Best Params: {pipe.best_params_}\")\n",
    "#         print(f\"Best Score: {pipe.best_score_}\")\n",
    "        \n",
    "#         print(predict_on_missing_review_data(pipe, features, merged))    # Function defined above\n",
    "        \n",
    "#         estimators.append((f\"classifier_{n}\", pipe))\n",
    "#         print(f\"classifier_{n} successfully added to 'estimators' list\")\n",
    "\n",
    "        \n",
    "#         # Predict on train data \n",
    "#         y_train_pred = pipe.predict(X_train)\n",
    "#         print(f\"Confusion matrix for predictions on training data: \")\n",
    "#         print(confusion_matrix(y_train, y_train_pred))\n",
    "#         f1_train = f1_score(y_train, y_train_pred, average=\"micro\")\n",
    "#         print(f\"F1-score on training data: {f1_train}\")\n",
    "        \n",
    "        \n",
    "# #         # Predict on test.csv file\n",
    "# #         # Add new columns as needed \n",
    "# #         if add_countvec:\n",
    "# #             merged_test['reviewText_2'] = merged_test['reviewText']\n",
    "# #         if vocab:\n",
    "# #             merged_test['reviewText_3'] = merged_test['reviewText']\n",
    "# #         if vocab_audscore:\n",
    "# #             merged_test['reviewText_4'] = merged_test['reviewText']\n",
    "        \n",
    "               \n",
    "# #         X_test = merged_test[features].copy()\n",
    "\n",
    "    \n",
    "#         y_pred = pipe.predict(X_test)\n",
    "        \n",
    "#         # Insert predictions in 'predictions_df' dataframe\n",
    "#         predictions_df.insert(n-1, f\"pred_{n}\", y_pred, allow_duplicates=False)\n",
    "#         print(predictions_df.shape)\n",
    "#         print(predictions_df.head(10))\n",
    "        \n",
    "    \n",
    "#         # Check2\n",
    "#         print(f\"\\nCheck #{n}.2 complete.\")\n",
    "#     #     cv_results_df = pd.DataFrame(pipe.cv_results_)\n",
    "#         print(\"Details of the best model using full pipeline (GridSearchCV) on X_train: \")\n",
    "# #         print(f\"Best Estimator: {pipe.best_estimator_}\")\n",
    "#         print(f\"Best Params: {pipe.best_params_}\")\n",
    "#         print(f\"Best Score: {pipe.best_score_}\")\n",
    "# #         print(f\"Best Index: {pipe.best_index_}\")\n",
    "#         print(f\"Refit Time: {pipe.refit_time_}\")\n",
    "#     #     print(f\"Shape of CV results dataframe: {cv_results_df.shape}\")\n",
    "    \n",
    "#     # Voting classifier (custom) with hard voting\n",
    "#     # Calculate the MODE for all predictions (Note that the 'predictions_df' generated above should have odd number of columns)\n",
    "#     pred_df_final = predictions_df.mode('columns')\n",
    "#     pred_df_final.columns = [\"sentiment\"]\n",
    "#     pred_df_final.index.name = \"id\"\n",
    "#     pred_df_final.to_csv(\"submission.csv\")\n",
    "    \n",
    "#     print(\"\\nSuccessfully created the submission file!!!\")\n",
    "    \n",
    "# #     return pipe.cv_results_\n",
    "#     return pred_df_final, estimators"
   ]
  },
  {
   "cell_type": "markdown",
   "id": "74903f31",
   "metadata": {
    "papermill": {
     "duration": 0.077683,
     "end_time": "2023-08-13T15:46:00.556609",
     "exception": false,
     "start_time": "2023-08-13T15:46:00.478926",
     "status": "completed"
    },
    "tags": []
   },
   "source": [
    "# Use 'submit_v5' function  "
   ]
  },
  {
   "cell_type": "code",
   "execution_count": 127,
   "id": "1a5804a0",
   "metadata": {
    "execution": {
     "iopub.execute_input": "2023-08-13T15:46:00.719536Z",
     "iopub.status.busy": "2023-08-13T15:46:00.718748Z",
     "iopub.status.idle": "2023-08-13T15:46:00.723451Z",
     "shell.execute_reply": "2023-08-13T15:46:00.722563Z"
    },
    "papermill": {
     "duration": 0.088794,
     "end_time": "2023-08-13T15:46:00.725696",
     "exception": false,
     "start_time": "2023-08-13T15:46:00.636902",
     "status": "completed"
    },
    "tags": []
   },
   "outputs": [],
   "source": [
    "# Try submit_v5 with default settings\n",
    "# submit_v5()"
   ]
  },
  {
   "cell_type": "code",
   "execution_count": 128,
   "id": "d52507c8",
   "metadata": {
    "execution": {
     "iopub.execute_input": "2023-08-13T15:46:00.888277Z",
     "iopub.status.busy": "2023-08-13T15:46:00.887838Z",
     "iopub.status.idle": "2023-08-13T18:38:27.145951Z",
     "shell.execute_reply": "2023-08-13T18:38:27.144356Z"
    },
    "papermill": {
     "duration": 10346.349743,
     "end_time": "2023-08-13T18:38:27.156423",
     "exception": false,
     "start_time": "2023-08-13T15:46:00.806680",
     "status": "completed"
    },
    "tags": []
   },
   "outputs": [
    {
     "name": "stdout",
     "output_type": "stream",
     "text": [
      "\n",
      "Running the submit_v5 function...\n",
      "\n",
      "Data preprocessor initiated...\n",
      "\n",
      "Imputer for missing numerical values: knn\n",
      "Imputing missing values. (This could take a while if it is KNNImputer)\n",
      "KNNImputer(n_neighbors=3, weights='distance')\n",
      "\n",
      "Check 1 (preprocessor) complete.\n",
      "Shape of X_train: (162758, 30)\n",
      "Features in X_train: Index(['movieid', 'reviewerName', 'isFrequentReviewer', 'reviewText',\n",
      "       'sentiment', 'title', 'audienceScore', 'rating', 'ratingContents',\n",
      "       'releaseDateTheaters', 'releaseDateStreaming', 'runtimeMinutes',\n",
      "       'genre', 'originalLanguage', 'director', 'boxOffice', 'distributor',\n",
      "       'soundType', 'reviewYN', 'reviewWC', 'genreSorted', 'rcSorted',\n",
      "       'releaseDate', 'releaseYear', 'releaseMonth', 'releaseDiff',\n",
      "       'audScoreBins', 'runtimeBins', 'boxOfficeBins', 'releaseDiffBins'],\n",
      "      dtype='object')\n",
      "\n",
      "Check 2 (preprocessor) complete.\n",
      "Shape of X_test: (55315, 29)\n",
      "Features in X_test: Index(['movieid', 'reviewerName', 'isFrequentReviewer', 'reviewText', 'title',\n",
      "       'audienceScore', 'rating', 'ratingContents', 'releaseDateTheaters',\n",
      "       'releaseDateStreaming', 'runtimeMinutes', 'genre', 'originalLanguage',\n",
      "       'director', 'boxOffice', 'distributor', 'soundType', 'reviewYN',\n",
      "       'reviewWC', 'genreSorted', 'rcSorted', 'releaseDate', 'releaseYear',\n",
      "       'releaseMonth', 'releaseDiff', 'audScoreBins', 'runtimeBins',\n",
      "       'boxOfficeBins', 'releaseDiffBins'],\n",
      "      dtype='object')\n",
      "\n",
      "Preprocessing of train and test datasets complete.\n",
      "\n",
      "Generating vocabulary of entire training data...\n",
      "Size of vocabulary of training data: 3916361\n",
      "\n",
      "Generating common vocabulary specific for this project data...\n",
      "Common vocabulary for ngram-range (1, 1): 35498\n",
      "\n",
      "Common vocabulary for ngram-range (2, 2): 112530\n",
      "\n",
      "Common vocabulary for ngram-range (3, 3): 22631\n",
      "\n",
      "Common vocabulary for ngram-range (4, 4): 7336\n",
      "\n",
      "Size of the common vocabulary generated is: 177995\n",
      "Size of common vocabulary: 177995\n",
      "\n",
      "Getting specific stop words for this project...\n",
      "Size of 'stop_words_specific' generated: 3738366\n",
      "Common vocabulary for ngram-range (1, 1): 35498\n",
      "\n",
      "Common vocabulary for ngram-range (2, 2): 112530\n",
      "\n",
      "Common vocabulary for ngram-range (3, 3): 22631\n",
      "\n",
      "Common vocabulary for ngram-range (4, 4): 7336\n",
      "\n",
      "Size of the common vocabulary generated is: 177995\n",
      "Common vocabulary for ngram-range (1, 1): 39254\n",
      "\n",
      "Common vocabulary for ngram-range (2, 2): 418168\n",
      "\n",
      "Common vocabulary for ngram-range (3, 3): 478650\n",
      "\n",
      "Common vocabulary for ngram-range (4, 4): 438241\n",
      "\n",
      "Size of the common vocabulary generated is: 1374313\n",
      "Common vocabulary for ngram-range (1, 1): 29530\n",
      "\n",
      "Common vocabulary for ngram-range (2, 2): 208463\n",
      "\n",
      "Common vocabulary for ngram-range (3, 3): 223076\n",
      "\n",
      "Common vocabulary for ngram-range (4, 4): 201038\n",
      "\n",
      "Size of the common vocabulary generated is: 662107\n",
      "\n",
      "Size of 'pure_common' vocabulary genrated: 88482\n",
      "\n",
      "Selected features: {'cat': ['isFrequentReviewer'], 'num': ['audienceScore', 'boxOffice', 'releaseDiff'], 'txt': ['reviewText', 'reviewerName', 'movieid', 'genre', 'director', 'ratingContents', 'distributor', 'reviewText_2', 'reviewText_3']}\n",
      "Size of 'vocab' generated by submit_v5: 177995\n",
      "Size of 'vocab_audscore' generated by submit_v5: 88482\n",
      "\n",
      "Selected features: {'cat': ['isFrequentReviewer'], 'num': ['audienceScore', 'boxOffice', 'releaseDiff'], 'txt': ['reviewText', 'reviewerName', 'movieid', 'genre', 'director', 'ratingContents', 'distributor', 'reviewText_2', 'reviewText_3', 'reviewText_4']}\n",
      "\n",
      "Pipeline built successfully.\n",
      "\n",
      "Full GridSearchCV pipeline built successfully.\n",
      "GridSearchCV(cv=10,\n",
      "             estimator=Pipeline(steps=[('ct',\n",
      "                                        ColumnTransformer(transformers=[('cat',\n",
      "                                                                         OneHotEncoder(handle_unknown='ignore',\n",
      "                                                                                       sparse_output=False),\n",
      "                                                                         ['isFrequentReviewer']),\n",
      "                                                                        ('num',\n",
      "                                                                         Pipeline(steps=[('robscaler',\n",
      "                                                                                          RobustScaler()),\n",
      "                                                                                         ('stdscaler',\n",
      "                                                                                          StandardScaler()),\n",
      "                                                                                         ('poly',\n",
      "                                                                                          PolynomialFeatures(include_bias=False,\n",
      "                                                                                                             interaction_only=True))]),\n",
      "                                                                         ['audienceScore',\n",
      "                                                                          'boxO...\n",
      "                                                                                                                      'abbie',\n",
      "                                                                                                                      'abbott '\n",
      "                                                                                                                      'costello '\n",
      "                                                                                                                      'meet',\n",
      "                                                                                                                      'abbott '\n",
      "                                                                                                                      'costello '\n",
      "                                                                                                                      'meet '\n",
      "                                                                                                                      'frankenstein',\n",
      "                                                                                                                      'abc '\n",
      "                                                                                                                      'africa',\n",
      "                                                                                                                      'abc '\n",
      "                                                                                                                      'afterschool',\n",
      "                                                                                                                      'abdomen',\n",
      "                                                                                                                      'abdul '\n",
      "                                                                                                                      'mateen',\n",
      "                                                                                                                      'abdul '\n",
      "                                                                                                                      'mateen '\n",
      "                                                                                                                      'ii', ...}))]),\n",
      "                                                                         'reviewText_4')])),\n",
      "                                       ('model',\n",
      "                                        SGDClassifier(loss='modified_huber',\n",
      "                                                      max_iter=1000000,\n",
      "                                                      n_iter_no_change=100,\n",
      "                                                      n_jobs=-1,\n",
      "                                                      tol=0.0001))]),\n",
      "             n_jobs=-1, param_grid={'model__alpha': [0.0001]},\n",
      "             scoring='f1_micro')\n",
      "\n",
      "classifier_1 successfully added to 'estimators' list\n",
      "\n",
      "Selected features: {'cat': ['isFrequentReviewer', 'audScoreBins', 'boxOfficeBins'], 'num': ['releaseDiff'], 'txt': ['reviewText', 'reviewerName', 'movieid', 'genre', 'director', 'ratingContents', 'distributor', 'reviewText_2', 'reviewText_3']}\n",
      "Size of 'vocab' generated by submit_v5: 177995\n",
      "Size of 'vocab_audscore' generated by submit_v5: 88482\n",
      "\n",
      "Selected features: {'cat': ['isFrequentReviewer', 'audScoreBins', 'boxOfficeBins'], 'num': ['releaseDiff'], 'txt': ['reviewText', 'reviewerName', 'movieid', 'genre', 'director', 'ratingContents', 'distributor', 'reviewText_2', 'reviewText_3', 'reviewText_4']}\n",
      "\n",
      "Pipeline built successfully.\n",
      "\n",
      "Full GridSearchCV pipeline built successfully.\n",
      "GridSearchCV(cv=10,\n",
      "             estimator=Pipeline(steps=[('ct',\n",
      "                                        ColumnTransformer(transformers=[('cat',\n",
      "                                                                         OneHotEncoder(handle_unknown='ignore',\n",
      "                                                                                       sparse_output=False),\n",
      "                                                                         ['isFrequentReviewer',\n",
      "                                                                          'audScoreBins',\n",
      "                                                                          'boxOfficeBins']),\n",
      "                                                                        ('num',\n",
      "                                                                         Pipeline(steps=[('robscaler',\n",
      "                                                                                          RobustScaler()),\n",
      "                                                                                         ('stdscaler',\n",
      "                                                                                          StandardScaler()),\n",
      "                                                                                         ('poly',\n",
      "                                                                                          PolynomialFeatures(include_bias=False,\n",
      "                                                                                                             interaction_only=...\n",
      "                                                                                                                      'movie',\n",
      "                                                                                                                      'abbie',\n",
      "                                                                                                                      'abbott '\n",
      "                                                                                                                      'costello '\n",
      "                                                                                                                      'meet',\n",
      "                                                                                                                      'abbott '\n",
      "                                                                                                                      'costello '\n",
      "                                                                                                                      'meet '\n",
      "                                                                                                                      'frankenstein',\n",
      "                                                                                                                      'abc '\n",
      "                                                                                                                      'africa',\n",
      "                                                                                                                      'abc '\n",
      "                                                                                                                      'afterschool',\n",
      "                                                                                                                      'abdomen',\n",
      "                                                                                                                      'abdul '\n",
      "                                                                                                                      'mateen',\n",
      "                                                                                                                      'abdul '\n",
      "                                                                                                                      'mateen '\n",
      "                                                                                                                      'ii', ...}))]),\n",
      "                                                                         'reviewText_4')])),\n",
      "                                       ('model',\n",
      "                                        SGDClassifier(loss='log_loss',\n",
      "                                                      max_iter=1000000,\n",
      "                                                      n_iter_no_change=100,\n",
      "                                                      n_jobs=-1,\n",
      "                                                      tol=0.0001))]),\n",
      "             n_jobs=-1, param_grid={'model__alpha': [0.0001]},\n",
      "             scoring='f1_micro')\n",
      "\n",
      "classifier_2 successfully added to 'estimators' list\n",
      "\n",
      "Calling function: 'stacking_clf'\n",
      "\n",
      "Running the stacking_clf function...\n",
      "\n",
      "Number of estimator pipelines provided: 2\n",
      "\n",
      "X_train and y_train created.\n",
      "Shape of X_train: (162758, 32)\n",
      "Columns in X_train: Index(['movieid', 'reviewerName', 'isFrequentReviewer', 'reviewText', 'title',\n",
      "       'audienceScore', 'rating', 'ratingContents', 'releaseDateTheaters',\n",
      "       'releaseDateStreaming', 'runtimeMinutes', 'genre', 'originalLanguage',\n",
      "       'director', 'boxOffice', 'distributor', 'soundType', 'reviewYN',\n",
      "       'reviewWC', 'genreSorted', 'rcSorted', 'releaseDate', 'releaseYear',\n",
      "       'releaseMonth', 'releaseDiff', 'audScoreBins', 'runtimeBins',\n",
      "       'boxOfficeBins', 'releaseDiffBins', 'reviewText_2', 'reviewText_3',\n",
      "       'reviewText_4'],\n",
      "      dtype='object')\n",
      "\n",
      "Shape of y_train: (162758,)\n",
      "Inspect y_train: 0    POSITIVE\n",
      "1    NEGATIVE\n",
      "2    POSITIVE\n",
      "3    POSITIVE\n",
      "4    POSITIVE\n",
      "Name: sentiment, dtype: object\n",
      "\n",
      "X_test created.\n",
      "Shape of X_test: (55315, 32)\n",
      "Columns in X_test: Index(['movieid', 'reviewerName', 'isFrequentReviewer', 'reviewText', 'title',\n",
      "       'audienceScore', 'rating', 'ratingContents', 'releaseDateTheaters',\n",
      "       'releaseDateStreaming', 'runtimeMinutes', 'genre', 'originalLanguage',\n",
      "       'director', 'boxOffice', 'distributor', 'soundType', 'reviewYN',\n",
      "       'reviewWC', 'genreSorted', 'rcSorted', 'releaseDate', 'releaseYear',\n",
      "       'releaseMonth', 'releaseDiff', 'audScoreBins', 'runtimeBins',\n",
      "       'boxOfficeBins', 'releaseDiffBins', 'reviewText_2', 'reviewText_3',\n",
      "       'reviewText_4'],\n",
      "      dtype='object')\n",
      "\n",
      "stacking_classifier object created.\n",
      "StackingClassifier(cv=5,\n",
      "                   estimators=[('classifier_1',\n",
      "                                GridSearchCV(cv=10,\n",
      "                                             estimator=Pipeline(steps=[('ct',\n",
      "                                                                        ColumnTransformer(transformers=[('cat',\n",
      "                                                                                                         OneHotEncoder(handle_unknown='ignore',\n",
      "                                                                                                                       sparse_output=False),\n",
      "                                                                                                         ['isFrequentReviewer']),\n",
      "                                                                                                        ('num',\n",
      "                                                                                                         Pipeline(steps=[('robscaler',\n",
      "                                                                                                                          RobustScaler()),\n",
      "                                                                                                                         ('stdscaler',\n",
      "                                                                                                                          StandardScaler()),\n",
      "                                                                                                                         ('poly',\n",
      "                                                                                                                          PolynomialFeatures(include_bias=Fa...\n",
      "                                                                                                                                                      'frankenstein',\n",
      "                                                                                                                                                      'abc '\n",
      "                                                                                                                                                      'africa',\n",
      "                                                                                                                                                      'abc '\n",
      "                                                                                                                                                      'afterschool',\n",
      "                                                                                                                                                      'abdomen',\n",
      "                                                                                                                                                      'abdul '\n",
      "                                                                                                                                                      'mateen',\n",
      "                                                                                                                                                      'abdul '\n",
      "                                                                                                                                                      'mateen '\n",
      "                                                                                                                                                      'ii', ...}))]),\n",
      "                                                                                                         'reviewText_4')])),\n",
      "                                                                       ('model',\n",
      "                                                                        SGDClassifier(loss='log_loss',\n",
      "                                                                                      max_iter=1000000,\n",
      "                                                                                      n_iter_no_change=100,\n",
      "                                                                                      n_jobs=-1,\n",
      "                                                                                      tol=0.0001))]),\n",
      "                                             n_jobs=-1,\n",
      "                                             param_grid={'model__alpha': [0.0001]},\n",
      "                                             scoring='f1_micro'))],\n",
      "                   final_estimator=LogisticRegression(), n_jobs=1, verbose=10)\n",
      "\n",
      "stacking_classifier has begun training. Be patient, this can take a long time...\n"
     ]
    },
    {
     "name": "stderr",
     "output_type": "stream",
     "text": [
      "[Parallel(n_jobs=1)]: Using backend SequentialBackend with 1 concurrent workers.\n",
      "[Parallel(n_jobs=1)]: Done   1 out of   1 | elapsed: 12.0min remaining:    0.0s\n",
      "[Parallel(n_jobs=1)]: Done   2 out of   2 | elapsed: 23.6min remaining:    0.0s\n",
      "[Parallel(n_jobs=1)]: Done   3 out of   3 | elapsed: 35.4min remaining:    0.0s\n",
      "/opt/conda/lib/python3.10/site-packages/joblib/externals/loky/process_executor.py:700: UserWarning: A worker stopped while some jobs were given to the executor. This can be caused by a too short worker timeout or by a memory leak.\n",
      "  warnings.warn(\n",
      "[Parallel(n_jobs=1)]: Done   4 out of   4 | elapsed: 47.2min remaining:    0.0s\n",
      "[Parallel(n_jobs=1)]: Done   5 out of   5 | elapsed: 58.8min remaining:    0.0s\n",
      "[Parallel(n_jobs=1)]: Done   5 out of   5 | elapsed: 58.8min finished\n",
      "[Parallel(n_jobs=1)]: Using backend SequentialBackend with 1 concurrent workers.\n",
      "[Parallel(n_jobs=1)]: Done   1 out of   1 | elapsed: 12.7min remaining:    0.0s\n",
      "[Parallel(n_jobs=1)]: Done   2 out of   2 | elapsed: 25.5min remaining:    0.0s\n",
      "[Parallel(n_jobs=1)]: Done   3 out of   3 | elapsed: 38.7min remaining:    0.0s\n",
      "[Parallel(n_jobs=1)]: Done   4 out of   4 | elapsed: 52.0min remaining:    0.0s\n",
      "[Parallel(n_jobs=1)]: Done   5 out of   5 | elapsed: 65.1min remaining:    0.0s\n",
      "[Parallel(n_jobs=1)]: Done   5 out of   5 | elapsed: 65.2min finished\n"
     ]
    },
    {
     "name": "stdout",
     "output_type": "stream",
     "text": [
      "\n",
      "Successfully created the submission file!!!\n"
     ]
    },
    {
     "data": {
      "text/plain": [
       "(55315, 1)"
      ]
     },
     "execution_count": 128,
     "metadata": {},
     "output_type": "execute_result"
    }
   ],
   "source": [
    "# Testing ONE classfier using submit_v5 function  \n",
    "\n",
    "# Feature dictionaries\n",
    "sfs = {'cat': ['isFrequentReviewer', 'rating'],\n",
    "       'num': [\"audienceScore\", \"runtimeMinutes\", \"boxOffice\", 'releaseDiff']}\n",
    "\n",
    "sf_best = {'cat': ['isFrequentReviewer'],\n",
    "            'num': [\"audienceScore\", \"boxOffice\", 'releaseDiff'],\n",
    "            'txt': ['reviewText', 'reviewerName', 'movieid', 'genre', 'director', \n",
    "                         'ratingContents', 'distributor']}\n",
    "\n",
    "alt_text = {'txt': ['reviewerName', 'movieid', 'genre', 'director', \n",
    "                         'ratingContents', 'distributor']}\n",
    "\n",
    "v88_dict = {'cat': ['isFrequentReviewer', 'audScoreBins', 'boxOfficeBins'],\n",
    "            'num': ['releaseDiff'],\n",
    "            'txt': ['reviewText', 'reviewerName', 'movieid', 'genre', 'director', \n",
    "                         'ratingContents', 'distributor']}\n",
    "\n",
    "# SGDClassifier hyperparameters  \n",
    "# \"model__loss\": ['hinge', 'log_loss', 'modified_huber', \n",
    "#                                                   'squared_hinge', 'perceptron', \n",
    "#                                                   'squared_error', 'huber', \n",
    "#                                                   'epsilon_insensitive', 'squared_epsilon_insensitive']\n",
    "\n",
    "# 'param_grid' : {\"model__alpha\": [0.0001], \n",
    "#                   'model__tol': [0.0001],\n",
    "#                   \"model__penalty\": [\"l2\"],\n",
    "#                   \"model__n_iter_no_change\": [100],\n",
    "#                  }\n",
    "\n",
    "# Best models \n",
    "# For sf_best features\n",
    "#                 {'selected_model' : SGDClassifier(loss='hinge', \n",
    "#                                      max_iter=1000000,\n",
    "#                                      alpha = 0.0001,\n",
    "#                                      tol = 0.0001,\n",
    "#                                      penalty = \"l2\",\n",
    "#                                      n_iter_no_change = 100,\n",
    "#                                      n_jobs = -1), \n",
    "#                   'selected_features' : sf_best, \n",
    "#                   'param_grid' : {\"model__alpha\": [ 0.0001]},\n",
    "#                   'vocab' : True,\n",
    "#                   'vocab_usage' : 'tfidf',\n",
    "#                   'strip_accents' : 'unicode', \n",
    "#                   'add_countvec' : True},\n",
    "\n",
    "# For sfs features\n",
    "#                 {'selected_model' : RandomForestClassifier(n_jobs = -1), \n",
    "#                   'selected_features' : sfs, \n",
    "#                   'param_grid': {'model__n_estimators': [100]},\n",
    "#                   'vocab' : None,\n",
    "#                   'vocab_usage' : 'tfidf',\n",
    "#                   'strip_accents' : 'unicode', \n",
    "#                   'add_countvec' : False}\n",
    "\n",
    "# Best SGD classifer (with params)  \n",
    "sgdc_modhuber = SGDClassifier(loss='modified_huber', \n",
    "                     max_iter=1000000,\n",
    "                     alpha = 0.0001,\n",
    "                     tol = 0.0001,\n",
    "                     penalty = \"l2\",\n",
    "                     n_iter_no_change = 100,\n",
    "                     n_jobs = -1)\n",
    "\n",
    "sgdc_logloss = SGDClassifier(loss='log_loss', \n",
    "                     max_iter=1000000,\n",
    "                     alpha = 0.0001,\n",
    "                     tol = 0.0001,\n",
    "                     penalty = \"l2\",\n",
    "                     n_iter_no_change = 100,\n",
    "                     n_jobs = -1)\n",
    "\n",
    "# Classifiers\n",
    "classifiers= [   \n",
    "                {'selected_model' : sgdc_modhuber, \n",
    "                  'selected_features' : sf_best, \n",
    "                  'param_grid' : {\"model__alpha\": [0.0001]},\n",
    "                  'vocab' : True,\n",
    "                  'vocab_usage' : 'tfidf',\n",
    "                  'strip_accents' : 'unicode', \n",
    "                  'add_countvec' : True,\n",
    "                    'vocab_audscore' : True},\n",
    "    \n",
    "                {'selected_model' : sgdc_logloss, \n",
    "                  'selected_features' : v88_dict, \n",
    "                  'param_grid' : {\"model__alpha\": [0.0001]},\n",
    "                  'vocab' : True,\n",
    "                  'vocab_usage' : 'tfidf',\n",
    "                  'strip_accents' : 'unicode', \n",
    "                  'add_countvec' : True,\n",
    "                    'vocab_audscore' : True}\n",
    "                \n",
    "#                 {'selected_model' : RandomForestClassifier(n_jobs = -1), \n",
    "#                   'selected_features' : sfs, \n",
    "#                   'param_grid': {'model__n_estimators': [100]},\n",
    "#                   'vocab' : None,\n",
    "#                   'vocab_usage' : 'tfidf',\n",
    "#                   'strip_accents' : 'unicode', \n",
    "#                   'add_countvec' : False,\n",
    "#                     'vocab_audscore' : False}\n",
    "            ]\n",
    "\n",
    "# classifiers= [\n",
    "#                 {'selected_model' : LogisticRegression(C=1, solver='saga', max_iter=100000), \n",
    "#                   'selected_features' : {'txt': [\"reviewText\"]}, \n",
    "#                   'param_grid' : {\"model__C\": [1], \n",
    "#                                   'model__solver': ['saga']},\n",
    "#                   'vocab' : None,\n",
    "#                   'vocab_usage' : 'tfidf',\n",
    "#                   'strip_accents' : 'unicode', \n",
    "#                   'add_countvec' : False},\n",
    "#             ]\n",
    "\n",
    "pred_df, estimators = submit_v5(classifiers=classifiers, imputer_type='knn', poly=True, ensemble_type='stacking')\n",
    "\n",
    "pred_df.shape"
   ]
  },
  {
   "cell_type": "code",
   "execution_count": 129,
   "id": "f535fe33",
   "metadata": {
    "execution": {
     "iopub.execute_input": "2023-08-13T18:38:27.320436Z",
     "iopub.status.busy": "2023-08-13T18:38:27.319948Z",
     "iopub.status.idle": "2023-08-13T18:38:27.329464Z",
     "shell.execute_reply": "2023-08-13T18:38:27.328438Z"
    },
    "papermill": {
     "duration": 0.095682,
     "end_time": "2023-08-13T18:38:27.331592",
     "exception": false,
     "start_time": "2023-08-13T18:38:27.235910",
     "status": "completed"
    },
    "tags": []
   },
   "outputs": [
    {
     "name": "stdout",
     "output_type": "stream",
     "text": [
      "(55315, 1)\n",
      "   sentiment\n",
      "id          \n",
      "0   POSITIVE\n",
      "1   POSITIVE\n",
      "2   POSITIVE\n",
      "3   POSITIVE\n",
      "4   POSITIVE\n"
     ]
    }
   ],
   "source": [
    "print(pred_df.shape)\n",
    "print(pred_df.head())"
   ]
  },
  {
   "cell_type": "code",
   "execution_count": 130,
   "id": "e576dc4a",
   "metadata": {
    "execution": {
     "iopub.execute_input": "2023-08-13T18:38:27.495331Z",
     "iopub.status.busy": "2023-08-13T18:38:27.494935Z",
     "iopub.status.idle": "2023-08-13T18:38:27.499469Z",
     "shell.execute_reply": "2023-08-13T18:38:27.498382Z"
    },
    "papermill": {
     "duration": 0.089521,
     "end_time": "2023-08-13T18:38:27.501329",
     "exception": false,
     "start_time": "2023-08-13T18:38:27.411808",
     "status": "completed"
    },
    "tags": []
   },
   "outputs": [],
   "source": [
    "# estimators"
   ]
  },
  {
   "cell_type": "code",
   "execution_count": 131,
   "id": "dd391d51",
   "metadata": {
    "execution": {
     "iopub.execute_input": "2023-08-13T18:38:27.662492Z",
     "iopub.status.busy": "2023-08-13T18:38:27.662114Z",
     "iopub.status.idle": "2023-08-13T18:38:27.665975Z",
     "shell.execute_reply": "2023-08-13T18:38:27.665169Z"
    },
    "papermill": {
     "duration": 0.087152,
     "end_time": "2023-08-13T18:38:27.667840",
     "exception": false,
     "start_time": "2023-08-13T18:38:27.580688",
     "status": "completed"
    },
    "tags": []
   },
   "outputs": [],
   "source": [
    "# print(f\"Number of estimators: {len(estimators)}\\n\")\n",
    "# for est in estimators:\n",
    "#     print(f\"Estimator: {est[0]}\")\n",
    "# #     print(est[1].best_estimator_)\n",
    "#     print(est[1].best_params_)\n",
    "#     print(est[1].best_score_)\n",
    "#     print(est[1].refit_time_)\n",
    "#     print()"
   ]
  },
  {
   "cell_type": "code",
   "execution_count": 132,
   "id": "52c3910d",
   "metadata": {
    "execution": {
     "iopub.execute_input": "2023-08-13T18:38:27.829047Z",
     "iopub.status.busy": "2023-08-13T18:38:27.828333Z",
     "iopub.status.idle": "2023-08-13T18:38:27.833944Z",
     "shell.execute_reply": "2023-08-13T18:38:27.833071Z"
    },
    "papermill": {
     "duration": 0.088706,
     "end_time": "2023-08-13T18:38:27.835974",
     "exception": false,
     "start_time": "2023-08-13T18:38:27.747268",
     "status": "completed"
    },
    "tags": []
   },
   "outputs": [],
   "source": [
    "# Testing full capabilites of submit_v5  \n",
    "\n",
    "# # Feature dictionaries\n",
    "# sf1 = {'cat': ['isFrequentReviewer', 'rating'],\n",
    "#        'num': [\"audienceScore\", \"runtimeMinutes\", \"boxOffice\"]}\n",
    "\n",
    "# sf2 = {'cat': ['isFrequentReviewer', 'rating'],\n",
    "#        'num': [\"audienceScore\", \"runtimeMinutes\", \"boxOffice\"]}\n",
    "\n",
    "# sf3 = {'cat': ['isFrequentReviewer'],\n",
    "#         'num': ['releaseDiff', 'audienceScore', 'boxOffice'],\n",
    "#         'txt': ['reviewText', 'reviewerName', 'movieid', 'genre', 'director', \n",
    "#                          'ratingContents', 'distributor']}\n",
    "\n",
    "# # Individual classifiers\n",
    "# clf1 =  {'selected_model' : AdaBoostClassifier(), \n",
    "#           'selected_features' : sf1, \n",
    "#           'param_grid' : {\"model__n_estimators\": [50]},\n",
    "#           'vocab' : None,\n",
    "#           'vocab_usage' : 'tfidf',\n",
    "#           'strip_accents' : 'unicode', \n",
    "#           'add_countvec' : False}\n",
    "\n",
    "# clf2 =  {'selected_model' : RandomForestClassifier(), \n",
    "#           'selected_features' : sf2,\n",
    "#           'param_grid' : {\"model__n_estimators\": [50], \n",
    "#                           'model__criterion': ['gini']},\n",
    "#           'vocab' : None,\n",
    "#           'vocab_usage' : 'tfidf',\n",
    "#           'strip_accents' : 'unicode', \n",
    "#           'add_countvec' : False}\n",
    "\n",
    "# clf3 =  {'selected_model' : LogisticRegression(C=1, solver='saga', max_iter=100000), \n",
    "#           'selected_features' : sf3, \n",
    "#           'param_grid' : {'model__C' : [1],\n",
    "#                             'model__solver': ['saga'],\n",
    "#                             \"model__fit_intercept\" : [True],\n",
    "#                             \"model__dual\" : [False]},\n",
    "#           'vocab' : None,\n",
    "#           'vocab_usage' : 'tfidf',\n",
    "#           'strip_accents' : 'unicode', \n",
    "#           'add_countvec' : True}\n",
    "\n",
    "\n",
    "# # List of classifiers for voting\n",
    "# classifiers= [clf1, clf2, clf3]\n",
    "\n",
    "# # Final predictions \n",
    "# pred_df = submit_v5(classifiers=classifiers)"
   ]
  },
  {
   "cell_type": "code",
   "execution_count": 133,
   "id": "f69132bd",
   "metadata": {
    "execution": {
     "iopub.execute_input": "2023-08-13T18:38:28.000164Z",
     "iopub.status.busy": "2023-08-13T18:38:27.999560Z",
     "iopub.status.idle": "2023-08-13T18:38:28.011191Z",
     "shell.execute_reply": "2023-08-13T18:38:28.010448Z"
    },
    "papermill": {
     "duration": 0.095911,
     "end_time": "2023-08-13T18:38:28.012987",
     "exception": false,
     "start_time": "2023-08-13T18:38:27.917076",
     "status": "completed"
    },
    "tags": []
   },
   "outputs": [
    {
     "name": "stdout",
     "output_type": "stream",
     "text": [
      "(55315, 1)\n"
     ]
    },
    {
     "data": {
      "text/html": [
       "<div>\n",
       "<style scoped>\n",
       "    .dataframe tbody tr th:only-of-type {\n",
       "        vertical-align: middle;\n",
       "    }\n",
       "\n",
       "    .dataframe tbody tr th {\n",
       "        vertical-align: top;\n",
       "    }\n",
       "\n",
       "    .dataframe thead th {\n",
       "        text-align: right;\n",
       "    }\n",
       "</style>\n",
       "<table border=\"1\" class=\"dataframe\">\n",
       "  <thead>\n",
       "    <tr style=\"text-align: right;\">\n",
       "      <th></th>\n",
       "      <th>sentiment</th>\n",
       "    </tr>\n",
       "    <tr>\n",
       "      <th>id</th>\n",
       "      <th></th>\n",
       "    </tr>\n",
       "  </thead>\n",
       "  <tbody>\n",
       "    <tr>\n",
       "      <th>0</th>\n",
       "      <td>POSITIVE</td>\n",
       "    </tr>\n",
       "    <tr>\n",
       "      <th>1</th>\n",
       "      <td>POSITIVE</td>\n",
       "    </tr>\n",
       "    <tr>\n",
       "      <th>2</th>\n",
       "      <td>POSITIVE</td>\n",
       "    </tr>\n",
       "    <tr>\n",
       "      <th>3</th>\n",
       "      <td>POSITIVE</td>\n",
       "    </tr>\n",
       "    <tr>\n",
       "      <th>4</th>\n",
       "      <td>POSITIVE</td>\n",
       "    </tr>\n",
       "    <tr>\n",
       "      <th>...</th>\n",
       "      <td>...</td>\n",
       "    </tr>\n",
       "    <tr>\n",
       "      <th>55310</th>\n",
       "      <td>POSITIVE</td>\n",
       "    </tr>\n",
       "    <tr>\n",
       "      <th>55311</th>\n",
       "      <td>NEGATIVE</td>\n",
       "    </tr>\n",
       "    <tr>\n",
       "      <th>55312</th>\n",
       "      <td>NEGATIVE</td>\n",
       "    </tr>\n",
       "    <tr>\n",
       "      <th>55313</th>\n",
       "      <td>POSITIVE</td>\n",
       "    </tr>\n",
       "    <tr>\n",
       "      <th>55314</th>\n",
       "      <td>NEGATIVE</td>\n",
       "    </tr>\n",
       "  </tbody>\n",
       "</table>\n",
       "<p>55315 rows × 1 columns</p>\n",
       "</div>"
      ],
      "text/plain": [
       "      sentiment\n",
       "id             \n",
       "0      POSITIVE\n",
       "1      POSITIVE\n",
       "2      POSITIVE\n",
       "3      POSITIVE\n",
       "4      POSITIVE\n",
       "...         ...\n",
       "55310  POSITIVE\n",
       "55311  NEGATIVE\n",
       "55312  NEGATIVE\n",
       "55313  POSITIVE\n",
       "55314  NEGATIVE\n",
       "\n",
       "[55315 rows x 1 columns]"
      ]
     },
     "execution_count": 133,
     "metadata": {},
     "output_type": "execute_result"
    }
   ],
   "source": [
    "print(pred_df.shape)\n",
    "pred_df"
   ]
  },
  {
   "cell_type": "code",
   "execution_count": 134,
   "id": "94e6107b",
   "metadata": {
    "execution": {
     "iopub.execute_input": "2023-08-13T18:38:28.176283Z",
     "iopub.status.busy": "2023-08-13T18:38:28.175681Z",
     "iopub.status.idle": "2023-08-13T18:38:28.179539Z",
     "shell.execute_reply": "2023-08-13T18:38:28.178570Z"
    },
    "papermill": {
     "duration": 0.088741,
     "end_time": "2023-08-13T18:38:28.181417",
     "exception": false,
     "start_time": "2023-08-13T18:38:28.092676",
     "status": "completed"
    },
    "tags": []
   },
   "outputs": [],
   "source": [
    "# pred_df_mode = pred_df.mode(axis='columns')\n",
    "# print(pred_df_mode.shape)\n",
    "# pred_df_mode"
   ]
  },
  {
   "cell_type": "code",
   "execution_count": 135,
   "id": "0732638d",
   "metadata": {
    "execution": {
     "iopub.execute_input": "2023-08-13T18:38:28.343567Z",
     "iopub.status.busy": "2023-08-13T18:38:28.342905Z",
     "iopub.status.idle": "2023-08-13T18:38:28.360346Z",
     "shell.execute_reply": "2023-08-13T18:38:28.359404Z"
    },
    "papermill": {
     "duration": 0.10034,
     "end_time": "2023-08-13T18:38:28.362330",
     "exception": false,
     "start_time": "2023-08-13T18:38:28.261990",
     "status": "completed"
    },
    "tags": []
   },
   "outputs": [
    {
     "data": {
      "text/plain": [
       "sentiment\n",
       "POSITIVE     39213\n",
       "NEGATIVE     16102\n",
       "dtype: int64"
      ]
     },
     "execution_count": 135,
     "metadata": {},
     "output_type": "execute_result"
    }
   ],
   "source": [
    "pred_df.value_counts()"
   ]
  },
  {
   "cell_type": "markdown",
   "id": "a874246b",
   "metadata": {
    "papermill": {
     "duration": 0.080255,
     "end_time": "2023-08-13T18:38:28.521683",
     "exception": false,
     "start_time": "2023-08-13T18:38:28.441428",
     "status": "completed"
    },
    "tags": []
   },
   "source": [
    "# NOTE: Move submit_v4 submissions below the suubmit_v4 function  "
   ]
  },
  {
   "cell_type": "code",
   "execution_count": 136,
   "id": "6ebbc72c",
   "metadata": {
    "execution": {
     "iopub.execute_input": "2023-08-13T18:38:28.681718Z",
     "iopub.status.busy": "2023-08-13T18:38:28.681342Z",
     "iopub.status.idle": "2023-08-13T18:38:28.685700Z",
     "shell.execute_reply": "2023-08-13T18:38:28.684725Z"
    },
    "papermill": {
     "duration": 0.086819,
     "end_time": "2023-08-13T18:38:28.687573",
     "exception": false,
     "start_time": "2023-08-13T18:38:28.600754",
     "status": "completed"
    },
    "tags": []
   },
   "outputs": [],
   "source": [
    "# Try 'submit_v4' function with default params (LogisticRegression model)  \n",
    "\n",
    "# submit_v4()\n",
    "\n",
    "#Default params to this function gave a score of 0.8259 - improvement over previous score of 0.82563!"
   ]
  },
  {
   "cell_type": "code",
   "execution_count": 137,
   "id": "2fdc3471",
   "metadata": {
    "execution": {
     "iopub.execute_input": "2023-08-13T18:38:28.850142Z",
     "iopub.status.busy": "2023-08-13T18:38:28.849203Z",
     "iopub.status.idle": "2023-08-13T18:38:28.854330Z",
     "shell.execute_reply": "2023-08-13T18:38:28.853298Z"
    },
    "papermill": {
     "duration": 0.08809,
     "end_time": "2023-08-13T18:38:28.856497",
     "exception": false,
     "start_time": "2023-08-13T18:38:28.768407",
     "status": "completed"
    },
    "tags": []
   },
   "outputs": [],
   "source": [
    "# Try out GridSearchCV on \"submit_v4\" function with param_grid  \n",
    "# param_grid = {\n",
    "#     \"model__C\": [0.1, 1, 5, 10]\n",
    "# }\n",
    "\n",
    "# submit_v4(selected_features={'txt': ['genre']}, param_grid=param_grid)"
   ]
  },
  {
   "cell_type": "markdown",
   "id": "e8f0ac8c",
   "metadata": {
    "papermill": {
     "duration": 0.081195,
     "end_time": "2023-08-13T18:38:29.017749",
     "exception": false,
     "start_time": "2023-08-13T18:38:28.936554",
     "status": "completed"
    },
    "tags": []
   },
   "source": [
    "### Try LinearSVC with GridSearchCV  "
   ]
  },
  {
   "cell_type": "code",
   "execution_count": 138,
   "id": "102046d9",
   "metadata": {
    "execution": {
     "iopub.execute_input": "2023-08-13T18:38:29.179929Z",
     "iopub.status.busy": "2023-08-13T18:38:29.179473Z",
     "iopub.status.idle": "2023-08-13T18:38:29.184676Z",
     "shell.execute_reply": "2023-08-13T18:38:29.183269Z"
    },
    "papermill": {
     "duration": 0.089203,
     "end_time": "2023-08-13T18:38:29.186812",
     "exception": false,
     "start_time": "2023-08-13T18:38:29.097609",
     "status": "completed"
    },
    "tags": []
   },
   "outputs": [],
   "source": [
    "# all_dict = {'cat': [\"isFrequentReviewer\", \"rating\", \"originalLanguage\"],\n",
    "#              'num': [\"audienceScore\", \"runtimeMinutes\", \"boxOffice\"],\n",
    "#              'txt': ['reviewText', 'reviewerName', 'movieid', 'genre', 'director']}\n",
    "\n",
    "# param_grid_svc = {\n",
    "#     \"model__C\": [0.1, 1, 10, 100]\n",
    "# }\n",
    "# param_grid_svc"
   ]
  },
  {
   "cell_type": "code",
   "execution_count": 139,
   "id": "5d3fcb65",
   "metadata": {
    "execution": {
     "iopub.execute_input": "2023-08-13T18:38:29.348935Z",
     "iopub.status.busy": "2023-08-13T18:38:29.348285Z",
     "iopub.status.idle": "2023-08-13T18:38:29.351946Z",
     "shell.execute_reply": "2023-08-13T18:38:29.351257Z"
    },
    "papermill": {
     "duration": 0.087307,
     "end_time": "2023-08-13T18:38:29.353848",
     "exception": false,
     "start_time": "2023-08-13T18:38:29.266541",
     "status": "completed"
    },
    "tags": []
   },
   "outputs": [],
   "source": [
    "# LinearSCV on single feature  \n",
    "\n",
    "# submit_v4(selected_model=LinearSVC(max_iter=100000, random_state=42), selected_features={'num': [\"audienceScore\"]}, param_grid=param_grid_svc)\n",
    "\n",
    "# Comment: LinearSVC even on single column feature set takes too long to converge."
   ]
  },
  {
   "cell_type": "code",
   "execution_count": 140,
   "id": "f6d7d8c0",
   "metadata": {
    "execution": {
     "iopub.execute_input": "2023-08-13T18:38:29.515313Z",
     "iopub.status.busy": "2023-08-13T18:38:29.514616Z",
     "iopub.status.idle": "2023-08-13T18:38:29.518492Z",
     "shell.execute_reply": "2023-08-13T18:38:29.517751Z"
    },
    "papermill": {
     "duration": 0.087274,
     "end_time": "2023-08-13T18:38:29.520316",
     "exception": false,
     "start_time": "2023-08-13T18:38:29.433042",
     "status": "completed"
    },
    "tags": []
   },
   "outputs": [],
   "source": [
    "# LinearSCV on all available features\n",
    "\n",
    "# submit_v4(selected_model=LinearSVC(max_iter=100000, random_state=42), selected_features=all_dict, param_grid=param_grid_svc)\n",
    "\n",
    "# (Update): This took 66 mins to run and gave a public score of 0.84295 (lesser than logreg gridsearchcv wwhich gave 0.84441). Best C was 1.0.\n"
   ]
  },
  {
   "cell_type": "markdown",
   "id": "985ab2ca",
   "metadata": {
    "papermill": {
     "duration": 0.084948,
     "end_time": "2023-08-13T18:38:29.684570",
     "exception": false,
     "start_time": "2023-08-13T18:38:29.599622",
     "status": "completed"
    },
    "tags": []
   },
   "source": [
    "### Boosting techniques  "
   ]
  },
  {
   "cell_type": "code",
   "execution_count": 141,
   "id": "c0afb694",
   "metadata": {
    "execution": {
     "iopub.execute_input": "2023-08-13T18:38:29.862235Z",
     "iopub.status.busy": "2023-08-13T18:38:29.861566Z",
     "iopub.status.idle": "2023-08-13T18:38:29.865692Z",
     "shell.execute_reply": "2023-08-13T18:38:29.864638Z"
    },
    "papermill": {
     "duration": 0.089039,
     "end_time": "2023-08-13T18:38:29.867938",
     "exception": false,
     "start_time": "2023-08-13T18:38:29.778899",
     "status": "completed"
    },
    "tags": []
   },
   "outputs": [],
   "source": [
    "# adc = AdaBoostClassifier(estimator=LogisticRegression(C=5, solver=\"saga\", max_iter=100000), n_estimators=50)\n",
    "# adc"
   ]
  },
  {
   "cell_type": "code",
   "execution_count": 142,
   "id": "91e8c59e",
   "metadata": {
    "execution": {
     "iopub.execute_input": "2023-08-13T18:38:30.029885Z",
     "iopub.status.busy": "2023-08-13T18:38:30.029029Z",
     "iopub.status.idle": "2023-08-13T18:38:30.034072Z",
     "shell.execute_reply": "2023-08-13T18:38:30.033282Z"
    },
    "papermill": {
     "duration": 0.088874,
     "end_time": "2023-08-13T18:38:30.036202",
     "exception": false,
     "start_time": "2023-08-13T18:38:29.947328",
     "status": "completed"
    },
    "tags": []
   },
   "outputs": [],
   "source": [
    "# submit_v4(selected_model=adc, selected_features={'num': [\"audienceScore\"]}, param_grid=None)"
   ]
  },
  {
   "cell_type": "code",
   "execution_count": 143,
   "id": "3113cad8",
   "metadata": {
    "execution": {
     "iopub.execute_input": "2023-08-13T18:38:30.196517Z",
     "iopub.status.busy": "2023-08-13T18:38:30.195710Z",
     "iopub.status.idle": "2023-08-13T18:38:30.200336Z",
     "shell.execute_reply": "2023-08-13T18:38:30.199559Z"
    },
    "papermill": {
     "duration": 0.087373,
     "end_time": "2023-08-13T18:38:30.202399",
     "exception": false,
     "start_time": "2023-08-13T18:38:30.115026",
     "status": "completed"
    },
    "tags": []
   },
   "outputs": [],
   "source": [
    "# submit_v4(selected_model=adc, selected_features=all_dict, param_grid=None)\n",
    "\n",
    "# Took 1 hour 15 mins to run and gave a public score of only 0.71089. Discarded."
   ]
  },
  {
   "cell_type": "markdown",
   "id": "035fe474",
   "metadata": {
    "papermill": {
     "duration": 0.078602,
     "end_time": "2023-08-13T18:38:30.360705",
     "exception": false,
     "start_time": "2023-08-13T18:38:30.282103",
     "status": "completed"
    },
    "tags": []
   },
   "source": [
    "### LightGBM  "
   ]
  },
  {
   "cell_type": "code",
   "execution_count": 144,
   "id": "5f4565e0",
   "metadata": {
    "execution": {
     "iopub.execute_input": "2023-08-13T18:38:30.523169Z",
     "iopub.status.busy": "2023-08-13T18:38:30.522435Z",
     "iopub.status.idle": "2023-08-13T18:38:30.526860Z",
     "shell.execute_reply": "2023-08-13T18:38:30.526183Z"
    },
    "papermill": {
     "duration": 0.089601,
     "end_time": "2023-08-13T18:38:30.528880",
     "exception": false,
     "start_time": "2023-08-13T18:38:30.439279",
     "status": "completed"
    },
    "tags": []
   },
   "outputs": [],
   "source": [
    "# lgb = ltb.LGBMClassifier()\n",
    "# lgb"
   ]
  },
  {
   "cell_type": "code",
   "execution_count": 145,
   "id": "9044edbc",
   "metadata": {
    "execution": {
     "iopub.execute_input": "2023-08-13T18:38:30.689269Z",
     "iopub.status.busy": "2023-08-13T18:38:30.688412Z",
     "iopub.status.idle": "2023-08-13T18:38:30.692951Z",
     "shell.execute_reply": "2023-08-13T18:38:30.692161Z"
    },
    "papermill": {
     "duration": 0.087034,
     "end_time": "2023-08-13T18:38:30.694849",
     "exception": false,
     "start_time": "2023-08-13T18:38:30.607815",
     "status": "completed"
    },
    "tags": []
   },
   "outputs": [],
   "source": [
    "# Try LightGBM with default settings\n",
    "# (Update): Public score only 0.77713. It was fast, took less than 5 mins (without GridSearchCV)\n",
    "\n",
    "# submit_v4(selected_model=ltb.LGBMClassifier(), selected_features=all_dict, param_grid=None)"
   ]
  },
  {
   "cell_type": "markdown",
   "id": "478bd7da",
   "metadata": {
    "papermill": {
     "duration": 0.079085,
     "end_time": "2023-08-13T18:38:30.853574",
     "exception": false,
     "start_time": "2023-08-13T18:38:30.774489",
     "status": "completed"
    },
    "tags": []
   },
   "source": [
    "## Feature Engineering"
   ]
  },
  {
   "cell_type": "markdown",
   "id": "2aff74c8",
   "metadata": {
    "papermill": {
     "duration": 0.081683,
     "end_time": "2023-08-13T18:38:31.016208",
     "exception": false,
     "start_time": "2023-08-13T18:38:30.934525",
     "status": "completed"
    },
    "tags": []
   },
   "source": [
    "### Plan  \n",
    "* Add a new column 'reviewWC' which has word count of 'reviewText'  \n",
    "    * Check if there is any relationship between 'reviewWC' and 'sentiment'\n",
    "* Work on vocabulary\n",
    "     * Use TfidfVectorizer and find out the vocabulary of 'reviewText' column for various ngrams\n",
    "     * Use RecursiveFeatureElimination (RFE) or RFECV to select 1000 top words/vocab for each ngram\n",
    "     * Use the final vocab (1000-3000 words) in the model and see how it performs compared to whole vocab\n",
    "\n",
    "`(Update): Code incorporated into the \"select_features\" function  `  \n",
    "`(Update): Many other new features incorporated into the \"select_features\" function too  `  \n",
    "\n"
   ]
  },
  {
   "cell_type": "markdown",
   "id": "2995df9a",
   "metadata": {
    "papermill": {
     "duration": 0.080668,
     "end_time": "2023-08-13T18:38:31.178009",
     "exception": false,
     "start_time": "2023-08-13T18:38:31.097341",
     "status": "completed"
    },
    "tags": []
   },
   "source": [
    "# Back to vocab after success of version 63  "
   ]
  },
  {
   "cell_type": "code",
   "execution_count": 146,
   "id": "68cd52c7",
   "metadata": {
    "execution": {
     "iopub.execute_input": "2023-08-13T18:38:31.339132Z",
     "iopub.status.busy": "2023-08-13T18:38:31.338691Z",
     "iopub.status.idle": "2023-08-13T18:38:31.368740Z",
     "shell.execute_reply": "2023-08-13T18:38:31.367840Z"
    },
    "papermill": {
     "duration": 0.114314,
     "end_time": "2023-08-13T18:38:31.371183",
     "exception": false,
     "start_time": "2023-08-13T18:38:31.256869",
     "status": "completed"
    },
    "tags": []
   },
   "outputs": [],
   "source": [
    "def submit_v4(selected_model=LogisticRegression(C=1, solver='liblinear', max_iter=100000), \n",
    "              selected_features={'txt': ['reviewText']}, \n",
    "              param_grid=None,\n",
    "              vocab=None,\n",
    "              vocab_usage='tfidf',\n",
    "              strip_accents='unicode', \n",
    "              add_countvec=False):\n",
    "    \n",
    "    print(\"\\nRunning the submit_v4 function...\")\n",
    "    \n",
    "    # Fine tune selected_features\n",
    "    if add_countvec:\n",
    "        if 'txt' in selected_features.keys():\n",
    "            if \"reviewText_2\" not in selected_features['txt']:\n",
    "                selected_features['txt'].append('reviewText_2')\n",
    "    if vocab:\n",
    "        if 'txt' in selected_features.keys():\n",
    "            if \"reviewText_3\" not in selected_features['txt']:\n",
    "                selected_features['txt'].append('reviewText_3')\n",
    "    print(f\"\\nSelected features: {selected_features}\")\n",
    "\n",
    "    \n",
    "    \n",
    "    # Build Pipeline\n",
    "    pipe = build_pipeline(selected_model, selected_features, param_grid=param_grid, \n",
    "                          vocab=vocab, vocab_usage='tfidf', \n",
    "                          strip_accents=strip_accents, add_countvec=add_countvec)\n",
    "    print(pipe)\n",
    "\n",
    "    \n",
    "    \n",
    "    # Features list\n",
    "    features = []\n",
    "    for item in selected_features.values():\n",
    "        features.extend(item)\n",
    " \n",
    "\n",
    "    # Merge and preprocess train and movies data  \n",
    "    merged = select_features(load_csv(\"train\"), load_csv(\"movies\"), row_thresh_null=None)    # Decide if you want to drop any rows containing lot of nulls\n",
    "    # Impute missing numerical values  \n",
    "    # Simple Imputer for ['audienceScore', 'runtimeMinutes', 'boxOffice'] and 'releaseDate' columns\n",
    "    si = SimpleImputer(strategy='median')\n",
    "    merged[['audienceScore', 'runtimeMinutes', 'boxOffice']] = si.fit_transform(merged[['audienceScore', 'runtimeMinutes', 'boxOffice']])\n",
    "    merged['releaseDate'] = merged[\"releaseDate\"].fillna(merged[\"releaseDate\"].median())    \n",
    "    # Add new columns as needed  \n",
    "    if add_countvec:\n",
    "        merged['reviewText_2'] = merged['reviewText']\n",
    "    if vocab:\n",
    "        merged['reviewText_3'] = merged['reviewText']\n",
    "        \n",
    "    X_train = merged.drop(labels=\"sentiment\", axis=1)\n",
    "    y_train = merged[\"sentiment\"]\n",
    "\n",
    "    X_train = X_train[features]\n",
    "    \n",
    "    \n",
    "    # Check1\n",
    "    print(\"\\nCheck 1 complete.\")\n",
    "    print(f\"Shape of X_train: {X_train.shape}\")\n",
    "    print(f\"Features in X_train: {X_train.columns}\")\n",
    "#     print(X_train.head())\n",
    "    \n",
    "    \n",
    "    # Fit \n",
    "    print(\"\\nTraining started with full pipeline...\")\n",
    "    pipe.fit(X_train, y_train)\n",
    "    \n",
    "    # Check2\n",
    "    print(\"\\nCheck 2 complete.\")\n",
    "    print(\"Details of the best model using full pipeline (GridSearchCV) on X_train: \")\n",
    "    print(f\"Best Params: {pipe.best_params_}\")\n",
    "    print(f\"Best Score: {pipe.best_score_}\")\n",
    "    \n",
    "    print(predict_on_missing_review_data(pipe, features, merged))    # Function defined above\n",
    "    \n",
    "        \n",
    "    # Predict on test.csv file\n",
    "    \n",
    "    # Merge and preprocess test and movies data  \n",
    "    merged_test = select_features(load_csv(\"test\"), load_csv(\"movies\"))\n",
    "    # Transform ['audienceScore', 'runtimeMinutes', 'boxOffice'] columns in merged_test using 'si' fitted on 'merged' df  \n",
    "    merged_test[['audienceScore', 'runtimeMinutes', 'boxOffice']] = si.transform(merged_test[['audienceScore', 'runtimeMinutes', 'boxOffice']])\n",
    "    # Fill 'releaseDate' column in 'merged_test' df with median from the train (merged) df  \n",
    "    merged_test['releaseDate'] = merged_test[\"releaseDate\"].fillna(merged[\"releaseDate\"].median())\n",
    "    # Add new columns as needed \n",
    "    if add_countvec:\n",
    "        merged_test['reviewText_2'] = merged_test['reviewText']\n",
    "    if vocab:\n",
    "        merged_test['reviewText_3'] = merged_test['reviewText']\n",
    "        \n",
    "    X_test = merged_test.copy()\n",
    "\n",
    "    X_test = X_test[features]\n",
    "    \n",
    "    \n",
    "    # Check3\n",
    "    print(\"\\nCheck 3 complete.\")\n",
    "    print(f\"Shape of X_test: {X_test.shape}\")\n",
    "    print(f\"Features in X_test: {X_test.columns}\")\n",
    "#     print(X_test.head())\n",
    "    \n",
    "    y_pred = pipe.predict(X_test)\n",
    "    \n",
    "    # Check4\n",
    "    print(\"\\nCheck 4 complete.\")\n",
    "#     cv_results_df = pd.DataFrame(pipe.cv_results_)\n",
    "    print(\"Details of the best model using full pipeline (GridSearchCV) on X_train: \")\n",
    "    print(f\"Best Estimator: {pipe.best_estimator_}\")\n",
    "    print(f\"Best Params: {pipe.best_params_}\")\n",
    "    print(f\"Best Score: {pipe.best_score_}\")\n",
    "    print(f\"Best Index: {pipe.best_index_}\")\n",
    "    print(f\"Refit Time: {pipe.refit_time_}\")\n",
    "#     print(f\"Shape of CV results dataframe: {cv_results_df.shape}\")\n",
    "    \n",
    "    pred_df = pd.DataFrame(y_pred)\n",
    "    pred_df.columns = [\"sentiment\"]\n",
    "    pred_df.index.name = \"id\"\n",
    "    pred_df.to_csv(\"submission.csv\")\n",
    "    \n",
    "    print(\"\\nSuccessfully created the submission file!!!\")\n",
    "    \n",
    "    return pipe.cv_results_"
   ]
  },
  {
   "cell_type": "code",
   "execution_count": 147,
   "id": "417f58f4",
   "metadata": {
    "execution": {
     "iopub.execute_input": "2023-08-13T18:38:31.533438Z",
     "iopub.status.busy": "2023-08-13T18:38:31.533050Z",
     "iopub.status.idle": "2023-08-13T18:38:31.539567Z",
     "shell.execute_reply": "2023-08-13T18:38:31.538534Z"
    },
    "papermill": {
     "duration": 0.091715,
     "end_time": "2023-08-13T18:38:31.541799",
     "exception": false,
     "start_time": "2023-08-13T18:38:31.450084",
     "status": "completed"
    },
    "tags": []
   },
   "outputs": [
    {
     "data": {
      "text/plain": [
       "Index(['movieid', 'reviewerName', 'isFrequentReviewer', 'reviewText',\n",
       "       'sentiment', 'title', 'audienceScore', 'rating', 'ratingContents',\n",
       "       'releaseDateTheaters', 'releaseDateStreaming', 'runtimeMinutes',\n",
       "       'genre', 'originalLanguage', 'director', 'boxOffice', 'distributor',\n",
       "       'soundType', 'reviewYN', 'reviewWC', 'genreSorted', 'rcSorted',\n",
       "       'releaseDate', 'releaseYear', 'releaseMonth', 'releaseDiff'],\n",
       "      dtype='object')"
      ]
     },
     "execution_count": 147,
     "metadata": {},
     "output_type": "execute_result"
    }
   ],
   "source": [
    "merged.columns"
   ]
  },
  {
   "cell_type": "code",
   "execution_count": 148,
   "id": "2946d736",
   "metadata": {
    "execution": {
     "iopub.execute_input": "2023-08-13T18:38:31.702879Z",
     "iopub.status.busy": "2023-08-13T18:38:31.702477Z",
     "iopub.status.idle": "2023-08-13T18:38:31.711660Z",
     "shell.execute_reply": "2023-08-13T18:38:31.710738Z"
    },
    "papermill": {
     "duration": 0.092202,
     "end_time": "2023-08-13T18:38:31.713826",
     "exception": false,
     "start_time": "2023-08-13T18:38:31.621624",
     "status": "completed"
    },
    "tags": []
   },
   "outputs": [],
   "source": [
    "# Best #2\n",
    "v80_dict = {'cat': ['isFrequentReviewer', 'audScoreBins', 'boxOfficeBins'], \n",
    "                  'txt': ['reviewText', 'reviewerName', 'movieid', 'genre', 'director', \n",
    "                          'ratingContents', 'distributor']}\n",
    "# Best #1\n",
    "v88_dict = {'cat': ['isFrequentReviewer', 'audScoreBins', 'boxOfficeBins'],\n",
    "            'num': ['releaseDiff'],\n",
    "            'txt': ['reviewText', 'reviewerName', 'movieid', 'genre', 'director', \n",
    "                         'ratingContents', 'distributor']}\n",
    "\n",
    "v92_dict = {'cat': ['isFrequentReviewer', 'audScoreBins', 'boxOfficeBins', 'releaseDiffBins'],\n",
    "            'txt': ['reviewText', 'reviewerName', 'title', 'genre', 'director', \n",
    "                         'ratingContents', 'distributor']}\n",
    "\n",
    "# Best univariable datapoints dict\n",
    "best_uni_dict = {'cat': [\"isFrequentReviewer\", \"audScoreBins\"],\n",
    "                 'txt': ['reviewText','movieid', 'director', \"ratingContents\"]}\n",
    "\n",
    "# param_grids for LogisticRegression  \n",
    "\n",
    "# Best #1  \n",
    "# param_grid = {\n",
    "#     'model__C' : [1],\n",
    "#     'model__solver': ['saga'],\n",
    "#     \"model__fit_intercept\" : [True],\n",
    "#     \"model__dual\" : [False]\n",
    "#     }\n",
    "\n",
    "# working\n",
    "param_grid = {\n",
    "    'model__C' : [1],\n",
    "    'model__solver': ['saga'],\n",
    "    \"model__fit_intercept\" : [True],\n",
    "    \"model__dual\" : [False],\n",
    "#     \"model__class_weight\": ['balanced', None]\n",
    "}\n",
    "\n",
    "\n",
    "# param_grids for LinearSVC  \n",
    "\n",
    "# param_grid = {\n",
    "#     'model__C' : [1, 10, 20],\n",
    "#     'model__loss': ['hinge', 'squared_hinge'],\n",
    "#     \"model__fit_intercept\" : [True, False],\n",
    "# #     \"model__dual\" : [True, False] \n",
    "# }\n",
    "\n",
    "svm = LinearSVC(max_iter=10000, random_state=42)    # LinearSVC\n",
    "\n",
    "\n",
    "# Local testing\n",
    "# selected_mov = {'num': ['audienceScore', 'boxOffice', 'releaseDiff'], \n",
    "#                 'txt': ['movieid', 'genre', 'director', \n",
    "#                          'ratingContents', 'distributor']}\n",
    "# results = submit_v4(\n",
    "#             selected_features={'num': ['boxOffice']},\n",
    "#             add_countvec=False,\n",
    "#             vocab=None,\n",
    "#             vocab_usage='tfidf',\n",
    "#             param_grid=param_grid\n",
    "#          )\n",
    "\n",
    "# results = submit_v4(selected_model = DummyClassifier(strategy='constant', constant='NEGATIVE'),\n",
    "#             selected_features={'num': ['boxOffice']},\n",
    "#             add_countvec=False,\n",
    "#             vocab=None,\n",
    "#             vocab_usage='tfidf',\n",
    "#             param_grid={'model__strategy' : ['constant']}\n",
    "#          )\n",
    "\n",
    "# Main submission\n",
    "\n",
    "# results = submit_v4(\n",
    "#     selected_features=v88_dict,\n",
    "#     add_countvec=False,\n",
    "#     vocab=common_1_2_3_grams,\n",
    "#     vocab_usage='tfidf',\n",
    "#     param_grid=param_grid\n",
    "#     )\n",
    "\n",
    "# results"
   ]
  },
  {
   "cell_type": "markdown",
   "id": "7e0e68c4",
   "metadata": {
    "papermill": {
     "duration": 0.078533,
     "end_time": "2023-08-13T18:38:31.871400",
     "exception": false,
     "start_time": "2023-08-13T18:38:31.792867",
     "status": "completed"
    },
    "tags": []
   },
   "source": [
    "### ratingContents analysis  "
   ]
  },
  {
   "cell_type": "code",
   "execution_count": 149,
   "id": "1d30d5e0",
   "metadata": {
    "execution": {
     "iopub.execute_input": "2023-08-13T18:38:32.032353Z",
     "iopub.status.busy": "2023-08-13T18:38:32.031943Z",
     "iopub.status.idle": "2023-08-13T18:38:32.036053Z",
     "shell.execute_reply": "2023-08-13T18:38:32.035080Z"
    },
    "papermill": {
     "duration": 0.087338,
     "end_time": "2023-08-13T18:38:32.038106",
     "exception": false,
     "start_time": "2023-08-13T18:38:31.950768",
     "status": "completed"
    },
    "tags": []
   },
   "outputs": [],
   "source": [
    "# Try string split  \n",
    "# s = \"comedy, animation, adventure, fantasy\"\n",
    "# (\",\").join(sorted(s.split(\", \")))"
   ]
  },
  {
   "cell_type": "code",
   "execution_count": 150,
   "id": "2890ae54",
   "metadata": {
    "execution": {
     "iopub.execute_input": "2023-08-13T18:38:32.198268Z",
     "iopub.status.busy": "2023-08-13T18:38:32.197868Z",
     "iopub.status.idle": "2023-08-13T18:38:32.202449Z",
     "shell.execute_reply": "2023-08-13T18:38:32.201424Z"
    },
    "papermill": {
     "duration": 0.087366,
     "end_time": "2023-08-13T18:38:32.204430",
     "exception": false,
     "start_time": "2023-08-13T18:38:32.117064",
     "status": "completed"
    },
    "tags": []
   },
   "outputs": [],
   "source": [
    "# ratingContents_analysis = merged[[\"ratingContents\", \"sentiment\"]].copy()\n",
    "# print(ratingContents_analysis.head())\n",
    "# ratingContents_analysis[\"rcSorted\"] = ratingContents_analysis[\"ratingContents\"].apply(lambda x: (\",\").join(sorted(x.strip(\"][\").split(\", \"))))\n",
    "# ratingContents_analysis[\"rcSorted\"] = ratingContents_analysis[\"rcSorted\"].apply(lambda x: re.sub(r\"'\", \"\", x))\n",
    "# ratingContents_analysis[\"rcSorted\"] = ratingContents_analysis[\"rcSorted\"].apply(lambda x: re.sub(r\"[/\\s]\", \"_\", x))\n",
    "# ratingContents_analysis.head(10)"
   ]
  },
  {
   "cell_type": "code",
   "execution_count": 151,
   "id": "8e601f43",
   "metadata": {
    "execution": {
     "iopub.execute_input": "2023-08-13T18:38:32.369491Z",
     "iopub.status.busy": "2023-08-13T18:38:32.368310Z",
     "iopub.status.idle": "2023-08-13T18:38:32.372812Z",
     "shell.execute_reply": "2023-08-13T18:38:32.372053Z"
    },
    "papermill": {
     "duration": 0.090389,
     "end_time": "2023-08-13T18:38:32.374617",
     "exception": false,
     "start_time": "2023-08-13T18:38:32.284228",
     "status": "completed"
    },
    "tags": []
   },
   "outputs": [],
   "source": [
    "# cvec_rc = CountVectorizer(ngram_range=(1,1))\n",
    "# cvec_rc.fit(ratingContents_analysis['rcSorted'])\n",
    "# # len(cvec_rc.vocabulary_), cvec_rc.vocabulary_"
   ]
  },
  {
   "cell_type": "code",
   "execution_count": 152,
   "id": "d1fbe2e7",
   "metadata": {
    "execution": {
     "iopub.execute_input": "2023-08-13T18:38:32.534564Z",
     "iopub.status.busy": "2023-08-13T18:38:32.534169Z",
     "iopub.status.idle": "2023-08-13T18:38:32.538338Z",
     "shell.execute_reply": "2023-08-13T18:38:32.537325Z"
    },
    "papermill": {
     "duration": 0.087115,
     "end_time": "2023-08-13T18:38:32.540286",
     "exception": false,
     "start_time": "2023-08-13T18:38:32.453171",
     "status": "completed"
    },
    "tags": []
   },
   "outputs": [],
   "source": [
    "# genre_testing = cvec_g.transform(merged[\"genre\"])\n",
    "# print(genre_testing)"
   ]
  },
  {
   "cell_type": "markdown",
   "id": "c415f65b",
   "metadata": {
    "papermill": {
     "duration": 0.078964,
     "end_time": "2023-08-13T18:38:32.698112",
     "exception": false,
     "start_time": "2023-08-13T18:38:32.619148",
     "status": "completed"
    },
    "tags": []
   },
   "source": [
    "## Statistical tests  "
   ]
  },
  {
   "cell_type": "markdown",
   "id": "68d4c449",
   "metadata": {
    "papermill": {
     "duration": 0.078515,
     "end_time": "2023-08-13T18:38:32.855614",
     "exception": false,
     "start_time": "2023-08-13T18:38:32.777099",
     "status": "completed"
    },
    "tags": []
   },
   "source": [
    "[Go to genre](#genre_analysis)"
   ]
  },
  {
   "cell_type": "code",
   "execution_count": 153,
   "id": "2ec8e430",
   "metadata": {
    "execution": {
     "iopub.execute_input": "2023-08-13T18:38:33.016712Z",
     "iopub.status.busy": "2023-08-13T18:38:33.016320Z",
     "iopub.status.idle": "2023-08-13T18:38:33.020620Z",
     "shell.execute_reply": "2023-08-13T18:38:33.019598Z"
    },
    "papermill": {
     "duration": 0.087482,
     "end_time": "2023-08-13T18:38:33.022498",
     "exception": false,
     "start_time": "2023-08-13T18:38:32.935016",
     "status": "completed"
    },
    "tags": []
   },
   "outputs": [],
   "source": [
    "# print(merged['boxOffice'].head())\n",
    "# merged[\"boxOffice\"].describe()"
   ]
  },
  {
   "cell_type": "code",
   "execution_count": 154,
   "id": "05817baa",
   "metadata": {
    "execution": {
     "iopub.execute_input": "2023-08-13T18:38:33.182112Z",
     "iopub.status.busy": "2023-08-13T18:38:33.181712Z",
     "iopub.status.idle": "2023-08-13T18:38:33.185752Z",
     "shell.execute_reply": "2023-08-13T18:38:33.184959Z"
    },
    "papermill": {
     "duration": 0.086223,
     "end_time": "2023-08-13T18:38:33.187653",
     "exception": false,
     "start_time": "2023-08-13T18:38:33.101430",
     "status": "completed"
    },
    "tags": []
   },
   "outputs": [],
   "source": [
    "# Function for independent samples t-test on numerical columns  \n",
    "# def ttest_ind(feature):\n",
    "#     pos_grp = merged[feature].loc[merged['sentiment'] == \"POSITIVE\"]\n",
    "#     neg_grp = merged[feature].loc[merged['sentiment'] == \"NEGATIVE\"]\n",
    "\n",
    "#     print(pos_grp.shape, neg_grp.shape)\n",
    "#     print(pos_grp.describe(), neg_grp.describe())\n",
    "\n",
    "#     return stats.ttest_ind(pos_grp, neg_grp)"
   ]
  },
  {
   "cell_type": "code",
   "execution_count": 155,
   "id": "844eee86",
   "metadata": {
    "execution": {
     "iopub.execute_input": "2023-08-13T18:38:33.350257Z",
     "iopub.status.busy": "2023-08-13T18:38:33.349815Z",
     "iopub.status.idle": "2023-08-13T18:38:33.353666Z",
     "shell.execute_reply": "2023-08-13T18:38:33.352921Z"
    },
    "papermill": {
     "duration": 0.088179,
     "end_time": "2023-08-13T18:38:33.355477",
     "exception": false,
     "start_time": "2023-08-13T18:38:33.267298",
     "status": "completed"
    },
    "tags": []
   },
   "outputs": [],
   "source": [
    "# ttest_ind('boxOffice')"
   ]
  },
  {
   "cell_type": "code",
   "execution_count": 156,
   "id": "d2de75bc",
   "metadata": {
    "execution": {
     "iopub.execute_input": "2023-08-13T18:38:33.515973Z",
     "iopub.status.busy": "2023-08-13T18:38:33.514870Z",
     "iopub.status.idle": "2023-08-13T18:38:33.518982Z",
     "shell.execute_reply": "2023-08-13T18:38:33.518304Z"
    },
    "papermill": {
     "duration": 0.086259,
     "end_time": "2023-08-13T18:38:33.520902",
     "exception": false,
     "start_time": "2023-08-13T18:38:33.434643",
     "status": "completed"
    },
    "tags": []
   },
   "outputs": [],
   "source": [
    "# ttest_ind('runtimeMinutes')"
   ]
  },
  {
   "cell_type": "code",
   "execution_count": 157,
   "id": "edb74649",
   "metadata": {
    "execution": {
     "iopub.execute_input": "2023-08-13T18:38:33.757384Z",
     "iopub.status.busy": "2023-08-13T18:38:33.756951Z",
     "iopub.status.idle": "2023-08-13T18:38:33.761230Z",
     "shell.execute_reply": "2023-08-13T18:38:33.760177Z"
    },
    "papermill": {
     "duration": 0.08714,
     "end_time": "2023-08-13T18:38:33.763291",
     "exception": false,
     "start_time": "2023-08-13T18:38:33.676151",
     "status": "completed"
    },
    "tags": []
   },
   "outputs": [],
   "source": [
    "# ttest_ind('audienceScore')"
   ]
  },
  {
   "cell_type": "code",
   "execution_count": 158,
   "id": "a51b9da0",
   "metadata": {
    "execution": {
     "iopub.execute_input": "2023-08-13T18:38:33.924620Z",
     "iopub.status.busy": "2023-08-13T18:38:33.924193Z",
     "iopub.status.idle": "2023-08-13T18:38:33.928347Z",
     "shell.execute_reply": "2023-08-13T18:38:33.927278Z"
    },
    "papermill": {
     "duration": 0.086695,
     "end_time": "2023-08-13T18:38:33.930101",
     "exception": false,
     "start_time": "2023-08-13T18:38:33.843406",
     "status": "completed"
    },
    "tags": []
   },
   "outputs": [],
   "source": [
    "# sns.boxplot(x=merged['sentiment'], y=merged['boxOffice'])"
   ]
  },
  {
   "cell_type": "markdown",
   "id": "a3066b26",
   "metadata": {
    "papermill": {
     "duration": 0.078994,
     "end_time": "2023-08-13T18:38:34.088602",
     "exception": false,
     "start_time": "2023-08-13T18:38:34.009608",
     "status": "completed"
    },
    "tags": []
   },
   "source": [
    "## <div id='genre_analysis'>Genre analysis</div>"
   ]
  },
  {
   "cell_type": "code",
   "execution_count": 159,
   "id": "36a2e9e3",
   "metadata": {
    "execution": {
     "iopub.execute_input": "2023-08-13T18:38:34.249341Z",
     "iopub.status.busy": "2023-08-13T18:38:34.248619Z",
     "iopub.status.idle": "2023-08-13T18:38:34.252415Z",
     "shell.execute_reply": "2023-08-13T18:38:34.251680Z"
    },
    "papermill": {
     "duration": 0.086208,
     "end_time": "2023-08-13T18:38:34.254141",
     "exception": false,
     "start_time": "2023-08-13T18:38:34.167933",
     "status": "completed"
    },
    "tags": []
   },
   "outputs": [],
   "source": [
    "# genre_analysis = merged[[\"genre\", \"genreSorted\", \"sentiment\"]].copy()\n",
    "# # print(genre_analysis.head())\n",
    "# # genre_analysis[\"genre\"] = genre_analysis[\"genre\"].apply(lambda x: (\",\").join(sorted(x.split(\", \"))))\n",
    "# genre_analysis.head()"
   ]
  },
  {
   "cell_type": "code",
   "execution_count": 160,
   "id": "c6be8259",
   "metadata": {
    "execution": {
     "iopub.execute_input": "2023-08-13T18:38:34.415938Z",
     "iopub.status.busy": "2023-08-13T18:38:34.415228Z",
     "iopub.status.idle": "2023-08-13T18:38:34.419114Z",
     "shell.execute_reply": "2023-08-13T18:38:34.418225Z"
    },
    "papermill": {
     "duration": 0.086619,
     "end_time": "2023-08-13T18:38:34.420931",
     "exception": false,
     "start_time": "2023-08-13T18:38:34.334312",
     "status": "completed"
    },
    "tags": []
   },
   "outputs": [],
   "source": [
    "# cvec_g = CountVectorizer(ngram_range=(1,3))\n",
    "# cvec_g.fit(genre_analysis['genre'])\n",
    "# # len(cvec_g.vocabulary_), cvec_g.vocabulary_"
   ]
  },
  {
   "cell_type": "code",
   "execution_count": 161,
   "id": "ec885815",
   "metadata": {
    "execution": {
     "iopub.execute_input": "2023-08-13T18:38:34.582511Z",
     "iopub.status.busy": "2023-08-13T18:38:34.581735Z",
     "iopub.status.idle": "2023-08-13T18:38:34.585763Z",
     "shell.execute_reply": "2023-08-13T18:38:34.585044Z"
    },
    "papermill": {
     "duration": 0.087337,
     "end_time": "2023-08-13T18:38:34.587583",
     "exception": false,
     "start_time": "2023-08-13T18:38:34.500246",
     "status": "completed"
    },
    "tags": []
   },
   "outputs": [],
   "source": [
    "# cvec_gSorted = CountVectorizer(ngram_range=(1,3))\n",
    "# cvec_gSorted.fit(genre_analysis['genreSorted'])\n",
    "# len(cvec_gSorted.vocabulary_), cvec_gSorted.vocabulary_"
   ]
  },
  {
   "cell_type": "code",
   "execution_count": 162,
   "id": "6b23779b",
   "metadata": {
    "execution": {
     "iopub.execute_input": "2023-08-13T18:38:34.750533Z",
     "iopub.status.busy": "2023-08-13T18:38:34.749780Z",
     "iopub.status.idle": "2023-08-13T18:38:34.753652Z",
     "shell.execute_reply": "2023-08-13T18:38:34.752769Z"
    },
    "papermill": {
     "duration": 0.088529,
     "end_time": "2023-08-13T18:38:34.755474",
     "exception": false,
     "start_time": "2023-08-13T18:38:34.666945",
     "status": "completed"
    },
    "tags": []
   },
   "outputs": [],
   "source": [
    "# genre_testing = cvec_g.transform(merged[\"genre\"])\n",
    "# # print(genre_testing)"
   ]
  },
  {
   "cell_type": "code",
   "execution_count": 163,
   "id": "751ef16f",
   "metadata": {
    "execution": {
     "iopub.execute_input": "2023-08-13T18:38:34.916456Z",
     "iopub.status.busy": "2023-08-13T18:38:34.915744Z",
     "iopub.status.idle": "2023-08-13T18:38:34.919681Z",
     "shell.execute_reply": "2023-08-13T18:38:34.918960Z"
    },
    "papermill": {
     "duration": 0.086403,
     "end_time": "2023-08-13T18:38:34.921466",
     "exception": false,
     "start_time": "2023-08-13T18:38:34.835063",
     "status": "completed"
    },
    "tags": []
   },
   "outputs": [],
   "source": [
    "# genre_counts_testing = merged[[\"genre\", \"sentiment\"]].copy()\n",
    "# genre_counts_testing[\"gCount\"] = genre_counts_testing.apply(lambda x: len(str(x[\"genre\"]).split()), axis=1)\n",
    "# genre_counts_testing"
   ]
  },
  {
   "cell_type": "code",
   "execution_count": 164,
   "id": "7eba29fa",
   "metadata": {
    "execution": {
     "iopub.execute_input": "2023-08-13T18:38:35.083992Z",
     "iopub.status.busy": "2023-08-13T18:38:35.083302Z",
     "iopub.status.idle": "2023-08-13T18:38:35.087110Z",
     "shell.execute_reply": "2023-08-13T18:38:35.086316Z"
    },
    "papermill": {
     "duration": 0.088194,
     "end_time": "2023-08-13T18:38:35.088916",
     "exception": false,
     "start_time": "2023-08-13T18:38:35.000722",
     "status": "completed"
    },
    "tags": []
   },
   "outputs": [],
   "source": [
    "# sns.boxplot(y=genre_counts_testing[\"gCount\"], x=genre_counts_testing[\"sentiment\"])"
   ]
  },
  {
   "cell_type": "code",
   "execution_count": 165,
   "id": "00ef11e7",
   "metadata": {
    "execution": {
     "iopub.execute_input": "2023-08-13T18:38:35.249184Z",
     "iopub.status.busy": "2023-08-13T18:38:35.248730Z",
     "iopub.status.idle": "2023-08-13T18:38:35.253053Z",
     "shell.execute_reply": "2023-08-13T18:38:35.252049Z"
    },
    "papermill": {
     "duration": 0.086861,
     "end_time": "2023-08-13T18:38:35.255022",
     "exception": false,
     "start_time": "2023-08-13T18:38:35.168161",
     "status": "completed"
    },
    "tags": []
   },
   "outputs": [],
   "source": [
    "# sns.boxplot(y=merged[\"reviewWC\"], x=merged[\"sentiment\"])"
   ]
  },
  {
   "cell_type": "code",
   "execution_count": 166,
   "id": "6f034930",
   "metadata": {
    "execution": {
     "iopub.execute_input": "2023-08-13T18:38:35.416655Z",
     "iopub.status.busy": "2023-08-13T18:38:35.415933Z",
     "iopub.status.idle": "2023-08-13T18:38:35.420257Z",
     "shell.execute_reply": "2023-08-13T18:38:35.419277Z"
    },
    "papermill": {
     "duration": 0.087769,
     "end_time": "2023-08-13T18:38:35.422284",
     "exception": false,
     "start_time": "2023-08-13T18:38:35.334515",
     "status": "completed"
    },
    "tags": []
   },
   "outputs": [],
   "source": [
    "# audienceScore bins\n",
    "# asc = merged[['audienceScore', 'sentiment']].copy()\n",
    "# asc.head()"
   ]
  },
  {
   "cell_type": "code",
   "execution_count": 167,
   "id": "3af14369",
   "metadata": {
    "execution": {
     "iopub.execute_input": "2023-08-13T18:38:35.582180Z",
     "iopub.status.busy": "2023-08-13T18:38:35.581749Z",
     "iopub.status.idle": "2023-08-13T18:38:35.586265Z",
     "shell.execute_reply": "2023-08-13T18:38:35.585209Z"
    },
    "papermill": {
     "duration": 0.087343,
     "end_time": "2023-08-13T18:38:35.588521",
     "exception": false,
     "start_time": "2023-08-13T18:38:35.501178",
     "status": "completed"
    },
    "tags": []
   },
   "outputs": [],
   "source": [
    "# Binning numerical features  \n",
    "\n",
    "# print(merged[\"runtimeBins\"].value_counts())\n",
    "# sns.displot(merged[\"runtimeBins\"])"
   ]
  },
  {
   "cell_type": "code",
   "execution_count": 168,
   "id": "a48e4ec8",
   "metadata": {
    "execution": {
     "iopub.execute_input": "2023-08-13T18:38:35.750186Z",
     "iopub.status.busy": "2023-08-13T18:38:35.748974Z",
     "iopub.status.idle": "2023-08-13T18:38:35.754390Z",
     "shell.execute_reply": "2023-08-13T18:38:35.753389Z"
    },
    "papermill": {
     "duration": 0.088556,
     "end_time": "2023-08-13T18:38:35.756704",
     "exception": false,
     "start_time": "2023-08-13T18:38:35.668148",
     "status": "completed"
    },
    "tags": []
   },
   "outputs": [],
   "source": [
    "# Chi-square test for isFrequentReviewer column and sentiment column   \n",
    "\n",
    "# contingency_table = pd.crosstab(traindf['isFrequentReviewer'], traindf['sentiment'])\n",
    "# print(contingency_table)\n",
    "# stats.chi2_contingency(contingency_table)"
   ]
  },
  {
   "cell_type": "markdown",
   "id": "8a17ad6a",
   "metadata": {
    "papermill": {
     "duration": 0.080597,
     "end_time": "2023-08-13T18:38:35.918635",
     "exception": false,
     "start_time": "2023-08-13T18:38:35.838038",
     "status": "completed"
    },
    "tags": []
   },
   "source": [
    "## Baseline performance of 'reviewText' column  "
   ]
  },
  {
   "cell_type": "code",
   "execution_count": 169,
   "id": "836a88d0",
   "metadata": {
    "execution": {
     "iopub.execute_input": "2023-08-13T18:38:36.087061Z",
     "iopub.status.busy": "2023-08-13T18:38:36.086323Z",
     "iopub.status.idle": "2023-08-13T18:38:36.090055Z",
     "shell.execute_reply": "2023-08-13T18:38:36.089325Z"
    },
    "papermill": {
     "duration": 0.0874,
     "end_time": "2023-08-13T18:38:36.091927",
     "exception": false,
     "start_time": "2023-08-13T18:38:36.004527",
     "status": "completed"
    },
    "tags": []
   },
   "outputs": [],
   "source": [
    "# rt_dict = {'txt': ['reviewText']}\n",
    "# rt_dict"
   ]
  },
  {
   "cell_type": "code",
   "execution_count": 170,
   "id": "26b58198",
   "metadata": {
    "execution": {
     "iopub.execute_input": "2023-08-13T18:38:36.254098Z",
     "iopub.status.busy": "2023-08-13T18:38:36.253422Z",
     "iopub.status.idle": "2023-08-13T18:38:36.257325Z",
     "shell.execute_reply": "2023-08-13T18:38:36.256395Z"
    },
    "papermill": {
     "duration": 0.08702,
     "end_time": "2023-08-13T18:38:36.259547",
     "exception": false,
     "start_time": "2023-08-13T18:38:36.172527",
     "status": "completed"
    },
    "tags": []
   },
   "outputs": [],
   "source": [
    "# submit_v4(selected_model=LogisticRegression(C=5, solver=\"saga\", max_iter=100000),\n",
    "#           selected_features=rt_dict,\n",
    "#           param_grid=None,\n",
    "#           vocab=None)"
   ]
  },
  {
   "cell_type": "markdown",
   "id": "ee6b8337",
   "metadata": {
    "papermill": {
     "duration": 0.080341,
     "end_time": "2023-08-13T18:38:36.419617",
     "exception": false,
     "start_time": "2023-08-13T18:38:36.339276",
     "status": "completed"
    },
    "tags": []
   },
   "source": [
    "## RFE  "
   ]
  },
  {
   "cell_type": "code",
   "execution_count": 171,
   "id": "dd2555fa",
   "metadata": {
    "execution": {
     "iopub.execute_input": "2023-08-13T18:38:36.584889Z",
     "iopub.status.busy": "2023-08-13T18:38:36.584102Z",
     "iopub.status.idle": "2023-08-13T18:38:36.589389Z",
     "shell.execute_reply": "2023-08-13T18:38:36.588363Z"
    },
    "papermill": {
     "duration": 0.092162,
     "end_time": "2023-08-13T18:38:36.591697",
     "exception": false,
     "start_time": "2023-08-13T18:38:36.499535",
     "status": "completed"
    },
    "tags": []
   },
   "outputs": [],
   "source": [
    "# def fs_rfe(selector, text_df, labels, ngram_range=(1,1)):\n",
    "#     text_df_ngram = TfidfVectorizer(ngram_range=ngram_range, stop_words='english').fit_transform(text_df)\n",
    "#     print(\"text_df was vectorized using TF-IDF vectorizer with ngram_range: \", ngram_range)\n",
    "#     print(\"text_df.shape: \", text_df.shape)\n",
    "#     print(\"labels.shape: \", labels.shape)\n",
    "#     print(\"text_df_ngram.shape: \", text_df_ngram.shape)\n",
    "#     print()\n",
    "\n",
    "#     print(\"Starting RFE fit...\")\n",
    "#     selector.fit(text_df_ngram, labels)\n",
    "#     print(\"RFE fit complete.\\n\")\n",
    "    \n",
    "#     print(\"selector.n_features_: \", selector.n_features_)   \n",
    "#     print(\"selector.n_features_in_: \", selector.n_features_in_)\n",
    "#     print(\"selector.support_.shape: \", selector.support_.shape)\n",
    "\n",
    "#     return selector.support_"
   ]
  },
  {
   "cell_type": "markdown",
   "id": "07b044ca",
   "metadata": {
    "papermill": {
     "duration": 0.080237,
     "end_time": "2023-08-13T18:38:36.751819",
     "exception": false,
     "start_time": "2023-08-13T18:38:36.671582",
     "status": "completed"
    },
    "tags": []
   },
   "source": [
    "`RFE for unigrams`  "
   ]
  },
  {
   "cell_type": "code",
   "execution_count": 172,
   "id": "2c7727b1",
   "metadata": {
    "execution": {
     "iopub.execute_input": "2023-08-13T18:38:36.913991Z",
     "iopub.status.busy": "2023-08-13T18:38:36.913563Z",
     "iopub.status.idle": "2023-08-13T18:38:36.918129Z",
     "shell.execute_reply": "2023-08-13T18:38:36.916760Z"
    },
    "papermill": {
     "duration": 0.088298,
     "end_time": "2023-08-13T18:38:36.920317",
     "exception": false,
     "start_time": "2023-08-13T18:38:36.832019",
     "status": "completed"
    },
    "tags": []
   },
   "outputs": [],
   "source": [
    "# estimator_rfe_1 = LogisticRegression(solver='saga', max_iter=100000)\n",
    "# selector_rfe_1 = RFE(estimator_rfe_1, step=0.1, n_features_to_select=30000)"
   ]
  },
  {
   "cell_type": "code",
   "execution_count": 173,
   "id": "3900f40c",
   "metadata": {
    "execution": {
     "iopub.execute_input": "2023-08-13T18:38:37.083511Z",
     "iopub.status.busy": "2023-08-13T18:38:37.083118Z",
     "iopub.status.idle": "2023-08-13T18:38:37.087444Z",
     "shell.execute_reply": "2023-08-13T18:38:37.086270Z"
    },
    "papermill": {
     "duration": 0.088862,
     "end_time": "2023-08-13T18:38:37.089500",
     "exception": false,
     "start_time": "2023-08-13T18:38:37.000638",
     "status": "completed"
    },
    "tags": []
   },
   "outputs": [],
   "source": [
    "# rfe_1_feat_mask = fs_rfe(selector_rfe_1, rt_senti[\"reviewText\"], rt_senti[\"sentiment\"], ngram_range=(1,1))\n",
    "# rfe_1_feat_mask"
   ]
  },
  {
   "cell_type": "code",
   "execution_count": 174,
   "id": "0878bc16",
   "metadata": {
    "execution": {
     "iopub.execute_input": "2023-08-13T18:38:37.252418Z",
     "iopub.status.busy": "2023-08-13T18:38:37.251182Z",
     "iopub.status.idle": "2023-08-13T18:38:37.255901Z",
     "shell.execute_reply": "2023-08-13T18:38:37.255179Z"
    },
    "papermill": {
     "duration": 0.088432,
     "end_time": "2023-08-13T18:38:37.257979",
     "exception": false,
     "start_time": "2023-08-13T18:38:37.169547",
     "status": "completed"
    },
    "tags": []
   },
   "outputs": [],
   "source": [
    "# voc_1gram_rfe = list(compress(voc_1gram, rfe_1_feat_mask))\n",
    "# len(voc_1gram_rfe), voc_1gram_rfe[:10]"
   ]
  },
  {
   "cell_type": "markdown",
   "id": "232890cb",
   "metadata": {
    "papermill": {
     "duration": 0.081825,
     "end_time": "2023-08-13T18:38:37.420253",
     "exception": false,
     "start_time": "2023-08-13T18:38:37.338428",
     "status": "completed"
    },
    "tags": []
   },
   "source": [
    "`RFE for bigrams`  "
   ]
  },
  {
   "cell_type": "code",
   "execution_count": 175,
   "id": "6b991fa5",
   "metadata": {
    "execution": {
     "iopub.execute_input": "2023-08-13T18:38:37.584786Z",
     "iopub.status.busy": "2023-08-13T18:38:37.584410Z",
     "iopub.status.idle": "2023-08-13T18:38:37.588971Z",
     "shell.execute_reply": "2023-08-13T18:38:37.587711Z"
    },
    "papermill": {
     "duration": 0.090926,
     "end_time": "2023-08-13T18:38:37.591150",
     "exception": false,
     "start_time": "2023-08-13T18:38:37.500224",
     "status": "completed"
    },
    "tags": []
   },
   "outputs": [],
   "source": [
    "# estimator_rfe_2 = LogisticRegression(solver='saga', max_iter=100000)\n",
    "# selector_rfe_2 = RFE(estimator_rfe_2, step=0.1, n_features_to_select=50000)"
   ]
  },
  {
   "cell_type": "code",
   "execution_count": 176,
   "id": "804b1131",
   "metadata": {
    "execution": {
     "iopub.execute_input": "2023-08-13T18:38:37.825851Z",
     "iopub.status.busy": "2023-08-13T18:38:37.825469Z",
     "iopub.status.idle": "2023-08-13T18:38:37.829675Z",
     "shell.execute_reply": "2023-08-13T18:38:37.828463Z"
    },
    "papermill": {
     "duration": 0.08716,
     "end_time": "2023-08-13T18:38:37.831808",
     "exception": false,
     "start_time": "2023-08-13T18:38:37.744648",
     "status": "completed"
    },
    "tags": []
   },
   "outputs": [],
   "source": [
    "# rfe_2_feat_mask = fs_rfe(selector_rfe_2, rt_senti[\"reviewText\"], rt_senti[\"sentiment\"], ngram_range=(2,2))\n",
    "# rfe_2_feat_mask"
   ]
  },
  {
   "cell_type": "code",
   "execution_count": 177,
   "id": "ea6d8ecc",
   "metadata": {
    "execution": {
     "iopub.execute_input": "2023-08-13T18:38:37.993140Z",
     "iopub.status.busy": "2023-08-13T18:38:37.992724Z",
     "iopub.status.idle": "2023-08-13T18:38:37.996955Z",
     "shell.execute_reply": "2023-08-13T18:38:37.995918Z"
    },
    "papermill": {
     "duration": 0.088015,
     "end_time": "2023-08-13T18:38:37.999081",
     "exception": false,
     "start_time": "2023-08-13T18:38:37.911066",
     "status": "completed"
    },
    "tags": []
   },
   "outputs": [],
   "source": [
    "# voc_2gram_rfe = list(compress(voc_2gram, rfe_2_feat_mask))\n",
    "# len(voc_2gram_rfe), voc_2gram_rfe[:10]"
   ]
  },
  {
   "cell_type": "markdown",
   "id": "abe46061",
   "metadata": {
    "papermill": {
     "duration": 0.080556,
     "end_time": "2023-08-13T18:38:38.160297",
     "exception": false,
     "start_time": "2023-08-13T18:38:38.079741",
     "status": "completed"
    },
    "tags": []
   },
   "source": [
    "## Final RFE-derived vocabulary  "
   ]
  },
  {
   "cell_type": "code",
   "execution_count": 178,
   "id": "f0c3a020",
   "metadata": {
    "execution": {
     "iopub.execute_input": "2023-08-13T18:38:38.321727Z",
     "iopub.status.busy": "2023-08-13T18:38:38.321350Z",
     "iopub.status.idle": "2023-08-13T18:38:38.325386Z",
     "shell.execute_reply": "2023-08-13T18:38:38.324381Z"
    },
    "papermill": {
     "duration": 0.087106,
     "end_time": "2023-08-13T18:38:38.327372",
     "exception": false,
     "start_time": "2023-08-13T18:38:38.240266",
     "status": "completed"
    },
    "tags": []
   },
   "outputs": [],
   "source": [
    "# rfe_vocab = voc_1gram_rfe + voc_2gram_rfe\n",
    "# len(rfe_vocab), rfe_vocab[:10], rfe_vocab[-10:]"
   ]
  },
  {
   "cell_type": "code",
   "execution_count": 179,
   "id": "4523095a",
   "metadata": {
    "execution": {
     "iopub.execute_input": "2023-08-13T18:38:38.489237Z",
     "iopub.status.busy": "2023-08-13T18:38:38.488450Z",
     "iopub.status.idle": "2023-08-13T18:38:38.492716Z",
     "shell.execute_reply": "2023-08-13T18:38:38.491684Z"
    },
    "papermill": {
     "duration": 0.087123,
     "end_time": "2023-08-13T18:38:38.494528",
     "exception": false,
     "start_time": "2023-08-13T18:38:38.407405",
     "status": "completed"
    },
    "tags": []
   },
   "outputs": [],
   "source": [
    "## Test RFE obtained vocabulary in final pipeline (only with reviewText)  \n",
    "# submit_v4(selected_model=LogisticRegression(C=5, solver=\"saga\", max_iter=100000),\n",
    "#           selected_features=rt_dict,\n",
    "#           param_grid=None,\n",
    "#           vocab=rfe_vocab)"
   ]
  },
  {
   "cell_type": "markdown",
   "id": "439c5023",
   "metadata": {
    "papermill": {
     "duration": 0.078978,
     "end_time": "2023-08-13T18:38:38.654677",
     "exception": false,
     "start_time": "2023-08-13T18:38:38.575699",
     "status": "completed"
    },
    "tags": []
   },
   "source": [
    "## Use rfe_vocab in final pipeline with all params  "
   ]
  },
  {
   "cell_type": "code",
   "execution_count": 180,
   "id": "27117cb3",
   "metadata": {
    "execution": {
     "iopub.execute_input": "2023-08-13T18:38:38.815569Z",
     "iopub.status.busy": "2023-08-13T18:38:38.814967Z",
     "iopub.status.idle": "2023-08-13T18:38:38.819952Z",
     "shell.execute_reply": "2023-08-13T18:38:38.819124Z"
    },
    "papermill": {
     "duration": 0.087795,
     "end_time": "2023-08-13T18:38:38.821805",
     "exception": false,
     "start_time": "2023-08-13T18:38:38.734010",
     "status": "completed"
    },
    "tags": []
   },
   "outputs": [],
   "source": [
    "# submit_v4(selected_model=LogisticRegression(max_iter=100000),\n",
    "#           selected_features=all_dict,\n",
    "#           param_grid=param_grid,\n",
    "#           vocab=rfe_vocab)"
   ]
  },
  {
   "cell_type": "code",
   "execution_count": 181,
   "id": "8cb0f40d",
   "metadata": {
    "execution": {
     "iopub.execute_input": "2023-08-13T18:38:38.984529Z",
     "iopub.status.busy": "2023-08-13T18:38:38.983475Z",
     "iopub.status.idle": "2023-08-13T18:38:38.995977Z",
     "shell.execute_reply": "2023-08-13T18:38:38.994919Z"
    },
    "papermill": {
     "duration": 0.096366,
     "end_time": "2023-08-13T18:38:38.998111",
     "exception": false,
     "start_time": "2023-08-13T18:38:38.901745",
     "status": "completed"
    },
    "tags": []
   },
   "outputs": [
    {
     "data": {
      "text/html": [
       "<style>#sk-container-id-1 {color: black;background-color: white;}#sk-container-id-1 pre{padding: 0;}#sk-container-id-1 div.sk-toggleable {background-color: white;}#sk-container-id-1 label.sk-toggleable__label {cursor: pointer;display: block;width: 100%;margin-bottom: 0;padding: 0.3em;box-sizing: border-box;text-align: center;}#sk-container-id-1 label.sk-toggleable__label-arrow:before {content: \"▸\";float: left;margin-right: 0.25em;color: #696969;}#sk-container-id-1 label.sk-toggleable__label-arrow:hover:before {color: black;}#sk-container-id-1 div.sk-estimator:hover label.sk-toggleable__label-arrow:before {color: black;}#sk-container-id-1 div.sk-toggleable__content {max-height: 0;max-width: 0;overflow: hidden;text-align: left;background-color: #f0f8ff;}#sk-container-id-1 div.sk-toggleable__content pre {margin: 0.2em;color: black;border-radius: 0.25em;background-color: #f0f8ff;}#sk-container-id-1 input.sk-toggleable__control:checked~div.sk-toggleable__content {max-height: 200px;max-width: 100%;overflow: auto;}#sk-container-id-1 input.sk-toggleable__control:checked~label.sk-toggleable__label-arrow:before {content: \"▾\";}#sk-container-id-1 div.sk-estimator input.sk-toggleable__control:checked~label.sk-toggleable__label {background-color: #d4ebff;}#sk-container-id-1 div.sk-label input.sk-toggleable__control:checked~label.sk-toggleable__label {background-color: #d4ebff;}#sk-container-id-1 input.sk-hidden--visually {border: 0;clip: rect(1px 1px 1px 1px);clip: rect(1px, 1px, 1px, 1px);height: 1px;margin: -1px;overflow: hidden;padding: 0;position: absolute;width: 1px;}#sk-container-id-1 div.sk-estimator {font-family: monospace;background-color: #f0f8ff;border: 1px dotted black;border-radius: 0.25em;box-sizing: border-box;margin-bottom: 0.5em;}#sk-container-id-1 div.sk-estimator:hover {background-color: #d4ebff;}#sk-container-id-1 div.sk-parallel-item::after {content: \"\";width: 100%;border-bottom: 1px solid gray;flex-grow: 1;}#sk-container-id-1 div.sk-label:hover label.sk-toggleable__label {background-color: #d4ebff;}#sk-container-id-1 div.sk-serial::before {content: \"\";position: absolute;border-left: 1px solid gray;box-sizing: border-box;top: 0;bottom: 0;left: 50%;z-index: 0;}#sk-container-id-1 div.sk-serial {display: flex;flex-direction: column;align-items: center;background-color: white;padding-right: 0.2em;padding-left: 0.2em;position: relative;}#sk-container-id-1 div.sk-item {position: relative;z-index: 1;}#sk-container-id-1 div.sk-parallel {display: flex;align-items: stretch;justify-content: center;background-color: white;position: relative;}#sk-container-id-1 div.sk-item::before, #sk-container-id-1 div.sk-parallel-item::before {content: \"\";position: absolute;border-left: 1px solid gray;box-sizing: border-box;top: 0;bottom: 0;left: 50%;z-index: -1;}#sk-container-id-1 div.sk-parallel-item {display: flex;flex-direction: column;z-index: 1;position: relative;background-color: white;}#sk-container-id-1 div.sk-parallel-item:first-child::after {align-self: flex-end;width: 50%;}#sk-container-id-1 div.sk-parallel-item:last-child::after {align-self: flex-start;width: 50%;}#sk-container-id-1 div.sk-parallel-item:only-child::after {width: 0;}#sk-container-id-1 div.sk-dashed-wrapped {border: 1px dashed gray;margin: 0 0.4em 0.5em 0.4em;box-sizing: border-box;padding-bottom: 0.4em;background-color: white;}#sk-container-id-1 div.sk-label label {font-family: monospace;font-weight: bold;display: inline-block;line-height: 1.2em;}#sk-container-id-1 div.sk-label-container {text-align: center;}#sk-container-id-1 div.sk-container {/* jupyter's `normalize.less` sets `[hidden] { display: none; }` but bootstrap.min.css set `[hidden] { display: none !important; }` so we also need the `!important` here to be able to override the default hidden behavior on the sphinx rendered scikit-learn.org. See: https://github.com/scikit-learn/scikit-learn/issues/21755 */display: inline-block !important;position: relative;}#sk-container-id-1 div.sk-text-repr-fallback {display: none;}</style><div id=\"sk-container-id-1\" class=\"sk-top-container\"><div class=\"sk-text-repr-fallback\"><pre>AdaBoostClassifier(estimator=LogisticRegression(C=5, max_iter=100000,\n",
       "                                                solver=&#x27;saga&#x27;))</pre><b>In a Jupyter environment, please rerun this cell to show the HTML representation or trust the notebook. <br />On GitHub, the HTML representation is unable to render, please try loading this page with nbviewer.org.</b></div><div class=\"sk-container\" hidden><div class=\"sk-item sk-dashed-wrapped\"><div class=\"sk-label-container\"><div class=\"sk-label sk-toggleable\"><input class=\"sk-toggleable__control sk-hidden--visually\" id=\"sk-estimator-id-1\" type=\"checkbox\" ><label for=\"sk-estimator-id-1\" class=\"sk-toggleable__label sk-toggleable__label-arrow\">AdaBoostClassifier</label><div class=\"sk-toggleable__content\"><pre>AdaBoostClassifier(estimator=LogisticRegression(C=5, max_iter=100000,\n",
       "                                                solver=&#x27;saga&#x27;))</pre></div></div></div><div class=\"sk-parallel\"><div class=\"sk-parallel-item\"><div class=\"sk-item\"><div class=\"sk-label-container\"><div class=\"sk-label sk-toggleable\"><input class=\"sk-toggleable__control sk-hidden--visually\" id=\"sk-estimator-id-2\" type=\"checkbox\" ><label for=\"sk-estimator-id-2\" class=\"sk-toggleable__label sk-toggleable__label-arrow\">estimator: LogisticRegression</label><div class=\"sk-toggleable__content\"><pre>LogisticRegression(C=5, max_iter=100000, solver=&#x27;saga&#x27;)</pre></div></div></div><div class=\"sk-serial\"><div class=\"sk-item\"><div class=\"sk-estimator sk-toggleable\"><input class=\"sk-toggleable__control sk-hidden--visually\" id=\"sk-estimator-id-3\" type=\"checkbox\" ><label for=\"sk-estimator-id-3\" class=\"sk-toggleable__label sk-toggleable__label-arrow\">LogisticRegression</label><div class=\"sk-toggleable__content\"><pre>LogisticRegression(C=5, max_iter=100000, solver=&#x27;saga&#x27;)</pre></div></div></div></div></div></div></div></div></div></div>"
      ],
      "text/plain": [
       "AdaBoostClassifier(estimator=LogisticRegression(C=5, max_iter=100000,\n",
       "                                                solver='saga'))"
      ]
     },
     "execution_count": 181,
     "metadata": {},
     "output_type": "execute_result"
    }
   ],
   "source": [
    "adc = AdaBoostClassifier(estimator=LogisticRegression(C=5, solver=\"saga\", max_iter=100000), n_estimators=50)\n",
    "adc"
   ]
  },
  {
   "cell_type": "code",
   "execution_count": 182,
   "id": "62c16ee2",
   "metadata": {
    "execution": {
     "iopub.execute_input": "2023-08-13T18:38:39.161118Z",
     "iopub.status.busy": "2023-08-13T18:38:39.160316Z",
     "iopub.status.idle": "2023-08-13T18:38:39.164914Z",
     "shell.execute_reply": "2023-08-13T18:38:39.164227Z"
    },
    "papermill": {
     "duration": 0.088028,
     "end_time": "2023-08-13T18:38:39.166763",
     "exception": false,
     "start_time": "2023-08-13T18:38:39.078735",
     "status": "completed"
    },
    "tags": []
   },
   "outputs": [],
   "source": [
    "# submit_v4(selected_model=adc,\n",
    "#           selected_features={'cat': ['isFrequentReviewer']},\n",
    "#           param_grid=None,\n",
    "#           vocab=rfe_vocab)"
   ]
  },
  {
   "cell_type": "code",
   "execution_count": 183,
   "id": "d88f2b34",
   "metadata": {
    "execution": {
     "iopub.execute_input": "2023-08-13T18:38:39.328821Z",
     "iopub.status.busy": "2023-08-13T18:38:39.327773Z",
     "iopub.status.idle": "2023-08-13T18:38:39.331732Z",
     "shell.execute_reply": "2023-08-13T18:38:39.331051Z"
    },
    "papermill": {
     "duration": 0.086766,
     "end_time": "2023-08-13T18:38:39.333594",
     "exception": false,
     "start_time": "2023-08-13T18:38:39.246828",
     "status": "completed"
    },
    "tags": []
   },
   "outputs": [],
   "source": [
    "# AdaBoost on all features with RFE vocab on reviewText\n",
    "\n",
    "# submit_v4(selected_model=adc,\n",
    "#           selected_features=all_dict,\n",
    "#           param_grid=None,\n",
    "#           vocab=rfe_vocab)"
   ]
  },
  {
   "cell_type": "code",
   "execution_count": 184,
   "id": "c3afce8a",
   "metadata": {
    "execution": {
     "iopub.execute_input": "2023-08-13T18:38:39.496437Z",
     "iopub.status.busy": "2023-08-13T18:38:39.495835Z",
     "iopub.status.idle": "2023-08-13T18:38:39.499461Z",
     "shell.execute_reply": "2023-08-13T18:38:39.498554Z"
    },
    "papermill": {
     "duration": 0.087107,
     "end_time": "2023-08-13T18:38:39.501359",
     "exception": false,
     "start_time": "2023-08-13T18:38:39.414252",
     "status": "completed"
    },
    "tags": []
   },
   "outputs": [],
   "source": [
    "# RandomForestClassifier test run on one feature\n",
    "\n",
    "# rfc_2 = RandomForestClassifier()\n",
    "# rfc_2"
   ]
  },
  {
   "cell_type": "code",
   "execution_count": 185,
   "id": "5d355383",
   "metadata": {
    "execution": {
     "iopub.execute_input": "2023-08-13T18:38:39.667852Z",
     "iopub.status.busy": "2023-08-13T18:38:39.666848Z",
     "iopub.status.idle": "2023-08-13T18:38:39.672051Z",
     "shell.execute_reply": "2023-08-13T18:38:39.670643Z"
    },
    "papermill": {
     "duration": 0.091725,
     "end_time": "2023-08-13T18:38:39.674506",
     "exception": false,
     "start_time": "2023-08-13T18:38:39.582781",
     "status": "completed"
    },
    "tags": []
   },
   "outputs": [],
   "source": [
    "# submit_v4(selected_model=rfc_2,\n",
    "#           selected_features={'txt': ['reviewerName']},\n",
    "#           param_grid=None,\n",
    "#           vocab=rfe_vocab)"
   ]
  },
  {
   "cell_type": "code",
   "execution_count": 186,
   "id": "d4849f8f",
   "metadata": {
    "execution": {
     "iopub.execute_input": "2023-08-13T18:38:39.857049Z",
     "iopub.status.busy": "2023-08-13T18:38:39.856334Z",
     "iopub.status.idle": "2023-08-13T18:38:39.860339Z",
     "shell.execute_reply": "2023-08-13T18:38:39.859406Z"
    },
    "papermill": {
     "duration": 0.089531,
     "end_time": "2023-08-13T18:38:39.862391",
     "exception": false,
     "start_time": "2023-08-13T18:38:39.772860",
     "status": "completed"
    },
    "tags": []
   },
   "outputs": [],
   "source": [
    "# RandomForestClassifier on all features with RFE vocab on reviewText\n",
    "\n",
    "# submit_v4(selected_model=rfc_2,\n",
    "#           selected_features=all_dict,\n",
    "#           param_grid=None,\n",
    "#           vocab=rfe_vocab)"
   ]
  },
  {
   "cell_type": "markdown",
   "id": "0844a0e2",
   "metadata": {
    "papermill": {
     "duration": 0.080239,
     "end_time": "2023-08-13T18:38:40.023514",
     "exception": false,
     "start_time": "2023-08-13T18:38:39.943275",
     "status": "completed"
    },
    "tags": []
   },
   "source": [
    "## Submit_v2 for merged file models  "
   ]
  },
  {
   "cell_type": "code",
   "execution_count": 187,
   "id": "11613922",
   "metadata": {
    "execution": {
     "iopub.execute_input": "2023-08-13T18:38:40.187154Z",
     "iopub.status.busy": "2023-08-13T18:38:40.186416Z",
     "iopub.status.idle": "2023-08-13T18:38:40.191943Z",
     "shell.execute_reply": "2023-08-13T18:38:40.190778Z"
    },
    "papermill": {
     "duration": 0.089811,
     "end_time": "2023-08-13T18:38:40.194473",
     "exception": false,
     "start_time": "2023-08-13T18:38:40.104662",
     "status": "completed"
    },
    "tags": []
   },
   "outputs": [],
   "source": [
    "# def submit_v2(selected_model=pipe_final, selected_features=None):\n",
    "#     '''\n",
    "#     Note that \"selected_preprocessor\" is already used within selected_model or pipeline\n",
    "#     '''\n",
    "#     # Retrain on the whole train.csv file  \n",
    "#     merged = select_features(load_csv(\"train\"), load_csv(\"movies\"))\n",
    "#     X_train = merged.drop(labels=\"sentiment\", axis=1)\n",
    "#     y_train = merged[\"sentiment\"]\n",
    "    \n",
    "#     #Use selected features\n",
    "#     if selected_features:\n",
    "#         X_train = X_train[selected_features]\n",
    "    \n",
    "#     # Check1\n",
    "#     print(X_train.shape)\n",
    "#     print(X_train.head())\n",
    "#     try:\n",
    "#         print(selected_model.named_steps['model'].intercept_, selected_model.named_steps['model'].coef_)\n",
    "#     except:\n",
    "#         print(\"Model not trained yet!\")\n",
    "    \n",
    "#     # Fit \n",
    "#     selected_model.fit(X_train, y_train)\n",
    "    \n",
    "#     # Check2\n",
    "#     print(selected_model.named_steps['model'].intercept_, selected_model.named_steps['model'].coef_)\n",
    "    \n",
    "#     # Predict on test.csv file\n",
    "#     merged_test = select_features(load_csv(\"test\"), load_csv(\"movies\"))\n",
    "#     X_test = merged_test.copy()\n",
    "#     if selected_features:\n",
    "#         X_test = X_test[selected_features]\n",
    "    \n",
    "#     # Check3\n",
    "#     print(X_test.shape)\n",
    "#     print(X_test.head())\n",
    "    \n",
    "#     y_pred = selected_model.predict(X_test)\n",
    "    \n",
    "#     pred_df = pd.DataFrame(y_pred)\n",
    "#     pred_df.columns = [\"sentiment\"]\n",
    "#     pred_df.index.name = \"id\"\n",
    "#     pred_df.to_csv(\"submission.csv\")\n",
    "    \n",
    "#     return \"Successfully created the submission file!!!\""
   ]
  },
  {
   "cell_type": "code",
   "execution_count": 188,
   "id": "d8edb1ad",
   "metadata": {
    "execution": {
     "iopub.execute_input": "2023-08-13T18:38:40.359090Z",
     "iopub.status.busy": "2023-08-13T18:38:40.358354Z",
     "iopub.status.idle": "2023-08-13T18:38:40.362831Z",
     "shell.execute_reply": "2023-08-13T18:38:40.361610Z"
    },
    "papermill": {
     "duration": 0.089149,
     "end_time": "2023-08-13T18:38:40.365223",
     "exception": false,
     "start_time": "2023-08-13T18:38:40.276074",
     "status": "completed"
    },
    "tags": []
   },
   "outputs": [],
   "source": [
    "#     X_test = merged_test.copy()\n",
    "    \n",
    "#     y_pred = pipe_best4.predict(X_test)\n",
    "# #     np.unique(y_pred, return_counts=True)\n",
    "#     pred_df = pd.DataFrame(y_pred)\n",
    "#     pred_df.columns = [\"sentiment\"]\n",
    "#     pred_df.index.name = \"id\"\n",
    "#     pred_df.value_counts()"
   ]
  },
  {
   "cell_type": "code",
   "execution_count": 189,
   "id": "e54c2304",
   "metadata": {
    "execution": {
     "iopub.execute_input": "2023-08-13T18:38:40.529200Z",
     "iopub.status.busy": "2023-08-13T18:38:40.528768Z",
     "iopub.status.idle": "2023-08-13T18:38:40.533272Z",
     "shell.execute_reply": "2023-08-13T18:38:40.532309Z"
    },
    "papermill": {
     "duration": 0.08809,
     "end_time": "2023-08-13T18:38:40.535250",
     "exception": false,
     "start_time": "2023-08-13T18:38:40.447160",
     "status": "completed"
    },
    "tags": []
   },
   "outputs": [],
   "source": [
    "# X_test.columns"
   ]
  },
  {
   "cell_type": "markdown",
   "id": "2a74e572",
   "metadata": {
    "papermill": {
     "duration": 0.079802,
     "end_time": "2023-08-13T18:38:40.696206",
     "exception": false,
     "start_time": "2023-08-13T18:38:40.616404",
     "status": "completed"
    },
    "tags": []
   },
   "source": [
    "### Uncomment to submit using v2 of submit function  "
   ]
  },
  {
   "cell_type": "code",
   "execution_count": 190,
   "id": "8678130f",
   "metadata": {
    "execution": {
     "iopub.execute_input": "2023-08-13T18:38:40.858733Z",
     "iopub.status.busy": "2023-08-13T18:38:40.858042Z",
     "iopub.status.idle": "2023-08-13T18:38:40.862447Z",
     "shell.execute_reply": "2023-08-13T18:38:40.861374Z"
    },
    "papermill": {
     "duration": 0.088079,
     "end_time": "2023-08-13T18:38:40.864619",
     "exception": false,
     "start_time": "2023-08-13T18:38:40.776540",
     "status": "completed"
    },
    "tags": []
   },
   "outputs": [],
   "source": [
    "# best4 = [\"audienceScore\", \"rating\", \"isFrequentReviewer\", \"reviewText\"]\n",
    "# best4"
   ]
  },
  {
   "cell_type": "code",
   "execution_count": 191,
   "id": "e79353f5",
   "metadata": {
    "execution": {
     "iopub.execute_input": "2023-08-13T18:38:41.034545Z",
     "iopub.status.busy": "2023-08-13T18:38:41.034106Z",
     "iopub.status.idle": "2023-08-13T18:38:41.038759Z",
     "shell.execute_reply": "2023-08-13T18:38:41.037602Z"
    },
    "papermill": {
     "duration": 0.095344,
     "end_time": "2023-08-13T18:38:41.040682",
     "exception": false,
     "start_time": "2023-08-13T18:38:40.945338",
     "status": "completed"
    },
    "tags": []
   },
   "outputs": [],
   "source": [
    "# submit_v2(selected_model=pipe_RTonly, selected_features=['reviewText'])"
   ]
  },
  {
   "cell_type": "markdown",
   "id": "fa138622",
   "metadata": {
    "papermill": {
     "duration": 0.080774,
     "end_time": "2023-08-13T18:38:41.201825",
     "exception": false,
     "start_time": "2023-08-13T18:38:41.121051",
     "status": "completed"
    },
    "tags": []
   },
   "source": [
    "### Inspect the submission.csv file  "
   ]
  },
  {
   "cell_type": "code",
   "execution_count": 192,
   "id": "a0bb4a11",
   "metadata": {
    "execution": {
     "iopub.execute_input": "2023-08-13T18:38:41.363842Z",
     "iopub.status.busy": "2023-08-13T18:38:41.363153Z",
     "iopub.status.idle": "2023-08-13T18:38:41.367407Z",
     "shell.execute_reply": "2023-08-13T18:38:41.366279Z"
    },
    "papermill": {
     "duration": 0.087502,
     "end_time": "2023-08-13T18:38:41.369435",
     "exception": false,
     "start_time": "2023-08-13T18:38:41.281933",
     "status": "completed"
    },
    "tags": []
   },
   "outputs": [],
   "source": [
    "# sub = pd.read_csv('submission.csv')\n",
    "# sub.shape, sub.head()"
   ]
  },
  {
   "cell_type": "code",
   "execution_count": 193,
   "id": "9f654865",
   "metadata": {
    "execution": {
     "iopub.execute_input": "2023-08-13T18:38:41.532848Z",
     "iopub.status.busy": "2023-08-13T18:38:41.532435Z",
     "iopub.status.idle": "2023-08-13T18:38:41.537235Z",
     "shell.execute_reply": "2023-08-13T18:38:41.536068Z"
    },
    "papermill": {
     "duration": 0.088437,
     "end_time": "2023-08-13T18:38:41.539217",
     "exception": false,
     "start_time": "2023-08-13T18:38:41.450780",
     "status": "completed"
    },
    "tags": []
   },
   "outputs": [],
   "source": [
    "# sub['sentiment'].value_counts()"
   ]
  },
  {
   "cell_type": "markdown",
   "id": "2f2dc973",
   "metadata": {
    "papermill": {
     "duration": 0.079742,
     "end_time": "2023-08-13T18:38:41.699331",
     "exception": false,
     "start_time": "2023-08-13T18:38:41.619589",
     "status": "completed"
    },
    "tags": []
   },
   "source": [
    "## submit_v3 for merged file models - does not retrain on whole data  "
   ]
  },
  {
   "cell_type": "code",
   "execution_count": 194,
   "id": "d50b6e3b",
   "metadata": {
    "execution": {
     "iopub.execute_input": "2023-08-13T18:38:41.862208Z",
     "iopub.status.busy": "2023-08-13T18:38:41.861433Z",
     "iopub.status.idle": "2023-08-13T18:38:41.865651Z",
     "shell.execute_reply": "2023-08-13T18:38:41.864963Z"
    },
    "papermill": {
     "duration": 0.088553,
     "end_time": "2023-08-13T18:38:41.867565",
     "exception": false,
     "start_time": "2023-08-13T18:38:41.779012",
     "status": "completed"
    },
    "tags": []
   },
   "outputs": [],
   "source": [
    "# def submit_v3(selected_model=pipe_final):\n",
    "#     '''\n",
    "#     Note that \"selected_preprocessor\" is already used within selected_model or pipeline\n",
    "#     '''\n",
    "      \n",
    "#     # Predict on test.csv file\n",
    "#     merged_test = select_features(load_csv(\"test\"), load_csv(\"movies\"))\n",
    "#     X_test = merged_test.copy()\n",
    "    \n",
    "#     X_test = X_test[[\"audienceScore\", \"rating\", \"isFrequentReviewer\", \"reviewText\"]]    # This is a new line\n",
    "\n",
    "    \n",
    "#     y_pred = selected_model.predict(X_test)\n",
    "    \n",
    "#     pred_df = pd.DataFrame(y_pred)\n",
    "#     pred_df.columns = [\"sentiment\"]\n",
    "#     pred_df.index.name = \"id\"\n",
    "#     pred_df.to_csv(\"submission.csv\")\n",
    "    \n",
    "#     return \"Successfully created the submission file!!!\""
   ]
  },
  {
   "cell_type": "markdown",
   "id": "6979a2a4",
   "metadata": {
    "papermill": {
     "duration": 0.080772,
     "end_time": "2023-08-13T18:38:42.029122",
     "exception": false,
     "start_time": "2023-08-13T18:38:41.948350",
     "status": "completed"
    },
    "tags": []
   },
   "source": [
    "### Uncomment to submit using v3 of submit function  "
   ]
  },
  {
   "cell_type": "code",
   "execution_count": 195,
   "id": "eda82d72",
   "metadata": {
    "execution": {
     "iopub.execute_input": "2023-08-13T18:38:42.191357Z",
     "iopub.status.busy": "2023-08-13T18:38:42.190918Z",
     "iopub.status.idle": "2023-08-13T18:38:42.195328Z",
     "shell.execute_reply": "2023-08-13T18:38:42.194213Z"
    },
    "papermill": {
     "duration": 0.088269,
     "end_time": "2023-08-13T18:38:42.197407",
     "exception": false,
     "start_time": "2023-08-13T18:38:42.109138",
     "status": "completed"
    },
    "tags": []
   },
   "outputs": [],
   "source": [
    "# submit_v3(selected_model=pipe_best4)"
   ]
  },
  {
   "cell_type": "markdown",
   "id": "47e06914",
   "metadata": {
    "papermill": {
     "duration": 0.07966,
     "end_time": "2023-08-13T18:38:42.357435",
     "exception": false,
     "start_time": "2023-08-13T18:38:42.277775",
     "status": "completed"
    },
    "tags": []
   },
   "source": [
    "## Rough work  "
   ]
  },
  {
   "cell_type": "code",
   "execution_count": 196,
   "id": "5898c388",
   "metadata": {
    "execution": {
     "iopub.execute_input": "2023-08-13T18:38:42.521349Z",
     "iopub.status.busy": "2023-08-13T18:38:42.520915Z",
     "iopub.status.idle": "2023-08-13T18:38:47.064501Z",
     "shell.execute_reply": "2023-08-13T18:38:47.063331Z"
    },
    "papermill": {
     "duration": 4.629184,
     "end_time": "2023-08-13T18:38:47.067351",
     "exception": false,
     "start_time": "2023-08-13T18:38:42.438167",
     "status": "completed"
    },
    "tags": []
   },
   "outputs": [],
   "source": [
    "    # Predict on test.csv file\n",
    "    merged_test = select_features(load_csv(\"test\"), load_csv(\"movies\"))\n",
    "    X_test = merged_test.copy()\n",
    "    \n",
    "    X_test = X_test[[\"audienceScore\", \"rating\", \"isFrequentReviewer\", \"reviewText\"]]    # This is a new line"
   ]
  },
  {
   "cell_type": "code",
   "execution_count": 197,
   "id": "3d1d465b",
   "metadata": {
    "execution": {
     "iopub.execute_input": "2023-08-13T18:38:47.306780Z",
     "iopub.status.busy": "2023-08-13T18:38:47.305953Z",
     "iopub.status.idle": "2023-08-13T18:38:47.310629Z",
     "shell.execute_reply": "2023-08-13T18:38:47.309840Z"
    },
    "papermill": {
     "duration": 0.08822,
     "end_time": "2023-08-13T18:38:47.312683",
     "exception": false,
     "start_time": "2023-08-13T18:38:47.224463",
     "status": "completed"
    },
    "tags": []
   },
   "outputs": [],
   "source": [
    "# X_test.head()"
   ]
  },
  {
   "cell_type": "code",
   "execution_count": 198,
   "id": "b0a6e79f",
   "metadata": {
    "execution": {
     "iopub.execute_input": "2023-08-13T18:38:47.475614Z",
     "iopub.status.busy": "2023-08-13T18:38:47.474813Z",
     "iopub.status.idle": "2023-08-13T18:38:47.479297Z",
     "shell.execute_reply": "2023-08-13T18:38:47.478533Z"
    },
    "papermill": {
     "duration": 0.088733,
     "end_time": "2023-08-13T18:38:47.481201",
     "exception": false,
     "start_time": "2023-08-13T18:38:47.392468",
     "status": "completed"
    },
    "tags": []
   },
   "outputs": [],
   "source": [
    "# X_test['audienceScore'].describe()"
   ]
  },
  {
   "cell_type": "code",
   "execution_count": 199,
   "id": "6879b445",
   "metadata": {
    "execution": {
     "iopub.execute_input": "2023-08-13T18:38:47.643529Z",
     "iopub.status.busy": "2023-08-13T18:38:47.642736Z",
     "iopub.status.idle": "2023-08-13T18:38:47.647423Z",
     "shell.execute_reply": "2023-08-13T18:38:47.646466Z"
    },
    "papermill": {
     "duration": 0.08845,
     "end_time": "2023-08-13T18:38:47.649410",
     "exception": false,
     "start_time": "2023-08-13T18:38:47.560960",
     "status": "completed"
    },
    "tags": []
   },
   "outputs": [],
   "source": [
    "# X_test['rating'].value_counts()"
   ]
  },
  {
   "cell_type": "code",
   "execution_count": 200,
   "id": "5014afee",
   "metadata": {
    "execution": {
     "iopub.execute_input": "2023-08-13T18:38:47.811710Z",
     "iopub.status.busy": "2023-08-13T18:38:47.810966Z",
     "iopub.status.idle": "2023-08-13T18:38:47.815417Z",
     "shell.execute_reply": "2023-08-13T18:38:47.814330Z"
    },
    "papermill": {
     "duration": 0.088259,
     "end_time": "2023-08-13T18:38:47.817439",
     "exception": false,
     "start_time": "2023-08-13T18:38:47.729180",
     "status": "completed"
    },
    "tags": []
   },
   "outputs": [],
   "source": [
    "# X_test['isFrequentReviewer'].value_counts()"
   ]
  },
  {
   "cell_type": "markdown",
   "id": "230a7b20",
   "metadata": {
    "papermill": {
     "duration": 0.081319,
     "end_time": "2023-08-13T18:38:47.979108",
     "exception": false,
     "start_time": "2023-08-13T18:38:47.897789",
     "status": "completed"
    },
    "tags": []
   },
   "source": [
    "## Implement KNN classifier  "
   ]
  },
  {
   "cell_type": "code",
   "execution_count": 201,
   "id": "df913a66",
   "metadata": {
    "execution": {
     "iopub.execute_input": "2023-08-13T18:38:48.143016Z",
     "iopub.status.busy": "2023-08-13T18:38:48.142223Z",
     "iopub.status.idle": "2023-08-13T18:38:48.146988Z",
     "shell.execute_reply": "2023-08-13T18:38:48.146180Z"
    },
    "papermill": {
     "duration": 0.089049,
     "end_time": "2023-08-13T18:38:48.148942",
     "exception": false,
     "start_time": "2023-08-13T18:38:48.059893",
     "status": "completed"
    },
    "tags": []
   },
   "outputs": [],
   "source": [
    "# from sklearn.neighbors import KNeighborsClassifier"
   ]
  },
  {
   "cell_type": "code",
   "execution_count": 202,
   "id": "772a1330",
   "metadata": {
    "execution": {
     "iopub.execute_input": "2023-08-13T18:38:48.313563Z",
     "iopub.status.busy": "2023-08-13T18:38:48.312312Z",
     "iopub.status.idle": "2023-08-13T18:38:48.316747Z",
     "shell.execute_reply": "2023-08-13T18:38:48.315990Z"
    },
    "papermill": {
     "duration": 0.088413,
     "end_time": "2023-08-13T18:38:48.318630",
     "exception": false,
     "start_time": "2023-08-13T18:38:48.230217",
     "status": "completed"
    },
    "tags": []
   },
   "outputs": [],
   "source": [
    "# Note that we are borrowing \"ct_final\" column transformer from above  "
   ]
  },
  {
   "cell_type": "code",
   "execution_count": 203,
   "id": "aab4a2d5",
   "metadata": {
    "execution": {
     "iopub.execute_input": "2023-08-13T18:38:48.481214Z",
     "iopub.status.busy": "2023-08-13T18:38:48.480803Z",
     "iopub.status.idle": "2023-08-13T18:38:48.485038Z",
     "shell.execute_reply": "2023-08-13T18:38:48.484048Z"
    },
    "papermill": {
     "duration": 0.088702,
     "end_time": "2023-08-13T18:38:48.487073",
     "exception": false,
     "start_time": "2023-08-13T18:38:48.398371",
     "status": "completed"
    },
    "tags": []
   },
   "outputs": [],
   "source": [
    "# pipe_knn = Pipeline(steps=[\n",
    "#                         (\"preprocessor\", ct_final),\n",
    "#                         (\"model\", KNeighborsClassifier())\n",
    "#                     ])\n",
    "# pipe_knn"
   ]
  },
  {
   "cell_type": "code",
   "execution_count": 204,
   "id": "8453eb86",
   "metadata": {
    "execution": {
     "iopub.execute_input": "2023-08-13T18:38:48.651920Z",
     "iopub.status.busy": "2023-08-13T18:38:48.651518Z",
     "iopub.status.idle": "2023-08-13T18:38:48.655680Z",
     "shell.execute_reply": "2023-08-13T18:38:48.654650Z"
    },
    "papermill": {
     "duration": 0.090056,
     "end_time": "2023-08-13T18:38:48.657699",
     "exception": false,
     "start_time": "2023-08-13T18:38:48.567643",
     "status": "completed"
    },
    "tags": []
   },
   "outputs": [],
   "source": [
    "# Train and predict on merged training data  \n",
    "# split_train_predict(merged_train_features, merged_train_labels, pipe_knn, test_size=0.25, random_state=42)"
   ]
  },
  {
   "cell_type": "markdown",
   "id": "967a9d22",
   "metadata": {
    "papermill": {
     "duration": 0.079974,
     "end_time": "2023-08-13T18:38:48.817901",
     "exception": false,
     "start_time": "2023-08-13T18:38:48.737927",
     "status": "completed"
    },
    "tags": []
   },
   "source": [
    "# Part I (Older code)  "
   ]
  },
  {
   "cell_type": "markdown",
   "id": "290390b8",
   "metadata": {
    "papermill": {
     "duration": 0.079945,
     "end_time": "2023-08-13T18:38:48.979315",
     "exception": false,
     "start_time": "2023-08-13T18:38:48.899370",
     "status": "completed"
    },
    "tags": []
   },
   "source": [
    "### Logistic Regression with stop words  "
   ]
  },
  {
   "cell_type": "code",
   "execution_count": 205,
   "id": "b65ee67d",
   "metadata": {
    "execution": {
     "iopub.execute_input": "2023-08-13T18:38:49.142899Z",
     "iopub.status.busy": "2023-08-13T18:38:49.142496Z",
     "iopub.status.idle": "2023-08-13T18:38:49.146788Z",
     "shell.execute_reply": "2023-08-13T18:38:49.145769Z"
    },
    "papermill": {
     "duration": 0.087741,
     "end_time": "2023-08-13T18:38:49.148657",
     "exception": false,
     "start_time": "2023-08-13T18:38:49.060916",
     "status": "completed"
    },
    "tags": []
   },
   "outputs": [],
   "source": [
    "# tvec_sw = TfidfVectorizer(stop_words=stop_words)"
   ]
  },
  {
   "cell_type": "code",
   "execution_count": 206,
   "id": "0390842a",
   "metadata": {
    "execution": {
     "iopub.execute_input": "2023-08-13T18:38:49.311099Z",
     "iopub.status.busy": "2023-08-13T18:38:49.310304Z",
     "iopub.status.idle": "2023-08-13T18:38:49.314160Z",
     "shell.execute_reply": "2023-08-13T18:38:49.313373Z"
    },
    "papermill": {
     "duration": 0.087582,
     "end_time": "2023-08-13T18:38:49.316261",
     "exception": false,
     "start_time": "2023-08-13T18:38:49.228679",
     "status": "completed"
    },
    "tags": []
   },
   "outputs": [],
   "source": [
    "# logreg_sw_pipe = preprocess_n_train(X_train, y_train, tvec_sw, logreg)\n",
    "# logreg_sw_pipe"
   ]
  },
  {
   "cell_type": "code",
   "execution_count": 207,
   "id": "2ff1c5da",
   "metadata": {
    "execution": {
     "iopub.execute_input": "2023-08-13T18:38:49.478252Z",
     "iopub.status.busy": "2023-08-13T18:38:49.477818Z",
     "iopub.status.idle": "2023-08-13T18:38:49.482383Z",
     "shell.execute_reply": "2023-08-13T18:38:49.481360Z"
    },
    "papermill": {
     "duration": 0.088589,
     "end_time": "2023-08-13T18:38:49.484647",
     "exception": false,
     "start_time": "2023-08-13T18:38:49.396058",
     "status": "completed"
    },
    "tags": []
   },
   "outputs": [],
   "source": [
    "# y_pred_logreg_sw = predict_n_evaluate(logreg_sw_pipe, X_test, y_test)\n",
    "# y_pred_logreg_sw"
   ]
  },
  {
   "cell_type": "markdown",
   "id": "009ef2fb",
   "metadata": {
    "papermill": {
     "duration": 0.083042,
     "end_time": "2023-08-13T18:38:49.647896",
     "exception": false,
     "start_time": "2023-08-13T18:38:49.564854",
     "status": "completed"
    },
    "tags": []
   },
   "source": [
    "### Logistic regression with different ngram ranges  "
   ]
  },
  {
   "cell_type": "code",
   "execution_count": 208,
   "id": "01da8f55",
   "metadata": {
    "execution": {
     "iopub.execute_input": "2023-08-13T18:38:49.827978Z",
     "iopub.status.busy": "2023-08-13T18:38:49.827196Z",
     "iopub.status.idle": "2023-08-13T18:38:49.831642Z",
     "shell.execute_reply": "2023-08-13T18:38:49.830946Z"
    },
    "papermill": {
     "duration": 0.091987,
     "end_time": "2023-08-13T18:38:49.833669",
     "exception": false,
     "start_time": "2023-08-13T18:38:49.741682",
     "status": "completed"
    },
    "tags": []
   },
   "outputs": [],
   "source": [
    "# tvec_ngram_2 = TfidfVectorizer(ngram_range=(1,2))"
   ]
  },
  {
   "cell_type": "code",
   "execution_count": 209,
   "id": "59bedc72",
   "metadata": {
    "execution": {
     "iopub.execute_input": "2023-08-13T18:38:49.995022Z",
     "iopub.status.busy": "2023-08-13T18:38:49.994252Z",
     "iopub.status.idle": "2023-08-13T18:38:49.998684Z",
     "shell.execute_reply": "2023-08-13T18:38:49.997967Z"
    },
    "papermill": {
     "duration": 0.087408,
     "end_time": "2023-08-13T18:38:50.000653",
     "exception": false,
     "start_time": "2023-08-13T18:38:49.913245",
     "status": "completed"
    },
    "tags": []
   },
   "outputs": [],
   "source": [
    "# logreg_ng2_pipe = preprocess_n_train(X_train, y_train, tvec_ngram_2, logreg)\n",
    "# logreg_ng2_pipe"
   ]
  },
  {
   "cell_type": "code",
   "execution_count": 210,
   "id": "9ab1deb4",
   "metadata": {
    "execution": {
     "iopub.execute_input": "2023-08-13T18:38:50.162862Z",
     "iopub.status.busy": "2023-08-13T18:38:50.161889Z",
     "iopub.status.idle": "2023-08-13T18:38:50.166808Z",
     "shell.execute_reply": "2023-08-13T18:38:50.166042Z"
    },
    "papermill": {
     "duration": 0.088396,
     "end_time": "2023-08-13T18:38:50.168922",
     "exception": false,
     "start_time": "2023-08-13T18:38:50.080526",
     "status": "completed"
    },
    "tags": []
   },
   "outputs": [],
   "source": [
    "# y_pred_logreg_ng2 = predict_n_evaluate(logreg_ng2_pipe, X_test, y_test)\n",
    "# y_pred_logreg_ng2"
   ]
  },
  {
   "cell_type": "markdown",
   "id": "16806837",
   "metadata": {
    "papermill": {
     "duration": 0.079158,
     "end_time": "2023-08-13T18:38:50.327971",
     "exception": false,
     "start_time": "2023-08-13T18:38:50.248813",
     "status": "completed"
    },
    "tags": []
   },
   "source": [
    "### Logistic regression with C=2, ngram range (1,2), stop words as None and min_df, max_df adjusted\n",
    "### Class weight balanced"
   ]
  },
  {
   "cell_type": "code",
   "execution_count": 211,
   "id": "b003ca8a",
   "metadata": {
    "execution": {
     "iopub.execute_input": "2023-08-13T18:38:50.491527Z",
     "iopub.status.busy": "2023-08-13T18:38:50.490741Z",
     "iopub.status.idle": "2023-08-13T18:38:50.495397Z",
     "shell.execute_reply": "2023-08-13T18:38:50.494469Z"
    },
    "papermill": {
     "duration": 0.089719,
     "end_time": "2023-08-13T18:38:50.497522",
     "exception": false,
     "start_time": "2023-08-13T18:38:50.407803",
     "status": "completed"
    },
    "tags": []
   },
   "outputs": [],
   "source": [
    "# logreg = LogisticRegression(max_iter=100000, C=2, class_weight=\"balanced\")"
   ]
  },
  {
   "cell_type": "code",
   "execution_count": 212,
   "id": "3080d37e",
   "metadata": {
    "execution": {
     "iopub.execute_input": "2023-08-13T18:38:50.662155Z",
     "iopub.status.busy": "2023-08-13T18:38:50.661382Z",
     "iopub.status.idle": "2023-08-13T18:38:50.665707Z",
     "shell.execute_reply": "2023-08-13T18:38:50.665024Z"
    },
    "papermill": {
     "duration": 0.089692,
     "end_time": "2023-08-13T18:38:50.667590",
     "exception": false,
     "start_time": "2023-08-13T18:38:50.577898",
     "status": "completed"
    },
    "tags": []
   },
   "outputs": [],
   "source": [
    "# tvec_ngram_2_sw_df = TfidfVectorizer(ngram_range=(1,2), stop_words=None, min_df=0.0001, max_df=0.50)\n",
    "# tvec_ngram_2_sw_df"
   ]
  },
  {
   "cell_type": "code",
   "execution_count": 213,
   "id": "6568f67a",
   "metadata": {
    "execution": {
     "iopub.execute_input": "2023-08-13T18:38:50.829615Z",
     "iopub.status.busy": "2023-08-13T18:38:50.828908Z",
     "iopub.status.idle": "2023-08-13T18:38:50.833356Z",
     "shell.execute_reply": "2023-08-13T18:38:50.832072Z"
    },
    "papermill": {
     "duration": 0.088217,
     "end_time": "2023-08-13T18:38:50.835655",
     "exception": false,
     "start_time": "2023-08-13T18:38:50.747438",
     "status": "completed"
    },
    "tags": []
   },
   "outputs": [],
   "source": [
    "# logreg_ng2_sw_df_pipe = preprocess_n_train(X_train, y_train, tvec_ngram_2_sw_df, logreg)\n",
    "# logreg_ng2_sw_df_pipe"
   ]
  },
  {
   "cell_type": "code",
   "execution_count": 214,
   "id": "8ad114da",
   "metadata": {
    "execution": {
     "iopub.execute_input": "2023-08-13T18:38:50.998525Z",
     "iopub.status.busy": "2023-08-13T18:38:50.998102Z",
     "iopub.status.idle": "2023-08-13T18:38:51.002702Z",
     "shell.execute_reply": "2023-08-13T18:38:51.001586Z"
    },
    "papermill": {
     "duration": 0.088382,
     "end_time": "2023-08-13T18:38:51.004707",
     "exception": false,
     "start_time": "2023-08-13T18:38:50.916325",
     "status": "completed"
    },
    "tags": []
   },
   "outputs": [],
   "source": [
    "# y_pred_logreg_ng2_sw_df = predict_n_evaluate(logreg_ng2_sw_df_pipe, X_test, y_test)\n",
    "# y_pred_logreg_ng2_sw_df"
   ]
  },
  {
   "cell_type": "markdown",
   "id": "56934e16",
   "metadata": {
    "papermill": {
     "duration": 0.080768,
     "end_time": "2023-08-13T18:38:51.166100",
     "exception": false,
     "start_time": "2023-08-13T18:38:51.085332",
     "status": "completed"
    },
    "tags": []
   },
   "source": [
    "### Log reg with parameters from GridSearchCV  \n",
    "\n",
    "`This is the best score with \"reviewText column alone for analysis`  "
   ]
  },
  {
   "cell_type": "code",
   "execution_count": 215,
   "id": "6fcbfdcb",
   "metadata": {
    "execution": {
     "iopub.execute_input": "2023-08-13T18:38:51.329132Z",
     "iopub.status.busy": "2023-08-13T18:38:51.328703Z",
     "iopub.status.idle": "2023-08-13T18:38:51.334051Z",
     "shell.execute_reply": "2023-08-13T18:38:51.332794Z"
    },
    "papermill": {
     "duration": 0.089058,
     "end_time": "2023-08-13T18:38:51.336140",
     "exception": false,
     "start_time": "2023-08-13T18:38:51.247082",
     "status": "completed"
    },
    "tags": []
   },
   "outputs": [],
   "source": [
    "logreg_cv1 = LogisticRegression(max_iter=100000, C=10)\n",
    "tvec_cv1 = TfidfVectorizer(max_features=None, ngram_range=(1,2))"
   ]
  },
  {
   "cell_type": "code",
   "execution_count": 216,
   "id": "e2c45c53",
   "metadata": {
    "execution": {
     "iopub.execute_input": "2023-08-13T18:38:51.500208Z",
     "iopub.status.busy": "2023-08-13T18:38:51.499766Z",
     "iopub.status.idle": "2023-08-13T18:38:51.505050Z",
     "shell.execute_reply": "2023-08-13T18:38:51.503978Z"
    },
    "papermill": {
     "duration": 0.090066,
     "end_time": "2023-08-13T18:38:51.507099",
     "exception": false,
     "start_time": "2023-08-13T18:38:51.417033",
     "status": "completed"
    },
    "tags": []
   },
   "outputs": [],
   "source": [
    "pipe_cv1 = Pipeline(steps=[\n",
    "    (\"preprocessor\", tvec_cv1),\n",
    "    (\"model\", logreg_cv1)\n",
    "])"
   ]
  },
  {
   "cell_type": "code",
   "execution_count": 217,
   "id": "5ca5e071",
   "metadata": {
    "execution": {
     "iopub.execute_input": "2023-08-13T18:38:51.672909Z",
     "iopub.status.busy": "2023-08-13T18:38:51.672061Z",
     "iopub.status.idle": "2023-08-13T18:38:51.677072Z",
     "shell.execute_reply": "2023-08-13T18:38:51.675880Z"
    },
    "papermill": {
     "duration": 0.089127,
     "end_time": "2023-08-13T18:38:51.679025",
     "exception": false,
     "start_time": "2023-08-13T18:38:51.589898",
     "status": "completed"
    },
    "tags": []
   },
   "outputs": [],
   "source": [
    "# pipe_cv1.fit(X_train, y_train)"
   ]
  },
  {
   "cell_type": "code",
   "execution_count": 218,
   "id": "7f59fc7c",
   "metadata": {
    "execution": {
     "iopub.execute_input": "2023-08-13T18:38:51.841896Z",
     "iopub.status.busy": "2023-08-13T18:38:51.841474Z",
     "iopub.status.idle": "2023-08-13T18:38:51.846042Z",
     "shell.execute_reply": "2023-08-13T18:38:51.844982Z"
    },
    "papermill": {
     "duration": 0.089062,
     "end_time": "2023-08-13T18:38:51.848729",
     "exception": false,
     "start_time": "2023-08-13T18:38:51.759667",
     "status": "completed"
    },
    "tags": []
   },
   "outputs": [],
   "source": [
    "# pipe_cv1.score(X_train, y_train)"
   ]
  },
  {
   "cell_type": "markdown",
   "id": "cf9dcb48",
   "metadata": {
    "papermill": {
     "duration": 0.080377,
     "end_time": "2023-08-13T18:38:52.009489",
     "exception": false,
     "start_time": "2023-08-13T18:38:51.929112",
     "status": "completed"
    },
    "tags": []
   },
   "source": [
    "### SVM model with stop words  "
   ]
  },
  {
   "cell_type": "code",
   "execution_count": 219,
   "id": "594ff13b",
   "metadata": {
    "execution": {
     "iopub.execute_input": "2023-08-13T18:38:52.174227Z",
     "iopub.status.busy": "2023-08-13T18:38:52.173416Z",
     "iopub.status.idle": "2023-08-13T18:38:52.177733Z",
     "shell.execute_reply": "2023-08-13T18:38:52.177062Z"
    },
    "papermill": {
     "duration": 0.088654,
     "end_time": "2023-08-13T18:38:52.179781",
     "exception": false,
     "start_time": "2023-08-13T18:38:52.091127",
     "status": "completed"
    },
    "tags": []
   },
   "outputs": [],
   "source": [
    "# svm_sw_pipe = preprocess_n_train(X_train, y_train, tvec_sw, svm)\n",
    "# svm_sw_pipe"
   ]
  },
  {
   "cell_type": "code",
   "execution_count": 220,
   "id": "cad3d8cd",
   "metadata": {
    "execution": {
     "iopub.execute_input": "2023-08-13T18:38:52.349650Z",
     "iopub.status.busy": "2023-08-13T18:38:52.348620Z",
     "iopub.status.idle": "2023-08-13T18:38:52.352877Z",
     "shell.execute_reply": "2023-08-13T18:38:52.352097Z"
    },
    "papermill": {
     "duration": 0.094183,
     "end_time": "2023-08-13T18:38:52.355039",
     "exception": false,
     "start_time": "2023-08-13T18:38:52.260856",
     "status": "completed"
    },
    "tags": []
   },
   "outputs": [],
   "source": [
    "# y_pred_svm_sw = predict_n_evaluate(svm_sw_pipe, X_test, y_test)\n",
    "# y_pred_svm_sw"
   ]
  },
  {
   "cell_type": "markdown",
   "id": "f3daed83",
   "metadata": {
    "papermill": {
     "duration": 0.081121,
     "end_time": "2023-08-13T18:38:52.517680",
     "exception": false,
     "start_time": "2023-08-13T18:38:52.436559",
     "status": "completed"
    },
    "tags": []
   },
   "source": [
    "### GaussianNB  "
   ]
  },
  {
   "cell_type": "markdown",
   "id": "bfcd9949",
   "metadata": {
    "papermill": {
     "duration": 0.079999,
     "end_time": "2023-08-13T18:38:52.680713",
     "exception": false,
     "start_time": "2023-08-13T18:38:52.600714",
     "status": "completed"
    },
    "tags": []
   },
   "source": [
    "https://stackoverflow.com/questions/28384680/scikit-learns-pipeline-a-sparse-matrix-was-passed-but-dense-data-is-required"
   ]
  },
  {
   "cell_type": "code",
   "execution_count": 221,
   "id": "bdf870b2",
   "metadata": {
    "execution": {
     "iopub.execute_input": "2023-08-13T18:38:52.843655Z",
     "iopub.status.busy": "2023-08-13T18:38:52.842860Z",
     "iopub.status.idle": "2023-08-13T18:38:52.846981Z",
     "shell.execute_reply": "2023-08-13T18:38:52.846239Z"
    },
    "papermill": {
     "duration": 0.087864,
     "end_time": "2023-08-13T18:38:52.848989",
     "exception": false,
     "start_time": "2023-08-13T18:38:52.761125",
     "status": "completed"
    },
    "tags": []
   },
   "outputs": [],
   "source": [
    "# gnb = GaussianNB()\n",
    "# gnb"
   ]
  },
  {
   "cell_type": "code",
   "execution_count": 222,
   "id": "cf4981ce",
   "metadata": {
    "execution": {
     "iopub.execute_input": "2023-08-13T18:38:53.013330Z",
     "iopub.status.busy": "2023-08-13T18:38:53.012887Z",
     "iopub.status.idle": "2023-08-13T18:38:53.017416Z",
     "shell.execute_reply": "2023-08-13T18:38:53.016348Z"
    },
    "papermill": {
     "duration": 0.08904,
     "end_time": "2023-08-13T18:38:53.019685",
     "exception": false,
     "start_time": "2023-08-13T18:38:52.930645",
     "status": "completed"
    },
    "tags": []
   },
   "outputs": [],
   "source": [
    "# gnb_pipe = preprocess_n_train(X_train, y_train, tvec, gnb)\n",
    "# gnb_pipe"
   ]
  },
  {
   "cell_type": "markdown",
   "id": "56abf9f4",
   "metadata": {
    "papermill": {
     "duration": 0.080501,
     "end_time": "2023-08-13T18:38:53.180826",
     "exception": false,
     "start_time": "2023-08-13T18:38:53.100325",
     "status": "completed"
    },
    "tags": []
   },
   "source": [
    "# Part II (Older code)  \n"
   ]
  },
  {
   "cell_type": "markdown",
   "id": "975f7845",
   "metadata": {
    "papermill": {
     "duration": 0.079602,
     "end_time": "2023-08-13T18:38:53.341405",
     "exception": false,
     "start_time": "2023-08-13T18:38:53.261803",
     "status": "completed"
    },
    "tags": []
   },
   "source": [
    "### Separate features and labels from merged dataset  "
   ]
  },
  {
   "cell_type": "code",
   "execution_count": 223,
   "id": "76d6719a",
   "metadata": {
    "execution": {
     "iopub.execute_input": "2023-08-13T18:38:53.504524Z",
     "iopub.status.busy": "2023-08-13T18:38:53.503764Z",
     "iopub.status.idle": "2023-08-13T18:38:53.507717Z",
     "shell.execute_reply": "2023-08-13T18:38:53.506949Z"
    },
    "papermill": {
     "duration": 0.088142,
     "end_time": "2023-08-13T18:38:53.509657",
     "exception": false,
     "start_time": "2023-08-13T18:38:53.421515",
     "status": "completed"
    },
    "tags": []
   },
   "outputs": [],
   "source": [
    "# merged_train_features = merged[['movieid', 'reviewerName', 'isFrequentReviewer', 'reviewText',\n",
    "#        'audienceScore', 'rating', 'runtimeMinutes', 'genre',\n",
    "#        'originalLanguage', 'director']]\n",
    "# merged_train_features.shape"
   ]
  },
  {
   "cell_type": "code",
   "execution_count": 224,
   "id": "b795139b",
   "metadata": {
    "execution": {
     "iopub.execute_input": "2023-08-13T18:38:53.674495Z",
     "iopub.status.busy": "2023-08-13T18:38:53.673729Z",
     "iopub.status.idle": "2023-08-13T18:38:53.678090Z",
     "shell.execute_reply": "2023-08-13T18:38:53.677052Z"
    },
    "papermill": {
     "duration": 0.090178,
     "end_time": "2023-08-13T18:38:53.680390",
     "exception": false,
     "start_time": "2023-08-13T18:38:53.590212",
     "status": "completed"
    },
    "tags": []
   },
   "outputs": [],
   "source": [
    "# merged_train_labels = merged[\"sentiment\"]\n",
    "# merged_train_labels.shape"
   ]
  },
  {
   "cell_type": "markdown",
   "id": "65d3e3cc",
   "metadata": {
    "papermill": {
     "duration": 0.081662,
     "end_time": "2023-08-13T18:38:53.843336",
     "exception": false,
     "start_time": "2023-08-13T18:38:53.761674",
     "status": "completed"
    },
    "tags": []
   },
   "source": [
    "### Identify variable types for different preprocessing pipes  "
   ]
  },
  {
   "cell_type": "code",
   "execution_count": 225,
   "id": "7abfd76a",
   "metadata": {
    "execution": {
     "iopub.execute_input": "2023-08-13T18:38:54.086178Z",
     "iopub.status.busy": "2023-08-13T18:38:54.085721Z",
     "iopub.status.idle": "2023-08-13T18:38:54.090364Z",
     "shell.execute_reply": "2023-08-13T18:38:54.089265Z"
    },
    "papermill": {
     "duration": 0.09137,
     "end_time": "2023-08-13T18:38:54.092301",
     "exception": false,
     "start_time": "2023-08-13T18:38:54.000931",
     "status": "completed"
    },
    "tags": []
   },
   "outputs": [],
   "source": [
    "# num_vars = [\"audienceScore\", \"runtimeMinutes\"]\n",
    "# txt_vars = [\"originalLanguage\", \"genre\", \"director\", \"reviewerName\", \"reviewText\"]\n",
    "# cat_vars = [\"rating\", \"isFrequentReviewer\"]"
   ]
  },
  {
   "cell_type": "code",
   "execution_count": 226,
   "id": "c4f372d3",
   "metadata": {
    "execution": {
     "iopub.execute_input": "2023-08-13T18:38:54.257156Z",
     "iopub.status.busy": "2023-08-13T18:38:54.256689Z",
     "iopub.status.idle": "2023-08-13T18:38:54.261104Z",
     "shell.execute_reply": "2023-08-13T18:38:54.260241Z"
    },
    "papermill": {
     "duration": 0.088612,
     "end_time": "2023-08-13T18:38:54.262968",
     "exception": false,
     "start_time": "2023-08-13T18:38:54.174356",
     "status": "completed"
    },
    "tags": []
   },
   "outputs": [],
   "source": [
    "# num_pipe = Pipeline(steps=[\n",
    "#                             (\"imputer\", SimpleImputer(strategy=\"mean\", missing_values=np.nan)),\n",
    "#                             (\"scaler\", MinMaxScaler())\n",
    "#                         ])\n",
    "# num_pipe"
   ]
  },
  {
   "cell_type": "code",
   "execution_count": 227,
   "id": "bdddb5e7",
   "metadata": {
    "execution": {
     "iopub.execute_input": "2023-08-13T18:38:54.427525Z",
     "iopub.status.busy": "2023-08-13T18:38:54.426476Z",
     "iopub.status.idle": "2023-08-13T18:38:54.431416Z",
     "shell.execute_reply": "2023-08-13T18:38:54.430387Z"
    },
    "papermill": {
     "duration": 0.089185,
     "end_time": "2023-08-13T18:38:54.433571",
     "exception": false,
     "start_time": "2023-08-13T18:38:54.344386",
     "status": "completed"
    },
    "tags": []
   },
   "outputs": [],
   "source": [
    "# txt_pipe = Pipeline(steps=[\n",
    "#                             (\"tvec\", TfidfVectorizer())\n",
    "#                         ])\n",
    "# txt_pipe"
   ]
  },
  {
   "cell_type": "code",
   "execution_count": 228,
   "id": "ce4bfd80",
   "metadata": {
    "execution": {
     "iopub.execute_input": "2023-08-13T18:38:54.596929Z",
     "iopub.status.busy": "2023-08-13T18:38:54.596405Z",
     "iopub.status.idle": "2023-08-13T18:38:54.601245Z",
     "shell.execute_reply": "2023-08-13T18:38:54.600118Z"
    },
    "papermill": {
     "duration": 0.088607,
     "end_time": "2023-08-13T18:38:54.603215",
     "exception": false,
     "start_time": "2023-08-13T18:38:54.514608",
     "status": "completed"
    },
    "tags": []
   },
   "outputs": [],
   "source": [
    "# cat_pipe = Pipeline(steps=[\n",
    "#                             (\"ohe\", OneHotEncoder(handle_unknown=\"ignore\"))\n",
    "#                         ])\n",
    "# cat_pipe"
   ]
  },
  {
   "cell_type": "code",
   "execution_count": 229,
   "id": "1da9a08c",
   "metadata": {
    "execution": {
     "iopub.execute_input": "2023-08-13T18:38:54.765543Z",
     "iopub.status.busy": "2023-08-13T18:38:54.764713Z",
     "iopub.status.idle": "2023-08-13T18:38:54.769291Z",
     "shell.execute_reply": "2023-08-13T18:38:54.768295Z"
    },
    "papermill": {
     "duration": 0.088055,
     "end_time": "2023-08-13T18:38:54.771279",
     "exception": false,
     "start_time": "2023-08-13T18:38:54.683224",
     "status": "completed"
    },
    "tags": []
   },
   "outputs": [],
   "source": [
    "# tfidf_vec_1 = TfidfVectorizer(ngram_range=(1,2))\n",
    "# tfidf_vec_1"
   ]
  },
  {
   "cell_type": "code",
   "execution_count": 230,
   "id": "ada3ce92",
   "metadata": {
    "execution": {
     "iopub.execute_input": "2023-08-13T18:38:54.933051Z",
     "iopub.status.busy": "2023-08-13T18:38:54.932268Z",
     "iopub.status.idle": "2023-08-13T18:38:54.936874Z",
     "shell.execute_reply": "2023-08-13T18:38:54.936191Z"
    },
    "papermill": {
     "duration": 0.087425,
     "end_time": "2023-08-13T18:38:54.938679",
     "exception": false,
     "start_time": "2023-08-13T18:38:54.851254",
     "status": "completed"
    },
    "tags": []
   },
   "outputs": [],
   "source": [
    "# ct_final = ColumnTransformer(transformers=[\n",
    "#                                         (\"num\", num_pipe, num_vars),\n",
    "#                                         (\"txt1\", txt_pipe, \"originalLanguage\"),\n",
    "#                                         (\"txt2\", txt_pipe, \"genre\"),\n",
    "#                                         (\"txt3\", txt_pipe, \"director\"),\n",
    "#                                         (\"cat\", cat_pipe, cat_vars),\n",
    "#                                         (\"txt4a\", tfidf_vec_1, \"reviewText\")\n",
    "# #                                         (\"txt4\", TfidfVectorizer(ngram_range=(1,2)), \"reviewText\"),\n",
    "# #                                         (\"cat2\", cat_pipe, [\"isFrequentReviewer\"])\n",
    "#                                         ], remainder=\"drop\", n_jobs=1)\n",
    "\n",
    "# # Note that this transformer drops \"movieid\" column and \"reviewerName\" column  \n",
    "# ct_final"
   ]
  },
  {
   "cell_type": "code",
   "execution_count": 231,
   "id": "78f92e8e",
   "metadata": {
    "execution": {
     "iopub.execute_input": "2023-08-13T18:38:55.102432Z",
     "iopub.status.busy": "2023-08-13T18:38:55.102020Z",
     "iopub.status.idle": "2023-08-13T18:38:55.106441Z",
     "shell.execute_reply": "2023-08-13T18:38:55.105419Z"
    },
    "papermill": {
     "duration": 0.088707,
     "end_time": "2023-08-13T18:38:55.108550",
     "exception": false,
     "start_time": "2023-08-13T18:38:55.019843",
     "status": "completed"
    },
    "tags": []
   },
   "outputs": [],
   "source": [
    "# pipe_final = Pipeline(steps=[\n",
    "#                         (\"preprocessor\", ct_final),\n",
    "#                         (\"model\", LogisticRegression(max_iter=100000))\n",
    "#                     ])\n",
    "# pipe_final"
   ]
  },
  {
   "cell_type": "code",
   "execution_count": 232,
   "id": "c67055f7",
   "metadata": {
    "execution": {
     "iopub.execute_input": "2023-08-13T18:38:55.273178Z",
     "iopub.status.busy": "2023-08-13T18:38:55.272741Z",
     "iopub.status.idle": "2023-08-13T18:38:55.277166Z",
     "shell.execute_reply": "2023-08-13T18:38:55.276109Z"
    },
    "papermill": {
     "duration": 0.087891,
     "end_time": "2023-08-13T18:38:55.279255",
     "exception": false,
     "start_time": "2023-08-13T18:38:55.191364",
     "status": "completed"
    },
    "tags": []
   },
   "outputs": [],
   "source": [
    "# final_vars = num_vars + txt_vars + cat_vars\n",
    "# len(final_vars), final_vars"
   ]
  },
  {
   "cell_type": "markdown",
   "id": "1e32b293",
   "metadata": {
    "papermill": {
     "duration": 0.080144,
     "end_time": "2023-08-13T18:38:55.440211",
     "exception": false,
     "start_time": "2023-08-13T18:38:55.360067",
     "status": "completed"
    },
    "tags": []
   },
   "source": [
    "### Use \"split_train_predict\" function to run end-to-end pipeline  "
   ]
  },
  {
   "cell_type": "code",
   "execution_count": 233,
   "id": "23178b35",
   "metadata": {
    "execution": {
     "iopub.execute_input": "2023-08-13T18:38:55.603738Z",
     "iopub.status.busy": "2023-08-13T18:38:55.603324Z",
     "iopub.status.idle": "2023-08-13T18:38:55.607941Z",
     "shell.execute_reply": "2023-08-13T18:38:55.606867Z"
    },
    "papermill": {
     "duration": 0.089184,
     "end_time": "2023-08-13T18:38:55.610119",
     "exception": false,
     "start_time": "2023-08-13T18:38:55.520935",
     "status": "completed"
    },
    "tags": []
   },
   "outputs": [],
   "source": [
    "# split_train_predict(merged_train_features, merged_train_labels, pipe_final, test_size=0.25, random_state=42)"
   ]
  },
  {
   "cell_type": "markdown",
   "id": "cc3721fc",
   "metadata": {
    "papermill": {
     "duration": 0.080466,
     "end_time": "2023-08-13T18:38:55.772963",
     "exception": false,
     "start_time": "2023-08-13T18:38:55.692497",
     "status": "completed"
    },
    "tags": []
   },
   "source": [
    "## Try the best four features obtained on local machine  "
   ]
  },
  {
   "cell_type": "code",
   "execution_count": 234,
   "id": "42bb9058",
   "metadata": {
    "execution": {
     "iopub.execute_input": "2023-08-13T18:38:55.937496Z",
     "iopub.status.busy": "2023-08-13T18:38:55.937065Z",
     "iopub.status.idle": "2023-08-13T18:38:55.941931Z",
     "shell.execute_reply": "2023-08-13T18:38:55.940898Z"
    },
    "papermill": {
     "duration": 0.089419,
     "end_time": "2023-08-13T18:38:55.943846",
     "exception": false,
     "start_time": "2023-08-13T18:38:55.854427",
     "status": "completed"
    },
    "tags": []
   },
   "outputs": [],
   "source": [
    "# tfidf_vec_2 = TfidfVectorizer(ngram_range=(1,2))\n",
    "# tfidf_vec_2"
   ]
  },
  {
   "cell_type": "code",
   "execution_count": 235,
   "id": "d0ba9084",
   "metadata": {
    "execution": {
     "iopub.execute_input": "2023-08-13T18:38:56.107065Z",
     "iopub.status.busy": "2023-08-13T18:38:56.106581Z",
     "iopub.status.idle": "2023-08-13T18:38:56.111956Z",
     "shell.execute_reply": "2023-08-13T18:38:56.110609Z"
    },
    "papermill": {
     "duration": 0.089754,
     "end_time": "2023-08-13T18:38:56.114225",
     "exception": false,
     "start_time": "2023-08-13T18:38:56.024471",
     "status": "completed"
    },
    "tags": []
   },
   "outputs": [],
   "source": [
    "# ct_best4 = ColumnTransformer(transformers=[\n",
    "#                                             (\"num\", num_pipe, [\"audienceScore\"]),\n",
    "#                                             (\"cat\", cat_pipe, [\"rating\", \"isFrequentReviewer\"]),\n",
    "#                                             (\"tvec\", tfidf_vec_2, \"reviewText\")\n",
    "#                             ])\n",
    "\n",
    "# pipe_best4 = Pipeline(steps=[\n",
    "#     (\"preprocessor\", ct_best4),\n",
    "#     (\"model\", LogisticRegression())\n",
    "# ])\n",
    "\n",
    "# pipe_best4.set_params(model__C=10, model__max_iter=100000)\n",
    "\n",
    "# pipe_best4"
   ]
  },
  {
   "cell_type": "code",
   "execution_count": 236,
   "id": "b7a7f43f",
   "metadata": {
    "execution": {
     "iopub.execute_input": "2023-08-13T18:38:56.277560Z",
     "iopub.status.busy": "2023-08-13T18:38:56.277155Z",
     "iopub.status.idle": "2023-08-13T18:38:56.281783Z",
     "shell.execute_reply": "2023-08-13T18:38:56.280766Z"
    },
    "papermill": {
     "duration": 0.089102,
     "end_time": "2023-08-13T18:38:56.283666",
     "exception": false,
     "start_time": "2023-08-13T18:38:56.194564",
     "status": "completed"
    },
    "tags": []
   },
   "outputs": [],
   "source": [
    "# split_train_predict(merged[[\"audienceScore\", \"rating\", \"isFrequentReviewer\", \"reviewText\"]], merged[\"sentiment\"], pipe_best4, test_size=0.25)"
   ]
  },
  {
   "cell_type": "markdown",
   "id": "81c13737",
   "metadata": {
    "papermill": {
     "duration": 0.080303,
     "end_time": "2023-08-13T18:38:56.444926",
     "exception": false,
     "start_time": "2023-08-13T18:38:56.364623",
     "status": "completed"
    },
    "tags": []
   },
   "source": [
    "## Try only 'reviewText' column  "
   ]
  },
  {
   "cell_type": "code",
   "execution_count": 237,
   "id": "04f278e1",
   "metadata": {
    "execution": {
     "iopub.execute_input": "2023-08-13T18:38:56.608625Z",
     "iopub.status.busy": "2023-08-13T18:38:56.608232Z",
     "iopub.status.idle": "2023-08-13T18:38:56.612334Z",
     "shell.execute_reply": "2023-08-13T18:38:56.611214Z"
    },
    "papermill": {
     "duration": 0.088499,
     "end_time": "2023-08-13T18:38:56.614306",
     "exception": false,
     "start_time": "2023-08-13T18:38:56.525807",
     "status": "completed"
    },
    "tags": []
   },
   "outputs": [],
   "source": [
    "# tfidf_vec_3 = TfidfVectorizer(ngram_range=(1,2))\n",
    "# tfidf_vec_3"
   ]
  },
  {
   "cell_type": "code",
   "execution_count": 238,
   "id": "4cc0e62b",
   "metadata": {
    "execution": {
     "iopub.execute_input": "2023-08-13T18:38:56.777604Z",
     "iopub.status.busy": "2023-08-13T18:38:56.777165Z",
     "iopub.status.idle": "2023-08-13T18:38:56.782071Z",
     "shell.execute_reply": "2023-08-13T18:38:56.780965Z"
    },
    "papermill": {
     "duration": 0.088947,
     "end_time": "2023-08-13T18:38:56.784120",
     "exception": false,
     "start_time": "2023-08-13T18:38:56.695173",
     "status": "completed"
    },
    "tags": []
   },
   "outputs": [],
   "source": [
    "# ct_RTonly = ColumnTransformer(transformers=[\n",
    "#                                             ('txt', tfidf_vec_3, 'reviewText'),\n",
    "#                                             ], remainder='drop')\n",
    "# ct_RTonly"
   ]
  },
  {
   "cell_type": "code",
   "execution_count": 239,
   "id": "45364075",
   "metadata": {
    "execution": {
     "iopub.execute_input": "2023-08-13T18:38:56.947971Z",
     "iopub.status.busy": "2023-08-13T18:38:56.947529Z",
     "iopub.status.idle": "2023-08-13T18:38:56.952283Z",
     "shell.execute_reply": "2023-08-13T18:38:56.951270Z"
    },
    "papermill": {
     "duration": 0.089169,
     "end_time": "2023-08-13T18:38:56.954374",
     "exception": false,
     "start_time": "2023-08-13T18:38:56.865205",
     "status": "completed"
    },
    "tags": []
   },
   "outputs": [],
   "source": [
    "# pipe_RTonly = Pipeline(steps=[\n",
    "#     (\"preprocessor\", ct_RTonly),\n",
    "#     (\"model\", LogisticRegression())\n",
    "# ])\n",
    "\n",
    "# pipe_RTonly.set_params(model__C=10, model__max_iter=100000)\n",
    "\n",
    "# pipe_RTonly"
   ]
  },
  {
   "cell_type": "markdown",
   "id": "95e60e59",
   "metadata": {
    "papermill": {
     "duration": 0.082336,
     "end_time": "2023-08-13T18:38:57.118841",
     "exception": false,
     "start_time": "2023-08-13T18:38:57.036505",
     "status": "completed"
    },
    "tags": []
   },
   "source": [
    "## Using the 'submit_v4' function  "
   ]
  },
  {
   "cell_type": "markdown",
   "id": "5c3f80bd",
   "metadata": {
    "papermill": {
     "duration": 0.080622,
     "end_time": "2023-08-13T18:38:57.279891",
     "exception": false,
     "start_time": "2023-08-13T18:38:57.199269",
     "status": "completed"
    },
    "tags": []
   },
   "source": [
    "### Try the best 4 parameters with submit_v4 function"
   ]
  },
  {
   "cell_type": "code",
   "execution_count": 240,
   "id": "ecdd7125",
   "metadata": {
    "execution": {
     "iopub.execute_input": "2023-08-13T18:38:57.447657Z",
     "iopub.status.busy": "2023-08-13T18:38:57.447299Z",
     "iopub.status.idle": "2023-08-13T18:38:57.451545Z",
     "shell.execute_reply": "2023-08-13T18:38:57.450467Z"
    },
    "papermill": {
     "duration": 0.088329,
     "end_time": "2023-08-13T18:38:57.453522",
     "exception": false,
     "start_time": "2023-08-13T18:38:57.365193",
     "status": "completed"
    },
    "tags": []
   },
   "outputs": [],
   "source": [
    "# best4 = [\"audienceScore\", \"rating\", \"isFrequentReviewer\", \"reviewText\"]\n",
    "\n",
    "# best4_dict = {'cat': [\"rating\", \"isFrequentReviewer\"],\n",
    "#              'num': [\"audienceScore\"],\n",
    "#              'txt': ['reviewText']}\n",
    "\n",
    "# best4_dict = {'num': [\"audienceScore\"],\n",
    "#              'txt': ['reviewText', 'movieid', 'director']}\n",
    "\n",
    "# best4_dict"
   ]
  },
  {
   "cell_type": "code",
   "execution_count": 241,
   "id": "11561390",
   "metadata": {
    "execution": {
     "iopub.execute_input": "2023-08-13T18:38:57.618266Z",
     "iopub.status.busy": "2023-08-13T18:38:57.617599Z",
     "iopub.status.idle": "2023-08-13T18:38:57.622215Z",
     "shell.execute_reply": "2023-08-13T18:38:57.621288Z"
    },
    "papermill": {
     "duration": 0.090684,
     "end_time": "2023-08-13T18:38:57.624197",
     "exception": false,
     "start_time": "2023-08-13T18:38:57.533513",
     "status": "completed"
    },
    "tags": []
   },
   "outputs": [],
   "source": [
    "# submit_v4(selected_features=best4_dict)"
   ]
  },
  {
   "cell_type": "markdown",
   "id": "1e7f21d6",
   "metadata": {
    "papermill": {
     "duration": 0.079897,
     "end_time": "2023-08-13T18:38:57.784381",
     "exception": false,
     "start_time": "2023-08-13T18:38:57.704484",
     "status": "completed"
    },
    "tags": []
   },
   "source": [
    "### Try the best 3 parameters with submit_v4 function"
   ]
  },
  {
   "cell_type": "code",
   "execution_count": 242,
   "id": "03ae0e55",
   "metadata": {
    "execution": {
     "iopub.execute_input": "2023-08-13T18:38:57.946239Z",
     "iopub.status.busy": "2023-08-13T18:38:57.945798Z",
     "iopub.status.idle": "2023-08-13T18:38:57.950597Z",
     "shell.execute_reply": "2023-08-13T18:38:57.949429Z"
    },
    "papermill": {
     "duration": 0.08816,
     "end_time": "2023-08-13T18:38:57.952605",
     "exception": false,
     "start_time": "2023-08-13T18:38:57.864445",
     "status": "completed"
    },
    "tags": []
   },
   "outputs": [],
   "source": [
    "# best3 = [\"audienceScore\", \"isFrequentReviewer\", \"reviewText\"]\n",
    "# best3_dict = {'cat': [\"isFrequentReviewer\"],\n",
    "#              'num': [\"audienceScore\"],\n",
    "#              'txt': ['reviewText']}\n",
    "# best3_dict"
   ]
  },
  {
   "cell_type": "code",
   "execution_count": 243,
   "id": "f900a472",
   "metadata": {
    "execution": {
     "iopub.execute_input": "2023-08-13T18:38:58.189646Z",
     "iopub.status.busy": "2023-08-13T18:38:58.188595Z",
     "iopub.status.idle": "2023-08-13T18:38:58.193666Z",
     "shell.execute_reply": "2023-08-13T18:38:58.192570Z"
    },
    "papermill": {
     "duration": 0.089245,
     "end_time": "2023-08-13T18:38:58.195954",
     "exception": false,
     "start_time": "2023-08-13T18:38:58.106709",
     "status": "completed"
    },
    "tags": []
   },
   "outputs": [],
   "source": [
    "# submit_v4(selected_features=best3_dict)"
   ]
  },
  {
   "cell_type": "markdown",
   "id": "d874d332",
   "metadata": {
    "papermill": {
     "duration": 0.080208,
     "end_time": "2023-08-13T18:38:58.356921",
     "exception": false,
     "start_time": "2023-08-13T18:38:58.276713",
     "status": "completed"
    },
    "tags": []
   },
   "source": [
    "## Try throwing almost everything (no boxOffice) at submit_v4!  "
   ]
  },
  {
   "cell_type": "code",
   "execution_count": 244,
   "id": "dd4c65dd",
   "metadata": {
    "execution": {
     "iopub.execute_input": "2023-08-13T18:38:58.520264Z",
     "iopub.status.busy": "2023-08-13T18:38:58.519614Z",
     "iopub.status.idle": "2023-08-13T18:38:58.525812Z",
     "shell.execute_reply": "2023-08-13T18:38:58.524932Z"
    },
    "papermill": {
     "duration": 0.09048,
     "end_time": "2023-08-13T18:38:58.528038",
     "exception": false,
     "start_time": "2023-08-13T18:38:58.437558",
     "status": "completed"
    },
    "tags": []
   },
   "outputs": [
    {
     "data": {
      "text/plain": [
       "\"Most from merged = ['movieid', 'reviewerName', 'isFrequentReviewer', 'reviewText',\\n       'audienceScore', 'rating', 'runtimeMinutes', 'genre', \\n       'originalLanguage', 'director']\""
      ]
     },
     "execution_count": 244,
     "metadata": {},
     "output_type": "execute_result"
    }
   ],
   "source": [
    "\"\"\"Most from merged = ['movieid', 'reviewerName', 'isFrequentReviewer', 'reviewText',\n",
    "       'audienceScore', 'rating', 'runtimeMinutes', 'genre', \n",
    "       'originalLanguage', 'director']\"\"\"\n",
    "\n",
    "# almost_dict = {'cat': [\"isFrequentReviewer\", \"rating\", \"originalLanguage\"],\n",
    "#              'num': [\"audienceScore\", \"runtimeMinutes\"],\n",
    "#              'txt': ['reviewText', 'reviewerName', 'movieid', 'genre', 'director']}\n",
    "# almost_dict"
   ]
  },
  {
   "cell_type": "code",
   "execution_count": 245,
   "id": "6869dc1c",
   "metadata": {
    "execution": {
     "iopub.execute_input": "2023-08-13T18:38:58.694599Z",
     "iopub.status.busy": "2023-08-13T18:38:58.693421Z",
     "iopub.status.idle": "2023-08-13T18:38:58.697739Z",
     "shell.execute_reply": "2023-08-13T18:38:58.696969Z"
    },
    "papermill": {
     "duration": 0.090401,
     "end_time": "2023-08-13T18:38:58.699700",
     "exception": false,
     "start_time": "2023-08-13T18:38:58.609299",
     "status": "completed"
    },
    "tags": []
   },
   "outputs": [],
   "source": [
    "# submit_v4(selected_features=almost_dict)"
   ]
  },
  {
   "cell_type": "markdown",
   "id": "f93e15b7",
   "metadata": {
    "papermill": {
     "duration": 0.081608,
     "end_time": "2023-08-13T18:38:58.862927",
     "exception": false,
     "start_time": "2023-08-13T18:38:58.781319",
     "status": "completed"
    },
    "tags": []
   },
   "source": [
    "## Try throwing everything possible at submit_v4!  "
   ]
  },
  {
   "cell_type": "code",
   "execution_count": 246,
   "id": "3f82079a",
   "metadata": {
    "execution": {
     "iopub.execute_input": "2023-08-13T18:38:59.027482Z",
     "iopub.status.busy": "2023-08-13T18:38:59.026671Z",
     "iopub.status.idle": "2023-08-13T18:38:59.032582Z",
     "shell.execute_reply": "2023-08-13T18:38:59.031678Z"
    },
    "papermill": {
     "duration": 0.090227,
     "end_time": "2023-08-13T18:38:59.034500",
     "exception": false,
     "start_time": "2023-08-13T18:38:58.944273",
     "status": "completed"
    },
    "tags": []
   },
   "outputs": [
    {
     "data": {
      "text/plain": [
       "\"All from merged = ['movieid', 'reviewerName', 'isFrequentReviewer', 'reviewText',\\n       'audienceScore', 'rating', 'runtimeMinutes', 'genre', 'boxOffice',\\n       'originalLanguage', 'director']\""
      ]
     },
     "execution_count": 246,
     "metadata": {},
     "output_type": "execute_result"
    }
   ],
   "source": [
    "\"\"\"All from merged = ['movieid', 'reviewerName', 'isFrequentReviewer', 'reviewText',\n",
    "       'audienceScore', 'rating', 'runtimeMinutes', 'genre', 'boxOffice',\n",
    "       'originalLanguage', 'director']\"\"\"\n",
    "\n",
    "# all_dict = {'cat': [\"isFrequentReviewer\", \"rating\", \"originalLanguage\"],\n",
    "#              'num': [\"audienceScore\", \"runtimeMinutes\", \"boxOffice\"],\n",
    "#              'txt': ['reviewText', 'reviewerName', 'movieid', 'genre', 'director']}\n",
    "# all_dict"
   ]
  },
  {
   "cell_type": "code",
   "execution_count": 247,
   "id": "91f7f24a",
   "metadata": {
    "execution": {
     "iopub.execute_input": "2023-08-13T18:38:59.198921Z",
     "iopub.status.busy": "2023-08-13T18:38:59.197806Z",
     "iopub.status.idle": "2023-08-13T18:38:59.202067Z",
     "shell.execute_reply": "2023-08-13T18:38:59.201288Z"
    },
    "papermill": {
     "duration": 0.088367,
     "end_time": "2023-08-13T18:38:59.203978",
     "exception": false,
     "start_time": "2023-08-13T18:38:59.115611",
     "status": "completed"
    },
    "tags": []
   },
   "outputs": [],
   "source": [
    "# submit_v4(selected_features=all_dict)"
   ]
  },
  {
   "cell_type": "markdown",
   "id": "1cae5917",
   "metadata": {
    "papermill": {
     "duration": 0.080312,
     "end_time": "2023-08-13T18:38:59.365058",
     "exception": false,
     "start_time": "2023-08-13T18:38:59.284746",
     "status": "completed"
    },
    "tags": []
   },
   "source": [
    "## Try GridSearchCV on everything  "
   ]
  },
  {
   "cell_type": "code",
   "execution_count": 248,
   "id": "b0cb509f",
   "metadata": {
    "execution": {
     "iopub.execute_input": "2023-08-13T18:38:59.529349Z",
     "iopub.status.busy": "2023-08-13T18:38:59.528568Z",
     "iopub.status.idle": "2023-08-13T18:38:59.534161Z",
     "shell.execute_reply": "2023-08-13T18:38:59.532951Z"
    },
    "papermill": {
     "duration": 0.090477,
     "end_time": "2023-08-13T18:38:59.536278",
     "exception": false,
     "start_time": "2023-08-13T18:38:59.445801",
     "status": "completed"
    },
    "tags": []
   },
   "outputs": [],
   "source": [
    "# param_grid = {\n",
    "#     \"model__C\": [0.5, 2, 5, 15]\n",
    "# }\n",
    "\n",
    "# param_grid = {\n",
    "#     'model__C' : [1, 5],\n",
    "#     'model__solver': ['lbfgs', 'liblinear', 'newton-cg', 'newton-cholesky', 'sag', 'saga']\n",
    "# }\n",
    "\n",
    "# param_grid = {\n",
    "#     'model__C' : [1, 5],\n",
    "#     'model__solver': ['lbfgs', 'liblinear', 'sag', 'saga']\n",
    "# }\n",
    "\n",
    "# param_grid = {\n",
    "#     'model__C' : [1, 5, 10, 15],\n",
    "#     'model__solver': ['lbfgs', 'liblinear', 'saga', 'newton-cg']\n",
    "# }\n",
    "\n",
    "# param_grid = {\n",
    "#     'model__C' : [1, 5, 10, 20],\n",
    "#     'model__solver': ['lbfgs', 'liblinear', 'saga']\n",
    "# }\n",
    "\n",
    "# param_grid"
   ]
  },
  {
   "cell_type": "code",
   "execution_count": 249,
   "id": "95af86e2",
   "metadata": {
    "execution": {
     "iopub.execute_input": "2023-08-13T18:38:59.710942Z",
     "iopub.status.busy": "2023-08-13T18:38:59.709938Z",
     "iopub.status.idle": "2023-08-13T18:38:59.715675Z",
     "shell.execute_reply": "2023-08-13T18:38:59.714292Z"
    },
    "papermill": {
     "duration": 0.097945,
     "end_time": "2023-08-13T18:38:59.718565",
     "exception": false,
     "start_time": "2023-08-13T18:38:59.620620",
     "status": "completed"
    },
    "tags": []
   },
   "outputs": [],
   "source": [
    "# submit_v4(selected_features={'txt': [\"genre\"]}, param_grid=param_grid)"
   ]
  },
  {
   "cell_type": "code",
   "execution_count": 250,
   "id": "1d3072ab",
   "metadata": {
    "execution": {
     "iopub.execute_input": "2023-08-13T18:38:59.895115Z",
     "iopub.status.busy": "2023-08-13T18:38:59.893967Z",
     "iopub.status.idle": "2023-08-13T18:38:59.900073Z",
     "shell.execute_reply": "2023-08-13T18:38:59.899352Z"
    },
    "papermill": {
     "duration": 0.091751,
     "end_time": "2023-08-13T18:38:59.901969",
     "exception": false,
     "start_time": "2023-08-13T18:38:59.810218",
     "status": "completed"
    },
    "tags": []
   },
   "outputs": [
    {
     "data": {
      "text/plain": [
       "\"Used 'groupby' function instead on 'drop_duplicates' on movies.csv file. \\nIt reduced the number of missing values significantly! \\nThen used LogisticRegression() with GridSearchCV on submit_v4 function with \\nparam_grid={'model__C': [1, 5, 10], 'model__solver': ['lbfgs', 'liblinear', 'saga']}. \\nThe best f1_micro score in GridSearchCV was 0.8399771362056203 which is highest among \\nall the versions so far. Best C was 5 and best solver was 'saga'.\\nScore obtained was 0.84385 which is lower than 0.84441.\""
      ]
     },
     "execution_count": 250,
     "metadata": {},
     "output_type": "execute_result"
    }
   ],
   "source": [
    "# submit_v4(selected_features=all_dict, param_grid=param_grid)\n",
    "\n",
    "# Best C was 5\n",
    "# Best solver was liblinear\n",
    "\n",
    "\"\"\"Used 'groupby' function instead on 'drop_duplicates' on movies.csv file. \n",
    "It reduced the number of missing values significantly! \n",
    "Then used LogisticRegression() with GridSearchCV on submit_v4 function with \n",
    "param_grid={'model__C': [1, 5, 10], 'model__solver': ['lbfgs', 'liblinear', 'saga']}. \n",
    "The best f1_micro score in GridSearchCV was 0.8399771362056203 which is highest among \n",
    "all the versions so far. Best C was 5 and best solver was 'saga'.\n",
    "Score obtained was 0.84385 which is lower than 0.84441.\"\"\""
   ]
  },
  {
   "cell_type": "code",
   "execution_count": 251,
   "id": "01b61858",
   "metadata": {
    "execution": {
     "iopub.execute_input": "2023-08-13T18:39:00.067170Z",
     "iopub.status.busy": "2023-08-13T18:39:00.066734Z",
     "iopub.status.idle": "2023-08-13T18:39:00.071173Z",
     "shell.execute_reply": "2023-08-13T18:39:00.070050Z"
    },
    "papermill": {
     "duration": 0.089912,
     "end_time": "2023-08-13T18:39:00.073386",
     "exception": false,
     "start_time": "2023-08-13T18:38:59.983474",
     "status": "completed"
    },
    "tags": []
   },
   "outputs": [],
   "source": [
    "# Best 5 parameters\n",
    "\n",
    "# best5_dict = {'num': [\"audienceScore\"],\n",
    "#              'txt': ['reviewText', 'reviewerName','movieid', 'director']}\n",
    "\n",
    "# best5_dict"
   ]
  },
  {
   "cell_type": "code",
   "execution_count": 252,
   "id": "0d723494",
   "metadata": {
    "execution": {
     "iopub.execute_input": "2023-08-13T18:39:00.238213Z",
     "iopub.status.busy": "2023-08-13T18:39:00.237804Z",
     "iopub.status.idle": "2023-08-13T18:39:00.244728Z",
     "shell.execute_reply": "2023-08-13T18:39:00.243728Z"
    },
    "papermill": {
     "duration": 0.091444,
     "end_time": "2023-08-13T18:39:00.246783",
     "exception": false,
     "start_time": "2023-08-13T18:39:00.155339",
     "status": "completed"
    },
    "tags": []
   },
   "outputs": [
    {
     "data": {
      "text/plain": [
       "\"(Update): Used both CountVectorizer and TfidfVectorizer on a massive GridSearchCV \\nwhich took 22527.2s  (6.25 hrs) to run! Gave a score of 0.8439093822800923 locally and did not overfit!\\nBest params: {'model__C': 1, 'model__solver': 'liblinear'}.\\nHighest public score yet: 0.84591 (Rank up from 9 to 5!)\""
      ]
     },
     "execution_count": 252,
     "metadata": {},
     "output_type": "execute_result"
    }
   ],
   "source": [
    "# Submit best 5 features\n",
    "\n",
    "\"\"\"(Update): Used both CountVectorizer and TfidfVectorizer on a massive GridSearchCV \n",
    "which took 22527.2s  (6.25 hrs) to run! Gave a score of 0.8439093822800923 locally and did not overfit!\n",
    "Best params: {'model__C': 1, 'model__solver': 'liblinear'}.\n",
    "Highest public score yet: 0.84591 (Rank up from 9 to 5!)\"\"\"\n",
    "\n",
    "# param_grid = {\n",
    "#     'model__C' : [5, 10, 15],\n",
    "#     'model__solver': ['lbfgs', 'liblinear', 'saga']\n",
    "# }\n",
    "\n",
    "\n",
    "# Try new param_grid with fit_intercept and dual in logreg\n",
    "\n",
    "# param_grid = {\n",
    "#     'model__C' : [1],\n",
    "#     'model__solver': ['liblinear'],\n",
    "#     \"model__fit_intercept\" : [True, False],\n",
    "#     \"model__dual\" : [True, False] \n",
    "# }\n",
    "\n",
    "\n",
    "# Local testing  \n",
    "# submit_v4(selected_features={'num': ['audienceScore']},\n",
    "#          add_countvec=True)\n",
    "\n",
    "# submit_v4(selected_features={'num': ['audienceScore']},\n",
    "#          add_countvec=True, \n",
    "#           param_grid=param_grid)\n",
    "\n",
    "\n",
    "# Main submission\n",
    "\n",
    "# submit_v4(selected_features=best5_dict,\n",
    "#          add_countvec=True)\n",
    "\n",
    "\n",
    "# submit_v4(selected_features=best5_dict,\n",
    "#           add_countvec=True,\n",
    "#           param_grid=param_grid)"
   ]
  },
  {
   "cell_type": "code",
   "execution_count": 253,
   "id": "95a16337",
   "metadata": {
    "execution": {
     "iopub.execute_input": "2023-08-13T18:39:00.411494Z",
     "iopub.status.busy": "2023-08-13T18:39:00.410753Z",
     "iopub.status.idle": "2023-08-13T18:39:00.416599Z",
     "shell.execute_reply": "2023-08-13T18:39:00.415517Z"
    },
    "papermill": {
     "duration": 0.091295,
     "end_time": "2023-08-13T18:39:00.419109",
     "exception": false,
     "start_time": "2023-08-13T18:39:00.327814",
     "status": "completed"
    },
    "tags": []
   },
   "outputs": [],
   "source": [
    "## ALL DICT cv=10\n",
    "\n",
    "# all_dict = {'cat': [\"isFrequentReviewer\", \"rating\", \"originalLanguage\"],\n",
    "#              'num': [\"audienceScore\", \"runtimeMinutes\", \"boxOffice\"],\n",
    "#              'txt': ['reviewText', 'reviewerName', 'movieid', 'genre', 'director']}\n",
    "# print(all_dict)\n",
    "\n",
    "# param_grid = {\n",
    "#     'model__C' : [2, 5, 10],\n",
    "#     'model__solver': ['lbfgs', 'liblinear', 'saga']\n",
    "# }\n",
    "# print(param_grid)\n",
    "\n",
    "# param_grid = {\n",
    "#     'model__C' : [1, 5, 10],\n",
    "#     'model__solver': ['liblinear'],\n",
    "#     \"model__fit_intercept\" : [True, False],\n",
    "#     \"model__dual\" : [True, False] \n",
    "# }\n",
    "\n",
    "\n",
    "# Main submission\n",
    "\n",
    "# submit_v4(selected_model=LogisticRegression(C=5, solver='liblinear', max_iter=10000),\n",
    "#           selected_features=all_dict,\n",
    "#           param_grid=param_grid)\n",
    "\n",
    "# submit_v4(selected_features=all_dict,\n",
    "#           add_countvec=True,\n",
    "#           param_grid=param_grid)"
   ]
  },
  {
   "cell_type": "code",
   "execution_count": 254,
   "id": "f111de48",
   "metadata": {
    "execution": {
     "iopub.execute_input": "2023-08-13T18:39:00.584290Z",
     "iopub.status.busy": "2023-08-13T18:39:00.583869Z",
     "iopub.status.idle": "2023-08-13T18:39:00.588289Z",
     "shell.execute_reply": "2023-08-13T18:39:00.587163Z"
    },
    "papermill": {
     "duration": 0.089848,
     "end_time": "2023-08-13T18:39:00.590303",
     "exception": false,
     "start_time": "2023-08-13T18:39:00.500455",
     "status": "completed"
    },
    "tags": []
   },
   "outputs": [],
   "source": [
    "# Best 6 parameters\n",
    "\n",
    "# best6_dict = {'cat': [\"isFrequentReviewer\"],\n",
    "#              'num': [\"audienceScore\"],\n",
    "#              'txt': ['reviewText', 'reviewerName', 'genre', 'director']}\n",
    "\n",
    "# best6_dict = {'num': [\"audienceScore\"],\n",
    "#              'txt': ['reviewText', 'reviewerName', 'genre','movieid', 'director']}\n",
    "\n",
    "# best6_dict"
   ]
  },
  {
   "cell_type": "code",
   "execution_count": 255,
   "id": "31d39702",
   "metadata": {
    "execution": {
     "iopub.execute_input": "2023-08-13T18:39:00.756356Z",
     "iopub.status.busy": "2023-08-13T18:39:00.755542Z",
     "iopub.status.idle": "2023-08-13T18:39:00.759843Z",
     "shell.execute_reply": "2023-08-13T18:39:00.759062Z"
    },
    "papermill": {
     "duration": 0.088874,
     "end_time": "2023-08-13T18:39:00.761843",
     "exception": false,
     "start_time": "2023-08-13T18:39:00.672969",
     "status": "completed"
    },
    "tags": []
   },
   "outputs": [],
   "source": [
    "# Submit best 6 features (version 2)\n",
    "\n",
    "# submit_v4(selected_features=best6_dict,\n",
    "#           param_grid=param_grid)"
   ]
  },
  {
   "cell_type": "code",
   "execution_count": 256,
   "id": "e79d4ed6",
   "metadata": {
    "execution": {
     "iopub.execute_input": "2023-08-13T18:39:00.926230Z",
     "iopub.status.busy": "2023-08-13T18:39:00.925502Z",
     "iopub.status.idle": "2023-08-13T18:39:00.929519Z",
     "shell.execute_reply": "2023-08-13T18:39:00.928807Z"
    },
    "papermill": {
     "duration": 0.088294,
     "end_time": "2023-08-13T18:39:00.931391",
     "exception": false,
     "start_time": "2023-08-13T18:39:00.843097",
     "status": "completed"
    },
    "tags": []
   },
   "outputs": [],
   "source": [
    "# Best 7 parameters\n",
    "\n",
    "# best7_dict = {'cat': [\"isFrequentReviewer\"],\n",
    "#              'num': [\"audienceScore\"],\n",
    "#              'txt': ['reviewText', 'reviewerName', 'movieid', 'genre', 'director']}\n",
    "# best7_dict"
   ]
  },
  {
   "cell_type": "code",
   "execution_count": 257,
   "id": "c70efc7e",
   "metadata": {
    "execution": {
     "iopub.execute_input": "2023-08-13T18:39:01.097512Z",
     "iopub.status.busy": "2023-08-13T18:39:01.096739Z",
     "iopub.status.idle": "2023-08-13T18:39:01.100780Z",
     "shell.execute_reply": "2023-08-13T18:39:01.100044Z"
    },
    "papermill": {
     "duration": 0.08945,
     "end_time": "2023-08-13T18:39:01.102797",
     "exception": false,
     "start_time": "2023-08-13T18:39:01.013347",
     "status": "completed"
    },
    "tags": []
   },
   "outputs": [],
   "source": [
    "# Submit best 7 features\n",
    "\n",
    "# submit_v4(selected_features=best7_dict,\n",
    "#           param_grid=param_grid)"
   ]
  },
  {
   "cell_type": "code",
   "execution_count": 258,
   "id": "3e11cdee",
   "metadata": {
    "execution": {
     "iopub.execute_input": "2023-08-13T18:39:01.269601Z",
     "iopub.status.busy": "2023-08-13T18:39:01.268856Z",
     "iopub.status.idle": "2023-08-13T18:39:01.273297Z",
     "shell.execute_reply": "2023-08-13T18:39:01.272274Z"
    },
    "papermill": {
     "duration": 0.089395,
     "end_time": "2023-08-13T18:39:01.275528",
     "exception": false,
     "start_time": "2023-08-13T18:39:01.186133",
     "status": "completed"
    },
    "tags": []
   },
   "outputs": [],
   "source": [
    "# submit_v4(selected_features=best6_dict, param_grid=param_grid)"
   ]
  },
  {
   "cell_type": "markdown",
   "id": "caf7c19f",
   "metadata": {
    "papermill": {
     "duration": 0.081498,
     "end_time": "2023-08-13T18:39:01.438789",
     "exception": false,
     "start_time": "2023-08-13T18:39:01.357291",
     "status": "completed"
    },
    "tags": []
   },
   "source": [
    "## Try a new feature dict  \n",
    "\n"
   ]
  },
  {
   "cell_type": "code",
   "execution_count": 259,
   "id": "e5732f69",
   "metadata": {
    "execution": {
     "iopub.execute_input": "2023-08-13T18:39:01.605324Z",
     "iopub.status.busy": "2023-08-13T18:39:01.604563Z",
     "iopub.status.idle": "2023-08-13T18:39:01.608790Z",
     "shell.execute_reply": "2023-08-13T18:39:01.608008Z"
    },
    "papermill": {
     "duration": 0.090311,
     "end_time": "2023-08-13T18:39:01.610788",
     "exception": false,
     "start_time": "2023-08-13T18:39:01.520477",
     "status": "completed"
    },
    "tags": []
   },
   "outputs": [],
   "source": [
    "# all_dict_new = {'cat': [\"isFrequentReviewer\", \"rating\", \"originalLanguage\"],\n",
    "#              'num': [\"audienceScore\", \"runtimeMinutes\", \"boxOffice\"],\n",
    "#              'txt': ['reviewText', \"reviewerName\", 'movieid', 'genre', 'director']}\n",
    "# all_dict_new"
   ]
  },
  {
   "cell_type": "code",
   "execution_count": 260,
   "id": "c56dab62",
   "metadata": {
    "execution": {
     "iopub.execute_input": "2023-08-13T18:39:01.777812Z",
     "iopub.status.busy": "2023-08-13T18:39:01.777374Z",
     "iopub.status.idle": "2023-08-13T18:39:01.781545Z",
     "shell.execute_reply": "2023-08-13T18:39:01.780789Z"
    },
    "papermill": {
     "duration": 0.088619,
     "end_time": "2023-08-13T18:39:01.783338",
     "exception": false,
     "start_time": "2023-08-13T18:39:01.694719",
     "status": "completed"
    },
    "tags": []
   },
   "outputs": [],
   "source": [
    "# submit_v4(selected_features={'txt': ['genre']}, param_grid=param_grid)"
   ]
  },
  {
   "cell_type": "code",
   "execution_count": 261,
   "id": "4e14810e",
   "metadata": {
    "execution": {
     "iopub.execute_input": "2023-08-13T18:39:01.948654Z",
     "iopub.status.busy": "2023-08-13T18:39:01.947927Z",
     "iopub.status.idle": "2023-08-13T18:39:01.951989Z",
     "shell.execute_reply": "2023-08-13T18:39:01.951269Z"
    },
    "papermill": {
     "duration": 0.088184,
     "end_time": "2023-08-13T18:39:01.953799",
     "exception": false,
     "start_time": "2023-08-13T18:39:01.865615",
     "status": "completed"
    },
    "tags": []
   },
   "outputs": [],
   "source": [
    "# submit_v4(selected_features=all_dict_new, param_grid=param_grid)"
   ]
  },
  {
   "cell_type": "code",
   "execution_count": 262,
   "id": "6d62e553",
   "metadata": {
    "execution": {
     "iopub.execute_input": "2023-08-13T18:39:02.118977Z",
     "iopub.status.busy": "2023-08-13T18:39:02.118243Z",
     "iopub.status.idle": "2023-08-13T18:39:02.122354Z",
     "shell.execute_reply": "2023-08-13T18:39:02.121332Z"
    },
    "papermill": {
     "duration": 0.089241,
     "end_time": "2023-08-13T18:39:02.124503",
     "exception": false,
     "start_time": "2023-08-13T18:39:02.035262",
     "status": "completed"
    },
    "tags": []
   },
   "outputs": [],
   "source": [
    "# Try non-text based columns\n",
    "# num_cat_dict = {'cat': ['isFrequentReviewer', 'rating', 'originalLanguage'],\n",
    "#  'num': ['audienceScore', 'runtimeMinutes', 'boxOffice']}\n",
    "# num_cat_dict"
   ]
  },
  {
   "cell_type": "code",
   "execution_count": 263,
   "id": "c92211fd",
   "metadata": {
    "execution": {
     "iopub.execute_input": "2023-08-13T18:39:02.293193Z",
     "iopub.status.busy": "2023-08-13T18:39:02.292232Z",
     "iopub.status.idle": "2023-08-13T18:39:02.297635Z",
     "shell.execute_reply": "2023-08-13T18:39:02.296571Z"
    },
    "papermill": {
     "duration": 0.090527,
     "end_time": "2023-08-13T18:39:02.299869",
     "exception": false,
     "start_time": "2023-08-13T18:39:02.209342",
     "status": "completed"
    },
    "tags": []
   },
   "outputs": [],
   "source": [
    "# Use num_cat_dict features\n",
    "# (Update): Gets a local score of 0.7027181356991726. Not great.\n",
    "# submit_v4(selected_model=LogisticRegression(max_iter=100000), selected_features=num_cat_dict, param_grid=param_grid)"
   ]
  },
  {
   "cell_type": "code",
   "execution_count": 264,
   "id": "3c478f09",
   "metadata": {
    "execution": {
     "iopub.execute_input": "2023-08-13T18:39:02.463970Z",
     "iopub.status.busy": "2023-08-13T18:39:02.463266Z",
     "iopub.status.idle": "2023-08-13T18:39:02.467292Z",
     "shell.execute_reply": "2023-08-13T18:39:02.466354Z"
    },
    "papermill": {
     "duration": 0.088099,
     "end_time": "2023-08-13T18:39:02.469321",
     "exception": false,
     "start_time": "2023-08-13T18:39:02.381222",
     "status": "completed"
    },
    "tags": []
   },
   "outputs": [],
   "source": [
    "# Try data other than reviewText\n",
    "\n",
    "# mov_dict = {'cat': ['rating', 'originalLanguage'],\n",
    "#  'num': ['audienceScore', 'runtimeMinutes', 'boxOffice'],\n",
    "#  'txt': ['movieid', 'genre', 'director']}\n",
    "# mov_dict"
   ]
  },
  {
   "cell_type": "code",
   "execution_count": 265,
   "id": "d3ec2838",
   "metadata": {
    "execution": {
     "iopub.execute_input": "2023-08-13T18:39:02.634474Z",
     "iopub.status.busy": "2023-08-13T18:39:02.633603Z",
     "iopub.status.idle": "2023-08-13T18:39:02.639147Z",
     "shell.execute_reply": "2023-08-13T18:39:02.637748Z"
    },
    "papermill": {
     "duration": 0.090303,
     "end_time": "2023-08-13T18:39:02.641400",
     "exception": false,
     "start_time": "2023-08-13T18:39:02.551097",
     "status": "completed"
    },
    "tags": []
   },
   "outputs": [],
   "source": [
    "# Use mov_dict features\n",
    "# (Update): Gets a local score of 0.7475454316469369, which is not bad at all.\n",
    "# submit_v4(selected_model=LogisticRegression(max_iter=100000), selected_features=mov_dict, param_grid=param_grid)"
   ]
  },
  {
   "cell_type": "markdown",
   "id": "947cb8ba",
   "metadata": {
    "papermill": {
     "duration": 0.080959,
     "end_time": "2023-08-13T18:39:02.803744",
     "exception": false,
     "start_time": "2023-08-13T18:39:02.722785",
     "status": "completed"
    },
    "tags": []
   },
   "source": [
    "# Try a new column 'reviewYN'  \n",
    "\n"
   ]
  },
  {
   "cell_type": "code",
   "execution_count": 266,
   "id": "38131ed0",
   "metadata": {
    "execution": {
     "iopub.execute_input": "2023-08-13T18:39:02.969253Z",
     "iopub.status.busy": "2023-08-13T18:39:02.968849Z",
     "iopub.status.idle": "2023-08-13T18:39:02.973241Z",
     "shell.execute_reply": "2023-08-13T18:39:02.972450Z"
    },
    "papermill": {
     "duration": 0.08977,
     "end_time": "2023-08-13T18:39:02.975331",
     "exception": false,
     "start_time": "2023-08-13T18:39:02.885561",
     "status": "completed"
    },
    "tags": []
   },
   "outputs": [],
   "source": [
    "# all_dict_3 = {'cat': [\"isFrequentReviewer\", \"rating\", \"originalLanguage\", \"reviewYN\"],\n",
    "#              'num': [\"audienceScore\", \"runtimeMinutes\", \"boxOffice\"],\n",
    "#              'txt': ['reviewText', \"reviewerName\", 'movieid', 'genre', 'director']}\n",
    "# all_dict_3"
   ]
  },
  {
   "cell_type": "code",
   "execution_count": 267,
   "id": "fca400e0",
   "metadata": {
    "execution": {
     "iopub.execute_input": "2023-08-13T18:39:03.140070Z",
     "iopub.status.busy": "2023-08-13T18:39:03.139659Z",
     "iopub.status.idle": "2023-08-13T18:39:03.143973Z",
     "shell.execute_reply": "2023-08-13T18:39:03.142922Z"
    },
    "papermill": {
     "duration": 0.088915,
     "end_time": "2023-08-13T18:39:03.146381",
     "exception": false,
     "start_time": "2023-08-13T18:39:03.057466",
     "status": "completed"
    },
    "tags": []
   },
   "outputs": [],
   "source": [
    "# submit_v4(selected_model=LogisticRegression(max_iter=100000),\n",
    "#          selected_features=all_dict_3, \n",
    "#           param_grid=param_grid)"
   ]
  },
  {
   "cell_type": "markdown",
   "id": "5581bd27",
   "metadata": {
    "papermill": {
     "duration": 0.081213,
     "end_time": "2023-08-13T18:39:03.385345",
     "exception": false,
     "start_time": "2023-08-13T18:39:03.304132",
     "status": "completed"
    },
    "tags": []
   },
   "source": [
    "### More GridSearchCV using LinearSVC  "
   ]
  },
  {
   "cell_type": "code",
   "execution_count": 268,
   "id": "16786e77",
   "metadata": {
    "execution": {
     "iopub.execute_input": "2023-08-13T18:39:03.549384Z",
     "iopub.status.busy": "2023-08-13T18:39:03.549016Z",
     "iopub.status.idle": "2023-08-13T18:39:03.553667Z",
     "shell.execute_reply": "2023-08-13T18:39:03.552686Z"
    },
    "papermill": {
     "duration": 0.089313,
     "end_time": "2023-08-13T18:39:03.555693",
     "exception": false,
     "start_time": "2023-08-13T18:39:03.466380",
     "status": "completed"
    },
    "tags": []
   },
   "outputs": [],
   "source": [
    "# param_grid_svc_2 = {\n",
    "#     'model__C': [1.0],\n",
    "#     'model__loss': ['hinge', 'squared_hinge'],\n",
    "#     'model__class_weight': ['balanced', None]\n",
    "# }\n",
    "# param_grid_svc_2"
   ]
  },
  {
   "cell_type": "code",
   "execution_count": 269,
   "id": "f297a07b",
   "metadata": {
    "execution": {
     "iopub.execute_input": "2023-08-13T18:39:03.721945Z",
     "iopub.status.busy": "2023-08-13T18:39:03.720962Z",
     "iopub.status.idle": "2023-08-13T18:39:03.726346Z",
     "shell.execute_reply": "2023-08-13T18:39:03.725382Z"
    },
    "papermill": {
     "duration": 0.090343,
     "end_time": "2023-08-13T18:39:03.728488",
     "exception": false,
     "start_time": "2023-08-13T18:39:03.638145",
     "status": "completed"
    },
    "tags": []
   },
   "outputs": [],
   "source": [
    "# submit_v4(selected_model=LinearSVC(max_iter=100000, random_state=42), selected_features={'num': [\"audienceScore\"]}, param_grid=param_grid_svc_2)"
   ]
  },
  {
   "cell_type": "code",
   "execution_count": 270,
   "id": "d3328b69",
   "metadata": {
    "execution": {
     "iopub.execute_input": "2023-08-13T18:39:03.893405Z",
     "iopub.status.busy": "2023-08-13T18:39:03.892563Z",
     "iopub.status.idle": "2023-08-13T18:39:03.897108Z",
     "shell.execute_reply": "2023-08-13T18:39:03.896123Z"
    },
    "papermill": {
     "duration": 0.089551,
     "end_time": "2023-08-13T18:39:03.899296",
     "exception": false,
     "start_time": "2023-08-13T18:39:03.809745",
     "status": "completed"
    },
    "tags": []
   },
   "outputs": [],
   "source": [
    "# submit_v4(selected_model=LinearSVC(max_iter=100000, random_state=42), selected_features=all_dict, param_grid=param_grid_svc_2)"
   ]
  },
  {
   "cell_type": "markdown",
   "id": "1b0dd525",
   "metadata": {
    "papermill": {
     "duration": 0.081754,
     "end_time": "2023-08-13T18:39:04.064340",
     "exception": false,
     "start_time": "2023-08-13T18:39:03.982586",
     "status": "completed"
    },
    "tags": []
   },
   "source": [
    "### Boosting techniques  "
   ]
  },
  {
   "cell_type": "code",
   "execution_count": 271,
   "id": "9e2814e1",
   "metadata": {
    "execution": {
     "iopub.execute_input": "2023-08-13T18:39:04.229202Z",
     "iopub.status.busy": "2023-08-13T18:39:04.228485Z",
     "iopub.status.idle": "2023-08-13T18:39:04.232260Z",
     "shell.execute_reply": "2023-08-13T18:39:04.231525Z"
    },
    "papermill": {
     "duration": 0.088218,
     "end_time": "2023-08-13T18:39:04.234035",
     "exception": false,
     "start_time": "2023-08-13T18:39:04.145817",
     "status": "completed"
    },
    "tags": []
   },
   "outputs": [],
   "source": [
    "# adc = AdaBoostClassifier(estimator=LogisticRegression(C=5, solver=\"saga\", max_iter=100000), n_estimators=50)\n",
    "# adc"
   ]
  },
  {
   "cell_type": "code",
   "execution_count": 272,
   "id": "4455c71a",
   "metadata": {
    "execution": {
     "iopub.execute_input": "2023-08-13T18:39:04.399281Z",
     "iopub.status.busy": "2023-08-13T18:39:04.398550Z",
     "iopub.status.idle": "2023-08-13T18:39:04.402339Z",
     "shell.execute_reply": "2023-08-13T18:39:04.401613Z"
    },
    "papermill": {
     "duration": 0.088834,
     "end_time": "2023-08-13T18:39:04.404348",
     "exception": false,
     "start_time": "2023-08-13T18:39:04.315514",
     "status": "completed"
    },
    "tags": []
   },
   "outputs": [],
   "source": [
    "# submit_v4(selected_model=adc, selected_features={'num': [\"audienceScore\"]}, param_grid=None)"
   ]
  },
  {
   "cell_type": "code",
   "execution_count": 273,
   "id": "edc70600",
   "metadata": {
    "execution": {
     "iopub.execute_input": "2023-08-13T18:39:04.569858Z",
     "iopub.status.busy": "2023-08-13T18:39:04.569121Z",
     "iopub.status.idle": "2023-08-13T18:39:04.572885Z",
     "shell.execute_reply": "2023-08-13T18:39:04.572200Z"
    },
    "papermill": {
     "duration": 0.088654,
     "end_time": "2023-08-13T18:39:04.574757",
     "exception": false,
     "start_time": "2023-08-13T18:39:04.486103",
     "status": "completed"
    },
    "tags": []
   },
   "outputs": [],
   "source": [
    "# submit_v4(selected_model=adc, selected_features=all_dict, param_grid=None)\n",
    "\n",
    "# Took 1 hour 15 mins to run and gave a public score of only 0.71089. Discarded."
   ]
  },
  {
   "cell_type": "markdown",
   "id": "171ed0d5",
   "metadata": {
    "papermill": {
     "duration": 0.080452,
     "end_time": "2023-08-13T18:39:04.736744",
     "exception": false,
     "start_time": "2023-08-13T18:39:04.656292",
     "status": "completed"
    },
    "tags": []
   },
   "source": [
    "### LightGBM  "
   ]
  },
  {
   "cell_type": "code",
   "execution_count": 274,
   "id": "0b1c8b59",
   "metadata": {
    "execution": {
     "iopub.execute_input": "2023-08-13T18:39:04.899579Z",
     "iopub.status.busy": "2023-08-13T18:39:04.899188Z",
     "iopub.status.idle": "2023-08-13T18:39:04.903770Z",
     "shell.execute_reply": "2023-08-13T18:39:04.902716Z"
    },
    "papermill": {
     "duration": 0.088408,
     "end_time": "2023-08-13T18:39:04.905844",
     "exception": false,
     "start_time": "2023-08-13T18:39:04.817436",
     "status": "completed"
    },
    "tags": []
   },
   "outputs": [],
   "source": [
    "# lgb = ltb.LGBMClassifier()\n",
    "# lgb"
   ]
  },
  {
   "cell_type": "code",
   "execution_count": 275,
   "id": "a923f71c",
   "metadata": {
    "execution": {
     "iopub.execute_input": "2023-08-13T18:39:05.069666Z",
     "iopub.status.busy": "2023-08-13T18:39:05.069274Z",
     "iopub.status.idle": "2023-08-13T18:39:05.073230Z",
     "shell.execute_reply": "2023-08-13T18:39:05.072426Z"
    },
    "papermill": {
     "duration": 0.088397,
     "end_time": "2023-08-13T18:39:05.075595",
     "exception": false,
     "start_time": "2023-08-13T18:39:04.987198",
     "status": "completed"
    },
    "tags": []
   },
   "outputs": [],
   "source": [
    "# Try LightGBM with default settings\n",
    "# (Update): Public score only 0.77713. It was fast, took less than 5 mins (without GridSearchCV)\n",
    "\n",
    "# submit_v4(selected_model=ltb.LGBMClassifier(), selected_features=all_dict, param_grid=None)"
   ]
  },
  {
   "cell_type": "markdown",
   "id": "98130fbf",
   "metadata": {
    "papermill": {
     "duration": 0.080927,
     "end_time": "2023-08-13T18:39:05.238628",
     "exception": false,
     "start_time": "2023-08-13T18:39:05.157701",
     "status": "completed"
    },
    "tags": []
   },
   "source": [
    "# Try feature selection and vocab fine tuning of reviewText column"
   ]
  },
  {
   "cell_type": "markdown",
   "id": "21ea3dd5",
   "metadata": {
    "papermill": {
     "duration": 0.081106,
     "end_time": "2023-08-13T18:39:05.401155",
     "exception": false,
     "start_time": "2023-08-13T18:39:05.320049",
     "status": "completed"
    },
    "tags": []
   },
   "source": [
    "## Plan  \n",
    "* Add a new column 'reviewWC' which has word count of 'reviewText'  \n",
    "    * Check if there is any relationship between 'reviewWC' and 'sentiment'\n",
    "* Work on vocabulary\n",
    "     * Use TfidfVectorizer and find out the vocabulary of 'reviewText' column for various ngrams\n",
    "     * Use RecursiveFeatureElimination (RFE) or RFECV to select 1000 top words/vocab for each ngram\n",
    "     * Use the final vocab (1000-3000 words) in the model and see how it performs compared to whole vocab\n"
   ]
  },
  {
   "cell_type": "code",
   "execution_count": 276,
   "id": "c802b6fb",
   "metadata": {
    "execution": {
     "iopub.execute_input": "2023-08-13T18:39:05.566657Z",
     "iopub.status.busy": "2023-08-13T18:39:05.566281Z",
     "iopub.status.idle": "2023-08-13T18:39:05.570902Z",
     "shell.execute_reply": "2023-08-13T18:39:05.569631Z"
    },
    "papermill": {
     "duration": 0.0909,
     "end_time": "2023-08-13T18:39:05.573114",
     "exception": false,
     "start_time": "2023-08-13T18:39:05.482214",
     "status": "completed"
    },
    "tags": []
   },
   "outputs": [],
   "source": [
    "# 'reviewWC' and 'sentiment'\n",
    "# (Conclusion): 'reviewWC' is practically same as DummyClassifier (accuracy of 0.6682375059904889 on train data). It just predicts 'positive' for all columns\n",
    "\n",
    "# reviewWC_dict = {\"num\": [\"reviewWC\"]}\n",
    "# submit_v4(selected_model=LogisticRegression(),\n",
    "#          selected_features=reviewWC_dict,\n",
    "#          param_grid=None)"
   ]
  },
  {
   "cell_type": "code",
   "execution_count": 277,
   "id": "47488132",
   "metadata": {
    "execution": {
     "iopub.execute_input": "2023-08-13T18:39:05.739817Z",
     "iopub.status.busy": "2023-08-13T18:39:05.739412Z",
     "iopub.status.idle": "2023-08-13T18:39:05.744101Z",
     "shell.execute_reply": "2023-08-13T18:39:05.743068Z"
    },
    "papermill": {
     "duration": 0.09042,
     "end_time": "2023-08-13T18:39:05.746287",
     "exception": false,
     "start_time": "2023-08-13T18:39:05.655867",
     "status": "completed"
    },
    "tags": []
   },
   "outputs": [],
   "source": [
    "# 'reviewYN' and 'sentiment'\n",
    "# (Conclusion): 'reviewYN' is practically same as DummyClassifier (accuracy of 0.6682375059904889 on train data). It just predicts 'positive' for all columns\n",
    "\n",
    "# reviewYN_dict = {\"cat\": [\"reviewYN\"]}\n",
    "# submit_v4(selected_model=LogisticRegression(),\n",
    "#          selected_features=reviewYN_dict,\n",
    "#          param_grid=None)"
   ]
  },
  {
   "cell_type": "markdown",
   "id": "c9291a7d",
   "metadata": {
    "papermill": {
     "duration": 0.081043,
     "end_time": "2023-08-13T18:39:05.909570",
     "exception": false,
     "start_time": "2023-08-13T18:39:05.828527",
     "status": "completed"
    },
    "tags": []
   },
   "source": [
    "## Submissions using 'vocabulary' built from 'reviewText' data  "
   ]
  },
  {
   "cell_type": "markdown",
   "id": "45071f83",
   "metadata": {
    "papermill": {
     "duration": 0.081713,
     "end_time": "2023-08-13T18:39:06.073838",
     "exception": false,
     "start_time": "2023-08-13T18:39:05.992125",
     "status": "completed"
    },
    "tags": []
   },
   "source": [
    "### Submit best 6 features along with common vocab  "
   ]
  },
  {
   "cell_type": "code",
   "execution_count": 278,
   "id": "dbfb3ec1",
   "metadata": {
    "execution": {
     "iopub.execute_input": "2023-08-13T18:39:06.239397Z",
     "iopub.status.busy": "2023-08-13T18:39:06.239015Z",
     "iopub.status.idle": "2023-08-13T18:39:06.243323Z",
     "shell.execute_reply": "2023-08-13T18:39:06.242215Z"
    },
    "papermill": {
     "duration": 0.089264,
     "end_time": "2023-08-13T18:39:06.245373",
     "exception": false,
     "start_time": "2023-08-13T18:39:06.156109",
     "status": "completed"
    },
    "tags": []
   },
   "outputs": [],
   "source": [
    "# Best 6 parameters (version 2)  \n",
    "\n",
    "# best6_dict = {'num': [\"audienceScore\"],\n",
    "#              'txt': ['reviewText', 'reviewerName', 'genre','movieid', 'director']}\n",
    "\n",
    "# best6_dict"
   ]
  },
  {
   "cell_type": "code",
   "execution_count": 279,
   "id": "d049b0f5",
   "metadata": {
    "execution": {
     "iopub.execute_input": "2023-08-13T18:39:06.410848Z",
     "iopub.status.busy": "2023-08-13T18:39:06.410386Z",
     "iopub.status.idle": "2023-08-13T18:39:06.414800Z",
     "shell.execute_reply": "2023-08-13T18:39:06.413699Z"
    },
    "papermill": {
     "duration": 0.089816,
     "end_time": "2023-08-13T18:39:06.416940",
     "exception": false,
     "start_time": "2023-08-13T18:39:06.327124",
     "status": "completed"
    },
    "tags": []
   },
   "outputs": [],
   "source": [
    "# Submit best 6 features (version 2) with common vocabulary (common_1_2_grams)\n",
    "# (Update): Score 0.82867\n",
    "\n",
    "# submit_v4(selected_features=best6_dict,\n",
    "#           param_grid=param_grid,\n",
    "#          vocab=common_1_2_grams)"
   ]
  },
  {
   "cell_type": "code",
   "execution_count": 280,
   "id": "35a4b6c0",
   "metadata": {
    "execution": {
     "iopub.execute_input": "2023-08-13T18:39:06.583255Z",
     "iopub.status.busy": "2023-08-13T18:39:06.582590Z",
     "iopub.status.idle": "2023-08-13T18:39:06.587293Z",
     "shell.execute_reply": "2023-08-13T18:39:06.586356Z"
    },
    "papermill": {
     "duration": 0.09083,
     "end_time": "2023-08-13T18:39:06.589164",
     "exception": false,
     "start_time": "2023-08-13T18:39:06.498334",
     "status": "completed"
    },
    "tags": []
   },
   "outputs": [],
   "source": [
    "# Submit best 6 features (version 2) with common vocabulary (common_1_2_3_grams)\n",
    "# Note: for this submission submit_v4 function has to be modified: reviewText TfidfVectorizer must have ngram_range(1,3).\n",
    "# (Update): Score in the range 0.825+\n",
    "\n",
    "# submit_v4(selected_features=best6_dict,\n",
    "#           param_grid=param_grid,\n",
    "#          vocab=common_1_2_3_grams)"
   ]
  }
 ],
 "metadata": {
  "kernelspec": {
   "display_name": "Python 3",
   "language": "python",
   "name": "python3"
  },
  "language_info": {
   "codemirror_mode": {
    "name": "ipython",
    "version": 3
   },
   "file_extension": ".py",
   "mimetype": "text/x-python",
   "name": "python",
   "nbconvert_exporter": "python",
   "pygments_lexer": "ipython3",
   "version": "3.9.7"
  },
  "papermill": {
   "default_parameters": {},
   "duration": 10467.020389,
   "end_time": "2023-08-13T18:39:09.915174",
   "environment_variables": {},
   "exception": null,
   "input_path": "__notebook__.ipynb",
   "output_path": "__notebook__.ipynb",
   "parameters": {},
   "start_time": "2023-08-13T15:44:42.894785",
   "version": "2.4.0"
  }
 },
 "nbformat": 4,
 "nbformat_minor": 5
}
