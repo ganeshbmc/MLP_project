{
 "cells": [
  {
   "cell_type": "markdown",
   "id": "24457006",
   "metadata": {
    "papermill": {
     "duration": 0.101264,
     "end_time": "2023-08-13T05:36:17.486972",
     "exception": false,
     "start_time": "2023-08-13T05:36:17.385708",
     "status": "completed"
    },
    "tags": []
   },
   "source": [
    "# MLP Project (T2 2023) by Ganesh P  "
   ]
  },
  {
   "cell_type": "markdown",
   "id": "633b888f",
   "metadata": {
    "papermill": {
     "duration": 0.098143,
     "end_time": "2023-08-13T05:36:17.685239",
     "exception": false,
     "start_time": "2023-08-13T05:36:17.587096",
     "status": "completed"
    },
    "tags": []
   },
   "source": [
    "`Disclaimer`   \n",
    "\n",
    "> This final notebook contains only the most relevant code to show the path/flow of my project work over few weeks. Rest of the code is in [my github repo](https://github.com/ganeshbmc/MLP_project) which is private at present (I will make it public after the project is over).  "
   ]
  },
  {
   "cell_type": "markdown",
   "id": "e5e4b74b",
   "metadata": {
    "papermill": {
     "duration": 0.097928,
     "end_time": "2023-08-13T05:36:17.882308",
     "exception": false,
     "start_time": "2023-08-13T05:36:17.784380",
     "status": "completed"
    },
    "tags": []
   },
   "source": [
    "`Strengths`  \n",
    "\n",
    "> * Modular code (DRY principle)  \n",
    "> * End to end pipeline in one function (with helper functions)   "
   ]
  },
  {
   "cell_type": "markdown",
   "id": "a27211b1",
   "metadata": {
    "papermill": {
     "duration": 0.098808,
     "end_time": "2023-08-13T05:36:18.078759",
     "exception": false,
     "start_time": "2023-08-13T05:36:17.979951",
     "status": "completed"
    },
    "tags": []
   },
   "source": [
    "`Overview`  \n",
    "\n",
    "`PART I`  \n",
    "\n",
    "1.\t> Screen the datasets and import them.  \n",
    "2.\t> Perform EDA (first round).\n",
    "3.\t> Data cleaning.\n",
    "4.\t> Basic models including dummy model.\n",
    "5.\t> Because this is a text sentiment analysis project, focus on 'reviewText' column, work on cleaning text data and vectorising/tokenising it, build several models till the best possible score is reached.  \n",
    "\n",
    "`PART II`  \n",
    "\n",
    "6.\t> Merge train and movies dataset.\n",
    "7.\t> Perform EDA (second round) on merged dataset.\n",
    "8.\t> Data cleaning.\n",
    "9.\t> Build models on merged dataset.\n",
    "10.\t> Understand the results and do another round of EDA if needed.\n",
    "11.\t> Build final model.  \n",
    "\n",
    "`PART III (After project window closes)`  \n",
    "\n",
    "12. > Use NLTK library for further processing text data.  \n",
    "13. > Try to address comments from different languages, special characters etc.  \n",
    "14. > Try imblearn library to address class imbalance.  \n",
    "15. > Try to use currently available LLMs and see how my model performs agains them.  "
   ]
  },
  {
   "cell_type": "markdown",
   "id": "254edede",
   "metadata": {
    "papermill": {
     "duration": 0.116587,
     "end_time": "2023-08-13T05:36:18.293703",
     "exception": false,
     "start_time": "2023-08-13T05:36:18.177116",
     "status": "completed"
    },
    "tags": []
   },
   "source": [
    "`Default code on Kaggle notebook`  "
   ]
  },
  {
   "cell_type": "code",
   "execution_count": 1,
   "id": "8e0686fc",
   "metadata": {
    "_cell_guid": "b1076dfc-b9ad-4769-8c92-a6c4dae69d19",
    "_uuid": "8f2839f25d086af736a60e9eeb907d3b93b6e0e5",
    "execution": {
     "iopub.execute_input": "2023-08-13T05:36:18.498082Z",
     "iopub.status.busy": "2023-08-13T05:36:18.497136Z",
     "iopub.status.idle": "2023-08-13T05:36:18.520779Z",
     "shell.execute_reply": "2023-08-13T05:36:18.519593Z"
    },
    "papermill": {
     "duration": 0.127866,
     "end_time": "2023-08-13T05:36:18.523398",
     "exception": false,
     "start_time": "2023-08-13T05:36:18.395532",
     "status": "completed"
    },
    "tags": []
   },
   "outputs": [
    {
     "name": "stdout",
     "output_type": "stream",
     "text": [
      "/kaggle/input/sentiment-prediction-on-movie-reviews/movies.csv\n",
      "/kaggle/input/sentiment-prediction-on-movie-reviews/sample.csv\n",
      "/kaggle/input/sentiment-prediction-on-movie-reviews/train.csv\n",
      "/kaggle/input/sentiment-prediction-on-movie-reviews/test.csv\n"
     ]
    }
   ],
   "source": [
    "# This Python 3 environment comes with many helpful analytics libraries installed\n",
    "# It is defined by the kaggle/python Docker image: https://github.com/kaggle/docker-python\n",
    "# For example, here's several helpful packages to load\n",
    "\n",
    "import numpy as np # linear algebra\n",
    "import pandas as pd # data processing, CSV file I/O (e.g. pd.read_csv)\n",
    "\n",
    "# Input data files are available in the read-only \"../input/\" directory\n",
    "# For example, running this (by clicking run or pressing Shift+Enter) will list all files under the input directory\n",
    "\n",
    "import os\n",
    "for dirname, _, filenames in os.walk('/kaggle/input'):\n",
    "    for filename in filenames:\n",
    "        print(os.path.join(dirname, filename))\n",
    "\n",
    "# You can write up to 20GB to the current directory (/kaggle/working/) that gets preserved as output when you create a version using \"Save & Run All\" \n",
    "# You can also write temporary files to /kaggle/temp/, but they won't be saved outside of the current session"
   ]
  },
  {
   "cell_type": "markdown",
   "id": "0cfb62cc",
   "metadata": {
    "papermill": {
     "duration": 0.098819,
     "end_time": "2023-08-13T05:36:18.720668",
     "exception": false,
     "start_time": "2023-08-13T05:36:18.621849",
     "status": "completed"
    },
    "tags": []
   },
   "source": [
    "### Specify platform  "
   ]
  },
  {
   "cell_type": "code",
   "execution_count": 2,
   "id": "1fb907dd",
   "metadata": {
    "execution": {
     "iopub.execute_input": "2023-08-13T05:36:18.921115Z",
     "iopub.status.busy": "2023-08-13T05:36:18.920457Z",
     "iopub.status.idle": "2023-08-13T05:36:18.927410Z",
     "shell.execute_reply": "2023-08-13T05:36:18.924431Z"
    },
    "papermill": {
     "duration": 0.110068,
     "end_time": "2023-08-13T05:36:18.929881",
     "exception": false,
     "start_time": "2023-08-13T05:36:18.819813",
     "status": "completed"
    },
    "tags": []
   },
   "outputs": [],
   "source": [
    "platform = 'kaggle'  "
   ]
  },
  {
   "cell_type": "markdown",
   "id": "9c06b289",
   "metadata": {
    "papermill": {
     "duration": 0.113974,
     "end_time": "2023-08-13T05:36:19.145605",
     "exception": false,
     "start_time": "2023-08-13T05:36:19.031631",
     "status": "completed"
    },
    "tags": []
   },
   "source": [
    "### Import libraries  "
   ]
  },
  {
   "cell_type": "code",
   "execution_count": 3,
   "id": "39c3d2be",
   "metadata": {
    "execution": {
     "iopub.execute_input": "2023-08-13T05:36:19.357935Z",
     "iopub.status.busy": "2023-08-13T05:36:19.357030Z",
     "iopub.status.idle": "2023-08-13T05:36:21.766563Z",
     "shell.execute_reply": "2023-08-13T05:36:21.765651Z"
    },
    "papermill": {
     "duration": 2.51369,
     "end_time": "2023-08-13T05:36:21.769134",
     "exception": false,
     "start_time": "2023-08-13T05:36:19.255444",
     "status": "completed"
    },
    "tags": []
   },
   "outputs": [
    {
     "name": "stdout",
     "output_type": "stream",
     "text": [
      "Imports done.\n"
     ]
    }
   ],
   "source": [
    "import pandas as pd\n",
    "import numpy as np\n",
    "import matplotlib.pyplot as plt\n",
    "import seaborn as sns\n",
    "import re\n",
    "from itertools import compress\n",
    "\n",
    "from sklearn.dummy import DummyClassifier\n",
    "from sklearn.pipeline import Pipeline, FeatureUnion\n",
    "from sklearn.compose import ColumnTransformer\n",
    "from sklearn.metrics import classification_report, confusion_matrix,f1_score\n",
    "from sklearn.feature_extraction.text import TfidfVectorizer, CountVectorizer\n",
    "from sklearn.preprocessing import FunctionTransformer\n",
    "from sklearn.preprocessing import StandardScaler, MinMaxScaler, RobustScaler, OneHotEncoder, LabelEncoder, PolynomialFeatures\n",
    "from sklearn.impute import SimpleImputer, KNNImputer\n",
    "from sklearn.linear_model import LogisticRegression, SGDClassifier\n",
    "from sklearn.tree import DecisionTreeClassifier\n",
    "from sklearn.ensemble import RandomForestClassifier, AdaBoostClassifier\n",
    "from sklearn.svm import LinearSVC\n",
    "from sklearn.naive_bayes import GaussianNB, BernoulliNB, CategoricalNB, ComplementNB, MultinomialNB\n",
    "from sklearn.model_selection import train_test_split, GridSearchCV, cross_val_score\n",
    "from sklearn.decomposition import PCA, TruncatedSVD\n",
    "from sklearn.feature_selection import RFECV\n",
    "from sklearn.feature_selection import RFE\n",
    "from sklearn.neural_network import MLPClassifier\n",
    "\n",
    "# import lightgbm as ltb\n",
    "\n",
    "import scipy.stats as stats\n",
    "print(\"Imports done.\")"
   ]
  },
  {
   "cell_type": "markdown",
   "id": "79f42f52",
   "metadata": {
    "papermill": {
     "duration": 0.097875,
     "end_time": "2023-08-13T05:36:21.966452",
     "exception": false,
     "start_time": "2023-08-13T05:36:21.868577",
     "status": "completed"
    },
    "tags": []
   },
   "source": [
    "# PART I  "
   ]
  },
  {
   "cell_type": "markdown",
   "id": "3583a79f",
   "metadata": {
    "papermill": {
     "duration": 0.164474,
     "end_time": "2023-08-13T05:36:22.231454",
     "exception": false,
     "start_time": "2023-08-13T05:36:22.066980",
     "status": "completed"
    },
    "tags": []
   },
   "source": [
    "## Load datasets  "
   ]
  },
  {
   "cell_type": "code",
   "execution_count": 4,
   "id": "eba5b419",
   "metadata": {
    "execution": {
     "iopub.execute_input": "2023-08-13T05:36:22.433249Z",
     "iopub.status.busy": "2023-08-13T05:36:22.432431Z",
     "iopub.status.idle": "2023-08-13T05:36:23.437818Z",
     "shell.execute_reply": "2023-08-13T05:36:23.436593Z"
    },
    "papermill": {
     "duration": 1.109139,
     "end_time": "2023-08-13T05:36:23.440304",
     "exception": false,
     "start_time": "2023-08-13T05:36:22.331165",
     "status": "completed"
    },
    "tags": []
   },
   "outputs": [
    {
     "data": {
      "text/plain": [
       "(162758, 5)"
      ]
     },
     "execution_count": 4,
     "metadata": {},
     "output_type": "execute_result"
    }
   ],
   "source": [
    "if platform == 'vscode':\n",
    "    traindf = pd.read_csv(\"data/train.csv\")\n",
    "else:\n",
    "    traindf = pd.read_csv(\"/kaggle/input/sentiment-prediction-on-movie-reviews/train.csv\")\n",
    "    \n",
    "traindf.shape"
   ]
  },
  {
   "cell_type": "code",
   "execution_count": 5,
   "id": "f7209322",
   "metadata": {
    "execution": {
     "iopub.execute_input": "2023-08-13T05:36:23.643111Z",
     "iopub.status.busy": "2023-08-13T05:36:23.642260Z",
     "iopub.status.idle": "2023-08-13T05:36:23.976593Z",
     "shell.execute_reply": "2023-08-13T05:36:23.975559Z"
    },
    "papermill": {
     "duration": 0.438413,
     "end_time": "2023-08-13T05:36:23.979145",
     "exception": false,
     "start_time": "2023-08-13T05:36:23.540732",
     "status": "completed"
    },
    "tags": []
   },
   "outputs": [
    {
     "data": {
      "text/plain": [
       "(55315, 4)"
      ]
     },
     "execution_count": 5,
     "metadata": {},
     "output_type": "execute_result"
    }
   ],
   "source": [
    "if platform == 'vscode':\n",
    "    testdf = pd.read_csv(\"data/test.csv\")\n",
    "else:\n",
    "    testdf = pd.read_csv(\"/kaggle/input/sentiment-prediction-on-movie-reviews/test.csv\")\n",
    "\n",
    "testdf.shape"
   ]
  },
  {
   "cell_type": "markdown",
   "id": "cd8eccbe",
   "metadata": {
    "papermill": {
     "duration": 0.100113,
     "end_time": "2023-08-13T05:36:24.182521",
     "exception": false,
     "start_time": "2023-08-13T05:36:24.082408",
     "status": "completed"
    },
    "tags": []
   },
   "source": [
    "### Understanding the data and getting it ready for training and evaluating models  \n"
   ]
  },
  {
   "cell_type": "code",
   "execution_count": 6,
   "id": "471bcdef",
   "metadata": {
    "execution": {
     "iopub.execute_input": "2023-08-13T05:36:24.383044Z",
     "iopub.status.busy": "2023-08-13T05:36:24.382635Z",
     "iopub.status.idle": "2023-08-13T05:36:24.389601Z",
     "shell.execute_reply": "2023-08-13T05:36:24.388450Z"
    },
    "papermill": {
     "duration": 0.110318,
     "end_time": "2023-08-13T05:36:24.391912",
     "exception": false,
     "start_time": "2023-08-13T05:36:24.281594",
     "status": "completed"
    },
    "tags": []
   },
   "outputs": [
    {
     "data": {
      "text/plain": [
       "(162758, 5)"
      ]
     },
     "execution_count": 6,
     "metadata": {},
     "output_type": "execute_result"
    }
   ],
   "source": [
    "traindf.shape"
   ]
  },
  {
   "cell_type": "code",
   "execution_count": 7,
   "id": "13b75ac7",
   "metadata": {
    "execution": {
     "iopub.execute_input": "2023-08-13T05:36:24.593191Z",
     "iopub.status.busy": "2023-08-13T05:36:24.592759Z",
     "iopub.status.idle": "2023-08-13T05:36:24.833531Z",
     "shell.execute_reply": "2023-08-13T05:36:24.832060Z"
    },
    "papermill": {
     "duration": 0.344821,
     "end_time": "2023-08-13T05:36:24.836584",
     "exception": false,
     "start_time": "2023-08-13T05:36:24.491763",
     "status": "completed"
    },
    "tags": []
   },
   "outputs": [
    {
     "name": "stdout",
     "output_type": "stream",
     "text": [
      "<class 'pandas.core.frame.DataFrame'>\n",
      "RangeIndex: 162758 entries, 0 to 162757\n",
      "Data columns (total 5 columns):\n",
      " #   Column              Non-Null Count   Dtype \n",
      "---  ------              --------------   ----- \n",
      " 0   movieid             162758 non-null  object\n",
      " 1   reviewerName        162758 non-null  object\n",
      " 2   isFrequentReviewer  162758 non-null  bool  \n",
      " 3   reviewText          156311 non-null  object\n",
      " 4   sentiment           162758 non-null  object\n",
      "dtypes: bool(1), object(4)\n",
      "memory usage: 5.1+ MB\n"
     ]
    }
   ],
   "source": [
    "traindf.info()"
   ]
  },
  {
   "cell_type": "code",
   "execution_count": 8,
   "id": "22d79a44",
   "metadata": {
    "execution": {
     "iopub.execute_input": "2023-08-13T05:36:25.039940Z",
     "iopub.status.busy": "2023-08-13T05:36:25.037775Z",
     "iopub.status.idle": "2023-08-13T05:36:25.258402Z",
     "shell.execute_reply": "2023-08-13T05:36:25.257109Z"
    },
    "papermill": {
     "duration": 0.324952,
     "end_time": "2023-08-13T05:36:25.261259",
     "exception": false,
     "start_time": "2023-08-13T05:36:24.936307",
     "status": "completed"
    },
    "tags": []
   },
   "outputs": [
    {
     "data": {
      "text/plain": [
       "movieid                  0\n",
       "reviewerName             0\n",
       "isFrequentReviewer       0\n",
       "reviewText            6447\n",
       "sentiment                0\n",
       "dtype: int64"
      ]
     },
     "execution_count": 8,
     "metadata": {},
     "output_type": "execute_result"
    }
   ],
   "source": [
    "traindf.isna().sum()"
   ]
  },
  {
   "cell_type": "markdown",
   "id": "2aa7f872",
   "metadata": {
    "papermill": {
     "duration": 0.099395,
     "end_time": "2023-08-13T05:36:25.463580",
     "exception": false,
     "start_time": "2023-08-13T05:36:25.364185",
     "status": "completed"
    },
    "tags": []
   },
   "source": [
    "### Fill empty reviewText with custom text  "
   ]
  },
  {
   "cell_type": "code",
   "execution_count": 9,
   "id": "1a62fe2a",
   "metadata": {
    "execution": {
     "iopub.execute_input": "2023-08-13T05:36:25.666804Z",
     "iopub.status.busy": "2023-08-13T05:36:25.666420Z",
     "iopub.status.idle": "2023-08-13T05:36:25.905574Z",
     "shell.execute_reply": "2023-08-13T05:36:25.904303Z"
    },
    "papermill": {
     "duration": 0.34277,
     "end_time": "2023-08-13T05:36:25.908277",
     "exception": false,
     "start_time": "2023-08-13T05:36:25.565507",
     "status": "completed"
    },
    "tags": []
   },
   "outputs": [
    {
     "data": {
      "text/plain": [
       "movieid               0\n",
       "reviewerName          0\n",
       "isFrequentReviewer    0\n",
       "reviewText            0\n",
       "sentiment             0\n",
       "dtype: int64"
      ]
     },
     "execution_count": 9,
     "metadata": {},
     "output_type": "execute_result"
    }
   ],
   "source": [
    "traindf[\"reviewText\"].fillna(\"empty\", inplace=True)\n",
    "traindf.isna().sum()"
   ]
  },
  {
   "cell_type": "markdown",
   "id": "bb5be809",
   "metadata": {
    "papermill": {
     "duration": 0.100488,
     "end_time": "2023-08-13T05:36:26.109109",
     "exception": false,
     "start_time": "2023-08-13T05:36:26.008621",
     "status": "completed"
    },
    "tags": []
   },
   "source": [
    "## EDA  \n"
   ]
  },
  {
   "cell_type": "code",
   "execution_count": 10,
   "id": "e258306e",
   "metadata": {
    "execution": {
     "iopub.execute_input": "2023-08-13T05:36:26.311963Z",
     "iopub.status.busy": "2023-08-13T05:36:26.311583Z",
     "iopub.status.idle": "2023-08-13T05:36:26.580005Z",
     "shell.execute_reply": "2023-08-13T05:36:26.578433Z"
    },
    "papermill": {
     "duration": 0.375117,
     "end_time": "2023-08-13T05:36:26.584110",
     "exception": false,
     "start_time": "2023-08-13T05:36:26.208993",
     "status": "completed"
    },
    "tags": []
   },
   "outputs": [
    {
     "data": {
      "image/png": "[encoded data removed]",
      "text/plain": [
       "<Figure size 600x400 with 1 Axes>"
      ]
     },
     "metadata": {},
     "output_type": "display_data"
    }
   ],
   "source": [
    "# Pie chart for sentiment column\n",
    "plt.figure(figsize=(6, 4))\n",
    "traindf[\"sentiment\"].value_counts().plot(kind='pie', autopct='%1.0f%%', colors=[\"lightgreen\", \"crimson\"])\n",
    "plt.title(\"Pie chart for sentiment column\")\n",
    "plt.show()"
   ]
  },
  {
   "cell_type": "code",
   "execution_count": 11,
   "id": "eb52337b",
   "metadata": {
    "execution": {
     "iopub.execute_input": "2023-08-13T05:36:26.811117Z",
     "iopub.status.busy": "2023-08-13T05:36:26.810400Z",
     "iopub.status.idle": "2023-08-13T05:36:26.888000Z",
     "shell.execute_reply": "2023-08-13T05:36:26.886828Z"
    },
    "papermill": {
     "duration": 0.182857,
     "end_time": "2023-08-13T05:36:26.891103",
     "exception": false,
     "start_time": "2023-08-13T05:36:26.708246",
     "status": "completed"
    },
    "tags": []
   },
   "outputs": [
    {
     "name": "stdout",
     "output_type": "stream",
     "text": [
      "sentiment           NEGATIVE  POSITIVE\n",
      "isFrequentReviewer                    \n",
      "False                  35760     77429\n",
      "True                   18237     31332\n"
     ]
    },
    {
     "data": {
      "text/plain": [
       "Chi2ContingencyResult(statistic=419.89235425657796, pvalue=2.5755894769493255e-93, dof=1, expected_freq=array([[37551.86493444, 75637.13506556],\n",
       "       [16445.13506556, 33123.86493444]]))"
      ]
     },
     "execution_count": 11,
     "metadata": {},
     "output_type": "execute_result"
    }
   ],
   "source": [
    "# Chi-square test for isFrequentReviewer column and sentiment column   \n",
    "\n",
    "contingency_table = pd.crosstab(traindf['isFrequentReviewer'], traindf['sentiment'])\n",
    "print(contingency_table)\n",
    "stats.chi2_contingency(contingency_table)"
   ]
  },
  {
   "cell_type": "markdown",
   "id": "f92cc2fe",
   "metadata": {
    "papermill": {
     "duration": 0.102605,
     "end_time": "2023-08-13T05:36:27.095707",
     "exception": false,
     "start_time": "2023-08-13T05:36:26.993102",
     "status": "completed"
    },
    "tags": []
   },
   "source": [
    "### Separate features and labels  "
   ]
  },
  {
   "cell_type": "code",
   "execution_count": 12,
   "id": "f9381a29",
   "metadata": {
    "execution": {
     "iopub.execute_input": "2023-08-13T05:36:27.299651Z",
     "iopub.status.busy": "2023-08-13T05:36:27.299209Z",
     "iopub.status.idle": "2023-08-13T05:36:27.306368Z",
     "shell.execute_reply": "2023-08-13T05:36:27.305571Z"
    },
    "papermill": {
     "duration": 0.112003,
     "end_time": "2023-08-13T05:36:27.308288",
     "exception": false,
     "start_time": "2023-08-13T05:36:27.196285",
     "status": "completed"
    },
    "tags": []
   },
   "outputs": [
    {
     "data": {
      "text/plain": [
       "((162758,), (162758,))"
      ]
     },
     "execution_count": 12,
     "metadata": {},
     "output_type": "execute_result"
    }
   ],
   "source": [
    "train_features = traindf[\"reviewText\"]\n",
    "train_labels = traindf.iloc[:, -1]\n",
    "train_features.shape, train_labels.shape"
   ]
  },
  {
   "cell_type": "markdown",
   "id": "3e359a2b",
   "metadata": {
    "papermill": {
     "duration": 0.100796,
     "end_time": "2023-08-13T05:36:27.510383",
     "exception": false,
     "start_time": "2023-08-13T05:36:27.409587",
     "status": "completed"
    },
    "tags": []
   },
   "source": [
    "### Split traindf into training and testing parts  "
   ]
  },
  {
   "cell_type": "code",
   "execution_count": 13,
   "id": "ce594e68",
   "metadata": {
    "execution": {
     "iopub.execute_input": "2023-08-13T05:36:27.714716Z",
     "iopub.status.busy": "2023-08-13T05:36:27.713849Z",
     "iopub.status.idle": "2023-08-13T05:36:27.753699Z",
     "shell.execute_reply": "2023-08-13T05:36:27.752189Z"
    },
    "papermill": {
     "duration": 0.144454,
     "end_time": "2023-08-13T05:36:27.756401",
     "exception": false,
     "start_time": "2023-08-13T05:36:27.611947",
     "status": "completed"
    },
    "tags": []
   },
   "outputs": [
    {
     "data": {
      "text/plain": [
       "((122068,), (40690,), (122068,), (40690,))"
      ]
     },
     "execution_count": 13,
     "metadata": {},
     "output_type": "execute_result"
    }
   ],
   "source": [
    "X_train, X_test, y_train, y_test = train_test_split(train_features, train_labels, test_size=0.25, random_state=42)\n",
    "X_train.shape, X_test.shape, y_train.shape, y_test.shape"
   ]
  },
  {
   "cell_type": "markdown",
   "id": "7547a665",
   "metadata": {
    "papermill": {
     "duration": 0.100502,
     "end_time": "2023-08-13T05:36:27.958623",
     "exception": false,
     "start_time": "2023-08-13T05:36:27.858121",
     "status": "completed"
    },
    "tags": []
   },
   "source": [
    "## Model evaluation plan and code  "
   ]
  },
  {
   "cell_type": "code",
   "execution_count": 14,
   "id": "910d872f",
   "metadata": {
    "execution": {
     "iopub.execute_input": "2023-08-13T05:36:28.167332Z",
     "iopub.status.busy": "2023-08-13T05:36:28.166880Z",
     "iopub.status.idle": "2023-08-13T05:36:28.171772Z",
     "shell.execute_reply": "2023-08-13T05:36:28.170562Z"
    },
    "papermill": {
     "duration": 0.111035,
     "end_time": "2023-08-13T05:36:28.174109",
     "exception": false,
     "start_time": "2023-08-13T05:36:28.063074",
     "status": "completed"
    },
    "tags": []
   },
   "outputs": [],
   "source": [
    "# from sklearn.metrics import classification_report, confusion_matrix, ConfusionMatrixDisplay\n",
    "# from sklearn.metrics import f1_score"
   ]
  },
  {
   "cell_type": "code",
   "execution_count": 15,
   "id": "9e6c537a",
   "metadata": {
    "execution": {
     "iopub.execute_input": "2023-08-13T05:36:28.383219Z",
     "iopub.status.busy": "2023-08-13T05:36:28.382832Z",
     "iopub.status.idle": "2023-08-13T05:36:28.387641Z",
     "shell.execute_reply": "2023-08-13T05:36:28.386496Z"
    },
    "papermill": {
     "duration": 0.112948,
     "end_time": "2023-08-13T05:36:28.390192",
     "exception": false,
     "start_time": "2023-08-13T05:36:28.277244",
     "status": "completed"
    },
    "tags": []
   },
   "outputs": [],
   "source": [
    "# def evaluate(y_test, y_pred):\n",
    "#     print(classification_report(y_test, y_pred))\n",
    "#     print(confusion_matrix(y_test, y_pred))\n",
    "#     # print(f1_score(y_test, y_pred))\n",
    "#     ConfusionMatrixDisplay(y_test, y_pred)\n",
    "#     return"
   ]
  },
  {
   "cell_type": "markdown",
   "id": "6381ce41",
   "metadata": {
    "papermill": {
     "duration": 0.101436,
     "end_time": "2023-08-13T05:36:28.593409",
     "exception": false,
     "start_time": "2023-08-13T05:36:28.491973",
     "status": "completed"
    },
    "tags": []
   },
   "source": [
    "### Data preprocessing  "
   ]
  },
  {
   "cell_type": "markdown",
   "id": "47b31543",
   "metadata": {
    "papermill": {
     "duration": 0.101046,
     "end_time": "2023-08-13T05:36:28.800977",
     "exception": false,
     "start_time": "2023-08-13T05:36:28.699931",
     "status": "completed"
    },
    "tags": []
   },
   "source": [
    "`Define stop words`  "
   ]
  },
  {
   "cell_type": "code",
   "execution_count": 16,
   "id": "b0c79fd5",
   "metadata": {
    "execution": {
     "iopub.execute_input": "2023-08-13T05:36:29.008874Z",
     "iopub.status.busy": "2023-08-13T05:36:29.008482Z",
     "iopub.status.idle": "2023-08-13T05:36:29.013642Z",
     "shell.execute_reply": "2023-08-13T05:36:29.012398Z"
    },
    "papermill": {
     "duration": 0.11412,
     "end_time": "2023-08-13T05:36:29.015821",
     "exception": false,
     "start_time": "2023-08-13T05:36:28.901701",
     "status": "completed"
    },
    "tags": []
   },
   "outputs": [],
   "source": [
    "# stop_words = [\"able\", \"about\", \"above\", \"abst\", \"ac\"]     # Deprecated  \n",
    "# type(stop_words), len(stop_words)"
   ]
  },
  {
   "cell_type": "markdown",
   "id": "8b13564d",
   "metadata": {
    "papermill": {
     "duration": 0.116813,
     "end_time": "2023-08-13T05:36:29.241003",
     "exception": false,
     "start_time": "2023-08-13T05:36:29.124190",
     "status": "completed"
    },
    "tags": []
   },
   "source": [
    "## Feature extraction  "
   ]
  },
  {
   "cell_type": "markdown",
   "id": "bc5ccdfc",
   "metadata": {
    "papermill": {
     "duration": 0.099852,
     "end_time": "2023-08-13T05:36:29.443366",
     "exception": false,
     "start_time": "2023-08-13T05:36:29.343514",
     "status": "completed"
    },
    "tags": []
   },
   "source": [
    "### Understand CountVectorizer and TfidfVectorizer  "
   ]
  },
  {
   "cell_type": "code",
   "execution_count": 17,
   "id": "93182d5e",
   "metadata": {
    "execution": {
     "iopub.execute_input": "2023-08-13T05:36:29.646814Z",
     "iopub.status.busy": "2023-08-13T05:36:29.646226Z",
     "iopub.status.idle": "2023-08-13T05:36:29.650879Z",
     "shell.execute_reply": "2023-08-13T05:36:29.649731Z"
    },
    "papermill": {
     "duration": 0.109273,
     "end_time": "2023-08-13T05:36:29.653185",
     "exception": false,
     "start_time": "2023-08-13T05:36:29.543912",
     "status": "completed"
    },
    "tags": []
   },
   "outputs": [],
   "source": [
    "# text = X_train.copy()\n",
    "# text.head()"
   ]
  },
  {
   "cell_type": "code",
   "execution_count": 18,
   "id": "f015df8c",
   "metadata": {
    "execution": {
     "iopub.execute_input": "2023-08-13T05:36:29.857680Z",
     "iopub.status.busy": "2023-08-13T05:36:29.857297Z",
     "iopub.status.idle": "2023-08-13T05:36:29.861493Z",
     "shell.execute_reply": "2023-08-13T05:36:29.860354Z"
    },
    "papermill": {
     "duration": 0.109166,
     "end_time": "2023-08-13T05:36:29.863872",
     "exception": false,
     "start_time": "2023-08-13T05:36:29.754706",
     "status": "completed"
    },
    "tags": []
   },
   "outputs": [],
   "source": [
    "# vectorizer = TfidfVectorizer(stop_words=stop_words)\n",
    "# vectorized_text = vectorizer.fit_transform(text[\"reviewText\"])\n",
    "# vectorized_text"
   ]
  },
  {
   "cell_type": "markdown",
   "id": "0be45fb6",
   "metadata": {
    "papermill": {
     "duration": 0.103352,
     "end_time": "2023-08-13T05:36:30.067479",
     "exception": false,
     "start_time": "2023-08-13T05:36:29.964127",
     "status": "completed"
    },
    "tags": []
   },
   "source": [
    "`Without stop words`  \n",
    "<122068x58624 sparse matrix of type '<class 'numpy.float64'>'\n",
    "\twith 2312222 stored elements in Compressed Sparse Row format>\n",
    "\n",
    "`With stop words`  \n",
    "<122068x57784 sparse matrix of type '<class 'numpy.float64'>'\n",
    "\twith 1188395 stored elements in Compressed Sparse Row format>   "
   ]
  },
  {
   "cell_type": "code",
   "execution_count": 19,
   "id": "cb70b573",
   "metadata": {
    "execution": {
     "iopub.execute_input": "2023-08-13T05:36:30.270480Z",
     "iopub.status.busy": "2023-08-13T05:36:30.270080Z",
     "iopub.status.idle": "2023-08-13T05:36:30.274282Z",
     "shell.execute_reply": "2023-08-13T05:36:30.273206Z"
    },
    "papermill": {
     "duration": 0.108786,
     "end_time": "2023-08-13T05:36:30.276637",
     "exception": false,
     "start_time": "2023-08-13T05:36:30.167851",
     "status": "completed"
    },
    "tags": []
   },
   "outputs": [],
   "source": [
    "# vectorizer2 = CountVectorizer(stop_words=stop_words)\n",
    "# vectorized_text2 = vectorizer2.fit_transform(text[\"reviewText\"])\n",
    "# vectorized_text2"
   ]
  },
  {
   "cell_type": "markdown",
   "id": "5526e4de",
   "metadata": {
    "papermill": {
     "duration": 0.101213,
     "end_time": "2023-08-13T05:36:30.479740",
     "exception": false,
     "start_time": "2023-08-13T05:36:30.378527",
     "status": "completed"
    },
    "tags": []
   },
   "source": [
    "`Without stop words`  \n",
    "<122068x58624 sparse matrix of type '<class 'numpy.int64'>'\n",
    "\twith 2312222 stored elements in Compressed Sparse Row format>\n",
    "\n",
    "`With stop words`  \n",
    "<122068x57784 sparse matrix of type '<class 'numpy.int64'>'\n",
    "\twith 1188395 stored elements in Compressed Sparse Row format>"
   ]
  },
  {
   "cell_type": "markdown",
   "id": "21d44d4b",
   "metadata": {
    "papermill": {
     "duration": 0.101515,
     "end_time": "2023-08-13T05:36:30.683004",
     "exception": false,
     "start_time": "2023-08-13T05:36:30.581489",
     "status": "completed"
    },
    "tags": []
   },
   "source": [
    "### Conclusion   \n",
    "`TfidfVectorizer is equivalent to CountVectorizer followed by TfidfTransformer.`  \n",
    "\n",
    "https://scikit-learn.org/stable/modules/generated/sklearn.feature_extraction.text.TfidfVectorizer.html"
   ]
  },
  {
   "cell_type": "markdown",
   "id": "1943ea67",
   "metadata": {
    "papermill": {
     "duration": 0.102553,
     "end_time": "2023-08-13T05:36:30.887541",
     "exception": false,
     "start_time": "2023-08-13T05:36:30.784988",
     "status": "completed"
    },
    "tags": []
   },
   "source": [
    "## Model building workflow  \n",
    "\n",
    "`Make pipeline for preprocesing and model training and predictions`  \n"
   ]
  },
  {
   "cell_type": "code",
   "execution_count": 20,
   "id": "cc413bd3",
   "metadata": {
    "execution": {
     "iopub.execute_input": "2023-08-13T05:36:31.092416Z",
     "iopub.status.busy": "2023-08-13T05:36:31.091634Z",
     "iopub.status.idle": "2023-08-13T05:36:31.096402Z",
     "shell.execute_reply": "2023-08-13T05:36:31.095543Z"
    },
    "papermill": {
     "duration": 0.110437,
     "end_time": "2023-08-13T05:36:31.098803",
     "exception": false,
     "start_time": "2023-08-13T05:36:30.988366",
     "status": "completed"
    },
    "tags": []
   },
   "outputs": [],
   "source": [
    "# def preprocess_n_train(X_train, y_train, preprocessor, model):\n",
    "#     pipe = Pipeline(steps=[\n",
    "#                             (\"preprocessor\", preprocessor),\n",
    "#                             (\"model\", model)\n",
    "#                         ])\n",
    "    \n",
    "#     pipe.fit(X_train, y_train)\n",
    "\n",
    "#     print(\"Given model has been trained. Use predict method to get predictions array.\")\n",
    "#     return pipe\n",
    "\n",
    "\n",
    "# def predict_n_evaluate(pipeline, X_test, y_test):\n",
    "#     y_pred = pipeline.predict(X_test)\n",
    "#     print(f\"y_pred shape: {y_pred.shape}\")\n",
    "#     print(f\"Summary of predictions: {np.unique(y_pred, return_counts=True)}\")\n",
    "#     print(classification_report(y_test, y_pred))\n",
    "#     print(confusion_matrix(y_test, y_pred))\n",
    "#     return y_pred"
   ]
  },
  {
   "cell_type": "markdown",
   "id": "b516f066",
   "metadata": {
    "papermill": {
     "duration": 0.10262,
     "end_time": "2023-08-13T05:36:31.303821",
     "exception": false,
     "start_time": "2023-08-13T05:36:31.201201",
     "status": "completed"
    },
    "tags": []
   },
   "source": [
    "## Building 3 basic models  "
   ]
  },
  {
   "cell_type": "markdown",
   "id": "3be16f32",
   "metadata": {
    "papermill": {
     "duration": 0.101987,
     "end_time": "2023-08-13T05:36:31.508118",
     "exception": false,
     "start_time": "2023-08-13T05:36:31.406131",
     "status": "completed"
    },
    "tags": []
   },
   "source": [
    "### Text preprocessors  "
   ]
  },
  {
   "cell_type": "code",
   "execution_count": 21,
   "id": "52fe499e",
   "metadata": {
    "execution": {
     "iopub.execute_input": "2023-08-13T05:36:31.715995Z",
     "iopub.status.busy": "2023-08-13T05:36:31.715212Z",
     "iopub.status.idle": "2023-08-13T05:36:31.719439Z",
     "shell.execute_reply": "2023-08-13T05:36:31.718502Z"
    },
    "papermill": {
     "duration": 0.112068,
     "end_time": "2023-08-13T05:36:31.722145",
     "exception": false,
     "start_time": "2023-08-13T05:36:31.610077",
     "status": "completed"
    },
    "tags": []
   },
   "outputs": [],
   "source": [
    "# tvec = TfidfVectorizer()\n",
    "# cvec = CountVectorizer()        # Note that TfidfVectorizer and CountVectorizer+TfidsTransformer do the same function\n",
    "# tvec, cvec"
   ]
  },
  {
   "cell_type": "markdown",
   "id": "bee1653e",
   "metadata": {
    "papermill": {
     "duration": 0.103167,
     "end_time": "2023-08-13T05:36:31.928728",
     "exception": false,
     "start_time": "2023-08-13T05:36:31.825561",
     "status": "completed"
    },
    "tags": []
   },
   "source": [
    "### Logistic Regression with TfidVectorizer for preprocessing  "
   ]
  },
  {
   "cell_type": "code",
   "execution_count": 22,
   "id": "4fb26eef",
   "metadata": {
    "execution": {
     "iopub.execute_input": "2023-08-13T05:36:32.134770Z",
     "iopub.status.busy": "2023-08-13T05:36:32.134063Z",
     "iopub.status.idle": "2023-08-13T05:36:32.138860Z",
     "shell.execute_reply": "2023-08-13T05:36:32.137440Z"
    },
    "papermill": {
     "duration": 0.112058,
     "end_time": "2023-08-13T05:36:32.141710",
     "exception": false,
     "start_time": "2023-08-13T05:36:32.029652",
     "status": "completed"
    },
    "tags": []
   },
   "outputs": [],
   "source": [
    "# logreg = LogisticRegression(max_iter=1000)\n",
    "# logreg_pipe = preprocess_n_train(X_train, y_train, tvec, logreg)\n",
    "# y_pred_logreg = predict_n_evaluate(logreg_pipe, X_test, y_test)\n",
    "# y_pred_logreg"
   ]
  },
  {
   "cell_type": "markdown",
   "id": "1b08a23b",
   "metadata": {
    "papermill": {
     "duration": 0.09989,
     "end_time": "2023-08-13T05:36:32.343344",
     "exception": false,
     "start_time": "2023-08-13T05:36:32.243454",
     "status": "completed"
    },
    "tags": []
   },
   "source": [
    "### SVM model  "
   ]
  },
  {
   "cell_type": "code",
   "execution_count": 23,
   "id": "0ff5b01e",
   "metadata": {
    "execution": {
     "iopub.execute_input": "2023-08-13T05:36:32.546402Z",
     "iopub.status.busy": "2023-08-13T05:36:32.545659Z",
     "iopub.status.idle": "2023-08-13T05:36:32.550070Z",
     "shell.execute_reply": "2023-08-13T05:36:32.548886Z"
    },
    "papermill": {
     "duration": 0.108538,
     "end_time": "2023-08-13T05:36:32.552646",
     "exception": false,
     "start_time": "2023-08-13T05:36:32.444108",
     "status": "completed"
    },
    "tags": []
   },
   "outputs": [],
   "source": [
    "# svm = LinearSVC()\n",
    "# svm_pipe = preprocess_n_train(X_train, y_train, tvec, svm)\n",
    "# y_pred_svm = predict_n_evaluate(svm_pipe, X_test, y_test)\n",
    "# y_pred_svm"
   ]
  },
  {
   "cell_type": "markdown",
   "id": "b82690a1",
   "metadata": {
    "papermill": {
     "duration": 0.101471,
     "end_time": "2023-08-13T05:36:32.756867",
     "exception": false,
     "start_time": "2023-08-13T05:36:32.655396",
     "status": "completed"
    },
    "tags": []
   },
   "source": [
    "### Naive Bayes model  "
   ]
  },
  {
   "cell_type": "markdown",
   "id": "d7028954",
   "metadata": {
    "papermill": {
     "duration": 0.100864,
     "end_time": "2023-08-13T05:36:32.964138",
     "exception": false,
     "start_time": "2023-08-13T05:36:32.863274",
     "status": "completed"
    },
    "tags": []
   },
   "source": [
    "#### MultinomialNB  "
   ]
  },
  {
   "cell_type": "code",
   "execution_count": 24,
   "id": "d67ff19e",
   "metadata": {
    "execution": {
     "iopub.execute_input": "2023-08-13T05:36:33.172058Z",
     "iopub.status.busy": "2023-08-13T05:36:33.170990Z",
     "iopub.status.idle": "2023-08-13T05:36:33.176094Z",
     "shell.execute_reply": "2023-08-13T05:36:33.175234Z"
    },
    "papermill": {
     "duration": 0.112501,
     "end_time": "2023-08-13T05:36:33.178567",
     "exception": false,
     "start_time": "2023-08-13T05:36:33.066066",
     "status": "completed"
    },
    "tags": []
   },
   "outputs": [],
   "source": [
    "# mnb = MultinomialNB()\n",
    "# mnb_pipe = preprocess_n_train(X_train, y_train, tvec, mnb)\n",
    "# y_pred_mnb = predict_n_evaluate(mnb_pipe, X_test, y_test)\n",
    "# y_pred_mnb"
   ]
  },
  {
   "cell_type": "markdown",
   "id": "f0af3512",
   "metadata": {
    "papermill": {
     "duration": 0.169345,
     "end_time": "2023-08-13T05:36:33.448888",
     "exception": false,
     "start_time": "2023-08-13T05:36:33.279543",
     "status": "completed"
    },
    "tags": []
   },
   "source": [
    "## Submitting predictions to Kaggle competition  "
   ]
  },
  {
   "cell_type": "code",
   "execution_count": 25,
   "id": "17c1b8c7",
   "metadata": {
    "execution": {
     "iopub.execute_input": "2023-08-13T05:36:33.653921Z",
     "iopub.status.busy": "2023-08-13T05:36:33.653199Z",
     "iopub.status.idle": "2023-08-13T05:36:33.658763Z",
     "shell.execute_reply": "2023-08-13T05:36:33.657651Z"
    },
    "papermill": {
     "duration": 0.11142,
     "end_time": "2023-08-13T05:36:33.661418",
     "exception": false,
     "start_time": "2023-08-13T05:36:33.549998",
     "status": "completed"
    },
    "tags": []
   },
   "outputs": [],
   "source": [
    "# def submit(selected_model=logreg, selected_preprocessor=tvec):\n",
    "    \n",
    "#     # Retrain on the whole train.csv file  \n",
    "#     traindf = pd.read_csv(\"/kaggle/input/sentiment-prediction-on-movie-reviews/train.csv\")\n",
    "#     X_train = traindf[\"reviewText\"]\n",
    "#     X_train.fillna(\"empty\", inplace=True)\n",
    "#     y_train = traindf[\"sentiment\"]\n",
    "#     pipe = preprocess_n_train(X_train, y_train, selected_preprocessor, selected_model)\n",
    "    \n",
    "#     # Predict on test.csv file\n",
    "#     testdf = pd.read_csv(\"/kaggle/input/sentiment-prediction-on-movie-reviews/test.csv\")\n",
    "#     X_test = testdf[\"reviewText\"]\n",
    "#     X_test.fillna(\"empty\", inplace=True)\n",
    "    \n",
    "#     y_pred = pipe.predict(X_test)\n",
    "    \n",
    "#     pred_df = pd.DataFrame(y_pred)\n",
    "#     pred_df.columns = [\"sentiment\"]\n",
    "#     pred_df.index.name = \"id\"\n",
    "#     pred_df.to_csv(\"submission.csv\")\n",
    "    \n",
    "#     return \"Successfully created the submission file!!!\""
   ]
  },
  {
   "cell_type": "code",
   "execution_count": 26,
   "id": "7648ef9e",
   "metadata": {
    "execution": {
     "iopub.execute_input": "2023-08-13T05:36:33.872908Z",
     "iopub.status.busy": "2023-08-13T05:36:33.872478Z",
     "iopub.status.idle": "2023-08-13T05:36:33.876722Z",
     "shell.execute_reply": "2023-08-13T05:36:33.875638Z"
    },
    "papermill": {
     "duration": 0.113643,
     "end_time": "2023-08-13T05:36:33.878848",
     "exception": false,
     "start_time": "2023-08-13T05:36:33.765205",
     "status": "completed"
    },
    "tags": []
   },
   "outputs": [],
   "source": [
    "# submit(logreg_cv1, tvec_cv1)"
   ]
  },
  {
   "cell_type": "markdown",
   "id": "1efe1f5a",
   "metadata": {
    "papermill": {
     "duration": 0.106104,
     "end_time": "2023-08-13T05:36:34.087356",
     "exception": false,
     "start_time": "2023-08-13T05:36:33.981252",
     "status": "completed"
    },
    "tags": []
   },
   "source": [
    "# PART II  "
   ]
  },
  {
   "cell_type": "markdown",
   "id": "238b994e",
   "metadata": {
    "papermill": {
     "duration": 0.101744,
     "end_time": "2023-08-13T05:36:34.293452",
     "exception": false,
     "start_time": "2023-08-13T05:36:34.191708",
     "status": "completed"
    },
    "tags": []
   },
   "source": [
    "## Merge \"movies.csv\" with \"train.csv\" and \"test.csv\"  "
   ]
  },
  {
   "cell_type": "markdown",
   "id": "8fb60906",
   "metadata": {
    "papermill": {
     "duration": 0.100716,
     "end_time": "2023-08-13T05:36:34.497294",
     "exception": false,
     "start_time": "2023-08-13T05:36:34.396578",
     "status": "completed"
    },
    "tags": []
   },
   "source": [
    "### Helper functions  "
   ]
  },
  {
   "cell_type": "code",
   "execution_count": 27,
   "id": "8dd76bb9",
   "metadata": {
    "execution": {
     "iopub.execute_input": "2023-08-13T05:36:34.702140Z",
     "iopub.status.busy": "2023-08-13T05:36:34.701721Z",
     "iopub.status.idle": "2023-08-13T05:36:34.707453Z",
     "shell.execute_reply": "2023-08-13T05:36:34.706353Z"
    },
    "papermill": {
     "duration": 0.11089,
     "end_time": "2023-08-13T05:36:34.709837",
     "exception": false,
     "start_time": "2023-08-13T05:36:34.598947",
     "status": "completed"
    },
    "tags": []
   },
   "outputs": [],
   "source": [
    "# Helper function for loading files  \n",
    "\n",
    "def load_csv(filename: str):\n",
    "    if platform == \"vscode\":\n",
    "        df = pd.read_csv(f\"data/{filename}.csv\")\n",
    "    else:\n",
    "        df = pd.read_csv(f\"/kaggle/input/sentiment-prediction-on-movie-reviews/{filename}.csv\")\n",
    "        \n",
    "    return df"
   ]
  },
  {
   "cell_type": "code",
   "execution_count": 28,
   "id": "af2f97b5",
   "metadata": {
    "execution": {
     "iopub.execute_input": "2023-08-13T05:36:34.918237Z",
     "iopub.status.busy": "2023-08-13T05:36:34.917798Z",
     "iopub.status.idle": "2023-08-13T05:36:34.923273Z",
     "shell.execute_reply": "2023-08-13T05:36:34.922475Z"
    },
    "papermill": {
     "duration": 0.113496,
     "end_time": "2023-08-13T05:36:34.925511",
     "exception": false,
     "start_time": "2023-08-13T05:36:34.812015",
     "status": "completed"
    },
    "tags": []
   },
   "outputs": [],
   "source": [
    "def inspect(df: pd.DataFrame):\n",
    "    print(f\"Shape of the dataframe: {df.shape}\")\n",
    "    print()\n",
    "    print(f\"Columns in the dataframe:\\n{df.columns}\")\n",
    "    print()\n",
    "    print(f\"{df.info()}\")\n",
    "    print()\n",
    "    # print(f\"Summary: {df.describe()}\")\n",
    "    print(f\"Missing values:\\n{df.isna().sum()}\")\n",
    "    return"
   ]
  },
  {
   "cell_type": "code",
   "execution_count": 29,
   "id": "8acd2624",
   "metadata": {
    "execution": {
     "iopub.execute_input": "2023-08-13T05:36:35.135007Z",
     "iopub.status.busy": "2023-08-13T05:36:35.134230Z",
     "iopub.status.idle": "2023-08-13T05:36:35.140683Z",
     "shell.execute_reply": "2023-08-13T05:36:35.139498Z"
    },
    "papermill": {
     "duration": 0.115561,
     "end_time": "2023-08-13T05:36:35.143346",
     "exception": false,
     "start_time": "2023-08-13T05:36:35.027785",
     "status": "completed"
    },
    "tags": []
   },
   "outputs": [],
   "source": [
    "def name_fl(name):\n",
    "    l = name.split()\n",
    "    n = ' '.join((l[0], l[-1]))\n",
    "    return n"
   ]
  },
  {
   "cell_type": "code",
   "execution_count": 30,
   "id": "159343d1",
   "metadata": {
    "execution": {
     "iopub.execute_input": "2023-08-13T05:36:35.353073Z",
     "iopub.status.busy": "2023-08-13T05:36:35.352653Z",
     "iopub.status.idle": "2023-08-13T05:36:35.381122Z",
     "shell.execute_reply": "2023-08-13T05:36:35.379954Z"
    },
    "papermill": {
     "duration": 0.136867,
     "end_time": "2023-08-13T05:36:35.384058",
     "exception": false,
     "start_time": "2023-08-13T05:36:35.247191",
     "status": "completed"
    },
    "tags": []
   },
   "outputs": [],
   "source": [
    "def select_features(df: pd.DataFrame, moviesdf: pd.DataFrame, row_thresh_null=None):\n",
    "    '''\n",
    "    This function merges the given dataframes. Note that the first df must be \"train\" or \"test\" and\n",
    "    the second df should be \"movies\".\n",
    "    Note: Sentiment column is present only in \"train.csv\" file and not \"test.csv\" file.\n",
    "    '''\n",
    "    \n",
    "    # Drop duplicates from moviesdf\n",
    "#     movies_unique = moviesdf.drop_duplicates(subset=[\"movieid\"])\n",
    "\n",
    "    # Drop duplicates using groupby - clubs similar rows and fills in missing values better\n",
    "    movies_unique = moviesdf.fillna(value=np.nan).groupby(\"movieid\").first().reset_index()\n",
    "    \n",
    "\n",
    "    # Handle missing values in movies.csv better than just dropping duplicates?\n",
    "#     movies_unique = moviesdf.copy()\n",
    "#     movies_unique[[\"audienceScore\", \"runtimeMinutes\"]] = movies_unique[[\"audienceScore\", \"runtimeMinutes\"]].interpolate(method='linear', axis=0)\n",
    "#     movies_unique = movies_unique.fillna(value=np.nan).groupby(\"movieid\").first().fillna(method='ffill').reset_index()\n",
    "\n",
    "    \n",
    "\n",
    "    # Merge df and movies_unique\n",
    "    df_merged = pd.merge(df, movies_unique, on=\"movieid\", how='left')\n",
    "    \n",
    "    # Rename \"isTopCritic\" column, if it exists, to \"isFrequentReviewer\"\n",
    "    df_merged.rename(columns={\"isTopCritic\": \"isFrequentReviewer\"}, inplace=True)\n",
    "    \n",
    "    # Drop columns\n",
    "#     df_merged = df_merged.drop(columns=[\"title\", \"ratingContents\", \"releaseDateTheaters\", \"releaseDateStreaming\", \"distributor\", \"soundType\"])\n",
    "#     df_merged = df_merged.drop(columns=[\"title\", \"soundType\"])\n",
    "    \n",
    "    # Drop rows (OPTIONAL: Uses kwarg row_thresh_null)\n",
    "    if row_thresh_null != None:\n",
    "        df_merged.dropna(axis=0, thresh=(df_merged.shape[1] - row_thresh_null), inplace=True)\n",
    "        \n",
    "\n",
    "    # Create new columns based on reviewText\n",
    "    final = df_merged.copy()\n",
    "    final[\"reviewYN\"] = np.where(final[\"reviewText\"].isnull(), 1, 0)    # Feature engineering - adding a new column\n",
    "    final[\"reviewWC\"] = final.apply(lambda x: len(str(x[\"reviewText\"]).split()), axis=1)    # Feature engineering - adding second new column\n",
    "    \n",
    "    # Clean text (replace numbers with empty string) and fill missing values in \"reviewText\" with empty string\n",
    "    final[\"reviewText\"] = final[\"reviewText\"].str.replace('\\d+', '', regex=True)\n",
    "    final[\"reviewText\"] = final[\"reviewText\"].fillna(\"neutral\")\n",
    "    \n",
    "    # Fill missing values in \"rating\", \"genre\", original columns with the word \"unknown\"\n",
    "    final[\"rating\"] = final[\"rating\"].fillna(\"unknown\")\n",
    "    final[\"originalLanguage\"] = final[\"originalLanguage\"].fillna(\"unknown\")\n",
    "    final[\"genre\"] = final[\"genre\"].fillna(\"unknown\")\n",
    "    final[\"genre\"] = final[\"genre\"].apply(lambda x: re.sub(r\"-\", \"\", x))\n",
    "    final[\"genreSorted\"] = final[\"genre\"].apply(lambda x: (\",\").join(sorted(x.split(\", \"))))\n",
    "#     final[\"genre\"] = final[\"genre\"].replace(to_replace={\"&\": \"\"})\n",
    "\n",
    "    # Impute missing values for \"audienceScore\" and \"runtimeMinutes\" columns\n",
    "#     final[\"audienceScore\"] = final[\"audienceScore\"].fillna(final[\"audienceScore\"].mean())        # MOVED\n",
    "#     final[\"runtimeMinutes\"] = final[\"runtimeMinutes\"].fillna(final[\"runtimeMinutes\"].median())   # MOVED\n",
    "    \n",
    "    # Preprocess and impute missing values in \"boxOffice\" column\n",
    "    final[\"boxOffice\"] = final[\"boxOffice\"].str[1:]\n",
    "    final[\"boxOffice\"] = final[\"boxOffice\"].replace(to_replace={\"M\": \"*1000000\", \"K\": \"*1000\"}, regex=True)\n",
    "    final[\"boxOffice\"] = final[\"boxOffice\"].loc[final[\"boxOffice\"].notnull()].apply(lambda x: eval(str(x)))\n",
    "#     final[\"boxOffice\"] = final[\"boxOffice\"].fillna(final[\"boxOffice\"].median())                  # MOVED\n",
    "    # (Optional) Replace outliers in boxOffice with median\n",
    "#     median = final[\"boxOffice\"].describe()['50%']\n",
    "#     iqr = final[\"boxOffice\"].describe()['75%'] - final[\"boxOffice\"].describe()['25%']\n",
    "#     ll = median - (1.5*iqr)\n",
    "#     ul = median + (1.5*iqr)\n",
    "#     final.loc[final[\"boxOffice\"] > ul, \"boxOffice\"] = median\n",
    "    \n",
    "    # Clean language names\n",
    "    final[\"originalLanguage\"].replace({\"English (United Kingdom)\": \"English\", \n",
    "                                            \"English (Australia)\" : \"English\",\n",
    "                                            \"French (France)\": \"French\", \n",
    "                                            \"French (Canada)\": \"French\",\n",
    "                                            \"Portuguese (Brazil)\": \"Portuguese\",\n",
    "                                            \"Spanish (Spain)\": \"Spanish\"},                                         \n",
    "                                            inplace=True)\n",
    "    \n",
    "    # Clean reviewerName column\n",
    "    pre_post_fixes = {\"Mr. \": \"\", \"Mrs. \": \"\", \"Ms. \": \"\", \"Dr. \": \"\", \n",
    "                      \" MD\": \"\", \" DDS\": \"\", \" DVM\": \"\", \" Jr.\": \"\", \" PhD\": \"\", \" II\": \"\", \" IV\": \"\"}\n",
    "    final[\"reviewerName\"] = final[\"reviewerName\"].replace(pre_post_fixes, regex=True)\n",
    "    final[\"reviewerName\"] = final[\"reviewerName\"].apply(name_fl)\n",
    "    \n",
    "    # Handle 'ratingContents' column\n",
    "    final[\"ratingContents\"] = final[\"ratingContents\"].fillna(\"neutral\")\n",
    "    final[\"rcSorted\"] = final[\"ratingContents\"].apply(lambda x: (\",\").join(sorted(x.strip(\"][\").split(\", \"))))\n",
    "    final[\"rcSorted\"] = final[\"rcSorted\"].apply(lambda x: re.sub(r\"'\", \"\", x))\n",
    "    final[\"rcSorted\"] = final[\"rcSorted\"].apply(lambda x: re.sub(r\"[/\\s]\", \"_\", x))  \n",
    "    \n",
    "    # Handle 'ratingContents' column\n",
    "    final[\"distributor\"] = final[\"distributor\"].fillna(\"unknown\")\n",
    "    \n",
    "    # Work with 'releaseDateTheaters', releaseDateStreaming column\n",
    "    final[[\"releaseDateTheaters\", \"releaseDateStreaming\"]] = final[[\"releaseDateTheaters\", \"releaseDateStreaming\"]].astype('datetime64[ns]')\n",
    "\n",
    "    final[\"releaseDate\"] = final[[\"releaseDateTheaters\", \"releaseDateStreaming\"]].min(axis=1, skipna=False)\n",
    "#     final[\"releaseDate\"] = final[\"releaseDate\"].fillna(final[\"releaseDate\"].median())               # MOVED\n",
    "\n",
    "    final[\"releaseYear\"] = final[\"releaseDate\"].dt.year\n",
    "    final[\"releaseMonth\"] = final[\"releaseDate\"].dt.month\n",
    "    \n",
    "    # Compute \"releaseDiff\" column and fill missing values in \"releaseDiff\" and (optional) replace outliers\n",
    "    final[\"releaseDiff\"] = (final[\"releaseDateStreaming\"] - final[\"releaseDateTheaters\"]) / np.timedelta64(1, 'D')\n",
    "    final[\"releaseDiff\"] = final[\"releaseDiff\"].apply(lambda x: abs(x))\n",
    "    final[\"releaseDiff\"] = final[\"releaseDiff\"].fillna(value=0)\n",
    "#     final[\"releaseDiff\"] = final[\"releaseDiff\"].fillna(final[\"releaseDiff\"].median())\n",
    "    # median = final[\"releaseDiff\"].describe()['50%']\n",
    "    # iqr = final[\"releaseDiff\"].describe()['75%'] - final[\"releaseDiff\"].describe()['25%']\n",
    "    # ll = median - (1.5*iqr)\n",
    "    # ul = median + (1.5*iqr)\n",
    "    # final.loc[final[\"releaseDiff\"] > ul, \"releaseDiff\"] = median\n",
    "    # final.loc[final[\"releaseDiff\"] < ll, \"releaseDiff\"] = median\n",
    "    \n",
    "#     # Create new feature columns\n",
    "    \n",
    "#     # Convert audienceScore to categories  \n",
    "#     num_bins_as = 20\n",
    "#     final[\"audScoreBins\"] = pd.cut(final['audienceScore'], bins=num_bins_as, labels=False)\n",
    "    \n",
    "#     # Convert runtimeMinutes to categories  \n",
    "# #     num_bins_rt = 20\n",
    "#     final[\"runtimeBins\"] = pd.cut(final['runtimeMinutes'], bins=[0,75,120,180,565], labels=[4,3,2,1])\n",
    "    \n",
    "#     # Convert boxOffice to categories  \n",
    "#     num_bins_bo = 5\n",
    "#     final[\"boxOfficeBins\"] = pd.cut(final['boxOffice'], bins=num_bins_bo, labels=False)\n",
    "    \n",
    "#     # Convert releaseDiff to categories  \n",
    "#     num_bins_rd = 5\n",
    "#     final[\"releaseDiffBins\"] = pd.cut(final['releaseDiff'], bins=[-1, 180, 360, 1000, 40000], labels=[0, 1, 2, 3])\n",
    "\n",
    "    return final"
   ]
  },
  {
   "cell_type": "code",
   "execution_count": 31,
   "id": "9cbfff3a",
   "metadata": {
    "execution": {
     "iopub.execute_input": "2023-08-13T05:36:35.590039Z",
     "iopub.status.busy": "2023-08-13T05:36:35.589594Z",
     "iopub.status.idle": "2023-08-13T05:36:35.597880Z",
     "shell.execute_reply": "2023-08-13T05:36:35.596675Z"
    },
    "papermill": {
     "duration": 0.114538,
     "end_time": "2023-08-13T05:36:35.600415",
     "exception": false,
     "start_time": "2023-08-13T05:36:35.485877",
     "status": "completed"
    },
    "tags": []
   },
   "outputs": [],
   "source": [
    "def split_train_predict(features, labels, pipeline, test_size=0.25, random_state=42):\n",
    "    # cols = features.columns\n",
    "    if len(features.shape) == 1:\n",
    "        features = features.to_numpy().reshape(-1, 1)  # reshape to 2D array\n",
    "    features = pd.DataFrame(features)\n",
    "    X_train, X_test, y_train, y_test = train_test_split(features, labels, test_size=test_size, random_state=random_state)\n",
    "    pipeline.fit(X_train, y_train)\n",
    "    y_pred = pipeline.predict(X_test)\n",
    "    print(classification_report(y_test, y_pred))\n",
    "    print(confusion_matrix(y_test, y_pred))\n",
    "    return pipeline"
   ]
  },
  {
   "cell_type": "markdown",
   "id": "8a9afeaa",
   "metadata": {
    "papermill": {
     "duration": 0.100343,
     "end_time": "2023-08-13T05:36:35.802698",
     "exception": false,
     "start_time": "2023-08-13T05:36:35.702355",
     "status": "completed"
    },
    "tags": []
   },
   "source": [
    "### Merge \"train.csv\" file with \"movies.csv\" file  "
   ]
  },
  {
   "cell_type": "code",
   "execution_count": 32,
   "id": "10e9297a",
   "metadata": {
    "execution": {
     "iopub.execute_input": "2023-08-13T05:36:36.007172Z",
     "iopub.status.busy": "2023-08-13T05:36:36.006182Z",
     "iopub.status.idle": "2023-08-13T05:36:50.738502Z",
     "shell.execute_reply": "2023-08-13T05:36:50.737198Z"
    },
    "papermill": {
     "duration": 14.837148,
     "end_time": "2023-08-13T05:36:50.741344",
     "exception": false,
     "start_time": "2023-08-13T05:36:35.904196",
     "status": "completed"
    },
    "tags": []
   },
   "outputs": [],
   "source": [
    "merged = select_features(load_csv(\"train\"), load_csv(\"movies\"), row_thresh_null=None)"
   ]
  },
  {
   "cell_type": "code",
   "execution_count": 33,
   "id": "a9d1882c",
   "metadata": {
    "execution": {
     "iopub.execute_input": "2023-08-13T05:36:50.945523Z",
     "iopub.status.busy": "2023-08-13T05:36:50.945098Z",
     "iopub.status.idle": "2023-08-13T05:36:52.389009Z",
     "shell.execute_reply": "2023-08-13T05:36:52.387690Z"
    },
    "papermill": {
     "duration": 1.548371,
     "end_time": "2023-08-13T05:36:52.391484",
     "exception": false,
     "start_time": "2023-08-13T05:36:50.843113",
     "status": "completed"
    },
    "tags": []
   },
   "outputs": [
    {
     "name": "stdout",
     "output_type": "stream",
     "text": [
      "Shape of the dataframe: (162758, 26)\n",
      "\n",
      "Columns in the dataframe:\n",
      "Index(['movieid', 'reviewerName', 'isFrequentReviewer', 'reviewText',\n",
      "       'sentiment', 'title', 'audienceScore', 'rating', 'ratingContents',\n",
      "       'releaseDateTheaters', 'releaseDateStreaming', 'runtimeMinutes',\n",
      "       'genre', 'originalLanguage', 'director', 'boxOffice', 'distributor',\n",
      "       'soundType', 'reviewYN', 'reviewWC', 'genreSorted', 'rcSorted',\n",
      "       'releaseDate', 'releaseYear', 'releaseMonth', 'releaseDiff'],\n",
      "      dtype='object')\n",
      "\n",
      "<class 'pandas.core.frame.DataFrame'>\n",
      "Int64Index: 162758 entries, 0 to 162757\n",
      "Data columns (total 26 columns):\n",
      " #   Column                Non-Null Count   Dtype         \n",
      "---  ------                --------------   -----         \n",
      " 0   movieid               162758 non-null  object        \n",
      " 1   reviewerName          162758 non-null  object        \n",
      " 2   isFrequentReviewer    162758 non-null  bool          \n",
      " 3   reviewText            162758 non-null  object        \n",
      " 4   sentiment             162758 non-null  object        \n",
      " 5   title                 162758 non-null  object        \n",
      " 6   audienceScore         159922 non-null  float64       \n",
      " 7   rating                162758 non-null  object        \n",
      " 8   ratingContents        162758 non-null  object        \n",
      " 9   releaseDateTheaters   146403 non-null  datetime64[ns]\n",
      " 10  releaseDateStreaming  157353 non-null  datetime64[ns]\n",
      " 11  runtimeMinutes        162016 non-null  float64       \n",
      " 12  genre                 162758 non-null  object        \n",
      " 13  originalLanguage      162758 non-null  object        \n",
      " 14  director              162758 non-null  object        \n",
      " 15  boxOffice             130581 non-null  float64       \n",
      " 16  distributor           162758 non-null  object        \n",
      " 17  soundType             93466 non-null   object        \n",
      " 18  reviewYN              162758 non-null  int64         \n",
      " 19  reviewWC              162758 non-null  int64         \n",
      " 20  genreSorted           162758 non-null  object        \n",
      " 21  rcSorted              162758 non-null  object        \n",
      " 22  releaseDate           143073 non-null  datetime64[ns]\n",
      " 23  releaseYear           143073 non-null  float64       \n",
      " 24  releaseMonth          143073 non-null  float64       \n",
      " 25  releaseDiff           162758 non-null  float64       \n",
      "dtypes: bool(1), datetime64[ns](3), float64(6), int64(2), object(14)\n",
      "memory usage: 32.4+ MB\n",
      "None\n",
      "\n",
      "Missing values:\n",
      "movieid                     0\n",
      "reviewerName                0\n",
      "isFrequentReviewer          0\n",
      "reviewText                  0\n",
      "sentiment                   0\n",
      "title                       0\n",
      "audienceScore            2836\n",
      "rating                      0\n",
      "ratingContents              0\n",
      "releaseDateTheaters     16355\n",
      "releaseDateStreaming     5405\n",
      "runtimeMinutes            742\n",
      "genre                       0\n",
      "originalLanguage            0\n",
      "director                    0\n",
      "boxOffice               32177\n",
      "distributor                 0\n",
      "soundType               69292\n",
      "reviewYN                    0\n",
      "reviewWC                    0\n",
      "genreSorted                 0\n",
      "rcSorted                    0\n",
      "releaseDate             19685\n",
      "releaseYear             19685\n",
      "releaseMonth            19685\n",
      "releaseDiff                 0\n",
      "dtype: int64\n"
     ]
    }
   ],
   "source": [
    "inspect(merged)    # Note missing values in ['audienceScore', 'runtimeMinutes', 'boxOffice'] columns  "
   ]
  },
  {
   "cell_type": "code",
   "execution_count": 34,
   "id": "c9c7c183",
   "metadata": {
    "execution": {
     "iopub.execute_input": "2023-08-13T05:36:52.598585Z",
     "iopub.status.busy": "2023-08-13T05:36:52.597898Z",
     "iopub.status.idle": "2023-08-13T05:36:52.688385Z",
     "shell.execute_reply": "2023-08-13T05:36:52.687007Z"
    },
    "papermill": {
     "duration": 0.198863,
     "end_time": "2023-08-13T05:36:52.691901",
     "exception": false,
     "start_time": "2023-08-13T05:36:52.493038",
     "status": "completed"
    },
    "tags": []
   },
   "outputs": [
    {
     "data": {
      "text/plain": [
       "array([6.80e+01, 1.04e+02, 1.43e+07])"
      ]
     },
     "execution_count": 34,
     "metadata": {},
     "output_type": "execute_result"
    }
   ],
   "source": [
    "# Simple Imputer for ['audienceScore', 'runtimeMinutes', 'boxOffice'] columns\n",
    "si = SimpleImputer(strategy='median')\n",
    "merged[['audienceScore', 'runtimeMinutes', 'boxOffice']] = si.fit_transform(merged[['audienceScore', 'runtimeMinutes', 'boxOffice']])\n",
    "si.statistics_"
   ]
  },
  {
   "cell_type": "code",
   "execution_count": 35,
   "id": "5cb198b9",
   "metadata": {
    "execution": {
     "iopub.execute_input": "2023-08-13T05:36:52.898824Z",
     "iopub.status.busy": "2023-08-13T05:36:52.898429Z",
     "iopub.status.idle": "2023-08-13T05:36:52.912540Z",
     "shell.execute_reply": "2023-08-13T05:36:52.911398Z"
    },
    "papermill": {
     "duration": 0.121886,
     "end_time": "2023-08-13T05:36:52.915071",
     "exception": false,
     "start_time": "2023-08-13T05:36:52.793185",
     "status": "completed"
    },
    "tags": []
   },
   "outputs": [],
   "source": [
    "# Fill 'releaseDate' column with median  \n",
    "merged['releaseDate'] = merged[\"releaseDate\"].fillna(merged[\"releaseDate\"].median())"
   ]
  },
  {
   "cell_type": "code",
   "execution_count": 36,
   "id": "44c65890",
   "metadata": {
    "execution": {
     "iopub.execute_input": "2023-08-13T05:36:53.122332Z",
     "iopub.status.busy": "2023-08-13T05:36:53.121909Z",
     "iopub.status.idle": "2023-08-13T05:36:54.564584Z",
     "shell.execute_reply": "2023-08-13T05:36:54.562978Z"
    },
    "papermill": {
     "duration": 1.548611,
     "end_time": "2023-08-13T05:36:54.567187",
     "exception": false,
     "start_time": "2023-08-13T05:36:53.018576",
     "status": "completed"
    },
    "tags": []
   },
   "outputs": [
    {
     "name": "stdout",
     "output_type": "stream",
     "text": [
      "Shape of the dataframe: (162758, 26)\n",
      "\n",
      "Columns in the dataframe:\n",
      "Index(['movieid', 'reviewerName', 'isFrequentReviewer', 'reviewText',\n",
      "       'sentiment', 'title', 'audienceScore', 'rating', 'ratingContents',\n",
      "       'releaseDateTheaters', 'releaseDateStreaming', 'runtimeMinutes',\n",
      "       'genre', 'originalLanguage', 'director', 'boxOffice', 'distributor',\n",
      "       'soundType', 'reviewYN', 'reviewWC', 'genreSorted', 'rcSorted',\n",
      "       'releaseDate', 'releaseYear', 'releaseMonth', 'releaseDiff'],\n",
      "      dtype='object')\n",
      "\n",
      "<class 'pandas.core.frame.DataFrame'>\n",
      "Int64Index: 162758 entries, 0 to 162757\n",
      "Data columns (total 26 columns):\n",
      " #   Column                Non-Null Count   Dtype         \n",
      "---  ------                --------------   -----         \n",
      " 0   movieid               162758 non-null  object        \n",
      " 1   reviewerName          162758 non-null  object        \n",
      " 2   isFrequentReviewer    162758 non-null  bool          \n",
      " 3   reviewText            162758 non-null  object        \n",
      " 4   sentiment             162758 non-null  object        \n",
      " 5   title                 162758 non-null  object        \n",
      " 6   audienceScore         162758 non-null  float64       \n",
      " 7   rating                162758 non-null  object        \n",
      " 8   ratingContents        162758 non-null  object        \n",
      " 9   releaseDateTheaters   146403 non-null  datetime64[ns]\n",
      " 10  releaseDateStreaming  157353 non-null  datetime64[ns]\n",
      " 11  runtimeMinutes        162758 non-null  float64       \n",
      " 12  genre                 162758 non-null  object        \n",
      " 13  originalLanguage      162758 non-null  object        \n",
      " 14  director              162758 non-null  object        \n",
      " 15  boxOffice             162758 non-null  float64       \n",
      " 16  distributor           162758 non-null  object        \n",
      " 17  soundType             93466 non-null   object        \n",
      " 18  reviewYN              162758 non-null  int64         \n",
      " 19  reviewWC              162758 non-null  int64         \n",
      " 20  genreSorted           162758 non-null  object        \n",
      " 21  rcSorted              162758 non-null  object        \n",
      " 22  releaseDate           162758 non-null  datetime64[ns]\n",
      " 23  releaseYear           143073 non-null  float64       \n",
      " 24  releaseMonth          143073 non-null  float64       \n",
      " 25  releaseDiff           162758 non-null  float64       \n",
      "dtypes: bool(1), datetime64[ns](3), float64(6), int64(2), object(14)\n",
      "memory usage: 32.4+ MB\n",
      "None\n",
      "\n",
      "Missing values:\n",
      "movieid                     0\n",
      "reviewerName                0\n",
      "isFrequentReviewer          0\n",
      "reviewText                  0\n",
      "sentiment                   0\n",
      "title                       0\n",
      "audienceScore               0\n",
      "rating                      0\n",
      "ratingContents              0\n",
      "releaseDateTheaters     16355\n",
      "releaseDateStreaming     5405\n",
      "runtimeMinutes              0\n",
      "genre                       0\n",
      "originalLanguage            0\n",
      "director                    0\n",
      "boxOffice                   0\n",
      "distributor                 0\n",
      "soundType               69292\n",
      "reviewYN                    0\n",
      "reviewWC                    0\n",
      "genreSorted                 0\n",
      "rcSorted                    0\n",
      "releaseDate                 0\n",
      "releaseYear             19685\n",
      "releaseMonth            19685\n",
      "releaseDiff                 0\n",
      "dtype: int64\n"
     ]
    }
   ],
   "source": [
    "# Check out 'merged' df after imputation  \n",
    "inspect(merged)"
   ]
  },
  {
   "cell_type": "code",
   "execution_count": 37,
   "id": "18e26c18",
   "metadata": {
    "execution": {
     "iopub.execute_input": "2023-08-13T05:36:54.772693Z",
     "iopub.status.busy": "2023-08-13T05:36:54.771998Z",
     "iopub.status.idle": "2023-08-13T05:36:54.828639Z",
     "shell.execute_reply": "2023-08-13T05:36:54.827490Z"
    },
    "papermill": {
     "duration": 0.162194,
     "end_time": "2023-08-13T05:36:54.831226",
     "exception": false,
     "start_time": "2023-08-13T05:36:54.669032",
     "status": "completed"
    },
    "tags": []
   },
   "outputs": [
    {
     "data": {
      "text/html": [
       "<div>\n",
       "<style scoped>\n",
       "    .dataframe tbody tr th:only-of-type {\n",
       "        vertical-align: middle;\n",
       "    }\n",
       "\n",
       "    .dataframe tbody tr th {\n",
       "        vertical-align: top;\n",
       "    }\n",
       "\n",
       "    .dataframe thead th {\n",
       "        text-align: right;\n",
       "    }\n",
       "</style>\n",
       "<table border=\"1\" class=\"dataframe\">\n",
       "  <thead>\n",
       "    <tr style=\"text-align: right;\">\n",
       "      <th></th>\n",
       "      <th>audienceScore</th>\n",
       "      <th>runtimeMinutes</th>\n",
       "      <th>boxOffice</th>\n",
       "    </tr>\n",
       "  </thead>\n",
       "  <tbody>\n",
       "    <tr>\n",
       "      <th>count</th>\n",
       "      <td>162758.000000</td>\n",
       "      <td>162758.000000</td>\n",
       "      <td>1.627580e+05</td>\n",
       "    </tr>\n",
       "    <tr>\n",
       "      <th>mean</th>\n",
       "      <td>65.062565</td>\n",
       "      <td>106.992019</td>\n",
       "      <td>4.160983e+07</td>\n",
       "    </tr>\n",
       "    <tr>\n",
       "      <th>std</th>\n",
       "      <td>19.844000</td>\n",
       "      <td>22.203778</td>\n",
       "      <td>7.932291e+07</td>\n",
       "    </tr>\n",
       "    <tr>\n",
       "      <th>min</th>\n",
       "      <td>0.000000</td>\n",
       "      <td>4.000000</td>\n",
       "      <td>0.000000e+00</td>\n",
       "    </tr>\n",
       "    <tr>\n",
       "      <th>25%</th>\n",
       "      <td>51.000000</td>\n",
       "      <td>93.000000</td>\n",
       "      <td>2.000000e+06</td>\n",
       "    </tr>\n",
       "    <tr>\n",
       "      <th>50%</th>\n",
       "      <td>68.000000</td>\n",
       "      <td>104.000000</td>\n",
       "      <td>1.430000e+07</td>\n",
       "    </tr>\n",
       "    <tr>\n",
       "      <th>75%</th>\n",
       "      <td>81.000000</td>\n",
       "      <td>118.000000</td>\n",
       "      <td>4.200000e+07</td>\n",
       "    </tr>\n",
       "    <tr>\n",
       "      <th>max</th>\n",
       "      <td>100.000000</td>\n",
       "      <td>561.000000</td>\n",
       "      <td>8.584000e+08</td>\n",
       "    </tr>\n",
       "  </tbody>\n",
       "</table>\n",
       "</div>"
      ],
      "text/plain": [
       "       audienceScore  runtimeMinutes     boxOffice\n",
       "count  162758.000000   162758.000000  1.627580e+05\n",
       "mean       65.062565      106.992019  4.160983e+07\n",
       "std        19.844000       22.203778  7.932291e+07\n",
       "min         0.000000        4.000000  0.000000e+00\n",
       "25%        51.000000       93.000000  2.000000e+06\n",
       "50%        68.000000      104.000000  1.430000e+07\n",
       "75%        81.000000      118.000000  4.200000e+07\n",
       "max       100.000000      561.000000  8.584000e+08"
      ]
     },
     "execution_count": 37,
     "metadata": {},
     "output_type": "execute_result"
    }
   ],
   "source": [
    "merged[['audienceScore', 'runtimeMinutes', 'boxOffice']].describe()"
   ]
  },
  {
   "cell_type": "markdown",
   "id": "f5f69bf2",
   "metadata": {
    "papermill": {
     "duration": 0.102619,
     "end_time": "2023-08-13T05:36:55.101827",
     "exception": false,
     "start_time": "2023-08-13T05:36:54.999208",
     "status": "completed"
    },
    "tags": []
   },
   "source": [
    "### EDA audienceScore  "
   ]
  },
  {
   "cell_type": "code",
   "execution_count": 38,
   "id": "99e5e6b5",
   "metadata": {
    "execution": {
     "iopub.execute_input": "2023-08-13T05:36:55.313110Z",
     "iopub.status.busy": "2023-08-13T05:36:55.312717Z",
     "iopub.status.idle": "2023-08-13T05:36:55.705819Z",
     "shell.execute_reply": "2023-08-13T05:36:55.704657Z"
    },
    "papermill": {
     "duration": 0.502587,
     "end_time": "2023-08-13T05:36:55.708389",
     "exception": false,
     "start_time": "2023-08-13T05:36:55.205802",
     "status": "completed"
    },
    "tags": []
   },
   "outputs": [
    {
     "data": {
      "text/plain": [
       "<Axes: xlabel='sentiment', ylabel='audienceScore'>"
      ]
     },
     "execution_count": 38,
     "metadata": {},
     "output_type": "execute_result"
    },
    {
     "data": {
      "image/png": "[encoded data removed]",
      "text/plain": [
       "<Figure size 640x480 with 1 Axes>"
      ]
     },
     "metadata": {},
     "output_type": "display_data"
    }
   ],
   "source": [
    "sns.boxplot(y=merged[\"audienceScore\"], x=merged[\"sentiment\"])"
   ]
  },
  {
   "cell_type": "code",
   "execution_count": 39,
   "id": "e8540dd3",
   "metadata": {
    "execution": {
     "iopub.execute_input": "2023-08-13T05:36:55.915544Z",
     "iopub.status.busy": "2023-08-13T05:36:55.914514Z",
     "iopub.status.idle": "2023-08-13T05:36:55.964858Z",
     "shell.execute_reply": "2023-08-13T05:36:55.963702Z"
    },
    "papermill": {
     "duration": 0.156804,
     "end_time": "2023-08-13T05:36:55.967363",
     "exception": false,
     "start_time": "2023-08-13T05:36:55.810559",
     "status": "completed"
    },
    "tags": []
   },
   "outputs": [
    {
     "data": {
      "text/html": [
       "<div>\n",
       "<style scoped>\n",
       "    .dataframe tbody tr th:only-of-type {\n",
       "        vertical-align: middle;\n",
       "    }\n",
       "\n",
       "    .dataframe tbody tr th {\n",
       "        vertical-align: top;\n",
       "    }\n",
       "\n",
       "    .dataframe thead th {\n",
       "        text-align: right;\n",
       "    }\n",
       "</style>\n",
       "<table border=\"1\" class=\"dataframe\">\n",
       "  <thead>\n",
       "    <tr style=\"text-align: right;\">\n",
       "      <th></th>\n",
       "      <th>count</th>\n",
       "      <th>mean</th>\n",
       "      <th>std</th>\n",
       "      <th>min</th>\n",
       "      <th>25%</th>\n",
       "      <th>50%</th>\n",
       "      <th>75%</th>\n",
       "      <th>max</th>\n",
       "    </tr>\n",
       "    <tr>\n",
       "      <th>sentiment</th>\n",
       "      <th></th>\n",
       "      <th></th>\n",
       "      <th></th>\n",
       "      <th></th>\n",
       "      <th></th>\n",
       "      <th></th>\n",
       "      <th></th>\n",
       "      <th></th>\n",
       "    </tr>\n",
       "  </thead>\n",
       "  <tbody>\n",
       "    <tr>\n",
       "      <th>NEGATIVE</th>\n",
       "      <td>53997.0</td>\n",
       "      <td>56.474786</td>\n",
       "      <td>19.902115</td>\n",
       "      <td>0.0</td>\n",
       "      <td>41.0</td>\n",
       "      <td>57.0</td>\n",
       "      <td>72.0</td>\n",
       "      <td>100.0</td>\n",
       "    </tr>\n",
       "    <tr>\n",
       "      <th>POSITIVE</th>\n",
       "      <td>108761.0</td>\n",
       "      <td>69.326174</td>\n",
       "      <td>18.380626</td>\n",
       "      <td>0.0</td>\n",
       "      <td>58.0</td>\n",
       "      <td>73.0</td>\n",
       "      <td>84.0</td>\n",
       "      <td>100.0</td>\n",
       "    </tr>\n",
       "  </tbody>\n",
       "</table>\n",
       "</div>"
      ],
      "text/plain": [
       "              count       mean        std  min   25%   50%   75%    max\n",
       "sentiment                                                              \n",
       "NEGATIVE    53997.0  56.474786  19.902115  0.0  41.0  57.0  72.0  100.0\n",
       "POSITIVE   108761.0  69.326174  18.380626  0.0  58.0  73.0  84.0  100.0"
      ]
     },
     "execution_count": 39,
     "metadata": {},
     "output_type": "execute_result"
    }
   ],
   "source": [
    "merged.groupby('sentiment')['audienceScore'].describe()"
   ]
  },
  {
   "cell_type": "code",
   "execution_count": 40,
   "id": "43c4bab6",
   "metadata": {
    "execution": {
     "iopub.execute_input": "2023-08-13T05:36:56.176098Z",
     "iopub.status.busy": "2023-08-13T05:36:56.175615Z",
     "iopub.status.idle": "2023-08-13T05:36:56.236400Z",
     "shell.execute_reply": "2023-08-13T05:36:56.235168Z"
    },
    "papermill": {
     "duration": 0.168554,
     "end_time": "2023-08-13T05:36:56.239148",
     "exception": false,
     "start_time": "2023-08-13T05:36:56.070594",
     "status": "completed"
    },
    "tags": []
   },
   "outputs": [
    {
     "data": {
      "text/plain": [
       "(162758, 26)"
      ]
     },
     "execution_count": 40,
     "metadata": {},
     "output_type": "execute_result"
    }
   ],
   "source": [
    "merged.loc[merged['audienceScore'] >= 0].shape"
   ]
  },
  {
   "cell_type": "markdown",
   "id": "ecf48ac6",
   "metadata": {
    "papermill": {
     "duration": 0.103931,
     "end_time": "2023-08-13T05:36:56.447488",
     "exception": false,
     "start_time": "2023-08-13T05:36:56.343557",
     "status": "completed"
    },
    "tags": []
   },
   "source": [
    "### EDA releaseDiff  "
   ]
  },
  {
   "cell_type": "code",
   "execution_count": 41,
   "id": "38f414ba",
   "metadata": {
    "execution": {
     "iopub.execute_input": "2023-08-13T05:36:56.657349Z",
     "iopub.status.busy": "2023-08-13T05:36:56.656148Z",
     "iopub.status.idle": "2023-08-13T05:36:56.674048Z",
     "shell.execute_reply": "2023-08-13T05:36:56.672798Z"
    },
    "papermill": {
     "duration": 0.124726,
     "end_time": "2023-08-13T05:36:56.676731",
     "exception": false,
     "start_time": "2023-08-13T05:36:56.552005",
     "status": "completed"
    },
    "tags": []
   },
   "outputs": [
    {
     "data": {
      "text/plain": [
       "count    162758.000000\n",
       "mean       1653.469015\n",
       "std        4581.420922\n",
       "min           0.000000\n",
       "25%          65.000000\n",
       "50%         116.000000\n",
       "75%         375.000000\n",
       "max       38922.000000\n",
       "Name: releaseDiff, dtype: float64"
      ]
     },
     "execution_count": 41,
     "metadata": {},
     "output_type": "execute_result"
    }
   ],
   "source": [
    "# abs values\n",
    "merged[\"releaseDiff\"].describe()"
   ]
  },
  {
   "cell_type": "code",
   "execution_count": 42,
   "id": "a0d642c5",
   "metadata": {
    "execution": {
     "iopub.execute_input": "2023-08-13T05:36:56.884407Z",
     "iopub.status.busy": "2023-08-13T05:36:56.883929Z",
     "iopub.status.idle": "2023-08-13T05:36:56.888502Z",
     "shell.execute_reply": "2023-08-13T05:36:56.887413Z"
    },
    "papermill": {
     "duration": 0.110954,
     "end_time": "2023-08-13T05:36:56.890847",
     "exception": false,
     "start_time": "2023-08-13T05:36:56.779893",
     "status": "completed"
    },
    "tags": []
   },
   "outputs": [],
   "source": [
    "# merged['releaseDiffBins'].value_counts()"
   ]
  },
  {
   "cell_type": "code",
   "execution_count": 43,
   "id": "061d82e3",
   "metadata": {
    "execution": {
     "iopub.execute_input": "2023-08-13T05:36:57.099930Z",
     "iopub.status.busy": "2023-08-13T05:36:57.099091Z",
     "iopub.status.idle": "2023-08-13T05:36:57.483580Z",
     "shell.execute_reply": "2023-08-13T05:36:57.482379Z"
    },
    "papermill": {
     "duration": 0.49167,
     "end_time": "2023-08-13T05:36:57.486434",
     "exception": false,
     "start_time": "2023-08-13T05:36:56.994764",
     "status": "completed"
    },
    "tags": []
   },
   "outputs": [
    {
     "data": {
      "text/plain": [
       "<Axes: xlabel='sentiment', ylabel='releaseDiff'>"
      ]
     },
     "execution_count": 43,
     "metadata": {},
     "output_type": "execute_result"
    },
    {
     "data": {
      "image/png": "[encoded data removed]",
      "text/plain": [
       "<Figure size 640x480 with 1 Axes>"
      ]
     },
     "metadata": {},
     "output_type": "display_data"
    }
   ],
   "source": [
    "sns.boxplot(x=merged['sentiment'], y=merged['releaseDiff'], showfliers=False)"
   ]
  },
  {
   "cell_type": "code",
   "execution_count": 44,
   "id": "aa9c9a24",
   "metadata": {
    "execution": {
     "iopub.execute_input": "2023-08-13T05:36:57.695418Z",
     "iopub.status.busy": "2023-08-13T05:36:57.694968Z",
     "iopub.status.idle": "2023-08-13T05:36:57.699843Z",
     "shell.execute_reply": "2023-08-13T05:36:57.698518Z"
    },
    "papermill": {
     "duration": 0.112285,
     "end_time": "2023-08-13T05:36:57.702115",
     "exception": false,
     "start_time": "2023-08-13T05:36:57.589830",
     "status": "completed"
    },
    "tags": []
   },
   "outputs": [],
   "source": [
    "# sns.displot(merged['releaseDiffBins'])"
   ]
  },
  {
   "cell_type": "code",
   "execution_count": 45,
   "id": "3242060d",
   "metadata": {
    "execution": {
     "iopub.execute_input": "2023-08-13T05:36:57.910986Z",
     "iopub.status.busy": "2023-08-13T05:36:57.910583Z",
     "iopub.status.idle": "2023-08-13T05:36:57.915744Z",
     "shell.execute_reply": "2023-08-13T05:36:57.914515Z"
    },
    "papermill": {
     "duration": 0.112624,
     "end_time": "2023-08-13T05:36:57.918196",
     "exception": false,
     "start_time": "2023-08-13T05:36:57.805572",
     "status": "completed"
    },
    "tags": []
   },
   "outputs": [],
   "source": [
    "# merged['sentiment'].loc[merged['releaseDiffBins'] > 0].value_counts()"
   ]
  },
  {
   "cell_type": "code",
   "execution_count": 46,
   "id": "a9194351",
   "metadata": {
    "execution": {
     "iopub.execute_input": "2023-08-13T05:36:58.130302Z",
     "iopub.status.busy": "2023-08-13T05:36:58.129868Z",
     "iopub.status.idle": "2023-08-13T05:36:58.134798Z",
     "shell.execute_reply": "2023-08-13T05:36:58.133656Z"
    },
    "papermill": {
     "duration": 0.113795,
     "end_time": "2023-08-13T05:36:58.137291",
     "exception": false,
     "start_time": "2023-08-13T05:36:58.023496",
     "status": "completed"
    },
    "tags": []
   },
   "outputs": [],
   "source": [
    "# merged['releaseDiffBins'].describe()"
   ]
  },
  {
   "cell_type": "markdown",
   "id": "2a783114",
   "metadata": {
    "papermill": {
     "duration": 0.106511,
     "end_time": "2023-08-13T05:36:58.348578",
     "exception": false,
     "start_time": "2023-08-13T05:36:58.242067",
     "status": "completed"
    },
    "tags": []
   },
   "source": [
    "### EDA 'distributor'  "
   ]
  },
  {
   "cell_type": "code",
   "execution_count": 47,
   "id": "92719235",
   "metadata": {
    "execution": {
     "iopub.execute_input": "2023-08-13T05:36:58.558082Z",
     "iopub.status.busy": "2023-08-13T05:36:58.557684Z",
     "iopub.status.idle": "2023-08-13T05:36:58.594013Z",
     "shell.execute_reply": "2023-08-13T05:36:58.592838Z"
    },
    "papermill": {
     "duration": 0.143065,
     "end_time": "2023-08-13T05:36:58.596528",
     "exception": false,
     "start_time": "2023-08-13T05:36:58.453463",
     "status": "completed"
    },
    "tags": []
   },
   "outputs": [
    {
     "data": {
      "text/plain": [
       "unknown                              20489\n",
       "Universal Pictures                    8847\n",
       "Warner Bros. Pictures                 8722\n",
       "Paramount Pictures                    7773\n",
       "20th Century Fox                      7007\n",
       "                                     ...  \n",
       "Almi Pictures                            1\n",
       "Koch Lorber                              1\n",
       "Magic Lamp                               1\n",
       "Fine Line Features, Miramax Films        1\n",
       "American Film Co.                        1\n",
       "Name: distributor, Length: 1796, dtype: int64"
      ]
     },
     "execution_count": 47,
     "metadata": {},
     "output_type": "execute_result"
    }
   ],
   "source": [
    "merged[\"distributor\"].value_counts()"
   ]
  },
  {
   "cell_type": "code",
   "execution_count": 48,
   "id": "739b6c69",
   "metadata": {
    "execution": {
     "iopub.execute_input": "2023-08-13T05:36:58.806084Z",
     "iopub.status.busy": "2023-08-13T05:36:58.805706Z",
     "iopub.status.idle": "2023-08-13T05:36:58.823599Z",
     "shell.execute_reply": "2023-08-13T05:36:58.822502Z"
    },
    "papermill": {
     "duration": 0.125102,
     "end_time": "2023-08-13T05:36:58.826097",
     "exception": false,
     "start_time": "2023-08-13T05:36:58.700995",
     "status": "completed"
    },
    "tags": []
   },
   "outputs": [
    {
     "data": {
      "text/plain": [
       "count    162758.000000\n",
       "mean        106.992019\n",
       "std          22.203778\n",
       "min           4.000000\n",
       "25%          93.000000\n",
       "50%         104.000000\n",
       "75%         118.000000\n",
       "max         561.000000\n",
       "Name: runtimeMinutes, dtype: float64"
      ]
     },
     "execution_count": 48,
     "metadata": {},
     "output_type": "execute_result"
    }
   ],
   "source": [
    "merged[\"runtimeMinutes\"].describe()"
   ]
  },
  {
   "cell_type": "code",
   "execution_count": 49,
   "id": "70d0ad16",
   "metadata": {
    "execution": {
     "iopub.execute_input": "2023-08-13T05:36:59.040860Z",
     "iopub.status.busy": "2023-08-13T05:36:59.040458Z",
     "iopub.status.idle": "2023-08-13T05:36:59.469885Z",
     "shell.execute_reply": "2023-08-13T05:36:59.468764Z"
    },
    "papermill": {
     "duration": 0.539127,
     "end_time": "2023-08-13T05:36:59.472813",
     "exception": false,
     "start_time": "2023-08-13T05:36:58.933686",
     "status": "completed"
    },
    "tags": []
   },
   "outputs": [
    {
     "data": {
      "text/plain": [
       "<Axes: xlabel='sentiment', ylabel='runtimeMinutes'>"
      ]
     },
     "execution_count": 49,
     "metadata": {},
     "output_type": "execute_result"
    },
    {
     "data": {
      "image/png": "[encoded data removed]",
      "text/plain": [
       "<Figure size 640x480 with 1 Axes>"
      ]
     },
     "metadata": {},
     "output_type": "display_data"
    }
   ],
   "source": [
    "sns.boxplot(y=merged[\"runtimeMinutes\"], x=merged[\"sentiment\"])"
   ]
  },
  {
   "cell_type": "code",
   "execution_count": 50,
   "id": "8c88c116",
   "metadata": {
    "execution": {
     "iopub.execute_input": "2023-08-13T05:36:59.685852Z",
     "iopub.status.busy": "2023-08-13T05:36:59.685458Z",
     "iopub.status.idle": "2023-08-13T05:36:59.689753Z",
     "shell.execute_reply": "2023-08-13T05:36:59.688934Z"
    },
    "papermill": {
     "duration": 0.114354,
     "end_time": "2023-08-13T05:36:59.692031",
     "exception": false,
     "start_time": "2023-08-13T05:36:59.577677",
     "status": "completed"
    },
    "tags": []
   },
   "outputs": [],
   "source": [
    "# print(merged[\"boxOfficeBins\"].value_counts())\n",
    "# sns.displot(merged[\"boxOfficeBins\"])"
   ]
  },
  {
   "cell_type": "code",
   "execution_count": 51,
   "id": "599a65ac",
   "metadata": {
    "execution": {
     "iopub.execute_input": "2023-08-13T05:36:59.905240Z",
     "iopub.status.busy": "2023-08-13T05:36:59.904846Z",
     "iopub.status.idle": "2023-08-13T05:36:59.913027Z",
     "shell.execute_reply": "2023-08-13T05:36:59.912264Z"
    },
    "papermill": {
     "duration": 0.116843,
     "end_time": "2023-08-13T05:36:59.915176",
     "exception": false,
     "start_time": "2023-08-13T05:36:59.798333",
     "status": "completed"
    },
    "tags": []
   },
   "outputs": [
    {
     "data": {
      "text/plain": [
       "0    Henry Selick’s first movie since ’s Coraline. ...\n",
       "1    With a cast that reads like the Vogue Oscar pa...\n",
       "2    Creed II does not give us anything but another...\n",
       "3    I know what you're thinking, but this is no Li...\n",
       "4    Director Fernando Meirelles tells the story wi...\n",
       "Name: reviewText, dtype: object"
      ]
     },
     "execution_count": 51,
     "metadata": {},
     "output_type": "execute_result"
    }
   ],
   "source": [
    "merged[\"reviewText\"].head()"
   ]
  },
  {
   "cell_type": "code",
   "execution_count": 52,
   "id": "6c16dc73",
   "metadata": {
    "execution": {
     "iopub.execute_input": "2023-08-13T05:37:00.129618Z",
     "iopub.status.busy": "2023-08-13T05:37:00.129127Z",
     "iopub.status.idle": "2023-08-13T05:37:00.136908Z",
     "shell.execute_reply": "2023-08-13T05:37:00.135785Z"
    },
    "papermill": {
     "duration": 0.117853,
     "end_time": "2023-08-13T05:37:00.139279",
     "exception": false,
     "start_time": "2023-08-13T05:37:00.021426",
     "status": "completed"
    },
    "tags": []
   },
   "outputs": [
    {
     "data": {
      "text/plain": [
       "6447"
      ]
     },
     "execution_count": 52,
     "metadata": {},
     "output_type": "execute_result"
    }
   ],
   "source": [
    "merged[\"reviewYN\"].sum()"
   ]
  },
  {
   "cell_type": "code",
   "execution_count": 53,
   "id": "6f95ff59",
   "metadata": {
    "execution": {
     "iopub.execute_input": "2023-08-13T05:37:00.357691Z",
     "iopub.status.busy": "2023-08-13T05:37:00.356609Z",
     "iopub.status.idle": "2023-08-13T05:37:00.365611Z",
     "shell.execute_reply": "2023-08-13T05:37:00.364452Z"
    },
    "papermill": {
     "duration": 0.119228,
     "end_time": "2023-08-13T05:37:00.367855",
     "exception": false,
     "start_time": "2023-08-13T05:37:00.248627",
     "status": "completed"
    },
    "tags": []
   },
   "outputs": [
    {
     "data": {
      "text/plain": [
       "0    11\n",
       "1    24\n",
       "2    22\n",
       "3    34\n",
       "4    20\n",
       "Name: reviewWC, dtype: int64"
      ]
     },
     "execution_count": 53,
     "metadata": {},
     "output_type": "execute_result"
    }
   ],
   "source": [
    "merged[\"reviewWC\"].head()"
   ]
  },
  {
   "cell_type": "code",
   "execution_count": 54,
   "id": "99e4f663",
   "metadata": {
    "execution": {
     "iopub.execute_input": "2023-08-13T05:37:00.582777Z",
     "iopub.status.busy": "2023-08-13T05:37:00.581667Z",
     "iopub.status.idle": "2023-08-13T05:37:00.598266Z",
     "shell.execute_reply": "2023-08-13T05:37:00.597058Z"
    },
    "papermill": {
     "duration": 0.125708,
     "end_time": "2023-08-13T05:37:00.600641",
     "exception": false,
     "start_time": "2023-08-13T05:37:00.474933",
     "status": "completed"
    },
    "tags": []
   },
   "outputs": [
    {
     "data": {
      "text/plain": [
       "count    162758.000000\n",
       "mean         21.013707\n",
       "std          10.216532\n",
       "min           1.000000\n",
       "25%          14.000000\n",
       "50%          21.000000\n",
       "75%          28.000000\n",
       "max          54.000000\n",
       "Name: reviewWC, dtype: float64"
      ]
     },
     "execution_count": 54,
     "metadata": {},
     "output_type": "execute_result"
    }
   ],
   "source": [
    "merged[\"reviewWC\"].describe()"
   ]
  },
  {
   "cell_type": "code",
   "execution_count": 55,
   "id": "c39274fb",
   "metadata": {
    "execution": {
     "iopub.execute_input": "2023-08-13T05:37:00.813455Z",
     "iopub.status.busy": "2023-08-13T05:37:00.813028Z",
     "iopub.status.idle": "2023-08-13T05:37:01.506298Z",
     "shell.execute_reply": "2023-08-13T05:37:01.505045Z"
    },
    "papermill": {
     "duration": 0.803045,
     "end_time": "2023-08-13T05:37:01.508940",
     "exception": false,
     "start_time": "2023-08-13T05:37:00.705895",
     "status": "completed"
    },
    "tags": []
   },
   "outputs": [
    {
     "data": {
      "text/plain": [
       "<Axes: xlabel='reviewWC', ylabel='Count'>"
      ]
     },
     "execution_count": 55,
     "metadata": {},
     "output_type": "execute_result"
    },
    {
     "data": {
      "image/png": "[encoded data removed]",
      "text/plain": [
       "<Figure size 640x480 with 1 Axes>"
      ]
     },
     "metadata": {},
     "output_type": "display_data"
    }
   ],
   "source": [
    "sns.histplot(merged[\"reviewWC\"])"
   ]
  },
  {
   "cell_type": "code",
   "execution_count": 56,
   "id": "b57232d4",
   "metadata": {
    "execution": {
     "iopub.execute_input": "2023-08-13T05:37:01.792786Z",
     "iopub.status.busy": "2023-08-13T05:37:01.791614Z",
     "iopub.status.idle": "2023-08-13T05:37:01.823092Z",
     "shell.execute_reply": "2023-08-13T05:37:01.821931Z"
    },
    "papermill": {
     "duration": 0.208796,
     "end_time": "2023-08-13T05:37:01.825648",
     "exception": false,
     "start_time": "2023-08-13T05:37:01.616852",
     "status": "completed"
    },
    "tags": []
   },
   "outputs": [
    {
     "data": {
      "text/plain": [
       "R          60248\n",
       "unknown    44587\n",
       "PG-13      42697\n",
       "PG         13669\n",
       "TV14         947\n",
       "NC-17        285\n",
       "TVPG         281\n",
       "TVMA          44\n",
       "Name: rating, dtype: int64"
      ]
     },
     "execution_count": 56,
     "metadata": {},
     "output_type": "execute_result"
    }
   ],
   "source": [
    "merged['rating'].value_counts()"
   ]
  },
  {
   "cell_type": "code",
   "execution_count": 57,
   "id": "314998bc",
   "metadata": {
    "execution": {
     "iopub.execute_input": "2023-08-13T05:37:02.045002Z",
     "iopub.status.busy": "2023-08-13T05:37:02.044575Z",
     "iopub.status.idle": "2023-08-13T05:37:02.055471Z",
     "shell.execute_reply": "2023-08-13T05:37:02.054196Z"
    },
    "papermill": {
     "duration": 0.123112,
     "end_time": "2023-08-13T05:37:02.058203",
     "exception": false,
     "start_time": "2023-08-13T05:37:01.935091",
     "status": "completed"
    },
    "tags": []
   },
   "outputs": [
    {
     "data": {
      "text/plain": [
       "False    113189\n",
       "True      49569\n",
       "Name: isFrequentReviewer, dtype: int64"
      ]
     },
     "execution_count": 57,
     "metadata": {},
     "output_type": "execute_result"
    }
   ],
   "source": [
    "merged['isFrequentReviewer'].value_counts()"
   ]
  },
  {
   "cell_type": "code",
   "execution_count": 58,
   "id": "6bd7f7ce",
   "metadata": {
    "execution": {
     "iopub.execute_input": "2023-08-13T05:37:02.280057Z",
     "iopub.status.busy": "2023-08-13T05:37:02.278755Z",
     "iopub.status.idle": "2023-08-13T05:37:02.288579Z",
     "shell.execute_reply": "2023-08-13T05:37:02.287354Z"
    },
    "papermill": {
     "duration": 0.124916,
     "end_time": "2023-08-13T05:37:02.291083",
     "exception": false,
     "start_time": "2023-08-13T05:37:02.166167",
     "status": "completed"
    },
    "tags": []
   },
   "outputs": [
    {
     "data": {
      "text/plain": [
       "0      Benjamin Henry\n",
       "1       Felicia Lopez\n",
       "2     Charles Burgess\n",
       "3        Ryan Barrett\n",
       "4    Alexander Glover\n",
       "Name: reviewerName, dtype: object"
      ]
     },
     "execution_count": 58,
     "metadata": {},
     "output_type": "execute_result"
    }
   ],
   "source": [
    "merged[\"reviewerName\"].head()"
   ]
  },
  {
   "cell_type": "code",
   "execution_count": 59,
   "id": "5b9a3a67",
   "metadata": {
    "execution": {
     "iopub.execute_input": "2023-08-13T05:37:02.510077Z",
     "iopub.status.busy": "2023-08-13T05:37:02.509375Z",
     "iopub.status.idle": "2023-08-13T05:37:02.521843Z",
     "shell.execute_reply": "2023-08-13T05:37:02.520997Z"
    },
    "papermill": {
     "duration": 0.12478,
     "end_time": "2023-08-13T05:37:02.524057",
     "exception": false,
     "start_time": "2023-08-13T05:37:02.399277",
     "status": "completed"
    },
    "tags": []
   },
   "outputs": [
    {
     "data": {
      "text/plain": [
       "14300000.0    32327\n",
       "2000000.0       922\n",
       "1100000.0       891\n",
       "1000000.0       834\n",
       "1200000.0       802\n",
       "              ...  \n",
       "58500.0           1\n",
       "500800.0          1\n",
       "265600.0          1\n",
       "292500.0          1\n",
       "799400.0          1\n",
       "Name: boxOffice, Length: 3819, dtype: int64"
      ]
     },
     "execution_count": 59,
     "metadata": {},
     "output_type": "execute_result"
    }
   ],
   "source": [
    "merged['boxOffice'].value_counts()"
   ]
  },
  {
   "cell_type": "code",
   "execution_count": 60,
   "id": "f9c3401f",
   "metadata": {
    "execution": {
     "iopub.execute_input": "2023-08-13T05:37:02.739545Z",
     "iopub.status.busy": "2023-08-13T05:37:02.739075Z",
     "iopub.status.idle": "2023-08-13T05:37:02.744284Z",
     "shell.execute_reply": "2023-08-13T05:37:02.743008Z"
    },
    "papermill": {
     "duration": 0.115611,
     "end_time": "2023-08-13T05:37:02.746753",
     "exception": false,
     "start_time": "2023-08-13T05:37:02.631142",
     "status": "completed"
    },
    "tags": []
   },
   "outputs": [],
   "source": [
    "# Check correlation between 'boxOffice' and ''sentiment'\n",
    "# bo_df = merged.copy()\n",
    "# print(bo_df[\"boxOffice\"])\n",
    "# bo_df[\"boxOffice\"] = bo_df[\"boxOffice\"].str[1:]\n",
    "# bo_df[\"boxOffice\"] = bo_df[\"boxOffice\"].replace(to_replace={\"M\": \"*1000000\", \"K\": \"*1000\"}, regex=True)\n",
    "# bo_df[\"boxOffice\"] = bo_df[\"boxOffice\"].loc[bo_df[\"boxOffice\"].notnull()].apply(lambda x: eval(str(x)))\n",
    "# bo_df[\"boxOffice\"] = bo_df[\"boxOffice\"].fillna(bo_df[\"boxOffice\"].median())\n",
    "# bo_df[\"boxOffice\"].describe()"
   ]
  },
  {
   "cell_type": "code",
   "execution_count": 61,
   "id": "7935e64d",
   "metadata": {
    "execution": {
     "iopub.execute_input": "2023-08-13T05:37:02.962423Z",
     "iopub.status.busy": "2023-08-13T05:37:02.961973Z",
     "iopub.status.idle": "2023-08-13T05:37:02.966684Z",
     "shell.execute_reply": "2023-08-13T05:37:02.965604Z"
    },
    "papermill": {
     "duration": 0.115628,
     "end_time": "2023-08-13T05:37:02.969271",
     "exception": false,
     "start_time": "2023-08-13T05:37:02.853643",
     "status": "completed"
    },
    "tags": []
   },
   "outputs": [],
   "source": [
    "# median = bo_df[\"boxOffice\"].describe()['50%']\n",
    "# iqr = bo_df[\"boxOffice\"].describe()['75%'] - bo_df[\"boxOffice\"].describe()['25%']\n",
    "# median, iqr"
   ]
  },
  {
   "cell_type": "code",
   "execution_count": 62,
   "id": "3de0e647",
   "metadata": {
    "execution": {
     "iopub.execute_input": "2023-08-13T05:37:03.188395Z",
     "iopub.status.busy": "2023-08-13T05:37:03.187239Z",
     "iopub.status.idle": "2023-08-13T05:37:03.192168Z",
     "shell.execute_reply": "2023-08-13T05:37:03.191028Z"
    },
    "papermill": {
     "duration": 0.116203,
     "end_time": "2023-08-13T05:37:03.194782",
     "exception": false,
     "start_time": "2023-08-13T05:37:03.078579",
     "status": "completed"
    },
    "tags": []
   },
   "outputs": [],
   "source": [
    "# ll = median - (1.5*iqr)\n",
    "# ul = median + (1.5*iqr)\n",
    "# ll, ul"
   ]
  },
  {
   "cell_type": "code",
   "execution_count": 63,
   "id": "29954a31",
   "metadata": {
    "execution": {
     "iopub.execute_input": "2023-08-13T05:37:03.415027Z",
     "iopub.status.busy": "2023-08-13T05:37:03.414437Z",
     "iopub.status.idle": "2023-08-13T05:37:03.418094Z",
     "shell.execute_reply": "2023-08-13T05:37:03.417364Z"
    },
    "papermill": {
     "duration": 0.115083,
     "end_time": "2023-08-13T05:37:03.420275",
     "exception": false,
     "start_time": "2023-08-13T05:37:03.305192",
     "status": "completed"
    },
    "tags": []
   },
   "outputs": [],
   "source": [
    "# bo_df[\"boxOffice\"].mean()"
   ]
  },
  {
   "cell_type": "code",
   "execution_count": 64,
   "id": "0a1b315e",
   "metadata": {
    "execution": {
     "iopub.execute_input": "2023-08-13T05:37:03.637388Z",
     "iopub.status.busy": "2023-08-13T05:37:03.636953Z",
     "iopub.status.idle": "2023-08-13T05:37:03.641602Z",
     "shell.execute_reply": "2023-08-13T05:37:03.640772Z"
    },
    "papermill": {
     "duration": 0.116317,
     "end_time": "2023-08-13T05:37:03.643891",
     "exception": false,
     "start_time": "2023-08-13T05:37:03.527574",
     "status": "completed"
    },
    "tags": []
   },
   "outputs": [],
   "source": [
    "# bo_df.loc[bo_df[\"boxOffice\"] > ul, \"boxOffice\"] = median\n",
    "# bo_df[\"boxOffice\"].mean()"
   ]
  },
  {
   "cell_type": "code",
   "execution_count": 65,
   "id": "e5de826f",
   "metadata": {
    "execution": {
     "iopub.execute_input": "2023-08-13T05:37:03.861941Z",
     "iopub.status.busy": "2023-08-13T05:37:03.860563Z",
     "iopub.status.idle": "2023-08-13T05:37:03.866512Z",
     "shell.execute_reply": "2023-08-13T05:37:03.865336Z"
    },
    "papermill": {
     "duration": 0.116404,
     "end_time": "2023-08-13T05:37:03.868967",
     "exception": false,
     "start_time": "2023-08-13T05:37:03.752563",
     "status": "completed"
    },
    "tags": []
   },
   "outputs": [],
   "source": [
    "# bo_df[\"boxOffice\"].min(), bo_df[\"boxOffice\"].max()"
   ]
  },
  {
   "cell_type": "code",
   "execution_count": 66,
   "id": "5d2d28b7",
   "metadata": {
    "execution": {
     "iopub.execute_input": "2023-08-13T05:37:04.085432Z",
     "iopub.status.busy": "2023-08-13T05:37:04.084684Z",
     "iopub.status.idle": "2023-08-13T05:37:04.089064Z",
     "shell.execute_reply": "2023-08-13T05:37:04.087898Z"
    },
    "papermill": {
     "duration": 0.115561,
     "end_time": "2023-08-13T05:37:04.091583",
     "exception": false,
     "start_time": "2023-08-13T05:37:03.976022",
     "status": "completed"
    },
    "tags": []
   },
   "outputs": [],
   "source": [
    "# sns.boxplot(x=\"sentiment\", y=\"boxOffice\", data=bo_df, showfliers = False)"
   ]
  },
  {
   "cell_type": "markdown",
   "id": "09ea179e",
   "metadata": {
    "papermill": {
     "duration": 0.1085,
     "end_time": "2023-08-13T05:37:04.306922",
     "exception": false,
     "start_time": "2023-08-13T05:37:04.198422",
     "status": "completed"
    },
    "tags": []
   },
   "source": [
    "## EDA  "
   ]
  },
  {
   "cell_type": "markdown",
   "id": "7598de5d",
   "metadata": {
    "papermill": {
     "duration": 0.105623,
     "end_time": "2023-08-13T05:37:04.519127",
     "exception": false,
     "start_time": "2023-08-13T05:37:04.413504",
     "status": "completed"
    },
    "tags": []
   },
   "source": [
    "### An interesting finding through exploration  \n",
    "  \n",
    "* OHE and TfidfVectorizer on director column give the same result when ngram_range(2,2) is used (see code below)!"
   ]
  },
  {
   "cell_type": "code",
   "execution_count": 67,
   "id": "13b9377d",
   "metadata": {
    "execution": {
     "iopub.execute_input": "2023-08-13T05:37:04.734546Z",
     "iopub.status.busy": "2023-08-13T05:37:04.733829Z",
     "iopub.status.idle": "2023-08-13T05:37:18.031030Z",
     "shell.execute_reply": "2023-08-13T05:37:18.029544Z"
    },
    "papermill": {
     "duration": 13.407641,
     "end_time": "2023-08-13T05:37:18.033668",
     "exception": false,
     "start_time": "2023-08-13T05:37:04.626027",
     "status": "completed"
    },
    "tags": []
   },
   "outputs": [
    {
     "name": "stdout",
     "output_type": "stream",
     "text": [
      "(162758,)\n",
      "9476\n",
      "(162758, 9476) <class 'numpy.ndarray'>\n",
      "(162758,)\n",
      "(162758, 9476) <class 'numpy.ndarray'>\n",
      "True\n"
     ]
    }
   ],
   "source": [
    "# Compare OHE and TfidfVectorizer on director column\n",
    "\n",
    "dirs = merged[\"director\"].copy()\n",
    "print(dirs.shape)\n",
    "dirs_uniq = merged[\"director\"].unique()\n",
    "print(len(dirs_uniq))\n",
    "\n",
    "du_ohe = OneHotEncoder(handle_unknown=\"ignore\", sparse_output=False).fit_transform(dirs.to_numpy().reshape(-1, 1))\n",
    "print(du_ohe.shape, type(du_ohe))\n",
    "\n",
    "dirs_2 = merged[\"director\"].copy()\n",
    "print(dirs_2.shape)\n",
    "du_tfidf = TfidfVectorizer(ngram_range=(2,2)).fit_transform(dirs_2).toarray()\n",
    "print(du_tfidf.shape, type(du_tfidf))\n",
    "\n",
    "print(np.array_equal(du_ohe, du_tfidf))"
   ]
  },
  {
   "cell_type": "code",
   "execution_count": 68,
   "id": "04c43a6c",
   "metadata": {
    "execution": {
     "iopub.execute_input": "2023-08-13T05:37:18.250523Z",
     "iopub.status.busy": "2023-08-13T05:37:18.250109Z",
     "iopub.status.idle": "2023-08-13T05:37:18.605670Z",
     "shell.execute_reply": "2023-08-13T05:37:18.604404Z"
    },
    "papermill": {
     "duration": 0.467813,
     "end_time": "2023-08-13T05:37:18.608160",
     "exception": false,
     "start_time": "2023-08-13T05:37:18.140347",
     "status": "completed"
    },
    "tags": []
   },
   "outputs": [
    {
     "name": "stdout",
     "output_type": "stream",
     "text": [
      "0       Bennie Basso\n",
      "1         Alma White\n",
      "2       Bobby Oleary\n",
      "3    Eric Hutcherson\n",
      "4         John Trent\n",
      "Name: director, dtype: object\n"
     ]
    },
    {
     "data": {
      "text/plain": [
       "2    162758\n",
       "Name: director, dtype: int64"
      ]
     },
     "execution_count": 68,
     "metadata": {},
     "output_type": "execute_result"
    }
   ],
   "source": [
    "print(dirs.head())\n",
    "d = dirs.copy()\n",
    "d[\"name_len\"] = d.apply(lambda x: len(x.split()))\n",
    "d[\"name_len\"].value_counts()"
   ]
  },
  {
   "cell_type": "code",
   "execution_count": 69,
   "id": "f4f86ad5",
   "metadata": {
    "execution": {
     "iopub.execute_input": "2023-08-13T05:37:18.823845Z",
     "iopub.status.busy": "2023-08-13T05:37:18.823456Z",
     "iopub.status.idle": "2023-08-13T05:37:18.829652Z",
     "shell.execute_reply": "2023-08-13T05:37:18.828399Z"
    },
    "papermill": {
     "duration": 0.116513,
     "end_time": "2023-08-13T05:37:18.831981",
     "exception": false,
     "start_time": "2023-08-13T05:37:18.715468",
     "status": "completed"
    },
    "tags": []
   },
   "outputs": [],
   "source": [
    "# Compare OHE and TfidfVectorizer on reviewerName column\n",
    "# Note: reviewerName column has salutations like \"Mr. \" etc, and some names appear middle names. Therefore needs cleaning\n",
    "\n",
    "# def name_fl(name):\n",
    "#     l = name.split()\n",
    "#     n = ' '.join((l[0], l[-1]))\n",
    "#     return n\n",
    "\n",
    "# reviewers = merged[\"reviewerName\"].copy()\n",
    "# reviewers = pd.DataFrame(reviewers)\n",
    "# reviewers = reviewers.replace({\"Mr. \": \"\", \"Mrs. \": \"\"}, regex=True)\n",
    "# reviewers[\"reviewerName\"] = reviewers[\"reviewerName\"].apply(name_fl)\n",
    "# print(reviewers.shape)\n",
    "\n",
    "# reviewers_uniq = merged[\"reviewerName\"].unique()\n",
    "# print(len(reviewers_uniq))\n",
    "\n",
    "# reviewers_ohe = OneHotEncoder(handle_unknown=\"ignore\", sparse_output=False).fit_transform(reviewers.to_numpy().reshape(-1, 1))\n",
    "# print(reviewers_ohe.shape, type(reviewers_ohe))\n",
    "\n",
    "# reviewers_2 = merged[\"reviewerName\"].copy()\n",
    "# reviewers_2 = pd.DataFrame(reviewers_2)\n",
    "# print(reviewers_2.head())\n",
    "# reviewers_2 = reviewers_2.replace({\"Mr. \": \"\", \"Mrs. \": \"\"}, regex=True)\n",
    "# reviewers_2[\"reviewerName\"] = reviewers_2[\"reviewerName\"].apply(name_fl)\n",
    "# reviewers_2 = reviewers_2.squeeze()\n",
    "# print(reviewers_2.shape)\n",
    "# print(reviewers_2.head())\n",
    "\n",
    "# reviewers_tfidf = TfidfVectorizer(ngram_range=(2,2)).fit_transform(reviewers_2).toarray()\n",
    "# print(reviewers_tfidf.shape, type(reviewers_tfidf))\n",
    "\n",
    "# print(np.array_equal(reviewers_ohe, reviewers_tfidf))"
   ]
  },
  {
   "cell_type": "code",
   "execution_count": 70,
   "id": "c38de9f6",
   "metadata": {
    "execution": {
     "iopub.execute_input": "2023-08-13T05:37:19.051025Z",
     "iopub.status.busy": "2023-08-13T05:37:19.050634Z",
     "iopub.status.idle": "2023-08-13T05:37:19.055673Z",
     "shell.execute_reply": "2023-08-13T05:37:19.054524Z"
    },
    "papermill": {
     "duration": 0.116959,
     "end_time": "2023-08-13T05:37:19.057930",
     "exception": false,
     "start_time": "2023-08-13T05:37:18.940971",
     "status": "completed"
    },
    "tags": []
   },
   "outputs": [],
   "source": [
    "# def name_fl(name):\n",
    "#     l = name.split()\n",
    "#     n = ' '.join((l[0], l[-1]))\n",
    "#     return n"
   ]
  },
  {
   "cell_type": "code",
   "execution_count": 71,
   "id": "3c75ad55",
   "metadata": {
    "execution": {
     "iopub.execute_input": "2023-08-13T05:37:19.290917Z",
     "iopub.status.busy": "2023-08-13T05:37:19.290501Z",
     "iopub.status.idle": "2023-08-13T05:37:19.295756Z",
     "shell.execute_reply": "2023-08-13T05:37:19.294686Z"
    },
    "papermill": {
     "duration": 0.118934,
     "end_time": "2023-08-13T05:37:19.297917",
     "exception": false,
     "start_time": "2023-08-13T05:37:19.178983",
     "status": "completed"
    },
    "tags": []
   },
   "outputs": [],
   "source": [
    "# print(reviewers.head())\n",
    "# r = pd.DataFrame(reviewers.copy())\n",
    "# r[\"reviewerName\"] = r[\"reviewerName\"].apply(name_fl)\n",
    "# r[\"name_len\"] = r[\"reviewerName\"].apply(lambda x: len(x.split()))\n",
    "# print(r.shape)\n",
    "# print(r.head())\n",
    "# print(r['name_len'].value_counts())"
   ]
  },
  {
   "cell_type": "code",
   "execution_count": 72,
   "id": "57663674",
   "metadata": {
    "execution": {
     "iopub.execute_input": "2023-08-13T05:37:19.514939Z",
     "iopub.status.busy": "2023-08-13T05:37:19.514521Z",
     "iopub.status.idle": "2023-08-13T05:37:19.519633Z",
     "shell.execute_reply": "2023-08-13T05:37:19.518394Z"
    },
    "papermill": {
     "duration": 0.115678,
     "end_time": "2023-08-13T05:37:19.522067",
     "exception": false,
     "start_time": "2023-08-13T05:37:19.406389",
     "status": "completed"
    },
    "tags": []
   },
   "outputs": [],
   "source": [
    "## Box plot audienceScore and sentiment  \n",
    "# plt.figure(figsize=(6, 4))\n",
    "# sns.boxplot(x=\"sentiment\", y=\"audienceScore\", data=merged, width=0.3)\n",
    "# plt.title(\"Box plot audienceScore and sentiment\")\n",
    "# plt.show()"
   ]
  },
  {
   "cell_type": "code",
   "execution_count": 73,
   "id": "b3dd70b5",
   "metadata": {
    "execution": {
     "iopub.execute_input": "2023-08-13T05:37:19.741237Z",
     "iopub.status.busy": "2023-08-13T05:37:19.740836Z",
     "iopub.status.idle": "2023-08-13T05:37:19.746247Z",
     "shell.execute_reply": "2023-08-13T05:37:19.744958Z"
    },
    "papermill": {
     "duration": 0.118911,
     "end_time": "2023-08-13T05:37:19.748525",
     "exception": false,
     "start_time": "2023-08-13T05:37:19.629614",
     "status": "completed"
    },
    "tags": []
   },
   "outputs": [],
   "source": [
    "## Box plot runtimeMinutes and sentiment  \n",
    "# plt.figure(figsize=(6, 4))\n",
    "# sns.boxplot(x=\"sentiment\", y=\"runtimeMinutes\", data=merged, width=0.3)\n",
    "# plt.title(\"Box plot runtimeMinutes and sentiment\")\n",
    "# plt.show()"
   ]
  },
  {
   "cell_type": "code",
   "execution_count": 74,
   "id": "8e02e02a",
   "metadata": {
    "execution": {
     "iopub.execute_input": "2023-08-13T05:37:19.967890Z",
     "iopub.status.busy": "2023-08-13T05:37:19.967459Z",
     "iopub.status.idle": "2023-08-13T05:37:19.972823Z",
     "shell.execute_reply": "2023-08-13T05:37:19.971698Z"
    },
    "papermill": {
     "duration": 0.118044,
     "end_time": "2023-08-13T05:37:19.974990",
     "exception": false,
     "start_time": "2023-08-13T05:37:19.856946",
     "status": "completed"
    },
    "tags": []
   },
   "outputs": [],
   "source": [
    "## Column chart for sentiment and rating columns\n",
    "# plt.figure(figsize=(6, 4))\n",
    "# sns.countplot(x=\"sentiment\", hue=\"rating\", data=merged)\n",
    "# plt.title(\"Column chart for sentiment and rating columns\")\n",
    "# plt.show()"
   ]
  },
  {
   "cell_type": "code",
   "execution_count": 75,
   "id": "30b073d3",
   "metadata": {
    "execution": {
     "iopub.execute_input": "2023-08-13T05:37:20.194338Z",
     "iopub.status.busy": "2023-08-13T05:37:20.193881Z",
     "iopub.status.idle": "2023-08-13T05:37:20.198620Z",
     "shell.execute_reply": "2023-08-13T05:37:20.197741Z"
    },
    "papermill": {
     "duration": 0.116038,
     "end_time": "2023-08-13T05:37:20.200767",
     "exception": false,
     "start_time": "2023-08-13T05:37:20.084729",
     "status": "completed"
    },
    "tags": []
   },
   "outputs": [],
   "source": [
    "# Correlation heatmap  \n",
    "# plt.figure(figsize=(10, 8))\n",
    "# sns.heatmap(merged.corr(), annot=True, cmap=\"coolwarm\")\n",
    "# plt.title(\"Correlation heatmap\")\n",
    "# plt.show()"
   ]
  },
  {
   "cell_type": "markdown",
   "id": "727083eb",
   "metadata": {
    "papermill": {
     "duration": 0.107298,
     "end_time": "2023-08-13T05:37:20.417737",
     "exception": false,
     "start_time": "2023-08-13T05:37:20.310439",
     "status": "completed"
    },
    "tags": []
   },
   "source": [
    "## Merge and preprocess \"test.csv\" and \"movies.csv\" files  "
   ]
  },
  {
   "cell_type": "code",
   "execution_count": 76,
   "id": "5248575b",
   "metadata": {
    "execution": {
     "iopub.execute_input": "2023-08-13T05:37:20.635170Z",
     "iopub.status.busy": "2023-08-13T05:37:20.634713Z",
     "iopub.status.idle": "2023-08-13T05:37:26.720143Z",
     "shell.execute_reply": "2023-08-13T05:37:26.718925Z"
    },
    "papermill": {
     "duration": 6.197327,
     "end_time": "2023-08-13T05:37:26.722885",
     "exception": false,
     "start_time": "2023-08-13T05:37:20.525558",
     "status": "completed"
    },
    "tags": []
   },
   "outputs": [],
   "source": [
    "# Merge test and movies  \n",
    "merged_test = select_features(load_csv(\"test\"), load_csv(\"movies\"))"
   ]
  },
  {
   "cell_type": "code",
   "execution_count": 77,
   "id": "1839451b",
   "metadata": {
    "execution": {
     "iopub.execute_input": "2023-08-13T05:37:26.939973Z",
     "iopub.status.busy": "2023-08-13T05:37:26.939173Z",
     "iopub.status.idle": "2023-08-13T05:37:26.943503Z",
     "shell.execute_reply": "2023-08-13T05:37:26.942546Z"
    },
    "papermill": {
     "duration": 0.115293,
     "end_time": "2023-08-13T05:37:26.945700",
     "exception": false,
     "start_time": "2023-08-13T05:37:26.830407",
     "status": "completed"
    },
    "tags": []
   },
   "outputs": [],
   "source": [
    "# inspect(merged_test)      # Note the missing values in ['audienceScore', 'runtimeMinutes', 'boxOffice']"
   ]
  },
  {
   "cell_type": "code",
   "execution_count": 78,
   "id": "1d50e887",
   "metadata": {
    "execution": {
     "iopub.execute_input": "2023-08-13T05:37:27.163390Z",
     "iopub.status.busy": "2023-08-13T05:37:27.162516Z",
     "iopub.status.idle": "2023-08-13T05:37:27.179571Z",
     "shell.execute_reply": "2023-08-13T05:37:27.178198Z"
    },
    "papermill": {
     "duration": 0.128348,
     "end_time": "2023-08-13T05:37:27.182105",
     "exception": false,
     "start_time": "2023-08-13T05:37:27.053757",
     "status": "completed"
    },
    "tags": []
   },
   "outputs": [
    {
     "data": {
      "text/plain": [
       "array([6.80e+01, 1.04e+02, 1.43e+07])"
      ]
     },
     "execution_count": 78,
     "metadata": {},
     "output_type": "execute_result"
    }
   ],
   "source": [
    "# Transform ['audienceScore', 'runtimeMinutes', 'boxOffice'] columns in merged_test using 'si' fitted on 'merged' df  \n",
    "merged_test[['audienceScore', 'runtimeMinutes', 'boxOffice']] = si.transform(merged_test[['audienceScore', 'runtimeMinutes', 'boxOffice']])\n",
    "si.statistics_"
   ]
  },
  {
   "cell_type": "code",
   "execution_count": 79,
   "id": "624ce86e",
   "metadata": {
    "execution": {
     "iopub.execute_input": "2023-08-13T05:37:27.403560Z",
     "iopub.status.busy": "2023-08-13T05:37:27.402170Z",
     "iopub.status.idle": "2023-08-13T05:37:27.413900Z",
     "shell.execute_reply": "2023-08-13T05:37:27.412666Z"
    },
    "papermill": {
     "duration": 0.12694,
     "end_time": "2023-08-13T05:37:27.416573",
     "exception": false,
     "start_time": "2023-08-13T05:37:27.289633",
     "status": "completed"
    },
    "tags": []
   },
   "outputs": [],
   "source": [
    "# Fill 'releaseDate' column in 'merged_test' df with median from the train (merged) df  \n",
    "merged_test['releaseDate'] = merged_test[\"releaseDate\"].fillna(merged[\"releaseDate\"].median())"
   ]
  },
  {
   "cell_type": "code",
   "execution_count": 80,
   "id": "7b0f5ad6",
   "metadata": {
    "execution": {
     "iopub.execute_input": "2023-08-13T05:37:27.632912Z",
     "iopub.status.busy": "2023-08-13T05:37:27.631936Z",
     "iopub.status.idle": "2023-08-13T05:37:28.121141Z",
     "shell.execute_reply": "2023-08-13T05:37:28.119946Z"
    },
    "papermill": {
     "duration": 0.600234,
     "end_time": "2023-08-13T05:37:28.123945",
     "exception": false,
     "start_time": "2023-08-13T05:37:27.523711",
     "status": "completed"
    },
    "tags": []
   },
   "outputs": [
    {
     "name": "stdout",
     "output_type": "stream",
     "text": [
      "Shape of the dataframe: (55315, 25)\n",
      "\n",
      "Columns in the dataframe:\n",
      "Index(['movieid', 'reviewerName', 'isFrequentReviewer', 'reviewText', 'title',\n",
      "       'audienceScore', 'rating', 'ratingContents', 'releaseDateTheaters',\n",
      "       'releaseDateStreaming', 'runtimeMinutes', 'genre', 'originalLanguage',\n",
      "       'director', 'boxOffice', 'distributor', 'soundType', 'reviewYN',\n",
      "       'reviewWC', 'genreSorted', 'rcSorted', 'releaseDate', 'releaseYear',\n",
      "       'releaseMonth', 'releaseDiff'],\n",
      "      dtype='object')\n",
      "\n",
      "<class 'pandas.core.frame.DataFrame'>\n",
      "Int64Index: 55315 entries, 0 to 55314\n",
      "Data columns (total 25 columns):\n",
      " #   Column                Non-Null Count  Dtype         \n",
      "---  ------                --------------  -----         \n",
      " 0   movieid               55315 non-null  object        \n",
      " 1   reviewerName          55315 non-null  object        \n",
      " 2   isFrequentReviewer    55315 non-null  bool          \n",
      " 3   reviewText            55315 non-null  object        \n",
      " 4   title                 55315 non-null  object        \n",
      " 5   audienceScore         55315 non-null  float64       \n",
      " 6   rating                55315 non-null  object        \n",
      " 7   ratingContents        55315 non-null  object        \n",
      " 8   releaseDateTheaters   47844 non-null  datetime64[ns]\n",
      " 9   releaseDateStreaming  52929 non-null  datetime64[ns]\n",
      " 10  runtimeMinutes        55315 non-null  float64       \n",
      " 11  genre                 55315 non-null  object        \n",
      " 12  originalLanguage      55315 non-null  object        \n",
      " 13  director              55315 non-null  object        \n",
      " 14  boxOffice             55315 non-null  float64       \n",
      " 15  distributor           55315 non-null  object        \n",
      " 16  soundType             29845 non-null  object        \n",
      " 17  reviewYN              55315 non-null  int64         \n",
      " 18  reviewWC              55315 non-null  int64         \n",
      " 19  genreSorted           55315 non-null  object        \n",
      " 20  rcSorted              55315 non-null  object        \n",
      " 21  releaseDate           55315 non-null  datetime64[ns]\n",
      " 22  releaseYear           46626 non-null  float64       \n",
      " 23  releaseMonth          46626 non-null  float64       \n",
      " 24  releaseDiff           55315 non-null  float64       \n",
      "dtypes: bool(1), datetime64[ns](3), float64(6), int64(2), object(13)\n",
      "memory usage: 10.6+ MB\n",
      "None\n",
      "\n",
      "Missing values:\n",
      "movieid                     0\n",
      "reviewerName                0\n",
      "isFrequentReviewer          0\n",
      "reviewText                  0\n",
      "title                       0\n",
      "audienceScore               0\n",
      "rating                      0\n",
      "ratingContents              0\n",
      "releaseDateTheaters      7471\n",
      "releaseDateStreaming     2386\n",
      "runtimeMinutes              0\n",
      "genre                       0\n",
      "originalLanguage            0\n",
      "director                    0\n",
      "boxOffice                   0\n",
      "distributor                 0\n",
      "soundType               25470\n",
      "reviewYN                    0\n",
      "reviewWC                    0\n",
      "genreSorted                 0\n",
      "rcSorted                    0\n",
      "releaseDate                 0\n",
      "releaseYear              8689\n",
      "releaseMonth             8689\n",
      "releaseDiff                 0\n",
      "dtype: int64\n"
     ]
    }
   ],
   "source": [
    "# After transforming merged_test  \n",
    "inspect(merged_test)"
   ]
  },
  {
   "cell_type": "code",
   "execution_count": 81,
   "id": "4a56f7b8",
   "metadata": {
    "execution": {
     "iopub.execute_input": "2023-08-13T05:37:28.345507Z",
     "iopub.status.busy": "2023-08-13T05:37:28.344923Z",
     "iopub.status.idle": "2023-08-13T05:37:28.353806Z",
     "shell.execute_reply": "2023-08-13T05:37:28.352210Z"
    },
    "papermill": {
     "duration": 0.123596,
     "end_time": "2023-08-13T05:37:28.356077",
     "exception": false,
     "start_time": "2023-08-13T05:37:28.232481",
     "status": "completed"
    },
    "tags": []
   },
   "outputs": [
    {
     "name": "stdout",
     "output_type": "stream",
     "text": [
      "2510\n",
      "4.537648015908886\n"
     ]
    }
   ],
   "source": [
    "print(merged_test[\"reviewYN\"].sum())\n",
    "print(merged_test[\"reviewYN\"].sum() * 100 / merged_test.shape[0])"
   ]
  },
  {
   "cell_type": "code",
   "execution_count": 82,
   "id": "b4bca3b4",
   "metadata": {
    "execution": {
     "iopub.execute_input": "2023-08-13T05:37:28.575656Z",
     "iopub.status.busy": "2023-08-13T05:37:28.574633Z",
     "iopub.status.idle": "2023-08-13T05:37:28.591941Z",
     "shell.execute_reply": "2023-08-13T05:37:28.590842Z"
    },
    "papermill": {
     "duration": 0.129683,
     "end_time": "2023-08-13T05:37:28.594284",
     "exception": false,
     "start_time": "2023-08-13T05:37:28.464601",
     "status": "completed"
    },
    "tags": []
   },
   "outputs": [
    {
     "data": {
      "text/plain": [
       "R          18934\n",
       "unknown    18386\n",
       "PG-13      13220\n",
       "PG          4200\n",
       "TV14         333\n",
       "TVPG         109\n",
       "NC-17        108\n",
       "TVMA          25\n",
       "Name: rating, dtype: int64"
      ]
     },
     "execution_count": 82,
     "metadata": {},
     "output_type": "execute_result"
    }
   ],
   "source": [
    "merged_test['rating'].value_counts()"
   ]
  },
  {
   "cell_type": "code",
   "execution_count": 83,
   "id": "e2610216",
   "metadata": {
    "execution": {
     "iopub.execute_input": "2023-08-13T05:37:28.817363Z",
     "iopub.status.busy": "2023-08-13T05:37:28.816263Z",
     "iopub.status.idle": "2023-08-13T05:37:28.825722Z",
     "shell.execute_reply": "2023-08-13T05:37:28.824609Z"
    },
    "papermill": {
     "duration": 0.121964,
     "end_time": "2023-08-13T05:37:28.827911",
     "exception": false,
     "start_time": "2023-08-13T05:37:28.705947",
     "status": "completed"
    },
    "tags": []
   },
   "outputs": [
    {
     "data": {
      "text/plain": [
       "False    38428\n",
       "True     16887\n",
       "Name: isFrequentReviewer, dtype: int64"
      ]
     },
     "execution_count": 83,
     "metadata": {},
     "output_type": "execute_result"
    }
   ],
   "source": [
    "merged_test['isFrequentReviewer'].value_counts()"
   ]
  },
  {
   "cell_type": "code",
   "execution_count": 84,
   "id": "3c78184c",
   "metadata": {
    "execution": {
     "iopub.execute_input": "2023-08-13T05:37:29.049596Z",
     "iopub.status.busy": "2023-08-13T05:37:29.048884Z",
     "iopub.status.idle": "2023-08-13T05:37:29.061357Z",
     "shell.execute_reply": "2023-08-13T05:37:29.060415Z"
    },
    "papermill": {
     "duration": 0.125128,
     "end_time": "2023-08-13T05:37:29.063786",
     "exception": false,
     "start_time": "2023-08-13T05:37:28.938658",
     "status": "completed"
    },
    "tags": []
   },
   "outputs": [
    {
     "data": {
      "text/plain": [
       "14300000.0    13593\n",
       "1100000.0       311\n",
       "1000000.0       272\n",
       "1300000.0       263\n",
       "2000000.0       256\n",
       "              ...  \n",
       "200400.0          1\n",
       "23800000.0        1\n",
       "111200.0          1\n",
       "277800.0          1\n",
       "100600.0          1\n",
       "Name: boxOffice, Length: 3816, dtype: int64"
      ]
     },
     "execution_count": 84,
     "metadata": {},
     "output_type": "execute_result"
    }
   ],
   "source": [
    "merged_test['boxOffice'].value_counts()"
   ]
  },
  {
   "cell_type": "markdown",
   "id": "f9b7c3fc",
   "metadata": {
    "papermill": {
     "duration": 0.110571,
     "end_time": "2023-08-13T05:37:29.308292",
     "exception": false,
     "start_time": "2023-08-13T05:37:29.197721",
     "status": "completed"
    },
    "tags": []
   },
   "source": [
    "## Work on vocabulary  \n",
    "\n",
    "`Build vocabulary from 'reviewText' column`  "
   ]
  },
  {
   "cell_type": "code",
   "execution_count": 85,
   "id": "d0f249d5",
   "metadata": {
    "execution": {
     "iopub.execute_input": "2023-08-13T05:37:29.529104Z",
     "iopub.status.busy": "2023-08-13T05:37:29.528716Z",
     "iopub.status.idle": "2023-08-13T05:37:29.548681Z",
     "shell.execute_reply": "2023-08-13T05:37:29.547369Z"
    },
    "papermill": {
     "duration": 0.133324,
     "end_time": "2023-08-13T05:37:29.551816",
     "exception": false,
     "start_time": "2023-08-13T05:37:29.418492",
     "status": "completed"
    },
    "tags": []
   },
   "outputs": [
    {
     "data": {
      "text/plain": [
       "((162758, 2),\n",
       "                                           reviewText sentiment\n",
       " 0  Henry Selick’s first movie since ’s Coraline. ...  POSITIVE\n",
       " 1  With a cast that reads like the Vogue Oscar pa...  NEGATIVE\n",
       " 2  Creed II does not give us anything but another...  POSITIVE\n",
       " 3  I know what you're thinking, but this is no Li...  POSITIVE\n",
       " 4  Director Fernando Meirelles tells the story wi...  POSITIVE)"
      ]
     },
     "execution_count": 85,
     "metadata": {},
     "output_type": "execute_result"
    }
   ],
   "source": [
    "rt_senti = merged[[\"reviewText\", \"sentiment\"]].copy()\n",
    "rt_senti.shape, rt_senti.head()"
   ]
  },
  {
   "cell_type": "code",
   "execution_count": 86,
   "id": "dad932f6",
   "metadata": {
    "execution": {
     "iopub.execute_input": "2023-08-13T05:37:29.775527Z",
     "iopub.status.busy": "2023-08-13T05:37:29.775061Z",
     "iopub.status.idle": "2023-08-13T05:37:29.788706Z",
     "shell.execute_reply": "2023-08-13T05:37:29.787373Z"
    },
    "papermill": {
     "duration": 0.130089,
     "end_time": "2023-08-13T05:37:29.791391",
     "exception": false,
     "start_time": "2023-08-13T05:37:29.661302",
     "status": "completed"
    },
    "tags": []
   },
   "outputs": [
    {
     "data": {
      "text/plain": [
       "((55315, 1),\n",
       "                                           reviewText\n",
       " 0  Green slowly cranks up the dread with style an...\n",
       " 1  Philip Noyce's direction is elegant and unforc...\n",
       " 2  It wouldn't do to say what path Maria ultimate...\n",
       " 3  Pig is not exactly the arthouse John Wick that...\n",
       " 4  An imaginative no-budget musical of sorts abou...)"
      ]
     },
     "execution_count": 86,
     "metadata": {},
     "output_type": "execute_result"
    }
   ],
   "source": [
    "rt_test = pd.DataFrame(merged_test[\"reviewText\"].copy())\n",
    "rt_test.shape, rt_test.head()"
   ]
  },
  {
   "cell_type": "code",
   "execution_count": 87,
   "id": "a0d25ab7",
   "metadata": {
    "execution": {
     "iopub.execute_input": "2023-08-13T05:37:30.019271Z",
     "iopub.status.busy": "2023-08-13T05:37:30.018845Z",
     "iopub.status.idle": "2023-08-13T05:37:30.026087Z",
     "shell.execute_reply": "2023-08-13T05:37:30.024968Z"
    },
    "papermill": {
     "duration": 0.126808,
     "end_time": "2023-08-13T05:37:30.028539",
     "exception": false,
     "start_time": "2023-08-13T05:37:29.901731",
     "status": "completed"
    },
    "tags": []
   },
   "outputs": [],
   "source": [
    "def get_vocab(text_df, ngram_range=(1,1)):\n",
    "    print(f\"Generating vocabulary for ngram_range: {ngram_range}...\")\n",
    "    tvec1 = CountVectorizer(ngram_range=ngram_range, stop_words='english', strip_accents='unicode')\n",
    "    tvec1.fit(text_df)\n",
    "    voc_ngram = set(tvec1.vocabulary_.keys())\n",
    "    return voc_ngram"
   ]
  },
  {
   "cell_type": "code",
   "execution_count": 88,
   "id": "ad7bac0c",
   "metadata": {
    "execution": {
     "iopub.execute_input": "2023-08-13T05:37:30.259639Z",
     "iopub.status.busy": "2023-08-13T05:37:30.259199Z",
     "iopub.status.idle": "2023-08-13T05:37:30.269823Z",
     "shell.execute_reply": "2023-08-13T05:37:30.268545Z"
    },
    "papermill": {
     "duration": 0.127669,
     "end_time": "2023-08-13T05:37:30.272383",
     "exception": false,
     "start_time": "2023-08-13T05:37:30.144714",
     "status": "completed"
    },
    "tags": []
   },
   "outputs": [],
   "source": [
    "def get_common_vocab(df_list: list, ngram_range_list: list):\n",
    "    \"\"\"\n",
    "    Get common vocabulary from a list of dataframes.\n",
    "    \"\"\"\n",
    "    final_common_vocab = set()\n",
    "    # Get vocabulary from each dataframe for a given ngram-range\n",
    "    for ngram_range in ngram_range_list:\n",
    "        vocab_ngram = set()\n",
    "        for num, df in enumerate(df_list, start=1):\n",
    "            print(f\"Working on DF#{num} in the list of DFs provided\")\n",
    "            vocab_ngram_df = set(get_vocab(df['reviewText'], ngram_range))\n",
    "            print(f\"Vocabulary size for ngram-range {ngram_range} in DF#{num}: {len(vocab_ngram_df)}\\n\")\n",
    "            if len(vocab_ngram) > 0:\n",
    "                print(f\"Keeping only the common (intersection) words for ngram-range {ngram_range}...\")\n",
    "                vocab_ngram = vocab_ngram.intersection(vocab_ngram_df)\n",
    "            else:\n",
    "                print(f\"Words from the first df for ngram-range {ngram_range} added.\\n\")\n",
    "                vocab_ngram = vocab_ngram_df\n",
    "        print(f\"Common vocabulary for ngram-range {ngram_range}: {len(vocab_ngram)}\\n\")\n",
    "        \n",
    "        if len(final_common_vocab) > 0:\n",
    "            print(f\"Fusing (union) with final common vocabulary: ngram-range = {ngram_range}.\\n\")\n",
    "            final_common_vocab = final_common_vocab.union(vocab_ngram)\n",
    "        else:\n",
    "            print(f\"Appended first time to final common vocabulary: ngram-range = {ngram_range}.\\n\")\n",
    "            final_common_vocab = vocab_ngram\n",
    "    return final_common_vocab"
   ]
  },
  {
   "cell_type": "code",
   "execution_count": 89,
   "id": "3a2e0d31",
   "metadata": {
    "execution": {
     "iopub.execute_input": "2023-08-13T05:37:30.496438Z",
     "iopub.status.busy": "2023-08-13T05:37:30.495787Z",
     "iopub.status.idle": "2023-08-13T05:37:30.500232Z",
     "shell.execute_reply": "2023-08-13T05:37:30.499385Z"
    },
    "papermill": {
     "duration": 0.118734,
     "end_time": "2023-08-13T05:37:30.502498",
     "exception": false,
     "start_time": "2023-08-13T05:37:30.383764",
     "status": "completed"
    },
    "tags": []
   },
   "outputs": [],
   "source": [
    "# voc_1gram = get_vocab(rt_senti[\"reviewText\"], ngram_range=(1,1))\n",
    "# len(voc_1gram), voc_1gram[:10]"
   ]
  },
  {
   "cell_type": "code",
   "execution_count": 90,
   "id": "f871a012",
   "metadata": {
    "execution": {
     "iopub.execute_input": "2023-08-13T05:37:30.726169Z",
     "iopub.status.busy": "2023-08-13T05:37:30.725567Z",
     "iopub.status.idle": "2023-08-13T05:37:30.729884Z",
     "shell.execute_reply": "2023-08-13T05:37:30.729050Z"
    },
    "papermill": {
     "duration": 0.11902,
     "end_time": "2023-08-13T05:37:30.732047",
     "exception": false,
     "start_time": "2023-08-13T05:37:30.613027",
     "status": "completed"
    },
    "tags": []
   },
   "outputs": [],
   "source": [
    "# voc_2gram = get_vocab(rt_senti[\"reviewText\"], ngram_range=(2,2))\n",
    "# len(voc_2gram), voc_2gram[:10]"
   ]
  },
  {
   "cell_type": "code",
   "execution_count": 91,
   "id": "0951a27c",
   "metadata": {
    "execution": {
     "iopub.execute_input": "2023-08-13T05:37:30.950516Z",
     "iopub.status.busy": "2023-08-13T05:37:30.949849Z",
     "iopub.status.idle": "2023-08-13T05:37:30.954643Z",
     "shell.execute_reply": "2023-08-13T05:37:30.953538Z"
    },
    "papermill": {
     "duration": 0.116916,
     "end_time": "2023-08-13T05:37:30.956959",
     "exception": false,
     "start_time": "2023-08-13T05:37:30.840043",
     "status": "completed"
    },
    "tags": []
   },
   "outputs": [],
   "source": [
    "# voc_3gram = get_vocab(rt_senti[\"reviewText\"], ngram_range=(3,3))\n",
    "# len(voc_3gram), voc_3gram[:10]"
   ]
  },
  {
   "cell_type": "code",
   "execution_count": 92,
   "id": "0e2f0349",
   "metadata": {
    "execution": {
     "iopub.execute_input": "2023-08-13T05:37:31.179879Z",
     "iopub.status.busy": "2023-08-13T05:37:31.179485Z",
     "iopub.status.idle": "2023-08-13T05:37:31.183721Z",
     "shell.execute_reply": "2023-08-13T05:37:31.182568Z"
    },
    "papermill": {
     "duration": 0.118498,
     "end_time": "2023-08-13T05:37:31.186057",
     "exception": false,
     "start_time": "2023-08-13T05:37:31.067559",
     "status": "completed"
    },
    "tags": []
   },
   "outputs": [],
   "source": [
    "# common_unigrams = get_common_vocab([rt_senti, rt_test], ngram_range_list=[(1,1)])\n",
    "# print(len(common_unigrams))\n",
    "# # sorted(list(common_unigrams))"
   ]
  },
  {
   "cell_type": "code",
   "execution_count": 93,
   "id": "551e451b",
   "metadata": {
    "execution": {
     "iopub.execute_input": "2023-08-13T05:37:31.476212Z",
     "iopub.status.busy": "2023-08-13T05:37:31.475798Z",
     "iopub.status.idle": "2023-08-13T05:37:31.480715Z",
     "shell.execute_reply": "2023-08-13T05:37:31.479414Z"
    },
    "papermill": {
     "duration": 0.186242,
     "end_time": "2023-08-13T05:37:31.483032",
     "exception": false,
     "start_time": "2023-08-13T05:37:31.296790",
     "status": "completed"
    },
    "tags": []
   },
   "outputs": [],
   "source": [
    "# common_bigrams = get_common_vocab([rt_senti, rt_test], ngram_range_list=[(2,2)])\n",
    "# print(len(common_bigrams))\n",
    "# # # common_bigrams"
   ]
  },
  {
   "cell_type": "code",
   "execution_count": 94,
   "id": "fa24d4c9",
   "metadata": {
    "execution": {
     "iopub.execute_input": "2023-08-13T05:37:31.704580Z",
     "iopub.status.busy": "2023-08-13T05:37:31.704157Z",
     "iopub.status.idle": "2023-08-13T05:37:31.708567Z",
     "shell.execute_reply": "2023-08-13T05:37:31.707521Z"
    },
    "papermill": {
     "duration": 0.116979,
     "end_time": "2023-08-13T05:37:31.710771",
     "exception": false,
     "start_time": "2023-08-13T05:37:31.593792",
     "status": "completed"
    },
    "tags": []
   },
   "outputs": [],
   "source": [
    "# common_1_2_grams = get_common_vocab([rt_senti, rt_test], ngram_range_list=[(1,1), (2,2)])\n",
    "# print(len(common_1_2_grams))\n",
    "# # sorted(list(common_1_2_grams))\n",
    "\n",
    "# # common_1_2_grams = common_unigrams | common_bigrams    # older code"
   ]
  },
  {
   "cell_type": "code",
   "execution_count": 95,
   "id": "d85c033f",
   "metadata": {
    "execution": {
     "iopub.execute_input": "2023-08-13T05:37:31.932686Z",
     "iopub.status.busy": "2023-08-13T05:37:31.931517Z",
     "iopub.status.idle": "2023-08-13T05:37:31.937589Z",
     "shell.execute_reply": "2023-08-13T05:37:31.936494Z"
    },
    "papermill": {
     "duration": 0.120297,
     "end_time": "2023-08-13T05:37:31.940076",
     "exception": false,
     "start_time": "2023-08-13T05:37:31.819779",
     "status": "completed"
    },
    "tags": []
   },
   "outputs": [],
   "source": [
    "# common_trigrams = get_common_vocab([rt_senti, rt_test], ngram_range_list=[(3,3)])\n",
    "# print(len(common_trigrams))\n",
    "# # common_trigrams"
   ]
  },
  {
   "cell_type": "code",
   "execution_count": 96,
   "id": "eefeddc5",
   "metadata": {
    "execution": {
     "iopub.execute_input": "2023-08-13T05:37:32.166426Z",
     "iopub.status.busy": "2023-08-13T05:37:32.165651Z",
     "iopub.status.idle": "2023-08-13T05:37:32.169968Z",
     "shell.execute_reply": "2023-08-13T05:37:32.169164Z"
    },
    "papermill": {
     "duration": 0.120938,
     "end_time": "2023-08-13T05:37:32.172185",
     "exception": false,
     "start_time": "2023-08-13T05:37:32.051247",
     "status": "completed"
    },
    "tags": []
   },
   "outputs": [],
   "source": [
    "# common_1_2_3_grams = get_common_vocab([rt_senti, rt_test], ngram_range_list=[(1,1), (2,2), (3,3)])\n",
    "# print(len(common_1_2_3_grams))\n",
    "# # sorted((common_1_2_3_grams))\n",
    "\n",
    "# # common_1_2_3_grams = common_unigrams | common_bigrams | common_trigrams    # Older code  "
   ]
  },
  {
   "cell_type": "markdown",
   "id": "0489fe6d",
   "metadata": {
    "papermill": {
     "duration": 0.111869,
     "end_time": "2023-08-13T05:37:32.393531",
     "exception": false,
     "start_time": "2023-08-13T05:37:32.281662",
     "status": "completed"
    },
    "tags": []
   },
   "source": [
    "### Find common vocabulary between text with positive and negative sentiments in training dataset  "
   ]
  },
  {
   "cell_type": "code",
   "execution_count": 97,
   "id": "06eb69b4",
   "metadata": {
    "execution": {
     "iopub.execute_input": "2023-08-13T05:37:32.614590Z",
     "iopub.status.busy": "2023-08-13T05:37:32.613890Z",
     "iopub.status.idle": "2023-08-13T05:37:32.663413Z",
     "shell.execute_reply": "2023-08-13T05:37:32.662248Z"
    },
    "papermill": {
     "duration": 0.162789,
     "end_time": "2023-08-13T05:37:32.665892",
     "exception": false,
     "start_time": "2023-08-13T05:37:32.503103",
     "status": "completed"
    },
    "tags": []
   },
   "outputs": [
    {
     "data": {
      "text/plain": [
       "(108761, 2)"
      ]
     },
     "execution_count": 97,
     "metadata": {},
     "output_type": "execute_result"
    }
   ],
   "source": [
    "# Dataframe for positive sentiment\n",
    "rt_senti_pos = rt_senti.loc[rt_senti['sentiment'] == 'POSITIVE'].copy()\n",
    "rt_senti_pos.shape"
   ]
  },
  {
   "cell_type": "code",
   "execution_count": 98,
   "id": "763a9279",
   "metadata": {
    "execution": {
     "iopub.execute_input": "2023-08-13T05:37:32.886177Z",
     "iopub.status.busy": "2023-08-13T05:37:32.885517Z",
     "iopub.status.idle": "2023-08-13T05:37:32.929880Z",
     "shell.execute_reply": "2023-08-13T05:37:32.928748Z"
    },
    "papermill": {
     "duration": 0.157173,
     "end_time": "2023-08-13T05:37:32.932202",
     "exception": false,
     "start_time": "2023-08-13T05:37:32.775029",
     "status": "completed"
    },
    "tags": []
   },
   "outputs": [
    {
     "data": {
      "text/plain": [
       "(53997, 2)"
      ]
     },
     "execution_count": 98,
     "metadata": {},
     "output_type": "execute_result"
    }
   ],
   "source": [
    "# Dataframe for negative sentiment\n",
    "rt_senti_neg = rt_senti.loc[rt_senti['sentiment'] == 'NEGATIVE'].copy()\n",
    "rt_senti_neg.shape"
   ]
  },
  {
   "cell_type": "code",
   "execution_count": 99,
   "id": "aafe5459",
   "metadata": {
    "execution": {
     "iopub.execute_input": "2023-08-13T05:37:33.156258Z",
     "iopub.status.busy": "2023-08-13T05:37:33.155624Z",
     "iopub.status.idle": "2023-08-13T05:37:33.159514Z",
     "shell.execute_reply": "2023-08-13T05:37:33.158718Z"
    },
    "papermill": {
     "duration": 0.11867,
     "end_time": "2023-08-13T05:37:33.161712",
     "exception": false,
     "start_time": "2023-08-13T05:37:33.043042",
     "status": "completed"
    },
    "tags": []
   },
   "outputs": [],
   "source": [
    "# Generate stop words/phrases specific for this project data  \n",
    "\n",
    "# common_1_2_3_grams_sentiment = get_common_vocab([rt_senti_pos, rt_senti_neg], ngram_range_list=[(1,1), (2,2), (3,3)])\n",
    "# print(len(common_1_2_3_grams_sentiment))\n",
    "# # sorted(list(common_1_2_3_grams_sentiment))"
   ]
  },
  {
   "cell_type": "code",
   "execution_count": 100,
   "id": "7d0dae73",
   "metadata": {
    "execution": {
     "iopub.execute_input": "2023-08-13T05:37:33.387178Z",
     "iopub.status.busy": "2023-08-13T05:37:33.386590Z",
     "iopub.status.idle": "2023-08-13T05:37:33.390223Z",
     "shell.execute_reply": "2023-08-13T05:37:33.389482Z"
    },
    "papermill": {
     "duration": 0.120298,
     "end_time": "2023-08-13T05:37:33.392568",
     "exception": false,
     "start_time": "2023-08-13T05:37:33.272270",
     "status": "completed"
    },
    "tags": []
   },
   "outputs": [],
   "source": [
    "# Generate and store the entire vocabulary of training data  \n",
    "\n",
    "# train_1_2_3_grams = get_vocab(rt_senti['reviewText'], ngram_range=(1,3))\n",
    "# print(len(train_1_2_3_grams))\n",
    "# # sorted(train_1_2_3_grams)"
   ]
  },
  {
   "cell_type": "code",
   "execution_count": 101,
   "id": "9af26090",
   "metadata": {
    "execution": {
     "iopub.execute_input": "2023-08-13T05:37:33.614456Z",
     "iopub.status.busy": "2023-08-13T05:37:33.614053Z",
     "iopub.status.idle": "2023-08-13T05:37:33.618524Z",
     "shell.execute_reply": "2023-08-13T05:37:33.617359Z"
    },
    "papermill": {
     "duration": 0.11818,
     "end_time": "2023-08-13T05:37:33.620828",
     "exception": false,
     "start_time": "2023-08-13T05:37:33.502648",
     "status": "completed"
    },
    "tags": []
   },
   "outputs": [],
   "source": [
    "# type(train_1_2_3_grams)"
   ]
  },
  {
   "cell_type": "code",
   "execution_count": 102,
   "id": "d4547965",
   "metadata": {
    "execution": {
     "iopub.execute_input": "2023-08-13T05:37:33.841679Z",
     "iopub.status.busy": "2023-08-13T05:37:33.841244Z",
     "iopub.status.idle": "2023-08-13T05:37:33.845824Z",
     "shell.execute_reply": "2023-08-13T05:37:33.844672Z"
    },
    "papermill": {
     "duration": 0.117111,
     "end_time": "2023-08-13T05:37:33.848091",
     "exception": false,
     "start_time": "2023-08-13T05:37:33.730980",
     "status": "completed"
    },
    "tags": []
   },
   "outputs": [],
   "source": [
    "# Get the vocabulary that should be used in the final models  \n",
    "# relevant_vocab = train_1_2_3_grams - common_1_2_3_grams_sentiment\n",
    "# print(len(relevant_vocab))"
   ]
  },
  {
   "cell_type": "markdown",
   "id": "2aed4a2b",
   "metadata": {
    "papermill": {
     "duration": 0.109548,
     "end_time": "2023-08-13T05:37:34.066736",
     "exception": false,
     "start_time": "2023-08-13T05:37:33.957188",
     "status": "completed"
    },
    "tags": []
   },
   "source": [
    "## Vocabulary based on audienceScore  "
   ]
  },
  {
   "cell_type": "code",
   "execution_count": 103,
   "id": "86e3834e",
   "metadata": {
    "execution": {
     "iopub.execute_input": "2023-08-13T05:37:34.288470Z",
     "iopub.status.busy": "2023-08-13T05:37:34.288065Z",
     "iopub.status.idle": "2023-08-13T05:37:34.681925Z",
     "shell.execute_reply": "2023-08-13T05:37:34.680836Z"
    },
    "papermill": {
     "duration": 0.507182,
     "end_time": "2023-08-13T05:37:34.684480",
     "exception": false,
     "start_time": "2023-08-13T05:37:34.177298",
     "status": "completed"
    },
    "tags": []
   },
   "outputs": [
    {
     "data": {
      "text/plain": [
       "<Axes: xlabel='sentiment', ylabel='audienceScore'>"
      ]
     },
     "execution_count": 103,
     "metadata": {},
     "output_type": "execute_result"
    },
    {
     "data": {
      "image/png": "[encoded data removed]",
      "text/plain": [
       "<Figure size 640x480 with 1 Axes>"
      ]
     },
     "metadata": {},
     "output_type": "display_data"
    }
   ],
   "source": [
    "sns.boxplot(y=merged[\"audienceScore\"], x=merged[\"sentiment\"])"
   ]
  },
  {
   "cell_type": "code",
   "execution_count": 104,
   "id": "b04a54f7",
   "metadata": {
    "execution": {
     "iopub.execute_input": "2023-08-13T05:37:34.908214Z",
     "iopub.status.busy": "2023-08-13T05:37:34.907783Z",
     "iopub.status.idle": "2023-08-13T05:37:34.959004Z",
     "shell.execute_reply": "2023-08-13T05:37:34.957723Z"
    },
    "papermill": {
     "duration": 0.166614,
     "end_time": "2023-08-13T05:37:34.961552",
     "exception": false,
     "start_time": "2023-08-13T05:37:34.794938",
     "status": "completed"
    },
    "tags": []
   },
   "outputs": [
    {
     "data": {
      "text/html": [
       "<div>\n",
       "<style scoped>\n",
       "    .dataframe tbody tr th:only-of-type {\n",
       "        vertical-align: middle;\n",
       "    }\n",
       "\n",
       "    .dataframe tbody tr th {\n",
       "        vertical-align: top;\n",
       "    }\n",
       "\n",
       "    .dataframe thead th {\n",
       "        text-align: right;\n",
       "    }\n",
       "</style>\n",
       "<table border=\"1\" class=\"dataframe\">\n",
       "  <thead>\n",
       "    <tr style=\"text-align: right;\">\n",
       "      <th></th>\n",
       "      <th>count</th>\n",
       "      <th>mean</th>\n",
       "      <th>std</th>\n",
       "      <th>min</th>\n",
       "      <th>25%</th>\n",
       "      <th>50%</th>\n",
       "      <th>75%</th>\n",
       "      <th>max</th>\n",
       "    </tr>\n",
       "    <tr>\n",
       "      <th>sentiment</th>\n",
       "      <th></th>\n",
       "      <th></th>\n",
       "      <th></th>\n",
       "      <th></th>\n",
       "      <th></th>\n",
       "      <th></th>\n",
       "      <th></th>\n",
       "      <th></th>\n",
       "    </tr>\n",
       "  </thead>\n",
       "  <tbody>\n",
       "    <tr>\n",
       "      <th>NEGATIVE</th>\n",
       "      <td>53997.0</td>\n",
       "      <td>56.474786</td>\n",
       "      <td>19.902115</td>\n",
       "      <td>0.0</td>\n",
       "      <td>41.0</td>\n",
       "      <td>57.0</td>\n",
       "      <td>72.0</td>\n",
       "      <td>100.0</td>\n",
       "    </tr>\n",
       "    <tr>\n",
       "      <th>POSITIVE</th>\n",
       "      <td>108761.0</td>\n",
       "      <td>69.326174</td>\n",
       "      <td>18.380626</td>\n",
       "      <td>0.0</td>\n",
       "      <td>58.0</td>\n",
       "      <td>73.0</td>\n",
       "      <td>84.0</td>\n",
       "      <td>100.0</td>\n",
       "    </tr>\n",
       "  </tbody>\n",
       "</table>\n",
       "</div>"
      ],
      "text/plain": [
       "              count       mean        std  min   25%   50%   75%    max\n",
       "sentiment                                                              \n",
       "NEGATIVE    53997.0  56.474786  19.902115  0.0  41.0  57.0  72.0  100.0\n",
       "POSITIVE   108761.0  69.326174  18.380626  0.0  58.0  73.0  84.0  100.0"
      ]
     },
     "execution_count": 104,
     "metadata": {},
     "output_type": "execute_result"
    }
   ],
   "source": [
    "merged.groupby('sentiment')['audienceScore'].describe()"
   ]
  },
  {
   "cell_type": "code",
   "execution_count": 105,
   "id": "4f2fd574",
   "metadata": {
    "execution": {
     "iopub.execute_input": "2023-08-13T05:37:35.187335Z",
     "iopub.status.busy": "2023-08-13T05:37:35.186559Z",
     "iopub.status.idle": "2023-08-13T05:37:35.191067Z",
     "shell.execute_reply": "2023-08-13T05:37:35.189886Z"
    },
    "papermill": {
     "duration": 0.120603,
     "end_time": "2023-08-13T05:37:35.193363",
     "exception": false,
     "start_time": "2023-08-13T05:37:35.072760",
     "status": "completed"
    },
    "tags": []
   },
   "outputs": [],
   "source": [
    "# pos_scores = merged[['reviewText', 'sentiment']].loc[(merged['audienceScore'] > 73) & (merged['sentiment'] == 'POSITIVE')].copy()\n",
    "# pos_scores.shape, pos_scores.head()"
   ]
  },
  {
   "cell_type": "code",
   "execution_count": 106,
   "id": "173e992d",
   "metadata": {
    "execution": {
     "iopub.execute_input": "2023-08-13T05:37:35.420700Z",
     "iopub.status.busy": "2023-08-13T05:37:35.419987Z",
     "iopub.status.idle": "2023-08-13T05:37:35.424905Z",
     "shell.execute_reply": "2023-08-13T05:37:35.423594Z"
    },
    "papermill": {
     "duration": 0.123763,
     "end_time": "2023-08-13T05:37:35.427493",
     "exception": false,
     "start_time": "2023-08-13T05:37:35.303730",
     "status": "completed"
    },
    "tags": []
   },
   "outputs": [],
   "source": [
    "# pos_scores['sentiment'].value_counts()"
   ]
  },
  {
   "cell_type": "code",
   "execution_count": 107,
   "id": "ded309c3",
   "metadata": {
    "execution": {
     "iopub.execute_input": "2023-08-13T05:37:35.650509Z",
     "iopub.status.busy": "2023-08-13T05:37:35.650035Z",
     "iopub.status.idle": "2023-08-13T05:37:35.655089Z",
     "shell.execute_reply": "2023-08-13T05:37:35.653944Z"
    },
    "papermill": {
     "duration": 0.118882,
     "end_time": "2023-08-13T05:37:35.657625",
     "exception": false,
     "start_time": "2023-08-13T05:37:35.538743",
     "status": "completed"
    },
    "tags": []
   },
   "outputs": [],
   "source": [
    "# neg_scores = merged[['reviewText', 'sentiment']].loc[(merged['audienceScore'] < 57) & (merged['sentiment'] == 'NEGATIVE')].copy()\n",
    "# neg_scores.shape, neg_scores.head()"
   ]
  },
  {
   "cell_type": "code",
   "execution_count": 108,
   "id": "d405c146",
   "metadata": {
    "execution": {
     "iopub.execute_input": "2023-08-13T05:37:35.882758Z",
     "iopub.status.busy": "2023-08-13T05:37:35.881737Z",
     "iopub.status.idle": "2023-08-13T05:37:35.885938Z",
     "shell.execute_reply": "2023-08-13T05:37:35.885205Z"
    },
    "papermill": {
     "duration": 0.118482,
     "end_time": "2023-08-13T05:37:35.887991",
     "exception": false,
     "start_time": "2023-08-13T05:37:35.769509",
     "status": "completed"
    },
    "tags": []
   },
   "outputs": [],
   "source": [
    "# neg_scores['sentiment'].value_counts()"
   ]
  },
  {
   "cell_type": "code",
   "execution_count": 109,
   "id": "b73235f6",
   "metadata": {
    "execution": {
     "iopub.execute_input": "2023-08-13T05:37:36.111108Z",
     "iopub.status.busy": "2023-08-13T05:37:36.110390Z",
     "iopub.status.idle": "2023-08-13T05:37:36.114693Z",
     "shell.execute_reply": "2023-08-13T05:37:36.113816Z"
    },
    "papermill": {
     "duration": 0.11916,
     "end_time": "2023-08-13T05:37:36.116902",
     "exception": false,
     "start_time": "2023-08-13T05:37:35.997742",
     "status": "completed"
    },
    "tags": []
   },
   "outputs": [],
   "source": [
    "# common_pos_neg_scores = get_common_vocab([pos_scores, neg_scores], ngram_range_list=[(1,1), (2,2), (3,3)])\n",
    "# print(len(common_pos_neg_scores))\n",
    "# # sorted(list(common_pos_neg_scores))"
   ]
  },
  {
   "cell_type": "code",
   "execution_count": 110,
   "id": "37ca4137",
   "metadata": {
    "execution": {
     "iopub.execute_input": "2023-08-13T05:37:36.342436Z",
     "iopub.status.busy": "2023-08-13T05:37:36.341609Z",
     "iopub.status.idle": "2023-08-13T05:37:36.346163Z",
     "shell.execute_reply": "2023-08-13T05:37:36.344829Z"
    },
    "papermill": {
     "duration": 0.121123,
     "end_time": "2023-08-13T05:37:36.348546",
     "exception": false,
     "start_time": "2023-08-13T05:37:36.227423",
     "status": "completed"
    },
    "tags": []
   },
   "outputs": [],
   "source": [
    "# pos_vocab = get_common_vocab([pos_scores, pos_scores], ngram_range_list=[(1,1), (2,2), (3,3)])\n",
    "# print(len(pos_vocab))\n",
    "# # sorted(list(pos_vocab))"
   ]
  },
  {
   "cell_type": "code",
   "execution_count": 111,
   "id": "fc0e7435",
   "metadata": {
    "execution": {
     "iopub.execute_input": "2023-08-13T05:37:36.572084Z",
     "iopub.status.busy": "2023-08-13T05:37:36.571661Z",
     "iopub.status.idle": "2023-08-13T05:37:36.576522Z",
     "shell.execute_reply": "2023-08-13T05:37:36.575401Z"
    },
    "papermill": {
     "duration": 0.118551,
     "end_time": "2023-08-13T05:37:36.578719",
     "exception": false,
     "start_time": "2023-08-13T05:37:36.460168",
     "status": "completed"
    },
    "tags": []
   },
   "outputs": [],
   "source": [
    "# print(len(get_vocab(pos_scores['reviewText'], ngram_range=(1,1))))\n",
    "# print(len(get_vocab(pos_scores['reviewText'], ngram_range=(2,2))))\n",
    "# print(len(get_vocab(pos_scores['reviewText'], ngram_range=(3,3))))"
   ]
  },
  {
   "cell_type": "code",
   "execution_count": 112,
   "id": "2c3d9a2f",
   "metadata": {
    "execution": {
     "iopub.execute_input": "2023-08-13T05:37:36.799398Z",
     "iopub.status.busy": "2023-08-13T05:37:36.798944Z",
     "iopub.status.idle": "2023-08-13T05:37:36.804097Z",
     "shell.execute_reply": "2023-08-13T05:37:36.802996Z"
    },
    "papermill": {
     "duration": 0.118075,
     "end_time": "2023-08-13T05:37:36.806287",
     "exception": false,
     "start_time": "2023-08-13T05:37:36.688212",
     "status": "completed"
    },
    "tags": []
   },
   "outputs": [],
   "source": [
    "# neg_vocab = get_common_vocab([neg_scores, neg_scores], ngram_range_list=[(1,1), (2,2), (3,3)])\n",
    "# print(len(neg_vocab))\n",
    "# # sorted(list(neg_vocab))"
   ]
  },
  {
   "cell_type": "code",
   "execution_count": 113,
   "id": "52888d3c",
   "metadata": {
    "execution": {
     "iopub.execute_input": "2023-08-13T05:37:37.097887Z",
     "iopub.status.busy": "2023-08-13T05:37:37.097431Z",
     "iopub.status.idle": "2023-08-13T05:37:37.102793Z",
     "shell.execute_reply": "2023-08-13T05:37:37.101592Z"
    },
    "papermill": {
     "duration": 0.123133,
     "end_time": "2023-08-13T05:37:37.105153",
     "exception": false,
     "start_time": "2023-08-13T05:37:36.982020",
     "status": "completed"
    },
    "tags": []
   },
   "outputs": [],
   "source": [
    "# print(len(get_vocab(neg_scores['reviewText'], ngram_range=(1,1))))\n",
    "# print(len(get_vocab(neg_scores['reviewText'], ngram_range=(2,2))))\n",
    "# print(len(get_vocab(neg_scores['reviewText'], ngram_range=(3,3))))"
   ]
  },
  {
   "cell_type": "code",
   "execution_count": 114,
   "id": "2b8973c1",
   "metadata": {
    "execution": {
     "iopub.execute_input": "2023-08-13T05:37:37.330710Z",
     "iopub.status.busy": "2023-08-13T05:37:37.330241Z",
     "iopub.status.idle": "2023-08-13T05:37:37.335307Z",
     "shell.execute_reply": "2023-08-13T05:37:37.334086Z"
    },
    "papermill": {
     "duration": 0.120537,
     "end_time": "2023-08-13T05:37:37.337591",
     "exception": false,
     "start_time": "2023-08-13T05:37:37.217054",
     "status": "completed"
    },
    "tags": []
   },
   "outputs": [],
   "source": [
    "# len(pos_vocab), len(neg_vocab), len(pos_vocab - neg_vocab), len(neg_vocab - pos_vocab), len(pos_vocab & neg_vocab)"
   ]
  },
  {
   "cell_type": "markdown",
   "id": "8fcda819",
   "metadata": {
    "papermill": {
     "duration": 0.109452,
     "end_time": "2023-08-13T05:37:37.559425",
     "exception": false,
     "start_time": "2023-08-13T05:37:37.449973",
     "status": "completed"
    },
    "tags": []
   },
   "source": [
    "### Common pos, neg vocabs among train and test  "
   ]
  },
  {
   "cell_type": "code",
   "execution_count": 115,
   "id": "66a4dc6f",
   "metadata": {
    "execution": {
     "iopub.execute_input": "2023-08-13T05:37:37.782056Z",
     "iopub.status.busy": "2023-08-13T05:37:37.781674Z",
     "iopub.status.idle": "2023-08-13T05:37:37.786229Z",
     "shell.execute_reply": "2023-08-13T05:37:37.785027Z"
    },
    "papermill": {
     "duration": 0.119484,
     "end_time": "2023-08-13T05:37:37.788559",
     "exception": false,
     "start_time": "2023-08-13T05:37:37.669075",
     "status": "completed"
    },
    "tags": []
   },
   "outputs": [],
   "source": [
    "# len(common_1_2_3_grams & (pos_vocab - neg_vocab))"
   ]
  },
  {
   "cell_type": "code",
   "execution_count": 116,
   "id": "f122a126",
   "metadata": {
    "execution": {
     "iopub.execute_input": "2023-08-13T05:37:38.010690Z",
     "iopub.status.busy": "2023-08-13T05:37:38.010245Z",
     "iopub.status.idle": "2023-08-13T05:37:38.015045Z",
     "shell.execute_reply": "2023-08-13T05:37:38.013864Z"
    },
    "papermill": {
     "duration": 0.119631,
     "end_time": "2023-08-13T05:37:38.017538",
     "exception": false,
     "start_time": "2023-08-13T05:37:37.897907",
     "status": "completed"
    },
    "tags": []
   },
   "outputs": [],
   "source": [
    "# len(common_1_2_3_grams & (neg_vocab - pos_vocab))"
   ]
  },
  {
   "cell_type": "code",
   "execution_count": 117,
   "id": "0eca93cb",
   "metadata": {
    "execution": {
     "iopub.execute_input": "2023-08-13T05:37:38.241770Z",
     "iopub.status.busy": "2023-08-13T05:37:38.240631Z",
     "iopub.status.idle": "2023-08-13T05:37:38.251293Z",
     "shell.execute_reply": "2023-08-13T05:37:38.250086Z"
    },
    "papermill": {
     "duration": 0.124613,
     "end_time": "2023-08-13T05:37:38.254084",
     "exception": false,
     "start_time": "2023-08-13T05:37:38.129471",
     "status": "completed"
    },
    "tags": []
   },
   "outputs": [],
   "source": [
    "def audienceScore_vocab(df_list, scores=(57, 73), ngram_range_list=[(1,1), (2,2), (3,3)]):\n",
    "    train = df_list[0]\n",
    "    test = df_list[1]\n",
    "\n",
    "    lower_bound = scores[0]\n",
    "    upper_bound = scores[1]\n",
    "\n",
    "    common_1_2_3_grams = get_common_vocab([train, test], ngram_range_list=[(1,1), (2,2), (3,3)])\n",
    "\n",
    "    pos_scores = train[['reviewText', 'sentiment']].loc[(train['audienceScore'] > upper_bound) & (train['sentiment'] == 'POSITIVE')].copy()\n",
    "    neg_scores = train[['reviewText', 'sentiment']].loc[(train['audienceScore'] < lower_bound) & (train['sentiment'] == 'NEGATIVE')].copy()\n",
    "\n",
    "    pos_vocab = get_common_vocab([pos_scores, pos_scores], ngram_range_list=[(1,1), (2,2), (3,3)])\n",
    "    neg_vocab = get_common_vocab([neg_scores, neg_scores], ngram_range_list=[(1,1), (2,2), (3,3)])\n",
    "\n",
    "    pure_common_pos = common_1_2_3_grams & (pos_vocab - neg_vocab)\n",
    "    pure_common_neg = common_1_2_3_grams & (neg_vocab - pos_vocab)\n",
    "\n",
    "    return pure_common_pos, pure_common_neg"
   ]
  },
  {
   "cell_type": "code",
   "execution_count": 118,
   "id": "370b5264",
   "metadata": {
    "execution": {
     "iopub.execute_input": "2023-08-13T05:37:38.480664Z",
     "iopub.status.busy": "2023-08-13T05:37:38.479689Z",
     "iopub.status.idle": "2023-08-13T05:37:38.484739Z",
     "shell.execute_reply": "2023-08-13T05:37:38.483580Z"
    },
    "papermill": {
     "duration": 0.120031,
     "end_time": "2023-08-13T05:37:38.487168",
     "exception": false,
     "start_time": "2023-08-13T05:37:38.367137",
     "status": "completed"
    },
    "tags": []
   },
   "outputs": [],
   "source": [
    "# pcp, pcn = audienceScore_vocab([merged, merged_test])\n",
    "# len(pcp), len(pcn)"
   ]
  },
  {
   "cell_type": "code",
   "execution_count": 119,
   "id": "f64455dd",
   "metadata": {
    "execution": {
     "iopub.execute_input": "2023-08-13T05:37:38.709691Z",
     "iopub.status.busy": "2023-08-13T05:37:38.708750Z",
     "iopub.status.idle": "2023-08-13T05:37:38.713828Z",
     "shell.execute_reply": "2023-08-13T05:37:38.712845Z"
    },
    "papermill": {
     "duration": 0.118973,
     "end_time": "2023-08-13T05:37:38.716000",
     "exception": false,
     "start_time": "2023-08-13T05:37:38.597027",
     "status": "completed"
    },
    "tags": []
   },
   "outputs": [],
   "source": [
    "# pc = pcp | pcn\n",
    "# sorted(list(pc))"
   ]
  },
  {
   "cell_type": "markdown",
   "id": "718effd3",
   "metadata": {
    "papermill": {
     "duration": 0.113029,
     "end_time": "2023-08-13T05:37:38.941189",
     "exception": false,
     "start_time": "2023-08-13T05:37:38.828160",
     "status": "completed"
    },
    "tags": []
   },
   "source": [
    "# Submit_v5 for merged file models  "
   ]
  },
  {
   "cell_type": "markdown",
   "id": "037aedf1",
   "metadata": {
    "papermill": {
     "duration": 0.131109,
     "end_time": "2023-08-13T05:37:39.182753",
     "exception": false,
     "start_time": "2023-08-13T05:37:39.051644",
     "status": "completed"
    },
    "tags": []
   },
   "source": [
    "### More Helper functions  "
   ]
  },
  {
   "cell_type": "code",
   "execution_count": 120,
   "id": "48ede446",
   "metadata": {
    "execution": {
     "iopub.execute_input": "2023-08-13T05:37:39.408440Z",
     "iopub.status.busy": "2023-08-13T05:37:39.407253Z",
     "iopub.status.idle": "2023-08-13T05:37:39.414981Z",
     "shell.execute_reply": "2023-08-13T05:37:39.414158Z"
    },
    "papermill": {
     "duration": 0.124027,
     "end_time": "2023-08-13T05:37:39.417188",
     "exception": false,
     "start_time": "2023-08-13T05:37:39.293161",
     "status": "completed"
    },
    "tags": []
   },
   "outputs": [],
   "source": [
    "# Testing predictions on missing reviewtext columns  \n",
    "\n",
    "def predict_on_missing_review_data(pipe, selected_features, merged_train):\n",
    "    missing_reviews_train = merged_train.loc[merged_train['reviewYN'] == 1]\n",
    "    missing_reviews_train.reset_index(drop=True)\n",
    "    X_train_miss_revs = missing_reviews_train.drop('sentiment', axis = 1)\n",
    "    X_train_miss_revs = X_train_miss_revs[selected_features]\n",
    "    y_train_miss_revs = missing_reviews_train['sentiment']\n",
    "    \n",
    "    y_pred_miss_revs = pipe.predict(X_train_miss_revs)\n",
    "#     print('Predictions on rows which had missing reviewText')\n",
    "    print(\"Confusion matrix and f1-score for rows which have no reviewText in X_train: \")\n",
    "    print(confusion_matrix(y_train_miss_revs, y_pred_miss_revs, labels=pipe.classes_))\n",
    "    \n",
    "    return f1_score(y_train_miss_revs, y_pred_miss_revs, average='micro')"
   ]
  },
  {
   "cell_type": "code",
   "execution_count": 121,
   "id": "56bf898a",
   "metadata": {
    "execution": {
     "iopub.execute_input": "2023-08-13T05:37:39.640756Z",
     "iopub.status.busy": "2023-08-13T05:37:39.640093Z",
     "iopub.status.idle": "2023-08-13T05:37:39.841911Z",
     "shell.execute_reply": "2023-08-13T05:37:39.840566Z"
    },
    "papermill": {
     "duration": 0.316669,
     "end_time": "2023-08-13T05:37:39.844777",
     "exception": false,
     "start_time": "2023-08-13T05:37:39.528108",
     "status": "completed"
    },
    "tags": []
   },
   "outputs": [],
   "source": [
    "# Function to build pipelines for GridSearchCV which goes into the final 'submit' function  \n",
    "def build_pipeline(selected_model=LogisticRegression(), \n",
    "                   selected_features={'txt': ['reviewText']}, \n",
    "                   param_grid=None,\n",
    "                   vocab=None,\n",
    "                   vocab_usage='tfidf',\n",
    "                   strip_accents='unicode', \n",
    "                   add_countvec=False,\n",
    "                   vocab_audscore=None,\n",
    "                  poly=True):\n",
    "    # Encoders  \n",
    "    ohe = OneHotEncoder(sparse_output=False, handle_unknown='ignore')\n",
    "    MMscaler = MinMaxScaler()\n",
    "    StdScaler = StandardScaler()\n",
    "    RobScaler = RobustScaler()\n",
    "    \n",
    "    # Categorical features\n",
    "    cat_pipe = Pipeline(steps=[\n",
    "                            (\"ohe\", ohe),\n",
    "                        ])\n",
    "    \n",
    "    # Numerical features\n",
    "    num_pipe = Pipeline(steps=[\n",
    "                            (\"robscaler\", RobustScaler()),\n",
    "                            (\"stdscaler\", StandardScaler())\n",
    "                        ])\n",
    "    num_pipe_poly = Pipeline(steps=[\n",
    "                            (\"robscaler\", RobustScaler()),\n",
    "                            (\"stdscaler\", StandardScaler()),\n",
    "                            (\"poly\", PolynomialFeatures(degree=2, interaction_only=True, include_bias=False))\n",
    "                        ])\n",
    "    \n",
    "    # Text features ['reviewText', 'reviewerName', 'movieid', 'genre', 'director']\n",
    "    tfidf_vec = TfidfVectorizer(ngram_range=(1,2))\n",
    "    count_vec = CountVectorizer(ngram_range=(1,2))\n",
    "    txt_pipe = Pipeline(steps=[\n",
    "                            (\"tvec\", TfidfVectorizer(ngram_range=(1,4), strip_accents=strip_accents))    # Adjust ngram_range here for reviewText\n",
    "                        ])\n",
    "    txt_pipe_vocab = Pipeline(steps=[\n",
    "                            (\"tvec\", TfidfVectorizer(ngram_range=(1,4), strip_accents=strip_accents, vocabulary=vocab))    # Adjust ngram_range here for reviewText\n",
    "                        ])\n",
    "    txt_pipe_2 = Pipeline(steps=[\n",
    "                            (\"tvec\", TfidfVectorizer(ngram_range=(2,2)))\n",
    "                        ])\n",
    "    txt_pipe_3 = Pipeline(steps=[\n",
    "                            (\"tvec\", TfidfVectorizer(ngram_range=(1,1)))\n",
    "                        ])\n",
    "    txt_pipe_4 = Pipeline(steps=[\n",
    "                            (\"tvec\", TfidfVectorizer(ngram_range=(1,3)))    # Adjust ngram_range here for reviewText\n",
    "                        ])\n",
    "    txt_pipe_title  = Pipeline(steps=[\n",
    "                            (\"tvec\", TfidfVectorizer(ngram_range=(1,5)))    # Adjust ngram_range here for reviewText\n",
    "                        ])\n",
    "    \n",
    "    # Additional pipes for count vectorizer\n",
    "    txt_pipe_countvec = Pipeline(steps=[\n",
    "                            (\"cvec\", CountVectorizer(ngram_range=(1,4), strip_accents=strip_accents))    # Adjust ngram_range here for reviewText\n",
    "                        ])\n",
    "    txt_pipe_countvec_vocab = Pipeline(steps=[\n",
    "                            (\"cvec\", CountVectorizer(ngram_range=(1,4), strip_accents=strip_accents, vocabulary=vocab))    # Adjust ngram_range here for reviewText\n",
    "                        ])\n",
    "    txt_pipe_countvec_vocab_audscore = Pipeline(steps=[\n",
    "                            (\"cvec\", CountVectorizer(ngram_range=(1,4), strip_accents=strip_accents, vocabulary=vocab_audscore))    # Adjust ngram_range here for reviewText\n",
    "                        ])\n",
    "    \n",
    "    txt_pipe_countvec_ratingContents = Pipeline(steps=[\n",
    "                            (\"cvec\", CountVectorizer(ngram_range=(1,5)))    # Adjust ngram_range here for reviewText\n",
    "                        ])\n",
    "    txt_pipe_countvec_rcSorted = Pipeline(steps=[\n",
    "                            (\"cvec\", CountVectorizer(ngram_range=(1,1)))    # Adjust ngram_range here for reviewText\n",
    "                        ])\n",
    "    txt_pipe_countvec_genre = Pipeline(steps=[\n",
    "                            (\"cvec\", CountVectorizer(ngram_range=(1,1)))\n",
    "                        ])\n",
    "    txt_pipe_countvec_genreSorted = Pipeline(steps=[\n",
    "                            (\"cvec\", CountVectorizer(ngram_range=(1,5)))\n",
    "                        ])\n",
    "    txt_pipe_countvec_distributor = Pipeline(steps=[\n",
    "                            (\"cvec\", CountVectorizer(ngram_range=(1,3)))    # Adjust ngram_range here for reviewText\n",
    "                        ])\n",
    "    txt_pipe_countvec_title = Pipeline(steps=[\n",
    "                            (\"cvec\", CountVectorizer(ngram_range=(1,5), strip_accents=strip_accents))\n",
    "                        ])\n",
    "    txt_pipe_countvec_movieid = Pipeline(steps=[\n",
    "                            (\"cvec\", CountVectorizer(ngram_range=(1,1)))\n",
    "                        ])\n",
    "    # Basic pipes  \n",
    "    TFs = []\n",
    "    try:\n",
    "        TFs.append((f\"cat\", ohe, selected_features['cat']))\n",
    "#         for c in selected_features['cat']:\n",
    "#             TFs.append((f\"cat_{c}\", ohe, [c]))\n",
    "    except:\n",
    "        pass\n",
    "    \n",
    "    try:\n",
    "        if poly:\n",
    "            TFs.append((f\"num\", num_pipe_poly, selected_features['num']))\n",
    "        else:\n",
    "            TFs.append((f\"num\", num_pipe, selected_features['num']))\n",
    "#             for n in selected_features['num']:\n",
    "#                 if n in [\"runtimeMinutes\", \"boxOffice\", \"releaseDiff\"]:\n",
    "#                     TFs.append((f\"num_{n}\", RobScaler, [n]))\n",
    "#                     TFs.append((f\"num_{n}_ss\", StdScaler, [n]))\n",
    "\n",
    "#                 else:\n",
    "#                     TFs.append((f\"num_{n}\", StdScaler, [n]))\n",
    "    except:\n",
    "        pass\n",
    "    \n",
    "    try:\n",
    "        for t in selected_features['txt']:\n",
    "            if t in ['director', 'reviewerName']:\n",
    "                TFs.append((f\"txt_{t}\", txt_pipe_2, t))\n",
    "            elif t in [\"originalLanguage\", \"releaseYear\"]:\n",
    "                TFs.append((f\"txt_{t}\", txt_pipe_3, t))\n",
    "            elif t in ['genre']:\n",
    "                TFs.append((f\"txt_{t}\", txt_pipe_countvec_genre, t))\n",
    "            elif t in [\"genreSorted\"]:\n",
    "                TFs.append((f\"txt_{t}\", txt_pipe_countvec_genreSorted, t))\n",
    "            elif t in [\"distributor\"]:\n",
    "                TFs.append((f\"txt_{t}\", txt_pipe_countvec_distributor, t))\n",
    "                \n",
    "            elif t in ['reviewText']:\n",
    "#                 if vocab and (vocab_usage in [\"tfidf\", \"both\"]):\n",
    "#                     txt_pipe.set_params(tvec__vocabulary=vocab)\n",
    "#                     txt_pipe.set_params(tvec__stop_words='english')\n",
    "                TFs.append((f\"txt_{t}\", txt_pipe, t))\n",
    "            elif t in ['reviewText_2']:\n",
    "                if add_countvec:\n",
    "#                     if vocab and (vocab_usage in [\"count\", \"both\"]):\n",
    "#                         txt_pipe_countvec.set_params(cvec__vocabulary=vocab)\n",
    "#                         txt_pipe_countvec.set_params(cvec__stop_words='english')\n",
    "                    TFs.append((f\"txt_{t}\", txt_pipe_countvec, t))\n",
    "            elif t in ['reviewText_3']:\n",
    "                if vocab_usage == 'tfidf':\n",
    "                    TFs.append((f\"txt_{t}\", txt_pipe_vocab, t))\n",
    "                elif vocab_usage == 'count':\n",
    "                    TFs.append((f\"txt_{t}\", txt_pipe_countvec_vocab, t))\n",
    "            elif t in ['reviewText_4']:\n",
    "                if vocab_audscore:                    \n",
    "                    TFs.append((f\"txt_{t}\", txt_pipe_countvec_vocab_audscore, t))\n",
    "                    \n",
    "            elif t in [\"ratingContents\"]:\n",
    "                TFs.append((f\"txt_{t}\", txt_pipe_countvec_ratingContents, t))\n",
    "            elif t in [\"rcSorted\"]:\n",
    "                TFs.append((f\"txt_{t}\", txt_pipe_countvec_rcSorted, t))\n",
    "            elif t in [\"title\"]:\n",
    "                TFs.append((f\"txt_{t}\", txt_pipe_title, t))\n",
    "            elif t in [\"movieid\"]:\n",
    "                TFs.append((f\"txt_{t}\", txt_pipe_countvec_movieid, t))\n",
    "            else:\n",
    "                pass\n",
    "    except:\n",
    "        pass\n",
    "\n",
    "    # Build ColumnTransformer  \n",
    "    ct = ColumnTransformer(transformers=TFs, remainder='drop')\n",
    "\n",
    "    # Build Pipeline\n",
    "    pipe = Pipeline(steps=[('ct', ct), ('model', selected_model)])\n",
    "    print(\"\\nPipeline built successfully.\")\n",
    "\n",
    "    # Use the pipe in GridSearchCV\n",
    "    if param_grid == None:\n",
    "        param_grid_temp = {\"model__C\": [1],\n",
    "                     'model__solver': ['liblinear']}\n",
    "        print(\"Full GridSearchCV pipeline built successfully with basic default param_grid.\\n\")\n",
    "        pipeCV = GridSearchCV(pipe, param_grid_temp, cv=10, scoring=\"f1_micro\", n_jobs=-1)\n",
    "        return pipeCV\n",
    "    \n",
    "    # GridSearchCV if param_grid provided\n",
    "    if param_grid:\n",
    "        pipeCV = GridSearchCV(pipe, param_grid, cv=10, scoring=\"f1_micro\", n_jobs=-1)\n",
    "        print(\"\\nFull GridSearchCV pipeline built successfully.\")\n",
    "        return pipeCV"
   ]
  },
  {
   "cell_type": "code",
   "execution_count": 122,
   "id": "ad7fff1e",
   "metadata": {
    "execution": {
     "iopub.execute_input": "2023-08-13T05:37:40.068126Z",
     "iopub.status.busy": "2023-08-13T05:37:40.067551Z",
     "iopub.status.idle": "2023-08-13T05:37:40.086698Z",
     "shell.execute_reply": "2023-08-13T05:37:40.085367Z"
    },
    "papermill": {
     "duration": 0.134144,
     "end_time": "2023-08-13T05:37:40.089739",
     "exception": false,
     "start_time": "2023-08-13T05:37:39.955595",
     "status": "completed"
    },
    "tags": []
   },
   "outputs": [],
   "source": [
    "def preprocessor(imputer_type='simple'):\n",
    "    \n",
    "    \"\"\"Preprocess train or test data. Choose 'simple' or 'knn' imputers to impute missing numerical values\"\"\"\n",
    "    \n",
    "    # Set imputer  \n",
    "    if imputer_type == 'simple':\n",
    "        imputer = SimpleImputer(strategy='median')\n",
    "        print(imputer)\n",
    "    elif imputer_type == 'knn':\n",
    "        imputer = KNNImputer(weights='distance', n_neighbors=3)    # Adjust KNNImputer params here\n",
    "        print(imputer)\n",
    "\n",
    "\n",
    "    \n",
    "    # Merge and preprocess train and movies data  \n",
    "    merged = select_features(load_csv(\"train\"), load_csv(\"movies\"), row_thresh_null=None)    # Decide if you want to drop any rows containing lot of nulls\n",
    "    \n",
    "    # Impute missing numerical values  \n",
    "    merged[['audienceScore', 'runtimeMinutes', 'boxOffice']] = imputer.fit_transform(merged[['audienceScore', 'runtimeMinutes', 'boxOffice']])\n",
    "    merged['releaseDate'] = merged[\"releaseDate\"].fillna(merged[\"releaseDate\"].median())\n",
    "\n",
    "    # Create new feature columns\n",
    "    \n",
    "    # Convert audienceScore to categories  \n",
    "    num_bins_as = 20\n",
    "    merged[\"audScoreBins\"] = pd.cut(merged['audienceScore'], bins=num_bins_as, labels=False)\n",
    "\n",
    "    # Convert runtimeMinutes to categories  \n",
    "#     num_bins_rt = 20\n",
    "    merged[\"runtimeBins\"] = pd.cut(merged['runtimeMinutes'], bins=[0,75,120,180,565], labels=[4,3,2,1])\n",
    "    \n",
    "    # Convert boxOffice to categories  \n",
    "    num_bins_bo = 5\n",
    "    merged[\"boxOfficeBins\"] = pd.cut(merged['boxOffice'], bins=num_bins_bo, labels=False)\n",
    "    \n",
    "    # Convert releaseDiff to categories  \n",
    "    num_bins_rd = 5\n",
    "    merged[\"releaseDiffBins\"] = pd.cut(merged['releaseDiff'], bins=[-1, 180, 360, 1000, 40000], labels=[0, 1, 2, 3])\n",
    "    \n",
    "    # Check1 (preprocessor)\n",
    "    print(\"\\nCheck 1 (preprocessor) complete.\")\n",
    "    print(f\"Shape of X_train: {merged.shape}\")\n",
    "    print(f\"Features in X_train: {merged.columns}\")\n",
    "\n",
    "\n",
    "    \n",
    "    # Merge and preprocess test and movies data  \n",
    "    merged_test = select_features(load_csv(\"test\"), load_csv(\"movies\"))\n",
    "    \n",
    "    # Transform ['audienceScore', 'runtimeMinutes', 'boxOffice'] columns in merged_test using 'imputer' fitted on 'merged' df  \n",
    "    merged_test[['audienceScore', 'runtimeMinutes', 'boxOffice']] = imputer.transform(merged_test[['audienceScore', 'runtimeMinutes', 'boxOffice']])\n",
    "    \n",
    "    # Fill 'releaseDate' column in 'merged_test' df with median from the train (merged) df  \n",
    "    merged_test['releaseDate'] = merged_test[\"releaseDate\"].fillna(merged[\"releaseDate\"].median())\n",
    "\n",
    "    \n",
    "    # Create new feature columns\n",
    "    \n",
    "    # Convert audienceScore to categories  \n",
    "    num_bins_as = 20\n",
    "    merged_test[\"audScoreBins\"] = pd.cut(merged_test['audienceScore'], bins=num_bins_as, labels=False)\n",
    "    \n",
    "    # Convert runtimeMinutes to categories  \n",
    "#     num_bins_rt = 20\n",
    "    merged_test[\"runtimeBins\"] = pd.cut(merged_test['runtimeMinutes'], bins=[0,75,120,180,565], labels=[4,3,2,1])\n",
    "    \n",
    "    # Convert boxOffice to categories  \n",
    "    num_bins_bo = 5\n",
    "    merged_test[\"boxOfficeBins\"] = pd.cut(merged_test['boxOffice'], bins=num_bins_bo, labels=False)\n",
    "    \n",
    "    # Convert releaseDiff to categories  \n",
    "    num_bins_rd = 5\n",
    "    merged_test[\"releaseDiffBins\"] = pd.cut(merged_test['releaseDiff'], bins=[-1, 180, 360, 1000, 40000], labels=[0, 1, 2, 3])\n",
    "    \n",
    "    \n",
    "    # Check2 (preprocessor)\n",
    "    print(\"\\nCheck 2 (preprocessor) complete.\")\n",
    "    print(f\"Shape of X_test: {merged_test.shape}\")\n",
    "    print(f\"Features in X_test: {merged_test.columns}\")\n",
    "\n",
    "    return merged, merged_test\n",
    "    "
   ]
  },
  {
   "cell_type": "code",
   "execution_count": 123,
   "id": "a5ad0460",
   "metadata": {
    "execution": {
     "iopub.execute_input": "2023-08-13T05:37:40.318566Z",
     "iopub.status.busy": "2023-08-13T05:37:40.318150Z",
     "iopub.status.idle": "2023-08-13T05:37:40.322491Z",
     "shell.execute_reply": "2023-08-13T05:37:40.321495Z"
    },
    "papermill": {
     "duration": 0.122942,
     "end_time": "2023-08-13T05:37:40.324661",
     "exception": false,
     "start_time": "2023-08-13T05:37:40.201719",
     "status": "completed"
    },
    "tags": []
   },
   "outputs": [],
   "source": [
    "# merged, merged_test = preprocessor()\n",
    "# merged.shape, merged_test.shape"
   ]
  },
  {
   "cell_type": "code",
   "execution_count": 124,
   "id": "9d84845c",
   "metadata": {
    "execution": {
     "iopub.execute_input": "2023-08-13T05:37:40.556422Z",
     "iopub.status.busy": "2023-08-13T05:37:40.555982Z",
     "iopub.status.idle": "2023-08-13T05:37:40.590586Z",
     "shell.execute_reply": "2023-08-13T05:37:40.589379Z"
    },
    "papermill": {
     "duration": 0.152677,
     "end_time": "2023-08-13T05:37:40.593259",
     "exception": false,
     "start_time": "2023-08-13T05:37:40.440582",
     "status": "completed"
    },
    "tags": []
   },
   "outputs": [],
   "source": [
    "def submit_v5(classifiers= [\n",
    "                {'selected_model' : LogisticRegression(C=1, solver='saga', max_iter=100000),\n",
    "                 'param_grid' : None,\n",
    "                 'selected_features' : {'num': ['audienceScore']},\n",
    "                 'vocab' : None,\n",
    "                 'vocab_usage' : 'tfidf',\n",
    "                 'strip_accents' : 'unicode',\n",
    "                 'add_countvec' : False,\n",
    "                'vocab_audscore' : None}\n",
    "              ], \n",
    "            imputer_type='simple',\n",
    "              poly=True,\n",
    "            ):\n",
    "    \n",
    "    \"\"\"Takes a list of dictionaries each with same keys as mentioned in the default dictionary in function definition\"\"\"\n",
    "    \n",
    "    print(\"\\nRunning the submit_v5 function...\")\n",
    "    \n",
    "    print(f\"\\nData preprocessor initiated...\")\n",
    "    \n",
    "    imputer_type = imputer_type\n",
    "    print(f\"\\nImputer for missing numerical values: {imputer_type}\")\n",
    "    print(f\"Imputing missing values. (This could take a while if it is KNNImputer)\")\n",
    "    \n",
    "    merged, merged_test = preprocessor(imputer_type=imputer_type)\n",
    "    print(f\"\\nPreprocessing of train and test datasets complete.\")\n",
    "    \n",
    "    # Build vocabulary (if vocab is True)\n",
    "    ngram_range_vocab = (1,4)\n",
    "    ngram_range_vocab_list = [(1,1), (2,2), (3,3), (4,4)]\n",
    "    \n",
    "    vocab = None\n",
    "    vocab_audscore = None\n",
    "    for item in classifiers:\n",
    "        if item['vocab']:\n",
    "            vocab = True\n",
    "        if item['vocab_audscore']:\n",
    "            vocab_audscore = item['vocab_audscore']\n",
    "    \n",
    "    if vocab == True:\n",
    "        # Generate and store the entire vocabulary of training data  \n",
    "        print(f\"Generating stop words/phrases specific for this project data...\")\n",
    "        train_1_2_3_grams = get_vocab(merged['reviewText'], ngram_range=ngram_range_vocab)\n",
    "        print(f\"Size of vocabulary of training data: {len(train_1_2_3_grams)}\")\n",
    "        # sorted(train_1_2_3_grams)\n",
    "\n",
    "        # Generate stop words/phrases specific for this project data  \n",
    "        print(f\"Generating stop words/phrases specific for this project data...\")\n",
    "        common_1_2_3_grams = get_common_vocab([merged, merged_test], ngram_range_list=ngram_range_vocab_list)\n",
    "        print(f\"Number of stop words: {len(common_1_2_3_grams)}\")\n",
    "\n",
    "        # Get the vocabulary that should be used in the final models  \n",
    "        print(f\"Getting the vocabulary that will be fed to the final model(s)...\")\n",
    "        relevant_vocab = list(train_1_2_3_grams - common_1_2_3_grams)\n",
    "        print(f\"Size of the final relevant vocabulary: {len(relevant_vocab)}\")\n",
    "    else:\n",
    "        pass\n",
    "    \n",
    "    if vocab_audscore:\n",
    "        pure_common_pos, pure_common_neg = audienceScore_vocab([merged, merged_test], \n",
    "                                                               scores=(57, 73), \n",
    "                                                               ngram_range_list=ngram_range_vocab_list)\n",
    "        pure_common = pure_common_pos | pure_common_neg\n",
    "        print(f\"pure_common vocabulary created. Length: {len(pure_common)}\")\n",
    "    \n",
    "    \n",
    "    # Create a list to store estimators  \n",
    "    estimators = []     # List of tuples of the form ('classifier_name', 'classifer_instance')\n",
    "    \n",
    "    # Build a dataframe of predictions  \n",
    "    predictions_df = pd.DataFrame()\n",
    "    \n",
    "    # Build a separate pipeline and fit it on selected features (and param_grid) for each item in classifiers list\n",
    "    for n, item in enumerate(classifiers, start=1):\n",
    "        selected_model = item['selected_model']\n",
    "        selected_features = item['selected_features']\n",
    "        param_grid = item['param_grid']\n",
    "        vocab = item['vocab']\n",
    "        vocab_usage = item['vocab_usage']\n",
    "        strip_accents = item['strip_accents']\n",
    "        add_countvec = item['add_countvec']\n",
    "    \n",
    "    \n",
    "        # Fine tune selected_features\n",
    "        if add_countvec:\n",
    "            if 'txt' in selected_features.keys():\n",
    "                if \"reviewText_2\" not in selected_features['txt']:\n",
    "                    selected_features['txt'].append('reviewText_2')\n",
    "        if vocab:\n",
    "            if 'txt' in selected_features.keys():\n",
    "                if \"reviewText_3\" not in selected_features['txt']:\n",
    "                    selected_features['txt'].append('reviewText_3')\n",
    "        else:\n",
    "            print(f\"No vocabulary provided/used for this model.\")\n",
    "            \n",
    "        print(f\"\\nSelected features: {selected_features}\")\n",
    "        \n",
    "        if type(vocab) in [type([1, 2]), type({1, 2})]:\n",
    "            vocab = vocab\n",
    "        elif vocab == True:\n",
    "            vocab = common_1_2_3_grams    # Choose vocabulary here\n",
    "            \n",
    "        if vocab_audscore:\n",
    "            if 'txt' in selected_features.keys():\n",
    "                if \"reviewText_4\" not in selected_features['txt']:\n",
    "                    selected_features['txt'].append('reviewText_4')\n",
    "        else:\n",
    "            print(f\"No vocabulary based on audienceScore provided/used for this model.\")\n",
    "            \n",
    "            \n",
    "        print(f\"\\nSelected features: {selected_features}\")\n",
    "\n",
    "        # Modify X_train for the given 'item' by creating a custom 'features' list\n",
    "        features = []\n",
    "        for item in selected_features.values():\n",
    "            features.extend(item)\n",
    "            \n",
    "        # Add new columns as needed  \n",
    "        if add_countvec:\n",
    "            merged['reviewText_2'] = merged['reviewText']\n",
    "        if vocab:\n",
    "            merged['reviewText_3'] = merged['reviewText']\n",
    "        if vocab_audscore:\n",
    "            merged['reviewText_4'] = merged['reviewText']\n",
    "        \n",
    "        # Create X_tran, y_train\n",
    "        X_train = merged.drop(labels=\"sentiment\", axis=1)\n",
    "        y_train = merged[\"sentiment\"]\n",
    "        \n",
    "        X_train = merged[features].copy()\n",
    "\n",
    "\n",
    "        # Build Pipeline\n",
    "        pipe = build_pipeline(selected_model, selected_features, param_grid=param_grid, \n",
    "                              vocab=vocab, vocab_usage='tfidf', \n",
    "                              strip_accents=strip_accents, add_countvec=add_countvec,\n",
    "                             poly=poly, vocab_audscore=pure_common)\n",
    "        print(pipe)\n",
    "\n",
    "        \n",
    "        # Fit \n",
    "        print(f\"\\nTraining started with full pipeline for classifier #{n}/{len(classifiers)}...\")\n",
    "        pipe.fit(X_train, y_train)\n",
    "        \n",
    "\n",
    "        # Check1\n",
    "        print(f\"\\nCheck #{n}.1 complete.\")\n",
    "        print(f\"Details of the best model using classifier #{n} (GridSearchCV) on X_train: \")\n",
    "        print(f\"Best Params: {pipe.best_params_}\")\n",
    "        print(f\"Best Score: {pipe.best_score_}\")\n",
    "        \n",
    "        print(predict_on_missing_review_data(pipe, features, merged))    # Function defined above\n",
    "        \n",
    "        estimators.append((f\"classifier_{n}\", pipe))\n",
    "        print(f\"classifier_{n} successfully added to 'estimators' list\")\n",
    "\n",
    "        \n",
    "        # Predict on train data \n",
    "        y_train_pred = pipe.predict(X_train)\n",
    "        print(f\"Confusion matrix for predictions on training data: \")\n",
    "        print(confusion_matrix(y_train, y_train_pred))\n",
    "        f1_train = f1_score(y_train, y_train_pred, average=\"micro\")\n",
    "        print(f\"F1-score on training data: {f1_train}\")\n",
    "        \n",
    "        \n",
    "        # Predict on test.csv file\n",
    "        # Add new columns as needed \n",
    "        if add_countvec:\n",
    "            merged_test['reviewText_2'] = merged_test['reviewText']\n",
    "        if vocab:\n",
    "            merged_test['reviewText_3'] = merged_test['reviewText']\n",
    "        if vocab_audscore:\n",
    "            merged_test['reviewText_4'] = merged_test['reviewText']\n",
    "        \n",
    "               \n",
    "        X_test = merged_test[features].copy()\n",
    "\n",
    "    \n",
    "        y_pred = pipe.predict(X_test)\n",
    "        \n",
    "        # Insert predictions in 'predictions_df' dataframe\n",
    "        predictions_df.insert(n-1, f\"pred_{n}\", y_pred, allow_duplicates=False)\n",
    "        print(predictions_df.shape)\n",
    "        print(predictions_df.head(10))\n",
    "        \n",
    "    \n",
    "        # Check2\n",
    "        print(f\"\\nCheck #{n}.2 complete.\")\n",
    "    #     cv_results_df = pd.DataFrame(pipe.cv_results_)\n",
    "        print(\"Details of the best model using full pipeline (GridSearchCV) on X_train: \")\n",
    "#         print(f\"Best Estimator: {pipe.best_estimator_}\")\n",
    "        print(f\"Best Params: {pipe.best_params_}\")\n",
    "        print(f\"Best Score: {pipe.best_score_}\")\n",
    "#         print(f\"Best Index: {pipe.best_index_}\")\n",
    "        print(f\"Refit Time: {pipe.refit_time_}\")\n",
    "    #     print(f\"Shape of CV results dataframe: {cv_results_df.shape}\")\n",
    "    \n",
    "    # Voting classifier (custom) with hard voting\n",
    "    # Calculate the MODE for all predictions (Note that the 'predictions_df' generated above should have odd number of columns)\n",
    "    pred_df_final = predictions_df.mode('columns')\n",
    "    pred_df_final.columns = [\"sentiment\"]\n",
    "    pred_df_final.index.name = \"id\"\n",
    "    pred_df_final.to_csv(\"submission.csv\")\n",
    "    \n",
    "    print(\"\\nSuccessfully created the submission file!!!\")\n",
    "    \n",
    "#     return pipe.cv_results_\n",
    "    return pred_df_final, estimators"
   ]
  },
  {
   "cell_type": "markdown",
   "id": "b0d8464e",
   "metadata": {
    "papermill": {
     "duration": 0.111702,
     "end_time": "2023-08-13T05:37:40.821136",
     "exception": false,
     "start_time": "2023-08-13T05:37:40.709434",
     "status": "completed"
    },
    "tags": []
   },
   "source": [
    "## Use 'submit_v5' function  "
   ]
  },
  {
   "cell_type": "code",
   "execution_count": 125,
   "id": "8b065878",
   "metadata": {
    "execution": {
     "iopub.execute_input": "2023-08-13T05:37:41.043676Z",
     "iopub.status.busy": "2023-08-13T05:37:41.043185Z",
     "iopub.status.idle": "2023-08-13T05:37:41.047850Z",
     "shell.execute_reply": "2023-08-13T05:37:41.046670Z"
    },
    "papermill": {
     "duration": 0.118822,
     "end_time": "2023-08-13T05:37:41.050435",
     "exception": false,
     "start_time": "2023-08-13T05:37:40.931613",
     "status": "completed"
    },
    "tags": []
   },
   "outputs": [],
   "source": [
    "# Try submit_v5 with default settings\n",
    "# submit_v5()"
   ]
  },
  {
   "cell_type": "code",
   "execution_count": 126,
   "id": "6d7f756d",
   "metadata": {
    "execution": {
     "iopub.execute_input": "2023-08-13T05:37:41.343428Z",
     "iopub.status.busy": "2023-08-13T05:37:41.342620Z",
     "iopub.status.idle": "2023-08-13T06:09:54.950195Z",
     "shell.execute_reply": "2023-08-13T06:09:54.948729Z"
    },
    "papermill": {
     "duration": 1933.788992,
     "end_time": "2023-08-13T06:09:54.953166",
     "exception": false,
     "start_time": "2023-08-13T05:37:41.164174",
     "status": "completed"
    },
    "tags": []
   },
   "outputs": [
    {
     "name": "stdout",
     "output_type": "stream",
     "text": [
      "\n",
      "Running the submit_v5 function...\n",
      "\n",
      "Data preprocessor initiated...\n",
      "\n",
      "Imputer for missing numerical values: knn\n",
      "Imputing missing values. (This could take a while if it is KNNImputer)\n",
      "KNNImputer(n_neighbors=3, weights='distance')\n",
      "\n",
      "Check 1 (preprocessor) complete.\n",
      "Shape of X_train: (162758, 30)\n",
      "Features in X_train: Index(['movieid', 'reviewerName', 'isFrequentReviewer', 'reviewText',\n",
      "       'sentiment', 'title', 'audienceScore', 'rating', 'ratingContents',\n",
      "       'releaseDateTheaters', 'releaseDateStreaming', 'runtimeMinutes',\n",
      "       'genre', 'originalLanguage', 'director', 'boxOffice', 'distributor',\n",
      "       'soundType', 'reviewYN', 'reviewWC', 'genreSorted', 'rcSorted',\n",
      "       'releaseDate', 'releaseYear', 'releaseMonth', 'releaseDiff',\n",
      "       'audScoreBins', 'runtimeBins', 'boxOfficeBins', 'releaseDiffBins'],\n",
      "      dtype='object')\n",
      "\n",
      "Check 2 (preprocessor) complete.\n",
      "Shape of X_test: (55315, 29)\n",
      "Features in X_test: Index(['movieid', 'reviewerName', 'isFrequentReviewer', 'reviewText', 'title',\n",
      "       'audienceScore', 'rating', 'ratingContents', 'releaseDateTheaters',\n",
      "       'releaseDateStreaming', 'runtimeMinutes', 'genre', 'originalLanguage',\n",
      "       'director', 'boxOffice', 'distributor', 'soundType', 'reviewYN',\n",
      "       'reviewWC', 'genreSorted', 'rcSorted', 'releaseDate', 'releaseYear',\n",
      "       'releaseMonth', 'releaseDiff', 'audScoreBins', 'runtimeBins',\n",
      "       'boxOfficeBins', 'releaseDiffBins'],\n",
      "      dtype='object')\n",
      "\n",
      "Preprocessing of train and test datasets complete.\n",
      "Generating stop words/phrases specific for this project data...\n",
      "Generating vocabulary for ngram_range: (1, 4)...\n",
      "Size of vocabulary of training data: 3916361\n",
      "Generating stop words/phrases specific for this project data...\n",
      "Working on DF#1 in the list of DFs provided\n",
      "Generating vocabulary for ngram_range: (1, 1)...\n",
      "Vocabulary size for ngram-range (1, 1) in DF#1: 63881\n",
      "\n",
      "Words from the first df for ngram-range (1, 1) added.\n",
      "\n",
      "Working on DF#2 in the list of DFs provided\n",
      "Generating vocabulary for ngram_range: (1, 1)...\n",
      "Vocabulary size for ngram-range (1, 1) in DF#2: 42992\n",
      "\n",
      "Keeping only the common (intersection) words for ngram-range (1, 1)...\n",
      "Common vocabulary for ngram-range (1, 1): 35498\n",
      "\n",
      "Appended first time to final common vocabulary: ngram-range = (1, 1).\n",
      "\n",
      "Working on DF#1 in the list of DFs provided\n",
      "Generating vocabulary for ngram_range: (2, 2)...\n",
      "Vocabulary size for ngram-range (2, 2) in DF#1: 1130406\n",
      "\n",
      "Words from the first df for ngram-range (2, 2) added.\n",
      "\n",
      "Working on DF#2 in the list of DFs provided\n",
      "Generating vocabulary for ngram_range: (2, 2)...\n",
      "Vocabulary size for ngram-range (2, 2) in DF#2: 436174\n",
      "\n",
      "Keeping only the common (intersection) words for ngram-range (2, 2)...\n",
      "Common vocabulary for ngram-range (2, 2): 112530\n",
      "\n",
      "Fusing (union) with final common vocabulary: ngram-range = (2, 2).\n",
      "\n",
      "Working on DF#1 in the list of DFs provided\n",
      "Generating vocabulary for ngram_range: (3, 3)...\n",
      "Vocabulary size for ngram-range (3, 3) in DF#1: 1416309\n",
      "\n",
      "Words from the first df for ngram-range (3, 3) added.\n",
      "\n",
      "Working on DF#2 in the list of DFs provided\n",
      "Generating vocabulary for ngram_range: (3, 3)...\n",
      "Vocabulary size for ngram-range (3, 3) in DF#2: 488867\n",
      "\n",
      "Keeping only the common (intersection) words for ngram-range (3, 3)...\n",
      "Common vocabulary for ngram-range (3, 3): 22631\n",
      "\n",
      "Fusing (union) with final common vocabulary: ngram-range = (3, 3).\n",
      "\n",
      "Working on DF#1 in the list of DFs provided\n",
      "Generating vocabulary for ngram_range: (4, 4)...\n",
      "Vocabulary size for ngram-range (4, 4) in DF#1: 1305765\n",
      "\n",
      "Words from the first df for ngram-range (4, 4) added.\n",
      "\n",
      "Working on DF#2 in the list of DFs provided\n",
      "Generating vocabulary for ngram_range: (4, 4)...\n",
      "Vocabulary size for ngram-range (4, 4) in DF#2: 444622\n",
      "\n",
      "Keeping only the common (intersection) words for ngram-range (4, 4)...\n",
      "Common vocabulary for ngram-range (4, 4): 7336\n",
      "\n",
      "Fusing (union) with final common vocabulary: ngram-range = (4, 4).\n",
      "\n",
      "Number of stop words: 177995\n",
      "Getting the vocabulary that will be fed to the final model(s)...\n",
      "Size of the final relevant vocabulary: 3738366\n",
      "Working on DF#1 in the list of DFs provided\n",
      "Generating vocabulary for ngram_range: (1, 1)...\n",
      "Vocabulary size for ngram-range (1, 1) in DF#1: 63881\n",
      "\n",
      "Words from the first df for ngram-range (1, 1) added.\n",
      "\n",
      "Working on DF#2 in the list of DFs provided\n",
      "Generating vocabulary for ngram_range: (1, 1)...\n",
      "Vocabulary size for ngram-range (1, 1) in DF#2: 42992\n",
      "\n",
      "Keeping only the common (intersection) words for ngram-range (1, 1)...\n",
      "Common vocabulary for ngram-range (1, 1): 35498\n",
      "\n",
      "Appended first time to final common vocabulary: ngram-range = (1, 1).\n",
      "\n",
      "Working on DF#1 in the list of DFs provided\n",
      "Generating vocabulary for ngram_range: (2, 2)...\n",
      "Vocabulary size for ngram-range (2, 2) in DF#1: 1130406\n",
      "\n",
      "Words from the first df for ngram-range (2, 2) added.\n",
      "\n",
      "Working on DF#2 in the list of DFs provided\n",
      "Generating vocabulary for ngram_range: (2, 2)...\n",
      "Vocabulary size for ngram-range (2, 2) in DF#2: 436174\n",
      "\n",
      "Keeping only the common (intersection) words for ngram-range (2, 2)...\n",
      "Common vocabulary for ngram-range (2, 2): 112530\n",
      "\n",
      "Fusing (union) with final common vocabulary: ngram-range = (2, 2).\n",
      "\n",
      "Working on DF#1 in the list of DFs provided\n",
      "Generating vocabulary for ngram_range: (3, 3)...\n",
      "Vocabulary size for ngram-range (3, 3) in DF#1: 1416309\n",
      "\n",
      "Words from the first df for ngram-range (3, 3) added.\n",
      "\n",
      "Working on DF#2 in the list of DFs provided\n",
      "Generating vocabulary for ngram_range: (3, 3)...\n",
      "Vocabulary size for ngram-range (3, 3) in DF#2: 488867\n",
      "\n",
      "Keeping only the common (intersection) words for ngram-range (3, 3)...\n",
      "Common vocabulary for ngram-range (3, 3): 22631\n",
      "\n",
      "Fusing (union) with final common vocabulary: ngram-range = (3, 3).\n",
      "\n",
      "Working on DF#1 in the list of DFs provided\n",
      "Generating vocabulary for ngram_range: (1, 1)...\n",
      "Vocabulary size for ngram-range (1, 1) in DF#1: 39254\n",
      "\n",
      "Words from the first df for ngram-range (1, 1) added.\n",
      "\n",
      "Working on DF#2 in the list of DFs provided\n",
      "Generating vocabulary for ngram_range: (1, 1)...\n",
      "Vocabulary size for ngram-range (1, 1) in DF#2: 39254\n",
      "\n",
      "Keeping only the common (intersection) words for ngram-range (1, 1)...\n",
      "Common vocabulary for ngram-range (1, 1): 39254\n",
      "\n",
      "Appended first time to final common vocabulary: ngram-range = (1, 1).\n",
      "\n",
      "Working on DF#1 in the list of DFs provided\n",
      "Generating vocabulary for ngram_range: (2, 2)...\n",
      "Vocabulary size for ngram-range (2, 2) in DF#1: 418168\n",
      "\n",
      "Words from the first df for ngram-range (2, 2) added.\n",
      "\n",
      "Working on DF#2 in the list of DFs provided\n",
      "Generating vocabulary for ngram_range: (2, 2)...\n",
      "Vocabulary size for ngram-range (2, 2) in DF#2: 418168\n",
      "\n",
      "Keeping only the common (intersection) words for ngram-range (2, 2)...\n",
      "Common vocabulary for ngram-range (2, 2): 418168\n",
      "\n",
      "Fusing (union) with final common vocabulary: ngram-range = (2, 2).\n",
      "\n",
      "Working on DF#1 in the list of DFs provided\n",
      "Generating vocabulary for ngram_range: (3, 3)...\n",
      "Vocabulary size for ngram-range (3, 3) in DF#1: 478650\n",
      "\n",
      "Words from the first df for ngram-range (3, 3) added.\n",
      "\n",
      "Working on DF#2 in the list of DFs provided\n",
      "Generating vocabulary for ngram_range: (3, 3)...\n",
      "Vocabulary size for ngram-range (3, 3) in DF#2: 478650\n",
      "\n",
      "Keeping only the common (intersection) words for ngram-range (3, 3)...\n",
      "Common vocabulary for ngram-range (3, 3): 478650\n",
      "\n",
      "Fusing (union) with final common vocabulary: ngram-range = (3, 3).\n",
      "\n",
      "Working on DF#1 in the list of DFs provided\n",
      "Generating vocabulary for ngram_range: (1, 1)...\n",
      "Vocabulary size for ngram-range (1, 1) in DF#1: 29530\n",
      "\n",
      "Words from the first df for ngram-range (1, 1) added.\n",
      "\n",
      "Working on DF#2 in the list of DFs provided\n",
      "Generating vocabulary for ngram_range: (1, 1)...\n",
      "Vocabulary size for ngram-range (1, 1) in DF#2: 29530\n",
      "\n",
      "Keeping only the common (intersection) words for ngram-range (1, 1)...\n",
      "Common vocabulary for ngram-range (1, 1): 29530\n",
      "\n",
      "Appended first time to final common vocabulary: ngram-range = (1, 1).\n",
      "\n",
      "Working on DF#1 in the list of DFs provided\n",
      "Generating vocabulary for ngram_range: (2, 2)...\n",
      "Vocabulary size for ngram-range (2, 2) in DF#1: 208463\n",
      "\n",
      "Words from the first df for ngram-range (2, 2) added.\n",
      "\n",
      "Working on DF#2 in the list of DFs provided\n",
      "Generating vocabulary for ngram_range: (2, 2)...\n",
      "Vocabulary size for ngram-range (2, 2) in DF#2: 208463\n",
      "\n",
      "Keeping only the common (intersection) words for ngram-range (2, 2)...\n",
      "Common vocabulary for ngram-range (2, 2): 208463\n",
      "\n",
      "Fusing (union) with final common vocabulary: ngram-range = (2, 2).\n",
      "\n",
      "Working on DF#1 in the list of DFs provided\n",
      "Generating vocabulary for ngram_range: (3, 3)...\n",
      "Vocabulary size for ngram-range (3, 3) in DF#1: 223076\n",
      "\n",
      "Words from the first df for ngram-range (3, 3) added.\n",
      "\n",
      "Working on DF#2 in the list of DFs provided\n",
      "Generating vocabulary for ngram_range: (3, 3)...\n",
      "Vocabulary size for ngram-range (3, 3) in DF#2: 223076\n",
      "\n",
      "Keeping only the common (intersection) words for ngram-range (3, 3)...\n",
      "Common vocabulary for ngram-range (3, 3): 223076\n",
      "\n",
      "Fusing (union) with final common vocabulary: ngram-range = (3, 3).\n",
      "\n",
      "pure_common vocabulary created. Length: 84493\n",
      "\n",
      "Selected features: {'cat': ['isFrequentReviewer', 'audScoreBins', 'boxOfficeBins'], 'num': ['releaseDiff'], 'txt': ['reviewText', 'reviewerName', 'movieid', 'genre', 'director', 'ratingContents', 'distributor', 'reviewText_2', 'reviewText_3']}\n",
      "\n",
      "Selected features: {'cat': ['isFrequentReviewer', 'audScoreBins', 'boxOfficeBins'], 'num': ['releaseDiff'], 'txt': ['reviewText', 'reviewerName', 'movieid', 'genre', 'director', 'ratingContents', 'distributor', 'reviewText_2', 'reviewText_3', 'reviewText_4']}\n",
      "\n",
      "Pipeline built successfully.\n",
      "\n",
      "Full GridSearchCV pipeline built successfully.\n",
      "GridSearchCV(cv=10,\n",
      "             estimator=Pipeline(steps=[('ct',\n",
      "                                        ColumnTransformer(transformers=[('cat',\n",
      "                                                                         OneHotEncoder(handle_unknown='ignore',\n",
      "                                                                                       sparse_output=False),\n",
      "                                                                         ['isFrequentReviewer',\n",
      "                                                                          'audScoreBins',\n",
      "                                                                          'boxOfficeBins']),\n",
      "                                                                        ('num',\n",
      "                                                                         Pipeline(steps=[('robscaler',\n",
      "                                                                                          RobustScaler()),\n",
      "                                                                                         ('stdscaler',\n",
      "                                                                                          StandardScaler()),\n",
      "                                                                                         ('poly',\n",
      "                                                                                          PolynomialFeatures(include_bias=False,\n",
      "                                                                                                             interaction_only=...\n",
      "                                                                                                                      'striking',\n",
      "                                                                                                                      'abbey',\n",
      "                                                                                                                      'abbey '\n",
      "                                                                                                                      'movie',\n",
      "                                                                                                                      'abbie',\n",
      "                                                                                                                      'abbott '\n",
      "                                                                                                                      'costello '\n",
      "                                                                                                                      'meet',\n",
      "                                                                                                                      'abc '\n",
      "                                                                                                                      'africa',\n",
      "                                                                                                                      'abc '\n",
      "                                                                                                                      'afterschool',\n",
      "                                                                                                                      'abdomen',\n",
      "                                                                                                                      'abdul '\n",
      "                                                                                                                      'mateen',\n",
      "                                                                                                                      'abdul '\n",
      "                                                                                                                      'mateen '\n",
      "                                                                                                                      'ii',\n",
      "                                                                                                                      'abel '\n",
      "                                                                                                                      'ferrara', ...}))]),\n",
      "                                                                         'reviewText_4')])),\n",
      "                                       ('model',\n",
      "                                        SGDClassifier(loss='log_loss',\n",
      "                                                      max_iter=1000000,\n",
      "                                                      n_iter_no_change=100,\n",
      "                                                      n_jobs=-1,\n",
      "                                                      tol=0.0001))]),\n",
      "             n_jobs=-1, param_grid={'model__alpha': [0.0001]},\n",
      "             scoring='f1_micro')\n",
      "\n",
      "Training started with full pipeline for classifier #1/1...\n",
      "\n",
      "Check #1.1 complete.\n",
      "Details of the best model using classifier #1 (GridSearchCV) on X_train: \n",
      "Best Params: {'model__alpha': 0.0001}\n",
      "Best Score: 0.839504037307294\n",
      "Confusion matrix and f1-score for rows which have no reviewText in X_train: \n",
      "[[1282 1123]\n",
      " [ 465 3577]]\n",
      "0.7536838839770436\n",
      "classifier_1 successfully added to 'estimators' list\n",
      "Confusion matrix for predictions on training data: \n",
      "[[ 49999   3998]\n",
      " [  1456 107305]]\n",
      "F1-score on training data: 0.9664901264453974\n",
      "(55315, 1)\n",
      "     pred_1\n",
      "0  POSITIVE\n",
      "1  POSITIVE\n",
      "2  POSITIVE\n",
      "3  POSITIVE\n",
      "4  POSITIVE\n",
      "5  POSITIVE\n",
      "6  POSITIVE\n",
      "7  POSITIVE\n",
      "8  NEGATIVE\n",
      "9  NEGATIVE\n",
      "\n",
      "Check #1.2 complete.\n",
      "Details of the best model using full pipeline (GridSearchCV) on X_train: \n",
      "Best Params: {'model__alpha': 0.0001}\n",
      "Best Score: 0.839504037307294\n",
      "Refit Time: 226.88141322135925\n",
      "\n",
      "Successfully created the submission file!!!\n"
     ]
    }
   ],
   "source": [
    "# Testing ONE classfier using submit_v5 function  \n",
    "\n",
    "# Feature dictionaries\n",
    "sfs = {'cat': ['isFrequentReviewer', 'rating'],\n",
    "       'num': [\"audienceScore\", \"runtimeMinutes\", \"boxOffice\", 'releaseDiff']}\n",
    "\n",
    "sf_best = {'cat': ['isFrequentReviewer'],\n",
    "            'num': [\"audienceScore\", \"boxOffice\", 'releaseDiff'],\n",
    "            'txt': ['reviewText', 'reviewerName', 'movieid', 'genre', 'director', \n",
    "                         'ratingContents', 'distributor']}\n",
    "\n",
    "alt_text = {'txt': ['reviewerName', 'movieid', 'genre', 'director', \n",
    "                         'ratingContents', 'distributor']}\n",
    "\n",
    "v88_dict = {'cat': ['isFrequentReviewer', 'audScoreBins', 'boxOfficeBins'],\n",
    "            'num': ['releaseDiff'],\n",
    "            'txt': ['reviewText', 'reviewerName', 'movieid', 'genre', 'director', \n",
    "                         'ratingContents', 'distributor']}\n",
    "\n",
    "# SGDClassifier hyperparameters  \n",
    "# \"model__loss\": ['hinge', 'log_loss', 'modified_huber', \n",
    "#                                                   'squared_hinge', 'perceptron', \n",
    "#                                                   'squared_error', 'huber', \n",
    "#                                                   'epsilon_insensitive', 'squared_epsilon_insensitive']\n",
    "\n",
    "# 'param_grid' : {\"model__alpha\": [0.0001], \n",
    "#                   'model__tol': [0.0001],\n",
    "#                   \"model__penalty\": [\"l2\"],\n",
    "#                   \"model__n_iter_no_change\": [100],\n",
    "#                  }\n",
    "\n",
    "# Best models \n",
    "# For sf_best features\n",
    "#                 {'selected_model' : SGDClassifier(loss='hinge', \n",
    "#                                      max_iter=1000000,\n",
    "#                                      alpha = 0.0001,\n",
    "#                                      tol = 0.0001,\n",
    "#                                      penalty = \"l2\",\n",
    "#                                      n_iter_no_change = 100,\n",
    "#                                      n_jobs = -1), \n",
    "#                   'selected_features' : sf_best, \n",
    "#                   'param_grid' : {\"model__alpha\": [ 0.0001]},\n",
    "#                   'vocab' : True,\n",
    "#                   'vocab_usage' : 'tfidf',\n",
    "#                   'strip_accents' : 'unicode', \n",
    "#                   'add_countvec' : True},\n",
    "\n",
    "# For sfs features\n",
    "#                 {'selected_model' : RandomForestClassifier(n_jobs = -1), \n",
    "#                   'selected_features' : sfs, \n",
    "#                   'param_grid': {'model__n_estimators': [100]},\n",
    "#                   'vocab' : None,\n",
    "#                   'vocab_usage' : 'tfidf',\n",
    "#                   'strip_accents' : 'unicode', \n",
    "#                   'add_countvec' : False}\n",
    "\n",
    "# Best SGD classifer (with params)  \n",
    "sgdc = SGDClassifier(loss='log_loss', \n",
    "                     max_iter=1000000,\n",
    "                     alpha = 0.0001,\n",
    "                     tol = 0.0001,\n",
    "                     penalty = \"l2\",\n",
    "                     n_iter_no_change = 100,\n",
    "                     n_jobs = -1)\n",
    "\n",
    "# Classifiers\n",
    "classifiers= [   \n",
    "                {'selected_model' : sgdc, \n",
    "                  'selected_features' : v88_dict, \n",
    "                  'param_grid' : {\"model__alpha\": [0.0001]},\n",
    "                  'vocab' : True,\n",
    "                  'vocab_usage' : 'tfidf',\n",
    "                  'strip_accents' : 'unicode', \n",
    "                  'add_countvec' : True,\n",
    "                    'vocab_audscore' : True},\n",
    "            ]\n",
    "\n",
    "# classifiers= [\n",
    "#                 {'selected_model' : LogisticRegression(C=1, solver='saga', max_iter=100000), \n",
    "#                   'selected_features' : {'txt': [\"reviewText\"]}, \n",
    "#                   'param_grid' : {\"model__C\": [1], \n",
    "#                                   'model__solver': ['saga']},\n",
    "#                   'vocab' : None,\n",
    "#                   'vocab_usage' : 'tfidf',\n",
    "#                   'strip_accents' : 'unicode', \n",
    "#                   'add_countvec' : False},\n",
    "#             ]\n",
    "\n",
    "pred_df, estimators = submit_v5(classifiers=classifiers, imputer_type='knn', poly=True)"
   ]
  },
  {
   "cell_type": "code",
   "execution_count": 127,
   "id": "053c8e62",
   "metadata": {
    "execution": {
     "iopub.execute_input": "2023-08-13T06:09:55.188825Z",
     "iopub.status.busy": "2023-08-13T06:09:55.187179Z",
     "iopub.status.idle": "2023-08-13T06:09:55.196939Z",
     "shell.execute_reply": "2023-08-13T06:09:55.195488Z"
    },
    "papermill": {
     "duration": 0.130363,
     "end_time": "2023-08-13T06:09:55.199378",
     "exception": false,
     "start_time": "2023-08-13T06:09:55.069015",
     "status": "completed"
    },
    "tags": []
   },
   "outputs": [
    {
     "name": "stdout",
     "output_type": "stream",
     "text": [
      "(55315, 1)\n",
      "   sentiment\n",
      "id          \n",
      "0   POSITIVE\n",
      "1   POSITIVE\n",
      "2   POSITIVE\n",
      "3   POSITIVE\n",
      "4   POSITIVE\n"
     ]
    }
   ],
   "source": [
    "print(pred_df.shape)\n",
    "print(pred_df.head())"
   ]
  },
  {
   "cell_type": "code",
   "execution_count": 128,
   "id": "78909b46",
   "metadata": {
    "execution": {
     "iopub.execute_input": "2023-08-13T06:09:55.433780Z",
     "iopub.status.busy": "2023-08-13T06:09:55.432689Z",
     "iopub.status.idle": "2023-08-13T06:09:55.437640Z",
     "shell.execute_reply": "2023-08-13T06:09:55.436715Z"
    },
    "papermill": {
     "duration": 0.124616,
     "end_time": "2023-08-13T06:09:55.439897",
     "exception": false,
     "start_time": "2023-08-13T06:09:55.315281",
     "status": "completed"
    },
    "tags": []
   },
   "outputs": [],
   "source": [
    "# estimators"
   ]
  },
  {
   "cell_type": "code",
   "execution_count": 129,
   "id": "1a57ebe9",
   "metadata": {
    "execution": {
     "iopub.execute_input": "2023-08-13T06:09:55.670813Z",
     "iopub.status.busy": "2023-08-13T06:09:55.670046Z",
     "iopub.status.idle": "2023-08-13T06:09:55.677091Z",
     "shell.execute_reply": "2023-08-13T06:09:55.675777Z"
    },
    "papermill": {
     "duration": 0.12501,
     "end_time": "2023-08-13T06:09:55.679567",
     "exception": false,
     "start_time": "2023-08-13T06:09:55.554557",
     "status": "completed"
    },
    "tags": []
   },
   "outputs": [
    {
     "name": "stdout",
     "output_type": "stream",
     "text": [
      "Number of estimators: 1\n",
      "\n",
      "Estimator: classifier_1\n",
      "{'model__alpha': 0.0001}\n",
      "0.839504037307294\n",
      "226.88141322135925\n",
      "\n"
     ]
    }
   ],
   "source": [
    "print(f\"Number of estimators: {len(estimators)}\\n\")\n",
    "for est in estimators:\n",
    "    print(f\"Estimator: {est[0]}\")\n",
    "#     print(est[1].best_estimator_)\n",
    "    print(est[1].best_params_)\n",
    "    print(est[1].best_score_)\n",
    "    print(est[1].refit_time_)\n",
    "    print()"
   ]
  },
  {
   "cell_type": "code",
   "execution_count": 130,
   "id": "ff8e3a14",
   "metadata": {
    "execution": {
     "iopub.execute_input": "2023-08-13T06:09:55.910798Z",
     "iopub.status.busy": "2023-08-13T06:09:55.910042Z",
     "iopub.status.idle": "2023-08-13T06:09:55.916216Z",
     "shell.execute_reply": "2023-08-13T06:09:55.915459Z"
    },
    "papermill": {
     "duration": 0.124053,
     "end_time": "2023-08-13T06:09:55.918665",
     "exception": false,
     "start_time": "2023-08-13T06:09:55.794612",
     "status": "completed"
    },
    "tags": []
   },
   "outputs": [],
   "source": [
    "# Testing full capabilites of submit_v5  \n",
    "\n",
    "# # Feature dictionaries\n",
    "# sf1 = {'cat': ['isFrequentReviewer', 'rating'],\n",
    "#        'num': [\"audienceScore\", \"runtimeMinutes\", \"boxOffice\"]}\n",
    "\n",
    "# sf2 = {'cat': ['isFrequentReviewer', 'rating'],\n",
    "#        'num': [\"audienceScore\", \"runtimeMinutes\", \"boxOffice\"]}\n",
    "\n",
    "# sf3 = {'cat': ['isFrequentReviewer'],\n",
    "#         'num': ['releaseDiff', 'audienceScore', 'boxOffice'],\n",
    "#         'txt': ['reviewText', 'reviewerName', 'movieid', 'genre', 'director', \n",
    "#                          'ratingContents', 'distributor']}\n",
    "\n",
    "# # Individual classifiers\n",
    "# clf1 =  {'selected_model' : AdaBoostClassifier(), \n",
    "#           'selected_features' : sf1, \n",
    "#           'param_grid' : {\"model__n_estimators\": [50]},\n",
    "#           'vocab' : None,\n",
    "#           'vocab_usage' : 'tfidf',\n",
    "#           'strip_accents' : 'unicode', \n",
    "#           'add_countvec' : False}\n",
    "\n",
    "# clf2 =  {'selected_model' : RandomForestClassifier(), \n",
    "#           'selected_features' : sf2,\n",
    "#           'param_grid' : {\"model__n_estimators\": [50], \n",
    "#                           'model__criterion': ['gini']},\n",
    "#           'vocab' : None,\n",
    "#           'vocab_usage' : 'tfidf',\n",
    "#           'strip_accents' : 'unicode', \n",
    "#           'add_countvec' : False}\n",
    "\n",
    "# clf3 =  {'selected_model' : LogisticRegression(C=1, solver='saga', max_iter=100000), \n",
    "#           'selected_features' : sf3, \n",
    "#           'param_grid' : {'model__C' : [1],\n",
    "#                             'model__solver': ['saga'],\n",
    "#                             \"model__fit_intercept\" : [True],\n",
    "#                             \"model__dual\" : [False]},\n",
    "#           'vocab' : None,\n",
    "#           'vocab_usage' : 'tfidf',\n",
    "#           'strip_accents' : 'unicode', \n",
    "#           'add_countvec' : True}\n",
    "\n",
    "\n",
    "# # List of classifiers for voting\n",
    "# classifiers= [clf1, clf2, clf3]\n",
    "\n",
    "# # Final predictions \n",
    "# pred_df = submit_v5(classifiers=classifiers)"
   ]
  },
  {
   "cell_type": "code",
   "execution_count": 131,
   "id": "9bc6f660",
   "metadata": {
    "execution": {
     "iopub.execute_input": "2023-08-13T06:09:56.153076Z",
     "iopub.status.busy": "2023-08-13T06:09:56.152273Z",
     "iopub.status.idle": "2023-08-13T06:09:56.165055Z",
     "shell.execute_reply": "2023-08-13T06:09:56.164245Z"
    },
    "papermill": {
     "duration": 0.133189,
     "end_time": "2023-08-13T06:09:56.167082",
     "exception": false,
     "start_time": "2023-08-13T06:09:56.033893",
     "status": "completed"
    },
    "tags": []
   },
   "outputs": [
    {
     "name": "stdout",
     "output_type": "stream",
     "text": [
      "(55315, 1)\n"
     ]
    },
    {
     "data": {
      "text/html": [
       "<div>\n",
       "<style scoped>\n",
       "    .dataframe tbody tr th:only-of-type {\n",
       "        vertical-align: middle;\n",
       "    }\n",
       "\n",
       "    .dataframe tbody tr th {\n",
       "        vertical-align: top;\n",
       "    }\n",
       "\n",
       "    .dataframe thead th {\n",
       "        text-align: right;\n",
       "    }\n",
       "</style>\n",
       "<table border=\"1\" class=\"dataframe\">\n",
       "  <thead>\n",
       "    <tr style=\"text-align: right;\">\n",
       "      <th></th>\n",
       "      <th>sentiment</th>\n",
       "    </tr>\n",
       "    <tr>\n",
       "      <th>id</th>\n",
       "      <th></th>\n",
       "    </tr>\n",
       "  </thead>\n",
       "  <tbody>\n",
       "    <tr>\n",
       "      <th>0</th>\n",
       "      <td>POSITIVE</td>\n",
       "    </tr>\n",
       "    <tr>\n",
       "      <th>1</th>\n",
       "      <td>POSITIVE</td>\n",
       "    </tr>\n",
       "    <tr>\n",
       "      <th>2</th>\n",
       "      <td>POSITIVE</td>\n",
       "    </tr>\n",
       "    <tr>\n",
       "      <th>3</th>\n",
       "      <td>POSITIVE</td>\n",
       "    </tr>\n",
       "    <tr>\n",
       "      <th>4</th>\n",
       "      <td>POSITIVE</td>\n",
       "    </tr>\n",
       "    <tr>\n",
       "      <th>...</th>\n",
       "      <td>...</td>\n",
       "    </tr>\n",
       "    <tr>\n",
       "      <th>55310</th>\n",
       "      <td>POSITIVE</td>\n",
       "    </tr>\n",
       "    <tr>\n",
       "      <th>55311</th>\n",
       "      <td>POSITIVE</td>\n",
       "    </tr>\n",
       "    <tr>\n",
       "      <th>55312</th>\n",
       "      <td>NEGATIVE</td>\n",
       "    </tr>\n",
       "    <tr>\n",
       "      <th>55313</th>\n",
       "      <td>POSITIVE</td>\n",
       "    </tr>\n",
       "    <tr>\n",
       "      <th>55314</th>\n",
       "      <td>NEGATIVE</td>\n",
       "    </tr>\n",
       "  </tbody>\n",
       "</table>\n",
       "<p>55315 rows × 1 columns</p>\n",
       "</div>"
      ],
      "text/plain": [
       "      sentiment\n",
       "id             \n",
       "0      POSITIVE\n",
       "1      POSITIVE\n",
       "2      POSITIVE\n",
       "3      POSITIVE\n",
       "4      POSITIVE\n",
       "...         ...\n",
       "55310  POSITIVE\n",
       "55311  POSITIVE\n",
       "55312  NEGATIVE\n",
       "55313  POSITIVE\n",
       "55314  NEGATIVE\n",
       "\n",
       "[55315 rows x 1 columns]"
      ]
     },
     "execution_count": 131,
     "metadata": {},
     "output_type": "execute_result"
    }
   ],
   "source": [
    "print(pred_df.shape)\n",
    "pred_df"
   ]
  },
  {
   "cell_type": "code",
   "execution_count": 132,
   "id": "65d7253c",
   "metadata": {
    "execution": {
     "iopub.execute_input": "2023-08-13T06:09:56.401560Z",
     "iopub.status.busy": "2023-08-13T06:09:56.400852Z",
     "iopub.status.idle": "2023-08-13T06:09:56.404930Z",
     "shell.execute_reply": "2023-08-13T06:09:56.404093Z"
    },
    "papermill": {
     "duration": 0.124091,
     "end_time": "2023-08-13T06:09:56.407094",
     "exception": false,
     "start_time": "2023-08-13T06:09:56.283003",
     "status": "completed"
    },
    "tags": []
   },
   "outputs": [],
   "source": [
    "# pred_df_mode = pred_df.mode(axis='columns')\n",
    "# print(pred_df_mode.shape)\n",
    "# pred_df_mode"
   ]
  },
  {
   "cell_type": "code",
   "execution_count": 133,
   "id": "c7f39a68",
   "metadata": {
    "execution": {
     "iopub.execute_input": "2023-08-13T06:09:56.637933Z",
     "iopub.status.busy": "2023-08-13T06:09:56.637163Z",
     "iopub.status.idle": "2023-08-13T06:09:56.654692Z",
     "shell.execute_reply": "2023-08-13T06:09:56.653866Z"
    },
    "papermill": {
     "duration": 0.134812,
     "end_time": "2023-08-13T06:09:56.656786",
     "exception": false,
     "start_time": "2023-08-13T06:09:56.521974",
     "status": "completed"
    },
    "tags": []
   },
   "outputs": [
    {
     "data": {
      "text/plain": [
       "sentiment\n",
       "POSITIVE     40019\n",
       "NEGATIVE     15296\n",
       "dtype: int64"
      ]
     },
     "execution_count": 133,
     "metadata": {},
     "output_type": "execute_result"
    }
   ],
   "source": [
    "pred_df.value_counts()"
   ]
  },
  {
   "cell_type": "markdown",
   "id": "47e25055",
   "metadata": {
    "papermill": {
     "duration": 0.202723,
     "end_time": "2023-08-13T06:09:56.975776",
     "exception": false,
     "start_time": "2023-08-13T06:09:56.773053",
     "status": "completed"
    },
    "tags": []
   },
   "source": [
    "# NOTE: Move submit_v4 submissions below the suubmit_v4 function  "
   ]
  },
  {
   "cell_type": "code",
   "execution_count": 134,
   "id": "ce8639f6",
   "metadata": {
    "execution": {
     "iopub.execute_input": "2023-08-13T06:09:57.211773Z",
     "iopub.status.busy": "2023-08-13T06:09:57.211003Z",
     "iopub.status.idle": "2023-08-13T06:09:57.215831Z",
     "shell.execute_reply": "2023-08-13T06:09:57.214683Z"
    },
    "papermill": {
     "duration": 0.126808,
     "end_time": "2023-08-13T06:09:57.218624",
     "exception": false,
     "start_time": "2023-08-13T06:09:57.091816",
     "status": "completed"
    },
    "tags": []
   },
   "outputs": [],
   "source": [
    "# Try 'submit_v4' function with default params (LogisticRegression model)  \n",
    "\n",
    "# submit_v4()\n",
    "\n",
    "#Default params to this function gave a score of 0.8259 - improvement over previous score of 0.82563!"
   ]
  },
  {
   "cell_type": "code",
   "execution_count": 135,
   "id": "390463e3",
   "metadata": {
    "execution": {
     "iopub.execute_input": "2023-08-13T06:09:57.457361Z",
     "iopub.status.busy": "2023-08-13T06:09:57.456539Z",
     "iopub.status.idle": "2023-08-13T06:09:57.460996Z",
     "shell.execute_reply": "2023-08-13T06:09:57.460091Z"
    },
    "papermill": {
     "duration": 0.12483,
     "end_time": "2023-08-13T06:09:57.463253",
     "exception": false,
     "start_time": "2023-08-13T06:09:57.338423",
     "status": "completed"
    },
    "tags": []
   },
   "outputs": [],
   "source": [
    "# Try out GridSearchCV on \"submit_v4\" function with param_grid  \n",
    "# param_grid = {\n",
    "#     \"model__C\": [0.1, 1, 5, 10]\n",
    "# }\n",
    "\n",
    "# submit_v4(selected_features={'txt': ['genre']}, param_grid=param_grid)"
   ]
  },
  {
   "cell_type": "markdown",
   "id": "79e3ccd4",
   "metadata": {
    "papermill": {
     "duration": 0.114311,
     "end_time": "2023-08-13T06:09:57.692356",
     "exception": false,
     "start_time": "2023-08-13T06:09:57.578045",
     "status": "completed"
    },
    "tags": []
   },
   "source": [
    "### Try LinearSVC with GridSearchCV  "
   ]
  },
  {
   "cell_type": "code",
   "execution_count": 136,
   "id": "08a5cdfe",
   "metadata": {
    "execution": {
     "iopub.execute_input": "2023-08-13T06:09:57.924275Z",
     "iopub.status.busy": "2023-08-13T06:09:57.923535Z",
     "iopub.status.idle": "2023-08-13T06:09:57.927878Z",
     "shell.execute_reply": "2023-08-13T06:09:57.927022Z"
    },
    "papermill": {
     "duration": 0.12272,
     "end_time": "2023-08-13T06:09:57.930060",
     "exception": false,
     "start_time": "2023-08-13T06:09:57.807340",
     "status": "completed"
    },
    "tags": []
   },
   "outputs": [],
   "source": [
    "# all_dict = {'cat': [\"isFrequentReviewer\", \"rating\", \"originalLanguage\"],\n",
    "#              'num': [\"audienceScore\", \"runtimeMinutes\", \"boxOffice\"],\n",
    "#              'txt': ['reviewText', 'reviewerName', 'movieid', 'genre', 'director']}\n",
    "\n",
    "# param_grid_svc = {\n",
    "#     \"model__C\": [0.1, 1, 10, 100]\n",
    "# }\n",
    "# param_grid_svc"
   ]
  },
  {
   "cell_type": "code",
   "execution_count": 137,
   "id": "4b2c3416",
   "metadata": {
    "execution": {
     "iopub.execute_input": "2023-08-13T06:09:58.163608Z",
     "iopub.status.busy": "2023-08-13T06:09:58.163154Z",
     "iopub.status.idle": "2023-08-13T06:09:58.168219Z",
     "shell.execute_reply": "2023-08-13T06:09:58.166979Z"
    },
    "papermill": {
     "duration": 0.126088,
     "end_time": "2023-08-13T06:09:58.170803",
     "exception": false,
     "start_time": "2023-08-13T06:09:58.044715",
     "status": "completed"
    },
    "tags": []
   },
   "outputs": [],
   "source": [
    "# LinearSCV on single feature  \n",
    "\n",
    "# submit_v4(selected_model=LinearSVC(max_iter=100000, random_state=42), selected_features={'num': [\"audienceScore\"]}, param_grid=param_grid_svc)\n",
    "\n",
    "# Comment: LinearSVC even on single column feature set takes too long to converge."
   ]
  },
  {
   "cell_type": "code",
   "execution_count": 138,
   "id": "4b5a26c9",
   "metadata": {
    "execution": {
     "iopub.execute_input": "2023-08-13T06:09:58.409010Z",
     "iopub.status.busy": "2023-08-13T06:09:58.408174Z",
     "iopub.status.idle": "2023-08-13T06:09:58.412424Z",
     "shell.execute_reply": "2023-08-13T06:09:58.411557Z"
    },
    "papermill": {
     "duration": 0.126431,
     "end_time": "2023-08-13T06:09:58.414770",
     "exception": false,
     "start_time": "2023-08-13T06:09:58.288339",
     "status": "completed"
    },
    "tags": []
   },
   "outputs": [],
   "source": [
    "# LinearSCV on all available features\n",
    "\n",
    "# submit_v4(selected_model=LinearSVC(max_iter=100000, random_state=42), selected_features=all_dict, param_grid=param_grid_svc)\n",
    "\n",
    "# (Update): This took 66 mins to run and gave a public score of 0.84295 (lesser than logreg gridsearchcv wwhich gave 0.84441). Best C was 1.0.\n"
   ]
  },
  {
   "cell_type": "markdown",
   "id": "29e6a43b",
   "metadata": {
    "papermill": {
     "duration": 0.114656,
     "end_time": "2023-08-13T06:09:58.645667",
     "exception": false,
     "start_time": "2023-08-13T06:09:58.531011",
     "status": "completed"
    },
    "tags": []
   },
   "source": [
    "### Boosting techniques  "
   ]
  },
  {
   "cell_type": "code",
   "execution_count": 139,
   "id": "306b3c59",
   "metadata": {
    "execution": {
     "iopub.execute_input": "2023-08-13T06:09:58.878651Z",
     "iopub.status.busy": "2023-08-13T06:09:58.877917Z",
     "iopub.status.idle": "2023-08-13T06:09:58.882574Z",
     "shell.execute_reply": "2023-08-13T06:09:58.881405Z"
    },
    "papermill": {
     "duration": 0.122625,
     "end_time": "2023-08-13T06:09:58.885040",
     "exception": false,
     "start_time": "2023-08-13T06:09:58.762415",
     "status": "completed"
    },
    "tags": []
   },
   "outputs": [],
   "source": [
    "# adc = AdaBoostClassifier(estimator=LogisticRegression(C=5, solver=\"saga\", max_iter=100000), n_estimators=50)\n",
    "# adc"
   ]
  },
  {
   "cell_type": "code",
   "execution_count": 140,
   "id": "fa2e003d",
   "metadata": {
    "execution": {
     "iopub.execute_input": "2023-08-13T06:09:59.126579Z",
     "iopub.status.busy": "2023-08-13T06:09:59.125671Z",
     "iopub.status.idle": "2023-08-13T06:09:59.132057Z",
     "shell.execute_reply": "2023-08-13T06:09:59.130712Z"
    },
    "papermill": {
     "duration": 0.132057,
     "end_time": "2023-08-13T06:09:59.135588",
     "exception": false,
     "start_time": "2023-08-13T06:09:59.003531",
     "status": "completed"
    },
    "tags": []
   },
   "outputs": [],
   "source": [
    "# submit_v4(selected_model=adc, selected_features={'num': [\"audienceScore\"]}, param_grid=None)"
   ]
  },
  {
   "cell_type": "code",
   "execution_count": 141,
   "id": "68c9a35e",
   "metadata": {
    "execution": {
     "iopub.execute_input": "2023-08-13T06:09:59.382920Z",
     "iopub.status.busy": "2023-08-13T06:09:59.382139Z",
     "iopub.status.idle": "2023-08-13T06:09:59.387237Z",
     "shell.execute_reply": "2023-08-13T06:09:59.385954Z"
    },
    "papermill": {
     "duration": 0.12766,
     "end_time": "2023-08-13T06:09:59.389854",
     "exception": false,
     "start_time": "2023-08-13T06:09:59.262194",
     "status": "completed"
    },
    "tags": []
   },
   "outputs": [],
   "source": [
    "# submit_v4(selected_model=adc, selected_features=all_dict, param_grid=None)\n",
    "\n",
    "# Took 1 hour 15 mins to run and gave a public score of only 0.71089. Discarded."
   ]
  },
  {
   "cell_type": "markdown",
   "id": "575bf595",
   "metadata": {
    "papermill": {
     "duration": 0.11503,
     "end_time": "2023-08-13T06:09:59.620667",
     "exception": false,
     "start_time": "2023-08-13T06:09:59.505637",
     "status": "completed"
    },
    "tags": []
   },
   "source": [
    "### LightGBM  "
   ]
  },
  {
   "cell_type": "code",
   "execution_count": 142,
   "id": "0d64424a",
   "metadata": {
    "execution": {
     "iopub.execute_input": "2023-08-13T06:09:59.855868Z",
     "iopub.status.busy": "2023-08-13T06:09:59.855145Z",
     "iopub.status.idle": "2023-08-13T06:09:59.859256Z",
     "shell.execute_reply": "2023-08-13T06:09:59.858290Z"
    },
    "papermill": {
     "duration": 0.124083,
     "end_time": "2023-08-13T06:09:59.861512",
     "exception": false,
     "start_time": "2023-08-13T06:09:59.737429",
     "status": "completed"
    },
    "tags": []
   },
   "outputs": [],
   "source": [
    "# lgb = ltb.LGBMClassifier()\n",
    "# lgb"
   ]
  },
  {
   "cell_type": "code",
   "execution_count": 143,
   "id": "5a135c13",
   "metadata": {
    "execution": {
     "iopub.execute_input": "2023-08-13T06:10:00.097531Z",
     "iopub.status.busy": "2023-08-13T06:10:00.096709Z",
     "iopub.status.idle": "2023-08-13T06:10:00.101272Z",
     "shell.execute_reply": "2023-08-13T06:10:00.100260Z"
    },
    "papermill": {
     "duration": 0.126282,
     "end_time": "2023-08-13T06:10:00.103879",
     "exception": false,
     "start_time": "2023-08-13T06:09:59.977597",
     "status": "completed"
    },
    "tags": []
   },
   "outputs": [],
   "source": [
    "# Try LightGBM with default settings\n",
    "# (Update): Public score only 0.77713. It was fast, took less than 5 mins (without GridSearchCV)\n",
    "\n",
    "# submit_v4(selected_model=ltb.LGBMClassifier(), selected_features=all_dict, param_grid=None)"
   ]
  },
  {
   "cell_type": "markdown",
   "id": "4ce4116d",
   "metadata": {
    "papermill": {
     "duration": 0.116988,
     "end_time": "2023-08-13T06:10:00.338921",
     "exception": false,
     "start_time": "2023-08-13T06:10:00.221933",
     "status": "completed"
    },
    "tags": []
   },
   "source": [
    "## Feature Engineering"
   ]
  },
  {
   "cell_type": "markdown",
   "id": "3a47f053",
   "metadata": {
    "papermill": {
     "duration": 0.114585,
     "end_time": "2023-08-13T06:10:00.571100",
     "exception": false,
     "start_time": "2023-08-13T06:10:00.456515",
     "status": "completed"
    },
    "tags": []
   },
   "source": [
    "### Plan  \n",
    "* Add a new column 'reviewWC' which has word count of 'reviewText'  \n",
    "    * Check if there is any relationship between 'reviewWC' and 'sentiment'\n",
    "* Work on vocabulary\n",
    "     * Use TfidfVectorizer and find out the vocabulary of 'reviewText' column for various ngrams\n",
    "     * Use RecursiveFeatureElimination (RFE) or RFECV to select 1000 top words/vocab for each ngram\n",
    "     * Use the final vocab (1000-3000 words) in the model and see how it performs compared to whole vocab\n",
    "\n",
    "`(Update): Code incorporated into the \"select_features\" function  `  \n",
    "`(Update): Many other new features incorporated into the \"select_features\" function too  `  \n",
    "\n"
   ]
  },
  {
   "cell_type": "markdown",
   "id": "e1478960",
   "metadata": {
    "papermill": {
     "duration": 0.114887,
     "end_time": "2023-08-13T06:10:00.800976",
     "exception": false,
     "start_time": "2023-08-13T06:10:00.686089",
     "status": "completed"
    },
    "tags": []
   },
   "source": [
    "# Back to vocab after success of version 63  "
   ]
  },
  {
   "cell_type": "code",
   "execution_count": 144,
   "id": "84fac4d9",
   "metadata": {
    "execution": {
     "iopub.execute_input": "2023-08-13T06:10:01.033569Z",
     "iopub.status.busy": "2023-08-13T06:10:01.032824Z",
     "iopub.status.idle": "2023-08-13T06:10:01.054719Z",
     "shell.execute_reply": "2023-08-13T06:10:01.053450Z"
    },
    "papermill": {
     "duration": 0.141481,
     "end_time": "2023-08-13T06:10:01.057556",
     "exception": false,
     "start_time": "2023-08-13T06:10:00.916075",
     "status": "completed"
    },
    "tags": []
   },
   "outputs": [],
   "source": [
    "def submit_v4(selected_model=LogisticRegression(C=1, solver='liblinear', max_iter=100000), \n",
    "              selected_features={'txt': ['reviewText']}, \n",
    "              param_grid=None,\n",
    "              vocab=None,\n",
    "              vocab_usage='tfidf',\n",
    "              strip_accents='unicode', \n",
    "              add_countvec=False):\n",
    "    \n",
    "    print(\"\\nRunning the submit_v4 function...\")\n",
    "    \n",
    "    # Fine tune selected_features\n",
    "    if add_countvec:\n",
    "        if 'txt' in selected_features.keys():\n",
    "            if \"reviewText_2\" not in selected_features['txt']:\n",
    "                selected_features['txt'].append('reviewText_2')\n",
    "    if vocab:\n",
    "        if 'txt' in selected_features.keys():\n",
    "            if \"reviewText_3\" not in selected_features['txt']:\n",
    "                selected_features['txt'].append('reviewText_3')\n",
    "    print(f\"\\nSelected features: {selected_features}\")\n",
    "\n",
    "    \n",
    "    \n",
    "    # Build Pipeline\n",
    "    pipe = build_pipeline(selected_model, selected_features, param_grid=param_grid, \n",
    "                          vocab=vocab, vocab_usage='tfidf', \n",
    "                          strip_accents=strip_accents, add_countvec=add_countvec)\n",
    "    print(pipe)\n",
    "\n",
    "    \n",
    "    \n",
    "    # Features list\n",
    "    features = []\n",
    "    for item in selected_features.values():\n",
    "        features.extend(item)\n",
    " \n",
    "\n",
    "    # Merge and preprocess train and movies data  \n",
    "    merged = select_features(load_csv(\"train\"), load_csv(\"movies\"), row_thresh_null=None)    # Decide if you want to drop any rows containing lot of nulls\n",
    "    # Impute missing numerical values  \n",
    "    # Simple Imputer for ['audienceScore', 'runtimeMinutes', 'boxOffice'] and 'releaseDate' columns\n",
    "    si = SimpleImputer(strategy='median')\n",
    "    merged[['audienceScore', 'runtimeMinutes', 'boxOffice']] = si.fit_transform(merged[['audienceScore', 'runtimeMinutes', 'boxOffice']])\n",
    "    merged['releaseDate'] = merged[\"releaseDate\"].fillna(merged[\"releaseDate\"].median())    \n",
    "    # Add new columns as needed  \n",
    "    if add_countvec:\n",
    "        merged['reviewText_2'] = merged['reviewText']\n",
    "    if vocab:\n",
    "        merged['reviewText_3'] = merged['reviewText']\n",
    "        \n",
    "    X_train = merged.drop(labels=\"sentiment\", axis=1)\n",
    "    y_train = merged[\"sentiment\"]\n",
    "\n",
    "    X_train = X_train[features]\n",
    "    \n",
    "    \n",
    "    # Check1\n",
    "    print(\"\\nCheck 1 complete.\")\n",
    "    print(f\"Shape of X_train: {X_train.shape}\")\n",
    "    print(f\"Features in X_train: {X_train.columns}\")\n",
    "#     print(X_train.head())\n",
    "    \n",
    "    \n",
    "    # Fit \n",
    "    print(\"\\nTraining started with full pipeline...\")\n",
    "    pipe.fit(X_train, y_train)\n",
    "    \n",
    "    # Check2\n",
    "    print(\"\\nCheck 2 complete.\")\n",
    "    print(\"Details of the best model using full pipeline (GridSearchCV) on X_train: \")\n",
    "    print(f\"Best Params: {pipe.best_params_}\")\n",
    "    print(f\"Best Score: {pipe.best_score_}\")\n",
    "    \n",
    "    print(predict_on_missing_review_data(pipe, features, merged))    # Function defined above\n",
    "    \n",
    "        \n",
    "    # Predict on test.csv file\n",
    "    \n",
    "    # Merge and preprocess test and movies data  \n",
    "    merged_test = select_features(load_csv(\"test\"), load_csv(\"movies\"))\n",
    "    # Transform ['audienceScore', 'runtimeMinutes', 'boxOffice'] columns in merged_test using 'si' fitted on 'merged' df  \n",
    "    merged_test[['audienceScore', 'runtimeMinutes', 'boxOffice']] = si.transform(merged_test[['audienceScore', 'runtimeMinutes', 'boxOffice']])\n",
    "    # Fill 'releaseDate' column in 'merged_test' df with median from the train (merged) df  \n",
    "    merged_test['releaseDate'] = merged_test[\"releaseDate\"].fillna(merged[\"releaseDate\"].median())\n",
    "    # Add new columns as needed \n",
    "    if add_countvec:\n",
    "        merged_test['reviewText_2'] = merged_test['reviewText']\n",
    "    if vocab:\n",
    "        merged_test['reviewText_3'] = merged_test['reviewText']\n",
    "        \n",
    "    X_test = merged_test.copy()\n",
    "\n",
    "    X_test = X_test[features]\n",
    "    \n",
    "    \n",
    "    # Check3\n",
    "    print(\"\\nCheck 3 complete.\")\n",
    "    print(f\"Shape of X_test: {X_test.shape}\")\n",
    "    print(f\"Features in X_test: {X_test.columns}\")\n",
    "#     print(X_test.head())\n",
    "    \n",
    "    y_pred = pipe.predict(X_test)\n",
    "    \n",
    "    # Check4\n",
    "    print(\"\\nCheck 4 complete.\")\n",
    "#     cv_results_df = pd.DataFrame(pipe.cv_results_)\n",
    "    print(\"Details of the best model using full pipeline (GridSearchCV) on X_train: \")\n",
    "    print(f\"Best Estimator: {pipe.best_estimator_}\")\n",
    "    print(f\"Best Params: {pipe.best_params_}\")\n",
    "    print(f\"Best Score: {pipe.best_score_}\")\n",
    "    print(f\"Best Index: {pipe.best_index_}\")\n",
    "    print(f\"Refit Time: {pipe.refit_time_}\")\n",
    "#     print(f\"Shape of CV results dataframe: {cv_results_df.shape}\")\n",
    "    \n",
    "    pred_df = pd.DataFrame(y_pred)\n",
    "    pred_df.columns = [\"sentiment\"]\n",
    "    pred_df.index.name = \"id\"\n",
    "    pred_df.to_csv(\"submission.csv\")\n",
    "    \n",
    "    print(\"\\nSuccessfully created the submission file!!!\")\n",
    "    \n",
    "    return pipe.cv_results_"
   ]
  },
  {
   "cell_type": "code",
   "execution_count": 145,
   "id": "4ed5e6f5",
   "metadata": {
    "execution": {
     "iopub.execute_input": "2023-08-13T06:10:01.296286Z",
     "iopub.status.busy": "2023-08-13T06:10:01.295542Z",
     "iopub.status.idle": "2023-08-13T06:10:01.302876Z",
     "shell.execute_reply": "2023-08-13T06:10:01.301776Z"
    },
    "papermill": {
     "duration": 0.129752,
     "end_time": "2023-08-13T06:10:01.305421",
     "exception": false,
     "start_time": "2023-08-13T06:10:01.175669",
     "status": "completed"
    },
    "tags": []
   },
   "outputs": [
    {
     "data": {
      "text/plain": [
       "Index(['movieid', 'reviewerName', 'isFrequentReviewer', 'reviewText',\n",
       "       'sentiment', 'title', 'audienceScore', 'rating', 'ratingContents',\n",
       "       'releaseDateTheaters', 'releaseDateStreaming', 'runtimeMinutes',\n",
       "       'genre', 'originalLanguage', 'director', 'boxOffice', 'distributor',\n",
       "       'soundType', 'reviewYN', 'reviewWC', 'genreSorted', 'rcSorted',\n",
       "       'releaseDate', 'releaseYear', 'releaseMonth', 'releaseDiff'],\n",
       "      dtype='object')"
      ]
     },
     "execution_count": 145,
     "metadata": {},
     "output_type": "execute_result"
    }
   ],
   "source": [
    "merged.columns"
   ]
  },
  {
   "cell_type": "code",
   "execution_count": 146,
   "id": "7751fa8b",
   "metadata": {
    "execution": {
     "iopub.execute_input": "2023-08-13T06:10:01.541446Z",
     "iopub.status.busy": "2023-08-13T06:10:01.540690Z",
     "iopub.status.idle": "2023-08-13T06:10:01.551707Z",
     "shell.execute_reply": "2023-08-13T06:10:01.550499Z"
    },
    "papermill": {
     "duration": 0.131022,
     "end_time": "2023-08-13T06:10:01.554410",
     "exception": false,
     "start_time": "2023-08-13T06:10:01.423388",
     "status": "completed"
    },
    "tags": []
   },
   "outputs": [],
   "source": [
    "# Best #2\n",
    "v80_dict = {'cat': ['isFrequentReviewer', 'audScoreBins', 'boxOfficeBins'], \n",
    "                  'txt': ['reviewText', 'reviewerName', 'movieid', 'genre', 'director', \n",
    "                          'ratingContents', 'distributor']}\n",
    "# Best #1\n",
    "v88_dict = {'cat': ['isFrequentReviewer', 'audScoreBins', 'boxOfficeBins'],\n",
    "            'num': ['releaseDiff'],\n",
    "            'txt': ['reviewText', 'reviewerName', 'movieid', 'genre', 'director', \n",
    "                         'ratingContents', 'distributor']}\n",
    "\n",
    "v92_dict = {'cat': ['isFrequentReviewer', 'audScoreBins', 'boxOfficeBins', 'releaseDiffBins'],\n",
    "            'txt': ['reviewText', 'reviewerName', 'title', 'genre', 'director', \n",
    "                         'ratingContents', 'distributor']}\n",
    "\n",
    "# Best univariable datapoints dict\n",
    "best_uni_dict = {'cat': [\"isFrequentReviewer\", \"audScoreBins\"],\n",
    "                 'txt': ['reviewText','movieid', 'director', \"ratingContents\"]}\n",
    "\n",
    "# param_grids for LogisticRegression  \n",
    "\n",
    "# Best #1  \n",
    "# param_grid = {\n",
    "#     'model__C' : [1],\n",
    "#     'model__solver': ['saga'],\n",
    "#     \"model__fit_intercept\" : [True],\n",
    "#     \"model__dual\" : [False]\n",
    "#     }\n",
    "\n",
    "# working\n",
    "param_grid = {\n",
    "    'model__C' : [1],\n",
    "    'model__solver': ['saga'],\n",
    "    \"model__fit_intercept\" : [True],\n",
    "    \"model__dual\" : [False],\n",
    "#     \"model__class_weight\": ['balanced', None]\n",
    "}\n",
    "\n",
    "\n",
    "# param_grids for LinearSVC  \n",
    "\n",
    "# param_grid = {\n",
    "#     'model__C' : [1, 10, 20],\n",
    "#     'model__loss': ['hinge', 'squared_hinge'],\n",
    "#     \"model__fit_intercept\" : [True, False],\n",
    "# #     \"model__dual\" : [True, False] \n",
    "# }\n",
    "\n",
    "svm = LinearSVC(max_iter=10000, random_state=42)    # LinearSVC\n",
    "\n",
    "\n",
    "# Local testing\n",
    "# selected_mov = {'num': ['audienceScore', 'boxOffice', 'releaseDiff'], \n",
    "#                 'txt': ['movieid', 'genre', 'director', \n",
    "#                          'ratingContents', 'distributor']}\n",
    "# results = submit_v4(\n",
    "#             selected_features={'num': ['boxOffice']},\n",
    "#             add_countvec=False,\n",
    "#             vocab=None,\n",
    "#             vocab_usage='tfidf',\n",
    "#             param_grid=param_grid\n",
    "#          )\n",
    "\n",
    "# results = submit_v4(selected_model = DummyClassifier(strategy='constant', constant='NEGATIVE'),\n",
    "#             selected_features={'num': ['boxOffice']},\n",
    "#             add_countvec=False,\n",
    "#             vocab=None,\n",
    "#             vocab_usage='tfidf',\n",
    "#             param_grid={'model__strategy' : ['constant']}\n",
    "#          )\n",
    "\n",
    "# Main submission\n",
    "\n",
    "# results = submit_v4(\n",
    "#     selected_features=v88_dict,\n",
    "#     add_countvec=False,\n",
    "#     vocab=common_1_2_3_grams,\n",
    "#     vocab_usage='tfidf',\n",
    "#     param_grid=param_grid\n",
    "#     )\n",
    "\n",
    "# results"
   ]
  },
  {
   "cell_type": "markdown",
   "id": "fdf2e25f",
   "metadata": {
    "papermill": {
     "duration": 0.114046,
     "end_time": "2023-08-13T06:10:01.784587",
     "exception": false,
     "start_time": "2023-08-13T06:10:01.670541",
     "status": "completed"
    },
    "tags": []
   },
   "source": [
    "### ratingContents analysis  "
   ]
  },
  {
   "cell_type": "code",
   "execution_count": 147,
   "id": "db724741",
   "metadata": {
    "execution": {
     "iopub.execute_input": "2023-08-13T06:10:02.019082Z",
     "iopub.status.busy": "2023-08-13T06:10:02.018289Z",
     "iopub.status.idle": "2023-08-13T06:10:02.022643Z",
     "shell.execute_reply": "2023-08-13T06:10:02.021592Z"
    },
    "papermill": {
     "duration": 0.125593,
     "end_time": "2023-08-13T06:10:02.025105",
     "exception": false,
     "start_time": "2023-08-13T06:10:01.899512",
     "status": "completed"
    },
    "tags": []
   },
   "outputs": [],
   "source": [
    "# Try string split  \n",
    "# s = \"comedy, animation, adventure, fantasy\"\n",
    "# (\",\").join(sorted(s.split(\", \")))"
   ]
  },
  {
   "cell_type": "code",
   "execution_count": 148,
   "id": "9775da44",
   "metadata": {
    "execution": {
     "iopub.execute_input": "2023-08-13T06:10:02.261559Z",
     "iopub.status.busy": "2023-08-13T06:10:02.260996Z",
     "iopub.status.idle": "2023-08-13T06:10:02.266613Z",
     "shell.execute_reply": "2023-08-13T06:10:02.265345Z"
    },
    "papermill": {
     "duration": 0.127408,
     "end_time": "2023-08-13T06:10:02.269271",
     "exception": false,
     "start_time": "2023-08-13T06:10:02.141863",
     "status": "completed"
    },
    "tags": []
   },
   "outputs": [],
   "source": [
    "# ratingContents_analysis = merged[[\"ratingContents\", \"sentiment\"]].copy()\n",
    "# print(ratingContents_analysis.head())\n",
    "# ratingContents_analysis[\"rcSorted\"] = ratingContents_analysis[\"ratingContents\"].apply(lambda x: (\",\").join(sorted(x.strip(\"][\").split(\", \"))))\n",
    "# ratingContents_analysis[\"rcSorted\"] = ratingContents_analysis[\"rcSorted\"].apply(lambda x: re.sub(r\"'\", \"\", x))\n",
    "# ratingContents_analysis[\"rcSorted\"] = ratingContents_analysis[\"rcSorted\"].apply(lambda x: re.sub(r\"[/\\s]\", \"_\", x))\n",
    "# ratingContents_analysis.head(10)"
   ]
  },
  {
   "cell_type": "code",
   "execution_count": 149,
   "id": "a27ab883",
   "metadata": {
    "execution": {
     "iopub.execute_input": "2023-08-13T06:10:02.506457Z",
     "iopub.status.busy": "2023-08-13T06:10:02.505964Z",
     "iopub.status.idle": "2023-08-13T06:10:02.511024Z",
     "shell.execute_reply": "2023-08-13T06:10:02.509832Z"
    },
    "papermill": {
     "duration": 0.125594,
     "end_time": "2023-08-13T06:10:02.513395",
     "exception": false,
     "start_time": "2023-08-13T06:10:02.387801",
     "status": "completed"
    },
    "tags": []
   },
   "outputs": [],
   "source": [
    "# cvec_rc = CountVectorizer(ngram_range=(1,1))\n",
    "# cvec_rc.fit(ratingContents_analysis['rcSorted'])\n",
    "# # len(cvec_rc.vocabulary_), cvec_rc.vocabulary_"
   ]
  },
  {
   "cell_type": "code",
   "execution_count": 150,
   "id": "96f0abc8",
   "metadata": {
    "execution": {
     "iopub.execute_input": "2023-08-13T06:10:02.812005Z",
     "iopub.status.busy": "2023-08-13T06:10:02.811565Z",
     "iopub.status.idle": "2023-08-13T06:10:02.816302Z",
     "shell.execute_reply": "2023-08-13T06:10:02.815200Z"
    },
    "papermill": {
     "duration": 0.123432,
     "end_time": "2023-08-13T06:10:02.819124",
     "exception": false,
     "start_time": "2023-08-13T06:10:02.695692",
     "status": "completed"
    },
    "tags": []
   },
   "outputs": [],
   "source": [
    "# genre_testing = cvec_g.transform(merged[\"genre\"])\n",
    "# print(genre_testing)"
   ]
  },
  {
   "cell_type": "markdown",
   "id": "f365ad2f",
   "metadata": {
    "papermill": {
     "duration": 0.117719,
     "end_time": "2023-08-13T06:10:03.053220",
     "exception": false,
     "start_time": "2023-08-13T06:10:02.935501",
     "status": "completed"
    },
    "tags": []
   },
   "source": [
    "## Statistical tests  "
   ]
  },
  {
   "cell_type": "markdown",
   "id": "9b5be72c",
   "metadata": {
    "papermill": {
     "duration": 0.115673,
     "end_time": "2023-08-13T06:10:03.284260",
     "exception": false,
     "start_time": "2023-08-13T06:10:03.168587",
     "status": "completed"
    },
    "tags": []
   },
   "source": [
    "[Go to genre](#genre_analysis)"
   ]
  },
  {
   "cell_type": "code",
   "execution_count": 151,
   "id": "61593717",
   "metadata": {
    "execution": {
     "iopub.execute_input": "2023-08-13T06:10:03.519451Z",
     "iopub.status.busy": "2023-08-13T06:10:03.518970Z",
     "iopub.status.idle": "2023-08-13T06:10:03.524620Z",
     "shell.execute_reply": "2023-08-13T06:10:03.523141Z"
    },
    "papermill": {
     "duration": 0.124569,
     "end_time": "2023-08-13T06:10:03.527119",
     "exception": false,
     "start_time": "2023-08-13T06:10:03.402550",
     "status": "completed"
    },
    "tags": []
   },
   "outputs": [],
   "source": [
    "# print(merged['boxOffice'].head())\n",
    "# merged[\"boxOffice\"].describe()"
   ]
  },
  {
   "cell_type": "code",
   "execution_count": 152,
   "id": "8ff82ca8",
   "metadata": {
    "execution": {
     "iopub.execute_input": "2023-08-13T06:10:03.759040Z",
     "iopub.status.busy": "2023-08-13T06:10:03.758598Z",
     "iopub.status.idle": "2023-08-13T06:10:03.764040Z",
     "shell.execute_reply": "2023-08-13T06:10:03.762750Z"
    },
    "papermill": {
     "duration": 0.124155,
     "end_time": "2023-08-13T06:10:03.766355",
     "exception": false,
     "start_time": "2023-08-13T06:10:03.642200",
     "status": "completed"
    },
    "tags": []
   },
   "outputs": [],
   "source": [
    "# Function for independent samples t-test on numerical columns  \n",
    "# def ttest_ind(feature):\n",
    "#     pos_grp = merged[feature].loc[merged['sentiment'] == \"POSITIVE\"]\n",
    "#     neg_grp = merged[feature].loc[merged['sentiment'] == \"NEGATIVE\"]\n",
    "\n",
    "#     print(pos_grp.shape, neg_grp.shape)\n",
    "#     print(pos_grp.describe(), neg_grp.describe())\n",
    "\n",
    "#     return stats.ttest_ind(pos_grp, neg_grp)"
   ]
  },
  {
   "cell_type": "code",
   "execution_count": 153,
   "id": "85e345e6",
   "metadata": {
    "execution": {
     "iopub.execute_input": "2023-08-13T06:10:03.999552Z",
     "iopub.status.busy": "2023-08-13T06:10:03.999052Z",
     "iopub.status.idle": "2023-08-13T06:10:04.004188Z",
     "shell.execute_reply": "2023-08-13T06:10:04.002797Z"
    },
    "papermill": {
     "duration": 0.124557,
     "end_time": "2023-08-13T06:10:04.006675",
     "exception": false,
     "start_time": "2023-08-13T06:10:03.882118",
     "status": "completed"
    },
    "tags": []
   },
   "outputs": [],
   "source": [
    "# ttest_ind('boxOffice')"
   ]
  },
  {
   "cell_type": "code",
   "execution_count": 154,
   "id": "e5651126",
   "metadata": {
    "execution": {
     "iopub.execute_input": "2023-08-13T06:10:04.245512Z",
     "iopub.status.busy": "2023-08-13T06:10:04.244773Z",
     "iopub.status.idle": "2023-08-13T06:10:04.249780Z",
     "shell.execute_reply": "2023-08-13T06:10:04.248597Z"
    },
    "papermill": {
     "duration": 0.128425,
     "end_time": "2023-08-13T06:10:04.252457",
     "exception": false,
     "start_time": "2023-08-13T06:10:04.124032",
     "status": "completed"
    },
    "tags": []
   },
   "outputs": [],
   "source": [
    "# ttest_ind('runtimeMinutes')"
   ]
  },
  {
   "cell_type": "code",
   "execution_count": 155,
   "id": "e4c227cf",
   "metadata": {
    "execution": {
     "iopub.execute_input": "2023-08-13T06:10:04.486038Z",
     "iopub.status.busy": "2023-08-13T06:10:04.485650Z",
     "iopub.status.idle": "2023-08-13T06:10:04.490216Z",
     "shell.execute_reply": "2023-08-13T06:10:04.489298Z"
    },
    "papermill": {
     "duration": 0.122342,
     "end_time": "2023-08-13T06:10:04.492410",
     "exception": false,
     "start_time": "2023-08-13T06:10:04.370068",
     "status": "completed"
    },
    "tags": []
   },
   "outputs": [],
   "source": [
    "# ttest_ind('audienceScore')"
   ]
  },
  {
   "cell_type": "code",
   "execution_count": 156,
   "id": "03167ec7",
   "metadata": {
    "execution": {
     "iopub.execute_input": "2023-08-13T06:10:04.724129Z",
     "iopub.status.busy": "2023-08-13T06:10:04.723192Z",
     "iopub.status.idle": "2023-08-13T06:10:04.728392Z",
     "shell.execute_reply": "2023-08-13T06:10:04.727485Z"
    },
    "papermill": {
     "duration": 0.123126,
     "end_time": "2023-08-13T06:10:04.730630",
     "exception": false,
     "start_time": "2023-08-13T06:10:04.607504",
     "status": "completed"
    },
    "tags": []
   },
   "outputs": [],
   "source": [
    "# sns.boxplot(x=merged['sentiment'], y=merged['boxOffice'])"
   ]
  },
  {
   "cell_type": "markdown",
   "id": "1e200194",
   "metadata": {
    "papermill": {
     "duration": 0.113801,
     "end_time": "2023-08-13T06:10:04.958845",
     "exception": false,
     "start_time": "2023-08-13T06:10:04.845044",
     "status": "completed"
    },
    "tags": []
   },
   "source": [
    "## <div id='genre_analysis'>Genre analysis</div>"
   ]
  },
  {
   "cell_type": "code",
   "execution_count": 157,
   "id": "669f1821",
   "metadata": {
    "execution": {
     "iopub.execute_input": "2023-08-13T06:10:05.191782Z",
     "iopub.status.busy": "2023-08-13T06:10:05.190860Z",
     "iopub.status.idle": "2023-08-13T06:10:05.196144Z",
     "shell.execute_reply": "2023-08-13T06:10:05.194977Z"
    },
    "papermill": {
     "duration": 0.124338,
     "end_time": "2023-08-13T06:10:05.198398",
     "exception": false,
     "start_time": "2023-08-13T06:10:05.074060",
     "status": "completed"
    },
    "tags": []
   },
   "outputs": [],
   "source": [
    "# genre_analysis = merged[[\"genre\", \"genreSorted\", \"sentiment\"]].copy()\n",
    "# # print(genre_analysis.head())\n",
    "# # genre_analysis[\"genre\"] = genre_analysis[\"genre\"].apply(lambda x: (\",\").join(sorted(x.split(\", \"))))\n",
    "# genre_analysis.head()"
   ]
  },
  {
   "cell_type": "code",
   "execution_count": 158,
   "id": "48f99f6d",
   "metadata": {
    "execution": {
     "iopub.execute_input": "2023-08-13T06:10:05.433853Z",
     "iopub.status.busy": "2023-08-13T06:10:05.433419Z",
     "iopub.status.idle": "2023-08-13T06:10:05.438073Z",
     "shell.execute_reply": "2023-08-13T06:10:05.436894Z"
    },
    "papermill": {
     "duration": 0.12661,
     "end_time": "2023-08-13T06:10:05.440558",
     "exception": false,
     "start_time": "2023-08-13T06:10:05.313948",
     "status": "completed"
    },
    "tags": []
   },
   "outputs": [],
   "source": [
    "# cvec_g = CountVectorizer(ngram_range=(1,3))\n",
    "# cvec_g.fit(genre_analysis['genre'])\n",
    "# # len(cvec_g.vocabulary_), cvec_g.vocabulary_"
   ]
  },
  {
   "cell_type": "code",
   "execution_count": 159,
   "id": "eb38c0d4",
   "metadata": {
    "execution": {
     "iopub.execute_input": "2023-08-13T06:10:05.673137Z",
     "iopub.status.busy": "2023-08-13T06:10:05.671966Z",
     "iopub.status.idle": "2023-08-13T06:10:05.676919Z",
     "shell.execute_reply": "2023-08-13T06:10:05.676035Z"
    },
    "papermill": {
     "duration": 0.123174,
     "end_time": "2023-08-13T06:10:05.679176",
     "exception": false,
     "start_time": "2023-08-13T06:10:05.556002",
     "status": "completed"
    },
    "tags": []
   },
   "outputs": [],
   "source": [
    "# cvec_gSorted = CountVectorizer(ngram_range=(1,3))\n",
    "# cvec_gSorted.fit(genre_analysis['genreSorted'])\n",
    "# len(cvec_gSorted.vocabulary_), cvec_gSorted.vocabulary_"
   ]
  },
  {
   "cell_type": "code",
   "execution_count": 160,
   "id": "34930bfb",
   "metadata": {
    "execution": {
     "iopub.execute_input": "2023-08-13T06:10:05.913999Z",
     "iopub.status.busy": "2023-08-13T06:10:05.913109Z",
     "iopub.status.idle": "2023-08-13T06:10:05.917813Z",
     "shell.execute_reply": "2023-08-13T06:10:05.916937Z"
    },
    "papermill": {
     "duration": 0.124855,
     "end_time": "2023-08-13T06:10:05.920017",
     "exception": false,
     "start_time": "2023-08-13T06:10:05.795162",
     "status": "completed"
    },
    "tags": []
   },
   "outputs": [],
   "source": [
    "# genre_testing = cvec_g.transform(merged[\"genre\"])\n",
    "# # print(genre_testing)"
   ]
  },
  {
   "cell_type": "code",
   "execution_count": 161,
   "id": "37698fee",
   "metadata": {
    "execution": {
     "iopub.execute_input": "2023-08-13T06:10:06.154175Z",
     "iopub.status.busy": "2023-08-13T06:10:06.152774Z",
     "iopub.status.idle": "2023-08-13T06:10:06.157795Z",
     "shell.execute_reply": "2023-08-13T06:10:06.156850Z"
    },
    "papermill": {
     "duration": 0.125545,
     "end_time": "2023-08-13T06:10:06.160373",
     "exception": false,
     "start_time": "2023-08-13T06:10:06.034828",
     "status": "completed"
    },
    "tags": []
   },
   "outputs": [],
   "source": [
    "# genre_counts_testing = merged[[\"genre\", \"sentiment\"]].copy()\n",
    "# genre_counts_testing[\"gCount\"] = genre_counts_testing.apply(lambda x: len(str(x[\"genre\"]).split()), axis=1)\n",
    "# genre_counts_testing"
   ]
  },
  {
   "cell_type": "code",
   "execution_count": 162,
   "id": "f28de32d",
   "metadata": {
    "execution": {
     "iopub.execute_input": "2023-08-13T06:10:06.398683Z",
     "iopub.status.busy": "2023-08-13T06:10:06.398244Z",
     "iopub.status.idle": "2023-08-13T06:10:06.403273Z",
     "shell.execute_reply": "2023-08-13T06:10:06.402214Z"
    },
    "papermill": {
     "duration": 0.128149,
     "end_time": "2023-08-13T06:10:06.405654",
     "exception": false,
     "start_time": "2023-08-13T06:10:06.277505",
     "status": "completed"
    },
    "tags": []
   },
   "outputs": [],
   "source": [
    "# sns.boxplot(y=genre_counts_testing[\"gCount\"], x=genre_counts_testing[\"sentiment\"])"
   ]
  },
  {
   "cell_type": "code",
   "execution_count": 163,
   "id": "b18cce48",
   "metadata": {
    "execution": {
     "iopub.execute_input": "2023-08-13T06:10:06.637883Z",
     "iopub.status.busy": "2023-08-13T06:10:06.637441Z",
     "iopub.status.idle": "2023-08-13T06:10:06.642593Z",
     "shell.execute_reply": "2023-08-13T06:10:06.641285Z"
    },
    "papermill": {
     "duration": 0.124357,
     "end_time": "2023-08-13T06:10:06.645242",
     "exception": false,
     "start_time": "2023-08-13T06:10:06.520885",
     "status": "completed"
    },
    "tags": []
   },
   "outputs": [],
   "source": [
    "# sns.boxplot(y=merged[\"reviewWC\"], x=merged[\"sentiment\"])"
   ]
  },
  {
   "cell_type": "code",
   "execution_count": 164,
   "id": "8cf3c0a3",
   "metadata": {
    "execution": {
     "iopub.execute_input": "2023-08-13T06:10:06.879712Z",
     "iopub.status.busy": "2023-08-13T06:10:06.879281Z",
     "iopub.status.idle": "2023-08-13T06:10:06.884090Z",
     "shell.execute_reply": "2023-08-13T06:10:06.882904Z"
    },
    "papermill": {
     "duration": 0.124503,
     "end_time": "2023-08-13T06:10:06.886453",
     "exception": false,
     "start_time": "2023-08-13T06:10:06.761950",
     "status": "completed"
    },
    "tags": []
   },
   "outputs": [],
   "source": [
    "# audienceScore bins\n",
    "# asc = merged[['audienceScore', 'sentiment']].copy()\n",
    "# asc.head()"
   ]
  },
  {
   "cell_type": "code",
   "execution_count": 165,
   "id": "74484c84",
   "metadata": {
    "execution": {
     "iopub.execute_input": "2023-08-13T06:10:07.120466Z",
     "iopub.status.busy": "2023-08-13T06:10:07.119988Z",
     "iopub.status.idle": "2023-08-13T06:10:07.124612Z",
     "shell.execute_reply": "2023-08-13T06:10:07.123377Z"
    },
    "papermill": {
     "duration": 0.124614,
     "end_time": "2023-08-13T06:10:07.127022",
     "exception": false,
     "start_time": "2023-08-13T06:10:07.002408",
     "status": "completed"
    },
    "tags": []
   },
   "outputs": [],
   "source": [
    "# Binning numerical features  \n",
    "\n",
    "# print(merged[\"runtimeBins\"].value_counts())\n",
    "# sns.displot(merged[\"runtimeBins\"])"
   ]
  },
  {
   "cell_type": "code",
   "execution_count": 166,
   "id": "13ea838b",
   "metadata": {
    "execution": {
     "iopub.execute_input": "2023-08-13T06:10:07.361281Z",
     "iopub.status.busy": "2023-08-13T06:10:07.360844Z",
     "iopub.status.idle": "2023-08-13T06:10:07.366018Z",
     "shell.execute_reply": "2023-08-13T06:10:07.364800Z"
    },
    "papermill": {
     "duration": 0.125405,
     "end_time": "2023-08-13T06:10:07.368358",
     "exception": false,
     "start_time": "2023-08-13T06:10:07.242953",
     "status": "completed"
    },
    "tags": []
   },
   "outputs": [],
   "source": [
    "# Chi-square test for isFrequentReviewer column and sentiment column   \n",
    "\n",
    "# contingency_table = pd.crosstab(traindf['isFrequentReviewer'], traindf['sentiment'])\n",
    "# print(contingency_table)\n",
    "# stats.chi2_contingency(contingency_table)"
   ]
  },
  {
   "cell_type": "markdown",
   "id": "3a4d7239",
   "metadata": {
    "papermill": {
     "duration": 0.11421,
     "end_time": "2023-08-13T06:10:07.599366",
     "exception": false,
     "start_time": "2023-08-13T06:10:07.485156",
     "status": "completed"
    },
    "tags": []
   },
   "source": [
    "## Baseline performance of 'reviewText' column  "
   ]
  },
  {
   "cell_type": "code",
   "execution_count": 167,
   "id": "51a76caa",
   "metadata": {
    "execution": {
     "iopub.execute_input": "2023-08-13T06:10:07.830638Z",
     "iopub.status.busy": "2023-08-13T06:10:07.830195Z",
     "iopub.status.idle": "2023-08-13T06:10:07.834041Z",
     "shell.execute_reply": "2023-08-13T06:10:07.833234Z"
    },
    "papermill": {
     "duration": 0.122407,
     "end_time": "2023-08-13T06:10:07.836122",
     "exception": false,
     "start_time": "2023-08-13T06:10:07.713715",
     "status": "completed"
    },
    "tags": []
   },
   "outputs": [],
   "source": [
    "# rt_dict = {'txt': ['reviewText']}\n",
    "# rt_dict"
   ]
  },
  {
   "cell_type": "code",
   "execution_count": 168,
   "id": "8c94dbac",
   "metadata": {
    "execution": {
     "iopub.execute_input": "2023-08-13T06:10:08.069811Z",
     "iopub.status.busy": "2023-08-13T06:10:08.069351Z",
     "iopub.status.idle": "2023-08-13T06:10:08.074384Z",
     "shell.execute_reply": "2023-08-13T06:10:08.073236Z"
    },
    "papermill": {
     "duration": 0.124949,
     "end_time": "2023-08-13T06:10:08.077045",
     "exception": false,
     "start_time": "2023-08-13T06:10:07.952096",
     "status": "completed"
    },
    "tags": []
   },
   "outputs": [],
   "source": [
    "# submit_v4(selected_model=LogisticRegression(C=5, solver=\"saga\", max_iter=100000),\n",
    "#           selected_features=rt_dict,\n",
    "#           param_grid=None,\n",
    "#           vocab=None)"
   ]
  },
  {
   "cell_type": "markdown",
   "id": "1bf0ab30",
   "metadata": {
    "papermill": {
     "duration": 0.18847,
     "end_time": "2023-08-13T06:10:08.382229",
     "exception": false,
     "start_time": "2023-08-13T06:10:08.193759",
     "status": "completed"
    },
    "tags": []
   },
   "source": [
    "## RFE  "
   ]
  },
  {
   "cell_type": "code",
   "execution_count": 169,
   "id": "cb4627dc",
   "metadata": {
    "execution": {
     "iopub.execute_input": "2023-08-13T06:10:08.613730Z",
     "iopub.status.busy": "2023-08-13T06:10:08.613273Z",
     "iopub.status.idle": "2023-08-13T06:10:08.619340Z",
     "shell.execute_reply": "2023-08-13T06:10:08.618041Z"
    },
    "papermill": {
     "duration": 0.124095,
     "end_time": "2023-08-13T06:10:08.621705",
     "exception": false,
     "start_time": "2023-08-13T06:10:08.497610",
     "status": "completed"
    },
    "tags": []
   },
   "outputs": [],
   "source": [
    "# def fs_rfe(selector, text_df, labels, ngram_range=(1,1)):\n",
    "#     text_df_ngram = TfidfVectorizer(ngram_range=ngram_range, stop_words='english').fit_transform(text_df)\n",
    "#     print(\"text_df was vectorized using TF-IDF vectorizer with ngram_range: \", ngram_range)\n",
    "#     print(\"text_df.shape: \", text_df.shape)\n",
    "#     print(\"labels.shape: \", labels.shape)\n",
    "#     print(\"text_df_ngram.shape: \", text_df_ngram.shape)\n",
    "#     print()\n",
    "\n",
    "#     print(\"Starting RFE fit...\")\n",
    "#     selector.fit(text_df_ngram, labels)\n",
    "#     print(\"RFE fit complete.\\n\")\n",
    "    \n",
    "#     print(\"selector.n_features_: \", selector.n_features_)   \n",
    "#     print(\"selector.n_features_in_: \", selector.n_features_in_)\n",
    "#     print(\"selector.support_.shape: \", selector.support_.shape)\n",
    "\n",
    "#     return selector.support_"
   ]
  },
  {
   "cell_type": "markdown",
   "id": "fc69566b",
   "metadata": {
    "papermill": {
     "duration": 0.115973,
     "end_time": "2023-08-13T06:10:08.853571",
     "exception": false,
     "start_time": "2023-08-13T06:10:08.737598",
     "status": "completed"
    },
    "tags": []
   },
   "source": [
    "`RFE for unigrams`  "
   ]
  },
  {
   "cell_type": "code",
   "execution_count": 170,
   "id": "fa909a20",
   "metadata": {
    "execution": {
     "iopub.execute_input": "2023-08-13T06:10:09.089370Z",
     "iopub.status.busy": "2023-08-13T06:10:09.088895Z",
     "iopub.status.idle": "2023-08-13T06:10:09.094043Z",
     "shell.execute_reply": "2023-08-13T06:10:09.092358Z"
    },
    "papermill": {
     "duration": 0.125164,
     "end_time": "2023-08-13T06:10:09.097121",
     "exception": false,
     "start_time": "2023-08-13T06:10:08.971957",
     "status": "completed"
    },
    "tags": []
   },
   "outputs": [],
   "source": [
    "# estimator_rfe_1 = LogisticRegression(solver='saga', max_iter=100000)\n",
    "# selector_rfe_1 = RFE(estimator_rfe_1, step=0.1, n_features_to_select=30000)"
   ]
  },
  {
   "cell_type": "code",
   "execution_count": 171,
   "id": "aec45e6d",
   "metadata": {
    "execution": {
     "iopub.execute_input": "2023-08-13T06:10:09.354774Z",
     "iopub.status.busy": "2023-08-13T06:10:09.354335Z",
     "iopub.status.idle": "2023-08-13T06:10:09.359661Z",
     "shell.execute_reply": "2023-08-13T06:10:09.358302Z"
    },
    "papermill": {
     "duration": 0.131538,
     "end_time": "2023-08-13T06:10:09.362380",
     "exception": false,
     "start_time": "2023-08-13T06:10:09.230842",
     "status": "completed"
    },
    "tags": []
   },
   "outputs": [],
   "source": [
    "# rfe_1_feat_mask = fs_rfe(selector_rfe_1, rt_senti[\"reviewText\"], rt_senti[\"sentiment\"], ngram_range=(1,1))\n",
    "# rfe_1_feat_mask"
   ]
  },
  {
   "cell_type": "code",
   "execution_count": 172,
   "id": "232e903a",
   "metadata": {
    "execution": {
     "iopub.execute_input": "2023-08-13T06:10:09.611637Z",
     "iopub.status.busy": "2023-08-13T06:10:09.610506Z",
     "iopub.status.idle": "2023-08-13T06:10:09.616559Z",
     "shell.execute_reply": "2023-08-13T06:10:09.615127Z"
    },
    "papermill": {
     "duration": 0.13602,
     "end_time": "2023-08-13T06:10:09.619136",
     "exception": false,
     "start_time": "2023-08-13T06:10:09.483116",
     "status": "completed"
    },
    "tags": []
   },
   "outputs": [],
   "source": [
    "# voc_1gram_rfe = list(compress(voc_1gram, rfe_1_feat_mask))\n",
    "# len(voc_1gram_rfe), voc_1gram_rfe[:10]"
   ]
  },
  {
   "cell_type": "markdown",
   "id": "990aabcb",
   "metadata": {
    "papermill": {
     "duration": 0.124481,
     "end_time": "2023-08-13T06:10:09.863523",
     "exception": false,
     "start_time": "2023-08-13T06:10:09.739042",
     "status": "completed"
    },
    "tags": []
   },
   "source": [
    "`RFE for bigrams`  "
   ]
  },
  {
   "cell_type": "code",
   "execution_count": 173,
   "id": "2eb437e7",
   "metadata": {
    "execution": {
     "iopub.execute_input": "2023-08-13T06:10:10.104287Z",
     "iopub.status.busy": "2023-08-13T06:10:10.103878Z",
     "iopub.status.idle": "2023-08-13T06:10:10.109344Z",
     "shell.execute_reply": "2023-08-13T06:10:10.108003Z"
    },
    "papermill": {
     "duration": 0.127323,
     "end_time": "2023-08-13T06:10:10.111813",
     "exception": false,
     "start_time": "2023-08-13T06:10:09.984490",
     "status": "completed"
    },
    "tags": []
   },
   "outputs": [],
   "source": [
    "# estimator_rfe_2 = LogisticRegression(solver='saga', max_iter=100000)\n",
    "# selector_rfe_2 = RFE(estimator_rfe_2, step=0.1, n_features_to_select=50000)"
   ]
  },
  {
   "cell_type": "code",
   "execution_count": 174,
   "id": "e68a989f",
   "metadata": {
    "execution": {
     "iopub.execute_input": "2023-08-13T06:10:10.349803Z",
     "iopub.status.busy": "2023-08-13T06:10:10.349252Z",
     "iopub.status.idle": "2023-08-13T06:10:10.354382Z",
     "shell.execute_reply": "2023-08-13T06:10:10.353236Z"
    },
    "papermill": {
     "duration": 0.127532,
     "end_time": "2023-08-13T06:10:10.356703",
     "exception": false,
     "start_time": "2023-08-13T06:10:10.229171",
     "status": "completed"
    },
    "tags": []
   },
   "outputs": [],
   "source": [
    "# rfe_2_feat_mask = fs_rfe(selector_rfe_2, rt_senti[\"reviewText\"], rt_senti[\"sentiment\"], ngram_range=(2,2))\n",
    "# rfe_2_feat_mask"
   ]
  },
  {
   "cell_type": "code",
   "execution_count": 175,
   "id": "f2129a36",
   "metadata": {
    "execution": {
     "iopub.execute_input": "2023-08-13T06:10:10.596583Z",
     "iopub.status.busy": "2023-08-13T06:10:10.595806Z",
     "iopub.status.idle": "2023-08-13T06:10:10.599645Z",
     "shell.execute_reply": "2023-08-13T06:10:10.598889Z"
    },
    "papermill": {
     "duration": 0.125156,
     "end_time": "2023-08-13T06:10:10.601709",
     "exception": false,
     "start_time": "2023-08-13T06:10:10.476553",
     "status": "completed"
    },
    "tags": []
   },
   "outputs": [],
   "source": [
    "# voc_2gram_rfe = list(compress(voc_2gram, rfe_2_feat_mask))\n",
    "# len(voc_2gram_rfe), voc_2gram_rfe[:10]"
   ]
  },
  {
   "cell_type": "markdown",
   "id": "8792ae68",
   "metadata": {
    "papermill": {
     "duration": 0.116462,
     "end_time": "2023-08-13T06:10:10.833810",
     "exception": false,
     "start_time": "2023-08-13T06:10:10.717348",
     "status": "completed"
    },
    "tags": []
   },
   "source": [
    "## Final RFE-derived vocabulary  "
   ]
  },
  {
   "cell_type": "code",
   "execution_count": 176,
   "id": "8cdb7d47",
   "metadata": {
    "execution": {
     "iopub.execute_input": "2023-08-13T06:10:11.067790Z",
     "iopub.status.busy": "2023-08-13T06:10:11.066985Z",
     "iopub.status.idle": "2023-08-13T06:10:11.070973Z",
     "shell.execute_reply": "2023-08-13T06:10:11.070191Z"
    },
    "papermill": {
     "duration": 0.122983,
     "end_time": "2023-08-13T06:10:11.073161",
     "exception": false,
     "start_time": "2023-08-13T06:10:10.950178",
     "status": "completed"
    },
    "tags": []
   },
   "outputs": [],
   "source": [
    "# rfe_vocab = voc_1gram_rfe + voc_2gram_rfe\n",
    "# len(rfe_vocab), rfe_vocab[:10], rfe_vocab[-10:]"
   ]
  },
  {
   "cell_type": "code",
   "execution_count": 177,
   "id": "e469d15d",
   "metadata": {
    "execution": {
     "iopub.execute_input": "2023-08-13T06:10:11.309133Z",
     "iopub.status.busy": "2023-08-13T06:10:11.308297Z",
     "iopub.status.idle": "2023-08-13T06:10:11.313115Z",
     "shell.execute_reply": "2023-08-13T06:10:11.311760Z"
    },
    "papermill": {
     "duration": 0.124789,
     "end_time": "2023-08-13T06:10:11.315660",
     "exception": false,
     "start_time": "2023-08-13T06:10:11.190871",
     "status": "completed"
    },
    "tags": []
   },
   "outputs": [],
   "source": [
    "## Test RFE obtained vocabulary in final pipeline (only with reviewText)  \n",
    "# submit_v4(selected_model=LogisticRegression(C=5, solver=\"saga\", max_iter=100000),\n",
    "#           selected_features=rt_dict,\n",
    "#           param_grid=None,\n",
    "#           vocab=rfe_vocab)"
   ]
  },
  {
   "cell_type": "markdown",
   "id": "2acf6687",
   "metadata": {
    "papermill": {
     "duration": 0.116433,
     "end_time": "2023-08-13T06:10:11.550361",
     "exception": false,
     "start_time": "2023-08-13T06:10:11.433928",
     "status": "completed"
    },
    "tags": []
   },
   "source": [
    "## Use rfe_vocab in final pipeline with all params  "
   ]
  },
  {
   "cell_type": "code",
   "execution_count": 178,
   "id": "2ed7dc2e",
   "metadata": {
    "execution": {
     "iopub.execute_input": "2023-08-13T06:10:11.782254Z",
     "iopub.status.busy": "2023-08-13T06:10:11.781552Z",
     "iopub.status.idle": "2023-08-13T06:10:11.786055Z",
     "shell.execute_reply": "2023-08-13T06:10:11.784769Z"
    },
    "papermill": {
     "duration": 0.123179,
     "end_time": "2023-08-13T06:10:11.788302",
     "exception": false,
     "start_time": "2023-08-13T06:10:11.665123",
     "status": "completed"
    },
    "tags": []
   },
   "outputs": [],
   "source": [
    "# submit_v4(selected_model=LogisticRegression(max_iter=100000),\n",
    "#           selected_features=all_dict,\n",
    "#           param_grid=param_grid,\n",
    "#           vocab=rfe_vocab)"
   ]
  },
  {
   "cell_type": "code",
   "execution_count": 179,
   "id": "5fd0dcf1",
   "metadata": {
    "execution": {
     "iopub.execute_input": "2023-08-13T06:10:12.021839Z",
     "iopub.status.busy": "2023-08-13T06:10:12.020680Z",
     "iopub.status.idle": "2023-08-13T06:10:12.033219Z",
     "shell.execute_reply": "2023-08-13T06:10:12.032217Z"
    },
    "papermill": {
     "duration": 0.131447,
     "end_time": "2023-08-13T06:10:12.035665",
     "exception": false,
     "start_time": "2023-08-13T06:10:11.904218",
     "status": "completed"
    },
    "tags": []
   },
   "outputs": [
    {
     "data": {
      "text/html": [
       "<style>#sk-container-id-1 {color: black;background-color: white;}#sk-container-id-1 pre{padding: 0;}#sk-container-id-1 div.sk-toggleable {background-color: white;}#sk-container-id-1 label.sk-toggleable__label {cursor: pointer;display: block;width: 100%;margin-bottom: 0;padding: 0.3em;box-sizing: border-box;text-align: center;}#sk-container-id-1 label.sk-toggleable__label-arrow:before {content: \"▸\";float: left;margin-right: 0.25em;color: #696969;}#sk-container-id-1 label.sk-toggleable__label-arrow:hover:before {color: black;}#sk-container-id-1 div.sk-estimator:hover label.sk-toggleable__label-arrow:before {color: black;}#sk-container-id-1 div.sk-toggleable__content {max-height: 0;max-width: 0;overflow: hidden;text-align: left;background-color: #f0f8ff;}#sk-container-id-1 div.sk-toggleable__content pre {margin: 0.2em;color: black;border-radius: 0.25em;background-color: #f0f8ff;}#sk-container-id-1 input.sk-toggleable__control:checked~div.sk-toggleable__content {max-height: 200px;max-width: 100%;overflow: auto;}#sk-container-id-1 input.sk-toggleable__control:checked~label.sk-toggleable__label-arrow:before {content: \"▾\";}#sk-container-id-1 div.sk-estimator input.sk-toggleable__control:checked~label.sk-toggleable__label {background-color: #d4ebff;}#sk-container-id-1 div.sk-label input.sk-toggleable__control:checked~label.sk-toggleable__label {background-color: #d4ebff;}#sk-container-id-1 input.sk-hidden--visually {border: 0;clip: rect(1px 1px 1px 1px);clip: rect(1px, 1px, 1px, 1px);height: 1px;margin: -1px;overflow: hidden;padding: 0;position: absolute;width: 1px;}#sk-container-id-1 div.sk-estimator {font-family: monospace;background-color: #f0f8ff;border: 1px dotted black;border-radius: 0.25em;box-sizing: border-box;margin-bottom: 0.5em;}#sk-container-id-1 div.sk-estimator:hover {background-color: #d4ebff;}#sk-container-id-1 div.sk-parallel-item::after {content: \"\";width: 100%;border-bottom: 1px solid gray;flex-grow: 1;}#sk-container-id-1 div.sk-label:hover label.sk-toggleable__label {background-color: #d4ebff;}#sk-container-id-1 div.sk-serial::before {content: \"\";position: absolute;border-left: 1px solid gray;box-sizing: border-box;top: 0;bottom: 0;left: 50%;z-index: 0;}#sk-container-id-1 div.sk-serial {display: flex;flex-direction: column;align-items: center;background-color: white;padding-right: 0.2em;padding-left: 0.2em;position: relative;}#sk-container-id-1 div.sk-item {position: relative;z-index: 1;}#sk-container-id-1 div.sk-parallel {display: flex;align-items: stretch;justify-content: center;background-color: white;position: relative;}#sk-container-id-1 div.sk-item::before, #sk-container-id-1 div.sk-parallel-item::before {content: \"\";position: absolute;border-left: 1px solid gray;box-sizing: border-box;top: 0;bottom: 0;left: 50%;z-index: -1;}#sk-container-id-1 div.sk-parallel-item {display: flex;flex-direction: column;z-index: 1;position: relative;background-color: white;}#sk-container-id-1 div.sk-parallel-item:first-child::after {align-self: flex-end;width: 50%;}#sk-container-id-1 div.sk-parallel-item:last-child::after {align-self: flex-start;width: 50%;}#sk-container-id-1 div.sk-parallel-item:only-child::after {width: 0;}#sk-container-id-1 div.sk-dashed-wrapped {border: 1px dashed gray;margin: 0 0.4em 0.5em 0.4em;box-sizing: border-box;padding-bottom: 0.4em;background-color: white;}#sk-container-id-1 div.sk-label label {font-family: monospace;font-weight: bold;display: inline-block;line-height: 1.2em;}#sk-container-id-1 div.sk-label-container {text-align: center;}#sk-container-id-1 div.sk-container {/* jupyter's `normalize.less` sets `[hidden] { display: none; }` but bootstrap.min.css set `[hidden] { display: none !important; }` so we also need the `!important` here to be able to override the default hidden behavior on the sphinx rendered scikit-learn.org. See: https://github.com/scikit-learn/scikit-learn/issues/21755 */display: inline-block !important;position: relative;}#sk-container-id-1 div.sk-text-repr-fallback {display: none;}</style><div id=\"sk-container-id-1\" class=\"sk-top-container\"><div class=\"sk-text-repr-fallback\"><pre>AdaBoostClassifier(estimator=LogisticRegression(C=5, max_iter=100000,\n",
       "                                                solver=&#x27;saga&#x27;))</pre><b>In a Jupyter environment, please rerun this cell to show the HTML representation or trust the notebook. <br />On GitHub, the HTML representation is unable to render, please try loading this page with nbviewer.org.</b></div><div class=\"sk-container\" hidden><div class=\"sk-item sk-dashed-wrapped\"><div class=\"sk-label-container\"><div class=\"sk-label sk-toggleable\"><input class=\"sk-toggleable__control sk-hidden--visually\" id=\"sk-estimator-id-1\" type=\"checkbox\" ><label for=\"sk-estimator-id-1\" class=\"sk-toggleable__label sk-toggleable__label-arrow\">AdaBoostClassifier</label><div class=\"sk-toggleable__content\"><pre>AdaBoostClassifier(estimator=LogisticRegression(C=5, max_iter=100000,\n",
       "                                                solver=&#x27;saga&#x27;))</pre></div></div></div><div class=\"sk-parallel\"><div class=\"sk-parallel-item\"><div class=\"sk-item\"><div class=\"sk-label-container\"><div class=\"sk-label sk-toggleable\"><input class=\"sk-toggleable__control sk-hidden--visually\" id=\"sk-estimator-id-2\" type=\"checkbox\" ><label for=\"sk-estimator-id-2\" class=\"sk-toggleable__label sk-toggleable__label-arrow\">estimator: LogisticRegression</label><div class=\"sk-toggleable__content\"><pre>LogisticRegression(C=5, max_iter=100000, solver=&#x27;saga&#x27;)</pre></div></div></div><div class=\"sk-serial\"><div class=\"sk-item\"><div class=\"sk-estimator sk-toggleable\"><input class=\"sk-toggleable__control sk-hidden--visually\" id=\"sk-estimator-id-3\" type=\"checkbox\" ><label for=\"sk-estimator-id-3\" class=\"sk-toggleable__label sk-toggleable__label-arrow\">LogisticRegression</label><div class=\"sk-toggleable__content\"><pre>LogisticRegression(C=5, max_iter=100000, solver=&#x27;saga&#x27;)</pre></div></div></div></div></div></div></div></div></div></div>"
      ],
      "text/plain": [
       "AdaBoostClassifier(estimator=LogisticRegression(C=5, max_iter=100000,\n",
       "                                                solver='saga'))"
      ]
     },
     "execution_count": 179,
     "metadata": {},
     "output_type": "execute_result"
    }
   ],
   "source": [
    "adc = AdaBoostClassifier(estimator=LogisticRegression(C=5, solver=\"saga\", max_iter=100000), n_estimators=50)\n",
    "adc"
   ]
  },
  {
   "cell_type": "code",
   "execution_count": 180,
   "id": "71441b71",
   "metadata": {
    "execution": {
     "iopub.execute_input": "2023-08-13T06:10:12.271578Z",
     "iopub.status.busy": "2023-08-13T06:10:12.270739Z",
     "iopub.status.idle": "2023-08-13T06:10:12.275619Z",
     "shell.execute_reply": "2023-08-13T06:10:12.274359Z"
    },
    "papermill": {
     "duration": 0.125682,
     "end_time": "2023-08-13T06:10:12.278497",
     "exception": false,
     "start_time": "2023-08-13T06:10:12.152815",
     "status": "completed"
    },
    "tags": []
   },
   "outputs": [],
   "source": [
    "# submit_v4(selected_model=adc,\n",
    "#           selected_features={'cat': ['isFrequentReviewer']},\n",
    "#           param_grid=None,\n",
    "#           vocab=rfe_vocab)"
   ]
  },
  {
   "cell_type": "code",
   "execution_count": 181,
   "id": "5b8e0fb9",
   "metadata": {
    "execution": {
     "iopub.execute_input": "2023-08-13T06:10:12.516755Z",
     "iopub.status.busy": "2023-08-13T06:10:12.516294Z",
     "iopub.status.idle": "2023-08-13T06:10:12.521450Z",
     "shell.execute_reply": "2023-08-13T06:10:12.520087Z"
    },
    "papermill": {
     "duration": 0.127521,
     "end_time": "2023-08-13T06:10:12.524283",
     "exception": false,
     "start_time": "2023-08-13T06:10:12.396762",
     "status": "completed"
    },
    "tags": []
   },
   "outputs": [],
   "source": [
    "# AdaBoost on all features with RFE vocab on reviewText\n",
    "\n",
    "# submit_v4(selected_model=adc,\n",
    "#           selected_features=all_dict,\n",
    "#           param_grid=None,\n",
    "#           vocab=rfe_vocab)"
   ]
  },
  {
   "cell_type": "code",
   "execution_count": 182,
   "id": "fe55bc16",
   "metadata": {
    "execution": {
     "iopub.execute_input": "2023-08-13T06:10:12.758986Z",
     "iopub.status.busy": "2023-08-13T06:10:12.758522Z",
     "iopub.status.idle": "2023-08-13T06:10:12.763063Z",
     "shell.execute_reply": "2023-08-13T06:10:12.762208Z"
    },
    "papermill": {
     "duration": 0.123818,
     "end_time": "2023-08-13T06:10:12.765334",
     "exception": false,
     "start_time": "2023-08-13T06:10:12.641516",
     "status": "completed"
    },
    "tags": []
   },
   "outputs": [],
   "source": [
    "# RandomForestClassifier test run on one feature\n",
    "\n",
    "# rfc_2 = RandomForestClassifier()\n",
    "# rfc_2"
   ]
  },
  {
   "cell_type": "code",
   "execution_count": 183,
   "id": "84d896cf",
   "metadata": {
    "execution": {
     "iopub.execute_input": "2023-08-13T06:10:12.999927Z",
     "iopub.status.busy": "2023-08-13T06:10:12.999472Z",
     "iopub.status.idle": "2023-08-13T06:10:13.004588Z",
     "shell.execute_reply": "2023-08-13T06:10:13.003203Z"
    },
    "papermill": {
     "duration": 0.125034,
     "end_time": "2023-08-13T06:10:13.007552",
     "exception": false,
     "start_time": "2023-08-13T06:10:12.882518",
     "status": "completed"
    },
    "tags": []
   },
   "outputs": [],
   "source": [
    "# submit_v4(selected_model=rfc_2,\n",
    "#           selected_features={'txt': ['reviewerName']},\n",
    "#           param_grid=None,\n",
    "#           vocab=rfe_vocab)"
   ]
  },
  {
   "cell_type": "code",
   "execution_count": 184,
   "id": "b3a55bda",
   "metadata": {
    "execution": {
     "iopub.execute_input": "2023-08-13T06:10:13.242707Z",
     "iopub.status.busy": "2023-08-13T06:10:13.242240Z",
     "iopub.status.idle": "2023-08-13T06:10:13.247682Z",
     "shell.execute_reply": "2023-08-13T06:10:13.246608Z"
    },
    "papermill": {
     "duration": 0.124617,
     "end_time": "2023-08-13T06:10:13.250129",
     "exception": false,
     "start_time": "2023-08-13T06:10:13.125512",
     "status": "completed"
    },
    "tags": []
   },
   "outputs": [],
   "source": [
    "# RandomForestClassifier on all features with RFE vocab on reviewText\n",
    "\n",
    "# submit_v4(selected_model=rfc_2,\n",
    "#           selected_features=all_dict,\n",
    "#           param_grid=None,\n",
    "#           vocab=rfe_vocab)"
   ]
  },
  {
   "cell_type": "markdown",
   "id": "3e42a123",
   "metadata": {
    "papermill": {
     "duration": 0.119255,
     "end_time": "2023-08-13T06:10:13.488655",
     "exception": false,
     "start_time": "2023-08-13T06:10:13.369400",
     "status": "completed"
    },
    "tags": []
   },
   "source": [
    "## Submit_v2 for merged file models  "
   ]
  },
  {
   "cell_type": "code",
   "execution_count": 185,
   "id": "07c627a7",
   "metadata": {
    "execution": {
     "iopub.execute_input": "2023-08-13T06:10:13.721796Z",
     "iopub.status.busy": "2023-08-13T06:10:13.721358Z",
     "iopub.status.idle": "2023-08-13T06:10:13.727857Z",
     "shell.execute_reply": "2023-08-13T06:10:13.726416Z"
    },
    "papermill": {
     "duration": 0.125906,
     "end_time": "2023-08-13T06:10:13.730190",
     "exception": false,
     "start_time": "2023-08-13T06:10:13.604284",
     "status": "completed"
    },
    "tags": []
   },
   "outputs": [],
   "source": [
    "# def submit_v2(selected_model=pipe_final, selected_features=None):\n",
    "#     '''\n",
    "#     Note that \"selected_preprocessor\" is already used within selected_model or pipeline\n",
    "#     '''\n",
    "#     # Retrain on the whole train.csv file  \n",
    "#     merged = select_features(load_csv(\"train\"), load_csv(\"movies\"))\n",
    "#     X_train = merged.drop(labels=\"sentiment\", axis=1)\n",
    "#     y_train = merged[\"sentiment\"]\n",
    "    \n",
    "#     #Use selected features\n",
    "#     if selected_features:\n",
    "#         X_train = X_train[selected_features]\n",
    "    \n",
    "#     # Check1\n",
    "#     print(X_train.shape)\n",
    "#     print(X_train.head())\n",
    "#     try:\n",
    "#         print(selected_model.named_steps['model'].intercept_, selected_model.named_steps['model'].coef_)\n",
    "#     except:\n",
    "#         print(\"Model not trained yet!\")\n",
    "    \n",
    "#     # Fit \n",
    "#     selected_model.fit(X_train, y_train)\n",
    "    \n",
    "#     # Check2\n",
    "#     print(selected_model.named_steps['model'].intercept_, selected_model.named_steps['model'].coef_)\n",
    "    \n",
    "#     # Predict on test.csv file\n",
    "#     merged_test = select_features(load_csv(\"test\"), load_csv(\"movies\"))\n",
    "#     X_test = merged_test.copy()\n",
    "#     if selected_features:\n",
    "#         X_test = X_test[selected_features]\n",
    "    \n",
    "#     # Check3\n",
    "#     print(X_test.shape)\n",
    "#     print(X_test.head())\n",
    "    \n",
    "#     y_pred = selected_model.predict(X_test)\n",
    "    \n",
    "#     pred_df = pd.DataFrame(y_pred)\n",
    "#     pred_df.columns = [\"sentiment\"]\n",
    "#     pred_df.index.name = \"id\"\n",
    "#     pred_df.to_csv(\"submission.csv\")\n",
    "    \n",
    "#     return \"Successfully created the submission file!!!\""
   ]
  },
  {
   "cell_type": "code",
   "execution_count": 186,
   "id": "418d0012",
   "metadata": {
    "execution": {
     "iopub.execute_input": "2023-08-13T06:10:13.966982Z",
     "iopub.status.busy": "2023-08-13T06:10:13.966586Z",
     "iopub.status.idle": "2023-08-13T06:10:13.971734Z",
     "shell.execute_reply": "2023-08-13T06:10:13.970488Z"
    },
    "papermill": {
     "duration": 0.125929,
     "end_time": "2023-08-13T06:10:13.973960",
     "exception": false,
     "start_time": "2023-08-13T06:10:13.848031",
     "status": "completed"
    },
    "tags": []
   },
   "outputs": [],
   "source": [
    "#     X_test = merged_test.copy()\n",
    "    \n",
    "#     y_pred = pipe_best4.predict(X_test)\n",
    "# #     np.unique(y_pred, return_counts=True)\n",
    "#     pred_df = pd.DataFrame(y_pred)\n",
    "#     pred_df.columns = [\"sentiment\"]\n",
    "#     pred_df.index.name = \"id\"\n",
    "#     pred_df.value_counts()"
   ]
  },
  {
   "cell_type": "code",
   "execution_count": 187,
   "id": "dd00fc9c",
   "metadata": {
    "execution": {
     "iopub.execute_input": "2023-08-13T06:10:14.279963Z",
     "iopub.status.busy": "2023-08-13T06:10:14.279562Z",
     "iopub.status.idle": "2023-08-13T06:10:14.284688Z",
     "shell.execute_reply": "2023-08-13T06:10:14.283120Z"
    },
    "papermill": {
     "duration": 0.127052,
     "end_time": "2023-08-13T06:10:14.287095",
     "exception": false,
     "start_time": "2023-08-13T06:10:14.160043",
     "status": "completed"
    },
    "tags": []
   },
   "outputs": [],
   "source": [
    "# X_test.columns"
   ]
  },
  {
   "cell_type": "markdown",
   "id": "b8bf33c5",
   "metadata": {
    "papermill": {
     "duration": 0.115791,
     "end_time": "2023-08-13T06:10:14.518479",
     "exception": false,
     "start_time": "2023-08-13T06:10:14.402688",
     "status": "completed"
    },
    "tags": []
   },
   "source": [
    "### Uncomment to submit using v2 of submit function  "
   ]
  },
  {
   "cell_type": "code",
   "execution_count": 188,
   "id": "9289e5b6",
   "metadata": {
    "execution": {
     "iopub.execute_input": "2023-08-13T06:10:14.749819Z",
     "iopub.status.busy": "2023-08-13T06:10:14.749349Z",
     "iopub.status.idle": "2023-08-13T06:10:14.754564Z",
     "shell.execute_reply": "2023-08-13T06:10:14.753306Z"
    },
    "papermill": {
     "duration": 0.123879,
     "end_time": "2023-08-13T06:10:14.757014",
     "exception": false,
     "start_time": "2023-08-13T06:10:14.633135",
     "status": "completed"
    },
    "tags": []
   },
   "outputs": [],
   "source": [
    "# best4 = [\"audienceScore\", \"rating\", \"isFrequentReviewer\", \"reviewText\"]\n",
    "# best4"
   ]
  },
  {
   "cell_type": "code",
   "execution_count": 189,
   "id": "2d3eed8c",
   "metadata": {
    "execution": {
     "iopub.execute_input": "2023-08-13T06:10:14.989250Z",
     "iopub.status.busy": "2023-08-13T06:10:14.988728Z",
     "iopub.status.idle": "2023-08-13T06:10:14.994023Z",
     "shell.execute_reply": "2023-08-13T06:10:14.992820Z"
    },
    "papermill": {
     "duration": 0.123976,
     "end_time": "2023-08-13T06:10:14.996762",
     "exception": false,
     "start_time": "2023-08-13T06:10:14.872786",
     "status": "completed"
    },
    "tags": []
   },
   "outputs": [],
   "source": [
    "# submit_v2(selected_model=pipe_RTonly, selected_features=['reviewText'])"
   ]
  },
  {
   "cell_type": "markdown",
   "id": "d9e7b8af",
   "metadata": {
    "papermill": {
     "duration": 0.117504,
     "end_time": "2023-08-13T06:10:15.231766",
     "exception": false,
     "start_time": "2023-08-13T06:10:15.114262",
     "status": "completed"
    },
    "tags": []
   },
   "source": [
    "### Inspect the submission.csv file  "
   ]
  },
  {
   "cell_type": "code",
   "execution_count": 190,
   "id": "e242e893",
   "metadata": {
    "execution": {
     "iopub.execute_input": "2023-08-13T06:10:15.468007Z",
     "iopub.status.busy": "2023-08-13T06:10:15.467568Z",
     "iopub.status.idle": "2023-08-13T06:10:15.472681Z",
     "shell.execute_reply": "2023-08-13T06:10:15.471545Z"
    },
    "papermill": {
     "duration": 0.125589,
     "end_time": "2023-08-13T06:10:15.475048",
     "exception": false,
     "start_time": "2023-08-13T06:10:15.349459",
     "status": "completed"
    },
    "tags": []
   },
   "outputs": [],
   "source": [
    "# sub = pd.read_csv('submission.csv')\n",
    "# sub.shape, sub.head()"
   ]
  },
  {
   "cell_type": "code",
   "execution_count": 191,
   "id": "403a4547",
   "metadata": {
    "execution": {
     "iopub.execute_input": "2023-08-13T06:10:15.709215Z",
     "iopub.status.busy": "2023-08-13T06:10:15.708789Z",
     "iopub.status.idle": "2023-08-13T06:10:15.712958Z",
     "shell.execute_reply": "2023-08-13T06:10:15.712042Z"
    },
    "papermill": {
     "duration": 0.124191,
     "end_time": "2023-08-13T06:10:15.715053",
     "exception": false,
     "start_time": "2023-08-13T06:10:15.590862",
     "status": "completed"
    },
    "tags": []
   },
   "outputs": [],
   "source": [
    "# sub['sentiment'].value_counts()"
   ]
  },
  {
   "cell_type": "markdown",
   "id": "b68d5c5c",
   "metadata": {
    "papermill": {
     "duration": 0.115559,
     "end_time": "2023-08-13T06:10:15.945694",
     "exception": false,
     "start_time": "2023-08-13T06:10:15.830135",
     "status": "completed"
    },
    "tags": []
   },
   "source": [
    "## submit_v3 for merged file models - does not retrain on whole data  "
   ]
  },
  {
   "cell_type": "code",
   "execution_count": 192,
   "id": "4ff86104",
   "metadata": {
    "execution": {
     "iopub.execute_input": "2023-08-13T06:10:16.178415Z",
     "iopub.status.busy": "2023-08-13T06:10:16.177618Z",
     "iopub.status.idle": "2023-08-13T06:10:16.182384Z",
     "shell.execute_reply": "2023-08-13T06:10:16.181547Z"
    },
    "papermill": {
     "duration": 0.123285,
     "end_time": "2023-08-13T06:10:16.184569",
     "exception": false,
     "start_time": "2023-08-13T06:10:16.061284",
     "status": "completed"
    },
    "tags": []
   },
   "outputs": [],
   "source": [
    "# def submit_v3(selected_model=pipe_final):\n",
    "#     '''\n",
    "#     Note that \"selected_preprocessor\" is already used within selected_model or pipeline\n",
    "#     '''\n",
    "      \n",
    "#     # Predict on test.csv file\n",
    "#     merged_test = select_features(load_csv(\"test\"), load_csv(\"movies\"))\n",
    "#     X_test = merged_test.copy()\n",
    "    \n",
    "#     X_test = X_test[[\"audienceScore\", \"rating\", \"isFrequentReviewer\", \"reviewText\"]]    # This is a new line\n",
    "\n",
    "    \n",
    "#     y_pred = selected_model.predict(X_test)\n",
    "    \n",
    "#     pred_df = pd.DataFrame(y_pred)\n",
    "#     pred_df.columns = [\"sentiment\"]\n",
    "#     pred_df.index.name = \"id\"\n",
    "#     pred_df.to_csv(\"submission.csv\")\n",
    "    \n",
    "#     return \"Successfully created the submission file!!!\""
   ]
  },
  {
   "cell_type": "markdown",
   "id": "716420df",
   "metadata": {
    "papermill": {
     "duration": 0.116961,
     "end_time": "2023-08-13T06:10:16.417807",
     "exception": false,
     "start_time": "2023-08-13T06:10:16.300846",
     "status": "completed"
    },
    "tags": []
   },
   "source": [
    "### Uncomment to submit using v3 of submit function  "
   ]
  },
  {
   "cell_type": "code",
   "execution_count": 193,
   "id": "41772008",
   "metadata": {
    "execution": {
     "iopub.execute_input": "2023-08-13T06:10:16.656228Z",
     "iopub.status.busy": "2023-08-13T06:10:16.655447Z",
     "iopub.status.idle": "2023-08-13T06:10:16.659707Z",
     "shell.execute_reply": "2023-08-13T06:10:16.658888Z"
    },
    "papermill": {
     "duration": 0.124815,
     "end_time": "2023-08-13T06:10:16.661805",
     "exception": false,
     "start_time": "2023-08-13T06:10:16.536990",
     "status": "completed"
    },
    "tags": []
   },
   "outputs": [],
   "source": [
    "# submit_v3(selected_model=pipe_best4)"
   ]
  },
  {
   "cell_type": "markdown",
   "id": "5f0a7abf",
   "metadata": {
    "papermill": {
     "duration": 0.115193,
     "end_time": "2023-08-13T06:10:16.892445",
     "exception": false,
     "start_time": "2023-08-13T06:10:16.777252",
     "status": "completed"
    },
    "tags": []
   },
   "source": [
    "## Rough work  "
   ]
  },
  {
   "cell_type": "code",
   "execution_count": 194,
   "id": "0df228c8",
   "metadata": {
    "execution": {
     "iopub.execute_input": "2023-08-13T06:10:17.125546Z",
     "iopub.status.busy": "2023-08-13T06:10:17.125059Z",
     "iopub.status.idle": "2023-08-13T06:10:23.355416Z",
     "shell.execute_reply": "2023-08-13T06:10:23.354134Z"
    },
    "papermill": {
     "duration": 6.350291,
     "end_time": "2023-08-13T06:10:23.358369",
     "exception": false,
     "start_time": "2023-08-13T06:10:17.008078",
     "status": "completed"
    },
    "tags": []
   },
   "outputs": [],
   "source": [
    "    # Predict on test.csv file\n",
    "    merged_test = select_features(load_csv(\"test\"), load_csv(\"movies\"))\n",
    "    X_test = merged_test.copy()\n",
    "    \n",
    "    X_test = X_test[[\"audienceScore\", \"rating\", \"isFrequentReviewer\", \"reviewText\"]]    # This is a new line"
   ]
  },
  {
   "cell_type": "code",
   "execution_count": 195,
   "id": "2a05d8fb",
   "metadata": {
    "execution": {
     "iopub.execute_input": "2023-08-13T06:10:23.598383Z",
     "iopub.status.busy": "2023-08-13T06:10:23.597181Z",
     "iopub.status.idle": "2023-08-13T06:10:23.602232Z",
     "shell.execute_reply": "2023-08-13T06:10:23.600965Z"
    },
    "papermill": {
     "duration": 0.126866,
     "end_time": "2023-08-13T06:10:23.604923",
     "exception": false,
     "start_time": "2023-08-13T06:10:23.478057",
     "status": "completed"
    },
    "tags": []
   },
   "outputs": [],
   "source": [
    "# X_test.head()"
   ]
  },
  {
   "cell_type": "code",
   "execution_count": 196,
   "id": "250ed9c7",
   "metadata": {
    "execution": {
     "iopub.execute_input": "2023-08-13T06:10:23.840890Z",
     "iopub.status.busy": "2023-08-13T06:10:23.840443Z",
     "iopub.status.idle": "2023-08-13T06:10:23.845337Z",
     "shell.execute_reply": "2023-08-13T06:10:23.844239Z"
    },
    "papermill": {
     "duration": 0.126008,
     "end_time": "2023-08-13T06:10:23.847654",
     "exception": false,
     "start_time": "2023-08-13T06:10:23.721646",
     "status": "completed"
    },
    "tags": []
   },
   "outputs": [],
   "source": [
    "# X_test['audienceScore'].describe()"
   ]
  },
  {
   "cell_type": "code",
   "execution_count": 197,
   "id": "07dcb011",
   "metadata": {
    "execution": {
     "iopub.execute_input": "2023-08-13T06:10:24.081070Z",
     "iopub.status.busy": "2023-08-13T06:10:24.080606Z",
     "iopub.status.idle": "2023-08-13T06:10:24.085411Z",
     "shell.execute_reply": "2023-08-13T06:10:24.084220Z"
    },
    "papermill": {
     "duration": 0.124248,
     "end_time": "2023-08-13T06:10:24.087887",
     "exception": false,
     "start_time": "2023-08-13T06:10:23.963639",
     "status": "completed"
    },
    "tags": []
   },
   "outputs": [],
   "source": [
    "# X_test['rating'].value_counts()"
   ]
  },
  {
   "cell_type": "code",
   "execution_count": 198,
   "id": "3f542497",
   "metadata": {
    "execution": {
     "iopub.execute_input": "2023-08-13T06:10:24.324664Z",
     "iopub.status.busy": "2023-08-13T06:10:24.323265Z",
     "iopub.status.idle": "2023-08-13T06:10:24.328143Z",
     "shell.execute_reply": "2023-08-13T06:10:24.327357Z"
    },
    "papermill": {
     "duration": 0.125048,
     "end_time": "2023-08-13T06:10:24.330304",
     "exception": false,
     "start_time": "2023-08-13T06:10:24.205256",
     "status": "completed"
    },
    "tags": []
   },
   "outputs": [],
   "source": [
    "# X_test['isFrequentReviewer'].value_counts()"
   ]
  },
  {
   "cell_type": "markdown",
   "id": "2fd2dca8",
   "metadata": {
    "papermill": {
     "duration": 0.116668,
     "end_time": "2023-08-13T06:10:24.567227",
     "exception": false,
     "start_time": "2023-08-13T06:10:24.450559",
     "status": "completed"
    },
    "tags": []
   },
   "source": [
    "## Implement KNN classifier  "
   ]
  },
  {
   "cell_type": "code",
   "execution_count": 199,
   "id": "e23a0ef6",
   "metadata": {
    "execution": {
     "iopub.execute_input": "2023-08-13T06:10:24.800497Z",
     "iopub.status.busy": "2023-08-13T06:10:24.799333Z",
     "iopub.status.idle": "2023-08-13T06:10:24.803828Z",
     "shell.execute_reply": "2023-08-13T06:10:24.803035Z"
    },
    "papermill": {
     "duration": 0.123421,
     "end_time": "2023-08-13T06:10:24.805876",
     "exception": false,
     "start_time": "2023-08-13T06:10:24.682455",
     "status": "completed"
    },
    "tags": []
   },
   "outputs": [],
   "source": [
    "# from sklearn.neighbors import KNeighborsClassifier"
   ]
  },
  {
   "cell_type": "code",
   "execution_count": 200,
   "id": "9fc93aba",
   "metadata": {
    "execution": {
     "iopub.execute_input": "2023-08-13T06:10:25.039204Z",
     "iopub.status.busy": "2023-08-13T06:10:25.037874Z",
     "iopub.status.idle": "2023-08-13T06:10:25.043908Z",
     "shell.execute_reply": "2023-08-13T06:10:25.042696Z"
    },
    "papermill": {
     "duration": 0.125109,
     "end_time": "2023-08-13T06:10:25.046544",
     "exception": false,
     "start_time": "2023-08-13T06:10:24.921435",
     "status": "completed"
    },
    "tags": []
   },
   "outputs": [],
   "source": [
    "# Note that we are borrowing \"ct_final\" column transformer from above  "
   ]
  },
  {
   "cell_type": "code",
   "execution_count": 201,
   "id": "3f424fa3",
   "metadata": {
    "execution": {
     "iopub.execute_input": "2023-08-13T06:10:25.283894Z",
     "iopub.status.busy": "2023-08-13T06:10:25.282874Z",
     "iopub.status.idle": "2023-08-13T06:10:25.287398Z",
     "shell.execute_reply": "2023-08-13T06:10:25.286605Z"
    },
    "papermill": {
     "duration": 0.124667,
     "end_time": "2023-08-13T06:10:25.289508",
     "exception": false,
     "start_time": "2023-08-13T06:10:25.164841",
     "status": "completed"
    },
    "tags": []
   },
   "outputs": [],
   "source": [
    "# pipe_knn = Pipeline(steps=[\n",
    "#                         (\"preprocessor\", ct_final),\n",
    "#                         (\"model\", KNeighborsClassifier())\n",
    "#                     ])\n",
    "# pipe_knn"
   ]
  },
  {
   "cell_type": "code",
   "execution_count": 202,
   "id": "5d0e72e5",
   "metadata": {
    "execution": {
     "iopub.execute_input": "2023-08-13T06:10:25.529185Z",
     "iopub.status.busy": "2023-08-13T06:10:25.528137Z",
     "iopub.status.idle": "2023-08-13T06:10:25.533040Z",
     "shell.execute_reply": "2023-08-13T06:10:25.532147Z"
    },
    "papermill": {
     "duration": 0.127389,
     "end_time": "2023-08-13T06:10:25.535260",
     "exception": false,
     "start_time": "2023-08-13T06:10:25.407871",
     "status": "completed"
    },
    "tags": []
   },
   "outputs": [],
   "source": [
    "# Train and predict on merged training data  \n",
    "# split_train_predict(merged_train_features, merged_train_labels, pipe_knn, test_size=0.25, random_state=42)"
   ]
  },
  {
   "cell_type": "markdown",
   "id": "58b50ff6",
   "metadata": {
    "papermill": {
     "duration": 0.114569,
     "end_time": "2023-08-13T06:10:25.768038",
     "exception": false,
     "start_time": "2023-08-13T06:10:25.653469",
     "status": "completed"
    },
    "tags": []
   },
   "source": [
    "# Part I (Older code)  "
   ]
  },
  {
   "cell_type": "markdown",
   "id": "fedf9983",
   "metadata": {
    "papermill": {
     "duration": 0.114939,
     "end_time": "2023-08-13T06:10:25.998247",
     "exception": false,
     "start_time": "2023-08-13T06:10:25.883308",
     "status": "completed"
    },
    "tags": []
   },
   "source": [
    "### Logistic Regression with stop words  "
   ]
  },
  {
   "cell_type": "code",
   "execution_count": 203,
   "id": "a24cc5bb",
   "metadata": {
    "execution": {
     "iopub.execute_input": "2023-08-13T06:10:26.299358Z",
     "iopub.status.busy": "2023-08-13T06:10:26.298745Z",
     "iopub.status.idle": "2023-08-13T06:10:26.303997Z",
     "shell.execute_reply": "2023-08-13T06:10:26.302744Z"
    },
    "papermill": {
     "duration": 0.192552,
     "end_time": "2023-08-13T06:10:26.306634",
     "exception": false,
     "start_time": "2023-08-13T06:10:26.114082",
     "status": "completed"
    },
    "tags": []
   },
   "outputs": [],
   "source": [
    "# tvec_sw = TfidfVectorizer(stop_words=stop_words)"
   ]
  },
  {
   "cell_type": "code",
   "execution_count": 204,
   "id": "e2ef714b",
   "metadata": {
    "execution": {
     "iopub.execute_input": "2023-08-13T06:10:26.545211Z",
     "iopub.status.busy": "2023-08-13T06:10:26.544752Z",
     "iopub.status.idle": "2023-08-13T06:10:26.550063Z",
     "shell.execute_reply": "2023-08-13T06:10:26.548552Z"
    },
    "papermill": {
     "duration": 0.127744,
     "end_time": "2023-08-13T06:10:26.552436",
     "exception": false,
     "start_time": "2023-08-13T06:10:26.424692",
     "status": "completed"
    },
    "tags": []
   },
   "outputs": [],
   "source": [
    "# logreg_sw_pipe = preprocess_n_train(X_train, y_train, tvec_sw, logreg)\n",
    "# logreg_sw_pipe"
   ]
  },
  {
   "cell_type": "code",
   "execution_count": 205,
   "id": "cf41c83c",
   "metadata": {
    "execution": {
     "iopub.execute_input": "2023-08-13T06:10:26.785740Z",
     "iopub.status.busy": "2023-08-13T06:10:26.784974Z",
     "iopub.status.idle": "2023-08-13T06:10:26.789075Z",
     "shell.execute_reply": "2023-08-13T06:10:26.788182Z"
    },
    "papermill": {
     "duration": 0.122636,
     "end_time": "2023-08-13T06:10:26.791357",
     "exception": false,
     "start_time": "2023-08-13T06:10:26.668721",
     "status": "completed"
    },
    "tags": []
   },
   "outputs": [],
   "source": [
    "# y_pred_logreg_sw = predict_n_evaluate(logreg_sw_pipe, X_test, y_test)\n",
    "# y_pred_logreg_sw"
   ]
  },
  {
   "cell_type": "markdown",
   "id": "25aba88d",
   "metadata": {
    "papermill": {
     "duration": 0.114988,
     "end_time": "2023-08-13T06:10:27.022334",
     "exception": false,
     "start_time": "2023-08-13T06:10:26.907346",
     "status": "completed"
    },
    "tags": []
   },
   "source": [
    "### Logistic regression with different ngram ranges  "
   ]
  },
  {
   "cell_type": "code",
   "execution_count": 206,
   "id": "a411124c",
   "metadata": {
    "execution": {
     "iopub.execute_input": "2023-08-13T06:10:27.258048Z",
     "iopub.status.busy": "2023-08-13T06:10:27.257654Z",
     "iopub.status.idle": "2023-08-13T06:10:27.262566Z",
     "shell.execute_reply": "2023-08-13T06:10:27.261169Z"
    },
    "papermill": {
     "duration": 0.124915,
     "end_time": "2023-08-13T06:10:27.264953",
     "exception": false,
     "start_time": "2023-08-13T06:10:27.140038",
     "status": "completed"
    },
    "tags": []
   },
   "outputs": [],
   "source": [
    "# tvec_ngram_2 = TfidfVectorizer(ngram_range=(1,2))"
   ]
  },
  {
   "cell_type": "code",
   "execution_count": 207,
   "id": "2aacbbc7",
   "metadata": {
    "execution": {
     "iopub.execute_input": "2023-08-13T06:10:27.502527Z",
     "iopub.status.busy": "2023-08-13T06:10:27.502080Z",
     "iopub.status.idle": "2023-08-13T06:10:27.506975Z",
     "shell.execute_reply": "2023-08-13T06:10:27.505861Z"
    },
    "papermill": {
     "duration": 0.127161,
     "end_time": "2023-08-13T06:10:27.509279",
     "exception": false,
     "start_time": "2023-08-13T06:10:27.382118",
     "status": "completed"
    },
    "tags": []
   },
   "outputs": [],
   "source": [
    "# logreg_ng2_pipe = preprocess_n_train(X_train, y_train, tvec_ngram_2, logreg)\n",
    "# logreg_ng2_pipe"
   ]
  },
  {
   "cell_type": "code",
   "execution_count": 208,
   "id": "dcf60924",
   "metadata": {
    "execution": {
     "iopub.execute_input": "2023-08-13T06:10:27.741486Z",
     "iopub.status.busy": "2023-08-13T06:10:27.741044Z",
     "iopub.status.idle": "2023-08-13T06:10:27.746174Z",
     "shell.execute_reply": "2023-08-13T06:10:27.744927Z"
    },
    "papermill": {
     "duration": 0.123559,
     "end_time": "2023-08-13T06:10:27.748616",
     "exception": false,
     "start_time": "2023-08-13T06:10:27.625057",
     "status": "completed"
    },
    "tags": []
   },
   "outputs": [],
   "source": [
    "# y_pred_logreg_ng2 = predict_n_evaluate(logreg_ng2_pipe, X_test, y_test)\n",
    "# y_pred_logreg_ng2"
   ]
  },
  {
   "cell_type": "markdown",
   "id": "482102c9",
   "metadata": {
    "papermill": {
     "duration": 0.115366,
     "end_time": "2023-08-13T06:10:27.980480",
     "exception": false,
     "start_time": "2023-08-13T06:10:27.865114",
     "status": "completed"
    },
    "tags": []
   },
   "source": [
    "### Logistic regression with C=2, ngram range (1,2), stop words as None and min_df, max_df adjusted\n",
    "### Class weight balanced"
   ]
  },
  {
   "cell_type": "code",
   "execution_count": 209,
   "id": "9470a950",
   "metadata": {
    "execution": {
     "iopub.execute_input": "2023-08-13T06:10:28.215622Z",
     "iopub.status.busy": "2023-08-13T06:10:28.215152Z",
     "iopub.status.idle": "2023-08-13T06:10:28.220185Z",
     "shell.execute_reply": "2023-08-13T06:10:28.219158Z"
    },
    "papermill": {
     "duration": 0.126171,
     "end_time": "2023-08-13T06:10:28.222553",
     "exception": false,
     "start_time": "2023-08-13T06:10:28.096382",
     "status": "completed"
    },
    "tags": []
   },
   "outputs": [],
   "source": [
    "# logreg = LogisticRegression(max_iter=100000, C=2, class_weight=\"balanced\")"
   ]
  },
  {
   "cell_type": "code",
   "execution_count": 210,
   "id": "44c2aa5a",
   "metadata": {
    "execution": {
     "iopub.execute_input": "2023-08-13T06:10:28.459516Z",
     "iopub.status.busy": "2023-08-13T06:10:28.459085Z",
     "iopub.status.idle": "2023-08-13T06:10:28.463629Z",
     "shell.execute_reply": "2023-08-13T06:10:28.462689Z"
    },
    "papermill": {
     "duration": 0.124386,
     "end_time": "2023-08-13T06:10:28.465687",
     "exception": false,
     "start_time": "2023-08-13T06:10:28.341301",
     "status": "completed"
    },
    "tags": []
   },
   "outputs": [],
   "source": [
    "# tvec_ngram_2_sw_df = TfidfVectorizer(ngram_range=(1,2), stop_words=None, min_df=0.0001, max_df=0.50)\n",
    "# tvec_ngram_2_sw_df"
   ]
  },
  {
   "cell_type": "code",
   "execution_count": 211,
   "id": "aa69dfb0",
   "metadata": {
    "execution": {
     "iopub.execute_input": "2023-08-13T06:10:28.705097Z",
     "iopub.status.busy": "2023-08-13T06:10:28.704594Z",
     "iopub.status.idle": "2023-08-13T06:10:28.709546Z",
     "shell.execute_reply": "2023-08-13T06:10:28.708167Z"
    },
    "papermill": {
     "duration": 0.128908,
     "end_time": "2023-08-13T06:10:28.711723",
     "exception": false,
     "start_time": "2023-08-13T06:10:28.582815",
     "status": "completed"
    },
    "tags": []
   },
   "outputs": [],
   "source": [
    "# logreg_ng2_sw_df_pipe = preprocess_n_train(X_train, y_train, tvec_ngram_2_sw_df, logreg)\n",
    "# logreg_ng2_sw_df_pipe"
   ]
  },
  {
   "cell_type": "code",
   "execution_count": 212,
   "id": "f3f9c7ca",
   "metadata": {
    "execution": {
     "iopub.execute_input": "2023-08-13T06:10:28.950059Z",
     "iopub.status.busy": "2023-08-13T06:10:28.949645Z",
     "iopub.status.idle": "2023-08-13T06:10:28.954464Z",
     "shell.execute_reply": "2023-08-13T06:10:28.953116Z"
    },
    "papermill": {
     "duration": 0.128537,
     "end_time": "2023-08-13T06:10:28.957114",
     "exception": false,
     "start_time": "2023-08-13T06:10:28.828577",
     "status": "completed"
    },
    "tags": []
   },
   "outputs": [],
   "source": [
    "# y_pred_logreg_ng2_sw_df = predict_n_evaluate(logreg_ng2_sw_df_pipe, X_test, y_test)\n",
    "# y_pred_logreg_ng2_sw_df"
   ]
  },
  {
   "cell_type": "markdown",
   "id": "cdcd1139",
   "metadata": {
    "papermill": {
     "duration": 0.13378,
     "end_time": "2023-08-13T06:10:29.210465",
     "exception": false,
     "start_time": "2023-08-13T06:10:29.076685",
     "status": "completed"
    },
    "tags": []
   },
   "source": [
    "### Log reg with parameters from GridSearchCV  \n",
    "\n",
    "`This is the best score with \"reviewText column alone for analysis`  "
   ]
  },
  {
   "cell_type": "code",
   "execution_count": 213,
   "id": "ad19b6bc",
   "metadata": {
    "execution": {
     "iopub.execute_input": "2023-08-13T06:10:29.447590Z",
     "iopub.status.busy": "2023-08-13T06:10:29.447131Z",
     "iopub.status.idle": "2023-08-13T06:10:29.453464Z",
     "shell.execute_reply": "2023-08-13T06:10:29.451816Z"
    },
    "papermill": {
     "duration": 0.127617,
     "end_time": "2023-08-13T06:10:29.455809",
     "exception": false,
     "start_time": "2023-08-13T06:10:29.328192",
     "status": "completed"
    },
    "tags": []
   },
   "outputs": [],
   "source": [
    "logreg_cv1 = LogisticRegression(max_iter=100000, C=10)\n",
    "tvec_cv1 = TfidfVectorizer(max_features=None, ngram_range=(1,2))"
   ]
  },
  {
   "cell_type": "code",
   "execution_count": 214,
   "id": "225157cc",
   "metadata": {
    "execution": {
     "iopub.execute_input": "2023-08-13T06:10:29.691989Z",
     "iopub.status.busy": "2023-08-13T06:10:29.691576Z",
     "iopub.status.idle": "2023-08-13T06:10:29.696875Z",
     "shell.execute_reply": "2023-08-13T06:10:29.695644Z"
    },
    "papermill": {
     "duration": 0.125,
     "end_time": "2023-08-13T06:10:29.699349",
     "exception": false,
     "start_time": "2023-08-13T06:10:29.574349",
     "status": "completed"
    },
    "tags": []
   },
   "outputs": [],
   "source": [
    "pipe_cv1 = Pipeline(steps=[\n",
    "    (\"preprocessor\", tvec_cv1),\n",
    "    (\"model\", logreg_cv1)\n",
    "])"
   ]
  },
  {
   "cell_type": "code",
   "execution_count": 215,
   "id": "2b7fd5fc",
   "metadata": {
    "execution": {
     "iopub.execute_input": "2023-08-13T06:10:29.933158Z",
     "iopub.status.busy": "2023-08-13T06:10:29.932722Z",
     "iopub.status.idle": "2023-08-13T06:10:29.937207Z",
     "shell.execute_reply": "2023-08-13T06:10:29.936075Z"
    },
    "papermill": {
     "duration": 0.123891,
     "end_time": "2023-08-13T06:10:29.939550",
     "exception": false,
     "start_time": "2023-08-13T06:10:29.815659",
     "status": "completed"
    },
    "tags": []
   },
   "outputs": [],
   "source": [
    "# pipe_cv1.fit(X_train, y_train)"
   ]
  },
  {
   "cell_type": "code",
   "execution_count": 216,
   "id": "226170d9",
   "metadata": {
    "execution": {
     "iopub.execute_input": "2023-08-13T06:10:30.177104Z",
     "iopub.status.busy": "2023-08-13T06:10:30.176690Z",
     "iopub.status.idle": "2023-08-13T06:10:30.181137Z",
     "shell.execute_reply": "2023-08-13T06:10:30.180124Z"
    },
    "papermill": {
     "duration": 0.126751,
     "end_time": "2023-08-13T06:10:30.183731",
     "exception": false,
     "start_time": "2023-08-13T06:10:30.056980",
     "status": "completed"
    },
    "tags": []
   },
   "outputs": [],
   "source": [
    "# pipe_cv1.score(X_train, y_train)"
   ]
  },
  {
   "cell_type": "markdown",
   "id": "3fe73c46",
   "metadata": {
    "papermill": {
     "duration": 0.115346,
     "end_time": "2023-08-13T06:10:30.418172",
     "exception": false,
     "start_time": "2023-08-13T06:10:30.302826",
     "status": "completed"
    },
    "tags": []
   },
   "source": [
    "### SVM model with stop words  "
   ]
  },
  {
   "cell_type": "code",
   "execution_count": 217,
   "id": "7b92f21f",
   "metadata": {
    "execution": {
     "iopub.execute_input": "2023-08-13T06:10:30.650841Z",
     "iopub.status.busy": "2023-08-13T06:10:30.650119Z",
     "iopub.status.idle": "2023-08-13T06:10:30.654846Z",
     "shell.execute_reply": "2023-08-13T06:10:30.653656Z"
    },
    "papermill": {
     "duration": 0.123221,
     "end_time": "2023-08-13T06:10:30.657370",
     "exception": false,
     "start_time": "2023-08-13T06:10:30.534149",
     "status": "completed"
    },
    "tags": []
   },
   "outputs": [],
   "source": [
    "# svm_sw_pipe = preprocess_n_train(X_train, y_train, tvec_sw, svm)\n",
    "# svm_sw_pipe"
   ]
  },
  {
   "cell_type": "code",
   "execution_count": 218,
   "id": "fa5c2928",
   "metadata": {
    "execution": {
     "iopub.execute_input": "2023-08-13T06:10:30.889246Z",
     "iopub.status.busy": "2023-08-13T06:10:30.888818Z",
     "iopub.status.idle": "2023-08-13T06:10:30.893301Z",
     "shell.execute_reply": "2023-08-13T06:10:30.892167Z"
    },
    "papermill": {
     "duration": 0.12288,
     "end_time": "2023-08-13T06:10:30.895721",
     "exception": false,
     "start_time": "2023-08-13T06:10:30.772841",
     "status": "completed"
    },
    "tags": []
   },
   "outputs": [],
   "source": [
    "# y_pred_svm_sw = predict_n_evaluate(svm_sw_pipe, X_test, y_test)\n",
    "# y_pred_svm_sw"
   ]
  },
  {
   "cell_type": "markdown",
   "id": "25fc271d",
   "metadata": {
    "papermill": {
     "duration": 0.114815,
     "end_time": "2023-08-13T06:10:31.126250",
     "exception": false,
     "start_time": "2023-08-13T06:10:31.011435",
     "status": "completed"
    },
    "tags": []
   },
   "source": [
    "### GaussianNB  "
   ]
  },
  {
   "cell_type": "markdown",
   "id": "651efaa1",
   "metadata": {
    "papermill": {
     "duration": 0.116684,
     "end_time": "2023-08-13T06:10:31.358246",
     "exception": false,
     "start_time": "2023-08-13T06:10:31.241562",
     "status": "completed"
    },
    "tags": []
   },
   "source": [
    "https://stackoverflow.com/questions/28384680/scikit-learns-pipeline-a-sparse-matrix-was-passed-but-dense-data-is-required"
   ]
  },
  {
   "cell_type": "code",
   "execution_count": 219,
   "id": "42906499",
   "metadata": {
    "execution": {
     "iopub.execute_input": "2023-08-13T06:10:31.592716Z",
     "iopub.status.busy": "2023-08-13T06:10:31.592253Z",
     "iopub.status.idle": "2023-08-13T06:10:31.596945Z",
     "shell.execute_reply": "2023-08-13T06:10:31.595676Z"
    },
    "papermill": {
     "duration": 0.125289,
     "end_time": "2023-08-13T06:10:31.599567",
     "exception": false,
     "start_time": "2023-08-13T06:10:31.474278",
     "status": "completed"
    },
    "tags": []
   },
   "outputs": [],
   "source": [
    "# gnb = GaussianNB()\n",
    "# gnb"
   ]
  },
  {
   "cell_type": "code",
   "execution_count": 220,
   "id": "199a53b6",
   "metadata": {
    "execution": {
     "iopub.execute_input": "2023-08-13T06:10:31.835039Z",
     "iopub.status.busy": "2023-08-13T06:10:31.834164Z",
     "iopub.status.idle": "2023-08-13T06:10:31.839063Z",
     "shell.execute_reply": "2023-08-13T06:10:31.837883Z"
    },
    "papermill": {
     "duration": 0.12485,
     "end_time": "2023-08-13T06:10:31.841543",
     "exception": false,
     "start_time": "2023-08-13T06:10:31.716693",
     "status": "completed"
    },
    "tags": []
   },
   "outputs": [],
   "source": [
    "# gnb_pipe = preprocess_n_train(X_train, y_train, tvec, gnb)\n",
    "# gnb_pipe"
   ]
  },
  {
   "cell_type": "markdown",
   "id": "7e9c474f",
   "metadata": {
    "papermill": {
     "duration": 0.115209,
     "end_time": "2023-08-13T06:10:32.145217",
     "exception": false,
     "start_time": "2023-08-13T06:10:32.030008",
     "status": "completed"
    },
    "tags": []
   },
   "source": [
    "# Part II (Older code)  \n"
   ]
  },
  {
   "cell_type": "markdown",
   "id": "242e60d9",
   "metadata": {
    "papermill": {
     "duration": 0.116196,
     "end_time": "2023-08-13T06:10:32.376363",
     "exception": false,
     "start_time": "2023-08-13T06:10:32.260167",
     "status": "completed"
    },
    "tags": []
   },
   "source": [
    "### Separate features and labels from merged dataset  "
   ]
  },
  {
   "cell_type": "code",
   "execution_count": 221,
   "id": "09ec6b8f",
   "metadata": {
    "execution": {
     "iopub.execute_input": "2023-08-13T06:10:32.613042Z",
     "iopub.status.busy": "2023-08-13T06:10:32.612599Z",
     "iopub.status.idle": "2023-08-13T06:10:32.617595Z",
     "shell.execute_reply": "2023-08-13T06:10:32.616444Z"
    },
    "papermill": {
     "duration": 0.126521,
     "end_time": "2023-08-13T06:10:32.620091",
     "exception": false,
     "start_time": "2023-08-13T06:10:32.493570",
     "status": "completed"
    },
    "tags": []
   },
   "outputs": [],
   "source": [
    "# merged_train_features = merged[['movieid', 'reviewerName', 'isFrequentReviewer', 'reviewText',\n",
    "#        'audienceScore', 'rating', 'runtimeMinutes', 'genre',\n",
    "#        'originalLanguage', 'director']]\n",
    "# merged_train_features.shape"
   ]
  },
  {
   "cell_type": "code",
   "execution_count": 222,
   "id": "2b7122de",
   "metadata": {
    "execution": {
     "iopub.execute_input": "2023-08-13T06:10:32.853168Z",
     "iopub.status.busy": "2023-08-13T06:10:32.852297Z",
     "iopub.status.idle": "2023-08-13T06:10:32.857115Z",
     "shell.execute_reply": "2023-08-13T06:10:32.856356Z"
    },
    "papermill": {
     "duration": 0.124001,
     "end_time": "2023-08-13T06:10:32.859417",
     "exception": false,
     "start_time": "2023-08-13T06:10:32.735416",
     "status": "completed"
    },
    "tags": []
   },
   "outputs": [],
   "source": [
    "# merged_train_labels = merged[\"sentiment\"]\n",
    "# merged_train_labels.shape"
   ]
  },
  {
   "cell_type": "markdown",
   "id": "83afeb60",
   "metadata": {
    "papermill": {
     "duration": 0.115457,
     "end_time": "2023-08-13T06:10:33.091228",
     "exception": false,
     "start_time": "2023-08-13T06:10:32.975771",
     "status": "completed"
    },
    "tags": []
   },
   "source": [
    "### Identify variable types for different preprocessing pipes  "
   ]
  },
  {
   "cell_type": "code",
   "execution_count": 223,
   "id": "294706cb",
   "metadata": {
    "execution": {
     "iopub.execute_input": "2023-08-13T06:10:33.328625Z",
     "iopub.status.busy": "2023-08-13T06:10:33.328157Z",
     "iopub.status.idle": "2023-08-13T06:10:33.332721Z",
     "shell.execute_reply": "2023-08-13T06:10:33.331546Z"
    },
    "papermill": {
     "duration": 0.12642,
     "end_time": "2023-08-13T06:10:33.335141",
     "exception": false,
     "start_time": "2023-08-13T06:10:33.208721",
     "status": "completed"
    },
    "tags": []
   },
   "outputs": [],
   "source": [
    "# num_vars = [\"audienceScore\", \"runtimeMinutes\"]\n",
    "# txt_vars = [\"originalLanguage\", \"genre\", \"director\", \"reviewerName\", \"reviewText\"]\n",
    "# cat_vars = [\"rating\", \"isFrequentReviewer\"]"
   ]
  },
  {
   "cell_type": "code",
   "execution_count": 224,
   "id": "71835099",
   "metadata": {
    "execution": {
     "iopub.execute_input": "2023-08-13T06:10:33.573567Z",
     "iopub.status.busy": "2023-08-13T06:10:33.572799Z",
     "iopub.status.idle": "2023-08-13T06:10:33.577349Z",
     "shell.execute_reply": "2023-08-13T06:10:33.576443Z"
    },
    "papermill": {
     "duration": 0.12694,
     "end_time": "2023-08-13T06:10:33.579630",
     "exception": false,
     "start_time": "2023-08-13T06:10:33.452690",
     "status": "completed"
    },
    "tags": []
   },
   "outputs": [],
   "source": [
    "# num_pipe = Pipeline(steps=[\n",
    "#                             (\"imputer\", SimpleImputer(strategy=\"mean\", missing_values=np.nan)),\n",
    "#                             (\"scaler\", MinMaxScaler())\n",
    "#                         ])\n",
    "# num_pipe"
   ]
  },
  {
   "cell_type": "code",
   "execution_count": 225,
   "id": "025f4926",
   "metadata": {
    "execution": {
     "iopub.execute_input": "2023-08-13T06:10:33.818577Z",
     "iopub.status.busy": "2023-08-13T06:10:33.818034Z",
     "iopub.status.idle": "2023-08-13T06:10:33.823019Z",
     "shell.execute_reply": "2023-08-13T06:10:33.821848Z"
    },
    "papermill": {
     "duration": 0.128537,
     "end_time": "2023-08-13T06:10:33.825404",
     "exception": false,
     "start_time": "2023-08-13T06:10:33.696867",
     "status": "completed"
    },
    "tags": []
   },
   "outputs": [],
   "source": [
    "# txt_pipe = Pipeline(steps=[\n",
    "#                             (\"tvec\", TfidfVectorizer())\n",
    "#                         ])\n",
    "# txt_pipe"
   ]
  },
  {
   "cell_type": "code",
   "execution_count": 226,
   "id": "15479b27",
   "metadata": {
    "execution": {
     "iopub.execute_input": "2023-08-13T06:10:34.058600Z",
     "iopub.status.busy": "2023-08-13T06:10:34.057273Z",
     "iopub.status.idle": "2023-08-13T06:10:34.062805Z",
     "shell.execute_reply": "2023-08-13T06:10:34.061885Z"
    },
    "papermill": {
     "duration": 0.124445,
     "end_time": "2023-08-13T06:10:34.065277",
     "exception": false,
     "start_time": "2023-08-13T06:10:33.940832",
     "status": "completed"
    },
    "tags": []
   },
   "outputs": [],
   "source": [
    "# cat_pipe = Pipeline(steps=[\n",
    "#                             (\"ohe\", OneHotEncoder(handle_unknown=\"ignore\"))\n",
    "#                         ])\n",
    "# cat_pipe"
   ]
  },
  {
   "cell_type": "code",
   "execution_count": 227,
   "id": "18c23f2c",
   "metadata": {
    "execution": {
     "iopub.execute_input": "2023-08-13T06:10:34.300680Z",
     "iopub.status.busy": "2023-08-13T06:10:34.299835Z",
     "iopub.status.idle": "2023-08-13T06:10:34.304981Z",
     "shell.execute_reply": "2023-08-13T06:10:34.303816Z"
    },
    "papermill": {
     "duration": 0.124634,
     "end_time": "2023-08-13T06:10:34.307546",
     "exception": false,
     "start_time": "2023-08-13T06:10:34.182912",
     "status": "completed"
    },
    "tags": []
   },
   "outputs": [],
   "source": [
    "# tfidf_vec_1 = TfidfVectorizer(ngram_range=(1,2))\n",
    "# tfidf_vec_1"
   ]
  },
  {
   "cell_type": "code",
   "execution_count": 228,
   "id": "4017d21f",
   "metadata": {
    "execution": {
     "iopub.execute_input": "2023-08-13T06:10:34.545699Z",
     "iopub.status.busy": "2023-08-13T06:10:34.545288Z",
     "iopub.status.idle": "2023-08-13T06:10:34.550103Z",
     "shell.execute_reply": "2023-08-13T06:10:34.548846Z"
    },
    "papermill": {
     "duration": 0.128695,
     "end_time": "2023-08-13T06:10:34.552765",
     "exception": false,
     "start_time": "2023-08-13T06:10:34.424070",
     "status": "completed"
    },
    "tags": []
   },
   "outputs": [],
   "source": [
    "# ct_final = ColumnTransformer(transformers=[\n",
    "#                                         (\"num\", num_pipe, num_vars),\n",
    "#                                         (\"txt1\", txt_pipe, \"originalLanguage\"),\n",
    "#                                         (\"txt2\", txt_pipe, \"genre\"),\n",
    "#                                         (\"txt3\", txt_pipe, \"director\"),\n",
    "#                                         (\"cat\", cat_pipe, cat_vars),\n",
    "#                                         (\"txt4a\", tfidf_vec_1, \"reviewText\")\n",
    "# #                                         (\"txt4\", TfidfVectorizer(ngram_range=(1,2)), \"reviewText\"),\n",
    "# #                                         (\"cat2\", cat_pipe, [\"isFrequentReviewer\"])\n",
    "#                                         ], remainder=\"drop\", n_jobs=1)\n",
    "\n",
    "# # Note that this transformer drops \"movieid\" column and \"reviewerName\" column  \n",
    "# ct_final"
   ]
  },
  {
   "cell_type": "code",
   "execution_count": 229,
   "id": "efcf618d",
   "metadata": {
    "execution": {
     "iopub.execute_input": "2023-08-13T06:10:34.789444Z",
     "iopub.status.busy": "2023-08-13T06:10:34.788562Z",
     "iopub.status.idle": "2023-08-13T06:10:34.793820Z",
     "shell.execute_reply": "2023-08-13T06:10:34.792742Z"
    },
    "papermill": {
     "duration": 0.12479,
     "end_time": "2023-08-13T06:10:34.796480",
     "exception": false,
     "start_time": "2023-08-13T06:10:34.671690",
     "status": "completed"
    },
    "tags": []
   },
   "outputs": [],
   "source": [
    "# pipe_final = Pipeline(steps=[\n",
    "#                         (\"preprocessor\", ct_final),\n",
    "#                         (\"model\", LogisticRegression(max_iter=100000))\n",
    "#                     ])\n",
    "# pipe_final"
   ]
  },
  {
   "cell_type": "code",
   "execution_count": 230,
   "id": "47592af6",
   "metadata": {
    "execution": {
     "iopub.execute_input": "2023-08-13T06:10:35.033565Z",
     "iopub.status.busy": "2023-08-13T06:10:35.032861Z",
     "iopub.status.idle": "2023-08-13T06:10:35.037424Z",
     "shell.execute_reply": "2023-08-13T06:10:35.036479Z"
    },
    "papermill": {
     "duration": 0.125869,
     "end_time": "2023-08-13T06:10:35.039880",
     "exception": false,
     "start_time": "2023-08-13T06:10:34.914011",
     "status": "completed"
    },
    "tags": []
   },
   "outputs": [],
   "source": [
    "# final_vars = num_vars + txt_vars + cat_vars\n",
    "# len(final_vars), final_vars"
   ]
  },
  {
   "cell_type": "markdown",
   "id": "ae0de584",
   "metadata": {
    "papermill": {
     "duration": 0.116342,
     "end_time": "2023-08-13T06:10:35.272358",
     "exception": false,
     "start_time": "2023-08-13T06:10:35.156016",
     "status": "completed"
    },
    "tags": []
   },
   "source": [
    "### Use \"split_train_predict\" function to run end-to-end pipeline  "
   ]
  },
  {
   "cell_type": "code",
   "execution_count": 231,
   "id": "d686ef62",
   "metadata": {
    "execution": {
     "iopub.execute_input": "2023-08-13T06:10:35.508030Z",
     "iopub.status.busy": "2023-08-13T06:10:35.506347Z",
     "iopub.status.idle": "2023-08-13T06:10:35.512638Z",
     "shell.execute_reply": "2023-08-13T06:10:35.511686Z"
    },
    "papermill": {
     "duration": 0.126313,
     "end_time": "2023-08-13T06:10:35.514852",
     "exception": false,
     "start_time": "2023-08-13T06:10:35.388539",
     "status": "completed"
    },
    "tags": []
   },
   "outputs": [],
   "source": [
    "# split_train_predict(merged_train_features, merged_train_labels, pipe_final, test_size=0.25, random_state=42)"
   ]
  },
  {
   "cell_type": "markdown",
   "id": "f53c096a",
   "metadata": {
    "papermill": {
     "duration": 0.11522,
     "end_time": "2023-08-13T06:10:35.748877",
     "exception": false,
     "start_time": "2023-08-13T06:10:35.633657",
     "status": "completed"
    },
    "tags": []
   },
   "source": [
    "## Try the best four features obtained on local machine  "
   ]
  },
  {
   "cell_type": "code",
   "execution_count": 232,
   "id": "ca8a3fe9",
   "metadata": {
    "execution": {
     "iopub.execute_input": "2023-08-13T06:10:35.984231Z",
     "iopub.status.busy": "2023-08-13T06:10:35.983764Z",
     "iopub.status.idle": "2023-08-13T06:10:35.988424Z",
     "shell.execute_reply": "2023-08-13T06:10:35.987246Z"
    },
    "papermill": {
     "duration": 0.12475,
     "end_time": "2023-08-13T06:10:35.990722",
     "exception": false,
     "start_time": "2023-08-13T06:10:35.865972",
     "status": "completed"
    },
    "tags": []
   },
   "outputs": [],
   "source": [
    "# tfidf_vec_2 = TfidfVectorizer(ngram_range=(1,2))\n",
    "# tfidf_vec_2"
   ]
  },
  {
   "cell_type": "code",
   "execution_count": 233,
   "id": "f037e6b3",
   "metadata": {
    "execution": {
     "iopub.execute_input": "2023-08-13T06:10:36.223769Z",
     "iopub.status.busy": "2023-08-13T06:10:36.223055Z",
     "iopub.status.idle": "2023-08-13T06:10:36.228189Z",
     "shell.execute_reply": "2023-08-13T06:10:36.227398Z"
    },
    "papermill": {
     "duration": 0.12438,
     "end_time": "2023-08-13T06:10:36.230503",
     "exception": false,
     "start_time": "2023-08-13T06:10:36.106123",
     "status": "completed"
    },
    "tags": []
   },
   "outputs": [],
   "source": [
    "# ct_best4 = ColumnTransformer(transformers=[\n",
    "#                                             (\"num\", num_pipe, [\"audienceScore\"]),\n",
    "#                                             (\"cat\", cat_pipe, [\"rating\", \"isFrequentReviewer\"]),\n",
    "#                                             (\"tvec\", tfidf_vec_2, \"reviewText\")\n",
    "#                             ])\n",
    "\n",
    "# pipe_best4 = Pipeline(steps=[\n",
    "#     (\"preprocessor\", ct_best4),\n",
    "#     (\"model\", LogisticRegression())\n",
    "# ])\n",
    "\n",
    "# pipe_best4.set_params(model__C=10, model__max_iter=100000)\n",
    "\n",
    "# pipe_best4"
   ]
  },
  {
   "cell_type": "code",
   "execution_count": 234,
   "id": "55f484ca",
   "metadata": {
    "execution": {
     "iopub.execute_input": "2023-08-13T06:10:36.465734Z",
     "iopub.status.busy": "2023-08-13T06:10:36.465292Z",
     "iopub.status.idle": "2023-08-13T06:10:36.470170Z",
     "shell.execute_reply": "2023-08-13T06:10:36.468953Z"
    },
    "papermill": {
     "duration": 0.124794,
     "end_time": "2023-08-13T06:10:36.472489",
     "exception": false,
     "start_time": "2023-08-13T06:10:36.347695",
     "status": "completed"
    },
    "tags": []
   },
   "outputs": [],
   "source": [
    "# split_train_predict(merged[[\"audienceScore\", \"rating\", \"isFrequentReviewer\", \"reviewText\"]], merged[\"sentiment\"], pipe_best4, test_size=0.25)"
   ]
  },
  {
   "cell_type": "markdown",
   "id": "32edd6a4",
   "metadata": {
    "papermill": {
     "duration": 0.115946,
     "end_time": "2023-08-13T06:10:36.705431",
     "exception": false,
     "start_time": "2023-08-13T06:10:36.589485",
     "status": "completed"
    },
    "tags": []
   },
   "source": [
    "## Try only 'reviewText' column  "
   ]
  },
  {
   "cell_type": "code",
   "execution_count": 235,
   "id": "0b459363",
   "metadata": {
    "execution": {
     "iopub.execute_input": "2023-08-13T06:10:36.937262Z",
     "iopub.status.busy": "2023-08-13T06:10:36.936565Z",
     "iopub.status.idle": "2023-08-13T06:10:36.941552Z",
     "shell.execute_reply": "2023-08-13T06:10:36.940393Z"
    },
    "papermill": {
     "duration": 0.123227,
     "end_time": "2023-08-13T06:10:36.943685",
     "exception": false,
     "start_time": "2023-08-13T06:10:36.820458",
     "status": "completed"
    },
    "tags": []
   },
   "outputs": [],
   "source": [
    "# tfidf_vec_3 = TfidfVectorizer(ngram_range=(1,2))\n",
    "# tfidf_vec_3"
   ]
  },
  {
   "cell_type": "code",
   "execution_count": 236,
   "id": "c64c926c",
   "metadata": {
    "execution": {
     "iopub.execute_input": "2023-08-13T06:10:37.179155Z",
     "iopub.status.busy": "2023-08-13T06:10:37.178349Z",
     "iopub.status.idle": "2023-08-13T06:10:37.182622Z",
     "shell.execute_reply": "2023-08-13T06:10:37.181726Z"
    },
    "papermill": {
     "duration": 0.123881,
     "end_time": "2023-08-13T06:10:37.184839",
     "exception": false,
     "start_time": "2023-08-13T06:10:37.060958",
     "status": "completed"
    },
    "tags": []
   },
   "outputs": [],
   "source": [
    "# ct_RTonly = ColumnTransformer(transformers=[\n",
    "#                                             ('txt', tfidf_vec_3, 'reviewText'),\n",
    "#                                             ], remainder='drop')\n",
    "# ct_RTonly"
   ]
  },
  {
   "cell_type": "code",
   "execution_count": 237,
   "id": "12e03b43",
   "metadata": {
    "execution": {
     "iopub.execute_input": "2023-08-13T06:10:37.420518Z",
     "iopub.status.busy": "2023-08-13T06:10:37.420078Z",
     "iopub.status.idle": "2023-08-13T06:10:37.425149Z",
     "shell.execute_reply": "2023-08-13T06:10:37.423905Z"
    },
    "papermill": {
     "duration": 0.125236,
     "end_time": "2023-08-13T06:10:37.427419",
     "exception": false,
     "start_time": "2023-08-13T06:10:37.302183",
     "status": "completed"
    },
    "tags": []
   },
   "outputs": [],
   "source": [
    "# pipe_RTonly = Pipeline(steps=[\n",
    "#     (\"preprocessor\", ct_RTonly),\n",
    "#     (\"model\", LogisticRegression())\n",
    "# ])\n",
    "\n",
    "# pipe_RTonly.set_params(model__C=10, model__max_iter=100000)\n",
    "\n",
    "# pipe_RTonly"
   ]
  },
  {
   "cell_type": "markdown",
   "id": "9c4d3ef5",
   "metadata": {
    "papermill": {
     "duration": 0.114996,
     "end_time": "2023-08-13T06:10:37.730048",
     "exception": false,
     "start_time": "2023-08-13T06:10:37.615052",
     "status": "completed"
    },
    "tags": []
   },
   "source": [
    "## Using the 'submit_v4' function  "
   ]
  },
  {
   "cell_type": "markdown",
   "id": "91da75fe",
   "metadata": {
    "papermill": {
     "duration": 0.114582,
     "end_time": "2023-08-13T06:10:37.959811",
     "exception": false,
     "start_time": "2023-08-13T06:10:37.845229",
     "status": "completed"
    },
    "tags": []
   },
   "source": [
    "### Try the best 4 parameters with submit_v4 function"
   ]
  },
  {
   "cell_type": "code",
   "execution_count": 238,
   "id": "b0544161",
   "metadata": {
    "execution": {
     "iopub.execute_input": "2023-08-13T06:10:38.198533Z",
     "iopub.status.busy": "2023-08-13T06:10:38.198027Z",
     "iopub.status.idle": "2023-08-13T06:10:38.202871Z",
     "shell.execute_reply": "2023-08-13T06:10:38.201754Z"
    },
    "papermill": {
     "duration": 0.125779,
     "end_time": "2023-08-13T06:10:38.205089",
     "exception": false,
     "start_time": "2023-08-13T06:10:38.079310",
     "status": "completed"
    },
    "tags": []
   },
   "outputs": [],
   "source": [
    "# best4 = [\"audienceScore\", \"rating\", \"isFrequentReviewer\", \"reviewText\"]\n",
    "\n",
    "# best4_dict = {'cat': [\"rating\", \"isFrequentReviewer\"],\n",
    "#              'num': [\"audienceScore\"],\n",
    "#              'txt': ['reviewText']}\n",
    "\n",
    "# best4_dict = {'num': [\"audienceScore\"],\n",
    "#              'txt': ['reviewText', 'movieid', 'director']}\n",
    "\n",
    "# best4_dict"
   ]
  },
  {
   "cell_type": "code",
   "execution_count": 239,
   "id": "525fb6cd",
   "metadata": {
    "execution": {
     "iopub.execute_input": "2023-08-13T06:10:38.439972Z",
     "iopub.status.busy": "2023-08-13T06:10:38.439537Z",
     "iopub.status.idle": "2023-08-13T06:10:38.444105Z",
     "shell.execute_reply": "2023-08-13T06:10:38.443267Z"
    },
    "papermill": {
     "duration": 0.123243,
     "end_time": "2023-08-13T06:10:38.446154",
     "exception": false,
     "start_time": "2023-08-13T06:10:38.322911",
     "status": "completed"
    },
    "tags": []
   },
   "outputs": [],
   "source": [
    "# submit_v4(selected_features=best4_dict)"
   ]
  },
  {
   "cell_type": "markdown",
   "id": "391155f0",
   "metadata": {
    "papermill": {
     "duration": 0.117534,
     "end_time": "2023-08-13T06:10:38.679495",
     "exception": false,
     "start_time": "2023-08-13T06:10:38.561961",
     "status": "completed"
    },
    "tags": []
   },
   "source": [
    "### Try the best 3 parameters with submit_v4 function"
   ]
  },
  {
   "cell_type": "code",
   "execution_count": 240,
   "id": "c5c04581",
   "metadata": {
    "execution": {
     "iopub.execute_input": "2023-08-13T06:10:38.917758Z",
     "iopub.status.busy": "2023-08-13T06:10:38.916803Z",
     "iopub.status.idle": "2023-08-13T06:10:38.923445Z",
     "shell.execute_reply": "2023-08-13T06:10:38.922305Z"
    },
    "papermill": {
     "duration": 0.132995,
     "end_time": "2023-08-13T06:10:38.927893",
     "exception": false,
     "start_time": "2023-08-13T06:10:38.794898",
     "status": "completed"
    },
    "tags": []
   },
   "outputs": [],
   "source": [
    "# best3 = [\"audienceScore\", \"isFrequentReviewer\", \"reviewText\"]\n",
    "# best3_dict = {'cat': [\"isFrequentReviewer\"],\n",
    "#              'num': [\"audienceScore\"],\n",
    "#              'txt': ['reviewText']}\n",
    "# best3_dict"
   ]
  },
  {
   "cell_type": "code",
   "execution_count": 241,
   "id": "c905b06d",
   "metadata": {
    "execution": {
     "iopub.execute_input": "2023-08-13T06:10:39.190437Z",
     "iopub.status.busy": "2023-08-13T06:10:39.186977Z",
     "iopub.status.idle": "2023-08-13T06:10:39.195098Z",
     "shell.execute_reply": "2023-08-13T06:10:39.193538Z"
    },
    "papermill": {
     "duration": 0.150627,
     "end_time": "2023-08-13T06:10:39.197499",
     "exception": false,
     "start_time": "2023-08-13T06:10:39.046872",
     "status": "completed"
    },
    "tags": []
   },
   "outputs": [],
   "source": [
    "# submit_v4(selected_features=best3_dict)"
   ]
  },
  {
   "cell_type": "markdown",
   "id": "19fd665d",
   "metadata": {
    "papermill": {
     "duration": 0.116546,
     "end_time": "2023-08-13T06:10:39.432875",
     "exception": false,
     "start_time": "2023-08-13T06:10:39.316329",
     "status": "completed"
    },
    "tags": []
   },
   "source": [
    "## Try throwing almost everything (no boxOffice) at submit_v4!  "
   ]
  },
  {
   "cell_type": "code",
   "execution_count": 242,
   "id": "8b9f735f",
   "metadata": {
    "execution": {
     "iopub.execute_input": "2023-08-13T06:10:39.674451Z",
     "iopub.status.busy": "2023-08-13T06:10:39.673274Z",
     "iopub.status.idle": "2023-08-13T06:10:39.680215Z",
     "shell.execute_reply": "2023-08-13T06:10:39.679092Z"
    },
    "papermill": {
     "duration": 0.131041,
     "end_time": "2023-08-13T06:10:39.682603",
     "exception": false,
     "start_time": "2023-08-13T06:10:39.551562",
     "status": "completed"
    },
    "tags": []
   },
   "outputs": [
    {
     "data": {
      "text/plain": [
       "\"Most from merged = ['movieid', 'reviewerName', 'isFrequentReviewer', 'reviewText',\\n       'audienceScore', 'rating', 'runtimeMinutes', 'genre', \\n       'originalLanguage', 'director']\""
      ]
     },
     "execution_count": 242,
     "metadata": {},
     "output_type": "execute_result"
    }
   ],
   "source": [
    "\"\"\"Most from merged = ['movieid', 'reviewerName', 'isFrequentReviewer', 'reviewText',\n",
    "       'audienceScore', 'rating', 'runtimeMinutes', 'genre', \n",
    "       'originalLanguage', 'director']\"\"\"\n",
    "\n",
    "# almost_dict = {'cat': [\"isFrequentReviewer\", \"rating\", \"originalLanguage\"],\n",
    "#              'num': [\"audienceScore\", \"runtimeMinutes\"],\n",
    "#              'txt': ['reviewText', 'reviewerName', 'movieid', 'genre', 'director']}\n",
    "# almost_dict"
   ]
  },
  {
   "cell_type": "code",
   "execution_count": 243,
   "id": "954da2be",
   "metadata": {
    "execution": {
     "iopub.execute_input": "2023-08-13T06:10:39.920562Z",
     "iopub.status.busy": "2023-08-13T06:10:39.920127Z",
     "iopub.status.idle": "2023-08-13T06:10:39.924193Z",
     "shell.execute_reply": "2023-08-13T06:10:39.923211Z"
    },
    "papermill": {
     "duration": 0.126109,
     "end_time": "2023-08-13T06:10:39.926610",
     "exception": false,
     "start_time": "2023-08-13T06:10:39.800501",
     "status": "completed"
    },
    "tags": []
   },
   "outputs": [],
   "source": [
    "# submit_v4(selected_features=almost_dict)"
   ]
  },
  {
   "cell_type": "markdown",
   "id": "4eab8005",
   "metadata": {
    "papermill": {
     "duration": 0.116726,
     "end_time": "2023-08-13T06:10:40.158975",
     "exception": false,
     "start_time": "2023-08-13T06:10:40.042249",
     "status": "completed"
    },
    "tags": []
   },
   "source": [
    "## Try throwing everything possible at submit_v4!  "
   ]
  },
  {
   "cell_type": "code",
   "execution_count": 244,
   "id": "50ca371d",
   "metadata": {
    "execution": {
     "iopub.execute_input": "2023-08-13T06:10:40.393465Z",
     "iopub.status.busy": "2023-08-13T06:10:40.392999Z",
     "iopub.status.idle": "2023-08-13T06:10:40.400053Z",
     "shell.execute_reply": "2023-08-13T06:10:40.398927Z"
    },
    "papermill": {
     "duration": 0.126435,
     "end_time": "2023-08-13T06:10:40.402356",
     "exception": false,
     "start_time": "2023-08-13T06:10:40.275921",
     "status": "completed"
    },
    "tags": []
   },
   "outputs": [
    {
     "data": {
      "text/plain": [
       "\"All from merged = ['movieid', 'reviewerName', 'isFrequentReviewer', 'reviewText',\\n       'audienceScore', 'rating', 'runtimeMinutes', 'genre', 'boxOffice',\\n       'originalLanguage', 'director']\""
      ]
     },
     "execution_count": 244,
     "metadata": {},
     "output_type": "execute_result"
    }
   ],
   "source": [
    "\"\"\"All from merged = ['movieid', 'reviewerName', 'isFrequentReviewer', 'reviewText',\n",
    "       'audienceScore', 'rating', 'runtimeMinutes', 'genre', 'boxOffice',\n",
    "       'originalLanguage', 'director']\"\"\"\n",
    "\n",
    "# all_dict = {'cat': [\"isFrequentReviewer\", \"rating\", \"originalLanguage\"],\n",
    "#              'num': [\"audienceScore\", \"runtimeMinutes\", \"boxOffice\"],\n",
    "#              'txt': ['reviewText', 'reviewerName', 'movieid', 'genre', 'director']}\n",
    "# all_dict"
   ]
  },
  {
   "cell_type": "code",
   "execution_count": 245,
   "id": "321b21b6",
   "metadata": {
    "execution": {
     "iopub.execute_input": "2023-08-13T06:10:40.654561Z",
     "iopub.status.busy": "2023-08-13T06:10:40.653695Z",
     "iopub.status.idle": "2023-08-13T06:10:40.658851Z",
     "shell.execute_reply": "2023-08-13T06:10:40.657764Z"
    },
    "papermill": {
     "duration": 0.141141,
     "end_time": "2023-08-13T06:10:40.661280",
     "exception": false,
     "start_time": "2023-08-13T06:10:40.520139",
     "status": "completed"
    },
    "tags": []
   },
   "outputs": [],
   "source": [
    "# submit_v4(selected_features=all_dict)"
   ]
  },
  {
   "cell_type": "markdown",
   "id": "a6213523",
   "metadata": {
    "papermill": {
     "duration": 0.117588,
     "end_time": "2023-08-13T06:10:40.899806",
     "exception": false,
     "start_time": "2023-08-13T06:10:40.782218",
     "status": "completed"
    },
    "tags": []
   },
   "source": [
    "## Try GridSearchCV on everything  "
   ]
  },
  {
   "cell_type": "code",
   "execution_count": 246,
   "id": "67b8f691",
   "metadata": {
    "execution": {
     "iopub.execute_input": "2023-08-13T06:10:41.152826Z",
     "iopub.status.busy": "2023-08-13T06:10:41.152268Z",
     "iopub.status.idle": "2023-08-13T06:10:41.158196Z",
     "shell.execute_reply": "2023-08-13T06:10:41.157073Z"
    },
    "papermill": {
     "duration": 0.127544,
     "end_time": "2023-08-13T06:10:41.160844",
     "exception": false,
     "start_time": "2023-08-13T06:10:41.033300",
     "status": "completed"
    },
    "tags": []
   },
   "outputs": [],
   "source": [
    "# param_grid = {\n",
    "#     \"model__C\": [0.5, 2, 5, 15]\n",
    "# }\n",
    "\n",
    "# param_grid = {\n",
    "#     'model__C' : [1, 5],\n",
    "#     'model__solver': ['lbfgs', 'liblinear', 'newton-cg', 'newton-cholesky', 'sag', 'saga']\n",
    "# }\n",
    "\n",
    "# param_grid = {\n",
    "#     'model__C' : [1, 5],\n",
    "#     'model__solver': ['lbfgs', 'liblinear', 'sag', 'saga']\n",
    "# }\n",
    "\n",
    "# param_grid = {\n",
    "#     'model__C' : [1, 5, 10, 15],\n",
    "#     'model__solver': ['lbfgs', 'liblinear', 'saga', 'newton-cg']\n",
    "# }\n",
    "\n",
    "# param_grid = {\n",
    "#     'model__C' : [1, 5, 10, 20],\n",
    "#     'model__solver': ['lbfgs', 'liblinear', 'saga']\n",
    "# }\n",
    "\n",
    "# param_grid"
   ]
  },
  {
   "cell_type": "code",
   "execution_count": 247,
   "id": "d88619c7",
   "metadata": {
    "execution": {
     "iopub.execute_input": "2023-08-13T06:10:41.403257Z",
     "iopub.status.busy": "2023-08-13T06:10:41.402141Z",
     "iopub.status.idle": "2023-08-13T06:10:41.407787Z",
     "shell.execute_reply": "2023-08-13T06:10:41.406516Z"
    },
    "papermill": {
     "duration": 0.130162,
     "end_time": "2023-08-13T06:10:41.410097",
     "exception": false,
     "start_time": "2023-08-13T06:10:41.279935",
     "status": "completed"
    },
    "tags": []
   },
   "outputs": [],
   "source": [
    "# submit_v4(selected_features={'txt': [\"genre\"]}, param_grid=param_grid)"
   ]
  },
  {
   "cell_type": "code",
   "execution_count": 248,
   "id": "e06ca431",
   "metadata": {
    "execution": {
     "iopub.execute_input": "2023-08-13T06:10:41.652652Z",
     "iopub.status.busy": "2023-08-13T06:10:41.652200Z",
     "iopub.status.idle": "2023-08-13T06:10:41.660771Z",
     "shell.execute_reply": "2023-08-13T06:10:41.659581Z"
    },
    "papermill": {
     "duration": 0.133135,
     "end_time": "2023-08-13T06:10:41.663337",
     "exception": false,
     "start_time": "2023-08-13T06:10:41.530202",
     "status": "completed"
    },
    "tags": []
   },
   "outputs": [
    {
     "data": {
      "text/plain": [
       "\"Used 'groupby' function instead on 'drop_duplicates' on movies.csv file. \\nIt reduced the number of missing values significantly! \\nThen used LogisticRegression() with GridSearchCV on submit_v4 function with \\nparam_grid={'model__C': [1, 5, 10], 'model__solver': ['lbfgs', 'liblinear', 'saga']}. \\nThe best f1_micro score in GridSearchCV was 0.8399771362056203 which is highest among \\nall the versions so far. Best C was 5 and best solver was 'saga'.\\nScore obtained was 0.84385 which is lower than 0.84441.\""
      ]
     },
     "execution_count": 248,
     "metadata": {},
     "output_type": "execute_result"
    }
   ],
   "source": [
    "# submit_v4(selected_features=all_dict, param_grid=param_grid)\n",
    "\n",
    "# Best C was 5\n",
    "# Best solver was liblinear\n",
    "\n",
    "\"\"\"Used 'groupby' function instead on 'drop_duplicates' on movies.csv file. \n",
    "It reduced the number of missing values significantly! \n",
    "Then used LogisticRegression() with GridSearchCV on submit_v4 function with \n",
    "param_grid={'model__C': [1, 5, 10], 'model__solver': ['lbfgs', 'liblinear', 'saga']}. \n",
    "The best f1_micro score in GridSearchCV was 0.8399771362056203 which is highest among \n",
    "all the versions so far. Best C was 5 and best solver was 'saga'.\n",
    "Score obtained was 0.84385 which is lower than 0.84441.\"\"\""
   ]
  },
  {
   "cell_type": "code",
   "execution_count": 249,
   "id": "d1999132",
   "metadata": {
    "execution": {
     "iopub.execute_input": "2023-08-13T06:10:41.902709Z",
     "iopub.status.busy": "2023-08-13T06:10:41.902267Z",
     "iopub.status.idle": "2023-08-13T06:10:41.907414Z",
     "shell.execute_reply": "2023-08-13T06:10:41.906105Z"
    },
    "papermill": {
     "duration": 0.127613,
     "end_time": "2023-08-13T06:10:41.909950",
     "exception": false,
     "start_time": "2023-08-13T06:10:41.782337",
     "status": "completed"
    },
    "tags": []
   },
   "outputs": [],
   "source": [
    "# Best 5 parameters\n",
    "\n",
    "# best5_dict = {'num': [\"audienceScore\"],\n",
    "#              'txt': ['reviewText', 'reviewerName','movieid', 'director']}\n",
    "\n",
    "# best5_dict"
   ]
  },
  {
   "cell_type": "code",
   "execution_count": 250,
   "id": "705c91d1",
   "metadata": {
    "execution": {
     "iopub.execute_input": "2023-08-13T06:10:42.148699Z",
     "iopub.status.busy": "2023-08-13T06:10:42.148240Z",
     "iopub.status.idle": "2023-08-13T06:10:42.156360Z",
     "shell.execute_reply": "2023-08-13T06:10:42.155309Z"
    },
    "papermill": {
     "duration": 0.12987,
     "end_time": "2023-08-13T06:10:42.158509",
     "exception": false,
     "start_time": "2023-08-13T06:10:42.028639",
     "status": "completed"
    },
    "tags": []
   },
   "outputs": [
    {
     "data": {
      "text/plain": [
       "\"(Update): Used both CountVectorizer and TfidfVectorizer on a massive GridSearchCV \\nwhich took 22527.2s  (6.25 hrs) to run! Gave a score of 0.8439093822800923 locally and did not overfit!\\nBest params: {'model__C': 1, 'model__solver': 'liblinear'}.\\nHighest public score yet: 0.84591 (Rank up from 9 to 5!)\""
      ]
     },
     "execution_count": 250,
     "metadata": {},
     "output_type": "execute_result"
    }
   ],
   "source": [
    "# Submit best 5 features\n",
    "\n",
    "\"\"\"(Update): Used both CountVectorizer and TfidfVectorizer on a massive GridSearchCV \n",
    "which took 22527.2s  (6.25 hrs) to run! Gave a score of 0.8439093822800923 locally and did not overfit!\n",
    "Best params: {'model__C': 1, 'model__solver': 'liblinear'}.\n",
    "Highest public score yet: 0.84591 (Rank up from 9 to 5!)\"\"\"\n",
    "\n",
    "# param_grid = {\n",
    "#     'model__C' : [5, 10, 15],\n",
    "#     'model__solver': ['lbfgs', 'liblinear', 'saga']\n",
    "# }\n",
    "\n",
    "\n",
    "# Try new param_grid with fit_intercept and dual in logreg\n",
    "\n",
    "# param_grid = {\n",
    "#     'model__C' : [1],\n",
    "#     'model__solver': ['liblinear'],\n",
    "#     \"model__fit_intercept\" : [True, False],\n",
    "#     \"model__dual\" : [True, False] \n",
    "# }\n",
    "\n",
    "\n",
    "# Local testing  \n",
    "# submit_v4(selected_features={'num': ['audienceScore']},\n",
    "#          add_countvec=True)\n",
    "\n",
    "# submit_v4(selected_features={'num': ['audienceScore']},\n",
    "#          add_countvec=True, \n",
    "#           param_grid=param_grid)\n",
    "\n",
    "\n",
    "# Main submission\n",
    "\n",
    "# submit_v4(selected_features=best5_dict,\n",
    "#          add_countvec=True)\n",
    "\n",
    "\n",
    "# submit_v4(selected_features=best5_dict,\n",
    "#           add_countvec=True,\n",
    "#           param_grid=param_grid)"
   ]
  },
  {
   "cell_type": "code",
   "execution_count": 251,
   "id": "3f68543d",
   "metadata": {
    "execution": {
     "iopub.execute_input": "2023-08-13T06:10:42.396168Z",
     "iopub.status.busy": "2023-08-13T06:10:42.395765Z",
     "iopub.status.idle": "2023-08-13T06:10:42.401353Z",
     "shell.execute_reply": "2023-08-13T06:10:42.400189Z"
    },
    "papermill": {
     "duration": 0.12822,
     "end_time": "2023-08-13T06:10:42.403688",
     "exception": false,
     "start_time": "2023-08-13T06:10:42.275468",
     "status": "completed"
    },
    "tags": []
   },
   "outputs": [],
   "source": [
    "## ALL DICT cv=10\n",
    "\n",
    "# all_dict = {'cat': [\"isFrequentReviewer\", \"rating\", \"originalLanguage\"],\n",
    "#              'num': [\"audienceScore\", \"runtimeMinutes\", \"boxOffice\"],\n",
    "#              'txt': ['reviewText', 'reviewerName', 'movieid', 'genre', 'director']}\n",
    "# print(all_dict)\n",
    "\n",
    "# param_grid = {\n",
    "#     'model__C' : [2, 5, 10],\n",
    "#     'model__solver': ['lbfgs', 'liblinear', 'saga']\n",
    "# }\n",
    "# print(param_grid)\n",
    "\n",
    "# param_grid = {\n",
    "#     'model__C' : [1, 5, 10],\n",
    "#     'model__solver': ['liblinear'],\n",
    "#     \"model__fit_intercept\" : [True, False],\n",
    "#     \"model__dual\" : [True, False] \n",
    "# }\n",
    "\n",
    "\n",
    "# Main submission\n",
    "\n",
    "# submit_v4(selected_model=LogisticRegression(C=5, solver='liblinear', max_iter=10000),\n",
    "#           selected_features=all_dict,\n",
    "#           param_grid=param_grid)\n",
    "\n",
    "# submit_v4(selected_features=all_dict,\n",
    "#           add_countvec=True,\n",
    "#           param_grid=param_grid)"
   ]
  },
  {
   "cell_type": "code",
   "execution_count": 252,
   "id": "ceba1310",
   "metadata": {
    "execution": {
     "iopub.execute_input": "2023-08-13T06:10:42.711773Z",
     "iopub.status.busy": "2023-08-13T06:10:42.711359Z",
     "iopub.status.idle": "2023-08-13T06:10:42.715749Z",
     "shell.execute_reply": "2023-08-13T06:10:42.714891Z"
    },
    "papermill": {
     "duration": 0.12503,
     "end_time": "2023-08-13T06:10:42.717924",
     "exception": false,
     "start_time": "2023-08-13T06:10:42.592894",
     "status": "completed"
    },
    "tags": []
   },
   "outputs": [],
   "source": [
    "# Best 6 parameters\n",
    "\n",
    "# best6_dict = {'cat': [\"isFrequentReviewer\"],\n",
    "#              'num': [\"audienceScore\"],\n",
    "#              'txt': ['reviewText', 'reviewerName', 'genre', 'director']}\n",
    "\n",
    "# best6_dict = {'num': [\"audienceScore\"],\n",
    "#              'txt': ['reviewText', 'reviewerName', 'genre','movieid', 'director']}\n",
    "\n",
    "# best6_dict"
   ]
  },
  {
   "cell_type": "code",
   "execution_count": 253,
   "id": "7ebd309f",
   "metadata": {
    "execution": {
     "iopub.execute_input": "2023-08-13T06:10:42.955141Z",
     "iopub.status.busy": "2023-08-13T06:10:42.954710Z",
     "iopub.status.idle": "2023-08-13T06:10:42.959611Z",
     "shell.execute_reply": "2023-08-13T06:10:42.958390Z"
    },
    "papermill": {
     "duration": 0.125923,
     "end_time": "2023-08-13T06:10:42.961941",
     "exception": false,
     "start_time": "2023-08-13T06:10:42.836018",
     "status": "completed"
    },
    "tags": []
   },
   "outputs": [],
   "source": [
    "# Submit best 6 features (version 2)\n",
    "\n",
    "# submit_v4(selected_features=best6_dict,\n",
    "#           param_grid=param_grid)"
   ]
  },
  {
   "cell_type": "code",
   "execution_count": 254,
   "id": "ef753e2a",
   "metadata": {
    "execution": {
     "iopub.execute_input": "2023-08-13T06:10:43.196523Z",
     "iopub.status.busy": "2023-08-13T06:10:43.196029Z",
     "iopub.status.idle": "2023-08-13T06:10:43.200918Z",
     "shell.execute_reply": "2023-08-13T06:10:43.199687Z"
    },
    "papermill": {
     "duration": 0.125016,
     "end_time": "2023-08-13T06:10:43.203062",
     "exception": false,
     "start_time": "2023-08-13T06:10:43.078046",
     "status": "completed"
    },
    "tags": []
   },
   "outputs": [],
   "source": [
    "# Best 7 parameters\n",
    "\n",
    "# best7_dict = {'cat': [\"isFrequentReviewer\"],\n",
    "#              'num': [\"audienceScore\"],\n",
    "#              'txt': ['reviewText', 'reviewerName', 'movieid', 'genre', 'director']}\n",
    "# best7_dict"
   ]
  },
  {
   "cell_type": "code",
   "execution_count": 255,
   "id": "e6399429",
   "metadata": {
    "execution": {
     "iopub.execute_input": "2023-08-13T06:10:43.442346Z",
     "iopub.status.busy": "2023-08-13T06:10:43.441925Z",
     "iopub.status.idle": "2023-08-13T06:10:43.446817Z",
     "shell.execute_reply": "2023-08-13T06:10:43.445583Z"
    },
    "papermill": {
     "duration": 0.127451,
     "end_time": "2023-08-13T06:10:43.449231",
     "exception": false,
     "start_time": "2023-08-13T06:10:43.321780",
     "status": "completed"
    },
    "tags": []
   },
   "outputs": [],
   "source": [
    "# Submit best 7 features\n",
    "\n",
    "# submit_v4(selected_features=best7_dict,\n",
    "#           param_grid=param_grid)"
   ]
  },
  {
   "cell_type": "code",
   "execution_count": 256,
   "id": "cb7e5ce7",
   "metadata": {
    "execution": {
     "iopub.execute_input": "2023-08-13T06:10:43.688071Z",
     "iopub.status.busy": "2023-08-13T06:10:43.686860Z",
     "iopub.status.idle": "2023-08-13T06:10:43.691481Z",
     "shell.execute_reply": "2023-08-13T06:10:43.690637Z"
    },
    "papermill": {
     "duration": 0.126068,
     "end_time": "2023-08-13T06:10:43.693729",
     "exception": false,
     "start_time": "2023-08-13T06:10:43.567661",
     "status": "completed"
    },
    "tags": []
   },
   "outputs": [],
   "source": [
    "# submit_v4(selected_features=best6_dict, param_grid=param_grid)"
   ]
  },
  {
   "cell_type": "markdown",
   "id": "67657ce6",
   "metadata": {
    "papermill": {
     "duration": 0.119215,
     "end_time": "2023-08-13T06:10:43.932285",
     "exception": false,
     "start_time": "2023-08-13T06:10:43.813070",
     "status": "completed"
    },
    "tags": []
   },
   "source": [
    "## Try a new feature dict  \n",
    "\n"
   ]
  },
  {
   "cell_type": "code",
   "execution_count": 257,
   "id": "d29ce34c",
   "metadata": {
    "execution": {
     "iopub.execute_input": "2023-08-13T06:10:44.171993Z",
     "iopub.status.busy": "2023-08-13T06:10:44.171224Z",
     "iopub.status.idle": "2023-08-13T06:10:44.175635Z",
     "shell.execute_reply": "2023-08-13T06:10:44.174591Z"
    },
    "papermill": {
     "duration": 0.126612,
     "end_time": "2023-08-13T06:10:44.178088",
     "exception": false,
     "start_time": "2023-08-13T06:10:44.051476",
     "status": "completed"
    },
    "tags": []
   },
   "outputs": [],
   "source": [
    "# all_dict_new = {'cat': [\"isFrequentReviewer\", \"rating\", \"originalLanguage\"],\n",
    "#              'num': [\"audienceScore\", \"runtimeMinutes\", \"boxOffice\"],\n",
    "#              'txt': ['reviewText', \"reviewerName\", 'movieid', 'genre', 'director']}\n",
    "# all_dict_new"
   ]
  },
  {
   "cell_type": "code",
   "execution_count": 258,
   "id": "6abecc93",
   "metadata": {
    "execution": {
     "iopub.execute_input": "2023-08-13T06:10:44.415546Z",
     "iopub.status.busy": "2023-08-13T06:10:44.415086Z",
     "iopub.status.idle": "2023-08-13T06:10:44.419183Z",
     "shell.execute_reply": "2023-08-13T06:10:44.418396Z"
    },
    "papermill": {
     "duration": 0.124937,
     "end_time": "2023-08-13T06:10:44.421200",
     "exception": false,
     "start_time": "2023-08-13T06:10:44.296263",
     "status": "completed"
    },
    "tags": []
   },
   "outputs": [],
   "source": [
    "# submit_v4(selected_features={'txt': ['genre']}, param_grid=param_grid)"
   ]
  },
  {
   "cell_type": "code",
   "execution_count": 259,
   "id": "2975568b",
   "metadata": {
    "execution": {
     "iopub.execute_input": "2023-08-13T06:10:44.655821Z",
     "iopub.status.busy": "2023-08-13T06:10:44.655075Z",
     "iopub.status.idle": "2023-08-13T06:10:44.659353Z",
     "shell.execute_reply": "2023-08-13T06:10:44.658496Z"
    },
    "papermill": {
     "duration": 0.124981,
     "end_time": "2023-08-13T06:10:44.661615",
     "exception": false,
     "start_time": "2023-08-13T06:10:44.536634",
     "status": "completed"
    },
    "tags": []
   },
   "outputs": [],
   "source": [
    "# submit_v4(selected_features=all_dict_new, param_grid=param_grid)"
   ]
  },
  {
   "cell_type": "code",
   "execution_count": 260,
   "id": "0b73f5a6",
   "metadata": {
    "execution": {
     "iopub.execute_input": "2023-08-13T06:10:44.901078Z",
     "iopub.status.busy": "2023-08-13T06:10:44.899824Z",
     "iopub.status.idle": "2023-08-13T06:10:44.905650Z",
     "shell.execute_reply": "2023-08-13T06:10:44.904206Z"
    },
    "papermill": {
     "duration": 0.128789,
     "end_time": "2023-08-13T06:10:44.908431",
     "exception": false,
     "start_time": "2023-08-13T06:10:44.779642",
     "status": "completed"
    },
    "tags": []
   },
   "outputs": [],
   "source": [
    "# Try non-text based columns\n",
    "# num_cat_dict = {'cat': ['isFrequentReviewer', 'rating', 'originalLanguage'],\n",
    "#  'num': ['audienceScore', 'runtimeMinutes', 'boxOffice']}\n",
    "# num_cat_dict"
   ]
  },
  {
   "cell_type": "code",
   "execution_count": 261,
   "id": "74da53a2",
   "metadata": {
    "execution": {
     "iopub.execute_input": "2023-08-13T06:10:45.143723Z",
     "iopub.status.busy": "2023-08-13T06:10:45.143242Z",
     "iopub.status.idle": "2023-08-13T06:10:45.148504Z",
     "shell.execute_reply": "2023-08-13T06:10:45.147287Z"
    },
    "papermill": {
     "duration": 0.126015,
     "end_time": "2023-08-13T06:10:45.151004",
     "exception": false,
     "start_time": "2023-08-13T06:10:45.024989",
     "status": "completed"
    },
    "tags": []
   },
   "outputs": [],
   "source": [
    "# Use num_cat_dict features\n",
    "# (Update): Gets a local score of 0.7027181356991726. Not great.\n",
    "# submit_v4(selected_model=LogisticRegression(max_iter=100000), selected_features=num_cat_dict, param_grid=param_grid)"
   ]
  },
  {
   "cell_type": "code",
   "execution_count": 262,
   "id": "871a7c8d",
   "metadata": {
    "execution": {
     "iopub.execute_input": "2023-08-13T06:10:45.387883Z",
     "iopub.status.busy": "2023-08-13T06:10:45.387410Z",
     "iopub.status.idle": "2023-08-13T06:10:45.392276Z",
     "shell.execute_reply": "2023-08-13T06:10:45.391136Z"
    },
    "papermill": {
     "duration": 0.127648,
     "end_time": "2023-08-13T06:10:45.394870",
     "exception": false,
     "start_time": "2023-08-13T06:10:45.267222",
     "status": "completed"
    },
    "tags": []
   },
   "outputs": [],
   "source": [
    "# Try data other than reviewText\n",
    "\n",
    "# mov_dict = {'cat': ['rating', 'originalLanguage'],\n",
    "#  'num': ['audienceScore', 'runtimeMinutes', 'boxOffice'],\n",
    "#  'txt': ['movieid', 'genre', 'director']}\n",
    "# mov_dict"
   ]
  },
  {
   "cell_type": "code",
   "execution_count": 263,
   "id": "456f5adc",
   "metadata": {
    "execution": {
     "iopub.execute_input": "2023-08-13T06:10:45.632772Z",
     "iopub.status.busy": "2023-08-13T06:10:45.631912Z",
     "iopub.status.idle": "2023-08-13T06:10:45.636966Z",
     "shell.execute_reply": "2023-08-13T06:10:45.636161Z"
    },
    "papermill": {
     "duration": 0.127053,
     "end_time": "2023-08-13T06:10:45.639234",
     "exception": false,
     "start_time": "2023-08-13T06:10:45.512181",
     "status": "completed"
    },
    "tags": []
   },
   "outputs": [],
   "source": [
    "# Use mov_dict features\n",
    "# (Update): Gets a local score of 0.7475454316469369, which is not bad at all.\n",
    "# submit_v4(selected_model=LogisticRegression(max_iter=100000), selected_features=mov_dict, param_grid=param_grid)"
   ]
  },
  {
   "cell_type": "markdown",
   "id": "e2a809dd",
   "metadata": {
    "papermill": {
     "duration": 0.116478,
     "end_time": "2023-08-13T06:10:45.876271",
     "exception": false,
     "start_time": "2023-08-13T06:10:45.759793",
     "status": "completed"
    },
    "tags": []
   },
   "source": [
    "# Try a new column 'reviewYN'  \n",
    "\n"
   ]
  },
  {
   "cell_type": "code",
   "execution_count": 264,
   "id": "8dbf27bf",
   "metadata": {
    "execution": {
     "iopub.execute_input": "2023-08-13T06:10:46.110566Z",
     "iopub.status.busy": "2023-08-13T06:10:46.109762Z",
     "iopub.status.idle": "2023-08-13T06:10:46.113904Z",
     "shell.execute_reply": "2023-08-13T06:10:46.113112Z"
    },
    "papermill": {
     "duration": 0.123652,
     "end_time": "2023-08-13T06:10:46.116093",
     "exception": false,
     "start_time": "2023-08-13T06:10:45.992441",
     "status": "completed"
    },
    "tags": []
   },
   "outputs": [],
   "source": [
    "# all_dict_3 = {'cat': [\"isFrequentReviewer\", \"rating\", \"originalLanguage\", \"reviewYN\"],\n",
    "#              'num': [\"audienceScore\", \"runtimeMinutes\", \"boxOffice\"],\n",
    "#              'txt': ['reviewText', \"reviewerName\", 'movieid', 'genre', 'director']}\n",
    "# all_dict_3"
   ]
  },
  {
   "cell_type": "code",
   "execution_count": 265,
   "id": "a6efdca1",
   "metadata": {
    "execution": {
     "iopub.execute_input": "2023-08-13T06:10:46.351570Z",
     "iopub.status.busy": "2023-08-13T06:10:46.350876Z",
     "iopub.status.idle": "2023-08-13T06:10:46.355162Z",
     "shell.execute_reply": "2023-08-13T06:10:46.354373Z"
    },
    "papermill": {
     "duration": 0.125281,
     "end_time": "2023-08-13T06:10:46.357709",
     "exception": false,
     "start_time": "2023-08-13T06:10:46.232428",
     "status": "completed"
    },
    "tags": []
   },
   "outputs": [],
   "source": [
    "# submit_v4(selected_model=LogisticRegression(max_iter=100000),\n",
    "#          selected_features=all_dict_3, \n",
    "#           param_grid=param_grid)"
   ]
  },
  {
   "cell_type": "markdown",
   "id": "46cdad76",
   "metadata": {
    "papermill": {
     "duration": 0.117616,
     "end_time": "2023-08-13T06:10:46.592666",
     "exception": false,
     "start_time": "2023-08-13T06:10:46.475050",
     "status": "completed"
    },
    "tags": []
   },
   "source": [
    "### More GridSearchCV using LinearSVC  "
   ]
  },
  {
   "cell_type": "code",
   "execution_count": 266,
   "id": "b50d709d",
   "metadata": {
    "execution": {
     "iopub.execute_input": "2023-08-13T06:10:46.827008Z",
     "iopub.status.busy": "2023-08-13T06:10:46.826552Z",
     "iopub.status.idle": "2023-08-13T06:10:46.831398Z",
     "shell.execute_reply": "2023-08-13T06:10:46.830195Z"
    },
    "papermill": {
     "duration": 0.124771,
     "end_time": "2023-08-13T06:10:46.833591",
     "exception": false,
     "start_time": "2023-08-13T06:10:46.708820",
     "status": "completed"
    },
    "tags": []
   },
   "outputs": [],
   "source": [
    "# param_grid_svc_2 = {\n",
    "#     'model__C': [1.0],\n",
    "#     'model__loss': ['hinge', 'squared_hinge'],\n",
    "#     'model__class_weight': ['balanced', None]\n",
    "# }\n",
    "# param_grid_svc_2"
   ]
  },
  {
   "cell_type": "code",
   "execution_count": 267,
   "id": "5e6100f9",
   "metadata": {
    "execution": {
     "iopub.execute_input": "2023-08-13T06:10:47.070138Z",
     "iopub.status.busy": "2023-08-13T06:10:47.069672Z",
     "iopub.status.idle": "2023-08-13T06:10:47.074533Z",
     "shell.execute_reply": "2023-08-13T06:10:47.073400Z"
    },
    "papermill": {
     "duration": 0.127655,
     "end_time": "2023-08-13T06:10:47.076781",
     "exception": false,
     "start_time": "2023-08-13T06:10:46.949126",
     "status": "completed"
    },
    "tags": []
   },
   "outputs": [],
   "source": [
    "# submit_v4(selected_model=LinearSVC(max_iter=100000, random_state=42), selected_features={'num': [\"audienceScore\"]}, param_grid=param_grid_svc_2)"
   ]
  },
  {
   "cell_type": "code",
   "execution_count": 268,
   "id": "a438ca35",
   "metadata": {
    "execution": {
     "iopub.execute_input": "2023-08-13T06:10:47.313712Z",
     "iopub.status.busy": "2023-08-13T06:10:47.312842Z",
     "iopub.status.idle": "2023-08-13T06:10:47.317614Z",
     "shell.execute_reply": "2023-08-13T06:10:47.316629Z"
    },
    "papermill": {
     "duration": 0.126385,
     "end_time": "2023-08-13T06:10:47.320038",
     "exception": false,
     "start_time": "2023-08-13T06:10:47.193653",
     "status": "completed"
    },
    "tags": []
   },
   "outputs": [],
   "source": [
    "# submit_v4(selected_model=LinearSVC(max_iter=100000, random_state=42), selected_features=all_dict, param_grid=param_grid_svc_2)"
   ]
  },
  {
   "cell_type": "markdown",
   "id": "8ab015d9",
   "metadata": {
    "papermill": {
     "duration": 0.115098,
     "end_time": "2023-08-13T06:10:47.550736",
     "exception": false,
     "start_time": "2023-08-13T06:10:47.435638",
     "status": "completed"
    },
    "tags": []
   },
   "source": [
    "### Boosting techniques  "
   ]
  },
  {
   "cell_type": "code",
   "execution_count": 269,
   "id": "4b4c426c",
   "metadata": {
    "execution": {
     "iopub.execute_input": "2023-08-13T06:10:47.858654Z",
     "iopub.status.busy": "2023-08-13T06:10:47.858207Z",
     "iopub.status.idle": "2023-08-13T06:10:47.862705Z",
     "shell.execute_reply": "2023-08-13T06:10:47.861805Z"
    },
    "papermill": {
     "duration": 0.196332,
     "end_time": "2023-08-13T06:10:47.864789",
     "exception": false,
     "start_time": "2023-08-13T06:10:47.668457",
     "status": "completed"
    },
    "tags": []
   },
   "outputs": [],
   "source": [
    "# adc = AdaBoostClassifier(estimator=LogisticRegression(C=5, solver=\"saga\", max_iter=100000), n_estimators=50)\n",
    "# adc"
   ]
  },
  {
   "cell_type": "code",
   "execution_count": 270,
   "id": "e511fa84",
   "metadata": {
    "execution": {
     "iopub.execute_input": "2023-08-13T06:10:48.100698Z",
     "iopub.status.busy": "2023-08-13T06:10:48.099755Z",
     "iopub.status.idle": "2023-08-13T06:10:48.104855Z",
     "shell.execute_reply": "2023-08-13T06:10:48.103771Z"
    },
    "papermill": {
     "duration": 0.125892,
     "end_time": "2023-08-13T06:10:48.107287",
     "exception": false,
     "start_time": "2023-08-13T06:10:47.981395",
     "status": "completed"
    },
    "tags": []
   },
   "outputs": [],
   "source": [
    "# submit_v4(selected_model=adc, selected_features={'num': [\"audienceScore\"]}, param_grid=None)"
   ]
  },
  {
   "cell_type": "code",
   "execution_count": 271,
   "id": "3066e041",
   "metadata": {
    "execution": {
     "iopub.execute_input": "2023-08-13T06:10:48.348666Z",
     "iopub.status.busy": "2023-08-13T06:10:48.348179Z",
     "iopub.status.idle": "2023-08-13T06:10:48.353218Z",
     "shell.execute_reply": "2023-08-13T06:10:48.352109Z"
    },
    "papermill": {
     "duration": 0.128566,
     "end_time": "2023-08-13T06:10:48.355353",
     "exception": false,
     "start_time": "2023-08-13T06:10:48.226787",
     "status": "completed"
    },
    "tags": []
   },
   "outputs": [],
   "source": [
    "# submit_v4(selected_model=adc, selected_features=all_dict, param_grid=None)\n",
    "\n",
    "# Took 1 hour 15 mins to run and gave a public score of only 0.71089. Discarded."
   ]
  },
  {
   "cell_type": "markdown",
   "id": "959a6df2",
   "metadata": {
    "papermill": {
     "duration": 0.118613,
     "end_time": "2023-08-13T06:10:48.589818",
     "exception": false,
     "start_time": "2023-08-13T06:10:48.471205",
     "status": "completed"
    },
    "tags": []
   },
   "source": [
    "### LightGBM  "
   ]
  },
  {
   "cell_type": "code",
   "execution_count": 272,
   "id": "2d2a41db",
   "metadata": {
    "execution": {
     "iopub.execute_input": "2023-08-13T06:10:48.831396Z",
     "iopub.status.busy": "2023-08-13T06:10:48.830644Z",
     "iopub.status.idle": "2023-08-13T06:10:48.835776Z",
     "shell.execute_reply": "2023-08-13T06:10:48.834764Z"
    },
    "papermill": {
     "duration": 0.130468,
     "end_time": "2023-08-13T06:10:48.838141",
     "exception": false,
     "start_time": "2023-08-13T06:10:48.707673",
     "status": "completed"
    },
    "tags": []
   },
   "outputs": [],
   "source": [
    "# lgb = ltb.LGBMClassifier()\n",
    "# lgb"
   ]
  },
  {
   "cell_type": "code",
   "execution_count": 273,
   "id": "7da3b9ce",
   "metadata": {
    "execution": {
     "iopub.execute_input": "2023-08-13T06:10:49.078633Z",
     "iopub.status.busy": "2023-08-13T06:10:49.077925Z",
     "iopub.status.idle": "2023-08-13T06:10:49.082681Z",
     "shell.execute_reply": "2023-08-13T06:10:49.081794Z"
    },
    "papermill": {
     "duration": 0.127066,
     "end_time": "2023-08-13T06:10:49.085023",
     "exception": false,
     "start_time": "2023-08-13T06:10:48.957957",
     "status": "completed"
    },
    "tags": []
   },
   "outputs": [],
   "source": [
    "# Try LightGBM with default settings\n",
    "# (Update): Public score only 0.77713. It was fast, took less than 5 mins (without GridSearchCV)\n",
    "\n",
    "# submit_v4(selected_model=ltb.LGBMClassifier(), selected_features=all_dict, param_grid=None)"
   ]
  },
  {
   "cell_type": "markdown",
   "id": "251d3b77",
   "metadata": {
    "papermill": {
     "duration": 0.118353,
     "end_time": "2023-08-13T06:10:49.340441",
     "exception": false,
     "start_time": "2023-08-13T06:10:49.222088",
     "status": "completed"
    },
    "tags": []
   },
   "source": [
    "# Try feature selection and vocab fine tuning of reviewText column"
   ]
  },
  {
   "cell_type": "markdown",
   "id": "e75825db",
   "metadata": {
    "papermill": {
     "duration": 0.115217,
     "end_time": "2023-08-13T06:10:49.571359",
     "exception": false,
     "start_time": "2023-08-13T06:10:49.456142",
     "status": "completed"
    },
    "tags": []
   },
   "source": [
    "## Plan  \n",
    "* Add a new column 'reviewWC' which has word count of 'reviewText'  \n",
    "    * Check if there is any relationship between 'reviewWC' and 'sentiment'\n",
    "* Work on vocabulary\n",
    "     * Use TfidfVectorizer and find out the vocabulary of 'reviewText' column for various ngrams\n",
    "     * Use RecursiveFeatureElimination (RFE) or RFECV to select 1000 top words/vocab for each ngram\n",
    "     * Use the final vocab (1000-3000 words) in the model and see how it performs compared to whole vocab\n"
   ]
  },
  {
   "cell_type": "code",
   "execution_count": 274,
   "id": "bfb0c579",
   "metadata": {
    "execution": {
     "iopub.execute_input": "2023-08-13T06:10:49.810440Z",
     "iopub.status.busy": "2023-08-13T06:10:49.809999Z",
     "iopub.status.idle": "2023-08-13T06:10:49.815250Z",
     "shell.execute_reply": "2023-08-13T06:10:49.813642Z"
    },
    "papermill": {
     "duration": 0.12914,
     "end_time": "2023-08-13T06:10:49.817923",
     "exception": false,
     "start_time": "2023-08-13T06:10:49.688783",
     "status": "completed"
    },
    "tags": []
   },
   "outputs": [],
   "source": [
    "# 'reviewWC' and 'sentiment'\n",
    "# (Conclusion): 'reviewWC' is practically same as DummyClassifier (accuracy of 0.6682375059904889 on train data). It just predicts 'positive' for all columns\n",
    "\n",
    "# reviewWC_dict = {\"num\": [\"reviewWC\"]}\n",
    "# submit_v4(selected_model=LogisticRegression(),\n",
    "#          selected_features=reviewWC_dict,\n",
    "#          param_grid=None)"
   ]
  },
  {
   "cell_type": "code",
   "execution_count": 275,
   "id": "63fc0aab",
   "metadata": {
    "execution": {
     "iopub.execute_input": "2023-08-13T06:10:50.053619Z",
     "iopub.status.busy": "2023-08-13T06:10:50.052803Z",
     "iopub.status.idle": "2023-08-13T06:10:50.057659Z",
     "shell.execute_reply": "2023-08-13T06:10:50.056551Z"
    },
    "papermill": {
     "duration": 0.125216,
     "end_time": "2023-08-13T06:10:50.060011",
     "exception": false,
     "start_time": "2023-08-13T06:10:49.934795",
     "status": "completed"
    },
    "tags": []
   },
   "outputs": [],
   "source": [
    "# 'reviewYN' and 'sentiment'\n",
    "# (Conclusion): 'reviewYN' is practically same as DummyClassifier (accuracy of 0.6682375059904889 on train data). It just predicts 'positive' for all columns\n",
    "\n",
    "# reviewYN_dict = {\"cat\": [\"reviewYN\"]}\n",
    "# submit_v4(selected_model=LogisticRegression(),\n",
    "#          selected_features=reviewYN_dict,\n",
    "#          param_grid=None)"
   ]
  },
  {
   "cell_type": "markdown",
   "id": "3c8476ba",
   "metadata": {
    "papermill": {
     "duration": 0.118735,
     "end_time": "2023-08-13T06:10:50.295477",
     "exception": false,
     "start_time": "2023-08-13T06:10:50.176742",
     "status": "completed"
    },
    "tags": []
   },
   "source": [
    "## Submissions using 'vocabulary' built from 'reviewText' data  "
   ]
  },
  {
   "cell_type": "markdown",
   "id": "389ce3ec",
   "metadata": {
    "papermill": {
     "duration": 0.115608,
     "end_time": "2023-08-13T06:10:50.529259",
     "exception": false,
     "start_time": "2023-08-13T06:10:50.413651",
     "status": "completed"
    },
    "tags": []
   },
   "source": [
    "### Submit best 6 features along with common vocab  "
   ]
  },
  {
   "cell_type": "code",
   "execution_count": 276,
   "id": "f6805e25",
   "metadata": {
    "execution": {
     "iopub.execute_input": "2023-08-13T06:10:50.765368Z",
     "iopub.status.busy": "2023-08-13T06:10:50.764147Z",
     "iopub.status.idle": "2023-08-13T06:10:50.769180Z",
     "shell.execute_reply": "2023-08-13T06:10:50.768303Z"
    },
    "papermill": {
     "duration": 0.125743,
     "end_time": "2023-08-13T06:10:50.771578",
     "exception": false,
     "start_time": "2023-08-13T06:10:50.645835",
     "status": "completed"
    },
    "tags": []
   },
   "outputs": [],
   "source": [
    "# Best 6 parameters (version 2)  \n",
    "\n",
    "# best6_dict = {'num': [\"audienceScore\"],\n",
    "#              'txt': ['reviewText', 'reviewerName', 'genre','movieid', 'director']}\n",
    "\n",
    "# best6_dict"
   ]
  },
  {
   "cell_type": "code",
   "execution_count": 277,
   "id": "35b41a2b",
   "metadata": {
    "execution": {
     "iopub.execute_input": "2023-08-13T06:10:51.008533Z",
     "iopub.status.busy": "2023-08-13T06:10:51.007757Z",
     "iopub.status.idle": "2023-08-13T06:10:51.011817Z",
     "shell.execute_reply": "2023-08-13T06:10:51.011079Z"
    },
    "papermill": {
     "duration": 0.124143,
     "end_time": "2023-08-13T06:10:51.014052",
     "exception": false,
     "start_time": "2023-08-13T06:10:50.889909",
     "status": "completed"
    },
    "tags": []
   },
   "outputs": [],
   "source": [
    "# Submit best 6 features (version 2) with common vocabulary (common_1_2_grams)\n",
    "# (Update): Score 0.82867\n",
    "\n",
    "# submit_v4(selected_features=best6_dict,\n",
    "#           param_grid=param_grid,\n",
    "#          vocab=common_1_2_grams)"
   ]
  },
  {
   "cell_type": "code",
   "execution_count": 278,
   "id": "bab51b08",
   "metadata": {
    "execution": {
     "iopub.execute_input": "2023-08-13T06:10:51.249007Z",
     "iopub.status.busy": "2023-08-13T06:10:51.248229Z",
     "iopub.status.idle": "2023-08-13T06:10:51.253076Z",
     "shell.execute_reply": "2023-08-13T06:10:51.251965Z"
    },
    "papermill": {
     "duration": 0.12506,
     "end_time": "2023-08-13T06:10:51.255495",
     "exception": false,
     "start_time": "2023-08-13T06:10:51.130435",
     "status": "completed"
    },
    "tags": []
   },
   "outputs": [],
   "source": [
    "# Submit best 6 features (version 2) with common vocabulary (common_1_2_3_grams)\n",
    "# Note: for this submission submit_v4 function has to be modified: reviewText TfidfVectorizer must have ngram_range(1,3).\n",
    "# (Update): Score in the range 0.825+\n",
    "\n",
    "# submit_v4(selected_features=best6_dict,\n",
    "#           param_grid=param_grid,\n",
    "#          vocab=common_1_2_3_grams)"
   ]
  }
 ],
 "metadata": {
  "kernelspec": {
   "display_name": "Python 3",
   "language": "python",
   "name": "python3"
  },
  "language_info": {
   "codemirror_mode": {
    "name": "ipython",
    "version": 3
   },
   "file_extension": ".py",
   "mimetype": "text/x-python",
   "name": "python",
   "nbconvert_exporter": "python",
   "pygments_lexer": "ipython3",
   "version": "3.10.10"
  },
  "papermill": {
   "default_parameters": {},
   "duration": 2091.163459,
   "end_time": "2023-08-13T06:10:54.403237",
   "environment_variables": {},
   "exception": null,
   "input_path": "__notebook__.ipynb",
   "output_path": "__notebook__.ipynb",
   "parameters": {},
   "start_time": "2023-08-13T05:36:03.239778",
   "version": "2.4.0"
  }
 },
 "nbformat": 4,
 "nbformat_minor": 5
}
