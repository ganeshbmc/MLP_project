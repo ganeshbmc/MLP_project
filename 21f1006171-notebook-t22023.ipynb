{
 "cells": [
  {
   "cell_type": "markdown",
   "id": "4751886e",
   "metadata": {
    "papermill": {
     "duration": 0.102483,
     "end_time": "2023-08-13T00:26:56.780383",
     "exception": false,
     "start_time": "2023-08-13T00:26:56.677900",
     "status": "completed"
    },
    "tags": []
   },
   "source": [
    "# MLP Project (T2 2023) by Ganesh P  "
   ]
  },
  {
   "cell_type": "markdown",
   "id": "9aaf5419",
   "metadata": {
    "papermill": {
     "duration": 0.100876,
     "end_time": "2023-08-13T00:26:56.984700",
     "exception": false,
     "start_time": "2023-08-13T00:26:56.883824",
     "status": "completed"
    },
    "tags": []
   },
   "source": [
    "`Disclaimer`   \n",
    "\n",
    "> This final notebook contains only the most relevant code to show the path/flow of my project work over few weeks. Rest of the code is in [my github repo](https://github.com/ganeshbmc/MLP_project) which is private at present (I will make it public after the project is over).  "
   ]
  },
  {
   "cell_type": "markdown",
   "id": "9fa36235",
   "metadata": {
    "papermill": {
     "duration": 0.099529,
     "end_time": "2023-08-13T00:26:57.183550",
     "exception": false,
     "start_time": "2023-08-13T00:26:57.084021",
     "status": "completed"
    },
    "tags": []
   },
   "source": [
    "`Strengths`  \n",
    "\n",
    "> * Modular code (DRY principle)  \n",
    "> * End to end pipeline in one function (with helper functions)   "
   ]
  },
  {
   "cell_type": "markdown",
   "id": "23c89831",
   "metadata": {
    "papermill": {
     "duration": 0.097585,
     "end_time": "2023-08-13T00:26:57.378861",
     "exception": false,
     "start_time": "2023-08-13T00:26:57.281276",
     "status": "completed"
    },
    "tags": []
   },
   "source": [
    "`Overview`  \n",
    "\n",
    "`PART I`  \n",
    "\n",
    "1.\t> Screen the datasets and import them.  \n",
    "2.\t> Perform EDA (first round).\n",
    "3.\t> Data cleaning.\n",
    "4.\t> Basic models including dummy model.\n",
    "5.\t> Because this is a text sentiment analysis project, focus on 'reviewText' column, work on cleaning text data and vectorising/tokenising it, build several models till the best possible score is reached.  \n",
    "\n",
    "`PART II`  \n",
    "\n",
    "6.\t> Merge train and movies dataset.\n",
    "7.\t> Perform EDA (second round) on merged dataset.\n",
    "8.\t> Data cleaning.\n",
    "9.\t> Build models on merged dataset.\n",
    "10.\t> Understand the results and do another round of EDA if needed.\n",
    "11.\t> Build final model.  \n",
    "\n",
    "`PART III (After project window closes)`  \n",
    "\n",
    "12. > Use NLTK library for further processing text data.  \n",
    "13. > Try to address comments from different languages, special characters etc.  \n",
    "14. > Try imblearn library to address class imbalance.  \n",
    "15. > Try to use currently available LLMs and see how my model performs agains them.  "
   ]
  },
  {
   "cell_type": "markdown",
   "id": "05ba5485",
   "metadata": {
    "papermill": {
     "duration": 0.097155,
     "end_time": "2023-08-13T00:26:57.574633",
     "exception": false,
     "start_time": "2023-08-13T00:26:57.477478",
     "status": "completed"
    },
    "tags": []
   },
   "source": [
    "`Default code on Kaggle notebook`  "
   ]
  },
  {
   "cell_type": "code",
   "execution_count": 1,
   "id": "15485da9",
   "metadata": {
    "_cell_guid": "b1076dfc-b9ad-4769-8c92-a6c4dae69d19",
    "_uuid": "8f2839f25d086af736a60e9eeb907d3b93b6e0e5",
    "execution": {
     "iopub.execute_input": "2023-08-13T00:26:57.773503Z",
     "iopub.status.busy": "2023-08-13T00:26:57.773052Z",
     "iopub.status.idle": "2023-08-13T00:26:57.788131Z",
     "shell.execute_reply": "2023-08-13T00:26:57.787228Z"
    },
    "papermill": {
     "duration": 0.118596,
     "end_time": "2023-08-13T00:26:57.791791",
     "exception": false,
     "start_time": "2023-08-13T00:26:57.673195",
     "status": "completed"
    },
    "tags": []
   },
   "outputs": [
    {
     "name": "stdout",
     "output_type": "stream",
     "text": [
      "/kaggle/input/sentiment-prediction-on-movie-reviews/movies.csv\n",
      "/kaggle/input/sentiment-prediction-on-movie-reviews/sample.csv\n",
      "/kaggle/input/sentiment-prediction-on-movie-reviews/train.csv\n",
      "/kaggle/input/sentiment-prediction-on-movie-reviews/test.csv\n"
     ]
    }
   ],
   "source": [
    "# This Python 3 environment comes with many helpful analytics libraries installed\n",
    "# It is defined by the kaggle/python Docker image: https://github.com/kaggle/docker-python\n",
    "# For example, here's several helpful packages to load\n",
    "\n",
    "import numpy as np # linear algebra\n",
    "import pandas as pd # data processing, CSV file I/O (e.g. pd.read_csv)\n",
    "\n",
    "# Input data files are available in the read-only \"../input/\" directory\n",
    "# For example, running this (by clicking run or pressing Shift+Enter) will list all files under the input directory\n",
    "\n",
    "import os\n",
    "for dirname, _, filenames in os.walk('/kaggle/input'):\n",
    "    for filename in filenames:\n",
    "        print(os.path.join(dirname, filename))\n",
    "\n",
    "# You can write up to 20GB to the current directory (/kaggle/working/) that gets preserved as output when you create a version using \"Save & Run All\" \n",
    "# You can also write temporary files to /kaggle/temp/, but they won't be saved outside of the current session"
   ]
  },
  {
   "cell_type": "markdown",
   "id": "8287f662",
   "metadata": {
    "papermill": {
     "duration": 0.097825,
     "end_time": "2023-08-13T00:26:57.990412",
     "exception": false,
     "start_time": "2023-08-13T00:26:57.892587",
     "status": "completed"
    },
    "tags": []
   },
   "source": [
    "### Specify platform  "
   ]
  },
  {
   "cell_type": "code",
   "execution_count": 2,
   "id": "4c77b6e3",
   "metadata": {
    "execution": {
     "iopub.execute_input": "2023-08-13T00:26:58.190244Z",
     "iopub.status.busy": "2023-08-13T00:26:58.189484Z",
     "iopub.status.idle": "2023-08-13T00:26:58.193658Z",
     "shell.execute_reply": "2023-08-13T00:26:58.192899Z"
    },
    "papermill": {
     "duration": 0.10701,
     "end_time": "2023-08-13T00:26:58.195887",
     "exception": false,
     "start_time": "2023-08-13T00:26:58.088877",
     "status": "completed"
    },
    "tags": []
   },
   "outputs": [],
   "source": [
    "platform = 'kaggle'  "
   ]
  },
  {
   "cell_type": "markdown",
   "id": "78ead007",
   "metadata": {
    "papermill": {
     "duration": 0.098352,
     "end_time": "2023-08-13T00:26:58.391912",
     "exception": false,
     "start_time": "2023-08-13T00:26:58.293560",
     "status": "completed"
    },
    "tags": []
   },
   "source": [
    "### Import libraries  "
   ]
  },
  {
   "cell_type": "code",
   "execution_count": 3,
   "id": "d2694bff",
   "metadata": {
    "execution": {
     "iopub.execute_input": "2023-08-13T00:26:58.590210Z",
     "iopub.status.busy": "2023-08-13T00:26:58.589466Z",
     "iopub.status.idle": "2023-08-13T00:27:01.036057Z",
     "shell.execute_reply": "2023-08-13T00:27:01.034860Z"
    },
    "papermill": {
     "duration": 2.548815,
     "end_time": "2023-08-13T00:27:01.038825",
     "exception": false,
     "start_time": "2023-08-13T00:26:58.490010",
     "status": "completed"
    },
    "tags": []
   },
   "outputs": [
    {
     "name": "stdout",
     "output_type": "stream",
     "text": [
      "Imports done.\n"
     ]
    }
   ],
   "source": [
    "import pandas as pd\n",
    "import numpy as np\n",
    "import matplotlib.pyplot as plt\n",
    "import seaborn as sns\n",
    "import re\n",
    "from itertools import compress\n",
    "\n",
    "from sklearn.dummy import DummyClassifier\n",
    "from sklearn.pipeline import Pipeline, FeatureUnion\n",
    "from sklearn.compose import ColumnTransformer\n",
    "from sklearn.metrics import classification_report, confusion_matrix,f1_score\n",
    "from sklearn.feature_extraction.text import TfidfVectorizer, CountVectorizer\n",
    "from sklearn.preprocessing import FunctionTransformer\n",
    "from sklearn.preprocessing import StandardScaler, MinMaxScaler, RobustScaler, OneHotEncoder, LabelEncoder, PolynomialFeatures\n",
    "from sklearn.impute import SimpleImputer, KNNImputer\n",
    "from sklearn.linear_model import LogisticRegression, SGDClassifier\n",
    "from sklearn.tree import DecisionTreeClassifier\n",
    "from sklearn.ensemble import RandomForestClassifier, AdaBoostClassifier\n",
    "from sklearn.svm import LinearSVC\n",
    "from sklearn.naive_bayes import GaussianNB, BernoulliNB, CategoricalNB, ComplementNB, MultinomialNB\n",
    "from sklearn.model_selection import train_test_split, GridSearchCV, cross_val_score\n",
    "from sklearn.decomposition import PCA, TruncatedSVD\n",
    "from sklearn.feature_selection import RFECV\n",
    "from sklearn.feature_selection import RFE\n",
    "from sklearn.neural_network import MLPClassifier\n",
    "\n",
    "# import lightgbm as ltb\n",
    "\n",
    "import scipy.stats as stats\n",
    "print(\"Imports done.\")"
   ]
  },
  {
   "cell_type": "markdown",
   "id": "f08ad92e",
   "metadata": {
    "papermill": {
     "duration": 0.099351,
     "end_time": "2023-08-13T00:27:01.237752",
     "exception": false,
     "start_time": "2023-08-13T00:27:01.138401",
     "status": "completed"
    },
    "tags": []
   },
   "source": [
    "# PART I  "
   ]
  },
  {
   "cell_type": "markdown",
   "id": "dc749c45",
   "metadata": {
    "papermill": {
     "duration": 0.163937,
     "end_time": "2023-08-13T00:27:01.499750",
     "exception": false,
     "start_time": "2023-08-13T00:27:01.335813",
     "status": "completed"
    },
    "tags": []
   },
   "source": [
    "## Load datasets  "
   ]
  },
  {
   "cell_type": "code",
   "execution_count": 4,
   "id": "55e6f995",
   "metadata": {
    "execution": {
     "iopub.execute_input": "2023-08-13T00:27:01.710913Z",
     "iopub.status.busy": "2023-08-13T00:27:01.709451Z",
     "iopub.status.idle": "2023-08-13T00:27:02.914573Z",
     "shell.execute_reply": "2023-08-13T00:27:02.913183Z"
    },
    "papermill": {
     "duration": 1.315465,
     "end_time": "2023-08-13T00:27:02.917242",
     "exception": false,
     "start_time": "2023-08-13T00:27:01.601777",
     "status": "completed"
    },
    "tags": []
   },
   "outputs": [
    {
     "data": {
      "text/plain": [
       "(162758, 5)"
      ]
     },
     "execution_count": 4,
     "metadata": {},
     "output_type": "execute_result"
    }
   ],
   "source": [
    "if platform == 'vscode':\n",
    "    traindf = pd.read_csv(\"data/train.csv\")\n",
    "else:\n",
    "    traindf = pd.read_csv(\"/kaggle/input/sentiment-prediction-on-movie-reviews/train.csv\")\n",
    "    \n",
    "traindf.shape"
   ]
  },
  {
   "cell_type": "code",
   "execution_count": 5,
   "id": "4485907e",
   "metadata": {
    "execution": {
     "iopub.execute_input": "2023-08-13T00:27:03.117276Z",
     "iopub.status.busy": "2023-08-13T00:27:03.116810Z",
     "iopub.status.idle": "2023-08-13T00:27:03.440226Z",
     "shell.execute_reply": "2023-08-13T00:27:03.438860Z"
    },
    "papermill": {
     "duration": 0.426138,
     "end_time": "2023-08-13T00:27:03.442872",
     "exception": false,
     "start_time": "2023-08-13T00:27:03.016734",
     "status": "completed"
    },
    "tags": []
   },
   "outputs": [
    {
     "data": {
      "text/plain": [
       "(55315, 4)"
      ]
     },
     "execution_count": 5,
     "metadata": {},
     "output_type": "execute_result"
    }
   ],
   "source": [
    "if platform == 'vscode':\n",
    "    testdf = pd.read_csv(\"data/test.csv\")\n",
    "else:\n",
    "    testdf = pd.read_csv(\"/kaggle/input/sentiment-prediction-on-movie-reviews/test.csv\")\n",
    "\n",
    "testdf.shape"
   ]
  },
  {
   "cell_type": "markdown",
   "id": "dffb6e05",
   "metadata": {
    "papermill": {
     "duration": 0.099783,
     "end_time": "2023-08-13T00:27:03.642567",
     "exception": false,
     "start_time": "2023-08-13T00:27:03.542784",
     "status": "completed"
    },
    "tags": []
   },
   "source": [
    "### Understanding the data and getting it ready for training and evaluating models  \n"
   ]
  },
  {
   "cell_type": "code",
   "execution_count": 6,
   "id": "d06f52f3",
   "metadata": {
    "execution": {
     "iopub.execute_input": "2023-08-13T00:27:03.843508Z",
     "iopub.status.busy": "2023-08-13T00:27:03.843119Z",
     "iopub.status.idle": "2023-08-13T00:27:03.849930Z",
     "shell.execute_reply": "2023-08-13T00:27:03.848801Z"
    },
    "papermill": {
     "duration": 0.11019,
     "end_time": "2023-08-13T00:27:03.852122",
     "exception": false,
     "start_time": "2023-08-13T00:27:03.741932",
     "status": "completed"
    },
    "tags": []
   },
   "outputs": [
    {
     "data": {
      "text/plain": [
       "(162758, 5)"
      ]
     },
     "execution_count": 6,
     "metadata": {},
     "output_type": "execute_result"
    }
   ],
   "source": [
    "traindf.shape"
   ]
  },
  {
   "cell_type": "code",
   "execution_count": 7,
   "id": "f2a9c967",
   "metadata": {
    "execution": {
     "iopub.execute_input": "2023-08-13T00:27:04.054171Z",
     "iopub.status.busy": "2023-08-13T00:27:04.053514Z",
     "iopub.status.idle": "2023-08-13T00:27:04.294901Z",
     "shell.execute_reply": "2023-08-13T00:27:04.293644Z"
    },
    "papermill": {
     "duration": 0.345535,
     "end_time": "2023-08-13T00:27:04.298054",
     "exception": false,
     "start_time": "2023-08-13T00:27:03.952519",
     "status": "completed"
    },
    "tags": []
   },
   "outputs": [
    {
     "name": "stdout",
     "output_type": "stream",
     "text": [
      "<class 'pandas.core.frame.DataFrame'>\n",
      "RangeIndex: 162758 entries, 0 to 162757\n",
      "Data columns (total 5 columns):\n",
      " #   Column              Non-Null Count   Dtype \n",
      "---  ------              --------------   ----- \n",
      " 0   movieid             162758 non-null  object\n",
      " 1   reviewerName        162758 non-null  object\n",
      " 2   isFrequentReviewer  162758 non-null  bool  \n",
      " 3   reviewText          156311 non-null  object\n",
      " 4   sentiment           162758 non-null  object\n",
      "dtypes: bool(1), object(4)\n",
      "memory usage: 5.1+ MB\n"
     ]
    }
   ],
   "source": [
    "traindf.info()"
   ]
  },
  {
   "cell_type": "code",
   "execution_count": 8,
   "id": "16d10782",
   "metadata": {
    "execution": {
     "iopub.execute_input": "2023-08-13T00:27:04.503021Z",
     "iopub.status.busy": "2023-08-13T00:27:04.502603Z",
     "iopub.status.idle": "2023-08-13T00:27:04.726097Z",
     "shell.execute_reply": "2023-08-13T00:27:04.724851Z"
    },
    "papermill": {
     "duration": 0.330168,
     "end_time": "2023-08-13T00:27:04.728813",
     "exception": false,
     "start_time": "2023-08-13T00:27:04.398645",
     "status": "completed"
    },
    "tags": []
   },
   "outputs": [
    {
     "data": {
      "text/plain": [
       "movieid                  0\n",
       "reviewerName             0\n",
       "isFrequentReviewer       0\n",
       "reviewText            6447\n",
       "sentiment                0\n",
       "dtype: int64"
      ]
     },
     "execution_count": 8,
     "metadata": {},
     "output_type": "execute_result"
    }
   ],
   "source": [
    "traindf.isna().sum()"
   ]
  },
  {
   "cell_type": "markdown",
   "id": "8a528936",
   "metadata": {
    "papermill": {
     "duration": 0.102664,
     "end_time": "2023-08-13T00:27:04.932542",
     "exception": false,
     "start_time": "2023-08-13T00:27:04.829878",
     "status": "completed"
    },
    "tags": []
   },
   "source": [
    "### Fill empty reviewText with custom text  "
   ]
  },
  {
   "cell_type": "code",
   "execution_count": 9,
   "id": "b62ac4ca",
   "metadata": {
    "execution": {
     "iopub.execute_input": "2023-08-13T00:27:05.134790Z",
     "iopub.status.busy": "2023-08-13T00:27:05.134314Z",
     "iopub.status.idle": "2023-08-13T00:27:05.379572Z",
     "shell.execute_reply": "2023-08-13T00:27:05.378419Z"
    },
    "papermill": {
     "duration": 0.348827,
     "end_time": "2023-08-13T00:27:05.382150",
     "exception": false,
     "start_time": "2023-08-13T00:27:05.033323",
     "status": "completed"
    },
    "tags": []
   },
   "outputs": [
    {
     "data": {
      "text/plain": [
       "movieid               0\n",
       "reviewerName          0\n",
       "isFrequentReviewer    0\n",
       "reviewText            0\n",
       "sentiment             0\n",
       "dtype: int64"
      ]
     },
     "execution_count": 9,
     "metadata": {},
     "output_type": "execute_result"
    }
   ],
   "source": [
    "traindf[\"reviewText\"].fillna(\"empty\", inplace=True)\n",
    "traindf.isna().sum()"
   ]
  },
  {
   "cell_type": "markdown",
   "id": "814df0ee",
   "metadata": {
    "papermill": {
     "duration": 0.100511,
     "end_time": "2023-08-13T00:27:05.584364",
     "exception": false,
     "start_time": "2023-08-13T00:27:05.483853",
     "status": "completed"
    },
    "tags": []
   },
   "source": [
    "## EDA  \n"
   ]
  },
  {
   "cell_type": "code",
   "execution_count": 10,
   "id": "7c8674a4",
   "metadata": {
    "execution": {
     "iopub.execute_input": "2023-08-13T00:27:05.786939Z",
     "iopub.status.busy": "2023-08-13T00:27:05.785840Z",
     "iopub.status.idle": "2023-08-13T00:27:06.045391Z",
     "shell.execute_reply": "2023-08-13T00:27:06.043783Z"
    },
    "papermill": {
     "duration": 0.365441,
     "end_time": "2023-08-13T00:27:06.049863",
     "exception": false,
     "start_time": "2023-08-13T00:27:05.684422",
     "status": "completed"
    },
    "tags": []
   },
   "outputs": [
    {
     "data": {
      "image/png": "[encoded data removed]",
      "text/plain": [
       "<Figure size 600x400 with 1 Axes>"
      ]
     },
     "metadata": {},
     "output_type": "display_data"
    }
   ],
   "source": [
    "# Pie chart for sentiment column\n",
    "plt.figure(figsize=(6, 4))\n",
    "traindf[\"sentiment\"].value_counts().plot(kind='pie', autopct='%1.0f%%', colors=[\"lightgreen\", \"crimson\"])\n",
    "plt.title(\"Pie chart for sentiment column\")\n",
    "plt.show()"
   ]
  },
  {
   "cell_type": "code",
   "execution_count": 11,
   "id": "780816a0",
   "metadata": {
    "execution": {
     "iopub.execute_input": "2023-08-13T00:27:06.280064Z",
     "iopub.status.busy": "2023-08-13T00:27:06.279666Z",
     "iopub.status.idle": "2023-08-13T00:27:06.351927Z",
     "shell.execute_reply": "2023-08-13T00:27:06.350549Z"
    },
    "papermill": {
     "duration": 0.177862,
     "end_time": "2023-08-13T00:27:06.354887",
     "exception": false,
     "start_time": "2023-08-13T00:27:06.177025",
     "status": "completed"
    },
    "tags": []
   },
   "outputs": [
    {
     "name": "stdout",
     "output_type": "stream",
     "text": [
      "sentiment           NEGATIVE  POSITIVE\n",
      "isFrequentReviewer                    \n",
      "False                  35760     77429\n",
      "True                   18237     31332\n"
     ]
    },
    {
     "data": {
      "text/plain": [
       "Chi2ContingencyResult(statistic=419.89235425657796, pvalue=2.5755894769493255e-93, dof=1, expected_freq=array([[37551.86493444, 75637.13506556],\n",
       "       [16445.13506556, 33123.86493444]]))"
      ]
     },
     "execution_count": 11,
     "metadata": {},
     "output_type": "execute_result"
    }
   ],
   "source": [
    "# Chi-square test for isFrequentReviewer column and sentiment column   \n",
    "\n",
    "contingency_table = pd.crosstab(traindf['isFrequentReviewer'], traindf['sentiment'])\n",
    "print(contingency_table)\n",
    "stats.chi2_contingency(contingency_table)"
   ]
  },
  {
   "cell_type": "markdown",
   "id": "92a40209",
   "metadata": {
    "papermill": {
     "duration": 0.101642,
     "end_time": "2023-08-13T00:27:06.558299",
     "exception": false,
     "start_time": "2023-08-13T00:27:06.456657",
     "status": "completed"
    },
    "tags": []
   },
   "source": [
    "### Separate features and labels  "
   ]
  },
  {
   "cell_type": "code",
   "execution_count": 12,
   "id": "97fd7e1d",
   "metadata": {
    "execution": {
     "iopub.execute_input": "2023-08-13T00:27:06.762421Z",
     "iopub.status.busy": "2023-08-13T00:27:06.762015Z",
     "iopub.status.idle": "2023-08-13T00:27:06.770656Z",
     "shell.execute_reply": "2023-08-13T00:27:06.769467Z"
    },
    "papermill": {
     "duration": 0.114479,
     "end_time": "2023-08-13T00:27:06.773193",
     "exception": false,
     "start_time": "2023-08-13T00:27:06.658714",
     "status": "completed"
    },
    "tags": []
   },
   "outputs": [
    {
     "data": {
      "text/plain": [
       "((162758,), (162758,))"
      ]
     },
     "execution_count": 12,
     "metadata": {},
     "output_type": "execute_result"
    }
   ],
   "source": [
    "train_features = traindf[\"reviewText\"]\n",
    "train_labels = traindf.iloc[:, -1]\n",
    "train_features.shape, train_labels.shape"
   ]
  },
  {
   "cell_type": "markdown",
   "id": "766cecca",
   "metadata": {
    "papermill": {
     "duration": 0.102117,
     "end_time": "2023-08-13T00:27:06.977617",
     "exception": false,
     "start_time": "2023-08-13T00:27:06.875500",
     "status": "completed"
    },
    "tags": []
   },
   "source": [
    "### Split traindf into training and testing parts  "
   ]
  },
  {
   "cell_type": "code",
   "execution_count": 13,
   "id": "b8961fc9",
   "metadata": {
    "execution": {
     "iopub.execute_input": "2023-08-13T00:27:07.181214Z",
     "iopub.status.busy": "2023-08-13T00:27:07.180807Z",
     "iopub.status.idle": "2023-08-13T00:27:07.220559Z",
     "shell.execute_reply": "2023-08-13T00:27:07.219406Z"
    },
    "papermill": {
     "duration": 0.144878,
     "end_time": "2023-08-13T00:27:07.222933",
     "exception": false,
     "start_time": "2023-08-13T00:27:07.078055",
     "status": "completed"
    },
    "tags": []
   },
   "outputs": [
    {
     "data": {
      "text/plain": [
       "((122068,), (40690,), (122068,), (40690,))"
      ]
     },
     "execution_count": 13,
     "metadata": {},
     "output_type": "execute_result"
    }
   ],
   "source": [
    "X_train, X_test, y_train, y_test = train_test_split(train_features, train_labels, test_size=0.25, random_state=42)\n",
    "X_train.shape, X_test.shape, y_train.shape, y_test.shape"
   ]
  },
  {
   "cell_type": "markdown",
   "id": "9f8b4a1f",
   "metadata": {
    "papermill": {
     "duration": 0.10005,
     "end_time": "2023-08-13T00:27:07.423984",
     "exception": false,
     "start_time": "2023-08-13T00:27:07.323934",
     "status": "completed"
    },
    "tags": []
   },
   "source": [
    "## Model evaluation plan and code  "
   ]
  },
  {
   "cell_type": "code",
   "execution_count": 14,
   "id": "149f9456",
   "metadata": {
    "execution": {
     "iopub.execute_input": "2023-08-13T00:27:07.627440Z",
     "iopub.status.busy": "2023-08-13T00:27:07.626359Z",
     "iopub.status.idle": "2023-08-13T00:27:07.631557Z",
     "shell.execute_reply": "2023-08-13T00:27:07.630501Z"
    },
    "papermill": {
     "duration": 0.109155,
     "end_time": "2023-08-13T00:27:07.634018",
     "exception": false,
     "start_time": "2023-08-13T00:27:07.524863",
     "status": "completed"
    },
    "tags": []
   },
   "outputs": [],
   "source": [
    "# from sklearn.metrics import classification_report, confusion_matrix, ConfusionMatrixDisplay\n",
    "# from sklearn.metrics import f1_score"
   ]
  },
  {
   "cell_type": "code",
   "execution_count": 15,
   "id": "f7c2dd26",
   "metadata": {
    "execution": {
     "iopub.execute_input": "2023-08-13T00:27:07.838031Z",
     "iopub.status.busy": "2023-08-13T00:27:07.837572Z",
     "iopub.status.idle": "2023-08-13T00:27:07.842177Z",
     "shell.execute_reply": "2023-08-13T00:27:07.841243Z"
    },
    "papermill": {
     "duration": 0.109128,
     "end_time": "2023-08-13T00:27:07.844244",
     "exception": false,
     "start_time": "2023-08-13T00:27:07.735116",
     "status": "completed"
    },
    "tags": []
   },
   "outputs": [],
   "source": [
    "# def evaluate(y_test, y_pred):\n",
    "#     print(classification_report(y_test, y_pred))\n",
    "#     print(confusion_matrix(y_test, y_pred))\n",
    "#     # print(f1_score(y_test, y_pred))\n",
    "#     ConfusionMatrixDisplay(y_test, y_pred)\n",
    "#     return"
   ]
  },
  {
   "cell_type": "markdown",
   "id": "ae77ff1e",
   "metadata": {
    "papermill": {
     "duration": 0.101571,
     "end_time": "2023-08-13T00:27:08.050198",
     "exception": false,
     "start_time": "2023-08-13T00:27:07.948627",
     "status": "completed"
    },
    "tags": []
   },
   "source": [
    "### Data preprocessing  "
   ]
  },
  {
   "cell_type": "markdown",
   "id": "d7712b57",
   "metadata": {
    "papermill": {
     "duration": 0.10082,
     "end_time": "2023-08-13T00:27:08.253164",
     "exception": false,
     "start_time": "2023-08-13T00:27:08.152344",
     "status": "completed"
    },
    "tags": []
   },
   "source": [
    "`Define stop words`  "
   ]
  },
  {
   "cell_type": "code",
   "execution_count": 16,
   "id": "7681694d",
   "metadata": {
    "execution": {
     "iopub.execute_input": "2023-08-13T00:27:08.459284Z",
     "iopub.status.busy": "2023-08-13T00:27:08.458588Z",
     "iopub.status.idle": "2023-08-13T00:27:08.462887Z",
     "shell.execute_reply": "2023-08-13T00:27:08.461639Z"
    },
    "papermill": {
     "duration": 0.110876,
     "end_time": "2023-08-13T00:27:08.465485",
     "exception": false,
     "start_time": "2023-08-13T00:27:08.354609",
     "status": "completed"
    },
    "tags": []
   },
   "outputs": [],
   "source": [
    "# stop_words = [\"able\", \"about\", \"above\", \"abst\", \"ac\"]     # Deprecated  \n",
    "# type(stop_words), len(stop_words)"
   ]
  },
  {
   "cell_type": "markdown",
   "id": "5d511a5d",
   "metadata": {
    "papermill": {
     "duration": 0.101487,
     "end_time": "2023-08-13T00:27:08.668117",
     "exception": false,
     "start_time": "2023-08-13T00:27:08.566630",
     "status": "completed"
    },
    "tags": []
   },
   "source": [
    "## Feature extraction  "
   ]
  },
  {
   "cell_type": "markdown",
   "id": "86bb5e22",
   "metadata": {
    "papermill": {
     "duration": 0.101687,
     "end_time": "2023-08-13T00:27:08.871918",
     "exception": false,
     "start_time": "2023-08-13T00:27:08.770231",
     "status": "completed"
    },
    "tags": []
   },
   "source": [
    "### Understand CountVectorizer and TfidfVectorizer  "
   ]
  },
  {
   "cell_type": "code",
   "execution_count": 17,
   "id": "2965b745",
   "metadata": {
    "execution": {
     "iopub.execute_input": "2023-08-13T00:27:09.080796Z",
     "iopub.status.busy": "2023-08-13T00:27:09.080182Z",
     "iopub.status.idle": "2023-08-13T00:27:09.083972Z",
     "shell.execute_reply": "2023-08-13T00:27:09.083142Z"
    },
    "papermill": {
     "duration": 0.111122,
     "end_time": "2023-08-13T00:27:09.086324",
     "exception": false,
     "start_time": "2023-08-13T00:27:08.975202",
     "status": "completed"
    },
    "tags": []
   },
   "outputs": [],
   "source": [
    "# text = X_train.copy()\n",
    "# text.head()"
   ]
  },
  {
   "cell_type": "code",
   "execution_count": 18,
   "id": "b02e38de",
   "metadata": {
    "execution": {
     "iopub.execute_input": "2023-08-13T00:27:09.290894Z",
     "iopub.status.busy": "2023-08-13T00:27:09.290280Z",
     "iopub.status.idle": "2023-08-13T00:27:09.294819Z",
     "shell.execute_reply": "2023-08-13T00:27:09.293577Z"
    },
    "papermill": {
     "duration": 0.109572,
     "end_time": "2023-08-13T00:27:09.297186",
     "exception": false,
     "start_time": "2023-08-13T00:27:09.187614",
     "status": "completed"
    },
    "tags": []
   },
   "outputs": [],
   "source": [
    "# vectorizer = TfidfVectorizer(stop_words=stop_words)\n",
    "# vectorized_text = vectorizer.fit_transform(text[\"reviewText\"])\n",
    "# vectorized_text"
   ]
  },
  {
   "cell_type": "markdown",
   "id": "23daa29c",
   "metadata": {
    "papermill": {
     "duration": 0.101056,
     "end_time": "2023-08-13T00:27:09.499210",
     "exception": false,
     "start_time": "2023-08-13T00:27:09.398154",
     "status": "completed"
    },
    "tags": []
   },
   "source": [
    "`Without stop words`  \n",
    "<122068x58624 sparse matrix of type '<class 'numpy.float64'>'\n",
    "\twith 2312222 stored elements in Compressed Sparse Row format>\n",
    "\n",
    "`With stop words`  \n",
    "<122068x57784 sparse matrix of type '<class 'numpy.float64'>'\n",
    "\twith 1188395 stored elements in Compressed Sparse Row format>   "
   ]
  },
  {
   "cell_type": "code",
   "execution_count": 19,
   "id": "30f21c60",
   "metadata": {
    "execution": {
     "iopub.execute_input": "2023-08-13T00:27:09.726331Z",
     "iopub.status.busy": "2023-08-13T00:27:09.725002Z",
     "iopub.status.idle": "2023-08-13T00:27:09.730486Z",
     "shell.execute_reply": "2023-08-13T00:27:09.729415Z"
    },
    "papermill": {
     "duration": 0.12359,
     "end_time": "2023-08-13T00:27:09.732784",
     "exception": false,
     "start_time": "2023-08-13T00:27:09.609194",
     "status": "completed"
    },
    "tags": []
   },
   "outputs": [],
   "source": [
    "# vectorizer2 = CountVectorizer(stop_words=stop_words)\n",
    "# vectorized_text2 = vectorizer2.fit_transform(text[\"reviewText\"])\n",
    "# vectorized_text2"
   ]
  },
  {
   "cell_type": "markdown",
   "id": "c681f48e",
   "metadata": {
    "papermill": {
     "duration": 0.129353,
     "end_time": "2023-08-13T00:27:09.981375",
     "exception": false,
     "start_time": "2023-08-13T00:27:09.852022",
     "status": "completed"
    },
    "tags": []
   },
   "source": [
    "`Without stop words`  \n",
    "<122068x58624 sparse matrix of type '<class 'numpy.int64'>'\n",
    "\twith 2312222 stored elements in Compressed Sparse Row format>\n",
    "\n",
    "`With stop words`  \n",
    "<122068x57784 sparse matrix of type '<class 'numpy.int64'>'\n",
    "\twith 1188395 stored elements in Compressed Sparse Row format>"
   ]
  },
  {
   "cell_type": "markdown",
   "id": "030f8621",
   "metadata": {
    "papermill": {
     "duration": 0.102907,
     "end_time": "2023-08-13T00:27:10.196377",
     "exception": false,
     "start_time": "2023-08-13T00:27:10.093470",
     "status": "completed"
    },
    "tags": []
   },
   "source": [
    "### Conclusion   \n",
    "`TfidfVectorizer is equivalent to CountVectorizer followed by TfidfTransformer.`  \n",
    "\n",
    "https://scikit-learn.org/stable/modules/generated/sklearn.feature_extraction.text.TfidfVectorizer.html"
   ]
  },
  {
   "cell_type": "markdown",
   "id": "17111e58",
   "metadata": {
    "papermill": {
     "duration": 0.10182,
     "end_time": "2023-08-13T00:27:10.399521",
     "exception": false,
     "start_time": "2023-08-13T00:27:10.297701",
     "status": "completed"
    },
    "tags": []
   },
   "source": [
    "## Model building workflow  \n",
    "\n",
    "`Make pipeline for preprocesing and model training and predictions`  \n"
   ]
  },
  {
   "cell_type": "code",
   "execution_count": 20,
   "id": "f99efccd",
   "metadata": {
    "execution": {
     "iopub.execute_input": "2023-08-13T00:27:10.608680Z",
     "iopub.status.busy": "2023-08-13T00:27:10.607633Z",
     "iopub.status.idle": "2023-08-13T00:27:10.613049Z",
     "shell.execute_reply": "2023-08-13T00:27:10.612165Z"
    },
    "papermill": {
     "duration": 0.11365,
     "end_time": "2023-08-13T00:27:10.615255",
     "exception": false,
     "start_time": "2023-08-13T00:27:10.501605",
     "status": "completed"
    },
    "tags": []
   },
   "outputs": [],
   "source": [
    "# def preprocess_n_train(X_train, y_train, preprocessor, model):\n",
    "#     pipe = Pipeline(steps=[\n",
    "#                             (\"preprocessor\", preprocessor),\n",
    "#                             (\"model\", model)\n",
    "#                         ])\n",
    "    \n",
    "#     pipe.fit(X_train, y_train)\n",
    "\n",
    "#     print(\"Given model has been trained. Use predict method to get predictions array.\")\n",
    "#     return pipe\n",
    "\n",
    "\n",
    "# def predict_n_evaluate(pipeline, X_test, y_test):\n",
    "#     y_pred = pipeline.predict(X_test)\n",
    "#     print(f\"y_pred shape: {y_pred.shape}\")\n",
    "#     print(f\"Summary of predictions: {np.unique(y_pred, return_counts=True)}\")\n",
    "#     print(classification_report(y_test, y_pred))\n",
    "#     print(confusion_matrix(y_test, y_pred))\n",
    "#     return y_pred"
   ]
  },
  {
   "cell_type": "markdown",
   "id": "ee8da003",
   "metadata": {
    "papermill": {
     "duration": 0.100865,
     "end_time": "2023-08-13T00:27:10.818970",
     "exception": false,
     "start_time": "2023-08-13T00:27:10.718105",
     "status": "completed"
    },
    "tags": []
   },
   "source": [
    "## Building 3 basic models  "
   ]
  },
  {
   "cell_type": "markdown",
   "id": "8b319337",
   "metadata": {
    "papermill": {
     "duration": 0.102482,
     "end_time": "2023-08-13T00:27:11.021535",
     "exception": false,
     "start_time": "2023-08-13T00:27:10.919053",
     "status": "completed"
    },
    "tags": []
   },
   "source": [
    "### Text preprocessors  "
   ]
  },
  {
   "cell_type": "code",
   "execution_count": 21,
   "id": "2261a988",
   "metadata": {
    "execution": {
     "iopub.execute_input": "2023-08-13T00:27:11.226185Z",
     "iopub.status.busy": "2023-08-13T00:27:11.225532Z",
     "iopub.status.idle": "2023-08-13T00:27:11.230590Z",
     "shell.execute_reply": "2023-08-13T00:27:11.229407Z"
    },
    "papermill": {
     "duration": 0.110369,
     "end_time": "2023-08-13T00:27:11.233178",
     "exception": false,
     "start_time": "2023-08-13T00:27:11.122809",
     "status": "completed"
    },
    "tags": []
   },
   "outputs": [],
   "source": [
    "# tvec = TfidfVectorizer()\n",
    "# cvec = CountVectorizer()        # Note that TfidfVectorizer and CountVectorizer+TfidsTransformer do the same function\n",
    "# tvec, cvec"
   ]
  },
  {
   "cell_type": "markdown",
   "id": "469e8d50",
   "metadata": {
    "papermill": {
     "duration": 0.099968,
     "end_time": "2023-08-13T00:27:11.434889",
     "exception": false,
     "start_time": "2023-08-13T00:27:11.334921",
     "status": "completed"
    },
    "tags": []
   },
   "source": [
    "### Logistic Regression with TfidVectorizer for preprocessing  "
   ]
  },
  {
   "cell_type": "code",
   "execution_count": 22,
   "id": "8f5b8437",
   "metadata": {
    "execution": {
     "iopub.execute_input": "2023-08-13T00:27:11.639127Z",
     "iopub.status.busy": "2023-08-13T00:27:11.638654Z",
     "iopub.status.idle": "2023-08-13T00:27:11.643534Z",
     "shell.execute_reply": "2023-08-13T00:27:11.642253Z"
    },
    "papermill": {
     "duration": 0.109732,
     "end_time": "2023-08-13T00:27:11.645939",
     "exception": false,
     "start_time": "2023-08-13T00:27:11.536207",
     "status": "completed"
    },
    "tags": []
   },
   "outputs": [],
   "source": [
    "# logreg = LogisticRegression(max_iter=1000)\n",
    "# logreg_pipe = preprocess_n_train(X_train, y_train, tvec, logreg)\n",
    "# y_pred_logreg = predict_n_evaluate(logreg_pipe, X_test, y_test)\n",
    "# y_pred_logreg"
   ]
  },
  {
   "cell_type": "markdown",
   "id": "53e1acf8",
   "metadata": {
    "papermill": {
     "duration": 0.100836,
     "end_time": "2023-08-13T00:27:11.848362",
     "exception": false,
     "start_time": "2023-08-13T00:27:11.747526",
     "status": "completed"
    },
    "tags": []
   },
   "source": [
    "### SVM model  "
   ]
  },
  {
   "cell_type": "code",
   "execution_count": 23,
   "id": "bbd9f06c",
   "metadata": {
    "execution": {
     "iopub.execute_input": "2023-08-13T00:27:12.057375Z",
     "iopub.status.busy": "2023-08-13T00:27:12.056937Z",
     "iopub.status.idle": "2023-08-13T00:27:12.060914Z",
     "shell.execute_reply": "2023-08-13T00:27:12.060068Z"
    },
    "papermill": {
     "duration": 0.109863,
     "end_time": "2023-08-13T00:27:12.063108",
     "exception": false,
     "start_time": "2023-08-13T00:27:11.953245",
     "status": "completed"
    },
    "tags": []
   },
   "outputs": [],
   "source": [
    "# svm = LinearSVC()\n",
    "# svm_pipe = preprocess_n_train(X_train, y_train, tvec, svm)\n",
    "# y_pred_svm = predict_n_evaluate(svm_pipe, X_test, y_test)\n",
    "# y_pred_svm"
   ]
  },
  {
   "cell_type": "markdown",
   "id": "6aff006f",
   "metadata": {
    "papermill": {
     "duration": 0.103033,
     "end_time": "2023-08-13T00:27:12.268661",
     "exception": false,
     "start_time": "2023-08-13T00:27:12.165628",
     "status": "completed"
    },
    "tags": []
   },
   "source": [
    "### Naive Bayes model  "
   ]
  },
  {
   "cell_type": "markdown",
   "id": "33e88c90",
   "metadata": {
    "papermill": {
     "duration": 0.101035,
     "end_time": "2023-08-13T00:27:12.471607",
     "exception": false,
     "start_time": "2023-08-13T00:27:12.370572",
     "status": "completed"
    },
    "tags": []
   },
   "source": [
    "#### MultinomialNB  "
   ]
  },
  {
   "cell_type": "code",
   "execution_count": 24,
   "id": "60158928",
   "metadata": {
    "execution": {
     "iopub.execute_input": "2023-08-13T00:27:12.678146Z",
     "iopub.status.busy": "2023-08-13T00:27:12.677418Z",
     "iopub.status.idle": "2023-08-13T00:27:12.681750Z",
     "shell.execute_reply": "2023-08-13T00:27:12.680602Z"
    },
    "papermill": {
     "duration": 0.109987,
     "end_time": "2023-08-13T00:27:12.683949",
     "exception": false,
     "start_time": "2023-08-13T00:27:12.573962",
     "status": "completed"
    },
    "tags": []
   },
   "outputs": [],
   "source": [
    "# mnb = MultinomialNB()\n",
    "# mnb_pipe = preprocess_n_train(X_train, y_train, tvec, mnb)\n",
    "# y_pred_mnb = predict_n_evaluate(mnb_pipe, X_test, y_test)\n",
    "# y_pred_mnb"
   ]
  },
  {
   "cell_type": "markdown",
   "id": "74a720e7",
   "metadata": {
    "papermill": {
     "duration": 0.170051,
     "end_time": "2023-08-13T00:27:12.956206",
     "exception": false,
     "start_time": "2023-08-13T00:27:12.786155",
     "status": "completed"
    },
    "tags": []
   },
   "source": [
    "## Submitting predictions to Kaggle competition  "
   ]
  },
  {
   "cell_type": "code",
   "execution_count": 25,
   "id": "05064c5d",
   "metadata": {
    "execution": {
     "iopub.execute_input": "2023-08-13T00:27:13.169729Z",
     "iopub.status.busy": "2023-08-13T00:27:13.168779Z",
     "iopub.status.idle": "2023-08-13T00:27:13.173708Z",
     "shell.execute_reply": "2023-08-13T00:27:13.172945Z"
    },
    "papermill": {
     "duration": 0.113846,
     "end_time": "2023-08-13T00:27:13.175802",
     "exception": false,
     "start_time": "2023-08-13T00:27:13.061956",
     "status": "completed"
    },
    "tags": []
   },
   "outputs": [],
   "source": [
    "# def submit(selected_model=logreg, selected_preprocessor=tvec):\n",
    "    \n",
    "#     # Retrain on the whole train.csv file  \n",
    "#     traindf = pd.read_csv(\"/kaggle/input/sentiment-prediction-on-movie-reviews/train.csv\")\n",
    "#     X_train = traindf[\"reviewText\"]\n",
    "#     X_train.fillna(\"empty\", inplace=True)\n",
    "#     y_train = traindf[\"sentiment\"]\n",
    "#     pipe = preprocess_n_train(X_train, y_train, selected_preprocessor, selected_model)\n",
    "    \n",
    "#     # Predict on test.csv file\n",
    "#     testdf = pd.read_csv(\"/kaggle/input/sentiment-prediction-on-movie-reviews/test.csv\")\n",
    "#     X_test = testdf[\"reviewText\"]\n",
    "#     X_test.fillna(\"empty\", inplace=True)\n",
    "    \n",
    "#     y_pred = pipe.predict(X_test)\n",
    "    \n",
    "#     pred_df = pd.DataFrame(y_pred)\n",
    "#     pred_df.columns = [\"sentiment\"]\n",
    "#     pred_df.index.name = \"id\"\n",
    "#     pred_df.to_csv(\"submission.csv\")\n",
    "    \n",
    "#     return \"Successfully created the submission file!!!\""
   ]
  },
  {
   "cell_type": "code",
   "execution_count": 26,
   "id": "e2e26bfc",
   "metadata": {
    "execution": {
     "iopub.execute_input": "2023-08-13T00:27:13.382956Z",
     "iopub.status.busy": "2023-08-13T00:27:13.382198Z",
     "iopub.status.idle": "2023-08-13T00:27:13.386855Z",
     "shell.execute_reply": "2023-08-13T00:27:13.385744Z"
    },
    "papermill": {
     "duration": 0.110509,
     "end_time": "2023-08-13T00:27:13.389191",
     "exception": false,
     "start_time": "2023-08-13T00:27:13.278682",
     "status": "completed"
    },
    "tags": []
   },
   "outputs": [],
   "source": [
    "# submit(logreg_cv1, tvec_cv1)"
   ]
  },
  {
   "cell_type": "markdown",
   "id": "163b0b4f",
   "metadata": {
    "papermill": {
     "duration": 0.100211,
     "end_time": "2023-08-13T00:27:13.590352",
     "exception": false,
     "start_time": "2023-08-13T00:27:13.490141",
     "status": "completed"
    },
    "tags": []
   },
   "source": [
    "# PART II  "
   ]
  },
  {
   "cell_type": "markdown",
   "id": "630513d9",
   "metadata": {
    "papermill": {
     "duration": 0.102346,
     "end_time": "2023-08-13T00:27:13.794105",
     "exception": false,
     "start_time": "2023-08-13T00:27:13.691759",
     "status": "completed"
    },
    "tags": []
   },
   "source": [
    "## Merge \"movies.csv\" with \"train.csv\" and \"test.csv\"  "
   ]
  },
  {
   "cell_type": "markdown",
   "id": "9bf608f8",
   "metadata": {
    "papermill": {
     "duration": 0.103267,
     "end_time": "2023-08-13T00:27:13.998614",
     "exception": false,
     "start_time": "2023-08-13T00:27:13.895347",
     "status": "completed"
    },
    "tags": []
   },
   "source": [
    "### Helper functions  "
   ]
  },
  {
   "cell_type": "code",
   "execution_count": 27,
   "id": "a6682d11",
   "metadata": {
    "execution": {
     "iopub.execute_input": "2023-08-13T00:27:14.203257Z",
     "iopub.status.busy": "2023-08-13T00:27:14.202796Z",
     "iopub.status.idle": "2023-08-13T00:27:14.208982Z",
     "shell.execute_reply": "2023-08-13T00:27:14.207686Z"
    },
    "papermill": {
     "duration": 0.111588,
     "end_time": "2023-08-13T00:27:14.211592",
     "exception": false,
     "start_time": "2023-08-13T00:27:14.100004",
     "status": "completed"
    },
    "tags": []
   },
   "outputs": [],
   "source": [
    "# Helper function for loading files  \n",
    "\n",
    "def load_csv(filename: str):\n",
    "    if platform == \"vscode\":\n",
    "        df = pd.read_csv(f\"data/{filename}.csv\")\n",
    "    else:\n",
    "        df = pd.read_csv(f\"/kaggle/input/sentiment-prediction-on-movie-reviews/{filename}.csv\")\n",
    "        \n",
    "    return df"
   ]
  },
  {
   "cell_type": "code",
   "execution_count": 28,
   "id": "75fec96f",
   "metadata": {
    "execution": {
     "iopub.execute_input": "2023-08-13T00:27:14.419862Z",
     "iopub.status.busy": "2023-08-13T00:27:14.419452Z",
     "iopub.status.idle": "2023-08-13T00:27:14.425720Z",
     "shell.execute_reply": "2023-08-13T00:27:14.424696Z"
    },
    "papermill": {
     "duration": 0.112969,
     "end_time": "2023-08-13T00:27:14.427924",
     "exception": false,
     "start_time": "2023-08-13T00:27:14.314955",
     "status": "completed"
    },
    "tags": []
   },
   "outputs": [],
   "source": [
    "def inspect(df: pd.DataFrame):\n",
    "    print(f\"Shape of the dataframe: {df.shape}\")\n",
    "    print()\n",
    "    print(f\"Columns in the dataframe:\\n{df.columns}\")\n",
    "    print()\n",
    "    print(f\"{df.info()}\")\n",
    "    print()\n",
    "    # print(f\"Summary: {df.describe()}\")\n",
    "    print(f\"Missing values:\\n{df.isna().sum()}\")\n",
    "    return"
   ]
  },
  {
   "cell_type": "code",
   "execution_count": 29,
   "id": "adb325b6",
   "metadata": {
    "execution": {
     "iopub.execute_input": "2023-08-13T00:27:14.637951Z",
     "iopub.status.busy": "2023-08-13T00:27:14.636856Z",
     "iopub.status.idle": "2023-08-13T00:27:14.642450Z",
     "shell.execute_reply": "2023-08-13T00:27:14.641646Z"
    },
    "papermill": {
     "duration": 0.11419,
     "end_time": "2023-08-13T00:27:14.644630",
     "exception": false,
     "start_time": "2023-08-13T00:27:14.530440",
     "status": "completed"
    },
    "tags": []
   },
   "outputs": [],
   "source": [
    "def name_fl(name):\n",
    "    l = name.split()\n",
    "    n = ' '.join((l[0], l[-1]))\n",
    "    return n"
   ]
  },
  {
   "cell_type": "code",
   "execution_count": 30,
   "id": "c2ae9b25",
   "metadata": {
    "execution": {
     "iopub.execute_input": "2023-08-13T00:27:14.851000Z",
     "iopub.status.busy": "2023-08-13T00:27:14.850292Z",
     "iopub.status.idle": "2023-08-13T00:27:14.878433Z",
     "shell.execute_reply": "2023-08-13T00:27:14.877144Z"
    },
    "papermill": {
     "duration": 0.134447,
     "end_time": "2023-08-13T00:27:14.881384",
     "exception": false,
     "start_time": "2023-08-13T00:27:14.746937",
     "status": "completed"
    },
    "tags": []
   },
   "outputs": [],
   "source": [
    "def select_features(df: pd.DataFrame, moviesdf: pd.DataFrame, row_thresh_null=None):\n",
    "    '''\n",
    "    This function merges the given dataframes. Note that the first df must be \"train\" or \"test\" and\n",
    "    the second df should be \"movies\".\n",
    "    Note: Sentiment column is present only in \"train.csv\" file and not \"test.csv\" file.\n",
    "    '''\n",
    "    \n",
    "    # Drop duplicates from moviesdf\n",
    "#     movies_unique = moviesdf.drop_duplicates(subset=[\"movieid\"])\n",
    "\n",
    "    # Drop duplicates using groupby - clubs similar rows and fills in missing values better\n",
    "    movies_unique = moviesdf.fillna(value=np.nan).groupby(\"movieid\").first().reset_index()\n",
    "    \n",
    "\n",
    "    # Handle missing values in movies.csv better than just dropping duplicates?\n",
    "#     movies_unique = moviesdf.copy()\n",
    "#     movies_unique[[\"audienceScore\", \"runtimeMinutes\"]] = movies_unique[[\"audienceScore\", \"runtimeMinutes\"]].interpolate(method='linear', axis=0)\n",
    "#     movies_unique = movies_unique.fillna(value=np.nan).groupby(\"movieid\").first().fillna(method='ffill').reset_index()\n",
    "\n",
    "    \n",
    "\n",
    "    # Merge df and movies_unique\n",
    "    df_merged = pd.merge(df, movies_unique, on=\"movieid\", how='left')\n",
    "    \n",
    "    # Rename \"isTopCritic\" column, if it exists, to \"isFrequentReviewer\"\n",
    "    df_merged.rename(columns={\"isTopCritic\": \"isFrequentReviewer\"}, inplace=True)\n",
    "    \n",
    "    # Drop columns\n",
    "#     df_merged = df_merged.drop(columns=[\"title\", \"ratingContents\", \"releaseDateTheaters\", \"releaseDateStreaming\", \"distributor\", \"soundType\"])\n",
    "#     df_merged = df_merged.drop(columns=[\"title\", \"soundType\"])\n",
    "    \n",
    "    # Drop rows (OPTIONAL: Uses kwarg row_thresh_null)\n",
    "    if row_thresh_null != None:\n",
    "        df_merged.dropna(axis=0, thresh=(df_merged.shape[1] - row_thresh_null), inplace=True)\n",
    "        \n",
    "\n",
    "    # Create new columns based on reviewText\n",
    "    final = df_merged.copy()\n",
    "    final[\"reviewYN\"] = np.where(final[\"reviewText\"].isnull(), 1, 0)    # Feature engineering - adding a new column\n",
    "    final[\"reviewWC\"] = final.apply(lambda x: len(str(x[\"reviewText\"]).split()), axis=1)    # Feature engineering - adding second new column\n",
    "    \n",
    "    # Clean text (replace numbers with empty string) and fill missing values in \"reviewText\" with empty string\n",
    "    final[\"reviewText\"] = final[\"reviewText\"].str.replace('\\d+', '', regex=True)\n",
    "    final[\"reviewText\"] = final[\"reviewText\"].fillna(\"neutral\")\n",
    "    \n",
    "    # Fill missing values in \"rating\", \"genre\", original columns with the word \"unknown\"\n",
    "    final[\"rating\"] = final[\"rating\"].fillna(\"unknown\")\n",
    "    final[\"originalLanguage\"] = final[\"originalLanguage\"].fillna(\"unknown\")\n",
    "    final[\"genre\"] = final[\"genre\"].fillna(\"unknown\")\n",
    "    final[\"genre\"] = final[\"genre\"].apply(lambda x: re.sub(r\"-\", \"\", x))\n",
    "    final[\"genreSorted\"] = final[\"genre\"].apply(lambda x: (\",\").join(sorted(x.split(\", \"))))\n",
    "#     final[\"genre\"] = final[\"genre\"].replace(to_replace={\"&\": \"\"})\n",
    "\n",
    "    # Impute missing values for \"audienceScore\" and \"runtimeMinutes\" columns\n",
    "#     final[\"audienceScore\"] = final[\"audienceScore\"].fillna(final[\"audienceScore\"].mean())        # MOVED\n",
    "#     final[\"runtimeMinutes\"] = final[\"runtimeMinutes\"].fillna(final[\"runtimeMinutes\"].median())   # MOVED\n",
    "    \n",
    "    # Preprocess and impute missing values in \"boxOffice\" column\n",
    "    final[\"boxOffice\"] = final[\"boxOffice\"].str[1:]\n",
    "    final[\"boxOffice\"] = final[\"boxOffice\"].replace(to_replace={\"M\": \"*1000000\", \"K\": \"*1000\"}, regex=True)\n",
    "    final[\"boxOffice\"] = final[\"boxOffice\"].loc[final[\"boxOffice\"].notnull()].apply(lambda x: eval(str(x)))\n",
    "#     final[\"boxOffice\"] = final[\"boxOffice\"].fillna(final[\"boxOffice\"].median())                  # MOVED\n",
    "    # (Optional) Replace outliers in boxOffice with median\n",
    "#     median = final[\"boxOffice\"].describe()['50%']\n",
    "#     iqr = final[\"boxOffice\"].describe()['75%'] - final[\"boxOffice\"].describe()['25%']\n",
    "#     ll = median - (1.5*iqr)\n",
    "#     ul = median + (1.5*iqr)\n",
    "#     final.loc[final[\"boxOffice\"] > ul, \"boxOffice\"] = median\n",
    "    \n",
    "    # Clean language names\n",
    "    final[\"originalLanguage\"].replace({\"English (United Kingdom)\": \"English\", \n",
    "                                            \"English (Australia)\" : \"English\",\n",
    "                                            \"French (France)\": \"French\", \n",
    "                                            \"French (Canada)\": \"French\",\n",
    "                                            \"Portuguese (Brazil)\": \"Portuguese\",\n",
    "                                            \"Spanish (Spain)\": \"Spanish\"},                                         \n",
    "                                            inplace=True)\n",
    "    \n",
    "    # Clean reviewerName column\n",
    "    pre_post_fixes = {\"Mr. \": \"\", \"Mrs. \": \"\", \"Ms. \": \"\", \"Dr. \": \"\", \n",
    "                      \" MD\": \"\", \" DDS\": \"\", \" DVM\": \"\", \" Jr.\": \"\", \" PhD\": \"\", \" II\": \"\", \" IV\": \"\"}\n",
    "    final[\"reviewerName\"] = final[\"reviewerName\"].replace(pre_post_fixes, regex=True)\n",
    "    final[\"reviewerName\"] = final[\"reviewerName\"].apply(name_fl)\n",
    "    \n",
    "    # Handle 'ratingContents' column\n",
    "    final[\"ratingContents\"] = final[\"ratingContents\"].fillna(\"neutral\")\n",
    "    final[\"rcSorted\"] = final[\"ratingContents\"].apply(lambda x: (\",\").join(sorted(x.strip(\"][\").split(\", \"))))\n",
    "    final[\"rcSorted\"] = final[\"rcSorted\"].apply(lambda x: re.sub(r\"'\", \"\", x))\n",
    "    final[\"rcSorted\"] = final[\"rcSorted\"].apply(lambda x: re.sub(r\"[/\\s]\", \"_\", x))  \n",
    "    \n",
    "    # Handle 'ratingContents' column\n",
    "    final[\"distributor\"] = final[\"distributor\"].fillna(\"unknown\")\n",
    "    \n",
    "    # Work with 'releaseDateTheaters', releaseDateStreaming column\n",
    "    final[[\"releaseDateTheaters\", \"releaseDateStreaming\"]] = final[[\"releaseDateTheaters\", \"releaseDateStreaming\"]].astype('datetime64[ns]')\n",
    "\n",
    "    final[\"releaseDate\"] = final[[\"releaseDateTheaters\", \"releaseDateStreaming\"]].min(axis=1, skipna=False)\n",
    "#     final[\"releaseDate\"] = final[\"releaseDate\"].fillna(final[\"releaseDate\"].median())               # MOVED\n",
    "\n",
    "    final[\"releaseYear\"] = final[\"releaseDate\"].dt.year\n",
    "    final[\"releaseMonth\"] = final[\"releaseDate\"].dt.month\n",
    "    \n",
    "    # Compute \"releaseDiff\" column and fill missing values in \"releaseDiff\" and (optional) replace outliers\n",
    "    final[\"releaseDiff\"] = (final[\"releaseDateStreaming\"] - final[\"releaseDateTheaters\"]) / np.timedelta64(1, 'D')\n",
    "    final[\"releaseDiff\"] = final[\"releaseDiff\"].apply(lambda x: abs(x))\n",
    "    final[\"releaseDiff\"] = final[\"releaseDiff\"].fillna(value=0)\n",
    "#     final[\"releaseDiff\"] = final[\"releaseDiff\"].fillna(final[\"releaseDiff\"].median())\n",
    "    # median = final[\"releaseDiff\"].describe()['50%']\n",
    "    # iqr = final[\"releaseDiff\"].describe()['75%'] - final[\"releaseDiff\"].describe()['25%']\n",
    "    # ll = median - (1.5*iqr)\n",
    "    # ul = median + (1.5*iqr)\n",
    "    # final.loc[final[\"releaseDiff\"] > ul, \"releaseDiff\"] = median\n",
    "    # final.loc[final[\"releaseDiff\"] < ll, \"releaseDiff\"] = median\n",
    "    \n",
    "#     # Create new feature columns\n",
    "    \n",
    "#     # Convert audienceScore to categories  \n",
    "#     num_bins_as = 20\n",
    "#     final[\"audScoreBins\"] = pd.cut(final['audienceScore'], bins=num_bins_as, labels=False)\n",
    "    \n",
    "#     # Convert runtimeMinutes to categories  \n",
    "# #     num_bins_rt = 20\n",
    "#     final[\"runtimeBins\"] = pd.cut(final['runtimeMinutes'], bins=[0,75,120,180,565], labels=[4,3,2,1])\n",
    "    \n",
    "#     # Convert boxOffice to categories  \n",
    "#     num_bins_bo = 5\n",
    "#     final[\"boxOfficeBins\"] = pd.cut(final['boxOffice'], bins=num_bins_bo, labels=False)\n",
    "    \n",
    "#     # Convert releaseDiff to categories  \n",
    "#     num_bins_rd = 5\n",
    "#     final[\"releaseDiffBins\"] = pd.cut(final['releaseDiff'], bins=[-1, 180, 360, 1000, 40000], labels=[0, 1, 2, 3])\n",
    "\n",
    "    return final"
   ]
  },
  {
   "cell_type": "code",
   "execution_count": 31,
   "id": "7cd73bed",
   "metadata": {
    "execution": {
     "iopub.execute_input": "2023-08-13T00:27:15.087240Z",
     "iopub.status.busy": "2023-08-13T00:27:15.086814Z",
     "iopub.status.idle": "2023-08-13T00:27:15.094510Z",
     "shell.execute_reply": "2023-08-13T00:27:15.093295Z"
    },
    "papermill": {
     "duration": 0.112855,
     "end_time": "2023-08-13T00:27:15.096950",
     "exception": false,
     "start_time": "2023-08-13T00:27:14.984095",
     "status": "completed"
    },
    "tags": []
   },
   "outputs": [],
   "source": [
    "def split_train_predict(features, labels, pipeline, test_size=0.25, random_state=42):\n",
    "    # cols = features.columns\n",
    "    if len(features.shape) == 1:\n",
    "        features = features.to_numpy().reshape(-1, 1)  # reshape to 2D array\n",
    "    features = pd.DataFrame(features)\n",
    "    X_train, X_test, y_train, y_test = train_test_split(features, labels, test_size=test_size, random_state=random_state)\n",
    "    pipeline.fit(X_train, y_train)\n",
    "    y_pred = pipeline.predict(X_test)\n",
    "    print(classification_report(y_test, y_pred))\n",
    "    print(confusion_matrix(y_test, y_pred))\n",
    "    return pipeline"
   ]
  },
  {
   "cell_type": "markdown",
   "id": "682c7035",
   "metadata": {
    "papermill": {
     "duration": 0.100657,
     "end_time": "2023-08-13T00:27:15.298982",
     "exception": false,
     "start_time": "2023-08-13T00:27:15.198325",
     "status": "completed"
    },
    "tags": []
   },
   "source": [
    "### Merge \"train.csv\" file with \"movies.csv\" file  "
   ]
  },
  {
   "cell_type": "code",
   "execution_count": 32,
   "id": "0c22bb7d",
   "metadata": {
    "execution": {
     "iopub.execute_input": "2023-08-13T00:27:15.504026Z",
     "iopub.status.busy": "2023-08-13T00:27:15.503640Z",
     "iopub.status.idle": "2023-08-13T00:27:29.879299Z",
     "shell.execute_reply": "2023-08-13T00:27:29.877970Z"
    },
    "papermill": {
     "duration": 14.481643,
     "end_time": "2023-08-13T00:27:29.882109",
     "exception": false,
     "start_time": "2023-08-13T00:27:15.400466",
     "status": "completed"
    },
    "tags": []
   },
   "outputs": [],
   "source": [
    "merged = select_features(load_csv(\"train\"), load_csv(\"movies\"), row_thresh_null=None)"
   ]
  },
  {
   "cell_type": "code",
   "execution_count": 33,
   "id": "824afa13",
   "metadata": {
    "execution": {
     "iopub.execute_input": "2023-08-13T00:27:30.112942Z",
     "iopub.status.busy": "2023-08-13T00:27:30.111901Z",
     "iopub.status.idle": "2023-08-13T00:27:31.592791Z",
     "shell.execute_reply": "2023-08-13T00:27:31.591711Z"
    },
    "papermill": {
     "duration": 1.587074,
     "end_time": "2023-08-13T00:27:31.595529",
     "exception": false,
     "start_time": "2023-08-13T00:27:30.008455",
     "status": "completed"
    },
    "tags": []
   },
   "outputs": [
    {
     "name": "stdout",
     "output_type": "stream",
     "text": [
      "Shape of the dataframe: (162758, 26)\n",
      "\n",
      "Columns in the dataframe:\n",
      "Index(['movieid', 'reviewerName', 'isFrequentReviewer', 'reviewText',\n",
      "       'sentiment', 'title', 'audienceScore', 'rating', 'ratingContents',\n",
      "       'releaseDateTheaters', 'releaseDateStreaming', 'runtimeMinutes',\n",
      "       'genre', 'originalLanguage', 'director', 'boxOffice', 'distributor',\n",
      "       'soundType', 'reviewYN', 'reviewWC', 'genreSorted', 'rcSorted',\n",
      "       'releaseDate', 'releaseYear', 'releaseMonth', 'releaseDiff'],\n",
      "      dtype='object')\n",
      "\n",
      "<class 'pandas.core.frame.DataFrame'>\n",
      "Int64Index: 162758 entries, 0 to 162757\n",
      "Data columns (total 26 columns):\n",
      " #   Column                Non-Null Count   Dtype         \n",
      "---  ------                --------------   -----         \n",
      " 0   movieid               162758 non-null  object        \n",
      " 1   reviewerName          162758 non-null  object        \n",
      " 2   isFrequentReviewer    162758 non-null  bool          \n",
      " 3   reviewText            162758 non-null  object        \n",
      " 4   sentiment             162758 non-null  object        \n",
      " 5   title                 162758 non-null  object        \n",
      " 6   audienceScore         159922 non-null  float64       \n",
      " 7   rating                162758 non-null  object        \n",
      " 8   ratingContents        162758 non-null  object        \n",
      " 9   releaseDateTheaters   146403 non-null  datetime64[ns]\n",
      " 10  releaseDateStreaming  157353 non-null  datetime64[ns]\n",
      " 11  runtimeMinutes        162016 non-null  float64       \n",
      " 12  genre                 162758 non-null  object        \n",
      " 13  originalLanguage      162758 non-null  object        \n",
      " 14  director              162758 non-null  object        \n",
      " 15  boxOffice             130581 non-null  float64       \n",
      " 16  distributor           162758 non-null  object        \n",
      " 17  soundType             93466 non-null   object        \n",
      " 18  reviewYN              162758 non-null  int64         \n",
      " 19  reviewWC              162758 non-null  int64         \n",
      " 20  genreSorted           162758 non-null  object        \n",
      " 21  rcSorted              162758 non-null  object        \n",
      " 22  releaseDate           143073 non-null  datetime64[ns]\n",
      " 23  releaseYear           143073 non-null  float64       \n",
      " 24  releaseMonth          143073 non-null  float64       \n",
      " 25  releaseDiff           162758 non-null  float64       \n",
      "dtypes: bool(1), datetime64[ns](3), float64(6), int64(2), object(14)\n",
      "memory usage: 32.4+ MB\n",
      "None\n",
      "\n",
      "Missing values:\n",
      "movieid                     0\n",
      "reviewerName                0\n",
      "isFrequentReviewer          0\n",
      "reviewText                  0\n",
      "sentiment                   0\n",
      "title                       0\n",
      "audienceScore            2836\n",
      "rating                      0\n",
      "ratingContents              0\n",
      "releaseDateTheaters     16355\n",
      "releaseDateStreaming     5405\n",
      "runtimeMinutes            742\n",
      "genre                       0\n",
      "originalLanguage            0\n",
      "director                    0\n",
      "boxOffice               32177\n",
      "distributor                 0\n",
      "soundType               69292\n",
      "reviewYN                    0\n",
      "reviewWC                    0\n",
      "genreSorted                 0\n",
      "rcSorted                    0\n",
      "releaseDate             19685\n",
      "releaseYear             19685\n",
      "releaseMonth            19685\n",
      "releaseDiff                 0\n",
      "dtype: int64\n"
     ]
    }
   ],
   "source": [
    "inspect(merged)    # Note missing values in ['audienceScore', 'runtimeMinutes', 'boxOffice'] columns  "
   ]
  },
  {
   "cell_type": "code",
   "execution_count": 34,
   "id": "d0472bd3",
   "metadata": {
    "execution": {
     "iopub.execute_input": "2023-08-13T00:27:31.805992Z",
     "iopub.status.busy": "2023-08-13T00:27:31.805603Z",
     "iopub.status.idle": "2023-08-13T00:27:31.897036Z",
     "shell.execute_reply": "2023-08-13T00:27:31.895918Z"
    },
    "papermill": {
     "duration": 0.200624,
     "end_time": "2023-08-13T00:27:31.899882",
     "exception": false,
     "start_time": "2023-08-13T00:27:31.699258",
     "status": "completed"
    },
    "tags": []
   },
   "outputs": [
    {
     "data": {
      "text/plain": [
       "array([6.80e+01, 1.04e+02, 1.43e+07])"
      ]
     },
     "execution_count": 34,
     "metadata": {},
     "output_type": "execute_result"
    }
   ],
   "source": [
    "# Simple Imputer for ['audienceScore', 'runtimeMinutes', 'boxOffice'] columns\n",
    "si = SimpleImputer(strategy='median')\n",
    "merged[['audienceScore', 'runtimeMinutes', 'boxOffice']] = si.fit_transform(merged[['audienceScore', 'runtimeMinutes', 'boxOffice']])\n",
    "si.statistics_"
   ]
  },
  {
   "cell_type": "code",
   "execution_count": 35,
   "id": "5f6160aa",
   "metadata": {
    "execution": {
     "iopub.execute_input": "2023-08-13T00:27:32.110950Z",
     "iopub.status.busy": "2023-08-13T00:27:32.110541Z",
     "iopub.status.idle": "2023-08-13T00:27:32.124635Z",
     "shell.execute_reply": "2023-08-13T00:27:32.123417Z"
    },
    "papermill": {
     "duration": 0.124551,
     "end_time": "2023-08-13T00:27:32.127408",
     "exception": false,
     "start_time": "2023-08-13T00:27:32.002857",
     "status": "completed"
    },
    "tags": []
   },
   "outputs": [],
   "source": [
    "# Fill 'releaseDate' column with median  \n",
    "merged['releaseDate'] = merged[\"releaseDate\"].fillna(merged[\"releaseDate\"].median())"
   ]
  },
  {
   "cell_type": "code",
   "execution_count": 36,
   "id": "a253317f",
   "metadata": {
    "execution": {
     "iopub.execute_input": "2023-08-13T00:27:32.337558Z",
     "iopub.status.busy": "2023-08-13T00:27:32.337113Z",
     "iopub.status.idle": "2023-08-13T00:27:33.808587Z",
     "shell.execute_reply": "2023-08-13T00:27:33.806812Z"
    },
    "papermill": {
     "duration": 1.58058,
     "end_time": "2023-08-13T00:27:33.811281",
     "exception": false,
     "start_time": "2023-08-13T00:27:32.230701",
     "status": "completed"
    },
    "tags": []
   },
   "outputs": [
    {
     "name": "stdout",
     "output_type": "stream",
     "text": [
      "Shape of the dataframe: (162758, 26)\n",
      "\n",
      "Columns in the dataframe:\n",
      "Index(['movieid', 'reviewerName', 'isFrequentReviewer', 'reviewText',\n",
      "       'sentiment', 'title', 'audienceScore', 'rating', 'ratingContents',\n",
      "       'releaseDateTheaters', 'releaseDateStreaming', 'runtimeMinutes',\n",
      "       'genre', 'originalLanguage', 'director', 'boxOffice', 'distributor',\n",
      "       'soundType', 'reviewYN', 'reviewWC', 'genreSorted', 'rcSorted',\n",
      "       'releaseDate', 'releaseYear', 'releaseMonth', 'releaseDiff'],\n",
      "      dtype='object')\n",
      "\n",
      "<class 'pandas.core.frame.DataFrame'>\n",
      "Int64Index: 162758 entries, 0 to 162757\n",
      "Data columns (total 26 columns):\n",
      " #   Column                Non-Null Count   Dtype         \n",
      "---  ------                --------------   -----         \n",
      " 0   movieid               162758 non-null  object        \n",
      " 1   reviewerName          162758 non-null  object        \n",
      " 2   isFrequentReviewer    162758 non-null  bool          \n",
      " 3   reviewText            162758 non-null  object        \n",
      " 4   sentiment             162758 non-null  object        \n",
      " 5   title                 162758 non-null  object        \n",
      " 6   audienceScore         162758 non-null  float64       \n",
      " 7   rating                162758 non-null  object        \n",
      " 8   ratingContents        162758 non-null  object        \n",
      " 9   releaseDateTheaters   146403 non-null  datetime64[ns]\n",
      " 10  releaseDateStreaming  157353 non-null  datetime64[ns]\n",
      " 11  runtimeMinutes        162758 non-null  float64       \n",
      " 12  genre                 162758 non-null  object        \n",
      " 13  originalLanguage      162758 non-null  object        \n",
      " 14  director              162758 non-null  object        \n",
      " 15  boxOffice             162758 non-null  float64       \n",
      " 16  distributor           162758 non-null  object        \n",
      " 17  soundType             93466 non-null   object        \n",
      " 18  reviewYN              162758 non-null  int64         \n",
      " 19  reviewWC              162758 non-null  int64         \n",
      " 20  genreSorted           162758 non-null  object        \n",
      " 21  rcSorted              162758 non-null  object        \n",
      " 22  releaseDate           162758 non-null  datetime64[ns]\n",
      " 23  releaseYear           143073 non-null  float64       \n",
      " 24  releaseMonth          143073 non-null  float64       \n",
      " 25  releaseDiff           162758 non-null  float64       \n",
      "dtypes: bool(1), datetime64[ns](3), float64(6), int64(2), object(14)\n",
      "memory usage: 32.4+ MB\n",
      "None\n",
      "\n",
      "Missing values:\n",
      "movieid                     0\n",
      "reviewerName                0\n",
      "isFrequentReviewer          0\n",
      "reviewText                  0\n",
      "sentiment                   0\n",
      "title                       0\n",
      "audienceScore               0\n",
      "rating                      0\n",
      "ratingContents              0\n",
      "releaseDateTheaters     16355\n",
      "releaseDateStreaming     5405\n",
      "runtimeMinutes              0\n",
      "genre                       0\n",
      "originalLanguage            0\n",
      "director                    0\n",
      "boxOffice                   0\n",
      "distributor                 0\n",
      "soundType               69292\n",
      "reviewYN                    0\n",
      "reviewWC                    0\n",
      "genreSorted                 0\n",
      "rcSorted                    0\n",
      "releaseDate                 0\n",
      "releaseYear             19685\n",
      "releaseMonth            19685\n",
      "releaseDiff                 0\n",
      "dtype: int64\n"
     ]
    }
   ],
   "source": [
    "# Check out 'merged' df after imputation  \n",
    "inspect(merged)"
   ]
  },
  {
   "cell_type": "code",
   "execution_count": 37,
   "id": "f26a2ab1",
   "metadata": {
    "execution": {
     "iopub.execute_input": "2023-08-13T00:27:34.016914Z",
     "iopub.status.busy": "2023-08-13T00:27:34.016523Z",
     "iopub.status.idle": "2023-08-13T00:27:34.074286Z",
     "shell.execute_reply": "2023-08-13T00:27:34.073382Z"
    },
    "papermill": {
     "duration": 0.163121,
     "end_time": "2023-08-13T00:27:34.076498",
     "exception": false,
     "start_time": "2023-08-13T00:27:33.913377",
     "status": "completed"
    },
    "tags": []
   },
   "outputs": [
    {
     "data": {
      "text/html": [
       "<div>\n",
       "<style scoped>\n",
       "    .dataframe tbody tr th:only-of-type {\n",
       "        vertical-align: middle;\n",
       "    }\n",
       "\n",
       "    .dataframe tbody tr th {\n",
       "        vertical-align: top;\n",
       "    }\n",
       "\n",
       "    .dataframe thead th {\n",
       "        text-align: right;\n",
       "    }\n",
       "</style>\n",
       "<table border=\"1\" class=\"dataframe\">\n",
       "  <thead>\n",
       "    <tr style=\"text-align: right;\">\n",
       "      <th></th>\n",
       "      <th>audienceScore</th>\n",
       "      <th>runtimeMinutes</th>\n",
       "      <th>boxOffice</th>\n",
       "    </tr>\n",
       "  </thead>\n",
       "  <tbody>\n",
       "    <tr>\n",
       "      <th>count</th>\n",
       "      <td>162758.000000</td>\n",
       "      <td>162758.000000</td>\n",
       "      <td>1.627580e+05</td>\n",
       "    </tr>\n",
       "    <tr>\n",
       "      <th>mean</th>\n",
       "      <td>65.062565</td>\n",
       "      <td>106.992019</td>\n",
       "      <td>4.160983e+07</td>\n",
       "    </tr>\n",
       "    <tr>\n",
       "      <th>std</th>\n",
       "      <td>19.844000</td>\n",
       "      <td>22.203778</td>\n",
       "      <td>7.932291e+07</td>\n",
       "    </tr>\n",
       "    <tr>\n",
       "      <th>min</th>\n",
       "      <td>0.000000</td>\n",
       "      <td>4.000000</td>\n",
       "      <td>0.000000e+00</td>\n",
       "    </tr>\n",
       "    <tr>\n",
       "      <th>25%</th>\n",
       "      <td>51.000000</td>\n",
       "      <td>93.000000</td>\n",
       "      <td>2.000000e+06</td>\n",
       "    </tr>\n",
       "    <tr>\n",
       "      <th>50%</th>\n",
       "      <td>68.000000</td>\n",
       "      <td>104.000000</td>\n",
       "      <td>1.430000e+07</td>\n",
       "    </tr>\n",
       "    <tr>\n",
       "      <th>75%</th>\n",
       "      <td>81.000000</td>\n",
       "      <td>118.000000</td>\n",
       "      <td>4.200000e+07</td>\n",
       "    </tr>\n",
       "    <tr>\n",
       "      <th>max</th>\n",
       "      <td>100.000000</td>\n",
       "      <td>561.000000</td>\n",
       "      <td>8.584000e+08</td>\n",
       "    </tr>\n",
       "  </tbody>\n",
       "</table>\n",
       "</div>"
      ],
      "text/plain": [
       "       audienceScore  runtimeMinutes     boxOffice\n",
       "count  162758.000000   162758.000000  1.627580e+05\n",
       "mean       65.062565      106.992019  4.160983e+07\n",
       "std        19.844000       22.203778  7.932291e+07\n",
       "min         0.000000        4.000000  0.000000e+00\n",
       "25%        51.000000       93.000000  2.000000e+06\n",
       "50%        68.000000      104.000000  1.430000e+07\n",
       "75%        81.000000      118.000000  4.200000e+07\n",
       "max       100.000000      561.000000  8.584000e+08"
      ]
     },
     "execution_count": 37,
     "metadata": {},
     "output_type": "execute_result"
    }
   ],
   "source": [
    "merged[['audienceScore', 'runtimeMinutes', 'boxOffice']].describe()"
   ]
  },
  {
   "cell_type": "markdown",
   "id": "75519cb7",
   "metadata": {
    "papermill": {
     "duration": 0.103455,
     "end_time": "2023-08-13T00:27:34.346396",
     "exception": false,
     "start_time": "2023-08-13T00:27:34.242941",
     "status": "completed"
    },
    "tags": []
   },
   "source": [
    "### EDA audienceScore  "
   ]
  },
  {
   "cell_type": "code",
   "execution_count": 38,
   "id": "54144fdd",
   "metadata": {
    "execution": {
     "iopub.execute_input": "2023-08-13T00:27:34.553978Z",
     "iopub.status.busy": "2023-08-13T00:27:34.553358Z",
     "iopub.status.idle": "2023-08-13T00:27:34.949604Z",
     "shell.execute_reply": "2023-08-13T00:27:34.948198Z"
    },
    "papermill": {
     "duration": 0.503037,
     "end_time": "2023-08-13T00:27:34.952589",
     "exception": false,
     "start_time": "2023-08-13T00:27:34.449552",
     "status": "completed"
    },
    "tags": []
   },
   "outputs": [
    {
     "data": {
      "text/plain": [
       "<Axes: xlabel='sentiment', ylabel='audienceScore'>"
      ]
     },
     "execution_count": 38,
     "metadata": {},
     "output_type": "execute_result"
    },
    {
     "data": {
      "image/png": "[encoded data removed]",
      "text/plain": [
       "<Figure size 640x480 with 1 Axes>"
      ]
     },
     "metadata": {},
     "output_type": "display_data"
    }
   ],
   "source": [
    "sns.boxplot(y=merged[\"audienceScore\"], x=merged[\"sentiment\"])"
   ]
  },
  {
   "cell_type": "code",
   "execution_count": 39,
   "id": "59a5247d",
   "metadata": {
    "execution": {
     "iopub.execute_input": "2023-08-13T00:27:35.165567Z",
     "iopub.status.busy": "2023-08-13T00:27:35.164830Z",
     "iopub.status.idle": "2023-08-13T00:27:35.213900Z",
     "shell.execute_reply": "2023-08-13T00:27:35.212796Z"
    },
    "papermill": {
     "duration": 0.159361,
     "end_time": "2023-08-13T00:27:35.216471",
     "exception": false,
     "start_time": "2023-08-13T00:27:35.057110",
     "status": "completed"
    },
    "tags": []
   },
   "outputs": [
    {
     "data": {
      "text/html": [
       "<div>\n",
       "<style scoped>\n",
       "    .dataframe tbody tr th:only-of-type {\n",
       "        vertical-align: middle;\n",
       "    }\n",
       "\n",
       "    .dataframe tbody tr th {\n",
       "        vertical-align: top;\n",
       "    }\n",
       "\n",
       "    .dataframe thead th {\n",
       "        text-align: right;\n",
       "    }\n",
       "</style>\n",
       "<table border=\"1\" class=\"dataframe\">\n",
       "  <thead>\n",
       "    <tr style=\"text-align: right;\">\n",
       "      <th></th>\n",
       "      <th>count</th>\n",
       "      <th>mean</th>\n",
       "      <th>std</th>\n",
       "      <th>min</th>\n",
       "      <th>25%</th>\n",
       "      <th>50%</th>\n",
       "      <th>75%</th>\n",
       "      <th>max</th>\n",
       "    </tr>\n",
       "    <tr>\n",
       "      <th>sentiment</th>\n",
       "      <th></th>\n",
       "      <th></th>\n",
       "      <th></th>\n",
       "      <th></th>\n",
       "      <th></th>\n",
       "      <th></th>\n",
       "      <th></th>\n",
       "      <th></th>\n",
       "    </tr>\n",
       "  </thead>\n",
       "  <tbody>\n",
       "    <tr>\n",
       "      <th>NEGATIVE</th>\n",
       "      <td>53997.0</td>\n",
       "      <td>56.474786</td>\n",
       "      <td>19.902115</td>\n",
       "      <td>0.0</td>\n",
       "      <td>41.0</td>\n",
       "      <td>57.0</td>\n",
       "      <td>72.0</td>\n",
       "      <td>100.0</td>\n",
       "    </tr>\n",
       "    <tr>\n",
       "      <th>POSITIVE</th>\n",
       "      <td>108761.0</td>\n",
       "      <td>69.326174</td>\n",
       "      <td>18.380626</td>\n",
       "      <td>0.0</td>\n",
       "      <td>58.0</td>\n",
       "      <td>73.0</td>\n",
       "      <td>84.0</td>\n",
       "      <td>100.0</td>\n",
       "    </tr>\n",
       "  </tbody>\n",
       "</table>\n",
       "</div>"
      ],
      "text/plain": [
       "              count       mean        std  min   25%   50%   75%    max\n",
       "sentiment                                                              \n",
       "NEGATIVE    53997.0  56.474786  19.902115  0.0  41.0  57.0  72.0  100.0\n",
       "POSITIVE   108761.0  69.326174  18.380626  0.0  58.0  73.0  84.0  100.0"
      ]
     },
     "execution_count": 39,
     "metadata": {},
     "output_type": "execute_result"
    }
   ],
   "source": [
    "merged.groupby('sentiment')['audienceScore'].describe()"
   ]
  },
  {
   "cell_type": "code",
   "execution_count": 40,
   "id": "8f14f5cc",
   "metadata": {
    "execution": {
     "iopub.execute_input": "2023-08-13T00:27:35.425874Z",
     "iopub.status.busy": "2023-08-13T00:27:35.425046Z",
     "iopub.status.idle": "2023-08-13T00:27:35.485215Z",
     "shell.execute_reply": "2023-08-13T00:27:35.484008Z"
    },
    "papermill": {
     "duration": 0.167555,
     "end_time": "2023-08-13T00:27:35.487928",
     "exception": false,
     "start_time": "2023-08-13T00:27:35.320373",
     "status": "completed"
    },
    "tags": []
   },
   "outputs": [
    {
     "data": {
      "text/plain": [
       "(162758, 26)"
      ]
     },
     "execution_count": 40,
     "metadata": {},
     "output_type": "execute_result"
    }
   ],
   "source": [
    "merged.loc[merged['audienceScore'] >= 0].shape"
   ]
  },
  {
   "cell_type": "markdown",
   "id": "8d3c4759",
   "metadata": {
    "papermill": {
     "duration": 0.104417,
     "end_time": "2023-08-13T00:27:35.696689",
     "exception": false,
     "start_time": "2023-08-13T00:27:35.592272",
     "status": "completed"
    },
    "tags": []
   },
   "source": [
    "### EDA releaseDiff  "
   ]
  },
  {
   "cell_type": "code",
   "execution_count": 41,
   "id": "7bef6611",
   "metadata": {
    "execution": {
     "iopub.execute_input": "2023-08-13T00:27:35.906267Z",
     "iopub.status.busy": "2023-08-13T00:27:35.905870Z",
     "iopub.status.idle": "2023-08-13T00:27:35.924187Z",
     "shell.execute_reply": "2023-08-13T00:27:35.923040Z"
    },
    "papermill": {
     "duration": 0.125485,
     "end_time": "2023-08-13T00:27:35.926602",
     "exception": false,
     "start_time": "2023-08-13T00:27:35.801117",
     "status": "completed"
    },
    "tags": []
   },
   "outputs": [
    {
     "data": {
      "text/plain": [
       "count    162758.000000\n",
       "mean       1653.469015\n",
       "std        4581.420922\n",
       "min           0.000000\n",
       "25%          65.000000\n",
       "50%         116.000000\n",
       "75%         375.000000\n",
       "max       38922.000000\n",
       "Name: releaseDiff, dtype: float64"
      ]
     },
     "execution_count": 41,
     "metadata": {},
     "output_type": "execute_result"
    }
   ],
   "source": [
    "# abs values\n",
    "merged[\"releaseDiff\"].describe()"
   ]
  },
  {
   "cell_type": "code",
   "execution_count": 42,
   "id": "bc00016a",
   "metadata": {
    "execution": {
     "iopub.execute_input": "2023-08-13T00:27:36.136961Z",
     "iopub.status.busy": "2023-08-13T00:27:36.136536Z",
     "iopub.status.idle": "2023-08-13T00:27:36.141423Z",
     "shell.execute_reply": "2023-08-13T00:27:36.140297Z"
    },
    "papermill": {
     "duration": 0.113783,
     "end_time": "2023-08-13T00:27:36.143547",
     "exception": false,
     "start_time": "2023-08-13T00:27:36.029764",
     "status": "completed"
    },
    "tags": []
   },
   "outputs": [],
   "source": [
    "# merged['releaseDiffBins'].value_counts()"
   ]
  },
  {
   "cell_type": "code",
   "execution_count": 43,
   "id": "78ed66e8",
   "metadata": {
    "execution": {
     "iopub.execute_input": "2023-08-13T00:27:36.355356Z",
     "iopub.status.busy": "2023-08-13T00:27:36.354493Z",
     "iopub.status.idle": "2023-08-13T00:27:36.734402Z",
     "shell.execute_reply": "2023-08-13T00:27:36.733226Z"
    },
    "papermill": {
     "duration": 0.489198,
     "end_time": "2023-08-13T00:27:36.737193",
     "exception": false,
     "start_time": "2023-08-13T00:27:36.247995",
     "status": "completed"
    },
    "tags": []
   },
   "outputs": [
    {
     "data": {
      "text/plain": [
       "<Axes: xlabel='sentiment', ylabel='releaseDiff'>"
      ]
     },
     "execution_count": 43,
     "metadata": {},
     "output_type": "execute_result"
    },
    {
     "data": {
      "image/png": "[encoded data removed]",
      "text/plain": [
       "<Figure size 640x480 with 1 Axes>"
      ]
     },
     "metadata": {},
     "output_type": "display_data"
    }
   ],
   "source": [
    "sns.boxplot(x=merged['sentiment'], y=merged['releaseDiff'], showfliers=False)"
   ]
  },
  {
   "cell_type": "code",
   "execution_count": 44,
   "id": "3c9eb264",
   "metadata": {
    "execution": {
     "iopub.execute_input": "2023-08-13T00:27:36.946593Z",
     "iopub.status.busy": "2023-08-13T00:27:36.946156Z",
     "iopub.status.idle": "2023-08-13T00:27:36.951551Z",
     "shell.execute_reply": "2023-08-13T00:27:36.950368Z"
    },
    "papermill": {
     "duration": 0.113332,
     "end_time": "2023-08-13T00:27:36.953935",
     "exception": false,
     "start_time": "2023-08-13T00:27:36.840603",
     "status": "completed"
    },
    "tags": []
   },
   "outputs": [],
   "source": [
    "# sns.displot(merged['releaseDiffBins'])"
   ]
  },
  {
   "cell_type": "code",
   "execution_count": 45,
   "id": "e6fc4f5c",
   "metadata": {
    "execution": {
     "iopub.execute_input": "2023-08-13T00:27:37.168498Z",
     "iopub.status.busy": "2023-08-13T00:27:37.167786Z",
     "iopub.status.idle": "2023-08-13T00:27:37.171846Z",
     "shell.execute_reply": "2023-08-13T00:27:37.170979Z"
    },
    "papermill": {
     "duration": 0.114134,
     "end_time": "2023-08-13T00:27:37.174055",
     "exception": false,
     "start_time": "2023-08-13T00:27:37.059921",
     "status": "completed"
    },
    "tags": []
   },
   "outputs": [],
   "source": [
    "# merged['sentiment'].loc[merged['releaseDiffBins'] > 0].value_counts()"
   ]
  },
  {
   "cell_type": "code",
   "execution_count": 46,
   "id": "b449a3e6",
   "metadata": {
    "execution": {
     "iopub.execute_input": "2023-08-13T00:27:37.387271Z",
     "iopub.status.busy": "2023-08-13T00:27:37.386592Z",
     "iopub.status.idle": "2023-08-13T00:27:37.390916Z",
     "shell.execute_reply": "2023-08-13T00:27:37.389687Z"
    },
    "papermill": {
     "duration": 0.113503,
     "end_time": "2023-08-13T00:27:37.393340",
     "exception": false,
     "start_time": "2023-08-13T00:27:37.279837",
     "status": "completed"
    },
    "tags": []
   },
   "outputs": [],
   "source": [
    "# merged['releaseDiffBins'].describe()"
   ]
  },
  {
   "cell_type": "markdown",
   "id": "4aaeef52",
   "metadata": {
    "papermill": {
     "duration": 0.104473,
     "end_time": "2023-08-13T00:27:37.603111",
     "exception": false,
     "start_time": "2023-08-13T00:27:37.498638",
     "status": "completed"
    },
    "tags": []
   },
   "source": [
    "### EDA 'distributor'  "
   ]
  },
  {
   "cell_type": "code",
   "execution_count": 47,
   "id": "c923d46c",
   "metadata": {
    "execution": {
     "iopub.execute_input": "2023-08-13T00:27:37.814190Z",
     "iopub.status.busy": "2023-08-13T00:27:37.813177Z",
     "iopub.status.idle": "2023-08-13T00:27:37.848602Z",
     "shell.execute_reply": "2023-08-13T00:27:37.847735Z"
    },
    "papermill": {
     "duration": 0.144001,
     "end_time": "2023-08-13T00:27:37.851118",
     "exception": false,
     "start_time": "2023-08-13T00:27:37.707117",
     "status": "completed"
    },
    "tags": []
   },
   "outputs": [
    {
     "data": {
      "text/plain": [
       "unknown                              20489\n",
       "Universal Pictures                    8847\n",
       "Warner Bros. Pictures                 8722\n",
       "Paramount Pictures                    7773\n",
       "20th Century Fox                      7007\n",
       "                                     ...  \n",
       "Almi Pictures                            1\n",
       "Koch Lorber                              1\n",
       "Magic Lamp                               1\n",
       "Fine Line Features, Miramax Films        1\n",
       "American Film Co.                        1\n",
       "Name: distributor, Length: 1796, dtype: int64"
      ]
     },
     "execution_count": 47,
     "metadata": {},
     "output_type": "execute_result"
    }
   ],
   "source": [
    "merged[\"distributor\"].value_counts()"
   ]
  },
  {
   "cell_type": "code",
   "execution_count": 48,
   "id": "c595c7bd",
   "metadata": {
    "execution": {
     "iopub.execute_input": "2023-08-13T00:27:38.065339Z",
     "iopub.status.busy": "2023-08-13T00:27:38.064910Z",
     "iopub.status.idle": "2023-08-13T00:27:38.085043Z",
     "shell.execute_reply": "2023-08-13T00:27:38.084125Z"
    },
    "papermill": {
     "duration": 0.129393,
     "end_time": "2023-08-13T00:27:38.087573",
     "exception": false,
     "start_time": "2023-08-13T00:27:37.958180",
     "status": "completed"
    },
    "tags": []
   },
   "outputs": [
    {
     "data": {
      "text/plain": [
       "count    162758.000000\n",
       "mean        106.992019\n",
       "std          22.203778\n",
       "min           4.000000\n",
       "25%          93.000000\n",
       "50%         104.000000\n",
       "75%         118.000000\n",
       "max         561.000000\n",
       "Name: runtimeMinutes, dtype: float64"
      ]
     },
     "execution_count": 48,
     "metadata": {},
     "output_type": "execute_result"
    }
   ],
   "source": [
    "merged[\"runtimeMinutes\"].describe()"
   ]
  },
  {
   "cell_type": "code",
   "execution_count": 49,
   "id": "01566526",
   "metadata": {
    "execution": {
     "iopub.execute_input": "2023-08-13T00:27:38.301654Z",
     "iopub.status.busy": "2023-08-13T00:27:38.301221Z",
     "iopub.status.idle": "2023-08-13T00:27:38.715600Z",
     "shell.execute_reply": "2023-08-13T00:27:38.714399Z"
    },
    "papermill": {
     "duration": 0.524892,
     "end_time": "2023-08-13T00:27:38.718240",
     "exception": false,
     "start_time": "2023-08-13T00:27:38.193348",
     "status": "completed"
    },
    "tags": []
   },
   "outputs": [
    {
     "data": {
      "text/plain": [
       "<Axes: xlabel='sentiment', ylabel='runtimeMinutes'>"
      ]
     },
     "execution_count": 49,
     "metadata": {},
     "output_type": "execute_result"
    },
    {
     "data": {
      "image/png": "[encoded data removed]",
      "text/plain": [
       "<Figure size 640x480 with 1 Axes>"
      ]
     },
     "metadata": {},
     "output_type": "display_data"
    }
   ],
   "source": [
    "sns.boxplot(y=merged[\"runtimeMinutes\"], x=merged[\"sentiment\"])"
   ]
  },
  {
   "cell_type": "code",
   "execution_count": 50,
   "id": "9be72ded",
   "metadata": {
    "execution": {
     "iopub.execute_input": "2023-08-13T00:27:38.931919Z",
     "iopub.status.busy": "2023-08-13T00:27:38.931517Z",
     "iopub.status.idle": "2023-08-13T00:27:38.936117Z",
     "shell.execute_reply": "2023-08-13T00:27:38.935255Z"
    },
    "papermill": {
     "duration": 0.113759,
     "end_time": "2023-08-13T00:27:38.938378",
     "exception": false,
     "start_time": "2023-08-13T00:27:38.824619",
     "status": "completed"
    },
    "tags": []
   },
   "outputs": [],
   "source": [
    "# print(merged[\"boxOfficeBins\"].value_counts())\n",
    "# sns.displot(merged[\"boxOfficeBins\"])"
   ]
  },
  {
   "cell_type": "code",
   "execution_count": 51,
   "id": "1637991a",
   "metadata": {
    "execution": {
     "iopub.execute_input": "2023-08-13T00:27:39.153934Z",
     "iopub.status.busy": "2023-08-13T00:27:39.153512Z",
     "iopub.status.idle": "2023-08-13T00:27:39.162273Z",
     "shell.execute_reply": "2023-08-13T00:27:39.161141Z"
    },
    "papermill": {
     "duration": 0.120849,
     "end_time": "2023-08-13T00:27:39.164620",
     "exception": false,
     "start_time": "2023-08-13T00:27:39.043771",
     "status": "completed"
    },
    "tags": []
   },
   "outputs": [
    {
     "data": {
      "text/plain": [
       "0    Henry Selick’s first movie since ’s Coraline. ...\n",
       "1    With a cast that reads like the Vogue Oscar pa...\n",
       "2    Creed II does not give us anything but another...\n",
       "3    I know what you're thinking, but this is no Li...\n",
       "4    Director Fernando Meirelles tells the story wi...\n",
       "Name: reviewText, dtype: object"
      ]
     },
     "execution_count": 51,
     "metadata": {},
     "output_type": "execute_result"
    }
   ],
   "source": [
    "merged[\"reviewText\"].head()"
   ]
  },
  {
   "cell_type": "code",
   "execution_count": 52,
   "id": "2c2d6d7b",
   "metadata": {
    "execution": {
     "iopub.execute_input": "2023-08-13T00:27:39.380470Z",
     "iopub.status.busy": "2023-08-13T00:27:39.379661Z",
     "iopub.status.idle": "2023-08-13T00:27:39.388354Z",
     "shell.execute_reply": "2023-08-13T00:27:39.386961Z"
    },
    "papermill": {
     "duration": 0.119798,
     "end_time": "2023-08-13T00:27:39.391104",
     "exception": false,
     "start_time": "2023-08-13T00:27:39.271306",
     "status": "completed"
    },
    "tags": []
   },
   "outputs": [
    {
     "data": {
      "text/plain": [
       "6447"
      ]
     },
     "execution_count": 52,
     "metadata": {},
     "output_type": "execute_result"
    }
   ],
   "source": [
    "merged[\"reviewYN\"].sum()"
   ]
  },
  {
   "cell_type": "code",
   "execution_count": 53,
   "id": "84c3a9e1",
   "metadata": {
    "execution": {
     "iopub.execute_input": "2023-08-13T00:27:39.605018Z",
     "iopub.status.busy": "2023-08-13T00:27:39.604189Z",
     "iopub.status.idle": "2023-08-13T00:27:39.612361Z",
     "shell.execute_reply": "2023-08-13T00:27:39.611426Z"
    },
    "papermill": {
     "duration": 0.117141,
     "end_time": "2023-08-13T00:27:39.614636",
     "exception": false,
     "start_time": "2023-08-13T00:27:39.497495",
     "status": "completed"
    },
    "tags": []
   },
   "outputs": [
    {
     "data": {
      "text/plain": [
       "0    11\n",
       "1    24\n",
       "2    22\n",
       "3    34\n",
       "4    20\n",
       "Name: reviewWC, dtype: int64"
      ]
     },
     "execution_count": 53,
     "metadata": {},
     "output_type": "execute_result"
    }
   ],
   "source": [
    "merged[\"reviewWC\"].head()"
   ]
  },
  {
   "cell_type": "code",
   "execution_count": 54,
   "id": "51331e17",
   "metadata": {
    "execution": {
     "iopub.execute_input": "2023-08-13T00:27:39.833784Z",
     "iopub.status.busy": "2023-08-13T00:27:39.832735Z",
     "iopub.status.idle": "2023-08-13T00:27:39.850492Z",
     "shell.execute_reply": "2023-08-13T00:27:39.849385Z"
    },
    "papermill": {
     "duration": 0.132601,
     "end_time": "2023-08-13T00:27:39.852844",
     "exception": false,
     "start_time": "2023-08-13T00:27:39.720243",
     "status": "completed"
    },
    "tags": []
   },
   "outputs": [
    {
     "data": {
      "text/plain": [
       "count    162758.000000\n",
       "mean         21.013707\n",
       "std          10.216532\n",
       "min           1.000000\n",
       "25%          14.000000\n",
       "50%          21.000000\n",
       "75%          28.000000\n",
       "max          54.000000\n",
       "Name: reviewWC, dtype: float64"
      ]
     },
     "execution_count": 54,
     "metadata": {},
     "output_type": "execute_result"
    }
   ],
   "source": [
    "merged[\"reviewWC\"].describe()"
   ]
  },
  {
   "cell_type": "code",
   "execution_count": 55,
   "id": "92e1bc07",
   "metadata": {
    "execution": {
     "iopub.execute_input": "2023-08-13T00:27:40.091072Z",
     "iopub.status.busy": "2023-08-13T00:27:40.090101Z",
     "iopub.status.idle": "2023-08-13T00:27:40.752744Z",
     "shell.execute_reply": "2023-08-13T00:27:40.750956Z"
    },
    "papermill": {
     "duration": 0.782936,
     "end_time": "2023-08-13T00:27:40.755394",
     "exception": false,
     "start_time": "2023-08-13T00:27:39.972458",
     "status": "completed"
    },
    "tags": []
   },
   "outputs": [
    {
     "data": {
      "text/plain": [
       "<Axes: xlabel='reviewWC', ylabel='Count'>"
      ]
     },
     "execution_count": 55,
     "metadata": {},
     "output_type": "execute_result"
    },
    {
     "data": {
      "image/png": "[encoded data removed]",
      "text/plain": [
       "<Figure size 640x480 with 1 Axes>"
      ]
     },
     "metadata": {},
     "output_type": "display_data"
    }
   ],
   "source": [
    "sns.histplot(merged[\"reviewWC\"])"
   ]
  },
  {
   "cell_type": "code",
   "execution_count": 56,
   "id": "34e0cd1b",
   "metadata": {
    "execution": {
     "iopub.execute_input": "2023-08-13T00:27:41.047532Z",
     "iopub.status.busy": "2023-08-13T00:27:41.046725Z",
     "iopub.status.idle": "2023-08-13T00:27:41.081277Z",
     "shell.execute_reply": "2023-08-13T00:27:41.080172Z"
    },
    "papermill": {
     "duration": 0.219469,
     "end_time": "2023-08-13T00:27:41.083706",
     "exception": false,
     "start_time": "2023-08-13T00:27:40.864237",
     "status": "completed"
    },
    "tags": []
   },
   "outputs": [
    {
     "data": {
      "text/plain": [
       "R          60248\n",
       "unknown    44587\n",
       "PG-13      42697\n",
       "PG         13669\n",
       "TV14         947\n",
       "NC-17        285\n",
       "TVPG         281\n",
       "TVMA          44\n",
       "Name: rating, dtype: int64"
      ]
     },
     "execution_count": 56,
     "metadata": {},
     "output_type": "execute_result"
    }
   ],
   "source": [
    "merged['rating'].value_counts()"
   ]
  },
  {
   "cell_type": "code",
   "execution_count": 57,
   "id": "d7bd1da3",
   "metadata": {
    "execution": {
     "iopub.execute_input": "2023-08-13T00:27:41.319508Z",
     "iopub.status.busy": "2023-08-13T00:27:41.318402Z",
     "iopub.status.idle": "2023-08-13T00:27:41.331184Z",
     "shell.execute_reply": "2023-08-13T00:27:41.329913Z"
    },
    "papermill": {
     "duration": 0.130924,
     "end_time": "2023-08-13T00:27:41.333540",
     "exception": false,
     "start_time": "2023-08-13T00:27:41.202616",
     "status": "completed"
    },
    "tags": []
   },
   "outputs": [
    {
     "data": {
      "text/plain": [
       "False    113189\n",
       "True      49569\n",
       "Name: isFrequentReviewer, dtype: int64"
      ]
     },
     "execution_count": 57,
     "metadata": {},
     "output_type": "execute_result"
    }
   ],
   "source": [
    "merged['isFrequentReviewer'].value_counts()"
   ]
  },
  {
   "cell_type": "code",
   "execution_count": 58,
   "id": "4d472f99",
   "metadata": {
    "execution": {
     "iopub.execute_input": "2023-08-13T00:27:41.563194Z",
     "iopub.status.busy": "2023-08-13T00:27:41.562221Z",
     "iopub.status.idle": "2023-08-13T00:27:41.571892Z",
     "shell.execute_reply": "2023-08-13T00:27:41.570895Z"
    },
    "papermill": {
     "duration": 0.128171,
     "end_time": "2023-08-13T00:27:41.574662",
     "exception": false,
     "start_time": "2023-08-13T00:27:41.446491",
     "status": "completed"
    },
    "tags": []
   },
   "outputs": [
    {
     "data": {
      "text/plain": [
       "0      Benjamin Henry\n",
       "1       Felicia Lopez\n",
       "2     Charles Burgess\n",
       "3        Ryan Barrett\n",
       "4    Alexander Glover\n",
       "Name: reviewerName, dtype: object"
      ]
     },
     "execution_count": 58,
     "metadata": {},
     "output_type": "execute_result"
    }
   ],
   "source": [
    "merged[\"reviewerName\"].head()"
   ]
  },
  {
   "cell_type": "code",
   "execution_count": 59,
   "id": "5a8bc951",
   "metadata": {
    "execution": {
     "iopub.execute_input": "2023-08-13T00:27:41.793619Z",
     "iopub.status.busy": "2023-08-13T00:27:41.792866Z",
     "iopub.status.idle": "2023-08-13T00:27:41.809006Z",
     "shell.execute_reply": "2023-08-13T00:27:41.807954Z"
    },
    "papermill": {
     "duration": 0.128078,
     "end_time": "2023-08-13T00:27:41.811405",
     "exception": false,
     "start_time": "2023-08-13T00:27:41.683327",
     "status": "completed"
    },
    "tags": []
   },
   "outputs": [
    {
     "data": {
      "text/plain": [
       "14300000.0    32327\n",
       "2000000.0       922\n",
       "1100000.0       891\n",
       "1000000.0       834\n",
       "1200000.0       802\n",
       "              ...  \n",
       "58500.0           1\n",
       "500800.0          1\n",
       "265600.0          1\n",
       "292500.0          1\n",
       "799400.0          1\n",
       "Name: boxOffice, Length: 3819, dtype: int64"
      ]
     },
     "execution_count": 59,
     "metadata": {},
     "output_type": "execute_result"
    }
   ],
   "source": [
    "merged['boxOffice'].value_counts()"
   ]
  },
  {
   "cell_type": "code",
   "execution_count": 60,
   "id": "18685891",
   "metadata": {
    "execution": {
     "iopub.execute_input": "2023-08-13T00:27:42.035421Z",
     "iopub.status.busy": "2023-08-13T00:27:42.034717Z",
     "iopub.status.idle": "2023-08-13T00:27:42.039595Z",
     "shell.execute_reply": "2023-08-13T00:27:42.038669Z"
    },
    "papermill": {
     "duration": 0.12055,
     "end_time": "2023-08-13T00:27:42.041653",
     "exception": false,
     "start_time": "2023-08-13T00:27:41.921103",
     "status": "completed"
    },
    "tags": []
   },
   "outputs": [],
   "source": [
    "# Check correlation between 'boxOffice' and ''sentiment'\n",
    "# bo_df = merged.copy()\n",
    "# print(bo_df[\"boxOffice\"])\n",
    "# bo_df[\"boxOffice\"] = bo_df[\"boxOffice\"].str[1:]\n",
    "# bo_df[\"boxOffice\"] = bo_df[\"boxOffice\"].replace(to_replace={\"M\": \"*1000000\", \"K\": \"*1000\"}, regex=True)\n",
    "# bo_df[\"boxOffice\"] = bo_df[\"boxOffice\"].loc[bo_df[\"boxOffice\"].notnull()].apply(lambda x: eval(str(x)))\n",
    "# bo_df[\"boxOffice\"] = bo_df[\"boxOffice\"].fillna(bo_df[\"boxOffice\"].median())\n",
    "# bo_df[\"boxOffice\"].describe()"
   ]
  },
  {
   "cell_type": "code",
   "execution_count": 61,
   "id": "92605702",
   "metadata": {
    "execution": {
     "iopub.execute_input": "2023-08-13T00:27:42.263266Z",
     "iopub.status.busy": "2023-08-13T00:27:42.262093Z",
     "iopub.status.idle": "2023-08-13T00:27:42.266953Z",
     "shell.execute_reply": "2023-08-13T00:27:42.266128Z"
    },
    "papermill": {
     "duration": 0.11724,
     "end_time": "2023-08-13T00:27:42.268978",
     "exception": false,
     "start_time": "2023-08-13T00:27:42.151738",
     "status": "completed"
    },
    "tags": []
   },
   "outputs": [],
   "source": [
    "# median = bo_df[\"boxOffice\"].describe()['50%']\n",
    "# iqr = bo_df[\"boxOffice\"].describe()['75%'] - bo_df[\"boxOffice\"].describe()['25%']\n",
    "# median, iqr"
   ]
  },
  {
   "cell_type": "code",
   "execution_count": 62,
   "id": "64f94d95",
   "metadata": {
    "execution": {
     "iopub.execute_input": "2023-08-13T00:27:42.486925Z",
     "iopub.status.busy": "2023-08-13T00:27:42.486163Z",
     "iopub.status.idle": "2023-08-13T00:27:42.490415Z",
     "shell.execute_reply": "2023-08-13T00:27:42.489589Z"
    },
    "papermill": {
     "duration": 0.114901,
     "end_time": "2023-08-13T00:27:42.492550",
     "exception": false,
     "start_time": "2023-08-13T00:27:42.377649",
     "status": "completed"
    },
    "tags": []
   },
   "outputs": [],
   "source": [
    "# ll = median - (1.5*iqr)\n",
    "# ul = median + (1.5*iqr)\n",
    "# ll, ul"
   ]
  },
  {
   "cell_type": "code",
   "execution_count": 63,
   "id": "1daf9a46",
   "metadata": {
    "execution": {
     "iopub.execute_input": "2023-08-13T00:27:42.708323Z",
     "iopub.status.busy": "2023-08-13T00:27:42.707567Z",
     "iopub.status.idle": "2023-08-13T00:27:42.712485Z",
     "shell.execute_reply": "2023-08-13T00:27:42.711353Z"
    },
    "papermill": {
     "duration": 0.115622,
     "end_time": "2023-08-13T00:27:42.714918",
     "exception": false,
     "start_time": "2023-08-13T00:27:42.599296",
     "status": "completed"
    },
    "tags": []
   },
   "outputs": [],
   "source": [
    "# bo_df[\"boxOffice\"].mean()"
   ]
  },
  {
   "cell_type": "code",
   "execution_count": 64,
   "id": "89132831",
   "metadata": {
    "execution": {
     "iopub.execute_input": "2023-08-13T00:27:42.932764Z",
     "iopub.status.busy": "2023-08-13T00:27:42.931760Z",
     "iopub.status.idle": "2023-08-13T00:27:42.936238Z",
     "shell.execute_reply": "2023-08-13T00:27:42.935385Z"
    },
    "papermill": {
     "duration": 0.116201,
     "end_time": "2023-08-13T00:27:42.938465",
     "exception": false,
     "start_time": "2023-08-13T00:27:42.822264",
     "status": "completed"
    },
    "tags": []
   },
   "outputs": [],
   "source": [
    "# bo_df.loc[bo_df[\"boxOffice\"] > ul, \"boxOffice\"] = median\n",
    "# bo_df[\"boxOffice\"].mean()"
   ]
  },
  {
   "cell_type": "code",
   "execution_count": 65,
   "id": "c2786715",
   "metadata": {
    "execution": {
     "iopub.execute_input": "2023-08-13T00:27:43.157771Z",
     "iopub.status.busy": "2023-08-13T00:27:43.156985Z",
     "iopub.status.idle": "2023-08-13T00:27:43.161665Z",
     "shell.execute_reply": "2023-08-13T00:27:43.160613Z"
    },
    "papermill": {
     "duration": 0.117753,
     "end_time": "2023-08-13T00:27:43.164362",
     "exception": false,
     "start_time": "2023-08-13T00:27:43.046609",
     "status": "completed"
    },
    "tags": []
   },
   "outputs": [],
   "source": [
    "# bo_df[\"boxOffice\"].min(), bo_df[\"boxOffice\"].max()"
   ]
  },
  {
   "cell_type": "code",
   "execution_count": 66,
   "id": "4fe6d38e",
   "metadata": {
    "execution": {
     "iopub.execute_input": "2023-08-13T00:27:43.380196Z",
     "iopub.status.busy": "2023-08-13T00:27:43.379762Z",
     "iopub.status.idle": "2023-08-13T00:27:43.384921Z",
     "shell.execute_reply": "2023-08-13T00:27:43.383643Z"
    },
    "papermill": {
     "duration": 0.11641,
     "end_time": "2023-08-13T00:27:43.387360",
     "exception": false,
     "start_time": "2023-08-13T00:27:43.270950",
     "status": "completed"
    },
    "tags": []
   },
   "outputs": [],
   "source": [
    "# sns.boxplot(x=\"sentiment\", y=\"boxOffice\", data=bo_df, showfliers = False)"
   ]
  },
  {
   "cell_type": "markdown",
   "id": "36187d49",
   "metadata": {
    "papermill": {
     "duration": 0.106407,
     "end_time": "2023-08-13T00:27:43.600647",
     "exception": false,
     "start_time": "2023-08-13T00:27:43.494240",
     "status": "completed"
    },
    "tags": []
   },
   "source": [
    "## EDA  "
   ]
  },
  {
   "cell_type": "markdown",
   "id": "b17348fc",
   "metadata": {
    "papermill": {
     "duration": 0.108089,
     "end_time": "2023-08-13T00:27:43.815753",
     "exception": false,
     "start_time": "2023-08-13T00:27:43.707664",
     "status": "completed"
    },
    "tags": []
   },
   "source": [
    "### An interesting finding through exploration  \n",
    "  \n",
    "* OHE and TfidfVectorizer on director column give the same result when ngram_range(2,2) is used (see code below)!"
   ]
  },
  {
   "cell_type": "code",
   "execution_count": 67,
   "id": "eb817971",
   "metadata": {
    "execution": {
     "iopub.execute_input": "2023-08-13T00:27:44.035875Z",
     "iopub.status.busy": "2023-08-13T00:27:44.035488Z",
     "iopub.status.idle": "2023-08-13T00:27:56.907598Z",
     "shell.execute_reply": "2023-08-13T00:27:56.906469Z"
    },
    "papermill": {
     "duration": 12.983645,
     "end_time": "2023-08-13T00:27:56.910033",
     "exception": false,
     "start_time": "2023-08-13T00:27:43.926388",
     "status": "completed"
    },
    "tags": []
   },
   "outputs": [
    {
     "name": "stdout",
     "output_type": "stream",
     "text": [
      "(162758,)\n",
      "9476\n",
      "(162758, 9476) <class 'numpy.ndarray'>\n",
      "(162758,)\n",
      "(162758, 9476) <class 'numpy.ndarray'>\n",
      "True\n"
     ]
    }
   ],
   "source": [
    "# Compare OHE and TfidfVectorizer on director column\n",
    "\n",
    "dirs = merged[\"director\"].copy()\n",
    "print(dirs.shape)\n",
    "dirs_uniq = merged[\"director\"].unique()\n",
    "print(len(dirs_uniq))\n",
    "\n",
    "du_ohe = OneHotEncoder(handle_unknown=\"ignore\", sparse_output=False).fit_transform(dirs.to_numpy().reshape(-1, 1))\n",
    "print(du_ohe.shape, type(du_ohe))\n",
    "\n",
    "dirs_2 = merged[\"director\"].copy()\n",
    "print(dirs_2.shape)\n",
    "du_tfidf = TfidfVectorizer(ngram_range=(2,2)).fit_transform(dirs_2).toarray()\n",
    "print(du_tfidf.shape, type(du_tfidf))\n",
    "\n",
    "print(np.array_equal(du_ohe, du_tfidf))"
   ]
  },
  {
   "cell_type": "code",
   "execution_count": 68,
   "id": "443cf62b",
   "metadata": {
    "execution": {
     "iopub.execute_input": "2023-08-13T00:27:57.127191Z",
     "iopub.status.busy": "2023-08-13T00:27:57.126769Z",
     "iopub.status.idle": "2023-08-13T00:27:57.481023Z",
     "shell.execute_reply": "2023-08-13T00:27:57.480150Z"
    },
    "papermill": {
     "duration": 0.465717,
     "end_time": "2023-08-13T00:27:57.483525",
     "exception": false,
     "start_time": "2023-08-13T00:27:57.017808",
     "status": "completed"
    },
    "tags": []
   },
   "outputs": [
    {
     "name": "stdout",
     "output_type": "stream",
     "text": [
      "0       Bennie Basso\n",
      "1         Alma White\n",
      "2       Bobby Oleary\n",
      "3    Eric Hutcherson\n",
      "4         John Trent\n",
      "Name: director, dtype: object\n"
     ]
    },
    {
     "data": {
      "text/plain": [
       "2    162758\n",
       "Name: director, dtype: int64"
      ]
     },
     "execution_count": 68,
     "metadata": {},
     "output_type": "execute_result"
    }
   ],
   "source": [
    "print(dirs.head())\n",
    "d = dirs.copy()\n",
    "d[\"name_len\"] = d.apply(lambda x: len(x.split()))\n",
    "d[\"name_len\"].value_counts()"
   ]
  },
  {
   "cell_type": "code",
   "execution_count": 69,
   "id": "59dacec1",
   "metadata": {
    "execution": {
     "iopub.execute_input": "2023-08-13T00:27:57.704915Z",
     "iopub.status.busy": "2023-08-13T00:27:57.704452Z",
     "iopub.status.idle": "2023-08-13T00:27:57.710644Z",
     "shell.execute_reply": "2023-08-13T00:27:57.709510Z"
    },
    "papermill": {
     "duration": 0.119121,
     "end_time": "2023-08-13T00:27:57.712956",
     "exception": false,
     "start_time": "2023-08-13T00:27:57.593835",
     "status": "completed"
    },
    "tags": []
   },
   "outputs": [],
   "source": [
    "# Compare OHE and TfidfVectorizer on reviewerName column\n",
    "# Note: reviewerName column has salutations like \"Mr. \" etc, and some names appear middle names. Therefore needs cleaning\n",
    "\n",
    "# def name_fl(name):\n",
    "#     l = name.split()\n",
    "#     n = ' '.join((l[0], l[-1]))\n",
    "#     return n\n",
    "\n",
    "# reviewers = merged[\"reviewerName\"].copy()\n",
    "# reviewers = pd.DataFrame(reviewers)\n",
    "# reviewers = reviewers.replace({\"Mr. \": \"\", \"Mrs. \": \"\"}, regex=True)\n",
    "# reviewers[\"reviewerName\"] = reviewers[\"reviewerName\"].apply(name_fl)\n",
    "# print(reviewers.shape)\n",
    "\n",
    "# reviewers_uniq = merged[\"reviewerName\"].unique()\n",
    "# print(len(reviewers_uniq))\n",
    "\n",
    "# reviewers_ohe = OneHotEncoder(handle_unknown=\"ignore\", sparse_output=False).fit_transform(reviewers.to_numpy().reshape(-1, 1))\n",
    "# print(reviewers_ohe.shape, type(reviewers_ohe))\n",
    "\n",
    "# reviewers_2 = merged[\"reviewerName\"].copy()\n",
    "# reviewers_2 = pd.DataFrame(reviewers_2)\n",
    "# print(reviewers_2.head())\n",
    "# reviewers_2 = reviewers_2.replace({\"Mr. \": \"\", \"Mrs. \": \"\"}, regex=True)\n",
    "# reviewers_2[\"reviewerName\"] = reviewers_2[\"reviewerName\"].apply(name_fl)\n",
    "# reviewers_2 = reviewers_2.squeeze()\n",
    "# print(reviewers_2.shape)\n",
    "# print(reviewers_2.head())\n",
    "\n",
    "# reviewers_tfidf = TfidfVectorizer(ngram_range=(2,2)).fit_transform(reviewers_2).toarray()\n",
    "# print(reviewers_tfidf.shape, type(reviewers_tfidf))\n",
    "\n",
    "# print(np.array_equal(reviewers_ohe, reviewers_tfidf))"
   ]
  },
  {
   "cell_type": "code",
   "execution_count": 70,
   "id": "64cc678b",
   "metadata": {
    "execution": {
     "iopub.execute_input": "2023-08-13T00:27:57.933010Z",
     "iopub.status.busy": "2023-08-13T00:27:57.932326Z",
     "iopub.status.idle": "2023-08-13T00:27:57.936462Z",
     "shell.execute_reply": "2023-08-13T00:27:57.935433Z"
    },
    "papermill": {
     "duration": 0.116582,
     "end_time": "2023-08-13T00:27:57.938812",
     "exception": false,
     "start_time": "2023-08-13T00:27:57.822230",
     "status": "completed"
    },
    "tags": []
   },
   "outputs": [],
   "source": [
    "# def name_fl(name):\n",
    "#     l = name.split()\n",
    "#     n = ' '.join((l[0], l[-1]))\n",
    "#     return n"
   ]
  },
  {
   "cell_type": "code",
   "execution_count": 71,
   "id": "8bb77984",
   "metadata": {
    "execution": {
     "iopub.execute_input": "2023-08-13T00:27:58.159295Z",
     "iopub.status.busy": "2023-08-13T00:27:58.158830Z",
     "iopub.status.idle": "2023-08-13T00:27:58.164620Z",
     "shell.execute_reply": "2023-08-13T00:27:58.163293Z"
    },
    "papermill": {
     "duration": 0.120161,
     "end_time": "2023-08-13T00:27:58.168478",
     "exception": false,
     "start_time": "2023-08-13T00:27:58.048317",
     "status": "completed"
    },
    "tags": []
   },
   "outputs": [],
   "source": [
    "# print(reviewers.head())\n",
    "# r = pd.DataFrame(reviewers.copy())\n",
    "# r[\"reviewerName\"] = r[\"reviewerName\"].apply(name_fl)\n",
    "# r[\"name_len\"] = r[\"reviewerName\"].apply(lambda x: len(x.split()))\n",
    "# print(r.shape)\n",
    "# print(r.head())\n",
    "# print(r['name_len'].value_counts())"
   ]
  },
  {
   "cell_type": "code",
   "execution_count": 72,
   "id": "c8717c0e",
   "metadata": {
    "execution": {
     "iopub.execute_input": "2023-08-13T00:27:58.390404Z",
     "iopub.status.busy": "2023-08-13T00:27:58.389639Z",
     "iopub.status.idle": "2023-08-13T00:27:58.393966Z",
     "shell.execute_reply": "2023-08-13T00:27:58.393147Z"
    },
    "papermill": {
     "duration": 0.117049,
     "end_time": "2023-08-13T00:27:58.396292",
     "exception": false,
     "start_time": "2023-08-13T00:27:58.279243",
     "status": "completed"
    },
    "tags": []
   },
   "outputs": [],
   "source": [
    "## Box plot audienceScore and sentiment  \n",
    "# plt.figure(figsize=(6, 4))\n",
    "# sns.boxplot(x=\"sentiment\", y=\"audienceScore\", data=merged, width=0.3)\n",
    "# plt.title(\"Box plot audienceScore and sentiment\")\n",
    "# plt.show()"
   ]
  },
  {
   "cell_type": "code",
   "execution_count": 73,
   "id": "950de888",
   "metadata": {
    "execution": {
     "iopub.execute_input": "2023-08-13T00:27:58.615860Z",
     "iopub.status.busy": "2023-08-13T00:27:58.615123Z",
     "iopub.status.idle": "2023-08-13T00:27:58.619403Z",
     "shell.execute_reply": "2023-08-13T00:27:58.618388Z"
    },
    "papermill": {
     "duration": 0.116729,
     "end_time": "2023-08-13T00:27:58.621599",
     "exception": false,
     "start_time": "2023-08-13T00:27:58.504870",
     "status": "completed"
    },
    "tags": []
   },
   "outputs": [],
   "source": [
    "## Box plot runtimeMinutes and sentiment  \n",
    "# plt.figure(figsize=(6, 4))\n",
    "# sns.boxplot(x=\"sentiment\", y=\"runtimeMinutes\", data=merged, width=0.3)\n",
    "# plt.title(\"Box plot runtimeMinutes and sentiment\")\n",
    "# plt.show()"
   ]
  },
  {
   "cell_type": "code",
   "execution_count": 74,
   "id": "337371fe",
   "metadata": {
    "execution": {
     "iopub.execute_input": "2023-08-13T00:27:58.843120Z",
     "iopub.status.busy": "2023-08-13T00:27:58.842332Z",
     "iopub.status.idle": "2023-08-13T00:27:58.846750Z",
     "shell.execute_reply": "2023-08-13T00:27:58.845628Z"
    },
    "papermill": {
     "duration": 0.118062,
     "end_time": "2023-08-13T00:27:58.848995",
     "exception": false,
     "start_time": "2023-08-13T00:27:58.730933",
     "status": "completed"
    },
    "tags": []
   },
   "outputs": [],
   "source": [
    "## Column chart for sentiment and rating columns\n",
    "# plt.figure(figsize=(6, 4))\n",
    "# sns.countplot(x=\"sentiment\", hue=\"rating\", data=merged)\n",
    "# plt.title(\"Column chart for sentiment and rating columns\")\n",
    "# plt.show()"
   ]
  },
  {
   "cell_type": "code",
   "execution_count": 75,
   "id": "59e53b05",
   "metadata": {
    "execution": {
     "iopub.execute_input": "2023-08-13T00:27:59.067180Z",
     "iopub.status.busy": "2023-08-13T00:27:59.066711Z",
     "iopub.status.idle": "2023-08-13T00:27:59.071776Z",
     "shell.execute_reply": "2023-08-13T00:27:59.070621Z"
    },
    "papermill": {
     "duration": 0.116863,
     "end_time": "2023-08-13T00:27:59.074153",
     "exception": false,
     "start_time": "2023-08-13T00:27:58.957290",
     "status": "completed"
    },
    "tags": []
   },
   "outputs": [],
   "source": [
    "# Correlation heatmap  \n",
    "# plt.figure(figsize=(10, 8))\n",
    "# sns.heatmap(merged.corr(), annot=True, cmap=\"coolwarm\")\n",
    "# plt.title(\"Correlation heatmap\")\n",
    "# plt.show()"
   ]
  },
  {
   "cell_type": "markdown",
   "id": "2986e7e9",
   "metadata": {
    "papermill": {
     "duration": 0.109138,
     "end_time": "2023-08-13T00:27:59.293594",
     "exception": false,
     "start_time": "2023-08-13T00:27:59.184456",
     "status": "completed"
    },
    "tags": []
   },
   "source": [
    "## Merge and preprocess \"test.csv\" and \"movies.csv\" files  "
   ]
  },
  {
   "cell_type": "code",
   "execution_count": 76,
   "id": "024b0907",
   "metadata": {
    "execution": {
     "iopub.execute_input": "2023-08-13T00:27:59.512903Z",
     "iopub.status.busy": "2023-08-13T00:27:59.512466Z",
     "iopub.status.idle": "2023-08-13T00:28:05.569332Z",
     "shell.execute_reply": "2023-08-13T00:28:05.568020Z"
    },
    "papermill": {
     "duration": 6.169799,
     "end_time": "2023-08-13T00:28:05.572334",
     "exception": false,
     "start_time": "2023-08-13T00:27:59.402535",
     "status": "completed"
    },
    "tags": []
   },
   "outputs": [],
   "source": [
    "# Merge test and movies  \n",
    "merged_test = select_features(load_csv(\"test\"), load_csv(\"movies\"))"
   ]
  },
  {
   "cell_type": "code",
   "execution_count": 77,
   "id": "32ec50a4",
   "metadata": {
    "execution": {
     "iopub.execute_input": "2023-08-13T00:28:05.792553Z",
     "iopub.status.busy": "2023-08-13T00:28:05.791856Z",
     "iopub.status.idle": "2023-08-13T00:28:05.796810Z",
     "shell.execute_reply": "2023-08-13T00:28:05.795518Z"
    },
    "papermill": {
     "duration": 0.117847,
     "end_time": "2023-08-13T00:28:05.799318",
     "exception": false,
     "start_time": "2023-08-13T00:28:05.681471",
     "status": "completed"
    },
    "tags": []
   },
   "outputs": [],
   "source": [
    "# inspect(merged_test)      # Note the missing values in ['audienceScore', 'runtimeMinutes', 'boxOffice']"
   ]
  },
  {
   "cell_type": "code",
   "execution_count": 78,
   "id": "3cdf1087",
   "metadata": {
    "execution": {
     "iopub.execute_input": "2023-08-13T00:28:06.018760Z",
     "iopub.status.busy": "2023-08-13T00:28:06.018366Z",
     "iopub.status.idle": "2023-08-13T00:28:06.036330Z",
     "shell.execute_reply": "2023-08-13T00:28:06.035163Z"
    },
    "papermill": {
     "duration": 0.131635,
     "end_time": "2023-08-13T00:28:06.038653",
     "exception": false,
     "start_time": "2023-08-13T00:28:05.907018",
     "status": "completed"
    },
    "tags": []
   },
   "outputs": [
    {
     "data": {
      "text/plain": [
       "array([6.80e+01, 1.04e+02, 1.43e+07])"
      ]
     },
     "execution_count": 78,
     "metadata": {},
     "output_type": "execute_result"
    }
   ],
   "source": [
    "# Transform ['audienceScore', 'runtimeMinutes', 'boxOffice'] columns in merged_test using 'si' fitted on 'merged' df  \n",
    "merged_test[['audienceScore', 'runtimeMinutes', 'boxOffice']] = si.transform(merged_test[['audienceScore', 'runtimeMinutes', 'boxOffice']])\n",
    "si.statistics_"
   ]
  },
  {
   "cell_type": "code",
   "execution_count": 79,
   "id": "a556acfd",
   "metadata": {
    "execution": {
     "iopub.execute_input": "2023-08-13T00:28:06.259684Z",
     "iopub.status.busy": "2023-08-13T00:28:06.259233Z",
     "iopub.status.idle": "2023-08-13T00:28:06.270565Z",
     "shell.execute_reply": "2023-08-13T00:28:06.269288Z"
    },
    "papermill": {
     "duration": 0.12506,
     "end_time": "2023-08-13T00:28:06.272963",
     "exception": false,
     "start_time": "2023-08-13T00:28:06.147903",
     "status": "completed"
    },
    "tags": []
   },
   "outputs": [],
   "source": [
    "# Fill 'releaseDate' column in 'merged_test' df with median from the train (merged) df  \n",
    "merged_test['releaseDate'] = merged_test[\"releaseDate\"].fillna(merged[\"releaseDate\"].median())"
   ]
  },
  {
   "cell_type": "code",
   "execution_count": 80,
   "id": "04815a29",
   "metadata": {
    "execution": {
     "iopub.execute_input": "2023-08-13T00:28:06.491359Z",
     "iopub.status.busy": "2023-08-13T00:28:06.490933Z",
     "iopub.status.idle": "2023-08-13T00:28:06.985111Z",
     "shell.execute_reply": "2023-08-13T00:28:06.983721Z"
    },
    "papermill": {
     "duration": 0.606917,
     "end_time": "2023-08-13T00:28:06.987807",
     "exception": false,
     "start_time": "2023-08-13T00:28:06.380890",
     "status": "completed"
    },
    "tags": []
   },
   "outputs": [
    {
     "name": "stdout",
     "output_type": "stream",
     "text": [
      "Shape of the dataframe: (55315, 25)\n",
      "\n",
      "Columns in the dataframe:\n",
      "Index(['movieid', 'reviewerName', 'isFrequentReviewer', 'reviewText', 'title',\n",
      "       'audienceScore', 'rating', 'ratingContents', 'releaseDateTheaters',\n",
      "       'releaseDateStreaming', 'runtimeMinutes', 'genre', 'originalLanguage',\n",
      "       'director', 'boxOffice', 'distributor', 'soundType', 'reviewYN',\n",
      "       'reviewWC', 'genreSorted', 'rcSorted', 'releaseDate', 'releaseYear',\n",
      "       'releaseMonth', 'releaseDiff'],\n",
      "      dtype='object')\n",
      "\n",
      "<class 'pandas.core.frame.DataFrame'>\n",
      "Int64Index: 55315 entries, 0 to 55314\n",
      "Data columns (total 25 columns):\n",
      " #   Column                Non-Null Count  Dtype         \n",
      "---  ------                --------------  -----         \n",
      " 0   movieid               55315 non-null  object        \n",
      " 1   reviewerName          55315 non-null  object        \n",
      " 2   isFrequentReviewer    55315 non-null  bool          \n",
      " 3   reviewText            55315 non-null  object        \n",
      " 4   title                 55315 non-null  object        \n",
      " 5   audienceScore         55315 non-null  float64       \n",
      " 6   rating                55315 non-null  object        \n",
      " 7   ratingContents        55315 non-null  object        \n",
      " 8   releaseDateTheaters   47844 non-null  datetime64[ns]\n",
      " 9   releaseDateStreaming  52929 non-null  datetime64[ns]\n",
      " 10  runtimeMinutes        55315 non-null  float64       \n",
      " 11  genre                 55315 non-null  object        \n",
      " 12  originalLanguage      55315 non-null  object        \n",
      " 13  director              55315 non-null  object        \n",
      " 14  boxOffice             55315 non-null  float64       \n",
      " 15  distributor           55315 non-null  object        \n",
      " 16  soundType             29845 non-null  object        \n",
      " 17  reviewYN              55315 non-null  int64         \n",
      " 18  reviewWC              55315 non-null  int64         \n",
      " 19  genreSorted           55315 non-null  object        \n",
      " 20  rcSorted              55315 non-null  object        \n",
      " 21  releaseDate           55315 non-null  datetime64[ns]\n",
      " 22  releaseYear           46626 non-null  float64       \n",
      " 23  releaseMonth          46626 non-null  float64       \n",
      " 24  releaseDiff           55315 non-null  float64       \n",
      "dtypes: bool(1), datetime64[ns](3), float64(6), int64(2), object(13)\n",
      "memory usage: 10.6+ MB\n",
      "None\n",
      "\n",
      "Missing values:\n",
      "movieid                     0\n",
      "reviewerName                0\n",
      "isFrequentReviewer          0\n",
      "reviewText                  0\n",
      "title                       0\n",
      "audienceScore               0\n",
      "rating                      0\n",
      "ratingContents              0\n",
      "releaseDateTheaters      7471\n",
      "releaseDateStreaming     2386\n",
      "runtimeMinutes              0\n",
      "genre                       0\n",
      "originalLanguage            0\n",
      "director                    0\n",
      "boxOffice                   0\n",
      "distributor                 0\n",
      "soundType               25470\n",
      "reviewYN                    0\n",
      "reviewWC                    0\n",
      "genreSorted                 0\n",
      "rcSorted                    0\n",
      "releaseDate                 0\n",
      "releaseYear              8689\n",
      "releaseMonth             8689\n",
      "releaseDiff                 0\n",
      "dtype: int64\n"
     ]
    }
   ],
   "source": [
    "# After transforming merged_test  \n",
    "inspect(merged_test)"
   ]
  },
  {
   "cell_type": "code",
   "execution_count": 81,
   "id": "49ff8003",
   "metadata": {
    "execution": {
     "iopub.execute_input": "2023-08-13T00:28:07.209124Z",
     "iopub.status.busy": "2023-08-13T00:28:07.208514Z",
     "iopub.status.idle": "2023-08-13T00:28:07.215896Z",
     "shell.execute_reply": "2023-08-13T00:28:07.215045Z"
    },
    "papermill": {
     "duration": 0.11998,
     "end_time": "2023-08-13T00:28:07.218425",
     "exception": false,
     "start_time": "2023-08-13T00:28:07.098445",
     "status": "completed"
    },
    "tags": []
   },
   "outputs": [
    {
     "name": "stdout",
     "output_type": "stream",
     "text": [
      "2510\n",
      "4.537648015908886\n"
     ]
    }
   ],
   "source": [
    "print(merged_test[\"reviewYN\"].sum())\n",
    "print(merged_test[\"reviewYN\"].sum() * 100 / merged_test.shape[0])"
   ]
  },
  {
   "cell_type": "code",
   "execution_count": 82,
   "id": "ebfa5bb9",
   "metadata": {
    "execution": {
     "iopub.execute_input": "2023-08-13T00:28:07.440045Z",
     "iopub.status.busy": "2023-08-13T00:28:07.439597Z",
     "iopub.status.idle": "2023-08-13T00:28:07.456182Z",
     "shell.execute_reply": "2023-08-13T00:28:07.455327Z"
    },
    "papermill": {
     "duration": 0.132235,
     "end_time": "2023-08-13T00:28:07.458286",
     "exception": false,
     "start_time": "2023-08-13T00:28:07.326051",
     "status": "completed"
    },
    "tags": []
   },
   "outputs": [
    {
     "data": {
      "text/plain": [
       "R          18934\n",
       "unknown    18386\n",
       "PG-13      13220\n",
       "PG          4200\n",
       "TV14         333\n",
       "TVPG         109\n",
       "NC-17        108\n",
       "TVMA          25\n",
       "Name: rating, dtype: int64"
      ]
     },
     "execution_count": 82,
     "metadata": {},
     "output_type": "execute_result"
    }
   ],
   "source": [
    "merged_test['rating'].value_counts()"
   ]
  },
  {
   "cell_type": "code",
   "execution_count": 83,
   "id": "c6c1c3a8",
   "metadata": {
    "execution": {
     "iopub.execute_input": "2023-08-13T00:28:07.678316Z",
     "iopub.status.busy": "2023-08-13T00:28:07.677843Z",
     "iopub.status.idle": "2023-08-13T00:28:07.687922Z",
     "shell.execute_reply": "2023-08-13T00:28:07.686649Z"
    },
    "papermill": {
     "duration": 0.122845,
     "end_time": "2023-08-13T00:28:07.690401",
     "exception": false,
     "start_time": "2023-08-13T00:28:07.567556",
     "status": "completed"
    },
    "tags": []
   },
   "outputs": [
    {
     "data": {
      "text/plain": [
       "False    38428\n",
       "True     16887\n",
       "Name: isFrequentReviewer, dtype: int64"
      ]
     },
     "execution_count": 83,
     "metadata": {},
     "output_type": "execute_result"
    }
   ],
   "source": [
    "merged_test['isFrequentReviewer'].value_counts()"
   ]
  },
  {
   "cell_type": "code",
   "execution_count": 84,
   "id": "de4c8019",
   "metadata": {
    "execution": {
     "iopub.execute_input": "2023-08-13T00:28:07.909409Z",
     "iopub.status.busy": "2023-08-13T00:28:07.908972Z",
     "iopub.status.idle": "2023-08-13T00:28:07.920533Z",
     "shell.execute_reply": "2023-08-13T00:28:07.919469Z"
    },
    "papermill": {
     "duration": 0.123246,
     "end_time": "2023-08-13T00:28:07.922987",
     "exception": false,
     "start_time": "2023-08-13T00:28:07.799741",
     "status": "completed"
    },
    "tags": []
   },
   "outputs": [
    {
     "data": {
      "text/plain": [
       "14300000.0    13593\n",
       "1100000.0       311\n",
       "1000000.0       272\n",
       "1300000.0       263\n",
       "2000000.0       256\n",
       "              ...  \n",
       "200400.0          1\n",
       "23800000.0        1\n",
       "111200.0          1\n",
       "277800.0          1\n",
       "100600.0          1\n",
       "Name: boxOffice, Length: 3816, dtype: int64"
      ]
     },
     "execution_count": 84,
     "metadata": {},
     "output_type": "execute_result"
    }
   ],
   "source": [
    "merged_test['boxOffice'].value_counts()"
   ]
  },
  {
   "cell_type": "markdown",
   "id": "f9bac40c",
   "metadata": {
    "papermill": {
     "duration": 0.110965,
     "end_time": "2023-08-13T00:28:08.142336",
     "exception": false,
     "start_time": "2023-08-13T00:28:08.031371",
     "status": "completed"
    },
    "tags": []
   },
   "source": [
    "## Work on vocabulary  \n",
    "\n",
    "`Build vocabulary from 'reviewText' column`  "
   ]
  },
  {
   "cell_type": "code",
   "execution_count": 85,
   "id": "8a9effd3",
   "metadata": {
    "execution": {
     "iopub.execute_input": "2023-08-13T00:28:08.365807Z",
     "iopub.status.busy": "2023-08-13T00:28:08.365359Z",
     "iopub.status.idle": "2023-08-13T00:28:08.387651Z",
     "shell.execute_reply": "2023-08-13T00:28:08.386070Z"
    },
    "papermill": {
     "duration": 0.136099,
     "end_time": "2023-08-13T00:28:08.390236",
     "exception": false,
     "start_time": "2023-08-13T00:28:08.254137",
     "status": "completed"
    },
    "tags": []
   },
   "outputs": [
    {
     "data": {
      "text/plain": [
       "((162758, 2),\n",
       "                                           reviewText sentiment\n",
       " 0  Henry Selick’s first movie since ’s Coraline. ...  POSITIVE\n",
       " 1  With a cast that reads like the Vogue Oscar pa...  NEGATIVE\n",
       " 2  Creed II does not give us anything but another...  POSITIVE\n",
       " 3  I know what you're thinking, but this is no Li...  POSITIVE\n",
       " 4  Director Fernando Meirelles tells the story wi...  POSITIVE)"
      ]
     },
     "execution_count": 85,
     "metadata": {},
     "output_type": "execute_result"
    }
   ],
   "source": [
    "rt_senti = merged[[\"reviewText\", \"sentiment\"]].copy()\n",
    "rt_senti.shape, rt_senti.head()"
   ]
  },
  {
   "cell_type": "code",
   "execution_count": 86,
   "id": "8d35aacf",
   "metadata": {
    "execution": {
     "iopub.execute_input": "2023-08-13T00:28:08.614940Z",
     "iopub.status.busy": "2023-08-13T00:28:08.614522Z",
     "iopub.status.idle": "2023-08-13T00:28:08.627860Z",
     "shell.execute_reply": "2023-08-13T00:28:08.626651Z"
    },
    "papermill": {
     "duration": 0.128008,
     "end_time": "2023-08-13T00:28:08.630196",
     "exception": false,
     "start_time": "2023-08-13T00:28:08.502188",
     "status": "completed"
    },
    "tags": []
   },
   "outputs": [
    {
     "data": {
      "text/plain": [
       "((55315, 1),\n",
       "                                           reviewText\n",
       " 0  Green slowly cranks up the dread with style an...\n",
       " 1  Philip Noyce's direction is elegant and unforc...\n",
       " 2  It wouldn't do to say what path Maria ultimate...\n",
       " 3  Pig is not exactly the arthouse John Wick that...\n",
       " 4  An imaginative no-budget musical of sorts abou...)"
      ]
     },
     "execution_count": 86,
     "metadata": {},
     "output_type": "execute_result"
    }
   ],
   "source": [
    "rt_test = pd.DataFrame(merged_test[\"reviewText\"].copy())\n",
    "rt_test.shape, rt_test.head()"
   ]
  },
  {
   "cell_type": "code",
   "execution_count": 87,
   "id": "5360d150",
   "metadata": {
    "execution": {
     "iopub.execute_input": "2023-08-13T00:28:08.854898Z",
     "iopub.status.busy": "2023-08-13T00:28:08.854295Z",
     "iopub.status.idle": "2023-08-13T00:28:08.860892Z",
     "shell.execute_reply": "2023-08-13T00:28:08.859908Z"
    },
    "papermill": {
     "duration": 0.120794,
     "end_time": "2023-08-13T00:28:08.863411",
     "exception": false,
     "start_time": "2023-08-13T00:28:08.742617",
     "status": "completed"
    },
    "tags": []
   },
   "outputs": [],
   "source": [
    "def get_vocab(text_df, ngram_range=(1,1)):\n",
    "    print(f\"Generating vocabulary for ngram_range: {ngram_range}...\")\n",
    "    tvec1 = CountVectorizer(ngram_range=ngram_range, stop_words='english', strip_accents='unicode')\n",
    "    tvec1.fit(text_df)\n",
    "    voc_ngram = set(tvec1.vocabulary_.keys())\n",
    "    return voc_ngram"
   ]
  },
  {
   "cell_type": "code",
   "execution_count": 88,
   "id": "66939004",
   "metadata": {
    "execution": {
     "iopub.execute_input": "2023-08-13T00:28:09.088775Z",
     "iopub.status.busy": "2023-08-13T00:28:09.088129Z",
     "iopub.status.idle": "2023-08-13T00:28:09.098236Z",
     "shell.execute_reply": "2023-08-13T00:28:09.097257Z"
    },
    "papermill": {
     "duration": 0.126372,
     "end_time": "2023-08-13T00:28:09.101213",
     "exception": false,
     "start_time": "2023-08-13T00:28:08.974841",
     "status": "completed"
    },
    "tags": []
   },
   "outputs": [],
   "source": [
    "def get_common_vocab(df_list: list, ngram_range_list: list):\n",
    "    \"\"\"\n",
    "    Get common vocabulary from a list of dataframes.\n",
    "    \"\"\"\n",
    "    final_common_vocab = set()\n",
    "    # Get vocabulary from each dataframe for a given ngram-range\n",
    "    for ngram_range in ngram_range_list:\n",
    "        vocab_ngram = set()\n",
    "        for num, df in enumerate(df_list, start=1):\n",
    "            print(f\"Working on DF#{num} in the list of DFs provided\")\n",
    "            vocab_ngram_df = set(get_vocab(df['reviewText'], ngram_range))\n",
    "            print(f\"Vocabulary size for ngram-range {ngram_range} in DF#{num}: {len(vocab_ngram_df)}\\n\")\n",
    "            if len(vocab_ngram) > 0:\n",
    "                print(f\"Keeping only the common (intersection) words for ngram-range {ngram_range}...\")\n",
    "                vocab_ngram = vocab_ngram.intersection(vocab_ngram_df)\n",
    "            else:\n",
    "                print(f\"Words from the first df for ngram-range {ngram_range} added.\\n\")\n",
    "                vocab_ngram = vocab_ngram_df\n",
    "        print(f\"Common vocabulary for ngram-range {ngram_range}: {len(vocab_ngram)}\\n\")\n",
    "        \n",
    "        if len(final_common_vocab) > 0:\n",
    "            print(f\"Fusing (union) with final common vocabulary: ngram-range = {ngram_range}.\\n\")\n",
    "            final_common_vocab = final_common_vocab.union(vocab_ngram)\n",
    "        else:\n",
    "            print(f\"Appended first time to final common vocabulary: ngram-range = {ngram_range}.\\n\")\n",
    "            final_common_vocab = vocab_ngram\n",
    "    return final_common_vocab"
   ]
  },
  {
   "cell_type": "code",
   "execution_count": 89,
   "id": "3b2b4df3",
   "metadata": {
    "execution": {
     "iopub.execute_input": "2023-08-13T00:28:09.324473Z",
     "iopub.status.busy": "2023-08-13T00:28:09.323619Z",
     "iopub.status.idle": "2023-08-13T00:28:09.328546Z",
     "shell.execute_reply": "2023-08-13T00:28:09.327690Z"
    },
    "papermill": {
     "duration": 0.120507,
     "end_time": "2023-08-13T00:28:09.331002",
     "exception": false,
     "start_time": "2023-08-13T00:28:09.210495",
     "status": "completed"
    },
    "tags": []
   },
   "outputs": [],
   "source": [
    "# voc_1gram = get_vocab(rt_senti[\"reviewText\"], ngram_range=(1,1))\n",
    "# len(voc_1gram), voc_1gram[:10]"
   ]
  },
  {
   "cell_type": "code",
   "execution_count": 90,
   "id": "2dc4bc32",
   "metadata": {
    "execution": {
     "iopub.execute_input": "2023-08-13T00:28:09.552219Z",
     "iopub.status.busy": "2023-08-13T00:28:09.551810Z",
     "iopub.status.idle": "2023-08-13T00:28:09.555957Z",
     "shell.execute_reply": "2023-08-13T00:28:09.555111Z"
    },
    "papermill": {
     "duration": 0.116991,
     "end_time": "2023-08-13T00:28:09.558063",
     "exception": false,
     "start_time": "2023-08-13T00:28:09.441072",
     "status": "completed"
    },
    "tags": []
   },
   "outputs": [],
   "source": [
    "# voc_2gram = get_vocab(rt_senti[\"reviewText\"], ngram_range=(2,2))\n",
    "# len(voc_2gram), voc_2gram[:10]"
   ]
  },
  {
   "cell_type": "code",
   "execution_count": 91,
   "id": "8c721db1",
   "metadata": {
    "execution": {
     "iopub.execute_input": "2023-08-13T00:28:09.780716Z",
     "iopub.status.busy": "2023-08-13T00:28:09.779968Z",
     "iopub.status.idle": "2023-08-13T00:28:09.784603Z",
     "shell.execute_reply": "2023-08-13T00:28:09.783508Z"
    },
    "papermill": {
     "duration": 0.11995,
     "end_time": "2023-08-13T00:28:09.787425",
     "exception": false,
     "start_time": "2023-08-13T00:28:09.667475",
     "status": "completed"
    },
    "tags": []
   },
   "outputs": [],
   "source": [
    "# voc_3gram = get_vocab(rt_senti[\"reviewText\"], ngram_range=(3,3))\n",
    "# len(voc_3gram), voc_3gram[:10]"
   ]
  },
  {
   "cell_type": "code",
   "execution_count": 92,
   "id": "3d3a3485",
   "metadata": {
    "execution": {
     "iopub.execute_input": "2023-08-13T00:28:10.032638Z",
     "iopub.status.busy": "2023-08-13T00:28:10.032217Z",
     "iopub.status.idle": "2023-08-13T00:28:10.037601Z",
     "shell.execute_reply": "2023-08-13T00:28:10.036411Z"
    },
    "papermill": {
     "duration": 0.13799,
     "end_time": "2023-08-13T00:28:10.040001",
     "exception": false,
     "start_time": "2023-08-13T00:28:09.902011",
     "status": "completed"
    },
    "tags": []
   },
   "outputs": [],
   "source": [
    "# common_unigrams = get_common_vocab([rt_senti, rt_test], ngram_range_list=[(1,1)])\n",
    "# print(len(common_unigrams))\n",
    "# # sorted(list(common_unigrams))"
   ]
  },
  {
   "cell_type": "code",
   "execution_count": 93,
   "id": "a443afba",
   "metadata": {
    "execution": {
     "iopub.execute_input": "2023-08-13T00:28:10.332554Z",
     "iopub.status.busy": "2023-08-13T00:28:10.332103Z",
     "iopub.status.idle": "2023-08-13T00:28:10.338409Z",
     "shell.execute_reply": "2023-08-13T00:28:10.336756Z"
    },
    "papermill": {
     "duration": 0.189761,
     "end_time": "2023-08-13T00:28:10.341057",
     "exception": false,
     "start_time": "2023-08-13T00:28:10.151296",
     "status": "completed"
    },
    "tags": []
   },
   "outputs": [],
   "source": [
    "# common_bigrams = get_common_vocab([rt_senti, rt_test], ngram_range_list=[(2,2)])\n",
    "# print(len(common_bigrams))\n",
    "# # # common_bigrams"
   ]
  },
  {
   "cell_type": "code",
   "execution_count": 94,
   "id": "5d50a22c",
   "metadata": {
    "execution": {
     "iopub.execute_input": "2023-08-13T00:28:10.567540Z",
     "iopub.status.busy": "2023-08-13T00:28:10.567150Z",
     "iopub.status.idle": "2023-08-13T00:28:10.571759Z",
     "shell.execute_reply": "2023-08-13T00:28:10.570619Z"
    },
    "papermill": {
     "duration": 0.121873,
     "end_time": "2023-08-13T00:28:10.574231",
     "exception": false,
     "start_time": "2023-08-13T00:28:10.452358",
     "status": "completed"
    },
    "tags": []
   },
   "outputs": [],
   "source": [
    "# common_1_2_grams = get_common_vocab([rt_senti, rt_test], ngram_range_list=[(1,1), (2,2)])\n",
    "# print(len(common_1_2_grams))\n",
    "# # sorted(list(common_1_2_grams))\n",
    "\n",
    "# # common_1_2_grams = common_unigrams | common_bigrams    # older code"
   ]
  },
  {
   "cell_type": "code",
   "execution_count": 95,
   "id": "040a4323",
   "metadata": {
    "execution": {
     "iopub.execute_input": "2023-08-13T00:28:10.801620Z",
     "iopub.status.busy": "2023-08-13T00:28:10.800711Z",
     "iopub.status.idle": "2023-08-13T00:28:10.805798Z",
     "shell.execute_reply": "2023-08-13T00:28:10.804655Z"
    },
    "papermill": {
     "duration": 0.122549,
     "end_time": "2023-08-13T00:28:10.808495",
     "exception": false,
     "start_time": "2023-08-13T00:28:10.685946",
     "status": "completed"
    },
    "tags": []
   },
   "outputs": [],
   "source": [
    "# common_trigrams = get_common_vocab([rt_senti, rt_test], ngram_range_list=[(3,3)])\n",
    "# print(len(common_trigrams))\n",
    "# # common_trigrams"
   ]
  },
  {
   "cell_type": "code",
   "execution_count": 96,
   "id": "7f57f9f5",
   "metadata": {
    "execution": {
     "iopub.execute_input": "2023-08-13T00:28:11.028898Z",
     "iopub.status.busy": "2023-08-13T00:28:11.028456Z",
     "iopub.status.idle": "2023-08-13T00:28:11.032756Z",
     "shell.execute_reply": "2023-08-13T00:28:11.031815Z"
    },
    "papermill": {
     "duration": 0.11773,
     "end_time": "2023-08-13T00:28:11.034980",
     "exception": false,
     "start_time": "2023-08-13T00:28:10.917250",
     "status": "completed"
    },
    "tags": []
   },
   "outputs": [],
   "source": [
    "# common_1_2_3_grams = get_common_vocab([rt_senti, rt_test], ngram_range_list=[(1,1), (2,2), (3,3)])\n",
    "# print(len(common_1_2_3_grams))\n",
    "# # sorted((common_1_2_3_grams))\n",
    "\n",
    "# # common_1_2_3_grams = common_unigrams | common_bigrams | common_trigrams    # Older code  "
   ]
  },
  {
   "cell_type": "markdown",
   "id": "f07ccf83",
   "metadata": {
    "papermill": {
     "duration": 0.111421,
     "end_time": "2023-08-13T00:28:11.257001",
     "exception": false,
     "start_time": "2023-08-13T00:28:11.145580",
     "status": "completed"
    },
    "tags": []
   },
   "source": [
    "### Find common vocabulary between text with positive and negative sentiments in training dataset  "
   ]
  },
  {
   "cell_type": "code",
   "execution_count": 97,
   "id": "fbb0d8b2",
   "metadata": {
    "execution": {
     "iopub.execute_input": "2023-08-13T00:28:11.481957Z",
     "iopub.status.busy": "2023-08-13T00:28:11.481529Z",
     "iopub.status.idle": "2023-08-13T00:28:11.532366Z",
     "shell.execute_reply": "2023-08-13T00:28:11.530942Z"
    },
    "papermill": {
     "duration": 0.167882,
     "end_time": "2023-08-13T00:28:11.535526",
     "exception": false,
     "start_time": "2023-08-13T00:28:11.367644",
     "status": "completed"
    },
    "tags": []
   },
   "outputs": [
    {
     "data": {
      "text/plain": [
       "(108761, 2)"
      ]
     },
     "execution_count": 97,
     "metadata": {},
     "output_type": "execute_result"
    }
   ],
   "source": [
    "# Dataframe for positive sentiment\n",
    "rt_senti_pos = rt_senti.loc[rt_senti['sentiment'] == 'POSITIVE'].copy()\n",
    "rt_senti_pos.shape"
   ]
  },
  {
   "cell_type": "code",
   "execution_count": 98,
   "id": "9a3e8a21",
   "metadata": {
    "execution": {
     "iopub.execute_input": "2023-08-13T00:28:11.760181Z",
     "iopub.status.busy": "2023-08-13T00:28:11.759776Z",
     "iopub.status.idle": "2023-08-13T00:28:11.804254Z",
     "shell.execute_reply": "2023-08-13T00:28:11.803035Z"
    },
    "papermill": {
     "duration": 0.160278,
     "end_time": "2023-08-13T00:28:11.806816",
     "exception": false,
     "start_time": "2023-08-13T00:28:11.646538",
     "status": "completed"
    },
    "tags": []
   },
   "outputs": [
    {
     "data": {
      "text/plain": [
       "(53997, 2)"
      ]
     },
     "execution_count": 98,
     "metadata": {},
     "output_type": "execute_result"
    }
   ],
   "source": [
    "# Dataframe for negative sentiment\n",
    "rt_senti_neg = rt_senti.loc[rt_senti['sentiment'] == 'NEGATIVE'].copy()\n",
    "rt_senti_neg.shape"
   ]
  },
  {
   "cell_type": "code",
   "execution_count": 99,
   "id": "6ab4a13d",
   "metadata": {
    "execution": {
     "iopub.execute_input": "2023-08-13T00:28:12.031693Z",
     "iopub.status.busy": "2023-08-13T00:28:12.031270Z",
     "iopub.status.idle": "2023-08-13T00:28:12.036870Z",
     "shell.execute_reply": "2023-08-13T00:28:12.035932Z"
    },
    "papermill": {
     "duration": 0.1211,
     "end_time": "2023-08-13T00:28:12.039220",
     "exception": false,
     "start_time": "2023-08-13T00:28:11.918120",
     "status": "completed"
    },
    "tags": []
   },
   "outputs": [],
   "source": [
    "# Generate stop words/phrases specific for this project data  \n",
    "\n",
    "# common_1_2_3_grams_sentiment = get_common_vocab([rt_senti_pos, rt_senti_neg], ngram_range_list=[(1,1), (2,2), (3,3)])\n",
    "# print(len(common_1_2_3_grams_sentiment))\n",
    "# # sorted(list(common_1_2_3_grams_sentiment))"
   ]
  },
  {
   "cell_type": "code",
   "execution_count": 100,
   "id": "ee48ae8a",
   "metadata": {
    "execution": {
     "iopub.execute_input": "2023-08-13T00:28:12.264374Z",
     "iopub.status.busy": "2023-08-13T00:28:12.263956Z",
     "iopub.status.idle": "2023-08-13T00:28:12.268382Z",
     "shell.execute_reply": "2023-08-13T00:28:12.267175Z"
    },
    "papermill": {
     "duration": 0.12097,
     "end_time": "2023-08-13T00:28:12.270791",
     "exception": false,
     "start_time": "2023-08-13T00:28:12.149821",
     "status": "completed"
    },
    "tags": []
   },
   "outputs": [],
   "source": [
    "# Generate and store the entire vocabulary of training data  \n",
    "\n",
    "# train_1_2_3_grams = get_vocab(rt_senti['reviewText'], ngram_range=(1,3))\n",
    "# print(len(train_1_2_3_grams))\n",
    "# # sorted(train_1_2_3_grams)"
   ]
  },
  {
   "cell_type": "code",
   "execution_count": 101,
   "id": "8f13cb6b",
   "metadata": {
    "execution": {
     "iopub.execute_input": "2023-08-13T00:28:12.509716Z",
     "iopub.status.busy": "2023-08-13T00:28:12.509163Z",
     "iopub.status.idle": "2023-08-13T00:28:12.514296Z",
     "shell.execute_reply": "2023-08-13T00:28:12.513186Z"
    },
    "papermill": {
     "duration": 0.135926,
     "end_time": "2023-08-13T00:28:12.516586",
     "exception": false,
     "start_time": "2023-08-13T00:28:12.380660",
     "status": "completed"
    },
    "tags": []
   },
   "outputs": [],
   "source": [
    "# type(train_1_2_3_grams)"
   ]
  },
  {
   "cell_type": "code",
   "execution_count": 102,
   "id": "401e9cc1",
   "metadata": {
    "execution": {
     "iopub.execute_input": "2023-08-13T00:28:12.767832Z",
     "iopub.status.busy": "2023-08-13T00:28:12.767340Z",
     "iopub.status.idle": "2023-08-13T00:28:12.773026Z",
     "shell.execute_reply": "2023-08-13T00:28:12.771582Z"
    },
    "papermill": {
     "duration": 0.140925,
     "end_time": "2023-08-13T00:28:12.776215",
     "exception": false,
     "start_time": "2023-08-13T00:28:12.635290",
     "status": "completed"
    },
    "tags": []
   },
   "outputs": [],
   "source": [
    "# Get the vocabulary that should be used in the final models  \n",
    "# relevant_vocab = train_1_2_3_grams - common_1_2_3_grams_sentiment\n",
    "# print(len(relevant_vocab))"
   ]
  },
  {
   "cell_type": "markdown",
   "id": "32634dcc",
   "metadata": {
    "papermill": {
     "duration": 0.112181,
     "end_time": "2023-08-13T00:28:13.013478",
     "exception": false,
     "start_time": "2023-08-13T00:28:12.901297",
     "status": "completed"
    },
    "tags": []
   },
   "source": [
    "## Vocabulary based on audienceScore  "
   ]
  },
  {
   "cell_type": "code",
   "execution_count": 103,
   "id": "fa5d360a",
   "metadata": {
    "execution": {
     "iopub.execute_input": "2023-08-13T00:28:13.235845Z",
     "iopub.status.busy": "2023-08-13T00:28:13.234984Z",
     "iopub.status.idle": "2023-08-13T00:28:13.631500Z",
     "shell.execute_reply": "2023-08-13T00:28:13.630016Z"
    },
    "papermill": {
     "duration": 0.511171,
     "end_time": "2023-08-13T00:28:13.634586",
     "exception": false,
     "start_time": "2023-08-13T00:28:13.123415",
     "status": "completed"
    },
    "tags": []
   },
   "outputs": [
    {
     "data": {
      "text/plain": [
       "<Axes: xlabel='sentiment', ylabel='audienceScore'>"
      ]
     },
     "execution_count": 103,
     "metadata": {},
     "output_type": "execute_result"
    },
    {
     "data": {
      "image/png": "[encoded data removed]",
      "text/plain": [
       "<Figure size 640x480 with 1 Axes>"
      ]
     },
     "metadata": {},
     "output_type": "display_data"
    }
   ],
   "source": [
    "sns.boxplot(y=merged[\"audienceScore\"], x=merged[\"sentiment\"])"
   ]
  },
  {
   "cell_type": "code",
   "execution_count": 104,
   "id": "9e58c3c6",
   "metadata": {
    "execution": {
     "iopub.execute_input": "2023-08-13T00:28:13.859499Z",
     "iopub.status.busy": "2023-08-13T00:28:13.858480Z",
     "iopub.status.idle": "2023-08-13T00:28:13.909240Z",
     "shell.execute_reply": "2023-08-13T00:28:13.908136Z"
    },
    "papermill": {
     "duration": 0.166046,
     "end_time": "2023-08-13T00:28:13.911732",
     "exception": false,
     "start_time": "2023-08-13T00:28:13.745686",
     "status": "completed"
    },
    "tags": []
   },
   "outputs": [
    {
     "data": {
      "text/html": [
       "<div>\n",
       "<style scoped>\n",
       "    .dataframe tbody tr th:only-of-type {\n",
       "        vertical-align: middle;\n",
       "    }\n",
       "\n",
       "    .dataframe tbody tr th {\n",
       "        vertical-align: top;\n",
       "    }\n",
       "\n",
       "    .dataframe thead th {\n",
       "        text-align: right;\n",
       "    }\n",
       "</style>\n",
       "<table border=\"1\" class=\"dataframe\">\n",
       "  <thead>\n",
       "    <tr style=\"text-align: right;\">\n",
       "      <th></th>\n",
       "      <th>count</th>\n",
       "      <th>mean</th>\n",
       "      <th>std</th>\n",
       "      <th>min</th>\n",
       "      <th>25%</th>\n",
       "      <th>50%</th>\n",
       "      <th>75%</th>\n",
       "      <th>max</th>\n",
       "    </tr>\n",
       "    <tr>\n",
       "      <th>sentiment</th>\n",
       "      <th></th>\n",
       "      <th></th>\n",
       "      <th></th>\n",
       "      <th></th>\n",
       "      <th></th>\n",
       "      <th></th>\n",
       "      <th></th>\n",
       "      <th></th>\n",
       "    </tr>\n",
       "  </thead>\n",
       "  <tbody>\n",
       "    <tr>\n",
       "      <th>NEGATIVE</th>\n",
       "      <td>53997.0</td>\n",
       "      <td>56.474786</td>\n",
       "      <td>19.902115</td>\n",
       "      <td>0.0</td>\n",
       "      <td>41.0</td>\n",
       "      <td>57.0</td>\n",
       "      <td>72.0</td>\n",
       "      <td>100.0</td>\n",
       "    </tr>\n",
       "    <tr>\n",
       "      <th>POSITIVE</th>\n",
       "      <td>108761.0</td>\n",
       "      <td>69.326174</td>\n",
       "      <td>18.380626</td>\n",
       "      <td>0.0</td>\n",
       "      <td>58.0</td>\n",
       "      <td>73.0</td>\n",
       "      <td>84.0</td>\n",
       "      <td>100.0</td>\n",
       "    </tr>\n",
       "  </tbody>\n",
       "</table>\n",
       "</div>"
      ],
      "text/plain": [
       "              count       mean        std  min   25%   50%   75%    max\n",
       "sentiment                                                              \n",
       "NEGATIVE    53997.0  56.474786  19.902115  0.0  41.0  57.0  72.0  100.0\n",
       "POSITIVE   108761.0  69.326174  18.380626  0.0  58.0  73.0  84.0  100.0"
      ]
     },
     "execution_count": 104,
     "metadata": {},
     "output_type": "execute_result"
    }
   ],
   "source": [
    "merged.groupby('sentiment')['audienceScore'].describe()"
   ]
  },
  {
   "cell_type": "code",
   "execution_count": 105,
   "id": "277591c9",
   "metadata": {
    "execution": {
     "iopub.execute_input": "2023-08-13T00:28:14.135523Z",
     "iopub.status.busy": "2023-08-13T00:28:14.135108Z",
     "iopub.status.idle": "2023-08-13T00:28:14.140231Z",
     "shell.execute_reply": "2023-08-13T00:28:14.139068Z"
    },
    "papermill": {
     "duration": 0.120219,
     "end_time": "2023-08-13T00:28:14.142642",
     "exception": false,
     "start_time": "2023-08-13T00:28:14.022423",
     "status": "completed"
    },
    "tags": []
   },
   "outputs": [],
   "source": [
    "# pos_scores = merged[['reviewText', 'sentiment']].loc[(merged['audienceScore'] > 73) & (merged['sentiment'] == 'POSITIVE')].copy()\n",
    "# pos_scores.shape, pos_scores.head()"
   ]
  },
  {
   "cell_type": "code",
   "execution_count": 106,
   "id": "27a3853f",
   "metadata": {
    "execution": {
     "iopub.execute_input": "2023-08-13T00:28:14.366438Z",
     "iopub.status.busy": "2023-08-13T00:28:14.365999Z",
     "iopub.status.idle": "2023-08-13T00:28:14.370689Z",
     "shell.execute_reply": "2023-08-13T00:28:14.369799Z"
    },
    "papermill": {
     "duration": 0.118845,
     "end_time": "2023-08-13T00:28:14.373142",
     "exception": false,
     "start_time": "2023-08-13T00:28:14.254297",
     "status": "completed"
    },
    "tags": []
   },
   "outputs": [],
   "source": [
    "# pos_scores['sentiment'].value_counts()"
   ]
  },
  {
   "cell_type": "code",
   "execution_count": 107,
   "id": "146c0726",
   "metadata": {
    "execution": {
     "iopub.execute_input": "2023-08-13T00:28:14.599116Z",
     "iopub.status.busy": "2023-08-13T00:28:14.597699Z",
     "iopub.status.idle": "2023-08-13T00:28:14.603935Z",
     "shell.execute_reply": "2023-08-13T00:28:14.602696Z"
    },
    "papermill": {
     "duration": 0.120991,
     "end_time": "2023-08-13T00:28:14.606614",
     "exception": false,
     "start_time": "2023-08-13T00:28:14.485623",
     "status": "completed"
    },
    "tags": []
   },
   "outputs": [],
   "source": [
    "# neg_scores = merged[['reviewText', 'sentiment']].loc[(merged['audienceScore'] < 57) & (merged['sentiment'] == 'NEGATIVE')].copy()\n",
    "# neg_scores.shape, neg_scores.head()"
   ]
  },
  {
   "cell_type": "code",
   "execution_count": 108,
   "id": "c51882d4",
   "metadata": {
    "execution": {
     "iopub.execute_input": "2023-08-13T00:28:14.834364Z",
     "iopub.status.busy": "2023-08-13T00:28:14.833144Z",
     "iopub.status.idle": "2023-08-13T00:28:14.838667Z",
     "shell.execute_reply": "2023-08-13T00:28:14.837620Z"
    },
    "papermill": {
     "duration": 0.120751,
     "end_time": "2023-08-13T00:28:14.841425",
     "exception": false,
     "start_time": "2023-08-13T00:28:14.720674",
     "status": "completed"
    },
    "tags": []
   },
   "outputs": [],
   "source": [
    "# neg_scores['sentiment'].value_counts()"
   ]
  },
  {
   "cell_type": "code",
   "execution_count": 109,
   "id": "e8980f16",
   "metadata": {
    "execution": {
     "iopub.execute_input": "2023-08-13T00:28:15.063709Z",
     "iopub.status.busy": "2023-08-13T00:28:15.063298Z",
     "iopub.status.idle": "2023-08-13T00:28:15.068357Z",
     "shell.execute_reply": "2023-08-13T00:28:15.067118Z"
    },
    "papermill": {
     "duration": 0.11952,
     "end_time": "2023-08-13T00:28:15.070831",
     "exception": false,
     "start_time": "2023-08-13T00:28:14.951311",
     "status": "completed"
    },
    "tags": []
   },
   "outputs": [],
   "source": [
    "# common_pos_neg_scores = get_common_vocab([pos_scores, neg_scores], ngram_range_list=[(1,1), (2,2), (3,3)])\n",
    "# print(len(common_pos_neg_scores))\n",
    "# # sorted(list(common_pos_neg_scores))"
   ]
  },
  {
   "cell_type": "code",
   "execution_count": 110,
   "id": "79fe4117",
   "metadata": {
    "execution": {
     "iopub.execute_input": "2023-08-13T00:28:15.293172Z",
     "iopub.status.busy": "2023-08-13T00:28:15.292756Z",
     "iopub.status.idle": "2023-08-13T00:28:15.297686Z",
     "shell.execute_reply": "2023-08-13T00:28:15.296429Z"
    },
    "papermill": {
     "duration": 0.118948,
     "end_time": "2023-08-13T00:28:15.300199",
     "exception": false,
     "start_time": "2023-08-13T00:28:15.181251",
     "status": "completed"
    },
    "tags": []
   },
   "outputs": [],
   "source": [
    "# pos_vocab = get_common_vocab([pos_scores, pos_scores], ngram_range_list=[(1,1), (2,2), (3,3)])\n",
    "# print(len(pos_vocab))\n",
    "# # sorted(list(pos_vocab))"
   ]
  },
  {
   "cell_type": "code",
   "execution_count": 111,
   "id": "6bbac1de",
   "metadata": {
    "execution": {
     "iopub.execute_input": "2023-08-13T00:28:15.524332Z",
     "iopub.status.busy": "2023-08-13T00:28:15.523910Z",
     "iopub.status.idle": "2023-08-13T00:28:15.528727Z",
     "shell.execute_reply": "2023-08-13T00:28:15.527496Z"
    },
    "papermill": {
     "duration": 0.120696,
     "end_time": "2023-08-13T00:28:15.531468",
     "exception": false,
     "start_time": "2023-08-13T00:28:15.410772",
     "status": "completed"
    },
    "tags": []
   },
   "outputs": [],
   "source": [
    "# print(len(get_vocab(pos_scores['reviewText'], ngram_range=(1,1))))\n",
    "# print(len(get_vocab(pos_scores['reviewText'], ngram_range=(2,2))))\n",
    "# print(len(get_vocab(pos_scores['reviewText'], ngram_range=(3,3))))"
   ]
  },
  {
   "cell_type": "code",
   "execution_count": 112,
   "id": "35c51085",
   "metadata": {
    "execution": {
     "iopub.execute_input": "2023-08-13T00:28:15.758301Z",
     "iopub.status.busy": "2023-08-13T00:28:15.757755Z",
     "iopub.status.idle": "2023-08-13T00:28:15.763073Z",
     "shell.execute_reply": "2023-08-13T00:28:15.761692Z"
    },
    "papermill": {
     "duration": 0.121995,
     "end_time": "2023-08-13T00:28:15.766118",
     "exception": false,
     "start_time": "2023-08-13T00:28:15.644123",
     "status": "completed"
    },
    "tags": []
   },
   "outputs": [],
   "source": [
    "# neg_vocab = get_common_vocab([neg_scores, neg_scores], ngram_range_list=[(1,1), (2,2), (3,3)])\n",
    "# print(len(neg_vocab))\n",
    "# # sorted(list(neg_vocab))"
   ]
  },
  {
   "cell_type": "code",
   "execution_count": 113,
   "id": "94f77704",
   "metadata": {
    "execution": {
     "iopub.execute_input": "2023-08-13T00:28:16.063983Z",
     "iopub.status.busy": "2023-08-13T00:28:16.063375Z",
     "iopub.status.idle": "2023-08-13T00:28:16.067477Z",
     "shell.execute_reply": "2023-08-13T00:28:16.066389Z"
    },
    "papermill": {
     "duration": 0.122896,
     "end_time": "2023-08-13T00:28:16.070221",
     "exception": false,
     "start_time": "2023-08-13T00:28:15.947325",
     "status": "completed"
    },
    "tags": []
   },
   "outputs": [],
   "source": [
    "# print(len(get_vocab(neg_scores['reviewText'], ngram_range=(1,1))))\n",
    "# print(len(get_vocab(neg_scores['reviewText'], ngram_range=(2,2))))\n",
    "# print(len(get_vocab(neg_scores['reviewText'], ngram_range=(3,3))))"
   ]
  },
  {
   "cell_type": "code",
   "execution_count": 114,
   "id": "6a7726cd",
   "metadata": {
    "execution": {
     "iopub.execute_input": "2023-08-13T00:28:16.296809Z",
     "iopub.status.busy": "2023-08-13T00:28:16.295722Z",
     "iopub.status.idle": "2023-08-13T00:28:16.301198Z",
     "shell.execute_reply": "2023-08-13T00:28:16.299950Z"
    },
    "papermill": {
     "duration": 0.121347,
     "end_time": "2023-08-13T00:28:16.303623",
     "exception": false,
     "start_time": "2023-08-13T00:28:16.182276",
     "status": "completed"
    },
    "tags": []
   },
   "outputs": [],
   "source": [
    "# len(pos_vocab), len(neg_vocab), len(pos_vocab - neg_vocab), len(neg_vocab - pos_vocab), len(pos_vocab & neg_vocab)"
   ]
  },
  {
   "cell_type": "markdown",
   "id": "bf4ffab9",
   "metadata": {
    "papermill": {
     "duration": 0.112567,
     "end_time": "2023-08-13T00:28:16.530819",
     "exception": false,
     "start_time": "2023-08-13T00:28:16.418252",
     "status": "completed"
    },
    "tags": []
   },
   "source": [
    "### Common pos, neg vocabs among train and test  "
   ]
  },
  {
   "cell_type": "code",
   "execution_count": 115,
   "id": "e8b71857",
   "metadata": {
    "execution": {
     "iopub.execute_input": "2023-08-13T00:28:16.756960Z",
     "iopub.status.busy": "2023-08-13T00:28:16.756496Z",
     "iopub.status.idle": "2023-08-13T00:28:16.761215Z",
     "shell.execute_reply": "2023-08-13T00:28:16.759985Z"
    },
    "papermill": {
     "duration": 0.120133,
     "end_time": "2023-08-13T00:28:16.763421",
     "exception": false,
     "start_time": "2023-08-13T00:28:16.643288",
     "status": "completed"
    },
    "tags": []
   },
   "outputs": [],
   "source": [
    "# len(common_1_2_3_grams & (pos_vocab - neg_vocab))"
   ]
  },
  {
   "cell_type": "code",
   "execution_count": 116,
   "id": "ac27de64",
   "metadata": {
    "execution": {
     "iopub.execute_input": "2023-08-13T00:28:16.986809Z",
     "iopub.status.busy": "2023-08-13T00:28:16.985774Z",
     "iopub.status.idle": "2023-08-13T00:28:16.991156Z",
     "shell.execute_reply": "2023-08-13T00:28:16.989811Z"
    },
    "papermill": {
     "duration": 0.119986,
     "end_time": "2023-08-13T00:28:16.993613",
     "exception": false,
     "start_time": "2023-08-13T00:28:16.873627",
     "status": "completed"
    },
    "tags": []
   },
   "outputs": [],
   "source": [
    "# len(common_1_2_3_grams & (neg_vocab - pos_vocab))"
   ]
  },
  {
   "cell_type": "code",
   "execution_count": 117,
   "id": "660637a5",
   "metadata": {
    "execution": {
     "iopub.execute_input": "2023-08-13T00:28:17.217328Z",
     "iopub.status.busy": "2023-08-13T00:28:17.216586Z",
     "iopub.status.idle": "2023-08-13T00:28:17.226587Z",
     "shell.execute_reply": "2023-08-13T00:28:17.225566Z"
    },
    "papermill": {
     "duration": 0.124365,
     "end_time": "2023-08-13T00:28:17.229101",
     "exception": false,
     "start_time": "2023-08-13T00:28:17.104736",
     "status": "completed"
    },
    "tags": []
   },
   "outputs": [],
   "source": [
    "def audienceScore_vocab(df_list, scores=(57, 73), ngram_range_list=[(1,1), (2,2), (3,3)]):\n",
    "    train = df_list[0]\n",
    "    test = df_list[1]\n",
    "\n",
    "    lower_bound = scores[0]\n",
    "    upper_bound = scores[1]\n",
    "\n",
    "    common_1_2_3_grams = get_common_vocab([train, test], ngram_range_list=[(1,1), (2,2), (3,3)])\n",
    "\n",
    "    pos_scores = train[['reviewText', 'sentiment']].loc[(train['audienceScore'] > upper_bound) & (train['sentiment'] == 'POSITIVE')].copy()\n",
    "    neg_scores = train[['reviewText', 'sentiment']].loc[(train['audienceScore'] < lower_bound) & (train['sentiment'] == 'NEGATIVE')].copy()\n",
    "\n",
    "    pos_vocab = get_common_vocab([pos_scores, pos_scores], ngram_range_list=[(1,1), (2,2), (3,3)])\n",
    "    neg_vocab = get_common_vocab([neg_scores, neg_scores], ngram_range_list=[(1,1), (2,2), (3,3)])\n",
    "\n",
    "    pure_common_pos = common_1_2_3_grams & (pos_vocab - neg_vocab)\n",
    "    pure_common_neg = common_1_2_3_grams & (neg_vocab - pos_vocab)\n",
    "\n",
    "    return pure_common_pos, pure_common_neg"
   ]
  },
  {
   "cell_type": "code",
   "execution_count": 118,
   "id": "4e5895d6",
   "metadata": {
    "execution": {
     "iopub.execute_input": "2023-08-13T00:28:17.455369Z",
     "iopub.status.busy": "2023-08-13T00:28:17.454581Z",
     "iopub.status.idle": "2023-08-13T00:28:17.458825Z",
     "shell.execute_reply": "2023-08-13T00:28:17.457813Z"
    },
    "papermill": {
     "duration": 0.118197,
     "end_time": "2023-08-13T00:28:17.461151",
     "exception": false,
     "start_time": "2023-08-13T00:28:17.342954",
     "status": "completed"
    },
    "tags": []
   },
   "outputs": [],
   "source": [
    "# pcp, pcn = audienceScore_vocab([merged, merged_test])\n",
    "# len(pcp), len(pcn)"
   ]
  },
  {
   "cell_type": "code",
   "execution_count": 119,
   "id": "9a8cab65",
   "metadata": {
    "execution": {
     "iopub.execute_input": "2023-08-13T00:28:17.688193Z",
     "iopub.status.busy": "2023-08-13T00:28:17.687563Z",
     "iopub.status.idle": "2023-08-13T00:28:17.691423Z",
     "shell.execute_reply": "2023-08-13T00:28:17.690487Z"
    },
    "papermill": {
     "duration": 0.120458,
     "end_time": "2023-08-13T00:28:17.693739",
     "exception": false,
     "start_time": "2023-08-13T00:28:17.573281",
     "status": "completed"
    },
    "tags": []
   },
   "outputs": [],
   "source": [
    "# pc = pcp | pcn\n",
    "# sorted(list(pc))"
   ]
  },
  {
   "cell_type": "markdown",
   "id": "e373a323",
   "metadata": {
    "papermill": {
     "duration": 0.11042,
     "end_time": "2023-08-13T00:28:17.915646",
     "exception": false,
     "start_time": "2023-08-13T00:28:17.805226",
     "status": "completed"
    },
    "tags": []
   },
   "source": [
    "# Submit_v5 for merged file models  "
   ]
  },
  {
   "cell_type": "markdown",
   "id": "29da05ab",
   "metadata": {
    "papermill": {
     "duration": 0.111849,
     "end_time": "2023-08-13T00:28:18.139298",
     "exception": false,
     "start_time": "2023-08-13T00:28:18.027449",
     "status": "completed"
    },
    "tags": []
   },
   "source": [
    "### More Helper functions  "
   ]
  },
  {
   "cell_type": "code",
   "execution_count": 120,
   "id": "8c753d87",
   "metadata": {
    "execution": {
     "iopub.execute_input": "2023-08-13T00:28:18.364702Z",
     "iopub.status.busy": "2023-08-13T00:28:18.364049Z",
     "iopub.status.idle": "2023-08-13T00:28:18.370929Z",
     "shell.execute_reply": "2023-08-13T00:28:18.370008Z"
    },
    "papermill": {
     "duration": 0.1236,
     "end_time": "2023-08-13T00:28:18.373537",
     "exception": false,
     "start_time": "2023-08-13T00:28:18.249937",
     "status": "completed"
    },
    "tags": []
   },
   "outputs": [],
   "source": [
    "# Testing predictions on missing reviewtext columns  \n",
    "\n",
    "def predict_on_missing_review_data(pipe, selected_features, merged_train):\n",
    "    missing_reviews_train = merged_train.loc[merged_train['reviewYN'] == 1]\n",
    "    missing_reviews_train.reset_index(drop=True)\n",
    "    X_train_miss_revs = missing_reviews_train.drop('sentiment', axis = 1)\n",
    "    X_train_miss_revs = X_train_miss_revs[selected_features]\n",
    "    y_train_miss_revs = missing_reviews_train['sentiment']\n",
    "    \n",
    "    y_pred_miss_revs = pipe.predict(X_train_miss_revs)\n",
    "#     print('Predictions on rows which had missing reviewText')\n",
    "    print(\"Confusion matrix and f1-score for rows which have no reviewText in X_train: \")\n",
    "    print(confusion_matrix(y_train_miss_revs, y_pred_miss_revs, labels=pipe.classes_))\n",
    "    \n",
    "    return f1_score(y_train_miss_revs, y_pred_miss_revs, average='micro')"
   ]
  },
  {
   "cell_type": "code",
   "execution_count": 121,
   "id": "281d3f50",
   "metadata": {
    "execution": {
     "iopub.execute_input": "2023-08-13T00:28:18.596974Z",
     "iopub.status.busy": "2023-08-13T00:28:18.596558Z",
     "iopub.status.idle": "2023-08-13T00:28:18.810400Z",
     "shell.execute_reply": "2023-08-13T00:28:18.809407Z"
    },
    "papermill": {
     "duration": 0.329067,
     "end_time": "2023-08-13T00:28:18.813038",
     "exception": false,
     "start_time": "2023-08-13T00:28:18.483971",
     "status": "completed"
    },
    "tags": []
   },
   "outputs": [],
   "source": [
    "# Function to build pipelines for GridSearchCV which goes into the final 'submit' function  \n",
    "def build_pipeline(selected_model=LogisticRegression(), \n",
    "                   selected_features={'txt': ['reviewText']}, \n",
    "                   param_grid=None,\n",
    "                   vocab=None,\n",
    "                   vocab_usage='tfidf',\n",
    "                   strip_accents='unicode', \n",
    "                   add_countvec=False,\n",
    "                   vocab_audscore=None,\n",
    "                  poly=True):\n",
    "    # Encoders  \n",
    "    ohe = OneHotEncoder(sparse_output=False, handle_unknown='ignore')\n",
    "    MMscaler = MinMaxScaler()\n",
    "    StdScaler = StandardScaler()\n",
    "    RobScaler = RobustScaler()\n",
    "    \n",
    "    # Categorical features\n",
    "    cat_pipe = Pipeline(steps=[\n",
    "                            (\"ohe\", ohe),\n",
    "                        ])\n",
    "    \n",
    "    # Numerical features\n",
    "    num_pipe = Pipeline(steps=[\n",
    "                            (\"robscaler\", RobustScaler()),\n",
    "                            (\"stdscaler\", StandardScaler())\n",
    "                        ])\n",
    "    num_pipe_poly = Pipeline(steps=[\n",
    "                            (\"robscaler\", RobustScaler()),\n",
    "                            (\"stdscaler\", StandardScaler()),\n",
    "                            (\"poly\", PolynomialFeatures(degree=2))\n",
    "                        ])\n",
    "    \n",
    "    # Text features ['reviewText', 'reviewerName', 'movieid', 'genre', 'director']\n",
    "    tfidf_vec = TfidfVectorizer(ngram_range=(1,2))\n",
    "    count_vec = CountVectorizer(ngram_range=(1,2))\n",
    "    txt_pipe = Pipeline(steps=[\n",
    "                            (\"tvec\", TfidfVectorizer(ngram_range=(1,3), strip_accents=strip_accents))    # Adjust ngram_range here for reviewText\n",
    "                        ])\n",
    "    txt_pipe_vocab = Pipeline(steps=[\n",
    "                            (\"tvec\", TfidfVectorizer(ngram_range=(1,3), strip_accents=strip_accents, vocabulary=vocab))    # Adjust ngram_range here for reviewText\n",
    "                        ])\n",
    "    txt_pipe_2 = Pipeline(steps=[\n",
    "                            (\"tvec\", TfidfVectorizer(ngram_range=(2,2)))\n",
    "                        ])\n",
    "    txt_pipe_3 = Pipeline(steps=[\n",
    "                            (\"tvec\", TfidfVectorizer(ngram_range=(1,1)))\n",
    "                        ])\n",
    "    txt_pipe_4 = Pipeline(steps=[\n",
    "                            (\"tvec\", TfidfVectorizer(ngram_range=(1,3)))    # Adjust ngram_range here for reviewText\n",
    "                        ])\n",
    "    txt_pipe_title  = Pipeline(steps=[\n",
    "                            (\"tvec\", TfidfVectorizer(ngram_range=(1,5)))    # Adjust ngram_range here for reviewText\n",
    "                        ])\n",
    "    \n",
    "    # Additional pipes for count vectorizer\n",
    "    txt_pipe_countvec = Pipeline(steps=[\n",
    "                            (\"cvec\", CountVectorizer(ngram_range=(1,3), strip_accents=strip_accents))    # Adjust ngram_range here for reviewText\n",
    "                        ])\n",
    "    txt_pipe_countvec_vocab = Pipeline(steps=[\n",
    "                            (\"cvec\", CountVectorizer(ngram_range=(1,3), strip_accents=strip_accents, vocabulary=vocab))    # Adjust ngram_range here for reviewText\n",
    "                        ])\n",
    "    txt_pipe_countvec_vocab_audscore = Pipeline(steps=[\n",
    "                            (\"cvec\", CountVectorizer(ngram_range=(1,3), strip_accents=strip_accents, vocabulary=vocab_audscore))    # Adjust ngram_range here for reviewText\n",
    "                        ])\n",
    "    \n",
    "    txt_pipe_countvec_ratingContents = Pipeline(steps=[\n",
    "                            (\"cvec\", CountVectorizer(ngram_range=(1,5)))    # Adjust ngram_range here for reviewText\n",
    "                        ])\n",
    "    txt_pipe_countvec_rcSorted = Pipeline(steps=[\n",
    "                            (\"cvec\", CountVectorizer(ngram_range=(1,1)))    # Adjust ngram_range here for reviewText\n",
    "                        ])\n",
    "    txt_pipe_countvec_genre = Pipeline(steps=[\n",
    "                            (\"cvec\", CountVectorizer(ngram_range=(1,1)))\n",
    "                        ])\n",
    "    txt_pipe_countvec_genreSorted = Pipeline(steps=[\n",
    "                            (\"cvec\", CountVectorizer(ngram_range=(1,5)))\n",
    "                        ])\n",
    "    txt_pipe_countvec_distributor = Pipeline(steps=[\n",
    "                            (\"cvec\", CountVectorizer(ngram_range=(1,3)))    # Adjust ngram_range here for reviewText\n",
    "                        ])\n",
    "    txt_pipe_countvec_title = Pipeline(steps=[\n",
    "                            (\"cvec\", CountVectorizer(ngram_range=(1,5), strip_accents=strip_accents))\n",
    "                        ])\n",
    "    txt_pipe_countvec_movieid = Pipeline(steps=[\n",
    "                            (\"cvec\", CountVectorizer(ngram_range=(1,1)))\n",
    "                        ])\n",
    "    # Basic pipes  \n",
    "    TFs = []\n",
    "    try:\n",
    "        TFs.append((f\"cat\", ohe, selected_features['cat']))\n",
    "#         for c in selected_features['cat']:\n",
    "#             TFs.append((f\"cat_{c}\", ohe, [c]))\n",
    "    except:\n",
    "        pass\n",
    "    \n",
    "    try:\n",
    "        if poly:\n",
    "            TFs.append((f\"num\", num_pipe_poly, selected_features['num']))\n",
    "        else:\n",
    "            TFs.append((f\"num\", num_pipe, selected_features['num']))\n",
    "#             for n in selected_features['num']:\n",
    "#                 if n in [\"runtimeMinutes\", \"boxOffice\", \"releaseDiff\"]:\n",
    "#                     TFs.append((f\"num_{n}\", RobScaler, [n]))\n",
    "#                     TFs.append((f\"num_{n}_ss\", StdScaler, [n]))\n",
    "\n",
    "#                 else:\n",
    "#                     TFs.append((f\"num_{n}\", StdScaler, [n]))\n",
    "    except:\n",
    "        pass\n",
    "    \n",
    "    try:\n",
    "        for t in selected_features['txt']:\n",
    "            if t in ['director', 'reviewerName']:\n",
    "                TFs.append((f\"txt_{t}\", txt_pipe_2, t))\n",
    "            elif t in [\"originalLanguage\", \"releaseYear\"]:\n",
    "                TFs.append((f\"txt_{t}\", txt_pipe_3, t))\n",
    "            elif t in ['genre']:\n",
    "                TFs.append((f\"txt_{t}\", txt_pipe_countvec_genre, t))\n",
    "            elif t in [\"genreSorted\"]:\n",
    "                TFs.append((f\"txt_{t}\", txt_pipe_countvec_genreSorted, t))\n",
    "            elif t in [\"distributor\"]:\n",
    "                TFs.append((f\"txt_{t}\", txt_pipe_countvec_distributor, t))\n",
    "                \n",
    "            elif t in ['reviewText']:\n",
    "#                 if vocab and (vocab_usage in [\"tfidf\", \"both\"]):\n",
    "#                     txt_pipe.set_params(tvec__vocabulary=vocab)\n",
    "#                     txt_pipe.set_params(tvec__stop_words='english')\n",
    "                TFs.append((f\"txt_{t}\", txt_pipe, t))\n",
    "            elif t in ['reviewText_2']:\n",
    "                if add_countvec:\n",
    "#                     if vocab and (vocab_usage in [\"count\", \"both\"]):\n",
    "#                         txt_pipe_countvec.set_params(cvec__vocabulary=vocab)\n",
    "#                         txt_pipe_countvec.set_params(cvec__stop_words='english')\n",
    "                    TFs.append((f\"txt_{t}\", txt_pipe_countvec, t))\n",
    "            elif t in ['reviewText_3']:\n",
    "                if vocab_usage == 'tfidf':\n",
    "                    TFs.append((f\"txt_{t}\", txt_pipe_vocab, t))\n",
    "                elif vocab_usage == 'count':\n",
    "                    TFs.append((f\"txt_{t}\", txt_pipe_countvec_vocab, t))\n",
    "            elif t in ['reviewText_4']:\n",
    "                if vocab_audscore:                    \n",
    "                    TFs.append((f\"txt_{t}\", txt_pipe_countvec_vocab_audscore, t))\n",
    "                    \n",
    "            elif t in [\"ratingContents\"]:\n",
    "                TFs.append((f\"txt_{t}\", txt_pipe_countvec_ratingContents, t))\n",
    "            elif t in [\"rcSorted\"]:\n",
    "                TFs.append((f\"txt_{t}\", txt_pipe_countvec_rcSorted, t))\n",
    "            elif t in [\"title\"]:\n",
    "                TFs.append((f\"txt_{t}\", txt_pipe_title, t))\n",
    "            elif t in [\"movieid\"]:\n",
    "                TFs.append((f\"txt_{t}\", txt_pipe_countvec_movieid, t))\n",
    "            else:\n",
    "                pass\n",
    "    except:\n",
    "        pass\n",
    "\n",
    "    # Build ColumnTransformer  \n",
    "    ct = ColumnTransformer(transformers=TFs, remainder='drop')\n",
    "\n",
    "    # Build Pipeline\n",
    "    pipe = Pipeline(steps=[('ct', ct), ('model', selected_model)])\n",
    "    print(\"\\nPipeline built successfully.\")\n",
    "\n",
    "    # Use the pipe in GridSearchCV\n",
    "    if param_grid == None:\n",
    "        param_grid_temp = {\"model__C\": [1],\n",
    "                     'model__solver': ['liblinear']}\n",
    "        print(\"Full GridSearchCV pipeline built successfully with basic default param_grid.\\n\")\n",
    "        pipeCV = GridSearchCV(pipe, param_grid_temp, cv=10, scoring=\"f1_micro\", n_jobs=-1)\n",
    "        return pipeCV\n",
    "    \n",
    "    # GridSearchCV if param_grid provided\n",
    "    if param_grid:\n",
    "        pipeCV = GridSearchCV(pipe, param_grid, cv=10, scoring=\"f1_micro\", n_jobs=-1)\n",
    "        print(\"\\nFull GridSearchCV pipeline built successfully.\")\n",
    "        return pipeCV"
   ]
  },
  {
   "cell_type": "code",
   "execution_count": 122,
   "id": "b6391985",
   "metadata": {
    "execution": {
     "iopub.execute_input": "2023-08-13T00:28:19.038623Z",
     "iopub.status.busy": "2023-08-13T00:28:19.037871Z",
     "iopub.status.idle": "2023-08-13T00:28:19.055664Z",
     "shell.execute_reply": "2023-08-13T00:28:19.054476Z"
    },
    "papermill": {
     "duration": 0.134222,
     "end_time": "2023-08-13T00:28:19.058773",
     "exception": false,
     "start_time": "2023-08-13T00:28:18.924551",
     "status": "completed"
    },
    "tags": []
   },
   "outputs": [],
   "source": [
    "def preprocessor(imputer_type='simple'):\n",
    "    \n",
    "    \"\"\"Preprocess train or test data. Choose 'simple' or 'knn' imputers to impute missing numerical values\"\"\"\n",
    "    \n",
    "    # Set imputer  \n",
    "    if imputer_type == 'simple':\n",
    "        imputer = SimpleImputer(strategy='median')\n",
    "        print(imputer)\n",
    "    elif imputer_type == 'knn':\n",
    "        imputer = KNNImputer(weights='distance', n_neighbors=3)    # Adjust KNNImputer params here\n",
    "        print(imputer)\n",
    "\n",
    "\n",
    "    \n",
    "    # Merge and preprocess train and movies data  \n",
    "    merged = select_features(load_csv(\"train\"), load_csv(\"movies\"), row_thresh_null=None)    # Decide if you want to drop any rows containing lot of nulls\n",
    "    \n",
    "    # Impute missing numerical values  \n",
    "    merged[['audienceScore', 'runtimeMinutes', 'boxOffice']] = imputer.fit_transform(merged[['audienceScore', 'runtimeMinutes', 'boxOffice']])\n",
    "    merged['releaseDate'] = merged[\"releaseDate\"].fillna(merged[\"releaseDate\"].median())\n",
    "\n",
    "    # Create new feature columns\n",
    "    \n",
    "    # Convert audienceScore to categories  \n",
    "    num_bins_as = 20\n",
    "    merged[\"audScoreBins\"] = pd.cut(merged['audienceScore'], bins=num_bins_as, labels=False)\n",
    "\n",
    "    # Convert runtimeMinutes to categories  \n",
    "#     num_bins_rt = 20\n",
    "    merged[\"runtimeBins\"] = pd.cut(merged['runtimeMinutes'], bins=[0,75,120,180,565], labels=[4,3,2,1])\n",
    "    \n",
    "    # Convert boxOffice to categories  \n",
    "    num_bins_bo = 5\n",
    "    merged[\"boxOfficeBins\"] = pd.cut(merged['boxOffice'], bins=num_bins_bo, labels=False)\n",
    "    \n",
    "    # Convert releaseDiff to categories  \n",
    "    num_bins_rd = 5\n",
    "    merged[\"releaseDiffBins\"] = pd.cut(merged['releaseDiff'], bins=[-1, 180, 360, 1000, 40000], labels=[0, 1, 2, 3])\n",
    "    \n",
    "    # Check1 (preprocessor)\n",
    "    print(\"\\nCheck 1 (preprocessor) complete.\")\n",
    "    print(f\"Shape of X_train: {merged.shape}\")\n",
    "    print(f\"Features in X_train: {merged.columns}\")\n",
    "\n",
    "\n",
    "    \n",
    "    # Merge and preprocess test and movies data  \n",
    "    merged_test = select_features(load_csv(\"test\"), load_csv(\"movies\"))\n",
    "    \n",
    "    # Transform ['audienceScore', 'runtimeMinutes', 'boxOffice'] columns in merged_test using 'imputer' fitted on 'merged' df  \n",
    "    merged_test[['audienceScore', 'runtimeMinutes', 'boxOffice']] = imputer.transform(merged_test[['audienceScore', 'runtimeMinutes', 'boxOffice']])\n",
    "    \n",
    "    # Fill 'releaseDate' column in 'merged_test' df with median from the train (merged) df  \n",
    "    merged_test['releaseDate'] = merged_test[\"releaseDate\"].fillna(merged[\"releaseDate\"].median())\n",
    "\n",
    "    \n",
    "    # Create new feature columns\n",
    "    \n",
    "    # Convert audienceScore to categories  \n",
    "    num_bins_as = 20\n",
    "    merged_test[\"audScoreBins\"] = pd.cut(merged_test['audienceScore'], bins=num_bins_as, labels=False)\n",
    "    \n",
    "    # Convert runtimeMinutes to categories  \n",
    "#     num_bins_rt = 20\n",
    "    merged_test[\"runtimeBins\"] = pd.cut(merged_test['runtimeMinutes'], bins=[0,75,120,180,565], labels=[4,3,2,1])\n",
    "    \n",
    "    # Convert boxOffice to categories  \n",
    "    num_bins_bo = 5\n",
    "    merged_test[\"boxOfficeBins\"] = pd.cut(merged_test['boxOffice'], bins=num_bins_bo, labels=False)\n",
    "    \n",
    "    # Convert releaseDiff to categories  \n",
    "    num_bins_rd = 5\n",
    "    merged_test[\"releaseDiffBins\"] = pd.cut(merged_test['releaseDiff'], bins=[-1, 180, 360, 1000, 40000], labels=[0, 1, 2, 3])\n",
    "    \n",
    "    \n",
    "    # Check2 (preprocessor)\n",
    "    print(\"\\nCheck 2 (preprocessor) complete.\")\n",
    "    print(f\"Shape of X_test: {merged_test.shape}\")\n",
    "    print(f\"Features in X_test: {merged_test.columns}\")\n",
    "\n",
    "    return merged, merged_test\n",
    "    "
   ]
  },
  {
   "cell_type": "code",
   "execution_count": 123,
   "id": "46956b79",
   "metadata": {
    "execution": {
     "iopub.execute_input": "2023-08-13T00:28:19.288205Z",
     "iopub.status.busy": "2023-08-13T00:28:19.287733Z",
     "iopub.status.idle": "2023-08-13T00:28:19.292564Z",
     "shell.execute_reply": "2023-08-13T00:28:19.291338Z"
    },
    "papermill": {
     "duration": 0.121829,
     "end_time": "2023-08-13T00:28:19.295004",
     "exception": false,
     "start_time": "2023-08-13T00:28:19.173175",
     "status": "completed"
    },
    "tags": []
   },
   "outputs": [],
   "source": [
    "# merged, merged_test = preprocessor()\n",
    "# merged.shape, merged_test.shape"
   ]
  },
  {
   "cell_type": "code",
   "execution_count": 124,
   "id": "1ecf9c0b",
   "metadata": {
    "execution": {
     "iopub.execute_input": "2023-08-13T00:28:19.522402Z",
     "iopub.status.busy": "2023-08-13T00:28:19.521789Z",
     "iopub.status.idle": "2023-08-13T00:28:19.554655Z",
     "shell.execute_reply": "2023-08-13T00:28:19.553398Z"
    },
    "papermill": {
     "duration": 0.14991,
     "end_time": "2023-08-13T00:28:19.557508",
     "exception": false,
     "start_time": "2023-08-13T00:28:19.407598",
     "status": "completed"
    },
    "tags": []
   },
   "outputs": [],
   "source": [
    "def submit_v5(classifiers= [\n",
    "                {'selected_model' : LogisticRegression(C=1, solver='saga', max_iter=100000),\n",
    "                 'param_grid' : None,\n",
    "                 'selected_features' : {'num': ['audienceScore']},\n",
    "                 'vocab' : None,\n",
    "                 'vocab_usage' : 'tfidf',\n",
    "                 'strip_accents' : 'unicode',\n",
    "                 'add_countvec' : False,\n",
    "                'vocab_audscore' : None}\n",
    "              ], \n",
    "            imputer_type='simple',\n",
    "              poly=True,\n",
    "            ):\n",
    "    \n",
    "    \"\"\"Takes a list of dictionaries each with same keys as mentioned in the default dictionary in function definition\"\"\"\n",
    "    \n",
    "    print(\"\\nRunning the submit_v5 function...\")\n",
    "    \n",
    "    print(f\"\\nData preprocessor initiated...\")\n",
    "    \n",
    "    imputer_type = imputer_type\n",
    "    print(f\"\\nImputer for missing numerical values: {imputer_type}\")\n",
    "    print(f\"Imputing missing values. (This could take a while if it is KNNImputer)\")\n",
    "    \n",
    "    merged, merged_test = preprocessor(imputer_type=imputer_type)\n",
    "    print(f\"\\nPreprocessing of train and test datasets complete.\")\n",
    "    \n",
    "    # Build vocabulary (if vocab is True)\n",
    "    vocab = None\n",
    "    vocab_audscore = None\n",
    "    for item in classifiers:\n",
    "        if item['vocab']:\n",
    "            vocab = True\n",
    "        if item['vocab_audscore']:\n",
    "            vocab_audscore = item['vocab_audscore']\n",
    "    \n",
    "    if vocab == True:\n",
    "        # Generate and store the entire vocabulary of training data  \n",
    "        print(f\"Generating stop words/phrases specific for this project data...\")\n",
    "        train_1_2_3_grams = get_vocab(merged['reviewText'], ngram_range=(1,3))\n",
    "        print(f\"Size of vocabulary of training data: {len(train_1_2_3_grams)}\")\n",
    "        # sorted(train_1_2_3_grams)\n",
    "\n",
    "        # Generate stop words/phrases specific for this project data  \n",
    "        print(f\"Generating stop words/phrases specific for this project data...\")\n",
    "        common_1_2_3_grams = get_common_vocab([merged, merged_test], ngram_range_list=[(1,1), (2,2), (3,3)])\n",
    "        print(f\"Number of stop words: {len(common_1_2_3_grams)}\")\n",
    "\n",
    "        # Get the vocabulary that should be used in the final models  \n",
    "        print(f\"Getting the vocabulary that will be fed to the final model(s)...\")\n",
    "        relevant_vocab = list(train_1_2_3_grams - common_1_2_3_grams)\n",
    "        print(f\"Size of the final relevant vocabulary: {len(relevant_vocab)}\")\n",
    "    else:\n",
    "        pass\n",
    "    \n",
    "    if vocab_audscore:\n",
    "        pure_common_pos, pure_common_neg = audienceScore_vocab([merged, merged_test])\n",
    "        pure_common = pure_common_pos | pure_common_neg\n",
    "        print(f\"pure_common vocabulary created. Length: {len(pure_common)}\")\n",
    "    \n",
    "    \n",
    "    # Create a list to store estimators  \n",
    "    estimators = []     # List of tuples of the form ('classifier_name', 'classifer_instance')\n",
    "    \n",
    "    # Build a dataframe of predictions  \n",
    "    predictions_df = pd.DataFrame()\n",
    "    \n",
    "    # Build a separate pipeline and fit it on selected features (and param_grid) for each item in classifiers list\n",
    "    for n, item in enumerate(classifiers, start=1):\n",
    "        selected_model = item['selected_model']\n",
    "        selected_features = item['selected_features']\n",
    "        param_grid = item['param_grid']\n",
    "        vocab = item['vocab']\n",
    "        vocab_usage = item['vocab_usage']\n",
    "        strip_accents = item['strip_accents']\n",
    "        add_countvec = item['add_countvec']\n",
    "    \n",
    "    \n",
    "        # Fine tune selected_features\n",
    "        if add_countvec:\n",
    "            if 'txt' in selected_features.keys():\n",
    "                if \"reviewText_2\" not in selected_features['txt']:\n",
    "                    selected_features['txt'].append('reviewText_2')\n",
    "        if vocab:\n",
    "            if 'txt' in selected_features.keys():\n",
    "                if \"reviewText_3\" not in selected_features['txt']:\n",
    "                    selected_features['txt'].append('reviewText_3')\n",
    "        else:\n",
    "            print(f\"No vocabulary provided/used for this model.\")\n",
    "            \n",
    "        print(f\"\\nSelected features: {selected_features}\")\n",
    "        \n",
    "        if type(vocab) in [type([1, 2]), type({1, 2})]:\n",
    "            vocab = vocab\n",
    "        elif vocab == True:\n",
    "            vocab = common_1_2_3_grams    # Choose vocabulary here\n",
    "            \n",
    "        if vocab_audscore:\n",
    "            if 'txt' in selected_features.keys():\n",
    "                if \"reviewText_4\" not in selected_features['txt']:\n",
    "                    selected_features['txt'].append('reviewText_4')\n",
    "        else:\n",
    "            print(f\"No vocabulary based on audienceScore provided/used for this model.\")\n",
    "            \n",
    "            \n",
    "        print(f\"\\nSelected features: {selected_features}\")\n",
    "\n",
    "        # Modify X_train for the given 'item' by creating a custom 'features' list\n",
    "        features = []\n",
    "        for item in selected_features.values():\n",
    "            features.extend(item)\n",
    "            \n",
    "        # Add new columns as needed  \n",
    "        if add_countvec:\n",
    "            merged['reviewText_2'] = merged['reviewText']\n",
    "        if vocab:\n",
    "            merged['reviewText_3'] = merged['reviewText']\n",
    "        if vocab_audscore:\n",
    "            merged['reviewText_4'] = merged['reviewText']\n",
    "        \n",
    "        # Create X_tran, y_train\n",
    "        X_train = merged.drop(labels=\"sentiment\", axis=1)\n",
    "        y_train = merged[\"sentiment\"]\n",
    "        \n",
    "        X_train = merged[features].copy()\n",
    "\n",
    "\n",
    "        # Build Pipeline\n",
    "        pipe = build_pipeline(selected_model, selected_features, param_grid=param_grid, \n",
    "                              vocab=vocab, vocab_usage='tfidf', \n",
    "                              strip_accents=strip_accents, add_countvec=add_countvec,\n",
    "                             poly=poly, vocab_audscore=pure_common)\n",
    "        print(pipe)\n",
    "\n",
    "        \n",
    "        # Fit \n",
    "        print(f\"\\nTraining started with full pipeline for classifier #{n}/{len(classifiers)}...\")\n",
    "        pipe.fit(X_train, y_train)\n",
    "        \n",
    "\n",
    "        # Check1\n",
    "        print(f\"\\nCheck #{n}.1 complete.\")\n",
    "        print(f\"Details of the best model using classifier #{n} (GridSearchCV) on X_train: \")\n",
    "        print(f\"Best Params: {pipe.best_params_}\")\n",
    "        print(f\"Best Score: {pipe.best_score_}\")\n",
    "        \n",
    "        print(predict_on_missing_review_data(pipe, features, merged))    # Function defined above\n",
    "        \n",
    "        estimators.append((f\"classifier_{n}\", pipe))\n",
    "        print(f\"classifier_{n} successfully added to 'estimators' list\")\n",
    "\n",
    "        \n",
    "        # Predict on train data \n",
    "        y_train_pred = pipe.predict(X_train)\n",
    "        print(f\"Confusion matrix for predictions on training data: \")\n",
    "        print(confusion_matrix(y_train, y_train_pred))\n",
    "        f1_train = f1_score(y_train, y_train_pred, average=\"micro\")\n",
    "        print(f\"F1-score on training data: {f1_train}\")\n",
    "        \n",
    "        \n",
    "        # Predict on test.csv file\n",
    "        # Add new columns as needed \n",
    "        if add_countvec:\n",
    "            merged_test['reviewText_2'] = merged_test['reviewText']\n",
    "        if vocab:\n",
    "            merged_test['reviewText_3'] = merged_test['reviewText']\n",
    "        if vocab_audscore:\n",
    "            merged_test['reviewText_4'] = merged_test['reviewText']\n",
    "        \n",
    "               \n",
    "        X_test = merged_test[features].copy()\n",
    "\n",
    "    \n",
    "        y_pred = pipe.predict(X_test)\n",
    "        \n",
    "        # Insert predictions in 'predictions_df' dataframe\n",
    "        predictions_df.insert(n-1, f\"pred_{n}\", y_pred, allow_duplicates=False)\n",
    "        print(predictions_df.shape)\n",
    "        print(predictions_df.head(10))\n",
    "        \n",
    "    \n",
    "        # Check2\n",
    "        print(f\"\\nCheck #{n}.2 complete.\")\n",
    "    #     cv_results_df = pd.DataFrame(pipe.cv_results_)\n",
    "        print(\"Details of the best model using full pipeline (GridSearchCV) on X_train: \")\n",
    "#         print(f\"Best Estimator: {pipe.best_estimator_}\")\n",
    "        print(f\"Best Params: {pipe.best_params_}\")\n",
    "        print(f\"Best Score: {pipe.best_score_}\")\n",
    "#         print(f\"Best Index: {pipe.best_index_}\")\n",
    "        print(f\"Refit Time: {pipe.refit_time_}\")\n",
    "    #     print(f\"Shape of CV results dataframe: {cv_results_df.shape}\")\n",
    "    \n",
    "    # Voting classifier (custom) with hard voting\n",
    "    # Calculate the MODE for all predictions (Note that the 'predictions_df' generated above should have odd number of columns)\n",
    "    pred_df_final = predictions_df.mode('columns')\n",
    "    pred_df_final.columns = [\"sentiment\"]\n",
    "    pred_df_final.index.name = \"id\"\n",
    "    pred_df_final.to_csv(\"submission.csv\")\n",
    "    \n",
    "    print(\"\\nSuccessfully created the submission file!!!\")\n",
    "    \n",
    "#     return pipe.cv_results_\n",
    "    return pred_df_final, estimators"
   ]
  },
  {
   "cell_type": "markdown",
   "id": "8956b8cf",
   "metadata": {
    "papermill": {
     "duration": 0.113212,
     "end_time": "2023-08-13T00:28:19.783039",
     "exception": false,
     "start_time": "2023-08-13T00:28:19.669827",
     "status": "completed"
    },
    "tags": []
   },
   "source": [
    "## Use 'submit_v5' function  "
   ]
  },
  {
   "cell_type": "code",
   "execution_count": 125,
   "id": "fe2331e0",
   "metadata": {
    "execution": {
     "iopub.execute_input": "2023-08-13T00:28:20.036133Z",
     "iopub.status.busy": "2023-08-13T00:28:20.035275Z",
     "iopub.status.idle": "2023-08-13T00:28:20.039750Z",
     "shell.execute_reply": "2023-08-13T00:28:20.038849Z"
    },
    "papermill": {
     "duration": 0.142914,
     "end_time": "2023-08-13T00:28:20.042066",
     "exception": false,
     "start_time": "2023-08-13T00:28:19.899152",
     "status": "completed"
    },
    "tags": []
   },
   "outputs": [],
   "source": [
    "# Try submit_v5 with default settings\n",
    "# submit_v5()"
   ]
  },
  {
   "cell_type": "code",
   "execution_count": 126,
   "id": "26c3194d",
   "metadata": {
    "execution": {
     "iopub.execute_input": "2023-08-13T00:28:20.329698Z",
     "iopub.status.busy": "2023-08-13T00:28:20.329071Z",
     "iopub.status.idle": "2023-08-13T01:27:55.989118Z",
     "shell.execute_reply": "2023-08-13T01:27:55.987895Z"
    },
    "papermill": {
     "duration": 3575.90011,
     "end_time": "2023-08-13T01:27:56.052857",
     "exception": false,
     "start_time": "2023-08-13T00:28:20.152747",
     "status": "completed"
    },
    "tags": []
   },
   "outputs": [
    {
     "name": "stdout",
     "output_type": "stream",
     "text": [
      "\n",
      "Running the submit_v5 function...\n",
      "\n",
      "Data preprocessor initiated...\n",
      "\n",
      "Imputer for missing numerical values: knn\n",
      "Imputing missing values. (This could take a while if it is KNNImputer)\n",
      "KNNImputer(n_neighbors=3, weights='distance')\n",
      "\n",
      "Check 1 (preprocessor) complete.\n",
      "Shape of X_train: (162758, 30)\n",
      "Features in X_train: Index(['movieid', 'reviewerName', 'isFrequentReviewer', 'reviewText',\n",
      "       'sentiment', 'title', 'audienceScore', 'rating', 'ratingContents',\n",
      "       'releaseDateTheaters', 'releaseDateStreaming', 'runtimeMinutes',\n",
      "       'genre', 'originalLanguage', 'director', 'boxOffice', 'distributor',\n",
      "       'soundType', 'reviewYN', 'reviewWC', 'genreSorted', 'rcSorted',\n",
      "       'releaseDate', 'releaseYear', 'releaseMonth', 'releaseDiff',\n",
      "       'audScoreBins', 'runtimeBins', 'boxOfficeBins', 'releaseDiffBins'],\n",
      "      dtype='object')\n",
      "\n",
      "Check 2 (preprocessor) complete.\n",
      "Shape of X_test: (55315, 29)\n",
      "Features in X_test: Index(['movieid', 'reviewerName', 'isFrequentReviewer', 'reviewText', 'title',\n",
      "       'audienceScore', 'rating', 'ratingContents', 'releaseDateTheaters',\n",
      "       'releaseDateStreaming', 'runtimeMinutes', 'genre', 'originalLanguage',\n",
      "       'director', 'boxOffice', 'distributor', 'soundType', 'reviewYN',\n",
      "       'reviewWC', 'genreSorted', 'rcSorted', 'releaseDate', 'releaseYear',\n",
      "       'releaseMonth', 'releaseDiff', 'audScoreBins', 'runtimeBins',\n",
      "       'boxOfficeBins', 'releaseDiffBins'],\n",
      "      dtype='object')\n",
      "\n",
      "Preprocessing of train and test datasets complete.\n",
      "Generating stop words/phrases specific for this project data...\n",
      "Generating vocabulary for ngram_range: (1, 3)...\n",
      "Size of vocabulary of training data: 2610596\n",
      "Generating stop words/phrases specific for this project data...\n",
      "Working on DF#1 in the list of DFs provided\n",
      "Generating vocabulary for ngram_range: (1, 1)...\n",
      "Vocabulary size for ngram-range (1, 1) in DF#1: 63881\n",
      "\n",
      "Words from the first df for ngram-range (1, 1) added.\n",
      "\n",
      "Working on DF#2 in the list of DFs provided\n",
      "Generating vocabulary for ngram_range: (1, 1)...\n",
      "Vocabulary size for ngram-range (1, 1) in DF#2: 42992\n",
      "\n",
      "Keeping only the common (intersection) words for ngram-range (1, 1)...\n",
      "Common vocabulary for ngram-range (1, 1): 35498\n",
      "\n",
      "Appended first time to final common vocabulary: ngram-range = (1, 1).\n",
      "\n",
      "Working on DF#1 in the list of DFs provided\n",
      "Generating vocabulary for ngram_range: (2, 2)...\n",
      "Vocabulary size for ngram-range (2, 2) in DF#1: 1130406\n",
      "\n",
      "Words from the first df for ngram-range (2, 2) added.\n",
      "\n",
      "Working on DF#2 in the list of DFs provided\n",
      "Generating vocabulary for ngram_range: (2, 2)...\n",
      "Vocabulary size for ngram-range (2, 2) in DF#2: 436174\n",
      "\n",
      "Keeping only the common (intersection) words for ngram-range (2, 2)...\n",
      "Common vocabulary for ngram-range (2, 2): 112530\n",
      "\n",
      "Fusing (union) with final common vocabulary: ngram-range = (2, 2).\n",
      "\n",
      "Working on DF#1 in the list of DFs provided\n",
      "Generating vocabulary for ngram_range: (3, 3)...\n",
      "Vocabulary size for ngram-range (3, 3) in DF#1: 1416309\n",
      "\n",
      "Words from the first df for ngram-range (3, 3) added.\n",
      "\n",
      "Working on DF#2 in the list of DFs provided\n",
      "Generating vocabulary for ngram_range: (3, 3)...\n",
      "Vocabulary size for ngram-range (3, 3) in DF#2: 488867\n",
      "\n",
      "Keeping only the common (intersection) words for ngram-range (3, 3)...\n",
      "Common vocabulary for ngram-range (3, 3): 22631\n",
      "\n",
      "Fusing (union) with final common vocabulary: ngram-range = (3, 3).\n",
      "\n",
      "Number of stop words: 170659\n",
      "Getting the vocabulary that will be fed to the final model(s)...\n",
      "Size of the final relevant vocabulary: 2439937\n",
      "Working on DF#1 in the list of DFs provided\n",
      "Generating vocabulary for ngram_range: (1, 1)...\n",
      "Vocabulary size for ngram-range (1, 1) in DF#1: 63881\n",
      "\n",
      "Words from the first df for ngram-range (1, 1) added.\n",
      "\n",
      "Working on DF#2 in the list of DFs provided\n",
      "Generating vocabulary for ngram_range: (1, 1)...\n",
      "Vocabulary size for ngram-range (1, 1) in DF#2: 42992\n",
      "\n",
      "Keeping only the common (intersection) words for ngram-range (1, 1)...\n",
      "Common vocabulary for ngram-range (1, 1): 35498\n",
      "\n",
      "Appended first time to final common vocabulary: ngram-range = (1, 1).\n",
      "\n",
      "Working on DF#1 in the list of DFs provided\n",
      "Generating vocabulary for ngram_range: (2, 2)...\n",
      "Vocabulary size for ngram-range (2, 2) in DF#1: 1130406\n",
      "\n",
      "Words from the first df for ngram-range (2, 2) added.\n",
      "\n",
      "Working on DF#2 in the list of DFs provided\n",
      "Generating vocabulary for ngram_range: (2, 2)...\n",
      "Vocabulary size for ngram-range (2, 2) in DF#2: 436174\n",
      "\n",
      "Keeping only the common (intersection) words for ngram-range (2, 2)...\n",
      "Common vocabulary for ngram-range (2, 2): 112530\n",
      "\n",
      "Fusing (union) with final common vocabulary: ngram-range = (2, 2).\n",
      "\n",
      "Working on DF#1 in the list of DFs provided\n",
      "Generating vocabulary for ngram_range: (3, 3)...\n",
      "Vocabulary size for ngram-range (3, 3) in DF#1: 1416309\n",
      "\n",
      "Words from the first df for ngram-range (3, 3) added.\n",
      "\n",
      "Working on DF#2 in the list of DFs provided\n",
      "Generating vocabulary for ngram_range: (3, 3)...\n",
      "Vocabulary size for ngram-range (3, 3) in DF#2: 488867\n",
      "\n",
      "Keeping only the common (intersection) words for ngram-range (3, 3)...\n",
      "Common vocabulary for ngram-range (3, 3): 22631\n",
      "\n",
      "Fusing (union) with final common vocabulary: ngram-range = (3, 3).\n",
      "\n",
      "Working on DF#1 in the list of DFs provided\n",
      "Generating vocabulary for ngram_range: (1, 1)...\n",
      "Vocabulary size for ngram-range (1, 1) in DF#1: 39254\n",
      "\n",
      "Words from the first df for ngram-range (1, 1) added.\n",
      "\n",
      "Working on DF#2 in the list of DFs provided\n",
      "Generating vocabulary for ngram_range: (1, 1)...\n",
      "Vocabulary size for ngram-range (1, 1) in DF#2: 39254\n",
      "\n",
      "Keeping only the common (intersection) words for ngram-range (1, 1)...\n",
      "Common vocabulary for ngram-range (1, 1): 39254\n",
      "\n",
      "Appended first time to final common vocabulary: ngram-range = (1, 1).\n",
      "\n",
      "Working on DF#1 in the list of DFs provided\n",
      "Generating vocabulary for ngram_range: (2, 2)...\n",
      "Vocabulary size for ngram-range (2, 2) in DF#1: 418168\n",
      "\n",
      "Words from the first df for ngram-range (2, 2) added.\n",
      "\n",
      "Working on DF#2 in the list of DFs provided\n",
      "Generating vocabulary for ngram_range: (2, 2)...\n",
      "Vocabulary size for ngram-range (2, 2) in DF#2: 418168\n",
      "\n",
      "Keeping only the common (intersection) words for ngram-range (2, 2)...\n",
      "Common vocabulary for ngram-range (2, 2): 418168\n",
      "\n",
      "Fusing (union) with final common vocabulary: ngram-range = (2, 2).\n",
      "\n",
      "Working on DF#1 in the list of DFs provided\n",
      "Generating vocabulary for ngram_range: (3, 3)...\n",
      "Vocabulary size for ngram-range (3, 3) in DF#1: 478650\n",
      "\n",
      "Words from the first df for ngram-range (3, 3) added.\n",
      "\n",
      "Working on DF#2 in the list of DFs provided\n",
      "Generating vocabulary for ngram_range: (3, 3)...\n",
      "Vocabulary size for ngram-range (3, 3) in DF#2: 478650\n",
      "\n",
      "Keeping only the common (intersection) words for ngram-range (3, 3)...\n",
      "Common vocabulary for ngram-range (3, 3): 478650\n",
      "\n",
      "Fusing (union) with final common vocabulary: ngram-range = (3, 3).\n",
      "\n",
      "Working on DF#1 in the list of DFs provided\n",
      "Generating vocabulary for ngram_range: (1, 1)...\n",
      "Vocabulary size for ngram-range (1, 1) in DF#1: 29530\n",
      "\n",
      "Words from the first df for ngram-range (1, 1) added.\n",
      "\n",
      "Working on DF#2 in the list of DFs provided\n",
      "Generating vocabulary for ngram_range: (1, 1)...\n",
      "Vocabulary size for ngram-range (1, 1) in DF#2: 29530\n",
      "\n",
      "Keeping only the common (intersection) words for ngram-range (1, 1)...\n",
      "Common vocabulary for ngram-range (1, 1): 29530\n",
      "\n",
      "Appended first time to final common vocabulary: ngram-range = (1, 1).\n",
      "\n",
      "Working on DF#1 in the list of DFs provided\n",
      "Generating vocabulary for ngram_range: (2, 2)...\n",
      "Vocabulary size for ngram-range (2, 2) in DF#1: 208463\n",
      "\n",
      "Words from the first df for ngram-range (2, 2) added.\n",
      "\n",
      "Working on DF#2 in the list of DFs provided\n",
      "Generating vocabulary for ngram_range: (2, 2)...\n",
      "Vocabulary size for ngram-range (2, 2) in DF#2: 208463\n",
      "\n",
      "Keeping only the common (intersection) words for ngram-range (2, 2)...\n",
      "Common vocabulary for ngram-range (2, 2): 208463\n",
      "\n",
      "Fusing (union) with final common vocabulary: ngram-range = (2, 2).\n",
      "\n",
      "Working on DF#1 in the list of DFs provided\n",
      "Generating vocabulary for ngram_range: (3, 3)...\n",
      "Vocabulary size for ngram-range (3, 3) in DF#1: 223076\n",
      "\n",
      "Words from the first df for ngram-range (3, 3) added.\n",
      "\n",
      "Working on DF#2 in the list of DFs provided\n",
      "Generating vocabulary for ngram_range: (3, 3)...\n",
      "Vocabulary size for ngram-range (3, 3) in DF#2: 223076\n",
      "\n",
      "Keeping only the common (intersection) words for ngram-range (3, 3)...\n",
      "Common vocabulary for ngram-range (3, 3): 223076\n",
      "\n",
      "Fusing (union) with final common vocabulary: ngram-range = (3, 3).\n",
      "\n",
      "pure_common vocabulary created. Length: 84493\n",
      "\n",
      "Selected features: {'cat': ['isFrequentReviewer'], 'num': ['audienceScore', 'boxOffice', 'releaseDiff'], 'txt': ['reviewText', 'reviewerName', 'movieid', 'genre', 'director', 'ratingContents', 'distributor', 'reviewText_2', 'reviewText_3']}\n",
      "\n",
      "Selected features: {'cat': ['isFrequentReviewer'], 'num': ['audienceScore', 'boxOffice', 'releaseDiff'], 'txt': ['reviewText', 'reviewerName', 'movieid', 'genre', 'director', 'ratingContents', 'distributor', 'reviewText_2', 'reviewText_3', 'reviewText_4']}\n",
      "\n",
      "Pipeline built successfully.\n",
      "\n",
      "Full GridSearchCV pipeline built successfully.\n",
      "GridSearchCV(cv=10,\n",
      "             estimator=Pipeline(steps=[('ct',\n",
      "                                        ColumnTransformer(transformers=[('cat',\n",
      "                                                                         OneHotEncoder(handle_unknown='ignore',\n",
      "                                                                                       sparse_output=False),\n",
      "                                                                         ['isFrequentReviewer']),\n",
      "                                                                        ('num',\n",
      "                                                                         Pipeline(steps=[('robscaler',\n",
      "                                                                                          RobustScaler()),\n",
      "                                                                                         ('stdscaler',\n",
      "                                                                                          StandardScaler()),\n",
      "                                                                                         ('poly',\n",
      "                                                                                          PolynomialFeatures())]),\n",
      "                                                                         ['audienceScore',\n",
      "                                                                          'boxOffice',\n",
      "                                                                          'releaseDiff']),\n",
      "                                                                        ('txt_reviewText'...\n",
      "                                                                                                                      'abbey',\n",
      "                                                                                                                      'abbey '\n",
      "                                                                                                                      'movie',\n",
      "                                                                                                                      'abbie',\n",
      "                                                                                                                      'abbott '\n",
      "                                                                                                                      'costello '\n",
      "                                                                                                                      'meet',\n",
      "                                                                                                                      'abc '\n",
      "                                                                                                                      'africa',\n",
      "                                                                                                                      'abc '\n",
      "                                                                                                                      'afterschool',\n",
      "                                                                                                                      'abdomen',\n",
      "                                                                                                                      'abdul '\n",
      "                                                                                                                      'mateen',\n",
      "                                                                                                                      'abdul '\n",
      "                                                                                                                      'mateen '\n",
      "                                                                                                                      'ii',\n",
      "                                                                                                                      'abel '\n",
      "                                                                                                                      'ferrara', ...}))]),\n",
      "                                                                         'reviewText_4')])),\n",
      "                                       ('model',\n",
      "                                        SGDClassifier(loss='modified_huber',\n",
      "                                                      max_iter=1000000,\n",
      "                                                      n_iter_no_change=1000,\n",
      "                                                      n_jobs=-1,\n",
      "                                                      tol=0.0001))]),\n",
      "             n_jobs=-1, param_grid={'model__alpha': [0.0001]},\n",
      "             scoring='f1_micro')\n",
      "\n",
      "Training started with full pipeline for classifier #1/1...\n",
      "\n",
      "Check #1.1 complete.\n",
      "Details of the best model using classifier #1 (GridSearchCV) on X_train: \n",
      "Best Params: {'model__alpha': 0.0001}\n",
      "Best Score: 0.8436390225597687\n",
      "Confusion matrix and f1-score for rows which have no reviewText in X_train: \n",
      "[[1713  692]\n",
      " [ 263 3779]]\n",
      "0.8518690863967737\n",
      "classifier_1 successfully added to 'estimators' list\n",
      "Confusion matrix for predictions on training data: \n",
      "[[ 53275    722]\n",
      " [   276 108485]]\n",
      "F1-score on training data: 0.9938681969549884\n",
      "(55315, 1)\n",
      "     pred_1\n",
      "0  POSITIVE\n",
      "1  POSITIVE\n",
      "2  POSITIVE\n",
      "3  POSITIVE\n",
      "4  POSITIVE\n",
      "5  POSITIVE\n",
      "6  POSITIVE\n",
      "7  POSITIVE\n",
      "8  NEGATIVE\n",
      "9  NEGATIVE\n",
      "\n",
      "Check #1.2 complete.\n",
      "Details of the best model using full pipeline (GridSearchCV) on X_train: \n",
      "Best Params: {'model__alpha': 0.0001}\n",
      "Best Score: 0.8436390225597687\n",
      "Refit Time: 529.3315155506134\n",
      "\n",
      "Successfully created the submission file!!!\n"
     ]
    }
   ],
   "source": [
    "# Testing ONE classfier using submit_v5 function  \n",
    "\n",
    "# Feature dictionaries\n",
    "sfs = {'cat': ['isFrequentReviewer', 'rating'],\n",
    "       'num': [\"audienceScore\", \"runtimeMinutes\", \"boxOffice\", 'releaseDiff']}\n",
    "\n",
    "sf_best = {'cat': ['isFrequentReviewer'],\n",
    "            'num': [\"audienceScore\", \"boxOffice\", 'releaseDiff'],\n",
    "            'txt': ['reviewText', 'reviewerName', 'movieid', 'genre', 'director', \n",
    "                         'ratingContents', 'distributor']}\n",
    "\n",
    "alt_text = {'txt': ['reviewerName', 'movieid', 'genre', 'director', \n",
    "                         'ratingContents', 'distributor']}\n",
    "\n",
    "v88_dict = {'cat': ['isFrequentReviewer', 'audScoreBins', 'boxOfficeBins'],\n",
    "            'num': ['releaseDiff'],\n",
    "            'txt': ['reviewText', 'reviewerName', 'movieid', 'genre', 'director', \n",
    "                         'ratingContents', 'distributor']}\n",
    "\n",
    "# SGDClassifier hyperparameters  \n",
    "# \"model__loss\": ['hinge', 'log_loss', 'modified_huber', \n",
    "#                                                   'squared_hinge', 'perceptron', \n",
    "#                                                   'squared_error', 'huber', \n",
    "#                                                   'epsilon_insensitive', 'squared_epsilon_insensitive']\n",
    "\n",
    "# 'param_grid' : {\"model__alpha\": [0.0001], \n",
    "#                   'model__tol': [0.0001],\n",
    "#                   \"model__penalty\": [\"l2\"],\n",
    "#                   \"model__n_iter_no_change\": [100],\n",
    "#                  }\n",
    "\n",
    "# Best models \n",
    "# For sf_best features\n",
    "#                 {'selected_model' : SGDClassifier(loss='hinge', \n",
    "#                                      max_iter=1000000,\n",
    "#                                      alpha = 0.0001,\n",
    "#                                      tol = 0.0001,\n",
    "#                                      penalty = \"l2\",\n",
    "#                                      n_iter_no_change = 100,\n",
    "#                                      n_jobs = -1), \n",
    "#                   'selected_features' : sf_best, \n",
    "#                   'param_grid' : {\"model__alpha\": [ 0.0001]},\n",
    "#                   'vocab' : True,\n",
    "#                   'vocab_usage' : 'tfidf',\n",
    "#                   'strip_accents' : 'unicode', \n",
    "#                   'add_countvec' : True},\n",
    "\n",
    "# For sfs features\n",
    "#                 {'selected_model' : RandomForestClassifier(n_jobs = -1), \n",
    "#                   'selected_features' : sfs, \n",
    "#                   'param_grid': {'model__n_estimators': [100]},\n",
    "#                   'vocab' : None,\n",
    "#                   'vocab_usage' : 'tfidf',\n",
    "#                   'strip_accents' : 'unicode', \n",
    "#                   'add_countvec' : False}\n",
    "\n",
    "# Best SGD classifer (with params)  \n",
    "sgdc = SGDClassifier(loss='modified_huber', \n",
    "                     max_iter=1000000,\n",
    "                     alpha = 0.0001,\n",
    "                     tol = 0.0001,\n",
    "                     penalty = \"l2\",\n",
    "                     n_iter_no_change = 1000,\n",
    "                     n_jobs = -1)\n",
    "\n",
    "# Classifiers\n",
    "classifiers= [   \n",
    "                {'selected_model' : sgdc, \n",
    "                  'selected_features' : sf_best, \n",
    "                  'param_grid' : {\"model__alpha\": [0.0001]},\n",
    "                  'vocab' : True,\n",
    "                  'vocab_usage' : 'tfidf',\n",
    "                  'strip_accents' : 'unicode', \n",
    "                  'add_countvec' : True,\n",
    "                    'vocab_audscore' : True},\n",
    "            ]\n",
    "\n",
    "# classifiers= [\n",
    "#                 {'selected_model' : LogisticRegression(C=1, solver='saga', max_iter=100000), \n",
    "#                   'selected_features' : {'txt': [\"reviewText\"]}, \n",
    "#                   'param_grid' : {\"model__C\": [1], \n",
    "#                                   'model__solver': ['saga']},\n",
    "#                   'vocab' : None,\n",
    "#                   'vocab_usage' : 'tfidf',\n",
    "#                   'strip_accents' : 'unicode', \n",
    "#                   'add_countvec' : False},\n",
    "#             ]\n",
    "\n",
    "pred_df, estimators = submit_v5(classifiers=classifiers, imputer_type='knn', poly=True)"
   ]
  },
  {
   "cell_type": "code",
   "execution_count": 127,
   "id": "5861ad04",
   "metadata": {
    "execution": {
     "iopub.execute_input": "2023-08-13T01:27:56.286159Z",
     "iopub.status.busy": "2023-08-13T01:27:56.285512Z",
     "iopub.status.idle": "2023-08-13T01:27:56.292457Z",
     "shell.execute_reply": "2023-08-13T01:27:56.291249Z"
    },
    "papermill": {
     "duration": 0.126855,
     "end_time": "2023-08-13T01:27:56.294899",
     "exception": false,
     "start_time": "2023-08-13T01:27:56.168044",
     "status": "completed"
    },
    "tags": []
   },
   "outputs": [
    {
     "name": "stdout",
     "output_type": "stream",
     "text": [
      "(55315, 1)\n",
      "   sentiment\n",
      "id          \n",
      "0   POSITIVE\n",
      "1   POSITIVE\n",
      "2   POSITIVE\n",
      "3   POSITIVE\n",
      "4   POSITIVE\n"
     ]
    }
   ],
   "source": [
    "print(pred_df.shape)\n",
    "print(pred_df.head())"
   ]
  },
  {
   "cell_type": "code",
   "execution_count": 128,
   "id": "1f2a8f0c",
   "metadata": {
    "execution": {
     "iopub.execute_input": "2023-08-13T01:27:56.524775Z",
     "iopub.status.busy": "2023-08-13T01:27:56.524382Z",
     "iopub.status.idle": "2023-08-13T01:27:56.529658Z",
     "shell.execute_reply": "2023-08-13T01:27:56.528455Z"
    },
    "papermill": {
     "duration": 0.124026,
     "end_time": "2023-08-13T01:27:56.532002",
     "exception": false,
     "start_time": "2023-08-13T01:27:56.407976",
     "status": "completed"
    },
    "tags": []
   },
   "outputs": [],
   "source": [
    "# estimators"
   ]
  },
  {
   "cell_type": "code",
   "execution_count": 129,
   "id": "bb11e4b0",
   "metadata": {
    "execution": {
     "iopub.execute_input": "2023-08-13T01:27:56.761673Z",
     "iopub.status.busy": "2023-08-13T01:27:56.761285Z",
     "iopub.status.idle": "2023-08-13T01:27:56.768491Z",
     "shell.execute_reply": "2023-08-13T01:27:56.767311Z"
    },
    "papermill": {
     "duration": 0.126014,
     "end_time": "2023-08-13T01:27:56.771265",
     "exception": false,
     "start_time": "2023-08-13T01:27:56.645251",
     "status": "completed"
    },
    "tags": []
   },
   "outputs": [
    {
     "name": "stdout",
     "output_type": "stream",
     "text": [
      "Number of estimators: 1\n",
      "\n",
      "Estimator: classifier_1\n",
      "{'model__alpha': 0.0001}\n",
      "0.8436390225597687\n",
      "529.3315155506134\n",
      "\n"
     ]
    }
   ],
   "source": [
    "print(f\"Number of estimators: {len(estimators)}\\n\")\n",
    "for est in estimators:\n",
    "    print(f\"Estimator: {est[0]}\")\n",
    "#     print(est[1].best_estimator_)\n",
    "    print(est[1].best_params_)\n",
    "    print(est[1].best_score_)\n",
    "    print(est[1].refit_time_)\n",
    "    print()"
   ]
  },
  {
   "cell_type": "code",
   "execution_count": 130,
   "id": "45e1bb22",
   "metadata": {
    "execution": {
     "iopub.execute_input": "2023-08-13T01:27:57.077358Z",
     "iopub.status.busy": "2023-08-13T01:27:57.076922Z",
     "iopub.status.idle": "2023-08-13T01:27:57.083096Z",
     "shell.execute_reply": "2023-08-13T01:27:57.082275Z"
    },
    "papermill": {
     "duration": 0.200169,
     "end_time": "2023-08-13T01:27:57.085091",
     "exception": false,
     "start_time": "2023-08-13T01:27:56.884922",
     "status": "completed"
    },
    "tags": []
   },
   "outputs": [],
   "source": [
    "# Testing full capabilites of submit_v5  \n",
    "\n",
    "# # Feature dictionaries\n",
    "# sf1 = {'cat': ['isFrequentReviewer', 'rating'],\n",
    "#        'num': [\"audienceScore\", \"runtimeMinutes\", \"boxOffice\"]}\n",
    "\n",
    "# sf2 = {'cat': ['isFrequentReviewer', 'rating'],\n",
    "#        'num': [\"audienceScore\", \"runtimeMinutes\", \"boxOffice\"]}\n",
    "\n",
    "# sf3 = {'cat': ['isFrequentReviewer'],\n",
    "#         'num': ['releaseDiff', 'audienceScore', 'boxOffice'],\n",
    "#         'txt': ['reviewText', 'reviewerName', 'movieid', 'genre', 'director', \n",
    "#                          'ratingContents', 'distributor']}\n",
    "\n",
    "# # Individual classifiers\n",
    "# clf1 =  {'selected_model' : AdaBoostClassifier(), \n",
    "#           'selected_features' : sf1, \n",
    "#           'param_grid' : {\"model__n_estimators\": [50]},\n",
    "#           'vocab' : None,\n",
    "#           'vocab_usage' : 'tfidf',\n",
    "#           'strip_accents' : 'unicode', \n",
    "#           'add_countvec' : False}\n",
    "\n",
    "# clf2 =  {'selected_model' : RandomForestClassifier(), \n",
    "#           'selected_features' : sf2,\n",
    "#           'param_grid' : {\"model__n_estimators\": [50], \n",
    "#                           'model__criterion': ['gini']},\n",
    "#           'vocab' : None,\n",
    "#           'vocab_usage' : 'tfidf',\n",
    "#           'strip_accents' : 'unicode', \n",
    "#           'add_countvec' : False}\n",
    "\n",
    "# clf3 =  {'selected_model' : LogisticRegression(C=1, solver='saga', max_iter=100000), \n",
    "#           'selected_features' : sf3, \n",
    "#           'param_grid' : {'model__C' : [1],\n",
    "#                             'model__solver': ['saga'],\n",
    "#                             \"model__fit_intercept\" : [True],\n",
    "#                             \"model__dual\" : [False]},\n",
    "#           'vocab' : None,\n",
    "#           'vocab_usage' : 'tfidf',\n",
    "#           'strip_accents' : 'unicode', \n",
    "#           'add_countvec' : True}\n",
    "\n",
    "\n",
    "# # List of classifiers for voting\n",
    "# classifiers= [clf1, clf2, clf3]\n",
    "\n",
    "# # Final predictions \n",
    "# pred_df = submit_v5(classifiers=classifiers)"
   ]
  },
  {
   "cell_type": "code",
   "execution_count": 131,
   "id": "1b8d39f1",
   "metadata": {
    "execution": {
     "iopub.execute_input": "2023-08-13T01:27:57.312758Z",
     "iopub.status.busy": "2023-08-13T01:27:57.311820Z",
     "iopub.status.idle": "2023-08-13T01:27:57.325954Z",
     "shell.execute_reply": "2023-08-13T01:27:57.324824Z"
    },
    "papermill": {
     "duration": 0.130199,
     "end_time": "2023-08-13T01:27:57.328451",
     "exception": false,
     "start_time": "2023-08-13T01:27:57.198252",
     "status": "completed"
    },
    "tags": []
   },
   "outputs": [
    {
     "name": "stdout",
     "output_type": "stream",
     "text": [
      "(55315, 1)\n"
     ]
    },
    {
     "data": {
      "text/html": [
       "<div>\n",
       "<style scoped>\n",
       "    .dataframe tbody tr th:only-of-type {\n",
       "        vertical-align: middle;\n",
       "    }\n",
       "\n",
       "    .dataframe tbody tr th {\n",
       "        vertical-align: top;\n",
       "    }\n",
       "\n",
       "    .dataframe thead th {\n",
       "        text-align: right;\n",
       "    }\n",
       "</style>\n",
       "<table border=\"1\" class=\"dataframe\">\n",
       "  <thead>\n",
       "    <tr style=\"text-align: right;\">\n",
       "      <th></th>\n",
       "      <th>sentiment</th>\n",
       "    </tr>\n",
       "    <tr>\n",
       "      <th>id</th>\n",
       "      <th></th>\n",
       "    </tr>\n",
       "  </thead>\n",
       "  <tbody>\n",
       "    <tr>\n",
       "      <th>0</th>\n",
       "      <td>POSITIVE</td>\n",
       "    </tr>\n",
       "    <tr>\n",
       "      <th>1</th>\n",
       "      <td>POSITIVE</td>\n",
       "    </tr>\n",
       "    <tr>\n",
       "      <th>2</th>\n",
       "      <td>POSITIVE</td>\n",
       "    </tr>\n",
       "    <tr>\n",
       "      <th>3</th>\n",
       "      <td>POSITIVE</td>\n",
       "    </tr>\n",
       "    <tr>\n",
       "      <th>4</th>\n",
       "      <td>POSITIVE</td>\n",
       "    </tr>\n",
       "    <tr>\n",
       "      <th>...</th>\n",
       "      <td>...</td>\n",
       "    </tr>\n",
       "    <tr>\n",
       "      <th>55310</th>\n",
       "      <td>POSITIVE</td>\n",
       "    </tr>\n",
       "    <tr>\n",
       "      <th>55311</th>\n",
       "      <td>NEGATIVE</td>\n",
       "    </tr>\n",
       "    <tr>\n",
       "      <th>55312</th>\n",
       "      <td>NEGATIVE</td>\n",
       "    </tr>\n",
       "    <tr>\n",
       "      <th>55313</th>\n",
       "      <td>POSITIVE</td>\n",
       "    </tr>\n",
       "    <tr>\n",
       "      <th>55314</th>\n",
       "      <td>NEGATIVE</td>\n",
       "    </tr>\n",
       "  </tbody>\n",
       "</table>\n",
       "<p>55315 rows × 1 columns</p>\n",
       "</div>"
      ],
      "text/plain": [
       "      sentiment\n",
       "id             \n",
       "0      POSITIVE\n",
       "1      POSITIVE\n",
       "2      POSITIVE\n",
       "3      POSITIVE\n",
       "4      POSITIVE\n",
       "...         ...\n",
       "55310  POSITIVE\n",
       "55311  NEGATIVE\n",
       "55312  NEGATIVE\n",
       "55313  POSITIVE\n",
       "55314  NEGATIVE\n",
       "\n",
       "[55315 rows x 1 columns]"
      ]
     },
     "execution_count": 131,
     "metadata": {},
     "output_type": "execute_result"
    }
   ],
   "source": [
    "print(pred_df.shape)\n",
    "pred_df"
   ]
  },
  {
   "cell_type": "code",
   "execution_count": 132,
   "id": "01433120",
   "metadata": {
    "execution": {
     "iopub.execute_input": "2023-08-13T01:27:57.558919Z",
     "iopub.status.busy": "2023-08-13T01:27:57.558523Z",
     "iopub.status.idle": "2023-08-13T01:27:57.563043Z",
     "shell.execute_reply": "2023-08-13T01:27:57.561955Z"
    },
    "papermill": {
     "duration": 0.123429,
     "end_time": "2023-08-13T01:27:57.565222",
     "exception": false,
     "start_time": "2023-08-13T01:27:57.441793",
     "status": "completed"
    },
    "tags": []
   },
   "outputs": [],
   "source": [
    "# pred_df_mode = pred_df.mode(axis='columns')\n",
    "# print(pred_df_mode.shape)\n",
    "# pred_df_mode"
   ]
  },
  {
   "cell_type": "code",
   "execution_count": 133,
   "id": "25bbe297",
   "metadata": {
    "execution": {
     "iopub.execute_input": "2023-08-13T01:27:57.797344Z",
     "iopub.status.busy": "2023-08-13T01:27:57.796914Z",
     "iopub.status.idle": "2023-08-13T01:27:57.815767Z",
     "shell.execute_reply": "2023-08-13T01:27:57.814615Z"
    },
    "papermill": {
     "duration": 0.138134,
     "end_time": "2023-08-13T01:27:57.818282",
     "exception": false,
     "start_time": "2023-08-13T01:27:57.680148",
     "status": "completed"
    },
    "tags": []
   },
   "outputs": [
    {
     "data": {
      "text/plain": [
       "sentiment\n",
       "POSITIVE     38653\n",
       "NEGATIVE     16662\n",
       "dtype: int64"
      ]
     },
     "execution_count": 133,
     "metadata": {},
     "output_type": "execute_result"
    }
   ],
   "source": [
    "pred_df.value_counts()"
   ]
  },
  {
   "cell_type": "markdown",
   "id": "61412d13",
   "metadata": {
    "papermill": {
     "duration": 0.113893,
     "end_time": "2023-08-13T01:27:58.048230",
     "exception": false,
     "start_time": "2023-08-13T01:27:57.934337",
     "status": "completed"
    },
    "tags": []
   },
   "source": [
    "# NOTE: Move submit_v4 submissions below the suubmit_v4 function  "
   ]
  },
  {
   "cell_type": "code",
   "execution_count": 134,
   "id": "85c94022",
   "metadata": {
    "execution": {
     "iopub.execute_input": "2023-08-13T01:27:58.280548Z",
     "iopub.status.busy": "2023-08-13T01:27:58.280149Z",
     "iopub.status.idle": "2023-08-13T01:27:58.284919Z",
     "shell.execute_reply": "2023-08-13T01:27:58.283848Z"
    },
    "papermill": {
     "duration": 0.124279,
     "end_time": "2023-08-13T01:27:58.287278",
     "exception": false,
     "start_time": "2023-08-13T01:27:58.162999",
     "status": "completed"
    },
    "tags": []
   },
   "outputs": [],
   "source": [
    "# Try 'submit_v4' function with default params (LogisticRegression model)  \n",
    "\n",
    "# submit_v4()\n",
    "\n",
    "#Default params to this function gave a score of 0.8259 - improvement over previous score of 0.82563!"
   ]
  },
  {
   "cell_type": "code",
   "execution_count": 135,
   "id": "145f4683",
   "metadata": {
    "execution": {
     "iopub.execute_input": "2023-08-13T01:27:58.533735Z",
     "iopub.status.busy": "2023-08-13T01:27:58.533207Z",
     "iopub.status.idle": "2023-08-13T01:27:58.538603Z",
     "shell.execute_reply": "2023-08-13T01:27:58.537539Z"
    },
    "papermill": {
     "duration": 0.138821,
     "end_time": "2023-08-13T01:27:58.541204",
     "exception": false,
     "start_time": "2023-08-13T01:27:58.402383",
     "status": "completed"
    },
    "tags": []
   },
   "outputs": [],
   "source": [
    "# Try out GridSearchCV on \"submit_v4\" function with param_grid  \n",
    "# param_grid = {\n",
    "#     \"model__C\": [0.1, 1, 5, 10]\n",
    "# }\n",
    "\n",
    "# submit_v4(selected_features={'txt': ['genre']}, param_grid=param_grid)"
   ]
  },
  {
   "cell_type": "markdown",
   "id": "984e7b49",
   "metadata": {
    "papermill": {
     "duration": 0.121925,
     "end_time": "2023-08-13T01:27:58.787885",
     "exception": false,
     "start_time": "2023-08-13T01:27:58.665960",
     "status": "completed"
    },
    "tags": []
   },
   "source": [
    "### Try LinearSVC with GridSearchCV  "
   ]
  },
  {
   "cell_type": "code",
   "execution_count": 136,
   "id": "ab891a68",
   "metadata": {
    "execution": {
     "iopub.execute_input": "2023-08-13T01:27:59.055548Z",
     "iopub.status.busy": "2023-08-13T01:27:59.055146Z",
     "iopub.status.idle": "2023-08-13T01:27:59.060334Z",
     "shell.execute_reply": "2023-08-13T01:27:59.059250Z"
    },
    "papermill": {
     "duration": 0.135787,
     "end_time": "2023-08-13T01:27:59.062470",
     "exception": false,
     "start_time": "2023-08-13T01:27:58.926683",
     "status": "completed"
    },
    "tags": []
   },
   "outputs": [],
   "source": [
    "# all_dict = {'cat': [\"isFrequentReviewer\", \"rating\", \"originalLanguage\"],\n",
    "#              'num': [\"audienceScore\", \"runtimeMinutes\", \"boxOffice\"],\n",
    "#              'txt': ['reviewText', 'reviewerName', 'movieid', 'genre', 'director']}\n",
    "\n",
    "# param_grid_svc = {\n",
    "#     \"model__C\": [0.1, 1, 10, 100]\n",
    "# }\n",
    "# param_grid_svc"
   ]
  },
  {
   "cell_type": "code",
   "execution_count": 137,
   "id": "4b1bd4e6",
   "metadata": {
    "execution": {
     "iopub.execute_input": "2023-08-13T01:27:59.296816Z",
     "iopub.status.busy": "2023-08-13T01:27:59.296328Z",
     "iopub.status.idle": "2023-08-13T01:27:59.301495Z",
     "shell.execute_reply": "2023-08-13T01:27:59.300348Z"
    },
    "papermill": {
     "duration": 0.124661,
     "end_time": "2023-08-13T01:27:59.303883",
     "exception": false,
     "start_time": "2023-08-13T01:27:59.179222",
     "status": "completed"
    },
    "tags": []
   },
   "outputs": [],
   "source": [
    "# LinearSCV on single feature  \n",
    "\n",
    "# submit_v4(selected_model=LinearSVC(max_iter=100000, random_state=42), selected_features={'num': [\"audienceScore\"]}, param_grid=param_grid_svc)\n",
    "\n",
    "# Comment: LinearSVC even on single column feature set takes too long to converge."
   ]
  },
  {
   "cell_type": "code",
   "execution_count": 138,
   "id": "7d0c198b",
   "metadata": {
    "execution": {
     "iopub.execute_input": "2023-08-13T01:27:59.543001Z",
     "iopub.status.busy": "2023-08-13T01:27:59.542278Z",
     "iopub.status.idle": "2023-08-13T01:27:59.546523Z",
     "shell.execute_reply": "2023-08-13T01:27:59.545555Z"
    },
    "papermill": {
     "duration": 0.127255,
     "end_time": "2023-08-13T01:27:59.548674",
     "exception": false,
     "start_time": "2023-08-13T01:27:59.421419",
     "status": "completed"
    },
    "tags": []
   },
   "outputs": [],
   "source": [
    "# LinearSCV on all available features\n",
    "\n",
    "# submit_v4(selected_model=LinearSVC(max_iter=100000, random_state=42), selected_features=all_dict, param_grid=param_grid_svc)\n",
    "\n",
    "# (Update): This took 66 mins to run and gave a public score of 0.84295 (lesser than logreg gridsearchcv wwhich gave 0.84441). Best C was 1.0.\n"
   ]
  },
  {
   "cell_type": "markdown",
   "id": "846097b6",
   "metadata": {
    "papermill": {
     "duration": 0.113996,
     "end_time": "2023-08-13T01:27:59.777572",
     "exception": false,
     "start_time": "2023-08-13T01:27:59.663576",
     "status": "completed"
    },
    "tags": []
   },
   "source": [
    "### Boosting techniques  "
   ]
  },
  {
   "cell_type": "code",
   "execution_count": 139,
   "id": "64ca95c1",
   "metadata": {
    "execution": {
     "iopub.execute_input": "2023-08-13T01:28:00.036954Z",
     "iopub.status.busy": "2023-08-13T01:28:00.036529Z",
     "iopub.status.idle": "2023-08-13T01:28:00.041717Z",
     "shell.execute_reply": "2023-08-13T01:28:00.040449Z"
    },
    "papermill": {
     "duration": 0.149331,
     "end_time": "2023-08-13T01:28:00.043907",
     "exception": false,
     "start_time": "2023-08-13T01:27:59.894576",
     "status": "completed"
    },
    "tags": []
   },
   "outputs": [],
   "source": [
    "# adc = AdaBoostClassifier(estimator=LogisticRegression(C=5, solver=\"saga\", max_iter=100000), n_estimators=50)\n",
    "# adc"
   ]
  },
  {
   "cell_type": "code",
   "execution_count": 140,
   "id": "6713cc8a",
   "metadata": {
    "execution": {
     "iopub.execute_input": "2023-08-13T01:28:00.276973Z",
     "iopub.status.busy": "2023-08-13T01:28:00.274795Z",
     "iopub.status.idle": "2023-08-13T01:28:00.281375Z",
     "shell.execute_reply": "2023-08-13T01:28:00.280136Z"
    },
    "papermill": {
     "duration": 0.12436,
     "end_time": "2023-08-13T01:28:00.283715",
     "exception": false,
     "start_time": "2023-08-13T01:28:00.159355",
     "status": "completed"
    },
    "tags": []
   },
   "outputs": [],
   "source": [
    "# submit_v4(selected_model=adc, selected_features={'num': [\"audienceScore\"]}, param_grid=None)"
   ]
  },
  {
   "cell_type": "code",
   "execution_count": 141,
   "id": "2263ffbf",
   "metadata": {
    "execution": {
     "iopub.execute_input": "2023-08-13T01:28:00.520392Z",
     "iopub.status.busy": "2023-08-13T01:28:00.519721Z",
     "iopub.status.idle": "2023-08-13T01:28:00.524951Z",
     "shell.execute_reply": "2023-08-13T01:28:00.523774Z"
    },
    "papermill": {
     "duration": 0.128799,
     "end_time": "2023-08-13T01:28:00.527253",
     "exception": false,
     "start_time": "2023-08-13T01:28:00.398454",
     "status": "completed"
    },
    "tags": []
   },
   "outputs": [],
   "source": [
    "# submit_v4(selected_model=adc, selected_features=all_dict, param_grid=None)\n",
    "\n",
    "# Took 1 hour 15 mins to run and gave a public score of only 0.71089. Discarded."
   ]
  },
  {
   "cell_type": "markdown",
   "id": "9d54e759",
   "metadata": {
    "papermill": {
     "duration": 0.114725,
     "end_time": "2023-08-13T01:28:00.756678",
     "exception": false,
     "start_time": "2023-08-13T01:28:00.641953",
     "status": "completed"
    },
    "tags": []
   },
   "source": [
    "### LightGBM  "
   ]
  },
  {
   "cell_type": "code",
   "execution_count": 142,
   "id": "227930fb",
   "metadata": {
    "execution": {
     "iopub.execute_input": "2023-08-13T01:28:00.991945Z",
     "iopub.status.busy": "2023-08-13T01:28:00.991193Z",
     "iopub.status.idle": "2023-08-13T01:28:00.995698Z",
     "shell.execute_reply": "2023-08-13T01:28:00.994609Z"
    },
    "papermill": {
     "duration": 0.125339,
     "end_time": "2023-08-13T01:28:00.998057",
     "exception": false,
     "start_time": "2023-08-13T01:28:00.872718",
     "status": "completed"
    },
    "tags": []
   },
   "outputs": [],
   "source": [
    "# lgb = ltb.LGBMClassifier()\n",
    "# lgb"
   ]
  },
  {
   "cell_type": "code",
   "execution_count": 143,
   "id": "42e72de2",
   "metadata": {
    "execution": {
     "iopub.execute_input": "2023-08-13T01:28:01.231393Z",
     "iopub.status.busy": "2023-08-13T01:28:01.230943Z",
     "iopub.status.idle": "2023-08-13T01:28:01.236187Z",
     "shell.execute_reply": "2023-08-13T01:28:01.234987Z"
    },
    "papermill": {
     "duration": 0.124457,
     "end_time": "2023-08-13T01:28:01.238464",
     "exception": false,
     "start_time": "2023-08-13T01:28:01.114007",
     "status": "completed"
    },
    "tags": []
   },
   "outputs": [],
   "source": [
    "# Try LightGBM with default settings\n",
    "# (Update): Public score only 0.77713. It was fast, took less than 5 mins (without GridSearchCV)\n",
    "\n",
    "# submit_v4(selected_model=ltb.LGBMClassifier(), selected_features=all_dict, param_grid=None)"
   ]
  },
  {
   "cell_type": "markdown",
   "id": "8da8f3a4",
   "metadata": {
    "papermill": {
     "duration": 0.113863,
     "end_time": "2023-08-13T01:28:01.466283",
     "exception": false,
     "start_time": "2023-08-13T01:28:01.352420",
     "status": "completed"
    },
    "tags": []
   },
   "source": [
    "## Feature Engineering"
   ]
  },
  {
   "cell_type": "markdown",
   "id": "4e571720",
   "metadata": {
    "papermill": {
     "duration": 0.116538,
     "end_time": "2023-08-13T01:28:01.700411",
     "exception": false,
     "start_time": "2023-08-13T01:28:01.583873",
     "status": "completed"
    },
    "tags": []
   },
   "source": [
    "### Plan  \n",
    "* Add a new column 'reviewWC' which has word count of 'reviewText'  \n",
    "    * Check if there is any relationship between 'reviewWC' and 'sentiment'\n",
    "* Work on vocabulary\n",
    "     * Use TfidfVectorizer and find out the vocabulary of 'reviewText' column for various ngrams\n",
    "     * Use RecursiveFeatureElimination (RFE) or RFECV to select 1000 top words/vocab for each ngram\n",
    "     * Use the final vocab (1000-3000 words) in the model and see how it performs compared to whole vocab\n",
    "\n",
    "`(Update): Code incorporated into the \"select_features\" function  `  \n",
    "`(Update): Many other new features incorporated into the \"select_features\" function too  `  \n",
    "\n"
   ]
  },
  {
   "cell_type": "markdown",
   "id": "7c6f8862",
   "metadata": {
    "papermill": {
     "duration": 0.115037,
     "end_time": "2023-08-13T01:28:01.930774",
     "exception": false,
     "start_time": "2023-08-13T01:28:01.815737",
     "status": "completed"
    },
    "tags": []
   },
   "source": [
    "# Back to vocab after success of version 63  "
   ]
  },
  {
   "cell_type": "code",
   "execution_count": 144,
   "id": "5acddd53",
   "metadata": {
    "execution": {
     "iopub.execute_input": "2023-08-13T01:28:02.162408Z",
     "iopub.status.busy": "2023-08-13T01:28:02.161997Z",
     "iopub.status.idle": "2023-08-13T01:28:02.184051Z",
     "shell.execute_reply": "2023-08-13T01:28:02.182878Z"
    },
    "papermill": {
     "duration": 0.139585,
     "end_time": "2023-08-13T01:28:02.186381",
     "exception": false,
     "start_time": "2023-08-13T01:28:02.046796",
     "status": "completed"
    },
    "tags": []
   },
   "outputs": [],
   "source": [
    "def submit_v4(selected_model=LogisticRegression(C=1, solver='liblinear', max_iter=100000), \n",
    "              selected_features={'txt': ['reviewText']}, \n",
    "              param_grid=None,\n",
    "              vocab=None,\n",
    "              vocab_usage='tfidf',\n",
    "              strip_accents='unicode', \n",
    "              add_countvec=False):\n",
    "    \n",
    "    print(\"\\nRunning the submit_v4 function...\")\n",
    "    \n",
    "    # Fine tune selected_features\n",
    "    if add_countvec:\n",
    "        if 'txt' in selected_features.keys():\n",
    "            if \"reviewText_2\" not in selected_features['txt']:\n",
    "                selected_features['txt'].append('reviewText_2')\n",
    "    if vocab:\n",
    "        if 'txt' in selected_features.keys():\n",
    "            if \"reviewText_3\" not in selected_features['txt']:\n",
    "                selected_features['txt'].append('reviewText_3')\n",
    "    print(f\"\\nSelected features: {selected_features}\")\n",
    "\n",
    "    \n",
    "    \n",
    "    # Build Pipeline\n",
    "    pipe = build_pipeline(selected_model, selected_features, param_grid=param_grid, \n",
    "                          vocab=vocab, vocab_usage='tfidf', \n",
    "                          strip_accents=strip_accents, add_countvec=add_countvec)\n",
    "    print(pipe)\n",
    "\n",
    "    \n",
    "    \n",
    "    # Features list\n",
    "    features = []\n",
    "    for item in selected_features.values():\n",
    "        features.extend(item)\n",
    " \n",
    "\n",
    "    # Merge and preprocess train and movies data  \n",
    "    merged = select_features(load_csv(\"train\"), load_csv(\"movies\"), row_thresh_null=None)    # Decide if you want to drop any rows containing lot of nulls\n",
    "    # Impute missing numerical values  \n",
    "    # Simple Imputer for ['audienceScore', 'runtimeMinutes', 'boxOffice'] and 'releaseDate' columns\n",
    "    si = SimpleImputer(strategy='median')\n",
    "    merged[['audienceScore', 'runtimeMinutes', 'boxOffice']] = si.fit_transform(merged[['audienceScore', 'runtimeMinutes', 'boxOffice']])\n",
    "    merged['releaseDate'] = merged[\"releaseDate\"].fillna(merged[\"releaseDate\"].median())    \n",
    "    # Add new columns as needed  \n",
    "    if add_countvec:\n",
    "        merged['reviewText_2'] = merged['reviewText']\n",
    "    if vocab:\n",
    "        merged['reviewText_3'] = merged['reviewText']\n",
    "        \n",
    "    X_train = merged.drop(labels=\"sentiment\", axis=1)\n",
    "    y_train = merged[\"sentiment\"]\n",
    "\n",
    "    X_train = X_train[features]\n",
    "    \n",
    "    \n",
    "    # Check1\n",
    "    print(\"\\nCheck 1 complete.\")\n",
    "    print(f\"Shape of X_train: {X_train.shape}\")\n",
    "    print(f\"Features in X_train: {X_train.columns}\")\n",
    "#     print(X_train.head())\n",
    "    \n",
    "    \n",
    "    # Fit \n",
    "    print(\"\\nTraining started with full pipeline...\")\n",
    "    pipe.fit(X_train, y_train)\n",
    "    \n",
    "    # Check2\n",
    "    print(\"\\nCheck 2 complete.\")\n",
    "    print(\"Details of the best model using full pipeline (GridSearchCV) on X_train: \")\n",
    "    print(f\"Best Params: {pipe.best_params_}\")\n",
    "    print(f\"Best Score: {pipe.best_score_}\")\n",
    "    \n",
    "    print(predict_on_missing_review_data(pipe, features, merged))    # Function defined above\n",
    "    \n",
    "        \n",
    "    # Predict on test.csv file\n",
    "    \n",
    "    # Merge and preprocess test and movies data  \n",
    "    merged_test = select_features(load_csv(\"test\"), load_csv(\"movies\"))\n",
    "    # Transform ['audienceScore', 'runtimeMinutes', 'boxOffice'] columns in merged_test using 'si' fitted on 'merged' df  \n",
    "    merged_test[['audienceScore', 'runtimeMinutes', 'boxOffice']] = si.transform(merged_test[['audienceScore', 'runtimeMinutes', 'boxOffice']])\n",
    "    # Fill 'releaseDate' column in 'merged_test' df with median from the train (merged) df  \n",
    "    merged_test['releaseDate'] = merged_test[\"releaseDate\"].fillna(merged[\"releaseDate\"].median())\n",
    "    # Add new columns as needed \n",
    "    if add_countvec:\n",
    "        merged_test['reviewText_2'] = merged_test['reviewText']\n",
    "    if vocab:\n",
    "        merged_test['reviewText_3'] = merged_test['reviewText']\n",
    "        \n",
    "    X_test = merged_test.copy()\n",
    "\n",
    "    X_test = X_test[features]\n",
    "    \n",
    "    \n",
    "    # Check3\n",
    "    print(\"\\nCheck 3 complete.\")\n",
    "    print(f\"Shape of X_test: {X_test.shape}\")\n",
    "    print(f\"Features in X_test: {X_test.columns}\")\n",
    "#     print(X_test.head())\n",
    "    \n",
    "    y_pred = pipe.predict(X_test)\n",
    "    \n",
    "    # Check4\n",
    "    print(\"\\nCheck 4 complete.\")\n",
    "#     cv_results_df = pd.DataFrame(pipe.cv_results_)\n",
    "    print(\"Details of the best model using full pipeline (GridSearchCV) on X_train: \")\n",
    "    print(f\"Best Estimator: {pipe.best_estimator_}\")\n",
    "    print(f\"Best Params: {pipe.best_params_}\")\n",
    "    print(f\"Best Score: {pipe.best_score_}\")\n",
    "    print(f\"Best Index: {pipe.best_index_}\")\n",
    "    print(f\"Refit Time: {pipe.refit_time_}\")\n",
    "#     print(f\"Shape of CV results dataframe: {cv_results_df.shape}\")\n",
    "    \n",
    "    pred_df = pd.DataFrame(y_pred)\n",
    "    pred_df.columns = [\"sentiment\"]\n",
    "    pred_df.index.name = \"id\"\n",
    "    pred_df.to_csv(\"submission.csv\")\n",
    "    \n",
    "    print(\"\\nSuccessfully created the submission file!!!\")\n",
    "    \n",
    "    return pipe.cv_results_"
   ]
  },
  {
   "cell_type": "code",
   "execution_count": 145,
   "id": "3535512f",
   "metadata": {
    "execution": {
     "iopub.execute_input": "2023-08-13T01:28:02.420491Z",
     "iopub.status.busy": "2023-08-13T01:28:02.420068Z",
     "iopub.status.idle": "2023-08-13T01:28:02.427628Z",
     "shell.execute_reply": "2023-08-13T01:28:02.426346Z"
    },
    "papermill": {
     "duration": 0.126665,
     "end_time": "2023-08-13T01:28:02.429935",
     "exception": false,
     "start_time": "2023-08-13T01:28:02.303270",
     "status": "completed"
    },
    "tags": []
   },
   "outputs": [
    {
     "data": {
      "text/plain": [
       "Index(['movieid', 'reviewerName', 'isFrequentReviewer', 'reviewText',\n",
       "       'sentiment', 'title', 'audienceScore', 'rating', 'ratingContents',\n",
       "       'releaseDateTheaters', 'releaseDateStreaming', 'runtimeMinutes',\n",
       "       'genre', 'originalLanguage', 'director', 'boxOffice', 'distributor',\n",
       "       'soundType', 'reviewYN', 'reviewWC', 'genreSorted', 'rcSorted',\n",
       "       'releaseDate', 'releaseYear', 'releaseMonth', 'releaseDiff'],\n",
       "      dtype='object')"
      ]
     },
     "execution_count": 145,
     "metadata": {},
     "output_type": "execute_result"
    }
   ],
   "source": [
    "merged.columns"
   ]
  },
  {
   "cell_type": "code",
   "execution_count": 146,
   "id": "aa9a1bb9",
   "metadata": {
    "execution": {
     "iopub.execute_input": "2023-08-13T01:28:02.664305Z",
     "iopub.status.busy": "2023-08-13T01:28:02.663854Z",
     "iopub.status.idle": "2023-08-13T01:28:02.674633Z",
     "shell.execute_reply": "2023-08-13T01:28:02.673801Z"
    },
    "papermill": {
     "duration": 0.131537,
     "end_time": "2023-08-13T01:28:02.676937",
     "exception": false,
     "start_time": "2023-08-13T01:28:02.545400",
     "status": "completed"
    },
    "tags": []
   },
   "outputs": [],
   "source": [
    "# Best #2\n",
    "v80_dict = {'cat': ['isFrequentReviewer', 'audScoreBins', 'boxOfficeBins'], \n",
    "                  'txt': ['reviewText', 'reviewerName', 'movieid', 'genre', 'director', \n",
    "                          'ratingContents', 'distributor']}\n",
    "# Best #1\n",
    "v88_dict = {'cat': ['isFrequentReviewer', 'audScoreBins', 'boxOfficeBins'],\n",
    "            'num': ['releaseDiff'],\n",
    "            'txt': ['reviewText', 'reviewerName', 'movieid', 'genre', 'director', \n",
    "                         'ratingContents', 'distributor']}\n",
    "\n",
    "v92_dict = {'cat': ['isFrequentReviewer', 'audScoreBins', 'boxOfficeBins', 'releaseDiffBins'],\n",
    "            'txt': ['reviewText', 'reviewerName', 'title', 'genre', 'director', \n",
    "                         'ratingContents', 'distributor']}\n",
    "\n",
    "# Best univariable datapoints dict\n",
    "best_uni_dict = {'cat': [\"isFrequentReviewer\", \"audScoreBins\"],\n",
    "                 'txt': ['reviewText','movieid', 'director', \"ratingContents\"]}\n",
    "\n",
    "# param_grids for LogisticRegression  \n",
    "\n",
    "# Best #1  \n",
    "# param_grid = {\n",
    "#     'model__C' : [1],\n",
    "#     'model__solver': ['saga'],\n",
    "#     \"model__fit_intercept\" : [True],\n",
    "#     \"model__dual\" : [False]\n",
    "#     }\n",
    "\n",
    "# working\n",
    "param_grid = {\n",
    "    'model__C' : [1],\n",
    "    'model__solver': ['saga'],\n",
    "    \"model__fit_intercept\" : [True],\n",
    "    \"model__dual\" : [False],\n",
    "#     \"model__class_weight\": ['balanced', None]\n",
    "}\n",
    "\n",
    "\n",
    "# param_grids for LinearSVC  \n",
    "\n",
    "# param_grid = {\n",
    "#     'model__C' : [1, 10, 20],\n",
    "#     'model__loss': ['hinge', 'squared_hinge'],\n",
    "#     \"model__fit_intercept\" : [True, False],\n",
    "# #     \"model__dual\" : [True, False] \n",
    "# }\n",
    "\n",
    "svm = LinearSVC(max_iter=10000, random_state=42)    # LinearSVC\n",
    "\n",
    "\n",
    "# Local testing\n",
    "# selected_mov = {'num': ['audienceScore', 'boxOffice', 'releaseDiff'], \n",
    "#                 'txt': ['movieid', 'genre', 'director', \n",
    "#                          'ratingContents', 'distributor']}\n",
    "# results = submit_v4(\n",
    "#             selected_features={'num': ['boxOffice']},\n",
    "#             add_countvec=False,\n",
    "#             vocab=None,\n",
    "#             vocab_usage='tfidf',\n",
    "#             param_grid=param_grid\n",
    "#          )\n",
    "\n",
    "# results = submit_v4(selected_model = DummyClassifier(strategy='constant', constant='NEGATIVE'),\n",
    "#             selected_features={'num': ['boxOffice']},\n",
    "#             add_countvec=False,\n",
    "#             vocab=None,\n",
    "#             vocab_usage='tfidf',\n",
    "#             param_grid={'model__strategy' : ['constant']}\n",
    "#          )\n",
    "\n",
    "# Main submission\n",
    "\n",
    "# results = submit_v4(\n",
    "#     selected_features=v88_dict,\n",
    "#     add_countvec=False,\n",
    "#     vocab=common_1_2_3_grams,\n",
    "#     vocab_usage='tfidf',\n",
    "#     param_grid=param_grid\n",
    "#     )\n",
    "\n",
    "# results"
   ]
  },
  {
   "cell_type": "markdown",
   "id": "eb79f79f",
   "metadata": {
    "papermill": {
     "duration": 0.115437,
     "end_time": "2023-08-13T01:28:02.908880",
     "exception": false,
     "start_time": "2023-08-13T01:28:02.793443",
     "status": "completed"
    },
    "tags": []
   },
   "source": [
    "### ratingContents analysis  "
   ]
  },
  {
   "cell_type": "code",
   "execution_count": 147,
   "id": "f02718ef",
   "metadata": {
    "execution": {
     "iopub.execute_input": "2023-08-13T01:28:03.142252Z",
     "iopub.status.busy": "2023-08-13T01:28:03.141451Z",
     "iopub.status.idle": "2023-08-13T01:28:03.145726Z",
     "shell.execute_reply": "2023-08-13T01:28:03.144646Z"
    },
    "papermill": {
     "duration": 0.123409,
     "end_time": "2023-08-13T01:28:03.148301",
     "exception": false,
     "start_time": "2023-08-13T01:28:03.024892",
     "status": "completed"
    },
    "tags": []
   },
   "outputs": [],
   "source": [
    "# Try string split  \n",
    "# s = \"comedy, animation, adventure, fantasy\"\n",
    "# (\",\").join(sorted(s.split(\", \")))"
   ]
  },
  {
   "cell_type": "code",
   "execution_count": 148,
   "id": "e253a612",
   "metadata": {
    "execution": {
     "iopub.execute_input": "2023-08-13T01:28:03.454616Z",
     "iopub.status.busy": "2023-08-13T01:28:03.454204Z",
     "iopub.status.idle": "2023-08-13T01:28:03.459568Z",
     "shell.execute_reply": "2023-08-13T01:28:03.458313Z"
    },
    "papermill": {
     "duration": 0.196642,
     "end_time": "2023-08-13T01:28:03.461779",
     "exception": false,
     "start_time": "2023-08-13T01:28:03.265137",
     "status": "completed"
    },
    "tags": []
   },
   "outputs": [],
   "source": [
    "# ratingContents_analysis = merged[[\"ratingContents\", \"sentiment\"]].copy()\n",
    "# print(ratingContents_analysis.head())\n",
    "# ratingContents_analysis[\"rcSorted\"] = ratingContents_analysis[\"ratingContents\"].apply(lambda x: (\",\").join(sorted(x.strip(\"][\").split(\", \"))))\n",
    "# ratingContents_analysis[\"rcSorted\"] = ratingContents_analysis[\"rcSorted\"].apply(lambda x: re.sub(r\"'\", \"\", x))\n",
    "# ratingContents_analysis[\"rcSorted\"] = ratingContents_analysis[\"rcSorted\"].apply(lambda x: re.sub(r\"[/\\s]\", \"_\", x))\n",
    "# ratingContents_analysis.head(10)"
   ]
  },
  {
   "cell_type": "code",
   "execution_count": 149,
   "id": "38b52acd",
   "metadata": {
    "execution": {
     "iopub.execute_input": "2023-08-13T01:28:03.695847Z",
     "iopub.status.busy": "2023-08-13T01:28:03.694786Z",
     "iopub.status.idle": "2023-08-13T01:28:03.699944Z",
     "shell.execute_reply": "2023-08-13T01:28:03.698849Z"
    },
    "papermill": {
     "duration": 0.125152,
     "end_time": "2023-08-13T01:28:03.702460",
     "exception": false,
     "start_time": "2023-08-13T01:28:03.577308",
     "status": "completed"
    },
    "tags": []
   },
   "outputs": [],
   "source": [
    "# cvec_rc = CountVectorizer(ngram_range=(1,1))\n",
    "# cvec_rc.fit(ratingContents_analysis['rcSorted'])\n",
    "# # len(cvec_rc.vocabulary_), cvec_rc.vocabulary_"
   ]
  },
  {
   "cell_type": "code",
   "execution_count": 150,
   "id": "f723c282",
   "metadata": {
    "execution": {
     "iopub.execute_input": "2023-08-13T01:28:03.935137Z",
     "iopub.status.busy": "2023-08-13T01:28:03.934664Z",
     "iopub.status.idle": "2023-08-13T01:28:03.938971Z",
     "shell.execute_reply": "2023-08-13T01:28:03.938171Z"
    },
    "papermill": {
     "duration": 0.123335,
     "end_time": "2023-08-13T01:28:03.941495",
     "exception": false,
     "start_time": "2023-08-13T01:28:03.818160",
     "status": "completed"
    },
    "tags": []
   },
   "outputs": [],
   "source": [
    "# genre_testing = cvec_g.transform(merged[\"genre\"])\n",
    "# print(genre_testing)"
   ]
  },
  {
   "cell_type": "markdown",
   "id": "d86f1bec",
   "metadata": {
    "papermill": {
     "duration": 0.11503,
     "end_time": "2023-08-13T01:28:04.172842",
     "exception": false,
     "start_time": "2023-08-13T01:28:04.057812",
     "status": "completed"
    },
    "tags": []
   },
   "source": [
    "## Statistical tests  "
   ]
  },
  {
   "cell_type": "markdown",
   "id": "acc9d199",
   "metadata": {
    "papermill": {
     "duration": 0.114508,
     "end_time": "2023-08-13T01:28:04.402497",
     "exception": false,
     "start_time": "2023-08-13T01:28:04.287989",
     "status": "completed"
    },
    "tags": []
   },
   "source": [
    "[Go to genre](#genre_analysis)"
   ]
  },
  {
   "cell_type": "code",
   "execution_count": 151,
   "id": "636b2fbf",
   "metadata": {
    "execution": {
     "iopub.execute_input": "2023-08-13T01:28:04.634244Z",
     "iopub.status.busy": "2023-08-13T01:28:04.633779Z",
     "iopub.status.idle": "2023-08-13T01:28:04.638662Z",
     "shell.execute_reply": "2023-08-13T01:28:04.637666Z"
    },
    "papermill": {
     "duration": 0.123814,
     "end_time": "2023-08-13T01:28:04.640801",
     "exception": false,
     "start_time": "2023-08-13T01:28:04.516987",
     "status": "completed"
    },
    "tags": []
   },
   "outputs": [],
   "source": [
    "# print(merged['boxOffice'].head())\n",
    "# merged[\"boxOffice\"].describe()"
   ]
  },
  {
   "cell_type": "code",
   "execution_count": 152,
   "id": "e66e06a6",
   "metadata": {
    "execution": {
     "iopub.execute_input": "2023-08-13T01:28:04.873564Z",
     "iopub.status.busy": "2023-08-13T01:28:04.873145Z",
     "iopub.status.idle": "2023-08-13T01:28:04.878498Z",
     "shell.execute_reply": "2023-08-13T01:28:04.877364Z"
    },
    "papermill": {
     "duration": 0.125359,
     "end_time": "2023-08-13T01:28:04.880870",
     "exception": false,
     "start_time": "2023-08-13T01:28:04.755511",
     "status": "completed"
    },
    "tags": []
   },
   "outputs": [],
   "source": [
    "# Function for independent samples t-test on numerical columns  \n",
    "# def ttest_ind(feature):\n",
    "#     pos_grp = merged[feature].loc[merged['sentiment'] == \"POSITIVE\"]\n",
    "#     neg_grp = merged[feature].loc[merged['sentiment'] == \"NEGATIVE\"]\n",
    "\n",
    "#     print(pos_grp.shape, neg_grp.shape)\n",
    "#     print(pos_grp.describe(), neg_grp.describe())\n",
    "\n",
    "#     return stats.ttest_ind(pos_grp, neg_grp)"
   ]
  },
  {
   "cell_type": "code",
   "execution_count": 153,
   "id": "ba18b02e",
   "metadata": {
    "execution": {
     "iopub.execute_input": "2023-08-13T01:28:05.113217Z",
     "iopub.status.busy": "2023-08-13T01:28:05.112754Z",
     "iopub.status.idle": "2023-08-13T01:28:05.117560Z",
     "shell.execute_reply": "2023-08-13T01:28:05.116566Z"
    },
    "papermill": {
     "duration": 0.12398,
     "end_time": "2023-08-13T01:28:05.120016",
     "exception": false,
     "start_time": "2023-08-13T01:28:04.996036",
     "status": "completed"
    },
    "tags": []
   },
   "outputs": [],
   "source": [
    "# ttest_ind('boxOffice')"
   ]
  },
  {
   "cell_type": "code",
   "execution_count": 154,
   "id": "c65508ca",
   "metadata": {
    "execution": {
     "iopub.execute_input": "2023-08-13T01:28:05.351670Z",
     "iopub.status.busy": "2023-08-13T01:28:05.351266Z",
     "iopub.status.idle": "2023-08-13T01:28:05.356339Z",
     "shell.execute_reply": "2023-08-13T01:28:05.355166Z"
    },
    "papermill": {
     "duration": 0.123423,
     "end_time": "2023-08-13T01:28:05.358642",
     "exception": false,
     "start_time": "2023-08-13T01:28:05.235219",
     "status": "completed"
    },
    "tags": []
   },
   "outputs": [],
   "source": [
    "# ttest_ind('runtimeMinutes')"
   ]
  },
  {
   "cell_type": "code",
   "execution_count": 155,
   "id": "5f22055f",
   "metadata": {
    "execution": {
     "iopub.execute_input": "2023-08-13T01:28:05.589971Z",
     "iopub.status.busy": "2023-08-13T01:28:05.589508Z",
     "iopub.status.idle": "2023-08-13T01:28:05.594036Z",
     "shell.execute_reply": "2023-08-13T01:28:05.592996Z"
    },
    "papermill": {
     "duration": 0.122971,
     "end_time": "2023-08-13T01:28:05.596128",
     "exception": false,
     "start_time": "2023-08-13T01:28:05.473157",
     "status": "completed"
    },
    "tags": []
   },
   "outputs": [],
   "source": [
    "# ttest_ind('audienceScore')"
   ]
  },
  {
   "cell_type": "code",
   "execution_count": 156,
   "id": "e0320fd6",
   "metadata": {
    "execution": {
     "iopub.execute_input": "2023-08-13T01:28:05.828521Z",
     "iopub.status.busy": "2023-08-13T01:28:05.828141Z",
     "iopub.status.idle": "2023-08-13T01:28:05.832470Z",
     "shell.execute_reply": "2023-08-13T01:28:05.831439Z"
    },
    "papermill": {
     "duration": 0.122781,
     "end_time": "2023-08-13T01:28:05.834727",
     "exception": false,
     "start_time": "2023-08-13T01:28:05.711946",
     "status": "completed"
    },
    "tags": []
   },
   "outputs": [],
   "source": [
    "# sns.boxplot(x=merged['sentiment'], y=merged['boxOffice'])"
   ]
  },
  {
   "cell_type": "markdown",
   "id": "8a782582",
   "metadata": {
    "papermill": {
     "duration": 0.115589,
     "end_time": "2023-08-13T01:28:06.066207",
     "exception": false,
     "start_time": "2023-08-13T01:28:05.950618",
     "status": "completed"
    },
    "tags": []
   },
   "source": [
    "## <div id='genre_analysis'>Genre analysis</div>"
   ]
  },
  {
   "cell_type": "code",
   "execution_count": 157,
   "id": "99b09d69",
   "metadata": {
    "execution": {
     "iopub.execute_input": "2023-08-13T01:28:06.296739Z",
     "iopub.status.busy": "2023-08-13T01:28:06.296345Z",
     "iopub.status.idle": "2023-08-13T01:28:06.301367Z",
     "shell.execute_reply": "2023-08-13T01:28:06.300131Z"
    },
    "papermill": {
     "duration": 0.122953,
     "end_time": "2023-08-13T01:28:06.303674",
     "exception": false,
     "start_time": "2023-08-13T01:28:06.180721",
     "status": "completed"
    },
    "tags": []
   },
   "outputs": [],
   "source": [
    "# genre_analysis = merged[[\"genre\", \"genreSorted\", \"sentiment\"]].copy()\n",
    "# # print(genre_analysis.head())\n",
    "# # genre_analysis[\"genre\"] = genre_analysis[\"genre\"].apply(lambda x: (\",\").join(sorted(x.split(\", \"))))\n",
    "# genre_analysis.head()"
   ]
  },
  {
   "cell_type": "code",
   "execution_count": 158,
   "id": "6708a2a5",
   "metadata": {
    "execution": {
     "iopub.execute_input": "2023-08-13T01:28:06.537055Z",
     "iopub.status.busy": "2023-08-13T01:28:06.535606Z",
     "iopub.status.idle": "2023-08-13T01:28:06.540364Z",
     "shell.execute_reply": "2023-08-13T01:28:06.539521Z"
    },
    "papermill": {
     "duration": 0.124292,
     "end_time": "2023-08-13T01:28:06.542634",
     "exception": false,
     "start_time": "2023-08-13T01:28:06.418342",
     "status": "completed"
    },
    "tags": []
   },
   "outputs": [],
   "source": [
    "# cvec_g = CountVectorizer(ngram_range=(1,3))\n",
    "# cvec_g.fit(genre_analysis['genre'])\n",
    "# # len(cvec_g.vocabulary_), cvec_g.vocabulary_"
   ]
  },
  {
   "cell_type": "code",
   "execution_count": 159,
   "id": "29c5fe1d",
   "metadata": {
    "execution": {
     "iopub.execute_input": "2023-08-13T01:28:06.776407Z",
     "iopub.status.busy": "2023-08-13T01:28:06.775662Z",
     "iopub.status.idle": "2023-08-13T01:28:06.779583Z",
     "shell.execute_reply": "2023-08-13T01:28:06.778856Z"
    },
    "papermill": {
     "duration": 0.121782,
     "end_time": "2023-08-13T01:28:06.781781",
     "exception": false,
     "start_time": "2023-08-13T01:28:06.659999",
     "status": "completed"
    },
    "tags": []
   },
   "outputs": [],
   "source": [
    "# cvec_gSorted = CountVectorizer(ngram_range=(1,3))\n",
    "# cvec_gSorted.fit(genre_analysis['genreSorted'])\n",
    "# len(cvec_gSorted.vocabulary_), cvec_gSorted.vocabulary_"
   ]
  },
  {
   "cell_type": "code",
   "execution_count": 160,
   "id": "82d00974",
   "metadata": {
    "execution": {
     "iopub.execute_input": "2023-08-13T01:28:07.015746Z",
     "iopub.status.busy": "2023-08-13T01:28:07.015102Z",
     "iopub.status.idle": "2023-08-13T01:28:07.018900Z",
     "shell.execute_reply": "2023-08-13T01:28:07.018156Z"
    },
    "papermill": {
     "duration": 0.124369,
     "end_time": "2023-08-13T01:28:07.021355",
     "exception": false,
     "start_time": "2023-08-13T01:28:06.896986",
     "status": "completed"
    },
    "tags": []
   },
   "outputs": [],
   "source": [
    "# genre_testing = cvec_g.transform(merged[\"genre\"])\n",
    "# # print(genre_testing)"
   ]
  },
  {
   "cell_type": "code",
   "execution_count": 161,
   "id": "1ae524d1",
   "metadata": {
    "execution": {
     "iopub.execute_input": "2023-08-13T01:28:07.253318Z",
     "iopub.status.busy": "2023-08-13T01:28:07.252533Z",
     "iopub.status.idle": "2023-08-13T01:28:07.256961Z",
     "shell.execute_reply": "2023-08-13T01:28:07.255846Z"
    },
    "papermill": {
     "duration": 0.123642,
     "end_time": "2023-08-13T01:28:07.259405",
     "exception": false,
     "start_time": "2023-08-13T01:28:07.135763",
     "status": "completed"
    },
    "tags": []
   },
   "outputs": [],
   "source": [
    "# genre_counts_testing = merged[[\"genre\", \"sentiment\"]].copy()\n",
    "# genre_counts_testing[\"gCount\"] = genre_counts_testing.apply(lambda x: len(str(x[\"genre\"]).split()), axis=1)\n",
    "# genre_counts_testing"
   ]
  },
  {
   "cell_type": "code",
   "execution_count": 162,
   "id": "4b44412f",
   "metadata": {
    "execution": {
     "iopub.execute_input": "2023-08-13T01:28:07.492475Z",
     "iopub.status.busy": "2023-08-13T01:28:07.491788Z",
     "iopub.status.idle": "2023-08-13T01:28:07.495984Z",
     "shell.execute_reply": "2023-08-13T01:28:07.495157Z"
    },
    "papermill": {
     "duration": 0.123591,
     "end_time": "2023-08-13T01:28:07.498520",
     "exception": false,
     "start_time": "2023-08-13T01:28:07.374929",
     "status": "completed"
    },
    "tags": []
   },
   "outputs": [],
   "source": [
    "# sns.boxplot(y=genre_counts_testing[\"gCount\"], x=genre_counts_testing[\"sentiment\"])"
   ]
  },
  {
   "cell_type": "code",
   "execution_count": 163,
   "id": "83f5ca80",
   "metadata": {
    "execution": {
     "iopub.execute_input": "2023-08-13T01:28:07.732993Z",
     "iopub.status.busy": "2023-08-13T01:28:07.732294Z",
     "iopub.status.idle": "2023-08-13T01:28:07.736477Z",
     "shell.execute_reply": "2023-08-13T01:28:07.735462Z"
    },
    "papermill": {
     "duration": 0.124649,
     "end_time": "2023-08-13T01:28:07.739043",
     "exception": false,
     "start_time": "2023-08-13T01:28:07.614394",
     "status": "completed"
    },
    "tags": []
   },
   "outputs": [],
   "source": [
    "# sns.boxplot(y=merged[\"reviewWC\"], x=merged[\"sentiment\"])"
   ]
  },
  {
   "cell_type": "code",
   "execution_count": 164,
   "id": "a12f0c41",
   "metadata": {
    "execution": {
     "iopub.execute_input": "2023-08-13T01:28:07.973148Z",
     "iopub.status.busy": "2023-08-13T01:28:07.972421Z",
     "iopub.status.idle": "2023-08-13T01:28:07.976750Z",
     "shell.execute_reply": "2023-08-13T01:28:07.975522Z"
    },
    "papermill": {
     "duration": 0.123953,
     "end_time": "2023-08-13T01:28:07.979166",
     "exception": false,
     "start_time": "2023-08-13T01:28:07.855213",
     "status": "completed"
    },
    "tags": []
   },
   "outputs": [],
   "source": [
    "# audienceScore bins\n",
    "# asc = merged[['audienceScore', 'sentiment']].copy()\n",
    "# asc.head()"
   ]
  },
  {
   "cell_type": "code",
   "execution_count": 165,
   "id": "f3943a4f",
   "metadata": {
    "execution": {
     "iopub.execute_input": "2023-08-13T01:28:08.212418Z",
     "iopub.status.busy": "2023-08-13T01:28:08.212006Z",
     "iopub.status.idle": "2023-08-13T01:28:08.216451Z",
     "shell.execute_reply": "2023-08-13T01:28:08.215295Z"
    },
    "papermill": {
     "duration": 0.122888,
     "end_time": "2023-08-13T01:28:08.218718",
     "exception": false,
     "start_time": "2023-08-13T01:28:08.095830",
     "status": "completed"
    },
    "tags": []
   },
   "outputs": [],
   "source": [
    "# Binning numerical features  \n",
    "\n",
    "# print(merged[\"runtimeBins\"].value_counts())\n",
    "# sns.displot(merged[\"runtimeBins\"])"
   ]
  },
  {
   "cell_type": "code",
   "execution_count": 166,
   "id": "c574ac1e",
   "metadata": {
    "execution": {
     "iopub.execute_input": "2023-08-13T01:28:08.452155Z",
     "iopub.status.busy": "2023-08-13T01:28:08.451403Z",
     "iopub.status.idle": "2023-08-13T01:28:08.455870Z",
     "shell.execute_reply": "2023-08-13T01:28:08.454674Z"
    },
    "papermill": {
     "duration": 0.125188,
     "end_time": "2023-08-13T01:28:08.458420",
     "exception": false,
     "start_time": "2023-08-13T01:28:08.333232",
     "status": "completed"
    },
    "tags": []
   },
   "outputs": [],
   "source": [
    "# Chi-square test for isFrequentReviewer column and sentiment column   \n",
    "\n",
    "# contingency_table = pd.crosstab(traindf['isFrequentReviewer'], traindf['sentiment'])\n",
    "# print(contingency_table)\n",
    "# stats.chi2_contingency(contingency_table)"
   ]
  },
  {
   "cell_type": "markdown",
   "id": "0e411743",
   "metadata": {
    "papermill": {
     "duration": 0.116259,
     "end_time": "2023-08-13T01:28:08.690549",
     "exception": false,
     "start_time": "2023-08-13T01:28:08.574290",
     "status": "completed"
    },
    "tags": []
   },
   "source": [
    "## Baseline performance of 'reviewText' column  "
   ]
  },
  {
   "cell_type": "code",
   "execution_count": 167,
   "id": "72c2233e",
   "metadata": {
    "execution": {
     "iopub.execute_input": "2023-08-13T01:28:08.923971Z",
     "iopub.status.busy": "2023-08-13T01:28:08.923249Z",
     "iopub.status.idle": "2023-08-13T01:28:08.927051Z",
     "shell.execute_reply": "2023-08-13T01:28:08.926291Z"
    },
    "papermill": {
     "duration": 0.122842,
     "end_time": "2023-08-13T01:28:08.929226",
     "exception": false,
     "start_time": "2023-08-13T01:28:08.806384",
     "status": "completed"
    },
    "tags": []
   },
   "outputs": [],
   "source": [
    "# rt_dict = {'txt': ['reviewText']}\n",
    "# rt_dict"
   ]
  },
  {
   "cell_type": "code",
   "execution_count": 168,
   "id": "d04c6ae8",
   "metadata": {
    "execution": {
     "iopub.execute_input": "2023-08-13T01:28:09.163472Z",
     "iopub.status.busy": "2023-08-13T01:28:09.162793Z",
     "iopub.status.idle": "2023-08-13T01:28:09.166630Z",
     "shell.execute_reply": "2023-08-13T01:28:09.165928Z"
    },
    "papermill": {
     "duration": 0.122348,
     "end_time": "2023-08-13T01:28:09.168650",
     "exception": false,
     "start_time": "2023-08-13T01:28:09.046302",
     "status": "completed"
    },
    "tags": []
   },
   "outputs": [],
   "source": [
    "# submit_v4(selected_model=LogisticRegression(C=5, solver=\"saga\", max_iter=100000),\n",
    "#           selected_features=rt_dict,\n",
    "#           param_grid=None,\n",
    "#           vocab=None)"
   ]
  },
  {
   "cell_type": "markdown",
   "id": "048392d9",
   "metadata": {
    "papermill": {
     "duration": 0.186692,
     "end_time": "2023-08-13T01:28:09.471912",
     "exception": false,
     "start_time": "2023-08-13T01:28:09.285220",
     "status": "completed"
    },
    "tags": []
   },
   "source": [
    "## RFE  "
   ]
  },
  {
   "cell_type": "code",
   "execution_count": 169,
   "id": "43fc64a1",
   "metadata": {
    "execution": {
     "iopub.execute_input": "2023-08-13T01:28:09.707979Z",
     "iopub.status.busy": "2023-08-13T01:28:09.707288Z",
     "iopub.status.idle": "2023-08-13T01:28:09.711923Z",
     "shell.execute_reply": "2023-08-13T01:28:09.711134Z"
    },
    "papermill": {
     "duration": 0.124934,
     "end_time": "2023-08-13T01:28:09.714130",
     "exception": false,
     "start_time": "2023-08-13T01:28:09.589196",
     "status": "completed"
    },
    "tags": []
   },
   "outputs": [],
   "source": [
    "# def fs_rfe(selector, text_df, labels, ngram_range=(1,1)):\n",
    "#     text_df_ngram = TfidfVectorizer(ngram_range=ngram_range, stop_words='english').fit_transform(text_df)\n",
    "#     print(\"text_df was vectorized using TF-IDF vectorizer with ngram_range: \", ngram_range)\n",
    "#     print(\"text_df.shape: \", text_df.shape)\n",
    "#     print(\"labels.shape: \", labels.shape)\n",
    "#     print(\"text_df_ngram.shape: \", text_df_ngram.shape)\n",
    "#     print()\n",
    "\n",
    "#     print(\"Starting RFE fit...\")\n",
    "#     selector.fit(text_df_ngram, labels)\n",
    "#     print(\"RFE fit complete.\\n\")\n",
    "    \n",
    "#     print(\"selector.n_features_: \", selector.n_features_)   \n",
    "#     print(\"selector.n_features_in_: \", selector.n_features_in_)\n",
    "#     print(\"selector.support_.shape: \", selector.support_.shape)\n",
    "\n",
    "#     return selector.support_"
   ]
  },
  {
   "cell_type": "markdown",
   "id": "d6491cb4",
   "metadata": {
    "papermill": {
     "duration": 0.131159,
     "end_time": "2023-08-13T01:28:09.965134",
     "exception": false,
     "start_time": "2023-08-13T01:28:09.833975",
     "status": "completed"
    },
    "tags": []
   },
   "source": [
    "`RFE for unigrams`  "
   ]
  },
  {
   "cell_type": "code",
   "execution_count": 170,
   "id": "c3f4b7bf",
   "metadata": {
    "execution": {
     "iopub.execute_input": "2023-08-13T01:28:10.203655Z",
     "iopub.status.busy": "2023-08-13T01:28:10.202847Z",
     "iopub.status.idle": "2023-08-13T01:28:10.206914Z",
     "shell.execute_reply": "2023-08-13T01:28:10.206148Z"
    },
    "papermill": {
     "duration": 0.123413,
     "end_time": "2023-08-13T01:28:10.209408",
     "exception": false,
     "start_time": "2023-08-13T01:28:10.085995",
     "status": "completed"
    },
    "tags": []
   },
   "outputs": [],
   "source": [
    "# estimator_rfe_1 = LogisticRegression(solver='saga', max_iter=100000)\n",
    "# selector_rfe_1 = RFE(estimator_rfe_1, step=0.1, n_features_to_select=30000)"
   ]
  },
  {
   "cell_type": "code",
   "execution_count": 171,
   "id": "4418d5b4",
   "metadata": {
    "execution": {
     "iopub.execute_input": "2023-08-13T01:28:10.441928Z",
     "iopub.status.busy": "2023-08-13T01:28:10.441199Z",
     "iopub.status.idle": "2023-08-13T01:28:10.445543Z",
     "shell.execute_reply": "2023-08-13T01:28:10.444523Z"
    },
    "papermill": {
     "duration": 0.122379,
     "end_time": "2023-08-13T01:28:10.448118",
     "exception": false,
     "start_time": "2023-08-13T01:28:10.325739",
     "status": "completed"
    },
    "tags": []
   },
   "outputs": [],
   "source": [
    "# rfe_1_feat_mask = fs_rfe(selector_rfe_1, rt_senti[\"reviewText\"], rt_senti[\"sentiment\"], ngram_range=(1,1))\n",
    "# rfe_1_feat_mask"
   ]
  },
  {
   "cell_type": "code",
   "execution_count": 172,
   "id": "0c4237ac",
   "metadata": {
    "execution": {
     "iopub.execute_input": "2023-08-13T01:28:10.687692Z",
     "iopub.status.busy": "2023-08-13T01:28:10.686952Z",
     "iopub.status.idle": "2023-08-13T01:28:10.690959Z",
     "shell.execute_reply": "2023-08-13T01:28:10.690233Z"
    },
    "papermill": {
     "duration": 0.127016,
     "end_time": "2023-08-13T01:28:10.693153",
     "exception": false,
     "start_time": "2023-08-13T01:28:10.566137",
     "status": "completed"
    },
    "tags": []
   },
   "outputs": [],
   "source": [
    "# voc_1gram_rfe = list(compress(voc_1gram, rfe_1_feat_mask))\n",
    "# len(voc_1gram_rfe), voc_1gram_rfe[:10]"
   ]
  },
  {
   "cell_type": "markdown",
   "id": "a517da00",
   "metadata": {
    "papermill": {
     "duration": 0.113744,
     "end_time": "2023-08-13T01:28:10.923955",
     "exception": false,
     "start_time": "2023-08-13T01:28:10.810211",
     "status": "completed"
    },
    "tags": []
   },
   "source": [
    "`RFE for bigrams`  "
   ]
  },
  {
   "cell_type": "code",
   "execution_count": 173,
   "id": "51b8f981",
   "metadata": {
    "execution": {
     "iopub.execute_input": "2023-08-13T01:28:11.157446Z",
     "iopub.status.busy": "2023-08-13T01:28:11.156590Z",
     "iopub.status.idle": "2023-08-13T01:28:11.160922Z",
     "shell.execute_reply": "2023-08-13T01:28:11.160101Z"
    },
    "papermill": {
     "duration": 0.123237,
     "end_time": "2023-08-13T01:28:11.163216",
     "exception": false,
     "start_time": "2023-08-13T01:28:11.039979",
     "status": "completed"
    },
    "tags": []
   },
   "outputs": [],
   "source": [
    "# estimator_rfe_2 = LogisticRegression(solver='saga', max_iter=100000)\n",
    "# selector_rfe_2 = RFE(estimator_rfe_2, step=0.1, n_features_to_select=50000)"
   ]
  },
  {
   "cell_type": "code",
   "execution_count": 174,
   "id": "8ac6d104",
   "metadata": {
    "execution": {
     "iopub.execute_input": "2023-08-13T01:28:11.398433Z",
     "iopub.status.busy": "2023-08-13T01:28:11.397734Z",
     "iopub.status.idle": "2023-08-13T01:28:11.401895Z",
     "shell.execute_reply": "2023-08-13T01:28:11.400978Z"
    },
    "papermill": {
     "duration": 0.12464,
     "end_time": "2023-08-13T01:28:11.404239",
     "exception": false,
     "start_time": "2023-08-13T01:28:11.279599",
     "status": "completed"
    },
    "tags": []
   },
   "outputs": [],
   "source": [
    "# rfe_2_feat_mask = fs_rfe(selector_rfe_2, rt_senti[\"reviewText\"], rt_senti[\"sentiment\"], ngram_range=(2,2))\n",
    "# rfe_2_feat_mask"
   ]
  },
  {
   "cell_type": "code",
   "execution_count": 175,
   "id": "ada70fe1",
   "metadata": {
    "execution": {
     "iopub.execute_input": "2023-08-13T01:28:11.639333Z",
     "iopub.status.busy": "2023-08-13T01:28:11.638668Z",
     "iopub.status.idle": "2023-08-13T01:28:11.644119Z",
     "shell.execute_reply": "2023-08-13T01:28:11.642373Z"
    },
    "papermill": {
     "duration": 0.12758,
     "end_time": "2023-08-13T01:28:11.646777",
     "exception": false,
     "start_time": "2023-08-13T01:28:11.519197",
     "status": "completed"
    },
    "tags": []
   },
   "outputs": [],
   "source": [
    "# voc_2gram_rfe = list(compress(voc_2gram, rfe_2_feat_mask))\n",
    "# len(voc_2gram_rfe), voc_2gram_rfe[:10]"
   ]
  },
  {
   "cell_type": "markdown",
   "id": "e399e10d",
   "metadata": {
    "papermill": {
     "duration": 0.115436,
     "end_time": "2023-08-13T01:28:11.878820",
     "exception": false,
     "start_time": "2023-08-13T01:28:11.763384",
     "status": "completed"
    },
    "tags": []
   },
   "source": [
    "## Final RFE-derived vocabulary  "
   ]
  },
  {
   "cell_type": "code",
   "execution_count": 176,
   "id": "03f7d8e5",
   "metadata": {
    "execution": {
     "iopub.execute_input": "2023-08-13T01:28:12.114419Z",
     "iopub.status.busy": "2023-08-13T01:28:12.113977Z",
     "iopub.status.idle": "2023-08-13T01:28:12.118445Z",
     "shell.execute_reply": "2023-08-13T01:28:12.117416Z"
    },
    "papermill": {
     "duration": 0.124545,
     "end_time": "2023-08-13T01:28:12.120677",
     "exception": false,
     "start_time": "2023-08-13T01:28:11.996132",
     "status": "completed"
    },
    "tags": []
   },
   "outputs": [],
   "source": [
    "# rfe_vocab = voc_1gram_rfe + voc_2gram_rfe\n",
    "# len(rfe_vocab), rfe_vocab[:10], rfe_vocab[-10:]"
   ]
  },
  {
   "cell_type": "code",
   "execution_count": 177,
   "id": "520632c2",
   "metadata": {
    "execution": {
     "iopub.execute_input": "2023-08-13T01:28:12.354510Z",
     "iopub.status.busy": "2023-08-13T01:28:12.353762Z",
     "iopub.status.idle": "2023-08-13T01:28:12.358536Z",
     "shell.execute_reply": "2023-08-13T01:28:12.357681Z"
    },
    "papermill": {
     "duration": 0.124472,
     "end_time": "2023-08-13T01:28:12.360926",
     "exception": false,
     "start_time": "2023-08-13T01:28:12.236454",
     "status": "completed"
    },
    "tags": []
   },
   "outputs": [],
   "source": [
    "## Test RFE obtained vocabulary in final pipeline (only with reviewText)  \n",
    "# submit_v4(selected_model=LogisticRegression(C=5, solver=\"saga\", max_iter=100000),\n",
    "#           selected_features=rt_dict,\n",
    "#           param_grid=None,\n",
    "#           vocab=rfe_vocab)"
   ]
  },
  {
   "cell_type": "markdown",
   "id": "af4218eb",
   "metadata": {
    "papermill": {
     "duration": 0.113549,
     "end_time": "2023-08-13T01:28:12.591284",
     "exception": false,
     "start_time": "2023-08-13T01:28:12.477735",
     "status": "completed"
    },
    "tags": []
   },
   "source": [
    "## Use rfe_vocab in final pipeline with all params  "
   ]
  },
  {
   "cell_type": "code",
   "execution_count": 178,
   "id": "18e25dd7",
   "metadata": {
    "execution": {
     "iopub.execute_input": "2023-08-13T01:28:12.826359Z",
     "iopub.status.busy": "2023-08-13T01:28:12.825552Z",
     "iopub.status.idle": "2023-08-13T01:28:12.829703Z",
     "shell.execute_reply": "2023-08-13T01:28:12.828838Z"
    },
    "papermill": {
     "duration": 0.126505,
     "end_time": "2023-08-13T01:28:12.831982",
     "exception": false,
     "start_time": "2023-08-13T01:28:12.705477",
     "status": "completed"
    },
    "tags": []
   },
   "outputs": [],
   "source": [
    "# submit_v4(selected_model=LogisticRegression(max_iter=100000),\n",
    "#           selected_features=all_dict,\n",
    "#           param_grid=param_grid,\n",
    "#           vocab=rfe_vocab)"
   ]
  },
  {
   "cell_type": "code",
   "execution_count": 179,
   "id": "8e347f9c",
   "metadata": {
    "execution": {
     "iopub.execute_input": "2023-08-13T01:28:13.067640Z",
     "iopub.status.busy": "2023-08-13T01:28:13.066907Z",
     "iopub.status.idle": "2023-08-13T01:28:13.079212Z",
     "shell.execute_reply": "2023-08-13T01:28:13.078142Z"
    },
    "papermill": {
     "duration": 0.132671,
     "end_time": "2023-08-13T01:28:13.081911",
     "exception": false,
     "start_time": "2023-08-13T01:28:12.949240",
     "status": "completed"
    },
    "tags": []
   },
   "outputs": [
    {
     "data": {
      "text/html": [
       "<style>#sk-container-id-1 {color: black;background-color: white;}#sk-container-id-1 pre{padding: 0;}#sk-container-id-1 div.sk-toggleable {background-color: white;}#sk-container-id-1 label.sk-toggleable__label {cursor: pointer;display: block;width: 100%;margin-bottom: 0;padding: 0.3em;box-sizing: border-box;text-align: center;}#sk-container-id-1 label.sk-toggleable__label-arrow:before {content: \"▸\";float: left;margin-right: 0.25em;color: #696969;}#sk-container-id-1 label.sk-toggleable__label-arrow:hover:before {color: black;}#sk-container-id-1 div.sk-estimator:hover label.sk-toggleable__label-arrow:before {color: black;}#sk-container-id-1 div.sk-toggleable__content {max-height: 0;max-width: 0;overflow: hidden;text-align: left;background-color: #f0f8ff;}#sk-container-id-1 div.sk-toggleable__content pre {margin: 0.2em;color: black;border-radius: 0.25em;background-color: #f0f8ff;}#sk-container-id-1 input.sk-toggleable__control:checked~div.sk-toggleable__content {max-height: 200px;max-width: 100%;overflow: auto;}#sk-container-id-1 input.sk-toggleable__control:checked~label.sk-toggleable__label-arrow:before {content: \"▾\";}#sk-container-id-1 div.sk-estimator input.sk-toggleable__control:checked~label.sk-toggleable__label {background-color: #d4ebff;}#sk-container-id-1 div.sk-label input.sk-toggleable__control:checked~label.sk-toggleable__label {background-color: #d4ebff;}#sk-container-id-1 input.sk-hidden--visually {border: 0;clip: rect(1px 1px 1px 1px);clip: rect(1px, 1px, 1px, 1px);height: 1px;margin: -1px;overflow: hidden;padding: 0;position: absolute;width: 1px;}#sk-container-id-1 div.sk-estimator {font-family: monospace;background-color: #f0f8ff;border: 1px dotted black;border-radius: 0.25em;box-sizing: border-box;margin-bottom: 0.5em;}#sk-container-id-1 div.sk-estimator:hover {background-color: #d4ebff;}#sk-container-id-1 div.sk-parallel-item::after {content: \"\";width: 100%;border-bottom: 1px solid gray;flex-grow: 1;}#sk-container-id-1 div.sk-label:hover label.sk-toggleable__label {background-color: #d4ebff;}#sk-container-id-1 div.sk-serial::before {content: \"\";position: absolute;border-left: 1px solid gray;box-sizing: border-box;top: 0;bottom: 0;left: 50%;z-index: 0;}#sk-container-id-1 div.sk-serial {display: flex;flex-direction: column;align-items: center;background-color: white;padding-right: 0.2em;padding-left: 0.2em;position: relative;}#sk-container-id-1 div.sk-item {position: relative;z-index: 1;}#sk-container-id-1 div.sk-parallel {display: flex;align-items: stretch;justify-content: center;background-color: white;position: relative;}#sk-container-id-1 div.sk-item::before, #sk-container-id-1 div.sk-parallel-item::before {content: \"\";position: absolute;border-left: 1px solid gray;box-sizing: border-box;top: 0;bottom: 0;left: 50%;z-index: -1;}#sk-container-id-1 div.sk-parallel-item {display: flex;flex-direction: column;z-index: 1;position: relative;background-color: white;}#sk-container-id-1 div.sk-parallel-item:first-child::after {align-self: flex-end;width: 50%;}#sk-container-id-1 div.sk-parallel-item:last-child::after {align-self: flex-start;width: 50%;}#sk-container-id-1 div.sk-parallel-item:only-child::after {width: 0;}#sk-container-id-1 div.sk-dashed-wrapped {border: 1px dashed gray;margin: 0 0.4em 0.5em 0.4em;box-sizing: border-box;padding-bottom: 0.4em;background-color: white;}#sk-container-id-1 div.sk-label label {font-family: monospace;font-weight: bold;display: inline-block;line-height: 1.2em;}#sk-container-id-1 div.sk-label-container {text-align: center;}#sk-container-id-1 div.sk-container {/* jupyter's `normalize.less` sets `[hidden] { display: none; }` but bootstrap.min.css set `[hidden] { display: none !important; }` so we also need the `!important` here to be able to override the default hidden behavior on the sphinx rendered scikit-learn.org. See: https://github.com/scikit-learn/scikit-learn/issues/21755 */display: inline-block !important;position: relative;}#sk-container-id-1 div.sk-text-repr-fallback {display: none;}</style><div id=\"sk-container-id-1\" class=\"sk-top-container\"><div class=\"sk-text-repr-fallback\"><pre>AdaBoostClassifier(estimator=LogisticRegression(C=5, max_iter=100000,\n",
       "                                                solver=&#x27;saga&#x27;))</pre><b>In a Jupyter environment, please rerun this cell to show the HTML representation or trust the notebook. <br />On GitHub, the HTML representation is unable to render, please try loading this page with nbviewer.org.</b></div><div class=\"sk-container\" hidden><div class=\"sk-item sk-dashed-wrapped\"><div class=\"sk-label-container\"><div class=\"sk-label sk-toggleable\"><input class=\"sk-toggleable__control sk-hidden--visually\" id=\"sk-estimator-id-1\" type=\"checkbox\" ><label for=\"sk-estimator-id-1\" class=\"sk-toggleable__label sk-toggleable__label-arrow\">AdaBoostClassifier</label><div class=\"sk-toggleable__content\"><pre>AdaBoostClassifier(estimator=LogisticRegression(C=5, max_iter=100000,\n",
       "                                                solver=&#x27;saga&#x27;))</pre></div></div></div><div class=\"sk-parallel\"><div class=\"sk-parallel-item\"><div class=\"sk-item\"><div class=\"sk-label-container\"><div class=\"sk-label sk-toggleable\"><input class=\"sk-toggleable__control sk-hidden--visually\" id=\"sk-estimator-id-2\" type=\"checkbox\" ><label for=\"sk-estimator-id-2\" class=\"sk-toggleable__label sk-toggleable__label-arrow\">estimator: LogisticRegression</label><div class=\"sk-toggleable__content\"><pre>LogisticRegression(C=5, max_iter=100000, solver=&#x27;saga&#x27;)</pre></div></div></div><div class=\"sk-serial\"><div class=\"sk-item\"><div class=\"sk-estimator sk-toggleable\"><input class=\"sk-toggleable__control sk-hidden--visually\" id=\"sk-estimator-id-3\" type=\"checkbox\" ><label for=\"sk-estimator-id-3\" class=\"sk-toggleable__label sk-toggleable__label-arrow\">LogisticRegression</label><div class=\"sk-toggleable__content\"><pre>LogisticRegression(C=5, max_iter=100000, solver=&#x27;saga&#x27;)</pre></div></div></div></div></div></div></div></div></div></div>"
      ],
      "text/plain": [
       "AdaBoostClassifier(estimator=LogisticRegression(C=5, max_iter=100000,\n",
       "                                                solver='saga'))"
      ]
     },
     "execution_count": 179,
     "metadata": {},
     "output_type": "execute_result"
    }
   ],
   "source": [
    "adc = AdaBoostClassifier(estimator=LogisticRegression(C=5, solver=\"saga\", max_iter=100000), n_estimators=50)\n",
    "adc"
   ]
  },
  {
   "cell_type": "code",
   "execution_count": 180,
   "id": "909cb1f5",
   "metadata": {
    "execution": {
     "iopub.execute_input": "2023-08-13T01:28:13.315855Z",
     "iopub.status.busy": "2023-08-13T01:28:13.315433Z",
     "iopub.status.idle": "2023-08-13T01:28:13.320301Z",
     "shell.execute_reply": "2023-08-13T01:28:13.319186Z"
    },
    "papermill": {
     "duration": 0.123766,
     "end_time": "2023-08-13T01:28:13.322540",
     "exception": false,
     "start_time": "2023-08-13T01:28:13.198774",
     "status": "completed"
    },
    "tags": []
   },
   "outputs": [],
   "source": [
    "# submit_v4(selected_model=adc,\n",
    "#           selected_features={'cat': ['isFrequentReviewer']},\n",
    "#           param_grid=None,\n",
    "#           vocab=rfe_vocab)"
   ]
  },
  {
   "cell_type": "code",
   "execution_count": 181,
   "id": "04cd1ad4",
   "metadata": {
    "execution": {
     "iopub.execute_input": "2023-08-13T01:28:13.553462Z",
     "iopub.status.busy": "2023-08-13T01:28:13.552900Z",
     "iopub.status.idle": "2023-08-13T01:28:13.558256Z",
     "shell.execute_reply": "2023-08-13T01:28:13.557163Z"
    },
    "papermill": {
     "duration": 0.123912,
     "end_time": "2023-08-13T01:28:13.560542",
     "exception": false,
     "start_time": "2023-08-13T01:28:13.436630",
     "status": "completed"
    },
    "tags": []
   },
   "outputs": [],
   "source": [
    "# AdaBoost on all features with RFE vocab on reviewText\n",
    "\n",
    "# submit_v4(selected_model=adc,\n",
    "#           selected_features=all_dict,\n",
    "#           param_grid=None,\n",
    "#           vocab=rfe_vocab)"
   ]
  },
  {
   "cell_type": "code",
   "execution_count": 182,
   "id": "22415f37",
   "metadata": {
    "execution": {
     "iopub.execute_input": "2023-08-13T01:28:13.794696Z",
     "iopub.status.busy": "2023-08-13T01:28:13.794270Z",
     "iopub.status.idle": "2023-08-13T01:28:13.799182Z",
     "shell.execute_reply": "2023-08-13T01:28:13.797783Z"
    },
    "papermill": {
     "duration": 0.12382,
     "end_time": "2023-08-13T01:28:13.801589",
     "exception": false,
     "start_time": "2023-08-13T01:28:13.677769",
     "status": "completed"
    },
    "tags": []
   },
   "outputs": [],
   "source": [
    "# RandomForestClassifier test run on one feature\n",
    "\n",
    "# rfc_2 = RandomForestClassifier()\n",
    "# rfc_2"
   ]
  },
  {
   "cell_type": "code",
   "execution_count": 183,
   "id": "799cf730",
   "metadata": {
    "execution": {
     "iopub.execute_input": "2023-08-13T01:28:14.039126Z",
     "iopub.status.busy": "2023-08-13T01:28:14.038041Z",
     "iopub.status.idle": "2023-08-13T01:28:14.042483Z",
     "shell.execute_reply": "2023-08-13T01:28:14.041493Z"
    },
    "papermill": {
     "duration": 0.128409,
     "end_time": "2023-08-13T01:28:14.044579",
     "exception": false,
     "start_time": "2023-08-13T01:28:13.916170",
     "status": "completed"
    },
    "tags": []
   },
   "outputs": [],
   "source": [
    "# submit_v4(selected_model=rfc_2,\n",
    "#           selected_features={'txt': ['reviewerName']},\n",
    "#           param_grid=None,\n",
    "#           vocab=rfe_vocab)"
   ]
  },
  {
   "cell_type": "code",
   "execution_count": 184,
   "id": "37086f2a",
   "metadata": {
    "execution": {
     "iopub.execute_input": "2023-08-13T01:28:14.282424Z",
     "iopub.status.busy": "2023-08-13T01:28:14.281604Z",
     "iopub.status.idle": "2023-08-13T01:28:14.286911Z",
     "shell.execute_reply": "2023-08-13T01:28:14.285433Z"
    },
    "papermill": {
     "duration": 0.126868,
     "end_time": "2023-08-13T01:28:14.289543",
     "exception": false,
     "start_time": "2023-08-13T01:28:14.162675",
     "status": "completed"
    },
    "tags": []
   },
   "outputs": [],
   "source": [
    "# RandomForestClassifier on all features with RFE vocab on reviewText\n",
    "\n",
    "# submit_v4(selected_model=rfc_2,\n",
    "#           selected_features=all_dict,\n",
    "#           param_grid=None,\n",
    "#           vocab=rfe_vocab)"
   ]
  },
  {
   "cell_type": "markdown",
   "id": "0654a583",
   "metadata": {
    "papermill": {
     "duration": 0.115832,
     "end_time": "2023-08-13T01:28:14.523059",
     "exception": false,
     "start_time": "2023-08-13T01:28:14.407227",
     "status": "completed"
    },
    "tags": []
   },
   "source": [
    "## Submit_v2 for merged file models  "
   ]
  },
  {
   "cell_type": "code",
   "execution_count": 185,
   "id": "942af5c3",
   "metadata": {
    "execution": {
     "iopub.execute_input": "2023-08-13T01:28:14.760201Z",
     "iopub.status.busy": "2023-08-13T01:28:14.759481Z",
     "iopub.status.idle": "2023-08-13T01:28:14.765949Z",
     "shell.execute_reply": "2023-08-13T01:28:14.765150Z"
    },
    "papermill": {
     "duration": 0.127045,
     "end_time": "2023-08-13T01:28:14.768302",
     "exception": false,
     "start_time": "2023-08-13T01:28:14.641257",
     "status": "completed"
    },
    "tags": []
   },
   "outputs": [],
   "source": [
    "# def submit_v2(selected_model=pipe_final, selected_features=None):\n",
    "#     '''\n",
    "#     Note that \"selected_preprocessor\" is already used within selected_model or pipeline\n",
    "#     '''\n",
    "#     # Retrain on the whole train.csv file  \n",
    "#     merged = select_features(load_csv(\"train\"), load_csv(\"movies\"))\n",
    "#     X_train = merged.drop(labels=\"sentiment\", axis=1)\n",
    "#     y_train = merged[\"sentiment\"]\n",
    "    \n",
    "#     #Use selected features\n",
    "#     if selected_features:\n",
    "#         X_train = X_train[selected_features]\n",
    "    \n",
    "#     # Check1\n",
    "#     print(X_train.shape)\n",
    "#     print(X_train.head())\n",
    "#     try:\n",
    "#         print(selected_model.named_steps['model'].intercept_, selected_model.named_steps['model'].coef_)\n",
    "#     except:\n",
    "#         print(\"Model not trained yet!\")\n",
    "    \n",
    "#     # Fit \n",
    "#     selected_model.fit(X_train, y_train)\n",
    "    \n",
    "#     # Check2\n",
    "#     print(selected_model.named_steps['model'].intercept_, selected_model.named_steps['model'].coef_)\n",
    "    \n",
    "#     # Predict on test.csv file\n",
    "#     merged_test = select_features(load_csv(\"test\"), load_csv(\"movies\"))\n",
    "#     X_test = merged_test.copy()\n",
    "#     if selected_features:\n",
    "#         X_test = X_test[selected_features]\n",
    "    \n",
    "#     # Check3\n",
    "#     print(X_test.shape)\n",
    "#     print(X_test.head())\n",
    "    \n",
    "#     y_pred = selected_model.predict(X_test)\n",
    "    \n",
    "#     pred_df = pd.DataFrame(y_pred)\n",
    "#     pred_df.columns = [\"sentiment\"]\n",
    "#     pred_df.index.name = \"id\"\n",
    "#     pred_df.to_csv(\"submission.csv\")\n",
    "    \n",
    "#     return \"Successfully created the submission file!!!\""
   ]
  },
  {
   "cell_type": "code",
   "execution_count": 186,
   "id": "bb351bbc",
   "metadata": {
    "execution": {
     "iopub.execute_input": "2023-08-13T01:28:14.999515Z",
     "iopub.status.busy": "2023-08-13T01:28:14.998846Z",
     "iopub.status.idle": "2023-08-13T01:28:15.003943Z",
     "shell.execute_reply": "2023-08-13T01:28:15.002788Z"
    },
    "papermill": {
     "duration": 0.123656,
     "end_time": "2023-08-13T01:28:15.006335",
     "exception": false,
     "start_time": "2023-08-13T01:28:14.882679",
     "status": "completed"
    },
    "tags": []
   },
   "outputs": [],
   "source": [
    "#     X_test = merged_test.copy()\n",
    "    \n",
    "#     y_pred = pipe_best4.predict(X_test)\n",
    "# #     np.unique(y_pred, return_counts=True)\n",
    "#     pred_df = pd.DataFrame(y_pred)\n",
    "#     pred_df.columns = [\"sentiment\"]\n",
    "#     pred_df.index.name = \"id\"\n",
    "#     pred_df.value_counts()"
   ]
  },
  {
   "cell_type": "code",
   "execution_count": 187,
   "id": "0c97b22c",
   "metadata": {
    "execution": {
     "iopub.execute_input": "2023-08-13T01:28:15.238206Z",
     "iopub.status.busy": "2023-08-13T01:28:15.237785Z",
     "iopub.status.idle": "2023-08-13T01:28:15.242161Z",
     "shell.execute_reply": "2023-08-13T01:28:15.241266Z"
    },
    "papermill": {
     "duration": 0.123026,
     "end_time": "2023-08-13T01:28:15.244264",
     "exception": false,
     "start_time": "2023-08-13T01:28:15.121238",
     "status": "completed"
    },
    "tags": []
   },
   "outputs": [],
   "source": [
    "# X_test.columns"
   ]
  },
  {
   "cell_type": "markdown",
   "id": "670eb6d2",
   "metadata": {
    "papermill": {
     "duration": 0.113907,
     "end_time": "2023-08-13T01:28:15.473452",
     "exception": false,
     "start_time": "2023-08-13T01:28:15.359545",
     "status": "completed"
    },
    "tags": []
   },
   "source": [
    "### Uncomment to submit using v2 of submit function  "
   ]
  },
  {
   "cell_type": "code",
   "execution_count": 188,
   "id": "c0c17de4",
   "metadata": {
    "execution": {
     "iopub.execute_input": "2023-08-13T01:28:15.781175Z",
     "iopub.status.busy": "2023-08-13T01:28:15.780477Z",
     "iopub.status.idle": "2023-08-13T01:28:15.784504Z",
     "shell.execute_reply": "2023-08-13T01:28:15.783497Z"
    },
    "papermill": {
     "duration": 0.198525,
     "end_time": "2023-08-13T01:28:15.786841",
     "exception": false,
     "start_time": "2023-08-13T01:28:15.588316",
     "status": "completed"
    },
    "tags": []
   },
   "outputs": [],
   "source": [
    "# best4 = [\"audienceScore\", \"rating\", \"isFrequentReviewer\", \"reviewText\"]\n",
    "# best4"
   ]
  },
  {
   "cell_type": "code",
   "execution_count": 189,
   "id": "45b848a2",
   "metadata": {
    "execution": {
     "iopub.execute_input": "2023-08-13T01:28:16.024512Z",
     "iopub.status.busy": "2023-08-13T01:28:16.024102Z",
     "iopub.status.idle": "2023-08-13T01:28:16.028493Z",
     "shell.execute_reply": "2023-08-13T01:28:16.027346Z"
    },
    "papermill": {
     "duration": 0.127599,
     "end_time": "2023-08-13T01:28:16.030999",
     "exception": false,
     "start_time": "2023-08-13T01:28:15.903400",
     "status": "completed"
    },
    "tags": []
   },
   "outputs": [],
   "source": [
    "# submit_v2(selected_model=pipe_RTonly, selected_features=['reviewText'])"
   ]
  },
  {
   "cell_type": "markdown",
   "id": "53331687",
   "metadata": {
    "papermill": {
     "duration": 0.116594,
     "end_time": "2023-08-13T01:28:16.261973",
     "exception": false,
     "start_time": "2023-08-13T01:28:16.145379",
     "status": "completed"
    },
    "tags": []
   },
   "source": [
    "### Inspect the submission.csv file  "
   ]
  },
  {
   "cell_type": "code",
   "execution_count": 190,
   "id": "70999be6",
   "metadata": {
    "execution": {
     "iopub.execute_input": "2023-08-13T01:28:16.493494Z",
     "iopub.status.busy": "2023-08-13T01:28:16.493107Z",
     "iopub.status.idle": "2023-08-13T01:28:16.497576Z",
     "shell.execute_reply": "2023-08-13T01:28:16.496460Z"
    },
    "papermill": {
     "duration": 0.122899,
     "end_time": "2023-08-13T01:28:16.499886",
     "exception": false,
     "start_time": "2023-08-13T01:28:16.376987",
     "status": "completed"
    },
    "tags": []
   },
   "outputs": [],
   "source": [
    "# sub = pd.read_csv('submission.csv')\n",
    "# sub.shape, sub.head()"
   ]
  },
  {
   "cell_type": "code",
   "execution_count": 191,
   "id": "5f12a09c",
   "metadata": {
    "execution": {
     "iopub.execute_input": "2023-08-13T01:28:16.735124Z",
     "iopub.status.busy": "2023-08-13T01:28:16.734404Z",
     "iopub.status.idle": "2023-08-13T01:28:16.738427Z",
     "shell.execute_reply": "2023-08-13T01:28:16.737549Z"
    },
    "papermill": {
     "duration": 0.124493,
     "end_time": "2023-08-13T01:28:16.740634",
     "exception": false,
     "start_time": "2023-08-13T01:28:16.616141",
     "status": "completed"
    },
    "tags": []
   },
   "outputs": [],
   "source": [
    "# sub['sentiment'].value_counts()"
   ]
  },
  {
   "cell_type": "markdown",
   "id": "53f6273f",
   "metadata": {
    "papermill": {
     "duration": 0.11411,
     "end_time": "2023-08-13T01:28:16.971052",
     "exception": false,
     "start_time": "2023-08-13T01:28:16.856942",
     "status": "completed"
    },
    "tags": []
   },
   "source": [
    "## submit_v3 for merged file models - does not retrain on whole data  "
   ]
  },
  {
   "cell_type": "code",
   "execution_count": 192,
   "id": "667e9d8d",
   "metadata": {
    "execution": {
     "iopub.execute_input": "2023-08-13T01:28:17.203050Z",
     "iopub.status.busy": "2023-08-13T01:28:17.202357Z",
     "iopub.status.idle": "2023-08-13T01:28:17.206940Z",
     "shell.execute_reply": "2023-08-13T01:28:17.206158Z"
    },
    "papermill": {
     "duration": 0.122665,
     "end_time": "2023-08-13T01:28:17.209270",
     "exception": false,
     "start_time": "2023-08-13T01:28:17.086605",
     "status": "completed"
    },
    "tags": []
   },
   "outputs": [],
   "source": [
    "# def submit_v3(selected_model=pipe_final):\n",
    "#     '''\n",
    "#     Note that \"selected_preprocessor\" is already used within selected_model or pipeline\n",
    "#     '''\n",
    "      \n",
    "#     # Predict on test.csv file\n",
    "#     merged_test = select_features(load_csv(\"test\"), load_csv(\"movies\"))\n",
    "#     X_test = merged_test.copy()\n",
    "    \n",
    "#     X_test = X_test[[\"audienceScore\", \"rating\", \"isFrequentReviewer\", \"reviewText\"]]    # This is a new line\n",
    "\n",
    "    \n",
    "#     y_pred = selected_model.predict(X_test)\n",
    "    \n",
    "#     pred_df = pd.DataFrame(y_pred)\n",
    "#     pred_df.columns = [\"sentiment\"]\n",
    "#     pred_df.index.name = \"id\"\n",
    "#     pred_df.to_csv(\"submission.csv\")\n",
    "    \n",
    "#     return \"Successfully created the submission file!!!\""
   ]
  },
  {
   "cell_type": "markdown",
   "id": "c3555e9a",
   "metadata": {
    "papermill": {
     "duration": 0.114459,
     "end_time": "2023-08-13T01:28:17.438527",
     "exception": false,
     "start_time": "2023-08-13T01:28:17.324068",
     "status": "completed"
    },
    "tags": []
   },
   "source": [
    "### Uncomment to submit using v3 of submit function  "
   ]
  },
  {
   "cell_type": "code",
   "execution_count": 193,
   "id": "53e3188d",
   "metadata": {
    "execution": {
     "iopub.execute_input": "2023-08-13T01:28:17.674153Z",
     "iopub.status.busy": "2023-08-13T01:28:17.673508Z",
     "iopub.status.idle": "2023-08-13T01:28:17.677622Z",
     "shell.execute_reply": "2023-08-13T01:28:17.676551Z"
    },
    "papermill": {
     "duration": 0.123844,
     "end_time": "2023-08-13T01:28:17.680236",
     "exception": false,
     "start_time": "2023-08-13T01:28:17.556392",
     "status": "completed"
    },
    "tags": []
   },
   "outputs": [],
   "source": [
    "# submit_v3(selected_model=pipe_best4)"
   ]
  },
  {
   "cell_type": "markdown",
   "id": "b3fa4886",
   "metadata": {
    "papermill": {
     "duration": 0.116017,
     "end_time": "2023-08-13T01:28:17.912063",
     "exception": false,
     "start_time": "2023-08-13T01:28:17.796046",
     "status": "completed"
    },
    "tags": []
   },
   "source": [
    "## Rough work  "
   ]
  },
  {
   "cell_type": "code",
   "execution_count": 194,
   "id": "25c5f63f",
   "metadata": {
    "execution": {
     "iopub.execute_input": "2023-08-13T01:28:18.144430Z",
     "iopub.status.busy": "2023-08-13T01:28:18.143967Z",
     "iopub.status.idle": "2023-08-13T01:28:24.193538Z",
     "shell.execute_reply": "2023-08-13T01:28:24.192591Z"
    },
    "papermill": {
     "duration": 6.168584,
     "end_time": "2023-08-13T01:28:24.196124",
     "exception": false,
     "start_time": "2023-08-13T01:28:18.027540",
     "status": "completed"
    },
    "tags": []
   },
   "outputs": [],
   "source": [
    "    # Predict on test.csv file\n",
    "    merged_test = select_features(load_csv(\"test\"), load_csv(\"movies\"))\n",
    "    X_test = merged_test.copy()\n",
    "    \n",
    "    X_test = X_test[[\"audienceScore\", \"rating\", \"isFrequentReviewer\", \"reviewText\"]]    # This is a new line"
   ]
  },
  {
   "cell_type": "code",
   "execution_count": 195,
   "id": "876b7a98",
   "metadata": {
    "execution": {
     "iopub.execute_input": "2023-08-13T01:28:24.433726Z",
     "iopub.status.busy": "2023-08-13T01:28:24.432973Z",
     "iopub.status.idle": "2023-08-13T01:28:24.437527Z",
     "shell.execute_reply": "2023-08-13T01:28:24.436618Z"
    },
    "papermill": {
     "duration": 0.126174,
     "end_time": "2023-08-13T01:28:24.439873",
     "exception": false,
     "start_time": "2023-08-13T01:28:24.313699",
     "status": "completed"
    },
    "tags": []
   },
   "outputs": [],
   "source": [
    "# X_test.head()"
   ]
  },
  {
   "cell_type": "code",
   "execution_count": 196,
   "id": "cdd7c468",
   "metadata": {
    "execution": {
     "iopub.execute_input": "2023-08-13T01:28:24.679732Z",
     "iopub.status.busy": "2023-08-13T01:28:24.679322Z",
     "iopub.status.idle": "2023-08-13T01:28:24.684162Z",
     "shell.execute_reply": "2023-08-13T01:28:24.683052Z"
    },
    "papermill": {
     "duration": 0.127709,
     "end_time": "2023-08-13T01:28:24.686657",
     "exception": false,
     "start_time": "2023-08-13T01:28:24.558948",
     "status": "completed"
    },
    "tags": []
   },
   "outputs": [],
   "source": [
    "# X_test['audienceScore'].describe()"
   ]
  },
  {
   "cell_type": "code",
   "execution_count": 197,
   "id": "d84cada3",
   "metadata": {
    "execution": {
     "iopub.execute_input": "2023-08-13T01:28:24.922929Z",
     "iopub.status.busy": "2023-08-13T01:28:24.922207Z",
     "iopub.status.idle": "2023-08-13T01:28:24.927367Z",
     "shell.execute_reply": "2023-08-13T01:28:24.926140Z"
    },
    "papermill": {
     "duration": 0.125238,
     "end_time": "2023-08-13T01:28:24.929732",
     "exception": false,
     "start_time": "2023-08-13T01:28:24.804494",
     "status": "completed"
    },
    "tags": []
   },
   "outputs": [],
   "source": [
    "# X_test['rating'].value_counts()"
   ]
  },
  {
   "cell_type": "code",
   "execution_count": 198,
   "id": "f8c75383",
   "metadata": {
    "execution": {
     "iopub.execute_input": "2023-08-13T01:28:25.162808Z",
     "iopub.status.busy": "2023-08-13T01:28:25.162431Z",
     "iopub.status.idle": "2023-08-13T01:28:25.166669Z",
     "shell.execute_reply": "2023-08-13T01:28:25.165602Z"
    },
    "papermill": {
     "duration": 0.124591,
     "end_time": "2023-08-13T01:28:25.168829",
     "exception": false,
     "start_time": "2023-08-13T01:28:25.044238",
     "status": "completed"
    },
    "tags": []
   },
   "outputs": [],
   "source": [
    "# X_test['isFrequentReviewer'].value_counts()"
   ]
  },
  {
   "cell_type": "markdown",
   "id": "8f6d5698",
   "metadata": {
    "papermill": {
     "duration": 0.114582,
     "end_time": "2023-08-13T01:28:25.399201",
     "exception": false,
     "start_time": "2023-08-13T01:28:25.284619",
     "status": "completed"
    },
    "tags": []
   },
   "source": [
    "## Implement KNN classifier  "
   ]
  },
  {
   "cell_type": "code",
   "execution_count": 199,
   "id": "81254926",
   "metadata": {
    "execution": {
     "iopub.execute_input": "2023-08-13T01:28:25.632534Z",
     "iopub.status.busy": "2023-08-13T01:28:25.632131Z",
     "iopub.status.idle": "2023-08-13T01:28:25.636714Z",
     "shell.execute_reply": "2023-08-13T01:28:25.635547Z"
    },
    "papermill": {
     "duration": 0.125513,
     "end_time": "2023-08-13T01:28:25.639247",
     "exception": false,
     "start_time": "2023-08-13T01:28:25.513734",
     "status": "completed"
    },
    "tags": []
   },
   "outputs": [],
   "source": [
    "# from sklearn.neighbors import KNeighborsClassifier"
   ]
  },
  {
   "cell_type": "code",
   "execution_count": 200,
   "id": "5ad7a3c8",
   "metadata": {
    "execution": {
     "iopub.execute_input": "2023-08-13T01:28:25.872839Z",
     "iopub.status.busy": "2023-08-13T01:28:25.872472Z",
     "iopub.status.idle": "2023-08-13T01:28:25.876266Z",
     "shell.execute_reply": "2023-08-13T01:28:25.875414Z"
    },
    "papermill": {
     "duration": 0.124038,
     "end_time": "2023-08-13T01:28:25.878279",
     "exception": false,
     "start_time": "2023-08-13T01:28:25.754241",
     "status": "completed"
    },
    "tags": []
   },
   "outputs": [],
   "source": [
    "# Note that we are borrowing \"ct_final\" column transformer from above  "
   ]
  },
  {
   "cell_type": "code",
   "execution_count": 201,
   "id": "81a9f3c7",
   "metadata": {
    "execution": {
     "iopub.execute_input": "2023-08-13T01:28:26.111353Z",
     "iopub.status.busy": "2023-08-13T01:28:26.110932Z",
     "iopub.status.idle": "2023-08-13T01:28:26.115299Z",
     "shell.execute_reply": "2023-08-13T01:28:26.114159Z"
    },
    "papermill": {
     "duration": 0.1238,
     "end_time": "2023-08-13T01:28:26.117601",
     "exception": false,
     "start_time": "2023-08-13T01:28:25.993801",
     "status": "completed"
    },
    "tags": []
   },
   "outputs": [],
   "source": [
    "# pipe_knn = Pipeline(steps=[\n",
    "#                         (\"preprocessor\", ct_final),\n",
    "#                         (\"model\", KNeighborsClassifier())\n",
    "#                     ])\n",
    "# pipe_knn"
   ]
  },
  {
   "cell_type": "code",
   "execution_count": 202,
   "id": "fdf61ae8",
   "metadata": {
    "execution": {
     "iopub.execute_input": "2023-08-13T01:28:26.347730Z",
     "iopub.status.busy": "2023-08-13T01:28:26.347347Z",
     "iopub.status.idle": "2023-08-13T01:28:26.351213Z",
     "shell.execute_reply": "2023-08-13T01:28:26.350361Z"
    },
    "papermill": {
     "duration": 0.12183,
     "end_time": "2023-08-13T01:28:26.353520",
     "exception": false,
     "start_time": "2023-08-13T01:28:26.231690",
     "status": "completed"
    },
    "tags": []
   },
   "outputs": [],
   "source": [
    "# Train and predict on merged training data  \n",
    "# split_train_predict(merged_train_features, merged_train_labels, pipe_knn, test_size=0.25, random_state=42)"
   ]
  },
  {
   "cell_type": "markdown",
   "id": "3ca03ea4",
   "metadata": {
    "papermill": {
     "duration": 0.114462,
     "end_time": "2023-08-13T01:28:26.583689",
     "exception": false,
     "start_time": "2023-08-13T01:28:26.469227",
     "status": "completed"
    },
    "tags": []
   },
   "source": [
    "# Part I (Older code)  "
   ]
  },
  {
   "cell_type": "markdown",
   "id": "34955a0f",
   "metadata": {
    "papermill": {
     "duration": 0.116606,
     "end_time": "2023-08-13T01:28:26.815460",
     "exception": false,
     "start_time": "2023-08-13T01:28:26.698854",
     "status": "completed"
    },
    "tags": []
   },
   "source": [
    "### Logistic Regression with stop words  "
   ]
  },
  {
   "cell_type": "code",
   "execution_count": 203,
   "id": "cd3e961f",
   "metadata": {
    "execution": {
     "iopub.execute_input": "2023-08-13T01:28:27.048753Z",
     "iopub.status.busy": "2023-08-13T01:28:27.047706Z",
     "iopub.status.idle": "2023-08-13T01:28:27.052667Z",
     "shell.execute_reply": "2023-08-13T01:28:27.051880Z"
    },
    "papermill": {
     "duration": 0.123822,
     "end_time": "2023-08-13T01:28:27.054931",
     "exception": false,
     "start_time": "2023-08-13T01:28:26.931109",
     "status": "completed"
    },
    "tags": []
   },
   "outputs": [],
   "source": [
    "# tvec_sw = TfidfVectorizer(stop_words=stop_words)"
   ]
  },
  {
   "cell_type": "code",
   "execution_count": 204,
   "id": "0401f0c4",
   "metadata": {
    "execution": {
     "iopub.execute_input": "2023-08-13T01:28:27.290732Z",
     "iopub.status.busy": "2023-08-13T01:28:27.290050Z",
     "iopub.status.idle": "2023-08-13T01:28:27.294676Z",
     "shell.execute_reply": "2023-08-13T01:28:27.293476Z"
    },
    "papermill": {
     "duration": 0.124403,
     "end_time": "2023-08-13T01:28:27.297019",
     "exception": false,
     "start_time": "2023-08-13T01:28:27.172616",
     "status": "completed"
    },
    "tags": []
   },
   "outputs": [],
   "source": [
    "# logreg_sw_pipe = preprocess_n_train(X_train, y_train, tvec_sw, logreg)\n",
    "# logreg_sw_pipe"
   ]
  },
  {
   "cell_type": "code",
   "execution_count": 205,
   "id": "5989484e",
   "metadata": {
    "execution": {
     "iopub.execute_input": "2023-08-13T01:28:27.530173Z",
     "iopub.status.busy": "2023-08-13T01:28:27.529037Z",
     "iopub.status.idle": "2023-08-13T01:28:27.533352Z",
     "shell.execute_reply": "2023-08-13T01:28:27.532561Z"
    },
    "papermill": {
     "duration": 0.123237,
     "end_time": "2023-08-13T01:28:27.535613",
     "exception": false,
     "start_time": "2023-08-13T01:28:27.412376",
     "status": "completed"
    },
    "tags": []
   },
   "outputs": [],
   "source": [
    "# y_pred_logreg_sw = predict_n_evaluate(logreg_sw_pipe, X_test, y_test)\n",
    "# y_pred_logreg_sw"
   ]
  },
  {
   "cell_type": "markdown",
   "id": "19225cd6",
   "metadata": {
    "papermill": {
     "duration": 0.117053,
     "end_time": "2023-08-13T01:28:27.769162",
     "exception": false,
     "start_time": "2023-08-13T01:28:27.652109",
     "status": "completed"
    },
    "tags": []
   },
   "source": [
    "### Logistic regression with different ngram ranges  "
   ]
  },
  {
   "cell_type": "code",
   "execution_count": 206,
   "id": "9ee01009",
   "metadata": {
    "execution": {
     "iopub.execute_input": "2023-08-13T01:28:28.005600Z",
     "iopub.status.busy": "2023-08-13T01:28:28.004601Z",
     "iopub.status.idle": "2023-08-13T01:28:28.009576Z",
     "shell.execute_reply": "2023-08-13T01:28:28.008560Z"
    },
    "papermill": {
     "duration": 0.12688,
     "end_time": "2023-08-13T01:28:28.011939",
     "exception": false,
     "start_time": "2023-08-13T01:28:27.885059",
     "status": "completed"
    },
    "tags": []
   },
   "outputs": [],
   "source": [
    "# tvec_ngram_2 = TfidfVectorizer(ngram_range=(1,2))"
   ]
  },
  {
   "cell_type": "code",
   "execution_count": 207,
   "id": "6ed742a5",
   "metadata": {
    "execution": {
     "iopub.execute_input": "2023-08-13T01:28:28.321605Z",
     "iopub.status.busy": "2023-08-13T01:28:28.320856Z",
     "iopub.status.idle": "2023-08-13T01:28:28.325453Z",
     "shell.execute_reply": "2023-08-13T01:28:28.324459Z"
    },
    "papermill": {
     "duration": 0.123068,
     "end_time": "2023-08-13T01:28:28.327891",
     "exception": false,
     "start_time": "2023-08-13T01:28:28.204823",
     "status": "completed"
    },
    "tags": []
   },
   "outputs": [],
   "source": [
    "# logreg_ng2_pipe = preprocess_n_train(X_train, y_train, tvec_ngram_2, logreg)\n",
    "# logreg_ng2_pipe"
   ]
  },
  {
   "cell_type": "code",
   "execution_count": 208,
   "id": "d7cfdc06",
   "metadata": {
    "execution": {
     "iopub.execute_input": "2023-08-13T01:28:28.561626Z",
     "iopub.status.busy": "2023-08-13T01:28:28.561221Z",
     "iopub.status.idle": "2023-08-13T01:28:28.565959Z",
     "shell.execute_reply": "2023-08-13T01:28:28.564799Z"
    },
    "papermill": {
     "duration": 0.123131,
     "end_time": "2023-08-13T01:28:28.568237",
     "exception": false,
     "start_time": "2023-08-13T01:28:28.445106",
     "status": "completed"
    },
    "tags": []
   },
   "outputs": [],
   "source": [
    "# y_pred_logreg_ng2 = predict_n_evaluate(logreg_ng2_pipe, X_test, y_test)\n",
    "# y_pred_logreg_ng2"
   ]
  },
  {
   "cell_type": "markdown",
   "id": "e8e4413a",
   "metadata": {
    "papermill": {
     "duration": 0.117852,
     "end_time": "2023-08-13T01:28:28.801360",
     "exception": false,
     "start_time": "2023-08-13T01:28:28.683508",
     "status": "completed"
    },
    "tags": []
   },
   "source": [
    "### Logistic regression with C=2, ngram range (1,2), stop words as None and min_df, max_df adjusted\n",
    "### Class weight balanced"
   ]
  },
  {
   "cell_type": "code",
   "execution_count": 209,
   "id": "141c12a7",
   "metadata": {
    "execution": {
     "iopub.execute_input": "2023-08-13T01:28:29.036694Z",
     "iopub.status.busy": "2023-08-13T01:28:29.036303Z",
     "iopub.status.idle": "2023-08-13T01:28:29.040702Z",
     "shell.execute_reply": "2023-08-13T01:28:29.039931Z"
    },
    "papermill": {
     "duration": 0.125107,
     "end_time": "2023-08-13T01:28:29.042890",
     "exception": false,
     "start_time": "2023-08-13T01:28:28.917783",
     "status": "completed"
    },
    "tags": []
   },
   "outputs": [],
   "source": [
    "# logreg = LogisticRegression(max_iter=100000, C=2, class_weight=\"balanced\")"
   ]
  },
  {
   "cell_type": "code",
   "execution_count": 210,
   "id": "923b9c05",
   "metadata": {
    "execution": {
     "iopub.execute_input": "2023-08-13T01:28:29.276373Z",
     "iopub.status.busy": "2023-08-13T01:28:29.275153Z",
     "iopub.status.idle": "2023-08-13T01:28:29.280429Z",
     "shell.execute_reply": "2023-08-13T01:28:29.279154Z"
    },
    "papermill": {
     "duration": 0.123815,
     "end_time": "2023-08-13T01:28:29.283279",
     "exception": false,
     "start_time": "2023-08-13T01:28:29.159464",
     "status": "completed"
    },
    "tags": []
   },
   "outputs": [],
   "source": [
    "# tvec_ngram_2_sw_df = TfidfVectorizer(ngram_range=(1,2), stop_words=None, min_df=0.0001, max_df=0.50)\n",
    "# tvec_ngram_2_sw_df"
   ]
  },
  {
   "cell_type": "code",
   "execution_count": 211,
   "id": "f29282e6",
   "metadata": {
    "execution": {
     "iopub.execute_input": "2023-08-13T01:28:29.517923Z",
     "iopub.status.busy": "2023-08-13T01:28:29.517493Z",
     "iopub.status.idle": "2023-08-13T01:28:29.521917Z",
     "shell.execute_reply": "2023-08-13T01:28:29.520988Z"
    },
    "papermill": {
     "duration": 0.124771,
     "end_time": "2023-08-13T01:28:29.524272",
     "exception": false,
     "start_time": "2023-08-13T01:28:29.399501",
     "status": "completed"
    },
    "tags": []
   },
   "outputs": [],
   "source": [
    "# logreg_ng2_sw_df_pipe = preprocess_n_train(X_train, y_train, tvec_ngram_2_sw_df, logreg)\n",
    "# logreg_ng2_sw_df_pipe"
   ]
  },
  {
   "cell_type": "code",
   "execution_count": 212,
   "id": "04166d2f",
   "metadata": {
    "execution": {
     "iopub.execute_input": "2023-08-13T01:28:29.760528Z",
     "iopub.status.busy": "2023-08-13T01:28:29.759685Z",
     "iopub.status.idle": "2023-08-13T01:28:29.763661Z",
     "shell.execute_reply": "2023-08-13T01:28:29.762857Z"
    },
    "papermill": {
     "duration": 0.126648,
     "end_time": "2023-08-13T01:28:29.765870",
     "exception": false,
     "start_time": "2023-08-13T01:28:29.639222",
     "status": "completed"
    },
    "tags": []
   },
   "outputs": [],
   "source": [
    "# y_pred_logreg_ng2_sw_df = predict_n_evaluate(logreg_ng2_sw_df_pipe, X_test, y_test)\n",
    "# y_pred_logreg_ng2_sw_df"
   ]
  },
  {
   "cell_type": "markdown",
   "id": "41bfc2e2",
   "metadata": {
    "papermill": {
     "duration": 0.150428,
     "end_time": "2023-08-13T01:28:30.038799",
     "exception": false,
     "start_time": "2023-08-13T01:28:29.888371",
     "status": "completed"
    },
    "tags": []
   },
   "source": [
    "### Log reg with parameters from GridSearchCV  \n",
    "\n",
    "`This is the best score with \"reviewText column alone for analysis`  "
   ]
  },
  {
   "cell_type": "code",
   "execution_count": 213,
   "id": "97140d05",
   "metadata": {
    "execution": {
     "iopub.execute_input": "2023-08-13T01:28:30.290993Z",
     "iopub.status.busy": "2023-08-13T01:28:30.290225Z",
     "iopub.status.idle": "2023-08-13T01:28:30.296466Z",
     "shell.execute_reply": "2023-08-13T01:28:30.295407Z"
    },
    "papermill": {
     "duration": 0.128994,
     "end_time": "2023-08-13T01:28:30.298694",
     "exception": false,
     "start_time": "2023-08-13T01:28:30.169700",
     "status": "completed"
    },
    "tags": []
   },
   "outputs": [],
   "source": [
    "logreg_cv1 = LogisticRegression(max_iter=100000, C=10)\n",
    "tvec_cv1 = TfidfVectorizer(max_features=None, ngram_range=(1,2))"
   ]
  },
  {
   "cell_type": "code",
   "execution_count": 214,
   "id": "2bd33392",
   "metadata": {
    "execution": {
     "iopub.execute_input": "2023-08-13T01:28:30.538454Z",
     "iopub.status.busy": "2023-08-13T01:28:30.537616Z",
     "iopub.status.idle": "2023-08-13T01:28:30.543162Z",
     "shell.execute_reply": "2023-08-13T01:28:30.542130Z"
    },
    "papermill": {
     "duration": 0.125966,
     "end_time": "2023-08-13T01:28:30.545765",
     "exception": false,
     "start_time": "2023-08-13T01:28:30.419799",
     "status": "completed"
    },
    "tags": []
   },
   "outputs": [],
   "source": [
    "pipe_cv1 = Pipeline(steps=[\n",
    "    (\"preprocessor\", tvec_cv1),\n",
    "    (\"model\", logreg_cv1)\n",
    "])"
   ]
  },
  {
   "cell_type": "code",
   "execution_count": 215,
   "id": "867214be",
   "metadata": {
    "execution": {
     "iopub.execute_input": "2023-08-13T01:28:30.784105Z",
     "iopub.status.busy": "2023-08-13T01:28:30.783148Z",
     "iopub.status.idle": "2023-08-13T01:28:30.788120Z",
     "shell.execute_reply": "2023-08-13T01:28:30.787124Z"
    },
    "papermill": {
     "duration": 0.127993,
     "end_time": "2023-08-13T01:28:30.790438",
     "exception": false,
     "start_time": "2023-08-13T01:28:30.662445",
     "status": "completed"
    },
    "tags": []
   },
   "outputs": [],
   "source": [
    "# pipe_cv1.fit(X_train, y_train)"
   ]
  },
  {
   "cell_type": "code",
   "execution_count": 216,
   "id": "5842f331",
   "metadata": {
    "execution": {
     "iopub.execute_input": "2023-08-13T01:28:31.026686Z",
     "iopub.status.busy": "2023-08-13T01:28:31.025956Z",
     "iopub.status.idle": "2023-08-13T01:28:31.030557Z",
     "shell.execute_reply": "2023-08-13T01:28:31.029583Z"
    },
    "papermill": {
     "duration": 0.1268,
     "end_time": "2023-08-13T01:28:31.033000",
     "exception": false,
     "start_time": "2023-08-13T01:28:30.906200",
     "status": "completed"
    },
    "tags": []
   },
   "outputs": [],
   "source": [
    "# pipe_cv1.score(X_train, y_train)"
   ]
  },
  {
   "cell_type": "markdown",
   "id": "290a1e5c",
   "metadata": {
    "papermill": {
     "duration": 0.1164,
     "end_time": "2023-08-13T01:28:31.267802",
     "exception": false,
     "start_time": "2023-08-13T01:28:31.151402",
     "status": "completed"
    },
    "tags": []
   },
   "source": [
    "### SVM model with stop words  "
   ]
  },
  {
   "cell_type": "code",
   "execution_count": 217,
   "id": "0d020e39",
   "metadata": {
    "execution": {
     "iopub.execute_input": "2023-08-13T01:28:31.500516Z",
     "iopub.status.busy": "2023-08-13T01:28:31.500123Z",
     "iopub.status.idle": "2023-08-13T01:28:31.504578Z",
     "shell.execute_reply": "2023-08-13T01:28:31.503366Z"
    },
    "papermill": {
     "duration": 0.124231,
     "end_time": "2023-08-13T01:28:31.506976",
     "exception": false,
     "start_time": "2023-08-13T01:28:31.382745",
     "status": "completed"
    },
    "tags": []
   },
   "outputs": [],
   "source": [
    "# svm_sw_pipe = preprocess_n_train(X_train, y_train, tvec_sw, svm)\n",
    "# svm_sw_pipe"
   ]
  },
  {
   "cell_type": "code",
   "execution_count": 218,
   "id": "c5a794b7",
   "metadata": {
    "execution": {
     "iopub.execute_input": "2023-08-13T01:28:31.742747Z",
     "iopub.status.busy": "2023-08-13T01:28:31.742353Z",
     "iopub.status.idle": "2023-08-13T01:28:31.746933Z",
     "shell.execute_reply": "2023-08-13T01:28:31.745690Z"
    },
    "papermill": {
     "duration": 0.125111,
     "end_time": "2023-08-13T01:28:31.749256",
     "exception": false,
     "start_time": "2023-08-13T01:28:31.624145",
     "status": "completed"
    },
    "tags": []
   },
   "outputs": [],
   "source": [
    "# y_pred_svm_sw = predict_n_evaluate(svm_sw_pipe, X_test, y_test)\n",
    "# y_pred_svm_sw"
   ]
  },
  {
   "cell_type": "markdown",
   "id": "9f8a9562",
   "metadata": {
    "papermill": {
     "duration": 0.115837,
     "end_time": "2023-08-13T01:28:31.979770",
     "exception": false,
     "start_time": "2023-08-13T01:28:31.863933",
     "status": "completed"
    },
    "tags": []
   },
   "source": [
    "### GaussianNB  "
   ]
  },
  {
   "cell_type": "markdown",
   "id": "cc0c12c1",
   "metadata": {
    "papermill": {
     "duration": 0.114432,
     "end_time": "2023-08-13T01:28:32.210110",
     "exception": false,
     "start_time": "2023-08-13T01:28:32.095678",
     "status": "completed"
    },
    "tags": []
   },
   "source": [
    "https://stackoverflow.com/questions/28384680/scikit-learns-pipeline-a-sparse-matrix-was-passed-but-dense-data-is-required"
   ]
  },
  {
   "cell_type": "code",
   "execution_count": 219,
   "id": "10d9b8e4",
   "metadata": {
    "execution": {
     "iopub.execute_input": "2023-08-13T01:28:32.444424Z",
     "iopub.status.busy": "2023-08-13T01:28:32.443732Z",
     "iopub.status.idle": "2023-08-13T01:28:32.448446Z",
     "shell.execute_reply": "2023-08-13T01:28:32.447260Z"
    },
    "papermill": {
     "duration": 0.125795,
     "end_time": "2023-08-13T01:28:32.451019",
     "exception": false,
     "start_time": "2023-08-13T01:28:32.325224",
     "status": "completed"
    },
    "tags": []
   },
   "outputs": [],
   "source": [
    "# gnb = GaussianNB()\n",
    "# gnb"
   ]
  },
  {
   "cell_type": "code",
   "execution_count": 220,
   "id": "cfe1bb3e",
   "metadata": {
    "execution": {
     "iopub.execute_input": "2023-08-13T01:28:32.683670Z",
     "iopub.status.busy": "2023-08-13T01:28:32.683068Z",
     "iopub.status.idle": "2023-08-13T01:28:32.686631Z",
     "shell.execute_reply": "2023-08-13T01:28:32.685901Z"
    },
    "papermill": {
     "duration": 0.122662,
     "end_time": "2023-08-13T01:28:32.688858",
     "exception": false,
     "start_time": "2023-08-13T01:28:32.566196",
     "status": "completed"
    },
    "tags": []
   },
   "outputs": [],
   "source": [
    "# gnb_pipe = preprocess_n_train(X_train, y_train, tvec, gnb)\n",
    "# gnb_pipe"
   ]
  },
  {
   "cell_type": "markdown",
   "id": "ec2cec41",
   "metadata": {
    "papermill": {
     "duration": 0.114888,
     "end_time": "2023-08-13T01:28:32.923924",
     "exception": false,
     "start_time": "2023-08-13T01:28:32.809036",
     "status": "completed"
    },
    "tags": []
   },
   "source": [
    "# Part II (Older code)  \n"
   ]
  },
  {
   "cell_type": "markdown",
   "id": "d7902171",
   "metadata": {
    "papermill": {
     "duration": 0.115452,
     "end_time": "2023-08-13T01:28:33.154773",
     "exception": false,
     "start_time": "2023-08-13T01:28:33.039321",
     "status": "completed"
    },
    "tags": []
   },
   "source": [
    "### Separate features and labels from merged dataset  "
   ]
  },
  {
   "cell_type": "code",
   "execution_count": 221,
   "id": "01f6fd16",
   "metadata": {
    "execution": {
     "iopub.execute_input": "2023-08-13T01:28:33.387274Z",
     "iopub.status.busy": "2023-08-13T01:28:33.386250Z",
     "iopub.status.idle": "2023-08-13T01:28:33.390576Z",
     "shell.execute_reply": "2023-08-13T01:28:33.389756Z"
    },
    "papermill": {
     "duration": 0.12239,
     "end_time": "2023-08-13T01:28:33.392701",
     "exception": false,
     "start_time": "2023-08-13T01:28:33.270311",
     "status": "completed"
    },
    "tags": []
   },
   "outputs": [],
   "source": [
    "# merged_train_features = merged[['movieid', 'reviewerName', 'isFrequentReviewer', 'reviewText',\n",
    "#        'audienceScore', 'rating', 'runtimeMinutes', 'genre',\n",
    "#        'originalLanguage', 'director']]\n",
    "# merged_train_features.shape"
   ]
  },
  {
   "cell_type": "code",
   "execution_count": 222,
   "id": "984ac95f",
   "metadata": {
    "execution": {
     "iopub.execute_input": "2023-08-13T01:28:33.623758Z",
     "iopub.status.busy": "2023-08-13T01:28:33.623349Z",
     "iopub.status.idle": "2023-08-13T01:28:33.628528Z",
     "shell.execute_reply": "2023-08-13T01:28:33.626957Z"
    },
    "papermill": {
     "duration": 0.123336,
     "end_time": "2023-08-13T01:28:33.630896",
     "exception": false,
     "start_time": "2023-08-13T01:28:33.507560",
     "status": "completed"
    },
    "tags": []
   },
   "outputs": [],
   "source": [
    "# merged_train_labels = merged[\"sentiment\"]\n",
    "# merged_train_labels.shape"
   ]
  },
  {
   "cell_type": "markdown",
   "id": "8f6a86b8",
   "metadata": {
    "papermill": {
     "duration": 0.114186,
     "end_time": "2023-08-13T01:28:33.862996",
     "exception": false,
     "start_time": "2023-08-13T01:28:33.748810",
     "status": "completed"
    },
    "tags": []
   },
   "source": [
    "### Identify variable types for different preprocessing pipes  "
   ]
  },
  {
   "cell_type": "code",
   "execution_count": 223,
   "id": "30a43db6",
   "metadata": {
    "execution": {
     "iopub.execute_input": "2023-08-13T01:28:34.095441Z",
     "iopub.status.busy": "2023-08-13T01:28:34.094841Z",
     "iopub.status.idle": "2023-08-13T01:28:34.099456Z",
     "shell.execute_reply": "2023-08-13T01:28:34.098610Z"
    },
    "papermill": {
     "duration": 0.124193,
     "end_time": "2023-08-13T01:28:34.101482",
     "exception": false,
     "start_time": "2023-08-13T01:28:33.977289",
     "status": "completed"
    },
    "tags": []
   },
   "outputs": [],
   "source": [
    "# num_vars = [\"audienceScore\", \"runtimeMinutes\"]\n",
    "# txt_vars = [\"originalLanguage\", \"genre\", \"director\", \"reviewerName\", \"reviewText\"]\n",
    "# cat_vars = [\"rating\", \"isFrequentReviewer\"]"
   ]
  },
  {
   "cell_type": "code",
   "execution_count": 224,
   "id": "1fbcd43d",
   "metadata": {
    "execution": {
     "iopub.execute_input": "2023-08-13T01:28:34.405121Z",
     "iopub.status.busy": "2023-08-13T01:28:34.404295Z",
     "iopub.status.idle": "2023-08-13T01:28:34.409660Z",
     "shell.execute_reply": "2023-08-13T01:28:34.408840Z"
    },
    "papermill": {
     "duration": 0.195848,
     "end_time": "2023-08-13T01:28:34.412009",
     "exception": false,
     "start_time": "2023-08-13T01:28:34.216161",
     "status": "completed"
    },
    "tags": []
   },
   "outputs": [],
   "source": [
    "# num_pipe = Pipeline(steps=[\n",
    "#                             (\"imputer\", SimpleImputer(strategy=\"mean\", missing_values=np.nan)),\n",
    "#                             (\"scaler\", MinMaxScaler())\n",
    "#                         ])\n",
    "# num_pipe"
   ]
  },
  {
   "cell_type": "code",
   "execution_count": 225,
   "id": "374d22c8",
   "metadata": {
    "execution": {
     "iopub.execute_input": "2023-08-13T01:28:34.647563Z",
     "iopub.status.busy": "2023-08-13T01:28:34.646796Z",
     "iopub.status.idle": "2023-08-13T01:28:34.650778Z",
     "shell.execute_reply": "2023-08-13T01:28:34.649998Z"
    },
    "papermill": {
     "duration": 0.122611,
     "end_time": "2023-08-13T01:28:34.653008",
     "exception": false,
     "start_time": "2023-08-13T01:28:34.530397",
     "status": "completed"
    },
    "tags": []
   },
   "outputs": [],
   "source": [
    "# txt_pipe = Pipeline(steps=[\n",
    "#                             (\"tvec\", TfidfVectorizer())\n",
    "#                         ])\n",
    "# txt_pipe"
   ]
  },
  {
   "cell_type": "code",
   "execution_count": 226,
   "id": "18a98314",
   "metadata": {
    "execution": {
     "iopub.execute_input": "2023-08-13T01:28:34.889266Z",
     "iopub.status.busy": "2023-08-13T01:28:34.888021Z",
     "iopub.status.idle": "2023-08-13T01:28:34.892876Z",
     "shell.execute_reply": "2023-08-13T01:28:34.891983Z"
    },
    "papermill": {
     "duration": 0.124135,
     "end_time": "2023-08-13T01:28:34.895041",
     "exception": false,
     "start_time": "2023-08-13T01:28:34.770906",
     "status": "completed"
    },
    "tags": []
   },
   "outputs": [],
   "source": [
    "# cat_pipe = Pipeline(steps=[\n",
    "#                             (\"ohe\", OneHotEncoder(handle_unknown=\"ignore\"))\n",
    "#                         ])\n",
    "# cat_pipe"
   ]
  },
  {
   "cell_type": "code",
   "execution_count": 227,
   "id": "c5d6c31c",
   "metadata": {
    "execution": {
     "iopub.execute_input": "2023-08-13T01:28:35.127560Z",
     "iopub.status.busy": "2023-08-13T01:28:35.127143Z",
     "iopub.status.idle": "2023-08-13T01:28:35.131723Z",
     "shell.execute_reply": "2023-08-13T01:28:35.130578Z"
    },
    "papermill": {
     "duration": 0.124475,
     "end_time": "2023-08-13T01:28:35.133983",
     "exception": false,
     "start_time": "2023-08-13T01:28:35.009508",
     "status": "completed"
    },
    "tags": []
   },
   "outputs": [],
   "source": [
    "# tfidf_vec_1 = TfidfVectorizer(ngram_range=(1,2))\n",
    "# tfidf_vec_1"
   ]
  },
  {
   "cell_type": "code",
   "execution_count": 228,
   "id": "719a5766",
   "metadata": {
    "execution": {
     "iopub.execute_input": "2023-08-13T01:28:35.364125Z",
     "iopub.status.busy": "2023-08-13T01:28:35.363700Z",
     "iopub.status.idle": "2023-08-13T01:28:35.369065Z",
     "shell.execute_reply": "2023-08-13T01:28:35.367807Z"
    },
    "papermill": {
     "duration": 0.123055,
     "end_time": "2023-08-13T01:28:35.371302",
     "exception": false,
     "start_time": "2023-08-13T01:28:35.248247",
     "status": "completed"
    },
    "tags": []
   },
   "outputs": [],
   "source": [
    "# ct_final = ColumnTransformer(transformers=[\n",
    "#                                         (\"num\", num_pipe, num_vars),\n",
    "#                                         (\"txt1\", txt_pipe, \"originalLanguage\"),\n",
    "#                                         (\"txt2\", txt_pipe, \"genre\"),\n",
    "#                                         (\"txt3\", txt_pipe, \"director\"),\n",
    "#                                         (\"cat\", cat_pipe, cat_vars),\n",
    "#                                         (\"txt4a\", tfidf_vec_1, \"reviewText\")\n",
    "# #                                         (\"txt4\", TfidfVectorizer(ngram_range=(1,2)), \"reviewText\"),\n",
    "# #                                         (\"cat2\", cat_pipe, [\"isFrequentReviewer\"])\n",
    "#                                         ], remainder=\"drop\", n_jobs=1)\n",
    "\n",
    "# # Note that this transformer drops \"movieid\" column and \"reviewerName\" column  \n",
    "# ct_final"
   ]
  },
  {
   "cell_type": "code",
   "execution_count": 229,
   "id": "0584b298",
   "metadata": {
    "execution": {
     "iopub.execute_input": "2023-08-13T01:28:35.603379Z",
     "iopub.status.busy": "2023-08-13T01:28:35.602609Z",
     "iopub.status.idle": "2023-08-13T01:28:35.606807Z",
     "shell.execute_reply": "2023-08-13T01:28:35.606068Z"
    },
    "papermill": {
     "duration": 0.122921,
     "end_time": "2023-08-13T01:28:35.608922",
     "exception": false,
     "start_time": "2023-08-13T01:28:35.486001",
     "status": "completed"
    },
    "tags": []
   },
   "outputs": [],
   "source": [
    "# pipe_final = Pipeline(steps=[\n",
    "#                         (\"preprocessor\", ct_final),\n",
    "#                         (\"model\", LogisticRegression(max_iter=100000))\n",
    "#                     ])\n",
    "# pipe_final"
   ]
  },
  {
   "cell_type": "code",
   "execution_count": 230,
   "id": "81973eb5",
   "metadata": {
    "execution": {
     "iopub.execute_input": "2023-08-13T01:28:35.845179Z",
     "iopub.status.busy": "2023-08-13T01:28:35.844451Z",
     "iopub.status.idle": "2023-08-13T01:28:35.848366Z",
     "shell.execute_reply": "2023-08-13T01:28:35.847453Z"
    },
    "papermill": {
     "duration": 0.124836,
     "end_time": "2023-08-13T01:28:35.850458",
     "exception": false,
     "start_time": "2023-08-13T01:28:35.725622",
     "status": "completed"
    },
    "tags": []
   },
   "outputs": [],
   "source": [
    "# final_vars = num_vars + txt_vars + cat_vars\n",
    "# len(final_vars), final_vars"
   ]
  },
  {
   "cell_type": "markdown",
   "id": "dc42b580",
   "metadata": {
    "papermill": {
     "duration": 0.114068,
     "end_time": "2023-08-13T01:28:36.079378",
     "exception": false,
     "start_time": "2023-08-13T01:28:35.965310",
     "status": "completed"
    },
    "tags": []
   },
   "source": [
    "### Use \"split_train_predict\" function to run end-to-end pipeline  "
   ]
  },
  {
   "cell_type": "code",
   "execution_count": 231,
   "id": "e5c70ba1",
   "metadata": {
    "execution": {
     "iopub.execute_input": "2023-08-13T01:28:36.311999Z",
     "iopub.status.busy": "2023-08-13T01:28:36.311295Z",
     "iopub.status.idle": "2023-08-13T01:28:36.315711Z",
     "shell.execute_reply": "2023-08-13T01:28:36.314734Z"
    },
    "papermill": {
     "duration": 0.123099,
     "end_time": "2023-08-13T01:28:36.317969",
     "exception": false,
     "start_time": "2023-08-13T01:28:36.194870",
     "status": "completed"
    },
    "tags": []
   },
   "outputs": [],
   "source": [
    "# split_train_predict(merged_train_features, merged_train_labels, pipe_final, test_size=0.25, random_state=42)"
   ]
  },
  {
   "cell_type": "markdown",
   "id": "0a67b7d0",
   "metadata": {
    "papermill": {
     "duration": 0.114727,
     "end_time": "2023-08-13T01:28:36.548162",
     "exception": false,
     "start_time": "2023-08-13T01:28:36.433435",
     "status": "completed"
    },
    "tags": []
   },
   "source": [
    "## Try the best four features obtained on local machine  "
   ]
  },
  {
   "cell_type": "code",
   "execution_count": 232,
   "id": "a45df6a5",
   "metadata": {
    "execution": {
     "iopub.execute_input": "2023-08-13T01:28:36.783114Z",
     "iopub.status.busy": "2023-08-13T01:28:36.782394Z",
     "iopub.status.idle": "2023-08-13T01:28:36.786823Z",
     "shell.execute_reply": "2023-08-13T01:28:36.785651Z"
    },
    "papermill": {
     "duration": 0.124751,
     "end_time": "2023-08-13T01:28:36.789044",
     "exception": false,
     "start_time": "2023-08-13T01:28:36.664293",
     "status": "completed"
    },
    "tags": []
   },
   "outputs": [],
   "source": [
    "# tfidf_vec_2 = TfidfVectorizer(ngram_range=(1,2))\n",
    "# tfidf_vec_2"
   ]
  },
  {
   "cell_type": "code",
   "execution_count": 233,
   "id": "b8fd54d3",
   "metadata": {
    "execution": {
     "iopub.execute_input": "2023-08-13T01:28:37.020747Z",
     "iopub.status.busy": "2023-08-13T01:28:37.020326Z",
     "iopub.status.idle": "2023-08-13T01:28:37.024937Z",
     "shell.execute_reply": "2023-08-13T01:28:37.024155Z"
    },
    "papermill": {
     "duration": 0.123462,
     "end_time": "2023-08-13T01:28:37.027070",
     "exception": false,
     "start_time": "2023-08-13T01:28:36.903608",
     "status": "completed"
    },
    "tags": []
   },
   "outputs": [],
   "source": [
    "# ct_best4 = ColumnTransformer(transformers=[\n",
    "#                                             (\"num\", num_pipe, [\"audienceScore\"]),\n",
    "#                                             (\"cat\", cat_pipe, [\"rating\", \"isFrequentReviewer\"]),\n",
    "#                                             (\"tvec\", tfidf_vec_2, \"reviewText\")\n",
    "#                             ])\n",
    "\n",
    "# pipe_best4 = Pipeline(steps=[\n",
    "#     (\"preprocessor\", ct_best4),\n",
    "#     (\"model\", LogisticRegression())\n",
    "# ])\n",
    "\n",
    "# pipe_best4.set_params(model__C=10, model__max_iter=100000)\n",
    "\n",
    "# pipe_best4"
   ]
  },
  {
   "cell_type": "code",
   "execution_count": 234,
   "id": "64a75558",
   "metadata": {
    "execution": {
     "iopub.execute_input": "2023-08-13T01:28:37.260687Z",
     "iopub.status.busy": "2023-08-13T01:28:37.259952Z",
     "iopub.status.idle": "2023-08-13T01:28:37.264321Z",
     "shell.execute_reply": "2023-08-13T01:28:37.263541Z"
    },
    "papermill": {
     "duration": 0.122377,
     "end_time": "2023-08-13T01:28:37.266449",
     "exception": false,
     "start_time": "2023-08-13T01:28:37.144072",
     "status": "completed"
    },
    "tags": []
   },
   "outputs": [],
   "source": [
    "# split_train_predict(merged[[\"audienceScore\", \"rating\", \"isFrequentReviewer\", \"reviewText\"]], merged[\"sentiment\"], pipe_best4, test_size=0.25)"
   ]
  },
  {
   "cell_type": "markdown",
   "id": "b044967d",
   "metadata": {
    "papermill": {
     "duration": 0.114454,
     "end_time": "2023-08-13T01:28:37.495458",
     "exception": false,
     "start_time": "2023-08-13T01:28:37.381004",
     "status": "completed"
    },
    "tags": []
   },
   "source": [
    "## Try only 'reviewText' column  "
   ]
  },
  {
   "cell_type": "code",
   "execution_count": 235,
   "id": "4dfeed7b",
   "metadata": {
    "execution": {
     "iopub.execute_input": "2023-08-13T01:28:37.727717Z",
     "iopub.status.busy": "2023-08-13T01:28:37.727007Z",
     "iopub.status.idle": "2023-08-13T01:28:37.731036Z",
     "shell.execute_reply": "2023-08-13T01:28:37.730307Z"
    },
    "papermill": {
     "duration": 0.12171,
     "end_time": "2023-08-13T01:28:37.733129",
     "exception": false,
     "start_time": "2023-08-13T01:28:37.611419",
     "status": "completed"
    },
    "tags": []
   },
   "outputs": [],
   "source": [
    "# tfidf_vec_3 = TfidfVectorizer(ngram_range=(1,2))\n",
    "# tfidf_vec_3"
   ]
  },
  {
   "cell_type": "code",
   "execution_count": 236,
   "id": "64f1f5b5",
   "metadata": {
    "execution": {
     "iopub.execute_input": "2023-08-13T01:28:37.968350Z",
     "iopub.status.busy": "2023-08-13T01:28:37.967646Z",
     "iopub.status.idle": "2023-08-13T01:28:37.971674Z",
     "shell.execute_reply": "2023-08-13T01:28:37.970866Z"
    },
    "papermill": {
     "duration": 0.123171,
     "end_time": "2023-08-13T01:28:37.973797",
     "exception": false,
     "start_time": "2023-08-13T01:28:37.850626",
     "status": "completed"
    },
    "tags": []
   },
   "outputs": [],
   "source": [
    "# ct_RTonly = ColumnTransformer(transformers=[\n",
    "#                                             ('txt', tfidf_vec_3, 'reviewText'),\n",
    "#                                             ], remainder='drop')\n",
    "# ct_RTonly"
   ]
  },
  {
   "cell_type": "code",
   "execution_count": 237,
   "id": "48de32dd",
   "metadata": {
    "execution": {
     "iopub.execute_input": "2023-08-13T01:28:38.207501Z",
     "iopub.status.busy": "2023-08-13T01:28:38.206815Z",
     "iopub.status.idle": "2023-08-13T01:28:38.210743Z",
     "shell.execute_reply": "2023-08-13T01:28:38.209989Z"
    },
    "papermill": {
     "duration": 0.124298,
     "end_time": "2023-08-13T01:28:38.212815",
     "exception": false,
     "start_time": "2023-08-13T01:28:38.088517",
     "status": "completed"
    },
    "tags": []
   },
   "outputs": [],
   "source": [
    "# pipe_RTonly = Pipeline(steps=[\n",
    "#     (\"preprocessor\", ct_RTonly),\n",
    "#     (\"model\", LogisticRegression())\n",
    "# ])\n",
    "\n",
    "# pipe_RTonly.set_params(model__C=10, model__max_iter=100000)\n",
    "\n",
    "# pipe_RTonly"
   ]
  },
  {
   "cell_type": "markdown",
   "id": "48222e85",
   "metadata": {
    "papermill": {
     "duration": 0.113892,
     "end_time": "2023-08-13T01:28:38.441723",
     "exception": false,
     "start_time": "2023-08-13T01:28:38.327831",
     "status": "completed"
    },
    "tags": []
   },
   "source": [
    "## Using the 'submit_v4' function  "
   ]
  },
  {
   "cell_type": "markdown",
   "id": "ff8e728a",
   "metadata": {
    "papermill": {
     "duration": 0.114329,
     "end_time": "2023-08-13T01:28:38.670301",
     "exception": false,
     "start_time": "2023-08-13T01:28:38.555972",
     "status": "completed"
    },
    "tags": []
   },
   "source": [
    "### Try the best 4 parameters with submit_v4 function"
   ]
  },
  {
   "cell_type": "code",
   "execution_count": 238,
   "id": "9fb32afc",
   "metadata": {
    "execution": {
     "iopub.execute_input": "2023-08-13T01:28:38.906299Z",
     "iopub.status.busy": "2023-08-13T01:28:38.905528Z",
     "iopub.status.idle": "2023-08-13T01:28:38.909885Z",
     "shell.execute_reply": "2023-08-13T01:28:38.909132Z"
    },
    "papermill": {
     "duration": 0.125512,
     "end_time": "2023-08-13T01:28:38.912149",
     "exception": false,
     "start_time": "2023-08-13T01:28:38.786637",
     "status": "completed"
    },
    "tags": []
   },
   "outputs": [],
   "source": [
    "# best4 = [\"audienceScore\", \"rating\", \"isFrequentReviewer\", \"reviewText\"]\n",
    "\n",
    "# best4_dict = {'cat': [\"rating\", \"isFrequentReviewer\"],\n",
    "#              'num': [\"audienceScore\"],\n",
    "#              'txt': ['reviewText']}\n",
    "\n",
    "# best4_dict = {'num': [\"audienceScore\"],\n",
    "#              'txt': ['reviewText', 'movieid', 'director']}\n",
    "\n",
    "# best4_dict"
   ]
  },
  {
   "cell_type": "code",
   "execution_count": 239,
   "id": "bd5937d9",
   "metadata": {
    "execution": {
     "iopub.execute_input": "2023-08-13T01:28:39.146835Z",
     "iopub.status.busy": "2023-08-13T01:28:39.146454Z",
     "iopub.status.idle": "2023-08-13T01:28:39.151192Z",
     "shell.execute_reply": "2023-08-13T01:28:39.149986Z"
    },
    "papermill": {
     "duration": 0.125555,
     "end_time": "2023-08-13T01:28:39.153580",
     "exception": false,
     "start_time": "2023-08-13T01:28:39.028025",
     "status": "completed"
    },
    "tags": []
   },
   "outputs": [],
   "source": [
    "# submit_v4(selected_features=best4_dict)"
   ]
  },
  {
   "cell_type": "markdown",
   "id": "c30971eb",
   "metadata": {
    "papermill": {
     "duration": 0.114067,
     "end_time": "2023-08-13T01:28:39.382257",
     "exception": false,
     "start_time": "2023-08-13T01:28:39.268190",
     "status": "completed"
    },
    "tags": []
   },
   "source": [
    "### Try the best 3 parameters with submit_v4 function"
   ]
  },
  {
   "cell_type": "code",
   "execution_count": 240,
   "id": "603e7591",
   "metadata": {
    "execution": {
     "iopub.execute_input": "2023-08-13T01:28:39.615273Z",
     "iopub.status.busy": "2023-08-13T01:28:39.614464Z",
     "iopub.status.idle": "2023-08-13T01:28:39.618815Z",
     "shell.execute_reply": "2023-08-13T01:28:39.617984Z"
    },
    "papermill": {
     "duration": 0.123857,
     "end_time": "2023-08-13T01:28:39.621116",
     "exception": false,
     "start_time": "2023-08-13T01:28:39.497259",
     "status": "completed"
    },
    "tags": []
   },
   "outputs": [],
   "source": [
    "# best3 = [\"audienceScore\", \"isFrequentReviewer\", \"reviewText\"]\n",
    "# best3_dict = {'cat': [\"isFrequentReviewer\"],\n",
    "#              'num': [\"audienceScore\"],\n",
    "#              'txt': ['reviewText']}\n",
    "# best3_dict"
   ]
  },
  {
   "cell_type": "code",
   "execution_count": 241,
   "id": "15ba6e1b",
   "metadata": {
    "execution": {
     "iopub.execute_input": "2023-08-13T01:28:39.866208Z",
     "iopub.status.busy": "2023-08-13T01:28:39.865462Z",
     "iopub.status.idle": "2023-08-13T01:28:39.869735Z",
     "shell.execute_reply": "2023-08-13T01:28:39.868896Z"
    },
    "papermill": {
     "duration": 0.133484,
     "end_time": "2023-08-13T01:28:39.871957",
     "exception": false,
     "start_time": "2023-08-13T01:28:39.738473",
     "status": "completed"
    },
    "tags": []
   },
   "outputs": [],
   "source": [
    "# submit_v4(selected_features=best3_dict)"
   ]
  },
  {
   "cell_type": "markdown",
   "id": "086ea61a",
   "metadata": {
    "papermill": {
     "duration": 0.117848,
     "end_time": "2023-08-13T01:28:40.128801",
     "exception": false,
     "start_time": "2023-08-13T01:28:40.010953",
     "status": "completed"
    },
    "tags": []
   },
   "source": [
    "## Try throwing almost everything (no boxOffice) at submit_v4!  "
   ]
  },
  {
   "cell_type": "code",
   "execution_count": 242,
   "id": "54c3f2a7",
   "metadata": {
    "execution": {
     "iopub.execute_input": "2023-08-13T01:28:40.362288Z",
     "iopub.status.busy": "2023-08-13T01:28:40.361531Z",
     "iopub.status.idle": "2023-08-13T01:28:40.368699Z",
     "shell.execute_reply": "2023-08-13T01:28:40.367339Z"
    },
    "papermill": {
     "duration": 0.126142,
     "end_time": "2023-08-13T01:28:40.371144",
     "exception": false,
     "start_time": "2023-08-13T01:28:40.245002",
     "status": "completed"
    },
    "tags": []
   },
   "outputs": [
    {
     "data": {
      "text/plain": [
       "\"Most from merged = ['movieid', 'reviewerName', 'isFrequentReviewer', 'reviewText',\\n       'audienceScore', 'rating', 'runtimeMinutes', 'genre', \\n       'originalLanguage', 'director']\""
      ]
     },
     "execution_count": 242,
     "metadata": {},
     "output_type": "execute_result"
    }
   ],
   "source": [
    "\"\"\"Most from merged = ['movieid', 'reviewerName', 'isFrequentReviewer', 'reviewText',\n",
    "       'audienceScore', 'rating', 'runtimeMinutes', 'genre', \n",
    "       'originalLanguage', 'director']\"\"\"\n",
    "\n",
    "# almost_dict = {'cat': [\"isFrequentReviewer\", \"rating\", \"originalLanguage\"],\n",
    "#              'num': [\"audienceScore\", \"runtimeMinutes\"],\n",
    "#              'txt': ['reviewText', 'reviewerName', 'movieid', 'genre', 'director']}\n",
    "# almost_dict"
   ]
  },
  {
   "cell_type": "code",
   "execution_count": 243,
   "id": "f500a387",
   "metadata": {
    "execution": {
     "iopub.execute_input": "2023-08-13T01:28:40.675874Z",
     "iopub.status.busy": "2023-08-13T01:28:40.675167Z",
     "iopub.status.idle": "2023-08-13T01:28:40.679918Z",
     "shell.execute_reply": "2023-08-13T01:28:40.678822Z"
    },
    "papermill": {
     "duration": 0.123318,
     "end_time": "2023-08-13T01:28:40.682491",
     "exception": false,
     "start_time": "2023-08-13T01:28:40.559173",
     "status": "completed"
    },
    "tags": []
   },
   "outputs": [],
   "source": [
    "# submit_v4(selected_features=almost_dict)"
   ]
  },
  {
   "cell_type": "markdown",
   "id": "a1292abf",
   "metadata": {
    "papermill": {
     "duration": 0.117635,
     "end_time": "2023-08-13T01:28:40.916071",
     "exception": false,
     "start_time": "2023-08-13T01:28:40.798436",
     "status": "completed"
    },
    "tags": []
   },
   "source": [
    "## Try throwing everything possible at submit_v4!  "
   ]
  },
  {
   "cell_type": "code",
   "execution_count": 244,
   "id": "5ed52b46",
   "metadata": {
    "execution": {
     "iopub.execute_input": "2023-08-13T01:28:41.150214Z",
     "iopub.status.busy": "2023-08-13T01:28:41.149782Z",
     "iopub.status.idle": "2023-08-13T01:28:41.155988Z",
     "shell.execute_reply": "2023-08-13T01:28:41.155240Z"
    },
    "papermill": {
     "duration": 0.126121,
     "end_time": "2023-08-13T01:28:41.158313",
     "exception": false,
     "start_time": "2023-08-13T01:28:41.032192",
     "status": "completed"
    },
    "tags": []
   },
   "outputs": [
    {
     "data": {
      "text/plain": [
       "\"All from merged = ['movieid', 'reviewerName', 'isFrequentReviewer', 'reviewText',\\n       'audienceScore', 'rating', 'runtimeMinutes', 'genre', 'boxOffice',\\n       'originalLanguage', 'director']\""
      ]
     },
     "execution_count": 244,
     "metadata": {},
     "output_type": "execute_result"
    }
   ],
   "source": [
    "\"\"\"All from merged = ['movieid', 'reviewerName', 'isFrequentReviewer', 'reviewText',\n",
    "       'audienceScore', 'rating', 'runtimeMinutes', 'genre', 'boxOffice',\n",
    "       'originalLanguage', 'director']\"\"\"\n",
    "\n",
    "# all_dict = {'cat': [\"isFrequentReviewer\", \"rating\", \"originalLanguage\"],\n",
    "#              'num': [\"audienceScore\", \"runtimeMinutes\", \"boxOffice\"],\n",
    "#              'txt': ['reviewText', 'reviewerName', 'movieid', 'genre', 'director']}\n",
    "# all_dict"
   ]
  },
  {
   "cell_type": "code",
   "execution_count": 245,
   "id": "a15f19c4",
   "metadata": {
    "execution": {
     "iopub.execute_input": "2023-08-13T01:28:41.389324Z",
     "iopub.status.busy": "2023-08-13T01:28:41.388933Z",
     "iopub.status.idle": "2023-08-13T01:28:41.393731Z",
     "shell.execute_reply": "2023-08-13T01:28:41.392567Z"
    },
    "papermill": {
     "duration": 0.123532,
     "end_time": "2023-08-13T01:28:41.396136",
     "exception": false,
     "start_time": "2023-08-13T01:28:41.272604",
     "status": "completed"
    },
    "tags": []
   },
   "outputs": [],
   "source": [
    "# submit_v4(selected_features=all_dict)"
   ]
  },
  {
   "cell_type": "markdown",
   "id": "c4dde976",
   "metadata": {
    "papermill": {
     "duration": 0.115952,
     "end_time": "2023-08-13T01:28:41.627232",
     "exception": false,
     "start_time": "2023-08-13T01:28:41.511280",
     "status": "completed"
    },
    "tags": []
   },
   "source": [
    "## Try GridSearchCV on everything  "
   ]
  },
  {
   "cell_type": "code",
   "execution_count": 246,
   "id": "82cc6783",
   "metadata": {
    "execution": {
     "iopub.execute_input": "2023-08-13T01:28:41.861807Z",
     "iopub.status.busy": "2023-08-13T01:28:41.861428Z",
     "iopub.status.idle": "2023-08-13T01:28:41.866579Z",
     "shell.execute_reply": "2023-08-13T01:28:41.865405Z"
    },
    "papermill": {
     "duration": 0.126082,
     "end_time": "2023-08-13T01:28:41.868863",
     "exception": false,
     "start_time": "2023-08-13T01:28:41.742781",
     "status": "completed"
    },
    "tags": []
   },
   "outputs": [],
   "source": [
    "# param_grid = {\n",
    "#     \"model__C\": [0.5, 2, 5, 15]\n",
    "# }\n",
    "\n",
    "# param_grid = {\n",
    "#     'model__C' : [1, 5],\n",
    "#     'model__solver': ['lbfgs', 'liblinear', 'newton-cg', 'newton-cholesky', 'sag', 'saga']\n",
    "# }\n",
    "\n",
    "# param_grid = {\n",
    "#     'model__C' : [1, 5],\n",
    "#     'model__solver': ['lbfgs', 'liblinear', 'sag', 'saga']\n",
    "# }\n",
    "\n",
    "# param_grid = {\n",
    "#     'model__C' : [1, 5, 10, 15],\n",
    "#     'model__solver': ['lbfgs', 'liblinear', 'saga', 'newton-cg']\n",
    "# }\n",
    "\n",
    "# param_grid = {\n",
    "#     'model__C' : [1, 5, 10, 20],\n",
    "#     'model__solver': ['lbfgs', 'liblinear', 'saga']\n",
    "# }\n",
    "\n",
    "# param_grid"
   ]
  },
  {
   "cell_type": "code",
   "execution_count": 247,
   "id": "ac2c1f27",
   "metadata": {
    "execution": {
     "iopub.execute_input": "2023-08-13T01:28:42.100806Z",
     "iopub.status.busy": "2023-08-13T01:28:42.100435Z",
     "iopub.status.idle": "2023-08-13T01:28:42.104599Z",
     "shell.execute_reply": "2023-08-13T01:28:42.103579Z"
    },
    "papermill": {
     "duration": 0.122759,
     "end_time": "2023-08-13T01:28:42.106857",
     "exception": false,
     "start_time": "2023-08-13T01:28:41.984098",
     "status": "completed"
    },
    "tags": []
   },
   "outputs": [],
   "source": [
    "# submit_v4(selected_features={'txt': [\"genre\"]}, param_grid=param_grid)"
   ]
  },
  {
   "cell_type": "code",
   "execution_count": 248,
   "id": "64296f00",
   "metadata": {
    "execution": {
     "iopub.execute_input": "2023-08-13T01:28:42.340921Z",
     "iopub.status.busy": "2023-08-13T01:28:42.340312Z",
     "iopub.status.idle": "2023-08-13T01:28:42.347934Z",
     "shell.execute_reply": "2023-08-13T01:28:42.346567Z"
    },
    "papermill": {
     "duration": 0.126758,
     "end_time": "2023-08-13T01:28:42.350359",
     "exception": false,
     "start_time": "2023-08-13T01:28:42.223601",
     "status": "completed"
    },
    "tags": []
   },
   "outputs": [
    {
     "data": {
      "text/plain": [
       "\"Used 'groupby' function instead on 'drop_duplicates' on movies.csv file. \\nIt reduced the number of missing values significantly! \\nThen used LogisticRegression() with GridSearchCV on submit_v4 function with \\nparam_grid={'model__C': [1, 5, 10], 'model__solver': ['lbfgs', 'liblinear', 'saga']}. \\nThe best f1_micro score in GridSearchCV was 0.8399771362056203 which is highest among \\nall the versions so far. Best C was 5 and best solver was 'saga'.\\nScore obtained was 0.84385 which is lower than 0.84441.\""
      ]
     },
     "execution_count": 248,
     "metadata": {},
     "output_type": "execute_result"
    }
   ],
   "source": [
    "# submit_v4(selected_features=all_dict, param_grid=param_grid)\n",
    "\n",
    "# Best C was 5\n",
    "# Best solver was liblinear\n",
    "\n",
    "\"\"\"Used 'groupby' function instead on 'drop_duplicates' on movies.csv file. \n",
    "It reduced the number of missing values significantly! \n",
    "Then used LogisticRegression() with GridSearchCV on submit_v4 function with \n",
    "param_grid={'model__C': [1, 5, 10], 'model__solver': ['lbfgs', 'liblinear', 'saga']}. \n",
    "The best f1_micro score in GridSearchCV was 0.8399771362056203 which is highest among \n",
    "all the versions so far. Best C was 5 and best solver was 'saga'.\n",
    "Score obtained was 0.84385 which is lower than 0.84441.\"\"\""
   ]
  },
  {
   "cell_type": "code",
   "execution_count": 249,
   "id": "f5665e1e",
   "metadata": {
    "execution": {
     "iopub.execute_input": "2023-08-13T01:28:42.583272Z",
     "iopub.status.busy": "2023-08-13T01:28:42.582845Z",
     "iopub.status.idle": "2023-08-13T01:28:42.587661Z",
     "shell.execute_reply": "2023-08-13T01:28:42.586544Z"
    },
    "papermill": {
     "duration": 0.124586,
     "end_time": "2023-08-13T01:28:42.590347",
     "exception": false,
     "start_time": "2023-08-13T01:28:42.465761",
     "status": "completed"
    },
    "tags": []
   },
   "outputs": [],
   "source": [
    "# Best 5 parameters\n",
    "\n",
    "# best5_dict = {'num': [\"audienceScore\"],\n",
    "#              'txt': ['reviewText', 'reviewerName','movieid', 'director']}\n",
    "\n",
    "# best5_dict"
   ]
  },
  {
   "cell_type": "code",
   "execution_count": 250,
   "id": "8a13d7f4",
   "metadata": {
    "execution": {
     "iopub.execute_input": "2023-08-13T01:28:42.827348Z",
     "iopub.status.busy": "2023-08-13T01:28:42.826463Z",
     "iopub.status.idle": "2023-08-13T01:28:42.834292Z",
     "shell.execute_reply": "2023-08-13T01:28:42.833340Z"
    },
    "papermill": {
     "duration": 0.12993,
     "end_time": "2023-08-13T01:28:42.836471",
     "exception": false,
     "start_time": "2023-08-13T01:28:42.706541",
     "status": "completed"
    },
    "tags": []
   },
   "outputs": [
    {
     "data": {
      "text/plain": [
       "\"(Update): Used both CountVectorizer and TfidfVectorizer on a massive GridSearchCV \\nwhich took 22527.2s  (6.25 hrs) to run! Gave a score of 0.8439093822800923 locally and did not overfit!\\nBest params: {'model__C': 1, 'model__solver': 'liblinear'}.\\nHighest public score yet: 0.84591 (Rank up from 9 to 5!)\""
      ]
     },
     "execution_count": 250,
     "metadata": {},
     "output_type": "execute_result"
    }
   ],
   "source": [
    "# Submit best 5 features\n",
    "\n",
    "\"\"\"(Update): Used both CountVectorizer and TfidfVectorizer on a massive GridSearchCV \n",
    "which took 22527.2s  (6.25 hrs) to run! Gave a score of 0.8439093822800923 locally and did not overfit!\n",
    "Best params: {'model__C': 1, 'model__solver': 'liblinear'}.\n",
    "Highest public score yet: 0.84591 (Rank up from 9 to 5!)\"\"\"\n",
    "\n",
    "# param_grid = {\n",
    "#     'model__C' : [5, 10, 15],\n",
    "#     'model__solver': ['lbfgs', 'liblinear', 'saga']\n",
    "# }\n",
    "\n",
    "\n",
    "# Try new param_grid with fit_intercept and dual in logreg\n",
    "\n",
    "# param_grid = {\n",
    "#     'model__C' : [1],\n",
    "#     'model__solver': ['liblinear'],\n",
    "#     \"model__fit_intercept\" : [True, False],\n",
    "#     \"model__dual\" : [True, False] \n",
    "# }\n",
    "\n",
    "\n",
    "# Local testing  \n",
    "# submit_v4(selected_features={'num': ['audienceScore']},\n",
    "#          add_countvec=True)\n",
    "\n",
    "# submit_v4(selected_features={'num': ['audienceScore']},\n",
    "#          add_countvec=True, \n",
    "#           param_grid=param_grid)\n",
    "\n",
    "\n",
    "# Main submission\n",
    "\n",
    "# submit_v4(selected_features=best5_dict,\n",
    "#          add_countvec=True)\n",
    "\n",
    "\n",
    "# submit_v4(selected_features=best5_dict,\n",
    "#           add_countvec=True,\n",
    "#           param_grid=param_grid)"
   ]
  },
  {
   "cell_type": "code",
   "execution_count": 251,
   "id": "9d3c1b19",
   "metadata": {
    "execution": {
     "iopub.execute_input": "2023-08-13T01:28:43.071286Z",
     "iopub.status.busy": "2023-08-13T01:28:43.070589Z",
     "iopub.status.idle": "2023-08-13T01:28:43.075866Z",
     "shell.execute_reply": "2023-08-13T01:28:43.074665Z"
    },
    "papermill": {
     "duration": 0.124852,
     "end_time": "2023-08-13T01:28:43.078412",
     "exception": false,
     "start_time": "2023-08-13T01:28:42.953560",
     "status": "completed"
    },
    "tags": []
   },
   "outputs": [],
   "source": [
    "## ALL DICT cv=10\n",
    "\n",
    "# all_dict = {'cat': [\"isFrequentReviewer\", \"rating\", \"originalLanguage\"],\n",
    "#              'num': [\"audienceScore\", \"runtimeMinutes\", \"boxOffice\"],\n",
    "#              'txt': ['reviewText', 'reviewerName', 'movieid', 'genre', 'director']}\n",
    "# print(all_dict)\n",
    "\n",
    "# param_grid = {\n",
    "#     'model__C' : [2, 5, 10],\n",
    "#     'model__solver': ['lbfgs', 'liblinear', 'saga']\n",
    "# }\n",
    "# print(param_grid)\n",
    "\n",
    "# param_grid = {\n",
    "#     'model__C' : [1, 5, 10],\n",
    "#     'model__solver': ['liblinear'],\n",
    "#     \"model__fit_intercept\" : [True, False],\n",
    "#     \"model__dual\" : [True, False] \n",
    "# }\n",
    "\n",
    "\n",
    "# Main submission\n",
    "\n",
    "# submit_v4(selected_model=LogisticRegression(C=5, solver='liblinear', max_iter=10000),\n",
    "#           selected_features=all_dict,\n",
    "#           param_grid=param_grid)\n",
    "\n",
    "# submit_v4(selected_features=all_dict,\n",
    "#           add_countvec=True,\n",
    "#           param_grid=param_grid)"
   ]
  },
  {
   "cell_type": "code",
   "execution_count": 252,
   "id": "f8b38cf3",
   "metadata": {
    "execution": {
     "iopub.execute_input": "2023-08-13T01:28:43.316285Z",
     "iopub.status.busy": "2023-08-13T01:28:43.314894Z",
     "iopub.status.idle": "2023-08-13T01:28:43.320671Z",
     "shell.execute_reply": "2023-08-13T01:28:43.319823Z"
    },
    "papermill": {
     "duration": 0.125384,
     "end_time": "2023-08-13T01:28:43.323027",
     "exception": false,
     "start_time": "2023-08-13T01:28:43.197643",
     "status": "completed"
    },
    "tags": []
   },
   "outputs": [],
   "source": [
    "# Best 6 parameters\n",
    "\n",
    "# best6_dict = {'cat': [\"isFrequentReviewer\"],\n",
    "#              'num': [\"audienceScore\"],\n",
    "#              'txt': ['reviewText', 'reviewerName', 'genre', 'director']}\n",
    "\n",
    "# best6_dict = {'num': [\"audienceScore\"],\n",
    "#              'txt': ['reviewText', 'reviewerName', 'genre','movieid', 'director']}\n",
    "\n",
    "# best6_dict"
   ]
  },
  {
   "cell_type": "code",
   "execution_count": 253,
   "id": "3dd45059",
   "metadata": {
    "execution": {
     "iopub.execute_input": "2023-08-13T01:28:43.559729Z",
     "iopub.status.busy": "2023-08-13T01:28:43.558508Z",
     "iopub.status.idle": "2023-08-13T01:28:43.563955Z",
     "shell.execute_reply": "2023-08-13T01:28:43.563054Z"
    },
    "papermill": {
     "duration": 0.12418,
     "end_time": "2023-08-13T01:28:43.566338",
     "exception": false,
     "start_time": "2023-08-13T01:28:43.442158",
     "status": "completed"
    },
    "tags": []
   },
   "outputs": [],
   "source": [
    "# Submit best 6 features (version 2)\n",
    "\n",
    "# submit_v4(selected_features=best6_dict,\n",
    "#           param_grid=param_grid)"
   ]
  },
  {
   "cell_type": "code",
   "execution_count": 254,
   "id": "ea03e5fd",
   "metadata": {
    "execution": {
     "iopub.execute_input": "2023-08-13T01:28:43.806897Z",
     "iopub.status.busy": "2023-08-13T01:28:43.805548Z",
     "iopub.status.idle": "2023-08-13T01:28:43.810861Z",
     "shell.execute_reply": "2023-08-13T01:28:43.809675Z"
    },
    "papermill": {
     "duration": 0.128141,
     "end_time": "2023-08-13T01:28:43.813156",
     "exception": false,
     "start_time": "2023-08-13T01:28:43.685015",
     "status": "completed"
    },
    "tags": []
   },
   "outputs": [],
   "source": [
    "# Best 7 parameters\n",
    "\n",
    "# best7_dict = {'cat': [\"isFrequentReviewer\"],\n",
    "#              'num': [\"audienceScore\"],\n",
    "#              'txt': ['reviewText', 'reviewerName', 'movieid', 'genre', 'director']}\n",
    "# best7_dict"
   ]
  },
  {
   "cell_type": "code",
   "execution_count": 255,
   "id": "de810651",
   "metadata": {
    "execution": {
     "iopub.execute_input": "2023-08-13T01:28:44.048532Z",
     "iopub.status.busy": "2023-08-13T01:28:44.048013Z",
     "iopub.status.idle": "2023-08-13T01:28:44.052312Z",
     "shell.execute_reply": "2023-08-13T01:28:44.051536Z"
    },
    "papermill": {
     "duration": 0.124041,
     "end_time": "2023-08-13T01:28:44.054340",
     "exception": false,
     "start_time": "2023-08-13T01:28:43.930299",
     "status": "completed"
    },
    "tags": []
   },
   "outputs": [],
   "source": [
    "# Submit best 7 features\n",
    "\n",
    "# submit_v4(selected_features=best7_dict,\n",
    "#           param_grid=param_grid)"
   ]
  },
  {
   "cell_type": "code",
   "execution_count": 256,
   "id": "75403e1c",
   "metadata": {
    "execution": {
     "iopub.execute_input": "2023-08-13T01:28:44.287754Z",
     "iopub.status.busy": "2023-08-13T01:28:44.287034Z",
     "iopub.status.idle": "2023-08-13T01:28:44.291371Z",
     "shell.execute_reply": "2023-08-13T01:28:44.290253Z"
    },
    "papermill": {
     "duration": 0.12389,
     "end_time": "2023-08-13T01:28:44.293691",
     "exception": false,
     "start_time": "2023-08-13T01:28:44.169801",
     "status": "completed"
    },
    "tags": []
   },
   "outputs": [],
   "source": [
    "# submit_v4(selected_features=best6_dict, param_grid=param_grid)"
   ]
  },
  {
   "cell_type": "markdown",
   "id": "a6bc42b0",
   "metadata": {
    "papermill": {
     "duration": 0.116528,
     "end_time": "2023-08-13T01:28:44.526996",
     "exception": false,
     "start_time": "2023-08-13T01:28:44.410468",
     "status": "completed"
    },
    "tags": []
   },
   "source": [
    "## Try a new feature dict  \n",
    "\n"
   ]
  },
  {
   "cell_type": "code",
   "execution_count": 257,
   "id": "ffc9607d",
   "metadata": {
    "execution": {
     "iopub.execute_input": "2023-08-13T01:28:44.768814Z",
     "iopub.status.busy": "2023-08-13T01:28:44.768390Z",
     "iopub.status.idle": "2023-08-13T01:28:44.773127Z",
     "shell.execute_reply": "2023-08-13T01:28:44.771940Z"
    },
    "papermill": {
     "duration": 0.12675,
     "end_time": "2023-08-13T01:28:44.775571",
     "exception": false,
     "start_time": "2023-08-13T01:28:44.648821",
     "status": "completed"
    },
    "tags": []
   },
   "outputs": [],
   "source": [
    "# all_dict_new = {'cat': [\"isFrequentReviewer\", \"rating\", \"originalLanguage\"],\n",
    "#              'num': [\"audienceScore\", \"runtimeMinutes\", \"boxOffice\"],\n",
    "#              'txt': ['reviewText', \"reviewerName\", 'movieid', 'genre', 'director']}\n",
    "# all_dict_new"
   ]
  },
  {
   "cell_type": "code",
   "execution_count": 258,
   "id": "c4f9b86c",
   "metadata": {
    "execution": {
     "iopub.execute_input": "2023-08-13T01:28:45.010724Z",
     "iopub.status.busy": "2023-08-13T01:28:45.010275Z",
     "iopub.status.idle": "2023-08-13T01:28:45.015223Z",
     "shell.execute_reply": "2023-08-13T01:28:45.013994Z"
    },
    "papermill": {
     "duration": 0.124318,
     "end_time": "2023-08-13T01:28:45.017534",
     "exception": false,
     "start_time": "2023-08-13T01:28:44.893216",
     "status": "completed"
    },
    "tags": []
   },
   "outputs": [],
   "source": [
    "# submit_v4(selected_features={'txt': ['genre']}, param_grid=param_grid)"
   ]
  },
  {
   "cell_type": "code",
   "execution_count": 259,
   "id": "ab318dc3",
   "metadata": {
    "execution": {
     "iopub.execute_input": "2023-08-13T01:28:45.252909Z",
     "iopub.status.busy": "2023-08-13T01:28:45.252407Z",
     "iopub.status.idle": "2023-08-13T01:28:45.257220Z",
     "shell.execute_reply": "2023-08-13T01:28:45.256147Z"
    },
    "papermill": {
     "duration": 0.126429,
     "end_time": "2023-08-13T01:28:45.259420",
     "exception": false,
     "start_time": "2023-08-13T01:28:45.132991",
     "status": "completed"
    },
    "tags": []
   },
   "outputs": [],
   "source": [
    "# submit_v4(selected_features=all_dict_new, param_grid=param_grid)"
   ]
  },
  {
   "cell_type": "code",
   "execution_count": 260,
   "id": "82b503d9",
   "metadata": {
    "execution": {
     "iopub.execute_input": "2023-08-13T01:28:45.493799Z",
     "iopub.status.busy": "2023-08-13T01:28:45.493018Z",
     "iopub.status.idle": "2023-08-13T01:28:45.497513Z",
     "shell.execute_reply": "2023-08-13T01:28:45.496565Z"
    },
    "papermill": {
     "duration": 0.123596,
     "end_time": "2023-08-13T01:28:45.499636",
     "exception": false,
     "start_time": "2023-08-13T01:28:45.376040",
     "status": "completed"
    },
    "tags": []
   },
   "outputs": [],
   "source": [
    "# Try non-text based columns\n",
    "# num_cat_dict = {'cat': ['isFrequentReviewer', 'rating', 'originalLanguage'],\n",
    "#  'num': ['audienceScore', 'runtimeMinutes', 'boxOffice']}\n",
    "# num_cat_dict"
   ]
  },
  {
   "cell_type": "code",
   "execution_count": 261,
   "id": "c7228c38",
   "metadata": {
    "execution": {
     "iopub.execute_input": "2023-08-13T01:28:45.733238Z",
     "iopub.status.busy": "2023-08-13T01:28:45.732519Z",
     "iopub.status.idle": "2023-08-13T01:28:45.738491Z",
     "shell.execute_reply": "2023-08-13T01:28:45.737359Z"
    },
    "papermill": {
     "duration": 0.125657,
     "end_time": "2023-08-13T01:28:45.740719",
     "exception": false,
     "start_time": "2023-08-13T01:28:45.615062",
     "status": "completed"
    },
    "tags": []
   },
   "outputs": [],
   "source": [
    "# Use num_cat_dict features\n",
    "# (Update): Gets a local score of 0.7027181356991726. Not great.\n",
    "# submit_v4(selected_model=LogisticRegression(max_iter=100000), selected_features=num_cat_dict, param_grid=param_grid)"
   ]
  },
  {
   "cell_type": "code",
   "execution_count": 262,
   "id": "4ebe8a4c",
   "metadata": {
    "execution": {
     "iopub.execute_input": "2023-08-13T01:28:45.976435Z",
     "iopub.status.busy": "2023-08-13T01:28:45.975683Z",
     "iopub.status.idle": "2023-08-13T01:28:45.980695Z",
     "shell.execute_reply": "2023-08-13T01:28:45.979424Z"
    },
    "papermill": {
     "duration": 0.125457,
     "end_time": "2023-08-13T01:28:45.983230",
     "exception": false,
     "start_time": "2023-08-13T01:28:45.857773",
     "status": "completed"
    },
    "tags": []
   },
   "outputs": [],
   "source": [
    "# Try data other than reviewText\n",
    "\n",
    "# mov_dict = {'cat': ['rating', 'originalLanguage'],\n",
    "#  'num': ['audienceScore', 'runtimeMinutes', 'boxOffice'],\n",
    "#  'txt': ['movieid', 'genre', 'director']}\n",
    "# mov_dict"
   ]
  },
  {
   "cell_type": "code",
   "execution_count": 263,
   "id": "f372e741",
   "metadata": {
    "execution": {
     "iopub.execute_input": "2023-08-13T01:28:46.224342Z",
     "iopub.status.busy": "2023-08-13T01:28:46.223723Z",
     "iopub.status.idle": "2023-08-13T01:28:46.228913Z",
     "shell.execute_reply": "2023-08-13T01:28:46.228031Z"
    },
    "papermill": {
     "duration": 0.129473,
     "end_time": "2023-08-13T01:28:46.231371",
     "exception": false,
     "start_time": "2023-08-13T01:28:46.101898",
     "status": "completed"
    },
    "tags": []
   },
   "outputs": [],
   "source": [
    "# Use mov_dict features\n",
    "# (Update): Gets a local score of 0.7475454316469369, which is not bad at all.\n",
    "# submit_v4(selected_model=LogisticRegression(max_iter=100000), selected_features=mov_dict, param_grid=param_grid)"
   ]
  },
  {
   "cell_type": "markdown",
   "id": "25602b85",
   "metadata": {
    "papermill": {
     "duration": 0.115982,
     "end_time": "2023-08-13T01:28:46.465388",
     "exception": false,
     "start_time": "2023-08-13T01:28:46.349406",
     "status": "completed"
    },
    "tags": []
   },
   "source": [
    "# Try a new column 'reviewYN'  \n",
    "\n"
   ]
  },
  {
   "cell_type": "code",
   "execution_count": 264,
   "id": "0e1e9492",
   "metadata": {
    "execution": {
     "iopub.execute_input": "2023-08-13T01:28:46.703857Z",
     "iopub.status.busy": "2023-08-13T01:28:46.703021Z",
     "iopub.status.idle": "2023-08-13T01:28:46.708069Z",
     "shell.execute_reply": "2023-08-13T01:28:46.707298Z"
    },
    "papermill": {
     "duration": 0.129106,
     "end_time": "2023-08-13T01:28:46.710481",
     "exception": false,
     "start_time": "2023-08-13T01:28:46.581375",
     "status": "completed"
    },
    "tags": []
   },
   "outputs": [],
   "source": [
    "# all_dict_3 = {'cat': [\"isFrequentReviewer\", \"rating\", \"originalLanguage\", \"reviewYN\"],\n",
    "#              'num': [\"audienceScore\", \"runtimeMinutes\", \"boxOffice\"],\n",
    "#              'txt': ['reviewText', \"reviewerName\", 'movieid', 'genre', 'director']}\n",
    "# all_dict_3"
   ]
  },
  {
   "cell_type": "code",
   "execution_count": 265,
   "id": "a1903fb6",
   "metadata": {
    "execution": {
     "iopub.execute_input": "2023-08-13T01:28:46.949176Z",
     "iopub.status.busy": "2023-08-13T01:28:46.948345Z",
     "iopub.status.idle": "2023-08-13T01:28:46.953205Z",
     "shell.execute_reply": "2023-08-13T01:28:46.952357Z"
    },
    "papermill": {
     "duration": 0.128107,
     "end_time": "2023-08-13T01:28:46.955622",
     "exception": false,
     "start_time": "2023-08-13T01:28:46.827515",
     "status": "completed"
    },
    "tags": []
   },
   "outputs": [],
   "source": [
    "# submit_v4(selected_model=LogisticRegression(max_iter=100000),\n",
    "#          selected_features=all_dict_3, \n",
    "#           param_grid=param_grid)"
   ]
  },
  {
   "cell_type": "markdown",
   "id": "6bfbbacd",
   "metadata": {
    "papermill": {
     "duration": 0.117745,
     "end_time": "2023-08-13T01:28:47.192055",
     "exception": false,
     "start_time": "2023-08-13T01:28:47.074310",
     "status": "completed"
    },
    "tags": []
   },
   "source": [
    "### More GridSearchCV using LinearSVC  "
   ]
  },
  {
   "cell_type": "code",
   "execution_count": 266,
   "id": "7729abae",
   "metadata": {
    "execution": {
     "iopub.execute_input": "2023-08-13T01:28:47.425932Z",
     "iopub.status.busy": "2023-08-13T01:28:47.425128Z",
     "iopub.status.idle": "2023-08-13T01:28:47.430509Z",
     "shell.execute_reply": "2023-08-13T01:28:47.429445Z"
    },
    "papermill": {
     "duration": 0.125468,
     "end_time": "2023-08-13T01:28:47.432979",
     "exception": false,
     "start_time": "2023-08-13T01:28:47.307511",
     "status": "completed"
    },
    "tags": []
   },
   "outputs": [],
   "source": [
    "# param_grid_svc_2 = {\n",
    "#     'model__C': [1.0],\n",
    "#     'model__loss': ['hinge', 'squared_hinge'],\n",
    "#     'model__class_weight': ['balanced', None]\n",
    "# }\n",
    "# param_grid_svc_2"
   ]
  },
  {
   "cell_type": "code",
   "execution_count": 267,
   "id": "6b8fa4af",
   "metadata": {
    "execution": {
     "iopub.execute_input": "2023-08-13T01:28:47.668254Z",
     "iopub.status.busy": "2023-08-13T01:28:47.667867Z",
     "iopub.status.idle": "2023-08-13T01:28:47.672566Z",
     "shell.execute_reply": "2023-08-13T01:28:47.671163Z"
    },
    "papermill": {
     "duration": 0.125529,
     "end_time": "2023-08-13T01:28:47.675116",
     "exception": false,
     "start_time": "2023-08-13T01:28:47.549587",
     "status": "completed"
    },
    "tags": []
   },
   "outputs": [],
   "source": [
    "# submit_v4(selected_model=LinearSVC(max_iter=100000, random_state=42), selected_features={'num': [\"audienceScore\"]}, param_grid=param_grid_svc_2)"
   ]
  },
  {
   "cell_type": "code",
   "execution_count": 268,
   "id": "f8b8adea",
   "metadata": {
    "execution": {
     "iopub.execute_input": "2023-08-13T01:28:47.911671Z",
     "iopub.status.busy": "2023-08-13T01:28:47.911246Z",
     "iopub.status.idle": "2023-08-13T01:28:47.916413Z",
     "shell.execute_reply": "2023-08-13T01:28:47.915121Z"
    },
    "papermill": {
     "duration": 0.125409,
     "end_time": "2023-08-13T01:28:47.918678",
     "exception": false,
     "start_time": "2023-08-13T01:28:47.793269",
     "status": "completed"
    },
    "tags": []
   },
   "outputs": [],
   "source": [
    "# submit_v4(selected_model=LinearSVC(max_iter=100000, random_state=42), selected_features=all_dict, param_grid=param_grid_svc_2)"
   ]
  },
  {
   "cell_type": "markdown",
   "id": "1949facd",
   "metadata": {
    "papermill": {
     "duration": 0.188512,
     "end_time": "2023-08-13T01:28:48.223418",
     "exception": false,
     "start_time": "2023-08-13T01:28:48.034906",
     "status": "completed"
    },
    "tags": []
   },
   "source": [
    "### Boosting techniques  "
   ]
  },
  {
   "cell_type": "code",
   "execution_count": 269,
   "id": "e67a3255",
   "metadata": {
    "execution": {
     "iopub.execute_input": "2023-08-13T01:28:48.458934Z",
     "iopub.status.busy": "2023-08-13T01:28:48.458509Z",
     "iopub.status.idle": "2023-08-13T01:28:48.463667Z",
     "shell.execute_reply": "2023-08-13T01:28:48.462552Z"
    },
    "papermill": {
     "duration": 0.125951,
     "end_time": "2023-08-13T01:28:48.466109",
     "exception": false,
     "start_time": "2023-08-13T01:28:48.340158",
     "status": "completed"
    },
    "tags": []
   },
   "outputs": [],
   "source": [
    "# adc = AdaBoostClassifier(estimator=LogisticRegression(C=5, solver=\"saga\", max_iter=100000), n_estimators=50)\n",
    "# adc"
   ]
  },
  {
   "cell_type": "code",
   "execution_count": 270,
   "id": "23a13eb7",
   "metadata": {
    "execution": {
     "iopub.execute_input": "2023-08-13T01:28:48.700695Z",
     "iopub.status.busy": "2023-08-13T01:28:48.700268Z",
     "iopub.status.idle": "2023-08-13T01:28:48.705410Z",
     "shell.execute_reply": "2023-08-13T01:28:48.704192Z"
    },
    "papermill": {
     "duration": 0.126413,
     "end_time": "2023-08-13T01:28:48.708254",
     "exception": false,
     "start_time": "2023-08-13T01:28:48.581841",
     "status": "completed"
    },
    "tags": []
   },
   "outputs": [],
   "source": [
    "# submit_v4(selected_model=adc, selected_features={'num': [\"audienceScore\"]}, param_grid=None)"
   ]
  },
  {
   "cell_type": "code",
   "execution_count": 271,
   "id": "0c983b0e",
   "metadata": {
    "execution": {
     "iopub.execute_input": "2023-08-13T01:28:48.943525Z",
     "iopub.status.busy": "2023-08-13T01:28:48.942843Z",
     "iopub.status.idle": "2023-08-13T01:28:48.947832Z",
     "shell.execute_reply": "2023-08-13T01:28:48.946766Z"
    },
    "papermill": {
     "duration": 0.126215,
     "end_time": "2023-08-13T01:28:48.950400",
     "exception": false,
     "start_time": "2023-08-13T01:28:48.824185",
     "status": "completed"
    },
    "tags": []
   },
   "outputs": [],
   "source": [
    "# submit_v4(selected_model=adc, selected_features=all_dict, param_grid=None)\n",
    "\n",
    "# Took 1 hour 15 mins to run and gave a public score of only 0.71089. Discarded."
   ]
  },
  {
   "cell_type": "markdown",
   "id": "63f8836d",
   "metadata": {
    "papermill": {
     "duration": 0.119746,
     "end_time": "2023-08-13T01:28:49.187544",
     "exception": false,
     "start_time": "2023-08-13T01:28:49.067798",
     "status": "completed"
    },
    "tags": []
   },
   "source": [
    "### LightGBM  "
   ]
  },
  {
   "cell_type": "code",
   "execution_count": 272,
   "id": "6e1a07a4",
   "metadata": {
    "execution": {
     "iopub.execute_input": "2023-08-13T01:28:49.428345Z",
     "iopub.status.busy": "2023-08-13T01:28:49.427679Z",
     "iopub.status.idle": "2023-08-13T01:28:49.432574Z",
     "shell.execute_reply": "2023-08-13T01:28:49.431414Z"
    },
    "papermill": {
     "duration": 0.126716,
     "end_time": "2023-08-13T01:28:49.434949",
     "exception": false,
     "start_time": "2023-08-13T01:28:49.308233",
     "status": "completed"
    },
    "tags": []
   },
   "outputs": [],
   "source": [
    "# lgb = ltb.LGBMClassifier()\n",
    "# lgb"
   ]
  },
  {
   "cell_type": "code",
   "execution_count": 273,
   "id": "893410bd",
   "metadata": {
    "execution": {
     "iopub.execute_input": "2023-08-13T01:28:49.675434Z",
     "iopub.status.busy": "2023-08-13T01:28:49.674980Z",
     "iopub.status.idle": "2023-08-13T01:28:49.680072Z",
     "shell.execute_reply": "2023-08-13T01:28:49.678857Z"
    },
    "papermill": {
     "duration": 0.130236,
     "end_time": "2023-08-13T01:28:49.682511",
     "exception": false,
     "start_time": "2023-08-13T01:28:49.552275",
     "status": "completed"
    },
    "tags": []
   },
   "outputs": [],
   "source": [
    "# Try LightGBM with default settings\n",
    "# (Update): Public score only 0.77713. It was fast, took less than 5 mins (without GridSearchCV)\n",
    "\n",
    "# submit_v4(selected_model=ltb.LGBMClassifier(), selected_features=all_dict, param_grid=None)"
   ]
  },
  {
   "cell_type": "markdown",
   "id": "291109aa",
   "metadata": {
    "papermill": {
     "duration": 0.124049,
     "end_time": "2023-08-13T01:28:49.926069",
     "exception": false,
     "start_time": "2023-08-13T01:28:49.802020",
     "status": "completed"
    },
    "tags": []
   },
   "source": [
    "# Try feature selection and vocab fine tuning of reviewText column"
   ]
  },
  {
   "cell_type": "markdown",
   "id": "71a5fd2f",
   "metadata": {
    "papermill": {
     "duration": 0.119232,
     "end_time": "2023-08-13T01:28:50.177559",
     "exception": false,
     "start_time": "2023-08-13T01:28:50.058327",
     "status": "completed"
    },
    "tags": []
   },
   "source": [
    "## Plan  \n",
    "* Add a new column 'reviewWC' which has word count of 'reviewText'  \n",
    "    * Check if there is any relationship between 'reviewWC' and 'sentiment'\n",
    "* Work on vocabulary\n",
    "     * Use TfidfVectorizer and find out the vocabulary of 'reviewText' column for various ngrams\n",
    "     * Use RecursiveFeatureElimination (RFE) or RFECV to select 1000 top words/vocab for each ngram\n",
    "     * Use the final vocab (1000-3000 words) in the model and see how it performs compared to whole vocab\n"
   ]
  },
  {
   "cell_type": "code",
   "execution_count": 274,
   "id": "56c0dda2",
   "metadata": {
    "execution": {
     "iopub.execute_input": "2023-08-13T01:28:50.416344Z",
     "iopub.status.busy": "2023-08-13T01:28:50.415937Z",
     "iopub.status.idle": "2023-08-13T01:28:50.420899Z",
     "shell.execute_reply": "2023-08-13T01:28:50.419733Z"
    },
    "papermill": {
     "duration": 0.127475,
     "end_time": "2023-08-13T01:28:50.423179",
     "exception": false,
     "start_time": "2023-08-13T01:28:50.295704",
     "status": "completed"
    },
    "tags": []
   },
   "outputs": [],
   "source": [
    "# 'reviewWC' and 'sentiment'\n",
    "# (Conclusion): 'reviewWC' is practically same as DummyClassifier (accuracy of 0.6682375059904889 on train data). It just predicts 'positive' for all columns\n",
    "\n",
    "# reviewWC_dict = {\"num\": [\"reviewWC\"]}\n",
    "# submit_v4(selected_model=LogisticRegression(),\n",
    "#          selected_features=reviewWC_dict,\n",
    "#          param_grid=None)"
   ]
  },
  {
   "cell_type": "code",
   "execution_count": 275,
   "id": "6209d7cd",
   "metadata": {
    "execution": {
     "iopub.execute_input": "2023-08-13T01:28:50.662362Z",
     "iopub.status.busy": "2023-08-13T01:28:50.661678Z",
     "iopub.status.idle": "2023-08-13T01:28:50.666560Z",
     "shell.execute_reply": "2023-08-13T01:28:50.665301Z"
    },
    "papermill": {
     "duration": 0.128599,
     "end_time": "2023-08-13T01:28:50.669348",
     "exception": false,
     "start_time": "2023-08-13T01:28:50.540749",
     "status": "completed"
    },
    "tags": []
   },
   "outputs": [],
   "source": [
    "# 'reviewYN' and 'sentiment'\n",
    "# (Conclusion): 'reviewYN' is practically same as DummyClassifier (accuracy of 0.6682375059904889 on train data). It just predicts 'positive' for all columns\n",
    "\n",
    "# reviewYN_dict = {\"cat\": [\"reviewYN\"]}\n",
    "# submit_v4(selected_model=LogisticRegression(),\n",
    "#          selected_features=reviewYN_dict,\n",
    "#          param_grid=None)"
   ]
  },
  {
   "cell_type": "markdown",
   "id": "892ac8bb",
   "metadata": {
    "papermill": {
     "duration": 0.117409,
     "end_time": "2023-08-13T01:28:50.905385",
     "exception": false,
     "start_time": "2023-08-13T01:28:50.787976",
     "status": "completed"
    },
    "tags": []
   },
   "source": [
    "## Submissions using 'vocabulary' built from 'reviewText' data  "
   ]
  },
  {
   "cell_type": "markdown",
   "id": "08bdefa5",
   "metadata": {
    "papermill": {
     "duration": 0.11816,
     "end_time": "2023-08-13T01:28:51.143717",
     "exception": false,
     "start_time": "2023-08-13T01:28:51.025557",
     "status": "completed"
    },
    "tags": []
   },
   "source": [
    "### Submit best 6 features along with common vocab  "
   ]
  },
  {
   "cell_type": "code",
   "execution_count": 276,
   "id": "8bd98fc4",
   "metadata": {
    "execution": {
     "iopub.execute_input": "2023-08-13T01:28:51.383544Z",
     "iopub.status.busy": "2023-08-13T01:28:51.382628Z",
     "iopub.status.idle": "2023-08-13T01:28:51.387497Z",
     "shell.execute_reply": "2023-08-13T01:28:51.386524Z"
    },
    "papermill": {
     "duration": 0.126455,
     "end_time": "2023-08-13T01:28:51.389698",
     "exception": false,
     "start_time": "2023-08-13T01:28:51.263243",
     "status": "completed"
    },
    "tags": []
   },
   "outputs": [],
   "source": [
    "# Best 6 parameters (version 2)  \n",
    "\n",
    "# best6_dict = {'num': [\"audienceScore\"],\n",
    "#              'txt': ['reviewText', 'reviewerName', 'genre','movieid', 'director']}\n",
    "\n",
    "# best6_dict"
   ]
  },
  {
   "cell_type": "code",
   "execution_count": 277,
   "id": "533b59b2",
   "metadata": {
    "execution": {
     "iopub.execute_input": "2023-08-13T01:28:51.623018Z",
     "iopub.status.busy": "2023-08-13T01:28:51.622290Z",
     "iopub.status.idle": "2023-08-13T01:28:51.626796Z",
     "shell.execute_reply": "2023-08-13T01:28:51.625955Z"
    },
    "papermill": {
     "duration": 0.123709,
     "end_time": "2023-08-13T01:28:51.628884",
     "exception": false,
     "start_time": "2023-08-13T01:28:51.505175",
     "status": "completed"
    },
    "tags": []
   },
   "outputs": [],
   "source": [
    "# Submit best 6 features (version 2) with common vocabulary (common_1_2_grams)\n",
    "# (Update): Score 0.82867\n",
    "\n",
    "# submit_v4(selected_features=best6_dict,\n",
    "#           param_grid=param_grid,\n",
    "#          vocab=common_1_2_grams)"
   ]
  },
  {
   "cell_type": "code",
   "execution_count": 278,
   "id": "d773a70a",
   "metadata": {
    "execution": {
     "iopub.execute_input": "2023-08-13T01:28:51.865968Z",
     "iopub.status.busy": "2023-08-13T01:28:51.865213Z",
     "iopub.status.idle": "2023-08-13T01:28:51.869676Z",
     "shell.execute_reply": "2023-08-13T01:28:51.868601Z"
    },
    "papermill": {
     "duration": 0.124163,
     "end_time": "2023-08-13T01:28:51.871899",
     "exception": false,
     "start_time": "2023-08-13T01:28:51.747736",
     "status": "completed"
    },
    "tags": []
   },
   "outputs": [],
   "source": [
    "# Submit best 6 features (version 2) with common vocabulary (common_1_2_3_grams)\n",
    "# Note: for this submission submit_v4 function has to be modified: reviewText TfidfVectorizer must have ngram_range(1,3).\n",
    "# (Update): Score in the range 0.825+\n",
    "\n",
    "# submit_v4(selected_features=best6_dict,\n",
    "#           param_grid=param_grid,\n",
    "#          vocab=common_1_2_3_grams)"
   ]
  }
 ],
 "metadata": {
  "kernelspec": {
   "display_name": "Python 3",
   "language": "python",
   "name": "python3"
  },
  "language_info": {
   "codemirror_mode": {
    "name": "ipython",
    "version": 3
   },
   "file_extension": ".py",
   "mimetype": "text/x-python",
   "name": "python",
   "nbconvert_exporter": "python",
   "pygments_lexer": "ipython3",
   "version": "3.10.10"
  },
  "papermill": {
   "default_parameters": {},
   "duration": 3732.201833,
   "end_time": "2023-08-13T01:28:55.022837",
   "environment_variables": {},
   "exception": null,
   "input_path": "__notebook__.ipynb",
   "output_path": "__notebook__.ipynb",
   "parameters": {},
   "start_time": "2023-08-13T00:26:42.821004",
   "version": "2.4.0"
  }
 },
 "nbformat": 4,
 "nbformat_minor": 5
}
