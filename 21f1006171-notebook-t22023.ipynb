{
 "cells": [
  {
   "cell_type": "markdown",
   "id": "c475c123",
   "metadata": {
    "papermill": {
     "duration": 0.105858,
     "end_time": "2023-08-13T00:26:47.156408",
     "exception": false,
     "start_time": "2023-08-13T00:26:47.050550",
     "status": "completed"
    },
    "tags": []
   },
   "source": [
    "# MLP Project (T2 2023) by Ganesh P  "
   ]
  },
  {
   "cell_type": "markdown",
   "id": "d3acf32d",
   "metadata": {
    "papermill": {
     "duration": 0.101251,
     "end_time": "2023-08-13T00:26:47.359941",
     "exception": false,
     "start_time": "2023-08-13T00:26:47.258690",
     "status": "completed"
    },
    "tags": []
   },
   "source": [
    "`Disclaimer`   \n",
    "\n",
    "> This final notebook contains only the most relevant code to show the path/flow of my project work over few weeks. Rest of the code is in [my github repo](https://github.com/ganeshbmc/MLP_project) which is private at present (I will make it public after the project is over).  "
   ]
  },
  {
   "cell_type": "markdown",
   "id": "c7d39696",
   "metadata": {
    "papermill": {
     "duration": 0.101334,
     "end_time": "2023-08-13T00:26:47.560365",
     "exception": false,
     "start_time": "2023-08-13T00:26:47.459031",
     "status": "completed"
    },
    "tags": []
   },
   "source": [
    "`Strengths`  \n",
    "\n",
    "> * Modular code (DRY principle)  \n",
    "> * End to end pipeline in one function (with helper functions)   "
   ]
  },
  {
   "cell_type": "markdown",
   "id": "f35c15dd",
   "metadata": {
    "papermill": {
     "duration": 0.100341,
     "end_time": "2023-08-13T00:26:47.765704",
     "exception": false,
     "start_time": "2023-08-13T00:26:47.665363",
     "status": "completed"
    },
    "tags": []
   },
   "source": [
    "`Overview`  \n",
    "\n",
    "`PART I`  \n",
    "\n",
    "1.\t> Screen the datasets and import them.  \n",
    "2.\t> Perform EDA (first round).\n",
    "3.\t> Data cleaning.\n",
    "4.\t> Basic models including dummy model.\n",
    "5.\t> Because this is a text sentiment analysis project, focus on 'reviewText' column, work on cleaning text data and vectorising/tokenising it, build several models till the best possible score is reached.  \n",
    "\n",
    "`PART II`  \n",
    "\n",
    "6.\t> Merge train and movies dataset.\n",
    "7.\t> Perform EDA (second round) on merged dataset.\n",
    "8.\t> Data cleaning.\n",
    "9.\t> Build models on merged dataset.\n",
    "10.\t> Understand the results and do another round of EDA if needed.\n",
    "11.\t> Build final model.  \n",
    "\n",
    "`PART III (After project window closes)`  \n",
    "\n",
    "12. > Use NLTK library for further processing text data.  \n",
    "13. > Try to address comments from different languages, special characters etc.  \n",
    "14. > Try imblearn library to address class imbalance.  \n",
    "15. > Try to use currently available LLMs and see how my model performs agains them.  "
   ]
  },
  {
   "cell_type": "markdown",
   "id": "4ffb63b2",
   "metadata": {
    "papermill": {
     "duration": 0.099794,
     "end_time": "2023-08-13T00:26:47.965155",
     "exception": false,
     "start_time": "2023-08-13T00:26:47.865361",
     "status": "completed"
    },
    "tags": []
   },
   "source": [
    "`Default code on Kaggle notebook`  "
   ]
  },
  {
   "cell_type": "code",
   "execution_count": 1,
   "id": "f4e4f2bc",
   "metadata": {
    "_cell_guid": "b1076dfc-b9ad-4769-8c92-a6c4dae69d19",
    "_uuid": "8f2839f25d086af736a60e9eeb907d3b93b6e0e5",
    "execution": {
     "iopub.execute_input": "2023-08-13T00:26:48.167330Z",
     "iopub.status.busy": "2023-08-13T00:26:48.166892Z",
     "iopub.status.idle": "2023-08-13T00:26:48.183773Z",
     "shell.execute_reply": "2023-08-13T00:26:48.182222Z"
    },
    "papermill": {
     "duration": 0.119955,
     "end_time": "2023-08-13T00:26:48.186243",
     "exception": false,
     "start_time": "2023-08-13T00:26:48.066288",
     "status": "completed"
    },
    "tags": []
   },
   "outputs": [
    {
     "name": "stdout",
     "output_type": "stream",
     "text": [
      "/kaggle/input/sentiment-prediction-on-movie-reviews/movies.csv\n",
      "/kaggle/input/sentiment-prediction-on-movie-reviews/sample.csv\n",
      "/kaggle/input/sentiment-prediction-on-movie-reviews/train.csv\n",
      "/kaggle/input/sentiment-prediction-on-movie-reviews/test.csv\n"
     ]
    }
   ],
   "source": [
    "# This Python 3 environment comes with many helpful analytics libraries installed\n",
    "# It is defined by the kaggle/python Docker image: https://github.com/kaggle/docker-python\n",
    "# For example, here's several helpful packages to load\n",
    "\n",
    "import numpy as np # linear algebra\n",
    "import pandas as pd # data processing, CSV file I/O (e.g. pd.read_csv)\n",
    "\n",
    "# Input data files are available in the read-only \"../input/\" directory\n",
    "# For example, running this (by clicking run or pressing Shift+Enter) will list all files under the input directory\n",
    "\n",
    "import os\n",
    "for dirname, _, filenames in os.walk('/kaggle/input'):\n",
    "    for filename in filenames:\n",
    "        print(os.path.join(dirname, filename))\n",
    "\n",
    "# You can write up to 20GB to the current directory (/kaggle/working/) that gets preserved as output when you create a version using \"Save & Run All\" \n",
    "# You can also write temporary files to /kaggle/temp/, but they won't be saved outside of the current session"
   ]
  },
  {
   "cell_type": "markdown",
   "id": "6a41ca39",
   "metadata": {
    "papermill": {
     "duration": 0.098849,
     "end_time": "2023-08-13T00:26:48.384500",
     "exception": false,
     "start_time": "2023-08-13T00:26:48.285651",
     "status": "completed"
    },
    "tags": []
   },
   "source": [
    "### Specify platform  "
   ]
  },
  {
   "cell_type": "code",
   "execution_count": 2,
   "id": "8e7b70e4",
   "metadata": {
    "execution": {
     "iopub.execute_input": "2023-08-13T00:26:48.591969Z",
     "iopub.status.busy": "2023-08-13T00:26:48.591554Z",
     "iopub.status.idle": "2023-08-13T00:26:48.597095Z",
     "shell.execute_reply": "2023-08-13T00:26:48.596242Z"
    },
    "papermill": {
     "duration": 0.115217,
     "end_time": "2023-08-13T00:26:48.599384",
     "exception": false,
     "start_time": "2023-08-13T00:26:48.484167",
     "status": "completed"
    },
    "tags": []
   },
   "outputs": [],
   "source": [
    "platform = 'kaggle'  "
   ]
  },
  {
   "cell_type": "markdown",
   "id": "75c556bf",
   "metadata": {
    "papermill": {
     "duration": 0.119874,
     "end_time": "2023-08-13T00:26:48.820315",
     "exception": false,
     "start_time": "2023-08-13T00:26:48.700441",
     "status": "completed"
    },
    "tags": []
   },
   "source": [
    "### Import libraries  "
   ]
  },
  {
   "cell_type": "code",
   "execution_count": 3,
   "id": "f0f98c5f",
   "metadata": {
    "execution": {
     "iopub.execute_input": "2023-08-13T00:26:49.022308Z",
     "iopub.status.busy": "2023-08-13T00:26:49.021932Z",
     "iopub.status.idle": "2023-08-13T00:26:51.514989Z",
     "shell.execute_reply": "2023-08-13T00:26:51.513478Z"
    },
    "papermill": {
     "duration": 2.598017,
     "end_time": "2023-08-13T00:26:51.517803",
     "exception": false,
     "start_time": "2023-08-13T00:26:48.919786",
     "status": "completed"
    },
    "tags": []
   },
   "outputs": [
    {
     "name": "stdout",
     "output_type": "stream",
     "text": [
      "Imports done.\n"
     ]
    }
   ],
   "source": [
    "import pandas as pd\n",
    "import numpy as np\n",
    "import matplotlib.pyplot as plt\n",
    "import seaborn as sns\n",
    "import re\n",
    "from itertools import compress\n",
    "\n",
    "from sklearn.dummy import DummyClassifier\n",
    "from sklearn.pipeline import Pipeline, FeatureUnion\n",
    "from sklearn.compose import ColumnTransformer\n",
    "from sklearn.metrics import classification_report, confusion_matrix,f1_score\n",
    "from sklearn.feature_extraction.text import TfidfVectorizer, CountVectorizer\n",
    "from sklearn.preprocessing import FunctionTransformer\n",
    "from sklearn.preprocessing import StandardScaler, MinMaxScaler, RobustScaler, OneHotEncoder, LabelEncoder, PolynomialFeatures\n",
    "from sklearn.impute import SimpleImputer, KNNImputer\n",
    "from sklearn.linear_model import LogisticRegression, SGDClassifier\n",
    "from sklearn.tree import DecisionTreeClassifier\n",
    "from sklearn.ensemble import RandomForestClassifier, AdaBoostClassifier\n",
    "from sklearn.svm import LinearSVC\n",
    "from sklearn.naive_bayes import GaussianNB, BernoulliNB, CategoricalNB, ComplementNB, MultinomialNB\n",
    "from sklearn.model_selection import train_test_split, GridSearchCV, cross_val_score\n",
    "from sklearn.decomposition import PCA, TruncatedSVD\n",
    "from sklearn.feature_selection import RFECV\n",
    "from sklearn.feature_selection import RFE\n",
    "from sklearn.neural_network import MLPClassifier\n",
    "\n",
    "# import lightgbm as ltb\n",
    "\n",
    "import scipy.stats as stats\n",
    "print(\"Imports done.\")"
   ]
  },
  {
   "cell_type": "markdown",
   "id": "942f0988",
   "metadata": {
    "papermill": {
     "duration": 0.104325,
     "end_time": "2023-08-13T00:26:51.725590",
     "exception": false,
     "start_time": "2023-08-13T00:26:51.621265",
     "status": "completed"
    },
    "tags": []
   },
   "source": [
    "# PART I  "
   ]
  },
  {
   "cell_type": "markdown",
   "id": "3e9b4b5a",
   "metadata": {
    "papermill": {
     "duration": 0.173489,
     "end_time": "2023-08-13T00:26:52.002410",
     "exception": false,
     "start_time": "2023-08-13T00:26:51.828921",
     "status": "completed"
    },
    "tags": []
   },
   "source": [
    "## Load datasets  "
   ]
  },
  {
   "cell_type": "code",
   "execution_count": 4,
   "id": "20b82bc2",
   "metadata": {
    "execution": {
     "iopub.execute_input": "2023-08-13T00:26:52.210891Z",
     "iopub.status.busy": "2023-08-13T00:26:52.210509Z",
     "iopub.status.idle": "2023-08-13T00:26:53.317778Z",
     "shell.execute_reply": "2023-08-13T00:26:53.316312Z"
    },
    "papermill": {
     "duration": 1.216075,
     "end_time": "2023-08-13T00:26:53.320157",
     "exception": false,
     "start_time": "2023-08-13T00:26:52.104082",
     "status": "completed"
    },
    "tags": []
   },
   "outputs": [
    {
     "data": {
      "text/plain": [
       "(162758, 5)"
      ]
     },
     "execution_count": 4,
     "metadata": {},
     "output_type": "execute_result"
    }
   ],
   "source": [
    "if platform == 'vscode':\n",
    "    traindf = pd.read_csv(\"data/train.csv\")\n",
    "else:\n",
    "    traindf = pd.read_csv(\"/kaggle/input/sentiment-prediction-on-movie-reviews/train.csv\")\n",
    "    \n",
    "traindf.shape"
   ]
  },
  {
   "cell_type": "code",
   "execution_count": 5,
   "id": "49f4e277",
   "metadata": {
    "execution": {
     "iopub.execute_input": "2023-08-13T00:26:53.526121Z",
     "iopub.status.busy": "2023-08-13T00:26:53.525757Z",
     "iopub.status.idle": "2023-08-13T00:26:53.871072Z",
     "shell.execute_reply": "2023-08-13T00:26:53.869957Z"
    },
    "papermill": {
     "duration": 0.454214,
     "end_time": "2023-08-13T00:26:53.873763",
     "exception": false,
     "start_time": "2023-08-13T00:26:53.419549",
     "status": "completed"
    },
    "tags": []
   },
   "outputs": [
    {
     "data": {
      "text/plain": [
       "(55315, 4)"
      ]
     },
     "execution_count": 5,
     "metadata": {},
     "output_type": "execute_result"
    }
   ],
   "source": [
    "if platform == 'vscode':\n",
    "    testdf = pd.read_csv(\"data/test.csv\")\n",
    "else:\n",
    "    testdf = pd.read_csv(\"/kaggle/input/sentiment-prediction-on-movie-reviews/test.csv\")\n",
    "\n",
    "testdf.shape"
   ]
  },
  {
   "cell_type": "markdown",
   "id": "a7ea0919",
   "metadata": {
    "papermill": {
     "duration": 0.101934,
     "end_time": "2023-08-13T00:26:54.077400",
     "exception": false,
     "start_time": "2023-08-13T00:26:53.975466",
     "status": "completed"
    },
    "tags": []
   },
   "source": [
    "### Understanding the data and getting it ready for training and evaluating models  \n"
   ]
  },
  {
   "cell_type": "code",
   "execution_count": 6,
   "id": "d6c02f97",
   "metadata": {
    "execution": {
     "iopub.execute_input": "2023-08-13T00:26:54.286276Z",
     "iopub.status.busy": "2023-08-13T00:26:54.285851Z",
     "iopub.status.idle": "2023-08-13T00:26:54.293652Z",
     "shell.execute_reply": "2023-08-13T00:26:54.292555Z"
    },
    "papermill": {
     "duration": 0.114423,
     "end_time": "2023-08-13T00:26:54.296065",
     "exception": false,
     "start_time": "2023-08-13T00:26:54.181642",
     "status": "completed"
    },
    "tags": []
   },
   "outputs": [
    {
     "data": {
      "text/plain": [
       "(162758, 5)"
      ]
     },
     "execution_count": 6,
     "metadata": {},
     "output_type": "execute_result"
    }
   ],
   "source": [
    "traindf.shape"
   ]
  },
  {
   "cell_type": "code",
   "execution_count": 7,
   "id": "c277b42f",
   "metadata": {
    "execution": {
     "iopub.execute_input": "2023-08-13T00:26:54.503056Z",
     "iopub.status.busy": "2023-08-13T00:26:54.502496Z",
     "iopub.status.idle": "2023-08-13T00:26:54.751874Z",
     "shell.execute_reply": "2023-08-13T00:26:54.750712Z"
    },
    "papermill": {
     "duration": 0.355541,
     "end_time": "2023-08-13T00:26:54.754568",
     "exception": false,
     "start_time": "2023-08-13T00:26:54.399027",
     "status": "completed"
    },
    "tags": []
   },
   "outputs": [
    {
     "name": "stdout",
     "output_type": "stream",
     "text": [
      "<class 'pandas.core.frame.DataFrame'>\n",
      "RangeIndex: 162758 entries, 0 to 162757\n",
      "Data columns (total 5 columns):\n",
      " #   Column              Non-Null Count   Dtype \n",
      "---  ------              --------------   ----- \n",
      " 0   movieid             162758 non-null  object\n",
      " 1   reviewerName        162758 non-null  object\n",
      " 2   isFrequentReviewer  162758 non-null  bool  \n",
      " 3   reviewText          156311 non-null  object\n",
      " 4   sentiment           162758 non-null  object\n",
      "dtypes: bool(1), object(4)\n",
      "memory usage: 5.1+ MB\n"
     ]
    }
   ],
   "source": [
    "traindf.info()"
   ]
  },
  {
   "cell_type": "code",
   "execution_count": 8,
   "id": "94d3dbd2",
   "metadata": {
    "execution": {
     "iopub.execute_input": "2023-08-13T00:26:54.961016Z",
     "iopub.status.busy": "2023-08-13T00:26:54.960604Z",
     "iopub.status.idle": "2023-08-13T00:26:55.190507Z",
     "shell.execute_reply": "2023-08-13T00:26:55.189306Z"
    },
    "papermill": {
     "duration": 0.336607,
     "end_time": "2023-08-13T00:26:55.193059",
     "exception": false,
     "start_time": "2023-08-13T00:26:54.856452",
     "status": "completed"
    },
    "tags": []
   },
   "outputs": [
    {
     "data": {
      "text/plain": [
       "movieid                  0\n",
       "reviewerName             0\n",
       "isFrequentReviewer       0\n",
       "reviewText            6447\n",
       "sentiment                0\n",
       "dtype: int64"
      ]
     },
     "execution_count": 8,
     "metadata": {},
     "output_type": "execute_result"
    }
   ],
   "source": [
    "traindf.isna().sum()"
   ]
  },
  {
   "cell_type": "markdown",
   "id": "200dcb4b",
   "metadata": {
    "papermill": {
     "duration": 0.100391,
     "end_time": "2023-08-13T00:26:55.394109",
     "exception": false,
     "start_time": "2023-08-13T00:26:55.293718",
     "status": "completed"
    },
    "tags": []
   },
   "source": [
    "### Fill empty reviewText with custom text  "
   ]
  },
  {
   "cell_type": "code",
   "execution_count": 9,
   "id": "9383f38f",
   "metadata": {
    "execution": {
     "iopub.execute_input": "2023-08-13T00:26:55.596916Z",
     "iopub.status.busy": "2023-08-13T00:26:55.595816Z",
     "iopub.status.idle": "2023-08-13T00:26:55.845816Z",
     "shell.execute_reply": "2023-08-13T00:26:55.845018Z"
    },
    "papermill": {
     "duration": 0.354517,
     "end_time": "2023-08-13T00:26:55.848297",
     "exception": false,
     "start_time": "2023-08-13T00:26:55.493780",
     "status": "completed"
    },
    "tags": []
   },
   "outputs": [
    {
     "data": {
      "text/plain": [
       "movieid               0\n",
       "reviewerName          0\n",
       "isFrequentReviewer    0\n",
       "reviewText            0\n",
       "sentiment             0\n",
       "dtype: int64"
      ]
     },
     "execution_count": 9,
     "metadata": {},
     "output_type": "execute_result"
    }
   ],
   "source": [
    "traindf[\"reviewText\"].fillna(\"empty\", inplace=True)\n",
    "traindf.isna().sum()"
   ]
  },
  {
   "cell_type": "markdown",
   "id": "2345501f",
   "metadata": {
    "papermill": {
     "duration": 0.101352,
     "end_time": "2023-08-13T00:26:56.051265",
     "exception": false,
     "start_time": "2023-08-13T00:26:55.949913",
     "status": "completed"
    },
    "tags": []
   },
   "source": [
    "## EDA  \n"
   ]
  },
  {
   "cell_type": "code",
   "execution_count": 10,
   "id": "b0693d68",
   "metadata": {
    "execution": {
     "iopub.execute_input": "2023-08-13T00:26:56.255190Z",
     "iopub.status.busy": "2023-08-13T00:26:56.254588Z",
     "iopub.status.idle": "2023-08-13T00:26:56.509336Z",
     "shell.execute_reply": "2023-08-13T00:26:56.507910Z"
    },
    "papermill": {
     "duration": 0.3622,
     "end_time": "2023-08-13T00:26:56.513677",
     "exception": false,
     "start_time": "2023-08-13T00:26:56.151477",
     "status": "completed"
    },
    "tags": []
   },
   "outputs": [
    {
     "data": {
      "image/png": "[encoded data removed]",
      "text/plain": [
       "<Figure size 600x400 with 1 Axes>"
      ]
     },
     "metadata": {},
     "output_type": "display_data"
    }
   ],
   "source": [
    "# Pie chart for sentiment column\n",
    "plt.figure(figsize=(6, 4))\n",
    "traindf[\"sentiment\"].value_counts().plot(kind='pie', autopct='%1.0f%%', colors=[\"lightgreen\", \"crimson\"])\n",
    "plt.title(\"Pie chart for sentiment column\")\n",
    "plt.show()"
   ]
  },
  {
   "cell_type": "code",
   "execution_count": 11,
   "id": "a62e0e8e",
   "metadata": {
    "execution": {
     "iopub.execute_input": "2023-08-13T00:26:56.746235Z",
     "iopub.status.busy": "2023-08-13T00:26:56.745659Z",
     "iopub.status.idle": "2023-08-13T00:26:56.822276Z",
     "shell.execute_reply": "2023-08-13T00:26:56.820450Z"
    },
    "papermill": {
     "duration": 0.18334,
     "end_time": "2023-08-13T00:26:56.824763",
     "exception": false,
     "start_time": "2023-08-13T00:26:56.641423",
     "status": "completed"
    },
    "tags": []
   },
   "outputs": [
    {
     "name": "stdout",
     "output_type": "stream",
     "text": [
      "sentiment           NEGATIVE  POSITIVE\n",
      "isFrequentReviewer                    \n",
      "False                  35760     77429\n",
      "True                   18237     31332\n"
     ]
    },
    {
     "data": {
      "text/plain": [
       "Chi2ContingencyResult(statistic=419.89235425657796, pvalue=2.5755894769493255e-93, dof=1, expected_freq=array([[37551.86493444, 75637.13506556],\n",
       "       [16445.13506556, 33123.86493444]]))"
      ]
     },
     "execution_count": 11,
     "metadata": {},
     "output_type": "execute_result"
    }
   ],
   "source": [
    "# Chi-square test for isFrequentReviewer column and sentiment column   \n",
    "\n",
    "contingency_table = pd.crosstab(traindf['isFrequentReviewer'], traindf['sentiment'])\n",
    "print(contingency_table)\n",
    "stats.chi2_contingency(contingency_table)"
   ]
  },
  {
   "cell_type": "markdown",
   "id": "eeec192b",
   "metadata": {
    "papermill": {
     "duration": 0.105452,
     "end_time": "2023-08-13T00:26:57.032612",
     "exception": false,
     "start_time": "2023-08-13T00:26:56.927160",
     "status": "completed"
    },
    "tags": []
   },
   "source": [
    "### Separate features and labels  "
   ]
  },
  {
   "cell_type": "code",
   "execution_count": 12,
   "id": "7da585b0",
   "metadata": {
    "execution": {
     "iopub.execute_input": "2023-08-13T00:26:57.269071Z",
     "iopub.status.busy": "2023-08-13T00:26:57.267994Z",
     "iopub.status.idle": "2023-08-13T00:26:57.277645Z",
     "shell.execute_reply": "2023-08-13T00:26:57.276681Z"
    },
    "papermill": {
     "duration": 0.13613,
     "end_time": "2023-08-13T00:26:57.280272",
     "exception": false,
     "start_time": "2023-08-13T00:26:57.144142",
     "status": "completed"
    },
    "tags": []
   },
   "outputs": [
    {
     "data": {
      "text/plain": [
       "((162758,), (162758,))"
      ]
     },
     "execution_count": 12,
     "metadata": {},
     "output_type": "execute_result"
    }
   ],
   "source": [
    "train_features = traindf[\"reviewText\"]\n",
    "train_labels = traindf.iloc[:, -1]\n",
    "train_features.shape, train_labels.shape"
   ]
  },
  {
   "cell_type": "markdown",
   "id": "f760fc84",
   "metadata": {
    "papermill": {
     "duration": 0.110291,
     "end_time": "2023-08-13T00:26:57.496487",
     "exception": false,
     "start_time": "2023-08-13T00:26:57.386196",
     "status": "completed"
    },
    "tags": []
   },
   "source": [
    "### Split traindf into training and testing parts  "
   ]
  },
  {
   "cell_type": "code",
   "execution_count": 13,
   "id": "09455258",
   "metadata": {
    "execution": {
     "iopub.execute_input": "2023-08-13T00:26:57.720434Z",
     "iopub.status.busy": "2023-08-13T00:26:57.719557Z",
     "iopub.status.idle": "2023-08-13T00:26:57.759740Z",
     "shell.execute_reply": "2023-08-13T00:26:57.758928Z"
    },
    "papermill": {
     "duration": 0.149786,
     "end_time": "2023-08-13T00:26:57.762270",
     "exception": false,
     "start_time": "2023-08-13T00:26:57.612484",
     "status": "completed"
    },
    "tags": []
   },
   "outputs": [
    {
     "data": {
      "text/plain": [
       "((122068,), (40690,), (122068,), (40690,))"
      ]
     },
     "execution_count": 13,
     "metadata": {},
     "output_type": "execute_result"
    }
   ],
   "source": [
    "X_train, X_test, y_train, y_test = train_test_split(train_features, train_labels, test_size=0.25, random_state=42)\n",
    "X_train.shape, X_test.shape, y_train.shape, y_test.shape"
   ]
  },
  {
   "cell_type": "markdown",
   "id": "4231ee15",
   "metadata": {
    "papermill": {
     "duration": 0.100042,
     "end_time": "2023-08-13T00:26:57.967369",
     "exception": false,
     "start_time": "2023-08-13T00:26:57.867327",
     "status": "completed"
    },
    "tags": []
   },
   "source": [
    "## Model evaluation plan and code  "
   ]
  },
  {
   "cell_type": "code",
   "execution_count": 14,
   "id": "94453dc9",
   "metadata": {
    "execution": {
     "iopub.execute_input": "2023-08-13T00:26:58.176151Z",
     "iopub.status.busy": "2023-08-13T00:26:58.175244Z",
     "iopub.status.idle": "2023-08-13T00:26:58.179945Z",
     "shell.execute_reply": "2023-08-13T00:26:58.179072Z"
    },
    "papermill": {
     "duration": 0.111346,
     "end_time": "2023-08-13T00:26:58.182230",
     "exception": false,
     "start_time": "2023-08-13T00:26:58.070884",
     "status": "completed"
    },
    "tags": []
   },
   "outputs": [],
   "source": [
    "# from sklearn.metrics import classification_report, confusion_matrix, ConfusionMatrixDisplay\n",
    "# from sklearn.metrics import f1_score"
   ]
  },
  {
   "cell_type": "code",
   "execution_count": 15,
   "id": "81b32373",
   "metadata": {
    "execution": {
     "iopub.execute_input": "2023-08-13T00:26:58.387297Z",
     "iopub.status.busy": "2023-08-13T00:26:58.386804Z",
     "iopub.status.idle": "2023-08-13T00:26:58.391904Z",
     "shell.execute_reply": "2023-08-13T00:26:58.390235Z"
    },
    "papermill": {
     "duration": 0.111217,
     "end_time": "2023-08-13T00:26:58.394769",
     "exception": false,
     "start_time": "2023-08-13T00:26:58.283552",
     "status": "completed"
    },
    "tags": []
   },
   "outputs": [],
   "source": [
    "# def evaluate(y_test, y_pred):\n",
    "#     print(classification_report(y_test, y_pred))\n",
    "#     print(confusion_matrix(y_test, y_pred))\n",
    "#     # print(f1_score(y_test, y_pred))\n",
    "#     ConfusionMatrixDisplay(y_test, y_pred)\n",
    "#     return"
   ]
  },
  {
   "cell_type": "markdown",
   "id": "d3cb49e3",
   "metadata": {
    "papermill": {
     "duration": 0.102303,
     "end_time": "2023-08-13T00:26:58.598294",
     "exception": false,
     "start_time": "2023-08-13T00:26:58.495991",
     "status": "completed"
    },
    "tags": []
   },
   "source": [
    "### Data preprocessing  "
   ]
  },
  {
   "cell_type": "markdown",
   "id": "4241d1b4",
   "metadata": {
    "papermill": {
     "duration": 0.121462,
     "end_time": "2023-08-13T00:26:58.821749",
     "exception": false,
     "start_time": "2023-08-13T00:26:58.700287",
     "status": "completed"
    },
    "tags": []
   },
   "source": [
    "`Define stop words`  "
   ]
  },
  {
   "cell_type": "code",
   "execution_count": 16,
   "id": "0a415485",
   "metadata": {
    "execution": {
     "iopub.execute_input": "2023-08-13T00:26:59.024108Z",
     "iopub.status.busy": "2023-08-13T00:26:59.023737Z",
     "iopub.status.idle": "2023-08-13T00:26:59.028293Z",
     "shell.execute_reply": "2023-08-13T00:26:59.027008Z"
    },
    "papermill": {
     "duration": 0.109153,
     "end_time": "2023-08-13T00:26:59.031009",
     "exception": false,
     "start_time": "2023-08-13T00:26:58.921856",
     "status": "completed"
    },
    "tags": []
   },
   "outputs": [],
   "source": [
    "# stop_words = [\"able\", \"about\", \"above\", \"abst\", \"ac\"]     # Deprecated  \n",
    "# type(stop_words), len(stop_words)"
   ]
  },
  {
   "cell_type": "markdown",
   "id": "aecaaaa9",
   "metadata": {
    "papermill": {
     "duration": 0.100882,
     "end_time": "2023-08-13T00:26:59.231817",
     "exception": false,
     "start_time": "2023-08-13T00:26:59.130935",
     "status": "completed"
    },
    "tags": []
   },
   "source": [
    "## Feature extraction  "
   ]
  },
  {
   "cell_type": "markdown",
   "id": "5eb041d7",
   "metadata": {
    "papermill": {
     "duration": 0.1005,
     "end_time": "2023-08-13T00:26:59.433865",
     "exception": false,
     "start_time": "2023-08-13T00:26:59.333365",
     "status": "completed"
    },
    "tags": []
   },
   "source": [
    "### Understand CountVectorizer and TfidfVectorizer  "
   ]
  },
  {
   "cell_type": "code",
   "execution_count": 17,
   "id": "6c691ecd",
   "metadata": {
    "execution": {
     "iopub.execute_input": "2023-08-13T00:26:59.642373Z",
     "iopub.status.busy": "2023-08-13T00:26:59.641966Z",
     "iopub.status.idle": "2023-08-13T00:26:59.646510Z",
     "shell.execute_reply": "2023-08-13T00:26:59.645237Z"
    },
    "papermill": {
     "duration": 0.112429,
     "end_time": "2023-08-13T00:26:59.648732",
     "exception": false,
     "start_time": "2023-08-13T00:26:59.536303",
     "status": "completed"
    },
    "tags": []
   },
   "outputs": [],
   "source": [
    "# text = X_train.copy()\n",
    "# text.head()"
   ]
  },
  {
   "cell_type": "code",
   "execution_count": 18,
   "id": "621a0208",
   "metadata": {
    "execution": {
     "iopub.execute_input": "2023-08-13T00:26:59.859569Z",
     "iopub.status.busy": "2023-08-13T00:26:59.859147Z",
     "iopub.status.idle": "2023-08-13T00:26:59.863431Z",
     "shell.execute_reply": "2023-08-13T00:26:59.862628Z"
    },
    "papermill": {
     "duration": 0.111124,
     "end_time": "2023-08-13T00:26:59.866075",
     "exception": false,
     "start_time": "2023-08-13T00:26:59.754951",
     "status": "completed"
    },
    "tags": []
   },
   "outputs": [],
   "source": [
    "# vectorizer = TfidfVectorizer(stop_words=stop_words)\n",
    "# vectorized_text = vectorizer.fit_transform(text[\"reviewText\"])\n",
    "# vectorized_text"
   ]
  },
  {
   "cell_type": "markdown",
   "id": "1f54737a",
   "metadata": {
    "papermill": {
     "duration": 0.115876,
     "end_time": "2023-08-13T00:27:00.083474",
     "exception": false,
     "start_time": "2023-08-13T00:26:59.967598",
     "status": "completed"
    },
    "tags": []
   },
   "source": [
    "`Without stop words`  \n",
    "<122068x58624 sparse matrix of type '<class 'numpy.float64'>'\n",
    "\twith 2312222 stored elements in Compressed Sparse Row format>\n",
    "\n",
    "`With stop words`  \n",
    "<122068x57784 sparse matrix of type '<class 'numpy.float64'>'\n",
    "\twith 1188395 stored elements in Compressed Sparse Row format>   "
   ]
  },
  {
   "cell_type": "code",
   "execution_count": 19,
   "id": "fe6fc79f",
   "metadata": {
    "execution": {
     "iopub.execute_input": "2023-08-13T00:27:00.290782Z",
     "iopub.status.busy": "2023-08-13T00:27:00.289993Z",
     "iopub.status.idle": "2023-08-13T00:27:00.295592Z",
     "shell.execute_reply": "2023-08-13T00:27:00.294079Z"
    },
    "papermill": {
     "duration": 0.11399,
     "end_time": "2023-08-13T00:27:00.298293",
     "exception": false,
     "start_time": "2023-08-13T00:27:00.184303",
     "status": "completed"
    },
    "tags": []
   },
   "outputs": [],
   "source": [
    "# vectorizer2 = CountVectorizer(stop_words=stop_words)\n",
    "# vectorized_text2 = vectorizer2.fit_transform(text[\"reviewText\"])\n",
    "# vectorized_text2"
   ]
  },
  {
   "cell_type": "markdown",
   "id": "792e4f99",
   "metadata": {
    "papermill": {
     "duration": 0.103459,
     "end_time": "2023-08-13T00:27:00.503368",
     "exception": false,
     "start_time": "2023-08-13T00:27:00.399909",
     "status": "completed"
    },
    "tags": []
   },
   "source": [
    "`Without stop words`  \n",
    "<122068x58624 sparse matrix of type '<class 'numpy.int64'>'\n",
    "\twith 2312222 stored elements in Compressed Sparse Row format>\n",
    "\n",
    "`With stop words`  \n",
    "<122068x57784 sparse matrix of type '<class 'numpy.int64'>'\n",
    "\twith 1188395 stored elements in Compressed Sparse Row format>"
   ]
  },
  {
   "cell_type": "markdown",
   "id": "189f2443",
   "metadata": {
    "papermill": {
     "duration": 0.101985,
     "end_time": "2023-08-13T00:27:00.709035",
     "exception": false,
     "start_time": "2023-08-13T00:27:00.607050",
     "status": "completed"
    },
    "tags": []
   },
   "source": [
    "### Conclusion   \n",
    "`TfidfVectorizer is equivalent to CountVectorizer followed by TfidfTransformer.`  \n",
    "\n",
    "https://scikit-learn.org/stable/modules/generated/sklearn.feature_extraction.text.TfidfVectorizer.html"
   ]
  },
  {
   "cell_type": "markdown",
   "id": "8c9bdf81",
   "metadata": {
    "papermill": {
     "duration": 0.101865,
     "end_time": "2023-08-13T00:27:00.914594",
     "exception": false,
     "start_time": "2023-08-13T00:27:00.812729",
     "status": "completed"
    },
    "tags": []
   },
   "source": [
    "## Model building workflow  \n",
    "\n",
    "`Make pipeline for preprocesing and model training and predictions`  \n"
   ]
  },
  {
   "cell_type": "code",
   "execution_count": 20,
   "id": "b2114c0b",
   "metadata": {
    "execution": {
     "iopub.execute_input": "2023-08-13T00:27:01.121945Z",
     "iopub.status.busy": "2023-08-13T00:27:01.121501Z",
     "iopub.status.idle": "2023-08-13T00:27:01.127820Z",
     "shell.execute_reply": "2023-08-13T00:27:01.126365Z"
    },
    "papermill": {
     "duration": 0.113128,
     "end_time": "2023-08-13T00:27:01.131189",
     "exception": false,
     "start_time": "2023-08-13T00:27:01.018061",
     "status": "completed"
    },
    "tags": []
   },
   "outputs": [],
   "source": [
    "# def preprocess_n_train(X_train, y_train, preprocessor, model):\n",
    "#     pipe = Pipeline(steps=[\n",
    "#                             (\"preprocessor\", preprocessor),\n",
    "#                             (\"model\", model)\n",
    "#                         ])\n",
    "    \n",
    "#     pipe.fit(X_train, y_train)\n",
    "\n",
    "#     print(\"Given model has been trained. Use predict method to get predictions array.\")\n",
    "#     return pipe\n",
    "\n",
    "\n",
    "# def predict_n_evaluate(pipeline, X_test, y_test):\n",
    "#     y_pred = pipeline.predict(X_test)\n",
    "#     print(f\"y_pred shape: {y_pred.shape}\")\n",
    "#     print(f\"Summary of predictions: {np.unique(y_pred, return_counts=True)}\")\n",
    "#     print(classification_report(y_test, y_pred))\n",
    "#     print(confusion_matrix(y_test, y_pred))\n",
    "#     return y_pred"
   ]
  },
  {
   "cell_type": "markdown",
   "id": "4558c719",
   "metadata": {
    "papermill": {
     "duration": 0.112865,
     "end_time": "2023-08-13T00:27:01.353997",
     "exception": false,
     "start_time": "2023-08-13T00:27:01.241132",
     "status": "completed"
    },
    "tags": []
   },
   "source": [
    "## Building 3 basic models  "
   ]
  },
  {
   "cell_type": "markdown",
   "id": "b1a2e90f",
   "metadata": {
    "papermill": {
     "duration": 0.103553,
     "end_time": "2023-08-13T00:27:01.560370",
     "exception": false,
     "start_time": "2023-08-13T00:27:01.456817",
     "status": "completed"
    },
    "tags": []
   },
   "source": [
    "### Text preprocessors  "
   ]
  },
  {
   "cell_type": "code",
   "execution_count": 21,
   "id": "75c56986",
   "metadata": {
    "execution": {
     "iopub.execute_input": "2023-08-13T00:27:01.769905Z",
     "iopub.status.busy": "2023-08-13T00:27:01.769484Z",
     "iopub.status.idle": "2023-08-13T00:27:01.774859Z",
     "shell.execute_reply": "2023-08-13T00:27:01.773318Z"
    },
    "papermill": {
     "duration": 0.113381,
     "end_time": "2023-08-13T00:27:01.777097",
     "exception": false,
     "start_time": "2023-08-13T00:27:01.663716",
     "status": "completed"
    },
    "tags": []
   },
   "outputs": [],
   "source": [
    "# tvec = TfidfVectorizer()\n",
    "# cvec = CountVectorizer()        # Note that TfidfVectorizer and CountVectorizer+TfidsTransformer do the same function\n",
    "# tvec, cvec"
   ]
  },
  {
   "cell_type": "markdown",
   "id": "5b1d22f7",
   "metadata": {
    "papermill": {
     "duration": 0.10404,
     "end_time": "2023-08-13T00:27:01.984359",
     "exception": false,
     "start_time": "2023-08-13T00:27:01.880319",
     "status": "completed"
    },
    "tags": []
   },
   "source": [
    "### Logistic Regression with TfidVectorizer for preprocessing  "
   ]
  },
  {
   "cell_type": "code",
   "execution_count": 22,
   "id": "168b588d",
   "metadata": {
    "execution": {
     "iopub.execute_input": "2023-08-13T00:27:02.189920Z",
     "iopub.status.busy": "2023-08-13T00:27:02.189077Z",
     "iopub.status.idle": "2023-08-13T00:27:02.194080Z",
     "shell.execute_reply": "2023-08-13T00:27:02.193058Z"
    },
    "papermill": {
     "duration": 0.11204,
     "end_time": "2023-08-13T00:27:02.196693",
     "exception": false,
     "start_time": "2023-08-13T00:27:02.084653",
     "status": "completed"
    },
    "tags": []
   },
   "outputs": [],
   "source": [
    "# logreg = LogisticRegression(max_iter=1000)\n",
    "# logreg_pipe = preprocess_n_train(X_train, y_train, tvec, logreg)\n",
    "# y_pred_logreg = predict_n_evaluate(logreg_pipe, X_test, y_test)\n",
    "# y_pred_logreg"
   ]
  },
  {
   "cell_type": "markdown",
   "id": "21027fcd",
   "metadata": {
    "papermill": {
     "duration": 0.10163,
     "end_time": "2023-08-13T00:27:02.401086",
     "exception": false,
     "start_time": "2023-08-13T00:27:02.299456",
     "status": "completed"
    },
    "tags": []
   },
   "source": [
    "### SVM model  "
   ]
  },
  {
   "cell_type": "code",
   "execution_count": 23,
   "id": "28788871",
   "metadata": {
    "execution": {
     "iopub.execute_input": "2023-08-13T00:27:02.609979Z",
     "iopub.status.busy": "2023-08-13T00:27:02.609598Z",
     "iopub.status.idle": "2023-08-13T00:27:02.615060Z",
     "shell.execute_reply": "2023-08-13T00:27:02.613835Z"
    },
    "papermill": {
     "duration": 0.113024,
     "end_time": "2023-08-13T00:27:02.617292",
     "exception": false,
     "start_time": "2023-08-13T00:27:02.504268",
     "status": "completed"
    },
    "tags": []
   },
   "outputs": [],
   "source": [
    "# svm = LinearSVC()\n",
    "# svm_pipe = preprocess_n_train(X_train, y_train, tvec, svm)\n",
    "# y_pred_svm = predict_n_evaluate(svm_pipe, X_test, y_test)\n",
    "# y_pred_svm"
   ]
  },
  {
   "cell_type": "markdown",
   "id": "4e15c67c",
   "metadata": {
    "papermill": {
     "duration": 0.103403,
     "end_time": "2023-08-13T00:27:02.827067",
     "exception": false,
     "start_time": "2023-08-13T00:27:02.723664",
     "status": "completed"
    },
    "tags": []
   },
   "source": [
    "### Naive Bayes model  "
   ]
  },
  {
   "cell_type": "markdown",
   "id": "28cb45e0",
   "metadata": {
    "papermill": {
     "duration": 0.102052,
     "end_time": "2023-08-13T00:27:03.033443",
     "exception": false,
     "start_time": "2023-08-13T00:27:02.931391",
     "status": "completed"
    },
    "tags": []
   },
   "source": [
    "#### MultinomialNB  "
   ]
  },
  {
   "cell_type": "code",
   "execution_count": 24,
   "id": "b5b96786",
   "metadata": {
    "execution": {
     "iopub.execute_input": "2023-08-13T00:27:03.244800Z",
     "iopub.status.busy": "2023-08-13T00:27:03.244390Z",
     "iopub.status.idle": "2023-08-13T00:27:03.249879Z",
     "shell.execute_reply": "2023-08-13T00:27:03.248397Z"
    },
    "papermill": {
     "duration": 0.115436,
     "end_time": "2023-08-13T00:27:03.252297",
     "exception": false,
     "start_time": "2023-08-13T00:27:03.136861",
     "status": "completed"
    },
    "tags": []
   },
   "outputs": [],
   "source": [
    "# mnb = MultinomialNB()\n",
    "# mnb_pipe = preprocess_n_train(X_train, y_train, tvec, mnb)\n",
    "# y_pred_mnb = predict_n_evaluate(mnb_pipe, X_test, y_test)\n",
    "# y_pred_mnb"
   ]
  },
  {
   "cell_type": "markdown",
   "id": "28889f12",
   "metadata": {
    "papermill": {
     "duration": 0.165677,
     "end_time": "2023-08-13T00:27:03.520575",
     "exception": false,
     "start_time": "2023-08-13T00:27:03.354898",
     "status": "completed"
    },
    "tags": []
   },
   "source": [
    "## Submitting predictions to Kaggle competition  "
   ]
  },
  {
   "cell_type": "code",
   "execution_count": 25,
   "id": "b9e89fd8",
   "metadata": {
    "execution": {
     "iopub.execute_input": "2023-08-13T00:27:03.730254Z",
     "iopub.status.busy": "2023-08-13T00:27:03.729860Z",
     "iopub.status.idle": "2023-08-13T00:27:03.734881Z",
     "shell.execute_reply": "2023-08-13T00:27:03.734029Z"
    },
    "papermill": {
     "duration": 0.114122,
     "end_time": "2023-08-13T00:27:03.736951",
     "exception": false,
     "start_time": "2023-08-13T00:27:03.622829",
     "status": "completed"
    },
    "tags": []
   },
   "outputs": [],
   "source": [
    "# def submit(selected_model=logreg, selected_preprocessor=tvec):\n",
    "    \n",
    "#     # Retrain on the whole train.csv file  \n",
    "#     traindf = pd.read_csv(\"/kaggle/input/sentiment-prediction-on-movie-reviews/train.csv\")\n",
    "#     X_train = traindf[\"reviewText\"]\n",
    "#     X_train.fillna(\"empty\", inplace=True)\n",
    "#     y_train = traindf[\"sentiment\"]\n",
    "#     pipe = preprocess_n_train(X_train, y_train, selected_preprocessor, selected_model)\n",
    "    \n",
    "#     # Predict on test.csv file\n",
    "#     testdf = pd.read_csv(\"/kaggle/input/sentiment-prediction-on-movie-reviews/test.csv\")\n",
    "#     X_test = testdf[\"reviewText\"]\n",
    "#     X_test.fillna(\"empty\", inplace=True)\n",
    "    \n",
    "#     y_pred = pipe.predict(X_test)\n",
    "    \n",
    "#     pred_df = pd.DataFrame(y_pred)\n",
    "#     pred_df.columns = [\"sentiment\"]\n",
    "#     pred_df.index.name = \"id\"\n",
    "#     pred_df.to_csv(\"submission.csv\")\n",
    "    \n",
    "#     return \"Successfully created the submission file!!!\""
   ]
  },
  {
   "cell_type": "code",
   "execution_count": 26,
   "id": "ddc2bc83",
   "metadata": {
    "execution": {
     "iopub.execute_input": "2023-08-13T00:27:03.942233Z",
     "iopub.status.busy": "2023-08-13T00:27:03.941840Z",
     "iopub.status.idle": "2023-08-13T00:27:03.946587Z",
     "shell.execute_reply": "2023-08-13T00:27:03.945278Z"
    },
    "papermill": {
     "duration": 0.109706,
     "end_time": "2023-08-13T00:27:03.948923",
     "exception": false,
     "start_time": "2023-08-13T00:27:03.839217",
     "status": "completed"
    },
    "tags": []
   },
   "outputs": [],
   "source": [
    "# submit(logreg_cv1, tvec_cv1)"
   ]
  },
  {
   "cell_type": "markdown",
   "id": "be3b039c",
   "metadata": {
    "papermill": {
     "duration": 0.101371,
     "end_time": "2023-08-13T00:27:04.152492",
     "exception": false,
     "start_time": "2023-08-13T00:27:04.051121",
     "status": "completed"
    },
    "tags": []
   },
   "source": [
    "# PART II  "
   ]
  },
  {
   "cell_type": "markdown",
   "id": "3f740b44",
   "metadata": {
    "papermill": {
     "duration": 0.103048,
     "end_time": "2023-08-13T00:27:04.356733",
     "exception": false,
     "start_time": "2023-08-13T00:27:04.253685",
     "status": "completed"
    },
    "tags": []
   },
   "source": [
    "## Merge \"movies.csv\" with \"train.csv\" and \"test.csv\"  "
   ]
  },
  {
   "cell_type": "markdown",
   "id": "3c66db45",
   "metadata": {
    "papermill": {
     "duration": 0.102583,
     "end_time": "2023-08-13T00:27:04.561935",
     "exception": false,
     "start_time": "2023-08-13T00:27:04.459352",
     "status": "completed"
    },
    "tags": []
   },
   "source": [
    "### Helper functions  "
   ]
  },
  {
   "cell_type": "code",
   "execution_count": 27,
   "id": "9a8ddcf4",
   "metadata": {
    "execution": {
     "iopub.execute_input": "2023-08-13T00:27:04.772539Z",
     "iopub.status.busy": "2023-08-13T00:27:04.772102Z",
     "iopub.status.idle": "2023-08-13T00:27:04.777599Z",
     "shell.execute_reply": "2023-08-13T00:27:04.776781Z"
    },
    "papermill": {
     "duration": 0.114629,
     "end_time": "2023-08-13T00:27:04.779694",
     "exception": false,
     "start_time": "2023-08-13T00:27:04.665065",
     "status": "completed"
    },
    "tags": []
   },
   "outputs": [],
   "source": [
    "# Helper function for loading files  \n",
    "\n",
    "def load_csv(filename: str):\n",
    "    if platform == \"vscode\":\n",
    "        df = pd.read_csv(f\"data/{filename}.csv\")\n",
    "    else:\n",
    "        df = pd.read_csv(f\"/kaggle/input/sentiment-prediction-on-movie-reviews/{filename}.csv\")\n",
    "        \n",
    "    return df"
   ]
  },
  {
   "cell_type": "code",
   "execution_count": 28,
   "id": "2857645e",
   "metadata": {
    "execution": {
     "iopub.execute_input": "2023-08-13T00:27:04.988161Z",
     "iopub.status.busy": "2023-08-13T00:27:04.987810Z",
     "iopub.status.idle": "2023-08-13T00:27:04.994055Z",
     "shell.execute_reply": "2023-08-13T00:27:04.992642Z"
    },
    "papermill": {
     "duration": 0.113342,
     "end_time": "2023-08-13T00:27:04.996563",
     "exception": false,
     "start_time": "2023-08-13T00:27:04.883221",
     "status": "completed"
    },
    "tags": []
   },
   "outputs": [],
   "source": [
    "def inspect(df: pd.DataFrame):\n",
    "    print(f\"Shape of the dataframe: {df.shape}\")\n",
    "    print()\n",
    "    print(f\"Columns in the dataframe:\\n{df.columns}\")\n",
    "    print()\n",
    "    print(f\"{df.info()}\")\n",
    "    print()\n",
    "    # print(f\"Summary: {df.describe()}\")\n",
    "    print(f\"Missing values:\\n{df.isna().sum()}\")\n",
    "    return"
   ]
  },
  {
   "cell_type": "code",
   "execution_count": 29,
   "id": "32996684",
   "metadata": {
    "execution": {
     "iopub.execute_input": "2023-08-13T00:27:05.205154Z",
     "iopub.status.busy": "2023-08-13T00:27:05.204769Z",
     "iopub.status.idle": "2023-08-13T00:27:05.211056Z",
     "shell.execute_reply": "2023-08-13T00:27:05.209896Z"
    },
    "papermill": {
     "duration": 0.111659,
     "end_time": "2023-08-13T00:27:05.213294",
     "exception": false,
     "start_time": "2023-08-13T00:27:05.101635",
     "status": "completed"
    },
    "tags": []
   },
   "outputs": [],
   "source": [
    "def name_fl(name):\n",
    "    l = name.split()\n",
    "    n = ' '.join((l[0], l[-1]))\n",
    "    return n"
   ]
  },
  {
   "cell_type": "code",
   "execution_count": 30,
   "id": "6bee1383",
   "metadata": {
    "execution": {
     "iopub.execute_input": "2023-08-13T00:27:05.426410Z",
     "iopub.status.busy": "2023-08-13T00:27:05.426004Z",
     "iopub.status.idle": "2023-08-13T00:27:05.456749Z",
     "shell.execute_reply": "2023-08-13T00:27:05.455584Z"
    },
    "papermill": {
     "duration": 0.139367,
     "end_time": "2023-08-13T00:27:05.460026",
     "exception": false,
     "start_time": "2023-08-13T00:27:05.320659",
     "status": "completed"
    },
    "tags": []
   },
   "outputs": [],
   "source": [
    "def select_features(df: pd.DataFrame, moviesdf: pd.DataFrame, row_thresh_null=None):\n",
    "    '''\n",
    "    This function merges the given dataframes. Note that the first df must be \"train\" or \"test\" and\n",
    "    the second df should be \"movies\".\n",
    "    Note: Sentiment column is present only in \"train.csv\" file and not \"test.csv\" file.\n",
    "    '''\n",
    "    \n",
    "    # Drop duplicates from moviesdf\n",
    "#     movies_unique = moviesdf.drop_duplicates(subset=[\"movieid\"])\n",
    "\n",
    "    # Drop duplicates using groupby - clubs similar rows and fills in missing values better\n",
    "    movies_unique = moviesdf.fillna(value=np.nan).groupby(\"movieid\").first().reset_index()\n",
    "    \n",
    "\n",
    "    # Handle missing values in movies.csv better than just dropping duplicates?\n",
    "#     movies_unique = moviesdf.copy()\n",
    "#     movies_unique[[\"audienceScore\", \"runtimeMinutes\"]] = movies_unique[[\"audienceScore\", \"runtimeMinutes\"]].interpolate(method='linear', axis=0)\n",
    "#     movies_unique = movies_unique.fillna(value=np.nan).groupby(\"movieid\").first().fillna(method='ffill').reset_index()\n",
    "\n",
    "    \n",
    "\n",
    "    # Merge df and movies_unique\n",
    "    df_merged = pd.merge(df, movies_unique, on=\"movieid\", how='left')\n",
    "    \n",
    "    # Rename \"isTopCritic\" column, if it exists, to \"isFrequentReviewer\"\n",
    "    df_merged.rename(columns={\"isTopCritic\": \"isFrequentReviewer\"}, inplace=True)\n",
    "    \n",
    "    # Drop columns\n",
    "#     df_merged = df_merged.drop(columns=[\"title\", \"ratingContents\", \"releaseDateTheaters\", \"releaseDateStreaming\", \"distributor\", \"soundType\"])\n",
    "#     df_merged = df_merged.drop(columns=[\"title\", \"soundType\"])\n",
    "    \n",
    "    # Drop rows (OPTIONAL: Uses kwarg row_thresh_null)\n",
    "    if row_thresh_null != None:\n",
    "        df_merged.dropna(axis=0, thresh=(df_merged.shape[1] - row_thresh_null), inplace=True)\n",
    "        \n",
    "\n",
    "    # Create new columns based on reviewText\n",
    "    final = df_merged.copy()\n",
    "    final[\"reviewYN\"] = np.where(final[\"reviewText\"].isnull(), 1, 0)    # Feature engineering - adding a new column\n",
    "    final[\"reviewWC\"] = final.apply(lambda x: len(str(x[\"reviewText\"]).split()), axis=1)    # Feature engineering - adding second new column\n",
    "    \n",
    "    # Clean text (replace numbers with empty string) and fill missing values in \"reviewText\" with empty string\n",
    "    final[\"reviewText\"] = final[\"reviewText\"].str.replace('\\d+', '', regex=True)\n",
    "    final[\"reviewText\"] = final[\"reviewText\"].fillna(\"neutral\")\n",
    "    \n",
    "    # Fill missing values in \"rating\", \"genre\", original columns with the word \"unknown\"\n",
    "    final[\"rating\"] = final[\"rating\"].fillna(\"unknown\")\n",
    "    final[\"originalLanguage\"] = final[\"originalLanguage\"].fillna(\"unknown\")\n",
    "    final[\"genre\"] = final[\"genre\"].fillna(\"unknown\")\n",
    "    final[\"genre\"] = final[\"genre\"].apply(lambda x: re.sub(r\"-\", \"\", x))\n",
    "    final[\"genreSorted\"] = final[\"genre\"].apply(lambda x: (\",\").join(sorted(x.split(\", \"))))\n",
    "#     final[\"genre\"] = final[\"genre\"].replace(to_replace={\"&\": \"\"})\n",
    "\n",
    "    # Impute missing values for \"audienceScore\" and \"runtimeMinutes\" columns\n",
    "#     final[\"audienceScore\"] = final[\"audienceScore\"].fillna(final[\"audienceScore\"].mean())        # MOVED\n",
    "#     final[\"runtimeMinutes\"] = final[\"runtimeMinutes\"].fillna(final[\"runtimeMinutes\"].median())   # MOVED\n",
    "    \n",
    "    # Preprocess and impute missing values in \"boxOffice\" column\n",
    "    final[\"boxOffice\"] = final[\"boxOffice\"].str[1:]\n",
    "    final[\"boxOffice\"] = final[\"boxOffice\"].replace(to_replace={\"M\": \"*1000000\", \"K\": \"*1000\"}, regex=True)\n",
    "    final[\"boxOffice\"] = final[\"boxOffice\"].loc[final[\"boxOffice\"].notnull()].apply(lambda x: eval(str(x)))\n",
    "#     final[\"boxOffice\"] = final[\"boxOffice\"].fillna(final[\"boxOffice\"].median())                  # MOVED\n",
    "    # (Optional) Replace outliers in boxOffice with median\n",
    "#     median = final[\"boxOffice\"].describe()['50%']\n",
    "#     iqr = final[\"boxOffice\"].describe()['75%'] - final[\"boxOffice\"].describe()['25%']\n",
    "#     ll = median - (1.5*iqr)\n",
    "#     ul = median + (1.5*iqr)\n",
    "#     final.loc[final[\"boxOffice\"] > ul, \"boxOffice\"] = median\n",
    "    \n",
    "    # Clean language names\n",
    "    final[\"originalLanguage\"].replace({\"English (United Kingdom)\": \"English\", \n",
    "                                            \"English (Australia)\" : \"English\",\n",
    "                                            \"French (France)\": \"French\", \n",
    "                                            \"French (Canada)\": \"French\",\n",
    "                                            \"Portuguese (Brazil)\": \"Portuguese\",\n",
    "                                            \"Spanish (Spain)\": \"Spanish\"},                                         \n",
    "                                            inplace=True)\n",
    "    \n",
    "    # Clean reviewerName column\n",
    "    pre_post_fixes = {\"Mr. \": \"\", \"Mrs. \": \"\", \"Ms. \": \"\", \"Dr. \": \"\", \n",
    "                      \" MD\": \"\", \" DDS\": \"\", \" DVM\": \"\", \" Jr.\": \"\", \" PhD\": \"\", \" II\": \"\", \" IV\": \"\"}\n",
    "    final[\"reviewerName\"] = final[\"reviewerName\"].replace(pre_post_fixes, regex=True)\n",
    "    final[\"reviewerName\"] = final[\"reviewerName\"].apply(name_fl)\n",
    "    \n",
    "    # Handle 'ratingContents' column\n",
    "    final[\"ratingContents\"] = final[\"ratingContents\"].fillna(\"neutral\")\n",
    "    final[\"rcSorted\"] = final[\"ratingContents\"].apply(lambda x: (\",\").join(sorted(x.strip(\"][\").split(\", \"))))\n",
    "    final[\"rcSorted\"] = final[\"rcSorted\"].apply(lambda x: re.sub(r\"'\", \"\", x))\n",
    "    final[\"rcSorted\"] = final[\"rcSorted\"].apply(lambda x: re.sub(r\"[/\\s]\", \"_\", x))  \n",
    "    \n",
    "    # Handle 'ratingContents' column\n",
    "    final[\"distributor\"] = final[\"distributor\"].fillna(\"unknown\")\n",
    "    \n",
    "    # Work with 'releaseDateTheaters', releaseDateStreaming column\n",
    "    final[[\"releaseDateTheaters\", \"releaseDateStreaming\"]] = final[[\"releaseDateTheaters\", \"releaseDateStreaming\"]].astype('datetime64[ns]')\n",
    "\n",
    "    final[\"releaseDate\"] = final[[\"releaseDateTheaters\", \"releaseDateStreaming\"]].min(axis=1, skipna=False)\n",
    "#     final[\"releaseDate\"] = final[\"releaseDate\"].fillna(final[\"releaseDate\"].median())               # MOVED\n",
    "\n",
    "    final[\"releaseYear\"] = final[\"releaseDate\"].dt.year\n",
    "    final[\"releaseMonth\"] = final[\"releaseDate\"].dt.month\n",
    "    \n",
    "    # Compute \"releaseDiff\" column and fill missing values in \"releaseDiff\" and (optional) replace outliers\n",
    "    final[\"releaseDiff\"] = (final[\"releaseDateStreaming\"] - final[\"releaseDateTheaters\"]) / np.timedelta64(1, 'D')\n",
    "    final[\"releaseDiff\"] = final[\"releaseDiff\"].apply(lambda x: abs(x))\n",
    "    final[\"releaseDiff\"] = final[\"releaseDiff\"].fillna(value=0)\n",
    "#     final[\"releaseDiff\"] = final[\"releaseDiff\"].fillna(final[\"releaseDiff\"].median())\n",
    "    # median = final[\"releaseDiff\"].describe()['50%']\n",
    "    # iqr = final[\"releaseDiff\"].describe()['75%'] - final[\"releaseDiff\"].describe()['25%']\n",
    "    # ll = median - (1.5*iqr)\n",
    "    # ul = median + (1.5*iqr)\n",
    "    # final.loc[final[\"releaseDiff\"] > ul, \"releaseDiff\"] = median\n",
    "    # final.loc[final[\"releaseDiff\"] < ll, \"releaseDiff\"] = median\n",
    "    \n",
    "#     # Create new feature columns\n",
    "    \n",
    "#     # Convert audienceScore to categories  \n",
    "#     num_bins_as = 20\n",
    "#     final[\"audScoreBins\"] = pd.cut(final['audienceScore'], bins=num_bins_as, labels=False)\n",
    "    \n",
    "#     # Convert runtimeMinutes to categories  \n",
    "# #     num_bins_rt = 20\n",
    "#     final[\"runtimeBins\"] = pd.cut(final['runtimeMinutes'], bins=[0,75,120,180,565], labels=[4,3,2,1])\n",
    "    \n",
    "#     # Convert boxOffice to categories  \n",
    "#     num_bins_bo = 5\n",
    "#     final[\"boxOfficeBins\"] = pd.cut(final['boxOffice'], bins=num_bins_bo, labels=False)\n",
    "    \n",
    "#     # Convert releaseDiff to categories  \n",
    "#     num_bins_rd = 5\n",
    "#     final[\"releaseDiffBins\"] = pd.cut(final['releaseDiff'], bins=[-1, 180, 360, 1000, 40000], labels=[0, 1, 2, 3])\n",
    "\n",
    "    return final"
   ]
  },
  {
   "cell_type": "code",
   "execution_count": 31,
   "id": "9cd81d96",
   "metadata": {
    "execution": {
     "iopub.execute_input": "2023-08-13T00:27:05.671514Z",
     "iopub.status.busy": "2023-08-13T00:27:05.671100Z",
     "iopub.status.idle": "2023-08-13T00:27:05.678908Z",
     "shell.execute_reply": "2023-08-13T00:27:05.677772Z"
    },
    "papermill": {
     "duration": 0.115656,
     "end_time": "2023-08-13T00:27:05.681992",
     "exception": false,
     "start_time": "2023-08-13T00:27:05.566336",
     "status": "completed"
    },
    "tags": []
   },
   "outputs": [],
   "source": [
    "def split_train_predict(features, labels, pipeline, test_size=0.25, random_state=42):\n",
    "    # cols = features.columns\n",
    "    if len(features.shape) == 1:\n",
    "        features = features.to_numpy().reshape(-1, 1)  # reshape to 2D array\n",
    "    features = pd.DataFrame(features)\n",
    "    X_train, X_test, y_train, y_test = train_test_split(features, labels, test_size=test_size, random_state=random_state)\n",
    "    pipeline.fit(X_train, y_train)\n",
    "    y_pred = pipeline.predict(X_test)\n",
    "    print(classification_report(y_test, y_pred))\n",
    "    print(confusion_matrix(y_test, y_pred))\n",
    "    return pipeline"
   ]
  },
  {
   "cell_type": "markdown",
   "id": "d944ed5f",
   "metadata": {
    "papermill": {
     "duration": 0.103893,
     "end_time": "2023-08-13T00:27:05.890184",
     "exception": false,
     "start_time": "2023-08-13T00:27:05.786291",
     "status": "completed"
    },
    "tags": []
   },
   "source": [
    "### Merge \"train.csv\" file with \"movies.csv\" file  "
   ]
  },
  {
   "cell_type": "code",
   "execution_count": 32,
   "id": "0ce02449",
   "metadata": {
    "execution": {
     "iopub.execute_input": "2023-08-13T00:27:06.101503Z",
     "iopub.status.busy": "2023-08-13T00:27:06.101113Z",
     "iopub.status.idle": "2023-08-13T00:27:20.872566Z",
     "shell.execute_reply": "2023-08-13T00:27:20.870714Z"
    },
    "papermill": {
     "duration": 14.879771,
     "end_time": "2023-08-13T00:27:20.875345",
     "exception": false,
     "start_time": "2023-08-13T00:27:05.995574",
     "status": "completed"
    },
    "tags": []
   },
   "outputs": [],
   "source": [
    "merged = select_features(load_csv(\"train\"), load_csv(\"movies\"), row_thresh_null=None)"
   ]
  },
  {
   "cell_type": "code",
   "execution_count": 33,
   "id": "9f121d84",
   "metadata": {
    "execution": {
     "iopub.execute_input": "2023-08-13T00:27:21.093694Z",
     "iopub.status.busy": "2023-08-13T00:27:21.093313Z",
     "iopub.status.idle": "2023-08-13T00:27:22.599340Z",
     "shell.execute_reply": "2023-08-13T00:27:22.597994Z"
    },
    "papermill": {
     "duration": 1.616882,
     "end_time": "2023-08-13T00:27:22.601656",
     "exception": false,
     "start_time": "2023-08-13T00:27:20.984774",
     "status": "completed"
    },
    "tags": []
   },
   "outputs": [
    {
     "name": "stdout",
     "output_type": "stream",
     "text": [
      "Shape of the dataframe: (162758, 26)\n",
      "\n",
      "Columns in the dataframe:\n",
      "Index(['movieid', 'reviewerName', 'isFrequentReviewer', 'reviewText',\n",
      "       'sentiment', 'title', 'audienceScore', 'rating', 'ratingContents',\n",
      "       'releaseDateTheaters', 'releaseDateStreaming', 'runtimeMinutes',\n",
      "       'genre', 'originalLanguage', 'director', 'boxOffice', 'distributor',\n",
      "       'soundType', 'reviewYN', 'reviewWC', 'genreSorted', 'rcSorted',\n",
      "       'releaseDate', 'releaseYear', 'releaseMonth', 'releaseDiff'],\n",
      "      dtype='object')\n",
      "\n",
      "<class 'pandas.core.frame.DataFrame'>\n",
      "Int64Index: 162758 entries, 0 to 162757\n",
      "Data columns (total 26 columns):\n",
      " #   Column                Non-Null Count   Dtype         \n",
      "---  ------                --------------   -----         \n",
      " 0   movieid               162758 non-null  object        \n",
      " 1   reviewerName          162758 non-null  object        \n",
      " 2   isFrequentReviewer    162758 non-null  bool          \n",
      " 3   reviewText            162758 non-null  object        \n",
      " 4   sentiment             162758 non-null  object        \n",
      " 5   title                 162758 non-null  object        \n",
      " 6   audienceScore         159922 non-null  float64       \n",
      " 7   rating                162758 non-null  object        \n",
      " 8   ratingContents        162758 non-null  object        \n",
      " 9   releaseDateTheaters   146403 non-null  datetime64[ns]\n",
      " 10  releaseDateStreaming  157353 non-null  datetime64[ns]\n",
      " 11  runtimeMinutes        162016 non-null  float64       \n",
      " 12  genre                 162758 non-null  object        \n",
      " 13  originalLanguage      162758 non-null  object        \n",
      " 14  director              162758 non-null  object        \n",
      " 15  boxOffice             130581 non-null  float64       \n",
      " 16  distributor           162758 non-null  object        \n",
      " 17  soundType             93466 non-null   object        \n",
      " 18  reviewYN              162758 non-null  int64         \n",
      " 19  reviewWC              162758 non-null  int64         \n",
      " 20  genreSorted           162758 non-null  object        \n",
      " 21  rcSorted              162758 non-null  object        \n",
      " 22  releaseDate           143073 non-null  datetime64[ns]\n",
      " 23  releaseYear           143073 non-null  float64       \n",
      " 24  releaseMonth          143073 non-null  float64       \n",
      " 25  releaseDiff           162758 non-null  float64       \n",
      "dtypes: bool(1), datetime64[ns](3), float64(6), int64(2), object(14)\n",
      "memory usage: 32.4+ MB\n",
      "None\n",
      "\n",
      "Missing values:\n",
      "movieid                     0\n",
      "reviewerName                0\n",
      "isFrequentReviewer          0\n",
      "reviewText                  0\n",
      "sentiment                   0\n",
      "title                       0\n",
      "audienceScore            2836\n",
      "rating                      0\n",
      "ratingContents              0\n",
      "releaseDateTheaters     16355\n",
      "releaseDateStreaming     5405\n",
      "runtimeMinutes            742\n",
      "genre                       0\n",
      "originalLanguage            0\n",
      "director                    0\n",
      "boxOffice               32177\n",
      "distributor                 0\n",
      "soundType               69292\n",
      "reviewYN                    0\n",
      "reviewWC                    0\n",
      "genreSorted                 0\n",
      "rcSorted                    0\n",
      "releaseDate             19685\n",
      "releaseYear             19685\n",
      "releaseMonth            19685\n",
      "releaseDiff                 0\n",
      "dtype: int64\n"
     ]
    }
   ],
   "source": [
    "inspect(merged)    # Note missing values in ['audienceScore', 'runtimeMinutes', 'boxOffice'] columns  "
   ]
  },
  {
   "cell_type": "code",
   "execution_count": 34,
   "id": "3d1a930d",
   "metadata": {
    "execution": {
     "iopub.execute_input": "2023-08-13T00:27:22.812354Z",
     "iopub.status.busy": "2023-08-13T00:27:22.811687Z",
     "iopub.status.idle": "2023-08-13T00:27:22.905662Z",
     "shell.execute_reply": "2023-08-13T00:27:22.904574Z"
    },
    "papermill": {
     "duration": 0.202377,
     "end_time": "2023-08-13T00:27:22.907997",
     "exception": false,
     "start_time": "2023-08-13T00:27:22.705620",
     "status": "completed"
    },
    "tags": []
   },
   "outputs": [
    {
     "data": {
      "text/plain": [
       "array([6.80e+01, 1.04e+02, 1.43e+07])"
      ]
     },
     "execution_count": 34,
     "metadata": {},
     "output_type": "execute_result"
    }
   ],
   "source": [
    "# Simple Imputer for ['audienceScore', 'runtimeMinutes', 'boxOffice'] columns\n",
    "si = SimpleImputer(strategy='median')\n",
    "merged[['audienceScore', 'runtimeMinutes', 'boxOffice']] = si.fit_transform(merged[['audienceScore', 'runtimeMinutes', 'boxOffice']])\n",
    "si.statistics_"
   ]
  },
  {
   "cell_type": "code",
   "execution_count": 35,
   "id": "65c477f6",
   "metadata": {
    "execution": {
     "iopub.execute_input": "2023-08-13T00:27:23.117831Z",
     "iopub.status.busy": "2023-08-13T00:27:23.117400Z",
     "iopub.status.idle": "2023-08-13T00:27:23.133405Z",
     "shell.execute_reply": "2023-08-13T00:27:23.132444Z"
    },
    "papermill": {
     "duration": 0.124574,
     "end_time": "2023-08-13T00:27:23.136154",
     "exception": false,
     "start_time": "2023-08-13T00:27:23.011580",
     "status": "completed"
    },
    "tags": []
   },
   "outputs": [],
   "source": [
    "# Fill 'releaseDate' column with median  \n",
    "merged['releaseDate'] = merged[\"releaseDate\"].fillna(merged[\"releaseDate\"].median())"
   ]
  },
  {
   "cell_type": "code",
   "execution_count": 36,
   "id": "b9d1aa29",
   "metadata": {
    "execution": {
     "iopub.execute_input": "2023-08-13T00:27:23.351426Z",
     "iopub.status.busy": "2023-08-13T00:27:23.350476Z",
     "iopub.status.idle": "2023-08-13T00:27:24.871731Z",
     "shell.execute_reply": "2023-08-13T00:27:24.869578Z"
    },
    "papermill": {
     "duration": 1.631754,
     "end_time": "2023-08-13T00:27:24.874351",
     "exception": false,
     "start_time": "2023-08-13T00:27:23.242597",
     "status": "completed"
    },
    "tags": []
   },
   "outputs": [
    {
     "name": "stdout",
     "output_type": "stream",
     "text": [
      "Shape of the dataframe: (162758, 26)\n",
      "\n",
      "Columns in the dataframe:\n",
      "Index(['movieid', 'reviewerName', 'isFrequentReviewer', 'reviewText',\n",
      "       'sentiment', 'title', 'audienceScore', 'rating', 'ratingContents',\n",
      "       'releaseDateTheaters', 'releaseDateStreaming', 'runtimeMinutes',\n",
      "       'genre', 'originalLanguage', 'director', 'boxOffice', 'distributor',\n",
      "       'soundType', 'reviewYN', 'reviewWC', 'genreSorted', 'rcSorted',\n",
      "       'releaseDate', 'releaseYear', 'releaseMonth', 'releaseDiff'],\n",
      "      dtype='object')\n",
      "\n",
      "<class 'pandas.core.frame.DataFrame'>\n",
      "Int64Index: 162758 entries, 0 to 162757\n",
      "Data columns (total 26 columns):\n",
      " #   Column                Non-Null Count   Dtype         \n",
      "---  ------                --------------   -----         \n",
      " 0   movieid               162758 non-null  object        \n",
      " 1   reviewerName          162758 non-null  object        \n",
      " 2   isFrequentReviewer    162758 non-null  bool          \n",
      " 3   reviewText            162758 non-null  object        \n",
      " 4   sentiment             162758 non-null  object        \n",
      " 5   title                 162758 non-null  object        \n",
      " 6   audienceScore         162758 non-null  float64       \n",
      " 7   rating                162758 non-null  object        \n",
      " 8   ratingContents        162758 non-null  object        \n",
      " 9   releaseDateTheaters   146403 non-null  datetime64[ns]\n",
      " 10  releaseDateStreaming  157353 non-null  datetime64[ns]\n",
      " 11  runtimeMinutes        162758 non-null  float64       \n",
      " 12  genre                 162758 non-null  object        \n",
      " 13  originalLanguage      162758 non-null  object        \n",
      " 14  director              162758 non-null  object        \n",
      " 15  boxOffice             162758 non-null  float64       \n",
      " 16  distributor           162758 non-null  object        \n",
      " 17  soundType             93466 non-null   object        \n",
      " 18  reviewYN              162758 non-null  int64         \n",
      " 19  reviewWC              162758 non-null  int64         \n",
      " 20  genreSorted           162758 non-null  object        \n",
      " 21  rcSorted              162758 non-null  object        \n",
      " 22  releaseDate           162758 non-null  datetime64[ns]\n",
      " 23  releaseYear           143073 non-null  float64       \n",
      " 24  releaseMonth          143073 non-null  float64       \n",
      " 25  releaseDiff           162758 non-null  float64       \n",
      "dtypes: bool(1), datetime64[ns](3), float64(6), int64(2), object(14)\n",
      "memory usage: 32.4+ MB\n",
      "None\n",
      "\n",
      "Missing values:\n",
      "movieid                     0\n",
      "reviewerName                0\n",
      "isFrequentReviewer          0\n",
      "reviewText                  0\n",
      "sentiment                   0\n",
      "title                       0\n",
      "audienceScore               0\n",
      "rating                      0\n",
      "ratingContents              0\n",
      "releaseDateTheaters     16355\n",
      "releaseDateStreaming     5405\n",
      "runtimeMinutes              0\n",
      "genre                       0\n",
      "originalLanguage            0\n",
      "director                    0\n",
      "boxOffice                   0\n",
      "distributor                 0\n",
      "soundType               69292\n",
      "reviewYN                    0\n",
      "reviewWC                    0\n",
      "genreSorted                 0\n",
      "rcSorted                    0\n",
      "releaseDate                 0\n",
      "releaseYear             19685\n",
      "releaseMonth            19685\n",
      "releaseDiff                 0\n",
      "dtype: int64\n"
     ]
    }
   ],
   "source": [
    "# Check out 'merged' df after imputation  \n",
    "inspect(merged)"
   ]
  },
  {
   "cell_type": "code",
   "execution_count": 37,
   "id": "29c26702",
   "metadata": {
    "execution": {
     "iopub.execute_input": "2023-08-13T00:27:25.087396Z",
     "iopub.status.busy": "2023-08-13T00:27:25.086903Z",
     "iopub.status.idle": "2023-08-13T00:27:25.149641Z",
     "shell.execute_reply": "2023-08-13T00:27:25.148492Z"
    },
    "papermill": {
     "duration": 0.172626,
     "end_time": "2023-08-13T00:27:25.152176",
     "exception": false,
     "start_time": "2023-08-13T00:27:24.979550",
     "status": "completed"
    },
    "tags": []
   },
   "outputs": [
    {
     "data": {
      "text/html": [
       "<div>\n",
       "<style scoped>\n",
       "    .dataframe tbody tr th:only-of-type {\n",
       "        vertical-align: middle;\n",
       "    }\n",
       "\n",
       "    .dataframe tbody tr th {\n",
       "        vertical-align: top;\n",
       "    }\n",
       "\n",
       "    .dataframe thead th {\n",
       "        text-align: right;\n",
       "    }\n",
       "</style>\n",
       "<table border=\"1\" class=\"dataframe\">\n",
       "  <thead>\n",
       "    <tr style=\"text-align: right;\">\n",
       "      <th></th>\n",
       "      <th>audienceScore</th>\n",
       "      <th>runtimeMinutes</th>\n",
       "      <th>boxOffice</th>\n",
       "    </tr>\n",
       "  </thead>\n",
       "  <tbody>\n",
       "    <tr>\n",
       "      <th>count</th>\n",
       "      <td>162758.000000</td>\n",
       "      <td>162758.000000</td>\n",
       "      <td>1.627580e+05</td>\n",
       "    </tr>\n",
       "    <tr>\n",
       "      <th>mean</th>\n",
       "      <td>65.062565</td>\n",
       "      <td>106.992019</td>\n",
       "      <td>4.160983e+07</td>\n",
       "    </tr>\n",
       "    <tr>\n",
       "      <th>std</th>\n",
       "      <td>19.844000</td>\n",
       "      <td>22.203778</td>\n",
       "      <td>7.932291e+07</td>\n",
       "    </tr>\n",
       "    <tr>\n",
       "      <th>min</th>\n",
       "      <td>0.000000</td>\n",
       "      <td>4.000000</td>\n",
       "      <td>0.000000e+00</td>\n",
       "    </tr>\n",
       "    <tr>\n",
       "      <th>25%</th>\n",
       "      <td>51.000000</td>\n",
       "      <td>93.000000</td>\n",
       "      <td>2.000000e+06</td>\n",
       "    </tr>\n",
       "    <tr>\n",
       "      <th>50%</th>\n",
       "      <td>68.000000</td>\n",
       "      <td>104.000000</td>\n",
       "      <td>1.430000e+07</td>\n",
       "    </tr>\n",
       "    <tr>\n",
       "      <th>75%</th>\n",
       "      <td>81.000000</td>\n",
       "      <td>118.000000</td>\n",
       "      <td>4.200000e+07</td>\n",
       "    </tr>\n",
       "    <tr>\n",
       "      <th>max</th>\n",
       "      <td>100.000000</td>\n",
       "      <td>561.000000</td>\n",
       "      <td>8.584000e+08</td>\n",
       "    </tr>\n",
       "  </tbody>\n",
       "</table>\n",
       "</div>"
      ],
      "text/plain": [
       "       audienceScore  runtimeMinutes     boxOffice\n",
       "count  162758.000000   162758.000000  1.627580e+05\n",
       "mean       65.062565      106.992019  4.160983e+07\n",
       "std        19.844000       22.203778  7.932291e+07\n",
       "min         0.000000        4.000000  0.000000e+00\n",
       "25%        51.000000       93.000000  2.000000e+06\n",
       "50%        68.000000      104.000000  1.430000e+07\n",
       "75%        81.000000      118.000000  4.200000e+07\n",
       "max       100.000000      561.000000  8.584000e+08"
      ]
     },
     "execution_count": 37,
     "metadata": {},
     "output_type": "execute_result"
    }
   ],
   "source": [
    "merged[['audienceScore', 'runtimeMinutes', 'boxOffice']].describe()"
   ]
  },
  {
   "cell_type": "markdown",
   "id": "75b26255",
   "metadata": {
    "papermill": {
     "duration": 0.104013,
     "end_time": "2023-08-13T00:27:25.425482",
     "exception": false,
     "start_time": "2023-08-13T00:27:25.321469",
     "status": "completed"
    },
    "tags": []
   },
   "source": [
    "### EDA audienceScore  "
   ]
  },
  {
   "cell_type": "code",
   "execution_count": 38,
   "id": "4fcaf9cd",
   "metadata": {
    "execution": {
     "iopub.execute_input": "2023-08-13T00:27:25.638355Z",
     "iopub.status.busy": "2023-08-13T00:27:25.637970Z",
     "iopub.status.idle": "2023-08-13T00:27:26.040435Z",
     "shell.execute_reply": "2023-08-13T00:27:26.039004Z"
    },
    "papermill": {
     "duration": 0.511773,
     "end_time": "2023-08-13T00:27:26.043128",
     "exception": false,
     "start_time": "2023-08-13T00:27:25.531355",
     "status": "completed"
    },
    "tags": []
   },
   "outputs": [
    {
     "data": {
      "text/plain": [
       "<Axes: xlabel='sentiment', ylabel='audienceScore'>"
      ]
     },
     "execution_count": 38,
     "metadata": {},
     "output_type": "execute_result"
    },
    {
     "data": {
      "image/png": "[encoded data removed]",
      "text/plain": [
       "<Figure size 640x480 with 1 Axes>"
      ]
     },
     "metadata": {},
     "output_type": "display_data"
    }
   ],
   "source": [
    "sns.boxplot(y=merged[\"audienceScore\"], x=merged[\"sentiment\"])"
   ]
  },
  {
   "cell_type": "code",
   "execution_count": 39,
   "id": "06ccf904",
   "metadata": {
    "execution": {
     "iopub.execute_input": "2023-08-13T00:27:26.257994Z",
     "iopub.status.busy": "2023-08-13T00:27:26.257577Z",
     "iopub.status.idle": "2023-08-13T00:27:26.306935Z",
     "shell.execute_reply": "2023-08-13T00:27:26.305631Z"
    },
    "papermill": {
     "duration": 0.159201,
     "end_time": "2023-08-13T00:27:26.309495",
     "exception": false,
     "start_time": "2023-08-13T00:27:26.150294",
     "status": "completed"
    },
    "tags": []
   },
   "outputs": [
    {
     "data": {
      "text/html": [
       "<div>\n",
       "<style scoped>\n",
       "    .dataframe tbody tr th:only-of-type {\n",
       "        vertical-align: middle;\n",
       "    }\n",
       "\n",
       "    .dataframe tbody tr th {\n",
       "        vertical-align: top;\n",
       "    }\n",
       "\n",
       "    .dataframe thead th {\n",
       "        text-align: right;\n",
       "    }\n",
       "</style>\n",
       "<table border=\"1\" class=\"dataframe\">\n",
       "  <thead>\n",
       "    <tr style=\"text-align: right;\">\n",
       "      <th></th>\n",
       "      <th>count</th>\n",
       "      <th>mean</th>\n",
       "      <th>std</th>\n",
       "      <th>min</th>\n",
       "      <th>25%</th>\n",
       "      <th>50%</th>\n",
       "      <th>75%</th>\n",
       "      <th>max</th>\n",
       "    </tr>\n",
       "    <tr>\n",
       "      <th>sentiment</th>\n",
       "      <th></th>\n",
       "      <th></th>\n",
       "      <th></th>\n",
       "      <th></th>\n",
       "      <th></th>\n",
       "      <th></th>\n",
       "      <th></th>\n",
       "      <th></th>\n",
       "    </tr>\n",
       "  </thead>\n",
       "  <tbody>\n",
       "    <tr>\n",
       "      <th>NEGATIVE</th>\n",
       "      <td>53997.0</td>\n",
       "      <td>56.474786</td>\n",
       "      <td>19.902115</td>\n",
       "      <td>0.0</td>\n",
       "      <td>41.0</td>\n",
       "      <td>57.0</td>\n",
       "      <td>72.0</td>\n",
       "      <td>100.0</td>\n",
       "    </tr>\n",
       "    <tr>\n",
       "      <th>POSITIVE</th>\n",
       "      <td>108761.0</td>\n",
       "      <td>69.326174</td>\n",
       "      <td>18.380626</td>\n",
       "      <td>0.0</td>\n",
       "      <td>58.0</td>\n",
       "      <td>73.0</td>\n",
       "      <td>84.0</td>\n",
       "      <td>100.0</td>\n",
       "    </tr>\n",
       "  </tbody>\n",
       "</table>\n",
       "</div>"
      ],
      "text/plain": [
       "              count       mean        std  min   25%   50%   75%    max\n",
       "sentiment                                                              \n",
       "NEGATIVE    53997.0  56.474786  19.902115  0.0  41.0  57.0  72.0  100.0\n",
       "POSITIVE   108761.0  69.326174  18.380626  0.0  58.0  73.0  84.0  100.0"
      ]
     },
     "execution_count": 39,
     "metadata": {},
     "output_type": "execute_result"
    }
   ],
   "source": [
    "merged.groupby('sentiment')['audienceScore'].describe()"
   ]
  },
  {
   "cell_type": "code",
   "execution_count": 40,
   "id": "97e6a870",
   "metadata": {
    "execution": {
     "iopub.execute_input": "2023-08-13T00:27:26.519393Z",
     "iopub.status.busy": "2023-08-13T00:27:26.518973Z",
     "iopub.status.idle": "2023-08-13T00:27:26.581804Z",
     "shell.execute_reply": "2023-08-13T00:27:26.580619Z"
    },
    "papermill": {
     "duration": 0.169882,
     "end_time": "2023-08-13T00:27:26.584574",
     "exception": false,
     "start_time": "2023-08-13T00:27:26.414692",
     "status": "completed"
    },
    "tags": []
   },
   "outputs": [
    {
     "data": {
      "text/plain": [
       "(162758, 26)"
      ]
     },
     "execution_count": 40,
     "metadata": {},
     "output_type": "execute_result"
    }
   ],
   "source": [
    "merged.loc[merged['audienceScore'] >= 0].shape"
   ]
  },
  {
   "cell_type": "markdown",
   "id": "eea902c9",
   "metadata": {
    "papermill": {
     "duration": 0.104473,
     "end_time": "2023-08-13T00:27:26.793834",
     "exception": false,
     "start_time": "2023-08-13T00:27:26.689361",
     "status": "completed"
    },
    "tags": []
   },
   "source": [
    "### EDA releaseDiff  "
   ]
  },
  {
   "cell_type": "code",
   "execution_count": 41,
   "id": "9ba6ba36",
   "metadata": {
    "execution": {
     "iopub.execute_input": "2023-08-13T00:27:27.004204Z",
     "iopub.status.busy": "2023-08-13T00:27:27.003796Z",
     "iopub.status.idle": "2023-08-13T00:27:27.021362Z",
     "shell.execute_reply": "2023-08-13T00:27:27.020304Z"
    },
    "papermill": {
     "duration": 0.126617,
     "end_time": "2023-08-13T00:27:27.023705",
     "exception": false,
     "start_time": "2023-08-13T00:27:26.897088",
     "status": "completed"
    },
    "tags": []
   },
   "outputs": [
    {
     "data": {
      "text/plain": [
       "count    162758.000000\n",
       "mean       1653.469015\n",
       "std        4581.420922\n",
       "min           0.000000\n",
       "25%          65.000000\n",
       "50%         116.000000\n",
       "75%         375.000000\n",
       "max       38922.000000\n",
       "Name: releaseDiff, dtype: float64"
      ]
     },
     "execution_count": 41,
     "metadata": {},
     "output_type": "execute_result"
    }
   ],
   "source": [
    "# abs values\n",
    "merged[\"releaseDiff\"].describe()"
   ]
  },
  {
   "cell_type": "code",
   "execution_count": 42,
   "id": "e5674161",
   "metadata": {
    "execution": {
     "iopub.execute_input": "2023-08-13T00:27:27.237347Z",
     "iopub.status.busy": "2023-08-13T00:27:27.236978Z",
     "iopub.status.idle": "2023-08-13T00:27:27.241158Z",
     "shell.execute_reply": "2023-08-13T00:27:27.240070Z"
    },
    "papermill": {
     "duration": 0.116209,
     "end_time": "2023-08-13T00:27:27.243922",
     "exception": false,
     "start_time": "2023-08-13T00:27:27.127713",
     "status": "completed"
    },
    "tags": []
   },
   "outputs": [],
   "source": [
    "# merged['releaseDiffBins'].value_counts()"
   ]
  },
  {
   "cell_type": "code",
   "execution_count": 43,
   "id": "ee6cf918",
   "metadata": {
    "execution": {
     "iopub.execute_input": "2023-08-13T00:27:27.462020Z",
     "iopub.status.busy": "2023-08-13T00:27:27.461609Z",
     "iopub.status.idle": "2023-08-13T00:27:27.848597Z",
     "shell.execute_reply": "2023-08-13T00:27:27.847443Z"
    },
    "papermill": {
     "duration": 0.501636,
     "end_time": "2023-08-13T00:27:27.850975",
     "exception": false,
     "start_time": "2023-08-13T00:27:27.349339",
     "status": "completed"
    },
    "tags": []
   },
   "outputs": [
    {
     "data": {
      "text/plain": [
       "<Axes: xlabel='sentiment', ylabel='releaseDiff'>"
      ]
     },
     "execution_count": 43,
     "metadata": {},
     "output_type": "execute_result"
    },
    {
     "data": {
      "image/png": "[encoded data removed]",
      "text/plain": [
       "<Figure size 640x480 with 1 Axes>"
      ]
     },
     "metadata": {},
     "output_type": "display_data"
    }
   ],
   "source": [
    "sns.boxplot(x=merged['sentiment'], y=merged['releaseDiff'], showfliers=False)"
   ]
  },
  {
   "cell_type": "code",
   "execution_count": 44,
   "id": "467895e5",
   "metadata": {
    "execution": {
     "iopub.execute_input": "2023-08-13T00:27:28.066851Z",
     "iopub.status.busy": "2023-08-13T00:27:28.065760Z",
     "iopub.status.idle": "2023-08-13T00:27:28.071419Z",
     "shell.execute_reply": "2023-08-13T00:27:28.069646Z"
    },
    "papermill": {
     "duration": 0.117718,
     "end_time": "2023-08-13T00:27:28.073920",
     "exception": false,
     "start_time": "2023-08-13T00:27:27.956202",
     "status": "completed"
    },
    "tags": []
   },
   "outputs": [],
   "source": [
    "# sns.displot(merged['releaseDiffBins'])"
   ]
  },
  {
   "cell_type": "code",
   "execution_count": 45,
   "id": "497c5aed",
   "metadata": {
    "execution": {
     "iopub.execute_input": "2023-08-13T00:27:28.308846Z",
     "iopub.status.busy": "2023-08-13T00:27:28.308078Z",
     "iopub.status.idle": "2023-08-13T00:27:28.313558Z",
     "shell.execute_reply": "2023-08-13T00:27:28.312398Z"
    },
    "papermill": {
     "duration": 0.135165,
     "end_time": "2023-08-13T00:27:28.315814",
     "exception": false,
     "start_time": "2023-08-13T00:27:28.180649",
     "status": "completed"
    },
    "tags": []
   },
   "outputs": [],
   "source": [
    "# merged['sentiment'].loc[merged['releaseDiffBins'] > 0].value_counts()"
   ]
  },
  {
   "cell_type": "code",
   "execution_count": 46,
   "id": "071a3ffa",
   "metadata": {
    "execution": {
     "iopub.execute_input": "2023-08-13T00:27:28.541628Z",
     "iopub.status.busy": "2023-08-13T00:27:28.540730Z",
     "iopub.status.idle": "2023-08-13T00:27:28.545654Z",
     "shell.execute_reply": "2023-08-13T00:27:28.544629Z"
    },
    "papermill": {
     "duration": 0.119487,
     "end_time": "2023-08-13T00:27:28.548885",
     "exception": false,
     "start_time": "2023-08-13T00:27:28.429398",
     "status": "completed"
    },
    "tags": []
   },
   "outputs": [],
   "source": [
    "# merged['releaseDiffBins'].describe()"
   ]
  },
  {
   "cell_type": "markdown",
   "id": "99dfd0b3",
   "metadata": {
    "papermill": {
     "duration": 0.131443,
     "end_time": "2023-08-13T00:27:28.800429",
     "exception": false,
     "start_time": "2023-08-13T00:27:28.668986",
     "status": "completed"
    },
    "tags": []
   },
   "source": [
    "### EDA 'distributor'  "
   ]
  },
  {
   "cell_type": "code",
   "execution_count": 47,
   "id": "8da4a4ba",
   "metadata": {
    "execution": {
     "iopub.execute_input": "2023-08-13T00:27:29.036714Z",
     "iopub.status.busy": "2023-08-13T00:27:29.035303Z",
     "iopub.status.idle": "2023-08-13T00:27:29.075989Z",
     "shell.execute_reply": "2023-08-13T00:27:29.074782Z"
    },
    "papermill": {
     "duration": 0.154431,
     "end_time": "2023-08-13T00:27:29.078342",
     "exception": false,
     "start_time": "2023-08-13T00:27:28.923911",
     "status": "completed"
    },
    "tags": []
   },
   "outputs": [
    {
     "data": {
      "text/plain": [
       "unknown                              20489\n",
       "Universal Pictures                    8847\n",
       "Warner Bros. Pictures                 8722\n",
       "Paramount Pictures                    7773\n",
       "20th Century Fox                      7007\n",
       "                                     ...  \n",
       "Almi Pictures                            1\n",
       "Koch Lorber                              1\n",
       "Magic Lamp                               1\n",
       "Fine Line Features, Miramax Films        1\n",
       "American Film Co.                        1\n",
       "Name: distributor, Length: 1796, dtype: int64"
      ]
     },
     "execution_count": 47,
     "metadata": {},
     "output_type": "execute_result"
    }
   ],
   "source": [
    "merged[\"distributor\"].value_counts()"
   ]
  },
  {
   "cell_type": "code",
   "execution_count": 48,
   "id": "9f78bcaa",
   "metadata": {
    "execution": {
     "iopub.execute_input": "2023-08-13T00:27:29.296695Z",
     "iopub.status.busy": "2023-08-13T00:27:29.296241Z",
     "iopub.status.idle": "2023-08-13T00:27:29.316839Z",
     "shell.execute_reply": "2023-08-13T00:27:29.316010Z"
    },
    "papermill": {
     "duration": 0.135455,
     "end_time": "2023-08-13T00:27:29.319200",
     "exception": false,
     "start_time": "2023-08-13T00:27:29.183745",
     "status": "completed"
    },
    "tags": []
   },
   "outputs": [
    {
     "data": {
      "text/plain": [
       "count    162758.000000\n",
       "mean        106.992019\n",
       "std          22.203778\n",
       "min           4.000000\n",
       "25%          93.000000\n",
       "50%         104.000000\n",
       "75%         118.000000\n",
       "max         561.000000\n",
       "Name: runtimeMinutes, dtype: float64"
      ]
     },
     "execution_count": 48,
     "metadata": {},
     "output_type": "execute_result"
    }
   ],
   "source": [
    "merged[\"runtimeMinutes\"].describe()"
   ]
  },
  {
   "cell_type": "code",
   "execution_count": 49,
   "id": "8fe1937d",
   "metadata": {
    "execution": {
     "iopub.execute_input": "2023-08-13T00:27:29.538131Z",
     "iopub.status.busy": "2023-08-13T00:27:29.537373Z",
     "iopub.status.idle": "2023-08-13T00:27:29.957196Z",
     "shell.execute_reply": "2023-08-13T00:27:29.956011Z"
    },
    "papermill": {
     "duration": 0.531152,
     "end_time": "2023-08-13T00:27:29.959635",
     "exception": false,
     "start_time": "2023-08-13T00:27:29.428483",
     "status": "completed"
    },
    "tags": []
   },
   "outputs": [
    {
     "data": {
      "text/plain": [
       "<Axes: xlabel='sentiment', ylabel='runtimeMinutes'>"
      ]
     },
     "execution_count": 49,
     "metadata": {},
     "output_type": "execute_result"
    },
    {
     "data": {
      "image/png": "[encoded data removed]",
      "text/plain": [
       "<Figure size 640x480 with 1 Axes>"
      ]
     },
     "metadata": {},
     "output_type": "display_data"
    }
   ],
   "source": [
    "sns.boxplot(y=merged[\"runtimeMinutes\"], x=merged[\"sentiment\"])"
   ]
  },
  {
   "cell_type": "code",
   "execution_count": 50,
   "id": "83a03bc4",
   "metadata": {
    "execution": {
     "iopub.execute_input": "2023-08-13T00:27:30.179644Z",
     "iopub.status.busy": "2023-08-13T00:27:30.179194Z",
     "iopub.status.idle": "2023-08-13T00:27:30.183695Z",
     "shell.execute_reply": "2023-08-13T00:27:30.182615Z"
    },
    "papermill": {
     "duration": 0.116844,
     "end_time": "2023-08-13T00:27:30.186168",
     "exception": false,
     "start_time": "2023-08-13T00:27:30.069324",
     "status": "completed"
    },
    "tags": []
   },
   "outputs": [],
   "source": [
    "# print(merged[\"boxOfficeBins\"].value_counts())\n",
    "# sns.displot(merged[\"boxOfficeBins\"])"
   ]
  },
  {
   "cell_type": "code",
   "execution_count": 51,
   "id": "1b6429ea",
   "metadata": {
    "execution": {
     "iopub.execute_input": "2023-08-13T00:27:30.404325Z",
     "iopub.status.busy": "2023-08-13T00:27:30.403931Z",
     "iopub.status.idle": "2023-08-13T00:27:30.412127Z",
     "shell.execute_reply": "2023-08-13T00:27:30.411063Z"
    },
    "papermill": {
     "duration": 0.121368,
     "end_time": "2023-08-13T00:27:30.414341",
     "exception": false,
     "start_time": "2023-08-13T00:27:30.292973",
     "status": "completed"
    },
    "tags": []
   },
   "outputs": [
    {
     "data": {
      "text/plain": [
       "0    Henry Selick’s first movie since ’s Coraline. ...\n",
       "1    With a cast that reads like the Vogue Oscar pa...\n",
       "2    Creed II does not give us anything but another...\n",
       "3    I know what you're thinking, but this is no Li...\n",
       "4    Director Fernando Meirelles tells the story wi...\n",
       "Name: reviewText, dtype: object"
      ]
     },
     "execution_count": 51,
     "metadata": {},
     "output_type": "execute_result"
    }
   ],
   "source": [
    "merged[\"reviewText\"].head()"
   ]
  },
  {
   "cell_type": "code",
   "execution_count": 52,
   "id": "0270a183",
   "metadata": {
    "execution": {
     "iopub.execute_input": "2023-08-13T00:27:30.634032Z",
     "iopub.status.busy": "2023-08-13T00:27:30.633642Z",
     "iopub.status.idle": "2023-08-13T00:27:30.642496Z",
     "shell.execute_reply": "2023-08-13T00:27:30.641262Z"
    },
    "papermill": {
     "duration": 0.121202,
     "end_time": "2023-08-13T00:27:30.644877",
     "exception": false,
     "start_time": "2023-08-13T00:27:30.523675",
     "status": "completed"
    },
    "tags": []
   },
   "outputs": [
    {
     "data": {
      "text/plain": [
       "6447"
      ]
     },
     "execution_count": 52,
     "metadata": {},
     "output_type": "execute_result"
    }
   ],
   "source": [
    "merged[\"reviewYN\"].sum()"
   ]
  },
  {
   "cell_type": "code",
   "execution_count": 53,
   "id": "7432fa13",
   "metadata": {
    "execution": {
     "iopub.execute_input": "2023-08-13T00:27:30.864045Z",
     "iopub.status.busy": "2023-08-13T00:27:30.863666Z",
     "iopub.status.idle": "2023-08-13T00:27:30.872416Z",
     "shell.execute_reply": "2023-08-13T00:27:30.871210Z"
    },
    "papermill": {
     "duration": 0.12207,
     "end_time": "2023-08-13T00:27:30.874820",
     "exception": false,
     "start_time": "2023-08-13T00:27:30.752750",
     "status": "completed"
    },
    "tags": []
   },
   "outputs": [
    {
     "data": {
      "text/plain": [
       "0    11\n",
       "1    24\n",
       "2    22\n",
       "3    34\n",
       "4    20\n",
       "Name: reviewWC, dtype: int64"
      ]
     },
     "execution_count": 53,
     "metadata": {},
     "output_type": "execute_result"
    }
   ],
   "source": [
    "merged[\"reviewWC\"].head()"
   ]
  },
  {
   "cell_type": "code",
   "execution_count": 54,
   "id": "50575752",
   "metadata": {
    "execution": {
     "iopub.execute_input": "2023-08-13T00:27:31.095961Z",
     "iopub.status.busy": "2023-08-13T00:27:31.095571Z",
     "iopub.status.idle": "2023-08-13T00:27:31.112658Z",
     "shell.execute_reply": "2023-08-13T00:27:31.111469Z"
    },
    "papermill": {
     "duration": 0.129764,
     "end_time": "2023-08-13T00:27:31.115218",
     "exception": false,
     "start_time": "2023-08-13T00:27:30.985454",
     "status": "completed"
    },
    "tags": []
   },
   "outputs": [
    {
     "data": {
      "text/plain": [
       "count    162758.000000\n",
       "mean         21.013707\n",
       "std          10.216532\n",
       "min           1.000000\n",
       "25%          14.000000\n",
       "50%          21.000000\n",
       "75%          28.000000\n",
       "max          54.000000\n",
       "Name: reviewWC, dtype: float64"
      ]
     },
     "execution_count": 54,
     "metadata": {},
     "output_type": "execute_result"
    }
   ],
   "source": [
    "merged[\"reviewWC\"].describe()"
   ]
  },
  {
   "cell_type": "code",
   "execution_count": 55,
   "id": "4dffbca8",
   "metadata": {
    "execution": {
     "iopub.execute_input": "2023-08-13T00:27:31.335990Z",
     "iopub.status.busy": "2023-08-13T00:27:31.335609Z",
     "iopub.status.idle": "2023-08-13T00:27:32.051018Z",
     "shell.execute_reply": "2023-08-13T00:27:32.049535Z"
    },
    "papermill": {
     "duration": 0.831466,
     "end_time": "2023-08-13T00:27:32.054481",
     "exception": false,
     "start_time": "2023-08-13T00:27:31.223015",
     "status": "completed"
    },
    "tags": []
   },
   "outputs": [
    {
     "data": {
      "text/plain": [
       "<Axes: xlabel='reviewWC', ylabel='Count'>"
      ]
     },
     "execution_count": 55,
     "metadata": {},
     "output_type": "execute_result"
    },
    {
     "data": {
      "image/png": "[encoded data removed]",
      "text/plain": [
       "<Figure size 640x480 with 1 Axes>"
      ]
     },
     "metadata": {},
     "output_type": "display_data"
    }
   ],
   "source": [
    "sns.histplot(merged[\"reviewWC\"])"
   ]
  },
  {
   "cell_type": "code",
   "execution_count": 56,
   "id": "355a7396",
   "metadata": {
    "execution": {
     "iopub.execute_input": "2023-08-13T00:27:32.338057Z",
     "iopub.status.busy": "2023-08-13T00:27:32.337597Z",
     "iopub.status.idle": "2023-08-13T00:27:32.370185Z",
     "shell.execute_reply": "2023-08-13T00:27:32.368933Z"
    },
    "papermill": {
     "duration": 0.209239,
     "end_time": "2023-08-13T00:27:32.372547",
     "exception": false,
     "start_time": "2023-08-13T00:27:32.163308",
     "status": "completed"
    },
    "tags": []
   },
   "outputs": [
    {
     "data": {
      "text/plain": [
       "R          60248\n",
       "unknown    44587\n",
       "PG-13      42697\n",
       "PG         13669\n",
       "TV14         947\n",
       "NC-17        285\n",
       "TVPG         281\n",
       "TVMA          44\n",
       "Name: rating, dtype: int64"
      ]
     },
     "execution_count": 56,
     "metadata": {},
     "output_type": "execute_result"
    }
   ],
   "source": [
    "merged['rating'].value_counts()"
   ]
  },
  {
   "cell_type": "code",
   "execution_count": 57,
   "id": "c0dfc2e0",
   "metadata": {
    "execution": {
     "iopub.execute_input": "2023-08-13T00:27:32.594298Z",
     "iopub.status.busy": "2023-08-13T00:27:32.593887Z",
     "iopub.status.idle": "2023-08-13T00:27:32.604207Z",
     "shell.execute_reply": "2023-08-13T00:27:32.603239Z"
    },
    "papermill": {
     "duration": 0.124976,
     "end_time": "2023-08-13T00:27:32.606286",
     "exception": false,
     "start_time": "2023-08-13T00:27:32.481310",
     "status": "completed"
    },
    "tags": []
   },
   "outputs": [
    {
     "data": {
      "text/plain": [
       "False    113189\n",
       "True      49569\n",
       "Name: isFrequentReviewer, dtype: int64"
      ]
     },
     "execution_count": 57,
     "metadata": {},
     "output_type": "execute_result"
    }
   ],
   "source": [
    "merged['isFrequentReviewer'].value_counts()"
   ]
  },
  {
   "cell_type": "code",
   "execution_count": 58,
   "id": "f765f2b3",
   "metadata": {
    "execution": {
     "iopub.execute_input": "2023-08-13T00:27:32.827037Z",
     "iopub.status.busy": "2023-08-13T00:27:32.826648Z",
     "iopub.status.idle": "2023-08-13T00:27:32.835023Z",
     "shell.execute_reply": "2023-08-13T00:27:32.833866Z"
    },
    "papermill": {
     "duration": 0.120499,
     "end_time": "2023-08-13T00:27:32.837369",
     "exception": false,
     "start_time": "2023-08-13T00:27:32.716870",
     "status": "completed"
    },
    "tags": []
   },
   "outputs": [
    {
     "data": {
      "text/plain": [
       "0      Benjamin Henry\n",
       "1       Felicia Lopez\n",
       "2     Charles Burgess\n",
       "3        Ryan Barrett\n",
       "4    Alexander Glover\n",
       "Name: reviewerName, dtype: object"
      ]
     },
     "execution_count": 58,
     "metadata": {},
     "output_type": "execute_result"
    }
   ],
   "source": [
    "merged[\"reviewerName\"].head()"
   ]
  },
  {
   "cell_type": "code",
   "execution_count": 59,
   "id": "bcbfa80a",
   "metadata": {
    "execution": {
     "iopub.execute_input": "2023-08-13T00:27:33.062466Z",
     "iopub.status.busy": "2023-08-13T00:27:33.062023Z",
     "iopub.status.idle": "2023-08-13T00:27:33.075702Z",
     "shell.execute_reply": "2023-08-13T00:27:33.074265Z"
    },
    "papermill": {
     "duration": 0.128852,
     "end_time": "2023-08-13T00:27:33.077953",
     "exception": false,
     "start_time": "2023-08-13T00:27:32.949101",
     "status": "completed"
    },
    "tags": []
   },
   "outputs": [
    {
     "data": {
      "text/plain": [
       "14300000.0    32327\n",
       "2000000.0       922\n",
       "1100000.0       891\n",
       "1000000.0       834\n",
       "1200000.0       802\n",
       "              ...  \n",
       "58500.0           1\n",
       "500800.0          1\n",
       "265600.0          1\n",
       "292500.0          1\n",
       "799400.0          1\n",
       "Name: boxOffice, Length: 3819, dtype: int64"
      ]
     },
     "execution_count": 59,
     "metadata": {},
     "output_type": "execute_result"
    }
   ],
   "source": [
    "merged['boxOffice'].value_counts()"
   ]
  },
  {
   "cell_type": "code",
   "execution_count": 60,
   "id": "8c17b92e",
   "metadata": {
    "execution": {
     "iopub.execute_input": "2023-08-13T00:27:33.300834Z",
     "iopub.status.busy": "2023-08-13T00:27:33.300415Z",
     "iopub.status.idle": "2023-08-13T00:27:33.305971Z",
     "shell.execute_reply": "2023-08-13T00:27:33.304889Z"
    },
    "papermill": {
     "duration": 0.119715,
     "end_time": "2023-08-13T00:27:33.308142",
     "exception": false,
     "start_time": "2023-08-13T00:27:33.188427",
     "status": "completed"
    },
    "tags": []
   },
   "outputs": [],
   "source": [
    "# Check correlation between 'boxOffice' and ''sentiment'\n",
    "# bo_df = merged.copy()\n",
    "# print(bo_df[\"boxOffice\"])\n",
    "# bo_df[\"boxOffice\"] = bo_df[\"boxOffice\"].str[1:]\n",
    "# bo_df[\"boxOffice\"] = bo_df[\"boxOffice\"].replace(to_replace={\"M\": \"*1000000\", \"K\": \"*1000\"}, regex=True)\n",
    "# bo_df[\"boxOffice\"] = bo_df[\"boxOffice\"].loc[bo_df[\"boxOffice\"].notnull()].apply(lambda x: eval(str(x)))\n",
    "# bo_df[\"boxOffice\"] = bo_df[\"boxOffice\"].fillna(bo_df[\"boxOffice\"].median())\n",
    "# bo_df[\"boxOffice\"].describe()"
   ]
  },
  {
   "cell_type": "code",
   "execution_count": 61,
   "id": "082ec9d5",
   "metadata": {
    "execution": {
     "iopub.execute_input": "2023-08-13T00:27:33.529061Z",
     "iopub.status.busy": "2023-08-13T00:27:33.528406Z",
     "iopub.status.idle": "2023-08-13T00:27:33.534015Z",
     "shell.execute_reply": "2023-08-13T00:27:33.533018Z"
    },
    "papermill": {
     "duration": 0.119701,
     "end_time": "2023-08-13T00:27:33.536617",
     "exception": false,
     "start_time": "2023-08-13T00:27:33.416916",
     "status": "completed"
    },
    "tags": []
   },
   "outputs": [],
   "source": [
    "# median = bo_df[\"boxOffice\"].describe()['50%']\n",
    "# iqr = bo_df[\"boxOffice\"].describe()['75%'] - bo_df[\"boxOffice\"].describe()['25%']\n",
    "# median, iqr"
   ]
  },
  {
   "cell_type": "code",
   "execution_count": 62,
   "id": "bd725b75",
   "metadata": {
    "execution": {
     "iopub.execute_input": "2023-08-13T00:27:33.759461Z",
     "iopub.status.busy": "2023-08-13T00:27:33.759070Z",
     "iopub.status.idle": "2023-08-13T00:27:33.763078Z",
     "shell.execute_reply": "2023-08-13T00:27:33.761964Z"
    },
    "papermill": {
     "duration": 0.118987,
     "end_time": "2023-08-13T00:27:33.766100",
     "exception": false,
     "start_time": "2023-08-13T00:27:33.647113",
     "status": "completed"
    },
    "tags": []
   },
   "outputs": [],
   "source": [
    "# ll = median - (1.5*iqr)\n",
    "# ul = median + (1.5*iqr)\n",
    "# ll, ul"
   ]
  },
  {
   "cell_type": "code",
   "execution_count": 63,
   "id": "039c3242",
   "metadata": {
    "execution": {
     "iopub.execute_input": "2023-08-13T00:27:33.989053Z",
     "iopub.status.busy": "2023-08-13T00:27:33.988673Z",
     "iopub.status.idle": "2023-08-13T00:27:33.993988Z",
     "shell.execute_reply": "2023-08-13T00:27:33.992831Z"
    },
    "papermill": {
     "duration": 0.119021,
     "end_time": "2023-08-13T00:27:33.996175",
     "exception": false,
     "start_time": "2023-08-13T00:27:33.877154",
     "status": "completed"
    },
    "tags": []
   },
   "outputs": [],
   "source": [
    "# bo_df[\"boxOffice\"].mean()"
   ]
  },
  {
   "cell_type": "code",
   "execution_count": 64,
   "id": "2a589acd",
   "metadata": {
    "execution": {
     "iopub.execute_input": "2023-08-13T00:27:34.212818Z",
     "iopub.status.busy": "2023-08-13T00:27:34.212157Z",
     "iopub.status.idle": "2023-08-13T00:27:34.216293Z",
     "shell.execute_reply": "2023-08-13T00:27:34.215459Z"
    },
    "papermill": {
     "duration": 0.115302,
     "end_time": "2023-08-13T00:27:34.218630",
     "exception": false,
     "start_time": "2023-08-13T00:27:34.103328",
     "status": "completed"
    },
    "tags": []
   },
   "outputs": [],
   "source": [
    "# bo_df.loc[bo_df[\"boxOffice\"] > ul, \"boxOffice\"] = median\n",
    "# bo_df[\"boxOffice\"].mean()"
   ]
  },
  {
   "cell_type": "code",
   "execution_count": 65,
   "id": "e2e8eb5f",
   "metadata": {
    "execution": {
     "iopub.execute_input": "2023-08-13T00:27:34.436220Z",
     "iopub.status.busy": "2023-08-13T00:27:34.435817Z",
     "iopub.status.idle": "2023-08-13T00:27:34.440218Z",
     "shell.execute_reply": "2023-08-13T00:27:34.439098Z"
    },
    "papermill": {
     "duration": 0.116158,
     "end_time": "2023-08-13T00:27:34.442317",
     "exception": false,
     "start_time": "2023-08-13T00:27:34.326159",
     "status": "completed"
    },
    "tags": []
   },
   "outputs": [],
   "source": [
    "# bo_df[\"boxOffice\"].min(), bo_df[\"boxOffice\"].max()"
   ]
  },
  {
   "cell_type": "code",
   "execution_count": 66,
   "id": "03ef8610",
   "metadata": {
    "execution": {
     "iopub.execute_input": "2023-08-13T00:27:34.673843Z",
     "iopub.status.busy": "2023-08-13T00:27:34.673417Z",
     "iopub.status.idle": "2023-08-13T00:27:34.678045Z",
     "shell.execute_reply": "2023-08-13T00:27:34.676899Z"
    },
    "papermill": {
     "duration": 0.121493,
     "end_time": "2023-08-13T00:27:34.680431",
     "exception": false,
     "start_time": "2023-08-13T00:27:34.558938",
     "status": "completed"
    },
    "tags": []
   },
   "outputs": [],
   "source": [
    "# sns.boxplot(x=\"sentiment\", y=\"boxOffice\", data=bo_df, showfliers = False)"
   ]
  },
  {
   "cell_type": "markdown",
   "id": "f71651d3",
   "metadata": {
    "papermill": {
     "duration": 0.11114,
     "end_time": "2023-08-13T00:27:34.902708",
     "exception": false,
     "start_time": "2023-08-13T00:27:34.791568",
     "status": "completed"
    },
    "tags": []
   },
   "source": [
    "## EDA  "
   ]
  },
  {
   "cell_type": "markdown",
   "id": "9be3e8ca",
   "metadata": {
    "papermill": {
     "duration": 0.107186,
     "end_time": "2023-08-13T00:27:35.119378",
     "exception": false,
     "start_time": "2023-08-13T00:27:35.012192",
     "status": "completed"
    },
    "tags": []
   },
   "source": [
    "### An interesting finding through exploration  \n",
    "  \n",
    "* OHE and TfidfVectorizer on director column give the same result when ngram_range(2,2) is used (see code below)!"
   ]
  },
  {
   "cell_type": "code",
   "execution_count": 67,
   "id": "2aabcd95",
   "metadata": {
    "execution": {
     "iopub.execute_input": "2023-08-13T00:27:35.337929Z",
     "iopub.status.busy": "2023-08-13T00:27:35.337132Z",
     "iopub.status.idle": "2023-08-13T00:27:48.483415Z",
     "shell.execute_reply": "2023-08-13T00:27:48.481953Z"
    },
    "papermill": {
     "duration": 13.258794,
     "end_time": "2023-08-13T00:27:48.485892",
     "exception": false,
     "start_time": "2023-08-13T00:27:35.227098",
     "status": "completed"
    },
    "tags": []
   },
   "outputs": [
    {
     "name": "stdout",
     "output_type": "stream",
     "text": [
      "(162758,)\n",
      "9476\n",
      "(162758, 9476) <class 'numpy.ndarray'>\n",
      "(162758,)\n",
      "(162758, 9476) <class 'numpy.ndarray'>\n",
      "True\n"
     ]
    }
   ],
   "source": [
    "# Compare OHE and TfidfVectorizer on director column\n",
    "\n",
    "dirs = merged[\"director\"].copy()\n",
    "print(dirs.shape)\n",
    "dirs_uniq = merged[\"director\"].unique()\n",
    "print(len(dirs_uniq))\n",
    "\n",
    "du_ohe = OneHotEncoder(handle_unknown=\"ignore\", sparse_output=False).fit_transform(dirs.to_numpy().reshape(-1, 1))\n",
    "print(du_ohe.shape, type(du_ohe))\n",
    "\n",
    "dirs_2 = merged[\"director\"].copy()\n",
    "print(dirs_2.shape)\n",
    "du_tfidf = TfidfVectorizer(ngram_range=(2,2)).fit_transform(dirs_2).toarray()\n",
    "print(du_tfidf.shape, type(du_tfidf))\n",
    "\n",
    "print(np.array_equal(du_ohe, du_tfidf))"
   ]
  },
  {
   "cell_type": "code",
   "execution_count": 68,
   "id": "b99a44ed",
   "metadata": {
    "execution": {
     "iopub.execute_input": "2023-08-13T00:27:48.706312Z",
     "iopub.status.busy": "2023-08-13T00:27:48.705655Z",
     "iopub.status.idle": "2023-08-13T00:27:49.080680Z",
     "shell.execute_reply": "2023-08-13T00:27:49.079817Z"
    },
    "papermill": {
     "duration": 0.486727,
     "end_time": "2023-08-13T00:27:49.083215",
     "exception": false,
     "start_time": "2023-08-13T00:27:48.596488",
     "status": "completed"
    },
    "tags": []
   },
   "outputs": [
    {
     "name": "stdout",
     "output_type": "stream",
     "text": [
      "0       Bennie Basso\n",
      "1         Alma White\n",
      "2       Bobby Oleary\n",
      "3    Eric Hutcherson\n",
      "4         John Trent\n",
      "Name: director, dtype: object\n"
     ]
    },
    {
     "data": {
      "text/plain": [
       "2    162758\n",
       "Name: director, dtype: int64"
      ]
     },
     "execution_count": 68,
     "metadata": {},
     "output_type": "execute_result"
    }
   ],
   "source": [
    "print(dirs.head())\n",
    "d = dirs.copy()\n",
    "d[\"name_len\"] = d.apply(lambda x: len(x.split()))\n",
    "d[\"name_len\"].value_counts()"
   ]
  },
  {
   "cell_type": "code",
   "execution_count": 69,
   "id": "6d7a72ed",
   "metadata": {
    "execution": {
     "iopub.execute_input": "2023-08-13T00:27:49.303567Z",
     "iopub.status.busy": "2023-08-13T00:27:49.303139Z",
     "iopub.status.idle": "2023-08-13T00:27:49.309608Z",
     "shell.execute_reply": "2023-08-13T00:27:49.308388Z"
    },
    "papermill": {
     "duration": 0.119396,
     "end_time": "2023-08-13T00:27:49.311945",
     "exception": false,
     "start_time": "2023-08-13T00:27:49.192549",
     "status": "completed"
    },
    "tags": []
   },
   "outputs": [],
   "source": [
    "# Compare OHE and TfidfVectorizer on reviewerName column\n",
    "# Note: reviewerName column has salutations like \"Mr. \" etc, and some names appear middle names. Therefore needs cleaning\n",
    "\n",
    "# def name_fl(name):\n",
    "#     l = name.split()\n",
    "#     n = ' '.join((l[0], l[-1]))\n",
    "#     return n\n",
    "\n",
    "# reviewers = merged[\"reviewerName\"].copy()\n",
    "# reviewers = pd.DataFrame(reviewers)\n",
    "# reviewers = reviewers.replace({\"Mr. \": \"\", \"Mrs. \": \"\"}, regex=True)\n",
    "# reviewers[\"reviewerName\"] = reviewers[\"reviewerName\"].apply(name_fl)\n",
    "# print(reviewers.shape)\n",
    "\n",
    "# reviewers_uniq = merged[\"reviewerName\"].unique()\n",
    "# print(len(reviewers_uniq))\n",
    "\n",
    "# reviewers_ohe = OneHotEncoder(handle_unknown=\"ignore\", sparse_output=False).fit_transform(reviewers.to_numpy().reshape(-1, 1))\n",
    "# print(reviewers_ohe.shape, type(reviewers_ohe))\n",
    "\n",
    "# reviewers_2 = merged[\"reviewerName\"].copy()\n",
    "# reviewers_2 = pd.DataFrame(reviewers_2)\n",
    "# print(reviewers_2.head())\n",
    "# reviewers_2 = reviewers_2.replace({\"Mr. \": \"\", \"Mrs. \": \"\"}, regex=True)\n",
    "# reviewers_2[\"reviewerName\"] = reviewers_2[\"reviewerName\"].apply(name_fl)\n",
    "# reviewers_2 = reviewers_2.squeeze()\n",
    "# print(reviewers_2.shape)\n",
    "# print(reviewers_2.head())\n",
    "\n",
    "# reviewers_tfidf = TfidfVectorizer(ngram_range=(2,2)).fit_transform(reviewers_2).toarray()\n",
    "# print(reviewers_tfidf.shape, type(reviewers_tfidf))\n",
    "\n",
    "# print(np.array_equal(reviewers_ohe, reviewers_tfidf))"
   ]
  },
  {
   "cell_type": "code",
   "execution_count": 70,
   "id": "4339aa50",
   "metadata": {
    "execution": {
     "iopub.execute_input": "2023-08-13T00:27:49.534387Z",
     "iopub.status.busy": "2023-08-13T00:27:49.533613Z",
     "iopub.status.idle": "2023-08-13T00:27:49.538631Z",
     "shell.execute_reply": "2023-08-13T00:27:49.537330Z"
    },
    "papermill": {
     "duration": 0.118254,
     "end_time": "2023-08-13T00:27:49.541556",
     "exception": false,
     "start_time": "2023-08-13T00:27:49.423302",
     "status": "completed"
    },
    "tags": []
   },
   "outputs": [],
   "source": [
    "# def name_fl(name):\n",
    "#     l = name.split()\n",
    "#     n = ' '.join((l[0], l[-1]))\n",
    "#     return n"
   ]
  },
  {
   "cell_type": "code",
   "execution_count": 71,
   "id": "bf976e2d",
   "metadata": {
    "execution": {
     "iopub.execute_input": "2023-08-13T00:27:49.768446Z",
     "iopub.status.busy": "2023-08-13T00:27:49.768077Z",
     "iopub.status.idle": "2023-08-13T00:27:49.772954Z",
     "shell.execute_reply": "2023-08-13T00:27:49.771772Z"
    },
    "papermill": {
     "duration": 0.121532,
     "end_time": "2023-08-13T00:27:49.775398",
     "exception": false,
     "start_time": "2023-08-13T00:27:49.653866",
     "status": "completed"
    },
    "tags": []
   },
   "outputs": [],
   "source": [
    "# print(reviewers.head())\n",
    "# r = pd.DataFrame(reviewers.copy())\n",
    "# r[\"reviewerName\"] = r[\"reviewerName\"].apply(name_fl)\n",
    "# r[\"name_len\"] = r[\"reviewerName\"].apply(lambda x: len(x.split()))\n",
    "# print(r.shape)\n",
    "# print(r.head())\n",
    "# print(r['name_len'].value_counts())"
   ]
  },
  {
   "cell_type": "code",
   "execution_count": 72,
   "id": "986e04d7",
   "metadata": {
    "execution": {
     "iopub.execute_input": "2023-08-13T00:27:50.000898Z",
     "iopub.status.busy": "2023-08-13T00:27:49.999997Z",
     "iopub.status.idle": "2023-08-13T00:27:50.004953Z",
     "shell.execute_reply": "2023-08-13T00:27:50.004138Z"
    },
    "papermill": {
     "duration": 0.11915,
     "end_time": "2023-08-13T00:27:50.007088",
     "exception": false,
     "start_time": "2023-08-13T00:27:49.887938",
     "status": "completed"
    },
    "tags": []
   },
   "outputs": [],
   "source": [
    "## Box plot audienceScore and sentiment  \n",
    "# plt.figure(figsize=(6, 4))\n",
    "# sns.boxplot(x=\"sentiment\", y=\"audienceScore\", data=merged, width=0.3)\n",
    "# plt.title(\"Box plot audienceScore and sentiment\")\n",
    "# plt.show()"
   ]
  },
  {
   "cell_type": "code",
   "execution_count": 73,
   "id": "f2d86137",
   "metadata": {
    "execution": {
     "iopub.execute_input": "2023-08-13T00:27:50.229858Z",
     "iopub.status.busy": "2023-08-13T00:27:50.229201Z",
     "iopub.status.idle": "2023-08-13T00:27:50.233935Z",
     "shell.execute_reply": "2023-08-13T00:27:50.232952Z"
    },
    "papermill": {
     "duration": 0.118,
     "end_time": "2023-08-13T00:27:50.236443",
     "exception": false,
     "start_time": "2023-08-13T00:27:50.118443",
     "status": "completed"
    },
    "tags": []
   },
   "outputs": [],
   "source": [
    "## Box plot runtimeMinutes and sentiment  \n",
    "# plt.figure(figsize=(6, 4))\n",
    "# sns.boxplot(x=\"sentiment\", y=\"runtimeMinutes\", data=merged, width=0.3)\n",
    "# plt.title(\"Box plot runtimeMinutes and sentiment\")\n",
    "# plt.show()"
   ]
  },
  {
   "cell_type": "code",
   "execution_count": 74,
   "id": "d96c26be",
   "metadata": {
    "execution": {
     "iopub.execute_input": "2023-08-13T00:27:50.461028Z",
     "iopub.status.busy": "2023-08-13T00:27:50.460388Z",
     "iopub.status.idle": "2023-08-13T00:27:50.464154Z",
     "shell.execute_reply": "2023-08-13T00:27:50.463438Z"
    },
    "papermill": {
     "duration": 0.120048,
     "end_time": "2023-08-13T00:27:50.466640",
     "exception": false,
     "start_time": "2023-08-13T00:27:50.346592",
     "status": "completed"
    },
    "tags": []
   },
   "outputs": [],
   "source": [
    "## Column chart for sentiment and rating columns\n",
    "# plt.figure(figsize=(6, 4))\n",
    "# sns.countplot(x=\"sentiment\", hue=\"rating\", data=merged)\n",
    "# plt.title(\"Column chart for sentiment and rating columns\")\n",
    "# plt.show()"
   ]
  },
  {
   "cell_type": "code",
   "execution_count": 75,
   "id": "47e817ac",
   "metadata": {
    "execution": {
     "iopub.execute_input": "2023-08-13T00:27:50.689777Z",
     "iopub.status.busy": "2023-08-13T00:27:50.688545Z",
     "iopub.status.idle": "2023-08-13T00:27:50.693354Z",
     "shell.execute_reply": "2023-08-13T00:27:50.692567Z"
    },
    "papermill": {
     "duration": 0.11809,
     "end_time": "2023-08-13T00:27:50.695805",
     "exception": false,
     "start_time": "2023-08-13T00:27:50.577715",
     "status": "completed"
    },
    "tags": []
   },
   "outputs": [],
   "source": [
    "# Correlation heatmap  \n",
    "# plt.figure(figsize=(10, 8))\n",
    "# sns.heatmap(merged.corr(), annot=True, cmap=\"coolwarm\")\n",
    "# plt.title(\"Correlation heatmap\")\n",
    "# plt.show()"
   ]
  },
  {
   "cell_type": "markdown",
   "id": "54de7a24",
   "metadata": {
    "papermill": {
     "duration": 0.110812,
     "end_time": "2023-08-13T00:27:50.921662",
     "exception": false,
     "start_time": "2023-08-13T00:27:50.810850",
     "status": "completed"
    },
    "tags": []
   },
   "source": [
    "## Merge and preprocess \"test.csv\" and \"movies.csv\" files  "
   ]
  },
  {
   "cell_type": "code",
   "execution_count": 76,
   "id": "ec20a1bd",
   "metadata": {
    "execution": {
     "iopub.execute_input": "2023-08-13T00:27:51.153512Z",
     "iopub.status.busy": "2023-08-13T00:27:51.153113Z",
     "iopub.status.idle": "2023-08-13T00:27:57.276493Z",
     "shell.execute_reply": "2023-08-13T00:27:57.275355Z"
    },
    "papermill": {
     "duration": 6.241957,
     "end_time": "2023-08-13T00:27:57.279277",
     "exception": false,
     "start_time": "2023-08-13T00:27:51.037320",
     "status": "completed"
    },
    "tags": []
   },
   "outputs": [],
   "source": [
    "# Merge test and movies  \n",
    "merged_test = select_features(load_csv(\"test\"), load_csv(\"movies\"))"
   ]
  },
  {
   "cell_type": "code",
   "execution_count": 77,
   "id": "2991946c",
   "metadata": {
    "execution": {
     "iopub.execute_input": "2023-08-13T00:27:57.506249Z",
     "iopub.status.busy": "2023-08-13T00:27:57.505123Z",
     "iopub.status.idle": "2023-08-13T00:27:57.510804Z",
     "shell.execute_reply": "2023-08-13T00:27:57.509696Z"
    },
    "papermill": {
     "duration": 0.122162,
     "end_time": "2023-08-13T00:27:57.513793",
     "exception": false,
     "start_time": "2023-08-13T00:27:57.391631",
     "status": "completed"
    },
    "tags": []
   },
   "outputs": [],
   "source": [
    "# inspect(merged_test)      # Note the missing values in ['audienceScore', 'runtimeMinutes', 'boxOffice']"
   ]
  },
  {
   "cell_type": "code",
   "execution_count": 78,
   "id": "6008f9e6",
   "metadata": {
    "execution": {
     "iopub.execute_input": "2023-08-13T00:27:57.741777Z",
     "iopub.status.busy": "2023-08-13T00:27:57.741144Z",
     "iopub.status.idle": "2023-08-13T00:27:57.757686Z",
     "shell.execute_reply": "2023-08-13T00:27:57.756690Z"
    },
    "papermill": {
     "duration": 0.133289,
     "end_time": "2023-08-13T00:27:57.760144",
     "exception": false,
     "start_time": "2023-08-13T00:27:57.626855",
     "status": "completed"
    },
    "tags": []
   },
   "outputs": [
    {
     "data": {
      "text/plain": [
       "array([6.80e+01, 1.04e+02, 1.43e+07])"
      ]
     },
     "execution_count": 78,
     "metadata": {},
     "output_type": "execute_result"
    }
   ],
   "source": [
    "# Transform ['audienceScore', 'runtimeMinutes', 'boxOffice'] columns in merged_test using 'si' fitted on 'merged' df  \n",
    "merged_test[['audienceScore', 'runtimeMinutes', 'boxOffice']] = si.transform(merged_test[['audienceScore', 'runtimeMinutes', 'boxOffice']])\n",
    "si.statistics_"
   ]
  },
  {
   "cell_type": "code",
   "execution_count": 79,
   "id": "695acac0",
   "metadata": {
    "execution": {
     "iopub.execute_input": "2023-08-13T00:27:57.985667Z",
     "iopub.status.busy": "2023-08-13T00:27:57.985182Z",
     "iopub.status.idle": "2023-08-13T00:27:57.998550Z",
     "shell.execute_reply": "2023-08-13T00:27:57.996554Z"
    },
    "papermill": {
     "duration": 0.129488,
     "end_time": "2023-08-13T00:27:58.001268",
     "exception": false,
     "start_time": "2023-08-13T00:27:57.871780",
     "status": "completed"
    },
    "tags": []
   },
   "outputs": [],
   "source": [
    "# Fill 'releaseDate' column in 'merged_test' df with median from the train (merged) df  \n",
    "merged_test['releaseDate'] = merged_test[\"releaseDate\"].fillna(merged[\"releaseDate\"].median())"
   ]
  },
  {
   "cell_type": "code",
   "execution_count": 80,
   "id": "e53da4bc",
   "metadata": {
    "execution": {
     "iopub.execute_input": "2023-08-13T00:27:58.227309Z",
     "iopub.status.busy": "2023-08-13T00:27:58.226899Z",
     "iopub.status.idle": "2023-08-13T00:27:58.743612Z",
     "shell.execute_reply": "2023-08-13T00:27:58.742461Z"
    },
    "papermill": {
     "duration": 0.633037,
     "end_time": "2023-08-13T00:27:58.746796",
     "exception": false,
     "start_time": "2023-08-13T00:27:58.113759",
     "status": "completed"
    },
    "tags": []
   },
   "outputs": [
    {
     "name": "stdout",
     "output_type": "stream",
     "text": [
      "Shape of the dataframe: (55315, 25)\n",
      "\n",
      "Columns in the dataframe:\n",
      "Index(['movieid', 'reviewerName', 'isFrequentReviewer', 'reviewText', 'title',\n",
      "       'audienceScore', 'rating', 'ratingContents', 'releaseDateTheaters',\n",
      "       'releaseDateStreaming', 'runtimeMinutes', 'genre', 'originalLanguage',\n",
      "       'director', 'boxOffice', 'distributor', 'soundType', 'reviewYN',\n",
      "       'reviewWC', 'genreSorted', 'rcSorted', 'releaseDate', 'releaseYear',\n",
      "       'releaseMonth', 'releaseDiff'],\n",
      "      dtype='object')\n",
      "\n",
      "<class 'pandas.core.frame.DataFrame'>\n",
      "Int64Index: 55315 entries, 0 to 55314\n",
      "Data columns (total 25 columns):\n",
      " #   Column                Non-Null Count  Dtype         \n",
      "---  ------                --------------  -----         \n",
      " 0   movieid               55315 non-null  object        \n",
      " 1   reviewerName          55315 non-null  object        \n",
      " 2   isFrequentReviewer    55315 non-null  bool          \n",
      " 3   reviewText            55315 non-null  object        \n",
      " 4   title                 55315 non-null  object        \n",
      " 5   audienceScore         55315 non-null  float64       \n",
      " 6   rating                55315 non-null  object        \n",
      " 7   ratingContents        55315 non-null  object        \n",
      " 8   releaseDateTheaters   47844 non-null  datetime64[ns]\n",
      " 9   releaseDateStreaming  52929 non-null  datetime64[ns]\n",
      " 10  runtimeMinutes        55315 non-null  float64       \n",
      " 11  genre                 55315 non-null  object        \n",
      " 12  originalLanguage      55315 non-null  object        \n",
      " 13  director              55315 non-null  object        \n",
      " 14  boxOffice             55315 non-null  float64       \n",
      " 15  distributor           55315 non-null  object        \n",
      " 16  soundType             29845 non-null  object        \n",
      " 17  reviewYN              55315 non-null  int64         \n",
      " 18  reviewWC              55315 non-null  int64         \n",
      " 19  genreSorted           55315 non-null  object        \n",
      " 20  rcSorted              55315 non-null  object        \n",
      " 21  releaseDate           55315 non-null  datetime64[ns]\n",
      " 22  releaseYear           46626 non-null  float64       \n",
      " 23  releaseMonth          46626 non-null  float64       \n",
      " 24  releaseDiff           55315 non-null  float64       \n",
      "dtypes: bool(1), datetime64[ns](3), float64(6), int64(2), object(13)\n",
      "memory usage: 10.6+ MB\n",
      "None\n",
      "\n",
      "Missing values:\n",
      "movieid                     0\n",
      "reviewerName                0\n",
      "isFrequentReviewer          0\n",
      "reviewText                  0\n",
      "title                       0\n",
      "audienceScore               0\n",
      "rating                      0\n",
      "ratingContents              0\n",
      "releaseDateTheaters      7471\n",
      "releaseDateStreaming     2386\n",
      "runtimeMinutes              0\n",
      "genre                       0\n",
      "originalLanguage            0\n",
      "director                    0\n",
      "boxOffice                   0\n",
      "distributor                 0\n",
      "soundType               25470\n",
      "reviewYN                    0\n",
      "reviewWC                    0\n",
      "genreSorted                 0\n",
      "rcSorted                    0\n",
      "releaseDate                 0\n",
      "releaseYear              8689\n",
      "releaseMonth             8689\n",
      "releaseDiff                 0\n",
      "dtype: int64\n"
     ]
    }
   ],
   "source": [
    "# After transforming merged_test  \n",
    "inspect(merged_test)"
   ]
  },
  {
   "cell_type": "code",
   "execution_count": 81,
   "id": "dca7db2e",
   "metadata": {
    "execution": {
     "iopub.execute_input": "2023-08-13T00:27:58.988581Z",
     "iopub.status.busy": "2023-08-13T00:27:58.987768Z",
     "iopub.status.idle": "2023-08-13T00:27:58.994882Z",
     "shell.execute_reply": "2023-08-13T00:27:58.993764Z"
    },
    "papermill": {
     "duration": 0.121823,
     "end_time": "2023-08-13T00:27:58.997469",
     "exception": false,
     "start_time": "2023-08-13T00:27:58.875646",
     "status": "completed"
    },
    "tags": []
   },
   "outputs": [
    {
     "name": "stdout",
     "output_type": "stream",
     "text": [
      "2510\n",
      "4.537648015908886\n"
     ]
    }
   ],
   "source": [
    "print(merged_test[\"reviewYN\"].sum())\n",
    "print(merged_test[\"reviewYN\"].sum() * 100 / merged_test.shape[0])"
   ]
  },
  {
   "cell_type": "code",
   "execution_count": 82,
   "id": "621a0728",
   "metadata": {
    "execution": {
     "iopub.execute_input": "2023-08-13T00:27:59.222767Z",
     "iopub.status.busy": "2023-08-13T00:27:59.222375Z",
     "iopub.status.idle": "2023-08-13T00:27:59.237451Z",
     "shell.execute_reply": "2023-08-13T00:27:59.236623Z"
    },
    "papermill": {
     "duration": 0.128414,
     "end_time": "2023-08-13T00:27:59.239660",
     "exception": false,
     "start_time": "2023-08-13T00:27:59.111246",
     "status": "completed"
    },
    "tags": []
   },
   "outputs": [
    {
     "data": {
      "text/plain": [
       "R          18934\n",
       "unknown    18386\n",
       "PG-13      13220\n",
       "PG          4200\n",
       "TV14         333\n",
       "TVPG         109\n",
       "NC-17        108\n",
       "TVMA          25\n",
       "Name: rating, dtype: int64"
      ]
     },
     "execution_count": 82,
     "metadata": {},
     "output_type": "execute_result"
    }
   ],
   "source": [
    "merged_test['rating'].value_counts()"
   ]
  },
  {
   "cell_type": "code",
   "execution_count": 83,
   "id": "3d732f36",
   "metadata": {
    "execution": {
     "iopub.execute_input": "2023-08-13T00:27:59.482492Z",
     "iopub.status.busy": "2023-08-13T00:27:59.481749Z",
     "iopub.status.idle": "2023-08-13T00:27:59.491902Z",
     "shell.execute_reply": "2023-08-13T00:27:59.490903Z"
    },
    "papermill": {
     "duration": 0.141101,
     "end_time": "2023-08-13T00:27:59.494189",
     "exception": false,
     "start_time": "2023-08-13T00:27:59.353088",
     "status": "completed"
    },
    "tags": []
   },
   "outputs": [
    {
     "data": {
      "text/plain": [
       "False    38428\n",
       "True     16887\n",
       "Name: isFrequentReviewer, dtype: int64"
      ]
     },
     "execution_count": 83,
     "metadata": {},
     "output_type": "execute_result"
    }
   ],
   "source": [
    "merged_test['isFrequentReviewer'].value_counts()"
   ]
  },
  {
   "cell_type": "code",
   "execution_count": 84,
   "id": "64705bce",
   "metadata": {
    "execution": {
     "iopub.execute_input": "2023-08-13T00:27:59.744122Z",
     "iopub.status.busy": "2023-08-13T00:27:59.743002Z",
     "iopub.status.idle": "2023-08-13T00:27:59.755511Z",
     "shell.execute_reply": "2023-08-13T00:27:59.754435Z"
    },
    "papermill": {
     "duration": 0.135498,
     "end_time": "2023-08-13T00:27:59.757898",
     "exception": false,
     "start_time": "2023-08-13T00:27:59.622400",
     "status": "completed"
    },
    "tags": []
   },
   "outputs": [
    {
     "data": {
      "text/plain": [
       "14300000.0    13593\n",
       "1100000.0       311\n",
       "1000000.0       272\n",
       "1300000.0       263\n",
       "2000000.0       256\n",
       "              ...  \n",
       "200400.0          1\n",
       "23800000.0        1\n",
       "111200.0          1\n",
       "277800.0          1\n",
       "100600.0          1\n",
       "Name: boxOffice, Length: 3816, dtype: int64"
      ]
     },
     "execution_count": 84,
     "metadata": {},
     "output_type": "execute_result"
    }
   ],
   "source": [
    "merged_test['boxOffice'].value_counts()"
   ]
  },
  {
   "cell_type": "markdown",
   "id": "2646225e",
   "metadata": {
    "papermill": {
     "duration": 0.111396,
     "end_time": "2023-08-13T00:27:59.989211",
     "exception": false,
     "start_time": "2023-08-13T00:27:59.877815",
     "status": "completed"
    },
    "tags": []
   },
   "source": [
    "## Work on vocabulary  \n",
    "\n",
    "`Build vocabulary from 'reviewText' column`  "
   ]
  },
  {
   "cell_type": "code",
   "execution_count": 85,
   "id": "6f52f083",
   "metadata": {
    "execution": {
     "iopub.execute_input": "2023-08-13T00:28:00.220475Z",
     "iopub.status.busy": "2023-08-13T00:28:00.219785Z",
     "iopub.status.idle": "2023-08-13T00:28:00.240314Z",
     "shell.execute_reply": "2023-08-13T00:28:00.239246Z"
    },
    "papermill": {
     "duration": 0.138988,
     "end_time": "2023-08-13T00:28:00.242840",
     "exception": false,
     "start_time": "2023-08-13T00:28:00.103852",
     "status": "completed"
    },
    "tags": []
   },
   "outputs": [
    {
     "data": {
      "text/plain": [
       "((162758, 2),\n",
       "                                           reviewText sentiment\n",
       " 0  Henry Selick’s first movie since ’s Coraline. ...  POSITIVE\n",
       " 1  With a cast that reads like the Vogue Oscar pa...  NEGATIVE\n",
       " 2  Creed II does not give us anything but another...  POSITIVE\n",
       " 3  I know what you're thinking, but this is no Li...  POSITIVE\n",
       " 4  Director Fernando Meirelles tells the story wi...  POSITIVE)"
      ]
     },
     "execution_count": 85,
     "metadata": {},
     "output_type": "execute_result"
    }
   ],
   "source": [
    "rt_senti = merged[[\"reviewText\", \"sentiment\"]].copy()\n",
    "rt_senti.shape, rt_senti.head()"
   ]
  },
  {
   "cell_type": "code",
   "execution_count": 86,
   "id": "5c4a86a8",
   "metadata": {
    "execution": {
     "iopub.execute_input": "2023-08-13T00:28:00.472259Z",
     "iopub.status.busy": "2023-08-13T00:28:00.471565Z",
     "iopub.status.idle": "2023-08-13T00:28:00.484204Z",
     "shell.execute_reply": "2023-08-13T00:28:00.483169Z"
    },
    "papermill": {
     "duration": 0.129956,
     "end_time": "2023-08-13T00:28:00.486370",
     "exception": false,
     "start_time": "2023-08-13T00:28:00.356414",
     "status": "completed"
    },
    "tags": []
   },
   "outputs": [
    {
     "data": {
      "text/plain": [
       "((55315, 1),\n",
       "                                           reviewText\n",
       " 0  Green slowly cranks up the dread with style an...\n",
       " 1  Philip Noyce's direction is elegant and unforc...\n",
       " 2  It wouldn't do to say what path Maria ultimate...\n",
       " 3  Pig is not exactly the arthouse John Wick that...\n",
       " 4  An imaginative no-budget musical of sorts abou...)"
      ]
     },
     "execution_count": 86,
     "metadata": {},
     "output_type": "execute_result"
    }
   ],
   "source": [
    "rt_test = pd.DataFrame(merged_test[\"reviewText\"].copy())\n",
    "rt_test.shape, rt_test.head()"
   ]
  },
  {
   "cell_type": "code",
   "execution_count": 87,
   "id": "80c276e6",
   "metadata": {
    "execution": {
     "iopub.execute_input": "2023-08-13T00:28:00.709617Z",
     "iopub.status.busy": "2023-08-13T00:28:00.708998Z",
     "iopub.status.idle": "2023-08-13T00:28:00.715217Z",
     "shell.execute_reply": "2023-08-13T00:28:00.714311Z"
    },
    "papermill": {
     "duration": 0.120757,
     "end_time": "2023-08-13T00:28:00.717506",
     "exception": false,
     "start_time": "2023-08-13T00:28:00.596749",
     "status": "completed"
    },
    "tags": []
   },
   "outputs": [],
   "source": [
    "def get_vocab(text_df, ngram_range=(1,1)):\n",
    "    print(f\"Generating vocabulary for ngram_range: {ngram_range}...\")\n",
    "    tvec1 = CountVectorizer(ngram_range=ngram_range, stop_words='english', strip_accents='unicode')\n",
    "    tvec1.fit(text_df)\n",
    "    voc_ngram = set(tvec1.vocabulary_.keys())\n",
    "    return voc_ngram"
   ]
  },
  {
   "cell_type": "code",
   "execution_count": 88,
   "id": "40431ea1",
   "metadata": {
    "execution": {
     "iopub.execute_input": "2023-08-13T00:28:00.946069Z",
     "iopub.status.busy": "2023-08-13T00:28:00.945417Z",
     "iopub.status.idle": "2023-08-13T00:28:00.955992Z",
     "shell.execute_reply": "2023-08-13T00:28:00.955080Z"
    },
    "papermill": {
     "duration": 0.127193,
     "end_time": "2023-08-13T00:28:00.958336",
     "exception": false,
     "start_time": "2023-08-13T00:28:00.831143",
     "status": "completed"
    },
    "tags": []
   },
   "outputs": [],
   "source": [
    "def get_common_vocab(df_list: list, ngram_range_list: list):\n",
    "    \"\"\"\n",
    "    Get common vocabulary from a list of dataframes.\n",
    "    \"\"\"\n",
    "    final_common_vocab = set()\n",
    "    # Get vocabulary from each dataframe for a given ngram-range\n",
    "    for ngram_range in ngram_range_list:\n",
    "        vocab_ngram = set()\n",
    "        for num, df in enumerate(df_list, start=1):\n",
    "            print(f\"Working on DF#{num} in the list of DFs provided\")\n",
    "            vocab_ngram_df = set(get_vocab(df['reviewText'], ngram_range))\n",
    "            print(f\"Vocabulary size for ngram-range {ngram_range} in DF#{num}: {len(vocab_ngram_df)}\\n\")\n",
    "            if len(vocab_ngram) > 0:\n",
    "                print(f\"Keeping only the common (intersection) words for ngram-range {ngram_range}...\")\n",
    "                vocab_ngram = vocab_ngram.intersection(vocab_ngram_df)\n",
    "            else:\n",
    "                print(f\"Words from the first df for ngram-range {ngram_range} added.\\n\")\n",
    "                vocab_ngram = vocab_ngram_df\n",
    "        print(f\"Common vocabulary for ngram-range {ngram_range}: {len(vocab_ngram)}\\n\")\n",
    "        \n",
    "        if len(final_common_vocab) > 0:\n",
    "            print(f\"Fusing (union) with final common vocabulary: ngram-range = {ngram_range}.\\n\")\n",
    "            final_common_vocab = final_common_vocab.union(vocab_ngram)\n",
    "        else:\n",
    "            print(f\"Appended first time to final common vocabulary: ngram-range = {ngram_range}.\\n\")\n",
    "            final_common_vocab = vocab_ngram\n",
    "    return final_common_vocab"
   ]
  },
  {
   "cell_type": "code",
   "execution_count": 89,
   "id": "0928b59a",
   "metadata": {
    "execution": {
     "iopub.execute_input": "2023-08-13T00:28:01.190993Z",
     "iopub.status.busy": "2023-08-13T00:28:01.190310Z",
     "iopub.status.idle": "2023-08-13T00:28:01.195115Z",
     "shell.execute_reply": "2023-08-13T00:28:01.193891Z"
    },
    "papermill": {
     "duration": 0.122669,
     "end_time": "2023-08-13T00:28:01.197410",
     "exception": false,
     "start_time": "2023-08-13T00:28:01.074741",
     "status": "completed"
    },
    "tags": []
   },
   "outputs": [],
   "source": [
    "# voc_1gram = get_vocab(rt_senti[\"reviewText\"], ngram_range=(1,1))\n",
    "# len(voc_1gram), voc_1gram[:10]"
   ]
  },
  {
   "cell_type": "code",
   "execution_count": 90,
   "id": "3378e75d",
   "metadata": {
    "execution": {
     "iopub.execute_input": "2023-08-13T00:28:01.427966Z",
     "iopub.status.busy": "2023-08-13T00:28:01.427240Z",
     "iopub.status.idle": "2023-08-13T00:28:01.432079Z",
     "shell.execute_reply": "2023-08-13T00:28:01.430743Z"
    },
    "papermill": {
     "duration": 0.123587,
     "end_time": "2023-08-13T00:28:01.435023",
     "exception": false,
     "start_time": "2023-08-13T00:28:01.311436",
     "status": "completed"
    },
    "tags": []
   },
   "outputs": [],
   "source": [
    "# voc_2gram = get_vocab(rt_senti[\"reviewText\"], ngram_range=(2,2))\n",
    "# len(voc_2gram), voc_2gram[:10]"
   ]
  },
  {
   "cell_type": "code",
   "execution_count": 91,
   "id": "00abb6ee",
   "metadata": {
    "execution": {
     "iopub.execute_input": "2023-08-13T00:28:01.663964Z",
     "iopub.status.busy": "2023-08-13T00:28:01.663117Z",
     "iopub.status.idle": "2023-08-13T00:28:01.667709Z",
     "shell.execute_reply": "2023-08-13T00:28:01.666332Z"
    },
    "papermill": {
     "duration": 0.121067,
     "end_time": "2023-08-13T00:28:01.670484",
     "exception": false,
     "start_time": "2023-08-13T00:28:01.549417",
     "status": "completed"
    },
    "tags": []
   },
   "outputs": [],
   "source": [
    "# voc_3gram = get_vocab(rt_senti[\"reviewText\"], ngram_range=(3,3))\n",
    "# len(voc_3gram), voc_3gram[:10]"
   ]
  },
  {
   "cell_type": "code",
   "execution_count": 92,
   "id": "b49ebe69",
   "metadata": {
    "execution": {
     "iopub.execute_input": "2023-08-13T00:28:01.897721Z",
     "iopub.status.busy": "2023-08-13T00:28:01.897053Z",
     "iopub.status.idle": "2023-08-13T00:28:01.901488Z",
     "shell.execute_reply": "2023-08-13T00:28:01.900194Z"
    },
    "papermill": {
     "duration": 0.122585,
     "end_time": "2023-08-13T00:28:01.903782",
     "exception": false,
     "start_time": "2023-08-13T00:28:01.781197",
     "status": "completed"
    },
    "tags": []
   },
   "outputs": [],
   "source": [
    "# common_unigrams = get_common_vocab([rt_senti, rt_test], ngram_range_list=[(1,1)])\n",
    "# print(len(common_unigrams))\n",
    "# # sorted(list(common_unigrams))"
   ]
  },
  {
   "cell_type": "code",
   "execution_count": 93,
   "id": "f35c61a3",
   "metadata": {
    "execution": {
     "iopub.execute_input": "2023-08-13T00:28:02.197009Z",
     "iopub.status.busy": "2023-08-13T00:28:02.196607Z",
     "iopub.status.idle": "2023-08-13T00:28:02.201202Z",
     "shell.execute_reply": "2023-08-13T00:28:02.199885Z"
    },
    "papermill": {
     "duration": 0.186915,
     "end_time": "2023-08-13T00:28:02.203866",
     "exception": false,
     "start_time": "2023-08-13T00:28:02.016951",
     "status": "completed"
    },
    "tags": []
   },
   "outputs": [],
   "source": [
    "# common_bigrams = get_common_vocab([rt_senti, rt_test], ngram_range_list=[(2,2)])\n",
    "# print(len(common_bigrams))\n",
    "# # # common_bigrams"
   ]
  },
  {
   "cell_type": "code",
   "execution_count": 94,
   "id": "086df786",
   "metadata": {
    "execution": {
     "iopub.execute_input": "2023-08-13T00:28:02.424693Z",
     "iopub.status.busy": "2023-08-13T00:28:02.424278Z",
     "iopub.status.idle": "2023-08-13T00:28:02.430040Z",
     "shell.execute_reply": "2023-08-13T00:28:02.429119Z"
    },
    "papermill": {
     "duration": 0.119567,
     "end_time": "2023-08-13T00:28:02.432450",
     "exception": false,
     "start_time": "2023-08-13T00:28:02.312883",
     "status": "completed"
    },
    "tags": []
   },
   "outputs": [],
   "source": [
    "# common_1_2_grams = get_common_vocab([rt_senti, rt_test], ngram_range_list=[(1,1), (2,2)])\n",
    "# print(len(common_1_2_grams))\n",
    "# # sorted(list(common_1_2_grams))\n",
    "\n",
    "# # common_1_2_grams = common_unigrams | common_bigrams    # older code"
   ]
  },
  {
   "cell_type": "code",
   "execution_count": 95,
   "id": "a89512a2",
   "metadata": {
    "execution": {
     "iopub.execute_input": "2023-08-13T00:28:02.660900Z",
     "iopub.status.busy": "2023-08-13T00:28:02.660124Z",
     "iopub.status.idle": "2023-08-13T00:28:02.664944Z",
     "shell.execute_reply": "2023-08-13T00:28:02.664018Z"
    },
    "papermill": {
     "duration": 0.119379,
     "end_time": "2023-08-13T00:28:02.667177",
     "exception": false,
     "start_time": "2023-08-13T00:28:02.547798",
     "status": "completed"
    },
    "tags": []
   },
   "outputs": [],
   "source": [
    "# common_trigrams = get_common_vocab([rt_senti, rt_test], ngram_range_list=[(3,3)])\n",
    "# print(len(common_trigrams))\n",
    "# # common_trigrams"
   ]
  },
  {
   "cell_type": "code",
   "execution_count": 96,
   "id": "11f4053f",
   "metadata": {
    "execution": {
     "iopub.execute_input": "2023-08-13T00:28:02.889186Z",
     "iopub.status.busy": "2023-08-13T00:28:02.888503Z",
     "iopub.status.idle": "2023-08-13T00:28:02.893137Z",
     "shell.execute_reply": "2023-08-13T00:28:02.892407Z"
    },
    "papermill": {
     "duration": 0.117545,
     "end_time": "2023-08-13T00:28:02.895187",
     "exception": false,
     "start_time": "2023-08-13T00:28:02.777642",
     "status": "completed"
    },
    "tags": []
   },
   "outputs": [],
   "source": [
    "# common_1_2_3_grams = get_common_vocab([rt_senti, rt_test], ngram_range_list=[(1,1), (2,2), (3,3)])\n",
    "# print(len(common_1_2_3_grams))\n",
    "# # sorted((common_1_2_3_grams))\n",
    "\n",
    "# # common_1_2_3_grams = common_unigrams | common_bigrams | common_trigrams    # Older code  "
   ]
  },
  {
   "cell_type": "markdown",
   "id": "f6d57571",
   "metadata": {
    "papermill": {
     "duration": 0.114197,
     "end_time": "2023-08-13T00:28:03.121214",
     "exception": false,
     "start_time": "2023-08-13T00:28:03.007017",
     "status": "completed"
    },
    "tags": []
   },
   "source": [
    "### Find common vocabulary between text with positive and negative sentiments in training dataset  "
   ]
  },
  {
   "cell_type": "code",
   "execution_count": 97,
   "id": "ab36159a",
   "metadata": {
    "execution": {
     "iopub.execute_input": "2023-08-13T00:28:03.348186Z",
     "iopub.status.busy": "2023-08-13T00:28:03.347818Z",
     "iopub.status.idle": "2023-08-13T00:28:03.397851Z",
     "shell.execute_reply": "2023-08-13T00:28:03.396199Z"
    },
    "papermill": {
     "duration": 0.164339,
     "end_time": "2023-08-13T00:28:03.400241",
     "exception": false,
     "start_time": "2023-08-13T00:28:03.235902",
     "status": "completed"
    },
    "tags": []
   },
   "outputs": [
    {
     "data": {
      "text/plain": [
       "(108761, 2)"
      ]
     },
     "execution_count": 97,
     "metadata": {},
     "output_type": "execute_result"
    }
   ],
   "source": [
    "# Dataframe for positive sentiment\n",
    "rt_senti_pos = rt_senti.loc[rt_senti['sentiment'] == 'POSITIVE'].copy()\n",
    "rt_senti_pos.shape"
   ]
  },
  {
   "cell_type": "code",
   "execution_count": 98,
   "id": "e595a229",
   "metadata": {
    "execution": {
     "iopub.execute_input": "2023-08-13T00:28:03.625498Z",
     "iopub.status.busy": "2023-08-13T00:28:03.625063Z",
     "iopub.status.idle": "2023-08-13T00:28:03.670543Z",
     "shell.execute_reply": "2023-08-13T00:28:03.669260Z"
    },
    "papermill": {
     "duration": 0.159788,
     "end_time": "2023-08-13T00:28:03.672858",
     "exception": false,
     "start_time": "2023-08-13T00:28:03.513070",
     "status": "completed"
    },
    "tags": []
   },
   "outputs": [
    {
     "data": {
      "text/plain": [
       "(53997, 2)"
      ]
     },
     "execution_count": 98,
     "metadata": {},
     "output_type": "execute_result"
    }
   ],
   "source": [
    "# Dataframe for negative sentiment\n",
    "rt_senti_neg = rt_senti.loc[rt_senti['sentiment'] == 'NEGATIVE'].copy()\n",
    "rt_senti_neg.shape"
   ]
  },
  {
   "cell_type": "code",
   "execution_count": 99,
   "id": "513a827f",
   "metadata": {
    "execution": {
     "iopub.execute_input": "2023-08-13T00:28:03.894752Z",
     "iopub.status.busy": "2023-08-13T00:28:03.894351Z",
     "iopub.status.idle": "2023-08-13T00:28:03.899108Z",
     "shell.execute_reply": "2023-08-13T00:28:03.897955Z"
    },
    "papermill": {
     "duration": 0.119532,
     "end_time": "2023-08-13T00:28:03.902072",
     "exception": false,
     "start_time": "2023-08-13T00:28:03.782540",
     "status": "completed"
    },
    "tags": []
   },
   "outputs": [],
   "source": [
    "# Generate stop words/phrases specific for this project data  \n",
    "\n",
    "# common_1_2_3_grams_sentiment = get_common_vocab([rt_senti_pos, rt_senti_neg], ngram_range_list=[(1,1), (2,2), (3,3)])\n",
    "# print(len(common_1_2_3_grams_sentiment))\n",
    "# # sorted(list(common_1_2_3_grams_sentiment))"
   ]
  },
  {
   "cell_type": "code",
   "execution_count": 100,
   "id": "8faf4bd4",
   "metadata": {
    "execution": {
     "iopub.execute_input": "2023-08-13T00:28:04.130506Z",
     "iopub.status.busy": "2023-08-13T00:28:04.129973Z",
     "iopub.status.idle": "2023-08-13T00:28:04.135860Z",
     "shell.execute_reply": "2023-08-13T00:28:04.134511Z"
    },
    "papermill": {
     "duration": 0.12314,
     "end_time": "2023-08-13T00:28:04.138340",
     "exception": false,
     "start_time": "2023-08-13T00:28:04.015200",
     "status": "completed"
    },
    "tags": []
   },
   "outputs": [],
   "source": [
    "# Generate and store the entire vocabulary of training data  \n",
    "\n",
    "# train_1_2_3_grams = get_vocab(rt_senti['reviewText'], ngram_range=(1,3))\n",
    "# print(len(train_1_2_3_grams))\n",
    "# # sorted(train_1_2_3_grams)"
   ]
  },
  {
   "cell_type": "code",
   "execution_count": 101,
   "id": "e52387c2",
   "metadata": {
    "execution": {
     "iopub.execute_input": "2023-08-13T00:28:04.359732Z",
     "iopub.status.busy": "2023-08-13T00:28:04.359277Z",
     "iopub.status.idle": "2023-08-13T00:28:04.363925Z",
     "shell.execute_reply": "2023-08-13T00:28:04.362719Z"
    },
    "papermill": {
     "duration": 0.11788,
     "end_time": "2023-08-13T00:28:04.366338",
     "exception": false,
     "start_time": "2023-08-13T00:28:04.248458",
     "status": "completed"
    },
    "tags": []
   },
   "outputs": [],
   "source": [
    "# type(train_1_2_3_grams)"
   ]
  },
  {
   "cell_type": "code",
   "execution_count": 102,
   "id": "493a3679",
   "metadata": {
    "execution": {
     "iopub.execute_input": "2023-08-13T00:28:04.595031Z",
     "iopub.status.busy": "2023-08-13T00:28:04.594653Z",
     "iopub.status.idle": "2023-08-13T00:28:04.599174Z",
     "shell.execute_reply": "2023-08-13T00:28:04.597946Z"
    },
    "papermill": {
     "duration": 0.121311,
     "end_time": "2023-08-13T00:28:04.602139",
     "exception": false,
     "start_time": "2023-08-13T00:28:04.480828",
     "status": "completed"
    },
    "tags": []
   },
   "outputs": [],
   "source": [
    "# Get the vocabulary that should be used in the final models  \n",
    "# relevant_vocab = train_1_2_3_grams - common_1_2_3_grams_sentiment\n",
    "# print(len(relevant_vocab))"
   ]
  },
  {
   "cell_type": "markdown",
   "id": "119180d3",
   "metadata": {
    "papermill": {
     "duration": 0.11478,
     "end_time": "2023-08-13T00:28:04.829027",
     "exception": false,
     "start_time": "2023-08-13T00:28:04.714247",
     "status": "completed"
    },
    "tags": []
   },
   "source": [
    "## Vocabulary based on audienceScore  "
   ]
  },
  {
   "cell_type": "code",
   "execution_count": 103,
   "id": "34207081",
   "metadata": {
    "execution": {
     "iopub.execute_input": "2023-08-13T00:28:05.058130Z",
     "iopub.status.busy": "2023-08-13T00:28:05.057362Z",
     "iopub.status.idle": "2023-08-13T00:28:05.457915Z",
     "shell.execute_reply": "2023-08-13T00:28:05.456617Z"
    },
    "papermill": {
     "duration": 0.518821,
     "end_time": "2023-08-13T00:28:05.460399",
     "exception": false,
     "start_time": "2023-08-13T00:28:04.941578",
     "status": "completed"
    },
    "tags": []
   },
   "outputs": [
    {
     "data": {
      "text/plain": [
       "<Axes: xlabel='sentiment', ylabel='audienceScore'>"
      ]
     },
     "execution_count": 103,
     "metadata": {},
     "output_type": "execute_result"
    },
    {
     "data": {
      "image/png": "[encoded data removed]",
      "text/plain": [
       "<Figure size 640x480 with 1 Axes>"
      ]
     },
     "metadata": {},
     "output_type": "display_data"
    }
   ],
   "source": [
    "sns.boxplot(y=merged[\"audienceScore\"], x=merged[\"sentiment\"])"
   ]
  },
  {
   "cell_type": "code",
   "execution_count": 104,
   "id": "41cd3368",
   "metadata": {
    "execution": {
     "iopub.execute_input": "2023-08-13T00:28:05.687058Z",
     "iopub.status.busy": "2023-08-13T00:28:05.686648Z",
     "iopub.status.idle": "2023-08-13T00:28:05.744273Z",
     "shell.execute_reply": "2023-08-13T00:28:05.742317Z"
    },
    "papermill": {
     "duration": 0.174198,
     "end_time": "2023-08-13T00:28:05.747568",
     "exception": false,
     "start_time": "2023-08-13T00:28:05.573370",
     "status": "completed"
    },
    "tags": []
   },
   "outputs": [
    {
     "data": {
      "text/html": [
       "<div>\n",
       "<style scoped>\n",
       "    .dataframe tbody tr th:only-of-type {\n",
       "        vertical-align: middle;\n",
       "    }\n",
       "\n",
       "    .dataframe tbody tr th {\n",
       "        vertical-align: top;\n",
       "    }\n",
       "\n",
       "    .dataframe thead th {\n",
       "        text-align: right;\n",
       "    }\n",
       "</style>\n",
       "<table border=\"1\" class=\"dataframe\">\n",
       "  <thead>\n",
       "    <tr style=\"text-align: right;\">\n",
       "      <th></th>\n",
       "      <th>count</th>\n",
       "      <th>mean</th>\n",
       "      <th>std</th>\n",
       "      <th>min</th>\n",
       "      <th>25%</th>\n",
       "      <th>50%</th>\n",
       "      <th>75%</th>\n",
       "      <th>max</th>\n",
       "    </tr>\n",
       "    <tr>\n",
       "      <th>sentiment</th>\n",
       "      <th></th>\n",
       "      <th></th>\n",
       "      <th></th>\n",
       "      <th></th>\n",
       "      <th></th>\n",
       "      <th></th>\n",
       "      <th></th>\n",
       "      <th></th>\n",
       "    </tr>\n",
       "  </thead>\n",
       "  <tbody>\n",
       "    <tr>\n",
       "      <th>NEGATIVE</th>\n",
       "      <td>53997.0</td>\n",
       "      <td>56.474786</td>\n",
       "      <td>19.902115</td>\n",
       "      <td>0.0</td>\n",
       "      <td>41.0</td>\n",
       "      <td>57.0</td>\n",
       "      <td>72.0</td>\n",
       "      <td>100.0</td>\n",
       "    </tr>\n",
       "    <tr>\n",
       "      <th>POSITIVE</th>\n",
       "      <td>108761.0</td>\n",
       "      <td>69.326174</td>\n",
       "      <td>18.380626</td>\n",
       "      <td>0.0</td>\n",
       "      <td>58.0</td>\n",
       "      <td>73.0</td>\n",
       "      <td>84.0</td>\n",
       "      <td>100.0</td>\n",
       "    </tr>\n",
       "  </tbody>\n",
       "</table>\n",
       "</div>"
      ],
      "text/plain": [
       "              count       mean        std  min   25%   50%   75%    max\n",
       "sentiment                                                              \n",
       "NEGATIVE    53997.0  56.474786  19.902115  0.0  41.0  57.0  72.0  100.0\n",
       "POSITIVE   108761.0  69.326174  18.380626  0.0  58.0  73.0  84.0  100.0"
      ]
     },
     "execution_count": 104,
     "metadata": {},
     "output_type": "execute_result"
    }
   ],
   "source": [
    "merged.groupby('sentiment')['audienceScore'].describe()"
   ]
  },
  {
   "cell_type": "code",
   "execution_count": 105,
   "id": "f91941d4",
   "metadata": {
    "execution": {
     "iopub.execute_input": "2023-08-13T00:28:05.979888Z",
     "iopub.status.busy": "2023-08-13T00:28:05.979445Z",
     "iopub.status.idle": "2023-08-13T00:28:05.985349Z",
     "shell.execute_reply": "2023-08-13T00:28:05.983694Z"
    },
    "papermill": {
     "duration": 0.126138,
     "end_time": "2023-08-13T00:28:05.987739",
     "exception": false,
     "start_time": "2023-08-13T00:28:05.861601",
     "status": "completed"
    },
    "tags": []
   },
   "outputs": [],
   "source": [
    "# pos_scores = merged[['reviewText', 'sentiment']].loc[(merged['audienceScore'] > 73) & (merged['sentiment'] == 'POSITIVE')].copy()\n",
    "# pos_scores.shape, pos_scores.head()"
   ]
  },
  {
   "cell_type": "code",
   "execution_count": 106,
   "id": "83a2548f",
   "metadata": {
    "execution": {
     "iopub.execute_input": "2023-08-13T00:28:06.218810Z",
     "iopub.status.busy": "2023-08-13T00:28:06.218394Z",
     "iopub.status.idle": "2023-08-13T00:28:06.222423Z",
     "shell.execute_reply": "2023-08-13T00:28:06.221604Z"
    },
    "papermill": {
     "duration": 0.12203,
     "end_time": "2023-08-13T00:28:06.224331",
     "exception": false,
     "start_time": "2023-08-13T00:28:06.102301",
     "status": "completed"
    },
    "tags": []
   },
   "outputs": [],
   "source": [
    "# pos_scores['sentiment'].value_counts()"
   ]
  },
  {
   "cell_type": "code",
   "execution_count": 107,
   "id": "718b7ec5",
   "metadata": {
    "execution": {
     "iopub.execute_input": "2023-08-13T00:28:06.452445Z",
     "iopub.status.busy": "2023-08-13T00:28:06.451740Z",
     "iopub.status.idle": "2023-08-13T00:28:06.456166Z",
     "shell.execute_reply": "2023-08-13T00:28:06.455352Z"
    },
    "papermill": {
     "duration": 0.120496,
     "end_time": "2023-08-13T00:28:06.458493",
     "exception": false,
     "start_time": "2023-08-13T00:28:06.337997",
     "status": "completed"
    },
    "tags": []
   },
   "outputs": [],
   "source": [
    "# neg_scores = merged[['reviewText', 'sentiment']].loc[(merged['audienceScore'] < 57) & (merged['sentiment'] == 'NEGATIVE')].copy()\n",
    "# neg_scores.shape, neg_scores.head()"
   ]
  },
  {
   "cell_type": "code",
   "execution_count": 108,
   "id": "b3a4d1c3",
   "metadata": {
    "execution": {
     "iopub.execute_input": "2023-08-13T00:28:06.693560Z",
     "iopub.status.busy": "2023-08-13T00:28:06.692235Z",
     "iopub.status.idle": "2023-08-13T00:28:06.698300Z",
     "shell.execute_reply": "2023-08-13T00:28:06.697146Z"
    },
    "papermill": {
     "duration": 0.125085,
     "end_time": "2023-08-13T00:28:06.700915",
     "exception": false,
     "start_time": "2023-08-13T00:28:06.575830",
     "status": "completed"
    },
    "tags": []
   },
   "outputs": [],
   "source": [
    "# neg_scores['sentiment'].value_counts()"
   ]
  },
  {
   "cell_type": "code",
   "execution_count": 109,
   "id": "bcac1a63",
   "metadata": {
    "execution": {
     "iopub.execute_input": "2023-08-13T00:28:06.934842Z",
     "iopub.status.busy": "2023-08-13T00:28:06.934405Z",
     "iopub.status.idle": "2023-08-13T00:28:06.939070Z",
     "shell.execute_reply": "2023-08-13T00:28:06.938011Z"
    },
    "papermill": {
     "duration": 0.125072,
     "end_time": "2023-08-13T00:28:06.941641",
     "exception": false,
     "start_time": "2023-08-13T00:28:06.816569",
     "status": "completed"
    },
    "tags": []
   },
   "outputs": [],
   "source": [
    "# common_pos_neg_scores = get_common_vocab([pos_scores, neg_scores], ngram_range_list=[(1,1), (2,2), (3,3)])\n",
    "# print(len(common_pos_neg_scores))\n",
    "# # sorted(list(common_pos_neg_scores))"
   ]
  },
  {
   "cell_type": "code",
   "execution_count": 110,
   "id": "2b70b75a",
   "metadata": {
    "execution": {
     "iopub.execute_input": "2023-08-13T00:28:07.175366Z",
     "iopub.status.busy": "2023-08-13T00:28:07.174936Z",
     "iopub.status.idle": "2023-08-13T00:28:07.179608Z",
     "shell.execute_reply": "2023-08-13T00:28:07.178482Z"
    },
    "papermill": {
     "duration": 0.124182,
     "end_time": "2023-08-13T00:28:07.182747",
     "exception": false,
     "start_time": "2023-08-13T00:28:07.058565",
     "status": "completed"
    },
    "tags": []
   },
   "outputs": [],
   "source": [
    "# pos_vocab = get_common_vocab([pos_scores, pos_scores], ngram_range_list=[(1,1), (2,2), (3,3)])\n",
    "# print(len(pos_vocab))\n",
    "# # sorted(list(pos_vocab))"
   ]
  },
  {
   "cell_type": "code",
   "execution_count": 111,
   "id": "70202b66",
   "metadata": {
    "execution": {
     "iopub.execute_input": "2023-08-13T00:28:07.416490Z",
     "iopub.status.busy": "2023-08-13T00:28:07.415997Z",
     "iopub.status.idle": "2023-08-13T00:28:07.421677Z",
     "shell.execute_reply": "2023-08-13T00:28:07.420504Z"
    },
    "papermill": {
     "duration": 0.125061,
     "end_time": "2023-08-13T00:28:07.424365",
     "exception": false,
     "start_time": "2023-08-13T00:28:07.299304",
     "status": "completed"
    },
    "tags": []
   },
   "outputs": [],
   "source": [
    "# print(len(get_vocab(pos_scores['reviewText'], ngram_range=(1,1))))\n",
    "# print(len(get_vocab(pos_scores['reviewText'], ngram_range=(2,2))))\n",
    "# print(len(get_vocab(pos_scores['reviewText'], ngram_range=(3,3))))"
   ]
  },
  {
   "cell_type": "code",
   "execution_count": 112,
   "id": "bf313848",
   "metadata": {
    "execution": {
     "iopub.execute_input": "2023-08-13T00:28:07.656182Z",
     "iopub.status.busy": "2023-08-13T00:28:07.655816Z",
     "iopub.status.idle": "2023-08-13T00:28:07.660181Z",
     "shell.execute_reply": "2023-08-13T00:28:07.659148Z"
    },
    "papermill": {
     "duration": 0.125446,
     "end_time": "2023-08-13T00:28:07.662209",
     "exception": false,
     "start_time": "2023-08-13T00:28:07.536763",
     "status": "completed"
    },
    "tags": []
   },
   "outputs": [],
   "source": [
    "# neg_vocab = get_common_vocab([neg_scores, neg_scores], ngram_range_list=[(1,1), (2,2), (3,3)])\n",
    "# print(len(neg_vocab))\n",
    "# # sorted(list(neg_vocab))"
   ]
  },
  {
   "cell_type": "code",
   "execution_count": 113,
   "id": "04dc8926",
   "metadata": {
    "execution": {
     "iopub.execute_input": "2023-08-13T00:28:07.959257Z",
     "iopub.status.busy": "2023-08-13T00:28:07.958867Z",
     "iopub.status.idle": "2023-08-13T00:28:07.963342Z",
     "shell.execute_reply": "2023-08-13T00:28:07.962234Z"
    },
    "papermill": {
     "duration": 0.119233,
     "end_time": "2023-08-13T00:28:07.965488",
     "exception": false,
     "start_time": "2023-08-13T00:28:07.846255",
     "status": "completed"
    },
    "tags": []
   },
   "outputs": [],
   "source": [
    "# print(len(get_vocab(neg_scores['reviewText'], ngram_range=(1,1))))\n",
    "# print(len(get_vocab(neg_scores['reviewText'], ngram_range=(2,2))))\n",
    "# print(len(get_vocab(neg_scores['reviewText'], ngram_range=(3,3))))"
   ]
  },
  {
   "cell_type": "code",
   "execution_count": 114,
   "id": "a338e57b",
   "metadata": {
    "execution": {
     "iopub.execute_input": "2023-08-13T00:28:08.203860Z",
     "iopub.status.busy": "2023-08-13T00:28:08.203435Z",
     "iopub.status.idle": "2023-08-13T00:28:08.208936Z",
     "shell.execute_reply": "2023-08-13T00:28:08.207647Z"
    },
    "papermill": {
     "duration": 0.126962,
     "end_time": "2023-08-13T00:28:08.211397",
     "exception": false,
     "start_time": "2023-08-13T00:28:08.084435",
     "status": "completed"
    },
    "tags": []
   },
   "outputs": [],
   "source": [
    "# len(pos_vocab), len(neg_vocab), len(pos_vocab - neg_vocab), len(neg_vocab - pos_vocab), len(pos_vocab & neg_vocab)"
   ]
  },
  {
   "cell_type": "markdown",
   "id": "3eec6eeb",
   "metadata": {
    "papermill": {
     "duration": 0.114406,
     "end_time": "2023-08-13T00:28:08.443254",
     "exception": false,
     "start_time": "2023-08-13T00:28:08.328848",
     "status": "completed"
    },
    "tags": []
   },
   "source": [
    "### Common pos, neg vocabs among train and test  "
   ]
  },
  {
   "cell_type": "code",
   "execution_count": 115,
   "id": "070067a0",
   "metadata": {
    "execution": {
     "iopub.execute_input": "2023-08-13T00:28:08.676099Z",
     "iopub.status.busy": "2023-08-13T00:28:08.675682Z",
     "iopub.status.idle": "2023-08-13T00:28:08.680148Z",
     "shell.execute_reply": "2023-08-13T00:28:08.679040Z"
    },
    "papermill": {
     "duration": 0.122302,
     "end_time": "2023-08-13T00:28:08.682549",
     "exception": false,
     "start_time": "2023-08-13T00:28:08.560247",
     "status": "completed"
    },
    "tags": []
   },
   "outputs": [],
   "source": [
    "# len(common_1_2_3_grams & (pos_vocab - neg_vocab))"
   ]
  },
  {
   "cell_type": "code",
   "execution_count": 116,
   "id": "ef0da1eb",
   "metadata": {
    "execution": {
     "iopub.execute_input": "2023-08-13T00:28:08.936004Z",
     "iopub.status.busy": "2023-08-13T00:28:08.935577Z",
     "iopub.status.idle": "2023-08-13T00:28:08.940918Z",
     "shell.execute_reply": "2023-08-13T00:28:08.939443Z"
    },
    "papermill": {
     "duration": 0.125637,
     "end_time": "2023-08-13T00:28:08.943716",
     "exception": false,
     "start_time": "2023-08-13T00:28:08.818079",
     "status": "completed"
    },
    "tags": []
   },
   "outputs": [],
   "source": [
    "# len(common_1_2_3_grams & (neg_vocab - pos_vocab))"
   ]
  },
  {
   "cell_type": "code",
   "execution_count": 117,
   "id": "30943366",
   "metadata": {
    "execution": {
     "iopub.execute_input": "2023-08-13T00:28:09.178474Z",
     "iopub.status.busy": "2023-08-13T00:28:09.178103Z",
     "iopub.status.idle": "2023-08-13T00:28:09.187579Z",
     "shell.execute_reply": "2023-08-13T00:28:09.186698Z"
    },
    "papermill": {
     "duration": 0.128137,
     "end_time": "2023-08-13T00:28:09.189637",
     "exception": false,
     "start_time": "2023-08-13T00:28:09.061500",
     "status": "completed"
    },
    "tags": []
   },
   "outputs": [],
   "source": [
    "def audienceScore_vocab(df_list, scores=(57, 73), ngram_range_list=[(1,1), (2,2), (3,3)]):\n",
    "    train = df_list[0]\n",
    "    test = df_list[1]\n",
    "\n",
    "    lower_bound = scores[0]\n",
    "    upper_bound = scores[1]\n",
    "\n",
    "    common_1_2_3_grams = get_common_vocab([train, test], ngram_range_list=[(1,1), (2,2), (3,3)])\n",
    "\n",
    "    pos_scores = train[['reviewText', 'sentiment']].loc[(train['audienceScore'] > upper_bound) & (train['sentiment'] == 'POSITIVE')].copy()\n",
    "    neg_scores = train[['reviewText', 'sentiment']].loc[(train['audienceScore'] < lower_bound) & (train['sentiment'] == 'NEGATIVE')].copy()\n",
    "\n",
    "    pos_vocab = get_common_vocab([pos_scores, pos_scores], ngram_range_list=[(1,1), (2,2), (3,3)])\n",
    "    neg_vocab = get_common_vocab([neg_scores, neg_scores], ngram_range_list=[(1,1), (2,2), (3,3)])\n",
    "\n",
    "    pure_common_pos = common_1_2_3_grams & (pos_vocab - neg_vocab)\n",
    "    pure_common_neg = common_1_2_3_grams & (neg_vocab - pos_vocab)\n",
    "\n",
    "    return pure_common_pos, pure_common_neg"
   ]
  },
  {
   "cell_type": "code",
   "execution_count": 118,
   "id": "9e971aae",
   "metadata": {
    "execution": {
     "iopub.execute_input": "2023-08-13T00:28:09.418690Z",
     "iopub.status.busy": "2023-08-13T00:28:09.417980Z",
     "iopub.status.idle": "2023-08-13T00:28:09.422096Z",
     "shell.execute_reply": "2023-08-13T00:28:09.421029Z"
    },
    "papermill": {
     "duration": 0.121477,
     "end_time": "2023-08-13T00:28:09.424347",
     "exception": false,
     "start_time": "2023-08-13T00:28:09.302870",
     "status": "completed"
    },
    "tags": []
   },
   "outputs": [],
   "source": [
    "# pcp, pcn = audienceScore_vocab([merged, merged_test])\n",
    "# len(pcp), len(pcn)"
   ]
  },
  {
   "cell_type": "code",
   "execution_count": 119,
   "id": "f3af9d45",
   "metadata": {
    "execution": {
     "iopub.execute_input": "2023-08-13T00:28:09.655800Z",
     "iopub.status.busy": "2023-08-13T00:28:09.654870Z",
     "iopub.status.idle": "2023-08-13T00:28:09.660341Z",
     "shell.execute_reply": "2023-08-13T00:28:09.659052Z"
    },
    "papermill": {
     "duration": 0.122311,
     "end_time": "2023-08-13T00:28:09.662609",
     "exception": false,
     "start_time": "2023-08-13T00:28:09.540298",
     "status": "completed"
    },
    "tags": []
   },
   "outputs": [],
   "source": [
    "# pc = pcp | pcn\n",
    "# sorted(list(pc))"
   ]
  },
  {
   "cell_type": "markdown",
   "id": "753e4e23",
   "metadata": {
    "papermill": {
     "duration": 0.111099,
     "end_time": "2023-08-13T00:28:09.886741",
     "exception": false,
     "start_time": "2023-08-13T00:28:09.775642",
     "status": "completed"
    },
    "tags": []
   },
   "source": [
    "# Submit_v5 for merged file models  "
   ]
  },
  {
   "cell_type": "markdown",
   "id": "74cbd261",
   "metadata": {
    "papermill": {
     "duration": 0.110895,
     "end_time": "2023-08-13T00:28:10.111185",
     "exception": false,
     "start_time": "2023-08-13T00:28:10.000290",
     "status": "completed"
    },
    "tags": []
   },
   "source": [
    "### More Helper functions  "
   ]
  },
  {
   "cell_type": "code",
   "execution_count": 120,
   "id": "8dae9098",
   "metadata": {
    "execution": {
     "iopub.execute_input": "2023-08-13T00:28:10.336607Z",
     "iopub.status.busy": "2023-08-13T00:28:10.335747Z",
     "iopub.status.idle": "2023-08-13T00:28:10.344722Z",
     "shell.execute_reply": "2023-08-13T00:28:10.343552Z"
    },
    "papermill": {
     "duration": 0.124572,
     "end_time": "2023-08-13T00:28:10.347148",
     "exception": false,
     "start_time": "2023-08-13T00:28:10.222576",
     "status": "completed"
    },
    "tags": []
   },
   "outputs": [],
   "source": [
    "# Testing predictions on missing reviewtext columns  \n",
    "\n",
    "def predict_on_missing_review_data(pipe, selected_features, merged_train):\n",
    "    missing_reviews_train = merged_train.loc[merged_train['reviewYN'] == 1]\n",
    "    missing_reviews_train.reset_index(drop=True)\n",
    "    X_train_miss_revs = missing_reviews_train.drop('sentiment', axis = 1)\n",
    "    X_train_miss_revs = X_train_miss_revs[selected_features]\n",
    "    y_train_miss_revs = missing_reviews_train['sentiment']\n",
    "    \n",
    "    y_pred_miss_revs = pipe.predict(X_train_miss_revs)\n",
    "#     print('Predictions on rows which had missing reviewText')\n",
    "    print(\"Confusion matrix and f1-score for rows which have no reviewText in X_train: \")\n",
    "    print(confusion_matrix(y_train_miss_revs, y_pred_miss_revs, labels=pipe.classes_))\n",
    "    \n",
    "    return f1_score(y_train_miss_revs, y_pred_miss_revs, average='micro')"
   ]
  },
  {
   "cell_type": "code",
   "execution_count": 121,
   "id": "7a4e24ed",
   "metadata": {
    "execution": {
     "iopub.execute_input": "2023-08-13T00:28:10.575438Z",
     "iopub.status.busy": "2023-08-13T00:28:10.574799Z",
     "iopub.status.idle": "2023-08-13T00:28:10.808749Z",
     "shell.execute_reply": "2023-08-13T00:28:10.807513Z"
    },
    "papermill": {
     "duration": 0.354214,
     "end_time": "2023-08-13T00:28:10.812348",
     "exception": false,
     "start_time": "2023-08-13T00:28:10.458134",
     "status": "completed"
    },
    "tags": []
   },
   "outputs": [],
   "source": [
    "# Function to build pipelines for GridSearchCV which goes into the final 'submit' function  \n",
    "def build_pipeline(selected_model=LogisticRegression(), \n",
    "                   selected_features={'txt': ['reviewText']}, \n",
    "                   param_grid=None,\n",
    "                   vocab=None,\n",
    "                   vocab_usage='tfidf',\n",
    "                   strip_accents='unicode', \n",
    "                   add_countvec=False,\n",
    "                   vocab_audscore=None,\n",
    "                  poly=True):\n",
    "    # Encoders  \n",
    "    ohe = OneHotEncoder(sparse_output=False, handle_unknown='ignore')\n",
    "    MMscaler = MinMaxScaler()\n",
    "    StdScaler = StandardScaler()\n",
    "    RobScaler = RobustScaler()\n",
    "    \n",
    "    # Categorical features\n",
    "    cat_pipe = Pipeline(steps=[\n",
    "                            (\"ohe\", ohe),\n",
    "                        ])\n",
    "    \n",
    "    # Numerical features\n",
    "    num_pipe = Pipeline(steps=[\n",
    "                            (\"robscaler\", RobustScaler()),\n",
    "                            (\"stdscaler\", StandardScaler())\n",
    "                        ])\n",
    "    num_pipe_poly = Pipeline(steps=[\n",
    "                            (\"robscaler\", RobustScaler()),\n",
    "                            (\"stdscaler\", StandardScaler()),\n",
    "                            (\"poly\", PolynomialFeatures(degree=2))\n",
    "                        ])\n",
    "    \n",
    "    # Text features ['reviewText', 'reviewerName', 'movieid', 'genre', 'director']\n",
    "    tfidf_vec = TfidfVectorizer(ngram_range=(1,2))\n",
    "    count_vec = CountVectorizer(ngram_range=(1,2))\n",
    "    txt_pipe = Pipeline(steps=[\n",
    "                            (\"tvec\", TfidfVectorizer(ngram_range=(1,3), strip_accents=strip_accents))    # Adjust ngram_range here for reviewText\n",
    "                        ])\n",
    "    txt_pipe_vocab = Pipeline(steps=[\n",
    "                            (\"tvec\", TfidfVectorizer(ngram_range=(1,3), strip_accents=strip_accents, vocabulary=vocab))    # Adjust ngram_range here for reviewText\n",
    "                        ])\n",
    "    txt_pipe_2 = Pipeline(steps=[\n",
    "                            (\"tvec\", TfidfVectorizer(ngram_range=(2,2)))\n",
    "                        ])\n",
    "    txt_pipe_3 = Pipeline(steps=[\n",
    "                            (\"tvec\", TfidfVectorizer(ngram_range=(1,1)))\n",
    "                        ])\n",
    "    txt_pipe_4 = Pipeline(steps=[\n",
    "                            (\"tvec\", TfidfVectorizer(ngram_range=(1,3)))    # Adjust ngram_range here for reviewText\n",
    "                        ])\n",
    "    txt_pipe_title  = Pipeline(steps=[\n",
    "                            (\"tvec\", TfidfVectorizer(ngram_range=(1,5)))    # Adjust ngram_range here for reviewText\n",
    "                        ])\n",
    "    \n",
    "    # Additional pipes for count vectorizer\n",
    "    txt_pipe_countvec = Pipeline(steps=[\n",
    "                            (\"cvec\", CountVectorizer(ngram_range=(1,3), strip_accents=strip_accents))    # Adjust ngram_range here for reviewText\n",
    "                        ])\n",
    "    txt_pipe_countvec_vocab = Pipeline(steps=[\n",
    "                            (\"cvec\", CountVectorizer(ngram_range=(1,3), strip_accents=strip_accents, vocabulary=vocab))    # Adjust ngram_range here for reviewText\n",
    "                        ])\n",
    "    txt_pipe_countvec_vocab_audscore = Pipeline(steps=[\n",
    "                            (\"cvec\", CountVectorizer(ngram_range=(1,3), strip_accents=strip_accents, vocabulary=vocab_audscore))    # Adjust ngram_range here for reviewText\n",
    "                        ])\n",
    "    \n",
    "    txt_pipe_countvec_ratingContents = Pipeline(steps=[\n",
    "                            (\"cvec\", CountVectorizer(ngram_range=(1,5)))    # Adjust ngram_range here for reviewText\n",
    "                        ])\n",
    "    txt_pipe_countvec_rcSorted = Pipeline(steps=[\n",
    "                            (\"cvec\", CountVectorizer(ngram_range=(1,1)))    # Adjust ngram_range here for reviewText\n",
    "                        ])\n",
    "    txt_pipe_countvec_genre = Pipeline(steps=[\n",
    "                            (\"cvec\", CountVectorizer(ngram_range=(1,1)))\n",
    "                        ])\n",
    "    txt_pipe_countvec_genreSorted = Pipeline(steps=[\n",
    "                            (\"cvec\", CountVectorizer(ngram_range=(1,5)))\n",
    "                        ])\n",
    "    txt_pipe_countvec_distributor = Pipeline(steps=[\n",
    "                            (\"cvec\", CountVectorizer(ngram_range=(1,3)))    # Adjust ngram_range here for reviewText\n",
    "                        ])\n",
    "    txt_pipe_countvec_title = Pipeline(steps=[\n",
    "                            (\"cvec\", CountVectorizer(ngram_range=(1,5), strip_accents=strip_accents))\n",
    "                        ])\n",
    "    txt_pipe_countvec_movieid = Pipeline(steps=[\n",
    "                            (\"cvec\", CountVectorizer(ngram_range=(1,1)))\n",
    "                        ])\n",
    "    # Basic pipes  \n",
    "    TFs = []\n",
    "    try:\n",
    "        TFs.append((f\"cat\", ohe, selected_features['cat']))\n",
    "#         for c in selected_features['cat']:\n",
    "#             TFs.append((f\"cat_{c}\", ohe, [c]))\n",
    "    except:\n",
    "        pass\n",
    "    \n",
    "    try:\n",
    "        if poly:\n",
    "            TFs.append((f\"num\", num_pipe_poly, selected_features['num']))\n",
    "        else:\n",
    "            TFs.append((f\"num\", num_pipe, selected_features['num']))\n",
    "#             for n in selected_features['num']:\n",
    "#                 if n in [\"runtimeMinutes\", \"boxOffice\", \"releaseDiff\"]:\n",
    "#                     TFs.append((f\"num_{n}\", RobScaler, [n]))\n",
    "#                     TFs.append((f\"num_{n}_ss\", StdScaler, [n]))\n",
    "\n",
    "#                 else:\n",
    "#                     TFs.append((f\"num_{n}\", StdScaler, [n]))\n",
    "    except:\n",
    "        pass\n",
    "    \n",
    "    try:\n",
    "        for t in selected_features['txt']:\n",
    "            if t in ['director', 'reviewerName']:\n",
    "                TFs.append((f\"txt_{t}\", txt_pipe_2, t))\n",
    "            elif t in [\"originalLanguage\", \"releaseYear\"]:\n",
    "                TFs.append((f\"txt_{t}\", txt_pipe_3, t))\n",
    "            elif t in ['genre']:\n",
    "                TFs.append((f\"txt_{t}\", txt_pipe_countvec_genre, t))\n",
    "            elif t in [\"genreSorted\"]:\n",
    "                TFs.append((f\"txt_{t}\", txt_pipe_countvec_genreSorted, t))\n",
    "            elif t in [\"distributor\"]:\n",
    "                TFs.append((f\"txt_{t}\", txt_pipe_countvec_distributor, t))\n",
    "                \n",
    "            elif t in ['reviewText']:\n",
    "#                 if vocab and (vocab_usage in [\"tfidf\", \"both\"]):\n",
    "#                     txt_pipe.set_params(tvec__vocabulary=vocab)\n",
    "#                     txt_pipe.set_params(tvec__stop_words='english')\n",
    "                TFs.append((f\"txt_{t}\", txt_pipe, t))\n",
    "            elif t in ['reviewText_2']:\n",
    "                if add_countvec:\n",
    "#                     if vocab and (vocab_usage in [\"count\", \"both\"]):\n",
    "#                         txt_pipe_countvec.set_params(cvec__vocabulary=vocab)\n",
    "#                         txt_pipe_countvec.set_params(cvec__stop_words='english')\n",
    "                    TFs.append((f\"txt_{t}\", txt_pipe_countvec, t))\n",
    "            elif t in ['reviewText_3']:\n",
    "                if vocab_usage == 'tfidf':\n",
    "                    TFs.append((f\"txt_{t}\", txt_pipe_vocab, t))\n",
    "                elif vocab_usage == 'count':\n",
    "                    TFs.append((f\"txt_{t}\", txt_pipe_countvec_vocab, t))\n",
    "            elif t in ['reviewText_4']:\n",
    "                if vocab_audscore:                    \n",
    "                    TFs.append((f\"txt_{t}\", txt_pipe_countvec_vocab_audscore, t))\n",
    "                    \n",
    "            elif t in [\"ratingContents\"]:\n",
    "                TFs.append((f\"txt_{t}\", txt_pipe_countvec_ratingContents, t))\n",
    "            elif t in [\"rcSorted\"]:\n",
    "                TFs.append((f\"txt_{t}\", txt_pipe_countvec_rcSorted, t))\n",
    "            elif t in [\"title\"]:\n",
    "                TFs.append((f\"txt_{t}\", txt_pipe_title, t))\n",
    "            elif t in [\"movieid\"]:\n",
    "                TFs.append((f\"txt_{t}\", txt_pipe_countvec_movieid, t))\n",
    "            else:\n",
    "                pass\n",
    "    except:\n",
    "        pass\n",
    "\n",
    "    # Build ColumnTransformer  \n",
    "    ct = ColumnTransformer(transformers=TFs, remainder='drop')\n",
    "\n",
    "    # Build Pipeline\n",
    "    pipe = Pipeline(steps=[('ct', ct), ('model', selected_model)])\n",
    "    print(\"\\nPipeline built successfully.\")\n",
    "\n",
    "    # Use the pipe in GridSearchCV\n",
    "    if param_grid == None:\n",
    "        param_grid_temp = {\"model__C\": [1],\n",
    "                     'model__solver': ['liblinear']}\n",
    "        print(\"Full GridSearchCV pipeline built successfully with basic default param_grid.\\n\")\n",
    "        pipeCV = GridSearchCV(pipe, param_grid_temp, cv=10, scoring=\"f1_micro\", n_jobs=-1)\n",
    "        return pipeCV\n",
    "    \n",
    "    # GridSearchCV if param_grid provided\n",
    "    if param_grid:\n",
    "        pipeCV = GridSearchCV(pipe, param_grid, cv=10, scoring=\"f1_micro\", n_jobs=-1)\n",
    "        print(\"\\nFull GridSearchCV pipeline built successfully.\")\n",
    "        return pipeCV"
   ]
  },
  {
   "cell_type": "code",
   "execution_count": 122,
   "id": "5619ff08",
   "metadata": {
    "execution": {
     "iopub.execute_input": "2023-08-13T00:28:11.044031Z",
     "iopub.status.busy": "2023-08-13T00:28:11.043604Z",
     "iopub.status.idle": "2023-08-13T00:28:11.064208Z",
     "shell.execute_reply": "2023-08-13T00:28:11.062645Z"
    },
    "papermill": {
     "duration": 0.140531,
     "end_time": "2023-08-13T00:28:11.067234",
     "exception": false,
     "start_time": "2023-08-13T00:28:10.926703",
     "status": "completed"
    },
    "tags": []
   },
   "outputs": [],
   "source": [
    "def preprocessor(imputer_type='simple'):\n",
    "    \n",
    "    \"\"\"Preprocess train or test data. Choose 'simple' or 'knn' imputers to impute missing numerical values\"\"\"\n",
    "    \n",
    "    # Set imputer  \n",
    "    if imputer_type == 'simple':\n",
    "        imputer = SimpleImputer(strategy='median')\n",
    "        print(imputer)\n",
    "    elif imputer_type == 'knn':\n",
    "        imputer = KNNImputer(weights='distance', n_neighbors=3)    # Adjust KNNImputer params here\n",
    "        print(imputer)\n",
    "\n",
    "\n",
    "    \n",
    "    # Merge and preprocess train and movies data  \n",
    "    merged = select_features(load_csv(\"train\"), load_csv(\"movies\"), row_thresh_null=None)    # Decide if you want to drop any rows containing lot of nulls\n",
    "    \n",
    "    # Impute missing numerical values  \n",
    "    merged[['audienceScore', 'runtimeMinutes', 'boxOffice']] = imputer.fit_transform(merged[['audienceScore', 'runtimeMinutes', 'boxOffice']])\n",
    "    merged['releaseDate'] = merged[\"releaseDate\"].fillna(merged[\"releaseDate\"].median())\n",
    "\n",
    "    # Create new feature columns\n",
    "    \n",
    "    # Convert audienceScore to categories  \n",
    "    num_bins_as = 20\n",
    "    merged[\"audScoreBins\"] = pd.cut(merged['audienceScore'], bins=num_bins_as, labels=False)\n",
    "\n",
    "    # Convert runtimeMinutes to categories  \n",
    "#     num_bins_rt = 20\n",
    "    merged[\"runtimeBins\"] = pd.cut(merged['runtimeMinutes'], bins=[0,75,120,180,565], labels=[4,3,2,1])\n",
    "    \n",
    "    # Convert boxOffice to categories  \n",
    "    num_bins_bo = 5\n",
    "    merged[\"boxOfficeBins\"] = pd.cut(merged['boxOffice'], bins=num_bins_bo, labels=False)\n",
    "    \n",
    "    # Convert releaseDiff to categories  \n",
    "    num_bins_rd = 5\n",
    "    merged[\"releaseDiffBins\"] = pd.cut(merged['releaseDiff'], bins=[-1, 180, 360, 1000, 40000], labels=[0, 1, 2, 3])\n",
    "    \n",
    "    # Check1 (preprocessor)\n",
    "    print(\"\\nCheck 1 (preprocessor) complete.\")\n",
    "    print(f\"Shape of X_train: {merged.shape}\")\n",
    "    print(f\"Features in X_train: {merged.columns}\")\n",
    "\n",
    "\n",
    "    \n",
    "    # Merge and preprocess test and movies data  \n",
    "    merged_test = select_features(load_csv(\"test\"), load_csv(\"movies\"))\n",
    "    \n",
    "    # Transform ['audienceScore', 'runtimeMinutes', 'boxOffice'] columns in merged_test using 'imputer' fitted on 'merged' df  \n",
    "    merged_test[['audienceScore', 'runtimeMinutes', 'boxOffice']] = imputer.transform(merged_test[['audienceScore', 'runtimeMinutes', 'boxOffice']])\n",
    "    \n",
    "    # Fill 'releaseDate' column in 'merged_test' df with median from the train (merged) df  \n",
    "    merged_test['releaseDate'] = merged_test[\"releaseDate\"].fillna(merged[\"releaseDate\"].median())\n",
    "\n",
    "    \n",
    "    # Create new feature columns\n",
    "    \n",
    "    # Convert audienceScore to categories  \n",
    "    num_bins_as = 20\n",
    "    merged_test[\"audScoreBins\"] = pd.cut(merged_test['audienceScore'], bins=num_bins_as, labels=False)\n",
    "    \n",
    "    # Convert runtimeMinutes to categories  \n",
    "#     num_bins_rt = 20\n",
    "    merged_test[\"runtimeBins\"] = pd.cut(merged_test['runtimeMinutes'], bins=[0,75,120,180,565], labels=[4,3,2,1])\n",
    "    \n",
    "    # Convert boxOffice to categories  \n",
    "    num_bins_bo = 5\n",
    "    merged_test[\"boxOfficeBins\"] = pd.cut(merged_test['boxOffice'], bins=num_bins_bo, labels=False)\n",
    "    \n",
    "    # Convert releaseDiff to categories  \n",
    "    num_bins_rd = 5\n",
    "    merged_test[\"releaseDiffBins\"] = pd.cut(merged_test['releaseDiff'], bins=[-1, 180, 360, 1000, 40000], labels=[0, 1, 2, 3])\n",
    "    \n",
    "    \n",
    "    # Check2 (preprocessor)\n",
    "    print(\"\\nCheck 2 (preprocessor) complete.\")\n",
    "    print(f\"Shape of X_test: {merged_test.shape}\")\n",
    "    print(f\"Features in X_test: {merged_test.columns}\")\n",
    "\n",
    "    return merged, merged_test\n",
    "    "
   ]
  },
  {
   "cell_type": "code",
   "execution_count": 123,
   "id": "f730a1bc",
   "metadata": {
    "execution": {
     "iopub.execute_input": "2023-08-13T00:28:11.295015Z",
     "iopub.status.busy": "2023-08-13T00:28:11.294548Z",
     "iopub.status.idle": "2023-08-13T00:28:11.299159Z",
     "shell.execute_reply": "2023-08-13T00:28:11.298069Z"
    },
    "papermill": {
     "duration": 0.120808,
     "end_time": "2023-08-13T00:28:11.301604",
     "exception": false,
     "start_time": "2023-08-13T00:28:11.180796",
     "status": "completed"
    },
    "tags": []
   },
   "outputs": [],
   "source": [
    "# merged, merged_test = preprocessor()\n",
    "# merged.shape, merged_test.shape"
   ]
  },
  {
   "cell_type": "code",
   "execution_count": 124,
   "id": "85fd0414",
   "metadata": {
    "execution": {
     "iopub.execute_input": "2023-08-13T00:28:11.533060Z",
     "iopub.status.busy": "2023-08-13T00:28:11.532282Z",
     "iopub.status.idle": "2023-08-13T00:28:11.566987Z",
     "shell.execute_reply": "2023-08-13T00:28:11.566053Z"
    },
    "papermill": {
     "duration": 0.154257,
     "end_time": "2023-08-13T00:28:11.569584",
     "exception": false,
     "start_time": "2023-08-13T00:28:11.415327",
     "status": "completed"
    },
    "tags": []
   },
   "outputs": [],
   "source": [
    "def submit_v5(classifiers= [\n",
    "                {'selected_model' : LogisticRegression(C=1, solver='saga', max_iter=100000),\n",
    "                 'param_grid' : None,\n",
    "                 'selected_features' : {'num': ['audienceScore']},\n",
    "                 'vocab' : None,\n",
    "                 'vocab_usage' : 'tfidf',\n",
    "                 'strip_accents' : 'unicode',\n",
    "                 'add_countvec' : False,\n",
    "                'vocab_audscore' : None}\n",
    "              ], \n",
    "            imputer_type='simple',\n",
    "              poly=True,\n",
    "            ):\n",
    "    \n",
    "    \"\"\"Takes a list of dictionaries each with same keys as mentioned in the default dictionary in function definition\"\"\"\n",
    "    \n",
    "    print(\"\\nRunning the submit_v5 function...\")\n",
    "    \n",
    "    print(f\"\\nData preprocessor initiated...\")\n",
    "    \n",
    "    imputer_type = imputer_type\n",
    "    print(f\"\\nImputer for missing numerical values: {imputer_type}\")\n",
    "    print(f\"Imputing missing values. (This could take a while if it is KNNImputer)\")\n",
    "    \n",
    "    merged, merged_test = preprocessor(imputer_type=imputer_type)\n",
    "    print(f\"\\nPreprocessing of train and test datasets complete.\")\n",
    "    \n",
    "    # Build vocabulary (if vocab is True)\n",
    "    vocab = None\n",
    "    vocab_audscore = None\n",
    "    for item in classifiers:\n",
    "        if item['vocab']:\n",
    "            vocab = True\n",
    "        if item['vocab_audscore']:\n",
    "            vocab_audscore = item['vocab_audscore']\n",
    "    \n",
    "    if vocab == True:\n",
    "        # Generate and store the entire vocabulary of training data  \n",
    "        print(f\"Generating stop words/phrases specific for this project data...\")\n",
    "        train_1_2_3_grams = get_vocab(merged['reviewText'], ngram_range=(1,3))\n",
    "        print(f\"Size of vocabulary of training data: {len(train_1_2_3_grams)}\")\n",
    "        # sorted(train_1_2_3_grams)\n",
    "\n",
    "        # Generate stop words/phrases specific for this project data  \n",
    "        print(f\"Generating stop words/phrases specific for this project data...\")\n",
    "        common_1_2_3_grams = get_common_vocab([merged, merged_test], ngram_range_list=[(1,1), (2,2), (3,3)])\n",
    "        print(f\"Number of stop words: {len(common_1_2_3_grams)}\")\n",
    "\n",
    "        # Get the vocabulary that should be used in the final models  \n",
    "        print(f\"Getting the vocabulary that will be fed to the final model(s)...\")\n",
    "        relevant_vocab = list(train_1_2_3_grams - common_1_2_3_grams)\n",
    "        print(f\"Size of the final relevant vocabulary: {len(relevant_vocab)}\")\n",
    "    else:\n",
    "        pass\n",
    "    \n",
    "    if vocab_audscore:\n",
    "        pure_common_pos, pure_common_neg = audienceScore_vocab([merged, merged_test])\n",
    "        pure_common = pure_common_pos | pure_common_neg\n",
    "        print(f\"pure_common vocabulary created. Length: {len(pure_common)}\")\n",
    "    \n",
    "    \n",
    "    # Create a list to store estimators  \n",
    "    estimators = []     # List of tuples of the form ('classifier_name', 'classifer_instance')\n",
    "    \n",
    "    # Build a dataframe of predictions  \n",
    "    predictions_df = pd.DataFrame()\n",
    "    \n",
    "    # Build a separate pipeline and fit it on selected features (and param_grid) for each item in classifiers list\n",
    "    for n, item in enumerate(classifiers, start=1):\n",
    "        selected_model = item['selected_model']\n",
    "        selected_features = item['selected_features']\n",
    "        param_grid = item['param_grid']\n",
    "        vocab = item['vocab']\n",
    "        vocab_usage = item['vocab_usage']\n",
    "        strip_accents = item['strip_accents']\n",
    "        add_countvec = item['add_countvec']\n",
    "    \n",
    "    \n",
    "        # Fine tune selected_features\n",
    "        if add_countvec:\n",
    "            if 'txt' in selected_features.keys():\n",
    "                if \"reviewText_2\" not in selected_features['txt']:\n",
    "                    selected_features['txt'].append('reviewText_2')\n",
    "        if vocab:\n",
    "            if 'txt' in selected_features.keys():\n",
    "                if \"reviewText_3\" not in selected_features['txt']:\n",
    "                    selected_features['txt'].append('reviewText_3')\n",
    "        else:\n",
    "            print(f\"No vocabulary provided/used for this model.\")\n",
    "            \n",
    "        print(f\"\\nSelected features: {selected_features}\")\n",
    "        \n",
    "        if type(vocab) in [type([1, 2]), type({1, 2})]:\n",
    "            vocab = vocab\n",
    "        elif vocab == True:\n",
    "            vocab = common_1_2_3_grams    # Choose vocabulary here\n",
    "            \n",
    "        if vocab_audscore:\n",
    "            if 'txt' in selected_features.keys():\n",
    "                if \"reviewText_4\" not in selected_features['txt']:\n",
    "                    selected_features['txt'].append('reviewText_4')\n",
    "        else:\n",
    "            print(f\"No vocabulary based on audienceScore provided/used for this model.\")\n",
    "            \n",
    "            \n",
    "        print(f\"\\nSelected features: {selected_features}\")\n",
    "\n",
    "        # Modify X_train for the given 'item' by creating a custom 'features' list\n",
    "        features = []\n",
    "        for item in selected_features.values():\n",
    "            features.extend(item)\n",
    "            \n",
    "        # Add new columns as needed  \n",
    "        if add_countvec:\n",
    "            merged['reviewText_2'] = merged['reviewText']\n",
    "        if vocab:\n",
    "            merged['reviewText_3'] = merged['reviewText']\n",
    "        if vocab_audscore:\n",
    "            merged['reviewText_4'] = merged['reviewText']\n",
    "        \n",
    "        # Create X_tran, y_train\n",
    "        X_train = merged.drop(labels=\"sentiment\", axis=1)\n",
    "        y_train = merged[\"sentiment\"]\n",
    "        \n",
    "        X_train = merged[features].copy()\n",
    "\n",
    "\n",
    "        # Build Pipeline\n",
    "        pipe = build_pipeline(selected_model, selected_features, param_grid=param_grid, \n",
    "                              vocab=vocab, vocab_usage='tfidf', \n",
    "                              strip_accents=strip_accents, add_countvec=add_countvec,\n",
    "                             poly=poly, vocab_audscore=pure_common)\n",
    "        print(pipe)\n",
    "\n",
    "        \n",
    "        # Fit \n",
    "        print(f\"\\nTraining started with full pipeline for classifier #{n}/{len(classifiers)}...\")\n",
    "        pipe.fit(X_train, y_train)\n",
    "        \n",
    "\n",
    "        # Check1\n",
    "        print(f\"\\nCheck #{n}.1 complete.\")\n",
    "        print(f\"Details of the best model using classifier #{n} (GridSearchCV) on X_train: \")\n",
    "        print(f\"Best Params: {pipe.best_params_}\")\n",
    "        print(f\"Best Score: {pipe.best_score_}\")\n",
    "        \n",
    "        print(predict_on_missing_review_data(pipe, features, merged))    # Function defined above\n",
    "        \n",
    "        estimators.append((f\"classifier_{n}\", pipe))\n",
    "        print(f\"classifier_{n} successfully added to 'estimators' list\")\n",
    "\n",
    "        \n",
    "        # Predict on train data \n",
    "        y_train_pred = pipe.predict(X_train)\n",
    "        print(f\"Confusion matrix for predictions on training data: \")\n",
    "        print(confusion_matrix(y_train, y_train_pred))\n",
    "        f1_train = f1_score(y_train, y_train_pred, average=\"micro\")\n",
    "        print(f\"F1-score on training data: {f1_train}\")\n",
    "        \n",
    "        \n",
    "        # Predict on test.csv file\n",
    "        # Add new columns as needed \n",
    "        if add_countvec:\n",
    "            merged_test['reviewText_2'] = merged_test['reviewText']\n",
    "        if vocab:\n",
    "            merged_test['reviewText_3'] = merged_test['reviewText']\n",
    "        if vocab_audscore:\n",
    "            merged_test['reviewText_4'] = merged_test['reviewText']\n",
    "        \n",
    "               \n",
    "        X_test = merged_test[features].copy()\n",
    "\n",
    "    \n",
    "        y_pred = pipe.predict(X_test)\n",
    "        \n",
    "        # Insert predictions in 'predictions_df' dataframe\n",
    "        predictions_df.insert(n-1, f\"pred_{n}\", y_pred, allow_duplicates=False)\n",
    "        print(predictions_df.shape)\n",
    "        print(predictions_df.head(10))\n",
    "        \n",
    "    \n",
    "        # Check2\n",
    "        print(f\"\\nCheck #{n}.2 complete.\")\n",
    "    #     cv_results_df = pd.DataFrame(pipe.cv_results_)\n",
    "        print(\"Details of the best model using full pipeline (GridSearchCV) on X_train: \")\n",
    "#         print(f\"Best Estimator: {pipe.best_estimator_}\")\n",
    "        print(f\"Best Params: {pipe.best_params_}\")\n",
    "        print(f\"Best Score: {pipe.best_score_}\")\n",
    "#         print(f\"Best Index: {pipe.best_index_}\")\n",
    "        print(f\"Refit Time: {pipe.refit_time_}\")\n",
    "    #     print(f\"Shape of CV results dataframe: {cv_results_df.shape}\")\n",
    "    \n",
    "    # Voting classifier (custom) with hard voting\n",
    "    # Calculate the MODE for all predictions (Note that the 'predictions_df' generated above should have odd number of columns)\n",
    "    pred_df_final = predictions_df.mode('columns')\n",
    "    pred_df_final.columns = [\"sentiment\"]\n",
    "    pred_df_final.index.name = \"id\"\n",
    "    pred_df_final.to_csv(\"submission.csv\")\n",
    "    \n",
    "    print(\"\\nSuccessfully created the submission file!!!\")\n",
    "    \n",
    "#     return pipe.cv_results_\n",
    "    return pred_df_final, estimators"
   ]
  },
  {
   "cell_type": "markdown",
   "id": "abc69b43",
   "metadata": {
    "papermill": {
     "duration": 0.11286,
     "end_time": "2023-08-13T00:28:11.796750",
     "exception": false,
     "start_time": "2023-08-13T00:28:11.683890",
     "status": "completed"
    },
    "tags": []
   },
   "source": [
    "## Use 'submit_v5' function  "
   ]
  },
  {
   "cell_type": "code",
   "execution_count": 125,
   "id": "1e4e83c9",
   "metadata": {
    "execution": {
     "iopub.execute_input": "2023-08-13T00:28:12.023075Z",
     "iopub.status.busy": "2023-08-13T00:28:12.022679Z",
     "iopub.status.idle": "2023-08-13T00:28:12.027456Z",
     "shell.execute_reply": "2023-08-13T00:28:12.026332Z"
    },
    "papermill": {
     "duration": 0.122418,
     "end_time": "2023-08-13T00:28:12.029873",
     "exception": false,
     "start_time": "2023-08-13T00:28:11.907455",
     "status": "completed"
    },
    "tags": []
   },
   "outputs": [],
   "source": [
    "# Try submit_v5 with default settings\n",
    "# submit_v5()"
   ]
  },
  {
   "cell_type": "code",
   "execution_count": 126,
   "id": "26172395",
   "metadata": {
    "execution": {
     "iopub.execute_input": "2023-08-13T00:28:12.322009Z",
     "iopub.status.busy": "2023-08-13T00:28:12.320975Z",
     "iopub.status.idle": "2023-08-13T00:57:52.537058Z",
     "shell.execute_reply": "2023-08-13T00:57:52.535605Z"
    },
    "papermill": {
     "duration": 1780.513876,
     "end_time": "2023-08-13T00:57:52.658575",
     "exception": false,
     "start_time": "2023-08-13T00:28:12.144699",
     "status": "completed"
    },
    "tags": []
   },
   "outputs": [
    {
     "name": "stdout",
     "output_type": "stream",
     "text": [
      "\n",
      "Running the submit_v5 function...\n",
      "\n",
      "Data preprocessor initiated...\n",
      "\n",
      "Imputer for missing numerical values: knn\n",
      "Imputing missing values. (This could take a while if it is KNNImputer)\n",
      "KNNImputer(n_neighbors=3, weights='distance')\n",
      "\n",
      "Check 1 (preprocessor) complete.\n",
      "Shape of X_train: (162758, 30)\n",
      "Features in X_train: Index(['movieid', 'reviewerName', 'isFrequentReviewer', 'reviewText',\n",
      "       'sentiment', 'title', 'audienceScore', 'rating', 'ratingContents',\n",
      "       'releaseDateTheaters', 'releaseDateStreaming', 'runtimeMinutes',\n",
      "       'genre', 'originalLanguage', 'director', 'boxOffice', 'distributor',\n",
      "       'soundType', 'reviewYN', 'reviewWC', 'genreSorted', 'rcSorted',\n",
      "       'releaseDate', 'releaseYear', 'releaseMonth', 'releaseDiff',\n",
      "       'audScoreBins', 'runtimeBins', 'boxOfficeBins', 'releaseDiffBins'],\n",
      "      dtype='object')\n",
      "\n",
      "Check 2 (preprocessor) complete.\n",
      "Shape of X_test: (55315, 29)\n",
      "Features in X_test: Index(['movieid', 'reviewerName', 'isFrequentReviewer', 'reviewText', 'title',\n",
      "       'audienceScore', 'rating', 'ratingContents', 'releaseDateTheaters',\n",
      "       'releaseDateStreaming', 'runtimeMinutes', 'genre', 'originalLanguage',\n",
      "       'director', 'boxOffice', 'distributor', 'soundType', 'reviewYN',\n",
      "       'reviewWC', 'genreSorted', 'rcSorted', 'releaseDate', 'releaseYear',\n",
      "       'releaseMonth', 'releaseDiff', 'audScoreBins', 'runtimeBins',\n",
      "       'boxOfficeBins', 'releaseDiffBins'],\n",
      "      dtype='object')\n",
      "\n",
      "Preprocessing of train and test datasets complete.\n",
      "Generating stop words/phrases specific for this project data...\n",
      "Generating vocabulary for ngram_range: (1, 3)...\n",
      "Size of vocabulary of training data: 2610596\n",
      "Generating stop words/phrases specific for this project data...\n",
      "Working on DF#1 in the list of DFs provided\n",
      "Generating vocabulary for ngram_range: (1, 1)...\n",
      "Vocabulary size for ngram-range (1, 1) in DF#1: 63881\n",
      "\n",
      "Words from the first df for ngram-range (1, 1) added.\n",
      "\n",
      "Working on DF#2 in the list of DFs provided\n",
      "Generating vocabulary for ngram_range: (1, 1)...\n",
      "Vocabulary size for ngram-range (1, 1) in DF#2: 42992\n",
      "\n",
      "Keeping only the common (intersection) words for ngram-range (1, 1)...\n",
      "Common vocabulary for ngram-range (1, 1): 35498\n",
      "\n",
      "Appended first time to final common vocabulary: ngram-range = (1, 1).\n",
      "\n",
      "Working on DF#1 in the list of DFs provided\n",
      "Generating vocabulary for ngram_range: (2, 2)...\n",
      "Vocabulary size for ngram-range (2, 2) in DF#1: 1130406\n",
      "\n",
      "Words from the first df for ngram-range (2, 2) added.\n",
      "\n",
      "Working on DF#2 in the list of DFs provided\n",
      "Generating vocabulary for ngram_range: (2, 2)...\n",
      "Vocabulary size for ngram-range (2, 2) in DF#2: 436174\n",
      "\n",
      "Keeping only the common (intersection) words for ngram-range (2, 2)...\n",
      "Common vocabulary for ngram-range (2, 2): 112530\n",
      "\n",
      "Fusing (union) with final common vocabulary: ngram-range = (2, 2).\n",
      "\n",
      "Working on DF#1 in the list of DFs provided\n",
      "Generating vocabulary for ngram_range: (3, 3)...\n",
      "Vocabulary size for ngram-range (3, 3) in DF#1: 1416309\n",
      "\n",
      "Words from the first df for ngram-range (3, 3) added.\n",
      "\n",
      "Working on DF#2 in the list of DFs provided\n",
      "Generating vocabulary for ngram_range: (3, 3)...\n",
      "Vocabulary size for ngram-range (3, 3) in DF#2: 488867\n",
      "\n",
      "Keeping only the common (intersection) words for ngram-range (3, 3)...\n",
      "Common vocabulary for ngram-range (3, 3): 22631\n",
      "\n",
      "Fusing (union) with final common vocabulary: ngram-range = (3, 3).\n",
      "\n",
      "Number of stop words: 170659\n",
      "Getting the vocabulary that will be fed to the final model(s)...\n",
      "Size of the final relevant vocabulary: 2439937\n",
      "Working on DF#1 in the list of DFs provided\n",
      "Generating vocabulary for ngram_range: (1, 1)...\n",
      "Vocabulary size for ngram-range (1, 1) in DF#1: 63881\n",
      "\n",
      "Words from the first df for ngram-range (1, 1) added.\n",
      "\n",
      "Working on DF#2 in the list of DFs provided\n",
      "Generating vocabulary for ngram_range: (1, 1)...\n",
      "Vocabulary size for ngram-range (1, 1) in DF#2: 42992\n",
      "\n",
      "Keeping only the common (intersection) words for ngram-range (1, 1)...\n",
      "Common vocabulary for ngram-range (1, 1): 35498\n",
      "\n",
      "Appended first time to final common vocabulary: ngram-range = (1, 1).\n",
      "\n",
      "Working on DF#1 in the list of DFs provided\n",
      "Generating vocabulary for ngram_range: (2, 2)...\n",
      "Vocabulary size for ngram-range (2, 2) in DF#1: 1130406\n",
      "\n",
      "Words from the first df for ngram-range (2, 2) added.\n",
      "\n",
      "Working on DF#2 in the list of DFs provided\n",
      "Generating vocabulary for ngram_range: (2, 2)...\n",
      "Vocabulary size for ngram-range (2, 2) in DF#2: 436174\n",
      "\n",
      "Keeping only the common (intersection) words for ngram-range (2, 2)...\n",
      "Common vocabulary for ngram-range (2, 2): 112530\n",
      "\n",
      "Fusing (union) with final common vocabulary: ngram-range = (2, 2).\n",
      "\n",
      "Working on DF#1 in the list of DFs provided\n",
      "Generating vocabulary for ngram_range: (3, 3)...\n",
      "Vocabulary size for ngram-range (3, 3) in DF#1: 1416309\n",
      "\n",
      "Words from the first df for ngram-range (3, 3) added.\n",
      "\n",
      "Working on DF#2 in the list of DFs provided\n",
      "Generating vocabulary for ngram_range: (3, 3)...\n",
      "Vocabulary size for ngram-range (3, 3) in DF#2: 488867\n",
      "\n",
      "Keeping only the common (intersection) words for ngram-range (3, 3)...\n",
      "Common vocabulary for ngram-range (3, 3): 22631\n",
      "\n",
      "Fusing (union) with final common vocabulary: ngram-range = (3, 3).\n",
      "\n",
      "Working on DF#1 in the list of DFs provided\n",
      "Generating vocabulary for ngram_range: (1, 1)...\n",
      "Vocabulary size for ngram-range (1, 1) in DF#1: 39254\n",
      "\n",
      "Words from the first df for ngram-range (1, 1) added.\n",
      "\n",
      "Working on DF#2 in the list of DFs provided\n",
      "Generating vocabulary for ngram_range: (1, 1)...\n",
      "Vocabulary size for ngram-range (1, 1) in DF#2: 39254\n",
      "\n",
      "Keeping only the common (intersection) words for ngram-range (1, 1)...\n",
      "Common vocabulary for ngram-range (1, 1): 39254\n",
      "\n",
      "Appended first time to final common vocabulary: ngram-range = (1, 1).\n",
      "\n",
      "Working on DF#1 in the list of DFs provided\n",
      "Generating vocabulary for ngram_range: (2, 2)...\n",
      "Vocabulary size for ngram-range (2, 2) in DF#1: 418168\n",
      "\n",
      "Words from the first df for ngram-range (2, 2) added.\n",
      "\n",
      "Working on DF#2 in the list of DFs provided\n",
      "Generating vocabulary for ngram_range: (2, 2)...\n",
      "Vocabulary size for ngram-range (2, 2) in DF#2: 418168\n",
      "\n",
      "Keeping only the common (intersection) words for ngram-range (2, 2)...\n",
      "Common vocabulary for ngram-range (2, 2): 418168\n",
      "\n",
      "Fusing (union) with final common vocabulary: ngram-range = (2, 2).\n",
      "\n",
      "Working on DF#1 in the list of DFs provided\n",
      "Generating vocabulary for ngram_range: (3, 3)...\n",
      "Vocabulary size for ngram-range (3, 3) in DF#1: 478650\n",
      "\n",
      "Words from the first df for ngram-range (3, 3) added.\n",
      "\n",
      "Working on DF#2 in the list of DFs provided\n",
      "Generating vocabulary for ngram_range: (3, 3)...\n",
      "Vocabulary size for ngram-range (3, 3) in DF#2: 478650\n",
      "\n",
      "Keeping only the common (intersection) words for ngram-range (3, 3)...\n",
      "Common vocabulary for ngram-range (3, 3): 478650\n",
      "\n",
      "Fusing (union) with final common vocabulary: ngram-range = (3, 3).\n",
      "\n",
      "Working on DF#1 in the list of DFs provided\n",
      "Generating vocabulary for ngram_range: (1, 1)...\n",
      "Vocabulary size for ngram-range (1, 1) in DF#1: 29530\n",
      "\n",
      "Words from the first df for ngram-range (1, 1) added.\n",
      "\n",
      "Working on DF#2 in the list of DFs provided\n",
      "Generating vocabulary for ngram_range: (1, 1)...\n",
      "Vocabulary size for ngram-range (1, 1) in DF#2: 29530\n",
      "\n",
      "Keeping only the common (intersection) words for ngram-range (1, 1)...\n",
      "Common vocabulary for ngram-range (1, 1): 29530\n",
      "\n",
      "Appended first time to final common vocabulary: ngram-range = (1, 1).\n",
      "\n",
      "Working on DF#1 in the list of DFs provided\n",
      "Generating vocabulary for ngram_range: (2, 2)...\n",
      "Vocabulary size for ngram-range (2, 2) in DF#1: 208463\n",
      "\n",
      "Words from the first df for ngram-range (2, 2) added.\n",
      "\n",
      "Working on DF#2 in the list of DFs provided\n",
      "Generating vocabulary for ngram_range: (2, 2)...\n",
      "Vocabulary size for ngram-range (2, 2) in DF#2: 208463\n",
      "\n",
      "Keeping only the common (intersection) words for ngram-range (2, 2)...\n",
      "Common vocabulary for ngram-range (2, 2): 208463\n",
      "\n",
      "Fusing (union) with final common vocabulary: ngram-range = (2, 2).\n",
      "\n",
      "Working on DF#1 in the list of DFs provided\n",
      "Generating vocabulary for ngram_range: (3, 3)...\n",
      "Vocabulary size for ngram-range (3, 3) in DF#1: 223076\n",
      "\n",
      "Words from the first df for ngram-range (3, 3) added.\n",
      "\n",
      "Working on DF#2 in the list of DFs provided\n",
      "Generating vocabulary for ngram_range: (3, 3)...\n",
      "Vocabulary size for ngram-range (3, 3) in DF#2: 223076\n",
      "\n",
      "Keeping only the common (intersection) words for ngram-range (3, 3)...\n",
      "Common vocabulary for ngram-range (3, 3): 223076\n",
      "\n",
      "Fusing (union) with final common vocabulary: ngram-range = (3, 3).\n",
      "\n",
      "pure_common vocabulary created. Length: 84493\n",
      "\n",
      "Selected features: {'cat': ['isFrequentReviewer'], 'num': ['audienceScore', 'boxOffice', 'releaseDiff'], 'txt': ['reviewText', 'reviewerName', 'movieid', 'genre', 'director', 'ratingContents', 'distributor', 'reviewText_2', 'reviewText_3']}\n",
      "\n",
      "Selected features: {'cat': ['isFrequentReviewer'], 'num': ['audienceScore', 'boxOffice', 'releaseDiff'], 'txt': ['reviewText', 'reviewerName', 'movieid', 'genre', 'director', 'ratingContents', 'distributor', 'reviewText_2', 'reviewText_3', 'reviewText_4']}\n",
      "\n",
      "Pipeline built successfully.\n",
      "\n",
      "Full GridSearchCV pipeline built successfully.\n",
      "GridSearchCV(cv=10,\n",
      "             estimator=Pipeline(steps=[('ct',\n",
      "                                        ColumnTransformer(transformers=[('cat',\n",
      "                                                                         OneHotEncoder(handle_unknown='ignore',\n",
      "                                                                                       sparse_output=False),\n",
      "                                                                         ['isFrequentReviewer']),\n",
      "                                                                        ('num',\n",
      "                                                                         Pipeline(steps=[('robscaler',\n",
      "                                                                                          RobustScaler()),\n",
      "                                                                                         ('stdscaler',\n",
      "                                                                                          StandardScaler()),\n",
      "                                                                                         ('poly',\n",
      "                                                                                          PolynomialFeatures())]),\n",
      "                                                                         ['audienceScore',\n",
      "                                                                          'boxOffice',\n",
      "                                                                          'releaseDiff']),\n",
      "                                                                        ('txt_reviewText'...\n",
      "                                                                                                                      'abbey',\n",
      "                                                                                                                      'abbey '\n",
      "                                                                                                                      'movie',\n",
      "                                                                                                                      'abbie',\n",
      "                                                                                                                      'abbott '\n",
      "                                                                                                                      'costello '\n",
      "                                                                                                                      'meet',\n",
      "                                                                                                                      'abc '\n",
      "                                                                                                                      'africa',\n",
      "                                                                                                                      'abc '\n",
      "                                                                                                                      'afterschool',\n",
      "                                                                                                                      'abdomen',\n",
      "                                                                                                                      'abdul '\n",
      "                                                                                                                      'mateen',\n",
      "                                                                                                                      'abdul '\n",
      "                                                                                                                      'mateen '\n",
      "                                                                                                                      'ii',\n",
      "                                                                                                                      'abel '\n",
      "                                                                                                                      'ferrara', ...}))]),\n",
      "                                                                         'reviewText_4')])),\n",
      "                                       ('model',\n",
      "                                        SGDClassifier(loss='modified_huber',\n",
      "                                                      max_iter=1000000,\n",
      "                                                      n_iter_no_change=100,\n",
      "                                                      n_jobs=-1,\n",
      "                                                      tol=0.0001))]),\n",
      "             n_jobs=-1, param_grid={'model__alpha': [0.0001]},\n",
      "             scoring='f1_micro')\n",
      "\n",
      "Training started with full pipeline for classifier #1/1...\n",
      "\n",
      "Check #1.1 complete.\n",
      "Details of the best model using classifier #1 (GridSearchCV) on X_train: \n",
      "Best Params: {'model__alpha': 0.0001}\n",
      "Best Score: 0.84349157524258\n",
      "Confusion matrix and f1-score for rows which have no reviewText in X_train: \n",
      "[[1755  650]\n",
      " [ 302 3740]]\n",
      "0.8523344191096636\n",
      "classifier_1 successfully added to 'estimators' list\n",
      "Confusion matrix for predictions on training data: \n",
      "[[ 53317    680]\n",
      " [   317 108444]]\n",
      "F1-score on training data: 0.9938743410462159\n",
      "(55315, 1)\n",
      "     pred_1\n",
      "0  POSITIVE\n",
      "1  POSITIVE\n",
      "2  POSITIVE\n",
      "3  POSITIVE\n",
      "4  POSITIVE\n",
      "5  POSITIVE\n",
      "6  POSITIVE\n",
      "7  POSITIVE\n",
      "8  NEGATIVE\n",
      "9  NEGATIVE\n",
      "\n",
      "Check #1.2 complete.\n",
      "Details of the best model using full pipeline (GridSearchCV) on X_train: \n",
      "Best Params: {'model__alpha': 0.0001}\n",
      "Best Score: 0.84349157524258\n",
      "Refit Time: 186.33161044120789\n",
      "\n",
      "Successfully created the submission file!!!\n"
     ]
    }
   ],
   "source": [
    "# Testing ONE classfier using submit_v5 function  \n",
    "\n",
    "# Feature dictionaries\n",
    "sfs = {'cat': ['isFrequentReviewer', 'rating'],\n",
    "       'num': [\"audienceScore\", \"runtimeMinutes\", \"boxOffice\", 'releaseDiff']}\n",
    "\n",
    "sf_best = {'cat': ['isFrequentReviewer'],\n",
    "            'num': [\"audienceScore\", \"boxOffice\", 'releaseDiff'],\n",
    "            'txt': ['reviewText', 'reviewerName', 'movieid', 'genre', 'director', \n",
    "                         'ratingContents', 'distributor']}\n",
    "\n",
    "alt_text = {'txt': ['reviewerName', 'movieid', 'genre', 'director', \n",
    "                         'ratingContents', 'distributor']}\n",
    "\n",
    "v88_dict = {'cat': ['isFrequentReviewer', 'audScoreBins', 'boxOfficeBins'],\n",
    "            'num': ['releaseDiff'],\n",
    "            'txt': ['reviewText', 'reviewerName', 'movieid', 'genre', 'director', \n",
    "                         'ratingContents', 'distributor']}\n",
    "\n",
    "# SGDClassifier hyperparameters  \n",
    "# \"model__loss\": ['hinge', 'log_loss', 'modified_huber', \n",
    "#                                                   'squared_hinge', 'perceptron', \n",
    "#                                                   'squared_error', 'huber', \n",
    "#                                                   'epsilon_insensitive', 'squared_epsilon_insensitive']\n",
    "\n",
    "# 'param_grid' : {\"model__alpha\": [0.0001], \n",
    "#                   'model__tol': [0.0001],\n",
    "#                   \"model__penalty\": [\"l2\"],\n",
    "#                   \"model__n_iter_no_change\": [100],\n",
    "#                  }\n",
    "\n",
    "# Best models \n",
    "# For sf_best features\n",
    "#                 {'selected_model' : SGDClassifier(loss='hinge', \n",
    "#                                      max_iter=1000000,\n",
    "#                                      alpha = 0.0001,\n",
    "#                                      tol = 0.0001,\n",
    "#                                      penalty = \"l2\",\n",
    "#                                      n_iter_no_change = 100,\n",
    "#                                      n_jobs = -1), \n",
    "#                   'selected_features' : sf_best, \n",
    "#                   'param_grid' : {\"model__alpha\": [ 0.0001]},\n",
    "#                   'vocab' : True,\n",
    "#                   'vocab_usage' : 'tfidf',\n",
    "#                   'strip_accents' : 'unicode', \n",
    "#                   'add_countvec' : True},\n",
    "\n",
    "# For sfs features\n",
    "#                 {'selected_model' : RandomForestClassifier(n_jobs = -1), \n",
    "#                   'selected_features' : sfs, \n",
    "#                   'param_grid': {'model__n_estimators': [100]},\n",
    "#                   'vocab' : None,\n",
    "#                   'vocab_usage' : 'tfidf',\n",
    "#                   'strip_accents' : 'unicode', \n",
    "#                   'add_countvec' : False}\n",
    "\n",
    "# Best SGD classifer (with params)  \n",
    "sgdc = SGDClassifier(loss='modified_huber', \n",
    "                     max_iter=1000000,\n",
    "                     alpha = 0.0001,\n",
    "                     tol = 0.0001,\n",
    "                     penalty = \"l2\",\n",
    "                     n_iter_no_change = 100,\n",
    "                     n_jobs = -1)\n",
    "\n",
    "# Classifiers\n",
    "classifiers= [   \n",
    "                {'selected_model' : sgdc, \n",
    "                  'selected_features' : sf_best, \n",
    "                  'param_grid' : {\"model__alpha\": [0.0001]},\n",
    "                  'vocab' : True,\n",
    "                  'vocab_usage' : 'tfidf',\n",
    "                  'strip_accents' : 'unicode', \n",
    "                  'add_countvec' : True,\n",
    "                    'vocab_audscore' : True},\n",
    "            ]\n",
    "\n",
    "# classifiers= [\n",
    "#                 {'selected_model' : LogisticRegression(C=1, solver='saga', max_iter=100000), \n",
    "#                   'selected_features' : {'txt': [\"reviewText\"]}, \n",
    "#                   'param_grid' : {\"model__C\": [1], \n",
    "#                                   'model__solver': ['saga']},\n",
    "#                   'vocab' : None,\n",
    "#                   'vocab_usage' : 'tfidf',\n",
    "#                   'strip_accents' : 'unicode', \n",
    "#                   'add_countvec' : False},\n",
    "#             ]\n",
    "\n",
    "pred_df, estimators = submit_v5(classifiers=classifiers, imputer_type='knn', poly=True)"
   ]
  },
  {
   "cell_type": "code",
   "execution_count": 127,
   "id": "77bc8d02",
   "metadata": {
    "execution": {
     "iopub.execute_input": "2023-08-13T00:57:52.898692Z",
     "iopub.status.busy": "2023-08-13T00:57:52.898043Z",
     "iopub.status.idle": "2023-08-13T00:57:52.905938Z",
     "shell.execute_reply": "2023-08-13T00:57:52.904803Z"
    },
    "papermill": {
     "duration": 0.133772,
     "end_time": "2023-08-13T00:57:52.908556",
     "exception": false,
     "start_time": "2023-08-13T00:57:52.774784",
     "status": "completed"
    },
    "tags": []
   },
   "outputs": [
    {
     "name": "stdout",
     "output_type": "stream",
     "text": [
      "(55315, 1)\n",
      "   sentiment\n",
      "id          \n",
      "0   POSITIVE\n",
      "1   POSITIVE\n",
      "2   POSITIVE\n",
      "3   POSITIVE\n",
      "4   POSITIVE\n"
     ]
    }
   ],
   "source": [
    "print(pred_df.shape)\n",
    "print(pred_df.head())"
   ]
  },
  {
   "cell_type": "code",
   "execution_count": 128,
   "id": "f4c3d8d4",
   "metadata": {
    "execution": {
     "iopub.execute_input": "2023-08-13T00:57:53.145176Z",
     "iopub.status.busy": "2023-08-13T00:57:53.144544Z",
     "iopub.status.idle": "2023-08-13T00:57:53.148827Z",
     "shell.execute_reply": "2023-08-13T00:57:53.148008Z"
    },
    "papermill": {
     "duration": 0.124429,
     "end_time": "2023-08-13T00:57:53.150964",
     "exception": false,
     "start_time": "2023-08-13T00:57:53.026535",
     "status": "completed"
    },
    "tags": []
   },
   "outputs": [],
   "source": [
    "# estimators"
   ]
  },
  {
   "cell_type": "code",
   "execution_count": 129,
   "id": "15b3f7a0",
   "metadata": {
    "execution": {
     "iopub.execute_input": "2023-08-13T00:57:53.389268Z",
     "iopub.status.busy": "2023-08-13T00:57:53.388234Z",
     "iopub.status.idle": "2023-08-13T00:57:53.396147Z",
     "shell.execute_reply": "2023-08-13T00:57:53.394734Z"
    },
    "papermill": {
     "duration": 0.130057,
     "end_time": "2023-08-13T00:57:53.398356",
     "exception": false,
     "start_time": "2023-08-13T00:57:53.268299",
     "status": "completed"
    },
    "tags": []
   },
   "outputs": [
    {
     "name": "stdout",
     "output_type": "stream",
     "text": [
      "Number of estimators: 1\n",
      "\n",
      "Estimator: classifier_1\n",
      "{'model__alpha': 0.0001}\n",
      "0.84349157524258\n",
      "186.33161044120789\n",
      "\n"
     ]
    }
   ],
   "source": [
    "print(f\"Number of estimators: {len(estimators)}\\n\")\n",
    "for est in estimators:\n",
    "    print(f\"Estimator: {est[0]}\")\n",
    "#     print(est[1].best_estimator_)\n",
    "    print(est[1].best_params_)\n",
    "    print(est[1].best_score_)\n",
    "    print(est[1].refit_time_)\n",
    "    print()"
   ]
  },
  {
   "cell_type": "code",
   "execution_count": 130,
   "id": "ddce913a",
   "metadata": {
    "execution": {
     "iopub.execute_input": "2023-08-13T00:57:53.636567Z",
     "iopub.status.busy": "2023-08-13T00:57:53.635882Z",
     "iopub.status.idle": "2023-08-13T00:57:53.642258Z",
     "shell.execute_reply": "2023-08-13T00:57:53.641478Z"
    },
    "papermill": {
     "duration": 0.129558,
     "end_time": "2023-08-13T00:57:53.644510",
     "exception": false,
     "start_time": "2023-08-13T00:57:53.514952",
     "status": "completed"
    },
    "tags": []
   },
   "outputs": [],
   "source": [
    "# Testing full capabilites of submit_v5  \n",
    "\n",
    "# # Feature dictionaries\n",
    "# sf1 = {'cat': ['isFrequentReviewer', 'rating'],\n",
    "#        'num': [\"audienceScore\", \"runtimeMinutes\", \"boxOffice\"]}\n",
    "\n",
    "# sf2 = {'cat': ['isFrequentReviewer', 'rating'],\n",
    "#        'num': [\"audienceScore\", \"runtimeMinutes\", \"boxOffice\"]}\n",
    "\n",
    "# sf3 = {'cat': ['isFrequentReviewer'],\n",
    "#         'num': ['releaseDiff', 'audienceScore', 'boxOffice'],\n",
    "#         'txt': ['reviewText', 'reviewerName', 'movieid', 'genre', 'director', \n",
    "#                          'ratingContents', 'distributor']}\n",
    "\n",
    "# # Individual classifiers\n",
    "# clf1 =  {'selected_model' : AdaBoostClassifier(), \n",
    "#           'selected_features' : sf1, \n",
    "#           'param_grid' : {\"model__n_estimators\": [50]},\n",
    "#           'vocab' : None,\n",
    "#           'vocab_usage' : 'tfidf',\n",
    "#           'strip_accents' : 'unicode', \n",
    "#           'add_countvec' : False}\n",
    "\n",
    "# clf2 =  {'selected_model' : RandomForestClassifier(), \n",
    "#           'selected_features' : sf2,\n",
    "#           'param_grid' : {\"model__n_estimators\": [50], \n",
    "#                           'model__criterion': ['gini']},\n",
    "#           'vocab' : None,\n",
    "#           'vocab_usage' : 'tfidf',\n",
    "#           'strip_accents' : 'unicode', \n",
    "#           'add_countvec' : False}\n",
    "\n",
    "# clf3 =  {'selected_model' : LogisticRegression(C=1, solver='saga', max_iter=100000), \n",
    "#           'selected_features' : sf3, \n",
    "#           'param_grid' : {'model__C' : [1],\n",
    "#                             'model__solver': ['saga'],\n",
    "#                             \"model__fit_intercept\" : [True],\n",
    "#                             \"model__dual\" : [False]},\n",
    "#           'vocab' : None,\n",
    "#           'vocab_usage' : 'tfidf',\n",
    "#           'strip_accents' : 'unicode', \n",
    "#           'add_countvec' : True}\n",
    "\n",
    "\n",
    "# # List of classifiers for voting\n",
    "# classifiers= [clf1, clf2, clf3]\n",
    "\n",
    "# # Final predictions \n",
    "# pred_df = submit_v5(classifiers=classifiers)"
   ]
  },
  {
   "cell_type": "code",
   "execution_count": 131,
   "id": "72894907",
   "metadata": {
    "execution": {
     "iopub.execute_input": "2023-08-13T00:57:53.883946Z",
     "iopub.status.busy": "2023-08-13T00:57:53.882753Z",
     "iopub.status.idle": "2023-08-13T00:57:53.896460Z",
     "shell.execute_reply": "2023-08-13T00:57:53.895342Z"
    },
    "papermill": {
     "duration": 0.135688,
     "end_time": "2023-08-13T00:57:53.898687",
     "exception": false,
     "start_time": "2023-08-13T00:57:53.762999",
     "status": "completed"
    },
    "tags": []
   },
   "outputs": [
    {
     "name": "stdout",
     "output_type": "stream",
     "text": [
      "(55315, 1)\n"
     ]
    },
    {
     "data": {
      "text/html": [
       "<div>\n",
       "<style scoped>\n",
       "    .dataframe tbody tr th:only-of-type {\n",
       "        vertical-align: middle;\n",
       "    }\n",
       "\n",
       "    .dataframe tbody tr th {\n",
       "        vertical-align: top;\n",
       "    }\n",
       "\n",
       "    .dataframe thead th {\n",
       "        text-align: right;\n",
       "    }\n",
       "</style>\n",
       "<table border=\"1\" class=\"dataframe\">\n",
       "  <thead>\n",
       "    <tr style=\"text-align: right;\">\n",
       "      <th></th>\n",
       "      <th>sentiment</th>\n",
       "    </tr>\n",
       "    <tr>\n",
       "      <th>id</th>\n",
       "      <th></th>\n",
       "    </tr>\n",
       "  </thead>\n",
       "  <tbody>\n",
       "    <tr>\n",
       "      <th>0</th>\n",
       "      <td>POSITIVE</td>\n",
       "    </tr>\n",
       "    <tr>\n",
       "      <th>1</th>\n",
       "      <td>POSITIVE</td>\n",
       "    </tr>\n",
       "    <tr>\n",
       "      <th>2</th>\n",
       "      <td>POSITIVE</td>\n",
       "    </tr>\n",
       "    <tr>\n",
       "      <th>3</th>\n",
       "      <td>POSITIVE</td>\n",
       "    </tr>\n",
       "    <tr>\n",
       "      <th>4</th>\n",
       "      <td>POSITIVE</td>\n",
       "    </tr>\n",
       "    <tr>\n",
       "      <th>...</th>\n",
       "      <td>...</td>\n",
       "    </tr>\n",
       "    <tr>\n",
       "      <th>55310</th>\n",
       "      <td>POSITIVE</td>\n",
       "    </tr>\n",
       "    <tr>\n",
       "      <th>55311</th>\n",
       "      <td>NEGATIVE</td>\n",
       "    </tr>\n",
       "    <tr>\n",
       "      <th>55312</th>\n",
       "      <td>NEGATIVE</td>\n",
       "    </tr>\n",
       "    <tr>\n",
       "      <th>55313</th>\n",
       "      <td>POSITIVE</td>\n",
       "    </tr>\n",
       "    <tr>\n",
       "      <th>55314</th>\n",
       "      <td>NEGATIVE</td>\n",
       "    </tr>\n",
       "  </tbody>\n",
       "</table>\n",
       "<p>55315 rows × 1 columns</p>\n",
       "</div>"
      ],
      "text/plain": [
       "      sentiment\n",
       "id             \n",
       "0      POSITIVE\n",
       "1      POSITIVE\n",
       "2      POSITIVE\n",
       "3      POSITIVE\n",
       "4      POSITIVE\n",
       "...         ...\n",
       "55310  POSITIVE\n",
       "55311  NEGATIVE\n",
       "55312  NEGATIVE\n",
       "55313  POSITIVE\n",
       "55314  NEGATIVE\n",
       "\n",
       "[55315 rows x 1 columns]"
      ]
     },
     "execution_count": 131,
     "metadata": {},
     "output_type": "execute_result"
    }
   ],
   "source": [
    "print(pred_df.shape)\n",
    "pred_df"
   ]
  },
  {
   "cell_type": "code",
   "execution_count": 132,
   "id": "2966a31f",
   "metadata": {
    "execution": {
     "iopub.execute_input": "2023-08-13T00:57:54.133492Z",
     "iopub.status.busy": "2023-08-13T00:57:54.132789Z",
     "iopub.status.idle": "2023-08-13T00:57:54.136997Z",
     "shell.execute_reply": "2023-08-13T00:57:54.135988Z"
    },
    "papermill": {
     "duration": 0.125637,
     "end_time": "2023-08-13T00:57:54.139295",
     "exception": false,
     "start_time": "2023-08-13T00:57:54.013658",
     "status": "completed"
    },
    "tags": []
   },
   "outputs": [],
   "source": [
    "# pred_df_mode = pred_df.mode(axis='columns')\n",
    "# print(pred_df_mode.shape)\n",
    "# pred_df_mode"
   ]
  },
  {
   "cell_type": "code",
   "execution_count": 133,
   "id": "448d4b17",
   "metadata": {
    "execution": {
     "iopub.execute_input": "2023-08-13T00:57:54.375682Z",
     "iopub.status.busy": "2023-08-13T00:57:54.375262Z",
     "iopub.status.idle": "2023-08-13T00:57:54.395272Z",
     "shell.execute_reply": "2023-08-13T00:57:54.394020Z"
    },
    "papermill": {
     "duration": 0.140415,
     "end_time": "2023-08-13T00:57:54.397432",
     "exception": false,
     "start_time": "2023-08-13T00:57:54.257017",
     "status": "completed"
    },
    "tags": []
   },
   "outputs": [
    {
     "data": {
      "text/plain": [
       "sentiment\n",
       "POSITIVE     38541\n",
       "NEGATIVE     16774\n",
       "dtype: int64"
      ]
     },
     "execution_count": 133,
     "metadata": {},
     "output_type": "execute_result"
    }
   ],
   "source": [
    "pred_df.value_counts()"
   ]
  },
  {
   "cell_type": "markdown",
   "id": "717e013f",
   "metadata": {
    "papermill": {
     "duration": 0.120089,
     "end_time": "2023-08-13T00:57:54.633880",
     "exception": false,
     "start_time": "2023-08-13T00:57:54.513791",
     "status": "completed"
    },
    "tags": []
   },
   "source": [
    "# NOTE: Move submit_v4 submissions below the suubmit_v4 function  "
   ]
  },
  {
   "cell_type": "code",
   "execution_count": 134,
   "id": "30cacf22",
   "metadata": {
    "execution": {
     "iopub.execute_input": "2023-08-13T00:57:54.871238Z",
     "iopub.status.busy": "2023-08-13T00:57:54.870583Z",
     "iopub.status.idle": "2023-08-13T00:57:54.874478Z",
     "shell.execute_reply": "2023-08-13T00:57:54.873681Z"
    },
    "papermill": {
     "duration": 0.126469,
     "end_time": "2023-08-13T00:57:54.877029",
     "exception": false,
     "start_time": "2023-08-13T00:57:54.750560",
     "status": "completed"
    },
    "tags": []
   },
   "outputs": [],
   "source": [
    "# Try 'submit_v4' function with default params (LogisticRegression model)  \n",
    "\n",
    "# submit_v4()\n",
    "\n",
    "#Default params to this function gave a score of 0.8259 - improvement over previous score of 0.82563!"
   ]
  },
  {
   "cell_type": "code",
   "execution_count": 135,
   "id": "b2aaae1e",
   "metadata": {
    "execution": {
     "iopub.execute_input": "2023-08-13T00:57:55.183426Z",
     "iopub.status.busy": "2023-08-13T00:57:55.182445Z",
     "iopub.status.idle": "2023-08-13T00:57:55.187221Z",
     "shell.execute_reply": "2023-08-13T00:57:55.186443Z"
    },
    "papermill": {
     "duration": 0.196162,
     "end_time": "2023-08-13T00:57:55.189305",
     "exception": false,
     "start_time": "2023-08-13T00:57:54.993143",
     "status": "completed"
    },
    "tags": []
   },
   "outputs": [],
   "source": [
    "# Try out GridSearchCV on \"submit_v4\" function with param_grid  \n",
    "# param_grid = {\n",
    "#     \"model__C\": [0.1, 1, 5, 10]\n",
    "# }\n",
    "\n",
    "# submit_v4(selected_features={'txt': ['genre']}, param_grid=param_grid)"
   ]
  },
  {
   "cell_type": "markdown",
   "id": "eaa6f208",
   "metadata": {
    "papermill": {
     "duration": 0.116028,
     "end_time": "2023-08-13T00:57:55.421502",
     "exception": false,
     "start_time": "2023-08-13T00:57:55.305474",
     "status": "completed"
    },
    "tags": []
   },
   "source": [
    "### Try LinearSVC with GridSearchCV  "
   ]
  },
  {
   "cell_type": "code",
   "execution_count": 136,
   "id": "877feab6",
   "metadata": {
    "execution": {
     "iopub.execute_input": "2023-08-13T00:57:55.662744Z",
     "iopub.status.busy": "2023-08-13T00:57:55.661832Z",
     "iopub.status.idle": "2023-08-13T00:57:55.667383Z",
     "shell.execute_reply": "2023-08-13T00:57:55.666086Z"
    },
    "papermill": {
     "duration": 0.130282,
     "end_time": "2023-08-13T00:57:55.670283",
     "exception": false,
     "start_time": "2023-08-13T00:57:55.540001",
     "status": "completed"
    },
    "tags": []
   },
   "outputs": [],
   "source": [
    "# all_dict = {'cat': [\"isFrequentReviewer\", \"rating\", \"originalLanguage\"],\n",
    "#              'num': [\"audienceScore\", \"runtimeMinutes\", \"boxOffice\"],\n",
    "#              'txt': ['reviewText', 'reviewerName', 'movieid', 'genre', 'director']}\n",
    "\n",
    "# param_grid_svc = {\n",
    "#     \"model__C\": [0.1, 1, 10, 100]\n",
    "# }\n",
    "# param_grid_svc"
   ]
  },
  {
   "cell_type": "code",
   "execution_count": 137,
   "id": "36898025",
   "metadata": {
    "execution": {
     "iopub.execute_input": "2023-08-13T00:57:55.913383Z",
     "iopub.status.busy": "2023-08-13T00:57:55.912765Z",
     "iopub.status.idle": "2023-08-13T00:57:55.917810Z",
     "shell.execute_reply": "2023-08-13T00:57:55.916508Z"
    },
    "papermill": {
     "duration": 0.1266,
     "end_time": "2023-08-13T00:57:55.920320",
     "exception": false,
     "start_time": "2023-08-13T00:57:55.793720",
     "status": "completed"
    },
    "tags": []
   },
   "outputs": [],
   "source": [
    "# LinearSCV on single feature  \n",
    "\n",
    "# submit_v4(selected_model=LinearSVC(max_iter=100000, random_state=42), selected_features={'num': [\"audienceScore\"]}, param_grid=param_grid_svc)\n",
    "\n",
    "# Comment: LinearSVC even on single column feature set takes too long to converge."
   ]
  },
  {
   "cell_type": "code",
   "execution_count": 138,
   "id": "114783fb",
   "metadata": {
    "execution": {
     "iopub.execute_input": "2023-08-13T00:57:56.165227Z",
     "iopub.status.busy": "2023-08-13T00:57:56.164406Z",
     "iopub.status.idle": "2023-08-13T00:57:56.170134Z",
     "shell.execute_reply": "2023-08-13T00:57:56.168595Z"
    },
    "papermill": {
     "duration": 0.13219,
     "end_time": "2023-08-13T00:57:56.172409",
     "exception": false,
     "start_time": "2023-08-13T00:57:56.040219",
     "status": "completed"
    },
    "tags": []
   },
   "outputs": [],
   "source": [
    "# LinearSCV on all available features\n",
    "\n",
    "# submit_v4(selected_model=LinearSVC(max_iter=100000, random_state=42), selected_features=all_dict, param_grid=param_grid_svc)\n",
    "\n",
    "# (Update): This took 66 mins to run and gave a public score of 0.84295 (lesser than logreg gridsearchcv wwhich gave 0.84441). Best C was 1.0.\n"
   ]
  },
  {
   "cell_type": "markdown",
   "id": "e27cab52",
   "metadata": {
    "papermill": {
     "duration": 0.118354,
     "end_time": "2023-08-13T00:57:56.410701",
     "exception": false,
     "start_time": "2023-08-13T00:57:56.292347",
     "status": "completed"
    },
    "tags": []
   },
   "source": [
    "### Boosting techniques  "
   ]
  },
  {
   "cell_type": "code",
   "execution_count": 139,
   "id": "aa70a053",
   "metadata": {
    "execution": {
     "iopub.execute_input": "2023-08-13T00:57:56.648536Z",
     "iopub.status.busy": "2023-08-13T00:57:56.648134Z",
     "iopub.status.idle": "2023-08-13T00:57:56.652630Z",
     "shell.execute_reply": "2023-08-13T00:57:56.651380Z"
    },
    "papermill": {
     "duration": 0.127157,
     "end_time": "2023-08-13T00:57:56.655256",
     "exception": false,
     "start_time": "2023-08-13T00:57:56.528099",
     "status": "completed"
    },
    "tags": []
   },
   "outputs": [],
   "source": [
    "# adc = AdaBoostClassifier(estimator=LogisticRegression(C=5, solver=\"saga\", max_iter=100000), n_estimators=50)\n",
    "# adc"
   ]
  },
  {
   "cell_type": "code",
   "execution_count": 140,
   "id": "b0471e42",
   "metadata": {
    "execution": {
     "iopub.execute_input": "2023-08-13T00:57:56.891125Z",
     "iopub.status.busy": "2023-08-13T00:57:56.890762Z",
     "iopub.status.idle": "2023-08-13T00:57:56.896458Z",
     "shell.execute_reply": "2023-08-13T00:57:56.895126Z"
    },
    "papermill": {
     "duration": 0.127253,
     "end_time": "2023-08-13T00:57:56.899051",
     "exception": false,
     "start_time": "2023-08-13T00:57:56.771798",
     "status": "completed"
    },
    "tags": []
   },
   "outputs": [],
   "source": [
    "# submit_v4(selected_model=adc, selected_features={'num': [\"audienceScore\"]}, param_grid=None)"
   ]
  },
  {
   "cell_type": "code",
   "execution_count": 141,
   "id": "77b73363",
   "metadata": {
    "execution": {
     "iopub.execute_input": "2023-08-13T00:57:57.132298Z",
     "iopub.status.busy": "2023-08-13T00:57:57.131927Z",
     "iopub.status.idle": "2023-08-13T00:57:57.136499Z",
     "shell.execute_reply": "2023-08-13T00:57:57.135455Z"
    },
    "papermill": {
     "duration": 0.125055,
     "end_time": "2023-08-13T00:57:57.138851",
     "exception": false,
     "start_time": "2023-08-13T00:57:57.013796",
     "status": "completed"
    },
    "tags": []
   },
   "outputs": [],
   "source": [
    "# submit_v4(selected_model=adc, selected_features=all_dict, param_grid=None)\n",
    "\n",
    "# Took 1 hour 15 mins to run and gave a public score of only 0.71089. Discarded."
   ]
  },
  {
   "cell_type": "markdown",
   "id": "f64c201c",
   "metadata": {
    "papermill": {
     "duration": 0.1179,
     "end_time": "2023-08-13T00:57:57.374259",
     "exception": false,
     "start_time": "2023-08-13T00:57:57.256359",
     "status": "completed"
    },
    "tags": []
   },
   "source": [
    "### LightGBM  "
   ]
  },
  {
   "cell_type": "code",
   "execution_count": 142,
   "id": "310643ac",
   "metadata": {
    "execution": {
     "iopub.execute_input": "2023-08-13T00:57:57.610800Z",
     "iopub.status.busy": "2023-08-13T00:57:57.610422Z",
     "iopub.status.idle": "2023-08-13T00:57:57.615057Z",
     "shell.execute_reply": "2023-08-13T00:57:57.613868Z"
    },
    "papermill": {
     "duration": 0.124837,
     "end_time": "2023-08-13T00:57:57.617342",
     "exception": false,
     "start_time": "2023-08-13T00:57:57.492505",
     "status": "completed"
    },
    "tags": []
   },
   "outputs": [],
   "source": [
    "# lgb = ltb.LGBMClassifier()\n",
    "# lgb"
   ]
  },
  {
   "cell_type": "code",
   "execution_count": 143,
   "id": "6fa8cd76",
   "metadata": {
    "execution": {
     "iopub.execute_input": "2023-08-13T00:57:57.855015Z",
     "iopub.status.busy": "2023-08-13T00:57:57.854349Z",
     "iopub.status.idle": "2023-08-13T00:57:57.858917Z",
     "shell.execute_reply": "2023-08-13T00:57:57.857789Z"
    },
    "papermill": {
     "duration": 0.125208,
     "end_time": "2023-08-13T00:57:57.861309",
     "exception": false,
     "start_time": "2023-08-13T00:57:57.736101",
     "status": "completed"
    },
    "tags": []
   },
   "outputs": [],
   "source": [
    "# Try LightGBM with default settings\n",
    "# (Update): Public score only 0.77713. It was fast, took less than 5 mins (without GridSearchCV)\n",
    "\n",
    "# submit_v4(selected_model=ltb.LGBMClassifier(), selected_features=all_dict, param_grid=None)"
   ]
  },
  {
   "cell_type": "markdown",
   "id": "40919633",
   "metadata": {
    "papermill": {
     "duration": 0.115259,
     "end_time": "2023-08-13T00:57:58.097313",
     "exception": false,
     "start_time": "2023-08-13T00:57:57.982054",
     "status": "completed"
    },
    "tags": []
   },
   "source": [
    "## Feature Engineering"
   ]
  },
  {
   "cell_type": "markdown",
   "id": "36a6c809",
   "metadata": {
    "papermill": {
     "duration": 0.117665,
     "end_time": "2023-08-13T00:57:58.333639",
     "exception": false,
     "start_time": "2023-08-13T00:57:58.215974",
     "status": "completed"
    },
    "tags": []
   },
   "source": [
    "### Plan  \n",
    "* Add a new column 'reviewWC' which has word count of 'reviewText'  \n",
    "    * Check if there is any relationship between 'reviewWC' and 'sentiment'\n",
    "* Work on vocabulary\n",
    "     * Use TfidfVectorizer and find out the vocabulary of 'reviewText' column for various ngrams\n",
    "     * Use RecursiveFeatureElimination (RFE) or RFECV to select 1000 top words/vocab for each ngram\n",
    "     * Use the final vocab (1000-3000 words) in the model and see how it performs compared to whole vocab\n",
    "\n",
    "`(Update): Code incorporated into the \"select_features\" function  `  \n",
    "`(Update): Many other new features incorporated into the \"select_features\" function too  `  \n",
    "\n"
   ]
  },
  {
   "cell_type": "markdown",
   "id": "56cc505e",
   "metadata": {
    "papermill": {
     "duration": 0.124325,
     "end_time": "2023-08-13T00:57:58.580622",
     "exception": false,
     "start_time": "2023-08-13T00:57:58.456297",
     "status": "completed"
    },
    "tags": []
   },
   "source": [
    "# Back to vocab after success of version 63  "
   ]
  },
  {
   "cell_type": "code",
   "execution_count": 144,
   "id": "64206f6b",
   "metadata": {
    "execution": {
     "iopub.execute_input": "2023-08-13T00:57:58.840092Z",
     "iopub.status.busy": "2023-08-13T00:57:58.839693Z",
     "iopub.status.idle": "2023-08-13T00:57:58.862989Z",
     "shell.execute_reply": "2023-08-13T00:57:58.861857Z"
    },
    "papermill": {
     "duration": 0.166341,
     "end_time": "2023-08-13T00:57:58.865282",
     "exception": false,
     "start_time": "2023-08-13T00:57:58.698941",
     "status": "completed"
    },
    "tags": []
   },
   "outputs": [],
   "source": [
    "def submit_v4(selected_model=LogisticRegression(C=1, solver='liblinear', max_iter=100000), \n",
    "              selected_features={'txt': ['reviewText']}, \n",
    "              param_grid=None,\n",
    "              vocab=None,\n",
    "              vocab_usage='tfidf',\n",
    "              strip_accents='unicode', \n",
    "              add_countvec=False):\n",
    "    \n",
    "    print(\"\\nRunning the submit_v4 function...\")\n",
    "    \n",
    "    # Fine tune selected_features\n",
    "    if add_countvec:\n",
    "        if 'txt' in selected_features.keys():\n",
    "            if \"reviewText_2\" not in selected_features['txt']:\n",
    "                selected_features['txt'].append('reviewText_2')\n",
    "    if vocab:\n",
    "        if 'txt' in selected_features.keys():\n",
    "            if \"reviewText_3\" not in selected_features['txt']:\n",
    "                selected_features['txt'].append('reviewText_3')\n",
    "    print(f\"\\nSelected features: {selected_features}\")\n",
    "\n",
    "    \n",
    "    \n",
    "    # Build Pipeline\n",
    "    pipe = build_pipeline(selected_model, selected_features, param_grid=param_grid, \n",
    "                          vocab=vocab, vocab_usage='tfidf', \n",
    "                          strip_accents=strip_accents, add_countvec=add_countvec)\n",
    "    print(pipe)\n",
    "\n",
    "    \n",
    "    \n",
    "    # Features list\n",
    "    features = []\n",
    "    for item in selected_features.values():\n",
    "        features.extend(item)\n",
    " \n",
    "\n",
    "    # Merge and preprocess train and movies data  \n",
    "    merged = select_features(load_csv(\"train\"), load_csv(\"movies\"), row_thresh_null=None)    # Decide if you want to drop any rows containing lot of nulls\n",
    "    # Impute missing numerical values  \n",
    "    # Simple Imputer for ['audienceScore', 'runtimeMinutes', 'boxOffice'] and 'releaseDate' columns\n",
    "    si = SimpleImputer(strategy='median')\n",
    "    merged[['audienceScore', 'runtimeMinutes', 'boxOffice']] = si.fit_transform(merged[['audienceScore', 'runtimeMinutes', 'boxOffice']])\n",
    "    merged['releaseDate'] = merged[\"releaseDate\"].fillna(merged[\"releaseDate\"].median())    \n",
    "    # Add new columns as needed  \n",
    "    if add_countvec:\n",
    "        merged['reviewText_2'] = merged['reviewText']\n",
    "    if vocab:\n",
    "        merged['reviewText_3'] = merged['reviewText']\n",
    "        \n",
    "    X_train = merged.drop(labels=\"sentiment\", axis=1)\n",
    "    y_train = merged[\"sentiment\"]\n",
    "\n",
    "    X_train = X_train[features]\n",
    "    \n",
    "    \n",
    "    # Check1\n",
    "    print(\"\\nCheck 1 complete.\")\n",
    "    print(f\"Shape of X_train: {X_train.shape}\")\n",
    "    print(f\"Features in X_train: {X_train.columns}\")\n",
    "#     print(X_train.head())\n",
    "    \n",
    "    \n",
    "    # Fit \n",
    "    print(\"\\nTraining started with full pipeline...\")\n",
    "    pipe.fit(X_train, y_train)\n",
    "    \n",
    "    # Check2\n",
    "    print(\"\\nCheck 2 complete.\")\n",
    "    print(\"Details of the best model using full pipeline (GridSearchCV) on X_train: \")\n",
    "    print(f\"Best Params: {pipe.best_params_}\")\n",
    "    print(f\"Best Score: {pipe.best_score_}\")\n",
    "    \n",
    "    print(predict_on_missing_review_data(pipe, features, merged))    # Function defined above\n",
    "    \n",
    "        \n",
    "    # Predict on test.csv file\n",
    "    \n",
    "    # Merge and preprocess test and movies data  \n",
    "    merged_test = select_features(load_csv(\"test\"), load_csv(\"movies\"))\n",
    "    # Transform ['audienceScore', 'runtimeMinutes', 'boxOffice'] columns in merged_test using 'si' fitted on 'merged' df  \n",
    "    merged_test[['audienceScore', 'runtimeMinutes', 'boxOffice']] = si.transform(merged_test[['audienceScore', 'runtimeMinutes', 'boxOffice']])\n",
    "    # Fill 'releaseDate' column in 'merged_test' df with median from the train (merged) df  \n",
    "    merged_test['releaseDate'] = merged_test[\"releaseDate\"].fillna(merged[\"releaseDate\"].median())\n",
    "    # Add new columns as needed \n",
    "    if add_countvec:\n",
    "        merged_test['reviewText_2'] = merged_test['reviewText']\n",
    "    if vocab:\n",
    "        merged_test['reviewText_3'] = merged_test['reviewText']\n",
    "        \n",
    "    X_test = merged_test.copy()\n",
    "\n",
    "    X_test = X_test[features]\n",
    "    \n",
    "    \n",
    "    # Check3\n",
    "    print(\"\\nCheck 3 complete.\")\n",
    "    print(f\"Shape of X_test: {X_test.shape}\")\n",
    "    print(f\"Features in X_test: {X_test.columns}\")\n",
    "#     print(X_test.head())\n",
    "    \n",
    "    y_pred = pipe.predict(X_test)\n",
    "    \n",
    "    # Check4\n",
    "    print(\"\\nCheck 4 complete.\")\n",
    "#     cv_results_df = pd.DataFrame(pipe.cv_results_)\n",
    "    print(\"Details of the best model using full pipeline (GridSearchCV) on X_train: \")\n",
    "    print(f\"Best Estimator: {pipe.best_estimator_}\")\n",
    "    print(f\"Best Params: {pipe.best_params_}\")\n",
    "    print(f\"Best Score: {pipe.best_score_}\")\n",
    "    print(f\"Best Index: {pipe.best_index_}\")\n",
    "    print(f\"Refit Time: {pipe.refit_time_}\")\n",
    "#     print(f\"Shape of CV results dataframe: {cv_results_df.shape}\")\n",
    "    \n",
    "    pred_df = pd.DataFrame(y_pred)\n",
    "    pred_df.columns = [\"sentiment\"]\n",
    "    pred_df.index.name = \"id\"\n",
    "    pred_df.to_csv(\"submission.csv\")\n",
    "    \n",
    "    print(\"\\nSuccessfully created the submission file!!!\")\n",
    "    \n",
    "    return pipe.cv_results_"
   ]
  },
  {
   "cell_type": "code",
   "execution_count": 145,
   "id": "a5020e66",
   "metadata": {
    "execution": {
     "iopub.execute_input": "2023-08-13T00:57:59.106066Z",
     "iopub.status.busy": "2023-08-13T00:57:59.105331Z",
     "iopub.status.idle": "2023-08-13T00:57:59.112513Z",
     "shell.execute_reply": "2023-08-13T00:57:59.111503Z"
    },
    "papermill": {
     "duration": 0.129054,
     "end_time": "2023-08-13T00:57:59.114690",
     "exception": false,
     "start_time": "2023-08-13T00:57:58.985636",
     "status": "completed"
    },
    "tags": []
   },
   "outputs": [
    {
     "data": {
      "text/plain": [
       "Index(['movieid', 'reviewerName', 'isFrequentReviewer', 'reviewText',\n",
       "       'sentiment', 'title', 'audienceScore', 'rating', 'ratingContents',\n",
       "       'releaseDateTheaters', 'releaseDateStreaming', 'runtimeMinutes',\n",
       "       'genre', 'originalLanguage', 'director', 'boxOffice', 'distributor',\n",
       "       'soundType', 'reviewYN', 'reviewWC', 'genreSorted', 'rcSorted',\n",
       "       'releaseDate', 'releaseYear', 'releaseMonth', 'releaseDiff'],\n",
       "      dtype='object')"
      ]
     },
     "execution_count": 145,
     "metadata": {},
     "output_type": "execute_result"
    }
   ],
   "source": [
    "merged.columns"
   ]
  },
  {
   "cell_type": "code",
   "execution_count": 146,
   "id": "cd3d18b3",
   "metadata": {
    "execution": {
     "iopub.execute_input": "2023-08-13T00:57:59.353582Z",
     "iopub.status.busy": "2023-08-13T00:57:59.352875Z",
     "iopub.status.idle": "2023-08-13T00:57:59.364537Z",
     "shell.execute_reply": "2023-08-13T00:57:59.363358Z"
    },
    "papermill": {
     "duration": 0.134656,
     "end_time": "2023-08-13T00:57:59.367818",
     "exception": false,
     "start_time": "2023-08-13T00:57:59.233162",
     "status": "completed"
    },
    "tags": []
   },
   "outputs": [],
   "source": [
    "# Best #2\n",
    "v80_dict = {'cat': ['isFrequentReviewer', 'audScoreBins', 'boxOfficeBins'], \n",
    "                  'txt': ['reviewText', 'reviewerName', 'movieid', 'genre', 'director', \n",
    "                          'ratingContents', 'distributor']}\n",
    "# Best #1\n",
    "v88_dict = {'cat': ['isFrequentReviewer', 'audScoreBins', 'boxOfficeBins'],\n",
    "            'num': ['releaseDiff'],\n",
    "            'txt': ['reviewText', 'reviewerName', 'movieid', 'genre', 'director', \n",
    "                         'ratingContents', 'distributor']}\n",
    "\n",
    "v92_dict = {'cat': ['isFrequentReviewer', 'audScoreBins', 'boxOfficeBins', 'releaseDiffBins'],\n",
    "            'txt': ['reviewText', 'reviewerName', 'title', 'genre', 'director', \n",
    "                         'ratingContents', 'distributor']}\n",
    "\n",
    "# Best univariable datapoints dict\n",
    "best_uni_dict = {'cat': [\"isFrequentReviewer\", \"audScoreBins\"],\n",
    "                 'txt': ['reviewText','movieid', 'director', \"ratingContents\"]}\n",
    "\n",
    "# param_grids for LogisticRegression  \n",
    "\n",
    "# Best #1  \n",
    "# param_grid = {\n",
    "#     'model__C' : [1],\n",
    "#     'model__solver': ['saga'],\n",
    "#     \"model__fit_intercept\" : [True],\n",
    "#     \"model__dual\" : [False]\n",
    "#     }\n",
    "\n",
    "# working\n",
    "param_grid = {\n",
    "    'model__C' : [1],\n",
    "    'model__solver': ['saga'],\n",
    "    \"model__fit_intercept\" : [True],\n",
    "    \"model__dual\" : [False],\n",
    "#     \"model__class_weight\": ['balanced', None]\n",
    "}\n",
    "\n",
    "\n",
    "# param_grids for LinearSVC  \n",
    "\n",
    "# param_grid = {\n",
    "#     'model__C' : [1, 10, 20],\n",
    "#     'model__loss': ['hinge', 'squared_hinge'],\n",
    "#     \"model__fit_intercept\" : [True, False],\n",
    "# #     \"model__dual\" : [True, False] \n",
    "# }\n",
    "\n",
    "svm = LinearSVC(max_iter=10000, random_state=42)    # LinearSVC\n",
    "\n",
    "\n",
    "# Local testing\n",
    "# selected_mov = {'num': ['audienceScore', 'boxOffice', 'releaseDiff'], \n",
    "#                 'txt': ['movieid', 'genre', 'director', \n",
    "#                          'ratingContents', 'distributor']}\n",
    "# results = submit_v4(\n",
    "#             selected_features={'num': ['boxOffice']},\n",
    "#             add_countvec=False,\n",
    "#             vocab=None,\n",
    "#             vocab_usage='tfidf',\n",
    "#             param_grid=param_grid\n",
    "#          )\n",
    "\n",
    "# results = submit_v4(selected_model = DummyClassifier(strategy='constant', constant='NEGATIVE'),\n",
    "#             selected_features={'num': ['boxOffice']},\n",
    "#             add_countvec=False,\n",
    "#             vocab=None,\n",
    "#             vocab_usage='tfidf',\n",
    "#             param_grid={'model__strategy' : ['constant']}\n",
    "#          )\n",
    "\n",
    "# Main submission\n",
    "\n",
    "# results = submit_v4(\n",
    "#     selected_features=v88_dict,\n",
    "#     add_countvec=False,\n",
    "#     vocab=common_1_2_3_grams,\n",
    "#     vocab_usage='tfidf',\n",
    "#     param_grid=param_grid\n",
    "#     )\n",
    "\n",
    "# results"
   ]
  },
  {
   "cell_type": "markdown",
   "id": "3f05a1f9",
   "metadata": {
    "papermill": {
     "duration": 0.116144,
     "end_time": "2023-08-13T00:57:59.604733",
     "exception": false,
     "start_time": "2023-08-13T00:57:59.488589",
     "status": "completed"
    },
    "tags": []
   },
   "source": [
    "### ratingContents analysis  "
   ]
  },
  {
   "cell_type": "code",
   "execution_count": 147,
   "id": "31c79526",
   "metadata": {
    "execution": {
     "iopub.execute_input": "2023-08-13T00:57:59.843719Z",
     "iopub.status.busy": "2023-08-13T00:57:59.843004Z",
     "iopub.status.idle": "2023-08-13T00:57:59.847431Z",
     "shell.execute_reply": "2023-08-13T00:57:59.846706Z"
    },
    "papermill": {
     "duration": 0.12627,
     "end_time": "2023-08-13T00:57:59.849610",
     "exception": false,
     "start_time": "2023-08-13T00:57:59.723340",
     "status": "completed"
    },
    "tags": []
   },
   "outputs": [],
   "source": [
    "# Try string split  \n",
    "# s = \"comedy, animation, adventure, fantasy\"\n",
    "# (\",\").join(sorted(s.split(\", \")))"
   ]
  },
  {
   "cell_type": "code",
   "execution_count": 148,
   "id": "faca41bc",
   "metadata": {
    "execution": {
     "iopub.execute_input": "2023-08-13T00:58:00.089754Z",
     "iopub.status.busy": "2023-08-13T00:58:00.089003Z",
     "iopub.status.idle": "2023-08-13T00:58:00.094436Z",
     "shell.execute_reply": "2023-08-13T00:58:00.093547Z"
    },
    "papermill": {
     "duration": 0.129396,
     "end_time": "2023-08-13T00:58:00.096775",
     "exception": false,
     "start_time": "2023-08-13T00:57:59.967379",
     "status": "completed"
    },
    "tags": []
   },
   "outputs": [],
   "source": [
    "# ratingContents_analysis = merged[[\"ratingContents\", \"sentiment\"]].copy()\n",
    "# print(ratingContents_analysis.head())\n",
    "# ratingContents_analysis[\"rcSorted\"] = ratingContents_analysis[\"ratingContents\"].apply(lambda x: (\",\").join(sorted(x.strip(\"][\").split(\", \"))))\n",
    "# ratingContents_analysis[\"rcSorted\"] = ratingContents_analysis[\"rcSorted\"].apply(lambda x: re.sub(r\"'\", \"\", x))\n",
    "# ratingContents_analysis[\"rcSorted\"] = ratingContents_analysis[\"rcSorted\"].apply(lambda x: re.sub(r\"[/\\s]\", \"_\", x))\n",
    "# ratingContents_analysis.head(10)"
   ]
  },
  {
   "cell_type": "code",
   "execution_count": 149,
   "id": "7adcfb7d",
   "metadata": {
    "execution": {
     "iopub.execute_input": "2023-08-13T00:58:00.335951Z",
     "iopub.status.busy": "2023-08-13T00:58:00.335575Z",
     "iopub.status.idle": "2023-08-13T00:58:00.340180Z",
     "shell.execute_reply": "2023-08-13T00:58:00.338978Z"
    },
    "papermill": {
     "duration": 0.127643,
     "end_time": "2023-08-13T00:58:00.342641",
     "exception": false,
     "start_time": "2023-08-13T00:58:00.214998",
     "status": "completed"
    },
    "tags": []
   },
   "outputs": [],
   "source": [
    "# cvec_rc = CountVectorizer(ngram_range=(1,1))\n",
    "# cvec_rc.fit(ratingContents_analysis['rcSorted'])\n",
    "# # len(cvec_rc.vocabulary_), cvec_rc.vocabulary_"
   ]
  },
  {
   "cell_type": "code",
   "execution_count": 150,
   "id": "42602103",
   "metadata": {
    "execution": {
     "iopub.execute_input": "2023-08-13T00:58:00.583038Z",
     "iopub.status.busy": "2023-08-13T00:58:00.582466Z",
     "iopub.status.idle": "2023-08-13T00:58:00.587812Z",
     "shell.execute_reply": "2023-08-13T00:58:00.586475Z"
    },
    "papermill": {
     "duration": 0.128459,
     "end_time": "2023-08-13T00:58:00.590159",
     "exception": false,
     "start_time": "2023-08-13T00:58:00.461700",
     "status": "completed"
    },
    "tags": []
   },
   "outputs": [],
   "source": [
    "# genre_testing = cvec_g.transform(merged[\"genre\"])\n",
    "# print(genre_testing)"
   ]
  },
  {
   "cell_type": "markdown",
   "id": "2b8c283f",
   "metadata": {
    "papermill": {
     "duration": 0.12,
     "end_time": "2023-08-13T00:58:00.832803",
     "exception": false,
     "start_time": "2023-08-13T00:58:00.712803",
     "status": "completed"
    },
    "tags": []
   },
   "source": [
    "## Statistical tests  "
   ]
  },
  {
   "cell_type": "markdown",
   "id": "9b67f053",
   "metadata": {
    "papermill": {
     "duration": 0.119577,
     "end_time": "2023-08-13T00:58:01.142796",
     "exception": false,
     "start_time": "2023-08-13T00:58:01.023219",
     "status": "completed"
    },
    "tags": []
   },
   "source": [
    "[Go to genre](#genre_analysis)"
   ]
  },
  {
   "cell_type": "code",
   "execution_count": 151,
   "id": "ce638ff7",
   "metadata": {
    "execution": {
     "iopub.execute_input": "2023-08-13T00:58:01.386437Z",
     "iopub.status.busy": "2023-08-13T00:58:01.386007Z",
     "iopub.status.idle": "2023-08-13T00:58:01.391487Z",
     "shell.execute_reply": "2023-08-13T00:58:01.390152Z"
    },
    "papermill": {
     "duration": 0.131795,
     "end_time": "2023-08-13T00:58:01.394502",
     "exception": false,
     "start_time": "2023-08-13T00:58:01.262707",
     "status": "completed"
    },
    "tags": []
   },
   "outputs": [],
   "source": [
    "# print(merged['boxOffice'].head())\n",
    "# merged[\"boxOffice\"].describe()"
   ]
  },
  {
   "cell_type": "code",
   "execution_count": 152,
   "id": "40a4611d",
   "metadata": {
    "execution": {
     "iopub.execute_input": "2023-08-13T00:58:01.637089Z",
     "iopub.status.busy": "2023-08-13T00:58:01.636703Z",
     "iopub.status.idle": "2023-08-13T00:58:01.642183Z",
     "shell.execute_reply": "2023-08-13T00:58:01.641076Z"
    },
    "papermill": {
     "duration": 0.128522,
     "end_time": "2023-08-13T00:58:01.644276",
     "exception": false,
     "start_time": "2023-08-13T00:58:01.515754",
     "status": "completed"
    },
    "tags": []
   },
   "outputs": [],
   "source": [
    "# Function for independent samples t-test on numerical columns  \n",
    "# def ttest_ind(feature):\n",
    "#     pos_grp = merged[feature].loc[merged['sentiment'] == \"POSITIVE\"]\n",
    "#     neg_grp = merged[feature].loc[merged['sentiment'] == \"NEGATIVE\"]\n",
    "\n",
    "#     print(pos_grp.shape, neg_grp.shape)\n",
    "#     print(pos_grp.describe(), neg_grp.describe())\n",
    "\n",
    "#     return stats.ttest_ind(pos_grp, neg_grp)"
   ]
  },
  {
   "cell_type": "code",
   "execution_count": 153,
   "id": "4f9c7ae9",
   "metadata": {
    "execution": {
     "iopub.execute_input": "2023-08-13T00:58:01.881565Z",
     "iopub.status.busy": "2023-08-13T00:58:01.880855Z",
     "iopub.status.idle": "2023-08-13T00:58:01.884861Z",
     "shell.execute_reply": "2023-08-13T00:58:01.884118Z"
    },
    "papermill": {
     "duration": 0.125935,
     "end_time": "2023-08-13T00:58:01.887410",
     "exception": false,
     "start_time": "2023-08-13T00:58:01.761475",
     "status": "completed"
    },
    "tags": []
   },
   "outputs": [],
   "source": [
    "# ttest_ind('boxOffice')"
   ]
  },
  {
   "cell_type": "code",
   "execution_count": 154,
   "id": "6d0ff9fd",
   "metadata": {
    "execution": {
     "iopub.execute_input": "2023-08-13T00:58:02.126204Z",
     "iopub.status.busy": "2023-08-13T00:58:02.125440Z",
     "iopub.status.idle": "2023-08-13T00:58:02.129860Z",
     "shell.execute_reply": "2023-08-13T00:58:02.128981Z"
    },
    "papermill": {
     "duration": 0.124051,
     "end_time": "2023-08-13T00:58:02.132067",
     "exception": false,
     "start_time": "2023-08-13T00:58:02.008016",
     "status": "completed"
    },
    "tags": []
   },
   "outputs": [],
   "source": [
    "# ttest_ind('runtimeMinutes')"
   ]
  },
  {
   "cell_type": "code",
   "execution_count": 155,
   "id": "775d4e6c",
   "metadata": {
    "execution": {
     "iopub.execute_input": "2023-08-13T00:58:02.370556Z",
     "iopub.status.busy": "2023-08-13T00:58:02.369628Z",
     "iopub.status.idle": "2023-08-13T00:58:02.374157Z",
     "shell.execute_reply": "2023-08-13T00:58:02.373189Z"
    },
    "papermill": {
     "duration": 0.12425,
     "end_time": "2023-08-13T00:58:02.376188",
     "exception": false,
     "start_time": "2023-08-13T00:58:02.251938",
     "status": "completed"
    },
    "tags": []
   },
   "outputs": [],
   "source": [
    "# ttest_ind('audienceScore')"
   ]
  },
  {
   "cell_type": "code",
   "execution_count": 156,
   "id": "9c8af377",
   "metadata": {
    "execution": {
     "iopub.execute_input": "2023-08-13T00:58:02.610351Z",
     "iopub.status.busy": "2023-08-13T00:58:02.609784Z",
     "iopub.status.idle": "2023-08-13T00:58:02.614026Z",
     "shell.execute_reply": "2023-08-13T00:58:02.612949Z"
    },
    "papermill": {
     "duration": 0.123681,
     "end_time": "2023-08-13T00:58:02.616392",
     "exception": false,
     "start_time": "2023-08-13T00:58:02.492711",
     "status": "completed"
    },
    "tags": []
   },
   "outputs": [],
   "source": [
    "# sns.boxplot(x=merged['sentiment'], y=merged['boxOffice'])"
   ]
  },
  {
   "cell_type": "markdown",
   "id": "404c7826",
   "metadata": {
    "papermill": {
     "duration": 0.115206,
     "end_time": "2023-08-13T00:58:02.847810",
     "exception": false,
     "start_time": "2023-08-13T00:58:02.732604",
     "status": "completed"
    },
    "tags": []
   },
   "source": [
    "## <div id='genre_analysis'>Genre analysis</div>"
   ]
  },
  {
   "cell_type": "code",
   "execution_count": 157,
   "id": "a0c039da",
   "metadata": {
    "execution": {
     "iopub.execute_input": "2023-08-13T00:58:03.080999Z",
     "iopub.status.busy": "2023-08-13T00:58:03.080332Z",
     "iopub.status.idle": "2023-08-13T00:58:03.085155Z",
     "shell.execute_reply": "2023-08-13T00:58:03.084203Z"
    },
    "papermill": {
     "duration": 0.124136,
     "end_time": "2023-08-13T00:58:03.087775",
     "exception": false,
     "start_time": "2023-08-13T00:58:02.963639",
     "status": "completed"
    },
    "tags": []
   },
   "outputs": [],
   "source": [
    "# genre_analysis = merged[[\"genre\", \"genreSorted\", \"sentiment\"]].copy()\n",
    "# # print(genre_analysis.head())\n",
    "# # genre_analysis[\"genre\"] = genre_analysis[\"genre\"].apply(lambda x: (\",\").join(sorted(x.split(\", \"))))\n",
    "# genre_analysis.head()"
   ]
  },
  {
   "cell_type": "code",
   "execution_count": 158,
   "id": "a3bd777f",
   "metadata": {
    "execution": {
     "iopub.execute_input": "2023-08-13T00:58:03.321466Z",
     "iopub.status.busy": "2023-08-13T00:58:03.320752Z",
     "iopub.status.idle": "2023-08-13T00:58:03.325138Z",
     "shell.execute_reply": "2023-08-13T00:58:03.324404Z"
    },
    "papermill": {
     "duration": 0.12488,
     "end_time": "2023-08-13T00:58:03.327276",
     "exception": false,
     "start_time": "2023-08-13T00:58:03.202396",
     "status": "completed"
    },
    "tags": []
   },
   "outputs": [],
   "source": [
    "# cvec_g = CountVectorizer(ngram_range=(1,3))\n",
    "# cvec_g.fit(genre_analysis['genre'])\n",
    "# # len(cvec_g.vocabulary_), cvec_g.vocabulary_"
   ]
  },
  {
   "cell_type": "code",
   "execution_count": 159,
   "id": "7a81ff66",
   "metadata": {
    "execution": {
     "iopub.execute_input": "2023-08-13T00:58:03.560561Z",
     "iopub.status.busy": "2023-08-13T00:58:03.559740Z",
     "iopub.status.idle": "2023-08-13T00:58:03.565632Z",
     "shell.execute_reply": "2023-08-13T00:58:03.564613Z"
    },
    "papermill": {
     "duration": 0.125687,
     "end_time": "2023-08-13T00:58:03.568453",
     "exception": false,
     "start_time": "2023-08-13T00:58:03.442766",
     "status": "completed"
    },
    "tags": []
   },
   "outputs": [],
   "source": [
    "# cvec_gSorted = CountVectorizer(ngram_range=(1,3))\n",
    "# cvec_gSorted.fit(genre_analysis['genreSorted'])\n",
    "# len(cvec_gSorted.vocabulary_), cvec_gSorted.vocabulary_"
   ]
  },
  {
   "cell_type": "code",
   "execution_count": 160,
   "id": "7e05bcea",
   "metadata": {
    "execution": {
     "iopub.execute_input": "2023-08-13T00:58:03.806482Z",
     "iopub.status.busy": "2023-08-13T00:58:03.805141Z",
     "iopub.status.idle": "2023-08-13T00:58:03.811252Z",
     "shell.execute_reply": "2023-08-13T00:58:03.810359Z"
    },
    "papermill": {
     "duration": 0.128871,
     "end_time": "2023-08-13T00:58:03.813686",
     "exception": false,
     "start_time": "2023-08-13T00:58:03.684815",
     "status": "completed"
    },
    "tags": []
   },
   "outputs": [],
   "source": [
    "# genre_testing = cvec_g.transform(merged[\"genre\"])\n",
    "# # print(genre_testing)"
   ]
  },
  {
   "cell_type": "code",
   "execution_count": 161,
   "id": "106dcf97",
   "metadata": {
    "execution": {
     "iopub.execute_input": "2023-08-13T00:58:04.047565Z",
     "iopub.status.busy": "2023-08-13T00:58:04.046805Z",
     "iopub.status.idle": "2023-08-13T00:58:04.051279Z",
     "shell.execute_reply": "2023-08-13T00:58:04.050583Z"
    },
    "papermill": {
     "duration": 0.124018,
     "end_time": "2023-08-13T00:58:04.053411",
     "exception": false,
     "start_time": "2023-08-13T00:58:03.929393",
     "status": "completed"
    },
    "tags": []
   },
   "outputs": [],
   "source": [
    "# genre_counts_testing = merged[[\"genre\", \"sentiment\"]].copy()\n",
    "# genre_counts_testing[\"gCount\"] = genre_counts_testing.apply(lambda x: len(str(x[\"genre\"]).split()), axis=1)\n",
    "# genre_counts_testing"
   ]
  },
  {
   "cell_type": "code",
   "execution_count": 162,
   "id": "d2f12f63",
   "metadata": {
    "execution": {
     "iopub.execute_input": "2023-08-13T00:58:04.300310Z",
     "iopub.status.busy": "2023-08-13T00:58:04.299557Z",
     "iopub.status.idle": "2023-08-13T00:58:04.304413Z",
     "shell.execute_reply": "2023-08-13T00:58:04.303596Z"
    },
    "papermill": {
     "duration": 0.131208,
     "end_time": "2023-08-13T00:58:04.307358",
     "exception": false,
     "start_time": "2023-08-13T00:58:04.176150",
     "status": "completed"
    },
    "tags": []
   },
   "outputs": [],
   "source": [
    "# sns.boxplot(y=genre_counts_testing[\"gCount\"], x=genre_counts_testing[\"sentiment\"])"
   ]
  },
  {
   "cell_type": "code",
   "execution_count": 163,
   "id": "5ba10fbe",
   "metadata": {
    "execution": {
     "iopub.execute_input": "2023-08-13T00:58:04.552211Z",
     "iopub.status.busy": "2023-08-13T00:58:04.551830Z",
     "iopub.status.idle": "2023-08-13T00:58:04.555915Z",
     "shell.execute_reply": "2023-08-13T00:58:04.555095Z"
    },
    "papermill": {
     "duration": 0.129886,
     "end_time": "2023-08-13T00:58:04.558011",
     "exception": false,
     "start_time": "2023-08-13T00:58:04.428125",
     "status": "completed"
    },
    "tags": []
   },
   "outputs": [],
   "source": [
    "# sns.boxplot(y=merged[\"reviewWC\"], x=merged[\"sentiment\"])"
   ]
  },
  {
   "cell_type": "code",
   "execution_count": 164,
   "id": "f7101c91",
   "metadata": {
    "execution": {
     "iopub.execute_input": "2023-08-13T00:58:04.805447Z",
     "iopub.status.busy": "2023-08-13T00:58:04.804636Z",
     "iopub.status.idle": "2023-08-13T00:58:04.809168Z",
     "shell.execute_reply": "2023-08-13T00:58:04.807950Z"
    },
    "papermill": {
     "duration": 0.130927,
     "end_time": "2023-08-13T00:58:04.811575",
     "exception": false,
     "start_time": "2023-08-13T00:58:04.680648",
     "status": "completed"
    },
    "tags": []
   },
   "outputs": [],
   "source": [
    "# audienceScore bins\n",
    "# asc = merged[['audienceScore', 'sentiment']].copy()\n",
    "# asc.head()"
   ]
  },
  {
   "cell_type": "code",
   "execution_count": 165,
   "id": "6a979db8",
   "metadata": {
    "execution": {
     "iopub.execute_input": "2023-08-13T00:58:05.051398Z",
     "iopub.status.busy": "2023-08-13T00:58:05.050595Z",
     "iopub.status.idle": "2023-08-13T00:58:05.054621Z",
     "shell.execute_reply": "2023-08-13T00:58:05.053829Z"
    },
    "papermill": {
     "duration": 0.12673,
     "end_time": "2023-08-13T00:58:05.056691",
     "exception": false,
     "start_time": "2023-08-13T00:58:04.929961",
     "status": "completed"
    },
    "tags": []
   },
   "outputs": [],
   "source": [
    "# Binning numerical features  \n",
    "\n",
    "# print(merged[\"runtimeBins\"].value_counts())\n",
    "# sns.displot(merged[\"runtimeBins\"])"
   ]
  },
  {
   "cell_type": "code",
   "execution_count": 166,
   "id": "83cfa3c0",
   "metadata": {
    "execution": {
     "iopub.execute_input": "2023-08-13T00:58:05.293261Z",
     "iopub.status.busy": "2023-08-13T00:58:05.292580Z",
     "iopub.status.idle": "2023-08-13T00:58:05.297475Z",
     "shell.execute_reply": "2023-08-13T00:58:05.296217Z"
    },
    "papermill": {
     "duration": 0.126669,
     "end_time": "2023-08-13T00:58:05.300603",
     "exception": false,
     "start_time": "2023-08-13T00:58:05.173934",
     "status": "completed"
    },
    "tags": []
   },
   "outputs": [],
   "source": [
    "# Chi-square test for isFrequentReviewer column and sentiment column   \n",
    "\n",
    "# contingency_table = pd.crosstab(traindf['isFrequentReviewer'], traindf['sentiment'])\n",
    "# print(contingency_table)\n",
    "# stats.chi2_contingency(contingency_table)"
   ]
  },
  {
   "cell_type": "markdown",
   "id": "d23f7098",
   "metadata": {
    "papermill": {
     "duration": 0.116089,
     "end_time": "2023-08-13T00:58:05.536080",
     "exception": false,
     "start_time": "2023-08-13T00:58:05.419991",
     "status": "completed"
    },
    "tags": []
   },
   "source": [
    "## Baseline performance of 'reviewText' column  "
   ]
  },
  {
   "cell_type": "code",
   "execution_count": 167,
   "id": "3153ef67",
   "metadata": {
    "execution": {
     "iopub.execute_input": "2023-08-13T00:58:05.771757Z",
     "iopub.status.busy": "2023-08-13T00:58:05.771383Z",
     "iopub.status.idle": "2023-08-13T00:58:05.775192Z",
     "shell.execute_reply": "2023-08-13T00:58:05.774323Z"
    },
    "papermill": {
     "duration": 0.126247,
     "end_time": "2023-08-13T00:58:05.777752",
     "exception": false,
     "start_time": "2023-08-13T00:58:05.651505",
     "status": "completed"
    },
    "tags": []
   },
   "outputs": [],
   "source": [
    "# rt_dict = {'txt': ['reviewText']}\n",
    "# rt_dict"
   ]
  },
  {
   "cell_type": "code",
   "execution_count": 168,
   "id": "967b901c",
   "metadata": {
    "execution": {
     "iopub.execute_input": "2023-08-13T00:58:06.021455Z",
     "iopub.status.busy": "2023-08-13T00:58:06.020737Z",
     "iopub.status.idle": "2023-08-13T00:58:06.025453Z",
     "shell.execute_reply": "2023-08-13T00:58:06.024428Z"
    },
    "papermill": {
     "duration": 0.130862,
     "end_time": "2023-08-13T00:58:06.027860",
     "exception": false,
     "start_time": "2023-08-13T00:58:05.896998",
     "status": "completed"
    },
    "tags": []
   },
   "outputs": [],
   "source": [
    "# submit_v4(selected_model=LogisticRegression(C=5, solver=\"saga\", max_iter=100000),\n",
    "#           selected_features=rt_dict,\n",
    "#           param_grid=None,\n",
    "#           vocab=None)"
   ]
  },
  {
   "cell_type": "markdown",
   "id": "ae0a8182",
   "metadata": {
    "papermill": {
     "duration": 0.119542,
     "end_time": "2023-08-13T00:58:06.264740",
     "exception": false,
     "start_time": "2023-08-13T00:58:06.145198",
     "status": "completed"
    },
    "tags": []
   },
   "source": [
    "## RFE  "
   ]
  },
  {
   "cell_type": "code",
   "execution_count": 169,
   "id": "51a4bf81",
   "metadata": {
    "execution": {
     "iopub.execute_input": "2023-08-13T00:58:06.584347Z",
     "iopub.status.busy": "2023-08-13T00:58:06.583649Z",
     "iopub.status.idle": "2023-08-13T00:58:06.588479Z",
     "shell.execute_reply": "2023-08-13T00:58:06.587720Z"
    },
    "papermill": {
     "duration": 0.132919,
     "end_time": "2023-08-13T00:58:06.590808",
     "exception": false,
     "start_time": "2023-08-13T00:58:06.457889",
     "status": "completed"
    },
    "tags": []
   },
   "outputs": [],
   "source": [
    "# def fs_rfe(selector, text_df, labels, ngram_range=(1,1)):\n",
    "#     text_df_ngram = TfidfVectorizer(ngram_range=ngram_range, stop_words='english').fit_transform(text_df)\n",
    "#     print(\"text_df was vectorized using TF-IDF vectorizer with ngram_range: \", ngram_range)\n",
    "#     print(\"text_df.shape: \", text_df.shape)\n",
    "#     print(\"labels.shape: \", labels.shape)\n",
    "#     print(\"text_df_ngram.shape: \", text_df_ngram.shape)\n",
    "#     print()\n",
    "\n",
    "#     print(\"Starting RFE fit...\")\n",
    "#     selector.fit(text_df_ngram, labels)\n",
    "#     print(\"RFE fit complete.\\n\")\n",
    "    \n",
    "#     print(\"selector.n_features_: \", selector.n_features_)   \n",
    "#     print(\"selector.n_features_in_: \", selector.n_features_in_)\n",
    "#     print(\"selector.support_.shape: \", selector.support_.shape)\n",
    "\n",
    "#     return selector.support_"
   ]
  },
  {
   "cell_type": "markdown",
   "id": "f9295946",
   "metadata": {
    "papermill": {
     "duration": 0.11791,
     "end_time": "2023-08-13T00:58:06.828929",
     "exception": false,
     "start_time": "2023-08-13T00:58:06.711019",
     "status": "completed"
    },
    "tags": []
   },
   "source": [
    "`RFE for unigrams`  "
   ]
  },
  {
   "cell_type": "code",
   "execution_count": 170,
   "id": "cb66271b",
   "metadata": {
    "execution": {
     "iopub.execute_input": "2023-08-13T00:58:07.068390Z",
     "iopub.status.busy": "2023-08-13T00:58:07.067647Z",
     "iopub.status.idle": "2023-08-13T00:58:07.072159Z",
     "shell.execute_reply": "2023-08-13T00:58:07.071434Z"
    },
    "papermill": {
     "duration": 0.126909,
     "end_time": "2023-08-13T00:58:07.074653",
     "exception": false,
     "start_time": "2023-08-13T00:58:06.947744",
     "status": "completed"
    },
    "tags": []
   },
   "outputs": [],
   "source": [
    "# estimator_rfe_1 = LogisticRegression(solver='saga', max_iter=100000)\n",
    "# selector_rfe_1 = RFE(estimator_rfe_1, step=0.1, n_features_to_select=30000)"
   ]
  },
  {
   "cell_type": "code",
   "execution_count": 171,
   "id": "37e25ac8",
   "metadata": {
    "execution": {
     "iopub.execute_input": "2023-08-13T00:58:07.314009Z",
     "iopub.status.busy": "2023-08-13T00:58:07.313082Z",
     "iopub.status.idle": "2023-08-13T00:58:07.317134Z",
     "shell.execute_reply": "2023-08-13T00:58:07.316378Z"
    },
    "papermill": {
     "duration": 0.126096,
     "end_time": "2023-08-13T00:58:07.319279",
     "exception": false,
     "start_time": "2023-08-13T00:58:07.193183",
     "status": "completed"
    },
    "tags": []
   },
   "outputs": [],
   "source": [
    "# rfe_1_feat_mask = fs_rfe(selector_rfe_1, rt_senti[\"reviewText\"], rt_senti[\"sentiment\"], ngram_range=(1,1))\n",
    "# rfe_1_feat_mask"
   ]
  },
  {
   "cell_type": "code",
   "execution_count": 172,
   "id": "f5fae8af",
   "metadata": {
    "execution": {
     "iopub.execute_input": "2023-08-13T00:58:07.557432Z",
     "iopub.status.busy": "2023-08-13T00:58:07.556730Z",
     "iopub.status.idle": "2023-08-13T00:58:07.561490Z",
     "shell.execute_reply": "2023-08-13T00:58:07.559828Z"
    },
    "papermill": {
     "duration": 0.126928,
     "end_time": "2023-08-13T00:58:07.564610",
     "exception": false,
     "start_time": "2023-08-13T00:58:07.437682",
     "status": "completed"
    },
    "tags": []
   },
   "outputs": [],
   "source": [
    "# voc_1gram_rfe = list(compress(voc_1gram, rfe_1_feat_mask))\n",
    "# len(voc_1gram_rfe), voc_1gram_rfe[:10]"
   ]
  },
  {
   "cell_type": "markdown",
   "id": "f2310f19",
   "metadata": {
    "papermill": {
     "duration": 0.119798,
     "end_time": "2023-08-13T00:58:07.806144",
     "exception": false,
     "start_time": "2023-08-13T00:58:07.686346",
     "status": "completed"
    },
    "tags": []
   },
   "source": [
    "`RFE for bigrams`  "
   ]
  },
  {
   "cell_type": "code",
   "execution_count": 173,
   "id": "058073d6",
   "metadata": {
    "execution": {
     "iopub.execute_input": "2023-08-13T00:58:08.040497Z",
     "iopub.status.busy": "2023-08-13T00:58:08.039382Z",
     "iopub.status.idle": "2023-08-13T00:58:08.045090Z",
     "shell.execute_reply": "2023-08-13T00:58:08.043989Z"
    },
    "papermill": {
     "duration": 0.123857,
     "end_time": "2023-08-13T00:58:08.047516",
     "exception": false,
     "start_time": "2023-08-13T00:58:07.923659",
     "status": "completed"
    },
    "tags": []
   },
   "outputs": [],
   "source": [
    "# estimator_rfe_2 = LogisticRegression(solver='saga', max_iter=100000)\n",
    "# selector_rfe_2 = RFE(estimator_rfe_2, step=0.1, n_features_to_select=50000)"
   ]
  },
  {
   "cell_type": "code",
   "execution_count": 174,
   "id": "2b3514f9",
   "metadata": {
    "execution": {
     "iopub.execute_input": "2023-08-13T00:58:08.283897Z",
     "iopub.status.busy": "2023-08-13T00:58:08.283212Z",
     "iopub.status.idle": "2023-08-13T00:58:08.289287Z",
     "shell.execute_reply": "2023-08-13T00:58:08.288147Z"
    },
    "papermill": {
     "duration": 0.127167,
     "end_time": "2023-08-13T00:58:08.291880",
     "exception": false,
     "start_time": "2023-08-13T00:58:08.164713",
     "status": "completed"
    },
    "tags": []
   },
   "outputs": [],
   "source": [
    "# rfe_2_feat_mask = fs_rfe(selector_rfe_2, rt_senti[\"reviewText\"], rt_senti[\"sentiment\"], ngram_range=(2,2))\n",
    "# rfe_2_feat_mask"
   ]
  },
  {
   "cell_type": "code",
   "execution_count": 175,
   "id": "5f2da637",
   "metadata": {
    "execution": {
     "iopub.execute_input": "2023-08-13T00:58:08.528574Z",
     "iopub.status.busy": "2023-08-13T00:58:08.528137Z",
     "iopub.status.idle": "2023-08-13T00:58:08.532224Z",
     "shell.execute_reply": "2023-08-13T00:58:08.531414Z"
    },
    "papermill": {
     "duration": 0.125641,
     "end_time": "2023-08-13T00:58:08.534451",
     "exception": false,
     "start_time": "2023-08-13T00:58:08.408810",
     "status": "completed"
    },
    "tags": []
   },
   "outputs": [],
   "source": [
    "# voc_2gram_rfe = list(compress(voc_2gram, rfe_2_feat_mask))\n",
    "# len(voc_2gram_rfe), voc_2gram_rfe[:10]"
   ]
  },
  {
   "cell_type": "markdown",
   "id": "8d56185a",
   "metadata": {
    "papermill": {
     "duration": 0.134237,
     "end_time": "2023-08-13T00:58:08.791313",
     "exception": false,
     "start_time": "2023-08-13T00:58:08.657076",
     "status": "completed"
    },
    "tags": []
   },
   "source": [
    "## Final RFE-derived vocabulary  "
   ]
  },
  {
   "cell_type": "code",
   "execution_count": 176,
   "id": "36da085c",
   "metadata": {
    "execution": {
     "iopub.execute_input": "2023-08-13T00:58:09.030043Z",
     "iopub.status.busy": "2023-08-13T00:58:09.029603Z",
     "iopub.status.idle": "2023-08-13T00:58:09.034471Z",
     "shell.execute_reply": "2023-08-13T00:58:09.033358Z"
    },
    "papermill": {
     "duration": 0.125131,
     "end_time": "2023-08-13T00:58:09.036950",
     "exception": false,
     "start_time": "2023-08-13T00:58:08.911819",
     "status": "completed"
    },
    "tags": []
   },
   "outputs": [],
   "source": [
    "# rfe_vocab = voc_1gram_rfe + voc_2gram_rfe\n",
    "# len(rfe_vocab), rfe_vocab[:10], rfe_vocab[-10:]"
   ]
  },
  {
   "cell_type": "code",
   "execution_count": 177,
   "id": "c67d053e",
   "metadata": {
    "execution": {
     "iopub.execute_input": "2023-08-13T00:58:09.272118Z",
     "iopub.status.busy": "2023-08-13T00:58:09.271712Z",
     "iopub.status.idle": "2023-08-13T00:58:09.276051Z",
     "shell.execute_reply": "2023-08-13T00:58:09.274995Z"
    },
    "papermill": {
     "duration": 0.125411,
     "end_time": "2023-08-13T00:58:09.278255",
     "exception": false,
     "start_time": "2023-08-13T00:58:09.152844",
     "status": "completed"
    },
    "tags": []
   },
   "outputs": [],
   "source": [
    "## Test RFE obtained vocabulary in final pipeline (only with reviewText)  \n",
    "# submit_v4(selected_model=LogisticRegression(C=5, solver=\"saga\", max_iter=100000),\n",
    "#           selected_features=rt_dict,\n",
    "#           param_grid=None,\n",
    "#           vocab=rfe_vocab)"
   ]
  },
  {
   "cell_type": "markdown",
   "id": "a5ccc062",
   "metadata": {
    "papermill": {
     "duration": 0.118629,
     "end_time": "2023-08-13T00:58:09.517754",
     "exception": false,
     "start_time": "2023-08-13T00:58:09.399125",
     "status": "completed"
    },
    "tags": []
   },
   "source": [
    "## Use rfe_vocab in final pipeline with all params  "
   ]
  },
  {
   "cell_type": "code",
   "execution_count": 178,
   "id": "5b0a4a06",
   "metadata": {
    "execution": {
     "iopub.execute_input": "2023-08-13T00:58:09.755350Z",
     "iopub.status.busy": "2023-08-13T00:58:09.754671Z",
     "iopub.status.idle": "2023-08-13T00:58:09.759287Z",
     "shell.execute_reply": "2023-08-13T00:58:09.758551Z"
    },
    "papermill": {
     "duration": 0.123834,
     "end_time": "2023-08-13T00:58:09.761509",
     "exception": false,
     "start_time": "2023-08-13T00:58:09.637675",
     "status": "completed"
    },
    "tags": []
   },
   "outputs": [],
   "source": [
    "# submit_v4(selected_model=LogisticRegression(max_iter=100000),\n",
    "#           selected_features=all_dict,\n",
    "#           param_grid=param_grid,\n",
    "#           vocab=rfe_vocab)"
   ]
  },
  {
   "cell_type": "code",
   "execution_count": 179,
   "id": "1f02f209",
   "metadata": {
    "execution": {
     "iopub.execute_input": "2023-08-13T00:58:10.003069Z",
     "iopub.status.busy": "2023-08-13T00:58:10.002402Z",
     "iopub.status.idle": "2023-08-13T00:58:10.014622Z",
     "shell.execute_reply": "2023-08-13T00:58:10.013566Z"
    },
    "papermill": {
     "duration": 0.132899,
     "end_time": "2023-08-13T00:58:10.016781",
     "exception": false,
     "start_time": "2023-08-13T00:58:09.883882",
     "status": "completed"
    },
    "tags": []
   },
   "outputs": [
    {
     "data": {
      "text/html": [
       "<style>#sk-container-id-1 {color: black;background-color: white;}#sk-container-id-1 pre{padding: 0;}#sk-container-id-1 div.sk-toggleable {background-color: white;}#sk-container-id-1 label.sk-toggleable__label {cursor: pointer;display: block;width: 100%;margin-bottom: 0;padding: 0.3em;box-sizing: border-box;text-align: center;}#sk-container-id-1 label.sk-toggleable__label-arrow:before {content: \"▸\";float: left;margin-right: 0.25em;color: #696969;}#sk-container-id-1 label.sk-toggleable__label-arrow:hover:before {color: black;}#sk-container-id-1 div.sk-estimator:hover label.sk-toggleable__label-arrow:before {color: black;}#sk-container-id-1 div.sk-toggleable__content {max-height: 0;max-width: 0;overflow: hidden;text-align: left;background-color: #f0f8ff;}#sk-container-id-1 div.sk-toggleable__content pre {margin: 0.2em;color: black;border-radius: 0.25em;background-color: #f0f8ff;}#sk-container-id-1 input.sk-toggleable__control:checked~div.sk-toggleable__content {max-height: 200px;max-width: 100%;overflow: auto;}#sk-container-id-1 input.sk-toggleable__control:checked~label.sk-toggleable__label-arrow:before {content: \"▾\";}#sk-container-id-1 div.sk-estimator input.sk-toggleable__control:checked~label.sk-toggleable__label {background-color: #d4ebff;}#sk-container-id-1 div.sk-label input.sk-toggleable__control:checked~label.sk-toggleable__label {background-color: #d4ebff;}#sk-container-id-1 input.sk-hidden--visually {border: 0;clip: rect(1px 1px 1px 1px);clip: rect(1px, 1px, 1px, 1px);height: 1px;margin: -1px;overflow: hidden;padding: 0;position: absolute;width: 1px;}#sk-container-id-1 div.sk-estimator {font-family: monospace;background-color: #f0f8ff;border: 1px dotted black;border-radius: 0.25em;box-sizing: border-box;margin-bottom: 0.5em;}#sk-container-id-1 div.sk-estimator:hover {background-color: #d4ebff;}#sk-container-id-1 div.sk-parallel-item::after {content: \"\";width: 100%;border-bottom: 1px solid gray;flex-grow: 1;}#sk-container-id-1 div.sk-label:hover label.sk-toggleable__label {background-color: #d4ebff;}#sk-container-id-1 div.sk-serial::before {content: \"\";position: absolute;border-left: 1px solid gray;box-sizing: border-box;top: 0;bottom: 0;left: 50%;z-index: 0;}#sk-container-id-1 div.sk-serial {display: flex;flex-direction: column;align-items: center;background-color: white;padding-right: 0.2em;padding-left: 0.2em;position: relative;}#sk-container-id-1 div.sk-item {position: relative;z-index: 1;}#sk-container-id-1 div.sk-parallel {display: flex;align-items: stretch;justify-content: center;background-color: white;position: relative;}#sk-container-id-1 div.sk-item::before, #sk-container-id-1 div.sk-parallel-item::before {content: \"\";position: absolute;border-left: 1px solid gray;box-sizing: border-box;top: 0;bottom: 0;left: 50%;z-index: -1;}#sk-container-id-1 div.sk-parallel-item {display: flex;flex-direction: column;z-index: 1;position: relative;background-color: white;}#sk-container-id-1 div.sk-parallel-item:first-child::after {align-self: flex-end;width: 50%;}#sk-container-id-1 div.sk-parallel-item:last-child::after {align-self: flex-start;width: 50%;}#sk-container-id-1 div.sk-parallel-item:only-child::after {width: 0;}#sk-container-id-1 div.sk-dashed-wrapped {border: 1px dashed gray;margin: 0 0.4em 0.5em 0.4em;box-sizing: border-box;padding-bottom: 0.4em;background-color: white;}#sk-container-id-1 div.sk-label label {font-family: monospace;font-weight: bold;display: inline-block;line-height: 1.2em;}#sk-container-id-1 div.sk-label-container {text-align: center;}#sk-container-id-1 div.sk-container {/* jupyter's `normalize.less` sets `[hidden] { display: none; }` but bootstrap.min.css set `[hidden] { display: none !important; }` so we also need the `!important` here to be able to override the default hidden behavior on the sphinx rendered scikit-learn.org. See: https://github.com/scikit-learn/scikit-learn/issues/21755 */display: inline-block !important;position: relative;}#sk-container-id-1 div.sk-text-repr-fallback {display: none;}</style><div id=\"sk-container-id-1\" class=\"sk-top-container\"><div class=\"sk-text-repr-fallback\"><pre>AdaBoostClassifier(estimator=LogisticRegression(C=5, max_iter=100000,\n",
       "                                                solver=&#x27;saga&#x27;))</pre><b>In a Jupyter environment, please rerun this cell to show the HTML representation or trust the notebook. <br />On GitHub, the HTML representation is unable to render, please try loading this page with nbviewer.org.</b></div><div class=\"sk-container\" hidden><div class=\"sk-item sk-dashed-wrapped\"><div class=\"sk-label-container\"><div class=\"sk-label sk-toggleable\"><input class=\"sk-toggleable__control sk-hidden--visually\" id=\"sk-estimator-id-1\" type=\"checkbox\" ><label for=\"sk-estimator-id-1\" class=\"sk-toggleable__label sk-toggleable__label-arrow\">AdaBoostClassifier</label><div class=\"sk-toggleable__content\"><pre>AdaBoostClassifier(estimator=LogisticRegression(C=5, max_iter=100000,\n",
       "                                                solver=&#x27;saga&#x27;))</pre></div></div></div><div class=\"sk-parallel\"><div class=\"sk-parallel-item\"><div class=\"sk-item\"><div class=\"sk-label-container\"><div class=\"sk-label sk-toggleable\"><input class=\"sk-toggleable__control sk-hidden--visually\" id=\"sk-estimator-id-2\" type=\"checkbox\" ><label for=\"sk-estimator-id-2\" class=\"sk-toggleable__label sk-toggleable__label-arrow\">estimator: LogisticRegression</label><div class=\"sk-toggleable__content\"><pre>LogisticRegression(C=5, max_iter=100000, solver=&#x27;saga&#x27;)</pre></div></div></div><div class=\"sk-serial\"><div class=\"sk-item\"><div class=\"sk-estimator sk-toggleable\"><input class=\"sk-toggleable__control sk-hidden--visually\" id=\"sk-estimator-id-3\" type=\"checkbox\" ><label for=\"sk-estimator-id-3\" class=\"sk-toggleable__label sk-toggleable__label-arrow\">LogisticRegression</label><div class=\"sk-toggleable__content\"><pre>LogisticRegression(C=5, max_iter=100000, solver=&#x27;saga&#x27;)</pre></div></div></div></div></div></div></div></div></div></div>"
      ],
      "text/plain": [
       "AdaBoostClassifier(estimator=LogisticRegression(C=5, max_iter=100000,\n",
       "                                                solver='saga'))"
      ]
     },
     "execution_count": 179,
     "metadata": {},
     "output_type": "execute_result"
    }
   ],
   "source": [
    "adc = AdaBoostClassifier(estimator=LogisticRegression(C=5, solver=\"saga\", max_iter=100000), n_estimators=50)\n",
    "adc"
   ]
  },
  {
   "cell_type": "code",
   "execution_count": 180,
   "id": "83f16ba3",
   "metadata": {
    "execution": {
     "iopub.execute_input": "2023-08-13T00:58:10.251917Z",
     "iopub.status.busy": "2023-08-13T00:58:10.251271Z",
     "iopub.status.idle": "2023-08-13T00:58:10.256117Z",
     "shell.execute_reply": "2023-08-13T00:58:10.254892Z"
    },
    "papermill": {
     "duration": 0.124701,
     "end_time": "2023-08-13T00:58:10.258916",
     "exception": false,
     "start_time": "2023-08-13T00:58:10.134215",
     "status": "completed"
    },
    "tags": []
   },
   "outputs": [],
   "source": [
    "# submit_v4(selected_model=adc,\n",
    "#           selected_features={'cat': ['isFrequentReviewer']},\n",
    "#           param_grid=None,\n",
    "#           vocab=rfe_vocab)"
   ]
  },
  {
   "cell_type": "code",
   "execution_count": 181,
   "id": "c40d49e3",
   "metadata": {
    "execution": {
     "iopub.execute_input": "2023-08-13T00:58:10.505195Z",
     "iopub.status.busy": "2023-08-13T00:58:10.504597Z",
     "iopub.status.idle": "2023-08-13T00:58:10.509240Z",
     "shell.execute_reply": "2023-08-13T00:58:10.508327Z"
    },
    "papermill": {
     "duration": 0.129094,
     "end_time": "2023-08-13T00:58:10.511443",
     "exception": false,
     "start_time": "2023-08-13T00:58:10.382349",
     "status": "completed"
    },
    "tags": []
   },
   "outputs": [],
   "source": [
    "# AdaBoost on all features with RFE vocab on reviewText\n",
    "\n",
    "# submit_v4(selected_model=adc,\n",
    "#           selected_features=all_dict,\n",
    "#           param_grid=None,\n",
    "#           vocab=rfe_vocab)"
   ]
  },
  {
   "cell_type": "code",
   "execution_count": 182,
   "id": "945330f7",
   "metadata": {
    "execution": {
     "iopub.execute_input": "2023-08-13T00:58:10.751194Z",
     "iopub.status.busy": "2023-08-13T00:58:10.750596Z",
     "iopub.status.idle": "2023-08-13T00:58:10.754990Z",
     "shell.execute_reply": "2023-08-13T00:58:10.754065Z"
    },
    "papermill": {
     "duration": 0.124886,
     "end_time": "2023-08-13T00:58:10.757106",
     "exception": false,
     "start_time": "2023-08-13T00:58:10.632220",
     "status": "completed"
    },
    "tags": []
   },
   "outputs": [],
   "source": [
    "# RandomForestClassifier test run on one feature\n",
    "\n",
    "# rfc_2 = RandomForestClassifier()\n",
    "# rfc_2"
   ]
  },
  {
   "cell_type": "code",
   "execution_count": 183,
   "id": "1ff19904",
   "metadata": {
    "execution": {
     "iopub.execute_input": "2023-08-13T00:58:10.997753Z",
     "iopub.status.busy": "2023-08-13T00:58:10.997128Z",
     "iopub.status.idle": "2023-08-13T00:58:11.000830Z",
     "shell.execute_reply": "2023-08-13T00:58:11.000073Z"
    },
    "papermill": {
     "duration": 0.126623,
     "end_time": "2023-08-13T00:58:11.003463",
     "exception": false,
     "start_time": "2023-08-13T00:58:10.876840",
     "status": "completed"
    },
    "tags": []
   },
   "outputs": [],
   "source": [
    "# submit_v4(selected_model=rfc_2,\n",
    "#           selected_features={'txt': ['reviewerName']},\n",
    "#           param_grid=None,\n",
    "#           vocab=rfe_vocab)"
   ]
  },
  {
   "cell_type": "code",
   "execution_count": 184,
   "id": "23fdda05",
   "metadata": {
    "execution": {
     "iopub.execute_input": "2023-08-13T00:58:11.240319Z",
     "iopub.status.busy": "2023-08-13T00:58:11.239632Z",
     "iopub.status.idle": "2023-08-13T00:58:11.244169Z",
     "shell.execute_reply": "2023-08-13T00:58:11.242716Z"
    },
    "papermill": {
     "duration": 0.124765,
     "end_time": "2023-08-13T00:58:11.246681",
     "exception": false,
     "start_time": "2023-08-13T00:58:11.121916",
     "status": "completed"
    },
    "tags": []
   },
   "outputs": [],
   "source": [
    "# RandomForestClassifier on all features with RFE vocab on reviewText\n",
    "\n",
    "# submit_v4(selected_model=rfc_2,\n",
    "#           selected_features=all_dict,\n",
    "#           param_grid=None,\n",
    "#           vocab=rfe_vocab)"
   ]
  },
  {
   "cell_type": "markdown",
   "id": "1ee0aade",
   "metadata": {
    "papermill": {
     "duration": 0.116547,
     "end_time": "2023-08-13T00:58:11.481558",
     "exception": false,
     "start_time": "2023-08-13T00:58:11.365011",
     "status": "completed"
    },
    "tags": []
   },
   "source": [
    "## Submit_v2 for merged file models  "
   ]
  },
  {
   "cell_type": "code",
   "execution_count": 185,
   "id": "acf62137",
   "metadata": {
    "execution": {
     "iopub.execute_input": "2023-08-13T00:58:11.718750Z",
     "iopub.status.busy": "2023-08-13T00:58:11.718372Z",
     "iopub.status.idle": "2023-08-13T00:58:11.724231Z",
     "shell.execute_reply": "2023-08-13T00:58:11.723141Z"
    },
    "papermill": {
     "duration": 0.125536,
     "end_time": "2023-08-13T00:58:11.726446",
     "exception": false,
     "start_time": "2023-08-13T00:58:11.600910",
     "status": "completed"
    },
    "tags": []
   },
   "outputs": [],
   "source": [
    "# def submit_v2(selected_model=pipe_final, selected_features=None):\n",
    "#     '''\n",
    "#     Note that \"selected_preprocessor\" is already used within selected_model or pipeline\n",
    "#     '''\n",
    "#     # Retrain on the whole train.csv file  \n",
    "#     merged = select_features(load_csv(\"train\"), load_csv(\"movies\"))\n",
    "#     X_train = merged.drop(labels=\"sentiment\", axis=1)\n",
    "#     y_train = merged[\"sentiment\"]\n",
    "    \n",
    "#     #Use selected features\n",
    "#     if selected_features:\n",
    "#         X_train = X_train[selected_features]\n",
    "    \n",
    "#     # Check1\n",
    "#     print(X_train.shape)\n",
    "#     print(X_train.head())\n",
    "#     try:\n",
    "#         print(selected_model.named_steps['model'].intercept_, selected_model.named_steps['model'].coef_)\n",
    "#     except:\n",
    "#         print(\"Model not trained yet!\")\n",
    "    \n",
    "#     # Fit \n",
    "#     selected_model.fit(X_train, y_train)\n",
    "    \n",
    "#     # Check2\n",
    "#     print(selected_model.named_steps['model'].intercept_, selected_model.named_steps['model'].coef_)\n",
    "    \n",
    "#     # Predict on test.csv file\n",
    "#     merged_test = select_features(load_csv(\"test\"), load_csv(\"movies\"))\n",
    "#     X_test = merged_test.copy()\n",
    "#     if selected_features:\n",
    "#         X_test = X_test[selected_features]\n",
    "    \n",
    "#     # Check3\n",
    "#     print(X_test.shape)\n",
    "#     print(X_test.head())\n",
    "    \n",
    "#     y_pred = selected_model.predict(X_test)\n",
    "    \n",
    "#     pred_df = pd.DataFrame(y_pred)\n",
    "#     pred_df.columns = [\"sentiment\"]\n",
    "#     pred_df.index.name = \"id\"\n",
    "#     pred_df.to_csv(\"submission.csv\")\n",
    "    \n",
    "#     return \"Successfully created the submission file!!!\""
   ]
  },
  {
   "cell_type": "code",
   "execution_count": 186,
   "id": "66627685",
   "metadata": {
    "execution": {
     "iopub.execute_input": "2023-08-13T00:58:11.962011Z",
     "iopub.status.busy": "2023-08-13T00:58:11.961631Z",
     "iopub.status.idle": "2023-08-13T00:58:11.966723Z",
     "shell.execute_reply": "2023-08-13T00:58:11.965073Z"
    },
    "papermill": {
     "duration": 0.127781,
     "end_time": "2023-08-13T00:58:11.969182",
     "exception": false,
     "start_time": "2023-08-13T00:58:11.841401",
     "status": "completed"
    },
    "tags": []
   },
   "outputs": [],
   "source": [
    "#     X_test = merged_test.copy()\n",
    "    \n",
    "#     y_pred = pipe_best4.predict(X_test)\n",
    "# #     np.unique(y_pred, return_counts=True)\n",
    "#     pred_df = pd.DataFrame(y_pred)\n",
    "#     pred_df.columns = [\"sentiment\"]\n",
    "#     pred_df.index.name = \"id\"\n",
    "#     pred_df.value_counts()"
   ]
  },
  {
   "cell_type": "code",
   "execution_count": 187,
   "id": "8b920089",
   "metadata": {
    "execution": {
     "iopub.execute_input": "2023-08-13T00:58:12.276732Z",
     "iopub.status.busy": "2023-08-13T00:58:12.276322Z",
     "iopub.status.idle": "2023-08-13T00:58:12.281181Z",
     "shell.execute_reply": "2023-08-13T00:58:12.279914Z"
    },
    "papermill": {
     "duration": 0.196201,
     "end_time": "2023-08-13T00:58:12.285582",
     "exception": false,
     "start_time": "2023-08-13T00:58:12.089381",
     "status": "completed"
    },
    "tags": []
   },
   "outputs": [],
   "source": [
    "# X_test.columns"
   ]
  },
  {
   "cell_type": "markdown",
   "id": "931c93af",
   "metadata": {
    "papermill": {
     "duration": 0.11808,
     "end_time": "2023-08-13T00:58:12.524475",
     "exception": false,
     "start_time": "2023-08-13T00:58:12.406395",
     "status": "completed"
    },
    "tags": []
   },
   "source": [
    "### Uncomment to submit using v2 of submit function  "
   ]
  },
  {
   "cell_type": "code",
   "execution_count": 188,
   "id": "c2069588",
   "metadata": {
    "execution": {
     "iopub.execute_input": "2023-08-13T00:58:12.769646Z",
     "iopub.status.busy": "2023-08-13T00:58:12.769240Z",
     "iopub.status.idle": "2023-08-13T00:58:12.773627Z",
     "shell.execute_reply": "2023-08-13T00:58:12.772590Z"
    },
    "papermill": {
     "duration": 0.128388,
     "end_time": "2023-08-13T00:58:12.775837",
     "exception": false,
     "start_time": "2023-08-13T00:58:12.647449",
     "status": "completed"
    },
    "tags": []
   },
   "outputs": [],
   "source": [
    "# best4 = [\"audienceScore\", \"rating\", \"isFrequentReviewer\", \"reviewText\"]\n",
    "# best4"
   ]
  },
  {
   "cell_type": "code",
   "execution_count": 189,
   "id": "97131965",
   "metadata": {
    "execution": {
     "iopub.execute_input": "2023-08-13T00:58:13.013775Z",
     "iopub.status.busy": "2023-08-13T00:58:13.013374Z",
     "iopub.status.idle": "2023-08-13T00:58:13.017250Z",
     "shell.execute_reply": "2023-08-13T00:58:13.016470Z"
    },
    "papermill": {
     "duration": 0.124235,
     "end_time": "2023-08-13T00:58:13.019509",
     "exception": false,
     "start_time": "2023-08-13T00:58:12.895274",
     "status": "completed"
    },
    "tags": []
   },
   "outputs": [],
   "source": [
    "# submit_v2(selected_model=pipe_RTonly, selected_features=['reviewText'])"
   ]
  },
  {
   "cell_type": "markdown",
   "id": "e1c18d9f",
   "metadata": {
    "papermill": {
     "duration": 0.118599,
     "end_time": "2023-08-13T00:58:13.257423",
     "exception": false,
     "start_time": "2023-08-13T00:58:13.138824",
     "status": "completed"
    },
    "tags": []
   },
   "source": [
    "### Inspect the submission.csv file  "
   ]
  },
  {
   "cell_type": "code",
   "execution_count": 190,
   "id": "3db0c18f",
   "metadata": {
    "execution": {
     "iopub.execute_input": "2023-08-13T00:58:13.501756Z",
     "iopub.status.busy": "2023-08-13T00:58:13.501044Z",
     "iopub.status.idle": "2023-08-13T00:58:13.505367Z",
     "shell.execute_reply": "2023-08-13T00:58:13.504614Z"
    },
    "papermill": {
     "duration": 0.129489,
     "end_time": "2023-08-13T00:58:13.507635",
     "exception": false,
     "start_time": "2023-08-13T00:58:13.378146",
     "status": "completed"
    },
    "tags": []
   },
   "outputs": [],
   "source": [
    "# sub = pd.read_csv('submission.csv')\n",
    "# sub.shape, sub.head()"
   ]
  },
  {
   "cell_type": "code",
   "execution_count": 191,
   "id": "f0c864fe",
   "metadata": {
    "execution": {
     "iopub.execute_input": "2023-08-13T00:58:13.748990Z",
     "iopub.status.busy": "2023-08-13T00:58:13.747872Z",
     "iopub.status.idle": "2023-08-13T00:58:13.753001Z",
     "shell.execute_reply": "2023-08-13T00:58:13.752153Z"
    },
    "papermill": {
     "duration": 0.12757,
     "end_time": "2023-08-13T00:58:13.755259",
     "exception": false,
     "start_time": "2023-08-13T00:58:13.627689",
     "status": "completed"
    },
    "tags": []
   },
   "outputs": [],
   "source": [
    "# sub['sentiment'].value_counts()"
   ]
  },
  {
   "cell_type": "markdown",
   "id": "3eae7d13",
   "metadata": {
    "papermill": {
     "duration": 0.123153,
     "end_time": "2023-08-13T00:58:14.000887",
     "exception": false,
     "start_time": "2023-08-13T00:58:13.877734",
     "status": "completed"
    },
    "tags": []
   },
   "source": [
    "## submit_v3 for merged file models - does not retrain on whole data  "
   ]
  },
  {
   "cell_type": "code",
   "execution_count": 192,
   "id": "a41af919",
   "metadata": {
    "execution": {
     "iopub.execute_input": "2023-08-13T00:58:14.244548Z",
     "iopub.status.busy": "2023-08-13T00:58:14.243751Z",
     "iopub.status.idle": "2023-08-13T00:58:14.249324Z",
     "shell.execute_reply": "2023-08-13T00:58:14.248496Z"
    },
    "papermill": {
     "duration": 0.132203,
     "end_time": "2023-08-13T00:58:14.251677",
     "exception": false,
     "start_time": "2023-08-13T00:58:14.119474",
     "status": "completed"
    },
    "tags": []
   },
   "outputs": [],
   "source": [
    "# def submit_v3(selected_model=pipe_final):\n",
    "#     '''\n",
    "#     Note that \"selected_preprocessor\" is already used within selected_model or pipeline\n",
    "#     '''\n",
    "      \n",
    "#     # Predict on test.csv file\n",
    "#     merged_test = select_features(load_csv(\"test\"), load_csv(\"movies\"))\n",
    "#     X_test = merged_test.copy()\n",
    "    \n",
    "#     X_test = X_test[[\"audienceScore\", \"rating\", \"isFrequentReviewer\", \"reviewText\"]]    # This is a new line\n",
    "\n",
    "    \n",
    "#     y_pred = selected_model.predict(X_test)\n",
    "    \n",
    "#     pred_df = pd.DataFrame(y_pred)\n",
    "#     pred_df.columns = [\"sentiment\"]\n",
    "#     pred_df.index.name = \"id\"\n",
    "#     pred_df.to_csv(\"submission.csv\")\n",
    "    \n",
    "#     return \"Successfully created the submission file!!!\""
   ]
  },
  {
   "cell_type": "markdown",
   "id": "38321237",
   "metadata": {
    "papermill": {
     "duration": 0.117687,
     "end_time": "2023-08-13T00:58:14.489088",
     "exception": false,
     "start_time": "2023-08-13T00:58:14.371401",
     "status": "completed"
    },
    "tags": []
   },
   "source": [
    "### Uncomment to submit using v3 of submit function  "
   ]
  },
  {
   "cell_type": "code",
   "execution_count": 193,
   "id": "bcbc21ec",
   "metadata": {
    "execution": {
     "iopub.execute_input": "2023-08-13T00:58:14.733569Z",
     "iopub.status.busy": "2023-08-13T00:58:14.732739Z",
     "iopub.status.idle": "2023-08-13T00:58:14.737562Z",
     "shell.execute_reply": "2023-08-13T00:58:14.736770Z"
    },
    "papermill": {
     "duration": 0.128783,
     "end_time": "2023-08-13T00:58:14.739851",
     "exception": false,
     "start_time": "2023-08-13T00:58:14.611068",
     "status": "completed"
    },
    "tags": []
   },
   "outputs": [],
   "source": [
    "# submit_v3(selected_model=pipe_best4)"
   ]
  },
  {
   "cell_type": "markdown",
   "id": "841cffc6",
   "metadata": {
    "papermill": {
     "duration": 0.118229,
     "end_time": "2023-08-13T00:58:14.979160",
     "exception": false,
     "start_time": "2023-08-13T00:58:14.860931",
     "status": "completed"
    },
    "tags": []
   },
   "source": [
    "## Rough work  "
   ]
  },
  {
   "cell_type": "code",
   "execution_count": 194,
   "id": "8e96da21",
   "metadata": {
    "execution": {
     "iopub.execute_input": "2023-08-13T00:58:15.214243Z",
     "iopub.status.busy": "2023-08-13T00:58:15.213548Z",
     "iopub.status.idle": "2023-08-13T00:58:21.520905Z",
     "shell.execute_reply": "2023-08-13T00:58:21.519774Z"
    },
    "papermill": {
     "duration": 6.428151,
     "end_time": "2023-08-13T00:58:21.524755",
     "exception": false,
     "start_time": "2023-08-13T00:58:15.096604",
     "status": "completed"
    },
    "tags": []
   },
   "outputs": [],
   "source": [
    "    # Predict on test.csv file\n",
    "    merged_test = select_features(load_csv(\"test\"), load_csv(\"movies\"))\n",
    "    X_test = merged_test.copy()\n",
    "    \n",
    "    X_test = X_test[[\"audienceScore\", \"rating\", \"isFrequentReviewer\", \"reviewText\"]]    # This is a new line"
   ]
  },
  {
   "cell_type": "code",
   "execution_count": 195,
   "id": "08e3b794",
   "metadata": {
    "execution": {
     "iopub.execute_input": "2023-08-13T00:58:21.762265Z",
     "iopub.status.busy": "2023-08-13T00:58:21.761487Z",
     "iopub.status.idle": "2023-08-13T00:58:21.766492Z",
     "shell.execute_reply": "2023-08-13T00:58:21.765732Z"
    },
    "papermill": {
     "duration": 0.125959,
     "end_time": "2023-08-13T00:58:21.768776",
     "exception": false,
     "start_time": "2023-08-13T00:58:21.642817",
     "status": "completed"
    },
    "tags": []
   },
   "outputs": [],
   "source": [
    "# X_test.head()"
   ]
  },
  {
   "cell_type": "code",
   "execution_count": 196,
   "id": "e74c31ee",
   "metadata": {
    "execution": {
     "iopub.execute_input": "2023-08-13T00:58:22.004014Z",
     "iopub.status.busy": "2023-08-13T00:58:22.003236Z",
     "iopub.status.idle": "2023-08-13T00:58:22.008267Z",
     "shell.execute_reply": "2023-08-13T00:58:22.007509Z"
    },
    "papermill": {
     "duration": 0.125003,
     "end_time": "2023-08-13T00:58:22.010500",
     "exception": false,
     "start_time": "2023-08-13T00:58:21.885497",
     "status": "completed"
    },
    "tags": []
   },
   "outputs": [],
   "source": [
    "# X_test['audienceScore'].describe()"
   ]
  },
  {
   "cell_type": "code",
   "execution_count": 197,
   "id": "6d12faa5",
   "metadata": {
    "execution": {
     "iopub.execute_input": "2023-08-13T00:58:22.245510Z",
     "iopub.status.busy": "2023-08-13T00:58:22.245113Z",
     "iopub.status.idle": "2023-08-13T00:58:22.249244Z",
     "shell.execute_reply": "2023-08-13T00:58:22.248207Z"
    },
    "papermill": {
     "duration": 0.123809,
     "end_time": "2023-08-13T00:58:22.251649",
     "exception": false,
     "start_time": "2023-08-13T00:58:22.127840",
     "status": "completed"
    },
    "tags": []
   },
   "outputs": [],
   "source": [
    "# X_test['rating'].value_counts()"
   ]
  },
  {
   "cell_type": "code",
   "execution_count": 198,
   "id": "a71dde64",
   "metadata": {
    "execution": {
     "iopub.execute_input": "2023-08-13T00:58:22.489716Z",
     "iopub.status.busy": "2023-08-13T00:58:22.489026Z",
     "iopub.status.idle": "2023-08-13T00:58:22.493020Z",
     "shell.execute_reply": "2023-08-13T00:58:22.492097Z"
    },
    "papermill": {
     "duration": 0.128124,
     "end_time": "2023-08-13T00:58:22.495092",
     "exception": false,
     "start_time": "2023-08-13T00:58:22.366968",
     "status": "completed"
    },
    "tags": []
   },
   "outputs": [],
   "source": [
    "# X_test['isFrequentReviewer'].value_counts()"
   ]
  },
  {
   "cell_type": "markdown",
   "id": "a9353129",
   "metadata": {
    "papermill": {
     "duration": 0.114171,
     "end_time": "2023-08-13T00:58:22.727243",
     "exception": false,
     "start_time": "2023-08-13T00:58:22.613072",
     "status": "completed"
    },
    "tags": []
   },
   "source": [
    "## Implement KNN classifier  "
   ]
  },
  {
   "cell_type": "code",
   "execution_count": 199,
   "id": "deed1f16",
   "metadata": {
    "execution": {
     "iopub.execute_input": "2023-08-13T00:58:22.961347Z",
     "iopub.status.busy": "2023-08-13T00:58:22.960673Z",
     "iopub.status.idle": "2023-08-13T00:58:22.964546Z",
     "shell.execute_reply": "2023-08-13T00:58:22.963779Z"
    },
    "papermill": {
     "duration": 0.122253,
     "end_time": "2023-08-13T00:58:22.966667",
     "exception": false,
     "start_time": "2023-08-13T00:58:22.844414",
     "status": "completed"
    },
    "tags": []
   },
   "outputs": [],
   "source": [
    "# from sklearn.neighbors import KNeighborsClassifier"
   ]
  },
  {
   "cell_type": "code",
   "execution_count": 200,
   "id": "1cfb9ef7",
   "metadata": {
    "execution": {
     "iopub.execute_input": "2023-08-13T00:58:23.204993Z",
     "iopub.status.busy": "2023-08-13T00:58:23.204586Z",
     "iopub.status.idle": "2023-08-13T00:58:23.208561Z",
     "shell.execute_reply": "2023-08-13T00:58:23.207767Z"
    },
    "papermill": {
     "duration": 0.127331,
     "end_time": "2023-08-13T00:58:23.210934",
     "exception": false,
     "start_time": "2023-08-13T00:58:23.083603",
     "status": "completed"
    },
    "tags": []
   },
   "outputs": [],
   "source": [
    "# Note that we are borrowing \"ct_final\" column transformer from above  "
   ]
  },
  {
   "cell_type": "code",
   "execution_count": 201,
   "id": "46f185f0",
   "metadata": {
    "execution": {
     "iopub.execute_input": "2023-08-13T00:58:23.450640Z",
     "iopub.status.busy": "2023-08-13T00:58:23.449953Z",
     "iopub.status.idle": "2023-08-13T00:58:23.454146Z",
     "shell.execute_reply": "2023-08-13T00:58:23.453356Z"
    },
    "papermill": {
     "duration": 0.128284,
     "end_time": "2023-08-13T00:58:23.456765",
     "exception": false,
     "start_time": "2023-08-13T00:58:23.328481",
     "status": "completed"
    },
    "tags": []
   },
   "outputs": [],
   "source": [
    "# pipe_knn = Pipeline(steps=[\n",
    "#                         (\"preprocessor\", ct_final),\n",
    "#                         (\"model\", KNeighborsClassifier())\n",
    "#                     ])\n",
    "# pipe_knn"
   ]
  },
  {
   "cell_type": "code",
   "execution_count": 202,
   "id": "d74a023b",
   "metadata": {
    "execution": {
     "iopub.execute_input": "2023-08-13T00:58:23.701672Z",
     "iopub.status.busy": "2023-08-13T00:58:23.700481Z",
     "iopub.status.idle": "2023-08-13T00:58:23.705940Z",
     "shell.execute_reply": "2023-08-13T00:58:23.704696Z"
    },
    "papermill": {
     "duration": 0.130561,
     "end_time": "2023-08-13T00:58:23.708448",
     "exception": false,
     "start_time": "2023-08-13T00:58:23.577887",
     "status": "completed"
    },
    "tags": []
   },
   "outputs": [],
   "source": [
    "# Train and predict on merged training data  \n",
    "# split_train_predict(merged_train_features, merged_train_labels, pipe_knn, test_size=0.25, random_state=42)"
   ]
  },
  {
   "cell_type": "markdown",
   "id": "af47c941",
   "metadata": {
    "papermill": {
     "duration": 0.118106,
     "end_time": "2023-08-13T00:58:23.944764",
     "exception": false,
     "start_time": "2023-08-13T00:58:23.826658",
     "status": "completed"
    },
    "tags": []
   },
   "source": [
    "# Part I (Older code)  "
   ]
  },
  {
   "cell_type": "markdown",
   "id": "6290ee83",
   "metadata": {
    "papermill": {
     "duration": 0.189368,
     "end_time": "2023-08-13T00:58:24.251943",
     "exception": false,
     "start_time": "2023-08-13T00:58:24.062575",
     "status": "completed"
    },
    "tags": []
   },
   "source": [
    "### Logistic Regression with stop words  "
   ]
  },
  {
   "cell_type": "code",
   "execution_count": 203,
   "id": "e5cd0634",
   "metadata": {
    "execution": {
     "iopub.execute_input": "2023-08-13T00:58:24.493172Z",
     "iopub.status.busy": "2023-08-13T00:58:24.492761Z",
     "iopub.status.idle": "2023-08-13T00:58:24.498262Z",
     "shell.execute_reply": "2023-08-13T00:58:24.496318Z"
    },
    "papermill": {
     "duration": 0.129098,
     "end_time": "2023-08-13T00:58:24.500785",
     "exception": false,
     "start_time": "2023-08-13T00:58:24.371687",
     "status": "completed"
    },
    "tags": []
   },
   "outputs": [],
   "source": [
    "# tvec_sw = TfidfVectorizer(stop_words=stop_words)"
   ]
  },
  {
   "cell_type": "code",
   "execution_count": 204,
   "id": "7ae8bfa0",
   "metadata": {
    "execution": {
     "iopub.execute_input": "2023-08-13T00:58:24.742682Z",
     "iopub.status.busy": "2023-08-13T00:58:24.741741Z",
     "iopub.status.idle": "2023-08-13T00:58:24.746455Z",
     "shell.execute_reply": "2023-08-13T00:58:24.745608Z"
    },
    "papermill": {
     "duration": 0.127813,
     "end_time": "2023-08-13T00:58:24.748591",
     "exception": false,
     "start_time": "2023-08-13T00:58:24.620778",
     "status": "completed"
    },
    "tags": []
   },
   "outputs": [],
   "source": [
    "# logreg_sw_pipe = preprocess_n_train(X_train, y_train, tvec_sw, logreg)\n",
    "# logreg_sw_pipe"
   ]
  },
  {
   "cell_type": "code",
   "execution_count": 205,
   "id": "8dd178e6",
   "metadata": {
    "execution": {
     "iopub.execute_input": "2023-08-13T00:58:24.989305Z",
     "iopub.status.busy": "2023-08-13T00:58:24.988262Z",
     "iopub.status.idle": "2023-08-13T00:58:24.992633Z",
     "shell.execute_reply": "2023-08-13T00:58:24.991863Z"
    },
    "papermill": {
     "duration": 0.12547,
     "end_time": "2023-08-13T00:58:24.994842",
     "exception": false,
     "start_time": "2023-08-13T00:58:24.869372",
     "status": "completed"
    },
    "tags": []
   },
   "outputs": [],
   "source": [
    "# y_pred_logreg_sw = predict_n_evaluate(logreg_sw_pipe, X_test, y_test)\n",
    "# y_pred_logreg_sw"
   ]
  },
  {
   "cell_type": "markdown",
   "id": "ab49a009",
   "metadata": {
    "papermill": {
     "duration": 0.119563,
     "end_time": "2023-08-13T00:58:25.230717",
     "exception": false,
     "start_time": "2023-08-13T00:58:25.111154",
     "status": "completed"
    },
    "tags": []
   },
   "source": [
    "### Logistic regression with different ngram ranges  "
   ]
  },
  {
   "cell_type": "code",
   "execution_count": 206,
   "id": "5e2d927d",
   "metadata": {
    "execution": {
     "iopub.execute_input": "2023-08-13T00:58:25.473918Z",
     "iopub.status.busy": "2023-08-13T00:58:25.473498Z",
     "iopub.status.idle": "2023-08-13T00:58:25.478302Z",
     "shell.execute_reply": "2023-08-13T00:58:25.477232Z"
    },
    "papermill": {
     "duration": 0.129393,
     "end_time": "2023-08-13T00:58:25.480768",
     "exception": false,
     "start_time": "2023-08-13T00:58:25.351375",
     "status": "completed"
    },
    "tags": []
   },
   "outputs": [],
   "source": [
    "# tvec_ngram_2 = TfidfVectorizer(ngram_range=(1,2))"
   ]
  },
  {
   "cell_type": "code",
   "execution_count": 207,
   "id": "68a35fcf",
   "metadata": {
    "execution": {
     "iopub.execute_input": "2023-08-13T00:58:25.727362Z",
     "iopub.status.busy": "2023-08-13T00:58:25.726962Z",
     "iopub.status.idle": "2023-08-13T00:58:25.731376Z",
     "shell.execute_reply": "2023-08-13T00:58:25.729984Z"
    },
    "papermill": {
     "duration": 0.132096,
     "end_time": "2023-08-13T00:58:25.734312",
     "exception": false,
     "start_time": "2023-08-13T00:58:25.602216",
     "status": "completed"
    },
    "tags": []
   },
   "outputs": [],
   "source": [
    "# logreg_ng2_pipe = preprocess_n_train(X_train, y_train, tvec_ngram_2, logreg)\n",
    "# logreg_ng2_pipe"
   ]
  },
  {
   "cell_type": "code",
   "execution_count": 208,
   "id": "87b40b78",
   "metadata": {
    "execution": {
     "iopub.execute_input": "2023-08-13T00:58:25.978292Z",
     "iopub.status.busy": "2023-08-13T00:58:25.977910Z",
     "iopub.status.idle": "2023-08-13T00:58:25.982600Z",
     "shell.execute_reply": "2023-08-13T00:58:25.981210Z"
    },
    "papermill": {
     "duration": 0.128351,
     "end_time": "2023-08-13T00:58:25.985807",
     "exception": false,
     "start_time": "2023-08-13T00:58:25.857456",
     "status": "completed"
    },
    "tags": []
   },
   "outputs": [],
   "source": [
    "# y_pred_logreg_ng2 = predict_n_evaluate(logreg_ng2_pipe, X_test, y_test)\n",
    "# y_pred_logreg_ng2"
   ]
  },
  {
   "cell_type": "markdown",
   "id": "8ddad83e",
   "metadata": {
    "papermill": {
     "duration": 0.121703,
     "end_time": "2023-08-13T00:58:26.229446",
     "exception": false,
     "start_time": "2023-08-13T00:58:26.107743",
     "status": "completed"
    },
    "tags": []
   },
   "source": [
    "### Logistic regression with C=2, ngram range (1,2), stop words as None and min_df, max_df adjusted\n",
    "### Class weight balanced"
   ]
  },
  {
   "cell_type": "code",
   "execution_count": 209,
   "id": "6ebcc33f",
   "metadata": {
    "execution": {
     "iopub.execute_input": "2023-08-13T00:58:26.475565Z",
     "iopub.status.busy": "2023-08-13T00:58:26.475156Z",
     "iopub.status.idle": "2023-08-13T00:58:26.479418Z",
     "shell.execute_reply": "2023-08-13T00:58:26.478402Z"
    },
    "papermill": {
     "duration": 0.13015,
     "end_time": "2023-08-13T00:58:26.482177",
     "exception": false,
     "start_time": "2023-08-13T00:58:26.352027",
     "status": "completed"
    },
    "tags": []
   },
   "outputs": [],
   "source": [
    "# logreg = LogisticRegression(max_iter=100000, C=2, class_weight=\"balanced\")"
   ]
  },
  {
   "cell_type": "code",
   "execution_count": 210,
   "id": "343ddfe1",
   "metadata": {
    "execution": {
     "iopub.execute_input": "2023-08-13T00:58:26.722766Z",
     "iopub.status.busy": "2023-08-13T00:58:26.722288Z",
     "iopub.status.idle": "2023-08-13T00:58:26.727557Z",
     "shell.execute_reply": "2023-08-13T00:58:26.726357Z"
    },
    "papermill": {
     "duration": 0.128595,
     "end_time": "2023-08-13T00:58:26.729802",
     "exception": false,
     "start_time": "2023-08-13T00:58:26.601207",
     "status": "completed"
    },
    "tags": []
   },
   "outputs": [],
   "source": [
    "# tvec_ngram_2_sw_df = TfidfVectorizer(ngram_range=(1,2), stop_words=None, min_df=0.0001, max_df=0.50)\n",
    "# tvec_ngram_2_sw_df"
   ]
  },
  {
   "cell_type": "code",
   "execution_count": 211,
   "id": "2180c33a",
   "metadata": {
    "execution": {
     "iopub.execute_input": "2023-08-13T00:58:26.968932Z",
     "iopub.status.busy": "2023-08-13T00:58:26.968396Z",
     "iopub.status.idle": "2023-08-13T00:58:26.974157Z",
     "shell.execute_reply": "2023-08-13T00:58:26.972874Z"
    },
    "papermill": {
     "duration": 0.130414,
     "end_time": "2023-08-13T00:58:26.976596",
     "exception": false,
     "start_time": "2023-08-13T00:58:26.846182",
     "status": "completed"
    },
    "tags": []
   },
   "outputs": [],
   "source": [
    "# logreg_ng2_sw_df_pipe = preprocess_n_train(X_train, y_train, tvec_ngram_2_sw_df, logreg)\n",
    "# logreg_ng2_sw_df_pipe"
   ]
  },
  {
   "cell_type": "code",
   "execution_count": 212,
   "id": "75649c6f",
   "metadata": {
    "execution": {
     "iopub.execute_input": "2023-08-13T00:58:27.226640Z",
     "iopub.status.busy": "2023-08-13T00:58:27.225119Z",
     "iopub.status.idle": "2023-08-13T00:58:27.230991Z",
     "shell.execute_reply": "2023-08-13T00:58:27.229791Z"
    },
    "papermill": {
     "duration": 0.131648,
     "end_time": "2023-08-13T00:58:27.233411",
     "exception": false,
     "start_time": "2023-08-13T00:58:27.101763",
     "status": "completed"
    },
    "tags": []
   },
   "outputs": [],
   "source": [
    "# y_pred_logreg_ng2_sw_df = predict_n_evaluate(logreg_ng2_sw_df_pipe, X_test, y_test)\n",
    "# y_pred_logreg_ng2_sw_df"
   ]
  },
  {
   "cell_type": "markdown",
   "id": "6e3cfee0",
   "metadata": {
    "papermill": {
     "duration": 0.117144,
     "end_time": "2023-08-13T00:58:27.471275",
     "exception": false,
     "start_time": "2023-08-13T00:58:27.354131",
     "status": "completed"
    },
    "tags": []
   },
   "source": [
    "### Log reg with parameters from GridSearchCV  \n",
    "\n",
    "`This is the best score with \"reviewText column alone for analysis`  "
   ]
  },
  {
   "cell_type": "code",
   "execution_count": 213,
   "id": "e3142ffa",
   "metadata": {
    "execution": {
     "iopub.execute_input": "2023-08-13T00:58:27.711295Z",
     "iopub.status.busy": "2023-08-13T00:58:27.710720Z",
     "iopub.status.idle": "2023-08-13T00:58:27.717155Z",
     "shell.execute_reply": "2023-08-13T00:58:27.715984Z"
    },
    "papermill": {
     "duration": 0.12815,
     "end_time": "2023-08-13T00:58:27.719560",
     "exception": false,
     "start_time": "2023-08-13T00:58:27.591410",
     "status": "completed"
    },
    "tags": []
   },
   "outputs": [],
   "source": [
    "logreg_cv1 = LogisticRegression(max_iter=100000, C=10)\n",
    "tvec_cv1 = TfidfVectorizer(max_features=None, ngram_range=(1,2))"
   ]
  },
  {
   "cell_type": "code",
   "execution_count": 214,
   "id": "84a43207",
   "metadata": {
    "execution": {
     "iopub.execute_input": "2023-08-13T00:58:27.954473Z",
     "iopub.status.busy": "2023-08-13T00:58:27.954097Z",
     "iopub.status.idle": "2023-08-13T00:58:27.959657Z",
     "shell.execute_reply": "2023-08-13T00:58:27.958498Z"
    },
    "papermill": {
     "duration": 0.12611,
     "end_time": "2023-08-13T00:58:27.962733",
     "exception": false,
     "start_time": "2023-08-13T00:58:27.836623",
     "status": "completed"
    },
    "tags": []
   },
   "outputs": [],
   "source": [
    "pipe_cv1 = Pipeline(steps=[\n",
    "    (\"preprocessor\", tvec_cv1),\n",
    "    (\"model\", logreg_cv1)\n",
    "])"
   ]
  },
  {
   "cell_type": "code",
   "execution_count": 215,
   "id": "5e575aad",
   "metadata": {
    "execution": {
     "iopub.execute_input": "2023-08-13T00:58:28.209319Z",
     "iopub.status.busy": "2023-08-13T00:58:28.208671Z",
     "iopub.status.idle": "2023-08-13T00:58:28.215177Z",
     "shell.execute_reply": "2023-08-13T00:58:28.213801Z"
    },
    "papermill": {
     "duration": 0.134377,
     "end_time": "2023-08-13T00:58:28.217476",
     "exception": false,
     "start_time": "2023-08-13T00:58:28.083099",
     "status": "completed"
    },
    "tags": []
   },
   "outputs": [],
   "source": [
    "# pipe_cv1.fit(X_train, y_train)"
   ]
  },
  {
   "cell_type": "code",
   "execution_count": 216,
   "id": "648ae3f5",
   "metadata": {
    "execution": {
     "iopub.execute_input": "2023-08-13T00:58:28.466001Z",
     "iopub.status.busy": "2023-08-13T00:58:28.465463Z",
     "iopub.status.idle": "2023-08-13T00:58:28.471115Z",
     "shell.execute_reply": "2023-08-13T00:58:28.469824Z"
    },
    "papermill": {
     "duration": 0.131207,
     "end_time": "2023-08-13T00:58:28.473708",
     "exception": false,
     "start_time": "2023-08-13T00:58:28.342501",
     "status": "completed"
    },
    "tags": []
   },
   "outputs": [],
   "source": [
    "# pipe_cv1.score(X_train, y_train)"
   ]
  },
  {
   "cell_type": "markdown",
   "id": "17a60a78",
   "metadata": {
    "papermill": {
     "duration": 0.121299,
     "end_time": "2023-08-13T00:58:28.716435",
     "exception": false,
     "start_time": "2023-08-13T00:58:28.595136",
     "status": "completed"
    },
    "tags": []
   },
   "source": [
    "### SVM model with stop words  "
   ]
  },
  {
   "cell_type": "code",
   "execution_count": 217,
   "id": "97aaeba8",
   "metadata": {
    "execution": {
     "iopub.execute_input": "2023-08-13T00:58:28.987914Z",
     "iopub.status.busy": "2023-08-13T00:58:28.987469Z",
     "iopub.status.idle": "2023-08-13T00:58:28.992258Z",
     "shell.execute_reply": "2023-08-13T00:58:28.990791Z"
    },
    "papermill": {
     "duration": 0.127568,
     "end_time": "2023-08-13T00:58:28.994800",
     "exception": false,
     "start_time": "2023-08-13T00:58:28.867232",
     "status": "completed"
    },
    "tags": []
   },
   "outputs": [],
   "source": [
    "# svm_sw_pipe = preprocess_n_train(X_train, y_train, tvec_sw, svm)\n",
    "# svm_sw_pipe"
   ]
  },
  {
   "cell_type": "code",
   "execution_count": 218,
   "id": "3bd606e6",
   "metadata": {
    "execution": {
     "iopub.execute_input": "2023-08-13T00:58:29.245242Z",
     "iopub.status.busy": "2023-08-13T00:58:29.244197Z",
     "iopub.status.idle": "2023-08-13T00:58:29.251487Z",
     "shell.execute_reply": "2023-08-13T00:58:29.249812Z"
    },
    "papermill": {
     "duration": 0.13414,
     "end_time": "2023-08-13T00:58:29.254094",
     "exception": false,
     "start_time": "2023-08-13T00:58:29.119954",
     "status": "completed"
    },
    "tags": []
   },
   "outputs": [],
   "source": [
    "# y_pred_svm_sw = predict_n_evaluate(svm_sw_pipe, X_test, y_test)\n",
    "# y_pred_svm_sw"
   ]
  },
  {
   "cell_type": "markdown",
   "id": "3ad62b8b",
   "metadata": {
    "papermill": {
     "duration": 0.119932,
     "end_time": "2023-08-13T00:58:29.501066",
     "exception": false,
     "start_time": "2023-08-13T00:58:29.381134",
     "status": "completed"
    },
    "tags": []
   },
   "source": [
    "### GaussianNB  "
   ]
  },
  {
   "cell_type": "markdown",
   "id": "de6a905b",
   "metadata": {
    "papermill": {
     "duration": 0.118931,
     "end_time": "2023-08-13T00:58:29.741098",
     "exception": false,
     "start_time": "2023-08-13T00:58:29.622167",
     "status": "completed"
    },
    "tags": []
   },
   "source": [
    "https://stackoverflow.com/questions/28384680/scikit-learns-pipeline-a-sparse-matrix-was-passed-but-dense-data-is-required"
   ]
  },
  {
   "cell_type": "code",
   "execution_count": 219,
   "id": "aeaefc12",
   "metadata": {
    "execution": {
     "iopub.execute_input": "2023-08-13T00:58:29.985878Z",
     "iopub.status.busy": "2023-08-13T00:58:29.985097Z",
     "iopub.status.idle": "2023-08-13T00:58:29.989997Z",
     "shell.execute_reply": "2023-08-13T00:58:29.988876Z"
    },
    "papermill": {
     "duration": 0.130534,
     "end_time": "2023-08-13T00:58:29.992109",
     "exception": false,
     "start_time": "2023-08-13T00:58:29.861575",
     "status": "completed"
    },
    "tags": []
   },
   "outputs": [],
   "source": [
    "# gnb = GaussianNB()\n",
    "# gnb"
   ]
  },
  {
   "cell_type": "code",
   "execution_count": 220,
   "id": "5b2f2a4a",
   "metadata": {
    "execution": {
     "iopub.execute_input": "2023-08-13T00:58:30.314390Z",
     "iopub.status.busy": "2023-08-13T00:58:30.313804Z",
     "iopub.status.idle": "2023-08-13T00:58:30.317383Z",
     "shell.execute_reply": "2023-08-13T00:58:30.316622Z"
    },
    "papermill": {
     "duration": 0.207826,
     "end_time": "2023-08-13T00:58:30.319592",
     "exception": false,
     "start_time": "2023-08-13T00:58:30.111766",
     "status": "completed"
    },
    "tags": []
   },
   "outputs": [],
   "source": [
    "# gnb_pipe = preprocess_n_train(X_train, y_train, tvec, gnb)\n",
    "# gnb_pipe"
   ]
  },
  {
   "cell_type": "markdown",
   "id": "1bee7e44",
   "metadata": {
    "papermill": {
     "duration": 0.120082,
     "end_time": "2023-08-13T00:58:30.564459",
     "exception": false,
     "start_time": "2023-08-13T00:58:30.444377",
     "status": "completed"
    },
    "tags": []
   },
   "source": [
    "# Part II (Older code)  \n"
   ]
  },
  {
   "cell_type": "markdown",
   "id": "6c4b1a97",
   "metadata": {
    "papermill": {
     "duration": 0.118751,
     "end_time": "2023-08-13T00:58:30.804654",
     "exception": false,
     "start_time": "2023-08-13T00:58:30.685903",
     "status": "completed"
    },
    "tags": []
   },
   "source": [
    "### Separate features and labels from merged dataset  "
   ]
  },
  {
   "cell_type": "code",
   "execution_count": 221,
   "id": "0096e48d",
   "metadata": {
    "execution": {
     "iopub.execute_input": "2023-08-13T00:58:31.050930Z",
     "iopub.status.busy": "2023-08-13T00:58:31.050473Z",
     "iopub.status.idle": "2023-08-13T00:58:31.054961Z",
     "shell.execute_reply": "2023-08-13T00:58:31.053939Z"
    },
    "papermill": {
     "duration": 0.132686,
     "end_time": "2023-08-13T00:58:31.057150",
     "exception": false,
     "start_time": "2023-08-13T00:58:30.924464",
     "status": "completed"
    },
    "tags": []
   },
   "outputs": [],
   "source": [
    "# merged_train_features = merged[['movieid', 'reviewerName', 'isFrequentReviewer', 'reviewText',\n",
    "#        'audienceScore', 'rating', 'runtimeMinutes', 'genre',\n",
    "#        'originalLanguage', 'director']]\n",
    "# merged_train_features.shape"
   ]
  },
  {
   "cell_type": "code",
   "execution_count": 222,
   "id": "63bec758",
   "metadata": {
    "execution": {
     "iopub.execute_input": "2023-08-13T00:58:31.305596Z",
     "iopub.status.busy": "2023-08-13T00:58:31.304925Z",
     "iopub.status.idle": "2023-08-13T00:58:31.309588Z",
     "shell.execute_reply": "2023-08-13T00:58:31.308049Z"
    },
    "papermill": {
     "duration": 0.13573,
     "end_time": "2023-08-13T00:58:31.312348",
     "exception": false,
     "start_time": "2023-08-13T00:58:31.176618",
     "status": "completed"
    },
    "tags": []
   },
   "outputs": [],
   "source": [
    "# merged_train_labels = merged[\"sentiment\"]\n",
    "# merged_train_labels.shape"
   ]
  },
  {
   "cell_type": "markdown",
   "id": "d38ccf28",
   "metadata": {
    "papermill": {
     "duration": 0.121261,
     "end_time": "2023-08-13T00:58:31.559377",
     "exception": false,
     "start_time": "2023-08-13T00:58:31.438116",
     "status": "completed"
    },
    "tags": []
   },
   "source": [
    "### Identify variable types for different preprocessing pipes  "
   ]
  },
  {
   "cell_type": "code",
   "execution_count": 223,
   "id": "c9d3ca9a",
   "metadata": {
    "execution": {
     "iopub.execute_input": "2023-08-13T00:58:31.802353Z",
     "iopub.status.busy": "2023-08-13T00:58:31.801189Z",
     "iopub.status.idle": "2023-08-13T00:58:31.807921Z",
     "shell.execute_reply": "2023-08-13T00:58:31.806298Z"
    },
    "papermill": {
     "duration": 0.130668,
     "end_time": "2023-08-13T00:58:31.811229",
     "exception": false,
     "start_time": "2023-08-13T00:58:31.680561",
     "status": "completed"
    },
    "tags": []
   },
   "outputs": [],
   "source": [
    "# num_vars = [\"audienceScore\", \"runtimeMinutes\"]\n",
    "# txt_vars = [\"originalLanguage\", \"genre\", \"director\", \"reviewerName\", \"reviewText\"]\n",
    "# cat_vars = [\"rating\", \"isFrequentReviewer\"]"
   ]
  },
  {
   "cell_type": "code",
   "execution_count": 224,
   "id": "ea282381",
   "metadata": {
    "execution": {
     "iopub.execute_input": "2023-08-13T00:58:32.054978Z",
     "iopub.status.busy": "2023-08-13T00:58:32.054605Z",
     "iopub.status.idle": "2023-08-13T00:58:32.059329Z",
     "shell.execute_reply": "2023-08-13T00:58:32.058406Z"
    },
    "papermill": {
     "duration": 0.127045,
     "end_time": "2023-08-13T00:58:32.061472",
     "exception": false,
     "start_time": "2023-08-13T00:58:31.934427",
     "status": "completed"
    },
    "tags": []
   },
   "outputs": [],
   "source": [
    "# num_pipe = Pipeline(steps=[\n",
    "#                             (\"imputer\", SimpleImputer(strategy=\"mean\", missing_values=np.nan)),\n",
    "#                             (\"scaler\", MinMaxScaler())\n",
    "#                         ])\n",
    "# num_pipe"
   ]
  },
  {
   "cell_type": "code",
   "execution_count": 225,
   "id": "3f7439d0",
   "metadata": {
    "execution": {
     "iopub.execute_input": "2023-08-13T00:58:32.296180Z",
     "iopub.status.busy": "2023-08-13T00:58:32.295793Z",
     "iopub.status.idle": "2023-08-13T00:58:32.300137Z",
     "shell.execute_reply": "2023-08-13T00:58:32.299044Z"
    },
    "papermill": {
     "duration": 0.124399,
     "end_time": "2023-08-13T00:58:32.302378",
     "exception": false,
     "start_time": "2023-08-13T00:58:32.177979",
     "status": "completed"
    },
    "tags": []
   },
   "outputs": [],
   "source": [
    "# txt_pipe = Pipeline(steps=[\n",
    "#                             (\"tvec\", TfidfVectorizer())\n",
    "#                         ])\n",
    "# txt_pipe"
   ]
  },
  {
   "cell_type": "code",
   "execution_count": 226,
   "id": "29da40c7",
   "metadata": {
    "execution": {
     "iopub.execute_input": "2023-08-13T00:58:32.547270Z",
     "iopub.status.busy": "2023-08-13T00:58:32.545665Z",
     "iopub.status.idle": "2023-08-13T00:58:32.552016Z",
     "shell.execute_reply": "2023-08-13T00:58:32.550850Z"
    },
    "papermill": {
     "duration": 0.132658,
     "end_time": "2023-08-13T00:58:32.554592",
     "exception": false,
     "start_time": "2023-08-13T00:58:32.421934",
     "status": "completed"
    },
    "tags": []
   },
   "outputs": [],
   "source": [
    "# cat_pipe = Pipeline(steps=[\n",
    "#                             (\"ohe\", OneHotEncoder(handle_unknown=\"ignore\"))\n",
    "#                         ])\n",
    "# cat_pipe"
   ]
  },
  {
   "cell_type": "code",
   "execution_count": 227,
   "id": "b7b932e6",
   "metadata": {
    "execution": {
     "iopub.execute_input": "2023-08-13T00:58:32.796430Z",
     "iopub.status.busy": "2023-08-13T00:58:32.795543Z",
     "iopub.status.idle": "2023-08-13T00:58:32.800647Z",
     "shell.execute_reply": "2023-08-13T00:58:32.799810Z"
    },
    "papermill": {
     "duration": 0.127675,
     "end_time": "2023-08-13T00:58:32.802908",
     "exception": false,
     "start_time": "2023-08-13T00:58:32.675233",
     "status": "completed"
    },
    "tags": []
   },
   "outputs": [],
   "source": [
    "# tfidf_vec_1 = TfidfVectorizer(ngram_range=(1,2))\n",
    "# tfidf_vec_1"
   ]
  },
  {
   "cell_type": "code",
   "execution_count": 228,
   "id": "f1a62e8f",
   "metadata": {
    "execution": {
     "iopub.execute_input": "2023-08-13T00:58:33.047758Z",
     "iopub.status.busy": "2023-08-13T00:58:33.046480Z",
     "iopub.status.idle": "2023-08-13T00:58:33.052408Z",
     "shell.execute_reply": "2023-08-13T00:58:33.051618Z"
    },
    "papermill": {
     "duration": 0.129987,
     "end_time": "2023-08-13T00:58:33.054692",
     "exception": false,
     "start_time": "2023-08-13T00:58:32.924705",
     "status": "completed"
    },
    "tags": []
   },
   "outputs": [],
   "source": [
    "# ct_final = ColumnTransformer(transformers=[\n",
    "#                                         (\"num\", num_pipe, num_vars),\n",
    "#                                         (\"txt1\", txt_pipe, \"originalLanguage\"),\n",
    "#                                         (\"txt2\", txt_pipe, \"genre\"),\n",
    "#                                         (\"txt3\", txt_pipe, \"director\"),\n",
    "#                                         (\"cat\", cat_pipe, cat_vars),\n",
    "#                                         (\"txt4a\", tfidf_vec_1, \"reviewText\")\n",
    "# #                                         (\"txt4\", TfidfVectorizer(ngram_range=(1,2)), \"reviewText\"),\n",
    "# #                                         (\"cat2\", cat_pipe, [\"isFrequentReviewer\"])\n",
    "#                                         ], remainder=\"drop\", n_jobs=1)\n",
    "\n",
    "# # Note that this transformer drops \"movieid\" column and \"reviewerName\" column  \n",
    "# ct_final"
   ]
  },
  {
   "cell_type": "code",
   "execution_count": 229,
   "id": "8a72a2de",
   "metadata": {
    "execution": {
     "iopub.execute_input": "2023-08-13T00:58:33.293705Z",
     "iopub.status.busy": "2023-08-13T00:58:33.292499Z",
     "iopub.status.idle": "2023-08-13T00:58:33.298349Z",
     "shell.execute_reply": "2023-08-13T00:58:33.297283Z"
    },
    "papermill": {
     "duration": 0.131589,
     "end_time": "2023-08-13T00:58:33.301383",
     "exception": false,
     "start_time": "2023-08-13T00:58:33.169794",
     "status": "completed"
    },
    "tags": []
   },
   "outputs": [],
   "source": [
    "# pipe_final = Pipeline(steps=[\n",
    "#                         (\"preprocessor\", ct_final),\n",
    "#                         (\"model\", LogisticRegression(max_iter=100000))\n",
    "#                     ])\n",
    "# pipe_final"
   ]
  },
  {
   "cell_type": "code",
   "execution_count": 230,
   "id": "6ee67da1",
   "metadata": {
    "execution": {
     "iopub.execute_input": "2023-08-13T00:58:33.545861Z",
     "iopub.status.busy": "2023-08-13T00:58:33.545190Z",
     "iopub.status.idle": "2023-08-13T00:58:33.549366Z",
     "shell.execute_reply": "2023-08-13T00:58:33.548224Z"
    },
    "papermill": {
     "duration": 0.128998,
     "end_time": "2023-08-13T00:58:33.552135",
     "exception": false,
     "start_time": "2023-08-13T00:58:33.423137",
     "status": "completed"
    },
    "tags": []
   },
   "outputs": [],
   "source": [
    "# final_vars = num_vars + txt_vars + cat_vars\n",
    "# len(final_vars), final_vars"
   ]
  },
  {
   "cell_type": "markdown",
   "id": "694833be",
   "metadata": {
    "papermill": {
     "duration": 0.118821,
     "end_time": "2023-08-13T00:58:33.790449",
     "exception": false,
     "start_time": "2023-08-13T00:58:33.671628",
     "status": "completed"
    },
    "tags": []
   },
   "source": [
    "### Use \"split_train_predict\" function to run end-to-end pipeline  "
   ]
  },
  {
   "cell_type": "code",
   "execution_count": 231,
   "id": "90478e5f",
   "metadata": {
    "execution": {
     "iopub.execute_input": "2023-08-13T00:58:34.028511Z",
     "iopub.status.busy": "2023-08-13T00:58:34.028133Z",
     "iopub.status.idle": "2023-08-13T00:58:34.032761Z",
     "shell.execute_reply": "2023-08-13T00:58:34.031888Z"
    },
    "papermill": {
     "duration": 0.127223,
     "end_time": "2023-08-13T00:58:34.034917",
     "exception": false,
     "start_time": "2023-08-13T00:58:33.907694",
     "status": "completed"
    },
    "tags": []
   },
   "outputs": [],
   "source": [
    "# split_train_predict(merged_train_features, merged_train_labels, pipe_final, test_size=0.25, random_state=42)"
   ]
  },
  {
   "cell_type": "markdown",
   "id": "214aaed2",
   "metadata": {
    "papermill": {
     "duration": 0.120054,
     "end_time": "2023-08-13T00:58:34.272962",
     "exception": false,
     "start_time": "2023-08-13T00:58:34.152908",
     "status": "completed"
    },
    "tags": []
   },
   "source": [
    "## Try the best four features obtained on local machine  "
   ]
  },
  {
   "cell_type": "code",
   "execution_count": 232,
   "id": "4c7861dc",
   "metadata": {
    "execution": {
     "iopub.execute_input": "2023-08-13T00:58:34.514677Z",
     "iopub.status.busy": "2023-08-13T00:58:34.513450Z",
     "iopub.status.idle": "2023-08-13T00:58:34.517979Z",
     "shell.execute_reply": "2023-08-13T00:58:34.516958Z"
    },
    "papermill": {
     "duration": 0.128677,
     "end_time": "2023-08-13T00:58:34.520496",
     "exception": false,
     "start_time": "2023-08-13T00:58:34.391819",
     "status": "completed"
    },
    "tags": []
   },
   "outputs": [],
   "source": [
    "# tfidf_vec_2 = TfidfVectorizer(ngram_range=(1,2))\n",
    "# tfidf_vec_2"
   ]
  },
  {
   "cell_type": "code",
   "execution_count": 233,
   "id": "5763fa80",
   "metadata": {
    "execution": {
     "iopub.execute_input": "2023-08-13T00:58:34.768676Z",
     "iopub.status.busy": "2023-08-13T00:58:34.767606Z",
     "iopub.status.idle": "2023-08-13T00:58:34.774372Z",
     "shell.execute_reply": "2023-08-13T00:58:34.773047Z"
    },
    "papermill": {
     "duration": 0.132609,
     "end_time": "2023-08-13T00:58:34.776905",
     "exception": false,
     "start_time": "2023-08-13T00:58:34.644296",
     "status": "completed"
    },
    "tags": []
   },
   "outputs": [],
   "source": [
    "# ct_best4 = ColumnTransformer(transformers=[\n",
    "#                                             (\"num\", num_pipe, [\"audienceScore\"]),\n",
    "#                                             (\"cat\", cat_pipe, [\"rating\", \"isFrequentReviewer\"]),\n",
    "#                                             (\"tvec\", tfidf_vec_2, \"reviewText\")\n",
    "#                             ])\n",
    "\n",
    "# pipe_best4 = Pipeline(steps=[\n",
    "#     (\"preprocessor\", ct_best4),\n",
    "#     (\"model\", LogisticRegression())\n",
    "# ])\n",
    "\n",
    "# pipe_best4.set_params(model__C=10, model__max_iter=100000)\n",
    "\n",
    "# pipe_best4"
   ]
  },
  {
   "cell_type": "code",
   "execution_count": 234,
   "id": "5dba754c",
   "metadata": {
    "execution": {
     "iopub.execute_input": "2023-08-13T00:58:35.020775Z",
     "iopub.status.busy": "2023-08-13T00:58:35.020355Z",
     "iopub.status.idle": "2023-08-13T00:58:35.024196Z",
     "shell.execute_reply": "2023-08-13T00:58:35.023432Z"
    },
    "papermill": {
     "duration": 0.129303,
     "end_time": "2023-08-13T00:58:35.026397",
     "exception": false,
     "start_time": "2023-08-13T00:58:34.897094",
     "status": "completed"
    },
    "tags": []
   },
   "outputs": [],
   "source": [
    "# split_train_predict(merged[[\"audienceScore\", \"rating\", \"isFrequentReviewer\", \"reviewText\"]], merged[\"sentiment\"], pipe_best4, test_size=0.25)"
   ]
  },
  {
   "cell_type": "markdown",
   "id": "daa32e0b",
   "metadata": {
    "papermill": {
     "duration": 0.118117,
     "end_time": "2023-08-13T00:58:35.265464",
     "exception": false,
     "start_time": "2023-08-13T00:58:35.147347",
     "status": "completed"
    },
    "tags": []
   },
   "source": [
    "## Try only 'reviewText' column  "
   ]
  },
  {
   "cell_type": "code",
   "execution_count": 235,
   "id": "df0af3fc",
   "metadata": {
    "execution": {
     "iopub.execute_input": "2023-08-13T00:58:35.513252Z",
     "iopub.status.busy": "2023-08-13T00:58:35.512628Z",
     "iopub.status.idle": "2023-08-13T00:58:35.516801Z",
     "shell.execute_reply": "2023-08-13T00:58:35.515890Z"
    },
    "papermill": {
     "duration": 0.134484,
     "end_time": "2023-08-13T00:58:35.518964",
     "exception": false,
     "start_time": "2023-08-13T00:58:35.384480",
     "status": "completed"
    },
    "tags": []
   },
   "outputs": [],
   "source": [
    "# tfidf_vec_3 = TfidfVectorizer(ngram_range=(1,2))\n",
    "# tfidf_vec_3"
   ]
  },
  {
   "cell_type": "code",
   "execution_count": 236,
   "id": "afe724c1",
   "metadata": {
    "execution": {
     "iopub.execute_input": "2023-08-13T00:58:35.761781Z",
     "iopub.status.busy": "2023-08-13T00:58:35.761392Z",
     "iopub.status.idle": "2023-08-13T00:58:35.765321Z",
     "shell.execute_reply": "2023-08-13T00:58:35.764498Z"
    },
    "papermill": {
     "duration": 0.127184,
     "end_time": "2023-08-13T00:58:35.768163",
     "exception": false,
     "start_time": "2023-08-13T00:58:35.640979",
     "status": "completed"
    },
    "tags": []
   },
   "outputs": [],
   "source": [
    "# ct_RTonly = ColumnTransformer(transformers=[\n",
    "#                                             ('txt', tfidf_vec_3, 'reviewText'),\n",
    "#                                             ], remainder='drop')\n",
    "# ct_RTonly"
   ]
  },
  {
   "cell_type": "code",
   "execution_count": 237,
   "id": "b66ad227",
   "metadata": {
    "execution": {
     "iopub.execute_input": "2023-08-13T00:58:36.006943Z",
     "iopub.status.busy": "2023-08-13T00:58:36.006275Z",
     "iopub.status.idle": "2023-08-13T00:58:36.011236Z",
     "shell.execute_reply": "2023-08-13T00:58:36.010035Z"
    },
    "papermill": {
     "duration": 0.12603,
     "end_time": "2023-08-13T00:58:36.013845",
     "exception": false,
     "start_time": "2023-08-13T00:58:35.887815",
     "status": "completed"
    },
    "tags": []
   },
   "outputs": [],
   "source": [
    "# pipe_RTonly = Pipeline(steps=[\n",
    "#     (\"preprocessor\", ct_RTonly),\n",
    "#     (\"model\", LogisticRegression())\n",
    "# ])\n",
    "\n",
    "# pipe_RTonly.set_params(model__C=10, model__max_iter=100000)\n",
    "\n",
    "# pipe_RTonly"
   ]
  },
  {
   "cell_type": "markdown",
   "id": "935b57ab",
   "metadata": {
    "papermill": {
     "duration": 0.117253,
     "end_time": "2023-08-13T00:58:36.324469",
     "exception": false,
     "start_time": "2023-08-13T00:58:36.207216",
     "status": "completed"
    },
    "tags": []
   },
   "source": [
    "## Using the 'submit_v4' function  "
   ]
  },
  {
   "cell_type": "markdown",
   "id": "565c6c28",
   "metadata": {
    "papermill": {
     "duration": 0.117923,
     "end_time": "2023-08-13T00:58:36.560902",
     "exception": false,
     "start_time": "2023-08-13T00:58:36.442979",
     "status": "completed"
    },
    "tags": []
   },
   "source": [
    "### Try the best 4 parameters with submit_v4 function"
   ]
  },
  {
   "cell_type": "code",
   "execution_count": 238,
   "id": "0dd93d24",
   "metadata": {
    "execution": {
     "iopub.execute_input": "2023-08-13T00:58:36.796547Z",
     "iopub.status.busy": "2023-08-13T00:58:36.795715Z",
     "iopub.status.idle": "2023-08-13T00:58:36.800532Z",
     "shell.execute_reply": "2023-08-13T00:58:36.799219Z"
    },
    "papermill": {
     "duration": 0.126024,
     "end_time": "2023-08-13T00:58:36.803176",
     "exception": false,
     "start_time": "2023-08-13T00:58:36.677152",
     "status": "completed"
    },
    "tags": []
   },
   "outputs": [],
   "source": [
    "# best4 = [\"audienceScore\", \"rating\", \"isFrequentReviewer\", \"reviewText\"]\n",
    "\n",
    "# best4_dict = {'cat': [\"rating\", \"isFrequentReviewer\"],\n",
    "#              'num': [\"audienceScore\"],\n",
    "#              'txt': ['reviewText']}\n",
    "\n",
    "# best4_dict = {'num': [\"audienceScore\"],\n",
    "#              'txt': ['reviewText', 'movieid', 'director']}\n",
    "\n",
    "# best4_dict"
   ]
  },
  {
   "cell_type": "code",
   "execution_count": 239,
   "id": "a5aa4b31",
   "metadata": {
    "execution": {
     "iopub.execute_input": "2023-08-13T00:58:37.045806Z",
     "iopub.status.busy": "2023-08-13T00:58:37.045310Z",
     "iopub.status.idle": "2023-08-13T00:58:37.050757Z",
     "shell.execute_reply": "2023-08-13T00:58:37.049440Z"
    },
    "papermill": {
     "duration": 0.129675,
     "end_time": "2023-08-13T00:58:37.052911",
     "exception": false,
     "start_time": "2023-08-13T00:58:36.923236",
     "status": "completed"
    },
    "tags": []
   },
   "outputs": [],
   "source": [
    "# submit_v4(selected_features=best4_dict)"
   ]
  },
  {
   "cell_type": "markdown",
   "id": "bcb9654b",
   "metadata": {
    "papermill": {
     "duration": 0.115696,
     "end_time": "2023-08-13T00:58:37.284293",
     "exception": false,
     "start_time": "2023-08-13T00:58:37.168597",
     "status": "completed"
    },
    "tags": []
   },
   "source": [
    "### Try the best 3 parameters with submit_v4 function"
   ]
  },
  {
   "cell_type": "code",
   "execution_count": 240,
   "id": "3fb59e96",
   "metadata": {
    "execution": {
     "iopub.execute_input": "2023-08-13T00:58:37.526214Z",
     "iopub.status.busy": "2023-08-13T00:58:37.525502Z",
     "iopub.status.idle": "2023-08-13T00:58:37.530377Z",
     "shell.execute_reply": "2023-08-13T00:58:37.529189Z"
    },
    "papermill": {
     "duration": 0.131391,
     "end_time": "2023-08-13T00:58:37.532968",
     "exception": false,
     "start_time": "2023-08-13T00:58:37.401577",
     "status": "completed"
    },
    "tags": []
   },
   "outputs": [],
   "source": [
    "# best3 = [\"audienceScore\", \"isFrequentReviewer\", \"reviewText\"]\n",
    "# best3_dict = {'cat': [\"isFrequentReviewer\"],\n",
    "#              'num': [\"audienceScore\"],\n",
    "#              'txt': ['reviewText']}\n",
    "# best3_dict"
   ]
  },
  {
   "cell_type": "code",
   "execution_count": 241,
   "id": "76e795f9",
   "metadata": {
    "execution": {
     "iopub.execute_input": "2023-08-13T00:58:37.770637Z",
     "iopub.status.busy": "2023-08-13T00:58:37.769778Z",
     "iopub.status.idle": "2023-08-13T00:58:37.774566Z",
     "shell.execute_reply": "2023-08-13T00:58:37.773230Z"
    },
    "papermill": {
     "duration": 0.127126,
     "end_time": "2023-08-13T00:58:37.777283",
     "exception": false,
     "start_time": "2023-08-13T00:58:37.650157",
     "status": "completed"
    },
    "tags": []
   },
   "outputs": [],
   "source": [
    "# submit_v4(selected_features=best3_dict)"
   ]
  },
  {
   "cell_type": "markdown",
   "id": "556026e1",
   "metadata": {
    "papermill": {
     "duration": 0.116471,
     "end_time": "2023-08-13T00:58:38.012808",
     "exception": false,
     "start_time": "2023-08-13T00:58:37.896337",
     "status": "completed"
    },
    "tags": []
   },
   "source": [
    "## Try throwing almost everything (no boxOffice) at submit_v4!  "
   ]
  },
  {
   "cell_type": "code",
   "execution_count": 242,
   "id": "26b387f9",
   "metadata": {
    "execution": {
     "iopub.execute_input": "2023-08-13T00:58:38.252557Z",
     "iopub.status.busy": "2023-08-13T00:58:38.251737Z",
     "iopub.status.idle": "2023-08-13T00:58:38.259591Z",
     "shell.execute_reply": "2023-08-13T00:58:38.258442Z"
    },
    "papermill": {
     "duration": 0.129429,
     "end_time": "2023-08-13T00:58:38.261997",
     "exception": false,
     "start_time": "2023-08-13T00:58:38.132568",
     "status": "completed"
    },
    "tags": []
   },
   "outputs": [
    {
     "data": {
      "text/plain": [
       "\"Most from merged = ['movieid', 'reviewerName', 'isFrequentReviewer', 'reviewText',\\n       'audienceScore', 'rating', 'runtimeMinutes', 'genre', \\n       'originalLanguage', 'director']\""
      ]
     },
     "execution_count": 242,
     "metadata": {},
     "output_type": "execute_result"
    }
   ],
   "source": [
    "\"\"\"Most from merged = ['movieid', 'reviewerName', 'isFrequentReviewer', 'reviewText',\n",
    "       'audienceScore', 'rating', 'runtimeMinutes', 'genre', \n",
    "       'originalLanguage', 'director']\"\"\"\n",
    "\n",
    "# almost_dict = {'cat': [\"isFrequentReviewer\", \"rating\", \"originalLanguage\"],\n",
    "#              'num': [\"audienceScore\", \"runtimeMinutes\"],\n",
    "#              'txt': ['reviewText', 'reviewerName', 'movieid', 'genre', 'director']}\n",
    "# almost_dict"
   ]
  },
  {
   "cell_type": "code",
   "execution_count": 243,
   "id": "d041ca6a",
   "metadata": {
    "execution": {
     "iopub.execute_input": "2023-08-13T00:58:38.509787Z",
     "iopub.status.busy": "2023-08-13T00:58:38.509401Z",
     "iopub.status.idle": "2023-08-13T00:58:38.514782Z",
     "shell.execute_reply": "2023-08-13T00:58:38.513658Z"
    },
    "papermill": {
     "duration": 0.131339,
     "end_time": "2023-08-13T00:58:38.517150",
     "exception": false,
     "start_time": "2023-08-13T00:58:38.385811",
     "status": "completed"
    },
    "tags": []
   },
   "outputs": [],
   "source": [
    "# submit_v4(selected_features=almost_dict)"
   ]
  },
  {
   "cell_type": "markdown",
   "id": "6756e196",
   "metadata": {
    "papermill": {
     "duration": 0.136677,
     "end_time": "2023-08-13T00:58:38.776052",
     "exception": false,
     "start_time": "2023-08-13T00:58:38.639375",
     "status": "completed"
    },
    "tags": []
   },
   "source": [
    "## Try throwing everything possible at submit_v4!  "
   ]
  },
  {
   "cell_type": "code",
   "execution_count": 244,
   "id": "bd3ad107",
   "metadata": {
    "execution": {
     "iopub.execute_input": "2023-08-13T00:58:39.028949Z",
     "iopub.status.busy": "2023-08-13T00:58:39.028558Z",
     "iopub.status.idle": "2023-08-13T00:58:39.036555Z",
     "shell.execute_reply": "2023-08-13T00:58:39.035049Z"
    },
    "papermill": {
     "duration": 0.133787,
     "end_time": "2023-08-13T00:58:39.038926",
     "exception": false,
     "start_time": "2023-08-13T00:58:38.905139",
     "status": "completed"
    },
    "tags": []
   },
   "outputs": [
    {
     "data": {
      "text/plain": [
       "\"All from merged = ['movieid', 'reviewerName', 'isFrequentReviewer', 'reviewText',\\n       'audienceScore', 'rating', 'runtimeMinutes', 'genre', 'boxOffice',\\n       'originalLanguage', 'director']\""
      ]
     },
     "execution_count": 244,
     "metadata": {},
     "output_type": "execute_result"
    }
   ],
   "source": [
    "\"\"\"All from merged = ['movieid', 'reviewerName', 'isFrequentReviewer', 'reviewText',\n",
    "       'audienceScore', 'rating', 'runtimeMinutes', 'genre', 'boxOffice',\n",
    "       'originalLanguage', 'director']\"\"\"\n",
    "\n",
    "# all_dict = {'cat': [\"isFrequentReviewer\", \"rating\", \"originalLanguage\"],\n",
    "#              'num': [\"audienceScore\", \"runtimeMinutes\", \"boxOffice\"],\n",
    "#              'txt': ['reviewText', 'reviewerName', 'movieid', 'genre', 'director']}\n",
    "# all_dict"
   ]
  },
  {
   "cell_type": "code",
   "execution_count": 245,
   "id": "35ff3e71",
   "metadata": {
    "execution": {
     "iopub.execute_input": "2023-08-13T00:58:39.274015Z",
     "iopub.status.busy": "2023-08-13T00:58:39.273104Z",
     "iopub.status.idle": "2023-08-13T00:58:39.277668Z",
     "shell.execute_reply": "2023-08-13T00:58:39.276649Z"
    },
    "papermill": {
     "duration": 0.122889,
     "end_time": "2023-08-13T00:58:39.280202",
     "exception": false,
     "start_time": "2023-08-13T00:58:39.157313",
     "status": "completed"
    },
    "tags": []
   },
   "outputs": [],
   "source": [
    "# submit_v4(selected_features=all_dict)"
   ]
  },
  {
   "cell_type": "markdown",
   "id": "a9b0c063",
   "metadata": {
    "papermill": {
     "duration": 0.119811,
     "end_time": "2023-08-13T00:58:39.515021",
     "exception": false,
     "start_time": "2023-08-13T00:58:39.395210",
     "status": "completed"
    },
    "tags": []
   },
   "source": [
    "## Try GridSearchCV on everything  "
   ]
  },
  {
   "cell_type": "code",
   "execution_count": 246,
   "id": "c22cf110",
   "metadata": {
    "execution": {
     "iopub.execute_input": "2023-08-13T00:58:39.757935Z",
     "iopub.status.busy": "2023-08-13T00:58:39.757545Z",
     "iopub.status.idle": "2023-08-13T00:58:39.762911Z",
     "shell.execute_reply": "2023-08-13T00:58:39.761787Z"
    },
    "papermill": {
     "duration": 0.12853,
     "end_time": "2023-08-13T00:58:39.765135",
     "exception": false,
     "start_time": "2023-08-13T00:58:39.636605",
     "status": "completed"
    },
    "tags": []
   },
   "outputs": [],
   "source": [
    "# param_grid = {\n",
    "#     \"model__C\": [0.5, 2, 5, 15]\n",
    "# }\n",
    "\n",
    "# param_grid = {\n",
    "#     'model__C' : [1, 5],\n",
    "#     'model__solver': ['lbfgs', 'liblinear', 'newton-cg', 'newton-cholesky', 'sag', 'saga']\n",
    "# }\n",
    "\n",
    "# param_grid = {\n",
    "#     'model__C' : [1, 5],\n",
    "#     'model__solver': ['lbfgs', 'liblinear', 'sag', 'saga']\n",
    "# }\n",
    "\n",
    "# param_grid = {\n",
    "#     'model__C' : [1, 5, 10, 15],\n",
    "#     'model__solver': ['lbfgs', 'liblinear', 'saga', 'newton-cg']\n",
    "# }\n",
    "\n",
    "# param_grid = {\n",
    "#     'model__C' : [1, 5, 10, 20],\n",
    "#     'model__solver': ['lbfgs', 'liblinear', 'saga']\n",
    "# }\n",
    "\n",
    "# param_grid"
   ]
  },
  {
   "cell_type": "code",
   "execution_count": 247,
   "id": "63b07aea",
   "metadata": {
    "execution": {
     "iopub.execute_input": "2023-08-13T00:58:40.007326Z",
     "iopub.status.busy": "2023-08-13T00:58:40.006962Z",
     "iopub.status.idle": "2023-08-13T00:58:40.011936Z",
     "shell.execute_reply": "2023-08-13T00:58:40.010904Z"
    },
    "papermill": {
     "duration": 0.128744,
     "end_time": "2023-08-13T00:58:40.014096",
     "exception": false,
     "start_time": "2023-08-13T00:58:39.885352",
     "status": "completed"
    },
    "tags": []
   },
   "outputs": [],
   "source": [
    "# submit_v4(selected_features={'txt': [\"genre\"]}, param_grid=param_grid)"
   ]
  },
  {
   "cell_type": "code",
   "execution_count": 248,
   "id": "51233b66",
   "metadata": {
    "execution": {
     "iopub.execute_input": "2023-08-13T00:58:40.253365Z",
     "iopub.status.busy": "2023-08-13T00:58:40.252591Z",
     "iopub.status.idle": "2023-08-13T00:58:40.260653Z",
     "shell.execute_reply": "2023-08-13T00:58:40.259600Z"
    },
    "papermill": {
     "duration": 0.130184,
     "end_time": "2023-08-13T00:58:40.262897",
     "exception": false,
     "start_time": "2023-08-13T00:58:40.132713",
     "status": "completed"
    },
    "tags": []
   },
   "outputs": [
    {
     "data": {
      "text/plain": [
       "\"Used 'groupby' function instead on 'drop_duplicates' on movies.csv file. \\nIt reduced the number of missing values significantly! \\nThen used LogisticRegression() with GridSearchCV on submit_v4 function with \\nparam_grid={'model__C': [1, 5, 10], 'model__solver': ['lbfgs', 'liblinear', 'saga']}. \\nThe best f1_micro score in GridSearchCV was 0.8399771362056203 which is highest among \\nall the versions so far. Best C was 5 and best solver was 'saga'.\\nScore obtained was 0.84385 which is lower than 0.84441.\""
      ]
     },
     "execution_count": 248,
     "metadata": {},
     "output_type": "execute_result"
    }
   ],
   "source": [
    "# submit_v4(selected_features=all_dict, param_grid=param_grid)\n",
    "\n",
    "# Best C was 5\n",
    "# Best solver was liblinear\n",
    "\n",
    "\"\"\"Used 'groupby' function instead on 'drop_duplicates' on movies.csv file. \n",
    "It reduced the number of missing values significantly! \n",
    "Then used LogisticRegression() with GridSearchCV on submit_v4 function with \n",
    "param_grid={'model__C': [1, 5, 10], 'model__solver': ['lbfgs', 'liblinear', 'saga']}. \n",
    "The best f1_micro score in GridSearchCV was 0.8399771362056203 which is highest among \n",
    "all the versions so far. Best C was 5 and best solver was 'saga'.\n",
    "Score obtained was 0.84385 which is lower than 0.84441.\"\"\""
   ]
  },
  {
   "cell_type": "code",
   "execution_count": 249,
   "id": "fc526c89",
   "metadata": {
    "execution": {
     "iopub.execute_input": "2023-08-13T00:58:40.505272Z",
     "iopub.status.busy": "2023-08-13T00:58:40.504663Z",
     "iopub.status.idle": "2023-08-13T00:58:40.509317Z",
     "shell.execute_reply": "2023-08-13T00:58:40.508204Z"
    },
    "papermill": {
     "duration": 0.131648,
     "end_time": "2023-08-13T00:58:40.511764",
     "exception": false,
     "start_time": "2023-08-13T00:58:40.380116",
     "status": "completed"
    },
    "tags": []
   },
   "outputs": [],
   "source": [
    "# Best 5 parameters\n",
    "\n",
    "# best5_dict = {'num': [\"audienceScore\"],\n",
    "#              'txt': ['reviewText', 'reviewerName','movieid', 'director']}\n",
    "\n",
    "# best5_dict"
   ]
  },
  {
   "cell_type": "code",
   "execution_count": 250,
   "id": "d78c766f",
   "metadata": {
    "execution": {
     "iopub.execute_input": "2023-08-13T00:58:40.755894Z",
     "iopub.status.busy": "2023-08-13T00:58:40.755286Z",
     "iopub.status.idle": "2023-08-13T00:58:40.764167Z",
     "shell.execute_reply": "2023-08-13T00:58:40.762759Z"
    },
    "papermill": {
     "duration": 0.131321,
     "end_time": "2023-08-13T00:58:40.766607",
     "exception": false,
     "start_time": "2023-08-13T00:58:40.635286",
     "status": "completed"
    },
    "tags": []
   },
   "outputs": [
    {
     "data": {
      "text/plain": [
       "\"(Update): Used both CountVectorizer and TfidfVectorizer on a massive GridSearchCV \\nwhich took 22527.2s  (6.25 hrs) to run! Gave a score of 0.8439093822800923 locally and did not overfit!\\nBest params: {'model__C': 1, 'model__solver': 'liblinear'}.\\nHighest public score yet: 0.84591 (Rank up from 9 to 5!)\""
      ]
     },
     "execution_count": 250,
     "metadata": {},
     "output_type": "execute_result"
    }
   ],
   "source": [
    "# Submit best 5 features\n",
    "\n",
    "\"\"\"(Update): Used both CountVectorizer and TfidfVectorizer on a massive GridSearchCV \n",
    "which took 22527.2s  (6.25 hrs) to run! Gave a score of 0.8439093822800923 locally and did not overfit!\n",
    "Best params: {'model__C': 1, 'model__solver': 'liblinear'}.\n",
    "Highest public score yet: 0.84591 (Rank up from 9 to 5!)\"\"\"\n",
    "\n",
    "# param_grid = {\n",
    "#     'model__C' : [5, 10, 15],\n",
    "#     'model__solver': ['lbfgs', 'liblinear', 'saga']\n",
    "# }\n",
    "\n",
    "\n",
    "# Try new param_grid with fit_intercept and dual in logreg\n",
    "\n",
    "# param_grid = {\n",
    "#     'model__C' : [1],\n",
    "#     'model__solver': ['liblinear'],\n",
    "#     \"model__fit_intercept\" : [True, False],\n",
    "#     \"model__dual\" : [True, False] \n",
    "# }\n",
    "\n",
    "\n",
    "# Local testing  \n",
    "# submit_v4(selected_features={'num': ['audienceScore']},\n",
    "#          add_countvec=True)\n",
    "\n",
    "# submit_v4(selected_features={'num': ['audienceScore']},\n",
    "#          add_countvec=True, \n",
    "#           param_grid=param_grid)\n",
    "\n",
    "\n",
    "# Main submission\n",
    "\n",
    "# submit_v4(selected_features=best5_dict,\n",
    "#          add_countvec=True)\n",
    "\n",
    "\n",
    "# submit_v4(selected_features=best5_dict,\n",
    "#           add_countvec=True,\n",
    "#           param_grid=param_grid)"
   ]
  },
  {
   "cell_type": "code",
   "execution_count": 251,
   "id": "5fe9b96f",
   "metadata": {
    "execution": {
     "iopub.execute_input": "2023-08-13T00:58:41.003587Z",
     "iopub.status.busy": "2023-08-13T00:58:41.002500Z",
     "iopub.status.idle": "2023-08-13T00:58:41.009407Z",
     "shell.execute_reply": "2023-08-13T00:58:41.008040Z"
    },
    "papermill": {
     "duration": 0.12758,
     "end_time": "2023-08-13T00:58:41.011982",
     "exception": false,
     "start_time": "2023-08-13T00:58:40.884402",
     "status": "completed"
    },
    "tags": []
   },
   "outputs": [],
   "source": [
    "## ALL DICT cv=10\n",
    "\n",
    "# all_dict = {'cat': [\"isFrequentReviewer\", \"rating\", \"originalLanguage\"],\n",
    "#              'num': [\"audienceScore\", \"runtimeMinutes\", \"boxOffice\"],\n",
    "#              'txt': ['reviewText', 'reviewerName', 'movieid', 'genre', 'director']}\n",
    "# print(all_dict)\n",
    "\n",
    "# param_grid = {\n",
    "#     'model__C' : [2, 5, 10],\n",
    "#     'model__solver': ['lbfgs', 'liblinear', 'saga']\n",
    "# }\n",
    "# print(param_grid)\n",
    "\n",
    "# param_grid = {\n",
    "#     'model__C' : [1, 5, 10],\n",
    "#     'model__solver': ['liblinear'],\n",
    "#     \"model__fit_intercept\" : [True, False],\n",
    "#     \"model__dual\" : [True, False] \n",
    "# }\n",
    "\n",
    "\n",
    "# Main submission\n",
    "\n",
    "# submit_v4(selected_model=LogisticRegression(C=5, solver='liblinear', max_iter=10000),\n",
    "#           selected_features=all_dict,\n",
    "#           param_grid=param_grid)\n",
    "\n",
    "# submit_v4(selected_features=all_dict,\n",
    "#           add_countvec=True,\n",
    "#           param_grid=param_grid)"
   ]
  },
  {
   "cell_type": "code",
   "execution_count": 252,
   "id": "c8d8a3b5",
   "metadata": {
    "execution": {
     "iopub.execute_input": "2023-08-13T00:58:41.245262Z",
     "iopub.status.busy": "2023-08-13T00:58:41.244112Z",
     "iopub.status.idle": "2023-08-13T00:58:41.248946Z",
     "shell.execute_reply": "2023-08-13T00:58:41.248170Z"
    },
    "papermill": {
     "duration": 0.123987,
     "end_time": "2023-08-13T00:58:41.251129",
     "exception": false,
     "start_time": "2023-08-13T00:58:41.127142",
     "status": "completed"
    },
    "tags": []
   },
   "outputs": [],
   "source": [
    "# Best 6 parameters\n",
    "\n",
    "# best6_dict = {'cat': [\"isFrequentReviewer\"],\n",
    "#              'num': [\"audienceScore\"],\n",
    "#              'txt': ['reviewText', 'reviewerName', 'genre', 'director']}\n",
    "\n",
    "# best6_dict = {'num': [\"audienceScore\"],\n",
    "#              'txt': ['reviewText', 'reviewerName', 'genre','movieid', 'director']}\n",
    "\n",
    "# best6_dict"
   ]
  },
  {
   "cell_type": "code",
   "execution_count": 253,
   "id": "cb912b72",
   "metadata": {
    "execution": {
     "iopub.execute_input": "2023-08-13T00:58:41.488841Z",
     "iopub.status.busy": "2023-08-13T00:58:41.487877Z",
     "iopub.status.idle": "2023-08-13T00:58:41.492024Z",
     "shell.execute_reply": "2023-08-13T00:58:41.491233Z"
    },
    "papermill": {
     "duration": 0.126065,
     "end_time": "2023-08-13T00:58:41.494109",
     "exception": false,
     "start_time": "2023-08-13T00:58:41.368044",
     "status": "completed"
    },
    "tags": []
   },
   "outputs": [],
   "source": [
    "# Submit best 6 features (version 2)\n",
    "\n",
    "# submit_v4(selected_features=best6_dict,\n",
    "#           param_grid=param_grid)"
   ]
  },
  {
   "cell_type": "code",
   "execution_count": 254,
   "id": "4f9db432",
   "metadata": {
    "execution": {
     "iopub.execute_input": "2023-08-13T00:58:41.806789Z",
     "iopub.status.busy": "2023-08-13T00:58:41.806323Z",
     "iopub.status.idle": "2023-08-13T00:58:41.811949Z",
     "shell.execute_reply": "2023-08-13T00:58:41.810881Z"
    },
    "papermill": {
     "duration": 0.203357,
     "end_time": "2023-08-13T00:58:41.814457",
     "exception": false,
     "start_time": "2023-08-13T00:58:41.611100",
     "status": "completed"
    },
    "tags": []
   },
   "outputs": [],
   "source": [
    "# Best 7 parameters\n",
    "\n",
    "# best7_dict = {'cat': [\"isFrequentReviewer\"],\n",
    "#              'num': [\"audienceScore\"],\n",
    "#              'txt': ['reviewText', 'reviewerName', 'movieid', 'genre', 'director']}\n",
    "# best7_dict"
   ]
  },
  {
   "cell_type": "code",
   "execution_count": 255,
   "id": "e6ea3ff1",
   "metadata": {
    "execution": {
     "iopub.execute_input": "2023-08-13T00:58:42.059256Z",
     "iopub.status.busy": "2023-08-13T00:58:42.058505Z",
     "iopub.status.idle": "2023-08-13T00:58:42.063136Z",
     "shell.execute_reply": "2023-08-13T00:58:42.062285Z"
    },
    "papermill": {
     "duration": 0.129593,
     "end_time": "2023-08-13T00:58:42.065356",
     "exception": false,
     "start_time": "2023-08-13T00:58:41.935763",
     "status": "completed"
    },
    "tags": []
   },
   "outputs": [],
   "source": [
    "# Submit best 7 features\n",
    "\n",
    "# submit_v4(selected_features=best7_dict,\n",
    "#           param_grid=param_grid)"
   ]
  },
  {
   "cell_type": "code",
   "execution_count": 256,
   "id": "820acc22",
   "metadata": {
    "execution": {
     "iopub.execute_input": "2023-08-13T00:58:42.306558Z",
     "iopub.status.busy": "2023-08-13T00:58:42.305858Z",
     "iopub.status.idle": "2023-08-13T00:58:42.310471Z",
     "shell.execute_reply": "2023-08-13T00:58:42.309754Z"
    },
    "papermill": {
     "duration": 0.131015,
     "end_time": "2023-08-13T00:58:42.312652",
     "exception": false,
     "start_time": "2023-08-13T00:58:42.181637",
     "status": "completed"
    },
    "tags": []
   },
   "outputs": [],
   "source": [
    "# submit_v4(selected_features=best6_dict, param_grid=param_grid)"
   ]
  },
  {
   "cell_type": "markdown",
   "id": "5367e4eb",
   "metadata": {
    "papermill": {
     "duration": 0.121788,
     "end_time": "2023-08-13T00:58:42.558102",
     "exception": false,
     "start_time": "2023-08-13T00:58:42.436314",
     "status": "completed"
    },
    "tags": []
   },
   "source": [
    "## Try a new feature dict  \n",
    "\n"
   ]
  },
  {
   "cell_type": "code",
   "execution_count": 257,
   "id": "49ecf99f",
   "metadata": {
    "execution": {
     "iopub.execute_input": "2023-08-13T00:58:42.797551Z",
     "iopub.status.busy": "2023-08-13T00:58:42.796918Z",
     "iopub.status.idle": "2023-08-13T00:58:42.801709Z",
     "shell.execute_reply": "2023-08-13T00:58:42.800880Z"
    },
    "papermill": {
     "duration": 0.124284,
     "end_time": "2023-08-13T00:58:42.803872",
     "exception": false,
     "start_time": "2023-08-13T00:58:42.679588",
     "status": "completed"
    },
    "tags": []
   },
   "outputs": [],
   "source": [
    "# all_dict_new = {'cat': [\"isFrequentReviewer\", \"rating\", \"originalLanguage\"],\n",
    "#              'num': [\"audienceScore\", \"runtimeMinutes\", \"boxOffice\"],\n",
    "#              'txt': ['reviewText', \"reviewerName\", 'movieid', 'genre', 'director']}\n",
    "# all_dict_new"
   ]
  },
  {
   "cell_type": "code",
   "execution_count": 258,
   "id": "1236aa62",
   "metadata": {
    "execution": {
     "iopub.execute_input": "2023-08-13T00:58:43.042590Z",
     "iopub.status.busy": "2023-08-13T00:58:43.041135Z",
     "iopub.status.idle": "2023-08-13T00:58:43.046504Z",
     "shell.execute_reply": "2023-08-13T00:58:43.045758Z"
    },
    "papermill": {
     "duration": 0.128356,
     "end_time": "2023-08-13T00:58:43.048676",
     "exception": false,
     "start_time": "2023-08-13T00:58:42.920320",
     "status": "completed"
    },
    "tags": []
   },
   "outputs": [],
   "source": [
    "# submit_v4(selected_features={'txt': ['genre']}, param_grid=param_grid)"
   ]
  },
  {
   "cell_type": "code",
   "execution_count": 259,
   "id": "0fe8ff4e",
   "metadata": {
    "execution": {
     "iopub.execute_input": "2023-08-13T00:58:43.287583Z",
     "iopub.status.busy": "2023-08-13T00:58:43.286626Z",
     "iopub.status.idle": "2023-08-13T00:58:43.291635Z",
     "shell.execute_reply": "2023-08-13T00:58:43.290505Z"
    },
    "papermill": {
     "duration": 0.126638,
     "end_time": "2023-08-13T00:58:43.293846",
     "exception": false,
     "start_time": "2023-08-13T00:58:43.167208",
     "status": "completed"
    },
    "tags": []
   },
   "outputs": [],
   "source": [
    "# submit_v4(selected_features=all_dict_new, param_grid=param_grid)"
   ]
  },
  {
   "cell_type": "code",
   "execution_count": 260,
   "id": "c9ed8f7d",
   "metadata": {
    "execution": {
     "iopub.execute_input": "2023-08-13T00:58:43.531403Z",
     "iopub.status.busy": "2023-08-13T00:58:43.530942Z",
     "iopub.status.idle": "2023-08-13T00:58:43.536571Z",
     "shell.execute_reply": "2023-08-13T00:58:43.535289Z"
    },
    "papermill": {
     "duration": 0.129037,
     "end_time": "2023-08-13T00:58:43.539159",
     "exception": false,
     "start_time": "2023-08-13T00:58:43.410122",
     "status": "completed"
    },
    "tags": []
   },
   "outputs": [],
   "source": [
    "# Try non-text based columns\n",
    "# num_cat_dict = {'cat': ['isFrequentReviewer', 'rating', 'originalLanguage'],\n",
    "#  'num': ['audienceScore', 'runtimeMinutes', 'boxOffice']}\n",
    "# num_cat_dict"
   ]
  },
  {
   "cell_type": "code",
   "execution_count": 261,
   "id": "0c369e1e",
   "metadata": {
    "execution": {
     "iopub.execute_input": "2023-08-13T00:58:43.776637Z",
     "iopub.status.busy": "2023-08-13T00:58:43.776223Z",
     "iopub.status.idle": "2023-08-13T00:58:43.780808Z",
     "shell.execute_reply": "2023-08-13T00:58:43.779691Z"
    },
    "papermill": {
     "duration": 0.12561,
     "end_time": "2023-08-13T00:58:43.783891",
     "exception": false,
     "start_time": "2023-08-13T00:58:43.658281",
     "status": "completed"
    },
    "tags": []
   },
   "outputs": [],
   "source": [
    "# Use num_cat_dict features\n",
    "# (Update): Gets a local score of 0.7027181356991726. Not great.\n",
    "# submit_v4(selected_model=LogisticRegression(max_iter=100000), selected_features=num_cat_dict, param_grid=param_grid)"
   ]
  },
  {
   "cell_type": "code",
   "execution_count": 262,
   "id": "08aaef63",
   "metadata": {
    "execution": {
     "iopub.execute_input": "2023-08-13T00:58:44.023831Z",
     "iopub.status.busy": "2023-08-13T00:58:44.023101Z",
     "iopub.status.idle": "2023-08-13T00:58:44.027996Z",
     "shell.execute_reply": "2023-08-13T00:58:44.026590Z"
    },
    "papermill": {
     "duration": 0.127076,
     "end_time": "2023-08-13T00:58:44.030643",
     "exception": false,
     "start_time": "2023-08-13T00:58:43.903567",
     "status": "completed"
    },
    "tags": []
   },
   "outputs": [],
   "source": [
    "# Try data other than reviewText\n",
    "\n",
    "# mov_dict = {'cat': ['rating', 'originalLanguage'],\n",
    "#  'num': ['audienceScore', 'runtimeMinutes', 'boxOffice'],\n",
    "#  'txt': ['movieid', 'genre', 'director']}\n",
    "# mov_dict"
   ]
  },
  {
   "cell_type": "code",
   "execution_count": 263,
   "id": "d1bf30e4",
   "metadata": {
    "execution": {
     "iopub.execute_input": "2023-08-13T00:58:44.266366Z",
     "iopub.status.busy": "2023-08-13T00:58:44.265831Z",
     "iopub.status.idle": "2023-08-13T00:58:44.270812Z",
     "shell.execute_reply": "2023-08-13T00:58:44.269958Z"
    },
    "papermill": {
     "duration": 0.125338,
     "end_time": "2023-08-13T00:58:44.272956",
     "exception": false,
     "start_time": "2023-08-13T00:58:44.147618",
     "status": "completed"
    },
    "tags": []
   },
   "outputs": [],
   "source": [
    "# Use mov_dict features\n",
    "# (Update): Gets a local score of 0.7475454316469369, which is not bad at all.\n",
    "# submit_v4(selected_model=LogisticRegression(max_iter=100000), selected_features=mov_dict, param_grid=param_grid)"
   ]
  },
  {
   "cell_type": "markdown",
   "id": "e14eb6a3",
   "metadata": {
    "papermill": {
     "duration": 0.115371,
     "end_time": "2023-08-13T00:58:44.503660",
     "exception": false,
     "start_time": "2023-08-13T00:58:44.388289",
     "status": "completed"
    },
    "tags": []
   },
   "source": [
    "# Try a new column 'reviewYN'  \n",
    "\n"
   ]
  },
  {
   "cell_type": "code",
   "execution_count": 264,
   "id": "fa5a2f2c",
   "metadata": {
    "execution": {
     "iopub.execute_input": "2023-08-13T00:58:44.738967Z",
     "iopub.status.busy": "2023-08-13T00:58:44.738255Z",
     "iopub.status.idle": "2023-08-13T00:58:44.742874Z",
     "shell.execute_reply": "2023-08-13T00:58:44.741985Z"
    },
    "papermill": {
     "duration": 0.12339,
     "end_time": "2023-08-13T00:58:44.745206",
     "exception": false,
     "start_time": "2023-08-13T00:58:44.621816",
     "status": "completed"
    },
    "tags": []
   },
   "outputs": [],
   "source": [
    "# all_dict_3 = {'cat': [\"isFrequentReviewer\", \"rating\", \"originalLanguage\", \"reviewYN\"],\n",
    "#              'num': [\"audienceScore\", \"runtimeMinutes\", \"boxOffice\"],\n",
    "#              'txt': ['reviewText', \"reviewerName\", 'movieid', 'genre', 'director']}\n",
    "# all_dict_3"
   ]
  },
  {
   "cell_type": "code",
   "execution_count": 265,
   "id": "37623d17",
   "metadata": {
    "execution": {
     "iopub.execute_input": "2023-08-13T00:58:44.984580Z",
     "iopub.status.busy": "2023-08-13T00:58:44.983548Z",
     "iopub.status.idle": "2023-08-13T00:58:44.989140Z",
     "shell.execute_reply": "2023-08-13T00:58:44.988146Z"
    },
    "papermill": {
     "duration": 0.128547,
     "end_time": "2023-08-13T00:58:44.991694",
     "exception": false,
     "start_time": "2023-08-13T00:58:44.863147",
     "status": "completed"
    },
    "tags": []
   },
   "outputs": [],
   "source": [
    "# submit_v4(selected_model=LogisticRegression(max_iter=100000),\n",
    "#          selected_features=all_dict_3, \n",
    "#           param_grid=param_grid)"
   ]
  },
  {
   "cell_type": "markdown",
   "id": "c57511a6",
   "metadata": {
    "papermill": {
     "duration": 0.117853,
     "end_time": "2023-08-13T00:58:45.230828",
     "exception": false,
     "start_time": "2023-08-13T00:58:45.112975",
     "status": "completed"
    },
    "tags": []
   },
   "source": [
    "### More GridSearchCV using LinearSVC  "
   ]
  },
  {
   "cell_type": "code",
   "execution_count": 266,
   "id": "b0cec47c",
   "metadata": {
    "execution": {
     "iopub.execute_input": "2023-08-13T00:58:45.472722Z",
     "iopub.status.busy": "2023-08-13T00:58:45.471957Z",
     "iopub.status.idle": "2023-08-13T00:58:45.476701Z",
     "shell.execute_reply": "2023-08-13T00:58:45.475687Z"
    },
    "papermill": {
     "duration": 0.129144,
     "end_time": "2023-08-13T00:58:45.478952",
     "exception": false,
     "start_time": "2023-08-13T00:58:45.349808",
     "status": "completed"
    },
    "tags": []
   },
   "outputs": [],
   "source": [
    "# param_grid_svc_2 = {\n",
    "#     'model__C': [1.0],\n",
    "#     'model__loss': ['hinge', 'squared_hinge'],\n",
    "#     'model__class_weight': ['balanced', None]\n",
    "# }\n",
    "# param_grid_svc_2"
   ]
  },
  {
   "cell_type": "code",
   "execution_count": 267,
   "id": "9d92abeb",
   "metadata": {
    "execution": {
     "iopub.execute_input": "2023-08-13T00:58:45.722325Z",
     "iopub.status.busy": "2023-08-13T00:58:45.721641Z",
     "iopub.status.idle": "2023-08-13T00:58:45.725929Z",
     "shell.execute_reply": "2023-08-13T00:58:45.724899Z"
    },
    "papermill": {
     "duration": 0.129113,
     "end_time": "2023-08-13T00:58:45.728109",
     "exception": false,
     "start_time": "2023-08-13T00:58:45.598996",
     "status": "completed"
    },
    "tags": []
   },
   "outputs": [],
   "source": [
    "# submit_v4(selected_model=LinearSVC(max_iter=100000, random_state=42), selected_features={'num': [\"audienceScore\"]}, param_grid=param_grid_svc_2)"
   ]
  },
  {
   "cell_type": "code",
   "execution_count": 268,
   "id": "b8745acb",
   "metadata": {
    "execution": {
     "iopub.execute_input": "2023-08-13T00:58:45.973968Z",
     "iopub.status.busy": "2023-08-13T00:58:45.973011Z",
     "iopub.status.idle": "2023-08-13T00:58:45.977904Z",
     "shell.execute_reply": "2023-08-13T00:58:45.977080Z"
    },
    "papermill": {
     "duration": 0.131033,
     "end_time": "2023-08-13T00:58:45.980317",
     "exception": false,
     "start_time": "2023-08-13T00:58:45.849284",
     "status": "completed"
    },
    "tags": []
   },
   "outputs": [],
   "source": [
    "# submit_v4(selected_model=LinearSVC(max_iter=100000, random_state=42), selected_features=all_dict, param_grid=param_grid_svc_2)"
   ]
  },
  {
   "cell_type": "markdown",
   "id": "4f0e7dc7",
   "metadata": {
    "papermill": {
     "duration": 0.119261,
     "end_time": "2023-08-13T00:58:46.217390",
     "exception": false,
     "start_time": "2023-08-13T00:58:46.098129",
     "status": "completed"
    },
    "tags": []
   },
   "source": [
    "### Boosting techniques  "
   ]
  },
  {
   "cell_type": "code",
   "execution_count": 269,
   "id": "126eb82b",
   "metadata": {
    "execution": {
     "iopub.execute_input": "2023-08-13T00:58:46.455211Z",
     "iopub.status.busy": "2023-08-13T00:58:46.454381Z",
     "iopub.status.idle": "2023-08-13T00:58:46.459300Z",
     "shell.execute_reply": "2023-08-13T00:58:46.457888Z"
    },
    "papermill": {
     "duration": 0.126103,
     "end_time": "2023-08-13T00:58:46.461884",
     "exception": false,
     "start_time": "2023-08-13T00:58:46.335781",
     "status": "completed"
    },
    "tags": []
   },
   "outputs": [],
   "source": [
    "# adc = AdaBoostClassifier(estimator=LogisticRegression(C=5, solver=\"saga\", max_iter=100000), n_estimators=50)\n",
    "# adc"
   ]
  },
  {
   "cell_type": "code",
   "execution_count": 270,
   "id": "512767fc",
   "metadata": {
    "execution": {
     "iopub.execute_input": "2023-08-13T00:58:46.703567Z",
     "iopub.status.busy": "2023-08-13T00:58:46.702507Z",
     "iopub.status.idle": "2023-08-13T00:58:46.707457Z",
     "shell.execute_reply": "2023-08-13T00:58:46.706068Z"
    },
    "papermill": {
     "duration": 0.129454,
     "end_time": "2023-08-13T00:58:46.709789",
     "exception": false,
     "start_time": "2023-08-13T00:58:46.580335",
     "status": "completed"
    },
    "tags": []
   },
   "outputs": [],
   "source": [
    "# submit_v4(selected_model=adc, selected_features={'num': [\"audienceScore\"]}, param_grid=None)"
   ]
  },
  {
   "cell_type": "code",
   "execution_count": 271,
   "id": "cc595ef6",
   "metadata": {
    "execution": {
     "iopub.execute_input": "2023-08-13T00:58:46.952485Z",
     "iopub.status.busy": "2023-08-13T00:58:46.950556Z",
     "iopub.status.idle": "2023-08-13T00:58:46.957724Z",
     "shell.execute_reply": "2023-08-13T00:58:46.956833Z"
    },
    "papermill": {
     "duration": 0.128965,
     "end_time": "2023-08-13T00:58:46.960164",
     "exception": false,
     "start_time": "2023-08-13T00:58:46.831199",
     "status": "completed"
    },
    "tags": []
   },
   "outputs": [],
   "source": [
    "# submit_v4(selected_model=adc, selected_features=all_dict, param_grid=None)\n",
    "\n",
    "# Took 1 hour 15 mins to run and gave a public score of only 0.71089. Discarded."
   ]
  },
  {
   "cell_type": "markdown",
   "id": "fade8e33",
   "metadata": {
    "papermill": {
     "duration": 0.117642,
     "end_time": "2023-08-13T00:58:47.264853",
     "exception": false,
     "start_time": "2023-08-13T00:58:47.147211",
     "status": "completed"
    },
    "tags": []
   },
   "source": [
    "### LightGBM  "
   ]
  },
  {
   "cell_type": "code",
   "execution_count": 272,
   "id": "c8de6314",
   "metadata": {
    "execution": {
     "iopub.execute_input": "2023-08-13T00:58:47.510898Z",
     "iopub.status.busy": "2023-08-13T00:58:47.509998Z",
     "iopub.status.idle": "2023-08-13T00:58:47.514576Z",
     "shell.execute_reply": "2023-08-13T00:58:47.513761Z"
    },
    "papermill": {
     "duration": 0.1297,
     "end_time": "2023-08-13T00:58:47.516726",
     "exception": false,
     "start_time": "2023-08-13T00:58:47.387026",
     "status": "completed"
    },
    "tags": []
   },
   "outputs": [],
   "source": [
    "# lgb = ltb.LGBMClassifier()\n",
    "# lgb"
   ]
  },
  {
   "cell_type": "code",
   "execution_count": 273,
   "id": "231eef9a",
   "metadata": {
    "execution": {
     "iopub.execute_input": "2023-08-13T00:58:47.760748Z",
     "iopub.status.busy": "2023-08-13T00:58:47.760065Z",
     "iopub.status.idle": "2023-08-13T00:58:47.764190Z",
     "shell.execute_reply": "2023-08-13T00:58:47.763471Z"
    },
    "papermill": {
     "duration": 0.127902,
     "end_time": "2023-08-13T00:58:47.766235",
     "exception": false,
     "start_time": "2023-08-13T00:58:47.638333",
     "status": "completed"
    },
    "tags": []
   },
   "outputs": [],
   "source": [
    "# Try LightGBM with default settings\n",
    "# (Update): Public score only 0.77713. It was fast, took less than 5 mins (without GridSearchCV)\n",
    "\n",
    "# submit_v4(selected_model=ltb.LGBMClassifier(), selected_features=all_dict, param_grid=None)"
   ]
  },
  {
   "cell_type": "markdown",
   "id": "c4c7eddf",
   "metadata": {
    "papermill": {
     "duration": 0.119503,
     "end_time": "2023-08-13T00:58:48.003727",
     "exception": false,
     "start_time": "2023-08-13T00:58:47.884224",
     "status": "completed"
    },
    "tags": []
   },
   "source": [
    "# Try feature selection and vocab fine tuning of reviewText column"
   ]
  },
  {
   "cell_type": "markdown",
   "id": "68716e8d",
   "metadata": {
    "papermill": {
     "duration": 0.116509,
     "end_time": "2023-08-13T00:58:48.237051",
     "exception": false,
     "start_time": "2023-08-13T00:58:48.120542",
     "status": "completed"
    },
    "tags": []
   },
   "source": [
    "## Plan  \n",
    "* Add a new column 'reviewWC' which has word count of 'reviewText'  \n",
    "    * Check if there is any relationship between 'reviewWC' and 'sentiment'\n",
    "* Work on vocabulary\n",
    "     * Use TfidfVectorizer and find out the vocabulary of 'reviewText' column for various ngrams\n",
    "     * Use RecursiveFeatureElimination (RFE) or RFECV to select 1000 top words/vocab for each ngram\n",
    "     * Use the final vocab (1000-3000 words) in the model and see how it performs compared to whole vocab\n"
   ]
  },
  {
   "cell_type": "code",
   "execution_count": 274,
   "id": "ad8faad6",
   "metadata": {
    "execution": {
     "iopub.execute_input": "2023-08-13T00:58:48.478634Z",
     "iopub.status.busy": "2023-08-13T00:58:48.478045Z",
     "iopub.status.idle": "2023-08-13T00:58:48.482118Z",
     "shell.execute_reply": "2023-08-13T00:58:48.481317Z"
    },
    "papermill": {
     "duration": 0.128924,
     "end_time": "2023-08-13T00:58:48.484813",
     "exception": false,
     "start_time": "2023-08-13T00:58:48.355889",
     "status": "completed"
    },
    "tags": []
   },
   "outputs": [],
   "source": [
    "# 'reviewWC' and 'sentiment'\n",
    "# (Conclusion): 'reviewWC' is practically same as DummyClassifier (accuracy of 0.6682375059904889 on train data). It just predicts 'positive' for all columns\n",
    "\n",
    "# reviewWC_dict = {\"num\": [\"reviewWC\"]}\n",
    "# submit_v4(selected_model=LogisticRegression(),\n",
    "#          selected_features=reviewWC_dict,\n",
    "#          param_grid=None)"
   ]
  },
  {
   "cell_type": "code",
   "execution_count": 275,
   "id": "540cc899",
   "metadata": {
    "execution": {
     "iopub.execute_input": "2023-08-13T00:58:48.730935Z",
     "iopub.status.busy": "2023-08-13T00:58:48.729100Z",
     "iopub.status.idle": "2023-08-13T00:58:48.735340Z",
     "shell.execute_reply": "2023-08-13T00:58:48.734493Z"
    },
    "papermill": {
     "duration": 0.132419,
     "end_time": "2023-08-13T00:58:48.738561",
     "exception": false,
     "start_time": "2023-08-13T00:58:48.606142",
     "status": "completed"
    },
    "tags": []
   },
   "outputs": [],
   "source": [
    "# 'reviewYN' and 'sentiment'\n",
    "# (Conclusion): 'reviewYN' is practically same as DummyClassifier (accuracy of 0.6682375059904889 on train data). It just predicts 'positive' for all columns\n",
    "\n",
    "# reviewYN_dict = {\"cat\": [\"reviewYN\"]}\n",
    "# submit_v4(selected_model=LogisticRegression(),\n",
    "#          selected_features=reviewYN_dict,\n",
    "#          param_grid=None)"
   ]
  },
  {
   "cell_type": "markdown",
   "id": "b29b7985",
   "metadata": {
    "papermill": {
     "duration": 0.123199,
     "end_time": "2023-08-13T00:58:49.001867",
     "exception": false,
     "start_time": "2023-08-13T00:58:48.878668",
     "status": "completed"
    },
    "tags": []
   },
   "source": [
    "## Submissions using 'vocabulary' built from 'reviewText' data  "
   ]
  },
  {
   "cell_type": "markdown",
   "id": "226363c0",
   "metadata": {
    "papermill": {
     "duration": 0.117058,
     "end_time": "2023-08-13T00:58:49.236420",
     "exception": false,
     "start_time": "2023-08-13T00:58:49.119362",
     "status": "completed"
    },
    "tags": []
   },
   "source": [
    "### Submit best 6 features along with common vocab  "
   ]
  },
  {
   "cell_type": "code",
   "execution_count": 276,
   "id": "5a757c5d",
   "metadata": {
    "execution": {
     "iopub.execute_input": "2023-08-13T00:58:49.474563Z",
     "iopub.status.busy": "2023-08-13T00:58:49.474162Z",
     "iopub.status.idle": "2023-08-13T00:58:49.479481Z",
     "shell.execute_reply": "2023-08-13T00:58:49.477848Z"
    },
    "papermill": {
     "duration": 0.129212,
     "end_time": "2023-08-13T00:58:49.482487",
     "exception": false,
     "start_time": "2023-08-13T00:58:49.353275",
     "status": "completed"
    },
    "tags": []
   },
   "outputs": [],
   "source": [
    "# Best 6 parameters (version 2)  \n",
    "\n",
    "# best6_dict = {'num': [\"audienceScore\"],\n",
    "#              'txt': ['reviewText', 'reviewerName', 'genre','movieid', 'director']}\n",
    "\n",
    "# best6_dict"
   ]
  },
  {
   "cell_type": "code",
   "execution_count": 277,
   "id": "db354a5a",
   "metadata": {
    "execution": {
     "iopub.execute_input": "2023-08-13T00:58:49.744324Z",
     "iopub.status.busy": "2023-08-13T00:58:49.743414Z",
     "iopub.status.idle": "2023-08-13T00:58:49.748412Z",
     "shell.execute_reply": "2023-08-13T00:58:49.747463Z"
    },
    "papermill": {
     "duration": 0.133984,
     "end_time": "2023-08-13T00:58:49.751056",
     "exception": false,
     "start_time": "2023-08-13T00:58:49.617072",
     "status": "completed"
    },
    "tags": []
   },
   "outputs": [],
   "source": [
    "# Submit best 6 features (version 2) with common vocabulary (common_1_2_grams)\n",
    "# (Update): Score 0.82867\n",
    "\n",
    "# submit_v4(selected_features=best6_dict,\n",
    "#           param_grid=param_grid,\n",
    "#          vocab=common_1_2_grams)"
   ]
  },
  {
   "cell_type": "code",
   "execution_count": 278,
   "id": "2bb87893",
   "metadata": {
    "execution": {
     "iopub.execute_input": "2023-08-13T00:58:50.004319Z",
     "iopub.status.busy": "2023-08-13T00:58:50.003508Z",
     "iopub.status.idle": "2023-08-13T00:58:50.008785Z",
     "shell.execute_reply": "2023-08-13T00:58:50.007963Z"
    },
    "papermill": {
     "duration": 0.137714,
     "end_time": "2023-08-13T00:58:50.011107",
     "exception": false,
     "start_time": "2023-08-13T00:58:49.873393",
     "status": "completed"
    },
    "tags": []
   },
   "outputs": [],
   "source": [
    "# Submit best 6 features (version 2) with common vocabulary (common_1_2_3_grams)\n",
    "# Note: for this submission submit_v4 function has to be modified: reviewText TfidfVectorizer must have ngram_range(1,3).\n",
    "# (Update): Score in the range 0.825+\n",
    "\n",
    "# submit_v4(selected_features=best6_dict,\n",
    "#           param_grid=param_grid,\n",
    "#          vocab=common_1_2_3_grams)"
   ]
  }
 ],
 "metadata": {
  "kernelspec": {
   "display_name": "Python 3",
   "language": "python",
   "name": "python3"
  },
  "language_info": {
   "codemirror_mode": {
    "name": "ipython",
    "version": 3
   },
   "file_extension": ".py",
   "mimetype": "text/x-python",
   "name": "python",
   "nbconvert_exporter": "python",
   "pygments_lexer": "ipython3",
   "version": "3.10.10"
  },
  "papermill": {
   "default_parameters": {},
   "duration": 1940.337587,
   "end_time": "2023-08-13T00:58:53.055626",
   "environment_variables": {},
   "exception": null,
   "input_path": "__notebook__.ipynb",
   "output_path": "__notebook__.ipynb",
   "parameters": {},
   "start_time": "2023-08-13T00:26:32.718039",
   "version": "2.4.0"
  }
 },
 "nbformat": 4,
 "nbformat_minor": 5
}
