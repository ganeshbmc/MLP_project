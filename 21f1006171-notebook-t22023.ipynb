{
 "cells": [
  {
   "cell_type": "markdown",
   "id": "018afb20",
   "metadata": {
    "papermill": {
     "duration": 0.097946,
     "end_time": "2023-08-12T19:05:06.877504",
     "exception": false,
     "start_time": "2023-08-12T19:05:06.779558",
     "status": "completed"
    },
    "tags": []
   },
   "source": [
    "# MLP Project (T2 2023) by Ganesh P  "
   ]
  },
  {
   "cell_type": "markdown",
   "id": "85f945d0",
   "metadata": {
    "papermill": {
     "duration": 0.095778,
     "end_time": "2023-08-12T19:05:07.066401",
     "exception": false,
     "start_time": "2023-08-12T19:05:06.970623",
     "status": "completed"
    },
    "tags": []
   },
   "source": [
    "`Disclaimer`   \n",
    "\n",
    "> This final notebook contains only the most relevant code to show the path/flow of my project work over few weeks. Rest of the code is in [my github repo](https://github.com/ganeshbmc/MLP_project) which is private at present (I will make it public after the project is over).  "
   ]
  },
  {
   "cell_type": "markdown",
   "id": "c4e687f0",
   "metadata": {
    "papermill": {
     "duration": 0.093847,
     "end_time": "2023-08-12T19:05:07.253047",
     "exception": false,
     "start_time": "2023-08-12T19:05:07.159200",
     "status": "completed"
    },
    "tags": []
   },
   "source": [
    "`Strengths`  \n",
    "\n",
    "> * Modular code (DRY principle)  \n",
    "> * End to end pipeline in one function (with helper functions)   "
   ]
  },
  {
   "cell_type": "markdown",
   "id": "f1618ed4",
   "metadata": {
    "papermill": {
     "duration": 0.093726,
     "end_time": "2023-08-12T19:05:07.440908",
     "exception": false,
     "start_time": "2023-08-12T19:05:07.347182",
     "status": "completed"
    },
    "tags": []
   },
   "source": [
    "`Overview`  \n",
    "\n",
    "`PART I`  \n",
    "\n",
    "1.\t> Screen the datasets and import them.  \n",
    "2.\t> Perform EDA (first round).\n",
    "3.\t> Data cleaning.\n",
    "4.\t> Basic models including dummy model.\n",
    "5.\t> Because this is a text sentiment analysis project, focus on 'reviewText' column, work on cleaning text data and vectorising/tokenising it, build several models till the best possible score is reached.  \n",
    "\n",
    "`PART II`  \n",
    "\n",
    "6.\t> Merge train and movies dataset.\n",
    "7.\t> Perform EDA (second round) on merged dataset.\n",
    "8.\t> Data cleaning.\n",
    "9.\t> Build models on merged dataset.\n",
    "10.\t> Understand the results and do another round of EDA if needed.\n",
    "11.\t> Build final model.  \n",
    "\n",
    "`PART III (After project window closes)`  \n",
    "\n",
    "12. > Use NLTK library for further processing text data.  \n",
    "13. > Try to address comments from different languages, special characters etc.  \n",
    "14. > Try imblearn library to address class imbalance.  \n",
    "15. > Try to use currently available LLMs and see how my model performs agains them.  "
   ]
  },
  {
   "cell_type": "markdown",
   "id": "1c3441c7",
   "metadata": {
    "papermill": {
     "duration": 0.093566,
     "end_time": "2023-08-12T19:05:07.628146",
     "exception": false,
     "start_time": "2023-08-12T19:05:07.534580",
     "status": "completed"
    },
    "tags": []
   },
   "source": [
    "`Default code on Kaggle notebook`  "
   ]
  },
  {
   "cell_type": "code",
   "execution_count": 1,
   "id": "6fd30117",
   "metadata": {
    "_cell_guid": "b1076dfc-b9ad-4769-8c92-a6c4dae69d19",
    "_uuid": "8f2839f25d086af736a60e9eeb907d3b93b6e0e5",
    "execution": {
     "iopub.execute_input": "2023-08-12T19:05:07.820283Z",
     "iopub.status.busy": "2023-08-12T19:05:07.819873Z",
     "iopub.status.idle": "2023-08-12T19:05:07.835880Z",
     "shell.execute_reply": "2023-08-12T19:05:07.834940Z"
    },
    "papermill": {
     "duration": 0.115301,
     "end_time": "2023-08-12T19:05:07.838390",
     "exception": false,
     "start_time": "2023-08-12T19:05:07.723089",
     "status": "completed"
    },
    "tags": []
   },
   "outputs": [
    {
     "name": "stdout",
     "output_type": "stream",
     "text": [
      "/kaggle/input/sentiment-prediction-on-movie-reviews/movies.csv\n",
      "/kaggle/input/sentiment-prediction-on-movie-reviews/sample.csv\n",
      "/kaggle/input/sentiment-prediction-on-movie-reviews/train.csv\n",
      "/kaggle/input/sentiment-prediction-on-movie-reviews/test.csv\n"
     ]
    }
   ],
   "source": [
    "# This Python 3 environment comes with many helpful analytics libraries installed\n",
    "# It is defined by the kaggle/python Docker image: https://github.com/kaggle/docker-python\n",
    "# For example, here's several helpful packages to load\n",
    "\n",
    "import numpy as np # linear algebra\n",
    "import pandas as pd # data processing, CSV file I/O (e.g. pd.read_csv)\n",
    "\n",
    "# Input data files are available in the read-only \"../input/\" directory\n",
    "# For example, running this (by clicking run or pressing Shift+Enter) will list all files under the input directory\n",
    "\n",
    "import os\n",
    "for dirname, _, filenames in os.walk('/kaggle/input'):\n",
    "    for filename in filenames:\n",
    "        print(os.path.join(dirname, filename))\n",
    "\n",
    "# You can write up to 20GB to the current directory (/kaggle/working/) that gets preserved as output when you create a version using \"Save & Run All\" \n",
    "# You can also write temporary files to /kaggle/temp/, but they won't be saved outside of the current session"
   ]
  },
  {
   "cell_type": "markdown",
   "id": "b0d9d409",
   "metadata": {
    "papermill": {
     "duration": 0.095361,
     "end_time": "2023-08-12T19:05:08.025410",
     "exception": false,
     "start_time": "2023-08-12T19:05:07.930049",
     "status": "completed"
    },
    "tags": []
   },
   "source": [
    "### Specify platform  "
   ]
  },
  {
   "cell_type": "code",
   "execution_count": 2,
   "id": "dccdbb80",
   "metadata": {
    "execution": {
     "iopub.execute_input": "2023-08-12T19:05:08.212663Z",
     "iopub.status.busy": "2023-08-12T19:05:08.211205Z",
     "iopub.status.idle": "2023-08-12T19:05:08.216879Z",
     "shell.execute_reply": "2023-08-12T19:05:08.215963Z"
    },
    "papermill": {
     "duration": 0.101288,
     "end_time": "2023-08-12T19:05:08.219167",
     "exception": false,
     "start_time": "2023-08-12T19:05:08.117879",
     "status": "completed"
    },
    "tags": []
   },
   "outputs": [],
   "source": [
    "platform = 'kaggle'  "
   ]
  },
  {
   "cell_type": "markdown",
   "id": "96656db8",
   "metadata": {
    "papermill": {
     "duration": 0.092973,
     "end_time": "2023-08-12T19:05:08.405908",
     "exception": false,
     "start_time": "2023-08-12T19:05:08.312935",
     "status": "completed"
    },
    "tags": []
   },
   "source": [
    "### Import libraries  "
   ]
  },
  {
   "cell_type": "code",
   "execution_count": 3,
   "id": "8e29a33f",
   "metadata": {
    "execution": {
     "iopub.execute_input": "2023-08-12T19:05:08.594152Z",
     "iopub.status.busy": "2023-08-12T19:05:08.593715Z",
     "iopub.status.idle": "2023-08-12T19:05:10.988970Z",
     "shell.execute_reply": "2023-08-12T19:05:10.987515Z"
    },
    "papermill": {
     "duration": 2.49292,
     "end_time": "2023-08-12T19:05:10.991831",
     "exception": false,
     "start_time": "2023-08-12T19:05:08.498911",
     "status": "completed"
    },
    "tags": []
   },
   "outputs": [
    {
     "name": "stdout",
     "output_type": "stream",
     "text": [
      "Imports done.\n"
     ]
    }
   ],
   "source": [
    "import pandas as pd\n",
    "import numpy as np\n",
    "import matplotlib.pyplot as plt\n",
    "import seaborn as sns\n",
    "import re\n",
    "from itertools import compress\n",
    "\n",
    "from sklearn.dummy import DummyClassifier\n",
    "from sklearn.pipeline import Pipeline, FeatureUnion\n",
    "from sklearn.compose import ColumnTransformer\n",
    "from sklearn.metrics import classification_report, confusion_matrix,f1_score\n",
    "from sklearn.feature_extraction.text import TfidfVectorizer, CountVectorizer\n",
    "from sklearn.preprocessing import FunctionTransformer\n",
    "from sklearn.preprocessing import StandardScaler, MinMaxScaler, RobustScaler, OneHotEncoder, LabelEncoder\n",
    "from sklearn.impute import SimpleImputer, KNNImputer\n",
    "from sklearn.linear_model import LogisticRegression, SGDClassifier\n",
    "from sklearn.tree import DecisionTreeClassifier\n",
    "from sklearn.ensemble import RandomForestClassifier, AdaBoostClassifier\n",
    "from sklearn.svm import LinearSVC\n",
    "from sklearn.naive_bayes import GaussianNB, BernoulliNB, CategoricalNB, ComplementNB, MultinomialNB\n",
    "from sklearn.model_selection import train_test_split, GridSearchCV, cross_val_score\n",
    "from sklearn.decomposition import PCA, TruncatedSVD\n",
    "from sklearn.feature_selection import RFECV\n",
    "from sklearn.feature_selection import RFE\n",
    "from sklearn.neural_network import MLPClassifier\n",
    "\n",
    "# import lightgbm as ltb\n",
    "\n",
    "import scipy.stats as stats\n",
    "print(\"Imports done.\")"
   ]
  },
  {
   "cell_type": "markdown",
   "id": "ee87390b",
   "metadata": {
    "papermill": {
     "duration": 0.091729,
     "end_time": "2023-08-12T19:05:11.178874",
     "exception": false,
     "start_time": "2023-08-12T19:05:11.087145",
     "status": "completed"
    },
    "tags": []
   },
   "source": [
    "# PART I  "
   ]
  },
  {
   "cell_type": "markdown",
   "id": "306c332d",
   "metadata": {
    "papermill": {
     "duration": 0.092615,
     "end_time": "2023-08-12T19:05:11.364359",
     "exception": false,
     "start_time": "2023-08-12T19:05:11.271744",
     "status": "completed"
    },
    "tags": []
   },
   "source": [
    "## Load datasets  "
   ]
  },
  {
   "cell_type": "code",
   "execution_count": 4,
   "id": "bbf3b7f5",
   "metadata": {
    "execution": {
     "iopub.execute_input": "2023-08-12T19:05:11.557605Z",
     "iopub.status.busy": "2023-08-12T19:05:11.556723Z",
     "iopub.status.idle": "2023-08-12T19:05:12.934457Z",
     "shell.execute_reply": "2023-08-12T19:05:12.931829Z"
    },
    "papermill": {
     "duration": 1.482049,
     "end_time": "2023-08-12T19:05:12.941382",
     "exception": false,
     "start_time": "2023-08-12T19:05:11.459333",
     "status": "completed"
    },
    "tags": []
   },
   "outputs": [
    {
     "data": {
      "text/plain": [
       "(162758, 5)"
      ]
     },
     "execution_count": 4,
     "metadata": {},
     "output_type": "execute_result"
    }
   ],
   "source": [
    "if platform == 'vscode':\n",
    "    traindf = pd.read_csv(\"data/train.csv\")\n",
    "else:\n",
    "    traindf = pd.read_csv(\"/kaggle/input/sentiment-prediction-on-movie-reviews/train.csv\")\n",
    "    \n",
    "traindf.shape"
   ]
  },
  {
   "cell_type": "code",
   "execution_count": 5,
   "id": "c2dfef8d",
   "metadata": {
    "execution": {
     "iopub.execute_input": "2023-08-12T19:05:13.143183Z",
     "iopub.status.busy": "2023-08-12T19:05:13.142702Z",
     "iopub.status.idle": "2023-08-12T19:05:13.559288Z",
     "shell.execute_reply": "2023-08-12T19:05:13.558131Z"
    },
    "papermill": {
     "duration": 0.515908,
     "end_time": "2023-08-12T19:05:13.561638",
     "exception": false,
     "start_time": "2023-08-12T19:05:13.045730",
     "status": "completed"
    },
    "tags": []
   },
   "outputs": [
    {
     "data": {
      "text/plain": [
       "(55315, 4)"
      ]
     },
     "execution_count": 5,
     "metadata": {},
     "output_type": "execute_result"
    }
   ],
   "source": [
    "if platform == 'vscode':\n",
    "    testdf = pd.read_csv(\"data/test.csv\")\n",
    "else:\n",
    "    testdf = pd.read_csv(\"/kaggle/input/sentiment-prediction-on-movie-reviews/test.csv\")\n",
    "\n",
    "testdf.shape"
   ]
  },
  {
   "cell_type": "markdown",
   "id": "7d3cb2a3",
   "metadata": {
    "papermill": {
     "duration": 0.094384,
     "end_time": "2023-08-12T19:05:13.749043",
     "exception": false,
     "start_time": "2023-08-12T19:05:13.654659",
     "status": "completed"
    },
    "tags": []
   },
   "source": [
    "### Understanding the data and getting it ready for training and evaluating models  \n"
   ]
  },
  {
   "cell_type": "code",
   "execution_count": 6,
   "id": "baf8e49b",
   "metadata": {
    "execution": {
     "iopub.execute_input": "2023-08-12T19:05:13.937045Z",
     "iopub.status.busy": "2023-08-12T19:05:13.936310Z",
     "iopub.status.idle": "2023-08-12T19:05:13.943960Z",
     "shell.execute_reply": "2023-08-12T19:05:13.942595Z"
    },
    "papermill": {
     "duration": 0.105367,
     "end_time": "2023-08-12T19:05:13.946329",
     "exception": false,
     "start_time": "2023-08-12T19:05:13.840962",
     "status": "completed"
    },
    "tags": []
   },
   "outputs": [
    {
     "data": {
      "text/plain": [
       "(162758, 5)"
      ]
     },
     "execution_count": 6,
     "metadata": {},
     "output_type": "execute_result"
    }
   ],
   "source": [
    "traindf.shape"
   ]
  },
  {
   "cell_type": "code",
   "execution_count": 7,
   "id": "1a3fea08",
   "metadata": {
    "execution": {
     "iopub.execute_input": "2023-08-12T19:05:14.139673Z",
     "iopub.status.busy": "2023-08-12T19:05:14.139010Z",
     "iopub.status.idle": "2023-08-12T19:05:14.390383Z",
     "shell.execute_reply": "2023-08-12T19:05:14.389068Z"
    },
    "papermill": {
     "duration": 0.348003,
     "end_time": "2023-08-12T19:05:14.393119",
     "exception": false,
     "start_time": "2023-08-12T19:05:14.045116",
     "status": "completed"
    },
    "tags": []
   },
   "outputs": [
    {
     "name": "stdout",
     "output_type": "stream",
     "text": [
      "<class 'pandas.core.frame.DataFrame'>\n",
      "RangeIndex: 162758 entries, 0 to 162757\n",
      "Data columns (total 5 columns):\n",
      " #   Column              Non-Null Count   Dtype \n",
      "---  ------              --------------   ----- \n",
      " 0   movieid             162758 non-null  object\n",
      " 1   reviewerName        162758 non-null  object\n",
      " 2   isFrequentReviewer  162758 non-null  bool  \n",
      " 3   reviewText          156311 non-null  object\n",
      " 4   sentiment           162758 non-null  object\n",
      "dtypes: bool(1), object(4)\n",
      "memory usage: 5.1+ MB\n"
     ]
    }
   ],
   "source": [
    "traindf.info()"
   ]
  },
  {
   "cell_type": "code",
   "execution_count": 8,
   "id": "998ad5e8",
   "metadata": {
    "execution": {
     "iopub.execute_input": "2023-08-12T19:05:14.583280Z",
     "iopub.status.busy": "2023-08-12T19:05:14.582479Z",
     "iopub.status.idle": "2023-08-12T19:05:14.807966Z",
     "shell.execute_reply": "2023-08-12T19:05:14.806738Z"
    },
    "papermill": {
     "duration": 0.323016,
     "end_time": "2023-08-12T19:05:14.810328",
     "exception": false,
     "start_time": "2023-08-12T19:05:14.487312",
     "status": "completed"
    },
    "tags": []
   },
   "outputs": [
    {
     "data": {
      "text/plain": [
       "movieid                  0\n",
       "reviewerName             0\n",
       "isFrequentReviewer       0\n",
       "reviewText            6447\n",
       "sentiment                0\n",
       "dtype: int64"
      ]
     },
     "execution_count": 8,
     "metadata": {},
     "output_type": "execute_result"
    }
   ],
   "source": [
    "traindf.isna().sum()"
   ]
  },
  {
   "cell_type": "markdown",
   "id": "6458a3d1",
   "metadata": {
    "papermill": {
     "duration": 0.098058,
     "end_time": "2023-08-12T19:05:15.070142",
     "exception": false,
     "start_time": "2023-08-12T19:05:14.972084",
     "status": "completed"
    },
    "tags": []
   },
   "source": [
    "### Fill empty reviewText with custom text  "
   ]
  },
  {
   "cell_type": "code",
   "execution_count": 9,
   "id": "1f958013",
   "metadata": {
    "execution": {
     "iopub.execute_input": "2023-08-12T19:05:15.258868Z",
     "iopub.status.busy": "2023-08-12T19:05:15.258407Z",
     "iopub.status.idle": "2023-08-12T19:05:15.512713Z",
     "shell.execute_reply": "2023-08-12T19:05:15.511414Z"
    },
    "papermill": {
     "duration": 0.351748,
     "end_time": "2023-08-12T19:05:15.515204",
     "exception": false,
     "start_time": "2023-08-12T19:05:15.163456",
     "status": "completed"
    },
    "tags": []
   },
   "outputs": [
    {
     "data": {
      "text/plain": [
       "movieid               0\n",
       "reviewerName          0\n",
       "isFrequentReviewer    0\n",
       "reviewText            0\n",
       "sentiment             0\n",
       "dtype: int64"
      ]
     },
     "execution_count": 9,
     "metadata": {},
     "output_type": "execute_result"
    }
   ],
   "source": [
    "traindf[\"reviewText\"].fillna(\"empty\", inplace=True)\n",
    "traindf.isna().sum()"
   ]
  },
  {
   "cell_type": "markdown",
   "id": "55d62e57",
   "metadata": {
    "papermill": {
     "duration": 0.093065,
     "end_time": "2023-08-12T19:05:15.701468",
     "exception": false,
     "start_time": "2023-08-12T19:05:15.608403",
     "status": "completed"
    },
    "tags": []
   },
   "source": [
    "## EDA  \n"
   ]
  },
  {
   "cell_type": "code",
   "execution_count": 10,
   "id": "73a81511",
   "metadata": {
    "execution": {
     "iopub.execute_input": "2023-08-12T19:05:15.892823Z",
     "iopub.status.busy": "2023-08-12T19:05:15.891218Z",
     "iopub.status.idle": "2023-08-12T19:05:16.173817Z",
     "shell.execute_reply": "2023-08-12T19:05:16.172274Z"
    },
    "papermill": {
     "duration": 0.38109,
     "end_time": "2023-08-12T19:05:16.177640",
     "exception": false,
     "start_time": "2023-08-12T19:05:15.796550",
     "status": "completed"
    },
    "tags": []
   },
   "outputs": [
    {
     "data": {
      "image/png": "[encoded data removed]",
      "text/plain": [
       "<Figure size 600x400 with 1 Axes>"
      ]
     },
     "metadata": {},
     "output_type": "display_data"
    }
   ],
   "source": [
    "# Pie chart for sentiment column\n",
    "plt.figure(figsize=(6, 4))\n",
    "traindf[\"sentiment\"].value_counts().plot(kind='pie', autopct='%1.0f%%', colors=[\"lightgreen\", \"crimson\"])\n",
    "plt.title(\"Pie chart for sentiment column\")\n",
    "plt.show()"
   ]
  },
  {
   "cell_type": "code",
   "execution_count": 11,
   "id": "238302a6",
   "metadata": {
    "execution": {
     "iopub.execute_input": "2023-08-12T19:05:16.391963Z",
     "iopub.status.busy": "2023-08-12T19:05:16.390934Z",
     "iopub.status.idle": "2023-08-12T19:05:16.471161Z",
     "shell.execute_reply": "2023-08-12T19:05:16.469725Z"
    },
    "papermill": {
     "duration": 0.178327,
     "end_time": "2023-08-12T19:05:16.473849",
     "exception": false,
     "start_time": "2023-08-12T19:05:16.295522",
     "status": "completed"
    },
    "tags": []
   },
   "outputs": [
    {
     "name": "stdout",
     "output_type": "stream",
     "text": [
      "sentiment           NEGATIVE  POSITIVE\n",
      "isFrequentReviewer                    \n",
      "False                  35760     77429\n",
      "True                   18237     31332\n"
     ]
    },
    {
     "data": {
      "text/plain": [
       "Chi2ContingencyResult(statistic=419.89235425657796, pvalue=2.5755894769493255e-93, dof=1, expected_freq=array([[37551.86493444, 75637.13506556],\n",
       "       [16445.13506556, 33123.86493444]]))"
      ]
     },
     "execution_count": 11,
     "metadata": {},
     "output_type": "execute_result"
    }
   ],
   "source": [
    "# Chi-square test for isFrequentReviewer column and sentiment column   \n",
    "\n",
    "contingency_table = pd.crosstab(traindf['isFrequentReviewer'], traindf['sentiment'])\n",
    "print(contingency_table)\n",
    "stats.chi2_contingency(contingency_table)"
   ]
  },
  {
   "cell_type": "markdown",
   "id": "f0c69884",
   "metadata": {
    "papermill": {
     "duration": 0.0956,
     "end_time": "2023-08-12T19:05:16.665592",
     "exception": false,
     "start_time": "2023-08-12T19:05:16.569992",
     "status": "completed"
    },
    "tags": []
   },
   "source": [
    "### Separate features and labels  "
   ]
  },
  {
   "cell_type": "code",
   "execution_count": 12,
   "id": "4fe6eb94",
   "metadata": {
    "execution": {
     "iopub.execute_input": "2023-08-12T19:05:16.862779Z",
     "iopub.status.busy": "2023-08-12T19:05:16.862351Z",
     "iopub.status.idle": "2023-08-12T19:05:16.871675Z",
     "shell.execute_reply": "2023-08-12T19:05:16.870356Z"
    },
    "papermill": {
     "duration": 0.110081,
     "end_time": "2023-08-12T19:05:16.874150",
     "exception": false,
     "start_time": "2023-08-12T19:05:16.764069",
     "status": "completed"
    },
    "tags": []
   },
   "outputs": [
    {
     "data": {
      "text/plain": [
       "((162758,), (162758,))"
      ]
     },
     "execution_count": 12,
     "metadata": {},
     "output_type": "execute_result"
    }
   ],
   "source": [
    "train_features = traindf[\"reviewText\"]\n",
    "train_labels = traindf.iloc[:, -1]\n",
    "train_features.shape, train_labels.shape"
   ]
  },
  {
   "cell_type": "markdown",
   "id": "ce2e6978",
   "metadata": {
    "papermill": {
     "duration": 0.097568,
     "end_time": "2023-08-12T19:05:17.070804",
     "exception": false,
     "start_time": "2023-08-12T19:05:16.973236",
     "status": "completed"
    },
    "tags": []
   },
   "source": [
    "### Split traindf into training and testing parts  "
   ]
  },
  {
   "cell_type": "code",
   "execution_count": 13,
   "id": "a09651c7",
   "metadata": {
    "execution": {
     "iopub.execute_input": "2023-08-12T19:05:17.268873Z",
     "iopub.status.busy": "2023-08-12T19:05:17.268473Z",
     "iopub.status.idle": "2023-08-12T19:05:17.310362Z",
     "shell.execute_reply": "2023-08-12T19:05:17.309023Z"
    },
    "papermill": {
     "duration": 0.145229,
     "end_time": "2023-08-12T19:05:17.313479",
     "exception": false,
     "start_time": "2023-08-12T19:05:17.168250",
     "status": "completed"
    },
    "tags": []
   },
   "outputs": [
    {
     "data": {
      "text/plain": [
       "((122068,), (40690,), (122068,), (40690,))"
      ]
     },
     "execution_count": 13,
     "metadata": {},
     "output_type": "execute_result"
    }
   ],
   "source": [
    "X_train, X_test, y_train, y_test = train_test_split(train_features, train_labels, test_size=0.25, random_state=42)\n",
    "X_train.shape, X_test.shape, y_train.shape, y_test.shape"
   ]
  },
  {
   "cell_type": "markdown",
   "id": "5f8e56b3",
   "metadata": {
    "papermill": {
     "duration": 0.095745,
     "end_time": "2023-08-12T19:05:17.504593",
     "exception": false,
     "start_time": "2023-08-12T19:05:17.408848",
     "status": "completed"
    },
    "tags": []
   },
   "source": [
    "## Model evaluation plan and code  "
   ]
  },
  {
   "cell_type": "code",
   "execution_count": 14,
   "id": "133eac78",
   "metadata": {
    "execution": {
     "iopub.execute_input": "2023-08-12T19:05:17.704370Z",
     "iopub.status.busy": "2023-08-12T19:05:17.703978Z",
     "iopub.status.idle": "2023-08-12T19:05:17.710192Z",
     "shell.execute_reply": "2023-08-12T19:05:17.709151Z"
    },
    "papermill": {
     "duration": 0.111954,
     "end_time": "2023-08-12T19:05:17.713135",
     "exception": false,
     "start_time": "2023-08-12T19:05:17.601181",
     "status": "completed"
    },
    "tags": []
   },
   "outputs": [],
   "source": [
    "# from sklearn.metrics import classification_report, confusion_matrix, ConfusionMatrixDisplay\n",
    "# from sklearn.metrics import f1_score"
   ]
  },
  {
   "cell_type": "code",
   "execution_count": 15,
   "id": "177c7cf2",
   "metadata": {
    "execution": {
     "iopub.execute_input": "2023-08-12T19:05:17.914717Z",
     "iopub.status.busy": "2023-08-12T19:05:17.914257Z",
     "iopub.status.idle": "2023-08-12T19:05:17.919189Z",
     "shell.execute_reply": "2023-08-12T19:05:17.918240Z"
    },
    "papermill": {
     "duration": 0.108327,
     "end_time": "2023-08-12T19:05:17.921395",
     "exception": false,
     "start_time": "2023-08-12T19:05:17.813068",
     "status": "completed"
    },
    "tags": []
   },
   "outputs": [],
   "source": [
    "# def evaluate(y_test, y_pred):\n",
    "#     print(classification_report(y_test, y_pred))\n",
    "#     print(confusion_matrix(y_test, y_pred))\n",
    "#     # print(f1_score(y_test, y_pred))\n",
    "#     ConfusionMatrixDisplay(y_test, y_pred)\n",
    "#     return"
   ]
  },
  {
   "cell_type": "markdown",
   "id": "725d2761",
   "metadata": {
    "papermill": {
     "duration": 0.095602,
     "end_time": "2023-08-12T19:05:18.114619",
     "exception": false,
     "start_time": "2023-08-12T19:05:18.019017",
     "status": "completed"
    },
    "tags": []
   },
   "source": [
    "### Data preprocessing  "
   ]
  },
  {
   "cell_type": "markdown",
   "id": "fb82ad38",
   "metadata": {
    "papermill": {
     "duration": 0.096485,
     "end_time": "2023-08-12T19:05:18.309154",
     "exception": false,
     "start_time": "2023-08-12T19:05:18.212669",
     "status": "completed"
    },
    "tags": []
   },
   "source": [
    "`Define stop words`  "
   ]
  },
  {
   "cell_type": "code",
   "execution_count": 16,
   "id": "9efcea90",
   "metadata": {
    "execution": {
     "iopub.execute_input": "2023-08-12T19:05:18.505324Z",
     "iopub.status.busy": "2023-08-12T19:05:18.504935Z",
     "iopub.status.idle": "2023-08-12T19:05:18.509756Z",
     "shell.execute_reply": "2023-08-12T19:05:18.508633Z"
    },
    "papermill": {
     "duration": 0.105426,
     "end_time": "2023-08-12T19:05:18.512209",
     "exception": false,
     "start_time": "2023-08-12T19:05:18.406783",
     "status": "completed"
    },
    "tags": []
   },
   "outputs": [],
   "source": [
    "# stop_words = [\"able\", \"about\", \"above\", \"abst\", \"ac\"]     # Deprecated  \n",
    "# type(stop_words), len(stop_words)"
   ]
  },
  {
   "cell_type": "markdown",
   "id": "151f4846",
   "metadata": {
    "papermill": {
     "duration": 0.096175,
     "end_time": "2023-08-12T19:05:18.712240",
     "exception": false,
     "start_time": "2023-08-12T19:05:18.616065",
     "status": "completed"
    },
    "tags": []
   },
   "source": [
    "## Feature extraction  "
   ]
  },
  {
   "cell_type": "markdown",
   "id": "213eed43",
   "metadata": {
    "papermill": {
     "duration": 0.108407,
     "end_time": "2023-08-12T19:05:18.927701",
     "exception": false,
     "start_time": "2023-08-12T19:05:18.819294",
     "status": "completed"
    },
    "tags": []
   },
   "source": [
    "### Understand CountVectorizer and TfidfVectorizer  "
   ]
  },
  {
   "cell_type": "code",
   "execution_count": 17,
   "id": "931b809a",
   "metadata": {
    "execution": {
     "iopub.execute_input": "2023-08-12T19:05:19.125989Z",
     "iopub.status.busy": "2023-08-12T19:05:19.125573Z",
     "iopub.status.idle": "2023-08-12T19:05:19.129639Z",
     "shell.execute_reply": "2023-08-12T19:05:19.128877Z"
    },
    "papermill": {
     "duration": 0.103941,
     "end_time": "2023-08-12T19:05:19.131771",
     "exception": false,
     "start_time": "2023-08-12T19:05:19.027830",
     "status": "completed"
    },
    "tags": []
   },
   "outputs": [],
   "source": [
    "# text = X_train.copy()\n",
    "# text.head()"
   ]
  },
  {
   "cell_type": "code",
   "execution_count": 18,
   "id": "a9ec37ec",
   "metadata": {
    "execution": {
     "iopub.execute_input": "2023-08-12T19:05:19.328059Z",
     "iopub.status.busy": "2023-08-12T19:05:19.327610Z",
     "iopub.status.idle": "2023-08-12T19:05:19.331950Z",
     "shell.execute_reply": "2023-08-12T19:05:19.331126Z"
    },
    "papermill": {
     "duration": 0.104664,
     "end_time": "2023-08-12T19:05:19.334011",
     "exception": false,
     "start_time": "2023-08-12T19:05:19.229347",
     "status": "completed"
    },
    "tags": []
   },
   "outputs": [],
   "source": [
    "# vectorizer = TfidfVectorizer(stop_words=stop_words)\n",
    "# vectorized_text = vectorizer.fit_transform(text[\"reviewText\"])\n",
    "# vectorized_text"
   ]
  },
  {
   "cell_type": "markdown",
   "id": "9c8e2011",
   "metadata": {
    "papermill": {
     "duration": 0.096636,
     "end_time": "2023-08-12T19:05:19.527892",
     "exception": false,
     "start_time": "2023-08-12T19:05:19.431256",
     "status": "completed"
    },
    "tags": []
   },
   "source": [
    "`Without stop words`  \n",
    "<122068x58624 sparse matrix of type '<class 'numpy.float64'>'\n",
    "\twith 2312222 stored elements in Compressed Sparse Row format>\n",
    "\n",
    "`With stop words`  \n",
    "<122068x57784 sparse matrix of type '<class 'numpy.float64'>'\n",
    "\twith 1188395 stored elements in Compressed Sparse Row format>   "
   ]
  },
  {
   "cell_type": "code",
   "execution_count": 19,
   "id": "42babd02",
   "metadata": {
    "execution": {
     "iopub.execute_input": "2023-08-12T19:05:19.722655Z",
     "iopub.status.busy": "2023-08-12T19:05:19.722215Z",
     "iopub.status.idle": "2023-08-12T19:05:19.727310Z",
     "shell.execute_reply": "2023-08-12T19:05:19.726152Z"
    },
    "papermill": {
     "duration": 0.105168,
     "end_time": "2023-08-12T19:05:19.729753",
     "exception": false,
     "start_time": "2023-08-12T19:05:19.624585",
     "status": "completed"
    },
    "tags": []
   },
   "outputs": [],
   "source": [
    "# vectorizer2 = CountVectorizer(stop_words=stop_words)\n",
    "# vectorized_text2 = vectorizer2.fit_transform(text[\"reviewText\"])\n",
    "# vectorized_text2"
   ]
  },
  {
   "cell_type": "markdown",
   "id": "92baf325",
   "metadata": {
    "papermill": {
     "duration": 0.096997,
     "end_time": "2023-08-12T19:05:19.926343",
     "exception": false,
     "start_time": "2023-08-12T19:05:19.829346",
     "status": "completed"
    },
    "tags": []
   },
   "source": [
    "`Without stop words`  \n",
    "<122068x58624 sparse matrix of type '<class 'numpy.int64'>'\n",
    "\twith 2312222 stored elements in Compressed Sparse Row format>\n",
    "\n",
    "`With stop words`  \n",
    "<122068x57784 sparse matrix of type '<class 'numpy.int64'>'\n",
    "\twith 1188395 stored elements in Compressed Sparse Row format>"
   ]
  },
  {
   "cell_type": "markdown",
   "id": "75f90027",
   "metadata": {
    "papermill": {
     "duration": 0.096375,
     "end_time": "2023-08-12T19:05:20.122900",
     "exception": false,
     "start_time": "2023-08-12T19:05:20.026525",
     "status": "completed"
    },
    "tags": []
   },
   "source": [
    "### Conclusion   \n",
    "`TfidfVectorizer is equivalent to CountVectorizer followed by TfidfTransformer.`  \n",
    "\n",
    "https://scikit-learn.org/stable/modules/generated/sklearn.feature_extraction.text.TfidfVectorizer.html"
   ]
  },
  {
   "cell_type": "markdown",
   "id": "39cf2c76",
   "metadata": {
    "papermill": {
     "duration": 0.097447,
     "end_time": "2023-08-12T19:05:20.318233",
     "exception": false,
     "start_time": "2023-08-12T19:05:20.220786",
     "status": "completed"
    },
    "tags": []
   },
   "source": [
    "## Model building workflow  \n",
    "\n",
    "`Make pipeline for preprocesing and model training and predictions`  \n"
   ]
  },
  {
   "cell_type": "code",
   "execution_count": 20,
   "id": "4d6c3aef",
   "metadata": {
    "execution": {
     "iopub.execute_input": "2023-08-12T19:05:20.516231Z",
     "iopub.status.busy": "2023-08-12T19:05:20.515797Z",
     "iopub.status.idle": "2023-08-12T19:05:20.521422Z",
     "shell.execute_reply": "2023-08-12T19:05:20.520249Z"
    },
    "papermill": {
     "duration": 0.108409,
     "end_time": "2023-08-12T19:05:20.523778",
     "exception": false,
     "start_time": "2023-08-12T19:05:20.415369",
     "status": "completed"
    },
    "tags": []
   },
   "outputs": [],
   "source": [
    "# def preprocess_n_train(X_train, y_train, preprocessor, model):\n",
    "#     pipe = Pipeline(steps=[\n",
    "#                             (\"preprocessor\", preprocessor),\n",
    "#                             (\"model\", model)\n",
    "#                         ])\n",
    "    \n",
    "#     pipe.fit(X_train, y_train)\n",
    "\n",
    "#     print(\"Given model has been trained. Use predict method to get predictions array.\")\n",
    "#     return pipe\n",
    "\n",
    "\n",
    "# def predict_n_evaluate(pipeline, X_test, y_test):\n",
    "#     y_pred = pipeline.predict(X_test)\n",
    "#     print(f\"y_pred shape: {y_pred.shape}\")\n",
    "#     print(f\"Summary of predictions: {np.unique(y_pred, return_counts=True)}\")\n",
    "#     print(classification_report(y_test, y_pred))\n",
    "#     print(confusion_matrix(y_test, y_pred))\n",
    "#     return y_pred"
   ]
  },
  {
   "cell_type": "markdown",
   "id": "07563c6e",
   "metadata": {
    "papermill": {
     "duration": 0.096728,
     "end_time": "2023-08-12T19:05:20.718104",
     "exception": false,
     "start_time": "2023-08-12T19:05:20.621376",
     "status": "completed"
    },
    "tags": []
   },
   "source": [
    "## Building 3 basic models  "
   ]
  },
  {
   "cell_type": "markdown",
   "id": "690630a6",
   "metadata": {
    "papermill": {
     "duration": 0.096027,
     "end_time": "2023-08-12T19:05:20.910374",
     "exception": false,
     "start_time": "2023-08-12T19:05:20.814347",
     "status": "completed"
    },
    "tags": []
   },
   "source": [
    "### Text preprocessors  "
   ]
  },
  {
   "cell_type": "code",
   "execution_count": 21,
   "id": "ba5b21bb",
   "metadata": {
    "execution": {
     "iopub.execute_input": "2023-08-12T19:05:21.107194Z",
     "iopub.status.busy": "2023-08-12T19:05:21.106771Z",
     "iopub.status.idle": "2023-08-12T19:05:21.111610Z",
     "shell.execute_reply": "2023-08-12T19:05:21.110549Z"
    },
    "papermill": {
     "duration": 0.106792,
     "end_time": "2023-08-12T19:05:21.113975",
     "exception": false,
     "start_time": "2023-08-12T19:05:21.007183",
     "status": "completed"
    },
    "tags": []
   },
   "outputs": [],
   "source": [
    "# tvec = TfidfVectorizer()\n",
    "# cvec = CountVectorizer()        # Note that TfidfVectorizer and CountVectorizer+TfidsTransformer do the same function\n",
    "# tvec, cvec"
   ]
  },
  {
   "cell_type": "markdown",
   "id": "b64eeb5e",
   "metadata": {
    "papermill": {
     "duration": 0.096881,
     "end_time": "2023-08-12T19:05:21.308359",
     "exception": false,
     "start_time": "2023-08-12T19:05:21.211478",
     "status": "completed"
    },
    "tags": []
   },
   "source": [
    "### Logistic Regression with TfidVectorizer for preprocessing  "
   ]
  },
  {
   "cell_type": "code",
   "execution_count": 22,
   "id": "b6220412",
   "metadata": {
    "execution": {
     "iopub.execute_input": "2023-08-12T19:05:21.507078Z",
     "iopub.status.busy": "2023-08-12T19:05:21.506650Z",
     "iopub.status.idle": "2023-08-12T19:05:21.511517Z",
     "shell.execute_reply": "2023-08-12T19:05:21.510461Z"
    },
    "papermill": {
     "duration": 0.107088,
     "end_time": "2023-08-12T19:05:21.513652",
     "exception": false,
     "start_time": "2023-08-12T19:05:21.406564",
     "status": "completed"
    },
    "tags": []
   },
   "outputs": [],
   "source": [
    "# logreg = LogisticRegression(max_iter=1000)\n",
    "# logreg_pipe = preprocess_n_train(X_train, y_train, tvec, logreg)\n",
    "# y_pred_logreg = predict_n_evaluate(logreg_pipe, X_test, y_test)\n",
    "# y_pred_logreg"
   ]
  },
  {
   "cell_type": "markdown",
   "id": "25afabff",
   "metadata": {
    "papermill": {
     "duration": 0.190501,
     "end_time": "2023-08-12T19:05:21.801354",
     "exception": false,
     "start_time": "2023-08-12T19:05:21.610853",
     "status": "completed"
    },
    "tags": []
   },
   "source": [
    "### SVM model  "
   ]
  },
  {
   "cell_type": "code",
   "execution_count": 23,
   "id": "d7fba443",
   "metadata": {
    "execution": {
     "iopub.execute_input": "2023-08-12T19:05:22.000410Z",
     "iopub.status.busy": "2023-08-12T19:05:21.999998Z",
     "iopub.status.idle": "2023-08-12T19:05:22.006549Z",
     "shell.execute_reply": "2023-08-12T19:05:22.004164Z"
    },
    "papermill": {
     "duration": 0.111278,
     "end_time": "2023-08-12T19:05:22.011774",
     "exception": false,
     "start_time": "2023-08-12T19:05:21.900496",
     "status": "completed"
    },
    "tags": []
   },
   "outputs": [],
   "source": [
    "# svm = LinearSVC()\n",
    "# svm_pipe = preprocess_n_train(X_train, y_train, tvec, svm)\n",
    "# y_pred_svm = predict_n_evaluate(svm_pipe, X_test, y_test)\n",
    "# y_pred_svm"
   ]
  },
  {
   "cell_type": "markdown",
   "id": "df4d638f",
   "metadata": {
    "papermill": {
     "duration": 0.094196,
     "end_time": "2023-08-12T19:05:22.201764",
     "exception": false,
     "start_time": "2023-08-12T19:05:22.107568",
     "status": "completed"
    },
    "tags": []
   },
   "source": [
    "### Naive Bayes model  "
   ]
  },
  {
   "cell_type": "markdown",
   "id": "9c24c4dc",
   "metadata": {
    "papermill": {
     "duration": 0.095647,
     "end_time": "2023-08-12T19:05:22.392164",
     "exception": false,
     "start_time": "2023-08-12T19:05:22.296517",
     "status": "completed"
    },
    "tags": []
   },
   "source": [
    "#### MultinomialNB  "
   ]
  },
  {
   "cell_type": "code",
   "execution_count": 24,
   "id": "f7b7e892",
   "metadata": {
    "execution": {
     "iopub.execute_input": "2023-08-12T19:05:22.582155Z",
     "iopub.status.busy": "2023-08-12T19:05:22.581780Z",
     "iopub.status.idle": "2023-08-12T19:05:22.585853Z",
     "shell.execute_reply": "2023-08-12T19:05:22.584771Z"
    },
    "papermill": {
     "duration": 0.102189,
     "end_time": "2023-08-12T19:05:22.588132",
     "exception": false,
     "start_time": "2023-08-12T19:05:22.485943",
     "status": "completed"
    },
    "tags": []
   },
   "outputs": [],
   "source": [
    "# mnb = MultinomialNB()\n",
    "# mnb_pipe = preprocess_n_train(X_train, y_train, tvec, mnb)\n",
    "# y_pred_mnb = predict_n_evaluate(mnb_pipe, X_test, y_test)\n",
    "# y_pred_mnb"
   ]
  },
  {
   "cell_type": "markdown",
   "id": "3e3ccf0f",
   "metadata": {
    "papermill": {
     "duration": 0.100422,
     "end_time": "2023-08-12T19:05:22.784815",
     "exception": false,
     "start_time": "2023-08-12T19:05:22.684393",
     "status": "completed"
    },
    "tags": []
   },
   "source": [
    "## Submitting predictions to Kaggle competition  "
   ]
  },
  {
   "cell_type": "code",
   "execution_count": 25,
   "id": "084b5e05",
   "metadata": {
    "execution": {
     "iopub.execute_input": "2023-08-12T19:05:22.983166Z",
     "iopub.status.busy": "2023-08-12T19:05:22.982724Z",
     "iopub.status.idle": "2023-08-12T19:05:22.988220Z",
     "shell.execute_reply": "2023-08-12T19:05:22.987017Z"
    },
    "papermill": {
     "duration": 0.107169,
     "end_time": "2023-08-12T19:05:22.990773",
     "exception": false,
     "start_time": "2023-08-12T19:05:22.883604",
     "status": "completed"
    },
    "tags": []
   },
   "outputs": [],
   "source": [
    "# def submit(selected_model=logreg, selected_preprocessor=tvec):\n",
    "    \n",
    "#     # Retrain on the whole train.csv file  \n",
    "#     traindf = pd.read_csv(\"/kaggle/input/sentiment-prediction-on-movie-reviews/train.csv\")\n",
    "#     X_train = traindf[\"reviewText\"]\n",
    "#     X_train.fillna(\"empty\", inplace=True)\n",
    "#     y_train = traindf[\"sentiment\"]\n",
    "#     pipe = preprocess_n_train(X_train, y_train, selected_preprocessor, selected_model)\n",
    "    \n",
    "#     # Predict on test.csv file\n",
    "#     testdf = pd.read_csv(\"/kaggle/input/sentiment-prediction-on-movie-reviews/test.csv\")\n",
    "#     X_test = testdf[\"reviewText\"]\n",
    "#     X_test.fillna(\"empty\", inplace=True)\n",
    "    \n",
    "#     y_pred = pipe.predict(X_test)\n",
    "    \n",
    "#     pred_df = pd.DataFrame(y_pred)\n",
    "#     pred_df.columns = [\"sentiment\"]\n",
    "#     pred_df.index.name = \"id\"\n",
    "#     pred_df.to_csv(\"submission.csv\")\n",
    "    \n",
    "#     return \"Successfully created the submission file!!!\""
   ]
  },
  {
   "cell_type": "code",
   "execution_count": 26,
   "id": "cda55930",
   "metadata": {
    "execution": {
     "iopub.execute_input": "2023-08-12T19:05:23.191335Z",
     "iopub.status.busy": "2023-08-12T19:05:23.190833Z",
     "iopub.status.idle": "2023-08-12T19:05:23.196193Z",
     "shell.execute_reply": "2023-08-12T19:05:23.194749Z"
    },
    "papermill": {
     "duration": 0.107267,
     "end_time": "2023-08-12T19:05:23.198911",
     "exception": false,
     "start_time": "2023-08-12T19:05:23.091644",
     "status": "completed"
    },
    "tags": []
   },
   "outputs": [],
   "source": [
    "# submit(logreg_cv1, tvec_cv1)"
   ]
  },
  {
   "cell_type": "markdown",
   "id": "b90ca6b0",
   "metadata": {
    "papermill": {
     "duration": 0.096826,
     "end_time": "2023-08-12T19:05:23.392819",
     "exception": false,
     "start_time": "2023-08-12T19:05:23.295993",
     "status": "completed"
    },
    "tags": []
   },
   "source": [
    "# PART II  "
   ]
  },
  {
   "cell_type": "markdown",
   "id": "ec6fde51",
   "metadata": {
    "papermill": {
     "duration": 0.096186,
     "end_time": "2023-08-12T19:05:23.586457",
     "exception": false,
     "start_time": "2023-08-12T19:05:23.490271",
     "status": "completed"
    },
    "tags": []
   },
   "source": [
    "## Merge \"movies.csv\" with \"train.csv\" and \"test.csv\"  "
   ]
  },
  {
   "cell_type": "markdown",
   "id": "165a15fb",
   "metadata": {
    "papermill": {
     "duration": 0.098698,
     "end_time": "2023-08-12T19:05:23.782260",
     "exception": false,
     "start_time": "2023-08-12T19:05:23.683562",
     "status": "completed"
    },
    "tags": []
   },
   "source": [
    "### Helper functions  "
   ]
  },
  {
   "cell_type": "code",
   "execution_count": 27,
   "id": "33be91dc",
   "metadata": {
    "execution": {
     "iopub.execute_input": "2023-08-12T19:05:23.978185Z",
     "iopub.status.busy": "2023-08-12T19:05:23.977710Z",
     "iopub.status.idle": "2023-08-12T19:05:23.984156Z",
     "shell.execute_reply": "2023-08-12T19:05:23.983055Z"
    },
    "papermill": {
     "duration": 0.107656,
     "end_time": "2023-08-12T19:05:23.986376",
     "exception": false,
     "start_time": "2023-08-12T19:05:23.878720",
     "status": "completed"
    },
    "tags": []
   },
   "outputs": [],
   "source": [
    "# Helper function for loading files  \n",
    "\n",
    "def load_csv(filename: str):\n",
    "    if platform == \"vscode\":\n",
    "        df = pd.read_csv(f\"data/{filename}.csv\")\n",
    "    else:\n",
    "        df = pd.read_csv(f\"/kaggle/input/sentiment-prediction-on-movie-reviews/{filename}.csv\")\n",
    "        \n",
    "    return df"
   ]
  },
  {
   "cell_type": "code",
   "execution_count": 28,
   "id": "4431fbb9",
   "metadata": {
    "execution": {
     "iopub.execute_input": "2023-08-12T19:05:24.184172Z",
     "iopub.status.busy": "2023-08-12T19:05:24.183791Z",
     "iopub.status.idle": "2023-08-12T19:05:24.190424Z",
     "shell.execute_reply": "2023-08-12T19:05:24.189227Z"
    },
    "papermill": {
     "duration": 0.106743,
     "end_time": "2023-08-12T19:05:24.192709",
     "exception": false,
     "start_time": "2023-08-12T19:05:24.085966",
     "status": "completed"
    },
    "tags": []
   },
   "outputs": [],
   "source": [
    "def inspect(df: pd.DataFrame):\n",
    "    print(f\"Shape of the dataframe: {df.shape}\")\n",
    "    print()\n",
    "    print(f\"Columns in the dataframe:\\n{df.columns}\")\n",
    "    print()\n",
    "    print(f\"{df.info()}\")\n",
    "    print()\n",
    "    # print(f\"Summary: {df.describe()}\")\n",
    "    print(f\"Missing values:\\n{df.isna().sum()}\")\n",
    "    return"
   ]
  },
  {
   "cell_type": "code",
   "execution_count": 29,
   "id": "3e74df81",
   "metadata": {
    "execution": {
     "iopub.execute_input": "2023-08-12T19:05:24.391995Z",
     "iopub.status.busy": "2023-08-12T19:05:24.391592Z",
     "iopub.status.idle": "2023-08-12T19:05:24.397282Z",
     "shell.execute_reply": "2023-08-12T19:05:24.396022Z"
    },
    "papermill": {
     "duration": 0.109069,
     "end_time": "2023-08-12T19:05:24.399793",
     "exception": false,
     "start_time": "2023-08-12T19:05:24.290724",
     "status": "completed"
    },
    "tags": []
   },
   "outputs": [],
   "source": [
    "def name_fl(name):\n",
    "    l = name.split()\n",
    "    n = ' '.join((l[0], l[-1]))\n",
    "    return n"
   ]
  },
  {
   "cell_type": "code",
   "execution_count": 30,
   "id": "047a94cb",
   "metadata": {
    "execution": {
     "iopub.execute_input": "2023-08-12T19:05:24.591001Z",
     "iopub.status.busy": "2023-08-12T19:05:24.590568Z",
     "iopub.status.idle": "2023-08-12T19:05:24.619361Z",
     "shell.execute_reply": "2023-08-12T19:05:24.618125Z"
    },
    "papermill": {
     "duration": 0.127623,
     "end_time": "2023-08-12T19:05:24.622039",
     "exception": false,
     "start_time": "2023-08-12T19:05:24.494416",
     "status": "completed"
    },
    "tags": []
   },
   "outputs": [],
   "source": [
    "def select_features(df: pd.DataFrame, moviesdf: pd.DataFrame, row_thresh_null=None):\n",
    "    '''\n",
    "    This function merges the given dataframes. Note that the first df must be \"train\" or \"test\" and\n",
    "    the second df should be \"movies\".\n",
    "    Note: Sentiment column is present only in \"train.csv\" file and not \"test.csv\" file.\n",
    "    '''\n",
    "    \n",
    "    # Drop duplicates from moviesdf\n",
    "#     movies_unique = moviesdf.drop_duplicates(subset=[\"movieid\"])\n",
    "\n",
    "    # Drop duplicates using groupby - clubs similar rows and fills in missing values better\n",
    "    movies_unique = moviesdf.fillna(value=np.nan).groupby(\"movieid\").first().reset_index()\n",
    "    \n",
    "\n",
    "    # Handle missing values in movies.csv better than just dropping duplicates?\n",
    "#     movies_unique = moviesdf.copy()\n",
    "#     movies_unique[[\"audienceScore\", \"runtimeMinutes\"]] = movies_unique[[\"audienceScore\", \"runtimeMinutes\"]].interpolate(method='linear', axis=0)\n",
    "#     movies_unique = movies_unique.fillna(value=np.nan).groupby(\"movieid\").first().fillna(method='ffill').reset_index()\n",
    "\n",
    "    \n",
    "\n",
    "    # Merge df and movies_unique\n",
    "    df_merged = pd.merge(df, movies_unique, on=\"movieid\", how='left')\n",
    "    \n",
    "    # Rename \"isTopCritic\" column, if it exists, to \"isFrequentReviewer\"\n",
    "    df_merged.rename(columns={\"isTopCritic\": \"isFrequentReviewer\"}, inplace=True)\n",
    "    \n",
    "    # Drop columns\n",
    "#     df_merged = df_merged.drop(columns=[\"title\", \"ratingContents\", \"releaseDateTheaters\", \"releaseDateStreaming\", \"distributor\", \"soundType\"])\n",
    "#     df_merged = df_merged.drop(columns=[\"title\", \"soundType\"])\n",
    "    \n",
    "    # Drop rows (OPTIONAL: Uses kwarg row_thresh_null)\n",
    "    if row_thresh_null != None:\n",
    "        df_merged.dropna(axis=0, thresh=(df_merged.shape[1] - row_thresh_null), inplace=True)\n",
    "        \n",
    "\n",
    "    # Create new columns based on reviewText\n",
    "    final = df_merged.copy()\n",
    "    final[\"reviewYN\"] = np.where(final[\"reviewText\"].isnull(), 1, 0)    # Feature engineering - adding a new column\n",
    "    final[\"reviewWC\"] = final.apply(lambda x: len(str(x[\"reviewText\"]).split()), axis=1)    # Feature engineering - adding second new column\n",
    "    \n",
    "    # Clean text (replace numbers with empty string) and fill missing values in \"reviewText\" with empty string\n",
    "    final[\"reviewText\"] = final[\"reviewText\"].str.replace('\\d+', '', regex=True)\n",
    "    final[\"reviewText\"] = final[\"reviewText\"].fillna(\"neutral\")\n",
    "    \n",
    "    # Fill missing values in \"rating\", \"genre\", original columns with the word \"unknown\"\n",
    "    final[\"rating\"] = final[\"rating\"].fillna(\"unknown\")\n",
    "    final[\"originalLanguage\"] = final[\"originalLanguage\"].fillna(\"unknown\")\n",
    "    final[\"genre\"] = final[\"genre\"].fillna(\"unknown\")\n",
    "    final[\"genre\"] = final[\"genre\"].apply(lambda x: re.sub(r\"-\", \"\", x))\n",
    "    final[\"genreSorted\"] = final[\"genre\"].apply(lambda x: (\",\").join(sorted(x.split(\", \"))))\n",
    "#     final[\"genre\"] = final[\"genre\"].replace(to_replace={\"&\": \"\"})\n",
    "\n",
    "    # Impute missing values for \"audienceScore\" and \"runtimeMinutes\" columns\n",
    "#     final[\"audienceScore\"] = final[\"audienceScore\"].fillna(final[\"audienceScore\"].mean())        # MOVED\n",
    "#     final[\"runtimeMinutes\"] = final[\"runtimeMinutes\"].fillna(final[\"runtimeMinutes\"].median())   # MOVED\n",
    "    \n",
    "    # Preprocess and impute missing values in \"boxOffice\" column\n",
    "    final[\"boxOffice\"] = final[\"boxOffice\"].str[1:]\n",
    "    final[\"boxOffice\"] = final[\"boxOffice\"].replace(to_replace={\"M\": \"*1000000\", \"K\": \"*1000\"}, regex=True)\n",
    "    final[\"boxOffice\"] = final[\"boxOffice\"].loc[final[\"boxOffice\"].notnull()].apply(lambda x: eval(str(x)))\n",
    "#     final[\"boxOffice\"] = final[\"boxOffice\"].fillna(final[\"boxOffice\"].median())                  # MOVED\n",
    "    # (Optional) Replace outliers in boxOffice with median\n",
    "#     median = final[\"boxOffice\"].describe()['50%']\n",
    "#     iqr = final[\"boxOffice\"].describe()['75%'] - final[\"boxOffice\"].describe()['25%']\n",
    "#     ll = median - (1.5*iqr)\n",
    "#     ul = median + (1.5*iqr)\n",
    "#     final.loc[final[\"boxOffice\"] > ul, \"boxOffice\"] = median\n",
    "    \n",
    "    # Clean language names\n",
    "    final[\"originalLanguage\"].replace({\"English (United Kingdom)\": \"English\", \n",
    "                                            \"English (Australia)\" : \"English\",\n",
    "                                            \"French (France)\": \"French\", \n",
    "                                            \"French (Canada)\": \"French\",\n",
    "                                            \"Portuguese (Brazil)\": \"Portuguese\",\n",
    "                                            \"Spanish (Spain)\": \"Spanish\"},                                         \n",
    "                                            inplace=True)\n",
    "    \n",
    "    # Clean reviewerName column\n",
    "    pre_post_fixes = {\"Mr. \": \"\", \"Mrs. \": \"\", \"Ms. \": \"\", \"Dr. \": \"\", \n",
    "                      \" MD\": \"\", \" DDS\": \"\", \" DVM\": \"\", \" Jr.\": \"\", \" PhD\": \"\", \" II\": \"\", \" IV\": \"\"}\n",
    "    final[\"reviewerName\"] = final[\"reviewerName\"].replace(pre_post_fixes, regex=True)\n",
    "    final[\"reviewerName\"] = final[\"reviewerName\"].apply(name_fl)\n",
    "    \n",
    "    # Handle 'ratingContents' column\n",
    "    final[\"ratingContents\"] = final[\"ratingContents\"].fillna(\"neutral\")\n",
    "    final[\"rcSorted\"] = final[\"ratingContents\"].apply(lambda x: (\",\").join(sorted(x.strip(\"][\").split(\", \"))))\n",
    "    final[\"rcSorted\"] = final[\"rcSorted\"].apply(lambda x: re.sub(r\"'\", \"\", x))\n",
    "    final[\"rcSorted\"] = final[\"rcSorted\"].apply(lambda x: re.sub(r\"[/\\s]\", \"_\", x))  \n",
    "    \n",
    "    # Handle 'ratingContents' column\n",
    "    final[\"distributor\"] = final[\"distributor\"].fillna(\"unknown\")\n",
    "    \n",
    "    # Work with 'releaseDateTheaters', releaseDateStreaming column\n",
    "    final[[\"releaseDateTheaters\", \"releaseDateStreaming\"]] = final[[\"releaseDateTheaters\", \"releaseDateStreaming\"]].astype('datetime64[ns]')\n",
    "\n",
    "    final[\"releaseDate\"] = final[[\"releaseDateTheaters\", \"releaseDateStreaming\"]].min(axis=1, skipna=False)\n",
    "#     final[\"releaseDate\"] = final[\"releaseDate\"].fillna(final[\"releaseDate\"].median())               # MOVED\n",
    "\n",
    "    final[\"releaseYear\"] = final[\"releaseDate\"].dt.year\n",
    "    final[\"releaseMonth\"] = final[\"releaseDate\"].dt.month\n",
    "    \n",
    "    # Compute \"releaseDiff\" column and fill missing values in \"releaseDiff\" and (optional) replace outliers\n",
    "    final[\"releaseDiff\"] = (final[\"releaseDateStreaming\"] - final[\"releaseDateTheaters\"]) / np.timedelta64(1, 'D')\n",
    "    final[\"releaseDiff\"] = final[\"releaseDiff\"].apply(lambda x: abs(x))\n",
    "    final[\"releaseDiff\"] = final[\"releaseDiff\"].fillna(value=0)\n",
    "#     final[\"releaseDiff\"] = final[\"releaseDiff\"].fillna(final[\"releaseDiff\"].median())\n",
    "    # median = final[\"releaseDiff\"].describe()['50%']\n",
    "    # iqr = final[\"releaseDiff\"].describe()['75%'] - final[\"releaseDiff\"].describe()['25%']\n",
    "    # ll = median - (1.5*iqr)\n",
    "    # ul = median + (1.5*iqr)\n",
    "    # final.loc[final[\"releaseDiff\"] > ul, \"releaseDiff\"] = median\n",
    "    # final.loc[final[\"releaseDiff\"] < ll, \"releaseDiff\"] = median\n",
    "    \n",
    "#     # Create new feature columns\n",
    "    \n",
    "#     # Convert audienceScore to categories  \n",
    "#     num_bins_as = 20\n",
    "#     final[\"audScoreBins\"] = pd.cut(final['audienceScore'], bins=num_bins_as, labels=False)\n",
    "    \n",
    "#     # Convert runtimeMinutes to categories  \n",
    "# #     num_bins_rt = 20\n",
    "#     final[\"runtimeBins\"] = pd.cut(final['runtimeMinutes'], bins=[0,75,120,180,565], labels=[4,3,2,1])\n",
    "    \n",
    "#     # Convert boxOffice to categories  \n",
    "#     num_bins_bo = 5\n",
    "#     final[\"boxOfficeBins\"] = pd.cut(final['boxOffice'], bins=num_bins_bo, labels=False)\n",
    "    \n",
    "#     # Convert releaseDiff to categories  \n",
    "#     num_bins_rd = 5\n",
    "#     final[\"releaseDiffBins\"] = pd.cut(final['releaseDiff'], bins=[-1, 180, 360, 1000, 40000], labels=[0, 1, 2, 3])\n",
    "\n",
    "    return final"
   ]
  },
  {
   "cell_type": "code",
   "execution_count": 31,
   "id": "7a0b5744",
   "metadata": {
    "execution": {
     "iopub.execute_input": "2023-08-12T19:05:24.819326Z",
     "iopub.status.busy": "2023-08-12T19:05:24.818916Z",
     "iopub.status.idle": "2023-08-12T19:05:24.826534Z",
     "shell.execute_reply": "2023-08-12T19:05:24.825498Z"
    },
    "papermill": {
     "duration": 0.110588,
     "end_time": "2023-08-12T19:05:24.829107",
     "exception": false,
     "start_time": "2023-08-12T19:05:24.718519",
     "status": "completed"
    },
    "tags": []
   },
   "outputs": [],
   "source": [
    "def split_train_predict(features, labels, pipeline, test_size=0.25, random_state=42):\n",
    "    # cols = features.columns\n",
    "    if len(features.shape) == 1:\n",
    "        features = features.to_numpy().reshape(-1, 1)  # reshape to 2D array\n",
    "    features = pd.DataFrame(features)\n",
    "    X_train, X_test, y_train, y_test = train_test_split(features, labels, test_size=test_size, random_state=random_state)\n",
    "    pipeline.fit(X_train, y_train)\n",
    "    y_pred = pipeline.predict(X_test)\n",
    "    print(classification_report(y_test, y_pred))\n",
    "    print(confusion_matrix(y_test, y_pred))\n",
    "    return pipeline"
   ]
  },
  {
   "cell_type": "markdown",
   "id": "10119906",
   "metadata": {
    "papermill": {
     "duration": 0.098054,
     "end_time": "2023-08-12T19:05:25.022975",
     "exception": false,
     "start_time": "2023-08-12T19:05:24.924921",
     "status": "completed"
    },
    "tags": []
   },
   "source": [
    "### Merge \"train.csv\" file with \"movies.csv\" file  "
   ]
  },
  {
   "cell_type": "code",
   "execution_count": 32,
   "id": "3f5e5861",
   "metadata": {
    "execution": {
     "iopub.execute_input": "2023-08-12T19:05:25.217994Z",
     "iopub.status.busy": "2023-08-12T19:05:25.217333Z",
     "iopub.status.idle": "2023-08-12T19:05:40.186839Z",
     "shell.execute_reply": "2023-08-12T19:05:40.185547Z"
    },
    "papermill": {
     "duration": 15.070854,
     "end_time": "2023-08-12T19:05:40.190187",
     "exception": false,
     "start_time": "2023-08-12T19:05:25.119333",
     "status": "completed"
    },
    "tags": []
   },
   "outputs": [],
   "source": [
    "merged = select_features(load_csv(\"train\"), load_csv(\"movies\"), row_thresh_null=None)"
   ]
  },
  {
   "cell_type": "code",
   "execution_count": 33,
   "id": "bc593cdd",
   "metadata": {
    "execution": {
     "iopub.execute_input": "2023-08-12T19:05:40.388881Z",
     "iopub.status.busy": "2023-08-12T19:05:40.388414Z",
     "iopub.status.idle": "2023-08-12T19:05:40.393549Z",
     "shell.execute_reply": "2023-08-12T19:05:40.392231Z"
    },
    "papermill": {
     "duration": 0.108683,
     "end_time": "2023-08-12T19:05:40.396067",
     "exception": false,
     "start_time": "2023-08-12T19:05:40.287384",
     "status": "completed"
    },
    "tags": []
   },
   "outputs": [],
   "source": [
    "# inspect(merged)    # Note missing values in ['audienceScore', 'runtimeMinutes', 'boxOffice'] columns  "
   ]
  },
  {
   "cell_type": "code",
   "execution_count": 34,
   "id": "08a0a251",
   "metadata": {
    "execution": {
     "iopub.execute_input": "2023-08-12T19:05:40.591032Z",
     "iopub.status.busy": "2023-08-12T19:05:40.590556Z",
     "iopub.status.idle": "2023-08-12T19:05:40.692296Z",
     "shell.execute_reply": "2023-08-12T19:05:40.691042Z"
    },
    "papermill": {
     "duration": 0.20164,
     "end_time": "2023-08-12T19:05:40.694918",
     "exception": false,
     "start_time": "2023-08-12T19:05:40.493278",
     "status": "completed"
    },
    "tags": []
   },
   "outputs": [
    {
     "data": {
      "text/plain": [
       "array([6.80e+01, 1.04e+02, 1.43e+07])"
      ]
     },
     "execution_count": 34,
     "metadata": {},
     "output_type": "execute_result"
    }
   ],
   "source": [
    "# Simple Imputer for ['audienceScore', 'runtimeMinutes', 'boxOffice'] columns\n",
    "si = SimpleImputer(strategy='median')\n",
    "merged[['audienceScore', 'runtimeMinutes', 'boxOffice']] = si.fit_transform(merged[['audienceScore', 'runtimeMinutes', 'boxOffice']])\n",
    "si.statistics_"
   ]
  },
  {
   "cell_type": "code",
   "execution_count": 35,
   "id": "1e8d61da",
   "metadata": {
    "execution": {
     "iopub.execute_input": "2023-08-12T19:05:40.888553Z",
     "iopub.status.busy": "2023-08-12T19:05:40.888063Z",
     "iopub.status.idle": "2023-08-12T19:05:40.903871Z",
     "shell.execute_reply": "2023-08-12T19:05:40.902404Z"
    },
    "papermill": {
     "duration": 0.116941,
     "end_time": "2023-08-12T19:05:40.906387",
     "exception": false,
     "start_time": "2023-08-12T19:05:40.789446",
     "status": "completed"
    },
    "tags": []
   },
   "outputs": [],
   "source": [
    "# Fill 'releaseDate' column with median  \n",
    "merged['releaseDate'] = merged[\"releaseDate\"].fillna(merged[\"releaseDate\"].median())"
   ]
  },
  {
   "cell_type": "code",
   "execution_count": 36,
   "id": "2c6cbd54",
   "metadata": {
    "execution": {
     "iopub.execute_input": "2023-08-12T19:05:41.104897Z",
     "iopub.status.busy": "2023-08-12T19:05:41.104455Z",
     "iopub.status.idle": "2023-08-12T19:05:42.571720Z",
     "shell.execute_reply": "2023-08-12T19:05:42.569946Z"
    },
    "papermill": {
     "duration": 1.573447,
     "end_time": "2023-08-12T19:05:42.574312",
     "exception": false,
     "start_time": "2023-08-12T19:05:41.000865",
     "status": "completed"
    },
    "tags": []
   },
   "outputs": [
    {
     "name": "stdout",
     "output_type": "stream",
     "text": [
      "Shape of the dataframe: (162758, 26)\n",
      "\n",
      "Columns in the dataframe:\n",
      "Index(['movieid', 'reviewerName', 'isFrequentReviewer', 'reviewText',\n",
      "       'sentiment', 'title', 'audienceScore', 'rating', 'ratingContents',\n",
      "       'releaseDateTheaters', 'releaseDateStreaming', 'runtimeMinutes',\n",
      "       'genre', 'originalLanguage', 'director', 'boxOffice', 'distributor',\n",
      "       'soundType', 'reviewYN', 'reviewWC', 'genreSorted', 'rcSorted',\n",
      "       'releaseDate', 'releaseYear', 'releaseMonth', 'releaseDiff'],\n",
      "      dtype='object')\n",
      "\n",
      "<class 'pandas.core.frame.DataFrame'>\n",
      "Int64Index: 162758 entries, 0 to 162757\n",
      "Data columns (total 26 columns):\n",
      " #   Column                Non-Null Count   Dtype         \n",
      "---  ------                --------------   -----         \n",
      " 0   movieid               162758 non-null  object        \n",
      " 1   reviewerName          162758 non-null  object        \n",
      " 2   isFrequentReviewer    162758 non-null  bool          \n",
      " 3   reviewText            162758 non-null  object        \n",
      " 4   sentiment             162758 non-null  object        \n",
      " 5   title                 162758 non-null  object        \n",
      " 6   audienceScore         162758 non-null  float64       \n",
      " 7   rating                162758 non-null  object        \n",
      " 8   ratingContents        162758 non-null  object        \n",
      " 9   releaseDateTheaters   146403 non-null  datetime64[ns]\n",
      " 10  releaseDateStreaming  157353 non-null  datetime64[ns]\n",
      " 11  runtimeMinutes        162758 non-null  float64       \n",
      " 12  genre                 162758 non-null  object        \n",
      " 13  originalLanguage      162758 non-null  object        \n",
      " 14  director              162758 non-null  object        \n",
      " 15  boxOffice             162758 non-null  float64       \n",
      " 16  distributor           162758 non-null  object        \n",
      " 17  soundType             93466 non-null   object        \n",
      " 18  reviewYN              162758 non-null  int64         \n",
      " 19  reviewWC              162758 non-null  int64         \n",
      " 20  genreSorted           162758 non-null  object        \n",
      " 21  rcSorted              162758 non-null  object        \n",
      " 22  releaseDate           162758 non-null  datetime64[ns]\n",
      " 23  releaseYear           143073 non-null  float64       \n",
      " 24  releaseMonth          143073 non-null  float64       \n",
      " 25  releaseDiff           162758 non-null  float64       \n",
      "dtypes: bool(1), datetime64[ns](3), float64(6), int64(2), object(14)\n",
      "memory usage: 32.4+ MB\n",
      "None\n",
      "\n",
      "Missing values:\n",
      "movieid                     0\n",
      "reviewerName                0\n",
      "isFrequentReviewer          0\n",
      "reviewText                  0\n",
      "sentiment                   0\n",
      "title                       0\n",
      "audienceScore               0\n",
      "rating                      0\n",
      "ratingContents              0\n",
      "releaseDateTheaters     16355\n",
      "releaseDateStreaming     5405\n",
      "runtimeMinutes              0\n",
      "genre                       0\n",
      "originalLanguage            0\n",
      "director                    0\n",
      "boxOffice                   0\n",
      "distributor                 0\n",
      "soundType               69292\n",
      "reviewYN                    0\n",
      "reviewWC                    0\n",
      "genreSorted                 0\n",
      "rcSorted                    0\n",
      "releaseDate                 0\n",
      "releaseYear             19685\n",
      "releaseMonth            19685\n",
      "releaseDiff                 0\n",
      "dtype: int64\n"
     ]
    }
   ],
   "source": [
    "# Check out 'merged' df after imputation  \n",
    "inspect(merged)"
   ]
  },
  {
   "cell_type": "code",
   "execution_count": 37,
   "id": "fd316114",
   "metadata": {
    "execution": {
     "iopub.execute_input": "2023-08-12T19:05:42.766855Z",
     "iopub.status.busy": "2023-08-12T19:05:42.765910Z",
     "iopub.status.idle": "2023-08-12T19:05:42.830535Z",
     "shell.execute_reply": "2023-08-12T19:05:42.829072Z"
    },
    "papermill": {
     "duration": 0.163889,
     "end_time": "2023-08-12T19:05:42.833204",
     "exception": false,
     "start_time": "2023-08-12T19:05:42.669315",
     "status": "completed"
    },
    "tags": []
   },
   "outputs": [
    {
     "data": {
      "text/html": [
       "<div>\n",
       "<style scoped>\n",
       "    .dataframe tbody tr th:only-of-type {\n",
       "        vertical-align: middle;\n",
       "    }\n",
       "\n",
       "    .dataframe tbody tr th {\n",
       "        vertical-align: top;\n",
       "    }\n",
       "\n",
       "    .dataframe thead th {\n",
       "        text-align: right;\n",
       "    }\n",
       "</style>\n",
       "<table border=\"1\" class=\"dataframe\">\n",
       "  <thead>\n",
       "    <tr style=\"text-align: right;\">\n",
       "      <th></th>\n",
       "      <th>audienceScore</th>\n",
       "      <th>runtimeMinutes</th>\n",
       "      <th>boxOffice</th>\n",
       "    </tr>\n",
       "  </thead>\n",
       "  <tbody>\n",
       "    <tr>\n",
       "      <th>count</th>\n",
       "      <td>162758.000000</td>\n",
       "      <td>162758.000000</td>\n",
       "      <td>1.627580e+05</td>\n",
       "    </tr>\n",
       "    <tr>\n",
       "      <th>mean</th>\n",
       "      <td>65.062565</td>\n",
       "      <td>106.992019</td>\n",
       "      <td>4.160983e+07</td>\n",
       "    </tr>\n",
       "    <tr>\n",
       "      <th>std</th>\n",
       "      <td>19.844000</td>\n",
       "      <td>22.203778</td>\n",
       "      <td>7.932291e+07</td>\n",
       "    </tr>\n",
       "    <tr>\n",
       "      <th>min</th>\n",
       "      <td>0.000000</td>\n",
       "      <td>4.000000</td>\n",
       "      <td>0.000000e+00</td>\n",
       "    </tr>\n",
       "    <tr>\n",
       "      <th>25%</th>\n",
       "      <td>51.000000</td>\n",
       "      <td>93.000000</td>\n",
       "      <td>2.000000e+06</td>\n",
       "    </tr>\n",
       "    <tr>\n",
       "      <th>50%</th>\n",
       "      <td>68.000000</td>\n",
       "      <td>104.000000</td>\n",
       "      <td>1.430000e+07</td>\n",
       "    </tr>\n",
       "    <tr>\n",
       "      <th>75%</th>\n",
       "      <td>81.000000</td>\n",
       "      <td>118.000000</td>\n",
       "      <td>4.200000e+07</td>\n",
       "    </tr>\n",
       "    <tr>\n",
       "      <th>max</th>\n",
       "      <td>100.000000</td>\n",
       "      <td>561.000000</td>\n",
       "      <td>8.584000e+08</td>\n",
       "    </tr>\n",
       "  </tbody>\n",
       "</table>\n",
       "</div>"
      ],
      "text/plain": [
       "       audienceScore  runtimeMinutes     boxOffice\n",
       "count  162758.000000   162758.000000  1.627580e+05\n",
       "mean       65.062565      106.992019  4.160983e+07\n",
       "std        19.844000       22.203778  7.932291e+07\n",
       "min         0.000000        4.000000  0.000000e+00\n",
       "25%        51.000000       93.000000  2.000000e+06\n",
       "50%        68.000000      104.000000  1.430000e+07\n",
       "75%        81.000000      118.000000  4.200000e+07\n",
       "max       100.000000      561.000000  8.584000e+08"
      ]
     },
     "execution_count": 37,
     "metadata": {},
     "output_type": "execute_result"
    }
   ],
   "source": [
    "merged[['audienceScore', 'runtimeMinutes', 'boxOffice']].describe()"
   ]
  },
  {
   "cell_type": "markdown",
   "id": "12c2ea0b",
   "metadata": {
    "papermill": {
     "duration": 0.100765,
     "end_time": "2023-08-12T19:05:43.029516",
     "exception": false,
     "start_time": "2023-08-12T19:05:42.928751",
     "status": "completed"
    },
    "tags": []
   },
   "source": [
    "### EDA releaseDiff  "
   ]
  },
  {
   "cell_type": "code",
   "execution_count": 38,
   "id": "0623541d",
   "metadata": {
    "execution": {
     "iopub.execute_input": "2023-08-12T19:05:43.232430Z",
     "iopub.status.busy": "2023-08-12T19:05:43.231393Z",
     "iopub.status.idle": "2023-08-12T19:05:43.253028Z",
     "shell.execute_reply": "2023-08-12T19:05:43.251904Z"
    },
    "papermill": {
     "duration": 0.12972,
     "end_time": "2023-08-12T19:05:43.255511",
     "exception": false,
     "start_time": "2023-08-12T19:05:43.125791",
     "status": "completed"
    },
    "tags": []
   },
   "outputs": [
    {
     "data": {
      "text/plain": [
       "count    162758.000000\n",
       "mean       1653.469015\n",
       "std        4581.420922\n",
       "min           0.000000\n",
       "25%          65.000000\n",
       "50%         116.000000\n",
       "75%         375.000000\n",
       "max       38922.000000\n",
       "Name: releaseDiff, dtype: float64"
      ]
     },
     "execution_count": 38,
     "metadata": {},
     "output_type": "execute_result"
    }
   ],
   "source": [
    "# abs values\n",
    "merged[\"releaseDiff\"].describe()"
   ]
  },
  {
   "cell_type": "code",
   "execution_count": 39,
   "id": "bedd4eea",
   "metadata": {
    "execution": {
     "iopub.execute_input": "2023-08-12T19:05:43.473778Z",
     "iopub.status.busy": "2023-08-12T19:05:43.473315Z",
     "iopub.status.idle": "2023-08-12T19:05:43.478626Z",
     "shell.execute_reply": "2023-08-12T19:05:43.477523Z"
    },
    "papermill": {
     "duration": 0.115228,
     "end_time": "2023-08-12T19:05:43.480932",
     "exception": false,
     "start_time": "2023-08-12T19:05:43.365704",
     "status": "completed"
    },
    "tags": []
   },
   "outputs": [],
   "source": [
    "# merged['releaseDiffBins'].value_counts()"
   ]
  },
  {
   "cell_type": "code",
   "execution_count": 40,
   "id": "b785b47e",
   "metadata": {
    "execution": {
     "iopub.execute_input": "2023-08-12T19:05:43.693374Z",
     "iopub.status.busy": "2023-08-12T19:05:43.692950Z",
     "iopub.status.idle": "2023-08-12T19:05:44.091080Z",
     "shell.execute_reply": "2023-08-12T19:05:44.090144Z"
    },
    "papermill": {
     "duration": 0.51493,
     "end_time": "2023-08-12T19:05:44.093764",
     "exception": false,
     "start_time": "2023-08-12T19:05:43.578834",
     "status": "completed"
    },
    "tags": []
   },
   "outputs": [
    {
     "data": {
      "text/plain": [
       "<Axes: xlabel='sentiment', ylabel='releaseDiff'>"
      ]
     },
     "execution_count": 40,
     "metadata": {},
     "output_type": "execute_result"
    },
    {
     "data": {
      "image/png": "[encoded data removed]",
      "text/plain": [
       "<Figure size 640x480 with 1 Axes>"
      ]
     },
     "metadata": {},
     "output_type": "display_data"
    }
   ],
   "source": [
    "sns.boxplot(x=merged['sentiment'], y=merged['releaseDiff'], showfliers=False)"
   ]
  },
  {
   "cell_type": "code",
   "execution_count": 41,
   "id": "215fee82",
   "metadata": {
    "execution": {
     "iopub.execute_input": "2023-08-12T19:05:44.300416Z",
     "iopub.status.busy": "2023-08-12T19:05:44.299963Z",
     "iopub.status.idle": "2023-08-12T19:05:44.305978Z",
     "shell.execute_reply": "2023-08-12T19:05:44.304635Z"
    },
    "papermill": {
     "duration": 0.113898,
     "end_time": "2023-08-12T19:05:44.308387",
     "exception": false,
     "start_time": "2023-08-12T19:05:44.194489",
     "status": "completed"
    },
    "tags": []
   },
   "outputs": [],
   "source": [
    "# sns.displot(merged['releaseDiffBins'])"
   ]
  },
  {
   "cell_type": "code",
   "execution_count": 42,
   "id": "93017213",
   "metadata": {
    "execution": {
     "iopub.execute_input": "2023-08-12T19:05:44.509219Z",
     "iopub.status.busy": "2023-08-12T19:05:44.508758Z",
     "iopub.status.idle": "2023-08-12T19:05:44.514120Z",
     "shell.execute_reply": "2023-08-12T19:05:44.513049Z"
    },
    "papermill": {
     "duration": 0.108103,
     "end_time": "2023-08-12T19:05:44.516277",
     "exception": false,
     "start_time": "2023-08-12T19:05:44.408174",
     "status": "completed"
    },
    "tags": []
   },
   "outputs": [],
   "source": [
    "# merged['sentiment'].loc[merged['releaseDiffBins'] > 0].value_counts()"
   ]
  },
  {
   "cell_type": "code",
   "execution_count": 43,
   "id": "61e17f43",
   "metadata": {
    "execution": {
     "iopub.execute_input": "2023-08-12T19:05:44.717748Z",
     "iopub.status.busy": "2023-08-12T19:05:44.716540Z",
     "iopub.status.idle": "2023-08-12T19:05:44.720978Z",
     "shell.execute_reply": "2023-08-12T19:05:44.720256Z"
    },
    "papermill": {
     "duration": 0.106638,
     "end_time": "2023-08-12T19:05:44.723105",
     "exception": false,
     "start_time": "2023-08-12T19:05:44.616467",
     "status": "completed"
    },
    "tags": []
   },
   "outputs": [],
   "source": [
    "# merged['releaseDiffBins'].describe()"
   ]
  },
  {
   "cell_type": "markdown",
   "id": "33cd9412",
   "metadata": {
    "papermill": {
     "duration": 0.099494,
     "end_time": "2023-08-12T19:05:44.921912",
     "exception": false,
     "start_time": "2023-08-12T19:05:44.822418",
     "status": "completed"
    },
    "tags": []
   },
   "source": [
    "### EDA 'distributor'  "
   ]
  },
  {
   "cell_type": "code",
   "execution_count": 44,
   "id": "6c73b7ff",
   "metadata": {
    "execution": {
     "iopub.execute_input": "2023-08-12T19:05:45.218548Z",
     "iopub.status.busy": "2023-08-12T19:05:45.217901Z",
     "iopub.status.idle": "2023-08-12T19:05:45.253666Z",
     "shell.execute_reply": "2023-08-12T19:05:45.252872Z"
    },
    "papermill": {
     "duration": 0.138358,
     "end_time": "2023-08-12T19:05:45.256484",
     "exception": false,
     "start_time": "2023-08-12T19:05:45.118126",
     "status": "completed"
    },
    "tags": []
   },
   "outputs": [
    {
     "data": {
      "text/plain": [
       "unknown                              20489\n",
       "Universal Pictures                    8847\n",
       "Warner Bros. Pictures                 8722\n",
       "Paramount Pictures                    7773\n",
       "20th Century Fox                      7007\n",
       "                                     ...  \n",
       "Almi Pictures                            1\n",
       "Koch Lorber                              1\n",
       "Magic Lamp                               1\n",
       "Fine Line Features, Miramax Films        1\n",
       "American Film Co.                        1\n",
       "Name: distributor, Length: 1796, dtype: int64"
      ]
     },
     "execution_count": 44,
     "metadata": {},
     "output_type": "execute_result"
    }
   ],
   "source": [
    "merged[\"distributor\"].value_counts()"
   ]
  },
  {
   "cell_type": "code",
   "execution_count": 45,
   "id": "f78c6ec1",
   "metadata": {
    "execution": {
     "iopub.execute_input": "2023-08-12T19:05:45.459400Z",
     "iopub.status.busy": "2023-08-12T19:05:45.458746Z",
     "iopub.status.idle": "2023-08-12T19:05:45.475081Z",
     "shell.execute_reply": "2023-08-12T19:05:45.474347Z"
    },
    "papermill": {
     "duration": 0.120708,
     "end_time": "2023-08-12T19:05:45.477279",
     "exception": false,
     "start_time": "2023-08-12T19:05:45.356571",
     "status": "completed"
    },
    "tags": []
   },
   "outputs": [
    {
     "data": {
      "text/plain": [
       "count    162758.000000\n",
       "mean        106.992019\n",
       "std          22.203778\n",
       "min           4.000000\n",
       "25%          93.000000\n",
       "50%         104.000000\n",
       "75%         118.000000\n",
       "max         561.000000\n",
       "Name: runtimeMinutes, dtype: float64"
      ]
     },
     "execution_count": 45,
     "metadata": {},
     "output_type": "execute_result"
    }
   ],
   "source": [
    "merged[\"runtimeMinutes\"].describe()"
   ]
  },
  {
   "cell_type": "code",
   "execution_count": 46,
   "id": "6ce01b0b",
   "metadata": {
    "execution": {
     "iopub.execute_input": "2023-08-12T19:05:45.677804Z",
     "iopub.status.busy": "2023-08-12T19:05:45.677338Z",
     "iopub.status.idle": "2023-08-12T19:05:46.087128Z",
     "shell.execute_reply": "2023-08-12T19:05:46.085551Z"
    },
    "papermill": {
     "duration": 0.513137,
     "end_time": "2023-08-12T19:05:46.090093",
     "exception": false,
     "start_time": "2023-08-12T19:05:45.576956",
     "status": "completed"
    },
    "tags": []
   },
   "outputs": [
    {
     "data": {
      "text/plain": [
       "<Axes: xlabel='sentiment', ylabel='runtimeMinutes'>"
      ]
     },
     "execution_count": 46,
     "metadata": {},
     "output_type": "execute_result"
    },
    {
     "data": {
      "image/png": "[encoded data removed]",
      "text/plain": [
       "<Figure size 640x480 with 1 Axes>"
      ]
     },
     "metadata": {},
     "output_type": "display_data"
    }
   ],
   "source": [
    "sns.boxplot(y=merged[\"runtimeMinutes\"], x=merged[\"sentiment\"])"
   ]
  },
  {
   "cell_type": "code",
   "execution_count": 47,
   "id": "1c1469eb",
   "metadata": {
    "execution": {
     "iopub.execute_input": "2023-08-12T19:05:46.294133Z",
     "iopub.status.busy": "2023-08-12T19:05:46.293659Z",
     "iopub.status.idle": "2023-08-12T19:05:46.298927Z",
     "shell.execute_reply": "2023-08-12T19:05:46.297752Z"
    },
    "papermill": {
     "duration": 0.110388,
     "end_time": "2023-08-12T19:05:46.301278",
     "exception": false,
     "start_time": "2023-08-12T19:05:46.190890",
     "status": "completed"
    },
    "tags": []
   },
   "outputs": [],
   "source": [
    "# print(merged[\"boxOfficeBins\"].value_counts())\n",
    "# sns.displot(merged[\"boxOfficeBins\"])"
   ]
  },
  {
   "cell_type": "code",
   "execution_count": 48,
   "id": "b644a23f",
   "metadata": {
    "execution": {
     "iopub.execute_input": "2023-08-12T19:05:46.506451Z",
     "iopub.status.busy": "2023-08-12T19:05:46.505858Z",
     "iopub.status.idle": "2023-08-12T19:05:46.513264Z",
     "shell.execute_reply": "2023-08-12T19:05:46.512152Z"
    },
    "papermill": {
     "duration": 0.112306,
     "end_time": "2023-08-12T19:05:46.515624",
     "exception": false,
     "start_time": "2023-08-12T19:05:46.403318",
     "status": "completed"
    },
    "tags": []
   },
   "outputs": [
    {
     "data": {
      "text/plain": [
       "0    Henry Selick’s first movie since ’s Coraline. ...\n",
       "1    With a cast that reads like the Vogue Oscar pa...\n",
       "2    Creed II does not give us anything but another...\n",
       "3    I know what you're thinking, but this is no Li...\n",
       "4    Director Fernando Meirelles tells the story wi...\n",
       "Name: reviewText, dtype: object"
      ]
     },
     "execution_count": 48,
     "metadata": {},
     "output_type": "execute_result"
    }
   ],
   "source": [
    "merged[\"reviewText\"].head()"
   ]
  },
  {
   "cell_type": "code",
   "execution_count": 49,
   "id": "f3698c6f",
   "metadata": {
    "execution": {
     "iopub.execute_input": "2023-08-12T19:05:46.719578Z",
     "iopub.status.busy": "2023-08-12T19:05:46.719201Z",
     "iopub.status.idle": "2023-08-12T19:05:46.727133Z",
     "shell.execute_reply": "2023-08-12T19:05:46.725964Z"
    },
    "papermill": {
     "duration": 0.112292,
     "end_time": "2023-08-12T19:05:46.729404",
     "exception": false,
     "start_time": "2023-08-12T19:05:46.617112",
     "status": "completed"
    },
    "tags": []
   },
   "outputs": [
    {
     "data": {
      "text/plain": [
       "6447"
      ]
     },
     "execution_count": 49,
     "metadata": {},
     "output_type": "execute_result"
    }
   ],
   "source": [
    "merged[\"reviewYN\"].sum()"
   ]
  },
  {
   "cell_type": "code",
   "execution_count": 50,
   "id": "5daa731b",
   "metadata": {
    "execution": {
     "iopub.execute_input": "2023-08-12T19:05:46.936715Z",
     "iopub.status.busy": "2023-08-12T19:05:46.935993Z",
     "iopub.status.idle": "2023-08-12T19:05:46.942762Z",
     "shell.execute_reply": "2023-08-12T19:05:46.942029Z"
    },
    "papermill": {
     "duration": 0.114494,
     "end_time": "2023-08-12T19:05:46.944966",
     "exception": false,
     "start_time": "2023-08-12T19:05:46.830472",
     "status": "completed"
    },
    "tags": []
   },
   "outputs": [
    {
     "data": {
      "text/plain": [
       "0    11\n",
       "1    24\n",
       "2    22\n",
       "3    34\n",
       "4    20\n",
       "Name: reviewWC, dtype: int64"
      ]
     },
     "execution_count": 50,
     "metadata": {},
     "output_type": "execute_result"
    }
   ],
   "source": [
    "merged[\"reviewWC\"].head()"
   ]
  },
  {
   "cell_type": "code",
   "execution_count": 51,
   "id": "f625c520",
   "metadata": {
    "execution": {
     "iopub.execute_input": "2023-08-12T19:05:47.150468Z",
     "iopub.status.busy": "2023-08-12T19:05:47.149739Z",
     "iopub.status.idle": "2023-08-12T19:05:47.165640Z",
     "shell.execute_reply": "2023-08-12T19:05:47.164530Z"
    },
    "papermill": {
     "duration": 0.121115,
     "end_time": "2023-08-12T19:05:47.168718",
     "exception": false,
     "start_time": "2023-08-12T19:05:47.047603",
     "status": "completed"
    },
    "tags": []
   },
   "outputs": [
    {
     "data": {
      "text/plain": [
       "count    162758.000000\n",
       "mean         21.013707\n",
       "std          10.216532\n",
       "min           1.000000\n",
       "25%          14.000000\n",
       "50%          21.000000\n",
       "75%          28.000000\n",
       "max          54.000000\n",
       "Name: reviewWC, dtype: float64"
      ]
     },
     "execution_count": 51,
     "metadata": {},
     "output_type": "execute_result"
    }
   ],
   "source": [
    "merged[\"reviewWC\"].describe()"
   ]
  },
  {
   "cell_type": "code",
   "execution_count": 52,
   "id": "c4c41555",
   "metadata": {
    "execution": {
     "iopub.execute_input": "2023-08-12T19:05:47.372018Z",
     "iopub.status.busy": "2023-08-12T19:05:47.371527Z",
     "iopub.status.idle": "2023-08-12T19:05:48.066163Z",
     "shell.execute_reply": "2023-08-12T19:05:48.065313Z"
    },
    "papermill": {
     "duration": 0.79806,
     "end_time": "2023-08-12T19:05:48.068222",
     "exception": false,
     "start_time": "2023-08-12T19:05:47.270162",
     "status": "completed"
    },
    "tags": []
   },
   "outputs": [
    {
     "data": {
      "text/plain": [
       "<Axes: xlabel='reviewWC', ylabel='Count'>"
      ]
     },
     "execution_count": 52,
     "metadata": {},
     "output_type": "execute_result"
    },
    {
     "data": {
      "image/png": "[encoded data removed]",
      "text/plain": [
       "<Figure size 640x480 with 1 Axes>"
      ]
     },
     "metadata": {},
     "output_type": "display_data"
    }
   ],
   "source": [
    "sns.histplot(merged[\"reviewWC\"])"
   ]
  },
  {
   "cell_type": "code",
   "execution_count": 53,
   "id": "0e1f055c",
   "metadata": {
    "execution": {
     "iopub.execute_input": "2023-08-12T19:05:48.271192Z",
     "iopub.status.busy": "2023-08-12T19:05:48.270403Z",
     "iopub.status.idle": "2023-08-12T19:05:48.302148Z",
     "shell.execute_reply": "2023-08-12T19:05:48.301337Z"
    },
    "papermill": {
     "duration": 0.137141,
     "end_time": "2023-08-12T19:05:48.304644",
     "exception": false,
     "start_time": "2023-08-12T19:05:48.167503",
     "status": "completed"
    },
    "tags": []
   },
   "outputs": [
    {
     "data": {
      "text/plain": [
       "R          60248\n",
       "unknown    44587\n",
       "PG-13      42697\n",
       "PG         13669\n",
       "TV14         947\n",
       "NC-17        285\n",
       "TVPG         281\n",
       "TVMA          44\n",
       "Name: rating, dtype: int64"
      ]
     },
     "execution_count": 53,
     "metadata": {},
     "output_type": "execute_result"
    }
   ],
   "source": [
    "merged['rating'].value_counts()"
   ]
  },
  {
   "cell_type": "code",
   "execution_count": 54,
   "id": "8885d7fd",
   "metadata": {
    "execution": {
     "iopub.execute_input": "2023-08-12T19:05:48.511650Z",
     "iopub.status.busy": "2023-08-12T19:05:48.510705Z",
     "iopub.status.idle": "2023-08-12T19:05:48.520103Z",
     "shell.execute_reply": "2023-08-12T19:05:48.519326Z"
    },
    "papermill": {
     "duration": 0.115499,
     "end_time": "2023-08-12T19:05:48.522535",
     "exception": false,
     "start_time": "2023-08-12T19:05:48.407036",
     "status": "completed"
    },
    "tags": []
   },
   "outputs": [
    {
     "data": {
      "text/plain": [
       "False    113189\n",
       "True      49569\n",
       "Name: isFrequentReviewer, dtype: int64"
      ]
     },
     "execution_count": 54,
     "metadata": {},
     "output_type": "execute_result"
    }
   ],
   "source": [
    "merged['isFrequentReviewer'].value_counts()"
   ]
  },
  {
   "cell_type": "code",
   "execution_count": 55,
   "id": "6ae58560",
   "metadata": {
    "execution": {
     "iopub.execute_input": "2023-08-12T19:05:48.733434Z",
     "iopub.status.busy": "2023-08-12T19:05:48.732836Z",
     "iopub.status.idle": "2023-08-12T19:05:48.739640Z",
     "shell.execute_reply": "2023-08-12T19:05:48.738904Z"
    },
    "papermill": {
     "duration": 0.112617,
     "end_time": "2023-08-12T19:05:48.741836",
     "exception": false,
     "start_time": "2023-08-12T19:05:48.629219",
     "status": "completed"
    },
    "tags": []
   },
   "outputs": [
    {
     "data": {
      "text/plain": [
       "0      Benjamin Henry\n",
       "1       Felicia Lopez\n",
       "2     Charles Burgess\n",
       "3        Ryan Barrett\n",
       "4    Alexander Glover\n",
       "Name: reviewerName, dtype: object"
      ]
     },
     "execution_count": 55,
     "metadata": {},
     "output_type": "execute_result"
    }
   ],
   "source": [
    "merged[\"reviewerName\"].head()"
   ]
  },
  {
   "cell_type": "code",
   "execution_count": 56,
   "id": "ffb051c3",
   "metadata": {
    "execution": {
     "iopub.execute_input": "2023-08-12T19:05:48.971548Z",
     "iopub.status.busy": "2023-08-12T19:05:48.970351Z",
     "iopub.status.idle": "2023-08-12T19:05:48.984613Z",
     "shell.execute_reply": "2023-08-12T19:05:48.983240Z"
    },
    "papermill": {
     "duration": 0.125045,
     "end_time": "2023-08-12T19:05:48.986989",
     "exception": false,
     "start_time": "2023-08-12T19:05:48.861944",
     "status": "completed"
    },
    "tags": []
   },
   "outputs": [
    {
     "data": {
      "text/plain": [
       "14300000.0    32327\n",
       "2000000.0       922\n",
       "1100000.0       891\n",
       "1000000.0       834\n",
       "1200000.0       802\n",
       "              ...  \n",
       "58500.0           1\n",
       "500800.0          1\n",
       "265600.0          1\n",
       "292500.0          1\n",
       "799400.0          1\n",
       "Name: boxOffice, Length: 3819, dtype: int64"
      ]
     },
     "execution_count": 56,
     "metadata": {},
     "output_type": "execute_result"
    }
   ],
   "source": [
    "merged['boxOffice'].value_counts()"
   ]
  },
  {
   "cell_type": "code",
   "execution_count": 57,
   "id": "948b0663",
   "metadata": {
    "execution": {
     "iopub.execute_input": "2023-08-12T19:05:49.196306Z",
     "iopub.status.busy": "2023-08-12T19:05:49.195545Z",
     "iopub.status.idle": "2023-08-12T19:05:49.200571Z",
     "shell.execute_reply": "2023-08-12T19:05:49.199851Z"
    },
    "papermill": {
     "duration": 0.109169,
     "end_time": "2023-08-12T19:05:49.202975",
     "exception": false,
     "start_time": "2023-08-12T19:05:49.093806",
     "status": "completed"
    },
    "tags": []
   },
   "outputs": [],
   "source": [
    "# Check correlation between 'boxOffice' and ''sentiment'\n",
    "# bo_df = merged.copy()\n",
    "# print(bo_df[\"boxOffice\"])\n",
    "# bo_df[\"boxOffice\"] = bo_df[\"boxOffice\"].str[1:]\n",
    "# bo_df[\"boxOffice\"] = bo_df[\"boxOffice\"].replace(to_replace={\"M\": \"*1000000\", \"K\": \"*1000\"}, regex=True)\n",
    "# bo_df[\"boxOffice\"] = bo_df[\"boxOffice\"].loc[bo_df[\"boxOffice\"].notnull()].apply(lambda x: eval(str(x)))\n",
    "# bo_df[\"boxOffice\"] = bo_df[\"boxOffice\"].fillna(bo_df[\"boxOffice\"].median())\n",
    "# bo_df[\"boxOffice\"].describe()"
   ]
  },
  {
   "cell_type": "code",
   "execution_count": 58,
   "id": "8eb4d86a",
   "metadata": {
    "execution": {
     "iopub.execute_input": "2023-08-12T19:05:49.409059Z",
     "iopub.status.busy": "2023-08-12T19:05:49.408640Z",
     "iopub.status.idle": "2023-08-12T19:05:49.412990Z",
     "shell.execute_reply": "2023-08-12T19:05:49.411987Z"
    },
    "papermill": {
     "duration": 0.110457,
     "end_time": "2023-08-12T19:05:49.415224",
     "exception": false,
     "start_time": "2023-08-12T19:05:49.304767",
     "status": "completed"
    },
    "tags": []
   },
   "outputs": [],
   "source": [
    "# median = bo_df[\"boxOffice\"].describe()['50%']\n",
    "# iqr = bo_df[\"boxOffice\"].describe()['75%'] - bo_df[\"boxOffice\"].describe()['25%']\n",
    "# median, iqr"
   ]
  },
  {
   "cell_type": "code",
   "execution_count": 59,
   "id": "47a18013",
   "metadata": {
    "execution": {
     "iopub.execute_input": "2023-08-12T19:05:49.621137Z",
     "iopub.status.busy": "2023-08-12T19:05:49.620461Z",
     "iopub.status.idle": "2023-08-12T19:05:49.624954Z",
     "shell.execute_reply": "2023-08-12T19:05:49.623960Z"
    },
    "papermill": {
     "duration": 0.109074,
     "end_time": "2023-08-12T19:05:49.627192",
     "exception": false,
     "start_time": "2023-08-12T19:05:49.518118",
     "status": "completed"
    },
    "tags": []
   },
   "outputs": [],
   "source": [
    "# ll = median - (1.5*iqr)\n",
    "# ul = median + (1.5*iqr)\n",
    "# ll, ul"
   ]
  },
  {
   "cell_type": "code",
   "execution_count": 60,
   "id": "9a48d307",
   "metadata": {
    "execution": {
     "iopub.execute_input": "2023-08-12T19:05:49.836060Z",
     "iopub.status.busy": "2023-08-12T19:05:49.835639Z",
     "iopub.status.idle": "2023-08-12T19:05:49.840403Z",
     "shell.execute_reply": "2023-08-12T19:05:49.839317Z"
    },
    "papermill": {
     "duration": 0.110286,
     "end_time": "2023-08-12T19:05:49.842811",
     "exception": false,
     "start_time": "2023-08-12T19:05:49.732525",
     "status": "completed"
    },
    "tags": []
   },
   "outputs": [],
   "source": [
    "# bo_df[\"boxOffice\"].mean()"
   ]
  },
  {
   "cell_type": "code",
   "execution_count": 61,
   "id": "0a191052",
   "metadata": {
    "execution": {
     "iopub.execute_input": "2023-08-12T19:05:50.051048Z",
     "iopub.status.busy": "2023-08-12T19:05:50.050626Z",
     "iopub.status.idle": "2023-08-12T19:05:50.055154Z",
     "shell.execute_reply": "2023-08-12T19:05:50.054022Z"
    },
    "papermill": {
     "duration": 0.111744,
     "end_time": "2023-08-12T19:05:50.057578",
     "exception": false,
     "start_time": "2023-08-12T19:05:49.945834",
     "status": "completed"
    },
    "tags": []
   },
   "outputs": [],
   "source": [
    "# bo_df.loc[bo_df[\"boxOffice\"] > ul, \"boxOffice\"] = median\n",
    "# bo_df[\"boxOffice\"].mean()"
   ]
  },
  {
   "cell_type": "code",
   "execution_count": 62,
   "id": "0b703e8f",
   "metadata": {
    "execution": {
     "iopub.execute_input": "2023-08-12T19:05:50.265712Z",
     "iopub.status.busy": "2023-08-12T19:05:50.265246Z",
     "iopub.status.idle": "2023-08-12T19:05:50.269824Z",
     "shell.execute_reply": "2023-08-12T19:05:50.268740Z"
    },
    "papermill": {
     "duration": 0.112148,
     "end_time": "2023-08-12T19:05:50.272248",
     "exception": false,
     "start_time": "2023-08-12T19:05:50.160100",
     "status": "completed"
    },
    "tags": []
   },
   "outputs": [],
   "source": [
    "# bo_df[\"boxOffice\"].min(), bo_df[\"boxOffice\"].max()"
   ]
  },
  {
   "cell_type": "code",
   "execution_count": 63,
   "id": "37084543",
   "metadata": {
    "execution": {
     "iopub.execute_input": "2023-08-12T19:05:50.486526Z",
     "iopub.status.busy": "2023-08-12T19:05:50.486097Z",
     "iopub.status.idle": "2023-08-12T19:05:50.490772Z",
     "shell.execute_reply": "2023-08-12T19:05:50.489693Z"
    },
    "papermill": {
     "duration": 0.115177,
     "end_time": "2023-08-12T19:05:50.493083",
     "exception": false,
     "start_time": "2023-08-12T19:05:50.377906",
     "status": "completed"
    },
    "tags": []
   },
   "outputs": [],
   "source": [
    "# sns.boxplot(x=\"sentiment\", y=\"boxOffice\", data=bo_df, showfliers = False)"
   ]
  },
  {
   "cell_type": "markdown",
   "id": "aa469140",
   "metadata": {
    "papermill": {
     "duration": 0.100957,
     "end_time": "2023-08-12T19:05:50.696936",
     "exception": false,
     "start_time": "2023-08-12T19:05:50.595979",
     "status": "completed"
    },
    "tags": []
   },
   "source": [
    "## EDA  "
   ]
  },
  {
   "cell_type": "markdown",
   "id": "81d3d0df",
   "metadata": {
    "papermill": {
     "duration": 0.10037,
     "end_time": "2023-08-12T19:05:50.898545",
     "exception": false,
     "start_time": "2023-08-12T19:05:50.798175",
     "status": "completed"
    },
    "tags": []
   },
   "source": [
    "### An interesting finding through exploration  \n",
    "  \n",
    "* OHE and TfidfVectorizer on director column give the same result when ngram_range(2,2) is used (see code below)!"
   ]
  },
  {
   "cell_type": "code",
   "execution_count": 64,
   "id": "692494f1",
   "metadata": {
    "execution": {
     "iopub.execute_input": "2023-08-12T19:05:51.107561Z",
     "iopub.status.busy": "2023-08-12T19:05:51.107180Z",
     "iopub.status.idle": "2023-08-12T19:06:05.007421Z",
     "shell.execute_reply": "2023-08-12T19:06:05.005803Z"
    },
    "papermill": {
     "duration": 14.008943,
     "end_time": "2023-08-12T19:06:05.011319",
     "exception": false,
     "start_time": "2023-08-12T19:05:51.002376",
     "status": "completed"
    },
    "tags": []
   },
   "outputs": [
    {
     "name": "stdout",
     "output_type": "stream",
     "text": [
      "(162758,)\n",
      "9476\n",
      "(162758, 9476) <class 'numpy.ndarray'>\n",
      "(162758,)\n",
      "(162758, 9476) <class 'numpy.ndarray'>\n",
      "True\n"
     ]
    }
   ],
   "source": [
    "# Compare OHE and TfidfVectorizer on director column\n",
    "\n",
    "dirs = merged[\"director\"].copy()\n",
    "print(dirs.shape)\n",
    "dirs_uniq = merged[\"director\"].unique()\n",
    "print(len(dirs_uniq))\n",
    "\n",
    "du_ohe = OneHotEncoder(handle_unknown=\"ignore\", sparse_output=False).fit_transform(dirs.to_numpy().reshape(-1, 1))\n",
    "print(du_ohe.shape, type(du_ohe))\n",
    "\n",
    "dirs_2 = merged[\"director\"].copy()\n",
    "print(dirs_2.shape)\n",
    "du_tfidf = TfidfVectorizer(ngram_range=(2,2)).fit_transform(dirs_2).toarray()\n",
    "print(du_tfidf.shape, type(du_tfidf))\n",
    "\n",
    "print(np.array_equal(du_ohe, du_tfidf))"
   ]
  },
  {
   "cell_type": "code",
   "execution_count": 65,
   "id": "1e1ef941",
   "metadata": {
    "execution": {
     "iopub.execute_input": "2023-08-12T19:06:05.215602Z",
     "iopub.status.busy": "2023-08-12T19:06:05.215144Z",
     "iopub.status.idle": "2023-08-12T19:06:05.586564Z",
     "shell.execute_reply": "2023-08-12T19:06:05.585461Z"
    },
    "papermill": {
     "duration": 0.476594,
     "end_time": "2023-08-12T19:06:05.588912",
     "exception": false,
     "start_time": "2023-08-12T19:06:05.112318",
     "status": "completed"
    },
    "tags": []
   },
   "outputs": [
    {
     "name": "stdout",
     "output_type": "stream",
     "text": [
      "0       Bennie Basso\n",
      "1         Alma White\n",
      "2       Bobby Oleary\n",
      "3    Eric Hutcherson\n",
      "4         John Trent\n",
      "Name: director, dtype: object\n"
     ]
    },
    {
     "data": {
      "text/plain": [
       "2    162758\n",
       "Name: director, dtype: int64"
      ]
     },
     "execution_count": 65,
     "metadata": {},
     "output_type": "execute_result"
    }
   ],
   "source": [
    "print(dirs.head())\n",
    "d = dirs.copy()\n",
    "d[\"name_len\"] = d.apply(lambda x: len(x.split()))\n",
    "d[\"name_len\"].value_counts()"
   ]
  },
  {
   "cell_type": "code",
   "execution_count": 66,
   "id": "13aeb9dc",
   "metadata": {
    "execution": {
     "iopub.execute_input": "2023-08-12T19:06:05.796048Z",
     "iopub.status.busy": "2023-08-12T19:06:05.795620Z",
     "iopub.status.idle": "2023-08-12T19:06:05.801492Z",
     "shell.execute_reply": "2023-08-12T19:06:05.800461Z"
    },
    "papermill": {
     "duration": 0.113004,
     "end_time": "2023-08-12T19:06:05.803740",
     "exception": false,
     "start_time": "2023-08-12T19:06:05.690736",
     "status": "completed"
    },
    "tags": []
   },
   "outputs": [],
   "source": [
    "# Compare OHE and TfidfVectorizer on reviewerName column\n",
    "# Note: reviewerName column has salutations like \"Mr. \" etc, and some names appear middle names. Therefore needs cleaning\n",
    "\n",
    "# def name_fl(name):\n",
    "#     l = name.split()\n",
    "#     n = ' '.join((l[0], l[-1]))\n",
    "#     return n\n",
    "\n",
    "# reviewers = merged[\"reviewerName\"].copy()\n",
    "# reviewers = pd.DataFrame(reviewers)\n",
    "# reviewers = reviewers.replace({\"Mr. \": \"\", \"Mrs. \": \"\"}, regex=True)\n",
    "# reviewers[\"reviewerName\"] = reviewers[\"reviewerName\"].apply(name_fl)\n",
    "# print(reviewers.shape)\n",
    "\n",
    "# reviewers_uniq = merged[\"reviewerName\"].unique()\n",
    "# print(len(reviewers_uniq))\n",
    "\n",
    "# reviewers_ohe = OneHotEncoder(handle_unknown=\"ignore\", sparse_output=False).fit_transform(reviewers.to_numpy().reshape(-1, 1))\n",
    "# print(reviewers_ohe.shape, type(reviewers_ohe))\n",
    "\n",
    "# reviewers_2 = merged[\"reviewerName\"].copy()\n",
    "# reviewers_2 = pd.DataFrame(reviewers_2)\n",
    "# print(reviewers_2.head())\n",
    "# reviewers_2 = reviewers_2.replace({\"Mr. \": \"\", \"Mrs. \": \"\"}, regex=True)\n",
    "# reviewers_2[\"reviewerName\"] = reviewers_2[\"reviewerName\"].apply(name_fl)\n",
    "# reviewers_2 = reviewers_2.squeeze()\n",
    "# print(reviewers_2.shape)\n",
    "# print(reviewers_2.head())\n",
    "\n",
    "# reviewers_tfidf = TfidfVectorizer(ngram_range=(2,2)).fit_transform(reviewers_2).toarray()\n",
    "# print(reviewers_tfidf.shape, type(reviewers_tfidf))\n",
    "\n",
    "# print(np.array_equal(reviewers_ohe, reviewers_tfidf))"
   ]
  },
  {
   "cell_type": "code",
   "execution_count": 67,
   "id": "6625c8fc",
   "metadata": {
    "execution": {
     "iopub.execute_input": "2023-08-12T19:06:06.013787Z",
     "iopub.status.busy": "2023-08-12T19:06:06.013356Z",
     "iopub.status.idle": "2023-08-12T19:06:06.018357Z",
     "shell.execute_reply": "2023-08-12T19:06:06.017278Z"
    },
    "papermill": {
     "duration": 0.115103,
     "end_time": "2023-08-12T19:06:06.020754",
     "exception": false,
     "start_time": "2023-08-12T19:06:05.905651",
     "status": "completed"
    },
    "tags": []
   },
   "outputs": [],
   "source": [
    "# def name_fl(name):\n",
    "#     l = name.split()\n",
    "#     n = ' '.join((l[0], l[-1]))\n",
    "#     return n"
   ]
  },
  {
   "cell_type": "code",
   "execution_count": 68,
   "id": "fa817a10",
   "metadata": {
    "execution": {
     "iopub.execute_input": "2023-08-12T19:06:06.231364Z",
     "iopub.status.busy": "2023-08-12T19:06:06.230912Z",
     "iopub.status.idle": "2023-08-12T19:06:06.235617Z",
     "shell.execute_reply": "2023-08-12T19:06:06.234614Z"
    },
    "papermill": {
     "duration": 0.112861,
     "end_time": "2023-08-12T19:06:06.237867",
     "exception": false,
     "start_time": "2023-08-12T19:06:06.125006",
     "status": "completed"
    },
    "tags": []
   },
   "outputs": [],
   "source": [
    "# print(reviewers.head())\n",
    "# r = pd.DataFrame(reviewers.copy())\n",
    "# r[\"reviewerName\"] = r[\"reviewerName\"].apply(name_fl)\n",
    "# r[\"name_len\"] = r[\"reviewerName\"].apply(lambda x: len(x.split()))\n",
    "# print(r.shape)\n",
    "# print(r.head())\n",
    "# print(r['name_len'].value_counts())"
   ]
  },
  {
   "cell_type": "code",
   "execution_count": 69,
   "id": "f3a2c4d2",
   "metadata": {
    "execution": {
     "iopub.execute_input": "2023-08-12T19:06:06.445676Z",
     "iopub.status.busy": "2023-08-12T19:06:06.445303Z",
     "iopub.status.idle": "2023-08-12T19:06:06.449563Z",
     "shell.execute_reply": "2023-08-12T19:06:06.448547Z"
    },
    "papermill": {
     "duration": 0.109989,
     "end_time": "2023-08-12T19:06:06.451571",
     "exception": false,
     "start_time": "2023-08-12T19:06:06.341582",
     "status": "completed"
    },
    "tags": []
   },
   "outputs": [],
   "source": [
    "## Box plot audienceScore and sentiment  \n",
    "# plt.figure(figsize=(6, 4))\n",
    "# sns.boxplot(x=\"sentiment\", y=\"audienceScore\", data=merged, width=0.3)\n",
    "# plt.title(\"Box plot audienceScore and sentiment\")\n",
    "# plt.show()"
   ]
  },
  {
   "cell_type": "code",
   "execution_count": 70,
   "id": "851d2e56",
   "metadata": {
    "execution": {
     "iopub.execute_input": "2023-08-12T19:06:06.660313Z",
     "iopub.status.busy": "2023-08-12T19:06:06.659896Z",
     "iopub.status.idle": "2023-08-12T19:06:06.665026Z",
     "shell.execute_reply": "2023-08-12T19:06:06.663756Z"
    },
    "papermill": {
     "duration": 0.11235,
     "end_time": "2023-08-12T19:06:06.667407",
     "exception": false,
     "start_time": "2023-08-12T19:06:06.555057",
     "status": "completed"
    },
    "tags": []
   },
   "outputs": [],
   "source": [
    "## Box plot runtimeMinutes and sentiment  \n",
    "# plt.figure(figsize=(6, 4))\n",
    "# sns.boxplot(x=\"sentiment\", y=\"runtimeMinutes\", data=merged, width=0.3)\n",
    "# plt.title(\"Box plot runtimeMinutes and sentiment\")\n",
    "# plt.show()"
   ]
  },
  {
   "cell_type": "code",
   "execution_count": 71,
   "id": "26687f85",
   "metadata": {
    "execution": {
     "iopub.execute_input": "2023-08-12T19:06:06.873846Z",
     "iopub.status.busy": "2023-08-12T19:06:06.873419Z",
     "iopub.status.idle": "2023-08-12T19:06:06.877761Z",
     "shell.execute_reply": "2023-08-12T19:06:06.877003Z"
    },
    "papermill": {
     "duration": 0.110216,
     "end_time": "2023-08-12T19:06:06.879749",
     "exception": false,
     "start_time": "2023-08-12T19:06:06.769533",
     "status": "completed"
    },
    "tags": []
   },
   "outputs": [],
   "source": [
    "## Column chart for sentiment and rating columns\n",
    "# plt.figure(figsize=(6, 4))\n",
    "# sns.countplot(x=\"sentiment\", hue=\"rating\", data=merged)\n",
    "# plt.title(\"Column chart for sentiment and rating columns\")\n",
    "# plt.show()"
   ]
  },
  {
   "cell_type": "code",
   "execution_count": 72,
   "id": "dbef3205",
   "metadata": {
    "execution": {
     "iopub.execute_input": "2023-08-12T19:06:07.183186Z",
     "iopub.status.busy": "2023-08-12T19:06:07.182769Z",
     "iopub.status.idle": "2023-08-12T19:06:07.187202Z",
     "shell.execute_reply": "2023-08-12T19:06:07.186199Z"
    },
    "papermill": {
     "duration": 0.207809,
     "end_time": "2023-08-12T19:06:07.189472",
     "exception": false,
     "start_time": "2023-08-12T19:06:06.981663",
     "status": "completed"
    },
    "tags": []
   },
   "outputs": [],
   "source": [
    "# Correlation heatmap  \n",
    "# plt.figure(figsize=(10, 8))\n",
    "# sns.heatmap(merged.corr(), annot=True, cmap=\"coolwarm\")\n",
    "# plt.title(\"Correlation heatmap\")\n",
    "# plt.show()"
   ]
  },
  {
   "cell_type": "markdown",
   "id": "477b7afc",
   "metadata": {
    "papermill": {
     "duration": 0.103356,
     "end_time": "2023-08-12T19:06:07.394530",
     "exception": false,
     "start_time": "2023-08-12T19:06:07.291174",
     "status": "completed"
    },
    "tags": []
   },
   "source": [
    "## Merge and preprocess \"test.csv\" and \"movies.csv\" files  "
   ]
  },
  {
   "cell_type": "code",
   "execution_count": 73,
   "id": "03807d29",
   "metadata": {
    "execution": {
     "iopub.execute_input": "2023-08-12T19:06:07.601001Z",
     "iopub.status.busy": "2023-08-12T19:06:07.600224Z",
     "iopub.status.idle": "2023-08-12T19:06:13.987918Z",
     "shell.execute_reply": "2023-08-12T19:06:13.986572Z"
    },
    "papermill": {
     "duration": 6.493976,
     "end_time": "2023-08-12T19:06:13.991006",
     "exception": false,
     "start_time": "2023-08-12T19:06:07.497030",
     "status": "completed"
    },
    "tags": []
   },
   "outputs": [],
   "source": [
    "# Merge test and movies  \n",
    "merged_test = select_features(load_csv(\"test\"), load_csv(\"movies\"))"
   ]
  },
  {
   "cell_type": "code",
   "execution_count": 74,
   "id": "1b675d13",
   "metadata": {
    "execution": {
     "iopub.execute_input": "2023-08-12T19:06:14.201206Z",
     "iopub.status.busy": "2023-08-12T19:06:14.200713Z",
     "iopub.status.idle": "2023-08-12T19:06:14.206320Z",
     "shell.execute_reply": "2023-08-12T19:06:14.204890Z"
    },
    "papermill": {
     "duration": 0.111363,
     "end_time": "2023-08-12T19:06:14.209167",
     "exception": false,
     "start_time": "2023-08-12T19:06:14.097804",
     "status": "completed"
    },
    "tags": []
   },
   "outputs": [],
   "source": [
    "# inspect(merged_test)      # Note the missing values in ['audienceScore', 'runtimeMinutes', 'boxOffice']"
   ]
  },
  {
   "cell_type": "code",
   "execution_count": 75,
   "id": "6b8629cf",
   "metadata": {
    "execution": {
     "iopub.execute_input": "2023-08-12T19:06:14.416824Z",
     "iopub.status.busy": "2023-08-12T19:06:14.416113Z",
     "iopub.status.idle": "2023-08-12T19:06:14.432078Z",
     "shell.execute_reply": "2023-08-12T19:06:14.431360Z"
    },
    "papermill": {
     "duration": 0.122505,
     "end_time": "2023-08-12T19:06:14.434138",
     "exception": false,
     "start_time": "2023-08-12T19:06:14.311633",
     "status": "completed"
    },
    "tags": []
   },
   "outputs": [
    {
     "data": {
      "text/plain": [
       "array([6.80e+01, 1.04e+02, 1.43e+07])"
      ]
     },
     "execution_count": 75,
     "metadata": {},
     "output_type": "execute_result"
    }
   ],
   "source": [
    "# Transform ['audienceScore', 'runtimeMinutes', 'boxOffice'] columns in merged_test using 'si' fitted on 'merged' df  \n",
    "merged_test[['audienceScore', 'runtimeMinutes', 'boxOffice']] = si.transform(merged_test[['audienceScore', 'runtimeMinutes', 'boxOffice']])\n",
    "si.statistics_"
   ]
  },
  {
   "cell_type": "code",
   "execution_count": 76,
   "id": "74246873",
   "metadata": {
    "execution": {
     "iopub.execute_input": "2023-08-12T19:06:14.660952Z",
     "iopub.status.busy": "2023-08-12T19:06:14.660055Z",
     "iopub.status.idle": "2023-08-12T19:06:14.672493Z",
     "shell.execute_reply": "2023-08-12T19:06:14.671568Z"
    },
    "papermill": {
     "duration": 0.134068,
     "end_time": "2023-08-12T19:06:14.675222",
     "exception": false,
     "start_time": "2023-08-12T19:06:14.541154",
     "status": "completed"
    },
    "tags": []
   },
   "outputs": [],
   "source": [
    "# Fill 'releaseDate' column in 'merged_test' df with median from the train (merged) df  \n",
    "merged_test['releaseDate'] = merged_test[\"releaseDate\"].fillna(merged[\"releaseDate\"].median())"
   ]
  },
  {
   "cell_type": "code",
   "execution_count": 77,
   "id": "aa22f713",
   "metadata": {
    "execution": {
     "iopub.execute_input": "2023-08-12T19:06:14.889038Z",
     "iopub.status.busy": "2023-08-12T19:06:14.888666Z",
     "iopub.status.idle": "2023-08-12T19:06:15.416002Z",
     "shell.execute_reply": "2023-08-12T19:06:15.413892Z"
    },
    "papermill": {
     "duration": 0.635272,
     "end_time": "2023-08-12T19:06:15.418765",
     "exception": false,
     "start_time": "2023-08-12T19:06:14.783493",
     "status": "completed"
    },
    "tags": []
   },
   "outputs": [
    {
     "name": "stdout",
     "output_type": "stream",
     "text": [
      "Shape of the dataframe: (55315, 25)\n",
      "\n",
      "Columns in the dataframe:\n",
      "Index(['movieid', 'reviewerName', 'isFrequentReviewer', 'reviewText', 'title',\n",
      "       'audienceScore', 'rating', 'ratingContents', 'releaseDateTheaters',\n",
      "       'releaseDateStreaming', 'runtimeMinutes', 'genre', 'originalLanguage',\n",
      "       'director', 'boxOffice', 'distributor', 'soundType', 'reviewYN',\n",
      "       'reviewWC', 'genreSorted', 'rcSorted', 'releaseDate', 'releaseYear',\n",
      "       'releaseMonth', 'releaseDiff'],\n",
      "      dtype='object')\n",
      "\n",
      "<class 'pandas.core.frame.DataFrame'>\n",
      "Int64Index: 55315 entries, 0 to 55314\n",
      "Data columns (total 25 columns):\n",
      " #   Column                Non-Null Count  Dtype         \n",
      "---  ------                --------------  -----         \n",
      " 0   movieid               55315 non-null  object        \n",
      " 1   reviewerName          55315 non-null  object        \n",
      " 2   isFrequentReviewer    55315 non-null  bool          \n",
      " 3   reviewText            55315 non-null  object        \n",
      " 4   title                 55315 non-null  object        \n",
      " 5   audienceScore         55315 non-null  float64       \n",
      " 6   rating                55315 non-null  object        \n",
      " 7   ratingContents        55315 non-null  object        \n",
      " 8   releaseDateTheaters   47844 non-null  datetime64[ns]\n",
      " 9   releaseDateStreaming  52929 non-null  datetime64[ns]\n",
      " 10  runtimeMinutes        55315 non-null  float64       \n",
      " 11  genre                 55315 non-null  object        \n",
      " 12  originalLanguage      55315 non-null  object        \n",
      " 13  director              55315 non-null  object        \n",
      " 14  boxOffice             55315 non-null  float64       \n",
      " 15  distributor           55315 non-null  object        \n",
      " 16  soundType             29845 non-null  object        \n",
      " 17  reviewYN              55315 non-null  int64         \n",
      " 18  reviewWC              55315 non-null  int64         \n",
      " 19  genreSorted           55315 non-null  object        \n",
      " 20  rcSorted              55315 non-null  object        \n",
      " 21  releaseDate           55315 non-null  datetime64[ns]\n",
      " 22  releaseYear           46626 non-null  float64       \n",
      " 23  releaseMonth          46626 non-null  float64       \n",
      " 24  releaseDiff           55315 non-null  float64       \n",
      "dtypes: bool(1), datetime64[ns](3), float64(6), int64(2), object(13)\n",
      "memory usage: 10.6+ MB\n",
      "None\n",
      "\n",
      "Missing values:\n",
      "movieid                     0\n",
      "reviewerName                0\n",
      "isFrequentReviewer          0\n",
      "reviewText                  0\n",
      "title                       0\n",
      "audienceScore               0\n",
      "rating                      0\n",
      "ratingContents              0\n",
      "releaseDateTheaters      7471\n",
      "releaseDateStreaming     2386\n",
      "runtimeMinutes              0\n",
      "genre                       0\n",
      "originalLanguage            0\n",
      "director                    0\n",
      "boxOffice                   0\n",
      "distributor                 0\n",
      "soundType               25470\n",
      "reviewYN                    0\n",
      "reviewWC                    0\n",
      "genreSorted                 0\n",
      "rcSorted                    0\n",
      "releaseDate                 0\n",
      "releaseYear              8689\n",
      "releaseMonth             8689\n",
      "releaseDiff                 0\n",
      "dtype: int64\n"
     ]
    }
   ],
   "source": [
    "# After transforming merged_test  \n",
    "inspect(merged_test)"
   ]
  },
  {
   "cell_type": "code",
   "execution_count": 78,
   "id": "c9f85ac1",
   "metadata": {
    "execution": {
     "iopub.execute_input": "2023-08-12T19:06:15.625224Z",
     "iopub.status.busy": "2023-08-12T19:06:15.624285Z",
     "iopub.status.idle": "2023-08-12T19:06:15.632765Z",
     "shell.execute_reply": "2023-08-12T19:06:15.631396Z"
    },
    "papermill": {
     "duration": 0.115387,
     "end_time": "2023-08-12T19:06:15.635221",
     "exception": false,
     "start_time": "2023-08-12T19:06:15.519834",
     "status": "completed"
    },
    "tags": []
   },
   "outputs": [
    {
     "name": "stdout",
     "output_type": "stream",
     "text": [
      "2510\n",
      "4.537648015908886\n"
     ]
    }
   ],
   "source": [
    "print(merged_test[\"reviewYN\"].sum())\n",
    "print(merged_test[\"reviewYN\"].sum() * 100 / merged_test.shape[0])"
   ]
  },
  {
   "cell_type": "code",
   "execution_count": 79,
   "id": "3088328c",
   "metadata": {
    "execution": {
     "iopub.execute_input": "2023-08-12T19:06:15.839830Z",
     "iopub.status.busy": "2023-08-12T19:06:15.838443Z",
     "iopub.status.idle": "2023-08-12T19:06:15.855780Z",
     "shell.execute_reply": "2023-08-12T19:06:15.854509Z"
    },
    "papermill": {
     "duration": 0.121359,
     "end_time": "2023-08-12T19:06:15.857892",
     "exception": false,
     "start_time": "2023-08-12T19:06:15.736533",
     "status": "completed"
    },
    "tags": []
   },
   "outputs": [
    {
     "data": {
      "text/plain": [
       "R          18934\n",
       "unknown    18386\n",
       "PG-13      13220\n",
       "PG          4200\n",
       "TV14         333\n",
       "TVPG         109\n",
       "NC-17        108\n",
       "TVMA          25\n",
       "Name: rating, dtype: int64"
      ]
     },
     "execution_count": 79,
     "metadata": {},
     "output_type": "execute_result"
    }
   ],
   "source": [
    "merged_test['rating'].value_counts()"
   ]
  },
  {
   "cell_type": "code",
   "execution_count": 80,
   "id": "f4544b9e",
   "metadata": {
    "execution": {
     "iopub.execute_input": "2023-08-12T19:06:16.070456Z",
     "iopub.status.busy": "2023-08-12T19:06:16.069659Z",
     "iopub.status.idle": "2023-08-12T19:06:16.079232Z",
     "shell.execute_reply": "2023-08-12T19:06:16.078142Z"
    },
    "papermill": {
     "duration": 0.11978,
     "end_time": "2023-08-12T19:06:16.081417",
     "exception": false,
     "start_time": "2023-08-12T19:06:15.961637",
     "status": "completed"
    },
    "tags": []
   },
   "outputs": [
    {
     "data": {
      "text/plain": [
       "False    38428\n",
       "True     16887\n",
       "Name: isFrequentReviewer, dtype: int64"
      ]
     },
     "execution_count": 80,
     "metadata": {},
     "output_type": "execute_result"
    }
   ],
   "source": [
    "merged_test['isFrequentReviewer'].value_counts()"
   ]
  },
  {
   "cell_type": "code",
   "execution_count": 81,
   "id": "d4839d99",
   "metadata": {
    "execution": {
     "iopub.execute_input": "2023-08-12T19:06:16.289435Z",
     "iopub.status.busy": "2023-08-12T19:06:16.288745Z",
     "iopub.status.idle": "2023-08-12T19:06:16.301175Z",
     "shell.execute_reply": "2023-08-12T19:06:16.299992Z"
    },
    "papermill": {
     "duration": 0.118855,
     "end_time": "2023-08-12T19:06:16.303450",
     "exception": false,
     "start_time": "2023-08-12T19:06:16.184595",
     "status": "completed"
    },
    "tags": []
   },
   "outputs": [
    {
     "data": {
      "text/plain": [
       "14300000.0    13593\n",
       "1100000.0       311\n",
       "1000000.0       272\n",
       "1300000.0       263\n",
       "2000000.0       256\n",
       "              ...  \n",
       "200400.0          1\n",
       "23800000.0        1\n",
       "111200.0          1\n",
       "277800.0          1\n",
       "100600.0          1\n",
       "Name: boxOffice, Length: 3816, dtype: int64"
      ]
     },
     "execution_count": 81,
     "metadata": {},
     "output_type": "execute_result"
    }
   ],
   "source": [
    "merged_test['boxOffice'].value_counts()"
   ]
  },
  {
   "cell_type": "markdown",
   "id": "280fdc9e",
   "metadata": {
    "papermill": {
     "duration": 0.103433,
     "end_time": "2023-08-12T19:06:16.511504",
     "exception": false,
     "start_time": "2023-08-12T19:06:16.408071",
     "status": "completed"
    },
    "tags": []
   },
   "source": [
    "## Work on vocabulary  \n",
    "\n",
    "`Build vocabulary from 'reviewText' column`  "
   ]
  },
  {
   "cell_type": "code",
   "execution_count": 82,
   "id": "8b5d1d6c",
   "metadata": {
    "execution": {
     "iopub.execute_input": "2023-08-12T19:06:16.724026Z",
     "iopub.status.busy": "2023-08-12T19:06:16.723279Z",
     "iopub.status.idle": "2023-08-12T19:06:16.747652Z",
     "shell.execute_reply": "2023-08-12T19:06:16.746434Z"
    },
    "papermill": {
     "duration": 0.132345,
     "end_time": "2023-08-12T19:06:16.750310",
     "exception": false,
     "start_time": "2023-08-12T19:06:16.617965",
     "status": "completed"
    },
    "tags": []
   },
   "outputs": [
    {
     "data": {
      "text/plain": [
       "((162758, 2),\n",
       "                                           reviewText sentiment\n",
       " 0  Henry Selick’s first movie since ’s Coraline. ...  POSITIVE\n",
       " 1  With a cast that reads like the Vogue Oscar pa...  NEGATIVE\n",
       " 2  Creed II does not give us anything but another...  POSITIVE\n",
       " 3  I know what you're thinking, but this is no Li...  POSITIVE\n",
       " 4  Director Fernando Meirelles tells the story wi...  POSITIVE)"
      ]
     },
     "execution_count": 82,
     "metadata": {},
     "output_type": "execute_result"
    }
   ],
   "source": [
    "rt_senti = merged[[\"reviewText\", \"sentiment\"]].copy()\n",
    "rt_senti.shape, rt_senti.head()"
   ]
  },
  {
   "cell_type": "code",
   "execution_count": 83,
   "id": "d679ed64",
   "metadata": {
    "execution": {
     "iopub.execute_input": "2023-08-12T19:06:16.958917Z",
     "iopub.status.busy": "2023-08-12T19:06:16.958195Z",
     "iopub.status.idle": "2023-08-12T19:06:16.969262Z",
     "shell.execute_reply": "2023-08-12T19:06:16.968397Z"
    },
    "papermill": {
     "duration": 0.118927,
     "end_time": "2023-08-12T19:06:16.971453",
     "exception": false,
     "start_time": "2023-08-12T19:06:16.852526",
     "status": "completed"
    },
    "tags": []
   },
   "outputs": [
    {
     "data": {
      "text/plain": [
       "((55315, 1),\n",
       "                                           reviewText\n",
       " 0  Green slowly cranks up the dread with style an...\n",
       " 1  Philip Noyce's direction is elegant and unforc...\n",
       " 2  It wouldn't do to say what path Maria ultimate...\n",
       " 3  Pig is not exactly the arthouse John Wick that...\n",
       " 4  An imaginative no-budget musical of sorts abou...)"
      ]
     },
     "execution_count": 83,
     "metadata": {},
     "output_type": "execute_result"
    }
   ],
   "source": [
    "rt_test = pd.DataFrame(merged_test[\"reviewText\"].copy())\n",
    "rt_test.shape, rt_test.head()"
   ]
  },
  {
   "cell_type": "code",
   "execution_count": 84,
   "id": "31b179ae",
   "metadata": {
    "execution": {
     "iopub.execute_input": "2023-08-12T19:06:17.183337Z",
     "iopub.status.busy": "2023-08-12T19:06:17.182917Z",
     "iopub.status.idle": "2023-08-12T19:06:17.189198Z",
     "shell.execute_reply": "2023-08-12T19:06:17.188031Z"
    },
    "papermill": {
     "duration": 0.114871,
     "end_time": "2023-08-12T19:06:17.191378",
     "exception": false,
     "start_time": "2023-08-12T19:06:17.076507",
     "status": "completed"
    },
    "tags": []
   },
   "outputs": [],
   "source": [
    "def get_vocab(text_df, ngram_range=(1,1)):\n",
    "    print(f\"Generating vocabulary for ngram_range: {ngram_range}...\")\n",
    "    tvec1 = CountVectorizer(ngram_range=ngram_range, stop_words='english', strip_accents='unicode')\n",
    "    tvec1.fit(text_df)\n",
    "    voc_ngram = set(tvec1.vocabulary_.keys())\n",
    "    return voc_ngram"
   ]
  },
  {
   "cell_type": "code",
   "execution_count": 85,
   "id": "2be55463",
   "metadata": {
    "execution": {
     "iopub.execute_input": "2023-08-12T19:06:17.402878Z",
     "iopub.status.busy": "2023-08-12T19:06:17.401800Z",
     "iopub.status.idle": "2023-08-12T19:06:17.411353Z",
     "shell.execute_reply": "2023-08-12T19:06:17.410543Z"
    },
    "papermill": {
     "duration": 0.117888,
     "end_time": "2023-08-12T19:06:17.413635",
     "exception": false,
     "start_time": "2023-08-12T19:06:17.295747",
     "status": "completed"
    },
    "tags": []
   },
   "outputs": [],
   "source": [
    "def get_common_vocab(df_list: list, ngram_range_list: list):\n",
    "    \"\"\"\n",
    "    Get common vocabulary from a list of dataframes.\n",
    "    \"\"\"\n",
    "    final_common_vocab = set()\n",
    "    # Get vocabulary from each dataframe for a given ngram-range\n",
    "    for ngram_range in ngram_range_list:\n",
    "        vocab_ngram = set()\n",
    "        for num, df in enumerate(df_list, start=1):\n",
    "            print(f\"Working on DF#{num} in the list of DFs provided\")\n",
    "            vocab_ngram_df = set(get_vocab(df['reviewText'], ngram_range))\n",
    "            print(f\"Vocabulary size for ngram-range {ngram_range} in DF#{num}: {len(vocab_ngram_df)}\\n\")\n",
    "            if len(vocab_ngram) > 0:\n",
    "                print(f\"Keeping only the common (intersection) words for ngram-range {ngram_range}...\")\n",
    "                vocab_ngram = vocab_ngram.intersection(vocab_ngram_df)\n",
    "            else:\n",
    "                print(f\"Words from the first df for ngram-range {ngram_range} added.\\n\")\n",
    "                vocab_ngram = vocab_ngram_df\n",
    "        print(f\"Common vocabulary for ngram-range {ngram_range}: {len(vocab_ngram)}\\n\")\n",
    "        \n",
    "        if len(final_common_vocab) > 0:\n",
    "            print(f\"Fusing (union) with final common vocabulary: ngram-range = {ngram_range}.\\n\")\n",
    "            final_common_vocab = final_common_vocab.union(vocab_ngram)\n",
    "        else:\n",
    "            print(f\"Appended first time to final common vocabulary: ngram-range = {ngram_range}.\\n\")\n",
    "            final_common_vocab = vocab_ngram\n",
    "    return final_common_vocab"
   ]
  },
  {
   "cell_type": "code",
   "execution_count": 86,
   "id": "3ba80b0a",
   "metadata": {
    "execution": {
     "iopub.execute_input": "2023-08-12T19:06:17.625259Z",
     "iopub.status.busy": "2023-08-12T19:06:17.624829Z",
     "iopub.status.idle": "2023-08-12T19:06:17.629519Z",
     "shell.execute_reply": "2023-08-12T19:06:17.628435Z"
    },
    "papermill": {
     "duration": 0.112962,
     "end_time": "2023-08-12T19:06:17.632123",
     "exception": false,
     "start_time": "2023-08-12T19:06:17.519161",
     "status": "completed"
    },
    "tags": []
   },
   "outputs": [],
   "source": [
    "# voc_1gram = get_vocab(rt_senti[\"reviewText\"], ngram_range=(1,1))\n",
    "# len(voc_1gram), voc_1gram[:10]"
   ]
  },
  {
   "cell_type": "code",
   "execution_count": 87,
   "id": "a7afeec3",
   "metadata": {
    "execution": {
     "iopub.execute_input": "2023-08-12T19:06:17.842088Z",
     "iopub.status.busy": "2023-08-12T19:06:17.841669Z",
     "iopub.status.idle": "2023-08-12T19:06:17.846480Z",
     "shell.execute_reply": "2023-08-12T19:06:17.845263Z"
    },
    "papermill": {
     "duration": 0.112642,
     "end_time": "2023-08-12T19:06:17.848889",
     "exception": false,
     "start_time": "2023-08-12T19:06:17.736247",
     "status": "completed"
    },
    "tags": []
   },
   "outputs": [],
   "source": [
    "# voc_2gram = get_vocab(rt_senti[\"reviewText\"], ngram_range=(2,2))\n",
    "# len(voc_2gram), voc_2gram[:10]"
   ]
  },
  {
   "cell_type": "code",
   "execution_count": 88,
   "id": "fb678c05",
   "metadata": {
    "execution": {
     "iopub.execute_input": "2023-08-12T19:06:18.059284Z",
     "iopub.status.busy": "2023-08-12T19:06:18.058897Z",
     "iopub.status.idle": "2023-08-12T19:06:18.064352Z",
     "shell.execute_reply": "2023-08-12T19:06:18.062656Z"
    },
    "papermill": {
     "duration": 0.115585,
     "end_time": "2023-08-12T19:06:18.068224",
     "exception": false,
     "start_time": "2023-08-12T19:06:17.952639",
     "status": "completed"
    },
    "tags": []
   },
   "outputs": [],
   "source": [
    "# voc_3gram = get_vocab(rt_senti[\"reviewText\"], ngram_range=(3,3))\n",
    "# len(voc_3gram), voc_3gram[:10]"
   ]
  },
  {
   "cell_type": "code",
   "execution_count": 89,
   "id": "a3d97530",
   "metadata": {
    "execution": {
     "iopub.execute_input": "2023-08-12T19:06:18.277156Z",
     "iopub.status.busy": "2023-08-12T19:06:18.276707Z",
     "iopub.status.idle": "2023-08-12T19:06:18.280428Z",
     "shell.execute_reply": "2023-08-12T19:06:18.279827Z"
    },
    "papermill": {
     "duration": 0.110231,
     "end_time": "2023-08-12T19:06:18.282401",
     "exception": false,
     "start_time": "2023-08-12T19:06:18.172170",
     "status": "completed"
    },
    "tags": []
   },
   "outputs": [],
   "source": [
    "# common_unigrams = get_common_vocab([rt_senti, rt_test], ngram_range_list=[(1,1)])\n",
    "# print(len(common_unigrams))\n",
    "# # sorted(list(common_unigrams))"
   ]
  },
  {
   "cell_type": "code",
   "execution_count": 90,
   "id": "1a2af6fc",
   "metadata": {
    "execution": {
     "iopub.execute_input": "2023-08-12T19:06:18.492178Z",
     "iopub.status.busy": "2023-08-12T19:06:18.491745Z",
     "iopub.status.idle": "2023-08-12T19:06:18.496427Z",
     "shell.execute_reply": "2023-08-12T19:06:18.495295Z"
    },
    "papermill": {
     "duration": 0.112385,
     "end_time": "2023-08-12T19:06:18.498912",
     "exception": false,
     "start_time": "2023-08-12T19:06:18.386527",
     "status": "completed"
    },
    "tags": []
   },
   "outputs": [],
   "source": [
    "# common_bigrams = get_common_vocab([rt_senti, rt_test], ngram_range_list=[(2,2)])\n",
    "# print(len(common_bigrams))\n",
    "# # # common_bigrams"
   ]
  },
  {
   "cell_type": "code",
   "execution_count": 91,
   "id": "8b52b0ee",
   "metadata": {
    "execution": {
     "iopub.execute_input": "2023-08-12T19:06:18.712516Z",
     "iopub.status.busy": "2023-08-12T19:06:18.712123Z",
     "iopub.status.idle": "2023-08-12T19:06:18.717303Z",
     "shell.execute_reply": "2023-08-12T19:06:18.715944Z"
    },
    "papermill": {
     "duration": 0.11281,
     "end_time": "2023-08-12T19:06:18.719920",
     "exception": false,
     "start_time": "2023-08-12T19:06:18.607110",
     "status": "completed"
    },
    "tags": []
   },
   "outputs": [],
   "source": [
    "# common_1_2_grams = get_common_vocab([rt_senti, rt_test], ngram_range_list=[(1,1), (2,2)])\n",
    "# print(len(common_1_2_grams))\n",
    "# # sorted(list(common_1_2_grams))\n",
    "\n",
    "# # common_1_2_grams = common_unigrams | common_bigrams    # older code"
   ]
  },
  {
   "cell_type": "code",
   "execution_count": 92,
   "id": "3aca09e5",
   "metadata": {
    "execution": {
     "iopub.execute_input": "2023-08-12T19:06:19.051055Z",
     "iopub.status.busy": "2023-08-12T19:06:19.050635Z",
     "iopub.status.idle": "2023-08-12T19:06:19.055177Z",
     "shell.execute_reply": "2023-08-12T19:06:19.054088Z"
    },
    "papermill": {
     "duration": 0.216312,
     "end_time": "2023-08-12T19:06:19.057936",
     "exception": false,
     "start_time": "2023-08-12T19:06:18.841624",
     "status": "completed"
    },
    "tags": []
   },
   "outputs": [],
   "source": [
    "# common_trigrams = get_common_vocab([rt_senti, rt_test], ngram_range_list=[(3,3)])\n",
    "# print(len(common_trigrams))\n",
    "# # common_trigrams"
   ]
  },
  {
   "cell_type": "code",
   "execution_count": 93,
   "id": "13aaaf4f",
   "metadata": {
    "execution": {
     "iopub.execute_input": "2023-08-12T19:06:19.272748Z",
     "iopub.status.busy": "2023-08-12T19:06:19.272301Z",
     "iopub.status.idle": "2023-08-12T19:06:19.277293Z",
     "shell.execute_reply": "2023-08-12T19:06:19.276177Z"
    },
    "papermill": {
     "duration": 0.114929,
     "end_time": "2023-08-12T19:06:19.279553",
     "exception": false,
     "start_time": "2023-08-12T19:06:19.164624",
     "status": "completed"
    },
    "tags": []
   },
   "outputs": [],
   "source": [
    "# common_1_2_3_grams = get_common_vocab([rt_senti, rt_test], ngram_range_list=[(1,1), (2,2), (3,3)])\n",
    "# print(len(common_1_2_3_grams))\n",
    "# # sorted((common_1_2_3_grams))\n",
    "\n",
    "# # common_1_2_3_grams = common_unigrams | common_bigrams | common_trigrams    # Older code  "
   ]
  },
  {
   "cell_type": "markdown",
   "id": "aa4f1496",
   "metadata": {
    "papermill": {
     "duration": 0.104726,
     "end_time": "2023-08-12T19:06:19.488970",
     "exception": false,
     "start_time": "2023-08-12T19:06:19.384244",
     "status": "completed"
    },
    "tags": []
   },
   "source": [
    "### Find common vocabulary between text with positive and negative sentiments in training dataset  "
   ]
  },
  {
   "cell_type": "code",
   "execution_count": 94,
   "id": "bfa16d17",
   "metadata": {
    "execution": {
     "iopub.execute_input": "2023-08-12T19:06:19.699591Z",
     "iopub.status.busy": "2023-08-12T19:06:19.699168Z",
     "iopub.status.idle": "2023-08-12T19:06:19.750095Z",
     "shell.execute_reply": "2023-08-12T19:06:19.748954Z"
    },
    "papermill": {
     "duration": 0.158343,
     "end_time": "2023-08-12T19:06:19.752518",
     "exception": false,
     "start_time": "2023-08-12T19:06:19.594175",
     "status": "completed"
    },
    "tags": []
   },
   "outputs": [
    {
     "data": {
      "text/plain": [
       "(108761, 2)"
      ]
     },
     "execution_count": 94,
     "metadata": {},
     "output_type": "execute_result"
    }
   ],
   "source": [
    "# Dataframe for positive sentiment\n",
    "rt_senti_pos = rt_senti.loc[rt_senti['sentiment'] == 'POSITIVE'].copy()\n",
    "rt_senti_pos.shape"
   ]
  },
  {
   "cell_type": "code",
   "execution_count": 95,
   "id": "fb80dd7e",
   "metadata": {
    "execution": {
     "iopub.execute_input": "2023-08-12T19:06:19.960428Z",
     "iopub.status.busy": "2023-08-12T19:06:19.959979Z",
     "iopub.status.idle": "2023-08-12T19:06:20.003783Z",
     "shell.execute_reply": "2023-08-12T19:06:20.002391Z"
    },
    "papermill": {
     "duration": 0.150844,
     "end_time": "2023-08-12T19:06:20.006702",
     "exception": false,
     "start_time": "2023-08-12T19:06:19.855858",
     "status": "completed"
    },
    "tags": []
   },
   "outputs": [
    {
     "data": {
      "text/plain": [
       "(53997, 2)"
      ]
     },
     "execution_count": 95,
     "metadata": {},
     "output_type": "execute_result"
    }
   ],
   "source": [
    "# Dataframe for negative sentiment\n",
    "rt_senti_neg = rt_senti.loc[rt_senti['sentiment'] == 'NEGATIVE'].copy()\n",
    "rt_senti_neg.shape"
   ]
  },
  {
   "cell_type": "code",
   "execution_count": 96,
   "id": "198d67ec",
   "metadata": {
    "execution": {
     "iopub.execute_input": "2023-08-12T19:06:20.214953Z",
     "iopub.status.busy": "2023-08-12T19:06:20.214499Z",
     "iopub.status.idle": "2023-08-12T19:06:20.220037Z",
     "shell.execute_reply": "2023-08-12T19:06:20.218740Z"
    },
    "papermill": {
     "duration": 0.111025,
     "end_time": "2023-08-12T19:06:20.222399",
     "exception": false,
     "start_time": "2023-08-12T19:06:20.111374",
     "status": "completed"
    },
    "tags": []
   },
   "outputs": [],
   "source": [
    "# Generate stop words/phrases specific for this project data  \n",
    "\n",
    "# common_1_2_3_grams_sentiment = get_common_vocab([rt_senti_pos, rt_senti_neg], ngram_range_list=[(1,1), (2,2), (3,3)])\n",
    "# print(len(common_1_2_3_grams_sentiment))\n",
    "# # sorted(list(common_1_2_3_grams_sentiment))"
   ]
  },
  {
   "cell_type": "code",
   "execution_count": 97,
   "id": "6acbd58c",
   "metadata": {
    "execution": {
     "iopub.execute_input": "2023-08-12T19:06:20.429428Z",
     "iopub.status.busy": "2023-08-12T19:06:20.428982Z",
     "iopub.status.idle": "2023-08-12T19:06:20.434352Z",
     "shell.execute_reply": "2023-08-12T19:06:20.433043Z"
    },
    "papermill": {
     "duration": 0.111617,
     "end_time": "2023-08-12T19:06:20.436784",
     "exception": false,
     "start_time": "2023-08-12T19:06:20.325167",
     "status": "completed"
    },
    "tags": []
   },
   "outputs": [],
   "source": [
    "# Generate and store the entire vocabulary of training data  \n",
    "\n",
    "# train_1_2_3_grams = get_vocab(rt_senti['reviewText'], ngram_range=(1,3))\n",
    "# print(len(train_1_2_3_grams))\n",
    "# # sorted(train_1_2_3_grams)"
   ]
  },
  {
   "cell_type": "code",
   "execution_count": 98,
   "id": "f0e1a4ce",
   "metadata": {
    "execution": {
     "iopub.execute_input": "2023-08-12T19:06:20.640800Z",
     "iopub.status.busy": "2023-08-12T19:06:20.640326Z",
     "iopub.status.idle": "2023-08-12T19:06:20.645766Z",
     "shell.execute_reply": "2023-08-12T19:06:20.644568Z"
    },
    "papermill": {
     "duration": 0.110576,
     "end_time": "2023-08-12T19:06:20.648085",
     "exception": false,
     "start_time": "2023-08-12T19:06:20.537509",
     "status": "completed"
    },
    "tags": []
   },
   "outputs": [],
   "source": [
    "# type(train_1_2_3_grams)"
   ]
  },
  {
   "cell_type": "code",
   "execution_count": 99,
   "id": "865d4a6f",
   "metadata": {
    "execution": {
     "iopub.execute_input": "2023-08-12T19:06:20.853083Z",
     "iopub.status.busy": "2023-08-12T19:06:20.852612Z",
     "iopub.status.idle": "2023-08-12T19:06:20.858808Z",
     "shell.execute_reply": "2023-08-12T19:06:20.857646Z"
    },
    "papermill": {
     "duration": 0.112007,
     "end_time": "2023-08-12T19:06:20.861272",
     "exception": false,
     "start_time": "2023-08-12T19:06:20.749265",
     "status": "completed"
    },
    "tags": []
   },
   "outputs": [],
   "source": [
    "# Get the vocabulary that should be used in the final models  \n",
    "# relevant_vocab = train_1_2_3_grams - common_1_2_3_grams_sentiment\n",
    "# print(len(relevant_vocab))"
   ]
  },
  {
   "cell_type": "markdown",
   "id": "db17bc0e",
   "metadata": {
    "papermill": {
     "duration": 0.104711,
     "end_time": "2023-08-12T19:06:21.067132",
     "exception": false,
     "start_time": "2023-08-12T19:06:20.962421",
     "status": "completed"
    },
    "tags": []
   },
   "source": [
    "## Submit_v4 for merged file models  "
   ]
  },
  {
   "cell_type": "markdown",
   "id": "2b3114ac",
   "metadata": {
    "papermill": {
     "duration": 0.102351,
     "end_time": "2023-08-12T19:06:21.274615",
     "exception": false,
     "start_time": "2023-08-12T19:06:21.172264",
     "status": "completed"
    },
    "tags": []
   },
   "source": [
    "### More Helper functions  "
   ]
  },
  {
   "cell_type": "code",
   "execution_count": 100,
   "id": "046713cf",
   "metadata": {
    "execution": {
     "iopub.execute_input": "2023-08-12T19:06:21.486014Z",
     "iopub.status.busy": "2023-08-12T19:06:21.485607Z",
     "iopub.status.idle": "2023-08-12T19:06:21.493538Z",
     "shell.execute_reply": "2023-08-12T19:06:21.492390Z"
    },
    "papermill": {
     "duration": 0.115287,
     "end_time": "2023-08-12T19:06:21.495913",
     "exception": false,
     "start_time": "2023-08-12T19:06:21.380626",
     "status": "completed"
    },
    "tags": []
   },
   "outputs": [],
   "source": [
    "# Testing predictions on missing reviewtext columns  \n",
    "\n",
    "def predict_on_missing_review_data(pipe, selected_features, merged_train):\n",
    "    missing_reviews_train = merged_train.loc[merged_train['reviewYN'] == 1]\n",
    "    missing_reviews_train.reset_index(drop=True)\n",
    "    X_train_miss_revs = missing_reviews_train.drop('sentiment', axis = 1)\n",
    "    X_train_miss_revs = X_train_miss_revs[selected_features]\n",
    "    y_train_miss_revs = missing_reviews_train['sentiment']\n",
    "    \n",
    "    y_pred_miss_revs = pipe.predict(X_train_miss_revs)\n",
    "#     print('Predictions on rows which had missing reviewText')\n",
    "    print(\"Confusion matrix and f1-score for rows which have no reviewText in X_train: \")\n",
    "    print(confusion_matrix(y_train_miss_revs, y_pred_miss_revs, labels=pipe.classes_))\n",
    "    \n",
    "    return f1_score(y_train_miss_revs, y_pred_miss_revs, average='micro')"
   ]
  },
  {
   "cell_type": "code",
   "execution_count": 101,
   "id": "c5cfb79e",
   "metadata": {
    "execution": {
     "iopub.execute_input": "2023-08-12T19:06:21.705337Z",
     "iopub.status.busy": "2023-08-12T19:06:21.704950Z",
     "iopub.status.idle": "2023-08-12T19:06:21.737417Z",
     "shell.execute_reply": "2023-08-12T19:06:21.736124Z"
    },
    "papermill": {
     "duration": 0.14111,
     "end_time": "2023-08-12T19:06:21.740281",
     "exception": false,
     "start_time": "2023-08-12T19:06:21.599171",
     "status": "completed"
    },
    "tags": []
   },
   "outputs": [],
   "source": [
    "# Function to build pipelines for GridSearchCV which goes into the final 'submit' function  \n",
    "def build_pipeline(selected_model=LogisticRegression(), \n",
    "                   selected_features={'txt': ['reviewText']}, \n",
    "                   param_grid=None,\n",
    "                   vocab=None,\n",
    "                   vocab_usage='tfidf',\n",
    "                   strip_accents='unicode', \n",
    "                   add_countvec=False):\n",
    "    # Encoders  \n",
    "    ohe = OneHotEncoder(sparse_output=False, handle_unknown='ignore')\n",
    "    MMscaler = MinMaxScaler()\n",
    "    StdScaler = StandardScaler()\n",
    "    RobScaler = RobustScaler()\n",
    "    \n",
    "    # Text features ['reviewText', 'reviewerName', 'movieid', 'genre', 'director']\n",
    "    tfidf_vec = TfidfVectorizer(ngram_range=(1,2))\n",
    "    count_vec = CountVectorizer(ngram_range=(1,2))\n",
    "    txt_pipe = Pipeline(steps=[\n",
    "                            (\"tvec\", TfidfVectorizer(ngram_range=(1,3), strip_accents=strip_accents))    # Adjust ngram_range here for reviewText\n",
    "                        ])\n",
    "    txt_pipe_vocab = Pipeline(steps=[\n",
    "                            (\"tvec\", TfidfVectorizer(ngram_range=(1,3), strip_accents=strip_accents, vocabulary=vocab))    # Adjust ngram_range here for reviewText\n",
    "                        ])\n",
    "    txt_pipe_2 = Pipeline(steps=[\n",
    "                            (\"tvec\", TfidfVectorizer(ngram_range=(2,2)))\n",
    "                        ])\n",
    "    txt_pipe_3 = Pipeline(steps=[\n",
    "                            (\"tvec\", TfidfVectorizer(ngram_range=(1,1)))\n",
    "                        ])\n",
    "    txt_pipe_4 = Pipeline(steps=[\n",
    "                            (\"tvec\", TfidfVectorizer(ngram_range=(1,3)))    # Adjust ngram_range here for reviewText\n",
    "                        ])\n",
    "    txt_pipe_title  = Pipeline(steps=[\n",
    "                            (\"tvec\", TfidfVectorizer(ngram_range=(1,5)))    # Adjust ngram_range here for reviewText\n",
    "                        ])\n",
    "    \n",
    "    # Additional pipes for count vectorizer\n",
    "    txt_pipe_countvec = Pipeline(steps=[\n",
    "                            (\"cvec\", CountVectorizer(ngram_range=(1,3), strip_accents=strip_accents))    # Adjust ngram_range here for reviewText\n",
    "                        ])\n",
    "    txt_pipe_countvec_vocab = Pipeline(steps=[\n",
    "                            (\"cvec\", CountVectorizer(ngram_range=(1,3), strip_accents=strip_accents, vocabulary=vocab))    # Adjust ngram_range here for reviewText\n",
    "                        ])\n",
    "    \n",
    "    txt_pipe_countvec_ratingContents = Pipeline(steps=[\n",
    "                            (\"cvec\", CountVectorizer(ngram_range=(1,5)))    # Adjust ngram_range here for reviewText\n",
    "                        ])\n",
    "    txt_pipe_countvec_rcSorted = Pipeline(steps=[\n",
    "                            (\"cvec\", CountVectorizer(ngram_range=(1,1)))    # Adjust ngram_range here for reviewText\n",
    "                        ])\n",
    "    txt_pipe_countvec_genre = Pipeline(steps=[\n",
    "                            (\"cvec\", CountVectorizer(ngram_range=(1,1)))\n",
    "                        ])\n",
    "    txt_pipe_countvec_genreSorted = Pipeline(steps=[\n",
    "                            (\"cvec\", CountVectorizer(ngram_range=(1,5)))\n",
    "                        ])\n",
    "    txt_pipe_countvec_distributor = Pipeline(steps=[\n",
    "                            (\"cvec\", CountVectorizer(ngram_range=(1,3)))    # Adjust ngram_range here for reviewText\n",
    "                        ])\n",
    "    txt_pipe_countvec_title = Pipeline(steps=[\n",
    "                            (\"cvec\", CountVectorizer(ngram_range=(1,5), strip_accents=strip_accents))\n",
    "                        ])\n",
    "    txt_pipe_countvec_movieid = Pipeline(steps=[\n",
    "                            (\"cvec\", CountVectorizer(ngram_range=(1,1)))\n",
    "                        ])\n",
    "    # Basic pipes  \n",
    "    TFs = []\n",
    "    try:\n",
    "        for c in selected_features['cat']:\n",
    "            TFs.append((f\"cat_{c}\", ohe, [c]))\n",
    "    except:\n",
    "        pass\n",
    "    try:\n",
    "        for n in selected_features['num']:\n",
    "            if n in [\"runtimeMinutes\", \"boxOffice\", \"releaseDiff\"]:\n",
    "                TFs.append((f\"num_{n}\", RobScaler, [n]))\n",
    "                TFs.append((f\"num_{n}_ss\", StdScaler, [n]))\n",
    "                \n",
    "            else:\n",
    "                TFs.append((f\"num_{n}\", StdScaler, [n]))\n",
    "    except:\n",
    "        pass\n",
    "    try:\n",
    "        for t in selected_features['txt']:\n",
    "            if t in ['director', 'reviewerName']:\n",
    "                TFs.append((f\"txt_{t}\", txt_pipe_2, t))\n",
    "            elif t in [\"originalLanguage\", \"releaseYear\"]:\n",
    "                TFs.append((f\"txt_{t}\", txt_pipe_3, t))\n",
    "            elif t in ['genre']:\n",
    "                TFs.append((f\"txt_{t}\", txt_pipe_countvec_genre, t))\n",
    "            elif t in [\"genreSorted\"]:\n",
    "                TFs.append((f\"txt_{t}\", txt_pipe_countvec_genreSorted, t))\n",
    "            elif t in [\"distributor\"]:\n",
    "                TFs.append((f\"txt_{t}\", txt_pipe_countvec_distributor, t))\n",
    "            elif t in ['reviewText']:\n",
    "#                 if vocab and (vocab_usage in [\"tfidf\", \"both\"]):\n",
    "#                     txt_pipe.set_params(tvec__vocabulary=vocab)\n",
    "#                     txt_pipe.set_params(tvec__stop_words='english')\n",
    "                TFs.append((f\"txt_{t}\", txt_pipe, t))\n",
    "            elif t in ['reviewText_2']:\n",
    "                if add_countvec:\n",
    "#                     if vocab and (vocab_usage in [\"count\", \"both\"]):\n",
    "#                         txt_pipe_countvec.set_params(cvec__vocabulary=vocab)\n",
    "#                         txt_pipe_countvec.set_params(cvec__stop_words='english')\n",
    "                    TFs.append((f\"txt_{t}\", txt_pipe_countvec, t))\n",
    "            elif t in ['reviewText_3']:\n",
    "                if vocab_usage == 'tfidf':\n",
    "                    TFs.append((f\"txt_{t}\", txt_pipe_vocab, t))\n",
    "                elif vocab_usage == 'count':\n",
    "                    TFs.append((f\"txt_{t}\", txt_pipe_countvec_vocab, t))\n",
    "            elif t in [\"ratingContents\"]:\n",
    "                TFs.append((f\"txt_{t}\", txt_pipe_countvec_ratingContents, t))\n",
    "            elif t in [\"rcSorted\"]:\n",
    "                TFs.append((f\"txt_{t}\", txt_pipe_countvec_rcSorted, t))\n",
    "            elif t in [\"title\"]:\n",
    "                TFs.append((f\"txt_{t}\", txt_pipe_title, t))\n",
    "            elif t in [\"movieid\"]:\n",
    "                TFs.append((f\"txt_{t}\", txt_pipe_countvec_movieid, t))\n",
    "            else:\n",
    "                pass\n",
    "    except:\n",
    "        pass\n",
    "\n",
    "    # Build ColumnTransformer  \n",
    "    ct = ColumnTransformer(transformers=TFs, remainder='drop')\n",
    "\n",
    "    # Build Pipeline\n",
    "    pipe = Pipeline(steps=[('ct', ct), ('model', selected_model)])\n",
    "    print(\"\\nPipeline built successfully.\")\n",
    "\n",
    "    # Use the pipe in GridSearchCV\n",
    "    if param_grid == None:\n",
    "        param_grid_temp = {\"model__C\": [1],\n",
    "                     'model__solver': ['liblinear']}\n",
    "        print(\"Full GridSearchCV pipeline built successfully with basic default param_grid.\\n\")\n",
    "        pipeCV = GridSearchCV(pipe, param_grid_temp, cv=10, scoring=\"f1_micro\", n_jobs=-1)\n",
    "        return pipeCV\n",
    "    \n",
    "    # GridSearchCV if param_grid provided\n",
    "    if param_grid:\n",
    "        pipeCV = GridSearchCV(pipe, param_grid, cv=10, scoring=\"f1_micro\", n_jobs=-1)\n",
    "        print(\"\\nFull GridSearchCV pipeline built successfully.\")\n",
    "        return pipeCV"
   ]
  },
  {
   "cell_type": "code",
   "execution_count": 102,
   "id": "e2be4e75",
   "metadata": {
    "execution": {
     "iopub.execute_input": "2023-08-12T19:06:21.949903Z",
     "iopub.status.busy": "2023-08-12T19:06:21.949502Z",
     "iopub.status.idle": "2023-08-12T19:06:21.967614Z",
     "shell.execute_reply": "2023-08-12T19:06:21.966369Z"
    },
    "papermill": {
     "duration": 0.125313,
     "end_time": "2023-08-12T19:06:21.969903",
     "exception": false,
     "start_time": "2023-08-12T19:06:21.844590",
     "status": "completed"
    },
    "tags": []
   },
   "outputs": [],
   "source": [
    "def preprocessor(imputer_type='simple'):\n",
    "    \n",
    "    \"\"\"Preprocess train or test data. Choose 'simple' or 'knn' imputers to impute missing numerical values\"\"\"\n",
    "    \n",
    "    # Set imputer  \n",
    "    if imputer_type == 'simple':\n",
    "        imputer = SimpleImputer(strategy='median')\n",
    "        print(imputer)\n",
    "    elif imputer_type == 'knn':\n",
    "        imputer = KNNImputer(weights='distance', n_neighbors=3)    # Adjust KNNImputer params here\n",
    "        print(imputer)\n",
    "\n",
    "\n",
    "    \n",
    "    # Merge and preprocess train and movies data  \n",
    "    merged = select_features(load_csv(\"train\"), load_csv(\"movies\"), row_thresh_null=None)    # Decide if you want to drop any rows containing lot of nulls\n",
    "    \n",
    "    # Impute missing numerical values  \n",
    "    merged[['audienceScore', 'runtimeMinutes', 'boxOffice']] = imputer.fit_transform(merged[['audienceScore', 'runtimeMinutes', 'boxOffice']])\n",
    "    merged['releaseDate'] = merged[\"releaseDate\"].fillna(merged[\"releaseDate\"].median())\n",
    "\n",
    "    # Create new feature columns\n",
    "    \n",
    "    # Convert audienceScore to categories  \n",
    "    num_bins_as = 20\n",
    "    merged[\"audScoreBins\"] = pd.cut(merged['audienceScore'], bins=num_bins_as, labels=False)\n",
    "\n",
    "    # Convert runtimeMinutes to categories  \n",
    "#     num_bins_rt = 20\n",
    "    merged[\"runtimeBins\"] = pd.cut(merged['runtimeMinutes'], bins=[0,75,120,180,565], labels=[4,3,2,1])\n",
    "    \n",
    "    # Convert boxOffice to categories  \n",
    "    num_bins_bo = 5\n",
    "    merged[\"boxOfficeBins\"] = pd.cut(merged['boxOffice'], bins=num_bins_bo, labels=False)\n",
    "    \n",
    "    # Convert releaseDiff to categories  \n",
    "    num_bins_rd = 5\n",
    "    merged[\"releaseDiffBins\"] = pd.cut(merged['releaseDiff'], bins=[-1, 180, 360, 1000, 40000], labels=[0, 1, 2, 3])\n",
    "    \n",
    "    # Check1 (preprocessor)\n",
    "    print(\"\\nCheck 1 (preprocessor) complete.\")\n",
    "    print(f\"Shape of X_train: {merged.shape}\")\n",
    "    print(f\"Features in X_train: {merged.columns}\")\n",
    "\n",
    "\n",
    "    \n",
    "    # Merge and preprocess test and movies data  \n",
    "    merged_test = select_features(load_csv(\"test\"), load_csv(\"movies\"))\n",
    "    \n",
    "    # Transform ['audienceScore', 'runtimeMinutes', 'boxOffice'] columns in merged_test using 'imputer' fitted on 'merged' df  \n",
    "    merged_test[['audienceScore', 'runtimeMinutes', 'boxOffice']] = imputer.transform(merged_test[['audienceScore', 'runtimeMinutes', 'boxOffice']])\n",
    "    \n",
    "    # Fill 'releaseDate' column in 'merged_test' df with median from the train (merged) df  \n",
    "    merged_test['releaseDate'] = merged_test[\"releaseDate\"].fillna(merged[\"releaseDate\"].median())\n",
    "\n",
    "    \n",
    "    # Create new feature columns\n",
    "    \n",
    "    # Convert audienceScore to categories  \n",
    "    num_bins_as = 20\n",
    "    merged_test[\"audScoreBins\"] = pd.cut(merged_test['audienceScore'], bins=num_bins_as, labels=False)\n",
    "    \n",
    "    # Convert runtimeMinutes to categories  \n",
    "#     num_bins_rt = 20\n",
    "    merged_test[\"runtimeBins\"] = pd.cut(merged_test['runtimeMinutes'], bins=[0,75,120,180,565], labels=[4,3,2,1])\n",
    "    \n",
    "    # Convert boxOffice to categories  \n",
    "    num_bins_bo = 5\n",
    "    merged_test[\"boxOfficeBins\"] = pd.cut(merged_test['boxOffice'], bins=num_bins_bo, labels=False)\n",
    "    \n",
    "    # Convert releaseDiff to categories  \n",
    "    num_bins_rd = 5\n",
    "    merged_test[\"releaseDiffBins\"] = pd.cut(merged_test['releaseDiff'], bins=[-1, 180, 360, 1000, 40000], labels=[0, 1, 2, 3])\n",
    "    \n",
    "    \n",
    "    # Check2 (preprocessor)\n",
    "    print(\"\\nCheck 2 (preprocessor) complete.\")\n",
    "    print(f\"Shape of X_test: {merged_test.shape}\")\n",
    "    print(f\"Features in X_test: {merged_test.columns}\")\n",
    "\n",
    "    return merged, merged_test\n",
    "    "
   ]
  },
  {
   "cell_type": "code",
   "execution_count": 103,
   "id": "392301fc",
   "metadata": {
    "execution": {
     "iopub.execute_input": "2023-08-12T19:06:22.186381Z",
     "iopub.status.busy": "2023-08-12T19:06:22.185961Z",
     "iopub.status.idle": "2023-08-12T19:06:22.190540Z",
     "shell.execute_reply": "2023-08-12T19:06:22.189402Z"
    },
    "papermill": {
     "duration": 0.113973,
     "end_time": "2023-08-12T19:06:22.192505",
     "exception": false,
     "start_time": "2023-08-12T19:06:22.078532",
     "status": "completed"
    },
    "tags": []
   },
   "outputs": [],
   "source": [
    "# merged, merged_test = preprocessor()\n",
    "# merged.shape, merged_test.shape"
   ]
  },
  {
   "cell_type": "code",
   "execution_count": 104,
   "id": "0556ae22",
   "metadata": {
    "execution": {
     "iopub.execute_input": "2023-08-12T19:06:22.403345Z",
     "iopub.status.busy": "2023-08-12T19:06:22.402952Z",
     "iopub.status.idle": "2023-08-12T19:06:22.431889Z",
     "shell.execute_reply": "2023-08-12T19:06:22.430904Z"
    },
    "papermill": {
     "duration": 0.137727,
     "end_time": "2023-08-12T19:06:22.434180",
     "exception": false,
     "start_time": "2023-08-12T19:06:22.296453",
     "status": "completed"
    },
    "tags": []
   },
   "outputs": [],
   "source": [
    "def submit_v5(classifiers= [\n",
    "                {'selected_model' : LogisticRegression(C=1, solver='saga', max_iter=100000),\n",
    "                 'param_grid' : None,\n",
    "                 'selected_features' : {'num': ['audienceScore']},\n",
    "                 'vocab' : None,\n",
    "                 'vocab_usage' : 'tfidf',\n",
    "                 'strip_accents' : 'unicode',\n",
    "                 'add_countvec' : False}\n",
    "              ], \n",
    "            imputer_type='simple'\n",
    "            ):\n",
    "    \n",
    "    \"\"\"Takes a list of dictionaries each with same keys as mentioned in the default dictionary in function definition\"\"\"\n",
    "    \n",
    "    print(\"\\nRunning the submit_v5 function...\")\n",
    "    \n",
    "    print(f\"\\nData preprocessor initiated...\")\n",
    "    \n",
    "    imputer_type = imputer_type\n",
    "    print(f\"\\nImputer for missing numerical values: {imputer_type}\")\n",
    "    print(f\"Imputing missing values. (This could take a while if it is KNNImputer)\")\n",
    "    \n",
    "    merged, merged_test = preprocessor(imputer_type=imputer_type)\n",
    "    print(f\"\\nPreprocessing of train and test datasets complete.\")\n",
    "    \n",
    "    # Build vocabulary (if vocab is True)\n",
    "    vocab = None\n",
    "    for item in classifiers:\n",
    "        if item['vocab']:\n",
    "            vocab = True\n",
    "            break\n",
    "    \n",
    "    if vocab == True:\n",
    "        # Generate and store the entire vocabulary of training data  \n",
    "        print(f\"Generating stop words/phrases specific for this project data...\")\n",
    "        train_1_2_3_grams = get_vocab(merged['reviewText'], ngram_range=(1,3))\n",
    "        print(f\"Size of vocabulary of training data: {len(train_1_2_3_grams)}\")\n",
    "        # sorted(train_1_2_3_grams)\n",
    "\n",
    "        # Generate stop words/phrases specific for this project data  \n",
    "        print(f\"Generating stop words/phrases specific for this project data...\")\n",
    "        common_1_2_3_grams = get_common_vocab([merged, merged_test], ngram_range_list=[(1,1), (2,2), (3,3)])\n",
    "        print(f\"Number of stop words: {len(common_1_2_3_grams)}\")\n",
    "\n",
    "        # Get the vocabulary that should be used in the final models  \n",
    "        print(f\"Getting the vocabulary that will be fed to the final model(s)...\")\n",
    "        relevant_vocab = list(train_1_2_3_grams - common_1_2_3_grams)\n",
    "        print(f\"Size of the final relevant vocabulary: {len(relevant_vocab)}\")\n",
    "    else:\n",
    "        pass\n",
    "    \n",
    "    \n",
    "    # Create a list to store estimators  \n",
    "    estimators = []     # List of tuples of the form ('classifier_name', 'classifer_instance')\n",
    "    \n",
    "    # Build a dataframe of predictions  \n",
    "    predictions_df = pd.DataFrame()\n",
    "    \n",
    "    # Build a separate pipeline and fit it on selected features (and param_grid) for each item in classifiers list\n",
    "    for n, item in enumerate(classifiers, start=1):\n",
    "        selected_model = item['selected_model']\n",
    "        selected_features = item['selected_features']\n",
    "        param_grid = item['param_grid']\n",
    "        vocab = item['vocab']\n",
    "        vocab_usage = item['vocab_usage']\n",
    "        strip_accents = item['strip_accents']\n",
    "        add_countvec = item['add_countvec']\n",
    "    \n",
    "    \n",
    "        # Fine tune selected_features\n",
    "        if add_countvec:\n",
    "            if 'txt' in selected_features.keys():\n",
    "                if \"reviewText_2\" not in selected_features['txt']:\n",
    "                    selected_features['txt'].append('reviewText_2')\n",
    "        if vocab:\n",
    "            if 'txt' in selected_features.keys():\n",
    "                if \"reviewText_3\" not in selected_features['txt']:\n",
    "                    selected_features['txt'].append('reviewText_3')\n",
    "        else:\n",
    "            print(f\"No vocabulary provided/used for this model.\")\n",
    "        print(f\"\\nSelected features: {selected_features}\")\n",
    "        \n",
    "        if type(vocab) in [type([1, 2]), type({1, 2})]:\n",
    "            vocab = vocab\n",
    "        elif vocab == True:\n",
    "            vocab = common_1_2_3_grams    # Choose vocabulary here\n",
    "\n",
    "        # Modify X_train for the given 'item' by creating a custom 'features' list\n",
    "        features = []\n",
    "        for item in selected_features.values():\n",
    "            features.extend(item)\n",
    "            \n",
    "        # Add new columns as needed  \n",
    "        if add_countvec:\n",
    "            merged['reviewText_2'] = merged['reviewText']\n",
    "        if vocab:\n",
    "            merged['reviewText_3'] = merged['reviewText']\n",
    "        \n",
    "        # Create X_tran, y_train\n",
    "        X_train = merged.drop(labels=\"sentiment\", axis=1)\n",
    "        y_train = merged[\"sentiment\"]\n",
    "        \n",
    "        X_train = merged[features].copy()\n",
    "\n",
    "\n",
    "        # Build Pipeline\n",
    "        pipe = build_pipeline(selected_model, selected_features, param_grid=param_grid, \n",
    "                              vocab=vocab, vocab_usage='tfidf', \n",
    "                              strip_accents=strip_accents, add_countvec=add_countvec)\n",
    "        print(pipe)\n",
    "\n",
    "        \n",
    "        # Fit \n",
    "        print(f\"\\nTraining started with full pipeline for classifier #{n}/{len(classifiers)}...\")\n",
    "        pipe.fit(X_train, y_train)\n",
    "        \n",
    "\n",
    "        # Check1\n",
    "        print(f\"\\nCheck #{n}.1 complete.\")\n",
    "        print(f\"Details of the best model using classifier #{n} (GridSearchCV) on X_train: \")\n",
    "        print(f\"Best Params: {pipe.best_params_}\")\n",
    "        print(f\"Best Score: {pipe.best_score_}\")\n",
    "        \n",
    "        print(predict_on_missing_review_data(pipe, features, merged))    # Function defined above\n",
    "        \n",
    "        estimators.append((f\"classifier_{n}\", pipe))\n",
    "        print(f\"classifier_{n} successfully added to 'estimators' list\")\n",
    "\n",
    "        \n",
    "        # Predict on train data \n",
    "        y_train_pred = pipe.predict(X_train)\n",
    "        print(f\"Confusion matrix for predictions on training data: \")\n",
    "        print(confusion_matrix(y_train, y_train_pred))\n",
    "        f1_train = f1_score(y_train, y_train_pred, average=\"micro\")\n",
    "        print(f\"F1-score on training data: {f1_train}\")\n",
    "        \n",
    "        \n",
    "        # Predict on test.csv file\n",
    "        # Add new columns as needed \n",
    "        if add_countvec:\n",
    "            merged_test['reviewText_2'] = merged_test['reviewText']\n",
    "        if vocab:\n",
    "            merged_test['reviewText_3'] = merged_test['reviewText']\n",
    "        \n",
    "               \n",
    "        X_test = merged_test[features].copy()\n",
    "\n",
    "    \n",
    "        y_pred = pipe.predict(X_test)\n",
    "        \n",
    "        # Insert predictions in 'predictions_df' dataframe\n",
    "        predictions_df.insert(n-1, f\"pred_{n}\", y_pred, allow_duplicates=False)\n",
    "        print(predictions_df.shape)\n",
    "        print(predictions_df.head(10))\n",
    "        \n",
    "    \n",
    "        # Check2\n",
    "        print(f\"\\nCheck #{n}.2 complete.\")\n",
    "    #     cv_results_df = pd.DataFrame(pipe.cv_results_)\n",
    "        print(\"Details of the best model using full pipeline (GridSearchCV) on X_train: \")\n",
    "#         print(f\"Best Estimator: {pipe.best_estimator_}\")\n",
    "        print(f\"Best Params: {pipe.best_params_}\")\n",
    "        print(f\"Best Score: {pipe.best_score_}\")\n",
    "#         print(f\"Best Index: {pipe.best_index_}\")\n",
    "        print(f\"Refit Time: {pipe.refit_time_}\")\n",
    "    #     print(f\"Shape of CV results dataframe: {cv_results_df.shape}\")\n",
    "    \n",
    "    # Voting classifier (custom) with hard voting\n",
    "    # Calculate the MODE for all predictions (Note that the 'predictions_df' generated above should have odd number of columns)\n",
    "    pred_df_final = predictions_df.mode('columns')\n",
    "    pred_df_final.columns = [\"sentiment\"]\n",
    "    pred_df_final.index.name = \"id\"\n",
    "    pred_df_final.to_csv(\"submission.csv\")\n",
    "    \n",
    "    print(\"\\nSuccessfully created the submission file!!!\")\n",
    "    \n",
    "#     return pipe.cv_results_\n",
    "    return pred_df_final, estimators"
   ]
  },
  {
   "cell_type": "markdown",
   "id": "947e6545",
   "metadata": {
    "papermill": {
     "duration": 0.103691,
     "end_time": "2023-08-12T19:06:22.642080",
     "exception": false,
     "start_time": "2023-08-12T19:06:22.538389",
     "status": "completed"
    },
    "tags": []
   },
   "source": [
    "## Use 'submit_v5' function  "
   ]
  },
  {
   "cell_type": "code",
   "execution_count": 105,
   "id": "96873511",
   "metadata": {
    "execution": {
     "iopub.execute_input": "2023-08-12T19:06:22.851485Z",
     "iopub.status.busy": "2023-08-12T19:06:22.851073Z",
     "iopub.status.idle": "2023-08-12T19:06:22.855882Z",
     "shell.execute_reply": "2023-08-12T19:06:22.854754Z"
    },
    "papermill": {
     "duration": 0.112696,
     "end_time": "2023-08-12T19:06:22.858255",
     "exception": false,
     "start_time": "2023-08-12T19:06:22.745559",
     "status": "completed"
    },
    "tags": []
   },
   "outputs": [],
   "source": [
    "# Try submit_v5 with default settings\n",
    "# submit_v5()"
   ]
  },
  {
   "cell_type": "code",
   "execution_count": 106,
   "id": "fbc00549",
   "metadata": {
    "execution": {
     "iopub.execute_input": "2023-08-12T19:06:23.066933Z",
     "iopub.status.busy": "2023-08-12T19:06:23.065860Z",
     "iopub.status.idle": "2023-08-12T19:48:44.316273Z",
     "shell.execute_reply": "2023-08-12T19:48:44.314786Z"
    },
    "papermill": {
     "duration": 2541.466732,
     "end_time": "2023-08-12T19:48:44.426289",
     "exception": false,
     "start_time": "2023-08-12T19:06:22.959557",
     "status": "completed"
    },
    "tags": []
   },
   "outputs": [
    {
     "name": "stdout",
     "output_type": "stream",
     "text": [
      "\n",
      "Running the submit_v5 function...\n",
      "\n",
      "Data preprocessor initiated...\n",
      "\n",
      "Imputer for missing numerical values: knn\n",
      "Imputing missing values. (This could take a while if it is KNNImputer)\n",
      "KNNImputer(n_neighbors=3, weights='distance')\n",
      "\n",
      "Check 1 (preprocessor) complete.\n",
      "Shape of X_train: (162758, 30)\n",
      "Features in X_train: Index(['movieid', 'reviewerName', 'isFrequentReviewer', 'reviewText',\n",
      "       'sentiment', 'title', 'audienceScore', 'rating', 'ratingContents',\n",
      "       'releaseDateTheaters', 'releaseDateStreaming', 'runtimeMinutes',\n",
      "       'genre', 'originalLanguage', 'director', 'boxOffice', 'distributor',\n",
      "       'soundType', 'reviewYN', 'reviewWC', 'genreSorted', 'rcSorted',\n",
      "       'releaseDate', 'releaseYear', 'releaseMonth', 'releaseDiff',\n",
      "       'audScoreBins', 'runtimeBins', 'boxOfficeBins', 'releaseDiffBins'],\n",
      "      dtype='object')\n",
      "\n",
      "Check 2 (preprocessor) complete.\n",
      "Shape of X_test: (55315, 29)\n",
      "Features in X_test: Index(['movieid', 'reviewerName', 'isFrequentReviewer', 'reviewText', 'title',\n",
      "       'audienceScore', 'rating', 'ratingContents', 'releaseDateTheaters',\n",
      "       'releaseDateStreaming', 'runtimeMinutes', 'genre', 'originalLanguage',\n",
      "       'director', 'boxOffice', 'distributor', 'soundType', 'reviewYN',\n",
      "       'reviewWC', 'genreSorted', 'rcSorted', 'releaseDate', 'releaseYear',\n",
      "       'releaseMonth', 'releaseDiff', 'audScoreBins', 'runtimeBins',\n",
      "       'boxOfficeBins', 'releaseDiffBins'],\n",
      "      dtype='object')\n",
      "\n",
      "Preprocessing of train and test datasets complete.\n",
      "Generating stop words/phrases specific for this project data...\n",
      "Generating vocabulary for ngram_range: (1, 3)...\n",
      "Size of vocabulary of training data: 2610596\n",
      "Generating stop words/phrases specific for this project data...\n",
      "Working on DF#1 in the list of DFs provided\n",
      "Generating vocabulary for ngram_range: (1, 1)...\n",
      "Vocabulary size for ngram-range (1, 1) in DF#1: 63881\n",
      "\n",
      "Words from the first df for ngram-range (1, 1) added.\n",
      "\n",
      "Working on DF#2 in the list of DFs provided\n",
      "Generating vocabulary for ngram_range: (1, 1)...\n",
      "Vocabulary size for ngram-range (1, 1) in DF#2: 42992\n",
      "\n",
      "Keeping only the common (intersection) words for ngram-range (1, 1)...\n",
      "Common vocabulary for ngram-range (1, 1): 35498\n",
      "\n",
      "Appended first time to final common vocabulary: ngram-range = (1, 1).\n",
      "\n",
      "Working on DF#1 in the list of DFs provided\n",
      "Generating vocabulary for ngram_range: (2, 2)...\n",
      "Vocabulary size for ngram-range (2, 2) in DF#1: 1130406\n",
      "\n",
      "Words from the first df for ngram-range (2, 2) added.\n",
      "\n",
      "Working on DF#2 in the list of DFs provided\n",
      "Generating vocabulary for ngram_range: (2, 2)...\n",
      "Vocabulary size for ngram-range (2, 2) in DF#2: 436174\n",
      "\n",
      "Keeping only the common (intersection) words for ngram-range (2, 2)...\n",
      "Common vocabulary for ngram-range (2, 2): 112530\n",
      "\n",
      "Fusing (union) with final common vocabulary: ngram-range = (2, 2).\n",
      "\n",
      "Working on DF#1 in the list of DFs provided\n",
      "Generating vocabulary for ngram_range: (3, 3)...\n",
      "Vocabulary size for ngram-range (3, 3) in DF#1: 1416309\n",
      "\n",
      "Words from the first df for ngram-range (3, 3) added.\n",
      "\n",
      "Working on DF#2 in the list of DFs provided\n",
      "Generating vocabulary for ngram_range: (3, 3)...\n",
      "Vocabulary size for ngram-range (3, 3) in DF#2: 488867\n",
      "\n",
      "Keeping only the common (intersection) words for ngram-range (3, 3)...\n",
      "Common vocabulary for ngram-range (3, 3): 22631\n",
      "\n",
      "Fusing (union) with final common vocabulary: ngram-range = (3, 3).\n",
      "\n",
      "Number of stop words: 170659\n",
      "Getting the vocabulary that will be fed to the final model(s)...\n",
      "Size of the final relevant vocabulary: 2439937\n",
      "\n",
      "Selected features: {'cat': ['isFrequentReviewer'], 'num': ['audienceScore', 'boxOffice', 'releaseDiff'], 'txt': ['reviewText', 'reviewerName', 'movieid', 'genre', 'director', 'ratingContents', 'distributor', 'reviewText_2', 'reviewText_3']}\n",
      "\n",
      "Pipeline built successfully.\n",
      "\n",
      "Full GridSearchCV pipeline built successfully.\n",
      "GridSearchCV(cv=10,\n",
      "             estimator=Pipeline(steps=[('ct',\n",
      "                                        ColumnTransformer(transformers=[('cat_isFrequentReviewer',\n",
      "                                                                         OneHotEncoder(handle_unknown='ignore',\n",
      "                                                                                       sparse_output=False),\n",
      "                                                                         ['isFrequentReviewer']),\n",
      "                                                                        ('num_audienceScore',\n",
      "                                                                         StandardScaler(),\n",
      "                                                                         ['audienceScore']),\n",
      "                                                                        ('num_boxOffice',\n",
      "                                                                         RobustScaler(),\n",
      "                                                                         ['boxOffice']),\n",
      "                                                                        ('num_boxOffice_ss',\n",
      "                                                                         StandardScaler(),\n",
      "                                                                         ['boxOffice']),\n",
      "                                                                        ('...\n",
      "                                                                                                                      'aarp',\n",
      "                                                                                                                      'ab',\n",
      "                                                                                                                      'abandon',\n",
      "                                                                                                                      'abandoned',\n",
      "                                                                                                                      'abandoned '\n",
      "                                                                                                                      'good',\n",
      "                                                                                                                      'abandoning',\n",
      "                                                                                                                      'abandoning '\n",
      "                                                                                                                      'logic',\n",
      "                                                                                                                      'abandoning '\n",
      "                                                                                                                      'traditional',\n",
      "                                                                                                                      'abandonment',\n",
      "                                                                                                                      'abandonment '\n",
      "                                                                                                                      'adoption', ...}))]),\n",
      "                                                                         'reviewText_3')])),\n",
      "                                       ('model',\n",
      "                                        SGDClassifier(loss='modified_huber',\n",
      "                                                      max_iter=1000000,\n",
      "                                                      n_iter_no_change=100,\n",
      "                                                      n_jobs=-1,\n",
      "                                                      tol=0.0001))]),\n",
      "             n_jobs=-1, param_grid={'model__alpha': [0.0001]},\n",
      "             scoring='f1_micro')\n",
      "\n",
      "Training started with full pipeline for classifier #1/1...\n",
      "\n",
      "Check #1.1 complete.\n",
      "Details of the best model using classifier #1 (GridSearchCV) on X_train: \n",
      "Best Params: {'model__alpha': 0.0001}\n",
      "Best Score: 0.8433011141526034\n",
      "Confusion matrix and f1-score for rows which have no reviewText in X_train: \n",
      "[[1661  744]\n",
      " [ 247 3795]]\n",
      "0.846285093842097\n",
      "classifier_1 successfully added to 'estimators' list\n",
      "Confusion matrix for predictions on training data: \n",
      "[[ 53219    778]\n",
      " [   262 108499]]\n",
      "F1-score on training data: 0.9936101451234348\n",
      "(55315, 1)\n",
      "     pred_1\n",
      "0  POSITIVE\n",
      "1  POSITIVE\n",
      "2  POSITIVE\n",
      "3  POSITIVE\n",
      "4  POSITIVE\n",
      "5  POSITIVE\n",
      "6  POSITIVE\n",
      "7  POSITIVE\n",
      "8  NEGATIVE\n",
      "9  NEGATIVE\n",
      "\n",
      "Check #1.2 complete.\n",
      "Details of the best model using full pipeline (GridSearchCV) on X_train: \n",
      "Best Params: {'model__alpha': 0.0001}\n",
      "Best Score: 0.8433011141526034\n",
      "Refit Time: 416.4734585285187\n",
      "\n",
      "Successfully created the submission file!!!\n"
     ]
    }
   ],
   "source": [
    "# Testing ONE classfier using submit_v5 function  \n",
    "\n",
    "# Feature dictionaries\n",
    "sfs = {'cat': ['isFrequentReviewer', 'rating'],\n",
    "       'num': [\"audienceScore\", \"runtimeMinutes\", \"boxOffice\", 'releaseDiff']}\n",
    "\n",
    "sf_best = {'cat': ['isFrequentReviewer'],\n",
    "            'num': [\"audienceScore\", \"boxOffice\", 'releaseDiff'],\n",
    "            'txt': ['reviewText', 'reviewerName', 'movieid', 'genre', 'director', \n",
    "                         'ratingContents', 'distributor']}\n",
    "\n",
    "alt_text = {'txt': ['reviewerName', 'movieid', 'genre', 'director', \n",
    "                         'ratingContents', 'distributor']}\n",
    "\n",
    "v88_dict = {'cat': ['isFrequentReviewer', 'audScoreBins', 'boxOfficeBins'],\n",
    "            'num': ['releaseDiff'],\n",
    "            'txt': ['reviewText', 'reviewerName', 'movieid', 'genre', 'director', \n",
    "                         'ratingContents', 'distributor']}\n",
    "\n",
    "# SGDClassifier hyperparameters  \n",
    "# \"model__loss\": ['hinge', 'log_loss', 'modified_huber', \n",
    "#                                                   'squared_hinge', 'perceptron', \n",
    "#                                                   'squared_error', 'huber', \n",
    "#                                                   'epsilon_insensitive', 'squared_epsilon_insensitive']\n",
    "\n",
    "# 'param_grid' : {\"model__alpha\": [0.0001], \n",
    "#                   'model__tol': [0.0001],\n",
    "#                   \"model__penalty\": [\"l2\"],\n",
    "#                   \"model__n_iter_no_change\": [100],\n",
    "#                  }\n",
    "\n",
    "# Best models \n",
    "# For sf_best features\n",
    "#                 {'selected_model' : SGDClassifier(loss='hinge', \n",
    "#                                      max_iter=1000000,\n",
    "#                                      alpha = 0.0001,\n",
    "#                                      tol = 0.0001,\n",
    "#                                      penalty = \"l2\",\n",
    "#                                      n_iter_no_change = 100,\n",
    "#                                      n_jobs = -1), \n",
    "#                   'selected_features' : sf_best, \n",
    "#                   'param_grid' : {\"model__alpha\": [ 0.0001]},\n",
    "#                   'vocab' : True,\n",
    "#                   'vocab_usage' : 'tfidf',\n",
    "#                   'strip_accents' : 'unicode', \n",
    "#                   'add_countvec' : True},\n",
    "\n",
    "# For sfs features\n",
    "#                 {'selected_model' : RandomForestClassifier(n_jobs = -1), \n",
    "#                   'selected_features' : sfs, \n",
    "#                   'param_grid': {'model__n_estimators': [100]},\n",
    "#                   'vocab' : None,\n",
    "#                   'vocab_usage' : 'tfidf',\n",
    "#                   'strip_accents' : 'unicode', \n",
    "#                   'add_countvec' : False}\n",
    "\n",
    "# Best SGD classifer (with params)  \n",
    "sgdc = SGDClassifier(loss='modified_huber', \n",
    "                     max_iter=1000000,\n",
    "                     alpha = 0.0001,\n",
    "                     tol = 0.0001,\n",
    "                     penalty = \"l2\",\n",
    "                     n_iter_no_change = 100,\n",
    "                     n_jobs = -1)\n",
    "\n",
    "# Classifiers\n",
    "classifiers= [   \n",
    "                {'selected_model' : sgdc, \n",
    "                  'selected_features' : sf_best, \n",
    "                  'param_grid' : {\"model__alpha\": [0.0001]},\n",
    "                  'vocab' : True,\n",
    "                  'vocab_usage' : 'tfidf',\n",
    "                  'strip_accents' : 'unicode', \n",
    "                  'add_countvec' : True}\n",
    "            ]\n",
    "\n",
    "# classifiers= [\n",
    "#                 {'selected_model' : LogisticRegression(C=1, solver='saga', max_iter=100000), \n",
    "#                   'selected_features' : {'txt': [\"reviewText\"]}, \n",
    "#                   'param_grid' : {\"model__C\": [1], \n",
    "#                                   'model__solver': ['saga']},\n",
    "#                   'vocab' : None,\n",
    "#                   'vocab_usage' : 'tfidf',\n",
    "#                   'strip_accents' : 'unicode', \n",
    "#                   'add_countvec' : False},\n",
    "#             ]\n",
    "\n",
    "pred_df, estimators = submit_v5(classifiers=classifiers, imputer_type='knn')"
   ]
  },
  {
   "cell_type": "code",
   "execution_count": 107,
   "id": "68ee025d",
   "metadata": {
    "execution": {
     "iopub.execute_input": "2023-08-12T19:48:44.640526Z",
     "iopub.status.busy": "2023-08-12T19:48:44.640072Z",
     "iopub.status.idle": "2023-08-12T19:48:44.648432Z",
     "shell.execute_reply": "2023-08-12T19:48:44.647082Z"
    },
    "papermill": {
     "duration": 0.119361,
     "end_time": "2023-08-12T19:48:44.651148",
     "exception": false,
     "start_time": "2023-08-12T19:48:44.531787",
     "status": "completed"
    },
    "tags": []
   },
   "outputs": [
    {
     "name": "stdout",
     "output_type": "stream",
     "text": [
      "(55315, 1)\n",
      "   sentiment\n",
      "id          \n",
      "0   POSITIVE\n",
      "1   POSITIVE\n",
      "2   POSITIVE\n",
      "3   POSITIVE\n",
      "4   POSITIVE\n"
     ]
    }
   ],
   "source": [
    "print(pred_df.shape)\n",
    "print(pred_df.head())"
   ]
  },
  {
   "cell_type": "code",
   "execution_count": 108,
   "id": "2f79e987",
   "metadata": {
    "execution": {
     "iopub.execute_input": "2023-08-12T19:48:44.864654Z",
     "iopub.status.busy": "2023-08-12T19:48:44.864199Z",
     "iopub.status.idle": "2023-08-12T19:48:44.869624Z",
     "shell.execute_reply": "2023-08-12T19:48:44.868412Z"
    },
    "papermill": {
     "duration": 0.1151,
     "end_time": "2023-08-12T19:48:44.872020",
     "exception": false,
     "start_time": "2023-08-12T19:48:44.756920",
     "status": "completed"
    },
    "tags": []
   },
   "outputs": [],
   "source": [
    "# estimators"
   ]
  },
  {
   "cell_type": "code",
   "execution_count": 109,
   "id": "3c082bfc",
   "metadata": {
    "execution": {
     "iopub.execute_input": "2023-08-12T19:48:45.089971Z",
     "iopub.status.busy": "2023-08-12T19:48:45.089290Z",
     "iopub.status.idle": "2023-08-12T19:48:45.096360Z",
     "shell.execute_reply": "2023-08-12T19:48:45.095244Z"
    },
    "papermill": {
     "duration": 0.120691,
     "end_time": "2023-08-12T19:48:45.099435",
     "exception": false,
     "start_time": "2023-08-12T19:48:44.978744",
     "status": "completed"
    },
    "tags": []
   },
   "outputs": [
    {
     "name": "stdout",
     "output_type": "stream",
     "text": [
      "Number of estimators: 1\n",
      "\n",
      "Estimator: classifier_1\n",
      "{'model__alpha': 0.0001}\n",
      "0.8433011141526034\n",
      "416.4734585285187\n",
      "\n"
     ]
    }
   ],
   "source": [
    "print(f\"Number of estimators: {len(estimators)}\\n\")\n",
    "for est in estimators:\n",
    "    print(f\"Estimator: {est[0]}\")\n",
    "#     print(est[1].best_estimator_)\n",
    "    print(est[1].best_params_)\n",
    "    print(est[1].best_score_)\n",
    "    print(est[1].refit_time_)\n",
    "    print()"
   ]
  },
  {
   "cell_type": "code",
   "execution_count": 110,
   "id": "36301af9",
   "metadata": {
    "execution": {
     "iopub.execute_input": "2023-08-12T19:48:45.313223Z",
     "iopub.status.busy": "2023-08-12T19:48:45.312862Z",
     "iopub.status.idle": "2023-08-12T19:48:45.320152Z",
     "shell.execute_reply": "2023-08-12T19:48:45.318668Z"
    },
    "papermill": {
     "duration": 0.119171,
     "end_time": "2023-08-12T19:48:45.322332",
     "exception": false,
     "start_time": "2023-08-12T19:48:45.203161",
     "status": "completed"
    },
    "tags": []
   },
   "outputs": [],
   "source": [
    "# Testing full capabilites of submit_v5  \n",
    "\n",
    "# # Feature dictionaries\n",
    "# sf1 = {'cat': ['isFrequentReviewer', 'rating'],\n",
    "#        'num': [\"audienceScore\", \"runtimeMinutes\", \"boxOffice\"]}\n",
    "\n",
    "# sf2 = {'cat': ['isFrequentReviewer', 'rating'],\n",
    "#        'num': [\"audienceScore\", \"runtimeMinutes\", \"boxOffice\"]}\n",
    "\n",
    "# sf3 = {'cat': ['isFrequentReviewer'],\n",
    "#         'num': ['releaseDiff', 'audienceScore', 'boxOffice'],\n",
    "#         'txt': ['reviewText', 'reviewerName', 'movieid', 'genre', 'director', \n",
    "#                          'ratingContents', 'distributor']}\n",
    "\n",
    "# # Individual classifiers\n",
    "# clf1 =  {'selected_model' : AdaBoostClassifier(), \n",
    "#           'selected_features' : sf1, \n",
    "#           'param_grid' : {\"model__n_estimators\": [50]},\n",
    "#           'vocab' : None,\n",
    "#           'vocab_usage' : 'tfidf',\n",
    "#           'strip_accents' : 'unicode', \n",
    "#           'add_countvec' : False}\n",
    "\n",
    "# clf2 =  {'selected_model' : RandomForestClassifier(), \n",
    "#           'selected_features' : sf2,\n",
    "#           'param_grid' : {\"model__n_estimators\": [50], \n",
    "#                           'model__criterion': ['gini']},\n",
    "#           'vocab' : None,\n",
    "#           'vocab_usage' : 'tfidf',\n",
    "#           'strip_accents' : 'unicode', \n",
    "#           'add_countvec' : False}\n",
    "\n",
    "# clf3 =  {'selected_model' : LogisticRegression(C=1, solver='saga', max_iter=100000), \n",
    "#           'selected_features' : sf3, \n",
    "#           'param_grid' : {'model__C' : [1],\n",
    "#                             'model__solver': ['saga'],\n",
    "#                             \"model__fit_intercept\" : [True],\n",
    "#                             \"model__dual\" : [False]},\n",
    "#           'vocab' : None,\n",
    "#           'vocab_usage' : 'tfidf',\n",
    "#           'strip_accents' : 'unicode', \n",
    "#           'add_countvec' : True}\n",
    "\n",
    "\n",
    "# # List of classifiers for voting\n",
    "# classifiers= [clf1, clf2, clf3]\n",
    "\n",
    "# # Final predictions \n",
    "# pred_df = submit_v5(classifiers=classifiers)"
   ]
  },
  {
   "cell_type": "code",
   "execution_count": 111,
   "id": "54317746",
   "metadata": {
    "execution": {
     "iopub.execute_input": "2023-08-12T19:48:45.533745Z",
     "iopub.status.busy": "2023-08-12T19:48:45.533250Z",
     "iopub.status.idle": "2023-08-12T19:48:45.548509Z",
     "shell.execute_reply": "2023-08-12T19:48:45.547372Z"
    },
    "papermill": {
     "duration": 0.124073,
     "end_time": "2023-08-12T19:48:45.550672",
     "exception": false,
     "start_time": "2023-08-12T19:48:45.426599",
     "status": "completed"
    },
    "tags": []
   },
   "outputs": [
    {
     "name": "stdout",
     "output_type": "stream",
     "text": [
      "(55315, 1)\n"
     ]
    },
    {
     "data": {
      "text/html": [
       "<div>\n",
       "<style scoped>\n",
       "    .dataframe tbody tr th:only-of-type {\n",
       "        vertical-align: middle;\n",
       "    }\n",
       "\n",
       "    .dataframe tbody tr th {\n",
       "        vertical-align: top;\n",
       "    }\n",
       "\n",
       "    .dataframe thead th {\n",
       "        text-align: right;\n",
       "    }\n",
       "</style>\n",
       "<table border=\"1\" class=\"dataframe\">\n",
       "  <thead>\n",
       "    <tr style=\"text-align: right;\">\n",
       "      <th></th>\n",
       "      <th>sentiment</th>\n",
       "    </tr>\n",
       "    <tr>\n",
       "      <th>id</th>\n",
       "      <th></th>\n",
       "    </tr>\n",
       "  </thead>\n",
       "  <tbody>\n",
       "    <tr>\n",
       "      <th>0</th>\n",
       "      <td>POSITIVE</td>\n",
       "    </tr>\n",
       "    <tr>\n",
       "      <th>1</th>\n",
       "      <td>POSITIVE</td>\n",
       "    </tr>\n",
       "    <tr>\n",
       "      <th>2</th>\n",
       "      <td>POSITIVE</td>\n",
       "    </tr>\n",
       "    <tr>\n",
       "      <th>3</th>\n",
       "      <td>POSITIVE</td>\n",
       "    </tr>\n",
       "    <tr>\n",
       "      <th>4</th>\n",
       "      <td>POSITIVE</td>\n",
       "    </tr>\n",
       "    <tr>\n",
       "      <th>...</th>\n",
       "      <td>...</td>\n",
       "    </tr>\n",
       "    <tr>\n",
       "      <th>55310</th>\n",
       "      <td>POSITIVE</td>\n",
       "    </tr>\n",
       "    <tr>\n",
       "      <th>55311</th>\n",
       "      <td>NEGATIVE</td>\n",
       "    </tr>\n",
       "    <tr>\n",
       "      <th>55312</th>\n",
       "      <td>NEGATIVE</td>\n",
       "    </tr>\n",
       "    <tr>\n",
       "      <th>55313</th>\n",
       "      <td>POSITIVE</td>\n",
       "    </tr>\n",
       "    <tr>\n",
       "      <th>55314</th>\n",
       "      <td>NEGATIVE</td>\n",
       "    </tr>\n",
       "  </tbody>\n",
       "</table>\n",
       "<p>55315 rows × 1 columns</p>\n",
       "</div>"
      ],
      "text/plain": [
       "      sentiment\n",
       "id             \n",
       "0      POSITIVE\n",
       "1      POSITIVE\n",
       "2      POSITIVE\n",
       "3      POSITIVE\n",
       "4      POSITIVE\n",
       "...         ...\n",
       "55310  POSITIVE\n",
       "55311  NEGATIVE\n",
       "55312  NEGATIVE\n",
       "55313  POSITIVE\n",
       "55314  NEGATIVE\n",
       "\n",
       "[55315 rows x 1 columns]"
      ]
     },
     "execution_count": 111,
     "metadata": {},
     "output_type": "execute_result"
    }
   ],
   "source": [
    "print(pred_df.shape)\n",
    "pred_df"
   ]
  },
  {
   "cell_type": "code",
   "execution_count": 112,
   "id": "3388d8f5",
   "metadata": {
    "execution": {
     "iopub.execute_input": "2023-08-12T19:48:45.765285Z",
     "iopub.status.busy": "2023-08-12T19:48:45.764847Z",
     "iopub.status.idle": "2023-08-12T19:48:45.768935Z",
     "shell.execute_reply": "2023-08-12T19:48:45.768165Z"
    },
    "papermill": {
     "duration": 0.115797,
     "end_time": "2023-08-12T19:48:45.771051",
     "exception": false,
     "start_time": "2023-08-12T19:48:45.655254",
     "status": "completed"
    },
    "tags": []
   },
   "outputs": [],
   "source": [
    "# pred_df_mode = pred_df.mode(axis='columns')\n",
    "# print(pred_df_mode.shape)\n",
    "# pred_df_mode"
   ]
  },
  {
   "cell_type": "code",
   "execution_count": 113,
   "id": "92b519f3",
   "metadata": {
    "execution": {
     "iopub.execute_input": "2023-08-12T19:48:45.987093Z",
     "iopub.status.busy": "2023-08-12T19:48:45.986660Z",
     "iopub.status.idle": "2023-08-12T19:48:46.008784Z",
     "shell.execute_reply": "2023-08-12T19:48:46.006927Z"
    },
    "papermill": {
     "duration": 0.134215,
     "end_time": "2023-08-12T19:48:46.012733",
     "exception": false,
     "start_time": "2023-08-12T19:48:45.878518",
     "status": "completed"
    },
    "tags": []
   },
   "outputs": [
    {
     "data": {
      "text/plain": [
       "sentiment\n",
       "POSITIVE     38717\n",
       "NEGATIVE     16598\n",
       "dtype: int64"
      ]
     },
     "execution_count": 113,
     "metadata": {},
     "output_type": "execute_result"
    }
   ],
   "source": [
    "pred_df.value_counts()"
   ]
  },
  {
   "cell_type": "markdown",
   "id": "750be8c5",
   "metadata": {
    "papermill": {
     "duration": 0.109385,
     "end_time": "2023-08-12T19:48:46.230144",
     "exception": false,
     "start_time": "2023-08-12T19:48:46.120759",
     "status": "completed"
    },
    "tags": []
   },
   "source": [
    "# NOTE: Move submit_v4 submissions below the suubmit_v4 function  "
   ]
  },
  {
   "cell_type": "code",
   "execution_count": 114,
   "id": "7606886f",
   "metadata": {
    "execution": {
     "iopub.execute_input": "2023-08-12T19:48:46.448486Z",
     "iopub.status.busy": "2023-08-12T19:48:46.448075Z",
     "iopub.status.idle": "2023-08-12T19:48:46.453289Z",
     "shell.execute_reply": "2023-08-12T19:48:46.452063Z"
    },
    "papermill": {
     "duration": 0.117672,
     "end_time": "2023-08-12T19:48:46.455548",
     "exception": false,
     "start_time": "2023-08-12T19:48:46.337876",
     "status": "completed"
    },
    "tags": []
   },
   "outputs": [],
   "source": [
    "# Try 'submit_v4' function with default params (LogisticRegression model)  \n",
    "\n",
    "# submit_v4()\n",
    "\n",
    "#Default params to this function gave a score of 0.8259 - improvement over previous score of 0.82563!"
   ]
  },
  {
   "cell_type": "code",
   "execution_count": 115,
   "id": "28bc0bdf",
   "metadata": {
    "execution": {
     "iopub.execute_input": "2023-08-12T19:48:46.674170Z",
     "iopub.status.busy": "2023-08-12T19:48:46.673694Z",
     "iopub.status.idle": "2023-08-12T19:48:46.678789Z",
     "shell.execute_reply": "2023-08-12T19:48:46.677708Z"
    },
    "papermill": {
     "duration": 0.118081,
     "end_time": "2023-08-12T19:48:46.681023",
     "exception": false,
     "start_time": "2023-08-12T19:48:46.562942",
     "status": "completed"
    },
    "tags": []
   },
   "outputs": [],
   "source": [
    "# Try out GridSearchCV on \"submit_v4\" function with param_grid  \n",
    "# param_grid = {\n",
    "#     \"model__C\": [0.1, 1, 5, 10]\n",
    "# }\n",
    "\n",
    "# submit_v4(selected_features={'txt': ['genre']}, param_grid=param_grid)"
   ]
  },
  {
   "cell_type": "markdown",
   "id": "3d734cc6",
   "metadata": {
    "papermill": {
     "duration": 0.106941,
     "end_time": "2023-08-12T19:48:46.895758",
     "exception": false,
     "start_time": "2023-08-12T19:48:46.788817",
     "status": "completed"
    },
    "tags": []
   },
   "source": [
    "### Try LinearSVC with GridSearchCV  "
   ]
  },
  {
   "cell_type": "code",
   "execution_count": 116,
   "id": "64805436",
   "metadata": {
    "execution": {
     "iopub.execute_input": "2023-08-12T19:48:47.116928Z",
     "iopub.status.busy": "2023-08-12T19:48:47.116494Z",
     "iopub.status.idle": "2023-08-12T19:48:47.121612Z",
     "shell.execute_reply": "2023-08-12T19:48:47.120451Z"
    },
    "papermill": {
     "duration": 0.120404,
     "end_time": "2023-08-12T19:48:47.124020",
     "exception": false,
     "start_time": "2023-08-12T19:48:47.003616",
     "status": "completed"
    },
    "tags": []
   },
   "outputs": [],
   "source": [
    "# all_dict = {'cat': [\"isFrequentReviewer\", \"rating\", \"originalLanguage\"],\n",
    "#              'num': [\"audienceScore\", \"runtimeMinutes\", \"boxOffice\"],\n",
    "#              'txt': ['reviewText', 'reviewerName', 'movieid', 'genre', 'director']}\n",
    "\n",
    "# param_grid_svc = {\n",
    "#     \"model__C\": [0.1, 1, 10, 100]\n",
    "# }\n",
    "# param_grid_svc"
   ]
  },
  {
   "cell_type": "code",
   "execution_count": 117,
   "id": "0891ebb4",
   "metadata": {
    "execution": {
     "iopub.execute_input": "2023-08-12T19:48:47.347244Z",
     "iopub.status.busy": "2023-08-12T19:48:47.346817Z",
     "iopub.status.idle": "2023-08-12T19:48:47.351383Z",
     "shell.execute_reply": "2023-08-12T19:48:47.350350Z"
    },
    "papermill": {
     "duration": 0.119261,
     "end_time": "2023-08-12T19:48:47.353937",
     "exception": false,
     "start_time": "2023-08-12T19:48:47.234676",
     "status": "completed"
    },
    "tags": []
   },
   "outputs": [],
   "source": [
    "# LinearSCV on single feature  \n",
    "\n",
    "# submit_v4(selected_model=LinearSVC(max_iter=100000, random_state=42), selected_features={'num': [\"audienceScore\"]}, param_grid=param_grid_svc)\n",
    "\n",
    "# Comment: LinearSVC even on single column feature set takes too long to converge."
   ]
  },
  {
   "cell_type": "code",
   "execution_count": 118,
   "id": "783c7693",
   "metadata": {
    "execution": {
     "iopub.execute_input": "2023-08-12T19:48:47.571178Z",
     "iopub.status.busy": "2023-08-12T19:48:47.570749Z",
     "iopub.status.idle": "2023-08-12T19:48:47.575781Z",
     "shell.execute_reply": "2023-08-12T19:48:47.574596Z"
    },
    "papermill": {
     "duration": 0.115841,
     "end_time": "2023-08-12T19:48:47.578101",
     "exception": false,
     "start_time": "2023-08-12T19:48:47.462260",
     "status": "completed"
    },
    "tags": []
   },
   "outputs": [],
   "source": [
    "# LinearSCV on all available features\n",
    "\n",
    "# submit_v4(selected_model=LinearSVC(max_iter=100000, random_state=42), selected_features=all_dict, param_grid=param_grid_svc)\n",
    "\n",
    "# (Update): This took 66 mins to run and gave a public score of 0.84295 (lesser than logreg gridsearchcv wwhich gave 0.84441). Best C was 1.0.\n"
   ]
  },
  {
   "cell_type": "markdown",
   "id": "be100ad1",
   "metadata": {
    "papermill": {
     "duration": 0.10866,
     "end_time": "2023-08-12T19:48:47.794038",
     "exception": false,
     "start_time": "2023-08-12T19:48:47.685378",
     "status": "completed"
    },
    "tags": []
   },
   "source": [
    "### Boosting techniques  "
   ]
  },
  {
   "cell_type": "code",
   "execution_count": 119,
   "id": "d9d23767",
   "metadata": {
    "execution": {
     "iopub.execute_input": "2023-08-12T19:48:48.010985Z",
     "iopub.status.busy": "2023-08-12T19:48:48.010523Z",
     "iopub.status.idle": "2023-08-12T19:48:48.016040Z",
     "shell.execute_reply": "2023-08-12T19:48:48.015118Z"
    },
    "papermill": {
     "duration": 0.117627,
     "end_time": "2023-08-12T19:48:48.018707",
     "exception": false,
     "start_time": "2023-08-12T19:48:47.901080",
     "status": "completed"
    },
    "tags": []
   },
   "outputs": [],
   "source": [
    "# adc = AdaBoostClassifier(estimator=LogisticRegression(C=5, solver=\"saga\", max_iter=100000), n_estimators=50)\n",
    "# adc"
   ]
  },
  {
   "cell_type": "code",
   "execution_count": 120,
   "id": "006cb13c",
   "metadata": {
    "execution": {
     "iopub.execute_input": "2023-08-12T19:48:48.237308Z",
     "iopub.status.busy": "2023-08-12T19:48:48.236922Z",
     "iopub.status.idle": "2023-08-12T19:48:48.241539Z",
     "shell.execute_reply": "2023-08-12T19:48:48.240486Z"
    },
    "papermill": {
     "duration": 0.117043,
     "end_time": "2023-08-12T19:48:48.244025",
     "exception": false,
     "start_time": "2023-08-12T19:48:48.126982",
     "status": "completed"
    },
    "tags": []
   },
   "outputs": [],
   "source": [
    "# submit_v4(selected_model=adc, selected_features={'num': [\"audienceScore\"]}, param_grid=None)"
   ]
  },
  {
   "cell_type": "code",
   "execution_count": 121,
   "id": "2a5925b3",
   "metadata": {
    "execution": {
     "iopub.execute_input": "2023-08-12T19:48:48.463280Z",
     "iopub.status.busy": "2023-08-12T19:48:48.462860Z",
     "iopub.status.idle": "2023-08-12T19:48:48.466900Z",
     "shell.execute_reply": "2023-08-12T19:48:48.466060Z"
    },
    "papermill": {
     "duration": 0.115436,
     "end_time": "2023-08-12T19:48:48.468964",
     "exception": false,
     "start_time": "2023-08-12T19:48:48.353528",
     "status": "completed"
    },
    "tags": []
   },
   "outputs": [],
   "source": [
    "# submit_v4(selected_model=adc, selected_features=all_dict, param_grid=None)\n",
    "\n",
    "# Took 1 hour 15 mins to run and gave a public score of only 0.71089. Discarded."
   ]
  },
  {
   "cell_type": "markdown",
   "id": "3b765a03",
   "metadata": {
    "papermill": {
     "duration": 0.11203,
     "end_time": "2023-08-12T19:48:48.687615",
     "exception": false,
     "start_time": "2023-08-12T19:48:48.575585",
     "status": "completed"
    },
    "tags": []
   },
   "source": [
    "### LightGBM  "
   ]
  },
  {
   "cell_type": "code",
   "execution_count": 122,
   "id": "72c7517d",
   "metadata": {
    "execution": {
     "iopub.execute_input": "2023-08-12T19:48:48.929404Z",
     "iopub.status.busy": "2023-08-12T19:48:48.929000Z",
     "iopub.status.idle": "2023-08-12T19:48:48.933446Z",
     "shell.execute_reply": "2023-08-12T19:48:48.932421Z"
    },
    "papermill": {
     "duration": 0.1353,
     "end_time": "2023-08-12T19:48:48.935891",
     "exception": false,
     "start_time": "2023-08-12T19:48:48.800591",
     "status": "completed"
    },
    "tags": []
   },
   "outputs": [],
   "source": [
    "# lgb = ltb.LGBMClassifier()\n",
    "# lgb"
   ]
  },
  {
   "cell_type": "code",
   "execution_count": 123,
   "id": "cf8129e9",
   "metadata": {
    "execution": {
     "iopub.execute_input": "2023-08-12T19:48:49.153658Z",
     "iopub.status.busy": "2023-08-12T19:48:49.152901Z",
     "iopub.status.idle": "2023-08-12T19:48:49.157311Z",
     "shell.execute_reply": "2023-08-12T19:48:49.156158Z"
    },
    "papermill": {
     "duration": 0.115385,
     "end_time": "2023-08-12T19:48:49.159675",
     "exception": false,
     "start_time": "2023-08-12T19:48:49.044290",
     "status": "completed"
    },
    "tags": []
   },
   "outputs": [],
   "source": [
    "# Try LightGBM with default settings\n",
    "# (Update): Public score only 0.77713. It was fast, took less than 5 mins (without GridSearchCV)\n",
    "\n",
    "# submit_v4(selected_model=ltb.LGBMClassifier(), selected_features=all_dict, param_grid=None)"
   ]
  },
  {
   "cell_type": "markdown",
   "id": "06ac1bc5",
   "metadata": {
    "papermill": {
     "duration": 0.110147,
     "end_time": "2023-08-12T19:48:49.381657",
     "exception": false,
     "start_time": "2023-08-12T19:48:49.271510",
     "status": "completed"
    },
    "tags": []
   },
   "source": [
    "## Feature Engineering"
   ]
  },
  {
   "cell_type": "markdown",
   "id": "fa782dbb",
   "metadata": {
    "papermill": {
     "duration": 0.10658,
     "end_time": "2023-08-12T19:48:49.597793",
     "exception": false,
     "start_time": "2023-08-12T19:48:49.491213",
     "status": "completed"
    },
    "tags": []
   },
   "source": [
    "### Plan  \n",
    "* Add a new column 'reviewWC' which has word count of 'reviewText'  \n",
    "    * Check if there is any relationship between 'reviewWC' and 'sentiment'\n",
    "* Work on vocabulary\n",
    "     * Use TfidfVectorizer and find out the vocabulary of 'reviewText' column for various ngrams\n",
    "     * Use RecursiveFeatureElimination (RFE) or RFECV to select 1000 top words/vocab for each ngram\n",
    "     * Use the final vocab (1000-3000 words) in the model and see how it performs compared to whole vocab\n",
    "\n",
    "`(Update): Code incorporated into the \"select_features\" function  `  \n",
    "`(Update): Many other new features incorporated into the \"select_features\" function too  `  \n",
    "\n"
   ]
  },
  {
   "cell_type": "markdown",
   "id": "ecc95b0d",
   "metadata": {
    "papermill": {
     "duration": 0.109694,
     "end_time": "2023-08-12T19:48:49.814174",
     "exception": false,
     "start_time": "2023-08-12T19:48:49.704480",
     "status": "completed"
    },
    "tags": []
   },
   "source": [
    "# Back to vocab after success of version 63  "
   ]
  },
  {
   "cell_type": "code",
   "execution_count": 124,
   "id": "371a63a3",
   "metadata": {
    "execution": {
     "iopub.execute_input": "2023-08-12T19:48:50.052673Z",
     "iopub.status.busy": "2023-08-12T19:48:50.051736Z",
     "iopub.status.idle": "2023-08-12T19:48:50.086859Z",
     "shell.execute_reply": "2023-08-12T19:48:50.085996Z"
    },
    "papermill": {
     "duration": 0.151165,
     "end_time": "2023-08-12T19:48:50.090303",
     "exception": false,
     "start_time": "2023-08-12T19:48:49.939138",
     "status": "completed"
    },
    "tags": []
   },
   "outputs": [],
   "source": [
    "def submit_v4(selected_model=LogisticRegression(C=1, solver='liblinear', max_iter=100000), \n",
    "              selected_features={'txt': ['reviewText']}, \n",
    "              param_grid=None,\n",
    "              vocab=None,\n",
    "              vocab_usage='tfidf',\n",
    "              strip_accents='unicode', \n",
    "              add_countvec=False):\n",
    "    \n",
    "    print(\"\\nRunning the submit_v4 function...\")\n",
    "    \n",
    "    # Fine tune selected_features\n",
    "    if add_countvec:\n",
    "        if 'txt' in selected_features.keys():\n",
    "            if \"reviewText_2\" not in selected_features['txt']:\n",
    "                selected_features['txt'].append('reviewText_2')\n",
    "    if vocab:\n",
    "        if 'txt' in selected_features.keys():\n",
    "            if \"reviewText_3\" not in selected_features['txt']:\n",
    "                selected_features['txt'].append('reviewText_3')\n",
    "    print(f\"\\nSelected features: {selected_features}\")\n",
    "\n",
    "    \n",
    "    \n",
    "    # Build Pipeline\n",
    "    pipe = build_pipeline(selected_model, selected_features, param_grid=param_grid, \n",
    "                          vocab=vocab, vocab_usage='tfidf', \n",
    "                          strip_accents=strip_accents, add_countvec=add_countvec)\n",
    "    print(pipe)\n",
    "\n",
    "    \n",
    "    \n",
    "    # Features list\n",
    "    features = []\n",
    "    for item in selected_features.values():\n",
    "        features.extend(item)\n",
    " \n",
    "\n",
    "    # Merge and preprocess train and movies data  \n",
    "    merged = select_features(load_csv(\"train\"), load_csv(\"movies\"), row_thresh_null=None)    # Decide if you want to drop any rows containing lot of nulls\n",
    "    # Impute missing numerical values  \n",
    "    # Simple Imputer for ['audienceScore', 'runtimeMinutes', 'boxOffice'] and 'releaseDate' columns\n",
    "    si = SimpleImputer(strategy='median')\n",
    "    merged[['audienceScore', 'runtimeMinutes', 'boxOffice']] = si.fit_transform(merged[['audienceScore', 'runtimeMinutes', 'boxOffice']])\n",
    "    merged['releaseDate'] = merged[\"releaseDate\"].fillna(merged[\"releaseDate\"].median())    \n",
    "    # Add new columns as needed  \n",
    "    if add_countvec:\n",
    "        merged['reviewText_2'] = merged['reviewText']\n",
    "    if vocab:\n",
    "        merged['reviewText_3'] = merged['reviewText']\n",
    "        \n",
    "    X_train = merged.drop(labels=\"sentiment\", axis=1)\n",
    "    y_train = merged[\"sentiment\"]\n",
    "\n",
    "    X_train = X_train[features]\n",
    "    \n",
    "    \n",
    "    # Check1\n",
    "    print(\"\\nCheck 1 complete.\")\n",
    "    print(f\"Shape of X_train: {X_train.shape}\")\n",
    "    print(f\"Features in X_train: {X_train.columns}\")\n",
    "#     print(X_train.head())\n",
    "    \n",
    "    \n",
    "    # Fit \n",
    "    print(\"\\nTraining started with full pipeline...\")\n",
    "    pipe.fit(X_train, y_train)\n",
    "    \n",
    "    # Check2\n",
    "    print(\"\\nCheck 2 complete.\")\n",
    "    print(\"Details of the best model using full pipeline (GridSearchCV) on X_train: \")\n",
    "    print(f\"Best Params: {pipe.best_params_}\")\n",
    "    print(f\"Best Score: {pipe.best_score_}\")\n",
    "    \n",
    "    print(predict_on_missing_review_data(pipe, features, merged))    # Function defined above\n",
    "    \n",
    "        \n",
    "    # Predict on test.csv file\n",
    "    \n",
    "    # Merge and preprocess test and movies data  \n",
    "    merged_test = select_features(load_csv(\"test\"), load_csv(\"movies\"))\n",
    "    # Transform ['audienceScore', 'runtimeMinutes', 'boxOffice'] columns in merged_test using 'si' fitted on 'merged' df  \n",
    "    merged_test[['audienceScore', 'runtimeMinutes', 'boxOffice']] = si.transform(merged_test[['audienceScore', 'runtimeMinutes', 'boxOffice']])\n",
    "    # Fill 'releaseDate' column in 'merged_test' df with median from the train (merged) df  \n",
    "    merged_test['releaseDate'] = merged_test[\"releaseDate\"].fillna(merged[\"releaseDate\"].median())\n",
    "    # Add new columns as needed \n",
    "    if add_countvec:\n",
    "        merged_test['reviewText_2'] = merged_test['reviewText']\n",
    "    if vocab:\n",
    "        merged_test['reviewText_3'] = merged_test['reviewText']\n",
    "        \n",
    "    X_test = merged_test.copy()\n",
    "\n",
    "    X_test = X_test[features]\n",
    "    \n",
    "    \n",
    "    # Check3\n",
    "    print(\"\\nCheck 3 complete.\")\n",
    "    print(f\"Shape of X_test: {X_test.shape}\")\n",
    "    print(f\"Features in X_test: {X_test.columns}\")\n",
    "#     print(X_test.head())\n",
    "    \n",
    "    y_pred = pipe.predict(X_test)\n",
    "    \n",
    "    # Check4\n",
    "    print(\"\\nCheck 4 complete.\")\n",
    "#     cv_results_df = pd.DataFrame(pipe.cv_results_)\n",
    "    print(\"Details of the best model using full pipeline (GridSearchCV) on X_train: \")\n",
    "    print(f\"Best Estimator: {pipe.best_estimator_}\")\n",
    "    print(f\"Best Params: {pipe.best_params_}\")\n",
    "    print(f\"Best Score: {pipe.best_score_}\")\n",
    "    print(f\"Best Index: {pipe.best_index_}\")\n",
    "    print(f\"Refit Time: {pipe.refit_time_}\")\n",
    "#     print(f\"Shape of CV results dataframe: {cv_results_df.shape}\")\n",
    "    \n",
    "    pred_df = pd.DataFrame(y_pred)\n",
    "    pred_df.columns = [\"sentiment\"]\n",
    "    pred_df.index.name = \"id\"\n",
    "    pred_df.to_csv(\"submission.csv\")\n",
    "    \n",
    "    print(\"\\nSuccessfully created the submission file!!!\")\n",
    "    \n",
    "    return pipe.cv_results_"
   ]
  },
  {
   "cell_type": "code",
   "execution_count": 125,
   "id": "6ec74dfd",
   "metadata": {
    "execution": {
     "iopub.execute_input": "2023-08-12T19:48:50.333984Z",
     "iopub.status.busy": "2023-08-12T19:48:50.333025Z",
     "iopub.status.idle": "2023-08-12T19:48:50.341247Z",
     "shell.execute_reply": "2023-08-12T19:48:50.340008Z"
    },
    "papermill": {
     "duration": 0.141655,
     "end_time": "2023-08-12T19:48:50.343760",
     "exception": false,
     "start_time": "2023-08-12T19:48:50.202105",
     "status": "completed"
    },
    "tags": []
   },
   "outputs": [
    {
     "data": {
      "text/plain": [
       "Index(['movieid', 'reviewerName', 'isFrequentReviewer', 'reviewText',\n",
       "       'sentiment', 'title', 'audienceScore', 'rating', 'ratingContents',\n",
       "       'releaseDateTheaters', 'releaseDateStreaming', 'runtimeMinutes',\n",
       "       'genre', 'originalLanguage', 'director', 'boxOffice', 'distributor',\n",
       "       'soundType', 'reviewYN', 'reviewWC', 'genreSorted', 'rcSorted',\n",
       "       'releaseDate', 'releaseYear', 'releaseMonth', 'releaseDiff'],\n",
       "      dtype='object')"
      ]
     },
     "execution_count": 125,
     "metadata": {},
     "output_type": "execute_result"
    }
   ],
   "source": [
    "merged.columns"
   ]
  },
  {
   "cell_type": "code",
   "execution_count": 126,
   "id": "057685f6",
   "metadata": {
    "execution": {
     "iopub.execute_input": "2023-08-12T19:48:50.566945Z",
     "iopub.status.busy": "2023-08-12T19:48:50.566025Z",
     "iopub.status.idle": "2023-08-12T19:48:50.580538Z",
     "shell.execute_reply": "2023-08-12T19:48:50.579505Z"
    },
    "papermill": {
     "duration": 0.127312,
     "end_time": "2023-08-12T19:48:50.583037",
     "exception": false,
     "start_time": "2023-08-12T19:48:50.455725",
     "status": "completed"
    },
    "tags": []
   },
   "outputs": [],
   "source": [
    "# Best #2\n",
    "v80_dict = {'cat': ['isFrequentReviewer', 'audScoreBins', 'boxOfficeBins'], \n",
    "                  'txt': ['reviewText', 'reviewerName', 'movieid', 'genre', 'director', \n",
    "                          'ratingContents', 'distributor']}\n",
    "# Best #1\n",
    "v88_dict = {'cat': ['isFrequentReviewer', 'audScoreBins', 'boxOfficeBins'],\n",
    "            'num': ['releaseDiff'],\n",
    "            'txt': ['reviewText', 'reviewerName', 'movieid', 'genre', 'director', \n",
    "                         'ratingContents', 'distributor']}\n",
    "\n",
    "v92_dict = {'cat': ['isFrequentReviewer', 'audScoreBins', 'boxOfficeBins', 'releaseDiffBins'],\n",
    "            'txt': ['reviewText', 'reviewerName', 'title', 'genre', 'director', \n",
    "                         'ratingContents', 'distributor']}\n",
    "\n",
    "# Best univariable datapoints dict\n",
    "best_uni_dict = {'cat': [\"isFrequentReviewer\", \"audScoreBins\"],\n",
    "                 'txt': ['reviewText','movieid', 'director', \"ratingContents\"]}\n",
    "\n",
    "# param_grids for LogisticRegression  \n",
    "\n",
    "# Best #1  \n",
    "# param_grid = {\n",
    "#     'model__C' : [1],\n",
    "#     'model__solver': ['saga'],\n",
    "#     \"model__fit_intercept\" : [True],\n",
    "#     \"model__dual\" : [False]\n",
    "#     }\n",
    "\n",
    "# working\n",
    "param_grid = {\n",
    "    'model__C' : [1],\n",
    "    'model__solver': ['saga'],\n",
    "    \"model__fit_intercept\" : [True],\n",
    "    \"model__dual\" : [False],\n",
    "#     \"model__class_weight\": ['balanced', None]\n",
    "}\n",
    "\n",
    "\n",
    "# param_grids for LinearSVC  \n",
    "\n",
    "# param_grid = {\n",
    "#     'model__C' : [1, 10, 20],\n",
    "#     'model__loss': ['hinge', 'squared_hinge'],\n",
    "#     \"model__fit_intercept\" : [True, False],\n",
    "# #     \"model__dual\" : [True, False] \n",
    "# }\n",
    "\n",
    "svm = LinearSVC(max_iter=10000, random_state=42)    # LinearSVC\n",
    "\n",
    "\n",
    "# Local testing\n",
    "# selected_mov = {'num': ['audienceScore', 'boxOffice', 'releaseDiff'], \n",
    "#                 'txt': ['movieid', 'genre', 'director', \n",
    "#                          'ratingContents', 'distributor']}\n",
    "# results = submit_v4(\n",
    "#             selected_features={'num': ['boxOffice']},\n",
    "#             add_countvec=False,\n",
    "#             vocab=None,\n",
    "#             vocab_usage='tfidf',\n",
    "#             param_grid=param_grid\n",
    "#          )\n",
    "\n",
    "# results = submit_v4(selected_model = DummyClassifier(strategy='constant', constant='NEGATIVE'),\n",
    "#             selected_features={'num': ['boxOffice']},\n",
    "#             add_countvec=False,\n",
    "#             vocab=None,\n",
    "#             vocab_usage='tfidf',\n",
    "#             param_grid={'model__strategy' : ['constant']}\n",
    "#          )\n",
    "\n",
    "# Main submission\n",
    "\n",
    "# results = submit_v4(\n",
    "#     selected_features=v88_dict,\n",
    "#     add_countvec=False,\n",
    "#     vocab=common_1_2_3_grams,\n",
    "#     vocab_usage='tfidf',\n",
    "#     param_grid=param_grid\n",
    "#     )\n",
    "\n",
    "# results"
   ]
  },
  {
   "cell_type": "markdown",
   "id": "eabb7fbe",
   "metadata": {
    "papermill": {
     "duration": 0.10779,
     "end_time": "2023-08-12T19:48:50.800655",
     "exception": false,
     "start_time": "2023-08-12T19:48:50.692865",
     "status": "completed"
    },
    "tags": []
   },
   "source": [
    "### ratingContents analysis  "
   ]
  },
  {
   "cell_type": "code",
   "execution_count": 127,
   "id": "e509dfc9",
   "metadata": {
    "execution": {
     "iopub.execute_input": "2023-08-12T19:48:51.017297Z",
     "iopub.status.busy": "2023-08-12T19:48:51.016903Z",
     "iopub.status.idle": "2023-08-12T19:48:51.022175Z",
     "shell.execute_reply": "2023-08-12T19:48:51.020899Z"
    },
    "papermill": {
     "duration": 0.11475,
     "end_time": "2023-08-12T19:48:51.024425",
     "exception": false,
     "start_time": "2023-08-12T19:48:50.909675",
     "status": "completed"
    },
    "tags": []
   },
   "outputs": [],
   "source": [
    "# Try string split  \n",
    "# s = \"comedy, animation, adventure, fantasy\"\n",
    "# (\",\").join(sorted(s.split(\", \")))"
   ]
  },
  {
   "cell_type": "code",
   "execution_count": 128,
   "id": "d1c8b8cc",
   "metadata": {
    "execution": {
     "iopub.execute_input": "2023-08-12T19:48:51.238046Z",
     "iopub.status.busy": "2023-08-12T19:48:51.237554Z",
     "iopub.status.idle": "2023-08-12T19:48:51.244515Z",
     "shell.execute_reply": "2023-08-12T19:48:51.242913Z"
    },
    "papermill": {
     "duration": 0.117023,
     "end_time": "2023-08-12T19:48:51.247359",
     "exception": false,
     "start_time": "2023-08-12T19:48:51.130336",
     "status": "completed"
    },
    "tags": []
   },
   "outputs": [],
   "source": [
    "# ratingContents_analysis = merged[[\"ratingContents\", \"sentiment\"]].copy()\n",
    "# print(ratingContents_analysis.head())\n",
    "# ratingContents_analysis[\"rcSorted\"] = ratingContents_analysis[\"ratingContents\"].apply(lambda x: (\",\").join(sorted(x.strip(\"][\").split(\", \"))))\n",
    "# ratingContents_analysis[\"rcSorted\"] = ratingContents_analysis[\"rcSorted\"].apply(lambda x: re.sub(r\"'\", \"\", x))\n",
    "# ratingContents_analysis[\"rcSorted\"] = ratingContents_analysis[\"rcSorted\"].apply(lambda x: re.sub(r\"[/\\s]\", \"_\", x))\n",
    "# ratingContents_analysis.head(10)"
   ]
  },
  {
   "cell_type": "code",
   "execution_count": 129,
   "id": "c77b1a11",
   "metadata": {
    "execution": {
     "iopub.execute_input": "2023-08-12T19:48:51.461044Z",
     "iopub.status.busy": "2023-08-12T19:48:51.459817Z",
     "iopub.status.idle": "2023-08-12T19:48:51.465228Z",
     "shell.execute_reply": "2023-08-12T19:48:51.464091Z"
    },
    "papermill": {
     "duration": 0.115178,
     "end_time": "2023-08-12T19:48:51.467668",
     "exception": false,
     "start_time": "2023-08-12T19:48:51.352490",
     "status": "completed"
    },
    "tags": []
   },
   "outputs": [],
   "source": [
    "# cvec_rc = CountVectorizer(ngram_range=(1,1))\n",
    "# cvec_rc.fit(ratingContents_analysis['rcSorted'])\n",
    "# # len(cvec_rc.vocabulary_), cvec_rc.vocabulary_"
   ]
  },
  {
   "cell_type": "code",
   "execution_count": 130,
   "id": "73c98a5a",
   "metadata": {
    "execution": {
     "iopub.execute_input": "2023-08-12T19:48:51.679400Z",
     "iopub.status.busy": "2023-08-12T19:48:51.678925Z",
     "iopub.status.idle": "2023-08-12T19:48:51.684119Z",
     "shell.execute_reply": "2023-08-12T19:48:51.682888Z"
    },
    "papermill": {
     "duration": 0.113574,
     "end_time": "2023-08-12T19:48:51.686645",
     "exception": false,
     "start_time": "2023-08-12T19:48:51.573071",
     "status": "completed"
    },
    "tags": []
   },
   "outputs": [],
   "source": [
    "# genre_testing = cvec_g.transform(merged[\"genre\"])\n",
    "# print(genre_testing)"
   ]
  },
  {
   "cell_type": "markdown",
   "id": "4e6632e6",
   "metadata": {
    "papermill": {
     "duration": 0.109117,
     "end_time": "2023-08-12T19:48:51.900494",
     "exception": false,
     "start_time": "2023-08-12T19:48:51.791377",
     "status": "completed"
    },
    "tags": []
   },
   "source": [
    "## Statistical tests  "
   ]
  },
  {
   "cell_type": "markdown",
   "id": "f5e5c6ce",
   "metadata": {
    "papermill": {
     "duration": 0.109478,
     "end_time": "2023-08-12T19:48:52.116913",
     "exception": false,
     "start_time": "2023-08-12T19:48:52.007435",
     "status": "completed"
    },
    "tags": []
   },
   "source": [
    "[Go to genre](#genre_analysis)"
   ]
  },
  {
   "cell_type": "code",
   "execution_count": 131,
   "id": "05eb7a76",
   "metadata": {
    "execution": {
     "iopub.execute_input": "2023-08-12T19:48:52.337441Z",
     "iopub.status.busy": "2023-08-12T19:48:52.336660Z",
     "iopub.status.idle": "2023-08-12T19:48:52.340616Z",
     "shell.execute_reply": "2023-08-12T19:48:52.339873Z"
    },
    "papermill": {
     "duration": 0.117203,
     "end_time": "2023-08-12T19:48:52.342804",
     "exception": false,
     "start_time": "2023-08-12T19:48:52.225601",
     "status": "completed"
    },
    "tags": []
   },
   "outputs": [],
   "source": [
    "# print(merged['boxOffice'].head())\n",
    "# merged[\"boxOffice\"].describe()"
   ]
  },
  {
   "cell_type": "code",
   "execution_count": 132,
   "id": "992c0c4e",
   "metadata": {
    "execution": {
     "iopub.execute_input": "2023-08-12T19:48:52.562103Z",
     "iopub.status.busy": "2023-08-12T19:48:52.561011Z",
     "iopub.status.idle": "2023-08-12T19:48:52.566005Z",
     "shell.execute_reply": "2023-08-12T19:48:52.565103Z"
    },
    "papermill": {
     "duration": 0.116365,
     "end_time": "2023-08-12T19:48:52.568460",
     "exception": false,
     "start_time": "2023-08-12T19:48:52.452095",
     "status": "completed"
    },
    "tags": []
   },
   "outputs": [],
   "source": [
    "# Function for independent samples t-test on numerical columns  \n",
    "# def ttest_ind(feature):\n",
    "#     pos_grp = merged[feature].loc[merged['sentiment'] == \"POSITIVE\"]\n",
    "#     neg_grp = merged[feature].loc[merged['sentiment'] == \"NEGATIVE\"]\n",
    "\n",
    "#     print(pos_grp.shape, neg_grp.shape)\n",
    "#     print(pos_grp.describe(), neg_grp.describe())\n",
    "\n",
    "#     return stats.ttest_ind(pos_grp, neg_grp)"
   ]
  },
  {
   "cell_type": "code",
   "execution_count": 133,
   "id": "d1a77bf8",
   "metadata": {
    "execution": {
     "iopub.execute_input": "2023-08-12T19:48:52.783225Z",
     "iopub.status.busy": "2023-08-12T19:48:52.782012Z",
     "iopub.status.idle": "2023-08-12T19:48:52.787286Z",
     "shell.execute_reply": "2023-08-12T19:48:52.786015Z"
    },
    "papermill": {
     "duration": 0.115426,
     "end_time": "2023-08-12T19:48:52.789807",
     "exception": false,
     "start_time": "2023-08-12T19:48:52.674381",
     "status": "completed"
    },
    "tags": []
   },
   "outputs": [],
   "source": [
    "# ttest_ind('boxOffice')"
   ]
  },
  {
   "cell_type": "code",
   "execution_count": 134,
   "id": "30f06842",
   "metadata": {
    "execution": {
     "iopub.execute_input": "2023-08-12T19:48:53.008652Z",
     "iopub.status.busy": "2023-08-12T19:48:53.008159Z",
     "iopub.status.idle": "2023-08-12T19:48:53.013939Z",
     "shell.execute_reply": "2023-08-12T19:48:53.012516Z"
    },
    "papermill": {
     "duration": 0.118532,
     "end_time": "2023-08-12T19:48:53.016732",
     "exception": false,
     "start_time": "2023-08-12T19:48:52.898200",
     "status": "completed"
    },
    "tags": []
   },
   "outputs": [],
   "source": [
    "# ttest_ind('runtimeMinutes')"
   ]
  },
  {
   "cell_type": "code",
   "execution_count": 135,
   "id": "40e71717",
   "metadata": {
    "execution": {
     "iopub.execute_input": "2023-08-12T19:48:53.233280Z",
     "iopub.status.busy": "2023-08-12T19:48:53.232809Z",
     "iopub.status.idle": "2023-08-12T19:48:53.238139Z",
     "shell.execute_reply": "2023-08-12T19:48:53.236745Z"
    },
    "papermill": {
     "duration": 0.117067,
     "end_time": "2023-08-12T19:48:53.240319",
     "exception": false,
     "start_time": "2023-08-12T19:48:53.123252",
     "status": "completed"
    },
    "tags": []
   },
   "outputs": [],
   "source": [
    "# ttest_ind('audienceScore')"
   ]
  },
  {
   "cell_type": "code",
   "execution_count": 136,
   "id": "79657de6",
   "metadata": {
    "execution": {
     "iopub.execute_input": "2023-08-12T19:48:53.460809Z",
     "iopub.status.busy": "2023-08-12T19:48:53.460383Z",
     "iopub.status.idle": "2023-08-12T19:48:53.465928Z",
     "shell.execute_reply": "2023-08-12T19:48:53.464536Z"
    },
    "papermill": {
     "duration": 0.118224,
     "end_time": "2023-08-12T19:48:53.468248",
     "exception": false,
     "start_time": "2023-08-12T19:48:53.350024",
     "status": "completed"
    },
    "tags": []
   },
   "outputs": [],
   "source": [
    "# sns.boxplot(x=merged['sentiment'], y=merged['boxOffice'])"
   ]
  },
  {
   "cell_type": "markdown",
   "id": "acc72944",
   "metadata": {
    "papermill": {
     "duration": 0.109718,
     "end_time": "2023-08-12T19:48:53.685369",
     "exception": false,
     "start_time": "2023-08-12T19:48:53.575651",
     "status": "completed"
    },
    "tags": []
   },
   "source": [
    "## <div id='genre_analysis'>Genre analysis</div>"
   ]
  },
  {
   "cell_type": "code",
   "execution_count": 137,
   "id": "a0d0f8a1",
   "metadata": {
    "execution": {
     "iopub.execute_input": "2023-08-12T19:48:53.902185Z",
     "iopub.status.busy": "2023-08-12T19:48:53.901272Z",
     "iopub.status.idle": "2023-08-12T19:48:53.906296Z",
     "shell.execute_reply": "2023-08-12T19:48:53.905537Z"
    },
    "papermill": {
     "duration": 0.116321,
     "end_time": "2023-08-12T19:48:53.908576",
     "exception": false,
     "start_time": "2023-08-12T19:48:53.792255",
     "status": "completed"
    },
    "tags": []
   },
   "outputs": [],
   "source": [
    "# genre_analysis = merged[[\"genre\", \"genreSorted\", \"sentiment\"]].copy()\n",
    "# # print(genre_analysis.head())\n",
    "# # genre_analysis[\"genre\"] = genre_analysis[\"genre\"].apply(lambda x: (\",\").join(sorted(x.split(\", \"))))\n",
    "# genre_analysis.head()"
   ]
  },
  {
   "cell_type": "code",
   "execution_count": 138,
   "id": "f5fb26ca",
   "metadata": {
    "execution": {
     "iopub.execute_input": "2023-08-12T19:48:54.129053Z",
     "iopub.status.busy": "2023-08-12T19:48:54.128203Z",
     "iopub.status.idle": "2023-08-12T19:48:54.133318Z",
     "shell.execute_reply": "2023-08-12T19:48:54.132527Z"
    },
    "papermill": {
     "duration": 0.117521,
     "end_time": "2023-08-12T19:48:54.135658",
     "exception": false,
     "start_time": "2023-08-12T19:48:54.018137",
     "status": "completed"
    },
    "tags": []
   },
   "outputs": [],
   "source": [
    "# cvec_g = CountVectorizer(ngram_range=(1,3))\n",
    "# cvec_g.fit(genre_analysis['genre'])\n",
    "# # len(cvec_g.vocabulary_), cvec_g.vocabulary_"
   ]
  },
  {
   "cell_type": "code",
   "execution_count": 139,
   "id": "ca2f694b",
   "metadata": {
    "execution": {
     "iopub.execute_input": "2023-08-12T19:48:54.460924Z",
     "iopub.status.busy": "2023-08-12T19:48:54.460446Z",
     "iopub.status.idle": "2023-08-12T19:48:54.465100Z",
     "shell.execute_reply": "2023-08-12T19:48:54.463988Z"
    },
    "papermill": {
     "duration": 0.117217,
     "end_time": "2023-08-12T19:48:54.467425",
     "exception": false,
     "start_time": "2023-08-12T19:48:54.350208",
     "status": "completed"
    },
    "tags": []
   },
   "outputs": [],
   "source": [
    "# cvec_gSorted = CountVectorizer(ngram_range=(1,3))\n",
    "# cvec_gSorted.fit(genre_analysis['genreSorted'])\n",
    "# len(cvec_gSorted.vocabulary_), cvec_gSorted.vocabulary_"
   ]
  },
  {
   "cell_type": "code",
   "execution_count": 140,
   "id": "3a6232ba",
   "metadata": {
    "execution": {
     "iopub.execute_input": "2023-08-12T19:48:54.686567Z",
     "iopub.status.busy": "2023-08-12T19:48:54.685440Z",
     "iopub.status.idle": "2023-08-12T19:48:54.690433Z",
     "shell.execute_reply": "2023-08-12T19:48:54.689709Z"
    },
    "papermill": {
     "duration": 0.116634,
     "end_time": "2023-08-12T19:48:54.692547",
     "exception": false,
     "start_time": "2023-08-12T19:48:54.575913",
     "status": "completed"
    },
    "tags": []
   },
   "outputs": [],
   "source": [
    "# genre_testing = cvec_g.transform(merged[\"genre\"])\n",
    "# # print(genre_testing)"
   ]
  },
  {
   "cell_type": "code",
   "execution_count": 141,
   "id": "40014a01",
   "metadata": {
    "execution": {
     "iopub.execute_input": "2023-08-12T19:48:54.907651Z",
     "iopub.status.busy": "2023-08-12T19:48:54.907257Z",
     "iopub.status.idle": "2023-08-12T19:48:54.911648Z",
     "shell.execute_reply": "2023-08-12T19:48:54.910900Z"
    },
    "papermill": {
     "duration": 0.114184,
     "end_time": "2023-08-12T19:48:54.913762",
     "exception": false,
     "start_time": "2023-08-12T19:48:54.799578",
     "status": "completed"
    },
    "tags": []
   },
   "outputs": [],
   "source": [
    "# genre_counts_testing = merged[[\"genre\", \"sentiment\"]].copy()\n",
    "# genre_counts_testing[\"gCount\"] = genre_counts_testing.apply(lambda x: len(str(x[\"genre\"]).split()), axis=1)\n",
    "# genre_counts_testing"
   ]
  },
  {
   "cell_type": "code",
   "execution_count": 142,
   "id": "bf66c490",
   "metadata": {
    "execution": {
     "iopub.execute_input": "2023-08-12T19:48:55.133788Z",
     "iopub.status.busy": "2023-08-12T19:48:55.133296Z",
     "iopub.status.idle": "2023-08-12T19:48:55.138799Z",
     "shell.execute_reply": "2023-08-12T19:48:55.137279Z"
    },
    "papermill": {
     "duration": 0.118253,
     "end_time": "2023-08-12T19:48:55.141397",
     "exception": false,
     "start_time": "2023-08-12T19:48:55.023144",
     "status": "completed"
    },
    "tags": []
   },
   "outputs": [],
   "source": [
    "# sns.boxplot(y=genre_counts_testing[\"gCount\"], x=genre_counts_testing[\"sentiment\"])"
   ]
  },
  {
   "cell_type": "code",
   "execution_count": 143,
   "id": "7c4bc702",
   "metadata": {
    "execution": {
     "iopub.execute_input": "2023-08-12T19:48:55.360828Z",
     "iopub.status.busy": "2023-08-12T19:48:55.359756Z",
     "iopub.status.idle": "2023-08-12T19:48:55.364670Z",
     "shell.execute_reply": "2023-08-12T19:48:55.363662Z"
    },
    "papermill": {
     "duration": 0.117844,
     "end_time": "2023-08-12T19:48:55.366979",
     "exception": false,
     "start_time": "2023-08-12T19:48:55.249135",
     "status": "completed"
    },
    "tags": []
   },
   "outputs": [],
   "source": [
    "# sns.boxplot(y=merged[\"reviewWC\"], x=merged[\"sentiment\"])"
   ]
  },
  {
   "cell_type": "code",
   "execution_count": 144,
   "id": "2cb1c25c",
   "metadata": {
    "execution": {
     "iopub.execute_input": "2023-08-12T19:48:55.584113Z",
     "iopub.status.busy": "2023-08-12T19:48:55.583420Z",
     "iopub.status.idle": "2023-08-12T19:48:55.587241Z",
     "shell.execute_reply": "2023-08-12T19:48:55.586487Z"
    },
    "papermill": {
     "duration": 0.11414,
     "end_time": "2023-08-12T19:48:55.589333",
     "exception": false,
     "start_time": "2023-08-12T19:48:55.475193",
     "status": "completed"
    },
    "tags": []
   },
   "outputs": [],
   "source": [
    "# audienceScore bins\n",
    "# asc = merged[['audienceScore', 'sentiment']].copy()\n",
    "# asc.head()"
   ]
  },
  {
   "cell_type": "code",
   "execution_count": 145,
   "id": "a68dcea3",
   "metadata": {
    "execution": {
     "iopub.execute_input": "2023-08-12T19:48:55.806783Z",
     "iopub.status.busy": "2023-08-12T19:48:55.805811Z",
     "iopub.status.idle": "2023-08-12T19:48:55.811026Z",
     "shell.execute_reply": "2023-08-12T19:48:55.809680Z"
    },
    "papermill": {
     "duration": 0.115977,
     "end_time": "2023-08-12T19:48:55.813622",
     "exception": false,
     "start_time": "2023-08-12T19:48:55.697645",
     "status": "completed"
    },
    "tags": []
   },
   "outputs": [],
   "source": [
    "# Binning numerical features  \n",
    "\n",
    "# print(merged[\"runtimeBins\"].value_counts())\n",
    "# sns.displot(merged[\"runtimeBins\"])"
   ]
  },
  {
   "cell_type": "code",
   "execution_count": 146,
   "id": "b0643ff9",
   "metadata": {
    "execution": {
     "iopub.execute_input": "2023-08-12T19:48:56.034925Z",
     "iopub.status.busy": "2023-08-12T19:48:56.034264Z",
     "iopub.status.idle": "2023-08-12T19:48:56.039206Z",
     "shell.execute_reply": "2023-08-12T19:48:56.038415Z"
    },
    "papermill": {
     "duration": 0.120094,
     "end_time": "2023-08-12T19:48:56.041413",
     "exception": false,
     "start_time": "2023-08-12T19:48:55.921319",
     "status": "completed"
    },
    "tags": []
   },
   "outputs": [],
   "source": [
    "# Chi-square test for isFrequentReviewer column and sentiment column   \n",
    "\n",
    "# contingency_table = pd.crosstab(traindf['isFrequentReviewer'], traindf['sentiment'])\n",
    "# print(contingency_table)\n",
    "# stats.chi2_contingency(contingency_table)"
   ]
  },
  {
   "cell_type": "markdown",
   "id": "954a90b1",
   "metadata": {
    "papermill": {
     "duration": 0.104138,
     "end_time": "2023-08-12T19:48:56.250569",
     "exception": false,
     "start_time": "2023-08-12T19:48:56.146431",
     "status": "completed"
    },
    "tags": []
   },
   "source": [
    "## Baseline performance of 'reviewText' column  "
   ]
  },
  {
   "cell_type": "code",
   "execution_count": 147,
   "id": "46dbf81b",
   "metadata": {
    "execution": {
     "iopub.execute_input": "2023-08-12T19:48:56.465336Z",
     "iopub.status.busy": "2023-08-12T19:48:56.464671Z",
     "iopub.status.idle": "2023-08-12T19:48:56.469167Z",
     "shell.execute_reply": "2023-08-12T19:48:56.468290Z"
    },
    "papermill": {
     "duration": 0.113503,
     "end_time": "2023-08-12T19:48:56.471348",
     "exception": false,
     "start_time": "2023-08-12T19:48:56.357845",
     "status": "completed"
    },
    "tags": []
   },
   "outputs": [],
   "source": [
    "# rt_dict = {'txt': ['reviewText']}\n",
    "# rt_dict"
   ]
  },
  {
   "cell_type": "code",
   "execution_count": 148,
   "id": "8b6d92e1",
   "metadata": {
    "execution": {
     "iopub.execute_input": "2023-08-12T19:48:56.684506Z",
     "iopub.status.busy": "2023-08-12T19:48:56.683861Z",
     "iopub.status.idle": "2023-08-12T19:48:56.688435Z",
     "shell.execute_reply": "2023-08-12T19:48:56.687670Z"
    },
    "papermill": {
     "duration": 0.114189,
     "end_time": "2023-08-12T19:48:56.690656",
     "exception": false,
     "start_time": "2023-08-12T19:48:56.576467",
     "status": "completed"
    },
    "tags": []
   },
   "outputs": [],
   "source": [
    "# submit_v4(selected_model=LogisticRegression(C=5, solver=\"saga\", max_iter=100000),\n",
    "#           selected_features=rt_dict,\n",
    "#           param_grid=None,\n",
    "#           vocab=None)"
   ]
  },
  {
   "cell_type": "markdown",
   "id": "0c1c6da2",
   "metadata": {
    "papermill": {
     "duration": 0.104399,
     "end_time": "2023-08-12T19:48:56.899260",
     "exception": false,
     "start_time": "2023-08-12T19:48:56.794861",
     "status": "completed"
    },
    "tags": []
   },
   "source": [
    "## RFE  "
   ]
  },
  {
   "cell_type": "code",
   "execution_count": 149,
   "id": "ca8878f6",
   "metadata": {
    "execution": {
     "iopub.execute_input": "2023-08-12T19:48:57.119991Z",
     "iopub.status.busy": "2023-08-12T19:48:57.119507Z",
     "iopub.status.idle": "2023-08-12T19:48:57.125007Z",
     "shell.execute_reply": "2023-08-12T19:48:57.124192Z"
    },
    "papermill": {
     "duration": 0.117751,
     "end_time": "2023-08-12T19:48:57.127205",
     "exception": false,
     "start_time": "2023-08-12T19:48:57.009454",
     "status": "completed"
    },
    "tags": []
   },
   "outputs": [],
   "source": [
    "# def fs_rfe(selector, text_df, labels, ngram_range=(1,1)):\n",
    "#     text_df_ngram = TfidfVectorizer(ngram_range=ngram_range, stop_words='english').fit_transform(text_df)\n",
    "#     print(\"text_df was vectorized using TF-IDF vectorizer with ngram_range: \", ngram_range)\n",
    "#     print(\"text_df.shape: \", text_df.shape)\n",
    "#     print(\"labels.shape: \", labels.shape)\n",
    "#     print(\"text_df_ngram.shape: \", text_df_ngram.shape)\n",
    "#     print()\n",
    "\n",
    "#     print(\"Starting RFE fit...\")\n",
    "#     selector.fit(text_df_ngram, labels)\n",
    "#     print(\"RFE fit complete.\\n\")\n",
    "    \n",
    "#     print(\"selector.n_features_: \", selector.n_features_)   \n",
    "#     print(\"selector.n_features_in_: \", selector.n_features_in_)\n",
    "#     print(\"selector.support_.shape: \", selector.support_.shape)\n",
    "\n",
    "#     return selector.support_"
   ]
  },
  {
   "cell_type": "markdown",
   "id": "d92f2633",
   "metadata": {
    "papermill": {
     "duration": 0.10921,
     "end_time": "2023-08-12T19:48:57.344391",
     "exception": false,
     "start_time": "2023-08-12T19:48:57.235181",
     "status": "completed"
    },
    "tags": []
   },
   "source": [
    "`RFE for unigrams`  "
   ]
  },
  {
   "cell_type": "code",
   "execution_count": 150,
   "id": "b5a09cdd",
   "metadata": {
    "execution": {
     "iopub.execute_input": "2023-08-12T19:48:57.563127Z",
     "iopub.status.busy": "2023-08-12T19:48:57.562640Z",
     "iopub.status.idle": "2023-08-12T19:48:57.567884Z",
     "shell.execute_reply": "2023-08-12T19:48:57.566638Z"
    },
    "papermill": {
     "duration": 0.116459,
     "end_time": "2023-08-12T19:48:57.570132",
     "exception": false,
     "start_time": "2023-08-12T19:48:57.453673",
     "status": "completed"
    },
    "tags": []
   },
   "outputs": [],
   "source": [
    "# estimator_rfe_1 = LogisticRegression(solver='saga', max_iter=100000)\n",
    "# selector_rfe_1 = RFE(estimator_rfe_1, step=0.1, n_features_to_select=30000)"
   ]
  },
  {
   "cell_type": "code",
   "execution_count": 151,
   "id": "e70faa7b",
   "metadata": {
    "execution": {
     "iopub.execute_input": "2023-08-12T19:48:57.788245Z",
     "iopub.status.busy": "2023-08-12T19:48:57.786956Z",
     "iopub.status.idle": "2023-08-12T19:48:57.792330Z",
     "shell.execute_reply": "2023-08-12T19:48:57.791479Z"
    },
    "papermill": {
     "duration": 0.11676,
     "end_time": "2023-08-12T19:48:57.794536",
     "exception": false,
     "start_time": "2023-08-12T19:48:57.677776",
     "status": "completed"
    },
    "tags": []
   },
   "outputs": [],
   "source": [
    "# rfe_1_feat_mask = fs_rfe(selector_rfe_1, rt_senti[\"reviewText\"], rt_senti[\"sentiment\"], ngram_range=(1,1))\n",
    "# rfe_1_feat_mask"
   ]
  },
  {
   "cell_type": "code",
   "execution_count": 152,
   "id": "729ded32",
   "metadata": {
    "execution": {
     "iopub.execute_input": "2023-08-12T19:48:58.012587Z",
     "iopub.status.busy": "2023-08-12T19:48:58.012110Z",
     "iopub.status.idle": "2023-08-12T19:48:58.017811Z",
     "shell.execute_reply": "2023-08-12T19:48:58.016413Z"
    },
    "papermill": {
     "duration": 0.11885,
     "end_time": "2023-08-12T19:48:58.020424",
     "exception": false,
     "start_time": "2023-08-12T19:48:57.901574",
     "status": "completed"
    },
    "tags": []
   },
   "outputs": [],
   "source": [
    "# voc_1gram_rfe = list(compress(voc_1gram, rfe_1_feat_mask))\n",
    "# len(voc_1gram_rfe), voc_1gram_rfe[:10]"
   ]
  },
  {
   "cell_type": "markdown",
   "id": "6765b555",
   "metadata": {
    "papermill": {
     "duration": 0.108199,
     "end_time": "2023-08-12T19:48:58.236031",
     "exception": false,
     "start_time": "2023-08-12T19:48:58.127832",
     "status": "completed"
    },
    "tags": []
   },
   "source": [
    "`RFE for bigrams`  "
   ]
  },
  {
   "cell_type": "code",
   "execution_count": 153,
   "id": "4132bf19",
   "metadata": {
    "execution": {
     "iopub.execute_input": "2023-08-12T19:48:58.458456Z",
     "iopub.status.busy": "2023-08-12T19:48:58.458007Z",
     "iopub.status.idle": "2023-08-12T19:48:58.462661Z",
     "shell.execute_reply": "2023-08-12T19:48:58.461527Z"
    },
    "papermill": {
     "duration": 0.116757,
     "end_time": "2023-08-12T19:48:58.465096",
     "exception": false,
     "start_time": "2023-08-12T19:48:58.348339",
     "status": "completed"
    },
    "tags": []
   },
   "outputs": [],
   "source": [
    "# estimator_rfe_2 = LogisticRegression(solver='saga', max_iter=100000)\n",
    "# selector_rfe_2 = RFE(estimator_rfe_2, step=0.1, n_features_to_select=50000)"
   ]
  },
  {
   "cell_type": "code",
   "execution_count": 154,
   "id": "5ce9d52f",
   "metadata": {
    "execution": {
     "iopub.execute_input": "2023-08-12T19:48:58.787841Z",
     "iopub.status.busy": "2023-08-12T19:48:58.786660Z",
     "iopub.status.idle": "2023-08-12T19:48:58.792082Z",
     "shell.execute_reply": "2023-08-12T19:48:58.791010Z"
    },
    "papermill": {
     "duration": 0.222833,
     "end_time": "2023-08-12T19:48:58.795089",
     "exception": false,
     "start_time": "2023-08-12T19:48:58.572256",
     "status": "completed"
    },
    "tags": []
   },
   "outputs": [],
   "source": [
    "# rfe_2_feat_mask = fs_rfe(selector_rfe_2, rt_senti[\"reviewText\"], rt_senti[\"sentiment\"], ngram_range=(2,2))\n",
    "# rfe_2_feat_mask"
   ]
  },
  {
   "cell_type": "code",
   "execution_count": 155,
   "id": "1caefd4d",
   "metadata": {
    "execution": {
     "iopub.execute_input": "2023-08-12T19:48:59.036338Z",
     "iopub.status.busy": "2023-08-12T19:48:59.035442Z",
     "iopub.status.idle": "2023-08-12T19:48:59.039406Z",
     "shell.execute_reply": "2023-08-12T19:48:59.038667Z"
    },
    "papermill": {
     "duration": 0.117252,
     "end_time": "2023-08-12T19:48:59.041487",
     "exception": false,
     "start_time": "2023-08-12T19:48:58.924235",
     "status": "completed"
    },
    "tags": []
   },
   "outputs": [],
   "source": [
    "# voc_2gram_rfe = list(compress(voc_2gram, rfe_2_feat_mask))\n",
    "# len(voc_2gram_rfe), voc_2gram_rfe[:10]"
   ]
  },
  {
   "cell_type": "markdown",
   "id": "16bb7f0e",
   "metadata": {
    "papermill": {
     "duration": 0.106333,
     "end_time": "2023-08-12T19:48:59.255955",
     "exception": false,
     "start_time": "2023-08-12T19:48:59.149622",
     "status": "completed"
    },
    "tags": []
   },
   "source": [
    "## Final RFE-derived vocabulary  "
   ]
  },
  {
   "cell_type": "code",
   "execution_count": 156,
   "id": "1fbfa02a",
   "metadata": {
    "execution": {
     "iopub.execute_input": "2023-08-12T19:48:59.476208Z",
     "iopub.status.busy": "2023-08-12T19:48:59.475299Z",
     "iopub.status.idle": "2023-08-12T19:48:59.479327Z",
     "shell.execute_reply": "2023-08-12T19:48:59.478565Z"
    },
    "papermill": {
     "duration": 0.116569,
     "end_time": "2023-08-12T19:48:59.481969",
     "exception": false,
     "start_time": "2023-08-12T19:48:59.365400",
     "status": "completed"
    },
    "tags": []
   },
   "outputs": [],
   "source": [
    "# rfe_vocab = voc_1gram_rfe + voc_2gram_rfe\n",
    "# len(rfe_vocab), rfe_vocab[:10], rfe_vocab[-10:]"
   ]
  },
  {
   "cell_type": "code",
   "execution_count": 157,
   "id": "0530da67",
   "metadata": {
    "execution": {
     "iopub.execute_input": "2023-08-12T19:48:59.693574Z",
     "iopub.status.busy": "2023-08-12T19:48:59.692879Z",
     "iopub.status.idle": "2023-08-12T19:48:59.697474Z",
     "shell.execute_reply": "2023-08-12T19:48:59.696770Z"
    },
    "papermill": {
     "duration": 0.112431,
     "end_time": "2023-08-12T19:48:59.699710",
     "exception": false,
     "start_time": "2023-08-12T19:48:59.587279",
     "status": "completed"
    },
    "tags": []
   },
   "outputs": [],
   "source": [
    "## Test RFE obtained vocabulary in final pipeline (only with reviewText)  \n",
    "# submit_v4(selected_model=LogisticRegression(C=5, solver=\"saga\", max_iter=100000),\n",
    "#           selected_features=rt_dict,\n",
    "#           param_grid=None,\n",
    "#           vocab=rfe_vocab)"
   ]
  },
  {
   "cell_type": "markdown",
   "id": "83532983",
   "metadata": {
    "papermill": {
     "duration": 0.105001,
     "end_time": "2023-08-12T19:48:59.908397",
     "exception": false,
     "start_time": "2023-08-12T19:48:59.803396",
     "status": "completed"
    },
    "tags": []
   },
   "source": [
    "## Use rfe_vocab in final pipeline with all params  "
   ]
  },
  {
   "cell_type": "code",
   "execution_count": 158,
   "id": "0bf8d914",
   "metadata": {
    "execution": {
     "iopub.execute_input": "2023-08-12T19:49:00.125407Z",
     "iopub.status.busy": "2023-08-12T19:49:00.125022Z",
     "iopub.status.idle": "2023-08-12T19:49:00.130243Z",
     "shell.execute_reply": "2023-08-12T19:49:00.128919Z"
    },
    "papermill": {
     "duration": 0.117395,
     "end_time": "2023-08-12T19:49:00.132849",
     "exception": false,
     "start_time": "2023-08-12T19:49:00.015454",
     "status": "completed"
    },
    "tags": []
   },
   "outputs": [],
   "source": [
    "# submit_v4(selected_model=LogisticRegression(max_iter=100000),\n",
    "#           selected_features=all_dict,\n",
    "#           param_grid=param_grid,\n",
    "#           vocab=rfe_vocab)"
   ]
  },
  {
   "cell_type": "code",
   "execution_count": 159,
   "id": "abd8ed9d",
   "metadata": {
    "execution": {
     "iopub.execute_input": "2023-08-12T19:49:00.354187Z",
     "iopub.status.busy": "2023-08-12T19:49:00.353802Z",
     "iopub.status.idle": "2023-08-12T19:49:00.366976Z",
     "shell.execute_reply": "2023-08-12T19:49:00.365786Z"
    },
    "papermill": {
     "duration": 0.126572,
     "end_time": "2023-08-12T19:49:00.369335",
     "exception": false,
     "start_time": "2023-08-12T19:49:00.242763",
     "status": "completed"
    },
    "tags": []
   },
   "outputs": [
    {
     "data": {
      "text/html": [
       "<style>#sk-container-id-1 {color: black;background-color: white;}#sk-container-id-1 pre{padding: 0;}#sk-container-id-1 div.sk-toggleable {background-color: white;}#sk-container-id-1 label.sk-toggleable__label {cursor: pointer;display: block;width: 100%;margin-bottom: 0;padding: 0.3em;box-sizing: border-box;text-align: center;}#sk-container-id-1 label.sk-toggleable__label-arrow:before {content: \"▸\";float: left;margin-right: 0.25em;color: #696969;}#sk-container-id-1 label.sk-toggleable__label-arrow:hover:before {color: black;}#sk-container-id-1 div.sk-estimator:hover label.sk-toggleable__label-arrow:before {color: black;}#sk-container-id-1 div.sk-toggleable__content {max-height: 0;max-width: 0;overflow: hidden;text-align: left;background-color: #f0f8ff;}#sk-container-id-1 div.sk-toggleable__content pre {margin: 0.2em;color: black;border-radius: 0.25em;background-color: #f0f8ff;}#sk-container-id-1 input.sk-toggleable__control:checked~div.sk-toggleable__content {max-height: 200px;max-width: 100%;overflow: auto;}#sk-container-id-1 input.sk-toggleable__control:checked~label.sk-toggleable__label-arrow:before {content: \"▾\";}#sk-container-id-1 div.sk-estimator input.sk-toggleable__control:checked~label.sk-toggleable__label {background-color: #d4ebff;}#sk-container-id-1 div.sk-label input.sk-toggleable__control:checked~label.sk-toggleable__label {background-color: #d4ebff;}#sk-container-id-1 input.sk-hidden--visually {border: 0;clip: rect(1px 1px 1px 1px);clip: rect(1px, 1px, 1px, 1px);height: 1px;margin: -1px;overflow: hidden;padding: 0;position: absolute;width: 1px;}#sk-container-id-1 div.sk-estimator {font-family: monospace;background-color: #f0f8ff;border: 1px dotted black;border-radius: 0.25em;box-sizing: border-box;margin-bottom: 0.5em;}#sk-container-id-1 div.sk-estimator:hover {background-color: #d4ebff;}#sk-container-id-1 div.sk-parallel-item::after {content: \"\";width: 100%;border-bottom: 1px solid gray;flex-grow: 1;}#sk-container-id-1 div.sk-label:hover label.sk-toggleable__label {background-color: #d4ebff;}#sk-container-id-1 div.sk-serial::before {content: \"\";position: absolute;border-left: 1px solid gray;box-sizing: border-box;top: 0;bottom: 0;left: 50%;z-index: 0;}#sk-container-id-1 div.sk-serial {display: flex;flex-direction: column;align-items: center;background-color: white;padding-right: 0.2em;padding-left: 0.2em;position: relative;}#sk-container-id-1 div.sk-item {position: relative;z-index: 1;}#sk-container-id-1 div.sk-parallel {display: flex;align-items: stretch;justify-content: center;background-color: white;position: relative;}#sk-container-id-1 div.sk-item::before, #sk-container-id-1 div.sk-parallel-item::before {content: \"\";position: absolute;border-left: 1px solid gray;box-sizing: border-box;top: 0;bottom: 0;left: 50%;z-index: -1;}#sk-container-id-1 div.sk-parallel-item {display: flex;flex-direction: column;z-index: 1;position: relative;background-color: white;}#sk-container-id-1 div.sk-parallel-item:first-child::after {align-self: flex-end;width: 50%;}#sk-container-id-1 div.sk-parallel-item:last-child::after {align-self: flex-start;width: 50%;}#sk-container-id-1 div.sk-parallel-item:only-child::after {width: 0;}#sk-container-id-1 div.sk-dashed-wrapped {border: 1px dashed gray;margin: 0 0.4em 0.5em 0.4em;box-sizing: border-box;padding-bottom: 0.4em;background-color: white;}#sk-container-id-1 div.sk-label label {font-family: monospace;font-weight: bold;display: inline-block;line-height: 1.2em;}#sk-container-id-1 div.sk-label-container {text-align: center;}#sk-container-id-1 div.sk-container {/* jupyter's `normalize.less` sets `[hidden] { display: none; }` but bootstrap.min.css set `[hidden] { display: none !important; }` so we also need the `!important` here to be able to override the default hidden behavior on the sphinx rendered scikit-learn.org. See: https://github.com/scikit-learn/scikit-learn/issues/21755 */display: inline-block !important;position: relative;}#sk-container-id-1 div.sk-text-repr-fallback {display: none;}</style><div id=\"sk-container-id-1\" class=\"sk-top-container\"><div class=\"sk-text-repr-fallback\"><pre>AdaBoostClassifier(estimator=LogisticRegression(C=5, max_iter=100000,\n",
       "                                                solver=&#x27;saga&#x27;))</pre><b>In a Jupyter environment, please rerun this cell to show the HTML representation or trust the notebook. <br />On GitHub, the HTML representation is unable to render, please try loading this page with nbviewer.org.</b></div><div class=\"sk-container\" hidden><div class=\"sk-item sk-dashed-wrapped\"><div class=\"sk-label-container\"><div class=\"sk-label sk-toggleable\"><input class=\"sk-toggleable__control sk-hidden--visually\" id=\"sk-estimator-id-1\" type=\"checkbox\" ><label for=\"sk-estimator-id-1\" class=\"sk-toggleable__label sk-toggleable__label-arrow\">AdaBoostClassifier</label><div class=\"sk-toggleable__content\"><pre>AdaBoostClassifier(estimator=LogisticRegression(C=5, max_iter=100000,\n",
       "                                                solver=&#x27;saga&#x27;))</pre></div></div></div><div class=\"sk-parallel\"><div class=\"sk-parallel-item\"><div class=\"sk-item\"><div class=\"sk-label-container\"><div class=\"sk-label sk-toggleable\"><input class=\"sk-toggleable__control sk-hidden--visually\" id=\"sk-estimator-id-2\" type=\"checkbox\" ><label for=\"sk-estimator-id-2\" class=\"sk-toggleable__label sk-toggleable__label-arrow\">estimator: LogisticRegression</label><div class=\"sk-toggleable__content\"><pre>LogisticRegression(C=5, max_iter=100000, solver=&#x27;saga&#x27;)</pre></div></div></div><div class=\"sk-serial\"><div class=\"sk-item\"><div class=\"sk-estimator sk-toggleable\"><input class=\"sk-toggleable__control sk-hidden--visually\" id=\"sk-estimator-id-3\" type=\"checkbox\" ><label for=\"sk-estimator-id-3\" class=\"sk-toggleable__label sk-toggleable__label-arrow\">LogisticRegression</label><div class=\"sk-toggleable__content\"><pre>LogisticRegression(C=5, max_iter=100000, solver=&#x27;saga&#x27;)</pre></div></div></div></div></div></div></div></div></div></div>"
      ],
      "text/plain": [
       "AdaBoostClassifier(estimator=LogisticRegression(C=5, max_iter=100000,\n",
       "                                                solver='saga'))"
      ]
     },
     "execution_count": 159,
     "metadata": {},
     "output_type": "execute_result"
    }
   ],
   "source": [
    "adc = AdaBoostClassifier(estimator=LogisticRegression(C=5, solver=\"saga\", max_iter=100000), n_estimators=50)\n",
    "adc"
   ]
  },
  {
   "cell_type": "code",
   "execution_count": 160,
   "id": "02d6b522",
   "metadata": {
    "execution": {
     "iopub.execute_input": "2023-08-12T19:49:00.588328Z",
     "iopub.status.busy": "2023-08-12T19:49:00.586987Z",
     "iopub.status.idle": "2023-08-12T19:49:00.592288Z",
     "shell.execute_reply": "2023-08-12T19:49:00.591220Z"
    },
    "papermill": {
     "duration": 0.116536,
     "end_time": "2023-08-12T19:49:00.594641",
     "exception": false,
     "start_time": "2023-08-12T19:49:00.478105",
     "status": "completed"
    },
    "tags": []
   },
   "outputs": [],
   "source": [
    "# submit_v4(selected_model=adc,\n",
    "#           selected_features={'cat': ['isFrequentReviewer']},\n",
    "#           param_grid=None,\n",
    "#           vocab=rfe_vocab)"
   ]
  },
  {
   "cell_type": "code",
   "execution_count": 161,
   "id": "7d40dc9f",
   "metadata": {
    "execution": {
     "iopub.execute_input": "2023-08-12T19:49:00.811338Z",
     "iopub.status.busy": "2023-08-12T19:49:00.810045Z",
     "iopub.status.idle": "2023-08-12T19:49:00.815533Z",
     "shell.execute_reply": "2023-08-12T19:49:00.814475Z"
    },
    "papermill": {
     "duration": 0.116367,
     "end_time": "2023-08-12T19:49:00.817905",
     "exception": false,
     "start_time": "2023-08-12T19:49:00.701538",
     "status": "completed"
    },
    "tags": []
   },
   "outputs": [],
   "source": [
    "# AdaBoost on all features with RFE vocab on reviewText\n",
    "\n",
    "# submit_v4(selected_model=adc,\n",
    "#           selected_features=all_dict,\n",
    "#           param_grid=None,\n",
    "#           vocab=rfe_vocab)"
   ]
  },
  {
   "cell_type": "code",
   "execution_count": 162,
   "id": "985214d7",
   "metadata": {
    "execution": {
     "iopub.execute_input": "2023-08-12T19:49:01.035081Z",
     "iopub.status.busy": "2023-08-12T19:49:01.034650Z",
     "iopub.status.idle": "2023-08-12T19:49:01.039151Z",
     "shell.execute_reply": "2023-08-12T19:49:01.038089Z"
    },
    "papermill": {
     "duration": 0.117384,
     "end_time": "2023-08-12T19:49:01.042055",
     "exception": false,
     "start_time": "2023-08-12T19:49:00.924671",
     "status": "completed"
    },
    "tags": []
   },
   "outputs": [],
   "source": [
    "# RandomForestClassifier test run on one feature\n",
    "\n",
    "# rfc_2 = RandomForestClassifier()\n",
    "# rfc_2"
   ]
  },
  {
   "cell_type": "code",
   "execution_count": 163,
   "id": "83cc6d1d",
   "metadata": {
    "execution": {
     "iopub.execute_input": "2023-08-12T19:49:01.259726Z",
     "iopub.status.busy": "2023-08-12T19:49:01.258616Z",
     "iopub.status.idle": "2023-08-12T19:49:01.263498Z",
     "shell.execute_reply": "2023-08-12T19:49:01.262753Z"
    },
    "papermill": {
     "duration": 0.115657,
     "end_time": "2023-08-12T19:49:01.265473",
     "exception": false,
     "start_time": "2023-08-12T19:49:01.149816",
     "status": "completed"
    },
    "tags": []
   },
   "outputs": [],
   "source": [
    "# submit_v4(selected_model=rfc_2,\n",
    "#           selected_features={'txt': ['reviewerName']},\n",
    "#           param_grid=None,\n",
    "#           vocab=rfe_vocab)"
   ]
  },
  {
   "cell_type": "code",
   "execution_count": 164,
   "id": "4bce2580",
   "metadata": {
    "execution": {
     "iopub.execute_input": "2023-08-12T19:49:01.487509Z",
     "iopub.status.busy": "2023-08-12T19:49:01.486765Z",
     "iopub.status.idle": "2023-08-12T19:49:01.492094Z",
     "shell.execute_reply": "2023-08-12T19:49:01.490955Z"
    },
    "papermill": {
     "duration": 0.117266,
     "end_time": "2023-08-12T19:49:01.494465",
     "exception": false,
     "start_time": "2023-08-12T19:49:01.377199",
     "status": "completed"
    },
    "tags": []
   },
   "outputs": [],
   "source": [
    "# RandomForestClassifier on all features with RFE vocab on reviewText\n",
    "\n",
    "# submit_v4(selected_model=rfc_2,\n",
    "#           selected_features=all_dict,\n",
    "#           param_grid=None,\n",
    "#           vocab=rfe_vocab)"
   ]
  },
  {
   "cell_type": "markdown",
   "id": "622027fb",
   "metadata": {
    "papermill": {
     "duration": 0.106782,
     "end_time": "2023-08-12T19:49:01.712732",
     "exception": false,
     "start_time": "2023-08-12T19:49:01.605950",
     "status": "completed"
    },
    "tags": []
   },
   "source": [
    "## Submit_v2 for merged file models  "
   ]
  },
  {
   "cell_type": "code",
   "execution_count": 165,
   "id": "0a3b9567",
   "metadata": {
    "execution": {
     "iopub.execute_input": "2023-08-12T19:49:01.929588Z",
     "iopub.status.busy": "2023-08-12T19:49:01.928603Z",
     "iopub.status.idle": "2023-08-12T19:49:01.934812Z",
     "shell.execute_reply": "2023-08-12T19:49:01.934036Z"
    },
    "papermill": {
     "duration": 0.117431,
     "end_time": "2023-08-12T19:49:01.936898",
     "exception": false,
     "start_time": "2023-08-12T19:49:01.819467",
     "status": "completed"
    },
    "tags": []
   },
   "outputs": [],
   "source": [
    "# def submit_v2(selected_model=pipe_final, selected_features=None):\n",
    "#     '''\n",
    "#     Note that \"selected_preprocessor\" is already used within selected_model or pipeline\n",
    "#     '''\n",
    "#     # Retrain on the whole train.csv file  \n",
    "#     merged = select_features(load_csv(\"train\"), load_csv(\"movies\"))\n",
    "#     X_train = merged.drop(labels=\"sentiment\", axis=1)\n",
    "#     y_train = merged[\"sentiment\"]\n",
    "    \n",
    "#     #Use selected features\n",
    "#     if selected_features:\n",
    "#         X_train = X_train[selected_features]\n",
    "    \n",
    "#     # Check1\n",
    "#     print(X_train.shape)\n",
    "#     print(X_train.head())\n",
    "#     try:\n",
    "#         print(selected_model.named_steps['model'].intercept_, selected_model.named_steps['model'].coef_)\n",
    "#     except:\n",
    "#         print(\"Model not trained yet!\")\n",
    "    \n",
    "#     # Fit \n",
    "#     selected_model.fit(X_train, y_train)\n",
    "    \n",
    "#     # Check2\n",
    "#     print(selected_model.named_steps['model'].intercept_, selected_model.named_steps['model'].coef_)\n",
    "    \n",
    "#     # Predict on test.csv file\n",
    "#     merged_test = select_features(load_csv(\"test\"), load_csv(\"movies\"))\n",
    "#     X_test = merged_test.copy()\n",
    "#     if selected_features:\n",
    "#         X_test = X_test[selected_features]\n",
    "    \n",
    "#     # Check3\n",
    "#     print(X_test.shape)\n",
    "#     print(X_test.head())\n",
    "    \n",
    "#     y_pred = selected_model.predict(X_test)\n",
    "    \n",
    "#     pred_df = pd.DataFrame(y_pred)\n",
    "#     pred_df.columns = [\"sentiment\"]\n",
    "#     pred_df.index.name = \"id\"\n",
    "#     pred_df.to_csv(\"submission.csv\")\n",
    "    \n",
    "#     return \"Successfully created the submission file!!!\""
   ]
  },
  {
   "cell_type": "code",
   "execution_count": 166,
   "id": "3e786ad9",
   "metadata": {
    "execution": {
     "iopub.execute_input": "2023-08-12T19:49:02.160233Z",
     "iopub.status.busy": "2023-08-12T19:49:02.159498Z",
     "iopub.status.idle": "2023-08-12T19:49:02.163465Z",
     "shell.execute_reply": "2023-08-12T19:49:02.162744Z"
    },
    "papermill": {
     "duration": 0.120048,
     "end_time": "2023-08-12T19:49:02.165670",
     "exception": false,
     "start_time": "2023-08-12T19:49:02.045622",
     "status": "completed"
    },
    "tags": []
   },
   "outputs": [],
   "source": [
    "#     X_test = merged_test.copy()\n",
    "    \n",
    "#     y_pred = pipe_best4.predict(X_test)\n",
    "# #     np.unique(y_pred, return_counts=True)\n",
    "#     pred_df = pd.DataFrame(y_pred)\n",
    "#     pred_df.columns = [\"sentiment\"]\n",
    "#     pred_df.index.name = \"id\"\n",
    "#     pred_df.value_counts()"
   ]
  },
  {
   "cell_type": "code",
   "execution_count": 167,
   "id": "9ea1badd",
   "metadata": {
    "execution": {
     "iopub.execute_input": "2023-08-12T19:49:02.385977Z",
     "iopub.status.busy": "2023-08-12T19:49:02.385347Z",
     "iopub.status.idle": "2023-08-12T19:49:02.389467Z",
     "shell.execute_reply": "2023-08-12T19:49:02.388713Z"
    },
    "papermill": {
     "duration": 0.116206,
     "end_time": "2023-08-12T19:49:02.391382",
     "exception": false,
     "start_time": "2023-08-12T19:49:02.275176",
     "status": "completed"
    },
    "tags": []
   },
   "outputs": [],
   "source": [
    "# X_test.columns"
   ]
  },
  {
   "cell_type": "markdown",
   "id": "6a95a85a",
   "metadata": {
    "papermill": {
     "duration": 0.107286,
     "end_time": "2023-08-12T19:49:02.607890",
     "exception": false,
     "start_time": "2023-08-12T19:49:02.500604",
     "status": "completed"
    },
    "tags": []
   },
   "source": [
    "### Uncomment to submit using v2 of submit function  "
   ]
  },
  {
   "cell_type": "code",
   "execution_count": 168,
   "id": "6cbd9838",
   "metadata": {
    "execution": {
     "iopub.execute_input": "2023-08-12T19:49:02.824552Z",
     "iopub.status.busy": "2023-08-12T19:49:02.823887Z",
     "iopub.status.idle": "2023-08-12T19:49:02.828444Z",
     "shell.execute_reply": "2023-08-12T19:49:02.827373Z"
    },
    "papermill": {
     "duration": 0.115683,
     "end_time": "2023-08-12T19:49:02.830745",
     "exception": false,
     "start_time": "2023-08-12T19:49:02.715062",
     "status": "completed"
    },
    "tags": []
   },
   "outputs": [],
   "source": [
    "# best4 = [\"audienceScore\", \"rating\", \"isFrequentReviewer\", \"reviewText\"]\n",
    "# best4"
   ]
  },
  {
   "cell_type": "code",
   "execution_count": 169,
   "id": "f3ed3555",
   "metadata": {
    "execution": {
     "iopub.execute_input": "2023-08-12T19:49:03.051132Z",
     "iopub.status.busy": "2023-08-12T19:49:03.050702Z",
     "iopub.status.idle": "2023-08-12T19:49:03.055386Z",
     "shell.execute_reply": "2023-08-12T19:49:03.054333Z"
    },
    "papermill": {
     "duration": 0.119017,
     "end_time": "2023-08-12T19:49:03.057940",
     "exception": false,
     "start_time": "2023-08-12T19:49:02.938923",
     "status": "completed"
    },
    "tags": []
   },
   "outputs": [],
   "source": [
    "# submit_v2(selected_model=pipe_RTonly, selected_features=['reviewText'])"
   ]
  },
  {
   "cell_type": "markdown",
   "id": "8c97068b",
   "metadata": {
    "papermill": {
     "duration": 0.107431,
     "end_time": "2023-08-12T19:49:03.272887",
     "exception": false,
     "start_time": "2023-08-12T19:49:03.165456",
     "status": "completed"
    },
    "tags": []
   },
   "source": [
    "### Inspect the submission.csv file  "
   ]
  },
  {
   "cell_type": "code",
   "execution_count": 170,
   "id": "b17e48c7",
   "metadata": {
    "execution": {
     "iopub.execute_input": "2023-08-12T19:49:03.494017Z",
     "iopub.status.busy": "2023-08-12T19:49:03.493588Z",
     "iopub.status.idle": "2023-08-12T19:49:03.498219Z",
     "shell.execute_reply": "2023-08-12T19:49:03.496987Z"
    },
    "papermill": {
     "duration": 0.117601,
     "end_time": "2023-08-12T19:49:03.500942",
     "exception": false,
     "start_time": "2023-08-12T19:49:03.383341",
     "status": "completed"
    },
    "tags": []
   },
   "outputs": [],
   "source": [
    "# sub = pd.read_csv('submission.csv')\n",
    "# sub.shape, sub.head()"
   ]
  },
  {
   "cell_type": "code",
   "execution_count": 171,
   "id": "44ae3930",
   "metadata": {
    "execution": {
     "iopub.execute_input": "2023-08-12T19:49:03.718470Z",
     "iopub.status.busy": "2023-08-12T19:49:03.717851Z",
     "iopub.status.idle": "2023-08-12T19:49:03.722468Z",
     "shell.execute_reply": "2023-08-12T19:49:03.721434Z"
    },
    "papermill": {
     "duration": 0.115838,
     "end_time": "2023-08-12T19:49:03.724862",
     "exception": false,
     "start_time": "2023-08-12T19:49:03.609024",
     "status": "completed"
    },
    "tags": []
   },
   "outputs": [],
   "source": [
    "# sub['sentiment'].value_counts()"
   ]
  },
  {
   "cell_type": "markdown",
   "id": "7cff6772",
   "metadata": {
    "papermill": {
     "duration": 0.107639,
     "end_time": "2023-08-12T19:49:03.939987",
     "exception": false,
     "start_time": "2023-08-12T19:49:03.832348",
     "status": "completed"
    },
    "tags": []
   },
   "source": [
    "## submit_v3 for merged file models - does not retrain on whole data  "
   ]
  },
  {
   "cell_type": "code",
   "execution_count": 172,
   "id": "5f7314e0",
   "metadata": {
    "execution": {
     "iopub.execute_input": "2023-08-12T19:49:04.157499Z",
     "iopub.status.busy": "2023-08-12T19:49:04.156865Z",
     "iopub.status.idle": "2023-08-12T19:49:04.161470Z",
     "shell.execute_reply": "2023-08-12T19:49:04.160670Z"
    },
    "papermill": {
     "duration": 0.115437,
     "end_time": "2023-08-12T19:49:04.163645",
     "exception": false,
     "start_time": "2023-08-12T19:49:04.048208",
     "status": "completed"
    },
    "tags": []
   },
   "outputs": [],
   "source": [
    "# def submit_v3(selected_model=pipe_final):\n",
    "#     '''\n",
    "#     Note that \"selected_preprocessor\" is already used within selected_model or pipeline\n",
    "#     '''\n",
    "      \n",
    "#     # Predict on test.csv file\n",
    "#     merged_test = select_features(load_csv(\"test\"), load_csv(\"movies\"))\n",
    "#     X_test = merged_test.copy()\n",
    "    \n",
    "#     X_test = X_test[[\"audienceScore\", \"rating\", \"isFrequentReviewer\", \"reviewText\"]]    # This is a new line\n",
    "\n",
    "    \n",
    "#     y_pred = selected_model.predict(X_test)\n",
    "    \n",
    "#     pred_df = pd.DataFrame(y_pred)\n",
    "#     pred_df.columns = [\"sentiment\"]\n",
    "#     pred_df.index.name = \"id\"\n",
    "#     pred_df.to_csv(\"submission.csv\")\n",
    "    \n",
    "#     return \"Successfully created the submission file!!!\""
   ]
  },
  {
   "cell_type": "markdown",
   "id": "2205b474",
   "metadata": {
    "papermill": {
     "duration": 0.110223,
     "end_time": "2023-08-12T19:49:04.381019",
     "exception": false,
     "start_time": "2023-08-12T19:49:04.270796",
     "status": "completed"
    },
    "tags": []
   },
   "source": [
    "### Uncomment to submit using v3 of submit function  "
   ]
  },
  {
   "cell_type": "code",
   "execution_count": 173,
   "id": "724d8fb2",
   "metadata": {
    "execution": {
     "iopub.execute_input": "2023-08-12T19:49:04.601242Z",
     "iopub.status.busy": "2023-08-12T19:49:04.600810Z",
     "iopub.status.idle": "2023-08-12T19:49:04.606045Z",
     "shell.execute_reply": "2023-08-12T19:49:04.604756Z"
    },
    "papermill": {
     "duration": 0.118464,
     "end_time": "2023-08-12T19:49:04.608963",
     "exception": false,
     "start_time": "2023-08-12T19:49:04.490499",
     "status": "completed"
    },
    "tags": []
   },
   "outputs": [],
   "source": [
    "# submit_v3(selected_model=pipe_best4)"
   ]
  },
  {
   "cell_type": "markdown",
   "id": "f71bd4e8",
   "metadata": {
    "papermill": {
     "duration": 0.103834,
     "end_time": "2023-08-12T19:49:04.818346",
     "exception": false,
     "start_time": "2023-08-12T19:49:04.714512",
     "status": "completed"
    },
    "tags": []
   },
   "source": [
    "## Rough work  "
   ]
  },
  {
   "cell_type": "code",
   "execution_count": 174,
   "id": "47bbc97e",
   "metadata": {
    "execution": {
     "iopub.execute_input": "2023-08-12T19:49:05.037401Z",
     "iopub.status.busy": "2023-08-12T19:49:05.036456Z",
     "iopub.status.idle": "2023-08-12T19:49:11.621750Z",
     "shell.execute_reply": "2023-08-12T19:49:11.620304Z"
    },
    "papermill": {
     "duration": 6.70205,
     "end_time": "2023-08-12T19:49:11.624546",
     "exception": false,
     "start_time": "2023-08-12T19:49:04.922496",
     "status": "completed"
    },
    "tags": []
   },
   "outputs": [],
   "source": [
    "    # Predict on test.csv file\n",
    "    merged_test = select_features(load_csv(\"test\"), load_csv(\"movies\"))\n",
    "    X_test = merged_test.copy()\n",
    "    \n",
    "    X_test = X_test[[\"audienceScore\", \"rating\", \"isFrequentReviewer\", \"reviewText\"]]    # This is a new line"
   ]
  },
  {
   "cell_type": "code",
   "execution_count": 175,
   "id": "480742f2",
   "metadata": {
    "execution": {
     "iopub.execute_input": "2023-08-12T19:49:11.835518Z",
     "iopub.status.busy": "2023-08-12T19:49:11.835015Z",
     "iopub.status.idle": "2023-08-12T19:49:11.840550Z",
     "shell.execute_reply": "2023-08-12T19:49:11.839289Z"
    },
    "papermill": {
     "duration": 0.113993,
     "end_time": "2023-08-12T19:49:11.842707",
     "exception": false,
     "start_time": "2023-08-12T19:49:11.728714",
     "status": "completed"
    },
    "tags": []
   },
   "outputs": [],
   "source": [
    "# X_test.head()"
   ]
  },
  {
   "cell_type": "code",
   "execution_count": 176,
   "id": "d6ac9971",
   "metadata": {
    "execution": {
     "iopub.execute_input": "2023-08-12T19:49:12.062216Z",
     "iopub.status.busy": "2023-08-12T19:49:12.061514Z",
     "iopub.status.idle": "2023-08-12T19:49:12.066103Z",
     "shell.execute_reply": "2023-08-12T19:49:12.065216Z"
    },
    "papermill": {
     "duration": 0.121695,
     "end_time": "2023-08-12T19:49:12.068209",
     "exception": false,
     "start_time": "2023-08-12T19:49:11.946514",
     "status": "completed"
    },
    "tags": []
   },
   "outputs": [],
   "source": [
    "# X_test['audienceScore'].describe()"
   ]
  },
  {
   "cell_type": "code",
   "execution_count": 177,
   "id": "4af9a941",
   "metadata": {
    "execution": {
     "iopub.execute_input": "2023-08-12T19:49:12.365139Z",
     "iopub.status.busy": "2023-08-12T19:49:12.364514Z",
     "iopub.status.idle": "2023-08-12T19:49:12.369412Z",
     "shell.execute_reply": "2023-08-12T19:49:12.368257Z"
    },
    "papermill": {
     "duration": 0.119278,
     "end_time": "2023-08-12T19:49:12.371595",
     "exception": false,
     "start_time": "2023-08-12T19:49:12.252317",
     "status": "completed"
    },
    "tags": []
   },
   "outputs": [],
   "source": [
    "# X_test['rating'].value_counts()"
   ]
  },
  {
   "cell_type": "code",
   "execution_count": 178,
   "id": "bce00e94",
   "metadata": {
    "execution": {
     "iopub.execute_input": "2023-08-12T19:49:12.592880Z",
     "iopub.status.busy": "2023-08-12T19:49:12.592443Z",
     "iopub.status.idle": "2023-08-12T19:49:12.597017Z",
     "shell.execute_reply": "2023-08-12T19:49:12.595898Z"
    },
    "papermill": {
     "duration": 0.117583,
     "end_time": "2023-08-12T19:49:12.599361",
     "exception": false,
     "start_time": "2023-08-12T19:49:12.481778",
     "status": "completed"
    },
    "tags": []
   },
   "outputs": [],
   "source": [
    "# X_test['isFrequentReviewer'].value_counts()"
   ]
  },
  {
   "cell_type": "markdown",
   "id": "4bac11da",
   "metadata": {
    "papermill": {
     "duration": 0.107464,
     "end_time": "2023-08-12T19:49:12.814155",
     "exception": false,
     "start_time": "2023-08-12T19:49:12.706691",
     "status": "completed"
    },
    "tags": []
   },
   "source": [
    "## Implement KNN classifier  "
   ]
  },
  {
   "cell_type": "code",
   "execution_count": 179,
   "id": "dd46d9e1",
   "metadata": {
    "execution": {
     "iopub.execute_input": "2023-08-12T19:49:13.035842Z",
     "iopub.status.busy": "2023-08-12T19:49:13.035365Z",
     "iopub.status.idle": "2023-08-12T19:49:13.040091Z",
     "shell.execute_reply": "2023-08-12T19:49:13.038933Z"
    },
    "papermill": {
     "duration": 0.120541,
     "end_time": "2023-08-12T19:49:13.043128",
     "exception": false,
     "start_time": "2023-08-12T19:49:12.922587",
     "status": "completed"
    },
    "tags": []
   },
   "outputs": [],
   "source": [
    "# from sklearn.neighbors import KNeighborsClassifier"
   ]
  },
  {
   "cell_type": "code",
   "execution_count": 180,
   "id": "b001d8fb",
   "metadata": {
    "execution": {
     "iopub.execute_input": "2023-08-12T19:49:13.258348Z",
     "iopub.status.busy": "2023-08-12T19:49:13.257162Z",
     "iopub.status.idle": "2023-08-12T19:49:13.262188Z",
     "shell.execute_reply": "2023-08-12T19:49:13.261374Z"
    },
    "papermill": {
     "duration": 0.115963,
     "end_time": "2023-08-12T19:49:13.264385",
     "exception": false,
     "start_time": "2023-08-12T19:49:13.148422",
     "status": "completed"
    },
    "tags": []
   },
   "outputs": [],
   "source": [
    "# Note that we are borrowing \"ct_final\" column transformer from above  "
   ]
  },
  {
   "cell_type": "code",
   "execution_count": 181,
   "id": "8a182324",
   "metadata": {
    "execution": {
     "iopub.execute_input": "2023-08-12T19:49:13.484538Z",
     "iopub.status.busy": "2023-08-12T19:49:13.483818Z",
     "iopub.status.idle": "2023-08-12T19:49:13.488816Z",
     "shell.execute_reply": "2023-08-12T19:49:13.487882Z"
    },
    "papermill": {
     "duration": 0.117183,
     "end_time": "2023-08-12T19:49:13.491160",
     "exception": false,
     "start_time": "2023-08-12T19:49:13.373977",
     "status": "completed"
    },
    "tags": []
   },
   "outputs": [],
   "source": [
    "# pipe_knn = Pipeline(steps=[\n",
    "#                         (\"preprocessor\", ct_final),\n",
    "#                         (\"model\", KNeighborsClassifier())\n",
    "#                     ])\n",
    "# pipe_knn"
   ]
  },
  {
   "cell_type": "code",
   "execution_count": 182,
   "id": "be05bf73",
   "metadata": {
    "execution": {
     "iopub.execute_input": "2023-08-12T19:49:13.709372Z",
     "iopub.status.busy": "2023-08-12T19:49:13.708970Z",
     "iopub.status.idle": "2023-08-12T19:49:13.713441Z",
     "shell.execute_reply": "2023-08-12T19:49:13.712548Z"
    },
    "papermill": {
     "duration": 0.115355,
     "end_time": "2023-08-12T19:49:13.715535",
     "exception": false,
     "start_time": "2023-08-12T19:49:13.600180",
     "status": "completed"
    },
    "tags": []
   },
   "outputs": [],
   "source": [
    "# Train and predict on merged training data  \n",
    "# split_train_predict(merged_train_features, merged_train_labels, pipe_knn, test_size=0.25, random_state=42)"
   ]
  },
  {
   "cell_type": "markdown",
   "id": "83840419",
   "metadata": {
    "papermill": {
     "duration": 0.104704,
     "end_time": "2023-08-12T19:49:13.925790",
     "exception": false,
     "start_time": "2023-08-12T19:49:13.821086",
     "status": "completed"
    },
    "tags": []
   },
   "source": [
    "# Part I (Older code)  "
   ]
  },
  {
   "cell_type": "markdown",
   "id": "7d13cefb",
   "metadata": {
    "papermill": {
     "duration": 0.103871,
     "end_time": "2023-08-12T19:49:14.140071",
     "exception": false,
     "start_time": "2023-08-12T19:49:14.036200",
     "status": "completed"
    },
    "tags": []
   },
   "source": [
    "### Logistic Regression with stop words  "
   ]
  },
  {
   "cell_type": "code",
   "execution_count": 183,
   "id": "2fd28f32",
   "metadata": {
    "execution": {
     "iopub.execute_input": "2023-08-12T19:49:14.354953Z",
     "iopub.status.busy": "2023-08-12T19:49:14.354171Z",
     "iopub.status.idle": "2023-08-12T19:49:14.358268Z",
     "shell.execute_reply": "2023-08-12T19:49:14.357419Z"
    },
    "papermill": {
     "duration": 0.116822,
     "end_time": "2023-08-12T19:49:14.362066",
     "exception": false,
     "start_time": "2023-08-12T19:49:14.245244",
     "status": "completed"
    },
    "tags": []
   },
   "outputs": [],
   "source": [
    "# tvec_sw = TfidfVectorizer(stop_words=stop_words)"
   ]
  },
  {
   "cell_type": "code",
   "execution_count": 184,
   "id": "fafab908",
   "metadata": {
    "execution": {
     "iopub.execute_input": "2023-08-12T19:49:14.583055Z",
     "iopub.status.busy": "2023-08-12T19:49:14.581338Z",
     "iopub.status.idle": "2023-08-12T19:49:14.587978Z",
     "shell.execute_reply": "2023-08-12T19:49:14.587171Z"
    },
    "papermill": {
     "duration": 0.118844,
     "end_time": "2023-08-12T19:49:14.590213",
     "exception": false,
     "start_time": "2023-08-12T19:49:14.471369",
     "status": "completed"
    },
    "tags": []
   },
   "outputs": [],
   "source": [
    "# logreg_sw_pipe = preprocess_n_train(X_train, y_train, tvec_sw, logreg)\n",
    "# logreg_sw_pipe"
   ]
  },
  {
   "cell_type": "code",
   "execution_count": 185,
   "id": "9b6b5fa4",
   "metadata": {
    "execution": {
     "iopub.execute_input": "2023-08-12T19:49:14.803167Z",
     "iopub.status.busy": "2023-08-12T19:49:14.802770Z",
     "iopub.status.idle": "2023-08-12T19:49:14.808069Z",
     "shell.execute_reply": "2023-08-12T19:49:14.806619Z"
    },
    "papermill": {
     "duration": 0.114057,
     "end_time": "2023-08-12T19:49:14.810548",
     "exception": false,
     "start_time": "2023-08-12T19:49:14.696491",
     "status": "completed"
    },
    "tags": []
   },
   "outputs": [],
   "source": [
    "# y_pred_logreg_sw = predict_n_evaluate(logreg_sw_pipe, X_test, y_test)\n",
    "# y_pred_logreg_sw"
   ]
  },
  {
   "cell_type": "markdown",
   "id": "fdef7786",
   "metadata": {
    "papermill": {
     "duration": 0.10685,
     "end_time": "2023-08-12T19:49:15.023192",
     "exception": false,
     "start_time": "2023-08-12T19:49:14.916342",
     "status": "completed"
    },
    "tags": []
   },
   "source": [
    "### Logistic regression with different ngram ranges  "
   ]
  },
  {
   "cell_type": "code",
   "execution_count": 186,
   "id": "34d67d4c",
   "metadata": {
    "execution": {
     "iopub.execute_input": "2023-08-12T19:49:15.237300Z",
     "iopub.status.busy": "2023-08-12T19:49:15.236615Z",
     "iopub.status.idle": "2023-08-12T19:49:15.240775Z",
     "shell.execute_reply": "2023-08-12T19:49:15.239942Z"
    },
    "papermill": {
     "duration": 0.113507,
     "end_time": "2023-08-12T19:49:15.242945",
     "exception": false,
     "start_time": "2023-08-12T19:49:15.129438",
     "status": "completed"
    },
    "tags": []
   },
   "outputs": [],
   "source": [
    "# tvec_ngram_2 = TfidfVectorizer(ngram_range=(1,2))"
   ]
  },
  {
   "cell_type": "code",
   "execution_count": 187,
   "id": "edbf9cb8",
   "metadata": {
    "execution": {
     "iopub.execute_input": "2023-08-12T19:49:15.460901Z",
     "iopub.status.busy": "2023-08-12T19:49:15.460454Z",
     "iopub.status.idle": "2023-08-12T19:49:15.466607Z",
     "shell.execute_reply": "2023-08-12T19:49:15.465431Z"
    },
    "papermill": {
     "duration": 0.120199,
     "end_time": "2023-08-12T19:49:15.468752",
     "exception": false,
     "start_time": "2023-08-12T19:49:15.348553",
     "status": "completed"
    },
    "tags": []
   },
   "outputs": [],
   "source": [
    "# logreg_ng2_pipe = preprocess_n_train(X_train, y_train, tvec_ngram_2, logreg)\n",
    "# logreg_ng2_pipe"
   ]
  },
  {
   "cell_type": "code",
   "execution_count": 188,
   "id": "2839cbf5",
   "metadata": {
    "execution": {
     "iopub.execute_input": "2023-08-12T19:49:15.681289Z",
     "iopub.status.busy": "2023-08-12T19:49:15.680026Z",
     "iopub.status.idle": "2023-08-12T19:49:15.685497Z",
     "shell.execute_reply": "2023-08-12T19:49:15.684346Z"
    },
    "papermill": {
     "duration": 0.113532,
     "end_time": "2023-08-12T19:49:15.687796",
     "exception": false,
     "start_time": "2023-08-12T19:49:15.574264",
     "status": "completed"
    },
    "tags": []
   },
   "outputs": [],
   "source": [
    "# y_pred_logreg_ng2 = predict_n_evaluate(logreg_ng2_pipe, X_test, y_test)\n",
    "# y_pred_logreg_ng2"
   ]
  },
  {
   "cell_type": "markdown",
   "id": "f4d483ee",
   "metadata": {
    "papermill": {
     "duration": 0.104409,
     "end_time": "2023-08-12T19:49:15.896584",
     "exception": false,
     "start_time": "2023-08-12T19:49:15.792175",
     "status": "completed"
    },
    "tags": []
   },
   "source": [
    "### Logistic regression with C=2, ngram range (1,2), stop words as None and min_df, max_df adjusted\n",
    "### Class weight balanced"
   ]
  },
  {
   "cell_type": "code",
   "execution_count": 189,
   "id": "a10c8de4",
   "metadata": {
    "execution": {
     "iopub.execute_input": "2023-08-12T19:49:16.114800Z",
     "iopub.status.busy": "2023-08-12T19:49:16.114224Z",
     "iopub.status.idle": "2023-08-12T19:49:16.119710Z",
     "shell.execute_reply": "2023-08-12T19:49:16.118570Z"
    },
    "papermill": {
     "duration": 0.121239,
     "end_time": "2023-08-12T19:49:16.121966",
     "exception": false,
     "start_time": "2023-08-12T19:49:16.000727",
     "status": "completed"
    },
    "tags": []
   },
   "outputs": [],
   "source": [
    "# logreg = LogisticRegression(max_iter=100000, C=2, class_weight=\"balanced\")"
   ]
  },
  {
   "cell_type": "code",
   "execution_count": 190,
   "id": "8ce48aea",
   "metadata": {
    "execution": {
     "iopub.execute_input": "2023-08-12T19:49:16.333342Z",
     "iopub.status.busy": "2023-08-12T19:49:16.332865Z",
     "iopub.status.idle": "2023-08-12T19:49:16.337821Z",
     "shell.execute_reply": "2023-08-12T19:49:16.336709Z"
    },
    "papermill": {
     "duration": 0.113329,
     "end_time": "2023-08-12T19:49:16.340144",
     "exception": false,
     "start_time": "2023-08-12T19:49:16.226815",
     "status": "completed"
    },
    "tags": []
   },
   "outputs": [],
   "source": [
    "# tvec_ngram_2_sw_df = TfidfVectorizer(ngram_range=(1,2), stop_words=None, min_df=0.0001, max_df=0.50)\n",
    "# tvec_ngram_2_sw_df"
   ]
  },
  {
   "cell_type": "code",
   "execution_count": 191,
   "id": "11848819",
   "metadata": {
    "execution": {
     "iopub.execute_input": "2023-08-12T19:49:16.563553Z",
     "iopub.status.busy": "2023-08-12T19:49:16.563137Z",
     "iopub.status.idle": "2023-08-12T19:49:16.567811Z",
     "shell.execute_reply": "2023-08-12T19:49:16.566713Z"
    },
    "papermill": {
     "duration": 0.120006,
     "end_time": "2023-08-12T19:49:16.570106",
     "exception": false,
     "start_time": "2023-08-12T19:49:16.450100",
     "status": "completed"
    },
    "tags": []
   },
   "outputs": [],
   "source": [
    "# logreg_ng2_sw_df_pipe = preprocess_n_train(X_train, y_train, tvec_ngram_2_sw_df, logreg)\n",
    "# logreg_ng2_sw_df_pipe"
   ]
  },
  {
   "cell_type": "code",
   "execution_count": 192,
   "id": "4638dcf4",
   "metadata": {
    "execution": {
     "iopub.execute_input": "2023-08-12T19:49:16.790859Z",
     "iopub.status.busy": "2023-08-12T19:49:16.790424Z",
     "iopub.status.idle": "2023-08-12T19:49:16.794312Z",
     "shell.execute_reply": "2023-08-12T19:49:16.793455Z"
    },
    "papermill": {
     "duration": 0.117744,
     "end_time": "2023-08-12T19:49:16.797202",
     "exception": false,
     "start_time": "2023-08-12T19:49:16.679458",
     "status": "completed"
    },
    "tags": []
   },
   "outputs": [],
   "source": [
    "# y_pred_logreg_ng2_sw_df = predict_n_evaluate(logreg_ng2_sw_df_pipe, X_test, y_test)\n",
    "# y_pred_logreg_ng2_sw_df"
   ]
  },
  {
   "cell_type": "markdown",
   "id": "0445058b",
   "metadata": {
    "papermill": {
     "duration": 0.113267,
     "end_time": "2023-08-12T19:49:17.020420",
     "exception": false,
     "start_time": "2023-08-12T19:49:16.907153",
     "status": "completed"
    },
    "tags": []
   },
   "source": [
    "### Log reg with parameters from GridSearchCV  \n",
    "\n",
    "`This is the best score with \"reviewText column alone for analysis`  "
   ]
  },
  {
   "cell_type": "code",
   "execution_count": 193,
   "id": "73527548",
   "metadata": {
    "execution": {
     "iopub.execute_input": "2023-08-12T19:49:17.242976Z",
     "iopub.status.busy": "2023-08-12T19:49:17.242537Z",
     "iopub.status.idle": "2023-08-12T19:49:17.248599Z",
     "shell.execute_reply": "2023-08-12T19:49:17.247488Z"
    },
    "papermill": {
     "duration": 0.119819,
     "end_time": "2023-08-12T19:49:17.250822",
     "exception": false,
     "start_time": "2023-08-12T19:49:17.131003",
     "status": "completed"
    },
    "tags": []
   },
   "outputs": [],
   "source": [
    "logreg_cv1 = LogisticRegression(max_iter=100000, C=10)\n",
    "tvec_cv1 = TfidfVectorizer(max_features=None, ngram_range=(1,2))"
   ]
  },
  {
   "cell_type": "code",
   "execution_count": 194,
   "id": "2e1d3021",
   "metadata": {
    "execution": {
     "iopub.execute_input": "2023-08-12T19:49:17.470758Z",
     "iopub.status.busy": "2023-08-12T19:49:17.470337Z",
     "iopub.status.idle": "2023-08-12T19:49:17.475738Z",
     "shell.execute_reply": "2023-08-12T19:49:17.474474Z"
    },
    "papermill": {
     "duration": 0.118152,
     "end_time": "2023-08-12T19:49:17.478016",
     "exception": false,
     "start_time": "2023-08-12T19:49:17.359864",
     "status": "completed"
    },
    "tags": []
   },
   "outputs": [],
   "source": [
    "pipe_cv1 = Pipeline(steps=[\n",
    "    (\"preprocessor\", tvec_cv1),\n",
    "    (\"model\", logreg_cv1)\n",
    "])"
   ]
  },
  {
   "cell_type": "code",
   "execution_count": 195,
   "id": "f5bb2a61",
   "metadata": {
    "execution": {
     "iopub.execute_input": "2023-08-12T19:49:17.696349Z",
     "iopub.status.busy": "2023-08-12T19:49:17.695225Z",
     "iopub.status.idle": "2023-08-12T19:49:17.700503Z",
     "shell.execute_reply": "2023-08-12T19:49:17.699121Z"
    },
    "papermill": {
     "duration": 0.116425,
     "end_time": "2023-08-12T19:49:17.702988",
     "exception": false,
     "start_time": "2023-08-12T19:49:17.586563",
     "status": "completed"
    },
    "tags": []
   },
   "outputs": [],
   "source": [
    "# pipe_cv1.fit(X_train, y_train)"
   ]
  },
  {
   "cell_type": "code",
   "execution_count": 196,
   "id": "d7d282cd",
   "metadata": {
    "execution": {
     "iopub.execute_input": "2023-08-12T19:49:17.924009Z",
     "iopub.status.busy": "2023-08-12T19:49:17.923199Z",
     "iopub.status.idle": "2023-08-12T19:49:17.927526Z",
     "shell.execute_reply": "2023-08-12T19:49:17.926736Z"
    },
    "papermill": {
     "duration": 0.117074,
     "end_time": "2023-08-12T19:49:17.929821",
     "exception": false,
     "start_time": "2023-08-12T19:49:17.812747",
     "status": "completed"
    },
    "tags": []
   },
   "outputs": [],
   "source": [
    "# pipe_cv1.score(X_train, y_train)"
   ]
  },
  {
   "cell_type": "markdown",
   "id": "582bac1e",
   "metadata": {
    "papermill": {
     "duration": 0.106709,
     "end_time": "2023-08-12T19:49:18.147123",
     "exception": false,
     "start_time": "2023-08-12T19:49:18.040414",
     "status": "completed"
    },
    "tags": []
   },
   "source": [
    "### SVM model with stop words  "
   ]
  },
  {
   "cell_type": "code",
   "execution_count": 197,
   "id": "d4d1870f",
   "metadata": {
    "execution": {
     "iopub.execute_input": "2023-08-12T19:49:18.365772Z",
     "iopub.status.busy": "2023-08-12T19:49:18.365045Z",
     "iopub.status.idle": "2023-08-12T19:49:18.368960Z",
     "shell.execute_reply": "2023-08-12T19:49:18.368105Z"
    },
    "papermill": {
     "duration": 0.116194,
     "end_time": "2023-08-12T19:49:18.371045",
     "exception": false,
     "start_time": "2023-08-12T19:49:18.254851",
     "status": "completed"
    },
    "tags": []
   },
   "outputs": [],
   "source": [
    "# svm_sw_pipe = preprocess_n_train(X_train, y_train, tvec_sw, svm)\n",
    "# svm_sw_pipe"
   ]
  },
  {
   "cell_type": "code",
   "execution_count": 198,
   "id": "382b37d0",
   "metadata": {
    "execution": {
     "iopub.execute_input": "2023-08-12T19:49:18.592071Z",
     "iopub.status.busy": "2023-08-12T19:49:18.591212Z",
     "iopub.status.idle": "2023-08-12T19:49:18.596737Z",
     "shell.execute_reply": "2023-08-12T19:49:18.595138Z"
    },
    "papermill": {
     "duration": 0.120997,
     "end_time": "2023-08-12T19:49:18.600632",
     "exception": false,
     "start_time": "2023-08-12T19:49:18.479635",
     "status": "completed"
    },
    "tags": []
   },
   "outputs": [],
   "source": [
    "# y_pred_svm_sw = predict_n_evaluate(svm_sw_pipe, X_test, y_test)\n",
    "# y_pred_svm_sw"
   ]
  },
  {
   "cell_type": "markdown",
   "id": "7e50ea3d",
   "metadata": {
    "papermill": {
     "duration": 0.112578,
     "end_time": "2023-08-12T19:49:18.821674",
     "exception": false,
     "start_time": "2023-08-12T19:49:18.709096",
     "status": "completed"
    },
    "tags": []
   },
   "source": [
    "### GaussianNB  "
   ]
  },
  {
   "cell_type": "markdown",
   "id": "5425618a",
   "metadata": {
    "papermill": {
     "duration": 0.110293,
     "end_time": "2023-08-12T19:49:19.057529",
     "exception": false,
     "start_time": "2023-08-12T19:49:18.947236",
     "status": "completed"
    },
    "tags": []
   },
   "source": [
    "https://stackoverflow.com/questions/28384680/scikit-learns-pipeline-a-sparse-matrix-was-passed-but-dense-data-is-required"
   ]
  },
  {
   "cell_type": "code",
   "execution_count": 199,
   "id": "c4517ae9",
   "metadata": {
    "execution": {
     "iopub.execute_input": "2023-08-12T19:49:19.277103Z",
     "iopub.status.busy": "2023-08-12T19:49:19.276615Z",
     "iopub.status.idle": "2023-08-12T19:49:19.281508Z",
     "shell.execute_reply": "2023-08-12T19:49:19.280106Z"
    },
    "papermill": {
     "duration": 0.118138,
     "end_time": "2023-08-12T19:49:19.283912",
     "exception": false,
     "start_time": "2023-08-12T19:49:19.165774",
     "status": "completed"
    },
    "tags": []
   },
   "outputs": [],
   "source": [
    "# gnb = GaussianNB()\n",
    "# gnb"
   ]
  },
  {
   "cell_type": "code",
   "execution_count": 200,
   "id": "11986e72",
   "metadata": {
    "execution": {
     "iopub.execute_input": "2023-08-12T19:49:19.505370Z",
     "iopub.status.busy": "2023-08-12T19:49:19.504568Z",
     "iopub.status.idle": "2023-08-12T19:49:19.509515Z",
     "shell.execute_reply": "2023-08-12T19:49:19.508505Z"
    },
    "papermill": {
     "duration": 0.116707,
     "end_time": "2023-08-12T19:49:19.511890",
     "exception": false,
     "start_time": "2023-08-12T19:49:19.395183",
     "status": "completed"
    },
    "tags": []
   },
   "outputs": [],
   "source": [
    "# gnb_pipe = preprocess_n_train(X_train, y_train, tvec, gnb)\n",
    "# gnb_pipe"
   ]
  },
  {
   "cell_type": "markdown",
   "id": "382334af",
   "metadata": {
    "papermill": {
     "duration": 0.107852,
     "end_time": "2023-08-12T19:49:19.730221",
     "exception": false,
     "start_time": "2023-08-12T19:49:19.622369",
     "status": "completed"
    },
    "tags": []
   },
   "source": [
    "# Part II (Older code)  \n"
   ]
  },
  {
   "cell_type": "markdown",
   "id": "5bdc54bf",
   "metadata": {
    "papermill": {
     "duration": 0.107027,
     "end_time": "2023-08-12T19:49:19.944336",
     "exception": false,
     "start_time": "2023-08-12T19:49:19.837309",
     "status": "completed"
    },
    "tags": []
   },
   "source": [
    "### Separate features and labels from merged dataset  "
   ]
  },
  {
   "cell_type": "code",
   "execution_count": 201,
   "id": "8d150043",
   "metadata": {
    "execution": {
     "iopub.execute_input": "2023-08-12T19:49:20.162705Z",
     "iopub.status.busy": "2023-08-12T19:49:20.161916Z",
     "iopub.status.idle": "2023-08-12T19:49:20.167528Z",
     "shell.execute_reply": "2023-08-12T19:49:20.165934Z"
    },
    "papermill": {
     "duration": 0.11656,
     "end_time": "2023-08-12T19:49:20.169953",
     "exception": false,
     "start_time": "2023-08-12T19:49:20.053393",
     "status": "completed"
    },
    "tags": []
   },
   "outputs": [],
   "source": [
    "# merged_train_features = merged[['movieid', 'reviewerName', 'isFrequentReviewer', 'reviewText',\n",
    "#        'audienceScore', 'rating', 'runtimeMinutes', 'genre',\n",
    "#        'originalLanguage', 'director']]\n",
    "# merged_train_features.shape"
   ]
  },
  {
   "cell_type": "code",
   "execution_count": 202,
   "id": "9f11b083",
   "metadata": {
    "execution": {
     "iopub.execute_input": "2023-08-12T19:49:20.389782Z",
     "iopub.status.busy": "2023-08-12T19:49:20.388605Z",
     "iopub.status.idle": "2023-08-12T19:49:20.394228Z",
     "shell.execute_reply": "2023-08-12T19:49:20.393147Z"
    },
    "papermill": {
     "duration": 0.118071,
     "end_time": "2023-08-12T19:49:20.396564",
     "exception": false,
     "start_time": "2023-08-12T19:49:20.278493",
     "status": "completed"
    },
    "tags": []
   },
   "outputs": [],
   "source": [
    "# merged_train_labels = merged[\"sentiment\"]\n",
    "# merged_train_labels.shape"
   ]
  },
  {
   "cell_type": "markdown",
   "id": "ce950273",
   "metadata": {
    "papermill": {
     "duration": 0.110056,
     "end_time": "2023-08-12T19:49:20.616852",
     "exception": false,
     "start_time": "2023-08-12T19:49:20.506796",
     "status": "completed"
    },
    "tags": []
   },
   "source": [
    "### Identify variable types for different preprocessing pipes  "
   ]
  },
  {
   "cell_type": "code",
   "execution_count": 203,
   "id": "122c0d57",
   "metadata": {
    "execution": {
     "iopub.execute_input": "2023-08-12T19:49:20.835901Z",
     "iopub.status.busy": "2023-08-12T19:49:20.835092Z",
     "iopub.status.idle": "2023-08-12T19:49:20.839840Z",
     "shell.execute_reply": "2023-08-12T19:49:20.838643Z"
    },
    "papermill": {
     "duration": 0.116482,
     "end_time": "2023-08-12T19:49:20.842099",
     "exception": false,
     "start_time": "2023-08-12T19:49:20.725617",
     "status": "completed"
    },
    "tags": []
   },
   "outputs": [],
   "source": [
    "# num_vars = [\"audienceScore\", \"runtimeMinutes\"]\n",
    "# txt_vars = [\"originalLanguage\", \"genre\", \"director\", \"reviewerName\", \"reviewText\"]\n",
    "# cat_vars = [\"rating\", \"isFrequentReviewer\"]"
   ]
  },
  {
   "cell_type": "code",
   "execution_count": 204,
   "id": "c9b8be5a",
   "metadata": {
    "execution": {
     "iopub.execute_input": "2023-08-12T19:49:21.060543Z",
     "iopub.status.busy": "2023-08-12T19:49:21.060106Z",
     "iopub.status.idle": "2023-08-12T19:49:21.065195Z",
     "shell.execute_reply": "2023-08-12T19:49:21.063972Z"
    },
    "papermill": {
     "duration": 0.119094,
     "end_time": "2023-08-12T19:49:21.067312",
     "exception": false,
     "start_time": "2023-08-12T19:49:20.948218",
     "status": "completed"
    },
    "tags": []
   },
   "outputs": [],
   "source": [
    "# num_pipe = Pipeline(steps=[\n",
    "#                             (\"imputer\", SimpleImputer(strategy=\"mean\", missing_values=np.nan)),\n",
    "#                             (\"scaler\", MinMaxScaler())\n",
    "#                         ])\n",
    "# num_pipe"
   ]
  },
  {
   "cell_type": "code",
   "execution_count": 205,
   "id": "26223afe",
   "metadata": {
    "execution": {
     "iopub.execute_input": "2023-08-12T19:49:21.299315Z",
     "iopub.status.busy": "2023-08-12T19:49:21.298783Z",
     "iopub.status.idle": "2023-08-12T19:49:21.305813Z",
     "shell.execute_reply": "2023-08-12T19:49:21.304624Z"
    },
    "papermill": {
     "duration": 0.12847,
     "end_time": "2023-08-12T19:49:21.308914",
     "exception": false,
     "start_time": "2023-08-12T19:49:21.180444",
     "status": "completed"
    },
    "tags": []
   },
   "outputs": [],
   "source": [
    "# txt_pipe = Pipeline(steps=[\n",
    "#                             (\"tvec\", TfidfVectorizer())\n",
    "#                         ])\n",
    "# txt_pipe"
   ]
  },
  {
   "cell_type": "code",
   "execution_count": 206,
   "id": "77caee33",
   "metadata": {
    "execution": {
     "iopub.execute_input": "2023-08-12T19:49:21.546616Z",
     "iopub.status.busy": "2023-08-12T19:49:21.545474Z",
     "iopub.status.idle": "2023-08-12T19:49:21.551230Z",
     "shell.execute_reply": "2023-08-12T19:49:21.550148Z"
    },
    "papermill": {
     "duration": 0.126116,
     "end_time": "2023-08-12T19:49:21.553810",
     "exception": false,
     "start_time": "2023-08-12T19:49:21.427694",
     "status": "completed"
    },
    "tags": []
   },
   "outputs": [],
   "source": [
    "# cat_pipe = Pipeline(steps=[\n",
    "#                             (\"ohe\", OneHotEncoder(handle_unknown=\"ignore\"))\n",
    "#                         ])\n",
    "# cat_pipe"
   ]
  },
  {
   "cell_type": "code",
   "execution_count": 207,
   "id": "577ee4d9",
   "metadata": {
    "execution": {
     "iopub.execute_input": "2023-08-12T19:49:21.782236Z",
     "iopub.status.busy": "2023-08-12T19:49:21.781741Z",
     "iopub.status.idle": "2023-08-12T19:49:21.786723Z",
     "shell.execute_reply": "2023-08-12T19:49:21.785700Z"
    },
    "papermill": {
     "duration": 0.116927,
     "end_time": "2023-08-12T19:49:21.788912",
     "exception": false,
     "start_time": "2023-08-12T19:49:21.671985",
     "status": "completed"
    },
    "tags": []
   },
   "outputs": [],
   "source": [
    "# tfidf_vec_1 = TfidfVectorizer(ngram_range=(1,2))\n",
    "# tfidf_vec_1"
   ]
  },
  {
   "cell_type": "code",
   "execution_count": 208,
   "id": "641fc1cb",
   "metadata": {
    "execution": {
     "iopub.execute_input": "2023-08-12T19:49:22.016351Z",
     "iopub.status.busy": "2023-08-12T19:49:22.015347Z",
     "iopub.status.idle": "2023-08-12T19:49:22.021570Z",
     "shell.execute_reply": "2023-08-12T19:49:22.020523Z"
    },
    "papermill": {
     "duration": 0.126092,
     "end_time": "2023-08-12T19:49:22.023945",
     "exception": false,
     "start_time": "2023-08-12T19:49:21.897853",
     "status": "completed"
    },
    "tags": []
   },
   "outputs": [],
   "source": [
    "# ct_final = ColumnTransformer(transformers=[\n",
    "#                                         (\"num\", num_pipe, num_vars),\n",
    "#                                         (\"txt1\", txt_pipe, \"originalLanguage\"),\n",
    "#                                         (\"txt2\", txt_pipe, \"genre\"),\n",
    "#                                         (\"txt3\", txt_pipe, \"director\"),\n",
    "#                                         (\"cat\", cat_pipe, cat_vars),\n",
    "#                                         (\"txt4a\", tfidf_vec_1, \"reviewText\")\n",
    "# #                                         (\"txt4\", TfidfVectorizer(ngram_range=(1,2)), \"reviewText\"),\n",
    "# #                                         (\"cat2\", cat_pipe, [\"isFrequentReviewer\"])\n",
    "#                                         ], remainder=\"drop\", n_jobs=1)\n",
    "\n",
    "# # Note that this transformer drops \"movieid\" column and \"reviewerName\" column  \n",
    "# ct_final"
   ]
  },
  {
   "cell_type": "code",
   "execution_count": 209,
   "id": "60facf62",
   "metadata": {
    "execution": {
     "iopub.execute_input": "2023-08-12T19:49:22.244324Z",
     "iopub.status.busy": "2023-08-12T19:49:22.243590Z",
     "iopub.status.idle": "2023-08-12T19:49:22.247531Z",
     "shell.execute_reply": "2023-08-12T19:49:22.246766Z"
    },
    "papermill": {
     "duration": 0.115872,
     "end_time": "2023-08-12T19:49:22.249835",
     "exception": false,
     "start_time": "2023-08-12T19:49:22.133963",
     "status": "completed"
    },
    "tags": []
   },
   "outputs": [],
   "source": [
    "# pipe_final = Pipeline(steps=[\n",
    "#                         (\"preprocessor\", ct_final),\n",
    "#                         (\"model\", LogisticRegression(max_iter=100000))\n",
    "#                     ])\n",
    "# pipe_final"
   ]
  },
  {
   "cell_type": "code",
   "execution_count": 210,
   "id": "d553dad8",
   "metadata": {
    "execution": {
     "iopub.execute_input": "2023-08-12T19:49:22.471018Z",
     "iopub.status.busy": "2023-08-12T19:49:22.470598Z",
     "iopub.status.idle": "2023-08-12T19:49:22.475439Z",
     "shell.execute_reply": "2023-08-12T19:49:22.474094Z"
    },
    "papermill": {
     "duration": 0.117091,
     "end_time": "2023-08-12T19:49:22.477641",
     "exception": false,
     "start_time": "2023-08-12T19:49:22.360550",
     "status": "completed"
    },
    "tags": []
   },
   "outputs": [],
   "source": [
    "# final_vars = num_vars + txt_vars + cat_vars\n",
    "# len(final_vars), final_vars"
   ]
  },
  {
   "cell_type": "markdown",
   "id": "6c30ebad",
   "metadata": {
    "papermill": {
     "duration": 0.210955,
     "end_time": "2023-08-12T19:49:22.797165",
     "exception": false,
     "start_time": "2023-08-12T19:49:22.586210",
     "status": "completed"
    },
    "tags": []
   },
   "source": [
    "### Use \"split_train_predict\" function to run end-to-end pipeline  "
   ]
  },
  {
   "cell_type": "code",
   "execution_count": 211,
   "id": "c98fa712",
   "metadata": {
    "execution": {
     "iopub.execute_input": "2023-08-12T19:49:23.019713Z",
     "iopub.status.busy": "2023-08-12T19:49:23.019288Z",
     "iopub.status.idle": "2023-08-12T19:49:23.023916Z",
     "shell.execute_reply": "2023-08-12T19:49:23.023120Z"
    },
    "papermill": {
     "duration": 0.119073,
     "end_time": "2023-08-12T19:49:23.026111",
     "exception": false,
     "start_time": "2023-08-12T19:49:22.907038",
     "status": "completed"
    },
    "tags": []
   },
   "outputs": [],
   "source": [
    "# split_train_predict(merged_train_features, merged_train_labels, pipe_final, test_size=0.25, random_state=42)"
   ]
  },
  {
   "cell_type": "markdown",
   "id": "1e6a5979",
   "metadata": {
    "papermill": {
     "duration": 0.108779,
     "end_time": "2023-08-12T19:49:23.243959",
     "exception": false,
     "start_time": "2023-08-12T19:49:23.135180",
     "status": "completed"
    },
    "tags": []
   },
   "source": [
    "## Try the best four features obtained on local machine  "
   ]
  },
  {
   "cell_type": "code",
   "execution_count": 212,
   "id": "9e6aa7ad",
   "metadata": {
    "execution": {
     "iopub.execute_input": "2023-08-12T19:49:23.465551Z",
     "iopub.status.busy": "2023-08-12T19:49:23.464847Z",
     "iopub.status.idle": "2023-08-12T19:49:23.469279Z",
     "shell.execute_reply": "2023-08-12T19:49:23.468180Z"
    },
    "papermill": {
     "duration": 0.118534,
     "end_time": "2023-08-12T19:49:23.472177",
     "exception": false,
     "start_time": "2023-08-12T19:49:23.353643",
     "status": "completed"
    },
    "tags": []
   },
   "outputs": [],
   "source": [
    "# tfidf_vec_2 = TfidfVectorizer(ngram_range=(1,2))\n",
    "# tfidf_vec_2"
   ]
  },
  {
   "cell_type": "code",
   "execution_count": 213,
   "id": "0026d923",
   "metadata": {
    "execution": {
     "iopub.execute_input": "2023-08-12T19:49:23.694021Z",
     "iopub.status.busy": "2023-08-12T19:49:23.693109Z",
     "iopub.status.idle": "2023-08-12T19:49:23.698637Z",
     "shell.execute_reply": "2023-08-12T19:49:23.697787Z"
    },
    "papermill": {
     "duration": 0.118916,
     "end_time": "2023-08-12T19:49:23.701060",
     "exception": false,
     "start_time": "2023-08-12T19:49:23.582144",
     "status": "completed"
    },
    "tags": []
   },
   "outputs": [],
   "source": [
    "# ct_best4 = ColumnTransformer(transformers=[\n",
    "#                                             (\"num\", num_pipe, [\"audienceScore\"]),\n",
    "#                                             (\"cat\", cat_pipe, [\"rating\", \"isFrequentReviewer\"]),\n",
    "#                                             (\"tvec\", tfidf_vec_2, \"reviewText\")\n",
    "#                             ])\n",
    "\n",
    "# pipe_best4 = Pipeline(steps=[\n",
    "#     (\"preprocessor\", ct_best4),\n",
    "#     (\"model\", LogisticRegression())\n",
    "# ])\n",
    "\n",
    "# pipe_best4.set_params(model__C=10, model__max_iter=100000)\n",
    "\n",
    "# pipe_best4"
   ]
  },
  {
   "cell_type": "code",
   "execution_count": 214,
   "id": "67836463",
   "metadata": {
    "execution": {
     "iopub.execute_input": "2023-08-12T19:49:23.920023Z",
     "iopub.status.busy": "2023-08-12T19:49:23.919160Z",
     "iopub.status.idle": "2023-08-12T19:49:23.924723Z",
     "shell.execute_reply": "2023-08-12T19:49:23.923423Z"
    },
    "papermill": {
     "duration": 0.117497,
     "end_time": "2023-08-12T19:49:23.927062",
     "exception": false,
     "start_time": "2023-08-12T19:49:23.809565",
     "status": "completed"
    },
    "tags": []
   },
   "outputs": [],
   "source": [
    "# split_train_predict(merged[[\"audienceScore\", \"rating\", \"isFrequentReviewer\", \"reviewText\"]], merged[\"sentiment\"], pipe_best4, test_size=0.25)"
   ]
  },
  {
   "cell_type": "markdown",
   "id": "3a4c0dcb",
   "metadata": {
    "papermill": {
     "duration": 0.110518,
     "end_time": "2023-08-12T19:49:24.149221",
     "exception": false,
     "start_time": "2023-08-12T19:49:24.038703",
     "status": "completed"
    },
    "tags": []
   },
   "source": [
    "## Try only 'reviewText' column  "
   ]
  },
  {
   "cell_type": "code",
   "execution_count": 215,
   "id": "5fb2c7c4",
   "metadata": {
    "execution": {
     "iopub.execute_input": "2023-08-12T19:49:24.369268Z",
     "iopub.status.busy": "2023-08-12T19:49:24.368831Z",
     "iopub.status.idle": "2023-08-12T19:49:24.374621Z",
     "shell.execute_reply": "2023-08-12T19:49:24.373289Z"
    },
    "papermill": {
     "duration": 0.118554,
     "end_time": "2023-08-12T19:49:24.376886",
     "exception": false,
     "start_time": "2023-08-12T19:49:24.258332",
     "status": "completed"
    },
    "tags": []
   },
   "outputs": [],
   "source": [
    "# tfidf_vec_3 = TfidfVectorizer(ngram_range=(1,2))\n",
    "# tfidf_vec_3"
   ]
  },
  {
   "cell_type": "code",
   "execution_count": 216,
   "id": "d03b8d14",
   "metadata": {
    "execution": {
     "iopub.execute_input": "2023-08-12T19:49:24.594467Z",
     "iopub.status.busy": "2023-08-12T19:49:24.593715Z",
     "iopub.status.idle": "2023-08-12T19:49:24.597926Z",
     "shell.execute_reply": "2023-08-12T19:49:24.597059Z"
    },
    "papermill": {
     "duration": 0.116252,
     "end_time": "2023-08-12T19:49:24.600447",
     "exception": false,
     "start_time": "2023-08-12T19:49:24.484195",
     "status": "completed"
    },
    "tags": []
   },
   "outputs": [],
   "source": [
    "# ct_RTonly = ColumnTransformer(transformers=[\n",
    "#                                             ('txt', tfidf_vec_3, 'reviewText'),\n",
    "#                                             ], remainder='drop')\n",
    "# ct_RTonly"
   ]
  },
  {
   "cell_type": "code",
   "execution_count": 217,
   "id": "fb97fead",
   "metadata": {
    "execution": {
     "iopub.execute_input": "2023-08-12T19:49:24.820552Z",
     "iopub.status.busy": "2023-08-12T19:49:24.819481Z",
     "iopub.status.idle": "2023-08-12T19:49:24.825145Z",
     "shell.execute_reply": "2023-08-12T19:49:24.823744Z"
    },
    "papermill": {
     "duration": 0.118497,
     "end_time": "2023-08-12T19:49:24.828106",
     "exception": false,
     "start_time": "2023-08-12T19:49:24.709609",
     "status": "completed"
    },
    "tags": []
   },
   "outputs": [],
   "source": [
    "# pipe_RTonly = Pipeline(steps=[\n",
    "#     (\"preprocessor\", ct_RTonly),\n",
    "#     (\"model\", LogisticRegression())\n",
    "# ])\n",
    "\n",
    "# pipe_RTonly.set_params(model__C=10, model__max_iter=100000)\n",
    "\n",
    "# pipe_RTonly"
   ]
  },
  {
   "cell_type": "markdown",
   "id": "843d9cef",
   "metadata": {
    "papermill": {
     "duration": 0.111787,
     "end_time": "2023-08-12T19:49:25.045110",
     "exception": false,
     "start_time": "2023-08-12T19:49:24.933323",
     "status": "completed"
    },
    "tags": []
   },
   "source": [
    "## Using the 'submit_v4' function  "
   ]
  },
  {
   "cell_type": "markdown",
   "id": "94de73f2",
   "metadata": {
    "papermill": {
     "duration": 0.105069,
     "end_time": "2023-08-12T19:49:25.255061",
     "exception": false,
     "start_time": "2023-08-12T19:49:25.149992",
     "status": "completed"
    },
    "tags": []
   },
   "source": [
    "### Try the best 4 parameters with submit_v4 function"
   ]
  },
  {
   "cell_type": "code",
   "execution_count": 218,
   "id": "0af777e3",
   "metadata": {
    "execution": {
     "iopub.execute_input": "2023-08-12T19:49:25.469276Z",
     "iopub.status.busy": "2023-08-12T19:49:25.468432Z",
     "iopub.status.idle": "2023-08-12T19:49:25.473345Z",
     "shell.execute_reply": "2023-08-12T19:49:25.472596Z"
    },
    "papermill": {
     "duration": 0.116129,
     "end_time": "2023-08-12T19:49:25.475561",
     "exception": false,
     "start_time": "2023-08-12T19:49:25.359432",
     "status": "completed"
    },
    "tags": []
   },
   "outputs": [],
   "source": [
    "# best4 = [\"audienceScore\", \"rating\", \"isFrequentReviewer\", \"reviewText\"]\n",
    "\n",
    "# best4_dict = {'cat': [\"rating\", \"isFrequentReviewer\"],\n",
    "#              'num': [\"audienceScore\"],\n",
    "#              'txt': ['reviewText']}\n",
    "\n",
    "# best4_dict = {'num': [\"audienceScore\"],\n",
    "#              'txt': ['reviewText', 'movieid', 'director']}\n",
    "\n",
    "# best4_dict"
   ]
  },
  {
   "cell_type": "code",
   "execution_count": 219,
   "id": "4fe85aed",
   "metadata": {
    "execution": {
     "iopub.execute_input": "2023-08-12T19:49:25.691784Z",
     "iopub.status.busy": "2023-08-12T19:49:25.691290Z",
     "iopub.status.idle": "2023-08-12T19:49:25.696282Z",
     "shell.execute_reply": "2023-08-12T19:49:25.695075Z"
    },
    "papermill": {
     "duration": 0.118631,
     "end_time": "2023-08-12T19:49:25.698676",
     "exception": false,
     "start_time": "2023-08-12T19:49:25.580045",
     "status": "completed"
    },
    "tags": []
   },
   "outputs": [],
   "source": [
    "# submit_v4(selected_features=best4_dict)"
   ]
  },
  {
   "cell_type": "markdown",
   "id": "58db172f",
   "metadata": {
    "papermill": {
     "duration": 0.107583,
     "end_time": "2023-08-12T19:49:25.914433",
     "exception": false,
     "start_time": "2023-08-12T19:49:25.806850",
     "status": "completed"
    },
    "tags": []
   },
   "source": [
    "### Try the best 3 parameters with submit_v4 function"
   ]
  },
  {
   "cell_type": "code",
   "execution_count": 220,
   "id": "9de6eca3",
   "metadata": {
    "execution": {
     "iopub.execute_input": "2023-08-12T19:49:26.135949Z",
     "iopub.status.busy": "2023-08-12T19:49:26.135451Z",
     "iopub.status.idle": "2023-08-12T19:49:26.140282Z",
     "shell.execute_reply": "2023-08-12T19:49:26.139160Z"
    },
    "papermill": {
     "duration": 0.118726,
     "end_time": "2023-08-12T19:49:26.142756",
     "exception": false,
     "start_time": "2023-08-12T19:49:26.024030",
     "status": "completed"
    },
    "tags": []
   },
   "outputs": [],
   "source": [
    "# best3 = [\"audienceScore\", \"isFrequentReviewer\", \"reviewText\"]\n",
    "# best3_dict = {'cat': [\"isFrequentReviewer\"],\n",
    "#              'num': [\"audienceScore\"],\n",
    "#              'txt': ['reviewText']}\n",
    "# best3_dict"
   ]
  },
  {
   "cell_type": "code",
   "execution_count": 221,
   "id": "0899f72b",
   "metadata": {
    "execution": {
     "iopub.execute_input": "2023-08-12T19:49:26.362945Z",
     "iopub.status.busy": "2023-08-12T19:49:26.362522Z",
     "iopub.status.idle": "2023-08-12T19:49:26.368267Z",
     "shell.execute_reply": "2023-08-12T19:49:26.367086Z"
    },
    "papermill": {
     "duration": 0.118609,
     "end_time": "2023-08-12T19:49:26.370567",
     "exception": false,
     "start_time": "2023-08-12T19:49:26.251958",
     "status": "completed"
    },
    "tags": []
   },
   "outputs": [],
   "source": [
    "# submit_v4(selected_features=best3_dict)"
   ]
  },
  {
   "cell_type": "markdown",
   "id": "334b98d6",
   "metadata": {
    "papermill": {
     "duration": 0.107711,
     "end_time": "2023-08-12T19:49:26.587809",
     "exception": false,
     "start_time": "2023-08-12T19:49:26.480098",
     "status": "completed"
    },
    "tags": []
   },
   "source": [
    "## Try throwing almost everything (no boxOffice) at submit_v4!  "
   ]
  },
  {
   "cell_type": "code",
   "execution_count": 222,
   "id": "534f4893",
   "metadata": {
    "execution": {
     "iopub.execute_input": "2023-08-12T19:49:26.808975Z",
     "iopub.status.busy": "2023-08-12T19:49:26.808547Z",
     "iopub.status.idle": "2023-08-12T19:49:26.816665Z",
     "shell.execute_reply": "2023-08-12T19:49:26.815454Z"
    },
    "papermill": {
     "duration": 0.120636,
     "end_time": "2023-08-12T19:49:26.819192",
     "exception": false,
     "start_time": "2023-08-12T19:49:26.698556",
     "status": "completed"
    },
    "tags": []
   },
   "outputs": [
    {
     "data": {
      "text/plain": [
       "\"Most from merged = ['movieid', 'reviewerName', 'isFrequentReviewer', 'reviewText',\\n       'audienceScore', 'rating', 'runtimeMinutes', 'genre', \\n       'originalLanguage', 'director']\""
      ]
     },
     "execution_count": 222,
     "metadata": {},
     "output_type": "execute_result"
    }
   ],
   "source": [
    "\"\"\"Most from merged = ['movieid', 'reviewerName', 'isFrequentReviewer', 'reviewText',\n",
    "       'audienceScore', 'rating', 'runtimeMinutes', 'genre', \n",
    "       'originalLanguage', 'director']\"\"\"\n",
    "\n",
    "# almost_dict = {'cat': [\"isFrequentReviewer\", \"rating\", \"originalLanguage\"],\n",
    "#              'num': [\"audienceScore\", \"runtimeMinutes\"],\n",
    "#              'txt': ['reviewText', 'reviewerName', 'movieid', 'genre', 'director']}\n",
    "# almost_dict"
   ]
  },
  {
   "cell_type": "code",
   "execution_count": 223,
   "id": "e5d8917b",
   "metadata": {
    "execution": {
     "iopub.execute_input": "2023-08-12T19:49:27.042782Z",
     "iopub.status.busy": "2023-08-12T19:49:27.042379Z",
     "iopub.status.idle": "2023-08-12T19:49:27.047612Z",
     "shell.execute_reply": "2023-08-12T19:49:27.046412Z"
    },
    "papermill": {
     "duration": 0.120353,
     "end_time": "2023-08-12T19:49:27.050029",
     "exception": false,
     "start_time": "2023-08-12T19:49:26.929676",
     "status": "completed"
    },
    "tags": []
   },
   "outputs": [],
   "source": [
    "# submit_v4(selected_features=almost_dict)"
   ]
  },
  {
   "cell_type": "markdown",
   "id": "22105ea4",
   "metadata": {
    "papermill": {
     "duration": 0.108808,
     "end_time": "2023-08-12T19:49:27.370600",
     "exception": false,
     "start_time": "2023-08-12T19:49:27.261792",
     "status": "completed"
    },
    "tags": []
   },
   "source": [
    "## Try throwing everything possible at submit_v4!  "
   ]
  },
  {
   "cell_type": "code",
   "execution_count": 224,
   "id": "6e4e9ef0",
   "metadata": {
    "execution": {
     "iopub.execute_input": "2023-08-12T19:49:27.596402Z",
     "iopub.status.busy": "2023-08-12T19:49:27.595169Z",
     "iopub.status.idle": "2023-08-12T19:49:27.602008Z",
     "shell.execute_reply": "2023-08-12T19:49:27.600916Z"
    },
    "papermill": {
     "duration": 0.121126,
     "end_time": "2023-08-12T19:49:27.604187",
     "exception": false,
     "start_time": "2023-08-12T19:49:27.483061",
     "status": "completed"
    },
    "tags": []
   },
   "outputs": [
    {
     "data": {
      "text/plain": [
       "\"All from merged = ['movieid', 'reviewerName', 'isFrequentReviewer', 'reviewText',\\n       'audienceScore', 'rating', 'runtimeMinutes', 'genre', 'boxOffice',\\n       'originalLanguage', 'director']\""
      ]
     },
     "execution_count": 224,
     "metadata": {},
     "output_type": "execute_result"
    }
   ],
   "source": [
    "\"\"\"All from merged = ['movieid', 'reviewerName', 'isFrequentReviewer', 'reviewText',\n",
    "       'audienceScore', 'rating', 'runtimeMinutes', 'genre', 'boxOffice',\n",
    "       'originalLanguage', 'director']\"\"\"\n",
    "\n",
    "# all_dict = {'cat': [\"isFrequentReviewer\", \"rating\", \"originalLanguage\"],\n",
    "#              'num': [\"audienceScore\", \"runtimeMinutes\", \"boxOffice\"],\n",
    "#              'txt': ['reviewText', 'reviewerName', 'movieid', 'genre', 'director']}\n",
    "# all_dict"
   ]
  },
  {
   "cell_type": "code",
   "execution_count": 225,
   "id": "bd05afb2",
   "metadata": {
    "execution": {
     "iopub.execute_input": "2023-08-12T19:49:27.825258Z",
     "iopub.status.busy": "2023-08-12T19:49:27.824567Z",
     "iopub.status.idle": "2023-08-12T19:49:27.828527Z",
     "shell.execute_reply": "2023-08-12T19:49:27.827658Z"
    },
    "papermill": {
     "duration": 0.116885,
     "end_time": "2023-08-12T19:49:27.831231",
     "exception": false,
     "start_time": "2023-08-12T19:49:27.714346",
     "status": "completed"
    },
    "tags": []
   },
   "outputs": [],
   "source": [
    "# submit_v4(selected_features=all_dict)"
   ]
  },
  {
   "cell_type": "markdown",
   "id": "cb4fd047",
   "metadata": {
    "papermill": {
     "duration": 0.109986,
     "end_time": "2023-08-12T19:49:28.049866",
     "exception": false,
     "start_time": "2023-08-12T19:49:27.939880",
     "status": "completed"
    },
    "tags": []
   },
   "source": [
    "## Try GridSearchCV on everything  "
   ]
  },
  {
   "cell_type": "code",
   "execution_count": 226,
   "id": "ed14e349",
   "metadata": {
    "execution": {
     "iopub.execute_input": "2023-08-12T19:49:28.264111Z",
     "iopub.status.busy": "2023-08-12T19:49:28.263329Z",
     "iopub.status.idle": "2023-08-12T19:49:28.268185Z",
     "shell.execute_reply": "2023-08-12T19:49:28.267362Z"
    },
    "papermill": {
     "duration": 0.115256,
     "end_time": "2023-08-12T19:49:28.270308",
     "exception": false,
     "start_time": "2023-08-12T19:49:28.155052",
     "status": "completed"
    },
    "tags": []
   },
   "outputs": [],
   "source": [
    "# param_grid = {\n",
    "#     \"model__C\": [0.5, 2, 5, 15]\n",
    "# }\n",
    "\n",
    "# param_grid = {\n",
    "#     'model__C' : [1, 5],\n",
    "#     'model__solver': ['lbfgs', 'liblinear', 'newton-cg', 'newton-cholesky', 'sag', 'saga']\n",
    "# }\n",
    "\n",
    "# param_grid = {\n",
    "#     'model__C' : [1, 5],\n",
    "#     'model__solver': ['lbfgs', 'liblinear', 'sag', 'saga']\n",
    "# }\n",
    "\n",
    "# param_grid = {\n",
    "#     'model__C' : [1, 5, 10, 15],\n",
    "#     'model__solver': ['lbfgs', 'liblinear', 'saga', 'newton-cg']\n",
    "# }\n",
    "\n",
    "# param_grid = {\n",
    "#     'model__C' : [1, 5, 10, 20],\n",
    "#     'model__solver': ['lbfgs', 'liblinear', 'saga']\n",
    "# }\n",
    "\n",
    "# param_grid"
   ]
  },
  {
   "cell_type": "code",
   "execution_count": 227,
   "id": "a45fbe80",
   "metadata": {
    "execution": {
     "iopub.execute_input": "2023-08-12T19:49:28.486913Z",
     "iopub.status.busy": "2023-08-12T19:49:28.486142Z",
     "iopub.status.idle": "2023-08-12T19:49:28.490801Z",
     "shell.execute_reply": "2023-08-12T19:49:28.489943Z"
    },
    "papermill": {
     "duration": 0.116178,
     "end_time": "2023-08-12T19:49:28.492963",
     "exception": false,
     "start_time": "2023-08-12T19:49:28.376785",
     "status": "completed"
    },
    "tags": []
   },
   "outputs": [],
   "source": [
    "# submit_v4(selected_features={'txt': [\"genre\"]}, param_grid=param_grid)"
   ]
  },
  {
   "cell_type": "code",
   "execution_count": 228,
   "id": "772183d1",
   "metadata": {
    "execution": {
     "iopub.execute_input": "2023-08-12T19:49:28.711673Z",
     "iopub.status.busy": "2023-08-12T19:49:28.711015Z",
     "iopub.status.idle": "2023-08-12T19:49:28.717565Z",
     "shell.execute_reply": "2023-08-12T19:49:28.716860Z"
    },
    "papermill": {
     "duration": 0.120495,
     "end_time": "2023-08-12T19:49:28.720507",
     "exception": false,
     "start_time": "2023-08-12T19:49:28.600012",
     "status": "completed"
    },
    "tags": []
   },
   "outputs": [
    {
     "data": {
      "text/plain": [
       "\"Used 'groupby' function instead on 'drop_duplicates' on movies.csv file. \\nIt reduced the number of missing values significantly! \\nThen used LogisticRegression() with GridSearchCV on submit_v4 function with \\nparam_grid={'model__C': [1, 5, 10], 'model__solver': ['lbfgs', 'liblinear', 'saga']}. \\nThe best f1_micro score in GridSearchCV was 0.8399771362056203 which is highest among \\nall the versions so far. Best C was 5 and best solver was 'saga'.\\nScore obtained was 0.84385 which is lower than 0.84441.\""
      ]
     },
     "execution_count": 228,
     "metadata": {},
     "output_type": "execute_result"
    }
   ],
   "source": [
    "# submit_v4(selected_features=all_dict, param_grid=param_grid)\n",
    "\n",
    "# Best C was 5\n",
    "# Best solver was liblinear\n",
    "\n",
    "\"\"\"Used 'groupby' function instead on 'drop_duplicates' on movies.csv file. \n",
    "It reduced the number of missing values significantly! \n",
    "Then used LogisticRegression() with GridSearchCV on submit_v4 function with \n",
    "param_grid={'model__C': [1, 5, 10], 'model__solver': ['lbfgs', 'liblinear', 'saga']}. \n",
    "The best f1_micro score in GridSearchCV was 0.8399771362056203 which is highest among \n",
    "all the versions so far. Best C was 5 and best solver was 'saga'.\n",
    "Score obtained was 0.84385 which is lower than 0.84441.\"\"\""
   ]
  },
  {
   "cell_type": "code",
   "execution_count": 229,
   "id": "e8d53861",
   "metadata": {
    "execution": {
     "iopub.execute_input": "2023-08-12T19:49:28.956748Z",
     "iopub.status.busy": "2023-08-12T19:49:28.956331Z",
     "iopub.status.idle": "2023-08-12T19:49:28.961591Z",
     "shell.execute_reply": "2023-08-12T19:49:28.960574Z"
    },
    "papermill": {
     "duration": 0.123296,
     "end_time": "2023-08-12T19:49:28.963723",
     "exception": false,
     "start_time": "2023-08-12T19:49:28.840427",
     "status": "completed"
    },
    "tags": []
   },
   "outputs": [],
   "source": [
    "# Best 5 parameters\n",
    "\n",
    "# best5_dict = {'num': [\"audienceScore\"],\n",
    "#              'txt': ['reviewText', 'reviewerName','movieid', 'director']}\n",
    "\n",
    "# best5_dict"
   ]
  },
  {
   "cell_type": "code",
   "execution_count": 230,
   "id": "49419967",
   "metadata": {
    "execution": {
     "iopub.execute_input": "2023-08-12T19:49:29.183585Z",
     "iopub.status.busy": "2023-08-12T19:49:29.182578Z",
     "iopub.status.idle": "2023-08-12T19:49:29.191184Z",
     "shell.execute_reply": "2023-08-12T19:49:29.190292Z"
    },
    "papermill": {
     "duration": 0.118333,
     "end_time": "2023-08-12T19:49:29.193373",
     "exception": false,
     "start_time": "2023-08-12T19:49:29.075040",
     "status": "completed"
    },
    "tags": []
   },
   "outputs": [
    {
     "data": {
      "text/plain": [
       "\"(Update): Used both CountVectorizer and TfidfVectorizer on a massive GridSearchCV \\nwhich took 22527.2s  (6.25 hrs) to run! Gave a score of 0.8439093822800923 locally and did not overfit!\\nBest params: {'model__C': 1, 'model__solver': 'liblinear'}.\\nHighest public score yet: 0.84591 (Rank up from 9 to 5!)\""
      ]
     },
     "execution_count": 230,
     "metadata": {},
     "output_type": "execute_result"
    }
   ],
   "source": [
    "# Submit best 5 features\n",
    "\n",
    "\"\"\"(Update): Used both CountVectorizer and TfidfVectorizer on a massive GridSearchCV \n",
    "which took 22527.2s  (6.25 hrs) to run! Gave a score of 0.8439093822800923 locally and did not overfit!\n",
    "Best params: {'model__C': 1, 'model__solver': 'liblinear'}.\n",
    "Highest public score yet: 0.84591 (Rank up from 9 to 5!)\"\"\"\n",
    "\n",
    "# param_grid = {\n",
    "#     'model__C' : [5, 10, 15],\n",
    "#     'model__solver': ['lbfgs', 'liblinear', 'saga']\n",
    "# }\n",
    "\n",
    "\n",
    "# Try new param_grid with fit_intercept and dual in logreg\n",
    "\n",
    "# param_grid = {\n",
    "#     'model__C' : [1],\n",
    "#     'model__solver': ['liblinear'],\n",
    "#     \"model__fit_intercept\" : [True, False],\n",
    "#     \"model__dual\" : [True, False] \n",
    "# }\n",
    "\n",
    "\n",
    "# Local testing  \n",
    "# submit_v4(selected_features={'num': ['audienceScore']},\n",
    "#          add_countvec=True)\n",
    "\n",
    "# submit_v4(selected_features={'num': ['audienceScore']},\n",
    "#          add_countvec=True, \n",
    "#           param_grid=param_grid)\n",
    "\n",
    "\n",
    "# Main submission\n",
    "\n",
    "# submit_v4(selected_features=best5_dict,\n",
    "#          add_countvec=True)\n",
    "\n",
    "\n",
    "# submit_v4(selected_features=best5_dict,\n",
    "#           add_countvec=True,\n",
    "#           param_grid=param_grid)"
   ]
  },
  {
   "cell_type": "code",
   "execution_count": 231,
   "id": "e796e6e6",
   "metadata": {
    "execution": {
     "iopub.execute_input": "2023-08-12T19:49:29.407233Z",
     "iopub.status.busy": "2023-08-12T19:49:29.405947Z",
     "iopub.status.idle": "2023-08-12T19:49:29.412365Z",
     "shell.execute_reply": "2023-08-12T19:49:29.411345Z"
    },
    "papermill": {
     "duration": 0.115732,
     "end_time": "2023-08-12T19:49:29.414672",
     "exception": false,
     "start_time": "2023-08-12T19:49:29.298940",
     "status": "completed"
    },
    "tags": []
   },
   "outputs": [],
   "source": [
    "## ALL DICT cv=10\n",
    "\n",
    "# all_dict = {'cat': [\"isFrequentReviewer\", \"rating\", \"originalLanguage\"],\n",
    "#              'num': [\"audienceScore\", \"runtimeMinutes\", \"boxOffice\"],\n",
    "#              'txt': ['reviewText', 'reviewerName', 'movieid', 'genre', 'director']}\n",
    "# print(all_dict)\n",
    "\n",
    "# param_grid = {\n",
    "#     'model__C' : [2, 5, 10],\n",
    "#     'model__solver': ['lbfgs', 'liblinear', 'saga']\n",
    "# }\n",
    "# print(param_grid)\n",
    "\n",
    "# param_grid = {\n",
    "#     'model__C' : [1, 5, 10],\n",
    "#     'model__solver': ['liblinear'],\n",
    "#     \"model__fit_intercept\" : [True, False],\n",
    "#     \"model__dual\" : [True, False] \n",
    "# }\n",
    "\n",
    "\n",
    "# Main submission\n",
    "\n",
    "# submit_v4(selected_model=LogisticRegression(C=5, solver='liblinear', max_iter=10000),\n",
    "#           selected_features=all_dict,\n",
    "#           param_grid=param_grid)\n",
    "\n",
    "# submit_v4(selected_features=all_dict,\n",
    "#           add_countvec=True,\n",
    "#           param_grid=param_grid)"
   ]
  },
  {
   "cell_type": "code",
   "execution_count": 232,
   "id": "ba07bcd5",
   "metadata": {
    "execution": {
     "iopub.execute_input": "2023-08-12T19:49:29.639679Z",
     "iopub.status.busy": "2023-08-12T19:49:29.638789Z",
     "iopub.status.idle": "2023-08-12T19:49:29.644093Z",
     "shell.execute_reply": "2023-08-12T19:49:29.643233Z"
    },
    "papermill": {
     "duration": 0.119145,
     "end_time": "2023-08-12T19:49:29.646712",
     "exception": false,
     "start_time": "2023-08-12T19:49:29.527567",
     "status": "completed"
    },
    "tags": []
   },
   "outputs": [],
   "source": [
    "# Best 6 parameters\n",
    "\n",
    "# best6_dict = {'cat': [\"isFrequentReviewer\"],\n",
    "#              'num': [\"audienceScore\"],\n",
    "#              'txt': ['reviewText', 'reviewerName', 'genre', 'director']}\n",
    "\n",
    "# best6_dict = {'num': [\"audienceScore\"],\n",
    "#              'txt': ['reviewText', 'reviewerName', 'genre','movieid', 'director']}\n",
    "\n",
    "# best6_dict"
   ]
  },
  {
   "cell_type": "code",
   "execution_count": 233,
   "id": "fce1f96c",
   "metadata": {
    "execution": {
     "iopub.execute_input": "2023-08-12T19:49:29.868390Z",
     "iopub.status.busy": "2023-08-12T19:49:29.867956Z",
     "iopub.status.idle": "2023-08-12T19:49:29.873154Z",
     "shell.execute_reply": "2023-08-12T19:49:29.871792Z"
    },
    "papermill": {
     "duration": 0.118222,
     "end_time": "2023-08-12T19:49:29.875516",
     "exception": false,
     "start_time": "2023-08-12T19:49:29.757294",
     "status": "completed"
    },
    "tags": []
   },
   "outputs": [],
   "source": [
    "# Submit best 6 features (version 2)\n",
    "\n",
    "# submit_v4(selected_features=best6_dict,\n",
    "#           param_grid=param_grid)"
   ]
  },
  {
   "cell_type": "code",
   "execution_count": 234,
   "id": "c8315a0f",
   "metadata": {
    "execution": {
     "iopub.execute_input": "2023-08-12T19:49:30.097424Z",
     "iopub.status.busy": "2023-08-12T19:49:30.097006Z",
     "iopub.status.idle": "2023-08-12T19:49:30.101896Z",
     "shell.execute_reply": "2023-08-12T19:49:30.100582Z"
    },
    "papermill": {
     "duration": 0.119821,
     "end_time": "2023-08-12T19:49:30.104098",
     "exception": false,
     "start_time": "2023-08-12T19:49:29.984277",
     "status": "completed"
    },
    "tags": []
   },
   "outputs": [],
   "source": [
    "# Best 7 parameters\n",
    "\n",
    "# best7_dict = {'cat': [\"isFrequentReviewer\"],\n",
    "#              'num': [\"audienceScore\"],\n",
    "#              'txt': ['reviewText', 'reviewerName', 'movieid', 'genre', 'director']}\n",
    "# best7_dict"
   ]
  },
  {
   "cell_type": "code",
   "execution_count": 235,
   "id": "5ca9a36d",
   "metadata": {
    "execution": {
     "iopub.execute_input": "2023-08-12T19:49:30.326431Z",
     "iopub.status.busy": "2023-08-12T19:49:30.325740Z",
     "iopub.status.idle": "2023-08-12T19:49:30.330226Z",
     "shell.execute_reply": "2023-08-12T19:49:30.329062Z"
    },
    "papermill": {
     "duration": 0.119022,
     "end_time": "2023-08-12T19:49:30.332465",
     "exception": false,
     "start_time": "2023-08-12T19:49:30.213443",
     "status": "completed"
    },
    "tags": []
   },
   "outputs": [],
   "source": [
    "# Submit best 7 features\n",
    "\n",
    "# submit_v4(selected_features=best7_dict,\n",
    "#           param_grid=param_grid)"
   ]
  },
  {
   "cell_type": "code",
   "execution_count": 236,
   "id": "aa3c63db",
   "metadata": {
    "execution": {
     "iopub.execute_input": "2023-08-12T19:49:30.555100Z",
     "iopub.status.busy": "2023-08-12T19:49:30.554374Z",
     "iopub.status.idle": "2023-08-12T19:49:30.559367Z",
     "shell.execute_reply": "2023-08-12T19:49:30.557792Z"
    },
    "papermill": {
     "duration": 0.118575,
     "end_time": "2023-08-12T19:49:30.561648",
     "exception": false,
     "start_time": "2023-08-12T19:49:30.443073",
     "status": "completed"
    },
    "tags": []
   },
   "outputs": [],
   "source": [
    "# submit_v4(selected_features=best6_dict, param_grid=param_grid)"
   ]
  },
  {
   "cell_type": "markdown",
   "id": "8bccc2f2",
   "metadata": {
    "papermill": {
     "duration": 0.112661,
     "end_time": "2023-08-12T19:49:30.783760",
     "exception": false,
     "start_time": "2023-08-12T19:49:30.671099",
     "status": "completed"
    },
    "tags": []
   },
   "source": [
    "## Try a new feature dict  \n",
    "\n"
   ]
  },
  {
   "cell_type": "code",
   "execution_count": 237,
   "id": "8875dd0c",
   "metadata": {
    "execution": {
     "iopub.execute_input": "2023-08-12T19:49:31.007536Z",
     "iopub.status.busy": "2023-08-12T19:49:31.006843Z",
     "iopub.status.idle": "2023-08-12T19:49:31.013129Z",
     "shell.execute_reply": "2023-08-12T19:49:31.012153Z"
    },
    "papermill": {
     "duration": 0.122104,
     "end_time": "2023-08-12T19:49:31.015482",
     "exception": false,
     "start_time": "2023-08-12T19:49:30.893378",
     "status": "completed"
    },
    "tags": []
   },
   "outputs": [],
   "source": [
    "# all_dict_new = {'cat': [\"isFrequentReviewer\", \"rating\", \"originalLanguage\"],\n",
    "#              'num': [\"audienceScore\", \"runtimeMinutes\", \"boxOffice\"],\n",
    "#              'txt': ['reviewText', \"reviewerName\", 'movieid', 'genre', 'director']}\n",
    "# all_dict_new"
   ]
  },
  {
   "cell_type": "code",
   "execution_count": 238,
   "id": "883fc9f9",
   "metadata": {
    "execution": {
     "iopub.execute_input": "2023-08-12T19:49:31.239754Z",
     "iopub.status.busy": "2023-08-12T19:49:31.239073Z",
     "iopub.status.idle": "2023-08-12T19:49:31.242971Z",
     "shell.execute_reply": "2023-08-12T19:49:31.242245Z"
    },
    "papermill": {
     "duration": 0.117497,
     "end_time": "2023-08-12T19:49:31.245061",
     "exception": false,
     "start_time": "2023-08-12T19:49:31.127564",
     "status": "completed"
    },
    "tags": []
   },
   "outputs": [],
   "source": [
    "# submit_v4(selected_features={'txt': ['genre']}, param_grid=param_grid)"
   ]
  },
  {
   "cell_type": "code",
   "execution_count": 239,
   "id": "d5de0f80",
   "metadata": {
    "execution": {
     "iopub.execute_input": "2023-08-12T19:49:31.471742Z",
     "iopub.status.busy": "2023-08-12T19:49:31.471319Z",
     "iopub.status.idle": "2023-08-12T19:49:31.475640Z",
     "shell.execute_reply": "2023-08-12T19:49:31.474579Z"
    },
    "papermill": {
     "duration": 0.122073,
     "end_time": "2023-08-12T19:49:31.478073",
     "exception": false,
     "start_time": "2023-08-12T19:49:31.356000",
     "status": "completed"
    },
    "tags": []
   },
   "outputs": [],
   "source": [
    "# submit_v4(selected_features=all_dict_new, param_grid=param_grid)"
   ]
  },
  {
   "cell_type": "code",
   "execution_count": 240,
   "id": "1e79b96d",
   "metadata": {
    "execution": {
     "iopub.execute_input": "2023-08-12T19:49:31.697569Z",
     "iopub.status.busy": "2023-08-12T19:49:31.696887Z",
     "iopub.status.idle": "2023-08-12T19:49:31.701086Z",
     "shell.execute_reply": "2023-08-12T19:49:31.700050Z"
    },
    "papermill": {
     "duration": 0.116492,
     "end_time": "2023-08-12T19:49:31.703266",
     "exception": false,
     "start_time": "2023-08-12T19:49:31.586774",
     "status": "completed"
    },
    "tags": []
   },
   "outputs": [],
   "source": [
    "# Try non-text based columns\n",
    "# num_cat_dict = {'cat': ['isFrequentReviewer', 'rating', 'originalLanguage'],\n",
    "#  'num': ['audienceScore', 'runtimeMinutes', 'boxOffice']}\n",
    "# num_cat_dict"
   ]
  },
  {
   "cell_type": "code",
   "execution_count": 241,
   "id": "6b2472fd",
   "metadata": {
    "execution": {
     "iopub.execute_input": "2023-08-12T19:49:31.923766Z",
     "iopub.status.busy": "2023-08-12T19:49:31.923341Z",
     "iopub.status.idle": "2023-08-12T19:49:31.927438Z",
     "shell.execute_reply": "2023-08-12T19:49:31.926641Z"
    },
    "papermill": {
     "duration": 0.115958,
     "end_time": "2023-08-12T19:49:31.929472",
     "exception": false,
     "start_time": "2023-08-12T19:49:31.813514",
     "status": "completed"
    },
    "tags": []
   },
   "outputs": [],
   "source": [
    "# Use num_cat_dict features\n",
    "# (Update): Gets a local score of 0.7027181356991726. Not great.\n",
    "# submit_v4(selected_model=LogisticRegression(max_iter=100000), selected_features=num_cat_dict, param_grid=param_grid)"
   ]
  },
  {
   "cell_type": "code",
   "execution_count": 242,
   "id": "60a7e63d",
   "metadata": {
    "execution": {
     "iopub.execute_input": "2023-08-12T19:49:32.160735Z",
     "iopub.status.busy": "2023-08-12T19:49:32.159959Z",
     "iopub.status.idle": "2023-08-12T19:49:32.164557Z",
     "shell.execute_reply": "2023-08-12T19:49:32.163634Z"
    },
    "papermill": {
     "duration": 0.125483,
     "end_time": "2023-08-12T19:49:32.167283",
     "exception": false,
     "start_time": "2023-08-12T19:49:32.041800",
     "status": "completed"
    },
    "tags": []
   },
   "outputs": [],
   "source": [
    "# Try data other than reviewText\n",
    "\n",
    "# mov_dict = {'cat': ['rating', 'originalLanguage'],\n",
    "#  'num': ['audienceScore', 'runtimeMinutes', 'boxOffice'],\n",
    "#  'txt': ['movieid', 'genre', 'director']}\n",
    "# mov_dict"
   ]
  },
  {
   "cell_type": "code",
   "execution_count": 243,
   "id": "da108198",
   "metadata": {
    "execution": {
     "iopub.execute_input": "2023-08-12T19:49:32.389704Z",
     "iopub.status.busy": "2023-08-12T19:49:32.388952Z",
     "iopub.status.idle": "2023-08-12T19:49:32.393573Z",
     "shell.execute_reply": "2023-08-12T19:49:32.392613Z"
    },
    "papermill": {
     "duration": 0.118944,
     "end_time": "2023-08-12T19:49:32.395874",
     "exception": false,
     "start_time": "2023-08-12T19:49:32.276930",
     "status": "completed"
    },
    "tags": []
   },
   "outputs": [],
   "source": [
    "# Use mov_dict features\n",
    "# (Update): Gets a local score of 0.7475454316469369, which is not bad at all.\n",
    "# submit_v4(selected_model=LogisticRegression(max_iter=100000), selected_features=mov_dict, param_grid=param_grid)"
   ]
  },
  {
   "cell_type": "markdown",
   "id": "5dd9e542",
   "metadata": {
    "papermill": {
     "duration": 0.10961,
     "end_time": "2023-08-12T19:49:32.616968",
     "exception": false,
     "start_time": "2023-08-12T19:49:32.507358",
     "status": "completed"
    },
    "tags": []
   },
   "source": [
    "# Try a new column 'reviewYN'  \n",
    "\n"
   ]
  },
  {
   "cell_type": "code",
   "execution_count": 244,
   "id": "b27bf644",
   "metadata": {
    "execution": {
     "iopub.execute_input": "2023-08-12T19:49:32.840339Z",
     "iopub.status.busy": "2023-08-12T19:49:32.839957Z",
     "iopub.status.idle": "2023-08-12T19:49:32.844722Z",
     "shell.execute_reply": "2023-08-12T19:49:32.843543Z"
    },
    "papermill": {
     "duration": 0.119389,
     "end_time": "2023-08-12T19:49:32.846987",
     "exception": false,
     "start_time": "2023-08-12T19:49:32.727598",
     "status": "completed"
    },
    "tags": []
   },
   "outputs": [],
   "source": [
    "# all_dict_3 = {'cat': [\"isFrequentReviewer\", \"rating\", \"originalLanguage\", \"reviewYN\"],\n",
    "#              'num': [\"audienceScore\", \"runtimeMinutes\", \"boxOffice\"],\n",
    "#              'txt': ['reviewText', \"reviewerName\", 'movieid', 'genre', 'director']}\n",
    "# all_dict_3"
   ]
  },
  {
   "cell_type": "code",
   "execution_count": 245,
   "id": "9795fb8c",
   "metadata": {
    "execution": {
     "iopub.execute_input": "2023-08-12T19:49:33.069090Z",
     "iopub.status.busy": "2023-08-12T19:49:33.068719Z",
     "iopub.status.idle": "2023-08-12T19:49:33.072671Z",
     "shell.execute_reply": "2023-08-12T19:49:33.071833Z"
    },
    "papermill": {
     "duration": 0.11865,
     "end_time": "2023-08-12T19:49:33.074780",
     "exception": false,
     "start_time": "2023-08-12T19:49:32.956130",
     "status": "completed"
    },
    "tags": []
   },
   "outputs": [],
   "source": [
    "# submit_v4(selected_model=LogisticRegression(max_iter=100000),\n",
    "#          selected_features=all_dict_3, \n",
    "#           param_grid=param_grid)"
   ]
  },
  {
   "cell_type": "markdown",
   "id": "dea9f05b",
   "metadata": {
    "papermill": {
     "duration": 0.108085,
     "end_time": "2023-08-12T19:49:33.291806",
     "exception": false,
     "start_time": "2023-08-12T19:49:33.183721",
     "status": "completed"
    },
    "tags": []
   },
   "source": [
    "### More GridSearchCV using LinearSVC  "
   ]
  },
  {
   "cell_type": "code",
   "execution_count": 246,
   "id": "3a89d197",
   "metadata": {
    "execution": {
     "iopub.execute_input": "2023-08-12T19:49:33.505727Z",
     "iopub.status.busy": "2023-08-12T19:49:33.504869Z",
     "iopub.status.idle": "2023-08-12T19:49:33.509545Z",
     "shell.execute_reply": "2023-08-12T19:49:33.508716Z"
    },
    "papermill": {
     "duration": 0.114318,
     "end_time": "2023-08-12T19:49:33.511767",
     "exception": false,
     "start_time": "2023-08-12T19:49:33.397449",
     "status": "completed"
    },
    "tags": []
   },
   "outputs": [],
   "source": [
    "# param_grid_svc_2 = {\n",
    "#     'model__C': [1.0],\n",
    "#     'model__loss': ['hinge', 'squared_hinge'],\n",
    "#     'model__class_weight': ['balanced', None]\n",
    "# }\n",
    "# param_grid_svc_2"
   ]
  },
  {
   "cell_type": "code",
   "execution_count": 247,
   "id": "51237461",
   "metadata": {
    "execution": {
     "iopub.execute_input": "2023-08-12T19:49:33.723765Z",
     "iopub.status.busy": "2023-08-12T19:49:33.723298Z",
     "iopub.status.idle": "2023-08-12T19:49:33.728292Z",
     "shell.execute_reply": "2023-08-12T19:49:33.726990Z"
    },
    "papermill": {
     "duration": 0.114246,
     "end_time": "2023-08-12T19:49:33.731111",
     "exception": false,
     "start_time": "2023-08-12T19:49:33.616865",
     "status": "completed"
    },
    "tags": []
   },
   "outputs": [],
   "source": [
    "# submit_v4(selected_model=LinearSVC(max_iter=100000, random_state=42), selected_features={'num': [\"audienceScore\"]}, param_grid=param_grid_svc_2)"
   ]
  },
  {
   "cell_type": "code",
   "execution_count": 248,
   "id": "afa3779b",
   "metadata": {
    "execution": {
     "iopub.execute_input": "2023-08-12T19:49:33.953408Z",
     "iopub.status.busy": "2023-08-12T19:49:33.952990Z",
     "iopub.status.idle": "2023-08-12T19:49:33.957579Z",
     "shell.execute_reply": "2023-08-12T19:49:33.956564Z"
    },
    "papermill": {
     "duration": 0.118288,
     "end_time": "2023-08-12T19:49:33.960106",
     "exception": false,
     "start_time": "2023-08-12T19:49:33.841818",
     "status": "completed"
    },
    "tags": []
   },
   "outputs": [],
   "source": [
    "# submit_v4(selected_model=LinearSVC(max_iter=100000, random_state=42), selected_features=all_dict, param_grid=param_grid_svc_2)"
   ]
  },
  {
   "cell_type": "markdown",
   "id": "45fe9ce5",
   "metadata": {
    "papermill": {
     "duration": 0.21604,
     "end_time": "2023-08-12T19:49:34.289819",
     "exception": false,
     "start_time": "2023-08-12T19:49:34.073779",
     "status": "completed"
    },
    "tags": []
   },
   "source": [
    "### Boosting techniques  "
   ]
  },
  {
   "cell_type": "code",
   "execution_count": 249,
   "id": "0bddca64",
   "metadata": {
    "execution": {
     "iopub.execute_input": "2023-08-12T19:49:34.513464Z",
     "iopub.status.busy": "2023-08-12T19:49:34.513059Z",
     "iopub.status.idle": "2023-08-12T19:49:34.517720Z",
     "shell.execute_reply": "2023-08-12T19:49:34.516594Z"
    },
    "papermill": {
     "duration": 0.120941,
     "end_time": "2023-08-12T19:49:34.520020",
     "exception": false,
     "start_time": "2023-08-12T19:49:34.399079",
     "status": "completed"
    },
    "tags": []
   },
   "outputs": [],
   "source": [
    "# adc = AdaBoostClassifier(estimator=LogisticRegression(C=5, solver=\"saga\", max_iter=100000), n_estimators=50)\n",
    "# adc"
   ]
  },
  {
   "cell_type": "code",
   "execution_count": 250,
   "id": "7d78d27f",
   "metadata": {
    "execution": {
     "iopub.execute_input": "2023-08-12T19:49:34.741885Z",
     "iopub.status.busy": "2023-08-12T19:49:34.741468Z",
     "iopub.status.idle": "2023-08-12T19:49:34.746501Z",
     "shell.execute_reply": "2023-08-12T19:49:34.745346Z"
    },
    "papermill": {
     "duration": 0.117923,
     "end_time": "2023-08-12T19:49:34.748595",
     "exception": false,
     "start_time": "2023-08-12T19:49:34.630672",
     "status": "completed"
    },
    "tags": []
   },
   "outputs": [],
   "source": [
    "# submit_v4(selected_model=adc, selected_features={'num': [\"audienceScore\"]}, param_grid=None)"
   ]
  },
  {
   "cell_type": "code",
   "execution_count": 251,
   "id": "c7201455",
   "metadata": {
    "execution": {
     "iopub.execute_input": "2023-08-12T19:49:34.968407Z",
     "iopub.status.busy": "2023-08-12T19:49:34.968007Z",
     "iopub.status.idle": "2023-08-12T19:49:34.972397Z",
     "shell.execute_reply": "2023-08-12T19:49:34.971331Z"
    },
    "papermill": {
     "duration": 0.116939,
     "end_time": "2023-08-12T19:49:34.974678",
     "exception": false,
     "start_time": "2023-08-12T19:49:34.857739",
     "status": "completed"
    },
    "tags": []
   },
   "outputs": [],
   "source": [
    "# submit_v4(selected_model=adc, selected_features=all_dict, param_grid=None)\n",
    "\n",
    "# Took 1 hour 15 mins to run and gave a public score of only 0.71089. Discarded."
   ]
  },
  {
   "cell_type": "markdown",
   "id": "fe1a7be8",
   "metadata": {
    "papermill": {
     "duration": 0.109624,
     "end_time": "2023-08-12T19:49:35.194125",
     "exception": false,
     "start_time": "2023-08-12T19:49:35.084501",
     "status": "completed"
    },
    "tags": []
   },
   "source": [
    "### LightGBM  "
   ]
  },
  {
   "cell_type": "code",
   "execution_count": 252,
   "id": "d99cc37f",
   "metadata": {
    "execution": {
     "iopub.execute_input": "2023-08-12T19:49:35.416644Z",
     "iopub.status.busy": "2023-08-12T19:49:35.416266Z",
     "iopub.status.idle": "2023-08-12T19:49:35.420654Z",
     "shell.execute_reply": "2023-08-12T19:49:35.419617Z"
    },
    "papermill": {
     "duration": 0.117533,
     "end_time": "2023-08-12T19:49:35.422928",
     "exception": false,
     "start_time": "2023-08-12T19:49:35.305395",
     "status": "completed"
    },
    "tags": []
   },
   "outputs": [],
   "source": [
    "# lgb = ltb.LGBMClassifier()\n",
    "# lgb"
   ]
  },
  {
   "cell_type": "code",
   "execution_count": 253,
   "id": "1631e483",
   "metadata": {
    "execution": {
     "iopub.execute_input": "2023-08-12T19:49:35.642991Z",
     "iopub.status.busy": "2023-08-12T19:49:35.642558Z",
     "iopub.status.idle": "2023-08-12T19:49:35.647140Z",
     "shell.execute_reply": "2023-08-12T19:49:35.646108Z"
    },
    "papermill": {
     "duration": 0.117689,
     "end_time": "2023-08-12T19:49:35.649521",
     "exception": false,
     "start_time": "2023-08-12T19:49:35.531832",
     "status": "completed"
    },
    "tags": []
   },
   "outputs": [],
   "source": [
    "# Try LightGBM with default settings\n",
    "# (Update): Public score only 0.77713. It was fast, took less than 5 mins (without GridSearchCV)\n",
    "\n",
    "# submit_v4(selected_model=ltb.LGBMClassifier(), selected_features=all_dict, param_grid=None)"
   ]
  },
  {
   "cell_type": "markdown",
   "id": "4351c874",
   "metadata": {
    "papermill": {
     "duration": 0.110851,
     "end_time": "2023-08-12T19:49:35.870256",
     "exception": false,
     "start_time": "2023-08-12T19:49:35.759405",
     "status": "completed"
    },
    "tags": []
   },
   "source": [
    "# Try feature selection and vocab fine tuning of reviewText column"
   ]
  },
  {
   "cell_type": "markdown",
   "id": "12fe9b36",
   "metadata": {
    "papermill": {
     "duration": 0.110848,
     "end_time": "2023-08-12T19:49:36.091186",
     "exception": false,
     "start_time": "2023-08-12T19:49:35.980338",
     "status": "completed"
    },
    "tags": []
   },
   "source": [
    "## Plan  \n",
    "* Add a new column 'reviewWC' which has word count of 'reviewText'  \n",
    "    * Check if there is any relationship between 'reviewWC' and 'sentiment'\n",
    "* Work on vocabulary\n",
    "     * Use TfidfVectorizer and find out the vocabulary of 'reviewText' column for various ngrams\n",
    "     * Use RecursiveFeatureElimination (RFE) or RFECV to select 1000 top words/vocab for each ngram\n",
    "     * Use the final vocab (1000-3000 words) in the model and see how it performs compared to whole vocab\n"
   ]
  },
  {
   "cell_type": "code",
   "execution_count": 254,
   "id": "c0c95533",
   "metadata": {
    "execution": {
     "iopub.execute_input": "2023-08-12T19:49:36.318531Z",
     "iopub.status.busy": "2023-08-12T19:49:36.318139Z",
     "iopub.status.idle": "2023-08-12T19:49:36.322290Z",
     "shell.execute_reply": "2023-08-12T19:49:36.321495Z"
    },
    "papermill": {
     "duration": 0.121423,
     "end_time": "2023-08-12T19:49:36.324561",
     "exception": false,
     "start_time": "2023-08-12T19:49:36.203138",
     "status": "completed"
    },
    "tags": []
   },
   "outputs": [],
   "source": [
    "# 'reviewWC' and 'sentiment'\n",
    "# (Conclusion): 'reviewWC' is practically same as DummyClassifier (accuracy of 0.6682375059904889 on train data). It just predicts 'positive' for all columns\n",
    "\n",
    "# reviewWC_dict = {\"num\": [\"reviewWC\"]}\n",
    "# submit_v4(selected_model=LogisticRegression(),\n",
    "#          selected_features=reviewWC_dict,\n",
    "#          param_grid=None)"
   ]
  },
  {
   "cell_type": "code",
   "execution_count": 255,
   "id": "47589371",
   "metadata": {
    "execution": {
     "iopub.execute_input": "2023-08-12T19:49:36.548993Z",
     "iopub.status.busy": "2023-08-12T19:49:36.548554Z",
     "iopub.status.idle": "2023-08-12T19:49:36.552959Z",
     "shell.execute_reply": "2023-08-12T19:49:36.552085Z"
    },
    "papermill": {
     "duration": 0.119652,
     "end_time": "2023-08-12T19:49:36.555477",
     "exception": false,
     "start_time": "2023-08-12T19:49:36.435825",
     "status": "completed"
    },
    "tags": []
   },
   "outputs": [],
   "source": [
    "# 'reviewYN' and 'sentiment'\n",
    "# (Conclusion): 'reviewYN' is practically same as DummyClassifier (accuracy of 0.6682375059904889 on train data). It just predicts 'positive' for all columns\n",
    "\n",
    "# reviewYN_dict = {\"cat\": [\"reviewYN\"]}\n",
    "# submit_v4(selected_model=LogisticRegression(),\n",
    "#          selected_features=reviewYN_dict,\n",
    "#          param_grid=None)"
   ]
  },
  {
   "cell_type": "markdown",
   "id": "5f1512fb",
   "metadata": {
    "papermill": {
     "duration": 0.110147,
     "end_time": "2023-08-12T19:49:36.776289",
     "exception": false,
     "start_time": "2023-08-12T19:49:36.666142",
     "status": "completed"
    },
    "tags": []
   },
   "source": [
    "## Submissions using 'vocabulary' built from 'reviewText' data  "
   ]
  },
  {
   "cell_type": "markdown",
   "id": "a768d3bc",
   "metadata": {
    "papermill": {
     "duration": 0.108718,
     "end_time": "2023-08-12T19:49:36.994566",
     "exception": false,
     "start_time": "2023-08-12T19:49:36.885848",
     "status": "completed"
    },
    "tags": []
   },
   "source": [
    "### Submit best 6 features along with common vocab  "
   ]
  },
  {
   "cell_type": "code",
   "execution_count": 256,
   "id": "fd8d6adb",
   "metadata": {
    "execution": {
     "iopub.execute_input": "2023-08-12T19:49:37.221137Z",
     "iopub.status.busy": "2023-08-12T19:49:37.220755Z",
     "iopub.status.idle": "2023-08-12T19:49:37.225368Z",
     "shell.execute_reply": "2023-08-12T19:49:37.224308Z"
    },
    "papermill": {
     "duration": 0.122113,
     "end_time": "2023-08-12T19:49:37.227658",
     "exception": false,
     "start_time": "2023-08-12T19:49:37.105545",
     "status": "completed"
    },
    "tags": []
   },
   "outputs": [],
   "source": [
    "# Best 6 parameters (version 2)  \n",
    "\n",
    "# best6_dict = {'num': [\"audienceScore\"],\n",
    "#              'txt': ['reviewText', 'reviewerName', 'genre','movieid', 'director']}\n",
    "\n",
    "# best6_dict"
   ]
  },
  {
   "cell_type": "code",
   "execution_count": 257,
   "id": "ee3be77f",
   "metadata": {
    "execution": {
     "iopub.execute_input": "2023-08-12T19:49:37.443237Z",
     "iopub.status.busy": "2023-08-12T19:49:37.442453Z",
     "iopub.status.idle": "2023-08-12T19:49:37.447212Z",
     "shell.execute_reply": "2023-08-12T19:49:37.446443Z"
    },
    "papermill": {
     "duration": 0.114755,
     "end_time": "2023-08-12T19:49:37.449427",
     "exception": false,
     "start_time": "2023-08-12T19:49:37.334672",
     "status": "completed"
    },
    "tags": []
   },
   "outputs": [],
   "source": [
    "# Submit best 6 features (version 2) with common vocabulary (common_1_2_grams)\n",
    "# (Update): Score 0.82867\n",
    "\n",
    "# submit_v4(selected_features=best6_dict,\n",
    "#           param_grid=param_grid,\n",
    "#          vocab=common_1_2_grams)"
   ]
  },
  {
   "cell_type": "code",
   "execution_count": 258,
   "id": "384e65ec",
   "metadata": {
    "execution": {
     "iopub.execute_input": "2023-08-12T19:49:37.663019Z",
     "iopub.status.busy": "2023-08-12T19:49:37.662247Z",
     "iopub.status.idle": "2023-08-12T19:49:37.667260Z",
     "shell.execute_reply": "2023-08-12T19:49:37.666510Z"
    },
    "papermill": {
     "duration": 0.114497,
     "end_time": "2023-08-12T19:49:37.669485",
     "exception": false,
     "start_time": "2023-08-12T19:49:37.554988",
     "status": "completed"
    },
    "tags": []
   },
   "outputs": [],
   "source": [
    "# Submit best 6 features (version 2) with common vocabulary (common_1_2_3_grams)\n",
    "# Note: for this submission submit_v4 function has to be modified: reviewText TfidfVectorizer must have ngram_range(1,3).\n",
    "# (Update): Score in the range 0.825+\n",
    "\n",
    "# submit_v4(selected_features=best6_dict,\n",
    "#           param_grid=param_grid,\n",
    "#          vocab=common_1_2_3_grams)"
   ]
  }
 ],
 "metadata": {
  "kernelspec": {
   "display_name": "Python 3",
   "language": "python",
   "name": "python3"
  },
  "language_info": {
   "codemirror_mode": {
    "name": "ipython",
    "version": 3
   },
   "file_extension": ".py",
   "mimetype": "text/x-python",
   "name": "python",
   "nbconvert_exporter": "python",
   "pygments_lexer": "ipython3",
   "version": "3.10.10"
  },
  "papermill": {
   "default_parameters": {},
   "duration": 2687.898377,
   "end_time": "2023-08-12T19:49:40.704745",
   "environment_variables": {},
   "exception": null,
   "input_path": "__notebook__.ipynb",
   "output_path": "__notebook__.ipynb",
   "parameters": {},
   "start_time": "2023-08-12T19:04:52.806368",
   "version": "2.4.0"
  }
 },
 "nbformat": 4,
 "nbformat_minor": 5
}
