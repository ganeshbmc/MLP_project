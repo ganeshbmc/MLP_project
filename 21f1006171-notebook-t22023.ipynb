{
 "cells": [
  {
   "cell_type": "markdown",
   "id": "98f68150",
   "metadata": {
    "papermill": {
     "duration": 0.098754,
     "end_time": "2023-08-13T05:22:22.379149",
     "exception": false,
     "start_time": "2023-08-13T05:22:22.280395",
     "status": "completed"
    },
    "tags": []
   },
   "source": [
    "# MLP Project (T2 2023) by Ganesh P  "
   ]
  },
  {
   "cell_type": "markdown",
   "id": "a156555c",
   "metadata": {
    "papermill": {
     "duration": 0.096674,
     "end_time": "2023-08-13T05:22:22.573722",
     "exception": false,
     "start_time": "2023-08-13T05:22:22.477048",
     "status": "completed"
    },
    "tags": []
   },
   "source": [
    "`Disclaimer`   \n",
    "\n",
    "> This final notebook contains only the most relevant code to show the path/flow of my project work over few weeks. Rest of the code is in [my github repo](https://github.com/ganeshbmc/MLP_project) which is private at present (I will make it public after the project is over).  "
   ]
  },
  {
   "cell_type": "markdown",
   "id": "44a86af1",
   "metadata": {
    "papermill": {
     "duration": 0.098194,
     "end_time": "2023-08-13T05:22:22.769999",
     "exception": false,
     "start_time": "2023-08-13T05:22:22.671805",
     "status": "completed"
    },
    "tags": []
   },
   "source": [
    "`Strengths`  \n",
    "\n",
    "> * Modular code (DRY principle)  \n",
    "> * End to end pipeline in one function (with helper functions)   "
   ]
  },
  {
   "cell_type": "markdown",
   "id": "9d65eb8b",
   "metadata": {
    "papermill": {
     "duration": 0.098073,
     "end_time": "2023-08-13T05:22:22.966928",
     "exception": false,
     "start_time": "2023-08-13T05:22:22.868855",
     "status": "completed"
    },
    "tags": []
   },
   "source": [
    "`Overview`  \n",
    "\n",
    "`PART I`  \n",
    "\n",
    "1.\t> Screen the datasets and import them.  \n",
    "2.\t> Perform EDA (first round).\n",
    "3.\t> Data cleaning.\n",
    "4.\t> Basic models including dummy model.\n",
    "5.\t> Because this is a text sentiment analysis project, focus on 'reviewText' column, work on cleaning text data and vectorising/tokenising it, build several models till the best possible score is reached.  \n",
    "\n",
    "`PART II`  \n",
    "\n",
    "6.\t> Merge train and movies dataset.\n",
    "7.\t> Perform EDA (second round) on merged dataset.\n",
    "8.\t> Data cleaning.\n",
    "9.\t> Build models on merged dataset.\n",
    "10.\t> Understand the results and do another round of EDA if needed.\n",
    "11.\t> Build final model.  \n",
    "\n",
    "`PART III (After project window closes)`  \n",
    "\n",
    "12. > Use NLTK library for further processing text data.  \n",
    "13. > Try to address comments from different languages, special characters etc.  \n",
    "14. > Try imblearn library to address class imbalance.  \n",
    "15. > Try to use currently available LLMs and see how my model performs agains them.  "
   ]
  },
  {
   "cell_type": "markdown",
   "id": "f7dcf850",
   "metadata": {
    "papermill": {
     "duration": 0.096211,
     "end_time": "2023-08-13T05:22:23.161084",
     "exception": false,
     "start_time": "2023-08-13T05:22:23.064873",
     "status": "completed"
    },
    "tags": []
   },
   "source": [
    "`Default code on Kaggle notebook`  "
   ]
  },
  {
   "cell_type": "code",
   "execution_count": 1,
   "id": "09d2d9d4",
   "metadata": {
    "_cell_guid": "b1076dfc-b9ad-4769-8c92-a6c4dae69d19",
    "_uuid": "8f2839f25d086af736a60e9eeb907d3b93b6e0e5",
    "execution": {
     "iopub.execute_input": "2023-08-13T05:22:23.357997Z",
     "iopub.status.busy": "2023-08-13T05:22:23.357505Z",
     "iopub.status.idle": "2023-08-13T05:22:23.374986Z",
     "shell.execute_reply": "2023-08-13T05:22:23.373847Z"
    },
    "papermill": {
     "duration": 0.118453,
     "end_time": "2023-08-13T05:22:23.377142",
     "exception": false,
     "start_time": "2023-08-13T05:22:23.258689",
     "status": "completed"
    },
    "tags": []
   },
   "outputs": [
    {
     "name": "stdout",
     "output_type": "stream",
     "text": [
      "/kaggle/input/sentiment-prediction-on-movie-reviews/movies.csv\n",
      "/kaggle/input/sentiment-prediction-on-movie-reviews/sample.csv\n",
      "/kaggle/input/sentiment-prediction-on-movie-reviews/train.csv\n",
      "/kaggle/input/sentiment-prediction-on-movie-reviews/test.csv\n"
     ]
    }
   ],
   "source": [
    "# This Python 3 environment comes with many helpful analytics libraries installed\n",
    "# It is defined by the kaggle/python Docker image: https://github.com/kaggle/docker-python\n",
    "# For example, here's several helpful packages to load\n",
    "\n",
    "import numpy as np # linear algebra\n",
    "import pandas as pd # data processing, CSV file I/O (e.g. pd.read_csv)\n",
    "\n",
    "# Input data files are available in the read-only \"../input/\" directory\n",
    "# For example, running this (by clicking run or pressing Shift+Enter) will list all files under the input directory\n",
    "\n",
    "import os\n",
    "for dirname, _, filenames in os.walk('/kaggle/input'):\n",
    "    for filename in filenames:\n",
    "        print(os.path.join(dirname, filename))\n",
    "\n",
    "# You can write up to 20GB to the current directory (/kaggle/working/) that gets preserved as output when you create a version using \"Save & Run All\" \n",
    "# You can also write temporary files to /kaggle/temp/, but they won't be saved outside of the current session"
   ]
  },
  {
   "cell_type": "markdown",
   "id": "ed4453ee",
   "metadata": {
    "papermill": {
     "duration": 0.097209,
     "end_time": "2023-08-13T05:22:23.572106",
     "exception": false,
     "start_time": "2023-08-13T05:22:23.474897",
     "status": "completed"
    },
    "tags": []
   },
   "source": [
    "### Specify platform  "
   ]
  },
  {
   "cell_type": "code",
   "execution_count": 2,
   "id": "299d8f16",
   "metadata": {
    "execution": {
     "iopub.execute_input": "2023-08-13T05:22:23.772138Z",
     "iopub.status.busy": "2023-08-13T05:22:23.771464Z",
     "iopub.status.idle": "2023-08-13T05:22:23.776069Z",
     "shell.execute_reply": "2023-08-13T05:22:23.775112Z"
    },
    "papermill": {
     "duration": 0.106999,
     "end_time": "2023-08-13T05:22:23.778336",
     "exception": false,
     "start_time": "2023-08-13T05:22:23.671337",
     "status": "completed"
    },
    "tags": []
   },
   "outputs": [],
   "source": [
    "platform = 'kaggle'  "
   ]
  },
  {
   "cell_type": "markdown",
   "id": "0e4ac7b7",
   "metadata": {
    "papermill": {
     "duration": 0.097717,
     "end_time": "2023-08-13T05:22:23.975577",
     "exception": false,
     "start_time": "2023-08-13T05:22:23.877860",
     "status": "completed"
    },
    "tags": []
   },
   "source": [
    "### Import libraries  "
   ]
  },
  {
   "cell_type": "code",
   "execution_count": 3,
   "id": "ca1affea",
   "metadata": {
    "execution": {
     "iopub.execute_input": "2023-08-13T05:22:24.172055Z",
     "iopub.status.busy": "2023-08-13T05:22:24.171688Z",
     "iopub.status.idle": "2023-08-13T05:22:26.393807Z",
     "shell.execute_reply": "2023-08-13T05:22:26.392652Z"
    },
    "papermill": {
     "duration": 2.322773,
     "end_time": "2023-08-13T05:22:26.396400",
     "exception": false,
     "start_time": "2023-08-13T05:22:24.073627",
     "status": "completed"
    },
    "tags": []
   },
   "outputs": [
    {
     "name": "stdout",
     "output_type": "stream",
     "text": [
      "Imports done.\n"
     ]
    }
   ],
   "source": [
    "import pandas as pd\n",
    "import numpy as np\n",
    "import matplotlib.pyplot as plt\n",
    "import seaborn as sns\n",
    "import re\n",
    "from itertools import compress\n",
    "\n",
    "from sklearn.dummy import DummyClassifier\n",
    "from sklearn.pipeline import Pipeline, FeatureUnion\n",
    "from sklearn.compose import ColumnTransformer\n",
    "from sklearn.metrics import classification_report, confusion_matrix,f1_score\n",
    "from sklearn.feature_extraction.text import TfidfVectorizer, CountVectorizer\n",
    "from sklearn.preprocessing import FunctionTransformer\n",
    "from sklearn.preprocessing import StandardScaler, MinMaxScaler, RobustScaler, OneHotEncoder, LabelEncoder, PolynomialFeatures\n",
    "from sklearn.impute import SimpleImputer, KNNImputer\n",
    "from sklearn.linear_model import LogisticRegression, SGDClassifier\n",
    "from sklearn.tree import DecisionTreeClassifier\n",
    "from sklearn.ensemble import RandomForestClassifier, AdaBoostClassifier\n",
    "from sklearn.svm import LinearSVC\n",
    "from sklearn.naive_bayes import GaussianNB, BernoulliNB, CategoricalNB, ComplementNB, MultinomialNB\n",
    "from sklearn.model_selection import train_test_split, GridSearchCV, cross_val_score\n",
    "from sklearn.decomposition import PCA, TruncatedSVD\n",
    "from sklearn.feature_selection import RFECV\n",
    "from sklearn.feature_selection import RFE\n",
    "from sklearn.neural_network import MLPClassifier\n",
    "\n",
    "# import lightgbm as ltb\n",
    "\n",
    "import scipy.stats as stats\n",
    "print(\"Imports done.\")"
   ]
  },
  {
   "cell_type": "markdown",
   "id": "061c30fc",
   "metadata": {
    "papermill": {
     "duration": 0.098266,
     "end_time": "2023-08-13T05:22:26.594033",
     "exception": false,
     "start_time": "2023-08-13T05:22:26.495767",
     "status": "completed"
    },
    "tags": []
   },
   "source": [
    "# PART I  "
   ]
  },
  {
   "cell_type": "markdown",
   "id": "7d31379c",
   "metadata": {
    "papermill": {
     "duration": 0.157268,
     "end_time": "2023-08-13T05:22:26.850733",
     "exception": false,
     "start_time": "2023-08-13T05:22:26.693465",
     "status": "completed"
    },
    "tags": []
   },
   "source": [
    "## Load datasets  "
   ]
  },
  {
   "cell_type": "code",
   "execution_count": 4,
   "id": "a26b49f2",
   "metadata": {
    "execution": {
     "iopub.execute_input": "2023-08-13T05:22:27.052489Z",
     "iopub.status.busy": "2023-08-13T05:22:27.052089Z",
     "iopub.status.idle": "2023-08-13T05:22:28.037845Z",
     "shell.execute_reply": "2023-08-13T05:22:28.036698Z"
    },
    "papermill": {
     "duration": 1.089661,
     "end_time": "2023-08-13T05:22:28.040406",
     "exception": false,
     "start_time": "2023-08-13T05:22:26.950745",
     "status": "completed"
    },
    "tags": []
   },
   "outputs": [
    {
     "data": {
      "text/plain": [
       "(162758, 5)"
      ]
     },
     "execution_count": 4,
     "metadata": {},
     "output_type": "execute_result"
    }
   ],
   "source": [
    "if platform == 'vscode':\n",
    "    traindf = pd.read_csv(\"data/train.csv\")\n",
    "else:\n",
    "    traindf = pd.read_csv(\"/kaggle/input/sentiment-prediction-on-movie-reviews/train.csv\")\n",
    "    \n",
    "traindf.shape"
   ]
  },
  {
   "cell_type": "code",
   "execution_count": 5,
   "id": "a8d7dd1b",
   "metadata": {
    "execution": {
     "iopub.execute_input": "2023-08-13T05:22:28.238586Z",
     "iopub.status.busy": "2023-08-13T05:22:28.238194Z",
     "iopub.status.idle": "2023-08-13T05:22:28.558625Z",
     "shell.execute_reply": "2023-08-13T05:22:28.557618Z"
    },
    "papermill": {
     "duration": 0.422286,
     "end_time": "2023-08-13T05:22:28.560886",
     "exception": false,
     "start_time": "2023-08-13T05:22:28.138600",
     "status": "completed"
    },
    "tags": []
   },
   "outputs": [
    {
     "data": {
      "text/plain": [
       "(55315, 4)"
      ]
     },
     "execution_count": 5,
     "metadata": {},
     "output_type": "execute_result"
    }
   ],
   "source": [
    "if platform == 'vscode':\n",
    "    testdf = pd.read_csv(\"data/test.csv\")\n",
    "else:\n",
    "    testdf = pd.read_csv(\"/kaggle/input/sentiment-prediction-on-movie-reviews/test.csv\")\n",
    "\n",
    "testdf.shape"
   ]
  },
  {
   "cell_type": "markdown",
   "id": "ea7085fe",
   "metadata": {
    "papermill": {
     "duration": 0.099395,
     "end_time": "2023-08-13T05:22:28.760637",
     "exception": false,
     "start_time": "2023-08-13T05:22:28.661242",
     "status": "completed"
    },
    "tags": []
   },
   "source": [
    "### Understanding the data and getting it ready for training and evaluating models  \n"
   ]
  },
  {
   "cell_type": "code",
   "execution_count": 6,
   "id": "3e7b945c",
   "metadata": {
    "execution": {
     "iopub.execute_input": "2023-08-13T05:22:28.961831Z",
     "iopub.status.busy": "2023-08-13T05:22:28.961032Z",
     "iopub.status.idle": "2023-08-13T05:22:28.967101Z",
     "shell.execute_reply": "2023-08-13T05:22:28.966366Z"
    },
    "papermill": {
     "duration": 0.109942,
     "end_time": "2023-08-13T05:22:28.969178",
     "exception": false,
     "start_time": "2023-08-13T05:22:28.859236",
     "status": "completed"
    },
    "tags": []
   },
   "outputs": [
    {
     "data": {
      "text/plain": [
       "(162758, 5)"
      ]
     },
     "execution_count": 6,
     "metadata": {},
     "output_type": "execute_result"
    }
   ],
   "source": [
    "traindf.shape"
   ]
  },
  {
   "cell_type": "code",
   "execution_count": 7,
   "id": "99fedcd0",
   "metadata": {
    "execution": {
     "iopub.execute_input": "2023-08-13T05:22:29.169400Z",
     "iopub.status.busy": "2023-08-13T05:22:29.168646Z",
     "iopub.status.idle": "2023-08-13T05:22:29.412986Z",
     "shell.execute_reply": "2023-08-13T05:22:29.411700Z"
    },
    "papermill": {
     "duration": 0.348415,
     "end_time": "2023-08-13T05:22:29.416825",
     "exception": false,
     "start_time": "2023-08-13T05:22:29.068410",
     "status": "completed"
    },
    "tags": []
   },
   "outputs": [
    {
     "name": "stdout",
     "output_type": "stream",
     "text": [
      "<class 'pandas.core.frame.DataFrame'>\n",
      "RangeIndex: 162758 entries, 0 to 162757\n",
      "Data columns (total 5 columns):\n",
      " #   Column              Non-Null Count   Dtype \n",
      "---  ------              --------------   ----- \n",
      " 0   movieid             162758 non-null  object\n",
      " 1   reviewerName        162758 non-null  object\n",
      " 2   isFrequentReviewer  162758 non-null  bool  \n",
      " 3   reviewText          156311 non-null  object\n",
      " 4   sentiment           162758 non-null  object\n",
      "dtypes: bool(1), object(4)\n",
      "memory usage: 5.1+ MB\n"
     ]
    }
   ],
   "source": [
    "traindf.info()"
   ]
  },
  {
   "cell_type": "code",
   "execution_count": 8,
   "id": "f4d05530",
   "metadata": {
    "execution": {
     "iopub.execute_input": "2023-08-13T05:22:29.619459Z",
     "iopub.status.busy": "2023-08-13T05:22:29.618327Z",
     "iopub.status.idle": "2023-08-13T05:22:29.832987Z",
     "shell.execute_reply": "2023-08-13T05:22:29.831863Z"
    },
    "papermill": {
     "duration": 0.318575,
     "end_time": "2023-08-13T05:22:29.835415",
     "exception": false,
     "start_time": "2023-08-13T05:22:29.516840",
     "status": "completed"
    },
    "tags": []
   },
   "outputs": [
    {
     "data": {
      "text/plain": [
       "movieid                  0\n",
       "reviewerName             0\n",
       "isFrequentReviewer       0\n",
       "reviewText            6447\n",
       "sentiment                0\n",
       "dtype: int64"
      ]
     },
     "execution_count": 8,
     "metadata": {},
     "output_type": "execute_result"
    }
   ],
   "source": [
    "traindf.isna().sum()"
   ]
  },
  {
   "cell_type": "markdown",
   "id": "e9593f86",
   "metadata": {
    "papermill": {
     "duration": 0.098902,
     "end_time": "2023-08-13T05:22:30.034252",
     "exception": false,
     "start_time": "2023-08-13T05:22:29.935350",
     "status": "completed"
    },
    "tags": []
   },
   "source": [
    "### Fill empty reviewText with custom text  "
   ]
  },
  {
   "cell_type": "code",
   "execution_count": 9,
   "id": "3de530a3",
   "metadata": {
    "execution": {
     "iopub.execute_input": "2023-08-13T05:22:30.235082Z",
     "iopub.status.busy": "2023-08-13T05:22:30.234295Z",
     "iopub.status.idle": "2023-08-13T05:22:30.472871Z",
     "shell.execute_reply": "2023-08-13T05:22:30.471766Z"
    },
    "papermill": {
     "duration": 0.34163,
     "end_time": "2023-08-13T05:22:30.475463",
     "exception": false,
     "start_time": "2023-08-13T05:22:30.133833",
     "status": "completed"
    },
    "tags": []
   },
   "outputs": [
    {
     "data": {
      "text/plain": [
       "movieid               0\n",
       "reviewerName          0\n",
       "isFrequentReviewer    0\n",
       "reviewText            0\n",
       "sentiment             0\n",
       "dtype: int64"
      ]
     },
     "execution_count": 9,
     "metadata": {},
     "output_type": "execute_result"
    }
   ],
   "source": [
    "traindf[\"reviewText\"].fillna(\"empty\", inplace=True)\n",
    "traindf.isna().sum()"
   ]
  },
  {
   "cell_type": "markdown",
   "id": "817f0586",
   "metadata": {
    "papermill": {
     "duration": 0.100281,
     "end_time": "2023-08-13T05:22:30.675738",
     "exception": false,
     "start_time": "2023-08-13T05:22:30.575457",
     "status": "completed"
    },
    "tags": []
   },
   "source": [
    "## EDA  \n"
   ]
  },
  {
   "cell_type": "code",
   "execution_count": 10,
   "id": "83bff590",
   "metadata": {
    "execution": {
     "iopub.execute_input": "2023-08-13T05:22:30.876453Z",
     "iopub.status.busy": "2023-08-13T05:22:30.876064Z",
     "iopub.status.idle": "2023-08-13T05:22:31.131450Z",
     "shell.execute_reply": "2023-08-13T05:22:31.130022Z"
    },
    "papermill": {
     "duration": 0.360099,
     "end_time": "2023-08-13T05:22:31.135435",
     "exception": false,
     "start_time": "2023-08-13T05:22:30.775336",
     "status": "completed"
    },
    "tags": []
   },
   "outputs": [
    {
     "data": {
      "image/png": "[encoded data removed]",
      "text/plain": [
       "<Figure size 600x400 with 1 Axes>"
      ]
     },
     "metadata": {},
     "output_type": "display_data"
    }
   ],
   "source": [
    "# Pie chart for sentiment column\n",
    "plt.figure(figsize=(6, 4))\n",
    "traindf[\"sentiment\"].value_counts().plot(kind='pie', autopct='%1.0f%%', colors=[\"lightgreen\", \"crimson\"])\n",
    "plt.title(\"Pie chart for sentiment column\")\n",
    "plt.show()"
   ]
  },
  {
   "cell_type": "code",
   "execution_count": 11,
   "id": "0138b8eb",
   "metadata": {
    "execution": {
     "iopub.execute_input": "2023-08-13T05:22:31.363067Z",
     "iopub.status.busy": "2023-08-13T05:22:31.362460Z",
     "iopub.status.idle": "2023-08-13T05:22:31.430800Z",
     "shell.execute_reply": "2023-08-13T05:22:31.429769Z"
    },
    "papermill": {
     "duration": 0.171923,
     "end_time": "2023-08-13T05:22:31.433200",
     "exception": false,
     "start_time": "2023-08-13T05:22:31.261277",
     "status": "completed"
    },
    "tags": []
   },
   "outputs": [
    {
     "name": "stdout",
     "output_type": "stream",
     "text": [
      "sentiment           NEGATIVE  POSITIVE\n",
      "isFrequentReviewer                    \n",
      "False                  35760     77429\n",
      "True                   18237     31332\n"
     ]
    },
    {
     "data": {
      "text/plain": [
       "Chi2ContingencyResult(statistic=419.89235425657796, pvalue=2.5755894769493255e-93, dof=1, expected_freq=array([[37551.86493444, 75637.13506556],\n",
       "       [16445.13506556, 33123.86493444]]))"
      ]
     },
     "execution_count": 11,
     "metadata": {},
     "output_type": "execute_result"
    }
   ],
   "source": [
    "# Chi-square test for isFrequentReviewer column and sentiment column   \n",
    "\n",
    "contingency_table = pd.crosstab(traindf['isFrequentReviewer'], traindf['sentiment'])\n",
    "print(contingency_table)\n",
    "stats.chi2_contingency(contingency_table)"
   ]
  },
  {
   "cell_type": "markdown",
   "id": "9847db1e",
   "metadata": {
    "papermill": {
     "duration": 0.100094,
     "end_time": "2023-08-13T05:22:31.636101",
     "exception": false,
     "start_time": "2023-08-13T05:22:31.536007",
     "status": "completed"
    },
    "tags": []
   },
   "source": [
    "### Separate features and labels  "
   ]
  },
  {
   "cell_type": "code",
   "execution_count": 12,
   "id": "da6d8bea",
   "metadata": {
    "execution": {
     "iopub.execute_input": "2023-08-13T05:22:31.838409Z",
     "iopub.status.busy": "2023-08-13T05:22:31.837974Z",
     "iopub.status.idle": "2023-08-13T05:22:31.846008Z",
     "shell.execute_reply": "2023-08-13T05:22:31.844928Z"
    },
    "papermill": {
     "duration": 0.111938,
     "end_time": "2023-08-13T05:22:31.848267",
     "exception": false,
     "start_time": "2023-08-13T05:22:31.736329",
     "status": "completed"
    },
    "tags": []
   },
   "outputs": [
    {
     "data": {
      "text/plain": [
       "((162758,), (162758,))"
      ]
     },
     "execution_count": 12,
     "metadata": {},
     "output_type": "execute_result"
    }
   ],
   "source": [
    "train_features = traindf[\"reviewText\"]\n",
    "train_labels = traindf.iloc[:, -1]\n",
    "train_features.shape, train_labels.shape"
   ]
  },
  {
   "cell_type": "markdown",
   "id": "2fd55a5c",
   "metadata": {
    "papermill": {
     "duration": 0.099268,
     "end_time": "2023-08-13T05:22:32.047520",
     "exception": false,
     "start_time": "2023-08-13T05:22:31.948252",
     "status": "completed"
    },
    "tags": []
   },
   "source": [
    "### Split traindf into training and testing parts  "
   ]
  },
  {
   "cell_type": "code",
   "execution_count": 13,
   "id": "848e78d1",
   "metadata": {
    "execution": {
     "iopub.execute_input": "2023-08-13T05:22:32.249091Z",
     "iopub.status.busy": "2023-08-13T05:22:32.248669Z",
     "iopub.status.idle": "2023-08-13T05:22:32.284172Z",
     "shell.execute_reply": "2023-08-13T05:22:32.283132Z"
    },
    "papermill": {
     "duration": 0.139453,
     "end_time": "2023-08-13T05:22:32.286732",
     "exception": false,
     "start_time": "2023-08-13T05:22:32.147279",
     "status": "completed"
    },
    "tags": []
   },
   "outputs": [
    {
     "data": {
      "text/plain": [
       "((122068,), (40690,), (122068,), (40690,))"
      ]
     },
     "execution_count": 13,
     "metadata": {},
     "output_type": "execute_result"
    }
   ],
   "source": [
    "X_train, X_test, y_train, y_test = train_test_split(train_features, train_labels, test_size=0.25, random_state=42)\n",
    "X_train.shape, X_test.shape, y_train.shape, y_test.shape"
   ]
  },
  {
   "cell_type": "markdown",
   "id": "b4f1a5d0",
   "metadata": {
    "papermill": {
     "duration": 0.099376,
     "end_time": "2023-08-13T05:22:32.486135",
     "exception": false,
     "start_time": "2023-08-13T05:22:32.386759",
     "status": "completed"
    },
    "tags": []
   },
   "source": [
    "## Model evaluation plan and code  "
   ]
  },
  {
   "cell_type": "code",
   "execution_count": 14,
   "id": "3e10bf71",
   "metadata": {
    "execution": {
     "iopub.execute_input": "2023-08-13T05:22:32.689522Z",
     "iopub.status.busy": "2023-08-13T05:22:32.689027Z",
     "iopub.status.idle": "2023-08-13T05:22:32.694017Z",
     "shell.execute_reply": "2023-08-13T05:22:32.693050Z"
    },
    "papermill": {
     "duration": 0.108714,
     "end_time": "2023-08-13T05:22:32.696396",
     "exception": false,
     "start_time": "2023-08-13T05:22:32.587682",
     "status": "completed"
    },
    "tags": []
   },
   "outputs": [],
   "source": [
    "# from sklearn.metrics import classification_report, confusion_matrix, ConfusionMatrixDisplay\n",
    "# from sklearn.metrics import f1_score"
   ]
  },
  {
   "cell_type": "code",
   "execution_count": 15,
   "id": "592a3346",
   "metadata": {
    "execution": {
     "iopub.execute_input": "2023-08-13T05:22:32.901669Z",
     "iopub.status.busy": "2023-08-13T05:22:32.901297Z",
     "iopub.status.idle": "2023-08-13T05:22:32.905533Z",
     "shell.execute_reply": "2023-08-13T05:22:32.904450Z"
    },
    "papermill": {
     "duration": 0.109075,
     "end_time": "2023-08-13T05:22:32.907839",
     "exception": false,
     "start_time": "2023-08-13T05:22:32.798764",
     "status": "completed"
    },
    "tags": []
   },
   "outputs": [],
   "source": [
    "# def evaluate(y_test, y_pred):\n",
    "#     print(classification_report(y_test, y_pred))\n",
    "#     print(confusion_matrix(y_test, y_pred))\n",
    "#     # print(f1_score(y_test, y_pred))\n",
    "#     ConfusionMatrixDisplay(y_test, y_pred)\n",
    "#     return"
   ]
  },
  {
   "cell_type": "markdown",
   "id": "0afb8853",
   "metadata": {
    "papermill": {
     "duration": 0.100182,
     "end_time": "2023-08-13T05:22:33.109864",
     "exception": false,
     "start_time": "2023-08-13T05:22:33.009682",
     "status": "completed"
    },
    "tags": []
   },
   "source": [
    "### Data preprocessing  "
   ]
  },
  {
   "cell_type": "markdown",
   "id": "d1d261e4",
   "metadata": {
    "papermill": {
     "duration": 0.102927,
     "end_time": "2023-08-13T05:22:33.313792",
     "exception": false,
     "start_time": "2023-08-13T05:22:33.210865",
     "status": "completed"
    },
    "tags": []
   },
   "source": [
    "`Define stop words`  "
   ]
  },
  {
   "cell_type": "code",
   "execution_count": 16,
   "id": "f9b0d8be",
   "metadata": {
    "execution": {
     "iopub.execute_input": "2023-08-13T05:22:33.518005Z",
     "iopub.status.busy": "2023-08-13T05:22:33.517622Z",
     "iopub.status.idle": "2023-08-13T05:22:33.522015Z",
     "shell.execute_reply": "2023-08-13T05:22:33.520947Z"
    },
    "papermill": {
     "duration": 0.10901,
     "end_time": "2023-08-13T05:22:33.524175",
     "exception": false,
     "start_time": "2023-08-13T05:22:33.415165",
     "status": "completed"
    },
    "tags": []
   },
   "outputs": [],
   "source": [
    "# stop_words = [\"able\", \"about\", \"above\", \"abst\", \"ac\"]     # Deprecated  \n",
    "# type(stop_words), len(stop_words)"
   ]
  },
  {
   "cell_type": "markdown",
   "id": "d6b19624",
   "metadata": {
    "papermill": {
     "duration": 0.100724,
     "end_time": "2023-08-13T05:22:33.726781",
     "exception": false,
     "start_time": "2023-08-13T05:22:33.626057",
     "status": "completed"
    },
    "tags": []
   },
   "source": [
    "## Feature extraction  "
   ]
  },
  {
   "cell_type": "markdown",
   "id": "caa231f5",
   "metadata": {
    "papermill": {
     "duration": 0.101087,
     "end_time": "2023-08-13T05:22:33.929330",
     "exception": false,
     "start_time": "2023-08-13T05:22:33.828243",
     "status": "completed"
    },
    "tags": []
   },
   "source": [
    "### Understand CountVectorizer and TfidfVectorizer  "
   ]
  },
  {
   "cell_type": "code",
   "execution_count": 17,
   "id": "f33e2300",
   "metadata": {
    "execution": {
     "iopub.execute_input": "2023-08-13T05:22:34.130693Z",
     "iopub.status.busy": "2023-08-13T05:22:34.130319Z",
     "iopub.status.idle": "2023-08-13T05:22:34.134937Z",
     "shell.execute_reply": "2023-08-13T05:22:34.133817Z"
    },
    "papermill": {
     "duration": 0.107837,
     "end_time": "2023-08-13T05:22:34.137180",
     "exception": false,
     "start_time": "2023-08-13T05:22:34.029343",
     "status": "completed"
    },
    "tags": []
   },
   "outputs": [],
   "source": [
    "# text = X_train.copy()\n",
    "# text.head()"
   ]
  },
  {
   "cell_type": "code",
   "execution_count": 18,
   "id": "4cc0be1f",
   "metadata": {
    "execution": {
     "iopub.execute_input": "2023-08-13T05:22:34.339663Z",
     "iopub.status.busy": "2023-08-13T05:22:34.339294Z",
     "iopub.status.idle": "2023-08-13T05:22:34.343707Z",
     "shell.execute_reply": "2023-08-13T05:22:34.342697Z"
    },
    "papermill": {
     "duration": 0.108595,
     "end_time": "2023-08-13T05:22:34.345992",
     "exception": false,
     "start_time": "2023-08-13T05:22:34.237397",
     "status": "completed"
    },
    "tags": []
   },
   "outputs": [],
   "source": [
    "# vectorizer = TfidfVectorizer(stop_words=stop_words)\n",
    "# vectorized_text = vectorizer.fit_transform(text[\"reviewText\"])\n",
    "# vectorized_text"
   ]
  },
  {
   "cell_type": "markdown",
   "id": "f1e48707",
   "metadata": {
    "papermill": {
     "duration": 0.100734,
     "end_time": "2023-08-13T05:22:34.547105",
     "exception": false,
     "start_time": "2023-08-13T05:22:34.446371",
     "status": "completed"
    },
    "tags": []
   },
   "source": [
    "`Without stop words`  \n",
    "<122068x58624 sparse matrix of type '<class 'numpy.float64'>'\n",
    "\twith 2312222 stored elements in Compressed Sparse Row format>\n",
    "\n",
    "`With stop words`  \n",
    "<122068x57784 sparse matrix of type '<class 'numpy.float64'>'\n",
    "\twith 1188395 stored elements in Compressed Sparse Row format>   "
   ]
  },
  {
   "cell_type": "code",
   "execution_count": 19,
   "id": "f57e946b",
   "metadata": {
    "execution": {
     "iopub.execute_input": "2023-08-13T05:22:34.750820Z",
     "iopub.status.busy": "2023-08-13T05:22:34.750442Z",
     "iopub.status.idle": "2023-08-13T05:22:34.755369Z",
     "shell.execute_reply": "2023-08-13T05:22:34.754212Z"
    },
    "papermill": {
     "duration": 0.110441,
     "end_time": "2023-08-13T05:22:34.757857",
     "exception": false,
     "start_time": "2023-08-13T05:22:34.647416",
     "status": "completed"
    },
    "tags": []
   },
   "outputs": [],
   "source": [
    "# vectorizer2 = CountVectorizer(stop_words=stop_words)\n",
    "# vectorized_text2 = vectorizer2.fit_transform(text[\"reviewText\"])\n",
    "# vectorized_text2"
   ]
  },
  {
   "cell_type": "markdown",
   "id": "4d8bdbc4",
   "metadata": {
    "papermill": {
     "duration": 0.101479,
     "end_time": "2023-08-13T05:22:34.959450",
     "exception": false,
     "start_time": "2023-08-13T05:22:34.857971",
     "status": "completed"
    },
    "tags": []
   },
   "source": [
    "`Without stop words`  \n",
    "<122068x58624 sparse matrix of type '<class 'numpy.int64'>'\n",
    "\twith 2312222 stored elements in Compressed Sparse Row format>\n",
    "\n",
    "`With stop words`  \n",
    "<122068x57784 sparse matrix of type '<class 'numpy.int64'>'\n",
    "\twith 1188395 stored elements in Compressed Sparse Row format>"
   ]
  },
  {
   "cell_type": "markdown",
   "id": "ce6b1ef4",
   "metadata": {
    "papermill": {
     "duration": 0.100784,
     "end_time": "2023-08-13T05:22:35.159890",
     "exception": false,
     "start_time": "2023-08-13T05:22:35.059106",
     "status": "completed"
    },
    "tags": []
   },
   "source": [
    "### Conclusion   \n",
    "`TfidfVectorizer is equivalent to CountVectorizer followed by TfidfTransformer.`  \n",
    "\n",
    "https://scikit-learn.org/stable/modules/generated/sklearn.feature_extraction.text.TfidfVectorizer.html"
   ]
  },
  {
   "cell_type": "markdown",
   "id": "ed673fb7",
   "metadata": {
    "papermill": {
     "duration": 0.09992,
     "end_time": "2023-08-13T05:22:35.359714",
     "exception": false,
     "start_time": "2023-08-13T05:22:35.259794",
     "status": "completed"
    },
    "tags": []
   },
   "source": [
    "## Model building workflow  \n",
    "\n",
    "`Make pipeline for preprocesing and model training and predictions`  \n"
   ]
  },
  {
   "cell_type": "code",
   "execution_count": 20,
   "id": "c0e91f57",
   "metadata": {
    "execution": {
     "iopub.execute_input": "2023-08-13T05:22:35.561526Z",
     "iopub.status.busy": "2023-08-13T05:22:35.561135Z",
     "iopub.status.idle": "2023-08-13T05:22:35.566009Z",
     "shell.execute_reply": "2023-08-13T05:22:35.565273Z"
    },
    "papermill": {
     "duration": 0.108098,
     "end_time": "2023-08-13T05:22:35.568001",
     "exception": false,
     "start_time": "2023-08-13T05:22:35.459903",
     "status": "completed"
    },
    "tags": []
   },
   "outputs": [],
   "source": [
    "# def preprocess_n_train(X_train, y_train, preprocessor, model):\n",
    "#     pipe = Pipeline(steps=[\n",
    "#                             (\"preprocessor\", preprocessor),\n",
    "#                             (\"model\", model)\n",
    "#                         ])\n",
    "    \n",
    "#     pipe.fit(X_train, y_train)\n",
    "\n",
    "#     print(\"Given model has been trained. Use predict method to get predictions array.\")\n",
    "#     return pipe\n",
    "\n",
    "\n",
    "# def predict_n_evaluate(pipeline, X_test, y_test):\n",
    "#     y_pred = pipeline.predict(X_test)\n",
    "#     print(f\"y_pred shape: {y_pred.shape}\")\n",
    "#     print(f\"Summary of predictions: {np.unique(y_pred, return_counts=True)}\")\n",
    "#     print(classification_report(y_test, y_pred))\n",
    "#     print(confusion_matrix(y_test, y_pred))\n",
    "#     return y_pred"
   ]
  },
  {
   "cell_type": "markdown",
   "id": "07929823",
   "metadata": {
    "papermill": {
     "duration": 0.100535,
     "end_time": "2023-08-13T05:22:35.768454",
     "exception": false,
     "start_time": "2023-08-13T05:22:35.667919",
     "status": "completed"
    },
    "tags": []
   },
   "source": [
    "## Building 3 basic models  "
   ]
  },
  {
   "cell_type": "markdown",
   "id": "c4c3d6ba",
   "metadata": {
    "papermill": {
     "duration": 0.110889,
     "end_time": "2023-08-13T05:22:35.982721",
     "exception": false,
     "start_time": "2023-08-13T05:22:35.871832",
     "status": "completed"
    },
    "tags": []
   },
   "source": [
    "### Text preprocessors  "
   ]
  },
  {
   "cell_type": "code",
   "execution_count": 21,
   "id": "e673f40a",
   "metadata": {
    "execution": {
     "iopub.execute_input": "2023-08-13T05:22:36.199720Z",
     "iopub.status.busy": "2023-08-13T05:22:36.199354Z",
     "iopub.status.idle": "2023-08-13T05:22:36.204043Z",
     "shell.execute_reply": "2023-08-13T05:22:36.203015Z"
    },
    "papermill": {
     "duration": 0.111543,
     "end_time": "2023-08-13T05:22:36.206357",
     "exception": false,
     "start_time": "2023-08-13T05:22:36.094814",
     "status": "completed"
    },
    "tags": []
   },
   "outputs": [],
   "source": [
    "# tvec = TfidfVectorizer()\n",
    "# cvec = CountVectorizer()        # Note that TfidfVectorizer and CountVectorizer+TfidsTransformer do the same function\n",
    "# tvec, cvec"
   ]
  },
  {
   "cell_type": "markdown",
   "id": "30913d73",
   "metadata": {
    "papermill": {
     "duration": 0.099518,
     "end_time": "2023-08-13T05:22:36.405452",
     "exception": false,
     "start_time": "2023-08-13T05:22:36.305934",
     "status": "completed"
    },
    "tags": []
   },
   "source": [
    "### Logistic Regression with TfidVectorizer for preprocessing  "
   ]
  },
  {
   "cell_type": "code",
   "execution_count": 22,
   "id": "998d4c6d",
   "metadata": {
    "execution": {
     "iopub.execute_input": "2023-08-13T05:22:36.608064Z",
     "iopub.status.busy": "2023-08-13T05:22:36.607709Z",
     "iopub.status.idle": "2023-08-13T05:22:36.612013Z",
     "shell.execute_reply": "2023-08-13T05:22:36.610902Z"
    },
    "papermill": {
     "duration": 0.110033,
     "end_time": "2023-08-13T05:22:36.614231",
     "exception": false,
     "start_time": "2023-08-13T05:22:36.504198",
     "status": "completed"
    },
    "tags": []
   },
   "outputs": [],
   "source": [
    "# logreg = LogisticRegression(max_iter=1000)\n",
    "# logreg_pipe = preprocess_n_train(X_train, y_train, tvec, logreg)\n",
    "# y_pred_logreg = predict_n_evaluate(logreg_pipe, X_test, y_test)\n",
    "# y_pred_logreg"
   ]
  },
  {
   "cell_type": "markdown",
   "id": "1e02eb61",
   "metadata": {
    "papermill": {
     "duration": 0.100764,
     "end_time": "2023-08-13T05:22:36.814581",
     "exception": false,
     "start_time": "2023-08-13T05:22:36.713817",
     "status": "completed"
    },
    "tags": []
   },
   "source": [
    "### SVM model  "
   ]
  },
  {
   "cell_type": "code",
   "execution_count": 23,
   "id": "b7b758cd",
   "metadata": {
    "execution": {
     "iopub.execute_input": "2023-08-13T05:22:37.017261Z",
     "iopub.status.busy": "2023-08-13T05:22:37.016871Z",
     "iopub.status.idle": "2023-08-13T05:22:37.021053Z",
     "shell.execute_reply": "2023-08-13T05:22:37.019977Z"
    },
    "papermill": {
     "duration": 0.108962,
     "end_time": "2023-08-13T05:22:37.023508",
     "exception": false,
     "start_time": "2023-08-13T05:22:36.914546",
     "status": "completed"
    },
    "tags": []
   },
   "outputs": [],
   "source": [
    "# svm = LinearSVC()\n",
    "# svm_pipe = preprocess_n_train(X_train, y_train, tvec, svm)\n",
    "# y_pred_svm = predict_n_evaluate(svm_pipe, X_test, y_test)\n",
    "# y_pred_svm"
   ]
  },
  {
   "cell_type": "markdown",
   "id": "7a666d04",
   "metadata": {
    "papermill": {
     "duration": 0.100045,
     "end_time": "2023-08-13T05:22:37.223941",
     "exception": false,
     "start_time": "2023-08-13T05:22:37.123896",
     "status": "completed"
    },
    "tags": []
   },
   "source": [
    "### Naive Bayes model  "
   ]
  },
  {
   "cell_type": "markdown",
   "id": "c376499e",
   "metadata": {
    "papermill": {
     "duration": 0.099714,
     "end_time": "2023-08-13T05:22:37.424528",
     "exception": false,
     "start_time": "2023-08-13T05:22:37.324814",
     "status": "completed"
    },
    "tags": []
   },
   "source": [
    "#### MultinomialNB  "
   ]
  },
  {
   "cell_type": "code",
   "execution_count": 24,
   "id": "9af94771",
   "metadata": {
    "execution": {
     "iopub.execute_input": "2023-08-13T05:22:37.627338Z",
     "iopub.status.busy": "2023-08-13T05:22:37.626106Z",
     "iopub.status.idle": "2023-08-13T05:22:37.631337Z",
     "shell.execute_reply": "2023-08-13T05:22:37.630496Z"
    },
    "papermill": {
     "duration": 0.108878,
     "end_time": "2023-08-13T05:22:37.633700",
     "exception": false,
     "start_time": "2023-08-13T05:22:37.524822",
     "status": "completed"
    },
    "tags": []
   },
   "outputs": [],
   "source": [
    "# mnb = MultinomialNB()\n",
    "# mnb_pipe = preprocess_n_train(X_train, y_train, tvec, mnb)\n",
    "# y_pred_mnb = predict_n_evaluate(mnb_pipe, X_test, y_test)\n",
    "# y_pred_mnb"
   ]
  },
  {
   "cell_type": "markdown",
   "id": "8535fb10",
   "metadata": {
    "papermill": {
     "duration": 0.161488,
     "end_time": "2023-08-13T05:22:37.896043",
     "exception": false,
     "start_time": "2023-08-13T05:22:37.734555",
     "status": "completed"
    },
    "tags": []
   },
   "source": [
    "## Submitting predictions to Kaggle competition  "
   ]
  },
  {
   "cell_type": "code",
   "execution_count": 25,
   "id": "9751ecb8",
   "metadata": {
    "execution": {
     "iopub.execute_input": "2023-08-13T05:22:38.099756Z",
     "iopub.status.busy": "2023-08-13T05:22:38.099377Z",
     "iopub.status.idle": "2023-08-13T05:22:38.104505Z",
     "shell.execute_reply": "2023-08-13T05:22:38.103433Z"
    },
    "papermill": {
     "duration": 0.10973,
     "end_time": "2023-08-13T05:22:38.106627",
     "exception": false,
     "start_time": "2023-08-13T05:22:37.996897",
     "status": "completed"
    },
    "tags": []
   },
   "outputs": [],
   "source": [
    "# def submit(selected_model=logreg, selected_preprocessor=tvec):\n",
    "    \n",
    "#     # Retrain on the whole train.csv file  \n",
    "#     traindf = pd.read_csv(\"/kaggle/input/sentiment-prediction-on-movie-reviews/train.csv\")\n",
    "#     X_train = traindf[\"reviewText\"]\n",
    "#     X_train.fillna(\"empty\", inplace=True)\n",
    "#     y_train = traindf[\"sentiment\"]\n",
    "#     pipe = preprocess_n_train(X_train, y_train, selected_preprocessor, selected_model)\n",
    "    \n",
    "#     # Predict on test.csv file\n",
    "#     testdf = pd.read_csv(\"/kaggle/input/sentiment-prediction-on-movie-reviews/test.csv\")\n",
    "#     X_test = testdf[\"reviewText\"]\n",
    "#     X_test.fillna(\"empty\", inplace=True)\n",
    "    \n",
    "#     y_pred = pipe.predict(X_test)\n",
    "    \n",
    "#     pred_df = pd.DataFrame(y_pred)\n",
    "#     pred_df.columns = [\"sentiment\"]\n",
    "#     pred_df.index.name = \"id\"\n",
    "#     pred_df.to_csv(\"submission.csv\")\n",
    "    \n",
    "#     return \"Successfully created the submission file!!!\""
   ]
  },
  {
   "cell_type": "code",
   "execution_count": 26,
   "id": "ba5fb56f",
   "metadata": {
    "execution": {
     "iopub.execute_input": "2023-08-13T05:22:38.308304Z",
     "iopub.status.busy": "2023-08-13T05:22:38.307861Z",
     "iopub.status.idle": "2023-08-13T05:22:38.313075Z",
     "shell.execute_reply": "2023-08-13T05:22:38.311543Z"
    },
    "papermill": {
     "duration": 0.108277,
     "end_time": "2023-08-13T05:22:38.315173",
     "exception": false,
     "start_time": "2023-08-13T05:22:38.206896",
     "status": "completed"
    },
    "tags": []
   },
   "outputs": [],
   "source": [
    "# submit(logreg_cv1, tvec_cv1)"
   ]
  },
  {
   "cell_type": "markdown",
   "id": "84c26eed",
   "metadata": {
    "papermill": {
     "duration": 0.099078,
     "end_time": "2023-08-13T05:22:38.513745",
     "exception": false,
     "start_time": "2023-08-13T05:22:38.414667",
     "status": "completed"
    },
    "tags": []
   },
   "source": [
    "# PART II  "
   ]
  },
  {
   "cell_type": "markdown",
   "id": "f79ac78a",
   "metadata": {
    "papermill": {
     "duration": 0.099186,
     "end_time": "2023-08-13T05:22:38.713133",
     "exception": false,
     "start_time": "2023-08-13T05:22:38.613947",
     "status": "completed"
    },
    "tags": []
   },
   "source": [
    "## Merge \"movies.csv\" with \"train.csv\" and \"test.csv\"  "
   ]
  },
  {
   "cell_type": "markdown",
   "id": "62ae7ab7",
   "metadata": {
    "papermill": {
     "duration": 0.100301,
     "end_time": "2023-08-13T05:22:38.915534",
     "exception": false,
     "start_time": "2023-08-13T05:22:38.815233",
     "status": "completed"
    },
    "tags": []
   },
   "source": [
    "### Helper functions  "
   ]
  },
  {
   "cell_type": "code",
   "execution_count": 27,
   "id": "3a0ad769",
   "metadata": {
    "execution": {
     "iopub.execute_input": "2023-08-13T05:22:39.118836Z",
     "iopub.status.busy": "2023-08-13T05:22:39.118041Z",
     "iopub.status.idle": "2023-08-13T05:22:39.123850Z",
     "shell.execute_reply": "2023-08-13T05:22:39.123029Z"
    },
    "papermill": {
     "duration": 0.109169,
     "end_time": "2023-08-13T05:22:39.126046",
     "exception": false,
     "start_time": "2023-08-13T05:22:39.016877",
     "status": "completed"
    },
    "tags": []
   },
   "outputs": [],
   "source": [
    "# Helper function for loading files  \n",
    "\n",
    "def load_csv(filename: str):\n",
    "    if platform == \"vscode\":\n",
    "        df = pd.read_csv(f\"data/{filename}.csv\")\n",
    "    else:\n",
    "        df = pd.read_csv(f\"/kaggle/input/sentiment-prediction-on-movie-reviews/{filename}.csv\")\n",
    "        \n",
    "    return df"
   ]
  },
  {
   "cell_type": "code",
   "execution_count": 28,
   "id": "bb2549f5",
   "metadata": {
    "execution": {
     "iopub.execute_input": "2023-08-13T05:22:39.328069Z",
     "iopub.status.busy": "2023-08-13T05:22:39.327700Z",
     "iopub.status.idle": "2023-08-13T05:22:39.333739Z",
     "shell.execute_reply": "2023-08-13T05:22:39.332560Z"
    },
    "papermill": {
     "duration": 0.109649,
     "end_time": "2023-08-13T05:22:39.336151",
     "exception": false,
     "start_time": "2023-08-13T05:22:39.226502",
     "status": "completed"
    },
    "tags": []
   },
   "outputs": [],
   "source": [
    "def inspect(df: pd.DataFrame):\n",
    "    print(f\"Shape of the dataframe: {df.shape}\")\n",
    "    print()\n",
    "    print(f\"Columns in the dataframe:\\n{df.columns}\")\n",
    "    print()\n",
    "    print(f\"{df.info()}\")\n",
    "    print()\n",
    "    # print(f\"Summary: {df.describe()}\")\n",
    "    print(f\"Missing values:\\n{df.isna().sum()}\")\n",
    "    return"
   ]
  },
  {
   "cell_type": "code",
   "execution_count": 29,
   "id": "65ae19e4",
   "metadata": {
    "execution": {
     "iopub.execute_input": "2023-08-13T05:22:39.538017Z",
     "iopub.status.busy": "2023-08-13T05:22:39.537609Z",
     "iopub.status.idle": "2023-08-13T05:22:39.543548Z",
     "shell.execute_reply": "2023-08-13T05:22:39.542429Z"
    },
    "papermill": {
     "duration": 0.109604,
     "end_time": "2023-08-13T05:22:39.545921",
     "exception": false,
     "start_time": "2023-08-13T05:22:39.436317",
     "status": "completed"
    },
    "tags": []
   },
   "outputs": [],
   "source": [
    "def name_fl(name):\n",
    "    l = name.split()\n",
    "    n = ' '.join((l[0], l[-1]))\n",
    "    return n"
   ]
  },
  {
   "cell_type": "code",
   "execution_count": 30,
   "id": "926c691d",
   "metadata": {
    "execution": {
     "iopub.execute_input": "2023-08-13T05:22:39.750485Z",
     "iopub.status.busy": "2023-08-13T05:22:39.750071Z",
     "iopub.status.idle": "2023-08-13T05:22:39.778411Z",
     "shell.execute_reply": "2023-08-13T05:22:39.777371Z"
    },
    "papermill": {
     "duration": 0.133788,
     "end_time": "2023-08-13T05:22:39.781337",
     "exception": false,
     "start_time": "2023-08-13T05:22:39.647549",
     "status": "completed"
    },
    "tags": []
   },
   "outputs": [],
   "source": [
    "def select_features(df: pd.DataFrame, moviesdf: pd.DataFrame, row_thresh_null=None):\n",
    "    '''\n",
    "    This function merges the given dataframes. Note that the first df must be \"train\" or \"test\" and\n",
    "    the second df should be \"movies\".\n",
    "    Note: Sentiment column is present only in \"train.csv\" file and not \"test.csv\" file.\n",
    "    '''\n",
    "    \n",
    "    # Drop duplicates from moviesdf\n",
    "#     movies_unique = moviesdf.drop_duplicates(subset=[\"movieid\"])\n",
    "\n",
    "    # Drop duplicates using groupby - clubs similar rows and fills in missing values better\n",
    "    movies_unique = moviesdf.fillna(value=np.nan).groupby(\"movieid\").first().reset_index()\n",
    "    \n",
    "\n",
    "    # Handle missing values in movies.csv better than just dropping duplicates?\n",
    "#     movies_unique = moviesdf.copy()\n",
    "#     movies_unique[[\"audienceScore\", \"runtimeMinutes\"]] = movies_unique[[\"audienceScore\", \"runtimeMinutes\"]].interpolate(method='linear', axis=0)\n",
    "#     movies_unique = movies_unique.fillna(value=np.nan).groupby(\"movieid\").first().fillna(method='ffill').reset_index()\n",
    "\n",
    "    \n",
    "\n",
    "    # Merge df and movies_unique\n",
    "    df_merged = pd.merge(df, movies_unique, on=\"movieid\", how='left')\n",
    "    \n",
    "    # Rename \"isTopCritic\" column, if it exists, to \"isFrequentReviewer\"\n",
    "    df_merged.rename(columns={\"isTopCritic\": \"isFrequentReviewer\"}, inplace=True)\n",
    "    \n",
    "    # Drop columns\n",
    "#     df_merged = df_merged.drop(columns=[\"title\", \"ratingContents\", \"releaseDateTheaters\", \"releaseDateStreaming\", \"distributor\", \"soundType\"])\n",
    "#     df_merged = df_merged.drop(columns=[\"title\", \"soundType\"])\n",
    "    \n",
    "    # Drop rows (OPTIONAL: Uses kwarg row_thresh_null)\n",
    "    if row_thresh_null != None:\n",
    "        df_merged.dropna(axis=0, thresh=(df_merged.shape[1] - row_thresh_null), inplace=True)\n",
    "        \n",
    "\n",
    "    # Create new columns based on reviewText\n",
    "    final = df_merged.copy()\n",
    "    final[\"reviewYN\"] = np.where(final[\"reviewText\"].isnull(), 1, 0)    # Feature engineering - adding a new column\n",
    "    final[\"reviewWC\"] = final.apply(lambda x: len(str(x[\"reviewText\"]).split()), axis=1)    # Feature engineering - adding second new column\n",
    "    \n",
    "    # Clean text (replace numbers with empty string) and fill missing values in \"reviewText\" with empty string\n",
    "    final[\"reviewText\"] = final[\"reviewText\"].str.replace('\\d+', '', regex=True)\n",
    "    final[\"reviewText\"] = final[\"reviewText\"].fillna(\"neutral\")\n",
    "    \n",
    "    # Fill missing values in \"rating\", \"genre\", original columns with the word \"unknown\"\n",
    "    final[\"rating\"] = final[\"rating\"].fillna(\"unknown\")\n",
    "    final[\"originalLanguage\"] = final[\"originalLanguage\"].fillna(\"unknown\")\n",
    "    final[\"genre\"] = final[\"genre\"].fillna(\"unknown\")\n",
    "    final[\"genre\"] = final[\"genre\"].apply(lambda x: re.sub(r\"-\", \"\", x))\n",
    "    final[\"genreSorted\"] = final[\"genre\"].apply(lambda x: (\",\").join(sorted(x.split(\", \"))))\n",
    "#     final[\"genre\"] = final[\"genre\"].replace(to_replace={\"&\": \"\"})\n",
    "\n",
    "    # Impute missing values for \"audienceScore\" and \"runtimeMinutes\" columns\n",
    "#     final[\"audienceScore\"] = final[\"audienceScore\"].fillna(final[\"audienceScore\"].mean())        # MOVED\n",
    "#     final[\"runtimeMinutes\"] = final[\"runtimeMinutes\"].fillna(final[\"runtimeMinutes\"].median())   # MOVED\n",
    "    \n",
    "    # Preprocess and impute missing values in \"boxOffice\" column\n",
    "    final[\"boxOffice\"] = final[\"boxOffice\"].str[1:]\n",
    "    final[\"boxOffice\"] = final[\"boxOffice\"].replace(to_replace={\"M\": \"*1000000\", \"K\": \"*1000\"}, regex=True)\n",
    "    final[\"boxOffice\"] = final[\"boxOffice\"].loc[final[\"boxOffice\"].notnull()].apply(lambda x: eval(str(x)))\n",
    "#     final[\"boxOffice\"] = final[\"boxOffice\"].fillna(final[\"boxOffice\"].median())                  # MOVED\n",
    "    # (Optional) Replace outliers in boxOffice with median\n",
    "#     median = final[\"boxOffice\"].describe()['50%']\n",
    "#     iqr = final[\"boxOffice\"].describe()['75%'] - final[\"boxOffice\"].describe()['25%']\n",
    "#     ll = median - (1.5*iqr)\n",
    "#     ul = median + (1.5*iqr)\n",
    "#     final.loc[final[\"boxOffice\"] > ul, \"boxOffice\"] = median\n",
    "    \n",
    "    # Clean language names\n",
    "    final[\"originalLanguage\"].replace({\"English (United Kingdom)\": \"English\", \n",
    "                                            \"English (Australia)\" : \"English\",\n",
    "                                            \"French (France)\": \"French\", \n",
    "                                            \"French (Canada)\": \"French\",\n",
    "                                            \"Portuguese (Brazil)\": \"Portuguese\",\n",
    "                                            \"Spanish (Spain)\": \"Spanish\"},                                         \n",
    "                                            inplace=True)\n",
    "    \n",
    "    # Clean reviewerName column\n",
    "    pre_post_fixes = {\"Mr. \": \"\", \"Mrs. \": \"\", \"Ms. \": \"\", \"Dr. \": \"\", \n",
    "                      \" MD\": \"\", \" DDS\": \"\", \" DVM\": \"\", \" Jr.\": \"\", \" PhD\": \"\", \" II\": \"\", \" IV\": \"\"}\n",
    "    final[\"reviewerName\"] = final[\"reviewerName\"].replace(pre_post_fixes, regex=True)\n",
    "    final[\"reviewerName\"] = final[\"reviewerName\"].apply(name_fl)\n",
    "    \n",
    "    # Handle 'ratingContents' column\n",
    "    final[\"ratingContents\"] = final[\"ratingContents\"].fillna(\"neutral\")\n",
    "    final[\"rcSorted\"] = final[\"ratingContents\"].apply(lambda x: (\",\").join(sorted(x.strip(\"][\").split(\", \"))))\n",
    "    final[\"rcSorted\"] = final[\"rcSorted\"].apply(lambda x: re.sub(r\"'\", \"\", x))\n",
    "    final[\"rcSorted\"] = final[\"rcSorted\"].apply(lambda x: re.sub(r\"[/\\s]\", \"_\", x))  \n",
    "    \n",
    "    # Handle 'ratingContents' column\n",
    "    final[\"distributor\"] = final[\"distributor\"].fillna(\"unknown\")\n",
    "    \n",
    "    # Work with 'releaseDateTheaters', releaseDateStreaming column\n",
    "    final[[\"releaseDateTheaters\", \"releaseDateStreaming\"]] = final[[\"releaseDateTheaters\", \"releaseDateStreaming\"]].astype('datetime64[ns]')\n",
    "\n",
    "    final[\"releaseDate\"] = final[[\"releaseDateTheaters\", \"releaseDateStreaming\"]].min(axis=1, skipna=False)\n",
    "#     final[\"releaseDate\"] = final[\"releaseDate\"].fillna(final[\"releaseDate\"].median())               # MOVED\n",
    "\n",
    "    final[\"releaseYear\"] = final[\"releaseDate\"].dt.year\n",
    "    final[\"releaseMonth\"] = final[\"releaseDate\"].dt.month\n",
    "    \n",
    "    # Compute \"releaseDiff\" column and fill missing values in \"releaseDiff\" and (optional) replace outliers\n",
    "    final[\"releaseDiff\"] = (final[\"releaseDateStreaming\"] - final[\"releaseDateTheaters\"]) / np.timedelta64(1, 'D')\n",
    "    final[\"releaseDiff\"] = final[\"releaseDiff\"].apply(lambda x: abs(x))\n",
    "    final[\"releaseDiff\"] = final[\"releaseDiff\"].fillna(value=0)\n",
    "#     final[\"releaseDiff\"] = final[\"releaseDiff\"].fillna(final[\"releaseDiff\"].median())\n",
    "    # median = final[\"releaseDiff\"].describe()['50%']\n",
    "    # iqr = final[\"releaseDiff\"].describe()['75%'] - final[\"releaseDiff\"].describe()['25%']\n",
    "    # ll = median - (1.5*iqr)\n",
    "    # ul = median + (1.5*iqr)\n",
    "    # final.loc[final[\"releaseDiff\"] > ul, \"releaseDiff\"] = median\n",
    "    # final.loc[final[\"releaseDiff\"] < ll, \"releaseDiff\"] = median\n",
    "    \n",
    "#     # Create new feature columns\n",
    "    \n",
    "#     # Convert audienceScore to categories  \n",
    "#     num_bins_as = 20\n",
    "#     final[\"audScoreBins\"] = pd.cut(final['audienceScore'], bins=num_bins_as, labels=False)\n",
    "    \n",
    "#     # Convert runtimeMinutes to categories  \n",
    "# #     num_bins_rt = 20\n",
    "#     final[\"runtimeBins\"] = pd.cut(final['runtimeMinutes'], bins=[0,75,120,180,565], labels=[4,3,2,1])\n",
    "    \n",
    "#     # Convert boxOffice to categories  \n",
    "#     num_bins_bo = 5\n",
    "#     final[\"boxOfficeBins\"] = pd.cut(final['boxOffice'], bins=num_bins_bo, labels=False)\n",
    "    \n",
    "#     # Convert releaseDiff to categories  \n",
    "#     num_bins_rd = 5\n",
    "#     final[\"releaseDiffBins\"] = pd.cut(final['releaseDiff'], bins=[-1, 180, 360, 1000, 40000], labels=[0, 1, 2, 3])\n",
    "\n",
    "    return final"
   ]
  },
  {
   "cell_type": "code",
   "execution_count": 31,
   "id": "40491d37",
   "metadata": {
    "execution": {
     "iopub.execute_input": "2023-08-13T05:22:39.985702Z",
     "iopub.status.busy": "2023-08-13T05:22:39.985344Z",
     "iopub.status.idle": "2023-08-13T05:22:39.992467Z",
     "shell.execute_reply": "2023-08-13T05:22:39.991250Z"
    },
    "papermill": {
     "duration": 0.112014,
     "end_time": "2023-08-13T05:22:39.994764",
     "exception": false,
     "start_time": "2023-08-13T05:22:39.882750",
     "status": "completed"
    },
    "tags": []
   },
   "outputs": [],
   "source": [
    "def split_train_predict(features, labels, pipeline, test_size=0.25, random_state=42):\n",
    "    # cols = features.columns\n",
    "    if len(features.shape) == 1:\n",
    "        features = features.to_numpy().reshape(-1, 1)  # reshape to 2D array\n",
    "    features = pd.DataFrame(features)\n",
    "    X_train, X_test, y_train, y_test = train_test_split(features, labels, test_size=test_size, random_state=random_state)\n",
    "    pipeline.fit(X_train, y_train)\n",
    "    y_pred = pipeline.predict(X_test)\n",
    "    print(classification_report(y_test, y_pred))\n",
    "    print(confusion_matrix(y_test, y_pred))\n",
    "    return pipeline"
   ]
  },
  {
   "cell_type": "markdown",
   "id": "c9e70b0b",
   "metadata": {
    "papermill": {
     "duration": 0.100792,
     "end_time": "2023-08-13T05:22:40.196831",
     "exception": false,
     "start_time": "2023-08-13T05:22:40.096039",
     "status": "completed"
    },
    "tags": []
   },
   "source": [
    "### Merge \"train.csv\" file with \"movies.csv\" file  "
   ]
  },
  {
   "cell_type": "code",
   "execution_count": 32,
   "id": "aa4eda99",
   "metadata": {
    "execution": {
     "iopub.execute_input": "2023-08-13T05:22:40.399947Z",
     "iopub.status.busy": "2023-08-13T05:22:40.399226Z",
     "iopub.status.idle": "2023-08-13T05:22:54.758117Z",
     "shell.execute_reply": "2023-08-13T05:22:54.756990Z"
    },
    "papermill": {
     "duration": 14.464127,
     "end_time": "2023-08-13T05:22:54.761037",
     "exception": false,
     "start_time": "2023-08-13T05:22:40.296910",
     "status": "completed"
    },
    "tags": []
   },
   "outputs": [],
   "source": [
    "merged = select_features(load_csv(\"train\"), load_csv(\"movies\"), row_thresh_null=None)"
   ]
  },
  {
   "cell_type": "code",
   "execution_count": 33,
   "id": "3ee262f8",
   "metadata": {
    "execution": {
     "iopub.execute_input": "2023-08-13T05:22:54.965508Z",
     "iopub.status.busy": "2023-08-13T05:22:54.965097Z",
     "iopub.status.idle": "2023-08-13T05:22:56.420175Z",
     "shell.execute_reply": "2023-08-13T05:22:56.418860Z"
    },
    "papermill": {
     "duration": 1.558693,
     "end_time": "2023-08-13T05:22:56.422421",
     "exception": false,
     "start_time": "2023-08-13T05:22:54.863728",
     "status": "completed"
    },
    "tags": []
   },
   "outputs": [
    {
     "name": "stdout",
     "output_type": "stream",
     "text": [
      "Shape of the dataframe: (162758, 26)\n",
      "\n",
      "Columns in the dataframe:\n",
      "Index(['movieid', 'reviewerName', 'isFrequentReviewer', 'reviewText',\n",
      "       'sentiment', 'title', 'audienceScore', 'rating', 'ratingContents',\n",
      "       'releaseDateTheaters', 'releaseDateStreaming', 'runtimeMinutes',\n",
      "       'genre', 'originalLanguage', 'director', 'boxOffice', 'distributor',\n",
      "       'soundType', 'reviewYN', 'reviewWC', 'genreSorted', 'rcSorted',\n",
      "       'releaseDate', 'releaseYear', 'releaseMonth', 'releaseDiff'],\n",
      "      dtype='object')\n",
      "\n",
      "<class 'pandas.core.frame.DataFrame'>\n",
      "Int64Index: 162758 entries, 0 to 162757\n",
      "Data columns (total 26 columns):\n",
      " #   Column                Non-Null Count   Dtype         \n",
      "---  ------                --------------   -----         \n",
      " 0   movieid               162758 non-null  object        \n",
      " 1   reviewerName          162758 non-null  object        \n",
      " 2   isFrequentReviewer    162758 non-null  bool          \n",
      " 3   reviewText            162758 non-null  object        \n",
      " 4   sentiment             162758 non-null  object        \n",
      " 5   title                 162758 non-null  object        \n",
      " 6   audienceScore         159922 non-null  float64       \n",
      " 7   rating                162758 non-null  object        \n",
      " 8   ratingContents        162758 non-null  object        \n",
      " 9   releaseDateTheaters   146403 non-null  datetime64[ns]\n",
      " 10  releaseDateStreaming  157353 non-null  datetime64[ns]\n",
      " 11  runtimeMinutes        162016 non-null  float64       \n",
      " 12  genre                 162758 non-null  object        \n",
      " 13  originalLanguage      162758 non-null  object        \n",
      " 14  director              162758 non-null  object        \n",
      " 15  boxOffice             130581 non-null  float64       \n",
      " 16  distributor           162758 non-null  object        \n",
      " 17  soundType             93466 non-null   object        \n",
      " 18  reviewYN              162758 non-null  int64         \n",
      " 19  reviewWC              162758 non-null  int64         \n",
      " 20  genreSorted           162758 non-null  object        \n",
      " 21  rcSorted              162758 non-null  object        \n",
      " 22  releaseDate           143073 non-null  datetime64[ns]\n",
      " 23  releaseYear           143073 non-null  float64       \n",
      " 24  releaseMonth          143073 non-null  float64       \n",
      " 25  releaseDiff           162758 non-null  float64       \n",
      "dtypes: bool(1), datetime64[ns](3), float64(6), int64(2), object(14)\n",
      "memory usage: 32.4+ MB\n",
      "None\n",
      "\n",
      "Missing values:\n",
      "movieid                     0\n",
      "reviewerName                0\n",
      "isFrequentReviewer          0\n",
      "reviewText                  0\n",
      "sentiment                   0\n",
      "title                       0\n",
      "audienceScore            2836\n",
      "rating                      0\n",
      "ratingContents              0\n",
      "releaseDateTheaters     16355\n",
      "releaseDateStreaming     5405\n",
      "runtimeMinutes            742\n",
      "genre                       0\n",
      "originalLanguage            0\n",
      "director                    0\n",
      "boxOffice               32177\n",
      "distributor                 0\n",
      "soundType               69292\n",
      "reviewYN                    0\n",
      "reviewWC                    0\n",
      "genreSorted                 0\n",
      "rcSorted                    0\n",
      "releaseDate             19685\n",
      "releaseYear             19685\n",
      "releaseMonth            19685\n",
      "releaseDiff                 0\n",
      "dtype: int64\n"
     ]
    }
   ],
   "source": [
    "inspect(merged)    # Note missing values in ['audienceScore', 'runtimeMinutes', 'boxOffice'] columns  "
   ]
  },
  {
   "cell_type": "code",
   "execution_count": 34,
   "id": "d747cd02",
   "metadata": {
    "execution": {
     "iopub.execute_input": "2023-08-13T05:22:56.626709Z",
     "iopub.status.busy": "2023-08-13T05:22:56.626306Z",
     "iopub.status.idle": "2023-08-13T05:22:56.714352Z",
     "shell.execute_reply": "2023-08-13T05:22:56.713198Z"
    },
    "papermill": {
     "duration": 0.193095,
     "end_time": "2023-08-13T05:22:56.716687",
     "exception": false,
     "start_time": "2023-08-13T05:22:56.523592",
     "status": "completed"
    },
    "tags": []
   },
   "outputs": [
    {
     "data": {
      "text/plain": [
       "array([6.80e+01, 1.04e+02, 1.43e+07])"
      ]
     },
     "execution_count": 34,
     "metadata": {},
     "output_type": "execute_result"
    }
   ],
   "source": [
    "# Simple Imputer for ['audienceScore', 'runtimeMinutes', 'boxOffice'] columns\n",
    "si = SimpleImputer(strategy='median')\n",
    "merged[['audienceScore', 'runtimeMinutes', 'boxOffice']] = si.fit_transform(merged[['audienceScore', 'runtimeMinutes', 'boxOffice']])\n",
    "si.statistics_"
   ]
  },
  {
   "cell_type": "code",
   "execution_count": 35,
   "id": "5427d78f",
   "metadata": {
    "execution": {
     "iopub.execute_input": "2023-08-13T05:22:56.921654Z",
     "iopub.status.busy": "2023-08-13T05:22:56.921234Z",
     "iopub.status.idle": "2023-08-13T05:22:56.935018Z",
     "shell.execute_reply": "2023-08-13T05:22:56.934026Z"
    },
    "papermill": {
     "duration": 0.118703,
     "end_time": "2023-08-13T05:22:56.937651",
     "exception": false,
     "start_time": "2023-08-13T05:22:56.818948",
     "status": "completed"
    },
    "tags": []
   },
   "outputs": [],
   "source": [
    "# Fill 'releaseDate' column with median  \n",
    "merged['releaseDate'] = merged[\"releaseDate\"].fillna(merged[\"releaseDate\"].median())"
   ]
  },
  {
   "cell_type": "code",
   "execution_count": 36,
   "id": "9ee4bf77",
   "metadata": {
    "execution": {
     "iopub.execute_input": "2023-08-13T05:22:57.142199Z",
     "iopub.status.busy": "2023-08-13T05:22:57.141494Z",
     "iopub.status.idle": "2023-08-13T05:22:58.571694Z",
     "shell.execute_reply": "2023-08-13T05:22:58.570630Z"
    },
    "papermill": {
     "duration": 1.534473,
     "end_time": "2023-08-13T05:22:58.574467",
     "exception": false,
     "start_time": "2023-08-13T05:22:57.039994",
     "status": "completed"
    },
    "tags": []
   },
   "outputs": [
    {
     "name": "stdout",
     "output_type": "stream",
     "text": [
      "Shape of the dataframe: (162758, 26)\n",
      "\n",
      "Columns in the dataframe:\n",
      "Index(['movieid', 'reviewerName', 'isFrequentReviewer', 'reviewText',\n",
      "       'sentiment', 'title', 'audienceScore', 'rating', 'ratingContents',\n",
      "       'releaseDateTheaters', 'releaseDateStreaming', 'runtimeMinutes',\n",
      "       'genre', 'originalLanguage', 'director', 'boxOffice', 'distributor',\n",
      "       'soundType', 'reviewYN', 'reviewWC', 'genreSorted', 'rcSorted',\n",
      "       'releaseDate', 'releaseYear', 'releaseMonth', 'releaseDiff'],\n",
      "      dtype='object')\n",
      "\n",
      "<class 'pandas.core.frame.DataFrame'>\n",
      "Int64Index: 162758 entries, 0 to 162757\n",
      "Data columns (total 26 columns):\n",
      " #   Column                Non-Null Count   Dtype         \n",
      "---  ------                --------------   -----         \n",
      " 0   movieid               162758 non-null  object        \n",
      " 1   reviewerName          162758 non-null  object        \n",
      " 2   isFrequentReviewer    162758 non-null  bool          \n",
      " 3   reviewText            162758 non-null  object        \n",
      " 4   sentiment             162758 non-null  object        \n",
      " 5   title                 162758 non-null  object        \n",
      " 6   audienceScore         162758 non-null  float64       \n",
      " 7   rating                162758 non-null  object        \n",
      " 8   ratingContents        162758 non-null  object        \n",
      " 9   releaseDateTheaters   146403 non-null  datetime64[ns]\n",
      " 10  releaseDateStreaming  157353 non-null  datetime64[ns]\n",
      " 11  runtimeMinutes        162758 non-null  float64       \n",
      " 12  genre                 162758 non-null  object        \n",
      " 13  originalLanguage      162758 non-null  object        \n",
      " 14  director              162758 non-null  object        \n",
      " 15  boxOffice             162758 non-null  float64       \n",
      " 16  distributor           162758 non-null  object        \n",
      " 17  soundType             93466 non-null   object        \n",
      " 18  reviewYN              162758 non-null  int64         \n",
      " 19  reviewWC              162758 non-null  int64         \n",
      " 20  genreSorted           162758 non-null  object        \n",
      " 21  rcSorted              162758 non-null  object        \n",
      " 22  releaseDate           162758 non-null  datetime64[ns]\n",
      " 23  releaseYear           143073 non-null  float64       \n",
      " 24  releaseMonth          143073 non-null  float64       \n",
      " 25  releaseDiff           162758 non-null  float64       \n",
      "dtypes: bool(1), datetime64[ns](3), float64(6), int64(2), object(14)\n",
      "memory usage: 32.4+ MB\n",
      "None\n",
      "\n",
      "Missing values:\n",
      "movieid                     0\n",
      "reviewerName                0\n",
      "isFrequentReviewer          0\n",
      "reviewText                  0\n",
      "sentiment                   0\n",
      "title                       0\n",
      "audienceScore               0\n",
      "rating                      0\n",
      "ratingContents              0\n",
      "releaseDateTheaters     16355\n",
      "releaseDateStreaming     5405\n",
      "runtimeMinutes              0\n",
      "genre                       0\n",
      "originalLanguage            0\n",
      "director                    0\n",
      "boxOffice                   0\n",
      "distributor                 0\n",
      "soundType               69292\n",
      "reviewYN                    0\n",
      "reviewWC                    0\n",
      "genreSorted                 0\n",
      "rcSorted                    0\n",
      "releaseDate                 0\n",
      "releaseYear             19685\n",
      "releaseMonth            19685\n",
      "releaseDiff                 0\n",
      "dtype: int64\n"
     ]
    }
   ],
   "source": [
    "# Check out 'merged' df after imputation  \n",
    "inspect(merged)"
   ]
  },
  {
   "cell_type": "code",
   "execution_count": 37,
   "id": "81c37a8c",
   "metadata": {
    "execution": {
     "iopub.execute_input": "2023-08-13T05:22:58.782144Z",
     "iopub.status.busy": "2023-08-13T05:22:58.781755Z",
     "iopub.status.idle": "2023-08-13T05:22:58.836915Z",
     "shell.execute_reply": "2023-08-13T05:22:58.835808Z"
    },
    "papermill": {
     "duration": 0.162567,
     "end_time": "2023-08-13T05:22:58.839386",
     "exception": false,
     "start_time": "2023-08-13T05:22:58.676819",
     "status": "completed"
    },
    "tags": []
   },
   "outputs": [
    {
     "data": {
      "text/html": [
       "<div>\n",
       "<style scoped>\n",
       "    .dataframe tbody tr th:only-of-type {\n",
       "        vertical-align: middle;\n",
       "    }\n",
       "\n",
       "    .dataframe tbody tr th {\n",
       "        vertical-align: top;\n",
       "    }\n",
       "\n",
       "    .dataframe thead th {\n",
       "        text-align: right;\n",
       "    }\n",
       "</style>\n",
       "<table border=\"1\" class=\"dataframe\">\n",
       "  <thead>\n",
       "    <tr style=\"text-align: right;\">\n",
       "      <th></th>\n",
       "      <th>audienceScore</th>\n",
       "      <th>runtimeMinutes</th>\n",
       "      <th>boxOffice</th>\n",
       "    </tr>\n",
       "  </thead>\n",
       "  <tbody>\n",
       "    <tr>\n",
       "      <th>count</th>\n",
       "      <td>162758.000000</td>\n",
       "      <td>162758.000000</td>\n",
       "      <td>1.627580e+05</td>\n",
       "    </tr>\n",
       "    <tr>\n",
       "      <th>mean</th>\n",
       "      <td>65.062565</td>\n",
       "      <td>106.992019</td>\n",
       "      <td>4.160983e+07</td>\n",
       "    </tr>\n",
       "    <tr>\n",
       "      <th>std</th>\n",
       "      <td>19.844000</td>\n",
       "      <td>22.203778</td>\n",
       "      <td>7.932291e+07</td>\n",
       "    </tr>\n",
       "    <tr>\n",
       "      <th>min</th>\n",
       "      <td>0.000000</td>\n",
       "      <td>4.000000</td>\n",
       "      <td>0.000000e+00</td>\n",
       "    </tr>\n",
       "    <tr>\n",
       "      <th>25%</th>\n",
       "      <td>51.000000</td>\n",
       "      <td>93.000000</td>\n",
       "      <td>2.000000e+06</td>\n",
       "    </tr>\n",
       "    <tr>\n",
       "      <th>50%</th>\n",
       "      <td>68.000000</td>\n",
       "      <td>104.000000</td>\n",
       "      <td>1.430000e+07</td>\n",
       "    </tr>\n",
       "    <tr>\n",
       "      <th>75%</th>\n",
       "      <td>81.000000</td>\n",
       "      <td>118.000000</td>\n",
       "      <td>4.200000e+07</td>\n",
       "    </tr>\n",
       "    <tr>\n",
       "      <th>max</th>\n",
       "      <td>100.000000</td>\n",
       "      <td>561.000000</td>\n",
       "      <td>8.584000e+08</td>\n",
       "    </tr>\n",
       "  </tbody>\n",
       "</table>\n",
       "</div>"
      ],
      "text/plain": [
       "       audienceScore  runtimeMinutes     boxOffice\n",
       "count  162758.000000   162758.000000  1.627580e+05\n",
       "mean       65.062565      106.992019  4.160983e+07\n",
       "std        19.844000       22.203778  7.932291e+07\n",
       "min         0.000000        4.000000  0.000000e+00\n",
       "25%        51.000000       93.000000  2.000000e+06\n",
       "50%        68.000000      104.000000  1.430000e+07\n",
       "75%        81.000000      118.000000  4.200000e+07\n",
       "max       100.000000      561.000000  8.584000e+08"
      ]
     },
     "execution_count": 37,
     "metadata": {},
     "output_type": "execute_result"
    }
   ],
   "source": [
    "merged[['audienceScore', 'runtimeMinutes', 'boxOffice']].describe()"
   ]
  },
  {
   "cell_type": "markdown",
   "id": "8404f295",
   "metadata": {
    "papermill": {
     "duration": 0.103093,
     "end_time": "2023-08-13T05:22:59.104693",
     "exception": false,
     "start_time": "2023-08-13T05:22:59.001600",
     "status": "completed"
    },
    "tags": []
   },
   "source": [
    "### EDA audienceScore  "
   ]
  },
  {
   "cell_type": "code",
   "execution_count": 38,
   "id": "9121046d",
   "metadata": {
    "execution": {
     "iopub.execute_input": "2023-08-13T05:22:59.310580Z",
     "iopub.status.busy": "2023-08-13T05:22:59.310155Z",
     "iopub.status.idle": "2023-08-13T05:22:59.695150Z",
     "shell.execute_reply": "2023-08-13T05:22:59.693980Z"
    },
    "papermill": {
     "duration": 0.490843,
     "end_time": "2023-08-13T05:22:59.697677",
     "exception": false,
     "start_time": "2023-08-13T05:22:59.206834",
     "status": "completed"
    },
    "tags": []
   },
   "outputs": [
    {
     "data": {
      "text/plain": [
       "<Axes: xlabel='sentiment', ylabel='audienceScore'>"
      ]
     },
     "execution_count": 38,
     "metadata": {},
     "output_type": "execute_result"
    },
    {
     "data": {
      "image/png": "[encoded data removed]",
      "text/plain": [
       "<Figure size 640x480 with 1 Axes>"
      ]
     },
     "metadata": {},
     "output_type": "display_data"
    }
   ],
   "source": [
    "sns.boxplot(y=merged[\"audienceScore\"], x=merged[\"sentiment\"])"
   ]
  },
  {
   "cell_type": "code",
   "execution_count": 39,
   "id": "c6a59359",
   "metadata": {
    "execution": {
     "iopub.execute_input": "2023-08-13T05:22:59.906461Z",
     "iopub.status.busy": "2023-08-13T05:22:59.905562Z",
     "iopub.status.idle": "2023-08-13T05:22:59.954910Z",
     "shell.execute_reply": "2023-08-13T05:22:59.953707Z"
    },
    "papermill": {
     "duration": 0.156358,
     "end_time": "2023-08-13T05:22:59.957364",
     "exception": false,
     "start_time": "2023-08-13T05:22:59.801006",
     "status": "completed"
    },
    "tags": []
   },
   "outputs": [
    {
     "data": {
      "text/html": [
       "<div>\n",
       "<style scoped>\n",
       "    .dataframe tbody tr th:only-of-type {\n",
       "        vertical-align: middle;\n",
       "    }\n",
       "\n",
       "    .dataframe tbody tr th {\n",
       "        vertical-align: top;\n",
       "    }\n",
       "\n",
       "    .dataframe thead th {\n",
       "        text-align: right;\n",
       "    }\n",
       "</style>\n",
       "<table border=\"1\" class=\"dataframe\">\n",
       "  <thead>\n",
       "    <tr style=\"text-align: right;\">\n",
       "      <th></th>\n",
       "      <th>count</th>\n",
       "      <th>mean</th>\n",
       "      <th>std</th>\n",
       "      <th>min</th>\n",
       "      <th>25%</th>\n",
       "      <th>50%</th>\n",
       "      <th>75%</th>\n",
       "      <th>max</th>\n",
       "    </tr>\n",
       "    <tr>\n",
       "      <th>sentiment</th>\n",
       "      <th></th>\n",
       "      <th></th>\n",
       "      <th></th>\n",
       "      <th></th>\n",
       "      <th></th>\n",
       "      <th></th>\n",
       "      <th></th>\n",
       "      <th></th>\n",
       "    </tr>\n",
       "  </thead>\n",
       "  <tbody>\n",
       "    <tr>\n",
       "      <th>NEGATIVE</th>\n",
       "      <td>53997.0</td>\n",
       "      <td>56.474786</td>\n",
       "      <td>19.902115</td>\n",
       "      <td>0.0</td>\n",
       "      <td>41.0</td>\n",
       "      <td>57.0</td>\n",
       "      <td>72.0</td>\n",
       "      <td>100.0</td>\n",
       "    </tr>\n",
       "    <tr>\n",
       "      <th>POSITIVE</th>\n",
       "      <td>108761.0</td>\n",
       "      <td>69.326174</td>\n",
       "      <td>18.380626</td>\n",
       "      <td>0.0</td>\n",
       "      <td>58.0</td>\n",
       "      <td>73.0</td>\n",
       "      <td>84.0</td>\n",
       "      <td>100.0</td>\n",
       "    </tr>\n",
       "  </tbody>\n",
       "</table>\n",
       "</div>"
      ],
      "text/plain": [
       "              count       mean        std  min   25%   50%   75%    max\n",
       "sentiment                                                              \n",
       "NEGATIVE    53997.0  56.474786  19.902115  0.0  41.0  57.0  72.0  100.0\n",
       "POSITIVE   108761.0  69.326174  18.380626  0.0  58.0  73.0  84.0  100.0"
      ]
     },
     "execution_count": 39,
     "metadata": {},
     "output_type": "execute_result"
    }
   ],
   "source": [
    "merged.groupby('sentiment')['audienceScore'].describe()"
   ]
  },
  {
   "cell_type": "code",
   "execution_count": 40,
   "id": "a48d089d",
   "metadata": {
    "execution": {
     "iopub.execute_input": "2023-08-13T05:23:00.165530Z",
     "iopub.status.busy": "2023-08-13T05:23:00.164747Z",
     "iopub.status.idle": "2023-08-13T05:23:00.223305Z",
     "shell.execute_reply": "2023-08-13T05:23:00.222044Z"
    },
    "papermill": {
     "duration": 0.165241,
     "end_time": "2023-08-13T05:23:00.225948",
     "exception": false,
     "start_time": "2023-08-13T05:23:00.060707",
     "status": "completed"
    },
    "tags": []
   },
   "outputs": [
    {
     "data": {
      "text/plain": [
       "(162758, 26)"
      ]
     },
     "execution_count": 40,
     "metadata": {},
     "output_type": "execute_result"
    }
   ],
   "source": [
    "merged.loc[merged['audienceScore'] >= 0].shape"
   ]
  },
  {
   "cell_type": "markdown",
   "id": "11a6d196",
   "metadata": {
    "papermill": {
     "duration": 0.101893,
     "end_time": "2023-08-13T05:23:00.430847",
     "exception": false,
     "start_time": "2023-08-13T05:23:00.328954",
     "status": "completed"
    },
    "tags": []
   },
   "source": [
    "### EDA releaseDiff  "
   ]
  },
  {
   "cell_type": "code",
   "execution_count": 41,
   "id": "6299d576",
   "metadata": {
    "execution": {
     "iopub.execute_input": "2023-08-13T05:23:00.639419Z",
     "iopub.status.busy": "2023-08-13T05:23:00.638621Z",
     "iopub.status.idle": "2023-08-13T05:23:00.656678Z",
     "shell.execute_reply": "2023-08-13T05:23:00.655596Z"
    },
    "papermill": {
     "duration": 0.124951,
     "end_time": "2023-08-13T05:23:00.658979",
     "exception": false,
     "start_time": "2023-08-13T05:23:00.534028",
     "status": "completed"
    },
    "tags": []
   },
   "outputs": [
    {
     "data": {
      "text/plain": [
       "count    162758.000000\n",
       "mean       1653.469015\n",
       "std        4581.420922\n",
       "min           0.000000\n",
       "25%          65.000000\n",
       "50%         116.000000\n",
       "75%         375.000000\n",
       "max       38922.000000\n",
       "Name: releaseDiff, dtype: float64"
      ]
     },
     "execution_count": 41,
     "metadata": {},
     "output_type": "execute_result"
    }
   ],
   "source": [
    "# abs values\n",
    "merged[\"releaseDiff\"].describe()"
   ]
  },
  {
   "cell_type": "code",
   "execution_count": 42,
   "id": "a6b67081",
   "metadata": {
    "execution": {
     "iopub.execute_input": "2023-08-13T05:23:00.867609Z",
     "iopub.status.busy": "2023-08-13T05:23:00.866978Z",
     "iopub.status.idle": "2023-08-13T05:23:00.870792Z",
     "shell.execute_reply": "2023-08-13T05:23:00.870061Z"
    },
    "papermill": {
     "duration": 0.110301,
     "end_time": "2023-08-13T05:23:00.872848",
     "exception": false,
     "start_time": "2023-08-13T05:23:00.762547",
     "status": "completed"
    },
    "tags": []
   },
   "outputs": [],
   "source": [
    "# merged['releaseDiffBins'].value_counts()"
   ]
  },
  {
   "cell_type": "code",
   "execution_count": 43,
   "id": "da5e02aa",
   "metadata": {
    "execution": {
     "iopub.execute_input": "2023-08-13T05:23:01.082321Z",
     "iopub.status.busy": "2023-08-13T05:23:01.081609Z",
     "iopub.status.idle": "2023-08-13T05:23:01.454412Z",
     "shell.execute_reply": "2023-08-13T05:23:01.453263Z"
    },
    "papermill": {
     "duration": 0.481443,
     "end_time": "2023-08-13T05:23:01.457162",
     "exception": false,
     "start_time": "2023-08-13T05:23:00.975719",
     "status": "completed"
    },
    "tags": []
   },
   "outputs": [
    {
     "data": {
      "text/plain": [
       "<Axes: xlabel='sentiment', ylabel='releaseDiff'>"
      ]
     },
     "execution_count": 43,
     "metadata": {},
     "output_type": "execute_result"
    },
    {
     "data": {
      "image/png": "[encoded data removed]",
      "text/plain": [
       "<Figure size 640x480 with 1 Axes>"
      ]
     },
     "metadata": {},
     "output_type": "display_data"
    }
   ],
   "source": [
    "sns.boxplot(x=merged['sentiment'], y=merged['releaseDiff'], showfliers=False)"
   ]
  },
  {
   "cell_type": "code",
   "execution_count": 44,
   "id": "01fb0aad",
   "metadata": {
    "execution": {
     "iopub.execute_input": "2023-08-13T05:23:01.666176Z",
     "iopub.status.busy": "2023-08-13T05:23:01.665758Z",
     "iopub.status.idle": "2023-08-13T05:23:01.670025Z",
     "shell.execute_reply": "2023-08-13T05:23:01.668974Z"
    },
    "papermill": {
     "duration": 0.111859,
     "end_time": "2023-08-13T05:23:01.672297",
     "exception": false,
     "start_time": "2023-08-13T05:23:01.560438",
     "status": "completed"
    },
    "tags": []
   },
   "outputs": [],
   "source": [
    "# sns.displot(merged['releaseDiffBins'])"
   ]
  },
  {
   "cell_type": "code",
   "execution_count": 45,
   "id": "791d67ae",
   "metadata": {
    "execution": {
     "iopub.execute_input": "2023-08-13T05:23:01.883288Z",
     "iopub.status.busy": "2023-08-13T05:23:01.882106Z",
     "iopub.status.idle": "2023-08-13T05:23:01.886458Z",
     "shell.execute_reply": "2023-08-13T05:23:01.885725Z"
    },
    "papermill": {
     "duration": 0.112014,
     "end_time": "2023-08-13T05:23:01.888505",
     "exception": false,
     "start_time": "2023-08-13T05:23:01.776491",
     "status": "completed"
    },
    "tags": []
   },
   "outputs": [],
   "source": [
    "# merged['sentiment'].loc[merged['releaseDiffBins'] > 0].value_counts()"
   ]
  },
  {
   "cell_type": "code",
   "execution_count": 46,
   "id": "54580aec",
   "metadata": {
    "execution": {
     "iopub.execute_input": "2023-08-13T05:23:02.098455Z",
     "iopub.status.busy": "2023-08-13T05:23:02.098064Z",
     "iopub.status.idle": "2023-08-13T05:23:02.102400Z",
     "shell.execute_reply": "2023-08-13T05:23:02.101253Z"
    },
    "papermill": {
     "duration": 0.112346,
     "end_time": "2023-08-13T05:23:02.104678",
     "exception": false,
     "start_time": "2023-08-13T05:23:01.992332",
     "status": "completed"
    },
    "tags": []
   },
   "outputs": [],
   "source": [
    "# merged['releaseDiffBins'].describe()"
   ]
  },
  {
   "cell_type": "markdown",
   "id": "909d0b56",
   "metadata": {
    "papermill": {
     "duration": 0.10293,
     "end_time": "2023-08-13T05:23:02.310980",
     "exception": false,
     "start_time": "2023-08-13T05:23:02.208050",
     "status": "completed"
    },
    "tags": []
   },
   "source": [
    "### EDA 'distributor'  "
   ]
  },
  {
   "cell_type": "code",
   "execution_count": 47,
   "id": "c489d733",
   "metadata": {
    "execution": {
     "iopub.execute_input": "2023-08-13T05:23:02.519164Z",
     "iopub.status.busy": "2023-08-13T05:23:02.518772Z",
     "iopub.status.idle": "2023-08-13T05:23:02.554564Z",
     "shell.execute_reply": "2023-08-13T05:23:02.553508Z"
    },
    "papermill": {
     "duration": 0.142218,
     "end_time": "2023-08-13T05:23:02.556698",
     "exception": false,
     "start_time": "2023-08-13T05:23:02.414480",
     "status": "completed"
    },
    "tags": []
   },
   "outputs": [
    {
     "data": {
      "text/plain": [
       "unknown                              20489\n",
       "Universal Pictures                    8847\n",
       "Warner Bros. Pictures                 8722\n",
       "Paramount Pictures                    7773\n",
       "20th Century Fox                      7007\n",
       "                                     ...  \n",
       "Almi Pictures                            1\n",
       "Koch Lorber                              1\n",
       "Magic Lamp                               1\n",
       "Fine Line Features, Miramax Films        1\n",
       "American Film Co.                        1\n",
       "Name: distributor, Length: 1796, dtype: int64"
      ]
     },
     "execution_count": 47,
     "metadata": {},
     "output_type": "execute_result"
    }
   ],
   "source": [
    "merged[\"distributor\"].value_counts()"
   ]
  },
  {
   "cell_type": "code",
   "execution_count": 48,
   "id": "b03553b1",
   "metadata": {
    "execution": {
     "iopub.execute_input": "2023-08-13T05:23:02.766863Z",
     "iopub.status.busy": "2023-08-13T05:23:02.766064Z",
     "iopub.status.idle": "2023-08-13T05:23:02.783442Z",
     "shell.execute_reply": "2023-08-13T05:23:02.782284Z"
    },
    "papermill": {
     "duration": 0.1255,
     "end_time": "2023-08-13T05:23:02.785668",
     "exception": false,
     "start_time": "2023-08-13T05:23:02.660168",
     "status": "completed"
    },
    "tags": []
   },
   "outputs": [
    {
     "data": {
      "text/plain": [
       "count    162758.000000\n",
       "mean        106.992019\n",
       "std          22.203778\n",
       "min           4.000000\n",
       "25%          93.000000\n",
       "50%         104.000000\n",
       "75%         118.000000\n",
       "max         561.000000\n",
       "Name: runtimeMinutes, dtype: float64"
      ]
     },
     "execution_count": 48,
     "metadata": {},
     "output_type": "execute_result"
    }
   ],
   "source": [
    "merged[\"runtimeMinutes\"].describe()"
   ]
  },
  {
   "cell_type": "code",
   "execution_count": 49,
   "id": "f71871ce",
   "metadata": {
    "execution": {
     "iopub.execute_input": "2023-08-13T05:23:02.997897Z",
     "iopub.status.busy": "2023-08-13T05:23:02.997277Z",
     "iopub.status.idle": "2023-08-13T05:23:03.396576Z",
     "shell.execute_reply": "2023-08-13T05:23:03.395476Z"
    },
    "papermill": {
     "duration": 0.508401,
     "end_time": "2023-08-13T05:23:03.398888",
     "exception": false,
     "start_time": "2023-08-13T05:23:02.890487",
     "status": "completed"
    },
    "tags": []
   },
   "outputs": [
    {
     "data": {
      "text/plain": [
       "<Axes: xlabel='sentiment', ylabel='runtimeMinutes'>"
      ]
     },
     "execution_count": 49,
     "metadata": {},
     "output_type": "execute_result"
    },
    {
     "data": {
      "image/png": "[encoded data removed]",
      "text/plain": [
       "<Figure size 640x480 with 1 Axes>"
      ]
     },
     "metadata": {},
     "output_type": "display_data"
    }
   ],
   "source": [
    "sns.boxplot(y=merged[\"runtimeMinutes\"], x=merged[\"sentiment\"])"
   ]
  },
  {
   "cell_type": "code",
   "execution_count": 50,
   "id": "f178fd75",
   "metadata": {
    "execution": {
     "iopub.execute_input": "2023-08-13T05:23:03.610072Z",
     "iopub.status.busy": "2023-08-13T05:23:03.609454Z",
     "iopub.status.idle": "2023-08-13T05:23:03.613705Z",
     "shell.execute_reply": "2023-08-13T05:23:03.612972Z"
    },
    "papermill": {
     "duration": 0.113464,
     "end_time": "2023-08-13T05:23:03.615808",
     "exception": false,
     "start_time": "2023-08-13T05:23:03.502344",
     "status": "completed"
    },
    "tags": []
   },
   "outputs": [],
   "source": [
    "# print(merged[\"boxOfficeBins\"].value_counts())\n",
    "# sns.displot(merged[\"boxOfficeBins\"])"
   ]
  },
  {
   "cell_type": "code",
   "execution_count": 51,
   "id": "b120fd17",
   "metadata": {
    "execution": {
     "iopub.execute_input": "2023-08-13T05:23:03.830904Z",
     "iopub.status.busy": "2023-08-13T05:23:03.830268Z",
     "iopub.status.idle": "2023-08-13T05:23:03.838355Z",
     "shell.execute_reply": "2023-08-13T05:23:03.837297Z"
    },
    "papermill": {
     "duration": 0.119179,
     "end_time": "2023-08-13T05:23:03.840568",
     "exception": false,
     "start_time": "2023-08-13T05:23:03.721389",
     "status": "completed"
    },
    "tags": []
   },
   "outputs": [
    {
     "data": {
      "text/plain": [
       "0    Henry Selick’s first movie since ’s Coraline. ...\n",
       "1    With a cast that reads like the Vogue Oscar pa...\n",
       "2    Creed II does not give us anything but another...\n",
       "3    I know what you're thinking, but this is no Li...\n",
       "4    Director Fernando Meirelles tells the story wi...\n",
       "Name: reviewText, dtype: object"
      ]
     },
     "execution_count": 51,
     "metadata": {},
     "output_type": "execute_result"
    }
   ],
   "source": [
    "merged[\"reviewText\"].head()"
   ]
  },
  {
   "cell_type": "code",
   "execution_count": 52,
   "id": "136ef755",
   "metadata": {
    "execution": {
     "iopub.execute_input": "2023-08-13T05:23:04.051128Z",
     "iopub.status.busy": "2023-08-13T05:23:04.050529Z",
     "iopub.status.idle": "2023-08-13T05:23:04.059546Z",
     "shell.execute_reply": "2023-08-13T05:23:04.058380Z"
    },
    "papermill": {
     "duration": 0.117183,
     "end_time": "2023-08-13T05:23:04.061697",
     "exception": false,
     "start_time": "2023-08-13T05:23:03.944514",
     "status": "completed"
    },
    "tags": []
   },
   "outputs": [
    {
     "data": {
      "text/plain": [
       "6447"
      ]
     },
     "execution_count": 52,
     "metadata": {},
     "output_type": "execute_result"
    }
   ],
   "source": [
    "merged[\"reviewYN\"].sum()"
   ]
  },
  {
   "cell_type": "code",
   "execution_count": 53,
   "id": "422e12ee",
   "metadata": {
    "execution": {
     "iopub.execute_input": "2023-08-13T05:23:04.274335Z",
     "iopub.status.busy": "2023-08-13T05:23:04.273892Z",
     "iopub.status.idle": "2023-08-13T05:23:04.282160Z",
     "shell.execute_reply": "2023-08-13T05:23:04.280755Z"
    },
    "papermill": {
     "duration": 0.117423,
     "end_time": "2023-08-13T05:23:04.284504",
     "exception": false,
     "start_time": "2023-08-13T05:23:04.167081",
     "status": "completed"
    },
    "tags": []
   },
   "outputs": [
    {
     "data": {
      "text/plain": [
       "0    11\n",
       "1    24\n",
       "2    22\n",
       "3    34\n",
       "4    20\n",
       "Name: reviewWC, dtype: int64"
      ]
     },
     "execution_count": 53,
     "metadata": {},
     "output_type": "execute_result"
    }
   ],
   "source": [
    "merged[\"reviewWC\"].head()"
   ]
  },
  {
   "cell_type": "code",
   "execution_count": 54,
   "id": "125c79de",
   "metadata": {
    "execution": {
     "iopub.execute_input": "2023-08-13T05:23:04.497992Z",
     "iopub.status.busy": "2023-08-13T05:23:04.496834Z",
     "iopub.status.idle": "2023-08-13T05:23:04.512561Z",
     "shell.execute_reply": "2023-08-13T05:23:04.511767Z"
    },
    "papermill": {
     "duration": 0.124358,
     "end_time": "2023-08-13T05:23:04.514719",
     "exception": false,
     "start_time": "2023-08-13T05:23:04.390361",
     "status": "completed"
    },
    "tags": []
   },
   "outputs": [
    {
     "data": {
      "text/plain": [
       "count    162758.000000\n",
       "mean         21.013707\n",
       "std          10.216532\n",
       "min           1.000000\n",
       "25%          14.000000\n",
       "50%          21.000000\n",
       "75%          28.000000\n",
       "max          54.000000\n",
       "Name: reviewWC, dtype: float64"
      ]
     },
     "execution_count": 54,
     "metadata": {},
     "output_type": "execute_result"
    }
   ],
   "source": [
    "merged[\"reviewWC\"].describe()"
   ]
  },
  {
   "cell_type": "code",
   "execution_count": 55,
   "id": "8eecb935",
   "metadata": {
    "execution": {
     "iopub.execute_input": "2023-08-13T05:23:04.728642Z",
     "iopub.status.busy": "2023-08-13T05:23:04.727926Z",
     "iopub.status.idle": "2023-08-13T05:23:05.400567Z",
     "shell.execute_reply": "2023-08-13T05:23:05.399463Z"
    },
    "papermill": {
     "duration": 0.78277,
     "end_time": "2023-08-13T05:23:05.403104",
     "exception": false,
     "start_time": "2023-08-13T05:23:04.620334",
     "status": "completed"
    },
    "tags": []
   },
   "outputs": [
    {
     "data": {
      "text/plain": [
       "<Axes: xlabel='reviewWC', ylabel='Count'>"
      ]
     },
     "execution_count": 55,
     "metadata": {},
     "output_type": "execute_result"
    },
    {
     "data": {
      "image/png": "[encoded data removed]",
      "text/plain": [
       "<Figure size 640x480 with 1 Axes>"
      ]
     },
     "metadata": {},
     "output_type": "display_data"
    }
   ],
   "source": [
    "sns.histplot(merged[\"reviewWC\"])"
   ]
  },
  {
   "cell_type": "code",
   "execution_count": 56,
   "id": "e6385fc7",
   "metadata": {
    "execution": {
     "iopub.execute_input": "2023-08-13T05:23:05.678035Z",
     "iopub.status.busy": "2023-08-13T05:23:05.677650Z",
     "iopub.status.idle": "2023-08-13T05:23:05.709050Z",
     "shell.execute_reply": "2023-08-13T05:23:05.707785Z"
    },
    "papermill": {
     "duration": 0.201871,
     "end_time": "2023-08-13T05:23:05.711265",
     "exception": false,
     "start_time": "2023-08-13T05:23:05.509394",
     "status": "completed"
    },
    "tags": []
   },
   "outputs": [
    {
     "data": {
      "text/plain": [
       "R          60248\n",
       "unknown    44587\n",
       "PG-13      42697\n",
       "PG         13669\n",
       "TV14         947\n",
       "NC-17        285\n",
       "TVPG         281\n",
       "TVMA          44\n",
       "Name: rating, dtype: int64"
      ]
     },
     "execution_count": 56,
     "metadata": {},
     "output_type": "execute_result"
    }
   ],
   "source": [
    "merged['rating'].value_counts()"
   ]
  },
  {
   "cell_type": "code",
   "execution_count": 57,
   "id": "da605f1e",
   "metadata": {
    "execution": {
     "iopub.execute_input": "2023-08-13T05:23:05.929517Z",
     "iopub.status.busy": "2023-08-13T05:23:05.929116Z",
     "iopub.status.idle": "2023-08-13T05:23:05.940017Z",
     "shell.execute_reply": "2023-08-13T05:23:05.938474Z"
    },
    "papermill": {
     "duration": 0.121692,
     "end_time": "2023-08-13T05:23:05.943074",
     "exception": false,
     "start_time": "2023-08-13T05:23:05.821382",
     "status": "completed"
    },
    "tags": []
   },
   "outputs": [
    {
     "data": {
      "text/plain": [
       "False    113189\n",
       "True      49569\n",
       "Name: isFrequentReviewer, dtype: int64"
      ]
     },
     "execution_count": 57,
     "metadata": {},
     "output_type": "execute_result"
    }
   ],
   "source": [
    "merged['isFrequentReviewer'].value_counts()"
   ]
  },
  {
   "cell_type": "code",
   "execution_count": 58,
   "id": "1e7adefe",
   "metadata": {
    "execution": {
     "iopub.execute_input": "2023-08-13T05:23:06.178505Z",
     "iopub.status.busy": "2023-08-13T05:23:06.178114Z",
     "iopub.status.idle": "2023-08-13T05:23:06.186064Z",
     "shell.execute_reply": "2023-08-13T05:23:06.185114Z"
    },
    "papermill": {
     "duration": 0.117672,
     "end_time": "2023-08-13T05:23:06.188166",
     "exception": false,
     "start_time": "2023-08-13T05:23:06.070494",
     "status": "completed"
    },
    "tags": []
   },
   "outputs": [
    {
     "data": {
      "text/plain": [
       "0      Benjamin Henry\n",
       "1       Felicia Lopez\n",
       "2     Charles Burgess\n",
       "3        Ryan Barrett\n",
       "4    Alexander Glover\n",
       "Name: reviewerName, dtype: object"
      ]
     },
     "execution_count": 58,
     "metadata": {},
     "output_type": "execute_result"
    }
   ],
   "source": [
    "merged[\"reviewerName\"].head()"
   ]
  },
  {
   "cell_type": "code",
   "execution_count": 59,
   "id": "c3ff2f7a",
   "metadata": {
    "execution": {
     "iopub.execute_input": "2023-08-13T05:23:06.402026Z",
     "iopub.status.busy": "2023-08-13T05:23:06.401607Z",
     "iopub.status.idle": "2023-08-13T05:23:06.416125Z",
     "shell.execute_reply": "2023-08-13T05:23:06.414975Z"
    },
    "papermill": {
     "duration": 0.124086,
     "end_time": "2023-08-13T05:23:06.418403",
     "exception": false,
     "start_time": "2023-08-13T05:23:06.294317",
     "status": "completed"
    },
    "tags": []
   },
   "outputs": [
    {
     "data": {
      "text/plain": [
       "14300000.0    32327\n",
       "2000000.0       922\n",
       "1100000.0       891\n",
       "1000000.0       834\n",
       "1200000.0       802\n",
       "              ...  \n",
       "58500.0           1\n",
       "500800.0          1\n",
       "265600.0          1\n",
       "292500.0          1\n",
       "799400.0          1\n",
       "Name: boxOffice, Length: 3819, dtype: int64"
      ]
     },
     "execution_count": 59,
     "metadata": {},
     "output_type": "execute_result"
    }
   ],
   "source": [
    "merged['boxOffice'].value_counts()"
   ]
  },
  {
   "cell_type": "code",
   "execution_count": 60,
   "id": "3075b3a0",
   "metadata": {
    "execution": {
     "iopub.execute_input": "2023-08-13T05:23:06.632506Z",
     "iopub.status.busy": "2023-08-13T05:23:06.632084Z",
     "iopub.status.idle": "2023-08-13T05:23:06.637051Z",
     "shell.execute_reply": "2023-08-13T05:23:06.635910Z"
    },
    "papermill": {
     "duration": 0.113889,
     "end_time": "2023-08-13T05:23:06.639197",
     "exception": false,
     "start_time": "2023-08-13T05:23:06.525308",
     "status": "completed"
    },
    "tags": []
   },
   "outputs": [],
   "source": [
    "# Check correlation between 'boxOffice' and ''sentiment'\n",
    "# bo_df = merged.copy()\n",
    "# print(bo_df[\"boxOffice\"])\n",
    "# bo_df[\"boxOffice\"] = bo_df[\"boxOffice\"].str[1:]\n",
    "# bo_df[\"boxOffice\"] = bo_df[\"boxOffice\"].replace(to_replace={\"M\": \"*1000000\", \"K\": \"*1000\"}, regex=True)\n",
    "# bo_df[\"boxOffice\"] = bo_df[\"boxOffice\"].loc[bo_df[\"boxOffice\"].notnull()].apply(lambda x: eval(str(x)))\n",
    "# bo_df[\"boxOffice\"] = bo_df[\"boxOffice\"].fillna(bo_df[\"boxOffice\"].median())\n",
    "# bo_df[\"boxOffice\"].describe()"
   ]
  },
  {
   "cell_type": "code",
   "execution_count": 61,
   "id": "e66fcaf8",
   "metadata": {
    "execution": {
     "iopub.execute_input": "2023-08-13T05:23:06.854607Z",
     "iopub.status.busy": "2023-08-13T05:23:06.854185Z",
     "iopub.status.idle": "2023-08-13T05:23:06.858664Z",
     "shell.execute_reply": "2023-08-13T05:23:06.857602Z"
    },
    "papermill": {
     "duration": 0.115288,
     "end_time": "2023-08-13T05:23:06.861046",
     "exception": false,
     "start_time": "2023-08-13T05:23:06.745758",
     "status": "completed"
    },
    "tags": []
   },
   "outputs": [],
   "source": [
    "# median = bo_df[\"boxOffice\"].describe()['50%']\n",
    "# iqr = bo_df[\"boxOffice\"].describe()['75%'] - bo_df[\"boxOffice\"].describe()['25%']\n",
    "# median, iqr"
   ]
  },
  {
   "cell_type": "code",
   "execution_count": 62,
   "id": "e91cf6aa",
   "metadata": {
    "execution": {
     "iopub.execute_input": "2023-08-13T05:23:07.078265Z",
     "iopub.status.busy": "2023-08-13T05:23:07.077857Z",
     "iopub.status.idle": "2023-08-13T05:23:07.082186Z",
     "shell.execute_reply": "2023-08-13T05:23:07.081066Z"
    },
    "papermill": {
     "duration": 0.1171,
     "end_time": "2023-08-13T05:23:07.084299",
     "exception": false,
     "start_time": "2023-08-13T05:23:06.967199",
     "status": "completed"
    },
    "tags": []
   },
   "outputs": [],
   "source": [
    "# ll = median - (1.5*iqr)\n",
    "# ul = median + (1.5*iqr)\n",
    "# ll, ul"
   ]
  },
  {
   "cell_type": "code",
   "execution_count": 63,
   "id": "116e1ecf",
   "metadata": {
    "execution": {
     "iopub.execute_input": "2023-08-13T05:23:07.300689Z",
     "iopub.status.busy": "2023-08-13T05:23:07.300169Z",
     "iopub.status.idle": "2023-08-13T05:23:07.304598Z",
     "shell.execute_reply": "2023-08-13T05:23:07.303716Z"
    },
    "papermill": {
     "duration": 0.114459,
     "end_time": "2023-08-13T05:23:07.306690",
     "exception": false,
     "start_time": "2023-08-13T05:23:07.192231",
     "status": "completed"
    },
    "tags": []
   },
   "outputs": [],
   "source": [
    "# bo_df[\"boxOffice\"].mean()"
   ]
  },
  {
   "cell_type": "code",
   "execution_count": 64,
   "id": "6b7b2725",
   "metadata": {
    "execution": {
     "iopub.execute_input": "2023-08-13T05:23:07.521825Z",
     "iopub.status.busy": "2023-08-13T05:23:07.521421Z",
     "iopub.status.idle": "2023-08-13T05:23:07.525887Z",
     "shell.execute_reply": "2023-08-13T05:23:07.524872Z"
    },
    "papermill": {
     "duration": 0.114591,
     "end_time": "2023-08-13T05:23:07.528123",
     "exception": false,
     "start_time": "2023-08-13T05:23:07.413532",
     "status": "completed"
    },
    "tags": []
   },
   "outputs": [],
   "source": [
    "# bo_df.loc[bo_df[\"boxOffice\"] > ul, \"boxOffice\"] = median\n",
    "# bo_df[\"boxOffice\"].mean()"
   ]
  },
  {
   "cell_type": "code",
   "execution_count": 65,
   "id": "01165cc0",
   "metadata": {
    "execution": {
     "iopub.execute_input": "2023-08-13T05:23:07.745131Z",
     "iopub.status.busy": "2023-08-13T05:23:07.744727Z",
     "iopub.status.idle": "2023-08-13T05:23:07.749118Z",
     "shell.execute_reply": "2023-08-13T05:23:07.747939Z"
    },
    "papermill": {
     "duration": 0.115737,
     "end_time": "2023-08-13T05:23:07.751541",
     "exception": false,
     "start_time": "2023-08-13T05:23:07.635804",
     "status": "completed"
    },
    "tags": []
   },
   "outputs": [],
   "source": [
    "# bo_df[\"boxOffice\"].min(), bo_df[\"boxOffice\"].max()"
   ]
  },
  {
   "cell_type": "code",
   "execution_count": 66,
   "id": "ff2f25e7",
   "metadata": {
    "execution": {
     "iopub.execute_input": "2023-08-13T05:23:07.966459Z",
     "iopub.status.busy": "2023-08-13T05:23:07.966050Z",
     "iopub.status.idle": "2023-08-13T05:23:07.970378Z",
     "shell.execute_reply": "2023-08-13T05:23:07.969293Z"
    },
    "papermill": {
     "duration": 0.114529,
     "end_time": "2023-08-13T05:23:07.972715",
     "exception": false,
     "start_time": "2023-08-13T05:23:07.858186",
     "status": "completed"
    },
    "tags": []
   },
   "outputs": [],
   "source": [
    "# sns.boxplot(x=\"sentiment\", y=\"boxOffice\", data=bo_df, showfliers = False)"
   ]
  },
  {
   "cell_type": "markdown",
   "id": "8fcc4e9c",
   "metadata": {
    "papermill": {
     "duration": 0.106138,
     "end_time": "2023-08-13T05:23:08.186552",
     "exception": false,
     "start_time": "2023-08-13T05:23:08.080414",
     "status": "completed"
    },
    "tags": []
   },
   "source": [
    "## EDA  "
   ]
  },
  {
   "cell_type": "markdown",
   "id": "0d669fe2",
   "metadata": {
    "papermill": {
     "duration": 0.105465,
     "end_time": "2023-08-13T05:23:08.398325",
     "exception": false,
     "start_time": "2023-08-13T05:23:08.292860",
     "status": "completed"
    },
    "tags": []
   },
   "source": [
    "### An interesting finding through exploration  \n",
    "  \n",
    "* OHE and TfidfVectorizer on director column give the same result when ngram_range(2,2) is used (see code below)!"
   ]
  },
  {
   "cell_type": "code",
   "execution_count": 67,
   "id": "f75488a0",
   "metadata": {
    "execution": {
     "iopub.execute_input": "2023-08-13T05:23:08.614142Z",
     "iopub.status.busy": "2023-08-13T05:23:08.613451Z",
     "iopub.status.idle": "2023-08-13T05:23:21.808880Z",
     "shell.execute_reply": "2023-08-13T05:23:21.807672Z"
    },
    "papermill": {
     "duration": 13.30651,
     "end_time": "2023-08-13T05:23:21.811291",
     "exception": false,
     "start_time": "2023-08-13T05:23:08.504781",
     "status": "completed"
    },
    "tags": []
   },
   "outputs": [
    {
     "name": "stdout",
     "output_type": "stream",
     "text": [
      "(162758,)\n",
      "9476\n",
      "(162758, 9476) <class 'numpy.ndarray'>\n",
      "(162758,)\n",
      "(162758, 9476) <class 'numpy.ndarray'>\n",
      "True\n"
     ]
    }
   ],
   "source": [
    "# Compare OHE and TfidfVectorizer on director column\n",
    "\n",
    "dirs = merged[\"director\"].copy()\n",
    "print(dirs.shape)\n",
    "dirs_uniq = merged[\"director\"].unique()\n",
    "print(len(dirs_uniq))\n",
    "\n",
    "du_ohe = OneHotEncoder(handle_unknown=\"ignore\", sparse_output=False).fit_transform(dirs.to_numpy().reshape(-1, 1))\n",
    "print(du_ohe.shape, type(du_ohe))\n",
    "\n",
    "dirs_2 = merged[\"director\"].copy()\n",
    "print(dirs_2.shape)\n",
    "du_tfidf = TfidfVectorizer(ngram_range=(2,2)).fit_transform(dirs_2).toarray()\n",
    "print(du_tfidf.shape, type(du_tfidf))\n",
    "\n",
    "print(np.array_equal(du_ohe, du_tfidf))"
   ]
  },
  {
   "cell_type": "code",
   "execution_count": 68,
   "id": "cb72a22a",
   "metadata": {
    "execution": {
     "iopub.execute_input": "2023-08-13T05:23:22.027981Z",
     "iopub.status.busy": "2023-08-13T05:23:22.027177Z",
     "iopub.status.idle": "2023-08-13T05:23:22.382081Z",
     "shell.execute_reply": "2023-08-13T05:23:22.381011Z"
    },
    "papermill": {
     "duration": 0.465739,
     "end_time": "2023-08-13T05:23:22.384508",
     "exception": false,
     "start_time": "2023-08-13T05:23:21.918769",
     "status": "completed"
    },
    "tags": []
   },
   "outputs": [
    {
     "name": "stdout",
     "output_type": "stream",
     "text": [
      "0       Bennie Basso\n",
      "1         Alma White\n",
      "2       Bobby Oleary\n",
      "3    Eric Hutcherson\n",
      "4         John Trent\n",
      "Name: director, dtype: object\n"
     ]
    },
    {
     "data": {
      "text/plain": [
       "2    162758\n",
       "Name: director, dtype: int64"
      ]
     },
     "execution_count": 68,
     "metadata": {},
     "output_type": "execute_result"
    }
   ],
   "source": [
    "print(dirs.head())\n",
    "d = dirs.copy()\n",
    "d[\"name_len\"] = d.apply(lambda x: len(x.split()))\n",
    "d[\"name_len\"].value_counts()"
   ]
  },
  {
   "cell_type": "code",
   "execution_count": 69,
   "id": "fa2af0c3",
   "metadata": {
    "execution": {
     "iopub.execute_input": "2023-08-13T05:23:22.600437Z",
     "iopub.status.busy": "2023-08-13T05:23:22.599766Z",
     "iopub.status.idle": "2023-08-13T05:23:22.605501Z",
     "shell.execute_reply": "2023-08-13T05:23:22.604718Z"
    },
    "papermill": {
     "duration": 0.116415,
     "end_time": "2023-08-13T05:23:22.607609",
     "exception": false,
     "start_time": "2023-08-13T05:23:22.491194",
     "status": "completed"
    },
    "tags": []
   },
   "outputs": [],
   "source": [
    "# Compare OHE and TfidfVectorizer on reviewerName column\n",
    "# Note: reviewerName column has salutations like \"Mr. \" etc, and some names appear middle names. Therefore needs cleaning\n",
    "\n",
    "# def name_fl(name):\n",
    "#     l = name.split()\n",
    "#     n = ' '.join((l[0], l[-1]))\n",
    "#     return n\n",
    "\n",
    "# reviewers = merged[\"reviewerName\"].copy()\n",
    "# reviewers = pd.DataFrame(reviewers)\n",
    "# reviewers = reviewers.replace({\"Mr. \": \"\", \"Mrs. \": \"\"}, regex=True)\n",
    "# reviewers[\"reviewerName\"] = reviewers[\"reviewerName\"].apply(name_fl)\n",
    "# print(reviewers.shape)\n",
    "\n",
    "# reviewers_uniq = merged[\"reviewerName\"].unique()\n",
    "# print(len(reviewers_uniq))\n",
    "\n",
    "# reviewers_ohe = OneHotEncoder(handle_unknown=\"ignore\", sparse_output=False).fit_transform(reviewers.to_numpy().reshape(-1, 1))\n",
    "# print(reviewers_ohe.shape, type(reviewers_ohe))\n",
    "\n",
    "# reviewers_2 = merged[\"reviewerName\"].copy()\n",
    "# reviewers_2 = pd.DataFrame(reviewers_2)\n",
    "# print(reviewers_2.head())\n",
    "# reviewers_2 = reviewers_2.replace({\"Mr. \": \"\", \"Mrs. \": \"\"}, regex=True)\n",
    "# reviewers_2[\"reviewerName\"] = reviewers_2[\"reviewerName\"].apply(name_fl)\n",
    "# reviewers_2 = reviewers_2.squeeze()\n",
    "# print(reviewers_2.shape)\n",
    "# print(reviewers_2.head())\n",
    "\n",
    "# reviewers_tfidf = TfidfVectorizer(ngram_range=(2,2)).fit_transform(reviewers_2).toarray()\n",
    "# print(reviewers_tfidf.shape, type(reviewers_tfidf))\n",
    "\n",
    "# print(np.array_equal(reviewers_ohe, reviewers_tfidf))"
   ]
  },
  {
   "cell_type": "code",
   "execution_count": 70,
   "id": "575372cb",
   "metadata": {
    "execution": {
     "iopub.execute_input": "2023-08-13T05:23:22.824254Z",
     "iopub.status.busy": "2023-08-13T05:23:22.823600Z",
     "iopub.status.idle": "2023-08-13T05:23:22.827950Z",
     "shell.execute_reply": "2023-08-13T05:23:22.827193Z"
    },
    "papermill": {
     "duration": 0.114955,
     "end_time": "2023-08-13T05:23:22.830032",
     "exception": false,
     "start_time": "2023-08-13T05:23:22.715077",
     "status": "completed"
    },
    "tags": []
   },
   "outputs": [],
   "source": [
    "# def name_fl(name):\n",
    "#     l = name.split()\n",
    "#     n = ' '.join((l[0], l[-1]))\n",
    "#     return n"
   ]
  },
  {
   "cell_type": "code",
   "execution_count": 71,
   "id": "ab3b1364",
   "metadata": {
    "execution": {
     "iopub.execute_input": "2023-08-13T05:23:23.046347Z",
     "iopub.status.busy": "2023-08-13T05:23:23.045685Z",
     "iopub.status.idle": "2023-08-13T05:23:23.050315Z",
     "shell.execute_reply": "2023-08-13T05:23:23.049553Z"
    },
    "papermill": {
     "duration": 0.115022,
     "end_time": "2023-08-13T05:23:23.052395",
     "exception": false,
     "start_time": "2023-08-13T05:23:22.937373",
     "status": "completed"
    },
    "tags": []
   },
   "outputs": [],
   "source": [
    "# print(reviewers.head())\n",
    "# r = pd.DataFrame(reviewers.copy())\n",
    "# r[\"reviewerName\"] = r[\"reviewerName\"].apply(name_fl)\n",
    "# r[\"name_len\"] = r[\"reviewerName\"].apply(lambda x: len(x.split()))\n",
    "# print(r.shape)\n",
    "# print(r.head())\n",
    "# print(r['name_len'].value_counts())"
   ]
  },
  {
   "cell_type": "code",
   "execution_count": 72,
   "id": "b67c755c",
   "metadata": {
    "execution": {
     "iopub.execute_input": "2023-08-13T05:23:23.274914Z",
     "iopub.status.busy": "2023-08-13T05:23:23.274250Z",
     "iopub.status.idle": "2023-08-13T05:23:23.278740Z",
     "shell.execute_reply": "2023-08-13T05:23:23.278009Z"
    },
    "papermill": {
     "duration": 0.116823,
     "end_time": "2023-08-13T05:23:23.280794",
     "exception": false,
     "start_time": "2023-08-13T05:23:23.163971",
     "status": "completed"
    },
    "tags": []
   },
   "outputs": [],
   "source": [
    "## Box plot audienceScore and sentiment  \n",
    "# plt.figure(figsize=(6, 4))\n",
    "# sns.boxplot(x=\"sentiment\", y=\"audienceScore\", data=merged, width=0.3)\n",
    "# plt.title(\"Box plot audienceScore and sentiment\")\n",
    "# plt.show()"
   ]
  },
  {
   "cell_type": "code",
   "execution_count": 73,
   "id": "82de16b9",
   "metadata": {
    "execution": {
     "iopub.execute_input": "2023-08-13T05:23:23.499313Z",
     "iopub.status.busy": "2023-08-13T05:23:23.498908Z",
     "iopub.status.idle": "2023-08-13T05:23:23.503132Z",
     "shell.execute_reply": "2023-08-13T05:23:23.502379Z"
    },
    "papermill": {
     "duration": 0.114752,
     "end_time": "2023-08-13T05:23:23.505098",
     "exception": false,
     "start_time": "2023-08-13T05:23:23.390346",
     "status": "completed"
    },
    "tags": []
   },
   "outputs": [],
   "source": [
    "## Box plot runtimeMinutes and sentiment  \n",
    "# plt.figure(figsize=(6, 4))\n",
    "# sns.boxplot(x=\"sentiment\", y=\"runtimeMinutes\", data=merged, width=0.3)\n",
    "# plt.title(\"Box plot runtimeMinutes and sentiment\")\n",
    "# plt.show()"
   ]
  },
  {
   "cell_type": "code",
   "execution_count": 74,
   "id": "99376acb",
   "metadata": {
    "execution": {
     "iopub.execute_input": "2023-08-13T05:23:23.723888Z",
     "iopub.status.busy": "2023-08-13T05:23:23.722691Z",
     "iopub.status.idle": "2023-08-13T05:23:23.728045Z",
     "shell.execute_reply": "2023-08-13T05:23:23.726932Z"
    },
    "papermill": {
     "duration": 0.116964,
     "end_time": "2023-08-13T05:23:23.730244",
     "exception": false,
     "start_time": "2023-08-13T05:23:23.613280",
     "status": "completed"
    },
    "tags": []
   },
   "outputs": [],
   "source": [
    "## Column chart for sentiment and rating columns\n",
    "# plt.figure(figsize=(6, 4))\n",
    "# sns.countplot(x=\"sentiment\", hue=\"rating\", data=merged)\n",
    "# plt.title(\"Column chart for sentiment and rating columns\")\n",
    "# plt.show()"
   ]
  },
  {
   "cell_type": "code",
   "execution_count": 75,
   "id": "983c0778",
   "metadata": {
    "execution": {
     "iopub.execute_input": "2023-08-13T05:23:23.946693Z",
     "iopub.status.busy": "2023-08-13T05:23:23.945492Z",
     "iopub.status.idle": "2023-08-13T05:23:23.950046Z",
     "shell.execute_reply": "2023-08-13T05:23:23.949253Z"
    },
    "papermill": {
     "duration": 0.114729,
     "end_time": "2023-08-13T05:23:23.952187",
     "exception": false,
     "start_time": "2023-08-13T05:23:23.837458",
     "status": "completed"
    },
    "tags": []
   },
   "outputs": [],
   "source": [
    "# Correlation heatmap  \n",
    "# plt.figure(figsize=(10, 8))\n",
    "# sns.heatmap(merged.corr(), annot=True, cmap=\"coolwarm\")\n",
    "# plt.title(\"Correlation heatmap\")\n",
    "# plt.show()"
   ]
  },
  {
   "cell_type": "markdown",
   "id": "ec3a4f3f",
   "metadata": {
    "papermill": {
     "duration": 0.106519,
     "end_time": "2023-08-13T05:23:24.165814",
     "exception": false,
     "start_time": "2023-08-13T05:23:24.059295",
     "status": "completed"
    },
    "tags": []
   },
   "source": [
    "## Merge and preprocess \"test.csv\" and \"movies.csv\" files  "
   ]
  },
  {
   "cell_type": "code",
   "execution_count": 76,
   "id": "8e33f6c1",
   "metadata": {
    "execution": {
     "iopub.execute_input": "2023-08-13T05:23:24.381050Z",
     "iopub.status.busy": "2023-08-13T05:23:24.380639Z",
     "iopub.status.idle": "2023-08-13T05:23:30.333699Z",
     "shell.execute_reply": "2023-08-13T05:23:30.332745Z"
    },
    "papermill": {
     "duration": 6.063816,
     "end_time": "2023-08-13T05:23:30.336160",
     "exception": false,
     "start_time": "2023-08-13T05:23:24.272344",
     "status": "completed"
    },
    "tags": []
   },
   "outputs": [],
   "source": [
    "# Merge test and movies  \n",
    "merged_test = select_features(load_csv(\"test\"), load_csv(\"movies\"))"
   ]
  },
  {
   "cell_type": "code",
   "execution_count": 77,
   "id": "b473f326",
   "metadata": {
    "execution": {
     "iopub.execute_input": "2023-08-13T05:23:30.553192Z",
     "iopub.status.busy": "2023-08-13T05:23:30.552155Z",
     "iopub.status.idle": "2023-08-13T05:23:30.556655Z",
     "shell.execute_reply": "2023-08-13T05:23:30.555691Z"
    },
    "papermill": {
     "duration": 0.115122,
     "end_time": "2023-08-13T05:23:30.558968",
     "exception": false,
     "start_time": "2023-08-13T05:23:30.443846",
     "status": "completed"
    },
    "tags": []
   },
   "outputs": [],
   "source": [
    "# inspect(merged_test)      # Note the missing values in ['audienceScore', 'runtimeMinutes', 'boxOffice']"
   ]
  },
  {
   "cell_type": "code",
   "execution_count": 78,
   "id": "0bde8c02",
   "metadata": {
    "execution": {
     "iopub.execute_input": "2023-08-13T05:23:30.775913Z",
     "iopub.status.busy": "2023-08-13T05:23:30.775497Z",
     "iopub.status.idle": "2023-08-13T05:23:30.792091Z",
     "shell.execute_reply": "2023-08-13T05:23:30.790952Z"
    },
    "papermill": {
     "duration": 0.127783,
     "end_time": "2023-08-13T05:23:30.794623",
     "exception": false,
     "start_time": "2023-08-13T05:23:30.666840",
     "status": "completed"
    },
    "tags": []
   },
   "outputs": [
    {
     "data": {
      "text/plain": [
       "array([6.80e+01, 1.04e+02, 1.43e+07])"
      ]
     },
     "execution_count": 78,
     "metadata": {},
     "output_type": "execute_result"
    }
   ],
   "source": [
    "# Transform ['audienceScore', 'runtimeMinutes', 'boxOffice'] columns in merged_test using 'si' fitted on 'merged' df  \n",
    "merged_test[['audienceScore', 'runtimeMinutes', 'boxOffice']] = si.transform(merged_test[['audienceScore', 'runtimeMinutes', 'boxOffice']])\n",
    "si.statistics_"
   ]
  },
  {
   "cell_type": "code",
   "execution_count": 79,
   "id": "eceb111e",
   "metadata": {
    "execution": {
     "iopub.execute_input": "2023-08-13T05:23:31.013469Z",
     "iopub.status.busy": "2023-08-13T05:23:31.012365Z",
     "iopub.status.idle": "2023-08-13T05:23:31.023188Z",
     "shell.execute_reply": "2023-08-13T05:23:31.022375Z"
    },
    "papermill": {
     "duration": 0.122613,
     "end_time": "2023-08-13T05:23:31.025428",
     "exception": false,
     "start_time": "2023-08-13T05:23:30.902815",
     "status": "completed"
    },
    "tags": []
   },
   "outputs": [],
   "source": [
    "# Fill 'releaseDate' column in 'merged_test' df with median from the train (merged) df  \n",
    "merged_test['releaseDate'] = merged_test[\"releaseDate\"].fillna(merged[\"releaseDate\"].median())"
   ]
  },
  {
   "cell_type": "code",
   "execution_count": 80,
   "id": "97824dde",
   "metadata": {
    "execution": {
     "iopub.execute_input": "2023-08-13T05:23:31.245096Z",
     "iopub.status.busy": "2023-08-13T05:23:31.244060Z",
     "iopub.status.idle": "2023-08-13T05:23:31.732411Z",
     "shell.execute_reply": "2023-08-13T05:23:31.731290Z"
    },
    "papermill": {
     "duration": 0.601766,
     "end_time": "2023-08-13T05:23:31.735122",
     "exception": false,
     "start_time": "2023-08-13T05:23:31.133356",
     "status": "completed"
    },
    "tags": []
   },
   "outputs": [
    {
     "name": "stdout",
     "output_type": "stream",
     "text": [
      "Shape of the dataframe: (55315, 25)\n",
      "\n",
      "Columns in the dataframe:\n",
      "Index(['movieid', 'reviewerName', 'isFrequentReviewer', 'reviewText', 'title',\n",
      "       'audienceScore', 'rating', 'ratingContents', 'releaseDateTheaters',\n",
      "       'releaseDateStreaming', 'runtimeMinutes', 'genre', 'originalLanguage',\n",
      "       'director', 'boxOffice', 'distributor', 'soundType', 'reviewYN',\n",
      "       'reviewWC', 'genreSorted', 'rcSorted', 'releaseDate', 'releaseYear',\n",
      "       'releaseMonth', 'releaseDiff'],\n",
      "      dtype='object')\n",
      "\n",
      "<class 'pandas.core.frame.DataFrame'>\n",
      "Int64Index: 55315 entries, 0 to 55314\n",
      "Data columns (total 25 columns):\n",
      " #   Column                Non-Null Count  Dtype         \n",
      "---  ------                --------------  -----         \n",
      " 0   movieid               55315 non-null  object        \n",
      " 1   reviewerName          55315 non-null  object        \n",
      " 2   isFrequentReviewer    55315 non-null  bool          \n",
      " 3   reviewText            55315 non-null  object        \n",
      " 4   title                 55315 non-null  object        \n",
      " 5   audienceScore         55315 non-null  float64       \n",
      " 6   rating                55315 non-null  object        \n",
      " 7   ratingContents        55315 non-null  object        \n",
      " 8   releaseDateTheaters   47844 non-null  datetime64[ns]\n",
      " 9   releaseDateStreaming  52929 non-null  datetime64[ns]\n",
      " 10  runtimeMinutes        55315 non-null  float64       \n",
      " 11  genre                 55315 non-null  object        \n",
      " 12  originalLanguage      55315 non-null  object        \n",
      " 13  director              55315 non-null  object        \n",
      " 14  boxOffice             55315 non-null  float64       \n",
      " 15  distributor           55315 non-null  object        \n",
      " 16  soundType             29845 non-null  object        \n",
      " 17  reviewYN              55315 non-null  int64         \n",
      " 18  reviewWC              55315 non-null  int64         \n",
      " 19  genreSorted           55315 non-null  object        \n",
      " 20  rcSorted              55315 non-null  object        \n",
      " 21  releaseDate           55315 non-null  datetime64[ns]\n",
      " 22  releaseYear           46626 non-null  float64       \n",
      " 23  releaseMonth          46626 non-null  float64       \n",
      " 24  releaseDiff           55315 non-null  float64       \n",
      "dtypes: bool(1), datetime64[ns](3), float64(6), int64(2), object(13)\n",
      "memory usage: 10.6+ MB\n",
      "None\n",
      "\n",
      "Missing values:\n",
      "movieid                     0\n",
      "reviewerName                0\n",
      "isFrequentReviewer          0\n",
      "reviewText                  0\n",
      "title                       0\n",
      "audienceScore               0\n",
      "rating                      0\n",
      "ratingContents              0\n",
      "releaseDateTheaters      7471\n",
      "releaseDateStreaming     2386\n",
      "runtimeMinutes              0\n",
      "genre                       0\n",
      "originalLanguage            0\n",
      "director                    0\n",
      "boxOffice                   0\n",
      "distributor                 0\n",
      "soundType               25470\n",
      "reviewYN                    0\n",
      "reviewWC                    0\n",
      "genreSorted                 0\n",
      "rcSorted                    0\n",
      "releaseDate                 0\n",
      "releaseYear              8689\n",
      "releaseMonth             8689\n",
      "releaseDiff                 0\n",
      "dtype: int64\n"
     ]
    }
   ],
   "source": [
    "# After transforming merged_test  \n",
    "inspect(merged_test)"
   ]
  },
  {
   "cell_type": "code",
   "execution_count": 81,
   "id": "e97d6698",
   "metadata": {
    "execution": {
     "iopub.execute_input": "2023-08-13T05:23:31.953591Z",
     "iopub.status.busy": "2023-08-13T05:23:31.953232Z",
     "iopub.status.idle": "2023-08-13T05:23:31.960184Z",
     "shell.execute_reply": "2023-08-13T05:23:31.958770Z"
    },
    "papermill": {
     "duration": 0.118805,
     "end_time": "2023-08-13T05:23:31.962486",
     "exception": false,
     "start_time": "2023-08-13T05:23:31.843681",
     "status": "completed"
    },
    "tags": []
   },
   "outputs": [
    {
     "name": "stdout",
     "output_type": "stream",
     "text": [
      "2510\n",
      "4.537648015908886\n"
     ]
    }
   ],
   "source": [
    "print(merged_test[\"reviewYN\"].sum())\n",
    "print(merged_test[\"reviewYN\"].sum() * 100 / merged_test.shape[0])"
   ]
  },
  {
   "cell_type": "code",
   "execution_count": 82,
   "id": "94daa544",
   "metadata": {
    "execution": {
     "iopub.execute_input": "2023-08-13T05:23:32.178726Z",
     "iopub.status.busy": "2023-08-13T05:23:32.178349Z",
     "iopub.status.idle": "2023-08-13T05:23:32.195883Z",
     "shell.execute_reply": "2023-08-13T05:23:32.194785Z"
    },
    "papermill": {
     "duration": 0.128552,
     "end_time": "2023-08-13T05:23:32.198105",
     "exception": false,
     "start_time": "2023-08-13T05:23:32.069553",
     "status": "completed"
    },
    "tags": []
   },
   "outputs": [
    {
     "data": {
      "text/plain": [
       "R          18934\n",
       "unknown    18386\n",
       "PG-13      13220\n",
       "PG          4200\n",
       "TV14         333\n",
       "TVPG         109\n",
       "NC-17        108\n",
       "TVMA          25\n",
       "Name: rating, dtype: int64"
      ]
     },
     "execution_count": 82,
     "metadata": {},
     "output_type": "execute_result"
    }
   ],
   "source": [
    "merged_test['rating'].value_counts()"
   ]
  },
  {
   "cell_type": "code",
   "execution_count": 83,
   "id": "bacec581",
   "metadata": {
    "execution": {
     "iopub.execute_input": "2023-08-13T05:23:32.414356Z",
     "iopub.status.busy": "2023-08-13T05:23:32.413734Z",
     "iopub.status.idle": "2023-08-13T05:23:32.422526Z",
     "shell.execute_reply": "2023-08-13T05:23:32.421484Z"
    },
    "papermill": {
     "duration": 0.119004,
     "end_time": "2023-08-13T05:23:32.424677",
     "exception": false,
     "start_time": "2023-08-13T05:23:32.305673",
     "status": "completed"
    },
    "tags": []
   },
   "outputs": [
    {
     "data": {
      "text/plain": [
       "False    38428\n",
       "True     16887\n",
       "Name: isFrequentReviewer, dtype: int64"
      ]
     },
     "execution_count": 83,
     "metadata": {},
     "output_type": "execute_result"
    }
   ],
   "source": [
    "merged_test['isFrequentReviewer'].value_counts()"
   ]
  },
  {
   "cell_type": "code",
   "execution_count": 84,
   "id": "182c9bf2",
   "metadata": {
    "execution": {
     "iopub.execute_input": "2023-08-13T05:23:32.643463Z",
     "iopub.status.busy": "2023-08-13T05:23:32.642808Z",
     "iopub.status.idle": "2023-08-13T05:23:32.653726Z",
     "shell.execute_reply": "2023-08-13T05:23:32.652715Z"
    },
    "papermill": {
     "duration": 0.123394,
     "end_time": "2023-08-13T05:23:32.655817",
     "exception": false,
     "start_time": "2023-08-13T05:23:32.532423",
     "status": "completed"
    },
    "tags": []
   },
   "outputs": [
    {
     "data": {
      "text/plain": [
       "14300000.0    13593\n",
       "1100000.0       311\n",
       "1000000.0       272\n",
       "1300000.0       263\n",
       "2000000.0       256\n",
       "              ...  \n",
       "200400.0          1\n",
       "23800000.0        1\n",
       "111200.0          1\n",
       "277800.0          1\n",
       "100600.0          1\n",
       "Name: boxOffice, Length: 3816, dtype: int64"
      ]
     },
     "execution_count": 84,
     "metadata": {},
     "output_type": "execute_result"
    }
   ],
   "source": [
    "merged_test['boxOffice'].value_counts()"
   ]
  },
  {
   "cell_type": "markdown",
   "id": "e537b1db",
   "metadata": {
    "papermill": {
     "duration": 0.109065,
     "end_time": "2023-08-13T05:23:32.874388",
     "exception": false,
     "start_time": "2023-08-13T05:23:32.765323",
     "status": "completed"
    },
    "tags": []
   },
   "source": [
    "## Work on vocabulary  \n",
    "\n",
    "`Build vocabulary from 'reviewText' column`  "
   ]
  },
  {
   "cell_type": "code",
   "execution_count": 85,
   "id": "570a584e",
   "metadata": {
    "execution": {
     "iopub.execute_input": "2023-08-13T05:23:33.095252Z",
     "iopub.status.busy": "2023-08-13T05:23:33.094606Z",
     "iopub.status.idle": "2023-08-13T05:23:33.114672Z",
     "shell.execute_reply": "2023-08-13T05:23:33.113542Z"
    },
    "papermill": {
     "duration": 0.132536,
     "end_time": "2023-08-13T05:23:33.116883",
     "exception": false,
     "start_time": "2023-08-13T05:23:32.984347",
     "status": "completed"
    },
    "tags": []
   },
   "outputs": [
    {
     "data": {
      "text/plain": [
       "((162758, 2),\n",
       "                                           reviewText sentiment\n",
       " 0  Henry Selick’s first movie since ’s Coraline. ...  POSITIVE\n",
       " 1  With a cast that reads like the Vogue Oscar pa...  NEGATIVE\n",
       " 2  Creed II does not give us anything but another...  POSITIVE\n",
       " 3  I know what you're thinking, but this is no Li...  POSITIVE\n",
       " 4  Director Fernando Meirelles tells the story wi...  POSITIVE)"
      ]
     },
     "execution_count": 85,
     "metadata": {},
     "output_type": "execute_result"
    }
   ],
   "source": [
    "rt_senti = merged[[\"reviewText\", \"sentiment\"]].copy()\n",
    "rt_senti.shape, rt_senti.head()"
   ]
  },
  {
   "cell_type": "code",
   "execution_count": 86,
   "id": "e9726f97",
   "metadata": {
    "execution": {
     "iopub.execute_input": "2023-08-13T05:23:33.336867Z",
     "iopub.status.busy": "2023-08-13T05:23:33.336251Z",
     "iopub.status.idle": "2023-08-13T05:23:33.347555Z",
     "shell.execute_reply": "2023-08-13T05:23:33.346537Z"
    },
    "papermill": {
     "duration": 0.122416,
     "end_time": "2023-08-13T05:23:33.349748",
     "exception": false,
     "start_time": "2023-08-13T05:23:33.227332",
     "status": "completed"
    },
    "tags": []
   },
   "outputs": [
    {
     "data": {
      "text/plain": [
       "((55315, 1),\n",
       "                                           reviewText\n",
       " 0  Green slowly cranks up the dread with style an...\n",
       " 1  Philip Noyce's direction is elegant and unforc...\n",
       " 2  It wouldn't do to say what path Maria ultimate...\n",
       " 3  Pig is not exactly the arthouse John Wick that...\n",
       " 4  An imaginative no-budget musical of sorts abou...)"
      ]
     },
     "execution_count": 86,
     "metadata": {},
     "output_type": "execute_result"
    }
   ],
   "source": [
    "rt_test = pd.DataFrame(merged_test[\"reviewText\"].copy())\n",
    "rt_test.shape, rt_test.head()"
   ]
  },
  {
   "cell_type": "code",
   "execution_count": 87,
   "id": "1d7c7c34",
   "metadata": {
    "execution": {
     "iopub.execute_input": "2023-08-13T05:23:33.568113Z",
     "iopub.status.busy": "2023-08-13T05:23:33.567490Z",
     "iopub.status.idle": "2023-08-13T05:23:33.573737Z",
     "shell.execute_reply": "2023-08-13T05:23:33.572773Z"
    },
    "papermill": {
     "duration": 0.118411,
     "end_time": "2023-08-13T05:23:33.576143",
     "exception": false,
     "start_time": "2023-08-13T05:23:33.457732",
     "status": "completed"
    },
    "tags": []
   },
   "outputs": [],
   "source": [
    "def get_vocab(text_df, ngram_range=(1,1)):\n",
    "    print(f\"Generating vocabulary for ngram_range: {ngram_range}...\")\n",
    "    tvec1 = CountVectorizer(ngram_range=ngram_range, stop_words='english', strip_accents='unicode')\n",
    "    tvec1.fit(text_df)\n",
    "    voc_ngram = set(tvec1.vocabulary_.keys())\n",
    "    return voc_ngram"
   ]
  },
  {
   "cell_type": "code",
   "execution_count": 88,
   "id": "effee74e",
   "metadata": {
    "execution": {
     "iopub.execute_input": "2023-08-13T05:23:33.795993Z",
     "iopub.status.busy": "2023-08-13T05:23:33.795587Z",
     "iopub.status.idle": "2023-08-13T05:23:33.805911Z",
     "shell.execute_reply": "2023-08-13T05:23:33.804754Z"
    },
    "papermill": {
     "duration": 0.122694,
     "end_time": "2023-08-13T05:23:33.808432",
     "exception": false,
     "start_time": "2023-08-13T05:23:33.685738",
     "status": "completed"
    },
    "tags": []
   },
   "outputs": [],
   "source": [
    "def get_common_vocab(df_list: list, ngram_range_list: list):\n",
    "    \"\"\"\n",
    "    Get common vocabulary from a list of dataframes.\n",
    "    \"\"\"\n",
    "    final_common_vocab = set()\n",
    "    # Get vocabulary from each dataframe for a given ngram-range\n",
    "    for ngram_range in ngram_range_list:\n",
    "        vocab_ngram = set()\n",
    "        for num, df in enumerate(df_list, start=1):\n",
    "            print(f\"Working on DF#{num} in the list of DFs provided\")\n",
    "            vocab_ngram_df = set(get_vocab(df['reviewText'], ngram_range))\n",
    "            print(f\"Vocabulary size for ngram-range {ngram_range} in DF#{num}: {len(vocab_ngram_df)}\\n\")\n",
    "            if len(vocab_ngram) > 0:\n",
    "                print(f\"Keeping only the common (intersection) words for ngram-range {ngram_range}...\")\n",
    "                vocab_ngram = vocab_ngram.intersection(vocab_ngram_df)\n",
    "            else:\n",
    "                print(f\"Words from the first df for ngram-range {ngram_range} added.\\n\")\n",
    "                vocab_ngram = vocab_ngram_df\n",
    "        print(f\"Common vocabulary for ngram-range {ngram_range}: {len(vocab_ngram)}\\n\")\n",
    "        \n",
    "        if len(final_common_vocab) > 0:\n",
    "            print(f\"Fusing (union) with final common vocabulary: ngram-range = {ngram_range}.\\n\")\n",
    "            final_common_vocab = final_common_vocab.union(vocab_ngram)\n",
    "        else:\n",
    "            print(f\"Appended first time to final common vocabulary: ngram-range = {ngram_range}.\\n\")\n",
    "            final_common_vocab = vocab_ngram\n",
    "    return final_common_vocab"
   ]
  },
  {
   "cell_type": "code",
   "execution_count": 89,
   "id": "cedcaf4d",
   "metadata": {
    "execution": {
     "iopub.execute_input": "2023-08-13T05:23:34.029861Z",
     "iopub.status.busy": "2023-08-13T05:23:34.029136Z",
     "iopub.status.idle": "2023-08-13T05:23:34.033499Z",
     "shell.execute_reply": "2023-08-13T05:23:34.032486Z"
    },
    "papermill": {
     "duration": 0.117427,
     "end_time": "2023-08-13T05:23:34.035831",
     "exception": false,
     "start_time": "2023-08-13T05:23:33.918404",
     "status": "completed"
    },
    "tags": []
   },
   "outputs": [],
   "source": [
    "# voc_1gram = get_vocab(rt_senti[\"reviewText\"], ngram_range=(1,1))\n",
    "# len(voc_1gram), voc_1gram[:10]"
   ]
  },
  {
   "cell_type": "code",
   "execution_count": 90,
   "id": "302fbba9",
   "metadata": {
    "execution": {
     "iopub.execute_input": "2023-08-13T05:23:34.255388Z",
     "iopub.status.busy": "2023-08-13T05:23:34.254973Z",
     "iopub.status.idle": "2023-08-13T05:23:34.259542Z",
     "shell.execute_reply": "2023-08-13T05:23:34.258459Z"
    },
    "papermill": {
     "duration": 0.117916,
     "end_time": "2023-08-13T05:23:34.261756",
     "exception": false,
     "start_time": "2023-08-13T05:23:34.143840",
     "status": "completed"
    },
    "tags": []
   },
   "outputs": [],
   "source": [
    "# voc_2gram = get_vocab(rt_senti[\"reviewText\"], ngram_range=(2,2))\n",
    "# len(voc_2gram), voc_2gram[:10]"
   ]
  },
  {
   "cell_type": "code",
   "execution_count": 91,
   "id": "9413b551",
   "metadata": {
    "execution": {
     "iopub.execute_input": "2023-08-13T05:23:34.480511Z",
     "iopub.status.busy": "2023-08-13T05:23:34.479852Z",
     "iopub.status.idle": "2023-08-13T05:23:34.483814Z",
     "shell.execute_reply": "2023-08-13T05:23:34.483053Z"
    },
    "papermill": {
     "duration": 0.11601,
     "end_time": "2023-08-13T05:23:34.485778",
     "exception": false,
     "start_time": "2023-08-13T05:23:34.369768",
     "status": "completed"
    },
    "tags": []
   },
   "outputs": [],
   "source": [
    "# voc_3gram = get_vocab(rt_senti[\"reviewText\"], ngram_range=(3,3))\n",
    "# len(voc_3gram), voc_3gram[:10]"
   ]
  },
  {
   "cell_type": "code",
   "execution_count": 92,
   "id": "dc8faf70",
   "metadata": {
    "execution": {
     "iopub.execute_input": "2023-08-13T05:23:34.704610Z",
     "iopub.status.busy": "2023-08-13T05:23:34.703676Z",
     "iopub.status.idle": "2023-08-13T05:23:34.707983Z",
     "shell.execute_reply": "2023-08-13T05:23:34.707175Z"
    },
    "papermill": {
     "duration": 0.115536,
     "end_time": "2023-08-13T05:23:34.710062",
     "exception": false,
     "start_time": "2023-08-13T05:23:34.594526",
     "status": "completed"
    },
    "tags": []
   },
   "outputs": [],
   "source": [
    "# common_unigrams = get_common_vocab([rt_senti, rt_test], ngram_range_list=[(1,1)])\n",
    "# print(len(common_unigrams))\n",
    "# # sorted(list(common_unigrams))"
   ]
  },
  {
   "cell_type": "code",
   "execution_count": 93,
   "id": "608ac881",
   "metadata": {
    "execution": {
     "iopub.execute_input": "2023-08-13T05:23:34.994108Z",
     "iopub.status.busy": "2023-08-13T05:23:34.993032Z",
     "iopub.status.idle": "2023-08-13T05:23:34.997334Z",
     "shell.execute_reply": "2023-08-13T05:23:34.996565Z"
    },
    "papermill": {
     "duration": 0.180029,
     "end_time": "2023-08-13T05:23:34.999327",
     "exception": false,
     "start_time": "2023-08-13T05:23:34.819298",
     "status": "completed"
    },
    "tags": []
   },
   "outputs": [],
   "source": [
    "# common_bigrams = get_common_vocab([rt_senti, rt_test], ngram_range_list=[(2,2)])\n",
    "# print(len(common_bigrams))\n",
    "# # # common_bigrams"
   ]
  },
  {
   "cell_type": "code",
   "execution_count": 94,
   "id": "3f396c36",
   "metadata": {
    "execution": {
     "iopub.execute_input": "2023-08-13T05:23:35.218226Z",
     "iopub.status.busy": "2023-08-13T05:23:35.217529Z",
     "iopub.status.idle": "2023-08-13T05:23:35.221445Z",
     "shell.execute_reply": "2023-08-13T05:23:35.220685Z"
    },
    "papermill": {
     "duration": 0.115408,
     "end_time": "2023-08-13T05:23:35.223579",
     "exception": false,
     "start_time": "2023-08-13T05:23:35.108171",
     "status": "completed"
    },
    "tags": []
   },
   "outputs": [],
   "source": [
    "# common_1_2_grams = get_common_vocab([rt_senti, rt_test], ngram_range_list=[(1,1), (2,2)])\n",
    "# print(len(common_1_2_grams))\n",
    "# # sorted(list(common_1_2_grams))\n",
    "\n",
    "# # common_1_2_grams = common_unigrams | common_bigrams    # older code"
   ]
  },
  {
   "cell_type": "code",
   "execution_count": 95,
   "id": "ed848b06",
   "metadata": {
    "execution": {
     "iopub.execute_input": "2023-08-13T05:23:35.443123Z",
     "iopub.status.busy": "2023-08-13T05:23:35.442446Z",
     "iopub.status.idle": "2023-08-13T05:23:35.446132Z",
     "shell.execute_reply": "2023-08-13T05:23:35.445468Z"
    },
    "papermill": {
     "duration": 0.115381,
     "end_time": "2023-08-13T05:23:35.448187",
     "exception": false,
     "start_time": "2023-08-13T05:23:35.332806",
     "status": "completed"
    },
    "tags": []
   },
   "outputs": [],
   "source": [
    "# common_trigrams = get_common_vocab([rt_senti, rt_test], ngram_range_list=[(3,3)])\n",
    "# print(len(common_trigrams))\n",
    "# # common_trigrams"
   ]
  },
  {
   "cell_type": "code",
   "execution_count": 96,
   "id": "a706daac",
   "metadata": {
    "execution": {
     "iopub.execute_input": "2023-08-13T05:23:35.666808Z",
     "iopub.status.busy": "2023-08-13T05:23:35.666073Z",
     "iopub.status.idle": "2023-08-13T05:23:35.670436Z",
     "shell.execute_reply": "2023-08-13T05:23:35.669564Z"
    },
    "papermill": {
     "duration": 0.116088,
     "end_time": "2023-08-13T05:23:35.672535",
     "exception": false,
     "start_time": "2023-08-13T05:23:35.556447",
     "status": "completed"
    },
    "tags": []
   },
   "outputs": [],
   "source": [
    "# common_1_2_3_grams = get_common_vocab([rt_senti, rt_test], ngram_range_list=[(1,1), (2,2), (3,3)])\n",
    "# print(len(common_1_2_3_grams))\n",
    "# # sorted((common_1_2_3_grams))\n",
    "\n",
    "# # common_1_2_3_grams = common_unigrams | common_bigrams | common_trigrams    # Older code  "
   ]
  },
  {
   "cell_type": "markdown",
   "id": "46e51128",
   "metadata": {
    "papermill": {
     "duration": 0.115744,
     "end_time": "2023-08-13T05:23:35.898047",
     "exception": false,
     "start_time": "2023-08-13T05:23:35.782303",
     "status": "completed"
    },
    "tags": []
   },
   "source": [
    "### Find common vocabulary between text with positive and negative sentiments in training dataset  "
   ]
  },
  {
   "cell_type": "code",
   "execution_count": 97,
   "id": "71d5386e",
   "metadata": {
    "execution": {
     "iopub.execute_input": "2023-08-13T05:23:36.139848Z",
     "iopub.status.busy": "2023-08-13T05:23:36.138826Z",
     "iopub.status.idle": "2023-08-13T05:23:36.188340Z",
     "shell.execute_reply": "2023-08-13T05:23:36.187072Z"
    },
    "papermill": {
     "duration": 0.163174,
     "end_time": "2023-08-13T05:23:36.190885",
     "exception": false,
     "start_time": "2023-08-13T05:23:36.027711",
     "status": "completed"
    },
    "tags": []
   },
   "outputs": [
    {
     "data": {
      "text/plain": [
       "(108761, 2)"
      ]
     },
     "execution_count": 97,
     "metadata": {},
     "output_type": "execute_result"
    }
   ],
   "source": [
    "# Dataframe for positive sentiment\n",
    "rt_senti_pos = rt_senti.loc[rt_senti['sentiment'] == 'POSITIVE'].copy()\n",
    "rt_senti_pos.shape"
   ]
  },
  {
   "cell_type": "code",
   "execution_count": 98,
   "id": "83319049",
   "metadata": {
    "execution": {
     "iopub.execute_input": "2023-08-13T05:23:36.415234Z",
     "iopub.status.busy": "2023-08-13T05:23:36.414348Z",
     "iopub.status.idle": "2023-08-13T05:23:36.458115Z",
     "shell.execute_reply": "2023-08-13T05:23:36.456983Z"
    },
    "papermill": {
     "duration": 0.15894,
     "end_time": "2023-08-13T05:23:36.460620",
     "exception": false,
     "start_time": "2023-08-13T05:23:36.301680",
     "status": "completed"
    },
    "tags": []
   },
   "outputs": [
    {
     "data": {
      "text/plain": [
       "(53997, 2)"
      ]
     },
     "execution_count": 98,
     "metadata": {},
     "output_type": "execute_result"
    }
   ],
   "source": [
    "# Dataframe for negative sentiment\n",
    "rt_senti_neg = rt_senti.loc[rt_senti['sentiment'] == 'NEGATIVE'].copy()\n",
    "rt_senti_neg.shape"
   ]
  },
  {
   "cell_type": "code",
   "execution_count": 99,
   "id": "d5b2ac5b",
   "metadata": {
    "execution": {
     "iopub.execute_input": "2023-08-13T05:23:36.680460Z",
     "iopub.status.busy": "2023-08-13T05:23:36.680035Z",
     "iopub.status.idle": "2023-08-13T05:23:36.684076Z",
     "shell.execute_reply": "2023-08-13T05:23:36.683294Z"
    },
    "papermill": {
     "duration": 0.116393,
     "end_time": "2023-08-13T05:23:36.686073",
     "exception": false,
     "start_time": "2023-08-13T05:23:36.569680",
     "status": "completed"
    },
    "tags": []
   },
   "outputs": [],
   "source": [
    "# Generate stop words/phrases specific for this project data  \n",
    "\n",
    "# common_1_2_3_grams_sentiment = get_common_vocab([rt_senti_pos, rt_senti_neg], ngram_range_list=[(1,1), (2,2), (3,3)])\n",
    "# print(len(common_1_2_3_grams_sentiment))\n",
    "# # sorted(list(common_1_2_3_grams_sentiment))"
   ]
  },
  {
   "cell_type": "code",
   "execution_count": 100,
   "id": "6c948090",
   "metadata": {
    "execution": {
     "iopub.execute_input": "2023-08-13T05:23:36.907196Z",
     "iopub.status.busy": "2023-08-13T05:23:36.906146Z",
     "iopub.status.idle": "2023-08-13T05:23:36.910905Z",
     "shell.execute_reply": "2023-08-13T05:23:36.909699Z"
    },
    "papermill": {
     "duration": 0.117598,
     "end_time": "2023-08-13T05:23:36.913452",
     "exception": false,
     "start_time": "2023-08-13T05:23:36.795854",
     "status": "completed"
    },
    "tags": []
   },
   "outputs": [],
   "source": [
    "# Generate and store the entire vocabulary of training data  \n",
    "\n",
    "# train_1_2_3_grams = get_vocab(rt_senti['reviewText'], ngram_range=(1,3))\n",
    "# print(len(train_1_2_3_grams))\n",
    "# # sorted(train_1_2_3_grams)"
   ]
  },
  {
   "cell_type": "code",
   "execution_count": 101,
   "id": "cf5a6cb5",
   "metadata": {
    "execution": {
     "iopub.execute_input": "2023-08-13T05:23:37.132523Z",
     "iopub.status.busy": "2023-08-13T05:23:37.132096Z",
     "iopub.status.idle": "2023-08-13T05:23:37.136735Z",
     "shell.execute_reply": "2023-08-13T05:23:37.135622Z"
    },
    "papermill": {
     "duration": 0.116599,
     "end_time": "2023-08-13T05:23:37.139036",
     "exception": false,
     "start_time": "2023-08-13T05:23:37.022437",
     "status": "completed"
    },
    "tags": []
   },
   "outputs": [],
   "source": [
    "# type(train_1_2_3_grams)"
   ]
  },
  {
   "cell_type": "code",
   "execution_count": 102,
   "id": "870617ee",
   "metadata": {
    "execution": {
     "iopub.execute_input": "2023-08-13T05:23:37.359546Z",
     "iopub.status.busy": "2023-08-13T05:23:37.359118Z",
     "iopub.status.idle": "2023-08-13T05:23:37.363810Z",
     "shell.execute_reply": "2023-08-13T05:23:37.362688Z"
    },
    "papermill": {
     "duration": 0.116972,
     "end_time": "2023-08-13T05:23:37.366156",
     "exception": false,
     "start_time": "2023-08-13T05:23:37.249184",
     "status": "completed"
    },
    "tags": []
   },
   "outputs": [],
   "source": [
    "# Get the vocabulary that should be used in the final models  \n",
    "# relevant_vocab = train_1_2_3_grams - common_1_2_3_grams_sentiment\n",
    "# print(len(relevant_vocab))"
   ]
  },
  {
   "cell_type": "markdown",
   "id": "3492051c",
   "metadata": {
    "papermill": {
     "duration": 0.110649,
     "end_time": "2023-08-13T05:23:37.586539",
     "exception": false,
     "start_time": "2023-08-13T05:23:37.475890",
     "status": "completed"
    },
    "tags": []
   },
   "source": [
    "## Vocabulary based on audienceScore  "
   ]
  },
  {
   "cell_type": "code",
   "execution_count": 103,
   "id": "9028a199",
   "metadata": {
    "execution": {
     "iopub.execute_input": "2023-08-13T05:23:37.805472Z",
     "iopub.status.busy": "2023-08-13T05:23:37.805066Z",
     "iopub.status.idle": "2023-08-13T05:23:38.187043Z",
     "shell.execute_reply": "2023-08-13T05:23:38.185919Z"
    },
    "papermill": {
     "duration": 0.494826,
     "end_time": "2023-08-13T05:23:38.189652",
     "exception": false,
     "start_time": "2023-08-13T05:23:37.694826",
     "status": "completed"
    },
    "tags": []
   },
   "outputs": [
    {
     "data": {
      "text/plain": [
       "<Axes: xlabel='sentiment', ylabel='audienceScore'>"
      ]
     },
     "execution_count": 103,
     "metadata": {},
     "output_type": "execute_result"
    },
    {
     "data": {
      "image/png": "[encoded data removed]",
      "text/plain": [
       "<Figure size 640x480 with 1 Axes>"
      ]
     },
     "metadata": {},
     "output_type": "display_data"
    }
   ],
   "source": [
    "sns.boxplot(y=merged[\"audienceScore\"], x=merged[\"sentiment\"])"
   ]
  },
  {
   "cell_type": "code",
   "execution_count": 104,
   "id": "205495ac",
   "metadata": {
    "execution": {
     "iopub.execute_input": "2023-08-13T05:23:38.413453Z",
     "iopub.status.busy": "2023-08-13T05:23:38.413031Z",
     "iopub.status.idle": "2023-08-13T05:23:38.460099Z",
     "shell.execute_reply": "2023-08-13T05:23:38.459013Z"
    },
    "papermill": {
     "duration": 0.160189,
     "end_time": "2023-08-13T05:23:38.462490",
     "exception": false,
     "start_time": "2023-08-13T05:23:38.302301",
     "status": "completed"
    },
    "tags": []
   },
   "outputs": [
    {
     "data": {
      "text/html": [
       "<div>\n",
       "<style scoped>\n",
       "    .dataframe tbody tr th:only-of-type {\n",
       "        vertical-align: middle;\n",
       "    }\n",
       "\n",
       "    .dataframe tbody tr th {\n",
       "        vertical-align: top;\n",
       "    }\n",
       "\n",
       "    .dataframe thead th {\n",
       "        text-align: right;\n",
       "    }\n",
       "</style>\n",
       "<table border=\"1\" class=\"dataframe\">\n",
       "  <thead>\n",
       "    <tr style=\"text-align: right;\">\n",
       "      <th></th>\n",
       "      <th>count</th>\n",
       "      <th>mean</th>\n",
       "      <th>std</th>\n",
       "      <th>min</th>\n",
       "      <th>25%</th>\n",
       "      <th>50%</th>\n",
       "      <th>75%</th>\n",
       "      <th>max</th>\n",
       "    </tr>\n",
       "    <tr>\n",
       "      <th>sentiment</th>\n",
       "      <th></th>\n",
       "      <th></th>\n",
       "      <th></th>\n",
       "      <th></th>\n",
       "      <th></th>\n",
       "      <th></th>\n",
       "      <th></th>\n",
       "      <th></th>\n",
       "    </tr>\n",
       "  </thead>\n",
       "  <tbody>\n",
       "    <tr>\n",
       "      <th>NEGATIVE</th>\n",
       "      <td>53997.0</td>\n",
       "      <td>56.474786</td>\n",
       "      <td>19.902115</td>\n",
       "      <td>0.0</td>\n",
       "      <td>41.0</td>\n",
       "      <td>57.0</td>\n",
       "      <td>72.0</td>\n",
       "      <td>100.0</td>\n",
       "    </tr>\n",
       "    <tr>\n",
       "      <th>POSITIVE</th>\n",
       "      <td>108761.0</td>\n",
       "      <td>69.326174</td>\n",
       "      <td>18.380626</td>\n",
       "      <td>0.0</td>\n",
       "      <td>58.0</td>\n",
       "      <td>73.0</td>\n",
       "      <td>84.0</td>\n",
       "      <td>100.0</td>\n",
       "    </tr>\n",
       "  </tbody>\n",
       "</table>\n",
       "</div>"
      ],
      "text/plain": [
       "              count       mean        std  min   25%   50%   75%    max\n",
       "sentiment                                                              \n",
       "NEGATIVE    53997.0  56.474786  19.902115  0.0  41.0  57.0  72.0  100.0\n",
       "POSITIVE   108761.0  69.326174  18.380626  0.0  58.0  73.0  84.0  100.0"
      ]
     },
     "execution_count": 104,
     "metadata": {},
     "output_type": "execute_result"
    }
   ],
   "source": [
    "merged.groupby('sentiment')['audienceScore'].describe()"
   ]
  },
  {
   "cell_type": "code",
   "execution_count": 105,
   "id": "4dc7fcf0",
   "metadata": {
    "execution": {
     "iopub.execute_input": "2023-08-13T05:23:38.687696Z",
     "iopub.status.busy": "2023-08-13T05:23:38.686523Z",
     "iopub.status.idle": "2023-08-13T05:23:38.691773Z",
     "shell.execute_reply": "2023-08-13T05:23:38.690823Z"
    },
    "papermill": {
     "duration": 0.121367,
     "end_time": "2023-08-13T05:23:38.694156",
     "exception": false,
     "start_time": "2023-08-13T05:23:38.572789",
     "status": "completed"
    },
    "tags": []
   },
   "outputs": [],
   "source": [
    "# pos_scores = merged[['reviewText', 'sentiment']].loc[(merged['audienceScore'] > 73) & (merged['sentiment'] == 'POSITIVE')].copy()\n",
    "# pos_scores.shape, pos_scores.head()"
   ]
  },
  {
   "cell_type": "code",
   "execution_count": 106,
   "id": "3fb9568d",
   "metadata": {
    "execution": {
     "iopub.execute_input": "2023-08-13T05:23:38.915949Z",
     "iopub.status.busy": "2023-08-13T05:23:38.915184Z",
     "iopub.status.idle": "2023-08-13T05:23:38.919148Z",
     "shell.execute_reply": "2023-08-13T05:23:38.918412Z"
    },
    "papermill": {
     "duration": 0.11672,
     "end_time": "2023-08-13T05:23:38.921310",
     "exception": false,
     "start_time": "2023-08-13T05:23:38.804590",
     "status": "completed"
    },
    "tags": []
   },
   "outputs": [],
   "source": [
    "# pos_scores['sentiment'].value_counts()"
   ]
  },
  {
   "cell_type": "code",
   "execution_count": 107,
   "id": "85c8bb55",
   "metadata": {
    "execution": {
     "iopub.execute_input": "2023-08-13T05:23:39.142935Z",
     "iopub.status.busy": "2023-08-13T05:23:39.142177Z",
     "iopub.status.idle": "2023-08-13T05:23:39.146295Z",
     "shell.execute_reply": "2023-08-13T05:23:39.145482Z"
    },
    "papermill": {
     "duration": 0.116894,
     "end_time": "2023-08-13T05:23:39.148473",
     "exception": false,
     "start_time": "2023-08-13T05:23:39.031579",
     "status": "completed"
    },
    "tags": []
   },
   "outputs": [],
   "source": [
    "# neg_scores = merged[['reviewText', 'sentiment']].loc[(merged['audienceScore'] < 57) & (merged['sentiment'] == 'NEGATIVE')].copy()\n",
    "# neg_scores.shape, neg_scores.head()"
   ]
  },
  {
   "cell_type": "code",
   "execution_count": 108,
   "id": "a6d4be4f",
   "metadata": {
    "execution": {
     "iopub.execute_input": "2023-08-13T05:23:39.368436Z",
     "iopub.status.busy": "2023-08-13T05:23:39.368029Z",
     "iopub.status.idle": "2023-08-13T05:23:39.372527Z",
     "shell.execute_reply": "2023-08-13T05:23:39.371447Z"
    },
    "papermill": {
     "duration": 0.117216,
     "end_time": "2023-08-13T05:23:39.374766",
     "exception": false,
     "start_time": "2023-08-13T05:23:39.257550",
     "status": "completed"
    },
    "tags": []
   },
   "outputs": [],
   "source": [
    "# neg_scores['sentiment'].value_counts()"
   ]
  },
  {
   "cell_type": "code",
   "execution_count": 109,
   "id": "d39f3cce",
   "metadata": {
    "execution": {
     "iopub.execute_input": "2023-08-13T05:23:39.594862Z",
     "iopub.status.busy": "2023-08-13T05:23:39.594472Z",
     "iopub.status.idle": "2023-08-13T05:23:39.598869Z",
     "shell.execute_reply": "2023-08-13T05:23:39.597843Z"
    },
    "papermill": {
     "duration": 0.116925,
     "end_time": "2023-08-13T05:23:39.601344",
     "exception": false,
     "start_time": "2023-08-13T05:23:39.484419",
     "status": "completed"
    },
    "tags": []
   },
   "outputs": [],
   "source": [
    "# common_pos_neg_scores = get_common_vocab([pos_scores, neg_scores], ngram_range_list=[(1,1), (2,2), (3,3)])\n",
    "# print(len(common_pos_neg_scores))\n",
    "# # sorted(list(common_pos_neg_scores))"
   ]
  },
  {
   "cell_type": "code",
   "execution_count": 110,
   "id": "739f37eb",
   "metadata": {
    "execution": {
     "iopub.execute_input": "2023-08-13T05:23:39.822939Z",
     "iopub.status.busy": "2023-08-13T05:23:39.822124Z",
     "iopub.status.idle": "2023-08-13T05:23:39.826726Z",
     "shell.execute_reply": "2023-08-13T05:23:39.825975Z"
    },
    "papermill": {
     "duration": 0.11764,
     "end_time": "2023-08-13T05:23:39.828940",
     "exception": false,
     "start_time": "2023-08-13T05:23:39.711300",
     "status": "completed"
    },
    "tags": []
   },
   "outputs": [],
   "source": [
    "# pos_vocab = get_common_vocab([pos_scores, pos_scores], ngram_range_list=[(1,1), (2,2), (3,3)])\n",
    "# print(len(pos_vocab))\n",
    "# # sorted(list(pos_vocab))"
   ]
  },
  {
   "cell_type": "code",
   "execution_count": 111,
   "id": "b8bcbde2",
   "metadata": {
    "execution": {
     "iopub.execute_input": "2023-08-13T05:23:40.051125Z",
     "iopub.status.busy": "2023-08-13T05:23:40.050403Z",
     "iopub.status.idle": "2023-08-13T05:23:40.054615Z",
     "shell.execute_reply": "2023-08-13T05:23:40.053670Z"
    },
    "papermill": {
     "duration": 0.118652,
     "end_time": "2023-08-13T05:23:40.056938",
     "exception": false,
     "start_time": "2023-08-13T05:23:39.938286",
     "status": "completed"
    },
    "tags": []
   },
   "outputs": [],
   "source": [
    "# print(len(get_vocab(pos_scores['reviewText'], ngram_range=(1,1))))\n",
    "# print(len(get_vocab(pos_scores['reviewText'], ngram_range=(2,2))))\n",
    "# print(len(get_vocab(pos_scores['reviewText'], ngram_range=(3,3))))"
   ]
  },
  {
   "cell_type": "code",
   "execution_count": 112,
   "id": "2aeeb4ac",
   "metadata": {
    "execution": {
     "iopub.execute_input": "2023-08-13T05:23:40.277731Z",
     "iopub.status.busy": "2023-08-13T05:23:40.277331Z",
     "iopub.status.idle": "2023-08-13T05:23:40.281683Z",
     "shell.execute_reply": "2023-08-13T05:23:40.280681Z"
    },
    "papermill": {
     "duration": 0.116806,
     "end_time": "2023-08-13T05:23:40.283709",
     "exception": false,
     "start_time": "2023-08-13T05:23:40.166903",
     "status": "completed"
    },
    "tags": []
   },
   "outputs": [],
   "source": [
    "# neg_vocab = get_common_vocab([neg_scores, neg_scores], ngram_range_list=[(1,1), (2,2), (3,3)])\n",
    "# print(len(neg_vocab))\n",
    "# # sorted(list(neg_vocab))"
   ]
  },
  {
   "cell_type": "code",
   "execution_count": 113,
   "id": "6c73d30f",
   "metadata": {
    "execution": {
     "iopub.execute_input": "2023-08-13T05:23:40.563515Z",
     "iopub.status.busy": "2023-08-13T05:23:40.562898Z",
     "iopub.status.idle": "2023-08-13T05:23:40.566799Z",
     "shell.execute_reply": "2023-08-13T05:23:40.566084Z"
    },
    "papermill": {
     "duration": 0.117223,
     "end_time": "2023-08-13T05:23:40.569223",
     "exception": false,
     "start_time": "2023-08-13T05:23:40.452000",
     "status": "completed"
    },
    "tags": []
   },
   "outputs": [],
   "source": [
    "# print(len(get_vocab(neg_scores['reviewText'], ngram_range=(1,1))))\n",
    "# print(len(get_vocab(neg_scores['reviewText'], ngram_range=(2,2))))\n",
    "# print(len(get_vocab(neg_scores['reviewText'], ngram_range=(3,3))))"
   ]
  },
  {
   "cell_type": "code",
   "execution_count": 114,
   "id": "4e0513f8",
   "metadata": {
    "execution": {
     "iopub.execute_input": "2023-08-13T05:23:40.794930Z",
     "iopub.status.busy": "2023-08-13T05:23:40.794537Z",
     "iopub.status.idle": "2023-08-13T05:23:40.799379Z",
     "shell.execute_reply": "2023-08-13T05:23:40.798249Z"
    },
    "papermill": {
     "duration": 0.12105,
     "end_time": "2023-08-13T05:23:40.801662",
     "exception": false,
     "start_time": "2023-08-13T05:23:40.680612",
     "status": "completed"
    },
    "tags": []
   },
   "outputs": [],
   "source": [
    "# len(pos_vocab), len(neg_vocab), len(pos_vocab - neg_vocab), len(neg_vocab - pos_vocab), len(pos_vocab & neg_vocab)"
   ]
  },
  {
   "cell_type": "markdown",
   "id": "b826afef",
   "metadata": {
    "papermill": {
     "duration": 0.109546,
     "end_time": "2023-08-13T05:23:41.022067",
     "exception": false,
     "start_time": "2023-08-13T05:23:40.912521",
     "status": "completed"
    },
    "tags": []
   },
   "source": [
    "### Common pos, neg vocabs among train and test  "
   ]
  },
  {
   "cell_type": "code",
   "execution_count": 115,
   "id": "d97137c5",
   "metadata": {
    "execution": {
     "iopub.execute_input": "2023-08-13T05:23:41.246117Z",
     "iopub.status.busy": "2023-08-13T05:23:41.245719Z",
     "iopub.status.idle": "2023-08-13T05:23:41.250207Z",
     "shell.execute_reply": "2023-08-13T05:23:41.249094Z"
    },
    "papermill": {
     "duration": 0.120006,
     "end_time": "2023-08-13T05:23:41.252472",
     "exception": false,
     "start_time": "2023-08-13T05:23:41.132466",
     "status": "completed"
    },
    "tags": []
   },
   "outputs": [],
   "source": [
    "# len(common_1_2_3_grams & (pos_vocab - neg_vocab))"
   ]
  },
  {
   "cell_type": "code",
   "execution_count": 116,
   "id": "75c64b14",
   "metadata": {
    "execution": {
     "iopub.execute_input": "2023-08-13T05:23:41.473544Z",
     "iopub.status.busy": "2023-08-13T05:23:41.472855Z",
     "iopub.status.idle": "2023-08-13T05:23:41.477876Z",
     "shell.execute_reply": "2023-08-13T05:23:41.476846Z"
    },
    "papermill": {
     "duration": 0.117466,
     "end_time": "2023-08-13T05:23:41.479879",
     "exception": false,
     "start_time": "2023-08-13T05:23:41.362413",
     "status": "completed"
    },
    "tags": []
   },
   "outputs": [],
   "source": [
    "# len(common_1_2_3_grams & (neg_vocab - pos_vocab))"
   ]
  },
  {
   "cell_type": "code",
   "execution_count": 117,
   "id": "98aadab8",
   "metadata": {
    "execution": {
     "iopub.execute_input": "2023-08-13T05:23:41.701637Z",
     "iopub.status.busy": "2023-08-13T05:23:41.700823Z",
     "iopub.status.idle": "2023-08-13T05:23:41.711239Z",
     "shell.execute_reply": "2023-08-13T05:23:41.710415Z"
    },
    "papermill": {
     "duration": 0.122521,
     "end_time": "2023-08-13T05:23:41.713318",
     "exception": false,
     "start_time": "2023-08-13T05:23:41.590797",
     "status": "completed"
    },
    "tags": []
   },
   "outputs": [],
   "source": [
    "def audienceScore_vocab(df_list, scores=(57, 73), ngram_range_list=[(1,1), (2,2), (3,3)]):\n",
    "    train = df_list[0]\n",
    "    test = df_list[1]\n",
    "\n",
    "    lower_bound = scores[0]\n",
    "    upper_bound = scores[1]\n",
    "\n",
    "    common_1_2_3_grams = get_common_vocab([train, test], ngram_range_list=[(1,1), (2,2), (3,3)])\n",
    "\n",
    "    pos_scores = train[['reviewText', 'sentiment']].loc[(train['audienceScore'] > upper_bound) & (train['sentiment'] == 'POSITIVE')].copy()\n",
    "    neg_scores = train[['reviewText', 'sentiment']].loc[(train['audienceScore'] < lower_bound) & (train['sentiment'] == 'NEGATIVE')].copy()\n",
    "\n",
    "    pos_vocab = get_common_vocab([pos_scores, pos_scores], ngram_range_list=[(1,1), (2,2), (3,3)])\n",
    "    neg_vocab = get_common_vocab([neg_scores, neg_scores], ngram_range_list=[(1,1), (2,2), (3,3)])\n",
    "\n",
    "    pure_common_pos = common_1_2_3_grams & (pos_vocab - neg_vocab)\n",
    "    pure_common_neg = common_1_2_3_grams & (neg_vocab - pos_vocab)\n",
    "\n",
    "    return pure_common_pos, pure_common_neg"
   ]
  },
  {
   "cell_type": "code",
   "execution_count": 118,
   "id": "6f009871",
   "metadata": {
    "execution": {
     "iopub.execute_input": "2023-08-13T05:23:41.935159Z",
     "iopub.status.busy": "2023-08-13T05:23:41.934568Z",
     "iopub.status.idle": "2023-08-13T05:23:41.938102Z",
     "shell.execute_reply": "2023-08-13T05:23:41.937364Z"
    },
    "papermill": {
     "duration": 0.116694,
     "end_time": "2023-08-13T05:23:41.940346",
     "exception": false,
     "start_time": "2023-08-13T05:23:41.823652",
     "status": "completed"
    },
    "tags": []
   },
   "outputs": [],
   "source": [
    "# pcp, pcn = audienceScore_vocab([merged, merged_test])\n",
    "# len(pcp), len(pcn)"
   ]
  },
  {
   "cell_type": "code",
   "execution_count": 119,
   "id": "ea6bc411",
   "metadata": {
    "execution": {
     "iopub.execute_input": "2023-08-13T05:23:42.162482Z",
     "iopub.status.busy": "2023-08-13T05:23:42.161668Z",
     "iopub.status.idle": "2023-08-13T05:23:42.166109Z",
     "shell.execute_reply": "2023-08-13T05:23:42.165403Z"
    },
    "papermill": {
     "duration": 0.117599,
     "end_time": "2023-08-13T05:23:42.168358",
     "exception": false,
     "start_time": "2023-08-13T05:23:42.050759",
     "status": "completed"
    },
    "tags": []
   },
   "outputs": [],
   "source": [
    "# pc = pcp | pcn\n",
    "# sorted(list(pc))"
   ]
  },
  {
   "cell_type": "markdown",
   "id": "41ff30c7",
   "metadata": {
    "papermill": {
     "duration": 0.108979,
     "end_time": "2023-08-13T05:23:42.387418",
     "exception": false,
     "start_time": "2023-08-13T05:23:42.278439",
     "status": "completed"
    },
    "tags": []
   },
   "source": [
    "# Submit_v5 for merged file models  "
   ]
  },
  {
   "cell_type": "markdown",
   "id": "122a5357",
   "metadata": {
    "papermill": {
     "duration": 0.111798,
     "end_time": "2023-08-13T05:23:42.608761",
     "exception": false,
     "start_time": "2023-08-13T05:23:42.496963",
     "status": "completed"
    },
    "tags": []
   },
   "source": [
    "### More Helper functions  "
   ]
  },
  {
   "cell_type": "code",
   "execution_count": 120,
   "id": "1e69109b",
   "metadata": {
    "execution": {
     "iopub.execute_input": "2023-08-13T05:23:42.832994Z",
     "iopub.status.busy": "2023-08-13T05:23:42.832163Z",
     "iopub.status.idle": "2023-08-13T05:23:42.839705Z",
     "shell.execute_reply": "2023-08-13T05:23:42.838716Z"
    },
    "papermill": {
     "duration": 0.122571,
     "end_time": "2023-08-13T05:23:42.842039",
     "exception": false,
     "start_time": "2023-08-13T05:23:42.719468",
     "status": "completed"
    },
    "tags": []
   },
   "outputs": [],
   "source": [
    "# Testing predictions on missing reviewtext columns  \n",
    "\n",
    "def predict_on_missing_review_data(pipe, selected_features, merged_train):\n",
    "    missing_reviews_train = merged_train.loc[merged_train['reviewYN'] == 1]\n",
    "    missing_reviews_train.reset_index(drop=True)\n",
    "    X_train_miss_revs = missing_reviews_train.drop('sentiment', axis = 1)\n",
    "    X_train_miss_revs = X_train_miss_revs[selected_features]\n",
    "    y_train_miss_revs = missing_reviews_train['sentiment']\n",
    "    \n",
    "    y_pred_miss_revs = pipe.predict(X_train_miss_revs)\n",
    "#     print('Predictions on rows which had missing reviewText')\n",
    "    print(\"Confusion matrix and f1-score for rows which have no reviewText in X_train: \")\n",
    "    print(confusion_matrix(y_train_miss_revs, y_pred_miss_revs, labels=pipe.classes_))\n",
    "    \n",
    "    return f1_score(y_train_miss_revs, y_pred_miss_revs, average='micro')"
   ]
  },
  {
   "cell_type": "code",
   "execution_count": 121,
   "id": "c5cab3b2",
   "metadata": {
    "execution": {
     "iopub.execute_input": "2023-08-13T05:23:43.063641Z",
     "iopub.status.busy": "2023-08-13T05:23:43.063264Z",
     "iopub.status.idle": "2023-08-13T05:23:43.263787Z",
     "shell.execute_reply": "2023-08-13T05:23:43.262857Z"
    },
    "papermill": {
     "duration": 0.314649,
     "end_time": "2023-08-13T05:23:43.266563",
     "exception": false,
     "start_time": "2023-08-13T05:23:42.951914",
     "status": "completed"
    },
    "tags": []
   },
   "outputs": [],
   "source": [
    "# Function to build pipelines for GridSearchCV which goes into the final 'submit' function  \n",
    "def build_pipeline(selected_model=LogisticRegression(), \n",
    "                   selected_features={'txt': ['reviewText']}, \n",
    "                   param_grid=None,\n",
    "                   vocab=None,\n",
    "                   vocab_usage='tfidf',\n",
    "                   strip_accents='unicode', \n",
    "                   add_countvec=False,\n",
    "                   vocab_audscore=None,\n",
    "                  poly=True):\n",
    "    # Encoders  \n",
    "    ohe = OneHotEncoder(sparse_output=False, handle_unknown='ignore')\n",
    "    MMscaler = MinMaxScaler()\n",
    "    StdScaler = StandardScaler()\n",
    "    RobScaler = RobustScaler()\n",
    "    \n",
    "    # Categorical features\n",
    "    cat_pipe = Pipeline(steps=[\n",
    "                            (\"ohe\", ohe),\n",
    "                        ])\n",
    "    \n",
    "    # Numerical features\n",
    "    num_pipe = Pipeline(steps=[\n",
    "                            (\"robscaler\", RobustScaler()),\n",
    "                            (\"stdscaler\", StandardScaler())\n",
    "                        ])\n",
    "    num_pipe_poly = Pipeline(steps=[\n",
    "                            (\"robscaler\", RobustScaler()),\n",
    "                            (\"stdscaler\", StandardScaler()),\n",
    "                            (\"poly\", PolynomialFeatures(degree=2, interaction_only=True, include_bias=False))\n",
    "                        ])\n",
    "    \n",
    "    # Text features ['reviewText', 'reviewerName', 'movieid', 'genre', 'director']\n",
    "    tfidf_vec = TfidfVectorizer(ngram_range=(1,2))\n",
    "    count_vec = CountVectorizer(ngram_range=(1,2))\n",
    "    txt_pipe = Pipeline(steps=[\n",
    "                            (\"tvec\", TfidfVectorizer(ngram_range=(1,3), strip_accents=strip_accents))    # Adjust ngram_range here for reviewText\n",
    "                        ])\n",
    "    txt_pipe_vocab = Pipeline(steps=[\n",
    "                            (\"tvec\", TfidfVectorizer(ngram_range=(1,3), strip_accents=strip_accents, vocabulary=vocab))    # Adjust ngram_range here for reviewText\n",
    "                        ])\n",
    "    txt_pipe_2 = Pipeline(steps=[\n",
    "                            (\"tvec\", TfidfVectorizer(ngram_range=(2,2)))\n",
    "                        ])\n",
    "    txt_pipe_3 = Pipeline(steps=[\n",
    "                            (\"tvec\", TfidfVectorizer(ngram_range=(1,1)))\n",
    "                        ])\n",
    "    txt_pipe_4 = Pipeline(steps=[\n",
    "                            (\"tvec\", TfidfVectorizer(ngram_range=(1,3)))    # Adjust ngram_range here for reviewText\n",
    "                        ])\n",
    "    txt_pipe_title  = Pipeline(steps=[\n",
    "                            (\"tvec\", TfidfVectorizer(ngram_range=(1,5)))    # Adjust ngram_range here for reviewText\n",
    "                        ])\n",
    "    \n",
    "    # Additional pipes for count vectorizer\n",
    "    txt_pipe_countvec = Pipeline(steps=[\n",
    "                            (\"cvec\", CountVectorizer(ngram_range=(1,3), strip_accents=strip_accents))    # Adjust ngram_range here for reviewText\n",
    "                        ])\n",
    "    txt_pipe_countvec_vocab = Pipeline(steps=[\n",
    "                            (\"cvec\", CountVectorizer(ngram_range=(1,3), strip_accents=strip_accents, vocabulary=vocab))    # Adjust ngram_range here for reviewText\n",
    "                        ])\n",
    "    txt_pipe_countvec_vocab_audscore = Pipeline(steps=[\n",
    "                            (\"cvec\", CountVectorizer(ngram_range=(1,3), strip_accents=strip_accents, vocabulary=vocab_audscore))    # Adjust ngram_range here for reviewText\n",
    "                        ])\n",
    "    \n",
    "    txt_pipe_countvec_ratingContents = Pipeline(steps=[\n",
    "                            (\"cvec\", CountVectorizer(ngram_range=(1,5)))    # Adjust ngram_range here for reviewText\n",
    "                        ])\n",
    "    txt_pipe_countvec_rcSorted = Pipeline(steps=[\n",
    "                            (\"cvec\", CountVectorizer(ngram_range=(1,1)))    # Adjust ngram_range here for reviewText\n",
    "                        ])\n",
    "    txt_pipe_countvec_genre = Pipeline(steps=[\n",
    "                            (\"cvec\", CountVectorizer(ngram_range=(1,1)))\n",
    "                        ])\n",
    "    txt_pipe_countvec_genreSorted = Pipeline(steps=[\n",
    "                            (\"cvec\", CountVectorizer(ngram_range=(1,5)))\n",
    "                        ])\n",
    "    txt_pipe_countvec_distributor = Pipeline(steps=[\n",
    "                            (\"cvec\", CountVectorizer(ngram_range=(1,3)))    # Adjust ngram_range here for reviewText\n",
    "                        ])\n",
    "    txt_pipe_countvec_title = Pipeline(steps=[\n",
    "                            (\"cvec\", CountVectorizer(ngram_range=(1,5), strip_accents=strip_accents))\n",
    "                        ])\n",
    "    txt_pipe_countvec_movieid = Pipeline(steps=[\n",
    "                            (\"cvec\", CountVectorizer(ngram_range=(1,1)))\n",
    "                        ])\n",
    "    # Basic pipes  \n",
    "    TFs = []\n",
    "    try:\n",
    "        TFs.append((f\"cat\", ohe, selected_features['cat']))\n",
    "#         for c in selected_features['cat']:\n",
    "#             TFs.append((f\"cat_{c}\", ohe, [c]))\n",
    "    except:\n",
    "        pass\n",
    "    \n",
    "    try:\n",
    "        if poly:\n",
    "            TFs.append((f\"num\", num_pipe_poly, selected_features['num']))\n",
    "        else:\n",
    "            TFs.append((f\"num\", num_pipe, selected_features['num']))\n",
    "#             for n in selected_features['num']:\n",
    "#                 if n in [\"runtimeMinutes\", \"boxOffice\", \"releaseDiff\"]:\n",
    "#                     TFs.append((f\"num_{n}\", RobScaler, [n]))\n",
    "#                     TFs.append((f\"num_{n}_ss\", StdScaler, [n]))\n",
    "\n",
    "#                 else:\n",
    "#                     TFs.append((f\"num_{n}\", StdScaler, [n]))\n",
    "    except:\n",
    "        pass\n",
    "    \n",
    "    try:\n",
    "        for t in selected_features['txt']:\n",
    "            if t in ['director', 'reviewerName']:\n",
    "                TFs.append((f\"txt_{t}\", txt_pipe_2, t))\n",
    "            elif t in [\"originalLanguage\", \"releaseYear\"]:\n",
    "                TFs.append((f\"txt_{t}\", txt_pipe_3, t))\n",
    "            elif t in ['genre']:\n",
    "                TFs.append((f\"txt_{t}\", txt_pipe_countvec_genre, t))\n",
    "            elif t in [\"genreSorted\"]:\n",
    "                TFs.append((f\"txt_{t}\", txt_pipe_countvec_genreSorted, t))\n",
    "            elif t in [\"distributor\"]:\n",
    "                TFs.append((f\"txt_{t}\", txt_pipe_countvec_distributor, t))\n",
    "                \n",
    "            elif t in ['reviewText']:\n",
    "#                 if vocab and (vocab_usage in [\"tfidf\", \"both\"]):\n",
    "#                     txt_pipe.set_params(tvec__vocabulary=vocab)\n",
    "#                     txt_pipe.set_params(tvec__stop_words='english')\n",
    "                TFs.append((f\"txt_{t}\", txt_pipe, t))\n",
    "            elif t in ['reviewText_2']:\n",
    "                if add_countvec:\n",
    "#                     if vocab and (vocab_usage in [\"count\", \"both\"]):\n",
    "#                         txt_pipe_countvec.set_params(cvec__vocabulary=vocab)\n",
    "#                         txt_pipe_countvec.set_params(cvec__stop_words='english')\n",
    "                    TFs.append((f\"txt_{t}\", txt_pipe_countvec, t))\n",
    "            elif t in ['reviewText_3']:\n",
    "                if vocab_usage == 'tfidf':\n",
    "                    TFs.append((f\"txt_{t}\", txt_pipe_vocab, t))\n",
    "                elif vocab_usage == 'count':\n",
    "                    TFs.append((f\"txt_{t}\", txt_pipe_countvec_vocab, t))\n",
    "            elif t in ['reviewText_4']:\n",
    "                if vocab_audscore:                    \n",
    "                    TFs.append((f\"txt_{t}\", txt_pipe_countvec_vocab_audscore, t))\n",
    "                    \n",
    "            elif t in [\"ratingContents\"]:\n",
    "                TFs.append((f\"txt_{t}\", txt_pipe_countvec_ratingContents, t))\n",
    "            elif t in [\"rcSorted\"]:\n",
    "                TFs.append((f\"txt_{t}\", txt_pipe_countvec_rcSorted, t))\n",
    "            elif t in [\"title\"]:\n",
    "                TFs.append((f\"txt_{t}\", txt_pipe_title, t))\n",
    "            elif t in [\"movieid\"]:\n",
    "                TFs.append((f\"txt_{t}\", txt_pipe_countvec_movieid, t))\n",
    "            else:\n",
    "                pass\n",
    "    except:\n",
    "        pass\n",
    "\n",
    "    # Build ColumnTransformer  \n",
    "    ct = ColumnTransformer(transformers=TFs, remainder='drop')\n",
    "\n",
    "    # Build Pipeline\n",
    "    pipe = Pipeline(steps=[('ct', ct), ('model', selected_model)])\n",
    "    print(\"\\nPipeline built successfully.\")\n",
    "\n",
    "    # Use the pipe in GridSearchCV\n",
    "    if param_grid == None:\n",
    "        param_grid_temp = {\"model__C\": [1],\n",
    "                     'model__solver': ['liblinear']}\n",
    "        print(\"Full GridSearchCV pipeline built successfully with basic default param_grid.\\n\")\n",
    "        pipeCV = GridSearchCV(pipe, param_grid_temp, cv=10, scoring=\"f1_micro\", n_jobs=-1)\n",
    "        return pipeCV\n",
    "    \n",
    "    # GridSearchCV if param_grid provided\n",
    "    if param_grid:\n",
    "        pipeCV = GridSearchCV(pipe, param_grid, cv=10, scoring=\"f1_micro\", n_jobs=-1)\n",
    "        print(\"\\nFull GridSearchCV pipeline built successfully.\")\n",
    "        return pipeCV"
   ]
  },
  {
   "cell_type": "code",
   "execution_count": 122,
   "id": "451ce006",
   "metadata": {
    "execution": {
     "iopub.execute_input": "2023-08-13T05:23:43.487479Z",
     "iopub.status.busy": "2023-08-13T05:23:43.487058Z",
     "iopub.status.idle": "2023-08-13T05:23:43.504108Z",
     "shell.execute_reply": "2023-08-13T05:23:43.503225Z"
    },
    "papermill": {
     "duration": 0.130665,
     "end_time": "2023-08-13T05:23:43.506610",
     "exception": false,
     "start_time": "2023-08-13T05:23:43.375945",
     "status": "completed"
    },
    "tags": []
   },
   "outputs": [],
   "source": [
    "def preprocessor(imputer_type='simple'):\n",
    "    \n",
    "    \"\"\"Preprocess train or test data. Choose 'simple' or 'knn' imputers to impute missing numerical values\"\"\"\n",
    "    \n",
    "    # Set imputer  \n",
    "    if imputer_type == 'simple':\n",
    "        imputer = SimpleImputer(strategy='median')\n",
    "        print(imputer)\n",
    "    elif imputer_type == 'knn':\n",
    "        imputer = KNNImputer(weights='distance', n_neighbors=3)    # Adjust KNNImputer params here\n",
    "        print(imputer)\n",
    "\n",
    "\n",
    "    \n",
    "    # Merge and preprocess train and movies data  \n",
    "    merged = select_features(load_csv(\"train\"), load_csv(\"movies\"), row_thresh_null=None)    # Decide if you want to drop any rows containing lot of nulls\n",
    "    \n",
    "    # Impute missing numerical values  \n",
    "    merged[['audienceScore', 'runtimeMinutes', 'boxOffice']] = imputer.fit_transform(merged[['audienceScore', 'runtimeMinutes', 'boxOffice']])\n",
    "    merged['releaseDate'] = merged[\"releaseDate\"].fillna(merged[\"releaseDate\"].median())\n",
    "\n",
    "    # Create new feature columns\n",
    "    \n",
    "    # Convert audienceScore to categories  \n",
    "    num_bins_as = 20\n",
    "    merged[\"audScoreBins\"] = pd.cut(merged['audienceScore'], bins=num_bins_as, labels=False)\n",
    "\n",
    "    # Convert runtimeMinutes to categories  \n",
    "#     num_bins_rt = 20\n",
    "    merged[\"runtimeBins\"] = pd.cut(merged['runtimeMinutes'], bins=[0,75,120,180,565], labels=[4,3,2,1])\n",
    "    \n",
    "    # Convert boxOffice to categories  \n",
    "    num_bins_bo = 5\n",
    "    merged[\"boxOfficeBins\"] = pd.cut(merged['boxOffice'], bins=num_bins_bo, labels=False)\n",
    "    \n",
    "    # Convert releaseDiff to categories  \n",
    "    num_bins_rd = 5\n",
    "    merged[\"releaseDiffBins\"] = pd.cut(merged['releaseDiff'], bins=[-1, 180, 360, 1000, 40000], labels=[0, 1, 2, 3])\n",
    "    \n",
    "    # Check1 (preprocessor)\n",
    "    print(\"\\nCheck 1 (preprocessor) complete.\")\n",
    "    print(f\"Shape of X_train: {merged.shape}\")\n",
    "    print(f\"Features in X_train: {merged.columns}\")\n",
    "\n",
    "\n",
    "    \n",
    "    # Merge and preprocess test and movies data  \n",
    "    merged_test = select_features(load_csv(\"test\"), load_csv(\"movies\"))\n",
    "    \n",
    "    # Transform ['audienceScore', 'runtimeMinutes', 'boxOffice'] columns in merged_test using 'imputer' fitted on 'merged' df  \n",
    "    merged_test[['audienceScore', 'runtimeMinutes', 'boxOffice']] = imputer.transform(merged_test[['audienceScore', 'runtimeMinutes', 'boxOffice']])\n",
    "    \n",
    "    # Fill 'releaseDate' column in 'merged_test' df with median from the train (merged) df  \n",
    "    merged_test['releaseDate'] = merged_test[\"releaseDate\"].fillna(merged[\"releaseDate\"].median())\n",
    "\n",
    "    \n",
    "    # Create new feature columns\n",
    "    \n",
    "    # Convert audienceScore to categories  \n",
    "    num_bins_as = 20\n",
    "    merged_test[\"audScoreBins\"] = pd.cut(merged_test['audienceScore'], bins=num_bins_as, labels=False)\n",
    "    \n",
    "    # Convert runtimeMinutes to categories  \n",
    "#     num_bins_rt = 20\n",
    "    merged_test[\"runtimeBins\"] = pd.cut(merged_test['runtimeMinutes'], bins=[0,75,120,180,565], labels=[4,3,2,1])\n",
    "    \n",
    "    # Convert boxOffice to categories  \n",
    "    num_bins_bo = 5\n",
    "    merged_test[\"boxOfficeBins\"] = pd.cut(merged_test['boxOffice'], bins=num_bins_bo, labels=False)\n",
    "    \n",
    "    # Convert releaseDiff to categories  \n",
    "    num_bins_rd = 5\n",
    "    merged_test[\"releaseDiffBins\"] = pd.cut(merged_test['releaseDiff'], bins=[-1, 180, 360, 1000, 40000], labels=[0, 1, 2, 3])\n",
    "    \n",
    "    \n",
    "    # Check2 (preprocessor)\n",
    "    print(\"\\nCheck 2 (preprocessor) complete.\")\n",
    "    print(f\"Shape of X_test: {merged_test.shape}\")\n",
    "    print(f\"Features in X_test: {merged_test.columns}\")\n",
    "\n",
    "    return merged, merged_test\n",
    "    "
   ]
  },
  {
   "cell_type": "code",
   "execution_count": 123,
   "id": "228edea2",
   "metadata": {
    "execution": {
     "iopub.execute_input": "2023-08-13T05:23:43.728005Z",
     "iopub.status.busy": "2023-08-13T05:23:43.727017Z",
     "iopub.status.idle": "2023-08-13T05:23:43.731820Z",
     "shell.execute_reply": "2023-08-13T05:23:43.730906Z"
    },
    "papermill": {
     "duration": 0.118806,
     "end_time": "2023-08-13T05:23:43.734059",
     "exception": false,
     "start_time": "2023-08-13T05:23:43.615253",
     "status": "completed"
    },
    "tags": []
   },
   "outputs": [],
   "source": [
    "# merged, merged_test = preprocessor()\n",
    "# merged.shape, merged_test.shape"
   ]
  },
  {
   "cell_type": "code",
   "execution_count": 124,
   "id": "b5c63e96",
   "metadata": {
    "execution": {
     "iopub.execute_input": "2023-08-13T05:23:43.954555Z",
     "iopub.status.busy": "2023-08-13T05:23:43.954135Z",
     "iopub.status.idle": "2023-08-13T05:23:43.986400Z",
     "shell.execute_reply": "2023-08-13T05:23:43.985448Z"
    },
    "papermill": {
     "duration": 0.145142,
     "end_time": "2023-08-13T05:23:43.988809",
     "exception": false,
     "start_time": "2023-08-13T05:23:43.843667",
     "status": "completed"
    },
    "tags": []
   },
   "outputs": [],
   "source": [
    "def submit_v5(classifiers= [\n",
    "                {'selected_model' : LogisticRegression(C=1, solver='saga', max_iter=100000),\n",
    "                 'param_grid' : None,\n",
    "                 'selected_features' : {'num': ['audienceScore']},\n",
    "                 'vocab' : None,\n",
    "                 'vocab_usage' : 'tfidf',\n",
    "                 'strip_accents' : 'unicode',\n",
    "                 'add_countvec' : False,\n",
    "                'vocab_audscore' : None}\n",
    "              ], \n",
    "            imputer_type='simple',\n",
    "              poly=True,\n",
    "            ):\n",
    "    \n",
    "    \"\"\"Takes a list of dictionaries each with same keys as mentioned in the default dictionary in function definition\"\"\"\n",
    "    \n",
    "    print(\"\\nRunning the submit_v5 function...\")\n",
    "    \n",
    "    print(f\"\\nData preprocessor initiated...\")\n",
    "    \n",
    "    imputer_type = imputer_type\n",
    "    print(f\"\\nImputer for missing numerical values: {imputer_type}\")\n",
    "    print(f\"Imputing missing values. (This could take a while if it is KNNImputer)\")\n",
    "    \n",
    "    merged, merged_test = preprocessor(imputer_type=imputer_type)\n",
    "    print(f\"\\nPreprocessing of train and test datasets complete.\")\n",
    "    \n",
    "    # Build vocabulary (if vocab is True)\n",
    "    vocab = None\n",
    "    vocab_audscore = None\n",
    "    for item in classifiers:\n",
    "        if item['vocab']:\n",
    "            vocab = True\n",
    "        if item['vocab_audscore']:\n",
    "            vocab_audscore = item['vocab_audscore']\n",
    "    \n",
    "    if vocab == True:\n",
    "        # Generate and store the entire vocabulary of training data  \n",
    "        print(f\"Generating stop words/phrases specific for this project data...\")\n",
    "        train_1_2_3_grams = get_vocab(merged['reviewText'], ngram_range=(1,3))\n",
    "        print(f\"Size of vocabulary of training data: {len(train_1_2_3_grams)}\")\n",
    "        # sorted(train_1_2_3_grams)\n",
    "\n",
    "        # Generate stop words/phrases specific for this project data  \n",
    "        print(f\"Generating stop words/phrases specific for this project data...\")\n",
    "        common_1_2_3_grams = get_common_vocab([merged, merged_test], ngram_range_list=[(1,1), (2,2), (3,3)])\n",
    "        print(f\"Number of stop words: {len(common_1_2_3_grams)}\")\n",
    "\n",
    "        # Get the vocabulary that should be used in the final models  \n",
    "        print(f\"Getting the vocabulary that will be fed to the final model(s)...\")\n",
    "        relevant_vocab = list(train_1_2_3_grams - common_1_2_3_grams)\n",
    "        print(f\"Size of the final relevant vocabulary: {len(relevant_vocab)}\")\n",
    "    else:\n",
    "        pass\n",
    "    \n",
    "    if vocab_audscore:\n",
    "        pure_common_pos, pure_common_neg = audienceScore_vocab([merged, merged_test])\n",
    "        pure_common = pure_common_pos | pure_common_neg\n",
    "        print(f\"pure_common vocabulary created. Length: {len(pure_common)}\")\n",
    "    \n",
    "    \n",
    "    # Create a list to store estimators  \n",
    "    estimators = []     # List of tuples of the form ('classifier_name', 'classifer_instance')\n",
    "    \n",
    "    # Build a dataframe of predictions  \n",
    "    predictions_df = pd.DataFrame()\n",
    "    \n",
    "    # Build a separate pipeline and fit it on selected features (and param_grid) for each item in classifiers list\n",
    "    for n, item in enumerate(classifiers, start=1):\n",
    "        selected_model = item['selected_model']\n",
    "        selected_features = item['selected_features']\n",
    "        param_grid = item['param_grid']\n",
    "        vocab = item['vocab']\n",
    "        vocab_usage = item['vocab_usage']\n",
    "        strip_accents = item['strip_accents']\n",
    "        add_countvec = item['add_countvec']\n",
    "    \n",
    "    \n",
    "        # Fine tune selected_features\n",
    "        if add_countvec:\n",
    "            if 'txt' in selected_features.keys():\n",
    "                if \"reviewText_2\" not in selected_features['txt']:\n",
    "                    selected_features['txt'].append('reviewText_2')\n",
    "        if vocab:\n",
    "            if 'txt' in selected_features.keys():\n",
    "                if \"reviewText_3\" not in selected_features['txt']:\n",
    "                    selected_features['txt'].append('reviewText_3')\n",
    "        else:\n",
    "            print(f\"No vocabulary provided/used for this model.\")\n",
    "            \n",
    "        print(f\"\\nSelected features: {selected_features}\")\n",
    "        \n",
    "        if type(vocab) in [type([1, 2]), type({1, 2})]:\n",
    "            vocab = vocab\n",
    "        elif vocab == True:\n",
    "            vocab = common_1_2_3_grams    # Choose vocabulary here\n",
    "            \n",
    "        if vocab_audscore:\n",
    "            if 'txt' in selected_features.keys():\n",
    "                if \"reviewText_4\" not in selected_features['txt']:\n",
    "                    selected_features['txt'].append('reviewText_4')\n",
    "        else:\n",
    "            print(f\"No vocabulary based on audienceScore provided/used for this model.\")\n",
    "            \n",
    "            \n",
    "        print(f\"\\nSelected features: {selected_features}\")\n",
    "\n",
    "        # Modify X_train for the given 'item' by creating a custom 'features' list\n",
    "        features = []\n",
    "        for item in selected_features.values():\n",
    "            features.extend(item)\n",
    "            \n",
    "        # Add new columns as needed  \n",
    "        if add_countvec:\n",
    "            merged['reviewText_2'] = merged['reviewText']\n",
    "        if vocab:\n",
    "            merged['reviewText_3'] = merged['reviewText']\n",
    "        if vocab_audscore:\n",
    "            merged['reviewText_4'] = merged['reviewText']\n",
    "        \n",
    "        # Create X_tran, y_train\n",
    "        X_train = merged.drop(labels=\"sentiment\", axis=1)\n",
    "        y_train = merged[\"sentiment\"]\n",
    "        \n",
    "        X_train = merged[features].copy()\n",
    "\n",
    "\n",
    "        # Build Pipeline\n",
    "        pipe = build_pipeline(selected_model, selected_features, param_grid=param_grid, \n",
    "                              vocab=vocab, vocab_usage='tfidf', \n",
    "                              strip_accents=strip_accents, add_countvec=add_countvec,\n",
    "                             poly=poly, vocab_audscore=pure_common)\n",
    "        print(pipe)\n",
    "\n",
    "        \n",
    "        # Fit \n",
    "        print(f\"\\nTraining started with full pipeline for classifier #{n}/{len(classifiers)}...\")\n",
    "        pipe.fit(X_train, y_train)\n",
    "        \n",
    "\n",
    "        # Check1\n",
    "        print(f\"\\nCheck #{n}.1 complete.\")\n",
    "        print(f\"Details of the best model using classifier #{n} (GridSearchCV) on X_train: \")\n",
    "        print(f\"Best Params: {pipe.best_params_}\")\n",
    "        print(f\"Best Score: {pipe.best_score_}\")\n",
    "        \n",
    "        print(predict_on_missing_review_data(pipe, features, merged))    # Function defined above\n",
    "        \n",
    "        estimators.append((f\"classifier_{n}\", pipe))\n",
    "        print(f\"classifier_{n} successfully added to 'estimators' list\")\n",
    "\n",
    "        \n",
    "        # Predict on train data \n",
    "        y_train_pred = pipe.predict(X_train)\n",
    "        print(f\"Confusion matrix for predictions on training data: \")\n",
    "        print(confusion_matrix(y_train, y_train_pred))\n",
    "        f1_train = f1_score(y_train, y_train_pred, average=\"micro\")\n",
    "        print(f\"F1-score on training data: {f1_train}\")\n",
    "        \n",
    "        \n",
    "        # Predict on test.csv file\n",
    "        # Add new columns as needed \n",
    "        if add_countvec:\n",
    "            merged_test['reviewText_2'] = merged_test['reviewText']\n",
    "        if vocab:\n",
    "            merged_test['reviewText_3'] = merged_test['reviewText']\n",
    "        if vocab_audscore:\n",
    "            merged_test['reviewText_4'] = merged_test['reviewText']\n",
    "        \n",
    "               \n",
    "        X_test = merged_test[features].copy()\n",
    "\n",
    "    \n",
    "        y_pred = pipe.predict(X_test)\n",
    "        \n",
    "        # Insert predictions in 'predictions_df' dataframe\n",
    "        predictions_df.insert(n-1, f\"pred_{n}\", y_pred, allow_duplicates=False)\n",
    "        print(predictions_df.shape)\n",
    "        print(predictions_df.head(10))\n",
    "        \n",
    "    \n",
    "        # Check2\n",
    "        print(f\"\\nCheck #{n}.2 complete.\")\n",
    "    #     cv_results_df = pd.DataFrame(pipe.cv_results_)\n",
    "        print(\"Details of the best model using full pipeline (GridSearchCV) on X_train: \")\n",
    "#         print(f\"Best Estimator: {pipe.best_estimator_}\")\n",
    "        print(f\"Best Params: {pipe.best_params_}\")\n",
    "        print(f\"Best Score: {pipe.best_score_}\")\n",
    "#         print(f\"Best Index: {pipe.best_index_}\")\n",
    "        print(f\"Refit Time: {pipe.refit_time_}\")\n",
    "    #     print(f\"Shape of CV results dataframe: {cv_results_df.shape}\")\n",
    "    \n",
    "    # Voting classifier (custom) with hard voting\n",
    "    # Calculate the MODE for all predictions (Note that the 'predictions_df' generated above should have odd number of columns)\n",
    "    pred_df_final = predictions_df.mode('columns')\n",
    "    pred_df_final.columns = [\"sentiment\"]\n",
    "    pred_df_final.index.name = \"id\"\n",
    "    pred_df_final.to_csv(\"submission.csv\")\n",
    "    \n",
    "    print(\"\\nSuccessfully created the submission file!!!\")\n",
    "    \n",
    "#     return pipe.cv_results_\n",
    "    return pred_df_final, estimators"
   ]
  },
  {
   "cell_type": "markdown",
   "id": "8b214243",
   "metadata": {
    "papermill": {
     "duration": 0.110318,
     "end_time": "2023-08-13T05:23:44.208845",
     "exception": false,
     "start_time": "2023-08-13T05:23:44.098527",
     "status": "completed"
    },
    "tags": []
   },
   "source": [
    "## Use 'submit_v5' function  "
   ]
  },
  {
   "cell_type": "code",
   "execution_count": 125,
   "id": "37af5cc6",
   "metadata": {
    "execution": {
     "iopub.execute_input": "2023-08-13T05:23:44.430853Z",
     "iopub.status.busy": "2023-08-13T05:23:44.430481Z",
     "iopub.status.idle": "2023-08-13T05:23:44.434897Z",
     "shell.execute_reply": "2023-08-13T05:23:44.433692Z"
    },
    "papermill": {
     "duration": 0.117541,
     "end_time": "2023-08-13T05:23:44.436972",
     "exception": false,
     "start_time": "2023-08-13T05:23:44.319431",
     "status": "completed"
    },
    "tags": []
   },
   "outputs": [],
   "source": [
    "# Try submit_v5 with default settings\n",
    "# submit_v5()"
   ]
  },
  {
   "cell_type": "code",
   "execution_count": 126,
   "id": "77c16349",
   "metadata": {
    "execution": {
     "iopub.execute_input": "2023-08-13T05:23:44.718710Z",
     "iopub.status.busy": "2023-08-13T05:23:44.718177Z",
     "iopub.status.idle": "2023-08-13T06:10:14.562169Z",
     "shell.execute_reply": "2023-08-13T06:10:14.560943Z"
    },
    "papermill": {
     "duration": 2790.130607,
     "end_time": "2023-08-13T06:10:14.678012",
     "exception": false,
     "start_time": "2023-08-13T05:23:44.547405",
     "status": "completed"
    },
    "tags": []
   },
   "outputs": [
    {
     "name": "stdout",
     "output_type": "stream",
     "text": [
      "\n",
      "Running the submit_v5 function...\n",
      "\n",
      "Data preprocessor initiated...\n",
      "\n",
      "Imputer for missing numerical values: knn\n",
      "Imputing missing values. (This could take a while if it is KNNImputer)\n",
      "KNNImputer(n_neighbors=3, weights='distance')\n",
      "\n",
      "Check 1 (preprocessor) complete.\n",
      "Shape of X_train: (162758, 30)\n",
      "Features in X_train: Index(['movieid', 'reviewerName', 'isFrequentReviewer', 'reviewText',\n",
      "       'sentiment', 'title', 'audienceScore', 'rating', 'ratingContents',\n",
      "       'releaseDateTheaters', 'releaseDateStreaming', 'runtimeMinutes',\n",
      "       'genre', 'originalLanguage', 'director', 'boxOffice', 'distributor',\n",
      "       'soundType', 'reviewYN', 'reviewWC', 'genreSorted', 'rcSorted',\n",
      "       'releaseDate', 'releaseYear', 'releaseMonth', 'releaseDiff',\n",
      "       'audScoreBins', 'runtimeBins', 'boxOfficeBins', 'releaseDiffBins'],\n",
      "      dtype='object')\n",
      "\n",
      "Check 2 (preprocessor) complete.\n",
      "Shape of X_test: (55315, 29)\n",
      "Features in X_test: Index(['movieid', 'reviewerName', 'isFrequentReviewer', 'reviewText', 'title',\n",
      "       'audienceScore', 'rating', 'ratingContents', 'releaseDateTheaters',\n",
      "       'releaseDateStreaming', 'runtimeMinutes', 'genre', 'originalLanguage',\n",
      "       'director', 'boxOffice', 'distributor', 'soundType', 'reviewYN',\n",
      "       'reviewWC', 'genreSorted', 'rcSorted', 'releaseDate', 'releaseYear',\n",
      "       'releaseMonth', 'releaseDiff', 'audScoreBins', 'runtimeBins',\n",
      "       'boxOfficeBins', 'releaseDiffBins'],\n",
      "      dtype='object')\n",
      "\n",
      "Preprocessing of train and test datasets complete.\n",
      "Generating stop words/phrases specific for this project data...\n",
      "Generating vocabulary for ngram_range: (1, 3)...\n",
      "Size of vocabulary of training data: 2610596\n",
      "Generating stop words/phrases specific for this project data...\n",
      "Working on DF#1 in the list of DFs provided\n",
      "Generating vocabulary for ngram_range: (1, 1)...\n",
      "Vocabulary size for ngram-range (1, 1) in DF#1: 63881\n",
      "\n",
      "Words from the first df for ngram-range (1, 1) added.\n",
      "\n",
      "Working on DF#2 in the list of DFs provided\n",
      "Generating vocabulary for ngram_range: (1, 1)...\n",
      "Vocabulary size for ngram-range (1, 1) in DF#2: 42992\n",
      "\n",
      "Keeping only the common (intersection) words for ngram-range (1, 1)...\n",
      "Common vocabulary for ngram-range (1, 1): 35498\n",
      "\n",
      "Appended first time to final common vocabulary: ngram-range = (1, 1).\n",
      "\n",
      "Working on DF#1 in the list of DFs provided\n",
      "Generating vocabulary for ngram_range: (2, 2)...\n",
      "Vocabulary size for ngram-range (2, 2) in DF#1: 1130406\n",
      "\n",
      "Words from the first df for ngram-range (2, 2) added.\n",
      "\n",
      "Working on DF#2 in the list of DFs provided\n",
      "Generating vocabulary for ngram_range: (2, 2)...\n",
      "Vocabulary size for ngram-range (2, 2) in DF#2: 436174\n",
      "\n",
      "Keeping only the common (intersection) words for ngram-range (2, 2)...\n",
      "Common vocabulary for ngram-range (2, 2): 112530\n",
      "\n",
      "Fusing (union) with final common vocabulary: ngram-range = (2, 2).\n",
      "\n",
      "Working on DF#1 in the list of DFs provided\n",
      "Generating vocabulary for ngram_range: (3, 3)...\n",
      "Vocabulary size for ngram-range (3, 3) in DF#1: 1416309\n",
      "\n",
      "Words from the first df for ngram-range (3, 3) added.\n",
      "\n",
      "Working on DF#2 in the list of DFs provided\n",
      "Generating vocabulary for ngram_range: (3, 3)...\n",
      "Vocabulary size for ngram-range (3, 3) in DF#2: 488867\n",
      "\n",
      "Keeping only the common (intersection) words for ngram-range (3, 3)...\n",
      "Common vocabulary for ngram-range (3, 3): 22631\n",
      "\n",
      "Fusing (union) with final common vocabulary: ngram-range = (3, 3).\n",
      "\n",
      "Number of stop words: 170659\n",
      "Getting the vocabulary that will be fed to the final model(s)...\n",
      "Size of the final relevant vocabulary: 2439937\n",
      "Working on DF#1 in the list of DFs provided\n",
      "Generating vocabulary for ngram_range: (1, 1)...\n",
      "Vocabulary size for ngram-range (1, 1) in DF#1: 63881\n",
      "\n",
      "Words from the first df for ngram-range (1, 1) added.\n",
      "\n",
      "Working on DF#2 in the list of DFs provided\n",
      "Generating vocabulary for ngram_range: (1, 1)...\n",
      "Vocabulary size for ngram-range (1, 1) in DF#2: 42992\n",
      "\n",
      "Keeping only the common (intersection) words for ngram-range (1, 1)...\n",
      "Common vocabulary for ngram-range (1, 1): 35498\n",
      "\n",
      "Appended first time to final common vocabulary: ngram-range = (1, 1).\n",
      "\n",
      "Working on DF#1 in the list of DFs provided\n",
      "Generating vocabulary for ngram_range: (2, 2)...\n",
      "Vocabulary size for ngram-range (2, 2) in DF#1: 1130406\n",
      "\n",
      "Words from the first df for ngram-range (2, 2) added.\n",
      "\n",
      "Working on DF#2 in the list of DFs provided\n",
      "Generating vocabulary for ngram_range: (2, 2)...\n",
      "Vocabulary size for ngram-range (2, 2) in DF#2: 436174\n",
      "\n",
      "Keeping only the common (intersection) words for ngram-range (2, 2)...\n",
      "Common vocabulary for ngram-range (2, 2): 112530\n",
      "\n",
      "Fusing (union) with final common vocabulary: ngram-range = (2, 2).\n",
      "\n",
      "Working on DF#1 in the list of DFs provided\n",
      "Generating vocabulary for ngram_range: (3, 3)...\n",
      "Vocabulary size for ngram-range (3, 3) in DF#1: 1416309\n",
      "\n",
      "Words from the first df for ngram-range (3, 3) added.\n",
      "\n",
      "Working on DF#2 in the list of DFs provided\n",
      "Generating vocabulary for ngram_range: (3, 3)...\n",
      "Vocabulary size for ngram-range (3, 3) in DF#2: 488867\n",
      "\n",
      "Keeping only the common (intersection) words for ngram-range (3, 3)...\n",
      "Common vocabulary for ngram-range (3, 3): 22631\n",
      "\n",
      "Fusing (union) with final common vocabulary: ngram-range = (3, 3).\n",
      "\n",
      "Working on DF#1 in the list of DFs provided\n",
      "Generating vocabulary for ngram_range: (1, 1)...\n",
      "Vocabulary size for ngram-range (1, 1) in DF#1: 39254\n",
      "\n",
      "Words from the first df for ngram-range (1, 1) added.\n",
      "\n",
      "Working on DF#2 in the list of DFs provided\n",
      "Generating vocabulary for ngram_range: (1, 1)...\n",
      "Vocabulary size for ngram-range (1, 1) in DF#2: 39254\n",
      "\n",
      "Keeping only the common (intersection) words for ngram-range (1, 1)...\n",
      "Common vocabulary for ngram-range (1, 1): 39254\n",
      "\n",
      "Appended first time to final common vocabulary: ngram-range = (1, 1).\n",
      "\n",
      "Working on DF#1 in the list of DFs provided\n",
      "Generating vocabulary for ngram_range: (2, 2)...\n",
      "Vocabulary size for ngram-range (2, 2) in DF#1: 418168\n",
      "\n",
      "Words from the first df for ngram-range (2, 2) added.\n",
      "\n",
      "Working on DF#2 in the list of DFs provided\n",
      "Generating vocabulary for ngram_range: (2, 2)...\n",
      "Vocabulary size for ngram-range (2, 2) in DF#2: 418168\n",
      "\n",
      "Keeping only the common (intersection) words for ngram-range (2, 2)...\n",
      "Common vocabulary for ngram-range (2, 2): 418168\n",
      "\n",
      "Fusing (union) with final common vocabulary: ngram-range = (2, 2).\n",
      "\n",
      "Working on DF#1 in the list of DFs provided\n",
      "Generating vocabulary for ngram_range: (3, 3)...\n",
      "Vocabulary size for ngram-range (3, 3) in DF#1: 478650\n",
      "\n",
      "Words from the first df for ngram-range (3, 3) added.\n",
      "\n",
      "Working on DF#2 in the list of DFs provided\n",
      "Generating vocabulary for ngram_range: (3, 3)...\n",
      "Vocabulary size for ngram-range (3, 3) in DF#2: 478650\n",
      "\n",
      "Keeping only the common (intersection) words for ngram-range (3, 3)...\n",
      "Common vocabulary for ngram-range (3, 3): 478650\n",
      "\n",
      "Fusing (union) with final common vocabulary: ngram-range = (3, 3).\n",
      "\n",
      "Working on DF#1 in the list of DFs provided\n",
      "Generating vocabulary for ngram_range: (1, 1)...\n",
      "Vocabulary size for ngram-range (1, 1) in DF#1: 29530\n",
      "\n",
      "Words from the first df for ngram-range (1, 1) added.\n",
      "\n",
      "Working on DF#2 in the list of DFs provided\n",
      "Generating vocabulary for ngram_range: (1, 1)...\n",
      "Vocabulary size for ngram-range (1, 1) in DF#2: 29530\n",
      "\n",
      "Keeping only the common (intersection) words for ngram-range (1, 1)...\n",
      "Common vocabulary for ngram-range (1, 1): 29530\n",
      "\n",
      "Appended first time to final common vocabulary: ngram-range = (1, 1).\n",
      "\n",
      "Working on DF#1 in the list of DFs provided\n",
      "Generating vocabulary for ngram_range: (2, 2)...\n",
      "Vocabulary size for ngram-range (2, 2) in DF#1: 208463\n",
      "\n",
      "Words from the first df for ngram-range (2, 2) added.\n",
      "\n",
      "Working on DF#2 in the list of DFs provided\n",
      "Generating vocabulary for ngram_range: (2, 2)...\n",
      "Vocabulary size for ngram-range (2, 2) in DF#2: 208463\n",
      "\n",
      "Keeping only the common (intersection) words for ngram-range (2, 2)...\n",
      "Common vocabulary for ngram-range (2, 2): 208463\n",
      "\n",
      "Fusing (union) with final common vocabulary: ngram-range = (2, 2).\n",
      "\n",
      "Working on DF#1 in the list of DFs provided\n",
      "Generating vocabulary for ngram_range: (3, 3)...\n",
      "Vocabulary size for ngram-range (3, 3) in DF#1: 223076\n",
      "\n",
      "Words from the first df for ngram-range (3, 3) added.\n",
      "\n",
      "Working on DF#2 in the list of DFs provided\n",
      "Generating vocabulary for ngram_range: (3, 3)...\n",
      "Vocabulary size for ngram-range (3, 3) in DF#2: 223076\n",
      "\n",
      "Keeping only the common (intersection) words for ngram-range (3, 3)...\n",
      "Common vocabulary for ngram-range (3, 3): 223076\n",
      "\n",
      "Fusing (union) with final common vocabulary: ngram-range = (3, 3).\n",
      "\n",
      "pure_common vocabulary created. Length: 84493\n",
      "\n",
      "Selected features: {'cat': ['isFrequentReviewer'], 'num': ['audienceScore', 'boxOffice', 'releaseDiff'], 'txt': ['reviewText', 'reviewerName', 'movieid', 'genre', 'director', 'ratingContents', 'distributor', 'reviewText_2', 'reviewText_3']}\n",
      "\n",
      "Selected features: {'cat': ['isFrequentReviewer'], 'num': ['audienceScore', 'boxOffice', 'releaseDiff'], 'txt': ['reviewText', 'reviewerName', 'movieid', 'genre', 'director', 'ratingContents', 'distributor', 'reviewText_2', 'reviewText_3', 'reviewText_4']}\n",
      "\n",
      "Pipeline built successfully.\n",
      "\n",
      "Full GridSearchCV pipeline built successfully.\n",
      "GridSearchCV(cv=10,\n",
      "             estimator=Pipeline(steps=[('ct',\n",
      "                                        ColumnTransformer(transformers=[('cat',\n",
      "                                                                         OneHotEncoder(handle_unknown='ignore',\n",
      "                                                                                       sparse_output=False),\n",
      "                                                                         ['isFrequentReviewer']),\n",
      "                                                                        ('num',\n",
      "                                                                         Pipeline(steps=[('robscaler',\n",
      "                                                                                          RobustScaler()),\n",
      "                                                                                         ('stdscaler',\n",
      "                                                                                          StandardScaler()),\n",
      "                                                                                         ('poly',\n",
      "                                                                                          PolynomialFeatures(include_bias=False,\n",
      "                                                                                                             interaction_only=True))]),\n",
      "                                                                         ['audienceScore',\n",
      "                                                                          'boxO...\n",
      "                                                                                                                      'abbey',\n",
      "                                                                                                                      'abbey '\n",
      "                                                                                                                      'movie',\n",
      "                                                                                                                      'abbie',\n",
      "                                                                                                                      'abbott '\n",
      "                                                                                                                      'costello '\n",
      "                                                                                                                      'meet',\n",
      "                                                                                                                      'abc '\n",
      "                                                                                                                      'africa',\n",
      "                                                                                                                      'abc '\n",
      "                                                                                                                      'afterschool',\n",
      "                                                                                                                      'abdomen',\n",
      "                                                                                                                      'abdul '\n",
      "                                                                                                                      'mateen',\n",
      "                                                                                                                      'abdul '\n",
      "                                                                                                                      'mateen '\n",
      "                                                                                                                      'ii',\n",
      "                                                                                                                      'abel '\n",
      "                                                                                                                      'ferrara', ...}))]),\n",
      "                                                                         'reviewText_4')])),\n",
      "                                       ('model',\n",
      "                                        SGDClassifier(loss='modified_huber',\n",
      "                                                      max_iter=1000000,\n",
      "                                                      n_iter_no_change=1000,\n",
      "                                                      n_jobs=-1,\n",
      "                                                      tol=0.0001))]),\n",
      "             n_jobs=-1, param_grid={'model__alpha': [0.0001]},\n",
      "             scoring='f1_micro')\n",
      "\n",
      "Training started with full pipeline for classifier #1/1...\n",
      "\n",
      "Check #1.1 complete.\n",
      "Details of the best model using classifier #1 (GridSearchCV) on X_train: \n",
      "Best Params: {'model__alpha': 0.0001}\n",
      "Best Score: 0.8439523730246188\n",
      "Confusion matrix and f1-score for rows which have no reviewText in X_train: \n",
      "[[1700  705]\n",
      " [ 266 3776]]\n",
      "0.8493873119280284\n",
      "classifier_1 successfully added to 'estimators' list\n",
      "Confusion matrix for predictions on training data: \n",
      "[[ 53262    735]\n",
      " [   280 108481]]\n",
      "F1-score on training data: 0.9937637474041214\n",
      "(55315, 1)\n",
      "     pred_1\n",
      "0  POSITIVE\n",
      "1  POSITIVE\n",
      "2  POSITIVE\n",
      "3  POSITIVE\n",
      "4  POSITIVE\n",
      "5  POSITIVE\n",
      "6  POSITIVE\n",
      "7  POSITIVE\n",
      "8  NEGATIVE\n",
      "9  NEGATIVE\n",
      "\n",
      "Check #1.2 complete.\n",
      "Details of the best model using full pipeline (GridSearchCV) on X_train: \n",
      "Best Params: {'model__alpha': 0.0001}\n",
      "Best Score: 0.8439523730246188\n",
      "Refit Time: 413.98593950271606\n",
      "\n",
      "Successfully created the submission file!!!\n"
     ]
    }
   ],
   "source": [
    "# Testing ONE classfier using submit_v5 function  \n",
    "\n",
    "# Feature dictionaries\n",
    "sfs = {'cat': ['isFrequentReviewer', 'rating'],\n",
    "       'num': [\"audienceScore\", \"runtimeMinutes\", \"boxOffice\", 'releaseDiff']}\n",
    "\n",
    "sf_best = {'cat': ['isFrequentReviewer'],\n",
    "            'num': [\"audienceScore\", \"boxOffice\", 'releaseDiff'],\n",
    "            'txt': ['reviewText', 'reviewerName', 'movieid', 'genre', 'director', \n",
    "                         'ratingContents', 'distributor']}\n",
    "\n",
    "alt_text = {'txt': ['reviewerName', 'movieid', 'genre', 'director', \n",
    "                         'ratingContents', 'distributor']}\n",
    "\n",
    "v88_dict = {'cat': ['isFrequentReviewer', 'audScoreBins', 'boxOfficeBins'],\n",
    "            'num': ['releaseDiff'],\n",
    "            'txt': ['reviewText', 'reviewerName', 'movieid', 'genre', 'director', \n",
    "                         'ratingContents', 'distributor']}\n",
    "\n",
    "# SGDClassifier hyperparameters  \n",
    "# \"model__loss\": ['hinge', 'log_loss', 'modified_huber', \n",
    "#                                                   'squared_hinge', 'perceptron', \n",
    "#                                                   'squared_error', 'huber', \n",
    "#                                                   'epsilon_insensitive', 'squared_epsilon_insensitive']\n",
    "\n",
    "# 'param_grid' : {\"model__alpha\": [0.0001], \n",
    "#                   'model__tol': [0.0001],\n",
    "#                   \"model__penalty\": [\"l2\"],\n",
    "#                   \"model__n_iter_no_change\": [100],\n",
    "#                  }\n",
    "\n",
    "# Best models \n",
    "# For sf_best features\n",
    "#                 {'selected_model' : SGDClassifier(loss='hinge', \n",
    "#                                      max_iter=1000000,\n",
    "#                                      alpha = 0.0001,\n",
    "#                                      tol = 0.0001,\n",
    "#                                      penalty = \"l2\",\n",
    "#                                      n_iter_no_change = 100,\n",
    "#                                      n_jobs = -1), \n",
    "#                   'selected_features' : sf_best, \n",
    "#                   'param_grid' : {\"model__alpha\": [ 0.0001]},\n",
    "#                   'vocab' : True,\n",
    "#                   'vocab_usage' : 'tfidf',\n",
    "#                   'strip_accents' : 'unicode', \n",
    "#                   'add_countvec' : True},\n",
    "\n",
    "# For sfs features\n",
    "#                 {'selected_model' : RandomForestClassifier(n_jobs = -1), \n",
    "#                   'selected_features' : sfs, \n",
    "#                   'param_grid': {'model__n_estimators': [100]},\n",
    "#                   'vocab' : None,\n",
    "#                   'vocab_usage' : 'tfidf',\n",
    "#                   'strip_accents' : 'unicode', \n",
    "#                   'add_countvec' : False}\n",
    "\n",
    "# Best SGD classifer (with params)  \n",
    "sgdc = SGDClassifier(loss='modified_huber', \n",
    "                     max_iter=1000000,\n",
    "                     alpha = 0.0001,\n",
    "                     tol = 0.0001,\n",
    "                     penalty = \"l2\",\n",
    "                     n_iter_no_change = 1000,\n",
    "                     n_jobs = -1)\n",
    "\n",
    "# Classifiers\n",
    "classifiers= [   \n",
    "                {'selected_model' : sgdc, \n",
    "                  'selected_features' : sf_best, \n",
    "                  'param_grid' : {\"model__alpha\": [0.0001]},\n",
    "                  'vocab' : True,\n",
    "                  'vocab_usage' : 'tfidf',\n",
    "                  'strip_accents' : 'unicode', \n",
    "                  'add_countvec' : True,\n",
    "                    'vocab_audscore' : True},\n",
    "            ]\n",
    "\n",
    "# classifiers= [\n",
    "#                 {'selected_model' : LogisticRegression(C=1, solver='saga', max_iter=100000), \n",
    "#                   'selected_features' : {'txt': [\"reviewText\"]}, \n",
    "#                   'param_grid' : {\"model__C\": [1], \n",
    "#                                   'model__solver': ['saga']},\n",
    "#                   'vocab' : None,\n",
    "#                   'vocab_usage' : 'tfidf',\n",
    "#                   'strip_accents' : 'unicode', \n",
    "#                   'add_countvec' : False},\n",
    "#             ]\n",
    "\n",
    "pred_df, estimators = submit_v5(classifiers=classifiers, imputer_type='knn', poly=True)"
   ]
  },
  {
   "cell_type": "code",
   "execution_count": 127,
   "id": "76828dc9",
   "metadata": {
    "execution": {
     "iopub.execute_input": "2023-08-13T06:10:14.906399Z",
     "iopub.status.busy": "2023-08-13T06:10:14.905942Z",
     "iopub.status.idle": "2023-08-13T06:10:14.913894Z",
     "shell.execute_reply": "2023-08-13T06:10:14.912632Z"
    },
    "papermill": {
     "duration": 0.124715,
     "end_time": "2023-08-13T06:10:14.916109",
     "exception": false,
     "start_time": "2023-08-13T06:10:14.791394",
     "status": "completed"
    },
    "tags": []
   },
   "outputs": [
    {
     "name": "stdout",
     "output_type": "stream",
     "text": [
      "(55315, 1)\n",
      "   sentiment\n",
      "id          \n",
      "0   POSITIVE\n",
      "1   POSITIVE\n",
      "2   POSITIVE\n",
      "3   POSITIVE\n",
      "4   POSITIVE\n"
     ]
    }
   ],
   "source": [
    "print(pred_df.shape)\n",
    "print(pred_df.head())"
   ]
  },
  {
   "cell_type": "code",
   "execution_count": 128,
   "id": "9fba4d75",
   "metadata": {
    "execution": {
     "iopub.execute_input": "2023-08-13T06:10:15.148079Z",
     "iopub.status.busy": "2023-08-13T06:10:15.147652Z",
     "iopub.status.idle": "2023-08-13T06:10:15.152325Z",
     "shell.execute_reply": "2023-08-13T06:10:15.151285Z"
    },
    "papermill": {
     "duration": 0.123387,
     "end_time": "2023-08-13T06:10:15.154391",
     "exception": false,
     "start_time": "2023-08-13T06:10:15.031004",
     "status": "completed"
    },
    "tags": []
   },
   "outputs": [],
   "source": [
    "# estimators"
   ]
  },
  {
   "cell_type": "code",
   "execution_count": 129,
   "id": "d2df0204",
   "metadata": {
    "execution": {
     "iopub.execute_input": "2023-08-13T06:10:15.382833Z",
     "iopub.status.busy": "2023-08-13T06:10:15.382431Z",
     "iopub.status.idle": "2023-08-13T06:10:15.389284Z",
     "shell.execute_reply": "2023-08-13T06:10:15.388101Z"
    },
    "papermill": {
     "duration": 0.124301,
     "end_time": "2023-08-13T06:10:15.391663",
     "exception": false,
     "start_time": "2023-08-13T06:10:15.267362",
     "status": "completed"
    },
    "tags": []
   },
   "outputs": [
    {
     "name": "stdout",
     "output_type": "stream",
     "text": [
      "Number of estimators: 1\n",
      "\n",
      "Estimator: classifier_1\n",
      "{'model__alpha': 0.0001}\n",
      "0.8439523730246188\n",
      "413.98593950271606\n",
      "\n"
     ]
    }
   ],
   "source": [
    "print(f\"Number of estimators: {len(estimators)}\\n\")\n",
    "for est in estimators:\n",
    "    print(f\"Estimator: {est[0]}\")\n",
    "#     print(est[1].best_estimator_)\n",
    "    print(est[1].best_params_)\n",
    "    print(est[1].best_score_)\n",
    "    print(est[1].refit_time_)\n",
    "    print()"
   ]
  },
  {
   "cell_type": "code",
   "execution_count": 130,
   "id": "a506c9a8",
   "metadata": {
    "execution": {
     "iopub.execute_input": "2023-08-13T06:10:15.623550Z",
     "iopub.status.busy": "2023-08-13T06:10:15.623130Z",
     "iopub.status.idle": "2023-08-13T06:10:15.629917Z",
     "shell.execute_reply": "2023-08-13T06:10:15.628723Z"
    },
    "papermill": {
     "duration": 0.125719,
     "end_time": "2023-08-13T06:10:15.632036",
     "exception": false,
     "start_time": "2023-08-13T06:10:15.506317",
     "status": "completed"
    },
    "tags": []
   },
   "outputs": [],
   "source": [
    "# Testing full capabilites of submit_v5  \n",
    "\n",
    "# # Feature dictionaries\n",
    "# sf1 = {'cat': ['isFrequentReviewer', 'rating'],\n",
    "#        'num': [\"audienceScore\", \"runtimeMinutes\", \"boxOffice\"]}\n",
    "\n",
    "# sf2 = {'cat': ['isFrequentReviewer', 'rating'],\n",
    "#        'num': [\"audienceScore\", \"runtimeMinutes\", \"boxOffice\"]}\n",
    "\n",
    "# sf3 = {'cat': ['isFrequentReviewer'],\n",
    "#         'num': ['releaseDiff', 'audienceScore', 'boxOffice'],\n",
    "#         'txt': ['reviewText', 'reviewerName', 'movieid', 'genre', 'director', \n",
    "#                          'ratingContents', 'distributor']}\n",
    "\n",
    "# # Individual classifiers\n",
    "# clf1 =  {'selected_model' : AdaBoostClassifier(), \n",
    "#           'selected_features' : sf1, \n",
    "#           'param_grid' : {\"model__n_estimators\": [50]},\n",
    "#           'vocab' : None,\n",
    "#           'vocab_usage' : 'tfidf',\n",
    "#           'strip_accents' : 'unicode', \n",
    "#           'add_countvec' : False}\n",
    "\n",
    "# clf2 =  {'selected_model' : RandomForestClassifier(), \n",
    "#           'selected_features' : sf2,\n",
    "#           'param_grid' : {\"model__n_estimators\": [50], \n",
    "#                           'model__criterion': ['gini']},\n",
    "#           'vocab' : None,\n",
    "#           'vocab_usage' : 'tfidf',\n",
    "#           'strip_accents' : 'unicode', \n",
    "#           'add_countvec' : False}\n",
    "\n",
    "# clf3 =  {'selected_model' : LogisticRegression(C=1, solver='saga', max_iter=100000), \n",
    "#           'selected_features' : sf3, \n",
    "#           'param_grid' : {'model__C' : [1],\n",
    "#                             'model__solver': ['saga'],\n",
    "#                             \"model__fit_intercept\" : [True],\n",
    "#                             \"model__dual\" : [False]},\n",
    "#           'vocab' : None,\n",
    "#           'vocab_usage' : 'tfidf',\n",
    "#           'strip_accents' : 'unicode', \n",
    "#           'add_countvec' : True}\n",
    "\n",
    "\n",
    "# # List of classifiers for voting\n",
    "# classifiers= [clf1, clf2, clf3]\n",
    "\n",
    "# # Final predictions \n",
    "# pred_df = submit_v5(classifiers=classifiers)"
   ]
  },
  {
   "cell_type": "code",
   "execution_count": 131,
   "id": "d8475d5d",
   "metadata": {
    "execution": {
     "iopub.execute_input": "2023-08-13T06:10:15.864614Z",
     "iopub.status.busy": "2023-08-13T06:10:15.864217Z",
     "iopub.status.idle": "2023-08-13T06:10:15.876596Z",
     "shell.execute_reply": "2023-08-13T06:10:15.875512Z"
    },
    "papermill": {
     "duration": 0.133265,
     "end_time": "2023-08-13T06:10:15.878690",
     "exception": false,
     "start_time": "2023-08-13T06:10:15.745425",
     "status": "completed"
    },
    "tags": []
   },
   "outputs": [
    {
     "name": "stdout",
     "output_type": "stream",
     "text": [
      "(55315, 1)\n"
     ]
    },
    {
     "data": {
      "text/html": [
       "<div>\n",
       "<style scoped>\n",
       "    .dataframe tbody tr th:only-of-type {\n",
       "        vertical-align: middle;\n",
       "    }\n",
       "\n",
       "    .dataframe tbody tr th {\n",
       "        vertical-align: top;\n",
       "    }\n",
       "\n",
       "    .dataframe thead th {\n",
       "        text-align: right;\n",
       "    }\n",
       "</style>\n",
       "<table border=\"1\" class=\"dataframe\">\n",
       "  <thead>\n",
       "    <tr style=\"text-align: right;\">\n",
       "      <th></th>\n",
       "      <th>sentiment</th>\n",
       "    </tr>\n",
       "    <tr>\n",
       "      <th>id</th>\n",
       "      <th></th>\n",
       "    </tr>\n",
       "  </thead>\n",
       "  <tbody>\n",
       "    <tr>\n",
       "      <th>0</th>\n",
       "      <td>POSITIVE</td>\n",
       "    </tr>\n",
       "    <tr>\n",
       "      <th>1</th>\n",
       "      <td>POSITIVE</td>\n",
       "    </tr>\n",
       "    <tr>\n",
       "      <th>2</th>\n",
       "      <td>POSITIVE</td>\n",
       "    </tr>\n",
       "    <tr>\n",
       "      <th>3</th>\n",
       "      <td>POSITIVE</td>\n",
       "    </tr>\n",
       "    <tr>\n",
       "      <th>4</th>\n",
       "      <td>POSITIVE</td>\n",
       "    </tr>\n",
       "    <tr>\n",
       "      <th>...</th>\n",
       "      <td>...</td>\n",
       "    </tr>\n",
       "    <tr>\n",
       "      <th>55310</th>\n",
       "      <td>POSITIVE</td>\n",
       "    </tr>\n",
       "    <tr>\n",
       "      <th>55311</th>\n",
       "      <td>NEGATIVE</td>\n",
       "    </tr>\n",
       "    <tr>\n",
       "      <th>55312</th>\n",
       "      <td>NEGATIVE</td>\n",
       "    </tr>\n",
       "    <tr>\n",
       "      <th>55313</th>\n",
       "      <td>POSITIVE</td>\n",
       "    </tr>\n",
       "    <tr>\n",
       "      <th>55314</th>\n",
       "      <td>NEGATIVE</td>\n",
       "    </tr>\n",
       "  </tbody>\n",
       "</table>\n",
       "<p>55315 rows × 1 columns</p>\n",
       "</div>"
      ],
      "text/plain": [
       "      sentiment\n",
       "id             \n",
       "0      POSITIVE\n",
       "1      POSITIVE\n",
       "2      POSITIVE\n",
       "3      POSITIVE\n",
       "4      POSITIVE\n",
       "...         ...\n",
       "55310  POSITIVE\n",
       "55311  NEGATIVE\n",
       "55312  NEGATIVE\n",
       "55313  POSITIVE\n",
       "55314  NEGATIVE\n",
       "\n",
       "[55315 rows x 1 columns]"
      ]
     },
     "execution_count": 131,
     "metadata": {},
     "output_type": "execute_result"
    }
   ],
   "source": [
    "print(pred_df.shape)\n",
    "pred_df"
   ]
  },
  {
   "cell_type": "code",
   "execution_count": 132,
   "id": "dfff7cd9",
   "metadata": {
    "execution": {
     "iopub.execute_input": "2023-08-13T06:10:16.133224Z",
     "iopub.status.busy": "2023-08-13T06:10:16.132790Z",
     "iopub.status.idle": "2023-08-13T06:10:16.137074Z",
     "shell.execute_reply": "2023-08-13T06:10:16.136080Z"
    },
    "papermill": {
     "duration": 0.127049,
     "end_time": "2023-08-13T06:10:16.139431",
     "exception": false,
     "start_time": "2023-08-13T06:10:16.012382",
     "status": "completed"
    },
    "tags": []
   },
   "outputs": [],
   "source": [
    "# pred_df_mode = pred_df.mode(axis='columns')\n",
    "# print(pred_df_mode.shape)\n",
    "# pred_df_mode"
   ]
  },
  {
   "cell_type": "code",
   "execution_count": 133,
   "id": "4d4b1b2c",
   "metadata": {
    "execution": {
     "iopub.execute_input": "2023-08-13T06:10:16.370843Z",
     "iopub.status.busy": "2023-08-13T06:10:16.370375Z",
     "iopub.status.idle": "2023-08-13T06:10:16.387941Z",
     "shell.execute_reply": "2023-08-13T06:10:16.386884Z"
    },
    "papermill": {
     "duration": 0.135829,
     "end_time": "2023-08-13T06:10:16.390180",
     "exception": false,
     "start_time": "2023-08-13T06:10:16.254351",
     "status": "completed"
    },
    "tags": []
   },
   "outputs": [
    {
     "data": {
      "text/plain": [
       "sentiment\n",
       "POSITIVE     38647\n",
       "NEGATIVE     16668\n",
       "dtype: int64"
      ]
     },
     "execution_count": 133,
     "metadata": {},
     "output_type": "execute_result"
    }
   ],
   "source": [
    "pred_df.value_counts()"
   ]
  },
  {
   "cell_type": "markdown",
   "id": "2ca14368",
   "metadata": {
    "papermill": {
     "duration": 0.116132,
     "end_time": "2023-08-13T06:10:16.623969",
     "exception": false,
     "start_time": "2023-08-13T06:10:16.507837",
     "status": "completed"
    },
    "tags": []
   },
   "source": [
    "# NOTE: Move submit_v4 submissions below the suubmit_v4 function  "
   ]
  },
  {
   "cell_type": "code",
   "execution_count": 134,
   "id": "b3c85277",
   "metadata": {
    "execution": {
     "iopub.execute_input": "2023-08-13T06:10:16.856977Z",
     "iopub.status.busy": "2023-08-13T06:10:16.856604Z",
     "iopub.status.idle": "2023-08-13T06:10:16.860534Z",
     "shell.execute_reply": "2023-08-13T06:10:16.859709Z"
    },
    "papermill": {
     "duration": 0.12169,
     "end_time": "2023-08-13T06:10:16.862450",
     "exception": false,
     "start_time": "2023-08-13T06:10:16.740760",
     "status": "completed"
    },
    "tags": []
   },
   "outputs": [],
   "source": [
    "# Try 'submit_v4' function with default params (LogisticRegression model)  \n",
    "\n",
    "# submit_v4()\n",
    "\n",
    "#Default params to this function gave a score of 0.8259 - improvement over previous score of 0.82563!"
   ]
  },
  {
   "cell_type": "code",
   "execution_count": 135,
   "id": "f7457860",
   "metadata": {
    "execution": {
     "iopub.execute_input": "2023-08-13T06:10:17.170252Z",
     "iopub.status.busy": "2023-08-13T06:10:17.169500Z",
     "iopub.status.idle": "2023-08-13T06:10:17.173803Z",
     "shell.execute_reply": "2023-08-13T06:10:17.172720Z"
    },
    "papermill": {
     "duration": 0.123731,
     "end_time": "2023-08-13T06:10:17.176161",
     "exception": false,
     "start_time": "2023-08-13T06:10:17.052430",
     "status": "completed"
    },
    "tags": []
   },
   "outputs": [],
   "source": [
    "# Try out GridSearchCV on \"submit_v4\" function with param_grid  \n",
    "# param_grid = {\n",
    "#     \"model__C\": [0.1, 1, 5, 10]\n",
    "# }\n",
    "\n",
    "# submit_v4(selected_features={'txt': ['genre']}, param_grid=param_grid)"
   ]
  },
  {
   "cell_type": "markdown",
   "id": "8fbce6af",
   "metadata": {
    "papermill": {
     "duration": 0.114373,
     "end_time": "2023-08-13T06:10:17.404515",
     "exception": false,
     "start_time": "2023-08-13T06:10:17.290142",
     "status": "completed"
    },
    "tags": []
   },
   "source": [
    "### Try LinearSVC with GridSearchCV  "
   ]
  },
  {
   "cell_type": "code",
   "execution_count": 136,
   "id": "172a766f",
   "metadata": {
    "execution": {
     "iopub.execute_input": "2023-08-13T06:10:17.634971Z",
     "iopub.status.busy": "2023-08-13T06:10:17.633683Z",
     "iopub.status.idle": "2023-08-13T06:10:17.639020Z",
     "shell.execute_reply": "2023-08-13T06:10:17.638286Z"
    },
    "papermill": {
     "duration": 0.123456,
     "end_time": "2023-08-13T06:10:17.641448",
     "exception": false,
     "start_time": "2023-08-13T06:10:17.517992",
     "status": "completed"
    },
    "tags": []
   },
   "outputs": [],
   "source": [
    "# all_dict = {'cat': [\"isFrequentReviewer\", \"rating\", \"originalLanguage\"],\n",
    "#              'num': [\"audienceScore\", \"runtimeMinutes\", \"boxOffice\"],\n",
    "#              'txt': ['reviewText', 'reviewerName', 'movieid', 'genre', 'director']}\n",
    "\n",
    "# param_grid_svc = {\n",
    "#     \"model__C\": [0.1, 1, 10, 100]\n",
    "# }\n",
    "# param_grid_svc"
   ]
  },
  {
   "cell_type": "code",
   "execution_count": 137,
   "id": "c096d3e7",
   "metadata": {
    "execution": {
     "iopub.execute_input": "2023-08-13T06:10:17.873654Z",
     "iopub.status.busy": "2023-08-13T06:10:17.873231Z",
     "iopub.status.idle": "2023-08-13T06:10:17.878274Z",
     "shell.execute_reply": "2023-08-13T06:10:17.877044Z"
    },
    "papermill": {
     "duration": 0.123978,
     "end_time": "2023-08-13T06:10:17.880510",
     "exception": false,
     "start_time": "2023-08-13T06:10:17.756532",
     "status": "completed"
    },
    "tags": []
   },
   "outputs": [],
   "source": [
    "# LinearSCV on single feature  \n",
    "\n",
    "# submit_v4(selected_model=LinearSVC(max_iter=100000, random_state=42), selected_features={'num': [\"audienceScore\"]}, param_grid=param_grid_svc)\n",
    "\n",
    "# Comment: LinearSVC even on single column feature set takes too long to converge."
   ]
  },
  {
   "cell_type": "code",
   "execution_count": 138,
   "id": "232f3a62",
   "metadata": {
    "execution": {
     "iopub.execute_input": "2023-08-13T06:10:18.114801Z",
     "iopub.status.busy": "2023-08-13T06:10:18.114435Z",
     "iopub.status.idle": "2023-08-13T06:10:18.118726Z",
     "shell.execute_reply": "2023-08-13T06:10:18.117632Z"
    },
    "papermill": {
     "duration": 0.125299,
     "end_time": "2023-08-13T06:10:18.120875",
     "exception": false,
     "start_time": "2023-08-13T06:10:17.995576",
     "status": "completed"
    },
    "tags": []
   },
   "outputs": [],
   "source": [
    "# LinearSCV on all available features\n",
    "\n",
    "# submit_v4(selected_model=LinearSVC(max_iter=100000, random_state=42), selected_features=all_dict, param_grid=param_grid_svc)\n",
    "\n",
    "# (Update): This took 66 mins to run and gave a public score of 0.84295 (lesser than logreg gridsearchcv wwhich gave 0.84441). Best C was 1.0.\n"
   ]
  },
  {
   "cell_type": "markdown",
   "id": "a892d661",
   "metadata": {
    "papermill": {
     "duration": 0.114152,
     "end_time": "2023-08-13T06:10:18.349486",
     "exception": false,
     "start_time": "2023-08-13T06:10:18.235334",
     "status": "completed"
    },
    "tags": []
   },
   "source": [
    "### Boosting techniques  "
   ]
  },
  {
   "cell_type": "code",
   "execution_count": 139,
   "id": "4f0cdeb0",
   "metadata": {
    "execution": {
     "iopub.execute_input": "2023-08-13T06:10:18.581112Z",
     "iopub.status.busy": "2023-08-13T06:10:18.580083Z",
     "iopub.status.idle": "2023-08-13T06:10:18.585638Z",
     "shell.execute_reply": "2023-08-13T06:10:18.584448Z"
    },
    "papermill": {
     "duration": 0.123859,
     "end_time": "2023-08-13T06:10:18.587787",
     "exception": false,
     "start_time": "2023-08-13T06:10:18.463928",
     "status": "completed"
    },
    "tags": []
   },
   "outputs": [],
   "source": [
    "# adc = AdaBoostClassifier(estimator=LogisticRegression(C=5, solver=\"saga\", max_iter=100000), n_estimators=50)\n",
    "# adc"
   ]
  },
  {
   "cell_type": "code",
   "execution_count": 140,
   "id": "55c5ca93",
   "metadata": {
    "execution": {
     "iopub.execute_input": "2023-08-13T06:10:18.818867Z",
     "iopub.status.busy": "2023-08-13T06:10:18.818493Z",
     "iopub.status.idle": "2023-08-13T06:10:18.822651Z",
     "shell.execute_reply": "2023-08-13T06:10:18.821796Z"
    },
    "papermill": {
     "duration": 0.121518,
     "end_time": "2023-08-13T06:10:18.824538",
     "exception": false,
     "start_time": "2023-08-13T06:10:18.703020",
     "status": "completed"
    },
    "tags": []
   },
   "outputs": [],
   "source": [
    "# submit_v4(selected_model=adc, selected_features={'num': [\"audienceScore\"]}, param_grid=None)"
   ]
  },
  {
   "cell_type": "code",
   "execution_count": 141,
   "id": "75b6f6e9",
   "metadata": {
    "execution": {
     "iopub.execute_input": "2023-08-13T06:10:19.058057Z",
     "iopub.status.busy": "2023-08-13T06:10:19.057239Z",
     "iopub.status.idle": "2023-08-13T06:10:19.062060Z",
     "shell.execute_reply": "2023-08-13T06:10:19.061242Z"
    },
    "papermill": {
     "duration": 0.126074,
     "end_time": "2023-08-13T06:10:19.064365",
     "exception": false,
     "start_time": "2023-08-13T06:10:18.938291",
     "status": "completed"
    },
    "tags": []
   },
   "outputs": [],
   "source": [
    "# submit_v4(selected_model=adc, selected_features=all_dict, param_grid=None)\n",
    "\n",
    "# Took 1 hour 15 mins to run and gave a public score of only 0.71089. Discarded."
   ]
  },
  {
   "cell_type": "markdown",
   "id": "c133f75d",
   "metadata": {
    "papermill": {
     "duration": 0.112726,
     "end_time": "2023-08-13T06:10:19.292661",
     "exception": false,
     "start_time": "2023-08-13T06:10:19.179935",
     "status": "completed"
    },
    "tags": []
   },
   "source": [
    "### LightGBM  "
   ]
  },
  {
   "cell_type": "code",
   "execution_count": 142,
   "id": "cba0c5c3",
   "metadata": {
    "execution": {
     "iopub.execute_input": "2023-08-13T06:10:19.521844Z",
     "iopub.status.busy": "2023-08-13T06:10:19.521031Z",
     "iopub.status.idle": "2023-08-13T06:10:19.526902Z",
     "shell.execute_reply": "2023-08-13T06:10:19.526094Z"
    },
    "papermill": {
     "duration": 0.123415,
     "end_time": "2023-08-13T06:10:19.529150",
     "exception": false,
     "start_time": "2023-08-13T06:10:19.405735",
     "status": "completed"
    },
    "tags": []
   },
   "outputs": [],
   "source": [
    "# lgb = ltb.LGBMClassifier()\n",
    "# lgb"
   ]
  },
  {
   "cell_type": "code",
   "execution_count": 143,
   "id": "956cfd90",
   "metadata": {
    "execution": {
     "iopub.execute_input": "2023-08-13T06:10:19.759141Z",
     "iopub.status.busy": "2023-08-13T06:10:19.758776Z",
     "iopub.status.idle": "2023-08-13T06:10:19.763259Z",
     "shell.execute_reply": "2023-08-13T06:10:19.762176Z"
    },
    "papermill": {
     "duration": 0.121605,
     "end_time": "2023-08-13T06:10:19.765474",
     "exception": false,
     "start_time": "2023-08-13T06:10:19.643869",
     "status": "completed"
    },
    "tags": []
   },
   "outputs": [],
   "source": [
    "# Try LightGBM with default settings\n",
    "# (Update): Public score only 0.77713. It was fast, took less than 5 mins (without GridSearchCV)\n",
    "\n",
    "# submit_v4(selected_model=ltb.LGBMClassifier(), selected_features=all_dict, param_grid=None)"
   ]
  },
  {
   "cell_type": "markdown",
   "id": "afff2e20",
   "metadata": {
    "papermill": {
     "duration": 0.113603,
     "end_time": "2023-08-13T06:10:19.992704",
     "exception": false,
     "start_time": "2023-08-13T06:10:19.879101",
     "status": "completed"
    },
    "tags": []
   },
   "source": [
    "## Feature Engineering"
   ]
  },
  {
   "cell_type": "markdown",
   "id": "9b29e40c",
   "metadata": {
    "papermill": {
     "duration": 0.112864,
     "end_time": "2023-08-13T06:10:20.220663",
     "exception": false,
     "start_time": "2023-08-13T06:10:20.107799",
     "status": "completed"
    },
    "tags": []
   },
   "source": [
    "### Plan  \n",
    "* Add a new column 'reviewWC' which has word count of 'reviewText'  \n",
    "    * Check if there is any relationship between 'reviewWC' and 'sentiment'\n",
    "* Work on vocabulary\n",
    "     * Use TfidfVectorizer and find out the vocabulary of 'reviewText' column for various ngrams\n",
    "     * Use RecursiveFeatureElimination (RFE) or RFECV to select 1000 top words/vocab for each ngram\n",
    "     * Use the final vocab (1000-3000 words) in the model and see how it performs compared to whole vocab\n",
    "\n",
    "`(Update): Code incorporated into the \"select_features\" function  `  \n",
    "`(Update): Many other new features incorporated into the \"select_features\" function too  `  \n",
    "\n"
   ]
  },
  {
   "cell_type": "markdown",
   "id": "0de20cd8",
   "metadata": {
    "papermill": {
     "duration": 0.112896,
     "end_time": "2023-08-13T06:10:20.447336",
     "exception": false,
     "start_time": "2023-08-13T06:10:20.334440",
     "status": "completed"
    },
    "tags": []
   },
   "source": [
    "# Back to vocab after success of version 63  "
   ]
  },
  {
   "cell_type": "code",
   "execution_count": 144,
   "id": "9210c755",
   "metadata": {
    "execution": {
     "iopub.execute_input": "2023-08-13T06:10:20.677009Z",
     "iopub.status.busy": "2023-08-13T06:10:20.676172Z",
     "iopub.status.idle": "2023-08-13T06:10:20.697148Z",
     "shell.execute_reply": "2023-08-13T06:10:20.696345Z"
    },
    "papermill": {
     "duration": 0.139267,
     "end_time": "2023-08-13T06:10:20.699784",
     "exception": false,
     "start_time": "2023-08-13T06:10:20.560517",
     "status": "completed"
    },
    "tags": []
   },
   "outputs": [],
   "source": [
    "def submit_v4(selected_model=LogisticRegression(C=1, solver='liblinear', max_iter=100000), \n",
    "              selected_features={'txt': ['reviewText']}, \n",
    "              param_grid=None,\n",
    "              vocab=None,\n",
    "              vocab_usage='tfidf',\n",
    "              strip_accents='unicode', \n",
    "              add_countvec=False):\n",
    "    \n",
    "    print(\"\\nRunning the submit_v4 function...\")\n",
    "    \n",
    "    # Fine tune selected_features\n",
    "    if add_countvec:\n",
    "        if 'txt' in selected_features.keys():\n",
    "            if \"reviewText_2\" not in selected_features['txt']:\n",
    "                selected_features['txt'].append('reviewText_2')\n",
    "    if vocab:\n",
    "        if 'txt' in selected_features.keys():\n",
    "            if \"reviewText_3\" not in selected_features['txt']:\n",
    "                selected_features['txt'].append('reviewText_3')\n",
    "    print(f\"\\nSelected features: {selected_features}\")\n",
    "\n",
    "    \n",
    "    \n",
    "    # Build Pipeline\n",
    "    pipe = build_pipeline(selected_model, selected_features, param_grid=param_grid, \n",
    "                          vocab=vocab, vocab_usage='tfidf', \n",
    "                          strip_accents=strip_accents, add_countvec=add_countvec)\n",
    "    print(pipe)\n",
    "\n",
    "    \n",
    "    \n",
    "    # Features list\n",
    "    features = []\n",
    "    for item in selected_features.values():\n",
    "        features.extend(item)\n",
    " \n",
    "\n",
    "    # Merge and preprocess train and movies data  \n",
    "    merged = select_features(load_csv(\"train\"), load_csv(\"movies\"), row_thresh_null=None)    # Decide if you want to drop any rows containing lot of nulls\n",
    "    # Impute missing numerical values  \n",
    "    # Simple Imputer for ['audienceScore', 'runtimeMinutes', 'boxOffice'] and 'releaseDate' columns\n",
    "    si = SimpleImputer(strategy='median')\n",
    "    merged[['audienceScore', 'runtimeMinutes', 'boxOffice']] = si.fit_transform(merged[['audienceScore', 'runtimeMinutes', 'boxOffice']])\n",
    "    merged['releaseDate'] = merged[\"releaseDate\"].fillna(merged[\"releaseDate\"].median())    \n",
    "    # Add new columns as needed  \n",
    "    if add_countvec:\n",
    "        merged['reviewText_2'] = merged['reviewText']\n",
    "    if vocab:\n",
    "        merged['reviewText_3'] = merged['reviewText']\n",
    "        \n",
    "    X_train = merged.drop(labels=\"sentiment\", axis=1)\n",
    "    y_train = merged[\"sentiment\"]\n",
    "\n",
    "    X_train = X_train[features]\n",
    "    \n",
    "    \n",
    "    # Check1\n",
    "    print(\"\\nCheck 1 complete.\")\n",
    "    print(f\"Shape of X_train: {X_train.shape}\")\n",
    "    print(f\"Features in X_train: {X_train.columns}\")\n",
    "#     print(X_train.head())\n",
    "    \n",
    "    \n",
    "    # Fit \n",
    "    print(\"\\nTraining started with full pipeline...\")\n",
    "    pipe.fit(X_train, y_train)\n",
    "    \n",
    "    # Check2\n",
    "    print(\"\\nCheck 2 complete.\")\n",
    "    print(\"Details of the best model using full pipeline (GridSearchCV) on X_train: \")\n",
    "    print(f\"Best Params: {pipe.best_params_}\")\n",
    "    print(f\"Best Score: {pipe.best_score_}\")\n",
    "    \n",
    "    print(predict_on_missing_review_data(pipe, features, merged))    # Function defined above\n",
    "    \n",
    "        \n",
    "    # Predict on test.csv file\n",
    "    \n",
    "    # Merge and preprocess test and movies data  \n",
    "    merged_test = select_features(load_csv(\"test\"), load_csv(\"movies\"))\n",
    "    # Transform ['audienceScore', 'runtimeMinutes', 'boxOffice'] columns in merged_test using 'si' fitted on 'merged' df  \n",
    "    merged_test[['audienceScore', 'runtimeMinutes', 'boxOffice']] = si.transform(merged_test[['audienceScore', 'runtimeMinutes', 'boxOffice']])\n",
    "    # Fill 'releaseDate' column in 'merged_test' df with median from the train (merged) df  \n",
    "    merged_test['releaseDate'] = merged_test[\"releaseDate\"].fillna(merged[\"releaseDate\"].median())\n",
    "    # Add new columns as needed \n",
    "    if add_countvec:\n",
    "        merged_test['reviewText_2'] = merged_test['reviewText']\n",
    "    if vocab:\n",
    "        merged_test['reviewText_3'] = merged_test['reviewText']\n",
    "        \n",
    "    X_test = merged_test.copy()\n",
    "\n",
    "    X_test = X_test[features]\n",
    "    \n",
    "    \n",
    "    # Check3\n",
    "    print(\"\\nCheck 3 complete.\")\n",
    "    print(f\"Shape of X_test: {X_test.shape}\")\n",
    "    print(f\"Features in X_test: {X_test.columns}\")\n",
    "#     print(X_test.head())\n",
    "    \n",
    "    y_pred = pipe.predict(X_test)\n",
    "    \n",
    "    # Check4\n",
    "    print(\"\\nCheck 4 complete.\")\n",
    "#     cv_results_df = pd.DataFrame(pipe.cv_results_)\n",
    "    print(\"Details of the best model using full pipeline (GridSearchCV) on X_train: \")\n",
    "    print(f\"Best Estimator: {pipe.best_estimator_}\")\n",
    "    print(f\"Best Params: {pipe.best_params_}\")\n",
    "    print(f\"Best Score: {pipe.best_score_}\")\n",
    "    print(f\"Best Index: {pipe.best_index_}\")\n",
    "    print(f\"Refit Time: {pipe.refit_time_}\")\n",
    "#     print(f\"Shape of CV results dataframe: {cv_results_df.shape}\")\n",
    "    \n",
    "    pred_df = pd.DataFrame(y_pred)\n",
    "    pred_df.columns = [\"sentiment\"]\n",
    "    pred_df.index.name = \"id\"\n",
    "    pred_df.to_csv(\"submission.csv\")\n",
    "    \n",
    "    print(\"\\nSuccessfully created the submission file!!!\")\n",
    "    \n",
    "    return pipe.cv_results_"
   ]
  },
  {
   "cell_type": "code",
   "execution_count": 145,
   "id": "d5db2d92",
   "metadata": {
    "execution": {
     "iopub.execute_input": "2023-08-13T06:10:20.929304Z",
     "iopub.status.busy": "2023-08-13T06:10:20.928666Z",
     "iopub.status.idle": "2023-08-13T06:10:20.935875Z",
     "shell.execute_reply": "2023-08-13T06:10:20.934800Z"
    },
    "papermill": {
     "duration": 0.124151,
     "end_time": "2023-08-13T06:10:20.937986",
     "exception": false,
     "start_time": "2023-08-13T06:10:20.813835",
     "status": "completed"
    },
    "tags": []
   },
   "outputs": [
    {
     "data": {
      "text/plain": [
       "Index(['movieid', 'reviewerName', 'isFrequentReviewer', 'reviewText',\n",
       "       'sentiment', 'title', 'audienceScore', 'rating', 'ratingContents',\n",
       "       'releaseDateTheaters', 'releaseDateStreaming', 'runtimeMinutes',\n",
       "       'genre', 'originalLanguage', 'director', 'boxOffice', 'distributor',\n",
       "       'soundType', 'reviewYN', 'reviewWC', 'genreSorted', 'rcSorted',\n",
       "       'releaseDate', 'releaseYear', 'releaseMonth', 'releaseDiff'],\n",
       "      dtype='object')"
      ]
     },
     "execution_count": 145,
     "metadata": {},
     "output_type": "execute_result"
    }
   ],
   "source": [
    "merged.columns"
   ]
  },
  {
   "cell_type": "code",
   "execution_count": 146,
   "id": "fa708af4",
   "metadata": {
    "execution": {
     "iopub.execute_input": "2023-08-13T06:10:21.169113Z",
     "iopub.status.busy": "2023-08-13T06:10:21.168467Z",
     "iopub.status.idle": "2023-08-13T06:10:21.178907Z",
     "shell.execute_reply": "2023-08-13T06:10:21.178178Z"
    },
    "papermill": {
     "duration": 0.129937,
     "end_time": "2023-08-13T06:10:21.181044",
     "exception": false,
     "start_time": "2023-08-13T06:10:21.051107",
     "status": "completed"
    },
    "tags": []
   },
   "outputs": [],
   "source": [
    "# Best #2\n",
    "v80_dict = {'cat': ['isFrequentReviewer', 'audScoreBins', 'boxOfficeBins'], \n",
    "                  'txt': ['reviewText', 'reviewerName', 'movieid', 'genre', 'director', \n",
    "                          'ratingContents', 'distributor']}\n",
    "# Best #1\n",
    "v88_dict = {'cat': ['isFrequentReviewer', 'audScoreBins', 'boxOfficeBins'],\n",
    "            'num': ['releaseDiff'],\n",
    "            'txt': ['reviewText', 'reviewerName', 'movieid', 'genre', 'director', \n",
    "                         'ratingContents', 'distributor']}\n",
    "\n",
    "v92_dict = {'cat': ['isFrequentReviewer', 'audScoreBins', 'boxOfficeBins', 'releaseDiffBins'],\n",
    "            'txt': ['reviewText', 'reviewerName', 'title', 'genre', 'director', \n",
    "                         'ratingContents', 'distributor']}\n",
    "\n",
    "# Best univariable datapoints dict\n",
    "best_uni_dict = {'cat': [\"isFrequentReviewer\", \"audScoreBins\"],\n",
    "                 'txt': ['reviewText','movieid', 'director', \"ratingContents\"]}\n",
    "\n",
    "# param_grids for LogisticRegression  \n",
    "\n",
    "# Best #1  \n",
    "# param_grid = {\n",
    "#     'model__C' : [1],\n",
    "#     'model__solver': ['saga'],\n",
    "#     \"model__fit_intercept\" : [True],\n",
    "#     \"model__dual\" : [False]\n",
    "#     }\n",
    "\n",
    "# working\n",
    "param_grid = {\n",
    "    'model__C' : [1],\n",
    "    'model__solver': ['saga'],\n",
    "    \"model__fit_intercept\" : [True],\n",
    "    \"model__dual\" : [False],\n",
    "#     \"model__class_weight\": ['balanced', None]\n",
    "}\n",
    "\n",
    "\n",
    "# param_grids for LinearSVC  \n",
    "\n",
    "# param_grid = {\n",
    "#     'model__C' : [1, 10, 20],\n",
    "#     'model__loss': ['hinge', 'squared_hinge'],\n",
    "#     \"model__fit_intercept\" : [True, False],\n",
    "# #     \"model__dual\" : [True, False] \n",
    "# }\n",
    "\n",
    "svm = LinearSVC(max_iter=10000, random_state=42)    # LinearSVC\n",
    "\n",
    "\n",
    "# Local testing\n",
    "# selected_mov = {'num': ['audienceScore', 'boxOffice', 'releaseDiff'], \n",
    "#                 'txt': ['movieid', 'genre', 'director', \n",
    "#                          'ratingContents', 'distributor']}\n",
    "# results = submit_v4(\n",
    "#             selected_features={'num': ['boxOffice']},\n",
    "#             add_countvec=False,\n",
    "#             vocab=None,\n",
    "#             vocab_usage='tfidf',\n",
    "#             param_grid=param_grid\n",
    "#          )\n",
    "\n",
    "# results = submit_v4(selected_model = DummyClassifier(strategy='constant', constant='NEGATIVE'),\n",
    "#             selected_features={'num': ['boxOffice']},\n",
    "#             add_countvec=False,\n",
    "#             vocab=None,\n",
    "#             vocab_usage='tfidf',\n",
    "#             param_grid={'model__strategy' : ['constant']}\n",
    "#          )\n",
    "\n",
    "# Main submission\n",
    "\n",
    "# results = submit_v4(\n",
    "#     selected_features=v88_dict,\n",
    "#     add_countvec=False,\n",
    "#     vocab=common_1_2_3_grams,\n",
    "#     vocab_usage='tfidf',\n",
    "#     param_grid=param_grid\n",
    "#     )\n",
    "\n",
    "# results"
   ]
  },
  {
   "cell_type": "markdown",
   "id": "be5b4793",
   "metadata": {
    "papermill": {
     "duration": 0.113349,
     "end_time": "2023-08-13T06:10:21.407423",
     "exception": false,
     "start_time": "2023-08-13T06:10:21.294074",
     "status": "completed"
    },
    "tags": []
   },
   "source": [
    "### ratingContents analysis  "
   ]
  },
  {
   "cell_type": "code",
   "execution_count": 147,
   "id": "627ac8a5",
   "metadata": {
    "execution": {
     "iopub.execute_input": "2023-08-13T06:10:21.636059Z",
     "iopub.status.busy": "2023-08-13T06:10:21.635671Z",
     "iopub.status.idle": "2023-08-13T06:10:21.640185Z",
     "shell.execute_reply": "2023-08-13T06:10:21.639245Z"
    },
    "papermill": {
     "duration": 0.121451,
     "end_time": "2023-08-13T06:10:21.642324",
     "exception": false,
     "start_time": "2023-08-13T06:10:21.520873",
     "status": "completed"
    },
    "tags": []
   },
   "outputs": [],
   "source": [
    "# Try string split  \n",
    "# s = \"comedy, animation, adventure, fantasy\"\n",
    "# (\",\").join(sorted(s.split(\", \")))"
   ]
  },
  {
   "cell_type": "code",
   "execution_count": 148,
   "id": "bc8bf8f6",
   "metadata": {
    "execution": {
     "iopub.execute_input": "2023-08-13T06:10:21.871473Z",
     "iopub.status.busy": "2023-08-13T06:10:21.870807Z",
     "iopub.status.idle": "2023-08-13T06:10:21.875789Z",
     "shell.execute_reply": "2023-08-13T06:10:21.874771Z"
    },
    "papermill": {
     "duration": 0.122173,
     "end_time": "2023-08-13T06:10:21.877941",
     "exception": false,
     "start_time": "2023-08-13T06:10:21.755768",
     "status": "completed"
    },
    "tags": []
   },
   "outputs": [],
   "source": [
    "# ratingContents_analysis = merged[[\"ratingContents\", \"sentiment\"]].copy()\n",
    "# print(ratingContents_analysis.head())\n",
    "# ratingContents_analysis[\"rcSorted\"] = ratingContents_analysis[\"ratingContents\"].apply(lambda x: (\",\").join(sorted(x.strip(\"][\").split(\", \"))))\n",
    "# ratingContents_analysis[\"rcSorted\"] = ratingContents_analysis[\"rcSorted\"].apply(lambda x: re.sub(r\"'\", \"\", x))\n",
    "# ratingContents_analysis[\"rcSorted\"] = ratingContents_analysis[\"rcSorted\"].apply(lambda x: re.sub(r\"[/\\s]\", \"_\", x))\n",
    "# ratingContents_analysis.head(10)"
   ]
  },
  {
   "cell_type": "code",
   "execution_count": 149,
   "id": "dc66552c",
   "metadata": {
    "execution": {
     "iopub.execute_input": "2023-08-13T06:10:22.107485Z",
     "iopub.status.busy": "2023-08-13T06:10:22.107106Z",
     "iopub.status.idle": "2023-08-13T06:10:22.111647Z",
     "shell.execute_reply": "2023-08-13T06:10:22.110549Z"
    },
    "papermill": {
     "duration": 0.122423,
     "end_time": "2023-08-13T06:10:22.113756",
     "exception": false,
     "start_time": "2023-08-13T06:10:21.991333",
     "status": "completed"
    },
    "tags": []
   },
   "outputs": [],
   "source": [
    "# cvec_rc = CountVectorizer(ngram_range=(1,1))\n",
    "# cvec_rc.fit(ratingContents_analysis['rcSorted'])\n",
    "# # len(cvec_rc.vocabulary_), cvec_rc.vocabulary_"
   ]
  },
  {
   "cell_type": "code",
   "execution_count": 150,
   "id": "92cb623b",
   "metadata": {
    "execution": {
     "iopub.execute_input": "2023-08-13T06:10:22.342676Z",
     "iopub.status.busy": "2023-08-13T06:10:22.341855Z",
     "iopub.status.idle": "2023-08-13T06:10:22.346602Z",
     "shell.execute_reply": "2023-08-13T06:10:22.345591Z"
    },
    "papermill": {
     "duration": 0.121879,
     "end_time": "2023-08-13T06:10:22.348838",
     "exception": false,
     "start_time": "2023-08-13T06:10:22.226959",
     "status": "completed"
    },
    "tags": []
   },
   "outputs": [],
   "source": [
    "# genre_testing = cvec_g.transform(merged[\"genre\"])\n",
    "# print(genre_testing)"
   ]
  },
  {
   "cell_type": "markdown",
   "id": "24693148",
   "metadata": {
    "papermill": {
     "duration": 0.11305,
     "end_time": "2023-08-13T06:10:22.575448",
     "exception": false,
     "start_time": "2023-08-13T06:10:22.462398",
     "status": "completed"
    },
    "tags": []
   },
   "source": [
    "## Statistical tests  "
   ]
  },
  {
   "cell_type": "markdown",
   "id": "a58cf6c4",
   "metadata": {
    "papermill": {
     "duration": 0.180389,
     "end_time": "2023-08-13T06:10:22.870045",
     "exception": false,
     "start_time": "2023-08-13T06:10:22.689656",
     "status": "completed"
    },
    "tags": []
   },
   "source": [
    "[Go to genre](#genre_analysis)"
   ]
  },
  {
   "cell_type": "code",
   "execution_count": 151,
   "id": "5c2eba75",
   "metadata": {
    "execution": {
     "iopub.execute_input": "2023-08-13T06:10:23.098593Z",
     "iopub.status.busy": "2023-08-13T06:10:23.098171Z",
     "iopub.status.idle": "2023-08-13T06:10:23.102747Z",
     "shell.execute_reply": "2023-08-13T06:10:23.101688Z"
    },
    "papermill": {
     "duration": 0.121382,
     "end_time": "2023-08-13T06:10:23.105118",
     "exception": false,
     "start_time": "2023-08-13T06:10:22.983736",
     "status": "completed"
    },
    "tags": []
   },
   "outputs": [],
   "source": [
    "# print(merged['boxOffice'].head())\n",
    "# merged[\"boxOffice\"].describe()"
   ]
  },
  {
   "cell_type": "code",
   "execution_count": 152,
   "id": "923fd7f2",
   "metadata": {
    "execution": {
     "iopub.execute_input": "2023-08-13T06:10:23.334819Z",
     "iopub.status.busy": "2023-08-13T06:10:23.334414Z",
     "iopub.status.idle": "2023-08-13T06:10:23.339364Z",
     "shell.execute_reply": "2023-08-13T06:10:23.338176Z"
    },
    "papermill": {
     "duration": 0.12237,
     "end_time": "2023-08-13T06:10:23.341442",
     "exception": false,
     "start_time": "2023-08-13T06:10:23.219072",
     "status": "completed"
    },
    "tags": []
   },
   "outputs": [],
   "source": [
    "# Function for independent samples t-test on numerical columns  \n",
    "# def ttest_ind(feature):\n",
    "#     pos_grp = merged[feature].loc[merged['sentiment'] == \"POSITIVE\"]\n",
    "#     neg_grp = merged[feature].loc[merged['sentiment'] == \"NEGATIVE\"]\n",
    "\n",
    "#     print(pos_grp.shape, neg_grp.shape)\n",
    "#     print(pos_grp.describe(), neg_grp.describe())\n",
    "\n",
    "#     return stats.ttest_ind(pos_grp, neg_grp)"
   ]
  },
  {
   "cell_type": "code",
   "execution_count": 153,
   "id": "86a9f32e",
   "metadata": {
    "execution": {
     "iopub.execute_input": "2023-08-13T06:10:23.573295Z",
     "iopub.status.busy": "2023-08-13T06:10:23.572221Z",
     "iopub.status.idle": "2023-08-13T06:10:23.576622Z",
     "shell.execute_reply": "2023-08-13T06:10:23.575683Z"
    },
    "papermill": {
     "duration": 0.12245,
     "end_time": "2023-08-13T06:10:23.578734",
     "exception": false,
     "start_time": "2023-08-13T06:10:23.456284",
     "status": "completed"
    },
    "tags": []
   },
   "outputs": [],
   "source": [
    "# ttest_ind('boxOffice')"
   ]
  },
  {
   "cell_type": "code",
   "execution_count": 154,
   "id": "97353e76",
   "metadata": {
    "execution": {
     "iopub.execute_input": "2023-08-13T06:10:23.811490Z",
     "iopub.status.busy": "2023-08-13T06:10:23.810758Z",
     "iopub.status.idle": "2023-08-13T06:10:23.814595Z",
     "shell.execute_reply": "2023-08-13T06:10:23.813899Z"
    },
    "papermill": {
     "duration": 0.122006,
     "end_time": "2023-08-13T06:10:23.816594",
     "exception": false,
     "start_time": "2023-08-13T06:10:23.694588",
     "status": "completed"
    },
    "tags": []
   },
   "outputs": [],
   "source": [
    "# ttest_ind('runtimeMinutes')"
   ]
  },
  {
   "cell_type": "code",
   "execution_count": 155,
   "id": "7c44fb1d",
   "metadata": {
    "execution": {
     "iopub.execute_input": "2023-08-13T06:10:24.046631Z",
     "iopub.status.busy": "2023-08-13T06:10:24.045751Z",
     "iopub.status.idle": "2023-08-13T06:10:24.049990Z",
     "shell.execute_reply": "2023-08-13T06:10:24.049249Z"
    },
    "papermill": {
     "duration": 0.122246,
     "end_time": "2023-08-13T06:10:24.052319",
     "exception": false,
     "start_time": "2023-08-13T06:10:23.930073",
     "status": "completed"
    },
    "tags": []
   },
   "outputs": [],
   "source": [
    "# ttest_ind('audienceScore')"
   ]
  },
  {
   "cell_type": "code",
   "execution_count": 156,
   "id": "1e7bdb29",
   "metadata": {
    "execution": {
     "iopub.execute_input": "2023-08-13T06:10:24.288052Z",
     "iopub.status.busy": "2023-08-13T06:10:24.287682Z",
     "iopub.status.idle": "2023-08-13T06:10:24.292197Z",
     "shell.execute_reply": "2023-08-13T06:10:24.291126Z"
    },
    "papermill": {
     "duration": 0.123194,
     "end_time": "2023-08-13T06:10:24.294512",
     "exception": false,
     "start_time": "2023-08-13T06:10:24.171318",
     "status": "completed"
    },
    "tags": []
   },
   "outputs": [],
   "source": [
    "# sns.boxplot(x=merged['sentiment'], y=merged['boxOffice'])"
   ]
  },
  {
   "cell_type": "markdown",
   "id": "4bfb2cfb",
   "metadata": {
    "papermill": {
     "duration": 0.11378,
     "end_time": "2023-08-13T06:10:24.522268",
     "exception": false,
     "start_time": "2023-08-13T06:10:24.408488",
     "status": "completed"
    },
    "tags": []
   },
   "source": [
    "## <div id='genre_analysis'>Genre analysis</div>"
   ]
  },
  {
   "cell_type": "code",
   "execution_count": 157,
   "id": "9f480473",
   "metadata": {
    "execution": {
     "iopub.execute_input": "2023-08-13T06:10:24.764857Z",
     "iopub.status.busy": "2023-08-13T06:10:24.763811Z",
     "iopub.status.idle": "2023-08-13T06:10:24.768910Z",
     "shell.execute_reply": "2023-08-13T06:10:24.768133Z"
    },
    "papermill": {
     "duration": 0.124788,
     "end_time": "2023-08-13T06:10:24.771093",
     "exception": false,
     "start_time": "2023-08-13T06:10:24.646305",
     "status": "completed"
    },
    "tags": []
   },
   "outputs": [],
   "source": [
    "# genre_analysis = merged[[\"genre\", \"genreSorted\", \"sentiment\"]].copy()\n",
    "# # print(genre_analysis.head())\n",
    "# # genre_analysis[\"genre\"] = genre_analysis[\"genre\"].apply(lambda x: (\",\").join(sorted(x.split(\", \"))))\n",
    "# genre_analysis.head()"
   ]
  },
  {
   "cell_type": "code",
   "execution_count": 158,
   "id": "f8a670f8",
   "metadata": {
    "execution": {
     "iopub.execute_input": "2023-08-13T06:10:25.025891Z",
     "iopub.status.busy": "2023-08-13T06:10:25.024925Z",
     "iopub.status.idle": "2023-08-13T06:10:25.029797Z",
     "shell.execute_reply": "2023-08-13T06:10:25.028857Z"
    },
    "papermill": {
     "duration": 0.136651,
     "end_time": "2023-08-13T06:10:25.031986",
     "exception": false,
     "start_time": "2023-08-13T06:10:24.895335",
     "status": "completed"
    },
    "tags": []
   },
   "outputs": [],
   "source": [
    "# cvec_g = CountVectorizer(ngram_range=(1,3))\n",
    "# cvec_g.fit(genre_analysis['genre'])\n",
    "# # len(cvec_g.vocabulary_), cvec_g.vocabulary_"
   ]
  },
  {
   "cell_type": "code",
   "execution_count": 159,
   "id": "3b45f555",
   "metadata": {
    "execution": {
     "iopub.execute_input": "2023-08-13T06:10:25.269702Z",
     "iopub.status.busy": "2023-08-13T06:10:25.268784Z",
     "iopub.status.idle": "2023-08-13T06:10:25.273427Z",
     "shell.execute_reply": "2023-08-13T06:10:25.272496Z"
    },
    "papermill": {
     "duration": 0.12651,
     "end_time": "2023-08-13T06:10:25.275501",
     "exception": false,
     "start_time": "2023-08-13T06:10:25.148991",
     "status": "completed"
    },
    "tags": []
   },
   "outputs": [],
   "source": [
    "# cvec_gSorted = CountVectorizer(ngram_range=(1,3))\n",
    "# cvec_gSorted.fit(genre_analysis['genreSorted'])\n",
    "# len(cvec_gSorted.vocabulary_), cvec_gSorted.vocabulary_"
   ]
  },
  {
   "cell_type": "code",
   "execution_count": 160,
   "id": "a03b038b",
   "metadata": {
    "execution": {
     "iopub.execute_input": "2023-08-13T06:10:25.509765Z",
     "iopub.status.busy": "2023-08-13T06:10:25.508870Z",
     "iopub.status.idle": "2023-08-13T06:10:25.513521Z",
     "shell.execute_reply": "2023-08-13T06:10:25.512587Z"
    },
    "papermill": {
     "duration": 0.122702,
     "end_time": "2023-08-13T06:10:25.515641",
     "exception": false,
     "start_time": "2023-08-13T06:10:25.392939",
     "status": "completed"
    },
    "tags": []
   },
   "outputs": [],
   "source": [
    "# genre_testing = cvec_g.transform(merged[\"genre\"])\n",
    "# # print(genre_testing)"
   ]
  },
  {
   "cell_type": "code",
   "execution_count": 161,
   "id": "167ec0ff",
   "metadata": {
    "execution": {
     "iopub.execute_input": "2023-08-13T06:10:25.749171Z",
     "iopub.status.busy": "2023-08-13T06:10:25.748434Z",
     "iopub.status.idle": "2023-08-13T06:10:25.752736Z",
     "shell.execute_reply": "2023-08-13T06:10:25.751732Z"
    },
    "papermill": {
     "duration": 0.123359,
     "end_time": "2023-08-13T06:10:25.754916",
     "exception": false,
     "start_time": "2023-08-13T06:10:25.631557",
     "status": "completed"
    },
    "tags": []
   },
   "outputs": [],
   "source": [
    "# genre_counts_testing = merged[[\"genre\", \"sentiment\"]].copy()\n",
    "# genre_counts_testing[\"gCount\"] = genre_counts_testing.apply(lambda x: len(str(x[\"genre\"]).split()), axis=1)\n",
    "# genre_counts_testing"
   ]
  },
  {
   "cell_type": "code",
   "execution_count": 162,
   "id": "49aa05be",
   "metadata": {
    "execution": {
     "iopub.execute_input": "2023-08-13T06:10:26.002506Z",
     "iopub.status.busy": "2023-08-13T06:10:26.001667Z",
     "iopub.status.idle": "2023-08-13T06:10:26.005890Z",
     "shell.execute_reply": "2023-08-13T06:10:26.005086Z"
    },
    "papermill": {
     "duration": 0.135365,
     "end_time": "2023-08-13T06:10:26.008448",
     "exception": false,
     "start_time": "2023-08-13T06:10:25.873083",
     "status": "completed"
    },
    "tags": []
   },
   "outputs": [],
   "source": [
    "# sns.boxplot(y=genre_counts_testing[\"gCount\"], x=genre_counts_testing[\"sentiment\"])"
   ]
  },
  {
   "cell_type": "code",
   "execution_count": 163,
   "id": "9ebc87fc",
   "metadata": {
    "execution": {
     "iopub.execute_input": "2023-08-13T06:10:26.245799Z",
     "iopub.status.busy": "2023-08-13T06:10:26.245412Z",
     "iopub.status.idle": "2023-08-13T06:10:26.250171Z",
     "shell.execute_reply": "2023-08-13T06:10:26.249022Z"
    },
    "papermill": {
     "duration": 0.122291,
     "end_time": "2023-08-13T06:10:26.252401",
     "exception": false,
     "start_time": "2023-08-13T06:10:26.130110",
     "status": "completed"
    },
    "tags": []
   },
   "outputs": [],
   "source": [
    "# sns.boxplot(y=merged[\"reviewWC\"], x=merged[\"sentiment\"])"
   ]
  },
  {
   "cell_type": "code",
   "execution_count": 164,
   "id": "43ab68e0",
   "metadata": {
    "execution": {
     "iopub.execute_input": "2023-08-13T06:10:26.482902Z",
     "iopub.status.busy": "2023-08-13T06:10:26.482493Z",
     "iopub.status.idle": "2023-08-13T06:10:26.486828Z",
     "shell.execute_reply": "2023-08-13T06:10:26.485793Z"
    },
    "papermill": {
     "duration": 0.123198,
     "end_time": "2023-08-13T06:10:26.489198",
     "exception": false,
     "start_time": "2023-08-13T06:10:26.366000",
     "status": "completed"
    },
    "tags": []
   },
   "outputs": [],
   "source": [
    "# audienceScore bins\n",
    "# asc = merged[['audienceScore', 'sentiment']].copy()\n",
    "# asc.head()"
   ]
  },
  {
   "cell_type": "code",
   "execution_count": 165,
   "id": "05fc8a61",
   "metadata": {
    "execution": {
     "iopub.execute_input": "2023-08-13T06:10:26.719561Z",
     "iopub.status.busy": "2023-08-13T06:10:26.718616Z",
     "iopub.status.idle": "2023-08-13T06:10:26.722886Z",
     "shell.execute_reply": "2023-08-13T06:10:26.722147Z"
    },
    "papermill": {
     "duration": 0.121068,
     "end_time": "2023-08-13T06:10:26.724770",
     "exception": false,
     "start_time": "2023-08-13T06:10:26.603702",
     "status": "completed"
    },
    "tags": []
   },
   "outputs": [],
   "source": [
    "# Binning numerical features  \n",
    "\n",
    "# print(merged[\"runtimeBins\"].value_counts())\n",
    "# sns.displot(merged[\"runtimeBins\"])"
   ]
  },
  {
   "cell_type": "code",
   "execution_count": 166,
   "id": "02365bbf",
   "metadata": {
    "execution": {
     "iopub.execute_input": "2023-08-13T06:10:26.953808Z",
     "iopub.status.busy": "2023-08-13T06:10:26.953396Z",
     "iopub.status.idle": "2023-08-13T06:10:26.958079Z",
     "shell.execute_reply": "2023-08-13T06:10:26.956994Z"
    },
    "papermill": {
     "duration": 0.12208,
     "end_time": "2023-08-13T06:10:26.960257",
     "exception": false,
     "start_time": "2023-08-13T06:10:26.838177",
     "status": "completed"
    },
    "tags": []
   },
   "outputs": [],
   "source": [
    "# Chi-square test for isFrequentReviewer column and sentiment column   \n",
    "\n",
    "# contingency_table = pd.crosstab(traindf['isFrequentReviewer'], traindf['sentiment'])\n",
    "# print(contingency_table)\n",
    "# stats.chi2_contingency(contingency_table)"
   ]
  },
  {
   "cell_type": "markdown",
   "id": "2234914d",
   "metadata": {
    "papermill": {
     "duration": 0.114128,
     "end_time": "2023-08-13T06:10:27.188742",
     "exception": false,
     "start_time": "2023-08-13T06:10:27.074614",
     "status": "completed"
    },
    "tags": []
   },
   "source": [
    "## Baseline performance of 'reviewText' column  "
   ]
  },
  {
   "cell_type": "code",
   "execution_count": 167,
   "id": "e49a2ba8",
   "metadata": {
    "execution": {
     "iopub.execute_input": "2023-08-13T06:10:27.418641Z",
     "iopub.status.busy": "2023-08-13T06:10:27.418189Z",
     "iopub.status.idle": "2023-08-13T06:10:27.423298Z",
     "shell.execute_reply": "2023-08-13T06:10:27.422123Z"
    },
    "papermill": {
     "duration": 0.122751,
     "end_time": "2023-08-13T06:10:27.425830",
     "exception": false,
     "start_time": "2023-08-13T06:10:27.303079",
     "status": "completed"
    },
    "tags": []
   },
   "outputs": [],
   "source": [
    "# rt_dict = {'txt': ['reviewText']}\n",
    "# rt_dict"
   ]
  },
  {
   "cell_type": "code",
   "execution_count": 168,
   "id": "834d8b38",
   "metadata": {
    "execution": {
     "iopub.execute_input": "2023-08-13T06:10:27.656503Z",
     "iopub.status.busy": "2023-08-13T06:10:27.656088Z",
     "iopub.status.idle": "2023-08-13T06:10:27.660670Z",
     "shell.execute_reply": "2023-08-13T06:10:27.659617Z"
    },
    "papermill": {
     "duration": 0.122813,
     "end_time": "2023-08-13T06:10:27.662785",
     "exception": false,
     "start_time": "2023-08-13T06:10:27.539972",
     "status": "completed"
    },
    "tags": []
   },
   "outputs": [],
   "source": [
    "# submit_v4(selected_model=LogisticRegression(C=5, solver=\"saga\", max_iter=100000),\n",
    "#           selected_features=rt_dict,\n",
    "#           param_grid=None,\n",
    "#           vocab=None)"
   ]
  },
  {
   "cell_type": "markdown",
   "id": "090804c7",
   "metadata": {
    "papermill": {
     "duration": 0.113066,
     "end_time": "2023-08-13T06:10:27.889677",
     "exception": false,
     "start_time": "2023-08-13T06:10:27.776611",
     "status": "completed"
    },
    "tags": []
   },
   "source": [
    "## RFE  "
   ]
  },
  {
   "cell_type": "code",
   "execution_count": 169,
   "id": "5a55224e",
   "metadata": {
    "execution": {
     "iopub.execute_input": "2023-08-13T06:10:28.121328Z",
     "iopub.status.busy": "2023-08-13T06:10:28.120903Z",
     "iopub.status.idle": "2023-08-13T06:10:28.126561Z",
     "shell.execute_reply": "2023-08-13T06:10:28.125400Z"
    },
    "papermill": {
     "duration": 0.126173,
     "end_time": "2023-08-13T06:10:28.128904",
     "exception": false,
     "start_time": "2023-08-13T06:10:28.002731",
     "status": "completed"
    },
    "tags": []
   },
   "outputs": [],
   "source": [
    "# def fs_rfe(selector, text_df, labels, ngram_range=(1,1)):\n",
    "#     text_df_ngram = TfidfVectorizer(ngram_range=ngram_range, stop_words='english').fit_transform(text_df)\n",
    "#     print(\"text_df was vectorized using TF-IDF vectorizer with ngram_range: \", ngram_range)\n",
    "#     print(\"text_df.shape: \", text_df.shape)\n",
    "#     print(\"labels.shape: \", labels.shape)\n",
    "#     print(\"text_df_ngram.shape: \", text_df_ngram.shape)\n",
    "#     print()\n",
    "\n",
    "#     print(\"Starting RFE fit...\")\n",
    "#     selector.fit(text_df_ngram, labels)\n",
    "#     print(\"RFE fit complete.\\n\")\n",
    "    \n",
    "#     print(\"selector.n_features_: \", selector.n_features_)   \n",
    "#     print(\"selector.n_features_in_: \", selector.n_features_in_)\n",
    "#     print(\"selector.support_.shape: \", selector.support_.shape)\n",
    "\n",
    "#     return selector.support_"
   ]
  },
  {
   "cell_type": "markdown",
   "id": "d52cdaf9",
   "metadata": {
    "papermill": {
     "duration": 0.112918,
     "end_time": "2023-08-13T06:10:28.355833",
     "exception": false,
     "start_time": "2023-08-13T06:10:28.242915",
     "status": "completed"
    },
    "tags": []
   },
   "source": [
    "`RFE for unigrams`  "
   ]
  },
  {
   "cell_type": "code",
   "execution_count": 170,
   "id": "d567a24a",
   "metadata": {
    "execution": {
     "iopub.execute_input": "2023-08-13T06:10:28.585589Z",
     "iopub.status.busy": "2023-08-13T06:10:28.585163Z",
     "iopub.status.idle": "2023-08-13T06:10:28.590396Z",
     "shell.execute_reply": "2023-08-13T06:10:28.589130Z"
    },
    "papermill": {
     "duration": 0.123108,
     "end_time": "2023-08-13T06:10:28.592597",
     "exception": false,
     "start_time": "2023-08-13T06:10:28.469489",
     "status": "completed"
    },
    "tags": []
   },
   "outputs": [],
   "source": [
    "# estimator_rfe_1 = LogisticRegression(solver='saga', max_iter=100000)\n",
    "# selector_rfe_1 = RFE(estimator_rfe_1, step=0.1, n_features_to_select=30000)"
   ]
  },
  {
   "cell_type": "code",
   "execution_count": 171,
   "id": "f3da3e8f",
   "metadata": {
    "execution": {
     "iopub.execute_input": "2023-08-13T06:10:28.825712Z",
     "iopub.status.busy": "2023-08-13T06:10:28.825196Z",
     "iopub.status.idle": "2023-08-13T06:10:28.831542Z",
     "shell.execute_reply": "2023-08-13T06:10:28.829841Z"
    },
    "papermill": {
     "duration": 0.126755,
     "end_time": "2023-08-13T06:10:28.834060",
     "exception": false,
     "start_time": "2023-08-13T06:10:28.707305",
     "status": "completed"
    },
    "tags": []
   },
   "outputs": [],
   "source": [
    "# rfe_1_feat_mask = fs_rfe(selector_rfe_1, rt_senti[\"reviewText\"], rt_senti[\"sentiment\"], ngram_range=(1,1))\n",
    "# rfe_1_feat_mask"
   ]
  },
  {
   "cell_type": "code",
   "execution_count": 172,
   "id": "379e6256",
   "metadata": {
    "execution": {
     "iopub.execute_input": "2023-08-13T06:10:29.131568Z",
     "iopub.status.busy": "2023-08-13T06:10:29.131115Z",
     "iopub.status.idle": "2023-08-13T06:10:29.135370Z",
     "shell.execute_reply": "2023-08-13T06:10:29.134290Z"
    },
    "papermill": {
     "duration": 0.123582,
     "end_time": "2023-08-13T06:10:29.138245",
     "exception": false,
     "start_time": "2023-08-13T06:10:29.014663",
     "status": "completed"
    },
    "tags": []
   },
   "outputs": [],
   "source": [
    "# voc_1gram_rfe = list(compress(voc_1gram, rfe_1_feat_mask))\n",
    "# len(voc_1gram_rfe), voc_1gram_rfe[:10]"
   ]
  },
  {
   "cell_type": "markdown",
   "id": "af018cc3",
   "metadata": {
    "papermill": {
     "duration": 0.112866,
     "end_time": "2023-08-13T06:10:29.367516",
     "exception": false,
     "start_time": "2023-08-13T06:10:29.254650",
     "status": "completed"
    },
    "tags": []
   },
   "source": [
    "`RFE for bigrams`  "
   ]
  },
  {
   "cell_type": "code",
   "execution_count": 173,
   "id": "1b3a5565",
   "metadata": {
    "execution": {
     "iopub.execute_input": "2023-08-13T06:10:29.597533Z",
     "iopub.status.busy": "2023-08-13T06:10:29.597100Z",
     "iopub.status.idle": "2023-08-13T06:10:29.601608Z",
     "shell.execute_reply": "2023-08-13T06:10:29.600607Z"
    },
    "papermill": {
     "duration": 0.121828,
     "end_time": "2023-08-13T06:10:29.603792",
     "exception": false,
     "start_time": "2023-08-13T06:10:29.481964",
     "status": "completed"
    },
    "tags": []
   },
   "outputs": [],
   "source": [
    "# estimator_rfe_2 = LogisticRegression(solver='saga', max_iter=100000)\n",
    "# selector_rfe_2 = RFE(estimator_rfe_2, step=0.1, n_features_to_select=50000)"
   ]
  },
  {
   "cell_type": "code",
   "execution_count": 174,
   "id": "34f26993",
   "metadata": {
    "execution": {
     "iopub.execute_input": "2023-08-13T06:10:29.834074Z",
     "iopub.status.busy": "2023-08-13T06:10:29.833616Z",
     "iopub.status.idle": "2023-08-13T06:10:29.837975Z",
     "shell.execute_reply": "2023-08-13T06:10:29.836897Z"
    },
    "papermill": {
     "duration": 0.120982,
     "end_time": "2023-08-13T06:10:29.840094",
     "exception": false,
     "start_time": "2023-08-13T06:10:29.719112",
     "status": "completed"
    },
    "tags": []
   },
   "outputs": [],
   "source": [
    "# rfe_2_feat_mask = fs_rfe(selector_rfe_2, rt_senti[\"reviewText\"], rt_senti[\"sentiment\"], ngram_range=(2,2))\n",
    "# rfe_2_feat_mask"
   ]
  },
  {
   "cell_type": "code",
   "execution_count": 175,
   "id": "e10d2450",
   "metadata": {
    "execution": {
     "iopub.execute_input": "2023-08-13T06:10:30.068803Z",
     "iopub.status.busy": "2023-08-13T06:10:30.068388Z",
     "iopub.status.idle": "2023-08-13T06:10:30.073379Z",
     "shell.execute_reply": "2023-08-13T06:10:30.072091Z"
    },
    "papermill": {
     "duration": 0.121652,
     "end_time": "2023-08-13T06:10:30.075422",
     "exception": false,
     "start_time": "2023-08-13T06:10:29.953770",
     "status": "completed"
    },
    "tags": []
   },
   "outputs": [],
   "source": [
    "# voc_2gram_rfe = list(compress(voc_2gram, rfe_2_feat_mask))\n",
    "# len(voc_2gram_rfe), voc_2gram_rfe[:10]"
   ]
  },
  {
   "cell_type": "markdown",
   "id": "73bae63e",
   "metadata": {
    "papermill": {
     "duration": 0.113331,
     "end_time": "2023-08-13T06:10:30.302092",
     "exception": false,
     "start_time": "2023-08-13T06:10:30.188761",
     "status": "completed"
    },
    "tags": []
   },
   "source": [
    "## Final RFE-derived vocabulary  "
   ]
  },
  {
   "cell_type": "code",
   "execution_count": 176,
   "id": "59022200",
   "metadata": {
    "execution": {
     "iopub.execute_input": "2023-08-13T06:10:30.532913Z",
     "iopub.status.busy": "2023-08-13T06:10:30.532519Z",
     "iopub.status.idle": "2023-08-13T06:10:30.536849Z",
     "shell.execute_reply": "2023-08-13T06:10:30.535849Z"
    },
    "papermill": {
     "duration": 0.121703,
     "end_time": "2023-08-13T06:10:30.538937",
     "exception": false,
     "start_time": "2023-08-13T06:10:30.417234",
     "status": "completed"
    },
    "tags": []
   },
   "outputs": [],
   "source": [
    "# rfe_vocab = voc_1gram_rfe + voc_2gram_rfe\n",
    "# len(rfe_vocab), rfe_vocab[:10], rfe_vocab[-10:]"
   ]
  },
  {
   "cell_type": "code",
   "execution_count": 177,
   "id": "2fe6410a",
   "metadata": {
    "execution": {
     "iopub.execute_input": "2023-08-13T06:10:30.769145Z",
     "iopub.status.busy": "2023-08-13T06:10:30.768786Z",
     "iopub.status.idle": "2023-08-13T06:10:30.773092Z",
     "shell.execute_reply": "2023-08-13T06:10:30.772053Z"
    },
    "papermill": {
     "duration": 0.123239,
     "end_time": "2023-08-13T06:10:30.775554",
     "exception": false,
     "start_time": "2023-08-13T06:10:30.652315",
     "status": "completed"
    },
    "tags": []
   },
   "outputs": [],
   "source": [
    "## Test RFE obtained vocabulary in final pipeline (only with reviewText)  \n",
    "# submit_v4(selected_model=LogisticRegression(C=5, solver=\"saga\", max_iter=100000),\n",
    "#           selected_features=rt_dict,\n",
    "#           param_grid=None,\n",
    "#           vocab=rfe_vocab)"
   ]
  },
  {
   "cell_type": "markdown",
   "id": "55b0b571",
   "metadata": {
    "papermill": {
     "duration": 0.114665,
     "end_time": "2023-08-13T06:10:31.003823",
     "exception": false,
     "start_time": "2023-08-13T06:10:30.889158",
     "status": "completed"
    },
    "tags": []
   },
   "source": [
    "## Use rfe_vocab in final pipeline with all params  "
   ]
  },
  {
   "cell_type": "code",
   "execution_count": 178,
   "id": "07cae92e",
   "metadata": {
    "execution": {
     "iopub.execute_input": "2023-08-13T06:10:31.238546Z",
     "iopub.status.busy": "2023-08-13T06:10:31.238130Z",
     "iopub.status.idle": "2023-08-13T06:10:31.242819Z",
     "shell.execute_reply": "2023-08-13T06:10:31.241648Z"
    },
    "papermill": {
     "duration": 0.124254,
     "end_time": "2023-08-13T06:10:31.245030",
     "exception": false,
     "start_time": "2023-08-13T06:10:31.120776",
     "status": "completed"
    },
    "tags": []
   },
   "outputs": [],
   "source": [
    "# submit_v4(selected_model=LogisticRegression(max_iter=100000),\n",
    "#           selected_features=all_dict,\n",
    "#           param_grid=param_grid,\n",
    "#           vocab=rfe_vocab)"
   ]
  },
  {
   "cell_type": "code",
   "execution_count": 179,
   "id": "6c284d2e",
   "metadata": {
    "execution": {
     "iopub.execute_input": "2023-08-13T06:10:31.476916Z",
     "iopub.status.busy": "2023-08-13T06:10:31.476480Z",
     "iopub.status.idle": "2023-08-13T06:10:31.488910Z",
     "shell.execute_reply": "2023-08-13T06:10:31.487783Z"
    },
    "papermill": {
     "duration": 0.131676,
     "end_time": "2023-08-13T06:10:31.491281",
     "exception": false,
     "start_time": "2023-08-13T06:10:31.359605",
     "status": "completed"
    },
    "tags": []
   },
   "outputs": [
    {
     "data": {
      "text/html": [
       "<style>#sk-container-id-1 {color: black;background-color: white;}#sk-container-id-1 pre{padding: 0;}#sk-container-id-1 div.sk-toggleable {background-color: white;}#sk-container-id-1 label.sk-toggleable__label {cursor: pointer;display: block;width: 100%;margin-bottom: 0;padding: 0.3em;box-sizing: border-box;text-align: center;}#sk-container-id-1 label.sk-toggleable__label-arrow:before {content: \"▸\";float: left;margin-right: 0.25em;color: #696969;}#sk-container-id-1 label.sk-toggleable__label-arrow:hover:before {color: black;}#sk-container-id-1 div.sk-estimator:hover label.sk-toggleable__label-arrow:before {color: black;}#sk-container-id-1 div.sk-toggleable__content {max-height: 0;max-width: 0;overflow: hidden;text-align: left;background-color: #f0f8ff;}#sk-container-id-1 div.sk-toggleable__content pre {margin: 0.2em;color: black;border-radius: 0.25em;background-color: #f0f8ff;}#sk-container-id-1 input.sk-toggleable__control:checked~div.sk-toggleable__content {max-height: 200px;max-width: 100%;overflow: auto;}#sk-container-id-1 input.sk-toggleable__control:checked~label.sk-toggleable__label-arrow:before {content: \"▾\";}#sk-container-id-1 div.sk-estimator input.sk-toggleable__control:checked~label.sk-toggleable__label {background-color: #d4ebff;}#sk-container-id-1 div.sk-label input.sk-toggleable__control:checked~label.sk-toggleable__label {background-color: #d4ebff;}#sk-container-id-1 input.sk-hidden--visually {border: 0;clip: rect(1px 1px 1px 1px);clip: rect(1px, 1px, 1px, 1px);height: 1px;margin: -1px;overflow: hidden;padding: 0;position: absolute;width: 1px;}#sk-container-id-1 div.sk-estimator {font-family: monospace;background-color: #f0f8ff;border: 1px dotted black;border-radius: 0.25em;box-sizing: border-box;margin-bottom: 0.5em;}#sk-container-id-1 div.sk-estimator:hover {background-color: #d4ebff;}#sk-container-id-1 div.sk-parallel-item::after {content: \"\";width: 100%;border-bottom: 1px solid gray;flex-grow: 1;}#sk-container-id-1 div.sk-label:hover label.sk-toggleable__label {background-color: #d4ebff;}#sk-container-id-1 div.sk-serial::before {content: \"\";position: absolute;border-left: 1px solid gray;box-sizing: border-box;top: 0;bottom: 0;left: 50%;z-index: 0;}#sk-container-id-1 div.sk-serial {display: flex;flex-direction: column;align-items: center;background-color: white;padding-right: 0.2em;padding-left: 0.2em;position: relative;}#sk-container-id-1 div.sk-item {position: relative;z-index: 1;}#sk-container-id-1 div.sk-parallel {display: flex;align-items: stretch;justify-content: center;background-color: white;position: relative;}#sk-container-id-1 div.sk-item::before, #sk-container-id-1 div.sk-parallel-item::before {content: \"\";position: absolute;border-left: 1px solid gray;box-sizing: border-box;top: 0;bottom: 0;left: 50%;z-index: -1;}#sk-container-id-1 div.sk-parallel-item {display: flex;flex-direction: column;z-index: 1;position: relative;background-color: white;}#sk-container-id-1 div.sk-parallel-item:first-child::after {align-self: flex-end;width: 50%;}#sk-container-id-1 div.sk-parallel-item:last-child::after {align-self: flex-start;width: 50%;}#sk-container-id-1 div.sk-parallel-item:only-child::after {width: 0;}#sk-container-id-1 div.sk-dashed-wrapped {border: 1px dashed gray;margin: 0 0.4em 0.5em 0.4em;box-sizing: border-box;padding-bottom: 0.4em;background-color: white;}#sk-container-id-1 div.sk-label label {font-family: monospace;font-weight: bold;display: inline-block;line-height: 1.2em;}#sk-container-id-1 div.sk-label-container {text-align: center;}#sk-container-id-1 div.sk-container {/* jupyter's `normalize.less` sets `[hidden] { display: none; }` but bootstrap.min.css set `[hidden] { display: none !important; }` so we also need the `!important` here to be able to override the default hidden behavior on the sphinx rendered scikit-learn.org. See: https://github.com/scikit-learn/scikit-learn/issues/21755 */display: inline-block !important;position: relative;}#sk-container-id-1 div.sk-text-repr-fallback {display: none;}</style><div id=\"sk-container-id-1\" class=\"sk-top-container\"><div class=\"sk-text-repr-fallback\"><pre>AdaBoostClassifier(estimator=LogisticRegression(C=5, max_iter=100000,\n",
       "                                                solver=&#x27;saga&#x27;))</pre><b>In a Jupyter environment, please rerun this cell to show the HTML representation or trust the notebook. <br />On GitHub, the HTML representation is unable to render, please try loading this page with nbviewer.org.</b></div><div class=\"sk-container\" hidden><div class=\"sk-item sk-dashed-wrapped\"><div class=\"sk-label-container\"><div class=\"sk-label sk-toggleable\"><input class=\"sk-toggleable__control sk-hidden--visually\" id=\"sk-estimator-id-1\" type=\"checkbox\" ><label for=\"sk-estimator-id-1\" class=\"sk-toggleable__label sk-toggleable__label-arrow\">AdaBoostClassifier</label><div class=\"sk-toggleable__content\"><pre>AdaBoostClassifier(estimator=LogisticRegression(C=5, max_iter=100000,\n",
       "                                                solver=&#x27;saga&#x27;))</pre></div></div></div><div class=\"sk-parallel\"><div class=\"sk-parallel-item\"><div class=\"sk-item\"><div class=\"sk-label-container\"><div class=\"sk-label sk-toggleable\"><input class=\"sk-toggleable__control sk-hidden--visually\" id=\"sk-estimator-id-2\" type=\"checkbox\" ><label for=\"sk-estimator-id-2\" class=\"sk-toggleable__label sk-toggleable__label-arrow\">estimator: LogisticRegression</label><div class=\"sk-toggleable__content\"><pre>LogisticRegression(C=5, max_iter=100000, solver=&#x27;saga&#x27;)</pre></div></div></div><div class=\"sk-serial\"><div class=\"sk-item\"><div class=\"sk-estimator sk-toggleable\"><input class=\"sk-toggleable__control sk-hidden--visually\" id=\"sk-estimator-id-3\" type=\"checkbox\" ><label for=\"sk-estimator-id-3\" class=\"sk-toggleable__label sk-toggleable__label-arrow\">LogisticRegression</label><div class=\"sk-toggleable__content\"><pre>LogisticRegression(C=5, max_iter=100000, solver=&#x27;saga&#x27;)</pre></div></div></div></div></div></div></div></div></div></div>"
      ],
      "text/plain": [
       "AdaBoostClassifier(estimator=LogisticRegression(C=5, max_iter=100000,\n",
       "                                                solver='saga'))"
      ]
     },
     "execution_count": 179,
     "metadata": {},
     "output_type": "execute_result"
    }
   ],
   "source": [
    "adc = AdaBoostClassifier(estimator=LogisticRegression(C=5, solver=\"saga\", max_iter=100000), n_estimators=50)\n",
    "adc"
   ]
  },
  {
   "cell_type": "code",
   "execution_count": 180,
   "id": "aeeef307",
   "metadata": {
    "execution": {
     "iopub.execute_input": "2023-08-13T06:10:31.722305Z",
     "iopub.status.busy": "2023-08-13T06:10:31.721906Z",
     "iopub.status.idle": "2023-08-13T06:10:31.726648Z",
     "shell.execute_reply": "2023-08-13T06:10:31.725572Z"
    },
    "papermill": {
     "duration": 0.1231,
     "end_time": "2023-08-13T06:10:31.728793",
     "exception": false,
     "start_time": "2023-08-13T06:10:31.605693",
     "status": "completed"
    },
    "tags": []
   },
   "outputs": [],
   "source": [
    "# submit_v4(selected_model=adc,\n",
    "#           selected_features={'cat': ['isFrequentReviewer']},\n",
    "#           param_grid=None,\n",
    "#           vocab=rfe_vocab)"
   ]
  },
  {
   "cell_type": "code",
   "execution_count": 181,
   "id": "a1251c0e",
   "metadata": {
    "execution": {
     "iopub.execute_input": "2023-08-13T06:10:31.960680Z",
     "iopub.status.busy": "2023-08-13T06:10:31.960282Z",
     "iopub.status.idle": "2023-08-13T06:10:31.965108Z",
     "shell.execute_reply": "2023-08-13T06:10:31.964062Z"
    },
    "papermill": {
     "duration": 0.124021,
     "end_time": "2023-08-13T06:10:31.967597",
     "exception": false,
     "start_time": "2023-08-13T06:10:31.843576",
     "status": "completed"
    },
    "tags": []
   },
   "outputs": [],
   "source": [
    "# AdaBoost on all features with RFE vocab on reviewText\n",
    "\n",
    "# submit_v4(selected_model=adc,\n",
    "#           selected_features=all_dict,\n",
    "#           param_grid=None,\n",
    "#           vocab=rfe_vocab)"
   ]
  },
  {
   "cell_type": "code",
   "execution_count": 182,
   "id": "538e17fb",
   "metadata": {
    "execution": {
     "iopub.execute_input": "2023-08-13T06:10:32.199708Z",
     "iopub.status.busy": "2023-08-13T06:10:32.199318Z",
     "iopub.status.idle": "2023-08-13T06:10:32.203869Z",
     "shell.execute_reply": "2023-08-13T06:10:32.202766Z"
    },
    "papermill": {
     "duration": 0.12356,
     "end_time": "2023-08-13T06:10:32.206128",
     "exception": false,
     "start_time": "2023-08-13T06:10:32.082568",
     "status": "completed"
    },
    "tags": []
   },
   "outputs": [],
   "source": [
    "# RandomForestClassifier test run on one feature\n",
    "\n",
    "# rfc_2 = RandomForestClassifier()\n",
    "# rfc_2"
   ]
  },
  {
   "cell_type": "code",
   "execution_count": 183,
   "id": "4e688c9f",
   "metadata": {
    "execution": {
     "iopub.execute_input": "2023-08-13T06:10:32.437162Z",
     "iopub.status.busy": "2023-08-13T06:10:32.436793Z",
     "iopub.status.idle": "2023-08-13T06:10:32.440332Z",
     "shell.execute_reply": "2023-08-13T06:10:32.439665Z"
    },
    "papermill": {
     "duration": 0.121288,
     "end_time": "2023-08-13T06:10:32.442149",
     "exception": false,
     "start_time": "2023-08-13T06:10:32.320861",
     "status": "completed"
    },
    "tags": []
   },
   "outputs": [],
   "source": [
    "# submit_v4(selected_model=rfc_2,\n",
    "#           selected_features={'txt': ['reviewerName']},\n",
    "#           param_grid=None,\n",
    "#           vocab=rfe_vocab)"
   ]
  },
  {
   "cell_type": "code",
   "execution_count": 184,
   "id": "ee2449cb",
   "metadata": {
    "execution": {
     "iopub.execute_input": "2023-08-13T06:10:32.671457Z",
     "iopub.status.busy": "2023-08-13T06:10:32.671055Z",
     "iopub.status.idle": "2023-08-13T06:10:32.675548Z",
     "shell.execute_reply": "2023-08-13T06:10:32.674488Z"
    },
    "papermill": {
     "duration": 0.121593,
     "end_time": "2023-08-13T06:10:32.678119",
     "exception": false,
     "start_time": "2023-08-13T06:10:32.556526",
     "status": "completed"
    },
    "tags": []
   },
   "outputs": [],
   "source": [
    "# RandomForestClassifier on all features with RFE vocab on reviewText\n",
    "\n",
    "# submit_v4(selected_model=rfc_2,\n",
    "#           selected_features=all_dict,\n",
    "#           param_grid=None,\n",
    "#           vocab=rfe_vocab)"
   ]
  },
  {
   "cell_type": "markdown",
   "id": "b269789f",
   "metadata": {
    "papermill": {
     "duration": 0.11363,
     "end_time": "2023-08-13T06:10:32.907510",
     "exception": false,
     "start_time": "2023-08-13T06:10:32.793880",
     "status": "completed"
    },
    "tags": []
   },
   "source": [
    "## Submit_v2 for merged file models  "
   ]
  },
  {
   "cell_type": "code",
   "execution_count": 185,
   "id": "0a16ceed",
   "metadata": {
    "execution": {
     "iopub.execute_input": "2023-08-13T06:10:33.137824Z",
     "iopub.status.busy": "2023-08-13T06:10:33.137029Z",
     "iopub.status.idle": "2023-08-13T06:10:33.143602Z",
     "shell.execute_reply": "2023-08-13T06:10:33.142748Z"
    },
    "papermill": {
     "duration": 0.124562,
     "end_time": "2023-08-13T06:10:33.145627",
     "exception": false,
     "start_time": "2023-08-13T06:10:33.021065",
     "status": "completed"
    },
    "tags": []
   },
   "outputs": [],
   "source": [
    "# def submit_v2(selected_model=pipe_final, selected_features=None):\n",
    "#     '''\n",
    "#     Note that \"selected_preprocessor\" is already used within selected_model or pipeline\n",
    "#     '''\n",
    "#     # Retrain on the whole train.csv file  \n",
    "#     merged = select_features(load_csv(\"train\"), load_csv(\"movies\"))\n",
    "#     X_train = merged.drop(labels=\"sentiment\", axis=1)\n",
    "#     y_train = merged[\"sentiment\"]\n",
    "    \n",
    "#     #Use selected features\n",
    "#     if selected_features:\n",
    "#         X_train = X_train[selected_features]\n",
    "    \n",
    "#     # Check1\n",
    "#     print(X_train.shape)\n",
    "#     print(X_train.head())\n",
    "#     try:\n",
    "#         print(selected_model.named_steps['model'].intercept_, selected_model.named_steps['model'].coef_)\n",
    "#     except:\n",
    "#         print(\"Model not trained yet!\")\n",
    "    \n",
    "#     # Fit \n",
    "#     selected_model.fit(X_train, y_train)\n",
    "    \n",
    "#     # Check2\n",
    "#     print(selected_model.named_steps['model'].intercept_, selected_model.named_steps['model'].coef_)\n",
    "    \n",
    "#     # Predict on test.csv file\n",
    "#     merged_test = select_features(load_csv(\"test\"), load_csv(\"movies\"))\n",
    "#     X_test = merged_test.copy()\n",
    "#     if selected_features:\n",
    "#         X_test = X_test[selected_features]\n",
    "    \n",
    "#     # Check3\n",
    "#     print(X_test.shape)\n",
    "#     print(X_test.head())\n",
    "    \n",
    "#     y_pred = selected_model.predict(X_test)\n",
    "    \n",
    "#     pred_df = pd.DataFrame(y_pred)\n",
    "#     pred_df.columns = [\"sentiment\"]\n",
    "#     pred_df.index.name = \"id\"\n",
    "#     pred_df.to_csv(\"submission.csv\")\n",
    "    \n",
    "#     return \"Successfully created the submission file!!!\""
   ]
  },
  {
   "cell_type": "code",
   "execution_count": 186,
   "id": "d54b0887",
   "metadata": {
    "execution": {
     "iopub.execute_input": "2023-08-13T06:10:33.373844Z",
     "iopub.status.busy": "2023-08-13T06:10:33.373462Z",
     "iopub.status.idle": "2023-08-13T06:10:33.377740Z",
     "shell.execute_reply": "2023-08-13T06:10:33.376606Z"
    },
    "papermill": {
     "duration": 0.120737,
     "end_time": "2023-08-13T06:10:33.379711",
     "exception": false,
     "start_time": "2023-08-13T06:10:33.258974",
     "status": "completed"
    },
    "tags": []
   },
   "outputs": [],
   "source": [
    "#     X_test = merged_test.copy()\n",
    "    \n",
    "#     y_pred = pipe_best4.predict(X_test)\n",
    "# #     np.unique(y_pred, return_counts=True)\n",
    "#     pred_df = pd.DataFrame(y_pred)\n",
    "#     pred_df.columns = [\"sentiment\"]\n",
    "#     pred_df.index.name = \"id\"\n",
    "#     pred_df.value_counts()"
   ]
  },
  {
   "cell_type": "code",
   "execution_count": 187,
   "id": "5e23554f",
   "metadata": {
    "execution": {
     "iopub.execute_input": "2023-08-13T06:10:33.609225Z",
     "iopub.status.busy": "2023-08-13T06:10:33.608538Z",
     "iopub.status.idle": "2023-08-13T06:10:33.612459Z",
     "shell.execute_reply": "2023-08-13T06:10:33.611579Z"
    },
    "papermill": {
     "duration": 0.121789,
     "end_time": "2023-08-13T06:10:33.614653",
     "exception": false,
     "start_time": "2023-08-13T06:10:33.492864",
     "status": "completed"
    },
    "tags": []
   },
   "outputs": [],
   "source": [
    "# X_test.columns"
   ]
  },
  {
   "cell_type": "markdown",
   "id": "8ab3a91d",
   "metadata": {
    "papermill": {
     "duration": 0.121183,
     "end_time": "2023-08-13T06:10:33.850623",
     "exception": false,
     "start_time": "2023-08-13T06:10:33.729440",
     "status": "completed"
    },
    "tags": []
   },
   "source": [
    "### Uncomment to submit using v2 of submit function  "
   ]
  },
  {
   "cell_type": "code",
   "execution_count": 188,
   "id": "934681bc",
   "metadata": {
    "execution": {
     "iopub.execute_input": "2023-08-13T06:10:34.083135Z",
     "iopub.status.busy": "2023-08-13T06:10:34.082473Z",
     "iopub.status.idle": "2023-08-13T06:10:34.086486Z",
     "shell.execute_reply": "2023-08-13T06:10:34.085575Z"
    },
    "papermill": {
     "duration": 0.123054,
     "end_time": "2023-08-13T06:10:34.088592",
     "exception": false,
     "start_time": "2023-08-13T06:10:33.965538",
     "status": "completed"
    },
    "tags": []
   },
   "outputs": [],
   "source": [
    "# best4 = [\"audienceScore\", \"rating\", \"isFrequentReviewer\", \"reviewText\"]\n",
    "# best4"
   ]
  },
  {
   "cell_type": "code",
   "execution_count": 189,
   "id": "627085a2",
   "metadata": {
    "execution": {
     "iopub.execute_input": "2023-08-13T06:10:34.322883Z",
     "iopub.status.busy": "2023-08-13T06:10:34.322155Z",
     "iopub.status.idle": "2023-08-13T06:10:34.326053Z",
     "shell.execute_reply": "2023-08-13T06:10:34.325268Z"
    },
    "papermill": {
     "duration": 0.124914,
     "end_time": "2023-08-13T06:10:34.328014",
     "exception": false,
     "start_time": "2023-08-13T06:10:34.203100",
     "status": "completed"
    },
    "tags": []
   },
   "outputs": [],
   "source": [
    "# submit_v2(selected_model=pipe_RTonly, selected_features=['reviewText'])"
   ]
  },
  {
   "cell_type": "markdown",
   "id": "0c4596cf",
   "metadata": {
    "papermill": {
     "duration": 0.11372,
     "end_time": "2023-08-13T06:10:34.555934",
     "exception": false,
     "start_time": "2023-08-13T06:10:34.442214",
     "status": "completed"
    },
    "tags": []
   },
   "source": [
    "### Inspect the submission.csv file  "
   ]
  },
  {
   "cell_type": "code",
   "execution_count": 190,
   "id": "7a038cfc",
   "metadata": {
    "execution": {
     "iopub.execute_input": "2023-08-13T06:10:34.852447Z",
     "iopub.status.busy": "2023-08-13T06:10:34.851744Z",
     "iopub.status.idle": "2023-08-13T06:10:34.855550Z",
     "shell.execute_reply": "2023-08-13T06:10:34.854823Z"
    },
    "papermill": {
     "duration": 0.186925,
     "end_time": "2023-08-13T06:10:34.857514",
     "exception": false,
     "start_time": "2023-08-13T06:10:34.670589",
     "status": "completed"
    },
    "tags": []
   },
   "outputs": [],
   "source": [
    "# sub = pd.read_csv('submission.csv')\n",
    "# sub.shape, sub.head()"
   ]
  },
  {
   "cell_type": "code",
   "execution_count": 191,
   "id": "0960da47",
   "metadata": {
    "execution": {
     "iopub.execute_input": "2023-08-13T06:10:35.088350Z",
     "iopub.status.busy": "2023-08-13T06:10:35.087632Z",
     "iopub.status.idle": "2023-08-13T06:10:35.091564Z",
     "shell.execute_reply": "2023-08-13T06:10:35.090779Z"
    },
    "papermill": {
     "duration": 0.121591,
     "end_time": "2023-08-13T06:10:35.093598",
     "exception": false,
     "start_time": "2023-08-13T06:10:34.972007",
     "status": "completed"
    },
    "tags": []
   },
   "outputs": [],
   "source": [
    "# sub['sentiment'].value_counts()"
   ]
  },
  {
   "cell_type": "markdown",
   "id": "5452f6fb",
   "metadata": {
    "papermill": {
     "duration": 0.113717,
     "end_time": "2023-08-13T06:10:35.320831",
     "exception": false,
     "start_time": "2023-08-13T06:10:35.207114",
     "status": "completed"
    },
    "tags": []
   },
   "source": [
    "## submit_v3 for merged file models - does not retrain on whole data  "
   ]
  },
  {
   "cell_type": "code",
   "execution_count": 192,
   "id": "83b3b917",
   "metadata": {
    "execution": {
     "iopub.execute_input": "2023-08-13T06:10:35.550451Z",
     "iopub.status.busy": "2023-08-13T06:10:35.549741Z",
     "iopub.status.idle": "2023-08-13T06:10:35.554338Z",
     "shell.execute_reply": "2023-08-13T06:10:35.553510Z"
    },
    "papermill": {
     "duration": 0.121807,
     "end_time": "2023-08-13T06:10:35.556324",
     "exception": false,
     "start_time": "2023-08-13T06:10:35.434517",
     "status": "completed"
    },
    "tags": []
   },
   "outputs": [],
   "source": [
    "# def submit_v3(selected_model=pipe_final):\n",
    "#     '''\n",
    "#     Note that \"selected_preprocessor\" is already used within selected_model or pipeline\n",
    "#     '''\n",
    "      \n",
    "#     # Predict on test.csv file\n",
    "#     merged_test = select_features(load_csv(\"test\"), load_csv(\"movies\"))\n",
    "#     X_test = merged_test.copy()\n",
    "    \n",
    "#     X_test = X_test[[\"audienceScore\", \"rating\", \"isFrequentReviewer\", \"reviewText\"]]    # This is a new line\n",
    "\n",
    "    \n",
    "#     y_pred = selected_model.predict(X_test)\n",
    "    \n",
    "#     pred_df = pd.DataFrame(y_pred)\n",
    "#     pred_df.columns = [\"sentiment\"]\n",
    "#     pred_df.index.name = \"id\"\n",
    "#     pred_df.to_csv(\"submission.csv\")\n",
    "    \n",
    "#     return \"Successfully created the submission file!!!\""
   ]
  },
  {
   "cell_type": "markdown",
   "id": "87486fb7",
   "metadata": {
    "papermill": {
     "duration": 0.115146,
     "end_time": "2023-08-13T06:10:35.785321",
     "exception": false,
     "start_time": "2023-08-13T06:10:35.670175",
     "status": "completed"
    },
    "tags": []
   },
   "source": [
    "### Uncomment to submit using v3 of submit function  "
   ]
  },
  {
   "cell_type": "code",
   "execution_count": 193,
   "id": "03add717",
   "metadata": {
    "execution": {
     "iopub.execute_input": "2023-08-13T06:10:36.035924Z",
     "iopub.status.busy": "2023-08-13T06:10:36.035223Z",
     "iopub.status.idle": "2023-08-13T06:10:36.038950Z",
     "shell.execute_reply": "2023-08-13T06:10:36.038255Z"
    },
    "papermill": {
     "duration": 0.138156,
     "end_time": "2023-08-13T06:10:36.040959",
     "exception": false,
     "start_time": "2023-08-13T06:10:35.902803",
     "status": "completed"
    },
    "tags": []
   },
   "outputs": [],
   "source": [
    "# submit_v3(selected_model=pipe_best4)"
   ]
  },
  {
   "cell_type": "markdown",
   "id": "e597cff0",
   "metadata": {
    "papermill": {
     "duration": 0.113349,
     "end_time": "2023-08-13T06:10:36.271820",
     "exception": false,
     "start_time": "2023-08-13T06:10:36.158471",
     "status": "completed"
    },
    "tags": []
   },
   "source": [
    "## Rough work  "
   ]
  },
  {
   "cell_type": "code",
   "execution_count": 194,
   "id": "72c12e70",
   "metadata": {
    "execution": {
     "iopub.execute_input": "2023-08-13T06:10:36.503221Z",
     "iopub.status.busy": "2023-08-13T06:10:36.502799Z",
     "iopub.status.idle": "2023-08-13T06:10:42.484612Z",
     "shell.execute_reply": "2023-08-13T06:10:42.483424Z"
    },
    "papermill": {
     "duration": 6.101288,
     "end_time": "2023-08-13T06:10:42.487221",
     "exception": false,
     "start_time": "2023-08-13T06:10:36.385933",
     "status": "completed"
    },
    "tags": []
   },
   "outputs": [],
   "source": [
    "    # Predict on test.csv file\n",
    "    merged_test = select_features(load_csv(\"test\"), load_csv(\"movies\"))\n",
    "    X_test = merged_test.copy()\n",
    "    \n",
    "    X_test = X_test[[\"audienceScore\", \"rating\", \"isFrequentReviewer\", \"reviewText\"]]    # This is a new line"
   ]
  },
  {
   "cell_type": "code",
   "execution_count": 195,
   "id": "a78f92ca",
   "metadata": {
    "execution": {
     "iopub.execute_input": "2023-08-13T06:10:42.719484Z",
     "iopub.status.busy": "2023-08-13T06:10:42.718771Z",
     "iopub.status.idle": "2023-08-13T06:10:42.723238Z",
     "shell.execute_reply": "2023-08-13T06:10:42.722466Z"
    },
    "papermill": {
     "duration": 0.121971,
     "end_time": "2023-08-13T06:10:42.725245",
     "exception": false,
     "start_time": "2023-08-13T06:10:42.603274",
     "status": "completed"
    },
    "tags": []
   },
   "outputs": [],
   "source": [
    "# X_test.head()"
   ]
  },
  {
   "cell_type": "code",
   "execution_count": 196,
   "id": "4756e0ea",
   "metadata": {
    "execution": {
     "iopub.execute_input": "2023-08-13T06:10:42.958533Z",
     "iopub.status.busy": "2023-08-13T06:10:42.957586Z",
     "iopub.status.idle": "2023-08-13T06:10:42.962217Z",
     "shell.execute_reply": "2023-08-13T06:10:42.961246Z"
    },
    "papermill": {
     "duration": 0.122988,
     "end_time": "2023-08-13T06:10:42.964375",
     "exception": false,
     "start_time": "2023-08-13T06:10:42.841387",
     "status": "completed"
    },
    "tags": []
   },
   "outputs": [],
   "source": [
    "# X_test['audienceScore'].describe()"
   ]
  },
  {
   "cell_type": "code",
   "execution_count": 197,
   "id": "ac0dfda6",
   "metadata": {
    "execution": {
     "iopub.execute_input": "2023-08-13T06:10:43.195575Z",
     "iopub.status.busy": "2023-08-13T06:10:43.195171Z",
     "iopub.status.idle": "2023-08-13T06:10:43.199432Z",
     "shell.execute_reply": "2023-08-13T06:10:43.198516Z"
    },
    "papermill": {
     "duration": 0.123136,
     "end_time": "2023-08-13T06:10:43.201577",
     "exception": false,
     "start_time": "2023-08-13T06:10:43.078441",
     "status": "completed"
    },
    "tags": []
   },
   "outputs": [],
   "source": [
    "# X_test['rating'].value_counts()"
   ]
  },
  {
   "cell_type": "code",
   "execution_count": 198,
   "id": "306be7bb",
   "metadata": {
    "execution": {
     "iopub.execute_input": "2023-08-13T06:10:43.432670Z",
     "iopub.status.busy": "2023-08-13T06:10:43.431947Z",
     "iopub.status.idle": "2023-08-13T06:10:43.436971Z",
     "shell.execute_reply": "2023-08-13T06:10:43.435865Z"
    },
    "papermill": {
     "duration": 0.122629,
     "end_time": "2023-08-13T06:10:43.439227",
     "exception": false,
     "start_time": "2023-08-13T06:10:43.316598",
     "status": "completed"
    },
    "tags": []
   },
   "outputs": [],
   "source": [
    "# X_test['isFrequentReviewer'].value_counts()"
   ]
  },
  {
   "cell_type": "markdown",
   "id": "bf10e296",
   "metadata": {
    "papermill": {
     "duration": 0.114534,
     "end_time": "2023-08-13T06:10:43.669182",
     "exception": false,
     "start_time": "2023-08-13T06:10:43.554648",
     "status": "completed"
    },
    "tags": []
   },
   "source": [
    "## Implement KNN classifier  "
   ]
  },
  {
   "cell_type": "code",
   "execution_count": 199,
   "id": "4e6f4199",
   "metadata": {
    "execution": {
     "iopub.execute_input": "2023-08-13T06:10:43.900475Z",
     "iopub.status.busy": "2023-08-13T06:10:43.900106Z",
     "iopub.status.idle": "2023-08-13T06:10:43.904517Z",
     "shell.execute_reply": "2023-08-13T06:10:43.903467Z"
    },
    "papermill": {
     "duration": 0.122125,
     "end_time": "2023-08-13T06:10:43.906660",
     "exception": false,
     "start_time": "2023-08-13T06:10:43.784535",
     "status": "completed"
    },
    "tags": []
   },
   "outputs": [],
   "source": [
    "# from sklearn.neighbors import KNeighborsClassifier"
   ]
  },
  {
   "cell_type": "code",
   "execution_count": 200,
   "id": "c26ab3e0",
   "metadata": {
    "execution": {
     "iopub.execute_input": "2023-08-13T06:10:44.140540Z",
     "iopub.status.busy": "2023-08-13T06:10:44.139800Z",
     "iopub.status.idle": "2023-08-13T06:10:44.144151Z",
     "shell.execute_reply": "2023-08-13T06:10:44.143404Z"
    },
    "papermill": {
     "duration": 0.125483,
     "end_time": "2023-08-13T06:10:44.146113",
     "exception": false,
     "start_time": "2023-08-13T06:10:44.020630",
     "status": "completed"
    },
    "tags": []
   },
   "outputs": [],
   "source": [
    "# Note that we are borrowing \"ct_final\" column transformer from above  "
   ]
  },
  {
   "cell_type": "code",
   "execution_count": 201,
   "id": "311b17e1",
   "metadata": {
    "execution": {
     "iopub.execute_input": "2023-08-13T06:10:44.380196Z",
     "iopub.status.busy": "2023-08-13T06:10:44.378882Z",
     "iopub.status.idle": "2023-08-13T06:10:44.383811Z",
     "shell.execute_reply": "2023-08-13T06:10:44.382900Z"
    },
    "papermill": {
     "duration": 0.122532,
     "end_time": "2023-08-13T06:10:44.385844",
     "exception": false,
     "start_time": "2023-08-13T06:10:44.263312",
     "status": "completed"
    },
    "tags": []
   },
   "outputs": [],
   "source": [
    "# pipe_knn = Pipeline(steps=[\n",
    "#                         (\"preprocessor\", ct_final),\n",
    "#                         (\"model\", KNeighborsClassifier())\n",
    "#                     ])\n",
    "# pipe_knn"
   ]
  },
  {
   "cell_type": "code",
   "execution_count": 202,
   "id": "e6574c2f",
   "metadata": {
    "execution": {
     "iopub.execute_input": "2023-08-13T06:10:44.619131Z",
     "iopub.status.busy": "2023-08-13T06:10:44.618062Z",
     "iopub.status.idle": "2023-08-13T06:10:44.622574Z",
     "shell.execute_reply": "2023-08-13T06:10:44.621626Z"
    },
    "papermill": {
     "duration": 0.123666,
     "end_time": "2023-08-13T06:10:44.624835",
     "exception": false,
     "start_time": "2023-08-13T06:10:44.501169",
     "status": "completed"
    },
    "tags": []
   },
   "outputs": [],
   "source": [
    "# Train and predict on merged training data  \n",
    "# split_train_predict(merged_train_features, merged_train_labels, pipe_knn, test_size=0.25, random_state=42)"
   ]
  },
  {
   "cell_type": "markdown",
   "id": "75a5d730",
   "metadata": {
    "papermill": {
     "duration": 0.114116,
     "end_time": "2023-08-13T06:10:44.853172",
     "exception": false,
     "start_time": "2023-08-13T06:10:44.739056",
     "status": "completed"
    },
    "tags": []
   },
   "source": [
    "# Part I (Older code)  "
   ]
  },
  {
   "cell_type": "markdown",
   "id": "4092fbba",
   "metadata": {
    "papermill": {
     "duration": 0.114985,
     "end_time": "2023-08-13T06:10:45.082676",
     "exception": false,
     "start_time": "2023-08-13T06:10:44.967691",
     "status": "completed"
    },
    "tags": []
   },
   "source": [
    "### Logistic Regression with stop words  "
   ]
  },
  {
   "cell_type": "code",
   "execution_count": 203,
   "id": "fa6cd394",
   "metadata": {
    "execution": {
     "iopub.execute_input": "2023-08-13T06:10:45.315195Z",
     "iopub.status.busy": "2023-08-13T06:10:45.314496Z",
     "iopub.status.idle": "2023-08-13T06:10:45.318350Z",
     "shell.execute_reply": "2023-08-13T06:10:45.317576Z"
    },
    "papermill": {
     "duration": 0.121571,
     "end_time": "2023-08-13T06:10:45.320598",
     "exception": false,
     "start_time": "2023-08-13T06:10:45.199027",
     "status": "completed"
    },
    "tags": []
   },
   "outputs": [],
   "source": [
    "# tvec_sw = TfidfVectorizer(stop_words=stop_words)"
   ]
  },
  {
   "cell_type": "code",
   "execution_count": 204,
   "id": "0fafea3e",
   "metadata": {
    "execution": {
     "iopub.execute_input": "2023-08-13T06:10:45.552540Z",
     "iopub.status.busy": "2023-08-13T06:10:45.551863Z",
     "iopub.status.idle": "2023-08-13T06:10:45.555752Z",
     "shell.execute_reply": "2023-08-13T06:10:45.554943Z"
    },
    "papermill": {
     "duration": 0.122499,
     "end_time": "2023-08-13T06:10:45.557780",
     "exception": false,
     "start_time": "2023-08-13T06:10:45.435281",
     "status": "completed"
    },
    "tags": []
   },
   "outputs": [],
   "source": [
    "# logreg_sw_pipe = preprocess_n_train(X_train, y_train, tvec_sw, logreg)\n",
    "# logreg_sw_pipe"
   ]
  },
  {
   "cell_type": "code",
   "execution_count": 205,
   "id": "3fd58b79",
   "metadata": {
    "execution": {
     "iopub.execute_input": "2023-08-13T06:10:45.789970Z",
     "iopub.status.busy": "2023-08-13T06:10:45.789274Z",
     "iopub.status.idle": "2023-08-13T06:10:45.794337Z",
     "shell.execute_reply": "2023-08-13T06:10:45.793057Z"
    },
    "papermill": {
     "duration": 0.124657,
     "end_time": "2023-08-13T06:10:45.796625",
     "exception": false,
     "start_time": "2023-08-13T06:10:45.671968",
     "status": "completed"
    },
    "tags": []
   },
   "outputs": [],
   "source": [
    "# y_pred_logreg_sw = predict_n_evaluate(logreg_sw_pipe, X_test, y_test)\n",
    "# y_pred_logreg_sw"
   ]
  },
  {
   "cell_type": "markdown",
   "id": "d9122759",
   "metadata": {
    "papermill": {
     "duration": 0.127533,
     "end_time": "2023-08-13T06:10:46.040813",
     "exception": false,
     "start_time": "2023-08-13T06:10:45.913280",
     "status": "completed"
    },
    "tags": []
   },
   "source": [
    "### Logistic regression with different ngram ranges  "
   ]
  },
  {
   "cell_type": "code",
   "execution_count": 206,
   "id": "0e4d85c9",
   "metadata": {
    "execution": {
     "iopub.execute_input": "2023-08-13T06:10:46.271168Z",
     "iopub.status.busy": "2023-08-13T06:10:46.270808Z",
     "iopub.status.idle": "2023-08-13T06:10:46.274984Z",
     "shell.execute_reply": "2023-08-13T06:10:46.274242Z"
    },
    "papermill": {
     "duration": 0.122438,
     "end_time": "2023-08-13T06:10:46.277057",
     "exception": false,
     "start_time": "2023-08-13T06:10:46.154619",
     "status": "completed"
    },
    "tags": []
   },
   "outputs": [],
   "source": [
    "# tvec_ngram_2 = TfidfVectorizer(ngram_range=(1,2))"
   ]
  },
  {
   "cell_type": "code",
   "execution_count": 207,
   "id": "751fe0a9",
   "metadata": {
    "execution": {
     "iopub.execute_input": "2023-08-13T06:10:46.510426Z",
     "iopub.status.busy": "2023-08-13T06:10:46.509956Z",
     "iopub.status.idle": "2023-08-13T06:10:46.514329Z",
     "shell.execute_reply": "2023-08-13T06:10:46.513273Z"
    },
    "papermill": {
     "duration": 0.124822,
     "end_time": "2023-08-13T06:10:46.516786",
     "exception": false,
     "start_time": "2023-08-13T06:10:46.391964",
     "status": "completed"
    },
    "tags": []
   },
   "outputs": [],
   "source": [
    "# logreg_ng2_pipe = preprocess_n_train(X_train, y_train, tvec_ngram_2, logreg)\n",
    "# logreg_ng2_pipe"
   ]
  },
  {
   "cell_type": "code",
   "execution_count": 208,
   "id": "b379e35e",
   "metadata": {
    "execution": {
     "iopub.execute_input": "2023-08-13T06:10:46.816293Z",
     "iopub.status.busy": "2023-08-13T06:10:46.815500Z",
     "iopub.status.idle": "2023-08-13T06:10:46.820117Z",
     "shell.execute_reply": "2023-08-13T06:10:46.819389Z"
    },
    "papermill": {
     "duration": 0.122966,
     "end_time": "2023-08-13T06:10:46.822369",
     "exception": false,
     "start_time": "2023-08-13T06:10:46.699403",
     "status": "completed"
    },
    "tags": []
   },
   "outputs": [],
   "source": [
    "# y_pred_logreg_ng2 = predict_n_evaluate(logreg_ng2_pipe, X_test, y_test)\n",
    "# y_pred_logreg_ng2"
   ]
  },
  {
   "cell_type": "markdown",
   "id": "1286ffab",
   "metadata": {
    "papermill": {
     "duration": 0.113486,
     "end_time": "2023-08-13T06:10:47.050543",
     "exception": false,
     "start_time": "2023-08-13T06:10:46.937057",
     "status": "completed"
    },
    "tags": []
   },
   "source": [
    "### Logistic regression with C=2, ngram range (1,2), stop words as None and min_df, max_df adjusted\n",
    "### Class weight balanced"
   ]
  },
  {
   "cell_type": "code",
   "execution_count": 209,
   "id": "c2eac82a",
   "metadata": {
    "execution": {
     "iopub.execute_input": "2023-08-13T06:10:47.282029Z",
     "iopub.status.busy": "2023-08-13T06:10:47.281304Z",
     "iopub.status.idle": "2023-08-13T06:10:47.285965Z",
     "shell.execute_reply": "2023-08-13T06:10:47.285260Z"
    },
    "papermill": {
     "duration": 0.123698,
     "end_time": "2023-08-13T06:10:47.288320",
     "exception": false,
     "start_time": "2023-08-13T06:10:47.164622",
     "status": "completed"
    },
    "tags": []
   },
   "outputs": [],
   "source": [
    "# logreg = LogisticRegression(max_iter=100000, C=2, class_weight=\"balanced\")"
   ]
  },
  {
   "cell_type": "code",
   "execution_count": 210,
   "id": "fa84226d",
   "metadata": {
    "execution": {
     "iopub.execute_input": "2023-08-13T06:10:47.519714Z",
     "iopub.status.busy": "2023-08-13T06:10:47.518917Z",
     "iopub.status.idle": "2023-08-13T06:10:47.523676Z",
     "shell.execute_reply": "2023-08-13T06:10:47.522825Z"
    },
    "papermill": {
     "duration": 0.123032,
     "end_time": "2023-08-13T06:10:47.525994",
     "exception": false,
     "start_time": "2023-08-13T06:10:47.402962",
     "status": "completed"
    },
    "tags": []
   },
   "outputs": [],
   "source": [
    "# tvec_ngram_2_sw_df = TfidfVectorizer(ngram_range=(1,2), stop_words=None, min_df=0.0001, max_df=0.50)\n",
    "# tvec_ngram_2_sw_df"
   ]
  },
  {
   "cell_type": "code",
   "execution_count": 211,
   "id": "95f36d47",
   "metadata": {
    "execution": {
     "iopub.execute_input": "2023-08-13T06:10:47.761073Z",
     "iopub.status.busy": "2023-08-13T06:10:47.760300Z",
     "iopub.status.idle": "2023-08-13T06:10:47.764954Z",
     "shell.execute_reply": "2023-08-13T06:10:47.764217Z"
    },
    "papermill": {
     "duration": 0.124509,
     "end_time": "2023-08-13T06:10:47.767175",
     "exception": false,
     "start_time": "2023-08-13T06:10:47.642666",
     "status": "completed"
    },
    "tags": []
   },
   "outputs": [],
   "source": [
    "# logreg_ng2_sw_df_pipe = preprocess_n_train(X_train, y_train, tvec_ngram_2_sw_df, logreg)\n",
    "# logreg_ng2_sw_df_pipe"
   ]
  },
  {
   "cell_type": "code",
   "execution_count": 212,
   "id": "8540564e",
   "metadata": {
    "execution": {
     "iopub.execute_input": "2023-08-13T06:10:47.998539Z",
     "iopub.status.busy": "2023-08-13T06:10:47.998113Z",
     "iopub.status.idle": "2023-08-13T06:10:48.002469Z",
     "shell.execute_reply": "2023-08-13T06:10:48.001362Z"
    },
    "papermill": {
     "duration": 0.122624,
     "end_time": "2023-08-13T06:10:48.004820",
     "exception": false,
     "start_time": "2023-08-13T06:10:47.882196",
     "status": "completed"
    },
    "tags": []
   },
   "outputs": [],
   "source": [
    "# y_pred_logreg_ng2_sw_df = predict_n_evaluate(logreg_ng2_sw_df_pipe, X_test, y_test)\n",
    "# y_pred_logreg_ng2_sw_df"
   ]
  },
  {
   "cell_type": "markdown",
   "id": "29000a08",
   "metadata": {
    "papermill": {
     "duration": 0.116654,
     "end_time": "2023-08-13T06:10:48.235798",
     "exception": false,
     "start_time": "2023-08-13T06:10:48.119144",
     "status": "completed"
    },
    "tags": []
   },
   "source": [
    "### Log reg with parameters from GridSearchCV  \n",
    "\n",
    "`This is the best score with \"reviewText column alone for analysis`  "
   ]
  },
  {
   "cell_type": "code",
   "execution_count": 213,
   "id": "e170a9ae",
   "metadata": {
    "execution": {
     "iopub.execute_input": "2023-08-13T06:10:48.467258Z",
     "iopub.status.busy": "2023-08-13T06:10:48.466835Z",
     "iopub.status.idle": "2023-08-13T06:10:48.471970Z",
     "shell.execute_reply": "2023-08-13T06:10:48.470894Z"
    },
    "papermill": {
     "duration": 0.124486,
     "end_time": "2023-08-13T06:10:48.474445",
     "exception": false,
     "start_time": "2023-08-13T06:10:48.349959",
     "status": "completed"
    },
    "tags": []
   },
   "outputs": [],
   "source": [
    "logreg_cv1 = LogisticRegression(max_iter=100000, C=10)\n",
    "tvec_cv1 = TfidfVectorizer(max_features=None, ngram_range=(1,2))"
   ]
  },
  {
   "cell_type": "code",
   "execution_count": 214,
   "id": "bd918955",
   "metadata": {
    "execution": {
     "iopub.execute_input": "2023-08-13T06:10:48.705271Z",
     "iopub.status.busy": "2023-08-13T06:10:48.704491Z",
     "iopub.status.idle": "2023-08-13T06:10:48.709862Z",
     "shell.execute_reply": "2023-08-13T06:10:48.709056Z"
    },
    "papermill": {
     "duration": 0.12367,
     "end_time": "2023-08-13T06:10:48.712095",
     "exception": false,
     "start_time": "2023-08-13T06:10:48.588425",
     "status": "completed"
    },
    "tags": []
   },
   "outputs": [],
   "source": [
    "pipe_cv1 = Pipeline(steps=[\n",
    "    (\"preprocessor\", tvec_cv1),\n",
    "    (\"model\", logreg_cv1)\n",
    "])"
   ]
  },
  {
   "cell_type": "code",
   "execution_count": 215,
   "id": "ad2c4486",
   "metadata": {
    "execution": {
     "iopub.execute_input": "2023-08-13T06:10:48.943621Z",
     "iopub.status.busy": "2023-08-13T06:10:48.942797Z",
     "iopub.status.idle": "2023-08-13T06:10:48.947621Z",
     "shell.execute_reply": "2023-08-13T06:10:48.946829Z"
    },
    "papermill": {
     "duration": 0.123067,
     "end_time": "2023-08-13T06:10:48.949828",
     "exception": false,
     "start_time": "2023-08-13T06:10:48.826761",
     "status": "completed"
    },
    "tags": []
   },
   "outputs": [],
   "source": [
    "# pipe_cv1.fit(X_train, y_train)"
   ]
  },
  {
   "cell_type": "code",
   "execution_count": 216,
   "id": "f2de564d",
   "metadata": {
    "execution": {
     "iopub.execute_input": "2023-08-13T06:10:49.180904Z",
     "iopub.status.busy": "2023-08-13T06:10:49.180174Z",
     "iopub.status.idle": "2023-08-13T06:10:49.185006Z",
     "shell.execute_reply": "2023-08-13T06:10:49.184121Z"
    },
    "papermill": {
     "duration": 0.123547,
     "end_time": "2023-08-13T06:10:49.187459",
     "exception": false,
     "start_time": "2023-08-13T06:10:49.063912",
     "status": "completed"
    },
    "tags": []
   },
   "outputs": [],
   "source": [
    "# pipe_cv1.score(X_train, y_train)"
   ]
  },
  {
   "cell_type": "markdown",
   "id": "643c32d3",
   "metadata": {
    "papermill": {
     "duration": 0.114381,
     "end_time": "2023-08-13T06:10:49.417301",
     "exception": false,
     "start_time": "2023-08-13T06:10:49.302920",
     "status": "completed"
    },
    "tags": []
   },
   "source": [
    "### SVM model with stop words  "
   ]
  },
  {
   "cell_type": "code",
   "execution_count": 217,
   "id": "a952e88c",
   "metadata": {
    "execution": {
     "iopub.execute_input": "2023-08-13T06:10:49.649549Z",
     "iopub.status.busy": "2023-08-13T06:10:49.648766Z",
     "iopub.status.idle": "2023-08-13T06:10:49.653287Z",
     "shell.execute_reply": "2023-08-13T06:10:49.652513Z"
    },
    "papermill": {
     "duration": 0.123442,
     "end_time": "2023-08-13T06:10:49.655444",
     "exception": false,
     "start_time": "2023-08-13T06:10:49.532002",
     "status": "completed"
    },
    "tags": []
   },
   "outputs": [],
   "source": [
    "# svm_sw_pipe = preprocess_n_train(X_train, y_train, tvec_sw, svm)\n",
    "# svm_sw_pipe"
   ]
  },
  {
   "cell_type": "code",
   "execution_count": 218,
   "id": "75763c00",
   "metadata": {
    "execution": {
     "iopub.execute_input": "2023-08-13T06:10:49.887081Z",
     "iopub.status.busy": "2023-08-13T06:10:49.886361Z",
     "iopub.status.idle": "2023-08-13T06:10:49.890809Z",
     "shell.execute_reply": "2023-08-13T06:10:49.890074Z"
    },
    "papermill": {
     "duration": 0.122685,
     "end_time": "2023-08-13T06:10:49.892911",
     "exception": false,
     "start_time": "2023-08-13T06:10:49.770226",
     "status": "completed"
    },
    "tags": []
   },
   "outputs": [],
   "source": [
    "# y_pred_svm_sw = predict_n_evaluate(svm_sw_pipe, X_test, y_test)\n",
    "# y_pred_svm_sw"
   ]
  },
  {
   "cell_type": "markdown",
   "id": "a583b3e2",
   "metadata": {
    "papermill": {
     "duration": 0.113643,
     "end_time": "2023-08-13T06:10:50.120816",
     "exception": false,
     "start_time": "2023-08-13T06:10:50.007173",
     "status": "completed"
    },
    "tags": []
   },
   "source": [
    "### GaussianNB  "
   ]
  },
  {
   "cell_type": "markdown",
   "id": "5c050205",
   "metadata": {
    "papermill": {
     "duration": 0.113509,
     "end_time": "2023-08-13T06:10:50.349540",
     "exception": false,
     "start_time": "2023-08-13T06:10:50.236031",
     "status": "completed"
    },
    "tags": []
   },
   "source": [
    "https://stackoverflow.com/questions/28384680/scikit-learns-pipeline-a-sparse-matrix-was-passed-but-dense-data-is-required"
   ]
  },
  {
   "cell_type": "code",
   "execution_count": 219,
   "id": "6ccc3aae",
   "metadata": {
    "execution": {
     "iopub.execute_input": "2023-08-13T06:10:50.579688Z",
     "iopub.status.busy": "2023-08-13T06:10:50.578897Z",
     "iopub.status.idle": "2023-08-13T06:10:50.583585Z",
     "shell.execute_reply": "2023-08-13T06:10:50.582627Z"
    },
    "papermill": {
     "duration": 0.12244,
     "end_time": "2023-08-13T06:10:50.585845",
     "exception": false,
     "start_time": "2023-08-13T06:10:50.463405",
     "status": "completed"
    },
    "tags": []
   },
   "outputs": [],
   "source": [
    "# gnb = GaussianNB()\n",
    "# gnb"
   ]
  },
  {
   "cell_type": "code",
   "execution_count": 220,
   "id": "0acc4aa6",
   "metadata": {
    "execution": {
     "iopub.execute_input": "2023-08-13T06:10:50.816351Z",
     "iopub.status.busy": "2023-08-13T06:10:50.815945Z",
     "iopub.status.idle": "2023-08-13T06:10:50.819761Z",
     "shell.execute_reply": "2023-08-13T06:10:50.819000Z"
    },
    "papermill": {
     "duration": 0.121843,
     "end_time": "2023-08-13T06:10:50.821718",
     "exception": false,
     "start_time": "2023-08-13T06:10:50.699875",
     "status": "completed"
    },
    "tags": []
   },
   "outputs": [],
   "source": [
    "# gnb_pipe = preprocess_n_train(X_train, y_train, tvec, gnb)\n",
    "# gnb_pipe"
   ]
  },
  {
   "cell_type": "markdown",
   "id": "a408287b",
   "metadata": {
    "papermill": {
     "duration": 0.113795,
     "end_time": "2023-08-13T06:10:51.050321",
     "exception": false,
     "start_time": "2023-08-13T06:10:50.936526",
     "status": "completed"
    },
    "tags": []
   },
   "source": [
    "# Part II (Older code)  \n"
   ]
  },
  {
   "cell_type": "markdown",
   "id": "181b9069",
   "metadata": {
    "papermill": {
     "duration": 0.114987,
     "end_time": "2023-08-13T06:10:51.279054",
     "exception": false,
     "start_time": "2023-08-13T06:10:51.164067",
     "status": "completed"
    },
    "tags": []
   },
   "source": [
    "### Separate features and labels from merged dataset  "
   ]
  },
  {
   "cell_type": "code",
   "execution_count": 221,
   "id": "d76f12ac",
   "metadata": {
    "execution": {
     "iopub.execute_input": "2023-08-13T06:10:51.510208Z",
     "iopub.status.busy": "2023-08-13T06:10:51.509006Z",
     "iopub.status.idle": "2023-08-13T06:10:51.513444Z",
     "shell.execute_reply": "2023-08-13T06:10:51.512723Z"
    },
    "papermill": {
     "duration": 0.122036,
     "end_time": "2023-08-13T06:10:51.515392",
     "exception": false,
     "start_time": "2023-08-13T06:10:51.393356",
     "status": "completed"
    },
    "tags": []
   },
   "outputs": [],
   "source": [
    "# merged_train_features = merged[['movieid', 'reviewerName', 'isFrequentReviewer', 'reviewText',\n",
    "#        'audienceScore', 'rating', 'runtimeMinutes', 'genre',\n",
    "#        'originalLanguage', 'director']]\n",
    "# merged_train_features.shape"
   ]
  },
  {
   "cell_type": "code",
   "execution_count": 222,
   "id": "1ce86c00",
   "metadata": {
    "execution": {
     "iopub.execute_input": "2023-08-13T06:10:51.746865Z",
     "iopub.status.busy": "2023-08-13T06:10:51.745907Z",
     "iopub.status.idle": "2023-08-13T06:10:51.750591Z",
     "shell.execute_reply": "2023-08-13T06:10:51.749533Z"
    },
    "papermill": {
     "duration": 0.123394,
     "end_time": "2023-08-13T06:10:51.753175",
     "exception": false,
     "start_time": "2023-08-13T06:10:51.629781",
     "status": "completed"
    },
    "tags": []
   },
   "outputs": [],
   "source": [
    "# merged_train_labels = merged[\"sentiment\"]\n",
    "# merged_train_labels.shape"
   ]
  },
  {
   "cell_type": "markdown",
   "id": "4913252f",
   "metadata": {
    "papermill": {
     "duration": 0.114013,
     "end_time": "2023-08-13T06:10:51.981443",
     "exception": false,
     "start_time": "2023-08-13T06:10:51.867430",
     "status": "completed"
    },
    "tags": []
   },
   "source": [
    "### Identify variable types for different preprocessing pipes  "
   ]
  },
  {
   "cell_type": "code",
   "execution_count": 223,
   "id": "6fe3146f",
   "metadata": {
    "execution": {
     "iopub.execute_input": "2023-08-13T06:10:52.211828Z",
     "iopub.status.busy": "2023-08-13T06:10:52.211423Z",
     "iopub.status.idle": "2023-08-13T06:10:52.217931Z",
     "shell.execute_reply": "2023-08-13T06:10:52.215604Z"
    },
    "papermill": {
     "duration": 0.125156,
     "end_time": "2023-08-13T06:10:52.220423",
     "exception": false,
     "start_time": "2023-08-13T06:10:52.095267",
     "status": "completed"
    },
    "tags": []
   },
   "outputs": [],
   "source": [
    "# num_vars = [\"audienceScore\", \"runtimeMinutes\"]\n",
    "# txt_vars = [\"originalLanguage\", \"genre\", \"director\", \"reviewerName\", \"reviewText\"]\n",
    "# cat_vars = [\"rating\", \"isFrequentReviewer\"]"
   ]
  },
  {
   "cell_type": "code",
   "execution_count": 224,
   "id": "0b2f90c2",
   "metadata": {
    "execution": {
     "iopub.execute_input": "2023-08-13T06:10:52.452859Z",
     "iopub.status.busy": "2023-08-13T06:10:52.452155Z",
     "iopub.status.idle": "2023-08-13T06:10:52.457016Z",
     "shell.execute_reply": "2023-08-13T06:10:52.456138Z"
    },
    "papermill": {
     "duration": 0.123739,
     "end_time": "2023-08-13T06:10:52.459409",
     "exception": false,
     "start_time": "2023-08-13T06:10:52.335670",
     "status": "completed"
    },
    "tags": []
   },
   "outputs": [],
   "source": [
    "# num_pipe = Pipeline(steps=[\n",
    "#                             (\"imputer\", SimpleImputer(strategy=\"mean\", missing_values=np.nan)),\n",
    "#                             (\"scaler\", MinMaxScaler())\n",
    "#                         ])\n",
    "# num_pipe"
   ]
  },
  {
   "cell_type": "code",
   "execution_count": 225,
   "id": "beb7912e",
   "metadata": {
    "execution": {
     "iopub.execute_input": "2023-08-13T06:10:52.758012Z",
     "iopub.status.busy": "2023-08-13T06:10:52.757317Z",
     "iopub.status.idle": "2023-08-13T06:10:52.762097Z",
     "shell.execute_reply": "2023-08-13T06:10:52.761083Z"
    },
    "papermill": {
     "duration": 0.189463,
     "end_time": "2023-08-13T06:10:52.764452",
     "exception": false,
     "start_time": "2023-08-13T06:10:52.574989",
     "status": "completed"
    },
    "tags": []
   },
   "outputs": [],
   "source": [
    "# txt_pipe = Pipeline(steps=[\n",
    "#                             (\"tvec\", TfidfVectorizer())\n",
    "#                         ])\n",
    "# txt_pipe"
   ]
  },
  {
   "cell_type": "code",
   "execution_count": 226,
   "id": "cdde9d7e",
   "metadata": {
    "execution": {
     "iopub.execute_input": "2023-08-13T06:10:52.996531Z",
     "iopub.status.busy": "2023-08-13T06:10:52.995750Z",
     "iopub.status.idle": "2023-08-13T06:10:53.000425Z",
     "shell.execute_reply": "2023-08-13T06:10:52.999611Z"
    },
    "papermill": {
     "duration": 0.123736,
     "end_time": "2023-08-13T06:10:53.002677",
     "exception": false,
     "start_time": "2023-08-13T06:10:52.878941",
     "status": "completed"
    },
    "tags": []
   },
   "outputs": [],
   "source": [
    "# cat_pipe = Pipeline(steps=[\n",
    "#                             (\"ohe\", OneHotEncoder(handle_unknown=\"ignore\"))\n",
    "#                         ])\n",
    "# cat_pipe"
   ]
  },
  {
   "cell_type": "code",
   "execution_count": 227,
   "id": "ddb66222",
   "metadata": {
    "execution": {
     "iopub.execute_input": "2023-08-13T06:10:53.234239Z",
     "iopub.status.busy": "2023-08-13T06:10:53.233491Z",
     "iopub.status.idle": "2023-08-13T06:10:53.238020Z",
     "shell.execute_reply": "2023-08-13T06:10:53.237230Z"
    },
    "papermill": {
     "duration": 0.123488,
     "end_time": "2023-08-13T06:10:53.240055",
     "exception": false,
     "start_time": "2023-08-13T06:10:53.116567",
     "status": "completed"
    },
    "tags": []
   },
   "outputs": [],
   "source": [
    "# tfidf_vec_1 = TfidfVectorizer(ngram_range=(1,2))\n",
    "# tfidf_vec_1"
   ]
  },
  {
   "cell_type": "code",
   "execution_count": 228,
   "id": "53e60837",
   "metadata": {
    "execution": {
     "iopub.execute_input": "2023-08-13T06:10:53.470857Z",
     "iopub.status.busy": "2023-08-13T06:10:53.470481Z",
     "iopub.status.idle": "2023-08-13T06:10:53.475751Z",
     "shell.execute_reply": "2023-08-13T06:10:53.474659Z"
    },
    "papermill": {
     "duration": 0.122925,
     "end_time": "2023-08-13T06:10:53.477871",
     "exception": false,
     "start_time": "2023-08-13T06:10:53.354946",
     "status": "completed"
    },
    "tags": []
   },
   "outputs": [],
   "source": [
    "# ct_final = ColumnTransformer(transformers=[\n",
    "#                                         (\"num\", num_pipe, num_vars),\n",
    "#                                         (\"txt1\", txt_pipe, \"originalLanguage\"),\n",
    "#                                         (\"txt2\", txt_pipe, \"genre\"),\n",
    "#                                         (\"txt3\", txt_pipe, \"director\"),\n",
    "#                                         (\"cat\", cat_pipe, cat_vars),\n",
    "#                                         (\"txt4a\", tfidf_vec_1, \"reviewText\")\n",
    "# #                                         (\"txt4\", TfidfVectorizer(ngram_range=(1,2)), \"reviewText\"),\n",
    "# #                                         (\"cat2\", cat_pipe, [\"isFrequentReviewer\"])\n",
    "#                                         ], remainder=\"drop\", n_jobs=1)\n",
    "\n",
    "# # Note that this transformer drops \"movieid\" column and \"reviewerName\" column  \n",
    "# ct_final"
   ]
  },
  {
   "cell_type": "code",
   "execution_count": 229,
   "id": "6bdb7d54",
   "metadata": {
    "execution": {
     "iopub.execute_input": "2023-08-13T06:10:53.708633Z",
     "iopub.status.busy": "2023-08-13T06:10:53.707433Z",
     "iopub.status.idle": "2023-08-13T06:10:53.712014Z",
     "shell.execute_reply": "2023-08-13T06:10:53.711252Z"
    },
    "papermill": {
     "duration": 0.122143,
     "end_time": "2023-08-13T06:10:53.714037",
     "exception": false,
     "start_time": "2023-08-13T06:10:53.591894",
     "status": "completed"
    },
    "tags": []
   },
   "outputs": [],
   "source": [
    "# pipe_final = Pipeline(steps=[\n",
    "#                         (\"preprocessor\", ct_final),\n",
    "#                         (\"model\", LogisticRegression(max_iter=100000))\n",
    "#                     ])\n",
    "# pipe_final"
   ]
  },
  {
   "cell_type": "code",
   "execution_count": 230,
   "id": "0ee1368b",
   "metadata": {
    "execution": {
     "iopub.execute_input": "2023-08-13T06:10:53.946331Z",
     "iopub.status.busy": "2023-08-13T06:10:53.945880Z",
     "iopub.status.idle": "2023-08-13T06:10:53.949889Z",
     "shell.execute_reply": "2023-08-13T06:10:53.948968Z"
    },
    "papermill": {
     "duration": 0.12242,
     "end_time": "2023-08-13T06:10:53.951890",
     "exception": false,
     "start_time": "2023-08-13T06:10:53.829470",
     "status": "completed"
    },
    "tags": []
   },
   "outputs": [],
   "source": [
    "# final_vars = num_vars + txt_vars + cat_vars\n",
    "# len(final_vars), final_vars"
   ]
  },
  {
   "cell_type": "markdown",
   "id": "ffc4fb79",
   "metadata": {
    "papermill": {
     "duration": 0.113359,
     "end_time": "2023-08-13T06:10:54.179137",
     "exception": false,
     "start_time": "2023-08-13T06:10:54.065778",
     "status": "completed"
    },
    "tags": []
   },
   "source": [
    "### Use \"split_train_predict\" function to run end-to-end pipeline  "
   ]
  },
  {
   "cell_type": "code",
   "execution_count": 231,
   "id": "4c2ba722",
   "metadata": {
    "execution": {
     "iopub.execute_input": "2023-08-13T06:10:54.409628Z",
     "iopub.status.busy": "2023-08-13T06:10:54.408751Z",
     "iopub.status.idle": "2023-08-13T06:10:54.413695Z",
     "shell.execute_reply": "2023-08-13T06:10:54.412652Z"
    },
    "papermill": {
     "duration": 0.123005,
     "end_time": "2023-08-13T06:10:54.416016",
     "exception": false,
     "start_time": "2023-08-13T06:10:54.293011",
     "status": "completed"
    },
    "tags": []
   },
   "outputs": [],
   "source": [
    "# split_train_predict(merged_train_features, merged_train_labels, pipe_final, test_size=0.25, random_state=42)"
   ]
  },
  {
   "cell_type": "markdown",
   "id": "a0744348",
   "metadata": {
    "papermill": {
     "duration": 0.113482,
     "end_time": "2023-08-13T06:10:54.643245",
     "exception": false,
     "start_time": "2023-08-13T06:10:54.529763",
     "status": "completed"
    },
    "tags": []
   },
   "source": [
    "## Try the best four features obtained on local machine  "
   ]
  },
  {
   "cell_type": "code",
   "execution_count": 232,
   "id": "0f614ce9",
   "metadata": {
    "execution": {
     "iopub.execute_input": "2023-08-13T06:10:54.875196Z",
     "iopub.status.busy": "2023-08-13T06:10:54.874521Z",
     "iopub.status.idle": "2023-08-13T06:10:54.878423Z",
     "shell.execute_reply": "2023-08-13T06:10:54.877710Z"
    },
    "papermill": {
     "duration": 0.122145,
     "end_time": "2023-08-13T06:10:54.880489",
     "exception": false,
     "start_time": "2023-08-13T06:10:54.758344",
     "status": "completed"
    },
    "tags": []
   },
   "outputs": [],
   "source": [
    "# tfidf_vec_2 = TfidfVectorizer(ngram_range=(1,2))\n",
    "# tfidf_vec_2"
   ]
  },
  {
   "cell_type": "code",
   "execution_count": 233,
   "id": "131542b8",
   "metadata": {
    "execution": {
     "iopub.execute_input": "2023-08-13T06:10:55.112286Z",
     "iopub.status.busy": "2023-08-13T06:10:55.111227Z",
     "iopub.status.idle": "2023-08-13T06:10:55.115930Z",
     "shell.execute_reply": "2023-08-13T06:10:55.115179Z"
    },
    "papermill": {
     "duration": 0.122845,
     "end_time": "2023-08-13T06:10:55.118156",
     "exception": false,
     "start_time": "2023-08-13T06:10:54.995311",
     "status": "completed"
    },
    "tags": []
   },
   "outputs": [],
   "source": [
    "# ct_best4 = ColumnTransformer(transformers=[\n",
    "#                                             (\"num\", num_pipe, [\"audienceScore\"]),\n",
    "#                                             (\"cat\", cat_pipe, [\"rating\", \"isFrequentReviewer\"]),\n",
    "#                                             (\"tvec\", tfidf_vec_2, \"reviewText\")\n",
    "#                             ])\n",
    "\n",
    "# pipe_best4 = Pipeline(steps=[\n",
    "#     (\"preprocessor\", ct_best4),\n",
    "#     (\"model\", LogisticRegression())\n",
    "# ])\n",
    "\n",
    "# pipe_best4.set_params(model__C=10, model__max_iter=100000)\n",
    "\n",
    "# pipe_best4"
   ]
  },
  {
   "cell_type": "code",
   "execution_count": 234,
   "id": "3cab2c16",
   "metadata": {
    "execution": {
     "iopub.execute_input": "2023-08-13T06:10:55.351150Z",
     "iopub.status.busy": "2023-08-13T06:10:55.350460Z",
     "iopub.status.idle": "2023-08-13T06:10:55.354630Z",
     "shell.execute_reply": "2023-08-13T06:10:55.353776Z"
    },
    "papermill": {
     "duration": 0.122548,
     "end_time": "2023-08-13T06:10:55.356725",
     "exception": false,
     "start_time": "2023-08-13T06:10:55.234177",
     "status": "completed"
    },
    "tags": []
   },
   "outputs": [],
   "source": [
    "# split_train_predict(merged[[\"audienceScore\", \"rating\", \"isFrequentReviewer\", \"reviewText\"]], merged[\"sentiment\"], pipe_best4, test_size=0.25)"
   ]
  },
  {
   "cell_type": "markdown",
   "id": "f498c67f",
   "metadata": {
    "papermill": {
     "duration": 0.114012,
     "end_time": "2023-08-13T06:10:55.585408",
     "exception": false,
     "start_time": "2023-08-13T06:10:55.471396",
     "status": "completed"
    },
    "tags": []
   },
   "source": [
    "## Try only 'reviewText' column  "
   ]
  },
  {
   "cell_type": "code",
   "execution_count": 235,
   "id": "ca22e4a3",
   "metadata": {
    "execution": {
     "iopub.execute_input": "2023-08-13T06:10:55.852440Z",
     "iopub.status.busy": "2023-08-13T06:10:55.851836Z",
     "iopub.status.idle": "2023-08-13T06:10:55.856396Z",
     "shell.execute_reply": "2023-08-13T06:10:55.855276Z"
    },
    "papermill": {
     "duration": 0.153213,
     "end_time": "2023-08-13T06:10:55.858748",
     "exception": false,
     "start_time": "2023-08-13T06:10:55.705535",
     "status": "completed"
    },
    "tags": []
   },
   "outputs": [],
   "source": [
    "# tfidf_vec_3 = TfidfVectorizer(ngram_range=(1,2))\n",
    "# tfidf_vec_3"
   ]
  },
  {
   "cell_type": "code",
   "execution_count": 236,
   "id": "3d6ba5d9",
   "metadata": {
    "execution": {
     "iopub.execute_input": "2023-08-13T06:10:56.144329Z",
     "iopub.status.busy": "2023-08-13T06:10:56.143464Z",
     "iopub.status.idle": "2023-08-13T06:10:56.150709Z",
     "shell.execute_reply": "2023-08-13T06:10:56.149713Z"
    },
    "papermill": {
     "duration": 0.155253,
     "end_time": "2023-08-13T06:10:56.153113",
     "exception": false,
     "start_time": "2023-08-13T06:10:55.997860",
     "status": "completed"
    },
    "tags": []
   },
   "outputs": [],
   "source": [
    "# ct_RTonly = ColumnTransformer(transformers=[\n",
    "#                                             ('txt', tfidf_vec_3, 'reviewText'),\n",
    "#                                             ], remainder='drop')\n",
    "# ct_RTonly"
   ]
  },
  {
   "cell_type": "code",
   "execution_count": 237,
   "id": "76107ee0",
   "metadata": {
    "execution": {
     "iopub.execute_input": "2023-08-13T06:10:56.389010Z",
     "iopub.status.busy": "2023-08-13T06:10:56.387962Z",
     "iopub.status.idle": "2023-08-13T06:10:56.393151Z",
     "shell.execute_reply": "2023-08-13T06:10:56.392221Z"
    },
    "papermill": {
     "duration": 0.124046,
     "end_time": "2023-08-13T06:10:56.395357",
     "exception": false,
     "start_time": "2023-08-13T06:10:56.271311",
     "status": "completed"
    },
    "tags": []
   },
   "outputs": [],
   "source": [
    "# pipe_RTonly = Pipeline(steps=[\n",
    "#     (\"preprocessor\", ct_RTonly),\n",
    "#     (\"model\", LogisticRegression())\n",
    "# ])\n",
    "\n",
    "# pipe_RTonly.set_params(model__C=10, model__max_iter=100000)\n",
    "\n",
    "# pipe_RTonly"
   ]
  },
  {
   "cell_type": "markdown",
   "id": "b7526c0a",
   "metadata": {
    "papermill": {
     "duration": 0.115236,
     "end_time": "2023-08-13T06:10:56.625802",
     "exception": false,
     "start_time": "2023-08-13T06:10:56.510566",
     "status": "completed"
    },
    "tags": []
   },
   "source": [
    "## Using the 'submit_v4' function  "
   ]
  },
  {
   "cell_type": "markdown",
   "id": "d3d9cf39",
   "metadata": {
    "papermill": {
     "duration": 0.114748,
     "end_time": "2023-08-13T06:10:56.858288",
     "exception": false,
     "start_time": "2023-08-13T06:10:56.743540",
     "status": "completed"
    },
    "tags": []
   },
   "source": [
    "### Try the best 4 parameters with submit_v4 function"
   ]
  },
  {
   "cell_type": "code",
   "execution_count": 238,
   "id": "48c50f31",
   "metadata": {
    "execution": {
     "iopub.execute_input": "2023-08-13T06:10:57.090902Z",
     "iopub.status.busy": "2023-08-13T06:10:57.090232Z",
     "iopub.status.idle": "2023-08-13T06:10:57.094818Z",
     "shell.execute_reply": "2023-08-13T06:10:57.093794Z"
    },
    "papermill": {
     "duration": 0.123992,
     "end_time": "2023-08-13T06:10:57.097102",
     "exception": false,
     "start_time": "2023-08-13T06:10:56.973110",
     "status": "completed"
    },
    "tags": []
   },
   "outputs": [],
   "source": [
    "# best4 = [\"audienceScore\", \"rating\", \"isFrequentReviewer\", \"reviewText\"]\n",
    "\n",
    "# best4_dict = {'cat': [\"rating\", \"isFrequentReviewer\"],\n",
    "#              'num': [\"audienceScore\"],\n",
    "#              'txt': ['reviewText']}\n",
    "\n",
    "# best4_dict = {'num': [\"audienceScore\"],\n",
    "#              'txt': ['reviewText', 'movieid', 'director']}\n",
    "\n",
    "# best4_dict"
   ]
  },
  {
   "cell_type": "code",
   "execution_count": 239,
   "id": "7ac83c6e",
   "metadata": {
    "execution": {
     "iopub.execute_input": "2023-08-13T06:10:57.330905Z",
     "iopub.status.busy": "2023-08-13T06:10:57.329866Z",
     "iopub.status.idle": "2023-08-13T06:10:57.334720Z",
     "shell.execute_reply": "2023-08-13T06:10:57.333755Z"
    },
    "papermill": {
     "duration": 0.125102,
     "end_time": "2023-08-13T06:10:57.337165",
     "exception": false,
     "start_time": "2023-08-13T06:10:57.212063",
     "status": "completed"
    },
    "tags": []
   },
   "outputs": [],
   "source": [
    "# submit_v4(selected_features=best4_dict)"
   ]
  },
  {
   "cell_type": "markdown",
   "id": "d98a2381",
   "metadata": {
    "papermill": {
     "duration": 0.114347,
     "end_time": "2023-08-13T06:10:57.566251",
     "exception": false,
     "start_time": "2023-08-13T06:10:57.451904",
     "status": "completed"
    },
    "tags": []
   },
   "source": [
    "### Try the best 3 parameters with submit_v4 function"
   ]
  },
  {
   "cell_type": "code",
   "execution_count": 240,
   "id": "9b8724ed",
   "metadata": {
    "execution": {
     "iopub.execute_input": "2023-08-13T06:10:57.798942Z",
     "iopub.status.busy": "2023-08-13T06:10:57.798537Z",
     "iopub.status.idle": "2023-08-13T06:10:57.803646Z",
     "shell.execute_reply": "2023-08-13T06:10:57.802715Z"
    },
    "papermill": {
     "duration": 0.124341,
     "end_time": "2023-08-13T06:10:57.805854",
     "exception": false,
     "start_time": "2023-08-13T06:10:57.681513",
     "status": "completed"
    },
    "tags": []
   },
   "outputs": [],
   "source": [
    "# best3 = [\"audienceScore\", \"isFrequentReviewer\", \"reviewText\"]\n",
    "# best3_dict = {'cat': [\"isFrequentReviewer\"],\n",
    "#              'num': [\"audienceScore\"],\n",
    "#              'txt': ['reviewText']}\n",
    "# best3_dict"
   ]
  },
  {
   "cell_type": "code",
   "execution_count": 241,
   "id": "62978355",
   "metadata": {
    "execution": {
     "iopub.execute_input": "2023-08-13T06:10:58.037362Z",
     "iopub.status.busy": "2023-08-13T06:10:58.036946Z",
     "iopub.status.idle": "2023-08-13T06:10:58.041148Z",
     "shell.execute_reply": "2023-08-13T06:10:58.040183Z"
    },
    "papermill": {
     "duration": 0.122252,
     "end_time": "2023-08-13T06:10:58.043398",
     "exception": false,
     "start_time": "2023-08-13T06:10:57.921146",
     "status": "completed"
    },
    "tags": []
   },
   "outputs": [],
   "source": [
    "# submit_v4(selected_features=best3_dict)"
   ]
  },
  {
   "cell_type": "markdown",
   "id": "d0c24cc6",
   "metadata": {
    "papermill": {
     "duration": 0.115906,
     "end_time": "2023-08-13T06:10:58.273288",
     "exception": false,
     "start_time": "2023-08-13T06:10:58.157382",
     "status": "completed"
    },
    "tags": []
   },
   "source": [
    "## Try throwing almost everything (no boxOffice) at submit_v4!  "
   ]
  },
  {
   "cell_type": "code",
   "execution_count": 242,
   "id": "b6184eca",
   "metadata": {
    "execution": {
     "iopub.execute_input": "2023-08-13T06:10:58.505148Z",
     "iopub.status.busy": "2023-08-13T06:10:58.504769Z",
     "iopub.status.idle": "2023-08-13T06:10:58.512138Z",
     "shell.execute_reply": "2023-08-13T06:10:58.511085Z"
    },
    "papermill": {
     "duration": 0.125984,
     "end_time": "2023-08-13T06:10:58.514382",
     "exception": false,
     "start_time": "2023-08-13T06:10:58.388398",
     "status": "completed"
    },
    "tags": []
   },
   "outputs": [
    {
     "data": {
      "text/plain": [
       "\"Most from merged = ['movieid', 'reviewerName', 'isFrequentReviewer', 'reviewText',\\n       'audienceScore', 'rating', 'runtimeMinutes', 'genre', \\n       'originalLanguage', 'director']\""
      ]
     },
     "execution_count": 242,
     "metadata": {},
     "output_type": "execute_result"
    }
   ],
   "source": [
    "\"\"\"Most from merged = ['movieid', 'reviewerName', 'isFrequentReviewer', 'reviewText',\n",
    "       'audienceScore', 'rating', 'runtimeMinutes', 'genre', \n",
    "       'originalLanguage', 'director']\"\"\"\n",
    "\n",
    "# almost_dict = {'cat': [\"isFrequentReviewer\", \"rating\", \"originalLanguage\"],\n",
    "#              'num': [\"audienceScore\", \"runtimeMinutes\"],\n",
    "#              'txt': ['reviewText', 'reviewerName', 'movieid', 'genre', 'director']}\n",
    "# almost_dict"
   ]
  },
  {
   "cell_type": "code",
   "execution_count": 243,
   "id": "71ebe780",
   "metadata": {
    "execution": {
     "iopub.execute_input": "2023-08-13T06:10:58.816797Z",
     "iopub.status.busy": "2023-08-13T06:10:58.816403Z",
     "iopub.status.idle": "2023-08-13T06:10:58.820575Z",
     "shell.execute_reply": "2023-08-13T06:10:58.819802Z"
    },
    "papermill": {
     "duration": 0.193212,
     "end_time": "2023-08-13T06:10:58.822765",
     "exception": false,
     "start_time": "2023-08-13T06:10:58.629553",
     "status": "completed"
    },
    "tags": []
   },
   "outputs": [],
   "source": [
    "# submit_v4(selected_features=almost_dict)"
   ]
  },
  {
   "cell_type": "markdown",
   "id": "a415cb2e",
   "metadata": {
    "papermill": {
     "duration": 0.11434,
     "end_time": "2023-08-13T06:10:59.052746",
     "exception": false,
     "start_time": "2023-08-13T06:10:58.938406",
     "status": "completed"
    },
    "tags": []
   },
   "source": [
    "## Try throwing everything possible at submit_v4!  "
   ]
  },
  {
   "cell_type": "code",
   "execution_count": 244,
   "id": "67fdec0d",
   "metadata": {
    "execution": {
     "iopub.execute_input": "2023-08-13T06:10:59.285133Z",
     "iopub.status.busy": "2023-08-13T06:10:59.284726Z",
     "iopub.status.idle": "2023-08-13T06:10:59.291556Z",
     "shell.execute_reply": "2023-08-13T06:10:59.290751Z"
    },
    "papermill": {
     "duration": 0.125964,
     "end_time": "2023-08-13T06:10:59.293623",
     "exception": false,
     "start_time": "2023-08-13T06:10:59.167659",
     "status": "completed"
    },
    "tags": []
   },
   "outputs": [
    {
     "data": {
      "text/plain": [
       "\"All from merged = ['movieid', 'reviewerName', 'isFrequentReviewer', 'reviewText',\\n       'audienceScore', 'rating', 'runtimeMinutes', 'genre', 'boxOffice',\\n       'originalLanguage', 'director']\""
      ]
     },
     "execution_count": 244,
     "metadata": {},
     "output_type": "execute_result"
    }
   ],
   "source": [
    "\"\"\"All from merged = ['movieid', 'reviewerName', 'isFrequentReviewer', 'reviewText',\n",
    "       'audienceScore', 'rating', 'runtimeMinutes', 'genre', 'boxOffice',\n",
    "       'originalLanguage', 'director']\"\"\"\n",
    "\n",
    "# all_dict = {'cat': [\"isFrequentReviewer\", \"rating\", \"originalLanguage\"],\n",
    "#              'num': [\"audienceScore\", \"runtimeMinutes\", \"boxOffice\"],\n",
    "#              'txt': ['reviewText', 'reviewerName', 'movieid', 'genre', 'director']}\n",
    "# all_dict"
   ]
  },
  {
   "cell_type": "code",
   "execution_count": 245,
   "id": "6e63f2e5",
   "metadata": {
    "execution": {
     "iopub.execute_input": "2023-08-13T06:10:59.527161Z",
     "iopub.status.busy": "2023-08-13T06:10:59.526780Z",
     "iopub.status.idle": "2023-08-13T06:10:59.530905Z",
     "shell.execute_reply": "2023-08-13T06:10:59.530058Z"
    },
    "papermill": {
     "duration": 0.12251,
     "end_time": "2023-08-13T06:10:59.532869",
     "exception": false,
     "start_time": "2023-08-13T06:10:59.410359",
     "status": "completed"
    },
    "tags": []
   },
   "outputs": [],
   "source": [
    "# submit_v4(selected_features=all_dict)"
   ]
  },
  {
   "cell_type": "markdown",
   "id": "8f81c593",
   "metadata": {
    "papermill": {
     "duration": 0.115255,
     "end_time": "2023-08-13T06:10:59.763722",
     "exception": false,
     "start_time": "2023-08-13T06:10:59.648467",
     "status": "completed"
    },
    "tags": []
   },
   "source": [
    "## Try GridSearchCV on everything  "
   ]
  },
  {
   "cell_type": "code",
   "execution_count": 246,
   "id": "d25a1ee6",
   "metadata": {
    "execution": {
     "iopub.execute_input": "2023-08-13T06:10:59.999167Z",
     "iopub.status.busy": "2023-08-13T06:10:59.998523Z",
     "iopub.status.idle": "2023-08-13T06:11:00.003491Z",
     "shell.execute_reply": "2023-08-13T06:11:00.002735Z"
    },
    "papermill": {
     "duration": 0.125124,
     "end_time": "2023-08-13T06:11:00.005429",
     "exception": false,
     "start_time": "2023-08-13T06:10:59.880305",
     "status": "completed"
    },
    "tags": []
   },
   "outputs": [],
   "source": [
    "# param_grid = {\n",
    "#     \"model__C\": [0.5, 2, 5, 15]\n",
    "# }\n",
    "\n",
    "# param_grid = {\n",
    "#     'model__C' : [1, 5],\n",
    "#     'model__solver': ['lbfgs', 'liblinear', 'newton-cg', 'newton-cholesky', 'sag', 'saga']\n",
    "# }\n",
    "\n",
    "# param_grid = {\n",
    "#     'model__C' : [1, 5],\n",
    "#     'model__solver': ['lbfgs', 'liblinear', 'sag', 'saga']\n",
    "# }\n",
    "\n",
    "# param_grid = {\n",
    "#     'model__C' : [1, 5, 10, 15],\n",
    "#     'model__solver': ['lbfgs', 'liblinear', 'saga', 'newton-cg']\n",
    "# }\n",
    "\n",
    "# param_grid = {\n",
    "#     'model__C' : [1, 5, 10, 20],\n",
    "#     'model__solver': ['lbfgs', 'liblinear', 'saga']\n",
    "# }\n",
    "\n",
    "# param_grid"
   ]
  },
  {
   "cell_type": "code",
   "execution_count": 247,
   "id": "3e65beb2",
   "metadata": {
    "execution": {
     "iopub.execute_input": "2023-08-13T06:11:00.238094Z",
     "iopub.status.busy": "2023-08-13T06:11:00.236989Z",
     "iopub.status.idle": "2023-08-13T06:11:00.241236Z",
     "shell.execute_reply": "2023-08-13T06:11:00.240515Z"
    },
    "papermill": {
     "duration": 0.12224,
     "end_time": "2023-08-13T06:11:00.243178",
     "exception": false,
     "start_time": "2023-08-13T06:11:00.120938",
     "status": "completed"
    },
    "tags": []
   },
   "outputs": [],
   "source": [
    "# submit_v4(selected_features={'txt': [\"genre\"]}, param_grid=param_grid)"
   ]
  },
  {
   "cell_type": "code",
   "execution_count": 248,
   "id": "fccedbbd",
   "metadata": {
    "execution": {
     "iopub.execute_input": "2023-08-13T06:11:00.477317Z",
     "iopub.status.busy": "2023-08-13T06:11:00.476192Z",
     "iopub.status.idle": "2023-08-13T06:11:00.483632Z",
     "shell.execute_reply": "2023-08-13T06:11:00.482785Z"
    },
    "papermill": {
     "duration": 0.126336,
     "end_time": "2023-08-13T06:11:00.485949",
     "exception": false,
     "start_time": "2023-08-13T06:11:00.359613",
     "status": "completed"
    },
    "tags": []
   },
   "outputs": [
    {
     "data": {
      "text/plain": [
       "\"Used 'groupby' function instead on 'drop_duplicates' on movies.csv file. \\nIt reduced the number of missing values significantly! \\nThen used LogisticRegression() with GridSearchCV on submit_v4 function with \\nparam_grid={'model__C': [1, 5, 10], 'model__solver': ['lbfgs', 'liblinear', 'saga']}. \\nThe best f1_micro score in GridSearchCV was 0.8399771362056203 which is highest among \\nall the versions so far. Best C was 5 and best solver was 'saga'.\\nScore obtained was 0.84385 which is lower than 0.84441.\""
      ]
     },
     "execution_count": 248,
     "metadata": {},
     "output_type": "execute_result"
    }
   ],
   "source": [
    "# submit_v4(selected_features=all_dict, param_grid=param_grid)\n",
    "\n",
    "# Best C was 5\n",
    "# Best solver was liblinear\n",
    "\n",
    "\"\"\"Used 'groupby' function instead on 'drop_duplicates' on movies.csv file. \n",
    "It reduced the number of missing values significantly! \n",
    "Then used LogisticRegression() with GridSearchCV on submit_v4 function with \n",
    "param_grid={'model__C': [1, 5, 10], 'model__solver': ['lbfgs', 'liblinear', 'saga']}. \n",
    "The best f1_micro score in GridSearchCV was 0.8399771362056203 which is highest among \n",
    "all the versions so far. Best C was 5 and best solver was 'saga'.\n",
    "Score obtained was 0.84385 which is lower than 0.84441.\"\"\""
   ]
  },
  {
   "cell_type": "code",
   "execution_count": 249,
   "id": "20c20297",
   "metadata": {
    "execution": {
     "iopub.execute_input": "2023-08-13T06:11:00.720484Z",
     "iopub.status.busy": "2023-08-13T06:11:00.719800Z",
     "iopub.status.idle": "2023-08-13T06:11:00.724033Z",
     "shell.execute_reply": "2023-08-13T06:11:00.723182Z"
    },
    "papermill": {
     "duration": 0.124635,
     "end_time": "2023-08-13T06:11:00.726387",
     "exception": false,
     "start_time": "2023-08-13T06:11:00.601752",
     "status": "completed"
    },
    "tags": []
   },
   "outputs": [],
   "source": [
    "# Best 5 parameters\n",
    "\n",
    "# best5_dict = {'num': [\"audienceScore\"],\n",
    "#              'txt': ['reviewText', 'reviewerName','movieid', 'director']}\n",
    "\n",
    "# best5_dict"
   ]
  },
  {
   "cell_type": "code",
   "execution_count": 250,
   "id": "ffd225fe",
   "metadata": {
    "execution": {
     "iopub.execute_input": "2023-08-13T06:11:00.959155Z",
     "iopub.status.busy": "2023-08-13T06:11:00.958755Z",
     "iopub.status.idle": "2023-08-13T06:11:00.966827Z",
     "shell.execute_reply": "2023-08-13T06:11:00.965738Z"
    },
    "papermill": {
     "duration": 0.126401,
     "end_time": "2023-08-13T06:11:00.969148",
     "exception": false,
     "start_time": "2023-08-13T06:11:00.842747",
     "status": "completed"
    },
    "tags": []
   },
   "outputs": [
    {
     "data": {
      "text/plain": [
       "\"(Update): Used both CountVectorizer and TfidfVectorizer on a massive GridSearchCV \\nwhich took 22527.2s  (6.25 hrs) to run! Gave a score of 0.8439093822800923 locally and did not overfit!\\nBest params: {'model__C': 1, 'model__solver': 'liblinear'}.\\nHighest public score yet: 0.84591 (Rank up from 9 to 5!)\""
      ]
     },
     "execution_count": 250,
     "metadata": {},
     "output_type": "execute_result"
    }
   ],
   "source": [
    "# Submit best 5 features\n",
    "\n",
    "\"\"\"(Update): Used both CountVectorizer and TfidfVectorizer on a massive GridSearchCV \n",
    "which took 22527.2s  (6.25 hrs) to run! Gave a score of 0.8439093822800923 locally and did not overfit!\n",
    "Best params: {'model__C': 1, 'model__solver': 'liblinear'}.\n",
    "Highest public score yet: 0.84591 (Rank up from 9 to 5!)\"\"\"\n",
    "\n",
    "# param_grid = {\n",
    "#     'model__C' : [5, 10, 15],\n",
    "#     'model__solver': ['lbfgs', 'liblinear', 'saga']\n",
    "# }\n",
    "\n",
    "\n",
    "# Try new param_grid with fit_intercept and dual in logreg\n",
    "\n",
    "# param_grid = {\n",
    "#     'model__C' : [1],\n",
    "#     'model__solver': ['liblinear'],\n",
    "#     \"model__fit_intercept\" : [True, False],\n",
    "#     \"model__dual\" : [True, False] \n",
    "# }\n",
    "\n",
    "\n",
    "# Local testing  \n",
    "# submit_v4(selected_features={'num': ['audienceScore']},\n",
    "#          add_countvec=True)\n",
    "\n",
    "# submit_v4(selected_features={'num': ['audienceScore']},\n",
    "#          add_countvec=True, \n",
    "#           param_grid=param_grid)\n",
    "\n",
    "\n",
    "# Main submission\n",
    "\n",
    "# submit_v4(selected_features=best5_dict,\n",
    "#          add_countvec=True)\n",
    "\n",
    "\n",
    "# submit_v4(selected_features=best5_dict,\n",
    "#           add_countvec=True,\n",
    "#           param_grid=param_grid)"
   ]
  },
  {
   "cell_type": "code",
   "execution_count": 251,
   "id": "8276f710",
   "metadata": {
    "execution": {
     "iopub.execute_input": "2023-08-13T06:11:01.201950Z",
     "iopub.status.busy": "2023-08-13T06:11:01.201544Z",
     "iopub.status.idle": "2023-08-13T06:11:01.206919Z",
     "shell.execute_reply": "2023-08-13T06:11:01.205740Z"
    },
    "papermill": {
     "duration": 0.124315,
     "end_time": "2023-08-13T06:11:01.209182",
     "exception": false,
     "start_time": "2023-08-13T06:11:01.084867",
     "status": "completed"
    },
    "tags": []
   },
   "outputs": [],
   "source": [
    "## ALL DICT cv=10\n",
    "\n",
    "# all_dict = {'cat': [\"isFrequentReviewer\", \"rating\", \"originalLanguage\"],\n",
    "#              'num': [\"audienceScore\", \"runtimeMinutes\", \"boxOffice\"],\n",
    "#              'txt': ['reviewText', 'reviewerName', 'movieid', 'genre', 'director']}\n",
    "# print(all_dict)\n",
    "\n",
    "# param_grid = {\n",
    "#     'model__C' : [2, 5, 10],\n",
    "#     'model__solver': ['lbfgs', 'liblinear', 'saga']\n",
    "# }\n",
    "# print(param_grid)\n",
    "\n",
    "# param_grid = {\n",
    "#     'model__C' : [1, 5, 10],\n",
    "#     'model__solver': ['liblinear'],\n",
    "#     \"model__fit_intercept\" : [True, False],\n",
    "#     \"model__dual\" : [True, False] \n",
    "# }\n",
    "\n",
    "\n",
    "# Main submission\n",
    "\n",
    "# submit_v4(selected_model=LogisticRegression(C=5, solver='liblinear', max_iter=10000),\n",
    "#           selected_features=all_dict,\n",
    "#           param_grid=param_grid)\n",
    "\n",
    "# submit_v4(selected_features=all_dict,\n",
    "#           add_countvec=True,\n",
    "#           param_grid=param_grid)"
   ]
  },
  {
   "cell_type": "code",
   "execution_count": 252,
   "id": "ffca8bbc",
   "metadata": {
    "execution": {
     "iopub.execute_input": "2023-08-13T06:11:01.444916Z",
     "iopub.status.busy": "2023-08-13T06:11:01.444497Z",
     "iopub.status.idle": "2023-08-13T06:11:01.449341Z",
     "shell.execute_reply": "2023-08-13T06:11:01.448254Z"
    },
    "papermill": {
     "duration": 0.125115,
     "end_time": "2023-08-13T06:11:01.451688",
     "exception": false,
     "start_time": "2023-08-13T06:11:01.326573",
     "status": "completed"
    },
    "tags": []
   },
   "outputs": [],
   "source": [
    "# Best 6 parameters\n",
    "\n",
    "# best6_dict = {'cat': [\"isFrequentReviewer\"],\n",
    "#              'num': [\"audienceScore\"],\n",
    "#              'txt': ['reviewText', 'reviewerName', 'genre', 'director']}\n",
    "\n",
    "# best6_dict = {'num': [\"audienceScore\"],\n",
    "#              'txt': ['reviewText', 'reviewerName', 'genre','movieid', 'director']}\n",
    "\n",
    "# best6_dict"
   ]
  },
  {
   "cell_type": "code",
   "execution_count": 253,
   "id": "b2d7a742",
   "metadata": {
    "execution": {
     "iopub.execute_input": "2023-08-13T06:11:01.684186Z",
     "iopub.status.busy": "2023-08-13T06:11:01.683129Z",
     "iopub.status.idle": "2023-08-13T06:11:01.687348Z",
     "shell.execute_reply": "2023-08-13T06:11:01.686608Z"
    },
    "papermill": {
     "duration": 0.122372,
     "end_time": "2023-08-13T06:11:01.689301",
     "exception": false,
     "start_time": "2023-08-13T06:11:01.566929",
     "status": "completed"
    },
    "tags": []
   },
   "outputs": [],
   "source": [
    "# Submit best 6 features (version 2)\n",
    "\n",
    "# submit_v4(selected_features=best6_dict,\n",
    "#           param_grid=param_grid)"
   ]
  },
  {
   "cell_type": "code",
   "execution_count": 254,
   "id": "63eead8d",
   "metadata": {
    "execution": {
     "iopub.execute_input": "2023-08-13T06:11:01.921795Z",
     "iopub.status.busy": "2023-08-13T06:11:01.921397Z",
     "iopub.status.idle": "2023-08-13T06:11:01.926219Z",
     "shell.execute_reply": "2023-08-13T06:11:01.925214Z"
    },
    "papermill": {
     "duration": 0.122985,
     "end_time": "2023-08-13T06:11:01.928319",
     "exception": false,
     "start_time": "2023-08-13T06:11:01.805334",
     "status": "completed"
    },
    "tags": []
   },
   "outputs": [],
   "source": [
    "# Best 7 parameters\n",
    "\n",
    "# best7_dict = {'cat': [\"isFrequentReviewer\"],\n",
    "#              'num': [\"audienceScore\"],\n",
    "#              'txt': ['reviewText', 'reviewerName', 'movieid', 'genre', 'director']}\n",
    "# best7_dict"
   ]
  },
  {
   "cell_type": "code",
   "execution_count": 255,
   "id": "e308bf9c",
   "metadata": {
    "execution": {
     "iopub.execute_input": "2023-08-13T06:11:02.161652Z",
     "iopub.status.busy": "2023-08-13T06:11:02.160924Z",
     "iopub.status.idle": "2023-08-13T06:11:02.164925Z",
     "shell.execute_reply": "2023-08-13T06:11:02.164099Z"
    },
    "papermill": {
     "duration": 0.122821,
     "end_time": "2023-08-13T06:11:02.166896",
     "exception": false,
     "start_time": "2023-08-13T06:11:02.044075",
     "status": "completed"
    },
    "tags": []
   },
   "outputs": [],
   "source": [
    "# Submit best 7 features\n",
    "\n",
    "# submit_v4(selected_features=best7_dict,\n",
    "#           param_grid=param_grid)"
   ]
  },
  {
   "cell_type": "code",
   "execution_count": 256,
   "id": "2d5df0d9",
   "metadata": {
    "execution": {
     "iopub.execute_input": "2023-08-13T06:11:02.401983Z",
     "iopub.status.busy": "2023-08-13T06:11:02.401255Z",
     "iopub.status.idle": "2023-08-13T06:11:02.406031Z",
     "shell.execute_reply": "2023-08-13T06:11:02.404871Z"
    },
    "papermill": {
     "duration": 0.123376,
     "end_time": "2023-08-13T06:11:02.408198",
     "exception": false,
     "start_time": "2023-08-13T06:11:02.284822",
     "status": "completed"
    },
    "tags": []
   },
   "outputs": [],
   "source": [
    "# submit_v4(selected_features=best6_dict, param_grid=param_grid)"
   ]
  },
  {
   "cell_type": "markdown",
   "id": "38e9d606",
   "metadata": {
    "papermill": {
     "duration": 0.114892,
     "end_time": "2023-08-13T06:11:02.638149",
     "exception": false,
     "start_time": "2023-08-13T06:11:02.523257",
     "status": "completed"
    },
    "tags": []
   },
   "source": [
    "## Try a new feature dict  \n",
    "\n"
   ]
  },
  {
   "cell_type": "code",
   "execution_count": 257,
   "id": "c3e9c757",
   "metadata": {
    "execution": {
     "iopub.execute_input": "2023-08-13T06:11:02.870572Z",
     "iopub.status.busy": "2023-08-13T06:11:02.870118Z",
     "iopub.status.idle": "2023-08-13T06:11:02.875683Z",
     "shell.execute_reply": "2023-08-13T06:11:02.874474Z"
    },
    "papermill": {
     "duration": 0.124283,
     "end_time": "2023-08-13T06:11:02.878174",
     "exception": false,
     "start_time": "2023-08-13T06:11:02.753891",
     "status": "completed"
    },
    "tags": []
   },
   "outputs": [],
   "source": [
    "# all_dict_new = {'cat': [\"isFrequentReviewer\", \"rating\", \"originalLanguage\"],\n",
    "#              'num': [\"audienceScore\", \"runtimeMinutes\", \"boxOffice\"],\n",
    "#              'txt': ['reviewText', \"reviewerName\", 'movieid', 'genre', 'director']}\n",
    "# all_dict_new"
   ]
  },
  {
   "cell_type": "code",
   "execution_count": 258,
   "id": "2337a739",
   "metadata": {
    "execution": {
     "iopub.execute_input": "2023-08-13T06:11:03.113168Z",
     "iopub.status.busy": "2023-08-13T06:11:03.112460Z",
     "iopub.status.idle": "2023-08-13T06:11:03.116580Z",
     "shell.execute_reply": "2023-08-13T06:11:03.115616Z"
    },
    "papermill": {
     "duration": 0.12356,
     "end_time": "2023-08-13T06:11:03.119076",
     "exception": false,
     "start_time": "2023-08-13T06:11:02.995516",
     "status": "completed"
    },
    "tags": []
   },
   "outputs": [],
   "source": [
    "# submit_v4(selected_features={'txt': ['genre']}, param_grid=param_grid)"
   ]
  },
  {
   "cell_type": "code",
   "execution_count": 259,
   "id": "9259a94d",
   "metadata": {
    "execution": {
     "iopub.execute_input": "2023-08-13T06:11:03.352116Z",
     "iopub.status.busy": "2023-08-13T06:11:03.351465Z",
     "iopub.status.idle": "2023-08-13T06:11:03.355500Z",
     "shell.execute_reply": "2023-08-13T06:11:03.354550Z"
    },
    "papermill": {
     "duration": 0.121891,
     "end_time": "2023-08-13T06:11:03.357731",
     "exception": false,
     "start_time": "2023-08-13T06:11:03.235840",
     "status": "completed"
    },
    "tags": []
   },
   "outputs": [],
   "source": [
    "# submit_v4(selected_features=all_dict_new, param_grid=param_grid)"
   ]
  },
  {
   "cell_type": "code",
   "execution_count": 260,
   "id": "ba985006",
   "metadata": {
    "execution": {
     "iopub.execute_input": "2023-08-13T06:11:03.591570Z",
     "iopub.status.busy": "2023-08-13T06:11:03.591151Z",
     "iopub.status.idle": "2023-08-13T06:11:03.595704Z",
     "shell.execute_reply": "2023-08-13T06:11:03.594624Z"
    },
    "papermill": {
     "duration": 0.125092,
     "end_time": "2023-08-13T06:11:03.598097",
     "exception": false,
     "start_time": "2023-08-13T06:11:03.473005",
     "status": "completed"
    },
    "tags": []
   },
   "outputs": [],
   "source": [
    "# Try non-text based columns\n",
    "# num_cat_dict = {'cat': ['isFrequentReviewer', 'rating', 'originalLanguage'],\n",
    "#  'num': ['audienceScore', 'runtimeMinutes', 'boxOffice']}\n",
    "# num_cat_dict"
   ]
  },
  {
   "cell_type": "code",
   "execution_count": 261,
   "id": "ea6b5148",
   "metadata": {
    "execution": {
     "iopub.execute_input": "2023-08-13T06:11:03.833491Z",
     "iopub.status.busy": "2023-08-13T06:11:03.833097Z",
     "iopub.status.idle": "2023-08-13T06:11:03.837248Z",
     "shell.execute_reply": "2023-08-13T06:11:03.836478Z"
    },
    "papermill": {
     "duration": 0.12358,
     "end_time": "2023-08-13T06:11:03.839130",
     "exception": false,
     "start_time": "2023-08-13T06:11:03.715550",
     "status": "completed"
    },
    "tags": []
   },
   "outputs": [],
   "source": [
    "# Use num_cat_dict features\n",
    "# (Update): Gets a local score of 0.7027181356991726. Not great.\n",
    "# submit_v4(selected_model=LogisticRegression(max_iter=100000), selected_features=num_cat_dict, param_grid=param_grid)"
   ]
  },
  {
   "cell_type": "code",
   "execution_count": 262,
   "id": "c8184ca5",
   "metadata": {
    "execution": {
     "iopub.execute_input": "2023-08-13T06:11:04.071975Z",
     "iopub.status.busy": "2023-08-13T06:11:04.071608Z",
     "iopub.status.idle": "2023-08-13T06:11:04.075481Z",
     "shell.execute_reply": "2023-08-13T06:11:04.074720Z"
    },
    "papermill": {
     "duration": 0.122893,
     "end_time": "2023-08-13T06:11:04.077383",
     "exception": false,
     "start_time": "2023-08-13T06:11:03.954490",
     "status": "completed"
    },
    "tags": []
   },
   "outputs": [],
   "source": [
    "# Try data other than reviewText\n",
    "\n",
    "# mov_dict = {'cat': ['rating', 'originalLanguage'],\n",
    "#  'num': ['audienceScore', 'runtimeMinutes', 'boxOffice'],\n",
    "#  'txt': ['movieid', 'genre', 'director']}\n",
    "# mov_dict"
   ]
  },
  {
   "cell_type": "code",
   "execution_count": 263,
   "id": "2aac741e",
   "metadata": {
    "execution": {
     "iopub.execute_input": "2023-08-13T06:11:04.376231Z",
     "iopub.status.busy": "2023-08-13T06:11:04.375389Z",
     "iopub.status.idle": "2023-08-13T06:11:04.379357Z",
     "shell.execute_reply": "2023-08-13T06:11:04.378626Z"
    },
    "papermill": {
     "duration": 0.124301,
     "end_time": "2023-08-13T06:11:04.381390",
     "exception": false,
     "start_time": "2023-08-13T06:11:04.257089",
     "status": "completed"
    },
    "tags": []
   },
   "outputs": [],
   "source": [
    "# Use mov_dict features\n",
    "# (Update): Gets a local score of 0.7475454316469369, which is not bad at all.\n",
    "# submit_v4(selected_model=LogisticRegression(max_iter=100000), selected_features=mov_dict, param_grid=param_grid)"
   ]
  },
  {
   "cell_type": "markdown",
   "id": "09cc08a7",
   "metadata": {
    "papermill": {
     "duration": 0.115101,
     "end_time": "2023-08-13T06:11:04.611960",
     "exception": false,
     "start_time": "2023-08-13T06:11:04.496859",
     "status": "completed"
    },
    "tags": []
   },
   "source": [
    "# Try a new column 'reviewYN'  \n",
    "\n"
   ]
  },
  {
   "cell_type": "code",
   "execution_count": 264,
   "id": "f42718b2",
   "metadata": {
    "execution": {
     "iopub.execute_input": "2023-08-13T06:11:04.844490Z",
     "iopub.status.busy": "2023-08-13T06:11:04.843579Z",
     "iopub.status.idle": "2023-08-13T06:11:04.847808Z",
     "shell.execute_reply": "2023-08-13T06:11:04.847100Z"
    },
    "papermill": {
     "duration": 0.12233,
     "end_time": "2023-08-13T06:11:04.849939",
     "exception": false,
     "start_time": "2023-08-13T06:11:04.727609",
     "status": "completed"
    },
    "tags": []
   },
   "outputs": [],
   "source": [
    "# all_dict_3 = {'cat': [\"isFrequentReviewer\", \"rating\", \"originalLanguage\", \"reviewYN\"],\n",
    "#              'num': [\"audienceScore\", \"runtimeMinutes\", \"boxOffice\"],\n",
    "#              'txt': ['reviewText', \"reviewerName\", 'movieid', 'genre', 'director']}\n",
    "# all_dict_3"
   ]
  },
  {
   "cell_type": "code",
   "execution_count": 265,
   "id": "12d8586f",
   "metadata": {
    "execution": {
     "iopub.execute_input": "2023-08-13T06:11:05.084322Z",
     "iopub.status.busy": "2023-08-13T06:11:05.083602Z",
     "iopub.status.idle": "2023-08-13T06:11:05.087583Z",
     "shell.execute_reply": "2023-08-13T06:11:05.086650Z"
    },
    "papermill": {
     "duration": 0.124216,
     "end_time": "2023-08-13T06:11:05.089982",
     "exception": false,
     "start_time": "2023-08-13T06:11:04.965766",
     "status": "completed"
    },
    "tags": []
   },
   "outputs": [],
   "source": [
    "# submit_v4(selected_model=LogisticRegression(max_iter=100000),\n",
    "#          selected_features=all_dict_3, \n",
    "#           param_grid=param_grid)"
   ]
  },
  {
   "cell_type": "markdown",
   "id": "1aaf0c33",
   "metadata": {
    "papermill": {
     "duration": 0.116612,
     "end_time": "2023-08-13T06:11:05.323125",
     "exception": false,
     "start_time": "2023-08-13T06:11:05.206513",
     "status": "completed"
    },
    "tags": []
   },
   "source": [
    "### More GridSearchCV using LinearSVC  "
   ]
  },
  {
   "cell_type": "code",
   "execution_count": 266,
   "id": "b8318f1d",
   "metadata": {
    "execution": {
     "iopub.execute_input": "2023-08-13T06:11:05.555989Z",
     "iopub.status.busy": "2023-08-13T06:11:05.555334Z",
     "iopub.status.idle": "2023-08-13T06:11:05.559490Z",
     "shell.execute_reply": "2023-08-13T06:11:05.558577Z"
    },
    "papermill": {
     "duration": 0.123981,
     "end_time": "2023-08-13T06:11:05.561883",
     "exception": false,
     "start_time": "2023-08-13T06:11:05.437902",
     "status": "completed"
    },
    "tags": []
   },
   "outputs": [],
   "source": [
    "# param_grid_svc_2 = {\n",
    "#     'model__C': [1.0],\n",
    "#     'model__loss': ['hinge', 'squared_hinge'],\n",
    "#     'model__class_weight': ['balanced', None]\n",
    "# }\n",
    "# param_grid_svc_2"
   ]
  },
  {
   "cell_type": "code",
   "execution_count": 267,
   "id": "fb1e4c63",
   "metadata": {
    "execution": {
     "iopub.execute_input": "2023-08-13T06:11:05.795553Z",
     "iopub.status.busy": "2023-08-13T06:11:05.794364Z",
     "iopub.status.idle": "2023-08-13T06:11:05.800252Z",
     "shell.execute_reply": "2023-08-13T06:11:05.798758Z"
    },
    "papermill": {
     "duration": 0.126125,
     "end_time": "2023-08-13T06:11:05.803245",
     "exception": false,
     "start_time": "2023-08-13T06:11:05.677120",
     "status": "completed"
    },
    "tags": []
   },
   "outputs": [],
   "source": [
    "# submit_v4(selected_model=LinearSVC(max_iter=100000, random_state=42), selected_features={'num': [\"audienceScore\"]}, param_grid=param_grid_svc_2)"
   ]
  },
  {
   "cell_type": "code",
   "execution_count": 268,
   "id": "6c79dde5",
   "metadata": {
    "execution": {
     "iopub.execute_input": "2023-08-13T06:11:06.057957Z",
     "iopub.status.busy": "2023-08-13T06:11:06.057406Z",
     "iopub.status.idle": "2023-08-13T06:11:06.062467Z",
     "shell.execute_reply": "2023-08-13T06:11:06.061418Z"
    },
    "papermill": {
     "duration": 0.146562,
     "end_time": "2023-08-13T06:11:06.064836",
     "exception": false,
     "start_time": "2023-08-13T06:11:05.918274",
     "status": "completed"
    },
    "tags": []
   },
   "outputs": [],
   "source": [
    "# submit_v4(selected_model=LinearSVC(max_iter=100000, random_state=42), selected_features=all_dict, param_grid=param_grid_svc_2)"
   ]
  },
  {
   "cell_type": "markdown",
   "id": "e6f2659e",
   "metadata": {
    "papermill": {
     "duration": 0.116109,
     "end_time": "2023-08-13T06:11:06.296724",
     "exception": false,
     "start_time": "2023-08-13T06:11:06.180615",
     "status": "completed"
    },
    "tags": []
   },
   "source": [
    "### Boosting techniques  "
   ]
  },
  {
   "cell_type": "code",
   "execution_count": 269,
   "id": "29a4c77a",
   "metadata": {
    "execution": {
     "iopub.execute_input": "2023-08-13T06:11:06.531159Z",
     "iopub.status.busy": "2023-08-13T06:11:06.530804Z",
     "iopub.status.idle": "2023-08-13T06:11:06.534959Z",
     "shell.execute_reply": "2023-08-13T06:11:06.534195Z"
    },
    "papermill": {
     "duration": 0.122601,
     "end_time": "2023-08-13T06:11:06.536920",
     "exception": false,
     "start_time": "2023-08-13T06:11:06.414319",
     "status": "completed"
    },
    "tags": []
   },
   "outputs": [],
   "source": [
    "# adc = AdaBoostClassifier(estimator=LogisticRegression(C=5, solver=\"saga\", max_iter=100000), n_estimators=50)\n",
    "# adc"
   ]
  },
  {
   "cell_type": "code",
   "execution_count": 270,
   "id": "308b382f",
   "metadata": {
    "execution": {
     "iopub.execute_input": "2023-08-13T06:11:06.770518Z",
     "iopub.status.busy": "2023-08-13T06:11:06.769284Z",
     "iopub.status.idle": "2023-08-13T06:11:06.774764Z",
     "shell.execute_reply": "2023-08-13T06:11:06.773995Z"
    },
    "papermill": {
     "duration": 0.123989,
     "end_time": "2023-08-13T06:11:06.777299",
     "exception": false,
     "start_time": "2023-08-13T06:11:06.653310",
     "status": "completed"
    },
    "tags": []
   },
   "outputs": [],
   "source": [
    "# submit_v4(selected_model=adc, selected_features={'num': [\"audienceScore\"]}, param_grid=None)"
   ]
  },
  {
   "cell_type": "code",
   "execution_count": 271,
   "id": "cb33d061",
   "metadata": {
    "execution": {
     "iopub.execute_input": "2023-08-13T06:11:07.010315Z",
     "iopub.status.busy": "2023-08-13T06:11:07.009881Z",
     "iopub.status.idle": "2023-08-13T06:11:07.014076Z",
     "shell.execute_reply": "2023-08-13T06:11:07.013281Z"
    },
    "papermill": {
     "duration": 0.1233,
     "end_time": "2023-08-13T06:11:07.016423",
     "exception": false,
     "start_time": "2023-08-13T06:11:06.893123",
     "status": "completed"
    },
    "tags": []
   },
   "outputs": [],
   "source": [
    "# submit_v4(selected_model=adc, selected_features=all_dict, param_grid=None)\n",
    "\n",
    "# Took 1 hour 15 mins to run and gave a public score of only 0.71089. Discarded."
   ]
  },
  {
   "cell_type": "markdown",
   "id": "255ab8bd",
   "metadata": {
    "papermill": {
     "duration": 0.11474,
     "end_time": "2023-08-13T06:11:07.249554",
     "exception": false,
     "start_time": "2023-08-13T06:11:07.134814",
     "status": "completed"
    },
    "tags": []
   },
   "source": [
    "### LightGBM  "
   ]
  },
  {
   "cell_type": "code",
   "execution_count": 272,
   "id": "3ee03c8e",
   "metadata": {
    "execution": {
     "iopub.execute_input": "2023-08-13T06:11:07.483741Z",
     "iopub.status.busy": "2023-08-13T06:11:07.482899Z",
     "iopub.status.idle": "2023-08-13T06:11:07.486975Z",
     "shell.execute_reply": "2023-08-13T06:11:07.486213Z"
    },
    "papermill": {
     "duration": 0.123355,
     "end_time": "2023-08-13T06:11:07.489544",
     "exception": false,
     "start_time": "2023-08-13T06:11:07.366189",
     "status": "completed"
    },
    "tags": []
   },
   "outputs": [],
   "source": [
    "# lgb = ltb.LGBMClassifier()\n",
    "# lgb"
   ]
  },
  {
   "cell_type": "code",
   "execution_count": 273,
   "id": "e5b9896b",
   "metadata": {
    "execution": {
     "iopub.execute_input": "2023-08-13T06:11:07.721907Z",
     "iopub.status.busy": "2023-08-13T06:11:07.721009Z",
     "iopub.status.idle": "2023-08-13T06:11:07.726036Z",
     "shell.execute_reply": "2023-08-13T06:11:07.725273Z"
    },
    "papermill": {
     "duration": 0.123696,
     "end_time": "2023-08-13T06:11:07.728423",
     "exception": false,
     "start_time": "2023-08-13T06:11:07.604727",
     "status": "completed"
    },
    "tags": []
   },
   "outputs": [],
   "source": [
    "# Try LightGBM with default settings\n",
    "# (Update): Public score only 0.77713. It was fast, took less than 5 mins (without GridSearchCV)\n",
    "\n",
    "# submit_v4(selected_model=ltb.LGBMClassifier(), selected_features=all_dict, param_grid=None)"
   ]
  },
  {
   "cell_type": "markdown",
   "id": "ddf954ba",
   "metadata": {
    "papermill": {
     "duration": 0.115,
     "end_time": "2023-08-13T06:11:07.958313",
     "exception": false,
     "start_time": "2023-08-13T06:11:07.843313",
     "status": "completed"
    },
    "tags": []
   },
   "source": [
    "# Try feature selection and vocab fine tuning of reviewText column"
   ]
  },
  {
   "cell_type": "markdown",
   "id": "b4f3abe9",
   "metadata": {
    "papermill": {
     "duration": 0.114334,
     "end_time": "2023-08-13T06:11:08.188928",
     "exception": false,
     "start_time": "2023-08-13T06:11:08.074594",
     "status": "completed"
    },
    "tags": []
   },
   "source": [
    "## Plan  \n",
    "* Add a new column 'reviewWC' which has word count of 'reviewText'  \n",
    "    * Check if there is any relationship between 'reviewWC' and 'sentiment'\n",
    "* Work on vocabulary\n",
    "     * Use TfidfVectorizer and find out the vocabulary of 'reviewText' column for various ngrams\n",
    "     * Use RecursiveFeatureElimination (RFE) or RFECV to select 1000 top words/vocab for each ngram\n",
    "     * Use the final vocab (1000-3000 words) in the model and see how it performs compared to whole vocab\n"
   ]
  },
  {
   "cell_type": "code",
   "execution_count": 274,
   "id": "71ada471",
   "metadata": {
    "execution": {
     "iopub.execute_input": "2023-08-13T06:11:08.422849Z",
     "iopub.status.busy": "2023-08-13T06:11:08.422444Z",
     "iopub.status.idle": "2023-08-13T06:11:08.427256Z",
     "shell.execute_reply": "2023-08-13T06:11:08.426139Z"
    },
    "papermill": {
     "duration": 0.123808,
     "end_time": "2023-08-13T06:11:08.429500",
     "exception": false,
     "start_time": "2023-08-13T06:11:08.305692",
     "status": "completed"
    },
    "tags": []
   },
   "outputs": [],
   "source": [
    "# 'reviewWC' and 'sentiment'\n",
    "# (Conclusion): 'reviewWC' is practically same as DummyClassifier (accuracy of 0.6682375059904889 on train data). It just predicts 'positive' for all columns\n",
    "\n",
    "# reviewWC_dict = {\"num\": [\"reviewWC\"]}\n",
    "# submit_v4(selected_model=LogisticRegression(),\n",
    "#          selected_features=reviewWC_dict,\n",
    "#          param_grid=None)"
   ]
  },
  {
   "cell_type": "code",
   "execution_count": 275,
   "id": "b6fdeaf9",
   "metadata": {
    "execution": {
     "iopub.execute_input": "2023-08-13T06:11:08.661459Z",
     "iopub.status.busy": "2023-08-13T06:11:08.660674Z",
     "iopub.status.idle": "2023-08-13T06:11:08.666034Z",
     "shell.execute_reply": "2023-08-13T06:11:08.665249Z"
    },
    "papermill": {
     "duration": 0.124401,
     "end_time": "2023-08-13T06:11:08.668450",
     "exception": false,
     "start_time": "2023-08-13T06:11:08.544049",
     "status": "completed"
    },
    "tags": []
   },
   "outputs": [],
   "source": [
    "# 'reviewYN' and 'sentiment'\n",
    "# (Conclusion): 'reviewYN' is practically same as DummyClassifier (accuracy of 0.6682375059904889 on train data). It just predicts 'positive' for all columns\n",
    "\n",
    "# reviewYN_dict = {\"cat\": [\"reviewYN\"]}\n",
    "# submit_v4(selected_model=LogisticRegression(),\n",
    "#          selected_features=reviewYN_dict,\n",
    "#          param_grid=None)"
   ]
  },
  {
   "cell_type": "markdown",
   "id": "d88b2f82",
   "metadata": {
    "papermill": {
     "duration": 0.114381,
     "end_time": "2023-08-13T06:11:08.898144",
     "exception": false,
     "start_time": "2023-08-13T06:11:08.783763",
     "status": "completed"
    },
    "tags": []
   },
   "source": [
    "## Submissions using 'vocabulary' built from 'reviewText' data  "
   ]
  },
  {
   "cell_type": "markdown",
   "id": "b965f795",
   "metadata": {
    "papermill": {
     "duration": 0.115698,
     "end_time": "2023-08-13T06:11:09.128548",
     "exception": false,
     "start_time": "2023-08-13T06:11:09.012850",
     "status": "completed"
    },
    "tags": []
   },
   "source": [
    "### Submit best 6 features along with common vocab  "
   ]
  },
  {
   "cell_type": "code",
   "execution_count": 276,
   "id": "a75e1928",
   "metadata": {
    "execution": {
     "iopub.execute_input": "2023-08-13T06:11:09.360126Z",
     "iopub.status.busy": "2023-08-13T06:11:09.359368Z",
     "iopub.status.idle": "2023-08-13T06:11:09.363957Z",
     "shell.execute_reply": "2023-08-13T06:11:09.363247Z"
    },
    "papermill": {
     "duration": 0.123583,
     "end_time": "2023-08-13T06:11:09.366038",
     "exception": false,
     "start_time": "2023-08-13T06:11:09.242455",
     "status": "completed"
    },
    "tags": []
   },
   "outputs": [],
   "source": [
    "# Best 6 parameters (version 2)  \n",
    "\n",
    "# best6_dict = {'num': [\"audienceScore\"],\n",
    "#              'txt': ['reviewText', 'reviewerName', 'genre','movieid', 'director']}\n",
    "\n",
    "# best6_dict"
   ]
  },
  {
   "cell_type": "code",
   "execution_count": 277,
   "id": "bf999262",
   "metadata": {
    "execution": {
     "iopub.execute_input": "2023-08-13T06:11:09.596488Z",
     "iopub.status.busy": "2023-08-13T06:11:09.596103Z",
     "iopub.status.idle": "2023-08-13T06:11:09.600450Z",
     "shell.execute_reply": "2023-08-13T06:11:09.599465Z"
    },
    "papermill": {
     "duration": 0.121631,
     "end_time": "2023-08-13T06:11:09.602707",
     "exception": false,
     "start_time": "2023-08-13T06:11:09.481076",
     "status": "completed"
    },
    "tags": []
   },
   "outputs": [],
   "source": [
    "# Submit best 6 features (version 2) with common vocabulary (common_1_2_grams)\n",
    "# (Update): Score 0.82867\n",
    "\n",
    "# submit_v4(selected_features=best6_dict,\n",
    "#           param_grid=param_grid,\n",
    "#          vocab=common_1_2_grams)"
   ]
  },
  {
   "cell_type": "code",
   "execution_count": 278,
   "id": "995abe0a",
   "metadata": {
    "execution": {
     "iopub.execute_input": "2023-08-13T06:11:09.832650Z",
     "iopub.status.busy": "2023-08-13T06:11:09.832277Z",
     "iopub.status.idle": "2023-08-13T06:11:09.836999Z",
     "shell.execute_reply": "2023-08-13T06:11:09.835964Z"
    },
    "papermill": {
     "duration": 0.122517,
     "end_time": "2023-08-13T06:11:09.839117",
     "exception": false,
     "start_time": "2023-08-13T06:11:09.716600",
     "status": "completed"
    },
    "tags": []
   },
   "outputs": [],
   "source": [
    "# Submit best 6 features (version 2) with common vocabulary (common_1_2_3_grams)\n",
    "# Note: for this submission submit_v4 function has to be modified: reviewText TfidfVectorizer must have ngram_range(1,3).\n",
    "# (Update): Score in the range 0.825+\n",
    "\n",
    "# submit_v4(selected_features=best6_dict,\n",
    "#           param_grid=param_grid,\n",
    "#          vocab=common_1_2_3_grams)"
   ]
  }
 ],
 "metadata": {
  "kernelspec": {
   "display_name": "Python 3",
   "language": "python",
   "name": "python3"
  },
  "language_info": {
   "codemirror_mode": {
    "name": "ipython",
    "version": 3
   },
   "file_extension": ".py",
   "mimetype": "text/x-python",
   "name": "python",
   "nbconvert_exporter": "python",
   "pygments_lexer": "ipython3",
   "version": "3.10.10"
  },
  "papermill": {
   "default_parameters": {},
   "duration": 2943.458445,
   "end_time": "2023-08-13T06:11:12.882750",
   "environment_variables": {},
   "exception": null,
   "input_path": "__notebook__.ipynb",
   "output_path": "__notebook__.ipynb",
   "parameters": {},
   "start_time": "2023-08-13T05:22:09.424305",
   "version": "2.4.0"
  }
 },
 "nbformat": 4,
 "nbformat_minor": 5
}
