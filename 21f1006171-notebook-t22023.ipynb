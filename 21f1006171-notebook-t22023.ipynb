{
 "cells": [
  {
   "cell_type": "markdown",
   "id": "1999c890",
   "metadata": {
    "papermill": {
     "duration": 0.057534,
     "end_time": "2023-08-11T20:44:11.070593",
     "exception": false,
     "start_time": "2023-08-11T20:44:11.013059",
     "status": "completed"
    },
    "tags": []
   },
   "source": [
    "# MLP Project (T2 2023) by Ganesh P  "
   ]
  },
  {
   "cell_type": "markdown",
   "id": "b9b01d84",
   "metadata": {
    "papermill": {
     "duration": 0.055718,
     "end_time": "2023-08-11T20:44:11.183184",
     "exception": false,
     "start_time": "2023-08-11T20:44:11.127466",
     "status": "completed"
    },
    "tags": []
   },
   "source": [
    "`Disclaimer`   \n",
    "\n",
    "> This final notebook contains only the most relevant code to show the path/flow of my project work over few weeks. Rest of the code is in [my github repo](https://github.com/ganeshbmc/MLP_project) which is private at present (I will make it public after the project is over).  "
   ]
  },
  {
   "cell_type": "markdown",
   "id": "3a7ce853",
   "metadata": {
    "papermill": {
     "duration": 0.05637,
     "end_time": "2023-08-11T20:44:11.296018",
     "exception": false,
     "start_time": "2023-08-11T20:44:11.239648",
     "status": "completed"
    },
    "tags": []
   },
   "source": [
    "`Strengths`  \n",
    "\n",
    "> * Modular code (DRY principle)  \n",
    "> * End to end pipeline in one function (with helper functions)   "
   ]
  },
  {
   "cell_type": "markdown",
   "id": "6aa25fa1",
   "metadata": {
    "papermill": {
     "duration": 0.056733,
     "end_time": "2023-08-11T20:44:11.411771",
     "exception": false,
     "start_time": "2023-08-11T20:44:11.355038",
     "status": "completed"
    },
    "tags": []
   },
   "source": [
    "`Overview`  \n",
    "\n",
    "`PART I`  \n",
    "\n",
    "1.\t> Screen the datasets and import them.  \n",
    "2.\t> Perform EDA (first round).\n",
    "3.\t> Data cleaning.\n",
    "4.\t> Basic models including dummy model.\n",
    "5.\t> Because this is a text sentiment analysis project, focus on 'reviewText' column, work on cleaning text data and vectorising/tokenising it, build several models till the best possible score is reached.  \n",
    "\n",
    "`PART II`  \n",
    "\n",
    "6.\t> Merge train and movies dataset.\n",
    "7.\t> Perform EDA (second round) on merged dataset.\n",
    "8.\t> Data cleaning.\n",
    "9.\t> Build models on merged dataset.\n",
    "10.\t> Understand the results and do another round of EDA if needed.\n",
    "11.\t> Build final model.  \n",
    "\n",
    "`PART III (After project window closes)`  \n",
    "\n",
    "12. > Use NLTK library for further processing text data.  \n",
    "13. > Try to address comments from different languages, special characters etc.  \n",
    "14. > Try imblearn library to address class imbalance.  \n",
    "15. > Try to use currently available LLMs and see how my model performs agains them.  "
   ]
  },
  {
   "cell_type": "markdown",
   "id": "25ffba63",
   "metadata": {
    "papermill": {
     "duration": 0.056774,
     "end_time": "2023-08-11T20:44:11.526895",
     "exception": false,
     "start_time": "2023-08-11T20:44:11.470121",
     "status": "completed"
    },
    "tags": []
   },
   "source": [
    "`Default code on Kaggle notebook`  "
   ]
  },
  {
   "cell_type": "code",
   "execution_count": 1,
   "id": "c2e94695",
   "metadata": {
    "_cell_guid": "b1076dfc-b9ad-4769-8c92-a6c4dae69d19",
    "_uuid": "8f2839f25d086af736a60e9eeb907d3b93b6e0e5",
    "execution": {
     "iopub.execute_input": "2023-08-11T20:44:11.641533Z",
     "iopub.status.busy": "2023-08-11T20:44:11.641060Z",
     "iopub.status.idle": "2023-08-11T20:44:11.656046Z",
     "shell.execute_reply": "2023-08-11T20:44:11.654696Z"
    },
    "papermill": {
     "duration": 0.075671,
     "end_time": "2023-08-11T20:44:11.658689",
     "exception": false,
     "start_time": "2023-08-11T20:44:11.583018",
     "status": "completed"
    },
    "tags": []
   },
   "outputs": [
    {
     "name": "stdout",
     "output_type": "stream",
     "text": [
      "/kaggle/input/sentiment-prediction-on-movie-reviews/movies.csv\n",
      "/kaggle/input/sentiment-prediction-on-movie-reviews/sample.csv\n",
      "/kaggle/input/sentiment-prediction-on-movie-reviews/train.csv\n",
      "/kaggle/input/sentiment-prediction-on-movie-reviews/test.csv\n"
     ]
    }
   ],
   "source": [
    "# This Python 3 environment comes with many helpful analytics libraries installed\n",
    "# It is defined by the kaggle/python Docker image: https://github.com/kaggle/docker-python\n",
    "# For example, here's several helpful packages to load\n",
    "\n",
    "import numpy as np # linear algebra\n",
    "import pandas as pd # data processing, CSV file I/O (e.g. pd.read_csv)\n",
    "\n",
    "# Input data files are available in the read-only \"../input/\" directory\n",
    "# For example, running this (by clicking run or pressing Shift+Enter) will list all files under the input directory\n",
    "\n",
    "import os\n",
    "for dirname, _, filenames in os.walk('/kaggle/input'):\n",
    "    for filename in filenames:\n",
    "        print(os.path.join(dirname, filename))\n",
    "\n",
    "# You can write up to 20GB to the current directory (/kaggle/working/) that gets preserved as output when you create a version using \"Save & Run All\" \n",
    "# You can also write temporary files to /kaggle/temp/, but they won't be saved outside of the current session"
   ]
  },
  {
   "cell_type": "markdown",
   "id": "50eabd49",
   "metadata": {
    "papermill": {
     "duration": 0.057352,
     "end_time": "2023-08-11T20:44:11.773399",
     "exception": false,
     "start_time": "2023-08-11T20:44:11.716047",
     "status": "completed"
    },
    "tags": []
   },
   "source": [
    "### Specify platform  "
   ]
  },
  {
   "cell_type": "code",
   "execution_count": 2,
   "id": "d68a6070",
   "metadata": {
    "execution": {
     "iopub.execute_input": "2023-08-11T20:44:11.890706Z",
     "iopub.status.busy": "2023-08-11T20:44:11.890357Z",
     "iopub.status.idle": "2023-08-11T20:44:11.894077Z",
     "shell.execute_reply": "2023-08-11T20:44:11.893173Z"
    },
    "papermill": {
     "duration": 0.064825,
     "end_time": "2023-08-11T20:44:11.895540",
     "exception": false,
     "start_time": "2023-08-11T20:44:11.830715",
     "status": "completed"
    },
    "tags": []
   },
   "outputs": [],
   "source": [
    "platform = 'kaggle'  "
   ]
  },
  {
   "cell_type": "markdown",
   "id": "9a0f52e1",
   "metadata": {
    "papermill": {
     "duration": 0.057864,
     "end_time": "2023-08-11T20:44:12.008761",
     "exception": false,
     "start_time": "2023-08-11T20:44:11.950897",
     "status": "completed"
    },
    "tags": []
   },
   "source": [
    "### Import libraries  "
   ]
  },
  {
   "cell_type": "code",
   "execution_count": 3,
   "id": "4db774c7",
   "metadata": {
    "execution": {
     "iopub.execute_input": "2023-08-11T20:44:12.126129Z",
     "iopub.status.busy": "2023-08-11T20:44:12.125799Z",
     "iopub.status.idle": "2023-08-11T20:44:14.282348Z",
     "shell.execute_reply": "2023-08-11T20:44:14.280506Z"
    },
    "papermill": {
     "duration": 2.217474,
     "end_time": "2023-08-11T20:44:14.284567",
     "exception": false,
     "start_time": "2023-08-11T20:44:12.067093",
     "status": "completed"
    },
    "tags": []
   },
   "outputs": [
    {
     "name": "stdout",
     "output_type": "stream",
     "text": [
      "Imports done.\n"
     ]
    }
   ],
   "source": [
    "import pandas as pd\n",
    "import numpy as np\n",
    "import matplotlib.pyplot as plt\n",
    "import seaborn as sns\n",
    "import re\n",
    "from itertools import compress\n",
    "\n",
    "from sklearn.dummy import DummyClassifier\n",
    "from sklearn.pipeline import Pipeline, FeatureUnion\n",
    "from sklearn.compose import ColumnTransformer\n",
    "from sklearn.metrics import classification_report, confusion_matrix,f1_score\n",
    "from sklearn.feature_extraction.text import TfidfVectorizer, CountVectorizer\n",
    "from sklearn.preprocessing import FunctionTransformer\n",
    "from sklearn.preprocessing import StandardScaler, MinMaxScaler, RobustScaler, OneHotEncoder, LabelEncoder\n",
    "from sklearn.impute import SimpleImputer\n",
    "from sklearn.linear_model import LogisticRegression, SGDClassifier\n",
    "from sklearn.tree import DecisionTreeClassifier\n",
    "from sklearn.ensemble import RandomForestClassifier, AdaBoostClassifier\n",
    "from sklearn.svm import LinearSVC\n",
    "from sklearn.naive_bayes import GaussianNB, BernoulliNB, CategoricalNB, ComplementNB, MultinomialNB\n",
    "from sklearn.model_selection import train_test_split, GridSearchCV, cross_val_score\n",
    "from sklearn.decomposition import PCA, TruncatedSVD\n",
    "from sklearn.feature_selection import RFECV\n",
    "from sklearn.feature_selection import RFE\n",
    "from sklearn.neural_network import MLPClassifier\n",
    "\n",
    "# import lightgbm as ltb\n",
    "\n",
    "import scipy.stats as stats\n",
    "print(\"Imports done.\")"
   ]
  },
  {
   "cell_type": "markdown",
   "id": "2a6c51c7",
   "metadata": {
    "papermill": {
     "duration": 0.055685,
     "end_time": "2023-08-11T20:44:14.396784",
     "exception": false,
     "start_time": "2023-08-11T20:44:14.341099",
     "status": "completed"
    },
    "tags": []
   },
   "source": [
    "# PART I  "
   ]
  },
  {
   "cell_type": "markdown",
   "id": "47417ae7",
   "metadata": {
    "papermill": {
     "duration": 0.060629,
     "end_time": "2023-08-11T20:44:14.514233",
     "exception": false,
     "start_time": "2023-08-11T20:44:14.453604",
     "status": "completed"
    },
    "tags": []
   },
   "source": [
    "## Load datasets  "
   ]
  },
  {
   "cell_type": "code",
   "execution_count": 4,
   "id": "6fa461c8",
   "metadata": {
    "execution": {
     "iopub.execute_input": "2023-08-11T20:44:14.631789Z",
     "iopub.status.busy": "2023-08-11T20:44:14.631242Z",
     "iopub.status.idle": "2023-08-11T20:44:15.437894Z",
     "shell.execute_reply": "2023-08-11T20:44:15.436308Z"
    },
    "papermill": {
     "duration": 0.868258,
     "end_time": "2023-08-11T20:44:15.440498",
     "exception": false,
     "start_time": "2023-08-11T20:44:14.572240",
     "status": "completed"
    },
    "tags": []
   },
   "outputs": [
    {
     "data": {
      "text/plain": [
       "(162758, 5)"
      ]
     },
     "execution_count": 4,
     "metadata": {},
     "output_type": "execute_result"
    }
   ],
   "source": [
    "if platform == 'vscode':\n",
    "    traindf = pd.read_csv(\"data/train.csv\")\n",
    "else:\n",
    "    traindf = pd.read_csv(\"/kaggle/input/sentiment-prediction-on-movie-reviews/train.csv\")\n",
    "    \n",
    "traindf.shape"
   ]
  },
  {
   "cell_type": "code",
   "execution_count": 5,
   "id": "3f0d482a",
   "metadata": {
    "execution": {
     "iopub.execute_input": "2023-08-11T20:44:15.555278Z",
     "iopub.status.busy": "2023-08-11T20:44:15.554940Z",
     "iopub.status.idle": "2023-08-11T20:44:15.806641Z",
     "shell.execute_reply": "2023-08-11T20:44:15.805777Z"
    },
    "papermill": {
     "duration": 0.310955,
     "end_time": "2023-08-11T20:44:15.808572",
     "exception": false,
     "start_time": "2023-08-11T20:44:15.497617",
     "status": "completed"
    },
    "tags": []
   },
   "outputs": [
    {
     "data": {
      "text/plain": [
       "(55315, 4)"
      ]
     },
     "execution_count": 5,
     "metadata": {},
     "output_type": "execute_result"
    }
   ],
   "source": [
    "if platform == 'vscode':\n",
    "    testdf = pd.read_csv(\"data/test.csv\")\n",
    "else:\n",
    "    testdf = pd.read_csv(\"/kaggle/input/sentiment-prediction-on-movie-reviews/test.csv\")\n",
    "\n",
    "testdf.shape"
   ]
  },
  {
   "cell_type": "markdown",
   "id": "66637899",
   "metadata": {
    "papermill": {
     "duration": 0.05748,
     "end_time": "2023-08-11T20:44:15.924159",
     "exception": false,
     "start_time": "2023-08-11T20:44:15.866679",
     "status": "completed"
    },
    "tags": []
   },
   "source": [
    "### Understanding the data and getting it ready for training and evaluating models  \n"
   ]
  },
  {
   "cell_type": "code",
   "execution_count": 6,
   "id": "29b0b323",
   "metadata": {
    "execution": {
     "iopub.execute_input": "2023-08-11T20:44:16.042676Z",
     "iopub.status.busy": "2023-08-11T20:44:16.042110Z",
     "iopub.status.idle": "2023-08-11T20:44:16.048164Z",
     "shell.execute_reply": "2023-08-11T20:44:16.047017Z"
    },
    "papermill": {
     "duration": 0.068232,
     "end_time": "2023-08-11T20:44:16.050676",
     "exception": false,
     "start_time": "2023-08-11T20:44:15.982444",
     "status": "completed"
    },
    "tags": []
   },
   "outputs": [
    {
     "data": {
      "text/plain": [
       "(162758, 5)"
      ]
     },
     "execution_count": 6,
     "metadata": {},
     "output_type": "execute_result"
    }
   ],
   "source": [
    "traindf.shape"
   ]
  },
  {
   "cell_type": "code",
   "execution_count": 7,
   "id": "fe939c18",
   "metadata": {
    "execution": {
     "iopub.execute_input": "2023-08-11T20:44:16.170012Z",
     "iopub.status.busy": "2023-08-11T20:44:16.168082Z",
     "iopub.status.idle": "2023-08-11T20:44:16.294628Z",
     "shell.execute_reply": "2023-08-11T20:44:16.293868Z"
    },
    "papermill": {
     "duration": 0.187409,
     "end_time": "2023-08-11T20:44:16.296602",
     "exception": false,
     "start_time": "2023-08-11T20:44:16.109193",
     "status": "completed"
    },
    "tags": []
   },
   "outputs": [
    {
     "name": "stdout",
     "output_type": "stream",
     "text": [
      "<class 'pandas.core.frame.DataFrame'>\n",
      "RangeIndex: 162758 entries, 0 to 162757\n",
      "Data columns (total 5 columns):\n",
      " #   Column              Non-Null Count   Dtype \n",
      "---  ------              --------------   ----- \n",
      " 0   movieid             162758 non-null  object\n",
      " 1   reviewerName        162758 non-null  object\n",
      " 2   isFrequentReviewer  162758 non-null  bool  \n",
      " 3   reviewText          156311 non-null  object\n",
      " 4   sentiment           162758 non-null  object\n",
      "dtypes: bool(1), object(4)\n",
      "memory usage: 5.1+ MB\n"
     ]
    }
   ],
   "source": [
    "traindf.info()"
   ]
  },
  {
   "cell_type": "code",
   "execution_count": 8,
   "id": "000d45e6",
   "metadata": {
    "execution": {
     "iopub.execute_input": "2023-08-11T20:44:16.414151Z",
     "iopub.status.busy": "2023-08-11T20:44:16.413599Z",
     "iopub.status.idle": "2023-08-11T20:44:16.515081Z",
     "shell.execute_reply": "2023-08-11T20:44:16.514476Z"
    },
    "papermill": {
     "duration": 0.162831,
     "end_time": "2023-08-11T20:44:16.516809",
     "exception": false,
     "start_time": "2023-08-11T20:44:16.353978",
     "status": "completed"
    },
    "tags": []
   },
   "outputs": [
    {
     "data": {
      "text/plain": [
       "movieid                  0\n",
       "reviewerName             0\n",
       "isFrequentReviewer       0\n",
       "reviewText            6447\n",
       "sentiment                0\n",
       "dtype: int64"
      ]
     },
     "execution_count": 8,
     "metadata": {},
     "output_type": "execute_result"
    }
   ],
   "source": [
    "traindf.isna().sum()"
   ]
  },
  {
   "cell_type": "markdown",
   "id": "71777eb9",
   "metadata": {
    "papermill": {
     "duration": 0.058323,
     "end_time": "2023-08-11T20:44:16.690207",
     "exception": false,
     "start_time": "2023-08-11T20:44:16.631884",
     "status": "completed"
    },
    "tags": []
   },
   "source": [
    "### Fill empty reviewText with custom text  "
   ]
  },
  {
   "cell_type": "code",
   "execution_count": 9,
   "id": "06761cf5",
   "metadata": {
    "execution": {
     "iopub.execute_input": "2023-08-11T20:44:16.809053Z",
     "iopub.status.busy": "2023-08-11T20:44:16.808715Z",
     "iopub.status.idle": "2023-08-11T20:44:16.931699Z",
     "shell.execute_reply": "2023-08-11T20:44:16.930040Z"
    },
    "papermill": {
     "duration": 0.185057,
     "end_time": "2023-08-11T20:44:16.933935",
     "exception": false,
     "start_time": "2023-08-11T20:44:16.748878",
     "status": "completed"
    },
    "tags": []
   },
   "outputs": [
    {
     "data": {
      "text/plain": [
       "movieid               0\n",
       "reviewerName          0\n",
       "isFrequentReviewer    0\n",
       "reviewText            0\n",
       "sentiment             0\n",
       "dtype: int64"
      ]
     },
     "execution_count": 9,
     "metadata": {},
     "output_type": "execute_result"
    }
   ],
   "source": [
    "traindf[\"reviewText\"].fillna(\"empty\", inplace=True)\n",
    "traindf.isna().sum()"
   ]
  },
  {
   "cell_type": "markdown",
   "id": "48b6c563",
   "metadata": {
    "papermill": {
     "duration": 0.059056,
     "end_time": "2023-08-11T20:44:17.053025",
     "exception": false,
     "start_time": "2023-08-11T20:44:16.993969",
     "status": "completed"
    },
    "tags": []
   },
   "source": [
    "## EDA  \n"
   ]
  },
  {
   "cell_type": "code",
   "execution_count": 10,
   "id": "d7ac0ce8",
   "metadata": {
    "execution": {
     "iopub.execute_input": "2023-08-11T20:44:17.172848Z",
     "iopub.status.busy": "2023-08-11T20:44:17.172494Z",
     "iopub.status.idle": "2023-08-11T20:44:17.354011Z",
     "shell.execute_reply": "2023-08-11T20:44:17.353305Z"
    },
    "papermill": {
     "duration": 0.242887,
     "end_time": "2023-08-11T20:44:17.355808",
     "exception": false,
     "start_time": "2023-08-11T20:44:17.112921",
     "status": "completed"
    },
    "tags": []
   },
   "outputs": [
    {
     "data": {
      "image/png": "[encoded data removed]",
      "text/plain": [
       "<Figure size 600x400 with 1 Axes>"
      ]
     },
     "metadata": {},
     "output_type": "display_data"
    }
   ],
   "source": [
    "# Pie chart for sentiment column\n",
    "plt.figure(figsize=(6, 4))\n",
    "traindf[\"sentiment\"].value_counts().plot(kind='pie', autopct='%1.0f%%', colors=[\"lightgreen\", \"crimson\"])\n",
    "plt.title(\"Pie chart for sentiment column\")\n",
    "plt.show()"
   ]
  },
  {
   "cell_type": "code",
   "execution_count": 11,
   "id": "4e56461a",
   "metadata": {
    "execution": {
     "iopub.execute_input": "2023-08-11T20:44:17.505186Z",
     "iopub.status.busy": "2023-08-11T20:44:17.504628Z",
     "iopub.status.idle": "2023-08-11T20:44:17.575046Z",
     "shell.execute_reply": "2023-08-11T20:44:17.574024Z"
    },
    "papermill": {
     "duration": 0.140212,
     "end_time": "2023-08-11T20:44:17.576919",
     "exception": false,
     "start_time": "2023-08-11T20:44:17.436707",
     "status": "completed"
    },
    "tags": []
   },
   "outputs": [
    {
     "name": "stdout",
     "output_type": "stream",
     "text": [
      "sentiment           NEGATIVE  POSITIVE\n",
      "isFrequentReviewer                    \n",
      "False                  35760     77429\n",
      "True                   18237     31332\n"
     ]
    },
    {
     "data": {
      "text/plain": [
       "Chi2ContingencyResult(statistic=419.89235425657796, pvalue=2.5755894769493255e-93, dof=1, expected_freq=array([[37551.86493444, 75637.13506556],\n",
       "       [16445.13506556, 33123.86493444]]))"
      ]
     },
     "execution_count": 11,
     "metadata": {},
     "output_type": "execute_result"
    }
   ],
   "source": [
    "# Chi-square test for isFrequentReviewer column and sentiment column   \n",
    "\n",
    "contingency_table = pd.crosstab(traindf['isFrequentReviewer'], traindf['sentiment'])\n",
    "print(contingency_table)\n",
    "stats.chi2_contingency(contingency_table)"
   ]
  },
  {
   "cell_type": "markdown",
   "id": "5348333d",
   "metadata": {
    "papermill": {
     "duration": 0.057924,
     "end_time": "2023-08-11T20:44:17.693215",
     "exception": false,
     "start_time": "2023-08-11T20:44:17.635291",
     "status": "completed"
    },
    "tags": []
   },
   "source": [
    "### Separate features and labels  "
   ]
  },
  {
   "cell_type": "code",
   "execution_count": 12,
   "id": "52f7d17a",
   "metadata": {
    "execution": {
     "iopub.execute_input": "2023-08-11T20:44:17.812168Z",
     "iopub.status.busy": "2023-08-11T20:44:17.811849Z",
     "iopub.status.idle": "2023-08-11T20:44:17.818809Z",
     "shell.execute_reply": "2023-08-11T20:44:17.817789Z"
    },
    "papermill": {
     "duration": 0.069289,
     "end_time": "2023-08-11T20:44:17.821504",
     "exception": false,
     "start_time": "2023-08-11T20:44:17.752215",
     "status": "completed"
    },
    "tags": []
   },
   "outputs": [
    {
     "data": {
      "text/plain": [
       "((162758,), (162758,))"
      ]
     },
     "execution_count": 12,
     "metadata": {},
     "output_type": "execute_result"
    }
   ],
   "source": [
    "train_features = traindf[\"reviewText\"]\n",
    "train_labels = traindf.iloc[:, -1]\n",
    "train_features.shape, train_labels.shape"
   ]
  },
  {
   "cell_type": "markdown",
   "id": "d2e1d693",
   "metadata": {
    "papermill": {
     "duration": 0.059449,
     "end_time": "2023-08-11T20:44:17.941373",
     "exception": false,
     "start_time": "2023-08-11T20:44:17.881924",
     "status": "completed"
    },
    "tags": []
   },
   "source": [
    "### Split traindf into training and testing parts  "
   ]
  },
  {
   "cell_type": "code",
   "execution_count": 13,
   "id": "b758cebb",
   "metadata": {
    "execution": {
     "iopub.execute_input": "2023-08-11T20:44:18.064093Z",
     "iopub.status.busy": "2023-08-11T20:44:18.063729Z",
     "iopub.status.idle": "2023-08-11T20:44:18.102286Z",
     "shell.execute_reply": "2023-08-11T20:44:18.101308Z"
    },
    "papermill": {
     "duration": 0.102436,
     "end_time": "2023-08-11T20:44:18.104193",
     "exception": false,
     "start_time": "2023-08-11T20:44:18.001757",
     "status": "completed"
    },
    "tags": []
   },
   "outputs": [
    {
     "data": {
      "text/plain": [
       "((122068,), (40690,), (122068,), (40690,))"
      ]
     },
     "execution_count": 13,
     "metadata": {},
     "output_type": "execute_result"
    }
   ],
   "source": [
    "X_train, X_test, y_train, y_test = train_test_split(train_features, train_labels, test_size=0.25, random_state=42)\n",
    "X_train.shape, X_test.shape, y_train.shape, y_test.shape"
   ]
  },
  {
   "cell_type": "markdown",
   "id": "ef856311",
   "metadata": {
    "papermill": {
     "duration": 0.058796,
     "end_time": "2023-08-11T20:44:18.222155",
     "exception": false,
     "start_time": "2023-08-11T20:44:18.163359",
     "status": "completed"
    },
    "tags": []
   },
   "source": [
    "## Model evaluation plan and code  "
   ]
  },
  {
   "cell_type": "code",
   "execution_count": 14,
   "id": "2f1b838c",
   "metadata": {
    "execution": {
     "iopub.execute_input": "2023-08-11T20:44:18.343168Z",
     "iopub.status.busy": "2023-08-11T20:44:18.342825Z",
     "iopub.status.idle": "2023-08-11T20:44:18.347284Z",
     "shell.execute_reply": "2023-08-11T20:44:18.346075Z"
    },
    "papermill": {
     "duration": 0.067967,
     "end_time": "2023-08-11T20:44:18.349186",
     "exception": false,
     "start_time": "2023-08-11T20:44:18.281219",
     "status": "completed"
    },
    "tags": []
   },
   "outputs": [],
   "source": [
    "# from sklearn.metrics import classification_report, confusion_matrix, ConfusionMatrixDisplay\n",
    "# from sklearn.metrics import f1_score"
   ]
  },
  {
   "cell_type": "code",
   "execution_count": 15,
   "id": "70ec816f",
   "metadata": {
    "execution": {
     "iopub.execute_input": "2023-08-11T20:44:18.470816Z",
     "iopub.status.busy": "2023-08-11T20:44:18.470224Z",
     "iopub.status.idle": "2023-08-11T20:44:18.473466Z",
     "shell.execute_reply": "2023-08-11T20:44:18.472892Z"
    },
    "papermill": {
     "duration": 0.066053,
     "end_time": "2023-08-11T20:44:18.475664",
     "exception": false,
     "start_time": "2023-08-11T20:44:18.409611",
     "status": "completed"
    },
    "tags": []
   },
   "outputs": [],
   "source": [
    "# def evaluate(y_test, y_pred):\n",
    "#     print(classification_report(y_test, y_pred))\n",
    "#     print(confusion_matrix(y_test, y_pred))\n",
    "#     # print(f1_score(y_test, y_pred))\n",
    "#     ConfusionMatrixDisplay(y_test, y_pred)\n",
    "#     return"
   ]
  },
  {
   "cell_type": "markdown",
   "id": "94c95fa5",
   "metadata": {
    "papermill": {
     "duration": 0.06092,
     "end_time": "2023-08-11T20:44:18.598576",
     "exception": false,
     "start_time": "2023-08-11T20:44:18.537656",
     "status": "completed"
    },
    "tags": []
   },
   "source": [
    "### Data preprocessing  "
   ]
  },
  {
   "cell_type": "markdown",
   "id": "f00a7ef7",
   "metadata": {
    "papermill": {
     "duration": 0.059032,
     "end_time": "2023-08-11T20:44:18.718342",
     "exception": false,
     "start_time": "2023-08-11T20:44:18.659310",
     "status": "completed"
    },
    "tags": []
   },
   "source": [
    "`Define stop words`  "
   ]
  },
  {
   "cell_type": "code",
   "execution_count": 16,
   "id": "4cf61bda",
   "metadata": {
    "execution": {
     "iopub.execute_input": "2023-08-11T20:44:18.841394Z",
     "iopub.status.busy": "2023-08-11T20:44:18.840882Z",
     "iopub.status.idle": "2023-08-11T20:44:18.844629Z",
     "shell.execute_reply": "2023-08-11T20:44:18.843665Z"
    },
    "papermill": {
     "duration": 0.067764,
     "end_time": "2023-08-11T20:44:18.846903",
     "exception": false,
     "start_time": "2023-08-11T20:44:18.779139",
     "status": "completed"
    },
    "tags": []
   },
   "outputs": [],
   "source": [
    "# stop_words = [\"able\", \"about\", \"above\", \"abst\", \"ac\"]     # Deprecated  \n",
    "# type(stop_words), len(stop_words)"
   ]
  },
  {
   "cell_type": "markdown",
   "id": "20f8ff9e",
   "metadata": {
    "papermill": {
     "duration": 0.059485,
     "end_time": "2023-08-11T20:44:18.968293",
     "exception": false,
     "start_time": "2023-08-11T20:44:18.908808",
     "status": "completed"
    },
    "tags": []
   },
   "source": [
    "## Feature extraction  "
   ]
  },
  {
   "cell_type": "markdown",
   "id": "dc5cab04",
   "metadata": {
    "papermill": {
     "duration": 0.059312,
     "end_time": "2023-08-11T20:44:19.087875",
     "exception": false,
     "start_time": "2023-08-11T20:44:19.028563",
     "status": "completed"
    },
    "tags": []
   },
   "source": [
    "### Understand CountVectorizer and TfidfVectorizer  "
   ]
  },
  {
   "cell_type": "code",
   "execution_count": 17,
   "id": "c9c66f85",
   "metadata": {
    "execution": {
     "iopub.execute_input": "2023-08-11T20:44:19.207277Z",
     "iopub.status.busy": "2023-08-11T20:44:19.206697Z",
     "iopub.status.idle": "2023-08-11T20:44:19.210589Z",
     "shell.execute_reply": "2023-08-11T20:44:19.209494Z"
    },
    "papermill": {
     "duration": 0.066662,
     "end_time": "2023-08-11T20:44:19.213097",
     "exception": false,
     "start_time": "2023-08-11T20:44:19.146435",
     "status": "completed"
    },
    "tags": []
   },
   "outputs": [],
   "source": [
    "# text = X_train.copy()\n",
    "# text.head()"
   ]
  },
  {
   "cell_type": "code",
   "execution_count": 18,
   "id": "58396eff",
   "metadata": {
    "execution": {
     "iopub.execute_input": "2023-08-11T20:44:19.338024Z",
     "iopub.status.busy": "2023-08-11T20:44:19.337403Z",
     "iopub.status.idle": "2023-08-11T20:44:19.341855Z",
     "shell.execute_reply": "2023-08-11T20:44:19.340819Z"
    },
    "papermill": {
     "duration": 0.069479,
     "end_time": "2023-08-11T20:44:19.344074",
     "exception": false,
     "start_time": "2023-08-11T20:44:19.274595",
     "status": "completed"
    },
    "tags": []
   },
   "outputs": [],
   "source": [
    "# vectorizer = TfidfVectorizer(stop_words=stop_words)\n",
    "# vectorized_text = vectorizer.fit_transform(text[\"reviewText\"])\n",
    "# vectorized_text"
   ]
  },
  {
   "cell_type": "markdown",
   "id": "22ea2a22",
   "metadata": {
    "papermill": {
     "duration": 0.059039,
     "end_time": "2023-08-11T20:44:19.462756",
     "exception": false,
     "start_time": "2023-08-11T20:44:19.403717",
     "status": "completed"
    },
    "tags": []
   },
   "source": [
    "`Without stop words`  \n",
    "<122068x58624 sparse matrix of type '<class 'numpy.float64'>'\n",
    "\twith 2312222 stored elements in Compressed Sparse Row format>\n",
    "\n",
    "`With stop words`  \n",
    "<122068x57784 sparse matrix of type '<class 'numpy.float64'>'\n",
    "\twith 1188395 stored elements in Compressed Sparse Row format>   "
   ]
  },
  {
   "cell_type": "code",
   "execution_count": 19,
   "id": "3ef16fb6",
   "metadata": {
    "execution": {
     "iopub.execute_input": "2023-08-11T20:44:19.584506Z",
     "iopub.status.busy": "2023-08-11T20:44:19.583847Z",
     "iopub.status.idle": "2023-08-11T20:44:19.588080Z",
     "shell.execute_reply": "2023-08-11T20:44:19.587060Z"
    },
    "papermill": {
     "duration": 0.066082,
     "end_time": "2023-08-11T20:44:19.589814",
     "exception": false,
     "start_time": "2023-08-11T20:44:19.523732",
     "status": "completed"
    },
    "tags": []
   },
   "outputs": [],
   "source": [
    "# vectorizer2 = CountVectorizer(stop_words=stop_words)\n",
    "# vectorized_text2 = vectorizer2.fit_transform(text[\"reviewText\"])\n",
    "# vectorized_text2"
   ]
  },
  {
   "cell_type": "markdown",
   "id": "e99b404f",
   "metadata": {
    "papermill": {
     "duration": 0.059629,
     "end_time": "2023-08-11T20:44:19.708556",
     "exception": false,
     "start_time": "2023-08-11T20:44:19.648927",
     "status": "completed"
    },
    "tags": []
   },
   "source": [
    "`Without stop words`  \n",
    "<122068x58624 sparse matrix of type '<class 'numpy.int64'>'\n",
    "\twith 2312222 stored elements in Compressed Sparse Row format>\n",
    "\n",
    "`With stop words`  \n",
    "<122068x57784 sparse matrix of type '<class 'numpy.int64'>'\n",
    "\twith 1188395 stored elements in Compressed Sparse Row format>"
   ]
  },
  {
   "cell_type": "markdown",
   "id": "d18c3859",
   "metadata": {
    "papermill": {
     "duration": 0.059926,
     "end_time": "2023-08-11T20:44:19.828174",
     "exception": false,
     "start_time": "2023-08-11T20:44:19.768248",
     "status": "completed"
    },
    "tags": []
   },
   "source": [
    "### Conclusion   \n",
    "`TfidfVectorizer is equivalent to CountVectorizer followed by TfidfTransformer.`  \n",
    "\n",
    "https://scikit-learn.org/stable/modules/generated/sklearn.feature_extraction.text.TfidfVectorizer.html"
   ]
  },
  {
   "cell_type": "markdown",
   "id": "c562f600",
   "metadata": {
    "papermill": {
     "duration": 0.060164,
     "end_time": "2023-08-11T20:44:19.949146",
     "exception": false,
     "start_time": "2023-08-11T20:44:19.888982",
     "status": "completed"
    },
    "tags": []
   },
   "source": [
    "## Model building workflow  \n",
    "\n",
    "`Make pipeline for preprocesing and model training and predictions`  \n"
   ]
  },
  {
   "cell_type": "code",
   "execution_count": 20,
   "id": "027b334c",
   "metadata": {
    "execution": {
     "iopub.execute_input": "2023-08-11T20:44:20.071457Z",
     "iopub.status.busy": "2023-08-11T20:44:20.071097Z",
     "iopub.status.idle": "2023-08-11T20:44:20.075550Z",
     "shell.execute_reply": "2023-08-11T20:44:20.074477Z"
    },
    "papermill": {
     "duration": 0.06805,
     "end_time": "2023-08-11T20:44:20.077280",
     "exception": false,
     "start_time": "2023-08-11T20:44:20.009230",
     "status": "completed"
    },
    "tags": []
   },
   "outputs": [],
   "source": [
    "# def preprocess_n_train(X_train, y_train, preprocessor, model):\n",
    "#     pipe = Pipeline(steps=[\n",
    "#                             (\"preprocessor\", preprocessor),\n",
    "#                             (\"model\", model)\n",
    "#                         ])\n",
    "    \n",
    "#     pipe.fit(X_train, y_train)\n",
    "\n",
    "#     print(\"Given model has been trained. Use predict method to get predictions array.\")\n",
    "#     return pipe\n",
    "\n",
    "\n",
    "# def predict_n_evaluate(pipeline, X_test, y_test):\n",
    "#     y_pred = pipeline.predict(X_test)\n",
    "#     print(f\"y_pred shape: {y_pred.shape}\")\n",
    "#     print(f\"Summary of predictions: {np.unique(y_pred, return_counts=True)}\")\n",
    "#     print(classification_report(y_test, y_pred))\n",
    "#     print(confusion_matrix(y_test, y_pred))\n",
    "#     return y_pred"
   ]
  },
  {
   "cell_type": "markdown",
   "id": "d36f6ccf",
   "metadata": {
    "papermill": {
     "duration": 0.059128,
     "end_time": "2023-08-11T20:44:20.197014",
     "exception": false,
     "start_time": "2023-08-11T20:44:20.137886",
     "status": "completed"
    },
    "tags": []
   },
   "source": [
    "## Building 3 basic models  "
   ]
  },
  {
   "cell_type": "markdown",
   "id": "bc11a9d1",
   "metadata": {
    "papermill": {
     "duration": 0.059518,
     "end_time": "2023-08-11T20:44:20.316810",
     "exception": false,
     "start_time": "2023-08-11T20:44:20.257292",
     "status": "completed"
    },
    "tags": []
   },
   "source": [
    "### Text preprocessors  "
   ]
  },
  {
   "cell_type": "code",
   "execution_count": 21,
   "id": "2245b1d1",
   "metadata": {
    "execution": {
     "iopub.execute_input": "2023-08-11T20:44:20.438521Z",
     "iopub.status.busy": "2023-08-11T20:44:20.438137Z",
     "iopub.status.idle": "2023-08-11T20:44:20.441721Z",
     "shell.execute_reply": "2023-08-11T20:44:20.440819Z"
    },
    "papermill": {
     "duration": 0.066162,
     "end_time": "2023-08-11T20:44:20.443335",
     "exception": false,
     "start_time": "2023-08-11T20:44:20.377173",
     "status": "completed"
    },
    "tags": []
   },
   "outputs": [],
   "source": [
    "# tvec = TfidfVectorizer()\n",
    "# cvec = CountVectorizer()        # Note that TfidfVectorizer and CountVectorizer+TfidsTransformer do the same function\n",
    "# tvec, cvec"
   ]
  },
  {
   "cell_type": "markdown",
   "id": "fa82fb44",
   "metadata": {
    "papermill": {
     "duration": 0.059784,
     "end_time": "2023-08-11T20:44:20.563115",
     "exception": false,
     "start_time": "2023-08-11T20:44:20.503331",
     "status": "completed"
    },
    "tags": []
   },
   "source": [
    "### Logistic Regression with TfidVectorizer for preprocessing  "
   ]
  },
  {
   "cell_type": "code",
   "execution_count": 22,
   "id": "961111b0",
   "metadata": {
    "execution": {
     "iopub.execute_input": "2023-08-11T20:44:20.685199Z",
     "iopub.status.busy": "2023-08-11T20:44:20.684867Z",
     "iopub.status.idle": "2023-08-11T20:44:20.688956Z",
     "shell.execute_reply": "2023-08-11T20:44:20.687881Z"
    },
    "papermill": {
     "duration": 0.068344,
     "end_time": "2023-08-11T20:44:20.691186",
     "exception": false,
     "start_time": "2023-08-11T20:44:20.622842",
     "status": "completed"
    },
    "tags": []
   },
   "outputs": [],
   "source": [
    "# logreg = LogisticRegression(max_iter=1000)\n",
    "# logreg_pipe = preprocess_n_train(X_train, y_train, tvec, logreg)\n",
    "# y_pred_logreg = predict_n_evaluate(logreg_pipe, X_test, y_test)\n",
    "# y_pred_logreg"
   ]
  },
  {
   "cell_type": "markdown",
   "id": "78c17cf7",
   "metadata": {
    "papermill": {
     "duration": 0.119025,
     "end_time": "2023-08-11T20:44:20.869218",
     "exception": false,
     "start_time": "2023-08-11T20:44:20.750193",
     "status": "completed"
    },
    "tags": []
   },
   "source": [
    "### SVM model  "
   ]
  },
  {
   "cell_type": "code",
   "execution_count": 23,
   "id": "74dc0bbf",
   "metadata": {
    "execution": {
     "iopub.execute_input": "2023-08-11T20:44:20.990757Z",
     "iopub.status.busy": "2023-08-11T20:44:20.990399Z",
     "iopub.status.idle": "2023-08-11T20:44:20.994835Z",
     "shell.execute_reply": "2023-08-11T20:44:20.993445Z"
    },
    "papermill": {
     "duration": 0.068135,
     "end_time": "2023-08-11T20:44:20.997227",
     "exception": false,
     "start_time": "2023-08-11T20:44:20.929092",
     "status": "completed"
    },
    "tags": []
   },
   "outputs": [],
   "source": [
    "# svm = LinearSVC()\n",
    "# svm_pipe = preprocess_n_train(X_train, y_train, tvec, svm)\n",
    "# y_pred_svm = predict_n_evaluate(svm_pipe, X_test, y_test)\n",
    "# y_pred_svm"
   ]
  },
  {
   "cell_type": "markdown",
   "id": "7c0570f7",
   "metadata": {
    "papermill": {
     "duration": 0.059118,
     "end_time": "2023-08-11T20:44:21.117304",
     "exception": false,
     "start_time": "2023-08-11T20:44:21.058186",
     "status": "completed"
    },
    "tags": []
   },
   "source": [
    "### Naive Bayes model  "
   ]
  },
  {
   "cell_type": "markdown",
   "id": "dba7f7ef",
   "metadata": {
    "papermill": {
     "duration": 0.058551,
     "end_time": "2023-08-11T20:44:21.238805",
     "exception": false,
     "start_time": "2023-08-11T20:44:21.180254",
     "status": "completed"
    },
    "tags": []
   },
   "source": [
    "#### MultinomialNB  "
   ]
  },
  {
   "cell_type": "code",
   "execution_count": 24,
   "id": "def52753",
   "metadata": {
    "execution": {
     "iopub.execute_input": "2023-08-11T20:44:21.361025Z",
     "iopub.status.busy": "2023-08-11T20:44:21.360679Z",
     "iopub.status.idle": "2023-08-11T20:44:21.365251Z",
     "shell.execute_reply": "2023-08-11T20:44:21.364184Z"
    },
    "papermill": {
     "duration": 0.068869,
     "end_time": "2023-08-11T20:44:21.367818",
     "exception": false,
     "start_time": "2023-08-11T20:44:21.298949",
     "status": "completed"
    },
    "tags": []
   },
   "outputs": [],
   "source": [
    "# mnb = MultinomialNB()\n",
    "# mnb_pipe = preprocess_n_train(X_train, y_train, tvec, mnb)\n",
    "# y_pred_mnb = predict_n_evaluate(mnb_pipe, X_test, y_test)\n",
    "# y_pred_mnb"
   ]
  },
  {
   "cell_type": "markdown",
   "id": "7384bf76",
   "metadata": {
    "papermill": {
     "duration": 0.058781,
     "end_time": "2023-08-11T20:44:21.486129",
     "exception": false,
     "start_time": "2023-08-11T20:44:21.427348",
     "status": "completed"
    },
    "tags": []
   },
   "source": [
    "## Submitting predictions to Kaggle competition  "
   ]
  },
  {
   "cell_type": "code",
   "execution_count": 25,
   "id": "470b84ef",
   "metadata": {
    "execution": {
     "iopub.execute_input": "2023-08-11T20:44:21.609248Z",
     "iopub.status.busy": "2023-08-11T20:44:21.608954Z",
     "iopub.status.idle": "2023-08-11T20:44:21.613549Z",
     "shell.execute_reply": "2023-08-11T20:44:21.612581Z"
    },
    "papermill": {
     "duration": 0.067221,
     "end_time": "2023-08-11T20:44:21.615261",
     "exception": false,
     "start_time": "2023-08-11T20:44:21.548040",
     "status": "completed"
    },
    "tags": []
   },
   "outputs": [],
   "source": [
    "# def submit(selected_model=logreg, selected_preprocessor=tvec):\n",
    "    \n",
    "#     # Retrain on the whole train.csv file  \n",
    "#     traindf = pd.read_csv(\"/kaggle/input/sentiment-prediction-on-movie-reviews/train.csv\")\n",
    "#     X_train = traindf[\"reviewText\"]\n",
    "#     X_train.fillna(\"empty\", inplace=True)\n",
    "#     y_train = traindf[\"sentiment\"]\n",
    "#     pipe = preprocess_n_train(X_train, y_train, selected_preprocessor, selected_model)\n",
    "    \n",
    "#     # Predict on test.csv file\n",
    "#     testdf = pd.read_csv(\"/kaggle/input/sentiment-prediction-on-movie-reviews/test.csv\")\n",
    "#     X_test = testdf[\"reviewText\"]\n",
    "#     X_test.fillna(\"empty\", inplace=True)\n",
    "    \n",
    "#     y_pred = pipe.predict(X_test)\n",
    "    \n",
    "#     pred_df = pd.DataFrame(y_pred)\n",
    "#     pred_df.columns = [\"sentiment\"]\n",
    "#     pred_df.index.name = \"id\"\n",
    "#     pred_df.to_csv(\"submission.csv\")\n",
    "    \n",
    "#     return \"Successfully created the submission file!!!\""
   ]
  },
  {
   "cell_type": "code",
   "execution_count": 26,
   "id": "ee52594f",
   "metadata": {
    "execution": {
     "iopub.execute_input": "2023-08-11T20:44:21.737086Z",
     "iopub.status.busy": "2023-08-11T20:44:21.736751Z",
     "iopub.status.idle": "2023-08-11T20:44:21.740393Z",
     "shell.execute_reply": "2023-08-11T20:44:21.739584Z"
    },
    "papermill": {
     "duration": 0.066669,
     "end_time": "2023-08-11T20:44:21.742201",
     "exception": false,
     "start_time": "2023-08-11T20:44:21.675532",
     "status": "completed"
    },
    "tags": []
   },
   "outputs": [],
   "source": [
    "# submit(logreg_cv1, tvec_cv1)"
   ]
  },
  {
   "cell_type": "markdown",
   "id": "4e16b866",
   "metadata": {
    "papermill": {
     "duration": 0.059419,
     "end_time": "2023-08-11T20:44:21.860972",
     "exception": false,
     "start_time": "2023-08-11T20:44:21.801553",
     "status": "completed"
    },
    "tags": []
   },
   "source": [
    "# PART II  "
   ]
  },
  {
   "cell_type": "markdown",
   "id": "4a894d89",
   "metadata": {
    "papermill": {
     "duration": 0.060073,
     "end_time": "2023-08-11T20:44:21.980967",
     "exception": false,
     "start_time": "2023-08-11T20:44:21.920894",
     "status": "completed"
    },
    "tags": []
   },
   "source": [
    "## Merge \"movies.csv\" with \"train.csv\" and \"test.csv\"  "
   ]
  },
  {
   "cell_type": "markdown",
   "id": "76939803",
   "metadata": {
    "papermill": {
     "duration": 0.06796,
     "end_time": "2023-08-11T20:44:22.108965",
     "exception": false,
     "start_time": "2023-08-11T20:44:22.041005",
     "status": "completed"
    },
    "tags": []
   },
   "source": [
    "### Helper functions  "
   ]
  },
  {
   "cell_type": "code",
   "execution_count": 27,
   "id": "075d04c9",
   "metadata": {
    "execution": {
     "iopub.execute_input": "2023-08-11T20:44:22.229844Z",
     "iopub.status.busy": "2023-08-11T20:44:22.229483Z",
     "iopub.status.idle": "2023-08-11T20:44:22.234996Z",
     "shell.execute_reply": "2023-08-11T20:44:22.233767Z"
    },
    "papermill": {
     "duration": 0.068664,
     "end_time": "2023-08-11T20:44:22.237350",
     "exception": false,
     "start_time": "2023-08-11T20:44:22.168686",
     "status": "completed"
    },
    "tags": []
   },
   "outputs": [],
   "source": [
    "# Helper function for loading files  \n",
    "\n",
    "def load_csv(filename: str):\n",
    "    if platform == \"vscode\":\n",
    "        df = pd.read_csv(f\"data/{filename}.csv\")\n",
    "    else:\n",
    "        df = pd.read_csv(f\"/kaggle/input/sentiment-prediction-on-movie-reviews/{filename}.csv\")\n",
    "        \n",
    "    return df"
   ]
  },
  {
   "cell_type": "code",
   "execution_count": 28,
   "id": "456bc75b",
   "metadata": {
    "execution": {
     "iopub.execute_input": "2023-08-11T20:44:22.358395Z",
     "iopub.status.busy": "2023-08-11T20:44:22.358040Z",
     "iopub.status.idle": "2023-08-11T20:44:22.363095Z",
     "shell.execute_reply": "2023-08-11T20:44:22.362283Z"
    },
    "papermill": {
     "duration": 0.067654,
     "end_time": "2023-08-11T20:44:22.364759",
     "exception": false,
     "start_time": "2023-08-11T20:44:22.297105",
     "status": "completed"
    },
    "tags": []
   },
   "outputs": [],
   "source": [
    "def inspect(df: pd.DataFrame):\n",
    "    print(f\"Shape of the dataframe: {df.shape}\")\n",
    "    print()\n",
    "    print(f\"Columns in the dataframe:\\n{df.columns}\")\n",
    "    print()\n",
    "    print(f\"{df.info()}\")\n",
    "    print()\n",
    "    # print(f\"Summary: {df.describe()}\")\n",
    "    print(f\"Missing values:\\n{df.isna().sum()}\")\n",
    "    return"
   ]
  },
  {
   "cell_type": "code",
   "execution_count": 29,
   "id": "374f0984",
   "metadata": {
    "execution": {
     "iopub.execute_input": "2023-08-11T20:44:22.487072Z",
     "iopub.status.busy": "2023-08-11T20:44:22.486690Z",
     "iopub.status.idle": "2023-08-11T20:44:22.491264Z",
     "shell.execute_reply": "2023-08-11T20:44:22.490357Z"
    },
    "papermill": {
     "duration": 0.068575,
     "end_time": "2023-08-11T20:44:22.493807",
     "exception": false,
     "start_time": "2023-08-11T20:44:22.425232",
     "status": "completed"
    },
    "tags": []
   },
   "outputs": [],
   "source": [
    "def name_fl(name):\n",
    "    l = name.split()\n",
    "    n = ' '.join((l[0], l[-1]))\n",
    "    return n"
   ]
  },
  {
   "cell_type": "code",
   "execution_count": 30,
   "id": "83f21d68",
   "metadata": {
    "execution": {
     "iopub.execute_input": "2023-08-11T20:44:22.617184Z",
     "iopub.status.busy": "2023-08-11T20:44:22.616814Z",
     "iopub.status.idle": "2023-08-11T20:44:22.637791Z",
     "shell.execute_reply": "2023-08-11T20:44:22.636987Z"
    },
    "papermill": {
     "duration": 0.084079,
     "end_time": "2023-08-11T20:44:22.639644",
     "exception": false,
     "start_time": "2023-08-11T20:44:22.555565",
     "status": "completed"
    },
    "tags": []
   },
   "outputs": [],
   "source": [
    "def select_features(df: pd.DataFrame, moviesdf: pd.DataFrame, row_thresh_null=None):\n",
    "    '''\n",
    "    This function merges the given dataframes. Note that the first df must be \"train\" or \"test\" and\n",
    "    the second df should be \"movies\".\n",
    "    Note: Sentiment column is present only in \"train.csv\" file and not \"test.csv\" file.\n",
    "    '''\n",
    "    \n",
    "    # Drop duplicates from moviesdf\n",
    "#     movies_unique = moviesdf.drop_duplicates(subset=[\"movieid\"])\n",
    "\n",
    "    # Drop duplicates using groupby - clubs similar rows and fills in missing values better\n",
    "    movies_unique = moviesdf.fillna(value=np.nan).groupby(\"movieid\").first().reset_index()\n",
    "    \n",
    "\n",
    "    # Handle missing values in movies.csv better than just dropping duplicates?\n",
    "#     movies_unique = moviesdf.copy()\n",
    "#     movies_unique[[\"audienceScore\", \"runtimeMinutes\"]] = movies_unique[[\"audienceScore\", \"runtimeMinutes\"]].interpolate(method='linear', axis=0)\n",
    "#     movies_unique = movies_unique.fillna(value=np.nan).groupby(\"movieid\").first().fillna(method='ffill').reset_index()\n",
    "\n",
    "    \n",
    "\n",
    "    # Merge df and movies_unique\n",
    "    df_merged = pd.merge(df, movies_unique, on=\"movieid\", how='left')\n",
    "    \n",
    "    # Rename \"isTopCritic\" column, if it exists, to \"isFrequentReviewer\"\n",
    "    df_merged.rename(columns={\"isTopCritic\": \"isFrequentReviewer\"}, inplace=True)\n",
    "    \n",
    "    # Drop columns\n",
    "#     df_merged = df_merged.drop(columns=[\"title\", \"ratingContents\", \"releaseDateTheaters\", \"releaseDateStreaming\", \"distributor\", \"soundType\"])\n",
    "#     df_merged = df_merged.drop(columns=[\"title\", \"soundType\"])\n",
    "    \n",
    "    # Drop rows (OPTIONAL: Uses kwarg row_thresh_null)\n",
    "    if row_thresh_null != None:\n",
    "        df_merged.dropna(axis=0, thresh=(df_merged.shape[1] - row_thresh_null), inplace=True)\n",
    "        \n",
    "\n",
    "    # Create new columns based on reviewText\n",
    "    final = df_merged.copy()\n",
    "    final[\"reviewYN\"] = np.where(final[\"reviewText\"].isnull(), 1, 0)    # Feature engineering - adding a new column\n",
    "    final[\"reviewWC\"] = final.apply(lambda x: len(str(x[\"reviewText\"]).split()), axis=1)    # Feature engineering - adding second new column\n",
    "    \n",
    "    # Clean text (replace numbers with empty string) and fill missing values in \"reviewText\" with empty string\n",
    "    final[\"reviewText\"] = final[\"reviewText\"].str.replace('\\d+', '', regex=True)\n",
    "    final[\"reviewText\"] = final[\"reviewText\"].fillna(\"neutral\")\n",
    "    \n",
    "    # Fill missing values in \"rating\", \"genre\", original columns with the word \"unknown\"\n",
    "    final[\"rating\"] = final[\"rating\"].fillna(\"unknown\")\n",
    "    final[\"originalLanguage\"] = final[\"originalLanguage\"].fillna(\"unknown\")\n",
    "    final[\"genre\"] = final[\"genre\"].fillna(\"unknown\")\n",
    "    final[\"genre\"] = final[\"genre\"].apply(lambda x: re.sub(r\"-\", \"\", x))\n",
    "    final[\"genreSorted\"] = final[\"genre\"].apply(lambda x: (\",\").join(sorted(x.split(\", \"))))\n",
    "#     final[\"genre\"] = final[\"genre\"].replace(to_replace={\"&\": \"\"})\n",
    "\n",
    "    # Impute missing values for \"audienceScore\" and \"runtimeMinutes\" columns\n",
    "#     final[\"audienceScore\"] = final[\"audienceScore\"].fillna(final[\"audienceScore\"].mean())        # MOVED\n",
    "#     final[\"runtimeMinutes\"] = final[\"runtimeMinutes\"].fillna(final[\"runtimeMinutes\"].median())   # MOVED\n",
    "    \n",
    "    # Preprocess and impute missing values in \"boxOffice\" column\n",
    "    final[\"boxOffice\"] = final[\"boxOffice\"].str[1:]\n",
    "    final[\"boxOffice\"] = final[\"boxOffice\"].replace(to_replace={\"M\": \"*1000000\", \"K\": \"*1000\"}, regex=True)\n",
    "    final[\"boxOffice\"] = final[\"boxOffice\"].loc[final[\"boxOffice\"].notnull()].apply(lambda x: eval(str(x)))\n",
    "#     final[\"boxOffice\"] = final[\"boxOffice\"].fillna(final[\"boxOffice\"].median())                  # MOVED\n",
    "    # (Optional) Replace outliers in boxOffice with median\n",
    "#     median = final[\"boxOffice\"].describe()['50%']\n",
    "#     iqr = final[\"boxOffice\"].describe()['75%'] - final[\"boxOffice\"].describe()['25%']\n",
    "#     ll = median - (1.5*iqr)\n",
    "#     ul = median + (1.5*iqr)\n",
    "#     final.loc[final[\"boxOffice\"] > ul, \"boxOffice\"] = median\n",
    "    \n",
    "    # Clean language names\n",
    "    final[\"originalLanguage\"].replace({\"English (United Kingdom)\": \"English\", \n",
    "                                            \"English (Australia)\" : \"English\",\n",
    "                                            \"French (France)\": \"French\", \n",
    "                                            \"French (Canada)\": \"French\",\n",
    "                                            \"Portuguese (Brazil)\": \"Portuguese\",\n",
    "                                            \"Spanish (Spain)\": \"Spanish\"},                                         \n",
    "                                            inplace=True)\n",
    "    \n",
    "    # Clean reviewerName column\n",
    "    pre_post_fixes = {\"Mr. \": \"\", \"Mrs. \": \"\", \"Ms. \": \"\", \"Dr. \": \"\", \n",
    "                      \" MD\": \"\", \" DDS\": \"\", \" DVM\": \"\", \" Jr.\": \"\", \" PhD\": \"\", \" II\": \"\", \" IV\": \"\"}\n",
    "    final[\"reviewerName\"] = final[\"reviewerName\"].replace(pre_post_fixes, regex=True)\n",
    "    final[\"reviewerName\"] = final[\"reviewerName\"].apply(name_fl)\n",
    "    \n",
    "    # Handle 'ratingContents' column\n",
    "    final[\"ratingContents\"] = final[\"ratingContents\"].fillna(\"neutral\")\n",
    "    final[\"rcSorted\"] = final[\"ratingContents\"].apply(lambda x: (\",\").join(sorted(x.strip(\"][\").split(\", \"))))\n",
    "    final[\"rcSorted\"] = final[\"rcSorted\"].apply(lambda x: re.sub(r\"'\", \"\", x))\n",
    "    final[\"rcSorted\"] = final[\"rcSorted\"].apply(lambda x: re.sub(r\"[/\\s]\", \"_\", x))  \n",
    "    \n",
    "    # Handle 'ratingContents' column\n",
    "    final[\"distributor\"] = final[\"distributor\"].fillna(\"unknown\")\n",
    "    \n",
    "    # Work with 'releaseDateTheaters', releaseDateStreaming column\n",
    "    final[[\"releaseDateTheaters\", \"releaseDateStreaming\"]] = final[[\"releaseDateTheaters\", \"releaseDateStreaming\"]].astype('datetime64[ns]')\n",
    "\n",
    "    final[\"releaseDate\"] = final[[\"releaseDateTheaters\", \"releaseDateStreaming\"]].min(axis=1, skipna=False)\n",
    "#     final[\"releaseDate\"] = final[\"releaseDate\"].fillna(final[\"releaseDate\"].median())               # MOVED\n",
    "\n",
    "    final[\"releaseYear\"] = final[\"releaseDate\"].dt.year\n",
    "    final[\"releaseMonth\"] = final[\"releaseDate\"].dt.month\n",
    "    \n",
    "    # Compute \"releaseDiff\" column and fill missing values in \"releaseDiff\" and (optional) replace outliers\n",
    "    final[\"releaseDiff\"] = (final[\"releaseDateStreaming\"] - final[\"releaseDateTheaters\"]) / np.timedelta64(1, 'D')\n",
    "    final[\"releaseDiff\"] = final[\"releaseDiff\"].apply(lambda x: abs(x))\n",
    "    final[\"releaseDiff\"] = final[\"releaseDiff\"].fillna(value=0)\n",
    "#     final[\"releaseDiff\"] = final[\"releaseDiff\"].fillna(final[\"releaseDiff\"].median())\n",
    "    # median = final[\"releaseDiff\"].describe()['50%']\n",
    "    # iqr = final[\"releaseDiff\"].describe()['75%'] - final[\"releaseDiff\"].describe()['25%']\n",
    "    # ll = median - (1.5*iqr)\n",
    "    # ul = median + (1.5*iqr)\n",
    "    # final.loc[final[\"releaseDiff\"] > ul, \"releaseDiff\"] = median\n",
    "    # final.loc[final[\"releaseDiff\"] < ll, \"releaseDiff\"] = median\n",
    "    \n",
    "    # Create new feature columns\n",
    "    \n",
    "    # Convert audienceScore to categories  \n",
    "    num_bins_as = 20\n",
    "    final[\"audScoreBins\"] = pd.cut(final['audienceScore'], bins=num_bins_as, labels=False)\n",
    "    \n",
    "    # Convert runtimeMinutes to categories  \n",
    "#     num_bins_rt = 20\n",
    "    final[\"runtimeBins\"] = pd.cut(final['runtimeMinutes'], bins=[0,75,120,180,565], labels=[4,3,2,1])\n",
    "    \n",
    "    # Convert boxOffice to categories  \n",
    "    num_bins_bo = 5\n",
    "    final[\"boxOfficeBins\"] = pd.cut(final['boxOffice'], bins=num_bins_bo, labels=False)\n",
    "    \n",
    "    # Convert releaseDiff to categories  \n",
    "    num_bins_rd = 5\n",
    "    final[\"releaseDiffBins\"] = pd.cut(final['releaseDiff'], bins=[-1, 180, 360, 1000, 40000], labels=[0, 1, 2, 3])\n",
    "\n",
    "    return final"
   ]
  },
  {
   "cell_type": "code",
   "execution_count": 31,
   "id": "a74edeef",
   "metadata": {
    "execution": {
     "iopub.execute_input": "2023-08-11T20:44:22.761766Z",
     "iopub.status.busy": "2023-08-11T20:44:22.761390Z",
     "iopub.status.idle": "2023-08-11T20:44:22.767611Z",
     "shell.execute_reply": "2023-08-11T20:44:22.766659Z"
    },
    "papermill": {
     "duration": 0.069405,
     "end_time": "2023-08-11T20:44:22.769297",
     "exception": false,
     "start_time": "2023-08-11T20:44:22.699892",
     "status": "completed"
    },
    "tags": []
   },
   "outputs": [],
   "source": [
    "def split_train_predict(features, labels, pipeline, test_size=0.25, random_state=42):\n",
    "    # cols = features.columns\n",
    "    if len(features.shape) == 1:\n",
    "        features = features.to_numpy().reshape(-1, 1)  # reshape to 2D array\n",
    "    features = pd.DataFrame(features)\n",
    "    X_train, X_test, y_train, y_test = train_test_split(features, labels, test_size=test_size, random_state=random_state)\n",
    "    pipeline.fit(X_train, y_train)\n",
    "    y_pred = pipeline.predict(X_test)\n",
    "    print(classification_report(y_test, y_pred))\n",
    "    print(confusion_matrix(y_test, y_pred))\n",
    "    return pipeline"
   ]
  },
  {
   "cell_type": "markdown",
   "id": "7430b793",
   "metadata": {
    "papermill": {
     "duration": 0.061559,
     "end_time": "2023-08-11T20:44:22.890556",
     "exception": false,
     "start_time": "2023-08-11T20:44:22.828997",
     "status": "completed"
    },
    "tags": []
   },
   "source": [
    "### Merge \"train.csv\" file with \"movies.csv\" file  "
   ]
  },
  {
   "cell_type": "code",
   "execution_count": 32,
   "id": "47a5b0eb",
   "metadata": {
    "execution": {
     "iopub.execute_input": "2023-08-11T20:44:23.013322Z",
     "iopub.status.busy": "2023-08-11T20:44:23.012803Z",
     "iopub.status.idle": "2023-08-11T20:44:31.397701Z",
     "shell.execute_reply": "2023-08-11T20:44:31.396310Z"
    },
    "papermill": {
     "duration": 8.448529,
     "end_time": "2023-08-11T20:44:31.400268",
     "exception": false,
     "start_time": "2023-08-11T20:44:22.951739",
     "status": "completed"
    },
    "tags": []
   },
   "outputs": [],
   "source": [
    "merged = select_features(load_csv(\"train\"), load_csv(\"movies\"), row_thresh_null=None)"
   ]
  },
  {
   "cell_type": "code",
   "execution_count": 33,
   "id": "393a4e40",
   "metadata": {
    "execution": {
     "iopub.execute_input": "2023-08-11T20:44:31.519477Z",
     "iopub.status.busy": "2023-08-11T20:44:31.518622Z",
     "iopub.status.idle": "2023-08-11T20:44:31.523293Z",
     "shell.execute_reply": "2023-08-11T20:44:31.522638Z"
    },
    "papermill": {
     "duration": 0.066034,
     "end_time": "2023-08-11T20:44:31.525146",
     "exception": false,
     "start_time": "2023-08-11T20:44:31.459112",
     "status": "completed"
    },
    "tags": []
   },
   "outputs": [],
   "source": [
    "# inspect(merged)    # Note missing values in ['audienceScore', 'runtimeMinutes', 'boxOffice'] columns  "
   ]
  },
  {
   "cell_type": "code",
   "execution_count": 34,
   "id": "45c7b2dd",
   "metadata": {
    "execution": {
     "iopub.execute_input": "2023-08-11T20:44:31.650440Z",
     "iopub.status.busy": "2023-08-11T20:44:31.650058Z",
     "iopub.status.idle": "2023-08-11T20:44:31.725567Z",
     "shell.execute_reply": "2023-08-11T20:44:31.724746Z"
    },
    "papermill": {
     "duration": 0.139131,
     "end_time": "2023-08-11T20:44:31.727483",
     "exception": false,
     "start_time": "2023-08-11T20:44:31.588352",
     "status": "completed"
    },
    "tags": []
   },
   "outputs": [
    {
     "data": {
      "text/plain": [
       "array([6.80e+01, 1.04e+02, 1.43e+07])"
      ]
     },
     "execution_count": 34,
     "metadata": {},
     "output_type": "execute_result"
    }
   ],
   "source": [
    "# Simple Imputer for ['audienceScore', 'runtimeMinutes', 'boxOffice'] columns\n",
    "si = SimpleImputer(strategy='median')\n",
    "merged[['audienceScore', 'runtimeMinutes', 'boxOffice']] = si.fit_transform(merged[['audienceScore', 'runtimeMinutes', 'boxOffice']])\n",
    "si.statistics_"
   ]
  },
  {
   "cell_type": "code",
   "execution_count": 35,
   "id": "d394f993",
   "metadata": {
    "execution": {
     "iopub.execute_input": "2023-08-11T20:44:31.849791Z",
     "iopub.status.busy": "2023-08-11T20:44:31.849383Z",
     "iopub.status.idle": "2023-08-11T20:44:31.861446Z",
     "shell.execute_reply": "2023-08-11T20:44:31.860490Z"
    },
    "papermill": {
     "duration": 0.075848,
     "end_time": "2023-08-11T20:44:31.863837",
     "exception": false,
     "start_time": "2023-08-11T20:44:31.787989",
     "status": "completed"
    },
    "tags": []
   },
   "outputs": [],
   "source": [
    "# Fill 'releaseDate' column with median  \n",
    "merged['releaseDate'] = merged[\"releaseDate\"].fillna(merged[\"releaseDate\"].median())"
   ]
  },
  {
   "cell_type": "code",
   "execution_count": 36,
   "id": "18f88e7e",
   "metadata": {
    "execution": {
     "iopub.execute_input": "2023-08-11T20:44:31.985214Z",
     "iopub.status.busy": "2023-08-11T20:44:31.984550Z",
     "iopub.status.idle": "2023-08-11T20:44:32.657681Z",
     "shell.execute_reply": "2023-08-11T20:44:32.656511Z"
    },
    "papermill": {
     "duration": 0.736443,
     "end_time": "2023-08-11T20:44:32.659661",
     "exception": false,
     "start_time": "2023-08-11T20:44:31.923218",
     "status": "completed"
    },
    "tags": []
   },
   "outputs": [
    {
     "name": "stdout",
     "output_type": "stream",
     "text": [
      "Shape of the dataframe: (162758, 30)\n",
      "\n",
      "Columns in the dataframe:\n",
      "Index(['movieid', 'reviewerName', 'isFrequentReviewer', 'reviewText',\n",
      "       'sentiment', 'title', 'audienceScore', 'rating', 'ratingContents',\n",
      "       'releaseDateTheaters', 'releaseDateStreaming', 'runtimeMinutes',\n",
      "       'genre', 'originalLanguage', 'director', 'boxOffice', 'distributor',\n",
      "       'soundType', 'reviewYN', 'reviewWC', 'genreSorted', 'rcSorted',\n",
      "       'releaseDate', 'releaseYear', 'releaseMonth', 'releaseDiff',\n",
      "       'audScoreBins', 'runtimeBins', 'boxOfficeBins', 'releaseDiffBins'],\n",
      "      dtype='object')\n",
      "\n",
      "<class 'pandas.core.frame.DataFrame'>\n",
      "Int64Index: 162758 entries, 0 to 162757\n",
      "Data columns (total 30 columns):\n",
      " #   Column                Non-Null Count   Dtype         \n",
      "---  ------                --------------   -----         \n",
      " 0   movieid               162758 non-null  object        \n",
      " 1   reviewerName          162758 non-null  object        \n",
      " 2   isFrequentReviewer    162758 non-null  bool          \n",
      " 3   reviewText            162758 non-null  object        \n",
      " 4   sentiment             162758 non-null  object        \n",
      " 5   title                 162758 non-null  object        \n",
      " 6   audienceScore         162758 non-null  float64       \n",
      " 7   rating                162758 non-null  object        \n",
      " 8   ratingContents        162758 non-null  object        \n",
      " 9   releaseDateTheaters   146403 non-null  datetime64[ns]\n",
      " 10  releaseDateStreaming  157353 non-null  datetime64[ns]\n",
      " 11  runtimeMinutes        162758 non-null  float64       \n",
      " 12  genre                 162758 non-null  object        \n",
      " 13  originalLanguage      162758 non-null  object        \n",
      " 14  director              162758 non-null  object        \n",
      " 15  boxOffice             162758 non-null  float64       \n",
      " 16  distributor           162758 non-null  object        \n",
      " 17  soundType             93466 non-null   object        \n",
      " 18  reviewYN              162758 non-null  int64         \n",
      " 19  reviewWC              162758 non-null  int64         \n",
      " 20  genreSorted           162758 non-null  object        \n",
      " 21  rcSorted              162758 non-null  object        \n",
      " 22  releaseDate           162758 non-null  datetime64[ns]\n",
      " 23  releaseYear           143073 non-null  float64       \n",
      " 24  releaseMonth          143073 non-null  float64       \n",
      " 25  releaseDiff           162758 non-null  float64       \n",
      " 26  audScoreBins          159922 non-null  float64       \n",
      " 27  runtimeBins           162016 non-null  category      \n",
      " 28  boxOfficeBins         130581 non-null  float64       \n",
      " 29  releaseDiffBins       162758 non-null  category      \n",
      "dtypes: bool(1), category(2), datetime64[ns](3), float64(8), int64(2), object(14)\n",
      "memory usage: 35.2+ MB\n",
      "None\n",
      "\n",
      "Missing values:\n",
      "movieid                     0\n",
      "reviewerName                0\n",
      "isFrequentReviewer          0\n",
      "reviewText                  0\n",
      "sentiment                   0\n",
      "title                       0\n",
      "audienceScore               0\n",
      "rating                      0\n",
      "ratingContents              0\n",
      "releaseDateTheaters     16355\n",
      "releaseDateStreaming     5405\n",
      "runtimeMinutes              0\n",
      "genre                       0\n",
      "originalLanguage            0\n",
      "director                    0\n",
      "boxOffice                   0\n",
      "distributor                 0\n",
      "soundType               69292\n",
      "reviewYN                    0\n",
      "reviewWC                    0\n",
      "genreSorted                 0\n",
      "rcSorted                    0\n",
      "releaseDate                 0\n",
      "releaseYear             19685\n",
      "releaseMonth            19685\n",
      "releaseDiff                 0\n",
      "audScoreBins             2836\n",
      "runtimeBins               742\n",
      "boxOfficeBins           32177\n",
      "releaseDiffBins             0\n",
      "dtype: int64\n"
     ]
    }
   ],
   "source": [
    "# Check out 'merged' df after imputation  \n",
    "inspect(merged)"
   ]
  },
  {
   "cell_type": "code",
   "execution_count": 37,
   "id": "b98ff172",
   "metadata": {
    "execution": {
     "iopub.execute_input": "2023-08-11T20:44:32.781725Z",
     "iopub.status.busy": "2023-08-11T20:44:32.781367Z",
     "iopub.status.idle": "2023-08-11T20:44:32.825255Z",
     "shell.execute_reply": "2023-08-11T20:44:32.824212Z"
    },
    "papermill": {
     "duration": 0.10847,
     "end_time": "2023-08-11T20:44:32.827949",
     "exception": false,
     "start_time": "2023-08-11T20:44:32.719479",
     "status": "completed"
    },
    "tags": []
   },
   "outputs": [
    {
     "data": {
      "text/html": [
       "<div>\n",
       "<style scoped>\n",
       "    .dataframe tbody tr th:only-of-type {\n",
       "        vertical-align: middle;\n",
       "    }\n",
       "\n",
       "    .dataframe tbody tr th {\n",
       "        vertical-align: top;\n",
       "    }\n",
       "\n",
       "    .dataframe thead th {\n",
       "        text-align: right;\n",
       "    }\n",
       "</style>\n",
       "<table border=\"1\" class=\"dataframe\">\n",
       "  <thead>\n",
       "    <tr style=\"text-align: right;\">\n",
       "      <th></th>\n",
       "      <th>audienceScore</th>\n",
       "      <th>runtimeMinutes</th>\n",
       "      <th>boxOffice</th>\n",
       "    </tr>\n",
       "  </thead>\n",
       "  <tbody>\n",
       "    <tr>\n",
       "      <th>count</th>\n",
       "      <td>162758.000000</td>\n",
       "      <td>162758.000000</td>\n",
       "      <td>1.627580e+05</td>\n",
       "    </tr>\n",
       "    <tr>\n",
       "      <th>mean</th>\n",
       "      <td>65.062565</td>\n",
       "      <td>106.992019</td>\n",
       "      <td>4.160983e+07</td>\n",
       "    </tr>\n",
       "    <tr>\n",
       "      <th>std</th>\n",
       "      <td>19.844000</td>\n",
       "      <td>22.203778</td>\n",
       "      <td>7.932291e+07</td>\n",
       "    </tr>\n",
       "    <tr>\n",
       "      <th>min</th>\n",
       "      <td>0.000000</td>\n",
       "      <td>4.000000</td>\n",
       "      <td>0.000000e+00</td>\n",
       "    </tr>\n",
       "    <tr>\n",
       "      <th>25%</th>\n",
       "      <td>51.000000</td>\n",
       "      <td>93.000000</td>\n",
       "      <td>2.000000e+06</td>\n",
       "    </tr>\n",
       "    <tr>\n",
       "      <th>50%</th>\n",
       "      <td>68.000000</td>\n",
       "      <td>104.000000</td>\n",
       "      <td>1.430000e+07</td>\n",
       "    </tr>\n",
       "    <tr>\n",
       "      <th>75%</th>\n",
       "      <td>81.000000</td>\n",
       "      <td>118.000000</td>\n",
       "      <td>4.200000e+07</td>\n",
       "    </tr>\n",
       "    <tr>\n",
       "      <th>max</th>\n",
       "      <td>100.000000</td>\n",
       "      <td>561.000000</td>\n",
       "      <td>8.584000e+08</td>\n",
       "    </tr>\n",
       "  </tbody>\n",
       "</table>\n",
       "</div>"
      ],
      "text/plain": [
       "       audienceScore  runtimeMinutes     boxOffice\n",
       "count  162758.000000   162758.000000  1.627580e+05\n",
       "mean       65.062565      106.992019  4.160983e+07\n",
       "std        19.844000       22.203778  7.932291e+07\n",
       "min         0.000000        4.000000  0.000000e+00\n",
       "25%        51.000000       93.000000  2.000000e+06\n",
       "50%        68.000000      104.000000  1.430000e+07\n",
       "75%        81.000000      118.000000  4.200000e+07\n",
       "max       100.000000      561.000000  8.584000e+08"
      ]
     },
     "execution_count": 37,
     "metadata": {},
     "output_type": "execute_result"
    }
   ],
   "source": [
    "merged[['audienceScore', 'runtimeMinutes', 'boxOffice']].describe()"
   ]
  },
  {
   "cell_type": "markdown",
   "id": "cddb3dc3",
   "metadata": {
    "papermill": {
     "duration": 0.060033,
     "end_time": "2023-08-11T20:44:32.948179",
     "exception": false,
     "start_time": "2023-08-11T20:44:32.888146",
     "status": "completed"
    },
    "tags": []
   },
   "source": [
    "### EDA releaseDiff  "
   ]
  },
  {
   "cell_type": "code",
   "execution_count": 38,
   "id": "8442be2c",
   "metadata": {
    "execution": {
     "iopub.execute_input": "2023-08-11T20:44:33.071048Z",
     "iopub.status.busy": "2023-08-11T20:44:33.070721Z",
     "iopub.status.idle": "2023-08-11T20:44:33.086301Z",
     "shell.execute_reply": "2023-08-11T20:44:33.085483Z"
    },
    "papermill": {
     "duration": 0.079089,
     "end_time": "2023-08-11T20:44:33.088010",
     "exception": false,
     "start_time": "2023-08-11T20:44:33.008921",
     "status": "completed"
    },
    "tags": []
   },
   "outputs": [
    {
     "data": {
      "text/plain": [
       "count    162758.000000\n",
       "mean       1653.469015\n",
       "std        4581.420922\n",
       "min           0.000000\n",
       "25%          65.000000\n",
       "50%         116.000000\n",
       "75%         375.000000\n",
       "max       38922.000000\n",
       "Name: releaseDiff, dtype: float64"
      ]
     },
     "execution_count": 38,
     "metadata": {},
     "output_type": "execute_result"
    }
   ],
   "source": [
    "# abs values\n",
    "merged[\"releaseDiff\"].describe()"
   ]
  },
  {
   "cell_type": "code",
   "execution_count": 39,
   "id": "b2a970f3",
   "metadata": {
    "execution": {
     "iopub.execute_input": "2023-08-11T20:44:33.209170Z",
     "iopub.status.busy": "2023-08-11T20:44:33.208837Z",
     "iopub.status.idle": "2023-08-11T20:44:33.218140Z",
     "shell.execute_reply": "2023-08-11T20:44:33.216951Z"
    },
    "papermill": {
     "duration": 0.072452,
     "end_time": "2023-08-11T20:44:33.220216",
     "exception": false,
     "start_time": "2023-08-11T20:44:33.147764",
     "status": "completed"
    },
    "tags": []
   },
   "outputs": [
    {
     "data": {
      "text/plain": [
       "0    111750\n",
       "3     32557\n",
       "1      9920\n",
       "2      8531\n",
       "Name: releaseDiffBins, dtype: int64"
      ]
     },
     "execution_count": 39,
     "metadata": {},
     "output_type": "execute_result"
    }
   ],
   "source": [
    "merged['releaseDiffBins'].value_counts()"
   ]
  },
  {
   "cell_type": "code",
   "execution_count": 40,
   "id": "c7088d0c",
   "metadata": {
    "execution": {
     "iopub.execute_input": "2023-08-11T20:44:33.343683Z",
     "iopub.status.busy": "2023-08-11T20:44:33.343289Z",
     "iopub.status.idle": "2023-08-11T20:44:33.554550Z",
     "shell.execute_reply": "2023-08-11T20:44:33.553555Z"
    },
    "papermill": {
     "duration": 0.275543,
     "end_time": "2023-08-11T20:44:33.556828",
     "exception": false,
     "start_time": "2023-08-11T20:44:33.281285",
     "status": "completed"
    },
    "tags": []
   },
   "outputs": [
    {
     "data": {
      "text/plain": [
       "<Axes: xlabel='sentiment', ylabel='releaseDiff'>"
      ]
     },
     "execution_count": 40,
     "metadata": {},
     "output_type": "execute_result"
    },
    {
     "data": {
      "image/png": "[encoded data removed]",
      "text/plain": [
       "<Figure size 640x480 with 1 Axes>"
      ]
     },
     "metadata": {},
     "output_type": "display_data"
    }
   ],
   "source": [
    "sns.boxplot(x=merged['sentiment'], y=merged['releaseDiff'], showfliers=False)"
   ]
  },
  {
   "cell_type": "code",
   "execution_count": 41,
   "id": "2a2efed6",
   "metadata": {
    "execution": {
     "iopub.execute_input": "2023-08-11T20:44:33.681893Z",
     "iopub.status.busy": "2023-08-11T20:44:33.681550Z",
     "iopub.status.idle": "2023-08-11T20:44:34.068768Z",
     "shell.execute_reply": "2023-08-11T20:44:34.067826Z"
    },
    "papermill": {
     "duration": 0.451918,
     "end_time": "2023-08-11T20:44:34.070567",
     "exception": false,
     "start_time": "2023-08-11T20:44:33.618649",
     "status": "completed"
    },
    "tags": []
   },
   "outputs": [
    {
     "data": {
      "text/plain": [
       "<seaborn.axisgrid.FacetGrid at 0x7aa0721783d0>"
      ]
     },
     "execution_count": 41,
     "metadata": {},
     "output_type": "execute_result"
    },
    {
     "data": {
      "image/png": "[encoded data removed]",
      "text/plain": [
       "<Figure size 500x500 with 1 Axes>"
      ]
     },
     "metadata": {},
     "output_type": "display_data"
    }
   ],
   "source": [
    "sns.displot(merged['releaseDiffBins'])"
   ]
  },
  {
   "cell_type": "code",
   "execution_count": 42,
   "id": "1766ecd9",
   "metadata": {
    "execution": {
     "iopub.execute_input": "2023-08-11T20:44:34.191214Z",
     "iopub.status.busy": "2023-08-11T20:44:34.190920Z",
     "iopub.status.idle": "2023-08-11T20:44:34.202594Z",
     "shell.execute_reply": "2023-08-11T20:44:34.201628Z"
    },
    "papermill": {
     "duration": 0.074154,
     "end_time": "2023-08-11T20:44:34.204254",
     "exception": false,
     "start_time": "2023-08-11T20:44:34.130100",
     "status": "completed"
    },
    "tags": []
   },
   "outputs": [
    {
     "data": {
      "text/plain": [
       "POSITIVE    34446\n",
       "NEGATIVE    16562\n",
       "Name: sentiment, dtype: int64"
      ]
     },
     "execution_count": 42,
     "metadata": {},
     "output_type": "execute_result"
    }
   ],
   "source": [
    "merged['sentiment'].loc[merged['releaseDiffBins'] > 0].value_counts()"
   ]
  },
  {
   "cell_type": "code",
   "execution_count": 43,
   "id": "2e958770",
   "metadata": {
    "execution": {
     "iopub.execute_input": "2023-08-11T20:44:34.329664Z",
     "iopub.status.busy": "2023-08-11T20:44:34.328459Z",
     "iopub.status.idle": "2023-08-11T20:44:34.337111Z",
     "shell.execute_reply": "2023-08-11T20:44:34.336511Z"
    },
    "papermill": {
     "duration": 0.074122,
     "end_time": "2023-08-11T20:44:34.338728",
     "exception": false,
     "start_time": "2023-08-11T20:44:34.264606",
     "status": "completed"
    },
    "tags": []
   },
   "outputs": [
    {
     "data": {
      "text/plain": [
       "count     162758\n",
       "unique         4\n",
       "top            0\n",
       "freq      111750\n",
       "Name: releaseDiffBins, dtype: int64"
      ]
     },
     "execution_count": 43,
     "metadata": {},
     "output_type": "execute_result"
    }
   ],
   "source": [
    "merged['releaseDiffBins'].describe()"
   ]
  },
  {
   "cell_type": "markdown",
   "id": "c766c5a0",
   "metadata": {
    "papermill": {
     "duration": 0.061621,
     "end_time": "2023-08-11T20:44:34.461019",
     "exception": false,
     "start_time": "2023-08-11T20:44:34.399398",
     "status": "completed"
    },
    "tags": []
   },
   "source": [
    "### EDA 'distributor'  "
   ]
  },
  {
   "cell_type": "code",
   "execution_count": 44,
   "id": "91b0603b",
   "metadata": {
    "execution": {
     "iopub.execute_input": "2023-08-11T20:44:34.648858Z",
     "iopub.status.busy": "2023-08-11T20:44:34.648267Z",
     "iopub.status.idle": "2023-08-11T20:44:34.665459Z",
     "shell.execute_reply": "2023-08-11T20:44:34.664485Z"
    },
    "papermill": {
     "duration": 0.081585,
     "end_time": "2023-08-11T20:44:34.667255",
     "exception": false,
     "start_time": "2023-08-11T20:44:34.585670",
     "status": "completed"
    },
    "tags": []
   },
   "outputs": [
    {
     "data": {
      "text/plain": [
       "unknown                              20489\n",
       "Universal Pictures                    8847\n",
       "Warner Bros. Pictures                 8722\n",
       "Paramount Pictures                    7773\n",
       "20th Century Fox                      7007\n",
       "                                     ...  \n",
       "Almi Pictures                            1\n",
       "Koch Lorber                              1\n",
       "Magic Lamp                               1\n",
       "Fine Line Features, Miramax Films        1\n",
       "American Film Co.                        1\n",
       "Name: distributor, Length: 1796, dtype: int64"
      ]
     },
     "execution_count": 44,
     "metadata": {},
     "output_type": "execute_result"
    }
   ],
   "source": [
    "merged[\"distributor\"].value_counts()"
   ]
  },
  {
   "cell_type": "code",
   "execution_count": 45,
   "id": "baec90f8",
   "metadata": {
    "execution": {
     "iopub.execute_input": "2023-08-11T20:44:34.792781Z",
     "iopub.status.busy": "2023-08-11T20:44:34.792402Z",
     "iopub.status.idle": "2023-08-11T20:44:34.808598Z",
     "shell.execute_reply": "2023-08-11T20:44:34.807098Z"
    },
    "papermill": {
     "duration": 0.081202,
     "end_time": "2023-08-11T20:44:34.810661",
     "exception": false,
     "start_time": "2023-08-11T20:44:34.729459",
     "status": "completed"
    },
    "tags": []
   },
   "outputs": [
    {
     "data": {
      "text/plain": [
       "count    162758.000000\n",
       "mean        106.992019\n",
       "std          22.203778\n",
       "min           4.000000\n",
       "25%          93.000000\n",
       "50%         104.000000\n",
       "75%         118.000000\n",
       "max         561.000000\n",
       "Name: runtimeMinutes, dtype: float64"
      ]
     },
     "execution_count": 45,
     "metadata": {},
     "output_type": "execute_result"
    }
   ],
   "source": [
    "merged[\"runtimeMinutes\"].describe()"
   ]
  },
  {
   "cell_type": "code",
   "execution_count": 46,
   "id": "43058c2f",
   "metadata": {
    "execution": {
     "iopub.execute_input": "2023-08-11T20:44:34.936627Z",
     "iopub.status.busy": "2023-08-11T20:44:34.936190Z",
     "iopub.status.idle": "2023-08-11T20:44:35.155076Z",
     "shell.execute_reply": "2023-08-11T20:44:35.154450Z"
    },
    "papermill": {
     "duration": 0.284614,
     "end_time": "2023-08-11T20:44:35.156869",
     "exception": false,
     "start_time": "2023-08-11T20:44:34.872255",
     "status": "completed"
    },
    "tags": []
   },
   "outputs": [
    {
     "data": {
      "text/plain": [
       "<Axes: xlabel='sentiment', ylabel='runtimeMinutes'>"
      ]
     },
     "execution_count": 46,
     "metadata": {},
     "output_type": "execute_result"
    },
    {
     "data": {
      "image/png": "[encoded data removed]",
      "text/plain": [
       "<Figure size 640x480 with 1 Axes>"
      ]
     },
     "metadata": {},
     "output_type": "display_data"
    }
   ],
   "source": [
    "sns.boxplot(y=merged[\"runtimeMinutes\"], x=merged[\"sentiment\"])"
   ]
  },
  {
   "cell_type": "code",
   "execution_count": 47,
   "id": "da56b577",
   "metadata": {
    "execution": {
     "iopub.execute_input": "2023-08-11T20:44:35.283373Z",
     "iopub.status.busy": "2023-08-11T20:44:35.283067Z",
     "iopub.status.idle": "2023-08-11T20:44:35.703483Z",
     "shell.execute_reply": "2023-08-11T20:44:35.702757Z"
    },
    "papermill": {
     "duration": 0.48675,
     "end_time": "2023-08-11T20:44:35.705211",
     "exception": false,
     "start_time": "2023-08-11T20:44:35.218461",
     "status": "completed"
    },
    "tags": []
   },
   "outputs": [
    {
     "name": "stdout",
     "output_type": "stream",
     "text": [
      "0.0    121579\n",
      "1.0      6474\n",
      "2.0      1819\n",
      "3.0       433\n",
      "4.0       276\n",
      "Name: boxOfficeBins, dtype: int64\n"
     ]
    },
    {
     "data": {
      "text/plain": [
       "<seaborn.axisgrid.FacetGrid at 0x7aa070c2c5b0>"
      ]
     },
     "execution_count": 47,
     "metadata": {},
     "output_type": "execute_result"
    },
    {
     "data": {
      "image/png": "[encoded data removed]",
      "text/plain": [
       "<Figure size 500x500 with 1 Axes>"
      ]
     },
     "metadata": {},
     "output_type": "display_data"
    }
   ],
   "source": [
    "print(merged[\"boxOfficeBins\"].value_counts())\n",
    "sns.displot(merged[\"boxOfficeBins\"])"
   ]
  },
  {
   "cell_type": "code",
   "execution_count": 48,
   "id": "5f4f542e",
   "metadata": {
    "execution": {
     "iopub.execute_input": "2023-08-11T20:44:35.834388Z",
     "iopub.status.busy": "2023-08-11T20:44:35.833791Z",
     "iopub.status.idle": "2023-08-11T20:44:35.840051Z",
     "shell.execute_reply": "2023-08-11T20:44:35.839180Z"
    },
    "papermill": {
     "duration": 0.071111,
     "end_time": "2023-08-11T20:44:35.841941",
     "exception": false,
     "start_time": "2023-08-11T20:44:35.770830",
     "status": "completed"
    },
    "tags": []
   },
   "outputs": [
    {
     "data": {
      "text/plain": [
       "0    Henry Selick’s first movie since ’s Coraline. ...\n",
       "1    With a cast that reads like the Vogue Oscar pa...\n",
       "2    Creed II does not give us anything but another...\n",
       "3    I know what you're thinking, but this is no Li...\n",
       "4    Director Fernando Meirelles tells the story wi...\n",
       "Name: reviewText, dtype: object"
      ]
     },
     "execution_count": 48,
     "metadata": {},
     "output_type": "execute_result"
    }
   ],
   "source": [
    "merged[\"reviewText\"].head()"
   ]
  },
  {
   "cell_type": "code",
   "execution_count": 49,
   "id": "4b79717d",
   "metadata": {
    "execution": {
     "iopub.execute_input": "2023-08-11T20:44:35.970681Z",
     "iopub.status.busy": "2023-08-11T20:44:35.970290Z",
     "iopub.status.idle": "2023-08-11T20:44:35.976563Z",
     "shell.execute_reply": "2023-08-11T20:44:35.975570Z"
    },
    "papermill": {
     "duration": 0.073442,
     "end_time": "2023-08-11T20:44:35.979159",
     "exception": false,
     "start_time": "2023-08-11T20:44:35.905717",
     "status": "completed"
    },
    "tags": []
   },
   "outputs": [
    {
     "data": {
      "text/plain": [
       "6447"
      ]
     },
     "execution_count": 49,
     "metadata": {},
     "output_type": "execute_result"
    }
   ],
   "source": [
    "merged[\"reviewYN\"].sum()"
   ]
  },
  {
   "cell_type": "code",
   "execution_count": 50,
   "id": "c210a4bb",
   "metadata": {
    "execution": {
     "iopub.execute_input": "2023-08-11T20:44:36.106714Z",
     "iopub.status.busy": "2023-08-11T20:44:36.105735Z",
     "iopub.status.idle": "2023-08-11T20:44:36.112560Z",
     "shell.execute_reply": "2023-08-11T20:44:36.111519Z"
    },
    "papermill": {
     "duration": 0.07263,
     "end_time": "2023-08-11T20:44:36.114311",
     "exception": false,
     "start_time": "2023-08-11T20:44:36.041681",
     "status": "completed"
    },
    "tags": []
   },
   "outputs": [
    {
     "data": {
      "text/plain": [
       "0    11\n",
       "1    24\n",
       "2    22\n",
       "3    34\n",
       "4    20\n",
       "Name: reviewWC, dtype: int64"
      ]
     },
     "execution_count": 50,
     "metadata": {},
     "output_type": "execute_result"
    }
   ],
   "source": [
    "merged[\"reviewWC\"].head()"
   ]
  },
  {
   "cell_type": "code",
   "execution_count": 51,
   "id": "93c74606",
   "metadata": {
    "execution": {
     "iopub.execute_input": "2023-08-11T20:44:36.252120Z",
     "iopub.status.busy": "2023-08-11T20:44:36.251179Z",
     "iopub.status.idle": "2023-08-11T20:44:36.267100Z",
     "shell.execute_reply": "2023-08-11T20:44:36.265949Z"
    },
    "papermill": {
     "duration": 0.097252,
     "end_time": "2023-08-11T20:44:36.277462",
     "exception": false,
     "start_time": "2023-08-11T20:44:36.180210",
     "status": "completed"
    },
    "tags": []
   },
   "outputs": [
    {
     "data": {
      "text/plain": [
       "count    162758.000000\n",
       "mean         21.013707\n",
       "std          10.216532\n",
       "min           1.000000\n",
       "25%          14.000000\n",
       "50%          21.000000\n",
       "75%          28.000000\n",
       "max          54.000000\n",
       "Name: reviewWC, dtype: float64"
      ]
     },
     "execution_count": 51,
     "metadata": {},
     "output_type": "execute_result"
    }
   ],
   "source": [
    "merged[\"reviewWC\"].describe()"
   ]
  },
  {
   "cell_type": "code",
   "execution_count": 52,
   "id": "554b9794",
   "metadata": {
    "execution": {
     "iopub.execute_input": "2023-08-11T20:44:36.417619Z",
     "iopub.status.busy": "2023-08-11T20:44:36.417284Z",
     "iopub.status.idle": "2023-08-11T20:44:37.024057Z",
     "shell.execute_reply": "2023-08-11T20:44:37.022692Z"
    },
    "papermill": {
     "duration": 0.676732,
     "end_time": "2023-08-11T20:44:37.026241",
     "exception": false,
     "start_time": "2023-08-11T20:44:36.349509",
     "status": "completed"
    },
    "tags": []
   },
   "outputs": [
    {
     "data": {
      "text/plain": [
       "<Axes: xlabel='reviewWC', ylabel='Count'>"
      ]
     },
     "execution_count": 52,
     "metadata": {},
     "output_type": "execute_result"
    },
    {
     "data": {
      "image/png": "[encoded data removed]",
      "text/plain": [
       "<Figure size 640x480 with 1 Axes>"
      ]
     },
     "metadata": {},
     "output_type": "display_data"
    }
   ],
   "source": [
    "sns.histplot(merged[\"reviewWC\"])"
   ]
  },
  {
   "cell_type": "code",
   "execution_count": 53,
   "id": "8ae302fa",
   "metadata": {
    "execution": {
     "iopub.execute_input": "2023-08-11T20:44:37.153380Z",
     "iopub.status.busy": "2023-08-11T20:44:37.153047Z",
     "iopub.status.idle": "2023-08-11T20:44:37.167068Z",
     "shell.execute_reply": "2023-08-11T20:44:37.166025Z"
    },
    "papermill": {
     "duration": 0.079032,
     "end_time": "2023-08-11T20:44:37.168810",
     "exception": false,
     "start_time": "2023-08-11T20:44:37.089778",
     "status": "completed"
    },
    "tags": []
   },
   "outputs": [
    {
     "data": {
      "text/plain": [
       "R          60248\n",
       "unknown    44587\n",
       "PG-13      42697\n",
       "PG         13669\n",
       "TV14         947\n",
       "NC-17        285\n",
       "TVPG         281\n",
       "TVMA          44\n",
       "Name: rating, dtype: int64"
      ]
     },
     "execution_count": 53,
     "metadata": {},
     "output_type": "execute_result"
    }
   ],
   "source": [
    "merged['rating'].value_counts()"
   ]
  },
  {
   "cell_type": "code",
   "execution_count": 54,
   "id": "7a052c62",
   "metadata": {
    "execution": {
     "iopub.execute_input": "2023-08-11T20:44:37.294475Z",
     "iopub.status.busy": "2023-08-11T20:44:37.294124Z",
     "iopub.status.idle": "2023-08-11T20:44:37.303022Z",
     "shell.execute_reply": "2023-08-11T20:44:37.302085Z"
    },
    "papermill": {
     "duration": 0.074526,
     "end_time": "2023-08-11T20:44:37.304720",
     "exception": false,
     "start_time": "2023-08-11T20:44:37.230194",
     "status": "completed"
    },
    "tags": []
   },
   "outputs": [
    {
     "data": {
      "text/plain": [
       "False    113189\n",
       "True      49569\n",
       "Name: isFrequentReviewer, dtype: int64"
      ]
     },
     "execution_count": 54,
     "metadata": {},
     "output_type": "execute_result"
    }
   ],
   "source": [
    "merged['isFrequentReviewer'].value_counts()"
   ]
  },
  {
   "cell_type": "code",
   "execution_count": 55,
   "id": "d9083a1d",
   "metadata": {
    "execution": {
     "iopub.execute_input": "2023-08-11T20:44:37.433818Z",
     "iopub.status.busy": "2023-08-11T20:44:37.433459Z",
     "iopub.status.idle": "2023-08-11T20:44:37.440164Z",
     "shell.execute_reply": "2023-08-11T20:44:37.439318Z"
    },
    "papermill": {
     "duration": 0.075557,
     "end_time": "2023-08-11T20:44:37.442528",
     "exception": false,
     "start_time": "2023-08-11T20:44:37.366971",
     "status": "completed"
    },
    "tags": []
   },
   "outputs": [
    {
     "data": {
      "text/plain": [
       "0      Benjamin Henry\n",
       "1       Felicia Lopez\n",
       "2     Charles Burgess\n",
       "3        Ryan Barrett\n",
       "4    Alexander Glover\n",
       "Name: reviewerName, dtype: object"
      ]
     },
     "execution_count": 55,
     "metadata": {},
     "output_type": "execute_result"
    }
   ],
   "source": [
    "merged[\"reviewerName\"].head()"
   ]
  },
  {
   "cell_type": "code",
   "execution_count": 56,
   "id": "3cf8f0dd",
   "metadata": {
    "execution": {
     "iopub.execute_input": "2023-08-11T20:44:37.590896Z",
     "iopub.status.busy": "2023-08-11T20:44:37.590541Z",
     "iopub.status.idle": "2023-08-11T20:44:37.601556Z",
     "shell.execute_reply": "2023-08-11T20:44:37.600724Z"
    },
    "papermill": {
     "duration": 0.092678,
     "end_time": "2023-08-11T20:44:37.603478",
     "exception": false,
     "start_time": "2023-08-11T20:44:37.510800",
     "status": "completed"
    },
    "tags": []
   },
   "outputs": [
    {
     "data": {
      "text/plain": [
       "14300000.0    32327\n",
       "2000000.0       922\n",
       "1100000.0       891\n",
       "1000000.0       834\n",
       "1200000.0       802\n",
       "              ...  \n",
       "58500.0           1\n",
       "500800.0          1\n",
       "265600.0          1\n",
       "292500.0          1\n",
       "799400.0          1\n",
       "Name: boxOffice, Length: 3819, dtype: int64"
      ]
     },
     "execution_count": 56,
     "metadata": {},
     "output_type": "execute_result"
    }
   ],
   "source": [
    "merged['boxOffice'].value_counts()"
   ]
  },
  {
   "cell_type": "code",
   "execution_count": 57,
   "id": "8b761e0b",
   "metadata": {
    "execution": {
     "iopub.execute_input": "2023-08-11T20:44:37.730864Z",
     "iopub.status.busy": "2023-08-11T20:44:37.730341Z",
     "iopub.status.idle": "2023-08-11T20:44:37.734169Z",
     "shell.execute_reply": "2023-08-11T20:44:37.733586Z"
    },
    "papermill": {
     "duration": 0.068715,
     "end_time": "2023-08-11T20:44:37.735845",
     "exception": false,
     "start_time": "2023-08-11T20:44:37.667130",
     "status": "completed"
    },
    "tags": []
   },
   "outputs": [],
   "source": [
    "# Check correlation between 'boxOffice' and ''sentiment'\n",
    "# bo_df = merged.copy()\n",
    "# print(bo_df[\"boxOffice\"])\n",
    "# bo_df[\"boxOffice\"] = bo_df[\"boxOffice\"].str[1:]\n",
    "# bo_df[\"boxOffice\"] = bo_df[\"boxOffice\"].replace(to_replace={\"M\": \"*1000000\", \"K\": \"*1000\"}, regex=True)\n",
    "# bo_df[\"boxOffice\"] = bo_df[\"boxOffice\"].loc[bo_df[\"boxOffice\"].notnull()].apply(lambda x: eval(str(x)))\n",
    "# bo_df[\"boxOffice\"] = bo_df[\"boxOffice\"].fillna(bo_df[\"boxOffice\"].median())\n",
    "# bo_df[\"boxOffice\"].describe()"
   ]
  },
  {
   "cell_type": "code",
   "execution_count": 58,
   "id": "4c159762",
   "metadata": {
    "execution": {
     "iopub.execute_input": "2023-08-11T20:44:37.863350Z",
     "iopub.status.busy": "2023-08-11T20:44:37.863045Z",
     "iopub.status.idle": "2023-08-11T20:44:37.866994Z",
     "shell.execute_reply": "2023-08-11T20:44:37.866368Z"
    },
    "papermill": {
     "duration": 0.069548,
     "end_time": "2023-08-11T20:44:37.868702",
     "exception": false,
     "start_time": "2023-08-11T20:44:37.799154",
     "status": "completed"
    },
    "tags": []
   },
   "outputs": [],
   "source": [
    "# median = bo_df[\"boxOffice\"].describe()['50%']\n",
    "# iqr = bo_df[\"boxOffice\"].describe()['75%'] - bo_df[\"boxOffice\"].describe()['25%']\n",
    "# median, iqr"
   ]
  },
  {
   "cell_type": "code",
   "execution_count": 59,
   "id": "cfdc9cb3",
   "metadata": {
    "execution": {
     "iopub.execute_input": "2023-08-11T20:44:37.999967Z",
     "iopub.status.busy": "2023-08-11T20:44:37.999620Z",
     "iopub.status.idle": "2023-08-11T20:44:38.004631Z",
     "shell.execute_reply": "2023-08-11T20:44:38.003112Z"
    },
    "papermill": {
     "duration": 0.072879,
     "end_time": "2023-08-11T20:44:38.007327",
     "exception": false,
     "start_time": "2023-08-11T20:44:37.934448",
     "status": "completed"
    },
    "tags": []
   },
   "outputs": [],
   "source": [
    "# ll = median - (1.5*iqr)\n",
    "# ul = median + (1.5*iqr)\n",
    "# ll, ul"
   ]
  },
  {
   "cell_type": "code",
   "execution_count": 60,
   "id": "614be2b8",
   "metadata": {
    "execution": {
     "iopub.execute_input": "2023-08-11T20:44:38.137739Z",
     "iopub.status.busy": "2023-08-11T20:44:38.137314Z",
     "iopub.status.idle": "2023-08-11T20:44:38.140734Z",
     "shell.execute_reply": "2023-08-11T20:44:38.140140Z"
    },
    "papermill": {
     "duration": 0.070575,
     "end_time": "2023-08-11T20:44:38.142255",
     "exception": false,
     "start_time": "2023-08-11T20:44:38.071680",
     "status": "completed"
    },
    "tags": []
   },
   "outputs": [],
   "source": [
    "# bo_df[\"boxOffice\"].mean()"
   ]
  },
  {
   "cell_type": "code",
   "execution_count": 61,
   "id": "a61a06cd",
   "metadata": {
    "execution": {
     "iopub.execute_input": "2023-08-11T20:44:38.269041Z",
     "iopub.status.busy": "2023-08-11T20:44:38.268400Z",
     "iopub.status.idle": "2023-08-11T20:44:38.272454Z",
     "shell.execute_reply": "2023-08-11T20:44:38.271506Z"
    },
    "papermill": {
     "duration": 0.069871,
     "end_time": "2023-08-11T20:44:38.274087",
     "exception": false,
     "start_time": "2023-08-11T20:44:38.204216",
     "status": "completed"
    },
    "tags": []
   },
   "outputs": [],
   "source": [
    "# bo_df.loc[bo_df[\"boxOffice\"] > ul, \"boxOffice\"] = median\n",
    "# bo_df[\"boxOffice\"].mean()"
   ]
  },
  {
   "cell_type": "code",
   "execution_count": 62,
   "id": "2b104f4e",
   "metadata": {
    "execution": {
     "iopub.execute_input": "2023-08-11T20:44:38.402104Z",
     "iopub.status.busy": "2023-08-11T20:44:38.401526Z",
     "iopub.status.idle": "2023-08-11T20:44:38.406027Z",
     "shell.execute_reply": "2023-08-11T20:44:38.404909Z"
    },
    "papermill": {
     "duration": 0.071052,
     "end_time": "2023-08-11T20:44:38.408229",
     "exception": false,
     "start_time": "2023-08-11T20:44:38.337177",
     "status": "completed"
    },
    "tags": []
   },
   "outputs": [],
   "source": [
    "# bo_df[\"boxOffice\"].min(), bo_df[\"boxOffice\"].max()"
   ]
  },
  {
   "cell_type": "code",
   "execution_count": 63,
   "id": "ea3c8f22",
   "metadata": {
    "execution": {
     "iopub.execute_input": "2023-08-11T20:44:38.538500Z",
     "iopub.status.busy": "2023-08-11T20:44:38.538156Z",
     "iopub.status.idle": "2023-08-11T20:44:38.542584Z",
     "shell.execute_reply": "2023-08-11T20:44:38.541494Z"
    },
    "papermill": {
     "duration": 0.072477,
     "end_time": "2023-08-11T20:44:38.545017",
     "exception": false,
     "start_time": "2023-08-11T20:44:38.472540",
     "status": "completed"
    },
    "tags": []
   },
   "outputs": [],
   "source": [
    "# sns.boxplot(x=\"sentiment\", y=\"boxOffice\", data=bo_df, showfliers = False)"
   ]
  },
  {
   "cell_type": "markdown",
   "id": "0099740f",
   "metadata": {
    "papermill": {
     "duration": 0.063403,
     "end_time": "2023-08-11T20:44:38.673354",
     "exception": false,
     "start_time": "2023-08-11T20:44:38.609951",
     "status": "completed"
    },
    "tags": []
   },
   "source": [
    "## EDA  "
   ]
  },
  {
   "cell_type": "markdown",
   "id": "a9f47341",
   "metadata": {
    "papermill": {
     "duration": 0.119313,
     "end_time": "2023-08-11T20:44:38.856965",
     "exception": false,
     "start_time": "2023-08-11T20:44:38.737652",
     "status": "completed"
    },
    "tags": []
   },
   "source": [
    "### An interesting finding through exploration  \n",
    "  \n",
    "* OHE and TfidfVectorizer on director column give the same result when ngram_range(2,2) is used (see code below)!"
   ]
  },
  {
   "cell_type": "code",
   "execution_count": 64,
   "id": "08273a93",
   "metadata": {
    "execution": {
     "iopub.execute_input": "2023-08-11T20:44:38.987977Z",
     "iopub.status.busy": "2023-08-11T20:44:38.987198Z",
     "iopub.status.idle": "2023-08-11T20:44:44.023088Z",
     "shell.execute_reply": "2023-08-11T20:44:44.021809Z"
    },
    "papermill": {
     "duration": 5.104213,
     "end_time": "2023-08-11T20:44:44.025741",
     "exception": false,
     "start_time": "2023-08-11T20:44:38.921528",
     "status": "completed"
    },
    "tags": []
   },
   "outputs": [
    {
     "name": "stdout",
     "output_type": "stream",
     "text": [
      "(162758,)\n",
      "9476\n",
      "(162758, 9476) <class 'numpy.ndarray'>\n",
      "(162758,)\n",
      "(162758, 9476) <class 'numpy.ndarray'>\n",
      "True\n"
     ]
    }
   ],
   "source": [
    "# Compare OHE and TfidfVectorizer on director column\n",
    "\n",
    "dirs = merged[\"director\"].copy()\n",
    "print(dirs.shape)\n",
    "dirs_uniq = merged[\"director\"].unique()\n",
    "print(len(dirs_uniq))\n",
    "\n",
    "du_ohe = OneHotEncoder(handle_unknown=\"ignore\", sparse_output=False).fit_transform(dirs.to_numpy().reshape(-1, 1))\n",
    "print(du_ohe.shape, type(du_ohe))\n",
    "\n",
    "dirs_2 = merged[\"director\"].copy()\n",
    "print(dirs_2.shape)\n",
    "du_tfidf = TfidfVectorizer(ngram_range=(2,2)).fit_transform(dirs_2).toarray()\n",
    "print(du_tfidf.shape, type(du_tfidf))\n",
    "\n",
    "print(np.array_equal(du_ohe, du_tfidf))"
   ]
  },
  {
   "cell_type": "code",
   "execution_count": 65,
   "id": "e6b3daac",
   "metadata": {
    "execution": {
     "iopub.execute_input": "2023-08-11T20:44:44.154692Z",
     "iopub.status.busy": "2023-08-11T20:44:44.154107Z",
     "iopub.status.idle": "2023-08-11T20:44:44.315621Z",
     "shell.execute_reply": "2023-08-11T20:44:44.314364Z"
    },
    "papermill": {
     "duration": 0.228321,
     "end_time": "2023-08-11T20:44:44.317980",
     "exception": false,
     "start_time": "2023-08-11T20:44:44.089659",
     "status": "completed"
    },
    "tags": []
   },
   "outputs": [
    {
     "name": "stdout",
     "output_type": "stream",
     "text": [
      "0       Bennie Basso\n",
      "1         Alma White\n",
      "2       Bobby Oleary\n",
      "3    Eric Hutcherson\n",
      "4         John Trent\n",
      "Name: director, dtype: object\n"
     ]
    },
    {
     "data": {
      "text/plain": [
       "2    162758\n",
       "Name: director, dtype: int64"
      ]
     },
     "execution_count": 65,
     "metadata": {},
     "output_type": "execute_result"
    }
   ],
   "source": [
    "print(dirs.head())\n",
    "d = dirs.copy()\n",
    "d[\"name_len\"] = d.apply(lambda x: len(x.split()))\n",
    "d[\"name_len\"].value_counts()"
   ]
  },
  {
   "cell_type": "code",
   "execution_count": 66,
   "id": "10bb5172",
   "metadata": {
    "execution": {
     "iopub.execute_input": "2023-08-11T20:44:44.448174Z",
     "iopub.status.busy": "2023-08-11T20:44:44.447312Z",
     "iopub.status.idle": "2023-08-11T20:44:44.451830Z",
     "shell.execute_reply": "2023-08-11T20:44:44.451177Z"
    },
    "papermill": {
     "duration": 0.071576,
     "end_time": "2023-08-11T20:44:44.453550",
     "exception": false,
     "start_time": "2023-08-11T20:44:44.381974",
     "status": "completed"
    },
    "tags": []
   },
   "outputs": [],
   "source": [
    "# Compare OHE and TfidfVectorizer on reviewerName column\n",
    "# Note: reviewerName column has salutations like \"Mr. \" etc, and some names appear middle names. Therefore needs cleaning\n",
    "\n",
    "# def name_fl(name):\n",
    "#     l = name.split()\n",
    "#     n = ' '.join((l[0], l[-1]))\n",
    "#     return n\n",
    "\n",
    "# reviewers = merged[\"reviewerName\"].copy()\n",
    "# reviewers = pd.DataFrame(reviewers)\n",
    "# reviewers = reviewers.replace({\"Mr. \": \"\", \"Mrs. \": \"\"}, regex=True)\n",
    "# reviewers[\"reviewerName\"] = reviewers[\"reviewerName\"].apply(name_fl)\n",
    "# print(reviewers.shape)\n",
    "\n",
    "# reviewers_uniq = merged[\"reviewerName\"].unique()\n",
    "# print(len(reviewers_uniq))\n",
    "\n",
    "# reviewers_ohe = OneHotEncoder(handle_unknown=\"ignore\", sparse_output=False).fit_transform(reviewers.to_numpy().reshape(-1, 1))\n",
    "# print(reviewers_ohe.shape, type(reviewers_ohe))\n",
    "\n",
    "# reviewers_2 = merged[\"reviewerName\"].copy()\n",
    "# reviewers_2 = pd.DataFrame(reviewers_2)\n",
    "# print(reviewers_2.head())\n",
    "# reviewers_2 = reviewers_2.replace({\"Mr. \": \"\", \"Mrs. \": \"\"}, regex=True)\n",
    "# reviewers_2[\"reviewerName\"] = reviewers_2[\"reviewerName\"].apply(name_fl)\n",
    "# reviewers_2 = reviewers_2.squeeze()\n",
    "# print(reviewers_2.shape)\n",
    "# print(reviewers_2.head())\n",
    "\n",
    "# reviewers_tfidf = TfidfVectorizer(ngram_range=(2,2)).fit_transform(reviewers_2).toarray()\n",
    "# print(reviewers_tfidf.shape, type(reviewers_tfidf))\n",
    "\n",
    "# print(np.array_equal(reviewers_ohe, reviewers_tfidf))"
   ]
  },
  {
   "cell_type": "code",
   "execution_count": 67,
   "id": "ad924a72",
   "metadata": {
    "execution": {
     "iopub.execute_input": "2023-08-11T20:44:44.584619Z",
     "iopub.status.busy": "2023-08-11T20:44:44.583604Z",
     "iopub.status.idle": "2023-08-11T20:44:44.588698Z",
     "shell.execute_reply": "2023-08-11T20:44:44.587683Z"
    },
    "papermill": {
     "duration": 0.073201,
     "end_time": "2023-08-11T20:44:44.590489",
     "exception": false,
     "start_time": "2023-08-11T20:44:44.517288",
     "status": "completed"
    },
    "tags": []
   },
   "outputs": [],
   "source": [
    "# def name_fl(name):\n",
    "#     l = name.split()\n",
    "#     n = ' '.join((l[0], l[-1]))\n",
    "#     return n"
   ]
  },
  {
   "cell_type": "code",
   "execution_count": 68,
   "id": "e278a330",
   "metadata": {
    "execution": {
     "iopub.execute_input": "2023-08-11T20:44:44.724066Z",
     "iopub.status.busy": "2023-08-11T20:44:44.723048Z",
     "iopub.status.idle": "2023-08-11T20:44:44.728012Z",
     "shell.execute_reply": "2023-08-11T20:44:44.727041Z"
    },
    "papermill": {
     "duration": 0.072558,
     "end_time": "2023-08-11T20:44:44.729769",
     "exception": false,
     "start_time": "2023-08-11T20:44:44.657211",
     "status": "completed"
    },
    "tags": []
   },
   "outputs": [],
   "source": [
    "# print(reviewers.head())\n",
    "# r = pd.DataFrame(reviewers.copy())\n",
    "# r[\"reviewerName\"] = r[\"reviewerName\"].apply(name_fl)\n",
    "# r[\"name_len\"] = r[\"reviewerName\"].apply(lambda x: len(x.split()))\n",
    "# print(r.shape)\n",
    "# print(r.head())\n",
    "# print(r['name_len'].value_counts())"
   ]
  },
  {
   "cell_type": "code",
   "execution_count": 69,
   "id": "5cef9e01",
   "metadata": {
    "execution": {
     "iopub.execute_input": "2023-08-11T20:44:44.861256Z",
     "iopub.status.busy": "2023-08-11T20:44:44.860928Z",
     "iopub.status.idle": "2023-08-11T20:44:44.865550Z",
     "shell.execute_reply": "2023-08-11T20:44:44.864016Z"
    },
    "papermill": {
     "duration": 0.072872,
     "end_time": "2023-08-11T20:44:44.867700",
     "exception": false,
     "start_time": "2023-08-11T20:44:44.794828",
     "status": "completed"
    },
    "tags": []
   },
   "outputs": [],
   "source": [
    "## Box plot audienceScore and sentiment  \n",
    "# plt.figure(figsize=(6, 4))\n",
    "# sns.boxplot(x=\"sentiment\", y=\"audienceScore\", data=merged, width=0.3)\n",
    "# plt.title(\"Box plot audienceScore and sentiment\")\n",
    "# plt.show()"
   ]
  },
  {
   "cell_type": "code",
   "execution_count": 70,
   "id": "c5db55ff",
   "metadata": {
    "execution": {
     "iopub.execute_input": "2023-08-11T20:44:44.998309Z",
     "iopub.status.busy": "2023-08-11T20:44:44.997947Z",
     "iopub.status.idle": "2023-08-11T20:44:45.003196Z",
     "shell.execute_reply": "2023-08-11T20:44:45.002038Z"
    },
    "papermill": {
     "duration": 0.07401,
     "end_time": "2023-08-11T20:44:45.005654",
     "exception": false,
     "start_time": "2023-08-11T20:44:44.931644",
     "status": "completed"
    },
    "tags": []
   },
   "outputs": [],
   "source": [
    "## Box plot runtimeMinutes and sentiment  \n",
    "# plt.figure(figsize=(6, 4))\n",
    "# sns.boxplot(x=\"sentiment\", y=\"runtimeMinutes\", data=merged, width=0.3)\n",
    "# plt.title(\"Box plot runtimeMinutes and sentiment\")\n",
    "# plt.show()"
   ]
  },
  {
   "cell_type": "code",
   "execution_count": 71,
   "id": "91d389d4",
   "metadata": {
    "execution": {
     "iopub.execute_input": "2023-08-11T20:44:45.136830Z",
     "iopub.status.busy": "2023-08-11T20:44:45.135769Z",
     "iopub.status.idle": "2023-08-11T20:44:45.140116Z",
     "shell.execute_reply": "2023-08-11T20:44:45.139496Z"
    },
    "papermill": {
     "duration": 0.072209,
     "end_time": "2023-08-11T20:44:45.142173",
     "exception": false,
     "start_time": "2023-08-11T20:44:45.069964",
     "status": "completed"
    },
    "tags": []
   },
   "outputs": [],
   "source": [
    "## Column chart for sentiment and rating columns\n",
    "# plt.figure(figsize=(6, 4))\n",
    "# sns.countplot(x=\"sentiment\", hue=\"rating\", data=merged)\n",
    "# plt.title(\"Column chart for sentiment and rating columns\")\n",
    "# plt.show()"
   ]
  },
  {
   "cell_type": "code",
   "execution_count": 72,
   "id": "a002e5dc",
   "metadata": {
    "execution": {
     "iopub.execute_input": "2023-08-11T20:44:45.273634Z",
     "iopub.status.busy": "2023-08-11T20:44:45.273075Z",
     "iopub.status.idle": "2023-08-11T20:44:45.276505Z",
     "shell.execute_reply": "2023-08-11T20:44:45.275787Z"
    },
    "papermill": {
     "duration": 0.071577,
     "end_time": "2023-08-11T20:44:45.278781",
     "exception": false,
     "start_time": "2023-08-11T20:44:45.207204",
     "status": "completed"
    },
    "tags": []
   },
   "outputs": [],
   "source": [
    "# Correlation heatmap  \n",
    "# plt.figure(figsize=(10, 8))\n",
    "# sns.heatmap(merged.corr(), annot=True, cmap=\"coolwarm\")\n",
    "# plt.title(\"Correlation heatmap\")\n",
    "# plt.show()"
   ]
  },
  {
   "cell_type": "markdown",
   "id": "cd10fedd",
   "metadata": {
    "papermill": {
     "duration": 0.063637,
     "end_time": "2023-08-11T20:44:45.407622",
     "exception": false,
     "start_time": "2023-08-11T20:44:45.343985",
     "status": "completed"
    },
    "tags": []
   },
   "source": [
    "## Merge and preprocess \"test.csv\" and \"movies.csv\" files  "
   ]
  },
  {
   "cell_type": "code",
   "execution_count": 73,
   "id": "c47bc3e6",
   "metadata": {
    "execution": {
     "iopub.execute_input": "2023-08-11T20:44:45.537229Z",
     "iopub.status.busy": "2023-08-11T20:44:45.536912Z",
     "iopub.status.idle": "2023-08-11T20:44:49.065209Z",
     "shell.execute_reply": "2023-08-11T20:44:49.063985Z"
    },
    "papermill": {
     "duration": 3.596122,
     "end_time": "2023-08-11T20:44:49.067801",
     "exception": false,
     "start_time": "2023-08-11T20:44:45.471679",
     "status": "completed"
    },
    "tags": []
   },
   "outputs": [],
   "source": [
    "# Merge test and movies  \n",
    "merged_test = select_features(load_csv(\"test\"), load_csv(\"movies\"))"
   ]
  },
  {
   "cell_type": "code",
   "execution_count": 74,
   "id": "e238525e",
   "metadata": {
    "execution": {
     "iopub.execute_input": "2023-08-11T20:44:49.199730Z",
     "iopub.status.busy": "2023-08-11T20:44:49.199066Z",
     "iopub.status.idle": "2023-08-11T20:44:49.203188Z",
     "shell.execute_reply": "2023-08-11T20:44:49.202159Z"
    },
    "papermill": {
     "duration": 0.073354,
     "end_time": "2023-08-11T20:44:49.205338",
     "exception": false,
     "start_time": "2023-08-11T20:44:49.131984",
     "status": "completed"
    },
    "tags": []
   },
   "outputs": [],
   "source": [
    "# inspect(merged_test)      # Note the missing values in ['audienceScore', 'runtimeMinutes', 'boxOffice']"
   ]
  },
  {
   "cell_type": "code",
   "execution_count": 75,
   "id": "ec841a1b",
   "metadata": {
    "execution": {
     "iopub.execute_input": "2023-08-11T20:44:49.338657Z",
     "iopub.status.busy": "2023-08-11T20:44:49.337269Z",
     "iopub.status.idle": "2023-08-11T20:44:49.352219Z",
     "shell.execute_reply": "2023-08-11T20:44:49.350817Z"
    },
    "papermill": {
     "duration": 0.083734,
     "end_time": "2023-08-11T20:44:49.354319",
     "exception": false,
     "start_time": "2023-08-11T20:44:49.270585",
     "status": "completed"
    },
    "tags": []
   },
   "outputs": [
    {
     "data": {
      "text/plain": [
       "array([6.80e+01, 1.04e+02, 1.43e+07])"
      ]
     },
     "execution_count": 75,
     "metadata": {},
     "output_type": "execute_result"
    }
   ],
   "source": [
    "# Transform ['audienceScore', 'runtimeMinutes', 'boxOffice'] columns in merged_test using 'si' fitted on 'merged' df  \n",
    "merged_test[['audienceScore', 'runtimeMinutes', 'boxOffice']] = si.transform(merged_test[['audienceScore', 'runtimeMinutes', 'boxOffice']])\n",
    "si.statistics_"
   ]
  },
  {
   "cell_type": "code",
   "execution_count": 76,
   "id": "8287b15b",
   "metadata": {
    "execution": {
     "iopub.execute_input": "2023-08-11T20:44:49.484759Z",
     "iopub.status.busy": "2023-08-11T20:44:49.484302Z",
     "iopub.status.idle": "2023-08-11T20:44:49.493641Z",
     "shell.execute_reply": "2023-08-11T20:44:49.492304Z"
    },
    "papermill": {
     "duration": 0.077406,
     "end_time": "2023-08-11T20:44:49.495954",
     "exception": false,
     "start_time": "2023-08-11T20:44:49.418548",
     "status": "completed"
    },
    "tags": []
   },
   "outputs": [],
   "source": [
    "# Fill 'releaseDate' column in 'merged_test' df with median from the train (merged) df  \n",
    "merged_test['releaseDate'] = merged_test[\"releaseDate\"].fillna(merged[\"releaseDate\"].median())"
   ]
  },
  {
   "cell_type": "code",
   "execution_count": 77,
   "id": "42694626",
   "metadata": {
    "execution": {
     "iopub.execute_input": "2023-08-11T20:44:49.632664Z",
     "iopub.status.busy": "2023-08-11T20:44:49.632131Z",
     "iopub.status.idle": "2023-08-11T20:44:49.876504Z",
     "shell.execute_reply": "2023-08-11T20:44:49.874772Z"
    },
    "papermill": {
     "duration": 0.315792,
     "end_time": "2023-08-11T20:44:49.878538",
     "exception": false,
     "start_time": "2023-08-11T20:44:49.562746",
     "status": "completed"
    },
    "tags": []
   },
   "outputs": [
    {
     "name": "stdout",
     "output_type": "stream",
     "text": [
      "Shape of the dataframe: (55315, 29)\n",
      "\n",
      "Columns in the dataframe:\n",
      "Index(['movieid', 'reviewerName', 'isFrequentReviewer', 'reviewText', 'title',\n",
      "       'audienceScore', 'rating', 'ratingContents', 'releaseDateTheaters',\n",
      "       'releaseDateStreaming', 'runtimeMinutes', 'genre', 'originalLanguage',\n",
      "       'director', 'boxOffice', 'distributor', 'soundType', 'reviewYN',\n",
      "       'reviewWC', 'genreSorted', 'rcSorted', 'releaseDate', 'releaseYear',\n",
      "       'releaseMonth', 'releaseDiff', 'audScoreBins', 'runtimeBins',\n",
      "       'boxOfficeBins', 'releaseDiffBins'],\n",
      "      dtype='object')\n",
      "\n",
      "<class 'pandas.core.frame.DataFrame'>\n",
      "Int64Index: 55315 entries, 0 to 55314\n",
      "Data columns (total 29 columns):\n",
      " #   Column                Non-Null Count  Dtype         \n",
      "---  ------                --------------  -----         \n",
      " 0   movieid               55315 non-null  object        \n",
      " 1   reviewerName          55315 non-null  object        \n",
      " 2   isFrequentReviewer    55315 non-null  bool          \n",
      " 3   reviewText            55315 non-null  object        \n",
      " 4   title                 55315 non-null  object        \n",
      " 5   audienceScore         55315 non-null  float64       \n",
      " 6   rating                55315 non-null  object        \n",
      " 7   ratingContents        55315 non-null  object        \n",
      " 8   releaseDateTheaters   47844 non-null  datetime64[ns]\n",
      " 9   releaseDateStreaming  52929 non-null  datetime64[ns]\n",
      " 10  runtimeMinutes        55315 non-null  float64       \n",
      " 11  genre                 55315 non-null  object        \n",
      " 12  originalLanguage      55315 non-null  object        \n",
      " 13  director              55315 non-null  object        \n",
      " 14  boxOffice             55315 non-null  float64       \n",
      " 15  distributor           55315 non-null  object        \n",
      " 16  soundType             29845 non-null  object        \n",
      " 17  reviewYN              55315 non-null  int64         \n",
      " 18  reviewWC              55315 non-null  int64         \n",
      " 19  genreSorted           55315 non-null  object        \n",
      " 20  rcSorted              55315 non-null  object        \n",
      " 21  releaseDate           55315 non-null  datetime64[ns]\n",
      " 22  releaseYear           46626 non-null  float64       \n",
      " 23  releaseMonth          46626 non-null  float64       \n",
      " 24  releaseDiff           55315 non-null  float64       \n",
      " 25  audScoreBins          53866 non-null  float64       \n",
      " 26  runtimeBins           54937 non-null  category      \n",
      " 27  boxOfficeBins         41756 non-null  float64       \n",
      " 28  releaseDiffBins       55315 non-null  category      \n",
      "dtypes: bool(1), category(2), datetime64[ns](3), float64(8), int64(2), object(13)\n",
      "memory usage: 11.6+ MB\n",
      "None\n",
      "\n",
      "Missing values:\n",
      "movieid                     0\n",
      "reviewerName                0\n",
      "isFrequentReviewer          0\n",
      "reviewText                  0\n",
      "title                       0\n",
      "audienceScore               0\n",
      "rating                      0\n",
      "ratingContents              0\n",
      "releaseDateTheaters      7471\n",
      "releaseDateStreaming     2386\n",
      "runtimeMinutes              0\n",
      "genre                       0\n",
      "originalLanguage            0\n",
      "director                    0\n",
      "boxOffice                   0\n",
      "distributor                 0\n",
      "soundType               25470\n",
      "reviewYN                    0\n",
      "reviewWC                    0\n",
      "genreSorted                 0\n",
      "rcSorted                    0\n",
      "releaseDate                 0\n",
      "releaseYear              8689\n",
      "releaseMonth             8689\n",
      "releaseDiff                 0\n",
      "audScoreBins             1449\n",
      "runtimeBins               378\n",
      "boxOfficeBins           13559\n",
      "releaseDiffBins             0\n",
      "dtype: int64\n"
     ]
    }
   ],
   "source": [
    "# After transforming merged_test  \n",
    "inspect(merged_test)"
   ]
  },
  {
   "cell_type": "code",
   "execution_count": 78,
   "id": "a5763e9a",
   "metadata": {
    "execution": {
     "iopub.execute_input": "2023-08-11T20:44:50.012444Z",
     "iopub.status.busy": "2023-08-11T20:44:50.011395Z",
     "iopub.status.idle": "2023-08-11T20:44:50.017969Z",
     "shell.execute_reply": "2023-08-11T20:44:50.016955Z"
    },
    "papermill": {
     "duration": 0.075723,
     "end_time": "2023-08-11T20:44:50.020215",
     "exception": false,
     "start_time": "2023-08-11T20:44:49.944492",
     "status": "completed"
    },
    "tags": []
   },
   "outputs": [
    {
     "name": "stdout",
     "output_type": "stream",
     "text": [
      "2510\n",
      "4.537648015908886\n"
     ]
    }
   ],
   "source": [
    "print(merged_test[\"reviewYN\"].sum())\n",
    "print(merged_test[\"reviewYN\"].sum() * 100 / merged_test.shape[0])"
   ]
  },
  {
   "cell_type": "code",
   "execution_count": 79,
   "id": "9ce85f8e",
   "metadata": {
    "execution": {
     "iopub.execute_input": "2023-08-11T20:44:50.152677Z",
     "iopub.status.busy": "2023-08-11T20:44:50.152299Z",
     "iopub.status.idle": "2023-08-11T20:44:50.162968Z",
     "shell.execute_reply": "2023-08-11T20:44:50.161556Z"
    },
    "papermill": {
     "duration": 0.079434,
     "end_time": "2023-08-11T20:44:50.165031",
     "exception": false,
     "start_time": "2023-08-11T20:44:50.085597",
     "status": "completed"
    },
    "tags": []
   },
   "outputs": [
    {
     "data": {
      "text/plain": [
       "R          18934\n",
       "unknown    18386\n",
       "PG-13      13220\n",
       "PG          4200\n",
       "TV14         333\n",
       "TVPG         109\n",
       "NC-17        108\n",
       "TVMA          25\n",
       "Name: rating, dtype: int64"
      ]
     },
     "execution_count": 79,
     "metadata": {},
     "output_type": "execute_result"
    }
   ],
   "source": [
    "merged_test['rating'].value_counts()"
   ]
  },
  {
   "cell_type": "code",
   "execution_count": 80,
   "id": "4ce7f863",
   "metadata": {
    "execution": {
     "iopub.execute_input": "2023-08-11T20:44:50.296704Z",
     "iopub.status.busy": "2023-08-11T20:44:50.296293Z",
     "iopub.status.idle": "2023-08-11T20:44:50.304598Z",
     "shell.execute_reply": "2023-08-11T20:44:50.303075Z"
    },
    "papermill": {
     "duration": 0.077505,
     "end_time": "2023-08-11T20:44:50.307060",
     "exception": false,
     "start_time": "2023-08-11T20:44:50.229555",
     "status": "completed"
    },
    "tags": []
   },
   "outputs": [
    {
     "data": {
      "text/plain": [
       "False    38428\n",
       "True     16887\n",
       "Name: isFrequentReviewer, dtype: int64"
      ]
     },
     "execution_count": 80,
     "metadata": {},
     "output_type": "execute_result"
    }
   ],
   "source": [
    "merged_test['isFrequentReviewer'].value_counts()"
   ]
  },
  {
   "cell_type": "code",
   "execution_count": 81,
   "id": "a91f9ed6",
   "metadata": {
    "execution": {
     "iopub.execute_input": "2023-08-11T20:44:50.439813Z",
     "iopub.status.busy": "2023-08-11T20:44:50.439437Z",
     "iopub.status.idle": "2023-08-11T20:44:50.450488Z",
     "shell.execute_reply": "2023-08-11T20:44:50.449479Z"
    },
    "papermill": {
     "duration": 0.081365,
     "end_time": "2023-08-11T20:44:50.452769",
     "exception": false,
     "start_time": "2023-08-11T20:44:50.371404",
     "status": "completed"
    },
    "tags": []
   },
   "outputs": [
    {
     "data": {
      "text/plain": [
       "14300000.0    13593\n",
       "1100000.0       311\n",
       "1000000.0       272\n",
       "1300000.0       263\n",
       "2000000.0       256\n",
       "              ...  \n",
       "200400.0          1\n",
       "23800000.0        1\n",
       "111200.0          1\n",
       "277800.0          1\n",
       "100600.0          1\n",
       "Name: boxOffice, Length: 3816, dtype: int64"
      ]
     },
     "execution_count": 81,
     "metadata": {},
     "output_type": "execute_result"
    }
   ],
   "source": [
    "merged_test['boxOffice'].value_counts()"
   ]
  },
  {
   "cell_type": "markdown",
   "id": "3ab2cd30",
   "metadata": {
    "papermill": {
     "duration": 0.066612,
     "end_time": "2023-08-11T20:44:50.584006",
     "exception": false,
     "start_time": "2023-08-11T20:44:50.517394",
     "status": "completed"
    },
    "tags": []
   },
   "source": [
    "## Work on vocabulary  \n",
    "\n",
    "`Build vocabulary from 'reviewText' column`  "
   ]
  },
  {
   "cell_type": "code",
   "execution_count": 82,
   "id": "ae642a19",
   "metadata": {
    "execution": {
     "iopub.execute_input": "2023-08-11T20:44:50.782262Z",
     "iopub.status.busy": "2023-08-11T20:44:50.781686Z",
     "iopub.status.idle": "2023-08-11T20:44:50.799177Z",
     "shell.execute_reply": "2023-08-11T20:44:50.798225Z"
    },
    "papermill": {
     "duration": 0.08555,
     "end_time": "2023-08-11T20:44:50.800942",
     "exception": false,
     "start_time": "2023-08-11T20:44:50.715392",
     "status": "completed"
    },
    "tags": []
   },
   "outputs": [
    {
     "data": {
      "text/plain": [
       "((162758, 2),\n",
       "                                           reviewText sentiment\n",
       " 0  Henry Selick’s first movie since ’s Coraline. ...  POSITIVE\n",
       " 1  With a cast that reads like the Vogue Oscar pa...  NEGATIVE\n",
       " 2  Creed II does not give us anything but another...  POSITIVE\n",
       " 3  I know what you're thinking, but this is no Li...  POSITIVE\n",
       " 4  Director Fernando Meirelles tells the story wi...  POSITIVE)"
      ]
     },
     "execution_count": 82,
     "metadata": {},
     "output_type": "execute_result"
    }
   ],
   "source": [
    "rt_senti = merged[[\"reviewText\", \"sentiment\"]].copy()\n",
    "rt_senti.shape, rt_senti.head()"
   ]
  },
  {
   "cell_type": "code",
   "execution_count": 83,
   "id": "acb9fdfd",
   "metadata": {
    "execution": {
     "iopub.execute_input": "2023-08-11T20:44:50.933441Z",
     "iopub.status.busy": "2023-08-11T20:44:50.932717Z",
     "iopub.status.idle": "2023-08-11T20:44:50.943445Z",
     "shell.execute_reply": "2023-08-11T20:44:50.942145Z"
    },
    "papermill": {
     "duration": 0.079136,
     "end_time": "2023-08-11T20:44:50.945283",
     "exception": false,
     "start_time": "2023-08-11T20:44:50.866147",
     "status": "completed"
    },
    "tags": []
   },
   "outputs": [
    {
     "data": {
      "text/plain": [
       "((55315, 1),\n",
       "                                           reviewText\n",
       " 0  Green slowly cranks up the dread with style an...\n",
       " 1  Philip Noyce's direction is elegant and unforc...\n",
       " 2  It wouldn't do to say what path Maria ultimate...\n",
       " 3  Pig is not exactly the arthouse John Wick that...\n",
       " 4  An imaginative no-budget musical of sorts abou...)"
      ]
     },
     "execution_count": 83,
     "metadata": {},
     "output_type": "execute_result"
    }
   ],
   "source": [
    "rt_test = pd.DataFrame(merged_test[\"reviewText\"].copy())\n",
    "rt_test.shape, rt_test.head()"
   ]
  },
  {
   "cell_type": "code",
   "execution_count": 84,
   "id": "b5b80dfb",
   "metadata": {
    "execution": {
     "iopub.execute_input": "2023-08-11T20:44:51.076491Z",
     "iopub.status.busy": "2023-08-11T20:44:51.076080Z",
     "iopub.status.idle": "2023-08-11T20:44:51.081901Z",
     "shell.execute_reply": "2023-08-11T20:44:51.080603Z"
    },
    "papermill": {
     "duration": 0.073992,
     "end_time": "2023-08-11T20:44:51.084299",
     "exception": false,
     "start_time": "2023-08-11T20:44:51.010307",
     "status": "completed"
    },
    "tags": []
   },
   "outputs": [],
   "source": [
    "def get_vocab(text_df, ngram_range=(1,1)):\n",
    "    print(f\"Generating vocabulary for ngram_range: {ngram_range}...\")\n",
    "    tvec1 = CountVectorizer(ngram_range=ngram_range, stop_words='english', strip_accents='unicode')\n",
    "    tvec1.fit(text_df)\n",
    "    voc_ngram = set(tvec1.vocabulary_.keys())\n",
    "    return voc_ngram"
   ]
  },
  {
   "cell_type": "code",
   "execution_count": 85,
   "id": "8becae3a",
   "metadata": {
    "execution": {
     "iopub.execute_input": "2023-08-11T20:44:51.216585Z",
     "iopub.status.busy": "2023-08-11T20:44:51.216182Z",
     "iopub.status.idle": "2023-08-11T20:44:51.224213Z",
     "shell.execute_reply": "2023-08-11T20:44:51.223050Z"
    },
    "papermill": {
     "duration": 0.075285,
     "end_time": "2023-08-11T20:44:51.225869",
     "exception": false,
     "start_time": "2023-08-11T20:44:51.150584",
     "status": "completed"
    },
    "tags": []
   },
   "outputs": [],
   "source": [
    "def get_common_vocab(df_list: list, ngram_range_list: list):\n",
    "    \"\"\"\n",
    "    Get common vocabulary from a list of dataframes.\n",
    "    \"\"\"\n",
    "    final_common_vocab = set()\n",
    "    # Get vocabulary from each dataframe for a given ngram-range\n",
    "    for ngram_range in ngram_range_list:\n",
    "        vocab_ngram = set()\n",
    "        for num, df in enumerate(df_list, start=1):\n",
    "            print(f\"Working on DF#{num} in the list of DFs provided\")\n",
    "            vocab_ngram_df = set(get_vocab(df['reviewText'], ngram_range))\n",
    "            print(f\"Vocabulary size for ngram-range {ngram_range} in DF#{num}: {len(vocab_ngram_df)}\\n\")\n",
    "            if len(vocab_ngram) > 0:\n",
    "                print(f\"Keeping only the common (intersection) words for ngram-range {ngram_range}...\")\n",
    "                vocab_ngram = vocab_ngram.intersection(vocab_ngram_df)\n",
    "            else:\n",
    "                print(f\"Words from the first df for ngram-range {ngram_range} added.\\n\")\n",
    "                vocab_ngram = vocab_ngram_df\n",
    "        print(f\"Common vocabulary for ngram-range {ngram_range}: {len(vocab_ngram)}\\n\")\n",
    "        \n",
    "        if len(final_common_vocab) > 0:\n",
    "            print(f\"Fusing (union) with final common vocabulary: ngram-range = {ngram_range}.\\n\")\n",
    "            final_common_vocab = final_common_vocab.union(vocab_ngram)\n",
    "        else:\n",
    "            print(f\"Appended first time to final common vocabulary: ngram-range = {ngram_range}.\\n\")\n",
    "            final_common_vocab = vocab_ngram\n",
    "    return final_common_vocab"
   ]
  },
  {
   "cell_type": "code",
   "execution_count": 86,
   "id": "1f671740",
   "metadata": {
    "execution": {
     "iopub.execute_input": "2023-08-11T20:44:51.358043Z",
     "iopub.status.busy": "2023-08-11T20:44:51.357357Z",
     "iopub.status.idle": "2023-08-11T20:44:51.361253Z",
     "shell.execute_reply": "2023-08-11T20:44:51.360246Z"
    },
    "papermill": {
     "duration": 0.072797,
     "end_time": "2023-08-11T20:44:51.363809",
     "exception": false,
     "start_time": "2023-08-11T20:44:51.291012",
     "status": "completed"
    },
    "tags": []
   },
   "outputs": [],
   "source": [
    "# voc_1gram = get_vocab(rt_senti[\"reviewText\"], ngram_range=(1,1))\n",
    "# len(voc_1gram), voc_1gram[:10]"
   ]
  },
  {
   "cell_type": "code",
   "execution_count": 87,
   "id": "858555c2",
   "metadata": {
    "execution": {
     "iopub.execute_input": "2023-08-11T20:44:51.494795Z",
     "iopub.status.busy": "2023-08-11T20:44:51.494158Z",
     "iopub.status.idle": "2023-08-11T20:44:51.498292Z",
     "shell.execute_reply": "2023-08-11T20:44:51.497428Z"
    },
    "papermill": {
     "duration": 0.0707,
     "end_time": "2023-08-11T20:44:51.499963",
     "exception": false,
     "start_time": "2023-08-11T20:44:51.429263",
     "status": "completed"
    },
    "tags": []
   },
   "outputs": [],
   "source": [
    "# voc_2gram = get_vocab(rt_senti[\"reviewText\"], ngram_range=(2,2))\n",
    "# len(voc_2gram), voc_2gram[:10]"
   ]
  },
  {
   "cell_type": "code",
   "execution_count": 88,
   "id": "cb107649",
   "metadata": {
    "execution": {
     "iopub.execute_input": "2023-08-11T20:44:51.632710Z",
     "iopub.status.busy": "2023-08-11T20:44:51.632245Z",
     "iopub.status.idle": "2023-08-11T20:44:51.636943Z",
     "shell.execute_reply": "2023-08-11T20:44:51.635489Z"
    },
    "papermill": {
     "duration": 0.073425,
     "end_time": "2023-08-11T20:44:51.638648",
     "exception": false,
     "start_time": "2023-08-11T20:44:51.565223",
     "status": "completed"
    },
    "tags": []
   },
   "outputs": [],
   "source": [
    "# voc_3gram = get_vocab(rt_senti[\"reviewText\"], ngram_range=(3,3))\n",
    "# len(voc_3gram), voc_3gram[:10]"
   ]
  },
  {
   "cell_type": "code",
   "execution_count": 89,
   "id": "ef3fcfc7",
   "metadata": {
    "execution": {
     "iopub.execute_input": "2023-08-11T20:44:51.770140Z",
     "iopub.status.busy": "2023-08-11T20:44:51.769799Z",
     "iopub.status.idle": "2023-08-11T20:44:51.773987Z",
     "shell.execute_reply": "2023-08-11T20:44:51.772726Z"
    },
    "papermill": {
     "duration": 0.072174,
     "end_time": "2023-08-11T20:44:51.776031",
     "exception": false,
     "start_time": "2023-08-11T20:44:51.703857",
     "status": "completed"
    },
    "tags": []
   },
   "outputs": [],
   "source": [
    "# common_unigrams = get_common_vocab([rt_senti, rt_test], ngram_range_list=[(1,1)])\n",
    "# print(len(common_unigrams))\n",
    "# # sorted(list(common_unigrams))"
   ]
  },
  {
   "cell_type": "code",
   "execution_count": 90,
   "id": "25c2c4a7",
   "metadata": {
    "execution": {
     "iopub.execute_input": "2023-08-11T20:44:51.909477Z",
     "iopub.status.busy": "2023-08-11T20:44:51.908955Z",
     "iopub.status.idle": "2023-08-11T20:44:51.913452Z",
     "shell.execute_reply": "2023-08-11T20:44:51.912553Z"
    },
    "papermill": {
     "duration": 0.074055,
     "end_time": "2023-08-11T20:44:51.915577",
     "exception": false,
     "start_time": "2023-08-11T20:44:51.841522",
     "status": "completed"
    },
    "tags": []
   },
   "outputs": [],
   "source": [
    "# common_bigrams = get_common_vocab([rt_senti, rt_test], ngram_range_list=[(2,2)])\n",
    "# print(len(common_bigrams))\n",
    "# # # common_bigrams"
   ]
  },
  {
   "cell_type": "code",
   "execution_count": 91,
   "id": "4fb1f924",
   "metadata": {
    "execution": {
     "iopub.execute_input": "2023-08-11T20:44:52.046431Z",
     "iopub.status.busy": "2023-08-11T20:44:52.045957Z",
     "iopub.status.idle": "2023-08-11T20:44:52.050215Z",
     "shell.execute_reply": "2023-08-11T20:44:52.049202Z"
    },
    "papermill": {
     "duration": 0.071586,
     "end_time": "2023-08-11T20:44:52.051940",
     "exception": false,
     "start_time": "2023-08-11T20:44:51.980354",
     "status": "completed"
    },
    "tags": []
   },
   "outputs": [],
   "source": [
    "# common_1_2_grams = get_common_vocab([rt_senti, rt_test], ngram_range_list=[(1,1), (2,2)])\n",
    "# print(len(common_1_2_grams))\n",
    "# # sorted(list(common_1_2_grams))\n",
    "\n",
    "# # common_1_2_grams = common_unigrams | common_bigrams    # older code"
   ]
  },
  {
   "cell_type": "code",
   "execution_count": 92,
   "id": "6bdf4c97",
   "metadata": {
    "execution": {
     "iopub.execute_input": "2023-08-11T20:44:52.183330Z",
     "iopub.status.busy": "2023-08-11T20:44:52.182924Z",
     "iopub.status.idle": "2023-08-11T20:44:52.187621Z",
     "shell.execute_reply": "2023-08-11T20:44:52.186085Z"
    },
    "papermill": {
     "duration": 0.073381,
     "end_time": "2023-08-11T20:44:52.189915",
     "exception": false,
     "start_time": "2023-08-11T20:44:52.116534",
     "status": "completed"
    },
    "tags": []
   },
   "outputs": [],
   "source": [
    "# common_trigrams = get_common_vocab([rt_senti, rt_test], ngram_range_list=[(3,3)])\n",
    "# print(len(common_trigrams))\n",
    "# # common_trigrams"
   ]
  },
  {
   "cell_type": "code",
   "execution_count": 93,
   "id": "c83adb40",
   "metadata": {
    "execution": {
     "iopub.execute_input": "2023-08-11T20:44:52.324106Z",
     "iopub.status.busy": "2023-08-11T20:44:52.323736Z",
     "iopub.status.idle": "2023-08-11T20:44:52.327945Z",
     "shell.execute_reply": "2023-08-11T20:44:52.327111Z"
    },
    "papermill": {
     "duration": 0.073253,
     "end_time": "2023-08-11T20:44:52.329762",
     "exception": false,
     "start_time": "2023-08-11T20:44:52.256509",
     "status": "completed"
    },
    "tags": []
   },
   "outputs": [],
   "source": [
    "# common_1_2_3_grams = get_common_vocab([rt_senti, rt_test], ngram_range_list=[(1,1), (2,2), (3,3)])\n",
    "# print(len(common_1_2_3_grams))\n",
    "# # sorted((common_1_2_3_grams))\n",
    "\n",
    "# # common_1_2_3_grams = common_unigrams | common_bigrams | common_trigrams    # Older code  "
   ]
  },
  {
   "cell_type": "markdown",
   "id": "aff85ff8",
   "metadata": {
    "papermill": {
     "duration": 0.064069,
     "end_time": "2023-08-11T20:44:52.456977",
     "exception": false,
     "start_time": "2023-08-11T20:44:52.392908",
     "status": "completed"
    },
    "tags": []
   },
   "source": [
    "### Find common vocabulary between text with positive and negative sentiments in training dataset  "
   ]
  },
  {
   "cell_type": "code",
   "execution_count": 94,
   "id": "46bdab8f",
   "metadata": {
    "execution": {
     "iopub.execute_input": "2023-08-11T20:44:52.587060Z",
     "iopub.status.busy": "2023-08-11T20:44:52.586683Z",
     "iopub.status.idle": "2023-08-11T20:44:52.614896Z",
     "shell.execute_reply": "2023-08-11T20:44:52.613772Z"
    },
    "papermill": {
     "duration": 0.095937,
     "end_time": "2023-08-11T20:44:52.616748",
     "exception": false,
     "start_time": "2023-08-11T20:44:52.520811",
     "status": "completed"
    },
    "tags": []
   },
   "outputs": [
    {
     "data": {
      "text/plain": [
       "(108761, 2)"
      ]
     },
     "execution_count": 94,
     "metadata": {},
     "output_type": "execute_result"
    }
   ],
   "source": [
    "# Dataframe for positive sentiment\n",
    "rt_senti_pos = rt_senti.loc[rt_senti['sentiment'] == 'POSITIVE'].copy()\n",
    "rt_senti_pos.shape"
   ]
  },
  {
   "cell_type": "code",
   "execution_count": 95,
   "id": "aed6b366",
   "metadata": {
    "execution": {
     "iopub.execute_input": "2023-08-11T20:44:52.752098Z",
     "iopub.status.busy": "2023-08-11T20:44:52.751774Z",
     "iopub.status.idle": "2023-08-11T20:44:52.772267Z",
     "shell.execute_reply": "2023-08-11T20:44:52.771397Z"
    },
    "papermill": {
     "duration": 0.089982,
     "end_time": "2023-08-11T20:44:52.774383",
     "exception": false,
     "start_time": "2023-08-11T20:44:52.684401",
     "status": "completed"
    },
    "tags": []
   },
   "outputs": [
    {
     "data": {
      "text/plain": [
       "(53997, 2)"
      ]
     },
     "execution_count": 95,
     "metadata": {},
     "output_type": "execute_result"
    }
   ],
   "source": [
    "# Dataframe for negative sentiment\n",
    "rt_senti_neg = rt_senti.loc[rt_senti['sentiment'] == 'NEGATIVE'].copy()\n",
    "rt_senti_neg.shape"
   ]
  },
  {
   "cell_type": "code",
   "execution_count": 96,
   "id": "e7276d13",
   "metadata": {
    "execution": {
     "iopub.execute_input": "2023-08-11T20:44:52.907041Z",
     "iopub.status.busy": "2023-08-11T20:44:52.906636Z",
     "iopub.status.idle": "2023-08-11T20:44:52.911678Z",
     "shell.execute_reply": "2023-08-11T20:44:52.910277Z"
    },
    "papermill": {
     "duration": 0.074759,
     "end_time": "2023-08-11T20:44:52.914193",
     "exception": false,
     "start_time": "2023-08-11T20:44:52.839434",
     "status": "completed"
    },
    "tags": []
   },
   "outputs": [],
   "source": [
    "# Generate stop words/phrases specific for this project data  \n",
    "\n",
    "# common_1_2_3_grams_sentiment = get_common_vocab([rt_senti_pos, rt_senti_neg], ngram_range_list=[(1,1), (2,2), (3,3)])\n",
    "# print(len(common_1_2_3_grams_sentiment))\n",
    "# # sorted(list(common_1_2_3_grams_sentiment))"
   ]
  },
  {
   "cell_type": "code",
   "execution_count": 97,
   "id": "8c470c52",
   "metadata": {
    "execution": {
     "iopub.execute_input": "2023-08-11T20:44:53.047298Z",
     "iopub.status.busy": "2023-08-11T20:44:53.046931Z",
     "iopub.status.idle": "2023-08-11T20:44:53.050907Z",
     "shell.execute_reply": "2023-08-11T20:44:53.049791Z"
    },
    "papermill": {
     "duration": 0.073648,
     "end_time": "2023-08-11T20:44:53.053238",
     "exception": false,
     "start_time": "2023-08-11T20:44:52.979590",
     "status": "completed"
    },
    "tags": []
   },
   "outputs": [],
   "source": [
    "# Generate and store the entire vocabulary of training data  \n",
    "\n",
    "# train_1_2_3_grams = get_vocab(rt_senti['reviewText'], ngram_range=(1,3))\n",
    "# print(len(train_1_2_3_grams))\n",
    "# # sorted(train_1_2_3_grams)"
   ]
  },
  {
   "cell_type": "code",
   "execution_count": 98,
   "id": "77fa46f3",
   "metadata": {
    "execution": {
     "iopub.execute_input": "2023-08-11T20:44:53.185791Z",
     "iopub.status.busy": "2023-08-11T20:44:53.185356Z",
     "iopub.status.idle": "2023-08-11T20:44:53.189141Z",
     "shell.execute_reply": "2023-08-11T20:44:53.188262Z"
    },
    "papermill": {
     "duration": 0.071792,
     "end_time": "2023-08-11T20:44:53.190700",
     "exception": false,
     "start_time": "2023-08-11T20:44:53.118908",
     "status": "completed"
    },
    "tags": []
   },
   "outputs": [],
   "source": [
    "# type(train_1_2_3_grams)"
   ]
  },
  {
   "cell_type": "code",
   "execution_count": 99,
   "id": "84fcff17",
   "metadata": {
    "execution": {
     "iopub.execute_input": "2023-08-11T20:44:53.322928Z",
     "iopub.status.busy": "2023-08-11T20:44:53.322630Z",
     "iopub.status.idle": "2023-08-11T20:44:53.326575Z",
     "shell.execute_reply": "2023-08-11T20:44:53.325406Z"
    },
    "papermill": {
     "duration": 0.071907,
     "end_time": "2023-08-11T20:44:53.328199",
     "exception": false,
     "start_time": "2023-08-11T20:44:53.256292",
     "status": "completed"
    },
    "tags": []
   },
   "outputs": [],
   "source": [
    "# Get the vocabulary that should be used in the final models  \n",
    "# relevant_vocab = train_1_2_3_grams - common_1_2_3_grams_sentiment\n",
    "# print(len(relevant_vocab))"
   ]
  },
  {
   "cell_type": "markdown",
   "id": "e7218d30",
   "metadata": {
    "papermill": {
     "duration": 0.065094,
     "end_time": "2023-08-11T20:44:53.456954",
     "exception": false,
     "start_time": "2023-08-11T20:44:53.391860",
     "status": "completed"
    },
    "tags": []
   },
   "source": [
    "## Submit_v4 for merged file models  "
   ]
  },
  {
   "cell_type": "markdown",
   "id": "3c6ed268",
   "metadata": {
    "papermill": {
     "duration": 0.06371,
     "end_time": "2023-08-11T20:44:53.585171",
     "exception": false,
     "start_time": "2023-08-11T20:44:53.521461",
     "status": "completed"
    },
    "tags": []
   },
   "source": [
    "### More Helper functions  "
   ]
  },
  {
   "cell_type": "code",
   "execution_count": 100,
   "id": "c57b8d99",
   "metadata": {
    "execution": {
     "iopub.execute_input": "2023-08-11T20:44:53.720523Z",
     "iopub.status.busy": "2023-08-11T20:44:53.720142Z",
     "iopub.status.idle": "2023-08-11T20:44:53.726502Z",
     "shell.execute_reply": "2023-08-11T20:44:53.725326Z"
    },
    "papermill": {
     "duration": 0.075514,
     "end_time": "2023-08-11T20:44:53.728669",
     "exception": false,
     "start_time": "2023-08-11T20:44:53.653155",
     "status": "completed"
    },
    "tags": []
   },
   "outputs": [],
   "source": [
    "# Testing predictions on missing reviewtext columns  \n",
    "\n",
    "def predict_on_missing_review_data(pipe, selected_features, merged_train):\n",
    "    missing_reviews_train = merged_train.loc[merged_train['reviewYN'] == 1]\n",
    "    missing_reviews_train.reset_index(drop=True)\n",
    "    X_train_miss_revs = missing_reviews_train.drop('sentiment', axis = 1)\n",
    "    X_train_miss_revs = X_train_miss_revs[selected_features]\n",
    "    y_train_miss_revs = missing_reviews_train['sentiment']\n",
    "    \n",
    "    y_pred_miss_revs = pipe.predict(X_train_miss_revs)\n",
    "#     print('Predictions on rows which had missing reviewText')\n",
    "    print(\"Confusion matrix and f1-score for rows which have no reviewText in X_train: \")\n",
    "    print(confusion_matrix(y_train_miss_revs, y_pred_miss_revs, labels=pipe.classes_))\n",
    "    \n",
    "    return f1_score(y_train_miss_revs, y_pred_miss_revs, average='micro')"
   ]
  },
  {
   "cell_type": "code",
   "execution_count": 101,
   "id": "d70c262d",
   "metadata": {
    "execution": {
     "iopub.execute_input": "2023-08-11T20:44:53.863039Z",
     "iopub.status.busy": "2023-08-11T20:44:53.862693Z",
     "iopub.status.idle": "2023-08-11T20:44:53.886961Z",
     "shell.execute_reply": "2023-08-11T20:44:53.885648Z"
    },
    "papermill": {
     "duration": 0.094607,
     "end_time": "2023-08-11T20:44:53.889202",
     "exception": false,
     "start_time": "2023-08-11T20:44:53.794595",
     "status": "completed"
    },
    "tags": []
   },
   "outputs": [],
   "source": [
    "# Function to build pipelines for GridSearchCV which goes into the final 'submit' function  \n",
    "def build_pipeline(selected_model=LogisticRegression(), \n",
    "                   selected_features={'txt': ['reviewText']}, \n",
    "                   param_grid=None,\n",
    "                   vocab=None,\n",
    "                   vocab_usage='tfidf',\n",
    "                   strip_accents='unicode', \n",
    "                   add_countvec=False):\n",
    "    # Encoders  \n",
    "    ohe = OneHotEncoder(sparse_output=False, handle_unknown='ignore')\n",
    "    MMscaler = MinMaxScaler()\n",
    "    StdScaler = StandardScaler()\n",
    "    RobScaler = RobustScaler()\n",
    "    \n",
    "    # Text features ['reviewText', 'reviewerName', 'movieid', 'genre', 'director']\n",
    "    tfidf_vec = TfidfVectorizer(ngram_range=(1,2))\n",
    "    count_vec = CountVectorizer(ngram_range=(1,2))\n",
    "    txt_pipe = Pipeline(steps=[\n",
    "                            (\"tvec\", TfidfVectorizer(ngram_range=(1,3), strip_accents=strip_accents))    # Adjust ngram_range here for reviewText\n",
    "                        ])\n",
    "    txt_pipe_vocab = Pipeline(steps=[\n",
    "                            (\"tvec\", TfidfVectorizer(ngram_range=(1,3), strip_accents=strip_accents, vocabulary=vocab))    # Adjust ngram_range here for reviewText\n",
    "                        ])\n",
    "    txt_pipe_2 = Pipeline(steps=[\n",
    "                            (\"tvec\", TfidfVectorizer(ngram_range=(2,2)))\n",
    "                        ])\n",
    "    txt_pipe_3 = Pipeline(steps=[\n",
    "                            (\"tvec\", TfidfVectorizer(ngram_range=(1,1)))\n",
    "                        ])\n",
    "    txt_pipe_4 = Pipeline(steps=[\n",
    "                            (\"tvec\", TfidfVectorizer(ngram_range=(1,3)))    # Adjust ngram_range here for reviewText\n",
    "                        ])\n",
    "    txt_pipe_title  = Pipeline(steps=[\n",
    "                            (\"tvec\", TfidfVectorizer(ngram_range=(1,5)))    # Adjust ngram_range here for reviewText\n",
    "                        ])\n",
    "    \n",
    "    # Additional pipes for count vectorizer\n",
    "    txt_pipe_countvec = Pipeline(steps=[\n",
    "                            (\"cvec\", CountVectorizer(ngram_range=(1,3), strip_accents=strip_accents))    # Adjust ngram_range here for reviewText\n",
    "                        ])\n",
    "    txt_pipe_countvec_vocab = Pipeline(steps=[\n",
    "                            (\"cvec\", CountVectorizer(ngram_range=(1,3), strip_accents=strip_accents, vocabulary=vocab))    # Adjust ngram_range here for reviewText\n",
    "                        ])\n",
    "    \n",
    "    txt_pipe_countvec_ratingContents = Pipeline(steps=[\n",
    "                            (\"cvec\", CountVectorizer(ngram_range=(1,5)))    # Adjust ngram_range here for reviewText\n",
    "                        ])\n",
    "    txt_pipe_countvec_rcSorted = Pipeline(steps=[\n",
    "                            (\"cvec\", CountVectorizer(ngram_range=(1,1)))    # Adjust ngram_range here for reviewText\n",
    "                        ])\n",
    "    txt_pipe_countvec_genre = Pipeline(steps=[\n",
    "                            (\"cvec\", CountVectorizer(ngram_range=(1,1)))\n",
    "                        ])\n",
    "    txt_pipe_countvec_genreSorted = Pipeline(steps=[\n",
    "                            (\"cvec\", CountVectorizer(ngram_range=(1,5)))\n",
    "                        ])\n",
    "    txt_pipe_countvec_distributor = Pipeline(steps=[\n",
    "                            (\"cvec\", CountVectorizer(ngram_range=(1,3)))    # Adjust ngram_range here for reviewText\n",
    "                        ])\n",
    "    txt_pipe_countvec_title = Pipeline(steps=[\n",
    "                            (\"cvec\", CountVectorizer(ngram_range=(1,5), strip_accents=strip_accents))\n",
    "                        ])\n",
    "    txt_pipe_countvec_movieid = Pipeline(steps=[\n",
    "                            (\"cvec\", CountVectorizer(ngram_range=(1,1)))\n",
    "                        ])\n",
    "    # Basic pipes  \n",
    "    TFs = []\n",
    "    try:\n",
    "        for c in selected_features['cat']:\n",
    "            TFs.append((f\"cat_{c}\", ohe, [c]))\n",
    "    except:\n",
    "        pass\n",
    "    try:\n",
    "        for n in selected_features['num']:\n",
    "            if n in [\"runtimeMinutes\", \"boxOffice\", \"releaseDiff\"]:\n",
    "                TFs.append((f\"num_{n}\", RobScaler, [n]))\n",
    "                TFs.append((f\"num_{n}_ss\", StdScaler, [n]))\n",
    "                \n",
    "            else:\n",
    "                TFs.append((f\"num_{n}\", StdScaler, [n]))\n",
    "    except:\n",
    "        pass\n",
    "    try:\n",
    "        for t in selected_features['txt']:\n",
    "            if t in ['director', 'reviewerName']:\n",
    "                TFs.append((f\"txt_{t}\", txt_pipe_2, t))\n",
    "            elif t in [\"originalLanguage\", \"releaseYear\"]:\n",
    "                TFs.append((f\"txt_{t}\", txt_pipe_3, t))\n",
    "            elif t in ['genre']:\n",
    "                TFs.append((f\"txt_{t}\", txt_pipe_countvec_genre, t))\n",
    "            elif t in [\"genreSorted\"]:\n",
    "                TFs.append((f\"txt_{t}\", txt_pipe_countvec_genreSorted, t))\n",
    "            elif t in [\"distributor\"]:\n",
    "                TFs.append((f\"txt_{t}\", txt_pipe_countvec_distributor, t))\n",
    "            elif t in ['reviewText']:\n",
    "#                 if vocab and (vocab_usage in [\"tfidf\", \"both\"]):\n",
    "#                     txt_pipe.set_params(tvec__vocabulary=vocab)\n",
    "#                     txt_pipe.set_params(tvec__stop_words='english')\n",
    "                TFs.append((f\"txt_{t}\", txt_pipe, t))\n",
    "            elif t in ['reviewText_2']:\n",
    "                if add_countvec:\n",
    "#                     if vocab and (vocab_usage in [\"count\", \"both\"]):\n",
    "#                         txt_pipe_countvec.set_params(cvec__vocabulary=vocab)\n",
    "#                         txt_pipe_countvec.set_params(cvec__stop_words='english')\n",
    "                    TFs.append((f\"txt_{t}\", txt_pipe_countvec, t))\n",
    "            elif t in ['reviewText_3']:\n",
    "                if vocab_usage == 'tfidf':\n",
    "                    TFs.append((f\"txt_{t}\", txt_pipe_vocab, t))\n",
    "                elif vocab_usage == 'count':\n",
    "                    TFs.append((f\"txt_{t}\", txt_pipe_countvec_vocab, t))\n",
    "            elif t in [\"ratingContents\"]:\n",
    "                TFs.append((f\"txt_{t}\", txt_pipe_countvec_ratingContents, t))\n",
    "            elif t in [\"rcSorted\"]:\n",
    "                TFs.append((f\"txt_{t}\", txt_pipe_countvec_rcSorted, t))\n",
    "            elif t in [\"title\"]:\n",
    "                TFs.append((f\"txt_{t}\", txt_pipe_title, t))\n",
    "            elif t in [\"movieid\"]:\n",
    "                TFs.append((f\"txt_{t}\", txt_pipe_countvec_movieid, t))\n",
    "            else:\n",
    "                pass\n",
    "    except:\n",
    "        pass\n",
    "\n",
    "    # Build ColumnTransformer  \n",
    "    ct = ColumnTransformer(transformers=TFs, remainder='drop')\n",
    "\n",
    "    # Build Pipeline\n",
    "    pipe = Pipeline(steps=[('ct', ct), ('model', selected_model)])\n",
    "    print(\"\\nPipeline built successfully.\")\n",
    "\n",
    "    # Use the pipe in GridSearchCV\n",
    "    if param_grid == None:\n",
    "        param_grid_temp = {\"model__C\": [1],\n",
    "                     'model__solver': ['liblinear']}\n",
    "        print(\"Full GridSearchCV pipeline built successfully with basic default param_grid.\\n\")\n",
    "        pipeCV = GridSearchCV(pipe, param_grid_temp, cv=10, scoring=\"f1_micro\", n_jobs=-1)\n",
    "        return pipeCV\n",
    "    \n",
    "    # GridSearchCV if param_grid provided\n",
    "    if param_grid:\n",
    "        pipeCV = GridSearchCV(pipe, param_grid, cv=10, scoring=\"f1_micro\", n_jobs=-1)\n",
    "        print(\"\\nFull GridSearchCV pipeline built successfully.\")\n",
    "        return pipeCV"
   ]
  },
  {
   "cell_type": "code",
   "execution_count": 102,
   "id": "3ebd92a1",
   "metadata": {
    "execution": {
     "iopub.execute_input": "2023-08-11T20:44:54.020843Z",
     "iopub.status.busy": "2023-08-11T20:44:54.020491Z",
     "iopub.status.idle": "2023-08-11T20:44:54.029468Z",
     "shell.execute_reply": "2023-08-11T20:44:54.028485Z"
    },
    "papermill": {
     "duration": 0.077276,
     "end_time": "2023-08-11T20:44:54.031496",
     "exception": false,
     "start_time": "2023-08-11T20:44:53.954220",
     "status": "completed"
    },
    "tags": []
   },
   "outputs": [],
   "source": [
    "def preprocessor():\n",
    "    \n",
    "    # Merge and preprocess train and movies data  \n",
    "    merged = select_features(load_csv(\"train\"), load_csv(\"movies\"), row_thresh_null=None)    # Decide if you want to drop any rows containing lot of nulls\n",
    "    # Impute missing numerical values  \n",
    "    # Simple Imputer for ['audienceScore', 'runtimeMinutes', 'boxOffice'] and 'releaseDate' columns\n",
    "    si = SimpleImputer(strategy='median')\n",
    "    merged[['audienceScore', 'runtimeMinutes', 'boxOffice']] = si.fit_transform(merged[['audienceScore', 'runtimeMinutes', 'boxOffice']])\n",
    "    merged['releaseDate'] = merged[\"releaseDate\"].fillna(merged[\"releaseDate\"].median())    \n",
    "\n",
    "    # Check1 (preprocessor)\n",
    "    print(\"\\nCheck 1 (preprocessor) complete.\")\n",
    "    print(f\"Shape of X_train: {merged.shape}\")\n",
    "    print(f\"Features in X_train: {merged.columns}\")\n",
    "\n",
    "\n",
    "    # Merge and preprocess test and movies data  \n",
    "    merged_test = select_features(load_csv(\"test\"), load_csv(\"movies\"))\n",
    "    # Transform ['audienceScore', 'runtimeMinutes', 'boxOffice'] columns in merged_test using 'si' fitted on 'merged' df  \n",
    "    merged_test[['audienceScore', 'runtimeMinutes', 'boxOffice']] = si.transform(merged_test[['audienceScore', 'runtimeMinutes', 'boxOffice']])\n",
    "    # Fill 'releaseDate' column in 'merged_test' df with median from the train (merged) df  \n",
    "    merged_test['releaseDate'] = merged_test[\"releaseDate\"].fillna(merged[\"releaseDate\"].median())\n",
    "\n",
    "    \n",
    "    # Check2 (preprocessor)\n",
    "    print(\"\\nCheck 2 (preprocessor) complete.\")\n",
    "    print(f\"Shape of X_test: {merged_test.shape}\")\n",
    "    print(f\"Features in X_test: {merged_test.columns}\")\n",
    "\n",
    "    return merged, merged_test\n",
    "    "
   ]
  },
  {
   "cell_type": "code",
   "execution_count": 103,
   "id": "51a038a5",
   "metadata": {
    "execution": {
     "iopub.execute_input": "2023-08-11T20:44:54.164088Z",
     "iopub.status.busy": "2023-08-11T20:44:54.163741Z",
     "iopub.status.idle": "2023-08-11T20:44:54.167918Z",
     "shell.execute_reply": "2023-08-11T20:44:54.166832Z"
    },
    "papermill": {
     "duration": 0.07341,
     "end_time": "2023-08-11T20:44:54.170147",
     "exception": false,
     "start_time": "2023-08-11T20:44:54.096737",
     "status": "completed"
    },
    "tags": []
   },
   "outputs": [],
   "source": [
    "# merged, merged_test = preprocessor()\n",
    "# merged.shape, merged_test.shape"
   ]
  },
  {
   "cell_type": "code",
   "execution_count": 104,
   "id": "dec2bbd6",
   "metadata": {
    "execution": {
     "iopub.execute_input": "2023-08-11T20:44:54.311540Z",
     "iopub.status.busy": "2023-08-11T20:44:54.311132Z",
     "iopub.status.idle": "2023-08-11T20:44:54.332153Z",
     "shell.execute_reply": "2023-08-11T20:44:54.330834Z"
    },
    "papermill": {
     "duration": 0.091743,
     "end_time": "2023-08-11T20:44:54.334285",
     "exception": false,
     "start_time": "2023-08-11T20:44:54.242542",
     "status": "completed"
    },
    "tags": []
   },
   "outputs": [],
   "source": [
    "def submit_v5(classifiers= [\n",
    "                {'selected_model' : LogisticRegression(C=1, solver='saga', max_iter=100000), \n",
    "                  'selected_features' : {'num': ['audienceScore']}, \n",
    "                  'param_grid' : None,\n",
    "                  'vocab' : None,\n",
    "                  'vocab_usage' : 'tfidf',\n",
    "                  'strip_accents' : 'unicode', \n",
    "                  'add_countvec' : False}\n",
    "              ]):\n",
    "    \n",
    "    \"\"\"Takes a list of dictionaries each with same keys as mentioned in the default dictionary in function definition\"\"\"\n",
    "    \n",
    "    print(\"\\nRunning the submit_v5 function...\")\n",
    "    \n",
    "    merged, merged_test = preprocessor()\n",
    "    print(f\"Preprocessing of train and test datasets complete.\")\n",
    "    \n",
    "    # Build vocabulary (if vocab is True)\n",
    "    vocab = None\n",
    "    for item in classifiers:\n",
    "        if item['vocab']:\n",
    "            vocab = True\n",
    "            break\n",
    "    \n",
    "    if vocab == True:\n",
    "        # Generate and store the entire vocabulary of training data  \n",
    "        print(f\"Generating stop words/phrases specific for this project data...\")\n",
    "        train_1_2_3_grams = get_vocab(merged['reviewText'], ngram_range=(1,3))\n",
    "        print(f\"Size of vocabulary of training data: {len(train_1_2_3_grams)}\")\n",
    "        # sorted(train_1_2_3_grams)\n",
    "\n",
    "        # Generate stop words/phrases specific for this project data  \n",
    "        print(f\"Generating stop words/phrases specific for this project data...\")\n",
    "        common_1_2_3_grams = get_common_vocab([merged, merged_test], ngram_range_list=[(1,1), (2,2), (3,3)])\n",
    "        print(f\"Number of stop words: {len(common_1_2_3_grams)}\")\n",
    "\n",
    "        # Get the vocabulary that should be used in the final models  \n",
    "        print(f\"Getting the vocabulary that will be fed to the final model(s)...\")\n",
    "        relevant_vocab = list(train_1_2_3_grams - common_1_2_3_grams)\n",
    "        print(f\"Size of the final relevant vocabulary: {len(relevant_vocab)}\")\n",
    "    else:\n",
    "        pass\n",
    "    \n",
    "    \n",
    "    # Create a list to store estimators  \n",
    "    estimators = []     # List of tuples of the form ('classifier_name', 'classifer_instance')\n",
    "    \n",
    "    # Build a dataframe of predictions  \n",
    "    predictions_df = pd.DataFrame()\n",
    "    \n",
    "    # Build a separate pipeline and fit it on selected features (and param_grid) for each item in classifiers list\n",
    "    for n, item in enumerate(classifiers, start=1):\n",
    "        selected_model = item['selected_model']\n",
    "        selected_features = item['selected_features']\n",
    "        param_grid = item['param_grid']\n",
    "        vocab = item['vocab']\n",
    "        vocab_usage = item['vocab_usage']\n",
    "        strip_accents = item['strip_accents']\n",
    "        add_countvec = item['add_countvec']\n",
    "    \n",
    "    \n",
    "        # Fine tune selected_features\n",
    "        if add_countvec:\n",
    "            if 'txt' in selected_features.keys():\n",
    "                if \"reviewText_2\" not in selected_features['txt']:\n",
    "                    selected_features['txt'].append('reviewText_2')\n",
    "        if vocab:\n",
    "            if 'txt' in selected_features.keys():\n",
    "                if \"reviewText_3\" not in selected_features['txt']:\n",
    "                    selected_features['txt'].append('reviewText_3')\n",
    "        else:\n",
    "            print(f\"No vocabulary provided/used for this model.\")\n",
    "        print(f\"\\nSelected features: {selected_features}\")\n",
    "        \n",
    "        if type(vocab) in [type([1, 2]), type({1, 2})]:\n",
    "            vocab = vocab\n",
    "        elif vocab == True:\n",
    "            vocab = common_1_2_3_grams    # Choose vocabulary here\n",
    "\n",
    "        # Modify X_train for the given 'item' by creating a custom 'features' list\n",
    "        features = []\n",
    "        for item in selected_features.values():\n",
    "            features.extend(item)\n",
    "            \n",
    "        # Add new columns as needed  \n",
    "        if add_countvec:\n",
    "            merged['reviewText_2'] = merged['reviewText']\n",
    "        if vocab:\n",
    "            merged['reviewText_3'] = merged['reviewText']\n",
    "        \n",
    "        # Create X_tran, y_train\n",
    "        X_train = merged.drop(labels=\"sentiment\", axis=1)\n",
    "        y_train = merged[\"sentiment\"]\n",
    "        \n",
    "        X_train = merged[features].copy()\n",
    "\n",
    "\n",
    "        # Build Pipeline\n",
    "        pipe = build_pipeline(selected_model, selected_features, param_grid=param_grid, \n",
    "                              vocab=vocab, vocab_usage='tfidf', \n",
    "                              strip_accents=strip_accents, add_countvec=add_countvec)\n",
    "        print(pipe)\n",
    "\n",
    "        \n",
    "        # Fit \n",
    "        print(f\"\\nTraining started with full pipeline for classifier #{n}/{len(classifiers)}...\")\n",
    "        pipe.fit(X_train, y_train)\n",
    "        \n",
    "\n",
    "        # Check1\n",
    "        print(f\"\\nCheck #{n}.1 complete.\")\n",
    "        print(f\"Details of the best model using classifier #{n} (GridSearchCV) on X_train: \")\n",
    "        print(f\"Best Params: {pipe.best_params_}\")\n",
    "        print(f\"Best Score: {pipe.best_score_}\")\n",
    "        \n",
    "        print(predict_on_missing_review_data(pipe, features, merged))    # Function defined above\n",
    "        \n",
    "        estimators.append((f\"classifier_{n}\", pipe))\n",
    "        print(f\"classifier_{n} successfully added to 'estimators' list\")\n",
    "\n",
    "        \n",
    "        # Predict on test.csv file\n",
    "        # Add new columns as needed \n",
    "        if add_countvec:\n",
    "            merged_test['reviewText_2'] = merged_test['reviewText']\n",
    "        if vocab:\n",
    "            merged_test['reviewText_3'] = merged_test['reviewText']\n",
    "        \n",
    "               \n",
    "        X_test = merged_test[features].copy()\n",
    "\n",
    "    \n",
    "        y_pred = pipe.predict(X_test)\n",
    "        \n",
    "        # Insert predictions in 'predictions_df' dataframe\n",
    "        predictions_df.insert(n-1, f\"pred_{n}\", y_pred, allow_duplicates=False)\n",
    "        print(predictions_df.shape)\n",
    "        print(predictions_df.head(10))\n",
    "        \n",
    "    \n",
    "        # Check2\n",
    "        print(f\"\\nCheck #{n}.2 complete.\")\n",
    "    #     cv_results_df = pd.DataFrame(pipe.cv_results_)\n",
    "        print(\"Details of the best model using full pipeline (GridSearchCV) on X_train: \")\n",
    "#         print(f\"Best Estimator: {pipe.best_estimator_}\")\n",
    "        print(f\"Best Params: {pipe.best_params_}\")\n",
    "        print(f\"Best Score: {pipe.best_score_}\")\n",
    "#         print(f\"Best Index: {pipe.best_index_}\")\n",
    "        print(f\"Refit Time: {pipe.refit_time_}\")\n",
    "    #     print(f\"Shape of CV results dataframe: {cv_results_df.shape}\")\n",
    "    \n",
    "    # Voting classifier (custom) with hard voting\n",
    "    # Calculate the MODE for all predictions (Note that the 'predictions_df' generated above should have odd number of columns)\n",
    "    pred_df_final = predictions_df.mode('columns')\n",
    "    pred_df_final.columns = [\"sentiment\"]\n",
    "    pred_df_final.index.name = \"id\"\n",
    "    pred_df_final.to_csv(\"submission.csv\")\n",
    "    \n",
    "    print(\"\\nSuccessfully created the submission file!!!\")\n",
    "    \n",
    "#     return pipe.cv_results_\n",
    "    return pred_df_final, estimators"
   ]
  },
  {
   "cell_type": "markdown",
   "id": "aae43c38",
   "metadata": {
    "papermill": {
     "duration": 0.064226,
     "end_time": "2023-08-11T20:44:54.463163",
     "exception": false,
     "start_time": "2023-08-11T20:44:54.398937",
     "status": "completed"
    },
    "tags": []
   },
   "source": [
    "## Use 'submit_v5' function  "
   ]
  },
  {
   "cell_type": "code",
   "execution_count": 105,
   "id": "bf3f7af4",
   "metadata": {
    "execution": {
     "iopub.execute_input": "2023-08-11T20:44:54.596194Z",
     "iopub.status.busy": "2023-08-11T20:44:54.595825Z",
     "iopub.status.idle": "2023-08-11T20:44:54.599868Z",
     "shell.execute_reply": "2023-08-11T20:44:54.599044Z"
    },
    "papermill": {
     "duration": 0.072615,
     "end_time": "2023-08-11T20:44:54.601919",
     "exception": false,
     "start_time": "2023-08-11T20:44:54.529304",
     "status": "completed"
    },
    "tags": []
   },
   "outputs": [],
   "source": [
    "# Try submit_v5 with default settings\n",
    "# submit_v5()"
   ]
  },
  {
   "cell_type": "code",
   "execution_count": 106,
   "id": "230534c5",
   "metadata": {
    "execution": {
     "iopub.execute_input": "2023-08-11T20:44:54.791385Z",
     "iopub.status.busy": "2023-08-11T20:44:54.791014Z",
     "iopub.status.idle": "2023-08-11T21:07:14.483598Z",
     "shell.execute_reply": "2023-08-11T21:07:14.482691Z"
    },
    "papermill": {
     "duration": 1339.885078,
     "end_time": "2023-08-11T21:07:14.552681",
     "exception": false,
     "start_time": "2023-08-11T20:44:54.667603",
     "status": "completed"
    },
    "tags": []
   },
   "outputs": [
    {
     "name": "stdout",
     "output_type": "stream",
     "text": [
      "\n",
      "Running the submit_v5 function...\n",
      "\n",
      "Check 1 (preprocessor) complete.\n",
      "Shape of X_train: (162758, 30)\n",
      "Features in X_train: Index(['movieid', 'reviewerName', 'isFrequentReviewer', 'reviewText',\n",
      "       'sentiment', 'title', 'audienceScore', 'rating', 'ratingContents',\n",
      "       'releaseDateTheaters', 'releaseDateStreaming', 'runtimeMinutes',\n",
      "       'genre', 'originalLanguage', 'director', 'boxOffice', 'distributor',\n",
      "       'soundType', 'reviewYN', 'reviewWC', 'genreSorted', 'rcSorted',\n",
      "       'releaseDate', 'releaseYear', 'releaseMonth', 'releaseDiff',\n",
      "       'audScoreBins', 'runtimeBins', 'boxOfficeBins', 'releaseDiffBins'],\n",
      "      dtype='object')\n",
      "\n",
      "Check 2 (preprocessor) complete.\n",
      "Shape of X_test: (55315, 29)\n",
      "Features in X_test: Index(['movieid', 'reviewerName', 'isFrequentReviewer', 'reviewText', 'title',\n",
      "       'audienceScore', 'rating', 'ratingContents', 'releaseDateTheaters',\n",
      "       'releaseDateStreaming', 'runtimeMinutes', 'genre', 'originalLanguage',\n",
      "       'director', 'boxOffice', 'distributor', 'soundType', 'reviewYN',\n",
      "       'reviewWC', 'genreSorted', 'rcSorted', 'releaseDate', 'releaseYear',\n",
      "       'releaseMonth', 'releaseDiff', 'audScoreBins', 'runtimeBins',\n",
      "       'boxOfficeBins', 'releaseDiffBins'],\n",
      "      dtype='object')\n",
      "Preprocessing of train and test datasets complete.\n",
      "Generating stop words/phrases specific for this project data...\n",
      "Generating vocabulary for ngram_range: (1, 3)...\n",
      "Size of vocabulary of training data: 2610596\n",
      "Generating stop words/phrases specific for this project data...\n",
      "Working on DF#1 in the list of DFs provided\n",
      "Generating vocabulary for ngram_range: (1, 1)...\n",
      "Vocabulary size for ngram-range (1, 1) in DF#1: 63881\n",
      "\n",
      "Words from the first df for ngram-range (1, 1) added.\n",
      "\n",
      "Working on DF#2 in the list of DFs provided\n",
      "Generating vocabulary for ngram_range: (1, 1)...\n",
      "Vocabulary size for ngram-range (1, 1) in DF#2: 42992\n",
      "\n",
      "Keeping only the common (intersection) words for ngram-range (1, 1)...\n",
      "Common vocabulary for ngram-range (1, 1): 35498\n",
      "\n",
      "Appended first time to final common vocabulary: ngram-range = (1, 1).\n",
      "\n",
      "Working on DF#1 in the list of DFs provided\n",
      "Generating vocabulary for ngram_range: (2, 2)...\n",
      "Vocabulary size for ngram-range (2, 2) in DF#1: 1130406\n",
      "\n",
      "Words from the first df for ngram-range (2, 2) added.\n",
      "\n",
      "Working on DF#2 in the list of DFs provided\n",
      "Generating vocabulary for ngram_range: (2, 2)...\n",
      "Vocabulary size for ngram-range (2, 2) in DF#2: 436174\n",
      "\n",
      "Keeping only the common (intersection) words for ngram-range (2, 2)...\n",
      "Common vocabulary for ngram-range (2, 2): 112530\n",
      "\n",
      "Fusing (union) with final common vocabulary: ngram-range = (2, 2).\n",
      "\n",
      "Working on DF#1 in the list of DFs provided\n",
      "Generating vocabulary for ngram_range: (3, 3)...\n",
      "Vocabulary size for ngram-range (3, 3) in DF#1: 1416309\n",
      "\n",
      "Words from the first df for ngram-range (3, 3) added.\n",
      "\n",
      "Working on DF#2 in the list of DFs provided\n",
      "Generating vocabulary for ngram_range: (3, 3)...\n",
      "Vocabulary size for ngram-range (3, 3) in DF#2: 488867\n",
      "\n",
      "Keeping only the common (intersection) words for ngram-range (3, 3)...\n",
      "Common vocabulary for ngram-range (3, 3): 22631\n",
      "\n",
      "Fusing (union) with final common vocabulary: ngram-range = (3, 3).\n",
      "\n",
      "Number of stop words: 170659\n",
      "Getting the vocabulary that will be fed to the final model(s)...\n",
      "Size of the final relevant vocabulary: 2439937\n",
      "No vocabulary provided/used for this model.\n",
      "\n",
      "Selected features: {'cat': ['isFrequentReviewer', 'rating'], 'num': ['audienceScore', 'runtimeMinutes', 'boxOffice', 'releaseDiff']}\n",
      "\n",
      "Pipeline built successfully.\n",
      "\n",
      "Full GridSearchCV pipeline built successfully.\n",
      "GridSearchCV(cv=10,\n",
      "             estimator=Pipeline(steps=[('ct',\n",
      "                                        ColumnTransformer(transformers=[('cat_isFrequentReviewer',\n",
      "                                                                         OneHotEncoder(handle_unknown='ignore',\n",
      "                                                                                       sparse_output=False),\n",
      "                                                                         ['isFrequentReviewer']),\n",
      "                                                                        ('cat_rating',\n",
      "                                                                         OneHotEncoder(handle_unknown='ignore',\n",
      "                                                                                       sparse_output=False),\n",
      "                                                                         ['rating']),\n",
      "                                                                        ('num_audienceScore',\n",
      "                                                                         StandardScaler(),\n",
      "                                                                         ['audienceScore']),\n",
      "                                                                        ('num_runtimeMin...\n",
      "                                                                         StandardScaler(),\n",
      "                                                                         ['runtimeMinutes']),\n",
      "                                                                        ('num_boxOffice',\n",
      "                                                                         RobustScaler(),\n",
      "                                                                         ['boxOffice']),\n",
      "                                                                        ('num_boxOffice_ss',\n",
      "                                                                         StandardScaler(),\n",
      "                                                                         ['boxOffice']),\n",
      "                                                                        ('num_releaseDiff',\n",
      "                                                                         RobustScaler(),\n",
      "                                                                         ['releaseDiff']),\n",
      "                                                                        ('num_releaseDiff_ss',\n",
      "                                                                         StandardScaler(),\n",
      "                                                                         ['releaseDiff'])])),\n",
      "                                       ('model',\n",
      "                                        RandomForestClassifier(n_jobs=-1))]),\n",
      "             n_jobs=-1, param_grid={'model__n_estimators': [100]},\n",
      "             scoring='f1_micro')\n",
      "\n",
      "Training started with full pipeline for classifier #1/3...\n",
      "\n",
      "Check #1.1 complete.\n",
      "Details of the best model using classifier #1 (GridSearchCV) on X_train: \n",
      "Best Params: {'model__n_estimators': 100}\n",
      "Best Score: 0.735515295107174\n",
      "Confusion matrix and f1-score for rows which have no reviewText in X_train: \n",
      "[[1584  821]\n",
      " [ 489 3553]]\n",
      "0.7968047153714907\n",
      "classifier_1 successfully added to 'estimators' list\n",
      "(55315, 1)\n",
      "     pred_1\n",
      "0  POSITIVE\n",
      "1  POSITIVE\n",
      "2  POSITIVE\n",
      "3  POSITIVE\n",
      "4  POSITIVE\n",
      "5  POSITIVE\n",
      "6  NEGATIVE\n",
      "7  POSITIVE\n",
      "8  POSITIVE\n",
      "9  POSITIVE\n",
      "\n",
      "Check #1.2 complete.\n",
      "Details of the best model using full pipeline (GridSearchCV) on X_train: \n",
      "Best Params: {'model__n_estimators': 100}\n",
      "Best Score: 0.735515295107174\n",
      "Refit Time: 11.180049657821655\n",
      "No vocabulary provided/used for this model.\n",
      "\n",
      "Selected features: {'txt': ['reviewerName', 'movieid', 'genre', 'director', 'ratingContents', 'distributor']}\n",
      "\n",
      "Pipeline built successfully.\n",
      "\n",
      "Full GridSearchCV pipeline built successfully.\n",
      "GridSearchCV(cv=10,\n",
      "             estimator=Pipeline(steps=[('ct',\n",
      "                                        ColumnTransformer(transformers=[('txt_reviewerName',\n",
      "                                                                         Pipeline(steps=[('tvec',\n",
      "                                                                                          TfidfVectorizer(ngram_range=(2,\n",
      "                                                                                                                       2)))]),\n",
      "                                                                         'reviewerName'),\n",
      "                                                                        ('txt_movieid',\n",
      "                                                                         Pipeline(steps=[('cvec',\n",
      "                                                                                          CountVectorizer())]),\n",
      "                                                                         'movieid'),\n",
      "                                                                        ('txt_genre',\n",
      "                                                                         Pipeline(steps=[('cvec',\n",
      "                                                                                          CountVectorizer())]),\n",
      "                                                                         'genre'),\n",
      "                                                                        ('txt_director',\n",
      "                                                                         Pipeline(steps=...\n",
      "                                                                        ('txt_ratingContents',\n",
      "                                                                         Pipeline(steps=[('cvec',\n",
      "                                                                                          CountVectorizer(ngram_range=(1,\n",
      "                                                                                                                       5)))]),\n",
      "                                                                         'ratingContents'),\n",
      "                                                                        ('txt_distributor',\n",
      "                                                                         Pipeline(steps=[('cvec',\n",
      "                                                                                          CountVectorizer(ngram_range=(1,\n",
      "                                                                                                                       3)))]),\n",
      "                                                                         'distributor')])),\n",
      "                                       ('model',\n",
      "                                        SGDClassifier(max_iter=1000000,\n",
      "                                                      n_iter_no_change=100,\n",
      "                                                      n_jobs=-1,\n",
      "                                                      tol=0.0001))]),\n",
      "             n_jobs=-1, param_grid={'model__alpha': [0.0001]},\n",
      "             scoring='f1_micro')\n",
      "\n",
      "Training started with full pipeline for classifier #2/3...\n",
      "\n",
      "Check #2.1 complete.\n",
      "Details of the best model using classifier #2 (GridSearchCV) on X_train: \n",
      "Best Params: {'model__alpha': 0.0001}\n",
      "Best Score: 0.7421201920481526\n",
      "Confusion matrix and f1-score for rows which have no reviewText in X_train: \n",
      "[[ 832 1573]\n",
      " [ 307 3735]]\n",
      "0.7083914999224447\n",
      "classifier_2 successfully added to 'estimators' list\n",
      "(55315, 2)\n",
      "     pred_1    pred_2\n",
      "0  POSITIVE  POSITIVE\n",
      "1  POSITIVE  POSITIVE\n",
      "2  POSITIVE  POSITIVE\n",
      "3  POSITIVE  POSITIVE\n",
      "4  POSITIVE  POSITIVE\n",
      "5  POSITIVE  POSITIVE\n",
      "6  NEGATIVE  POSITIVE\n",
      "7  POSITIVE  POSITIVE\n",
      "8  POSITIVE  POSITIVE\n",
      "9  POSITIVE  POSITIVE\n",
      "\n",
      "Check #2.2 complete.\n",
      "Details of the best model using full pipeline (GridSearchCV) on X_train: \n",
      "Best Params: {'model__alpha': 0.0001}\n",
      "Best Score: 0.7421201920481526\n",
      "Refit Time: 17.632908582687378\n",
      "\n",
      "Selected features: {'cat': ['isFrequentReviewer'], 'num': ['audienceScore', 'boxOffice', 'releaseDiff'], 'txt': ['reviewText', 'reviewerName', 'movieid', 'genre', 'director', 'ratingContents', 'distributor', 'reviewText_2', 'reviewText_3']}\n",
      "\n",
      "Pipeline built successfully.\n",
      "\n",
      "Full GridSearchCV pipeline built successfully.\n",
      "GridSearchCV(cv=10,\n",
      "             estimator=Pipeline(steps=[('ct',\n",
      "                                        ColumnTransformer(transformers=[('cat_isFrequentReviewer',\n",
      "                                                                         OneHotEncoder(handle_unknown='ignore',\n",
      "                                                                                       sparse_output=False),\n",
      "                                                                         ['isFrequentReviewer']),\n",
      "                                                                        ('num_audienceScore',\n",
      "                                                                         StandardScaler(),\n",
      "                                                                         ['audienceScore']),\n",
      "                                                                        ('num_boxOffice',\n",
      "                                                                         RobustScaler(),\n",
      "                                                                         ['boxOffice']),\n",
      "                                                                        ('num_boxOffice_ss',\n",
      "                                                                         StandardScaler(),\n",
      "                                                                         ['boxOffice']),\n",
      "                                                                        ('...\n",
      "                                                                                                                      'script',\n",
      "                                                                                                                      'aaron '\n",
      "                                                                                                                      'spelling',\n",
      "                                                                                                                      'aarp',\n",
      "                                                                                                                      'ab',\n",
      "                                                                                                                      'abandon',\n",
      "                                                                                                                      'abandoned',\n",
      "                                                                                                                      'abandoned '\n",
      "                                                                                                                      'good',\n",
      "                                                                                                                      'abandoning',\n",
      "                                                                                                                      'abandoning '\n",
      "                                                                                                                      'logic',\n",
      "                                                                                                                      'abandoning '\n",
      "                                                                                                                      'traditional',\n",
      "                                                                                                                      'abandonment',\n",
      "                                                                                                                      'abandonment '\n",
      "                                                                                                                      'adoption', ...}))]),\n",
      "                                                                         'reviewText_3')])),\n",
      "                                       ('model',\n",
      "                                        SGDClassifier(max_iter=1000000,\n",
      "                                                      n_iter_no_change=100,\n",
      "                                                      n_jobs=-1,\n",
      "                                                      tol=0.0001))]),\n",
      "             n_jobs=-1, param_grid={'model__alpha': [0.0001]},\n",
      "             scoring='f1_micro')\n",
      "\n",
      "Training started with full pipeline for classifier #3/3...\n"
     ]
    },
    {
     "name": "stderr",
     "output_type": "stream",
     "text": [
      "/opt/conda/lib/python3.10/site-packages/joblib/externals/loky/process_executor.py:700: UserWarning: A worker stopped while some jobs were given to the executor. This can be caused by a too short worker timeout or by a memory leak.\n",
      "  warnings.warn(\n"
     ]
    },
    {
     "name": "stdout",
     "output_type": "stream",
     "text": [
      "\n",
      "Check #3.1 complete.\n",
      "Details of the best model using classifier #3 (GridSearchCV) on X_train: \n",
      "Best Params: {'model__alpha': 0.0001}\n",
      "Best Score: 0.8419862683607919\n",
      "Confusion matrix and f1-score for rows which have no reviewText in X_train: \n",
      "[[1015 1390]\n",
      " [ 144 3898]]\n",
      "0.7620598728090585\n",
      "classifier_3 successfully added to 'estimators' list\n",
      "(55315, 3)\n",
      "     pred_1    pred_2    pred_3\n",
      "0  POSITIVE  POSITIVE  POSITIVE\n",
      "1  POSITIVE  POSITIVE  POSITIVE\n",
      "2  POSITIVE  POSITIVE  POSITIVE\n",
      "3  POSITIVE  POSITIVE  POSITIVE\n",
      "4  POSITIVE  POSITIVE  POSITIVE\n",
      "5  POSITIVE  POSITIVE  POSITIVE\n",
      "6  NEGATIVE  POSITIVE  POSITIVE\n",
      "7  POSITIVE  POSITIVE  POSITIVE\n",
      "8  POSITIVE  POSITIVE  NEGATIVE\n",
      "9  POSITIVE  POSITIVE  NEGATIVE\n",
      "\n",
      "Check #3.2 complete.\n",
      "Details of the best model using full pipeline (GridSearchCV) on X_train: \n",
      "Best Params: {'model__alpha': 0.0001}\n",
      "Best Score: 0.8419862683607919\n",
      "Refit Time: 213.09070086479187\n",
      "\n",
      "Successfully created the submission file!!!\n"
     ]
    }
   ],
   "source": [
    "# Testing ONE classfier using submit_v5 function  \n",
    "\n",
    "# Feature dictionaries\n",
    "sfs = {'cat': ['isFrequentReviewer', 'rating'],\n",
    "       'num': [\"audienceScore\", \"runtimeMinutes\", \"boxOffice\", 'releaseDiff']}\n",
    "\n",
    "sf_best = {'cat': ['isFrequentReviewer'],\n",
    "            'num': [\"audienceScore\", \"boxOffice\", 'releaseDiff'],\n",
    "            'txt': ['reviewText', 'reviewerName', 'movieid', 'genre', 'director', \n",
    "                         'ratingContents', 'distributor']}\n",
    "\n",
    "alt_text = {'txt': ['reviewerName', 'movieid', 'genre', 'director', \n",
    "                         'ratingContents', 'distributor']}\n",
    "\n",
    "# SGDClassifier hyperparameters  \n",
    "# \"model__loss\": ['hinge', 'log_loss', 'modified_huber', \n",
    "#                                                   'squared_hinge', 'perceptron', \n",
    "#                                                   'squared_error', 'huber', \n",
    "#                                                   'epsilon_insensitive', 'squared_epsilon_insensitive']\n",
    "\n",
    "# 'param_grid' : {\"model__alpha\": [0.0001], \n",
    "#                   'model__tol': [0.0001],\n",
    "#                   \"model__penalty\": [\"l2\"],\n",
    "#                   \"model__n_iter_no_change\": [100],\n",
    "#                  }\n",
    "\n",
    "# Best models \n",
    "# For sf_best features\n",
    "#                 {'selected_model' : SGDClassifier(loss='hinge', \n",
    "#                                      max_iter=1000000,\n",
    "#                                      alpha = 0.0001,\n",
    "#                                      tol = 0.0001,\n",
    "#                                      penalty = \"l2\",\n",
    "#                                      n_iter_no_change = 100,\n",
    "#                                      n_jobs = -1), \n",
    "#                   'selected_features' : sf_best, \n",
    "#                   'param_grid' : {\"model__alpha\": [ 0.0001]},\n",
    "#                   'vocab' : True,\n",
    "#                   'vocab_usage' : 'tfidf',\n",
    "#                   'strip_accents' : 'unicode', \n",
    "#                   'add_countvec' : True},\n",
    "\n",
    "# For sfs features\n",
    "#                 {'selected_model' : RandomForestClassifier(n_jobs = -1), \n",
    "#                   'selected_features' : sfs, \n",
    "#                   'param_grid': {'model__n_estimators': [100]},\n",
    "#                   'vocab' : None,\n",
    "#                   'vocab_usage' : 'tfidf',\n",
    "#                   'strip_accents' : 'unicode', \n",
    "#                   'add_countvec' : False}\n",
    "\n",
    "# Best SGD classifer (with params)  \n",
    "sgdc = SGDClassifier(loss='hinge', \n",
    "                     max_iter=1000000,\n",
    "                     alpha = 0.0001,\n",
    "                     tol = 0.0001,\n",
    "                     penalty = \"l2\",\n",
    "                     n_iter_no_change = 100,\n",
    "                     n_jobs = -1)\n",
    "\n",
    "# Classifiers\n",
    "classifiers= [\n",
    "                {'selected_model' : RandomForestClassifier(n_jobs = -1), \n",
    "                  'selected_features' : sfs, \n",
    "                  'param_grid': {'model__n_estimators': [100]},\n",
    "                  'vocab' : None,\n",
    "                  'vocab_usage' : 'tfidf',\n",
    "                  'strip_accents' : 'unicode', \n",
    "                  'add_countvec' : False},\n",
    "    \n",
    "                {'selected_model' : sgdc, \n",
    "                  'selected_features' : alt_text, \n",
    "                  'param_grid': {\"model__alpha\": [0.0001]},\n",
    "                  'vocab' : None,\n",
    "                  'vocab_usage' : 'tfidf',\n",
    "                  'strip_accents' : 'unicode', \n",
    "                  'add_countvec' : False},\n",
    "    \n",
    "                {'selected_model' : sgdc, \n",
    "                  'selected_features' : sf_best, \n",
    "                  'param_grid' : {\"model__alpha\": [0.0001]},\n",
    "                  'vocab' : True,\n",
    "                  'vocab_usage' : 'tfidf',\n",
    "                  'strip_accents' : 'unicode', \n",
    "                  'add_countvec' : True}\n",
    "            ]\n",
    "\n",
    "# classifiers= [\n",
    "#                 {'selected_model' : LogisticRegression(C=1, solver='saga', max_iter=100000), \n",
    "#                   'selected_features' : {'txt': [\"reviewText\"]}, \n",
    "#                   'param_grid' : {\"model__C\": [1], \n",
    "#                                   'model__solver': ['saga']},\n",
    "#                   'vocab' : None,\n",
    "#                   'vocab_usage' : 'tfidf',\n",
    "#                   'strip_accents' : 'unicode', \n",
    "#                   'add_countvec' : False},\n",
    "#             ]\n",
    "\n",
    "pred_df, estimators = submit_v5(classifiers=classifiers)"
   ]
  },
  {
   "cell_type": "code",
   "execution_count": 107,
   "id": "36851d0e",
   "metadata": {
    "execution": {
     "iopub.execute_input": "2023-08-11T21:07:14.689355Z",
     "iopub.status.busy": "2023-08-11T21:07:14.689011Z",
     "iopub.status.idle": "2023-08-11T21:07:14.697141Z",
     "shell.execute_reply": "2023-08-11T21:07:14.695679Z"
    },
    "papermill": {
     "duration": 0.079871,
     "end_time": "2023-08-11T21:07:14.699317",
     "exception": false,
     "start_time": "2023-08-11T21:07:14.619446",
     "status": "completed"
    },
    "tags": []
   },
   "outputs": [
    {
     "name": "stdout",
     "output_type": "stream",
     "text": [
      "(55315, 1)\n",
      "   sentiment\n",
      "id          \n",
      "0   POSITIVE\n",
      "1   POSITIVE\n",
      "2   POSITIVE\n",
      "3   POSITIVE\n",
      "4   POSITIVE\n"
     ]
    }
   ],
   "source": [
    "print(pred_df.shape)\n",
    "print(pred_df.head())"
   ]
  },
  {
   "cell_type": "code",
   "execution_count": 108,
   "id": "82af31f9",
   "metadata": {
    "execution": {
     "iopub.execute_input": "2023-08-11T21:07:14.834929Z",
     "iopub.status.busy": "2023-08-11T21:07:14.834585Z",
     "iopub.status.idle": "2023-08-11T21:07:14.839250Z",
     "shell.execute_reply": "2023-08-11T21:07:14.838241Z"
    },
    "papermill": {
     "duration": 0.07458,
     "end_time": "2023-08-11T21:07:14.841021",
     "exception": false,
     "start_time": "2023-08-11T21:07:14.766441",
     "status": "completed"
    },
    "tags": []
   },
   "outputs": [],
   "source": [
    "# estimators"
   ]
  },
  {
   "cell_type": "code",
   "execution_count": 109,
   "id": "3b326598",
   "metadata": {
    "execution": {
     "iopub.execute_input": "2023-08-11T21:07:14.977614Z",
     "iopub.status.busy": "2023-08-11T21:07:14.977017Z",
     "iopub.status.idle": "2023-08-11T21:07:14.984906Z",
     "shell.execute_reply": "2023-08-11T21:07:14.983288Z"
    },
    "papermill": {
     "duration": 0.077953,
     "end_time": "2023-08-11T21:07:14.986845",
     "exception": false,
     "start_time": "2023-08-11T21:07:14.908892",
     "status": "completed"
    },
    "tags": []
   },
   "outputs": [
    {
     "name": "stdout",
     "output_type": "stream",
     "text": [
      "Number of estimators: 3\n",
      "\n",
      "Estimator: classifier_1\n",
      "{'model__n_estimators': 100}\n",
      "0.735515295107174\n",
      "11.180049657821655\n",
      "\n",
      "Estimator: classifier_2\n",
      "{'model__alpha': 0.0001}\n",
      "0.7421201920481526\n",
      "17.632908582687378\n",
      "\n",
      "Estimator: classifier_3\n",
      "{'model__alpha': 0.0001}\n",
      "0.8419862683607919\n",
      "213.09070086479187\n",
      "\n"
     ]
    }
   ],
   "source": [
    "print(f\"Number of estimators: {len(estimators)}\\n\")\n",
    "for est in estimators:\n",
    "    print(f\"Estimator: {est[0]}\")\n",
    "#     print(est[1].best_estimator_)\n",
    "    print(est[1].best_params_)\n",
    "    print(est[1].best_score_)\n",
    "    print(est[1].refit_time_)\n",
    "    print()"
   ]
  },
  {
   "cell_type": "code",
   "execution_count": 110,
   "id": "c23fd5dd",
   "metadata": {
    "execution": {
     "iopub.execute_input": "2023-08-11T21:07:15.121166Z",
     "iopub.status.busy": "2023-08-11T21:07:15.120781Z",
     "iopub.status.idle": "2023-08-11T21:07:15.127739Z",
     "shell.execute_reply": "2023-08-11T21:07:15.126334Z"
    },
    "papermill": {
     "duration": 0.077438,
     "end_time": "2023-08-11T21:07:15.130047",
     "exception": false,
     "start_time": "2023-08-11T21:07:15.052609",
     "status": "completed"
    },
    "tags": []
   },
   "outputs": [],
   "source": [
    "# Testing full capabilites of submit_v5  \n",
    "\n",
    "# # Feature dictionaries\n",
    "# sf1 = {'cat': ['isFrequentReviewer', 'rating'],\n",
    "#        'num': [\"audienceScore\", \"runtimeMinutes\", \"boxOffice\"]}\n",
    "\n",
    "# sf2 = {'cat': ['isFrequentReviewer', 'rating'],\n",
    "#        'num': [\"audienceScore\", \"runtimeMinutes\", \"boxOffice\"]}\n",
    "\n",
    "# sf3 = {'cat': ['isFrequentReviewer'],\n",
    "#         'num': ['releaseDiff', 'audienceScore', 'boxOffice'],\n",
    "#         'txt': ['reviewText', 'reviewerName', 'movieid', 'genre', 'director', \n",
    "#                          'ratingContents', 'distributor']}\n",
    "\n",
    "# # Individual classifiers\n",
    "# clf1 =  {'selected_model' : AdaBoostClassifier(), \n",
    "#           'selected_features' : sf1, \n",
    "#           'param_grid' : {\"model__n_estimators\": [50]},\n",
    "#           'vocab' : None,\n",
    "#           'vocab_usage' : 'tfidf',\n",
    "#           'strip_accents' : 'unicode', \n",
    "#           'add_countvec' : False}\n",
    "\n",
    "# clf2 =  {'selected_model' : RandomForestClassifier(), \n",
    "#           'selected_features' : sf2,\n",
    "#           'param_grid' : {\"model__n_estimators\": [50], \n",
    "#                           'model__criterion': ['gini']},\n",
    "#           'vocab' : None,\n",
    "#           'vocab_usage' : 'tfidf',\n",
    "#           'strip_accents' : 'unicode', \n",
    "#           'add_countvec' : False}\n",
    "\n",
    "# clf3 =  {'selected_model' : LogisticRegression(C=1, solver='saga', max_iter=100000), \n",
    "#           'selected_features' : sf3, \n",
    "#           'param_grid' : {'model__C' : [1],\n",
    "#                             'model__solver': ['saga'],\n",
    "#                             \"model__fit_intercept\" : [True],\n",
    "#                             \"model__dual\" : [False]},\n",
    "#           'vocab' : None,\n",
    "#           'vocab_usage' : 'tfidf',\n",
    "#           'strip_accents' : 'unicode', \n",
    "#           'add_countvec' : True}\n",
    "\n",
    "\n",
    "# # List of classifiers for voting\n",
    "# classifiers= [clf1, clf2, clf3]\n",
    "\n",
    "# # Final predictions \n",
    "# pred_df = submit_v5(classifiers=classifiers)"
   ]
  },
  {
   "cell_type": "code",
   "execution_count": 111,
   "id": "59e09be3",
   "metadata": {
    "execution": {
     "iopub.execute_input": "2023-08-11T21:07:15.266598Z",
     "iopub.status.busy": "2023-08-11T21:07:15.266056Z",
     "iopub.status.idle": "2023-08-11T21:07:15.277536Z",
     "shell.execute_reply": "2023-08-11T21:07:15.276510Z"
    },
    "papermill": {
     "duration": 0.081941,
     "end_time": "2023-08-11T21:07:15.280301",
     "exception": false,
     "start_time": "2023-08-11T21:07:15.198360",
     "status": "completed"
    },
    "tags": []
   },
   "outputs": [
    {
     "name": "stdout",
     "output_type": "stream",
     "text": [
      "(55315, 1)\n"
     ]
    },
    {
     "data": {
      "text/html": [
       "<div>\n",
       "<style scoped>\n",
       "    .dataframe tbody tr th:only-of-type {\n",
       "        vertical-align: middle;\n",
       "    }\n",
       "\n",
       "    .dataframe tbody tr th {\n",
       "        vertical-align: top;\n",
       "    }\n",
       "\n",
       "    .dataframe thead th {\n",
       "        text-align: right;\n",
       "    }\n",
       "</style>\n",
       "<table border=\"1\" class=\"dataframe\">\n",
       "  <thead>\n",
       "    <tr style=\"text-align: right;\">\n",
       "      <th></th>\n",
       "      <th>sentiment</th>\n",
       "    </tr>\n",
       "    <tr>\n",
       "      <th>id</th>\n",
       "      <th></th>\n",
       "    </tr>\n",
       "  </thead>\n",
       "  <tbody>\n",
       "    <tr>\n",
       "      <th>0</th>\n",
       "      <td>POSITIVE</td>\n",
       "    </tr>\n",
       "    <tr>\n",
       "      <th>1</th>\n",
       "      <td>POSITIVE</td>\n",
       "    </tr>\n",
       "    <tr>\n",
       "      <th>2</th>\n",
       "      <td>POSITIVE</td>\n",
       "    </tr>\n",
       "    <tr>\n",
       "      <th>3</th>\n",
       "      <td>POSITIVE</td>\n",
       "    </tr>\n",
       "    <tr>\n",
       "      <th>4</th>\n",
       "      <td>POSITIVE</td>\n",
       "    </tr>\n",
       "    <tr>\n",
       "      <th>...</th>\n",
       "      <td>...</td>\n",
       "    </tr>\n",
       "    <tr>\n",
       "      <th>55310</th>\n",
       "      <td>NEGATIVE</td>\n",
       "    </tr>\n",
       "    <tr>\n",
       "      <th>55311</th>\n",
       "      <td>POSITIVE</td>\n",
       "    </tr>\n",
       "    <tr>\n",
       "      <th>55312</th>\n",
       "      <td>POSITIVE</td>\n",
       "    </tr>\n",
       "    <tr>\n",
       "      <th>55313</th>\n",
       "      <td>POSITIVE</td>\n",
       "    </tr>\n",
       "    <tr>\n",
       "      <th>55314</th>\n",
       "      <td>NEGATIVE</td>\n",
       "    </tr>\n",
       "  </tbody>\n",
       "</table>\n",
       "<p>55315 rows × 1 columns</p>\n",
       "</div>"
      ],
      "text/plain": [
       "      sentiment\n",
       "id             \n",
       "0      POSITIVE\n",
       "1      POSITIVE\n",
       "2      POSITIVE\n",
       "3      POSITIVE\n",
       "4      POSITIVE\n",
       "...         ...\n",
       "55310  NEGATIVE\n",
       "55311  POSITIVE\n",
       "55312  POSITIVE\n",
       "55313  POSITIVE\n",
       "55314  NEGATIVE\n",
       "\n",
       "[55315 rows x 1 columns]"
      ]
     },
     "execution_count": 111,
     "metadata": {},
     "output_type": "execute_result"
    }
   ],
   "source": [
    "print(pred_df.shape)\n",
    "pred_df"
   ]
  },
  {
   "cell_type": "code",
   "execution_count": 112,
   "id": "ba84cce0",
   "metadata": {
    "execution": {
     "iopub.execute_input": "2023-08-11T21:07:15.417384Z",
     "iopub.status.busy": "2023-08-11T21:07:15.417003Z",
     "iopub.status.idle": "2023-08-11T21:07:15.421329Z",
     "shell.execute_reply": "2023-08-11T21:07:15.420336Z"
    },
    "papermill": {
     "duration": 0.075386,
     "end_time": "2023-08-11T21:07:15.423058",
     "exception": false,
     "start_time": "2023-08-11T21:07:15.347672",
     "status": "completed"
    },
    "tags": []
   },
   "outputs": [],
   "source": [
    "# pred_df_mode = pred_df.mode(axis='columns')\n",
    "# print(pred_df_mode.shape)\n",
    "# pred_df_mode"
   ]
  },
  {
   "cell_type": "code",
   "execution_count": 113,
   "id": "0edf68be",
   "metadata": {
    "execution": {
     "iopub.execute_input": "2023-08-11T21:07:15.556121Z",
     "iopub.status.busy": "2023-08-11T21:07:15.555769Z",
     "iopub.status.idle": "2023-08-11T21:07:15.569635Z",
     "shell.execute_reply": "2023-08-11T21:07:15.568697Z"
    },
    "papermill": {
     "duration": 0.082628,
     "end_time": "2023-08-11T21:07:15.571301",
     "exception": false,
     "start_time": "2023-08-11T21:07:15.488673",
     "status": "completed"
    },
    "tags": []
   },
   "outputs": [
    {
     "data": {
      "text/plain": [
       "sentiment\n",
       "POSITIVE     42841\n",
       "NEGATIVE     12474\n",
       "dtype: int64"
      ]
     },
     "execution_count": 113,
     "metadata": {},
     "output_type": "execute_result"
    }
   ],
   "source": [
    "pred_df.value_counts()"
   ]
  },
  {
   "cell_type": "markdown",
   "id": "c0f41659",
   "metadata": {
    "papermill": {
     "duration": 0.066378,
     "end_time": "2023-08-11T21:07:15.703504",
     "exception": false,
     "start_time": "2023-08-11T21:07:15.637126",
     "status": "completed"
    },
    "tags": []
   },
   "source": [
    "# NOTE: Move submit_v4 submissions below the suubmit_v4 function  "
   ]
  },
  {
   "cell_type": "code",
   "execution_count": 114,
   "id": "f4c749b4",
   "metadata": {
    "execution": {
     "iopub.execute_input": "2023-08-11T21:07:15.838987Z",
     "iopub.status.busy": "2023-08-11T21:07:15.838549Z",
     "iopub.status.idle": "2023-08-11T21:07:15.843651Z",
     "shell.execute_reply": "2023-08-11T21:07:15.842293Z"
    },
    "papermill": {
     "duration": 0.076693,
     "end_time": "2023-08-11T21:07:15.846278",
     "exception": false,
     "start_time": "2023-08-11T21:07:15.769585",
     "status": "completed"
    },
    "tags": []
   },
   "outputs": [],
   "source": [
    "# Try 'submit_v4' function with default params (LogisticRegression model)  \n",
    "\n",
    "# submit_v4()\n",
    "\n",
    "#Default params to this function gave a score of 0.8259 - improvement over previous score of 0.82563!"
   ]
  },
  {
   "cell_type": "code",
   "execution_count": 115,
   "id": "10e35850",
   "metadata": {
    "execution": {
     "iopub.execute_input": "2023-08-11T21:07:16.059218Z",
     "iopub.status.busy": "2023-08-11T21:07:16.058825Z",
     "iopub.status.idle": "2023-08-11T21:07:16.063789Z",
     "shell.execute_reply": "2023-08-11T21:07:16.062244Z"
    },
    "papermill": {
     "duration": 0.075615,
     "end_time": "2023-08-11T21:07:16.066262",
     "exception": false,
     "start_time": "2023-08-11T21:07:15.990647",
     "status": "completed"
    },
    "tags": []
   },
   "outputs": [],
   "source": [
    "# Try out GridSearchCV on \"submit_v4\" function with param_grid  \n",
    "# param_grid = {\n",
    "#     \"model__C\": [0.1, 1, 5, 10]\n",
    "# }\n",
    "\n",
    "# submit_v4(selected_features={'txt': ['genre']}, param_grid=param_grid)"
   ]
  },
  {
   "cell_type": "markdown",
   "id": "127e3300",
   "metadata": {
    "papermill": {
     "duration": 0.067758,
     "end_time": "2023-08-11T21:07:16.202804",
     "exception": false,
     "start_time": "2023-08-11T21:07:16.135046",
     "status": "completed"
    },
    "tags": []
   },
   "source": [
    "### Try LinearSVC with GridSearchCV  "
   ]
  },
  {
   "cell_type": "code",
   "execution_count": 116,
   "id": "58326ae6",
   "metadata": {
    "execution": {
     "iopub.execute_input": "2023-08-11T21:07:16.339563Z",
     "iopub.status.busy": "2023-08-11T21:07:16.339186Z",
     "iopub.status.idle": "2023-08-11T21:07:16.343467Z",
     "shell.execute_reply": "2023-08-11T21:07:16.342475Z"
    },
    "papermill": {
     "duration": 0.076457,
     "end_time": "2023-08-11T21:07:16.346229",
     "exception": false,
     "start_time": "2023-08-11T21:07:16.269772",
     "status": "completed"
    },
    "tags": []
   },
   "outputs": [],
   "source": [
    "# all_dict = {'cat': [\"isFrequentReviewer\", \"rating\", \"originalLanguage\"],\n",
    "#              'num': [\"audienceScore\", \"runtimeMinutes\", \"boxOffice\"],\n",
    "#              'txt': ['reviewText', 'reviewerName', 'movieid', 'genre', 'director']}\n",
    "\n",
    "# param_grid_svc = {\n",
    "#     \"model__C\": [0.1, 1, 10, 100]\n",
    "# }\n",
    "# param_grid_svc"
   ]
  },
  {
   "cell_type": "code",
   "execution_count": 117,
   "id": "9dff4825",
   "metadata": {
    "execution": {
     "iopub.execute_input": "2023-08-11T21:07:16.481552Z",
     "iopub.status.busy": "2023-08-11T21:07:16.481139Z",
     "iopub.status.idle": "2023-08-11T21:07:16.485785Z",
     "shell.execute_reply": "2023-08-11T21:07:16.484764Z"
    },
    "papermill": {
     "duration": 0.075222,
     "end_time": "2023-08-11T21:07:16.488297",
     "exception": false,
     "start_time": "2023-08-11T21:07:16.413075",
     "status": "completed"
    },
    "tags": []
   },
   "outputs": [],
   "source": [
    "# LinearSCV on single feature  \n",
    "\n",
    "# submit_v4(selected_model=LinearSVC(max_iter=100000, random_state=42), selected_features={'num': [\"audienceScore\"]}, param_grid=param_grid_svc)\n",
    "\n",
    "# Comment: LinearSVC even on single column feature set takes too long to converge."
   ]
  },
  {
   "cell_type": "code",
   "execution_count": 118,
   "id": "e9368836",
   "metadata": {
    "execution": {
     "iopub.execute_input": "2023-08-11T21:07:16.622989Z",
     "iopub.status.busy": "2023-08-11T21:07:16.622645Z",
     "iopub.status.idle": "2023-08-11T21:07:16.626739Z",
     "shell.execute_reply": "2023-08-11T21:07:16.625760Z"
    },
    "papermill": {
     "duration": 0.074617,
     "end_time": "2023-08-11T21:07:16.629022",
     "exception": false,
     "start_time": "2023-08-11T21:07:16.554405",
     "status": "completed"
    },
    "tags": []
   },
   "outputs": [],
   "source": [
    "# LinearSCV on all available features\n",
    "\n",
    "# submit_v4(selected_model=LinearSVC(max_iter=100000, random_state=42), selected_features=all_dict, param_grid=param_grid_svc)\n",
    "\n",
    "# (Update): This took 66 mins to run and gave a public score of 0.84295 (lesser than logreg gridsearchcv wwhich gave 0.84441). Best C was 1.0.\n"
   ]
  },
  {
   "cell_type": "markdown",
   "id": "babb1847",
   "metadata": {
    "papermill": {
     "duration": 0.066011,
     "end_time": "2023-08-11T21:07:16.761585",
     "exception": false,
     "start_time": "2023-08-11T21:07:16.695574",
     "status": "completed"
    },
    "tags": []
   },
   "source": [
    "### Boosting techniques  "
   ]
  },
  {
   "cell_type": "code",
   "execution_count": 119,
   "id": "d2578a68",
   "metadata": {
    "execution": {
     "iopub.execute_input": "2023-08-11T21:07:16.896504Z",
     "iopub.status.busy": "2023-08-11T21:07:16.896079Z",
     "iopub.status.idle": "2023-08-11T21:07:16.901157Z",
     "shell.execute_reply": "2023-08-11T21:07:16.899820Z"
    },
    "papermill": {
     "duration": 0.07637,
     "end_time": "2023-08-11T21:07:16.903319",
     "exception": false,
     "start_time": "2023-08-11T21:07:16.826949",
     "status": "completed"
    },
    "tags": []
   },
   "outputs": [],
   "source": [
    "# adc = AdaBoostClassifier(estimator=LogisticRegression(C=5, solver=\"saga\", max_iter=100000), n_estimators=50)\n",
    "# adc"
   ]
  },
  {
   "cell_type": "code",
   "execution_count": 120,
   "id": "c6fd2f7b",
   "metadata": {
    "execution": {
     "iopub.execute_input": "2023-08-11T21:07:17.038145Z",
     "iopub.status.busy": "2023-08-11T21:07:17.037753Z",
     "iopub.status.idle": "2023-08-11T21:07:17.043551Z",
     "shell.execute_reply": "2023-08-11T21:07:17.042339Z"
    },
    "papermill": {
     "duration": 0.077106,
     "end_time": "2023-08-11T21:07:17.046270",
     "exception": false,
     "start_time": "2023-08-11T21:07:16.969164",
     "status": "completed"
    },
    "tags": []
   },
   "outputs": [],
   "source": [
    "# submit_v4(selected_model=adc, selected_features={'num': [\"audienceScore\"]}, param_grid=None)"
   ]
  },
  {
   "cell_type": "code",
   "execution_count": 121,
   "id": "02ded7bf",
   "metadata": {
    "execution": {
     "iopub.execute_input": "2023-08-11T21:07:17.181789Z",
     "iopub.status.busy": "2023-08-11T21:07:17.181402Z",
     "iopub.status.idle": "2023-08-11T21:07:17.186438Z",
     "shell.execute_reply": "2023-08-11T21:07:17.185454Z"
    },
    "papermill": {
     "duration": 0.074777,
     "end_time": "2023-08-11T21:07:17.188360",
     "exception": false,
     "start_time": "2023-08-11T21:07:17.113583",
     "status": "completed"
    },
    "tags": []
   },
   "outputs": [],
   "source": [
    "# submit_v4(selected_model=adc, selected_features=all_dict, param_grid=None)\n",
    "\n",
    "# Took 1 hour 15 mins to run and gave a public score of only 0.71089. Discarded."
   ]
  },
  {
   "cell_type": "markdown",
   "id": "e7881955",
   "metadata": {
    "papermill": {
     "duration": 0.066374,
     "end_time": "2023-08-11T21:07:17.320981",
     "exception": false,
     "start_time": "2023-08-11T21:07:17.254607",
     "status": "completed"
    },
    "tags": []
   },
   "source": [
    "### LightGBM  "
   ]
  },
  {
   "cell_type": "code",
   "execution_count": 122,
   "id": "8c3975cc",
   "metadata": {
    "execution": {
     "iopub.execute_input": "2023-08-11T21:07:17.457788Z",
     "iopub.status.busy": "2023-08-11T21:07:17.457075Z",
     "iopub.status.idle": "2023-08-11T21:07:17.462797Z",
     "shell.execute_reply": "2023-08-11T21:07:17.461282Z"
    },
    "papermill": {
     "duration": 0.078678,
     "end_time": "2023-08-11T21:07:17.465254",
     "exception": false,
     "start_time": "2023-08-11T21:07:17.386576",
     "status": "completed"
    },
    "tags": []
   },
   "outputs": [],
   "source": [
    "# lgb = ltb.LGBMClassifier()\n",
    "# lgb"
   ]
  },
  {
   "cell_type": "code",
   "execution_count": 123,
   "id": "77d57b96",
   "metadata": {
    "execution": {
     "iopub.execute_input": "2023-08-11T21:07:17.619275Z",
     "iopub.status.busy": "2023-08-11T21:07:17.618916Z",
     "iopub.status.idle": "2023-08-11T21:07:17.623922Z",
     "shell.execute_reply": "2023-08-11T21:07:17.622491Z"
    },
    "papermill": {
     "duration": 0.077442,
     "end_time": "2023-08-11T21:07:17.626587",
     "exception": false,
     "start_time": "2023-08-11T21:07:17.549145",
     "status": "completed"
    },
    "tags": []
   },
   "outputs": [],
   "source": [
    "# Try LightGBM with default settings\n",
    "# (Update): Public score only 0.77713. It was fast, took less than 5 mins (without GridSearchCV)\n",
    "\n",
    "# submit_v4(selected_model=ltb.LGBMClassifier(), selected_features=all_dict, param_grid=None)"
   ]
  },
  {
   "cell_type": "markdown",
   "id": "978cfee1",
   "metadata": {
    "papermill": {
     "duration": 0.067957,
     "end_time": "2023-08-11T21:07:17.762462",
     "exception": false,
     "start_time": "2023-08-11T21:07:17.694505",
     "status": "completed"
    },
    "tags": []
   },
   "source": [
    "## Feature Engineering"
   ]
  },
  {
   "cell_type": "markdown",
   "id": "052a6a6e",
   "metadata": {
    "papermill": {
     "duration": 0.068846,
     "end_time": "2023-08-11T21:07:17.898562",
     "exception": false,
     "start_time": "2023-08-11T21:07:17.829716",
     "status": "completed"
    },
    "tags": []
   },
   "source": [
    "### Plan  \n",
    "* Add a new column 'reviewWC' which has word count of 'reviewText'  \n",
    "    * Check if there is any relationship between 'reviewWC' and 'sentiment'\n",
    "* Work on vocabulary\n",
    "     * Use TfidfVectorizer and find out the vocabulary of 'reviewText' column for various ngrams\n",
    "     * Use RecursiveFeatureElimination (RFE) or RFECV to select 1000 top words/vocab for each ngram\n",
    "     * Use the final vocab (1000-3000 words) in the model and see how it performs compared to whole vocab\n",
    "\n",
    "`(Update): Code incorporated into the \"select_features\" function  `  \n",
    "`(Update): Many other new features incorporated into the \"select_features\" function too  `  \n",
    "\n"
   ]
  },
  {
   "cell_type": "markdown",
   "id": "45f24886",
   "metadata": {
    "papermill": {
     "duration": 0.067599,
     "end_time": "2023-08-11T21:07:18.034625",
     "exception": false,
     "start_time": "2023-08-11T21:07:17.967026",
     "status": "completed"
    },
    "tags": []
   },
   "source": [
    "# Back to vocab after success of version 63  "
   ]
  },
  {
   "cell_type": "code",
   "execution_count": 124,
   "id": "0b2e17ed",
   "metadata": {
    "execution": {
     "iopub.execute_input": "2023-08-11T21:07:18.170739Z",
     "iopub.status.busy": "2023-08-11T21:07:18.170338Z",
     "iopub.status.idle": "2023-08-11T21:07:18.187355Z",
     "shell.execute_reply": "2023-08-11T21:07:18.186610Z"
    },
    "papermill": {
     "duration": 0.088176,
     "end_time": "2023-08-11T21:07:18.189697",
     "exception": false,
     "start_time": "2023-08-11T21:07:18.101521",
     "status": "completed"
    },
    "tags": []
   },
   "outputs": [],
   "source": [
    "def submit_v4(selected_model=LogisticRegression(C=1, solver='liblinear', max_iter=100000), \n",
    "              selected_features={'txt': ['reviewText']}, \n",
    "              param_grid=None,\n",
    "              vocab=None,\n",
    "              vocab_usage='tfidf',\n",
    "              strip_accents='unicode', \n",
    "              add_countvec=False):\n",
    "    \n",
    "    print(\"\\nRunning the submit_v4 function...\")\n",
    "    \n",
    "    # Fine tune selected_features\n",
    "    if add_countvec:\n",
    "        if 'txt' in selected_features.keys():\n",
    "            if \"reviewText_2\" not in selected_features['txt']:\n",
    "                selected_features['txt'].append('reviewText_2')\n",
    "    if vocab:\n",
    "        if 'txt' in selected_features.keys():\n",
    "            if \"reviewText_3\" not in selected_features['txt']:\n",
    "                selected_features['txt'].append('reviewText_3')\n",
    "    print(f\"\\nSelected features: {selected_features}\")\n",
    "\n",
    "    \n",
    "    \n",
    "    # Build Pipeline\n",
    "    pipe = build_pipeline(selected_model, selected_features, param_grid=param_grid, \n",
    "                          vocab=vocab, vocab_usage='tfidf', \n",
    "                          strip_accents=strip_accents, add_countvec=add_countvec)\n",
    "    print(pipe)\n",
    "\n",
    "    \n",
    "    \n",
    "    # Features list\n",
    "    features = []\n",
    "    for item in selected_features.values():\n",
    "        features.extend(item)\n",
    " \n",
    "\n",
    "    # Merge and preprocess train and movies data  \n",
    "    merged = select_features(load_csv(\"train\"), load_csv(\"movies\"), row_thresh_null=None)    # Decide if you want to drop any rows containing lot of nulls\n",
    "    # Impute missing numerical values  \n",
    "    # Simple Imputer for ['audienceScore', 'runtimeMinutes', 'boxOffice'] and 'releaseDate' columns\n",
    "    si = SimpleImputer(strategy='median')\n",
    "    merged[['audienceScore', 'runtimeMinutes', 'boxOffice']] = si.fit_transform(merged[['audienceScore', 'runtimeMinutes', 'boxOffice']])\n",
    "    merged['releaseDate'] = merged[\"releaseDate\"].fillna(merged[\"releaseDate\"].median())    \n",
    "    # Add new columns as needed  \n",
    "    if add_countvec:\n",
    "        merged['reviewText_2'] = merged['reviewText']\n",
    "    if vocab:\n",
    "        merged['reviewText_3'] = merged['reviewText']\n",
    "        \n",
    "    X_train = merged.drop(labels=\"sentiment\", axis=1)\n",
    "    y_train = merged[\"sentiment\"]\n",
    "\n",
    "    X_train = X_train[features]\n",
    "    \n",
    "    \n",
    "    # Check1\n",
    "    print(\"\\nCheck 1 complete.\")\n",
    "    print(f\"Shape of X_train: {X_train.shape}\")\n",
    "    print(f\"Features in X_train: {X_train.columns}\")\n",
    "#     print(X_train.head())\n",
    "    \n",
    "    \n",
    "    # Fit \n",
    "    print(\"\\nTraining started with full pipeline...\")\n",
    "    pipe.fit(X_train, y_train)\n",
    "    \n",
    "    # Check2\n",
    "    print(\"\\nCheck 2 complete.\")\n",
    "    print(\"Details of the best model using full pipeline (GridSearchCV) on X_train: \")\n",
    "    print(f\"Best Params: {pipe.best_params_}\")\n",
    "    print(f\"Best Score: {pipe.best_score_}\")\n",
    "    \n",
    "    print(predict_on_missing_review_data(pipe, features, merged))    # Function defined above\n",
    "    \n",
    "        \n",
    "    # Predict on test.csv file\n",
    "    \n",
    "    # Merge and preprocess test and movies data  \n",
    "    merged_test = select_features(load_csv(\"test\"), load_csv(\"movies\"))\n",
    "    # Transform ['audienceScore', 'runtimeMinutes', 'boxOffice'] columns in merged_test using 'si' fitted on 'merged' df  \n",
    "    merged_test[['audienceScore', 'runtimeMinutes', 'boxOffice']] = si.transform(merged_test[['audienceScore', 'runtimeMinutes', 'boxOffice']])\n",
    "    # Fill 'releaseDate' column in 'merged_test' df with median from the train (merged) df  \n",
    "    merged_test['releaseDate'] = merged_test[\"releaseDate\"].fillna(merged[\"releaseDate\"].median())\n",
    "    # Add new columns as needed \n",
    "    if add_countvec:\n",
    "        merged_test['reviewText_2'] = merged_test['reviewText']\n",
    "    if vocab:\n",
    "        merged_test['reviewText_3'] = merged_test['reviewText']\n",
    "        \n",
    "    X_test = merged_test.copy()\n",
    "\n",
    "    X_test = X_test[features]\n",
    "    \n",
    "    \n",
    "    # Check3\n",
    "    print(\"\\nCheck 3 complete.\")\n",
    "    print(f\"Shape of X_test: {X_test.shape}\")\n",
    "    print(f\"Features in X_test: {X_test.columns}\")\n",
    "#     print(X_test.head())\n",
    "    \n",
    "    y_pred = pipe.predict(X_test)\n",
    "    \n",
    "    # Check4\n",
    "    print(\"\\nCheck 4 complete.\")\n",
    "#     cv_results_df = pd.DataFrame(pipe.cv_results_)\n",
    "    print(\"Details of the best model using full pipeline (GridSearchCV) on X_train: \")\n",
    "    print(f\"Best Estimator: {pipe.best_estimator_}\")\n",
    "    print(f\"Best Params: {pipe.best_params_}\")\n",
    "    print(f\"Best Score: {pipe.best_score_}\")\n",
    "    print(f\"Best Index: {pipe.best_index_}\")\n",
    "    print(f\"Refit Time: {pipe.refit_time_}\")\n",
    "#     print(f\"Shape of CV results dataframe: {cv_results_df.shape}\")\n",
    "    \n",
    "    pred_df = pd.DataFrame(y_pred)\n",
    "    pred_df.columns = [\"sentiment\"]\n",
    "    pred_df.index.name = \"id\"\n",
    "    pred_df.to_csv(\"submission.csv\")\n",
    "    \n",
    "    print(\"\\nSuccessfully created the submission file!!!\")\n",
    "    \n",
    "    return pipe.cv_results_"
   ]
  },
  {
   "cell_type": "code",
   "execution_count": 125,
   "id": "340c6aa7",
   "metadata": {
    "execution": {
     "iopub.execute_input": "2023-08-11T21:07:18.322557Z",
     "iopub.status.busy": "2023-08-11T21:07:18.322165Z",
     "iopub.status.idle": "2023-08-11T21:07:18.327873Z",
     "shell.execute_reply": "2023-08-11T21:07:18.327145Z"
    },
    "papermill": {
     "duration": 0.073399,
     "end_time": "2023-08-11T21:07:18.329385",
     "exception": false,
     "start_time": "2023-08-11T21:07:18.255986",
     "status": "completed"
    },
    "tags": []
   },
   "outputs": [
    {
     "data": {
      "text/plain": [
       "Index(['movieid', 'reviewerName', 'isFrequentReviewer', 'reviewText',\n",
       "       'sentiment', 'title', 'audienceScore', 'rating', 'ratingContents',\n",
       "       'releaseDateTheaters', 'releaseDateStreaming', 'runtimeMinutes',\n",
       "       'genre', 'originalLanguage', 'director', 'boxOffice', 'distributor',\n",
       "       'soundType', 'reviewYN', 'reviewWC', 'genreSorted', 'rcSorted',\n",
       "       'releaseDate', 'releaseYear', 'releaseMonth', 'releaseDiff',\n",
       "       'audScoreBins', 'runtimeBins', 'boxOfficeBins', 'releaseDiffBins'],\n",
       "      dtype='object')"
      ]
     },
     "execution_count": 125,
     "metadata": {},
     "output_type": "execute_result"
    }
   ],
   "source": [
    "merged.columns"
   ]
  },
  {
   "cell_type": "code",
   "execution_count": 126,
   "id": "161a3e12",
   "metadata": {
    "execution": {
     "iopub.execute_input": "2023-08-11T21:07:18.467282Z",
     "iopub.status.busy": "2023-08-11T21:07:18.466930Z",
     "iopub.status.idle": "2023-08-11T21:07:18.474945Z",
     "shell.execute_reply": "2023-08-11T21:07:18.473980Z"
    },
    "papermill": {
     "duration": 0.079629,
     "end_time": "2023-08-11T21:07:18.476605",
     "exception": false,
     "start_time": "2023-08-11T21:07:18.396976",
     "status": "completed"
    },
    "tags": []
   },
   "outputs": [],
   "source": [
    "# Best #2\n",
    "v80_dict = {'cat': ['isFrequentReviewer', 'audScoreBins', 'boxOfficeBins'], \n",
    "                  'txt': ['reviewText', 'reviewerName', 'movieid', 'genre', 'director', \n",
    "                          'ratingContents', 'distributor']}\n",
    "# Best #1\n",
    "v88_dict = {'cat': ['isFrequentReviewer', 'audScoreBins', 'boxOfficeBins'],\n",
    "            'num': ['releaseDiff'],\n",
    "            'txt': ['reviewText', 'reviewerName', 'movieid', 'genre', 'director', \n",
    "                         'ratingContents', 'distributor']}\n",
    "\n",
    "v92_dict = {'cat': ['isFrequentReviewer', 'audScoreBins', 'boxOfficeBins', 'releaseDiffBins'],\n",
    "            'txt': ['reviewText', 'reviewerName', 'title', 'genre', 'director', \n",
    "                         'ratingContents', 'distributor']}\n",
    "\n",
    "# Best univariable datapoints dict\n",
    "best_uni_dict = {'cat': [\"isFrequentReviewer\", \"audScoreBins\"],\n",
    "                 'txt': ['reviewText','movieid', 'director', \"ratingContents\"]}\n",
    "\n",
    "# param_grids for LogisticRegression  \n",
    "\n",
    "# Best #1  \n",
    "# param_grid = {\n",
    "#     'model__C' : [1],\n",
    "#     'model__solver': ['saga'],\n",
    "#     \"model__fit_intercept\" : [True],\n",
    "#     \"model__dual\" : [False]\n",
    "#     }\n",
    "\n",
    "# working\n",
    "param_grid = {\n",
    "    'model__C' : [1],\n",
    "    'model__solver': ['saga'],\n",
    "    \"model__fit_intercept\" : [True],\n",
    "    \"model__dual\" : [False],\n",
    "#     \"model__class_weight\": ['balanced', None]\n",
    "}\n",
    "\n",
    "\n",
    "# param_grids for LinearSVC  \n",
    "\n",
    "# param_grid = {\n",
    "#     'model__C' : [1, 10, 20],\n",
    "#     'model__loss': ['hinge', 'squared_hinge'],\n",
    "#     \"model__fit_intercept\" : [True, False],\n",
    "# #     \"model__dual\" : [True, False] \n",
    "# }\n",
    "\n",
    "svm = LinearSVC(max_iter=10000, random_state=42)    # LinearSVC\n",
    "\n",
    "\n",
    "# Local testing\n",
    "# selected_mov = {'num': ['audienceScore', 'boxOffice', 'releaseDiff'], \n",
    "#                 'txt': ['movieid', 'genre', 'director', \n",
    "#                          'ratingContents', 'distributor']}\n",
    "# results = submit_v4(\n",
    "#             selected_features={'num': ['boxOffice']},\n",
    "#             add_countvec=False,\n",
    "#             vocab=None,\n",
    "#             vocab_usage='tfidf',\n",
    "#             param_grid=param_grid\n",
    "#          )\n",
    "\n",
    "# results = submit_v4(selected_model = DummyClassifier(strategy='constant', constant='NEGATIVE'),\n",
    "#             selected_features={'num': ['boxOffice']},\n",
    "#             add_countvec=False,\n",
    "#             vocab=None,\n",
    "#             vocab_usage='tfidf',\n",
    "#             param_grid={'model__strategy' : ['constant']}\n",
    "#          )\n",
    "\n",
    "# Main submission\n",
    "\n",
    "# results = submit_v4(\n",
    "#     selected_features=v88_dict,\n",
    "#     add_countvec=False,\n",
    "#     vocab=common_1_2_3_grams,\n",
    "#     vocab_usage='tfidf',\n",
    "#     param_grid=param_grid\n",
    "#     )\n",
    "\n",
    "# results"
   ]
  },
  {
   "cell_type": "markdown",
   "id": "66bf25d5",
   "metadata": {
    "papermill": {
     "duration": 0.066499,
     "end_time": "2023-08-11T21:07:18.609734",
     "exception": false,
     "start_time": "2023-08-11T21:07:18.543235",
     "status": "completed"
    },
    "tags": []
   },
   "source": [
    "### ratingContents analysis  "
   ]
  },
  {
   "cell_type": "code",
   "execution_count": 127,
   "id": "90be3c00",
   "metadata": {
    "execution": {
     "iopub.execute_input": "2023-08-11T21:07:18.743031Z",
     "iopub.status.busy": "2023-08-11T21:07:18.742669Z",
     "iopub.status.idle": "2023-08-11T21:07:18.746242Z",
     "shell.execute_reply": "2023-08-11T21:07:18.745384Z"
    },
    "papermill": {
     "duration": 0.07198,
     "end_time": "2023-08-11T21:07:18.747922",
     "exception": false,
     "start_time": "2023-08-11T21:07:18.675942",
     "status": "completed"
    },
    "tags": []
   },
   "outputs": [],
   "source": [
    "# Try string split  \n",
    "# s = \"comedy, animation, adventure, fantasy\"\n",
    "# (\",\").join(sorted(s.split(\", \")))"
   ]
  },
  {
   "cell_type": "code",
   "execution_count": 128,
   "id": "4f7a5812",
   "metadata": {
    "execution": {
     "iopub.execute_input": "2023-08-11T21:07:18.883788Z",
     "iopub.status.busy": "2023-08-11T21:07:18.883333Z",
     "iopub.status.idle": "2023-08-11T21:07:18.887967Z",
     "shell.execute_reply": "2023-08-11T21:07:18.886981Z"
    },
    "papermill": {
     "duration": 0.075259,
     "end_time": "2023-08-11T21:07:18.889723",
     "exception": false,
     "start_time": "2023-08-11T21:07:18.814464",
     "status": "completed"
    },
    "tags": []
   },
   "outputs": [],
   "source": [
    "# ratingContents_analysis = merged[[\"ratingContents\", \"sentiment\"]].copy()\n",
    "# print(ratingContents_analysis.head())\n",
    "# ratingContents_analysis[\"rcSorted\"] = ratingContents_analysis[\"ratingContents\"].apply(lambda x: (\",\").join(sorted(x.strip(\"][\").split(\", \"))))\n",
    "# ratingContents_analysis[\"rcSorted\"] = ratingContents_analysis[\"rcSorted\"].apply(lambda x: re.sub(r\"'\", \"\", x))\n",
    "# ratingContents_analysis[\"rcSorted\"] = ratingContents_analysis[\"rcSorted\"].apply(lambda x: re.sub(r\"[/\\s]\", \"_\", x))\n",
    "# ratingContents_analysis.head(10)"
   ]
  },
  {
   "cell_type": "code",
   "execution_count": 129,
   "id": "64d5e30b",
   "metadata": {
    "execution": {
     "iopub.execute_input": "2023-08-11T21:07:19.025235Z",
     "iopub.status.busy": "2023-08-11T21:07:19.024878Z",
     "iopub.status.idle": "2023-08-11T21:07:19.028563Z",
     "shell.execute_reply": "2023-08-11T21:07:19.027724Z"
    },
    "papermill": {
     "duration": 0.074592,
     "end_time": "2023-08-11T21:07:19.030731",
     "exception": false,
     "start_time": "2023-08-11T21:07:18.956139",
     "status": "completed"
    },
    "tags": []
   },
   "outputs": [],
   "source": [
    "# cvec_rc = CountVectorizer(ngram_range=(1,1))\n",
    "# cvec_rc.fit(ratingContents_analysis['rcSorted'])\n",
    "# # len(cvec_rc.vocabulary_), cvec_rc.vocabulary_"
   ]
  },
  {
   "cell_type": "code",
   "execution_count": 130,
   "id": "02a104e3",
   "metadata": {
    "execution": {
     "iopub.execute_input": "2023-08-11T21:07:19.236177Z",
     "iopub.status.busy": "2023-08-11T21:07:19.235828Z",
     "iopub.status.idle": "2023-08-11T21:07:19.240166Z",
     "shell.execute_reply": "2023-08-11T21:07:19.239424Z"
    },
    "papermill": {
     "duration": 0.080318,
     "end_time": "2023-08-11T21:07:19.241682",
     "exception": false,
     "start_time": "2023-08-11T21:07:19.161364",
     "status": "completed"
    },
    "tags": []
   },
   "outputs": [],
   "source": [
    "# genre_testing = cvec_g.transform(merged[\"genre\"])\n",
    "# print(genre_testing)"
   ]
  },
  {
   "cell_type": "markdown",
   "id": "f052fe52",
   "metadata": {
    "papermill": {
     "duration": 0.0654,
     "end_time": "2023-08-11T21:07:19.372375",
     "exception": false,
     "start_time": "2023-08-11T21:07:19.306975",
     "status": "completed"
    },
    "tags": []
   },
   "source": [
    "## Statistical tests  "
   ]
  },
  {
   "cell_type": "markdown",
   "id": "e8e385b5",
   "metadata": {
    "papermill": {
     "duration": 0.06708,
     "end_time": "2023-08-11T21:07:19.506541",
     "exception": false,
     "start_time": "2023-08-11T21:07:19.439461",
     "status": "completed"
    },
    "tags": []
   },
   "source": [
    "[Go to genre](#genre_analysis)"
   ]
  },
  {
   "cell_type": "code",
   "execution_count": 131,
   "id": "810b608e",
   "metadata": {
    "execution": {
     "iopub.execute_input": "2023-08-11T21:07:19.645373Z",
     "iopub.status.busy": "2023-08-11T21:07:19.645041Z",
     "iopub.status.idle": "2023-08-11T21:07:19.648686Z",
     "shell.execute_reply": "2023-08-11T21:07:19.647670Z"
    },
    "papermill": {
     "duration": 0.074324,
     "end_time": "2023-08-11T21:07:19.650340",
     "exception": false,
     "start_time": "2023-08-11T21:07:19.576016",
     "status": "completed"
    },
    "tags": []
   },
   "outputs": [],
   "source": [
    "# print(merged['boxOffice'].head())\n",
    "# merged[\"boxOffice\"].describe()"
   ]
  },
  {
   "cell_type": "code",
   "execution_count": 132,
   "id": "8d4e4777",
   "metadata": {
    "execution": {
     "iopub.execute_input": "2023-08-11T21:07:19.787498Z",
     "iopub.status.busy": "2023-08-11T21:07:19.787105Z",
     "iopub.status.idle": "2023-08-11T21:07:19.791485Z",
     "shell.execute_reply": "2023-08-11T21:07:19.790454Z"
    },
    "papermill": {
     "duration": 0.075705,
     "end_time": "2023-08-11T21:07:19.793737",
     "exception": false,
     "start_time": "2023-08-11T21:07:19.718032",
     "status": "completed"
    },
    "tags": []
   },
   "outputs": [],
   "source": [
    "# Function for independent samples t-test on numerical columns  \n",
    "# def ttest_ind(feature):\n",
    "#     pos_grp = merged[feature].loc[merged['sentiment'] == \"POSITIVE\"]\n",
    "#     neg_grp = merged[feature].loc[merged['sentiment'] == \"NEGATIVE\"]\n",
    "\n",
    "#     print(pos_grp.shape, neg_grp.shape)\n",
    "#     print(pos_grp.describe(), neg_grp.describe())\n",
    "\n",
    "#     return stats.ttest_ind(pos_grp, neg_grp)"
   ]
  },
  {
   "cell_type": "code",
   "execution_count": 133,
   "id": "3e9a35b3",
   "metadata": {
    "execution": {
     "iopub.execute_input": "2023-08-11T21:07:19.929233Z",
     "iopub.status.busy": "2023-08-11T21:07:19.928864Z",
     "iopub.status.idle": "2023-08-11T21:07:19.934068Z",
     "shell.execute_reply": "2023-08-11T21:07:19.932641Z"
    },
    "papermill": {
     "duration": 0.076111,
     "end_time": "2023-08-11T21:07:19.936106",
     "exception": false,
     "start_time": "2023-08-11T21:07:19.859995",
     "status": "completed"
    },
    "tags": []
   },
   "outputs": [],
   "source": [
    "# ttest_ind('boxOffice')"
   ]
  },
  {
   "cell_type": "code",
   "execution_count": 134,
   "id": "028e1a45",
   "metadata": {
    "execution": {
     "iopub.execute_input": "2023-08-11T21:07:20.070879Z",
     "iopub.status.busy": "2023-08-11T21:07:20.070526Z",
     "iopub.status.idle": "2023-08-11T21:07:20.075192Z",
     "shell.execute_reply": "2023-08-11T21:07:20.074254Z"
    },
    "papermill": {
     "duration": 0.074075,
     "end_time": "2023-08-11T21:07:20.077006",
     "exception": false,
     "start_time": "2023-08-11T21:07:20.002931",
     "status": "completed"
    },
    "tags": []
   },
   "outputs": [],
   "source": [
    "# ttest_ind('runtimeMinutes')"
   ]
  },
  {
   "cell_type": "code",
   "execution_count": 135,
   "id": "8af02439",
   "metadata": {
    "execution": {
     "iopub.execute_input": "2023-08-11T21:07:20.212311Z",
     "iopub.status.busy": "2023-08-11T21:07:20.211969Z",
     "iopub.status.idle": "2023-08-11T21:07:20.216820Z",
     "shell.execute_reply": "2023-08-11T21:07:20.215807Z"
    },
    "papermill": {
     "duration": 0.075793,
     "end_time": "2023-08-11T21:07:20.218645",
     "exception": false,
     "start_time": "2023-08-11T21:07:20.142852",
     "status": "completed"
    },
    "tags": []
   },
   "outputs": [],
   "source": [
    "# ttest_ind('audienceScore')"
   ]
  },
  {
   "cell_type": "code",
   "execution_count": 136,
   "id": "6cb4a0c5",
   "metadata": {
    "execution": {
     "iopub.execute_input": "2023-08-11T21:07:20.355552Z",
     "iopub.status.busy": "2023-08-11T21:07:20.355175Z",
     "iopub.status.idle": "2023-08-11T21:07:20.358962Z",
     "shell.execute_reply": "2023-08-11T21:07:20.358164Z"
    },
    "papermill": {
     "duration": 0.074208,
     "end_time": "2023-08-11T21:07:20.360744",
     "exception": false,
     "start_time": "2023-08-11T21:07:20.286536",
     "status": "completed"
    },
    "tags": []
   },
   "outputs": [],
   "source": [
    "# sns.boxplot(x=merged['sentiment'], y=merged['boxOffice'])"
   ]
  },
  {
   "cell_type": "markdown",
   "id": "1090f14e",
   "metadata": {
    "papermill": {
     "duration": 0.067662,
     "end_time": "2023-08-11T21:07:20.496153",
     "exception": false,
     "start_time": "2023-08-11T21:07:20.428491",
     "status": "completed"
    },
    "tags": []
   },
   "source": [
    "## <div id='genre_analysis'>Genre analysis</div>"
   ]
  },
  {
   "cell_type": "code",
   "execution_count": 137,
   "id": "395d2e72",
   "metadata": {
    "execution": {
     "iopub.execute_input": "2023-08-11T21:07:20.635596Z",
     "iopub.status.busy": "2023-08-11T21:07:20.635223Z",
     "iopub.status.idle": "2023-08-11T21:07:20.639504Z",
     "shell.execute_reply": "2023-08-11T21:07:20.638457Z"
    },
    "papermill": {
     "duration": 0.077416,
     "end_time": "2023-08-11T21:07:20.641802",
     "exception": false,
     "start_time": "2023-08-11T21:07:20.564386",
     "status": "completed"
    },
    "tags": []
   },
   "outputs": [],
   "source": [
    "# genre_analysis = merged[[\"genre\", \"genreSorted\", \"sentiment\"]].copy()\n",
    "# # print(genre_analysis.head())\n",
    "# # genre_analysis[\"genre\"] = genre_analysis[\"genre\"].apply(lambda x: (\",\").join(sorted(x.split(\", \"))))\n",
    "# genre_analysis.head()"
   ]
  },
  {
   "cell_type": "code",
   "execution_count": 138,
   "id": "11c0122f",
   "metadata": {
    "execution": {
     "iopub.execute_input": "2023-08-11T21:07:20.776691Z",
     "iopub.status.busy": "2023-08-11T21:07:20.776045Z",
     "iopub.status.idle": "2023-08-11T21:07:20.779313Z",
     "shell.execute_reply": "2023-08-11T21:07:20.778730Z"
    },
    "papermill": {
     "duration": 0.072728,
     "end_time": "2023-08-11T21:07:20.780989",
     "exception": false,
     "start_time": "2023-08-11T21:07:20.708261",
     "status": "completed"
    },
    "tags": []
   },
   "outputs": [],
   "source": [
    "# cvec_g = CountVectorizer(ngram_range=(1,3))\n",
    "# cvec_g.fit(genre_analysis['genre'])\n",
    "# # len(cvec_g.vocabulary_), cvec_g.vocabulary_"
   ]
  },
  {
   "cell_type": "code",
   "execution_count": 139,
   "id": "9d3a8dce",
   "metadata": {
    "execution": {
     "iopub.execute_input": "2023-08-11T21:07:20.917952Z",
     "iopub.status.busy": "2023-08-11T21:07:20.916915Z",
     "iopub.status.idle": "2023-08-11T21:07:20.921205Z",
     "shell.execute_reply": "2023-08-11T21:07:20.920600Z"
    },
    "papermill": {
     "duration": 0.074395,
     "end_time": "2023-08-11T21:07:20.922912",
     "exception": false,
     "start_time": "2023-08-11T21:07:20.848517",
     "status": "completed"
    },
    "tags": []
   },
   "outputs": [],
   "source": [
    "# cvec_gSorted = CountVectorizer(ngram_range=(1,3))\n",
    "# cvec_gSorted.fit(genre_analysis['genreSorted'])\n",
    "# len(cvec_gSorted.vocabulary_), cvec_gSorted.vocabulary_"
   ]
  },
  {
   "cell_type": "code",
   "execution_count": 140,
   "id": "ed5e3127",
   "metadata": {
    "execution": {
     "iopub.execute_input": "2023-08-11T21:07:21.059035Z",
     "iopub.status.busy": "2023-08-11T21:07:21.057234Z",
     "iopub.status.idle": "2023-08-11T21:07:21.062166Z",
     "shell.execute_reply": "2023-08-11T21:07:21.061427Z"
    },
    "papermill": {
     "duration": 0.074566,
     "end_time": "2023-08-11T21:07:21.063811",
     "exception": false,
     "start_time": "2023-08-11T21:07:20.989245",
     "status": "completed"
    },
    "tags": []
   },
   "outputs": [],
   "source": [
    "# genre_testing = cvec_g.transform(merged[\"genre\"])\n",
    "# # print(genre_testing)"
   ]
  },
  {
   "cell_type": "code",
   "execution_count": 141,
   "id": "e895ea2f",
   "metadata": {
    "execution": {
     "iopub.execute_input": "2023-08-11T21:07:21.198984Z",
     "iopub.status.busy": "2023-08-11T21:07:21.198394Z",
     "iopub.status.idle": "2023-08-11T21:07:21.202000Z",
     "shell.execute_reply": "2023-08-11T21:07:21.201105Z"
    },
    "papermill": {
     "duration": 0.073833,
     "end_time": "2023-08-11T21:07:21.203814",
     "exception": false,
     "start_time": "2023-08-11T21:07:21.129981",
     "status": "completed"
    },
    "tags": []
   },
   "outputs": [],
   "source": [
    "# genre_counts_testing = merged[[\"genre\", \"sentiment\"]].copy()\n",
    "# genre_counts_testing[\"gCount\"] = genre_counts_testing.apply(lambda x: len(str(x[\"genre\"]).split()), axis=1)\n",
    "# genre_counts_testing"
   ]
  },
  {
   "cell_type": "code",
   "execution_count": 142,
   "id": "b2012262",
   "metadata": {
    "execution": {
     "iopub.execute_input": "2023-08-11T21:07:21.338974Z",
     "iopub.status.busy": "2023-08-11T21:07:21.338596Z",
     "iopub.status.idle": "2023-08-11T21:07:21.342441Z",
     "shell.execute_reply": "2023-08-11T21:07:21.341577Z"
    },
    "papermill": {
     "duration": 0.073341,
     "end_time": "2023-08-11T21:07:21.344171",
     "exception": false,
     "start_time": "2023-08-11T21:07:21.270830",
     "status": "completed"
    },
    "tags": []
   },
   "outputs": [],
   "source": [
    "# sns.boxplot(y=genre_counts_testing[\"gCount\"], x=genre_counts_testing[\"sentiment\"])"
   ]
  },
  {
   "cell_type": "code",
   "execution_count": 143,
   "id": "ab5ce4b5",
   "metadata": {
    "execution": {
     "iopub.execute_input": "2023-08-11T21:07:21.479679Z",
     "iopub.status.busy": "2023-08-11T21:07:21.479334Z",
     "iopub.status.idle": "2023-08-11T21:07:21.482983Z",
     "shell.execute_reply": "2023-08-11T21:07:21.482125Z"
    },
    "papermill": {
     "duration": 0.074206,
     "end_time": "2023-08-11T21:07:21.484543",
     "exception": false,
     "start_time": "2023-08-11T21:07:21.410337",
     "status": "completed"
    },
    "tags": []
   },
   "outputs": [],
   "source": [
    "# sns.boxplot(y=merged[\"reviewWC\"], x=merged[\"sentiment\"])"
   ]
  },
  {
   "cell_type": "code",
   "execution_count": 144,
   "id": "d13df35a",
   "metadata": {
    "execution": {
     "iopub.execute_input": "2023-08-11T21:07:21.620586Z",
     "iopub.status.busy": "2023-08-11T21:07:21.620133Z",
     "iopub.status.idle": "2023-08-11T21:07:21.624380Z",
     "shell.execute_reply": "2023-08-11T21:07:21.623588Z"
    },
    "papermill": {
     "duration": 0.074005,
     "end_time": "2023-08-11T21:07:21.626154",
     "exception": false,
     "start_time": "2023-08-11T21:07:21.552149",
     "status": "completed"
    },
    "tags": []
   },
   "outputs": [],
   "source": [
    "# audienceScore bins\n",
    "# asc = merged[['audienceScore', 'sentiment']].copy()\n",
    "# asc.head()"
   ]
  },
  {
   "cell_type": "code",
   "execution_count": 145,
   "id": "b05fae2c",
   "metadata": {
    "execution": {
     "iopub.execute_input": "2023-08-11T21:07:21.759875Z",
     "iopub.status.busy": "2023-08-11T21:07:21.759500Z",
     "iopub.status.idle": "2023-08-11T21:07:21.763369Z",
     "shell.execute_reply": "2023-08-11T21:07:21.762567Z"
    },
    "papermill": {
     "duration": 0.072317,
     "end_time": "2023-08-11T21:07:21.764963",
     "exception": false,
     "start_time": "2023-08-11T21:07:21.692646",
     "status": "completed"
    },
    "tags": []
   },
   "outputs": [],
   "source": [
    "# Binning numerical features  \n",
    "\n",
    "# print(merged[\"runtimeBins\"].value_counts())\n",
    "# sns.displot(merged[\"runtimeBins\"])"
   ]
  },
  {
   "cell_type": "code",
   "execution_count": 146,
   "id": "41384532",
   "metadata": {
    "execution": {
     "iopub.execute_input": "2023-08-11T21:07:21.901979Z",
     "iopub.status.busy": "2023-08-11T21:07:21.901598Z",
     "iopub.status.idle": "2023-08-11T21:07:21.905498Z",
     "shell.execute_reply": "2023-08-11T21:07:21.904594Z"
    },
    "papermill": {
     "duration": 0.075331,
     "end_time": "2023-08-11T21:07:21.907262",
     "exception": false,
     "start_time": "2023-08-11T21:07:21.831931",
     "status": "completed"
    },
    "tags": []
   },
   "outputs": [],
   "source": [
    "# Chi-square test for isFrequentReviewer column and sentiment column   \n",
    "\n",
    "# contingency_table = pd.crosstab(traindf['isFrequentReviewer'], traindf['sentiment'])\n",
    "# print(contingency_table)\n",
    "# stats.chi2_contingency(contingency_table)"
   ]
  },
  {
   "cell_type": "markdown",
   "id": "80afcfce",
   "metadata": {
    "papermill": {
     "duration": 0.06669,
     "end_time": "2023-08-11T21:07:22.042376",
     "exception": false,
     "start_time": "2023-08-11T21:07:21.975686",
     "status": "completed"
    },
    "tags": []
   },
   "source": [
    "## Baseline performance of 'reviewText' column  "
   ]
  },
  {
   "cell_type": "code",
   "execution_count": 147,
   "id": "08d08625",
   "metadata": {
    "execution": {
     "iopub.execute_input": "2023-08-11T21:07:22.178658Z",
     "iopub.status.busy": "2023-08-11T21:07:22.178294Z",
     "iopub.status.idle": "2023-08-11T21:07:22.182519Z",
     "shell.execute_reply": "2023-08-11T21:07:22.181188Z"
    },
    "papermill": {
     "duration": 0.074947,
     "end_time": "2023-08-11T21:07:22.184328",
     "exception": false,
     "start_time": "2023-08-11T21:07:22.109381",
     "status": "completed"
    },
    "tags": []
   },
   "outputs": [],
   "source": [
    "# rt_dict = {'txt': ['reviewText']}\n",
    "# rt_dict"
   ]
  },
  {
   "cell_type": "code",
   "execution_count": 148,
   "id": "f616625e",
   "metadata": {
    "execution": {
     "iopub.execute_input": "2023-08-11T21:07:22.323789Z",
     "iopub.status.busy": "2023-08-11T21:07:22.323453Z",
     "iopub.status.idle": "2023-08-11T21:07:22.328028Z",
     "shell.execute_reply": "2023-08-11T21:07:22.326575Z"
    },
    "papermill": {
     "duration": 0.076341,
     "end_time": "2023-08-11T21:07:22.329945",
     "exception": false,
     "start_time": "2023-08-11T21:07:22.253604",
     "status": "completed"
    },
    "tags": []
   },
   "outputs": [],
   "source": [
    "# submit_v4(selected_model=LogisticRegression(C=5, solver=\"saga\", max_iter=100000),\n",
    "#           selected_features=rt_dict,\n",
    "#           param_grid=None,\n",
    "#           vocab=None)"
   ]
  },
  {
   "cell_type": "markdown",
   "id": "d56f613a",
   "metadata": {
    "papermill": {
     "duration": 0.067956,
     "end_time": "2023-08-11T21:07:22.465297",
     "exception": false,
     "start_time": "2023-08-11T21:07:22.397341",
     "status": "completed"
    },
    "tags": []
   },
   "source": [
    "## RFE  "
   ]
  },
  {
   "cell_type": "code",
   "execution_count": 149,
   "id": "8bdad61f",
   "metadata": {
    "execution": {
     "iopub.execute_input": "2023-08-11T21:07:22.601257Z",
     "iopub.status.busy": "2023-08-11T21:07:22.600864Z",
     "iopub.status.idle": "2023-08-11T21:07:22.605976Z",
     "shell.execute_reply": "2023-08-11T21:07:22.604994Z"
    },
    "papermill": {
     "duration": 0.075834,
     "end_time": "2023-08-11T21:07:22.607851",
     "exception": false,
     "start_time": "2023-08-11T21:07:22.532017",
     "status": "completed"
    },
    "tags": []
   },
   "outputs": [],
   "source": [
    "# def fs_rfe(selector, text_df, labels, ngram_range=(1,1)):\n",
    "#     text_df_ngram = TfidfVectorizer(ngram_range=ngram_range, stop_words='english').fit_transform(text_df)\n",
    "#     print(\"text_df was vectorized using TF-IDF vectorizer with ngram_range: \", ngram_range)\n",
    "#     print(\"text_df.shape: \", text_df.shape)\n",
    "#     print(\"labels.shape: \", labels.shape)\n",
    "#     print(\"text_df_ngram.shape: \", text_df_ngram.shape)\n",
    "#     print()\n",
    "\n",
    "#     print(\"Starting RFE fit...\")\n",
    "#     selector.fit(text_df_ngram, labels)\n",
    "#     print(\"RFE fit complete.\\n\")\n",
    "    \n",
    "#     print(\"selector.n_features_: \", selector.n_features_)   \n",
    "#     print(\"selector.n_features_in_: \", selector.n_features_in_)\n",
    "#     print(\"selector.support_.shape: \", selector.support_.shape)\n",
    "\n",
    "#     return selector.support_"
   ]
  },
  {
   "cell_type": "markdown",
   "id": "0385164e",
   "metadata": {
    "papermill": {
     "duration": 0.065199,
     "end_time": "2023-08-11T21:07:22.740334",
     "exception": false,
     "start_time": "2023-08-11T21:07:22.675135",
     "status": "completed"
    },
    "tags": []
   },
   "source": [
    "`RFE for unigrams`  "
   ]
  },
  {
   "cell_type": "code",
   "execution_count": 150,
   "id": "5d0fa0b1",
   "metadata": {
    "execution": {
     "iopub.execute_input": "2023-08-11T21:07:22.876376Z",
     "iopub.status.busy": "2023-08-11T21:07:22.875978Z",
     "iopub.status.idle": "2023-08-11T21:07:22.881578Z",
     "shell.execute_reply": "2023-08-11T21:07:22.880098Z"
    },
    "papermill": {
     "duration": 0.077187,
     "end_time": "2023-08-11T21:07:22.884105",
     "exception": false,
     "start_time": "2023-08-11T21:07:22.806918",
     "status": "completed"
    },
    "tags": []
   },
   "outputs": [],
   "source": [
    "# estimator_rfe_1 = LogisticRegression(solver='saga', max_iter=100000)\n",
    "# selector_rfe_1 = RFE(estimator_rfe_1, step=0.1, n_features_to_select=30000)"
   ]
  },
  {
   "cell_type": "code",
   "execution_count": 151,
   "id": "d86f45ab",
   "metadata": {
    "execution": {
     "iopub.execute_input": "2023-08-11T21:07:23.019053Z",
     "iopub.status.busy": "2023-08-11T21:07:23.018679Z",
     "iopub.status.idle": "2023-08-11T21:07:23.023237Z",
     "shell.execute_reply": "2023-08-11T21:07:23.022018Z"
    },
    "papermill": {
     "duration": 0.076147,
     "end_time": "2023-08-11T21:07:23.025765",
     "exception": false,
     "start_time": "2023-08-11T21:07:22.949618",
     "status": "completed"
    },
    "tags": []
   },
   "outputs": [],
   "source": [
    "# rfe_1_feat_mask = fs_rfe(selector_rfe_1, rt_senti[\"reviewText\"], rt_senti[\"sentiment\"], ngram_range=(1,1))\n",
    "# rfe_1_feat_mask"
   ]
  },
  {
   "cell_type": "code",
   "execution_count": 152,
   "id": "029e49a8",
   "metadata": {
    "execution": {
     "iopub.execute_input": "2023-08-11T21:07:23.160078Z",
     "iopub.status.busy": "2023-08-11T21:07:23.158891Z",
     "iopub.status.idle": "2023-08-11T21:07:23.162978Z",
     "shell.execute_reply": "2023-08-11T21:07:23.162078Z"
    },
    "papermill": {
     "duration": 0.073405,
     "end_time": "2023-08-11T21:07:23.165028",
     "exception": false,
     "start_time": "2023-08-11T21:07:23.091623",
     "status": "completed"
    },
    "tags": []
   },
   "outputs": [],
   "source": [
    "# voc_1gram_rfe = list(compress(voc_1gram, rfe_1_feat_mask))\n",
    "# len(voc_1gram_rfe), voc_1gram_rfe[:10]"
   ]
  },
  {
   "cell_type": "markdown",
   "id": "3e82e7f6",
   "metadata": {
    "papermill": {
     "duration": 0.067575,
     "end_time": "2023-08-11T21:07:23.299625",
     "exception": false,
     "start_time": "2023-08-11T21:07:23.232050",
     "status": "completed"
    },
    "tags": []
   },
   "source": [
    "`RFE for bigrams`  "
   ]
  },
  {
   "cell_type": "code",
   "execution_count": 153,
   "id": "6dbb58e3",
   "metadata": {
    "execution": {
     "iopub.execute_input": "2023-08-11T21:07:23.502304Z",
     "iopub.status.busy": "2023-08-11T21:07:23.501032Z",
     "iopub.status.idle": "2023-08-11T21:07:23.506509Z",
     "shell.execute_reply": "2023-08-11T21:07:23.505503Z"
    },
    "papermill": {
     "duration": 0.077349,
     "end_time": "2023-08-11T21:07:23.508448",
     "exception": false,
     "start_time": "2023-08-11T21:07:23.431099",
     "status": "completed"
    },
    "tags": []
   },
   "outputs": [],
   "source": [
    "# estimator_rfe_2 = LogisticRegression(solver='saga', max_iter=100000)\n",
    "# selector_rfe_2 = RFE(estimator_rfe_2, step=0.1, n_features_to_select=50000)"
   ]
  },
  {
   "cell_type": "code",
   "execution_count": 154,
   "id": "7195fb6f",
   "metadata": {
    "execution": {
     "iopub.execute_input": "2023-08-11T21:07:23.643155Z",
     "iopub.status.busy": "2023-08-11T21:07:23.642835Z",
     "iopub.status.idle": "2023-08-11T21:07:23.646880Z",
     "shell.execute_reply": "2023-08-11T21:07:23.645844Z"
    },
    "papermill": {
     "duration": 0.074999,
     "end_time": "2023-08-11T21:07:23.649139",
     "exception": false,
     "start_time": "2023-08-11T21:07:23.574140",
     "status": "completed"
    },
    "tags": []
   },
   "outputs": [],
   "source": [
    "# rfe_2_feat_mask = fs_rfe(selector_rfe_2, rt_senti[\"reviewText\"], rt_senti[\"sentiment\"], ngram_range=(2,2))\n",
    "# rfe_2_feat_mask"
   ]
  },
  {
   "cell_type": "code",
   "execution_count": 155,
   "id": "20863c3d",
   "metadata": {
    "execution": {
     "iopub.execute_input": "2023-08-11T21:07:23.786151Z",
     "iopub.status.busy": "2023-08-11T21:07:23.785037Z",
     "iopub.status.idle": "2023-08-11T21:07:23.789227Z",
     "shell.execute_reply": "2023-08-11T21:07:23.788621Z"
    },
    "papermill": {
     "duration": 0.074728,
     "end_time": "2023-08-11T21:07:23.791503",
     "exception": false,
     "start_time": "2023-08-11T21:07:23.716775",
     "status": "completed"
    },
    "tags": []
   },
   "outputs": [],
   "source": [
    "# voc_2gram_rfe = list(compress(voc_2gram, rfe_2_feat_mask))\n",
    "# len(voc_2gram_rfe), voc_2gram_rfe[:10]"
   ]
  },
  {
   "cell_type": "markdown",
   "id": "24aa77a9",
   "metadata": {
    "papermill": {
     "duration": 0.067272,
     "end_time": "2023-08-11T21:07:23.927184",
     "exception": false,
     "start_time": "2023-08-11T21:07:23.859912",
     "status": "completed"
    },
    "tags": []
   },
   "source": [
    "## Final RFE-derived vocabulary  "
   ]
  },
  {
   "cell_type": "code",
   "execution_count": 156,
   "id": "4de66935",
   "metadata": {
    "execution": {
     "iopub.execute_input": "2023-08-11T21:07:24.064136Z",
     "iopub.status.busy": "2023-08-11T21:07:24.063764Z",
     "iopub.status.idle": "2023-08-11T21:07:24.067352Z",
     "shell.execute_reply": "2023-08-11T21:07:24.066571Z"
    },
    "papermill": {
     "duration": 0.07429,
     "end_time": "2023-08-11T21:07:24.069289",
     "exception": false,
     "start_time": "2023-08-11T21:07:23.994999",
     "status": "completed"
    },
    "tags": []
   },
   "outputs": [],
   "source": [
    "# rfe_vocab = voc_1gram_rfe + voc_2gram_rfe\n",
    "# len(rfe_vocab), rfe_vocab[:10], rfe_vocab[-10:]"
   ]
  },
  {
   "cell_type": "code",
   "execution_count": 157,
   "id": "cdc62ae5",
   "metadata": {
    "execution": {
     "iopub.execute_input": "2023-08-11T21:07:24.207521Z",
     "iopub.status.busy": "2023-08-11T21:07:24.206899Z",
     "iopub.status.idle": "2023-08-11T21:07:24.210472Z",
     "shell.execute_reply": "2023-08-11T21:07:24.209820Z"
    },
    "papermill": {
     "duration": 0.075324,
     "end_time": "2023-08-11T21:07:24.212287",
     "exception": false,
     "start_time": "2023-08-11T21:07:24.136963",
     "status": "completed"
    },
    "tags": []
   },
   "outputs": [],
   "source": [
    "## Test RFE obtained vocabulary in final pipeline (only with reviewText)  \n",
    "# submit_v4(selected_model=LogisticRegression(C=5, solver=\"saga\", max_iter=100000),\n",
    "#           selected_features=rt_dict,\n",
    "#           param_grid=None,\n",
    "#           vocab=rfe_vocab)"
   ]
  },
  {
   "cell_type": "markdown",
   "id": "30d0c350",
   "metadata": {
    "papermill": {
     "duration": 0.067785,
     "end_time": "2023-08-11T21:07:24.352686",
     "exception": false,
     "start_time": "2023-08-11T21:07:24.284901",
     "status": "completed"
    },
    "tags": []
   },
   "source": [
    "## Use rfe_vocab in final pipeline with all params  "
   ]
  },
  {
   "cell_type": "code",
   "execution_count": 158,
   "id": "927d57eb",
   "metadata": {
    "execution": {
     "iopub.execute_input": "2023-08-11T21:07:24.489659Z",
     "iopub.status.busy": "2023-08-11T21:07:24.489247Z",
     "iopub.status.idle": "2023-08-11T21:07:24.493724Z",
     "shell.execute_reply": "2023-08-11T21:07:24.492313Z"
    },
    "papermill": {
     "duration": 0.076939,
     "end_time": "2023-08-11T21:07:24.496193",
     "exception": false,
     "start_time": "2023-08-11T21:07:24.419254",
     "status": "completed"
    },
    "tags": []
   },
   "outputs": [],
   "source": [
    "# submit_v4(selected_model=LogisticRegression(max_iter=100000),\n",
    "#           selected_features=all_dict,\n",
    "#           param_grid=param_grid,\n",
    "#           vocab=rfe_vocab)"
   ]
  },
  {
   "cell_type": "code",
   "execution_count": 159,
   "id": "32402910",
   "metadata": {
    "execution": {
     "iopub.execute_input": "2023-08-11T21:07:24.632776Z",
     "iopub.status.busy": "2023-08-11T21:07:24.632369Z",
     "iopub.status.idle": "2023-08-11T21:07:24.643460Z",
     "shell.execute_reply": "2023-08-11T21:07:24.642345Z"
    },
    "papermill": {
     "duration": 0.081924,
     "end_time": "2023-08-11T21:07:24.645726",
     "exception": false,
     "start_time": "2023-08-11T21:07:24.563802",
     "status": "completed"
    },
    "tags": []
   },
   "outputs": [
    {
     "data": {
      "text/html": [
       "<style>#sk-container-id-1 {color: black;background-color: white;}#sk-container-id-1 pre{padding: 0;}#sk-container-id-1 div.sk-toggleable {background-color: white;}#sk-container-id-1 label.sk-toggleable__label {cursor: pointer;display: block;width: 100%;margin-bottom: 0;padding: 0.3em;box-sizing: border-box;text-align: center;}#sk-container-id-1 label.sk-toggleable__label-arrow:before {content: \"▸\";float: left;margin-right: 0.25em;color: #696969;}#sk-container-id-1 label.sk-toggleable__label-arrow:hover:before {color: black;}#sk-container-id-1 div.sk-estimator:hover label.sk-toggleable__label-arrow:before {color: black;}#sk-container-id-1 div.sk-toggleable__content {max-height: 0;max-width: 0;overflow: hidden;text-align: left;background-color: #f0f8ff;}#sk-container-id-1 div.sk-toggleable__content pre {margin: 0.2em;color: black;border-radius: 0.25em;background-color: #f0f8ff;}#sk-container-id-1 input.sk-toggleable__control:checked~div.sk-toggleable__content {max-height: 200px;max-width: 100%;overflow: auto;}#sk-container-id-1 input.sk-toggleable__control:checked~label.sk-toggleable__label-arrow:before {content: \"▾\";}#sk-container-id-1 div.sk-estimator input.sk-toggleable__control:checked~label.sk-toggleable__label {background-color: #d4ebff;}#sk-container-id-1 div.sk-label input.sk-toggleable__control:checked~label.sk-toggleable__label {background-color: #d4ebff;}#sk-container-id-1 input.sk-hidden--visually {border: 0;clip: rect(1px 1px 1px 1px);clip: rect(1px, 1px, 1px, 1px);height: 1px;margin: -1px;overflow: hidden;padding: 0;position: absolute;width: 1px;}#sk-container-id-1 div.sk-estimator {font-family: monospace;background-color: #f0f8ff;border: 1px dotted black;border-radius: 0.25em;box-sizing: border-box;margin-bottom: 0.5em;}#sk-container-id-1 div.sk-estimator:hover {background-color: #d4ebff;}#sk-container-id-1 div.sk-parallel-item::after {content: \"\";width: 100%;border-bottom: 1px solid gray;flex-grow: 1;}#sk-container-id-1 div.sk-label:hover label.sk-toggleable__label {background-color: #d4ebff;}#sk-container-id-1 div.sk-serial::before {content: \"\";position: absolute;border-left: 1px solid gray;box-sizing: border-box;top: 0;bottom: 0;left: 50%;z-index: 0;}#sk-container-id-1 div.sk-serial {display: flex;flex-direction: column;align-items: center;background-color: white;padding-right: 0.2em;padding-left: 0.2em;position: relative;}#sk-container-id-1 div.sk-item {position: relative;z-index: 1;}#sk-container-id-1 div.sk-parallel {display: flex;align-items: stretch;justify-content: center;background-color: white;position: relative;}#sk-container-id-1 div.sk-item::before, #sk-container-id-1 div.sk-parallel-item::before {content: \"\";position: absolute;border-left: 1px solid gray;box-sizing: border-box;top: 0;bottom: 0;left: 50%;z-index: -1;}#sk-container-id-1 div.sk-parallel-item {display: flex;flex-direction: column;z-index: 1;position: relative;background-color: white;}#sk-container-id-1 div.sk-parallel-item:first-child::after {align-self: flex-end;width: 50%;}#sk-container-id-1 div.sk-parallel-item:last-child::after {align-self: flex-start;width: 50%;}#sk-container-id-1 div.sk-parallel-item:only-child::after {width: 0;}#sk-container-id-1 div.sk-dashed-wrapped {border: 1px dashed gray;margin: 0 0.4em 0.5em 0.4em;box-sizing: border-box;padding-bottom: 0.4em;background-color: white;}#sk-container-id-1 div.sk-label label {font-family: monospace;font-weight: bold;display: inline-block;line-height: 1.2em;}#sk-container-id-1 div.sk-label-container {text-align: center;}#sk-container-id-1 div.sk-container {/* jupyter's `normalize.less` sets `[hidden] { display: none; }` but bootstrap.min.css set `[hidden] { display: none !important; }` so we also need the `!important` here to be able to override the default hidden behavior on the sphinx rendered scikit-learn.org. See: https://github.com/scikit-learn/scikit-learn/issues/21755 */display: inline-block !important;position: relative;}#sk-container-id-1 div.sk-text-repr-fallback {display: none;}</style><div id=\"sk-container-id-1\" class=\"sk-top-container\"><div class=\"sk-text-repr-fallback\"><pre>AdaBoostClassifier(estimator=LogisticRegression(C=5, max_iter=100000,\n",
       "                                                solver=&#x27;saga&#x27;))</pre><b>In a Jupyter environment, please rerun this cell to show the HTML representation or trust the notebook. <br />On GitHub, the HTML representation is unable to render, please try loading this page with nbviewer.org.</b></div><div class=\"sk-container\" hidden><div class=\"sk-item sk-dashed-wrapped\"><div class=\"sk-label-container\"><div class=\"sk-label sk-toggleable\"><input class=\"sk-toggleable__control sk-hidden--visually\" id=\"sk-estimator-id-1\" type=\"checkbox\" ><label for=\"sk-estimator-id-1\" class=\"sk-toggleable__label sk-toggleable__label-arrow\">AdaBoostClassifier</label><div class=\"sk-toggleable__content\"><pre>AdaBoostClassifier(estimator=LogisticRegression(C=5, max_iter=100000,\n",
       "                                                solver=&#x27;saga&#x27;))</pre></div></div></div><div class=\"sk-parallel\"><div class=\"sk-parallel-item\"><div class=\"sk-item\"><div class=\"sk-label-container\"><div class=\"sk-label sk-toggleable\"><input class=\"sk-toggleable__control sk-hidden--visually\" id=\"sk-estimator-id-2\" type=\"checkbox\" ><label for=\"sk-estimator-id-2\" class=\"sk-toggleable__label sk-toggleable__label-arrow\">estimator: LogisticRegression</label><div class=\"sk-toggleable__content\"><pre>LogisticRegression(C=5, max_iter=100000, solver=&#x27;saga&#x27;)</pre></div></div></div><div class=\"sk-serial\"><div class=\"sk-item\"><div class=\"sk-estimator sk-toggleable\"><input class=\"sk-toggleable__control sk-hidden--visually\" id=\"sk-estimator-id-3\" type=\"checkbox\" ><label for=\"sk-estimator-id-3\" class=\"sk-toggleable__label sk-toggleable__label-arrow\">LogisticRegression</label><div class=\"sk-toggleable__content\"><pre>LogisticRegression(C=5, max_iter=100000, solver=&#x27;saga&#x27;)</pre></div></div></div></div></div></div></div></div></div></div>"
      ],
      "text/plain": [
       "AdaBoostClassifier(estimator=LogisticRegression(C=5, max_iter=100000,\n",
       "                                                solver='saga'))"
      ]
     },
     "execution_count": 159,
     "metadata": {},
     "output_type": "execute_result"
    }
   ],
   "source": [
    "adc = AdaBoostClassifier(estimator=LogisticRegression(C=5, solver=\"saga\", max_iter=100000), n_estimators=50)\n",
    "adc"
   ]
  },
  {
   "cell_type": "code",
   "execution_count": 160,
   "id": "0e1a6328",
   "metadata": {
    "execution": {
     "iopub.execute_input": "2023-08-11T21:07:24.782308Z",
     "iopub.status.busy": "2023-08-11T21:07:24.781671Z",
     "iopub.status.idle": "2023-08-11T21:07:24.786119Z",
     "shell.execute_reply": "2023-08-11T21:07:24.784623Z"
    },
    "papermill": {
     "duration": 0.076061,
     "end_time": "2023-08-11T21:07:24.788832",
     "exception": false,
     "start_time": "2023-08-11T21:07:24.712771",
     "status": "completed"
    },
    "tags": []
   },
   "outputs": [],
   "source": [
    "# submit_v4(selected_model=adc,\n",
    "#           selected_features={'cat': ['isFrequentReviewer']},\n",
    "#           param_grid=None,\n",
    "#           vocab=rfe_vocab)"
   ]
  },
  {
   "cell_type": "code",
   "execution_count": 161,
   "id": "d39cc16c",
   "metadata": {
    "execution": {
     "iopub.execute_input": "2023-08-11T21:07:24.924880Z",
     "iopub.status.busy": "2023-08-11T21:07:24.924547Z",
     "iopub.status.idle": "2023-08-11T21:07:24.928281Z",
     "shell.execute_reply": "2023-08-11T21:07:24.927458Z"
    },
    "papermill": {
     "duration": 0.074465,
     "end_time": "2023-08-11T21:07:24.930350",
     "exception": false,
     "start_time": "2023-08-11T21:07:24.855885",
     "status": "completed"
    },
    "tags": []
   },
   "outputs": [],
   "source": [
    "# AdaBoost on all features with RFE vocab on reviewText\n",
    "\n",
    "# submit_v4(selected_model=adc,\n",
    "#           selected_features=all_dict,\n",
    "#           param_grid=None,\n",
    "#           vocab=rfe_vocab)"
   ]
  },
  {
   "cell_type": "code",
   "execution_count": 162,
   "id": "cb1b0ea1",
   "metadata": {
    "execution": {
     "iopub.execute_input": "2023-08-11T21:07:25.068763Z",
     "iopub.status.busy": "2023-08-11T21:07:25.068082Z",
     "iopub.status.idle": "2023-08-11T21:07:25.071975Z",
     "shell.execute_reply": "2023-08-11T21:07:25.070958Z"
    },
    "papermill": {
     "duration": 0.07534,
     "end_time": "2023-08-11T21:07:25.074396",
     "exception": false,
     "start_time": "2023-08-11T21:07:24.999056",
     "status": "completed"
    },
    "tags": []
   },
   "outputs": [],
   "source": [
    "# RandomForestClassifier test run on one feature\n",
    "\n",
    "# rfc_2 = RandomForestClassifier()\n",
    "# rfc_2"
   ]
  },
  {
   "cell_type": "code",
   "execution_count": 163,
   "id": "1f5a3d99",
   "metadata": {
    "execution": {
     "iopub.execute_input": "2023-08-11T21:07:25.212877Z",
     "iopub.status.busy": "2023-08-11T21:07:25.212538Z",
     "iopub.status.idle": "2023-08-11T21:07:25.217230Z",
     "shell.execute_reply": "2023-08-11T21:07:25.215581Z"
    },
    "papermill": {
     "duration": 0.076576,
     "end_time": "2023-08-11T21:07:25.219682",
     "exception": false,
     "start_time": "2023-08-11T21:07:25.143106",
     "status": "completed"
    },
    "tags": []
   },
   "outputs": [],
   "source": [
    "# submit_v4(selected_model=rfc_2,\n",
    "#           selected_features={'txt': ['reviewerName']},\n",
    "#           param_grid=None,\n",
    "#           vocab=rfe_vocab)"
   ]
  },
  {
   "cell_type": "code",
   "execution_count": 164,
   "id": "48dad8b0",
   "metadata": {
    "execution": {
     "iopub.execute_input": "2023-08-11T21:07:25.358051Z",
     "iopub.status.busy": "2023-08-11T21:07:25.357694Z",
     "iopub.status.idle": "2023-08-11T21:07:25.362020Z",
     "shell.execute_reply": "2023-08-11T21:07:25.360606Z"
    },
    "papermill": {
     "duration": 0.075611,
     "end_time": "2023-08-11T21:07:25.363860",
     "exception": false,
     "start_time": "2023-08-11T21:07:25.288249",
     "status": "completed"
    },
    "tags": []
   },
   "outputs": [],
   "source": [
    "# RandomForestClassifier on all features with RFE vocab on reviewText\n",
    "\n",
    "# submit_v4(selected_model=rfc_2,\n",
    "#           selected_features=all_dict,\n",
    "#           param_grid=None,\n",
    "#           vocab=rfe_vocab)"
   ]
  },
  {
   "cell_type": "markdown",
   "id": "60863932",
   "metadata": {
    "papermill": {
     "duration": 0.067931,
     "end_time": "2023-08-11T21:07:25.498760",
     "exception": false,
     "start_time": "2023-08-11T21:07:25.430829",
     "status": "completed"
    },
    "tags": []
   },
   "source": [
    "## Submit_v2 for merged file models  "
   ]
  },
  {
   "cell_type": "code",
   "execution_count": 165,
   "id": "4ba0c116",
   "metadata": {
    "execution": {
     "iopub.execute_input": "2023-08-11T21:07:25.636075Z",
     "iopub.status.busy": "2023-08-11T21:07:25.635189Z",
     "iopub.status.idle": "2023-08-11T21:07:25.640169Z",
     "shell.execute_reply": "2023-08-11T21:07:25.639454Z"
    },
    "papermill": {
     "duration": 0.076102,
     "end_time": "2023-08-11T21:07:25.642279",
     "exception": false,
     "start_time": "2023-08-11T21:07:25.566177",
     "status": "completed"
    },
    "tags": []
   },
   "outputs": [],
   "source": [
    "# def submit_v2(selected_model=pipe_final, selected_features=None):\n",
    "#     '''\n",
    "#     Note that \"selected_preprocessor\" is already used within selected_model or pipeline\n",
    "#     '''\n",
    "#     # Retrain on the whole train.csv file  \n",
    "#     merged = select_features(load_csv(\"train\"), load_csv(\"movies\"))\n",
    "#     X_train = merged.drop(labels=\"sentiment\", axis=1)\n",
    "#     y_train = merged[\"sentiment\"]\n",
    "    \n",
    "#     #Use selected features\n",
    "#     if selected_features:\n",
    "#         X_train = X_train[selected_features]\n",
    "    \n",
    "#     # Check1\n",
    "#     print(X_train.shape)\n",
    "#     print(X_train.head())\n",
    "#     try:\n",
    "#         print(selected_model.named_steps['model'].intercept_, selected_model.named_steps['model'].coef_)\n",
    "#     except:\n",
    "#         print(\"Model not trained yet!\")\n",
    "    \n",
    "#     # Fit \n",
    "#     selected_model.fit(X_train, y_train)\n",
    "    \n",
    "#     # Check2\n",
    "#     print(selected_model.named_steps['model'].intercept_, selected_model.named_steps['model'].coef_)\n",
    "    \n",
    "#     # Predict on test.csv file\n",
    "#     merged_test = select_features(load_csv(\"test\"), load_csv(\"movies\"))\n",
    "#     X_test = merged_test.copy()\n",
    "#     if selected_features:\n",
    "#         X_test = X_test[selected_features]\n",
    "    \n",
    "#     # Check3\n",
    "#     print(X_test.shape)\n",
    "#     print(X_test.head())\n",
    "    \n",
    "#     y_pred = selected_model.predict(X_test)\n",
    "    \n",
    "#     pred_df = pd.DataFrame(y_pred)\n",
    "#     pred_df.columns = [\"sentiment\"]\n",
    "#     pred_df.index.name = \"id\"\n",
    "#     pred_df.to_csv(\"submission.csv\")\n",
    "    \n",
    "#     return \"Successfully created the submission file!!!\""
   ]
  },
  {
   "cell_type": "code",
   "execution_count": 166,
   "id": "9ef8d4fa",
   "metadata": {
    "execution": {
     "iopub.execute_input": "2023-08-11T21:07:25.778524Z",
     "iopub.status.busy": "2023-08-11T21:07:25.777863Z",
     "iopub.status.idle": "2023-08-11T21:07:25.781370Z",
     "shell.execute_reply": "2023-08-11T21:07:25.780786Z"
    },
    "papermill": {
     "duration": 0.073761,
     "end_time": "2023-08-11T21:07:25.783109",
     "exception": false,
     "start_time": "2023-08-11T21:07:25.709348",
     "status": "completed"
    },
    "tags": []
   },
   "outputs": [],
   "source": [
    "#     X_test = merged_test.copy()\n",
    "    \n",
    "#     y_pred = pipe_best4.predict(X_test)\n",
    "# #     np.unique(y_pred, return_counts=True)\n",
    "#     pred_df = pd.DataFrame(y_pred)\n",
    "#     pred_df.columns = [\"sentiment\"]\n",
    "#     pred_df.index.name = \"id\"\n",
    "#     pred_df.value_counts()"
   ]
  },
  {
   "cell_type": "code",
   "execution_count": 167,
   "id": "552fab2a",
   "metadata": {
    "execution": {
     "iopub.execute_input": "2023-08-11T21:07:25.923538Z",
     "iopub.status.busy": "2023-08-11T21:07:25.923137Z",
     "iopub.status.idle": "2023-08-11T21:07:25.928616Z",
     "shell.execute_reply": "2023-08-11T21:07:25.926687Z"
    },
    "papermill": {
     "duration": 0.079083,
     "end_time": "2023-08-11T21:07:25.931139",
     "exception": false,
     "start_time": "2023-08-11T21:07:25.852056",
     "status": "completed"
    },
    "tags": []
   },
   "outputs": [],
   "source": [
    "# X_test.columns"
   ]
  },
  {
   "cell_type": "markdown",
   "id": "b9e76ec3",
   "metadata": {
    "papermill": {
     "duration": 0.0671,
     "end_time": "2023-08-11T21:07:26.067138",
     "exception": false,
     "start_time": "2023-08-11T21:07:26.000038",
     "status": "completed"
    },
    "tags": []
   },
   "source": [
    "### Uncomment to submit using v2 of submit function  "
   ]
  },
  {
   "cell_type": "code",
   "execution_count": 168,
   "id": "4a1c3c47",
   "metadata": {
    "execution": {
     "iopub.execute_input": "2023-08-11T21:07:26.204456Z",
     "iopub.status.busy": "2023-08-11T21:07:26.203763Z",
     "iopub.status.idle": "2023-08-11T21:07:26.207248Z",
     "shell.execute_reply": "2023-08-11T21:07:26.206600Z"
    },
    "papermill": {
     "duration": 0.07418,
     "end_time": "2023-08-11T21:07:26.209297",
     "exception": false,
     "start_time": "2023-08-11T21:07:26.135117",
     "status": "completed"
    },
    "tags": []
   },
   "outputs": [],
   "source": [
    "# best4 = [\"audienceScore\", \"rating\", \"isFrequentReviewer\", \"reviewText\"]\n",
    "# best4"
   ]
  },
  {
   "cell_type": "code",
   "execution_count": 169,
   "id": "2f36a3ba",
   "metadata": {
    "execution": {
     "iopub.execute_input": "2023-08-11T21:07:26.346126Z",
     "iopub.status.busy": "2023-08-11T21:07:26.345477Z",
     "iopub.status.idle": "2023-08-11T21:07:26.349398Z",
     "shell.execute_reply": "2023-08-11T21:07:26.348736Z"
    },
    "papermill": {
     "duration": 0.073298,
     "end_time": "2023-08-11T21:07:26.351647",
     "exception": false,
     "start_time": "2023-08-11T21:07:26.278349",
     "status": "completed"
    },
    "tags": []
   },
   "outputs": [],
   "source": [
    "# submit_v2(selected_model=pipe_RTonly, selected_features=['reviewText'])"
   ]
  },
  {
   "cell_type": "markdown",
   "id": "79183f9c",
   "metadata": {
    "papermill": {
     "duration": 0.069072,
     "end_time": "2023-08-11T21:07:26.488633",
     "exception": false,
     "start_time": "2023-08-11T21:07:26.419561",
     "status": "completed"
    },
    "tags": []
   },
   "source": [
    "### Inspect the submission.csv file  "
   ]
  },
  {
   "cell_type": "code",
   "execution_count": 170,
   "id": "e3436218",
   "metadata": {
    "execution": {
     "iopub.execute_input": "2023-08-11T21:07:26.625868Z",
     "iopub.status.busy": "2023-08-11T21:07:26.625213Z",
     "iopub.status.idle": "2023-08-11T21:07:26.628875Z",
     "shell.execute_reply": "2023-08-11T21:07:26.627943Z"
    },
    "papermill": {
     "duration": 0.074591,
     "end_time": "2023-08-11T21:07:26.630668",
     "exception": false,
     "start_time": "2023-08-11T21:07:26.556077",
     "status": "completed"
    },
    "tags": []
   },
   "outputs": [],
   "source": [
    "# sub = pd.read_csv('submission.csv')\n",
    "# sub.shape, sub.head()"
   ]
  },
  {
   "cell_type": "code",
   "execution_count": 171,
   "id": "7c2e9cc6",
   "metadata": {
    "execution": {
     "iopub.execute_input": "2023-08-11T21:07:26.765404Z",
     "iopub.status.busy": "2023-08-11T21:07:26.764710Z",
     "iopub.status.idle": "2023-08-11T21:07:26.769018Z",
     "shell.execute_reply": "2023-08-11T21:07:26.768129Z"
    },
    "papermill": {
     "duration": 0.073409,
     "end_time": "2023-08-11T21:07:26.770718",
     "exception": false,
     "start_time": "2023-08-11T21:07:26.697309",
     "status": "completed"
    },
    "tags": []
   },
   "outputs": [],
   "source": [
    "# sub['sentiment'].value_counts()"
   ]
  },
  {
   "cell_type": "markdown",
   "id": "cca74a17",
   "metadata": {
    "papermill": {
     "duration": 0.066658,
     "end_time": "2023-08-11T21:07:26.904543",
     "exception": false,
     "start_time": "2023-08-11T21:07:26.837885",
     "status": "completed"
    },
    "tags": []
   },
   "source": [
    "## submit_v3 for merged file models - does not retrain on whole data  "
   ]
  },
  {
   "cell_type": "code",
   "execution_count": 172,
   "id": "47e557f7",
   "metadata": {
    "execution": {
     "iopub.execute_input": "2023-08-11T21:07:27.041404Z",
     "iopub.status.busy": "2023-08-11T21:07:27.040778Z",
     "iopub.status.idle": "2023-08-11T21:07:27.045117Z",
     "shell.execute_reply": "2023-08-11T21:07:27.043992Z"
    },
    "papermill": {
     "duration": 0.074562,
     "end_time": "2023-08-11T21:07:27.047524",
     "exception": false,
     "start_time": "2023-08-11T21:07:26.972962",
     "status": "completed"
    },
    "tags": []
   },
   "outputs": [],
   "source": [
    "# def submit_v3(selected_model=pipe_final):\n",
    "#     '''\n",
    "#     Note that \"selected_preprocessor\" is already used within selected_model or pipeline\n",
    "#     '''\n",
    "      \n",
    "#     # Predict on test.csv file\n",
    "#     merged_test = select_features(load_csv(\"test\"), load_csv(\"movies\"))\n",
    "#     X_test = merged_test.copy()\n",
    "    \n",
    "#     X_test = X_test[[\"audienceScore\", \"rating\", \"isFrequentReviewer\", \"reviewText\"]]    # This is a new line\n",
    "\n",
    "    \n",
    "#     y_pred = selected_model.predict(X_test)\n",
    "    \n",
    "#     pred_df = pd.DataFrame(y_pred)\n",
    "#     pred_df.columns = [\"sentiment\"]\n",
    "#     pred_df.index.name = \"id\"\n",
    "#     pred_df.to_csv(\"submission.csv\")\n",
    "    \n",
    "#     return \"Successfully created the submission file!!!\""
   ]
  },
  {
   "cell_type": "markdown",
   "id": "1a2c41fd",
   "metadata": {
    "papermill": {
     "duration": 0.065479,
     "end_time": "2023-08-11T21:07:27.179882",
     "exception": false,
     "start_time": "2023-08-11T21:07:27.114403",
     "status": "completed"
    },
    "tags": []
   },
   "source": [
    "### Uncomment to submit using v3 of submit function  "
   ]
  },
  {
   "cell_type": "code",
   "execution_count": 173,
   "id": "dc155272",
   "metadata": {
    "execution": {
     "iopub.execute_input": "2023-08-11T21:07:27.316816Z",
     "iopub.status.busy": "2023-08-11T21:07:27.316476Z",
     "iopub.status.idle": "2023-08-11T21:07:27.320327Z",
     "shell.execute_reply": "2023-08-11T21:07:27.319468Z"
    },
    "papermill": {
     "duration": 0.074978,
     "end_time": "2023-08-11T21:07:27.322645",
     "exception": false,
     "start_time": "2023-08-11T21:07:27.247667",
     "status": "completed"
    },
    "tags": []
   },
   "outputs": [],
   "source": [
    "# submit_v3(selected_model=pipe_best4)"
   ]
  },
  {
   "cell_type": "markdown",
   "id": "8c1de279",
   "metadata": {
    "papermill": {
     "duration": 0.06879,
     "end_time": "2023-08-11T21:07:27.458095",
     "exception": false,
     "start_time": "2023-08-11T21:07:27.389305",
     "status": "completed"
    },
    "tags": []
   },
   "source": [
    "## Rough work  "
   ]
  },
  {
   "cell_type": "code",
   "execution_count": 174,
   "id": "ba4bf4d9",
   "metadata": {
    "execution": {
     "iopub.execute_input": "2023-08-11T21:07:27.608260Z",
     "iopub.status.busy": "2023-08-11T21:07:27.607906Z",
     "iopub.status.idle": "2023-08-11T21:07:31.279194Z",
     "shell.execute_reply": "2023-08-11T21:07:31.277746Z"
    },
    "papermill": {
     "duration": 3.746188,
     "end_time": "2023-08-11T21:07:31.281684",
     "exception": false,
     "start_time": "2023-08-11T21:07:27.535496",
     "status": "completed"
    },
    "tags": []
   },
   "outputs": [],
   "source": [
    "    # Predict on test.csv file\n",
    "    merged_test = select_features(load_csv(\"test\"), load_csv(\"movies\"))\n",
    "    X_test = merged_test.copy()\n",
    "    \n",
    "    X_test = X_test[[\"audienceScore\", \"rating\", \"isFrequentReviewer\", \"reviewText\"]]    # This is a new line"
   ]
  },
  {
   "cell_type": "code",
   "execution_count": 175,
   "id": "dc1b6676",
   "metadata": {
    "execution": {
     "iopub.execute_input": "2023-08-11T21:07:31.419782Z",
     "iopub.status.busy": "2023-08-11T21:07:31.419057Z",
     "iopub.status.idle": "2023-08-11T21:07:31.423309Z",
     "shell.execute_reply": "2023-08-11T21:07:31.422263Z"
    },
    "papermill": {
     "duration": 0.075752,
     "end_time": "2023-08-11T21:07:31.425303",
     "exception": false,
     "start_time": "2023-08-11T21:07:31.349551",
     "status": "completed"
    },
    "tags": []
   },
   "outputs": [],
   "source": [
    "# X_test.head()"
   ]
  },
  {
   "cell_type": "code",
   "execution_count": 176,
   "id": "ce0180b7",
   "metadata": {
    "execution": {
     "iopub.execute_input": "2023-08-11T21:07:31.560479Z",
     "iopub.status.busy": "2023-08-11T21:07:31.559858Z",
     "iopub.status.idle": "2023-08-11T21:07:31.565240Z",
     "shell.execute_reply": "2023-08-11T21:07:31.564491Z"
    },
    "papermill": {
     "duration": 0.076354,
     "end_time": "2023-08-11T21:07:31.567625",
     "exception": false,
     "start_time": "2023-08-11T21:07:31.491271",
     "status": "completed"
    },
    "tags": []
   },
   "outputs": [],
   "source": [
    "# X_test['audienceScore'].describe()"
   ]
  },
  {
   "cell_type": "code",
   "execution_count": 177,
   "id": "868ff40b",
   "metadata": {
    "execution": {
     "iopub.execute_input": "2023-08-11T21:07:31.708572Z",
     "iopub.status.busy": "2023-08-11T21:07:31.707179Z",
     "iopub.status.idle": "2023-08-11T21:07:31.713093Z",
     "shell.execute_reply": "2023-08-11T21:07:31.712031Z"
    },
    "papermill": {
     "duration": 0.078054,
     "end_time": "2023-08-11T21:07:31.714789",
     "exception": false,
     "start_time": "2023-08-11T21:07:31.636735",
     "status": "completed"
    },
    "tags": []
   },
   "outputs": [],
   "source": [
    "# X_test['rating'].value_counts()"
   ]
  },
  {
   "cell_type": "code",
   "execution_count": 178,
   "id": "4e9c59d0",
   "metadata": {
    "execution": {
     "iopub.execute_input": "2023-08-11T21:07:31.853360Z",
     "iopub.status.busy": "2023-08-11T21:07:31.852780Z",
     "iopub.status.idle": "2023-08-11T21:07:31.856640Z",
     "shell.execute_reply": "2023-08-11T21:07:31.856035Z"
    },
    "papermill": {
     "duration": 0.073657,
     "end_time": "2023-08-11T21:07:31.858281",
     "exception": false,
     "start_time": "2023-08-11T21:07:31.784624",
     "status": "completed"
    },
    "tags": []
   },
   "outputs": [],
   "source": [
    "# X_test['isFrequentReviewer'].value_counts()"
   ]
  },
  {
   "cell_type": "markdown",
   "id": "b524fac4",
   "metadata": {
    "papermill": {
     "duration": 0.066636,
     "end_time": "2023-08-11T21:07:31.991735",
     "exception": false,
     "start_time": "2023-08-11T21:07:31.925099",
     "status": "completed"
    },
    "tags": []
   },
   "source": [
    "## Implement KNN classifier  "
   ]
  },
  {
   "cell_type": "code",
   "execution_count": 179,
   "id": "9a1ee29d",
   "metadata": {
    "execution": {
     "iopub.execute_input": "2023-08-11T21:07:32.126623Z",
     "iopub.status.busy": "2023-08-11T21:07:32.125986Z",
     "iopub.status.idle": "2023-08-11T21:07:32.129383Z",
     "shell.execute_reply": "2023-08-11T21:07:32.128804Z"
    },
    "papermill": {
     "duration": 0.073366,
     "end_time": "2023-08-11T21:07:32.131331",
     "exception": false,
     "start_time": "2023-08-11T21:07:32.057965",
     "status": "completed"
    },
    "tags": []
   },
   "outputs": [],
   "source": [
    "# from sklearn.neighbors import KNeighborsClassifier"
   ]
  },
  {
   "cell_type": "code",
   "execution_count": 180,
   "id": "8c3ef1f3",
   "metadata": {
    "execution": {
     "iopub.execute_input": "2023-08-11T21:07:32.269139Z",
     "iopub.status.busy": "2023-08-11T21:07:32.268566Z",
     "iopub.status.idle": "2023-08-11T21:07:32.272188Z",
     "shell.execute_reply": "2023-08-11T21:07:32.271548Z"
    },
    "papermill": {
     "duration": 0.075182,
     "end_time": "2023-08-11T21:07:32.274189",
     "exception": false,
     "start_time": "2023-08-11T21:07:32.199007",
     "status": "completed"
    },
    "tags": []
   },
   "outputs": [],
   "source": [
    "# Note that we are borrowing \"ct_final\" column transformer from above  "
   ]
  },
  {
   "cell_type": "code",
   "execution_count": 181,
   "id": "a3fabf3a",
   "metadata": {
    "execution": {
     "iopub.execute_input": "2023-08-11T21:07:32.409745Z",
     "iopub.status.busy": "2023-08-11T21:07:32.409173Z",
     "iopub.status.idle": "2023-08-11T21:07:32.412855Z",
     "shell.execute_reply": "2023-08-11T21:07:32.412293Z"
    },
    "papermill": {
     "duration": 0.072975,
     "end_time": "2023-08-11T21:07:32.414454",
     "exception": false,
     "start_time": "2023-08-11T21:07:32.341479",
     "status": "completed"
    },
    "tags": []
   },
   "outputs": [],
   "source": [
    "# pipe_knn = Pipeline(steps=[\n",
    "#                         (\"preprocessor\", ct_final),\n",
    "#                         (\"model\", KNeighborsClassifier())\n",
    "#                     ])\n",
    "# pipe_knn"
   ]
  },
  {
   "cell_type": "code",
   "execution_count": 182,
   "id": "2bcee266",
   "metadata": {
    "execution": {
     "iopub.execute_input": "2023-08-11T21:07:32.551270Z",
     "iopub.status.busy": "2023-08-11T21:07:32.550515Z",
     "iopub.status.idle": "2023-08-11T21:07:32.555362Z",
     "shell.execute_reply": "2023-08-11T21:07:32.554319Z"
    },
    "papermill": {
     "duration": 0.076922,
     "end_time": "2023-08-11T21:07:32.557710",
     "exception": false,
     "start_time": "2023-08-11T21:07:32.480788",
     "status": "completed"
    },
    "tags": []
   },
   "outputs": [],
   "source": [
    "# Train and predict on merged training data  \n",
    "# split_train_predict(merged_train_features, merged_train_labels, pipe_knn, test_size=0.25, random_state=42)"
   ]
  },
  {
   "cell_type": "markdown",
   "id": "1d871dac",
   "metadata": {
    "papermill": {
     "duration": 0.065923,
     "end_time": "2023-08-11T21:07:32.689639",
     "exception": false,
     "start_time": "2023-08-11T21:07:32.623716",
     "status": "completed"
    },
    "tags": []
   },
   "source": [
    "# Part I (Older code)  "
   ]
  },
  {
   "cell_type": "markdown",
   "id": "06d0b417",
   "metadata": {
    "papermill": {
     "duration": 0.066099,
     "end_time": "2023-08-11T21:07:32.821145",
     "exception": false,
     "start_time": "2023-08-11T21:07:32.755046",
     "status": "completed"
    },
    "tags": []
   },
   "source": [
    "### Logistic Regression with stop words  "
   ]
  },
  {
   "cell_type": "code",
   "execution_count": 183,
   "id": "70ad244d",
   "metadata": {
    "execution": {
     "iopub.execute_input": "2023-08-11T21:07:32.956186Z",
     "iopub.status.busy": "2023-08-11T21:07:32.955498Z",
     "iopub.status.idle": "2023-08-11T21:07:32.959949Z",
     "shell.execute_reply": "2023-08-11T21:07:32.959265Z"
    },
    "papermill": {
     "duration": 0.074374,
     "end_time": "2023-08-11T21:07:32.961816",
     "exception": false,
     "start_time": "2023-08-11T21:07:32.887442",
     "status": "completed"
    },
    "tags": []
   },
   "outputs": [],
   "source": [
    "# tvec_sw = TfidfVectorizer(stop_words=stop_words)"
   ]
  },
  {
   "cell_type": "code",
   "execution_count": 184,
   "id": "49fadeea",
   "metadata": {
    "execution": {
     "iopub.execute_input": "2023-08-11T21:07:33.099200Z",
     "iopub.status.busy": "2023-08-11T21:07:33.098193Z",
     "iopub.status.idle": "2023-08-11T21:07:33.103988Z",
     "shell.execute_reply": "2023-08-11T21:07:33.102615Z"
    },
    "papermill": {
     "duration": 0.075921,
     "end_time": "2023-08-11T21:07:33.106078",
     "exception": false,
     "start_time": "2023-08-11T21:07:33.030157",
     "status": "completed"
    },
    "tags": []
   },
   "outputs": [],
   "source": [
    "# logreg_sw_pipe = preprocess_n_train(X_train, y_train, tvec_sw, logreg)\n",
    "# logreg_sw_pipe"
   ]
  },
  {
   "cell_type": "code",
   "execution_count": 185,
   "id": "b3608760",
   "metadata": {
    "execution": {
     "iopub.execute_input": "2023-08-11T21:07:33.244319Z",
     "iopub.status.busy": "2023-08-11T21:07:33.243026Z",
     "iopub.status.idle": "2023-08-11T21:07:33.247909Z",
     "shell.execute_reply": "2023-08-11T21:07:33.246929Z"
    },
    "papermill": {
     "duration": 0.076036,
     "end_time": "2023-08-11T21:07:33.249817",
     "exception": false,
     "start_time": "2023-08-11T21:07:33.173781",
     "status": "completed"
    },
    "tags": []
   },
   "outputs": [],
   "source": [
    "# y_pred_logreg_sw = predict_n_evaluate(logreg_sw_pipe, X_test, y_test)\n",
    "# y_pred_logreg_sw"
   ]
  },
  {
   "cell_type": "markdown",
   "id": "2b974823",
   "metadata": {
    "papermill": {
     "duration": 0.06737,
     "end_time": "2023-08-11T21:07:33.385663",
     "exception": false,
     "start_time": "2023-08-11T21:07:33.318293",
     "status": "completed"
    },
    "tags": []
   },
   "source": [
    "### Logistic regression with different ngram ranges  "
   ]
  },
  {
   "cell_type": "code",
   "execution_count": 186,
   "id": "0c41840d",
   "metadata": {
    "execution": {
     "iopub.execute_input": "2023-08-11T21:07:33.585385Z",
     "iopub.status.busy": "2023-08-11T21:07:33.585033Z",
     "iopub.status.idle": "2023-08-11T21:07:33.588572Z",
     "shell.execute_reply": "2023-08-11T21:07:33.587708Z"
    },
    "papermill": {
     "duration": 0.072564,
     "end_time": "2023-08-11T21:07:33.590301",
     "exception": false,
     "start_time": "2023-08-11T21:07:33.517737",
     "status": "completed"
    },
    "tags": []
   },
   "outputs": [],
   "source": [
    "# tvec_ngram_2 = TfidfVectorizer(ngram_range=(1,2))"
   ]
  },
  {
   "cell_type": "code",
   "execution_count": 187,
   "id": "d19aaf06",
   "metadata": {
    "execution": {
     "iopub.execute_input": "2023-08-11T21:07:33.728193Z",
     "iopub.status.busy": "2023-08-11T21:07:33.727635Z",
     "iopub.status.idle": "2023-08-11T21:07:33.731364Z",
     "shell.execute_reply": "2023-08-11T21:07:33.730673Z"
    },
    "papermill": {
     "duration": 0.074365,
     "end_time": "2023-08-11T21:07:33.733080",
     "exception": false,
     "start_time": "2023-08-11T21:07:33.658715",
     "status": "completed"
    },
    "tags": []
   },
   "outputs": [],
   "source": [
    "# logreg_ng2_pipe = preprocess_n_train(X_train, y_train, tvec_ngram_2, logreg)\n",
    "# logreg_ng2_pipe"
   ]
  },
  {
   "cell_type": "code",
   "execution_count": 188,
   "id": "99bd27c6",
   "metadata": {
    "execution": {
     "iopub.execute_input": "2023-08-11T21:07:33.870984Z",
     "iopub.status.busy": "2023-08-11T21:07:33.870572Z",
     "iopub.status.idle": "2023-08-11T21:07:33.875146Z",
     "shell.execute_reply": "2023-08-11T21:07:33.873944Z"
    },
    "papermill": {
     "duration": 0.077213,
     "end_time": "2023-08-11T21:07:33.877792",
     "exception": false,
     "start_time": "2023-08-11T21:07:33.800579",
     "status": "completed"
    },
    "tags": []
   },
   "outputs": [],
   "source": [
    "# y_pred_logreg_ng2 = predict_n_evaluate(logreg_ng2_pipe, X_test, y_test)\n",
    "# y_pred_logreg_ng2"
   ]
  },
  {
   "cell_type": "markdown",
   "id": "7e806154",
   "metadata": {
    "papermill": {
     "duration": 0.068636,
     "end_time": "2023-08-11T21:07:34.014585",
     "exception": false,
     "start_time": "2023-08-11T21:07:33.945949",
     "status": "completed"
    },
    "tags": []
   },
   "source": [
    "### Logistic regression with C=2, ngram range (1,2), stop words as None and min_df, max_df adjusted\n",
    "### Class weight balanced"
   ]
  },
  {
   "cell_type": "code",
   "execution_count": 189,
   "id": "d066d434",
   "metadata": {
    "execution": {
     "iopub.execute_input": "2023-08-11T21:07:34.151626Z",
     "iopub.status.busy": "2023-08-11T21:07:34.151268Z",
     "iopub.status.idle": "2023-08-11T21:07:34.155173Z",
     "shell.execute_reply": "2023-08-11T21:07:34.153927Z"
    },
    "papermill": {
     "duration": 0.073657,
     "end_time": "2023-08-11T21:07:34.157365",
     "exception": false,
     "start_time": "2023-08-11T21:07:34.083708",
     "status": "completed"
    },
    "tags": []
   },
   "outputs": [],
   "source": [
    "# logreg = LogisticRegression(max_iter=100000, C=2, class_weight=\"balanced\")"
   ]
  },
  {
   "cell_type": "code",
   "execution_count": 190,
   "id": "61822a98",
   "metadata": {
    "execution": {
     "iopub.execute_input": "2023-08-11T21:07:34.296089Z",
     "iopub.status.busy": "2023-08-11T21:07:34.295664Z",
     "iopub.status.idle": "2023-08-11T21:07:34.300832Z",
     "shell.execute_reply": "2023-08-11T21:07:34.299257Z"
    },
    "papermill": {
     "duration": 0.077095,
     "end_time": "2023-08-11T21:07:34.302867",
     "exception": false,
     "start_time": "2023-08-11T21:07:34.225772",
     "status": "completed"
    },
    "tags": []
   },
   "outputs": [],
   "source": [
    "# tvec_ngram_2_sw_df = TfidfVectorizer(ngram_range=(1,2), stop_words=None, min_df=0.0001, max_df=0.50)\n",
    "# tvec_ngram_2_sw_df"
   ]
  },
  {
   "cell_type": "code",
   "execution_count": 191,
   "id": "b8684d67",
   "metadata": {
    "execution": {
     "iopub.execute_input": "2023-08-11T21:07:34.438914Z",
     "iopub.status.busy": "2023-08-11T21:07:34.438546Z",
     "iopub.status.idle": "2023-08-11T21:07:34.442171Z",
     "shell.execute_reply": "2023-08-11T21:07:34.441592Z"
    },
    "papermill": {
     "duration": 0.074142,
     "end_time": "2023-08-11T21:07:34.443634",
     "exception": false,
     "start_time": "2023-08-11T21:07:34.369492",
     "status": "completed"
    },
    "tags": []
   },
   "outputs": [],
   "source": [
    "# logreg_ng2_sw_df_pipe = preprocess_n_train(X_train, y_train, tvec_ngram_2_sw_df, logreg)\n",
    "# logreg_ng2_sw_df_pipe"
   ]
  },
  {
   "cell_type": "code",
   "execution_count": 192,
   "id": "7927cc48",
   "metadata": {
    "execution": {
     "iopub.execute_input": "2023-08-11T21:07:34.579155Z",
     "iopub.status.busy": "2023-08-11T21:07:34.578280Z",
     "iopub.status.idle": "2023-08-11T21:07:34.582468Z",
     "shell.execute_reply": "2023-08-11T21:07:34.581598Z"
    },
    "papermill": {
     "duration": 0.07534,
     "end_time": "2023-08-11T21:07:34.584770",
     "exception": false,
     "start_time": "2023-08-11T21:07:34.509430",
     "status": "completed"
    },
    "tags": []
   },
   "outputs": [],
   "source": [
    "# y_pred_logreg_ng2_sw_df = predict_n_evaluate(logreg_ng2_sw_df_pipe, X_test, y_test)\n",
    "# y_pred_logreg_ng2_sw_df"
   ]
  },
  {
   "cell_type": "markdown",
   "id": "a3cc2396",
   "metadata": {
    "papermill": {
     "duration": 0.065971,
     "end_time": "2023-08-11T21:07:34.716938",
     "exception": false,
     "start_time": "2023-08-11T21:07:34.650967",
     "status": "completed"
    },
    "tags": []
   },
   "source": [
    "### Log reg with parameters from GridSearchCV  \n",
    "\n",
    "`This is the best score with \"reviewText column alone for analysis`  "
   ]
  },
  {
   "cell_type": "code",
   "execution_count": 193,
   "id": "b16a6450",
   "metadata": {
    "execution": {
     "iopub.execute_input": "2023-08-11T21:07:34.853715Z",
     "iopub.status.busy": "2023-08-11T21:07:34.853069Z",
     "iopub.status.idle": "2023-08-11T21:07:34.859498Z",
     "shell.execute_reply": "2023-08-11T21:07:34.858172Z"
    },
    "papermill": {
     "duration": 0.076893,
     "end_time": "2023-08-11T21:07:34.861531",
     "exception": false,
     "start_time": "2023-08-11T21:07:34.784638",
     "status": "completed"
    },
    "tags": []
   },
   "outputs": [],
   "source": [
    "logreg_cv1 = LogisticRegression(max_iter=100000, C=10)\n",
    "tvec_cv1 = TfidfVectorizer(max_features=None, ngram_range=(1,2))"
   ]
  },
  {
   "cell_type": "code",
   "execution_count": 194,
   "id": "6b9ebc9b",
   "metadata": {
    "execution": {
     "iopub.execute_input": "2023-08-11T21:07:34.998654Z",
     "iopub.status.busy": "2023-08-11T21:07:34.998252Z",
     "iopub.status.idle": "2023-08-11T21:07:35.002924Z",
     "shell.execute_reply": "2023-08-11T21:07:35.001584Z"
    },
    "papermill": {
     "duration": 0.076055,
     "end_time": "2023-08-11T21:07:35.004871",
     "exception": false,
     "start_time": "2023-08-11T21:07:34.928816",
     "status": "completed"
    },
    "tags": []
   },
   "outputs": [],
   "source": [
    "pipe_cv1 = Pipeline(steps=[\n",
    "    (\"preprocessor\", tvec_cv1),\n",
    "    (\"model\", logreg_cv1)\n",
    "])"
   ]
  },
  {
   "cell_type": "code",
   "execution_count": 195,
   "id": "1299dd30",
   "metadata": {
    "execution": {
     "iopub.execute_input": "2023-08-11T21:07:35.143841Z",
     "iopub.status.busy": "2023-08-11T21:07:35.143059Z",
     "iopub.status.idle": "2023-08-11T21:07:35.147048Z",
     "shell.execute_reply": "2023-08-11T21:07:35.146055Z"
    },
    "papermill": {
     "duration": 0.076608,
     "end_time": "2023-08-11T21:07:35.149170",
     "exception": false,
     "start_time": "2023-08-11T21:07:35.072562",
     "status": "completed"
    },
    "tags": []
   },
   "outputs": [],
   "source": [
    "# pipe_cv1.fit(X_train, y_train)"
   ]
  },
  {
   "cell_type": "code",
   "execution_count": 196,
   "id": "84988c22",
   "metadata": {
    "execution": {
     "iopub.execute_input": "2023-08-11T21:07:35.285252Z",
     "iopub.status.busy": "2023-08-11T21:07:35.284933Z",
     "iopub.status.idle": "2023-08-11T21:07:35.288691Z",
     "shell.execute_reply": "2023-08-11T21:07:35.287734Z"
    },
    "papermill": {
     "duration": 0.075068,
     "end_time": "2023-08-11T21:07:35.290916",
     "exception": false,
     "start_time": "2023-08-11T21:07:35.215848",
     "status": "completed"
    },
    "tags": []
   },
   "outputs": [],
   "source": [
    "# pipe_cv1.score(X_train, y_train)"
   ]
  },
  {
   "cell_type": "markdown",
   "id": "46c0ebcd",
   "metadata": {
    "papermill": {
     "duration": 0.067627,
     "end_time": "2023-08-11T21:07:35.426095",
     "exception": false,
     "start_time": "2023-08-11T21:07:35.358468",
     "status": "completed"
    },
    "tags": []
   },
   "source": [
    "### SVM model with stop words  "
   ]
  },
  {
   "cell_type": "code",
   "execution_count": 197,
   "id": "5bb0c0e5",
   "metadata": {
    "execution": {
     "iopub.execute_input": "2023-08-11T21:07:35.566375Z",
     "iopub.status.busy": "2023-08-11T21:07:35.565756Z",
     "iopub.status.idle": "2023-08-11T21:07:35.569734Z",
     "shell.execute_reply": "2023-08-11T21:07:35.569008Z"
    },
    "papermill": {
     "duration": 0.076489,
     "end_time": "2023-08-11T21:07:35.571542",
     "exception": false,
     "start_time": "2023-08-11T21:07:35.495053",
     "status": "completed"
    },
    "tags": []
   },
   "outputs": [],
   "source": [
    "# svm_sw_pipe = preprocess_n_train(X_train, y_train, tvec_sw, svm)\n",
    "# svm_sw_pipe"
   ]
  },
  {
   "cell_type": "code",
   "execution_count": 198,
   "id": "cb0ed68f",
   "metadata": {
    "execution": {
     "iopub.execute_input": "2023-08-11T21:07:35.707263Z",
     "iopub.status.busy": "2023-08-11T21:07:35.706946Z",
     "iopub.status.idle": "2023-08-11T21:07:35.711021Z",
     "shell.execute_reply": "2023-08-11T21:07:35.709838Z"
    },
    "papermill": {
     "duration": 0.075253,
     "end_time": "2023-08-11T21:07:35.713208",
     "exception": false,
     "start_time": "2023-08-11T21:07:35.637955",
     "status": "completed"
    },
    "tags": []
   },
   "outputs": [],
   "source": [
    "# y_pred_svm_sw = predict_n_evaluate(svm_sw_pipe, X_test, y_test)\n",
    "# y_pred_svm_sw"
   ]
  },
  {
   "cell_type": "markdown",
   "id": "139d3041",
   "metadata": {
    "papermill": {
     "duration": 0.067228,
     "end_time": "2023-08-11T21:07:35.847915",
     "exception": false,
     "start_time": "2023-08-11T21:07:35.780687",
     "status": "completed"
    },
    "tags": []
   },
   "source": [
    "### GaussianNB  "
   ]
  },
  {
   "cell_type": "markdown",
   "id": "0b016c33",
   "metadata": {
    "papermill": {
     "duration": 0.068162,
     "end_time": "2023-08-11T21:07:35.985233",
     "exception": false,
     "start_time": "2023-08-11T21:07:35.917071",
     "status": "completed"
    },
    "tags": []
   },
   "source": [
    "https://stackoverflow.com/questions/28384680/scikit-learns-pipeline-a-sparse-matrix-was-passed-but-dense-data-is-required"
   ]
  },
  {
   "cell_type": "code",
   "execution_count": 199,
   "id": "fd9b34d7",
   "metadata": {
    "execution": {
     "iopub.execute_input": "2023-08-11T21:07:36.122388Z",
     "iopub.status.busy": "2023-08-11T21:07:36.121820Z",
     "iopub.status.idle": "2023-08-11T21:07:36.125697Z",
     "shell.execute_reply": "2023-08-11T21:07:36.124716Z"
    },
    "papermill": {
     "duration": 0.074648,
     "end_time": "2023-08-11T21:07:36.128162",
     "exception": false,
     "start_time": "2023-08-11T21:07:36.053514",
     "status": "completed"
    },
    "tags": []
   },
   "outputs": [],
   "source": [
    "# gnb = GaussianNB()\n",
    "# gnb"
   ]
  },
  {
   "cell_type": "code",
   "execution_count": 200,
   "id": "3518e197",
   "metadata": {
    "execution": {
     "iopub.execute_input": "2023-08-11T21:07:36.266644Z",
     "iopub.status.busy": "2023-08-11T21:07:36.266259Z",
     "iopub.status.idle": "2023-08-11T21:07:36.270750Z",
     "shell.execute_reply": "2023-08-11T21:07:36.269533Z"
    },
    "papermill": {
     "duration": 0.076848,
     "end_time": "2023-08-11T21:07:36.272690",
     "exception": false,
     "start_time": "2023-08-11T21:07:36.195842",
     "status": "completed"
    },
    "tags": []
   },
   "outputs": [],
   "source": [
    "# gnb_pipe = preprocess_n_train(X_train, y_train, tvec, gnb)\n",
    "# gnb_pipe"
   ]
  },
  {
   "cell_type": "markdown",
   "id": "3b6c59b1",
   "metadata": {
    "papermill": {
     "duration": 0.068932,
     "end_time": "2023-08-11T21:07:36.410462",
     "exception": false,
     "start_time": "2023-08-11T21:07:36.341530",
     "status": "completed"
    },
    "tags": []
   },
   "source": [
    "# Part II (Older code)  \n"
   ]
  },
  {
   "cell_type": "markdown",
   "id": "b92679ce",
   "metadata": {
    "papermill": {
     "duration": 0.068763,
     "end_time": "2023-08-11T21:07:36.547379",
     "exception": false,
     "start_time": "2023-08-11T21:07:36.478616",
     "status": "completed"
    },
    "tags": []
   },
   "source": [
    "### Separate features and labels from merged dataset  "
   ]
  },
  {
   "cell_type": "code",
   "execution_count": 201,
   "id": "e928e53f",
   "metadata": {
    "execution": {
     "iopub.execute_input": "2023-08-11T21:07:36.680220Z",
     "iopub.status.busy": "2023-08-11T21:07:36.679628Z",
     "iopub.status.idle": "2023-08-11T21:07:36.683618Z",
     "shell.execute_reply": "2023-08-11T21:07:36.682827Z"
    },
    "papermill": {
     "duration": 0.072335,
     "end_time": "2023-08-11T21:07:36.685155",
     "exception": false,
     "start_time": "2023-08-11T21:07:36.612820",
     "status": "completed"
    },
    "tags": []
   },
   "outputs": [],
   "source": [
    "# merged_train_features = merged[['movieid', 'reviewerName', 'isFrequentReviewer', 'reviewText',\n",
    "#        'audienceScore', 'rating', 'runtimeMinutes', 'genre',\n",
    "#        'originalLanguage', 'director']]\n",
    "# merged_train_features.shape"
   ]
  },
  {
   "cell_type": "code",
   "execution_count": 202,
   "id": "8b5d1718",
   "metadata": {
    "execution": {
     "iopub.execute_input": "2023-08-11T21:07:36.880607Z",
     "iopub.status.busy": "2023-08-11T21:07:36.879954Z",
     "iopub.status.idle": "2023-08-11T21:07:36.883608Z",
     "shell.execute_reply": "2023-08-11T21:07:36.882945Z"
    },
    "papermill": {
     "duration": 0.074853,
     "end_time": "2023-08-11T21:07:36.885216",
     "exception": false,
     "start_time": "2023-08-11T21:07:36.810363",
     "status": "completed"
    },
    "tags": []
   },
   "outputs": [],
   "source": [
    "# merged_train_labels = merged[\"sentiment\"]\n",
    "# merged_train_labels.shape"
   ]
  },
  {
   "cell_type": "markdown",
   "id": "31b93574",
   "metadata": {
    "papermill": {
     "duration": 0.066368,
     "end_time": "2023-08-11T21:07:37.018711",
     "exception": false,
     "start_time": "2023-08-11T21:07:36.952343",
     "status": "completed"
    },
    "tags": []
   },
   "source": [
    "### Identify variable types for different preprocessing pipes  "
   ]
  },
  {
   "cell_type": "code",
   "execution_count": 203,
   "id": "e9418e32",
   "metadata": {
    "execution": {
     "iopub.execute_input": "2023-08-11T21:07:37.155001Z",
     "iopub.status.busy": "2023-08-11T21:07:37.154341Z",
     "iopub.status.idle": "2023-08-11T21:07:37.157971Z",
     "shell.execute_reply": "2023-08-11T21:07:37.157371Z"
    },
    "papermill": {
     "duration": 0.073918,
     "end_time": "2023-08-11T21:07:37.159593",
     "exception": false,
     "start_time": "2023-08-11T21:07:37.085675",
     "status": "completed"
    },
    "tags": []
   },
   "outputs": [],
   "source": [
    "# num_vars = [\"audienceScore\", \"runtimeMinutes\"]\n",
    "# txt_vars = [\"originalLanguage\", \"genre\", \"director\", \"reviewerName\", \"reviewText\"]\n",
    "# cat_vars = [\"rating\", \"isFrequentReviewer\"]"
   ]
  },
  {
   "cell_type": "code",
   "execution_count": 204,
   "id": "f6f30f7f",
   "metadata": {
    "execution": {
     "iopub.execute_input": "2023-08-11T21:07:37.298638Z",
     "iopub.status.busy": "2023-08-11T21:07:37.298242Z",
     "iopub.status.idle": "2023-08-11T21:07:37.302870Z",
     "shell.execute_reply": "2023-08-11T21:07:37.301558Z"
    },
    "papermill": {
     "duration": 0.076938,
     "end_time": "2023-08-11T21:07:37.304659",
     "exception": false,
     "start_time": "2023-08-11T21:07:37.227721",
     "status": "completed"
    },
    "tags": []
   },
   "outputs": [],
   "source": [
    "# num_pipe = Pipeline(steps=[\n",
    "#                             (\"imputer\", SimpleImputer(strategy=\"mean\", missing_values=np.nan)),\n",
    "#                             (\"scaler\", MinMaxScaler())\n",
    "#                         ])\n",
    "# num_pipe"
   ]
  },
  {
   "cell_type": "code",
   "execution_count": 205,
   "id": "e96baa9e",
   "metadata": {
    "execution": {
     "iopub.execute_input": "2023-08-11T21:07:37.441505Z",
     "iopub.status.busy": "2023-08-11T21:07:37.440791Z",
     "iopub.status.idle": "2023-08-11T21:07:37.444888Z",
     "shell.execute_reply": "2023-08-11T21:07:37.443788Z"
    },
    "papermill": {
     "duration": 0.076741,
     "end_time": "2023-08-11T21:07:37.447131",
     "exception": false,
     "start_time": "2023-08-11T21:07:37.370390",
     "status": "completed"
    },
    "tags": []
   },
   "outputs": [],
   "source": [
    "# txt_pipe = Pipeline(steps=[\n",
    "#                             (\"tvec\", TfidfVectorizer())\n",
    "#                         ])\n",
    "# txt_pipe"
   ]
  },
  {
   "cell_type": "code",
   "execution_count": 206,
   "id": "c413968b",
   "metadata": {
    "execution": {
     "iopub.execute_input": "2023-08-11T21:07:37.601088Z",
     "iopub.status.busy": "2023-08-11T21:07:37.600474Z",
     "iopub.status.idle": "2023-08-11T21:07:37.604879Z",
     "shell.execute_reply": "2023-08-11T21:07:37.603558Z"
    },
    "papermill": {
     "duration": 0.080933,
     "end_time": "2023-08-11T21:07:37.607317",
     "exception": false,
     "start_time": "2023-08-11T21:07:37.526384",
     "status": "completed"
    },
    "tags": []
   },
   "outputs": [],
   "source": [
    "# cat_pipe = Pipeline(steps=[\n",
    "#                             (\"ohe\", OneHotEncoder(handle_unknown=\"ignore\"))\n",
    "#                         ])\n",
    "# cat_pipe"
   ]
  },
  {
   "cell_type": "code",
   "execution_count": 207,
   "id": "4b6d9e1a",
   "metadata": {
    "execution": {
     "iopub.execute_input": "2023-08-11T21:07:37.744967Z",
     "iopub.status.busy": "2023-08-11T21:07:37.744573Z",
     "iopub.status.idle": "2023-08-11T21:07:37.748324Z",
     "shell.execute_reply": "2023-08-11T21:07:37.747479Z"
    },
    "papermill": {
     "duration": 0.075387,
     "end_time": "2023-08-11T21:07:37.750620",
     "exception": false,
     "start_time": "2023-08-11T21:07:37.675233",
     "status": "completed"
    },
    "tags": []
   },
   "outputs": [],
   "source": [
    "# tfidf_vec_1 = TfidfVectorizer(ngram_range=(1,2))\n",
    "# tfidf_vec_1"
   ]
  },
  {
   "cell_type": "code",
   "execution_count": 208,
   "id": "7efa5a94",
   "metadata": {
    "execution": {
     "iopub.execute_input": "2023-08-11T21:07:37.889365Z",
     "iopub.status.busy": "2023-08-11T21:07:37.888770Z",
     "iopub.status.idle": "2023-08-11T21:07:37.893123Z",
     "shell.execute_reply": "2023-08-11T21:07:37.892466Z"
    },
    "papermill": {
     "duration": 0.076576,
     "end_time": "2023-08-11T21:07:37.895345",
     "exception": false,
     "start_time": "2023-08-11T21:07:37.818769",
     "status": "completed"
    },
    "tags": []
   },
   "outputs": [],
   "source": [
    "# ct_final = ColumnTransformer(transformers=[\n",
    "#                                         (\"num\", num_pipe, num_vars),\n",
    "#                                         (\"txt1\", txt_pipe, \"originalLanguage\"),\n",
    "#                                         (\"txt2\", txt_pipe, \"genre\"),\n",
    "#                                         (\"txt3\", txt_pipe, \"director\"),\n",
    "#                                         (\"cat\", cat_pipe, cat_vars),\n",
    "#                                         (\"txt4a\", tfidf_vec_1, \"reviewText\")\n",
    "# #                                         (\"txt4\", TfidfVectorizer(ngram_range=(1,2)), \"reviewText\"),\n",
    "# #                                         (\"cat2\", cat_pipe, [\"isFrequentReviewer\"])\n",
    "#                                         ], remainder=\"drop\", n_jobs=1)\n",
    "\n",
    "# # Note that this transformer drops \"movieid\" column and \"reviewerName\" column  \n",
    "# ct_final"
   ]
  },
  {
   "cell_type": "code",
   "execution_count": 209,
   "id": "449e88ab",
   "metadata": {
    "execution": {
     "iopub.execute_input": "2023-08-11T21:07:38.034654Z",
     "iopub.status.busy": "2023-08-11T21:07:38.034259Z",
     "iopub.status.idle": "2023-08-11T21:07:38.038455Z",
     "shell.execute_reply": "2023-08-11T21:07:38.037303Z"
    },
    "papermill": {
     "duration": 0.075818,
     "end_time": "2023-08-11T21:07:38.040822",
     "exception": false,
     "start_time": "2023-08-11T21:07:37.965004",
     "status": "completed"
    },
    "tags": []
   },
   "outputs": [],
   "source": [
    "# pipe_final = Pipeline(steps=[\n",
    "#                         (\"preprocessor\", ct_final),\n",
    "#                         (\"model\", LogisticRegression(max_iter=100000))\n",
    "#                     ])\n",
    "# pipe_final"
   ]
  },
  {
   "cell_type": "code",
   "execution_count": 210,
   "id": "b6be75fd",
   "metadata": {
    "execution": {
     "iopub.execute_input": "2023-08-11T21:07:38.176289Z",
     "iopub.status.busy": "2023-08-11T21:07:38.175660Z",
     "iopub.status.idle": "2023-08-11T21:07:38.179509Z",
     "shell.execute_reply": "2023-08-11T21:07:38.178666Z"
    },
    "papermill": {
     "duration": 0.073995,
     "end_time": "2023-08-11T21:07:38.181286",
     "exception": false,
     "start_time": "2023-08-11T21:07:38.107291",
     "status": "completed"
    },
    "tags": []
   },
   "outputs": [],
   "source": [
    "# final_vars = num_vars + txt_vars + cat_vars\n",
    "# len(final_vars), final_vars"
   ]
  },
  {
   "cell_type": "markdown",
   "id": "f67d222a",
   "metadata": {
    "papermill": {
     "duration": 0.071985,
     "end_time": "2023-08-11T21:07:38.320347",
     "exception": false,
     "start_time": "2023-08-11T21:07:38.248362",
     "status": "completed"
    },
    "tags": []
   },
   "source": [
    "### Use \"split_train_predict\" function to run end-to-end pipeline  "
   ]
  },
  {
   "cell_type": "code",
   "execution_count": 211,
   "id": "378281a5",
   "metadata": {
    "execution": {
     "iopub.execute_input": "2023-08-11T21:07:38.460265Z",
     "iopub.status.busy": "2023-08-11T21:07:38.459875Z",
     "iopub.status.idle": "2023-08-11T21:07:38.464586Z",
     "shell.execute_reply": "2023-08-11T21:07:38.463274Z"
    },
    "papermill": {
     "duration": 0.078195,
     "end_time": "2023-08-11T21:07:38.466459",
     "exception": false,
     "start_time": "2023-08-11T21:07:38.388264",
     "status": "completed"
    },
    "tags": []
   },
   "outputs": [],
   "source": [
    "# split_train_predict(merged_train_features, merged_train_labels, pipe_final, test_size=0.25, random_state=42)"
   ]
  },
  {
   "cell_type": "markdown",
   "id": "3caf50c3",
   "metadata": {
    "papermill": {
     "duration": 0.068342,
     "end_time": "2023-08-11T21:07:38.603215",
     "exception": false,
     "start_time": "2023-08-11T21:07:38.534873",
     "status": "completed"
    },
    "tags": []
   },
   "source": [
    "## Try the best four features obtained on local machine  "
   ]
  },
  {
   "cell_type": "code",
   "execution_count": 212,
   "id": "d5f34d1f",
   "metadata": {
    "execution": {
     "iopub.execute_input": "2023-08-11T21:07:38.743754Z",
     "iopub.status.busy": "2023-08-11T21:07:38.743330Z",
     "iopub.status.idle": "2023-08-11T21:07:38.747022Z",
     "shell.execute_reply": "2023-08-11T21:07:38.746222Z"
    },
    "papermill": {
     "duration": 0.076193,
     "end_time": "2023-08-11T21:07:38.748722",
     "exception": false,
     "start_time": "2023-08-11T21:07:38.672529",
     "status": "completed"
    },
    "tags": []
   },
   "outputs": [],
   "source": [
    "# tfidf_vec_2 = TfidfVectorizer(ngram_range=(1,2))\n",
    "# tfidf_vec_2"
   ]
  },
  {
   "cell_type": "code",
   "execution_count": 213,
   "id": "646aed46",
   "metadata": {
    "execution": {
     "iopub.execute_input": "2023-08-11T21:07:38.885986Z",
     "iopub.status.busy": "2023-08-11T21:07:38.885404Z",
     "iopub.status.idle": "2023-08-11T21:07:38.890006Z",
     "shell.execute_reply": "2023-08-11T21:07:38.888916Z"
    },
    "papermill": {
     "duration": 0.075329,
     "end_time": "2023-08-11T21:07:38.891862",
     "exception": false,
     "start_time": "2023-08-11T21:07:38.816533",
     "status": "completed"
    },
    "tags": []
   },
   "outputs": [],
   "source": [
    "# ct_best4 = ColumnTransformer(transformers=[\n",
    "#                                             (\"num\", num_pipe, [\"audienceScore\"]),\n",
    "#                                             (\"cat\", cat_pipe, [\"rating\", \"isFrequentReviewer\"]),\n",
    "#                                             (\"tvec\", tfidf_vec_2, \"reviewText\")\n",
    "#                             ])\n",
    "\n",
    "# pipe_best4 = Pipeline(steps=[\n",
    "#     (\"preprocessor\", ct_best4),\n",
    "#     (\"model\", LogisticRegression())\n",
    "# ])\n",
    "\n",
    "# pipe_best4.set_params(model__C=10, model__max_iter=100000)\n",
    "\n",
    "# pipe_best4"
   ]
  },
  {
   "cell_type": "code",
   "execution_count": 214,
   "id": "f6621b62",
   "metadata": {
    "execution": {
     "iopub.execute_input": "2023-08-11T21:07:39.030526Z",
     "iopub.status.busy": "2023-08-11T21:07:39.030151Z",
     "iopub.status.idle": "2023-08-11T21:07:39.035039Z",
     "shell.execute_reply": "2023-08-11T21:07:39.033789Z"
    },
    "papermill": {
     "duration": 0.076174,
     "end_time": "2023-08-11T21:07:39.036952",
     "exception": false,
     "start_time": "2023-08-11T21:07:38.960778",
     "status": "completed"
    },
    "tags": []
   },
   "outputs": [],
   "source": [
    "# split_train_predict(merged[[\"audienceScore\", \"rating\", \"isFrequentReviewer\", \"reviewText\"]], merged[\"sentiment\"], pipe_best4, test_size=0.25)"
   ]
  },
  {
   "cell_type": "markdown",
   "id": "09289ee6",
   "metadata": {
    "papermill": {
     "duration": 0.069252,
     "end_time": "2023-08-11T21:07:39.175312",
     "exception": false,
     "start_time": "2023-08-11T21:07:39.106060",
     "status": "completed"
    },
    "tags": []
   },
   "source": [
    "## Try only 'reviewText' column  "
   ]
  },
  {
   "cell_type": "code",
   "execution_count": 215,
   "id": "b250b3e1",
   "metadata": {
    "execution": {
     "iopub.execute_input": "2023-08-11T21:07:39.313980Z",
     "iopub.status.busy": "2023-08-11T21:07:39.313349Z",
     "iopub.status.idle": "2023-08-11T21:07:39.317005Z",
     "shell.execute_reply": "2023-08-11T21:07:39.316074Z"
    },
    "papermill": {
     "duration": 0.074884,
     "end_time": "2023-08-11T21:07:39.318520",
     "exception": false,
     "start_time": "2023-08-11T21:07:39.243636",
     "status": "completed"
    },
    "tags": []
   },
   "outputs": [],
   "source": [
    "# tfidf_vec_3 = TfidfVectorizer(ngram_range=(1,2))\n",
    "# tfidf_vec_3"
   ]
  },
  {
   "cell_type": "code",
   "execution_count": 216,
   "id": "f078aa06",
   "metadata": {
    "execution": {
     "iopub.execute_input": "2023-08-11T21:07:39.457503Z",
     "iopub.status.busy": "2023-08-11T21:07:39.456802Z",
     "iopub.status.idle": "2023-08-11T21:07:39.460464Z",
     "shell.execute_reply": "2023-08-11T21:07:39.459798Z"
    },
    "papermill": {
     "duration": 0.074881,
     "end_time": "2023-08-11T21:07:39.462492",
     "exception": false,
     "start_time": "2023-08-11T21:07:39.387611",
     "status": "completed"
    },
    "tags": []
   },
   "outputs": [],
   "source": [
    "# ct_RTonly = ColumnTransformer(transformers=[\n",
    "#                                             ('txt', tfidf_vec_3, 'reviewText'),\n",
    "#                                             ], remainder='drop')\n",
    "# ct_RTonly"
   ]
  },
  {
   "cell_type": "code",
   "execution_count": 217,
   "id": "cb162124",
   "metadata": {
    "execution": {
     "iopub.execute_input": "2023-08-11T21:07:39.598267Z",
     "iopub.status.busy": "2023-08-11T21:07:39.597689Z",
     "iopub.status.idle": "2023-08-11T21:07:39.602662Z",
     "shell.execute_reply": "2023-08-11T21:07:39.601181Z"
    },
    "papermill": {
     "duration": 0.07544,
     "end_time": "2023-08-11T21:07:39.604839",
     "exception": false,
     "start_time": "2023-08-11T21:07:39.529399",
     "status": "completed"
    },
    "tags": []
   },
   "outputs": [],
   "source": [
    "# pipe_RTonly = Pipeline(steps=[\n",
    "#     (\"preprocessor\", ct_RTonly),\n",
    "#     (\"model\", LogisticRegression())\n",
    "# ])\n",
    "\n",
    "# pipe_RTonly.set_params(model__C=10, model__max_iter=100000)\n",
    "\n",
    "# pipe_RTonly"
   ]
  },
  {
   "cell_type": "markdown",
   "id": "fba9d4ea",
   "metadata": {
    "papermill": {
     "duration": 0.067005,
     "end_time": "2023-08-11T21:07:39.738961",
     "exception": false,
     "start_time": "2023-08-11T21:07:39.671956",
     "status": "completed"
    },
    "tags": []
   },
   "source": [
    "## Using the 'submit_v4' function  "
   ]
  },
  {
   "cell_type": "markdown",
   "id": "8ccac815",
   "metadata": {
    "papermill": {
     "duration": 0.067602,
     "end_time": "2023-08-11T21:07:39.873970",
     "exception": false,
     "start_time": "2023-08-11T21:07:39.806368",
     "status": "completed"
    },
    "tags": []
   },
   "source": [
    "### Try the best 4 parameters with submit_v4 function"
   ]
  },
  {
   "cell_type": "code",
   "execution_count": 218,
   "id": "5f27f55a",
   "metadata": {
    "execution": {
     "iopub.execute_input": "2023-08-11T21:07:40.011755Z",
     "iopub.status.busy": "2023-08-11T21:07:40.011354Z",
     "iopub.status.idle": "2023-08-11T21:07:40.015726Z",
     "shell.execute_reply": "2023-08-11T21:07:40.014632Z"
    },
    "papermill": {
     "duration": 0.075591,
     "end_time": "2023-08-11T21:07:40.017577",
     "exception": false,
     "start_time": "2023-08-11T21:07:39.941986",
     "status": "completed"
    },
    "tags": []
   },
   "outputs": [],
   "source": [
    "# best4 = [\"audienceScore\", \"rating\", \"isFrequentReviewer\", \"reviewText\"]\n",
    "\n",
    "# best4_dict = {'cat': [\"rating\", \"isFrequentReviewer\"],\n",
    "#              'num': [\"audienceScore\"],\n",
    "#              'txt': ['reviewText']}\n",
    "\n",
    "# best4_dict = {'num': [\"audienceScore\"],\n",
    "#              'txt': ['reviewText', 'movieid', 'director']}\n",
    "\n",
    "# best4_dict"
   ]
  },
  {
   "cell_type": "code",
   "execution_count": 219,
   "id": "1ea39348",
   "metadata": {
    "execution": {
     "iopub.execute_input": "2023-08-11T21:07:40.157998Z",
     "iopub.status.busy": "2023-08-11T21:07:40.156558Z",
     "iopub.status.idle": "2023-08-11T21:07:40.162277Z",
     "shell.execute_reply": "2023-08-11T21:07:40.160932Z"
    },
    "papermill": {
     "duration": 0.07783,
     "end_time": "2023-08-11T21:07:40.164738",
     "exception": false,
     "start_time": "2023-08-11T21:07:40.086908",
     "status": "completed"
    },
    "tags": []
   },
   "outputs": [],
   "source": [
    "# submit_v4(selected_features=best4_dict)"
   ]
  },
  {
   "cell_type": "markdown",
   "id": "54f48ecf",
   "metadata": {
    "papermill": {
     "duration": 0.068279,
     "end_time": "2023-08-11T21:07:40.300582",
     "exception": false,
     "start_time": "2023-08-11T21:07:40.232303",
     "status": "completed"
    },
    "tags": []
   },
   "source": [
    "### Try the best 3 parameters with submit_v4 function"
   ]
  },
  {
   "cell_type": "code",
   "execution_count": 220,
   "id": "7d1a42c6",
   "metadata": {
    "execution": {
     "iopub.execute_input": "2023-08-11T21:07:40.439185Z",
     "iopub.status.busy": "2023-08-11T21:07:40.438245Z",
     "iopub.status.idle": "2023-08-11T21:07:40.442842Z",
     "shell.execute_reply": "2023-08-11T21:07:40.442039Z"
    },
    "papermill": {
     "duration": 0.07618,
     "end_time": "2023-08-11T21:07:40.444695",
     "exception": false,
     "start_time": "2023-08-11T21:07:40.368515",
     "status": "completed"
    },
    "tags": []
   },
   "outputs": [],
   "source": [
    "# best3 = [\"audienceScore\", \"isFrequentReviewer\", \"reviewText\"]\n",
    "# best3_dict = {'cat': [\"isFrequentReviewer\"],\n",
    "#              'num': [\"audienceScore\"],\n",
    "#              'txt': ['reviewText']}\n",
    "# best3_dict"
   ]
  },
  {
   "cell_type": "code",
   "execution_count": 221,
   "id": "ba180729",
   "metadata": {
    "execution": {
     "iopub.execute_input": "2023-08-11T21:07:40.582099Z",
     "iopub.status.busy": "2023-08-11T21:07:40.581442Z",
     "iopub.status.idle": "2023-08-11T21:07:40.585299Z",
     "shell.execute_reply": "2023-08-11T21:07:40.584652Z"
    },
    "papermill": {
     "duration": 0.074917,
     "end_time": "2023-08-11T21:07:40.587194",
     "exception": false,
     "start_time": "2023-08-11T21:07:40.512277",
     "status": "completed"
    },
    "tags": []
   },
   "outputs": [],
   "source": [
    "# submit_v4(selected_features=best3_dict)"
   ]
  },
  {
   "cell_type": "markdown",
   "id": "818ca428",
   "metadata": {
    "papermill": {
     "duration": 0.067608,
     "end_time": "2023-08-11T21:07:40.724636",
     "exception": false,
     "start_time": "2023-08-11T21:07:40.657028",
     "status": "completed"
    },
    "tags": []
   },
   "source": [
    "## Try throwing almost everything (no boxOffice) at submit_v4!  "
   ]
  },
  {
   "cell_type": "code",
   "execution_count": 222,
   "id": "4ef304aa",
   "metadata": {
    "execution": {
     "iopub.execute_input": "2023-08-11T21:07:40.863261Z",
     "iopub.status.busy": "2023-08-11T21:07:40.862732Z",
     "iopub.status.idle": "2023-08-11T21:07:40.869289Z",
     "shell.execute_reply": "2023-08-11T21:07:40.868162Z"
    },
    "papermill": {
     "duration": 0.079215,
     "end_time": "2023-08-11T21:07:40.872105",
     "exception": false,
     "start_time": "2023-08-11T21:07:40.792890",
     "status": "completed"
    },
    "tags": []
   },
   "outputs": [
    {
     "data": {
      "text/plain": [
       "\"Most from merged = ['movieid', 'reviewerName', 'isFrequentReviewer', 'reviewText',\\n       'audienceScore', 'rating', 'runtimeMinutes', 'genre', \\n       'originalLanguage', 'director']\""
      ]
     },
     "execution_count": 222,
     "metadata": {},
     "output_type": "execute_result"
    }
   ],
   "source": [
    "\"\"\"Most from merged = ['movieid', 'reviewerName', 'isFrequentReviewer', 'reviewText',\n",
    "       'audienceScore', 'rating', 'runtimeMinutes', 'genre', \n",
    "       'originalLanguage', 'director']\"\"\"\n",
    "\n",
    "# almost_dict = {'cat': [\"isFrequentReviewer\", \"rating\", \"originalLanguage\"],\n",
    "#              'num': [\"audienceScore\", \"runtimeMinutes\"],\n",
    "#              'txt': ['reviewText', 'reviewerName', 'movieid', 'genre', 'director']}\n",
    "# almost_dict"
   ]
  },
  {
   "cell_type": "code",
   "execution_count": 223,
   "id": "09c695f2",
   "metadata": {
    "execution": {
     "iopub.execute_input": "2023-08-11T21:07:41.011226Z",
     "iopub.status.busy": "2023-08-11T21:07:41.010662Z",
     "iopub.status.idle": "2023-08-11T21:07:41.014552Z",
     "shell.execute_reply": "2023-08-11T21:07:41.013643Z"
    },
    "papermill": {
     "duration": 0.076139,
     "end_time": "2023-08-11T21:07:41.016735",
     "exception": false,
     "start_time": "2023-08-11T21:07:40.940596",
     "status": "completed"
    },
    "tags": []
   },
   "outputs": [],
   "source": [
    "# submit_v4(selected_features=almost_dict)"
   ]
  },
  {
   "cell_type": "markdown",
   "id": "e3bc313a",
   "metadata": {
    "papermill": {
     "duration": 0.067578,
     "end_time": "2023-08-11T21:07:41.218218",
     "exception": false,
     "start_time": "2023-08-11T21:07:41.150640",
     "status": "completed"
    },
    "tags": []
   },
   "source": [
    "## Try throwing everything possible at submit_v4!  "
   ]
  },
  {
   "cell_type": "code",
   "execution_count": 224,
   "id": "4f5d8c1d",
   "metadata": {
    "execution": {
     "iopub.execute_input": "2023-08-11T21:07:41.357821Z",
     "iopub.status.busy": "2023-08-11T21:07:41.357165Z",
     "iopub.status.idle": "2023-08-11T21:07:41.362621Z",
     "shell.execute_reply": "2023-08-11T21:07:41.361754Z"
    },
    "papermill": {
     "duration": 0.07758,
     "end_time": "2023-08-11T21:07:41.364353",
     "exception": false,
     "start_time": "2023-08-11T21:07:41.286773",
     "status": "completed"
    },
    "tags": []
   },
   "outputs": [
    {
     "data": {
      "text/plain": [
       "\"All from merged = ['movieid', 'reviewerName', 'isFrequentReviewer', 'reviewText',\\n       'audienceScore', 'rating', 'runtimeMinutes', 'genre', 'boxOffice',\\n       'originalLanguage', 'director']\""
      ]
     },
     "execution_count": 224,
     "metadata": {},
     "output_type": "execute_result"
    }
   ],
   "source": [
    "\"\"\"All from merged = ['movieid', 'reviewerName', 'isFrequentReviewer', 'reviewText',\n",
    "       'audienceScore', 'rating', 'runtimeMinutes', 'genre', 'boxOffice',\n",
    "       'originalLanguage', 'director']\"\"\"\n",
    "\n",
    "# all_dict = {'cat': [\"isFrequentReviewer\", \"rating\", \"originalLanguage\"],\n",
    "#              'num': [\"audienceScore\", \"runtimeMinutes\", \"boxOffice\"],\n",
    "#              'txt': ['reviewText', 'reviewerName', 'movieid', 'genre', 'director']}\n",
    "# all_dict"
   ]
  },
  {
   "cell_type": "code",
   "execution_count": 225,
   "id": "12afc828",
   "metadata": {
    "execution": {
     "iopub.execute_input": "2023-08-11T21:07:41.504345Z",
     "iopub.status.busy": "2023-08-11T21:07:41.503041Z",
     "iopub.status.idle": "2023-08-11T21:07:41.509202Z",
     "shell.execute_reply": "2023-08-11T21:07:41.507697Z"
    },
    "papermill": {
     "duration": 0.078564,
     "end_time": "2023-08-11T21:07:41.511223",
     "exception": false,
     "start_time": "2023-08-11T21:07:41.432659",
     "status": "completed"
    },
    "tags": []
   },
   "outputs": [],
   "source": [
    "# submit_v4(selected_features=all_dict)"
   ]
  },
  {
   "cell_type": "markdown",
   "id": "98e2c35c",
   "metadata": {
    "papermill": {
     "duration": 0.068761,
     "end_time": "2023-08-11T21:07:41.649473",
     "exception": false,
     "start_time": "2023-08-11T21:07:41.580712",
     "status": "completed"
    },
    "tags": []
   },
   "source": [
    "## Try GridSearchCV on everything  "
   ]
  },
  {
   "cell_type": "code",
   "execution_count": 226,
   "id": "d73f12e3",
   "metadata": {
    "execution": {
     "iopub.execute_input": "2023-08-11T21:07:41.788740Z",
     "iopub.status.busy": "2023-08-11T21:07:41.788048Z",
     "iopub.status.idle": "2023-08-11T21:07:41.792736Z",
     "shell.execute_reply": "2023-08-11T21:07:41.791586Z"
    },
    "papermill": {
     "duration": 0.077366,
     "end_time": "2023-08-11T21:07:41.794789",
     "exception": false,
     "start_time": "2023-08-11T21:07:41.717423",
     "status": "completed"
    },
    "tags": []
   },
   "outputs": [],
   "source": [
    "# param_grid = {\n",
    "#     \"model__C\": [0.5, 2, 5, 15]\n",
    "# }\n",
    "\n",
    "# param_grid = {\n",
    "#     'model__C' : [1, 5],\n",
    "#     'model__solver': ['lbfgs', 'liblinear', 'newton-cg', 'newton-cholesky', 'sag', 'saga']\n",
    "# }\n",
    "\n",
    "# param_grid = {\n",
    "#     'model__C' : [1, 5],\n",
    "#     'model__solver': ['lbfgs', 'liblinear', 'sag', 'saga']\n",
    "# }\n",
    "\n",
    "# param_grid = {\n",
    "#     'model__C' : [1, 5, 10, 15],\n",
    "#     'model__solver': ['lbfgs', 'liblinear', 'saga', 'newton-cg']\n",
    "# }\n",
    "\n",
    "# param_grid = {\n",
    "#     'model__C' : [1, 5, 10, 20],\n",
    "#     'model__solver': ['lbfgs', 'liblinear', 'saga']\n",
    "# }\n",
    "\n",
    "# param_grid"
   ]
  },
  {
   "cell_type": "code",
   "execution_count": 227,
   "id": "ab49562f",
   "metadata": {
    "execution": {
     "iopub.execute_input": "2023-08-11T21:07:41.933640Z",
     "iopub.status.busy": "2023-08-11T21:07:41.933273Z",
     "iopub.status.idle": "2023-08-11T21:07:41.936405Z",
     "shell.execute_reply": "2023-08-11T21:07:41.935783Z"
    },
    "papermill": {
     "duration": 0.075894,
     "end_time": "2023-08-11T21:07:41.937900",
     "exception": false,
     "start_time": "2023-08-11T21:07:41.862006",
     "status": "completed"
    },
    "tags": []
   },
   "outputs": [],
   "source": [
    "# submit_v4(selected_features={'txt': [\"genre\"]}, param_grid=param_grid)"
   ]
  },
  {
   "cell_type": "code",
   "execution_count": 228,
   "id": "86b11f8f",
   "metadata": {
    "execution": {
     "iopub.execute_input": "2023-08-11T21:07:42.075075Z",
     "iopub.status.busy": "2023-08-11T21:07:42.074571Z",
     "iopub.status.idle": "2023-08-11T21:07:42.079381Z",
     "shell.execute_reply": "2023-08-11T21:07:42.078760Z"
    },
    "papermill": {
     "duration": 0.075351,
     "end_time": "2023-08-11T21:07:42.080969",
     "exception": false,
     "start_time": "2023-08-11T21:07:42.005618",
     "status": "completed"
    },
    "tags": []
   },
   "outputs": [
    {
     "data": {
      "text/plain": [
       "\"Used 'groupby' function instead on 'drop_duplicates' on movies.csv file. \\nIt reduced the number of missing values significantly! \\nThen used LogisticRegression() with GridSearchCV on submit_v4 function with \\nparam_grid={'model__C': [1, 5, 10], 'model__solver': ['lbfgs', 'liblinear', 'saga']}. \\nThe best f1_micro score in GridSearchCV was 0.8399771362056203 which is highest among \\nall the versions so far. Best C was 5 and best solver was 'saga'.\\nScore obtained was 0.84385 which is lower than 0.84441.\""
      ]
     },
     "execution_count": 228,
     "metadata": {},
     "output_type": "execute_result"
    }
   ],
   "source": [
    "# submit_v4(selected_features=all_dict, param_grid=param_grid)\n",
    "\n",
    "# Best C was 5\n",
    "# Best solver was liblinear\n",
    "\n",
    "\"\"\"Used 'groupby' function instead on 'drop_duplicates' on movies.csv file. \n",
    "It reduced the number of missing values significantly! \n",
    "Then used LogisticRegression() with GridSearchCV on submit_v4 function with \n",
    "param_grid={'model__C': [1, 5, 10], 'model__solver': ['lbfgs', 'liblinear', 'saga']}. \n",
    "The best f1_micro score in GridSearchCV was 0.8399771362056203 which is highest among \n",
    "all the versions so far. Best C was 5 and best solver was 'saga'.\n",
    "Score obtained was 0.84385 which is lower than 0.84441.\"\"\""
   ]
  },
  {
   "cell_type": "code",
   "execution_count": 229,
   "id": "00726813",
   "metadata": {
    "execution": {
     "iopub.execute_input": "2023-08-11T21:07:42.220898Z",
     "iopub.status.busy": "2023-08-11T21:07:42.220326Z",
     "iopub.status.idle": "2023-08-11T21:07:42.224770Z",
     "shell.execute_reply": "2023-08-11T21:07:42.223575Z"
    },
    "papermill": {
     "duration": 0.075045,
     "end_time": "2023-08-11T21:07:42.226385",
     "exception": false,
     "start_time": "2023-08-11T21:07:42.151340",
     "status": "completed"
    },
    "tags": []
   },
   "outputs": [],
   "source": [
    "# Best 5 parameters\n",
    "\n",
    "# best5_dict = {'num': [\"audienceScore\"],\n",
    "#              'txt': ['reviewText', 'reviewerName','movieid', 'director']}\n",
    "\n",
    "# best5_dict"
   ]
  },
  {
   "cell_type": "code",
   "execution_count": 230,
   "id": "fc154c7c",
   "metadata": {
    "execution": {
     "iopub.execute_input": "2023-08-11T21:07:42.366053Z",
     "iopub.status.busy": "2023-08-11T21:07:42.365490Z",
     "iopub.status.idle": "2023-08-11T21:07:42.371161Z",
     "shell.execute_reply": "2023-08-11T21:07:42.370495Z"
    },
    "papermill": {
     "duration": 0.077382,
     "end_time": "2023-08-11T21:07:42.372780",
     "exception": false,
     "start_time": "2023-08-11T21:07:42.295398",
     "status": "completed"
    },
    "tags": []
   },
   "outputs": [
    {
     "data": {
      "text/plain": [
       "\"(Update): Used both CountVectorizer and TfidfVectorizer on a massive GridSearchCV \\nwhich took 22527.2s  (6.25 hrs) to run! Gave a score of 0.8439093822800923 locally and did not overfit!\\nBest params: {'model__C': 1, 'model__solver': 'liblinear'}.\\nHighest public score yet: 0.84591 (Rank up from 9 to 5!)\""
      ]
     },
     "execution_count": 230,
     "metadata": {},
     "output_type": "execute_result"
    }
   ],
   "source": [
    "# Submit best 5 features\n",
    "\n",
    "\"\"\"(Update): Used both CountVectorizer and TfidfVectorizer on a massive GridSearchCV \n",
    "which took 22527.2s  (6.25 hrs) to run! Gave a score of 0.8439093822800923 locally and did not overfit!\n",
    "Best params: {'model__C': 1, 'model__solver': 'liblinear'}.\n",
    "Highest public score yet: 0.84591 (Rank up from 9 to 5!)\"\"\"\n",
    "\n",
    "# param_grid = {\n",
    "#     'model__C' : [5, 10, 15],\n",
    "#     'model__solver': ['lbfgs', 'liblinear', 'saga']\n",
    "# }\n",
    "\n",
    "\n",
    "# Try new param_grid with fit_intercept and dual in logreg\n",
    "\n",
    "# param_grid = {\n",
    "#     'model__C' : [1],\n",
    "#     'model__solver': ['liblinear'],\n",
    "#     \"model__fit_intercept\" : [True, False],\n",
    "#     \"model__dual\" : [True, False] \n",
    "# }\n",
    "\n",
    "\n",
    "# Local testing  \n",
    "# submit_v4(selected_features={'num': ['audienceScore']},\n",
    "#          add_countvec=True)\n",
    "\n",
    "# submit_v4(selected_features={'num': ['audienceScore']},\n",
    "#          add_countvec=True, \n",
    "#           param_grid=param_grid)\n",
    "\n",
    "\n",
    "# Main submission\n",
    "\n",
    "# submit_v4(selected_features=best5_dict,\n",
    "#          add_countvec=True)\n",
    "\n",
    "\n",
    "# submit_v4(selected_features=best5_dict,\n",
    "#           add_countvec=True,\n",
    "#           param_grid=param_grid)"
   ]
  },
  {
   "cell_type": "code",
   "execution_count": 231,
   "id": "dfe8303c",
   "metadata": {
    "execution": {
     "iopub.execute_input": "2023-08-11T21:07:42.508595Z",
     "iopub.status.busy": "2023-08-11T21:07:42.508196Z",
     "iopub.status.idle": "2023-08-11T21:07:42.513358Z",
     "shell.execute_reply": "2023-08-11T21:07:42.512445Z"
    },
    "papermill": {
     "duration": 0.075512,
     "end_time": "2023-08-11T21:07:42.515650",
     "exception": false,
     "start_time": "2023-08-11T21:07:42.440138",
     "status": "completed"
    },
    "tags": []
   },
   "outputs": [],
   "source": [
    "## ALL DICT cv=10\n",
    "\n",
    "# all_dict = {'cat': [\"isFrequentReviewer\", \"rating\", \"originalLanguage\"],\n",
    "#              'num': [\"audienceScore\", \"runtimeMinutes\", \"boxOffice\"],\n",
    "#              'txt': ['reviewText', 'reviewerName', 'movieid', 'genre', 'director']}\n",
    "# print(all_dict)\n",
    "\n",
    "# param_grid = {\n",
    "#     'model__C' : [2, 5, 10],\n",
    "#     'model__solver': ['lbfgs', 'liblinear', 'saga']\n",
    "# }\n",
    "# print(param_grid)\n",
    "\n",
    "# param_grid = {\n",
    "#     'model__C' : [1, 5, 10],\n",
    "#     'model__solver': ['liblinear'],\n",
    "#     \"model__fit_intercept\" : [True, False],\n",
    "#     \"model__dual\" : [True, False] \n",
    "# }\n",
    "\n",
    "\n",
    "# Main submission\n",
    "\n",
    "# submit_v4(selected_model=LogisticRegression(C=5, solver='liblinear', max_iter=10000),\n",
    "#           selected_features=all_dict,\n",
    "#           param_grid=param_grid)\n",
    "\n",
    "# submit_v4(selected_features=all_dict,\n",
    "#           add_countvec=True,\n",
    "#           param_grid=param_grid)"
   ]
  },
  {
   "cell_type": "code",
   "execution_count": 232,
   "id": "c2712c98",
   "metadata": {
    "execution": {
     "iopub.execute_input": "2023-08-11T21:07:42.654108Z",
     "iopub.status.busy": "2023-08-11T21:07:42.653756Z",
     "iopub.status.idle": "2023-08-11T21:07:42.658381Z",
     "shell.execute_reply": "2023-08-11T21:07:42.657280Z"
    },
    "papermill": {
     "duration": 0.076484,
     "end_time": "2023-08-11T21:07:42.660827",
     "exception": false,
     "start_time": "2023-08-11T21:07:42.584343",
     "status": "completed"
    },
    "tags": []
   },
   "outputs": [],
   "source": [
    "# Best 6 parameters\n",
    "\n",
    "# best6_dict = {'cat': [\"isFrequentReviewer\"],\n",
    "#              'num': [\"audienceScore\"],\n",
    "#              'txt': ['reviewText', 'reviewerName', 'genre', 'director']}\n",
    "\n",
    "# best6_dict = {'num': [\"audienceScore\"],\n",
    "#              'txt': ['reviewText', 'reviewerName', 'genre','movieid', 'director']}\n",
    "\n",
    "# best6_dict"
   ]
  },
  {
   "cell_type": "code",
   "execution_count": 233,
   "id": "b73a2482",
   "metadata": {
    "execution": {
     "iopub.execute_input": "2023-08-11T21:07:42.800103Z",
     "iopub.status.busy": "2023-08-11T21:07:42.798548Z",
     "iopub.status.idle": "2023-08-11T21:07:42.803810Z",
     "shell.execute_reply": "2023-08-11T21:07:42.803149Z"
    },
    "papermill": {
     "duration": 0.076353,
     "end_time": "2023-08-11T21:07:42.805666",
     "exception": false,
     "start_time": "2023-08-11T21:07:42.729313",
     "status": "completed"
    },
    "tags": []
   },
   "outputs": [],
   "source": [
    "# Submit best 6 features (version 2)\n",
    "\n",
    "# submit_v4(selected_features=best6_dict,\n",
    "#           param_grid=param_grid)"
   ]
  },
  {
   "cell_type": "code",
   "execution_count": 234,
   "id": "d5c81c0e",
   "metadata": {
    "execution": {
     "iopub.execute_input": "2023-08-11T21:07:42.944905Z",
     "iopub.status.busy": "2023-08-11T21:07:42.944522Z",
     "iopub.status.idle": "2023-08-11T21:07:42.948998Z",
     "shell.execute_reply": "2023-08-11T21:07:42.947993Z"
    },
    "papermill": {
     "duration": 0.076536,
     "end_time": "2023-08-11T21:07:42.950999",
     "exception": false,
     "start_time": "2023-08-11T21:07:42.874463",
     "status": "completed"
    },
    "tags": []
   },
   "outputs": [],
   "source": [
    "# Best 7 parameters\n",
    "\n",
    "# best7_dict = {'cat': [\"isFrequentReviewer\"],\n",
    "#              'num': [\"audienceScore\"],\n",
    "#              'txt': ['reviewText', 'reviewerName', 'movieid', 'genre', 'director']}\n",
    "# best7_dict"
   ]
  },
  {
   "cell_type": "code",
   "execution_count": 235,
   "id": "f378c244",
   "metadata": {
    "execution": {
     "iopub.execute_input": "2023-08-11T21:07:43.090870Z",
     "iopub.status.busy": "2023-08-11T21:07:43.090475Z",
     "iopub.status.idle": "2023-08-11T21:07:43.095034Z",
     "shell.execute_reply": "2023-08-11T21:07:43.093937Z"
    },
    "papermill": {
     "duration": 0.076424,
     "end_time": "2023-08-11T21:07:43.096813",
     "exception": false,
     "start_time": "2023-08-11T21:07:43.020389",
     "status": "completed"
    },
    "tags": []
   },
   "outputs": [],
   "source": [
    "# Submit best 7 features\n",
    "\n",
    "# submit_v4(selected_features=best7_dict,\n",
    "#           param_grid=param_grid)"
   ]
  },
  {
   "cell_type": "code",
   "execution_count": 236,
   "id": "cc34718d",
   "metadata": {
    "execution": {
     "iopub.execute_input": "2023-08-11T21:07:43.235681Z",
     "iopub.status.busy": "2023-08-11T21:07:43.235016Z",
     "iopub.status.idle": "2023-08-11T21:07:43.240218Z",
     "shell.execute_reply": "2023-08-11T21:07:43.238496Z"
    },
    "papermill": {
     "duration": 0.077492,
     "end_time": "2023-08-11T21:07:43.242705",
     "exception": false,
     "start_time": "2023-08-11T21:07:43.165213",
     "status": "completed"
    },
    "tags": []
   },
   "outputs": [],
   "source": [
    "# submit_v4(selected_features=best6_dict, param_grid=param_grid)"
   ]
  },
  {
   "cell_type": "markdown",
   "id": "d9a880a4",
   "metadata": {
    "papermill": {
     "duration": 0.069845,
     "end_time": "2023-08-11T21:07:43.383558",
     "exception": false,
     "start_time": "2023-08-11T21:07:43.313713",
     "status": "completed"
    },
    "tags": []
   },
   "source": [
    "## Try a new feature dict  \n",
    "\n"
   ]
  },
  {
   "cell_type": "code",
   "execution_count": 237,
   "id": "29dde65f",
   "metadata": {
    "execution": {
     "iopub.execute_input": "2023-08-11T21:07:43.520597Z",
     "iopub.status.busy": "2023-08-11T21:07:43.519942Z",
     "iopub.status.idle": "2023-08-11T21:07:43.523202Z",
     "shell.execute_reply": "2023-08-11T21:07:43.522678Z"
    },
    "papermill": {
     "duration": 0.072539,
     "end_time": "2023-08-11T21:07:43.525320",
     "exception": false,
     "start_time": "2023-08-11T21:07:43.452781",
     "status": "completed"
    },
    "tags": []
   },
   "outputs": [],
   "source": [
    "# all_dict_new = {'cat': [\"isFrequentReviewer\", \"rating\", \"originalLanguage\"],\n",
    "#              'num': [\"audienceScore\", \"runtimeMinutes\", \"boxOffice\"],\n",
    "#              'txt': ['reviewText', \"reviewerName\", 'movieid', 'genre', 'director']}\n",
    "# all_dict_new"
   ]
  },
  {
   "cell_type": "code",
   "execution_count": 238,
   "id": "c1478ded",
   "metadata": {
    "execution": {
     "iopub.execute_input": "2023-08-11T21:07:43.665743Z",
     "iopub.status.busy": "2023-08-11T21:07:43.665354Z",
     "iopub.status.idle": "2023-08-11T21:07:43.670716Z",
     "shell.execute_reply": "2023-08-11T21:07:43.668984Z"
    },
    "papermill": {
     "duration": 0.078366,
     "end_time": "2023-08-11T21:07:43.673290",
     "exception": false,
     "start_time": "2023-08-11T21:07:43.594924",
     "status": "completed"
    },
    "tags": []
   },
   "outputs": [],
   "source": [
    "# submit_v4(selected_features={'txt': ['genre']}, param_grid=param_grid)"
   ]
  },
  {
   "cell_type": "code",
   "execution_count": 239,
   "id": "84608390",
   "metadata": {
    "execution": {
     "iopub.execute_input": "2023-08-11T21:07:43.812133Z",
     "iopub.status.busy": "2023-08-11T21:07:43.810820Z",
     "iopub.status.idle": "2023-08-11T21:07:43.816265Z",
     "shell.execute_reply": "2023-08-11T21:07:43.815262Z"
    },
    "papermill": {
     "duration": 0.076464,
     "end_time": "2023-08-11T21:07:43.818109",
     "exception": false,
     "start_time": "2023-08-11T21:07:43.741645",
     "status": "completed"
    },
    "tags": []
   },
   "outputs": [],
   "source": [
    "# submit_v4(selected_features=all_dict_new, param_grid=param_grid)"
   ]
  },
  {
   "cell_type": "code",
   "execution_count": 240,
   "id": "4c830576",
   "metadata": {
    "execution": {
     "iopub.execute_input": "2023-08-11T21:07:43.958823Z",
     "iopub.status.busy": "2023-08-11T21:07:43.957894Z",
     "iopub.status.idle": "2023-08-11T21:07:43.962155Z",
     "shell.execute_reply": "2023-08-11T21:07:43.961076Z"
    },
    "papermill": {
     "duration": 0.077357,
     "end_time": "2023-08-11T21:07:43.964201",
     "exception": false,
     "start_time": "2023-08-11T21:07:43.886844",
     "status": "completed"
    },
    "tags": []
   },
   "outputs": [],
   "source": [
    "# Try non-text based columns\n",
    "# num_cat_dict = {'cat': ['isFrequentReviewer', 'rating', 'originalLanguage'],\n",
    "#  'num': ['audienceScore', 'runtimeMinutes', 'boxOffice']}\n",
    "# num_cat_dict"
   ]
  },
  {
   "cell_type": "code",
   "execution_count": 241,
   "id": "3b7142fe",
   "metadata": {
    "execution": {
     "iopub.execute_input": "2023-08-11T21:07:44.105223Z",
     "iopub.status.busy": "2023-08-11T21:07:44.104604Z",
     "iopub.status.idle": "2023-08-11T21:07:44.107990Z",
     "shell.execute_reply": "2023-08-11T21:07:44.107371Z"
    },
    "papermill": {
     "duration": 0.076304,
     "end_time": "2023-08-11T21:07:44.109600",
     "exception": false,
     "start_time": "2023-08-11T21:07:44.033296",
     "status": "completed"
    },
    "tags": []
   },
   "outputs": [],
   "source": [
    "# Use num_cat_dict features\n",
    "# (Update): Gets a local score of 0.7027181356991726. Not great.\n",
    "# submit_v4(selected_model=LogisticRegression(max_iter=100000), selected_features=num_cat_dict, param_grid=param_grid)"
   ]
  },
  {
   "cell_type": "code",
   "execution_count": 242,
   "id": "5f105ac0",
   "metadata": {
    "execution": {
     "iopub.execute_input": "2023-08-11T21:07:44.250599Z",
     "iopub.status.busy": "2023-08-11T21:07:44.249787Z",
     "iopub.status.idle": "2023-08-11T21:07:44.255816Z",
     "shell.execute_reply": "2023-08-11T21:07:44.254244Z"
    },
    "papermill": {
     "duration": 0.079474,
     "end_time": "2023-08-11T21:07:44.258501",
     "exception": false,
     "start_time": "2023-08-11T21:07:44.179027",
     "status": "completed"
    },
    "tags": []
   },
   "outputs": [],
   "source": [
    "# Try data other than reviewText\n",
    "\n",
    "# mov_dict = {'cat': ['rating', 'originalLanguage'],\n",
    "#  'num': ['audienceScore', 'runtimeMinutes', 'boxOffice'],\n",
    "#  'txt': ['movieid', 'genre', 'director']}\n",
    "# mov_dict"
   ]
  },
  {
   "cell_type": "code",
   "execution_count": 243,
   "id": "9d048a78",
   "metadata": {
    "execution": {
     "iopub.execute_input": "2023-08-11T21:07:44.397153Z",
     "iopub.status.busy": "2023-08-11T21:07:44.396514Z",
     "iopub.status.idle": "2023-08-11T21:07:44.400331Z",
     "shell.execute_reply": "2023-08-11T21:07:44.399733Z"
    },
    "papermill": {
     "duration": 0.074767,
     "end_time": "2023-08-11T21:07:44.402056",
     "exception": false,
     "start_time": "2023-08-11T21:07:44.327289",
     "status": "completed"
    },
    "tags": []
   },
   "outputs": [],
   "source": [
    "# Use mov_dict features\n",
    "# (Update): Gets a local score of 0.7475454316469369, which is not bad at all.\n",
    "# submit_v4(selected_model=LogisticRegression(max_iter=100000), selected_features=mov_dict, param_grid=param_grid)"
   ]
  },
  {
   "cell_type": "markdown",
   "id": "7ce61c52",
   "metadata": {
    "papermill": {
     "duration": 0.067376,
     "end_time": "2023-08-11T21:07:44.537229",
     "exception": false,
     "start_time": "2023-08-11T21:07:44.469853",
     "status": "completed"
    },
    "tags": []
   },
   "source": [
    "# Try a new column 'reviewYN'  \n",
    "\n"
   ]
  },
  {
   "cell_type": "code",
   "execution_count": 244,
   "id": "ad1dd3da",
   "metadata": {
    "execution": {
     "iopub.execute_input": "2023-08-11T21:07:44.676369Z",
     "iopub.status.busy": "2023-08-11T21:07:44.675794Z",
     "iopub.status.idle": "2023-08-11T21:07:44.680462Z",
     "shell.execute_reply": "2023-08-11T21:07:44.679555Z"
    },
    "papermill": {
     "duration": 0.076752,
     "end_time": "2023-08-11T21:07:44.682108",
     "exception": false,
     "start_time": "2023-08-11T21:07:44.605356",
     "status": "completed"
    },
    "tags": []
   },
   "outputs": [],
   "source": [
    "# all_dict_3 = {'cat': [\"isFrequentReviewer\", \"rating\", \"originalLanguage\", \"reviewYN\"],\n",
    "#              'num': [\"audienceScore\", \"runtimeMinutes\", \"boxOffice\"],\n",
    "#              'txt': ['reviewText', \"reviewerName\", 'movieid', 'genre', 'director']}\n",
    "# all_dict_3"
   ]
  },
  {
   "cell_type": "code",
   "execution_count": 245,
   "id": "68a4bc2c",
   "metadata": {
    "execution": {
     "iopub.execute_input": "2023-08-11T21:07:44.822638Z",
     "iopub.status.busy": "2023-08-11T21:07:44.822284Z",
     "iopub.status.idle": "2023-08-11T21:07:44.826183Z",
     "shell.execute_reply": "2023-08-11T21:07:44.825134Z"
    },
    "papermill": {
     "duration": 0.076039,
     "end_time": "2023-08-11T21:07:44.827854",
     "exception": false,
     "start_time": "2023-08-11T21:07:44.751815",
     "status": "completed"
    },
    "tags": []
   },
   "outputs": [],
   "source": [
    "# submit_v4(selected_model=LogisticRegression(max_iter=100000),\n",
    "#          selected_features=all_dict_3, \n",
    "#           param_grid=param_grid)"
   ]
  },
  {
   "cell_type": "markdown",
   "id": "9854f6ad",
   "metadata": {
    "papermill": {
     "duration": 0.072572,
     "end_time": "2023-08-11T21:07:44.972793",
     "exception": false,
     "start_time": "2023-08-11T21:07:44.900221",
     "status": "completed"
    },
    "tags": []
   },
   "source": [
    "### More GridSearchCV using LinearSVC  "
   ]
  },
  {
   "cell_type": "code",
   "execution_count": 246,
   "id": "5546f987",
   "metadata": {
    "execution": {
     "iopub.execute_input": "2023-08-11T21:07:45.114288Z",
     "iopub.status.busy": "2023-08-11T21:07:45.113977Z",
     "iopub.status.idle": "2023-08-11T21:07:45.118142Z",
     "shell.execute_reply": "2023-08-11T21:07:45.117474Z"
    },
    "papermill": {
     "duration": 0.076766,
     "end_time": "2023-08-11T21:07:45.120009",
     "exception": false,
     "start_time": "2023-08-11T21:07:45.043243",
     "status": "completed"
    },
    "tags": []
   },
   "outputs": [],
   "source": [
    "# param_grid_svc_2 = {\n",
    "#     'model__C': [1.0],\n",
    "#     'model__loss': ['hinge', 'squared_hinge'],\n",
    "#     'model__class_weight': ['balanced', None]\n",
    "# }\n",
    "# param_grid_svc_2"
   ]
  },
  {
   "cell_type": "code",
   "execution_count": 247,
   "id": "4c04cd34",
   "metadata": {
    "execution": {
     "iopub.execute_input": "2023-08-11T21:07:45.260010Z",
     "iopub.status.busy": "2023-08-11T21:07:45.259610Z",
     "iopub.status.idle": "2023-08-11T21:07:45.264767Z",
     "shell.execute_reply": "2023-08-11T21:07:45.263489Z"
    },
    "papermill": {
     "duration": 0.077912,
     "end_time": "2023-08-11T21:07:45.266728",
     "exception": false,
     "start_time": "2023-08-11T21:07:45.188816",
     "status": "completed"
    },
    "tags": []
   },
   "outputs": [],
   "source": [
    "# submit_v4(selected_model=LinearSVC(max_iter=100000, random_state=42), selected_features={'num': [\"audienceScore\"]}, param_grid=param_grid_svc_2)"
   ]
  },
  {
   "cell_type": "code",
   "execution_count": 248,
   "id": "9a2096e5",
   "metadata": {
    "execution": {
     "iopub.execute_input": "2023-08-11T21:07:45.406924Z",
     "iopub.status.busy": "2023-08-11T21:07:45.406583Z",
     "iopub.status.idle": "2023-08-11T21:07:45.410892Z",
     "shell.execute_reply": "2023-08-11T21:07:45.409880Z"
    },
    "papermill": {
     "duration": 0.076028,
     "end_time": "2023-08-11T21:07:45.412840",
     "exception": false,
     "start_time": "2023-08-11T21:07:45.336812",
     "status": "completed"
    },
    "tags": []
   },
   "outputs": [],
   "source": [
    "# submit_v4(selected_model=LinearSVC(max_iter=100000, random_state=42), selected_features=all_dict, param_grid=param_grid_svc_2)"
   ]
  },
  {
   "cell_type": "markdown",
   "id": "b95f9adb",
   "metadata": {
    "papermill": {
     "duration": 0.06663,
     "end_time": "2023-08-11T21:07:45.552306",
     "exception": false,
     "start_time": "2023-08-11T21:07:45.485676",
     "status": "completed"
    },
    "tags": []
   },
   "source": [
    "### Boosting techniques  "
   ]
  },
  {
   "cell_type": "code",
   "execution_count": 249,
   "id": "9bf1992d",
   "metadata": {
    "execution": {
     "iopub.execute_input": "2023-08-11T21:07:45.691327Z",
     "iopub.status.busy": "2023-08-11T21:07:45.690976Z",
     "iopub.status.idle": "2023-08-11T21:07:45.695145Z",
     "shell.execute_reply": "2023-08-11T21:07:45.694279Z"
    },
    "papermill": {
     "duration": 0.076915,
     "end_time": "2023-08-11T21:07:45.696919",
     "exception": false,
     "start_time": "2023-08-11T21:07:45.620004",
     "status": "completed"
    },
    "tags": []
   },
   "outputs": [],
   "source": [
    "# adc = AdaBoostClassifier(estimator=LogisticRegression(C=5, solver=\"saga\", max_iter=100000), n_estimators=50)\n",
    "# adc"
   ]
  },
  {
   "cell_type": "code",
   "execution_count": 250,
   "id": "a7d1be69",
   "metadata": {
    "execution": {
     "iopub.execute_input": "2023-08-11T21:07:45.835760Z",
     "iopub.status.busy": "2023-08-11T21:07:45.835379Z",
     "iopub.status.idle": "2023-08-11T21:07:45.840105Z",
     "shell.execute_reply": "2023-08-11T21:07:45.838957Z"
    },
    "papermill": {
     "duration": 0.077428,
     "end_time": "2023-08-11T21:07:45.842723",
     "exception": false,
     "start_time": "2023-08-11T21:07:45.765295",
     "status": "completed"
    },
    "tags": []
   },
   "outputs": [],
   "source": [
    "# submit_v4(selected_model=adc, selected_features={'num': [\"audienceScore\"]}, param_grid=None)"
   ]
  },
  {
   "cell_type": "code",
   "execution_count": 251,
   "id": "ab40d2b1",
   "metadata": {
    "execution": {
     "iopub.execute_input": "2023-08-11T21:07:45.981203Z",
     "iopub.status.busy": "2023-08-11T21:07:45.980785Z",
     "iopub.status.idle": "2023-08-11T21:07:45.986322Z",
     "shell.execute_reply": "2023-08-11T21:07:45.984914Z"
    },
    "papermill": {
     "duration": 0.076898,
     "end_time": "2023-08-11T21:07:45.988326",
     "exception": false,
     "start_time": "2023-08-11T21:07:45.911428",
     "status": "completed"
    },
    "tags": []
   },
   "outputs": [],
   "source": [
    "# submit_v4(selected_model=adc, selected_features=all_dict, param_grid=None)\n",
    "\n",
    "# Took 1 hour 15 mins to run and gave a public score of only 0.71089. Discarded."
   ]
  },
  {
   "cell_type": "markdown",
   "id": "34f57b8c",
   "metadata": {
    "papermill": {
     "duration": 0.069609,
     "end_time": "2023-08-11T21:07:46.127200",
     "exception": false,
     "start_time": "2023-08-11T21:07:46.057591",
     "status": "completed"
    },
    "tags": []
   },
   "source": [
    "### LightGBM  "
   ]
  },
  {
   "cell_type": "code",
   "execution_count": 252,
   "id": "f221d75b",
   "metadata": {
    "execution": {
     "iopub.execute_input": "2023-08-11T21:07:46.266307Z",
     "iopub.status.busy": "2023-08-11T21:07:46.265964Z",
     "iopub.status.idle": "2023-08-11T21:07:46.270454Z",
     "shell.execute_reply": "2023-08-11T21:07:46.269417Z"
    },
    "papermill": {
     "duration": 0.076212,
     "end_time": "2023-08-11T21:07:46.272248",
     "exception": false,
     "start_time": "2023-08-11T21:07:46.196036",
     "status": "completed"
    },
    "tags": []
   },
   "outputs": [],
   "source": [
    "# lgb = ltb.LGBMClassifier()\n",
    "# lgb"
   ]
  },
  {
   "cell_type": "code",
   "execution_count": 253,
   "id": "9cc6dd94",
   "metadata": {
    "execution": {
     "iopub.execute_input": "2023-08-11T21:07:46.414824Z",
     "iopub.status.busy": "2023-08-11T21:07:46.414384Z",
     "iopub.status.idle": "2023-08-11T21:07:46.419436Z",
     "shell.execute_reply": "2023-08-11T21:07:46.418449Z"
    },
    "papermill": {
     "duration": 0.07805,
     "end_time": "2023-08-11T21:07:46.421734",
     "exception": false,
     "start_time": "2023-08-11T21:07:46.343684",
     "status": "completed"
    },
    "tags": []
   },
   "outputs": [],
   "source": [
    "# Try LightGBM with default settings\n",
    "# (Update): Public score only 0.77713. It was fast, took less than 5 mins (without GridSearchCV)\n",
    "\n",
    "# submit_v4(selected_model=ltb.LGBMClassifier(), selected_features=all_dict, param_grid=None)"
   ]
  },
  {
   "cell_type": "markdown",
   "id": "49e30fab",
   "metadata": {
    "papermill": {
     "duration": 0.069231,
     "end_time": "2023-08-11T21:07:46.558570",
     "exception": false,
     "start_time": "2023-08-11T21:07:46.489339",
     "status": "completed"
    },
    "tags": []
   },
   "source": [
    "# Try feature selection and vocab fine tuning of reviewText column"
   ]
  },
  {
   "cell_type": "markdown",
   "id": "e9db8165",
   "metadata": {
    "papermill": {
     "duration": 0.067482,
     "end_time": "2023-08-11T21:07:46.693935",
     "exception": false,
     "start_time": "2023-08-11T21:07:46.626453",
     "status": "completed"
    },
    "tags": []
   },
   "source": [
    "## Plan  \n",
    "* Add a new column 'reviewWC' which has word count of 'reviewText'  \n",
    "    * Check if there is any relationship between 'reviewWC' and 'sentiment'\n",
    "* Work on vocabulary\n",
    "     * Use TfidfVectorizer and find out the vocabulary of 'reviewText' column for various ngrams\n",
    "     * Use RecursiveFeatureElimination (RFE) or RFECV to select 1000 top words/vocab for each ngram\n",
    "     * Use the final vocab (1000-3000 words) in the model and see how it performs compared to whole vocab\n"
   ]
  },
  {
   "cell_type": "code",
   "execution_count": 254,
   "id": "c0c3cde2",
   "metadata": {
    "execution": {
     "iopub.execute_input": "2023-08-11T21:07:46.834187Z",
     "iopub.status.busy": "2023-08-11T21:07:46.833822Z",
     "iopub.status.idle": "2023-08-11T21:07:46.838969Z",
     "shell.execute_reply": "2023-08-11T21:07:46.837613Z"
    },
    "papermill": {
     "duration": 0.077842,
     "end_time": "2023-08-11T21:07:46.840867",
     "exception": false,
     "start_time": "2023-08-11T21:07:46.763025",
     "status": "completed"
    },
    "tags": []
   },
   "outputs": [],
   "source": [
    "# 'reviewWC' and 'sentiment'\n",
    "# (Conclusion): 'reviewWC' is practically same as DummyClassifier (accuracy of 0.6682375059904889 on train data). It just predicts 'positive' for all columns\n",
    "\n",
    "# reviewWC_dict = {\"num\": [\"reviewWC\"]}\n",
    "# submit_v4(selected_model=LogisticRegression(),\n",
    "#          selected_features=reviewWC_dict,\n",
    "#          param_grid=None)"
   ]
  },
  {
   "cell_type": "code",
   "execution_count": 255,
   "id": "09f184dd",
   "metadata": {
    "execution": {
     "iopub.execute_input": "2023-08-11T21:07:46.979748Z",
     "iopub.status.busy": "2023-08-11T21:07:46.979388Z",
     "iopub.status.idle": "2023-08-11T21:07:46.984039Z",
     "shell.execute_reply": "2023-08-11T21:07:46.982605Z"
    },
    "papermill": {
     "duration": 0.075587,
     "end_time": "2023-08-11T21:07:46.986463",
     "exception": false,
     "start_time": "2023-08-11T21:07:46.910876",
     "status": "completed"
    },
    "tags": []
   },
   "outputs": [],
   "source": [
    "# 'reviewYN' and 'sentiment'\n",
    "# (Conclusion): 'reviewYN' is practically same as DummyClassifier (accuracy of 0.6682375059904889 on train data). It just predicts 'positive' for all columns\n",
    "\n",
    "# reviewYN_dict = {\"cat\": [\"reviewYN\"]}\n",
    "# submit_v4(selected_model=LogisticRegression(),\n",
    "#          selected_features=reviewYN_dict,\n",
    "#          param_grid=None)"
   ]
  },
  {
   "cell_type": "markdown",
   "id": "74167339",
   "metadata": {
    "papermill": {
     "duration": 0.067704,
     "end_time": "2023-08-11T21:07:47.122235",
     "exception": false,
     "start_time": "2023-08-11T21:07:47.054531",
     "status": "completed"
    },
    "tags": []
   },
   "source": [
    "## Submissions using 'vocabulary' built from 'reviewText' data  "
   ]
  },
  {
   "cell_type": "markdown",
   "id": "0cc7c7b3",
   "metadata": {
    "papermill": {
     "duration": 0.068827,
     "end_time": "2023-08-11T21:07:47.258619",
     "exception": false,
     "start_time": "2023-08-11T21:07:47.189792",
     "status": "completed"
    },
    "tags": []
   },
   "source": [
    "### Submit best 6 features along with common vocab  "
   ]
  },
  {
   "cell_type": "code",
   "execution_count": 256,
   "id": "9d435740",
   "metadata": {
    "execution": {
     "iopub.execute_input": "2023-08-11T21:07:47.396102Z",
     "iopub.status.busy": "2023-08-11T21:07:47.395741Z",
     "iopub.status.idle": "2023-08-11T21:07:47.400030Z",
     "shell.execute_reply": "2023-08-11T21:07:47.398974Z"
    },
    "papermill": {
     "duration": 0.074597,
     "end_time": "2023-08-11T21:07:47.402215",
     "exception": false,
     "start_time": "2023-08-11T21:07:47.327618",
     "status": "completed"
    },
    "tags": []
   },
   "outputs": [],
   "source": [
    "# Best 6 parameters (version 2)  \n",
    "\n",
    "# best6_dict = {'num': [\"audienceScore\"],\n",
    "#              'txt': ['reviewText', 'reviewerName', 'genre','movieid', 'director']}\n",
    "\n",
    "# best6_dict"
   ]
  },
  {
   "cell_type": "code",
   "execution_count": 257,
   "id": "c0f41408",
   "metadata": {
    "execution": {
     "iopub.execute_input": "2023-08-11T21:07:47.560397Z",
     "iopub.status.busy": "2023-08-11T21:07:47.560015Z",
     "iopub.status.idle": "2023-08-11T21:07:47.565024Z",
     "shell.execute_reply": "2023-08-11T21:07:47.563544Z"
    },
    "papermill": {
     "duration": 0.093201,
     "end_time": "2023-08-11T21:07:47.567201",
     "exception": false,
     "start_time": "2023-08-11T21:07:47.474000",
     "status": "completed"
    },
    "tags": []
   },
   "outputs": [],
   "source": [
    "# Submit best 6 features (version 2) with common vocabulary (common_1_2_grams)\n",
    "# (Update): Score 0.82867\n",
    "\n",
    "# submit_v4(selected_features=best6_dict,\n",
    "#           param_grid=param_grid,\n",
    "#          vocab=common_1_2_grams)"
   ]
  },
  {
   "cell_type": "code",
   "execution_count": 258,
   "id": "79b39001",
   "metadata": {
    "execution": {
     "iopub.execute_input": "2023-08-11T21:07:47.774378Z",
     "iopub.status.busy": "2023-08-11T21:07:47.774030Z",
     "iopub.status.idle": "2023-08-11T21:07:47.779892Z",
     "shell.execute_reply": "2023-08-11T21:07:47.778212Z"
    },
    "papermill": {
     "duration": 0.077432,
     "end_time": "2023-08-11T21:07:47.782345",
     "exception": false,
     "start_time": "2023-08-11T21:07:47.704913",
     "status": "completed"
    },
    "tags": []
   },
   "outputs": [],
   "source": [
    "# Submit best 6 features (version 2) with common vocabulary (common_1_2_3_grams)\n",
    "# Note: for this submission submit_v4 function has to be modified: reviewText TfidfVectorizer must have ngram_range(1,3).\n",
    "# (Update): Score in the range 0.825+\n",
    "\n",
    "# submit_v4(selected_features=best6_dict,\n",
    "#           param_grid=param_grid,\n",
    "#          vocab=common_1_2_3_grams)"
   ]
  }
 ],
 "metadata": {
  "kernelspec": {
   "display_name": "Python 3",
   "language": "python",
   "name": "python3"
  },
  "language_info": {
   "codemirror_mode": {
    "name": "ipython",
    "version": 3
   },
   "file_extension": ".py",
   "mimetype": "text/x-python",
   "name": "python",
   "nbconvert_exporter": "python",
   "pygments_lexer": "ipython3",
   "version": "3.10.10"
  },
  "papermill": {
   "default_parameters": {},
   "duration": 1430.298378,
   "end_time": "2023-08-11T21:07:50.675934",
   "environment_variables": {},
   "exception": null,
   "input_path": "__notebook__.ipynb",
   "output_path": "__notebook__.ipynb",
   "parameters": {},
   "start_time": "2023-08-11T20:44:00.377556",
   "version": "2.4.0"
  }
 },
 "nbformat": 4,
 "nbformat_minor": 5
}
