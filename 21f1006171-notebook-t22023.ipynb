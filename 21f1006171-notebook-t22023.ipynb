{
 "cells": [
  {
   "cell_type": "markdown",
   "id": "394d5c7b",
   "metadata": {
    "papermill": {
     "duration": 0.096723,
     "end_time": "2023-08-12T03:27:25.271341",
     "exception": false,
     "start_time": "2023-08-12T03:27:25.174618",
     "status": "completed"
    },
    "tags": []
   },
   "source": [
    "# MLP Project (T2 2023) by Ganesh P  "
   ]
  },
  {
   "cell_type": "markdown",
   "id": "f3be5a68",
   "metadata": {
    "papermill": {
     "duration": 0.091822,
     "end_time": "2023-08-12T03:27:25.456933",
     "exception": false,
     "start_time": "2023-08-12T03:27:25.365111",
     "status": "completed"
    },
    "tags": []
   },
   "source": [
    "`Disclaimer`   \n",
    "\n",
    "> This final notebook contains only the most relevant code to show the path/flow of my project work over few weeks. Rest of the code is in [my github repo](https://github.com/ganeshbmc/MLP_project) which is private at present (I will make it public after the project is over).  "
   ]
  },
  {
   "cell_type": "markdown",
   "id": "43473385",
   "metadata": {
    "papermill": {
     "duration": 0.090955,
     "end_time": "2023-08-12T03:27:25.640075",
     "exception": false,
     "start_time": "2023-08-12T03:27:25.549120",
     "status": "completed"
    },
    "tags": []
   },
   "source": [
    "`Strengths`  \n",
    "\n",
    "> * Modular code (DRY principle)  \n",
    "> * End to end pipeline in one function (with helper functions)   "
   ]
  },
  {
   "cell_type": "markdown",
   "id": "1728e055",
   "metadata": {
    "papermill": {
     "duration": 0.096736,
     "end_time": "2023-08-12T03:27:25.830624",
     "exception": false,
     "start_time": "2023-08-12T03:27:25.733888",
     "status": "completed"
    },
    "tags": []
   },
   "source": [
    "`Overview`  \n",
    "\n",
    "`PART I`  \n",
    "\n",
    "1.\t> Screen the datasets and import them.  \n",
    "2.\t> Perform EDA (first round).\n",
    "3.\t> Data cleaning.\n",
    "4.\t> Basic models including dummy model.\n",
    "5.\t> Because this is a text sentiment analysis project, focus on 'reviewText' column, work on cleaning text data and vectorising/tokenising it, build several models till the best possible score is reached.  \n",
    "\n",
    "`PART II`  \n",
    "\n",
    "6.\t> Merge train and movies dataset.\n",
    "7.\t> Perform EDA (second round) on merged dataset.\n",
    "8.\t> Data cleaning.\n",
    "9.\t> Build models on merged dataset.\n",
    "10.\t> Understand the results and do another round of EDA if needed.\n",
    "11.\t> Build final model.  \n",
    "\n",
    "`PART III (After project window closes)`  \n",
    "\n",
    "12. > Use NLTK library for further processing text data.  \n",
    "13. > Try to address comments from different languages, special characters etc.  \n",
    "14. > Try imblearn library to address class imbalance.  \n",
    "15. > Try to use currently available LLMs and see how my model performs agains them.  "
   ]
  },
  {
   "cell_type": "markdown",
   "id": "e53fc648",
   "metadata": {
    "papermill": {
     "duration": 0.098257,
     "end_time": "2023-08-12T03:27:26.043518",
     "exception": false,
     "start_time": "2023-08-12T03:27:25.945261",
     "status": "completed"
    },
    "tags": []
   },
   "source": [
    "`Default code on Kaggle notebook`  "
   ]
  },
  {
   "cell_type": "code",
   "execution_count": 1,
   "id": "b225a611",
   "metadata": {
    "_cell_guid": "b1076dfc-b9ad-4769-8c92-a6c4dae69d19",
    "_uuid": "8f2839f25d086af736a60e9eeb907d3b93b6e0e5",
    "execution": {
     "iopub.execute_input": "2023-08-12T03:27:26.234003Z",
     "iopub.status.busy": "2023-08-12T03:27:26.233291Z",
     "iopub.status.idle": "2023-08-12T03:27:26.248110Z",
     "shell.execute_reply": "2023-08-12T03:27:26.247031Z"
    },
    "papermill": {
     "duration": 0.113802,
     "end_time": "2023-08-12T03:27:26.251840",
     "exception": false,
     "start_time": "2023-08-12T03:27:26.138038",
     "status": "completed"
    },
    "tags": []
   },
   "outputs": [
    {
     "name": "stdout",
     "output_type": "stream",
     "text": [
      "/kaggle/input/sentiment-prediction-on-movie-reviews/movies.csv\n",
      "/kaggle/input/sentiment-prediction-on-movie-reviews/sample.csv\n",
      "/kaggle/input/sentiment-prediction-on-movie-reviews/train.csv\n",
      "/kaggle/input/sentiment-prediction-on-movie-reviews/test.csv\n"
     ]
    }
   ],
   "source": [
    "# This Python 3 environment comes with many helpful analytics libraries installed\n",
    "# It is defined by the kaggle/python Docker image: https://github.com/kaggle/docker-python\n",
    "# For example, here's several helpful packages to load\n",
    "\n",
    "import numpy as np # linear algebra\n",
    "import pandas as pd # data processing, CSV file I/O (e.g. pd.read_csv)\n",
    "\n",
    "# Input data files are available in the read-only \"../input/\" directory\n",
    "# For example, running this (by clicking run or pressing Shift+Enter) will list all files under the input directory\n",
    "\n",
    "import os\n",
    "for dirname, _, filenames in os.walk('/kaggle/input'):\n",
    "    for filename in filenames:\n",
    "        print(os.path.join(dirname, filename))\n",
    "\n",
    "# You can write up to 20GB to the current directory (/kaggle/working/) that gets preserved as output when you create a version using \"Save & Run All\" \n",
    "# You can also write temporary files to /kaggle/temp/, but they won't be saved outside of the current session"
   ]
  },
  {
   "cell_type": "markdown",
   "id": "b2c2b897",
   "metadata": {
    "papermill": {
     "duration": 0.094513,
     "end_time": "2023-08-12T03:27:26.442121",
     "exception": false,
     "start_time": "2023-08-12T03:27:26.347608",
     "status": "completed"
    },
    "tags": []
   },
   "source": [
    "### Specify platform  "
   ]
  },
  {
   "cell_type": "code",
   "execution_count": 2,
   "id": "cb415b0c",
   "metadata": {
    "execution": {
     "iopub.execute_input": "2023-08-12T03:27:26.632093Z",
     "iopub.status.busy": "2023-08-12T03:27:26.631694Z",
     "iopub.status.idle": "2023-08-12T03:27:26.636513Z",
     "shell.execute_reply": "2023-08-12T03:27:26.635497Z"
    },
    "papermill": {
     "duration": 0.101265,
     "end_time": "2023-08-12T03:27:26.639336",
     "exception": false,
     "start_time": "2023-08-12T03:27:26.538071",
     "status": "completed"
    },
    "tags": []
   },
   "outputs": [],
   "source": [
    "platform = 'kaggle'  "
   ]
  },
  {
   "cell_type": "markdown",
   "id": "15d4da9a",
   "metadata": {
    "papermill": {
     "duration": 0.096026,
     "end_time": "2023-08-12T03:27:26.829780",
     "exception": false,
     "start_time": "2023-08-12T03:27:26.733754",
     "status": "completed"
    },
    "tags": []
   },
   "source": [
    "### Import libraries  "
   ]
  },
  {
   "cell_type": "code",
   "execution_count": 3,
   "id": "b934b08f",
   "metadata": {
    "execution": {
     "iopub.execute_input": "2023-08-12T03:27:27.019801Z",
     "iopub.status.busy": "2023-08-12T03:27:27.019096Z",
     "iopub.status.idle": "2023-08-12T03:27:29.611472Z",
     "shell.execute_reply": "2023-08-12T03:27:29.609845Z"
    },
    "papermill": {
     "duration": 2.690375,
     "end_time": "2023-08-12T03:27:29.614112",
     "exception": false,
     "start_time": "2023-08-12T03:27:26.923737",
     "status": "completed"
    },
    "tags": []
   },
   "outputs": [
    {
     "name": "stdout",
     "output_type": "stream",
     "text": [
      "Imports done.\n"
     ]
    }
   ],
   "source": [
    "import pandas as pd\n",
    "import numpy as np\n",
    "import matplotlib.pyplot as plt\n",
    "import seaborn as sns\n",
    "import re\n",
    "from itertools import compress\n",
    "\n",
    "from sklearn.dummy import DummyClassifier\n",
    "from sklearn.pipeline import Pipeline, FeatureUnion\n",
    "from sklearn.compose import ColumnTransformer\n",
    "from sklearn.metrics import classification_report, confusion_matrix,f1_score\n",
    "from sklearn.feature_extraction.text import TfidfVectorizer, CountVectorizer\n",
    "from sklearn.preprocessing import FunctionTransformer\n",
    "from sklearn.preprocessing import StandardScaler, MinMaxScaler, RobustScaler, OneHotEncoder, LabelEncoder\n",
    "from sklearn.impute import SimpleImputer\n",
    "from sklearn.linear_model import LogisticRegression, SGDClassifier\n",
    "from sklearn.tree import DecisionTreeClassifier\n",
    "from sklearn.ensemble import RandomForestClassifier, AdaBoostClassifier\n",
    "from sklearn.svm import LinearSVC\n",
    "from sklearn.naive_bayes import GaussianNB, BernoulliNB, CategoricalNB, ComplementNB, MultinomialNB\n",
    "from sklearn.model_selection import train_test_split, GridSearchCV, cross_val_score\n",
    "from sklearn.decomposition import PCA, TruncatedSVD\n",
    "from sklearn.feature_selection import RFECV\n",
    "from sklearn.feature_selection import RFE\n",
    "from sklearn.neural_network import MLPClassifier\n",
    "\n",
    "# import lightgbm as ltb\n",
    "\n",
    "import scipy.stats as stats\n",
    "print(\"Imports done.\")"
   ]
  },
  {
   "cell_type": "markdown",
   "id": "de3ddb7c",
   "metadata": {
    "papermill": {
     "duration": 0.092972,
     "end_time": "2023-08-12T03:27:29.802929",
     "exception": false,
     "start_time": "2023-08-12T03:27:29.709957",
     "status": "completed"
    },
    "tags": []
   },
   "source": [
    "# PART I  "
   ]
  },
  {
   "cell_type": "markdown",
   "id": "212c3231",
   "metadata": {
    "papermill": {
     "duration": 0.093987,
     "end_time": "2023-08-12T03:27:29.990803",
     "exception": false,
     "start_time": "2023-08-12T03:27:29.896816",
     "status": "completed"
    },
    "tags": []
   },
   "source": [
    "## Load datasets  "
   ]
  },
  {
   "cell_type": "code",
   "execution_count": 4,
   "id": "0688c693",
   "metadata": {
    "execution": {
     "iopub.execute_input": "2023-08-12T03:27:30.180301Z",
     "iopub.status.busy": "2023-08-12T03:27:30.179856Z",
     "iopub.status.idle": "2023-08-12T03:27:31.358499Z",
     "shell.execute_reply": "2023-08-12T03:27:31.357364Z"
    },
    "papermill": {
     "duration": 1.278513,
     "end_time": "2023-08-12T03:27:31.361758",
     "exception": false,
     "start_time": "2023-08-12T03:27:30.083245",
     "status": "completed"
    },
    "tags": []
   },
   "outputs": [
    {
     "data": {
      "text/plain": [
       "(162758, 5)"
      ]
     },
     "execution_count": 4,
     "metadata": {},
     "output_type": "execute_result"
    }
   ],
   "source": [
    "if platform == 'vscode':\n",
    "    traindf = pd.read_csv(\"data/train.csv\")\n",
    "else:\n",
    "    traindf = pd.read_csv(\"/kaggle/input/sentiment-prediction-on-movie-reviews/train.csv\")\n",
    "    \n",
    "traindf.shape"
   ]
  },
  {
   "cell_type": "code",
   "execution_count": 5,
   "id": "766bb3d5",
   "metadata": {
    "execution": {
     "iopub.execute_input": "2023-08-12T03:27:31.556585Z",
     "iopub.status.busy": "2023-08-12T03:27:31.556200Z",
     "iopub.status.idle": "2023-08-12T03:27:31.942318Z",
     "shell.execute_reply": "2023-08-12T03:27:31.941193Z"
    },
    "papermill": {
     "duration": 0.483667,
     "end_time": "2023-08-12T03:27:31.944991",
     "exception": false,
     "start_time": "2023-08-12T03:27:31.461324",
     "status": "completed"
    },
    "tags": []
   },
   "outputs": [
    {
     "data": {
      "text/plain": [
       "(55315, 4)"
      ]
     },
     "execution_count": 5,
     "metadata": {},
     "output_type": "execute_result"
    }
   ],
   "source": [
    "if platform == 'vscode':\n",
    "    testdf = pd.read_csv(\"data/test.csv\")\n",
    "else:\n",
    "    testdf = pd.read_csv(\"/kaggle/input/sentiment-prediction-on-movie-reviews/test.csv\")\n",
    "\n",
    "testdf.shape"
   ]
  },
  {
   "cell_type": "markdown",
   "id": "0ba40638",
   "metadata": {
    "papermill": {
     "duration": 0.094152,
     "end_time": "2023-08-12T03:27:32.135526",
     "exception": false,
     "start_time": "2023-08-12T03:27:32.041374",
     "status": "completed"
    },
    "tags": []
   },
   "source": [
    "### Understanding the data and getting it ready for training and evaluating models  \n"
   ]
  },
  {
   "cell_type": "code",
   "execution_count": 6,
   "id": "bc25fa23",
   "metadata": {
    "execution": {
     "iopub.execute_input": "2023-08-12T03:27:32.348735Z",
     "iopub.status.busy": "2023-08-12T03:27:32.345623Z",
     "iopub.status.idle": "2023-08-12T03:27:32.357892Z",
     "shell.execute_reply": "2023-08-12T03:27:32.356512Z"
    },
    "papermill": {
     "duration": 0.122055,
     "end_time": "2023-08-12T03:27:32.360752",
     "exception": false,
     "start_time": "2023-08-12T03:27:32.238697",
     "status": "completed"
    },
    "tags": []
   },
   "outputs": [
    {
     "data": {
      "text/plain": [
       "(162758, 5)"
      ]
     },
     "execution_count": 6,
     "metadata": {},
     "output_type": "execute_result"
    }
   ],
   "source": [
    "traindf.shape"
   ]
  },
  {
   "cell_type": "code",
   "execution_count": 7,
   "id": "14861c75",
   "metadata": {
    "execution": {
     "iopub.execute_input": "2023-08-12T03:27:32.560554Z",
     "iopub.status.busy": "2023-08-12T03:27:32.560058Z",
     "iopub.status.idle": "2023-08-12T03:27:32.825121Z",
     "shell.execute_reply": "2023-08-12T03:27:32.823719Z"
    },
    "papermill": {
     "duration": 0.373634,
     "end_time": "2023-08-12T03:27:32.828353",
     "exception": false,
     "start_time": "2023-08-12T03:27:32.454719",
     "status": "completed"
    },
    "tags": []
   },
   "outputs": [
    {
     "name": "stdout",
     "output_type": "stream",
     "text": [
      "<class 'pandas.core.frame.DataFrame'>\n",
      "RangeIndex: 162758 entries, 0 to 162757\n",
      "Data columns (total 5 columns):\n",
      " #   Column              Non-Null Count   Dtype \n",
      "---  ------              --------------   ----- \n",
      " 0   movieid             162758 non-null  object\n",
      " 1   reviewerName        162758 non-null  object\n",
      " 2   isFrequentReviewer  162758 non-null  bool  \n",
      " 3   reviewText          156311 non-null  object\n",
      " 4   sentiment           162758 non-null  object\n",
      "dtypes: bool(1), object(4)\n",
      "memory usage: 5.1+ MB\n"
     ]
    }
   ],
   "source": [
    "traindf.info()"
   ]
  },
  {
   "cell_type": "code",
   "execution_count": 8,
   "id": "d057edbc",
   "metadata": {
    "execution": {
     "iopub.execute_input": "2023-08-12T03:27:33.021845Z",
     "iopub.status.busy": "2023-08-12T03:27:33.021274Z",
     "iopub.status.idle": "2023-08-12T03:27:33.255797Z",
     "shell.execute_reply": "2023-08-12T03:27:33.254725Z"
    },
    "papermill": {
     "duration": 0.334716,
     "end_time": "2023-08-12T03:27:33.258527",
     "exception": false,
     "start_time": "2023-08-12T03:27:32.923811",
     "status": "completed"
    },
    "tags": []
   },
   "outputs": [
    {
     "data": {
      "text/plain": [
       "movieid                  0\n",
       "reviewerName             0\n",
       "isFrequentReviewer       0\n",
       "reviewText            6447\n",
       "sentiment                0\n",
       "dtype: int64"
      ]
     },
     "execution_count": 8,
     "metadata": {},
     "output_type": "execute_result"
    }
   ],
   "source": [
    "traindf.isna().sum()"
   ]
  },
  {
   "cell_type": "markdown",
   "id": "e6807c9e",
   "metadata": {
    "papermill": {
     "duration": 0.093604,
     "end_time": "2023-08-12T03:27:33.534816",
     "exception": false,
     "start_time": "2023-08-12T03:27:33.441212",
     "status": "completed"
    },
    "tags": []
   },
   "source": [
    "### Fill empty reviewText with custom text  "
   ]
  },
  {
   "cell_type": "code",
   "execution_count": 9,
   "id": "2f297ccc",
   "metadata": {
    "execution": {
     "iopub.execute_input": "2023-08-12T03:27:33.724596Z",
     "iopub.status.busy": "2023-08-12T03:27:33.724135Z",
     "iopub.status.idle": "2023-08-12T03:27:33.975264Z",
     "shell.execute_reply": "2023-08-12T03:27:33.974109Z"
    },
    "papermill": {
     "duration": 0.349199,
     "end_time": "2023-08-12T03:27:33.978005",
     "exception": false,
     "start_time": "2023-08-12T03:27:33.628806",
     "status": "completed"
    },
    "tags": []
   },
   "outputs": [
    {
     "data": {
      "text/plain": [
       "movieid               0\n",
       "reviewerName          0\n",
       "isFrequentReviewer    0\n",
       "reviewText            0\n",
       "sentiment             0\n",
       "dtype: int64"
      ]
     },
     "execution_count": 9,
     "metadata": {},
     "output_type": "execute_result"
    }
   ],
   "source": [
    "traindf[\"reviewText\"].fillna(\"empty\", inplace=True)\n",
    "traindf.isna().sum()"
   ]
  },
  {
   "cell_type": "markdown",
   "id": "cf0ebcfc",
   "metadata": {
    "papermill": {
     "duration": 0.09583,
     "end_time": "2023-08-12T03:27:34.171686",
     "exception": false,
     "start_time": "2023-08-12T03:27:34.075856",
     "status": "completed"
    },
    "tags": []
   },
   "source": [
    "## EDA  \n"
   ]
  },
  {
   "cell_type": "code",
   "execution_count": 10,
   "id": "6652f01c",
   "metadata": {
    "execution": {
     "iopub.execute_input": "2023-08-12T03:27:34.370498Z",
     "iopub.status.busy": "2023-08-12T03:27:34.369602Z",
     "iopub.status.idle": "2023-08-12T03:27:34.649571Z",
     "shell.execute_reply": "2023-08-12T03:27:34.647819Z"
    },
    "papermill": {
     "duration": 0.385753,
     "end_time": "2023-08-12T03:27:34.655268",
     "exception": false,
     "start_time": "2023-08-12T03:27:34.269515",
     "status": "completed"
    },
    "tags": []
   },
   "outputs": [
    {
     "data": {
      "image/png": "[encoded data removed]",
      "text/plain": [
       "<Figure size 600x400 with 1 Axes>"
      ]
     },
     "metadata": {},
     "output_type": "display_data"
    }
   ],
   "source": [
    "# Pie chart for sentiment column\n",
    "plt.figure(figsize=(6, 4))\n",
    "traindf[\"sentiment\"].value_counts().plot(kind='pie', autopct='%1.0f%%', colors=[\"lightgreen\", \"crimson\"])\n",
    "plt.title(\"Pie chart for sentiment column\")\n",
    "plt.show()"
   ]
  },
  {
   "cell_type": "code",
   "execution_count": 11,
   "id": "6a0acc51",
   "metadata": {
    "execution": {
     "iopub.execute_input": "2023-08-12T03:27:34.874146Z",
     "iopub.status.busy": "2023-08-12T03:27:34.873337Z",
     "iopub.status.idle": "2023-08-12T03:27:34.950772Z",
     "shell.execute_reply": "2023-08-12T03:27:34.949752Z"
    },
    "papermill": {
     "duration": 0.180701,
     "end_time": "2023-08-12T03:27:34.953148",
     "exception": false,
     "start_time": "2023-08-12T03:27:34.772447",
     "status": "completed"
    },
    "tags": []
   },
   "outputs": [
    {
     "name": "stdout",
     "output_type": "stream",
     "text": [
      "sentiment           NEGATIVE  POSITIVE\n",
      "isFrequentReviewer                    \n",
      "False                  35760     77429\n",
      "True                   18237     31332\n"
     ]
    },
    {
     "data": {
      "text/plain": [
       "Chi2ContingencyResult(statistic=419.89235425657796, pvalue=2.5755894769493255e-93, dof=1, expected_freq=array([[37551.86493444, 75637.13506556],\n",
       "       [16445.13506556, 33123.86493444]]))"
      ]
     },
     "execution_count": 11,
     "metadata": {},
     "output_type": "execute_result"
    }
   ],
   "source": [
    "# Chi-square test for isFrequentReviewer column and sentiment column   \n",
    "\n",
    "contingency_table = pd.crosstab(traindf['isFrequentReviewer'], traindf['sentiment'])\n",
    "print(contingency_table)\n",
    "stats.chi2_contingency(contingency_table)"
   ]
  },
  {
   "cell_type": "markdown",
   "id": "91c2650f",
   "metadata": {
    "papermill": {
     "duration": 0.099594,
     "end_time": "2023-08-12T03:27:35.150355",
     "exception": false,
     "start_time": "2023-08-12T03:27:35.050761",
     "status": "completed"
    },
    "tags": []
   },
   "source": [
    "### Separate features and labels  "
   ]
  },
  {
   "cell_type": "code",
   "execution_count": 12,
   "id": "a7bae3a3",
   "metadata": {
    "execution": {
     "iopub.execute_input": "2023-08-12T03:27:35.349545Z",
     "iopub.status.busy": "2023-08-12T03:27:35.348539Z",
     "iopub.status.idle": "2023-08-12T03:27:35.357359Z",
     "shell.execute_reply": "2023-08-12T03:27:35.356174Z"
    },
    "papermill": {
     "duration": 0.110503,
     "end_time": "2023-08-12T03:27:35.359932",
     "exception": false,
     "start_time": "2023-08-12T03:27:35.249429",
     "status": "completed"
    },
    "tags": []
   },
   "outputs": [
    {
     "data": {
      "text/plain": [
       "((162758,), (162758,))"
      ]
     },
     "execution_count": 12,
     "metadata": {},
     "output_type": "execute_result"
    }
   ],
   "source": [
    "train_features = traindf[\"reviewText\"]\n",
    "train_labels = traindf.iloc[:, -1]\n",
    "train_features.shape, train_labels.shape"
   ]
  },
  {
   "cell_type": "markdown",
   "id": "fe176d0c",
   "metadata": {
    "papermill": {
     "duration": 0.094917,
     "end_time": "2023-08-12T03:27:35.552286",
     "exception": false,
     "start_time": "2023-08-12T03:27:35.457369",
     "status": "completed"
    },
    "tags": []
   },
   "source": [
    "### Split traindf into training and testing parts  "
   ]
  },
  {
   "cell_type": "code",
   "execution_count": 13,
   "id": "a3f9bcab",
   "metadata": {
    "execution": {
     "iopub.execute_input": "2023-08-12T03:27:35.752610Z",
     "iopub.status.busy": "2023-08-12T03:27:35.751679Z",
     "iopub.status.idle": "2023-08-12T03:27:35.802628Z",
     "shell.execute_reply": "2023-08-12T03:27:35.801294Z"
    },
    "papermill": {
     "duration": 0.156557,
     "end_time": "2023-08-12T03:27:35.805605",
     "exception": false,
     "start_time": "2023-08-12T03:27:35.649048",
     "status": "completed"
    },
    "tags": []
   },
   "outputs": [
    {
     "data": {
      "text/plain": [
       "((122068,), (40690,), (122068,), (40690,))"
      ]
     },
     "execution_count": 13,
     "metadata": {},
     "output_type": "execute_result"
    }
   ],
   "source": [
    "X_train, X_test, y_train, y_test = train_test_split(train_features, train_labels, test_size=0.25, random_state=42)\n",
    "X_train.shape, X_test.shape, y_train.shape, y_test.shape"
   ]
  },
  {
   "cell_type": "markdown",
   "id": "db3a25e7",
   "metadata": {
    "papermill": {
     "duration": 0.106357,
     "end_time": "2023-08-12T03:27:36.021840",
     "exception": false,
     "start_time": "2023-08-12T03:27:35.915483",
     "status": "completed"
    },
    "tags": []
   },
   "source": [
    "## Model evaluation plan and code  "
   ]
  },
  {
   "cell_type": "code",
   "execution_count": 14,
   "id": "489556e9",
   "metadata": {
    "execution": {
     "iopub.execute_input": "2023-08-12T03:27:36.218878Z",
     "iopub.status.busy": "2023-08-12T03:27:36.218400Z",
     "iopub.status.idle": "2023-08-12T03:27:36.223291Z",
     "shell.execute_reply": "2023-08-12T03:27:36.221910Z"
    },
    "papermill": {
     "duration": 0.109205,
     "end_time": "2023-08-12T03:27:36.226092",
     "exception": false,
     "start_time": "2023-08-12T03:27:36.116887",
     "status": "completed"
    },
    "tags": []
   },
   "outputs": [],
   "source": [
    "# from sklearn.metrics import classification_report, confusion_matrix, ConfusionMatrixDisplay\n",
    "# from sklearn.metrics import f1_score"
   ]
  },
  {
   "cell_type": "code",
   "execution_count": 15,
   "id": "005ebbf6",
   "metadata": {
    "execution": {
     "iopub.execute_input": "2023-08-12T03:27:36.424801Z",
     "iopub.status.busy": "2023-08-12T03:27:36.424277Z",
     "iopub.status.idle": "2023-08-12T03:27:36.429634Z",
     "shell.execute_reply": "2023-08-12T03:27:36.428369Z"
    },
    "papermill": {
     "duration": 0.109112,
     "end_time": "2023-08-12T03:27:36.432395",
     "exception": false,
     "start_time": "2023-08-12T03:27:36.323283",
     "status": "completed"
    },
    "tags": []
   },
   "outputs": [],
   "source": [
    "# def evaluate(y_test, y_pred):\n",
    "#     print(classification_report(y_test, y_pred))\n",
    "#     print(confusion_matrix(y_test, y_pred))\n",
    "#     # print(f1_score(y_test, y_pred))\n",
    "#     ConfusionMatrixDisplay(y_test, y_pred)\n",
    "#     return"
   ]
  },
  {
   "cell_type": "markdown",
   "id": "99a22181",
   "metadata": {
    "papermill": {
     "duration": 0.099107,
     "end_time": "2023-08-12T03:27:36.630249",
     "exception": false,
     "start_time": "2023-08-12T03:27:36.531142",
     "status": "completed"
    },
    "tags": []
   },
   "source": [
    "### Data preprocessing  "
   ]
  },
  {
   "cell_type": "markdown",
   "id": "7babea16",
   "metadata": {
    "papermill": {
     "duration": 0.096529,
     "end_time": "2023-08-12T03:27:36.823248",
     "exception": false,
     "start_time": "2023-08-12T03:27:36.726719",
     "status": "completed"
    },
    "tags": []
   },
   "source": [
    "`Define stop words`  "
   ]
  },
  {
   "cell_type": "code",
   "execution_count": 16,
   "id": "cd651ad3",
   "metadata": {
    "execution": {
     "iopub.execute_input": "2023-08-12T03:27:37.023911Z",
     "iopub.status.busy": "2023-08-12T03:27:37.023076Z",
     "iopub.status.idle": "2023-08-12T03:27:37.028301Z",
     "shell.execute_reply": "2023-08-12T03:27:37.027229Z"
    },
    "papermill": {
     "duration": 0.107103,
     "end_time": "2023-08-12T03:27:37.030709",
     "exception": false,
     "start_time": "2023-08-12T03:27:36.923606",
     "status": "completed"
    },
    "tags": []
   },
   "outputs": [],
   "source": [
    "# stop_words = [\"able\", \"about\", \"above\", \"abst\", \"ac\"]     # Deprecated  \n",
    "# type(stop_words), len(stop_words)"
   ]
  },
  {
   "cell_type": "markdown",
   "id": "daf9dd09",
   "metadata": {
    "papermill": {
     "duration": 0.097146,
     "end_time": "2023-08-12T03:27:37.225893",
     "exception": false,
     "start_time": "2023-08-12T03:27:37.128747",
     "status": "completed"
    },
    "tags": []
   },
   "source": [
    "## Feature extraction  "
   ]
  },
  {
   "cell_type": "markdown",
   "id": "f859b97e",
   "metadata": {
    "papermill": {
     "duration": 0.094512,
     "end_time": "2023-08-12T03:27:37.416427",
     "exception": false,
     "start_time": "2023-08-12T03:27:37.321915",
     "status": "completed"
    },
    "tags": []
   },
   "source": [
    "### Understand CountVectorizer and TfidfVectorizer  "
   ]
  },
  {
   "cell_type": "code",
   "execution_count": 17,
   "id": "8cbf77c6",
   "metadata": {
    "execution": {
     "iopub.execute_input": "2023-08-12T03:27:37.609406Z",
     "iopub.status.busy": "2023-08-12T03:27:37.608652Z",
     "iopub.status.idle": "2023-08-12T03:27:37.613361Z",
     "shell.execute_reply": "2023-08-12T03:27:37.612151Z"
    },
    "papermill": {
     "duration": 0.104375,
     "end_time": "2023-08-12T03:27:37.615966",
     "exception": false,
     "start_time": "2023-08-12T03:27:37.511591",
     "status": "completed"
    },
    "tags": []
   },
   "outputs": [],
   "source": [
    "# text = X_train.copy()\n",
    "# text.head()"
   ]
  },
  {
   "cell_type": "code",
   "execution_count": 18,
   "id": "1ca229fe",
   "metadata": {
    "execution": {
     "iopub.execute_input": "2023-08-12T03:27:37.810329Z",
     "iopub.status.busy": "2023-08-12T03:27:37.809880Z",
     "iopub.status.idle": "2023-08-12T03:27:37.814610Z",
     "shell.execute_reply": "2023-08-12T03:27:37.813177Z"
    },
    "papermill": {
     "duration": 0.104886,
     "end_time": "2023-08-12T03:27:37.817173",
     "exception": false,
     "start_time": "2023-08-12T03:27:37.712287",
     "status": "completed"
    },
    "tags": []
   },
   "outputs": [],
   "source": [
    "# vectorizer = TfidfVectorizer(stop_words=stop_words)\n",
    "# vectorized_text = vectorizer.fit_transform(text[\"reviewText\"])\n",
    "# vectorized_text"
   ]
  },
  {
   "cell_type": "markdown",
   "id": "008e64da",
   "metadata": {
    "papermill": {
     "duration": 0.097252,
     "end_time": "2023-08-12T03:27:38.012854",
     "exception": false,
     "start_time": "2023-08-12T03:27:37.915602",
     "status": "completed"
    },
    "tags": []
   },
   "source": [
    "`Without stop words`  \n",
    "<122068x58624 sparse matrix of type '<class 'numpy.float64'>'\n",
    "\twith 2312222 stored elements in Compressed Sparse Row format>\n",
    "\n",
    "`With stop words`  \n",
    "<122068x57784 sparse matrix of type '<class 'numpy.float64'>'\n",
    "\twith 1188395 stored elements in Compressed Sparse Row format>   "
   ]
  },
  {
   "cell_type": "code",
   "execution_count": 19,
   "id": "e94eb2e3",
   "metadata": {
    "execution": {
     "iopub.execute_input": "2023-08-12T03:27:38.208695Z",
     "iopub.status.busy": "2023-08-12T03:27:38.208154Z",
     "iopub.status.idle": "2023-08-12T03:27:38.212435Z",
     "shell.execute_reply": "2023-08-12T03:27:38.211622Z"
    },
    "papermill": {
     "duration": 0.105853,
     "end_time": "2023-08-12T03:27:38.214699",
     "exception": false,
     "start_time": "2023-08-12T03:27:38.108846",
     "status": "completed"
    },
    "tags": []
   },
   "outputs": [],
   "source": [
    "# vectorizer2 = CountVectorizer(stop_words=stop_words)\n",
    "# vectorized_text2 = vectorizer2.fit_transform(text[\"reviewText\"])\n",
    "# vectorized_text2"
   ]
  },
  {
   "cell_type": "markdown",
   "id": "7546445e",
   "metadata": {
    "papermill": {
     "duration": 0.095159,
     "end_time": "2023-08-12T03:27:38.407063",
     "exception": false,
     "start_time": "2023-08-12T03:27:38.311904",
     "status": "completed"
    },
    "tags": []
   },
   "source": [
    "`Without stop words`  \n",
    "<122068x58624 sparse matrix of type '<class 'numpy.int64'>'\n",
    "\twith 2312222 stored elements in Compressed Sparse Row format>\n",
    "\n",
    "`With stop words`  \n",
    "<122068x57784 sparse matrix of type '<class 'numpy.int64'>'\n",
    "\twith 1188395 stored elements in Compressed Sparse Row format>"
   ]
  },
  {
   "cell_type": "markdown",
   "id": "591dffb7",
   "metadata": {
    "papermill": {
     "duration": 0.09464,
     "end_time": "2023-08-12T03:27:38.596705",
     "exception": false,
     "start_time": "2023-08-12T03:27:38.502065",
     "status": "completed"
    },
    "tags": []
   },
   "source": [
    "### Conclusion   \n",
    "`TfidfVectorizer is equivalent to CountVectorizer followed by TfidfTransformer.`  \n",
    "\n",
    "https://scikit-learn.org/stable/modules/generated/sklearn.feature_extraction.text.TfidfVectorizer.html"
   ]
  },
  {
   "cell_type": "markdown",
   "id": "2dcc56f6",
   "metadata": {
    "papermill": {
     "duration": 0.095187,
     "end_time": "2023-08-12T03:27:38.786599",
     "exception": false,
     "start_time": "2023-08-12T03:27:38.691412",
     "status": "completed"
    },
    "tags": []
   },
   "source": [
    "## Model building workflow  \n",
    "\n",
    "`Make pipeline for preprocesing and model training and predictions`  \n"
   ]
  },
  {
   "cell_type": "code",
   "execution_count": 20,
   "id": "f29ff508",
   "metadata": {
    "execution": {
     "iopub.execute_input": "2023-08-12T03:27:38.982157Z",
     "iopub.status.busy": "2023-08-12T03:27:38.981437Z",
     "iopub.status.idle": "2023-08-12T03:27:38.986496Z",
     "shell.execute_reply": "2023-08-12T03:27:38.985683Z"
    },
    "papermill": {
     "duration": 0.104838,
     "end_time": "2023-08-12T03:27:38.989033",
     "exception": false,
     "start_time": "2023-08-12T03:27:38.884195",
     "status": "completed"
    },
    "tags": []
   },
   "outputs": [],
   "source": [
    "# def preprocess_n_train(X_train, y_train, preprocessor, model):\n",
    "#     pipe = Pipeline(steps=[\n",
    "#                             (\"preprocessor\", preprocessor),\n",
    "#                             (\"model\", model)\n",
    "#                         ])\n",
    "    \n",
    "#     pipe.fit(X_train, y_train)\n",
    "\n",
    "#     print(\"Given model has been trained. Use predict method to get predictions array.\")\n",
    "#     return pipe\n",
    "\n",
    "\n",
    "# def predict_n_evaluate(pipeline, X_test, y_test):\n",
    "#     y_pred = pipeline.predict(X_test)\n",
    "#     print(f\"y_pred shape: {y_pred.shape}\")\n",
    "#     print(f\"Summary of predictions: {np.unique(y_pred, return_counts=True)}\")\n",
    "#     print(classification_report(y_test, y_pred))\n",
    "#     print(confusion_matrix(y_test, y_pred))\n",
    "#     return y_pred"
   ]
  },
  {
   "cell_type": "markdown",
   "id": "520b1e1e",
   "metadata": {
    "papermill": {
     "duration": 0.09704,
     "end_time": "2023-08-12T03:27:39.183964",
     "exception": false,
     "start_time": "2023-08-12T03:27:39.086924",
     "status": "completed"
    },
    "tags": []
   },
   "source": [
    "## Building 3 basic models  "
   ]
  },
  {
   "cell_type": "markdown",
   "id": "6fdb8156",
   "metadata": {
    "papermill": {
     "duration": 0.098189,
     "end_time": "2023-08-12T03:27:39.379001",
     "exception": false,
     "start_time": "2023-08-12T03:27:39.280812",
     "status": "completed"
    },
    "tags": []
   },
   "source": [
    "### Text preprocessors  "
   ]
  },
  {
   "cell_type": "code",
   "execution_count": 21,
   "id": "21a26680",
   "metadata": {
    "execution": {
     "iopub.execute_input": "2023-08-12T03:27:39.574070Z",
     "iopub.status.busy": "2023-08-12T03:27:39.573612Z",
     "iopub.status.idle": "2023-08-12T03:27:39.578612Z",
     "shell.execute_reply": "2023-08-12T03:27:39.577364Z"
    },
    "papermill": {
     "duration": 0.105277,
     "end_time": "2023-08-12T03:27:39.581278",
     "exception": false,
     "start_time": "2023-08-12T03:27:39.476001",
     "status": "completed"
    },
    "tags": []
   },
   "outputs": [],
   "source": [
    "# tvec = TfidfVectorizer()\n",
    "# cvec = CountVectorizer()        # Note that TfidfVectorizer and CountVectorizer+TfidsTransformer do the same function\n",
    "# tvec, cvec"
   ]
  },
  {
   "cell_type": "markdown",
   "id": "1e275d61",
   "metadata": {
    "papermill": {
     "duration": 0.09706,
     "end_time": "2023-08-12T03:27:39.776934",
     "exception": false,
     "start_time": "2023-08-12T03:27:39.679874",
     "status": "completed"
    },
    "tags": []
   },
   "source": [
    "### Logistic Regression with TfidVectorizer for preprocessing  "
   ]
  },
  {
   "cell_type": "code",
   "execution_count": 22,
   "id": "5fe45154",
   "metadata": {
    "execution": {
     "iopub.execute_input": "2023-08-12T03:27:39.981592Z",
     "iopub.status.busy": "2023-08-12T03:27:39.981190Z",
     "iopub.status.idle": "2023-08-12T03:27:39.985975Z",
     "shell.execute_reply": "2023-08-12T03:27:39.984711Z"
    },
    "papermill": {
     "duration": 0.109781,
     "end_time": "2023-08-12T03:27:39.988438",
     "exception": false,
     "start_time": "2023-08-12T03:27:39.878657",
     "status": "completed"
    },
    "tags": []
   },
   "outputs": [],
   "source": [
    "# logreg = LogisticRegression(max_iter=1000)\n",
    "# logreg_pipe = preprocess_n_train(X_train, y_train, tvec, logreg)\n",
    "# y_pred_logreg = predict_n_evaluate(logreg_pipe, X_test, y_test)\n",
    "# y_pred_logreg"
   ]
  },
  {
   "cell_type": "markdown",
   "id": "84b1800d",
   "metadata": {
    "papermill": {
     "duration": 0.183659,
     "end_time": "2023-08-12T03:27:40.272901",
     "exception": false,
     "start_time": "2023-08-12T03:27:40.089242",
     "status": "completed"
    },
    "tags": []
   },
   "source": [
    "### SVM model  "
   ]
  },
  {
   "cell_type": "code",
   "execution_count": 23,
   "id": "6068c3c3",
   "metadata": {
    "execution": {
     "iopub.execute_input": "2023-08-12T03:27:40.466267Z",
     "iopub.status.busy": "2023-08-12T03:27:40.465627Z",
     "iopub.status.idle": "2023-08-12T03:27:40.470542Z",
     "shell.execute_reply": "2023-08-12T03:27:40.469452Z"
    },
    "papermill": {
     "duration": 0.103836,
     "end_time": "2023-08-12T03:27:40.472879",
     "exception": false,
     "start_time": "2023-08-12T03:27:40.369043",
     "status": "completed"
    },
    "tags": []
   },
   "outputs": [],
   "source": [
    "# svm = LinearSVC()\n",
    "# svm_pipe = preprocess_n_train(X_train, y_train, tvec, svm)\n",
    "# y_pred_svm = predict_n_evaluate(svm_pipe, X_test, y_test)\n",
    "# y_pred_svm"
   ]
  },
  {
   "cell_type": "markdown",
   "id": "9e37b801",
   "metadata": {
    "papermill": {
     "duration": 0.094294,
     "end_time": "2023-08-12T03:27:40.667157",
     "exception": false,
     "start_time": "2023-08-12T03:27:40.572863",
     "status": "completed"
    },
    "tags": []
   },
   "source": [
    "### Naive Bayes model  "
   ]
  },
  {
   "cell_type": "markdown",
   "id": "e4c399a1",
   "metadata": {
    "papermill": {
     "duration": 0.096218,
     "end_time": "2023-08-12T03:27:40.859875",
     "exception": false,
     "start_time": "2023-08-12T03:27:40.763657",
     "status": "completed"
    },
    "tags": []
   },
   "source": [
    "#### MultinomialNB  "
   ]
  },
  {
   "cell_type": "code",
   "execution_count": 24,
   "id": "e436e3b7",
   "metadata": {
    "execution": {
     "iopub.execute_input": "2023-08-12T03:27:41.059372Z",
     "iopub.status.busy": "2023-08-12T03:27:41.058096Z",
     "iopub.status.idle": "2023-08-12T03:27:41.063579Z",
     "shell.execute_reply": "2023-08-12T03:27:41.062346Z"
    },
    "papermill": {
     "duration": 0.107403,
     "end_time": "2023-08-12T03:27:41.066168",
     "exception": false,
     "start_time": "2023-08-12T03:27:40.958765",
     "status": "completed"
    },
    "tags": []
   },
   "outputs": [],
   "source": [
    "# mnb = MultinomialNB()\n",
    "# mnb_pipe = preprocess_n_train(X_train, y_train, tvec, mnb)\n",
    "# y_pred_mnb = predict_n_evaluate(mnb_pipe, X_test, y_test)\n",
    "# y_pred_mnb"
   ]
  },
  {
   "cell_type": "markdown",
   "id": "48aaa82a",
   "metadata": {
    "papermill": {
     "duration": 0.09844,
     "end_time": "2023-08-12T03:27:41.262010",
     "exception": false,
     "start_time": "2023-08-12T03:27:41.163570",
     "status": "completed"
    },
    "tags": []
   },
   "source": [
    "## Submitting predictions to Kaggle competition  "
   ]
  },
  {
   "cell_type": "code",
   "execution_count": 25,
   "id": "997ace3a",
   "metadata": {
    "execution": {
     "iopub.execute_input": "2023-08-12T03:27:41.456880Z",
     "iopub.status.busy": "2023-08-12T03:27:41.456505Z",
     "iopub.status.idle": "2023-08-12T03:27:41.461973Z",
     "shell.execute_reply": "2023-08-12T03:27:41.460685Z"
    },
    "papermill": {
     "duration": 0.107267,
     "end_time": "2023-08-12T03:27:41.464535",
     "exception": false,
     "start_time": "2023-08-12T03:27:41.357268",
     "status": "completed"
    },
    "tags": []
   },
   "outputs": [],
   "source": [
    "# def submit(selected_model=logreg, selected_preprocessor=tvec):\n",
    "    \n",
    "#     # Retrain on the whole train.csv file  \n",
    "#     traindf = pd.read_csv(\"/kaggle/input/sentiment-prediction-on-movie-reviews/train.csv\")\n",
    "#     X_train = traindf[\"reviewText\"]\n",
    "#     X_train.fillna(\"empty\", inplace=True)\n",
    "#     y_train = traindf[\"sentiment\"]\n",
    "#     pipe = preprocess_n_train(X_train, y_train, selected_preprocessor, selected_model)\n",
    "    \n",
    "#     # Predict on test.csv file\n",
    "#     testdf = pd.read_csv(\"/kaggle/input/sentiment-prediction-on-movie-reviews/test.csv\")\n",
    "#     X_test = testdf[\"reviewText\"]\n",
    "#     X_test.fillna(\"empty\", inplace=True)\n",
    "    \n",
    "#     y_pred = pipe.predict(X_test)\n",
    "    \n",
    "#     pred_df = pd.DataFrame(y_pred)\n",
    "#     pred_df.columns = [\"sentiment\"]\n",
    "#     pred_df.index.name = \"id\"\n",
    "#     pred_df.to_csv(\"submission.csv\")\n",
    "    \n",
    "#     return \"Successfully created the submission file!!!\""
   ]
  },
  {
   "cell_type": "code",
   "execution_count": 26,
   "id": "84e3805f",
   "metadata": {
    "execution": {
     "iopub.execute_input": "2023-08-12T03:27:41.662038Z",
     "iopub.status.busy": "2023-08-12T03:27:41.661214Z",
     "iopub.status.idle": "2023-08-12T03:27:41.665925Z",
     "shell.execute_reply": "2023-08-12T03:27:41.665110Z"
    },
    "papermill": {
     "duration": 0.106269,
     "end_time": "2023-08-12T03:27:41.668362",
     "exception": false,
     "start_time": "2023-08-12T03:27:41.562093",
     "status": "completed"
    },
    "tags": []
   },
   "outputs": [],
   "source": [
    "# submit(logreg_cv1, tvec_cv1)"
   ]
  },
  {
   "cell_type": "markdown",
   "id": "7e528275",
   "metadata": {
    "papermill": {
     "duration": 0.096145,
     "end_time": "2023-08-12T03:27:41.859830",
     "exception": false,
     "start_time": "2023-08-12T03:27:41.763685",
     "status": "completed"
    },
    "tags": []
   },
   "source": [
    "# PART II  "
   ]
  },
  {
   "cell_type": "markdown",
   "id": "c5cc90bd",
   "metadata": {
    "papermill": {
     "duration": 0.096979,
     "end_time": "2023-08-12T03:27:42.055787",
     "exception": false,
     "start_time": "2023-08-12T03:27:41.958808",
     "status": "completed"
    },
    "tags": []
   },
   "source": [
    "## Merge \"movies.csv\" with \"train.csv\" and \"test.csv\"  "
   ]
  },
  {
   "cell_type": "markdown",
   "id": "d9af2bae",
   "metadata": {
    "papermill": {
     "duration": 0.097947,
     "end_time": "2023-08-12T03:27:42.250779",
     "exception": false,
     "start_time": "2023-08-12T03:27:42.152832",
     "status": "completed"
    },
    "tags": []
   },
   "source": [
    "### Helper functions  "
   ]
  },
  {
   "cell_type": "code",
   "execution_count": 27,
   "id": "7f848593",
   "metadata": {
    "execution": {
     "iopub.execute_input": "2023-08-12T03:27:42.445534Z",
     "iopub.status.busy": "2023-08-12T03:27:42.444640Z",
     "iopub.status.idle": "2023-08-12T03:27:42.450784Z",
     "shell.execute_reply": "2023-08-12T03:27:42.450014Z"
    },
    "papermill": {
     "duration": 0.105914,
     "end_time": "2023-08-12T03:27:42.453205",
     "exception": false,
     "start_time": "2023-08-12T03:27:42.347291",
     "status": "completed"
    },
    "tags": []
   },
   "outputs": [],
   "source": [
    "# Helper function for loading files  \n",
    "\n",
    "def load_csv(filename: str):\n",
    "    if platform == \"vscode\":\n",
    "        df = pd.read_csv(f\"data/{filename}.csv\")\n",
    "    else:\n",
    "        df = pd.read_csv(f\"/kaggle/input/sentiment-prediction-on-movie-reviews/{filename}.csv\")\n",
    "        \n",
    "    return df"
   ]
  },
  {
   "cell_type": "code",
   "execution_count": 28,
   "id": "61461210",
   "metadata": {
    "execution": {
     "iopub.execute_input": "2023-08-12T03:27:42.647855Z",
     "iopub.status.busy": "2023-08-12T03:27:42.647189Z",
     "iopub.status.idle": "2023-08-12T03:27:42.653442Z",
     "shell.execute_reply": "2023-08-12T03:27:42.652503Z"
    },
    "papermill": {
     "duration": 0.107317,
     "end_time": "2023-08-12T03:27:42.655777",
     "exception": false,
     "start_time": "2023-08-12T03:27:42.548460",
     "status": "completed"
    },
    "tags": []
   },
   "outputs": [],
   "source": [
    "def inspect(df: pd.DataFrame):\n",
    "    print(f\"Shape of the dataframe: {df.shape}\")\n",
    "    print()\n",
    "    print(f\"Columns in the dataframe:\\n{df.columns}\")\n",
    "    print()\n",
    "    print(f\"{df.info()}\")\n",
    "    print()\n",
    "    # print(f\"Summary: {df.describe()}\")\n",
    "    print(f\"Missing values:\\n{df.isna().sum()}\")\n",
    "    return"
   ]
  },
  {
   "cell_type": "code",
   "execution_count": 29,
   "id": "c10ec888",
   "metadata": {
    "execution": {
     "iopub.execute_input": "2023-08-12T03:27:42.849776Z",
     "iopub.status.busy": "2023-08-12T03:27:42.849375Z",
     "iopub.status.idle": "2023-08-12T03:27:42.855451Z",
     "shell.execute_reply": "2023-08-12T03:27:42.854011Z"
    },
    "papermill": {
     "duration": 0.105053,
     "end_time": "2023-08-12T03:27:42.857918",
     "exception": false,
     "start_time": "2023-08-12T03:27:42.752865",
     "status": "completed"
    },
    "tags": []
   },
   "outputs": [],
   "source": [
    "def name_fl(name):\n",
    "    l = name.split()\n",
    "    n = ' '.join((l[0], l[-1]))\n",
    "    return n"
   ]
  },
  {
   "cell_type": "code",
   "execution_count": 30,
   "id": "6244ee3c",
   "metadata": {
    "execution": {
     "iopub.execute_input": "2023-08-12T03:27:43.055666Z",
     "iopub.status.busy": "2023-08-12T03:27:43.055257Z",
     "iopub.status.idle": "2023-08-12T03:27:43.084543Z",
     "shell.execute_reply": "2023-08-12T03:27:43.083338Z"
    },
    "papermill": {
     "duration": 0.130967,
     "end_time": "2023-08-12T03:27:43.087512",
     "exception": false,
     "start_time": "2023-08-12T03:27:42.956545",
     "status": "completed"
    },
    "tags": []
   },
   "outputs": [],
   "source": [
    "def select_features(df: pd.DataFrame, moviesdf: pd.DataFrame, row_thresh_null=None):\n",
    "    '''\n",
    "    This function merges the given dataframes. Note that the first df must be \"train\" or \"test\" and\n",
    "    the second df should be \"movies\".\n",
    "    Note: Sentiment column is present only in \"train.csv\" file and not \"test.csv\" file.\n",
    "    '''\n",
    "    \n",
    "    # Drop duplicates from moviesdf\n",
    "#     movies_unique = moviesdf.drop_duplicates(subset=[\"movieid\"])\n",
    "\n",
    "    # Drop duplicates using groupby - clubs similar rows and fills in missing values better\n",
    "    movies_unique = moviesdf.fillna(value=np.nan).groupby(\"movieid\").first().reset_index()\n",
    "    \n",
    "\n",
    "    # Handle missing values in movies.csv better than just dropping duplicates?\n",
    "#     movies_unique = moviesdf.copy()\n",
    "#     movies_unique[[\"audienceScore\", \"runtimeMinutes\"]] = movies_unique[[\"audienceScore\", \"runtimeMinutes\"]].interpolate(method='linear', axis=0)\n",
    "#     movies_unique = movies_unique.fillna(value=np.nan).groupby(\"movieid\").first().fillna(method='ffill').reset_index()\n",
    "\n",
    "    \n",
    "\n",
    "    # Merge df and movies_unique\n",
    "    df_merged = pd.merge(df, movies_unique, on=\"movieid\", how='left')\n",
    "    \n",
    "    # Rename \"isTopCritic\" column, if it exists, to \"isFrequentReviewer\"\n",
    "    df_merged.rename(columns={\"isTopCritic\": \"isFrequentReviewer\"}, inplace=True)\n",
    "    \n",
    "    # Drop columns\n",
    "#     df_merged = df_merged.drop(columns=[\"title\", \"ratingContents\", \"releaseDateTheaters\", \"releaseDateStreaming\", \"distributor\", \"soundType\"])\n",
    "#     df_merged = df_merged.drop(columns=[\"title\", \"soundType\"])\n",
    "    \n",
    "    # Drop rows (OPTIONAL: Uses kwarg row_thresh_null)\n",
    "    if row_thresh_null != None:\n",
    "        df_merged.dropna(axis=0, thresh=(df_merged.shape[1] - row_thresh_null), inplace=True)\n",
    "        \n",
    "\n",
    "    # Create new columns based on reviewText\n",
    "    final = df_merged.copy()\n",
    "    final[\"reviewYN\"] = np.where(final[\"reviewText\"].isnull(), 1, 0)    # Feature engineering - adding a new column\n",
    "    final[\"reviewWC\"] = final.apply(lambda x: len(str(x[\"reviewText\"]).split()), axis=1)    # Feature engineering - adding second new column\n",
    "    \n",
    "    # Clean text (replace numbers with empty string) and fill missing values in \"reviewText\" with empty string\n",
    "    final[\"reviewText\"] = final[\"reviewText\"].str.replace('\\d+', '', regex=True)\n",
    "    final[\"reviewText\"] = final[\"reviewText\"].fillna(\"neutral\")\n",
    "    \n",
    "    # Fill missing values in \"rating\", \"genre\", original columns with the word \"unknown\"\n",
    "    final[\"rating\"] = final[\"rating\"].fillna(\"unknown\")\n",
    "    final[\"originalLanguage\"] = final[\"originalLanguage\"].fillna(\"unknown\")\n",
    "    final[\"genre\"] = final[\"genre\"].fillna(\"unknown\")\n",
    "    final[\"genre\"] = final[\"genre\"].apply(lambda x: re.sub(r\"-\", \"\", x))\n",
    "    final[\"genreSorted\"] = final[\"genre\"].apply(lambda x: (\",\").join(sorted(x.split(\", \"))))\n",
    "#     final[\"genre\"] = final[\"genre\"].replace(to_replace={\"&\": \"\"})\n",
    "\n",
    "    # Impute missing values for \"audienceScore\" and \"runtimeMinutes\" columns\n",
    "#     final[\"audienceScore\"] = final[\"audienceScore\"].fillna(final[\"audienceScore\"].mean())        # MOVED\n",
    "#     final[\"runtimeMinutes\"] = final[\"runtimeMinutes\"].fillna(final[\"runtimeMinutes\"].median())   # MOVED\n",
    "    \n",
    "    # Preprocess and impute missing values in \"boxOffice\" column\n",
    "    final[\"boxOffice\"] = final[\"boxOffice\"].str[1:]\n",
    "    final[\"boxOffice\"] = final[\"boxOffice\"].replace(to_replace={\"M\": \"*1000000\", \"K\": \"*1000\"}, regex=True)\n",
    "    final[\"boxOffice\"] = final[\"boxOffice\"].loc[final[\"boxOffice\"].notnull()].apply(lambda x: eval(str(x)))\n",
    "#     final[\"boxOffice\"] = final[\"boxOffice\"].fillna(final[\"boxOffice\"].median())                  # MOVED\n",
    "    # (Optional) Replace outliers in boxOffice with median\n",
    "#     median = final[\"boxOffice\"].describe()['50%']\n",
    "#     iqr = final[\"boxOffice\"].describe()['75%'] - final[\"boxOffice\"].describe()['25%']\n",
    "#     ll = median - (1.5*iqr)\n",
    "#     ul = median + (1.5*iqr)\n",
    "#     final.loc[final[\"boxOffice\"] > ul, \"boxOffice\"] = median\n",
    "    \n",
    "    # Clean language names\n",
    "    final[\"originalLanguage\"].replace({\"English (United Kingdom)\": \"English\", \n",
    "                                            \"English (Australia)\" : \"English\",\n",
    "                                            \"French (France)\": \"French\", \n",
    "                                            \"French (Canada)\": \"French\",\n",
    "                                            \"Portuguese (Brazil)\": \"Portuguese\",\n",
    "                                            \"Spanish (Spain)\": \"Spanish\"},                                         \n",
    "                                            inplace=True)\n",
    "    \n",
    "    # Clean reviewerName column\n",
    "    pre_post_fixes = {\"Mr. \": \"\", \"Mrs. \": \"\", \"Ms. \": \"\", \"Dr. \": \"\", \n",
    "                      \" MD\": \"\", \" DDS\": \"\", \" DVM\": \"\", \" Jr.\": \"\", \" PhD\": \"\", \" II\": \"\", \" IV\": \"\"}\n",
    "    final[\"reviewerName\"] = final[\"reviewerName\"].replace(pre_post_fixes, regex=True)\n",
    "    final[\"reviewerName\"] = final[\"reviewerName\"].apply(name_fl)\n",
    "    \n",
    "    # Handle 'ratingContents' column\n",
    "    final[\"ratingContents\"] = final[\"ratingContents\"].fillna(\"neutral\")\n",
    "    final[\"rcSorted\"] = final[\"ratingContents\"].apply(lambda x: (\",\").join(sorted(x.strip(\"][\").split(\", \"))))\n",
    "    final[\"rcSorted\"] = final[\"rcSorted\"].apply(lambda x: re.sub(r\"'\", \"\", x))\n",
    "    final[\"rcSorted\"] = final[\"rcSorted\"].apply(lambda x: re.sub(r\"[/\\s]\", \"_\", x))  \n",
    "    \n",
    "    # Handle 'ratingContents' column\n",
    "    final[\"distributor\"] = final[\"distributor\"].fillna(\"unknown\")\n",
    "    \n",
    "    # Work with 'releaseDateTheaters', releaseDateStreaming column\n",
    "    final[[\"releaseDateTheaters\", \"releaseDateStreaming\"]] = final[[\"releaseDateTheaters\", \"releaseDateStreaming\"]].astype('datetime64[ns]')\n",
    "\n",
    "    final[\"releaseDate\"] = final[[\"releaseDateTheaters\", \"releaseDateStreaming\"]].min(axis=1, skipna=False)\n",
    "#     final[\"releaseDate\"] = final[\"releaseDate\"].fillna(final[\"releaseDate\"].median())               # MOVED\n",
    "\n",
    "    final[\"releaseYear\"] = final[\"releaseDate\"].dt.year\n",
    "    final[\"releaseMonth\"] = final[\"releaseDate\"].dt.month\n",
    "    \n",
    "    # Compute \"releaseDiff\" column and fill missing values in \"releaseDiff\" and (optional) replace outliers\n",
    "    final[\"releaseDiff\"] = (final[\"releaseDateStreaming\"] - final[\"releaseDateTheaters\"]) / np.timedelta64(1, 'D')\n",
    "    final[\"releaseDiff\"] = final[\"releaseDiff\"].apply(lambda x: abs(x))\n",
    "    final[\"releaseDiff\"] = final[\"releaseDiff\"].fillna(value=0)\n",
    "#     final[\"releaseDiff\"] = final[\"releaseDiff\"].fillna(final[\"releaseDiff\"].median())\n",
    "    # median = final[\"releaseDiff\"].describe()['50%']\n",
    "    # iqr = final[\"releaseDiff\"].describe()['75%'] - final[\"releaseDiff\"].describe()['25%']\n",
    "    # ll = median - (1.5*iqr)\n",
    "    # ul = median + (1.5*iqr)\n",
    "    # final.loc[final[\"releaseDiff\"] > ul, \"releaseDiff\"] = median\n",
    "    # final.loc[final[\"releaseDiff\"] < ll, \"releaseDiff\"] = median\n",
    "    \n",
    "#     # Create new feature columns\n",
    "    \n",
    "#     # Convert audienceScore to categories  \n",
    "#     num_bins_as = 20\n",
    "#     final[\"audScoreBins\"] = pd.cut(final['audienceScore'], bins=num_bins_as, labels=False)\n",
    "    \n",
    "#     # Convert runtimeMinutes to categories  \n",
    "# #     num_bins_rt = 20\n",
    "#     final[\"runtimeBins\"] = pd.cut(final['runtimeMinutes'], bins=[0,75,120,180,565], labels=[4,3,2,1])\n",
    "    \n",
    "#     # Convert boxOffice to categories  \n",
    "#     num_bins_bo = 5\n",
    "#     final[\"boxOfficeBins\"] = pd.cut(final['boxOffice'], bins=num_bins_bo, labels=False)\n",
    "    \n",
    "#     # Convert releaseDiff to categories  \n",
    "#     num_bins_rd = 5\n",
    "#     final[\"releaseDiffBins\"] = pd.cut(final['releaseDiff'], bins=[-1, 180, 360, 1000, 40000], labels=[0, 1, 2, 3])\n",
    "\n",
    "    return final"
   ]
  },
  {
   "cell_type": "code",
   "execution_count": 31,
   "id": "d53153a9",
   "metadata": {
    "execution": {
     "iopub.execute_input": "2023-08-12T03:27:43.285607Z",
     "iopub.status.busy": "2023-08-12T03:27:43.285193Z",
     "iopub.status.idle": "2023-08-12T03:27:43.293019Z",
     "shell.execute_reply": "2023-08-12T03:27:43.291701Z"
    },
    "papermill": {
     "duration": 0.110139,
     "end_time": "2023-08-12T03:27:43.295852",
     "exception": false,
     "start_time": "2023-08-12T03:27:43.185713",
     "status": "completed"
    },
    "tags": []
   },
   "outputs": [],
   "source": [
    "def split_train_predict(features, labels, pipeline, test_size=0.25, random_state=42):\n",
    "    # cols = features.columns\n",
    "    if len(features.shape) == 1:\n",
    "        features = features.to_numpy().reshape(-1, 1)  # reshape to 2D array\n",
    "    features = pd.DataFrame(features)\n",
    "    X_train, X_test, y_train, y_test = train_test_split(features, labels, test_size=test_size, random_state=random_state)\n",
    "    pipeline.fit(X_train, y_train)\n",
    "    y_pred = pipeline.predict(X_test)\n",
    "    print(classification_report(y_test, y_pred))\n",
    "    print(confusion_matrix(y_test, y_pred))\n",
    "    return pipeline"
   ]
  },
  {
   "cell_type": "markdown",
   "id": "f5966aee",
   "metadata": {
    "papermill": {
     "duration": 0.096484,
     "end_time": "2023-08-12T03:27:43.489826",
     "exception": false,
     "start_time": "2023-08-12T03:27:43.393342",
     "status": "completed"
    },
    "tags": []
   },
   "source": [
    "### Merge \"train.csv\" file with \"movies.csv\" file  "
   ]
  },
  {
   "cell_type": "code",
   "execution_count": 32,
   "id": "83f1f14b",
   "metadata": {
    "execution": {
     "iopub.execute_input": "2023-08-12T03:27:43.686319Z",
     "iopub.status.busy": "2023-08-12T03:27:43.685875Z",
     "iopub.status.idle": "2023-08-12T03:27:58.792866Z",
     "shell.execute_reply": "2023-08-12T03:27:58.791602Z"
    },
    "papermill": {
     "duration": 15.209309,
     "end_time": "2023-08-12T03:27:58.796120",
     "exception": false,
     "start_time": "2023-08-12T03:27:43.586811",
     "status": "completed"
    },
    "tags": []
   },
   "outputs": [],
   "source": [
    "merged = select_features(load_csv(\"train\"), load_csv(\"movies\"), row_thresh_null=None)"
   ]
  },
  {
   "cell_type": "code",
   "execution_count": 33,
   "id": "56dde02c",
   "metadata": {
    "execution": {
     "iopub.execute_input": "2023-08-12T03:27:58.993448Z",
     "iopub.status.busy": "2023-08-12T03:27:58.992558Z",
     "iopub.status.idle": "2023-08-12T03:27:58.998030Z",
     "shell.execute_reply": "2023-08-12T03:27:58.997093Z"
    },
    "papermill": {
     "duration": 0.106898,
     "end_time": "2023-08-12T03:27:59.000518",
     "exception": false,
     "start_time": "2023-08-12T03:27:58.893620",
     "status": "completed"
    },
    "tags": []
   },
   "outputs": [],
   "source": [
    "# inspect(merged)    # Note missing values in ['audienceScore', 'runtimeMinutes', 'boxOffice'] columns  "
   ]
  },
  {
   "cell_type": "code",
   "execution_count": 34,
   "id": "6a6d01a5",
   "metadata": {
    "execution": {
     "iopub.execute_input": "2023-08-12T03:27:59.199212Z",
     "iopub.status.busy": "2023-08-12T03:27:59.198399Z",
     "iopub.status.idle": "2023-08-12T03:27:59.305012Z",
     "shell.execute_reply": "2023-08-12T03:27:59.303842Z"
    },
    "papermill": {
     "duration": 0.207271,
     "end_time": "2023-08-12T03:27:59.307374",
     "exception": false,
     "start_time": "2023-08-12T03:27:59.100103",
     "status": "completed"
    },
    "tags": []
   },
   "outputs": [
    {
     "data": {
      "text/plain": [
       "array([6.80e+01, 1.04e+02, 1.43e+07])"
      ]
     },
     "execution_count": 34,
     "metadata": {},
     "output_type": "execute_result"
    }
   ],
   "source": [
    "# Simple Imputer for ['audienceScore', 'runtimeMinutes', 'boxOffice'] columns\n",
    "si = SimpleImputer(strategy='median')\n",
    "merged[['audienceScore', 'runtimeMinutes', 'boxOffice']] = si.fit_transform(merged[['audienceScore', 'runtimeMinutes', 'boxOffice']])\n",
    "si.statistics_"
   ]
  },
  {
   "cell_type": "code",
   "execution_count": 35,
   "id": "622a844e",
   "metadata": {
    "execution": {
     "iopub.execute_input": "2023-08-12T03:27:59.500522Z",
     "iopub.status.busy": "2023-08-12T03:27:59.499795Z",
     "iopub.status.idle": "2023-08-12T03:27:59.515408Z",
     "shell.execute_reply": "2023-08-12T03:27:59.514481Z"
    },
    "papermill": {
     "duration": 0.115548,
     "end_time": "2023-08-12T03:27:59.518023",
     "exception": false,
     "start_time": "2023-08-12T03:27:59.402475",
     "status": "completed"
    },
    "tags": []
   },
   "outputs": [],
   "source": [
    "# Fill 'releaseDate' column with median  \n",
    "merged['releaseDate'] = merged[\"releaseDate\"].fillna(merged[\"releaseDate\"].median())"
   ]
  },
  {
   "cell_type": "code",
   "execution_count": 36,
   "id": "97f47905",
   "metadata": {
    "execution": {
     "iopub.execute_input": "2023-08-12T03:27:59.715993Z",
     "iopub.status.busy": "2023-08-12T03:27:59.715284Z",
     "iopub.status.idle": "2023-08-12T03:28:01.208035Z",
     "shell.execute_reply": "2023-08-12T03:28:01.206695Z"
    },
    "papermill": {
     "duration": 1.596343,
     "end_time": "2023-08-12T03:28:01.211219",
     "exception": false,
     "start_time": "2023-08-12T03:27:59.614876",
     "status": "completed"
    },
    "tags": []
   },
   "outputs": [
    {
     "name": "stdout",
     "output_type": "stream",
     "text": [
      "Shape of the dataframe: (162758, 26)\n",
      "\n",
      "Columns in the dataframe:\n",
      "Index(['movieid', 'reviewerName', 'isFrequentReviewer', 'reviewText',\n",
      "       'sentiment', 'title', 'audienceScore', 'rating', 'ratingContents',\n",
      "       'releaseDateTheaters', 'releaseDateStreaming', 'runtimeMinutes',\n",
      "       'genre', 'originalLanguage', 'director', 'boxOffice', 'distributor',\n",
      "       'soundType', 'reviewYN', 'reviewWC', 'genreSorted', 'rcSorted',\n",
      "       'releaseDate', 'releaseYear', 'releaseMonth', 'releaseDiff'],\n",
      "      dtype='object')\n",
      "\n",
      "<class 'pandas.core.frame.DataFrame'>\n",
      "Int64Index: 162758 entries, 0 to 162757\n",
      "Data columns (total 26 columns):\n",
      " #   Column                Non-Null Count   Dtype         \n",
      "---  ------                --------------   -----         \n",
      " 0   movieid               162758 non-null  object        \n",
      " 1   reviewerName          162758 non-null  object        \n",
      " 2   isFrequentReviewer    162758 non-null  bool          \n",
      " 3   reviewText            162758 non-null  object        \n",
      " 4   sentiment             162758 non-null  object        \n",
      " 5   title                 162758 non-null  object        \n",
      " 6   audienceScore         162758 non-null  float64       \n",
      " 7   rating                162758 non-null  object        \n",
      " 8   ratingContents        162758 non-null  object        \n",
      " 9   releaseDateTheaters   146403 non-null  datetime64[ns]\n",
      " 10  releaseDateStreaming  157353 non-null  datetime64[ns]\n",
      " 11  runtimeMinutes        162758 non-null  float64       \n",
      " 12  genre                 162758 non-null  object        \n",
      " 13  originalLanguage      162758 non-null  object        \n",
      " 14  director              162758 non-null  object        \n",
      " 15  boxOffice             162758 non-null  float64       \n",
      " 16  distributor           162758 non-null  object        \n",
      " 17  soundType             93466 non-null   object        \n",
      " 18  reviewYN              162758 non-null  int64         \n",
      " 19  reviewWC              162758 non-null  int64         \n",
      " 20  genreSorted           162758 non-null  object        \n",
      " 21  rcSorted              162758 non-null  object        \n",
      " 22  releaseDate           162758 non-null  datetime64[ns]\n",
      " 23  releaseYear           143073 non-null  float64       \n",
      " 24  releaseMonth          143073 non-null  float64       \n",
      " 25  releaseDiff           162758 non-null  float64       \n",
      "dtypes: bool(1), datetime64[ns](3), float64(6), int64(2), object(14)\n",
      "memory usage: 32.4+ MB\n",
      "None\n",
      "\n",
      "Missing values:\n",
      "movieid                     0\n",
      "reviewerName                0\n",
      "isFrequentReviewer          0\n",
      "reviewText                  0\n",
      "sentiment                   0\n",
      "title                       0\n",
      "audienceScore               0\n",
      "rating                      0\n",
      "ratingContents              0\n",
      "releaseDateTheaters     16355\n",
      "releaseDateStreaming     5405\n",
      "runtimeMinutes              0\n",
      "genre                       0\n",
      "originalLanguage            0\n",
      "director                    0\n",
      "boxOffice                   0\n",
      "distributor                 0\n",
      "soundType               69292\n",
      "reviewYN                    0\n",
      "reviewWC                    0\n",
      "genreSorted                 0\n",
      "rcSorted                    0\n",
      "releaseDate                 0\n",
      "releaseYear             19685\n",
      "releaseMonth            19685\n",
      "releaseDiff                 0\n",
      "dtype: int64\n"
     ]
    }
   ],
   "source": [
    "# Check out 'merged' df after imputation  \n",
    "inspect(merged)"
   ]
  },
  {
   "cell_type": "code",
   "execution_count": 37,
   "id": "e795b9b6",
   "metadata": {
    "execution": {
     "iopub.execute_input": "2023-08-12T03:28:01.412548Z",
     "iopub.status.busy": "2023-08-12T03:28:01.412103Z",
     "iopub.status.idle": "2023-08-12T03:28:01.476934Z",
     "shell.execute_reply": "2023-08-12T03:28:01.475676Z"
    },
    "papermill": {
     "duration": 0.168346,
     "end_time": "2023-08-12T03:28:01.479819",
     "exception": false,
     "start_time": "2023-08-12T03:28:01.311473",
     "status": "completed"
    },
    "tags": []
   },
   "outputs": [
    {
     "data": {
      "text/html": [
       "<div>\n",
       "<style scoped>\n",
       "    .dataframe tbody tr th:only-of-type {\n",
       "        vertical-align: middle;\n",
       "    }\n",
       "\n",
       "    .dataframe tbody tr th {\n",
       "        vertical-align: top;\n",
       "    }\n",
       "\n",
       "    .dataframe thead th {\n",
       "        text-align: right;\n",
       "    }\n",
       "</style>\n",
       "<table border=\"1\" class=\"dataframe\">\n",
       "  <thead>\n",
       "    <tr style=\"text-align: right;\">\n",
       "      <th></th>\n",
       "      <th>audienceScore</th>\n",
       "      <th>runtimeMinutes</th>\n",
       "      <th>boxOffice</th>\n",
       "    </tr>\n",
       "  </thead>\n",
       "  <tbody>\n",
       "    <tr>\n",
       "      <th>count</th>\n",
       "      <td>162758.000000</td>\n",
       "      <td>162758.000000</td>\n",
       "      <td>1.627580e+05</td>\n",
       "    </tr>\n",
       "    <tr>\n",
       "      <th>mean</th>\n",
       "      <td>65.062565</td>\n",
       "      <td>106.992019</td>\n",
       "      <td>4.160983e+07</td>\n",
       "    </tr>\n",
       "    <tr>\n",
       "      <th>std</th>\n",
       "      <td>19.844000</td>\n",
       "      <td>22.203778</td>\n",
       "      <td>7.932291e+07</td>\n",
       "    </tr>\n",
       "    <tr>\n",
       "      <th>min</th>\n",
       "      <td>0.000000</td>\n",
       "      <td>4.000000</td>\n",
       "      <td>0.000000e+00</td>\n",
       "    </tr>\n",
       "    <tr>\n",
       "      <th>25%</th>\n",
       "      <td>51.000000</td>\n",
       "      <td>93.000000</td>\n",
       "      <td>2.000000e+06</td>\n",
       "    </tr>\n",
       "    <tr>\n",
       "      <th>50%</th>\n",
       "      <td>68.000000</td>\n",
       "      <td>104.000000</td>\n",
       "      <td>1.430000e+07</td>\n",
       "    </tr>\n",
       "    <tr>\n",
       "      <th>75%</th>\n",
       "      <td>81.000000</td>\n",
       "      <td>118.000000</td>\n",
       "      <td>4.200000e+07</td>\n",
       "    </tr>\n",
       "    <tr>\n",
       "      <th>max</th>\n",
       "      <td>100.000000</td>\n",
       "      <td>561.000000</td>\n",
       "      <td>8.584000e+08</td>\n",
       "    </tr>\n",
       "  </tbody>\n",
       "</table>\n",
       "</div>"
      ],
      "text/plain": [
       "       audienceScore  runtimeMinutes     boxOffice\n",
       "count  162758.000000   162758.000000  1.627580e+05\n",
       "mean       65.062565      106.992019  4.160983e+07\n",
       "std        19.844000       22.203778  7.932291e+07\n",
       "min         0.000000        4.000000  0.000000e+00\n",
       "25%        51.000000       93.000000  2.000000e+06\n",
       "50%        68.000000      104.000000  1.430000e+07\n",
       "75%        81.000000      118.000000  4.200000e+07\n",
       "max       100.000000      561.000000  8.584000e+08"
      ]
     },
     "execution_count": 37,
     "metadata": {},
     "output_type": "execute_result"
    }
   ],
   "source": [
    "merged[['audienceScore', 'runtimeMinutes', 'boxOffice']].describe()"
   ]
  },
  {
   "cell_type": "markdown",
   "id": "9e04c2e2",
   "metadata": {
    "papermill": {
     "duration": 0.096791,
     "end_time": "2023-08-12T03:28:01.674189",
     "exception": false,
     "start_time": "2023-08-12T03:28:01.577398",
     "status": "completed"
    },
    "tags": []
   },
   "source": [
    "### EDA releaseDiff  "
   ]
  },
  {
   "cell_type": "code",
   "execution_count": 38,
   "id": "306b8e3f",
   "metadata": {
    "execution": {
     "iopub.execute_input": "2023-08-12T03:28:01.870479Z",
     "iopub.status.busy": "2023-08-12T03:28:01.869755Z",
     "iopub.status.idle": "2023-08-12T03:28:01.890777Z",
     "shell.execute_reply": "2023-08-12T03:28:01.889039Z"
    },
    "papermill": {
     "duration": 0.123052,
     "end_time": "2023-08-12T03:28:01.893686",
     "exception": false,
     "start_time": "2023-08-12T03:28:01.770634",
     "status": "completed"
    },
    "tags": []
   },
   "outputs": [
    {
     "data": {
      "text/plain": [
       "count    162758.000000\n",
       "mean       1653.469015\n",
       "std        4581.420922\n",
       "min           0.000000\n",
       "25%          65.000000\n",
       "50%         116.000000\n",
       "75%         375.000000\n",
       "max       38922.000000\n",
       "Name: releaseDiff, dtype: float64"
      ]
     },
     "execution_count": 38,
     "metadata": {},
     "output_type": "execute_result"
    }
   ],
   "source": [
    "# abs values\n",
    "merged[\"releaseDiff\"].describe()"
   ]
  },
  {
   "cell_type": "code",
   "execution_count": 39,
   "id": "165d5ff4",
   "metadata": {
    "execution": {
     "iopub.execute_input": "2023-08-12T03:28:02.095703Z",
     "iopub.status.busy": "2023-08-12T03:28:02.095273Z",
     "iopub.status.idle": "2023-08-12T03:28:02.100153Z",
     "shell.execute_reply": "2023-08-12T03:28:02.098868Z"
    },
    "papermill": {
     "duration": 0.109192,
     "end_time": "2023-08-12T03:28:02.102561",
     "exception": false,
     "start_time": "2023-08-12T03:28:01.993369",
     "status": "completed"
    },
    "tags": []
   },
   "outputs": [],
   "source": [
    "# merged['releaseDiffBins'].value_counts()"
   ]
  },
  {
   "cell_type": "code",
   "execution_count": 40,
   "id": "5083da7b",
   "metadata": {
    "execution": {
     "iopub.execute_input": "2023-08-12T03:28:02.302809Z",
     "iopub.status.busy": "2023-08-12T03:28:02.301791Z",
     "iopub.status.idle": "2023-08-12T03:28:02.688901Z",
     "shell.execute_reply": "2023-08-12T03:28:02.687414Z"
    },
    "papermill": {
     "duration": 0.489716,
     "end_time": "2023-08-12T03:28:02.692012",
     "exception": false,
     "start_time": "2023-08-12T03:28:02.202296",
     "status": "completed"
    },
    "tags": []
   },
   "outputs": [
    {
     "data": {
      "text/plain": [
       "<Axes: xlabel='sentiment', ylabel='releaseDiff'>"
      ]
     },
     "execution_count": 40,
     "metadata": {},
     "output_type": "execute_result"
    },
    {
     "data": {
      "image/png": "[encoded data removed]",
      "text/plain": [
       "<Figure size 640x480 with 1 Axes>"
      ]
     },
     "metadata": {},
     "output_type": "display_data"
    }
   ],
   "source": [
    "sns.boxplot(x=merged['sentiment'], y=merged['releaseDiff'], showfliers=False)"
   ]
  },
  {
   "cell_type": "code",
   "execution_count": 41,
   "id": "02fdd1f7",
   "metadata": {
    "execution": {
     "iopub.execute_input": "2023-08-12T03:28:02.896305Z",
     "iopub.status.busy": "2023-08-12T03:28:02.895848Z",
     "iopub.status.idle": "2023-08-12T03:28:02.901298Z",
     "shell.execute_reply": "2023-08-12T03:28:02.899936Z"
    },
    "papermill": {
     "duration": 0.112192,
     "end_time": "2023-08-12T03:28:02.903911",
     "exception": false,
     "start_time": "2023-08-12T03:28:02.791719",
     "status": "completed"
    },
    "tags": []
   },
   "outputs": [],
   "source": [
    "# sns.displot(merged['releaseDiffBins'])"
   ]
  },
  {
   "cell_type": "code",
   "execution_count": 42,
   "id": "785886d8",
   "metadata": {
    "execution": {
     "iopub.execute_input": "2023-08-12T03:28:03.111538Z",
     "iopub.status.busy": "2023-08-12T03:28:03.111103Z",
     "iopub.status.idle": "2023-08-12T03:28:03.116558Z",
     "shell.execute_reply": "2023-08-12T03:28:03.115305Z"
    },
    "papermill": {
     "duration": 0.113907,
     "end_time": "2023-08-12T03:28:03.119364",
     "exception": false,
     "start_time": "2023-08-12T03:28:03.005457",
     "status": "completed"
    },
    "tags": []
   },
   "outputs": [],
   "source": [
    "# merged['sentiment'].loc[merged['releaseDiffBins'] > 0].value_counts()"
   ]
  },
  {
   "cell_type": "code",
   "execution_count": 43,
   "id": "7ef0824f",
   "metadata": {
    "execution": {
     "iopub.execute_input": "2023-08-12T03:28:03.321445Z",
     "iopub.status.busy": "2023-08-12T03:28:03.320741Z",
     "iopub.status.idle": "2023-08-12T03:28:03.327137Z",
     "shell.execute_reply": "2023-08-12T03:28:03.325673Z"
    },
    "papermill": {
     "duration": 0.111083,
     "end_time": "2023-08-12T03:28:03.329863",
     "exception": false,
     "start_time": "2023-08-12T03:28:03.218780",
     "status": "completed"
    },
    "tags": []
   },
   "outputs": [],
   "source": [
    "# merged['releaseDiffBins'].describe()"
   ]
  },
  {
   "cell_type": "markdown",
   "id": "becd461c",
   "metadata": {
    "papermill": {
     "duration": 0.106728,
     "end_time": "2023-08-12T03:28:03.536270",
     "exception": false,
     "start_time": "2023-08-12T03:28:03.429542",
     "status": "completed"
    },
    "tags": []
   },
   "source": [
    "### EDA 'distributor'  "
   ]
  },
  {
   "cell_type": "code",
   "execution_count": 44,
   "id": "06b21a2e",
   "metadata": {
    "execution": {
     "iopub.execute_input": "2023-08-12T03:28:03.846272Z",
     "iopub.status.busy": "2023-08-12T03:28:03.845833Z",
     "iopub.status.idle": "2023-08-12T03:28:03.883982Z",
     "shell.execute_reply": "2023-08-12T03:28:03.882520Z"
    },
    "papermill": {
     "duration": 0.151409,
     "end_time": "2023-08-12T03:28:03.886985",
     "exception": false,
     "start_time": "2023-08-12T03:28:03.735576",
     "status": "completed"
    },
    "tags": []
   },
   "outputs": [
    {
     "data": {
      "text/plain": [
       "unknown                              20489\n",
       "Universal Pictures                    8847\n",
       "Warner Bros. Pictures                 8722\n",
       "Paramount Pictures                    7773\n",
       "20th Century Fox                      7007\n",
       "                                     ...  \n",
       "Almi Pictures                            1\n",
       "Koch Lorber                              1\n",
       "Magic Lamp                               1\n",
       "Fine Line Features, Miramax Films        1\n",
       "American Film Co.                        1\n",
       "Name: distributor, Length: 1796, dtype: int64"
      ]
     },
     "execution_count": 44,
     "metadata": {},
     "output_type": "execute_result"
    }
   ],
   "source": [
    "merged[\"distributor\"].value_counts()"
   ]
  },
  {
   "cell_type": "code",
   "execution_count": 45,
   "id": "26ea4ee0",
   "metadata": {
    "execution": {
     "iopub.execute_input": "2023-08-12T03:28:04.098300Z",
     "iopub.status.busy": "2023-08-12T03:28:04.097862Z",
     "iopub.status.idle": "2023-08-12T03:28:04.119217Z",
     "shell.execute_reply": "2023-08-12T03:28:04.117929Z"
    },
    "papermill": {
     "duration": 0.129961,
     "end_time": "2023-08-12T03:28:04.122043",
     "exception": false,
     "start_time": "2023-08-12T03:28:03.992082",
     "status": "completed"
    },
    "tags": []
   },
   "outputs": [
    {
     "data": {
      "text/plain": [
       "count    162758.000000\n",
       "mean        106.992019\n",
       "std          22.203778\n",
       "min           4.000000\n",
       "25%          93.000000\n",
       "50%         104.000000\n",
       "75%         118.000000\n",
       "max         561.000000\n",
       "Name: runtimeMinutes, dtype: float64"
      ]
     },
     "execution_count": 45,
     "metadata": {},
     "output_type": "execute_result"
    }
   ],
   "source": [
    "merged[\"runtimeMinutes\"].describe()"
   ]
  },
  {
   "cell_type": "code",
   "execution_count": 46,
   "id": "c7dde278",
   "metadata": {
    "execution": {
     "iopub.execute_input": "2023-08-12T03:28:04.324683Z",
     "iopub.status.busy": "2023-08-12T03:28:04.324277Z",
     "iopub.status.idle": "2023-08-12T03:28:04.754863Z",
     "shell.execute_reply": "2023-08-12T03:28:04.752981Z"
    },
    "papermill": {
     "duration": 0.536062,
     "end_time": "2023-08-12T03:28:04.757616",
     "exception": false,
     "start_time": "2023-08-12T03:28:04.221554",
     "status": "completed"
    },
    "tags": []
   },
   "outputs": [
    {
     "data": {
      "text/plain": [
       "<Axes: xlabel='sentiment', ylabel='runtimeMinutes'>"
      ]
     },
     "execution_count": 46,
     "metadata": {},
     "output_type": "execute_result"
    },
    {
     "data": {
      "image/png": "[encoded data removed]",
      "text/plain": [
       "<Figure size 640x480 with 1 Axes>"
      ]
     },
     "metadata": {},
     "output_type": "display_data"
    }
   ],
   "source": [
    "sns.boxplot(y=merged[\"runtimeMinutes\"], x=merged[\"sentiment\"])"
   ]
  },
  {
   "cell_type": "code",
   "execution_count": 47,
   "id": "1f4a4a67",
   "metadata": {
    "execution": {
     "iopub.execute_input": "2023-08-12T03:28:04.954074Z",
     "iopub.status.busy": "2023-08-12T03:28:04.953628Z",
     "iopub.status.idle": "2023-08-12T03:28:04.958172Z",
     "shell.execute_reply": "2023-08-12T03:28:04.957281Z"
    },
    "papermill": {
     "duration": 0.105594,
     "end_time": "2023-08-12T03:28:04.960309",
     "exception": false,
     "start_time": "2023-08-12T03:28:04.854715",
     "status": "completed"
    },
    "tags": []
   },
   "outputs": [],
   "source": [
    "# print(merged[\"boxOfficeBins\"].value_counts())\n",
    "# sns.displot(merged[\"boxOfficeBins\"])"
   ]
  },
  {
   "cell_type": "code",
   "execution_count": 48,
   "id": "4d54c1f6",
   "metadata": {
    "execution": {
     "iopub.execute_input": "2023-08-12T03:28:05.163124Z",
     "iopub.status.busy": "2023-08-12T03:28:05.162380Z",
     "iopub.status.idle": "2023-08-12T03:28:05.169814Z",
     "shell.execute_reply": "2023-08-12T03:28:05.169024Z"
    },
    "papermill": {
     "duration": 0.108784,
     "end_time": "2023-08-12T03:28:05.172477",
     "exception": false,
     "start_time": "2023-08-12T03:28:05.063693",
     "status": "completed"
    },
    "tags": []
   },
   "outputs": [
    {
     "data": {
      "text/plain": [
       "0    Henry Selick’s first movie since ’s Coraline. ...\n",
       "1    With a cast that reads like the Vogue Oscar pa...\n",
       "2    Creed II does not give us anything but another...\n",
       "3    I know what you're thinking, but this is no Li...\n",
       "4    Director Fernando Meirelles tells the story wi...\n",
       "Name: reviewText, dtype: object"
      ]
     },
     "execution_count": 48,
     "metadata": {},
     "output_type": "execute_result"
    }
   ],
   "source": [
    "merged[\"reviewText\"].head()"
   ]
  },
  {
   "cell_type": "code",
   "execution_count": 49,
   "id": "168dc88e",
   "metadata": {
    "execution": {
     "iopub.execute_input": "2023-08-12T03:28:05.375506Z",
     "iopub.status.busy": "2023-08-12T03:28:05.374737Z",
     "iopub.status.idle": "2023-08-12T03:28:05.381843Z",
     "shell.execute_reply": "2023-08-12T03:28:05.380683Z"
    },
    "papermill": {
     "duration": 0.111821,
     "end_time": "2023-08-12T03:28:05.384137",
     "exception": false,
     "start_time": "2023-08-12T03:28:05.272316",
     "status": "completed"
    },
    "tags": []
   },
   "outputs": [
    {
     "data": {
      "text/plain": [
       "6447"
      ]
     },
     "execution_count": 49,
     "metadata": {},
     "output_type": "execute_result"
    }
   ],
   "source": [
    "merged[\"reviewYN\"].sum()"
   ]
  },
  {
   "cell_type": "code",
   "execution_count": 50,
   "id": "a552e31f",
   "metadata": {
    "execution": {
     "iopub.execute_input": "2023-08-12T03:28:05.586710Z",
     "iopub.status.busy": "2023-08-12T03:28:05.585913Z",
     "iopub.status.idle": "2023-08-12T03:28:05.593504Z",
     "shell.execute_reply": "2023-08-12T03:28:05.592672Z"
    },
    "papermill": {
     "duration": 0.112569,
     "end_time": "2023-08-12T03:28:05.595957",
     "exception": false,
     "start_time": "2023-08-12T03:28:05.483388",
     "status": "completed"
    },
    "tags": []
   },
   "outputs": [
    {
     "data": {
      "text/plain": [
       "0    11\n",
       "1    24\n",
       "2    22\n",
       "3    34\n",
       "4    20\n",
       "Name: reviewWC, dtype: int64"
      ]
     },
     "execution_count": 50,
     "metadata": {},
     "output_type": "execute_result"
    }
   ],
   "source": [
    "merged[\"reviewWC\"].head()"
   ]
  },
  {
   "cell_type": "code",
   "execution_count": 51,
   "id": "eac59e64",
   "metadata": {
    "execution": {
     "iopub.execute_input": "2023-08-12T03:28:05.803268Z",
     "iopub.status.busy": "2023-08-12T03:28:05.802811Z",
     "iopub.status.idle": "2023-08-12T03:28:05.818263Z",
     "shell.execute_reply": "2023-08-12T03:28:05.817347Z"
    },
    "papermill": {
     "duration": 0.120842,
     "end_time": "2023-08-12T03:28:05.820680",
     "exception": false,
     "start_time": "2023-08-12T03:28:05.699838",
     "status": "completed"
    },
    "tags": []
   },
   "outputs": [
    {
     "data": {
      "text/plain": [
       "count    162758.000000\n",
       "mean         21.013707\n",
       "std          10.216532\n",
       "min           1.000000\n",
       "25%          14.000000\n",
       "50%          21.000000\n",
       "75%          28.000000\n",
       "max          54.000000\n",
       "Name: reviewWC, dtype: float64"
      ]
     },
     "execution_count": 51,
     "metadata": {},
     "output_type": "execute_result"
    }
   ],
   "source": [
    "merged[\"reviewWC\"].describe()"
   ]
  },
  {
   "cell_type": "code",
   "execution_count": 52,
   "id": "ed234643",
   "metadata": {
    "execution": {
     "iopub.execute_input": "2023-08-12T03:28:06.053802Z",
     "iopub.status.busy": "2023-08-12T03:28:06.053032Z",
     "iopub.status.idle": "2023-08-12T03:28:06.757414Z",
     "shell.execute_reply": "2023-08-12T03:28:06.756150Z"
    },
    "papermill": {
     "duration": 0.818753,
     "end_time": "2023-08-12T03:28:06.760252",
     "exception": false,
     "start_time": "2023-08-12T03:28:05.941499",
     "status": "completed"
    },
    "tags": []
   },
   "outputs": [
    {
     "data": {
      "text/plain": [
       "<Axes: xlabel='reviewWC', ylabel='Count'>"
      ]
     },
     "execution_count": 52,
     "metadata": {},
     "output_type": "execute_result"
    },
    {
     "data": {
      "image/png": "[encoded data removed]",
      "text/plain": [
       "<Figure size 640x480 with 1 Axes>"
      ]
     },
     "metadata": {},
     "output_type": "display_data"
    }
   ],
   "source": [
    "sns.histplot(merged[\"reviewWC\"])"
   ]
  },
  {
   "cell_type": "code",
   "execution_count": 53,
   "id": "a4e92929",
   "metadata": {
    "execution": {
     "iopub.execute_input": "2023-08-12T03:28:06.963959Z",
     "iopub.status.busy": "2023-08-12T03:28:06.963537Z",
     "iopub.status.idle": "2023-08-12T03:28:06.995541Z",
     "shell.execute_reply": "2023-08-12T03:28:06.994495Z"
    },
    "papermill": {
     "duration": 0.138583,
     "end_time": "2023-08-12T03:28:06.998113",
     "exception": false,
     "start_time": "2023-08-12T03:28:06.859530",
     "status": "completed"
    },
    "tags": []
   },
   "outputs": [
    {
     "data": {
      "text/plain": [
       "R          60248\n",
       "unknown    44587\n",
       "PG-13      42697\n",
       "PG         13669\n",
       "TV14         947\n",
       "NC-17        285\n",
       "TVPG         281\n",
       "TVMA          44\n",
       "Name: rating, dtype: int64"
      ]
     },
     "execution_count": 53,
     "metadata": {},
     "output_type": "execute_result"
    }
   ],
   "source": [
    "merged['rating'].value_counts()"
   ]
  },
  {
   "cell_type": "code",
   "execution_count": 54,
   "id": "937d309c",
   "metadata": {
    "execution": {
     "iopub.execute_input": "2023-08-12T03:28:07.206135Z",
     "iopub.status.busy": "2023-08-12T03:28:07.205419Z",
     "iopub.status.idle": "2023-08-12T03:28:07.216446Z",
     "shell.execute_reply": "2023-08-12T03:28:07.214996Z"
    },
    "papermill": {
     "duration": 0.11715,
     "end_time": "2023-08-12T03:28:07.219278",
     "exception": false,
     "start_time": "2023-08-12T03:28:07.102128",
     "status": "completed"
    },
    "tags": []
   },
   "outputs": [
    {
     "data": {
      "text/plain": [
       "False    113189\n",
       "True      49569\n",
       "Name: isFrequentReviewer, dtype: int64"
      ]
     },
     "execution_count": 54,
     "metadata": {},
     "output_type": "execute_result"
    }
   ],
   "source": [
    "merged['isFrequentReviewer'].value_counts()"
   ]
  },
  {
   "cell_type": "code",
   "execution_count": 55,
   "id": "8bc3e741",
   "metadata": {
    "execution": {
     "iopub.execute_input": "2023-08-12T03:28:07.423695Z",
     "iopub.status.busy": "2023-08-12T03:28:07.422983Z",
     "iopub.status.idle": "2023-08-12T03:28:07.432146Z",
     "shell.execute_reply": "2023-08-12T03:28:07.430892Z"
    },
    "papermill": {
     "duration": 0.114626,
     "end_time": "2023-08-12T03:28:07.434987",
     "exception": false,
     "start_time": "2023-08-12T03:28:07.320361",
     "status": "completed"
    },
    "tags": []
   },
   "outputs": [
    {
     "data": {
      "text/plain": [
       "0      Benjamin Henry\n",
       "1       Felicia Lopez\n",
       "2     Charles Burgess\n",
       "3        Ryan Barrett\n",
       "4    Alexander Glover\n",
       "Name: reviewerName, dtype: object"
      ]
     },
     "execution_count": 55,
     "metadata": {},
     "output_type": "execute_result"
    }
   ],
   "source": [
    "merged[\"reviewerName\"].head()"
   ]
  },
  {
   "cell_type": "code",
   "execution_count": 56,
   "id": "3a189e46",
   "metadata": {
    "execution": {
     "iopub.execute_input": "2023-08-12T03:28:07.641494Z",
     "iopub.status.busy": "2023-08-12T03:28:07.640718Z",
     "iopub.status.idle": "2023-08-12T03:28:07.654673Z",
     "shell.execute_reply": "2023-08-12T03:28:07.653439Z"
    },
    "papermill": {
     "duration": 0.120803,
     "end_time": "2023-08-12T03:28:07.657455",
     "exception": false,
     "start_time": "2023-08-12T03:28:07.536652",
     "status": "completed"
    },
    "tags": []
   },
   "outputs": [
    {
     "data": {
      "text/plain": [
       "14300000.0    32327\n",
       "2000000.0       922\n",
       "1100000.0       891\n",
       "1000000.0       834\n",
       "1200000.0       802\n",
       "              ...  \n",
       "58500.0           1\n",
       "500800.0          1\n",
       "265600.0          1\n",
       "292500.0          1\n",
       "799400.0          1\n",
       "Name: boxOffice, Length: 3819, dtype: int64"
      ]
     },
     "execution_count": 56,
     "metadata": {},
     "output_type": "execute_result"
    }
   ],
   "source": [
    "merged['boxOffice'].value_counts()"
   ]
  },
  {
   "cell_type": "code",
   "execution_count": 57,
   "id": "cc120315",
   "metadata": {
    "execution": {
     "iopub.execute_input": "2023-08-12T03:28:07.862972Z",
     "iopub.status.busy": "2023-08-12T03:28:07.862514Z",
     "iopub.status.idle": "2023-08-12T03:28:07.867931Z",
     "shell.execute_reply": "2023-08-12T03:28:07.866684Z"
    },
    "papermill": {
     "duration": 0.110945,
     "end_time": "2023-08-12T03:28:07.870568",
     "exception": false,
     "start_time": "2023-08-12T03:28:07.759623",
     "status": "completed"
    },
    "tags": []
   },
   "outputs": [],
   "source": [
    "# Check correlation between 'boxOffice' and ''sentiment'\n",
    "# bo_df = merged.copy()\n",
    "# print(bo_df[\"boxOffice\"])\n",
    "# bo_df[\"boxOffice\"] = bo_df[\"boxOffice\"].str[1:]\n",
    "# bo_df[\"boxOffice\"] = bo_df[\"boxOffice\"].replace(to_replace={\"M\": \"*1000000\", \"K\": \"*1000\"}, regex=True)\n",
    "# bo_df[\"boxOffice\"] = bo_df[\"boxOffice\"].loc[bo_df[\"boxOffice\"].notnull()].apply(lambda x: eval(str(x)))\n",
    "# bo_df[\"boxOffice\"] = bo_df[\"boxOffice\"].fillna(bo_df[\"boxOffice\"].median())\n",
    "# bo_df[\"boxOffice\"].describe()"
   ]
  },
  {
   "cell_type": "code",
   "execution_count": 58,
   "id": "fab2e2b7",
   "metadata": {
    "execution": {
     "iopub.execute_input": "2023-08-12T03:28:08.079330Z",
     "iopub.status.busy": "2023-08-12T03:28:08.078868Z",
     "iopub.status.idle": "2023-08-12T03:28:08.084019Z",
     "shell.execute_reply": "2023-08-12T03:28:08.082847Z"
    },
    "papermill": {
     "duration": 0.113876,
     "end_time": "2023-08-12T03:28:08.086719",
     "exception": false,
     "start_time": "2023-08-12T03:28:07.972843",
     "status": "completed"
    },
    "tags": []
   },
   "outputs": [],
   "source": [
    "# median = bo_df[\"boxOffice\"].describe()['50%']\n",
    "# iqr = bo_df[\"boxOffice\"].describe()['75%'] - bo_df[\"boxOffice\"].describe()['25%']\n",
    "# median, iqr"
   ]
  },
  {
   "cell_type": "code",
   "execution_count": 59,
   "id": "60b41e71",
   "metadata": {
    "execution": {
     "iopub.execute_input": "2023-08-12T03:28:08.292504Z",
     "iopub.status.busy": "2023-08-12T03:28:08.292070Z",
     "iopub.status.idle": "2023-08-12T03:28:08.297308Z",
     "shell.execute_reply": "2023-08-12T03:28:08.296429Z"
    },
    "papermill": {
     "duration": 0.110391,
     "end_time": "2023-08-12T03:28:08.299840",
     "exception": false,
     "start_time": "2023-08-12T03:28:08.189449",
     "status": "completed"
    },
    "tags": []
   },
   "outputs": [],
   "source": [
    "# ll = median - (1.5*iqr)\n",
    "# ul = median + (1.5*iqr)\n",
    "# ll, ul"
   ]
  },
  {
   "cell_type": "code",
   "execution_count": 60,
   "id": "3e6d81a0",
   "metadata": {
    "execution": {
     "iopub.execute_input": "2023-08-12T03:28:08.510401Z",
     "iopub.status.busy": "2023-08-12T03:28:08.509980Z",
     "iopub.status.idle": "2023-08-12T03:28:08.514813Z",
     "shell.execute_reply": "2023-08-12T03:28:08.514032Z"
    },
    "papermill": {
     "duration": 0.111284,
     "end_time": "2023-08-12T03:28:08.517320",
     "exception": false,
     "start_time": "2023-08-12T03:28:08.406036",
     "status": "completed"
    },
    "tags": []
   },
   "outputs": [],
   "source": [
    "# bo_df[\"boxOffice\"].mean()"
   ]
  },
  {
   "cell_type": "code",
   "execution_count": 61,
   "id": "b417dbba",
   "metadata": {
    "execution": {
     "iopub.execute_input": "2023-08-12T03:28:08.723084Z",
     "iopub.status.busy": "2023-08-12T03:28:08.722213Z",
     "iopub.status.idle": "2023-08-12T03:28:08.727024Z",
     "shell.execute_reply": "2023-08-12T03:28:08.726253Z"
    },
    "papermill": {
     "duration": 0.10921,
     "end_time": "2023-08-12T03:28:08.729323",
     "exception": false,
     "start_time": "2023-08-12T03:28:08.620113",
     "status": "completed"
    },
    "tags": []
   },
   "outputs": [],
   "source": [
    "# bo_df.loc[bo_df[\"boxOffice\"] > ul, \"boxOffice\"] = median\n",
    "# bo_df[\"boxOffice\"].mean()"
   ]
  },
  {
   "cell_type": "code",
   "execution_count": 62,
   "id": "e32747a3",
   "metadata": {
    "execution": {
     "iopub.execute_input": "2023-08-12T03:28:08.933268Z",
     "iopub.status.busy": "2023-08-12T03:28:08.932439Z",
     "iopub.status.idle": "2023-08-12T03:28:08.937374Z",
     "shell.execute_reply": "2023-08-12T03:28:08.936552Z"
    },
    "papermill": {
     "duration": 0.110416,
     "end_time": "2023-08-12T03:28:08.939642",
     "exception": false,
     "start_time": "2023-08-12T03:28:08.829226",
     "status": "completed"
    },
    "tags": []
   },
   "outputs": [],
   "source": [
    "# bo_df[\"boxOffice\"].min(), bo_df[\"boxOffice\"].max()"
   ]
  },
  {
   "cell_type": "code",
   "execution_count": 63,
   "id": "f44b0536",
   "metadata": {
    "execution": {
     "iopub.execute_input": "2023-08-12T03:28:09.147135Z",
     "iopub.status.busy": "2023-08-12T03:28:09.146656Z",
     "iopub.status.idle": "2023-08-12T03:28:09.151807Z",
     "shell.execute_reply": "2023-08-12T03:28:09.150424Z"
    },
    "papermill": {
     "duration": 0.110512,
     "end_time": "2023-08-12T03:28:09.154503",
     "exception": false,
     "start_time": "2023-08-12T03:28:09.043991",
     "status": "completed"
    },
    "tags": []
   },
   "outputs": [],
   "source": [
    "# sns.boxplot(x=\"sentiment\", y=\"boxOffice\", data=bo_df, showfliers = False)"
   ]
  },
  {
   "cell_type": "markdown",
   "id": "c4ac75f6",
   "metadata": {
    "papermill": {
     "duration": 0.102841,
     "end_time": "2023-08-12T03:28:09.359602",
     "exception": false,
     "start_time": "2023-08-12T03:28:09.256761",
     "status": "completed"
    },
    "tags": []
   },
   "source": [
    "## EDA  "
   ]
  },
  {
   "cell_type": "markdown",
   "id": "f2e4f860",
   "metadata": {
    "papermill": {
     "duration": 0.099852,
     "end_time": "2023-08-12T03:28:09.560249",
     "exception": false,
     "start_time": "2023-08-12T03:28:09.460397",
     "status": "completed"
    },
    "tags": []
   },
   "source": [
    "### An interesting finding through exploration  \n",
    "  \n",
    "* OHE and TfidfVectorizer on director column give the same result when ngram_range(2,2) is used (see code below)!"
   ]
  },
  {
   "cell_type": "code",
   "execution_count": 64,
   "id": "0bb2ff6c",
   "metadata": {
    "execution": {
     "iopub.execute_input": "2023-08-12T03:28:09.765179Z",
     "iopub.status.busy": "2023-08-12T03:28:09.764185Z",
     "iopub.status.idle": "2023-08-12T03:28:23.299876Z",
     "shell.execute_reply": "2023-08-12T03:28:23.298244Z"
    },
    "papermill": {
     "duration": 13.641699,
     "end_time": "2023-08-12T03:28:23.303101",
     "exception": false,
     "start_time": "2023-08-12T03:28:09.661402",
     "status": "completed"
    },
    "tags": []
   },
   "outputs": [
    {
     "name": "stdout",
     "output_type": "stream",
     "text": [
      "(162758,)\n",
      "9476\n",
      "(162758, 9476) <class 'numpy.ndarray'>\n",
      "(162758,)\n",
      "(162758, 9476) <class 'numpy.ndarray'>\n",
      "True\n"
     ]
    }
   ],
   "source": [
    "# Compare OHE and TfidfVectorizer on director column\n",
    "\n",
    "dirs = merged[\"director\"].copy()\n",
    "print(dirs.shape)\n",
    "dirs_uniq = merged[\"director\"].unique()\n",
    "print(len(dirs_uniq))\n",
    "\n",
    "du_ohe = OneHotEncoder(handle_unknown=\"ignore\", sparse_output=False).fit_transform(dirs.to_numpy().reshape(-1, 1))\n",
    "print(du_ohe.shape, type(du_ohe))\n",
    "\n",
    "dirs_2 = merged[\"director\"].copy()\n",
    "print(dirs_2.shape)\n",
    "du_tfidf = TfidfVectorizer(ngram_range=(2,2)).fit_transform(dirs_2).toarray()\n",
    "print(du_tfidf.shape, type(du_tfidf))\n",
    "\n",
    "print(np.array_equal(du_ohe, du_tfidf))"
   ]
  },
  {
   "cell_type": "code",
   "execution_count": 65,
   "id": "9728e297",
   "metadata": {
    "execution": {
     "iopub.execute_input": "2023-08-12T03:28:23.509828Z",
     "iopub.status.busy": "2023-08-12T03:28:23.508642Z",
     "iopub.status.idle": "2023-08-12T03:28:23.878994Z",
     "shell.execute_reply": "2023-08-12T03:28:23.877631Z"
    },
    "papermill": {
     "duration": 0.476655,
     "end_time": "2023-08-12T03:28:23.882242",
     "exception": false,
     "start_time": "2023-08-12T03:28:23.405587",
     "status": "completed"
    },
    "tags": []
   },
   "outputs": [
    {
     "name": "stdout",
     "output_type": "stream",
     "text": [
      "0       Bennie Basso\n",
      "1         Alma White\n",
      "2       Bobby Oleary\n",
      "3    Eric Hutcherson\n",
      "4         John Trent\n",
      "Name: director, dtype: object\n"
     ]
    },
    {
     "data": {
      "text/plain": [
       "2    162758\n",
       "Name: director, dtype: int64"
      ]
     },
     "execution_count": 65,
     "metadata": {},
     "output_type": "execute_result"
    }
   ],
   "source": [
    "print(dirs.head())\n",
    "d = dirs.copy()\n",
    "d[\"name_len\"] = d.apply(lambda x: len(x.split()))\n",
    "d[\"name_len\"].value_counts()"
   ]
  },
  {
   "cell_type": "code",
   "execution_count": 66,
   "id": "dd05d4dd",
   "metadata": {
    "execution": {
     "iopub.execute_input": "2023-08-12T03:28:24.094928Z",
     "iopub.status.busy": "2023-08-12T03:28:24.093826Z",
     "iopub.status.idle": "2023-08-12T03:28:24.101482Z",
     "shell.execute_reply": "2023-08-12T03:28:24.100049Z"
    },
    "papermill": {
     "duration": 0.116891,
     "end_time": "2023-08-12T03:28:24.104855",
     "exception": false,
     "start_time": "2023-08-12T03:28:23.987964",
     "status": "completed"
    },
    "tags": []
   },
   "outputs": [],
   "source": [
    "# Compare OHE and TfidfVectorizer on reviewerName column\n",
    "# Note: reviewerName column has salutations like \"Mr. \" etc, and some names appear middle names. Therefore needs cleaning\n",
    "\n",
    "# def name_fl(name):\n",
    "#     l = name.split()\n",
    "#     n = ' '.join((l[0], l[-1]))\n",
    "#     return n\n",
    "\n",
    "# reviewers = merged[\"reviewerName\"].copy()\n",
    "# reviewers = pd.DataFrame(reviewers)\n",
    "# reviewers = reviewers.replace({\"Mr. \": \"\", \"Mrs. \": \"\"}, regex=True)\n",
    "# reviewers[\"reviewerName\"] = reviewers[\"reviewerName\"].apply(name_fl)\n",
    "# print(reviewers.shape)\n",
    "\n",
    "# reviewers_uniq = merged[\"reviewerName\"].unique()\n",
    "# print(len(reviewers_uniq))\n",
    "\n",
    "# reviewers_ohe = OneHotEncoder(handle_unknown=\"ignore\", sparse_output=False).fit_transform(reviewers.to_numpy().reshape(-1, 1))\n",
    "# print(reviewers_ohe.shape, type(reviewers_ohe))\n",
    "\n",
    "# reviewers_2 = merged[\"reviewerName\"].copy()\n",
    "# reviewers_2 = pd.DataFrame(reviewers_2)\n",
    "# print(reviewers_2.head())\n",
    "# reviewers_2 = reviewers_2.replace({\"Mr. \": \"\", \"Mrs. \": \"\"}, regex=True)\n",
    "# reviewers_2[\"reviewerName\"] = reviewers_2[\"reviewerName\"].apply(name_fl)\n",
    "# reviewers_2 = reviewers_2.squeeze()\n",
    "# print(reviewers_2.shape)\n",
    "# print(reviewers_2.head())\n",
    "\n",
    "# reviewers_tfidf = TfidfVectorizer(ngram_range=(2,2)).fit_transform(reviewers_2).toarray()\n",
    "# print(reviewers_tfidf.shape, type(reviewers_tfidf))\n",
    "\n",
    "# print(np.array_equal(reviewers_ohe, reviewers_tfidf))"
   ]
  },
  {
   "cell_type": "code",
   "execution_count": 67,
   "id": "c6649af8",
   "metadata": {
    "execution": {
     "iopub.execute_input": "2023-08-12T03:28:24.314497Z",
     "iopub.status.busy": "2023-08-12T03:28:24.314052Z",
     "iopub.status.idle": "2023-08-12T03:28:24.319135Z",
     "shell.execute_reply": "2023-08-12T03:28:24.317811Z"
    },
    "papermill": {
     "duration": 0.112641,
     "end_time": "2023-08-12T03:28:24.321925",
     "exception": false,
     "start_time": "2023-08-12T03:28:24.209284",
     "status": "completed"
    },
    "tags": []
   },
   "outputs": [],
   "source": [
    "# def name_fl(name):\n",
    "#     l = name.split()\n",
    "#     n = ' '.join((l[0], l[-1]))\n",
    "#     return n"
   ]
  },
  {
   "cell_type": "code",
   "execution_count": 68,
   "id": "0ea280bb",
   "metadata": {
    "execution": {
     "iopub.execute_input": "2023-08-12T03:28:24.530669Z",
     "iopub.status.busy": "2023-08-12T03:28:24.530216Z",
     "iopub.status.idle": "2023-08-12T03:28:24.534691Z",
     "shell.execute_reply": "2023-08-12T03:28:24.533888Z"
    },
    "papermill": {
     "duration": 0.110225,
     "end_time": "2023-08-12T03:28:24.537064",
     "exception": false,
     "start_time": "2023-08-12T03:28:24.426839",
     "status": "completed"
    },
    "tags": []
   },
   "outputs": [],
   "source": [
    "# print(reviewers.head())\n",
    "# r = pd.DataFrame(reviewers.copy())\n",
    "# r[\"reviewerName\"] = r[\"reviewerName\"].apply(name_fl)\n",
    "# r[\"name_len\"] = r[\"reviewerName\"].apply(lambda x: len(x.split()))\n",
    "# print(r.shape)\n",
    "# print(r.head())\n",
    "# print(r['name_len'].value_counts())"
   ]
  },
  {
   "cell_type": "code",
   "execution_count": 69,
   "id": "3cf786fe",
   "metadata": {
    "execution": {
     "iopub.execute_input": "2023-08-12T03:28:24.748794Z",
     "iopub.status.busy": "2023-08-12T03:28:24.747877Z",
     "iopub.status.idle": "2023-08-12T03:28:24.753232Z",
     "shell.execute_reply": "2023-08-12T03:28:24.752047Z"
    },
    "papermill": {
     "duration": 0.112834,
     "end_time": "2023-08-12T03:28:24.755863",
     "exception": false,
     "start_time": "2023-08-12T03:28:24.643029",
     "status": "completed"
    },
    "tags": []
   },
   "outputs": [],
   "source": [
    "## Box plot audienceScore and sentiment  \n",
    "# plt.figure(figsize=(6, 4))\n",
    "# sns.boxplot(x=\"sentiment\", y=\"audienceScore\", data=merged, width=0.3)\n",
    "# plt.title(\"Box plot audienceScore and sentiment\")\n",
    "# plt.show()"
   ]
  },
  {
   "cell_type": "code",
   "execution_count": 70,
   "id": "4c833736",
   "metadata": {
    "execution": {
     "iopub.execute_input": "2023-08-12T03:28:24.962975Z",
     "iopub.status.busy": "2023-08-12T03:28:24.962519Z",
     "iopub.status.idle": "2023-08-12T03:28:24.967814Z",
     "shell.execute_reply": "2023-08-12T03:28:24.966609Z"
    },
    "papermill": {
     "duration": 0.11248,
     "end_time": "2023-08-12T03:28:24.970209",
     "exception": false,
     "start_time": "2023-08-12T03:28:24.857729",
     "status": "completed"
    },
    "tags": []
   },
   "outputs": [],
   "source": [
    "## Box plot runtimeMinutes and sentiment  \n",
    "# plt.figure(figsize=(6, 4))\n",
    "# sns.boxplot(x=\"sentiment\", y=\"runtimeMinutes\", data=merged, width=0.3)\n",
    "# plt.title(\"Box plot runtimeMinutes and sentiment\")\n",
    "# plt.show()"
   ]
  },
  {
   "cell_type": "code",
   "execution_count": 71,
   "id": "5ccd95c7",
   "metadata": {
    "execution": {
     "iopub.execute_input": "2023-08-12T03:28:25.179933Z",
     "iopub.status.busy": "2023-08-12T03:28:25.179493Z",
     "iopub.status.idle": "2023-08-12T03:28:25.184476Z",
     "shell.execute_reply": "2023-08-12T03:28:25.183525Z"
    },
    "papermill": {
     "duration": 0.113449,
     "end_time": "2023-08-12T03:28:25.186810",
     "exception": false,
     "start_time": "2023-08-12T03:28:25.073361",
     "status": "completed"
    },
    "tags": []
   },
   "outputs": [],
   "source": [
    "## Column chart for sentiment and rating columns\n",
    "# plt.figure(figsize=(6, 4))\n",
    "# sns.countplot(x=\"sentiment\", hue=\"rating\", data=merged)\n",
    "# plt.title(\"Column chart for sentiment and rating columns\")\n",
    "# plt.show()"
   ]
  },
  {
   "cell_type": "code",
   "execution_count": 72,
   "id": "6ea07545",
   "metadata": {
    "execution": {
     "iopub.execute_input": "2023-08-12T03:28:25.394237Z",
     "iopub.status.busy": "2023-08-12T03:28:25.393768Z",
     "iopub.status.idle": "2023-08-12T03:28:25.398152Z",
     "shell.execute_reply": "2023-08-12T03:28:25.397221Z"
    },
    "papermill": {
     "duration": 0.111733,
     "end_time": "2023-08-12T03:28:25.400509",
     "exception": false,
     "start_time": "2023-08-12T03:28:25.288776",
     "status": "completed"
    },
    "tags": []
   },
   "outputs": [],
   "source": [
    "# Correlation heatmap  \n",
    "# plt.figure(figsize=(10, 8))\n",
    "# sns.heatmap(merged.corr(), annot=True, cmap=\"coolwarm\")\n",
    "# plt.title(\"Correlation heatmap\")\n",
    "# plt.show()"
   ]
  },
  {
   "cell_type": "markdown",
   "id": "b40ac408",
   "metadata": {
    "papermill": {
     "duration": 0.101075,
     "end_time": "2023-08-12T03:28:25.605797",
     "exception": false,
     "start_time": "2023-08-12T03:28:25.504722",
     "status": "completed"
    },
    "tags": []
   },
   "source": [
    "## Merge and preprocess \"test.csv\" and \"movies.csv\" files  "
   ]
  },
  {
   "cell_type": "code",
   "execution_count": 73,
   "id": "939be964",
   "metadata": {
    "execution": {
     "iopub.execute_input": "2023-08-12T03:28:25.910450Z",
     "iopub.status.busy": "2023-08-12T03:28:25.909876Z",
     "iopub.status.idle": "2023-08-12T03:28:32.240728Z",
     "shell.execute_reply": "2023-08-12T03:28:32.239556Z"
    },
    "papermill": {
     "duration": 6.532381,
     "end_time": "2023-08-12T03:28:32.243786",
     "exception": false,
     "start_time": "2023-08-12T03:28:25.711405",
     "status": "completed"
    },
    "tags": []
   },
   "outputs": [],
   "source": [
    "# Merge test and movies  \n",
    "merged_test = select_features(load_csv(\"test\"), load_csv(\"movies\"))"
   ]
  },
  {
   "cell_type": "code",
   "execution_count": 74,
   "id": "a6f4cbd6",
   "metadata": {
    "execution": {
     "iopub.execute_input": "2023-08-12T03:28:32.452974Z",
     "iopub.status.busy": "2023-08-12T03:28:32.452512Z",
     "iopub.status.idle": "2023-08-12T03:28:32.458056Z",
     "shell.execute_reply": "2023-08-12T03:28:32.456760Z"
    },
    "papermill": {
     "duration": 0.113571,
     "end_time": "2023-08-12T03:28:32.460791",
     "exception": false,
     "start_time": "2023-08-12T03:28:32.347220",
     "status": "completed"
    },
    "tags": []
   },
   "outputs": [],
   "source": [
    "# inspect(merged_test)      # Note the missing values in ['audienceScore', 'runtimeMinutes', 'boxOffice']"
   ]
  },
  {
   "cell_type": "code",
   "execution_count": 75,
   "id": "ee275baa",
   "metadata": {
    "execution": {
     "iopub.execute_input": "2023-08-12T03:28:32.667363Z",
     "iopub.status.busy": "2023-08-12T03:28:32.666922Z",
     "iopub.status.idle": "2023-08-12T03:28:32.685060Z",
     "shell.execute_reply": "2023-08-12T03:28:32.683716Z"
    },
    "papermill": {
     "duration": 0.123274,
     "end_time": "2023-08-12T03:28:32.687780",
     "exception": false,
     "start_time": "2023-08-12T03:28:32.564506",
     "status": "completed"
    },
    "tags": []
   },
   "outputs": [
    {
     "data": {
      "text/plain": [
       "array([6.80e+01, 1.04e+02, 1.43e+07])"
      ]
     },
     "execution_count": 75,
     "metadata": {},
     "output_type": "execute_result"
    }
   ],
   "source": [
    "# Transform ['audienceScore', 'runtimeMinutes', 'boxOffice'] columns in merged_test using 'si' fitted on 'merged' df  \n",
    "merged_test[['audienceScore', 'runtimeMinutes', 'boxOffice']] = si.transform(merged_test[['audienceScore', 'runtimeMinutes', 'boxOffice']])\n",
    "si.statistics_"
   ]
  },
  {
   "cell_type": "code",
   "execution_count": 76,
   "id": "4db052b6",
   "metadata": {
    "execution": {
     "iopub.execute_input": "2023-08-12T03:28:32.893923Z",
     "iopub.status.busy": "2023-08-12T03:28:32.893527Z",
     "iopub.status.idle": "2023-08-12T03:28:32.905660Z",
     "shell.execute_reply": "2023-08-12T03:28:32.904499Z"
    },
    "papermill": {
     "duration": 0.117743,
     "end_time": "2023-08-12T03:28:32.908638",
     "exception": false,
     "start_time": "2023-08-12T03:28:32.790895",
     "status": "completed"
    },
    "tags": []
   },
   "outputs": [],
   "source": [
    "# Fill 'releaseDate' column in 'merged_test' df with median from the train (merged) df  \n",
    "merged_test['releaseDate'] = merged_test[\"releaseDate\"].fillna(merged[\"releaseDate\"].median())"
   ]
  },
  {
   "cell_type": "code",
   "execution_count": 77,
   "id": "832a6687",
   "metadata": {
    "execution": {
     "iopub.execute_input": "2023-08-12T03:28:33.117709Z",
     "iopub.status.busy": "2023-08-12T03:28:33.117288Z",
     "iopub.status.idle": "2023-08-12T03:28:33.632417Z",
     "shell.execute_reply": "2023-08-12T03:28:33.631389Z"
    },
    "papermill": {
     "duration": 0.62444,
     "end_time": "2023-08-12T03:28:33.635344",
     "exception": false,
     "start_time": "2023-08-12T03:28:33.010904",
     "status": "completed"
    },
    "tags": []
   },
   "outputs": [
    {
     "name": "stdout",
     "output_type": "stream",
     "text": [
      "Shape of the dataframe: (55315, 25)\n",
      "\n",
      "Columns in the dataframe:\n",
      "Index(['movieid', 'reviewerName', 'isFrequentReviewer', 'reviewText', 'title',\n",
      "       'audienceScore', 'rating', 'ratingContents', 'releaseDateTheaters',\n",
      "       'releaseDateStreaming', 'runtimeMinutes', 'genre', 'originalLanguage',\n",
      "       'director', 'boxOffice', 'distributor', 'soundType', 'reviewYN',\n",
      "       'reviewWC', 'genreSorted', 'rcSorted', 'releaseDate', 'releaseYear',\n",
      "       'releaseMonth', 'releaseDiff'],\n",
      "      dtype='object')\n",
      "\n",
      "<class 'pandas.core.frame.DataFrame'>\n",
      "Int64Index: 55315 entries, 0 to 55314\n",
      "Data columns (total 25 columns):\n",
      " #   Column                Non-Null Count  Dtype         \n",
      "---  ------                --------------  -----         \n",
      " 0   movieid               55315 non-null  object        \n",
      " 1   reviewerName          55315 non-null  object        \n",
      " 2   isFrequentReviewer    55315 non-null  bool          \n",
      " 3   reviewText            55315 non-null  object        \n",
      " 4   title                 55315 non-null  object        \n",
      " 5   audienceScore         55315 non-null  float64       \n",
      " 6   rating                55315 non-null  object        \n",
      " 7   ratingContents        55315 non-null  object        \n",
      " 8   releaseDateTheaters   47844 non-null  datetime64[ns]\n",
      " 9   releaseDateStreaming  52929 non-null  datetime64[ns]\n",
      " 10  runtimeMinutes        55315 non-null  float64       \n",
      " 11  genre                 55315 non-null  object        \n",
      " 12  originalLanguage      55315 non-null  object        \n",
      " 13  director              55315 non-null  object        \n",
      " 14  boxOffice             55315 non-null  float64       \n",
      " 15  distributor           55315 non-null  object        \n",
      " 16  soundType             29845 non-null  object        \n",
      " 17  reviewYN              55315 non-null  int64         \n",
      " 18  reviewWC              55315 non-null  int64         \n",
      " 19  genreSorted           55315 non-null  object        \n",
      " 20  rcSorted              55315 non-null  object        \n",
      " 21  releaseDate           55315 non-null  datetime64[ns]\n",
      " 22  releaseYear           46626 non-null  float64       \n",
      " 23  releaseMonth          46626 non-null  float64       \n",
      " 24  releaseDiff           55315 non-null  float64       \n",
      "dtypes: bool(1), datetime64[ns](3), float64(6), int64(2), object(13)\n",
      "memory usage: 10.6+ MB\n",
      "None\n",
      "\n",
      "Missing values:\n",
      "movieid                     0\n",
      "reviewerName                0\n",
      "isFrequentReviewer          0\n",
      "reviewText                  0\n",
      "title                       0\n",
      "audienceScore               0\n",
      "rating                      0\n",
      "ratingContents              0\n",
      "releaseDateTheaters      7471\n",
      "releaseDateStreaming     2386\n",
      "runtimeMinutes              0\n",
      "genre                       0\n",
      "originalLanguage            0\n",
      "director                    0\n",
      "boxOffice                   0\n",
      "distributor                 0\n",
      "soundType               25470\n",
      "reviewYN                    0\n",
      "reviewWC                    0\n",
      "genreSorted                 0\n",
      "rcSorted                    0\n",
      "releaseDate                 0\n",
      "releaseYear              8689\n",
      "releaseMonth             8689\n",
      "releaseDiff                 0\n",
      "dtype: int64\n"
     ]
    }
   ],
   "source": [
    "# After transforming merged_test  \n",
    "inspect(merged_test)"
   ]
  },
  {
   "cell_type": "code",
   "execution_count": 78,
   "id": "6f110a60",
   "metadata": {
    "execution": {
     "iopub.execute_input": "2023-08-12T03:28:33.846784Z",
     "iopub.status.busy": "2023-08-12T03:28:33.846366Z",
     "iopub.status.idle": "2023-08-12T03:28:33.853125Z",
     "shell.execute_reply": "2023-08-12T03:28:33.852173Z"
    },
    "papermill": {
     "duration": 0.116866,
     "end_time": "2023-08-12T03:28:33.857035",
     "exception": false,
     "start_time": "2023-08-12T03:28:33.740169",
     "status": "completed"
    },
    "tags": []
   },
   "outputs": [
    {
     "name": "stdout",
     "output_type": "stream",
     "text": [
      "2510\n",
      "4.537648015908886\n"
     ]
    }
   ],
   "source": [
    "print(merged_test[\"reviewYN\"].sum())\n",
    "print(merged_test[\"reviewYN\"].sum() * 100 / merged_test.shape[0])"
   ]
  },
  {
   "cell_type": "code",
   "execution_count": 79,
   "id": "02368f0c",
   "metadata": {
    "execution": {
     "iopub.execute_input": "2023-08-12T03:28:34.072811Z",
     "iopub.status.busy": "2023-08-12T03:28:34.072424Z",
     "iopub.status.idle": "2023-08-12T03:28:34.091147Z",
     "shell.execute_reply": "2023-08-12T03:28:34.089835Z"
    },
    "papermill": {
     "duration": 0.13041,
     "end_time": "2023-08-12T03:28:34.093689",
     "exception": false,
     "start_time": "2023-08-12T03:28:33.963279",
     "status": "completed"
    },
    "tags": []
   },
   "outputs": [
    {
     "data": {
      "text/plain": [
       "R          18934\n",
       "unknown    18386\n",
       "PG-13      13220\n",
       "PG          4200\n",
       "TV14         333\n",
       "TVPG         109\n",
       "NC-17        108\n",
       "TVMA          25\n",
       "Name: rating, dtype: int64"
      ]
     },
     "execution_count": 79,
     "metadata": {},
     "output_type": "execute_result"
    }
   ],
   "source": [
    "merged_test['rating'].value_counts()"
   ]
  },
  {
   "cell_type": "code",
   "execution_count": 80,
   "id": "b4fc9631",
   "metadata": {
    "execution": {
     "iopub.execute_input": "2023-08-12T03:28:34.306897Z",
     "iopub.status.busy": "2023-08-12T03:28:34.306475Z",
     "iopub.status.idle": "2023-08-12T03:28:34.316619Z",
     "shell.execute_reply": "2023-08-12T03:28:34.315479Z"
    },
    "papermill": {
     "duration": 0.117847,
     "end_time": "2023-08-12T03:28:34.319170",
     "exception": false,
     "start_time": "2023-08-12T03:28:34.201323",
     "status": "completed"
    },
    "tags": []
   },
   "outputs": [
    {
     "data": {
      "text/plain": [
       "False    38428\n",
       "True     16887\n",
       "Name: isFrequentReviewer, dtype: int64"
      ]
     },
     "execution_count": 80,
     "metadata": {},
     "output_type": "execute_result"
    }
   ],
   "source": [
    "merged_test['isFrequentReviewer'].value_counts()"
   ]
  },
  {
   "cell_type": "code",
   "execution_count": 81,
   "id": "1d1edd23",
   "metadata": {
    "execution": {
     "iopub.execute_input": "2023-08-12T03:28:34.532838Z",
     "iopub.status.busy": "2023-08-12T03:28:34.532430Z",
     "iopub.status.idle": "2023-08-12T03:28:34.544918Z",
     "shell.execute_reply": "2023-08-12T03:28:34.543687Z"
    },
    "papermill": {
     "duration": 0.12287,
     "end_time": "2023-08-12T03:28:34.547619",
     "exception": false,
     "start_time": "2023-08-12T03:28:34.424749",
     "status": "completed"
    },
    "tags": []
   },
   "outputs": [
    {
     "data": {
      "text/plain": [
       "14300000.0    13593\n",
       "1100000.0       311\n",
       "1000000.0       272\n",
       "1300000.0       263\n",
       "2000000.0       256\n",
       "              ...  \n",
       "200400.0          1\n",
       "23800000.0        1\n",
       "111200.0          1\n",
       "277800.0          1\n",
       "100600.0          1\n",
       "Name: boxOffice, Length: 3816, dtype: int64"
      ]
     },
     "execution_count": 81,
     "metadata": {},
     "output_type": "execute_result"
    }
   ],
   "source": [
    "merged_test['boxOffice'].value_counts()"
   ]
  },
  {
   "cell_type": "markdown",
   "id": "453d229e",
   "metadata": {
    "papermill": {
     "duration": 0.104808,
     "end_time": "2023-08-12T03:28:34.754571",
     "exception": false,
     "start_time": "2023-08-12T03:28:34.649763",
     "status": "completed"
    },
    "tags": []
   },
   "source": [
    "## Work on vocabulary  \n",
    "\n",
    "`Build vocabulary from 'reviewText' column`  "
   ]
  },
  {
   "cell_type": "code",
   "execution_count": 82,
   "id": "0186237b",
   "metadata": {
    "execution": {
     "iopub.execute_input": "2023-08-12T03:28:34.991612Z",
     "iopub.status.busy": "2023-08-12T03:28:34.991083Z",
     "iopub.status.idle": "2023-08-12T03:28:35.018864Z",
     "shell.execute_reply": "2023-08-12T03:28:35.017774Z"
    },
    "papermill": {
     "duration": 0.147321,
     "end_time": "2023-08-12T03:28:35.021568",
     "exception": false,
     "start_time": "2023-08-12T03:28:34.874247",
     "status": "completed"
    },
    "tags": []
   },
   "outputs": [
    {
     "data": {
      "text/plain": [
       "((162758, 2),\n",
       "                                           reviewText sentiment\n",
       " 0  Henry Selick’s first movie since ’s Coraline. ...  POSITIVE\n",
       " 1  With a cast that reads like the Vogue Oscar pa...  NEGATIVE\n",
       " 2  Creed II does not give us anything but another...  POSITIVE\n",
       " 3  I know what you're thinking, but this is no Li...  POSITIVE\n",
       " 4  Director Fernando Meirelles tells the story wi...  POSITIVE)"
      ]
     },
     "execution_count": 82,
     "metadata": {},
     "output_type": "execute_result"
    }
   ],
   "source": [
    "rt_senti = merged[[\"reviewText\", \"sentiment\"]].copy()\n",
    "rt_senti.shape, rt_senti.head()"
   ]
  },
  {
   "cell_type": "code",
   "execution_count": 83,
   "id": "225b1405",
   "metadata": {
    "execution": {
     "iopub.execute_input": "2023-08-12T03:28:35.256482Z",
     "iopub.status.busy": "2023-08-12T03:28:35.255343Z",
     "iopub.status.idle": "2023-08-12T03:28:35.273023Z",
     "shell.execute_reply": "2023-08-12T03:28:35.271751Z"
    },
    "papermill": {
     "duration": 0.142949,
     "end_time": "2023-08-12T03:28:35.276234",
     "exception": false,
     "start_time": "2023-08-12T03:28:35.133285",
     "status": "completed"
    },
    "tags": []
   },
   "outputs": [
    {
     "data": {
      "text/plain": [
       "((55315, 1),\n",
       "                                           reviewText\n",
       " 0  Green slowly cranks up the dread with style an...\n",
       " 1  Philip Noyce's direction is elegant and unforc...\n",
       " 2  It wouldn't do to say what path Maria ultimate...\n",
       " 3  Pig is not exactly the arthouse John Wick that...\n",
       " 4  An imaginative no-budget musical of sorts abou...)"
      ]
     },
     "execution_count": 83,
     "metadata": {},
     "output_type": "execute_result"
    }
   ],
   "source": [
    "rt_test = pd.DataFrame(merged_test[\"reviewText\"].copy())\n",
    "rt_test.shape, rt_test.head()"
   ]
  },
  {
   "cell_type": "code",
   "execution_count": 84,
   "id": "926892fc",
   "metadata": {
    "execution": {
     "iopub.execute_input": "2023-08-12T03:28:35.492013Z",
     "iopub.status.busy": "2023-08-12T03:28:35.491183Z",
     "iopub.status.idle": "2023-08-12T03:28:35.497635Z",
     "shell.execute_reply": "2023-08-12T03:28:35.496809Z"
    },
    "papermill": {
     "duration": 0.118627,
     "end_time": "2023-08-12T03:28:35.500245",
     "exception": false,
     "start_time": "2023-08-12T03:28:35.381618",
     "status": "completed"
    },
    "tags": []
   },
   "outputs": [],
   "source": [
    "def get_vocab(text_df, ngram_range=(1,1)):\n",
    "    print(f\"Generating vocabulary for ngram_range: {ngram_range}...\")\n",
    "    tvec1 = CountVectorizer(ngram_range=ngram_range, stop_words='english', strip_accents='unicode')\n",
    "    tvec1.fit(text_df)\n",
    "    voc_ngram = set(tvec1.vocabulary_.keys())\n",
    "    return voc_ngram"
   ]
  },
  {
   "cell_type": "code",
   "execution_count": 85,
   "id": "58808711",
   "metadata": {
    "execution": {
     "iopub.execute_input": "2023-08-12T03:28:35.719130Z",
     "iopub.status.busy": "2023-08-12T03:28:35.718712Z",
     "iopub.status.idle": "2023-08-12T03:28:35.729501Z",
     "shell.execute_reply": "2023-08-12T03:28:35.728318Z"
    },
    "papermill": {
     "duration": 0.12464,
     "end_time": "2023-08-12T03:28:35.732015",
     "exception": false,
     "start_time": "2023-08-12T03:28:35.607375",
     "status": "completed"
    },
    "tags": []
   },
   "outputs": [],
   "source": [
    "def get_common_vocab(df_list: list, ngram_range_list: list):\n",
    "    \"\"\"\n",
    "    Get common vocabulary from a list of dataframes.\n",
    "    \"\"\"\n",
    "    final_common_vocab = set()\n",
    "    # Get vocabulary from each dataframe for a given ngram-range\n",
    "    for ngram_range in ngram_range_list:\n",
    "        vocab_ngram = set()\n",
    "        for num, df in enumerate(df_list, start=1):\n",
    "            print(f\"Working on DF#{num} in the list of DFs provided\")\n",
    "            vocab_ngram_df = set(get_vocab(df['reviewText'], ngram_range))\n",
    "            print(f\"Vocabulary size for ngram-range {ngram_range} in DF#{num}: {len(vocab_ngram_df)}\\n\")\n",
    "            if len(vocab_ngram) > 0:\n",
    "                print(f\"Keeping only the common (intersection) words for ngram-range {ngram_range}...\")\n",
    "                vocab_ngram = vocab_ngram.intersection(vocab_ngram_df)\n",
    "            else:\n",
    "                print(f\"Words from the first df for ngram-range {ngram_range} added.\\n\")\n",
    "                vocab_ngram = vocab_ngram_df\n",
    "        print(f\"Common vocabulary for ngram-range {ngram_range}: {len(vocab_ngram)}\\n\")\n",
    "        \n",
    "        if len(final_common_vocab) > 0:\n",
    "            print(f\"Fusing (union) with final common vocabulary: ngram-range = {ngram_range}.\\n\")\n",
    "            final_common_vocab = final_common_vocab.union(vocab_ngram)\n",
    "        else:\n",
    "            print(f\"Appended first time to final common vocabulary: ngram-range = {ngram_range}.\\n\")\n",
    "            final_common_vocab = vocab_ngram\n",
    "    return final_common_vocab"
   ]
  },
  {
   "cell_type": "code",
   "execution_count": 86,
   "id": "54918a85",
   "metadata": {
    "execution": {
     "iopub.execute_input": "2023-08-12T03:28:35.969463Z",
     "iopub.status.busy": "2023-08-12T03:28:35.968266Z",
     "iopub.status.idle": "2023-08-12T03:28:35.972915Z",
     "shell.execute_reply": "2023-08-12T03:28:35.972161Z"
    },
    "papermill": {
     "duration": 0.134153,
     "end_time": "2023-08-12T03:28:35.975239",
     "exception": false,
     "start_time": "2023-08-12T03:28:35.841086",
     "status": "completed"
    },
    "tags": []
   },
   "outputs": [],
   "source": [
    "# voc_1gram = get_vocab(rt_senti[\"reviewText\"], ngram_range=(1,1))\n",
    "# len(voc_1gram), voc_1gram[:10]"
   ]
  },
  {
   "cell_type": "code",
   "execution_count": 87,
   "id": "f10d43d8",
   "metadata": {
    "execution": {
     "iopub.execute_input": "2023-08-12T03:28:36.185904Z",
     "iopub.status.busy": "2023-08-12T03:28:36.185256Z",
     "iopub.status.idle": "2023-08-12T03:28:36.191803Z",
     "shell.execute_reply": "2023-08-12T03:28:36.190043Z"
    },
    "papermill": {
     "duration": 0.11557,
     "end_time": "2023-08-12T03:28:36.194678",
     "exception": false,
     "start_time": "2023-08-12T03:28:36.079108",
     "status": "completed"
    },
    "tags": []
   },
   "outputs": [],
   "source": [
    "# voc_2gram = get_vocab(rt_senti[\"reviewText\"], ngram_range=(2,2))\n",
    "# len(voc_2gram), voc_2gram[:10]"
   ]
  },
  {
   "cell_type": "code",
   "execution_count": 88,
   "id": "e3c9c0dd",
   "metadata": {
    "execution": {
     "iopub.execute_input": "2023-08-12T03:28:36.404703Z",
     "iopub.status.busy": "2023-08-12T03:28:36.404265Z",
     "iopub.status.idle": "2023-08-12T03:28:36.409099Z",
     "shell.execute_reply": "2023-08-12T03:28:36.407662Z"
    },
    "papermill": {
     "duration": 0.111561,
     "end_time": "2023-08-12T03:28:36.411623",
     "exception": false,
     "start_time": "2023-08-12T03:28:36.300062",
     "status": "completed"
    },
    "tags": []
   },
   "outputs": [],
   "source": [
    "# voc_3gram = get_vocab(rt_senti[\"reviewText\"], ngram_range=(3,3))\n",
    "# len(voc_3gram), voc_3gram[:10]"
   ]
  },
  {
   "cell_type": "code",
   "execution_count": 89,
   "id": "03312877",
   "metadata": {
    "execution": {
     "iopub.execute_input": "2023-08-12T03:28:36.623879Z",
     "iopub.status.busy": "2023-08-12T03:28:36.623442Z",
     "iopub.status.idle": "2023-08-12T03:28:36.628500Z",
     "shell.execute_reply": "2023-08-12T03:28:36.627306Z"
    },
    "papermill": {
     "duration": 0.114031,
     "end_time": "2023-08-12T03:28:36.630838",
     "exception": false,
     "start_time": "2023-08-12T03:28:36.516807",
     "status": "completed"
    },
    "tags": []
   },
   "outputs": [],
   "source": [
    "# common_unigrams = get_common_vocab([rt_senti, rt_test], ngram_range_list=[(1,1)])\n",
    "# print(len(common_unigrams))\n",
    "# # sorted(list(common_unigrams))"
   ]
  },
  {
   "cell_type": "code",
   "execution_count": 90,
   "id": "bdf3df5b",
   "metadata": {
    "execution": {
     "iopub.execute_input": "2023-08-12T03:28:36.839684Z",
     "iopub.status.busy": "2023-08-12T03:28:36.839264Z",
     "iopub.status.idle": "2023-08-12T03:28:36.844484Z",
     "shell.execute_reply": "2023-08-12T03:28:36.843226Z"
    },
    "papermill": {
     "duration": 0.113145,
     "end_time": "2023-08-12T03:28:36.847059",
     "exception": false,
     "start_time": "2023-08-12T03:28:36.733914",
     "status": "completed"
    },
    "tags": []
   },
   "outputs": [],
   "source": [
    "# common_bigrams = get_common_vocab([rt_senti, rt_test], ngram_range_list=[(2,2)])\n",
    "# print(len(common_bigrams))\n",
    "# # # common_bigrams"
   ]
  },
  {
   "cell_type": "code",
   "execution_count": 91,
   "id": "2b3dfea5",
   "metadata": {
    "execution": {
     "iopub.execute_input": "2023-08-12T03:28:37.060830Z",
     "iopub.status.busy": "2023-08-12T03:28:37.060404Z",
     "iopub.status.idle": "2023-08-12T03:28:37.064812Z",
     "shell.execute_reply": "2023-08-12T03:28:37.063706Z"
    },
    "papermill": {
     "duration": 0.115187,
     "end_time": "2023-08-12T03:28:37.067239",
     "exception": false,
     "start_time": "2023-08-12T03:28:36.952052",
     "status": "completed"
    },
    "tags": []
   },
   "outputs": [],
   "source": [
    "# common_1_2_grams = get_common_vocab([rt_senti, rt_test], ngram_range_list=[(1,1), (2,2)])\n",
    "# print(len(common_1_2_grams))\n",
    "# # sorted(list(common_1_2_grams))\n",
    "\n",
    "# # common_1_2_grams = common_unigrams | common_bigrams    # older code"
   ]
  },
  {
   "cell_type": "code",
   "execution_count": 92,
   "id": "beb3d5b2",
   "metadata": {
    "execution": {
     "iopub.execute_input": "2023-08-12T03:28:37.284723Z",
     "iopub.status.busy": "2023-08-12T03:28:37.284289Z",
     "iopub.status.idle": "2023-08-12T03:28:37.289150Z",
     "shell.execute_reply": "2023-08-12T03:28:37.287877Z"
    },
    "papermill": {
     "duration": 0.118349,
     "end_time": "2023-08-12T03:28:37.291521",
     "exception": false,
     "start_time": "2023-08-12T03:28:37.173172",
     "status": "completed"
    },
    "tags": []
   },
   "outputs": [],
   "source": [
    "# common_trigrams = get_common_vocab([rt_senti, rt_test], ngram_range_list=[(3,3)])\n",
    "# print(len(common_trigrams))\n",
    "# # common_trigrams"
   ]
  },
  {
   "cell_type": "code",
   "execution_count": 93,
   "id": "f3a5a473",
   "metadata": {
    "execution": {
     "iopub.execute_input": "2023-08-12T03:28:37.507432Z",
     "iopub.status.busy": "2023-08-12T03:28:37.507014Z",
     "iopub.status.idle": "2023-08-12T03:28:37.511545Z",
     "shell.execute_reply": "2023-08-12T03:28:37.510432Z"
    },
    "papermill": {
     "duration": 0.115254,
     "end_time": "2023-08-12T03:28:37.513860",
     "exception": false,
     "start_time": "2023-08-12T03:28:37.398606",
     "status": "completed"
    },
    "tags": []
   },
   "outputs": [],
   "source": [
    "# common_1_2_3_grams = get_common_vocab([rt_senti, rt_test], ngram_range_list=[(1,1), (2,2), (3,3)])\n",
    "# print(len(common_1_2_3_grams))\n",
    "# # sorted((common_1_2_3_grams))\n",
    "\n",
    "# # common_1_2_3_grams = common_unigrams | common_bigrams | common_trigrams    # Older code  "
   ]
  },
  {
   "cell_type": "markdown",
   "id": "52c5aef5",
   "metadata": {
    "papermill": {
     "duration": 0.106022,
     "end_time": "2023-08-12T03:28:37.818462",
     "exception": false,
     "start_time": "2023-08-12T03:28:37.712440",
     "status": "completed"
    },
    "tags": []
   },
   "source": [
    "### Find common vocabulary between text with positive and negative sentiments in training dataset  "
   ]
  },
  {
   "cell_type": "code",
   "execution_count": 94,
   "id": "9c6f606a",
   "metadata": {
    "execution": {
     "iopub.execute_input": "2023-08-12T03:28:38.039612Z",
     "iopub.status.busy": "2023-08-12T03:28:38.039198Z",
     "iopub.status.idle": "2023-08-12T03:28:38.090905Z",
     "shell.execute_reply": "2023-08-12T03:28:38.090033Z"
    },
    "papermill": {
     "duration": 0.166101,
     "end_time": "2023-08-12T03:28:38.093200",
     "exception": false,
     "start_time": "2023-08-12T03:28:37.927099",
     "status": "completed"
    },
    "tags": []
   },
   "outputs": [
    {
     "data": {
      "text/plain": [
       "(108761, 2)"
      ]
     },
     "execution_count": 94,
     "metadata": {},
     "output_type": "execute_result"
    }
   ],
   "source": [
    "# Dataframe for positive sentiment\n",
    "rt_senti_pos = rt_senti.loc[rt_senti['sentiment'] == 'POSITIVE'].copy()\n",
    "rt_senti_pos.shape"
   ]
  },
  {
   "cell_type": "code",
   "execution_count": 95,
   "id": "818296be",
   "metadata": {
    "execution": {
     "iopub.execute_input": "2023-08-12T03:28:38.308931Z",
     "iopub.status.busy": "2023-08-12T03:28:38.308167Z",
     "iopub.status.idle": "2023-08-12T03:28:38.352326Z",
     "shell.execute_reply": "2023-08-12T03:28:38.351352Z"
    },
    "papermill": {
     "duration": 0.154511,
     "end_time": "2023-08-12T03:28:38.355169",
     "exception": false,
     "start_time": "2023-08-12T03:28:38.200658",
     "status": "completed"
    },
    "tags": []
   },
   "outputs": [
    {
     "data": {
      "text/plain": [
       "(53997, 2)"
      ]
     },
     "execution_count": 95,
     "metadata": {},
     "output_type": "execute_result"
    }
   ],
   "source": [
    "# Dataframe for negative sentiment\n",
    "rt_senti_neg = rt_senti.loc[rt_senti['sentiment'] == 'NEGATIVE'].copy()\n",
    "rt_senti_neg.shape"
   ]
  },
  {
   "cell_type": "code",
   "execution_count": 96,
   "id": "b24d1a76",
   "metadata": {
    "execution": {
     "iopub.execute_input": "2023-08-12T03:28:38.568025Z",
     "iopub.status.busy": "2023-08-12T03:28:38.567243Z",
     "iopub.status.idle": "2023-08-12T03:28:38.571343Z",
     "shell.execute_reply": "2023-08-12T03:28:38.570590Z"
    },
    "papermill": {
     "duration": 0.111387,
     "end_time": "2023-08-12T03:28:38.573676",
     "exception": false,
     "start_time": "2023-08-12T03:28:38.462289",
     "status": "completed"
    },
    "tags": []
   },
   "outputs": [],
   "source": [
    "# Generate stop words/phrases specific for this project data  \n",
    "\n",
    "# common_1_2_3_grams_sentiment = get_common_vocab([rt_senti_pos, rt_senti_neg], ngram_range_list=[(1,1), (2,2), (3,3)])\n",
    "# print(len(common_1_2_3_grams_sentiment))\n",
    "# # sorted(list(common_1_2_3_grams_sentiment))"
   ]
  },
  {
   "cell_type": "code",
   "execution_count": 97,
   "id": "2f0030ea",
   "metadata": {
    "execution": {
     "iopub.execute_input": "2023-08-12T03:28:38.785305Z",
     "iopub.status.busy": "2023-08-12T03:28:38.784553Z",
     "iopub.status.idle": "2023-08-12T03:28:38.788522Z",
     "shell.execute_reply": "2023-08-12T03:28:38.787775Z"
    },
    "papermill": {
     "duration": 0.111853,
     "end_time": "2023-08-12T03:28:38.790744",
     "exception": false,
     "start_time": "2023-08-12T03:28:38.678891",
     "status": "completed"
    },
    "tags": []
   },
   "outputs": [],
   "source": [
    "# Generate and store the entire vocabulary of training data  \n",
    "\n",
    "# train_1_2_3_grams = get_vocab(rt_senti['reviewText'], ngram_range=(1,3))\n",
    "# print(len(train_1_2_3_grams))\n",
    "# # sorted(train_1_2_3_grams)"
   ]
  },
  {
   "cell_type": "code",
   "execution_count": 98,
   "id": "e41f86c3",
   "metadata": {
    "execution": {
     "iopub.execute_input": "2023-08-12T03:28:39.002213Z",
     "iopub.status.busy": "2023-08-12T03:28:39.001411Z",
     "iopub.status.idle": "2023-08-12T03:28:39.006315Z",
     "shell.execute_reply": "2023-08-12T03:28:39.005029Z"
    },
    "papermill": {
     "duration": 0.115694,
     "end_time": "2023-08-12T03:28:39.009238",
     "exception": false,
     "start_time": "2023-08-12T03:28:38.893544",
     "status": "completed"
    },
    "tags": []
   },
   "outputs": [],
   "source": [
    "# type(train_1_2_3_grams)"
   ]
  },
  {
   "cell_type": "code",
   "execution_count": 99,
   "id": "5c1822b7",
   "metadata": {
    "execution": {
     "iopub.execute_input": "2023-08-12T03:28:39.220108Z",
     "iopub.status.busy": "2023-08-12T03:28:39.219656Z",
     "iopub.status.idle": "2023-08-12T03:28:39.224886Z",
     "shell.execute_reply": "2023-08-12T03:28:39.223641Z"
    },
    "papermill": {
     "duration": 0.113409,
     "end_time": "2023-08-12T03:28:39.227411",
     "exception": false,
     "start_time": "2023-08-12T03:28:39.114002",
     "status": "completed"
    },
    "tags": []
   },
   "outputs": [],
   "source": [
    "# Get the vocabulary that should be used in the final models  \n",
    "# relevant_vocab = train_1_2_3_grams - common_1_2_3_grams_sentiment\n",
    "# print(len(relevant_vocab))"
   ]
  },
  {
   "cell_type": "markdown",
   "id": "1736025d",
   "metadata": {
    "papermill": {
     "duration": 0.104593,
     "end_time": "2023-08-12T03:28:39.438468",
     "exception": false,
     "start_time": "2023-08-12T03:28:39.333875",
     "status": "completed"
    },
    "tags": []
   },
   "source": [
    "## Submit_v4 for merged file models  "
   ]
  },
  {
   "cell_type": "markdown",
   "id": "53aaa623",
   "metadata": {
    "papermill": {
     "duration": 0.105559,
     "end_time": "2023-08-12T03:28:39.649112",
     "exception": false,
     "start_time": "2023-08-12T03:28:39.543553",
     "status": "completed"
    },
    "tags": []
   },
   "source": [
    "### More Helper functions  "
   ]
  },
  {
   "cell_type": "code",
   "execution_count": 100,
   "id": "766a46fd",
   "metadata": {
    "execution": {
     "iopub.execute_input": "2023-08-12T03:28:39.860397Z",
     "iopub.status.busy": "2023-08-12T03:28:39.859892Z",
     "iopub.status.idle": "2023-08-12T03:28:39.867653Z",
     "shell.execute_reply": "2023-08-12T03:28:39.866590Z"
    },
    "papermill": {
     "duration": 0.116423,
     "end_time": "2023-08-12T03:28:39.869991",
     "exception": false,
     "start_time": "2023-08-12T03:28:39.753568",
     "status": "completed"
    },
    "tags": []
   },
   "outputs": [],
   "source": [
    "# Testing predictions on missing reviewtext columns  \n",
    "\n",
    "def predict_on_missing_review_data(pipe, selected_features, merged_train):\n",
    "    missing_reviews_train = merged_train.loc[merged_train['reviewYN'] == 1]\n",
    "    missing_reviews_train.reset_index(drop=True)\n",
    "    X_train_miss_revs = missing_reviews_train.drop('sentiment', axis = 1)\n",
    "    X_train_miss_revs = X_train_miss_revs[selected_features]\n",
    "    y_train_miss_revs = missing_reviews_train['sentiment']\n",
    "    \n",
    "    y_pred_miss_revs = pipe.predict(X_train_miss_revs)\n",
    "#     print('Predictions on rows which had missing reviewText')\n",
    "    print(\"Confusion matrix and f1-score for rows which have no reviewText in X_train: \")\n",
    "    print(confusion_matrix(y_train_miss_revs, y_pred_miss_revs, labels=pipe.classes_))\n",
    "    \n",
    "    return f1_score(y_train_miss_revs, y_pred_miss_revs, average='micro')"
   ]
  },
  {
   "cell_type": "code",
   "execution_count": 101,
   "id": "245f6007",
   "metadata": {
    "execution": {
     "iopub.execute_input": "2023-08-12T03:28:40.082195Z",
     "iopub.status.busy": "2023-08-12T03:28:40.081140Z",
     "iopub.status.idle": "2023-08-12T03:28:40.113624Z",
     "shell.execute_reply": "2023-08-12T03:28:40.112198Z"
    },
    "papermill": {
     "duration": 0.143274,
     "end_time": "2023-08-12T03:28:40.116425",
     "exception": false,
     "start_time": "2023-08-12T03:28:39.973151",
     "status": "completed"
    },
    "tags": []
   },
   "outputs": [],
   "source": [
    "# Function to build pipelines for GridSearchCV which goes into the final 'submit' function  \n",
    "def build_pipeline(selected_model=LogisticRegression(), \n",
    "                   selected_features={'txt': ['reviewText']}, \n",
    "                   param_grid=None,\n",
    "                   vocab=None,\n",
    "                   vocab_usage='tfidf',\n",
    "                   strip_accents='unicode', \n",
    "                   add_countvec=False):\n",
    "    # Encoders  \n",
    "    ohe = OneHotEncoder(sparse_output=False, handle_unknown='ignore')\n",
    "    MMscaler = MinMaxScaler()\n",
    "    StdScaler = StandardScaler()\n",
    "    RobScaler = RobustScaler()\n",
    "    \n",
    "    # Text features ['reviewText', 'reviewerName', 'movieid', 'genre', 'director']\n",
    "    tfidf_vec = TfidfVectorizer(ngram_range=(1,2))\n",
    "    count_vec = CountVectorizer(ngram_range=(1,2))\n",
    "    txt_pipe = Pipeline(steps=[\n",
    "                            (\"tvec\", TfidfVectorizer(ngram_range=(1,3), strip_accents=strip_accents))    # Adjust ngram_range here for reviewText\n",
    "                        ])\n",
    "    txt_pipe_vocab = Pipeline(steps=[\n",
    "                            (\"tvec\", TfidfVectorizer(ngram_range=(1,3), strip_accents=strip_accents, vocabulary=vocab))    # Adjust ngram_range here for reviewText\n",
    "                        ])\n",
    "    txt_pipe_2 = Pipeline(steps=[\n",
    "                            (\"tvec\", TfidfVectorizer(ngram_range=(2,2)))\n",
    "                        ])\n",
    "    txt_pipe_3 = Pipeline(steps=[\n",
    "                            (\"tvec\", TfidfVectorizer(ngram_range=(1,1)))\n",
    "                        ])\n",
    "    txt_pipe_4 = Pipeline(steps=[\n",
    "                            (\"tvec\", TfidfVectorizer(ngram_range=(1,3)))    # Adjust ngram_range here for reviewText\n",
    "                        ])\n",
    "    txt_pipe_title  = Pipeline(steps=[\n",
    "                            (\"tvec\", TfidfVectorizer(ngram_range=(1,5)))    # Adjust ngram_range here for reviewText\n",
    "                        ])\n",
    "    \n",
    "    # Additional pipes for count vectorizer\n",
    "    txt_pipe_countvec = Pipeline(steps=[\n",
    "                            (\"cvec\", CountVectorizer(ngram_range=(1,3), strip_accents=strip_accents))    # Adjust ngram_range here for reviewText\n",
    "                        ])\n",
    "    txt_pipe_countvec_vocab = Pipeline(steps=[\n",
    "                            (\"cvec\", CountVectorizer(ngram_range=(1,3), strip_accents=strip_accents, vocabulary=vocab))    # Adjust ngram_range here for reviewText\n",
    "                        ])\n",
    "    \n",
    "    txt_pipe_countvec_ratingContents = Pipeline(steps=[\n",
    "                            (\"cvec\", CountVectorizer(ngram_range=(1,5)))    # Adjust ngram_range here for reviewText\n",
    "                        ])\n",
    "    txt_pipe_countvec_rcSorted = Pipeline(steps=[\n",
    "                            (\"cvec\", CountVectorizer(ngram_range=(1,1)))    # Adjust ngram_range here for reviewText\n",
    "                        ])\n",
    "    txt_pipe_countvec_genre = Pipeline(steps=[\n",
    "                            (\"cvec\", CountVectorizer(ngram_range=(1,1)))\n",
    "                        ])\n",
    "    txt_pipe_countvec_genreSorted = Pipeline(steps=[\n",
    "                            (\"cvec\", CountVectorizer(ngram_range=(1,5)))\n",
    "                        ])\n",
    "    txt_pipe_countvec_distributor = Pipeline(steps=[\n",
    "                            (\"cvec\", CountVectorizer(ngram_range=(1,3)))    # Adjust ngram_range here for reviewText\n",
    "                        ])\n",
    "    txt_pipe_countvec_title = Pipeline(steps=[\n",
    "                            (\"cvec\", CountVectorizer(ngram_range=(1,5), strip_accents=strip_accents))\n",
    "                        ])\n",
    "    txt_pipe_countvec_movieid = Pipeline(steps=[\n",
    "                            (\"cvec\", CountVectorizer(ngram_range=(1,1)))\n",
    "                        ])\n",
    "    # Basic pipes  \n",
    "    TFs = []\n",
    "    try:\n",
    "        for c in selected_features['cat']:\n",
    "            TFs.append((f\"cat_{c}\", ohe, [c]))\n",
    "    except:\n",
    "        pass\n",
    "    try:\n",
    "        for n in selected_features['num']:\n",
    "            if n in [\"runtimeMinutes\", \"boxOffice\", \"releaseDiff\"]:\n",
    "                TFs.append((f\"num_{n}\", RobScaler, [n]))\n",
    "                TFs.append((f\"num_{n}_ss\", StdScaler, [n]))\n",
    "                \n",
    "            else:\n",
    "                TFs.append((f\"num_{n}\", StdScaler, [n]))\n",
    "    except:\n",
    "        pass\n",
    "    try:\n",
    "        for t in selected_features['txt']:\n",
    "            if t in ['director', 'reviewerName']:\n",
    "                TFs.append((f\"txt_{t}\", txt_pipe_2, t))\n",
    "            elif t in [\"originalLanguage\", \"releaseYear\"]:\n",
    "                TFs.append((f\"txt_{t}\", txt_pipe_3, t))\n",
    "            elif t in ['genre']:\n",
    "                TFs.append((f\"txt_{t}\", txt_pipe_countvec_genre, t))\n",
    "            elif t in [\"genreSorted\"]:\n",
    "                TFs.append((f\"txt_{t}\", txt_pipe_countvec_genreSorted, t))\n",
    "            elif t in [\"distributor\"]:\n",
    "                TFs.append((f\"txt_{t}\", txt_pipe_countvec_distributor, t))\n",
    "            elif t in ['reviewText']:\n",
    "#                 if vocab and (vocab_usage in [\"tfidf\", \"both\"]):\n",
    "#                     txt_pipe.set_params(tvec__vocabulary=vocab)\n",
    "#                     txt_pipe.set_params(tvec__stop_words='english')\n",
    "                TFs.append((f\"txt_{t}\", txt_pipe, t))\n",
    "            elif t in ['reviewText_2']:\n",
    "                if add_countvec:\n",
    "#                     if vocab and (vocab_usage in [\"count\", \"both\"]):\n",
    "#                         txt_pipe_countvec.set_params(cvec__vocabulary=vocab)\n",
    "#                         txt_pipe_countvec.set_params(cvec__stop_words='english')\n",
    "                    TFs.append((f\"txt_{t}\", txt_pipe_countvec, t))\n",
    "            elif t in ['reviewText_3']:\n",
    "                if vocab_usage == 'tfidf':\n",
    "                    TFs.append((f\"txt_{t}\", txt_pipe_vocab, t))\n",
    "                elif vocab_usage == 'count':\n",
    "                    TFs.append((f\"txt_{t}\", txt_pipe_countvec_vocab, t))\n",
    "            elif t in [\"ratingContents\"]:\n",
    "                TFs.append((f\"txt_{t}\", txt_pipe_countvec_ratingContents, t))\n",
    "            elif t in [\"rcSorted\"]:\n",
    "                TFs.append((f\"txt_{t}\", txt_pipe_countvec_rcSorted, t))\n",
    "            elif t in [\"title\"]:\n",
    "                TFs.append((f\"txt_{t}\", txt_pipe_title, t))\n",
    "            elif t in [\"movieid\"]:\n",
    "                TFs.append((f\"txt_{t}\", txt_pipe_countvec_movieid, t))\n",
    "            else:\n",
    "                pass\n",
    "    except:\n",
    "        pass\n",
    "\n",
    "    # Build ColumnTransformer  \n",
    "    ct = ColumnTransformer(transformers=TFs, remainder='drop')\n",
    "\n",
    "    # Build Pipeline\n",
    "    pipe = Pipeline(steps=[('ct', ct), ('model', selected_model)])\n",
    "    print(\"\\nPipeline built successfully.\")\n",
    "\n",
    "    # Use the pipe in GridSearchCV\n",
    "    if param_grid == None:\n",
    "        param_grid_temp = {\"model__C\": [1],\n",
    "                     'model__solver': ['liblinear']}\n",
    "        print(\"Full GridSearchCV pipeline built successfully with basic default param_grid.\\n\")\n",
    "        pipeCV = GridSearchCV(pipe, param_grid_temp, cv=10, scoring=\"f1_micro\", n_jobs=-1)\n",
    "        return pipeCV\n",
    "    \n",
    "    # GridSearchCV if param_grid provided\n",
    "    if param_grid:\n",
    "        pipeCV = GridSearchCV(pipe, param_grid, cv=10, scoring=\"f1_micro\", n_jobs=-1)\n",
    "        print(\"\\nFull GridSearchCV pipeline built successfully.\")\n",
    "        return pipeCV"
   ]
  },
  {
   "cell_type": "code",
   "execution_count": 102,
   "id": "ffa6f754",
   "metadata": {
    "execution": {
     "iopub.execute_input": "2023-08-12T03:28:40.329114Z",
     "iopub.status.busy": "2023-08-12T03:28:40.328303Z",
     "iopub.status.idle": "2023-08-12T03:28:40.345133Z",
     "shell.execute_reply": "2023-08-12T03:28:40.344198Z"
    },
    "papermill": {
     "duration": 0.125786,
     "end_time": "2023-08-12T03:28:40.347919",
     "exception": false,
     "start_time": "2023-08-12T03:28:40.222133",
     "status": "completed"
    },
    "tags": []
   },
   "outputs": [],
   "source": [
    "def preprocessor():\n",
    "    \n",
    "    # Merge and preprocess train and movies data  \n",
    "    merged = select_features(load_csv(\"train\"), load_csv(\"movies\"), row_thresh_null=None)    # Decide if you want to drop any rows containing lot of nulls\n",
    "    # Impute missing numerical values  \n",
    "    # Simple Imputer for ['audienceScore', 'runtimeMinutes', 'boxOffice'] and 'releaseDate' columns\n",
    "    si = SimpleImputer(strategy='median')\n",
    "    merged[['audienceScore', 'runtimeMinutes', 'boxOffice']] = si.fit_transform(merged[['audienceScore', 'runtimeMinutes', 'boxOffice']])\n",
    "    merged['releaseDate'] = merged[\"releaseDate\"].fillna(merged[\"releaseDate\"].median())    \n",
    "\n",
    "    # Create new feature columns\n",
    "    \n",
    "    # Convert audienceScore to categories  \n",
    "    num_bins_as = 20\n",
    "    merged[\"audScoreBins\"] = pd.cut(merged['audienceScore'], bins=num_bins_as, labels=False)\n",
    "\n",
    "    # Convert runtimeMinutes to categories  \n",
    "#     num_bins_rt = 20\n",
    "    merged[\"runtimeBins\"] = pd.cut(merged['runtimeMinutes'], bins=[0,75,120,180,565], labels=[4,3,2,1])\n",
    "    \n",
    "    # Convert boxOffice to categories  \n",
    "    num_bins_bo = 5\n",
    "    merged[\"boxOfficeBins\"] = pd.cut(merged['boxOffice'], bins=num_bins_bo, labels=False)\n",
    "    \n",
    "    # Convert releaseDiff to categories  \n",
    "    num_bins_rd = 5\n",
    "    merged[\"releaseDiffBins\"] = pd.cut(merged['releaseDiff'], bins=[-1, 180, 360, 1000, 40000], labels=[0, 1, 2, 3])\n",
    "    \n",
    "    # Check1 (preprocessor)\n",
    "    print(\"\\nCheck 1 (preprocessor) complete.\")\n",
    "    print(f\"Shape of X_train: {merged.shape}\")\n",
    "    print(f\"Features in X_train: {merged.columns}\")\n",
    "\n",
    "\n",
    "    \n",
    "    # Merge and preprocess test and movies data  \n",
    "    merged_test = select_features(load_csv(\"test\"), load_csv(\"movies\"))\n",
    "    # Transform ['audienceScore', 'runtimeMinutes', 'boxOffice'] columns in merged_test using 'si' fitted on 'merged' df  \n",
    "    merged_test[['audienceScore', 'runtimeMinutes', 'boxOffice']] = si.transform(merged_test[['audienceScore', 'runtimeMinutes', 'boxOffice']])\n",
    "    # Fill 'releaseDate' column in 'merged_test' df with median from the train (merged) df  \n",
    "    merged_test['releaseDate'] = merged_test[\"releaseDate\"].fillna(merged[\"releaseDate\"].median())\n",
    "\n",
    "    \n",
    "    # Create new feature columns\n",
    "    \n",
    "    # Convert audienceScore to categories  \n",
    "    num_bins_as = 20\n",
    "    merged_test[\"audScoreBins\"] = pd.cut(merged_test['audienceScore'], bins=num_bins_as, labels=False)\n",
    "    \n",
    "    # Convert runtimeMinutes to categories  \n",
    "#     num_bins_rt = 20\n",
    "    merged_test[\"runtimeBins\"] = pd.cut(merged_test['runtimeMinutes'], bins=[0,75,120,180,565], labels=[4,3,2,1])\n",
    "    \n",
    "    # Convert boxOffice to categories  \n",
    "    num_bins_bo = 5\n",
    "    merged_test[\"boxOfficeBins\"] = pd.cut(merged_test['boxOffice'], bins=num_bins_bo, labels=False)\n",
    "    \n",
    "    # Convert releaseDiff to categories  \n",
    "    num_bins_rd = 5\n",
    "    merged_test[\"releaseDiffBins\"] = pd.cut(merged_test['releaseDiff'], bins=[-1, 180, 360, 1000, 40000], labels=[0, 1, 2, 3])\n",
    "    \n",
    "    \n",
    "    # Check2 (preprocessor)\n",
    "    print(\"\\nCheck 2 (preprocessor) complete.\")\n",
    "    print(f\"Shape of X_test: {merged_test.shape}\")\n",
    "    print(f\"Features in X_test: {merged_test.columns}\")\n",
    "\n",
    "    return merged, merged_test\n",
    "    "
   ]
  },
  {
   "cell_type": "code",
   "execution_count": 103,
   "id": "f8237296",
   "metadata": {
    "execution": {
     "iopub.execute_input": "2023-08-12T03:28:40.558674Z",
     "iopub.status.busy": "2023-08-12T03:28:40.557886Z",
     "iopub.status.idle": "2023-08-12T03:28:40.561979Z",
     "shell.execute_reply": "2023-08-12T03:28:40.561104Z"
    },
    "papermill": {
     "duration": 0.112035,
     "end_time": "2023-08-12T03:28:40.564507",
     "exception": false,
     "start_time": "2023-08-12T03:28:40.452472",
     "status": "completed"
    },
    "tags": []
   },
   "outputs": [],
   "source": [
    "# merged, merged_test = preprocessor()\n",
    "# merged.shape, merged_test.shape"
   ]
  },
  {
   "cell_type": "code",
   "execution_count": 104,
   "id": "d69f7a96",
   "metadata": {
    "execution": {
     "iopub.execute_input": "2023-08-12T03:28:40.778064Z",
     "iopub.status.busy": "2023-08-12T03:28:40.777248Z",
     "iopub.status.idle": "2023-08-12T03:28:40.803666Z",
     "shell.execute_reply": "2023-08-12T03:28:40.802375Z"
    },
    "papermill": {
     "duration": 0.135282,
     "end_time": "2023-08-12T03:28:40.806448",
     "exception": false,
     "start_time": "2023-08-12T03:28:40.671166",
     "status": "completed"
    },
    "tags": []
   },
   "outputs": [],
   "source": [
    "def submit_v5(classifiers= [\n",
    "                {'selected_model' : LogisticRegression(C=1, solver='saga', max_iter=100000), \n",
    "                  'selected_features' : {'num': ['audienceScore']}, \n",
    "                  'param_grid' : None,\n",
    "                  'vocab' : None,\n",
    "                  'vocab_usage' : 'tfidf',\n",
    "                  'strip_accents' : 'unicode', \n",
    "                  'add_countvec' : False}\n",
    "              ]):\n",
    "    \n",
    "    \"\"\"Takes a list of dictionaries each with same keys as mentioned in the default dictionary in function definition\"\"\"\n",
    "    \n",
    "    print(\"\\nRunning the submit_v5 function...\")\n",
    "    \n",
    "    merged, merged_test = preprocessor()\n",
    "    print(f\"Preprocessing of train and test datasets complete.\")\n",
    "    \n",
    "    # Build vocabulary (if vocab is True)\n",
    "    vocab = None\n",
    "    for item in classifiers:\n",
    "        if item['vocab']:\n",
    "            vocab = True\n",
    "            break\n",
    "    \n",
    "    if vocab == True:\n",
    "        # Generate and store the entire vocabulary of training data  \n",
    "        print(f\"Generating stop words/phrases specific for this project data...\")\n",
    "        train_1_2_3_grams = get_vocab(merged['reviewText'], ngram_range=(1,3))\n",
    "        print(f\"Size of vocabulary of training data: {len(train_1_2_3_grams)}\")\n",
    "        # sorted(train_1_2_3_grams)\n",
    "\n",
    "        # Generate stop words/phrases specific for this project data  \n",
    "        print(f\"Generating stop words/phrases specific for this project data...\")\n",
    "        common_1_2_3_grams = get_common_vocab([merged, merged_test], ngram_range_list=[(1,1), (2,2), (3,3)])\n",
    "        print(f\"Number of stop words: {len(common_1_2_3_grams)}\")\n",
    "\n",
    "        # Get the vocabulary that should be used in the final models  \n",
    "        print(f\"Getting the vocabulary that will be fed to the final model(s)...\")\n",
    "        relevant_vocab = list(train_1_2_3_grams - common_1_2_3_grams)\n",
    "        print(f\"Size of the final relevant vocabulary: {len(relevant_vocab)}\")\n",
    "    else:\n",
    "        pass\n",
    "    \n",
    "    \n",
    "    # Create a list to store estimators  \n",
    "    estimators = []     # List of tuples of the form ('classifier_name', 'classifer_instance')\n",
    "    \n",
    "    # Build a dataframe of predictions  \n",
    "    predictions_df = pd.DataFrame()\n",
    "    \n",
    "    # Build a separate pipeline and fit it on selected features (and param_grid) for each item in classifiers list\n",
    "    for n, item in enumerate(classifiers, start=1):\n",
    "        selected_model = item['selected_model']\n",
    "        selected_features = item['selected_features']\n",
    "        param_grid = item['param_grid']\n",
    "        vocab = item['vocab']\n",
    "        vocab_usage = item['vocab_usage']\n",
    "        strip_accents = item['strip_accents']\n",
    "        add_countvec = item['add_countvec']\n",
    "    \n",
    "    \n",
    "        # Fine tune selected_features\n",
    "        if add_countvec:\n",
    "            if 'txt' in selected_features.keys():\n",
    "                if \"reviewText_2\" not in selected_features['txt']:\n",
    "                    selected_features['txt'].append('reviewText_2')\n",
    "        if vocab:\n",
    "            if 'txt' in selected_features.keys():\n",
    "                if \"reviewText_3\" not in selected_features['txt']:\n",
    "                    selected_features['txt'].append('reviewText_3')\n",
    "        else:\n",
    "            print(f\"No vocabulary provided/used for this model.\")\n",
    "        print(f\"\\nSelected features: {selected_features}\")\n",
    "        \n",
    "        if type(vocab) in [type([1, 2]), type({1, 2})]:\n",
    "            vocab = vocab\n",
    "        elif vocab == True:\n",
    "            vocab = common_1_2_3_grams    # Choose vocabulary here\n",
    "\n",
    "        # Modify X_train for the given 'item' by creating a custom 'features' list\n",
    "        features = []\n",
    "        for item in selected_features.values():\n",
    "            features.extend(item)\n",
    "            \n",
    "        # Add new columns as needed  \n",
    "        if add_countvec:\n",
    "            merged['reviewText_2'] = merged['reviewText']\n",
    "        if vocab:\n",
    "            merged['reviewText_3'] = merged['reviewText']\n",
    "        \n",
    "        # Create X_tran, y_train\n",
    "        X_train = merged.drop(labels=\"sentiment\", axis=1)\n",
    "        y_train = merged[\"sentiment\"]\n",
    "        \n",
    "        X_train = merged[features].copy()\n",
    "\n",
    "\n",
    "        # Build Pipeline\n",
    "        pipe = build_pipeline(selected_model, selected_features, param_grid=param_grid, \n",
    "                              vocab=vocab, vocab_usage='tfidf', \n",
    "                              strip_accents=strip_accents, add_countvec=add_countvec)\n",
    "        print(pipe)\n",
    "\n",
    "        \n",
    "        # Fit \n",
    "        print(f\"\\nTraining started with full pipeline for classifier #{n}/{len(classifiers)}...\")\n",
    "        pipe.fit(X_train, y_train)\n",
    "        \n",
    "\n",
    "        # Check1\n",
    "        print(f\"\\nCheck #{n}.1 complete.\")\n",
    "        print(f\"Details of the best model using classifier #{n} (GridSearchCV) on X_train: \")\n",
    "        print(f\"Best Params: {pipe.best_params_}\")\n",
    "        print(f\"Best Score: {pipe.best_score_}\")\n",
    "        \n",
    "        print(predict_on_missing_review_data(pipe, features, merged))    # Function defined above\n",
    "        \n",
    "        estimators.append((f\"classifier_{n}\", pipe))\n",
    "        print(f\"classifier_{n} successfully added to 'estimators' list\")\n",
    "\n",
    "        \n",
    "        # Predict on test.csv file\n",
    "        # Add new columns as needed \n",
    "        if add_countvec:\n",
    "            merged_test['reviewText_2'] = merged_test['reviewText']\n",
    "        if vocab:\n",
    "            merged_test['reviewText_3'] = merged_test['reviewText']\n",
    "        \n",
    "               \n",
    "        X_test = merged_test[features].copy()\n",
    "\n",
    "    \n",
    "        y_pred = pipe.predict(X_test)\n",
    "        \n",
    "        # Insert predictions in 'predictions_df' dataframe\n",
    "        predictions_df.insert(n-1, f\"pred_{n}\", y_pred, allow_duplicates=False)\n",
    "        print(predictions_df.shape)\n",
    "        print(predictions_df.head(10))\n",
    "        \n",
    "    \n",
    "        # Check2\n",
    "        print(f\"\\nCheck #{n}.2 complete.\")\n",
    "    #     cv_results_df = pd.DataFrame(pipe.cv_results_)\n",
    "        print(\"Details of the best model using full pipeline (GridSearchCV) on X_train: \")\n",
    "#         print(f\"Best Estimator: {pipe.best_estimator_}\")\n",
    "        print(f\"Best Params: {pipe.best_params_}\")\n",
    "        print(f\"Best Score: {pipe.best_score_}\")\n",
    "#         print(f\"Best Index: {pipe.best_index_}\")\n",
    "        print(f\"Refit Time: {pipe.refit_time_}\")\n",
    "    #     print(f\"Shape of CV results dataframe: {cv_results_df.shape}\")\n",
    "    \n",
    "    # Voting classifier (custom) with hard voting\n",
    "    # Calculate the MODE for all predictions (Note that the 'predictions_df' generated above should have odd number of columns)\n",
    "    pred_df_final = predictions_df.mode('columns')\n",
    "    pred_df_final.columns = [\"sentiment\"]\n",
    "    pred_df_final.index.name = \"id\"\n",
    "    pred_df_final.to_csv(\"submission.csv\")\n",
    "    \n",
    "    print(\"\\nSuccessfully created the submission file!!!\")\n",
    "    \n",
    "#     return pipe.cv_results_\n",
    "    return pred_df_final, estimators"
   ]
  },
  {
   "cell_type": "markdown",
   "id": "b4d3eaf7",
   "metadata": {
    "papermill": {
     "duration": 0.103967,
     "end_time": "2023-08-12T03:28:41.012070",
     "exception": false,
     "start_time": "2023-08-12T03:28:40.908103",
     "status": "completed"
    },
    "tags": []
   },
   "source": [
    "## Use 'submit_v5' function  "
   ]
  },
  {
   "cell_type": "code",
   "execution_count": 105,
   "id": "19c96b29",
   "metadata": {
    "execution": {
     "iopub.execute_input": "2023-08-12T03:28:41.228055Z",
     "iopub.status.busy": "2023-08-12T03:28:41.227247Z",
     "iopub.status.idle": "2023-08-12T03:28:41.231605Z",
     "shell.execute_reply": "2023-08-12T03:28:41.230575Z"
    },
    "papermill": {
     "duration": 0.116581,
     "end_time": "2023-08-12T03:28:41.234402",
     "exception": false,
     "start_time": "2023-08-12T03:28:41.117821",
     "status": "completed"
    },
    "tags": []
   },
   "outputs": [],
   "source": [
    "# Try submit_v5 with default settings\n",
    "# submit_v5()"
   ]
  },
  {
   "cell_type": "code",
   "execution_count": 106,
   "id": "914c5663",
   "metadata": {
    "execution": {
     "iopub.execute_input": "2023-08-12T03:28:41.446362Z",
     "iopub.status.busy": "2023-08-12T03:28:41.445890Z",
     "iopub.status.idle": "2023-08-12T04:17:44.460550Z",
     "shell.execute_reply": "2023-08-12T04:17:44.459188Z"
    },
    "papermill": {
     "duration": 2943.231735,
     "end_time": "2023-08-12T04:17:44.570520",
     "exception": false,
     "start_time": "2023-08-12T03:28:41.338785",
     "status": "completed"
    },
    "tags": []
   },
   "outputs": [
    {
     "name": "stdout",
     "output_type": "stream",
     "text": [
      "\n",
      "Running the submit_v5 function...\n",
      "\n",
      "Check 1 (preprocessor) complete.\n",
      "Shape of X_train: (162758, 30)\n",
      "Features in X_train: Index(['movieid', 'reviewerName', 'isFrequentReviewer', 'reviewText',\n",
      "       'sentiment', 'title', 'audienceScore', 'rating', 'ratingContents',\n",
      "       'releaseDateTheaters', 'releaseDateStreaming', 'runtimeMinutes',\n",
      "       'genre', 'originalLanguage', 'director', 'boxOffice', 'distributor',\n",
      "       'soundType', 'reviewYN', 'reviewWC', 'genreSorted', 'rcSorted',\n",
      "       'releaseDate', 'releaseYear', 'releaseMonth', 'releaseDiff',\n",
      "       'audScoreBins', 'runtimeBins', 'boxOfficeBins', 'releaseDiffBins'],\n",
      "      dtype='object')\n",
      "\n",
      "Check 2 (preprocessor) complete.\n",
      "Shape of X_test: (55315, 29)\n",
      "Features in X_test: Index(['movieid', 'reviewerName', 'isFrequentReviewer', 'reviewText', 'title',\n",
      "       'audienceScore', 'rating', 'ratingContents', 'releaseDateTheaters',\n",
      "       'releaseDateStreaming', 'runtimeMinutes', 'genre', 'originalLanguage',\n",
      "       'director', 'boxOffice', 'distributor', 'soundType', 'reviewYN',\n",
      "       'reviewWC', 'genreSorted', 'rcSorted', 'releaseDate', 'releaseYear',\n",
      "       'releaseMonth', 'releaseDiff', 'audScoreBins', 'runtimeBins',\n",
      "       'boxOfficeBins', 'releaseDiffBins'],\n",
      "      dtype='object')\n",
      "Preprocessing of train and test datasets complete.\n",
      "Generating stop words/phrases specific for this project data...\n",
      "Generating vocabulary for ngram_range: (1, 3)...\n",
      "Size of vocabulary of training data: 2610596\n",
      "Generating stop words/phrases specific for this project data...\n",
      "Working on DF#1 in the list of DFs provided\n",
      "Generating vocabulary for ngram_range: (1, 1)...\n",
      "Vocabulary size for ngram-range (1, 1) in DF#1: 63881\n",
      "\n",
      "Words from the first df for ngram-range (1, 1) added.\n",
      "\n",
      "Working on DF#2 in the list of DFs provided\n",
      "Generating vocabulary for ngram_range: (1, 1)...\n",
      "Vocabulary size for ngram-range (1, 1) in DF#2: 42992\n",
      "\n",
      "Keeping only the common (intersection) words for ngram-range (1, 1)...\n",
      "Common vocabulary for ngram-range (1, 1): 35498\n",
      "\n",
      "Appended first time to final common vocabulary: ngram-range = (1, 1).\n",
      "\n",
      "Working on DF#1 in the list of DFs provided\n",
      "Generating vocabulary for ngram_range: (2, 2)...\n",
      "Vocabulary size for ngram-range (2, 2) in DF#1: 1130406\n",
      "\n",
      "Words from the first df for ngram-range (2, 2) added.\n",
      "\n",
      "Working on DF#2 in the list of DFs provided\n",
      "Generating vocabulary for ngram_range: (2, 2)...\n",
      "Vocabulary size for ngram-range (2, 2) in DF#2: 436174\n",
      "\n",
      "Keeping only the common (intersection) words for ngram-range (2, 2)...\n",
      "Common vocabulary for ngram-range (2, 2): 112530\n",
      "\n",
      "Fusing (union) with final common vocabulary: ngram-range = (2, 2).\n",
      "\n",
      "Working on DF#1 in the list of DFs provided\n",
      "Generating vocabulary for ngram_range: (3, 3)...\n",
      "Vocabulary size for ngram-range (3, 3) in DF#1: 1416309\n",
      "\n",
      "Words from the first df for ngram-range (3, 3) added.\n",
      "\n",
      "Working on DF#2 in the list of DFs provided\n",
      "Generating vocabulary for ngram_range: (3, 3)...\n",
      "Vocabulary size for ngram-range (3, 3) in DF#2: 488867\n",
      "\n",
      "Keeping only the common (intersection) words for ngram-range (3, 3)...\n",
      "Common vocabulary for ngram-range (3, 3): 22631\n",
      "\n",
      "Fusing (union) with final common vocabulary: ngram-range = (3, 3).\n",
      "\n",
      "Number of stop words: 170659\n",
      "Getting the vocabulary that will be fed to the final model(s)...\n",
      "Size of the final relevant vocabulary: 2439937\n",
      "\n",
      "Selected features: {'cat': ['isFrequentReviewer', 'audScoreBins', 'boxOfficeBins'], 'num': ['releaseDiff'], 'txt': ['reviewText', 'reviewerName', 'movieid', 'genre', 'director', 'ratingContents', 'distributor', 'reviewText_2', 'reviewText_3']}\n",
      "\n",
      "Pipeline built successfully.\n",
      "\n",
      "Full GridSearchCV pipeline built successfully.\n",
      "GridSearchCV(cv=10,\n",
      "             estimator=Pipeline(steps=[('ct',\n",
      "                                        ColumnTransformer(transformers=[('cat_isFrequentReviewer',\n",
      "                                                                         OneHotEncoder(handle_unknown='ignore',\n",
      "                                                                                       sparse_output=False),\n",
      "                                                                         ['isFrequentReviewer']),\n",
      "                                                                        ('cat_audScoreBins',\n",
      "                                                                         OneHotEncoder(handle_unknown='ignore',\n",
      "                                                                                       sparse_output=False),\n",
      "                                                                         ['audScoreBins']),\n",
      "                                                                        ('cat_boxOfficeBins',\n",
      "                                                                         OneHotEncoder(handle_unknown='ignore',\n",
      "                                                                                       sp...\n",
      "                                                                                                                      'script',\n",
      "                                                                                                                      'aaron '\n",
      "                                                                                                                      'spelling',\n",
      "                                                                                                                      'aarp',\n",
      "                                                                                                                      'ab',\n",
      "                                                                                                                      'abandon',\n",
      "                                                                                                                      'abandoned',\n",
      "                                                                                                                      'abandoned '\n",
      "                                                                                                                      'good',\n",
      "                                                                                                                      'abandoning',\n",
      "                                                                                                                      'abandoning '\n",
      "                                                                                                                      'logic',\n",
      "                                                                                                                      'abandoning '\n",
      "                                                                                                                      'traditional',\n",
      "                                                                                                                      'abandonment',\n",
      "                                                                                                                      'abandonment '\n",
      "                                                                                                                      'adoption', ...}))]),\n",
      "                                                                         'reviewText_3')])),\n",
      "                                       ('model',\n",
      "                                        SGDClassifier(max_iter=1000000,\n",
      "                                                      n_iter_no_change=1000,\n",
      "                                                      n_jobs=-1,\n",
      "                                                      tol=0.0001))]),\n",
      "             n_jobs=-1, param_grid={'model__alpha': [0.0001]},\n",
      "             scoring='f1_micro')\n",
      "\n",
      "Training started with full pipeline for classifier #1/1...\n",
      "\n",
      "Check #1.1 complete.\n",
      "Details of the best model using classifier #1 (GridSearchCV) on X_train: \n",
      "Best Params: {'model__alpha': 0.0001}\n",
      "Best Score: 0.8422873239989596\n",
      "Confusion matrix and f1-score for rows which have no reviewText in X_train: \n",
      "[[ 955 1450]\n",
      " [ 123 3919]]\n",
      "0.7560105475414922\n",
      "classifier_1 successfully added to 'estimators' list\n",
      "(55315, 1)\n",
      "     pred_1\n",
      "0  POSITIVE\n",
      "1  POSITIVE\n",
      "2  POSITIVE\n",
      "3  POSITIVE\n",
      "4  POSITIVE\n",
      "5  POSITIVE\n",
      "6  POSITIVE\n",
      "7  POSITIVE\n",
      "8  NEGATIVE\n",
      "9  NEGATIVE\n",
      "\n",
      "Check #1.2 complete.\n",
      "Details of the best model using full pipeline (GridSearchCV) on X_train: \n",
      "Best Params: {'model__alpha': 0.0001}\n",
      "Best Score: 0.8422873239989596\n",
      "Refit Time: 597.1578748226166\n",
      "\n",
      "Successfully created the submission file!!!\n"
     ]
    }
   ],
   "source": [
    "# Testing ONE classfier using submit_v5 function  \n",
    "\n",
    "# Feature dictionaries\n",
    "sfs = {'cat': ['isFrequentReviewer', 'rating'],\n",
    "       'num': [\"audienceScore\", \"runtimeMinutes\", \"boxOffice\", 'releaseDiff']}\n",
    "\n",
    "sf_best = {'cat': ['isFrequentReviewer'],\n",
    "            'num': [\"audienceScore\", \"boxOffice\", 'releaseDiff'],\n",
    "            'txt': ['reviewText', 'reviewerName', 'movieid', 'genre', 'director', \n",
    "                         'ratingContents', 'distributor']}\n",
    "\n",
    "alt_text = {'txt': ['reviewerName', 'movieid', 'genre', 'director', \n",
    "                         'ratingContents', 'distributor']}\n",
    "\n",
    "v88_dict = {'cat': ['isFrequentReviewer', 'audScoreBins', 'boxOfficeBins'],\n",
    "            'num': ['releaseDiff'],\n",
    "            'txt': ['reviewText', 'reviewerName', 'movieid', 'genre', 'director', \n",
    "                         'ratingContents', 'distributor']}\n",
    "\n",
    "# SGDClassifier hyperparameters  \n",
    "# \"model__loss\": ['hinge', 'log_loss', 'modified_huber', \n",
    "#                                                   'squared_hinge', 'perceptron', \n",
    "#                                                   'squared_error', 'huber', \n",
    "#                                                   'epsilon_insensitive', 'squared_epsilon_insensitive']\n",
    "\n",
    "# 'param_grid' : {\"model__alpha\": [0.0001], \n",
    "#                   'model__tol': [0.0001],\n",
    "#                   \"model__penalty\": [\"l2\"],\n",
    "#                   \"model__n_iter_no_change\": [100],\n",
    "#                  }\n",
    "\n",
    "# Best models \n",
    "# For sf_best features\n",
    "#                 {'selected_model' : SGDClassifier(loss='hinge', \n",
    "#                                      max_iter=1000000,\n",
    "#                                      alpha = 0.0001,\n",
    "#                                      tol = 0.0001,\n",
    "#                                      penalty = \"l2\",\n",
    "#                                      n_iter_no_change = 100,\n",
    "#                                      n_jobs = -1), \n",
    "#                   'selected_features' : sf_best, \n",
    "#                   'param_grid' : {\"model__alpha\": [ 0.0001]},\n",
    "#                   'vocab' : True,\n",
    "#                   'vocab_usage' : 'tfidf',\n",
    "#                   'strip_accents' : 'unicode', \n",
    "#                   'add_countvec' : True},\n",
    "\n",
    "# For sfs features\n",
    "#                 {'selected_model' : RandomForestClassifier(n_jobs = -1), \n",
    "#                   'selected_features' : sfs, \n",
    "#                   'param_grid': {'model__n_estimators': [100]},\n",
    "#                   'vocab' : None,\n",
    "#                   'vocab_usage' : 'tfidf',\n",
    "#                   'strip_accents' : 'unicode', \n",
    "#                   'add_countvec' : False}\n",
    "\n",
    "# Best SGD classifer (with params)  \n",
    "sgdc = SGDClassifier(loss='hinge', \n",
    "                     max_iter=1000000,\n",
    "                     alpha = 0.0001,\n",
    "                     tol = 0.0001,\n",
    "                     penalty = \"l2\",\n",
    "                     n_iter_no_change = 1000,\n",
    "                     n_jobs = -1)\n",
    "\n",
    "# Classifiers\n",
    "classifiers= [   \n",
    "                {'selected_model' : sgdc, \n",
    "                  'selected_features' : v88_dict, \n",
    "                  'param_grid' : {\"model__alpha\": [0.0001]},\n",
    "                  'vocab' : True,\n",
    "                  'vocab_usage' : 'tfidf',\n",
    "                  'strip_accents' : 'unicode', \n",
    "                  'add_countvec' : True}\n",
    "            ]\n",
    "\n",
    "# classifiers= [\n",
    "#                 {'selected_model' : LogisticRegression(C=1, solver='saga', max_iter=100000), \n",
    "#                   'selected_features' : {'txt': [\"reviewText\"]}, \n",
    "#                   'param_grid' : {\"model__C\": [1], \n",
    "#                                   'model__solver': ['saga']},\n",
    "#                   'vocab' : None,\n",
    "#                   'vocab_usage' : 'tfidf',\n",
    "#                   'strip_accents' : 'unicode', \n",
    "#                   'add_countvec' : False},\n",
    "#             ]\n",
    "\n",
    "pred_df, estimators = submit_v5(classifiers=classifiers)"
   ]
  },
  {
   "cell_type": "code",
   "execution_count": 107,
   "id": "9c68d95b",
   "metadata": {
    "execution": {
     "iopub.execute_input": "2023-08-12T04:17:44.784263Z",
     "iopub.status.busy": "2023-08-12T04:17:44.782777Z",
     "iopub.status.idle": "2023-08-12T04:17:44.792621Z",
     "shell.execute_reply": "2023-08-12T04:17:44.791034Z"
    },
    "papermill": {
     "duration": 0.11955,
     "end_time": "2023-08-12T04:17:44.795059",
     "exception": false,
     "start_time": "2023-08-12T04:17:44.675509",
     "status": "completed"
    },
    "tags": []
   },
   "outputs": [
    {
     "name": "stdout",
     "output_type": "stream",
     "text": [
      "(55315, 1)\n",
      "   sentiment\n",
      "id          \n",
      "0   POSITIVE\n",
      "1   POSITIVE\n",
      "2   POSITIVE\n",
      "3   POSITIVE\n",
      "4   POSITIVE\n"
     ]
    }
   ],
   "source": [
    "print(pred_df.shape)\n",
    "print(pred_df.head())"
   ]
  },
  {
   "cell_type": "code",
   "execution_count": 108,
   "id": "9bbf1121",
   "metadata": {
    "execution": {
     "iopub.execute_input": "2023-08-12T04:17:45.012115Z",
     "iopub.status.busy": "2023-08-12T04:17:45.010449Z",
     "iopub.status.idle": "2023-08-12T04:17:45.015690Z",
     "shell.execute_reply": "2023-08-12T04:17:45.014851Z"
    },
    "papermill": {
     "duration": 0.11763,
     "end_time": "2023-08-12T04:17:45.018074",
     "exception": false,
     "start_time": "2023-08-12T04:17:44.900444",
     "status": "completed"
    },
    "tags": []
   },
   "outputs": [],
   "source": [
    "# estimators"
   ]
  },
  {
   "cell_type": "code",
   "execution_count": 109,
   "id": "e266298e",
   "metadata": {
    "execution": {
     "iopub.execute_input": "2023-08-12T04:17:45.231529Z",
     "iopub.status.busy": "2023-08-12T04:17:45.230689Z",
     "iopub.status.idle": "2023-08-12T04:17:45.237927Z",
     "shell.execute_reply": "2023-08-12T04:17:45.236616Z"
    },
    "papermill": {
     "duration": 0.116361,
     "end_time": "2023-08-12T04:17:45.240657",
     "exception": false,
     "start_time": "2023-08-12T04:17:45.124296",
     "status": "completed"
    },
    "tags": []
   },
   "outputs": [
    {
     "name": "stdout",
     "output_type": "stream",
     "text": [
      "Number of estimators: 1\n",
      "\n",
      "Estimator: classifier_1\n",
      "{'model__alpha': 0.0001}\n",
      "0.8422873239989596\n",
      "597.1578748226166\n",
      "\n"
     ]
    }
   ],
   "source": [
    "print(f\"Number of estimators: {len(estimators)}\\n\")\n",
    "for est in estimators:\n",
    "    print(f\"Estimator: {est[0]}\")\n",
    "#     print(est[1].best_estimator_)\n",
    "    print(est[1].best_params_)\n",
    "    print(est[1].best_score_)\n",
    "    print(est[1].refit_time_)\n",
    "    print()"
   ]
  },
  {
   "cell_type": "code",
   "execution_count": 110,
   "id": "7bb902fb",
   "metadata": {
    "execution": {
     "iopub.execute_input": "2023-08-12T04:17:45.457186Z",
     "iopub.status.busy": "2023-08-12T04:17:45.456758Z",
     "iopub.status.idle": "2023-08-12T04:17:45.464392Z",
     "shell.execute_reply": "2023-08-12T04:17:45.462795Z"
    },
    "papermill": {
     "duration": 0.120931,
     "end_time": "2023-08-12T04:17:45.467181",
     "exception": false,
     "start_time": "2023-08-12T04:17:45.346250",
     "status": "completed"
    },
    "tags": []
   },
   "outputs": [],
   "source": [
    "# Testing full capabilites of submit_v5  \n",
    "\n",
    "# # Feature dictionaries\n",
    "# sf1 = {'cat': ['isFrequentReviewer', 'rating'],\n",
    "#        'num': [\"audienceScore\", \"runtimeMinutes\", \"boxOffice\"]}\n",
    "\n",
    "# sf2 = {'cat': ['isFrequentReviewer', 'rating'],\n",
    "#        'num': [\"audienceScore\", \"runtimeMinutes\", \"boxOffice\"]}\n",
    "\n",
    "# sf3 = {'cat': ['isFrequentReviewer'],\n",
    "#         'num': ['releaseDiff', 'audienceScore', 'boxOffice'],\n",
    "#         'txt': ['reviewText', 'reviewerName', 'movieid', 'genre', 'director', \n",
    "#                          'ratingContents', 'distributor']}\n",
    "\n",
    "# # Individual classifiers\n",
    "# clf1 =  {'selected_model' : AdaBoostClassifier(), \n",
    "#           'selected_features' : sf1, \n",
    "#           'param_grid' : {\"model__n_estimators\": [50]},\n",
    "#           'vocab' : None,\n",
    "#           'vocab_usage' : 'tfidf',\n",
    "#           'strip_accents' : 'unicode', \n",
    "#           'add_countvec' : False}\n",
    "\n",
    "# clf2 =  {'selected_model' : RandomForestClassifier(), \n",
    "#           'selected_features' : sf2,\n",
    "#           'param_grid' : {\"model__n_estimators\": [50], \n",
    "#                           'model__criterion': ['gini']},\n",
    "#           'vocab' : None,\n",
    "#           'vocab_usage' : 'tfidf',\n",
    "#           'strip_accents' : 'unicode', \n",
    "#           'add_countvec' : False}\n",
    "\n",
    "# clf3 =  {'selected_model' : LogisticRegression(C=1, solver='saga', max_iter=100000), \n",
    "#           'selected_features' : sf3, \n",
    "#           'param_grid' : {'model__C' : [1],\n",
    "#                             'model__solver': ['saga'],\n",
    "#                             \"model__fit_intercept\" : [True],\n",
    "#                             \"model__dual\" : [False]},\n",
    "#           'vocab' : None,\n",
    "#           'vocab_usage' : 'tfidf',\n",
    "#           'strip_accents' : 'unicode', \n",
    "#           'add_countvec' : True}\n",
    "\n",
    "\n",
    "# # List of classifiers for voting\n",
    "# classifiers= [clf1, clf2, clf3]\n",
    "\n",
    "# # Final predictions \n",
    "# pred_df = submit_v5(classifiers=classifiers)"
   ]
  },
  {
   "cell_type": "code",
   "execution_count": 111,
   "id": "7c79873d",
   "metadata": {
    "execution": {
     "iopub.execute_input": "2023-08-12T04:17:45.680286Z",
     "iopub.status.busy": "2023-08-12T04:17:45.679817Z",
     "iopub.status.idle": "2023-08-12T04:17:45.695329Z",
     "shell.execute_reply": "2023-08-12T04:17:45.694102Z"
    },
    "papermill": {
     "duration": 0.125477,
     "end_time": "2023-08-12T04:17:45.697934",
     "exception": false,
     "start_time": "2023-08-12T04:17:45.572457",
     "status": "completed"
    },
    "tags": []
   },
   "outputs": [
    {
     "name": "stdout",
     "output_type": "stream",
     "text": [
      "(55315, 1)\n"
     ]
    },
    {
     "data": {
      "text/html": [
       "<div>\n",
       "<style scoped>\n",
       "    .dataframe tbody tr th:only-of-type {\n",
       "        vertical-align: middle;\n",
       "    }\n",
       "\n",
       "    .dataframe tbody tr th {\n",
       "        vertical-align: top;\n",
       "    }\n",
       "\n",
       "    .dataframe thead th {\n",
       "        text-align: right;\n",
       "    }\n",
       "</style>\n",
       "<table border=\"1\" class=\"dataframe\">\n",
       "  <thead>\n",
       "    <tr style=\"text-align: right;\">\n",
       "      <th></th>\n",
       "      <th>sentiment</th>\n",
       "    </tr>\n",
       "    <tr>\n",
       "      <th>id</th>\n",
       "      <th></th>\n",
       "    </tr>\n",
       "  </thead>\n",
       "  <tbody>\n",
       "    <tr>\n",
       "      <th>0</th>\n",
       "      <td>POSITIVE</td>\n",
       "    </tr>\n",
       "    <tr>\n",
       "      <th>1</th>\n",
       "      <td>POSITIVE</td>\n",
       "    </tr>\n",
       "    <tr>\n",
       "      <th>2</th>\n",
       "      <td>POSITIVE</td>\n",
       "    </tr>\n",
       "    <tr>\n",
       "      <th>3</th>\n",
       "      <td>POSITIVE</td>\n",
       "    </tr>\n",
       "    <tr>\n",
       "      <th>4</th>\n",
       "      <td>POSITIVE</td>\n",
       "    </tr>\n",
       "    <tr>\n",
       "      <th>...</th>\n",
       "      <td>...</td>\n",
       "    </tr>\n",
       "    <tr>\n",
       "      <th>55310</th>\n",
       "      <td>POSITIVE</td>\n",
       "    </tr>\n",
       "    <tr>\n",
       "      <th>55311</th>\n",
       "      <td>NEGATIVE</td>\n",
       "    </tr>\n",
       "    <tr>\n",
       "      <th>55312</th>\n",
       "      <td>NEGATIVE</td>\n",
       "    </tr>\n",
       "    <tr>\n",
       "      <th>55313</th>\n",
       "      <td>POSITIVE</td>\n",
       "    </tr>\n",
       "    <tr>\n",
       "      <th>55314</th>\n",
       "      <td>NEGATIVE</td>\n",
       "    </tr>\n",
       "  </tbody>\n",
       "</table>\n",
       "<p>55315 rows × 1 columns</p>\n",
       "</div>"
      ],
      "text/plain": [
       "      sentiment\n",
       "id             \n",
       "0      POSITIVE\n",
       "1      POSITIVE\n",
       "2      POSITIVE\n",
       "3      POSITIVE\n",
       "4      POSITIVE\n",
       "...         ...\n",
       "55310  POSITIVE\n",
       "55311  NEGATIVE\n",
       "55312  NEGATIVE\n",
       "55313  POSITIVE\n",
       "55314  NEGATIVE\n",
       "\n",
       "[55315 rows x 1 columns]"
      ]
     },
     "execution_count": 111,
     "metadata": {},
     "output_type": "execute_result"
    }
   ],
   "source": [
    "print(pred_df.shape)\n",
    "pred_df"
   ]
  },
  {
   "cell_type": "code",
   "execution_count": 112,
   "id": "4b10d886",
   "metadata": {
    "execution": {
     "iopub.execute_input": "2023-08-12T04:17:45.930241Z",
     "iopub.status.busy": "2023-08-12T04:17:45.929498Z",
     "iopub.status.idle": "2023-08-12T04:17:45.934504Z",
     "shell.execute_reply": "2023-08-12T04:17:45.933291Z"
    },
    "papermill": {
     "duration": 0.131293,
     "end_time": "2023-08-12T04:17:45.936896",
     "exception": false,
     "start_time": "2023-08-12T04:17:45.805603",
     "status": "completed"
    },
    "tags": []
   },
   "outputs": [],
   "source": [
    "# pred_df_mode = pred_df.mode(axis='columns')\n",
    "# print(pred_df_mode.shape)\n",
    "# pred_df_mode"
   ]
  },
  {
   "cell_type": "code",
   "execution_count": 113,
   "id": "617c9238",
   "metadata": {
    "execution": {
     "iopub.execute_input": "2023-08-12T04:17:46.162247Z",
     "iopub.status.busy": "2023-08-12T04:17:46.161754Z",
     "iopub.status.idle": "2023-08-12T04:17:46.185014Z",
     "shell.execute_reply": "2023-08-12T04:17:46.183342Z"
    },
    "papermill": {
     "duration": 0.137294,
     "end_time": "2023-08-12T04:17:46.188709",
     "exception": false,
     "start_time": "2023-08-12T04:17:46.051415",
     "status": "completed"
    },
    "tags": []
   },
   "outputs": [
    {
     "data": {
      "text/plain": [
       "sentiment\n",
       "POSITIVE     38943\n",
       "NEGATIVE     16372\n",
       "dtype: int64"
      ]
     },
     "execution_count": 113,
     "metadata": {},
     "output_type": "execute_result"
    }
   ],
   "source": [
    "pred_df.value_counts()"
   ]
  },
  {
   "cell_type": "markdown",
   "id": "6beadd39",
   "metadata": {
    "papermill": {
     "duration": 0.107135,
     "end_time": "2023-08-12T04:17:46.403475",
     "exception": false,
     "start_time": "2023-08-12T04:17:46.296340",
     "status": "completed"
    },
    "tags": []
   },
   "source": [
    "# NOTE: Move submit_v4 submissions below the suubmit_v4 function  "
   ]
  },
  {
   "cell_type": "code",
   "execution_count": 114,
   "id": "cad986b9",
   "metadata": {
    "execution": {
     "iopub.execute_input": "2023-08-12T04:17:46.625609Z",
     "iopub.status.busy": "2023-08-12T04:17:46.625140Z",
     "iopub.status.idle": "2023-08-12T04:17:46.631704Z",
     "shell.execute_reply": "2023-08-12T04:17:46.630476Z"
    },
    "papermill": {
     "duration": 0.118689,
     "end_time": "2023-08-12T04:17:46.634343",
     "exception": false,
     "start_time": "2023-08-12T04:17:46.515654",
     "status": "completed"
    },
    "tags": []
   },
   "outputs": [],
   "source": [
    "# Try 'submit_v4' function with default params (LogisticRegression model)  \n",
    "\n",
    "# submit_v4()\n",
    "\n",
    "#Default params to this function gave a score of 0.8259 - improvement over previous score of 0.82563!"
   ]
  },
  {
   "cell_type": "code",
   "execution_count": 115,
   "id": "03bcf91c",
   "metadata": {
    "execution": {
     "iopub.execute_input": "2023-08-12T04:17:46.847445Z",
     "iopub.status.busy": "2023-08-12T04:17:46.847051Z",
     "iopub.status.idle": "2023-08-12T04:17:46.851991Z",
     "shell.execute_reply": "2023-08-12T04:17:46.850669Z"
    },
    "papermill": {
     "duration": 0.113846,
     "end_time": "2023-08-12T04:17:46.854492",
     "exception": false,
     "start_time": "2023-08-12T04:17:46.740646",
     "status": "completed"
    },
    "tags": []
   },
   "outputs": [],
   "source": [
    "# Try out GridSearchCV on \"submit_v4\" function with param_grid  \n",
    "# param_grid = {\n",
    "#     \"model__C\": [0.1, 1, 5, 10]\n",
    "# }\n",
    "\n",
    "# submit_v4(selected_features={'txt': ['genre']}, param_grid=param_grid)"
   ]
  },
  {
   "cell_type": "markdown",
   "id": "b756ae91",
   "metadata": {
    "papermill": {
     "duration": 0.108091,
     "end_time": "2023-08-12T04:17:47.067130",
     "exception": false,
     "start_time": "2023-08-12T04:17:46.959039",
     "status": "completed"
    },
    "tags": []
   },
   "source": [
    "### Try LinearSVC with GridSearchCV  "
   ]
  },
  {
   "cell_type": "code",
   "execution_count": 116,
   "id": "f9ad396c",
   "metadata": {
    "execution": {
     "iopub.execute_input": "2023-08-12T04:17:47.281977Z",
     "iopub.status.busy": "2023-08-12T04:17:47.281555Z",
     "iopub.status.idle": "2023-08-12T04:17:47.286700Z",
     "shell.execute_reply": "2023-08-12T04:17:47.285434Z"
    },
    "papermill": {
     "duration": 0.114761,
     "end_time": "2023-08-12T04:17:47.289314",
     "exception": false,
     "start_time": "2023-08-12T04:17:47.174553",
     "status": "completed"
    },
    "tags": []
   },
   "outputs": [],
   "source": [
    "# all_dict = {'cat': [\"isFrequentReviewer\", \"rating\", \"originalLanguage\"],\n",
    "#              'num': [\"audienceScore\", \"runtimeMinutes\", \"boxOffice\"],\n",
    "#              'txt': ['reviewText', 'reviewerName', 'movieid', 'genre', 'director']}\n",
    "\n",
    "# param_grid_svc = {\n",
    "#     \"model__C\": [0.1, 1, 10, 100]\n",
    "# }\n",
    "# param_grid_svc"
   ]
  },
  {
   "cell_type": "code",
   "execution_count": 117,
   "id": "184c07c1",
   "metadata": {
    "execution": {
     "iopub.execute_input": "2023-08-12T04:17:47.506387Z",
     "iopub.status.busy": "2023-08-12T04:17:47.505923Z",
     "iopub.status.idle": "2023-08-12T04:17:47.512032Z",
     "shell.execute_reply": "2023-08-12T04:17:47.510610Z"
    },
    "papermill": {
     "duration": 0.118089,
     "end_time": "2023-08-12T04:17:47.514531",
     "exception": false,
     "start_time": "2023-08-12T04:17:47.396442",
     "status": "completed"
    },
    "tags": []
   },
   "outputs": [],
   "source": [
    "# LinearSCV on single feature  \n",
    "\n",
    "# submit_v4(selected_model=LinearSVC(max_iter=100000, random_state=42), selected_features={'num': [\"audienceScore\"]}, param_grid=param_grid_svc)\n",
    "\n",
    "# Comment: LinearSVC even on single column feature set takes too long to converge."
   ]
  },
  {
   "cell_type": "code",
   "execution_count": 118,
   "id": "97910e34",
   "metadata": {
    "execution": {
     "iopub.execute_input": "2023-08-12T04:17:47.727345Z",
     "iopub.status.busy": "2023-08-12T04:17:47.726896Z",
     "iopub.status.idle": "2023-08-12T04:17:47.731024Z",
     "shell.execute_reply": "2023-08-12T04:17:47.730187Z"
    },
    "papermill": {
     "duration": 0.112407,
     "end_time": "2023-08-12T04:17:47.733191",
     "exception": false,
     "start_time": "2023-08-12T04:17:47.620784",
     "status": "completed"
    },
    "tags": []
   },
   "outputs": [],
   "source": [
    "# LinearSCV on all available features\n",
    "\n",
    "# submit_v4(selected_model=LinearSVC(max_iter=100000, random_state=42), selected_features=all_dict, param_grid=param_grid_svc)\n",
    "\n",
    "# (Update): This took 66 mins to run and gave a public score of 0.84295 (lesser than logreg gridsearchcv wwhich gave 0.84441). Best C was 1.0.\n"
   ]
  },
  {
   "cell_type": "markdown",
   "id": "a93cc9ff",
   "metadata": {
    "papermill": {
     "duration": 0.104139,
     "end_time": "2023-08-12T04:17:47.943377",
     "exception": false,
     "start_time": "2023-08-12T04:17:47.839238",
     "status": "completed"
    },
    "tags": []
   },
   "source": [
    "### Boosting techniques  "
   ]
  },
  {
   "cell_type": "code",
   "execution_count": 119,
   "id": "871790d9",
   "metadata": {
    "execution": {
     "iopub.execute_input": "2023-08-12T04:17:48.159385Z",
     "iopub.status.busy": "2023-08-12T04:17:48.158986Z",
     "iopub.status.idle": "2023-08-12T04:17:48.163285Z",
     "shell.execute_reply": "2023-08-12T04:17:48.162253Z"
    },
    "papermill": {
     "duration": 0.114124,
     "end_time": "2023-08-12T04:17:48.165889",
     "exception": false,
     "start_time": "2023-08-12T04:17:48.051765",
     "status": "completed"
    },
    "tags": []
   },
   "outputs": [],
   "source": [
    "# adc = AdaBoostClassifier(estimator=LogisticRegression(C=5, solver=\"saga\", max_iter=100000), n_estimators=50)\n",
    "# adc"
   ]
  },
  {
   "cell_type": "code",
   "execution_count": 120,
   "id": "b387964d",
   "metadata": {
    "execution": {
     "iopub.execute_input": "2023-08-12T04:17:48.380071Z",
     "iopub.status.busy": "2023-08-12T04:17:48.379655Z",
     "iopub.status.idle": "2023-08-12T04:17:48.383854Z",
     "shell.execute_reply": "2023-08-12T04:17:48.383019Z"
    },
    "papermill": {
     "duration": 0.114245,
     "end_time": "2023-08-12T04:17:48.386430",
     "exception": false,
     "start_time": "2023-08-12T04:17:48.272185",
     "status": "completed"
    },
    "tags": []
   },
   "outputs": [],
   "source": [
    "# submit_v4(selected_model=adc, selected_features={'num': [\"audienceScore\"]}, param_grid=None)"
   ]
  },
  {
   "cell_type": "code",
   "execution_count": 121,
   "id": "322f1b74",
   "metadata": {
    "execution": {
     "iopub.execute_input": "2023-08-12T04:17:48.601102Z",
     "iopub.status.busy": "2023-08-12T04:17:48.600654Z",
     "iopub.status.idle": "2023-08-12T04:17:48.605348Z",
     "shell.execute_reply": "2023-08-12T04:17:48.604252Z"
    },
    "papermill": {
     "duration": 0.114826,
     "end_time": "2023-08-12T04:17:48.607613",
     "exception": false,
     "start_time": "2023-08-12T04:17:48.492787",
     "status": "completed"
    },
    "tags": []
   },
   "outputs": [],
   "source": [
    "# submit_v4(selected_model=adc, selected_features=all_dict, param_grid=None)\n",
    "\n",
    "# Took 1 hour 15 mins to run and gave a public score of only 0.71089. Discarded."
   ]
  },
  {
   "cell_type": "markdown",
   "id": "10e46f81",
   "metadata": {
    "papermill": {
     "duration": 0.105129,
     "end_time": "2023-08-12T04:17:48.818399",
     "exception": false,
     "start_time": "2023-08-12T04:17:48.713270",
     "status": "completed"
    },
    "tags": []
   },
   "source": [
    "### LightGBM  "
   ]
  },
  {
   "cell_type": "code",
   "execution_count": 122,
   "id": "578512f4",
   "metadata": {
    "execution": {
     "iopub.execute_input": "2023-08-12T04:17:49.037109Z",
     "iopub.status.busy": "2023-08-12T04:17:49.036649Z",
     "iopub.status.idle": "2023-08-12T04:17:49.041852Z",
     "shell.execute_reply": "2023-08-12T04:17:49.040445Z"
    },
    "papermill": {
     "duration": 0.118369,
     "end_time": "2023-08-12T04:17:49.044490",
     "exception": false,
     "start_time": "2023-08-12T04:17:48.926121",
     "status": "completed"
    },
    "tags": []
   },
   "outputs": [],
   "source": [
    "# lgb = ltb.LGBMClassifier()\n",
    "# lgb"
   ]
  },
  {
   "cell_type": "code",
   "execution_count": 123,
   "id": "723a29c6",
   "metadata": {
    "execution": {
     "iopub.execute_input": "2023-08-12T04:17:49.259055Z",
     "iopub.status.busy": "2023-08-12T04:17:49.258593Z",
     "iopub.status.idle": "2023-08-12T04:17:49.263635Z",
     "shell.execute_reply": "2023-08-12T04:17:49.262339Z"
    },
    "papermill": {
     "duration": 0.114527,
     "end_time": "2023-08-12T04:17:49.266211",
     "exception": false,
     "start_time": "2023-08-12T04:17:49.151684",
     "status": "completed"
    },
    "tags": []
   },
   "outputs": [],
   "source": [
    "# Try LightGBM with default settings\n",
    "# (Update): Public score only 0.77713. It was fast, took less than 5 mins (without GridSearchCV)\n",
    "\n",
    "# submit_v4(selected_model=ltb.LGBMClassifier(), selected_features=all_dict, param_grid=None)"
   ]
  },
  {
   "cell_type": "markdown",
   "id": "c31ba5ba",
   "metadata": {
    "papermill": {
     "duration": 0.203578,
     "end_time": "2023-08-12T04:17:49.574640",
     "exception": false,
     "start_time": "2023-08-12T04:17:49.371062",
     "status": "completed"
    },
    "tags": []
   },
   "source": [
    "## Feature Engineering"
   ]
  },
  {
   "cell_type": "markdown",
   "id": "febb7ff5",
   "metadata": {
    "papermill": {
     "duration": 0.104509,
     "end_time": "2023-08-12T04:17:49.783993",
     "exception": false,
     "start_time": "2023-08-12T04:17:49.679484",
     "status": "completed"
    },
    "tags": []
   },
   "source": [
    "### Plan  \n",
    "* Add a new column 'reviewWC' which has word count of 'reviewText'  \n",
    "    * Check if there is any relationship between 'reviewWC' and 'sentiment'\n",
    "* Work on vocabulary\n",
    "     * Use TfidfVectorizer and find out the vocabulary of 'reviewText' column for various ngrams\n",
    "     * Use RecursiveFeatureElimination (RFE) or RFECV to select 1000 top words/vocab for each ngram\n",
    "     * Use the final vocab (1000-3000 words) in the model and see how it performs compared to whole vocab\n",
    "\n",
    "`(Update): Code incorporated into the \"select_features\" function  `  \n",
    "`(Update): Many other new features incorporated into the \"select_features\" function too  `  \n",
    "\n"
   ]
  },
  {
   "cell_type": "markdown",
   "id": "3447cb74",
   "metadata": {
    "papermill": {
     "duration": 0.106973,
     "end_time": "2023-08-12T04:17:49.998787",
     "exception": false,
     "start_time": "2023-08-12T04:17:49.891814",
     "status": "completed"
    },
    "tags": []
   },
   "source": [
    "# Back to vocab after success of version 63  "
   ]
  },
  {
   "cell_type": "code",
   "execution_count": 124,
   "id": "d81e7460",
   "metadata": {
    "execution": {
     "iopub.execute_input": "2023-08-12T04:17:50.213907Z",
     "iopub.status.busy": "2023-08-12T04:17:50.213146Z",
     "iopub.status.idle": "2023-08-12T04:17:50.235507Z",
     "shell.execute_reply": "2023-08-12T04:17:50.234439Z"
    },
    "papermill": {
     "duration": 0.132472,
     "end_time": "2023-08-12T04:17:50.238526",
     "exception": false,
     "start_time": "2023-08-12T04:17:50.106054",
     "status": "completed"
    },
    "tags": []
   },
   "outputs": [],
   "source": [
    "def submit_v4(selected_model=LogisticRegression(C=1, solver='liblinear', max_iter=100000), \n",
    "              selected_features={'txt': ['reviewText']}, \n",
    "              param_grid=None,\n",
    "              vocab=None,\n",
    "              vocab_usage='tfidf',\n",
    "              strip_accents='unicode', \n",
    "              add_countvec=False):\n",
    "    \n",
    "    print(\"\\nRunning the submit_v4 function...\")\n",
    "    \n",
    "    # Fine tune selected_features\n",
    "    if add_countvec:\n",
    "        if 'txt' in selected_features.keys():\n",
    "            if \"reviewText_2\" not in selected_features['txt']:\n",
    "                selected_features['txt'].append('reviewText_2')\n",
    "    if vocab:\n",
    "        if 'txt' in selected_features.keys():\n",
    "            if \"reviewText_3\" not in selected_features['txt']:\n",
    "                selected_features['txt'].append('reviewText_3')\n",
    "    print(f\"\\nSelected features: {selected_features}\")\n",
    "\n",
    "    \n",
    "    \n",
    "    # Build Pipeline\n",
    "    pipe = build_pipeline(selected_model, selected_features, param_grid=param_grid, \n",
    "                          vocab=vocab, vocab_usage='tfidf', \n",
    "                          strip_accents=strip_accents, add_countvec=add_countvec)\n",
    "    print(pipe)\n",
    "\n",
    "    \n",
    "    \n",
    "    # Features list\n",
    "    features = []\n",
    "    for item in selected_features.values():\n",
    "        features.extend(item)\n",
    " \n",
    "\n",
    "    # Merge and preprocess train and movies data  \n",
    "    merged = select_features(load_csv(\"train\"), load_csv(\"movies\"), row_thresh_null=None)    # Decide if you want to drop any rows containing lot of nulls\n",
    "    # Impute missing numerical values  \n",
    "    # Simple Imputer for ['audienceScore', 'runtimeMinutes', 'boxOffice'] and 'releaseDate' columns\n",
    "    si = SimpleImputer(strategy='median')\n",
    "    merged[['audienceScore', 'runtimeMinutes', 'boxOffice']] = si.fit_transform(merged[['audienceScore', 'runtimeMinutes', 'boxOffice']])\n",
    "    merged['releaseDate'] = merged[\"releaseDate\"].fillna(merged[\"releaseDate\"].median())    \n",
    "    # Add new columns as needed  \n",
    "    if add_countvec:\n",
    "        merged['reviewText_2'] = merged['reviewText']\n",
    "    if vocab:\n",
    "        merged['reviewText_3'] = merged['reviewText']\n",
    "        \n",
    "    X_train = merged.drop(labels=\"sentiment\", axis=1)\n",
    "    y_train = merged[\"sentiment\"]\n",
    "\n",
    "    X_train = X_train[features]\n",
    "    \n",
    "    \n",
    "    # Check1\n",
    "    print(\"\\nCheck 1 complete.\")\n",
    "    print(f\"Shape of X_train: {X_train.shape}\")\n",
    "    print(f\"Features in X_train: {X_train.columns}\")\n",
    "#     print(X_train.head())\n",
    "    \n",
    "    \n",
    "    # Fit \n",
    "    print(\"\\nTraining started with full pipeline...\")\n",
    "    pipe.fit(X_train, y_train)\n",
    "    \n",
    "    # Check2\n",
    "    print(\"\\nCheck 2 complete.\")\n",
    "    print(\"Details of the best model using full pipeline (GridSearchCV) on X_train: \")\n",
    "    print(f\"Best Params: {pipe.best_params_}\")\n",
    "    print(f\"Best Score: {pipe.best_score_}\")\n",
    "    \n",
    "    print(predict_on_missing_review_data(pipe, features, merged))    # Function defined above\n",
    "    \n",
    "        \n",
    "    # Predict on test.csv file\n",
    "    \n",
    "    # Merge and preprocess test and movies data  \n",
    "    merged_test = select_features(load_csv(\"test\"), load_csv(\"movies\"))\n",
    "    # Transform ['audienceScore', 'runtimeMinutes', 'boxOffice'] columns in merged_test using 'si' fitted on 'merged' df  \n",
    "    merged_test[['audienceScore', 'runtimeMinutes', 'boxOffice']] = si.transform(merged_test[['audienceScore', 'runtimeMinutes', 'boxOffice']])\n",
    "    # Fill 'releaseDate' column in 'merged_test' df with median from the train (merged) df  \n",
    "    merged_test['releaseDate'] = merged_test[\"releaseDate\"].fillna(merged[\"releaseDate\"].median())\n",
    "    # Add new columns as needed \n",
    "    if add_countvec:\n",
    "        merged_test['reviewText_2'] = merged_test['reviewText']\n",
    "    if vocab:\n",
    "        merged_test['reviewText_3'] = merged_test['reviewText']\n",
    "        \n",
    "    X_test = merged_test.copy()\n",
    "\n",
    "    X_test = X_test[features]\n",
    "    \n",
    "    \n",
    "    # Check3\n",
    "    print(\"\\nCheck 3 complete.\")\n",
    "    print(f\"Shape of X_test: {X_test.shape}\")\n",
    "    print(f\"Features in X_test: {X_test.columns}\")\n",
    "#     print(X_test.head())\n",
    "    \n",
    "    y_pred = pipe.predict(X_test)\n",
    "    \n",
    "    # Check4\n",
    "    print(\"\\nCheck 4 complete.\")\n",
    "#     cv_results_df = pd.DataFrame(pipe.cv_results_)\n",
    "    print(\"Details of the best model using full pipeline (GridSearchCV) on X_train: \")\n",
    "    print(f\"Best Estimator: {pipe.best_estimator_}\")\n",
    "    print(f\"Best Params: {pipe.best_params_}\")\n",
    "    print(f\"Best Score: {pipe.best_score_}\")\n",
    "    print(f\"Best Index: {pipe.best_index_}\")\n",
    "    print(f\"Refit Time: {pipe.refit_time_}\")\n",
    "#     print(f\"Shape of CV results dataframe: {cv_results_df.shape}\")\n",
    "    \n",
    "    pred_df = pd.DataFrame(y_pred)\n",
    "    pred_df.columns = [\"sentiment\"]\n",
    "    pred_df.index.name = \"id\"\n",
    "    pred_df.to_csv(\"submission.csv\")\n",
    "    \n",
    "    print(\"\\nSuccessfully created the submission file!!!\")\n",
    "    \n",
    "    return pipe.cv_results_"
   ]
  },
  {
   "cell_type": "code",
   "execution_count": 125,
   "id": "8c46ab89",
   "metadata": {
    "execution": {
     "iopub.execute_input": "2023-08-12T04:17:50.453842Z",
     "iopub.status.busy": "2023-08-12T04:17:50.453448Z",
     "iopub.status.idle": "2023-08-12T04:17:50.461806Z",
     "shell.execute_reply": "2023-08-12T04:17:50.460559Z"
    },
    "papermill": {
     "duration": 0.118232,
     "end_time": "2023-08-12T04:17:50.464659",
     "exception": false,
     "start_time": "2023-08-12T04:17:50.346427",
     "status": "completed"
    },
    "tags": []
   },
   "outputs": [
    {
     "data": {
      "text/plain": [
       "Index(['movieid', 'reviewerName', 'isFrequentReviewer', 'reviewText',\n",
       "       'sentiment', 'title', 'audienceScore', 'rating', 'ratingContents',\n",
       "       'releaseDateTheaters', 'releaseDateStreaming', 'runtimeMinutes',\n",
       "       'genre', 'originalLanguage', 'director', 'boxOffice', 'distributor',\n",
       "       'soundType', 'reviewYN', 'reviewWC', 'genreSorted', 'rcSorted',\n",
       "       'releaseDate', 'releaseYear', 'releaseMonth', 'releaseDiff'],\n",
       "      dtype='object')"
      ]
     },
     "execution_count": 125,
     "metadata": {},
     "output_type": "execute_result"
    }
   ],
   "source": [
    "merged.columns"
   ]
  },
  {
   "cell_type": "code",
   "execution_count": 126,
   "id": "bee7dedc",
   "metadata": {
    "execution": {
     "iopub.execute_input": "2023-08-12T04:17:50.684372Z",
     "iopub.status.busy": "2023-08-12T04:17:50.683863Z",
     "iopub.status.idle": "2023-08-12T04:17:50.696127Z",
     "shell.execute_reply": "2023-08-12T04:17:50.695065Z"
    },
    "papermill": {
     "duration": 0.125369,
     "end_time": "2023-08-12T04:17:50.698757",
     "exception": false,
     "start_time": "2023-08-12T04:17:50.573388",
     "status": "completed"
    },
    "tags": []
   },
   "outputs": [],
   "source": [
    "# Best #2\n",
    "v80_dict = {'cat': ['isFrequentReviewer', 'audScoreBins', 'boxOfficeBins'], \n",
    "                  'txt': ['reviewText', 'reviewerName', 'movieid', 'genre', 'director', \n",
    "                          'ratingContents', 'distributor']}\n",
    "# Best #1\n",
    "v88_dict = {'cat': ['isFrequentReviewer', 'audScoreBins', 'boxOfficeBins'],\n",
    "            'num': ['releaseDiff'],\n",
    "            'txt': ['reviewText', 'reviewerName', 'movieid', 'genre', 'director', \n",
    "                         'ratingContents', 'distributor']}\n",
    "\n",
    "v92_dict = {'cat': ['isFrequentReviewer', 'audScoreBins', 'boxOfficeBins', 'releaseDiffBins'],\n",
    "            'txt': ['reviewText', 'reviewerName', 'title', 'genre', 'director', \n",
    "                         'ratingContents', 'distributor']}\n",
    "\n",
    "# Best univariable datapoints dict\n",
    "best_uni_dict = {'cat': [\"isFrequentReviewer\", \"audScoreBins\"],\n",
    "                 'txt': ['reviewText','movieid', 'director', \"ratingContents\"]}\n",
    "\n",
    "# param_grids for LogisticRegression  \n",
    "\n",
    "# Best #1  \n",
    "# param_grid = {\n",
    "#     'model__C' : [1],\n",
    "#     'model__solver': ['saga'],\n",
    "#     \"model__fit_intercept\" : [True],\n",
    "#     \"model__dual\" : [False]\n",
    "#     }\n",
    "\n",
    "# working\n",
    "param_grid = {\n",
    "    'model__C' : [1],\n",
    "    'model__solver': ['saga'],\n",
    "    \"model__fit_intercept\" : [True],\n",
    "    \"model__dual\" : [False],\n",
    "#     \"model__class_weight\": ['balanced', None]\n",
    "}\n",
    "\n",
    "\n",
    "# param_grids for LinearSVC  \n",
    "\n",
    "# param_grid = {\n",
    "#     'model__C' : [1, 10, 20],\n",
    "#     'model__loss': ['hinge', 'squared_hinge'],\n",
    "#     \"model__fit_intercept\" : [True, False],\n",
    "# #     \"model__dual\" : [True, False] \n",
    "# }\n",
    "\n",
    "svm = LinearSVC(max_iter=10000, random_state=42)    # LinearSVC\n",
    "\n",
    "\n",
    "# Local testing\n",
    "# selected_mov = {'num': ['audienceScore', 'boxOffice', 'releaseDiff'], \n",
    "#                 'txt': ['movieid', 'genre', 'director', \n",
    "#                          'ratingContents', 'distributor']}\n",
    "# results = submit_v4(\n",
    "#             selected_features={'num': ['boxOffice']},\n",
    "#             add_countvec=False,\n",
    "#             vocab=None,\n",
    "#             vocab_usage='tfidf',\n",
    "#             param_grid=param_grid\n",
    "#          )\n",
    "\n",
    "# results = submit_v4(selected_model = DummyClassifier(strategy='constant', constant='NEGATIVE'),\n",
    "#             selected_features={'num': ['boxOffice']},\n",
    "#             add_countvec=False,\n",
    "#             vocab=None,\n",
    "#             vocab_usage='tfidf',\n",
    "#             param_grid={'model__strategy' : ['constant']}\n",
    "#          )\n",
    "\n",
    "# Main submission\n",
    "\n",
    "# results = submit_v4(\n",
    "#     selected_features=v88_dict,\n",
    "#     add_countvec=False,\n",
    "#     vocab=common_1_2_3_grams,\n",
    "#     vocab_usage='tfidf',\n",
    "#     param_grid=param_grid\n",
    "#     )\n",
    "\n",
    "# results"
   ]
  },
  {
   "cell_type": "markdown",
   "id": "8c260fb8",
   "metadata": {
    "papermill": {
     "duration": 0.105973,
     "end_time": "2023-08-12T04:17:50.911358",
     "exception": false,
     "start_time": "2023-08-12T04:17:50.805385",
     "status": "completed"
    },
    "tags": []
   },
   "source": [
    "### ratingContents analysis  "
   ]
  },
  {
   "cell_type": "code",
   "execution_count": 127,
   "id": "03b28d00",
   "metadata": {
    "execution": {
     "iopub.execute_input": "2023-08-12T04:17:51.132398Z",
     "iopub.status.busy": "2023-08-12T04:17:51.131358Z",
     "iopub.status.idle": "2023-08-12T04:17:51.136679Z",
     "shell.execute_reply": "2023-08-12T04:17:51.135370Z"
    },
    "papermill": {
     "duration": 0.118417,
     "end_time": "2023-08-12T04:17:51.139196",
     "exception": false,
     "start_time": "2023-08-12T04:17:51.020779",
     "status": "completed"
    },
    "tags": []
   },
   "outputs": [],
   "source": [
    "# Try string split  \n",
    "# s = \"comedy, animation, adventure, fantasy\"\n",
    "# (\",\").join(sorted(s.split(\", \")))"
   ]
  },
  {
   "cell_type": "code",
   "execution_count": 128,
   "id": "e3a605bd",
   "metadata": {
    "execution": {
     "iopub.execute_input": "2023-08-12T04:17:51.356952Z",
     "iopub.status.busy": "2023-08-12T04:17:51.356127Z",
     "iopub.status.idle": "2023-08-12T04:17:51.360487Z",
     "shell.execute_reply": "2023-08-12T04:17:51.359743Z"
    },
    "papermill": {
     "duration": 0.1149,
     "end_time": "2023-08-12T04:17:51.363198",
     "exception": false,
     "start_time": "2023-08-12T04:17:51.248298",
     "status": "completed"
    },
    "tags": []
   },
   "outputs": [],
   "source": [
    "# ratingContents_analysis = merged[[\"ratingContents\", \"sentiment\"]].copy()\n",
    "# print(ratingContents_analysis.head())\n",
    "# ratingContents_analysis[\"rcSorted\"] = ratingContents_analysis[\"ratingContents\"].apply(lambda x: (\",\").join(sorted(x.strip(\"][\").split(\", \"))))\n",
    "# ratingContents_analysis[\"rcSorted\"] = ratingContents_analysis[\"rcSorted\"].apply(lambda x: re.sub(r\"'\", \"\", x))\n",
    "# ratingContents_analysis[\"rcSorted\"] = ratingContents_analysis[\"rcSorted\"].apply(lambda x: re.sub(r\"[/\\s]\", \"_\", x))\n",
    "# ratingContents_analysis.head(10)"
   ]
  },
  {
   "cell_type": "code",
   "execution_count": 129,
   "id": "011d0ba3",
   "metadata": {
    "execution": {
     "iopub.execute_input": "2023-08-12T04:17:51.581014Z",
     "iopub.status.busy": "2023-08-12T04:17:51.580235Z",
     "iopub.status.idle": "2023-08-12T04:17:51.584355Z",
     "shell.execute_reply": "2023-08-12T04:17:51.583539Z"
    },
    "papermill": {
     "duration": 0.116823,
     "end_time": "2023-08-12T04:17:51.586697",
     "exception": false,
     "start_time": "2023-08-12T04:17:51.469874",
     "status": "completed"
    },
    "tags": []
   },
   "outputs": [],
   "source": [
    "# cvec_rc = CountVectorizer(ngram_range=(1,1))\n",
    "# cvec_rc.fit(ratingContents_analysis['rcSorted'])\n",
    "# # len(cvec_rc.vocabulary_), cvec_rc.vocabulary_"
   ]
  },
  {
   "cell_type": "code",
   "execution_count": 130,
   "id": "ae2c0cd8",
   "metadata": {
    "execution": {
     "iopub.execute_input": "2023-08-12T04:17:51.803726Z",
     "iopub.status.busy": "2023-08-12T04:17:51.803250Z",
     "iopub.status.idle": "2023-08-12T04:17:51.808228Z",
     "shell.execute_reply": "2023-08-12T04:17:51.807013Z"
    },
    "papermill": {
     "duration": 0.117902,
     "end_time": "2023-08-12T04:17:51.810866",
     "exception": false,
     "start_time": "2023-08-12T04:17:51.692964",
     "status": "completed"
    },
    "tags": []
   },
   "outputs": [],
   "source": [
    "# genre_testing = cvec_g.transform(merged[\"genre\"])\n",
    "# print(genre_testing)"
   ]
  },
  {
   "cell_type": "markdown",
   "id": "e3711b49",
   "metadata": {
    "papermill": {
     "duration": 0.109952,
     "end_time": "2023-08-12T04:17:52.029534",
     "exception": false,
     "start_time": "2023-08-12T04:17:51.919582",
     "status": "completed"
    },
    "tags": []
   },
   "source": [
    "## Statistical tests  "
   ]
  },
  {
   "cell_type": "markdown",
   "id": "b946f9ee",
   "metadata": {
    "papermill": {
     "duration": 0.107682,
     "end_time": "2023-08-12T04:17:52.243560",
     "exception": false,
     "start_time": "2023-08-12T04:17:52.135878",
     "status": "completed"
    },
    "tags": []
   },
   "source": [
    "[Go to genre](#genre_analysis)"
   ]
  },
  {
   "cell_type": "code",
   "execution_count": 131,
   "id": "68bd230a",
   "metadata": {
    "execution": {
     "iopub.execute_input": "2023-08-12T04:17:52.458834Z",
     "iopub.status.busy": "2023-08-12T04:17:52.457798Z",
     "iopub.status.idle": "2023-08-12T04:17:52.462400Z",
     "shell.execute_reply": "2023-08-12T04:17:52.461556Z"
    },
    "papermill": {
     "duration": 0.115409,
     "end_time": "2023-08-12T04:17:52.464686",
     "exception": false,
     "start_time": "2023-08-12T04:17:52.349277",
     "status": "completed"
    },
    "tags": []
   },
   "outputs": [],
   "source": [
    "# print(merged['boxOffice'].head())\n",
    "# merged[\"boxOffice\"].describe()"
   ]
  },
  {
   "cell_type": "code",
   "execution_count": 132,
   "id": "f4a7ba8a",
   "metadata": {
    "execution": {
     "iopub.execute_input": "2023-08-12T04:17:52.683145Z",
     "iopub.status.busy": "2023-08-12T04:17:52.681844Z",
     "iopub.status.idle": "2023-08-12T04:17:52.687525Z",
     "shell.execute_reply": "2023-08-12T04:17:52.686311Z"
    },
    "papermill": {
     "duration": 0.115939,
     "end_time": "2023-08-12T04:17:52.690695",
     "exception": false,
     "start_time": "2023-08-12T04:17:52.574756",
     "status": "completed"
    },
    "tags": []
   },
   "outputs": [],
   "source": [
    "# Function for independent samples t-test on numerical columns  \n",
    "# def ttest_ind(feature):\n",
    "#     pos_grp = merged[feature].loc[merged['sentiment'] == \"POSITIVE\"]\n",
    "#     neg_grp = merged[feature].loc[merged['sentiment'] == \"NEGATIVE\"]\n",
    "\n",
    "#     print(pos_grp.shape, neg_grp.shape)\n",
    "#     print(pos_grp.describe(), neg_grp.describe())\n",
    "\n",
    "#     return stats.ttest_ind(pos_grp, neg_grp)"
   ]
  },
  {
   "cell_type": "code",
   "execution_count": 133,
   "id": "50c9a3ce",
   "metadata": {
    "execution": {
     "iopub.execute_input": "2023-08-12T04:17:52.904000Z",
     "iopub.status.busy": "2023-08-12T04:17:52.903477Z",
     "iopub.status.idle": "2023-08-12T04:17:52.908169Z",
     "shell.execute_reply": "2023-08-12T04:17:52.907020Z"
    },
    "papermill": {
     "duration": 0.114836,
     "end_time": "2023-08-12T04:17:52.910765",
     "exception": false,
     "start_time": "2023-08-12T04:17:52.795929",
     "status": "completed"
    },
    "tags": []
   },
   "outputs": [],
   "source": [
    "# ttest_ind('boxOffice')"
   ]
  },
  {
   "cell_type": "code",
   "execution_count": 134,
   "id": "661271a2",
   "metadata": {
    "execution": {
     "iopub.execute_input": "2023-08-12T04:17:53.129319Z",
     "iopub.status.busy": "2023-08-12T04:17:53.128859Z",
     "iopub.status.idle": "2023-08-12T04:17:53.133858Z",
     "shell.execute_reply": "2023-08-12T04:17:53.132662Z"
    },
    "papermill": {
     "duration": 0.115123,
     "end_time": "2023-08-12T04:17:53.136343",
     "exception": false,
     "start_time": "2023-08-12T04:17:53.021220",
     "status": "completed"
    },
    "tags": []
   },
   "outputs": [],
   "source": [
    "# ttest_ind('runtimeMinutes')"
   ]
  },
  {
   "cell_type": "code",
   "execution_count": 135,
   "id": "a5127236",
   "metadata": {
    "execution": {
     "iopub.execute_input": "2023-08-12T04:17:53.351393Z",
     "iopub.status.busy": "2023-08-12T04:17:53.350933Z",
     "iopub.status.idle": "2023-08-12T04:17:53.355649Z",
     "shell.execute_reply": "2023-08-12T04:17:53.354401Z"
    },
    "papermill": {
     "duration": 0.11487,
     "end_time": "2023-08-12T04:17:53.358292",
     "exception": false,
     "start_time": "2023-08-12T04:17:53.243422",
     "status": "completed"
    },
    "tags": []
   },
   "outputs": [],
   "source": [
    "# ttest_ind('audienceScore')"
   ]
  },
  {
   "cell_type": "code",
   "execution_count": 136,
   "id": "4f3f6a6e",
   "metadata": {
    "execution": {
     "iopub.execute_input": "2023-08-12T04:17:53.574448Z",
     "iopub.status.busy": "2023-08-12T04:17:53.574029Z",
     "iopub.status.idle": "2023-08-12T04:17:53.578810Z",
     "shell.execute_reply": "2023-08-12T04:17:53.577643Z"
    },
    "papermill": {
     "duration": 0.116733,
     "end_time": "2023-08-12T04:17:53.581177",
     "exception": false,
     "start_time": "2023-08-12T04:17:53.464444",
     "status": "completed"
    },
    "tags": []
   },
   "outputs": [],
   "source": [
    "# sns.boxplot(x=merged['sentiment'], y=merged['boxOffice'])"
   ]
  },
  {
   "cell_type": "markdown",
   "id": "9dcd0316",
   "metadata": {
    "papermill": {
     "duration": 0.106865,
     "end_time": "2023-08-12T04:17:53.795330",
     "exception": false,
     "start_time": "2023-08-12T04:17:53.688465",
     "status": "completed"
    },
    "tags": []
   },
   "source": [
    "## <div id='genre_analysis'>Genre analysis</div>"
   ]
  },
  {
   "cell_type": "code",
   "execution_count": 137,
   "id": "d2a47de1",
   "metadata": {
    "execution": {
     "iopub.execute_input": "2023-08-12T04:17:54.016679Z",
     "iopub.status.busy": "2023-08-12T04:17:54.015567Z",
     "iopub.status.idle": "2023-08-12T04:17:54.022034Z",
     "shell.execute_reply": "2023-08-12T04:17:54.020975Z"
    },
    "papermill": {
     "duration": 0.122651,
     "end_time": "2023-08-12T04:17:54.024379",
     "exception": false,
     "start_time": "2023-08-12T04:17:53.901728",
     "status": "completed"
    },
    "tags": []
   },
   "outputs": [],
   "source": [
    "# genre_analysis = merged[[\"genre\", \"genreSorted\", \"sentiment\"]].copy()\n",
    "# # print(genre_analysis.head())\n",
    "# # genre_analysis[\"genre\"] = genre_analysis[\"genre\"].apply(lambda x: (\",\").join(sorted(x.split(\", \"))))\n",
    "# genre_analysis.head()"
   ]
  },
  {
   "cell_type": "code",
   "execution_count": 138,
   "id": "eb1c68fa",
   "metadata": {
    "execution": {
     "iopub.execute_input": "2023-08-12T04:17:54.241172Z",
     "iopub.status.busy": "2023-08-12T04:17:54.240719Z",
     "iopub.status.idle": "2023-08-12T04:17:54.245250Z",
     "shell.execute_reply": "2023-08-12T04:17:54.244305Z"
    },
    "papermill": {
     "duration": 0.115608,
     "end_time": "2023-08-12T04:17:54.247270",
     "exception": false,
     "start_time": "2023-08-12T04:17:54.131662",
     "status": "completed"
    },
    "tags": []
   },
   "outputs": [],
   "source": [
    "# cvec_g = CountVectorizer(ngram_range=(1,3))\n",
    "# cvec_g.fit(genre_analysis['genre'])\n",
    "# # len(cvec_g.vocabulary_), cvec_g.vocabulary_"
   ]
  },
  {
   "cell_type": "code",
   "execution_count": 139,
   "id": "a9078504",
   "metadata": {
    "execution": {
     "iopub.execute_input": "2023-08-12T04:17:54.461098Z",
     "iopub.status.busy": "2023-08-12T04:17:54.460231Z",
     "iopub.status.idle": "2023-08-12T04:17:54.464752Z",
     "shell.execute_reply": "2023-08-12T04:17:54.463602Z"
    },
    "papermill": {
     "duration": 0.114055,
     "end_time": "2023-08-12T04:17:54.467065",
     "exception": false,
     "start_time": "2023-08-12T04:17:54.353010",
     "status": "completed"
    },
    "tags": []
   },
   "outputs": [],
   "source": [
    "# cvec_gSorted = CountVectorizer(ngram_range=(1,3))\n",
    "# cvec_gSorted.fit(genre_analysis['genreSorted'])\n",
    "# len(cvec_gSorted.vocabulary_), cvec_gSorted.vocabulary_"
   ]
  },
  {
   "cell_type": "code",
   "execution_count": 140,
   "id": "0f344c68",
   "metadata": {
    "execution": {
     "iopub.execute_input": "2023-08-12T04:17:54.683085Z",
     "iopub.status.busy": "2023-08-12T04:17:54.682368Z",
     "iopub.status.idle": "2023-08-12T04:17:54.687018Z",
     "shell.execute_reply": "2023-08-12T04:17:54.686209Z"
    },
    "papermill": {
     "duration": 0.114901,
     "end_time": "2023-08-12T04:17:54.689275",
     "exception": false,
     "start_time": "2023-08-12T04:17:54.574374",
     "status": "completed"
    },
    "tags": []
   },
   "outputs": [],
   "source": [
    "# genre_testing = cvec_g.transform(merged[\"genre\"])\n",
    "# # print(genre_testing)"
   ]
  },
  {
   "cell_type": "code",
   "execution_count": 141,
   "id": "22adff70",
   "metadata": {
    "execution": {
     "iopub.execute_input": "2023-08-12T04:17:54.902721Z",
     "iopub.status.busy": "2023-08-12T04:17:54.902018Z",
     "iopub.status.idle": "2023-08-12T04:17:54.906935Z",
     "shell.execute_reply": "2023-08-12T04:17:54.906042Z"
    },
    "papermill": {
     "duration": 0.114892,
     "end_time": "2023-08-12T04:17:54.909396",
     "exception": false,
     "start_time": "2023-08-12T04:17:54.794504",
     "status": "completed"
    },
    "tags": []
   },
   "outputs": [],
   "source": [
    "# genre_counts_testing = merged[[\"genre\", \"sentiment\"]].copy()\n",
    "# genre_counts_testing[\"gCount\"] = genre_counts_testing.apply(lambda x: len(str(x[\"genre\"]).split()), axis=1)\n",
    "# genre_counts_testing"
   ]
  },
  {
   "cell_type": "code",
   "execution_count": 142,
   "id": "692368c1",
   "metadata": {
    "execution": {
     "iopub.execute_input": "2023-08-12T04:17:55.130726Z",
     "iopub.status.busy": "2023-08-12T04:17:55.129793Z",
     "iopub.status.idle": "2023-08-12T04:17:55.135852Z",
     "shell.execute_reply": "2023-08-12T04:17:55.134683Z"
    },
    "papermill": {
     "duration": 0.118594,
     "end_time": "2023-08-12T04:17:55.138267",
     "exception": false,
     "start_time": "2023-08-12T04:17:55.019673",
     "status": "completed"
    },
    "tags": []
   },
   "outputs": [],
   "source": [
    "# sns.boxplot(y=genre_counts_testing[\"gCount\"], x=genre_counts_testing[\"sentiment\"])"
   ]
  },
  {
   "cell_type": "code",
   "execution_count": 143,
   "id": "60b2913b",
   "metadata": {
    "execution": {
     "iopub.execute_input": "2023-08-12T04:17:55.354410Z",
     "iopub.status.busy": "2023-08-12T04:17:55.353961Z",
     "iopub.status.idle": "2023-08-12T04:17:55.359487Z",
     "shell.execute_reply": "2023-08-12T04:17:55.358147Z"
    },
    "papermill": {
     "duration": 0.116101,
     "end_time": "2023-08-12T04:17:55.361968",
     "exception": false,
     "start_time": "2023-08-12T04:17:55.245867",
     "status": "completed"
    },
    "tags": []
   },
   "outputs": [],
   "source": [
    "# sns.boxplot(y=merged[\"reviewWC\"], x=merged[\"sentiment\"])"
   ]
  },
  {
   "cell_type": "code",
   "execution_count": 144,
   "id": "d45f579d",
   "metadata": {
    "execution": {
     "iopub.execute_input": "2023-08-12T04:17:55.579084Z",
     "iopub.status.busy": "2023-08-12T04:17:55.577859Z",
     "iopub.status.idle": "2023-08-12T04:17:55.582809Z",
     "shell.execute_reply": "2023-08-12T04:17:55.581879Z"
    },
    "papermill": {
     "duration": 0.11685,
     "end_time": "2023-08-12T04:17:55.585637",
     "exception": false,
     "start_time": "2023-08-12T04:17:55.468787",
     "status": "completed"
    },
    "tags": []
   },
   "outputs": [],
   "source": [
    "# audienceScore bins\n",
    "# asc = merged[['audienceScore', 'sentiment']].copy()\n",
    "# asc.head()"
   ]
  },
  {
   "cell_type": "code",
   "execution_count": 145,
   "id": "f2dfc04e",
   "metadata": {
    "execution": {
     "iopub.execute_input": "2023-08-12T04:17:55.802294Z",
     "iopub.status.busy": "2023-08-12T04:17:55.801568Z",
     "iopub.status.idle": "2023-08-12T04:17:55.805610Z",
     "shell.execute_reply": "2023-08-12T04:17:55.804801Z"
    },
    "papermill": {
     "duration": 0.113795,
     "end_time": "2023-08-12T04:17:55.807890",
     "exception": false,
     "start_time": "2023-08-12T04:17:55.694095",
     "status": "completed"
    },
    "tags": []
   },
   "outputs": [],
   "source": [
    "# Binning numerical features  \n",
    "\n",
    "# print(merged[\"runtimeBins\"].value_counts())\n",
    "# sns.displot(merged[\"runtimeBins\"])"
   ]
  },
  {
   "cell_type": "code",
   "execution_count": 146,
   "id": "0b5d4ea4",
   "metadata": {
    "execution": {
     "iopub.execute_input": "2023-08-12T04:17:56.052018Z",
     "iopub.status.busy": "2023-08-12T04:17:56.051293Z",
     "iopub.status.idle": "2023-08-12T04:17:56.055455Z",
     "shell.execute_reply": "2023-08-12T04:17:56.054609Z"
    },
    "papermill": {
     "duration": 0.126423,
     "end_time": "2023-08-12T04:17:56.057861",
     "exception": false,
     "start_time": "2023-08-12T04:17:55.931438",
     "status": "completed"
    },
    "tags": []
   },
   "outputs": [],
   "source": [
    "# Chi-square test for isFrequentReviewer column and sentiment column   \n",
    "\n",
    "# contingency_table = pd.crosstab(traindf['isFrequentReviewer'], traindf['sentiment'])\n",
    "# print(contingency_table)\n",
    "# stats.chi2_contingency(contingency_table)"
   ]
  },
  {
   "cell_type": "markdown",
   "id": "1ecaab01",
   "metadata": {
    "papermill": {
     "duration": 0.108884,
     "end_time": "2023-08-12T04:17:56.277659",
     "exception": false,
     "start_time": "2023-08-12T04:17:56.168775",
     "status": "completed"
    },
    "tags": []
   },
   "source": [
    "## Baseline performance of 'reviewText' column  "
   ]
  },
  {
   "cell_type": "code",
   "execution_count": 147,
   "id": "0df149bf",
   "metadata": {
    "execution": {
     "iopub.execute_input": "2023-08-12T04:17:56.498034Z",
     "iopub.status.busy": "2023-08-12T04:17:56.497158Z",
     "iopub.status.idle": "2023-08-12T04:17:56.501465Z",
     "shell.execute_reply": "2023-08-12T04:17:56.500573Z"
    },
    "papermill": {
     "duration": 0.119468,
     "end_time": "2023-08-12T04:17:56.503840",
     "exception": false,
     "start_time": "2023-08-12T04:17:56.384372",
     "status": "completed"
    },
    "tags": []
   },
   "outputs": [],
   "source": [
    "# rt_dict = {'txt': ['reviewText']}\n",
    "# rt_dict"
   ]
  },
  {
   "cell_type": "code",
   "execution_count": 148,
   "id": "d7e49227",
   "metadata": {
    "execution": {
     "iopub.execute_input": "2023-08-12T04:17:56.727784Z",
     "iopub.status.busy": "2023-08-12T04:17:56.727067Z",
     "iopub.status.idle": "2023-08-12T04:17:56.731239Z",
     "shell.execute_reply": "2023-08-12T04:17:56.730385Z"
    },
    "papermill": {
     "duration": 0.11658,
     "end_time": "2023-08-12T04:17:56.733861",
     "exception": false,
     "start_time": "2023-08-12T04:17:56.617281",
     "status": "completed"
    },
    "tags": []
   },
   "outputs": [],
   "source": [
    "# submit_v4(selected_model=LogisticRegression(C=5, solver=\"saga\", max_iter=100000),\n",
    "#           selected_features=rt_dict,\n",
    "#           param_grid=None,\n",
    "#           vocab=None)"
   ]
  },
  {
   "cell_type": "markdown",
   "id": "8a0267a3",
   "metadata": {
    "papermill": {
     "duration": 0.11036,
     "end_time": "2023-08-12T04:17:57.048908",
     "exception": false,
     "start_time": "2023-08-12T04:17:56.938548",
     "status": "completed"
    },
    "tags": []
   },
   "source": [
    "## RFE  "
   ]
  },
  {
   "cell_type": "code",
   "execution_count": 149,
   "id": "5c3793f8",
   "metadata": {
    "execution": {
     "iopub.execute_input": "2023-08-12T04:17:57.265698Z",
     "iopub.status.busy": "2023-08-12T04:17:57.264824Z",
     "iopub.status.idle": "2023-08-12T04:17:57.270855Z",
     "shell.execute_reply": "2023-08-12T04:17:57.269453Z"
    },
    "papermill": {
     "duration": 0.117917,
     "end_time": "2023-08-12T04:17:57.274094",
     "exception": false,
     "start_time": "2023-08-12T04:17:57.156177",
     "status": "completed"
    },
    "tags": []
   },
   "outputs": [],
   "source": [
    "# def fs_rfe(selector, text_df, labels, ngram_range=(1,1)):\n",
    "#     text_df_ngram = TfidfVectorizer(ngram_range=ngram_range, stop_words='english').fit_transform(text_df)\n",
    "#     print(\"text_df was vectorized using TF-IDF vectorizer with ngram_range: \", ngram_range)\n",
    "#     print(\"text_df.shape: \", text_df.shape)\n",
    "#     print(\"labels.shape: \", labels.shape)\n",
    "#     print(\"text_df_ngram.shape: \", text_df_ngram.shape)\n",
    "#     print()\n",
    "\n",
    "#     print(\"Starting RFE fit...\")\n",
    "#     selector.fit(text_df_ngram, labels)\n",
    "#     print(\"RFE fit complete.\\n\")\n",
    "    \n",
    "#     print(\"selector.n_features_: \", selector.n_features_)   \n",
    "#     print(\"selector.n_features_in_: \", selector.n_features_in_)\n",
    "#     print(\"selector.support_.shape: \", selector.support_.shape)\n",
    "\n",
    "#     return selector.support_"
   ]
  },
  {
   "cell_type": "markdown",
   "id": "98eca1a6",
   "metadata": {
    "papermill": {
     "duration": 0.112505,
     "end_time": "2023-08-12T04:17:57.495162",
     "exception": false,
     "start_time": "2023-08-12T04:17:57.382657",
     "status": "completed"
    },
    "tags": []
   },
   "source": [
    "`RFE for unigrams`  "
   ]
  },
  {
   "cell_type": "code",
   "execution_count": 150,
   "id": "ef0f19a9",
   "metadata": {
    "execution": {
     "iopub.execute_input": "2023-08-12T04:17:57.719569Z",
     "iopub.status.busy": "2023-08-12T04:17:57.718699Z",
     "iopub.status.idle": "2023-08-12T04:17:57.723770Z",
     "shell.execute_reply": "2023-08-12T04:17:57.722866Z"
    },
    "papermill": {
     "duration": 0.119242,
     "end_time": "2023-08-12T04:17:57.726444",
     "exception": false,
     "start_time": "2023-08-12T04:17:57.607202",
     "status": "completed"
    },
    "tags": []
   },
   "outputs": [],
   "source": [
    "# estimator_rfe_1 = LogisticRegression(solver='saga', max_iter=100000)\n",
    "# selector_rfe_1 = RFE(estimator_rfe_1, step=0.1, n_features_to_select=30000)"
   ]
  },
  {
   "cell_type": "code",
   "execution_count": 151,
   "id": "ec44d47c",
   "metadata": {
    "execution": {
     "iopub.execute_input": "2023-08-12T04:17:57.945462Z",
     "iopub.status.busy": "2023-08-12T04:17:57.944572Z",
     "iopub.status.idle": "2023-08-12T04:17:57.949557Z",
     "shell.execute_reply": "2023-08-12T04:17:57.948701Z"
    },
    "papermill": {
     "duration": 0.117529,
     "end_time": "2023-08-12T04:17:57.952001",
     "exception": false,
     "start_time": "2023-08-12T04:17:57.834472",
     "status": "completed"
    },
    "tags": []
   },
   "outputs": [],
   "source": [
    "# rfe_1_feat_mask = fs_rfe(selector_rfe_1, rt_senti[\"reviewText\"], rt_senti[\"sentiment\"], ngram_range=(1,1))\n",
    "# rfe_1_feat_mask"
   ]
  },
  {
   "cell_type": "code",
   "execution_count": 152,
   "id": "9d02c77f",
   "metadata": {
    "execution": {
     "iopub.execute_input": "2023-08-12T04:17:58.174043Z",
     "iopub.status.busy": "2023-08-12T04:17:58.173535Z",
     "iopub.status.idle": "2023-08-12T04:17:58.178644Z",
     "shell.execute_reply": "2023-08-12T04:17:58.177404Z"
    },
    "papermill": {
     "duration": 0.116447,
     "end_time": "2023-08-12T04:17:58.180972",
     "exception": false,
     "start_time": "2023-08-12T04:17:58.064525",
     "status": "completed"
    },
    "tags": []
   },
   "outputs": [],
   "source": [
    "# voc_1gram_rfe = list(compress(voc_1gram, rfe_1_feat_mask))\n",
    "# len(voc_1gram_rfe), voc_1gram_rfe[:10]"
   ]
  },
  {
   "cell_type": "markdown",
   "id": "fa770cc4",
   "metadata": {
    "papermill": {
     "duration": 0.106491,
     "end_time": "2023-08-12T04:17:58.392904",
     "exception": false,
     "start_time": "2023-08-12T04:17:58.286413",
     "status": "completed"
    },
    "tags": []
   },
   "source": [
    "`RFE for bigrams`  "
   ]
  },
  {
   "cell_type": "code",
   "execution_count": 153,
   "id": "a6fda78e",
   "metadata": {
    "execution": {
     "iopub.execute_input": "2023-08-12T04:17:58.605694Z",
     "iopub.status.busy": "2023-08-12T04:17:58.605259Z",
     "iopub.status.idle": "2023-08-12T04:17:58.609852Z",
     "shell.execute_reply": "2023-08-12T04:17:58.608845Z"
    },
    "papermill": {
     "duration": 0.113826,
     "end_time": "2023-08-12T04:17:58.612289",
     "exception": false,
     "start_time": "2023-08-12T04:17:58.498463",
     "status": "completed"
    },
    "tags": []
   },
   "outputs": [],
   "source": [
    "# estimator_rfe_2 = LogisticRegression(solver='saga', max_iter=100000)\n",
    "# selector_rfe_2 = RFE(estimator_rfe_2, step=0.1, n_features_to_select=50000)"
   ]
  },
  {
   "cell_type": "code",
   "execution_count": 154,
   "id": "d36e8d7e",
   "metadata": {
    "execution": {
     "iopub.execute_input": "2023-08-12T04:17:58.830244Z",
     "iopub.status.busy": "2023-08-12T04:17:58.829787Z",
     "iopub.status.idle": "2023-08-12T04:17:58.834386Z",
     "shell.execute_reply": "2023-08-12T04:17:58.833274Z"
    },
    "papermill": {
     "duration": 0.116245,
     "end_time": "2023-08-12T04:17:58.836769",
     "exception": false,
     "start_time": "2023-08-12T04:17:58.720524",
     "status": "completed"
    },
    "tags": []
   },
   "outputs": [],
   "source": [
    "# rfe_2_feat_mask = fs_rfe(selector_rfe_2, rt_senti[\"reviewText\"], rt_senti[\"sentiment\"], ngram_range=(2,2))\n",
    "# rfe_2_feat_mask"
   ]
  },
  {
   "cell_type": "code",
   "execution_count": 155,
   "id": "ea6312b2",
   "metadata": {
    "execution": {
     "iopub.execute_input": "2023-08-12T04:17:59.062061Z",
     "iopub.status.busy": "2023-08-12T04:17:59.061617Z",
     "iopub.status.idle": "2023-08-12T04:17:59.066737Z",
     "shell.execute_reply": "2023-08-12T04:17:59.065611Z"
    },
    "papermill": {
     "duration": 0.123351,
     "end_time": "2023-08-12T04:17:59.069189",
     "exception": false,
     "start_time": "2023-08-12T04:17:58.945838",
     "status": "completed"
    },
    "tags": []
   },
   "outputs": [],
   "source": [
    "# voc_2gram_rfe = list(compress(voc_2gram, rfe_2_feat_mask))\n",
    "# len(voc_2gram_rfe), voc_2gram_rfe[:10]"
   ]
  },
  {
   "cell_type": "markdown",
   "id": "5bd717f4",
   "metadata": {
    "papermill": {
     "duration": 0.106291,
     "end_time": "2023-08-12T04:17:59.282998",
     "exception": false,
     "start_time": "2023-08-12T04:17:59.176707",
     "status": "completed"
    },
    "tags": []
   },
   "source": [
    "## Final RFE-derived vocabulary  "
   ]
  },
  {
   "cell_type": "code",
   "execution_count": 156,
   "id": "d8917c6e",
   "metadata": {
    "execution": {
     "iopub.execute_input": "2023-08-12T04:17:59.502445Z",
     "iopub.status.busy": "2023-08-12T04:17:59.501538Z",
     "iopub.status.idle": "2023-08-12T04:17:59.506558Z",
     "shell.execute_reply": "2023-08-12T04:17:59.505724Z"
    },
    "papermill": {
     "duration": 0.117852,
     "end_time": "2023-08-12T04:17:59.508844",
     "exception": false,
     "start_time": "2023-08-12T04:17:59.390992",
     "status": "completed"
    },
    "tags": []
   },
   "outputs": [],
   "source": [
    "# rfe_vocab = voc_1gram_rfe + voc_2gram_rfe\n",
    "# len(rfe_vocab), rfe_vocab[:10], rfe_vocab[-10:]"
   ]
  },
  {
   "cell_type": "code",
   "execution_count": 157,
   "id": "ca9b77a0",
   "metadata": {
    "execution": {
     "iopub.execute_input": "2023-08-12T04:17:59.730008Z",
     "iopub.status.busy": "2023-08-12T04:17:59.729119Z",
     "iopub.status.idle": "2023-08-12T04:17:59.734079Z",
     "shell.execute_reply": "2023-08-12T04:17:59.733292Z"
    },
    "papermill": {
     "duration": 0.115297,
     "end_time": "2023-08-12T04:17:59.736401",
     "exception": false,
     "start_time": "2023-08-12T04:17:59.621104",
     "status": "completed"
    },
    "tags": []
   },
   "outputs": [],
   "source": [
    "## Test RFE obtained vocabulary in final pipeline (only with reviewText)  \n",
    "# submit_v4(selected_model=LogisticRegression(C=5, solver=\"saga\", max_iter=100000),\n",
    "#           selected_features=rt_dict,\n",
    "#           param_grid=None,\n",
    "#           vocab=rfe_vocab)"
   ]
  },
  {
   "cell_type": "markdown",
   "id": "5958f4aa",
   "metadata": {
    "papermill": {
     "duration": 0.1065,
     "end_time": "2023-08-12T04:17:59.948196",
     "exception": false,
     "start_time": "2023-08-12T04:17:59.841696",
     "status": "completed"
    },
    "tags": []
   },
   "source": [
    "## Use rfe_vocab in final pipeline with all params  "
   ]
  },
  {
   "cell_type": "code",
   "execution_count": 158,
   "id": "768a434c",
   "metadata": {
    "execution": {
     "iopub.execute_input": "2023-08-12T04:18:00.168011Z",
     "iopub.status.busy": "2023-08-12T04:18:00.167077Z",
     "iopub.status.idle": "2023-08-12T04:18:00.172382Z",
     "shell.execute_reply": "2023-08-12T04:18:00.171417Z"
    },
    "papermill": {
     "duration": 0.116484,
     "end_time": "2023-08-12T04:18:00.175094",
     "exception": false,
     "start_time": "2023-08-12T04:18:00.058610",
     "status": "completed"
    },
    "tags": []
   },
   "outputs": [],
   "source": [
    "# submit_v4(selected_model=LogisticRegression(max_iter=100000),\n",
    "#           selected_features=all_dict,\n",
    "#           param_grid=param_grid,\n",
    "#           vocab=rfe_vocab)"
   ]
  },
  {
   "cell_type": "code",
   "execution_count": 159,
   "id": "6d57b84e",
   "metadata": {
    "execution": {
     "iopub.execute_input": "2023-08-12T04:18:00.392394Z",
     "iopub.status.busy": "2023-08-12T04:18:00.391559Z",
     "iopub.status.idle": "2023-08-12T04:18:00.404550Z",
     "shell.execute_reply": "2023-08-12T04:18:00.403365Z"
    },
    "papermill": {
     "duration": 0.124371,
     "end_time": "2023-08-12T04:18:00.407305",
     "exception": false,
     "start_time": "2023-08-12T04:18:00.282934",
     "status": "completed"
    },
    "tags": []
   },
   "outputs": [
    {
     "data": {
      "text/html": [
       "<style>#sk-container-id-1 {color: black;background-color: white;}#sk-container-id-1 pre{padding: 0;}#sk-container-id-1 div.sk-toggleable {background-color: white;}#sk-container-id-1 label.sk-toggleable__label {cursor: pointer;display: block;width: 100%;margin-bottom: 0;padding: 0.3em;box-sizing: border-box;text-align: center;}#sk-container-id-1 label.sk-toggleable__label-arrow:before {content: \"▸\";float: left;margin-right: 0.25em;color: #696969;}#sk-container-id-1 label.sk-toggleable__label-arrow:hover:before {color: black;}#sk-container-id-1 div.sk-estimator:hover label.sk-toggleable__label-arrow:before {color: black;}#sk-container-id-1 div.sk-toggleable__content {max-height: 0;max-width: 0;overflow: hidden;text-align: left;background-color: #f0f8ff;}#sk-container-id-1 div.sk-toggleable__content pre {margin: 0.2em;color: black;border-radius: 0.25em;background-color: #f0f8ff;}#sk-container-id-1 input.sk-toggleable__control:checked~div.sk-toggleable__content {max-height: 200px;max-width: 100%;overflow: auto;}#sk-container-id-1 input.sk-toggleable__control:checked~label.sk-toggleable__label-arrow:before {content: \"▾\";}#sk-container-id-1 div.sk-estimator input.sk-toggleable__control:checked~label.sk-toggleable__label {background-color: #d4ebff;}#sk-container-id-1 div.sk-label input.sk-toggleable__control:checked~label.sk-toggleable__label {background-color: #d4ebff;}#sk-container-id-1 input.sk-hidden--visually {border: 0;clip: rect(1px 1px 1px 1px);clip: rect(1px, 1px, 1px, 1px);height: 1px;margin: -1px;overflow: hidden;padding: 0;position: absolute;width: 1px;}#sk-container-id-1 div.sk-estimator {font-family: monospace;background-color: #f0f8ff;border: 1px dotted black;border-radius: 0.25em;box-sizing: border-box;margin-bottom: 0.5em;}#sk-container-id-1 div.sk-estimator:hover {background-color: #d4ebff;}#sk-container-id-1 div.sk-parallel-item::after {content: \"\";width: 100%;border-bottom: 1px solid gray;flex-grow: 1;}#sk-container-id-1 div.sk-label:hover label.sk-toggleable__label {background-color: #d4ebff;}#sk-container-id-1 div.sk-serial::before {content: \"\";position: absolute;border-left: 1px solid gray;box-sizing: border-box;top: 0;bottom: 0;left: 50%;z-index: 0;}#sk-container-id-1 div.sk-serial {display: flex;flex-direction: column;align-items: center;background-color: white;padding-right: 0.2em;padding-left: 0.2em;position: relative;}#sk-container-id-1 div.sk-item {position: relative;z-index: 1;}#sk-container-id-1 div.sk-parallel {display: flex;align-items: stretch;justify-content: center;background-color: white;position: relative;}#sk-container-id-1 div.sk-item::before, #sk-container-id-1 div.sk-parallel-item::before {content: \"\";position: absolute;border-left: 1px solid gray;box-sizing: border-box;top: 0;bottom: 0;left: 50%;z-index: -1;}#sk-container-id-1 div.sk-parallel-item {display: flex;flex-direction: column;z-index: 1;position: relative;background-color: white;}#sk-container-id-1 div.sk-parallel-item:first-child::after {align-self: flex-end;width: 50%;}#sk-container-id-1 div.sk-parallel-item:last-child::after {align-self: flex-start;width: 50%;}#sk-container-id-1 div.sk-parallel-item:only-child::after {width: 0;}#sk-container-id-1 div.sk-dashed-wrapped {border: 1px dashed gray;margin: 0 0.4em 0.5em 0.4em;box-sizing: border-box;padding-bottom: 0.4em;background-color: white;}#sk-container-id-1 div.sk-label label {font-family: monospace;font-weight: bold;display: inline-block;line-height: 1.2em;}#sk-container-id-1 div.sk-label-container {text-align: center;}#sk-container-id-1 div.sk-container {/* jupyter's `normalize.less` sets `[hidden] { display: none; }` but bootstrap.min.css set `[hidden] { display: none !important; }` so we also need the `!important` here to be able to override the default hidden behavior on the sphinx rendered scikit-learn.org. See: https://github.com/scikit-learn/scikit-learn/issues/21755 */display: inline-block !important;position: relative;}#sk-container-id-1 div.sk-text-repr-fallback {display: none;}</style><div id=\"sk-container-id-1\" class=\"sk-top-container\"><div class=\"sk-text-repr-fallback\"><pre>AdaBoostClassifier(estimator=LogisticRegression(C=5, max_iter=100000,\n",
       "                                                solver=&#x27;saga&#x27;))</pre><b>In a Jupyter environment, please rerun this cell to show the HTML representation or trust the notebook. <br />On GitHub, the HTML representation is unable to render, please try loading this page with nbviewer.org.</b></div><div class=\"sk-container\" hidden><div class=\"sk-item sk-dashed-wrapped\"><div class=\"sk-label-container\"><div class=\"sk-label sk-toggleable\"><input class=\"sk-toggleable__control sk-hidden--visually\" id=\"sk-estimator-id-1\" type=\"checkbox\" ><label for=\"sk-estimator-id-1\" class=\"sk-toggleable__label sk-toggleable__label-arrow\">AdaBoostClassifier</label><div class=\"sk-toggleable__content\"><pre>AdaBoostClassifier(estimator=LogisticRegression(C=5, max_iter=100000,\n",
       "                                                solver=&#x27;saga&#x27;))</pre></div></div></div><div class=\"sk-parallel\"><div class=\"sk-parallel-item\"><div class=\"sk-item\"><div class=\"sk-label-container\"><div class=\"sk-label sk-toggleable\"><input class=\"sk-toggleable__control sk-hidden--visually\" id=\"sk-estimator-id-2\" type=\"checkbox\" ><label for=\"sk-estimator-id-2\" class=\"sk-toggleable__label sk-toggleable__label-arrow\">estimator: LogisticRegression</label><div class=\"sk-toggleable__content\"><pre>LogisticRegression(C=5, max_iter=100000, solver=&#x27;saga&#x27;)</pre></div></div></div><div class=\"sk-serial\"><div class=\"sk-item\"><div class=\"sk-estimator sk-toggleable\"><input class=\"sk-toggleable__control sk-hidden--visually\" id=\"sk-estimator-id-3\" type=\"checkbox\" ><label for=\"sk-estimator-id-3\" class=\"sk-toggleable__label sk-toggleable__label-arrow\">LogisticRegression</label><div class=\"sk-toggleable__content\"><pre>LogisticRegression(C=5, max_iter=100000, solver=&#x27;saga&#x27;)</pre></div></div></div></div></div></div></div></div></div></div>"
      ],
      "text/plain": [
       "AdaBoostClassifier(estimator=LogisticRegression(C=5, max_iter=100000,\n",
       "                                                solver='saga'))"
      ]
     },
     "execution_count": 159,
     "metadata": {},
     "output_type": "execute_result"
    }
   ],
   "source": [
    "adc = AdaBoostClassifier(estimator=LogisticRegression(C=5, solver=\"saga\", max_iter=100000), n_estimators=50)\n",
    "adc"
   ]
  },
  {
   "cell_type": "code",
   "execution_count": 160,
   "id": "e06d5d35",
   "metadata": {
    "execution": {
     "iopub.execute_input": "2023-08-12T04:18:00.623594Z",
     "iopub.status.busy": "2023-08-12T04:18:00.623173Z",
     "iopub.status.idle": "2023-08-12T04:18:00.627823Z",
     "shell.execute_reply": "2023-08-12T04:18:00.626538Z"
    },
    "papermill": {
     "duration": 0.115672,
     "end_time": "2023-08-12T04:18:00.630415",
     "exception": false,
     "start_time": "2023-08-12T04:18:00.514743",
     "status": "completed"
    },
    "tags": []
   },
   "outputs": [],
   "source": [
    "# submit_v4(selected_model=adc,\n",
    "#           selected_features={'cat': ['isFrequentReviewer']},\n",
    "#           param_grid=None,\n",
    "#           vocab=rfe_vocab)"
   ]
  },
  {
   "cell_type": "code",
   "execution_count": 161,
   "id": "763fb976",
   "metadata": {
    "execution": {
     "iopub.execute_input": "2023-08-12T04:18:00.846129Z",
     "iopub.status.busy": "2023-08-12T04:18:00.845584Z",
     "iopub.status.idle": "2023-08-12T04:18:00.850543Z",
     "shell.execute_reply": "2023-08-12T04:18:00.849222Z"
    },
    "papermill": {
     "duration": 0.115607,
     "end_time": "2023-08-12T04:18:00.853002",
     "exception": false,
     "start_time": "2023-08-12T04:18:00.737395",
     "status": "completed"
    },
    "tags": []
   },
   "outputs": [],
   "source": [
    "# AdaBoost on all features with RFE vocab on reviewText\n",
    "\n",
    "# submit_v4(selected_model=adc,\n",
    "#           selected_features=all_dict,\n",
    "#           param_grid=None,\n",
    "#           vocab=rfe_vocab)"
   ]
  },
  {
   "cell_type": "code",
   "execution_count": 162,
   "id": "001cf0c5",
   "metadata": {
    "execution": {
     "iopub.execute_input": "2023-08-12T04:18:01.075149Z",
     "iopub.status.busy": "2023-08-12T04:18:01.074604Z",
     "iopub.status.idle": "2023-08-12T04:18:01.079314Z",
     "shell.execute_reply": "2023-08-12T04:18:01.078050Z"
    },
    "papermill": {
     "duration": 0.121524,
     "end_time": "2023-08-12T04:18:01.081907",
     "exception": false,
     "start_time": "2023-08-12T04:18:00.960383",
     "status": "completed"
    },
    "tags": []
   },
   "outputs": [],
   "source": [
    "# RandomForestClassifier test run on one feature\n",
    "\n",
    "# rfc_2 = RandomForestClassifier()\n",
    "# rfc_2"
   ]
  },
  {
   "cell_type": "code",
   "execution_count": 163,
   "id": "2d708c97",
   "metadata": {
    "execution": {
     "iopub.execute_input": "2023-08-12T04:18:01.301248Z",
     "iopub.status.busy": "2023-08-12T04:18:01.300768Z",
     "iopub.status.idle": "2023-08-12T04:18:01.305657Z",
     "shell.execute_reply": "2023-08-12T04:18:01.304193Z"
    },
    "papermill": {
     "duration": 0.117982,
     "end_time": "2023-08-12T04:18:01.308605",
     "exception": false,
     "start_time": "2023-08-12T04:18:01.190623",
     "status": "completed"
    },
    "tags": []
   },
   "outputs": [],
   "source": [
    "# submit_v4(selected_model=rfc_2,\n",
    "#           selected_features={'txt': ['reviewerName']},\n",
    "#           param_grid=None,\n",
    "#           vocab=rfe_vocab)"
   ]
  },
  {
   "cell_type": "code",
   "execution_count": 164,
   "id": "0e53849b",
   "metadata": {
    "execution": {
     "iopub.execute_input": "2023-08-12T04:18:01.528795Z",
     "iopub.status.busy": "2023-08-12T04:18:01.528093Z",
     "iopub.status.idle": "2023-08-12T04:18:01.533523Z",
     "shell.execute_reply": "2023-08-12T04:18:01.532431Z"
    },
    "papermill": {
     "duration": 0.118722,
     "end_time": "2023-08-12T04:18:01.536530",
     "exception": false,
     "start_time": "2023-08-12T04:18:01.417808",
     "status": "completed"
    },
    "tags": []
   },
   "outputs": [],
   "source": [
    "# RandomForestClassifier on all features with RFE vocab on reviewText\n",
    "\n",
    "# submit_v4(selected_model=rfc_2,\n",
    "#           selected_features=all_dict,\n",
    "#           param_grid=None,\n",
    "#           vocab=rfe_vocab)"
   ]
  },
  {
   "cell_type": "markdown",
   "id": "2a2d60fe",
   "metadata": {
    "papermill": {
     "duration": 0.108419,
     "end_time": "2023-08-12T04:18:01.752030",
     "exception": false,
     "start_time": "2023-08-12T04:18:01.643611",
     "status": "completed"
    },
    "tags": []
   },
   "source": [
    "## Submit_v2 for merged file models  "
   ]
  },
  {
   "cell_type": "code",
   "execution_count": 165,
   "id": "91e7eaea",
   "metadata": {
    "execution": {
     "iopub.execute_input": "2023-08-12T04:18:01.971965Z",
     "iopub.status.busy": "2023-08-12T04:18:01.971491Z",
     "iopub.status.idle": "2023-08-12T04:18:01.978470Z",
     "shell.execute_reply": "2023-08-12T04:18:01.976920Z"
    },
    "papermill": {
     "duration": 0.121466,
     "end_time": "2023-08-12T04:18:01.981496",
     "exception": false,
     "start_time": "2023-08-12T04:18:01.860030",
     "status": "completed"
    },
    "tags": []
   },
   "outputs": [],
   "source": [
    "# def submit_v2(selected_model=pipe_final, selected_features=None):\n",
    "#     '''\n",
    "#     Note that \"selected_preprocessor\" is already used within selected_model or pipeline\n",
    "#     '''\n",
    "#     # Retrain on the whole train.csv file  \n",
    "#     merged = select_features(load_csv(\"train\"), load_csv(\"movies\"))\n",
    "#     X_train = merged.drop(labels=\"sentiment\", axis=1)\n",
    "#     y_train = merged[\"sentiment\"]\n",
    "    \n",
    "#     #Use selected features\n",
    "#     if selected_features:\n",
    "#         X_train = X_train[selected_features]\n",
    "    \n",
    "#     # Check1\n",
    "#     print(X_train.shape)\n",
    "#     print(X_train.head())\n",
    "#     try:\n",
    "#         print(selected_model.named_steps['model'].intercept_, selected_model.named_steps['model'].coef_)\n",
    "#     except:\n",
    "#         print(\"Model not trained yet!\")\n",
    "    \n",
    "#     # Fit \n",
    "#     selected_model.fit(X_train, y_train)\n",
    "    \n",
    "#     # Check2\n",
    "#     print(selected_model.named_steps['model'].intercept_, selected_model.named_steps['model'].coef_)\n",
    "    \n",
    "#     # Predict on test.csv file\n",
    "#     merged_test = select_features(load_csv(\"test\"), load_csv(\"movies\"))\n",
    "#     X_test = merged_test.copy()\n",
    "#     if selected_features:\n",
    "#         X_test = X_test[selected_features]\n",
    "    \n",
    "#     # Check3\n",
    "#     print(X_test.shape)\n",
    "#     print(X_test.head())\n",
    "    \n",
    "#     y_pred = selected_model.predict(X_test)\n",
    "    \n",
    "#     pred_df = pd.DataFrame(y_pred)\n",
    "#     pred_df.columns = [\"sentiment\"]\n",
    "#     pred_df.index.name = \"id\"\n",
    "#     pred_df.to_csv(\"submission.csv\")\n",
    "    \n",
    "#     return \"Successfully created the submission file!!!\""
   ]
  },
  {
   "cell_type": "code",
   "execution_count": 166,
   "id": "5bc6d080",
   "metadata": {
    "execution": {
     "iopub.execute_input": "2023-08-12T04:18:02.204052Z",
     "iopub.status.busy": "2023-08-12T04:18:02.202880Z",
     "iopub.status.idle": "2023-08-12T04:18:02.209191Z",
     "shell.execute_reply": "2023-08-12T04:18:02.207599Z"
    },
    "papermill": {
     "duration": 0.118465,
     "end_time": "2023-08-12T04:18:02.211851",
     "exception": false,
     "start_time": "2023-08-12T04:18:02.093386",
     "status": "completed"
    },
    "tags": []
   },
   "outputs": [],
   "source": [
    "#     X_test = merged_test.copy()\n",
    "    \n",
    "#     y_pred = pipe_best4.predict(X_test)\n",
    "# #     np.unique(y_pred, return_counts=True)\n",
    "#     pred_df = pd.DataFrame(y_pred)\n",
    "#     pred_df.columns = [\"sentiment\"]\n",
    "#     pred_df.index.name = \"id\"\n",
    "#     pred_df.value_counts()"
   ]
  },
  {
   "cell_type": "code",
   "execution_count": 167,
   "id": "cf50d86b",
   "metadata": {
    "execution": {
     "iopub.execute_input": "2023-08-12T04:18:02.427315Z",
     "iopub.status.busy": "2023-08-12T04:18:02.426818Z",
     "iopub.status.idle": "2023-08-12T04:18:02.432359Z",
     "shell.execute_reply": "2023-08-12T04:18:02.431080Z"
    },
    "papermill": {
     "duration": 0.117172,
     "end_time": "2023-08-12T04:18:02.435504",
     "exception": false,
     "start_time": "2023-08-12T04:18:02.318332",
     "status": "completed"
    },
    "tags": []
   },
   "outputs": [],
   "source": [
    "# X_test.columns"
   ]
  },
  {
   "cell_type": "markdown",
   "id": "9d762965",
   "metadata": {
    "papermill": {
     "duration": 0.107808,
     "end_time": "2023-08-12T04:18:02.650519",
     "exception": false,
     "start_time": "2023-08-12T04:18:02.542711",
     "status": "completed"
    },
    "tags": []
   },
   "source": [
    "### Uncomment to submit using v2 of submit function  "
   ]
  },
  {
   "cell_type": "code",
   "execution_count": 168,
   "id": "2d5c3de3",
   "metadata": {
    "execution": {
     "iopub.execute_input": "2023-08-12T04:18:02.865885Z",
     "iopub.status.busy": "2023-08-12T04:18:02.865415Z",
     "iopub.status.idle": "2023-08-12T04:18:02.871103Z",
     "shell.execute_reply": "2023-08-12T04:18:02.869493Z"
    },
    "papermill": {
     "duration": 0.116684,
     "end_time": "2023-08-12T04:18:02.873555",
     "exception": false,
     "start_time": "2023-08-12T04:18:02.756871",
     "status": "completed"
    },
    "tags": []
   },
   "outputs": [],
   "source": [
    "# best4 = [\"audienceScore\", \"rating\", \"isFrequentReviewer\", \"reviewText\"]\n",
    "# best4"
   ]
  },
  {
   "cell_type": "code",
   "execution_count": 169,
   "id": "13ea1ff1",
   "metadata": {
    "execution": {
     "iopub.execute_input": "2023-08-12T04:18:03.095048Z",
     "iopub.status.busy": "2023-08-12T04:18:03.094614Z",
     "iopub.status.idle": "2023-08-12T04:18:03.099618Z",
     "shell.execute_reply": "2023-08-12T04:18:03.098253Z"
    },
    "papermill": {
     "duration": 0.120317,
     "end_time": "2023-08-12T04:18:03.102192",
     "exception": false,
     "start_time": "2023-08-12T04:18:02.981875",
     "status": "completed"
    },
    "tags": []
   },
   "outputs": [],
   "source": [
    "# submit_v2(selected_model=pipe_RTonly, selected_features=['reviewText'])"
   ]
  },
  {
   "cell_type": "markdown",
   "id": "c4282bc4",
   "metadata": {
    "papermill": {
     "duration": 0.10927,
     "end_time": "2023-08-12T04:18:03.319788",
     "exception": false,
     "start_time": "2023-08-12T04:18:03.210518",
     "status": "completed"
    },
    "tags": []
   },
   "source": [
    "### Inspect the submission.csv file  "
   ]
  },
  {
   "cell_type": "code",
   "execution_count": 170,
   "id": "f879956b",
   "metadata": {
    "execution": {
     "iopub.execute_input": "2023-08-12T04:18:03.537290Z",
     "iopub.status.busy": "2023-08-12T04:18:03.536055Z",
     "iopub.status.idle": "2023-08-12T04:18:03.541316Z",
     "shell.execute_reply": "2023-08-12T04:18:03.540401Z"
    },
    "papermill": {
     "duration": 0.115651,
     "end_time": "2023-08-12T04:18:03.543652",
     "exception": false,
     "start_time": "2023-08-12T04:18:03.428001",
     "status": "completed"
    },
    "tags": []
   },
   "outputs": [],
   "source": [
    "# sub = pd.read_csv('submission.csv')\n",
    "# sub.shape, sub.head()"
   ]
  },
  {
   "cell_type": "code",
   "execution_count": 171,
   "id": "8a176ac7",
   "metadata": {
    "execution": {
     "iopub.execute_input": "2023-08-12T04:18:03.762072Z",
     "iopub.status.busy": "2023-08-12T04:18:03.761613Z",
     "iopub.status.idle": "2023-08-12T04:18:03.766521Z",
     "shell.execute_reply": "2023-08-12T04:18:03.765377Z"
    },
    "papermill": {
     "duration": 0.117628,
     "end_time": "2023-08-12T04:18:03.768918",
     "exception": false,
     "start_time": "2023-08-12T04:18:03.651290",
     "status": "completed"
    },
    "tags": []
   },
   "outputs": [],
   "source": [
    "# sub['sentiment'].value_counts()"
   ]
  },
  {
   "cell_type": "markdown",
   "id": "75b16f9a",
   "metadata": {
    "papermill": {
     "duration": 0.107869,
     "end_time": "2023-08-12T04:18:03.982431",
     "exception": false,
     "start_time": "2023-08-12T04:18:03.874562",
     "status": "completed"
    },
    "tags": []
   },
   "source": [
    "## submit_v3 for merged file models - does not retrain on whole data  "
   ]
  },
  {
   "cell_type": "code",
   "execution_count": 172,
   "id": "0bc62504",
   "metadata": {
    "execution": {
     "iopub.execute_input": "2023-08-12T04:18:04.207787Z",
     "iopub.status.busy": "2023-08-12T04:18:04.206879Z",
     "iopub.status.idle": "2023-08-12T04:18:04.212909Z",
     "shell.execute_reply": "2023-08-12T04:18:04.211859Z"
    },
    "papermill": {
     "duration": 0.117422,
     "end_time": "2023-08-12T04:18:04.215781",
     "exception": false,
     "start_time": "2023-08-12T04:18:04.098359",
     "status": "completed"
    },
    "tags": []
   },
   "outputs": [],
   "source": [
    "# def submit_v3(selected_model=pipe_final):\n",
    "#     '''\n",
    "#     Note that \"selected_preprocessor\" is already used within selected_model or pipeline\n",
    "#     '''\n",
    "      \n",
    "#     # Predict on test.csv file\n",
    "#     merged_test = select_features(load_csv(\"test\"), load_csv(\"movies\"))\n",
    "#     X_test = merged_test.copy()\n",
    "    \n",
    "#     X_test = X_test[[\"audienceScore\", \"rating\", \"isFrequentReviewer\", \"reviewText\"]]    # This is a new line\n",
    "\n",
    "    \n",
    "#     y_pred = selected_model.predict(X_test)\n",
    "    \n",
    "#     pred_df = pd.DataFrame(y_pred)\n",
    "#     pred_df.columns = [\"sentiment\"]\n",
    "#     pred_df.index.name = \"id\"\n",
    "#     pred_df.to_csv(\"submission.csv\")\n",
    "    \n",
    "#     return \"Successfully created the submission file!!!\""
   ]
  },
  {
   "cell_type": "markdown",
   "id": "7cb0a646",
   "metadata": {
    "papermill": {
     "duration": 0.110598,
     "end_time": "2023-08-12T04:18:04.434521",
     "exception": false,
     "start_time": "2023-08-12T04:18:04.323923",
     "status": "completed"
    },
    "tags": []
   },
   "source": [
    "### Uncomment to submit using v3 of submit function  "
   ]
  },
  {
   "cell_type": "code",
   "execution_count": 173,
   "id": "69bec8c8",
   "metadata": {
    "execution": {
     "iopub.execute_input": "2023-08-12T04:18:04.650066Z",
     "iopub.status.busy": "2023-08-12T04:18:04.649629Z",
     "iopub.status.idle": "2023-08-12T04:18:04.655035Z",
     "shell.execute_reply": "2023-08-12T04:18:04.653362Z"
    },
    "papermill": {
     "duration": 0.116267,
     "end_time": "2023-08-12T04:18:04.657580",
     "exception": false,
     "start_time": "2023-08-12T04:18:04.541313",
     "status": "completed"
    },
    "tags": []
   },
   "outputs": [],
   "source": [
    "# submit_v3(selected_model=pipe_best4)"
   ]
  },
  {
   "cell_type": "markdown",
   "id": "b2a9333e",
   "metadata": {
    "papermill": {
     "duration": 0.106195,
     "end_time": "2023-08-12T04:18:04.871089",
     "exception": false,
     "start_time": "2023-08-12T04:18:04.764894",
     "status": "completed"
    },
    "tags": []
   },
   "source": [
    "## Rough work  "
   ]
  },
  {
   "cell_type": "code",
   "execution_count": 174,
   "id": "c67538d6",
   "metadata": {
    "execution": {
     "iopub.execute_input": "2023-08-12T04:18:05.091524Z",
     "iopub.status.busy": "2023-08-12T04:18:05.091097Z",
     "iopub.status.idle": "2023-08-12T04:18:11.504477Z",
     "shell.execute_reply": "2023-08-12T04:18:11.503267Z"
    },
    "papermill": {
     "duration": 6.530014,
     "end_time": "2023-08-12T04:18:11.507698",
     "exception": false,
     "start_time": "2023-08-12T04:18:04.977684",
     "status": "completed"
    },
    "tags": []
   },
   "outputs": [],
   "source": [
    "    # Predict on test.csv file\n",
    "    merged_test = select_features(load_csv(\"test\"), load_csv(\"movies\"))\n",
    "    X_test = merged_test.copy()\n",
    "    \n",
    "    X_test = X_test[[\"audienceScore\", \"rating\", \"isFrequentReviewer\", \"reviewText\"]]    # This is a new line"
   ]
  },
  {
   "cell_type": "code",
   "execution_count": 175,
   "id": "d6e1591a",
   "metadata": {
    "execution": {
     "iopub.execute_input": "2023-08-12T04:18:11.726613Z",
     "iopub.status.busy": "2023-08-12T04:18:11.725781Z",
     "iopub.status.idle": "2023-08-12T04:18:11.731265Z",
     "shell.execute_reply": "2023-08-12T04:18:11.730033Z"
    },
    "papermill": {
     "duration": 0.117183,
     "end_time": "2023-08-12T04:18:11.733730",
     "exception": false,
     "start_time": "2023-08-12T04:18:11.616547",
     "status": "completed"
    },
    "tags": []
   },
   "outputs": [],
   "source": [
    "# X_test.head()"
   ]
  },
  {
   "cell_type": "code",
   "execution_count": 176,
   "id": "da9c9083",
   "metadata": {
    "execution": {
     "iopub.execute_input": "2023-08-12T04:18:11.952759Z",
     "iopub.status.busy": "2023-08-12T04:18:11.952062Z",
     "iopub.status.idle": "2023-08-12T04:18:11.956361Z",
     "shell.execute_reply": "2023-08-12T04:18:11.955255Z"
    },
    "papermill": {
     "duration": 0.117251,
     "end_time": "2023-08-12T04:18:11.959248",
     "exception": false,
     "start_time": "2023-08-12T04:18:11.841997",
     "status": "completed"
    },
    "tags": []
   },
   "outputs": [],
   "source": [
    "# X_test['audienceScore'].describe()"
   ]
  },
  {
   "cell_type": "code",
   "execution_count": 177,
   "id": "da79273a",
   "metadata": {
    "execution": {
     "iopub.execute_input": "2023-08-12T04:18:12.178587Z",
     "iopub.status.busy": "2023-08-12T04:18:12.177785Z",
     "iopub.status.idle": "2023-08-12T04:18:12.183068Z",
     "shell.execute_reply": "2023-08-12T04:18:12.181913Z"
    },
    "papermill": {
     "duration": 0.118402,
     "end_time": "2023-08-12T04:18:12.185778",
     "exception": false,
     "start_time": "2023-08-12T04:18:12.067376",
     "status": "completed"
    },
    "tags": []
   },
   "outputs": [],
   "source": [
    "# X_test['rating'].value_counts()"
   ]
  },
  {
   "cell_type": "code",
   "execution_count": 178,
   "id": "0c0192e6",
   "metadata": {
    "execution": {
     "iopub.execute_input": "2023-08-12T04:18:12.403898Z",
     "iopub.status.busy": "2023-08-12T04:18:12.403483Z",
     "iopub.status.idle": "2023-08-12T04:18:12.408279Z",
     "shell.execute_reply": "2023-08-12T04:18:12.406905Z"
    },
    "papermill": {
     "duration": 0.117704,
     "end_time": "2023-08-12T04:18:12.410905",
     "exception": false,
     "start_time": "2023-08-12T04:18:12.293201",
     "status": "completed"
    },
    "tags": []
   },
   "outputs": [],
   "source": [
    "# X_test['isFrequentReviewer'].value_counts()"
   ]
  },
  {
   "cell_type": "markdown",
   "id": "567d2f15",
   "metadata": {
    "papermill": {
     "duration": 0.106328,
     "end_time": "2023-08-12T04:18:12.625344",
     "exception": false,
     "start_time": "2023-08-12T04:18:12.519016",
     "status": "completed"
    },
    "tags": []
   },
   "source": [
    "## Implement KNN classifier  "
   ]
  },
  {
   "cell_type": "code",
   "execution_count": 179,
   "id": "6c889e66",
   "metadata": {
    "execution": {
     "iopub.execute_input": "2023-08-12T04:18:12.842904Z",
     "iopub.status.busy": "2023-08-12T04:18:12.842422Z",
     "iopub.status.idle": "2023-08-12T04:18:12.847229Z",
     "shell.execute_reply": "2023-08-12T04:18:12.846031Z"
    },
    "papermill": {
     "duration": 0.115328,
     "end_time": "2023-08-12T04:18:12.849726",
     "exception": false,
     "start_time": "2023-08-12T04:18:12.734398",
     "status": "completed"
    },
    "tags": []
   },
   "outputs": [],
   "source": [
    "# from sklearn.neighbors import KNeighborsClassifier"
   ]
  },
  {
   "cell_type": "code",
   "execution_count": 180,
   "id": "ed41ca1f",
   "metadata": {
    "execution": {
     "iopub.execute_input": "2023-08-12T04:18:13.071682Z",
     "iopub.status.busy": "2023-08-12T04:18:13.071264Z",
     "iopub.status.idle": "2023-08-12T04:18:13.076766Z",
     "shell.execute_reply": "2023-08-12T04:18:13.075275Z"
    },
    "papermill": {
     "duration": 0.120385,
     "end_time": "2023-08-12T04:18:13.079614",
     "exception": false,
     "start_time": "2023-08-12T04:18:12.959229",
     "status": "completed"
    },
    "tags": []
   },
   "outputs": [],
   "source": [
    "# Note that we are borrowing \"ct_final\" column transformer from above  "
   ]
  },
  {
   "cell_type": "code",
   "execution_count": 181,
   "id": "3bbe2843",
   "metadata": {
    "execution": {
     "iopub.execute_input": "2023-08-12T04:18:13.299534Z",
     "iopub.status.busy": "2023-08-12T04:18:13.299091Z",
     "iopub.status.idle": "2023-08-12T04:18:13.304387Z",
     "shell.execute_reply": "2023-08-12T04:18:13.302896Z"
    },
    "papermill": {
     "duration": 0.115908,
     "end_time": "2023-08-12T04:18:13.306801",
     "exception": false,
     "start_time": "2023-08-12T04:18:13.190893",
     "status": "completed"
    },
    "tags": []
   },
   "outputs": [],
   "source": [
    "# pipe_knn = Pipeline(steps=[\n",
    "#                         (\"preprocessor\", ct_final),\n",
    "#                         (\"model\", KNeighborsClassifier())\n",
    "#                     ])\n",
    "# pipe_knn"
   ]
  },
  {
   "cell_type": "code",
   "execution_count": 182,
   "id": "1e482acd",
   "metadata": {
    "execution": {
     "iopub.execute_input": "2023-08-12T04:18:13.520729Z",
     "iopub.status.busy": "2023-08-12T04:18:13.520301Z",
     "iopub.status.idle": "2023-08-12T04:18:13.525927Z",
     "shell.execute_reply": "2023-08-12T04:18:13.524404Z"
    },
    "papermill": {
     "duration": 0.116473,
     "end_time": "2023-08-12T04:18:13.528662",
     "exception": false,
     "start_time": "2023-08-12T04:18:13.412189",
     "status": "completed"
    },
    "tags": []
   },
   "outputs": [],
   "source": [
    "# Train and predict on merged training data  \n",
    "# split_train_predict(merged_train_features, merged_train_labels, pipe_knn, test_size=0.25, random_state=42)"
   ]
  },
  {
   "cell_type": "markdown",
   "id": "faf85a62",
   "metadata": {
    "papermill": {
     "duration": 0.10799,
     "end_time": "2023-08-12T04:18:13.743844",
     "exception": false,
     "start_time": "2023-08-12T04:18:13.635854",
     "status": "completed"
    },
    "tags": []
   },
   "source": [
    "# Part I (Older code)  "
   ]
  },
  {
   "cell_type": "markdown",
   "id": "a8c718b1",
   "metadata": {
    "papermill": {
     "duration": 0.1088,
     "end_time": "2023-08-12T04:18:14.050436",
     "exception": false,
     "start_time": "2023-08-12T04:18:13.941636",
     "status": "completed"
    },
    "tags": []
   },
   "source": [
    "### Logistic Regression with stop words  "
   ]
  },
  {
   "cell_type": "code",
   "execution_count": 183,
   "id": "5dbb3024",
   "metadata": {
    "execution": {
     "iopub.execute_input": "2023-08-12T04:18:14.271442Z",
     "iopub.status.busy": "2023-08-12T04:18:14.271016Z",
     "iopub.status.idle": "2023-08-12T04:18:14.275816Z",
     "shell.execute_reply": "2023-08-12T04:18:14.274498Z"
    },
    "papermill": {
     "duration": 0.118299,
     "end_time": "2023-08-12T04:18:14.278389",
     "exception": false,
     "start_time": "2023-08-12T04:18:14.160090",
     "status": "completed"
    },
    "tags": []
   },
   "outputs": [],
   "source": [
    "# tvec_sw = TfidfVectorizer(stop_words=stop_words)"
   ]
  },
  {
   "cell_type": "code",
   "execution_count": 184,
   "id": "26febf7c",
   "metadata": {
    "execution": {
     "iopub.execute_input": "2023-08-12T04:18:14.494842Z",
     "iopub.status.busy": "2023-08-12T04:18:14.494419Z",
     "iopub.status.idle": "2023-08-12T04:18:14.499102Z",
     "shell.execute_reply": "2023-08-12T04:18:14.497958Z"
    },
    "papermill": {
     "duration": 0.114982,
     "end_time": "2023-08-12T04:18:14.501492",
     "exception": false,
     "start_time": "2023-08-12T04:18:14.386510",
     "status": "completed"
    },
    "tags": []
   },
   "outputs": [],
   "source": [
    "# logreg_sw_pipe = preprocess_n_train(X_train, y_train, tvec_sw, logreg)\n",
    "# logreg_sw_pipe"
   ]
  },
  {
   "cell_type": "code",
   "execution_count": 185,
   "id": "bc24c59d",
   "metadata": {
    "execution": {
     "iopub.execute_input": "2023-08-12T04:18:14.720454Z",
     "iopub.status.busy": "2023-08-12T04:18:14.720057Z",
     "iopub.status.idle": "2023-08-12T04:18:14.724795Z",
     "shell.execute_reply": "2023-08-12T04:18:14.723577Z"
    },
    "papermill": {
     "duration": 0.116966,
     "end_time": "2023-08-12T04:18:14.727298",
     "exception": false,
     "start_time": "2023-08-12T04:18:14.610332",
     "status": "completed"
    },
    "tags": []
   },
   "outputs": [],
   "source": [
    "# y_pred_logreg_sw = predict_n_evaluate(logreg_sw_pipe, X_test, y_test)\n",
    "# y_pred_logreg_sw"
   ]
  },
  {
   "cell_type": "markdown",
   "id": "00fb9ce3",
   "metadata": {
    "papermill": {
     "duration": 0.106242,
     "end_time": "2023-08-12T04:18:14.941900",
     "exception": false,
     "start_time": "2023-08-12T04:18:14.835658",
     "status": "completed"
    },
    "tags": []
   },
   "source": [
    "### Logistic regression with different ngram ranges  "
   ]
  },
  {
   "cell_type": "code",
   "execution_count": 186,
   "id": "f5199da7",
   "metadata": {
    "execution": {
     "iopub.execute_input": "2023-08-12T04:18:15.167979Z",
     "iopub.status.busy": "2023-08-12T04:18:15.167543Z",
     "iopub.status.idle": "2023-08-12T04:18:15.172465Z",
     "shell.execute_reply": "2023-08-12T04:18:15.171151Z"
    },
    "papermill": {
     "duration": 0.121654,
     "end_time": "2023-08-12T04:18:15.175094",
     "exception": false,
     "start_time": "2023-08-12T04:18:15.053440",
     "status": "completed"
    },
    "tags": []
   },
   "outputs": [],
   "source": [
    "# tvec_ngram_2 = TfidfVectorizer(ngram_range=(1,2))"
   ]
  },
  {
   "cell_type": "code",
   "execution_count": 187,
   "id": "93215849",
   "metadata": {
    "execution": {
     "iopub.execute_input": "2023-08-12T04:18:15.392467Z",
     "iopub.status.busy": "2023-08-12T04:18:15.392065Z",
     "iopub.status.idle": "2023-08-12T04:18:15.396813Z",
     "shell.execute_reply": "2023-08-12T04:18:15.395559Z"
    },
    "papermill": {
     "duration": 0.117979,
     "end_time": "2023-08-12T04:18:15.399403",
     "exception": false,
     "start_time": "2023-08-12T04:18:15.281424",
     "status": "completed"
    },
    "tags": []
   },
   "outputs": [],
   "source": [
    "# logreg_ng2_pipe = preprocess_n_train(X_train, y_train, tvec_ngram_2, logreg)\n",
    "# logreg_ng2_pipe"
   ]
  },
  {
   "cell_type": "code",
   "execution_count": 188,
   "id": "25aebb53",
   "metadata": {
    "execution": {
     "iopub.execute_input": "2023-08-12T04:18:15.620585Z",
     "iopub.status.busy": "2023-08-12T04:18:15.620184Z",
     "iopub.status.idle": "2023-08-12T04:18:15.624589Z",
     "shell.execute_reply": "2023-08-12T04:18:15.623468Z"
    },
    "papermill": {
     "duration": 0.119831,
     "end_time": "2023-08-12T04:18:15.627250",
     "exception": false,
     "start_time": "2023-08-12T04:18:15.507419",
     "status": "completed"
    },
    "tags": []
   },
   "outputs": [],
   "source": [
    "# y_pred_logreg_ng2 = predict_n_evaluate(logreg_ng2_pipe, X_test, y_test)\n",
    "# y_pred_logreg_ng2"
   ]
  },
  {
   "cell_type": "markdown",
   "id": "cf4a7a98",
   "metadata": {
    "papermill": {
     "duration": 0.10937,
     "end_time": "2023-08-12T04:18:15.849855",
     "exception": false,
     "start_time": "2023-08-12T04:18:15.740485",
     "status": "completed"
    },
    "tags": []
   },
   "source": [
    "### Logistic regression with C=2, ngram range (1,2), stop words as None and min_df, max_df adjusted\n",
    "### Class weight balanced"
   ]
  },
  {
   "cell_type": "code",
   "execution_count": 189,
   "id": "e96c2833",
   "metadata": {
    "execution": {
     "iopub.execute_input": "2023-08-12T04:18:16.096020Z",
     "iopub.status.busy": "2023-08-12T04:18:16.095584Z",
     "iopub.status.idle": "2023-08-12T04:18:16.100424Z",
     "shell.execute_reply": "2023-08-12T04:18:16.099157Z"
    },
    "papermill": {
     "duration": 0.119067,
     "end_time": "2023-08-12T04:18:16.103125",
     "exception": false,
     "start_time": "2023-08-12T04:18:15.984058",
     "status": "completed"
    },
    "tags": []
   },
   "outputs": [],
   "source": [
    "# logreg = LogisticRegression(max_iter=100000, C=2, class_weight=\"balanced\")"
   ]
  },
  {
   "cell_type": "code",
   "execution_count": 190,
   "id": "388f8994",
   "metadata": {
    "execution": {
     "iopub.execute_input": "2023-08-12T04:18:16.328660Z",
     "iopub.status.busy": "2023-08-12T04:18:16.328231Z",
     "iopub.status.idle": "2023-08-12T04:18:16.332985Z",
     "shell.execute_reply": "2023-08-12T04:18:16.331681Z"
    },
    "papermill": {
     "duration": 0.117902,
     "end_time": "2023-08-12T04:18:16.335359",
     "exception": false,
     "start_time": "2023-08-12T04:18:16.217457",
     "status": "completed"
    },
    "tags": []
   },
   "outputs": [],
   "source": [
    "# tvec_ngram_2_sw_df = TfidfVectorizer(ngram_range=(1,2), stop_words=None, min_df=0.0001, max_df=0.50)\n",
    "# tvec_ngram_2_sw_df"
   ]
  },
  {
   "cell_type": "code",
   "execution_count": 191,
   "id": "ce66c629",
   "metadata": {
    "execution": {
     "iopub.execute_input": "2023-08-12T04:18:16.554304Z",
     "iopub.status.busy": "2023-08-12T04:18:16.553865Z",
     "iopub.status.idle": "2023-08-12T04:18:16.557840Z",
     "shell.execute_reply": "2023-08-12T04:18:16.557018Z"
    },
    "papermill": {
     "duration": 0.116285,
     "end_time": "2023-08-12T04:18:16.559979",
     "exception": false,
     "start_time": "2023-08-12T04:18:16.443694",
     "status": "completed"
    },
    "tags": []
   },
   "outputs": [],
   "source": [
    "# logreg_ng2_sw_df_pipe = preprocess_n_train(X_train, y_train, tvec_ngram_2_sw_df, logreg)\n",
    "# logreg_ng2_sw_df_pipe"
   ]
  },
  {
   "cell_type": "code",
   "execution_count": 192,
   "id": "6cc0bfeb",
   "metadata": {
    "execution": {
     "iopub.execute_input": "2023-08-12T04:18:16.781916Z",
     "iopub.status.busy": "2023-08-12T04:18:16.781123Z",
     "iopub.status.idle": "2023-08-12T04:18:16.785215Z",
     "shell.execute_reply": "2023-08-12T04:18:16.784385Z"
    },
    "papermill": {
     "duration": 0.118448,
     "end_time": "2023-08-12T04:18:16.787262",
     "exception": false,
     "start_time": "2023-08-12T04:18:16.668814",
     "status": "completed"
    },
    "tags": []
   },
   "outputs": [],
   "source": [
    "# y_pred_logreg_ng2_sw_df = predict_n_evaluate(logreg_ng2_sw_df_pipe, X_test, y_test)\n",
    "# y_pred_logreg_ng2_sw_df"
   ]
  },
  {
   "cell_type": "markdown",
   "id": "57dd6f72",
   "metadata": {
    "papermill": {
     "duration": 0.107748,
     "end_time": "2023-08-12T04:18:17.000909",
     "exception": false,
     "start_time": "2023-08-12T04:18:16.893161",
     "status": "completed"
    },
    "tags": []
   },
   "source": [
    "### Log reg with parameters from GridSearchCV  \n",
    "\n",
    "`This is the best score with \"reviewText column alone for analysis`  "
   ]
  },
  {
   "cell_type": "code",
   "execution_count": 193,
   "id": "3b73aaf7",
   "metadata": {
    "execution": {
     "iopub.execute_input": "2023-08-12T04:18:17.224515Z",
     "iopub.status.busy": "2023-08-12T04:18:17.224013Z",
     "iopub.status.idle": "2023-08-12T04:18:17.230674Z",
     "shell.execute_reply": "2023-08-12T04:18:17.229248Z"
    },
    "papermill": {
     "duration": 0.123559,
     "end_time": "2023-08-12T04:18:17.234455",
     "exception": false,
     "start_time": "2023-08-12T04:18:17.110896",
     "status": "completed"
    },
    "tags": []
   },
   "outputs": [],
   "source": [
    "logreg_cv1 = LogisticRegression(max_iter=100000, C=10)\n",
    "tvec_cv1 = TfidfVectorizer(max_features=None, ngram_range=(1,2))"
   ]
  },
  {
   "cell_type": "code",
   "execution_count": 194,
   "id": "5b6b2036",
   "metadata": {
    "execution": {
     "iopub.execute_input": "2023-08-12T04:18:17.457790Z",
     "iopub.status.busy": "2023-08-12T04:18:17.457363Z",
     "iopub.status.idle": "2023-08-12T04:18:17.463344Z",
     "shell.execute_reply": "2023-08-12T04:18:17.462041Z"
    },
    "papermill": {
     "duration": 0.121861,
     "end_time": "2023-08-12T04:18:17.466205",
     "exception": false,
     "start_time": "2023-08-12T04:18:17.344344",
     "status": "completed"
    },
    "tags": []
   },
   "outputs": [],
   "source": [
    "pipe_cv1 = Pipeline(steps=[\n",
    "    (\"preprocessor\", tvec_cv1),\n",
    "    (\"model\", logreg_cv1)\n",
    "])"
   ]
  },
  {
   "cell_type": "code",
   "execution_count": 195,
   "id": "22e53e43",
   "metadata": {
    "execution": {
     "iopub.execute_input": "2023-08-12T04:18:17.687638Z",
     "iopub.status.busy": "2023-08-12T04:18:17.687230Z",
     "iopub.status.idle": "2023-08-12T04:18:17.692296Z",
     "shell.execute_reply": "2023-08-12T04:18:17.691061Z"
    },
    "papermill": {
     "duration": 0.118069,
     "end_time": "2023-08-12T04:18:17.694983",
     "exception": false,
     "start_time": "2023-08-12T04:18:17.576914",
     "status": "completed"
    },
    "tags": []
   },
   "outputs": [],
   "source": [
    "# pipe_cv1.fit(X_train, y_train)"
   ]
  },
  {
   "cell_type": "code",
   "execution_count": 196,
   "id": "ec95799f",
   "metadata": {
    "execution": {
     "iopub.execute_input": "2023-08-12T04:18:17.912143Z",
     "iopub.status.busy": "2023-08-12T04:18:17.911710Z",
     "iopub.status.idle": "2023-08-12T04:18:17.917031Z",
     "shell.execute_reply": "2023-08-12T04:18:17.915824Z"
    },
    "papermill": {
     "duration": 0.11682,
     "end_time": "2023-08-12T04:18:17.919683",
     "exception": false,
     "start_time": "2023-08-12T04:18:17.802863",
     "status": "completed"
    },
    "tags": []
   },
   "outputs": [],
   "source": [
    "# pipe_cv1.score(X_train, y_train)"
   ]
  },
  {
   "cell_type": "markdown",
   "id": "eb2c3751",
   "metadata": {
    "papermill": {
     "duration": 0.106652,
     "end_time": "2023-08-12T04:18:18.133871",
     "exception": false,
     "start_time": "2023-08-12T04:18:18.027219",
     "status": "completed"
    },
    "tags": []
   },
   "source": [
    "### SVM model with stop words  "
   ]
  },
  {
   "cell_type": "code",
   "execution_count": 197,
   "id": "2a3499a4",
   "metadata": {
    "execution": {
     "iopub.execute_input": "2023-08-12T04:18:18.354712Z",
     "iopub.status.busy": "2023-08-12T04:18:18.354254Z",
     "iopub.status.idle": "2023-08-12T04:18:18.359843Z",
     "shell.execute_reply": "2023-08-12T04:18:18.358444Z"
    },
    "papermill": {
     "duration": 0.119036,
     "end_time": "2023-08-12T04:18:18.362386",
     "exception": false,
     "start_time": "2023-08-12T04:18:18.243350",
     "status": "completed"
    },
    "tags": []
   },
   "outputs": [],
   "source": [
    "# svm_sw_pipe = preprocess_n_train(X_train, y_train, tvec_sw, svm)\n",
    "# svm_sw_pipe"
   ]
  },
  {
   "cell_type": "code",
   "execution_count": 198,
   "id": "30270a3c",
   "metadata": {
    "execution": {
     "iopub.execute_input": "2023-08-12T04:18:18.664656Z",
     "iopub.status.busy": "2023-08-12T04:18:18.664203Z",
     "iopub.status.idle": "2023-08-12T04:18:18.670170Z",
     "shell.execute_reply": "2023-08-12T04:18:18.668635Z"
    },
    "papermill": {
     "duration": 0.204013,
     "end_time": "2023-08-12T04:18:18.672829",
     "exception": false,
     "start_time": "2023-08-12T04:18:18.468816",
     "status": "completed"
    },
    "tags": []
   },
   "outputs": [],
   "source": [
    "# y_pred_svm_sw = predict_n_evaluate(svm_sw_pipe, X_test, y_test)\n",
    "# y_pred_svm_sw"
   ]
  },
  {
   "cell_type": "markdown",
   "id": "e307f547",
   "metadata": {
    "papermill": {
     "duration": 0.106937,
     "end_time": "2023-08-12T04:18:18.891343",
     "exception": false,
     "start_time": "2023-08-12T04:18:18.784406",
     "status": "completed"
    },
    "tags": []
   },
   "source": [
    "### GaussianNB  "
   ]
  },
  {
   "cell_type": "markdown",
   "id": "a6fa982e",
   "metadata": {
    "papermill": {
     "duration": 0.109875,
     "end_time": "2023-08-12T04:18:19.109617",
     "exception": false,
     "start_time": "2023-08-12T04:18:18.999742",
     "status": "completed"
    },
    "tags": []
   },
   "source": [
    "https://stackoverflow.com/questions/28384680/scikit-learns-pipeline-a-sparse-matrix-was-passed-but-dense-data-is-required"
   ]
  },
  {
   "cell_type": "code",
   "execution_count": 199,
   "id": "f9b7e891",
   "metadata": {
    "execution": {
     "iopub.execute_input": "2023-08-12T04:18:19.334585Z",
     "iopub.status.busy": "2023-08-12T04:18:19.334185Z",
     "iopub.status.idle": "2023-08-12T04:18:19.339349Z",
     "shell.execute_reply": "2023-08-12T04:18:19.338170Z"
    },
    "papermill": {
     "duration": 0.119033,
     "end_time": "2023-08-12T04:18:19.341909",
     "exception": false,
     "start_time": "2023-08-12T04:18:19.222876",
     "status": "completed"
    },
    "tags": []
   },
   "outputs": [],
   "source": [
    "# gnb = GaussianNB()\n",
    "# gnb"
   ]
  },
  {
   "cell_type": "code",
   "execution_count": 200,
   "id": "cde72764",
   "metadata": {
    "execution": {
     "iopub.execute_input": "2023-08-12T04:18:19.557345Z",
     "iopub.status.busy": "2023-08-12T04:18:19.556904Z",
     "iopub.status.idle": "2023-08-12T04:18:19.562283Z",
     "shell.execute_reply": "2023-08-12T04:18:19.560937Z"
    },
    "papermill": {
     "duration": 0.1167,
     "end_time": "2023-08-12T04:18:19.565046",
     "exception": false,
     "start_time": "2023-08-12T04:18:19.448346",
     "status": "completed"
    },
    "tags": []
   },
   "outputs": [],
   "source": [
    "# gnb_pipe = preprocess_n_train(X_train, y_train, tvec, gnb)\n",
    "# gnb_pipe"
   ]
  },
  {
   "cell_type": "markdown",
   "id": "75f1a9f0",
   "metadata": {
    "papermill": {
     "duration": 0.109571,
     "end_time": "2023-08-12T04:18:19.781854",
     "exception": false,
     "start_time": "2023-08-12T04:18:19.672283",
     "status": "completed"
    },
    "tags": []
   },
   "source": [
    "# Part II (Older code)  \n"
   ]
  },
  {
   "cell_type": "markdown",
   "id": "976e14c4",
   "metadata": {
    "papermill": {
     "duration": 0.10798,
     "end_time": "2023-08-12T04:18:20.000233",
     "exception": false,
     "start_time": "2023-08-12T04:18:19.892253",
     "status": "completed"
    },
    "tags": []
   },
   "source": [
    "### Separate features and labels from merged dataset  "
   ]
  },
  {
   "cell_type": "code",
   "execution_count": 201,
   "id": "cdb1cf06",
   "metadata": {
    "execution": {
     "iopub.execute_input": "2023-08-12T04:18:20.223203Z",
     "iopub.status.busy": "2023-08-12T04:18:20.222682Z",
     "iopub.status.idle": "2023-08-12T04:18:20.227432Z",
     "shell.execute_reply": "2023-08-12T04:18:20.226548Z"
    },
    "papermill": {
     "duration": 0.119821,
     "end_time": "2023-08-12T04:18:20.229532",
     "exception": false,
     "start_time": "2023-08-12T04:18:20.109711",
     "status": "completed"
    },
    "tags": []
   },
   "outputs": [],
   "source": [
    "# merged_train_features = merged[['movieid', 'reviewerName', 'isFrequentReviewer', 'reviewText',\n",
    "#        'audienceScore', 'rating', 'runtimeMinutes', 'genre',\n",
    "#        'originalLanguage', 'director']]\n",
    "# merged_train_features.shape"
   ]
  },
  {
   "cell_type": "code",
   "execution_count": 202,
   "id": "8a03c4a7",
   "metadata": {
    "execution": {
     "iopub.execute_input": "2023-08-12T04:18:20.445497Z",
     "iopub.status.busy": "2023-08-12T04:18:20.445034Z",
     "iopub.status.idle": "2023-08-12T04:18:20.450184Z",
     "shell.execute_reply": "2023-08-12T04:18:20.448919Z"
    },
    "papermill": {
     "duration": 0.115501,
     "end_time": "2023-08-12T04:18:20.452727",
     "exception": false,
     "start_time": "2023-08-12T04:18:20.337226",
     "status": "completed"
    },
    "tags": []
   },
   "outputs": [],
   "source": [
    "# merged_train_labels = merged[\"sentiment\"]\n",
    "# merged_train_labels.shape"
   ]
  },
  {
   "cell_type": "markdown",
   "id": "c95fd547",
   "metadata": {
    "papermill": {
     "duration": 0.108022,
     "end_time": "2023-08-12T04:18:20.668503",
     "exception": false,
     "start_time": "2023-08-12T04:18:20.560481",
     "status": "completed"
    },
    "tags": []
   },
   "source": [
    "### Identify variable types for different preprocessing pipes  "
   ]
  },
  {
   "cell_type": "code",
   "execution_count": 203,
   "id": "b02ea249",
   "metadata": {
    "execution": {
     "iopub.execute_input": "2023-08-12T04:18:20.888163Z",
     "iopub.status.busy": "2023-08-12T04:18:20.887684Z",
     "iopub.status.idle": "2023-08-12T04:18:20.892158Z",
     "shell.execute_reply": "2023-08-12T04:18:20.891266Z"
    },
    "papermill": {
     "duration": 0.115559,
     "end_time": "2023-08-12T04:18:20.894252",
     "exception": false,
     "start_time": "2023-08-12T04:18:20.778693",
     "status": "completed"
    },
    "tags": []
   },
   "outputs": [],
   "source": [
    "# num_vars = [\"audienceScore\", \"runtimeMinutes\"]\n",
    "# txt_vars = [\"originalLanguage\", \"genre\", \"director\", \"reviewerName\", \"reviewText\"]\n",
    "# cat_vars = [\"rating\", \"isFrequentReviewer\"]"
   ]
  },
  {
   "cell_type": "code",
   "execution_count": 204,
   "id": "4f3b0fdd",
   "metadata": {
    "execution": {
     "iopub.execute_input": "2023-08-12T04:18:21.114609Z",
     "iopub.status.busy": "2023-08-12T04:18:21.114173Z",
     "iopub.status.idle": "2023-08-12T04:18:21.118450Z",
     "shell.execute_reply": "2023-08-12T04:18:21.117602Z"
    },
    "papermill": {
     "duration": 0.117333,
     "end_time": "2023-08-12T04:18:21.120784",
     "exception": false,
     "start_time": "2023-08-12T04:18:21.003451",
     "status": "completed"
    },
    "tags": []
   },
   "outputs": [],
   "source": [
    "# num_pipe = Pipeline(steps=[\n",
    "#                             (\"imputer\", SimpleImputer(strategy=\"mean\", missing_values=np.nan)),\n",
    "#                             (\"scaler\", MinMaxScaler())\n",
    "#                         ])\n",
    "# num_pipe"
   ]
  },
  {
   "cell_type": "code",
   "execution_count": 205,
   "id": "695f7567",
   "metadata": {
    "execution": {
     "iopub.execute_input": "2023-08-12T04:18:21.342128Z",
     "iopub.status.busy": "2023-08-12T04:18:21.341652Z",
     "iopub.status.idle": "2023-08-12T04:18:21.346587Z",
     "shell.execute_reply": "2023-08-12T04:18:21.345308Z"
    },
    "papermill": {
     "duration": 0.118071,
     "end_time": "2023-08-12T04:18:21.349397",
     "exception": false,
     "start_time": "2023-08-12T04:18:21.231326",
     "status": "completed"
    },
    "tags": []
   },
   "outputs": [],
   "source": [
    "# txt_pipe = Pipeline(steps=[\n",
    "#                             (\"tvec\", TfidfVectorizer())\n",
    "#                         ])\n",
    "# txt_pipe"
   ]
  },
  {
   "cell_type": "code",
   "execution_count": 206,
   "id": "182ee0d0",
   "metadata": {
    "execution": {
     "iopub.execute_input": "2023-08-12T04:18:21.569440Z",
     "iopub.status.busy": "2023-08-12T04:18:21.569014Z",
     "iopub.status.idle": "2023-08-12T04:18:21.573519Z",
     "shell.execute_reply": "2023-08-12T04:18:21.572371Z"
    },
    "papermill": {
     "duration": 0.118509,
     "end_time": "2023-08-12T04:18:21.575822",
     "exception": false,
     "start_time": "2023-08-12T04:18:21.457313",
     "status": "completed"
    },
    "tags": []
   },
   "outputs": [],
   "source": [
    "# cat_pipe = Pipeline(steps=[\n",
    "#                             (\"ohe\", OneHotEncoder(handle_unknown=\"ignore\"))\n",
    "#                         ])\n",
    "# cat_pipe"
   ]
  },
  {
   "cell_type": "code",
   "execution_count": 207,
   "id": "db9abb28",
   "metadata": {
    "execution": {
     "iopub.execute_input": "2023-08-12T04:18:21.805190Z",
     "iopub.status.busy": "2023-08-12T04:18:21.803877Z",
     "iopub.status.idle": "2023-08-12T04:18:21.808557Z",
     "shell.execute_reply": "2023-08-12T04:18:21.807705Z"
    },
    "papermill": {
     "duration": 0.124169,
     "end_time": "2023-08-12T04:18:21.810773",
     "exception": false,
     "start_time": "2023-08-12T04:18:21.686604",
     "status": "completed"
    },
    "tags": []
   },
   "outputs": [],
   "source": [
    "# tfidf_vec_1 = TfidfVectorizer(ngram_range=(1,2))\n",
    "# tfidf_vec_1"
   ]
  },
  {
   "cell_type": "code",
   "execution_count": 208,
   "id": "98cd8841",
   "metadata": {
    "execution": {
     "iopub.execute_input": "2023-08-12T04:18:22.032574Z",
     "iopub.status.busy": "2023-08-12T04:18:22.031516Z",
     "iopub.status.idle": "2023-08-12T04:18:22.036755Z",
     "shell.execute_reply": "2023-08-12T04:18:22.035922Z"
    },
    "papermill": {
     "duration": 0.120179,
     "end_time": "2023-08-12T04:18:22.039250",
     "exception": false,
     "start_time": "2023-08-12T04:18:21.919071",
     "status": "completed"
    },
    "tags": []
   },
   "outputs": [],
   "source": [
    "# ct_final = ColumnTransformer(transformers=[\n",
    "#                                         (\"num\", num_pipe, num_vars),\n",
    "#                                         (\"txt1\", txt_pipe, \"originalLanguage\"),\n",
    "#                                         (\"txt2\", txt_pipe, \"genre\"),\n",
    "#                                         (\"txt3\", txt_pipe, \"director\"),\n",
    "#                                         (\"cat\", cat_pipe, cat_vars),\n",
    "#                                         (\"txt4a\", tfidf_vec_1, \"reviewText\")\n",
    "# #                                         (\"txt4\", TfidfVectorizer(ngram_range=(1,2)), \"reviewText\"),\n",
    "# #                                         (\"cat2\", cat_pipe, [\"isFrequentReviewer\"])\n",
    "#                                         ], remainder=\"drop\", n_jobs=1)\n",
    "\n",
    "# # Note that this transformer drops \"movieid\" column and \"reviewerName\" column  \n",
    "# ct_final"
   ]
  },
  {
   "cell_type": "code",
   "execution_count": 209,
   "id": "4d532438",
   "metadata": {
    "execution": {
     "iopub.execute_input": "2023-08-12T04:18:22.262646Z",
     "iopub.status.busy": "2023-08-12T04:18:22.261886Z",
     "iopub.status.idle": "2023-08-12T04:18:22.266220Z",
     "shell.execute_reply": "2023-08-12T04:18:22.265251Z"
    },
    "papermill": {
     "duration": 0.120608,
     "end_time": "2023-08-12T04:18:22.268741",
     "exception": false,
     "start_time": "2023-08-12T04:18:22.148133",
     "status": "completed"
    },
    "tags": []
   },
   "outputs": [],
   "source": [
    "# pipe_final = Pipeline(steps=[\n",
    "#                         (\"preprocessor\", ct_final),\n",
    "#                         (\"model\", LogisticRegression(max_iter=100000))\n",
    "#                     ])\n",
    "# pipe_final"
   ]
  },
  {
   "cell_type": "code",
   "execution_count": 210,
   "id": "0a05d200",
   "metadata": {
    "execution": {
     "iopub.execute_input": "2023-08-12T04:18:22.487184Z",
     "iopub.status.busy": "2023-08-12T04:18:22.486698Z",
     "iopub.status.idle": "2023-08-12T04:18:22.491482Z",
     "shell.execute_reply": "2023-08-12T04:18:22.490206Z"
    },
    "papermill": {
     "duration": 0.116465,
     "end_time": "2023-08-12T04:18:22.493802",
     "exception": false,
     "start_time": "2023-08-12T04:18:22.377337",
     "status": "completed"
    },
    "tags": []
   },
   "outputs": [],
   "source": [
    "# final_vars = num_vars + txt_vars + cat_vars\n",
    "# len(final_vars), final_vars"
   ]
  },
  {
   "cell_type": "markdown",
   "id": "8cc24bec",
   "metadata": {
    "papermill": {
     "duration": 0.109931,
     "end_time": "2023-08-12T04:18:22.713437",
     "exception": false,
     "start_time": "2023-08-12T04:18:22.603506",
     "status": "completed"
    },
    "tags": []
   },
   "source": [
    "### Use \"split_train_predict\" function to run end-to-end pipeline  "
   ]
  },
  {
   "cell_type": "code",
   "execution_count": 211,
   "id": "76442647",
   "metadata": {
    "execution": {
     "iopub.execute_input": "2023-08-12T04:18:22.937758Z",
     "iopub.status.busy": "2023-08-12T04:18:22.937238Z",
     "iopub.status.idle": "2023-08-12T04:18:22.942096Z",
     "shell.execute_reply": "2023-08-12T04:18:22.941177Z"
    },
    "papermill": {
     "duration": 0.121551,
     "end_time": "2023-08-12T04:18:22.944511",
     "exception": false,
     "start_time": "2023-08-12T04:18:22.822960",
     "status": "completed"
    },
    "tags": []
   },
   "outputs": [],
   "source": [
    "# split_train_predict(merged_train_features, merged_train_labels, pipe_final, test_size=0.25, random_state=42)"
   ]
  },
  {
   "cell_type": "markdown",
   "id": "e3c8f729",
   "metadata": {
    "papermill": {
     "duration": 0.108009,
     "end_time": "2023-08-12T04:18:23.168994",
     "exception": false,
     "start_time": "2023-08-12T04:18:23.060985",
     "status": "completed"
    },
    "tags": []
   },
   "source": [
    "## Try the best four features obtained on local machine  "
   ]
  },
  {
   "cell_type": "code",
   "execution_count": 212,
   "id": "1108dcee",
   "metadata": {
    "execution": {
     "iopub.execute_input": "2023-08-12T04:18:23.390579Z",
     "iopub.status.busy": "2023-08-12T04:18:23.389675Z",
     "iopub.status.idle": "2023-08-12T04:18:23.394618Z",
     "shell.execute_reply": "2023-08-12T04:18:23.393468Z"
    },
    "papermill": {
     "duration": 0.116983,
     "end_time": "2023-08-12T04:18:23.397413",
     "exception": false,
     "start_time": "2023-08-12T04:18:23.280430",
     "status": "completed"
    },
    "tags": []
   },
   "outputs": [],
   "source": [
    "# tfidf_vec_2 = TfidfVectorizer(ngram_range=(1,2))\n",
    "# tfidf_vec_2"
   ]
  },
  {
   "cell_type": "code",
   "execution_count": 213,
   "id": "6801a1ee",
   "metadata": {
    "execution": {
     "iopub.execute_input": "2023-08-12T04:18:23.616390Z",
     "iopub.status.busy": "2023-08-12T04:18:23.615665Z",
     "iopub.status.idle": "2023-08-12T04:18:23.621297Z",
     "shell.execute_reply": "2023-08-12T04:18:23.619893Z"
    },
    "papermill": {
     "duration": 0.117839,
     "end_time": "2023-08-12T04:18:23.623891",
     "exception": false,
     "start_time": "2023-08-12T04:18:23.506052",
     "status": "completed"
    },
    "tags": []
   },
   "outputs": [],
   "source": [
    "# ct_best4 = ColumnTransformer(transformers=[\n",
    "#                                             (\"num\", num_pipe, [\"audienceScore\"]),\n",
    "#                                             (\"cat\", cat_pipe, [\"rating\", \"isFrequentReviewer\"]),\n",
    "#                                             (\"tvec\", tfidf_vec_2, \"reviewText\")\n",
    "#                             ])\n",
    "\n",
    "# pipe_best4 = Pipeline(steps=[\n",
    "#     (\"preprocessor\", ct_best4),\n",
    "#     (\"model\", LogisticRegression())\n",
    "# ])\n",
    "\n",
    "# pipe_best4.set_params(model__C=10, model__max_iter=100000)\n",
    "\n",
    "# pipe_best4"
   ]
  },
  {
   "cell_type": "code",
   "execution_count": 214,
   "id": "9f15d049",
   "metadata": {
    "execution": {
     "iopub.execute_input": "2023-08-12T04:18:23.844030Z",
     "iopub.status.busy": "2023-08-12T04:18:23.843556Z",
     "iopub.status.idle": "2023-08-12T04:18:23.848594Z",
     "shell.execute_reply": "2023-08-12T04:18:23.847414Z"
    },
    "papermill": {
     "duration": 0.118658,
     "end_time": "2023-08-12T04:18:23.851479",
     "exception": false,
     "start_time": "2023-08-12T04:18:23.732821",
     "status": "completed"
    },
    "tags": []
   },
   "outputs": [],
   "source": [
    "# split_train_predict(merged[[\"audienceScore\", \"rating\", \"isFrequentReviewer\", \"reviewText\"]], merged[\"sentiment\"], pipe_best4, test_size=0.25)"
   ]
  },
  {
   "cell_type": "markdown",
   "id": "f9badbb4",
   "metadata": {
    "papermill": {
     "duration": 0.111499,
     "end_time": "2023-08-12T04:18:24.073759",
     "exception": false,
     "start_time": "2023-08-12T04:18:23.962260",
     "status": "completed"
    },
    "tags": []
   },
   "source": [
    "## Try only 'reviewText' column  "
   ]
  },
  {
   "cell_type": "code",
   "execution_count": 215,
   "id": "c1b2e5af",
   "metadata": {
    "execution": {
     "iopub.execute_input": "2023-08-12T04:18:24.394409Z",
     "iopub.status.busy": "2023-08-12T04:18:24.393976Z",
     "iopub.status.idle": "2023-08-12T04:18:24.399623Z",
     "shell.execute_reply": "2023-08-12T04:18:24.398380Z"
    },
    "papermill": {
     "duration": 0.119646,
     "end_time": "2023-08-12T04:18:24.402136",
     "exception": false,
     "start_time": "2023-08-12T04:18:24.282490",
     "status": "completed"
    },
    "tags": []
   },
   "outputs": [],
   "source": [
    "# tfidf_vec_3 = TfidfVectorizer(ngram_range=(1,2))\n",
    "# tfidf_vec_3"
   ]
  },
  {
   "cell_type": "code",
   "execution_count": 216,
   "id": "34cee8f5",
   "metadata": {
    "execution": {
     "iopub.execute_input": "2023-08-12T04:18:24.621514Z",
     "iopub.status.busy": "2023-08-12T04:18:24.621069Z",
     "iopub.status.idle": "2023-08-12T04:18:24.625745Z",
     "shell.execute_reply": "2023-08-12T04:18:24.624858Z"
    },
    "papermill": {
     "duration": 0.116921,
     "end_time": "2023-08-12T04:18:24.627894",
     "exception": false,
     "start_time": "2023-08-12T04:18:24.510973",
     "status": "completed"
    },
    "tags": []
   },
   "outputs": [],
   "source": [
    "# ct_RTonly = ColumnTransformer(transformers=[\n",
    "#                                             ('txt', tfidf_vec_3, 'reviewText'),\n",
    "#                                             ], remainder='drop')\n",
    "# ct_RTonly"
   ]
  },
  {
   "cell_type": "code",
   "execution_count": 217,
   "id": "6fd86695",
   "metadata": {
    "execution": {
     "iopub.execute_input": "2023-08-12T04:18:24.846110Z",
     "iopub.status.busy": "2023-08-12T04:18:24.844842Z",
     "iopub.status.idle": "2023-08-12T04:18:24.850191Z",
     "shell.execute_reply": "2023-08-12T04:18:24.849116Z"
    },
    "papermill": {
     "duration": 0.116823,
     "end_time": "2023-08-12T04:18:24.852566",
     "exception": false,
     "start_time": "2023-08-12T04:18:24.735743",
     "status": "completed"
    },
    "tags": []
   },
   "outputs": [],
   "source": [
    "# pipe_RTonly = Pipeline(steps=[\n",
    "#     (\"preprocessor\", ct_RTonly),\n",
    "#     (\"model\", LogisticRegression())\n",
    "# ])\n",
    "\n",
    "# pipe_RTonly.set_params(model__C=10, model__max_iter=100000)\n",
    "\n",
    "# pipe_RTonly"
   ]
  },
  {
   "cell_type": "markdown",
   "id": "2c81ce03",
   "metadata": {
    "papermill": {
     "duration": 0.111972,
     "end_time": "2023-08-12T04:18:25.073135",
     "exception": false,
     "start_time": "2023-08-12T04:18:24.961163",
     "status": "completed"
    },
    "tags": []
   },
   "source": [
    "## Using the 'submit_v4' function  "
   ]
  },
  {
   "cell_type": "markdown",
   "id": "c0d14342",
   "metadata": {
    "papermill": {
     "duration": 0.107929,
     "end_time": "2023-08-12T04:18:25.290605",
     "exception": false,
     "start_time": "2023-08-12T04:18:25.182676",
     "status": "completed"
    },
    "tags": []
   },
   "source": [
    "### Try the best 4 parameters with submit_v4 function"
   ]
  },
  {
   "cell_type": "code",
   "execution_count": 218,
   "id": "4266170c",
   "metadata": {
    "execution": {
     "iopub.execute_input": "2023-08-12T04:18:25.510005Z",
     "iopub.status.busy": "2023-08-12T04:18:25.509539Z",
     "iopub.status.idle": "2023-08-12T04:18:25.514917Z",
     "shell.execute_reply": "2023-08-12T04:18:25.513688Z"
    },
    "papermill": {
     "duration": 0.11798,
     "end_time": "2023-08-12T04:18:25.517625",
     "exception": false,
     "start_time": "2023-08-12T04:18:25.399645",
     "status": "completed"
    },
    "tags": []
   },
   "outputs": [],
   "source": [
    "# best4 = [\"audienceScore\", \"rating\", \"isFrequentReviewer\", \"reviewText\"]\n",
    "\n",
    "# best4_dict = {'cat': [\"rating\", \"isFrequentReviewer\"],\n",
    "#              'num': [\"audienceScore\"],\n",
    "#              'txt': ['reviewText']}\n",
    "\n",
    "# best4_dict = {'num': [\"audienceScore\"],\n",
    "#              'txt': ['reviewText', 'movieid', 'director']}\n",
    "\n",
    "# best4_dict"
   ]
  },
  {
   "cell_type": "code",
   "execution_count": 219,
   "id": "e1456736",
   "metadata": {
    "execution": {
     "iopub.execute_input": "2023-08-12T04:18:25.740128Z",
     "iopub.status.busy": "2023-08-12T04:18:25.739618Z",
     "iopub.status.idle": "2023-08-12T04:18:25.744537Z",
     "shell.execute_reply": "2023-08-12T04:18:25.743260Z"
    },
    "papermill": {
     "duration": 0.120624,
     "end_time": "2023-08-12T04:18:25.747000",
     "exception": false,
     "start_time": "2023-08-12T04:18:25.626376",
     "status": "completed"
    },
    "tags": []
   },
   "outputs": [],
   "source": [
    "# submit_v4(selected_features=best4_dict)"
   ]
  },
  {
   "cell_type": "markdown",
   "id": "3ad43b6a",
   "metadata": {
    "papermill": {
     "duration": 0.130468,
     "end_time": "2023-08-12T04:18:25.986695",
     "exception": false,
     "start_time": "2023-08-12T04:18:25.856227",
     "status": "completed"
    },
    "tags": []
   },
   "source": [
    "### Try the best 3 parameters with submit_v4 function"
   ]
  },
  {
   "cell_type": "code",
   "execution_count": 220,
   "id": "2819f493",
   "metadata": {
    "execution": {
     "iopub.execute_input": "2023-08-12T04:18:26.214806Z",
     "iopub.status.busy": "2023-08-12T04:18:26.214356Z",
     "iopub.status.idle": "2023-08-12T04:18:26.219682Z",
     "shell.execute_reply": "2023-08-12T04:18:26.218326Z"
    },
    "papermill": {
     "duration": 0.124451,
     "end_time": "2023-08-12T04:18:26.222650",
     "exception": false,
     "start_time": "2023-08-12T04:18:26.098199",
     "status": "completed"
    },
    "tags": []
   },
   "outputs": [],
   "source": [
    "# best3 = [\"audienceScore\", \"isFrequentReviewer\", \"reviewText\"]\n",
    "# best3_dict = {'cat': [\"isFrequentReviewer\"],\n",
    "#              'num': [\"audienceScore\"],\n",
    "#              'txt': ['reviewText']}\n",
    "# best3_dict"
   ]
  },
  {
   "cell_type": "code",
   "execution_count": 221,
   "id": "7bc3d6bb",
   "metadata": {
    "execution": {
     "iopub.execute_input": "2023-08-12T04:18:26.444037Z",
     "iopub.status.busy": "2023-08-12T04:18:26.443569Z",
     "iopub.status.idle": "2023-08-12T04:18:26.448524Z",
     "shell.execute_reply": "2023-08-12T04:18:26.447112Z"
    },
    "papermill": {
     "duration": 0.117964,
     "end_time": "2023-08-12T04:18:26.451174",
     "exception": false,
     "start_time": "2023-08-12T04:18:26.333210",
     "status": "completed"
    },
    "tags": []
   },
   "outputs": [],
   "source": [
    "# submit_v4(selected_features=best3_dict)"
   ]
  },
  {
   "cell_type": "markdown",
   "id": "57343ca1",
   "metadata": {
    "papermill": {
     "duration": 0.108543,
     "end_time": "2023-08-12T04:18:26.667650",
     "exception": false,
     "start_time": "2023-08-12T04:18:26.559107",
     "status": "completed"
    },
    "tags": []
   },
   "source": [
    "## Try throwing almost everything (no boxOffice) at submit_v4!  "
   ]
  },
  {
   "cell_type": "code",
   "execution_count": 222,
   "id": "c5b3cdf9",
   "metadata": {
    "execution": {
     "iopub.execute_input": "2023-08-12T04:18:26.894635Z",
     "iopub.status.busy": "2023-08-12T04:18:26.894145Z",
     "iopub.status.idle": "2023-08-12T04:18:26.901297Z",
     "shell.execute_reply": "2023-08-12T04:18:26.900337Z"
    },
    "papermill": {
     "duration": 0.125238,
     "end_time": "2023-08-12T04:18:26.903843",
     "exception": false,
     "start_time": "2023-08-12T04:18:26.778605",
     "status": "completed"
    },
    "tags": []
   },
   "outputs": [
    {
     "data": {
      "text/plain": [
       "\"Most from merged = ['movieid', 'reviewerName', 'isFrequentReviewer', 'reviewText',\\n       'audienceScore', 'rating', 'runtimeMinutes', 'genre', \\n       'originalLanguage', 'director']\""
      ]
     },
     "execution_count": 222,
     "metadata": {},
     "output_type": "execute_result"
    }
   ],
   "source": [
    "\"\"\"Most from merged = ['movieid', 'reviewerName', 'isFrequentReviewer', 'reviewText',\n",
    "       'audienceScore', 'rating', 'runtimeMinutes', 'genre', \n",
    "       'originalLanguage', 'director']\"\"\"\n",
    "\n",
    "# almost_dict = {'cat': [\"isFrequentReviewer\", \"rating\", \"originalLanguage\"],\n",
    "#              'num': [\"audienceScore\", \"runtimeMinutes\"],\n",
    "#              'txt': ['reviewText', 'reviewerName', 'movieid', 'genre', 'director']}\n",
    "# almost_dict"
   ]
  },
  {
   "cell_type": "code",
   "execution_count": 223,
   "id": "f59f1d47",
   "metadata": {
    "execution": {
     "iopub.execute_input": "2023-08-12T04:18:27.131345Z",
     "iopub.status.busy": "2023-08-12T04:18:27.130883Z",
     "iopub.status.idle": "2023-08-12T04:18:27.135824Z",
     "shell.execute_reply": "2023-08-12T04:18:27.134652Z"
    },
    "papermill": {
     "duration": 0.12075,
     "end_time": "2023-08-12T04:18:27.138310",
     "exception": false,
     "start_time": "2023-08-12T04:18:27.017560",
     "status": "completed"
    },
    "tags": []
   },
   "outputs": [],
   "source": [
    "# submit_v4(selected_features=almost_dict)"
   ]
  },
  {
   "cell_type": "markdown",
   "id": "dcc7e488",
   "metadata": {
    "papermill": {
     "duration": 0.110483,
     "end_time": "2023-08-12T04:18:27.363344",
     "exception": false,
     "start_time": "2023-08-12T04:18:27.252861",
     "status": "completed"
    },
    "tags": []
   },
   "source": [
    "## Try throwing everything possible at submit_v4!  "
   ]
  },
  {
   "cell_type": "code",
   "execution_count": 224,
   "id": "13f09446",
   "metadata": {
    "execution": {
     "iopub.execute_input": "2023-08-12T04:18:27.586479Z",
     "iopub.status.busy": "2023-08-12T04:18:27.586041Z",
     "iopub.status.idle": "2023-08-12T04:18:27.593971Z",
     "shell.execute_reply": "2023-08-12T04:18:27.592829Z"
    },
    "papermill": {
     "duration": 0.120657,
     "end_time": "2023-08-12T04:18:27.596550",
     "exception": false,
     "start_time": "2023-08-12T04:18:27.475893",
     "status": "completed"
    },
    "tags": []
   },
   "outputs": [
    {
     "data": {
      "text/plain": [
       "\"All from merged = ['movieid', 'reviewerName', 'isFrequentReviewer', 'reviewText',\\n       'audienceScore', 'rating', 'runtimeMinutes', 'genre', 'boxOffice',\\n       'originalLanguage', 'director']\""
      ]
     },
     "execution_count": 224,
     "metadata": {},
     "output_type": "execute_result"
    }
   ],
   "source": [
    "\"\"\"All from merged = ['movieid', 'reviewerName', 'isFrequentReviewer', 'reviewText',\n",
    "       'audienceScore', 'rating', 'runtimeMinutes', 'genre', 'boxOffice',\n",
    "       'originalLanguage', 'director']\"\"\"\n",
    "\n",
    "# all_dict = {'cat': [\"isFrequentReviewer\", \"rating\", \"originalLanguage\"],\n",
    "#              'num': [\"audienceScore\", \"runtimeMinutes\", \"boxOffice\"],\n",
    "#              'txt': ['reviewText', 'reviewerName', 'movieid', 'genre', 'director']}\n",
    "# all_dict"
   ]
  },
  {
   "cell_type": "code",
   "execution_count": 225,
   "id": "e6c49438",
   "metadata": {
    "execution": {
     "iopub.execute_input": "2023-08-12T04:18:27.817080Z",
     "iopub.status.busy": "2023-08-12T04:18:27.816599Z",
     "iopub.status.idle": "2023-08-12T04:18:27.821798Z",
     "shell.execute_reply": "2023-08-12T04:18:27.820545Z"
    },
    "papermill": {
     "duration": 0.117779,
     "end_time": "2023-08-12T04:18:27.824224",
     "exception": false,
     "start_time": "2023-08-12T04:18:27.706445",
     "status": "completed"
    },
    "tags": []
   },
   "outputs": [],
   "source": [
    "# submit_v4(selected_features=all_dict)"
   ]
  },
  {
   "cell_type": "markdown",
   "id": "05561618",
   "metadata": {
    "papermill": {
     "duration": 0.111991,
     "end_time": "2023-08-12T04:18:28.044903",
     "exception": false,
     "start_time": "2023-08-12T04:18:27.932912",
     "status": "completed"
    },
    "tags": []
   },
   "source": [
    "## Try GridSearchCV on everything  "
   ]
  },
  {
   "cell_type": "code",
   "execution_count": 226,
   "id": "e5b985d2",
   "metadata": {
    "execution": {
     "iopub.execute_input": "2023-08-12T04:18:28.265514Z",
     "iopub.status.busy": "2023-08-12T04:18:28.265084Z",
     "iopub.status.idle": "2023-08-12T04:18:28.271144Z",
     "shell.execute_reply": "2023-08-12T04:18:28.269847Z"
    },
    "papermill": {
     "duration": 0.120648,
     "end_time": "2023-08-12T04:18:28.273795",
     "exception": false,
     "start_time": "2023-08-12T04:18:28.153147",
     "status": "completed"
    },
    "tags": []
   },
   "outputs": [],
   "source": [
    "# param_grid = {\n",
    "#     \"model__C\": [0.5, 2, 5, 15]\n",
    "# }\n",
    "\n",
    "# param_grid = {\n",
    "#     'model__C' : [1, 5],\n",
    "#     'model__solver': ['lbfgs', 'liblinear', 'newton-cg', 'newton-cholesky', 'sag', 'saga']\n",
    "# }\n",
    "\n",
    "# param_grid = {\n",
    "#     'model__C' : [1, 5],\n",
    "#     'model__solver': ['lbfgs', 'liblinear', 'sag', 'saga']\n",
    "# }\n",
    "\n",
    "# param_grid = {\n",
    "#     'model__C' : [1, 5, 10, 15],\n",
    "#     'model__solver': ['lbfgs', 'liblinear', 'saga', 'newton-cg']\n",
    "# }\n",
    "\n",
    "# param_grid = {\n",
    "#     'model__C' : [1, 5, 10, 20],\n",
    "#     'model__solver': ['lbfgs', 'liblinear', 'saga']\n",
    "# }\n",
    "\n",
    "# param_grid"
   ]
  },
  {
   "cell_type": "code",
   "execution_count": 227,
   "id": "9982b9db",
   "metadata": {
    "execution": {
     "iopub.execute_input": "2023-08-12T04:18:28.491766Z",
     "iopub.status.busy": "2023-08-12T04:18:28.491347Z",
     "iopub.status.idle": "2023-08-12T04:18:28.496165Z",
     "shell.execute_reply": "2023-08-12T04:18:28.494854Z"
    },
    "papermill": {
     "duration": 0.116678,
     "end_time": "2023-08-12T04:18:28.498524",
     "exception": false,
     "start_time": "2023-08-12T04:18:28.381846",
     "status": "completed"
    },
    "tags": []
   },
   "outputs": [],
   "source": [
    "# submit_v4(selected_features={'txt': [\"genre\"]}, param_grid=param_grid)"
   ]
  },
  {
   "cell_type": "code",
   "execution_count": 228,
   "id": "ed633a84",
   "metadata": {
    "execution": {
     "iopub.execute_input": "2023-08-12T04:18:28.719721Z",
     "iopub.status.busy": "2023-08-12T04:18:28.719276Z",
     "iopub.status.idle": "2023-08-12T04:18:28.727543Z",
     "shell.execute_reply": "2023-08-12T04:18:28.726569Z"
    },
    "papermill": {
     "duration": 0.119395,
     "end_time": "2023-08-12T04:18:28.729803",
     "exception": false,
     "start_time": "2023-08-12T04:18:28.610408",
     "status": "completed"
    },
    "tags": []
   },
   "outputs": [
    {
     "data": {
      "text/plain": [
       "\"Used 'groupby' function instead on 'drop_duplicates' on movies.csv file. \\nIt reduced the number of missing values significantly! \\nThen used LogisticRegression() with GridSearchCV on submit_v4 function with \\nparam_grid={'model__C': [1, 5, 10], 'model__solver': ['lbfgs', 'liblinear', 'saga']}. \\nThe best f1_micro score in GridSearchCV was 0.8399771362056203 which is highest among \\nall the versions so far. Best C was 5 and best solver was 'saga'.\\nScore obtained was 0.84385 which is lower than 0.84441.\""
      ]
     },
     "execution_count": 228,
     "metadata": {},
     "output_type": "execute_result"
    }
   ],
   "source": [
    "# submit_v4(selected_features=all_dict, param_grid=param_grid)\n",
    "\n",
    "# Best C was 5\n",
    "# Best solver was liblinear\n",
    "\n",
    "\"\"\"Used 'groupby' function instead on 'drop_duplicates' on movies.csv file. \n",
    "It reduced the number of missing values significantly! \n",
    "Then used LogisticRegression() with GridSearchCV on submit_v4 function with \n",
    "param_grid={'model__C': [1, 5, 10], 'model__solver': ['lbfgs', 'liblinear', 'saga']}. \n",
    "The best f1_micro score in GridSearchCV was 0.8399771362056203 which is highest among \n",
    "all the versions so far. Best C was 5 and best solver was 'saga'.\n",
    "Score obtained was 0.84385 which is lower than 0.84441.\"\"\""
   ]
  },
  {
   "cell_type": "code",
   "execution_count": 229,
   "id": "07818096",
   "metadata": {
    "execution": {
     "iopub.execute_input": "2023-08-12T04:18:28.950571Z",
     "iopub.status.busy": "2023-08-12T04:18:28.949905Z",
     "iopub.status.idle": "2023-08-12T04:18:28.954133Z",
     "shell.execute_reply": "2023-08-12T04:18:28.953182Z"
    },
    "papermill": {
     "duration": 0.118589,
     "end_time": "2023-08-12T04:18:28.956382",
     "exception": false,
     "start_time": "2023-08-12T04:18:28.837793",
     "status": "completed"
    },
    "tags": []
   },
   "outputs": [],
   "source": [
    "# Best 5 parameters\n",
    "\n",
    "# best5_dict = {'num': [\"audienceScore\"],\n",
    "#              'txt': ['reviewText', 'reviewerName','movieid', 'director']}\n",
    "\n",
    "# best5_dict"
   ]
  },
  {
   "cell_type": "code",
   "execution_count": 230,
   "id": "43355dd0",
   "metadata": {
    "execution": {
     "iopub.execute_input": "2023-08-12T04:18:29.179757Z",
     "iopub.status.busy": "2023-08-12T04:18:29.179305Z",
     "iopub.status.idle": "2023-08-12T04:18:29.188920Z",
     "shell.execute_reply": "2023-08-12T04:18:29.187631Z"
    },
    "papermill": {
     "duration": 0.123504,
     "end_time": "2023-08-12T04:18:29.192052",
     "exception": false,
     "start_time": "2023-08-12T04:18:29.068548",
     "status": "completed"
    },
    "tags": []
   },
   "outputs": [
    {
     "data": {
      "text/plain": [
       "\"(Update): Used both CountVectorizer and TfidfVectorizer on a massive GridSearchCV \\nwhich took 22527.2s  (6.25 hrs) to run! Gave a score of 0.8439093822800923 locally and did not overfit!\\nBest params: {'model__C': 1, 'model__solver': 'liblinear'}.\\nHighest public score yet: 0.84591 (Rank up from 9 to 5!)\""
      ]
     },
     "execution_count": 230,
     "metadata": {},
     "output_type": "execute_result"
    }
   ],
   "source": [
    "# Submit best 5 features\n",
    "\n",
    "\"\"\"(Update): Used both CountVectorizer and TfidfVectorizer on a massive GridSearchCV \n",
    "which took 22527.2s  (6.25 hrs) to run! Gave a score of 0.8439093822800923 locally and did not overfit!\n",
    "Best params: {'model__C': 1, 'model__solver': 'liblinear'}.\n",
    "Highest public score yet: 0.84591 (Rank up from 9 to 5!)\"\"\"\n",
    "\n",
    "# param_grid = {\n",
    "#     'model__C' : [5, 10, 15],\n",
    "#     'model__solver': ['lbfgs', 'liblinear', 'saga']\n",
    "# }\n",
    "\n",
    "\n",
    "# Try new param_grid with fit_intercept and dual in logreg\n",
    "\n",
    "# param_grid = {\n",
    "#     'model__C' : [1],\n",
    "#     'model__solver': ['liblinear'],\n",
    "#     \"model__fit_intercept\" : [True, False],\n",
    "#     \"model__dual\" : [True, False] \n",
    "# }\n",
    "\n",
    "\n",
    "# Local testing  \n",
    "# submit_v4(selected_features={'num': ['audienceScore']},\n",
    "#          add_countvec=True)\n",
    "\n",
    "# submit_v4(selected_features={'num': ['audienceScore']},\n",
    "#          add_countvec=True, \n",
    "#           param_grid=param_grid)\n",
    "\n",
    "\n",
    "# Main submission\n",
    "\n",
    "# submit_v4(selected_features=best5_dict,\n",
    "#          add_countvec=True)\n",
    "\n",
    "\n",
    "# submit_v4(selected_features=best5_dict,\n",
    "#           add_countvec=True,\n",
    "#           param_grid=param_grid)"
   ]
  },
  {
   "cell_type": "code",
   "execution_count": 231,
   "id": "b117c0ac",
   "metadata": {
    "execution": {
     "iopub.execute_input": "2023-08-12T04:18:29.422618Z",
     "iopub.status.busy": "2023-08-12T04:18:29.422209Z",
     "iopub.status.idle": "2023-08-12T04:18:29.428627Z",
     "shell.execute_reply": "2023-08-12T04:18:29.427598Z"
    },
    "papermill": {
     "duration": 0.122536,
     "end_time": "2023-08-12T04:18:29.430962",
     "exception": false,
     "start_time": "2023-08-12T04:18:29.308426",
     "status": "completed"
    },
    "tags": []
   },
   "outputs": [],
   "source": [
    "## ALL DICT cv=10\n",
    "\n",
    "# all_dict = {'cat': [\"isFrequentReviewer\", \"rating\", \"originalLanguage\"],\n",
    "#              'num': [\"audienceScore\", \"runtimeMinutes\", \"boxOffice\"],\n",
    "#              'txt': ['reviewText', 'reviewerName', 'movieid', 'genre', 'director']}\n",
    "# print(all_dict)\n",
    "\n",
    "# param_grid = {\n",
    "#     'model__C' : [2, 5, 10],\n",
    "#     'model__solver': ['lbfgs', 'liblinear', 'saga']\n",
    "# }\n",
    "# print(param_grid)\n",
    "\n",
    "# param_grid = {\n",
    "#     'model__C' : [1, 5, 10],\n",
    "#     'model__solver': ['liblinear'],\n",
    "#     \"model__fit_intercept\" : [True, False],\n",
    "#     \"model__dual\" : [True, False] \n",
    "# }\n",
    "\n",
    "\n",
    "# Main submission\n",
    "\n",
    "# submit_v4(selected_model=LogisticRegression(C=5, solver='liblinear', max_iter=10000),\n",
    "#           selected_features=all_dict,\n",
    "#           param_grid=param_grid)\n",
    "\n",
    "# submit_v4(selected_features=all_dict,\n",
    "#           add_countvec=True,\n",
    "#           param_grid=param_grid)"
   ]
  },
  {
   "cell_type": "code",
   "execution_count": 232,
   "id": "c5eedd1d",
   "metadata": {
    "execution": {
     "iopub.execute_input": "2023-08-12T04:18:29.651176Z",
     "iopub.status.busy": "2023-08-12T04:18:29.650384Z",
     "iopub.status.idle": "2023-08-12T04:18:29.655519Z",
     "shell.execute_reply": "2023-08-12T04:18:29.654348Z"
    },
    "papermill": {
     "duration": 0.118607,
     "end_time": "2023-08-12T04:18:29.658306",
     "exception": false,
     "start_time": "2023-08-12T04:18:29.539699",
     "status": "completed"
    },
    "tags": []
   },
   "outputs": [],
   "source": [
    "# Best 6 parameters\n",
    "\n",
    "# best6_dict = {'cat': [\"isFrequentReviewer\"],\n",
    "#              'num': [\"audienceScore\"],\n",
    "#              'txt': ['reviewText', 'reviewerName', 'genre', 'director']}\n",
    "\n",
    "# best6_dict = {'num': [\"audienceScore\"],\n",
    "#              'txt': ['reviewText', 'reviewerName', 'genre','movieid', 'director']}\n",
    "\n",
    "# best6_dict"
   ]
  },
  {
   "cell_type": "code",
   "execution_count": 233,
   "id": "e6342638",
   "metadata": {
    "execution": {
     "iopub.execute_input": "2023-08-12T04:18:29.880418Z",
     "iopub.status.busy": "2023-08-12T04:18:29.879634Z",
     "iopub.status.idle": "2023-08-12T04:18:29.883735Z",
     "shell.execute_reply": "2023-08-12T04:18:29.882929Z"
    },
    "papermill": {
     "duration": 0.11661,
     "end_time": "2023-08-12T04:18:29.886052",
     "exception": false,
     "start_time": "2023-08-12T04:18:29.769442",
     "status": "completed"
    },
    "tags": []
   },
   "outputs": [],
   "source": [
    "# Submit best 6 features (version 2)\n",
    "\n",
    "# submit_v4(selected_features=best6_dict,\n",
    "#           param_grid=param_grid)"
   ]
  },
  {
   "cell_type": "code",
   "execution_count": 234,
   "id": "d41616de",
   "metadata": {
    "execution": {
     "iopub.execute_input": "2023-08-12T04:18:30.109040Z",
     "iopub.status.busy": "2023-08-12T04:18:30.108235Z",
     "iopub.status.idle": "2023-08-12T04:18:30.112831Z",
     "shell.execute_reply": "2023-08-12T04:18:30.111963Z"
    },
    "papermill": {
     "duration": 0.119946,
     "end_time": "2023-08-12T04:18:30.115433",
     "exception": false,
     "start_time": "2023-08-12T04:18:29.995487",
     "status": "completed"
    },
    "tags": []
   },
   "outputs": [],
   "source": [
    "# Best 7 parameters\n",
    "\n",
    "# best7_dict = {'cat': [\"isFrequentReviewer\"],\n",
    "#              'num': [\"audienceScore\"],\n",
    "#              'txt': ['reviewText', 'reviewerName', 'movieid', 'genre', 'director']}\n",
    "# best7_dict"
   ]
  },
  {
   "cell_type": "code",
   "execution_count": 235,
   "id": "59760991",
   "metadata": {
    "execution": {
     "iopub.execute_input": "2023-08-12T04:18:30.337091Z",
     "iopub.status.busy": "2023-08-12T04:18:30.336279Z",
     "iopub.status.idle": "2023-08-12T04:18:30.340481Z",
     "shell.execute_reply": "2023-08-12T04:18:30.339642Z"
    },
    "papermill": {
     "duration": 0.116584,
     "end_time": "2023-08-12T04:18:30.342892",
     "exception": false,
     "start_time": "2023-08-12T04:18:30.226308",
     "status": "completed"
    },
    "tags": []
   },
   "outputs": [],
   "source": [
    "# Submit best 7 features\n",
    "\n",
    "# submit_v4(selected_features=best7_dict,\n",
    "#           param_grid=param_grid)"
   ]
  },
  {
   "cell_type": "code",
   "execution_count": 236,
   "id": "49fba2a2",
   "metadata": {
    "execution": {
     "iopub.execute_input": "2023-08-12T04:18:30.562744Z",
     "iopub.status.busy": "2023-08-12T04:18:30.561963Z",
     "iopub.status.idle": "2023-08-12T04:18:30.566159Z",
     "shell.execute_reply": "2023-08-12T04:18:30.565324Z"
    },
    "papermill": {
     "duration": 0.117075,
     "end_time": "2023-08-12T04:18:30.568497",
     "exception": false,
     "start_time": "2023-08-12T04:18:30.451422",
     "status": "completed"
    },
    "tags": []
   },
   "outputs": [],
   "source": [
    "# submit_v4(selected_features=best6_dict, param_grid=param_grid)"
   ]
  },
  {
   "cell_type": "markdown",
   "id": "2d78557a",
   "metadata": {
    "papermill": {
     "duration": 0.111324,
     "end_time": "2023-08-12T04:18:30.788418",
     "exception": false,
     "start_time": "2023-08-12T04:18:30.677094",
     "status": "completed"
    },
    "tags": []
   },
   "source": [
    "## Try a new feature dict  \n",
    "\n"
   ]
  },
  {
   "cell_type": "code",
   "execution_count": 237,
   "id": "34f16bda",
   "metadata": {
    "execution": {
     "iopub.execute_input": "2023-08-12T04:18:31.018409Z",
     "iopub.status.busy": "2023-08-12T04:18:31.017882Z",
     "iopub.status.idle": "2023-08-12T04:18:31.022500Z",
     "shell.execute_reply": "2023-08-12T04:18:31.021611Z"
    },
    "papermill": {
     "duration": 0.122146,
     "end_time": "2023-08-12T04:18:31.024648",
     "exception": false,
     "start_time": "2023-08-12T04:18:30.902502",
     "status": "completed"
    },
    "tags": []
   },
   "outputs": [],
   "source": [
    "# all_dict_new = {'cat': [\"isFrequentReviewer\", \"rating\", \"originalLanguage\"],\n",
    "#              'num': [\"audienceScore\", \"runtimeMinutes\", \"boxOffice\"],\n",
    "#              'txt': ['reviewText', \"reviewerName\", 'movieid', 'genre', 'director']}\n",
    "# all_dict_new"
   ]
  },
  {
   "cell_type": "code",
   "execution_count": 238,
   "id": "346779aa",
   "metadata": {
    "execution": {
     "iopub.execute_input": "2023-08-12T04:18:31.250690Z",
     "iopub.status.busy": "2023-08-12T04:18:31.249897Z",
     "iopub.status.idle": "2023-08-12T04:18:31.254360Z",
     "shell.execute_reply": "2023-08-12T04:18:31.253296Z"
    },
    "papermill": {
     "duration": 0.121232,
     "end_time": "2023-08-12T04:18:31.257087",
     "exception": false,
     "start_time": "2023-08-12T04:18:31.135855",
     "status": "completed"
    },
    "tags": []
   },
   "outputs": [],
   "source": [
    "# submit_v4(selected_features={'txt': ['genre']}, param_grid=param_grid)"
   ]
  },
  {
   "cell_type": "code",
   "execution_count": 239,
   "id": "295c6ed1",
   "metadata": {
    "execution": {
     "iopub.execute_input": "2023-08-12T04:18:31.478711Z",
     "iopub.status.busy": "2023-08-12T04:18:31.478261Z",
     "iopub.status.idle": "2023-08-12T04:18:31.483482Z",
     "shell.execute_reply": "2023-08-12T04:18:31.482169Z"
    },
    "papermill": {
     "duration": 0.118816,
     "end_time": "2023-08-12T04:18:31.486098",
     "exception": false,
     "start_time": "2023-08-12T04:18:31.367282",
     "status": "completed"
    },
    "tags": []
   },
   "outputs": [],
   "source": [
    "# submit_v4(selected_features=all_dict_new, param_grid=param_grid)"
   ]
  },
  {
   "cell_type": "code",
   "execution_count": 240,
   "id": "5cd61fe0",
   "metadata": {
    "execution": {
     "iopub.execute_input": "2023-08-12T04:18:31.803273Z",
     "iopub.status.busy": "2023-08-12T04:18:31.802765Z",
     "iopub.status.idle": "2023-08-12T04:18:31.807857Z",
     "shell.execute_reply": "2023-08-12T04:18:31.806751Z"
    },
    "papermill": {
     "duration": 0.118205,
     "end_time": "2023-08-12T04:18:31.810405",
     "exception": false,
     "start_time": "2023-08-12T04:18:31.692200",
     "status": "completed"
    },
    "tags": []
   },
   "outputs": [],
   "source": [
    "# Try non-text based columns\n",
    "# num_cat_dict = {'cat': ['isFrequentReviewer', 'rating', 'originalLanguage'],\n",
    "#  'num': ['audienceScore', 'runtimeMinutes', 'boxOffice']}\n",
    "# num_cat_dict"
   ]
  },
  {
   "cell_type": "code",
   "execution_count": 241,
   "id": "07fcdda2",
   "metadata": {
    "execution": {
     "iopub.execute_input": "2023-08-12T04:18:32.036699Z",
     "iopub.status.busy": "2023-08-12T04:18:32.036287Z",
     "iopub.status.idle": "2023-08-12T04:18:32.041877Z",
     "shell.execute_reply": "2023-08-12T04:18:32.040513Z"
    },
    "papermill": {
     "duration": 0.124097,
     "end_time": "2023-08-12T04:18:32.044713",
     "exception": false,
     "start_time": "2023-08-12T04:18:31.920616",
     "status": "completed"
    },
    "tags": []
   },
   "outputs": [],
   "source": [
    "# Use num_cat_dict features\n",
    "# (Update): Gets a local score of 0.7027181356991726. Not great.\n",
    "# submit_v4(selected_model=LogisticRegression(max_iter=100000), selected_features=num_cat_dict, param_grid=param_grid)"
   ]
  },
  {
   "cell_type": "code",
   "execution_count": 242,
   "id": "36a4ddb2",
   "metadata": {
    "execution": {
     "iopub.execute_input": "2023-08-12T04:18:32.270525Z",
     "iopub.status.busy": "2023-08-12T04:18:32.270109Z",
     "iopub.status.idle": "2023-08-12T04:18:32.276044Z",
     "shell.execute_reply": "2023-08-12T04:18:32.274554Z"
    },
    "papermill": {
     "duration": 0.121082,
     "end_time": "2023-08-12T04:18:32.278699",
     "exception": false,
     "start_time": "2023-08-12T04:18:32.157617",
     "status": "completed"
    },
    "tags": []
   },
   "outputs": [],
   "source": [
    "# Try data other than reviewText\n",
    "\n",
    "# mov_dict = {'cat': ['rating', 'originalLanguage'],\n",
    "#  'num': ['audienceScore', 'runtimeMinutes', 'boxOffice'],\n",
    "#  'txt': ['movieid', 'genre', 'director']}\n",
    "# mov_dict"
   ]
  },
  {
   "cell_type": "code",
   "execution_count": 243,
   "id": "6c45234e",
   "metadata": {
    "execution": {
     "iopub.execute_input": "2023-08-12T04:18:32.505805Z",
     "iopub.status.busy": "2023-08-12T04:18:32.505388Z",
     "iopub.status.idle": "2023-08-12T04:18:32.509462Z",
     "shell.execute_reply": "2023-08-12T04:18:32.508547Z"
    },
    "papermill": {
     "duration": 0.121807,
     "end_time": "2023-08-12T04:18:32.511586",
     "exception": false,
     "start_time": "2023-08-12T04:18:32.389779",
     "status": "completed"
    },
    "tags": []
   },
   "outputs": [],
   "source": [
    "# Use mov_dict features\n",
    "# (Update): Gets a local score of 0.7475454316469369, which is not bad at all.\n",
    "# submit_v4(selected_model=LogisticRegression(max_iter=100000), selected_features=mov_dict, param_grid=param_grid)"
   ]
  },
  {
   "cell_type": "markdown",
   "id": "1e8f6af0",
   "metadata": {
    "papermill": {
     "duration": 0.109628,
     "end_time": "2023-08-12T04:18:32.732065",
     "exception": false,
     "start_time": "2023-08-12T04:18:32.622437",
     "status": "completed"
    },
    "tags": []
   },
   "source": [
    "# Try a new column 'reviewYN'  \n",
    "\n"
   ]
  },
  {
   "cell_type": "code",
   "execution_count": 244,
   "id": "c0614d52",
   "metadata": {
    "execution": {
     "iopub.execute_input": "2023-08-12T04:18:32.952148Z",
     "iopub.status.busy": "2023-08-12T04:18:32.951680Z",
     "iopub.status.idle": "2023-08-12T04:18:32.956157Z",
     "shell.execute_reply": "2023-08-12T04:18:32.955275Z"
    },
    "papermill": {
     "duration": 0.117709,
     "end_time": "2023-08-12T04:18:32.958582",
     "exception": false,
     "start_time": "2023-08-12T04:18:32.840873",
     "status": "completed"
    },
    "tags": []
   },
   "outputs": [],
   "source": [
    "# all_dict_3 = {'cat': [\"isFrequentReviewer\", \"rating\", \"originalLanguage\", \"reviewYN\"],\n",
    "#              'num': [\"audienceScore\", \"runtimeMinutes\", \"boxOffice\"],\n",
    "#              'txt': ['reviewText', \"reviewerName\", 'movieid', 'genre', 'director']}\n",
    "# all_dict_3"
   ]
  },
  {
   "cell_type": "code",
   "execution_count": 245,
   "id": "a4c1656c",
   "metadata": {
    "execution": {
     "iopub.execute_input": "2023-08-12T04:18:33.184014Z",
     "iopub.status.busy": "2023-08-12T04:18:33.182635Z",
     "iopub.status.idle": "2023-08-12T04:18:33.188301Z",
     "shell.execute_reply": "2023-08-12T04:18:33.187345Z"
    },
    "papermill": {
     "duration": 0.119384,
     "end_time": "2023-08-12T04:18:33.190711",
     "exception": false,
     "start_time": "2023-08-12T04:18:33.071327",
     "status": "completed"
    },
    "tags": []
   },
   "outputs": [],
   "source": [
    "# submit_v4(selected_model=LogisticRegression(max_iter=100000),\n",
    "#          selected_features=all_dict_3, \n",
    "#           param_grid=param_grid)"
   ]
  },
  {
   "cell_type": "markdown",
   "id": "788d47b0",
   "metadata": {
    "papermill": {
     "duration": 0.107841,
     "end_time": "2023-08-12T04:18:33.409317",
     "exception": false,
     "start_time": "2023-08-12T04:18:33.301476",
     "status": "completed"
    },
    "tags": []
   },
   "source": [
    "### More GridSearchCV using LinearSVC  "
   ]
  },
  {
   "cell_type": "code",
   "execution_count": 246,
   "id": "6342dbe4",
   "metadata": {
    "execution": {
     "iopub.execute_input": "2023-08-12T04:18:33.627343Z",
     "iopub.status.busy": "2023-08-12T04:18:33.626523Z",
     "iopub.status.idle": "2023-08-12T04:18:33.631512Z",
     "shell.execute_reply": "2023-08-12T04:18:33.630691Z"
    },
    "papermill": {
     "duration": 0.116475,
     "end_time": "2023-08-12T04:18:33.633808",
     "exception": false,
     "start_time": "2023-08-12T04:18:33.517333",
     "status": "completed"
    },
    "tags": []
   },
   "outputs": [],
   "source": [
    "# param_grid_svc_2 = {\n",
    "#     'model__C': [1.0],\n",
    "#     'model__loss': ['hinge', 'squared_hinge'],\n",
    "#     'model__class_weight': ['balanced', None]\n",
    "# }\n",
    "# param_grid_svc_2"
   ]
  },
  {
   "cell_type": "code",
   "execution_count": 247,
   "id": "90ea5315",
   "metadata": {
    "execution": {
     "iopub.execute_input": "2023-08-12T04:18:33.856220Z",
     "iopub.status.busy": "2023-08-12T04:18:33.855780Z",
     "iopub.status.idle": "2023-08-12T04:18:33.860762Z",
     "shell.execute_reply": "2023-08-12T04:18:33.859359Z"
    },
    "papermill": {
     "duration": 0.117952,
     "end_time": "2023-08-12T04:18:33.863303",
     "exception": false,
     "start_time": "2023-08-12T04:18:33.745351",
     "status": "completed"
    },
    "tags": []
   },
   "outputs": [],
   "source": [
    "# submit_v4(selected_model=LinearSVC(max_iter=100000, random_state=42), selected_features={'num': [\"audienceScore\"]}, param_grid=param_grid_svc_2)"
   ]
  },
  {
   "cell_type": "code",
   "execution_count": 248,
   "id": "2d8e30d1",
   "metadata": {
    "execution": {
     "iopub.execute_input": "2023-08-12T04:18:34.091554Z",
     "iopub.status.busy": "2023-08-12T04:18:34.091116Z",
     "iopub.status.idle": "2023-08-12T04:18:34.096310Z",
     "shell.execute_reply": "2023-08-12T04:18:34.095043Z"
    },
    "papermill": {
     "duration": 0.122079,
     "end_time": "2023-08-12T04:18:34.099196",
     "exception": false,
     "start_time": "2023-08-12T04:18:33.977117",
     "status": "completed"
    },
    "tags": []
   },
   "outputs": [],
   "source": [
    "# submit_v4(selected_model=LinearSVC(max_iter=100000, random_state=42), selected_features=all_dict, param_grid=param_grid_svc_2)"
   ]
  },
  {
   "cell_type": "markdown",
   "id": "5fc3e291",
   "metadata": {
    "papermill": {
     "duration": 0.110733,
     "end_time": "2023-08-12T04:18:34.322022",
     "exception": false,
     "start_time": "2023-08-12T04:18:34.211289",
     "status": "completed"
    },
    "tags": []
   },
   "source": [
    "### Boosting techniques  "
   ]
  },
  {
   "cell_type": "code",
   "execution_count": 249,
   "id": "665411a6",
   "metadata": {
    "execution": {
     "iopub.execute_input": "2023-08-12T04:18:34.542315Z",
     "iopub.status.busy": "2023-08-12T04:18:34.541168Z",
     "iopub.status.idle": "2023-08-12T04:18:34.547059Z",
     "shell.execute_reply": "2023-08-12T04:18:34.545861Z"
    },
    "papermill": {
     "duration": 0.118663,
     "end_time": "2023-08-12T04:18:34.549839",
     "exception": false,
     "start_time": "2023-08-12T04:18:34.431176",
     "status": "completed"
    },
    "tags": []
   },
   "outputs": [],
   "source": [
    "# adc = AdaBoostClassifier(estimator=LogisticRegression(C=5, solver=\"saga\", max_iter=100000), n_estimators=50)\n",
    "# adc"
   ]
  },
  {
   "cell_type": "code",
   "execution_count": 250,
   "id": "86856b98",
   "metadata": {
    "execution": {
     "iopub.execute_input": "2023-08-12T04:18:34.777406Z",
     "iopub.status.busy": "2023-08-12T04:18:34.775850Z",
     "iopub.status.idle": "2023-08-12T04:18:34.781915Z",
     "shell.execute_reply": "2023-08-12T04:18:34.781042Z"
    },
    "papermill": {
     "duration": 0.122231,
     "end_time": "2023-08-12T04:18:34.784679",
     "exception": false,
     "start_time": "2023-08-12T04:18:34.662448",
     "status": "completed"
    },
    "tags": []
   },
   "outputs": [],
   "source": [
    "# submit_v4(selected_model=adc, selected_features={'num': [\"audienceScore\"]}, param_grid=None)"
   ]
  },
  {
   "cell_type": "code",
   "execution_count": 251,
   "id": "42a56053",
   "metadata": {
    "execution": {
     "iopub.execute_input": "2023-08-12T04:18:35.006812Z",
     "iopub.status.busy": "2023-08-12T04:18:35.006083Z",
     "iopub.status.idle": "2023-08-12T04:18:35.012513Z",
     "shell.execute_reply": "2023-08-12T04:18:35.011034Z"
    },
    "papermill": {
     "duration": 0.12115,
     "end_time": "2023-08-12T04:18:35.015740",
     "exception": false,
     "start_time": "2023-08-12T04:18:34.894590",
     "status": "completed"
    },
    "tags": []
   },
   "outputs": [],
   "source": [
    "# submit_v4(selected_model=adc, selected_features=all_dict, param_grid=None)\n",
    "\n",
    "# Took 1 hour 15 mins to run and gave a public score of only 0.71089. Discarded."
   ]
  },
  {
   "cell_type": "markdown",
   "id": "e90694ae",
   "metadata": {
    "papermill": {
     "duration": 0.114,
     "end_time": "2023-08-12T04:18:35.240038",
     "exception": false,
     "start_time": "2023-08-12T04:18:35.126038",
     "status": "completed"
    },
    "tags": []
   },
   "source": [
    "### LightGBM  "
   ]
  },
  {
   "cell_type": "code",
   "execution_count": 252,
   "id": "86f84c59",
   "metadata": {
    "execution": {
     "iopub.execute_input": "2023-08-12T04:18:35.461255Z",
     "iopub.status.busy": "2023-08-12T04:18:35.460492Z",
     "iopub.status.idle": "2023-08-12T04:18:35.464534Z",
     "shell.execute_reply": "2023-08-12T04:18:35.463638Z"
    },
    "papermill": {
     "duration": 0.11631,
     "end_time": "2023-08-12T04:18:35.467015",
     "exception": false,
     "start_time": "2023-08-12T04:18:35.350705",
     "status": "completed"
    },
    "tags": []
   },
   "outputs": [],
   "source": [
    "# lgb = ltb.LGBMClassifier()\n",
    "# lgb"
   ]
  },
  {
   "cell_type": "code",
   "execution_count": 253,
   "id": "083e9687",
   "metadata": {
    "execution": {
     "iopub.execute_input": "2023-08-12T04:18:35.693381Z",
     "iopub.status.busy": "2023-08-12T04:18:35.692650Z",
     "iopub.status.idle": "2023-08-12T04:18:35.697730Z",
     "shell.execute_reply": "2023-08-12T04:18:35.696254Z"
    },
    "papermill": {
     "duration": 0.123895,
     "end_time": "2023-08-12T04:18:35.700528",
     "exception": false,
     "start_time": "2023-08-12T04:18:35.576633",
     "status": "completed"
    },
    "tags": []
   },
   "outputs": [],
   "source": [
    "# Try LightGBM with default settings\n",
    "# (Update): Public score only 0.77713. It was fast, took less than 5 mins (without GridSearchCV)\n",
    "\n",
    "# submit_v4(selected_model=ltb.LGBMClassifier(), selected_features=all_dict, param_grid=None)"
   ]
  },
  {
   "cell_type": "markdown",
   "id": "42e9ddaa",
   "metadata": {
    "papermill": {
     "duration": 0.127753,
     "end_time": "2023-08-12T04:18:35.939142",
     "exception": false,
     "start_time": "2023-08-12T04:18:35.811389",
     "status": "completed"
    },
    "tags": []
   },
   "source": [
    "# Try feature selection and vocab fine tuning of reviewText column"
   ]
  },
  {
   "cell_type": "markdown",
   "id": "35e46c02",
   "metadata": {
    "papermill": {
     "duration": 0.115918,
     "end_time": "2023-08-12T04:18:36.173552",
     "exception": false,
     "start_time": "2023-08-12T04:18:36.057634",
     "status": "completed"
    },
    "tags": []
   },
   "source": [
    "## Plan  \n",
    "* Add a new column 'reviewWC' which has word count of 'reviewText'  \n",
    "    * Check if there is any relationship between 'reviewWC' and 'sentiment'\n",
    "* Work on vocabulary\n",
    "     * Use TfidfVectorizer and find out the vocabulary of 'reviewText' column for various ngrams\n",
    "     * Use RecursiveFeatureElimination (RFE) or RFECV to select 1000 top words/vocab for each ngram\n",
    "     * Use the final vocab (1000-3000 words) in the model and see how it performs compared to whole vocab\n"
   ]
  },
  {
   "cell_type": "code",
   "execution_count": 254,
   "id": "b98beeaf",
   "metadata": {
    "execution": {
     "iopub.execute_input": "2023-08-12T04:18:36.406977Z",
     "iopub.status.busy": "2023-08-12T04:18:36.406020Z",
     "iopub.status.idle": "2023-08-12T04:18:36.411666Z",
     "shell.execute_reply": "2023-08-12T04:18:36.410729Z"
    },
    "papermill": {
     "duration": 0.123934,
     "end_time": "2023-08-12T04:18:36.414516",
     "exception": false,
     "start_time": "2023-08-12T04:18:36.290582",
     "status": "completed"
    },
    "tags": []
   },
   "outputs": [],
   "source": [
    "# 'reviewWC' and 'sentiment'\n",
    "# (Conclusion): 'reviewWC' is practically same as DummyClassifier (accuracy of 0.6682375059904889 on train data). It just predicts 'positive' for all columns\n",
    "\n",
    "# reviewWC_dict = {\"num\": [\"reviewWC\"]}\n",
    "# submit_v4(selected_model=LogisticRegression(),\n",
    "#          selected_features=reviewWC_dict,\n",
    "#          param_grid=None)"
   ]
  },
  {
   "cell_type": "code",
   "execution_count": 255,
   "id": "ef90b15a",
   "metadata": {
    "execution": {
     "iopub.execute_input": "2023-08-12T04:18:36.641808Z",
     "iopub.status.busy": "2023-08-12T04:18:36.640909Z",
     "iopub.status.idle": "2023-08-12T04:18:36.647072Z",
     "shell.execute_reply": "2023-08-12T04:18:36.646022Z"
    },
    "papermill": {
     "duration": 0.123157,
     "end_time": "2023-08-12T04:18:36.649891",
     "exception": false,
     "start_time": "2023-08-12T04:18:36.526734",
     "status": "completed"
    },
    "tags": []
   },
   "outputs": [],
   "source": [
    "# 'reviewYN' and 'sentiment'\n",
    "# (Conclusion): 'reviewYN' is practically same as DummyClassifier (accuracy of 0.6682375059904889 on train data). It just predicts 'positive' for all columns\n",
    "\n",
    "# reviewYN_dict = {\"cat\": [\"reviewYN\"]}\n",
    "# submit_v4(selected_model=LogisticRegression(),\n",
    "#          selected_features=reviewYN_dict,\n",
    "#          param_grid=None)"
   ]
  },
  {
   "cell_type": "markdown",
   "id": "d80a6fbe",
   "metadata": {
    "papermill": {
     "duration": 0.108348,
     "end_time": "2023-08-12T04:18:36.871644",
     "exception": false,
     "start_time": "2023-08-12T04:18:36.763296",
     "status": "completed"
    },
    "tags": []
   },
   "source": [
    "## Submissions using 'vocabulary' built from 'reviewText' data  "
   ]
  },
  {
   "cell_type": "markdown",
   "id": "9991cc39",
   "metadata": {
    "papermill": {
     "duration": 0.112091,
     "end_time": "2023-08-12T04:18:37.097501",
     "exception": false,
     "start_time": "2023-08-12T04:18:36.985410",
     "status": "completed"
    },
    "tags": []
   },
   "source": [
    "### Submit best 6 features along with common vocab  "
   ]
  },
  {
   "cell_type": "code",
   "execution_count": 256,
   "id": "917dcc22",
   "metadata": {
    "execution": {
     "iopub.execute_input": "2023-08-12T04:18:37.322304Z",
     "iopub.status.busy": "2023-08-12T04:18:37.321824Z",
     "iopub.status.idle": "2023-08-12T04:18:37.327242Z",
     "shell.execute_reply": "2023-08-12T04:18:37.325910Z"
    },
    "papermill": {
     "duration": 0.119409,
     "end_time": "2023-08-12T04:18:37.329438",
     "exception": false,
     "start_time": "2023-08-12T04:18:37.210029",
     "status": "completed"
    },
    "tags": []
   },
   "outputs": [],
   "source": [
    "# Best 6 parameters (version 2)  \n",
    "\n",
    "# best6_dict = {'num': [\"audienceScore\"],\n",
    "#              'txt': ['reviewText', 'reviewerName', 'genre','movieid', 'director']}\n",
    "\n",
    "# best6_dict"
   ]
  },
  {
   "cell_type": "code",
   "execution_count": 257,
   "id": "3e57afba",
   "metadata": {
    "execution": {
     "iopub.execute_input": "2023-08-12T04:18:37.549904Z",
     "iopub.status.busy": "2023-08-12T04:18:37.549451Z",
     "iopub.status.idle": "2023-08-12T04:18:37.554520Z",
     "shell.execute_reply": "2023-08-12T04:18:37.553193Z"
    },
    "papermill": {
     "duration": 0.118193,
     "end_time": "2023-08-12T04:18:37.556702",
     "exception": false,
     "start_time": "2023-08-12T04:18:37.438509",
     "status": "completed"
    },
    "tags": []
   },
   "outputs": [],
   "source": [
    "# Submit best 6 features (version 2) with common vocabulary (common_1_2_grams)\n",
    "# (Update): Score 0.82867\n",
    "\n",
    "# submit_v4(selected_features=best6_dict,\n",
    "#           param_grid=param_grid,\n",
    "#          vocab=common_1_2_grams)"
   ]
  },
  {
   "cell_type": "code",
   "execution_count": 258,
   "id": "492d35b9",
   "metadata": {
    "execution": {
     "iopub.execute_input": "2023-08-12T04:18:37.773829Z",
     "iopub.status.busy": "2023-08-12T04:18:37.773036Z",
     "iopub.status.idle": "2023-08-12T04:18:37.777984Z",
     "shell.execute_reply": "2023-08-12T04:18:37.777060Z"
    },
    "papermill": {
     "duration": 0.116372,
     "end_time": "2023-08-12T04:18:37.780307",
     "exception": false,
     "start_time": "2023-08-12T04:18:37.663935",
     "status": "completed"
    },
    "tags": []
   },
   "outputs": [],
   "source": [
    "# Submit best 6 features (version 2) with common vocabulary (common_1_2_3_grams)\n",
    "# Note: for this submission submit_v4 function has to be modified: reviewText TfidfVectorizer must have ngram_range(1,3).\n",
    "# (Update): Score in the range 0.825+\n",
    "\n",
    "# submit_v4(selected_features=best6_dict,\n",
    "#           param_grid=param_grid,\n",
    "#          vocab=common_1_2_3_grams)"
   ]
  }
 ],
 "metadata": {
  "kernelspec": {
   "display_name": "Python 3",
   "language": "python",
   "name": "python3"
  },
  "language_info": {
   "codemirror_mode": {
    "name": "ipython",
    "version": 3
   },
   "file_extension": ".py",
   "mimetype": "text/x-python",
   "name": "python",
   "nbconvert_exporter": "python",
   "pygments_lexer": "ipython3",
   "version": "3.10.10"
  },
  "papermill": {
   "default_parameters": {},
   "duration": 3090.427028,
   "end_time": "2023-08-12T04:18:40.922772",
   "environment_variables": {},
   "exception": null,
   "input_path": "__notebook__.ipynb",
   "output_path": "__notebook__.ipynb",
   "parameters": {},
   "start_time": "2023-08-12T03:27:10.495744",
   "version": "2.4.0"
  }
 },
 "nbformat": 4,
 "nbformat_minor": 5
}
