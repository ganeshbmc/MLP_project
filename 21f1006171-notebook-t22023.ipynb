{
 "cells": [
  {
   "cell_type": "markdown",
   "id": "0622fe11",
   "metadata": {
    "papermill": {
     "duration": 0.094025,
     "end_time": "2023-08-12T17:17:46.036827",
     "exception": false,
     "start_time": "2023-08-12T17:17:45.942802",
     "status": "completed"
    },
    "tags": []
   },
   "source": [
    "# MLP Project (T2 2023) by Ganesh P  "
   ]
  },
  {
   "cell_type": "markdown",
   "id": "393e62cb",
   "metadata": {
    "papermill": {
     "duration": 0.091458,
     "end_time": "2023-08-12T17:17:46.221960",
     "exception": false,
     "start_time": "2023-08-12T17:17:46.130502",
     "status": "completed"
    },
    "tags": []
   },
   "source": [
    "`Disclaimer`   \n",
    "\n",
    "> This final notebook contains only the most relevant code to show the path/flow of my project work over few weeks. Rest of the code is in [my github repo](https://github.com/ganeshbmc/MLP_project) which is private at present (I will make it public after the project is over).  "
   ]
  },
  {
   "cell_type": "markdown",
   "id": "36a4f23a",
   "metadata": {
    "papermill": {
     "duration": 0.090491,
     "end_time": "2023-08-12T17:17:46.403554",
     "exception": false,
     "start_time": "2023-08-12T17:17:46.313063",
     "status": "completed"
    },
    "tags": []
   },
   "source": [
    "`Strengths`  \n",
    "\n",
    "> * Modular code (DRY principle)  \n",
    "> * End to end pipeline in one function (with helper functions)   "
   ]
  },
  {
   "cell_type": "markdown",
   "id": "f3b1123d",
   "metadata": {
    "papermill": {
     "duration": 0.090256,
     "end_time": "2023-08-12T17:17:46.585186",
     "exception": false,
     "start_time": "2023-08-12T17:17:46.494930",
     "status": "completed"
    },
    "tags": []
   },
   "source": [
    "`Overview`  \n",
    "\n",
    "`PART I`  \n",
    "\n",
    "1.\t> Screen the datasets and import them.  \n",
    "2.\t> Perform EDA (first round).\n",
    "3.\t> Data cleaning.\n",
    "4.\t> Basic models including dummy model.\n",
    "5.\t> Because this is a text sentiment analysis project, focus on 'reviewText' column, work on cleaning text data and vectorising/tokenising it, build several models till the best possible score is reached.  \n",
    "\n",
    "`PART II`  \n",
    "\n",
    "6.\t> Merge train and movies dataset.\n",
    "7.\t> Perform EDA (second round) on merged dataset.\n",
    "8.\t> Data cleaning.\n",
    "9.\t> Build models on merged dataset.\n",
    "10.\t> Understand the results and do another round of EDA if needed.\n",
    "11.\t> Build final model.  \n",
    "\n",
    "`PART III (After project window closes)`  \n",
    "\n",
    "12. > Use NLTK library for further processing text data.  \n",
    "13. > Try to address comments from different languages, special characters etc.  \n",
    "14. > Try imblearn library to address class imbalance.  \n",
    "15. > Try to use currently available LLMs and see how my model performs agains them.  "
   ]
  },
  {
   "cell_type": "markdown",
   "id": "ba157ca1",
   "metadata": {
    "papermill": {
     "duration": 0.091211,
     "end_time": "2023-08-12T17:17:46.769408",
     "exception": false,
     "start_time": "2023-08-12T17:17:46.678197",
     "status": "completed"
    },
    "tags": []
   },
   "source": [
    "`Default code on Kaggle notebook`  "
   ]
  },
  {
   "cell_type": "code",
   "execution_count": 1,
   "id": "1975e5e6",
   "metadata": {
    "_cell_guid": "b1076dfc-b9ad-4769-8c92-a6c4dae69d19",
    "_uuid": "8f2839f25d086af736a60e9eeb907d3b93b6e0e5",
    "execution": {
     "iopub.execute_input": "2023-08-12T17:17:46.980334Z",
     "iopub.status.busy": "2023-08-12T17:17:46.979751Z",
     "iopub.status.idle": "2023-08-12T17:17:47.000462Z",
     "shell.execute_reply": "2023-08-12T17:17:46.999117Z"
    },
    "papermill": {
     "duration": 0.133166,
     "end_time": "2023-08-12T17:17:47.003817",
     "exception": false,
     "start_time": "2023-08-12T17:17:46.870651",
     "status": "completed"
    },
    "tags": []
   },
   "outputs": [
    {
     "name": "stdout",
     "output_type": "stream",
     "text": [
      "/kaggle/input/sentiment-prediction-on-movie-reviews/movies.csv\n",
      "/kaggle/input/sentiment-prediction-on-movie-reviews/sample.csv\n",
      "/kaggle/input/sentiment-prediction-on-movie-reviews/train.csv\n",
      "/kaggle/input/sentiment-prediction-on-movie-reviews/test.csv\n"
     ]
    }
   ],
   "source": [
    "# This Python 3 environment comes with many helpful analytics libraries installed\n",
    "# It is defined by the kaggle/python Docker image: https://github.com/kaggle/docker-python\n",
    "# For example, here's several helpful packages to load\n",
    "\n",
    "import numpy as np # linear algebra\n",
    "import pandas as pd # data processing, CSV file I/O (e.g. pd.read_csv)\n",
    "\n",
    "# Input data files are available in the read-only \"../input/\" directory\n",
    "# For example, running this (by clicking run or pressing Shift+Enter) will list all files under the input directory\n",
    "\n",
    "import os\n",
    "for dirname, _, filenames in os.walk('/kaggle/input'):\n",
    "    for filename in filenames:\n",
    "        print(os.path.join(dirname, filename))\n",
    "\n",
    "# You can write up to 20GB to the current directory (/kaggle/working/) that gets preserved as output when you create a version using \"Save & Run All\" \n",
    "# You can also write temporary files to /kaggle/temp/, but they won't be saved outside of the current session"
   ]
  },
  {
   "cell_type": "markdown",
   "id": "9ca3e050",
   "metadata": {
    "papermill": {
     "duration": 0.092172,
     "end_time": "2023-08-12T17:17:47.202045",
     "exception": false,
     "start_time": "2023-08-12T17:17:47.109873",
     "status": "completed"
    },
    "tags": []
   },
   "source": [
    "### Specify platform  "
   ]
  },
  {
   "cell_type": "code",
   "execution_count": 2,
   "id": "0a872a60",
   "metadata": {
    "execution": {
     "iopub.execute_input": "2023-08-12T17:17:47.390018Z",
     "iopub.status.busy": "2023-08-12T17:17:47.389272Z",
     "iopub.status.idle": "2023-08-12T17:17:47.394111Z",
     "shell.execute_reply": "2023-08-12T17:17:47.392976Z"
    },
    "papermill": {
     "duration": 0.101327,
     "end_time": "2023-08-12T17:17:47.396769",
     "exception": false,
     "start_time": "2023-08-12T17:17:47.295442",
     "status": "completed"
    },
    "tags": []
   },
   "outputs": [],
   "source": [
    "platform = 'kaggle'  "
   ]
  },
  {
   "cell_type": "markdown",
   "id": "afd05239",
   "metadata": {
    "papermill": {
     "duration": 0.091294,
     "end_time": "2023-08-12T17:17:47.579375",
     "exception": false,
     "start_time": "2023-08-12T17:17:47.488081",
     "status": "completed"
    },
    "tags": []
   },
   "source": [
    "### Import libraries  "
   ]
  },
  {
   "cell_type": "code",
   "execution_count": 3,
   "id": "d60d6b1e",
   "metadata": {
    "execution": {
     "iopub.execute_input": "2023-08-12T17:17:47.768773Z",
     "iopub.status.busy": "2023-08-12T17:17:47.767977Z",
     "iopub.status.idle": "2023-08-12T17:17:50.410124Z",
     "shell.execute_reply": "2023-08-12T17:17:50.407869Z"
    },
    "papermill": {
     "duration": 2.741109,
     "end_time": "2023-08-12T17:17:50.413609",
     "exception": false,
     "start_time": "2023-08-12T17:17:47.672500",
     "status": "completed"
    },
    "tags": []
   },
   "outputs": [
    {
     "name": "stdout",
     "output_type": "stream",
     "text": [
      "Imports done.\n"
     ]
    }
   ],
   "source": [
    "import pandas as pd\n",
    "import numpy as np\n",
    "import matplotlib.pyplot as plt\n",
    "import seaborn as sns\n",
    "import re\n",
    "from itertools import compress\n",
    "\n",
    "from sklearn.dummy import DummyClassifier\n",
    "from sklearn.pipeline import Pipeline, FeatureUnion\n",
    "from sklearn.compose import ColumnTransformer\n",
    "from sklearn.metrics import classification_report, confusion_matrix,f1_score\n",
    "from sklearn.feature_extraction.text import TfidfVectorizer, CountVectorizer\n",
    "from sklearn.preprocessing import FunctionTransformer\n",
    "from sklearn.preprocessing import StandardScaler, MinMaxScaler, RobustScaler, OneHotEncoder, LabelEncoder\n",
    "from sklearn.impute import SimpleImputer\n",
    "from sklearn.linear_model import LogisticRegression, SGDClassifier\n",
    "from sklearn.tree import DecisionTreeClassifier\n",
    "from sklearn.ensemble import RandomForestClassifier, AdaBoostClassifier\n",
    "from sklearn.svm import LinearSVC\n",
    "from sklearn.naive_bayes import GaussianNB, BernoulliNB, CategoricalNB, ComplementNB, MultinomialNB\n",
    "from sklearn.model_selection import train_test_split, GridSearchCV, cross_val_score\n",
    "from sklearn.decomposition import PCA, TruncatedSVD\n",
    "from sklearn.feature_selection import RFECV\n",
    "from sklearn.feature_selection import RFE\n",
    "from sklearn.neural_network import MLPClassifier\n",
    "\n",
    "# import lightgbm as ltb\n",
    "\n",
    "import scipy.stats as stats\n",
    "print(\"Imports done.\")"
   ]
  },
  {
   "cell_type": "markdown",
   "id": "a6099982",
   "metadata": {
    "papermill": {
     "duration": 0.097204,
     "end_time": "2023-08-12T17:17:50.607860",
     "exception": false,
     "start_time": "2023-08-12T17:17:50.510656",
     "status": "completed"
    },
    "tags": []
   },
   "source": [
    "# PART I  "
   ]
  },
  {
   "cell_type": "markdown",
   "id": "52936ad1",
   "metadata": {
    "papermill": {
     "duration": 0.095856,
     "end_time": "2023-08-12T17:17:50.797255",
     "exception": false,
     "start_time": "2023-08-12T17:17:50.701399",
     "status": "completed"
    },
    "tags": []
   },
   "source": [
    "## Load datasets  "
   ]
  },
  {
   "cell_type": "code",
   "execution_count": 4,
   "id": "f0193ced",
   "metadata": {
    "execution": {
     "iopub.execute_input": "2023-08-12T17:17:50.988620Z",
     "iopub.status.busy": "2023-08-12T17:17:50.988234Z",
     "iopub.status.idle": "2023-08-12T17:17:52.142166Z",
     "shell.execute_reply": "2023-08-12T17:17:52.140438Z"
    },
    "papermill": {
     "duration": 1.254134,
     "end_time": "2023-08-12T17:17:52.145262",
     "exception": false,
     "start_time": "2023-08-12T17:17:50.891128",
     "status": "completed"
    },
    "tags": []
   },
   "outputs": [
    {
     "data": {
      "text/plain": [
       "(162758, 5)"
      ]
     },
     "execution_count": 4,
     "metadata": {},
     "output_type": "execute_result"
    }
   ],
   "source": [
    "if platform == 'vscode':\n",
    "    traindf = pd.read_csv(\"data/train.csv\")\n",
    "else:\n",
    "    traindf = pd.read_csv(\"/kaggle/input/sentiment-prediction-on-movie-reviews/train.csv\")\n",
    "    \n",
    "traindf.shape"
   ]
  },
  {
   "cell_type": "code",
   "execution_count": 5,
   "id": "f66def31",
   "metadata": {
    "execution": {
     "iopub.execute_input": "2023-08-12T17:17:52.337036Z",
     "iopub.status.busy": "2023-08-12T17:17:52.336331Z",
     "iopub.status.idle": "2023-08-12T17:17:52.722658Z",
     "shell.execute_reply": "2023-08-12T17:17:52.721419Z"
    },
    "papermill": {
     "duration": 0.485956,
     "end_time": "2023-08-12T17:17:52.725189",
     "exception": false,
     "start_time": "2023-08-12T17:17:52.239233",
     "status": "completed"
    },
    "tags": []
   },
   "outputs": [
    {
     "data": {
      "text/plain": [
       "(55315, 4)"
      ]
     },
     "execution_count": 5,
     "metadata": {},
     "output_type": "execute_result"
    }
   ],
   "source": [
    "if platform == 'vscode':\n",
    "    testdf = pd.read_csv(\"data/test.csv\")\n",
    "else:\n",
    "    testdf = pd.read_csv(\"/kaggle/input/sentiment-prediction-on-movie-reviews/test.csv\")\n",
    "\n",
    "testdf.shape"
   ]
  },
  {
   "cell_type": "markdown",
   "id": "11712048",
   "metadata": {
    "papermill": {
     "duration": 0.092304,
     "end_time": "2023-08-12T17:17:52.911643",
     "exception": false,
     "start_time": "2023-08-12T17:17:52.819339",
     "status": "completed"
    },
    "tags": []
   },
   "source": [
    "### Understanding the data and getting it ready for training and evaluating models  \n"
   ]
  },
  {
   "cell_type": "code",
   "execution_count": 6,
   "id": "072614e7",
   "metadata": {
    "execution": {
     "iopub.execute_input": "2023-08-12T17:17:53.104241Z",
     "iopub.status.busy": "2023-08-12T17:17:53.103795Z",
     "iopub.status.idle": "2023-08-12T17:17:53.110538Z",
     "shell.execute_reply": "2023-08-12T17:17:53.109383Z"
    },
    "papermill": {
     "duration": 0.103899,
     "end_time": "2023-08-12T17:17:53.113051",
     "exception": false,
     "start_time": "2023-08-12T17:17:53.009152",
     "status": "completed"
    },
    "tags": []
   },
   "outputs": [
    {
     "data": {
      "text/plain": [
       "(162758, 5)"
      ]
     },
     "execution_count": 6,
     "metadata": {},
     "output_type": "execute_result"
    }
   ],
   "source": [
    "traindf.shape"
   ]
  },
  {
   "cell_type": "code",
   "execution_count": 7,
   "id": "a2661d32",
   "metadata": {
    "execution": {
     "iopub.execute_input": "2023-08-12T17:17:53.303967Z",
     "iopub.status.busy": "2023-08-12T17:17:53.303511Z",
     "iopub.status.idle": "2023-08-12T17:17:53.548581Z",
     "shell.execute_reply": "2023-08-12T17:17:53.547290Z"
    },
    "papermill": {
     "duration": 0.344094,
     "end_time": "2023-08-12T17:17:53.551461",
     "exception": false,
     "start_time": "2023-08-12T17:17:53.207367",
     "status": "completed"
    },
    "tags": []
   },
   "outputs": [
    {
     "name": "stdout",
     "output_type": "stream",
     "text": [
      "<class 'pandas.core.frame.DataFrame'>\n",
      "RangeIndex: 162758 entries, 0 to 162757\n",
      "Data columns (total 5 columns):\n",
      " #   Column              Non-Null Count   Dtype \n",
      "---  ------              --------------   ----- \n",
      " 0   movieid             162758 non-null  object\n",
      " 1   reviewerName        162758 non-null  object\n",
      " 2   isFrequentReviewer  162758 non-null  bool  \n",
      " 3   reviewText          156311 non-null  object\n",
      " 4   sentiment           162758 non-null  object\n",
      "dtypes: bool(1), object(4)\n",
      "memory usage: 5.1+ MB\n"
     ]
    }
   ],
   "source": [
    "traindf.info()"
   ]
  },
  {
   "cell_type": "code",
   "execution_count": 8,
   "id": "5c759049",
   "metadata": {
    "execution": {
     "iopub.execute_input": "2023-08-12T17:17:53.738089Z",
     "iopub.status.busy": "2023-08-12T17:17:53.737607Z",
     "iopub.status.idle": "2023-08-12T17:17:53.966842Z",
     "shell.execute_reply": "2023-08-12T17:17:53.965551Z"
    },
    "papermill": {
     "duration": 0.326061,
     "end_time": "2023-08-12T17:17:53.969535",
     "exception": false,
     "start_time": "2023-08-12T17:17:53.643474",
     "status": "completed"
    },
    "tags": []
   },
   "outputs": [
    {
     "data": {
      "text/plain": [
       "movieid                  0\n",
       "reviewerName             0\n",
       "isFrequentReviewer       0\n",
       "reviewText            6447\n",
       "sentiment                0\n",
       "dtype: int64"
      ]
     },
     "execution_count": 8,
     "metadata": {},
     "output_type": "execute_result"
    }
   ],
   "source": [
    "traindf.isna().sum()"
   ]
  },
  {
   "cell_type": "markdown",
   "id": "1347debf",
   "metadata": {
    "papermill": {
     "duration": 0.093597,
     "end_time": "2023-08-12T17:17:54.225652",
     "exception": false,
     "start_time": "2023-08-12T17:17:54.132055",
     "status": "completed"
    },
    "tags": []
   },
   "source": [
    "### Fill empty reviewText with custom text  "
   ]
  },
  {
   "cell_type": "code",
   "execution_count": 9,
   "id": "b887d5a4",
   "metadata": {
    "execution": {
     "iopub.execute_input": "2023-08-12T17:17:54.413970Z",
     "iopub.status.busy": "2023-08-12T17:17:54.413271Z",
     "iopub.status.idle": "2023-08-12T17:17:54.666938Z",
     "shell.execute_reply": "2023-08-12T17:17:54.665707Z"
    },
    "papermill": {
     "duration": 0.351041,
     "end_time": "2023-08-12T17:17:54.669806",
     "exception": false,
     "start_time": "2023-08-12T17:17:54.318765",
     "status": "completed"
    },
    "tags": []
   },
   "outputs": [
    {
     "data": {
      "text/plain": [
       "movieid               0\n",
       "reviewerName          0\n",
       "isFrequentReviewer    0\n",
       "reviewText            0\n",
       "sentiment             0\n",
       "dtype: int64"
      ]
     },
     "execution_count": 9,
     "metadata": {},
     "output_type": "execute_result"
    }
   ],
   "source": [
    "traindf[\"reviewText\"].fillna(\"empty\", inplace=True)\n",
    "traindf.isna().sum()"
   ]
  },
  {
   "cell_type": "markdown",
   "id": "ad80cba3",
   "metadata": {
    "papermill": {
     "duration": 0.095466,
     "end_time": "2023-08-12T17:17:54.860751",
     "exception": false,
     "start_time": "2023-08-12T17:17:54.765285",
     "status": "completed"
    },
    "tags": []
   },
   "source": [
    "## EDA  \n"
   ]
  },
  {
   "cell_type": "code",
   "execution_count": 10,
   "id": "0de1c412",
   "metadata": {
    "execution": {
     "iopub.execute_input": "2023-08-12T17:17:55.057376Z",
     "iopub.status.busy": "2023-08-12T17:17:55.056526Z",
     "iopub.status.idle": "2023-08-12T17:17:55.333703Z",
     "shell.execute_reply": "2023-08-12T17:17:55.331987Z"
    },
    "papermill": {
     "duration": 0.381249,
     "end_time": "2023-08-12T17:17:55.338158",
     "exception": false,
     "start_time": "2023-08-12T17:17:54.956909",
     "status": "completed"
    },
    "tags": []
   },
   "outputs": [
    {
     "data": {
      "image/png": "[encoded data removed]",
      "text/plain": [
       "<Figure size 600x400 with 1 Axes>"
      ]
     },
     "metadata": {},
     "output_type": "display_data"
    }
   ],
   "source": [
    "# Pie chart for sentiment column\n",
    "plt.figure(figsize=(6, 4))\n",
    "traindf[\"sentiment\"].value_counts().plot(kind='pie', autopct='%1.0f%%', colors=[\"lightgreen\", \"crimson\"])\n",
    "plt.title(\"Pie chart for sentiment column\")\n",
    "plt.show()"
   ]
  },
  {
   "cell_type": "code",
   "execution_count": 11,
   "id": "21d925cc",
   "metadata": {
    "execution": {
     "iopub.execute_input": "2023-08-12T17:17:55.552617Z",
     "iopub.status.busy": "2023-08-12T17:17:55.551862Z",
     "iopub.status.idle": "2023-08-12T17:17:55.635383Z",
     "shell.execute_reply": "2023-08-12T17:17:55.633755Z"
    },
    "papermill": {
     "duration": 0.183744,
     "end_time": "2023-08-12T17:17:55.638282",
     "exception": false,
     "start_time": "2023-08-12T17:17:55.454538",
     "status": "completed"
    },
    "tags": []
   },
   "outputs": [
    {
     "name": "stdout",
     "output_type": "stream",
     "text": [
      "sentiment           NEGATIVE  POSITIVE\n",
      "isFrequentReviewer                    \n",
      "False                  35760     77429\n",
      "True                   18237     31332\n"
     ]
    },
    {
     "data": {
      "text/plain": [
       "Chi2ContingencyResult(statistic=419.89235425657796, pvalue=2.5755894769493255e-93, dof=1, expected_freq=array([[37551.86493444, 75637.13506556],\n",
       "       [16445.13506556, 33123.86493444]]))"
      ]
     },
     "execution_count": 11,
     "metadata": {},
     "output_type": "execute_result"
    }
   ],
   "source": [
    "# Chi-square test for isFrequentReviewer column and sentiment column   \n",
    "\n",
    "contingency_table = pd.crosstab(traindf['isFrequentReviewer'], traindf['sentiment'])\n",
    "print(contingency_table)\n",
    "stats.chi2_contingency(contingency_table)"
   ]
  },
  {
   "cell_type": "markdown",
   "id": "4cf533c3",
   "metadata": {
    "papermill": {
     "duration": 0.093752,
     "end_time": "2023-08-12T17:17:55.826626",
     "exception": false,
     "start_time": "2023-08-12T17:17:55.732874",
     "status": "completed"
    },
    "tags": []
   },
   "source": [
    "### Separate features and labels  "
   ]
  },
  {
   "cell_type": "code",
   "execution_count": 12,
   "id": "2b9d7ac7",
   "metadata": {
    "execution": {
     "iopub.execute_input": "2023-08-12T17:17:56.017870Z",
     "iopub.status.busy": "2023-08-12T17:17:56.017416Z",
     "iopub.status.idle": "2023-08-12T17:17:56.026577Z",
     "shell.execute_reply": "2023-08-12T17:17:56.025304Z"
    },
    "papermill": {
     "duration": 0.107755,
     "end_time": "2023-08-12T17:17:56.029216",
     "exception": false,
     "start_time": "2023-08-12T17:17:55.921461",
     "status": "completed"
    },
    "tags": []
   },
   "outputs": [
    {
     "data": {
      "text/plain": [
       "((162758,), (162758,))"
      ]
     },
     "execution_count": 12,
     "metadata": {},
     "output_type": "execute_result"
    }
   ],
   "source": [
    "train_features = traindf[\"reviewText\"]\n",
    "train_labels = traindf.iloc[:, -1]\n",
    "train_features.shape, train_labels.shape"
   ]
  },
  {
   "cell_type": "markdown",
   "id": "99725c9c",
   "metadata": {
    "papermill": {
     "duration": 0.094195,
     "end_time": "2023-08-12T17:17:56.218296",
     "exception": false,
     "start_time": "2023-08-12T17:17:56.124101",
     "status": "completed"
    },
    "tags": []
   },
   "source": [
    "### Split traindf into training and testing parts  "
   ]
  },
  {
   "cell_type": "code",
   "execution_count": 13,
   "id": "dc0a0eef",
   "metadata": {
    "execution": {
     "iopub.execute_input": "2023-08-12T17:17:56.410320Z",
     "iopub.status.busy": "2023-08-12T17:17:56.409304Z",
     "iopub.status.idle": "2023-08-12T17:17:56.456559Z",
     "shell.execute_reply": "2023-08-12T17:17:56.455524Z"
    },
    "papermill": {
     "duration": 0.14602,
     "end_time": "2023-08-12T17:17:56.459162",
     "exception": false,
     "start_time": "2023-08-12T17:17:56.313142",
     "status": "completed"
    },
    "tags": []
   },
   "outputs": [
    {
     "data": {
      "text/plain": [
       "((122068,), (40690,), (122068,), (40690,))"
      ]
     },
     "execution_count": 13,
     "metadata": {},
     "output_type": "execute_result"
    }
   ],
   "source": [
    "X_train, X_test, y_train, y_test = train_test_split(train_features, train_labels, test_size=0.25, random_state=42)\n",
    "X_train.shape, X_test.shape, y_train.shape, y_test.shape"
   ]
  },
  {
   "cell_type": "markdown",
   "id": "7ab8805d",
   "metadata": {
    "papermill": {
     "duration": 0.093158,
     "end_time": "2023-08-12T17:17:56.646637",
     "exception": false,
     "start_time": "2023-08-12T17:17:56.553479",
     "status": "completed"
    },
    "tags": []
   },
   "source": [
    "## Model evaluation plan and code  "
   ]
  },
  {
   "cell_type": "code",
   "execution_count": 14,
   "id": "b5dba9ed",
   "metadata": {
    "execution": {
     "iopub.execute_input": "2023-08-12T17:17:56.838076Z",
     "iopub.status.busy": "2023-08-12T17:17:56.837066Z",
     "iopub.status.idle": "2023-08-12T17:17:56.844285Z",
     "shell.execute_reply": "2023-08-12T17:17:56.842755Z"
    },
    "papermill": {
     "duration": 0.108156,
     "end_time": "2023-08-12T17:17:56.848426",
     "exception": false,
     "start_time": "2023-08-12T17:17:56.740270",
     "status": "completed"
    },
    "tags": []
   },
   "outputs": [],
   "source": [
    "# from sklearn.metrics import classification_report, confusion_matrix, ConfusionMatrixDisplay\n",
    "# from sklearn.metrics import f1_score"
   ]
  },
  {
   "cell_type": "code",
   "execution_count": 15,
   "id": "794f1834",
   "metadata": {
    "execution": {
     "iopub.execute_input": "2023-08-12T17:17:57.072182Z",
     "iopub.status.busy": "2023-08-12T17:17:57.071470Z",
     "iopub.status.idle": "2023-08-12T17:17:57.076314Z",
     "shell.execute_reply": "2023-08-12T17:17:57.075441Z"
    },
    "papermill": {
     "duration": 0.125149,
     "end_time": "2023-08-12T17:17:57.078775",
     "exception": false,
     "start_time": "2023-08-12T17:17:56.953626",
     "status": "completed"
    },
    "tags": []
   },
   "outputs": [],
   "source": [
    "# def evaluate(y_test, y_pred):\n",
    "#     print(classification_report(y_test, y_pred))\n",
    "#     print(confusion_matrix(y_test, y_pred))\n",
    "#     # print(f1_score(y_test, y_pred))\n",
    "#     ConfusionMatrixDisplay(y_test, y_pred)\n",
    "#     return"
   ]
  },
  {
   "cell_type": "markdown",
   "id": "add2e52f",
   "metadata": {
    "papermill": {
     "duration": 0.096521,
     "end_time": "2023-08-12T17:17:57.270657",
     "exception": false,
     "start_time": "2023-08-12T17:17:57.174136",
     "status": "completed"
    },
    "tags": []
   },
   "source": [
    "### Data preprocessing  "
   ]
  },
  {
   "cell_type": "markdown",
   "id": "40157143",
   "metadata": {
    "papermill": {
     "duration": 0.093619,
     "end_time": "2023-08-12T17:17:57.460956",
     "exception": false,
     "start_time": "2023-08-12T17:17:57.367337",
     "status": "completed"
    },
    "tags": []
   },
   "source": [
    "`Define stop words`  "
   ]
  },
  {
   "cell_type": "code",
   "execution_count": 16,
   "id": "2e536ded",
   "metadata": {
    "execution": {
     "iopub.execute_input": "2023-08-12T17:17:57.653780Z",
     "iopub.status.busy": "2023-08-12T17:17:57.652443Z",
     "iopub.status.idle": "2023-08-12T17:17:57.657786Z",
     "shell.execute_reply": "2023-08-12T17:17:57.656662Z"
    },
    "papermill": {
     "duration": 0.104238,
     "end_time": "2023-08-12T17:17:57.660506",
     "exception": false,
     "start_time": "2023-08-12T17:17:57.556268",
     "status": "completed"
    },
    "tags": []
   },
   "outputs": [],
   "source": [
    "# stop_words = [\"able\", \"about\", \"above\", \"abst\", \"ac\"]     # Deprecated  \n",
    "# type(stop_words), len(stop_words)"
   ]
  },
  {
   "cell_type": "markdown",
   "id": "4dccfb6f",
   "metadata": {
    "papermill": {
     "duration": 0.095429,
     "end_time": "2023-08-12T17:17:57.850871",
     "exception": false,
     "start_time": "2023-08-12T17:17:57.755442",
     "status": "completed"
    },
    "tags": []
   },
   "source": [
    "## Feature extraction  "
   ]
  },
  {
   "cell_type": "markdown",
   "id": "b7b898ce",
   "metadata": {
    "papermill": {
     "duration": 0.0981,
     "end_time": "2023-08-12T17:17:58.045864",
     "exception": false,
     "start_time": "2023-08-12T17:17:57.947764",
     "status": "completed"
    },
    "tags": []
   },
   "source": [
    "### Understand CountVectorizer and TfidfVectorizer  "
   ]
  },
  {
   "cell_type": "code",
   "execution_count": 17,
   "id": "6c94622b",
   "metadata": {
    "execution": {
     "iopub.execute_input": "2023-08-12T17:17:58.237055Z",
     "iopub.status.busy": "2023-08-12T17:17:58.236645Z",
     "iopub.status.idle": "2023-08-12T17:17:58.241631Z",
     "shell.execute_reply": "2023-08-12T17:17:58.240344Z"
    },
    "papermill": {
     "duration": 0.103538,
     "end_time": "2023-08-12T17:17:58.244159",
     "exception": false,
     "start_time": "2023-08-12T17:17:58.140621",
     "status": "completed"
    },
    "tags": []
   },
   "outputs": [],
   "source": [
    "# text = X_train.copy()\n",
    "# text.head()"
   ]
  },
  {
   "cell_type": "code",
   "execution_count": 18,
   "id": "0b0efbd8",
   "metadata": {
    "execution": {
     "iopub.execute_input": "2023-08-12T17:17:58.440375Z",
     "iopub.status.busy": "2023-08-12T17:17:58.439663Z",
     "iopub.status.idle": "2023-08-12T17:17:58.444552Z",
     "shell.execute_reply": "2023-08-12T17:17:58.443570Z"
    },
    "papermill": {
     "duration": 0.104952,
     "end_time": "2023-08-12T17:17:58.447163",
     "exception": false,
     "start_time": "2023-08-12T17:17:58.342211",
     "status": "completed"
    },
    "tags": []
   },
   "outputs": [],
   "source": [
    "# vectorizer = TfidfVectorizer(stop_words=stop_words)\n",
    "# vectorized_text = vectorizer.fit_transform(text[\"reviewText\"])\n",
    "# vectorized_text"
   ]
  },
  {
   "cell_type": "markdown",
   "id": "125cd186",
   "metadata": {
    "papermill": {
     "duration": 0.093285,
     "end_time": "2023-08-12T17:17:58.634029",
     "exception": false,
     "start_time": "2023-08-12T17:17:58.540744",
     "status": "completed"
    },
    "tags": []
   },
   "source": [
    "`Without stop words`  \n",
    "<122068x58624 sparse matrix of type '<class 'numpy.float64'>'\n",
    "\twith 2312222 stored elements in Compressed Sparse Row format>\n",
    "\n",
    "`With stop words`  \n",
    "<122068x57784 sparse matrix of type '<class 'numpy.float64'>'\n",
    "\twith 1188395 stored elements in Compressed Sparse Row format>   "
   ]
  },
  {
   "cell_type": "code",
   "execution_count": 19,
   "id": "4c04c7bd",
   "metadata": {
    "execution": {
     "iopub.execute_input": "2023-08-12T17:17:58.829145Z",
     "iopub.status.busy": "2023-08-12T17:17:58.828697Z",
     "iopub.status.idle": "2023-08-12T17:17:58.833565Z",
     "shell.execute_reply": "2023-08-12T17:17:58.832099Z"
    },
    "papermill": {
     "duration": 0.107285,
     "end_time": "2023-08-12T17:17:58.836365",
     "exception": false,
     "start_time": "2023-08-12T17:17:58.729080",
     "status": "completed"
    },
    "tags": []
   },
   "outputs": [],
   "source": [
    "# vectorizer2 = CountVectorizer(stop_words=stop_words)\n",
    "# vectorized_text2 = vectorizer2.fit_transform(text[\"reviewText\"])\n",
    "# vectorized_text2"
   ]
  },
  {
   "cell_type": "markdown",
   "id": "f02f8a80",
   "metadata": {
    "papermill": {
     "duration": 0.099113,
     "end_time": "2023-08-12T17:17:59.033809",
     "exception": false,
     "start_time": "2023-08-12T17:17:58.934696",
     "status": "completed"
    },
    "tags": []
   },
   "source": [
    "`Without stop words`  \n",
    "<122068x58624 sparse matrix of type '<class 'numpy.int64'>'\n",
    "\twith 2312222 stored elements in Compressed Sparse Row format>\n",
    "\n",
    "`With stop words`  \n",
    "<122068x57784 sparse matrix of type '<class 'numpy.int64'>'\n",
    "\twith 1188395 stored elements in Compressed Sparse Row format>"
   ]
  },
  {
   "cell_type": "markdown",
   "id": "350302de",
   "metadata": {
    "papermill": {
     "duration": 0.095198,
     "end_time": "2023-08-12T17:17:59.228698",
     "exception": false,
     "start_time": "2023-08-12T17:17:59.133500",
     "status": "completed"
    },
    "tags": []
   },
   "source": [
    "### Conclusion   \n",
    "`TfidfVectorizer is equivalent to CountVectorizer followed by TfidfTransformer.`  \n",
    "\n",
    "https://scikit-learn.org/stable/modules/generated/sklearn.feature_extraction.text.TfidfVectorizer.html"
   ]
  },
  {
   "cell_type": "markdown",
   "id": "fbd239ab",
   "metadata": {
    "papermill": {
     "duration": 0.094476,
     "end_time": "2023-08-12T17:17:59.420881",
     "exception": false,
     "start_time": "2023-08-12T17:17:59.326405",
     "status": "completed"
    },
    "tags": []
   },
   "source": [
    "## Model building workflow  \n",
    "\n",
    "`Make pipeline for preprocesing and model training and predictions`  \n"
   ]
  },
  {
   "cell_type": "code",
   "execution_count": 20,
   "id": "2ead6214",
   "metadata": {
    "execution": {
     "iopub.execute_input": "2023-08-12T17:17:59.615653Z",
     "iopub.status.busy": "2023-08-12T17:17:59.615244Z",
     "iopub.status.idle": "2023-08-12T17:17:59.620930Z",
     "shell.execute_reply": "2023-08-12T17:17:59.619701Z"
    },
    "papermill": {
     "duration": 0.105943,
     "end_time": "2023-08-12T17:17:59.623478",
     "exception": false,
     "start_time": "2023-08-12T17:17:59.517535",
     "status": "completed"
    },
    "tags": []
   },
   "outputs": [],
   "source": [
    "# def preprocess_n_train(X_train, y_train, preprocessor, model):\n",
    "#     pipe = Pipeline(steps=[\n",
    "#                             (\"preprocessor\", preprocessor),\n",
    "#                             (\"model\", model)\n",
    "#                         ])\n",
    "    \n",
    "#     pipe.fit(X_train, y_train)\n",
    "\n",
    "#     print(\"Given model has been trained. Use predict method to get predictions array.\")\n",
    "#     return pipe\n",
    "\n",
    "\n",
    "# def predict_n_evaluate(pipeline, X_test, y_test):\n",
    "#     y_pred = pipeline.predict(X_test)\n",
    "#     print(f\"y_pred shape: {y_pred.shape}\")\n",
    "#     print(f\"Summary of predictions: {np.unique(y_pred, return_counts=True)}\")\n",
    "#     print(classification_report(y_test, y_pred))\n",
    "#     print(confusion_matrix(y_test, y_pred))\n",
    "#     return y_pred"
   ]
  },
  {
   "cell_type": "markdown",
   "id": "a8f63fc7",
   "metadata": {
    "papermill": {
     "duration": 0.093354,
     "end_time": "2023-08-12T17:17:59.810648",
     "exception": false,
     "start_time": "2023-08-12T17:17:59.717294",
     "status": "completed"
    },
    "tags": []
   },
   "source": [
    "## Building 3 basic models  "
   ]
  },
  {
   "cell_type": "markdown",
   "id": "c4e7e897",
   "metadata": {
    "papermill": {
     "duration": 0.098177,
     "end_time": "2023-08-12T17:18:00.028693",
     "exception": false,
     "start_time": "2023-08-12T17:17:59.930516",
     "status": "completed"
    },
    "tags": []
   },
   "source": [
    "### Text preprocessors  "
   ]
  },
  {
   "cell_type": "code",
   "execution_count": 21,
   "id": "dd68021f",
   "metadata": {
    "execution": {
     "iopub.execute_input": "2023-08-12T17:18:00.228113Z",
     "iopub.status.busy": "2023-08-12T17:18:00.227298Z",
     "iopub.status.idle": "2023-08-12T17:18:00.231688Z",
     "shell.execute_reply": "2023-08-12T17:18:00.230798Z"
    },
    "papermill": {
     "duration": 0.104335,
     "end_time": "2023-08-12T17:18:00.234360",
     "exception": false,
     "start_time": "2023-08-12T17:18:00.130025",
     "status": "completed"
    },
    "tags": []
   },
   "outputs": [],
   "source": [
    "# tvec = TfidfVectorizer()\n",
    "# cvec = CountVectorizer()        # Note that TfidfVectorizer and CountVectorizer+TfidsTransformer do the same function\n",
    "# tvec, cvec"
   ]
  },
  {
   "cell_type": "markdown",
   "id": "e7751883",
   "metadata": {
    "papermill": {
     "duration": 0.096711,
     "end_time": "2023-08-12T17:18:00.428178",
     "exception": false,
     "start_time": "2023-08-12T17:18:00.331467",
     "status": "completed"
    },
    "tags": []
   },
   "source": [
    "### Logistic Regression with TfidVectorizer for preprocessing  "
   ]
  },
  {
   "cell_type": "code",
   "execution_count": 22,
   "id": "a38401f4",
   "metadata": {
    "execution": {
     "iopub.execute_input": "2023-08-12T17:18:00.624535Z",
     "iopub.status.busy": "2023-08-12T17:18:00.624091Z",
     "iopub.status.idle": "2023-08-12T17:18:00.629599Z",
     "shell.execute_reply": "2023-08-12T17:18:00.628137Z"
    },
    "papermill": {
     "duration": 0.104759,
     "end_time": "2023-08-12T17:18:00.632246",
     "exception": false,
     "start_time": "2023-08-12T17:18:00.527487",
     "status": "completed"
    },
    "tags": []
   },
   "outputs": [],
   "source": [
    "# logreg = LogisticRegression(max_iter=1000)\n",
    "# logreg_pipe = preprocess_n_train(X_train, y_train, tvec, logreg)\n",
    "# y_pred_logreg = predict_n_evaluate(logreg_pipe, X_test, y_test)\n",
    "# y_pred_logreg"
   ]
  },
  {
   "cell_type": "markdown",
   "id": "630496c6",
   "metadata": {
    "papermill": {
     "duration": 0.160599,
     "end_time": "2023-08-12T17:18:00.887354",
     "exception": false,
     "start_time": "2023-08-12T17:18:00.726755",
     "status": "completed"
    },
    "tags": []
   },
   "source": [
    "### SVM model  "
   ]
  },
  {
   "cell_type": "code",
   "execution_count": 23,
   "id": "1eeeab9b",
   "metadata": {
    "execution": {
     "iopub.execute_input": "2023-08-12T17:18:01.085060Z",
     "iopub.status.busy": "2023-08-12T17:18:01.084607Z",
     "iopub.status.idle": "2023-08-12T17:18:01.090295Z",
     "shell.execute_reply": "2023-08-12T17:18:01.088762Z"
    },
    "papermill": {
     "duration": 0.105118,
     "end_time": "2023-08-12T17:18:01.093105",
     "exception": false,
     "start_time": "2023-08-12T17:18:00.987987",
     "status": "completed"
    },
    "tags": []
   },
   "outputs": [],
   "source": [
    "# svm = LinearSVC()\n",
    "# svm_pipe = preprocess_n_train(X_train, y_train, tvec, svm)\n",
    "# y_pred_svm = predict_n_evaluate(svm_pipe, X_test, y_test)\n",
    "# y_pred_svm"
   ]
  },
  {
   "cell_type": "markdown",
   "id": "e0c2c692",
   "metadata": {
    "papermill": {
     "duration": 0.094114,
     "end_time": "2023-08-12T17:18:01.281628",
     "exception": false,
     "start_time": "2023-08-12T17:18:01.187514",
     "status": "completed"
    },
    "tags": []
   },
   "source": [
    "### Naive Bayes model  "
   ]
  },
  {
   "cell_type": "markdown",
   "id": "9a2f13de",
   "metadata": {
    "papermill": {
     "duration": 0.095629,
     "end_time": "2023-08-12T17:18:01.471185",
     "exception": false,
     "start_time": "2023-08-12T17:18:01.375556",
     "status": "completed"
    },
    "tags": []
   },
   "source": [
    "#### MultinomialNB  "
   ]
  },
  {
   "cell_type": "code",
   "execution_count": 24,
   "id": "533b6a60",
   "metadata": {
    "execution": {
     "iopub.execute_input": "2023-08-12T17:18:01.663680Z",
     "iopub.status.busy": "2023-08-12T17:18:01.663243Z",
     "iopub.status.idle": "2023-08-12T17:18:01.668607Z",
     "shell.execute_reply": "2023-08-12T17:18:01.667411Z"
    },
    "papermill": {
     "duration": 0.104132,
     "end_time": "2023-08-12T17:18:01.670882",
     "exception": false,
     "start_time": "2023-08-12T17:18:01.566750",
     "status": "completed"
    },
    "tags": []
   },
   "outputs": [],
   "source": [
    "# mnb = MultinomialNB()\n",
    "# mnb_pipe = preprocess_n_train(X_train, y_train, tvec, mnb)\n",
    "# y_pred_mnb = predict_n_evaluate(mnb_pipe, X_test, y_test)\n",
    "# y_pred_mnb"
   ]
  },
  {
   "cell_type": "markdown",
   "id": "96663582",
   "metadata": {
    "papermill": {
     "duration": 0.095485,
     "end_time": "2023-08-12T17:18:01.862172",
     "exception": false,
     "start_time": "2023-08-12T17:18:01.766687",
     "status": "completed"
    },
    "tags": []
   },
   "source": [
    "## Submitting predictions to Kaggle competition  "
   ]
  },
  {
   "cell_type": "code",
   "execution_count": 25,
   "id": "286acc3a",
   "metadata": {
    "execution": {
     "iopub.execute_input": "2023-08-12T17:18:02.064611Z",
     "iopub.status.busy": "2023-08-12T17:18:02.064048Z",
     "iopub.status.idle": "2023-08-12T17:18:02.071580Z",
     "shell.execute_reply": "2023-08-12T17:18:02.070001Z"
    },
    "papermill": {
     "duration": 0.115181,
     "end_time": "2023-08-12T17:18:02.075306",
     "exception": false,
     "start_time": "2023-08-12T17:18:01.960125",
     "status": "completed"
    },
    "tags": []
   },
   "outputs": [],
   "source": [
    "# def submit(selected_model=logreg, selected_preprocessor=tvec):\n",
    "    \n",
    "#     # Retrain on the whole train.csv file  \n",
    "#     traindf = pd.read_csv(\"/kaggle/input/sentiment-prediction-on-movie-reviews/train.csv\")\n",
    "#     X_train = traindf[\"reviewText\"]\n",
    "#     X_train.fillna(\"empty\", inplace=True)\n",
    "#     y_train = traindf[\"sentiment\"]\n",
    "#     pipe = preprocess_n_train(X_train, y_train, selected_preprocessor, selected_model)\n",
    "    \n",
    "#     # Predict on test.csv file\n",
    "#     testdf = pd.read_csv(\"/kaggle/input/sentiment-prediction-on-movie-reviews/test.csv\")\n",
    "#     X_test = testdf[\"reviewText\"]\n",
    "#     X_test.fillna(\"empty\", inplace=True)\n",
    "    \n",
    "#     y_pred = pipe.predict(X_test)\n",
    "    \n",
    "#     pred_df = pd.DataFrame(y_pred)\n",
    "#     pred_df.columns = [\"sentiment\"]\n",
    "#     pred_df.index.name = \"id\"\n",
    "#     pred_df.to_csv(\"submission.csv\")\n",
    "    \n",
    "#     return \"Successfully created the submission file!!!\""
   ]
  },
  {
   "cell_type": "code",
   "execution_count": 26,
   "id": "52e86006",
   "metadata": {
    "execution": {
     "iopub.execute_input": "2023-08-12T17:18:02.267776Z",
     "iopub.status.busy": "2023-08-12T17:18:02.267401Z",
     "iopub.status.idle": "2023-08-12T17:18:02.272605Z",
     "shell.execute_reply": "2023-08-12T17:18:02.270996Z"
    },
    "papermill": {
     "duration": 0.103483,
     "end_time": "2023-08-12T17:18:02.275859",
     "exception": false,
     "start_time": "2023-08-12T17:18:02.172376",
     "status": "completed"
    },
    "tags": []
   },
   "outputs": [],
   "source": [
    "# submit(logreg_cv1, tvec_cv1)"
   ]
  },
  {
   "cell_type": "markdown",
   "id": "2f990125",
   "metadata": {
    "papermill": {
     "duration": 0.09734,
     "end_time": "2023-08-12T17:18:02.469042",
     "exception": false,
     "start_time": "2023-08-12T17:18:02.371702",
     "status": "completed"
    },
    "tags": []
   },
   "source": [
    "# PART II  "
   ]
  },
  {
   "cell_type": "markdown",
   "id": "a2b15c94",
   "metadata": {
    "papermill": {
     "duration": 0.093868,
     "end_time": "2023-08-12T17:18:02.656599",
     "exception": false,
     "start_time": "2023-08-12T17:18:02.562731",
     "status": "completed"
    },
    "tags": []
   },
   "source": [
    "## Merge \"movies.csv\" with \"train.csv\" and \"test.csv\"  "
   ]
  },
  {
   "cell_type": "markdown",
   "id": "467ba756",
   "metadata": {
    "papermill": {
     "duration": 0.094084,
     "end_time": "2023-08-12T17:18:02.844666",
     "exception": false,
     "start_time": "2023-08-12T17:18:02.750582",
     "status": "completed"
    },
    "tags": []
   },
   "source": [
    "### Helper functions  "
   ]
  },
  {
   "cell_type": "code",
   "execution_count": 27,
   "id": "ea6fbe79",
   "metadata": {
    "execution": {
     "iopub.execute_input": "2023-08-12T17:18:03.048114Z",
     "iopub.status.busy": "2023-08-12T17:18:03.047666Z",
     "iopub.status.idle": "2023-08-12T17:18:03.054623Z",
     "shell.execute_reply": "2023-08-12T17:18:03.053338Z"
    },
    "papermill": {
     "duration": 0.115237,
     "end_time": "2023-08-12T17:18:03.057163",
     "exception": false,
     "start_time": "2023-08-12T17:18:02.941926",
     "status": "completed"
    },
    "tags": []
   },
   "outputs": [],
   "source": [
    "# Helper function for loading files  \n",
    "\n",
    "def load_csv(filename: str):\n",
    "    if platform == \"vscode\":\n",
    "        df = pd.read_csv(f\"data/{filename}.csv\")\n",
    "    else:\n",
    "        df = pd.read_csv(f\"/kaggle/input/sentiment-prediction-on-movie-reviews/{filename}.csv\")\n",
    "        \n",
    "    return df"
   ]
  },
  {
   "cell_type": "code",
   "execution_count": 28,
   "id": "31b6c966",
   "metadata": {
    "execution": {
     "iopub.execute_input": "2023-08-12T17:18:03.248913Z",
     "iopub.status.busy": "2023-08-12T17:18:03.247788Z",
     "iopub.status.idle": "2023-08-12T17:18:03.255487Z",
     "shell.execute_reply": "2023-08-12T17:18:03.254211Z"
    },
    "papermill": {
     "duration": 0.106095,
     "end_time": "2023-08-12T17:18:03.258363",
     "exception": false,
     "start_time": "2023-08-12T17:18:03.152268",
     "status": "completed"
    },
    "tags": []
   },
   "outputs": [],
   "source": [
    "def inspect(df: pd.DataFrame):\n",
    "    print(f\"Shape of the dataframe: {df.shape}\")\n",
    "    print()\n",
    "    print(f\"Columns in the dataframe:\\n{df.columns}\")\n",
    "    print()\n",
    "    print(f\"{df.info()}\")\n",
    "    print()\n",
    "    # print(f\"Summary: {df.describe()}\")\n",
    "    print(f\"Missing values:\\n{df.isna().sum()}\")\n",
    "    return"
   ]
  },
  {
   "cell_type": "code",
   "execution_count": 29,
   "id": "ee9bce73",
   "metadata": {
    "execution": {
     "iopub.execute_input": "2023-08-12T17:18:03.450056Z",
     "iopub.status.busy": "2023-08-12T17:18:03.448872Z",
     "iopub.status.idle": "2023-08-12T17:18:03.455170Z",
     "shell.execute_reply": "2023-08-12T17:18:03.453957Z"
    },
    "papermill": {
     "duration": 0.104536,
     "end_time": "2023-08-12T17:18:03.457755",
     "exception": false,
     "start_time": "2023-08-12T17:18:03.353219",
     "status": "completed"
    },
    "tags": []
   },
   "outputs": [],
   "source": [
    "def name_fl(name):\n",
    "    l = name.split()\n",
    "    n = ' '.join((l[0], l[-1]))\n",
    "    return n"
   ]
  },
  {
   "cell_type": "code",
   "execution_count": 30,
   "id": "2329a3d3",
   "metadata": {
    "execution": {
     "iopub.execute_input": "2023-08-12T17:18:03.653854Z",
     "iopub.status.busy": "2023-08-12T17:18:03.652998Z",
     "iopub.status.idle": "2023-08-12T17:18:03.681469Z",
     "shell.execute_reply": "2023-08-12T17:18:03.680188Z"
    },
    "papermill": {
     "duration": 0.131113,
     "end_time": "2023-08-12T17:18:03.684415",
     "exception": false,
     "start_time": "2023-08-12T17:18:03.553302",
     "status": "completed"
    },
    "tags": []
   },
   "outputs": [],
   "source": [
    "def select_features(df: pd.DataFrame, moviesdf: pd.DataFrame, row_thresh_null=None):\n",
    "    '''\n",
    "    This function merges the given dataframes. Note that the first df must be \"train\" or \"test\" and\n",
    "    the second df should be \"movies\".\n",
    "    Note: Sentiment column is present only in \"train.csv\" file and not \"test.csv\" file.\n",
    "    '''\n",
    "    \n",
    "    # Drop duplicates from moviesdf\n",
    "#     movies_unique = moviesdf.drop_duplicates(subset=[\"movieid\"])\n",
    "\n",
    "    # Drop duplicates using groupby - clubs similar rows and fills in missing values better\n",
    "    movies_unique = moviesdf.fillna(value=np.nan).groupby(\"movieid\").first().reset_index()\n",
    "    \n",
    "\n",
    "    # Handle missing values in movies.csv better than just dropping duplicates?\n",
    "#     movies_unique = moviesdf.copy()\n",
    "#     movies_unique[[\"audienceScore\", \"runtimeMinutes\"]] = movies_unique[[\"audienceScore\", \"runtimeMinutes\"]].interpolate(method='linear', axis=0)\n",
    "#     movies_unique = movies_unique.fillna(value=np.nan).groupby(\"movieid\").first().fillna(method='ffill').reset_index()\n",
    "\n",
    "    \n",
    "\n",
    "    # Merge df and movies_unique\n",
    "    df_merged = pd.merge(df, movies_unique, on=\"movieid\", how='left')\n",
    "    \n",
    "    # Rename \"isTopCritic\" column, if it exists, to \"isFrequentReviewer\"\n",
    "    df_merged.rename(columns={\"isTopCritic\": \"isFrequentReviewer\"}, inplace=True)\n",
    "    \n",
    "    # Drop columns\n",
    "#     df_merged = df_merged.drop(columns=[\"title\", \"ratingContents\", \"releaseDateTheaters\", \"releaseDateStreaming\", \"distributor\", \"soundType\"])\n",
    "#     df_merged = df_merged.drop(columns=[\"title\", \"soundType\"])\n",
    "    \n",
    "    # Drop rows (OPTIONAL: Uses kwarg row_thresh_null)\n",
    "    if row_thresh_null != None:\n",
    "        df_merged.dropna(axis=0, thresh=(df_merged.shape[1] - row_thresh_null), inplace=True)\n",
    "        \n",
    "\n",
    "    # Create new columns based on reviewText\n",
    "    final = df_merged.copy()\n",
    "    final[\"reviewYN\"] = np.where(final[\"reviewText\"].isnull(), 1, 0)    # Feature engineering - adding a new column\n",
    "    final[\"reviewWC\"] = final.apply(lambda x: len(str(x[\"reviewText\"]).split()), axis=1)    # Feature engineering - adding second new column\n",
    "    \n",
    "    # Clean text (replace numbers with empty string) and fill missing values in \"reviewText\" with empty string\n",
    "    final[\"reviewText\"] = final[\"reviewText\"].str.replace('\\d+', '', regex=True)\n",
    "    final[\"reviewText\"] = final[\"reviewText\"].fillna(\"neutral\")\n",
    "    \n",
    "    # Fill missing values in \"rating\", \"genre\", original columns with the word \"unknown\"\n",
    "    final[\"rating\"] = final[\"rating\"].fillna(\"unknown\")\n",
    "    final[\"originalLanguage\"] = final[\"originalLanguage\"].fillna(\"unknown\")\n",
    "    final[\"genre\"] = final[\"genre\"].fillna(\"unknown\")\n",
    "    final[\"genre\"] = final[\"genre\"].apply(lambda x: re.sub(r\"-\", \"\", x))\n",
    "    final[\"genreSorted\"] = final[\"genre\"].apply(lambda x: (\",\").join(sorted(x.split(\", \"))))\n",
    "#     final[\"genre\"] = final[\"genre\"].replace(to_replace={\"&\": \"\"})\n",
    "\n",
    "    # Impute missing values for \"audienceScore\" and \"runtimeMinutes\" columns\n",
    "#     final[\"audienceScore\"] = final[\"audienceScore\"].fillna(final[\"audienceScore\"].mean())        # MOVED\n",
    "#     final[\"runtimeMinutes\"] = final[\"runtimeMinutes\"].fillna(final[\"runtimeMinutes\"].median())   # MOVED\n",
    "    \n",
    "    # Preprocess and impute missing values in \"boxOffice\" column\n",
    "    final[\"boxOffice\"] = final[\"boxOffice\"].str[1:]\n",
    "    final[\"boxOffice\"] = final[\"boxOffice\"].replace(to_replace={\"M\": \"*1000000\", \"K\": \"*1000\"}, regex=True)\n",
    "    final[\"boxOffice\"] = final[\"boxOffice\"].loc[final[\"boxOffice\"].notnull()].apply(lambda x: eval(str(x)))\n",
    "#     final[\"boxOffice\"] = final[\"boxOffice\"].fillna(final[\"boxOffice\"].median())                  # MOVED\n",
    "    # (Optional) Replace outliers in boxOffice with median\n",
    "#     median = final[\"boxOffice\"].describe()['50%']\n",
    "#     iqr = final[\"boxOffice\"].describe()['75%'] - final[\"boxOffice\"].describe()['25%']\n",
    "#     ll = median - (1.5*iqr)\n",
    "#     ul = median + (1.5*iqr)\n",
    "#     final.loc[final[\"boxOffice\"] > ul, \"boxOffice\"] = median\n",
    "    \n",
    "    # Clean language names\n",
    "    final[\"originalLanguage\"].replace({\"English (United Kingdom)\": \"English\", \n",
    "                                            \"English (Australia)\" : \"English\",\n",
    "                                            \"French (France)\": \"French\", \n",
    "                                            \"French (Canada)\": \"French\",\n",
    "                                            \"Portuguese (Brazil)\": \"Portuguese\",\n",
    "                                            \"Spanish (Spain)\": \"Spanish\"},                                         \n",
    "                                            inplace=True)\n",
    "    \n",
    "    # Clean reviewerName column\n",
    "    pre_post_fixes = {\"Mr. \": \"\", \"Mrs. \": \"\", \"Ms. \": \"\", \"Dr. \": \"\", \n",
    "                      \" MD\": \"\", \" DDS\": \"\", \" DVM\": \"\", \" Jr.\": \"\", \" PhD\": \"\", \" II\": \"\", \" IV\": \"\"}\n",
    "    final[\"reviewerName\"] = final[\"reviewerName\"].replace(pre_post_fixes, regex=True)\n",
    "    final[\"reviewerName\"] = final[\"reviewerName\"].apply(name_fl)\n",
    "    \n",
    "    # Handle 'ratingContents' column\n",
    "    final[\"ratingContents\"] = final[\"ratingContents\"].fillna(\"neutral\")\n",
    "    final[\"rcSorted\"] = final[\"ratingContents\"].apply(lambda x: (\",\").join(sorted(x.strip(\"][\").split(\", \"))))\n",
    "    final[\"rcSorted\"] = final[\"rcSorted\"].apply(lambda x: re.sub(r\"'\", \"\", x))\n",
    "    final[\"rcSorted\"] = final[\"rcSorted\"].apply(lambda x: re.sub(r\"[/\\s]\", \"_\", x))  \n",
    "    \n",
    "    # Handle 'ratingContents' column\n",
    "    final[\"distributor\"] = final[\"distributor\"].fillna(\"unknown\")\n",
    "    \n",
    "    # Work with 'releaseDateTheaters', releaseDateStreaming column\n",
    "    final[[\"releaseDateTheaters\", \"releaseDateStreaming\"]] = final[[\"releaseDateTheaters\", \"releaseDateStreaming\"]].astype('datetime64[ns]')\n",
    "\n",
    "    final[\"releaseDate\"] = final[[\"releaseDateTheaters\", \"releaseDateStreaming\"]].min(axis=1, skipna=False)\n",
    "#     final[\"releaseDate\"] = final[\"releaseDate\"].fillna(final[\"releaseDate\"].median())               # MOVED\n",
    "\n",
    "    final[\"releaseYear\"] = final[\"releaseDate\"].dt.year\n",
    "    final[\"releaseMonth\"] = final[\"releaseDate\"].dt.month\n",
    "    \n",
    "    # Compute \"releaseDiff\" column and fill missing values in \"releaseDiff\" and (optional) replace outliers\n",
    "    final[\"releaseDiff\"] = (final[\"releaseDateStreaming\"] - final[\"releaseDateTheaters\"]) / np.timedelta64(1, 'D')\n",
    "    final[\"releaseDiff\"] = final[\"releaseDiff\"].apply(lambda x: abs(x))\n",
    "    final[\"releaseDiff\"] = final[\"releaseDiff\"].fillna(value=0)\n",
    "#     final[\"releaseDiff\"] = final[\"releaseDiff\"].fillna(final[\"releaseDiff\"].median())\n",
    "    # median = final[\"releaseDiff\"].describe()['50%']\n",
    "    # iqr = final[\"releaseDiff\"].describe()['75%'] - final[\"releaseDiff\"].describe()['25%']\n",
    "    # ll = median - (1.5*iqr)\n",
    "    # ul = median + (1.5*iqr)\n",
    "    # final.loc[final[\"releaseDiff\"] > ul, \"releaseDiff\"] = median\n",
    "    # final.loc[final[\"releaseDiff\"] < ll, \"releaseDiff\"] = median\n",
    "    \n",
    "#     # Create new feature columns\n",
    "    \n",
    "#     # Convert audienceScore to categories  \n",
    "#     num_bins_as = 20\n",
    "#     final[\"audScoreBins\"] = pd.cut(final['audienceScore'], bins=num_bins_as, labels=False)\n",
    "    \n",
    "#     # Convert runtimeMinutes to categories  \n",
    "# #     num_bins_rt = 20\n",
    "#     final[\"runtimeBins\"] = pd.cut(final['runtimeMinutes'], bins=[0,75,120,180,565], labels=[4,3,2,1])\n",
    "    \n",
    "#     # Convert boxOffice to categories  \n",
    "#     num_bins_bo = 5\n",
    "#     final[\"boxOfficeBins\"] = pd.cut(final['boxOffice'], bins=num_bins_bo, labels=False)\n",
    "    \n",
    "#     # Convert releaseDiff to categories  \n",
    "#     num_bins_rd = 5\n",
    "#     final[\"releaseDiffBins\"] = pd.cut(final['releaseDiff'], bins=[-1, 180, 360, 1000, 40000], labels=[0, 1, 2, 3])\n",
    "\n",
    "    return final"
   ]
  },
  {
   "cell_type": "code",
   "execution_count": 31,
   "id": "fae56ca1",
   "metadata": {
    "execution": {
     "iopub.execute_input": "2023-08-12T17:18:03.876630Z",
     "iopub.status.busy": "2023-08-12T17:18:03.875791Z",
     "iopub.status.idle": "2023-08-12T17:18:03.884124Z",
     "shell.execute_reply": "2023-08-12T17:18:03.882957Z"
    },
    "papermill": {
     "duration": 0.106922,
     "end_time": "2023-08-12T17:18:03.886653",
     "exception": false,
     "start_time": "2023-08-12T17:18:03.779731",
     "status": "completed"
    },
    "tags": []
   },
   "outputs": [],
   "source": [
    "def split_train_predict(features, labels, pipeline, test_size=0.25, random_state=42):\n",
    "    # cols = features.columns\n",
    "    if len(features.shape) == 1:\n",
    "        features = features.to_numpy().reshape(-1, 1)  # reshape to 2D array\n",
    "    features = pd.DataFrame(features)\n",
    "    X_train, X_test, y_train, y_test = train_test_split(features, labels, test_size=test_size, random_state=random_state)\n",
    "    pipeline.fit(X_train, y_train)\n",
    "    y_pred = pipeline.predict(X_test)\n",
    "    print(classification_report(y_test, y_pred))\n",
    "    print(confusion_matrix(y_test, y_pred))\n",
    "    return pipeline"
   ]
  },
  {
   "cell_type": "markdown",
   "id": "9ad59bb6",
   "metadata": {
    "papermill": {
     "duration": 0.096298,
     "end_time": "2023-08-12T17:18:04.077302",
     "exception": false,
     "start_time": "2023-08-12T17:18:03.981004",
     "status": "completed"
    },
    "tags": []
   },
   "source": [
    "### Merge \"train.csv\" file with \"movies.csv\" file  "
   ]
  },
  {
   "cell_type": "code",
   "execution_count": 32,
   "id": "247fdf83",
   "metadata": {
    "execution": {
     "iopub.execute_input": "2023-08-12T17:18:04.270371Z",
     "iopub.status.busy": "2023-08-12T17:18:04.269533Z",
     "iopub.status.idle": "2023-08-12T17:18:19.043240Z",
     "shell.execute_reply": "2023-08-12T17:18:19.042012Z"
    },
    "papermill": {
     "duration": 14.872345,
     "end_time": "2023-08-12T17:18:19.046155",
     "exception": false,
     "start_time": "2023-08-12T17:18:04.173810",
     "status": "completed"
    },
    "tags": []
   },
   "outputs": [],
   "source": [
    "merged = select_features(load_csv(\"train\"), load_csv(\"movies\"), row_thresh_null=None)"
   ]
  },
  {
   "cell_type": "code",
   "execution_count": 33,
   "id": "062b17ad",
   "metadata": {
    "execution": {
     "iopub.execute_input": "2023-08-12T17:18:19.237830Z",
     "iopub.status.busy": "2023-08-12T17:18:19.237390Z",
     "iopub.status.idle": "2023-08-12T17:18:19.242374Z",
     "shell.execute_reply": "2023-08-12T17:18:19.241145Z"
    },
    "papermill": {
     "duration": 0.103517,
     "end_time": "2023-08-12T17:18:19.245005",
     "exception": false,
     "start_time": "2023-08-12T17:18:19.141488",
     "status": "completed"
    },
    "tags": []
   },
   "outputs": [],
   "source": [
    "# inspect(merged)    # Note missing values in ['audienceScore', 'runtimeMinutes', 'boxOffice'] columns  "
   ]
  },
  {
   "cell_type": "code",
   "execution_count": 34,
   "id": "9ceef01a",
   "metadata": {
    "execution": {
     "iopub.execute_input": "2023-08-12T17:18:19.436991Z",
     "iopub.status.busy": "2023-08-12T17:18:19.436203Z",
     "iopub.status.idle": "2023-08-12T17:18:19.531526Z",
     "shell.execute_reply": "2023-08-12T17:18:19.530321Z"
    },
    "papermill": {
     "duration": 0.193396,
     "end_time": "2023-08-12T17:18:19.533986",
     "exception": false,
     "start_time": "2023-08-12T17:18:19.340590",
     "status": "completed"
    },
    "tags": []
   },
   "outputs": [
    {
     "data": {
      "text/plain": [
       "array([6.80e+01, 1.04e+02, 1.43e+07])"
      ]
     },
     "execution_count": 34,
     "metadata": {},
     "output_type": "execute_result"
    }
   ],
   "source": [
    "# Simple Imputer for ['audienceScore', 'runtimeMinutes', 'boxOffice'] columns\n",
    "si = SimpleImputer(strategy='median')\n",
    "merged[['audienceScore', 'runtimeMinutes', 'boxOffice']] = si.fit_transform(merged[['audienceScore', 'runtimeMinutes', 'boxOffice']])\n",
    "si.statistics_"
   ]
  },
  {
   "cell_type": "code",
   "execution_count": 35,
   "id": "dfc9321e",
   "metadata": {
    "execution": {
     "iopub.execute_input": "2023-08-12T17:18:19.728214Z",
     "iopub.status.busy": "2023-08-12T17:18:19.727431Z",
     "iopub.status.idle": "2023-08-12T17:18:19.742351Z",
     "shell.execute_reply": "2023-08-12T17:18:19.741278Z"
    },
    "papermill": {
     "duration": 0.114376,
     "end_time": "2023-08-12T17:18:19.745067",
     "exception": false,
     "start_time": "2023-08-12T17:18:19.630691",
     "status": "completed"
    },
    "tags": []
   },
   "outputs": [],
   "source": [
    "# Fill 'releaseDate' column with median  \n",
    "merged['releaseDate'] = merged[\"releaseDate\"].fillna(merged[\"releaseDate\"].median())"
   ]
  },
  {
   "cell_type": "code",
   "execution_count": 36,
   "id": "e3c6a0bf",
   "metadata": {
    "execution": {
     "iopub.execute_input": "2023-08-12T17:18:19.940080Z",
     "iopub.status.busy": "2023-08-12T17:18:19.939621Z",
     "iopub.status.idle": "2023-08-12T17:18:21.493836Z",
     "shell.execute_reply": "2023-08-12T17:18:21.491181Z"
    },
    "papermill": {
     "duration": 1.65352,
     "end_time": "2023-08-12T17:18:21.496612",
     "exception": false,
     "start_time": "2023-08-12T17:18:19.843092",
     "status": "completed"
    },
    "tags": []
   },
   "outputs": [
    {
     "name": "stdout",
     "output_type": "stream",
     "text": [
      "Shape of the dataframe: (162758, 26)\n",
      "\n",
      "Columns in the dataframe:\n",
      "Index(['movieid', 'reviewerName', 'isFrequentReviewer', 'reviewText',\n",
      "       'sentiment', 'title', 'audienceScore', 'rating', 'ratingContents',\n",
      "       'releaseDateTheaters', 'releaseDateStreaming', 'runtimeMinutes',\n",
      "       'genre', 'originalLanguage', 'director', 'boxOffice', 'distributor',\n",
      "       'soundType', 'reviewYN', 'reviewWC', 'genreSorted', 'rcSorted',\n",
      "       'releaseDate', 'releaseYear', 'releaseMonth', 'releaseDiff'],\n",
      "      dtype='object')\n",
      "\n",
      "<class 'pandas.core.frame.DataFrame'>\n",
      "Int64Index: 162758 entries, 0 to 162757\n",
      "Data columns (total 26 columns):\n",
      " #   Column                Non-Null Count   Dtype         \n",
      "---  ------                --------------   -----         \n",
      " 0   movieid               162758 non-null  object        \n",
      " 1   reviewerName          162758 non-null  object        \n",
      " 2   isFrequentReviewer    162758 non-null  bool          \n",
      " 3   reviewText            162758 non-null  object        \n",
      " 4   sentiment             162758 non-null  object        \n",
      " 5   title                 162758 non-null  object        \n",
      " 6   audienceScore         162758 non-null  float64       \n",
      " 7   rating                162758 non-null  object        \n",
      " 8   ratingContents        162758 non-null  object        \n",
      " 9   releaseDateTheaters   146403 non-null  datetime64[ns]\n",
      " 10  releaseDateStreaming  157353 non-null  datetime64[ns]\n",
      " 11  runtimeMinutes        162758 non-null  float64       \n",
      " 12  genre                 162758 non-null  object        \n",
      " 13  originalLanguage      162758 non-null  object        \n",
      " 14  director              162758 non-null  object        \n",
      " 15  boxOffice             162758 non-null  float64       \n",
      " 16  distributor           162758 non-null  object        \n",
      " 17  soundType             93466 non-null   object        \n",
      " 18  reviewYN              162758 non-null  int64         \n",
      " 19  reviewWC              162758 non-null  int64         \n",
      " 20  genreSorted           162758 non-null  object        \n",
      " 21  rcSorted              162758 non-null  object        \n",
      " 22  releaseDate           162758 non-null  datetime64[ns]\n",
      " 23  releaseYear           143073 non-null  float64       \n",
      " 24  releaseMonth          143073 non-null  float64       \n",
      " 25  releaseDiff           162758 non-null  float64       \n",
      "dtypes: bool(1), datetime64[ns](3), float64(6), int64(2), object(14)\n",
      "memory usage: 32.4+ MB\n",
      "None\n",
      "\n",
      "Missing values:\n",
      "movieid                     0\n",
      "reviewerName                0\n",
      "isFrequentReviewer          0\n",
      "reviewText                  0\n",
      "sentiment                   0\n",
      "title                       0\n",
      "audienceScore               0\n",
      "rating                      0\n",
      "ratingContents              0\n",
      "releaseDateTheaters     16355\n",
      "releaseDateStreaming     5405\n",
      "runtimeMinutes              0\n",
      "genre                       0\n",
      "originalLanguage            0\n",
      "director                    0\n",
      "boxOffice                   0\n",
      "distributor                 0\n",
      "soundType               69292\n",
      "reviewYN                    0\n",
      "reviewWC                    0\n",
      "genreSorted                 0\n",
      "rcSorted                    0\n",
      "releaseDate                 0\n",
      "releaseYear             19685\n",
      "releaseMonth            19685\n",
      "releaseDiff                 0\n",
      "dtype: int64\n"
     ]
    }
   ],
   "source": [
    "# Check out 'merged' df after imputation  \n",
    "inspect(merged)"
   ]
  },
  {
   "cell_type": "code",
   "execution_count": 37,
   "id": "218b98f0",
   "metadata": {
    "execution": {
     "iopub.execute_input": "2023-08-12T17:18:21.690758Z",
     "iopub.status.busy": "2023-08-12T17:18:21.690338Z",
     "iopub.status.idle": "2023-08-12T17:18:21.752315Z",
     "shell.execute_reply": "2023-08-12T17:18:21.751138Z"
    },
    "papermill": {
     "duration": 0.161686,
     "end_time": "2023-08-12T17:18:21.755155",
     "exception": false,
     "start_time": "2023-08-12T17:18:21.593469",
     "status": "completed"
    },
    "tags": []
   },
   "outputs": [
    {
     "data": {
      "text/html": [
       "<div>\n",
       "<style scoped>\n",
       "    .dataframe tbody tr th:only-of-type {\n",
       "        vertical-align: middle;\n",
       "    }\n",
       "\n",
       "    .dataframe tbody tr th {\n",
       "        vertical-align: top;\n",
       "    }\n",
       "\n",
       "    .dataframe thead th {\n",
       "        text-align: right;\n",
       "    }\n",
       "</style>\n",
       "<table border=\"1\" class=\"dataframe\">\n",
       "  <thead>\n",
       "    <tr style=\"text-align: right;\">\n",
       "      <th></th>\n",
       "      <th>audienceScore</th>\n",
       "      <th>runtimeMinutes</th>\n",
       "      <th>boxOffice</th>\n",
       "    </tr>\n",
       "  </thead>\n",
       "  <tbody>\n",
       "    <tr>\n",
       "      <th>count</th>\n",
       "      <td>162758.000000</td>\n",
       "      <td>162758.000000</td>\n",
       "      <td>1.627580e+05</td>\n",
       "    </tr>\n",
       "    <tr>\n",
       "      <th>mean</th>\n",
       "      <td>65.062565</td>\n",
       "      <td>106.992019</td>\n",
       "      <td>4.160983e+07</td>\n",
       "    </tr>\n",
       "    <tr>\n",
       "      <th>std</th>\n",
       "      <td>19.844000</td>\n",
       "      <td>22.203778</td>\n",
       "      <td>7.932291e+07</td>\n",
       "    </tr>\n",
       "    <tr>\n",
       "      <th>min</th>\n",
       "      <td>0.000000</td>\n",
       "      <td>4.000000</td>\n",
       "      <td>0.000000e+00</td>\n",
       "    </tr>\n",
       "    <tr>\n",
       "      <th>25%</th>\n",
       "      <td>51.000000</td>\n",
       "      <td>93.000000</td>\n",
       "      <td>2.000000e+06</td>\n",
       "    </tr>\n",
       "    <tr>\n",
       "      <th>50%</th>\n",
       "      <td>68.000000</td>\n",
       "      <td>104.000000</td>\n",
       "      <td>1.430000e+07</td>\n",
       "    </tr>\n",
       "    <tr>\n",
       "      <th>75%</th>\n",
       "      <td>81.000000</td>\n",
       "      <td>118.000000</td>\n",
       "      <td>4.200000e+07</td>\n",
       "    </tr>\n",
       "    <tr>\n",
       "      <th>max</th>\n",
       "      <td>100.000000</td>\n",
       "      <td>561.000000</td>\n",
       "      <td>8.584000e+08</td>\n",
       "    </tr>\n",
       "  </tbody>\n",
       "</table>\n",
       "</div>"
      ],
      "text/plain": [
       "       audienceScore  runtimeMinutes     boxOffice\n",
       "count  162758.000000   162758.000000  1.627580e+05\n",
       "mean       65.062565      106.992019  4.160983e+07\n",
       "std        19.844000       22.203778  7.932291e+07\n",
       "min         0.000000        4.000000  0.000000e+00\n",
       "25%        51.000000       93.000000  2.000000e+06\n",
       "50%        68.000000      104.000000  1.430000e+07\n",
       "75%        81.000000      118.000000  4.200000e+07\n",
       "max       100.000000      561.000000  8.584000e+08"
      ]
     },
     "execution_count": 37,
     "metadata": {},
     "output_type": "execute_result"
    }
   ],
   "source": [
    "merged[['audienceScore', 'runtimeMinutes', 'boxOffice']].describe()"
   ]
  },
  {
   "cell_type": "markdown",
   "id": "b0fa68cb",
   "metadata": {
    "papermill": {
     "duration": 0.097634,
     "end_time": "2023-08-12T17:18:21.951047",
     "exception": false,
     "start_time": "2023-08-12T17:18:21.853413",
     "status": "completed"
    },
    "tags": []
   },
   "source": [
    "### EDA releaseDiff  "
   ]
  },
  {
   "cell_type": "code",
   "execution_count": 38,
   "id": "98eff1ba",
   "metadata": {
    "execution": {
     "iopub.execute_input": "2023-08-12T17:18:22.151582Z",
     "iopub.status.busy": "2023-08-12T17:18:22.151139Z",
     "iopub.status.idle": "2023-08-12T17:18:22.170630Z",
     "shell.execute_reply": "2023-08-12T17:18:22.169437Z"
    },
    "papermill": {
     "duration": 0.122301,
     "end_time": "2023-08-12T17:18:22.173291",
     "exception": false,
     "start_time": "2023-08-12T17:18:22.050990",
     "status": "completed"
    },
    "tags": []
   },
   "outputs": [
    {
     "data": {
      "text/plain": [
       "count    162758.000000\n",
       "mean       1653.469015\n",
       "std        4581.420922\n",
       "min           0.000000\n",
       "25%          65.000000\n",
       "50%         116.000000\n",
       "75%         375.000000\n",
       "max       38922.000000\n",
       "Name: releaseDiff, dtype: float64"
      ]
     },
     "execution_count": 38,
     "metadata": {},
     "output_type": "execute_result"
    }
   ],
   "source": [
    "# abs values\n",
    "merged[\"releaseDiff\"].describe()"
   ]
  },
  {
   "cell_type": "code",
   "execution_count": 39,
   "id": "000c53da",
   "metadata": {
    "execution": {
     "iopub.execute_input": "2023-08-12T17:18:22.368044Z",
     "iopub.status.busy": "2023-08-12T17:18:22.367602Z",
     "iopub.status.idle": "2023-08-12T17:18:22.372410Z",
     "shell.execute_reply": "2023-08-12T17:18:22.371054Z"
    },
    "papermill": {
     "duration": 0.103971,
     "end_time": "2023-08-12T17:18:22.375247",
     "exception": false,
     "start_time": "2023-08-12T17:18:22.271276",
     "status": "completed"
    },
    "tags": []
   },
   "outputs": [],
   "source": [
    "# merged['releaseDiffBins'].value_counts()"
   ]
  },
  {
   "cell_type": "code",
   "execution_count": 40,
   "id": "c6fcdd49",
   "metadata": {
    "execution": {
     "iopub.execute_input": "2023-08-12T17:18:22.572725Z",
     "iopub.status.busy": "2023-08-12T17:18:22.572297Z",
     "iopub.status.idle": "2023-08-12T17:18:22.960330Z",
     "shell.execute_reply": "2023-08-12T17:18:22.958960Z"
    },
    "papermill": {
     "duration": 0.491431,
     "end_time": "2023-08-12T17:18:22.963012",
     "exception": false,
     "start_time": "2023-08-12T17:18:22.471581",
     "status": "completed"
    },
    "tags": []
   },
   "outputs": [
    {
     "data": {
      "text/plain": [
       "<Axes: xlabel='sentiment', ylabel='releaseDiff'>"
      ]
     },
     "execution_count": 40,
     "metadata": {},
     "output_type": "execute_result"
    },
    {
     "data": {
      "image/png": "[encoded data removed]",
      "text/plain": [
       "<Figure size 640x480 with 1 Axes>"
      ]
     },
     "metadata": {},
     "output_type": "display_data"
    }
   ],
   "source": [
    "sns.boxplot(x=merged['sentiment'], y=merged['releaseDiff'], showfliers=False)"
   ]
  },
  {
   "cell_type": "code",
   "execution_count": 41,
   "id": "3568e26c",
   "metadata": {
    "execution": {
     "iopub.execute_input": "2023-08-12T17:18:23.158471Z",
     "iopub.status.busy": "2023-08-12T17:18:23.157768Z",
     "iopub.status.idle": "2023-08-12T17:18:23.162668Z",
     "shell.execute_reply": "2023-08-12T17:18:23.161678Z"
    },
    "papermill": {
     "duration": 0.10726,
     "end_time": "2023-08-12T17:18:23.165269",
     "exception": false,
     "start_time": "2023-08-12T17:18:23.058009",
     "status": "completed"
    },
    "tags": []
   },
   "outputs": [],
   "source": [
    "# sns.displot(merged['releaseDiffBins'])"
   ]
  },
  {
   "cell_type": "code",
   "execution_count": 42,
   "id": "7165bc34",
   "metadata": {
    "execution": {
     "iopub.execute_input": "2023-08-12T17:18:23.358955Z",
     "iopub.status.busy": "2023-08-12T17:18:23.358240Z",
     "iopub.status.idle": "2023-08-12T17:18:23.363029Z",
     "shell.execute_reply": "2023-08-12T17:18:23.362093Z"
    },
    "papermill": {
     "duration": 0.103649,
     "end_time": "2023-08-12T17:18:23.365609",
     "exception": false,
     "start_time": "2023-08-12T17:18:23.261960",
     "status": "completed"
    },
    "tags": []
   },
   "outputs": [],
   "source": [
    "# merged['sentiment'].loc[merged['releaseDiffBins'] > 0].value_counts()"
   ]
  },
  {
   "cell_type": "code",
   "execution_count": 43,
   "id": "489fd4e4",
   "metadata": {
    "execution": {
     "iopub.execute_input": "2023-08-12T17:18:23.558842Z",
     "iopub.status.busy": "2023-08-12T17:18:23.558211Z",
     "iopub.status.idle": "2023-08-12T17:18:23.562804Z",
     "shell.execute_reply": "2023-08-12T17:18:23.561978Z"
    },
    "papermill": {
     "duration": 0.104033,
     "end_time": "2023-08-12T17:18:23.565328",
     "exception": false,
     "start_time": "2023-08-12T17:18:23.461295",
     "status": "completed"
    },
    "tags": []
   },
   "outputs": [],
   "source": [
    "# merged['releaseDiffBins'].describe()"
   ]
  },
  {
   "cell_type": "markdown",
   "id": "63045ab1",
   "metadata": {
    "papermill": {
     "duration": 0.094443,
     "end_time": "2023-08-12T17:18:23.754142",
     "exception": false,
     "start_time": "2023-08-12T17:18:23.659699",
     "status": "completed"
    },
    "tags": []
   },
   "source": [
    "### EDA 'distributor'  "
   ]
  },
  {
   "cell_type": "code",
   "execution_count": 44,
   "id": "98f11dac",
   "metadata": {
    "execution": {
     "iopub.execute_input": "2023-08-12T17:18:24.015610Z",
     "iopub.status.busy": "2023-08-12T17:18:24.014936Z",
     "iopub.status.idle": "2023-08-12T17:18:24.050737Z",
     "shell.execute_reply": "2023-08-12T17:18:24.049330Z"
    },
    "papermill": {
     "duration": 0.137614,
     "end_time": "2023-08-12T17:18:24.053986",
     "exception": false,
     "start_time": "2023-08-12T17:18:23.916372",
     "status": "completed"
    },
    "tags": []
   },
   "outputs": [
    {
     "data": {
      "text/plain": [
       "unknown                              20489\n",
       "Universal Pictures                    8847\n",
       "Warner Bros. Pictures                 8722\n",
       "Paramount Pictures                    7773\n",
       "20th Century Fox                      7007\n",
       "                                     ...  \n",
       "Almi Pictures                            1\n",
       "Koch Lorber                              1\n",
       "Magic Lamp                               1\n",
       "Fine Line Features, Miramax Films        1\n",
       "American Film Co.                        1\n",
       "Name: distributor, Length: 1796, dtype: int64"
      ]
     },
     "execution_count": 44,
     "metadata": {},
     "output_type": "execute_result"
    }
   ],
   "source": [
    "merged[\"distributor\"].value_counts()"
   ]
  },
  {
   "cell_type": "code",
   "execution_count": 45,
   "id": "07c75078",
   "metadata": {
    "execution": {
     "iopub.execute_input": "2023-08-12T17:18:24.253979Z",
     "iopub.status.busy": "2023-08-12T17:18:24.253179Z",
     "iopub.status.idle": "2023-08-12T17:18:24.272093Z",
     "shell.execute_reply": "2023-08-12T17:18:24.270839Z"
    },
    "papermill": {
     "duration": 0.121576,
     "end_time": "2023-08-12T17:18:24.274691",
     "exception": false,
     "start_time": "2023-08-12T17:18:24.153115",
     "status": "completed"
    },
    "tags": []
   },
   "outputs": [
    {
     "data": {
      "text/plain": [
       "count    162758.000000\n",
       "mean        106.992019\n",
       "std          22.203778\n",
       "min           4.000000\n",
       "25%          93.000000\n",
       "50%         104.000000\n",
       "75%         118.000000\n",
       "max         561.000000\n",
       "Name: runtimeMinutes, dtype: float64"
      ]
     },
     "execution_count": 45,
     "metadata": {},
     "output_type": "execute_result"
    }
   ],
   "source": [
    "merged[\"runtimeMinutes\"].describe()"
   ]
  },
  {
   "cell_type": "code",
   "execution_count": 46,
   "id": "70b7c817",
   "metadata": {
    "execution": {
     "iopub.execute_input": "2023-08-12T17:18:24.468768Z",
     "iopub.status.busy": "2023-08-12T17:18:24.468287Z",
     "iopub.status.idle": "2023-08-12T17:18:24.890284Z",
     "shell.execute_reply": "2023-08-12T17:18:24.889063Z"
    },
    "papermill": {
     "duration": 0.521602,
     "end_time": "2023-08-12T17:18:24.892969",
     "exception": false,
     "start_time": "2023-08-12T17:18:24.371367",
     "status": "completed"
    },
    "tags": []
   },
   "outputs": [
    {
     "data": {
      "text/plain": [
       "<Axes: xlabel='sentiment', ylabel='runtimeMinutes'>"
      ]
     },
     "execution_count": 46,
     "metadata": {},
     "output_type": "execute_result"
    },
    {
     "data": {
      "image/png": "[encoded data removed]",
      "text/plain": [
       "<Figure size 640x480 with 1 Axes>"
      ]
     },
     "metadata": {},
     "output_type": "display_data"
    }
   ],
   "source": [
    "sns.boxplot(y=merged[\"runtimeMinutes\"], x=merged[\"sentiment\"])"
   ]
  },
  {
   "cell_type": "code",
   "execution_count": 47,
   "id": "12a94670",
   "metadata": {
    "execution": {
     "iopub.execute_input": "2023-08-12T17:18:25.095129Z",
     "iopub.status.busy": "2023-08-12T17:18:25.094684Z",
     "iopub.status.idle": "2023-08-12T17:18:25.099994Z",
     "shell.execute_reply": "2023-08-12T17:18:25.098991Z"
    },
    "papermill": {
     "duration": 0.109524,
     "end_time": "2023-08-12T17:18:25.102386",
     "exception": false,
     "start_time": "2023-08-12T17:18:24.992862",
     "status": "completed"
    },
    "tags": []
   },
   "outputs": [],
   "source": [
    "# print(merged[\"boxOfficeBins\"].value_counts())\n",
    "# sns.displot(merged[\"boxOfficeBins\"])"
   ]
  },
  {
   "cell_type": "code",
   "execution_count": 48,
   "id": "8b839163",
   "metadata": {
    "execution": {
     "iopub.execute_input": "2023-08-12T17:18:25.302679Z",
     "iopub.status.busy": "2023-08-12T17:18:25.301637Z",
     "iopub.status.idle": "2023-08-12T17:18:25.310072Z",
     "shell.execute_reply": "2023-08-12T17:18:25.308963Z"
    },
    "papermill": {
     "duration": 0.109064,
     "end_time": "2023-08-12T17:18:25.312632",
     "exception": false,
     "start_time": "2023-08-12T17:18:25.203568",
     "status": "completed"
    },
    "tags": []
   },
   "outputs": [
    {
     "data": {
      "text/plain": [
       "0    Henry Selick’s first movie since ’s Coraline. ...\n",
       "1    With a cast that reads like the Vogue Oscar pa...\n",
       "2    Creed II does not give us anything but another...\n",
       "3    I know what you're thinking, but this is no Li...\n",
       "4    Director Fernando Meirelles tells the story wi...\n",
       "Name: reviewText, dtype: object"
      ]
     },
     "execution_count": 48,
     "metadata": {},
     "output_type": "execute_result"
    }
   ],
   "source": [
    "merged[\"reviewText\"].head()"
   ]
  },
  {
   "cell_type": "code",
   "execution_count": 49,
   "id": "9d053c38",
   "metadata": {
    "execution": {
     "iopub.execute_input": "2023-08-12T17:18:25.510106Z",
     "iopub.status.busy": "2023-08-12T17:18:25.509665Z",
     "iopub.status.idle": "2023-08-12T17:18:25.518081Z",
     "shell.execute_reply": "2023-08-12T17:18:25.516922Z"
    },
    "papermill": {
     "duration": 0.109536,
     "end_time": "2023-08-12T17:18:25.520649",
     "exception": false,
     "start_time": "2023-08-12T17:18:25.411113",
     "status": "completed"
    },
    "tags": []
   },
   "outputs": [
    {
     "data": {
      "text/plain": [
       "6447"
      ]
     },
     "execution_count": 49,
     "metadata": {},
     "output_type": "execute_result"
    }
   ],
   "source": [
    "merged[\"reviewYN\"].sum()"
   ]
  },
  {
   "cell_type": "code",
   "execution_count": 50,
   "id": "1f8f9c52",
   "metadata": {
    "execution": {
     "iopub.execute_input": "2023-08-12T17:18:25.718625Z",
     "iopub.status.busy": "2023-08-12T17:18:25.718075Z",
     "iopub.status.idle": "2023-08-12T17:18:25.726879Z",
     "shell.execute_reply": "2023-08-12T17:18:25.725984Z"
    },
    "papermill": {
     "duration": 0.109858,
     "end_time": "2023-08-12T17:18:25.729182",
     "exception": false,
     "start_time": "2023-08-12T17:18:25.619324",
     "status": "completed"
    },
    "tags": []
   },
   "outputs": [
    {
     "data": {
      "text/plain": [
       "0    11\n",
       "1    24\n",
       "2    22\n",
       "3    34\n",
       "4    20\n",
       "Name: reviewWC, dtype: int64"
      ]
     },
     "execution_count": 50,
     "metadata": {},
     "output_type": "execute_result"
    }
   ],
   "source": [
    "merged[\"reviewWC\"].head()"
   ]
  },
  {
   "cell_type": "code",
   "execution_count": 51,
   "id": "518926bb",
   "metadata": {
    "execution": {
     "iopub.execute_input": "2023-08-12T17:18:25.926858Z",
     "iopub.status.busy": "2023-08-12T17:18:25.926417Z",
     "iopub.status.idle": "2023-08-12T17:18:25.945085Z",
     "shell.execute_reply": "2023-08-12T17:18:25.943628Z"
    },
    "papermill": {
     "duration": 0.120803,
     "end_time": "2023-08-12T17:18:25.947854",
     "exception": false,
     "start_time": "2023-08-12T17:18:25.827051",
     "status": "completed"
    },
    "tags": []
   },
   "outputs": [
    {
     "data": {
      "text/plain": [
       "count    162758.000000\n",
       "mean         21.013707\n",
       "std          10.216532\n",
       "min           1.000000\n",
       "25%          14.000000\n",
       "50%          21.000000\n",
       "75%          28.000000\n",
       "max          54.000000\n",
       "Name: reviewWC, dtype: float64"
      ]
     },
     "execution_count": 51,
     "metadata": {},
     "output_type": "execute_result"
    }
   ],
   "source": [
    "merged[\"reviewWC\"].describe()"
   ]
  },
  {
   "cell_type": "code",
   "execution_count": 52,
   "id": "209f3033",
   "metadata": {
    "execution": {
     "iopub.execute_input": "2023-08-12T17:18:26.154070Z",
     "iopub.status.busy": "2023-08-12T17:18:26.153526Z",
     "iopub.status.idle": "2023-08-12T17:18:26.870415Z",
     "shell.execute_reply": "2023-08-12T17:18:26.869315Z"
    },
    "papermill": {
     "duration": 0.825409,
     "end_time": "2023-08-12T17:18:26.873304",
     "exception": false,
     "start_time": "2023-08-12T17:18:26.047895",
     "status": "completed"
    },
    "tags": []
   },
   "outputs": [
    {
     "data": {
      "text/plain": [
       "<Axes: xlabel='reviewWC', ylabel='Count'>"
      ]
     },
     "execution_count": 52,
     "metadata": {},
     "output_type": "execute_result"
    },
    {
     "data": {
      "image/png": "[encoded data removed]",
      "text/plain": [
       "<Figure size 640x480 with 1 Axes>"
      ]
     },
     "metadata": {},
     "output_type": "display_data"
    }
   ],
   "source": [
    "sns.histplot(merged[\"reviewWC\"])"
   ]
  },
  {
   "cell_type": "code",
   "execution_count": 53,
   "id": "5307112c",
   "metadata": {
    "execution": {
     "iopub.execute_input": "2023-08-12T17:18:27.100645Z",
     "iopub.status.busy": "2023-08-12T17:18:27.100215Z",
     "iopub.status.idle": "2023-08-12T17:18:27.131802Z",
     "shell.execute_reply": "2023-08-12T17:18:27.130525Z"
    },
    "papermill": {
     "duration": 0.146441,
     "end_time": "2023-08-12T17:18:27.134462",
     "exception": false,
     "start_time": "2023-08-12T17:18:26.988021",
     "status": "completed"
    },
    "tags": []
   },
   "outputs": [
    {
     "data": {
      "text/plain": [
       "R          60248\n",
       "unknown    44587\n",
       "PG-13      42697\n",
       "PG         13669\n",
       "TV14         947\n",
       "NC-17        285\n",
       "TVPG         281\n",
       "TVMA          44\n",
       "Name: rating, dtype: int64"
      ]
     },
     "execution_count": 53,
     "metadata": {},
     "output_type": "execute_result"
    }
   ],
   "source": [
    "merged['rating'].value_counts()"
   ]
  },
  {
   "cell_type": "code",
   "execution_count": 54,
   "id": "c8bd5e49",
   "metadata": {
    "execution": {
     "iopub.execute_input": "2023-08-12T17:18:27.338226Z",
     "iopub.status.busy": "2023-08-12T17:18:27.337058Z",
     "iopub.status.idle": "2023-08-12T17:18:27.348839Z",
     "shell.execute_reply": "2023-08-12T17:18:27.347606Z"
    },
    "papermill": {
     "duration": 0.116109,
     "end_time": "2023-08-12T17:18:27.351504",
     "exception": false,
     "start_time": "2023-08-12T17:18:27.235395",
     "status": "completed"
    },
    "tags": []
   },
   "outputs": [
    {
     "data": {
      "text/plain": [
       "False    113189\n",
       "True      49569\n",
       "Name: isFrequentReviewer, dtype: int64"
      ]
     },
     "execution_count": 54,
     "metadata": {},
     "output_type": "execute_result"
    }
   ],
   "source": [
    "merged['isFrequentReviewer'].value_counts()"
   ]
  },
  {
   "cell_type": "code",
   "execution_count": 55,
   "id": "28a1d248",
   "metadata": {
    "execution": {
     "iopub.execute_input": "2023-08-12T17:18:27.552314Z",
     "iopub.status.busy": "2023-08-12T17:18:27.551849Z",
     "iopub.status.idle": "2023-08-12T17:18:27.560776Z",
     "shell.execute_reply": "2023-08-12T17:18:27.559718Z"
    },
    "papermill": {
     "duration": 0.112116,
     "end_time": "2023-08-12T17:18:27.563168",
     "exception": false,
     "start_time": "2023-08-12T17:18:27.451052",
     "status": "completed"
    },
    "tags": []
   },
   "outputs": [
    {
     "data": {
      "text/plain": [
       "0      Benjamin Henry\n",
       "1       Felicia Lopez\n",
       "2     Charles Burgess\n",
       "3        Ryan Barrett\n",
       "4    Alexander Glover\n",
       "Name: reviewerName, dtype: object"
      ]
     },
     "execution_count": 55,
     "metadata": {},
     "output_type": "execute_result"
    }
   ],
   "source": [
    "merged[\"reviewerName\"].head()"
   ]
  },
  {
   "cell_type": "code",
   "execution_count": 56,
   "id": "6fda51fb",
   "metadata": {
    "execution": {
     "iopub.execute_input": "2023-08-12T17:18:27.762682Z",
     "iopub.status.busy": "2023-08-12T17:18:27.762268Z",
     "iopub.status.idle": "2023-08-12T17:18:27.777343Z",
     "shell.execute_reply": "2023-08-12T17:18:27.776448Z"
    },
    "papermill": {
     "duration": 0.11704,
     "end_time": "2023-08-12T17:18:27.779650",
     "exception": false,
     "start_time": "2023-08-12T17:18:27.662610",
     "status": "completed"
    },
    "tags": []
   },
   "outputs": [
    {
     "data": {
      "text/plain": [
       "14300000.0    32327\n",
       "2000000.0       922\n",
       "1100000.0       891\n",
       "1000000.0       834\n",
       "1200000.0       802\n",
       "              ...  \n",
       "58500.0           1\n",
       "500800.0          1\n",
       "265600.0          1\n",
       "292500.0          1\n",
       "799400.0          1\n",
       "Name: boxOffice, Length: 3819, dtype: int64"
      ]
     },
     "execution_count": 56,
     "metadata": {},
     "output_type": "execute_result"
    }
   ],
   "source": [
    "merged['boxOffice'].value_counts()"
   ]
  },
  {
   "cell_type": "code",
   "execution_count": 57,
   "id": "77d77c60",
   "metadata": {
    "execution": {
     "iopub.execute_input": "2023-08-12T17:18:27.980954Z",
     "iopub.status.busy": "2023-08-12T17:18:27.980213Z",
     "iopub.status.idle": "2023-08-12T17:18:27.985046Z",
     "shell.execute_reply": "2023-08-12T17:18:27.984100Z"
    },
    "papermill": {
     "duration": 0.107754,
     "end_time": "2023-08-12T17:18:27.987429",
     "exception": false,
     "start_time": "2023-08-12T17:18:27.879675",
     "status": "completed"
    },
    "tags": []
   },
   "outputs": [],
   "source": [
    "# Check correlation between 'boxOffice' and ''sentiment'\n",
    "# bo_df = merged.copy()\n",
    "# print(bo_df[\"boxOffice\"])\n",
    "# bo_df[\"boxOffice\"] = bo_df[\"boxOffice\"].str[1:]\n",
    "# bo_df[\"boxOffice\"] = bo_df[\"boxOffice\"].replace(to_replace={\"M\": \"*1000000\", \"K\": \"*1000\"}, regex=True)\n",
    "# bo_df[\"boxOffice\"] = bo_df[\"boxOffice\"].loc[bo_df[\"boxOffice\"].notnull()].apply(lambda x: eval(str(x)))\n",
    "# bo_df[\"boxOffice\"] = bo_df[\"boxOffice\"].fillna(bo_df[\"boxOffice\"].median())\n",
    "# bo_df[\"boxOffice\"].describe()"
   ]
  },
  {
   "cell_type": "code",
   "execution_count": 58,
   "id": "23fd478a",
   "metadata": {
    "execution": {
     "iopub.execute_input": "2023-08-12T17:18:28.193111Z",
     "iopub.status.busy": "2023-08-12T17:18:28.192290Z",
     "iopub.status.idle": "2023-08-12T17:18:28.196589Z",
     "shell.execute_reply": "2023-08-12T17:18:28.195693Z"
    },
    "papermill": {
     "duration": 0.110612,
     "end_time": "2023-08-12T17:18:28.199347",
     "exception": false,
     "start_time": "2023-08-12T17:18:28.088735",
     "status": "completed"
    },
    "tags": []
   },
   "outputs": [],
   "source": [
    "# median = bo_df[\"boxOffice\"].describe()['50%']\n",
    "# iqr = bo_df[\"boxOffice\"].describe()['75%'] - bo_df[\"boxOffice\"].describe()['25%']\n",
    "# median, iqr"
   ]
  },
  {
   "cell_type": "code",
   "execution_count": 59,
   "id": "0a7a59d1",
   "metadata": {
    "execution": {
     "iopub.execute_input": "2023-08-12T17:18:28.404209Z",
     "iopub.status.busy": "2023-08-12T17:18:28.403767Z",
     "iopub.status.idle": "2023-08-12T17:18:28.409205Z",
     "shell.execute_reply": "2023-08-12T17:18:28.407778Z"
    },
    "papermill": {
     "duration": 0.109873,
     "end_time": "2023-08-12T17:18:28.411674",
     "exception": false,
     "start_time": "2023-08-12T17:18:28.301801",
     "status": "completed"
    },
    "tags": []
   },
   "outputs": [],
   "source": [
    "# ll = median - (1.5*iqr)\n",
    "# ul = median + (1.5*iqr)\n",
    "# ll, ul"
   ]
  },
  {
   "cell_type": "code",
   "execution_count": 60,
   "id": "bff97902",
   "metadata": {
    "execution": {
     "iopub.execute_input": "2023-08-12T17:18:28.612091Z",
     "iopub.status.busy": "2023-08-12T17:18:28.611367Z",
     "iopub.status.idle": "2023-08-12T17:18:28.615593Z",
     "shell.execute_reply": "2023-08-12T17:18:28.614722Z"
    },
    "papermill": {
     "duration": 0.106327,
     "end_time": "2023-08-12T17:18:28.617818",
     "exception": false,
     "start_time": "2023-08-12T17:18:28.511491",
     "status": "completed"
    },
    "tags": []
   },
   "outputs": [],
   "source": [
    "# bo_df[\"boxOffice\"].mean()"
   ]
  },
  {
   "cell_type": "code",
   "execution_count": 61,
   "id": "ea768cfd",
   "metadata": {
    "execution": {
     "iopub.execute_input": "2023-08-12T17:18:28.819221Z",
     "iopub.status.busy": "2023-08-12T17:18:28.818440Z",
     "iopub.status.idle": "2023-08-12T17:18:28.822624Z",
     "shell.execute_reply": "2023-08-12T17:18:28.821742Z"
    },
    "papermill": {
     "duration": 0.108474,
     "end_time": "2023-08-12T17:18:28.825121",
     "exception": false,
     "start_time": "2023-08-12T17:18:28.716647",
     "status": "completed"
    },
    "tags": []
   },
   "outputs": [],
   "source": [
    "# bo_df.loc[bo_df[\"boxOffice\"] > ul, \"boxOffice\"] = median\n",
    "# bo_df[\"boxOffice\"].mean()"
   ]
  },
  {
   "cell_type": "code",
   "execution_count": 62,
   "id": "4a5bf372",
   "metadata": {
    "execution": {
     "iopub.execute_input": "2023-08-12T17:18:29.028039Z",
     "iopub.status.busy": "2023-08-12T17:18:29.027621Z",
     "iopub.status.idle": "2023-08-12T17:18:29.032167Z",
     "shell.execute_reply": "2023-08-12T17:18:29.030954Z"
    },
    "papermill": {
     "duration": 0.109235,
     "end_time": "2023-08-12T17:18:29.034712",
     "exception": false,
     "start_time": "2023-08-12T17:18:28.925477",
     "status": "completed"
    },
    "tags": []
   },
   "outputs": [],
   "source": [
    "# bo_df[\"boxOffice\"].min(), bo_df[\"boxOffice\"].max()"
   ]
  },
  {
   "cell_type": "code",
   "execution_count": 63,
   "id": "513ebbda",
   "metadata": {
    "execution": {
     "iopub.execute_input": "2023-08-12T17:18:29.240566Z",
     "iopub.status.busy": "2023-08-12T17:18:29.239132Z",
     "iopub.status.idle": "2023-08-12T17:18:29.245507Z",
     "shell.execute_reply": "2023-08-12T17:18:29.243985Z"
    },
    "papermill": {
     "duration": 0.113784,
     "end_time": "2023-08-12T17:18:29.248182",
     "exception": false,
     "start_time": "2023-08-12T17:18:29.134398",
     "status": "completed"
    },
    "tags": []
   },
   "outputs": [],
   "source": [
    "# sns.boxplot(x=\"sentiment\", y=\"boxOffice\", data=bo_df, showfliers = False)"
   ]
  },
  {
   "cell_type": "markdown",
   "id": "d84c957e",
   "metadata": {
    "papermill": {
     "duration": 0.099723,
     "end_time": "2023-08-12T17:18:29.449147",
     "exception": false,
     "start_time": "2023-08-12T17:18:29.349424",
     "status": "completed"
    },
    "tags": []
   },
   "source": [
    "## EDA  "
   ]
  },
  {
   "cell_type": "markdown",
   "id": "f52973e3",
   "metadata": {
    "papermill": {
     "duration": 0.097973,
     "end_time": "2023-08-12T17:18:29.646017",
     "exception": false,
     "start_time": "2023-08-12T17:18:29.548044",
     "status": "completed"
    },
    "tags": []
   },
   "source": [
    "### An interesting finding through exploration  \n",
    "  \n",
    "* OHE and TfidfVectorizer on director column give the same result when ngram_range(2,2) is used (see code below)!"
   ]
  },
  {
   "cell_type": "code",
   "execution_count": 64,
   "id": "7be5d3db",
   "metadata": {
    "execution": {
     "iopub.execute_input": "2023-08-12T17:18:29.847493Z",
     "iopub.status.busy": "2023-08-12T17:18:29.846960Z",
     "iopub.status.idle": "2023-08-12T17:18:43.201726Z",
     "shell.execute_reply": "2023-08-12T17:18:43.199985Z"
    },
    "papermill": {
     "duration": 13.459243,
     "end_time": "2023-08-12T17:18:43.204984",
     "exception": false,
     "start_time": "2023-08-12T17:18:29.745741",
     "status": "completed"
    },
    "tags": []
   },
   "outputs": [
    {
     "name": "stdout",
     "output_type": "stream",
     "text": [
      "(162758,)\n",
      "9476\n",
      "(162758, 9476) <class 'numpy.ndarray'>\n",
      "(162758,)\n",
      "(162758, 9476) <class 'numpy.ndarray'>\n",
      "True\n"
     ]
    }
   ],
   "source": [
    "# Compare OHE and TfidfVectorizer on director column\n",
    "\n",
    "dirs = merged[\"director\"].copy()\n",
    "print(dirs.shape)\n",
    "dirs_uniq = merged[\"director\"].unique()\n",
    "print(len(dirs_uniq))\n",
    "\n",
    "du_ohe = OneHotEncoder(handle_unknown=\"ignore\", sparse_output=False).fit_transform(dirs.to_numpy().reshape(-1, 1))\n",
    "print(du_ohe.shape, type(du_ohe))\n",
    "\n",
    "dirs_2 = merged[\"director\"].copy()\n",
    "print(dirs_2.shape)\n",
    "du_tfidf = TfidfVectorizer(ngram_range=(2,2)).fit_transform(dirs_2).toarray()\n",
    "print(du_tfidf.shape, type(du_tfidf))\n",
    "\n",
    "print(np.array_equal(du_ohe, du_tfidf))"
   ]
  },
  {
   "cell_type": "code",
   "execution_count": 65,
   "id": "4aae85f9",
   "metadata": {
    "execution": {
     "iopub.execute_input": "2023-08-12T17:18:43.407874Z",
     "iopub.status.busy": "2023-08-12T17:18:43.407418Z",
     "iopub.status.idle": "2023-08-12T17:18:43.767752Z",
     "shell.execute_reply": "2023-08-12T17:18:43.766576Z"
    },
    "papermill": {
     "duration": 0.463787,
     "end_time": "2023-08-12T17:18:43.770578",
     "exception": false,
     "start_time": "2023-08-12T17:18:43.306791",
     "status": "completed"
    },
    "tags": []
   },
   "outputs": [
    {
     "name": "stdout",
     "output_type": "stream",
     "text": [
      "0       Bennie Basso\n",
      "1         Alma White\n",
      "2       Bobby Oleary\n",
      "3    Eric Hutcherson\n",
      "4         John Trent\n",
      "Name: director, dtype: object\n"
     ]
    },
    {
     "data": {
      "text/plain": [
       "2    162758\n",
       "Name: director, dtype: int64"
      ]
     },
     "execution_count": 65,
     "metadata": {},
     "output_type": "execute_result"
    }
   ],
   "source": [
    "print(dirs.head())\n",
    "d = dirs.copy()\n",
    "d[\"name_len\"] = d.apply(lambda x: len(x.split()))\n",
    "d[\"name_len\"].value_counts()"
   ]
  },
  {
   "cell_type": "code",
   "execution_count": 66,
   "id": "6c9b325a",
   "metadata": {
    "execution": {
     "iopub.execute_input": "2023-08-12T17:18:43.977305Z",
     "iopub.status.busy": "2023-08-12T17:18:43.976849Z",
     "iopub.status.idle": "2023-08-12T17:18:43.983157Z",
     "shell.execute_reply": "2023-08-12T17:18:43.981842Z"
    },
    "papermill": {
     "duration": 0.114583,
     "end_time": "2023-08-12T17:18:43.985705",
     "exception": false,
     "start_time": "2023-08-12T17:18:43.871122",
     "status": "completed"
    },
    "tags": []
   },
   "outputs": [],
   "source": [
    "# Compare OHE and TfidfVectorizer on reviewerName column\n",
    "# Note: reviewerName column has salutations like \"Mr. \" etc, and some names appear middle names. Therefore needs cleaning\n",
    "\n",
    "# def name_fl(name):\n",
    "#     l = name.split()\n",
    "#     n = ' '.join((l[0], l[-1]))\n",
    "#     return n\n",
    "\n",
    "# reviewers = merged[\"reviewerName\"].copy()\n",
    "# reviewers = pd.DataFrame(reviewers)\n",
    "# reviewers = reviewers.replace({\"Mr. \": \"\", \"Mrs. \": \"\"}, regex=True)\n",
    "# reviewers[\"reviewerName\"] = reviewers[\"reviewerName\"].apply(name_fl)\n",
    "# print(reviewers.shape)\n",
    "\n",
    "# reviewers_uniq = merged[\"reviewerName\"].unique()\n",
    "# print(len(reviewers_uniq))\n",
    "\n",
    "# reviewers_ohe = OneHotEncoder(handle_unknown=\"ignore\", sparse_output=False).fit_transform(reviewers.to_numpy().reshape(-1, 1))\n",
    "# print(reviewers_ohe.shape, type(reviewers_ohe))\n",
    "\n",
    "# reviewers_2 = merged[\"reviewerName\"].copy()\n",
    "# reviewers_2 = pd.DataFrame(reviewers_2)\n",
    "# print(reviewers_2.head())\n",
    "# reviewers_2 = reviewers_2.replace({\"Mr. \": \"\", \"Mrs. \": \"\"}, regex=True)\n",
    "# reviewers_2[\"reviewerName\"] = reviewers_2[\"reviewerName\"].apply(name_fl)\n",
    "# reviewers_2 = reviewers_2.squeeze()\n",
    "# print(reviewers_2.shape)\n",
    "# print(reviewers_2.head())\n",
    "\n",
    "# reviewers_tfidf = TfidfVectorizer(ngram_range=(2,2)).fit_transform(reviewers_2).toarray()\n",
    "# print(reviewers_tfidf.shape, type(reviewers_tfidf))\n",
    "\n",
    "# print(np.array_equal(reviewers_ohe, reviewers_tfidf))"
   ]
  },
  {
   "cell_type": "code",
   "execution_count": 67,
   "id": "1ce2e587",
   "metadata": {
    "execution": {
     "iopub.execute_input": "2023-08-12T17:18:44.190290Z",
     "iopub.status.busy": "2023-08-12T17:18:44.189899Z",
     "iopub.status.idle": "2023-08-12T17:18:44.194492Z",
     "shell.execute_reply": "2023-08-12T17:18:44.193083Z"
    },
    "papermill": {
     "duration": 0.109155,
     "end_time": "2023-08-12T17:18:44.197108",
     "exception": false,
     "start_time": "2023-08-12T17:18:44.087953",
     "status": "completed"
    },
    "tags": []
   },
   "outputs": [],
   "source": [
    "# def name_fl(name):\n",
    "#     l = name.split()\n",
    "#     n = ' '.join((l[0], l[-1]))\n",
    "#     return n"
   ]
  },
  {
   "cell_type": "code",
   "execution_count": 68,
   "id": "a58f0367",
   "metadata": {
    "execution": {
     "iopub.execute_input": "2023-08-12T17:18:44.401224Z",
     "iopub.status.busy": "2023-08-12T17:18:44.400789Z",
     "iopub.status.idle": "2023-08-12T17:18:44.405835Z",
     "shell.execute_reply": "2023-08-12T17:18:44.404575Z"
    },
    "papermill": {
     "duration": 0.10902,
     "end_time": "2023-08-12T17:18:44.408502",
     "exception": false,
     "start_time": "2023-08-12T17:18:44.299482",
     "status": "completed"
    },
    "tags": []
   },
   "outputs": [],
   "source": [
    "# print(reviewers.head())\n",
    "# r = pd.DataFrame(reviewers.copy())\n",
    "# r[\"reviewerName\"] = r[\"reviewerName\"].apply(name_fl)\n",
    "# r[\"name_len\"] = r[\"reviewerName\"].apply(lambda x: len(x.split()))\n",
    "# print(r.shape)\n",
    "# print(r.head())\n",
    "# print(r['name_len'].value_counts())"
   ]
  },
  {
   "cell_type": "code",
   "execution_count": 69,
   "id": "695e780d",
   "metadata": {
    "execution": {
     "iopub.execute_input": "2023-08-12T17:18:44.610203Z",
     "iopub.status.busy": "2023-08-12T17:18:44.609771Z",
     "iopub.status.idle": "2023-08-12T17:18:44.615079Z",
     "shell.execute_reply": "2023-08-12T17:18:44.613696Z"
    },
    "papermill": {
     "duration": 0.108751,
     "end_time": "2023-08-12T17:18:44.617467",
     "exception": false,
     "start_time": "2023-08-12T17:18:44.508716",
     "status": "completed"
    },
    "tags": []
   },
   "outputs": [],
   "source": [
    "## Box plot audienceScore and sentiment  \n",
    "# plt.figure(figsize=(6, 4))\n",
    "# sns.boxplot(x=\"sentiment\", y=\"audienceScore\", data=merged, width=0.3)\n",
    "# plt.title(\"Box plot audienceScore and sentiment\")\n",
    "# plt.show()"
   ]
  },
  {
   "cell_type": "code",
   "execution_count": 70,
   "id": "22c02e4d",
   "metadata": {
    "execution": {
     "iopub.execute_input": "2023-08-12T17:18:44.819960Z",
     "iopub.status.busy": "2023-08-12T17:18:44.819508Z",
     "iopub.status.idle": "2023-08-12T17:18:44.824902Z",
     "shell.execute_reply": "2023-08-12T17:18:44.823419Z"
    },
    "papermill": {
     "duration": 0.109585,
     "end_time": "2023-08-12T17:18:44.827903",
     "exception": false,
     "start_time": "2023-08-12T17:18:44.718318",
     "status": "completed"
    },
    "tags": []
   },
   "outputs": [],
   "source": [
    "## Box plot runtimeMinutes and sentiment  \n",
    "# plt.figure(figsize=(6, 4))\n",
    "# sns.boxplot(x=\"sentiment\", y=\"runtimeMinutes\", data=merged, width=0.3)\n",
    "# plt.title(\"Box plot runtimeMinutes and sentiment\")\n",
    "# plt.show()"
   ]
  },
  {
   "cell_type": "code",
   "execution_count": 71,
   "id": "491be48d",
   "metadata": {
    "execution": {
     "iopub.execute_input": "2023-08-12T17:18:45.034091Z",
     "iopub.status.busy": "2023-08-12T17:18:45.033634Z",
     "iopub.status.idle": "2023-08-12T17:18:45.039822Z",
     "shell.execute_reply": "2023-08-12T17:18:45.037936Z"
    },
    "papermill": {
     "duration": 0.113717,
     "end_time": "2023-08-12T17:18:45.042673",
     "exception": false,
     "start_time": "2023-08-12T17:18:44.928956",
     "status": "completed"
    },
    "tags": []
   },
   "outputs": [],
   "source": [
    "## Column chart for sentiment and rating columns\n",
    "# plt.figure(figsize=(6, 4))\n",
    "# sns.countplot(x=\"sentiment\", hue=\"rating\", data=merged)\n",
    "# plt.title(\"Column chart for sentiment and rating columns\")\n",
    "# plt.show()"
   ]
  },
  {
   "cell_type": "code",
   "execution_count": 72,
   "id": "4ea7e910",
   "metadata": {
    "execution": {
     "iopub.execute_input": "2023-08-12T17:18:45.248757Z",
     "iopub.status.busy": "2023-08-12T17:18:45.248357Z",
     "iopub.status.idle": "2023-08-12T17:18:45.253436Z",
     "shell.execute_reply": "2023-08-12T17:18:45.252003Z"
    },
    "papermill": {
     "duration": 0.112393,
     "end_time": "2023-08-12T17:18:45.256002",
     "exception": false,
     "start_time": "2023-08-12T17:18:45.143609",
     "status": "completed"
    },
    "tags": []
   },
   "outputs": [],
   "source": [
    "# Correlation heatmap  \n",
    "# plt.figure(figsize=(10, 8))\n",
    "# sns.heatmap(merged.corr(), annot=True, cmap=\"coolwarm\")\n",
    "# plt.title(\"Correlation heatmap\")\n",
    "# plt.show()"
   ]
  },
  {
   "cell_type": "markdown",
   "id": "c2587356",
   "metadata": {
    "papermill": {
     "duration": 0.167232,
     "end_time": "2023-08-12T17:18:45.522581",
     "exception": false,
     "start_time": "2023-08-12T17:18:45.355349",
     "status": "completed"
    },
    "tags": []
   },
   "source": [
    "## Merge and preprocess \"test.csv\" and \"movies.csv\" files  "
   ]
  },
  {
   "cell_type": "code",
   "execution_count": 73,
   "id": "73830d5d",
   "metadata": {
    "execution": {
     "iopub.execute_input": "2023-08-12T17:18:45.725574Z",
     "iopub.status.busy": "2023-08-12T17:18:45.725154Z",
     "iopub.status.idle": "2023-08-12T17:18:51.924613Z",
     "shell.execute_reply": "2023-08-12T17:18:51.923486Z"
    },
    "papermill": {
     "duration": 6.305557,
     "end_time": "2023-08-12T17:18:51.928007",
     "exception": false,
     "start_time": "2023-08-12T17:18:45.622450",
     "status": "completed"
    },
    "tags": []
   },
   "outputs": [],
   "source": [
    "# Merge test and movies  \n",
    "merged_test = select_features(load_csv(\"test\"), load_csv(\"movies\"))"
   ]
  },
  {
   "cell_type": "code",
   "execution_count": 74,
   "id": "2ab6088b",
   "metadata": {
    "execution": {
     "iopub.execute_input": "2023-08-12T17:18:52.154777Z",
     "iopub.status.busy": "2023-08-12T17:18:52.153988Z",
     "iopub.status.idle": "2023-08-12T17:18:52.159141Z",
     "shell.execute_reply": "2023-08-12T17:18:52.158088Z"
    },
    "papermill": {
     "duration": 0.114485,
     "end_time": "2023-08-12T17:18:52.162447",
     "exception": false,
     "start_time": "2023-08-12T17:18:52.047962",
     "status": "completed"
    },
    "tags": []
   },
   "outputs": [],
   "source": [
    "# inspect(merged_test)      # Note the missing values in ['audienceScore', 'runtimeMinutes', 'boxOffice']"
   ]
  },
  {
   "cell_type": "code",
   "execution_count": 75,
   "id": "be28162b",
   "metadata": {
    "execution": {
     "iopub.execute_input": "2023-08-12T17:18:52.374759Z",
     "iopub.status.busy": "2023-08-12T17:18:52.373989Z",
     "iopub.status.idle": "2023-08-12T17:18:52.392110Z",
     "shell.execute_reply": "2023-08-12T17:18:52.390867Z"
    },
    "papermill": {
     "duration": 0.131467,
     "end_time": "2023-08-12T17:18:52.394690",
     "exception": false,
     "start_time": "2023-08-12T17:18:52.263223",
     "status": "completed"
    },
    "tags": []
   },
   "outputs": [
    {
     "data": {
      "text/plain": [
       "array([6.80e+01, 1.04e+02, 1.43e+07])"
      ]
     },
     "execution_count": 75,
     "metadata": {},
     "output_type": "execute_result"
    }
   ],
   "source": [
    "# Transform ['audienceScore', 'runtimeMinutes', 'boxOffice'] columns in merged_test using 'si' fitted on 'merged' df  \n",
    "merged_test[['audienceScore', 'runtimeMinutes', 'boxOffice']] = si.transform(merged_test[['audienceScore', 'runtimeMinutes', 'boxOffice']])\n",
    "si.statistics_"
   ]
  },
  {
   "cell_type": "code",
   "execution_count": 76,
   "id": "69858730",
   "metadata": {
    "execution": {
     "iopub.execute_input": "2023-08-12T17:18:52.605109Z",
     "iopub.status.busy": "2023-08-12T17:18:52.604175Z",
     "iopub.status.idle": "2023-08-12T17:18:52.616126Z",
     "shell.execute_reply": "2023-08-12T17:18:52.615100Z"
    },
    "papermill": {
     "duration": 0.120629,
     "end_time": "2023-08-12T17:18:52.618830",
     "exception": false,
     "start_time": "2023-08-12T17:18:52.498201",
     "status": "completed"
    },
    "tags": []
   },
   "outputs": [],
   "source": [
    "# Fill 'releaseDate' column in 'merged_test' df with median from the train (merged) df  \n",
    "merged_test['releaseDate'] = merged_test[\"releaseDate\"].fillna(merged[\"releaseDate\"].median())"
   ]
  },
  {
   "cell_type": "code",
   "execution_count": 77,
   "id": "de0b6e17",
   "metadata": {
    "execution": {
     "iopub.execute_input": "2023-08-12T17:18:52.820969Z",
     "iopub.status.busy": "2023-08-12T17:18:52.820515Z",
     "iopub.status.idle": "2023-08-12T17:18:53.331270Z",
     "shell.execute_reply": "2023-08-12T17:18:53.329680Z"
    },
    "papermill": {
     "duration": 0.614526,
     "end_time": "2023-08-12T17:18:53.334207",
     "exception": false,
     "start_time": "2023-08-12T17:18:52.719681",
     "status": "completed"
    },
    "tags": []
   },
   "outputs": [
    {
     "name": "stdout",
     "output_type": "stream",
     "text": [
      "Shape of the dataframe: (55315, 25)\n",
      "\n",
      "Columns in the dataframe:\n",
      "Index(['movieid', 'reviewerName', 'isFrequentReviewer', 'reviewText', 'title',\n",
      "       'audienceScore', 'rating', 'ratingContents', 'releaseDateTheaters',\n",
      "       'releaseDateStreaming', 'runtimeMinutes', 'genre', 'originalLanguage',\n",
      "       'director', 'boxOffice', 'distributor', 'soundType', 'reviewYN',\n",
      "       'reviewWC', 'genreSorted', 'rcSorted', 'releaseDate', 'releaseYear',\n",
      "       'releaseMonth', 'releaseDiff'],\n",
      "      dtype='object')\n",
      "\n",
      "<class 'pandas.core.frame.DataFrame'>\n",
      "Int64Index: 55315 entries, 0 to 55314\n",
      "Data columns (total 25 columns):\n",
      " #   Column                Non-Null Count  Dtype         \n",
      "---  ------                --------------  -----         \n",
      " 0   movieid               55315 non-null  object        \n",
      " 1   reviewerName          55315 non-null  object        \n",
      " 2   isFrequentReviewer    55315 non-null  bool          \n",
      " 3   reviewText            55315 non-null  object        \n",
      " 4   title                 55315 non-null  object        \n",
      " 5   audienceScore         55315 non-null  float64       \n",
      " 6   rating                55315 non-null  object        \n",
      " 7   ratingContents        55315 non-null  object        \n",
      " 8   releaseDateTheaters   47844 non-null  datetime64[ns]\n",
      " 9   releaseDateStreaming  52929 non-null  datetime64[ns]\n",
      " 10  runtimeMinutes        55315 non-null  float64       \n",
      " 11  genre                 55315 non-null  object        \n",
      " 12  originalLanguage      55315 non-null  object        \n",
      " 13  director              55315 non-null  object        \n",
      " 14  boxOffice             55315 non-null  float64       \n",
      " 15  distributor           55315 non-null  object        \n",
      " 16  soundType             29845 non-null  object        \n",
      " 17  reviewYN              55315 non-null  int64         \n",
      " 18  reviewWC              55315 non-null  int64         \n",
      " 19  genreSorted           55315 non-null  object        \n",
      " 20  rcSorted              55315 non-null  object        \n",
      " 21  releaseDate           55315 non-null  datetime64[ns]\n",
      " 22  releaseYear           46626 non-null  float64       \n",
      " 23  releaseMonth          46626 non-null  float64       \n",
      " 24  releaseDiff           55315 non-null  float64       \n",
      "dtypes: bool(1), datetime64[ns](3), float64(6), int64(2), object(13)\n",
      "memory usage: 10.6+ MB\n",
      "None\n",
      "\n",
      "Missing values:\n",
      "movieid                     0\n",
      "reviewerName                0\n",
      "isFrequentReviewer          0\n",
      "reviewText                  0\n",
      "title                       0\n",
      "audienceScore               0\n",
      "rating                      0\n",
      "ratingContents              0\n",
      "releaseDateTheaters      7471\n",
      "releaseDateStreaming     2386\n",
      "runtimeMinutes              0\n",
      "genre                       0\n",
      "originalLanguage            0\n",
      "director                    0\n",
      "boxOffice                   0\n",
      "distributor                 0\n",
      "soundType               25470\n",
      "reviewYN                    0\n",
      "reviewWC                    0\n",
      "genreSorted                 0\n",
      "rcSorted                    0\n",
      "releaseDate                 0\n",
      "releaseYear              8689\n",
      "releaseMonth             8689\n",
      "releaseDiff                 0\n",
      "dtype: int64\n"
     ]
    }
   ],
   "source": [
    "# After transforming merged_test  \n",
    "inspect(merged_test)"
   ]
  },
  {
   "cell_type": "code",
   "execution_count": 78,
   "id": "b01d0ecc",
   "metadata": {
    "execution": {
     "iopub.execute_input": "2023-08-12T17:18:53.538954Z",
     "iopub.status.busy": "2023-08-12T17:18:53.538503Z",
     "iopub.status.idle": "2023-08-12T17:18:53.546650Z",
     "shell.execute_reply": "2023-08-12T17:18:53.545169Z"
    },
    "papermill": {
     "duration": 0.114415,
     "end_time": "2023-08-12T17:18:53.549445",
     "exception": false,
     "start_time": "2023-08-12T17:18:53.435030",
     "status": "completed"
    },
    "tags": []
   },
   "outputs": [
    {
     "name": "stdout",
     "output_type": "stream",
     "text": [
      "2510\n",
      "4.537648015908886\n"
     ]
    }
   ],
   "source": [
    "print(merged_test[\"reviewYN\"].sum())\n",
    "print(merged_test[\"reviewYN\"].sum() * 100 / merged_test.shape[0])"
   ]
  },
  {
   "cell_type": "code",
   "execution_count": 79,
   "id": "95dce13a",
   "metadata": {
    "execution": {
     "iopub.execute_input": "2023-08-12T17:18:53.752469Z",
     "iopub.status.busy": "2023-08-12T17:18:53.752039Z",
     "iopub.status.idle": "2023-08-12T17:18:53.768291Z",
     "shell.execute_reply": "2023-08-12T17:18:53.767390Z"
    },
    "papermill": {
     "duration": 0.119398,
     "end_time": "2023-08-12T17:18:53.770704",
     "exception": false,
     "start_time": "2023-08-12T17:18:53.651306",
     "status": "completed"
    },
    "tags": []
   },
   "outputs": [
    {
     "data": {
      "text/plain": [
       "R          18934\n",
       "unknown    18386\n",
       "PG-13      13220\n",
       "PG          4200\n",
       "TV14         333\n",
       "TVPG         109\n",
       "NC-17        108\n",
       "TVMA          25\n",
       "Name: rating, dtype: int64"
      ]
     },
     "execution_count": 79,
     "metadata": {},
     "output_type": "execute_result"
    }
   ],
   "source": [
    "merged_test['rating'].value_counts()"
   ]
  },
  {
   "cell_type": "code",
   "execution_count": 80,
   "id": "08096a19",
   "metadata": {
    "execution": {
     "iopub.execute_input": "2023-08-12T17:18:53.972989Z",
     "iopub.status.busy": "2023-08-12T17:18:53.972235Z",
     "iopub.status.idle": "2023-08-12T17:18:53.981233Z",
     "shell.execute_reply": "2023-08-12T17:18:53.980336Z"
    },
    "papermill": {
     "duration": 0.112377,
     "end_time": "2023-08-12T17:18:53.983498",
     "exception": false,
     "start_time": "2023-08-12T17:18:53.871121",
     "status": "completed"
    },
    "tags": []
   },
   "outputs": [
    {
     "data": {
      "text/plain": [
       "False    38428\n",
       "True     16887\n",
       "Name: isFrequentReviewer, dtype: int64"
      ]
     },
     "execution_count": 80,
     "metadata": {},
     "output_type": "execute_result"
    }
   ],
   "source": [
    "merged_test['isFrequentReviewer'].value_counts()"
   ]
  },
  {
   "cell_type": "code",
   "execution_count": 81,
   "id": "bafee327",
   "metadata": {
    "execution": {
     "iopub.execute_input": "2023-08-12T17:18:54.190878Z",
     "iopub.status.busy": "2023-08-12T17:18:54.190319Z",
     "iopub.status.idle": "2023-08-12T17:18:54.203803Z",
     "shell.execute_reply": "2023-08-12T17:18:54.202408Z"
    },
    "papermill": {
     "duration": 0.118285,
     "end_time": "2023-08-12T17:18:54.206592",
     "exception": false,
     "start_time": "2023-08-12T17:18:54.088307",
     "status": "completed"
    },
    "tags": []
   },
   "outputs": [
    {
     "data": {
      "text/plain": [
       "14300000.0    13593\n",
       "1100000.0       311\n",
       "1000000.0       272\n",
       "1300000.0       263\n",
       "2000000.0       256\n",
       "              ...  \n",
       "200400.0          1\n",
       "23800000.0        1\n",
       "111200.0          1\n",
       "277800.0          1\n",
       "100600.0          1\n",
       "Name: boxOffice, Length: 3816, dtype: int64"
      ]
     },
     "execution_count": 81,
     "metadata": {},
     "output_type": "execute_result"
    }
   ],
   "source": [
    "merged_test['boxOffice'].value_counts()"
   ]
  },
  {
   "cell_type": "markdown",
   "id": "31dd667c",
   "metadata": {
    "papermill": {
     "duration": 0.100755,
     "end_time": "2023-08-12T17:18:54.411237",
     "exception": false,
     "start_time": "2023-08-12T17:18:54.310482",
     "status": "completed"
    },
    "tags": []
   },
   "source": [
    "## Work on vocabulary  \n",
    "\n",
    "`Build vocabulary from 'reviewText' column`  "
   ]
  },
  {
   "cell_type": "code",
   "execution_count": 82,
   "id": "f96ab109",
   "metadata": {
    "execution": {
     "iopub.execute_input": "2023-08-12T17:18:54.615089Z",
     "iopub.status.busy": "2023-08-12T17:18:54.614555Z",
     "iopub.status.idle": "2023-08-12T17:18:54.634687Z",
     "shell.execute_reply": "2023-08-12T17:18:54.633638Z"
    },
    "papermill": {
     "duration": 0.124636,
     "end_time": "2023-08-12T17:18:54.637237",
     "exception": false,
     "start_time": "2023-08-12T17:18:54.512601",
     "status": "completed"
    },
    "tags": []
   },
   "outputs": [
    {
     "data": {
      "text/plain": [
       "((162758, 2),\n",
       "                                           reviewText sentiment\n",
       " 0  Henry Selick’s first movie since ’s Coraline. ...  POSITIVE\n",
       " 1  With a cast that reads like the Vogue Oscar pa...  NEGATIVE\n",
       " 2  Creed II does not give us anything but another...  POSITIVE\n",
       " 3  I know what you're thinking, but this is no Li...  POSITIVE\n",
       " 4  Director Fernando Meirelles tells the story wi...  POSITIVE)"
      ]
     },
     "execution_count": 82,
     "metadata": {},
     "output_type": "execute_result"
    }
   ],
   "source": [
    "rt_senti = merged[[\"reviewText\", \"sentiment\"]].copy()\n",
    "rt_senti.shape, rt_senti.head()"
   ]
  },
  {
   "cell_type": "code",
   "execution_count": 83,
   "id": "b31dd9b8",
   "metadata": {
    "execution": {
     "iopub.execute_input": "2023-08-12T17:18:54.841762Z",
     "iopub.status.busy": "2023-08-12T17:18:54.840473Z",
     "iopub.status.idle": "2023-08-12T17:18:54.854641Z",
     "shell.execute_reply": "2023-08-12T17:18:54.853401Z"
    },
    "papermill": {
     "duration": 0.119046,
     "end_time": "2023-08-12T17:18:54.857277",
     "exception": false,
     "start_time": "2023-08-12T17:18:54.738231",
     "status": "completed"
    },
    "tags": []
   },
   "outputs": [
    {
     "data": {
      "text/plain": [
       "((55315, 1),\n",
       "                                           reviewText\n",
       " 0  Green slowly cranks up the dread with style an...\n",
       " 1  Philip Noyce's direction is elegant and unforc...\n",
       " 2  It wouldn't do to say what path Maria ultimate...\n",
       " 3  Pig is not exactly the arthouse John Wick that...\n",
       " 4  An imaginative no-budget musical of sorts abou...)"
      ]
     },
     "execution_count": 83,
     "metadata": {},
     "output_type": "execute_result"
    }
   ],
   "source": [
    "rt_test = pd.DataFrame(merged_test[\"reviewText\"].copy())\n",
    "rt_test.shape, rt_test.head()"
   ]
  },
  {
   "cell_type": "code",
   "execution_count": 84,
   "id": "1d6ed6ce",
   "metadata": {
    "execution": {
     "iopub.execute_input": "2023-08-12T17:18:55.063618Z",
     "iopub.status.busy": "2023-08-12T17:18:55.062634Z",
     "iopub.status.idle": "2023-08-12T17:18:55.069474Z",
     "shell.execute_reply": "2023-08-12T17:18:55.068213Z"
    },
    "papermill": {
     "duration": 0.112456,
     "end_time": "2023-08-12T17:18:55.072222",
     "exception": false,
     "start_time": "2023-08-12T17:18:54.959766",
     "status": "completed"
    },
    "tags": []
   },
   "outputs": [],
   "source": [
    "def get_vocab(text_df, ngram_range=(1,1)):\n",
    "    print(f\"Generating vocabulary for ngram_range: {ngram_range}...\")\n",
    "    tvec1 = CountVectorizer(ngram_range=ngram_range, stop_words='english', strip_accents='unicode')\n",
    "    tvec1.fit(text_df)\n",
    "    voc_ngram = set(tvec1.vocabulary_.keys())\n",
    "    return voc_ngram"
   ]
  },
  {
   "cell_type": "code",
   "execution_count": 85,
   "id": "4f35aeee",
   "metadata": {
    "execution": {
     "iopub.execute_input": "2023-08-12T17:18:55.279762Z",
     "iopub.status.busy": "2023-08-12T17:18:55.279370Z",
     "iopub.status.idle": "2023-08-12T17:18:55.290684Z",
     "shell.execute_reply": "2023-08-12T17:18:55.289781Z"
    },
    "papermill": {
     "duration": 0.118374,
     "end_time": "2023-08-12T17:18:55.293366",
     "exception": false,
     "start_time": "2023-08-12T17:18:55.174992",
     "status": "completed"
    },
    "tags": []
   },
   "outputs": [],
   "source": [
    "def get_common_vocab(df_list: list, ngram_range_list: list):\n",
    "    \"\"\"\n",
    "    Get common vocabulary from a list of dataframes.\n",
    "    \"\"\"\n",
    "    final_common_vocab = set()\n",
    "    # Get vocabulary from each dataframe for a given ngram-range\n",
    "    for ngram_range in ngram_range_list:\n",
    "        vocab_ngram = set()\n",
    "        for num, df in enumerate(df_list, start=1):\n",
    "            print(f\"Working on DF#{num} in the list of DFs provided\")\n",
    "            vocab_ngram_df = set(get_vocab(df['reviewText'], ngram_range))\n",
    "            print(f\"Vocabulary size for ngram-range {ngram_range} in DF#{num}: {len(vocab_ngram_df)}\\n\")\n",
    "            if len(vocab_ngram) > 0:\n",
    "                print(f\"Keeping only the common (intersection) words for ngram-range {ngram_range}...\")\n",
    "                vocab_ngram = vocab_ngram.intersection(vocab_ngram_df)\n",
    "            else:\n",
    "                print(f\"Words from the first df for ngram-range {ngram_range} added.\\n\")\n",
    "                vocab_ngram = vocab_ngram_df\n",
    "        print(f\"Common vocabulary for ngram-range {ngram_range}: {len(vocab_ngram)}\\n\")\n",
    "        \n",
    "        if len(final_common_vocab) > 0:\n",
    "            print(f\"Fusing (union) with final common vocabulary: ngram-range = {ngram_range}.\\n\")\n",
    "            final_common_vocab = final_common_vocab.union(vocab_ngram)\n",
    "        else:\n",
    "            print(f\"Appended first time to final common vocabulary: ngram-range = {ngram_range}.\\n\")\n",
    "            final_common_vocab = vocab_ngram\n",
    "    return final_common_vocab"
   ]
  },
  {
   "cell_type": "code",
   "execution_count": 86,
   "id": "d9b9c5f7",
   "metadata": {
    "execution": {
     "iopub.execute_input": "2023-08-12T17:18:55.499570Z",
     "iopub.status.busy": "2023-08-12T17:18:55.498874Z",
     "iopub.status.idle": "2023-08-12T17:18:55.503059Z",
     "shell.execute_reply": "2023-08-12T17:18:55.502081Z"
    },
    "papermill": {
     "duration": 0.109489,
     "end_time": "2023-08-12T17:18:55.505681",
     "exception": false,
     "start_time": "2023-08-12T17:18:55.396192",
     "status": "completed"
    },
    "tags": []
   },
   "outputs": [],
   "source": [
    "# voc_1gram = get_vocab(rt_senti[\"reviewText\"], ngram_range=(1,1))\n",
    "# len(voc_1gram), voc_1gram[:10]"
   ]
  },
  {
   "cell_type": "code",
   "execution_count": 87,
   "id": "5828c3c5",
   "metadata": {
    "execution": {
     "iopub.execute_input": "2023-08-12T17:18:55.710954Z",
     "iopub.status.busy": "2023-08-12T17:18:55.710301Z",
     "iopub.status.idle": "2023-08-12T17:18:55.714341Z",
     "shell.execute_reply": "2023-08-12T17:18:55.713380Z"
    },
    "papermill": {
     "duration": 0.109226,
     "end_time": "2023-08-12T17:18:55.716716",
     "exception": false,
     "start_time": "2023-08-12T17:18:55.607490",
     "status": "completed"
    },
    "tags": []
   },
   "outputs": [],
   "source": [
    "# voc_2gram = get_vocab(rt_senti[\"reviewText\"], ngram_range=(2,2))\n",
    "# len(voc_2gram), voc_2gram[:10]"
   ]
  },
  {
   "cell_type": "code",
   "execution_count": 88,
   "id": "7f8bcc30",
   "metadata": {
    "execution": {
     "iopub.execute_input": "2023-08-12T17:18:55.922614Z",
     "iopub.status.busy": "2023-08-12T17:18:55.921957Z",
     "iopub.status.idle": "2023-08-12T17:18:55.926639Z",
     "shell.execute_reply": "2023-08-12T17:18:55.925420Z"
    },
    "papermill": {
     "duration": 0.111252,
     "end_time": "2023-08-12T17:18:55.929673",
     "exception": false,
     "start_time": "2023-08-12T17:18:55.818421",
     "status": "completed"
    },
    "tags": []
   },
   "outputs": [],
   "source": [
    "# voc_3gram = get_vocab(rt_senti[\"reviewText\"], ngram_range=(3,3))\n",
    "# len(voc_3gram), voc_3gram[:10]"
   ]
  },
  {
   "cell_type": "code",
   "execution_count": 89,
   "id": "ad21c585",
   "metadata": {
    "execution": {
     "iopub.execute_input": "2023-08-12T17:18:56.143679Z",
     "iopub.status.busy": "2023-08-12T17:18:56.142714Z",
     "iopub.status.idle": "2023-08-12T17:18:56.147267Z",
     "shell.execute_reply": "2023-08-12T17:18:56.146302Z"
    },
    "papermill": {
     "duration": 0.114092,
     "end_time": "2023-08-12T17:18:56.149753",
     "exception": false,
     "start_time": "2023-08-12T17:18:56.035661",
     "status": "completed"
    },
    "tags": []
   },
   "outputs": [],
   "source": [
    "# common_unigrams = get_common_vocab([rt_senti, rt_test], ngram_range_list=[(1,1)])\n",
    "# print(len(common_unigrams))\n",
    "# # sorted(list(common_unigrams))"
   ]
  },
  {
   "cell_type": "code",
   "execution_count": 90,
   "id": "f678914b",
   "metadata": {
    "execution": {
     "iopub.execute_input": "2023-08-12T17:18:56.356256Z",
     "iopub.status.busy": "2023-08-12T17:18:56.355684Z",
     "iopub.status.idle": "2023-08-12T17:18:56.360534Z",
     "shell.execute_reply": "2023-08-12T17:18:56.359313Z"
    },
    "papermill": {
     "duration": 0.110663,
     "end_time": "2023-08-12T17:18:56.362965",
     "exception": false,
     "start_time": "2023-08-12T17:18:56.252302",
     "status": "completed"
    },
    "tags": []
   },
   "outputs": [],
   "source": [
    "# common_bigrams = get_common_vocab([rt_senti, rt_test], ngram_range_list=[(2,2)])\n",
    "# print(len(common_bigrams))\n",
    "# # # common_bigrams"
   ]
  },
  {
   "cell_type": "code",
   "execution_count": 91,
   "id": "c9e023f6",
   "metadata": {
    "execution": {
     "iopub.execute_input": "2023-08-12T17:18:56.568661Z",
     "iopub.status.busy": "2023-08-12T17:18:56.567462Z",
     "iopub.status.idle": "2023-08-12T17:18:56.573297Z",
     "shell.execute_reply": "2023-08-12T17:18:56.572124Z"
    },
    "papermill": {
     "duration": 0.111503,
     "end_time": "2023-08-12T17:18:56.576489",
     "exception": false,
     "start_time": "2023-08-12T17:18:56.464986",
     "status": "completed"
    },
    "tags": []
   },
   "outputs": [],
   "source": [
    "# common_1_2_grams = get_common_vocab([rt_senti, rt_test], ngram_range_list=[(1,1), (2,2)])\n",
    "# print(len(common_1_2_grams))\n",
    "# # sorted(list(common_1_2_grams))\n",
    "\n",
    "# # common_1_2_grams = common_unigrams | common_bigrams    # older code"
   ]
  },
  {
   "cell_type": "code",
   "execution_count": 92,
   "id": "55d4d204",
   "metadata": {
    "execution": {
     "iopub.execute_input": "2023-08-12T17:18:56.781134Z",
     "iopub.status.busy": "2023-08-12T17:18:56.780094Z",
     "iopub.status.idle": "2023-08-12T17:18:56.784476Z",
     "shell.execute_reply": "2023-08-12T17:18:56.783662Z"
    },
    "papermill": {
     "duration": 0.108933,
     "end_time": "2023-08-12T17:18:56.786877",
     "exception": false,
     "start_time": "2023-08-12T17:18:56.677944",
     "status": "completed"
    },
    "tags": []
   },
   "outputs": [],
   "source": [
    "# common_trigrams = get_common_vocab([rt_senti, rt_test], ngram_range_list=[(3,3)])\n",
    "# print(len(common_trigrams))\n",
    "# # common_trigrams"
   ]
  },
  {
   "cell_type": "code",
   "execution_count": 93,
   "id": "eb7f5347",
   "metadata": {
    "execution": {
     "iopub.execute_input": "2023-08-12T17:18:57.007738Z",
     "iopub.status.busy": "2023-08-12T17:18:57.006734Z",
     "iopub.status.idle": "2023-08-12T17:18:57.012290Z",
     "shell.execute_reply": "2023-08-12T17:18:57.011295Z"
    },
    "papermill": {
     "duration": 0.126205,
     "end_time": "2023-08-12T17:18:57.015916",
     "exception": false,
     "start_time": "2023-08-12T17:18:56.889711",
     "status": "completed"
    },
    "tags": []
   },
   "outputs": [],
   "source": [
    "# common_1_2_3_grams = get_common_vocab([rt_senti, rt_test], ngram_range_list=[(1,1), (2,2), (3,3)])\n",
    "# print(len(common_1_2_3_grams))\n",
    "# # sorted((common_1_2_3_grams))\n",
    "\n",
    "# # common_1_2_3_grams = common_unigrams | common_bigrams | common_trigrams    # Older code  "
   ]
  },
  {
   "cell_type": "markdown",
   "id": "8144fe1e",
   "metadata": {
    "papermill": {
     "duration": 0.102941,
     "end_time": "2023-08-12T17:18:57.227928",
     "exception": false,
     "start_time": "2023-08-12T17:18:57.124987",
     "status": "completed"
    },
    "tags": []
   },
   "source": [
    "### Find common vocabulary between text with positive and negative sentiments in training dataset  "
   ]
  },
  {
   "cell_type": "code",
   "execution_count": 94,
   "id": "789b9217",
   "metadata": {
    "execution": {
     "iopub.execute_input": "2023-08-12T17:18:57.435959Z",
     "iopub.status.busy": "2023-08-12T17:18:57.435210Z",
     "iopub.status.idle": "2023-08-12T17:18:57.485936Z",
     "shell.execute_reply": "2023-08-12T17:18:57.484396Z"
    },
    "papermill": {
     "duration": 0.159368,
     "end_time": "2023-08-12T17:18:57.489343",
     "exception": false,
     "start_time": "2023-08-12T17:18:57.329975",
     "status": "completed"
    },
    "tags": []
   },
   "outputs": [
    {
     "data": {
      "text/plain": [
       "(108761, 2)"
      ]
     },
     "execution_count": 94,
     "metadata": {},
     "output_type": "execute_result"
    }
   ],
   "source": [
    "# Dataframe for positive sentiment\n",
    "rt_senti_pos = rt_senti.loc[rt_senti['sentiment'] == 'POSITIVE'].copy()\n",
    "rt_senti_pos.shape"
   ]
  },
  {
   "cell_type": "code",
   "execution_count": 95,
   "id": "d5c820af",
   "metadata": {
    "execution": {
     "iopub.execute_input": "2023-08-12T17:18:57.694359Z",
     "iopub.status.busy": "2023-08-12T17:18:57.693113Z",
     "iopub.status.idle": "2023-08-12T17:18:57.739550Z",
     "shell.execute_reply": "2023-08-12T17:18:57.738284Z"
    },
    "papermill": {
     "duration": 0.151684,
     "end_time": "2023-08-12T17:18:57.742323",
     "exception": false,
     "start_time": "2023-08-12T17:18:57.590639",
     "status": "completed"
    },
    "tags": []
   },
   "outputs": [
    {
     "data": {
      "text/plain": [
       "(53997, 2)"
      ]
     },
     "execution_count": 95,
     "metadata": {},
     "output_type": "execute_result"
    }
   ],
   "source": [
    "# Dataframe for negative sentiment\n",
    "rt_senti_neg = rt_senti.loc[rt_senti['sentiment'] == 'NEGATIVE'].copy()\n",
    "rt_senti_neg.shape"
   ]
  },
  {
   "cell_type": "code",
   "execution_count": 96,
   "id": "5b106a30",
   "metadata": {
    "execution": {
     "iopub.execute_input": "2023-08-12T17:18:57.946550Z",
     "iopub.status.busy": "2023-08-12T17:18:57.945771Z",
     "iopub.status.idle": "2023-08-12T17:18:57.951132Z",
     "shell.execute_reply": "2023-08-12T17:18:57.949636Z"
    },
    "papermill": {
     "duration": 0.110468,
     "end_time": "2023-08-12T17:18:57.954116",
     "exception": false,
     "start_time": "2023-08-12T17:18:57.843648",
     "status": "completed"
    },
    "tags": []
   },
   "outputs": [],
   "source": [
    "# Generate stop words/phrases specific for this project data  \n",
    "\n",
    "# common_1_2_3_grams_sentiment = get_common_vocab([rt_senti_pos, rt_senti_neg], ngram_range_list=[(1,1), (2,2), (3,3)])\n",
    "# print(len(common_1_2_3_grams_sentiment))\n",
    "# # sorted(list(common_1_2_3_grams_sentiment))"
   ]
  },
  {
   "cell_type": "code",
   "execution_count": 97,
   "id": "7ce83ad4",
   "metadata": {
    "execution": {
     "iopub.execute_input": "2023-08-12T17:18:58.233129Z",
     "iopub.status.busy": "2023-08-12T17:18:58.231777Z",
     "iopub.status.idle": "2023-08-12T17:18:58.237044Z",
     "shell.execute_reply": "2023-08-12T17:18:58.236113Z"
    },
    "papermill": {
     "duration": 0.181229,
     "end_time": "2023-08-12T17:18:58.239538",
     "exception": false,
     "start_time": "2023-08-12T17:18:58.058309",
     "status": "completed"
    },
    "tags": []
   },
   "outputs": [],
   "source": [
    "# Generate and store the entire vocabulary of training data  \n",
    "\n",
    "# train_1_2_3_grams = get_vocab(rt_senti['reviewText'], ngram_range=(1,3))\n",
    "# print(len(train_1_2_3_grams))\n",
    "# # sorted(train_1_2_3_grams)"
   ]
  },
  {
   "cell_type": "code",
   "execution_count": 98,
   "id": "90d25368",
   "metadata": {
    "execution": {
     "iopub.execute_input": "2023-08-12T17:18:58.445660Z",
     "iopub.status.busy": "2023-08-12T17:18:58.444811Z",
     "iopub.status.idle": "2023-08-12T17:18:58.449268Z",
     "shell.execute_reply": "2023-08-12T17:18:58.448103Z"
    },
    "papermill": {
     "duration": 0.109747,
     "end_time": "2023-08-12T17:18:58.451859",
     "exception": false,
     "start_time": "2023-08-12T17:18:58.342112",
     "status": "completed"
    },
    "tags": []
   },
   "outputs": [],
   "source": [
    "# type(train_1_2_3_grams)"
   ]
  },
  {
   "cell_type": "code",
   "execution_count": 99,
   "id": "86e8e6bd",
   "metadata": {
    "execution": {
     "iopub.execute_input": "2023-08-12T17:18:58.658514Z",
     "iopub.status.busy": "2023-08-12T17:18:58.657848Z",
     "iopub.status.idle": "2023-08-12T17:18:58.661943Z",
     "shell.execute_reply": "2023-08-12T17:18:58.661051Z"
    },
    "papermill": {
     "duration": 0.110209,
     "end_time": "2023-08-12T17:18:58.664262",
     "exception": false,
     "start_time": "2023-08-12T17:18:58.554053",
     "status": "completed"
    },
    "tags": []
   },
   "outputs": [],
   "source": [
    "# Get the vocabulary that should be used in the final models  \n",
    "# relevant_vocab = train_1_2_3_grams - common_1_2_3_grams_sentiment\n",
    "# print(len(relevant_vocab))"
   ]
  },
  {
   "cell_type": "markdown",
   "id": "5510a1d0",
   "metadata": {
    "papermill": {
     "duration": 0.101257,
     "end_time": "2023-08-12T17:18:58.866792",
     "exception": false,
     "start_time": "2023-08-12T17:18:58.765535",
     "status": "completed"
    },
    "tags": []
   },
   "source": [
    "## Submit_v4 for merged file models  "
   ]
  },
  {
   "cell_type": "markdown",
   "id": "1e89cebb",
   "metadata": {
    "papermill": {
     "duration": 0.10223,
     "end_time": "2023-08-12T17:18:59.071807",
     "exception": false,
     "start_time": "2023-08-12T17:18:58.969577",
     "status": "completed"
    },
    "tags": []
   },
   "source": [
    "### More Helper functions  "
   ]
  },
  {
   "cell_type": "code",
   "execution_count": 100,
   "id": "52a18cdb",
   "metadata": {
    "execution": {
     "iopub.execute_input": "2023-08-12T17:18:59.280356Z",
     "iopub.status.busy": "2023-08-12T17:18:59.279563Z",
     "iopub.status.idle": "2023-08-12T17:18:59.287017Z",
     "shell.execute_reply": "2023-08-12T17:18:59.285998Z"
    },
    "papermill": {
     "duration": 0.112595,
     "end_time": "2023-08-12T17:18:59.289862",
     "exception": false,
     "start_time": "2023-08-12T17:18:59.177267",
     "status": "completed"
    },
    "tags": []
   },
   "outputs": [],
   "source": [
    "# Testing predictions on missing reviewtext columns  \n",
    "\n",
    "def predict_on_missing_review_data(pipe, selected_features, merged_train):\n",
    "    missing_reviews_train = merged_train.loc[merged_train['reviewYN'] == 1]\n",
    "    missing_reviews_train.reset_index(drop=True)\n",
    "    X_train_miss_revs = missing_reviews_train.drop('sentiment', axis = 1)\n",
    "    X_train_miss_revs = X_train_miss_revs[selected_features]\n",
    "    y_train_miss_revs = missing_reviews_train['sentiment']\n",
    "    \n",
    "    y_pred_miss_revs = pipe.predict(X_train_miss_revs)\n",
    "#     print('Predictions on rows which had missing reviewText')\n",
    "    print(\"Confusion matrix and f1-score for rows which have no reviewText in X_train: \")\n",
    "    print(confusion_matrix(y_train_miss_revs, y_pred_miss_revs, labels=pipe.classes_))\n",
    "    \n",
    "    return f1_score(y_train_miss_revs, y_pred_miss_revs, average='micro')"
   ]
  },
  {
   "cell_type": "code",
   "execution_count": 101,
   "id": "95565719",
   "metadata": {
    "execution": {
     "iopub.execute_input": "2023-08-12T17:18:59.499639Z",
     "iopub.status.busy": "2023-08-12T17:18:59.498949Z",
     "iopub.status.idle": "2023-08-12T17:18:59.531270Z",
     "shell.execute_reply": "2023-08-12T17:18:59.530299Z"
    },
    "papermill": {
     "duration": 0.139795,
     "end_time": "2023-08-12T17:18:59.533877",
     "exception": false,
     "start_time": "2023-08-12T17:18:59.394082",
     "status": "completed"
    },
    "tags": []
   },
   "outputs": [],
   "source": [
    "# Function to build pipelines for GridSearchCV which goes into the final 'submit' function  \n",
    "def build_pipeline(selected_model=LogisticRegression(), \n",
    "                   selected_features={'txt': ['reviewText']}, \n",
    "                   param_grid=None,\n",
    "                   vocab=None,\n",
    "                   vocab_usage='tfidf',\n",
    "                   strip_accents='unicode', \n",
    "                   add_countvec=False):\n",
    "    # Encoders  \n",
    "    ohe = OneHotEncoder(sparse_output=False, handle_unknown='ignore')\n",
    "    MMscaler = MinMaxScaler()\n",
    "    StdScaler = StandardScaler()\n",
    "    RobScaler = RobustScaler()\n",
    "    \n",
    "    # Text features ['reviewText', 'reviewerName', 'movieid', 'genre', 'director']\n",
    "    tfidf_vec = TfidfVectorizer(ngram_range=(1,2))\n",
    "    count_vec = CountVectorizer(ngram_range=(1,2))\n",
    "    txt_pipe = Pipeline(steps=[\n",
    "                            (\"tvec\", TfidfVectorizer(ngram_range=(1,3), strip_accents=strip_accents))    # Adjust ngram_range here for reviewText\n",
    "                        ])\n",
    "    txt_pipe_vocab = Pipeline(steps=[\n",
    "                            (\"tvec\", TfidfVectorizer(ngram_range=(1,3), strip_accents=strip_accents, vocabulary=vocab))    # Adjust ngram_range here for reviewText\n",
    "                        ])\n",
    "    txt_pipe_2 = Pipeline(steps=[\n",
    "                            (\"tvec\", TfidfVectorizer(ngram_range=(2,2)))\n",
    "                        ])\n",
    "    txt_pipe_3 = Pipeline(steps=[\n",
    "                            (\"tvec\", TfidfVectorizer(ngram_range=(1,1)))\n",
    "                        ])\n",
    "    txt_pipe_4 = Pipeline(steps=[\n",
    "                            (\"tvec\", TfidfVectorizer(ngram_range=(1,3)))    # Adjust ngram_range here for reviewText\n",
    "                        ])\n",
    "    txt_pipe_title  = Pipeline(steps=[\n",
    "                            (\"tvec\", TfidfVectorizer(ngram_range=(1,5)))    # Adjust ngram_range here for reviewText\n",
    "                        ])\n",
    "    \n",
    "    # Additional pipes for count vectorizer\n",
    "    txt_pipe_countvec = Pipeline(steps=[\n",
    "                            (\"cvec\", CountVectorizer(ngram_range=(1,3), strip_accents=strip_accents))    # Adjust ngram_range here for reviewText\n",
    "                        ])\n",
    "    txt_pipe_countvec_vocab = Pipeline(steps=[\n",
    "                            (\"cvec\", CountVectorizer(ngram_range=(1,3), strip_accents=strip_accents, vocabulary=vocab))    # Adjust ngram_range here for reviewText\n",
    "                        ])\n",
    "    \n",
    "    txt_pipe_countvec_ratingContents = Pipeline(steps=[\n",
    "                            (\"cvec\", CountVectorizer(ngram_range=(1,5)))    # Adjust ngram_range here for reviewText\n",
    "                        ])\n",
    "    txt_pipe_countvec_rcSorted = Pipeline(steps=[\n",
    "                            (\"cvec\", CountVectorizer(ngram_range=(1,1)))    # Adjust ngram_range here for reviewText\n",
    "                        ])\n",
    "    txt_pipe_countvec_genre = Pipeline(steps=[\n",
    "                            (\"cvec\", CountVectorizer(ngram_range=(1,1)))\n",
    "                        ])\n",
    "    txt_pipe_countvec_genreSorted = Pipeline(steps=[\n",
    "                            (\"cvec\", CountVectorizer(ngram_range=(1,5)))\n",
    "                        ])\n",
    "    txt_pipe_countvec_distributor = Pipeline(steps=[\n",
    "                            (\"cvec\", CountVectorizer(ngram_range=(1,3)))    # Adjust ngram_range here for reviewText\n",
    "                        ])\n",
    "    txt_pipe_countvec_title = Pipeline(steps=[\n",
    "                            (\"cvec\", CountVectorizer(ngram_range=(1,5), strip_accents=strip_accents))\n",
    "                        ])\n",
    "    txt_pipe_countvec_movieid = Pipeline(steps=[\n",
    "                            (\"cvec\", CountVectorizer(ngram_range=(1,1)))\n",
    "                        ])\n",
    "    # Basic pipes  \n",
    "    TFs = []\n",
    "    try:\n",
    "        for c in selected_features['cat']:\n",
    "            TFs.append((f\"cat_{c}\", ohe, [c]))\n",
    "    except:\n",
    "        pass\n",
    "    try:\n",
    "        for n in selected_features['num']:\n",
    "            if n in [\"runtimeMinutes\", \"boxOffice\", \"releaseDiff\"]:\n",
    "                TFs.append((f\"num_{n}\", RobScaler, [n]))\n",
    "                TFs.append((f\"num_{n}_ss\", StdScaler, [n]))\n",
    "                \n",
    "            else:\n",
    "                TFs.append((f\"num_{n}\", StdScaler, [n]))\n",
    "    except:\n",
    "        pass\n",
    "    try:\n",
    "        for t in selected_features['txt']:\n",
    "            if t in ['director', 'reviewerName']:\n",
    "                TFs.append((f\"txt_{t}\", txt_pipe_2, t))\n",
    "            elif t in [\"originalLanguage\", \"releaseYear\"]:\n",
    "                TFs.append((f\"txt_{t}\", txt_pipe_3, t))\n",
    "            elif t in ['genre']:\n",
    "                TFs.append((f\"txt_{t}\", txt_pipe_countvec_genre, t))\n",
    "            elif t in [\"genreSorted\"]:\n",
    "                TFs.append((f\"txt_{t}\", txt_pipe_countvec_genreSorted, t))\n",
    "            elif t in [\"distributor\"]:\n",
    "                TFs.append((f\"txt_{t}\", txt_pipe_countvec_distributor, t))\n",
    "            elif t in ['reviewText']:\n",
    "#                 if vocab and (vocab_usage in [\"tfidf\", \"both\"]):\n",
    "#                     txt_pipe.set_params(tvec__vocabulary=vocab)\n",
    "#                     txt_pipe.set_params(tvec__stop_words='english')\n",
    "                TFs.append((f\"txt_{t}\", txt_pipe, t))\n",
    "            elif t in ['reviewText_2']:\n",
    "                if add_countvec:\n",
    "#                     if vocab and (vocab_usage in [\"count\", \"both\"]):\n",
    "#                         txt_pipe_countvec.set_params(cvec__vocabulary=vocab)\n",
    "#                         txt_pipe_countvec.set_params(cvec__stop_words='english')\n",
    "                    TFs.append((f\"txt_{t}\", txt_pipe_countvec, t))\n",
    "            elif t in ['reviewText_3']:\n",
    "                if vocab_usage == 'tfidf':\n",
    "                    TFs.append((f\"txt_{t}\", txt_pipe_vocab, t))\n",
    "                elif vocab_usage == 'count':\n",
    "                    TFs.append((f\"txt_{t}\", txt_pipe_countvec_vocab, t))\n",
    "            elif t in [\"ratingContents\"]:\n",
    "                TFs.append((f\"txt_{t}\", txt_pipe_countvec_ratingContents, t))\n",
    "            elif t in [\"rcSorted\"]:\n",
    "                TFs.append((f\"txt_{t}\", txt_pipe_countvec_rcSorted, t))\n",
    "            elif t in [\"title\"]:\n",
    "                TFs.append((f\"txt_{t}\", txt_pipe_title, t))\n",
    "            elif t in [\"movieid\"]:\n",
    "                TFs.append((f\"txt_{t}\", txt_pipe_countvec_movieid, t))\n",
    "            else:\n",
    "                pass\n",
    "    except:\n",
    "        pass\n",
    "\n",
    "    # Build ColumnTransformer  \n",
    "    ct = ColumnTransformer(transformers=TFs, remainder='drop')\n",
    "\n",
    "    # Build Pipeline\n",
    "    pipe = Pipeline(steps=[('ct', ct), ('model', selected_model)])\n",
    "    print(\"\\nPipeline built successfully.\")\n",
    "\n",
    "    # Use the pipe in GridSearchCV\n",
    "    if param_grid == None:\n",
    "        param_grid_temp = {\"model__C\": [1],\n",
    "                     'model__solver': ['liblinear']}\n",
    "        print(\"Full GridSearchCV pipeline built successfully with basic default param_grid.\\n\")\n",
    "        pipeCV = GridSearchCV(pipe, param_grid_temp, cv=10, scoring=\"f1_micro\", n_jobs=-1)\n",
    "        return pipeCV\n",
    "    \n",
    "    # GridSearchCV if param_grid provided\n",
    "    if param_grid:\n",
    "        pipeCV = GridSearchCV(pipe, param_grid, cv=10, scoring=\"f1_micro\", n_jobs=-1)\n",
    "        print(\"\\nFull GridSearchCV pipeline built successfully.\")\n",
    "        return pipeCV"
   ]
  },
  {
   "cell_type": "code",
   "execution_count": 102,
   "id": "dba7aa5c",
   "metadata": {
    "execution": {
     "iopub.execute_input": "2023-08-12T17:18:59.736801Z",
     "iopub.status.busy": "2023-08-12T17:18:59.736105Z",
     "iopub.status.idle": "2023-08-12T17:18:59.752013Z",
     "shell.execute_reply": "2023-08-12T17:18:59.751142Z"
    },
    "papermill": {
     "duration": 0.120336,
     "end_time": "2023-08-12T17:18:59.754737",
     "exception": false,
     "start_time": "2023-08-12T17:18:59.634401",
     "status": "completed"
    },
    "tags": []
   },
   "outputs": [],
   "source": [
    "def preprocessor():\n",
    "    \n",
    "    # Merge and preprocess train and movies data  \n",
    "    merged = select_features(load_csv(\"train\"), load_csv(\"movies\"), row_thresh_null=None)    # Decide if you want to drop any rows containing lot of nulls\n",
    "    # Impute missing numerical values  \n",
    "    # Simple Imputer for ['audienceScore', 'runtimeMinutes', 'boxOffice'] and 'releaseDate' columns\n",
    "    si = SimpleImputer(strategy='median')\n",
    "    merged[['audienceScore', 'runtimeMinutes', 'boxOffice']] = si.fit_transform(merged[['audienceScore', 'runtimeMinutes', 'boxOffice']])\n",
    "    merged['releaseDate'] = merged[\"releaseDate\"].fillna(merged[\"releaseDate\"].median())    \n",
    "\n",
    "    # Create new feature columns\n",
    "    \n",
    "    # Convert audienceScore to categories  \n",
    "    num_bins_as = 20\n",
    "    merged[\"audScoreBins\"] = pd.cut(merged['audienceScore'], bins=num_bins_as, labels=False)\n",
    "\n",
    "    # Convert runtimeMinutes to categories  \n",
    "#     num_bins_rt = 20\n",
    "    merged[\"runtimeBins\"] = pd.cut(merged['runtimeMinutes'], bins=[0,75,120,180,565], labels=[4,3,2,1])\n",
    "    \n",
    "    # Convert boxOffice to categories  \n",
    "    num_bins_bo = 5\n",
    "    merged[\"boxOfficeBins\"] = pd.cut(merged['boxOffice'], bins=num_bins_bo, labels=False)\n",
    "    \n",
    "    # Convert releaseDiff to categories  \n",
    "    num_bins_rd = 5\n",
    "    merged[\"releaseDiffBins\"] = pd.cut(merged['releaseDiff'], bins=[-1, 180, 360, 1000, 40000], labels=[0, 1, 2, 3])\n",
    "    \n",
    "    # Check1 (preprocessor)\n",
    "    print(\"\\nCheck 1 (preprocessor) complete.\")\n",
    "    print(f\"Shape of X_train: {merged.shape}\")\n",
    "    print(f\"Features in X_train: {merged.columns}\")\n",
    "\n",
    "\n",
    "    \n",
    "    # Merge and preprocess test and movies data  \n",
    "    merged_test = select_features(load_csv(\"test\"), load_csv(\"movies\"))\n",
    "    # Transform ['audienceScore', 'runtimeMinutes', 'boxOffice'] columns in merged_test using 'si' fitted on 'merged' df  \n",
    "    merged_test[['audienceScore', 'runtimeMinutes', 'boxOffice']] = si.transform(merged_test[['audienceScore', 'runtimeMinutes', 'boxOffice']])\n",
    "    # Fill 'releaseDate' column in 'merged_test' df with median from the train (merged) df  \n",
    "    merged_test['releaseDate'] = merged_test[\"releaseDate\"].fillna(merged[\"releaseDate\"].median())\n",
    "\n",
    "    \n",
    "    # Create new feature columns\n",
    "    \n",
    "    # Convert audienceScore to categories  \n",
    "    num_bins_as = 20\n",
    "    merged_test[\"audScoreBins\"] = pd.cut(merged_test['audienceScore'], bins=num_bins_as, labels=False)\n",
    "    \n",
    "    # Convert runtimeMinutes to categories  \n",
    "#     num_bins_rt = 20\n",
    "    merged_test[\"runtimeBins\"] = pd.cut(merged_test['runtimeMinutes'], bins=[0,75,120,180,565], labels=[4,3,2,1])\n",
    "    \n",
    "    # Convert boxOffice to categories  \n",
    "    num_bins_bo = 5\n",
    "    merged_test[\"boxOfficeBins\"] = pd.cut(merged_test['boxOffice'], bins=num_bins_bo, labels=False)\n",
    "    \n",
    "    # Convert releaseDiff to categories  \n",
    "    num_bins_rd = 5\n",
    "    merged_test[\"releaseDiffBins\"] = pd.cut(merged_test['releaseDiff'], bins=[-1, 180, 360, 1000, 40000], labels=[0, 1, 2, 3])\n",
    "    \n",
    "    \n",
    "    # Check2 (preprocessor)\n",
    "    print(\"\\nCheck 2 (preprocessor) complete.\")\n",
    "    print(f\"Shape of X_test: {merged_test.shape}\")\n",
    "    print(f\"Features in X_test: {merged_test.columns}\")\n",
    "\n",
    "    return merged, merged_test\n",
    "    "
   ]
  },
  {
   "cell_type": "code",
   "execution_count": 103,
   "id": "c372acd1",
   "metadata": {
    "execution": {
     "iopub.execute_input": "2023-08-12T17:18:59.960825Z",
     "iopub.status.busy": "2023-08-12T17:18:59.959567Z",
     "iopub.status.idle": "2023-08-12T17:18:59.965481Z",
     "shell.execute_reply": "2023-08-12T17:18:59.963953Z"
    },
    "papermill": {
     "duration": 0.110631,
     "end_time": "2023-08-12T17:18:59.967850",
     "exception": false,
     "start_time": "2023-08-12T17:18:59.857219",
     "status": "completed"
    },
    "tags": []
   },
   "outputs": [],
   "source": [
    "# merged, merged_test = preprocessor()\n",
    "# merged.shape, merged_test.shape"
   ]
  },
  {
   "cell_type": "code",
   "execution_count": 104,
   "id": "d4ae11d7",
   "metadata": {
    "execution": {
     "iopub.execute_input": "2023-08-12T17:19:00.180869Z",
     "iopub.status.busy": "2023-08-12T17:19:00.180115Z",
     "iopub.status.idle": "2023-08-12T17:19:00.208576Z",
     "shell.execute_reply": "2023-08-12T17:19:00.207243Z"
    },
    "papermill": {
     "duration": 0.137375,
     "end_time": "2023-08-12T17:19:00.211488",
     "exception": false,
     "start_time": "2023-08-12T17:19:00.074113",
     "status": "completed"
    },
    "tags": []
   },
   "outputs": [],
   "source": [
    "def submit_v5(classifiers= [\n",
    "                {'selected_model' : LogisticRegression(C=1, solver='saga', max_iter=100000), \n",
    "                  'selected_features' : {'num': ['audienceScore']}, \n",
    "                  'param_grid' : None,\n",
    "                  'vocab' : None,\n",
    "                  'vocab_usage' : 'tfidf',\n",
    "                  'strip_accents' : 'unicode', \n",
    "                  'add_countvec' : False}\n",
    "              ]):\n",
    "    \n",
    "    \"\"\"Takes a list of dictionaries each with same keys as mentioned in the default dictionary in function definition\"\"\"\n",
    "    \n",
    "    print(\"\\nRunning the submit_v5 function...\")\n",
    "    \n",
    "    merged, merged_test = preprocessor()\n",
    "    print(f\"Preprocessing of train and test datasets complete.\")\n",
    "    \n",
    "    # Build vocabulary (if vocab is True)\n",
    "    vocab = None\n",
    "    for item in classifiers:\n",
    "        if item['vocab']:\n",
    "            vocab = True\n",
    "            break\n",
    "    \n",
    "    if vocab == True:\n",
    "        # Generate and store the entire vocabulary of training data  \n",
    "        print(f\"Generating stop words/phrases specific for this project data...\")\n",
    "        train_1_2_3_grams = get_vocab(merged['reviewText'], ngram_range=(1,3))\n",
    "        print(f\"Size of vocabulary of training data: {len(train_1_2_3_grams)}\")\n",
    "        # sorted(train_1_2_3_grams)\n",
    "\n",
    "        # Generate stop words/phrases specific for this project data  \n",
    "        print(f\"Generating stop words/phrases specific for this project data...\")\n",
    "        common_1_2_3_grams = get_common_vocab([merged, merged_test], ngram_range_list=[(1,1), (2,2), (3,3)])\n",
    "        print(f\"Number of stop words: {len(common_1_2_3_grams)}\")\n",
    "\n",
    "        # Get the vocabulary that should be used in the final models  \n",
    "        print(f\"Getting the vocabulary that will be fed to the final model(s)...\")\n",
    "        relevant_vocab = list(train_1_2_3_grams - common_1_2_3_grams)\n",
    "        print(f\"Size of the final relevant vocabulary: {len(relevant_vocab)}\")\n",
    "    else:\n",
    "        pass\n",
    "    \n",
    "    \n",
    "    # Create a list to store estimators  \n",
    "    estimators = []     # List of tuples of the form ('classifier_name', 'classifer_instance')\n",
    "    \n",
    "    # Build a dataframe of predictions  \n",
    "    predictions_df = pd.DataFrame()\n",
    "    \n",
    "    # Build a separate pipeline and fit it on selected features (and param_grid) for each item in classifiers list\n",
    "    for n, item in enumerate(classifiers, start=1):\n",
    "        selected_model = item['selected_model']\n",
    "        selected_features = item['selected_features']\n",
    "        param_grid = item['param_grid']\n",
    "        vocab = item['vocab']\n",
    "        vocab_usage = item['vocab_usage']\n",
    "        strip_accents = item['strip_accents']\n",
    "        add_countvec = item['add_countvec']\n",
    "    \n",
    "    \n",
    "        # Fine tune selected_features\n",
    "        if add_countvec:\n",
    "            if 'txt' in selected_features.keys():\n",
    "                if \"reviewText_2\" not in selected_features['txt']:\n",
    "                    selected_features['txt'].append('reviewText_2')\n",
    "        if vocab:\n",
    "            if 'txt' in selected_features.keys():\n",
    "                if \"reviewText_3\" not in selected_features['txt']:\n",
    "                    selected_features['txt'].append('reviewText_3')\n",
    "        else:\n",
    "            print(f\"No vocabulary provided/used for this model.\")\n",
    "        print(f\"\\nSelected features: {selected_features}\")\n",
    "        \n",
    "        if type(vocab) in [type([1, 2]), type({1, 2})]:\n",
    "            vocab = vocab\n",
    "        elif vocab == True:\n",
    "            vocab = common_1_2_3_grams    # Choose vocabulary here\n",
    "\n",
    "        # Modify X_train for the given 'item' by creating a custom 'features' list\n",
    "        features = []\n",
    "        for item in selected_features.values():\n",
    "            features.extend(item)\n",
    "            \n",
    "        # Add new columns as needed  \n",
    "        if add_countvec:\n",
    "            merged['reviewText_2'] = merged['reviewText']\n",
    "        if vocab:\n",
    "            merged['reviewText_3'] = merged['reviewText']\n",
    "        \n",
    "        # Create X_tran, y_train\n",
    "        X_train = merged.drop(labels=\"sentiment\", axis=1)\n",
    "        y_train = merged[\"sentiment\"]\n",
    "        \n",
    "        X_train = merged[features].copy()\n",
    "\n",
    "\n",
    "        # Build Pipeline\n",
    "        pipe = build_pipeline(selected_model, selected_features, param_grid=param_grid, \n",
    "                              vocab=vocab, vocab_usage='tfidf', \n",
    "                              strip_accents=strip_accents, add_countvec=add_countvec)\n",
    "        print(pipe)\n",
    "\n",
    "        \n",
    "        # Fit \n",
    "        print(f\"\\nTraining started with full pipeline for classifier #{n}/{len(classifiers)}...\")\n",
    "        pipe.fit(X_train, y_train)\n",
    "        \n",
    "\n",
    "        # Check1\n",
    "        print(f\"\\nCheck #{n}.1 complete.\")\n",
    "        print(f\"Details of the best model using classifier #{n} (GridSearchCV) on X_train: \")\n",
    "        print(f\"Best Params: {pipe.best_params_}\")\n",
    "        print(f\"Best Score: {pipe.best_score_}\")\n",
    "        \n",
    "        print(predict_on_missing_review_data(pipe, features, merged))    # Function defined above\n",
    "        \n",
    "        estimators.append((f\"classifier_{n}\", pipe))\n",
    "        print(f\"classifier_{n} successfully added to 'estimators' list\")\n",
    "\n",
    "        \n",
    "        # Predict on train data \n",
    "        y_train_pred = pipe.predict(X_train)\n",
    "        print(f\"Confusion matrix for predictions on training data: \")\n",
    "        print(confusion_matrix(y_train, y_train_pred))\n",
    "        f1_train = f1_score(y_train, y_train_pred, average=\"micro\")\n",
    "        print(f\"F1-score on training data: {f1_train}\")\n",
    "        \n",
    "        \n",
    "        # Predict on test.csv file\n",
    "        # Add new columns as needed \n",
    "        if add_countvec:\n",
    "            merged_test['reviewText_2'] = merged_test['reviewText']\n",
    "        if vocab:\n",
    "            merged_test['reviewText_3'] = merged_test['reviewText']\n",
    "        \n",
    "               \n",
    "        X_test = merged_test[features].copy()\n",
    "\n",
    "    \n",
    "        y_pred = pipe.predict(X_test)\n",
    "        \n",
    "        # Insert predictions in 'predictions_df' dataframe\n",
    "        predictions_df.insert(n-1, f\"pred_{n}\", y_pred, allow_duplicates=False)\n",
    "        print(predictions_df.shape)\n",
    "        print(predictions_df.head(10))\n",
    "        \n",
    "    \n",
    "        # Check2\n",
    "        print(f\"\\nCheck #{n}.2 complete.\")\n",
    "    #     cv_results_df = pd.DataFrame(pipe.cv_results_)\n",
    "        print(\"Details of the best model using full pipeline (GridSearchCV) on X_train: \")\n",
    "#         print(f\"Best Estimator: {pipe.best_estimator_}\")\n",
    "        print(f\"Best Params: {pipe.best_params_}\")\n",
    "        print(f\"Best Score: {pipe.best_score_}\")\n",
    "#         print(f\"Best Index: {pipe.best_index_}\")\n",
    "        print(f\"Refit Time: {pipe.refit_time_}\")\n",
    "    #     print(f\"Shape of CV results dataframe: {cv_results_df.shape}\")\n",
    "    \n",
    "    # Voting classifier (custom) with hard voting\n",
    "    # Calculate the MODE for all predictions (Note that the 'predictions_df' generated above should have odd number of columns)\n",
    "    pred_df_final = predictions_df.mode('columns')\n",
    "    pred_df_final.columns = [\"sentiment\"]\n",
    "    pred_df_final.index.name = \"id\"\n",
    "    pred_df_final.to_csv(\"submission.csv\")\n",
    "    \n",
    "    print(\"\\nSuccessfully created the submission file!!!\")\n",
    "    \n",
    "#     return pipe.cv_results_\n",
    "    return pred_df_final, estimators"
   ]
  },
  {
   "cell_type": "markdown",
   "id": "ff3178d1",
   "metadata": {
    "papermill": {
     "duration": 0.103854,
     "end_time": "2023-08-12T17:19:00.417124",
     "exception": false,
     "start_time": "2023-08-12T17:19:00.313270",
     "status": "completed"
    },
    "tags": []
   },
   "source": [
    "## Use 'submit_v5' function  "
   ]
  },
  {
   "cell_type": "code",
   "execution_count": 105,
   "id": "a4ddab8b",
   "metadata": {
    "execution": {
     "iopub.execute_input": "2023-08-12T17:19:00.620943Z",
     "iopub.status.busy": "2023-08-12T17:19:00.620472Z",
     "iopub.status.idle": "2023-08-12T17:19:00.625450Z",
     "shell.execute_reply": "2023-08-12T17:19:00.624108Z"
    },
    "papermill": {
     "duration": 0.110004,
     "end_time": "2023-08-12T17:19:00.628170",
     "exception": false,
     "start_time": "2023-08-12T17:19:00.518166",
     "status": "completed"
    },
    "tags": []
   },
   "outputs": [],
   "source": [
    "# Try submit_v5 with default settings\n",
    "# submit_v5()"
   ]
  },
  {
   "cell_type": "code",
   "execution_count": 106,
   "id": "191288a6",
   "metadata": {
    "execution": {
     "iopub.execute_input": "2023-08-12T17:19:00.835585Z",
     "iopub.status.busy": "2023-08-12T17:19:00.835184Z",
     "iopub.status.idle": "2023-08-12T18:15:34.545013Z",
     "shell.execute_reply": "2023-08-12T18:15:34.543633Z"
    },
    "papermill": {
     "duration": 3393.917181,
     "end_time": "2023-08-12T18:15:34.649771",
     "exception": false,
     "start_time": "2023-08-12T17:19:00.732590",
     "status": "completed"
    },
    "tags": []
   },
   "outputs": [
    {
     "name": "stdout",
     "output_type": "stream",
     "text": [
      "\n",
      "Running the submit_v5 function...\n",
      "\n",
      "Check 1 (preprocessor) complete.\n",
      "Shape of X_train: (162758, 30)\n",
      "Features in X_train: Index(['movieid', 'reviewerName', 'isFrequentReviewer', 'reviewText',\n",
      "       'sentiment', 'title', 'audienceScore', 'rating', 'ratingContents',\n",
      "       'releaseDateTheaters', 'releaseDateStreaming', 'runtimeMinutes',\n",
      "       'genre', 'originalLanguage', 'director', 'boxOffice', 'distributor',\n",
      "       'soundType', 'reviewYN', 'reviewWC', 'genreSorted', 'rcSorted',\n",
      "       'releaseDate', 'releaseYear', 'releaseMonth', 'releaseDiff',\n",
      "       'audScoreBins', 'runtimeBins', 'boxOfficeBins', 'releaseDiffBins'],\n",
      "      dtype='object')\n",
      "\n",
      "Check 2 (preprocessor) complete.\n",
      "Shape of X_test: (55315, 29)\n",
      "Features in X_test: Index(['movieid', 'reviewerName', 'isFrequentReviewer', 'reviewText', 'title',\n",
      "       'audienceScore', 'rating', 'ratingContents', 'releaseDateTheaters',\n",
      "       'releaseDateStreaming', 'runtimeMinutes', 'genre', 'originalLanguage',\n",
      "       'director', 'boxOffice', 'distributor', 'soundType', 'reviewYN',\n",
      "       'reviewWC', 'genreSorted', 'rcSorted', 'releaseDate', 'releaseYear',\n",
      "       'releaseMonth', 'releaseDiff', 'audScoreBins', 'runtimeBins',\n",
      "       'boxOfficeBins', 'releaseDiffBins'],\n",
      "      dtype='object')\n",
      "Preprocessing of train and test datasets complete.\n",
      "Generating stop words/phrases specific for this project data...\n",
      "Generating vocabulary for ngram_range: (1, 3)...\n",
      "Size of vocabulary of training data: 2610596\n",
      "Generating stop words/phrases specific for this project data...\n",
      "Working on DF#1 in the list of DFs provided\n",
      "Generating vocabulary for ngram_range: (1, 1)...\n",
      "Vocabulary size for ngram-range (1, 1) in DF#1: 63881\n",
      "\n",
      "Words from the first df for ngram-range (1, 1) added.\n",
      "\n",
      "Working on DF#2 in the list of DFs provided\n",
      "Generating vocabulary for ngram_range: (1, 1)...\n",
      "Vocabulary size for ngram-range (1, 1) in DF#2: 42992\n",
      "\n",
      "Keeping only the common (intersection) words for ngram-range (1, 1)...\n",
      "Common vocabulary for ngram-range (1, 1): 35498\n",
      "\n",
      "Appended first time to final common vocabulary: ngram-range = (1, 1).\n",
      "\n",
      "Working on DF#1 in the list of DFs provided\n",
      "Generating vocabulary for ngram_range: (2, 2)...\n",
      "Vocabulary size for ngram-range (2, 2) in DF#1: 1130406\n",
      "\n",
      "Words from the first df for ngram-range (2, 2) added.\n",
      "\n",
      "Working on DF#2 in the list of DFs provided\n",
      "Generating vocabulary for ngram_range: (2, 2)...\n",
      "Vocabulary size for ngram-range (2, 2) in DF#2: 436174\n",
      "\n",
      "Keeping only the common (intersection) words for ngram-range (2, 2)...\n",
      "Common vocabulary for ngram-range (2, 2): 112530\n",
      "\n",
      "Fusing (union) with final common vocabulary: ngram-range = (2, 2).\n",
      "\n",
      "Working on DF#1 in the list of DFs provided\n",
      "Generating vocabulary for ngram_range: (3, 3)...\n",
      "Vocabulary size for ngram-range (3, 3) in DF#1: 1416309\n",
      "\n",
      "Words from the first df for ngram-range (3, 3) added.\n",
      "\n",
      "Working on DF#2 in the list of DFs provided\n",
      "Generating vocabulary for ngram_range: (3, 3)...\n",
      "Vocabulary size for ngram-range (3, 3) in DF#2: 488867\n",
      "\n",
      "Keeping only the common (intersection) words for ngram-range (3, 3)...\n",
      "Common vocabulary for ngram-range (3, 3): 22631\n",
      "\n",
      "Fusing (union) with final common vocabulary: ngram-range = (3, 3).\n",
      "\n",
      "Number of stop words: 170659\n",
      "Getting the vocabulary that will be fed to the final model(s)...\n",
      "Size of the final relevant vocabulary: 2439937\n",
      "\n",
      "Selected features: {'cat': ['isFrequentReviewer', 'audScoreBins', 'boxOfficeBins'], 'num': ['releaseDiff'], 'txt': ['reviewText', 'reviewerName', 'movieid', 'genre', 'director', 'ratingContents', 'distributor', 'reviewText_2', 'reviewText_3']}\n",
      "\n",
      "Pipeline built successfully.\n",
      "\n",
      "Full GridSearchCV pipeline built successfully.\n",
      "GridSearchCV(cv=10,\n",
      "             estimator=Pipeline(steps=[('ct',\n",
      "                                        ColumnTransformer(transformers=[('cat_isFrequentReviewer',\n",
      "                                                                         OneHotEncoder(handle_unknown='ignore',\n",
      "                                                                                       sparse_output=False),\n",
      "                                                                         ['isFrequentReviewer']),\n",
      "                                                                        ('cat_audScoreBins',\n",
      "                                                                         OneHotEncoder(handle_unknown='ignore',\n",
      "                                                                                       sparse_output=False),\n",
      "                                                                         ['audScoreBins']),\n",
      "                                                                        ('cat_boxOfficeBins',\n",
      "                                                                         OneHotEncoder(handle_unknown='ignore',\n",
      "                                                                                       sp...\n",
      "                                                                                                                      'aarp',\n",
      "                                                                                                                      'ab',\n",
      "                                                                                                                      'abandon',\n",
      "                                                                                                                      'abandoned',\n",
      "                                                                                                                      'abandoned '\n",
      "                                                                                                                      'good',\n",
      "                                                                                                                      'abandoning',\n",
      "                                                                                                                      'abandoning '\n",
      "                                                                                                                      'logic',\n",
      "                                                                                                                      'abandoning '\n",
      "                                                                                                                      'traditional',\n",
      "                                                                                                                      'abandonment',\n",
      "                                                                                                                      'abandonment '\n",
      "                                                                                                                      'adoption', ...}))]),\n",
      "                                                                         'reviewText_3')])),\n",
      "                                       ('model',\n",
      "                                        SGDClassifier(loss='modified_huber',\n",
      "                                                      max_iter=1000000,\n",
      "                                                      n_iter_no_change=1000,\n",
      "                                                      n_jobs=-1,\n",
      "                                                      tol=0.0001))]),\n",
      "             n_jobs=-1, param_grid={'model__alpha': [0.0001]},\n",
      "             scoring='f1_micro')\n",
      "\n",
      "Training started with full pipeline for classifier #1/1...\n",
      "\n",
      "Check #1.1 complete.\n",
      "Details of the best model using classifier #1 (GridSearchCV) on X_train: \n",
      "Best Params: {'model__alpha': 0.0001}\n",
      "Best Score: 0.8430922093125535\n",
      "Confusion matrix and f1-score for rows which have no reviewText in X_train: \n",
      "[[1724  681]\n",
      " [ 279 3763]]\n",
      "0.8510935318752908\n",
      "classifier_1 successfully added to 'estimators' list\n",
      "Confusion matrix for predictions on training data: \n",
      "[[ 53285    712]\n",
      " [   293 108468]]\n",
      "F1-score on training data: 0.9938251883163961\n",
      "(55315, 1)\n",
      "     pred_1\n",
      "0  POSITIVE\n",
      "1  POSITIVE\n",
      "2  POSITIVE\n",
      "3  POSITIVE\n",
      "4  POSITIVE\n",
      "5  POSITIVE\n",
      "6  POSITIVE\n",
      "7  POSITIVE\n",
      "8  NEGATIVE\n",
      "9  NEGATIVE\n",
      "\n",
      "Check #1.2 complete.\n",
      "Details of the best model using full pipeline (GridSearchCV) on X_train: \n",
      "Best Params: {'model__alpha': 0.0001}\n",
      "Best Score: 0.8430922093125535\n",
      "Refit Time: 689.4067685604095\n",
      "\n",
      "Successfully created the submission file!!!\n"
     ]
    }
   ],
   "source": [
    "# Testing ONE classfier using submit_v5 function  \n",
    "\n",
    "# Feature dictionaries\n",
    "sfs = {'cat': ['isFrequentReviewer', 'rating'],\n",
    "       'num': [\"audienceScore\", \"runtimeMinutes\", \"boxOffice\", 'releaseDiff']}\n",
    "\n",
    "sf_best = {'cat': ['isFrequentReviewer'],\n",
    "            'num': [\"audienceScore\", \"boxOffice\", 'releaseDiff'],\n",
    "            'txt': ['reviewText', 'reviewerName', 'movieid', 'genre', 'director', \n",
    "                         'ratingContents', 'distributor']}\n",
    "\n",
    "alt_text = {'txt': ['reviewerName', 'movieid', 'genre', 'director', \n",
    "                         'ratingContents', 'distributor']}\n",
    "\n",
    "v88_dict = {'cat': ['isFrequentReviewer', 'audScoreBins', 'boxOfficeBins'],\n",
    "            'num': ['releaseDiff'],\n",
    "            'txt': ['reviewText', 'reviewerName', 'movieid', 'genre', 'director', \n",
    "                         'ratingContents', 'distributor']}\n",
    "\n",
    "# SGDClassifier hyperparameters  \n",
    "# \"model__loss\": ['hinge', 'log_loss', 'modified_huber', \n",
    "#                                                   'squared_hinge', 'perceptron', \n",
    "#                                                   'squared_error', 'huber', \n",
    "#                                                   'epsilon_insensitive', 'squared_epsilon_insensitive']\n",
    "\n",
    "# 'param_grid' : {\"model__alpha\": [0.0001], \n",
    "#                   'model__tol': [0.0001],\n",
    "#                   \"model__penalty\": [\"l2\"],\n",
    "#                   \"model__n_iter_no_change\": [100],\n",
    "#                  }\n",
    "\n",
    "# Best models \n",
    "# For sf_best features\n",
    "#                 {'selected_model' : SGDClassifier(loss='hinge', \n",
    "#                                      max_iter=1000000,\n",
    "#                                      alpha = 0.0001,\n",
    "#                                      tol = 0.0001,\n",
    "#                                      penalty = \"l2\",\n",
    "#                                      n_iter_no_change = 100,\n",
    "#                                      n_jobs = -1), \n",
    "#                   'selected_features' : sf_best, \n",
    "#                   'param_grid' : {\"model__alpha\": [ 0.0001]},\n",
    "#                   'vocab' : True,\n",
    "#                   'vocab_usage' : 'tfidf',\n",
    "#                   'strip_accents' : 'unicode', \n",
    "#                   'add_countvec' : True},\n",
    "\n",
    "# For sfs features\n",
    "#                 {'selected_model' : RandomForestClassifier(n_jobs = -1), \n",
    "#                   'selected_features' : sfs, \n",
    "#                   'param_grid': {'model__n_estimators': [100]},\n",
    "#                   'vocab' : None,\n",
    "#                   'vocab_usage' : 'tfidf',\n",
    "#                   'strip_accents' : 'unicode', \n",
    "#                   'add_countvec' : False}\n",
    "\n",
    "# Best SGD classifer (with params)  \n",
    "sgdc = SGDClassifier(loss='modified_huber', \n",
    "                     max_iter=1000000,\n",
    "                     alpha = 0.0001,\n",
    "                     tol = 0.0001,\n",
    "                     penalty = \"l2\",\n",
    "                     n_iter_no_change = 1000,\n",
    "                     n_jobs = -1)\n",
    "\n",
    "# Classifiers\n",
    "classifiers= [   \n",
    "                {'selected_model' : sgdc, \n",
    "                  'selected_features' : v88_dict, \n",
    "                  'param_grid' : {\"model__alpha\": [0.0001]},\n",
    "                  'vocab' : True,\n",
    "                  'vocab_usage' : 'tfidf',\n",
    "                  'strip_accents' : 'unicode', \n",
    "                  'add_countvec' : True}\n",
    "            ]\n",
    "\n",
    "# classifiers= [\n",
    "#                 {'selected_model' : LogisticRegression(C=1, solver='saga', max_iter=100000), \n",
    "#                   'selected_features' : {'txt': [\"reviewText\"]}, \n",
    "#                   'param_grid' : {\"model__C\": [1], \n",
    "#                                   'model__solver': ['saga']},\n",
    "#                   'vocab' : None,\n",
    "#                   'vocab_usage' : 'tfidf',\n",
    "#                   'strip_accents' : 'unicode', \n",
    "#                   'add_countvec' : False},\n",
    "#             ]\n",
    "\n",
    "pred_df, estimators = submit_v5(classifiers=classifiers)"
   ]
  },
  {
   "cell_type": "code",
   "execution_count": 107,
   "id": "73ff3a57",
   "metadata": {
    "execution": {
     "iopub.execute_input": "2023-08-12T18:15:34.857804Z",
     "iopub.status.busy": "2023-08-12T18:15:34.857406Z",
     "iopub.status.idle": "2023-08-12T18:15:34.864910Z",
     "shell.execute_reply": "2023-08-12T18:15:34.863761Z"
    },
    "papermill": {
     "duration": 0.114119,
     "end_time": "2023-08-12T18:15:34.867589",
     "exception": false,
     "start_time": "2023-08-12T18:15:34.753470",
     "status": "completed"
    },
    "tags": []
   },
   "outputs": [
    {
     "name": "stdout",
     "output_type": "stream",
     "text": [
      "(55315, 1)\n",
      "   sentiment\n",
      "id          \n",
      "0   POSITIVE\n",
      "1   POSITIVE\n",
      "2   POSITIVE\n",
      "3   POSITIVE\n",
      "4   POSITIVE\n"
     ]
    }
   ],
   "source": [
    "print(pred_df.shape)\n",
    "print(pred_df.head())"
   ]
  },
  {
   "cell_type": "code",
   "execution_count": 108,
   "id": "e082c585",
   "metadata": {
    "execution": {
     "iopub.execute_input": "2023-08-12T18:15:35.074307Z",
     "iopub.status.busy": "2023-08-12T18:15:35.073865Z",
     "iopub.status.idle": "2023-08-12T18:15:35.078168Z",
     "shell.execute_reply": "2023-08-12T18:15:35.077045Z"
    },
    "papermill": {
     "duration": 0.111107,
     "end_time": "2023-08-12T18:15:35.080360",
     "exception": false,
     "start_time": "2023-08-12T18:15:34.969253",
     "status": "completed"
    },
    "tags": []
   },
   "outputs": [],
   "source": [
    "# estimators"
   ]
  },
  {
   "cell_type": "code",
   "execution_count": 109,
   "id": "fecc3b4b",
   "metadata": {
    "execution": {
     "iopub.execute_input": "2023-08-12T18:15:35.288842Z",
     "iopub.status.busy": "2023-08-12T18:15:35.288448Z",
     "iopub.status.idle": "2023-08-12T18:15:35.295506Z",
     "shell.execute_reply": "2023-08-12T18:15:35.294204Z"
    },
    "papermill": {
     "duration": 0.114675,
     "end_time": "2023-08-12T18:15:35.298289",
     "exception": false,
     "start_time": "2023-08-12T18:15:35.183614",
     "status": "completed"
    },
    "tags": []
   },
   "outputs": [
    {
     "name": "stdout",
     "output_type": "stream",
     "text": [
      "Number of estimators: 1\n",
      "\n",
      "Estimator: classifier_1\n",
      "{'model__alpha': 0.0001}\n",
      "0.8430922093125535\n",
      "689.4067685604095\n",
      "\n"
     ]
    }
   ],
   "source": [
    "print(f\"Number of estimators: {len(estimators)}\\n\")\n",
    "for est in estimators:\n",
    "    print(f\"Estimator: {est[0]}\")\n",
    "#     print(est[1].best_estimator_)\n",
    "    print(est[1].best_params_)\n",
    "    print(est[1].best_score_)\n",
    "    print(est[1].refit_time_)\n",
    "    print()"
   ]
  },
  {
   "cell_type": "code",
   "execution_count": 110,
   "id": "e56e64db",
   "metadata": {
    "execution": {
     "iopub.execute_input": "2023-08-12T18:15:35.505031Z",
     "iopub.status.busy": "2023-08-12T18:15:35.504574Z",
     "iopub.status.idle": "2023-08-12T18:15:35.511660Z",
     "shell.execute_reply": "2023-08-12T18:15:35.510554Z"
    },
    "papermill": {
     "duration": 0.113749,
     "end_time": "2023-08-12T18:15:35.514293",
     "exception": false,
     "start_time": "2023-08-12T18:15:35.400544",
     "status": "completed"
    },
    "tags": []
   },
   "outputs": [],
   "source": [
    "# Testing full capabilites of submit_v5  \n",
    "\n",
    "# # Feature dictionaries\n",
    "# sf1 = {'cat': ['isFrequentReviewer', 'rating'],\n",
    "#        'num': [\"audienceScore\", \"runtimeMinutes\", \"boxOffice\"]}\n",
    "\n",
    "# sf2 = {'cat': ['isFrequentReviewer', 'rating'],\n",
    "#        'num': [\"audienceScore\", \"runtimeMinutes\", \"boxOffice\"]}\n",
    "\n",
    "# sf3 = {'cat': ['isFrequentReviewer'],\n",
    "#         'num': ['releaseDiff', 'audienceScore', 'boxOffice'],\n",
    "#         'txt': ['reviewText', 'reviewerName', 'movieid', 'genre', 'director', \n",
    "#                          'ratingContents', 'distributor']}\n",
    "\n",
    "# # Individual classifiers\n",
    "# clf1 =  {'selected_model' : AdaBoostClassifier(), \n",
    "#           'selected_features' : sf1, \n",
    "#           'param_grid' : {\"model__n_estimators\": [50]},\n",
    "#           'vocab' : None,\n",
    "#           'vocab_usage' : 'tfidf',\n",
    "#           'strip_accents' : 'unicode', \n",
    "#           'add_countvec' : False}\n",
    "\n",
    "# clf2 =  {'selected_model' : RandomForestClassifier(), \n",
    "#           'selected_features' : sf2,\n",
    "#           'param_grid' : {\"model__n_estimators\": [50], \n",
    "#                           'model__criterion': ['gini']},\n",
    "#           'vocab' : None,\n",
    "#           'vocab_usage' : 'tfidf',\n",
    "#           'strip_accents' : 'unicode', \n",
    "#           'add_countvec' : False}\n",
    "\n",
    "# clf3 =  {'selected_model' : LogisticRegression(C=1, solver='saga', max_iter=100000), \n",
    "#           'selected_features' : sf3, \n",
    "#           'param_grid' : {'model__C' : [1],\n",
    "#                             'model__solver': ['saga'],\n",
    "#                             \"model__fit_intercept\" : [True],\n",
    "#                             \"model__dual\" : [False]},\n",
    "#           'vocab' : None,\n",
    "#           'vocab_usage' : 'tfidf',\n",
    "#           'strip_accents' : 'unicode', \n",
    "#           'add_countvec' : True}\n",
    "\n",
    "\n",
    "# # List of classifiers for voting\n",
    "# classifiers= [clf1, clf2, clf3]\n",
    "\n",
    "# # Final predictions \n",
    "# pred_df = submit_v5(classifiers=classifiers)"
   ]
  },
  {
   "cell_type": "code",
   "execution_count": 111,
   "id": "2193a289",
   "metadata": {
    "execution": {
     "iopub.execute_input": "2023-08-12T18:15:35.724844Z",
     "iopub.status.busy": "2023-08-12T18:15:35.724441Z",
     "iopub.status.idle": "2023-08-12T18:15:35.738851Z",
     "shell.execute_reply": "2023-08-12T18:15:35.737690Z"
    },
    "papermill": {
     "duration": 0.121834,
     "end_time": "2023-08-12T18:15:35.741649",
     "exception": false,
     "start_time": "2023-08-12T18:15:35.619815",
     "status": "completed"
    },
    "tags": []
   },
   "outputs": [
    {
     "name": "stdout",
     "output_type": "stream",
     "text": [
      "(55315, 1)\n"
     ]
    },
    {
     "data": {
      "text/html": [
       "<div>\n",
       "<style scoped>\n",
       "    .dataframe tbody tr th:only-of-type {\n",
       "        vertical-align: middle;\n",
       "    }\n",
       "\n",
       "    .dataframe tbody tr th {\n",
       "        vertical-align: top;\n",
       "    }\n",
       "\n",
       "    .dataframe thead th {\n",
       "        text-align: right;\n",
       "    }\n",
       "</style>\n",
       "<table border=\"1\" class=\"dataframe\">\n",
       "  <thead>\n",
       "    <tr style=\"text-align: right;\">\n",
       "      <th></th>\n",
       "      <th>sentiment</th>\n",
       "    </tr>\n",
       "    <tr>\n",
       "      <th>id</th>\n",
       "      <th></th>\n",
       "    </tr>\n",
       "  </thead>\n",
       "  <tbody>\n",
       "    <tr>\n",
       "      <th>0</th>\n",
       "      <td>POSITIVE</td>\n",
       "    </tr>\n",
       "    <tr>\n",
       "      <th>1</th>\n",
       "      <td>POSITIVE</td>\n",
       "    </tr>\n",
       "    <tr>\n",
       "      <th>2</th>\n",
       "      <td>POSITIVE</td>\n",
       "    </tr>\n",
       "    <tr>\n",
       "      <th>3</th>\n",
       "      <td>POSITIVE</td>\n",
       "    </tr>\n",
       "    <tr>\n",
       "      <th>4</th>\n",
       "      <td>POSITIVE</td>\n",
       "    </tr>\n",
       "    <tr>\n",
       "      <th>...</th>\n",
       "      <td>...</td>\n",
       "    </tr>\n",
       "    <tr>\n",
       "      <th>55310</th>\n",
       "      <td>POSITIVE</td>\n",
       "    </tr>\n",
       "    <tr>\n",
       "      <th>55311</th>\n",
       "      <td>NEGATIVE</td>\n",
       "    </tr>\n",
       "    <tr>\n",
       "      <th>55312</th>\n",
       "      <td>NEGATIVE</td>\n",
       "    </tr>\n",
       "    <tr>\n",
       "      <th>55313</th>\n",
       "      <td>POSITIVE</td>\n",
       "    </tr>\n",
       "    <tr>\n",
       "      <th>55314</th>\n",
       "      <td>NEGATIVE</td>\n",
       "    </tr>\n",
       "  </tbody>\n",
       "</table>\n",
       "<p>55315 rows × 1 columns</p>\n",
       "</div>"
      ],
      "text/plain": [
       "      sentiment\n",
       "id             \n",
       "0      POSITIVE\n",
       "1      POSITIVE\n",
       "2      POSITIVE\n",
       "3      POSITIVE\n",
       "4      POSITIVE\n",
       "...         ...\n",
       "55310  POSITIVE\n",
       "55311  NEGATIVE\n",
       "55312  NEGATIVE\n",
       "55313  POSITIVE\n",
       "55314  NEGATIVE\n",
       "\n",
       "[55315 rows x 1 columns]"
      ]
     },
     "execution_count": 111,
     "metadata": {},
     "output_type": "execute_result"
    }
   ],
   "source": [
    "print(pred_df.shape)\n",
    "pred_df"
   ]
  },
  {
   "cell_type": "code",
   "execution_count": 112,
   "id": "39ca0b5f",
   "metadata": {
    "execution": {
     "iopub.execute_input": "2023-08-12T18:15:35.953958Z",
     "iopub.status.busy": "2023-08-12T18:15:35.953534Z",
     "iopub.status.idle": "2023-08-12T18:15:35.958091Z",
     "shell.execute_reply": "2023-08-12T18:15:35.956934Z"
    },
    "papermill": {
     "duration": 0.113314,
     "end_time": "2023-08-12T18:15:35.960305",
     "exception": false,
     "start_time": "2023-08-12T18:15:35.846991",
     "status": "completed"
    },
    "tags": []
   },
   "outputs": [],
   "source": [
    "# pred_df_mode = pred_df.mode(axis='columns')\n",
    "# print(pred_df_mode.shape)\n",
    "# pred_df_mode"
   ]
  },
  {
   "cell_type": "code",
   "execution_count": 113,
   "id": "eb1d9f6c",
   "metadata": {
    "execution": {
     "iopub.execute_input": "2023-08-12T18:15:36.171602Z",
     "iopub.status.busy": "2023-08-12T18:15:36.171238Z",
     "iopub.status.idle": "2023-08-12T18:15:36.188627Z",
     "shell.execute_reply": "2023-08-12T18:15:36.187849Z"
    },
    "papermill": {
     "duration": 0.127024,
     "end_time": "2023-08-12T18:15:36.190683",
     "exception": false,
     "start_time": "2023-08-12T18:15:36.063659",
     "status": "completed"
    },
    "tags": []
   },
   "outputs": [
    {
     "data": {
      "text/plain": [
       "sentiment\n",
       "POSITIVE     38632\n",
       "NEGATIVE     16683\n",
       "dtype: int64"
      ]
     },
     "execution_count": 113,
     "metadata": {},
     "output_type": "execute_result"
    }
   ],
   "source": [
    "pred_df.value_counts()"
   ]
  },
  {
   "cell_type": "markdown",
   "id": "2020ddca",
   "metadata": {
    "papermill": {
     "duration": 0.102671,
     "end_time": "2023-08-12T18:15:36.396155",
     "exception": false,
     "start_time": "2023-08-12T18:15:36.293484",
     "status": "completed"
    },
    "tags": []
   },
   "source": [
    "# NOTE: Move submit_v4 submissions below the suubmit_v4 function  "
   ]
  },
  {
   "cell_type": "code",
   "execution_count": 114,
   "id": "3e2faa8c",
   "metadata": {
    "execution": {
     "iopub.execute_input": "2023-08-12T18:15:36.604207Z",
     "iopub.status.busy": "2023-08-12T18:15:36.603529Z",
     "iopub.status.idle": "2023-08-12T18:15:36.607390Z",
     "shell.execute_reply": "2023-08-12T18:15:36.606672Z"
    },
    "papermill": {
     "duration": 0.110155,
     "end_time": "2023-08-12T18:15:36.609378",
     "exception": false,
     "start_time": "2023-08-12T18:15:36.499223",
     "status": "completed"
    },
    "tags": []
   },
   "outputs": [],
   "source": [
    "# Try 'submit_v4' function with default params (LogisticRegression model)  \n",
    "\n",
    "# submit_v4()\n",
    "\n",
    "#Default params to this function gave a score of 0.8259 - improvement over previous score of 0.82563!"
   ]
  },
  {
   "cell_type": "code",
   "execution_count": 115,
   "id": "750c4d8d",
   "metadata": {
    "execution": {
     "iopub.execute_input": "2023-08-12T18:15:36.817294Z",
     "iopub.status.busy": "2023-08-12T18:15:36.816446Z",
     "iopub.status.idle": "2023-08-12T18:15:36.820760Z",
     "shell.execute_reply": "2023-08-12T18:15:36.819964Z"
    },
    "papermill": {
     "duration": 0.110895,
     "end_time": "2023-08-12T18:15:36.823098",
     "exception": false,
     "start_time": "2023-08-12T18:15:36.712203",
     "status": "completed"
    },
    "tags": []
   },
   "outputs": [],
   "source": [
    "# Try out GridSearchCV on \"submit_v4\" function with param_grid  \n",
    "# param_grid = {\n",
    "#     \"model__C\": [0.1, 1, 5, 10]\n",
    "# }\n",
    "\n",
    "# submit_v4(selected_features={'txt': ['genre']}, param_grid=param_grid)"
   ]
  },
  {
   "cell_type": "markdown",
   "id": "7aa16aee",
   "metadata": {
    "papermill": {
     "duration": 0.120603,
     "end_time": "2023-08-12T18:15:37.053547",
     "exception": false,
     "start_time": "2023-08-12T18:15:36.932944",
     "status": "completed"
    },
    "tags": []
   },
   "source": [
    "### Try LinearSVC with GridSearchCV  "
   ]
  },
  {
   "cell_type": "code",
   "execution_count": 116,
   "id": "e0a34fc8",
   "metadata": {
    "execution": {
     "iopub.execute_input": "2023-08-12T18:15:37.265243Z",
     "iopub.status.busy": "2023-08-12T18:15:37.264793Z",
     "iopub.status.idle": "2023-08-12T18:15:37.269547Z",
     "shell.execute_reply": "2023-08-12T18:15:37.268457Z"
    },
    "papermill": {
     "duration": 0.112266,
     "end_time": "2023-08-12T18:15:37.271749",
     "exception": false,
     "start_time": "2023-08-12T18:15:37.159483",
     "status": "completed"
    },
    "tags": []
   },
   "outputs": [],
   "source": [
    "# all_dict = {'cat': [\"isFrequentReviewer\", \"rating\", \"originalLanguage\"],\n",
    "#              'num': [\"audienceScore\", \"runtimeMinutes\", \"boxOffice\"],\n",
    "#              'txt': ['reviewText', 'reviewerName', 'movieid', 'genre', 'director']}\n",
    "\n",
    "# param_grid_svc = {\n",
    "#     \"model__C\": [0.1, 1, 10, 100]\n",
    "# }\n",
    "# param_grid_svc"
   ]
  },
  {
   "cell_type": "code",
   "execution_count": 117,
   "id": "08905083",
   "metadata": {
    "execution": {
     "iopub.execute_input": "2023-08-12T18:15:37.480656Z",
     "iopub.status.busy": "2023-08-12T18:15:37.479980Z",
     "iopub.status.idle": "2023-08-12T18:15:37.484550Z",
     "shell.execute_reply": "2023-08-12T18:15:37.483479Z"
    },
    "papermill": {
     "duration": 0.111485,
     "end_time": "2023-08-12T18:15:37.486801",
     "exception": false,
     "start_time": "2023-08-12T18:15:37.375316",
     "status": "completed"
    },
    "tags": []
   },
   "outputs": [],
   "source": [
    "# LinearSCV on single feature  \n",
    "\n",
    "# submit_v4(selected_model=LinearSVC(max_iter=100000, random_state=42), selected_features={'num': [\"audienceScore\"]}, param_grid=param_grid_svc)\n",
    "\n",
    "# Comment: LinearSVC even on single column feature set takes too long to converge."
   ]
  },
  {
   "cell_type": "code",
   "execution_count": 118,
   "id": "af92a3be",
   "metadata": {
    "execution": {
     "iopub.execute_input": "2023-08-12T18:15:37.696843Z",
     "iopub.status.busy": "2023-08-12T18:15:37.696122Z",
     "iopub.status.idle": "2023-08-12T18:15:37.700313Z",
     "shell.execute_reply": "2023-08-12T18:15:37.699362Z"
    },
    "papermill": {
     "duration": 0.110896,
     "end_time": "2023-08-12T18:15:37.702448",
     "exception": false,
     "start_time": "2023-08-12T18:15:37.591552",
     "status": "completed"
    },
    "tags": []
   },
   "outputs": [],
   "source": [
    "# LinearSCV on all available features\n",
    "\n",
    "# submit_v4(selected_model=LinearSVC(max_iter=100000, random_state=42), selected_features=all_dict, param_grid=param_grid_svc)\n",
    "\n",
    "# (Update): This took 66 mins to run and gave a public score of 0.84295 (lesser than logreg gridsearchcv wwhich gave 0.84441). Best C was 1.0.\n"
   ]
  },
  {
   "cell_type": "markdown",
   "id": "33748db4",
   "metadata": {
    "papermill": {
     "duration": 0.106407,
     "end_time": "2023-08-12T18:15:37.911948",
     "exception": false,
     "start_time": "2023-08-12T18:15:37.805541",
     "status": "completed"
    },
    "tags": []
   },
   "source": [
    "### Boosting techniques  "
   ]
  },
  {
   "cell_type": "code",
   "execution_count": 119,
   "id": "c559cc89",
   "metadata": {
    "execution": {
     "iopub.execute_input": "2023-08-12T18:15:38.123581Z",
     "iopub.status.busy": "2023-08-12T18:15:38.122880Z",
     "iopub.status.idle": "2023-08-12T18:15:38.127549Z",
     "shell.execute_reply": "2023-08-12T18:15:38.126560Z"
    },
    "papermill": {
     "duration": 0.113158,
     "end_time": "2023-08-12T18:15:38.129657",
     "exception": false,
     "start_time": "2023-08-12T18:15:38.016499",
     "status": "completed"
    },
    "tags": []
   },
   "outputs": [],
   "source": [
    "# adc = AdaBoostClassifier(estimator=LogisticRegression(C=5, solver=\"saga\", max_iter=100000), n_estimators=50)\n",
    "# adc"
   ]
  },
  {
   "cell_type": "code",
   "execution_count": 120,
   "id": "3ea55369",
   "metadata": {
    "execution": {
     "iopub.execute_input": "2023-08-12T18:15:38.339061Z",
     "iopub.status.busy": "2023-08-12T18:15:38.337877Z",
     "iopub.status.idle": "2023-08-12T18:15:38.342786Z",
     "shell.execute_reply": "2023-08-12T18:15:38.341573Z"
    },
    "papermill": {
     "duration": 0.112334,
     "end_time": "2023-08-12T18:15:38.345392",
     "exception": false,
     "start_time": "2023-08-12T18:15:38.233058",
     "status": "completed"
    },
    "tags": []
   },
   "outputs": [],
   "source": [
    "# submit_v4(selected_model=adc, selected_features={'num': [\"audienceScore\"]}, param_grid=None)"
   ]
  },
  {
   "cell_type": "code",
   "execution_count": 121,
   "id": "8d0506cb",
   "metadata": {
    "execution": {
     "iopub.execute_input": "2023-08-12T18:15:38.554231Z",
     "iopub.status.busy": "2023-08-12T18:15:38.553562Z",
     "iopub.status.idle": "2023-08-12T18:15:38.557964Z",
     "shell.execute_reply": "2023-08-12T18:15:38.557185Z"
    },
    "papermill": {
     "duration": 0.111097,
     "end_time": "2023-08-12T18:15:38.560017",
     "exception": false,
     "start_time": "2023-08-12T18:15:38.448920",
     "status": "completed"
    },
    "tags": []
   },
   "outputs": [],
   "source": [
    "# submit_v4(selected_model=adc, selected_features=all_dict, param_grid=None)\n",
    "\n",
    "# Took 1 hour 15 mins to run and gave a public score of only 0.71089. Discarded."
   ]
  },
  {
   "cell_type": "markdown",
   "id": "5f8d1099",
   "metadata": {
    "papermill": {
     "duration": 0.103623,
     "end_time": "2023-08-12T18:15:38.766966",
     "exception": false,
     "start_time": "2023-08-12T18:15:38.663343",
     "status": "completed"
    },
    "tags": []
   },
   "source": [
    "### LightGBM  "
   ]
  },
  {
   "cell_type": "code",
   "execution_count": 122,
   "id": "804c4322",
   "metadata": {
    "execution": {
     "iopub.execute_input": "2023-08-12T18:15:38.978178Z",
     "iopub.status.busy": "2023-08-12T18:15:38.977436Z",
     "iopub.status.idle": "2023-08-12T18:15:38.982768Z",
     "shell.execute_reply": "2023-08-12T18:15:38.981941Z"
    },
    "papermill": {
     "duration": 0.114794,
     "end_time": "2023-08-12T18:15:38.985089",
     "exception": false,
     "start_time": "2023-08-12T18:15:38.870295",
     "status": "completed"
    },
    "tags": []
   },
   "outputs": [],
   "source": [
    "# lgb = ltb.LGBMClassifier()\n",
    "# lgb"
   ]
  },
  {
   "cell_type": "code",
   "execution_count": 123,
   "id": "79e9a9c1",
   "metadata": {
    "execution": {
     "iopub.execute_input": "2023-08-12T18:15:39.196936Z",
     "iopub.status.busy": "2023-08-12T18:15:39.196296Z",
     "iopub.status.idle": "2023-08-12T18:15:39.200581Z",
     "shell.execute_reply": "2023-08-12T18:15:39.199331Z"
    },
    "papermill": {
     "duration": 0.11242,
     "end_time": "2023-08-12T18:15:39.202986",
     "exception": false,
     "start_time": "2023-08-12T18:15:39.090566",
     "status": "completed"
    },
    "tags": []
   },
   "outputs": [],
   "source": [
    "# Try LightGBM with default settings\n",
    "# (Update): Public score only 0.77713. It was fast, took less than 5 mins (without GridSearchCV)\n",
    "\n",
    "# submit_v4(selected_model=ltb.LGBMClassifier(), selected_features=all_dict, param_grid=None)"
   ]
  },
  {
   "cell_type": "markdown",
   "id": "76781e93",
   "metadata": {
    "papermill": {
     "duration": 0.103243,
     "end_time": "2023-08-12T18:15:39.409335",
     "exception": false,
     "start_time": "2023-08-12T18:15:39.306092",
     "status": "completed"
    },
    "tags": []
   },
   "source": [
    "## Feature Engineering"
   ]
  },
  {
   "cell_type": "markdown",
   "id": "4f72151f",
   "metadata": {
    "papermill": {
     "duration": 0.102893,
     "end_time": "2023-08-12T18:15:39.615976",
     "exception": false,
     "start_time": "2023-08-12T18:15:39.513083",
     "status": "completed"
    },
    "tags": []
   },
   "source": [
    "### Plan  \n",
    "* Add a new column 'reviewWC' which has word count of 'reviewText'  \n",
    "    * Check if there is any relationship between 'reviewWC' and 'sentiment'\n",
    "* Work on vocabulary\n",
    "     * Use TfidfVectorizer and find out the vocabulary of 'reviewText' column for various ngrams\n",
    "     * Use RecursiveFeatureElimination (RFE) or RFECV to select 1000 top words/vocab for each ngram\n",
    "     * Use the final vocab (1000-3000 words) in the model and see how it performs compared to whole vocab\n",
    "\n",
    "`(Update): Code incorporated into the \"select_features\" function  `  \n",
    "`(Update): Many other new features incorporated into the \"select_features\" function too  `  \n",
    "\n"
   ]
  },
  {
   "cell_type": "markdown",
   "id": "74dffaf1",
   "metadata": {
    "papermill": {
     "duration": 0.102443,
     "end_time": "2023-08-12T18:15:39.824711",
     "exception": false,
     "start_time": "2023-08-12T18:15:39.722268",
     "status": "completed"
    },
    "tags": []
   },
   "source": [
    "# Back to vocab after success of version 63  "
   ]
  },
  {
   "cell_type": "code",
   "execution_count": 124,
   "id": "f1a3a15c",
   "metadata": {
    "execution": {
     "iopub.execute_input": "2023-08-12T18:15:40.036265Z",
     "iopub.status.busy": "2023-08-12T18:15:40.035518Z",
     "iopub.status.idle": "2023-08-12T18:15:40.056562Z",
     "shell.execute_reply": "2023-08-12T18:15:40.055451Z"
    },
    "papermill": {
     "duration": 0.128459,
     "end_time": "2023-08-12T18:15:40.059053",
     "exception": false,
     "start_time": "2023-08-12T18:15:39.930594",
     "status": "completed"
    },
    "tags": []
   },
   "outputs": [],
   "source": [
    "def submit_v4(selected_model=LogisticRegression(C=1, solver='liblinear', max_iter=100000), \n",
    "              selected_features={'txt': ['reviewText']}, \n",
    "              param_grid=None,\n",
    "              vocab=None,\n",
    "              vocab_usage='tfidf',\n",
    "              strip_accents='unicode', \n",
    "              add_countvec=False):\n",
    "    \n",
    "    print(\"\\nRunning the submit_v4 function...\")\n",
    "    \n",
    "    # Fine tune selected_features\n",
    "    if add_countvec:\n",
    "        if 'txt' in selected_features.keys():\n",
    "            if \"reviewText_2\" not in selected_features['txt']:\n",
    "                selected_features['txt'].append('reviewText_2')\n",
    "    if vocab:\n",
    "        if 'txt' in selected_features.keys():\n",
    "            if \"reviewText_3\" not in selected_features['txt']:\n",
    "                selected_features['txt'].append('reviewText_3')\n",
    "    print(f\"\\nSelected features: {selected_features}\")\n",
    "\n",
    "    \n",
    "    \n",
    "    # Build Pipeline\n",
    "    pipe = build_pipeline(selected_model, selected_features, param_grid=param_grid, \n",
    "                          vocab=vocab, vocab_usage='tfidf', \n",
    "                          strip_accents=strip_accents, add_countvec=add_countvec)\n",
    "    print(pipe)\n",
    "\n",
    "    \n",
    "    \n",
    "    # Features list\n",
    "    features = []\n",
    "    for item in selected_features.values():\n",
    "        features.extend(item)\n",
    " \n",
    "\n",
    "    # Merge and preprocess train and movies data  \n",
    "    merged = select_features(load_csv(\"train\"), load_csv(\"movies\"), row_thresh_null=None)    # Decide if you want to drop any rows containing lot of nulls\n",
    "    # Impute missing numerical values  \n",
    "    # Simple Imputer for ['audienceScore', 'runtimeMinutes', 'boxOffice'] and 'releaseDate' columns\n",
    "    si = SimpleImputer(strategy='median')\n",
    "    merged[['audienceScore', 'runtimeMinutes', 'boxOffice']] = si.fit_transform(merged[['audienceScore', 'runtimeMinutes', 'boxOffice']])\n",
    "    merged['releaseDate'] = merged[\"releaseDate\"].fillna(merged[\"releaseDate\"].median())    \n",
    "    # Add new columns as needed  \n",
    "    if add_countvec:\n",
    "        merged['reviewText_2'] = merged['reviewText']\n",
    "    if vocab:\n",
    "        merged['reviewText_3'] = merged['reviewText']\n",
    "        \n",
    "    X_train = merged.drop(labels=\"sentiment\", axis=1)\n",
    "    y_train = merged[\"sentiment\"]\n",
    "\n",
    "    X_train = X_train[features]\n",
    "    \n",
    "    \n",
    "    # Check1\n",
    "    print(\"\\nCheck 1 complete.\")\n",
    "    print(f\"Shape of X_train: {X_train.shape}\")\n",
    "    print(f\"Features in X_train: {X_train.columns}\")\n",
    "#     print(X_train.head())\n",
    "    \n",
    "    \n",
    "    # Fit \n",
    "    print(\"\\nTraining started with full pipeline...\")\n",
    "    pipe.fit(X_train, y_train)\n",
    "    \n",
    "    # Check2\n",
    "    print(\"\\nCheck 2 complete.\")\n",
    "    print(\"Details of the best model using full pipeline (GridSearchCV) on X_train: \")\n",
    "    print(f\"Best Params: {pipe.best_params_}\")\n",
    "    print(f\"Best Score: {pipe.best_score_}\")\n",
    "    \n",
    "    print(predict_on_missing_review_data(pipe, features, merged))    # Function defined above\n",
    "    \n",
    "        \n",
    "    # Predict on test.csv file\n",
    "    \n",
    "    # Merge and preprocess test and movies data  \n",
    "    merged_test = select_features(load_csv(\"test\"), load_csv(\"movies\"))\n",
    "    # Transform ['audienceScore', 'runtimeMinutes', 'boxOffice'] columns in merged_test using 'si' fitted on 'merged' df  \n",
    "    merged_test[['audienceScore', 'runtimeMinutes', 'boxOffice']] = si.transform(merged_test[['audienceScore', 'runtimeMinutes', 'boxOffice']])\n",
    "    # Fill 'releaseDate' column in 'merged_test' df with median from the train (merged) df  \n",
    "    merged_test['releaseDate'] = merged_test[\"releaseDate\"].fillna(merged[\"releaseDate\"].median())\n",
    "    # Add new columns as needed \n",
    "    if add_countvec:\n",
    "        merged_test['reviewText_2'] = merged_test['reviewText']\n",
    "    if vocab:\n",
    "        merged_test['reviewText_3'] = merged_test['reviewText']\n",
    "        \n",
    "    X_test = merged_test.copy()\n",
    "\n",
    "    X_test = X_test[features]\n",
    "    \n",
    "    \n",
    "    # Check3\n",
    "    print(\"\\nCheck 3 complete.\")\n",
    "    print(f\"Shape of X_test: {X_test.shape}\")\n",
    "    print(f\"Features in X_test: {X_test.columns}\")\n",
    "#     print(X_test.head())\n",
    "    \n",
    "    y_pred = pipe.predict(X_test)\n",
    "    \n",
    "    # Check4\n",
    "    print(\"\\nCheck 4 complete.\")\n",
    "#     cv_results_df = pd.DataFrame(pipe.cv_results_)\n",
    "    print(\"Details of the best model using full pipeline (GridSearchCV) on X_train: \")\n",
    "    print(f\"Best Estimator: {pipe.best_estimator_}\")\n",
    "    print(f\"Best Params: {pipe.best_params_}\")\n",
    "    print(f\"Best Score: {pipe.best_score_}\")\n",
    "    print(f\"Best Index: {pipe.best_index_}\")\n",
    "    print(f\"Refit Time: {pipe.refit_time_}\")\n",
    "#     print(f\"Shape of CV results dataframe: {cv_results_df.shape}\")\n",
    "    \n",
    "    pred_df = pd.DataFrame(y_pred)\n",
    "    pred_df.columns = [\"sentiment\"]\n",
    "    pred_df.index.name = \"id\"\n",
    "    pred_df.to_csv(\"submission.csv\")\n",
    "    \n",
    "    print(\"\\nSuccessfully created the submission file!!!\")\n",
    "    \n",
    "    return pipe.cv_results_"
   ]
  },
  {
   "cell_type": "code",
   "execution_count": 125,
   "id": "55d319ed",
   "metadata": {
    "execution": {
     "iopub.execute_input": "2023-08-12T18:15:40.267572Z",
     "iopub.status.busy": "2023-08-12T18:15:40.266945Z",
     "iopub.status.idle": "2023-08-12T18:15:40.273162Z",
     "shell.execute_reply": "2023-08-12T18:15:40.272178Z"
    },
    "papermill": {
     "duration": 0.112999,
     "end_time": "2023-08-12T18:15:40.275475",
     "exception": false,
     "start_time": "2023-08-12T18:15:40.162476",
     "status": "completed"
    },
    "tags": []
   },
   "outputs": [
    {
     "data": {
      "text/plain": [
       "Index(['movieid', 'reviewerName', 'isFrequentReviewer', 'reviewText',\n",
       "       'sentiment', 'title', 'audienceScore', 'rating', 'ratingContents',\n",
       "       'releaseDateTheaters', 'releaseDateStreaming', 'runtimeMinutes',\n",
       "       'genre', 'originalLanguage', 'director', 'boxOffice', 'distributor',\n",
       "       'soundType', 'reviewYN', 'reviewWC', 'genreSorted', 'rcSorted',\n",
       "       'releaseDate', 'releaseYear', 'releaseMonth', 'releaseDiff'],\n",
       "      dtype='object')"
      ]
     },
     "execution_count": 125,
     "metadata": {},
     "output_type": "execute_result"
    }
   ],
   "source": [
    "merged.columns"
   ]
  },
  {
   "cell_type": "code",
   "execution_count": 126,
   "id": "0be54c65",
   "metadata": {
    "execution": {
     "iopub.execute_input": "2023-08-12T18:15:40.484871Z",
     "iopub.status.busy": "2023-08-12T18:15:40.484219Z",
     "iopub.status.idle": "2023-08-12T18:15:40.494464Z",
     "shell.execute_reply": "2023-08-12T18:15:40.493614Z"
    },
    "papermill": {
     "duration": 0.117171,
     "end_time": "2023-08-12T18:15:40.496716",
     "exception": false,
     "start_time": "2023-08-12T18:15:40.379545",
     "status": "completed"
    },
    "tags": []
   },
   "outputs": [],
   "source": [
    "# Best #2\n",
    "v80_dict = {'cat': ['isFrequentReviewer', 'audScoreBins', 'boxOfficeBins'], \n",
    "                  'txt': ['reviewText', 'reviewerName', 'movieid', 'genre', 'director', \n",
    "                          'ratingContents', 'distributor']}\n",
    "# Best #1\n",
    "v88_dict = {'cat': ['isFrequentReviewer', 'audScoreBins', 'boxOfficeBins'],\n",
    "            'num': ['releaseDiff'],\n",
    "            'txt': ['reviewText', 'reviewerName', 'movieid', 'genre', 'director', \n",
    "                         'ratingContents', 'distributor']}\n",
    "\n",
    "v92_dict = {'cat': ['isFrequentReviewer', 'audScoreBins', 'boxOfficeBins', 'releaseDiffBins'],\n",
    "            'txt': ['reviewText', 'reviewerName', 'title', 'genre', 'director', \n",
    "                         'ratingContents', 'distributor']}\n",
    "\n",
    "# Best univariable datapoints dict\n",
    "best_uni_dict = {'cat': [\"isFrequentReviewer\", \"audScoreBins\"],\n",
    "                 'txt': ['reviewText','movieid', 'director', \"ratingContents\"]}\n",
    "\n",
    "# param_grids for LogisticRegression  \n",
    "\n",
    "# Best #1  \n",
    "# param_grid = {\n",
    "#     'model__C' : [1],\n",
    "#     'model__solver': ['saga'],\n",
    "#     \"model__fit_intercept\" : [True],\n",
    "#     \"model__dual\" : [False]\n",
    "#     }\n",
    "\n",
    "# working\n",
    "param_grid = {\n",
    "    'model__C' : [1],\n",
    "    'model__solver': ['saga'],\n",
    "    \"model__fit_intercept\" : [True],\n",
    "    \"model__dual\" : [False],\n",
    "#     \"model__class_weight\": ['balanced', None]\n",
    "}\n",
    "\n",
    "\n",
    "# param_grids for LinearSVC  \n",
    "\n",
    "# param_grid = {\n",
    "#     'model__C' : [1, 10, 20],\n",
    "#     'model__loss': ['hinge', 'squared_hinge'],\n",
    "#     \"model__fit_intercept\" : [True, False],\n",
    "# #     \"model__dual\" : [True, False] \n",
    "# }\n",
    "\n",
    "svm = LinearSVC(max_iter=10000, random_state=42)    # LinearSVC\n",
    "\n",
    "\n",
    "# Local testing\n",
    "# selected_mov = {'num': ['audienceScore', 'boxOffice', 'releaseDiff'], \n",
    "#                 'txt': ['movieid', 'genre', 'director', \n",
    "#                          'ratingContents', 'distributor']}\n",
    "# results = submit_v4(\n",
    "#             selected_features={'num': ['boxOffice']},\n",
    "#             add_countvec=False,\n",
    "#             vocab=None,\n",
    "#             vocab_usage='tfidf',\n",
    "#             param_grid=param_grid\n",
    "#          )\n",
    "\n",
    "# results = submit_v4(selected_model = DummyClassifier(strategy='constant', constant='NEGATIVE'),\n",
    "#             selected_features={'num': ['boxOffice']},\n",
    "#             add_countvec=False,\n",
    "#             vocab=None,\n",
    "#             vocab_usage='tfidf',\n",
    "#             param_grid={'model__strategy' : ['constant']}\n",
    "#          )\n",
    "\n",
    "# Main submission\n",
    "\n",
    "# results = submit_v4(\n",
    "#     selected_features=v88_dict,\n",
    "#     add_countvec=False,\n",
    "#     vocab=common_1_2_3_grams,\n",
    "#     vocab_usage='tfidf',\n",
    "#     param_grid=param_grid\n",
    "#     )\n",
    "\n",
    "# results"
   ]
  },
  {
   "cell_type": "markdown",
   "id": "31636541",
   "metadata": {
    "papermill": {
     "duration": 0.103087,
     "end_time": "2023-08-12T18:15:40.702704",
     "exception": false,
     "start_time": "2023-08-12T18:15:40.599617",
     "status": "completed"
    },
    "tags": []
   },
   "source": [
    "### ratingContents analysis  "
   ]
  },
  {
   "cell_type": "code",
   "execution_count": 127,
   "id": "34f60add",
   "metadata": {
    "execution": {
     "iopub.execute_input": "2023-08-12T18:15:40.913870Z",
     "iopub.status.busy": "2023-08-12T18:15:40.913271Z",
     "iopub.status.idle": "2023-08-12T18:15:40.916953Z",
     "shell.execute_reply": "2023-08-12T18:15:40.916123Z"
    },
    "papermill": {
     "duration": 0.113202,
     "end_time": "2023-08-12T18:15:40.919049",
     "exception": false,
     "start_time": "2023-08-12T18:15:40.805847",
     "status": "completed"
    },
    "tags": []
   },
   "outputs": [],
   "source": [
    "# Try string split  \n",
    "# s = \"comedy, animation, adventure, fantasy\"\n",
    "# (\",\").join(sorted(s.split(\", \")))"
   ]
  },
  {
   "cell_type": "code",
   "execution_count": 128,
   "id": "2e2455e4",
   "metadata": {
    "execution": {
     "iopub.execute_input": "2023-08-12T18:15:41.128528Z",
     "iopub.status.busy": "2023-08-12T18:15:41.127927Z",
     "iopub.status.idle": "2023-08-12T18:15:41.131875Z",
     "shell.execute_reply": "2023-08-12T18:15:41.131136Z"
    },
    "papermill": {
     "duration": 0.110102,
     "end_time": "2023-08-12T18:15:41.133973",
     "exception": false,
     "start_time": "2023-08-12T18:15:41.023871",
     "status": "completed"
    },
    "tags": []
   },
   "outputs": [],
   "source": [
    "# ratingContents_analysis = merged[[\"ratingContents\", \"sentiment\"]].copy()\n",
    "# print(ratingContents_analysis.head())\n",
    "# ratingContents_analysis[\"rcSorted\"] = ratingContents_analysis[\"ratingContents\"].apply(lambda x: (\",\").join(sorted(x.strip(\"][\").split(\", \"))))\n",
    "# ratingContents_analysis[\"rcSorted\"] = ratingContents_analysis[\"rcSorted\"].apply(lambda x: re.sub(r\"'\", \"\", x))\n",
    "# ratingContents_analysis[\"rcSorted\"] = ratingContents_analysis[\"rcSorted\"].apply(lambda x: re.sub(r\"[/\\s]\", \"_\", x))\n",
    "# ratingContents_analysis.head(10)"
   ]
  },
  {
   "cell_type": "code",
   "execution_count": 129,
   "id": "e10337fc",
   "metadata": {
    "execution": {
     "iopub.execute_input": "2023-08-12T18:15:41.344959Z",
     "iopub.status.busy": "2023-08-12T18:15:41.344354Z",
     "iopub.status.idle": "2023-08-12T18:15:41.347961Z",
     "shell.execute_reply": "2023-08-12T18:15:41.347214Z"
    },
    "papermill": {
     "duration": 0.112124,
     "end_time": "2023-08-12T18:15:41.350129",
     "exception": false,
     "start_time": "2023-08-12T18:15:41.238005",
     "status": "completed"
    },
    "tags": []
   },
   "outputs": [],
   "source": [
    "# cvec_rc = CountVectorizer(ngram_range=(1,1))\n",
    "# cvec_rc.fit(ratingContents_analysis['rcSorted'])\n",
    "# # len(cvec_rc.vocabulary_), cvec_rc.vocabulary_"
   ]
  },
  {
   "cell_type": "code",
   "execution_count": 130,
   "id": "6542af6f",
   "metadata": {
    "execution": {
     "iopub.execute_input": "2023-08-12T18:15:41.562009Z",
     "iopub.status.busy": "2023-08-12T18:15:41.561328Z",
     "iopub.status.idle": "2023-08-12T18:15:41.565332Z",
     "shell.execute_reply": "2023-08-12T18:15:41.564302Z"
    },
    "papermill": {
     "duration": 0.110862,
     "end_time": "2023-08-12T18:15:41.567606",
     "exception": false,
     "start_time": "2023-08-12T18:15:41.456744",
     "status": "completed"
    },
    "tags": []
   },
   "outputs": [],
   "source": [
    "# genre_testing = cvec_g.transform(merged[\"genre\"])\n",
    "# print(genre_testing)"
   ]
  },
  {
   "cell_type": "markdown",
   "id": "b5249572",
   "metadata": {
    "papermill": {
     "duration": 0.102941,
     "end_time": "2023-08-12T18:15:41.773969",
     "exception": false,
     "start_time": "2023-08-12T18:15:41.671028",
     "status": "completed"
    },
    "tags": []
   },
   "source": [
    "## Statistical tests  "
   ]
  },
  {
   "cell_type": "markdown",
   "id": "8aea956c",
   "metadata": {
    "papermill": {
     "duration": 0.104475,
     "end_time": "2023-08-12T18:15:41.982193",
     "exception": false,
     "start_time": "2023-08-12T18:15:41.877718",
     "status": "completed"
    },
    "tags": []
   },
   "source": [
    "[Go to genre](#genre_analysis)"
   ]
  },
  {
   "cell_type": "code",
   "execution_count": 131,
   "id": "feafdcf3",
   "metadata": {
    "execution": {
     "iopub.execute_input": "2023-08-12T18:15:42.193359Z",
     "iopub.status.busy": "2023-08-12T18:15:42.192528Z",
     "iopub.status.idle": "2023-08-12T18:15:42.196683Z",
     "shell.execute_reply": "2023-08-12T18:15:42.195623Z"
    },
    "papermill": {
     "duration": 0.11382,
     "end_time": "2023-08-12T18:15:42.199048",
     "exception": false,
     "start_time": "2023-08-12T18:15:42.085228",
     "status": "completed"
    },
    "tags": []
   },
   "outputs": [],
   "source": [
    "# print(merged['boxOffice'].head())\n",
    "# merged[\"boxOffice\"].describe()"
   ]
  },
  {
   "cell_type": "code",
   "execution_count": 132,
   "id": "b99a4aa2",
   "metadata": {
    "execution": {
     "iopub.execute_input": "2023-08-12T18:15:42.408072Z",
     "iopub.status.busy": "2023-08-12T18:15:42.407622Z",
     "iopub.status.idle": "2023-08-12T18:15:42.412715Z",
     "shell.execute_reply": "2023-08-12T18:15:42.411904Z"
    },
    "papermill": {
     "duration": 0.111789,
     "end_time": "2023-08-12T18:15:42.415157",
     "exception": false,
     "start_time": "2023-08-12T18:15:42.303368",
     "status": "completed"
    },
    "tags": []
   },
   "outputs": [],
   "source": [
    "# Function for independent samples t-test on numerical columns  \n",
    "# def ttest_ind(feature):\n",
    "#     pos_grp = merged[feature].loc[merged['sentiment'] == \"POSITIVE\"]\n",
    "#     neg_grp = merged[feature].loc[merged['sentiment'] == \"NEGATIVE\"]\n",
    "\n",
    "#     print(pos_grp.shape, neg_grp.shape)\n",
    "#     print(pos_grp.describe(), neg_grp.describe())\n",
    "\n",
    "#     return stats.ttest_ind(pos_grp, neg_grp)"
   ]
  },
  {
   "cell_type": "code",
   "execution_count": 133,
   "id": "4e05b281",
   "metadata": {
    "execution": {
     "iopub.execute_input": "2023-08-12T18:15:42.628148Z",
     "iopub.status.busy": "2023-08-12T18:15:42.627480Z",
     "iopub.status.idle": "2023-08-12T18:15:42.632117Z",
     "shell.execute_reply": "2023-08-12T18:15:42.631112Z"
    },
    "papermill": {
     "duration": 0.113835,
     "end_time": "2023-08-12T18:15:42.634430",
     "exception": false,
     "start_time": "2023-08-12T18:15:42.520595",
     "status": "completed"
    },
    "tags": []
   },
   "outputs": [],
   "source": [
    "# ttest_ind('boxOffice')"
   ]
  },
  {
   "cell_type": "code",
   "execution_count": 134,
   "id": "1d5b576b",
   "metadata": {
    "execution": {
     "iopub.execute_input": "2023-08-12T18:15:42.848366Z",
     "iopub.status.busy": "2023-08-12T18:15:42.847911Z",
     "iopub.status.idle": "2023-08-12T18:15:42.852892Z",
     "shell.execute_reply": "2023-08-12T18:15:42.851694Z"
    },
    "papermill": {
     "duration": 0.113916,
     "end_time": "2023-08-12T18:15:42.855455",
     "exception": false,
     "start_time": "2023-08-12T18:15:42.741539",
     "status": "completed"
    },
    "tags": []
   },
   "outputs": [],
   "source": [
    "# ttest_ind('runtimeMinutes')"
   ]
  },
  {
   "cell_type": "code",
   "execution_count": 135,
   "id": "a142f64f",
   "metadata": {
    "execution": {
     "iopub.execute_input": "2023-08-12T18:15:43.072923Z",
     "iopub.status.busy": "2023-08-12T18:15:43.072029Z",
     "iopub.status.idle": "2023-08-12T18:15:43.076915Z",
     "shell.execute_reply": "2023-08-12T18:15:43.075848Z"
    },
    "papermill": {
     "duration": 0.114448,
     "end_time": "2023-08-12T18:15:43.079468",
     "exception": false,
     "start_time": "2023-08-12T18:15:42.965020",
     "status": "completed"
    },
    "tags": []
   },
   "outputs": [],
   "source": [
    "# ttest_ind('audienceScore')"
   ]
  },
  {
   "cell_type": "code",
   "execution_count": 136,
   "id": "d5e7634b",
   "metadata": {
    "execution": {
     "iopub.execute_input": "2023-08-12T18:15:43.290269Z",
     "iopub.status.busy": "2023-08-12T18:15:43.289820Z",
     "iopub.status.idle": "2023-08-12T18:15:43.295089Z",
     "shell.execute_reply": "2023-08-12T18:15:43.293631Z"
    },
    "papermill": {
     "duration": 0.112845,
     "end_time": "2023-08-12T18:15:43.297951",
     "exception": false,
     "start_time": "2023-08-12T18:15:43.185106",
     "status": "completed"
    },
    "tags": []
   },
   "outputs": [],
   "source": [
    "# sns.boxplot(x=merged['sentiment'], y=merged['boxOffice'])"
   ]
  },
  {
   "cell_type": "markdown",
   "id": "ec6b7eff",
   "metadata": {
    "papermill": {
     "duration": 0.105925,
     "end_time": "2023-08-12T18:15:43.508310",
     "exception": false,
     "start_time": "2023-08-12T18:15:43.402385",
     "status": "completed"
    },
    "tags": []
   },
   "source": [
    "## <div id='genre_analysis'>Genre analysis</div>"
   ]
  },
  {
   "cell_type": "code",
   "execution_count": 137,
   "id": "3fc49a86",
   "metadata": {
    "execution": {
     "iopub.execute_input": "2023-08-12T18:15:43.719844Z",
     "iopub.status.busy": "2023-08-12T18:15:43.719011Z",
     "iopub.status.idle": "2023-08-12T18:15:43.723925Z",
     "shell.execute_reply": "2023-08-12T18:15:43.723141Z"
    },
    "papermill": {
     "duration": 0.112423,
     "end_time": "2023-08-12T18:15:43.726266",
     "exception": false,
     "start_time": "2023-08-12T18:15:43.613843",
     "status": "completed"
    },
    "tags": []
   },
   "outputs": [],
   "source": [
    "# genre_analysis = merged[[\"genre\", \"genreSorted\", \"sentiment\"]].copy()\n",
    "# # print(genre_analysis.head())\n",
    "# # genre_analysis[\"genre\"] = genre_analysis[\"genre\"].apply(lambda x: (\",\").join(sorted(x.split(\", \"))))\n",
    "# genre_analysis.head()"
   ]
  },
  {
   "cell_type": "code",
   "execution_count": 138,
   "id": "824cb2e7",
   "metadata": {
    "execution": {
     "iopub.execute_input": "2023-08-12T18:15:43.936253Z",
     "iopub.status.busy": "2023-08-12T18:15:43.935443Z",
     "iopub.status.idle": "2023-08-12T18:15:43.940210Z",
     "shell.execute_reply": "2023-08-12T18:15:43.939392Z"
    },
    "papermill": {
     "duration": 0.113503,
     "end_time": "2023-08-12T18:15:43.942471",
     "exception": false,
     "start_time": "2023-08-12T18:15:43.828968",
     "status": "completed"
    },
    "tags": []
   },
   "outputs": [],
   "source": [
    "# cvec_g = CountVectorizer(ngram_range=(1,3))\n",
    "# cvec_g.fit(genre_analysis['genre'])\n",
    "# # len(cvec_g.vocabulary_), cvec_g.vocabulary_"
   ]
  },
  {
   "cell_type": "code",
   "execution_count": 139,
   "id": "e6703026",
   "metadata": {
    "execution": {
     "iopub.execute_input": "2023-08-12T18:15:44.153454Z",
     "iopub.status.busy": "2023-08-12T18:15:44.152474Z",
     "iopub.status.idle": "2023-08-12T18:15:44.157509Z",
     "shell.execute_reply": "2023-08-12T18:15:44.156728Z"
    },
    "papermill": {
     "duration": 0.113922,
     "end_time": "2023-08-12T18:15:44.159649",
     "exception": false,
     "start_time": "2023-08-12T18:15:44.045727",
     "status": "completed"
    },
    "tags": []
   },
   "outputs": [],
   "source": [
    "# cvec_gSorted = CountVectorizer(ngram_range=(1,3))\n",
    "# cvec_gSorted.fit(genre_analysis['genreSorted'])\n",
    "# len(cvec_gSorted.vocabulary_), cvec_gSorted.vocabulary_"
   ]
  },
  {
   "cell_type": "code",
   "execution_count": 140,
   "id": "84bd9a5c",
   "metadata": {
    "execution": {
     "iopub.execute_input": "2023-08-12T18:15:44.371723Z",
     "iopub.status.busy": "2023-08-12T18:15:44.371010Z",
     "iopub.status.idle": "2023-08-12T18:15:44.375323Z",
     "shell.execute_reply": "2023-08-12T18:15:44.374337Z"
    },
    "papermill": {
     "duration": 0.110842,
     "end_time": "2023-08-12T18:15:44.377662",
     "exception": false,
     "start_time": "2023-08-12T18:15:44.266820",
     "status": "completed"
    },
    "tags": []
   },
   "outputs": [],
   "source": [
    "# genre_testing = cvec_g.transform(merged[\"genre\"])\n",
    "# # print(genre_testing)"
   ]
  },
  {
   "cell_type": "code",
   "execution_count": 141,
   "id": "8c7b8881",
   "metadata": {
    "execution": {
     "iopub.execute_input": "2023-08-12T18:15:44.658478Z",
     "iopub.status.busy": "2023-08-12T18:15:44.657786Z",
     "iopub.status.idle": "2023-08-12T18:15:44.662389Z",
     "shell.execute_reply": "2023-08-12T18:15:44.661294Z"
    },
    "papermill": {
     "duration": 0.18444,
     "end_time": "2023-08-12T18:15:44.664947",
     "exception": false,
     "start_time": "2023-08-12T18:15:44.480507",
     "status": "completed"
    },
    "tags": []
   },
   "outputs": [],
   "source": [
    "# genre_counts_testing = merged[[\"genre\", \"sentiment\"]].copy()\n",
    "# genre_counts_testing[\"gCount\"] = genre_counts_testing.apply(lambda x: len(str(x[\"genre\"]).split()), axis=1)\n",
    "# genre_counts_testing"
   ]
  },
  {
   "cell_type": "code",
   "execution_count": 142,
   "id": "056dd53d",
   "metadata": {
    "execution": {
     "iopub.execute_input": "2023-08-12T18:15:44.874553Z",
     "iopub.status.busy": "2023-08-12T18:15:44.873780Z",
     "iopub.status.idle": "2023-08-12T18:15:44.878393Z",
     "shell.execute_reply": "2023-08-12T18:15:44.877652Z"
    },
    "papermill": {
     "duration": 0.112223,
     "end_time": "2023-08-12T18:15:44.880559",
     "exception": false,
     "start_time": "2023-08-12T18:15:44.768336",
     "status": "completed"
    },
    "tags": []
   },
   "outputs": [],
   "source": [
    "# sns.boxplot(y=genre_counts_testing[\"gCount\"], x=genre_counts_testing[\"sentiment\"])"
   ]
  },
  {
   "cell_type": "code",
   "execution_count": 143,
   "id": "2a2db42e",
   "metadata": {
    "execution": {
     "iopub.execute_input": "2023-08-12T18:15:45.093758Z",
     "iopub.status.busy": "2023-08-12T18:15:45.093041Z",
     "iopub.status.idle": "2023-08-12T18:15:45.097309Z",
     "shell.execute_reply": "2023-08-12T18:15:45.096454Z"
    },
    "papermill": {
     "duration": 0.110791,
     "end_time": "2023-08-12T18:15:45.099582",
     "exception": false,
     "start_time": "2023-08-12T18:15:44.988791",
     "status": "completed"
    },
    "tags": []
   },
   "outputs": [],
   "source": [
    "# sns.boxplot(y=merged[\"reviewWC\"], x=merged[\"sentiment\"])"
   ]
  },
  {
   "cell_type": "code",
   "execution_count": 144,
   "id": "104d255e",
   "metadata": {
    "execution": {
     "iopub.execute_input": "2023-08-12T18:15:45.312967Z",
     "iopub.status.busy": "2023-08-12T18:15:45.312238Z",
     "iopub.status.idle": "2023-08-12T18:15:45.316077Z",
     "shell.execute_reply": "2023-08-12T18:15:45.315316Z"
    },
    "papermill": {
     "duration": 0.113244,
     "end_time": "2023-08-12T18:15:45.318141",
     "exception": false,
     "start_time": "2023-08-12T18:15:45.204897",
     "status": "completed"
    },
    "tags": []
   },
   "outputs": [],
   "source": [
    "# audienceScore bins\n",
    "# asc = merged[['audienceScore', 'sentiment']].copy()\n",
    "# asc.head()"
   ]
  },
  {
   "cell_type": "code",
   "execution_count": 145,
   "id": "1d1e580d",
   "metadata": {
    "execution": {
     "iopub.execute_input": "2023-08-12T18:15:45.527033Z",
     "iopub.status.busy": "2023-08-12T18:15:45.526311Z",
     "iopub.status.idle": "2023-08-12T18:15:45.530254Z",
     "shell.execute_reply": "2023-08-12T18:15:45.529464Z"
    },
    "papermill": {
     "duration": 0.111102,
     "end_time": "2023-08-12T18:15:45.532430",
     "exception": false,
     "start_time": "2023-08-12T18:15:45.421328",
     "status": "completed"
    },
    "tags": []
   },
   "outputs": [],
   "source": [
    "# Binning numerical features  \n",
    "\n",
    "# print(merged[\"runtimeBins\"].value_counts())\n",
    "# sns.displot(merged[\"runtimeBins\"])"
   ]
  },
  {
   "cell_type": "code",
   "execution_count": 146,
   "id": "ef3d2d45",
   "metadata": {
    "execution": {
     "iopub.execute_input": "2023-08-12T18:15:45.741020Z",
     "iopub.status.busy": "2023-08-12T18:15:45.740233Z",
     "iopub.status.idle": "2023-08-12T18:15:45.744670Z",
     "shell.execute_reply": "2023-08-12T18:15:45.743906Z"
    },
    "papermill": {
     "duration": 0.110908,
     "end_time": "2023-08-12T18:15:45.746732",
     "exception": false,
     "start_time": "2023-08-12T18:15:45.635824",
     "status": "completed"
    },
    "tags": []
   },
   "outputs": [],
   "source": [
    "# Chi-square test for isFrequentReviewer column and sentiment column   \n",
    "\n",
    "# contingency_table = pd.crosstab(traindf['isFrequentReviewer'], traindf['sentiment'])\n",
    "# print(contingency_table)\n",
    "# stats.chi2_contingency(contingency_table)"
   ]
  },
  {
   "cell_type": "markdown",
   "id": "641be9a1",
   "metadata": {
    "papermill": {
     "duration": 0.106525,
     "end_time": "2023-08-12T18:15:45.956693",
     "exception": false,
     "start_time": "2023-08-12T18:15:45.850168",
     "status": "completed"
    },
    "tags": []
   },
   "source": [
    "## Baseline performance of 'reviewText' column  "
   ]
  },
  {
   "cell_type": "code",
   "execution_count": 147,
   "id": "65c725c8",
   "metadata": {
    "execution": {
     "iopub.execute_input": "2023-08-12T18:15:46.167705Z",
     "iopub.status.busy": "2023-08-12T18:15:46.167291Z",
     "iopub.status.idle": "2023-08-12T18:15:46.171522Z",
     "shell.execute_reply": "2023-08-12T18:15:46.170383Z"
    },
    "papermill": {
     "duration": 0.112882,
     "end_time": "2023-08-12T18:15:46.173937",
     "exception": false,
     "start_time": "2023-08-12T18:15:46.061055",
     "status": "completed"
    },
    "tags": []
   },
   "outputs": [],
   "source": [
    "# rt_dict = {'txt': ['reviewText']}\n",
    "# rt_dict"
   ]
  },
  {
   "cell_type": "code",
   "execution_count": 148,
   "id": "95dcd124",
   "metadata": {
    "execution": {
     "iopub.execute_input": "2023-08-12T18:15:46.385415Z",
     "iopub.status.busy": "2023-08-12T18:15:46.385008Z",
     "iopub.status.idle": "2023-08-12T18:15:46.389857Z",
     "shell.execute_reply": "2023-08-12T18:15:46.388684Z"
    },
    "papermill": {
     "duration": 0.114146,
     "end_time": "2023-08-12T18:15:46.392494",
     "exception": false,
     "start_time": "2023-08-12T18:15:46.278348",
     "status": "completed"
    },
    "tags": []
   },
   "outputs": [],
   "source": [
    "# submit_v4(selected_model=LogisticRegression(C=5, solver=\"saga\", max_iter=100000),\n",
    "#           selected_features=rt_dict,\n",
    "#           param_grid=None,\n",
    "#           vocab=None)"
   ]
  },
  {
   "cell_type": "markdown",
   "id": "79b1c6c4",
   "metadata": {
    "papermill": {
     "duration": 0.103347,
     "end_time": "2023-08-12T18:15:46.600125",
     "exception": false,
     "start_time": "2023-08-12T18:15:46.496778",
     "status": "completed"
    },
    "tags": []
   },
   "source": [
    "## RFE  "
   ]
  },
  {
   "cell_type": "code",
   "execution_count": 149,
   "id": "8fd60044",
   "metadata": {
    "execution": {
     "iopub.execute_input": "2023-08-12T18:15:46.811660Z",
     "iopub.status.busy": "2023-08-12T18:15:46.811275Z",
     "iopub.status.idle": "2023-08-12T18:15:46.816930Z",
     "shell.execute_reply": "2023-08-12T18:15:46.815766Z"
    },
    "papermill": {
     "duration": 0.11466,
     "end_time": "2023-08-12T18:15:46.819720",
     "exception": false,
     "start_time": "2023-08-12T18:15:46.705060",
     "status": "completed"
    },
    "tags": []
   },
   "outputs": [],
   "source": [
    "# def fs_rfe(selector, text_df, labels, ngram_range=(1,1)):\n",
    "#     text_df_ngram = TfidfVectorizer(ngram_range=ngram_range, stop_words='english').fit_transform(text_df)\n",
    "#     print(\"text_df was vectorized using TF-IDF vectorizer with ngram_range: \", ngram_range)\n",
    "#     print(\"text_df.shape: \", text_df.shape)\n",
    "#     print(\"labels.shape: \", labels.shape)\n",
    "#     print(\"text_df_ngram.shape: \", text_df_ngram.shape)\n",
    "#     print()\n",
    "\n",
    "#     print(\"Starting RFE fit...\")\n",
    "#     selector.fit(text_df_ngram, labels)\n",
    "#     print(\"RFE fit complete.\\n\")\n",
    "    \n",
    "#     print(\"selector.n_features_: \", selector.n_features_)   \n",
    "#     print(\"selector.n_features_in_: \", selector.n_features_in_)\n",
    "#     print(\"selector.support_.shape: \", selector.support_.shape)\n",
    "\n",
    "#     return selector.support_"
   ]
  },
  {
   "cell_type": "markdown",
   "id": "e4b36497",
   "metadata": {
    "papermill": {
     "duration": 0.123771,
     "end_time": "2023-08-12T18:15:47.049009",
     "exception": false,
     "start_time": "2023-08-12T18:15:46.925238",
     "status": "completed"
    },
    "tags": []
   },
   "source": [
    "`RFE for unigrams`  "
   ]
  },
  {
   "cell_type": "code",
   "execution_count": 150,
   "id": "9897a47a",
   "metadata": {
    "execution": {
     "iopub.execute_input": "2023-08-12T18:15:47.260111Z",
     "iopub.status.busy": "2023-08-12T18:15:47.259714Z",
     "iopub.status.idle": "2023-08-12T18:15:47.264161Z",
     "shell.execute_reply": "2023-08-12T18:15:47.263327Z"
    },
    "papermill": {
     "duration": 0.112092,
     "end_time": "2023-08-12T18:15:47.266092",
     "exception": false,
     "start_time": "2023-08-12T18:15:47.154000",
     "status": "completed"
    },
    "tags": []
   },
   "outputs": [],
   "source": [
    "# estimator_rfe_1 = LogisticRegression(solver='saga', max_iter=100000)\n",
    "# selector_rfe_1 = RFE(estimator_rfe_1, step=0.1, n_features_to_select=30000)"
   ]
  },
  {
   "cell_type": "code",
   "execution_count": 151,
   "id": "ee427194",
   "metadata": {
    "execution": {
     "iopub.execute_input": "2023-08-12T18:15:47.476821Z",
     "iopub.status.busy": "2023-08-12T18:15:47.475616Z",
     "iopub.status.idle": "2023-08-12T18:15:47.480517Z",
     "shell.execute_reply": "2023-08-12T18:15:47.479580Z"
    },
    "papermill": {
     "duration": 0.112583,
     "end_time": "2023-08-12T18:15:47.482841",
     "exception": false,
     "start_time": "2023-08-12T18:15:47.370258",
     "status": "completed"
    },
    "tags": []
   },
   "outputs": [],
   "source": [
    "# rfe_1_feat_mask = fs_rfe(selector_rfe_1, rt_senti[\"reviewText\"], rt_senti[\"sentiment\"], ngram_range=(1,1))\n",
    "# rfe_1_feat_mask"
   ]
  },
  {
   "cell_type": "code",
   "execution_count": 152,
   "id": "d3ee3eca",
   "metadata": {
    "execution": {
     "iopub.execute_input": "2023-08-12T18:15:47.693484Z",
     "iopub.status.busy": "2023-08-12T18:15:47.693101Z",
     "iopub.status.idle": "2023-08-12T18:15:47.697319Z",
     "shell.execute_reply": "2023-08-12T18:15:47.696219Z"
    },
    "papermill": {
     "duration": 0.112069,
     "end_time": "2023-08-12T18:15:47.699767",
     "exception": false,
     "start_time": "2023-08-12T18:15:47.587698",
     "status": "completed"
    },
    "tags": []
   },
   "outputs": [],
   "source": [
    "# voc_1gram_rfe = list(compress(voc_1gram, rfe_1_feat_mask))\n",
    "# len(voc_1gram_rfe), voc_1gram_rfe[:10]"
   ]
  },
  {
   "cell_type": "markdown",
   "id": "4311c076",
   "metadata": {
    "papermill": {
     "duration": 0.10365,
     "end_time": "2023-08-12T18:15:47.907290",
     "exception": false,
     "start_time": "2023-08-12T18:15:47.803640",
     "status": "completed"
    },
    "tags": []
   },
   "source": [
    "`RFE for bigrams`  "
   ]
  },
  {
   "cell_type": "code",
   "execution_count": 153,
   "id": "6934127d",
   "metadata": {
    "execution": {
     "iopub.execute_input": "2023-08-12T18:15:48.122209Z",
     "iopub.status.busy": "2023-08-12T18:15:48.121558Z",
     "iopub.status.idle": "2023-08-12T18:15:48.126448Z",
     "shell.execute_reply": "2023-08-12T18:15:48.125213Z"
    },
    "papermill": {
     "duration": 0.113527,
     "end_time": "2023-08-12T18:15:48.128618",
     "exception": false,
     "start_time": "2023-08-12T18:15:48.015091",
     "status": "completed"
    },
    "tags": []
   },
   "outputs": [],
   "source": [
    "# estimator_rfe_2 = LogisticRegression(solver='saga', max_iter=100000)\n",
    "# selector_rfe_2 = RFE(estimator_rfe_2, step=0.1, n_features_to_select=50000)"
   ]
  },
  {
   "cell_type": "code",
   "execution_count": 154,
   "id": "6ad421f3",
   "metadata": {
    "execution": {
     "iopub.execute_input": "2023-08-12T18:15:48.342285Z",
     "iopub.status.busy": "2023-08-12T18:15:48.341864Z",
     "iopub.status.idle": "2023-08-12T18:15:48.346653Z",
     "shell.execute_reply": "2023-08-12T18:15:48.345383Z"
    },
    "papermill": {
     "duration": 0.115871,
     "end_time": "2023-08-12T18:15:48.349194",
     "exception": false,
     "start_time": "2023-08-12T18:15:48.233323",
     "status": "completed"
    },
    "tags": []
   },
   "outputs": [],
   "source": [
    "# rfe_2_feat_mask = fs_rfe(selector_rfe_2, rt_senti[\"reviewText\"], rt_senti[\"sentiment\"], ngram_range=(2,2))\n",
    "# rfe_2_feat_mask"
   ]
  },
  {
   "cell_type": "code",
   "execution_count": 155,
   "id": "bd98ee1a",
   "metadata": {
    "execution": {
     "iopub.execute_input": "2023-08-12T18:15:48.560565Z",
     "iopub.status.busy": "2023-08-12T18:15:48.560150Z",
     "iopub.status.idle": "2023-08-12T18:15:48.565106Z",
     "shell.execute_reply": "2023-08-12T18:15:48.563670Z"
    },
    "papermill": {
     "duration": 0.113333,
     "end_time": "2023-08-12T18:15:48.567248",
     "exception": false,
     "start_time": "2023-08-12T18:15:48.453915",
     "status": "completed"
    },
    "tags": []
   },
   "outputs": [],
   "source": [
    "# voc_2gram_rfe = list(compress(voc_2gram, rfe_2_feat_mask))\n",
    "# len(voc_2gram_rfe), voc_2gram_rfe[:10]"
   ]
  },
  {
   "cell_type": "markdown",
   "id": "48370761",
   "metadata": {
    "papermill": {
     "duration": 0.102332,
     "end_time": "2023-08-12T18:15:48.773117",
     "exception": false,
     "start_time": "2023-08-12T18:15:48.670785",
     "status": "completed"
    },
    "tags": []
   },
   "source": [
    "## Final RFE-derived vocabulary  "
   ]
  },
  {
   "cell_type": "code",
   "execution_count": 156,
   "id": "824df23c",
   "metadata": {
    "execution": {
     "iopub.execute_input": "2023-08-12T18:15:48.983904Z",
     "iopub.status.busy": "2023-08-12T18:15:48.983464Z",
     "iopub.status.idle": "2023-08-12T18:15:48.988681Z",
     "shell.execute_reply": "2023-08-12T18:15:48.987395Z"
    },
    "papermill": {
     "duration": 0.114836,
     "end_time": "2023-08-12T18:15:48.991177",
     "exception": false,
     "start_time": "2023-08-12T18:15:48.876341",
     "status": "completed"
    },
    "tags": []
   },
   "outputs": [],
   "source": [
    "# rfe_vocab = voc_1gram_rfe + voc_2gram_rfe\n",
    "# len(rfe_vocab), rfe_vocab[:10], rfe_vocab[-10:]"
   ]
  },
  {
   "cell_type": "code",
   "execution_count": 157,
   "id": "5cf34e1c",
   "metadata": {
    "execution": {
     "iopub.execute_input": "2023-08-12T18:15:49.275315Z",
     "iopub.status.busy": "2023-08-12T18:15:49.274924Z",
     "iopub.status.idle": "2023-08-12T18:15:49.279166Z",
     "shell.execute_reply": "2023-08-12T18:15:49.278233Z"
    },
    "papermill": {
     "duration": 0.111508,
     "end_time": "2023-08-12T18:15:49.281183",
     "exception": false,
     "start_time": "2023-08-12T18:15:49.169675",
     "status": "completed"
    },
    "tags": []
   },
   "outputs": [],
   "source": [
    "## Test RFE obtained vocabulary in final pipeline (only with reviewText)  \n",
    "# submit_v4(selected_model=LogisticRegression(C=5, solver=\"saga\", max_iter=100000),\n",
    "#           selected_features=rt_dict,\n",
    "#           param_grid=None,\n",
    "#           vocab=rfe_vocab)"
   ]
  },
  {
   "cell_type": "markdown",
   "id": "9d3c8f5c",
   "metadata": {
    "papermill": {
     "duration": 0.102865,
     "end_time": "2023-08-12T18:15:49.487332",
     "exception": false,
     "start_time": "2023-08-12T18:15:49.384467",
     "status": "completed"
    },
    "tags": []
   },
   "source": [
    "## Use rfe_vocab in final pipeline with all params  "
   ]
  },
  {
   "cell_type": "code",
   "execution_count": 158,
   "id": "d84ccbd8",
   "metadata": {
    "execution": {
     "iopub.execute_input": "2023-08-12T18:15:49.695290Z",
     "iopub.status.busy": "2023-08-12T18:15:49.694912Z",
     "iopub.status.idle": "2023-08-12T18:15:49.699572Z",
     "shell.execute_reply": "2023-08-12T18:15:49.698350Z"
    },
    "papermill": {
     "duration": 0.1116,
     "end_time": "2023-08-12T18:15:49.701756",
     "exception": false,
     "start_time": "2023-08-12T18:15:49.590156",
     "status": "completed"
    },
    "tags": []
   },
   "outputs": [],
   "source": [
    "# submit_v4(selected_model=LogisticRegression(max_iter=100000),\n",
    "#           selected_features=all_dict,\n",
    "#           param_grid=param_grid,\n",
    "#           vocab=rfe_vocab)"
   ]
  },
  {
   "cell_type": "code",
   "execution_count": 159,
   "id": "88d628ff",
   "metadata": {
    "execution": {
     "iopub.execute_input": "2023-08-12T18:15:49.909685Z",
     "iopub.status.busy": "2023-08-12T18:15:49.908741Z",
     "iopub.status.idle": "2023-08-12T18:15:49.924834Z",
     "shell.execute_reply": "2023-08-12T18:15:49.923479Z"
    },
    "papermill": {
     "duration": 0.123362,
     "end_time": "2023-08-12T18:15:49.927721",
     "exception": false,
     "start_time": "2023-08-12T18:15:49.804359",
     "status": "completed"
    },
    "tags": []
   },
   "outputs": [
    {
     "data": {
      "text/html": [
       "<style>#sk-container-id-1 {color: black;background-color: white;}#sk-container-id-1 pre{padding: 0;}#sk-container-id-1 div.sk-toggleable {background-color: white;}#sk-container-id-1 label.sk-toggleable__label {cursor: pointer;display: block;width: 100%;margin-bottom: 0;padding: 0.3em;box-sizing: border-box;text-align: center;}#sk-container-id-1 label.sk-toggleable__label-arrow:before {content: \"▸\";float: left;margin-right: 0.25em;color: #696969;}#sk-container-id-1 label.sk-toggleable__label-arrow:hover:before {color: black;}#sk-container-id-1 div.sk-estimator:hover label.sk-toggleable__label-arrow:before {color: black;}#sk-container-id-1 div.sk-toggleable__content {max-height: 0;max-width: 0;overflow: hidden;text-align: left;background-color: #f0f8ff;}#sk-container-id-1 div.sk-toggleable__content pre {margin: 0.2em;color: black;border-radius: 0.25em;background-color: #f0f8ff;}#sk-container-id-1 input.sk-toggleable__control:checked~div.sk-toggleable__content {max-height: 200px;max-width: 100%;overflow: auto;}#sk-container-id-1 input.sk-toggleable__control:checked~label.sk-toggleable__label-arrow:before {content: \"▾\";}#sk-container-id-1 div.sk-estimator input.sk-toggleable__control:checked~label.sk-toggleable__label {background-color: #d4ebff;}#sk-container-id-1 div.sk-label input.sk-toggleable__control:checked~label.sk-toggleable__label {background-color: #d4ebff;}#sk-container-id-1 input.sk-hidden--visually {border: 0;clip: rect(1px 1px 1px 1px);clip: rect(1px, 1px, 1px, 1px);height: 1px;margin: -1px;overflow: hidden;padding: 0;position: absolute;width: 1px;}#sk-container-id-1 div.sk-estimator {font-family: monospace;background-color: #f0f8ff;border: 1px dotted black;border-radius: 0.25em;box-sizing: border-box;margin-bottom: 0.5em;}#sk-container-id-1 div.sk-estimator:hover {background-color: #d4ebff;}#sk-container-id-1 div.sk-parallel-item::after {content: \"\";width: 100%;border-bottom: 1px solid gray;flex-grow: 1;}#sk-container-id-1 div.sk-label:hover label.sk-toggleable__label {background-color: #d4ebff;}#sk-container-id-1 div.sk-serial::before {content: \"\";position: absolute;border-left: 1px solid gray;box-sizing: border-box;top: 0;bottom: 0;left: 50%;z-index: 0;}#sk-container-id-1 div.sk-serial {display: flex;flex-direction: column;align-items: center;background-color: white;padding-right: 0.2em;padding-left: 0.2em;position: relative;}#sk-container-id-1 div.sk-item {position: relative;z-index: 1;}#sk-container-id-1 div.sk-parallel {display: flex;align-items: stretch;justify-content: center;background-color: white;position: relative;}#sk-container-id-1 div.sk-item::before, #sk-container-id-1 div.sk-parallel-item::before {content: \"\";position: absolute;border-left: 1px solid gray;box-sizing: border-box;top: 0;bottom: 0;left: 50%;z-index: -1;}#sk-container-id-1 div.sk-parallel-item {display: flex;flex-direction: column;z-index: 1;position: relative;background-color: white;}#sk-container-id-1 div.sk-parallel-item:first-child::after {align-self: flex-end;width: 50%;}#sk-container-id-1 div.sk-parallel-item:last-child::after {align-self: flex-start;width: 50%;}#sk-container-id-1 div.sk-parallel-item:only-child::after {width: 0;}#sk-container-id-1 div.sk-dashed-wrapped {border: 1px dashed gray;margin: 0 0.4em 0.5em 0.4em;box-sizing: border-box;padding-bottom: 0.4em;background-color: white;}#sk-container-id-1 div.sk-label label {font-family: monospace;font-weight: bold;display: inline-block;line-height: 1.2em;}#sk-container-id-1 div.sk-label-container {text-align: center;}#sk-container-id-1 div.sk-container {/* jupyter's `normalize.less` sets `[hidden] { display: none; }` but bootstrap.min.css set `[hidden] { display: none !important; }` so we also need the `!important` here to be able to override the default hidden behavior on the sphinx rendered scikit-learn.org. See: https://github.com/scikit-learn/scikit-learn/issues/21755 */display: inline-block !important;position: relative;}#sk-container-id-1 div.sk-text-repr-fallback {display: none;}</style><div id=\"sk-container-id-1\" class=\"sk-top-container\"><div class=\"sk-text-repr-fallback\"><pre>AdaBoostClassifier(estimator=LogisticRegression(C=5, max_iter=100000,\n",
       "                                                solver=&#x27;saga&#x27;))</pre><b>In a Jupyter environment, please rerun this cell to show the HTML representation or trust the notebook. <br />On GitHub, the HTML representation is unable to render, please try loading this page with nbviewer.org.</b></div><div class=\"sk-container\" hidden><div class=\"sk-item sk-dashed-wrapped\"><div class=\"sk-label-container\"><div class=\"sk-label sk-toggleable\"><input class=\"sk-toggleable__control sk-hidden--visually\" id=\"sk-estimator-id-1\" type=\"checkbox\" ><label for=\"sk-estimator-id-1\" class=\"sk-toggleable__label sk-toggleable__label-arrow\">AdaBoostClassifier</label><div class=\"sk-toggleable__content\"><pre>AdaBoostClassifier(estimator=LogisticRegression(C=5, max_iter=100000,\n",
       "                                                solver=&#x27;saga&#x27;))</pre></div></div></div><div class=\"sk-parallel\"><div class=\"sk-parallel-item\"><div class=\"sk-item\"><div class=\"sk-label-container\"><div class=\"sk-label sk-toggleable\"><input class=\"sk-toggleable__control sk-hidden--visually\" id=\"sk-estimator-id-2\" type=\"checkbox\" ><label for=\"sk-estimator-id-2\" class=\"sk-toggleable__label sk-toggleable__label-arrow\">estimator: LogisticRegression</label><div class=\"sk-toggleable__content\"><pre>LogisticRegression(C=5, max_iter=100000, solver=&#x27;saga&#x27;)</pre></div></div></div><div class=\"sk-serial\"><div class=\"sk-item\"><div class=\"sk-estimator sk-toggleable\"><input class=\"sk-toggleable__control sk-hidden--visually\" id=\"sk-estimator-id-3\" type=\"checkbox\" ><label for=\"sk-estimator-id-3\" class=\"sk-toggleable__label sk-toggleable__label-arrow\">LogisticRegression</label><div class=\"sk-toggleable__content\"><pre>LogisticRegression(C=5, max_iter=100000, solver=&#x27;saga&#x27;)</pre></div></div></div></div></div></div></div></div></div></div>"
      ],
      "text/plain": [
       "AdaBoostClassifier(estimator=LogisticRegression(C=5, max_iter=100000,\n",
       "                                                solver='saga'))"
      ]
     },
     "execution_count": 159,
     "metadata": {},
     "output_type": "execute_result"
    }
   ],
   "source": [
    "adc = AdaBoostClassifier(estimator=LogisticRegression(C=5, solver=\"saga\", max_iter=100000), n_estimators=50)\n",
    "adc"
   ]
  },
  {
   "cell_type": "code",
   "execution_count": 160,
   "id": "ced513b5",
   "metadata": {
    "execution": {
     "iopub.execute_input": "2023-08-12T18:15:50.139358Z",
     "iopub.status.busy": "2023-08-12T18:15:50.138873Z",
     "iopub.status.idle": "2023-08-12T18:15:50.143626Z",
     "shell.execute_reply": "2023-08-12T18:15:50.142683Z"
    },
    "papermill": {
     "duration": 0.112482,
     "end_time": "2023-08-12T18:15:50.145842",
     "exception": false,
     "start_time": "2023-08-12T18:15:50.033360",
     "status": "completed"
    },
    "tags": []
   },
   "outputs": [],
   "source": [
    "# submit_v4(selected_model=adc,\n",
    "#           selected_features={'cat': ['isFrequentReviewer']},\n",
    "#           param_grid=None,\n",
    "#           vocab=rfe_vocab)"
   ]
  },
  {
   "cell_type": "code",
   "execution_count": 161,
   "id": "18eac6c9",
   "metadata": {
    "execution": {
     "iopub.execute_input": "2023-08-12T18:15:50.356991Z",
     "iopub.status.busy": "2023-08-12T18:15:50.356561Z",
     "iopub.status.idle": "2023-08-12T18:15:50.361340Z",
     "shell.execute_reply": "2023-08-12T18:15:50.360194Z"
    },
    "papermill": {
     "duration": 0.113655,
     "end_time": "2023-08-12T18:15:50.363524",
     "exception": false,
     "start_time": "2023-08-12T18:15:50.249869",
     "status": "completed"
    },
    "tags": []
   },
   "outputs": [],
   "source": [
    "# AdaBoost on all features with RFE vocab on reviewText\n",
    "\n",
    "# submit_v4(selected_model=adc,\n",
    "#           selected_features=all_dict,\n",
    "#           param_grid=None,\n",
    "#           vocab=rfe_vocab)"
   ]
  },
  {
   "cell_type": "code",
   "execution_count": 162,
   "id": "53dbd754",
   "metadata": {
    "execution": {
     "iopub.execute_input": "2023-08-12T18:15:50.572069Z",
     "iopub.status.busy": "2023-08-12T18:15:50.571302Z",
     "iopub.status.idle": "2023-08-12T18:15:50.575770Z",
     "shell.execute_reply": "2023-08-12T18:15:50.574491Z"
    },
    "papermill": {
     "duration": 0.111518,
     "end_time": "2023-08-12T18:15:50.578092",
     "exception": false,
     "start_time": "2023-08-12T18:15:50.466574",
     "status": "completed"
    },
    "tags": []
   },
   "outputs": [],
   "source": [
    "# RandomForestClassifier test run on one feature\n",
    "\n",
    "# rfc_2 = RandomForestClassifier()\n",
    "# rfc_2"
   ]
  },
  {
   "cell_type": "code",
   "execution_count": 163,
   "id": "0e156b75",
   "metadata": {
    "execution": {
     "iopub.execute_input": "2023-08-12T18:15:50.786530Z",
     "iopub.status.busy": "2023-08-12T18:15:50.785691Z",
     "iopub.status.idle": "2023-08-12T18:15:50.790897Z",
     "shell.execute_reply": "2023-08-12T18:15:50.789737Z"
    },
    "papermill": {
     "duration": 0.111804,
     "end_time": "2023-08-12T18:15:50.793190",
     "exception": false,
     "start_time": "2023-08-12T18:15:50.681386",
     "status": "completed"
    },
    "tags": []
   },
   "outputs": [],
   "source": [
    "# submit_v4(selected_model=rfc_2,\n",
    "#           selected_features={'txt': ['reviewerName']},\n",
    "#           param_grid=None,\n",
    "#           vocab=rfe_vocab)"
   ]
  },
  {
   "cell_type": "code",
   "execution_count": 164,
   "id": "80435cb8",
   "metadata": {
    "execution": {
     "iopub.execute_input": "2023-08-12T18:15:51.007207Z",
     "iopub.status.busy": "2023-08-12T18:15:51.006740Z",
     "iopub.status.idle": "2023-08-12T18:15:51.011703Z",
     "shell.execute_reply": "2023-08-12T18:15:51.010425Z"
    },
    "papermill": {
     "duration": 0.117628,
     "end_time": "2023-08-12T18:15:51.014076",
     "exception": false,
     "start_time": "2023-08-12T18:15:50.896448",
     "status": "completed"
    },
    "tags": []
   },
   "outputs": [],
   "source": [
    "# RandomForestClassifier on all features with RFE vocab on reviewText\n",
    "\n",
    "# submit_v4(selected_model=rfc_2,\n",
    "#           selected_features=all_dict,\n",
    "#           param_grid=None,\n",
    "#           vocab=rfe_vocab)"
   ]
  },
  {
   "cell_type": "markdown",
   "id": "557d2311",
   "metadata": {
    "papermill": {
     "duration": 0.106318,
     "end_time": "2023-08-12T18:15:51.228115",
     "exception": false,
     "start_time": "2023-08-12T18:15:51.121797",
     "status": "completed"
    },
    "tags": []
   },
   "source": [
    "## Submit_v2 for merged file models  "
   ]
  },
  {
   "cell_type": "code",
   "execution_count": 165,
   "id": "ea4dfb63",
   "metadata": {
    "execution": {
     "iopub.execute_input": "2023-08-12T18:15:51.438040Z",
     "iopub.status.busy": "2023-08-12T18:15:51.436916Z",
     "iopub.status.idle": "2023-08-12T18:15:51.444077Z",
     "shell.execute_reply": "2023-08-12T18:15:51.442862Z"
    },
    "papermill": {
     "duration": 0.114745,
     "end_time": "2023-08-12T18:15:51.446822",
     "exception": false,
     "start_time": "2023-08-12T18:15:51.332077",
     "status": "completed"
    },
    "tags": []
   },
   "outputs": [],
   "source": [
    "# def submit_v2(selected_model=pipe_final, selected_features=None):\n",
    "#     '''\n",
    "#     Note that \"selected_preprocessor\" is already used within selected_model or pipeline\n",
    "#     '''\n",
    "#     # Retrain on the whole train.csv file  \n",
    "#     merged = select_features(load_csv(\"train\"), load_csv(\"movies\"))\n",
    "#     X_train = merged.drop(labels=\"sentiment\", axis=1)\n",
    "#     y_train = merged[\"sentiment\"]\n",
    "    \n",
    "#     #Use selected features\n",
    "#     if selected_features:\n",
    "#         X_train = X_train[selected_features]\n",
    "    \n",
    "#     # Check1\n",
    "#     print(X_train.shape)\n",
    "#     print(X_train.head())\n",
    "#     try:\n",
    "#         print(selected_model.named_steps['model'].intercept_, selected_model.named_steps['model'].coef_)\n",
    "#     except:\n",
    "#         print(\"Model not trained yet!\")\n",
    "    \n",
    "#     # Fit \n",
    "#     selected_model.fit(X_train, y_train)\n",
    "    \n",
    "#     # Check2\n",
    "#     print(selected_model.named_steps['model'].intercept_, selected_model.named_steps['model'].coef_)\n",
    "    \n",
    "#     # Predict on test.csv file\n",
    "#     merged_test = select_features(load_csv(\"test\"), load_csv(\"movies\"))\n",
    "#     X_test = merged_test.copy()\n",
    "#     if selected_features:\n",
    "#         X_test = X_test[selected_features]\n",
    "    \n",
    "#     # Check3\n",
    "#     print(X_test.shape)\n",
    "#     print(X_test.head())\n",
    "    \n",
    "#     y_pred = selected_model.predict(X_test)\n",
    "    \n",
    "#     pred_df = pd.DataFrame(y_pred)\n",
    "#     pred_df.columns = [\"sentiment\"]\n",
    "#     pred_df.index.name = \"id\"\n",
    "#     pred_df.to_csv(\"submission.csv\")\n",
    "    \n",
    "#     return \"Successfully created the submission file!!!\""
   ]
  },
  {
   "cell_type": "code",
   "execution_count": 166,
   "id": "b8f2e376",
   "metadata": {
    "execution": {
     "iopub.execute_input": "2023-08-12T18:15:51.660428Z",
     "iopub.status.busy": "2023-08-12T18:15:51.659997Z",
     "iopub.status.idle": "2023-08-12T18:15:51.665318Z",
     "shell.execute_reply": "2023-08-12T18:15:51.663950Z"
    },
    "papermill": {
     "duration": 0.114971,
     "end_time": "2023-08-12T18:15:51.668048",
     "exception": false,
     "start_time": "2023-08-12T18:15:51.553077",
     "status": "completed"
    },
    "tags": []
   },
   "outputs": [],
   "source": [
    "#     X_test = merged_test.copy()\n",
    "    \n",
    "#     y_pred = pipe_best4.predict(X_test)\n",
    "# #     np.unique(y_pred, return_counts=True)\n",
    "#     pred_df = pd.DataFrame(y_pred)\n",
    "#     pred_df.columns = [\"sentiment\"]\n",
    "#     pred_df.index.name = \"id\"\n",
    "#     pred_df.value_counts()"
   ]
  },
  {
   "cell_type": "code",
   "execution_count": 167,
   "id": "4a76b1d7",
   "metadata": {
    "execution": {
     "iopub.execute_input": "2023-08-12T18:15:51.878041Z",
     "iopub.status.busy": "2023-08-12T18:15:51.877606Z",
     "iopub.status.idle": "2023-08-12T18:15:51.881894Z",
     "shell.execute_reply": "2023-08-12T18:15:51.881082Z"
    },
    "papermill": {
     "duration": 0.112031,
     "end_time": "2023-08-12T18:15:51.883948",
     "exception": false,
     "start_time": "2023-08-12T18:15:51.771917",
     "status": "completed"
    },
    "tags": []
   },
   "outputs": [],
   "source": [
    "# X_test.columns"
   ]
  },
  {
   "cell_type": "markdown",
   "id": "5d808082",
   "metadata": {
    "papermill": {
     "duration": 0.104137,
     "end_time": "2023-08-12T18:15:52.095830",
     "exception": false,
     "start_time": "2023-08-12T18:15:51.991693",
     "status": "completed"
    },
    "tags": []
   },
   "source": [
    "### Uncomment to submit using v2 of submit function  "
   ]
  },
  {
   "cell_type": "code",
   "execution_count": 168,
   "id": "65e8cad9",
   "metadata": {
    "execution": {
     "iopub.execute_input": "2023-08-12T18:15:52.310202Z",
     "iopub.status.busy": "2023-08-12T18:15:52.309471Z",
     "iopub.status.idle": "2023-08-12T18:15:52.313659Z",
     "shell.execute_reply": "2023-08-12T18:15:52.312588Z"
    },
    "papermill": {
     "duration": 0.114922,
     "end_time": "2023-08-12T18:15:52.315996",
     "exception": false,
     "start_time": "2023-08-12T18:15:52.201074",
     "status": "completed"
    },
    "tags": []
   },
   "outputs": [],
   "source": [
    "# best4 = [\"audienceScore\", \"rating\", \"isFrequentReviewer\", \"reviewText\"]\n",
    "# best4"
   ]
  },
  {
   "cell_type": "code",
   "execution_count": 169,
   "id": "57b29300",
   "metadata": {
    "execution": {
     "iopub.execute_input": "2023-08-12T18:15:52.529183Z",
     "iopub.status.busy": "2023-08-12T18:15:52.528485Z",
     "iopub.status.idle": "2023-08-12T18:15:52.533264Z",
     "shell.execute_reply": "2023-08-12T18:15:52.532133Z"
    },
    "papermill": {
     "duration": 0.112694,
     "end_time": "2023-08-12T18:15:52.535673",
     "exception": false,
     "start_time": "2023-08-12T18:15:52.422979",
     "status": "completed"
    },
    "tags": []
   },
   "outputs": [],
   "source": [
    "# submit_v2(selected_model=pipe_RTonly, selected_features=['reviewText'])"
   ]
  },
  {
   "cell_type": "markdown",
   "id": "3f4a7d04",
   "metadata": {
    "papermill": {
     "duration": 0.103166,
     "end_time": "2023-08-12T18:15:52.744649",
     "exception": false,
     "start_time": "2023-08-12T18:15:52.641483",
     "status": "completed"
    },
    "tags": []
   },
   "source": [
    "### Inspect the submission.csv file  "
   ]
  },
  {
   "cell_type": "code",
   "execution_count": 170,
   "id": "32b235b0",
   "metadata": {
    "execution": {
     "iopub.execute_input": "2023-08-12T18:15:52.958154Z",
     "iopub.status.busy": "2023-08-12T18:15:52.956729Z",
     "iopub.status.idle": "2023-08-12T18:15:52.962347Z",
     "shell.execute_reply": "2023-08-12T18:15:52.961286Z"
    },
    "papermill": {
     "duration": 0.117166,
     "end_time": "2023-08-12T18:15:52.965152",
     "exception": false,
     "start_time": "2023-08-12T18:15:52.847986",
     "status": "completed"
    },
    "tags": []
   },
   "outputs": [],
   "source": [
    "# sub = pd.read_csv('submission.csv')\n",
    "# sub.shape, sub.head()"
   ]
  },
  {
   "cell_type": "code",
   "execution_count": 171,
   "id": "ec90d8b4",
   "metadata": {
    "execution": {
     "iopub.execute_input": "2023-08-12T18:15:53.175164Z",
     "iopub.status.busy": "2023-08-12T18:15:53.174715Z",
     "iopub.status.idle": "2023-08-12T18:15:53.179968Z",
     "shell.execute_reply": "2023-08-12T18:15:53.178682Z"
    },
    "papermill": {
     "duration": 0.11337,
     "end_time": "2023-08-12T18:15:53.182377",
     "exception": false,
     "start_time": "2023-08-12T18:15:53.069007",
     "status": "completed"
    },
    "tags": []
   },
   "outputs": [],
   "source": [
    "# sub['sentiment'].value_counts()"
   ]
  },
  {
   "cell_type": "markdown",
   "id": "1e99eb2b",
   "metadata": {
    "papermill": {
     "duration": 0.115233,
     "end_time": "2023-08-12T18:15:53.420650",
     "exception": false,
     "start_time": "2023-08-12T18:15:53.305417",
     "status": "completed"
    },
    "tags": []
   },
   "source": [
    "## submit_v3 for merged file models - does not retrain on whole data  "
   ]
  },
  {
   "cell_type": "code",
   "execution_count": 172,
   "id": "2775e46c",
   "metadata": {
    "execution": {
     "iopub.execute_input": "2023-08-12T18:15:53.651416Z",
     "iopub.status.busy": "2023-08-12T18:15:53.650997Z",
     "iopub.status.idle": "2023-08-12T18:15:53.656073Z",
     "shell.execute_reply": "2023-08-12T18:15:53.655233Z"
    },
    "papermill": {
     "duration": 0.126575,
     "end_time": "2023-08-12T18:15:53.658244",
     "exception": false,
     "start_time": "2023-08-12T18:15:53.531669",
     "status": "completed"
    },
    "tags": []
   },
   "outputs": [],
   "source": [
    "# def submit_v3(selected_model=pipe_final):\n",
    "#     '''\n",
    "#     Note that \"selected_preprocessor\" is already used within selected_model or pipeline\n",
    "#     '''\n",
    "      \n",
    "#     # Predict on test.csv file\n",
    "#     merged_test = select_features(load_csv(\"test\"), load_csv(\"movies\"))\n",
    "#     X_test = merged_test.copy()\n",
    "    \n",
    "#     X_test = X_test[[\"audienceScore\", \"rating\", \"isFrequentReviewer\", \"reviewText\"]]    # This is a new line\n",
    "\n",
    "    \n",
    "#     y_pred = selected_model.predict(X_test)\n",
    "    \n",
    "#     pred_df = pd.DataFrame(y_pred)\n",
    "#     pred_df.columns = [\"sentiment\"]\n",
    "#     pred_df.index.name = \"id\"\n",
    "#     pred_df.to_csv(\"submission.csv\")\n",
    "    \n",
    "#     return \"Successfully created the submission file!!!\""
   ]
  },
  {
   "cell_type": "markdown",
   "id": "e1592507",
   "metadata": {
    "papermill": {
     "duration": 0.103926,
     "end_time": "2023-08-12T18:15:53.868284",
     "exception": false,
     "start_time": "2023-08-12T18:15:53.764358",
     "status": "completed"
    },
    "tags": []
   },
   "source": [
    "### Uncomment to submit using v3 of submit function  "
   ]
  },
  {
   "cell_type": "code",
   "execution_count": 173,
   "id": "60a5ff98",
   "metadata": {
    "execution": {
     "iopub.execute_input": "2023-08-12T18:15:54.083239Z",
     "iopub.status.busy": "2023-08-12T18:15:54.082494Z",
     "iopub.status.idle": "2023-08-12T18:15:54.086598Z",
     "shell.execute_reply": "2023-08-12T18:15:54.085830Z"
    },
    "papermill": {
     "duration": 0.111739,
     "end_time": "2023-08-12T18:15:54.089204",
     "exception": false,
     "start_time": "2023-08-12T18:15:53.977465",
     "status": "completed"
    },
    "tags": []
   },
   "outputs": [],
   "source": [
    "# submit_v3(selected_model=pipe_best4)"
   ]
  },
  {
   "cell_type": "markdown",
   "id": "08b8a256",
   "metadata": {
    "papermill": {
     "duration": 0.107831,
     "end_time": "2023-08-12T18:15:54.305437",
     "exception": false,
     "start_time": "2023-08-12T18:15:54.197606",
     "status": "completed"
    },
    "tags": []
   },
   "source": [
    "## Rough work  "
   ]
  },
  {
   "cell_type": "code",
   "execution_count": 174,
   "id": "85c6de1e",
   "metadata": {
    "execution": {
     "iopub.execute_input": "2023-08-12T18:15:54.513196Z",
     "iopub.status.busy": "2023-08-12T18:15:54.512517Z",
     "iopub.status.idle": "2023-08-12T18:16:00.617747Z",
     "shell.execute_reply": "2023-08-12T18:16:00.616566Z"
    },
    "papermill": {
     "duration": 6.212384,
     "end_time": "2023-08-12T18:16:00.620548",
     "exception": false,
     "start_time": "2023-08-12T18:15:54.408164",
     "status": "completed"
    },
    "tags": []
   },
   "outputs": [],
   "source": [
    "    # Predict on test.csv file\n",
    "    merged_test = select_features(load_csv(\"test\"), load_csv(\"movies\"))\n",
    "    X_test = merged_test.copy()\n",
    "    \n",
    "    X_test = X_test[[\"audienceScore\", \"rating\", \"isFrequentReviewer\", \"reviewText\"]]    # This is a new line"
   ]
  },
  {
   "cell_type": "code",
   "execution_count": 175,
   "id": "90aab65c",
   "metadata": {
    "execution": {
     "iopub.execute_input": "2023-08-12T18:16:00.901532Z",
     "iopub.status.busy": "2023-08-12T18:16:00.901106Z",
     "iopub.status.idle": "2023-08-12T18:16:00.905608Z",
     "shell.execute_reply": "2023-08-12T18:16:00.904484Z"
    },
    "papermill": {
     "duration": 0.113124,
     "end_time": "2023-08-12T18:16:00.908300",
     "exception": false,
     "start_time": "2023-08-12T18:16:00.795176",
     "status": "completed"
    },
    "tags": []
   },
   "outputs": [],
   "source": [
    "# X_test.head()"
   ]
  },
  {
   "cell_type": "code",
   "execution_count": 176,
   "id": "ff342233",
   "metadata": {
    "execution": {
     "iopub.execute_input": "2023-08-12T18:16:01.122415Z",
     "iopub.status.busy": "2023-08-12T18:16:01.121988Z",
     "iopub.status.idle": "2023-08-12T18:16:01.126553Z",
     "shell.execute_reply": "2023-08-12T18:16:01.125476Z"
    },
    "papermill": {
     "duration": 0.113953,
     "end_time": "2023-08-12T18:16:01.129018",
     "exception": false,
     "start_time": "2023-08-12T18:16:01.015065",
     "status": "completed"
    },
    "tags": []
   },
   "outputs": [],
   "source": [
    "# X_test['audienceScore'].describe()"
   ]
  },
  {
   "cell_type": "code",
   "execution_count": 177,
   "id": "992d7df2",
   "metadata": {
    "execution": {
     "iopub.execute_input": "2023-08-12T18:16:01.341387Z",
     "iopub.status.busy": "2023-08-12T18:16:01.340963Z",
     "iopub.status.idle": "2023-08-12T18:16:01.345539Z",
     "shell.execute_reply": "2023-08-12T18:16:01.344354Z"
    },
    "papermill": {
     "duration": 0.112399,
     "end_time": "2023-08-12T18:16:01.347938",
     "exception": false,
     "start_time": "2023-08-12T18:16:01.235539",
     "status": "completed"
    },
    "tags": []
   },
   "outputs": [],
   "source": [
    "# X_test['rating'].value_counts()"
   ]
  },
  {
   "cell_type": "code",
   "execution_count": 178,
   "id": "0f9c9e6e",
   "metadata": {
    "execution": {
     "iopub.execute_input": "2023-08-12T18:16:01.558335Z",
     "iopub.status.busy": "2023-08-12T18:16:01.557933Z",
     "iopub.status.idle": "2023-08-12T18:16:01.562443Z",
     "shell.execute_reply": "2023-08-12T18:16:01.561242Z"
    },
    "papermill": {
     "duration": 0.112866,
     "end_time": "2023-08-12T18:16:01.564917",
     "exception": false,
     "start_time": "2023-08-12T18:16:01.452051",
     "status": "completed"
    },
    "tags": []
   },
   "outputs": [],
   "source": [
    "# X_test['isFrequentReviewer'].value_counts()"
   ]
  },
  {
   "cell_type": "markdown",
   "id": "175468af",
   "metadata": {
    "papermill": {
     "duration": 0.10422,
     "end_time": "2023-08-12T18:16:01.775703",
     "exception": false,
     "start_time": "2023-08-12T18:16:01.671483",
     "status": "completed"
    },
    "tags": []
   },
   "source": [
    "## Implement KNN classifier  "
   ]
  },
  {
   "cell_type": "code",
   "execution_count": 179,
   "id": "ea350eee",
   "metadata": {
    "execution": {
     "iopub.execute_input": "2023-08-12T18:16:01.988024Z",
     "iopub.status.busy": "2023-08-12T18:16:01.987597Z",
     "iopub.status.idle": "2023-08-12T18:16:01.992185Z",
     "shell.execute_reply": "2023-08-12T18:16:01.991105Z"
    },
    "papermill": {
     "duration": 0.115036,
     "end_time": "2023-08-12T18:16:01.994390",
     "exception": false,
     "start_time": "2023-08-12T18:16:01.879354",
     "status": "completed"
    },
    "tags": []
   },
   "outputs": [],
   "source": [
    "# from sklearn.neighbors import KNeighborsClassifier"
   ]
  },
  {
   "cell_type": "code",
   "execution_count": 180,
   "id": "f48f59f3",
   "metadata": {
    "execution": {
     "iopub.execute_input": "2023-08-12T18:16:02.206229Z",
     "iopub.status.busy": "2023-08-12T18:16:02.205771Z",
     "iopub.status.idle": "2023-08-12T18:16:02.210159Z",
     "shell.execute_reply": "2023-08-12T18:16:02.208971Z"
    },
    "papermill": {
     "duration": 0.113444,
     "end_time": "2023-08-12T18:16:02.212735",
     "exception": false,
     "start_time": "2023-08-12T18:16:02.099291",
     "status": "completed"
    },
    "tags": []
   },
   "outputs": [],
   "source": [
    "# Note that we are borrowing \"ct_final\" column transformer from above  "
   ]
  },
  {
   "cell_type": "code",
   "execution_count": 181,
   "id": "ee89e1f7",
   "metadata": {
    "execution": {
     "iopub.execute_input": "2023-08-12T18:16:02.422483Z",
     "iopub.status.busy": "2023-08-12T18:16:02.422058Z",
     "iopub.status.idle": "2023-08-12T18:16:02.426779Z",
     "shell.execute_reply": "2023-08-12T18:16:02.425867Z"
    },
    "papermill": {
     "duration": 0.111535,
     "end_time": "2023-08-12T18:16:02.429029",
     "exception": false,
     "start_time": "2023-08-12T18:16:02.317494",
     "status": "completed"
    },
    "tags": []
   },
   "outputs": [],
   "source": [
    "# pipe_knn = Pipeline(steps=[\n",
    "#                         (\"preprocessor\", ct_final),\n",
    "#                         (\"model\", KNeighborsClassifier())\n",
    "#                     ])\n",
    "# pipe_knn"
   ]
  },
  {
   "cell_type": "code",
   "execution_count": 182,
   "id": "d0b35475",
   "metadata": {
    "execution": {
     "iopub.execute_input": "2023-08-12T18:16:02.637441Z",
     "iopub.status.busy": "2023-08-12T18:16:02.637058Z",
     "iopub.status.idle": "2023-08-12T18:16:02.641653Z",
     "shell.execute_reply": "2023-08-12T18:16:02.640537Z"
    },
    "papermill": {
     "duration": 0.111686,
     "end_time": "2023-08-12T18:16:02.643800",
     "exception": false,
     "start_time": "2023-08-12T18:16:02.532114",
     "status": "completed"
    },
    "tags": []
   },
   "outputs": [],
   "source": [
    "# Train and predict on merged training data  \n",
    "# split_train_predict(merged_train_features, merged_train_labels, pipe_knn, test_size=0.25, random_state=42)"
   ]
  },
  {
   "cell_type": "markdown",
   "id": "f190d0e2",
   "metadata": {
    "papermill": {
     "duration": 0.103672,
     "end_time": "2023-08-12T18:16:02.852910",
     "exception": false,
     "start_time": "2023-08-12T18:16:02.749238",
     "status": "completed"
    },
    "tags": []
   },
   "source": [
    "# Part I (Older code)  "
   ]
  },
  {
   "cell_type": "markdown",
   "id": "e27fae47",
   "metadata": {
    "papermill": {
     "duration": 0.105884,
     "end_time": "2023-08-12T18:16:03.065088",
     "exception": false,
     "start_time": "2023-08-12T18:16:02.959204",
     "status": "completed"
    },
    "tags": []
   },
   "source": [
    "### Logistic Regression with stop words  "
   ]
  },
  {
   "cell_type": "code",
   "execution_count": 183,
   "id": "2b6e8c92",
   "metadata": {
    "execution": {
     "iopub.execute_input": "2023-08-12T18:16:03.276255Z",
     "iopub.status.busy": "2023-08-12T18:16:03.275838Z",
     "iopub.status.idle": "2023-08-12T18:16:03.280292Z",
     "shell.execute_reply": "2023-08-12T18:16:03.279161Z"
    },
    "papermill": {
     "duration": 0.112638,
     "end_time": "2023-08-12T18:16:03.282578",
     "exception": false,
     "start_time": "2023-08-12T18:16:03.169940",
     "status": "completed"
    },
    "tags": []
   },
   "outputs": [],
   "source": [
    "# tvec_sw = TfidfVectorizer(stop_words=stop_words)"
   ]
  },
  {
   "cell_type": "code",
   "execution_count": 184,
   "id": "f16fd07e",
   "metadata": {
    "execution": {
     "iopub.execute_input": "2023-08-12T18:16:03.494234Z",
     "iopub.status.busy": "2023-08-12T18:16:03.493549Z",
     "iopub.status.idle": "2023-08-12T18:16:03.498768Z",
     "shell.execute_reply": "2023-08-12T18:16:03.497626Z"
    },
    "papermill": {
     "duration": 0.112443,
     "end_time": "2023-08-12T18:16:03.501112",
     "exception": false,
     "start_time": "2023-08-12T18:16:03.388669",
     "status": "completed"
    },
    "tags": []
   },
   "outputs": [],
   "source": [
    "# logreg_sw_pipe = preprocess_n_train(X_train, y_train, tvec_sw, logreg)\n",
    "# logreg_sw_pipe"
   ]
  },
  {
   "cell_type": "code",
   "execution_count": 185,
   "id": "a8087cbb",
   "metadata": {
    "execution": {
     "iopub.execute_input": "2023-08-12T18:16:03.710002Z",
     "iopub.status.busy": "2023-08-12T18:16:03.709614Z",
     "iopub.status.idle": "2023-08-12T18:16:03.714223Z",
     "shell.execute_reply": "2023-08-12T18:16:03.713021Z"
    },
    "papermill": {
     "duration": 0.111845,
     "end_time": "2023-08-12T18:16:03.716321",
     "exception": false,
     "start_time": "2023-08-12T18:16:03.604476",
     "status": "completed"
    },
    "tags": []
   },
   "outputs": [],
   "source": [
    "# y_pred_logreg_sw = predict_n_evaluate(logreg_sw_pipe, X_test, y_test)\n",
    "# y_pred_logreg_sw"
   ]
  },
  {
   "cell_type": "markdown",
   "id": "56695369",
   "metadata": {
    "papermill": {
     "duration": 0.103653,
     "end_time": "2023-08-12T18:16:03.923223",
     "exception": false,
     "start_time": "2023-08-12T18:16:03.819570",
     "status": "completed"
    },
    "tags": []
   },
   "source": [
    "### Logistic regression with different ngram ranges  "
   ]
  },
  {
   "cell_type": "code",
   "execution_count": 186,
   "id": "3dd6ee16",
   "metadata": {
    "execution": {
     "iopub.execute_input": "2023-08-12T18:16:04.135825Z",
     "iopub.status.busy": "2023-08-12T18:16:04.135462Z",
     "iopub.status.idle": "2023-08-12T18:16:04.139443Z",
     "shell.execute_reply": "2023-08-12T18:16:04.138450Z"
    },
    "papermill": {
     "duration": 0.113722,
     "end_time": "2023-08-12T18:16:04.141779",
     "exception": false,
     "start_time": "2023-08-12T18:16:04.028057",
     "status": "completed"
    },
    "tags": []
   },
   "outputs": [],
   "source": [
    "# tvec_ngram_2 = TfidfVectorizer(ngram_range=(1,2))"
   ]
  },
  {
   "cell_type": "code",
   "execution_count": 187,
   "id": "09f49059",
   "metadata": {
    "execution": {
     "iopub.execute_input": "2023-08-12T18:16:04.354830Z",
     "iopub.status.busy": "2023-08-12T18:16:04.354410Z",
     "iopub.status.idle": "2023-08-12T18:16:04.359041Z",
     "shell.execute_reply": "2023-08-12T18:16:04.357975Z"
    },
    "papermill": {
     "duration": 0.114221,
     "end_time": "2023-08-12T18:16:04.361306",
     "exception": false,
     "start_time": "2023-08-12T18:16:04.247085",
     "status": "completed"
    },
    "tags": []
   },
   "outputs": [],
   "source": [
    "# logreg_ng2_pipe = preprocess_n_train(X_train, y_train, tvec_ngram_2, logreg)\n",
    "# logreg_ng2_pipe"
   ]
  },
  {
   "cell_type": "code",
   "execution_count": 188,
   "id": "a9bd65ca",
   "metadata": {
    "execution": {
     "iopub.execute_input": "2023-08-12T18:16:04.571559Z",
     "iopub.status.busy": "2023-08-12T18:16:04.571169Z",
     "iopub.status.idle": "2023-08-12T18:16:04.575177Z",
     "shell.execute_reply": "2023-08-12T18:16:04.574165Z"
    },
    "papermill": {
     "duration": 0.112826,
     "end_time": "2023-08-12T18:16:04.577489",
     "exception": false,
     "start_time": "2023-08-12T18:16:04.464663",
     "status": "completed"
    },
    "tags": []
   },
   "outputs": [],
   "source": [
    "# y_pred_logreg_ng2 = predict_n_evaluate(logreg_ng2_pipe, X_test, y_test)\n",
    "# y_pred_logreg_ng2"
   ]
  },
  {
   "cell_type": "markdown",
   "id": "a5ee2ae3",
   "metadata": {
    "papermill": {
     "duration": 0.103723,
     "end_time": "2023-08-12T18:16:04.787442",
     "exception": false,
     "start_time": "2023-08-12T18:16:04.683719",
     "status": "completed"
    },
    "tags": []
   },
   "source": [
    "### Logistic regression with C=2, ngram range (1,2), stop words as None and min_df, max_df adjusted\n",
    "### Class weight balanced"
   ]
  },
  {
   "cell_type": "code",
   "execution_count": 189,
   "id": "c9a04c27",
   "metadata": {
    "execution": {
     "iopub.execute_input": "2023-08-12T18:16:04.999544Z",
     "iopub.status.busy": "2023-08-12T18:16:04.999148Z",
     "iopub.status.idle": "2023-08-12T18:16:05.003541Z",
     "shell.execute_reply": "2023-08-12T18:16:05.002448Z"
    },
    "papermill": {
     "duration": 0.114189,
     "end_time": "2023-08-12T18:16:05.005670",
     "exception": false,
     "start_time": "2023-08-12T18:16:04.891481",
     "status": "completed"
    },
    "tags": []
   },
   "outputs": [],
   "source": [
    "# logreg = LogisticRegression(max_iter=100000, C=2, class_weight=\"balanced\")"
   ]
  },
  {
   "cell_type": "code",
   "execution_count": 190,
   "id": "3cd11dba",
   "metadata": {
    "execution": {
     "iopub.execute_input": "2023-08-12T18:16:05.219100Z",
     "iopub.status.busy": "2023-08-12T18:16:05.218663Z",
     "iopub.status.idle": "2023-08-12T18:16:05.223163Z",
     "shell.execute_reply": "2023-08-12T18:16:05.222238Z"
    },
    "papermill": {
     "duration": 0.113908,
     "end_time": "2023-08-12T18:16:05.225245",
     "exception": false,
     "start_time": "2023-08-12T18:16:05.111337",
     "status": "completed"
    },
    "tags": []
   },
   "outputs": [],
   "source": [
    "# tvec_ngram_2_sw_df = TfidfVectorizer(ngram_range=(1,2), stop_words=None, min_df=0.0001, max_df=0.50)\n",
    "# tvec_ngram_2_sw_df"
   ]
  },
  {
   "cell_type": "code",
   "execution_count": 191,
   "id": "95716e2b",
   "metadata": {
    "execution": {
     "iopub.execute_input": "2023-08-12T18:16:05.434388Z",
     "iopub.status.busy": "2023-08-12T18:16:05.433993Z",
     "iopub.status.idle": "2023-08-12T18:16:05.438053Z",
     "shell.execute_reply": "2023-08-12T18:16:05.437159Z"
    },
    "papermill": {
     "duration": 0.111034,
     "end_time": "2023-08-12T18:16:05.440069",
     "exception": false,
     "start_time": "2023-08-12T18:16:05.329035",
     "status": "completed"
    },
    "tags": []
   },
   "outputs": [],
   "source": [
    "# logreg_ng2_sw_df_pipe = preprocess_n_train(X_train, y_train, tvec_ngram_2_sw_df, logreg)\n",
    "# logreg_ng2_sw_df_pipe"
   ]
  },
  {
   "cell_type": "code",
   "execution_count": 192,
   "id": "1b8c2333",
   "metadata": {
    "execution": {
     "iopub.execute_input": "2023-08-12T18:16:05.649954Z",
     "iopub.status.busy": "2023-08-12T18:16:05.649124Z",
     "iopub.status.idle": "2023-08-12T18:16:05.653336Z",
     "shell.execute_reply": "2023-08-12T18:16:05.652343Z"
    },
    "papermill": {
     "duration": 0.112114,
     "end_time": "2023-08-12T18:16:05.655598",
     "exception": false,
     "start_time": "2023-08-12T18:16:05.543484",
     "status": "completed"
    },
    "tags": []
   },
   "outputs": [],
   "source": [
    "# y_pred_logreg_ng2_sw_df = predict_n_evaluate(logreg_ng2_sw_df_pipe, X_test, y_test)\n",
    "# y_pred_logreg_ng2_sw_df"
   ]
  },
  {
   "cell_type": "markdown",
   "id": "c62d27a8",
   "metadata": {
    "papermill": {
     "duration": 0.103643,
     "end_time": "2023-08-12T18:16:05.862620",
     "exception": false,
     "start_time": "2023-08-12T18:16:05.758977",
     "status": "completed"
    },
    "tags": []
   },
   "source": [
    "### Log reg with parameters from GridSearchCV  \n",
    "\n",
    "`This is the best score with \"reviewText column alone for analysis`  "
   ]
  },
  {
   "cell_type": "code",
   "execution_count": 193,
   "id": "568e12cb",
   "metadata": {
    "execution": {
     "iopub.execute_input": "2023-08-12T18:16:06.080210Z",
     "iopub.status.busy": "2023-08-12T18:16:06.079793Z",
     "iopub.status.idle": "2023-08-12T18:16:06.085853Z",
     "shell.execute_reply": "2023-08-12T18:16:06.084711Z"
    },
    "papermill": {
     "duration": 0.117162,
     "end_time": "2023-08-12T18:16:06.088283",
     "exception": false,
     "start_time": "2023-08-12T18:16:05.971121",
     "status": "completed"
    },
    "tags": []
   },
   "outputs": [],
   "source": [
    "logreg_cv1 = LogisticRegression(max_iter=100000, C=10)\n",
    "tvec_cv1 = TfidfVectorizer(max_features=None, ngram_range=(1,2))"
   ]
  },
  {
   "cell_type": "code",
   "execution_count": 194,
   "id": "0087f17b",
   "metadata": {
    "execution": {
     "iopub.execute_input": "2023-08-12T18:16:06.299605Z",
     "iopub.status.busy": "2023-08-12T18:16:06.299223Z",
     "iopub.status.idle": "2023-08-12T18:16:06.303876Z",
     "shell.execute_reply": "2023-08-12T18:16:06.303122Z"
    },
    "papermill": {
     "duration": 0.114146,
     "end_time": "2023-08-12T18:16:06.306112",
     "exception": false,
     "start_time": "2023-08-12T18:16:06.191966",
     "status": "completed"
    },
    "tags": []
   },
   "outputs": [],
   "source": [
    "pipe_cv1 = Pipeline(steps=[\n",
    "    (\"preprocessor\", tvec_cv1),\n",
    "    (\"model\", logreg_cv1)\n",
    "])"
   ]
  },
  {
   "cell_type": "code",
   "execution_count": 195,
   "id": "fcabe81f",
   "metadata": {
    "execution": {
     "iopub.execute_input": "2023-08-12T18:16:06.517777Z",
     "iopub.status.busy": "2023-08-12T18:16:06.517357Z",
     "iopub.status.idle": "2023-08-12T18:16:06.522083Z",
     "shell.execute_reply": "2023-08-12T18:16:06.521038Z"
    },
    "papermill": {
     "duration": 0.112392,
     "end_time": "2023-08-12T18:16:06.524463",
     "exception": false,
     "start_time": "2023-08-12T18:16:06.412071",
     "status": "completed"
    },
    "tags": []
   },
   "outputs": [],
   "source": [
    "# pipe_cv1.fit(X_train, y_train)"
   ]
  },
  {
   "cell_type": "code",
   "execution_count": 196,
   "id": "d3a57803",
   "metadata": {
    "execution": {
     "iopub.execute_input": "2023-08-12T18:16:06.735094Z",
     "iopub.status.busy": "2023-08-12T18:16:06.734638Z",
     "iopub.status.idle": "2023-08-12T18:16:06.740038Z",
     "shell.execute_reply": "2023-08-12T18:16:06.738782Z"
    },
    "papermill": {
     "duration": 0.112994,
     "end_time": "2023-08-12T18:16:06.742640",
     "exception": false,
     "start_time": "2023-08-12T18:16:06.629646",
     "status": "completed"
    },
    "tags": []
   },
   "outputs": [],
   "source": [
    "# pipe_cv1.score(X_train, y_train)"
   ]
  },
  {
   "cell_type": "markdown",
   "id": "b4ca1c86",
   "metadata": {
    "papermill": {
     "duration": 0.116597,
     "end_time": "2023-08-12T18:16:06.964813",
     "exception": false,
     "start_time": "2023-08-12T18:16:06.848216",
     "status": "completed"
    },
    "tags": []
   },
   "source": [
    "### SVM model with stop words  "
   ]
  },
  {
   "cell_type": "code",
   "execution_count": 197,
   "id": "53ae86a6",
   "metadata": {
    "execution": {
     "iopub.execute_input": "2023-08-12T18:16:07.186783Z",
     "iopub.status.busy": "2023-08-12T18:16:07.186339Z",
     "iopub.status.idle": "2023-08-12T18:16:07.191089Z",
     "shell.execute_reply": "2023-08-12T18:16:07.190022Z"
    },
    "papermill": {
     "duration": 0.112348,
     "end_time": "2023-08-12T18:16:07.193220",
     "exception": false,
     "start_time": "2023-08-12T18:16:07.080872",
     "status": "completed"
    },
    "tags": []
   },
   "outputs": [],
   "source": [
    "# svm_sw_pipe = preprocess_n_train(X_train, y_train, tvec_sw, svm)\n",
    "# svm_sw_pipe"
   ]
  },
  {
   "cell_type": "code",
   "execution_count": 198,
   "id": "7014b73e",
   "metadata": {
    "execution": {
     "iopub.execute_input": "2023-08-12T18:16:07.402908Z",
     "iopub.status.busy": "2023-08-12T18:16:07.402511Z",
     "iopub.status.idle": "2023-08-12T18:16:07.406921Z",
     "shell.execute_reply": "2023-08-12T18:16:07.405767Z"
    },
    "papermill": {
     "duration": 0.111794,
     "end_time": "2023-08-12T18:16:07.409152",
     "exception": false,
     "start_time": "2023-08-12T18:16:07.297358",
     "status": "completed"
    },
    "tags": []
   },
   "outputs": [],
   "source": [
    "# y_pred_svm_sw = predict_n_evaluate(svm_sw_pipe, X_test, y_test)\n",
    "# y_pred_svm_sw"
   ]
  },
  {
   "cell_type": "markdown",
   "id": "d9809ece",
   "metadata": {
    "papermill": {
     "duration": 0.104315,
     "end_time": "2023-08-12T18:16:07.617671",
     "exception": false,
     "start_time": "2023-08-12T18:16:07.513356",
     "status": "completed"
    },
    "tags": []
   },
   "source": [
    "### GaussianNB  "
   ]
  },
  {
   "cell_type": "markdown",
   "id": "4e2d9177",
   "metadata": {
    "papermill": {
     "duration": 0.103847,
     "end_time": "2023-08-12T18:16:07.825973",
     "exception": false,
     "start_time": "2023-08-12T18:16:07.722126",
     "status": "completed"
    },
    "tags": []
   },
   "source": [
    "https://stackoverflow.com/questions/28384680/scikit-learns-pipeline-a-sparse-matrix-was-passed-but-dense-data-is-required"
   ]
  },
  {
   "cell_type": "code",
   "execution_count": 199,
   "id": "7d32807f",
   "metadata": {
    "execution": {
     "iopub.execute_input": "2023-08-12T18:16:08.109122Z",
     "iopub.status.busy": "2023-08-12T18:16:08.108478Z",
     "iopub.status.idle": "2023-08-12T18:16:08.113293Z",
     "shell.execute_reply": "2023-08-12T18:16:08.112087Z"
    },
    "papermill": {
     "duration": 0.11377,
     "end_time": "2023-08-12T18:16:08.115587",
     "exception": false,
     "start_time": "2023-08-12T18:16:08.001817",
     "status": "completed"
    },
    "tags": []
   },
   "outputs": [],
   "source": [
    "# gnb = GaussianNB()\n",
    "# gnb"
   ]
  },
  {
   "cell_type": "code",
   "execution_count": 200,
   "id": "006dc85f",
   "metadata": {
    "execution": {
     "iopub.execute_input": "2023-08-12T18:16:08.327969Z",
     "iopub.status.busy": "2023-08-12T18:16:08.327529Z",
     "iopub.status.idle": "2023-08-12T18:16:08.332017Z",
     "shell.execute_reply": "2023-08-12T18:16:08.330944Z"
    },
    "papermill": {
     "duration": 0.113329,
     "end_time": "2023-08-12T18:16:08.334164",
     "exception": false,
     "start_time": "2023-08-12T18:16:08.220835",
     "status": "completed"
    },
    "tags": []
   },
   "outputs": [],
   "source": [
    "# gnb_pipe = preprocess_n_train(X_train, y_train, tvec, gnb)\n",
    "# gnb_pipe"
   ]
  },
  {
   "cell_type": "markdown",
   "id": "d1a1fdaf",
   "metadata": {
    "papermill": {
     "duration": 0.103739,
     "end_time": "2023-08-12T18:16:08.543368",
     "exception": false,
     "start_time": "2023-08-12T18:16:08.439629",
     "status": "completed"
    },
    "tags": []
   },
   "source": [
    "# Part II (Older code)  \n"
   ]
  },
  {
   "cell_type": "markdown",
   "id": "e0106985",
   "metadata": {
    "papermill": {
     "duration": 0.10343,
     "end_time": "2023-08-12T18:16:08.751915",
     "exception": false,
     "start_time": "2023-08-12T18:16:08.648485",
     "status": "completed"
    },
    "tags": []
   },
   "source": [
    "### Separate features and labels from merged dataset  "
   ]
  },
  {
   "cell_type": "code",
   "execution_count": 201,
   "id": "30705236",
   "metadata": {
    "execution": {
     "iopub.execute_input": "2023-08-12T18:16:08.963603Z",
     "iopub.status.busy": "2023-08-12T18:16:08.963188Z",
     "iopub.status.idle": "2023-08-12T18:16:08.968268Z",
     "shell.execute_reply": "2023-08-12T18:16:08.967231Z"
    },
    "papermill": {
     "duration": 0.113257,
     "end_time": "2023-08-12T18:16:08.970491",
     "exception": false,
     "start_time": "2023-08-12T18:16:08.857234",
     "status": "completed"
    },
    "tags": []
   },
   "outputs": [],
   "source": [
    "# merged_train_features = merged[['movieid', 'reviewerName', 'isFrequentReviewer', 'reviewText',\n",
    "#        'audienceScore', 'rating', 'runtimeMinutes', 'genre',\n",
    "#        'originalLanguage', 'director']]\n",
    "# merged_train_features.shape"
   ]
  },
  {
   "cell_type": "code",
   "execution_count": 202,
   "id": "79336fcd",
   "metadata": {
    "execution": {
     "iopub.execute_input": "2023-08-12T18:16:09.181445Z",
     "iopub.status.busy": "2023-08-12T18:16:09.180600Z",
     "iopub.status.idle": "2023-08-12T18:16:09.185495Z",
     "shell.execute_reply": "2023-08-12T18:16:09.184580Z"
    },
    "papermill": {
     "duration": 0.111458,
     "end_time": "2023-08-12T18:16:09.187605",
     "exception": false,
     "start_time": "2023-08-12T18:16:09.076147",
     "status": "completed"
    },
    "tags": []
   },
   "outputs": [],
   "source": [
    "# merged_train_labels = merged[\"sentiment\"]\n",
    "# merged_train_labels.shape"
   ]
  },
  {
   "cell_type": "markdown",
   "id": "89cf1df2",
   "metadata": {
    "papermill": {
     "duration": 0.105969,
     "end_time": "2023-08-12T18:16:09.399663",
     "exception": false,
     "start_time": "2023-08-12T18:16:09.293694",
     "status": "completed"
    },
    "tags": []
   },
   "source": [
    "### Identify variable types for different preprocessing pipes  "
   ]
  },
  {
   "cell_type": "code",
   "execution_count": 203,
   "id": "dd1014a5",
   "metadata": {
    "execution": {
     "iopub.execute_input": "2023-08-12T18:16:09.610285Z",
     "iopub.status.busy": "2023-08-12T18:16:09.609544Z",
     "iopub.status.idle": "2023-08-12T18:16:09.613450Z",
     "shell.execute_reply": "2023-08-12T18:16:09.612739Z"
    },
    "papermill": {
     "duration": 0.111554,
     "end_time": "2023-08-12T18:16:09.615374",
     "exception": false,
     "start_time": "2023-08-12T18:16:09.503820",
     "status": "completed"
    },
    "tags": []
   },
   "outputs": [],
   "source": [
    "# num_vars = [\"audienceScore\", \"runtimeMinutes\"]\n",
    "# txt_vars = [\"originalLanguage\", \"genre\", \"director\", \"reviewerName\", \"reviewText\"]\n",
    "# cat_vars = [\"rating\", \"isFrequentReviewer\"]"
   ]
  },
  {
   "cell_type": "code",
   "execution_count": 204,
   "id": "fbe77bc9",
   "metadata": {
    "execution": {
     "iopub.execute_input": "2023-08-12T18:16:09.824709Z",
     "iopub.status.busy": "2023-08-12T18:16:09.823923Z",
     "iopub.status.idle": "2023-08-12T18:16:09.829860Z",
     "shell.execute_reply": "2023-08-12T18:16:09.828360Z"
    },
    "papermill": {
     "duration": 0.113031,
     "end_time": "2023-08-12T18:16:09.832242",
     "exception": false,
     "start_time": "2023-08-12T18:16:09.719211",
     "status": "completed"
    },
    "tags": []
   },
   "outputs": [],
   "source": [
    "# num_pipe = Pipeline(steps=[\n",
    "#                             (\"imputer\", SimpleImputer(strategy=\"mean\", missing_values=np.nan)),\n",
    "#                             (\"scaler\", MinMaxScaler())\n",
    "#                         ])\n",
    "# num_pipe"
   ]
  },
  {
   "cell_type": "code",
   "execution_count": 205,
   "id": "2de17f81",
   "metadata": {
    "execution": {
     "iopub.execute_input": "2023-08-12T18:16:10.044152Z",
     "iopub.status.busy": "2023-08-12T18:16:10.043696Z",
     "iopub.status.idle": "2023-08-12T18:16:10.049377Z",
     "shell.execute_reply": "2023-08-12T18:16:10.047723Z"
    },
    "papermill": {
     "duration": 0.115162,
     "end_time": "2023-08-12T18:16:10.051695",
     "exception": false,
     "start_time": "2023-08-12T18:16:09.936533",
     "status": "completed"
    },
    "tags": []
   },
   "outputs": [],
   "source": [
    "# txt_pipe = Pipeline(steps=[\n",
    "#                             (\"tvec\", TfidfVectorizer())\n",
    "#                         ])\n",
    "# txt_pipe"
   ]
  },
  {
   "cell_type": "code",
   "execution_count": 206,
   "id": "3d05c38e",
   "metadata": {
    "execution": {
     "iopub.execute_input": "2023-08-12T18:16:10.264328Z",
     "iopub.status.busy": "2023-08-12T18:16:10.263857Z",
     "iopub.status.idle": "2023-08-12T18:16:10.268691Z",
     "shell.execute_reply": "2023-08-12T18:16:10.267673Z"
    },
    "papermill": {
     "duration": 0.113373,
     "end_time": "2023-08-12T18:16:10.270986",
     "exception": false,
     "start_time": "2023-08-12T18:16:10.157613",
     "status": "completed"
    },
    "tags": []
   },
   "outputs": [],
   "source": [
    "# cat_pipe = Pipeline(steps=[\n",
    "#                             (\"ohe\", OneHotEncoder(handle_unknown=\"ignore\"))\n",
    "#                         ])\n",
    "# cat_pipe"
   ]
  },
  {
   "cell_type": "code",
   "execution_count": 207,
   "id": "47137e95",
   "metadata": {
    "execution": {
     "iopub.execute_input": "2023-08-12T18:16:10.482242Z",
     "iopub.status.busy": "2023-08-12T18:16:10.481795Z",
     "iopub.status.idle": "2023-08-12T18:16:10.486448Z",
     "shell.execute_reply": "2023-08-12T18:16:10.485304Z"
    },
    "papermill": {
     "duration": 0.112118,
     "end_time": "2023-08-12T18:16:10.488682",
     "exception": false,
     "start_time": "2023-08-12T18:16:10.376564",
     "status": "completed"
    },
    "tags": []
   },
   "outputs": [],
   "source": [
    "# tfidf_vec_1 = TfidfVectorizer(ngram_range=(1,2))\n",
    "# tfidf_vec_1"
   ]
  },
  {
   "cell_type": "code",
   "execution_count": 208,
   "id": "aaed963e",
   "metadata": {
    "execution": {
     "iopub.execute_input": "2023-08-12T18:16:10.698835Z",
     "iopub.status.busy": "2023-08-12T18:16:10.698426Z",
     "iopub.status.idle": "2023-08-12T18:16:10.703759Z",
     "shell.execute_reply": "2023-08-12T18:16:10.702654Z"
    },
    "papermill": {
     "duration": 0.112852,
     "end_time": "2023-08-12T18:16:10.705954",
     "exception": false,
     "start_time": "2023-08-12T18:16:10.593102",
     "status": "completed"
    },
    "tags": []
   },
   "outputs": [],
   "source": [
    "# ct_final = ColumnTransformer(transformers=[\n",
    "#                                         (\"num\", num_pipe, num_vars),\n",
    "#                                         (\"txt1\", txt_pipe, \"originalLanguage\"),\n",
    "#                                         (\"txt2\", txt_pipe, \"genre\"),\n",
    "#                                         (\"txt3\", txt_pipe, \"director\"),\n",
    "#                                         (\"cat\", cat_pipe, cat_vars),\n",
    "#                                         (\"txt4a\", tfidf_vec_1, \"reviewText\")\n",
    "# #                                         (\"txt4\", TfidfVectorizer(ngram_range=(1,2)), \"reviewText\"),\n",
    "# #                                         (\"cat2\", cat_pipe, [\"isFrequentReviewer\"])\n",
    "#                                         ], remainder=\"drop\", n_jobs=1)\n",
    "\n",
    "# # Note that this transformer drops \"movieid\" column and \"reviewerName\" column  \n",
    "# ct_final"
   ]
  },
  {
   "cell_type": "code",
   "execution_count": 209,
   "id": "2b32d506",
   "metadata": {
    "execution": {
     "iopub.execute_input": "2023-08-12T18:16:10.918269Z",
     "iopub.status.busy": "2023-08-12T18:16:10.917720Z",
     "iopub.status.idle": "2023-08-12T18:16:10.922837Z",
     "shell.execute_reply": "2023-08-12T18:16:10.921978Z"
    },
    "papermill": {
     "duration": 0.115099,
     "end_time": "2023-08-12T18:16:10.925018",
     "exception": false,
     "start_time": "2023-08-12T18:16:10.809919",
     "status": "completed"
    },
    "tags": []
   },
   "outputs": [],
   "source": [
    "# pipe_final = Pipeline(steps=[\n",
    "#                         (\"preprocessor\", ct_final),\n",
    "#                         (\"model\", LogisticRegression(max_iter=100000))\n",
    "#                     ])\n",
    "# pipe_final"
   ]
  },
  {
   "cell_type": "code",
   "execution_count": 210,
   "id": "211b52a7",
   "metadata": {
    "execution": {
     "iopub.execute_input": "2023-08-12T18:16:11.135686Z",
     "iopub.status.busy": "2023-08-12T18:16:11.135272Z",
     "iopub.status.idle": "2023-08-12T18:16:11.139812Z",
     "shell.execute_reply": "2023-08-12T18:16:11.138752Z"
    },
    "papermill": {
     "duration": 0.111568,
     "end_time": "2023-08-12T18:16:11.142041",
     "exception": false,
     "start_time": "2023-08-12T18:16:11.030473",
     "status": "completed"
    },
    "tags": []
   },
   "outputs": [],
   "source": [
    "# final_vars = num_vars + txt_vars + cat_vars\n",
    "# len(final_vars), final_vars"
   ]
  },
  {
   "cell_type": "markdown",
   "id": "fb0de862",
   "metadata": {
    "papermill": {
     "duration": 0.10301,
     "end_time": "2023-08-12T18:16:11.349307",
     "exception": false,
     "start_time": "2023-08-12T18:16:11.246297",
     "status": "completed"
    },
    "tags": []
   },
   "source": [
    "### Use \"split_train_predict\" function to run end-to-end pipeline  "
   ]
  },
  {
   "cell_type": "code",
   "execution_count": 211,
   "id": "b2c7e8bc",
   "metadata": {
    "execution": {
     "iopub.execute_input": "2023-08-12T18:16:11.558247Z",
     "iopub.status.busy": "2023-08-12T18:16:11.557833Z",
     "iopub.status.idle": "2023-08-12T18:16:11.562296Z",
     "shell.execute_reply": "2023-08-12T18:16:11.561313Z"
    },
    "papermill": {
     "duration": 0.111601,
     "end_time": "2023-08-12T18:16:11.564520",
     "exception": false,
     "start_time": "2023-08-12T18:16:11.452919",
     "status": "completed"
    },
    "tags": []
   },
   "outputs": [],
   "source": [
    "# split_train_predict(merged_train_features, merged_train_labels, pipe_final, test_size=0.25, random_state=42)"
   ]
  },
  {
   "cell_type": "markdown",
   "id": "97535ce7",
   "metadata": {
    "papermill": {
     "duration": 0.103088,
     "end_time": "2023-08-12T18:16:11.771109",
     "exception": false,
     "start_time": "2023-08-12T18:16:11.668021",
     "status": "completed"
    },
    "tags": []
   },
   "source": [
    "## Try the best four features obtained on local machine  "
   ]
  },
  {
   "cell_type": "code",
   "execution_count": 212,
   "id": "d72dd57b",
   "metadata": {
    "execution": {
     "iopub.execute_input": "2023-08-12T18:16:11.981524Z",
     "iopub.status.busy": "2023-08-12T18:16:11.980723Z",
     "iopub.status.idle": "2023-08-12T18:16:11.985800Z",
     "shell.execute_reply": "2023-08-12T18:16:11.984616Z"
    },
    "papermill": {
     "duration": 0.112186,
     "end_time": "2023-08-12T18:16:11.988108",
     "exception": false,
     "start_time": "2023-08-12T18:16:11.875922",
     "status": "completed"
    },
    "tags": []
   },
   "outputs": [],
   "source": [
    "# tfidf_vec_2 = TfidfVectorizer(ngram_range=(1,2))\n",
    "# tfidf_vec_2"
   ]
  },
  {
   "cell_type": "code",
   "execution_count": 213,
   "id": "2517d5b1",
   "metadata": {
    "execution": {
     "iopub.execute_input": "2023-08-12T18:16:12.203301Z",
     "iopub.status.busy": "2023-08-12T18:16:12.202917Z",
     "iopub.status.idle": "2023-08-12T18:16:12.207734Z",
     "shell.execute_reply": "2023-08-12T18:16:12.206666Z"
    },
    "papermill": {
     "duration": 0.11456,
     "end_time": "2023-08-12T18:16:12.210239",
     "exception": false,
     "start_time": "2023-08-12T18:16:12.095679",
     "status": "completed"
    },
    "tags": []
   },
   "outputs": [],
   "source": [
    "# ct_best4 = ColumnTransformer(transformers=[\n",
    "#                                             (\"num\", num_pipe, [\"audienceScore\"]),\n",
    "#                                             (\"cat\", cat_pipe, [\"rating\", \"isFrequentReviewer\"]),\n",
    "#                                             (\"tvec\", tfidf_vec_2, \"reviewText\")\n",
    "#                             ])\n",
    "\n",
    "# pipe_best4 = Pipeline(steps=[\n",
    "#     (\"preprocessor\", ct_best4),\n",
    "#     (\"model\", LogisticRegression())\n",
    "# ])\n",
    "\n",
    "# pipe_best4.set_params(model__C=10, model__max_iter=100000)\n",
    "\n",
    "# pipe_best4"
   ]
  },
  {
   "cell_type": "code",
   "execution_count": 214,
   "id": "39067a0d",
   "metadata": {
    "execution": {
     "iopub.execute_input": "2023-08-12T18:16:12.422774Z",
     "iopub.status.busy": "2023-08-12T18:16:12.422274Z",
     "iopub.status.idle": "2023-08-12T18:16:12.427451Z",
     "shell.execute_reply": "2023-08-12T18:16:12.426083Z"
    },
    "papermill": {
     "duration": 0.113959,
     "end_time": "2023-08-12T18:16:12.429651",
     "exception": false,
     "start_time": "2023-08-12T18:16:12.315692",
     "status": "completed"
    },
    "tags": []
   },
   "outputs": [],
   "source": [
    "# split_train_predict(merged[[\"audienceScore\", \"rating\", \"isFrequentReviewer\", \"reviewText\"]], merged[\"sentiment\"], pipe_best4, test_size=0.25)"
   ]
  },
  {
   "cell_type": "markdown",
   "id": "e9cb45d6",
   "metadata": {
    "papermill": {
     "duration": 0.104006,
     "end_time": "2023-08-12T18:16:12.639466",
     "exception": false,
     "start_time": "2023-08-12T18:16:12.535460",
     "status": "completed"
    },
    "tags": []
   },
   "source": [
    "## Try only 'reviewText' column  "
   ]
  },
  {
   "cell_type": "code",
   "execution_count": 215,
   "id": "8fd5bef5",
   "metadata": {
    "execution": {
     "iopub.execute_input": "2023-08-12T18:16:12.853194Z",
     "iopub.status.busy": "2023-08-12T18:16:12.852740Z",
     "iopub.status.idle": "2023-08-12T18:16:12.856827Z",
     "shell.execute_reply": "2023-08-12T18:16:12.855967Z"
    },
    "papermill": {
     "duration": 0.112302,
     "end_time": "2023-08-12T18:16:12.859047",
     "exception": false,
     "start_time": "2023-08-12T18:16:12.746745",
     "status": "completed"
    },
    "tags": []
   },
   "outputs": [],
   "source": [
    "# tfidf_vec_3 = TfidfVectorizer(ngram_range=(1,2))\n",
    "# tfidf_vec_3"
   ]
  },
  {
   "cell_type": "code",
   "execution_count": 216,
   "id": "8a7206eb",
   "metadata": {
    "execution": {
     "iopub.execute_input": "2023-08-12T18:16:13.071299Z",
     "iopub.status.busy": "2023-08-12T18:16:13.070836Z",
     "iopub.status.idle": "2023-08-12T18:16:13.076079Z",
     "shell.execute_reply": "2023-08-12T18:16:13.074453Z"
    },
    "papermill": {
     "duration": 0.115298,
     "end_time": "2023-08-12T18:16:13.078587",
     "exception": false,
     "start_time": "2023-08-12T18:16:12.963289",
     "status": "completed"
    },
    "tags": []
   },
   "outputs": [],
   "source": [
    "# ct_RTonly = ColumnTransformer(transformers=[\n",
    "#                                             ('txt', tfidf_vec_3, 'reviewText'),\n",
    "#                                             ], remainder='drop')\n",
    "# ct_RTonly"
   ]
  },
  {
   "cell_type": "code",
   "execution_count": 217,
   "id": "5f3c74f0",
   "metadata": {
    "execution": {
     "iopub.execute_input": "2023-08-12T18:16:13.291410Z",
     "iopub.status.busy": "2023-08-12T18:16:13.291031Z",
     "iopub.status.idle": "2023-08-12T18:16:13.295030Z",
     "shell.execute_reply": "2023-08-12T18:16:13.294112Z"
    },
    "papermill": {
     "duration": 0.112104,
     "end_time": "2023-08-12T18:16:13.297190",
     "exception": false,
     "start_time": "2023-08-12T18:16:13.185086",
     "status": "completed"
    },
    "tags": []
   },
   "outputs": [],
   "source": [
    "# pipe_RTonly = Pipeline(steps=[\n",
    "#     (\"preprocessor\", ct_RTonly),\n",
    "#     (\"model\", LogisticRegression())\n",
    "# ])\n",
    "\n",
    "# pipe_RTonly.set_params(model__C=10, model__max_iter=100000)\n",
    "\n",
    "# pipe_RTonly"
   ]
  },
  {
   "cell_type": "markdown",
   "id": "1d984590",
   "metadata": {
    "papermill": {
     "duration": 0.105059,
     "end_time": "2023-08-12T18:16:13.508800",
     "exception": false,
     "start_time": "2023-08-12T18:16:13.403741",
     "status": "completed"
    },
    "tags": []
   },
   "source": [
    "## Using the 'submit_v4' function  "
   ]
  },
  {
   "cell_type": "markdown",
   "id": "9deaead8",
   "metadata": {
    "papermill": {
     "duration": 0.104014,
     "end_time": "2023-08-12T18:16:13.718644",
     "exception": false,
     "start_time": "2023-08-12T18:16:13.614630",
     "status": "completed"
    },
    "tags": []
   },
   "source": [
    "### Try the best 4 parameters with submit_v4 function"
   ]
  },
  {
   "cell_type": "code",
   "execution_count": 218,
   "id": "fec955f3",
   "metadata": {
    "execution": {
     "iopub.execute_input": "2023-08-12T18:16:13.931269Z",
     "iopub.status.busy": "2023-08-12T18:16:13.930833Z",
     "iopub.status.idle": "2023-08-12T18:16:13.935045Z",
     "shell.execute_reply": "2023-08-12T18:16:13.934239Z"
    },
    "papermill": {
     "duration": 0.113705,
     "end_time": "2023-08-12T18:16:13.937230",
     "exception": false,
     "start_time": "2023-08-12T18:16:13.823525",
     "status": "completed"
    },
    "tags": []
   },
   "outputs": [],
   "source": [
    "# best4 = [\"audienceScore\", \"rating\", \"isFrequentReviewer\", \"reviewText\"]\n",
    "\n",
    "# best4_dict = {'cat': [\"rating\", \"isFrequentReviewer\"],\n",
    "#              'num': [\"audienceScore\"],\n",
    "#              'txt': ['reviewText']}\n",
    "\n",
    "# best4_dict = {'num': [\"audienceScore\"],\n",
    "#              'txt': ['reviewText', 'movieid', 'director']}\n",
    "\n",
    "# best4_dict"
   ]
  },
  {
   "cell_type": "code",
   "execution_count": 219,
   "id": "c4282349",
   "metadata": {
    "execution": {
     "iopub.execute_input": "2023-08-12T18:16:14.151262Z",
     "iopub.status.busy": "2023-08-12T18:16:14.150825Z",
     "iopub.status.idle": "2023-08-12T18:16:14.155676Z",
     "shell.execute_reply": "2023-08-12T18:16:14.154580Z"
    },
    "papermill": {
     "duration": 0.113991,
     "end_time": "2023-08-12T18:16:14.158105",
     "exception": false,
     "start_time": "2023-08-12T18:16:14.044114",
     "status": "completed"
    },
    "tags": []
   },
   "outputs": [],
   "source": [
    "# submit_v4(selected_features=best4_dict)"
   ]
  },
  {
   "cell_type": "markdown",
   "id": "09262a62",
   "metadata": {
    "papermill": {
     "duration": 0.103841,
     "end_time": "2023-08-12T18:16:14.365900",
     "exception": false,
     "start_time": "2023-08-12T18:16:14.262059",
     "status": "completed"
    },
    "tags": []
   },
   "source": [
    "### Try the best 3 parameters with submit_v4 function"
   ]
  },
  {
   "cell_type": "code",
   "execution_count": 220,
   "id": "02640354",
   "metadata": {
    "execution": {
     "iopub.execute_input": "2023-08-12T18:16:14.575824Z",
     "iopub.status.busy": "2023-08-12T18:16:14.575428Z",
     "iopub.status.idle": "2023-08-12T18:16:14.579909Z",
     "shell.execute_reply": "2023-08-12T18:16:14.578848Z"
    },
    "papermill": {
     "duration": 0.111981,
     "end_time": "2023-08-12T18:16:14.582425",
     "exception": false,
     "start_time": "2023-08-12T18:16:14.470444",
     "status": "completed"
    },
    "tags": []
   },
   "outputs": [],
   "source": [
    "# best3 = [\"audienceScore\", \"isFrequentReviewer\", \"reviewText\"]\n",
    "# best3_dict = {'cat': [\"isFrequentReviewer\"],\n",
    "#              'num': [\"audienceScore\"],\n",
    "#              'txt': ['reviewText']}\n",
    "# best3_dict"
   ]
  },
  {
   "cell_type": "code",
   "execution_count": 221,
   "id": "75ba506e",
   "metadata": {
    "execution": {
     "iopub.execute_input": "2023-08-12T18:16:14.792189Z",
     "iopub.status.busy": "2023-08-12T18:16:14.791796Z",
     "iopub.status.idle": "2023-08-12T18:16:14.796025Z",
     "shell.execute_reply": "2023-08-12T18:16:14.794933Z"
    },
    "papermill": {
     "duration": 0.11139,
     "end_time": "2023-08-12T18:16:14.798175",
     "exception": false,
     "start_time": "2023-08-12T18:16:14.686785",
     "status": "completed"
    },
    "tags": []
   },
   "outputs": [],
   "source": [
    "# submit_v4(selected_features=best3_dict)"
   ]
  },
  {
   "cell_type": "markdown",
   "id": "1a7123b8",
   "metadata": {
    "papermill": {
     "duration": 0.10615,
     "end_time": "2023-08-12T18:16:15.009510",
     "exception": false,
     "start_time": "2023-08-12T18:16:14.903360",
     "status": "completed"
    },
    "tags": []
   },
   "source": [
    "## Try throwing almost everything (no boxOffice) at submit_v4!  "
   ]
  },
  {
   "cell_type": "code",
   "execution_count": 222,
   "id": "00e1a71d",
   "metadata": {
    "execution": {
     "iopub.execute_input": "2023-08-12T18:16:15.225238Z",
     "iopub.status.busy": "2023-08-12T18:16:15.224809Z",
     "iopub.status.idle": "2023-08-12T18:16:15.232321Z",
     "shell.execute_reply": "2023-08-12T18:16:15.231137Z"
    },
    "papermill": {
     "duration": 0.116213,
     "end_time": "2023-08-12T18:16:15.234513",
     "exception": false,
     "start_time": "2023-08-12T18:16:15.118300",
     "status": "completed"
    },
    "tags": []
   },
   "outputs": [
    {
     "data": {
      "text/plain": [
       "\"Most from merged = ['movieid', 'reviewerName', 'isFrequentReviewer', 'reviewText',\\n       'audienceScore', 'rating', 'runtimeMinutes', 'genre', \\n       'originalLanguage', 'director']\""
      ]
     },
     "execution_count": 222,
     "metadata": {},
     "output_type": "execute_result"
    }
   ],
   "source": [
    "\"\"\"Most from merged = ['movieid', 'reviewerName', 'isFrequentReviewer', 'reviewText',\n",
    "       'audienceScore', 'rating', 'runtimeMinutes', 'genre', \n",
    "       'originalLanguage', 'director']\"\"\"\n",
    "\n",
    "# almost_dict = {'cat': [\"isFrequentReviewer\", \"rating\", \"originalLanguage\"],\n",
    "#              'num': [\"audienceScore\", \"runtimeMinutes\"],\n",
    "#              'txt': ['reviewText', 'reviewerName', 'movieid', 'genre', 'director']}\n",
    "# almost_dict"
   ]
  },
  {
   "cell_type": "code",
   "execution_count": 223,
   "id": "c2d77e1f",
   "metadata": {
    "execution": {
     "iopub.execute_input": "2023-08-12T18:16:15.445849Z",
     "iopub.status.busy": "2023-08-12T18:16:15.445486Z",
     "iopub.status.idle": "2023-08-12T18:16:15.449553Z",
     "shell.execute_reply": "2023-08-12T18:16:15.448467Z"
    },
    "papermill": {
     "duration": 0.112643,
     "end_time": "2023-08-12T18:16:15.451722",
     "exception": false,
     "start_time": "2023-08-12T18:16:15.339079",
     "status": "completed"
    },
    "tags": []
   },
   "outputs": [],
   "source": [
    "# submit_v4(selected_features=almost_dict)"
   ]
  },
  {
   "cell_type": "markdown",
   "id": "78ef8585",
   "metadata": {
    "papermill": {
     "duration": 0.104136,
     "end_time": "2023-08-12T18:16:15.659713",
     "exception": false,
     "start_time": "2023-08-12T18:16:15.555577",
     "status": "completed"
    },
    "tags": []
   },
   "source": [
    "## Try throwing everything possible at submit_v4!  "
   ]
  },
  {
   "cell_type": "code",
   "execution_count": 224,
   "id": "4d963f25",
   "metadata": {
    "execution": {
     "iopub.execute_input": "2023-08-12T18:16:15.870125Z",
     "iopub.status.busy": "2023-08-12T18:16:15.869700Z",
     "iopub.status.idle": "2023-08-12T18:16:15.876736Z",
     "shell.execute_reply": "2023-08-12T18:16:15.875569Z"
    },
    "papermill": {
     "duration": 0.114951,
     "end_time": "2023-08-12T18:16:15.879105",
     "exception": false,
     "start_time": "2023-08-12T18:16:15.764154",
     "status": "completed"
    },
    "tags": []
   },
   "outputs": [
    {
     "data": {
      "text/plain": [
       "\"All from merged = ['movieid', 'reviewerName', 'isFrequentReviewer', 'reviewText',\\n       'audienceScore', 'rating', 'runtimeMinutes', 'genre', 'boxOffice',\\n       'originalLanguage', 'director']\""
      ]
     },
     "execution_count": 224,
     "metadata": {},
     "output_type": "execute_result"
    }
   ],
   "source": [
    "\"\"\"All from merged = ['movieid', 'reviewerName', 'isFrequentReviewer', 'reviewText',\n",
    "       'audienceScore', 'rating', 'runtimeMinutes', 'genre', 'boxOffice',\n",
    "       'originalLanguage', 'director']\"\"\"\n",
    "\n",
    "# all_dict = {'cat': [\"isFrequentReviewer\", \"rating\", \"originalLanguage\"],\n",
    "#              'num': [\"audienceScore\", \"runtimeMinutes\", \"boxOffice\"],\n",
    "#              'txt': ['reviewText', 'reviewerName', 'movieid', 'genre', 'director']}\n",
    "# all_dict"
   ]
  },
  {
   "cell_type": "code",
   "execution_count": 225,
   "id": "cf1a15b3",
   "metadata": {
    "execution": {
     "iopub.execute_input": "2023-08-12T18:16:16.098110Z",
     "iopub.status.busy": "2023-08-12T18:16:16.097372Z",
     "iopub.status.idle": "2023-08-12T18:16:16.101563Z",
     "shell.execute_reply": "2023-08-12T18:16:16.100544Z"
    },
    "papermill": {
     "duration": 0.118921,
     "end_time": "2023-08-12T18:16:16.103686",
     "exception": false,
     "start_time": "2023-08-12T18:16:15.984765",
     "status": "completed"
    },
    "tags": []
   },
   "outputs": [],
   "source": [
    "# submit_v4(selected_features=all_dict)"
   ]
  },
  {
   "cell_type": "markdown",
   "id": "6c60fce2",
   "metadata": {
    "papermill": {
     "duration": 0.103558,
     "end_time": "2023-08-12T18:16:16.311961",
     "exception": false,
     "start_time": "2023-08-12T18:16:16.208403",
     "status": "completed"
    },
    "tags": []
   },
   "source": [
    "## Try GridSearchCV on everything  "
   ]
  },
  {
   "cell_type": "code",
   "execution_count": 226,
   "id": "65916d5f",
   "metadata": {
    "execution": {
     "iopub.execute_input": "2023-08-12T18:16:16.522835Z",
     "iopub.status.busy": "2023-08-12T18:16:16.522132Z",
     "iopub.status.idle": "2023-08-12T18:16:16.526736Z",
     "shell.execute_reply": "2023-08-12T18:16:16.526025Z"
    },
    "papermill": {
     "duration": 0.112373,
     "end_time": "2023-08-12T18:16:16.528837",
     "exception": false,
     "start_time": "2023-08-12T18:16:16.416464",
     "status": "completed"
    },
    "tags": []
   },
   "outputs": [],
   "source": [
    "# param_grid = {\n",
    "#     \"model__C\": [0.5, 2, 5, 15]\n",
    "# }\n",
    "\n",
    "# param_grid = {\n",
    "#     'model__C' : [1, 5],\n",
    "#     'model__solver': ['lbfgs', 'liblinear', 'newton-cg', 'newton-cholesky', 'sag', 'saga']\n",
    "# }\n",
    "\n",
    "# param_grid = {\n",
    "#     'model__C' : [1, 5],\n",
    "#     'model__solver': ['lbfgs', 'liblinear', 'sag', 'saga']\n",
    "# }\n",
    "\n",
    "# param_grid = {\n",
    "#     'model__C' : [1, 5, 10, 15],\n",
    "#     'model__solver': ['lbfgs', 'liblinear', 'saga', 'newton-cg']\n",
    "# }\n",
    "\n",
    "# param_grid = {\n",
    "#     'model__C' : [1, 5, 10, 20],\n",
    "#     'model__solver': ['lbfgs', 'liblinear', 'saga']\n",
    "# }\n",
    "\n",
    "# param_grid"
   ]
  },
  {
   "cell_type": "code",
   "execution_count": 227,
   "id": "1ae489b8",
   "metadata": {
    "execution": {
     "iopub.execute_input": "2023-08-12T18:16:16.738936Z",
     "iopub.status.busy": "2023-08-12T18:16:16.738501Z",
     "iopub.status.idle": "2023-08-12T18:16:16.743530Z",
     "shell.execute_reply": "2023-08-12T18:16:16.742074Z"
    },
    "papermill": {
     "duration": 0.1135,
     "end_time": "2023-08-12T18:16:16.746809",
     "exception": false,
     "start_time": "2023-08-12T18:16:16.633309",
     "status": "completed"
    },
    "tags": []
   },
   "outputs": [],
   "source": [
    "# submit_v4(selected_features={'txt': [\"genre\"]}, param_grid=param_grid)"
   ]
  },
  {
   "cell_type": "code",
   "execution_count": 228,
   "id": "ded67683",
   "metadata": {
    "execution": {
     "iopub.execute_input": "2023-08-12T18:16:16.972956Z",
     "iopub.status.busy": "2023-08-12T18:16:16.972435Z",
     "iopub.status.idle": "2023-08-12T18:16:16.981817Z",
     "shell.execute_reply": "2023-08-12T18:16:16.980489Z"
    },
    "papermill": {
     "duration": 0.12563,
     "end_time": "2023-08-12T18:16:16.984850",
     "exception": false,
     "start_time": "2023-08-12T18:16:16.859220",
     "status": "completed"
    },
    "tags": []
   },
   "outputs": [
    {
     "data": {
      "text/plain": [
       "\"Used 'groupby' function instead on 'drop_duplicates' on movies.csv file. \\nIt reduced the number of missing values significantly! \\nThen used LogisticRegression() with GridSearchCV on submit_v4 function with \\nparam_grid={'model__C': [1, 5, 10], 'model__solver': ['lbfgs', 'liblinear', 'saga']}. \\nThe best f1_micro score in GridSearchCV was 0.8399771362056203 which is highest among \\nall the versions so far. Best C was 5 and best solver was 'saga'.\\nScore obtained was 0.84385 which is lower than 0.84441.\""
      ]
     },
     "execution_count": 228,
     "metadata": {},
     "output_type": "execute_result"
    }
   ],
   "source": [
    "# submit_v4(selected_features=all_dict, param_grid=param_grid)\n",
    "\n",
    "# Best C was 5\n",
    "# Best solver was liblinear\n",
    "\n",
    "\"\"\"Used 'groupby' function instead on 'drop_duplicates' on movies.csv file. \n",
    "It reduced the number of missing values significantly! \n",
    "Then used LogisticRegression() with GridSearchCV on submit_v4 function with \n",
    "param_grid={'model__C': [1, 5, 10], 'model__solver': ['lbfgs', 'liblinear', 'saga']}. \n",
    "The best f1_micro score in GridSearchCV was 0.8399771362056203 which is highest among \n",
    "all the versions so far. Best C was 5 and best solver was 'saga'.\n",
    "Score obtained was 0.84385 which is lower than 0.84441.\"\"\""
   ]
  },
  {
   "cell_type": "code",
   "execution_count": 229,
   "id": "2693300f",
   "metadata": {
    "execution": {
     "iopub.execute_input": "2023-08-12T18:16:17.210912Z",
     "iopub.status.busy": "2023-08-12T18:16:17.210305Z",
     "iopub.status.idle": "2023-08-12T18:16:17.214291Z",
     "shell.execute_reply": "2023-08-12T18:16:17.213247Z"
    },
    "papermill": {
     "duration": 0.112986,
     "end_time": "2023-08-12T18:16:17.216387",
     "exception": false,
     "start_time": "2023-08-12T18:16:17.103401",
     "status": "completed"
    },
    "tags": []
   },
   "outputs": [],
   "source": [
    "# Best 5 parameters\n",
    "\n",
    "# best5_dict = {'num': [\"audienceScore\"],\n",
    "#              'txt': ['reviewText', 'reviewerName','movieid', 'director']}\n",
    "\n",
    "# best5_dict"
   ]
  },
  {
   "cell_type": "code",
   "execution_count": 230,
   "id": "b01343b6",
   "metadata": {
    "execution": {
     "iopub.execute_input": "2023-08-12T18:16:17.435089Z",
     "iopub.status.busy": "2023-08-12T18:16:17.434664Z",
     "iopub.status.idle": "2023-08-12T18:16:17.442270Z",
     "shell.execute_reply": "2023-08-12T18:16:17.441507Z"
    },
    "papermill": {
     "duration": 0.117772,
     "end_time": "2023-08-12T18:16:17.444311",
     "exception": false,
     "start_time": "2023-08-12T18:16:17.326539",
     "status": "completed"
    },
    "tags": []
   },
   "outputs": [
    {
     "data": {
      "text/plain": [
       "\"(Update): Used both CountVectorizer and TfidfVectorizer on a massive GridSearchCV \\nwhich took 22527.2s  (6.25 hrs) to run! Gave a score of 0.8439093822800923 locally and did not overfit!\\nBest params: {'model__C': 1, 'model__solver': 'liblinear'}.\\nHighest public score yet: 0.84591 (Rank up from 9 to 5!)\""
      ]
     },
     "execution_count": 230,
     "metadata": {},
     "output_type": "execute_result"
    }
   ],
   "source": [
    "# Submit best 5 features\n",
    "\n",
    "\"\"\"(Update): Used both CountVectorizer and TfidfVectorizer on a massive GridSearchCV \n",
    "which took 22527.2s  (6.25 hrs) to run! Gave a score of 0.8439093822800923 locally and did not overfit!\n",
    "Best params: {'model__C': 1, 'model__solver': 'liblinear'}.\n",
    "Highest public score yet: 0.84591 (Rank up from 9 to 5!)\"\"\"\n",
    "\n",
    "# param_grid = {\n",
    "#     'model__C' : [5, 10, 15],\n",
    "#     'model__solver': ['lbfgs', 'liblinear', 'saga']\n",
    "# }\n",
    "\n",
    "\n",
    "# Try new param_grid with fit_intercept and dual in logreg\n",
    "\n",
    "# param_grid = {\n",
    "#     'model__C' : [1],\n",
    "#     'model__solver': ['liblinear'],\n",
    "#     \"model__fit_intercept\" : [True, False],\n",
    "#     \"model__dual\" : [True, False] \n",
    "# }\n",
    "\n",
    "\n",
    "# Local testing  \n",
    "# submit_v4(selected_features={'num': ['audienceScore']},\n",
    "#          add_countvec=True)\n",
    "\n",
    "# submit_v4(selected_features={'num': ['audienceScore']},\n",
    "#          add_countvec=True, \n",
    "#           param_grid=param_grid)\n",
    "\n",
    "\n",
    "# Main submission\n",
    "\n",
    "# submit_v4(selected_features=best5_dict,\n",
    "#          add_countvec=True)\n",
    "\n",
    "\n",
    "# submit_v4(selected_features=best5_dict,\n",
    "#           add_countvec=True,\n",
    "#           param_grid=param_grid)"
   ]
  },
  {
   "cell_type": "code",
   "execution_count": 231,
   "id": "1d4eefb5",
   "metadata": {
    "execution": {
     "iopub.execute_input": "2023-08-12T18:16:17.655487Z",
     "iopub.status.busy": "2023-08-12T18:16:17.654559Z",
     "iopub.status.idle": "2023-08-12T18:16:17.659466Z",
     "shell.execute_reply": "2023-08-12T18:16:17.658759Z"
    },
    "papermill": {
     "duration": 0.112413,
     "end_time": "2023-08-12T18:16:17.661428",
     "exception": false,
     "start_time": "2023-08-12T18:16:17.549015",
     "status": "completed"
    },
    "tags": []
   },
   "outputs": [],
   "source": [
    "## ALL DICT cv=10\n",
    "\n",
    "# all_dict = {'cat': [\"isFrequentReviewer\", \"rating\", \"originalLanguage\"],\n",
    "#              'num': [\"audienceScore\", \"runtimeMinutes\", \"boxOffice\"],\n",
    "#              'txt': ['reviewText', 'reviewerName', 'movieid', 'genre', 'director']}\n",
    "# print(all_dict)\n",
    "\n",
    "# param_grid = {\n",
    "#     'model__C' : [2, 5, 10],\n",
    "#     'model__solver': ['lbfgs', 'liblinear', 'saga']\n",
    "# }\n",
    "# print(param_grid)\n",
    "\n",
    "# param_grid = {\n",
    "#     'model__C' : [1, 5, 10],\n",
    "#     'model__solver': ['liblinear'],\n",
    "#     \"model__fit_intercept\" : [True, False],\n",
    "#     \"model__dual\" : [True, False] \n",
    "# }\n",
    "\n",
    "\n",
    "# Main submission\n",
    "\n",
    "# submit_v4(selected_model=LogisticRegression(C=5, solver='liblinear', max_iter=10000),\n",
    "#           selected_features=all_dict,\n",
    "#           param_grid=param_grid)\n",
    "\n",
    "# submit_v4(selected_features=all_dict,\n",
    "#           add_countvec=True,\n",
    "#           param_grid=param_grid)"
   ]
  },
  {
   "cell_type": "code",
   "execution_count": 232,
   "id": "f2f60311",
   "metadata": {
    "execution": {
     "iopub.execute_input": "2023-08-12T18:16:17.873167Z",
     "iopub.status.busy": "2023-08-12T18:16:17.872444Z",
     "iopub.status.idle": "2023-08-12T18:16:17.876759Z",
     "shell.execute_reply": "2023-08-12T18:16:17.875964Z"
    },
    "papermill": {
     "duration": 0.113318,
     "end_time": "2023-08-12T18:16:17.879134",
     "exception": false,
     "start_time": "2023-08-12T18:16:17.765816",
     "status": "completed"
    },
    "tags": []
   },
   "outputs": [],
   "source": [
    "# Best 6 parameters\n",
    "\n",
    "# best6_dict = {'cat': [\"isFrequentReviewer\"],\n",
    "#              'num': [\"audienceScore\"],\n",
    "#              'txt': ['reviewText', 'reviewerName', 'genre', 'director']}\n",
    "\n",
    "# best6_dict = {'num': [\"audienceScore\"],\n",
    "#              'txt': ['reviewText', 'reviewerName', 'genre','movieid', 'director']}\n",
    "\n",
    "# best6_dict"
   ]
  },
  {
   "cell_type": "code",
   "execution_count": 233,
   "id": "68ed54f2",
   "metadata": {
    "execution": {
     "iopub.execute_input": "2023-08-12T18:16:18.093459Z",
     "iopub.status.busy": "2023-08-12T18:16:18.092798Z",
     "iopub.status.idle": "2023-08-12T18:16:18.097053Z",
     "shell.execute_reply": "2023-08-12T18:16:18.096072Z"
    },
    "papermill": {
     "duration": 0.115268,
     "end_time": "2023-08-12T18:16:18.099192",
     "exception": false,
     "start_time": "2023-08-12T18:16:17.983924",
     "status": "completed"
    },
    "tags": []
   },
   "outputs": [],
   "source": [
    "# Submit best 6 features (version 2)\n",
    "\n",
    "# submit_v4(selected_features=best6_dict,\n",
    "#           param_grid=param_grid)"
   ]
  },
  {
   "cell_type": "code",
   "execution_count": 234,
   "id": "0125d37f",
   "metadata": {
    "execution": {
     "iopub.execute_input": "2023-08-12T18:16:18.310048Z",
     "iopub.status.busy": "2023-08-12T18:16:18.309638Z",
     "iopub.status.idle": "2023-08-12T18:16:18.313985Z",
     "shell.execute_reply": "2023-08-12T18:16:18.312953Z"
    },
    "papermill": {
     "duration": 0.112151,
     "end_time": "2023-08-12T18:16:18.316001",
     "exception": false,
     "start_time": "2023-08-12T18:16:18.203850",
     "status": "completed"
    },
    "tags": []
   },
   "outputs": [],
   "source": [
    "# Best 7 parameters\n",
    "\n",
    "# best7_dict = {'cat': [\"isFrequentReviewer\"],\n",
    "#              'num': [\"audienceScore\"],\n",
    "#              'txt': ['reviewText', 'reviewerName', 'movieid', 'genre', 'director']}\n",
    "# best7_dict"
   ]
  },
  {
   "cell_type": "code",
   "execution_count": 235,
   "id": "b6ae3a91",
   "metadata": {
    "execution": {
     "iopub.execute_input": "2023-08-12T18:16:18.527522Z",
     "iopub.status.busy": "2023-08-12T18:16:18.527122Z",
     "iopub.status.idle": "2023-08-12T18:16:18.531721Z",
     "shell.execute_reply": "2023-08-12T18:16:18.530595Z"
    },
    "papermill": {
     "duration": 0.113075,
     "end_time": "2023-08-12T18:16:18.533920",
     "exception": false,
     "start_time": "2023-08-12T18:16:18.420845",
     "status": "completed"
    },
    "tags": []
   },
   "outputs": [],
   "source": [
    "# Submit best 7 features\n",
    "\n",
    "# submit_v4(selected_features=best7_dict,\n",
    "#           param_grid=param_grid)"
   ]
  },
  {
   "cell_type": "code",
   "execution_count": 236,
   "id": "11305b0d",
   "metadata": {
    "execution": {
     "iopub.execute_input": "2023-08-12T18:16:18.815079Z",
     "iopub.status.busy": "2023-08-12T18:16:18.814420Z",
     "iopub.status.idle": "2023-08-12T18:16:18.818557Z",
     "shell.execute_reply": "2023-08-12T18:16:18.817758Z"
    },
    "papermill": {
     "duration": 0.181704,
     "end_time": "2023-08-12T18:16:18.820664",
     "exception": false,
     "start_time": "2023-08-12T18:16:18.638960",
     "status": "completed"
    },
    "tags": []
   },
   "outputs": [],
   "source": [
    "# submit_v4(selected_features=best6_dict, param_grid=param_grid)"
   ]
  },
  {
   "cell_type": "markdown",
   "id": "86c996ac",
   "metadata": {
    "papermill": {
     "duration": 0.104538,
     "end_time": "2023-08-12T18:16:19.031377",
     "exception": false,
     "start_time": "2023-08-12T18:16:18.926839",
     "status": "completed"
    },
    "tags": []
   },
   "source": [
    "## Try a new feature dict  \n",
    "\n"
   ]
  },
  {
   "cell_type": "code",
   "execution_count": 237,
   "id": "29d3f4e7",
   "metadata": {
    "execution": {
     "iopub.execute_input": "2023-08-12T18:16:19.248531Z",
     "iopub.status.busy": "2023-08-12T18:16:19.247838Z",
     "iopub.status.idle": "2023-08-12T18:16:19.251671Z",
     "shell.execute_reply": "2023-08-12T18:16:19.250957Z"
    },
    "papermill": {
     "duration": 0.11285,
     "end_time": "2023-08-12T18:16:19.253695",
     "exception": false,
     "start_time": "2023-08-12T18:16:19.140845",
     "status": "completed"
    },
    "tags": []
   },
   "outputs": [],
   "source": [
    "# all_dict_new = {'cat': [\"isFrequentReviewer\", \"rating\", \"originalLanguage\"],\n",
    "#              'num': [\"audienceScore\", \"runtimeMinutes\", \"boxOffice\"],\n",
    "#              'txt': ['reviewText', \"reviewerName\", 'movieid', 'genre', 'director']}\n",
    "# all_dict_new"
   ]
  },
  {
   "cell_type": "code",
   "execution_count": 238,
   "id": "aa646693",
   "metadata": {
    "execution": {
     "iopub.execute_input": "2023-08-12T18:16:19.466072Z",
     "iopub.status.busy": "2023-08-12T18:16:19.465373Z",
     "iopub.status.idle": "2023-08-12T18:16:19.469354Z",
     "shell.execute_reply": "2023-08-12T18:16:19.468517Z"
    },
    "papermill": {
     "duration": 0.112751,
     "end_time": "2023-08-12T18:16:19.471566",
     "exception": false,
     "start_time": "2023-08-12T18:16:19.358815",
     "status": "completed"
    },
    "tags": []
   },
   "outputs": [],
   "source": [
    "# submit_v4(selected_features={'txt': ['genre']}, param_grid=param_grid)"
   ]
  },
  {
   "cell_type": "code",
   "execution_count": 239,
   "id": "25838afc",
   "metadata": {
    "execution": {
     "iopub.execute_input": "2023-08-12T18:16:19.683507Z",
     "iopub.status.busy": "2023-08-12T18:16:19.682677Z",
     "iopub.status.idle": "2023-08-12T18:16:19.686688Z",
     "shell.execute_reply": "2023-08-12T18:16:19.685918Z"
    },
    "papermill": {
     "duration": 0.112474,
     "end_time": "2023-08-12T18:16:19.688812",
     "exception": false,
     "start_time": "2023-08-12T18:16:19.576338",
     "status": "completed"
    },
    "tags": []
   },
   "outputs": [],
   "source": [
    "# submit_v4(selected_features=all_dict_new, param_grid=param_grid)"
   ]
  },
  {
   "cell_type": "code",
   "execution_count": 240,
   "id": "2411bf9d",
   "metadata": {
    "execution": {
     "iopub.execute_input": "2023-08-12T18:16:19.902159Z",
     "iopub.status.busy": "2023-08-12T18:16:19.901304Z",
     "iopub.status.idle": "2023-08-12T18:16:19.905714Z",
     "shell.execute_reply": "2023-08-12T18:16:19.904770Z"
    },
    "papermill": {
     "duration": 0.114071,
     "end_time": "2023-08-12T18:16:19.907919",
     "exception": false,
     "start_time": "2023-08-12T18:16:19.793848",
     "status": "completed"
    },
    "tags": []
   },
   "outputs": [],
   "source": [
    "# Try non-text based columns\n",
    "# num_cat_dict = {'cat': ['isFrequentReviewer', 'rating', 'originalLanguage'],\n",
    "#  'num': ['audienceScore', 'runtimeMinutes', 'boxOffice']}\n",
    "# num_cat_dict"
   ]
  },
  {
   "cell_type": "code",
   "execution_count": 241,
   "id": "6f9c1ae9",
   "metadata": {
    "execution": {
     "iopub.execute_input": "2023-08-12T18:16:20.120806Z",
     "iopub.status.busy": "2023-08-12T18:16:20.120429Z",
     "iopub.status.idle": "2023-08-12T18:16:20.124924Z",
     "shell.execute_reply": "2023-08-12T18:16:20.123818Z"
    },
    "papermill": {
     "duration": 0.114366,
     "end_time": "2023-08-12T18:16:20.127205",
     "exception": false,
     "start_time": "2023-08-12T18:16:20.012839",
     "status": "completed"
    },
    "tags": []
   },
   "outputs": [],
   "source": [
    "# Use num_cat_dict features\n",
    "# (Update): Gets a local score of 0.7027181356991726. Not great.\n",
    "# submit_v4(selected_model=LogisticRegression(max_iter=100000), selected_features=num_cat_dict, param_grid=param_grid)"
   ]
  },
  {
   "cell_type": "code",
   "execution_count": 242,
   "id": "29b58cdd",
   "metadata": {
    "execution": {
     "iopub.execute_input": "2023-08-12T18:16:20.341130Z",
     "iopub.status.busy": "2023-08-12T18:16:20.340426Z",
     "iopub.status.idle": "2023-08-12T18:16:20.344727Z",
     "shell.execute_reply": "2023-08-12T18:16:20.343902Z"
    },
    "papermill": {
     "duration": 0.113566,
     "end_time": "2023-08-12T18:16:20.347243",
     "exception": false,
     "start_time": "2023-08-12T18:16:20.233677",
     "status": "completed"
    },
    "tags": []
   },
   "outputs": [],
   "source": [
    "# Try data other than reviewText\n",
    "\n",
    "# mov_dict = {'cat': ['rating', 'originalLanguage'],\n",
    "#  'num': ['audienceScore', 'runtimeMinutes', 'boxOffice'],\n",
    "#  'txt': ['movieid', 'genre', 'director']}\n",
    "# mov_dict"
   ]
  },
  {
   "cell_type": "code",
   "execution_count": 243,
   "id": "3805e0a5",
   "metadata": {
    "execution": {
     "iopub.execute_input": "2023-08-12T18:16:20.559556Z",
     "iopub.status.busy": "2023-08-12T18:16:20.558817Z",
     "iopub.status.idle": "2023-08-12T18:16:20.563244Z",
     "shell.execute_reply": "2023-08-12T18:16:20.562449Z"
    },
    "papermill": {
     "duration": 0.11299,
     "end_time": "2023-08-12T18:16:20.565302",
     "exception": false,
     "start_time": "2023-08-12T18:16:20.452312",
     "status": "completed"
    },
    "tags": []
   },
   "outputs": [],
   "source": [
    "# Use mov_dict features\n",
    "# (Update): Gets a local score of 0.7475454316469369, which is not bad at all.\n",
    "# submit_v4(selected_model=LogisticRegression(max_iter=100000), selected_features=mov_dict, param_grid=param_grid)"
   ]
  },
  {
   "cell_type": "markdown",
   "id": "e5710bba",
   "metadata": {
    "papermill": {
     "duration": 0.104228,
     "end_time": "2023-08-12T18:16:20.774770",
     "exception": false,
     "start_time": "2023-08-12T18:16:20.670542",
     "status": "completed"
    },
    "tags": []
   },
   "source": [
    "# Try a new column 'reviewYN'  \n",
    "\n"
   ]
  },
  {
   "cell_type": "code",
   "execution_count": 244,
   "id": "79a07608",
   "metadata": {
    "execution": {
     "iopub.execute_input": "2023-08-12T18:16:20.990203Z",
     "iopub.status.busy": "2023-08-12T18:16:20.988950Z",
     "iopub.status.idle": "2023-08-12T18:16:20.994828Z",
     "shell.execute_reply": "2023-08-12T18:16:20.993075Z"
    },
    "papermill": {
     "duration": 0.116792,
     "end_time": "2023-08-12T18:16:20.997464",
     "exception": false,
     "start_time": "2023-08-12T18:16:20.880672",
     "status": "completed"
    },
    "tags": []
   },
   "outputs": [],
   "source": [
    "# all_dict_3 = {'cat': [\"isFrequentReviewer\", \"rating\", \"originalLanguage\", \"reviewYN\"],\n",
    "#              'num': [\"audienceScore\", \"runtimeMinutes\", \"boxOffice\"],\n",
    "#              'txt': ['reviewText', \"reviewerName\", 'movieid', 'genre', 'director']}\n",
    "# all_dict_3"
   ]
  },
  {
   "cell_type": "code",
   "execution_count": 245,
   "id": "7c92dac5",
   "metadata": {
    "execution": {
     "iopub.execute_input": "2023-08-12T18:16:21.218161Z",
     "iopub.status.busy": "2023-08-12T18:16:21.217617Z",
     "iopub.status.idle": "2023-08-12T18:16:21.222745Z",
     "shell.execute_reply": "2023-08-12T18:16:21.221639Z"
    },
    "papermill": {
     "duration": 0.114734,
     "end_time": "2023-08-12T18:16:21.224771",
     "exception": false,
     "start_time": "2023-08-12T18:16:21.110037",
     "status": "completed"
    },
    "tags": []
   },
   "outputs": [],
   "source": [
    "# submit_v4(selected_model=LogisticRegression(max_iter=100000),\n",
    "#          selected_features=all_dict_3, \n",
    "#           param_grid=param_grid)"
   ]
  },
  {
   "cell_type": "markdown",
   "id": "5cf3b5ea",
   "metadata": {
    "papermill": {
     "duration": 0.104877,
     "end_time": "2023-08-12T18:16:21.434965",
     "exception": false,
     "start_time": "2023-08-12T18:16:21.330088",
     "status": "completed"
    },
    "tags": []
   },
   "source": [
    "### More GridSearchCV using LinearSVC  "
   ]
  },
  {
   "cell_type": "code",
   "execution_count": 246,
   "id": "cfe07c5b",
   "metadata": {
    "execution": {
     "iopub.execute_input": "2023-08-12T18:16:21.649467Z",
     "iopub.status.busy": "2023-08-12T18:16:21.648201Z",
     "iopub.status.idle": "2023-08-12T18:16:21.652745Z",
     "shell.execute_reply": "2023-08-12T18:16:21.651963Z"
    },
    "papermill": {
     "duration": 0.113373,
     "end_time": "2023-08-12T18:16:21.655049",
     "exception": false,
     "start_time": "2023-08-12T18:16:21.541676",
     "status": "completed"
    },
    "tags": []
   },
   "outputs": [],
   "source": [
    "# param_grid_svc_2 = {\n",
    "#     'model__C': [1.0],\n",
    "#     'model__loss': ['hinge', 'squared_hinge'],\n",
    "#     'model__class_weight': ['balanced', None]\n",
    "# }\n",
    "# param_grid_svc_2"
   ]
  },
  {
   "cell_type": "code",
   "execution_count": 247,
   "id": "b54252c7",
   "metadata": {
    "execution": {
     "iopub.execute_input": "2023-08-12T18:16:21.872420Z",
     "iopub.status.busy": "2023-08-12T18:16:21.871638Z",
     "iopub.status.idle": "2023-08-12T18:16:21.876092Z",
     "shell.execute_reply": "2023-08-12T18:16:21.875116Z"
    },
    "papermill": {
     "duration": 0.116156,
     "end_time": "2023-08-12T18:16:21.878453",
     "exception": false,
     "start_time": "2023-08-12T18:16:21.762297",
     "status": "completed"
    },
    "tags": []
   },
   "outputs": [],
   "source": [
    "# submit_v4(selected_model=LinearSVC(max_iter=100000, random_state=42), selected_features={'num': [\"audienceScore\"]}, param_grid=param_grid_svc_2)"
   ]
  },
  {
   "cell_type": "code",
   "execution_count": 248,
   "id": "bfa27ac6",
   "metadata": {
    "execution": {
     "iopub.execute_input": "2023-08-12T18:16:22.095583Z",
     "iopub.status.busy": "2023-08-12T18:16:22.094920Z",
     "iopub.status.idle": "2023-08-12T18:16:22.098941Z",
     "shell.execute_reply": "2023-08-12T18:16:22.098076Z"
    },
    "papermill": {
     "duration": 0.115581,
     "end_time": "2023-08-12T18:16:22.101082",
     "exception": false,
     "start_time": "2023-08-12T18:16:21.985501",
     "status": "completed"
    },
    "tags": []
   },
   "outputs": [],
   "source": [
    "# submit_v4(selected_model=LinearSVC(max_iter=100000, random_state=42), selected_features=all_dict, param_grid=param_grid_svc_2)"
   ]
  },
  {
   "cell_type": "markdown",
   "id": "12e647be",
   "metadata": {
    "papermill": {
     "duration": 0.10902,
     "end_time": "2023-08-12T18:16:22.315969",
     "exception": false,
     "start_time": "2023-08-12T18:16:22.206949",
     "status": "completed"
    },
    "tags": []
   },
   "source": [
    "### Boosting techniques  "
   ]
  },
  {
   "cell_type": "code",
   "execution_count": 249,
   "id": "4b4baa85",
   "metadata": {
    "execution": {
     "iopub.execute_input": "2023-08-12T18:16:22.531568Z",
     "iopub.status.busy": "2023-08-12T18:16:22.530914Z",
     "iopub.status.idle": "2023-08-12T18:16:22.535249Z",
     "shell.execute_reply": "2023-08-12T18:16:22.534205Z"
    },
    "papermill": {
     "duration": 0.116277,
     "end_time": "2023-08-12T18:16:22.537739",
     "exception": false,
     "start_time": "2023-08-12T18:16:22.421462",
     "status": "completed"
    },
    "tags": []
   },
   "outputs": [],
   "source": [
    "# adc = AdaBoostClassifier(estimator=LogisticRegression(C=5, solver=\"saga\", max_iter=100000), n_estimators=50)\n",
    "# adc"
   ]
  },
  {
   "cell_type": "code",
   "execution_count": 250,
   "id": "5a0546b4",
   "metadata": {
    "execution": {
     "iopub.execute_input": "2023-08-12T18:16:22.751866Z",
     "iopub.status.busy": "2023-08-12T18:16:22.751459Z",
     "iopub.status.idle": "2023-08-12T18:16:22.755839Z",
     "shell.execute_reply": "2023-08-12T18:16:22.754709Z"
    },
    "papermill": {
     "duration": 0.11292,
     "end_time": "2023-08-12T18:16:22.757997",
     "exception": false,
     "start_time": "2023-08-12T18:16:22.645077",
     "status": "completed"
    },
    "tags": []
   },
   "outputs": [],
   "source": [
    "# submit_v4(selected_model=adc, selected_features={'num': [\"audienceScore\"]}, param_grid=None)"
   ]
  },
  {
   "cell_type": "code",
   "execution_count": 251,
   "id": "d7dedfdd",
   "metadata": {
    "execution": {
     "iopub.execute_input": "2023-08-12T18:16:22.971017Z",
     "iopub.status.busy": "2023-08-12T18:16:22.970288Z",
     "iopub.status.idle": "2023-08-12T18:16:22.974069Z",
     "shell.execute_reply": "2023-08-12T18:16:22.973340Z"
    },
    "papermill": {
     "duration": 0.11246,
     "end_time": "2023-08-12T18:16:22.976210",
     "exception": false,
     "start_time": "2023-08-12T18:16:22.863750",
     "status": "completed"
    },
    "tags": []
   },
   "outputs": [],
   "source": [
    "# submit_v4(selected_model=adc, selected_features=all_dict, param_grid=None)\n",
    "\n",
    "# Took 1 hour 15 mins to run and gave a public score of only 0.71089. Discarded."
   ]
  },
  {
   "cell_type": "markdown",
   "id": "dfe2dc67",
   "metadata": {
    "papermill": {
     "duration": 0.106581,
     "end_time": "2023-08-12T18:16:23.190273",
     "exception": false,
     "start_time": "2023-08-12T18:16:23.083692",
     "status": "completed"
    },
    "tags": []
   },
   "source": [
    "### LightGBM  "
   ]
  },
  {
   "cell_type": "code",
   "execution_count": 252,
   "id": "b39d3db5",
   "metadata": {
    "execution": {
     "iopub.execute_input": "2023-08-12T18:16:23.470421Z",
     "iopub.status.busy": "2023-08-12T18:16:23.469113Z",
     "iopub.status.idle": "2023-08-12T18:16:23.474308Z",
     "shell.execute_reply": "2023-08-12T18:16:23.473121Z"
    },
    "papermill": {
     "duration": 0.11297,
     "end_time": "2023-08-12T18:16:23.476725",
     "exception": false,
     "start_time": "2023-08-12T18:16:23.363755",
     "status": "completed"
    },
    "tags": []
   },
   "outputs": [],
   "source": [
    "# lgb = ltb.LGBMClassifier()\n",
    "# lgb"
   ]
  },
  {
   "cell_type": "code",
   "execution_count": 253,
   "id": "92b1c6dd",
   "metadata": {
    "execution": {
     "iopub.execute_input": "2023-08-12T18:16:23.691259Z",
     "iopub.status.busy": "2023-08-12T18:16:23.690786Z",
     "iopub.status.idle": "2023-08-12T18:16:23.695438Z",
     "shell.execute_reply": "2023-08-12T18:16:23.694314Z"
    },
    "papermill": {
     "duration": 0.113678,
     "end_time": "2023-08-12T18:16:23.697512",
     "exception": false,
     "start_time": "2023-08-12T18:16:23.583834",
     "status": "completed"
    },
    "tags": []
   },
   "outputs": [],
   "source": [
    "# Try LightGBM with default settings\n",
    "# (Update): Public score only 0.77713. It was fast, took less than 5 mins (without GridSearchCV)\n",
    "\n",
    "# submit_v4(selected_model=ltb.LGBMClassifier(), selected_features=all_dict, param_grid=None)"
   ]
  },
  {
   "cell_type": "markdown",
   "id": "1cafb65e",
   "metadata": {
    "papermill": {
     "duration": 0.105896,
     "end_time": "2023-08-12T18:16:23.908257",
     "exception": false,
     "start_time": "2023-08-12T18:16:23.802361",
     "status": "completed"
    },
    "tags": []
   },
   "source": [
    "# Try feature selection and vocab fine tuning of reviewText column"
   ]
  },
  {
   "cell_type": "markdown",
   "id": "ce0b48c2",
   "metadata": {
    "papermill": {
     "duration": 0.10685,
     "end_time": "2023-08-12T18:16:24.121275",
     "exception": false,
     "start_time": "2023-08-12T18:16:24.014425",
     "status": "completed"
    },
    "tags": []
   },
   "source": [
    "## Plan  \n",
    "* Add a new column 'reviewWC' which has word count of 'reviewText'  \n",
    "    * Check if there is any relationship between 'reviewWC' and 'sentiment'\n",
    "* Work on vocabulary\n",
    "     * Use TfidfVectorizer and find out the vocabulary of 'reviewText' column for various ngrams\n",
    "     * Use RecursiveFeatureElimination (RFE) or RFECV to select 1000 top words/vocab for each ngram\n",
    "     * Use the final vocab (1000-3000 words) in the model and see how it performs compared to whole vocab\n"
   ]
  },
  {
   "cell_type": "code",
   "execution_count": 254,
   "id": "23ec3eed",
   "metadata": {
    "execution": {
     "iopub.execute_input": "2023-08-12T18:16:24.335649Z",
     "iopub.status.busy": "2023-08-12T18:16:24.335143Z",
     "iopub.status.idle": "2023-08-12T18:16:24.340827Z",
     "shell.execute_reply": "2023-08-12T18:16:24.339229Z"
    },
    "papermill": {
     "duration": 0.116687,
     "end_time": "2023-08-12T18:16:24.343654",
     "exception": false,
     "start_time": "2023-08-12T18:16:24.226967",
     "status": "completed"
    },
    "tags": []
   },
   "outputs": [],
   "source": [
    "# 'reviewWC' and 'sentiment'\n",
    "# (Conclusion): 'reviewWC' is practically same as DummyClassifier (accuracy of 0.6682375059904889 on train data). It just predicts 'positive' for all columns\n",
    "\n",
    "# reviewWC_dict = {\"num\": [\"reviewWC\"]}\n",
    "# submit_v4(selected_model=LogisticRegression(),\n",
    "#          selected_features=reviewWC_dict,\n",
    "#          param_grid=None)"
   ]
  },
  {
   "cell_type": "code",
   "execution_count": 255,
   "id": "2ac6dfab",
   "metadata": {
    "execution": {
     "iopub.execute_input": "2023-08-12T18:16:24.556468Z",
     "iopub.status.busy": "2023-08-12T18:16:24.556040Z",
     "iopub.status.idle": "2023-08-12T18:16:24.561461Z",
     "shell.execute_reply": "2023-08-12T18:16:24.560199Z"
    },
    "papermill": {
     "duration": 0.11561,
     "end_time": "2023-08-12T18:16:24.564596",
     "exception": false,
     "start_time": "2023-08-12T18:16:24.448986",
     "status": "completed"
    },
    "tags": []
   },
   "outputs": [],
   "source": [
    "# 'reviewYN' and 'sentiment'\n",
    "# (Conclusion): 'reviewYN' is practically same as DummyClassifier (accuracy of 0.6682375059904889 on train data). It just predicts 'positive' for all columns\n",
    "\n",
    "# reviewYN_dict = {\"cat\": [\"reviewYN\"]}\n",
    "# submit_v4(selected_model=LogisticRegression(),\n",
    "#          selected_features=reviewYN_dict,\n",
    "#          param_grid=None)"
   ]
  },
  {
   "cell_type": "markdown",
   "id": "76491799",
   "metadata": {
    "papermill": {
     "duration": 0.112938,
     "end_time": "2023-08-12T18:16:24.791555",
     "exception": false,
     "start_time": "2023-08-12T18:16:24.678617",
     "status": "completed"
    },
    "tags": []
   },
   "source": [
    "## Submissions using 'vocabulary' built from 'reviewText' data  "
   ]
  },
  {
   "cell_type": "markdown",
   "id": "5ff344e6",
   "metadata": {
    "papermill": {
     "duration": 0.137952,
     "end_time": "2023-08-12T18:16:25.037439",
     "exception": false,
     "start_time": "2023-08-12T18:16:24.899487",
     "status": "completed"
    },
    "tags": []
   },
   "source": [
    "### Submit best 6 features along with common vocab  "
   ]
  },
  {
   "cell_type": "code",
   "execution_count": 256,
   "id": "4b31923a",
   "metadata": {
    "execution": {
     "iopub.execute_input": "2023-08-12T18:16:25.251934Z",
     "iopub.status.busy": "2023-08-12T18:16:25.251264Z",
     "iopub.status.idle": "2023-08-12T18:16:25.255857Z",
     "shell.execute_reply": "2023-08-12T18:16:25.255106Z"
    },
    "papermill": {
     "duration": 0.11346,
     "end_time": "2023-08-12T18:16:25.258027",
     "exception": false,
     "start_time": "2023-08-12T18:16:25.144567",
     "status": "completed"
    },
    "tags": []
   },
   "outputs": [],
   "source": [
    "# Best 6 parameters (version 2)  \n",
    "\n",
    "# best6_dict = {'num': [\"audienceScore\"],\n",
    "#              'txt': ['reviewText', 'reviewerName', 'genre','movieid', 'director']}\n",
    "\n",
    "# best6_dict"
   ]
  },
  {
   "cell_type": "code",
   "execution_count": 257,
   "id": "b69c6c6b",
   "metadata": {
    "execution": {
     "iopub.execute_input": "2023-08-12T18:16:25.470305Z",
     "iopub.status.busy": "2023-08-12T18:16:25.469330Z",
     "iopub.status.idle": "2023-08-12T18:16:25.474364Z",
     "shell.execute_reply": "2023-08-12T18:16:25.473441Z"
    },
    "papermill": {
     "duration": 0.113824,
     "end_time": "2023-08-12T18:16:25.476398",
     "exception": false,
     "start_time": "2023-08-12T18:16:25.362574",
     "status": "completed"
    },
    "tags": []
   },
   "outputs": [],
   "source": [
    "# Submit best 6 features (version 2) with common vocabulary (common_1_2_grams)\n",
    "# (Update): Score 0.82867\n",
    "\n",
    "# submit_v4(selected_features=best6_dict,\n",
    "#           param_grid=param_grid,\n",
    "#          vocab=common_1_2_grams)"
   ]
  },
  {
   "cell_type": "code",
   "execution_count": 258,
   "id": "bf1b3e8c",
   "metadata": {
    "execution": {
     "iopub.execute_input": "2023-08-12T18:16:25.692608Z",
     "iopub.status.busy": "2023-08-12T18:16:25.691811Z",
     "iopub.status.idle": "2023-08-12T18:16:25.696472Z",
     "shell.execute_reply": "2023-08-12T18:16:25.695485Z"
    },
    "papermill": {
     "duration": 0.114346,
     "end_time": "2023-08-12T18:16:25.698928",
     "exception": false,
     "start_time": "2023-08-12T18:16:25.584582",
     "status": "completed"
    },
    "tags": []
   },
   "outputs": [],
   "source": [
    "# Submit best 6 features (version 2) with common vocabulary (common_1_2_3_grams)\n",
    "# Note: for this submission submit_v4 function has to be modified: reviewText TfidfVectorizer must have ngram_range(1,3).\n",
    "# (Update): Score in the range 0.825+\n",
    "\n",
    "# submit_v4(selected_features=best6_dict,\n",
    "#           param_grid=param_grid,\n",
    "#          vocab=common_1_2_3_grams)"
   ]
  }
 ],
 "metadata": {
  "kernelspec": {
   "display_name": "Python 3",
   "language": "python",
   "name": "python3"
  },
  "language_info": {
   "codemirror_mode": {
    "name": "ipython",
    "version": 3
   },
   "file_extension": ".py",
   "mimetype": "text/x-python",
   "name": "python",
   "nbconvert_exporter": "python",
   "pygments_lexer": "ipython3",
   "version": "3.10.10"
  },
  "papermill": {
   "default_parameters": {},
   "duration": 3538.588442,
   "end_time": "2023-08-12T18:16:28.834972",
   "environment_variables": {},
   "exception": null,
   "input_path": "__notebook__.ipynb",
   "output_path": "__notebook__.ipynb",
   "parameters": {},
   "start_time": "2023-08-12T17:17:30.246530",
   "version": "2.4.0"
  }
 },
 "nbformat": 4,
 "nbformat_minor": 5
}
