{
 "cells": [
  {
   "cell_type": "markdown",
   "id": "ab9990ca",
   "metadata": {
    "papermill": {
     "duration": 0.108539,
     "end_time": "2023-08-13T05:20:01.423191",
     "exception": false,
     "start_time": "2023-08-13T05:20:01.314652",
     "status": "completed"
    },
    "tags": []
   },
   "source": [
    "# MLP Project (T2 2023) by Ganesh P  "
   ]
  },
  {
   "cell_type": "markdown",
   "id": "2eeb09e3",
   "metadata": {
    "papermill": {
     "duration": 0.107484,
     "end_time": "2023-08-13T05:20:01.634180",
     "exception": false,
     "start_time": "2023-08-13T05:20:01.526696",
     "status": "completed"
    },
    "tags": []
   },
   "source": [
    "`Disclaimer`   \n",
    "\n",
    "> This final notebook contains only the most relevant code to show the path/flow of my project work over few weeks. Rest of the code is in [my github repo](https://github.com/ganeshbmc/MLP_project) which is private at present (I will make it public after the project is over).  "
   ]
  },
  {
   "cell_type": "markdown",
   "id": "5b7f5bf2",
   "metadata": {
    "papermill": {
     "duration": 0.10718,
     "end_time": "2023-08-13T05:20:01.844481",
     "exception": false,
     "start_time": "2023-08-13T05:20:01.737301",
     "status": "completed"
    },
    "tags": []
   },
   "source": [
    "`Strengths`  \n",
    "\n",
    "> * Modular code (DRY principle)  \n",
    "> * End to end pipeline in one function (with helper functions)   "
   ]
  },
  {
   "cell_type": "markdown",
   "id": "839ce7ac",
   "metadata": {
    "papermill": {
     "duration": 0.104497,
     "end_time": "2023-08-13T05:20:02.052168",
     "exception": false,
     "start_time": "2023-08-13T05:20:01.947671",
     "status": "completed"
    },
    "tags": []
   },
   "source": [
    "`Overview`  \n",
    "\n",
    "`PART I`  \n",
    "\n",
    "1.\t> Screen the datasets and import them.  \n",
    "2.\t> Perform EDA (first round).\n",
    "3.\t> Data cleaning.\n",
    "4.\t> Basic models including dummy model.\n",
    "5.\t> Because this is a text sentiment analysis project, focus on 'reviewText' column, work on cleaning text data and vectorising/tokenising it, build several models till the best possible score is reached.  \n",
    "\n",
    "`PART II`  \n",
    "\n",
    "6.\t> Merge train and movies dataset.\n",
    "7.\t> Perform EDA (second round) on merged dataset.\n",
    "8.\t> Data cleaning.\n",
    "9.\t> Build models on merged dataset.\n",
    "10.\t> Understand the results and do another round of EDA if needed.\n",
    "11.\t> Build final model.  \n",
    "\n",
    "`PART III (After project window closes)`  \n",
    "\n",
    "12. > Use NLTK library for further processing text data.  \n",
    "13. > Try to address comments from different languages, special characters etc.  \n",
    "14. > Try imblearn library to address class imbalance.  \n",
    "15. > Try to use currently available LLMs and see how my model performs agains them.  "
   ]
  },
  {
   "cell_type": "markdown",
   "id": "2561122a",
   "metadata": {
    "papermill": {
     "duration": 0.101188,
     "end_time": "2023-08-13T05:20:02.259613",
     "exception": false,
     "start_time": "2023-08-13T05:20:02.158425",
     "status": "completed"
    },
    "tags": []
   },
   "source": [
    "`Default code on Kaggle notebook`  "
   ]
  },
  {
   "cell_type": "code",
   "execution_count": 1,
   "id": "9ead2283",
   "metadata": {
    "_cell_guid": "b1076dfc-b9ad-4769-8c92-a6c4dae69d19",
    "_uuid": "8f2839f25d086af736a60e9eeb907d3b93b6e0e5",
    "execution": {
     "iopub.execute_input": "2023-08-13T05:20:02.471917Z",
     "iopub.status.busy": "2023-08-13T05:20:02.471517Z",
     "iopub.status.idle": "2023-08-13T05:20:02.487402Z",
     "shell.execute_reply": "2023-08-13T05:20:02.486185Z"
    },
    "papermill": {
     "duration": 0.124434,
     "end_time": "2023-08-13T05:20:02.490243",
     "exception": false,
     "start_time": "2023-08-13T05:20:02.365809",
     "status": "completed"
    },
    "tags": []
   },
   "outputs": [
    {
     "name": "stdout",
     "output_type": "stream",
     "text": [
      "/kaggle/input/sentiment-prediction-on-movie-reviews/movies.csv\n",
      "/kaggle/input/sentiment-prediction-on-movie-reviews/sample.csv\n",
      "/kaggle/input/sentiment-prediction-on-movie-reviews/train.csv\n",
      "/kaggle/input/sentiment-prediction-on-movie-reviews/test.csv\n"
     ]
    }
   ],
   "source": [
    "# This Python 3 environment comes with many helpful analytics libraries installed\n",
    "# It is defined by the kaggle/python Docker image: https://github.com/kaggle/docker-python\n",
    "# For example, here's several helpful packages to load\n",
    "\n",
    "import numpy as np # linear algebra\n",
    "import pandas as pd # data processing, CSV file I/O (e.g. pd.read_csv)\n",
    "\n",
    "# Input data files are available in the read-only \"../input/\" directory\n",
    "# For example, running this (by clicking run or pressing Shift+Enter) will list all files under the input directory\n",
    "\n",
    "import os\n",
    "for dirname, _, filenames in os.walk('/kaggle/input'):\n",
    "    for filename in filenames:\n",
    "        print(os.path.join(dirname, filename))\n",
    "\n",
    "# You can write up to 20GB to the current directory (/kaggle/working/) that gets preserved as output when you create a version using \"Save & Run All\" \n",
    "# You can also write temporary files to /kaggle/temp/, but they won't be saved outside of the current session"
   ]
  },
  {
   "cell_type": "markdown",
   "id": "986290f4",
   "metadata": {
    "papermill": {
     "duration": 0.104897,
     "end_time": "2023-08-13T05:20:02.699443",
     "exception": false,
     "start_time": "2023-08-13T05:20:02.594546",
     "status": "completed"
    },
    "tags": []
   },
   "source": [
    "### Specify platform  "
   ]
  },
  {
   "cell_type": "code",
   "execution_count": 2,
   "id": "7667dfdd",
   "metadata": {
    "execution": {
     "iopub.execute_input": "2023-08-13T05:20:02.908928Z",
     "iopub.status.busy": "2023-08-13T05:20:02.908356Z",
     "iopub.status.idle": "2023-08-13T05:20:02.913237Z",
     "shell.execute_reply": "2023-08-13T05:20:02.912338Z"
    },
    "papermill": {
     "duration": 0.111396,
     "end_time": "2023-08-13T05:20:02.915501",
     "exception": false,
     "start_time": "2023-08-13T05:20:02.804105",
     "status": "completed"
    },
    "tags": []
   },
   "outputs": [],
   "source": [
    "platform = 'kaggle'  "
   ]
  },
  {
   "cell_type": "markdown",
   "id": "f77a1922",
   "metadata": {
    "papermill": {
     "duration": 0.105957,
     "end_time": "2023-08-13T05:20:03.126073",
     "exception": false,
     "start_time": "2023-08-13T05:20:03.020116",
     "status": "completed"
    },
    "tags": []
   },
   "source": [
    "### Import libraries  "
   ]
  },
  {
   "cell_type": "code",
   "execution_count": 3,
   "id": "18b216f8",
   "metadata": {
    "execution": {
     "iopub.execute_input": "2023-08-13T05:20:03.335274Z",
     "iopub.status.busy": "2023-08-13T05:20:03.334792Z",
     "iopub.status.idle": "2023-08-13T05:20:06.286446Z",
     "shell.execute_reply": "2023-08-13T05:20:06.284594Z"
    },
    "papermill": {
     "duration": 3.057498,
     "end_time": "2023-08-13T05:20:06.289163",
     "exception": false,
     "start_time": "2023-08-13T05:20:03.231665",
     "status": "completed"
    },
    "tags": []
   },
   "outputs": [
    {
     "name": "stdout",
     "output_type": "stream",
     "text": [
      "Imports done.\n"
     ]
    }
   ],
   "source": [
    "import pandas as pd\n",
    "import numpy as np\n",
    "import matplotlib.pyplot as plt\n",
    "import seaborn as sns\n",
    "import re\n",
    "from itertools import compress\n",
    "\n",
    "from sklearn.dummy import DummyClassifier\n",
    "from sklearn.pipeline import Pipeline, FeatureUnion\n",
    "from sklearn.compose import ColumnTransformer\n",
    "from sklearn.metrics import classification_report, confusion_matrix,f1_score\n",
    "from sklearn.feature_extraction.text import TfidfVectorizer, CountVectorizer\n",
    "from sklearn.preprocessing import FunctionTransformer\n",
    "from sklearn.preprocessing import StandardScaler, MinMaxScaler, RobustScaler, OneHotEncoder, LabelEncoder, PolynomialFeatures\n",
    "from sklearn.impute import SimpleImputer, KNNImputer\n",
    "from sklearn.linear_model import LogisticRegression, SGDClassifier\n",
    "from sklearn.tree import DecisionTreeClassifier\n",
    "from sklearn.ensemble import RandomForestClassifier, AdaBoostClassifier\n",
    "from sklearn.svm import LinearSVC\n",
    "from sklearn.naive_bayes import GaussianNB, BernoulliNB, CategoricalNB, ComplementNB, MultinomialNB\n",
    "from sklearn.model_selection import train_test_split, GridSearchCV, cross_val_score\n",
    "from sklearn.decomposition import PCA, TruncatedSVD\n",
    "from sklearn.feature_selection import RFECV\n",
    "from sklearn.feature_selection import RFE\n",
    "from sklearn.neural_network import MLPClassifier\n",
    "\n",
    "# import lightgbm as ltb\n",
    "\n",
    "import scipy.stats as stats\n",
    "print(\"Imports done.\")"
   ]
  },
  {
   "cell_type": "markdown",
   "id": "72032053",
   "metadata": {
    "papermill": {
     "duration": 0.102198,
     "end_time": "2023-08-13T05:20:06.493989",
     "exception": false,
     "start_time": "2023-08-13T05:20:06.391791",
     "status": "completed"
    },
    "tags": []
   },
   "source": [
    "# PART I  "
   ]
  },
  {
   "cell_type": "markdown",
   "id": "49b10e63",
   "metadata": {
    "papermill": {
     "duration": 0.174007,
     "end_time": "2023-08-13T05:20:06.773299",
     "exception": false,
     "start_time": "2023-08-13T05:20:06.599292",
     "status": "completed"
    },
    "tags": []
   },
   "source": [
    "## Load datasets  "
   ]
  },
  {
   "cell_type": "code",
   "execution_count": 4,
   "id": "66d6fa29",
   "metadata": {
    "execution": {
     "iopub.execute_input": "2023-08-13T05:20:06.982730Z",
     "iopub.status.busy": "2023-08-13T05:20:06.982330Z",
     "iopub.status.idle": "2023-08-13T05:20:08.178540Z",
     "shell.execute_reply": "2023-08-13T05:20:08.177032Z"
    },
    "papermill": {
     "duration": 1.305287,
     "end_time": "2023-08-13T05:20:08.181576",
     "exception": false,
     "start_time": "2023-08-13T05:20:06.876289",
     "status": "completed"
    },
    "tags": []
   },
   "outputs": [
    {
     "data": {
      "text/plain": [
       "(162758, 5)"
      ]
     },
     "execution_count": 4,
     "metadata": {},
     "output_type": "execute_result"
    }
   ],
   "source": [
    "if platform == 'vscode':\n",
    "    traindf = pd.read_csv(\"data/train.csv\")\n",
    "else:\n",
    "    traindf = pd.read_csv(\"/kaggle/input/sentiment-prediction-on-movie-reviews/train.csv\")\n",
    "    \n",
    "traindf.shape"
   ]
  },
  {
   "cell_type": "code",
   "execution_count": 5,
   "id": "44d26ebb",
   "metadata": {
    "execution": {
     "iopub.execute_input": "2023-08-13T05:20:08.389338Z",
     "iopub.status.busy": "2023-08-13T05:20:08.388892Z",
     "iopub.status.idle": "2023-08-13T05:20:08.749321Z",
     "shell.execute_reply": "2023-08-13T05:20:08.747882Z"
    },
    "papermill": {
     "duration": 0.468358,
     "end_time": "2023-08-13T05:20:08.753817",
     "exception": false,
     "start_time": "2023-08-13T05:20:08.285459",
     "status": "completed"
    },
    "tags": []
   },
   "outputs": [
    {
     "data": {
      "text/plain": [
       "(55315, 4)"
      ]
     },
     "execution_count": 5,
     "metadata": {},
     "output_type": "execute_result"
    }
   ],
   "source": [
    "if platform == 'vscode':\n",
    "    testdf = pd.read_csv(\"data/test.csv\")\n",
    "else:\n",
    "    testdf = pd.read_csv(\"/kaggle/input/sentiment-prediction-on-movie-reviews/test.csv\")\n",
    "\n",
    "testdf.shape"
   ]
  },
  {
   "cell_type": "markdown",
   "id": "5193a291",
   "metadata": {
    "papermill": {
     "duration": 0.104289,
     "end_time": "2023-08-13T05:20:08.963853",
     "exception": false,
     "start_time": "2023-08-13T05:20:08.859564",
     "status": "completed"
    },
    "tags": []
   },
   "source": [
    "### Understanding the data and getting it ready for training and evaluating models  \n"
   ]
  },
  {
   "cell_type": "code",
   "execution_count": 6,
   "id": "befdbb62",
   "metadata": {
    "execution": {
     "iopub.execute_input": "2023-08-13T05:20:09.181248Z",
     "iopub.status.busy": "2023-08-13T05:20:09.180440Z",
     "iopub.status.idle": "2023-08-13T05:20:09.189988Z",
     "shell.execute_reply": "2023-08-13T05:20:09.188725Z"
    },
    "papermill": {
     "duration": 0.120015,
     "end_time": "2023-08-13T05:20:09.192735",
     "exception": false,
     "start_time": "2023-08-13T05:20:09.072720",
     "status": "completed"
    },
    "tags": []
   },
   "outputs": [
    {
     "data": {
      "text/plain": [
       "(162758, 5)"
      ]
     },
     "execution_count": 6,
     "metadata": {},
     "output_type": "execute_result"
    }
   ],
   "source": [
    "traindf.shape"
   ]
  },
  {
   "cell_type": "code",
   "execution_count": 7,
   "id": "b26aa1cc",
   "metadata": {
    "execution": {
     "iopub.execute_input": "2023-08-13T05:20:09.417863Z",
     "iopub.status.busy": "2023-08-13T05:20:09.416531Z",
     "iopub.status.idle": "2023-08-13T05:20:09.669009Z",
     "shell.execute_reply": "2023-08-13T05:20:09.667235Z"
    },
    "papermill": {
     "duration": 0.359049,
     "end_time": "2023-08-13T05:20:09.671581",
     "exception": false,
     "start_time": "2023-08-13T05:20:09.312532",
     "status": "completed"
    },
    "tags": []
   },
   "outputs": [
    {
     "name": "stdout",
     "output_type": "stream",
     "text": [
      "<class 'pandas.core.frame.DataFrame'>\n",
      "RangeIndex: 162758 entries, 0 to 162757\n",
      "Data columns (total 5 columns):\n",
      " #   Column              Non-Null Count   Dtype \n",
      "---  ------              --------------   ----- \n",
      " 0   movieid             162758 non-null  object\n",
      " 1   reviewerName        162758 non-null  object\n",
      " 2   isFrequentReviewer  162758 non-null  bool  \n",
      " 3   reviewText          156311 non-null  object\n",
      " 4   sentiment           162758 non-null  object\n",
      "dtypes: bool(1), object(4)\n",
      "memory usage: 5.1+ MB\n"
     ]
    }
   ],
   "source": [
    "traindf.info()"
   ]
  },
  {
   "cell_type": "code",
   "execution_count": 8,
   "id": "963371ca",
   "metadata": {
    "execution": {
     "iopub.execute_input": "2023-08-13T05:20:09.885879Z",
     "iopub.status.busy": "2023-08-13T05:20:09.885427Z",
     "iopub.status.idle": "2023-08-13T05:20:10.118431Z",
     "shell.execute_reply": "2023-08-13T05:20:10.117164Z"
    },
    "papermill": {
     "duration": 0.343578,
     "end_time": "2023-08-13T05:20:10.121384",
     "exception": false,
     "start_time": "2023-08-13T05:20:09.777806",
     "status": "completed"
    },
    "tags": []
   },
   "outputs": [
    {
     "data": {
      "text/plain": [
       "movieid                  0\n",
       "reviewerName             0\n",
       "isFrequentReviewer       0\n",
       "reviewText            6447\n",
       "sentiment                0\n",
       "dtype: int64"
      ]
     },
     "execution_count": 8,
     "metadata": {},
     "output_type": "execute_result"
    }
   ],
   "source": [
    "traindf.isna().sum()"
   ]
  },
  {
   "cell_type": "markdown",
   "id": "25c84fda",
   "metadata": {
    "papermill": {
     "duration": 0.10381,
     "end_time": "2023-08-13T05:20:10.331085",
     "exception": false,
     "start_time": "2023-08-13T05:20:10.227275",
     "status": "completed"
    },
    "tags": []
   },
   "source": [
    "### Fill empty reviewText with custom text  "
   ]
  },
  {
   "cell_type": "code",
   "execution_count": 9,
   "id": "a26eba46",
   "metadata": {
    "execution": {
     "iopub.execute_input": "2023-08-13T05:20:10.542882Z",
     "iopub.status.busy": "2023-08-13T05:20:10.542030Z",
     "iopub.status.idle": "2023-08-13T05:20:10.795381Z",
     "shell.execute_reply": "2023-08-13T05:20:10.793950Z"
    },
    "papermill": {
     "duration": 0.361774,
     "end_time": "2023-08-13T05:20:10.798000",
     "exception": false,
     "start_time": "2023-08-13T05:20:10.436226",
     "status": "completed"
    },
    "tags": []
   },
   "outputs": [
    {
     "data": {
      "text/plain": [
       "movieid               0\n",
       "reviewerName          0\n",
       "isFrequentReviewer    0\n",
       "reviewText            0\n",
       "sentiment             0\n",
       "dtype: int64"
      ]
     },
     "execution_count": 9,
     "metadata": {},
     "output_type": "execute_result"
    }
   ],
   "source": [
    "traindf[\"reviewText\"].fillna(\"empty\", inplace=True)\n",
    "traindf.isna().sum()"
   ]
  },
  {
   "cell_type": "markdown",
   "id": "88ba72a2",
   "metadata": {
    "papermill": {
     "duration": 0.100415,
     "end_time": "2023-08-13T05:20:11.002308",
     "exception": false,
     "start_time": "2023-08-13T05:20:10.901893",
     "status": "completed"
    },
    "tags": []
   },
   "source": [
    "## EDA  \n"
   ]
  },
  {
   "cell_type": "code",
   "execution_count": 10,
   "id": "909b52b2",
   "metadata": {
    "execution": {
     "iopub.execute_input": "2023-08-13T05:20:11.214107Z",
     "iopub.status.busy": "2023-08-13T05:20:11.213680Z",
     "iopub.status.idle": "2023-08-13T05:20:11.508294Z",
     "shell.execute_reply": "2023-08-13T05:20:11.506424Z"
    },
    "papermill": {
     "duration": 0.407401,
     "end_time": "2023-08-13T05:20:11.512790",
     "exception": false,
     "start_time": "2023-08-13T05:20:11.105389",
     "status": "completed"
    },
    "tags": []
   },
   "outputs": [
    {
     "data": {
      "image/png": "[encoded data removed]",
      "text/plain": [
       "<Figure size 600x400 with 1 Axes>"
      ]
     },
     "metadata": {},
     "output_type": "display_data"
    }
   ],
   "source": [
    "# Pie chart for sentiment column\n",
    "plt.figure(figsize=(6, 4))\n",
    "traindf[\"sentiment\"].value_counts().plot(kind='pie', autopct='%1.0f%%', colors=[\"lightgreen\", \"crimson\"])\n",
    "plt.title(\"Pie chart for sentiment column\")\n",
    "plt.show()"
   ]
  },
  {
   "cell_type": "code",
   "execution_count": 11,
   "id": "abf75eec",
   "metadata": {
    "execution": {
     "iopub.execute_input": "2023-08-13T05:20:11.746208Z",
     "iopub.status.busy": "2023-08-13T05:20:11.745445Z",
     "iopub.status.idle": "2023-08-13T05:20:11.828306Z",
     "shell.execute_reply": "2023-08-13T05:20:11.826597Z"
    },
    "papermill": {
     "duration": 0.192995,
     "end_time": "2023-08-13T05:20:11.831063",
     "exception": false,
     "start_time": "2023-08-13T05:20:11.638068",
     "status": "completed"
    },
    "tags": []
   },
   "outputs": [
    {
     "name": "stdout",
     "output_type": "stream",
     "text": [
      "sentiment           NEGATIVE  POSITIVE\n",
      "isFrequentReviewer                    \n",
      "False                  35760     77429\n",
      "True                   18237     31332\n"
     ]
    },
    {
     "data": {
      "text/plain": [
       "Chi2ContingencyResult(statistic=419.89235425657796, pvalue=2.5755894769493255e-93, dof=1, expected_freq=array([[37551.86493444, 75637.13506556],\n",
       "       [16445.13506556, 33123.86493444]]))"
      ]
     },
     "execution_count": 11,
     "metadata": {},
     "output_type": "execute_result"
    }
   ],
   "source": [
    "# Chi-square test for isFrequentReviewer column and sentiment column   \n",
    "\n",
    "contingency_table = pd.crosstab(traindf['isFrequentReviewer'], traindf['sentiment'])\n",
    "print(contingency_table)\n",
    "stats.chi2_contingency(contingency_table)"
   ]
  },
  {
   "cell_type": "markdown",
   "id": "af09e881",
   "metadata": {
    "papermill": {
     "duration": 0.109512,
     "end_time": "2023-08-13T05:20:12.044549",
     "exception": false,
     "start_time": "2023-08-13T05:20:11.935037",
     "status": "completed"
    },
    "tags": []
   },
   "source": [
    "### Separate features and labels  "
   ]
  },
  {
   "cell_type": "code",
   "execution_count": 12,
   "id": "f65c75b1",
   "metadata": {
    "execution": {
     "iopub.execute_input": "2023-08-13T05:20:12.258046Z",
     "iopub.status.busy": "2023-08-13T05:20:12.257595Z",
     "iopub.status.idle": "2023-08-13T05:20:12.267007Z",
     "shell.execute_reply": "2023-08-13T05:20:12.265679Z"
    },
    "papermill": {
     "duration": 0.120346,
     "end_time": "2023-08-13T05:20:12.269563",
     "exception": false,
     "start_time": "2023-08-13T05:20:12.149217",
     "status": "completed"
    },
    "tags": []
   },
   "outputs": [
    {
     "data": {
      "text/plain": [
       "((162758,), (162758,))"
      ]
     },
     "execution_count": 12,
     "metadata": {},
     "output_type": "execute_result"
    }
   ],
   "source": [
    "train_features = traindf[\"reviewText\"]\n",
    "train_labels = traindf.iloc[:, -1]\n",
    "train_features.shape, train_labels.shape"
   ]
  },
  {
   "cell_type": "markdown",
   "id": "34945c34",
   "metadata": {
    "papermill": {
     "duration": 0.104921,
     "end_time": "2023-08-13T05:20:12.477732",
     "exception": false,
     "start_time": "2023-08-13T05:20:12.372811",
     "status": "completed"
    },
    "tags": []
   },
   "source": [
    "### Split traindf into training and testing parts  "
   ]
  },
  {
   "cell_type": "code",
   "execution_count": 13,
   "id": "587ba2d6",
   "metadata": {
    "execution": {
     "iopub.execute_input": "2023-08-13T05:20:12.692370Z",
     "iopub.status.busy": "2023-08-13T05:20:12.690952Z",
     "iopub.status.idle": "2023-08-13T05:20:12.733701Z",
     "shell.execute_reply": "2023-08-13T05:20:12.732379Z"
    },
    "papermill": {
     "duration": 0.154447,
     "end_time": "2023-08-13T05:20:12.736281",
     "exception": false,
     "start_time": "2023-08-13T05:20:12.581834",
     "status": "completed"
    },
    "tags": []
   },
   "outputs": [
    {
     "data": {
      "text/plain": [
       "((122068,), (40690,), (122068,), (40690,))"
      ]
     },
     "execution_count": 13,
     "metadata": {},
     "output_type": "execute_result"
    }
   ],
   "source": [
    "X_train, X_test, y_train, y_test = train_test_split(train_features, train_labels, test_size=0.25, random_state=42)\n",
    "X_train.shape, X_test.shape, y_train.shape, y_test.shape"
   ]
  },
  {
   "cell_type": "markdown",
   "id": "db42ab03",
   "metadata": {
    "papermill": {
     "duration": 0.108265,
     "end_time": "2023-08-13T05:20:12.949846",
     "exception": false,
     "start_time": "2023-08-13T05:20:12.841581",
     "status": "completed"
    },
    "tags": []
   },
   "source": [
    "## Model evaluation plan and code  "
   ]
  },
  {
   "cell_type": "code",
   "execution_count": 14,
   "id": "32786923",
   "metadata": {
    "execution": {
     "iopub.execute_input": "2023-08-13T05:20:13.161869Z",
     "iopub.status.busy": "2023-08-13T05:20:13.161215Z",
     "iopub.status.idle": "2023-08-13T05:20:13.166618Z",
     "shell.execute_reply": "2023-08-13T05:20:13.164516Z"
    },
    "papermill": {
     "duration": 0.112212,
     "end_time": "2023-08-13T05:20:13.170027",
     "exception": false,
     "start_time": "2023-08-13T05:20:13.057815",
     "status": "completed"
    },
    "tags": []
   },
   "outputs": [],
   "source": [
    "# from sklearn.metrics import classification_report, confusion_matrix, ConfusionMatrixDisplay\n",
    "# from sklearn.metrics import f1_score"
   ]
  },
  {
   "cell_type": "code",
   "execution_count": 15,
   "id": "9d9c756f",
   "metadata": {
    "execution": {
     "iopub.execute_input": "2023-08-13T05:20:13.384110Z",
     "iopub.status.busy": "2023-08-13T05:20:13.383314Z",
     "iopub.status.idle": "2023-08-13T05:20:13.389446Z",
     "shell.execute_reply": "2023-08-13T05:20:13.388064Z"
    },
    "papermill": {
     "duration": 0.116296,
     "end_time": "2023-08-13T05:20:13.392046",
     "exception": false,
     "start_time": "2023-08-13T05:20:13.275750",
     "status": "completed"
    },
    "tags": []
   },
   "outputs": [],
   "source": [
    "# def evaluate(y_test, y_pred):\n",
    "#     print(classification_report(y_test, y_pred))\n",
    "#     print(confusion_matrix(y_test, y_pred))\n",
    "#     # print(f1_score(y_test, y_pred))\n",
    "#     ConfusionMatrixDisplay(y_test, y_pred)\n",
    "#     return"
   ]
  },
  {
   "cell_type": "markdown",
   "id": "0d770775",
   "metadata": {
    "papermill": {
     "duration": 0.110923,
     "end_time": "2023-08-13T05:20:13.609879",
     "exception": false,
     "start_time": "2023-08-13T05:20:13.498956",
     "status": "completed"
    },
    "tags": []
   },
   "source": [
    "### Data preprocessing  "
   ]
  },
  {
   "cell_type": "markdown",
   "id": "b85d98d6",
   "metadata": {
    "papermill": {
     "duration": 0.110129,
     "end_time": "2023-08-13T05:20:13.827941",
     "exception": false,
     "start_time": "2023-08-13T05:20:13.717812",
     "status": "completed"
    },
    "tags": []
   },
   "source": [
    "`Define stop words`  "
   ]
  },
  {
   "cell_type": "code",
   "execution_count": 16,
   "id": "03684781",
   "metadata": {
    "execution": {
     "iopub.execute_input": "2023-08-13T05:20:14.045635Z",
     "iopub.status.busy": "2023-08-13T05:20:14.044997Z",
     "iopub.status.idle": "2023-08-13T05:20:14.049678Z",
     "shell.execute_reply": "2023-08-13T05:20:14.048750Z"
    },
    "papermill": {
     "duration": 0.118639,
     "end_time": "2023-08-13T05:20:14.052101",
     "exception": false,
     "start_time": "2023-08-13T05:20:13.933462",
     "status": "completed"
    },
    "tags": []
   },
   "outputs": [],
   "source": [
    "# stop_words = [\"able\", \"about\", \"above\", \"abst\", \"ac\"]     # Deprecated  \n",
    "# type(stop_words), len(stop_words)"
   ]
  },
  {
   "cell_type": "markdown",
   "id": "475ef1e1",
   "metadata": {
    "papermill": {
     "duration": 0.117553,
     "end_time": "2023-08-13T05:20:14.276716",
     "exception": false,
     "start_time": "2023-08-13T05:20:14.159163",
     "status": "completed"
    },
    "tags": []
   },
   "source": [
    "## Feature extraction  "
   ]
  },
  {
   "cell_type": "markdown",
   "id": "c5b588ca",
   "metadata": {
    "papermill": {
     "duration": 0.102939,
     "end_time": "2023-08-13T05:20:14.486797",
     "exception": false,
     "start_time": "2023-08-13T05:20:14.383858",
     "status": "completed"
    },
    "tags": []
   },
   "source": [
    "### Understand CountVectorizer and TfidfVectorizer  "
   ]
  },
  {
   "cell_type": "code",
   "execution_count": 17,
   "id": "8487cbcf",
   "metadata": {
    "execution": {
     "iopub.execute_input": "2023-08-13T05:20:14.702590Z",
     "iopub.status.busy": "2023-08-13T05:20:14.702197Z",
     "iopub.status.idle": "2023-08-13T05:20:14.707035Z",
     "shell.execute_reply": "2023-08-13T05:20:14.705571Z"
    },
    "papermill": {
     "duration": 0.118456,
     "end_time": "2023-08-13T05:20:14.710056",
     "exception": false,
     "start_time": "2023-08-13T05:20:14.591600",
     "status": "completed"
    },
    "tags": []
   },
   "outputs": [],
   "source": [
    "# text = X_train.copy()\n",
    "# text.head()"
   ]
  },
  {
   "cell_type": "code",
   "execution_count": 18,
   "id": "a6bf4da6",
   "metadata": {
    "execution": {
     "iopub.execute_input": "2023-08-13T05:20:14.922927Z",
     "iopub.status.busy": "2023-08-13T05:20:14.922455Z",
     "iopub.status.idle": "2023-08-13T05:20:14.929554Z",
     "shell.execute_reply": "2023-08-13T05:20:14.927514Z"
    },
    "papermill": {
     "duration": 0.115357,
     "end_time": "2023-08-13T05:20:14.932225",
     "exception": false,
     "start_time": "2023-08-13T05:20:14.816868",
     "status": "completed"
    },
    "tags": []
   },
   "outputs": [],
   "source": [
    "# vectorizer = TfidfVectorizer(stop_words=stop_words)\n",
    "# vectorized_text = vectorizer.fit_transform(text[\"reviewText\"])\n",
    "# vectorized_text"
   ]
  },
  {
   "cell_type": "markdown",
   "id": "71cddba8",
   "metadata": {
    "papermill": {
     "duration": 0.124019,
     "end_time": "2023-08-13T05:20:15.182948",
     "exception": false,
     "start_time": "2023-08-13T05:20:15.058929",
     "status": "completed"
    },
    "tags": []
   },
   "source": [
    "`Without stop words`  \n",
    "<122068x58624 sparse matrix of type '<class 'numpy.float64'>'\n",
    "\twith 2312222 stored elements in Compressed Sparse Row format>\n",
    "\n",
    "`With stop words`  \n",
    "<122068x57784 sparse matrix of type '<class 'numpy.float64'>'\n",
    "\twith 1188395 stored elements in Compressed Sparse Row format>   "
   ]
  },
  {
   "cell_type": "code",
   "execution_count": 19,
   "id": "857d8c41",
   "metadata": {
    "execution": {
     "iopub.execute_input": "2023-08-13T05:20:15.422056Z",
     "iopub.status.busy": "2023-08-13T05:20:15.421508Z",
     "iopub.status.idle": "2023-08-13T05:20:15.427366Z",
     "shell.execute_reply": "2023-08-13T05:20:15.426010Z"
    },
    "papermill": {
     "duration": 0.134373,
     "end_time": "2023-08-13T05:20:15.430196",
     "exception": false,
     "start_time": "2023-08-13T05:20:15.295823",
     "status": "completed"
    },
    "tags": []
   },
   "outputs": [],
   "source": [
    "# vectorizer2 = CountVectorizer(stop_words=stop_words)\n",
    "# vectorized_text2 = vectorizer2.fit_transform(text[\"reviewText\"])\n",
    "# vectorized_text2"
   ]
  },
  {
   "cell_type": "markdown",
   "id": "30d85167",
   "metadata": {
    "papermill": {
     "duration": 0.107326,
     "end_time": "2023-08-13T05:20:15.647794",
     "exception": false,
     "start_time": "2023-08-13T05:20:15.540468",
     "status": "completed"
    },
    "tags": []
   },
   "source": [
    "`Without stop words`  \n",
    "<122068x58624 sparse matrix of type '<class 'numpy.int64'>'\n",
    "\twith 2312222 stored elements in Compressed Sparse Row format>\n",
    "\n",
    "`With stop words`  \n",
    "<122068x57784 sparse matrix of type '<class 'numpy.int64'>'\n",
    "\twith 1188395 stored elements in Compressed Sparse Row format>"
   ]
  },
  {
   "cell_type": "markdown",
   "id": "3abe89b6",
   "metadata": {
    "papermill": {
     "duration": 0.110827,
     "end_time": "2023-08-13T05:20:15.867596",
     "exception": false,
     "start_time": "2023-08-13T05:20:15.756769",
     "status": "completed"
    },
    "tags": []
   },
   "source": [
    "### Conclusion   \n",
    "`TfidfVectorizer is equivalent to CountVectorizer followed by TfidfTransformer.`  \n",
    "\n",
    "https://scikit-learn.org/stable/modules/generated/sklearn.feature_extraction.text.TfidfVectorizer.html"
   ]
  },
  {
   "cell_type": "markdown",
   "id": "ad749a0a",
   "metadata": {
    "papermill": {
     "duration": 0.105626,
     "end_time": "2023-08-13T05:20:16.084724",
     "exception": false,
     "start_time": "2023-08-13T05:20:15.979098",
     "status": "completed"
    },
    "tags": []
   },
   "source": [
    "## Model building workflow  \n",
    "\n",
    "`Make pipeline for preprocesing and model training and predictions`  \n"
   ]
  },
  {
   "cell_type": "code",
   "execution_count": 20,
   "id": "9f8ef321",
   "metadata": {
    "execution": {
     "iopub.execute_input": "2023-08-13T05:20:16.302463Z",
     "iopub.status.busy": "2023-08-13T05:20:16.302055Z",
     "iopub.status.idle": "2023-08-13T05:20:16.307872Z",
     "shell.execute_reply": "2023-08-13T05:20:16.306625Z"
    },
    "papermill": {
     "duration": 0.117094,
     "end_time": "2023-08-13T05:20:16.310698",
     "exception": false,
     "start_time": "2023-08-13T05:20:16.193604",
     "status": "completed"
    },
    "tags": []
   },
   "outputs": [],
   "source": [
    "# def preprocess_n_train(X_train, y_train, preprocessor, model):\n",
    "#     pipe = Pipeline(steps=[\n",
    "#                             (\"preprocessor\", preprocessor),\n",
    "#                             (\"model\", model)\n",
    "#                         ])\n",
    "    \n",
    "#     pipe.fit(X_train, y_train)\n",
    "\n",
    "#     print(\"Given model has been trained. Use predict method to get predictions array.\")\n",
    "#     return pipe\n",
    "\n",
    "\n",
    "# def predict_n_evaluate(pipeline, X_test, y_test):\n",
    "#     y_pred = pipeline.predict(X_test)\n",
    "#     print(f\"y_pred shape: {y_pred.shape}\")\n",
    "#     print(f\"Summary of predictions: {np.unique(y_pred, return_counts=True)}\")\n",
    "#     print(classification_report(y_test, y_pred))\n",
    "#     print(confusion_matrix(y_test, y_pred))\n",
    "#     return y_pred"
   ]
  },
  {
   "cell_type": "markdown",
   "id": "b9269e26",
   "metadata": {
    "papermill": {
     "duration": 0.107867,
     "end_time": "2023-08-13T05:20:16.526182",
     "exception": false,
     "start_time": "2023-08-13T05:20:16.418315",
     "status": "completed"
    },
    "tags": []
   },
   "source": [
    "## Building 3 basic models  "
   ]
  },
  {
   "cell_type": "markdown",
   "id": "fd42bf88",
   "metadata": {
    "papermill": {
     "duration": 0.107451,
     "end_time": "2023-08-13T05:20:16.737754",
     "exception": false,
     "start_time": "2023-08-13T05:20:16.630303",
     "status": "completed"
    },
    "tags": []
   },
   "source": [
    "### Text preprocessors  "
   ]
  },
  {
   "cell_type": "code",
   "execution_count": 21,
   "id": "17102a0c",
   "metadata": {
    "execution": {
     "iopub.execute_input": "2023-08-13T05:20:16.954792Z",
     "iopub.status.busy": "2023-08-13T05:20:16.954326Z",
     "iopub.status.idle": "2023-08-13T05:20:16.960827Z",
     "shell.execute_reply": "2023-08-13T05:20:16.958967Z"
    },
    "papermill": {
     "duration": 0.117828,
     "end_time": "2023-08-13T05:20:16.964402",
     "exception": false,
     "start_time": "2023-08-13T05:20:16.846574",
     "status": "completed"
    },
    "tags": []
   },
   "outputs": [],
   "source": [
    "# tvec = TfidfVectorizer()\n",
    "# cvec = CountVectorizer()        # Note that TfidfVectorizer and CountVectorizer+TfidsTransformer do the same function\n",
    "# tvec, cvec"
   ]
  },
  {
   "cell_type": "markdown",
   "id": "b3812801",
   "metadata": {
    "papermill": {
     "duration": 0.103804,
     "end_time": "2023-08-13T05:20:17.179028",
     "exception": false,
     "start_time": "2023-08-13T05:20:17.075224",
     "status": "completed"
    },
    "tags": []
   },
   "source": [
    "### Logistic Regression with TfidVectorizer for preprocessing  "
   ]
  },
  {
   "cell_type": "code",
   "execution_count": 22,
   "id": "decd1533",
   "metadata": {
    "execution": {
     "iopub.execute_input": "2023-08-13T05:20:17.396823Z",
     "iopub.status.busy": "2023-08-13T05:20:17.396400Z",
     "iopub.status.idle": "2023-08-13T05:20:17.401524Z",
     "shell.execute_reply": "2023-08-13T05:20:17.400204Z"
    },
    "papermill": {
     "duration": 0.114848,
     "end_time": "2023-08-13T05:20:17.404012",
     "exception": false,
     "start_time": "2023-08-13T05:20:17.289164",
     "status": "completed"
    },
    "tags": []
   },
   "outputs": [],
   "source": [
    "# logreg = LogisticRegression(max_iter=1000)\n",
    "# logreg_pipe = preprocess_n_train(X_train, y_train, tvec, logreg)\n",
    "# y_pred_logreg = predict_n_evaluate(logreg_pipe, X_test, y_test)\n",
    "# y_pred_logreg"
   ]
  },
  {
   "cell_type": "markdown",
   "id": "2c9216f4",
   "metadata": {
    "papermill": {
     "duration": 0.108046,
     "end_time": "2023-08-13T05:20:17.617834",
     "exception": false,
     "start_time": "2023-08-13T05:20:17.509788",
     "status": "completed"
    },
    "tags": []
   },
   "source": [
    "### SVM model  "
   ]
  },
  {
   "cell_type": "code",
   "execution_count": 23,
   "id": "b1af5368",
   "metadata": {
    "execution": {
     "iopub.execute_input": "2023-08-13T05:20:17.830163Z",
     "iopub.status.busy": "2023-08-13T05:20:17.829423Z",
     "iopub.status.idle": "2023-08-13T05:20:17.833639Z",
     "shell.execute_reply": "2023-08-13T05:20:17.832717Z"
    },
    "papermill": {
     "duration": 0.113709,
     "end_time": "2023-08-13T05:20:17.837008",
     "exception": false,
     "start_time": "2023-08-13T05:20:17.723299",
     "status": "completed"
    },
    "tags": []
   },
   "outputs": [],
   "source": [
    "# svm = LinearSVC()\n",
    "# svm_pipe = preprocess_n_train(X_train, y_train, tvec, svm)\n",
    "# y_pred_svm = predict_n_evaluate(svm_pipe, X_test, y_test)\n",
    "# y_pred_svm"
   ]
  },
  {
   "cell_type": "markdown",
   "id": "db45f55c",
   "metadata": {
    "papermill": {
     "duration": 0.107182,
     "end_time": "2023-08-13T05:20:18.047820",
     "exception": false,
     "start_time": "2023-08-13T05:20:17.940638",
     "status": "completed"
    },
    "tags": []
   },
   "source": [
    "### Naive Bayes model  "
   ]
  },
  {
   "cell_type": "markdown",
   "id": "2924a2a7",
   "metadata": {
    "papermill": {
     "duration": 0.112402,
     "end_time": "2023-08-13T05:20:18.265194",
     "exception": false,
     "start_time": "2023-08-13T05:20:18.152792",
     "status": "completed"
    },
    "tags": []
   },
   "source": [
    "#### MultinomialNB  "
   ]
  },
  {
   "cell_type": "code",
   "execution_count": 24,
   "id": "0837f923",
   "metadata": {
    "execution": {
     "iopub.execute_input": "2023-08-13T05:20:18.490935Z",
     "iopub.status.busy": "2023-08-13T05:20:18.490476Z",
     "iopub.status.idle": "2023-08-13T05:20:18.495421Z",
     "shell.execute_reply": "2023-08-13T05:20:18.494407Z"
    },
    "papermill": {
     "duration": 0.118657,
     "end_time": "2023-08-13T05:20:18.498347",
     "exception": false,
     "start_time": "2023-08-13T05:20:18.379690",
     "status": "completed"
    },
    "tags": []
   },
   "outputs": [],
   "source": [
    "# mnb = MultinomialNB()\n",
    "# mnb_pipe = preprocess_n_train(X_train, y_train, tvec, mnb)\n",
    "# y_pred_mnb = predict_n_evaluate(mnb_pipe, X_test, y_test)\n",
    "# y_pred_mnb"
   ]
  },
  {
   "cell_type": "markdown",
   "id": "3f28ba77",
   "metadata": {
    "papermill": {
     "duration": 0.174245,
     "end_time": "2023-08-13T05:20:18.779321",
     "exception": false,
     "start_time": "2023-08-13T05:20:18.605076",
     "status": "completed"
    },
    "tags": []
   },
   "source": [
    "## Submitting predictions to Kaggle competition  "
   ]
  },
  {
   "cell_type": "code",
   "execution_count": 25,
   "id": "6f836b4a",
   "metadata": {
    "execution": {
     "iopub.execute_input": "2023-08-13T05:20:18.995969Z",
     "iopub.status.busy": "2023-08-13T05:20:18.994849Z",
     "iopub.status.idle": "2023-08-13T05:20:19.002646Z",
     "shell.execute_reply": "2023-08-13T05:20:19.001022Z"
    },
    "papermill": {
     "duration": 0.118205,
     "end_time": "2023-08-13T05:20:19.005612",
     "exception": false,
     "start_time": "2023-08-13T05:20:18.887407",
     "status": "completed"
    },
    "tags": []
   },
   "outputs": [],
   "source": [
    "# def submit(selected_model=logreg, selected_preprocessor=tvec):\n",
    "    \n",
    "#     # Retrain on the whole train.csv file  \n",
    "#     traindf = pd.read_csv(\"/kaggle/input/sentiment-prediction-on-movie-reviews/train.csv\")\n",
    "#     X_train = traindf[\"reviewText\"]\n",
    "#     X_train.fillna(\"empty\", inplace=True)\n",
    "#     y_train = traindf[\"sentiment\"]\n",
    "#     pipe = preprocess_n_train(X_train, y_train, selected_preprocessor, selected_model)\n",
    "    \n",
    "#     # Predict on test.csv file\n",
    "#     testdf = pd.read_csv(\"/kaggle/input/sentiment-prediction-on-movie-reviews/test.csv\")\n",
    "#     X_test = testdf[\"reviewText\"]\n",
    "#     X_test.fillna(\"empty\", inplace=True)\n",
    "    \n",
    "#     y_pred = pipe.predict(X_test)\n",
    "    \n",
    "#     pred_df = pd.DataFrame(y_pred)\n",
    "#     pred_df.columns = [\"sentiment\"]\n",
    "#     pred_df.index.name = \"id\"\n",
    "#     pred_df.to_csv(\"submission.csv\")\n",
    "    \n",
    "#     return \"Successfully created the submission file!!!\""
   ]
  },
  {
   "cell_type": "code",
   "execution_count": 26,
   "id": "5938ba81",
   "metadata": {
    "execution": {
     "iopub.execute_input": "2023-08-13T05:20:19.232910Z",
     "iopub.status.busy": "2023-08-13T05:20:19.231922Z",
     "iopub.status.idle": "2023-08-13T05:20:19.238416Z",
     "shell.execute_reply": "2023-08-13T05:20:19.237124Z"
    },
    "papermill": {
     "duration": 0.128604,
     "end_time": "2023-08-13T05:20:19.240836",
     "exception": false,
     "start_time": "2023-08-13T05:20:19.112232",
     "status": "completed"
    },
    "tags": []
   },
   "outputs": [],
   "source": [
    "# submit(logreg_cv1, tvec_cv1)"
   ]
  },
  {
   "cell_type": "markdown",
   "id": "ee276617",
   "metadata": {
    "papermill": {
     "duration": 0.104485,
     "end_time": "2023-08-13T05:20:19.456423",
     "exception": false,
     "start_time": "2023-08-13T05:20:19.351938",
     "status": "completed"
    },
    "tags": []
   },
   "source": [
    "# PART II  "
   ]
  },
  {
   "cell_type": "markdown",
   "id": "e8fd45bd",
   "metadata": {
    "papermill": {
     "duration": 0.106353,
     "end_time": "2023-08-13T05:20:19.667502",
     "exception": false,
     "start_time": "2023-08-13T05:20:19.561149",
     "status": "completed"
    },
    "tags": []
   },
   "source": [
    "## Merge \"movies.csv\" with \"train.csv\" and \"test.csv\"  "
   ]
  },
  {
   "cell_type": "markdown",
   "id": "fa52c8bd",
   "metadata": {
    "papermill": {
     "duration": 0.105215,
     "end_time": "2023-08-13T05:20:19.880541",
     "exception": false,
     "start_time": "2023-08-13T05:20:19.775326",
     "status": "completed"
    },
    "tags": []
   },
   "source": [
    "### Helper functions  "
   ]
  },
  {
   "cell_type": "code",
   "execution_count": 27,
   "id": "bfdb3164",
   "metadata": {
    "execution": {
     "iopub.execute_input": "2023-08-13T05:20:20.097964Z",
     "iopub.status.busy": "2023-08-13T05:20:20.096569Z",
     "iopub.status.idle": "2023-08-13T05:20:20.102767Z",
     "shell.execute_reply": "2023-08-13T05:20:20.101850Z"
    },
    "papermill": {
     "duration": 0.119057,
     "end_time": "2023-08-13T05:20:20.105332",
     "exception": false,
     "start_time": "2023-08-13T05:20:19.986275",
     "status": "completed"
    },
    "tags": []
   },
   "outputs": [],
   "source": [
    "# Helper function for loading files  \n",
    "\n",
    "def load_csv(filename: str):\n",
    "    if platform == \"vscode\":\n",
    "        df = pd.read_csv(f\"data/{filename}.csv\")\n",
    "    else:\n",
    "        df = pd.read_csv(f\"/kaggle/input/sentiment-prediction-on-movie-reviews/{filename}.csv\")\n",
    "        \n",
    "    return df"
   ]
  },
  {
   "cell_type": "code",
   "execution_count": 28,
   "id": "c84555e9",
   "metadata": {
    "execution": {
     "iopub.execute_input": "2023-08-13T05:20:20.327017Z",
     "iopub.status.busy": "2023-08-13T05:20:20.326160Z",
     "iopub.status.idle": "2023-08-13T05:20:20.333700Z",
     "shell.execute_reply": "2023-08-13T05:20:20.331927Z"
    },
    "papermill": {
     "duration": 0.122572,
     "end_time": "2023-08-13T05:20:20.337440",
     "exception": false,
     "start_time": "2023-08-13T05:20:20.214868",
     "status": "completed"
    },
    "tags": []
   },
   "outputs": [],
   "source": [
    "def inspect(df: pd.DataFrame):\n",
    "    print(f\"Shape of the dataframe: {df.shape}\")\n",
    "    print()\n",
    "    print(f\"Columns in the dataframe:\\n{df.columns}\")\n",
    "    print()\n",
    "    print(f\"{df.info()}\")\n",
    "    print()\n",
    "    # print(f\"Summary: {df.describe()}\")\n",
    "    print(f\"Missing values:\\n{df.isna().sum()}\")\n",
    "    return"
   ]
  },
  {
   "cell_type": "code",
   "execution_count": 29,
   "id": "c44c82cd",
   "metadata": {
    "execution": {
     "iopub.execute_input": "2023-08-13T05:20:20.557748Z",
     "iopub.status.busy": "2023-08-13T05:20:20.556989Z",
     "iopub.status.idle": "2023-08-13T05:20:20.562461Z",
     "shell.execute_reply": "2023-08-13T05:20:20.561537Z"
    },
    "papermill": {
     "duration": 0.117904,
     "end_time": "2023-08-13T05:20:20.565083",
     "exception": false,
     "start_time": "2023-08-13T05:20:20.447179",
     "status": "completed"
    },
    "tags": []
   },
   "outputs": [],
   "source": [
    "def name_fl(name):\n",
    "    l = name.split()\n",
    "    n = ' '.join((l[0], l[-1]))\n",
    "    return n"
   ]
  },
  {
   "cell_type": "code",
   "execution_count": 30,
   "id": "f20a5dab",
   "metadata": {
    "execution": {
     "iopub.execute_input": "2023-08-13T05:20:20.780809Z",
     "iopub.status.busy": "2023-08-13T05:20:20.779946Z",
     "iopub.status.idle": "2023-08-13T05:20:20.809325Z",
     "shell.execute_reply": "2023-08-13T05:20:20.808237Z"
    },
    "papermill": {
     "duration": 0.140262,
     "end_time": "2023-08-13T05:20:20.812997",
     "exception": false,
     "start_time": "2023-08-13T05:20:20.672735",
     "status": "completed"
    },
    "tags": []
   },
   "outputs": [],
   "source": [
    "def select_features(df: pd.DataFrame, moviesdf: pd.DataFrame, row_thresh_null=None):\n",
    "    '''\n",
    "    This function merges the given dataframes. Note that the first df must be \"train\" or \"test\" and\n",
    "    the second df should be \"movies\".\n",
    "    Note: Sentiment column is present only in \"train.csv\" file and not \"test.csv\" file.\n",
    "    '''\n",
    "    \n",
    "    # Drop duplicates from moviesdf\n",
    "#     movies_unique = moviesdf.drop_duplicates(subset=[\"movieid\"])\n",
    "\n",
    "    # Drop duplicates using groupby - clubs similar rows and fills in missing values better\n",
    "    movies_unique = moviesdf.fillna(value=np.nan).groupby(\"movieid\").first().reset_index()\n",
    "    \n",
    "\n",
    "    # Handle missing values in movies.csv better than just dropping duplicates?\n",
    "#     movies_unique = moviesdf.copy()\n",
    "#     movies_unique[[\"audienceScore\", \"runtimeMinutes\"]] = movies_unique[[\"audienceScore\", \"runtimeMinutes\"]].interpolate(method='linear', axis=0)\n",
    "#     movies_unique = movies_unique.fillna(value=np.nan).groupby(\"movieid\").first().fillna(method='ffill').reset_index()\n",
    "\n",
    "    \n",
    "\n",
    "    # Merge df and movies_unique\n",
    "    df_merged = pd.merge(df, movies_unique, on=\"movieid\", how='left')\n",
    "    \n",
    "    # Rename \"isTopCritic\" column, if it exists, to \"isFrequentReviewer\"\n",
    "    df_merged.rename(columns={\"isTopCritic\": \"isFrequentReviewer\"}, inplace=True)\n",
    "    \n",
    "    # Drop columns\n",
    "#     df_merged = df_merged.drop(columns=[\"title\", \"ratingContents\", \"releaseDateTheaters\", \"releaseDateStreaming\", \"distributor\", \"soundType\"])\n",
    "#     df_merged = df_merged.drop(columns=[\"title\", \"soundType\"])\n",
    "    \n",
    "    # Drop rows (OPTIONAL: Uses kwarg row_thresh_null)\n",
    "    if row_thresh_null != None:\n",
    "        df_merged.dropna(axis=0, thresh=(df_merged.shape[1] - row_thresh_null), inplace=True)\n",
    "        \n",
    "\n",
    "    # Create new columns based on reviewText\n",
    "    final = df_merged.copy()\n",
    "    final[\"reviewYN\"] = np.where(final[\"reviewText\"].isnull(), 1, 0)    # Feature engineering - adding a new column\n",
    "    final[\"reviewWC\"] = final.apply(lambda x: len(str(x[\"reviewText\"]).split()), axis=1)    # Feature engineering - adding second new column\n",
    "    \n",
    "    # Clean text (replace numbers with empty string) and fill missing values in \"reviewText\" with empty string\n",
    "    final[\"reviewText\"] = final[\"reviewText\"].str.replace('\\d+', '', regex=True)\n",
    "    final[\"reviewText\"] = final[\"reviewText\"].fillna(\"neutral\")\n",
    "    \n",
    "    # Fill missing values in \"rating\", \"genre\", original columns with the word \"unknown\"\n",
    "    final[\"rating\"] = final[\"rating\"].fillna(\"unknown\")\n",
    "    final[\"originalLanguage\"] = final[\"originalLanguage\"].fillna(\"unknown\")\n",
    "    final[\"genre\"] = final[\"genre\"].fillna(\"unknown\")\n",
    "    final[\"genre\"] = final[\"genre\"].apply(lambda x: re.sub(r\"-\", \"\", x))\n",
    "    final[\"genreSorted\"] = final[\"genre\"].apply(lambda x: (\",\").join(sorted(x.split(\", \"))))\n",
    "#     final[\"genre\"] = final[\"genre\"].replace(to_replace={\"&\": \"\"})\n",
    "\n",
    "    # Impute missing values for \"audienceScore\" and \"runtimeMinutes\" columns\n",
    "#     final[\"audienceScore\"] = final[\"audienceScore\"].fillna(final[\"audienceScore\"].mean())        # MOVED\n",
    "#     final[\"runtimeMinutes\"] = final[\"runtimeMinutes\"].fillna(final[\"runtimeMinutes\"].median())   # MOVED\n",
    "    \n",
    "    # Preprocess and impute missing values in \"boxOffice\" column\n",
    "    final[\"boxOffice\"] = final[\"boxOffice\"].str[1:]\n",
    "    final[\"boxOffice\"] = final[\"boxOffice\"].replace(to_replace={\"M\": \"*1000000\", \"K\": \"*1000\"}, regex=True)\n",
    "    final[\"boxOffice\"] = final[\"boxOffice\"].loc[final[\"boxOffice\"].notnull()].apply(lambda x: eval(str(x)))\n",
    "#     final[\"boxOffice\"] = final[\"boxOffice\"].fillna(final[\"boxOffice\"].median())                  # MOVED\n",
    "    # (Optional) Replace outliers in boxOffice with median\n",
    "#     median = final[\"boxOffice\"].describe()['50%']\n",
    "#     iqr = final[\"boxOffice\"].describe()['75%'] - final[\"boxOffice\"].describe()['25%']\n",
    "#     ll = median - (1.5*iqr)\n",
    "#     ul = median + (1.5*iqr)\n",
    "#     final.loc[final[\"boxOffice\"] > ul, \"boxOffice\"] = median\n",
    "    \n",
    "    # Clean language names\n",
    "    final[\"originalLanguage\"].replace({\"English (United Kingdom)\": \"English\", \n",
    "                                            \"English (Australia)\" : \"English\",\n",
    "                                            \"French (France)\": \"French\", \n",
    "                                            \"French (Canada)\": \"French\",\n",
    "                                            \"Portuguese (Brazil)\": \"Portuguese\",\n",
    "                                            \"Spanish (Spain)\": \"Spanish\"},                                         \n",
    "                                            inplace=True)\n",
    "    \n",
    "    # Clean reviewerName column\n",
    "    pre_post_fixes = {\"Mr. \": \"\", \"Mrs. \": \"\", \"Ms. \": \"\", \"Dr. \": \"\", \n",
    "                      \" MD\": \"\", \" DDS\": \"\", \" DVM\": \"\", \" Jr.\": \"\", \" PhD\": \"\", \" II\": \"\", \" IV\": \"\"}\n",
    "    final[\"reviewerName\"] = final[\"reviewerName\"].replace(pre_post_fixes, regex=True)\n",
    "    final[\"reviewerName\"] = final[\"reviewerName\"].apply(name_fl)\n",
    "    \n",
    "    # Handle 'ratingContents' column\n",
    "    final[\"ratingContents\"] = final[\"ratingContents\"].fillna(\"neutral\")\n",
    "    final[\"rcSorted\"] = final[\"ratingContents\"].apply(lambda x: (\",\").join(sorted(x.strip(\"][\").split(\", \"))))\n",
    "    final[\"rcSorted\"] = final[\"rcSorted\"].apply(lambda x: re.sub(r\"'\", \"\", x))\n",
    "    final[\"rcSorted\"] = final[\"rcSorted\"].apply(lambda x: re.sub(r\"[/\\s]\", \"_\", x))  \n",
    "    \n",
    "    # Handle 'ratingContents' column\n",
    "    final[\"distributor\"] = final[\"distributor\"].fillna(\"unknown\")\n",
    "    \n",
    "    # Work with 'releaseDateTheaters', releaseDateStreaming column\n",
    "    final[[\"releaseDateTheaters\", \"releaseDateStreaming\"]] = final[[\"releaseDateTheaters\", \"releaseDateStreaming\"]].astype('datetime64[ns]')\n",
    "\n",
    "    final[\"releaseDate\"] = final[[\"releaseDateTheaters\", \"releaseDateStreaming\"]].min(axis=1, skipna=False)\n",
    "#     final[\"releaseDate\"] = final[\"releaseDate\"].fillna(final[\"releaseDate\"].median())               # MOVED\n",
    "\n",
    "    final[\"releaseYear\"] = final[\"releaseDate\"].dt.year\n",
    "    final[\"releaseMonth\"] = final[\"releaseDate\"].dt.month\n",
    "    \n",
    "    # Compute \"releaseDiff\" column and fill missing values in \"releaseDiff\" and (optional) replace outliers\n",
    "    final[\"releaseDiff\"] = (final[\"releaseDateStreaming\"] - final[\"releaseDateTheaters\"]) / np.timedelta64(1, 'D')\n",
    "    final[\"releaseDiff\"] = final[\"releaseDiff\"].apply(lambda x: abs(x))\n",
    "    final[\"releaseDiff\"] = final[\"releaseDiff\"].fillna(value=0)\n",
    "#     final[\"releaseDiff\"] = final[\"releaseDiff\"].fillna(final[\"releaseDiff\"].median())\n",
    "    # median = final[\"releaseDiff\"].describe()['50%']\n",
    "    # iqr = final[\"releaseDiff\"].describe()['75%'] - final[\"releaseDiff\"].describe()['25%']\n",
    "    # ll = median - (1.5*iqr)\n",
    "    # ul = median + (1.5*iqr)\n",
    "    # final.loc[final[\"releaseDiff\"] > ul, \"releaseDiff\"] = median\n",
    "    # final.loc[final[\"releaseDiff\"] < ll, \"releaseDiff\"] = median\n",
    "    \n",
    "#     # Create new feature columns\n",
    "    \n",
    "#     # Convert audienceScore to categories  \n",
    "#     num_bins_as = 20\n",
    "#     final[\"audScoreBins\"] = pd.cut(final['audienceScore'], bins=num_bins_as, labels=False)\n",
    "    \n",
    "#     # Convert runtimeMinutes to categories  \n",
    "# #     num_bins_rt = 20\n",
    "#     final[\"runtimeBins\"] = pd.cut(final['runtimeMinutes'], bins=[0,75,120,180,565], labels=[4,3,2,1])\n",
    "    \n",
    "#     # Convert boxOffice to categories  \n",
    "#     num_bins_bo = 5\n",
    "#     final[\"boxOfficeBins\"] = pd.cut(final['boxOffice'], bins=num_bins_bo, labels=False)\n",
    "    \n",
    "#     # Convert releaseDiff to categories  \n",
    "#     num_bins_rd = 5\n",
    "#     final[\"releaseDiffBins\"] = pd.cut(final['releaseDiff'], bins=[-1, 180, 360, 1000, 40000], labels=[0, 1, 2, 3])\n",
    "\n",
    "    return final"
   ]
  },
  {
   "cell_type": "code",
   "execution_count": 31,
   "id": "8de7b94b",
   "metadata": {
    "execution": {
     "iopub.execute_input": "2023-08-13T05:20:21.028417Z",
     "iopub.status.busy": "2023-08-13T05:20:21.027603Z",
     "iopub.status.idle": "2023-08-13T05:20:21.036541Z",
     "shell.execute_reply": "2023-08-13T05:20:21.035063Z"
    },
    "papermill": {
     "duration": 0.120221,
     "end_time": "2023-08-13T05:20:21.039663",
     "exception": false,
     "start_time": "2023-08-13T05:20:20.919442",
     "status": "completed"
    },
    "tags": []
   },
   "outputs": [],
   "source": [
    "def split_train_predict(features, labels, pipeline, test_size=0.25, random_state=42):\n",
    "    # cols = features.columns\n",
    "    if len(features.shape) == 1:\n",
    "        features = features.to_numpy().reshape(-1, 1)  # reshape to 2D array\n",
    "    features = pd.DataFrame(features)\n",
    "    X_train, X_test, y_train, y_test = train_test_split(features, labels, test_size=test_size, random_state=random_state)\n",
    "    pipeline.fit(X_train, y_train)\n",
    "    y_pred = pipeline.predict(X_test)\n",
    "    print(classification_report(y_test, y_pred))\n",
    "    print(confusion_matrix(y_test, y_pred))\n",
    "    return pipeline"
   ]
  },
  {
   "cell_type": "markdown",
   "id": "f0467c5f",
   "metadata": {
    "papermill": {
     "duration": 0.107438,
     "end_time": "2023-08-13T05:20:21.250803",
     "exception": false,
     "start_time": "2023-08-13T05:20:21.143365",
     "status": "completed"
    },
    "tags": []
   },
   "source": [
    "### Merge \"train.csv\" file with \"movies.csv\" file  "
   ]
  },
  {
   "cell_type": "code",
   "execution_count": 32,
   "id": "d1271000",
   "metadata": {
    "execution": {
     "iopub.execute_input": "2023-08-13T05:20:21.466924Z",
     "iopub.status.busy": "2023-08-13T05:20:21.466499Z",
     "iopub.status.idle": "2023-08-13T05:20:36.784669Z",
     "shell.execute_reply": "2023-08-13T05:20:36.783003Z"
    },
    "papermill": {
     "duration": 15.427276,
     "end_time": "2023-08-13T05:20:36.787809",
     "exception": false,
     "start_time": "2023-08-13T05:20:21.360533",
     "status": "completed"
    },
    "tags": []
   },
   "outputs": [],
   "source": [
    "merged = select_features(load_csv(\"train\"), load_csv(\"movies\"), row_thresh_null=None)"
   ]
  },
  {
   "cell_type": "code",
   "execution_count": 33,
   "id": "32925027",
   "metadata": {
    "execution": {
     "iopub.execute_input": "2023-08-13T05:20:37.005828Z",
     "iopub.status.busy": "2023-08-13T05:20:37.005416Z",
     "iopub.status.idle": "2023-08-13T05:20:38.505184Z",
     "shell.execute_reply": "2023-08-13T05:20:38.503029Z"
    },
    "papermill": {
     "duration": 1.613179,
     "end_time": "2023-08-13T05:20:38.508444",
     "exception": false,
     "start_time": "2023-08-13T05:20:36.895265",
     "status": "completed"
    },
    "tags": []
   },
   "outputs": [
    {
     "name": "stdout",
     "output_type": "stream",
     "text": [
      "Shape of the dataframe: (162758, 26)\n",
      "\n",
      "Columns in the dataframe:\n",
      "Index(['movieid', 'reviewerName', 'isFrequentReviewer', 'reviewText',\n",
      "       'sentiment', 'title', 'audienceScore', 'rating', 'ratingContents',\n",
      "       'releaseDateTheaters', 'releaseDateStreaming', 'runtimeMinutes',\n",
      "       'genre', 'originalLanguage', 'director', 'boxOffice', 'distributor',\n",
      "       'soundType', 'reviewYN', 'reviewWC', 'genreSorted', 'rcSorted',\n",
      "       'releaseDate', 'releaseYear', 'releaseMonth', 'releaseDiff'],\n",
      "      dtype='object')\n",
      "\n",
      "<class 'pandas.core.frame.DataFrame'>\n",
      "Int64Index: 162758 entries, 0 to 162757\n",
      "Data columns (total 26 columns):\n",
      " #   Column                Non-Null Count   Dtype         \n",
      "---  ------                --------------   -----         \n",
      " 0   movieid               162758 non-null  object        \n",
      " 1   reviewerName          162758 non-null  object        \n",
      " 2   isFrequentReviewer    162758 non-null  bool          \n",
      " 3   reviewText            162758 non-null  object        \n",
      " 4   sentiment             162758 non-null  object        \n",
      " 5   title                 162758 non-null  object        \n",
      " 6   audienceScore         159922 non-null  float64       \n",
      " 7   rating                162758 non-null  object        \n",
      " 8   ratingContents        162758 non-null  object        \n",
      " 9   releaseDateTheaters   146403 non-null  datetime64[ns]\n",
      " 10  releaseDateStreaming  157353 non-null  datetime64[ns]\n",
      " 11  runtimeMinutes        162016 non-null  float64       \n",
      " 12  genre                 162758 non-null  object        \n",
      " 13  originalLanguage      162758 non-null  object        \n",
      " 14  director              162758 non-null  object        \n",
      " 15  boxOffice             130581 non-null  float64       \n",
      " 16  distributor           162758 non-null  object        \n",
      " 17  soundType             93466 non-null   object        \n",
      " 18  reviewYN              162758 non-null  int64         \n",
      " 19  reviewWC              162758 non-null  int64         \n",
      " 20  genreSorted           162758 non-null  object        \n",
      " 21  rcSorted              162758 non-null  object        \n",
      " 22  releaseDate           143073 non-null  datetime64[ns]\n",
      " 23  releaseYear           143073 non-null  float64       \n",
      " 24  releaseMonth          143073 non-null  float64       \n",
      " 25  releaseDiff           162758 non-null  float64       \n",
      "dtypes: bool(1), datetime64[ns](3), float64(6), int64(2), object(14)\n",
      "memory usage: 32.4+ MB\n",
      "None\n",
      "\n",
      "Missing values:\n",
      "movieid                     0\n",
      "reviewerName                0\n",
      "isFrequentReviewer          0\n",
      "reviewText                  0\n",
      "sentiment                   0\n",
      "title                       0\n",
      "audienceScore            2836\n",
      "rating                      0\n",
      "ratingContents              0\n",
      "releaseDateTheaters     16355\n",
      "releaseDateStreaming     5405\n",
      "runtimeMinutes            742\n",
      "genre                       0\n",
      "originalLanguage            0\n",
      "director                    0\n",
      "boxOffice               32177\n",
      "distributor                 0\n",
      "soundType               69292\n",
      "reviewYN                    0\n",
      "reviewWC                    0\n",
      "genreSorted                 0\n",
      "rcSorted                    0\n",
      "releaseDate             19685\n",
      "releaseYear             19685\n",
      "releaseMonth            19685\n",
      "releaseDiff                 0\n",
      "dtype: int64\n"
     ]
    }
   ],
   "source": [
    "inspect(merged)    # Note missing values in ['audienceScore', 'runtimeMinutes', 'boxOffice'] columns  "
   ]
  },
  {
   "cell_type": "code",
   "execution_count": 34,
   "id": "03cc5412",
   "metadata": {
    "execution": {
     "iopub.execute_input": "2023-08-13T05:20:38.721569Z",
     "iopub.status.busy": "2023-08-13T05:20:38.721132Z",
     "iopub.status.idle": "2023-08-13T05:20:38.818078Z",
     "shell.execute_reply": "2023-08-13T05:20:38.816395Z"
    },
    "papermill": {
     "duration": 0.206421,
     "end_time": "2023-08-13T05:20:38.821003",
     "exception": false,
     "start_time": "2023-08-13T05:20:38.614582",
     "status": "completed"
    },
    "tags": []
   },
   "outputs": [
    {
     "data": {
      "text/plain": [
       "array([6.80e+01, 1.04e+02, 1.43e+07])"
      ]
     },
     "execution_count": 34,
     "metadata": {},
     "output_type": "execute_result"
    }
   ],
   "source": [
    "# Simple Imputer for ['audienceScore', 'runtimeMinutes', 'boxOffice'] columns\n",
    "si = SimpleImputer(strategy='median')\n",
    "merged[['audienceScore', 'runtimeMinutes', 'boxOffice']] = si.fit_transform(merged[['audienceScore', 'runtimeMinutes', 'boxOffice']])\n",
    "si.statistics_"
   ]
  },
  {
   "cell_type": "code",
   "execution_count": 35,
   "id": "6136beb8",
   "metadata": {
    "execution": {
     "iopub.execute_input": "2023-08-13T05:20:39.043610Z",
     "iopub.status.busy": "2023-08-13T05:20:39.042735Z",
     "iopub.status.idle": "2023-08-13T05:20:39.059004Z",
     "shell.execute_reply": "2023-08-13T05:20:39.057647Z"
    },
    "papermill": {
     "duration": 0.135999,
     "end_time": "2023-08-13T05:20:39.061947",
     "exception": false,
     "start_time": "2023-08-13T05:20:38.925948",
     "status": "completed"
    },
    "tags": []
   },
   "outputs": [],
   "source": [
    "# Fill 'releaseDate' column with median  \n",
    "merged['releaseDate'] = merged[\"releaseDate\"].fillna(merged[\"releaseDate\"].median())"
   ]
  },
  {
   "cell_type": "code",
   "execution_count": 36,
   "id": "17c157f9",
   "metadata": {
    "execution": {
     "iopub.execute_input": "2023-08-13T05:20:39.294195Z",
     "iopub.status.busy": "2023-08-13T05:20:39.293780Z",
     "iopub.status.idle": "2023-08-13T05:20:40.787609Z",
     "shell.execute_reply": "2023-08-13T05:20:40.785055Z"
    },
    "papermill": {
     "duration": 1.620526,
     "end_time": "2023-08-13T05:20:40.791619",
     "exception": false,
     "start_time": "2023-08-13T05:20:39.171093",
     "status": "completed"
    },
    "tags": []
   },
   "outputs": [
    {
     "name": "stdout",
     "output_type": "stream",
     "text": [
      "Shape of the dataframe: (162758, 26)\n",
      "\n",
      "Columns in the dataframe:\n",
      "Index(['movieid', 'reviewerName', 'isFrequentReviewer', 'reviewText',\n",
      "       'sentiment', 'title', 'audienceScore', 'rating', 'ratingContents',\n",
      "       'releaseDateTheaters', 'releaseDateStreaming', 'runtimeMinutes',\n",
      "       'genre', 'originalLanguage', 'director', 'boxOffice', 'distributor',\n",
      "       'soundType', 'reviewYN', 'reviewWC', 'genreSorted', 'rcSorted',\n",
      "       'releaseDate', 'releaseYear', 'releaseMonth', 'releaseDiff'],\n",
      "      dtype='object')\n",
      "\n",
      "<class 'pandas.core.frame.DataFrame'>\n",
      "Int64Index: 162758 entries, 0 to 162757\n",
      "Data columns (total 26 columns):\n",
      " #   Column                Non-Null Count   Dtype         \n",
      "---  ------                --------------   -----         \n",
      " 0   movieid               162758 non-null  object        \n",
      " 1   reviewerName          162758 non-null  object        \n",
      " 2   isFrequentReviewer    162758 non-null  bool          \n",
      " 3   reviewText            162758 non-null  object        \n",
      " 4   sentiment             162758 non-null  object        \n",
      " 5   title                 162758 non-null  object        \n",
      " 6   audienceScore         162758 non-null  float64       \n",
      " 7   rating                162758 non-null  object        \n",
      " 8   ratingContents        162758 non-null  object        \n",
      " 9   releaseDateTheaters   146403 non-null  datetime64[ns]\n",
      " 10  releaseDateStreaming  157353 non-null  datetime64[ns]\n",
      " 11  runtimeMinutes        162758 non-null  float64       \n",
      " 12  genre                 162758 non-null  object        \n",
      " 13  originalLanguage      162758 non-null  object        \n",
      " 14  director              162758 non-null  object        \n",
      " 15  boxOffice             162758 non-null  float64       \n",
      " 16  distributor           162758 non-null  object        \n",
      " 17  soundType             93466 non-null   object        \n",
      " 18  reviewYN              162758 non-null  int64         \n",
      " 19  reviewWC              162758 non-null  int64         \n",
      " 20  genreSorted           162758 non-null  object        \n",
      " 21  rcSorted              162758 non-null  object        \n",
      " 22  releaseDate           162758 non-null  datetime64[ns]\n",
      " 23  releaseYear           143073 non-null  float64       \n",
      " 24  releaseMonth          143073 non-null  float64       \n",
      " 25  releaseDiff           162758 non-null  float64       \n",
      "dtypes: bool(1), datetime64[ns](3), float64(6), int64(2), object(14)\n",
      "memory usage: 32.4+ MB\n",
      "None\n",
      "\n",
      "Missing values:\n",
      "movieid                     0\n",
      "reviewerName                0\n",
      "isFrequentReviewer          0\n",
      "reviewText                  0\n",
      "sentiment                   0\n",
      "title                       0\n",
      "audienceScore               0\n",
      "rating                      0\n",
      "ratingContents              0\n",
      "releaseDateTheaters     16355\n",
      "releaseDateStreaming     5405\n",
      "runtimeMinutes              0\n",
      "genre                       0\n",
      "originalLanguage            0\n",
      "director                    0\n",
      "boxOffice                   0\n",
      "distributor                 0\n",
      "soundType               69292\n",
      "reviewYN                    0\n",
      "reviewWC                    0\n",
      "genreSorted                 0\n",
      "rcSorted                    0\n",
      "releaseDate                 0\n",
      "releaseYear             19685\n",
      "releaseMonth            19685\n",
      "releaseDiff                 0\n",
      "dtype: int64\n"
     ]
    }
   ],
   "source": [
    "# Check out 'merged' df after imputation  \n",
    "inspect(merged)"
   ]
  },
  {
   "cell_type": "code",
   "execution_count": 37,
   "id": "48616b19",
   "metadata": {
    "execution": {
     "iopub.execute_input": "2023-08-13T05:20:41.004048Z",
     "iopub.status.busy": "2023-08-13T05:20:41.003555Z",
     "iopub.status.idle": "2023-08-13T05:20:41.066554Z",
     "shell.execute_reply": "2023-08-13T05:20:41.064500Z"
    },
    "papermill": {
     "duration": 0.170968,
     "end_time": "2023-08-13T05:20:41.069857",
     "exception": false,
     "start_time": "2023-08-13T05:20:40.898889",
     "status": "completed"
    },
    "tags": []
   },
   "outputs": [
    {
     "data": {
      "text/html": [
       "<div>\n",
       "<style scoped>\n",
       "    .dataframe tbody tr th:only-of-type {\n",
       "        vertical-align: middle;\n",
       "    }\n",
       "\n",
       "    .dataframe tbody tr th {\n",
       "        vertical-align: top;\n",
       "    }\n",
       "\n",
       "    .dataframe thead th {\n",
       "        text-align: right;\n",
       "    }\n",
       "</style>\n",
       "<table border=\"1\" class=\"dataframe\">\n",
       "  <thead>\n",
       "    <tr style=\"text-align: right;\">\n",
       "      <th></th>\n",
       "      <th>audienceScore</th>\n",
       "      <th>runtimeMinutes</th>\n",
       "      <th>boxOffice</th>\n",
       "    </tr>\n",
       "  </thead>\n",
       "  <tbody>\n",
       "    <tr>\n",
       "      <th>count</th>\n",
       "      <td>162758.000000</td>\n",
       "      <td>162758.000000</td>\n",
       "      <td>1.627580e+05</td>\n",
       "    </tr>\n",
       "    <tr>\n",
       "      <th>mean</th>\n",
       "      <td>65.062565</td>\n",
       "      <td>106.992019</td>\n",
       "      <td>4.160983e+07</td>\n",
       "    </tr>\n",
       "    <tr>\n",
       "      <th>std</th>\n",
       "      <td>19.844000</td>\n",
       "      <td>22.203778</td>\n",
       "      <td>7.932291e+07</td>\n",
       "    </tr>\n",
       "    <tr>\n",
       "      <th>min</th>\n",
       "      <td>0.000000</td>\n",
       "      <td>4.000000</td>\n",
       "      <td>0.000000e+00</td>\n",
       "    </tr>\n",
       "    <tr>\n",
       "      <th>25%</th>\n",
       "      <td>51.000000</td>\n",
       "      <td>93.000000</td>\n",
       "      <td>2.000000e+06</td>\n",
       "    </tr>\n",
       "    <tr>\n",
       "      <th>50%</th>\n",
       "      <td>68.000000</td>\n",
       "      <td>104.000000</td>\n",
       "      <td>1.430000e+07</td>\n",
       "    </tr>\n",
       "    <tr>\n",
       "      <th>75%</th>\n",
       "      <td>81.000000</td>\n",
       "      <td>118.000000</td>\n",
       "      <td>4.200000e+07</td>\n",
       "    </tr>\n",
       "    <tr>\n",
       "      <th>max</th>\n",
       "      <td>100.000000</td>\n",
       "      <td>561.000000</td>\n",
       "      <td>8.584000e+08</td>\n",
       "    </tr>\n",
       "  </tbody>\n",
       "</table>\n",
       "</div>"
      ],
      "text/plain": [
       "       audienceScore  runtimeMinutes     boxOffice\n",
       "count  162758.000000   162758.000000  1.627580e+05\n",
       "mean       65.062565      106.992019  4.160983e+07\n",
       "std        19.844000       22.203778  7.932291e+07\n",
       "min         0.000000        4.000000  0.000000e+00\n",
       "25%        51.000000       93.000000  2.000000e+06\n",
       "50%        68.000000      104.000000  1.430000e+07\n",
       "75%        81.000000      118.000000  4.200000e+07\n",
       "max       100.000000      561.000000  8.584000e+08"
      ]
     },
     "execution_count": 37,
     "metadata": {},
     "output_type": "execute_result"
    }
   ],
   "source": [
    "merged[['audienceScore', 'runtimeMinutes', 'boxOffice']].describe()"
   ]
  },
  {
   "cell_type": "markdown",
   "id": "31d3da47",
   "metadata": {
    "papermill": {
     "duration": 0.109011,
     "end_time": "2023-08-13T05:20:41.355885",
     "exception": false,
     "start_time": "2023-08-13T05:20:41.246874",
     "status": "completed"
    },
    "tags": []
   },
   "source": [
    "### EDA audienceScore  "
   ]
  },
  {
   "cell_type": "code",
   "execution_count": 38,
   "id": "baa590b5",
   "metadata": {
    "execution": {
     "iopub.execute_input": "2023-08-13T05:20:41.579715Z",
     "iopub.status.busy": "2023-08-13T05:20:41.579083Z",
     "iopub.status.idle": "2023-08-13T05:20:41.990056Z",
     "shell.execute_reply": "2023-08-13T05:20:41.988098Z"
    },
    "papermill": {
     "duration": 0.528205,
     "end_time": "2023-08-13T05:20:41.992983",
     "exception": false,
     "start_time": "2023-08-13T05:20:41.464778",
     "status": "completed"
    },
    "tags": []
   },
   "outputs": [
    {
     "data": {
      "text/plain": [
       "<Axes: xlabel='sentiment', ylabel='audienceScore'>"
      ]
     },
     "execution_count": 38,
     "metadata": {},
     "output_type": "execute_result"
    },
    {
     "data": {
      "image/png": "[encoded data removed]",
      "text/plain": [
       "<Figure size 640x480 with 1 Axes>"
      ]
     },
     "metadata": {},
     "output_type": "display_data"
    }
   ],
   "source": [
    "sns.boxplot(y=merged[\"audienceScore\"], x=merged[\"sentiment\"])"
   ]
  },
  {
   "cell_type": "code",
   "execution_count": 39,
   "id": "f2a9da1f",
   "metadata": {
    "execution": {
     "iopub.execute_input": "2023-08-13T05:20:42.211744Z",
     "iopub.status.busy": "2023-08-13T05:20:42.210919Z",
     "iopub.status.idle": "2023-08-13T05:20:42.262497Z",
     "shell.execute_reply": "2023-08-13T05:20:42.260727Z"
    },
    "papermill": {
     "duration": 0.164531,
     "end_time": "2023-08-13T05:20:42.265171",
     "exception": false,
     "start_time": "2023-08-13T05:20:42.100640",
     "status": "completed"
    },
    "tags": []
   },
   "outputs": [
    {
     "data": {
      "text/html": [
       "<div>\n",
       "<style scoped>\n",
       "    .dataframe tbody tr th:only-of-type {\n",
       "        vertical-align: middle;\n",
       "    }\n",
       "\n",
       "    .dataframe tbody tr th {\n",
       "        vertical-align: top;\n",
       "    }\n",
       "\n",
       "    .dataframe thead th {\n",
       "        text-align: right;\n",
       "    }\n",
       "</style>\n",
       "<table border=\"1\" class=\"dataframe\">\n",
       "  <thead>\n",
       "    <tr style=\"text-align: right;\">\n",
       "      <th></th>\n",
       "      <th>count</th>\n",
       "      <th>mean</th>\n",
       "      <th>std</th>\n",
       "      <th>min</th>\n",
       "      <th>25%</th>\n",
       "      <th>50%</th>\n",
       "      <th>75%</th>\n",
       "      <th>max</th>\n",
       "    </tr>\n",
       "    <tr>\n",
       "      <th>sentiment</th>\n",
       "      <th></th>\n",
       "      <th></th>\n",
       "      <th></th>\n",
       "      <th></th>\n",
       "      <th></th>\n",
       "      <th></th>\n",
       "      <th></th>\n",
       "      <th></th>\n",
       "    </tr>\n",
       "  </thead>\n",
       "  <tbody>\n",
       "    <tr>\n",
       "      <th>NEGATIVE</th>\n",
       "      <td>53997.0</td>\n",
       "      <td>56.474786</td>\n",
       "      <td>19.902115</td>\n",
       "      <td>0.0</td>\n",
       "      <td>41.0</td>\n",
       "      <td>57.0</td>\n",
       "      <td>72.0</td>\n",
       "      <td>100.0</td>\n",
       "    </tr>\n",
       "    <tr>\n",
       "      <th>POSITIVE</th>\n",
       "      <td>108761.0</td>\n",
       "      <td>69.326174</td>\n",
       "      <td>18.380626</td>\n",
       "      <td>0.0</td>\n",
       "      <td>58.0</td>\n",
       "      <td>73.0</td>\n",
       "      <td>84.0</td>\n",
       "      <td>100.0</td>\n",
       "    </tr>\n",
       "  </tbody>\n",
       "</table>\n",
       "</div>"
      ],
      "text/plain": [
       "              count       mean        std  min   25%   50%   75%    max\n",
       "sentiment                                                              \n",
       "NEGATIVE    53997.0  56.474786  19.902115  0.0  41.0  57.0  72.0  100.0\n",
       "POSITIVE   108761.0  69.326174  18.380626  0.0  58.0  73.0  84.0  100.0"
      ]
     },
     "execution_count": 39,
     "metadata": {},
     "output_type": "execute_result"
    }
   ],
   "source": [
    "merged.groupby('sentiment')['audienceScore'].describe()"
   ]
  },
  {
   "cell_type": "code",
   "execution_count": 40,
   "id": "5f15d0e2",
   "metadata": {
    "execution": {
     "iopub.execute_input": "2023-08-13T05:20:42.481938Z",
     "iopub.status.busy": "2023-08-13T05:20:42.481471Z",
     "iopub.status.idle": "2023-08-13T05:20:42.541480Z",
     "shell.execute_reply": "2023-08-13T05:20:42.540450Z"
    },
    "papermill": {
     "duration": 0.17153,
     "end_time": "2023-08-13T05:20:42.543975",
     "exception": false,
     "start_time": "2023-08-13T05:20:42.372445",
     "status": "completed"
    },
    "tags": []
   },
   "outputs": [
    {
     "data": {
      "text/plain": [
       "(162758, 26)"
      ]
     },
     "execution_count": 40,
     "metadata": {},
     "output_type": "execute_result"
    }
   ],
   "source": [
    "merged.loc[merged['audienceScore'] >= 0].shape"
   ]
  },
  {
   "cell_type": "markdown",
   "id": "3a6cb402",
   "metadata": {
    "papermill": {
     "duration": 0.105673,
     "end_time": "2023-08-13T05:20:42.755602",
     "exception": false,
     "start_time": "2023-08-13T05:20:42.649929",
     "status": "completed"
    },
    "tags": []
   },
   "source": [
    "### EDA releaseDiff  "
   ]
  },
  {
   "cell_type": "code",
   "execution_count": 41,
   "id": "f4d32396",
   "metadata": {
    "execution": {
     "iopub.execute_input": "2023-08-13T05:20:42.971389Z",
     "iopub.status.busy": "2023-08-13T05:20:42.970512Z",
     "iopub.status.idle": "2023-08-13T05:20:42.990543Z",
     "shell.execute_reply": "2023-08-13T05:20:42.989258Z"
    },
    "papermill": {
     "duration": 0.133784,
     "end_time": "2023-08-13T05:20:42.994013",
     "exception": false,
     "start_time": "2023-08-13T05:20:42.860229",
     "status": "completed"
    },
    "tags": []
   },
   "outputs": [
    {
     "data": {
      "text/plain": [
       "count    162758.000000\n",
       "mean       1653.469015\n",
       "std        4581.420922\n",
       "min           0.000000\n",
       "25%          65.000000\n",
       "50%         116.000000\n",
       "75%         375.000000\n",
       "max       38922.000000\n",
       "Name: releaseDiff, dtype: float64"
      ]
     },
     "execution_count": 41,
     "metadata": {},
     "output_type": "execute_result"
    }
   ],
   "source": [
    "# abs values\n",
    "merged[\"releaseDiff\"].describe()"
   ]
  },
  {
   "cell_type": "code",
   "execution_count": 42,
   "id": "7b553398",
   "metadata": {
    "execution": {
     "iopub.execute_input": "2023-08-13T05:20:43.218644Z",
     "iopub.status.busy": "2023-08-13T05:20:43.218155Z",
     "iopub.status.idle": "2023-08-13T05:20:43.223738Z",
     "shell.execute_reply": "2023-08-13T05:20:43.222109Z"
    },
    "papermill": {
     "duration": 0.1215,
     "end_time": "2023-08-13T05:20:43.227091",
     "exception": false,
     "start_time": "2023-08-13T05:20:43.105591",
     "status": "completed"
    },
    "tags": []
   },
   "outputs": [],
   "source": [
    "# merged['releaseDiffBins'].value_counts()"
   ]
  },
  {
   "cell_type": "code",
   "execution_count": 43,
   "id": "f521e867",
   "metadata": {
    "execution": {
     "iopub.execute_input": "2023-08-13T05:20:43.444380Z",
     "iopub.status.busy": "2023-08-13T05:20:43.443893Z",
     "iopub.status.idle": "2023-08-13T05:20:43.838684Z",
     "shell.execute_reply": "2023-08-13T05:20:43.837466Z"
    },
    "papermill": {
     "duration": 0.505092,
     "end_time": "2023-08-13T05:20:43.841305",
     "exception": false,
     "start_time": "2023-08-13T05:20:43.336213",
     "status": "completed"
    },
    "tags": []
   },
   "outputs": [
    {
     "data": {
      "text/plain": [
       "<Axes: xlabel='sentiment', ylabel='releaseDiff'>"
      ]
     },
     "execution_count": 43,
     "metadata": {},
     "output_type": "execute_result"
    },
    {
     "data": {
      "image/png": "[encoded data removed]",
      "text/plain": [
       "<Figure size 640x480 with 1 Axes>"
      ]
     },
     "metadata": {},
     "output_type": "display_data"
    }
   ],
   "source": [
    "sns.boxplot(x=merged['sentiment'], y=merged['releaseDiff'], showfliers=False)"
   ]
  },
  {
   "cell_type": "code",
   "execution_count": 44,
   "id": "e569c237",
   "metadata": {
    "execution": {
     "iopub.execute_input": "2023-08-13T05:20:44.057850Z",
     "iopub.status.busy": "2023-08-13T05:20:44.057421Z",
     "iopub.status.idle": "2023-08-13T05:20:44.061864Z",
     "shell.execute_reply": "2023-08-13T05:20:44.061011Z"
    },
    "papermill": {
     "duration": 0.115957,
     "end_time": "2023-08-13T05:20:44.063880",
     "exception": false,
     "start_time": "2023-08-13T05:20:43.947923",
     "status": "completed"
    },
    "tags": []
   },
   "outputs": [],
   "source": [
    "# sns.displot(merged['releaseDiffBins'])"
   ]
  },
  {
   "cell_type": "code",
   "execution_count": 45,
   "id": "f071a508",
   "metadata": {
    "execution": {
     "iopub.execute_input": "2023-08-13T05:20:44.287429Z",
     "iopub.status.busy": "2023-08-13T05:20:44.286214Z",
     "iopub.status.idle": "2023-08-13T05:20:44.291995Z",
     "shell.execute_reply": "2023-08-13T05:20:44.290885Z"
    },
    "papermill": {
     "duration": 0.118748,
     "end_time": "2023-08-13T05:20:44.294835",
     "exception": false,
     "start_time": "2023-08-13T05:20:44.176087",
     "status": "completed"
    },
    "tags": []
   },
   "outputs": [],
   "source": [
    "# merged['sentiment'].loc[merged['releaseDiffBins'] > 0].value_counts()"
   ]
  },
  {
   "cell_type": "code",
   "execution_count": 46,
   "id": "1519e3c3",
   "metadata": {
    "execution": {
     "iopub.execute_input": "2023-08-13T05:20:44.525974Z",
     "iopub.status.busy": "2023-08-13T05:20:44.525195Z",
     "iopub.status.idle": "2023-08-13T05:20:44.529432Z",
     "shell.execute_reply": "2023-08-13T05:20:44.528511Z"
    },
    "papermill": {
     "duration": 0.118686,
     "end_time": "2023-08-13T05:20:44.531877",
     "exception": false,
     "start_time": "2023-08-13T05:20:44.413191",
     "status": "completed"
    },
    "tags": []
   },
   "outputs": [],
   "source": [
    "# merged['releaseDiffBins'].describe()"
   ]
  },
  {
   "cell_type": "markdown",
   "id": "dad188ff",
   "metadata": {
    "papermill": {
     "duration": 0.107303,
     "end_time": "2023-08-13T05:20:44.745685",
     "exception": false,
     "start_time": "2023-08-13T05:20:44.638382",
     "status": "completed"
    },
    "tags": []
   },
   "source": [
    "### EDA 'distributor'  "
   ]
  },
  {
   "cell_type": "code",
   "execution_count": 47,
   "id": "cc25099e",
   "metadata": {
    "execution": {
     "iopub.execute_input": "2023-08-13T05:20:44.965484Z",
     "iopub.status.busy": "2023-08-13T05:20:44.964655Z",
     "iopub.status.idle": "2023-08-13T05:20:45.005169Z",
     "shell.execute_reply": "2023-08-13T05:20:45.002618Z"
    },
    "papermill": {
     "duration": 0.15514,
     "end_time": "2023-08-13T05:20:45.008710",
     "exception": false,
     "start_time": "2023-08-13T05:20:44.853570",
     "status": "completed"
    },
    "tags": []
   },
   "outputs": [
    {
     "data": {
      "text/plain": [
       "unknown                              20489\n",
       "Universal Pictures                    8847\n",
       "Warner Bros. Pictures                 8722\n",
       "Paramount Pictures                    7773\n",
       "20th Century Fox                      7007\n",
       "                                     ...  \n",
       "Almi Pictures                            1\n",
       "Koch Lorber                              1\n",
       "Magic Lamp                               1\n",
       "Fine Line Features, Miramax Films        1\n",
       "American Film Co.                        1\n",
       "Name: distributor, Length: 1796, dtype: int64"
      ]
     },
     "execution_count": 47,
     "metadata": {},
     "output_type": "execute_result"
    }
   ],
   "source": [
    "merged[\"distributor\"].value_counts()"
   ]
  },
  {
   "cell_type": "code",
   "execution_count": 48,
   "id": "8a9a0cb1",
   "metadata": {
    "execution": {
     "iopub.execute_input": "2023-08-13T05:20:45.223951Z",
     "iopub.status.busy": "2023-08-13T05:20:45.223134Z",
     "iopub.status.idle": "2023-08-13T05:20:45.243203Z",
     "shell.execute_reply": "2023-08-13T05:20:45.241859Z"
    },
    "papermill": {
     "duration": 0.131543,
     "end_time": "2023-08-13T05:20:45.245862",
     "exception": false,
     "start_time": "2023-08-13T05:20:45.114319",
     "status": "completed"
    },
    "tags": []
   },
   "outputs": [
    {
     "data": {
      "text/plain": [
       "count    162758.000000\n",
       "mean        106.992019\n",
       "std          22.203778\n",
       "min           4.000000\n",
       "25%          93.000000\n",
       "50%         104.000000\n",
       "75%         118.000000\n",
       "max         561.000000\n",
       "Name: runtimeMinutes, dtype: float64"
      ]
     },
     "execution_count": 48,
     "metadata": {},
     "output_type": "execute_result"
    }
   ],
   "source": [
    "merged[\"runtimeMinutes\"].describe()"
   ]
  },
  {
   "cell_type": "code",
   "execution_count": 49,
   "id": "4f687058",
   "metadata": {
    "execution": {
     "iopub.execute_input": "2023-08-13T05:20:45.467172Z",
     "iopub.status.busy": "2023-08-13T05:20:45.465989Z",
     "iopub.status.idle": "2023-08-13T05:20:45.882882Z",
     "shell.execute_reply": "2023-08-13T05:20:45.881578Z"
    },
    "papermill": {
     "duration": 0.528398,
     "end_time": "2023-08-13T05:20:45.885451",
     "exception": false,
     "start_time": "2023-08-13T05:20:45.357053",
     "status": "completed"
    },
    "tags": []
   },
   "outputs": [
    {
     "data": {
      "text/plain": [
       "<Axes: xlabel='sentiment', ylabel='runtimeMinutes'>"
      ]
     },
     "execution_count": 49,
     "metadata": {},
     "output_type": "execute_result"
    },
    {
     "data": {
      "image/png": "[encoded data removed]",
      "text/plain": [
       "<Figure size 640x480 with 1 Axes>"
      ]
     },
     "metadata": {},
     "output_type": "display_data"
    }
   ],
   "source": [
    "sns.boxplot(y=merged[\"runtimeMinutes\"], x=merged[\"sentiment\"])"
   ]
  },
  {
   "cell_type": "code",
   "execution_count": 50,
   "id": "721f258e",
   "metadata": {
    "execution": {
     "iopub.execute_input": "2023-08-13T05:20:46.111026Z",
     "iopub.status.busy": "2023-08-13T05:20:46.110196Z",
     "iopub.status.idle": "2023-08-13T05:20:46.115215Z",
     "shell.execute_reply": "2023-08-13T05:20:46.113985Z"
    },
    "papermill": {
     "duration": 0.12282,
     "end_time": "2023-08-13T05:20:46.117926",
     "exception": false,
     "start_time": "2023-08-13T05:20:45.995106",
     "status": "completed"
    },
    "tags": []
   },
   "outputs": [],
   "source": [
    "# print(merged[\"boxOfficeBins\"].value_counts())\n",
    "# sns.displot(merged[\"boxOfficeBins\"])"
   ]
  },
  {
   "cell_type": "code",
   "execution_count": 51,
   "id": "30036361",
   "metadata": {
    "execution": {
     "iopub.execute_input": "2023-08-13T05:20:46.357331Z",
     "iopub.status.busy": "2023-08-13T05:20:46.356043Z",
     "iopub.status.idle": "2023-08-13T05:20:46.366756Z",
     "shell.execute_reply": "2023-08-13T05:20:46.365601Z"
    },
    "papermill": {
     "duration": 0.133161,
     "end_time": "2023-08-13T05:20:46.369942",
     "exception": false,
     "start_time": "2023-08-13T05:20:46.236781",
     "status": "completed"
    },
    "tags": []
   },
   "outputs": [
    {
     "data": {
      "text/plain": [
       "0    Henry Selick’s first movie since ’s Coraline. ...\n",
       "1    With a cast that reads like the Vogue Oscar pa...\n",
       "2    Creed II does not give us anything but another...\n",
       "3    I know what you're thinking, but this is no Li...\n",
       "4    Director Fernando Meirelles tells the story wi...\n",
       "Name: reviewText, dtype: object"
      ]
     },
     "execution_count": 51,
     "metadata": {},
     "output_type": "execute_result"
    }
   ],
   "source": [
    "merged[\"reviewText\"].head()"
   ]
  },
  {
   "cell_type": "code",
   "execution_count": 52,
   "id": "db7846a1",
   "metadata": {
    "execution": {
     "iopub.execute_input": "2023-08-13T05:20:46.617163Z",
     "iopub.status.busy": "2023-08-13T05:20:46.616459Z",
     "iopub.status.idle": "2023-08-13T05:20:46.624167Z",
     "shell.execute_reply": "2023-08-13T05:20:46.623075Z"
    },
    "papermill": {
     "duration": 0.134426,
     "end_time": "2023-08-13T05:20:46.626459",
     "exception": false,
     "start_time": "2023-08-13T05:20:46.492033",
     "status": "completed"
    },
    "tags": []
   },
   "outputs": [
    {
     "data": {
      "text/plain": [
       "6447"
      ]
     },
     "execution_count": 52,
     "metadata": {},
     "output_type": "execute_result"
    }
   ],
   "source": [
    "merged[\"reviewYN\"].sum()"
   ]
  },
  {
   "cell_type": "code",
   "execution_count": 53,
   "id": "67ace391",
   "metadata": {
    "execution": {
     "iopub.execute_input": "2023-08-13T05:20:46.853089Z",
     "iopub.status.busy": "2023-08-13T05:20:46.852414Z",
     "iopub.status.idle": "2023-08-13T05:20:46.860727Z",
     "shell.execute_reply": "2023-08-13T05:20:46.859553Z"
    },
    "papermill": {
     "duration": 0.125021,
     "end_time": "2023-08-13T05:20:46.863124",
     "exception": false,
     "start_time": "2023-08-13T05:20:46.738103",
     "status": "completed"
    },
    "tags": []
   },
   "outputs": [
    {
     "data": {
      "text/plain": [
       "0    11\n",
       "1    24\n",
       "2    22\n",
       "3    34\n",
       "4    20\n",
       "Name: reviewWC, dtype: int64"
      ]
     },
     "execution_count": 53,
     "metadata": {},
     "output_type": "execute_result"
    }
   ],
   "source": [
    "merged[\"reviewWC\"].head()"
   ]
  },
  {
   "cell_type": "code",
   "execution_count": 54,
   "id": "c8a7fba0",
   "metadata": {
    "execution": {
     "iopub.execute_input": "2023-08-13T05:20:47.098722Z",
     "iopub.status.busy": "2023-08-13T05:20:47.098072Z",
     "iopub.status.idle": "2023-08-13T05:20:47.119816Z",
     "shell.execute_reply": "2023-08-13T05:20:47.117307Z"
    },
    "papermill": {
     "duration": 0.145251,
     "end_time": "2023-08-13T05:20:47.123642",
     "exception": false,
     "start_time": "2023-08-13T05:20:46.978391",
     "status": "completed"
    },
    "tags": []
   },
   "outputs": [
    {
     "data": {
      "text/plain": [
       "count    162758.000000\n",
       "mean         21.013707\n",
       "std          10.216532\n",
       "min           1.000000\n",
       "25%          14.000000\n",
       "50%          21.000000\n",
       "75%          28.000000\n",
       "max          54.000000\n",
       "Name: reviewWC, dtype: float64"
      ]
     },
     "execution_count": 54,
     "metadata": {},
     "output_type": "execute_result"
    }
   ],
   "source": [
    "merged[\"reviewWC\"].describe()"
   ]
  },
  {
   "cell_type": "code",
   "execution_count": 55,
   "id": "4b3123b3",
   "metadata": {
    "execution": {
     "iopub.execute_input": "2023-08-13T05:20:47.351497Z",
     "iopub.status.busy": "2023-08-13T05:20:47.350327Z",
     "iopub.status.idle": "2023-08-13T05:20:48.068101Z",
     "shell.execute_reply": "2023-08-13T05:20:48.066749Z"
    },
    "papermill": {
     "duration": 0.835388,
     "end_time": "2023-08-13T05:20:48.070978",
     "exception": false,
     "start_time": "2023-08-13T05:20:47.235590",
     "status": "completed"
    },
    "tags": []
   },
   "outputs": [
    {
     "data": {
      "text/plain": [
       "<Axes: xlabel='reviewWC', ylabel='Count'>"
      ]
     },
     "execution_count": 55,
     "metadata": {},
     "output_type": "execute_result"
    },
    {
     "data": {
      "image/png": "[encoded data removed]",
      "text/plain": [
       "<Figure size 640x480 with 1 Axes>"
      ]
     },
     "metadata": {},
     "output_type": "display_data"
    }
   ],
   "source": [
    "sns.histplot(merged[\"reviewWC\"])"
   ]
  },
  {
   "cell_type": "code",
   "execution_count": 56,
   "id": "6f203a1d",
   "metadata": {
    "execution": {
     "iopub.execute_input": "2023-08-13T05:20:48.295339Z",
     "iopub.status.busy": "2023-08-13T05:20:48.294879Z",
     "iopub.status.idle": "2023-08-13T05:20:48.329324Z",
     "shell.execute_reply": "2023-08-13T05:20:48.327933Z"
    },
    "papermill": {
     "duration": 0.152276,
     "end_time": "2023-08-13T05:20:48.332168",
     "exception": false,
     "start_time": "2023-08-13T05:20:48.179892",
     "status": "completed"
    },
    "tags": []
   },
   "outputs": [
    {
     "data": {
      "text/plain": [
       "R          60248\n",
       "unknown    44587\n",
       "PG-13      42697\n",
       "PG         13669\n",
       "TV14         947\n",
       "NC-17        285\n",
       "TVPG         281\n",
       "TVMA          44\n",
       "Name: rating, dtype: int64"
      ]
     },
     "execution_count": 56,
     "metadata": {},
     "output_type": "execute_result"
    }
   ],
   "source": [
    "merged['rating'].value_counts()"
   ]
  },
  {
   "cell_type": "code",
   "execution_count": 57,
   "id": "78ebc05d",
   "metadata": {
    "execution": {
     "iopub.execute_input": "2023-08-13T05:20:48.562540Z",
     "iopub.status.busy": "2023-08-13T05:20:48.561807Z",
     "iopub.status.idle": "2023-08-13T05:20:48.571990Z",
     "shell.execute_reply": "2023-08-13T05:20:48.570634Z"
    },
    "papermill": {
     "duration": 0.129362,
     "end_time": "2023-08-13T05:20:48.575078",
     "exception": false,
     "start_time": "2023-08-13T05:20:48.445716",
     "status": "completed"
    },
    "tags": []
   },
   "outputs": [
    {
     "data": {
      "text/plain": [
       "False    113189\n",
       "True      49569\n",
       "Name: isFrequentReviewer, dtype: int64"
      ]
     },
     "execution_count": 57,
     "metadata": {},
     "output_type": "execute_result"
    }
   ],
   "source": [
    "merged['isFrequentReviewer'].value_counts()"
   ]
  },
  {
   "cell_type": "code",
   "execution_count": 58,
   "id": "26661877",
   "metadata": {
    "execution": {
     "iopub.execute_input": "2023-08-13T05:20:48.802402Z",
     "iopub.status.busy": "2023-08-13T05:20:48.801970Z",
     "iopub.status.idle": "2023-08-13T05:20:48.810858Z",
     "shell.execute_reply": "2023-08-13T05:20:48.809625Z"
    },
    "papermill": {
     "duration": 0.127646,
     "end_time": "2023-08-13T05:20:48.813493",
     "exception": false,
     "start_time": "2023-08-13T05:20:48.685847",
     "status": "completed"
    },
    "tags": []
   },
   "outputs": [
    {
     "data": {
      "text/plain": [
       "0      Benjamin Henry\n",
       "1       Felicia Lopez\n",
       "2     Charles Burgess\n",
       "3        Ryan Barrett\n",
       "4    Alexander Glover\n",
       "Name: reviewerName, dtype: object"
      ]
     },
     "execution_count": 58,
     "metadata": {},
     "output_type": "execute_result"
    }
   ],
   "source": [
    "merged[\"reviewerName\"].head()"
   ]
  },
  {
   "cell_type": "code",
   "execution_count": 59,
   "id": "a83de307",
   "metadata": {
    "execution": {
     "iopub.execute_input": "2023-08-13T05:20:49.044595Z",
     "iopub.status.busy": "2023-08-13T05:20:49.044158Z",
     "iopub.status.idle": "2023-08-13T05:20:49.059848Z",
     "shell.execute_reply": "2023-08-13T05:20:49.058530Z"
    },
    "papermill": {
     "duration": 0.137951,
     "end_time": "2023-08-13T05:20:49.062515",
     "exception": false,
     "start_time": "2023-08-13T05:20:48.924564",
     "status": "completed"
    },
    "tags": []
   },
   "outputs": [
    {
     "data": {
      "text/plain": [
       "14300000.0    32327\n",
       "2000000.0       922\n",
       "1100000.0       891\n",
       "1000000.0       834\n",
       "1200000.0       802\n",
       "              ...  \n",
       "58500.0           1\n",
       "500800.0          1\n",
       "265600.0          1\n",
       "292500.0          1\n",
       "799400.0          1\n",
       "Name: boxOffice, Length: 3819, dtype: int64"
      ]
     },
     "execution_count": 59,
     "metadata": {},
     "output_type": "execute_result"
    }
   ],
   "source": [
    "merged['boxOffice'].value_counts()"
   ]
  },
  {
   "cell_type": "code",
   "execution_count": 60,
   "id": "1cf40db5",
   "metadata": {
    "execution": {
     "iopub.execute_input": "2023-08-13T05:20:49.309646Z",
     "iopub.status.busy": "2023-08-13T05:20:49.309206Z",
     "iopub.status.idle": "2023-08-13T05:20:49.314788Z",
     "shell.execute_reply": "2023-08-13T05:20:49.313340Z"
    },
    "papermill": {
     "duration": 0.143456,
     "end_time": "2023-08-13T05:20:49.317764",
     "exception": false,
     "start_time": "2023-08-13T05:20:49.174308",
     "status": "completed"
    },
    "tags": []
   },
   "outputs": [],
   "source": [
    "# Check correlation between 'boxOffice' and ''sentiment'\n",
    "# bo_df = merged.copy()\n",
    "# print(bo_df[\"boxOffice\"])\n",
    "# bo_df[\"boxOffice\"] = bo_df[\"boxOffice\"].str[1:]\n",
    "# bo_df[\"boxOffice\"] = bo_df[\"boxOffice\"].replace(to_replace={\"M\": \"*1000000\", \"K\": \"*1000\"}, regex=True)\n",
    "# bo_df[\"boxOffice\"] = bo_df[\"boxOffice\"].loc[bo_df[\"boxOffice\"].notnull()].apply(lambda x: eval(str(x)))\n",
    "# bo_df[\"boxOffice\"] = bo_df[\"boxOffice\"].fillna(bo_df[\"boxOffice\"].median())\n",
    "# bo_df[\"boxOffice\"].describe()"
   ]
  },
  {
   "cell_type": "code",
   "execution_count": 61,
   "id": "381fb8a1",
   "metadata": {
    "execution": {
     "iopub.execute_input": "2023-08-13T05:20:49.545847Z",
     "iopub.status.busy": "2023-08-13T05:20:49.545425Z",
     "iopub.status.idle": "2023-08-13T05:20:49.549867Z",
     "shell.execute_reply": "2023-08-13T05:20:49.548980Z"
    },
    "papermill": {
     "duration": 0.120772,
     "end_time": "2023-08-13T05:20:49.552125",
     "exception": false,
     "start_time": "2023-08-13T05:20:49.431353",
     "status": "completed"
    },
    "tags": []
   },
   "outputs": [],
   "source": [
    "# median = bo_df[\"boxOffice\"].describe()['50%']\n",
    "# iqr = bo_df[\"boxOffice\"].describe()['75%'] - bo_df[\"boxOffice\"].describe()['25%']\n",
    "# median, iqr"
   ]
  },
  {
   "cell_type": "code",
   "execution_count": 62,
   "id": "5aaad071",
   "metadata": {
    "execution": {
     "iopub.execute_input": "2023-08-13T05:20:49.775082Z",
     "iopub.status.busy": "2023-08-13T05:20:49.774624Z",
     "iopub.status.idle": "2023-08-13T05:20:49.780505Z",
     "shell.execute_reply": "2023-08-13T05:20:49.778912Z"
    },
    "papermill": {
     "duration": 0.120294,
     "end_time": "2023-08-13T05:20:49.783438",
     "exception": false,
     "start_time": "2023-08-13T05:20:49.663144",
     "status": "completed"
    },
    "tags": []
   },
   "outputs": [],
   "source": [
    "# ll = median - (1.5*iqr)\n",
    "# ul = median + (1.5*iqr)\n",
    "# ll, ul"
   ]
  },
  {
   "cell_type": "code",
   "execution_count": 63,
   "id": "49c91e5c",
   "metadata": {
    "execution": {
     "iopub.execute_input": "2023-08-13T05:20:50.080915Z",
     "iopub.status.busy": "2023-08-13T05:20:50.080483Z",
     "iopub.status.idle": "2023-08-13T05:20:50.084644Z",
     "shell.execute_reply": "2023-08-13T05:20:50.083804Z"
    },
    "papermill": {
     "duration": 0.122368,
     "end_time": "2023-08-13T05:20:50.087042",
     "exception": false,
     "start_time": "2023-08-13T05:20:49.964674",
     "status": "completed"
    },
    "tags": []
   },
   "outputs": [],
   "source": [
    "# bo_df[\"boxOffice\"].mean()"
   ]
  },
  {
   "cell_type": "code",
   "execution_count": 64,
   "id": "2d5e3454",
   "metadata": {
    "execution": {
     "iopub.execute_input": "2023-08-13T05:20:50.313612Z",
     "iopub.status.busy": "2023-08-13T05:20:50.313142Z",
     "iopub.status.idle": "2023-08-13T05:20:50.316910Z",
     "shell.execute_reply": "2023-08-13T05:20:50.316103Z"
    },
    "papermill": {
     "duration": 0.120016,
     "end_time": "2023-08-13T05:20:50.320062",
     "exception": false,
     "start_time": "2023-08-13T05:20:50.200046",
     "status": "completed"
    },
    "tags": []
   },
   "outputs": [],
   "source": [
    "# bo_df.loc[bo_df[\"boxOffice\"] > ul, \"boxOffice\"] = median\n",
    "# bo_df[\"boxOffice\"].mean()"
   ]
  },
  {
   "cell_type": "code",
   "execution_count": 65,
   "id": "9ffb6ab8",
   "metadata": {
    "execution": {
     "iopub.execute_input": "2023-08-13T05:20:50.553426Z",
     "iopub.status.busy": "2023-08-13T05:20:50.553021Z",
     "iopub.status.idle": "2023-08-13T05:20:50.557484Z",
     "shell.execute_reply": "2023-08-13T05:20:50.556384Z"
    },
    "papermill": {
     "duration": 0.121596,
     "end_time": "2023-08-13T05:20:50.559882",
     "exception": false,
     "start_time": "2023-08-13T05:20:50.438286",
     "status": "completed"
    },
    "tags": []
   },
   "outputs": [],
   "source": [
    "# bo_df[\"boxOffice\"].min(), bo_df[\"boxOffice\"].max()"
   ]
  },
  {
   "cell_type": "code",
   "execution_count": 66,
   "id": "aad8b498",
   "metadata": {
    "execution": {
     "iopub.execute_input": "2023-08-13T05:20:50.789389Z",
     "iopub.status.busy": "2023-08-13T05:20:50.789009Z",
     "iopub.status.idle": "2023-08-13T05:20:50.794011Z",
     "shell.execute_reply": "2023-08-13T05:20:50.792546Z"
    },
    "papermill": {
     "duration": 0.121422,
     "end_time": "2023-08-13T05:20:50.796392",
     "exception": false,
     "start_time": "2023-08-13T05:20:50.674970",
     "status": "completed"
    },
    "tags": []
   },
   "outputs": [],
   "source": [
    "# sns.boxplot(x=\"sentiment\", y=\"boxOffice\", data=bo_df, showfliers = False)"
   ]
  },
  {
   "cell_type": "markdown",
   "id": "dd6ea05c",
   "metadata": {
    "papermill": {
     "duration": 0.109347,
     "end_time": "2023-08-13T05:20:51.017357",
     "exception": false,
     "start_time": "2023-08-13T05:20:50.908010",
     "status": "completed"
    },
    "tags": []
   },
   "source": [
    "## EDA  "
   ]
  },
  {
   "cell_type": "markdown",
   "id": "abf96ada",
   "metadata": {
    "papermill": {
     "duration": 0.109633,
     "end_time": "2023-08-13T05:20:51.240109",
     "exception": false,
     "start_time": "2023-08-13T05:20:51.130476",
     "status": "completed"
    },
    "tags": []
   },
   "source": [
    "### An interesting finding through exploration  \n",
    "  \n",
    "* OHE and TfidfVectorizer on director column give the same result when ngram_range(2,2) is used (see code below)!"
   ]
  },
  {
   "cell_type": "code",
   "execution_count": 67,
   "id": "ecd669e9",
   "metadata": {
    "execution": {
     "iopub.execute_input": "2023-08-13T05:20:51.475469Z",
     "iopub.status.busy": "2023-08-13T05:20:51.473676Z",
     "iopub.status.idle": "2023-08-13T05:21:05.234548Z",
     "shell.execute_reply": "2023-08-13T05:21:05.232409Z"
    },
    "papermill": {
     "duration": 13.887164,
     "end_time": "2023-08-13T05:21:05.239451",
     "exception": false,
     "start_time": "2023-08-13T05:20:51.352287",
     "status": "completed"
    },
    "tags": []
   },
   "outputs": [
    {
     "name": "stdout",
     "output_type": "stream",
     "text": [
      "(162758,)\n",
      "9476\n",
      "(162758, 9476) <class 'numpy.ndarray'>\n",
      "(162758,)\n",
      "(162758, 9476) <class 'numpy.ndarray'>\n",
      "True\n"
     ]
    }
   ],
   "source": [
    "# Compare OHE and TfidfVectorizer on director column\n",
    "\n",
    "dirs = merged[\"director\"].copy()\n",
    "print(dirs.shape)\n",
    "dirs_uniq = merged[\"director\"].unique()\n",
    "print(len(dirs_uniq))\n",
    "\n",
    "du_ohe = OneHotEncoder(handle_unknown=\"ignore\", sparse_output=False).fit_transform(dirs.to_numpy().reshape(-1, 1))\n",
    "print(du_ohe.shape, type(du_ohe))\n",
    "\n",
    "dirs_2 = merged[\"director\"].copy()\n",
    "print(dirs_2.shape)\n",
    "du_tfidf = TfidfVectorizer(ngram_range=(2,2)).fit_transform(dirs_2).toarray()\n",
    "print(du_tfidf.shape, type(du_tfidf))\n",
    "\n",
    "print(np.array_equal(du_ohe, du_tfidf))"
   ]
  },
  {
   "cell_type": "code",
   "execution_count": 68,
   "id": "faeac14b",
   "metadata": {
    "execution": {
     "iopub.execute_input": "2023-08-13T05:21:05.474811Z",
     "iopub.status.busy": "2023-08-13T05:21:05.473646Z",
     "iopub.status.idle": "2023-08-13T05:21:05.843891Z",
     "shell.execute_reply": "2023-08-13T05:21:05.842399Z"
    },
    "papermill": {
     "duration": 0.488096,
     "end_time": "2023-08-13T05:21:05.846749",
     "exception": false,
     "start_time": "2023-08-13T05:21:05.358653",
     "status": "completed"
    },
    "tags": []
   },
   "outputs": [
    {
     "name": "stdout",
     "output_type": "stream",
     "text": [
      "0       Bennie Basso\n",
      "1         Alma White\n",
      "2       Bobby Oleary\n",
      "3    Eric Hutcherson\n",
      "4         John Trent\n",
      "Name: director, dtype: object\n"
     ]
    },
    {
     "data": {
      "text/plain": [
       "2    162758\n",
       "Name: director, dtype: int64"
      ]
     },
     "execution_count": 68,
     "metadata": {},
     "output_type": "execute_result"
    }
   ],
   "source": [
    "print(dirs.head())\n",
    "d = dirs.copy()\n",
    "d[\"name_len\"] = d.apply(lambda x: len(x.split()))\n",
    "d[\"name_len\"].value_counts()"
   ]
  },
  {
   "cell_type": "code",
   "execution_count": 69,
   "id": "f90cb130",
   "metadata": {
    "execution": {
     "iopub.execute_input": "2023-08-13T05:21:06.078597Z",
     "iopub.status.busy": "2023-08-13T05:21:06.078207Z",
     "iopub.status.idle": "2023-08-13T05:21:06.084074Z",
     "shell.execute_reply": "2023-08-13T05:21:06.083205Z"
    },
    "papermill": {
     "duration": 0.125688,
     "end_time": "2023-08-13T05:21:06.086436",
     "exception": false,
     "start_time": "2023-08-13T05:21:05.960748",
     "status": "completed"
    },
    "tags": []
   },
   "outputs": [],
   "source": [
    "# Compare OHE and TfidfVectorizer on reviewerName column\n",
    "# Note: reviewerName column has salutations like \"Mr. \" etc, and some names appear middle names. Therefore needs cleaning\n",
    "\n",
    "# def name_fl(name):\n",
    "#     l = name.split()\n",
    "#     n = ' '.join((l[0], l[-1]))\n",
    "#     return n\n",
    "\n",
    "# reviewers = merged[\"reviewerName\"].copy()\n",
    "# reviewers = pd.DataFrame(reviewers)\n",
    "# reviewers = reviewers.replace({\"Mr. \": \"\", \"Mrs. \": \"\"}, regex=True)\n",
    "# reviewers[\"reviewerName\"] = reviewers[\"reviewerName\"].apply(name_fl)\n",
    "# print(reviewers.shape)\n",
    "\n",
    "# reviewers_uniq = merged[\"reviewerName\"].unique()\n",
    "# print(len(reviewers_uniq))\n",
    "\n",
    "# reviewers_ohe = OneHotEncoder(handle_unknown=\"ignore\", sparse_output=False).fit_transform(reviewers.to_numpy().reshape(-1, 1))\n",
    "# print(reviewers_ohe.shape, type(reviewers_ohe))\n",
    "\n",
    "# reviewers_2 = merged[\"reviewerName\"].copy()\n",
    "# reviewers_2 = pd.DataFrame(reviewers_2)\n",
    "# print(reviewers_2.head())\n",
    "# reviewers_2 = reviewers_2.replace({\"Mr. \": \"\", \"Mrs. \": \"\"}, regex=True)\n",
    "# reviewers_2[\"reviewerName\"] = reviewers_2[\"reviewerName\"].apply(name_fl)\n",
    "# reviewers_2 = reviewers_2.squeeze()\n",
    "# print(reviewers_2.shape)\n",
    "# print(reviewers_2.head())\n",
    "\n",
    "# reviewers_tfidf = TfidfVectorizer(ngram_range=(2,2)).fit_transform(reviewers_2).toarray()\n",
    "# print(reviewers_tfidf.shape, type(reviewers_tfidf))\n",
    "\n",
    "# print(np.array_equal(reviewers_ohe, reviewers_tfidf))"
   ]
  },
  {
   "cell_type": "code",
   "execution_count": 70,
   "id": "d94f444f",
   "metadata": {
    "execution": {
     "iopub.execute_input": "2023-08-13T05:21:06.316524Z",
     "iopub.status.busy": "2023-08-13T05:21:06.315885Z",
     "iopub.status.idle": "2023-08-13T05:21:06.321359Z",
     "shell.execute_reply": "2023-08-13T05:21:06.319663Z"
    },
    "papermill": {
     "duration": 0.125185,
     "end_time": "2023-08-13T05:21:06.325996",
     "exception": false,
     "start_time": "2023-08-13T05:21:06.200811",
     "status": "completed"
    },
    "tags": []
   },
   "outputs": [],
   "source": [
    "# def name_fl(name):\n",
    "#     l = name.split()\n",
    "#     n = ' '.join((l[0], l[-1]))\n",
    "#     return n"
   ]
  },
  {
   "cell_type": "code",
   "execution_count": 71,
   "id": "8fddc375",
   "metadata": {
    "execution": {
     "iopub.execute_input": "2023-08-13T05:21:06.563630Z",
     "iopub.status.busy": "2023-08-13T05:21:06.563235Z",
     "iopub.status.idle": "2023-08-13T05:21:06.568847Z",
     "shell.execute_reply": "2023-08-13T05:21:06.567348Z"
    },
    "papermill": {
     "duration": 0.128918,
     "end_time": "2023-08-13T05:21:06.572327",
     "exception": false,
     "start_time": "2023-08-13T05:21:06.443409",
     "status": "completed"
    },
    "tags": []
   },
   "outputs": [],
   "source": [
    "# print(reviewers.head())\n",
    "# r = pd.DataFrame(reviewers.copy())\n",
    "# r[\"reviewerName\"] = r[\"reviewerName\"].apply(name_fl)\n",
    "# r[\"name_len\"] = r[\"reviewerName\"].apply(lambda x: len(x.split()))\n",
    "# print(r.shape)\n",
    "# print(r.head())\n",
    "# print(r['name_len'].value_counts())"
   ]
  },
  {
   "cell_type": "code",
   "execution_count": 72,
   "id": "9a90ce6c",
   "metadata": {
    "execution": {
     "iopub.execute_input": "2023-08-13T05:21:06.812647Z",
     "iopub.status.busy": "2023-08-13T05:21:06.812185Z",
     "iopub.status.idle": "2023-08-13T05:21:06.818090Z",
     "shell.execute_reply": "2023-08-13T05:21:06.815937Z"
    },
    "papermill": {
     "duration": 0.129527,
     "end_time": "2023-08-13T05:21:06.821398",
     "exception": false,
     "start_time": "2023-08-13T05:21:06.691871",
     "status": "completed"
    },
    "tags": []
   },
   "outputs": [],
   "source": [
    "## Box plot audienceScore and sentiment  \n",
    "# plt.figure(figsize=(6, 4))\n",
    "# sns.boxplot(x=\"sentiment\", y=\"audienceScore\", data=merged, width=0.3)\n",
    "# plt.title(\"Box plot audienceScore and sentiment\")\n",
    "# plt.show()"
   ]
  },
  {
   "cell_type": "code",
   "execution_count": 73,
   "id": "b8ee519f",
   "metadata": {
    "execution": {
     "iopub.execute_input": "2023-08-13T05:21:07.053442Z",
     "iopub.status.busy": "2023-08-13T05:21:07.053022Z",
     "iopub.status.idle": "2023-08-13T05:21:07.058633Z",
     "shell.execute_reply": "2023-08-13T05:21:07.057409Z"
    },
    "papermill": {
     "duration": 0.124402,
     "end_time": "2023-08-13T05:21:07.060958",
     "exception": false,
     "start_time": "2023-08-13T05:21:06.936556",
     "status": "completed"
    },
    "tags": []
   },
   "outputs": [],
   "source": [
    "## Box plot runtimeMinutes and sentiment  \n",
    "# plt.figure(figsize=(6, 4))\n",
    "# sns.boxplot(x=\"sentiment\", y=\"runtimeMinutes\", data=merged, width=0.3)\n",
    "# plt.title(\"Box plot runtimeMinutes and sentiment\")\n",
    "# plt.show()"
   ]
  },
  {
   "cell_type": "code",
   "execution_count": 74,
   "id": "150e7d9a",
   "metadata": {
    "execution": {
     "iopub.execute_input": "2023-08-13T05:21:07.293385Z",
     "iopub.status.busy": "2023-08-13T05:21:07.291985Z",
     "iopub.status.idle": "2023-08-13T05:21:07.298487Z",
     "shell.execute_reply": "2023-08-13T05:21:07.296548Z"
    },
    "papermill": {
     "duration": 0.125019,
     "end_time": "2023-08-13T05:21:07.301391",
     "exception": false,
     "start_time": "2023-08-13T05:21:07.176372",
     "status": "completed"
    },
    "tags": []
   },
   "outputs": [],
   "source": [
    "## Column chart for sentiment and rating columns\n",
    "# plt.figure(figsize=(6, 4))\n",
    "# sns.countplot(x=\"sentiment\", hue=\"rating\", data=merged)\n",
    "# plt.title(\"Column chart for sentiment and rating columns\")\n",
    "# plt.show()"
   ]
  },
  {
   "cell_type": "code",
   "execution_count": 75,
   "id": "613171aa",
   "metadata": {
    "execution": {
     "iopub.execute_input": "2023-08-13T05:21:07.535738Z",
     "iopub.status.busy": "2023-08-13T05:21:07.535292Z",
     "iopub.status.idle": "2023-08-13T05:21:07.540519Z",
     "shell.execute_reply": "2023-08-13T05:21:07.539375Z"
    },
    "papermill": {
     "duration": 0.123986,
     "end_time": "2023-08-13T05:21:07.543040",
     "exception": false,
     "start_time": "2023-08-13T05:21:07.419054",
     "status": "completed"
    },
    "tags": []
   },
   "outputs": [],
   "source": [
    "# Correlation heatmap  \n",
    "# plt.figure(figsize=(10, 8))\n",
    "# sns.heatmap(merged.corr(), annot=True, cmap=\"coolwarm\")\n",
    "# plt.title(\"Correlation heatmap\")\n",
    "# plt.show()"
   ]
  },
  {
   "cell_type": "markdown",
   "id": "dca7316c",
   "metadata": {
    "papermill": {
     "duration": 0.112816,
     "end_time": "2023-08-13T05:21:07.772569",
     "exception": false,
     "start_time": "2023-08-13T05:21:07.659753",
     "status": "completed"
    },
    "tags": []
   },
   "source": [
    "## Merge and preprocess \"test.csv\" and \"movies.csv\" files  "
   ]
  },
  {
   "cell_type": "code",
   "execution_count": 76,
   "id": "cd1c7c99",
   "metadata": {
    "execution": {
     "iopub.execute_input": "2023-08-13T05:21:08.003691Z",
     "iopub.status.busy": "2023-08-13T05:21:08.002398Z",
     "iopub.status.idle": "2023-08-13T05:21:14.525842Z",
     "shell.execute_reply": "2023-08-13T05:21:14.524331Z"
    },
    "papermill": {
     "duration": 6.644516,
     "end_time": "2023-08-13T05:21:14.528991",
     "exception": false,
     "start_time": "2023-08-13T05:21:07.884475",
     "status": "completed"
    },
    "tags": []
   },
   "outputs": [],
   "source": [
    "# Merge test and movies  \n",
    "merged_test = select_features(load_csv(\"test\"), load_csv(\"movies\"))"
   ]
  },
  {
   "cell_type": "code",
   "execution_count": 77,
   "id": "bcdbf530",
   "metadata": {
    "execution": {
     "iopub.execute_input": "2023-08-13T05:21:14.825937Z",
     "iopub.status.busy": "2023-08-13T05:21:14.825262Z",
     "iopub.status.idle": "2023-08-13T05:21:14.830064Z",
     "shell.execute_reply": "2023-08-13T05:21:14.829151Z"
    },
    "papermill": {
     "duration": 0.187027,
     "end_time": "2023-08-13T05:21:14.832402",
     "exception": false,
     "start_time": "2023-08-13T05:21:14.645375",
     "status": "completed"
    },
    "tags": []
   },
   "outputs": [],
   "source": [
    "# inspect(merged_test)      # Note the missing values in ['audienceScore', 'runtimeMinutes', 'boxOffice']"
   ]
  },
  {
   "cell_type": "code",
   "execution_count": 78,
   "id": "0f4123f9",
   "metadata": {
    "execution": {
     "iopub.execute_input": "2023-08-13T05:21:15.065598Z",
     "iopub.status.busy": "2023-08-13T05:21:15.064935Z",
     "iopub.status.idle": "2023-08-13T05:21:15.082535Z",
     "shell.execute_reply": "2023-08-13T05:21:15.081344Z"
    },
    "papermill": {
     "duration": 0.138591,
     "end_time": "2023-08-13T05:21:15.085416",
     "exception": false,
     "start_time": "2023-08-13T05:21:14.946825",
     "status": "completed"
    },
    "tags": []
   },
   "outputs": [
    {
     "data": {
      "text/plain": [
       "array([6.80e+01, 1.04e+02, 1.43e+07])"
      ]
     },
     "execution_count": 78,
     "metadata": {},
     "output_type": "execute_result"
    }
   ],
   "source": [
    "# Transform ['audienceScore', 'runtimeMinutes', 'boxOffice'] columns in merged_test using 'si' fitted on 'merged' df  \n",
    "merged_test[['audienceScore', 'runtimeMinutes', 'boxOffice']] = si.transform(merged_test[['audienceScore', 'runtimeMinutes', 'boxOffice']])\n",
    "si.statistics_"
   ]
  },
  {
   "cell_type": "code",
   "execution_count": 79,
   "id": "aed0f23d",
   "metadata": {
    "execution": {
     "iopub.execute_input": "2023-08-13T05:21:15.313733Z",
     "iopub.status.busy": "2023-08-13T05:21:15.313299Z",
     "iopub.status.idle": "2023-08-13T05:21:15.324583Z",
     "shell.execute_reply": "2023-08-13T05:21:15.323232Z"
    },
    "papermill": {
     "duration": 0.127211,
     "end_time": "2023-08-13T05:21:15.327686",
     "exception": false,
     "start_time": "2023-08-13T05:21:15.200475",
     "status": "completed"
    },
    "tags": []
   },
   "outputs": [],
   "source": [
    "# Fill 'releaseDate' column in 'merged_test' df with median from the train (merged) df  \n",
    "merged_test['releaseDate'] = merged_test[\"releaseDate\"].fillna(merged[\"releaseDate\"].median())"
   ]
  },
  {
   "cell_type": "code",
   "execution_count": 80,
   "id": "645400ec",
   "metadata": {
    "execution": {
     "iopub.execute_input": "2023-08-13T05:21:15.558124Z",
     "iopub.status.busy": "2023-08-13T05:21:15.556808Z",
     "iopub.status.idle": "2023-08-13T05:21:16.078850Z",
     "shell.execute_reply": "2023-08-13T05:21:16.076537Z"
    },
    "papermill": {
     "duration": 0.643586,
     "end_time": "2023-08-13T05:21:16.082165",
     "exception": false,
     "start_time": "2023-08-13T05:21:15.438579",
     "status": "completed"
    },
    "tags": []
   },
   "outputs": [
    {
     "name": "stdout",
     "output_type": "stream",
     "text": [
      "Shape of the dataframe: (55315, 25)\n",
      "\n",
      "Columns in the dataframe:\n",
      "Index(['movieid', 'reviewerName', 'isFrequentReviewer', 'reviewText', 'title',\n",
      "       'audienceScore', 'rating', 'ratingContents', 'releaseDateTheaters',\n",
      "       'releaseDateStreaming', 'runtimeMinutes', 'genre', 'originalLanguage',\n",
      "       'director', 'boxOffice', 'distributor', 'soundType', 'reviewYN',\n",
      "       'reviewWC', 'genreSorted', 'rcSorted', 'releaseDate', 'releaseYear',\n",
      "       'releaseMonth', 'releaseDiff'],\n",
      "      dtype='object')\n",
      "\n",
      "<class 'pandas.core.frame.DataFrame'>\n",
      "Int64Index: 55315 entries, 0 to 55314\n",
      "Data columns (total 25 columns):\n",
      " #   Column                Non-Null Count  Dtype         \n",
      "---  ------                --------------  -----         \n",
      " 0   movieid               55315 non-null  object        \n",
      " 1   reviewerName          55315 non-null  object        \n",
      " 2   isFrequentReviewer    55315 non-null  bool          \n",
      " 3   reviewText            55315 non-null  object        \n",
      " 4   title                 55315 non-null  object        \n",
      " 5   audienceScore         55315 non-null  float64       \n",
      " 6   rating                55315 non-null  object        \n",
      " 7   ratingContents        55315 non-null  object        \n",
      " 8   releaseDateTheaters   47844 non-null  datetime64[ns]\n",
      " 9   releaseDateStreaming  52929 non-null  datetime64[ns]\n",
      " 10  runtimeMinutes        55315 non-null  float64       \n",
      " 11  genre                 55315 non-null  object        \n",
      " 12  originalLanguage      55315 non-null  object        \n",
      " 13  director              55315 non-null  object        \n",
      " 14  boxOffice             55315 non-null  float64       \n",
      " 15  distributor           55315 non-null  object        \n",
      " 16  soundType             29845 non-null  object        \n",
      " 17  reviewYN              55315 non-null  int64         \n",
      " 18  reviewWC              55315 non-null  int64         \n",
      " 19  genreSorted           55315 non-null  object        \n",
      " 20  rcSorted              55315 non-null  object        \n",
      " 21  releaseDate           55315 non-null  datetime64[ns]\n",
      " 22  releaseYear           46626 non-null  float64       \n",
      " 23  releaseMonth          46626 non-null  float64       \n",
      " 24  releaseDiff           55315 non-null  float64       \n",
      "dtypes: bool(1), datetime64[ns](3), float64(6), int64(2), object(13)\n",
      "memory usage: 10.6+ MB\n",
      "None\n",
      "\n",
      "Missing values:\n",
      "movieid                     0\n",
      "reviewerName                0\n",
      "isFrequentReviewer          0\n",
      "reviewText                  0\n",
      "title                       0\n",
      "audienceScore               0\n",
      "rating                      0\n",
      "ratingContents              0\n",
      "releaseDateTheaters      7471\n",
      "releaseDateStreaming     2386\n",
      "runtimeMinutes              0\n",
      "genre                       0\n",
      "originalLanguage            0\n",
      "director                    0\n",
      "boxOffice                   0\n",
      "distributor                 0\n",
      "soundType               25470\n",
      "reviewYN                    0\n",
      "reviewWC                    0\n",
      "genreSorted                 0\n",
      "rcSorted                    0\n",
      "releaseDate                 0\n",
      "releaseYear              8689\n",
      "releaseMonth             8689\n",
      "releaseDiff                 0\n",
      "dtype: int64\n"
     ]
    }
   ],
   "source": [
    "# After transforming merged_test  \n",
    "inspect(merged_test)"
   ]
  },
  {
   "cell_type": "code",
   "execution_count": 81,
   "id": "db6dc32b",
   "metadata": {
    "execution": {
     "iopub.execute_input": "2023-08-13T05:21:16.308564Z",
     "iopub.status.busy": "2023-08-13T05:21:16.308024Z",
     "iopub.status.idle": "2023-08-13T05:21:16.315605Z",
     "shell.execute_reply": "2023-08-13T05:21:16.314271Z"
    },
    "papermill": {
     "duration": 0.123931,
     "end_time": "2023-08-13T05:21:16.318078",
     "exception": false,
     "start_time": "2023-08-13T05:21:16.194147",
     "status": "completed"
    },
    "tags": []
   },
   "outputs": [
    {
     "name": "stdout",
     "output_type": "stream",
     "text": [
      "2510\n",
      "4.537648015908886\n"
     ]
    }
   ],
   "source": [
    "print(merged_test[\"reviewYN\"].sum())\n",
    "print(merged_test[\"reviewYN\"].sum() * 100 / merged_test.shape[0])"
   ]
  },
  {
   "cell_type": "code",
   "execution_count": 82,
   "id": "7b37bb93",
   "metadata": {
    "execution": {
     "iopub.execute_input": "2023-08-13T05:21:16.552802Z",
     "iopub.status.busy": "2023-08-13T05:21:16.552413Z",
     "iopub.status.idle": "2023-08-13T05:21:16.570340Z",
     "shell.execute_reply": "2023-08-13T05:21:16.568715Z"
    },
    "papermill": {
     "duration": 0.144031,
     "end_time": "2023-08-13T05:21:16.573713",
     "exception": false,
     "start_time": "2023-08-13T05:21:16.429682",
     "status": "completed"
    },
    "tags": []
   },
   "outputs": [
    {
     "data": {
      "text/plain": [
       "R          18934\n",
       "unknown    18386\n",
       "PG-13      13220\n",
       "PG          4200\n",
       "TV14         333\n",
       "TVPG         109\n",
       "NC-17        108\n",
       "TVMA          25\n",
       "Name: rating, dtype: int64"
      ]
     },
     "execution_count": 82,
     "metadata": {},
     "output_type": "execute_result"
    }
   ],
   "source": [
    "merged_test['rating'].value_counts()"
   ]
  },
  {
   "cell_type": "code",
   "execution_count": 83,
   "id": "4c14ae0c",
   "metadata": {
    "execution": {
     "iopub.execute_input": "2023-08-13T05:21:16.804371Z",
     "iopub.status.busy": "2023-08-13T05:21:16.803618Z",
     "iopub.status.idle": "2023-08-13T05:21:16.816892Z",
     "shell.execute_reply": "2023-08-13T05:21:16.814857Z"
    },
    "papermill": {
     "duration": 0.131668,
     "end_time": "2023-08-13T05:21:16.820364",
     "exception": false,
     "start_time": "2023-08-13T05:21:16.688696",
     "status": "completed"
    },
    "tags": []
   },
   "outputs": [
    {
     "data": {
      "text/plain": [
       "False    38428\n",
       "True     16887\n",
       "Name: isFrequentReviewer, dtype: int64"
      ]
     },
     "execution_count": 83,
     "metadata": {},
     "output_type": "execute_result"
    }
   ],
   "source": [
    "merged_test['isFrequentReviewer'].value_counts()"
   ]
  },
  {
   "cell_type": "code",
   "execution_count": 84,
   "id": "844d9760",
   "metadata": {
    "execution": {
     "iopub.execute_input": "2023-08-13T05:21:17.055271Z",
     "iopub.status.busy": "2023-08-13T05:21:17.054840Z",
     "iopub.status.idle": "2023-08-13T05:21:17.066219Z",
     "shell.execute_reply": "2023-08-13T05:21:17.065387Z"
    },
    "papermill": {
     "duration": 0.12909,
     "end_time": "2023-08-13T05:21:17.068361",
     "exception": false,
     "start_time": "2023-08-13T05:21:16.939271",
     "status": "completed"
    },
    "tags": []
   },
   "outputs": [
    {
     "data": {
      "text/plain": [
       "14300000.0    13593\n",
       "1100000.0       311\n",
       "1000000.0       272\n",
       "1300000.0       263\n",
       "2000000.0       256\n",
       "              ...  \n",
       "200400.0          1\n",
       "23800000.0        1\n",
       "111200.0          1\n",
       "277800.0          1\n",
       "100600.0          1\n",
       "Name: boxOffice, Length: 3816, dtype: int64"
      ]
     },
     "execution_count": 84,
     "metadata": {},
     "output_type": "execute_result"
    }
   ],
   "source": [
    "merged_test['boxOffice'].value_counts()"
   ]
  },
  {
   "cell_type": "markdown",
   "id": "c6c4b1ba",
   "metadata": {
    "papermill": {
     "duration": 0.125923,
     "end_time": "2023-08-13T05:21:17.308412",
     "exception": false,
     "start_time": "2023-08-13T05:21:17.182489",
     "status": "completed"
    },
    "tags": []
   },
   "source": [
    "## Work on vocabulary  \n",
    "\n",
    "`Build vocabulary from 'reviewText' column`  "
   ]
  },
  {
   "cell_type": "code",
   "execution_count": 85,
   "id": "1653d00d",
   "metadata": {
    "execution": {
     "iopub.execute_input": "2023-08-13T05:21:17.553446Z",
     "iopub.status.busy": "2023-08-13T05:21:17.552881Z",
     "iopub.status.idle": "2023-08-13T05:21:17.583700Z",
     "shell.execute_reply": "2023-08-13T05:21:17.582439Z"
    },
    "papermill": {
     "duration": 0.161997,
     "end_time": "2023-08-13T05:21:17.586454",
     "exception": false,
     "start_time": "2023-08-13T05:21:17.424457",
     "status": "completed"
    },
    "tags": []
   },
   "outputs": [
    {
     "data": {
      "text/plain": [
       "((162758, 2),\n",
       "                                           reviewText sentiment\n",
       " 0  Henry Selick’s first movie since ’s Coraline. ...  POSITIVE\n",
       " 1  With a cast that reads like the Vogue Oscar pa...  NEGATIVE\n",
       " 2  Creed II does not give us anything but another...  POSITIVE\n",
       " 3  I know what you're thinking, but this is no Li...  POSITIVE\n",
       " 4  Director Fernando Meirelles tells the story wi...  POSITIVE)"
      ]
     },
     "execution_count": 85,
     "metadata": {},
     "output_type": "execute_result"
    }
   ],
   "source": [
    "rt_senti = merged[[\"reviewText\", \"sentiment\"]].copy()\n",
    "rt_senti.shape, rt_senti.head()"
   ]
  },
  {
   "cell_type": "code",
   "execution_count": 86,
   "id": "b58e573b",
   "metadata": {
    "execution": {
     "iopub.execute_input": "2023-08-13T05:21:17.845774Z",
     "iopub.status.busy": "2023-08-13T05:21:17.845395Z",
     "iopub.status.idle": "2023-08-13T05:21:17.858232Z",
     "shell.execute_reply": "2023-08-13T05:21:17.857339Z"
    },
    "papermill": {
     "duration": 0.132756,
     "end_time": "2023-08-13T05:21:17.861201",
     "exception": false,
     "start_time": "2023-08-13T05:21:17.728445",
     "status": "completed"
    },
    "tags": []
   },
   "outputs": [
    {
     "data": {
      "text/plain": [
       "((55315, 1),\n",
       "                                           reviewText\n",
       " 0  Green slowly cranks up the dread with style an...\n",
       " 1  Philip Noyce's direction is elegant and unforc...\n",
       " 2  It wouldn't do to say what path Maria ultimate...\n",
       " 3  Pig is not exactly the arthouse John Wick that...\n",
       " 4  An imaginative no-budget musical of sorts abou...)"
      ]
     },
     "execution_count": 86,
     "metadata": {},
     "output_type": "execute_result"
    }
   ],
   "source": [
    "rt_test = pd.DataFrame(merged_test[\"reviewText\"].copy())\n",
    "rt_test.shape, rt_test.head()"
   ]
  },
  {
   "cell_type": "code",
   "execution_count": 87,
   "id": "c7c628ec",
   "metadata": {
    "execution": {
     "iopub.execute_input": "2023-08-13T05:21:18.105702Z",
     "iopub.status.busy": "2023-08-13T05:21:18.104688Z",
     "iopub.status.idle": "2023-08-13T05:21:18.112514Z",
     "shell.execute_reply": "2023-08-13T05:21:18.111385Z"
    },
    "papermill": {
     "duration": 0.134979,
     "end_time": "2023-08-13T05:21:18.115424",
     "exception": false,
     "start_time": "2023-08-13T05:21:17.980445",
     "status": "completed"
    },
    "tags": []
   },
   "outputs": [],
   "source": [
    "def get_vocab(text_df, ngram_range=(1,1)):\n",
    "    print(f\"Generating vocabulary for ngram_range: {ngram_range}...\")\n",
    "    tvec1 = CountVectorizer(ngram_range=ngram_range, stop_words='english', strip_accents='unicode')\n",
    "    tvec1.fit(text_df)\n",
    "    voc_ngram = set(tvec1.vocabulary_.keys())\n",
    "    return voc_ngram"
   ]
  },
  {
   "cell_type": "code",
   "execution_count": 88,
   "id": "1688582c",
   "metadata": {
    "execution": {
     "iopub.execute_input": "2023-08-13T05:21:18.363767Z",
     "iopub.status.busy": "2023-08-13T05:21:18.362827Z",
     "iopub.status.idle": "2023-08-13T05:21:18.374640Z",
     "shell.execute_reply": "2023-08-13T05:21:18.373303Z"
    },
    "papermill": {
     "duration": 0.144035,
     "end_time": "2023-08-13T05:21:18.377925",
     "exception": false,
     "start_time": "2023-08-13T05:21:18.233890",
     "status": "completed"
    },
    "tags": []
   },
   "outputs": [],
   "source": [
    "def get_common_vocab(df_list: list, ngram_range_list: list):\n",
    "    \"\"\"\n",
    "    Get common vocabulary from a list of dataframes.\n",
    "    \"\"\"\n",
    "    final_common_vocab = set()\n",
    "    # Get vocabulary from each dataframe for a given ngram-range\n",
    "    for ngram_range in ngram_range_list:\n",
    "        vocab_ngram = set()\n",
    "        for num, df in enumerate(df_list, start=1):\n",
    "            print(f\"Working on DF#{num} in the list of DFs provided\")\n",
    "            vocab_ngram_df = set(get_vocab(df['reviewText'], ngram_range))\n",
    "            print(f\"Vocabulary size for ngram-range {ngram_range} in DF#{num}: {len(vocab_ngram_df)}\\n\")\n",
    "            if len(vocab_ngram) > 0:\n",
    "                print(f\"Keeping only the common (intersection) words for ngram-range {ngram_range}...\")\n",
    "                vocab_ngram = vocab_ngram.intersection(vocab_ngram_df)\n",
    "            else:\n",
    "                print(f\"Words from the first df for ngram-range {ngram_range} added.\\n\")\n",
    "                vocab_ngram = vocab_ngram_df\n",
    "        print(f\"Common vocabulary for ngram-range {ngram_range}: {len(vocab_ngram)}\\n\")\n",
    "        \n",
    "        if len(final_common_vocab) > 0:\n",
    "            print(f\"Fusing (union) with final common vocabulary: ngram-range = {ngram_range}.\\n\")\n",
    "            final_common_vocab = final_common_vocab.union(vocab_ngram)\n",
    "        else:\n",
    "            print(f\"Appended first time to final common vocabulary: ngram-range = {ngram_range}.\\n\")\n",
    "            final_common_vocab = vocab_ngram\n",
    "    return final_common_vocab"
   ]
  },
  {
   "cell_type": "code",
   "execution_count": 89,
   "id": "2f1efcad",
   "metadata": {
    "execution": {
     "iopub.execute_input": "2023-08-13T05:21:18.618550Z",
     "iopub.status.busy": "2023-08-13T05:21:18.617279Z",
     "iopub.status.idle": "2023-08-13T05:21:18.623666Z",
     "shell.execute_reply": "2023-08-13T05:21:18.621873Z"
    },
    "papermill": {
     "duration": 0.133109,
     "end_time": "2023-08-13T05:21:18.627492",
     "exception": false,
     "start_time": "2023-08-13T05:21:18.494383",
     "status": "completed"
    },
    "tags": []
   },
   "outputs": [],
   "source": [
    "# voc_1gram = get_vocab(rt_senti[\"reviewText\"], ngram_range=(1,1))\n",
    "# len(voc_1gram), voc_1gram[:10]"
   ]
  },
  {
   "cell_type": "code",
   "execution_count": 90,
   "id": "bf5cd702",
   "metadata": {
    "execution": {
     "iopub.execute_input": "2023-08-13T05:21:18.859870Z",
     "iopub.status.busy": "2023-08-13T05:21:18.859467Z",
     "iopub.status.idle": "2023-08-13T05:21:18.864852Z",
     "shell.execute_reply": "2023-08-13T05:21:18.863661Z"
    },
    "papermill": {
     "duration": 0.124986,
     "end_time": "2023-08-13T05:21:18.867561",
     "exception": false,
     "start_time": "2023-08-13T05:21:18.742575",
     "status": "completed"
    },
    "tags": []
   },
   "outputs": [],
   "source": [
    "# voc_2gram = get_vocab(rt_senti[\"reviewText\"], ngram_range=(2,2))\n",
    "# len(voc_2gram), voc_2gram[:10]"
   ]
  },
  {
   "cell_type": "code",
   "execution_count": 91,
   "id": "6e9646ce",
   "metadata": {
    "execution": {
     "iopub.execute_input": "2023-08-13T05:21:19.104613Z",
     "iopub.status.busy": "2023-08-13T05:21:19.103878Z",
     "iopub.status.idle": "2023-08-13T05:21:19.108685Z",
     "shell.execute_reply": "2023-08-13T05:21:19.107453Z"
    },
    "papermill": {
     "duration": 0.130669,
     "end_time": "2023-08-13T05:21:19.111267",
     "exception": false,
     "start_time": "2023-08-13T05:21:18.980598",
     "status": "completed"
    },
    "tags": []
   },
   "outputs": [],
   "source": [
    "# voc_3gram = get_vocab(rt_senti[\"reviewText\"], ngram_range=(3,3))\n",
    "# len(voc_3gram), voc_3gram[:10]"
   ]
  },
  {
   "cell_type": "code",
   "execution_count": 92,
   "id": "92e95ab5",
   "metadata": {
    "execution": {
     "iopub.execute_input": "2023-08-13T05:21:19.373005Z",
     "iopub.status.busy": "2023-08-13T05:21:19.372124Z",
     "iopub.status.idle": "2023-08-13T05:21:19.377372Z",
     "shell.execute_reply": "2023-08-13T05:21:19.376014Z"
    },
    "papermill": {
     "duration": 0.131893,
     "end_time": "2023-08-13T05:21:19.380773",
     "exception": false,
     "start_time": "2023-08-13T05:21:19.248880",
     "status": "completed"
    },
    "tags": []
   },
   "outputs": [],
   "source": [
    "# common_unigrams = get_common_vocab([rt_senti, rt_test], ngram_range_list=[(1,1)])\n",
    "# print(len(common_unigrams))\n",
    "# # sorted(list(common_unigrams))"
   ]
  },
  {
   "cell_type": "code",
   "execution_count": 93,
   "id": "6d32ec19",
   "metadata": {
    "execution": {
     "iopub.execute_input": "2023-08-13T05:21:19.615470Z",
     "iopub.status.busy": "2023-08-13T05:21:19.614177Z",
     "iopub.status.idle": "2023-08-13T05:21:19.619924Z",
     "shell.execute_reply": "2023-08-13T05:21:19.618975Z"
    },
    "papermill": {
     "duration": 0.128066,
     "end_time": "2023-08-13T05:21:19.622638",
     "exception": false,
     "start_time": "2023-08-13T05:21:19.494572",
     "status": "completed"
    },
    "tags": []
   },
   "outputs": [],
   "source": [
    "# common_bigrams = get_common_vocab([rt_senti, rt_test], ngram_range_list=[(2,2)])\n",
    "# print(len(common_bigrams))\n",
    "# # # common_bigrams"
   ]
  },
  {
   "cell_type": "code",
   "execution_count": 94,
   "id": "9d4f29c9",
   "metadata": {
    "execution": {
     "iopub.execute_input": "2023-08-13T05:21:19.865148Z",
     "iopub.status.busy": "2023-08-13T05:21:19.864283Z",
     "iopub.status.idle": "2023-08-13T05:21:19.869507Z",
     "shell.execute_reply": "2023-08-13T05:21:19.868514Z"
    },
    "papermill": {
     "duration": 0.131052,
     "end_time": "2023-08-13T05:21:19.872196",
     "exception": false,
     "start_time": "2023-08-13T05:21:19.741144",
     "status": "completed"
    },
    "tags": []
   },
   "outputs": [],
   "source": [
    "# common_1_2_grams = get_common_vocab([rt_senti, rt_test], ngram_range_list=[(1,1), (2,2)])\n",
    "# print(len(common_1_2_grams))\n",
    "# # sorted(list(common_1_2_grams))\n",
    "\n",
    "# # common_1_2_grams = common_unigrams | common_bigrams    # older code"
   ]
  },
  {
   "cell_type": "code",
   "execution_count": 95,
   "id": "b750d124",
   "metadata": {
    "execution": {
     "iopub.execute_input": "2023-08-13T05:21:20.118704Z",
     "iopub.status.busy": "2023-08-13T05:21:20.117339Z",
     "iopub.status.idle": "2023-08-13T05:21:20.124002Z",
     "shell.execute_reply": "2023-08-13T05:21:20.122422Z"
    },
    "papermill": {
     "duration": 0.13428,
     "end_time": "2023-08-13T05:21:20.126727",
     "exception": false,
     "start_time": "2023-08-13T05:21:19.992447",
     "status": "completed"
    },
    "tags": []
   },
   "outputs": [],
   "source": [
    "# common_trigrams = get_common_vocab([rt_senti, rt_test], ngram_range_list=[(3,3)])\n",
    "# print(len(common_trigrams))\n",
    "# # common_trigrams"
   ]
  },
  {
   "cell_type": "code",
   "execution_count": 96,
   "id": "5cc01a77",
   "metadata": {
    "execution": {
     "iopub.execute_input": "2023-08-13T05:21:20.365890Z",
     "iopub.status.busy": "2023-08-13T05:21:20.365447Z",
     "iopub.status.idle": "2023-08-13T05:21:20.370482Z",
     "shell.execute_reply": "2023-08-13T05:21:20.369155Z"
    },
    "papermill": {
     "duration": 0.124315,
     "end_time": "2023-08-13T05:21:20.373147",
     "exception": false,
     "start_time": "2023-08-13T05:21:20.248832",
     "status": "completed"
    },
    "tags": []
   },
   "outputs": [],
   "source": [
    "# common_1_2_3_grams = get_common_vocab([rt_senti, rt_test], ngram_range_list=[(1,1), (2,2), (3,3)])\n",
    "# print(len(common_1_2_3_grams))\n",
    "# # sorted((common_1_2_3_grams))\n",
    "\n",
    "# # common_1_2_3_grams = common_unigrams | common_bigrams | common_trigrams    # Older code  "
   ]
  },
  {
   "cell_type": "markdown",
   "id": "009c9e4f",
   "metadata": {
    "papermill": {
     "duration": 0.119781,
     "end_time": "2023-08-13T05:21:20.612215",
     "exception": false,
     "start_time": "2023-08-13T05:21:20.492434",
     "status": "completed"
    },
    "tags": []
   },
   "source": [
    "### Find common vocabulary between text with positive and negative sentiments in training dataset  "
   ]
  },
  {
   "cell_type": "code",
   "execution_count": 97,
   "id": "6eb649a2",
   "metadata": {
    "execution": {
     "iopub.execute_input": "2023-08-13T05:21:20.839226Z",
     "iopub.status.busy": "2023-08-13T05:21:20.838137Z",
     "iopub.status.idle": "2023-08-13T05:21:20.890535Z",
     "shell.execute_reply": "2023-08-13T05:21:20.889403Z"
    },
    "papermill": {
     "duration": 0.167641,
     "end_time": "2023-08-13T05:21:20.893030",
     "exception": false,
     "start_time": "2023-08-13T05:21:20.725389",
     "status": "completed"
    },
    "tags": []
   },
   "outputs": [
    {
     "data": {
      "text/plain": [
       "(108761, 2)"
      ]
     },
     "execution_count": 97,
     "metadata": {},
     "output_type": "execute_result"
    }
   ],
   "source": [
    "# Dataframe for positive sentiment\n",
    "rt_senti_pos = rt_senti.loc[rt_senti['sentiment'] == 'POSITIVE'].copy()\n",
    "rt_senti_pos.shape"
   ]
  },
  {
   "cell_type": "code",
   "execution_count": 98,
   "id": "58d0c56a",
   "metadata": {
    "execution": {
     "iopub.execute_input": "2023-08-13T05:21:21.124217Z",
     "iopub.status.busy": "2023-08-13T05:21:21.123796Z",
     "iopub.status.idle": "2023-08-13T05:21:21.172410Z",
     "shell.execute_reply": "2023-08-13T05:21:21.170320Z"
    },
    "papermill": {
     "duration": 0.167819,
     "end_time": "2023-08-13T05:21:21.175697",
     "exception": false,
     "start_time": "2023-08-13T05:21:21.007878",
     "status": "completed"
    },
    "tags": []
   },
   "outputs": [
    {
     "data": {
      "text/plain": [
       "(53997, 2)"
      ]
     },
     "execution_count": 98,
     "metadata": {},
     "output_type": "execute_result"
    }
   ],
   "source": [
    "# Dataframe for negative sentiment\n",
    "rt_senti_neg = rt_senti.loc[rt_senti['sentiment'] == 'NEGATIVE'].copy()\n",
    "rt_senti_neg.shape"
   ]
  },
  {
   "cell_type": "code",
   "execution_count": 99,
   "id": "df088e01",
   "metadata": {
    "execution": {
     "iopub.execute_input": "2023-08-13T05:21:21.410184Z",
     "iopub.status.busy": "2023-08-13T05:21:21.409082Z",
     "iopub.status.idle": "2023-08-13T05:21:21.416350Z",
     "shell.execute_reply": "2023-08-13T05:21:21.414787Z"
    },
    "papermill": {
     "duration": 0.12806,
     "end_time": "2023-08-13T05:21:21.419321",
     "exception": false,
     "start_time": "2023-08-13T05:21:21.291261",
     "status": "completed"
    },
    "tags": []
   },
   "outputs": [],
   "source": [
    "# Generate stop words/phrases specific for this project data  \n",
    "\n",
    "# common_1_2_3_grams_sentiment = get_common_vocab([rt_senti_pos, rt_senti_neg], ngram_range_list=[(1,1), (2,2), (3,3)])\n",
    "# print(len(common_1_2_3_grams_sentiment))\n",
    "# # sorted(list(common_1_2_3_grams_sentiment))"
   ]
  },
  {
   "cell_type": "code",
   "execution_count": 100,
   "id": "2b9465a8",
   "metadata": {
    "execution": {
     "iopub.execute_input": "2023-08-13T05:21:21.665196Z",
     "iopub.status.busy": "2023-08-13T05:21:21.664771Z",
     "iopub.status.idle": "2023-08-13T05:21:21.669338Z",
     "shell.execute_reply": "2023-08-13T05:21:21.668204Z"
    },
    "papermill": {
     "duration": 0.131106,
     "end_time": "2023-08-13T05:21:21.672284",
     "exception": false,
     "start_time": "2023-08-13T05:21:21.541178",
     "status": "completed"
    },
    "tags": []
   },
   "outputs": [],
   "source": [
    "# Generate and store the entire vocabulary of training data  \n",
    "\n",
    "# train_1_2_3_grams = get_vocab(rt_senti['reviewText'], ngram_range=(1,3))\n",
    "# print(len(train_1_2_3_grams))\n",
    "# # sorted(train_1_2_3_grams)"
   ]
  },
  {
   "cell_type": "code",
   "execution_count": 101,
   "id": "d03a5211",
   "metadata": {
    "execution": {
     "iopub.execute_input": "2023-08-13T05:21:21.906606Z",
     "iopub.status.busy": "2023-08-13T05:21:21.906168Z",
     "iopub.status.idle": "2023-08-13T05:21:21.912308Z",
     "shell.execute_reply": "2023-08-13T05:21:21.911002Z"
    },
    "papermill": {
     "duration": 0.128344,
     "end_time": "2023-08-13T05:21:21.915375",
     "exception": false,
     "start_time": "2023-08-13T05:21:21.787031",
     "status": "completed"
    },
    "tags": []
   },
   "outputs": [],
   "source": [
    "# type(train_1_2_3_grams)"
   ]
  },
  {
   "cell_type": "code",
   "execution_count": 102,
   "id": "b1cef67d",
   "metadata": {
    "execution": {
     "iopub.execute_input": "2023-08-13T05:21:22.148272Z",
     "iopub.status.busy": "2023-08-13T05:21:22.147831Z",
     "iopub.status.idle": "2023-08-13T05:21:22.153250Z",
     "shell.execute_reply": "2023-08-13T05:21:22.151653Z"
    },
    "papermill": {
     "duration": 0.123929,
     "end_time": "2023-08-13T05:21:22.155858",
     "exception": false,
     "start_time": "2023-08-13T05:21:22.031929",
     "status": "completed"
    },
    "tags": []
   },
   "outputs": [],
   "source": [
    "# Get the vocabulary that should be used in the final models  \n",
    "# relevant_vocab = train_1_2_3_grams - common_1_2_3_grams_sentiment\n",
    "# print(len(relevant_vocab))"
   ]
  },
  {
   "cell_type": "markdown",
   "id": "53c72520",
   "metadata": {
    "papermill": {
     "duration": 0.117735,
     "end_time": "2023-08-13T05:21:22.391242",
     "exception": false,
     "start_time": "2023-08-13T05:21:22.273507",
     "status": "completed"
    },
    "tags": []
   },
   "source": [
    "## Vocabulary based on audienceScore  "
   ]
  },
  {
   "cell_type": "code",
   "execution_count": 103,
   "id": "402986de",
   "metadata": {
    "execution": {
     "iopub.execute_input": "2023-08-13T05:21:22.623839Z",
     "iopub.status.busy": "2023-08-13T05:21:22.623385Z",
     "iopub.status.idle": "2023-08-13T05:21:23.034280Z",
     "shell.execute_reply": "2023-08-13T05:21:23.032878Z"
    },
    "papermill": {
     "duration": 0.533799,
     "end_time": "2023-08-13T05:21:23.037290",
     "exception": false,
     "start_time": "2023-08-13T05:21:22.503491",
     "status": "completed"
    },
    "tags": []
   },
   "outputs": [
    {
     "data": {
      "text/plain": [
       "<Axes: xlabel='sentiment', ylabel='audienceScore'>"
      ]
     },
     "execution_count": 103,
     "metadata": {},
     "output_type": "execute_result"
    },
    {
     "data": {
      "image/png": "[encoded data removed]",
      "text/plain": [
       "<Figure size 640x480 with 1 Axes>"
      ]
     },
     "metadata": {},
     "output_type": "display_data"
    }
   ],
   "source": [
    "sns.boxplot(y=merged[\"audienceScore\"], x=merged[\"sentiment\"])"
   ]
  },
  {
   "cell_type": "code",
   "execution_count": 104,
   "id": "222d2e3f",
   "metadata": {
    "execution": {
     "iopub.execute_input": "2023-08-13T05:21:23.278664Z",
     "iopub.status.busy": "2023-08-13T05:21:23.278131Z",
     "iopub.status.idle": "2023-08-13T05:21:23.332803Z",
     "shell.execute_reply": "2023-08-13T05:21:23.331027Z"
    },
    "papermill": {
     "duration": 0.181701,
     "end_time": "2023-08-13T05:21:23.336186",
     "exception": false,
     "start_time": "2023-08-13T05:21:23.154485",
     "status": "completed"
    },
    "tags": []
   },
   "outputs": [
    {
     "data": {
      "text/html": [
       "<div>\n",
       "<style scoped>\n",
       "    .dataframe tbody tr th:only-of-type {\n",
       "        vertical-align: middle;\n",
       "    }\n",
       "\n",
       "    .dataframe tbody tr th {\n",
       "        vertical-align: top;\n",
       "    }\n",
       "\n",
       "    .dataframe thead th {\n",
       "        text-align: right;\n",
       "    }\n",
       "</style>\n",
       "<table border=\"1\" class=\"dataframe\">\n",
       "  <thead>\n",
       "    <tr style=\"text-align: right;\">\n",
       "      <th></th>\n",
       "      <th>count</th>\n",
       "      <th>mean</th>\n",
       "      <th>std</th>\n",
       "      <th>min</th>\n",
       "      <th>25%</th>\n",
       "      <th>50%</th>\n",
       "      <th>75%</th>\n",
       "      <th>max</th>\n",
       "    </tr>\n",
       "    <tr>\n",
       "      <th>sentiment</th>\n",
       "      <th></th>\n",
       "      <th></th>\n",
       "      <th></th>\n",
       "      <th></th>\n",
       "      <th></th>\n",
       "      <th></th>\n",
       "      <th></th>\n",
       "      <th></th>\n",
       "    </tr>\n",
       "  </thead>\n",
       "  <tbody>\n",
       "    <tr>\n",
       "      <th>NEGATIVE</th>\n",
       "      <td>53997.0</td>\n",
       "      <td>56.474786</td>\n",
       "      <td>19.902115</td>\n",
       "      <td>0.0</td>\n",
       "      <td>41.0</td>\n",
       "      <td>57.0</td>\n",
       "      <td>72.0</td>\n",
       "      <td>100.0</td>\n",
       "    </tr>\n",
       "    <tr>\n",
       "      <th>POSITIVE</th>\n",
       "      <td>108761.0</td>\n",
       "      <td>69.326174</td>\n",
       "      <td>18.380626</td>\n",
       "      <td>0.0</td>\n",
       "      <td>58.0</td>\n",
       "      <td>73.0</td>\n",
       "      <td>84.0</td>\n",
       "      <td>100.0</td>\n",
       "    </tr>\n",
       "  </tbody>\n",
       "</table>\n",
       "</div>"
      ],
      "text/plain": [
       "              count       mean        std  min   25%   50%   75%    max\n",
       "sentiment                                                              \n",
       "NEGATIVE    53997.0  56.474786  19.902115  0.0  41.0  57.0  72.0  100.0\n",
       "POSITIVE   108761.0  69.326174  18.380626  0.0  58.0  73.0  84.0  100.0"
      ]
     },
     "execution_count": 104,
     "metadata": {},
     "output_type": "execute_result"
    }
   ],
   "source": [
    "merged.groupby('sentiment')['audienceScore'].describe()"
   ]
  },
  {
   "cell_type": "code",
   "execution_count": 105,
   "id": "871bd517",
   "metadata": {
    "execution": {
     "iopub.execute_input": "2023-08-13T05:21:23.578187Z",
     "iopub.status.busy": "2023-08-13T05:21:23.577734Z",
     "iopub.status.idle": "2023-08-13T05:21:23.583219Z",
     "shell.execute_reply": "2023-08-13T05:21:23.581677Z"
    },
    "papermill": {
     "duration": 0.130305,
     "end_time": "2023-08-13T05:21:23.585650",
     "exception": false,
     "start_time": "2023-08-13T05:21:23.455345",
     "status": "completed"
    },
    "tags": []
   },
   "outputs": [],
   "source": [
    "# pos_scores = merged[['reviewText', 'sentiment']].loc[(merged['audienceScore'] > 73) & (merged['sentiment'] == 'POSITIVE')].copy()\n",
    "# pos_scores.shape, pos_scores.head()"
   ]
  },
  {
   "cell_type": "code",
   "execution_count": 106,
   "id": "0b3680a2",
   "metadata": {
    "execution": {
     "iopub.execute_input": "2023-08-13T05:21:23.821105Z",
     "iopub.status.busy": "2023-08-13T05:21:23.820595Z",
     "iopub.status.idle": "2023-08-13T05:21:23.826227Z",
     "shell.execute_reply": "2023-08-13T05:21:23.824944Z"
    },
    "papermill": {
     "duration": 0.12503,
     "end_time": "2023-08-13T05:21:23.828608",
     "exception": false,
     "start_time": "2023-08-13T05:21:23.703578",
     "status": "completed"
    },
    "tags": []
   },
   "outputs": [],
   "source": [
    "# pos_scores['sentiment'].value_counts()"
   ]
  },
  {
   "cell_type": "code",
   "execution_count": 107,
   "id": "30ac6d89",
   "metadata": {
    "execution": {
     "iopub.execute_input": "2023-08-13T05:21:24.070013Z",
     "iopub.status.busy": "2023-08-13T05:21:24.068810Z",
     "iopub.status.idle": "2023-08-13T05:21:24.073592Z",
     "shell.execute_reply": "2023-08-13T05:21:24.072661Z"
    },
    "papermill": {
     "duration": 0.129196,
     "end_time": "2023-08-13T05:21:24.076692",
     "exception": false,
     "start_time": "2023-08-13T05:21:23.947496",
     "status": "completed"
    },
    "tags": []
   },
   "outputs": [],
   "source": [
    "# neg_scores = merged[['reviewText', 'sentiment']].loc[(merged['audienceScore'] < 57) & (merged['sentiment'] == 'NEGATIVE')].copy()\n",
    "# neg_scores.shape, neg_scores.head()"
   ]
  },
  {
   "cell_type": "code",
   "execution_count": 108,
   "id": "da0722d5",
   "metadata": {
    "execution": {
     "iopub.execute_input": "2023-08-13T05:21:24.316550Z",
     "iopub.status.busy": "2023-08-13T05:21:24.316107Z",
     "iopub.status.idle": "2023-08-13T05:21:24.321571Z",
     "shell.execute_reply": "2023-08-13T05:21:24.319944Z"
    },
    "papermill": {
     "duration": 0.126393,
     "end_time": "2023-08-13T05:21:24.324944",
     "exception": false,
     "start_time": "2023-08-13T05:21:24.198551",
     "status": "completed"
    },
    "tags": []
   },
   "outputs": [],
   "source": [
    "# neg_scores['sentiment'].value_counts()"
   ]
  },
  {
   "cell_type": "code",
   "execution_count": 109,
   "id": "d1f3c8d1",
   "metadata": {
    "execution": {
     "iopub.execute_input": "2023-08-13T05:21:24.571531Z",
     "iopub.status.busy": "2023-08-13T05:21:24.571101Z",
     "iopub.status.idle": "2023-08-13T05:21:24.576784Z",
     "shell.execute_reply": "2023-08-13T05:21:24.575440Z"
    },
    "papermill": {
     "duration": 0.135195,
     "end_time": "2023-08-13T05:21:24.579964",
     "exception": false,
     "start_time": "2023-08-13T05:21:24.444769",
     "status": "completed"
    },
    "tags": []
   },
   "outputs": [],
   "source": [
    "# common_pos_neg_scores = get_common_vocab([pos_scores, neg_scores], ngram_range_list=[(1,1), (2,2), (3,3)])\n",
    "# print(len(common_pos_neg_scores))\n",
    "# # sorted(list(common_pos_neg_scores))"
   ]
  },
  {
   "cell_type": "code",
   "execution_count": 110,
   "id": "f9631bde",
   "metadata": {
    "execution": {
     "iopub.execute_input": "2023-08-13T05:21:24.822195Z",
     "iopub.status.busy": "2023-08-13T05:21:24.821629Z",
     "iopub.status.idle": "2023-08-13T05:21:24.827226Z",
     "shell.execute_reply": "2023-08-13T05:21:24.825451Z"
    },
    "papermill": {
     "duration": 0.134302,
     "end_time": "2023-08-13T05:21:24.831525",
     "exception": false,
     "start_time": "2023-08-13T05:21:24.697223",
     "status": "completed"
    },
    "tags": []
   },
   "outputs": [],
   "source": [
    "# pos_vocab = get_common_vocab([pos_scores, pos_scores], ngram_range_list=[(1,1), (2,2), (3,3)])\n",
    "# print(len(pos_vocab))\n",
    "# # sorted(list(pos_vocab))"
   ]
  },
  {
   "cell_type": "code",
   "execution_count": 111,
   "id": "b8ded298",
   "metadata": {
    "execution": {
     "iopub.execute_input": "2023-08-13T05:21:25.077117Z",
     "iopub.status.busy": "2023-08-13T05:21:25.076683Z",
     "iopub.status.idle": "2023-08-13T05:21:25.081148Z",
     "shell.execute_reply": "2023-08-13T05:21:25.080041Z"
    },
    "papermill": {
     "duration": 0.136966,
     "end_time": "2023-08-13T05:21:25.084538",
     "exception": false,
     "start_time": "2023-08-13T05:21:24.947572",
     "status": "completed"
    },
    "tags": []
   },
   "outputs": [],
   "source": [
    "# print(len(get_vocab(pos_scores['reviewText'], ngram_range=(1,1))))\n",
    "# print(len(get_vocab(pos_scores['reviewText'], ngram_range=(2,2))))\n",
    "# print(len(get_vocab(pos_scores['reviewText'], ngram_range=(3,3))))"
   ]
  },
  {
   "cell_type": "code",
   "execution_count": 112,
   "id": "56d7f901",
   "metadata": {
    "execution": {
     "iopub.execute_input": "2023-08-13T05:21:25.329175Z",
     "iopub.status.busy": "2023-08-13T05:21:25.328700Z",
     "iopub.status.idle": "2023-08-13T05:21:25.333246Z",
     "shell.execute_reply": "2023-08-13T05:21:25.332173Z"
    },
    "papermill": {
     "duration": 0.129149,
     "end_time": "2023-08-13T05:21:25.335559",
     "exception": false,
     "start_time": "2023-08-13T05:21:25.206410",
     "status": "completed"
    },
    "tags": []
   },
   "outputs": [],
   "source": [
    "# neg_vocab = get_common_vocab([neg_scores, neg_scores], ngram_range_list=[(1,1), (2,2), (3,3)])\n",
    "# print(len(neg_vocab))\n",
    "# # sorted(list(neg_vocab))"
   ]
  },
  {
   "cell_type": "code",
   "execution_count": 113,
   "id": "bdfeca61",
   "metadata": {
    "execution": {
     "iopub.execute_input": "2023-08-13T05:21:25.576584Z",
     "iopub.status.busy": "2023-08-13T05:21:25.576020Z",
     "iopub.status.idle": "2023-08-13T05:21:25.581851Z",
     "shell.execute_reply": "2023-08-13T05:21:25.580348Z"
    },
    "papermill": {
     "duration": 0.131309,
     "end_time": "2023-08-13T05:21:25.585028",
     "exception": false,
     "start_time": "2023-08-13T05:21:25.453719",
     "status": "completed"
    },
    "tags": []
   },
   "outputs": [],
   "source": [
    "# print(len(get_vocab(neg_scores['reviewText'], ngram_range=(1,1))))\n",
    "# print(len(get_vocab(neg_scores['reviewText'], ngram_range=(2,2))))\n",
    "# print(len(get_vocab(neg_scores['reviewText'], ngram_range=(3,3))))"
   ]
  },
  {
   "cell_type": "code",
   "execution_count": 114,
   "id": "395cc6d4",
   "metadata": {
    "execution": {
     "iopub.execute_input": "2023-08-13T05:21:25.821312Z",
     "iopub.status.busy": "2023-08-13T05:21:25.820834Z",
     "iopub.status.idle": "2023-08-13T05:21:25.825846Z",
     "shell.execute_reply": "2023-08-13T05:21:25.824675Z"
    },
    "papermill": {
     "duration": 0.125235,
     "end_time": "2023-08-13T05:21:25.829015",
     "exception": false,
     "start_time": "2023-08-13T05:21:25.703780",
     "status": "completed"
    },
    "tags": []
   },
   "outputs": [],
   "source": [
    "# len(pos_vocab), len(neg_vocab), len(pos_vocab - neg_vocab), len(neg_vocab - pos_vocab), len(pos_vocab & neg_vocab)"
   ]
  },
  {
   "cell_type": "markdown",
   "id": "faa551d2",
   "metadata": {
    "papermill": {
     "duration": 0.119795,
     "end_time": "2023-08-13T05:21:26.068771",
     "exception": false,
     "start_time": "2023-08-13T05:21:25.948976",
     "status": "completed"
    },
    "tags": []
   },
   "source": [
    "### Common pos, neg vocabs among train and test  "
   ]
  },
  {
   "cell_type": "code",
   "execution_count": 115,
   "id": "b307de7f",
   "metadata": {
    "execution": {
     "iopub.execute_input": "2023-08-13T05:21:26.378584Z",
     "iopub.status.busy": "2023-08-13T05:21:26.378164Z",
     "iopub.status.idle": "2023-08-13T05:21:26.382668Z",
     "shell.execute_reply": "2023-08-13T05:21:26.381744Z"
    },
    "papermill": {
     "duration": 0.124862,
     "end_time": "2023-08-13T05:21:26.385621",
     "exception": false,
     "start_time": "2023-08-13T05:21:26.260759",
     "status": "completed"
    },
    "tags": []
   },
   "outputs": [],
   "source": [
    "# len(common_1_2_3_grams & (pos_vocab - neg_vocab))"
   ]
  },
  {
   "cell_type": "code",
   "execution_count": 116,
   "id": "8e9c6d25",
   "metadata": {
    "execution": {
     "iopub.execute_input": "2023-08-13T05:21:26.624325Z",
     "iopub.status.busy": "2023-08-13T05:21:26.623162Z",
     "iopub.status.idle": "2023-08-13T05:21:26.629198Z",
     "shell.execute_reply": "2023-08-13T05:21:26.627754Z"
    },
    "papermill": {
     "duration": 0.12962,
     "end_time": "2023-08-13T05:21:26.631795",
     "exception": false,
     "start_time": "2023-08-13T05:21:26.502175",
     "status": "completed"
    },
    "tags": []
   },
   "outputs": [],
   "source": [
    "# len(common_1_2_3_grams & (neg_vocab - pos_vocab))"
   ]
  },
  {
   "cell_type": "code",
   "execution_count": 117,
   "id": "6514620a",
   "metadata": {
    "execution": {
     "iopub.execute_input": "2023-08-13T05:21:26.873098Z",
     "iopub.status.busy": "2023-08-13T05:21:26.872644Z",
     "iopub.status.idle": "2023-08-13T05:21:26.883951Z",
     "shell.execute_reply": "2023-08-13T05:21:26.882623Z"
    },
    "papermill": {
     "duration": 0.137728,
     "end_time": "2023-08-13T05:21:26.887875",
     "exception": false,
     "start_time": "2023-08-13T05:21:26.750147",
     "status": "completed"
    },
    "tags": []
   },
   "outputs": [],
   "source": [
    "def audienceScore_vocab(df_list, scores=(57, 73), ngram_range_list=[(1,1), (2,2), (3,3)]):\n",
    "    train = df_list[0]\n",
    "    test = df_list[1]\n",
    "\n",
    "    lower_bound = scores[0]\n",
    "    upper_bound = scores[1]\n",
    "\n",
    "    common_1_2_3_grams = get_common_vocab([train, test], ngram_range_list=[(1,1), (2,2), (3,3)])\n",
    "\n",
    "    pos_scores = train[['reviewText', 'sentiment']].loc[(train['audienceScore'] > upper_bound) & (train['sentiment'] == 'POSITIVE')].copy()\n",
    "    neg_scores = train[['reviewText', 'sentiment']].loc[(train['audienceScore'] < lower_bound) & (train['sentiment'] == 'NEGATIVE')].copy()\n",
    "\n",
    "    pos_vocab = get_common_vocab([pos_scores, pos_scores], ngram_range_list=[(1,1), (2,2), (3,3)])\n",
    "    neg_vocab = get_common_vocab([neg_scores, neg_scores], ngram_range_list=[(1,1), (2,2), (3,3)])\n",
    "\n",
    "    pure_common_pos = common_1_2_3_grams & (pos_vocab - neg_vocab)\n",
    "    pure_common_neg = common_1_2_3_grams & (neg_vocab - pos_vocab)\n",
    "\n",
    "    return pure_common_pos, pure_common_neg"
   ]
  },
  {
   "cell_type": "code",
   "execution_count": 118,
   "id": "65a5b18a",
   "metadata": {
    "execution": {
     "iopub.execute_input": "2023-08-13T05:21:27.151266Z",
     "iopub.status.busy": "2023-08-13T05:21:27.150820Z",
     "iopub.status.idle": "2023-08-13T05:21:27.156456Z",
     "shell.execute_reply": "2023-08-13T05:21:27.155396Z"
    },
    "papermill": {
     "duration": 0.136195,
     "end_time": "2023-08-13T05:21:27.158923",
     "exception": false,
     "start_time": "2023-08-13T05:21:27.022728",
     "status": "completed"
    },
    "tags": []
   },
   "outputs": [],
   "source": [
    "# pcp, pcn = audienceScore_vocab([merged, merged_test])\n",
    "# len(pcp), len(pcn)"
   ]
  },
  {
   "cell_type": "code",
   "execution_count": 119,
   "id": "1706c88b",
   "metadata": {
    "execution": {
     "iopub.execute_input": "2023-08-13T05:21:27.406417Z",
     "iopub.status.busy": "2023-08-13T05:21:27.405064Z",
     "iopub.status.idle": "2023-08-13T05:21:27.412747Z",
     "shell.execute_reply": "2023-08-13T05:21:27.410204Z"
    },
    "papermill": {
     "duration": 0.138214,
     "end_time": "2023-08-13T05:21:27.416972",
     "exception": false,
     "start_time": "2023-08-13T05:21:27.278758",
     "status": "completed"
    },
    "tags": []
   },
   "outputs": [],
   "source": [
    "# pc = pcp | pcn\n",
    "# sorted(list(pc))"
   ]
  },
  {
   "cell_type": "markdown",
   "id": "70c862c1",
   "metadata": {
    "papermill": {
     "duration": 0.125122,
     "end_time": "2023-08-13T05:21:27.672093",
     "exception": false,
     "start_time": "2023-08-13T05:21:27.546971",
     "status": "completed"
    },
    "tags": []
   },
   "source": [
    "# Submit_v5 for merged file models  "
   ]
  },
  {
   "cell_type": "markdown",
   "id": "9cbbdc5c",
   "metadata": {
    "papermill": {
     "duration": 0.117017,
     "end_time": "2023-08-13T05:21:27.910286",
     "exception": false,
     "start_time": "2023-08-13T05:21:27.793269",
     "status": "completed"
    },
    "tags": []
   },
   "source": [
    "### More Helper functions  "
   ]
  },
  {
   "cell_type": "code",
   "execution_count": 120,
   "id": "e89bbc64",
   "metadata": {
    "execution": {
     "iopub.execute_input": "2023-08-13T05:21:28.149618Z",
     "iopub.status.busy": "2023-08-13T05:21:28.149182Z",
     "iopub.status.idle": "2023-08-13T05:21:28.157202Z",
     "shell.execute_reply": "2023-08-13T05:21:28.155795Z"
    },
    "papermill": {
     "duration": 0.13014,
     "end_time": "2023-08-13T05:21:28.160078",
     "exception": false,
     "start_time": "2023-08-13T05:21:28.029938",
     "status": "completed"
    },
    "tags": []
   },
   "outputs": [],
   "source": [
    "# Testing predictions on missing reviewtext columns  \n",
    "\n",
    "def predict_on_missing_review_data(pipe, selected_features, merged_train):\n",
    "    missing_reviews_train = merged_train.loc[merged_train['reviewYN'] == 1]\n",
    "    missing_reviews_train.reset_index(drop=True)\n",
    "    X_train_miss_revs = missing_reviews_train.drop('sentiment', axis = 1)\n",
    "    X_train_miss_revs = X_train_miss_revs[selected_features]\n",
    "    y_train_miss_revs = missing_reviews_train['sentiment']\n",
    "    \n",
    "    y_pred_miss_revs = pipe.predict(X_train_miss_revs)\n",
    "#     print('Predictions on rows which had missing reviewText')\n",
    "    print(\"Confusion matrix and f1-score for rows which have no reviewText in X_train: \")\n",
    "    print(confusion_matrix(y_train_miss_revs, y_pred_miss_revs, labels=pipe.classes_))\n",
    "    \n",
    "    return f1_score(y_train_miss_revs, y_pred_miss_revs, average='micro')"
   ]
  },
  {
   "cell_type": "code",
   "execution_count": 121,
   "id": "0a0721cb",
   "metadata": {
    "execution": {
     "iopub.execute_input": "2023-08-13T05:21:28.400207Z",
     "iopub.status.busy": "2023-08-13T05:21:28.399704Z",
     "iopub.status.idle": "2023-08-13T05:21:28.639840Z",
     "shell.execute_reply": "2023-08-13T05:21:28.638882Z"
    },
    "papermill": {
     "duration": 0.36841,
     "end_time": "2023-08-13T05:21:28.642827",
     "exception": false,
     "start_time": "2023-08-13T05:21:28.274417",
     "status": "completed"
    },
    "tags": []
   },
   "outputs": [],
   "source": [
    "# Function to build pipelines for GridSearchCV which goes into the final 'submit' function  \n",
    "def build_pipeline(selected_model=LogisticRegression(), \n",
    "                   selected_features={'txt': ['reviewText']}, \n",
    "                   param_grid=None,\n",
    "                   vocab=None,\n",
    "                   vocab_usage='tfidf',\n",
    "                   strip_accents='unicode', \n",
    "                   add_countvec=False,\n",
    "                   vocab_audscore=None,\n",
    "                  poly=True):\n",
    "    # Encoders  \n",
    "    ohe = OneHotEncoder(sparse_output=False, handle_unknown='ignore')\n",
    "    MMscaler = MinMaxScaler()\n",
    "    StdScaler = StandardScaler()\n",
    "    RobScaler = RobustScaler()\n",
    "    \n",
    "    # Categorical features\n",
    "    cat_pipe = Pipeline(steps=[\n",
    "                            (\"ohe\", ohe),\n",
    "                        ])\n",
    "    \n",
    "    # Numerical features\n",
    "    num_pipe = Pipeline(steps=[\n",
    "                            (\"robscaler\", RobustScaler()),\n",
    "                            (\"stdscaler\", StandardScaler())\n",
    "                        ])\n",
    "    num_pipe_poly = Pipeline(steps=[\n",
    "                            (\"robscaler\", RobustScaler()),\n",
    "                            (\"stdscaler\", StandardScaler()),\n",
    "                            (\"poly\", PolynomialFeatures(degree=2))\n",
    "                        ])\n",
    "    \n",
    "    # Text features ['reviewText', 'reviewerName', 'movieid', 'genre', 'director']\n",
    "    tfidf_vec = TfidfVectorizer(ngram_range=(1,2))\n",
    "    count_vec = CountVectorizer(ngram_range=(1,2))\n",
    "    txt_pipe = Pipeline(steps=[\n",
    "                            (\"tvec\", TfidfVectorizer(ngram_range=(1,3), strip_accents=strip_accents))    # Adjust ngram_range here for reviewText\n",
    "                        ])\n",
    "    txt_pipe_vocab = Pipeline(steps=[\n",
    "                            (\"tvec\", TfidfVectorizer(ngram_range=(1,3), strip_accents=strip_accents, vocabulary=vocab))    # Adjust ngram_range here for reviewText\n",
    "                        ])\n",
    "    txt_pipe_2 = Pipeline(steps=[\n",
    "                            (\"tvec\", TfidfVectorizer(ngram_range=(2,2)))\n",
    "                        ])\n",
    "    txt_pipe_3 = Pipeline(steps=[\n",
    "                            (\"tvec\", TfidfVectorizer(ngram_range=(1,1)))\n",
    "                        ])\n",
    "    txt_pipe_4 = Pipeline(steps=[\n",
    "                            (\"tvec\", TfidfVectorizer(ngram_range=(1,3)))    # Adjust ngram_range here for reviewText\n",
    "                        ])\n",
    "    txt_pipe_title  = Pipeline(steps=[\n",
    "                            (\"tvec\", TfidfVectorizer(ngram_range=(1,5)))    # Adjust ngram_range here for reviewText\n",
    "                        ])\n",
    "    \n",
    "    # Additional pipes for count vectorizer\n",
    "    txt_pipe_countvec = Pipeline(steps=[\n",
    "                            (\"cvec\", CountVectorizer(ngram_range=(1,3), strip_accents=strip_accents))    # Adjust ngram_range here for reviewText\n",
    "                        ])\n",
    "    txt_pipe_countvec_vocab = Pipeline(steps=[\n",
    "                            (\"cvec\", CountVectorizer(ngram_range=(1,3), strip_accents=strip_accents, vocabulary=vocab))    # Adjust ngram_range here for reviewText\n",
    "                        ])\n",
    "    txt_pipe_countvec_vocab_audscore = Pipeline(steps=[\n",
    "                            (\"cvec\", CountVectorizer(ngram_range=(1,3), strip_accents=strip_accents, vocabulary=vocab_audscore))    # Adjust ngram_range here for reviewText\n",
    "                        ])\n",
    "    \n",
    "    txt_pipe_countvec_ratingContents = Pipeline(steps=[\n",
    "                            (\"cvec\", CountVectorizer(ngram_range=(1,5)))    # Adjust ngram_range here for reviewText\n",
    "                        ])\n",
    "    txt_pipe_countvec_rcSorted = Pipeline(steps=[\n",
    "                            (\"cvec\", CountVectorizer(ngram_range=(1,1)))    # Adjust ngram_range here for reviewText\n",
    "                        ])\n",
    "    txt_pipe_countvec_genre = Pipeline(steps=[\n",
    "                            (\"cvec\", CountVectorizer(ngram_range=(1,1)))\n",
    "                        ])\n",
    "    txt_pipe_countvec_genreSorted = Pipeline(steps=[\n",
    "                            (\"cvec\", CountVectorizer(ngram_range=(1,5)))\n",
    "                        ])\n",
    "    txt_pipe_countvec_distributor = Pipeline(steps=[\n",
    "                            (\"cvec\", CountVectorizer(ngram_range=(1,3)))    # Adjust ngram_range here for reviewText\n",
    "                        ])\n",
    "    txt_pipe_countvec_title = Pipeline(steps=[\n",
    "                            (\"cvec\", CountVectorizer(ngram_range=(1,5), strip_accents=strip_accents))\n",
    "                        ])\n",
    "    txt_pipe_countvec_movieid = Pipeline(steps=[\n",
    "                            (\"cvec\", CountVectorizer(ngram_range=(1,1)))\n",
    "                        ])\n",
    "    # Basic pipes  \n",
    "    TFs = []\n",
    "    try:\n",
    "        TFs.append((f\"cat\", ohe, selected_features['cat']))\n",
    "#         for c in selected_features['cat']:\n",
    "#             TFs.append((f\"cat_{c}\", ohe, [c]))\n",
    "    except:\n",
    "        pass\n",
    "    \n",
    "    try:\n",
    "        if poly:\n",
    "            TFs.append((f\"num\", num_pipe_poly, selected_features['num']))\n",
    "        else:\n",
    "            TFs.append((f\"num\", num_pipe, selected_features['num']))\n",
    "#             for n in selected_features['num']:\n",
    "#                 if n in [\"runtimeMinutes\", \"boxOffice\", \"releaseDiff\"]:\n",
    "#                     TFs.append((f\"num_{n}\", RobScaler, [n]))\n",
    "#                     TFs.append((f\"num_{n}_ss\", StdScaler, [n]))\n",
    "\n",
    "#                 else:\n",
    "#                     TFs.append((f\"num_{n}\", StdScaler, [n]))\n",
    "    except:\n",
    "        pass\n",
    "    \n",
    "    try:\n",
    "        for t in selected_features['txt']:\n",
    "            if t in ['director', 'reviewerName']:\n",
    "                TFs.append((f\"txt_{t}\", txt_pipe_2, t))\n",
    "            elif t in [\"originalLanguage\", \"releaseYear\"]:\n",
    "                TFs.append((f\"txt_{t}\", txt_pipe_3, t))\n",
    "            elif t in ['genre']:\n",
    "                TFs.append((f\"txt_{t}\", txt_pipe_countvec_genre, t))\n",
    "            elif t in [\"genreSorted\"]:\n",
    "                TFs.append((f\"txt_{t}\", txt_pipe_countvec_genreSorted, t))\n",
    "            elif t in [\"distributor\"]:\n",
    "                TFs.append((f\"txt_{t}\", txt_pipe_countvec_distributor, t))\n",
    "                \n",
    "            elif t in ['reviewText']:\n",
    "#                 if vocab and (vocab_usage in [\"tfidf\", \"both\"]):\n",
    "#                     txt_pipe.set_params(tvec__vocabulary=vocab)\n",
    "#                     txt_pipe.set_params(tvec__stop_words='english')\n",
    "                TFs.append((f\"txt_{t}\", txt_pipe, t))\n",
    "            elif t in ['reviewText_2']:\n",
    "                if add_countvec:\n",
    "#                     if vocab and (vocab_usage in [\"count\", \"both\"]):\n",
    "#                         txt_pipe_countvec.set_params(cvec__vocabulary=vocab)\n",
    "#                         txt_pipe_countvec.set_params(cvec__stop_words='english')\n",
    "                    TFs.append((f\"txt_{t}\", txt_pipe_countvec, t))\n",
    "            elif t in ['reviewText_3']:\n",
    "                if vocab_usage == 'tfidf':\n",
    "                    TFs.append((f\"txt_{t}\", txt_pipe_vocab, t))\n",
    "                elif vocab_usage == 'count':\n",
    "                    TFs.append((f\"txt_{t}\", txt_pipe_countvec_vocab, t))\n",
    "            elif t in ['reviewText_4']:\n",
    "                if vocab_audscore:                    \n",
    "                    TFs.append((f\"txt_{t}\", txt_pipe_countvec_vocab_audscore, t))\n",
    "                    \n",
    "            elif t in [\"ratingContents\"]:\n",
    "                TFs.append((f\"txt_{t}\", txt_pipe_countvec_ratingContents, t))\n",
    "            elif t in [\"rcSorted\"]:\n",
    "                TFs.append((f\"txt_{t}\", txt_pipe_countvec_rcSorted, t))\n",
    "            elif t in [\"title\"]:\n",
    "                TFs.append((f\"txt_{t}\", txt_pipe_title, t))\n",
    "            elif t in [\"movieid\"]:\n",
    "                TFs.append((f\"txt_{t}\", txt_pipe_countvec_movieid, t))\n",
    "            else:\n",
    "                pass\n",
    "    except:\n",
    "        pass\n",
    "\n",
    "    # Build ColumnTransformer  \n",
    "    ct = ColumnTransformer(transformers=TFs, remainder='drop')\n",
    "\n",
    "    # Build Pipeline\n",
    "    pipe = Pipeline(steps=[('ct', ct), ('model', selected_model)])\n",
    "    print(\"\\nPipeline built successfully.\")\n",
    "\n",
    "    # Use the pipe in GridSearchCV\n",
    "    if param_grid == None:\n",
    "        param_grid_temp = {\"model__C\": [1],\n",
    "                     'model__solver': ['liblinear']}\n",
    "        print(\"Full GridSearchCV pipeline built successfully with basic default param_grid.\\n\")\n",
    "        pipeCV = GridSearchCV(pipe, param_grid_temp, cv=10, scoring=\"f1_micro\", n_jobs=-1)\n",
    "        return pipeCV\n",
    "    \n",
    "    # GridSearchCV if param_grid provided\n",
    "    if param_grid:\n",
    "        pipeCV = GridSearchCV(pipe, param_grid, cv=10, scoring=\"f1_micro\", n_jobs=-1)\n",
    "        print(\"\\nFull GridSearchCV pipeline built successfully.\")\n",
    "        return pipeCV"
   ]
  },
  {
   "cell_type": "code",
   "execution_count": 122,
   "id": "14ca2d9e",
   "metadata": {
    "execution": {
     "iopub.execute_input": "2023-08-13T05:21:28.882308Z",
     "iopub.status.busy": "2023-08-13T05:21:28.881881Z",
     "iopub.status.idle": "2023-08-13T05:21:28.901564Z",
     "shell.execute_reply": "2023-08-13T05:21:28.899988Z"
    },
    "papermill": {
     "duration": 0.143919,
     "end_time": "2023-08-13T05:21:28.904199",
     "exception": false,
     "start_time": "2023-08-13T05:21:28.760280",
     "status": "completed"
    },
    "tags": []
   },
   "outputs": [],
   "source": [
    "def preprocessor(imputer_type='simple'):\n",
    "    \n",
    "    \"\"\"Preprocess train or test data. Choose 'simple' or 'knn' imputers to impute missing numerical values\"\"\"\n",
    "    \n",
    "    # Set imputer  \n",
    "    if imputer_type == 'simple':\n",
    "        imputer = SimpleImputer(strategy='median')\n",
    "        print(imputer)\n",
    "    elif imputer_type == 'knn':\n",
    "        imputer = KNNImputer(weights='distance', n_neighbors=3)    # Adjust KNNImputer params here\n",
    "        print(imputer)\n",
    "\n",
    "\n",
    "    \n",
    "    # Merge and preprocess train and movies data  \n",
    "    merged = select_features(load_csv(\"train\"), load_csv(\"movies\"), row_thresh_null=None)    # Decide if you want to drop any rows containing lot of nulls\n",
    "    \n",
    "    # Impute missing numerical values  \n",
    "    merged[['audienceScore', 'runtimeMinutes', 'boxOffice']] = imputer.fit_transform(merged[['audienceScore', 'runtimeMinutes', 'boxOffice']])\n",
    "    merged['releaseDate'] = merged[\"releaseDate\"].fillna(merged[\"releaseDate\"].median())\n",
    "\n",
    "    # Create new feature columns\n",
    "    \n",
    "    # Convert audienceScore to categories  \n",
    "    num_bins_as = 20\n",
    "    merged[\"audScoreBins\"] = pd.cut(merged['audienceScore'], bins=num_bins_as, labels=False)\n",
    "\n",
    "    # Convert runtimeMinutes to categories  \n",
    "#     num_bins_rt = 20\n",
    "    merged[\"runtimeBins\"] = pd.cut(merged['runtimeMinutes'], bins=[0,75,120,180,565], labels=[4,3,2,1])\n",
    "    \n",
    "    # Convert boxOffice to categories  \n",
    "    num_bins_bo = 5\n",
    "    merged[\"boxOfficeBins\"] = pd.cut(merged['boxOffice'], bins=num_bins_bo, labels=False)\n",
    "    \n",
    "    # Convert releaseDiff to categories  \n",
    "    num_bins_rd = 5\n",
    "    merged[\"releaseDiffBins\"] = pd.cut(merged['releaseDiff'], bins=[-1, 180, 360, 1000, 40000], labels=[0, 1, 2, 3])\n",
    "    \n",
    "    # Check1 (preprocessor)\n",
    "    print(\"\\nCheck 1 (preprocessor) complete.\")\n",
    "    print(f\"Shape of X_train: {merged.shape}\")\n",
    "    print(f\"Features in X_train: {merged.columns}\")\n",
    "\n",
    "\n",
    "    \n",
    "    # Merge and preprocess test and movies data  \n",
    "    merged_test = select_features(load_csv(\"test\"), load_csv(\"movies\"))\n",
    "    \n",
    "    # Transform ['audienceScore', 'runtimeMinutes', 'boxOffice'] columns in merged_test using 'imputer' fitted on 'merged' df  \n",
    "    merged_test[['audienceScore', 'runtimeMinutes', 'boxOffice']] = imputer.transform(merged_test[['audienceScore', 'runtimeMinutes', 'boxOffice']])\n",
    "    \n",
    "    # Fill 'releaseDate' column in 'merged_test' df with median from the train (merged) df  \n",
    "    merged_test['releaseDate'] = merged_test[\"releaseDate\"].fillna(merged[\"releaseDate\"].median())\n",
    "\n",
    "    \n",
    "    # Create new feature columns\n",
    "    \n",
    "    # Convert audienceScore to categories  \n",
    "    num_bins_as = 20\n",
    "    merged_test[\"audScoreBins\"] = pd.cut(merged_test['audienceScore'], bins=num_bins_as, labels=False)\n",
    "    \n",
    "    # Convert runtimeMinutes to categories  \n",
    "#     num_bins_rt = 20\n",
    "    merged_test[\"runtimeBins\"] = pd.cut(merged_test['runtimeMinutes'], bins=[0,75,120,180,565], labels=[4,3,2,1])\n",
    "    \n",
    "    # Convert boxOffice to categories  \n",
    "    num_bins_bo = 5\n",
    "    merged_test[\"boxOfficeBins\"] = pd.cut(merged_test['boxOffice'], bins=num_bins_bo, labels=False)\n",
    "    \n",
    "    # Convert releaseDiff to categories  \n",
    "    num_bins_rd = 5\n",
    "    merged_test[\"releaseDiffBins\"] = pd.cut(merged_test['releaseDiff'], bins=[-1, 180, 360, 1000, 40000], labels=[0, 1, 2, 3])\n",
    "    \n",
    "    \n",
    "    # Check2 (preprocessor)\n",
    "    print(\"\\nCheck 2 (preprocessor) complete.\")\n",
    "    print(f\"Shape of X_test: {merged_test.shape}\")\n",
    "    print(f\"Features in X_test: {merged_test.columns}\")\n",
    "\n",
    "    return merged, merged_test\n",
    "    "
   ]
  },
  {
   "cell_type": "code",
   "execution_count": 123,
   "id": "d6f9a4d0",
   "metadata": {
    "execution": {
     "iopub.execute_input": "2023-08-13T05:21:29.151237Z",
     "iopub.status.busy": "2023-08-13T05:21:29.150378Z",
     "iopub.status.idle": "2023-08-13T05:21:29.156022Z",
     "shell.execute_reply": "2023-08-13T05:21:29.154115Z"
    },
    "papermill": {
     "duration": 0.128039,
     "end_time": "2023-08-13T05:21:29.159698",
     "exception": false,
     "start_time": "2023-08-13T05:21:29.031659",
     "status": "completed"
    },
    "tags": []
   },
   "outputs": [],
   "source": [
    "# merged, merged_test = preprocessor()\n",
    "# merged.shape, merged_test.shape"
   ]
  },
  {
   "cell_type": "code",
   "execution_count": 124,
   "id": "84679a7e",
   "metadata": {
    "execution": {
     "iopub.execute_input": "2023-08-13T05:21:29.428266Z",
     "iopub.status.busy": "2023-08-13T05:21:29.427679Z",
     "iopub.status.idle": "2023-08-13T05:21:29.463956Z",
     "shell.execute_reply": "2023-08-13T05:21:29.462996Z"
    },
    "papermill": {
     "duration": 0.163104,
     "end_time": "2023-08-13T05:21:29.466716",
     "exception": false,
     "start_time": "2023-08-13T05:21:29.303612",
     "status": "completed"
    },
    "tags": []
   },
   "outputs": [],
   "source": [
    "def submit_v5(classifiers= [\n",
    "                {'selected_model' : LogisticRegression(C=1, solver='saga', max_iter=100000),\n",
    "                 'param_grid' : None,\n",
    "                 'selected_features' : {'num': ['audienceScore']},\n",
    "                 'vocab' : None,\n",
    "                 'vocab_usage' : 'tfidf',\n",
    "                 'strip_accents' : 'unicode',\n",
    "                 'add_countvec' : False,\n",
    "                'vocab_audscore' : None}\n",
    "              ], \n",
    "            imputer_type='simple',\n",
    "              poly=True,\n",
    "            ):\n",
    "    \n",
    "    \"\"\"Takes a list of dictionaries each with same keys as mentioned in the default dictionary in function definition\"\"\"\n",
    "    \n",
    "    print(\"\\nRunning the submit_v5 function...\")\n",
    "    \n",
    "    print(f\"\\nData preprocessor initiated...\")\n",
    "    \n",
    "    imputer_type = imputer_type\n",
    "    print(f\"\\nImputer for missing numerical values: {imputer_type}\")\n",
    "    print(f\"Imputing missing values. (This could take a while if it is KNNImputer)\")\n",
    "    \n",
    "    merged, merged_test = preprocessor(imputer_type=imputer_type)\n",
    "    print(f\"\\nPreprocessing of train and test datasets complete.\")\n",
    "    \n",
    "    # Build vocabulary (if vocab is True)\n",
    "    vocab = None\n",
    "    vocab_audscore = None\n",
    "    for item in classifiers:\n",
    "        if item['vocab']:\n",
    "            vocab = True\n",
    "        if item['vocab_audscore']:\n",
    "            vocab_audscore = item['vocab_audscore']\n",
    "    \n",
    "    if vocab == True:\n",
    "        # Generate and store the entire vocabulary of training data  \n",
    "        print(f\"Generating stop words/phrases specific for this project data...\")\n",
    "        train_1_2_3_grams = get_vocab(merged['reviewText'], ngram_range=(1,3))\n",
    "        print(f\"Size of vocabulary of training data: {len(train_1_2_3_grams)}\")\n",
    "        # sorted(train_1_2_3_grams)\n",
    "\n",
    "        # Generate stop words/phrases specific for this project data  \n",
    "        print(f\"Generating stop words/phrases specific for this project data...\")\n",
    "        common_1_2_3_grams = get_common_vocab([merged, merged_test], ngram_range_list=[(1,1), (2,2), (3,3)])\n",
    "        print(f\"Number of stop words: {len(common_1_2_3_grams)}\")\n",
    "\n",
    "        # Get the vocabulary that should be used in the final models  \n",
    "        print(f\"Getting the vocabulary that will be fed to the final model(s)...\")\n",
    "        relevant_vocab = list(train_1_2_3_grams - common_1_2_3_grams)\n",
    "        print(f\"Size of the final relevant vocabulary: {len(relevant_vocab)}\")\n",
    "    else:\n",
    "        pass\n",
    "    \n",
    "    if vocab_audscore:\n",
    "        pure_common_pos, pure_common_neg = audienceScore_vocab([merged, merged_test])\n",
    "        pure_common = pure_common_pos | pure_common_neg\n",
    "        print(f\"pure_common vocabulary created. Length: {len(pure_common)}\")\n",
    "    \n",
    "    \n",
    "    # Create a list to store estimators  \n",
    "    estimators = []     # List of tuples of the form ('classifier_name', 'classifer_instance')\n",
    "    \n",
    "    # Build a dataframe of predictions  \n",
    "    predictions_df = pd.DataFrame()\n",
    "    \n",
    "    # Build a separate pipeline and fit it on selected features (and param_grid) for each item in classifiers list\n",
    "    for n, item in enumerate(classifiers, start=1):\n",
    "        selected_model = item['selected_model']\n",
    "        selected_features = item['selected_features']\n",
    "        param_grid = item['param_grid']\n",
    "        vocab = item['vocab']\n",
    "        vocab_usage = item['vocab_usage']\n",
    "        strip_accents = item['strip_accents']\n",
    "        add_countvec = item['add_countvec']\n",
    "    \n",
    "    \n",
    "        # Fine tune selected_features\n",
    "        if add_countvec:\n",
    "            if 'txt' in selected_features.keys():\n",
    "                if \"reviewText_2\" not in selected_features['txt']:\n",
    "                    selected_features['txt'].append('reviewText_2')\n",
    "        if vocab:\n",
    "            if 'txt' in selected_features.keys():\n",
    "                if \"reviewText_3\" not in selected_features['txt']:\n",
    "                    selected_features['txt'].append('reviewText_3')\n",
    "        else:\n",
    "            print(f\"No vocabulary provided/used for this model.\")\n",
    "            \n",
    "        print(f\"\\nSelected features: {selected_features}\")\n",
    "        \n",
    "        if type(vocab) in [type([1, 2]), type({1, 2})]:\n",
    "            vocab = vocab\n",
    "        elif vocab == True:\n",
    "            vocab = common_1_2_3_grams    # Choose vocabulary here\n",
    "            \n",
    "        if vocab_audscore:\n",
    "            if 'txt' in selected_features.keys():\n",
    "                if \"reviewText_4\" not in selected_features['txt']:\n",
    "                    selected_features['txt'].append('reviewText_4')\n",
    "        else:\n",
    "            print(f\"No vocabulary based on audienceScore provided/used for this model.\")\n",
    "            \n",
    "            \n",
    "        print(f\"\\nSelected features: {selected_features}\")\n",
    "\n",
    "        # Modify X_train for the given 'item' by creating a custom 'features' list\n",
    "        features = []\n",
    "        for item in selected_features.values():\n",
    "            features.extend(item)\n",
    "            \n",
    "        # Add new columns as needed  \n",
    "        if add_countvec:\n",
    "            merged['reviewText_2'] = merged['reviewText']\n",
    "        if vocab:\n",
    "            merged['reviewText_3'] = merged['reviewText']\n",
    "        if vocab_audscore:\n",
    "            merged['reviewText_4'] = merged['reviewText']\n",
    "        \n",
    "        # Create X_tran, y_train\n",
    "        X_train = merged.drop(labels=\"sentiment\", axis=1)\n",
    "        y_train = merged[\"sentiment\"]\n",
    "        \n",
    "        X_train = merged[features].copy()\n",
    "\n",
    "\n",
    "        # Build Pipeline\n",
    "        pipe = build_pipeline(selected_model, selected_features, param_grid=param_grid, \n",
    "                              vocab=vocab, vocab_usage='tfidf', \n",
    "                              strip_accents=strip_accents, add_countvec=add_countvec,\n",
    "                             poly=poly, vocab_audscore=pure_common)\n",
    "        print(pipe)\n",
    "\n",
    "        \n",
    "        # Fit \n",
    "        print(f\"\\nTraining started with full pipeline for classifier #{n}/{len(classifiers)}...\")\n",
    "        pipe.fit(X_train, y_train)\n",
    "        \n",
    "\n",
    "        # Check1\n",
    "        print(f\"\\nCheck #{n}.1 complete.\")\n",
    "        print(f\"Details of the best model using classifier #{n} (GridSearchCV) on X_train: \")\n",
    "        print(f\"Best Params: {pipe.best_params_}\")\n",
    "        print(f\"Best Score: {pipe.best_score_}\")\n",
    "        \n",
    "        print(predict_on_missing_review_data(pipe, features, merged))    # Function defined above\n",
    "        \n",
    "        estimators.append((f\"classifier_{n}\", pipe))\n",
    "        print(f\"classifier_{n} successfully added to 'estimators' list\")\n",
    "\n",
    "        \n",
    "        # Predict on train data \n",
    "        y_train_pred = pipe.predict(X_train)\n",
    "        print(f\"Confusion matrix for predictions on training data: \")\n",
    "        print(confusion_matrix(y_train, y_train_pred))\n",
    "        f1_train = f1_score(y_train, y_train_pred, average=\"micro\")\n",
    "        print(f\"F1-score on training data: {f1_train}\")\n",
    "        \n",
    "        \n",
    "        # Predict on test.csv file\n",
    "        # Add new columns as needed \n",
    "        if add_countvec:\n",
    "            merged_test['reviewText_2'] = merged_test['reviewText']\n",
    "        if vocab:\n",
    "            merged_test['reviewText_3'] = merged_test['reviewText']\n",
    "        if vocab_audscore:\n",
    "            merged_test['reviewText_4'] = merged_test['reviewText']\n",
    "        \n",
    "               \n",
    "        X_test = merged_test[features].copy()\n",
    "\n",
    "    \n",
    "        y_pred = pipe.predict(X_test)\n",
    "        \n",
    "        # Insert predictions in 'predictions_df' dataframe\n",
    "        predictions_df.insert(n-1, f\"pred_{n}\", y_pred, allow_duplicates=False)\n",
    "        print(predictions_df.shape)\n",
    "        print(predictions_df.head(10))\n",
    "        \n",
    "    \n",
    "        # Check2\n",
    "        print(f\"\\nCheck #{n}.2 complete.\")\n",
    "    #     cv_results_df = pd.DataFrame(pipe.cv_results_)\n",
    "        print(\"Details of the best model using full pipeline (GridSearchCV) on X_train: \")\n",
    "#         print(f\"Best Estimator: {pipe.best_estimator_}\")\n",
    "        print(f\"Best Params: {pipe.best_params_}\")\n",
    "        print(f\"Best Score: {pipe.best_score_}\")\n",
    "#         print(f\"Best Index: {pipe.best_index_}\")\n",
    "        print(f\"Refit Time: {pipe.refit_time_}\")\n",
    "    #     print(f\"Shape of CV results dataframe: {cv_results_df.shape}\")\n",
    "    \n",
    "    # Voting classifier (custom) with hard voting\n",
    "    # Calculate the MODE for all predictions (Note that the 'predictions_df' generated above should have odd number of columns)\n",
    "    pred_df_final = predictions_df.mode('columns')\n",
    "    pred_df_final.columns = [\"sentiment\"]\n",
    "    pred_df_final.index.name = \"id\"\n",
    "    pred_df_final.to_csv(\"submission.csv\")\n",
    "    \n",
    "    print(\"\\nSuccessfully created the submission file!!!\")\n",
    "    \n",
    "#     return pipe.cv_results_\n",
    "    return pred_df_final, estimators"
   ]
  },
  {
   "cell_type": "markdown",
   "id": "0e7a0694",
   "metadata": {
    "papermill": {
     "duration": 0.120832,
     "end_time": "2023-08-13T05:21:29.704307",
     "exception": false,
     "start_time": "2023-08-13T05:21:29.583475",
     "status": "completed"
    },
    "tags": []
   },
   "source": [
    "## Use 'submit_v5' function  "
   ]
  },
  {
   "cell_type": "code",
   "execution_count": 125,
   "id": "41716cbb",
   "metadata": {
    "execution": {
     "iopub.execute_input": "2023-08-13T05:21:29.950626Z",
     "iopub.status.busy": "2023-08-13T05:21:29.950166Z",
     "iopub.status.idle": "2023-08-13T05:21:29.955080Z",
     "shell.execute_reply": "2023-08-13T05:21:29.953686Z"
    },
    "papermill": {
     "duration": 0.13053,
     "end_time": "2023-08-13T05:21:29.957590",
     "exception": false,
     "start_time": "2023-08-13T05:21:29.827060",
     "status": "completed"
    },
    "tags": []
   },
   "outputs": [],
   "source": [
    "# Try submit_v5 with default settings\n",
    "# submit_v5()"
   ]
  },
  {
   "cell_type": "code",
   "execution_count": 126,
   "id": "b33638d9",
   "metadata": {
    "execution": {
     "iopub.execute_input": "2023-08-13T05:21:30.197526Z",
     "iopub.status.busy": "2023-08-13T05:21:30.197070Z",
     "iopub.status.idle": "2023-08-13T06:17:10.312272Z",
     "shell.execute_reply": "2023-08-13T06:17:10.310692Z"
    },
    "papermill": {
     "duration": 3340.23678,
     "end_time": "2023-08-13T06:17:10.315409",
     "exception": false,
     "start_time": "2023-08-13T05:21:30.078629",
     "status": "completed"
    },
    "tags": []
   },
   "outputs": [
    {
     "name": "stdout",
     "output_type": "stream",
     "text": [
      "\n",
      "Running the submit_v5 function...\n",
      "\n",
      "Data preprocessor initiated...\n",
      "\n",
      "Imputer for missing numerical values: knn\n",
      "Imputing missing values. (This could take a while if it is KNNImputer)\n",
      "KNNImputer(n_neighbors=3, weights='distance')\n",
      "\n",
      "Check 1 (preprocessor) complete.\n",
      "Shape of X_train: (162758, 30)\n",
      "Features in X_train: Index(['movieid', 'reviewerName', 'isFrequentReviewer', 'reviewText',\n",
      "       'sentiment', 'title', 'audienceScore', 'rating', 'ratingContents',\n",
      "       'releaseDateTheaters', 'releaseDateStreaming', 'runtimeMinutes',\n",
      "       'genre', 'originalLanguage', 'director', 'boxOffice', 'distributor',\n",
      "       'soundType', 'reviewYN', 'reviewWC', 'genreSorted', 'rcSorted',\n",
      "       'releaseDate', 'releaseYear', 'releaseMonth', 'releaseDiff',\n",
      "       'audScoreBins', 'runtimeBins', 'boxOfficeBins', 'releaseDiffBins'],\n",
      "      dtype='object')\n",
      "\n",
      "Check 2 (preprocessor) complete.\n",
      "Shape of X_test: (55315, 29)\n",
      "Features in X_test: Index(['movieid', 'reviewerName', 'isFrequentReviewer', 'reviewText', 'title',\n",
      "       'audienceScore', 'rating', 'ratingContents', 'releaseDateTheaters',\n",
      "       'releaseDateStreaming', 'runtimeMinutes', 'genre', 'originalLanguage',\n",
      "       'director', 'boxOffice', 'distributor', 'soundType', 'reviewYN',\n",
      "       'reviewWC', 'genreSorted', 'rcSorted', 'releaseDate', 'releaseYear',\n",
      "       'releaseMonth', 'releaseDiff', 'audScoreBins', 'runtimeBins',\n",
      "       'boxOfficeBins', 'releaseDiffBins'],\n",
      "      dtype='object')\n",
      "\n",
      "Preprocessing of train and test datasets complete.\n",
      "Generating stop words/phrases specific for this project data...\n",
      "Generating vocabulary for ngram_range: (1, 3)...\n",
      "Size of vocabulary of training data: 2610596\n",
      "Generating stop words/phrases specific for this project data...\n",
      "Working on DF#1 in the list of DFs provided\n",
      "Generating vocabulary for ngram_range: (1, 1)...\n",
      "Vocabulary size for ngram-range (1, 1) in DF#1: 63881\n",
      "\n",
      "Words from the first df for ngram-range (1, 1) added.\n",
      "\n",
      "Working on DF#2 in the list of DFs provided\n",
      "Generating vocabulary for ngram_range: (1, 1)...\n",
      "Vocabulary size for ngram-range (1, 1) in DF#2: 42992\n",
      "\n",
      "Keeping only the common (intersection) words for ngram-range (1, 1)...\n",
      "Common vocabulary for ngram-range (1, 1): 35498\n",
      "\n",
      "Appended first time to final common vocabulary: ngram-range = (1, 1).\n",
      "\n",
      "Working on DF#1 in the list of DFs provided\n",
      "Generating vocabulary for ngram_range: (2, 2)...\n",
      "Vocabulary size for ngram-range (2, 2) in DF#1: 1130406\n",
      "\n",
      "Words from the first df for ngram-range (2, 2) added.\n",
      "\n",
      "Working on DF#2 in the list of DFs provided\n",
      "Generating vocabulary for ngram_range: (2, 2)...\n",
      "Vocabulary size for ngram-range (2, 2) in DF#2: 436174\n",
      "\n",
      "Keeping only the common (intersection) words for ngram-range (2, 2)...\n",
      "Common vocabulary for ngram-range (2, 2): 112530\n",
      "\n",
      "Fusing (union) with final common vocabulary: ngram-range = (2, 2).\n",
      "\n",
      "Working on DF#1 in the list of DFs provided\n",
      "Generating vocabulary for ngram_range: (3, 3)...\n",
      "Vocabulary size for ngram-range (3, 3) in DF#1: 1416309\n",
      "\n",
      "Words from the first df for ngram-range (3, 3) added.\n",
      "\n",
      "Working on DF#2 in the list of DFs provided\n",
      "Generating vocabulary for ngram_range: (3, 3)...\n",
      "Vocabulary size for ngram-range (3, 3) in DF#2: 488867\n",
      "\n",
      "Keeping only the common (intersection) words for ngram-range (3, 3)...\n",
      "Common vocabulary for ngram-range (3, 3): 22631\n",
      "\n",
      "Fusing (union) with final common vocabulary: ngram-range = (3, 3).\n",
      "\n",
      "Number of stop words: 170659\n",
      "Getting the vocabulary that will be fed to the final model(s)...\n",
      "Size of the final relevant vocabulary: 2439937\n",
      "Working on DF#1 in the list of DFs provided\n",
      "Generating vocabulary for ngram_range: (1, 1)...\n",
      "Vocabulary size for ngram-range (1, 1) in DF#1: 63881\n",
      "\n",
      "Words from the first df for ngram-range (1, 1) added.\n",
      "\n",
      "Working on DF#2 in the list of DFs provided\n",
      "Generating vocabulary for ngram_range: (1, 1)...\n",
      "Vocabulary size for ngram-range (1, 1) in DF#2: 42992\n",
      "\n",
      "Keeping only the common (intersection) words for ngram-range (1, 1)...\n",
      "Common vocabulary for ngram-range (1, 1): 35498\n",
      "\n",
      "Appended first time to final common vocabulary: ngram-range = (1, 1).\n",
      "\n",
      "Working on DF#1 in the list of DFs provided\n",
      "Generating vocabulary for ngram_range: (2, 2)...\n",
      "Vocabulary size for ngram-range (2, 2) in DF#1: 1130406\n",
      "\n",
      "Words from the first df for ngram-range (2, 2) added.\n",
      "\n",
      "Working on DF#2 in the list of DFs provided\n",
      "Generating vocabulary for ngram_range: (2, 2)...\n",
      "Vocabulary size for ngram-range (2, 2) in DF#2: 436174\n",
      "\n",
      "Keeping only the common (intersection) words for ngram-range (2, 2)...\n",
      "Common vocabulary for ngram-range (2, 2): 112530\n",
      "\n",
      "Fusing (union) with final common vocabulary: ngram-range = (2, 2).\n",
      "\n",
      "Working on DF#1 in the list of DFs provided\n",
      "Generating vocabulary for ngram_range: (3, 3)...\n",
      "Vocabulary size for ngram-range (3, 3) in DF#1: 1416309\n",
      "\n",
      "Words from the first df for ngram-range (3, 3) added.\n",
      "\n",
      "Working on DF#2 in the list of DFs provided\n",
      "Generating vocabulary for ngram_range: (3, 3)...\n",
      "Vocabulary size for ngram-range (3, 3) in DF#2: 488867\n",
      "\n",
      "Keeping only the common (intersection) words for ngram-range (3, 3)...\n",
      "Common vocabulary for ngram-range (3, 3): 22631\n",
      "\n",
      "Fusing (union) with final common vocabulary: ngram-range = (3, 3).\n",
      "\n",
      "Working on DF#1 in the list of DFs provided\n",
      "Generating vocabulary for ngram_range: (1, 1)...\n",
      "Vocabulary size for ngram-range (1, 1) in DF#1: 39254\n",
      "\n",
      "Words from the first df for ngram-range (1, 1) added.\n",
      "\n",
      "Working on DF#2 in the list of DFs provided\n",
      "Generating vocabulary for ngram_range: (1, 1)...\n",
      "Vocabulary size for ngram-range (1, 1) in DF#2: 39254\n",
      "\n",
      "Keeping only the common (intersection) words for ngram-range (1, 1)...\n",
      "Common vocabulary for ngram-range (1, 1): 39254\n",
      "\n",
      "Appended first time to final common vocabulary: ngram-range = (1, 1).\n",
      "\n",
      "Working on DF#1 in the list of DFs provided\n",
      "Generating vocabulary for ngram_range: (2, 2)...\n",
      "Vocabulary size for ngram-range (2, 2) in DF#1: 418168\n",
      "\n",
      "Words from the first df for ngram-range (2, 2) added.\n",
      "\n",
      "Working on DF#2 in the list of DFs provided\n",
      "Generating vocabulary for ngram_range: (2, 2)...\n",
      "Vocabulary size for ngram-range (2, 2) in DF#2: 418168\n",
      "\n",
      "Keeping only the common (intersection) words for ngram-range (2, 2)...\n",
      "Common vocabulary for ngram-range (2, 2): 418168\n",
      "\n",
      "Fusing (union) with final common vocabulary: ngram-range = (2, 2).\n",
      "\n",
      "Working on DF#1 in the list of DFs provided\n",
      "Generating vocabulary for ngram_range: (3, 3)...\n",
      "Vocabulary size for ngram-range (3, 3) in DF#1: 478650\n",
      "\n",
      "Words from the first df for ngram-range (3, 3) added.\n",
      "\n",
      "Working on DF#2 in the list of DFs provided\n",
      "Generating vocabulary for ngram_range: (3, 3)...\n",
      "Vocabulary size for ngram-range (3, 3) in DF#2: 478650\n",
      "\n",
      "Keeping only the common (intersection) words for ngram-range (3, 3)...\n",
      "Common vocabulary for ngram-range (3, 3): 478650\n",
      "\n",
      "Fusing (union) with final common vocabulary: ngram-range = (3, 3).\n",
      "\n",
      "Working on DF#1 in the list of DFs provided\n",
      "Generating vocabulary for ngram_range: (1, 1)...\n",
      "Vocabulary size for ngram-range (1, 1) in DF#1: 29530\n",
      "\n",
      "Words from the first df for ngram-range (1, 1) added.\n",
      "\n",
      "Working on DF#2 in the list of DFs provided\n",
      "Generating vocabulary for ngram_range: (1, 1)...\n",
      "Vocabulary size for ngram-range (1, 1) in DF#2: 29530\n",
      "\n",
      "Keeping only the common (intersection) words for ngram-range (1, 1)...\n",
      "Common vocabulary for ngram-range (1, 1): 29530\n",
      "\n",
      "Appended first time to final common vocabulary: ngram-range = (1, 1).\n",
      "\n",
      "Working on DF#1 in the list of DFs provided\n",
      "Generating vocabulary for ngram_range: (2, 2)...\n",
      "Vocabulary size for ngram-range (2, 2) in DF#1: 208463\n",
      "\n",
      "Words from the first df for ngram-range (2, 2) added.\n",
      "\n",
      "Working on DF#2 in the list of DFs provided\n",
      "Generating vocabulary for ngram_range: (2, 2)...\n",
      "Vocabulary size for ngram-range (2, 2) in DF#2: 208463\n",
      "\n",
      "Keeping only the common (intersection) words for ngram-range (2, 2)...\n",
      "Common vocabulary for ngram-range (2, 2): 208463\n",
      "\n",
      "Fusing (union) with final common vocabulary: ngram-range = (2, 2).\n",
      "\n",
      "Working on DF#1 in the list of DFs provided\n",
      "Generating vocabulary for ngram_range: (3, 3)...\n",
      "Vocabulary size for ngram-range (3, 3) in DF#1: 223076\n",
      "\n",
      "Words from the first df for ngram-range (3, 3) added.\n",
      "\n",
      "Working on DF#2 in the list of DFs provided\n",
      "Generating vocabulary for ngram_range: (3, 3)...\n",
      "Vocabulary size for ngram-range (3, 3) in DF#2: 223076\n",
      "\n",
      "Keeping only the common (intersection) words for ngram-range (3, 3)...\n",
      "Common vocabulary for ngram-range (3, 3): 223076\n",
      "\n",
      "Fusing (union) with final common vocabulary: ngram-range = (3, 3).\n",
      "\n",
      "pure_common vocabulary created. Length: 84493\n",
      "\n",
      "Selected features: {'cat': ['isFrequentReviewer'], 'num': ['audienceScore', 'boxOffice', 'releaseDiff'], 'txt': ['reviewText', 'reviewerName', 'movieid', 'genre', 'director', 'ratingContents', 'distributor', 'reviewText_2', 'reviewText_3']}\n",
      "\n",
      "Selected features: {'cat': ['isFrequentReviewer'], 'num': ['audienceScore', 'boxOffice', 'releaseDiff'], 'txt': ['reviewText', 'reviewerName', 'movieid', 'genre', 'director', 'ratingContents', 'distributor', 'reviewText_2', 'reviewText_3', 'reviewText_4']}\n",
      "\n",
      "Pipeline built successfully.\n",
      "\n",
      "Full GridSearchCV pipeline built successfully.\n",
      "GridSearchCV(cv=10,\n",
      "             estimator=Pipeline(steps=[('ct',\n",
      "                                        ColumnTransformer(transformers=[('cat',\n",
      "                                                                         OneHotEncoder(handle_unknown='ignore',\n",
      "                                                                                       sparse_output=False),\n",
      "                                                                         ['isFrequentReviewer']),\n",
      "                                                                        ('num',\n",
      "                                                                         Pipeline(steps=[('robscaler',\n",
      "                                                                                          RobustScaler()),\n",
      "                                                                                         ('stdscaler',\n",
      "                                                                                          StandardScaler()),\n",
      "                                                                                         ('poly',\n",
      "                                                                                          PolynomialFeatures())]),\n",
      "                                                                         ['audienceScore',\n",
      "                                                                          'boxOffice',\n",
      "                                                                          'releaseDiff']),\n",
      "                                                                        ('txt_reviewText'...\n",
      "                                                                                                                      'striking',\n",
      "                                                                                                                      'abbey',\n",
      "                                                                                                                      'abbey '\n",
      "                                                                                                                      'movie',\n",
      "                                                                                                                      'abbie',\n",
      "                                                                                                                      'abbott '\n",
      "                                                                                                                      'costello '\n",
      "                                                                                                                      'meet',\n",
      "                                                                                                                      'abc '\n",
      "                                                                                                                      'africa',\n",
      "                                                                                                                      'abc '\n",
      "                                                                                                                      'afterschool',\n",
      "                                                                                                                      'abdomen',\n",
      "                                                                                                                      'abdul '\n",
      "                                                                                                                      'mateen',\n",
      "                                                                                                                      'abdul '\n",
      "                                                                                                                      'mateen '\n",
      "                                                                                                                      'ii',\n",
      "                                                                                                                      'abel '\n",
      "                                                                                                                      'ferrara', ...}))]),\n",
      "                                                                         'reviewText_4')])),\n",
      "                                       ('model',\n",
      "                                        SGDClassifier(loss='log_loss',\n",
      "                                                      max_iter=1000000,\n",
      "                                                      n_iter_no_change=1000,\n",
      "                                                      n_jobs=-1,\n",
      "                                                      tol=0.0001))]),\n",
      "             n_jobs=-1, param_grid={'model__alpha': [0.0001]},\n",
      "             scoring='f1_micro')\n",
      "\n",
      "Training started with full pipeline for classifier #1/1...\n",
      "\n",
      "Check #1.1 complete.\n",
      "Details of the best model using classifier #1 (GridSearchCV) on X_train: \n",
      "Best Params: {'model__alpha': 0.0001}\n",
      "Best Score: 0.8406837162631249\n",
      "Confusion matrix and f1-score for rows which have no reviewText in X_train: \n",
      "[[1297 1108]\n",
      " [ 493 3549]]\n",
      "0.7516674422211883\n",
      "classifier_1 successfully added to 'estimators' list\n",
      "Confusion matrix for predictions on training data: \n",
      "[[ 48260   5737]\n",
      " [  2354 106407]]\n",
      "F1-score on training data: 0.950288157878568\n",
      "(55315, 1)\n",
      "     pred_1\n",
      "0  POSITIVE\n",
      "1  POSITIVE\n",
      "2  POSITIVE\n",
      "3  POSITIVE\n",
      "4  POSITIVE\n",
      "5  POSITIVE\n",
      "6  POSITIVE\n",
      "7  POSITIVE\n",
      "8  NEGATIVE\n",
      "9  NEGATIVE\n",
      "\n",
      "Check #1.2 complete.\n",
      "Details of the best model using full pipeline (GridSearchCV) on X_train: \n",
      "Best Params: {'model__alpha': 0.0001}\n",
      "Best Score: 0.8406837162631249\n",
      "Refit Time: 505.75922870635986\n",
      "\n",
      "Successfully created the submission file!!!\n"
     ]
    }
   ],
   "source": [
    "# Testing ONE classfier using submit_v5 function  \n",
    "\n",
    "# Feature dictionaries\n",
    "sfs = {'cat': ['isFrequentReviewer', 'rating'],\n",
    "       'num': [\"audienceScore\", \"runtimeMinutes\", \"boxOffice\", 'releaseDiff']}\n",
    "\n",
    "sf_best = {'cat': ['isFrequentReviewer'],\n",
    "            'num': [\"audienceScore\", \"boxOffice\", 'releaseDiff'],\n",
    "            'txt': ['reviewText', 'reviewerName', 'movieid', 'genre', 'director', \n",
    "                         'ratingContents', 'distributor']}\n",
    "\n",
    "alt_text = {'txt': ['reviewerName', 'movieid', 'genre', 'director', \n",
    "                         'ratingContents', 'distributor']}\n",
    "\n",
    "v88_dict = {'cat': ['isFrequentReviewer', 'audScoreBins', 'boxOfficeBins'],\n",
    "            'num': ['releaseDiff'],\n",
    "            'txt': ['reviewText', 'reviewerName', 'movieid', 'genre', 'director', \n",
    "                         'ratingContents', 'distributor']}\n",
    "\n",
    "# SGDClassifier hyperparameters  \n",
    "# \"model__loss\": ['hinge', 'log_loss', 'modified_huber', \n",
    "#                                                   'squared_hinge', 'perceptron', \n",
    "#                                                   'squared_error', 'huber', \n",
    "#                                                   'epsilon_insensitive', 'squared_epsilon_insensitive']\n",
    "\n",
    "# 'param_grid' : {\"model__alpha\": [0.0001], \n",
    "#                   'model__tol': [0.0001],\n",
    "#                   \"model__penalty\": [\"l2\"],\n",
    "#                   \"model__n_iter_no_change\": [100],\n",
    "#                  }\n",
    "\n",
    "# Best models \n",
    "# For sf_best features\n",
    "#                 {'selected_model' : SGDClassifier(loss='hinge', \n",
    "#                                      max_iter=1000000,\n",
    "#                                      alpha = 0.0001,\n",
    "#                                      tol = 0.0001,\n",
    "#                                      penalty = \"l2\",\n",
    "#                                      n_iter_no_change = 100,\n",
    "#                                      n_jobs = -1), \n",
    "#                   'selected_features' : sf_best, \n",
    "#                   'param_grid' : {\"model__alpha\": [ 0.0001]},\n",
    "#                   'vocab' : True,\n",
    "#                   'vocab_usage' : 'tfidf',\n",
    "#                   'strip_accents' : 'unicode', \n",
    "#                   'add_countvec' : True},\n",
    "\n",
    "# For sfs features\n",
    "#                 {'selected_model' : RandomForestClassifier(n_jobs = -1), \n",
    "#                   'selected_features' : sfs, \n",
    "#                   'param_grid': {'model__n_estimators': [100]},\n",
    "#                   'vocab' : None,\n",
    "#                   'vocab_usage' : 'tfidf',\n",
    "#                   'strip_accents' : 'unicode', \n",
    "#                   'add_countvec' : False}\n",
    "\n",
    "# Best SGD classifer (with params)  \n",
    "sgdc = SGDClassifier(loss='log_loss', \n",
    "                     max_iter=1000000,\n",
    "                     alpha = 0.0001,\n",
    "                     tol = 0.0001,\n",
    "                     penalty = \"l2\",\n",
    "                     n_iter_no_change = 1000,\n",
    "                     n_jobs = -1)\n",
    "\n",
    "# Classifiers\n",
    "classifiers= [   \n",
    "                {'selected_model' : sgdc, \n",
    "                  'selected_features' : sf_best, \n",
    "                  'param_grid' : {\"model__alpha\": [0.0001]},\n",
    "                  'vocab' : True,\n",
    "                  'vocab_usage' : 'tfidf',\n",
    "                  'strip_accents' : 'unicode', \n",
    "                  'add_countvec' : True,\n",
    "                    'vocab_audscore' : True},\n",
    "            ]\n",
    "\n",
    "# classifiers= [\n",
    "#                 {'selected_model' : LogisticRegression(C=1, solver='saga', max_iter=100000), \n",
    "#                   'selected_features' : {'txt': [\"reviewText\"]}, \n",
    "#                   'param_grid' : {\"model__C\": [1], \n",
    "#                                   'model__solver': ['saga']},\n",
    "#                   'vocab' : None,\n",
    "#                   'vocab_usage' : 'tfidf',\n",
    "#                   'strip_accents' : 'unicode', \n",
    "#                   'add_countvec' : False},\n",
    "#             ]\n",
    "\n",
    "pred_df, estimators = submit_v5(classifiers=classifiers, imputer_type='knn', poly=True)"
   ]
  },
  {
   "cell_type": "code",
   "execution_count": 127,
   "id": "68ef0e5f",
   "metadata": {
    "execution": {
     "iopub.execute_input": "2023-08-13T06:17:10.555039Z",
     "iopub.status.busy": "2023-08-13T06:17:10.554191Z",
     "iopub.status.idle": "2023-08-13T06:17:10.562950Z",
     "shell.execute_reply": "2023-08-13T06:17:10.561274Z"
    },
    "papermill": {
     "duration": 0.130146,
     "end_time": "2023-08-13T06:17:10.565279",
     "exception": false,
     "start_time": "2023-08-13T06:17:10.435133",
     "status": "completed"
    },
    "tags": []
   },
   "outputs": [
    {
     "name": "stdout",
     "output_type": "stream",
     "text": [
      "(55315, 1)\n",
      "   sentiment\n",
      "id          \n",
      "0   POSITIVE\n",
      "1   POSITIVE\n",
      "2   POSITIVE\n",
      "3   POSITIVE\n",
      "4   POSITIVE\n"
     ]
    }
   ],
   "source": [
    "print(pred_df.shape)\n",
    "print(pred_df.head())"
   ]
  },
  {
   "cell_type": "code",
   "execution_count": 128,
   "id": "6963e530",
   "metadata": {
    "execution": {
     "iopub.execute_input": "2023-08-13T06:17:10.799778Z",
     "iopub.status.busy": "2023-08-13T06:17:10.798912Z",
     "iopub.status.idle": "2023-08-13T06:17:10.804312Z",
     "shell.execute_reply": "2023-08-13T06:17:10.803406Z"
    },
    "papermill": {
     "duration": 0.126887,
     "end_time": "2023-08-13T06:17:10.806757",
     "exception": false,
     "start_time": "2023-08-13T06:17:10.679870",
     "status": "completed"
    },
    "tags": []
   },
   "outputs": [],
   "source": [
    "# estimators"
   ]
  },
  {
   "cell_type": "code",
   "execution_count": 129,
   "id": "7cecc324",
   "metadata": {
    "execution": {
     "iopub.execute_input": "2023-08-13T06:17:11.037986Z",
     "iopub.status.busy": "2023-08-13T06:17:11.037556Z",
     "iopub.status.idle": "2023-08-13T06:17:11.044419Z",
     "shell.execute_reply": "2023-08-13T06:17:11.043074Z"
    },
    "papermill": {
     "duration": 0.126094,
     "end_time": "2023-08-13T06:17:11.047229",
     "exception": false,
     "start_time": "2023-08-13T06:17:10.921135",
     "status": "completed"
    },
    "tags": []
   },
   "outputs": [
    {
     "name": "stdout",
     "output_type": "stream",
     "text": [
      "Number of estimators: 1\n",
      "\n",
      "Estimator: classifier_1\n",
      "{'model__alpha': 0.0001}\n",
      "0.8406837162631249\n",
      "505.75922870635986\n",
      "\n"
     ]
    }
   ],
   "source": [
    "print(f\"Number of estimators: {len(estimators)}\\n\")\n",
    "for est in estimators:\n",
    "    print(f\"Estimator: {est[0]}\")\n",
    "#     print(est[1].best_estimator_)\n",
    "    print(est[1].best_params_)\n",
    "    print(est[1].best_score_)\n",
    "    print(est[1].refit_time_)\n",
    "    print()"
   ]
  },
  {
   "cell_type": "code",
   "execution_count": 130,
   "id": "7bbae1f4",
   "metadata": {
    "execution": {
     "iopub.execute_input": "2023-08-13T06:17:11.281074Z",
     "iopub.status.busy": "2023-08-13T06:17:11.280600Z",
     "iopub.status.idle": "2023-08-13T06:17:11.287431Z",
     "shell.execute_reply": "2023-08-13T06:17:11.286232Z"
    },
    "papermill": {
     "duration": 0.128727,
     "end_time": "2023-08-13T06:17:11.289996",
     "exception": false,
     "start_time": "2023-08-13T06:17:11.161269",
     "status": "completed"
    },
    "tags": []
   },
   "outputs": [],
   "source": [
    "# Testing full capabilites of submit_v5  \n",
    "\n",
    "# # Feature dictionaries\n",
    "# sf1 = {'cat': ['isFrequentReviewer', 'rating'],\n",
    "#        'num': [\"audienceScore\", \"runtimeMinutes\", \"boxOffice\"]}\n",
    "\n",
    "# sf2 = {'cat': ['isFrequentReviewer', 'rating'],\n",
    "#        'num': [\"audienceScore\", \"runtimeMinutes\", \"boxOffice\"]}\n",
    "\n",
    "# sf3 = {'cat': ['isFrequentReviewer'],\n",
    "#         'num': ['releaseDiff', 'audienceScore', 'boxOffice'],\n",
    "#         'txt': ['reviewText', 'reviewerName', 'movieid', 'genre', 'director', \n",
    "#                          'ratingContents', 'distributor']}\n",
    "\n",
    "# # Individual classifiers\n",
    "# clf1 =  {'selected_model' : AdaBoostClassifier(), \n",
    "#           'selected_features' : sf1, \n",
    "#           'param_grid' : {\"model__n_estimators\": [50]},\n",
    "#           'vocab' : None,\n",
    "#           'vocab_usage' : 'tfidf',\n",
    "#           'strip_accents' : 'unicode', \n",
    "#           'add_countvec' : False}\n",
    "\n",
    "# clf2 =  {'selected_model' : RandomForestClassifier(), \n",
    "#           'selected_features' : sf2,\n",
    "#           'param_grid' : {\"model__n_estimators\": [50], \n",
    "#                           'model__criterion': ['gini']},\n",
    "#           'vocab' : None,\n",
    "#           'vocab_usage' : 'tfidf',\n",
    "#           'strip_accents' : 'unicode', \n",
    "#           'add_countvec' : False}\n",
    "\n",
    "# clf3 =  {'selected_model' : LogisticRegression(C=1, solver='saga', max_iter=100000), \n",
    "#           'selected_features' : sf3, \n",
    "#           'param_grid' : {'model__C' : [1],\n",
    "#                             'model__solver': ['saga'],\n",
    "#                             \"model__fit_intercept\" : [True],\n",
    "#                             \"model__dual\" : [False]},\n",
    "#           'vocab' : None,\n",
    "#           'vocab_usage' : 'tfidf',\n",
    "#           'strip_accents' : 'unicode', \n",
    "#           'add_countvec' : True}\n",
    "\n",
    "\n",
    "# # List of classifiers for voting\n",
    "# classifiers= [clf1, clf2, clf3]\n",
    "\n",
    "# # Final predictions \n",
    "# pred_df = submit_v5(classifiers=classifiers)"
   ]
  },
  {
   "cell_type": "code",
   "execution_count": 131,
   "id": "57d406cc",
   "metadata": {
    "execution": {
     "iopub.execute_input": "2023-08-13T06:17:11.526618Z",
     "iopub.status.busy": "2023-08-13T06:17:11.526222Z",
     "iopub.status.idle": "2023-08-13T06:17:11.541886Z",
     "shell.execute_reply": "2023-08-13T06:17:11.540568Z"
    },
    "papermill": {
     "duration": 0.139823,
     "end_time": "2023-08-13T06:17:11.545425",
     "exception": false,
     "start_time": "2023-08-13T06:17:11.405602",
     "status": "completed"
    },
    "tags": []
   },
   "outputs": [
    {
     "name": "stdout",
     "output_type": "stream",
     "text": [
      "(55315, 1)\n"
     ]
    },
    {
     "data": {
      "text/html": [
       "<div>\n",
       "<style scoped>\n",
       "    .dataframe tbody tr th:only-of-type {\n",
       "        vertical-align: middle;\n",
       "    }\n",
       "\n",
       "    .dataframe tbody tr th {\n",
       "        vertical-align: top;\n",
       "    }\n",
       "\n",
       "    .dataframe thead th {\n",
       "        text-align: right;\n",
       "    }\n",
       "</style>\n",
       "<table border=\"1\" class=\"dataframe\">\n",
       "  <thead>\n",
       "    <tr style=\"text-align: right;\">\n",
       "      <th></th>\n",
       "      <th>sentiment</th>\n",
       "    </tr>\n",
       "    <tr>\n",
       "      <th>id</th>\n",
       "      <th></th>\n",
       "    </tr>\n",
       "  </thead>\n",
       "  <tbody>\n",
       "    <tr>\n",
       "      <th>0</th>\n",
       "      <td>POSITIVE</td>\n",
       "    </tr>\n",
       "    <tr>\n",
       "      <th>1</th>\n",
       "      <td>POSITIVE</td>\n",
       "    </tr>\n",
       "    <tr>\n",
       "      <th>2</th>\n",
       "      <td>POSITIVE</td>\n",
       "    </tr>\n",
       "    <tr>\n",
       "      <th>3</th>\n",
       "      <td>POSITIVE</td>\n",
       "    </tr>\n",
       "    <tr>\n",
       "      <th>4</th>\n",
       "      <td>POSITIVE</td>\n",
       "    </tr>\n",
       "    <tr>\n",
       "      <th>...</th>\n",
       "      <td>...</td>\n",
       "    </tr>\n",
       "    <tr>\n",
       "      <th>55310</th>\n",
       "      <td>POSITIVE</td>\n",
       "    </tr>\n",
       "    <tr>\n",
       "      <th>55311</th>\n",
       "      <td>POSITIVE</td>\n",
       "    </tr>\n",
       "    <tr>\n",
       "      <th>55312</th>\n",
       "      <td>NEGATIVE</td>\n",
       "    </tr>\n",
       "    <tr>\n",
       "      <th>55313</th>\n",
       "      <td>POSITIVE</td>\n",
       "    </tr>\n",
       "    <tr>\n",
       "      <th>55314</th>\n",
       "      <td>NEGATIVE</td>\n",
       "    </tr>\n",
       "  </tbody>\n",
       "</table>\n",
       "<p>55315 rows × 1 columns</p>\n",
       "</div>"
      ],
      "text/plain": [
       "      sentiment\n",
       "id             \n",
       "0      POSITIVE\n",
       "1      POSITIVE\n",
       "2      POSITIVE\n",
       "3      POSITIVE\n",
       "4      POSITIVE\n",
       "...         ...\n",
       "55310  POSITIVE\n",
       "55311  POSITIVE\n",
       "55312  NEGATIVE\n",
       "55313  POSITIVE\n",
       "55314  NEGATIVE\n",
       "\n",
       "[55315 rows x 1 columns]"
      ]
     },
     "execution_count": 131,
     "metadata": {},
     "output_type": "execute_result"
    }
   ],
   "source": [
    "print(pred_df.shape)\n",
    "pred_df"
   ]
  },
  {
   "cell_type": "code",
   "execution_count": 132,
   "id": "3da5d52f",
   "metadata": {
    "execution": {
     "iopub.execute_input": "2023-08-13T06:17:11.783975Z",
     "iopub.status.busy": "2023-08-13T06:17:11.783309Z",
     "iopub.status.idle": "2023-08-13T06:17:11.787766Z",
     "shell.execute_reply": "2023-08-13T06:17:11.786965Z"
    },
    "papermill": {
     "duration": 0.126447,
     "end_time": "2023-08-13T06:17:11.789996",
     "exception": false,
     "start_time": "2023-08-13T06:17:11.663549",
     "status": "completed"
    },
    "tags": []
   },
   "outputs": [],
   "source": [
    "# pred_df_mode = pred_df.mode(axis='columns')\n",
    "# print(pred_df_mode.shape)\n",
    "# pred_df_mode"
   ]
  },
  {
   "cell_type": "code",
   "execution_count": 133,
   "id": "cf884389",
   "metadata": {
    "execution": {
     "iopub.execute_input": "2023-08-13T06:17:12.026287Z",
     "iopub.status.busy": "2023-08-13T06:17:12.025476Z",
     "iopub.status.idle": "2023-08-13T06:17:12.045563Z",
     "shell.execute_reply": "2023-08-13T06:17:12.044668Z"
    },
    "papermill": {
     "duration": 0.141287,
     "end_time": "2023-08-13T06:17:12.047747",
     "exception": false,
     "start_time": "2023-08-13T06:17:11.906460",
     "status": "completed"
    },
    "tags": []
   },
   "outputs": [
    {
     "data": {
      "text/plain": [
       "sentiment\n",
       "POSITIVE     39737\n",
       "NEGATIVE     15578\n",
       "dtype: int64"
      ]
     },
     "execution_count": 133,
     "metadata": {},
     "output_type": "execute_result"
    }
   ],
   "source": [
    "pred_df.value_counts()"
   ]
  },
  {
   "cell_type": "markdown",
   "id": "5c8279fb",
   "metadata": {
    "papermill": {
     "duration": 0.119262,
     "end_time": "2023-08-13T06:17:12.285499",
     "exception": false,
     "start_time": "2023-08-13T06:17:12.166237",
     "status": "completed"
    },
    "tags": []
   },
   "source": [
    "# NOTE: Move submit_v4 submissions below the suubmit_v4 function  "
   ]
  },
  {
   "cell_type": "code",
   "execution_count": 134,
   "id": "e6da3ebf",
   "metadata": {
    "execution": {
     "iopub.execute_input": "2023-08-13T06:17:12.524147Z",
     "iopub.status.busy": "2023-08-13T06:17:12.523084Z",
     "iopub.status.idle": "2023-08-13T06:17:12.528672Z",
     "shell.execute_reply": "2023-08-13T06:17:12.527234Z"
    },
    "papermill": {
     "duration": 0.126775,
     "end_time": "2023-08-13T06:17:12.531442",
     "exception": false,
     "start_time": "2023-08-13T06:17:12.404667",
     "status": "completed"
    },
    "tags": []
   },
   "outputs": [],
   "source": [
    "# Try 'submit_v4' function with default params (LogisticRegression model)  \n",
    "\n",
    "# submit_v4()\n",
    "\n",
    "#Default params to this function gave a score of 0.8259 - improvement over previous score of 0.82563!"
   ]
  },
  {
   "cell_type": "code",
   "execution_count": 135,
   "id": "cc18c689",
   "metadata": {
    "execution": {
     "iopub.execute_input": "2023-08-13T06:17:12.766156Z",
     "iopub.status.busy": "2023-08-13T06:17:12.764918Z",
     "iopub.status.idle": "2023-08-13T06:17:12.770610Z",
     "shell.execute_reply": "2023-08-13T06:17:12.769149Z"
    },
    "papermill": {
     "duration": 0.125468,
     "end_time": "2023-08-13T06:17:12.773145",
     "exception": false,
     "start_time": "2023-08-13T06:17:12.647677",
     "status": "completed"
    },
    "tags": []
   },
   "outputs": [],
   "source": [
    "# Try out GridSearchCV on \"submit_v4\" function with param_grid  \n",
    "# param_grid = {\n",
    "#     \"model__C\": [0.1, 1, 5, 10]\n",
    "# }\n",
    "\n",
    "# submit_v4(selected_features={'txt': ['genre']}, param_grid=param_grid)"
   ]
  },
  {
   "cell_type": "markdown",
   "id": "9f03b200",
   "metadata": {
    "papermill": {
     "duration": 0.113933,
     "end_time": "2023-08-13T06:17:13.001914",
     "exception": false,
     "start_time": "2023-08-13T06:17:12.887981",
     "status": "completed"
    },
    "tags": []
   },
   "source": [
    "### Try LinearSVC with GridSearchCV  "
   ]
  },
  {
   "cell_type": "code",
   "execution_count": 136,
   "id": "b7bedd4c",
   "metadata": {
    "execution": {
     "iopub.execute_input": "2023-08-13T06:17:13.239014Z",
     "iopub.status.busy": "2023-08-13T06:17:13.238243Z",
     "iopub.status.idle": "2023-08-13T06:17:13.242534Z",
     "shell.execute_reply": "2023-08-13T06:17:13.241706Z"
    },
    "papermill": {
     "duration": 0.125748,
     "end_time": "2023-08-13T06:17:13.244753",
     "exception": false,
     "start_time": "2023-08-13T06:17:13.119005",
     "status": "completed"
    },
    "tags": []
   },
   "outputs": [],
   "source": [
    "# all_dict = {'cat': [\"isFrequentReviewer\", \"rating\", \"originalLanguage\"],\n",
    "#              'num': [\"audienceScore\", \"runtimeMinutes\", \"boxOffice\"],\n",
    "#              'txt': ['reviewText', 'reviewerName', 'movieid', 'genre', 'director']}\n",
    "\n",
    "# param_grid_svc = {\n",
    "#     \"model__C\": [0.1, 1, 10, 100]\n",
    "# }\n",
    "# param_grid_svc"
   ]
  },
  {
   "cell_type": "code",
   "execution_count": 137,
   "id": "17b19222",
   "metadata": {
    "execution": {
     "iopub.execute_input": "2023-08-13T06:17:13.482239Z",
     "iopub.status.busy": "2023-08-13T06:17:13.481471Z",
     "iopub.status.idle": "2023-08-13T06:17:13.485982Z",
     "shell.execute_reply": "2023-08-13T06:17:13.485184Z"
    },
    "papermill": {
     "duration": 0.12492,
     "end_time": "2023-08-13T06:17:13.488155",
     "exception": false,
     "start_time": "2023-08-13T06:17:13.363235",
     "status": "completed"
    },
    "tags": []
   },
   "outputs": [],
   "source": [
    "# LinearSCV on single feature  \n",
    "\n",
    "# submit_v4(selected_model=LinearSVC(max_iter=100000, random_state=42), selected_features={'num': [\"audienceScore\"]}, param_grid=param_grid_svc)\n",
    "\n",
    "# Comment: LinearSVC even on single column feature set takes too long to converge."
   ]
  },
  {
   "cell_type": "code",
   "execution_count": 138,
   "id": "b7e55549",
   "metadata": {
    "execution": {
     "iopub.execute_input": "2023-08-13T06:17:13.722768Z",
     "iopub.status.busy": "2023-08-13T06:17:13.722032Z",
     "iopub.status.idle": "2023-08-13T06:17:13.726306Z",
     "shell.execute_reply": "2023-08-13T06:17:13.725335Z"
    },
    "papermill": {
     "duration": 0.123546,
     "end_time": "2023-08-13T06:17:13.728511",
     "exception": false,
     "start_time": "2023-08-13T06:17:13.604965",
     "status": "completed"
    },
    "tags": []
   },
   "outputs": [],
   "source": [
    "# LinearSCV on all available features\n",
    "\n",
    "# submit_v4(selected_model=LinearSVC(max_iter=100000, random_state=42), selected_features=all_dict, param_grid=param_grid_svc)\n",
    "\n",
    "# (Update): This took 66 mins to run and gave a public score of 0.84295 (lesser than logreg gridsearchcv wwhich gave 0.84441). Best C was 1.0.\n"
   ]
  },
  {
   "cell_type": "markdown",
   "id": "e472ce75",
   "metadata": {
    "papermill": {
     "duration": 0.118516,
     "end_time": "2023-08-13T06:17:13.966437",
     "exception": false,
     "start_time": "2023-08-13T06:17:13.847921",
     "status": "completed"
    },
    "tags": []
   },
   "source": [
    "### Boosting techniques  "
   ]
  },
  {
   "cell_type": "code",
   "execution_count": 139,
   "id": "c0ee6ff4",
   "metadata": {
    "execution": {
     "iopub.execute_input": "2023-08-13T06:17:14.204142Z",
     "iopub.status.busy": "2023-08-13T06:17:14.203400Z",
     "iopub.status.idle": "2023-08-13T06:17:14.207665Z",
     "shell.execute_reply": "2023-08-13T06:17:14.206524Z"
    },
    "papermill": {
     "duration": 0.125411,
     "end_time": "2023-08-13T06:17:14.210021",
     "exception": false,
     "start_time": "2023-08-13T06:17:14.084610",
     "status": "completed"
    },
    "tags": []
   },
   "outputs": [],
   "source": [
    "# adc = AdaBoostClassifier(estimator=LogisticRegression(C=5, solver=\"saga\", max_iter=100000), n_estimators=50)\n",
    "# adc"
   ]
  },
  {
   "cell_type": "code",
   "execution_count": 140,
   "id": "95b2ac25",
   "metadata": {
    "execution": {
     "iopub.execute_input": "2023-08-13T06:17:14.449069Z",
     "iopub.status.busy": "2023-08-13T06:17:14.448264Z",
     "iopub.status.idle": "2023-08-13T06:17:14.452950Z",
     "shell.execute_reply": "2023-08-13T06:17:14.452189Z"
    },
    "papermill": {
     "duration": 0.127479,
     "end_time": "2023-08-13T06:17:14.455046",
     "exception": false,
     "start_time": "2023-08-13T06:17:14.327567",
     "status": "completed"
    },
    "tags": []
   },
   "outputs": [],
   "source": [
    "# submit_v4(selected_model=adc, selected_features={'num': [\"audienceScore\"]}, param_grid=None)"
   ]
  },
  {
   "cell_type": "code",
   "execution_count": 141,
   "id": "55d2eecf",
   "metadata": {
    "execution": {
     "iopub.execute_input": "2023-08-13T06:17:14.694638Z",
     "iopub.status.busy": "2023-08-13T06:17:14.693887Z",
     "iopub.status.idle": "2023-08-13T06:17:14.698349Z",
     "shell.execute_reply": "2023-08-13T06:17:14.697287Z"
    },
    "papermill": {
     "duration": 0.128209,
     "end_time": "2023-08-13T06:17:14.700954",
     "exception": false,
     "start_time": "2023-08-13T06:17:14.572745",
     "status": "completed"
    },
    "tags": []
   },
   "outputs": [],
   "source": [
    "# submit_v4(selected_model=adc, selected_features=all_dict, param_grid=None)\n",
    "\n",
    "# Took 1 hour 15 mins to run and gave a public score of only 0.71089. Discarded."
   ]
  },
  {
   "cell_type": "markdown",
   "id": "cea603c7",
   "metadata": {
    "papermill": {
     "duration": 0.117612,
     "end_time": "2023-08-13T06:17:15.028834",
     "exception": false,
     "start_time": "2023-08-13T06:17:14.911222",
     "status": "completed"
    },
    "tags": []
   },
   "source": [
    "### LightGBM  "
   ]
  },
  {
   "cell_type": "code",
   "execution_count": 142,
   "id": "4eeea19f",
   "metadata": {
    "execution": {
     "iopub.execute_input": "2023-08-13T06:17:15.267849Z",
     "iopub.status.busy": "2023-08-13T06:17:15.267103Z",
     "iopub.status.idle": "2023-08-13T06:17:15.270983Z",
     "shell.execute_reply": "2023-08-13T06:17:15.270216Z"
    },
    "papermill": {
     "duration": 0.127181,
     "end_time": "2023-08-13T06:17:15.273303",
     "exception": false,
     "start_time": "2023-08-13T06:17:15.146122",
     "status": "completed"
    },
    "tags": []
   },
   "outputs": [],
   "source": [
    "# lgb = ltb.LGBMClassifier()\n",
    "# lgb"
   ]
  },
  {
   "cell_type": "code",
   "execution_count": 143,
   "id": "24589c05",
   "metadata": {
    "execution": {
     "iopub.execute_input": "2023-08-13T06:17:15.509721Z",
     "iopub.status.busy": "2023-08-13T06:17:15.508992Z",
     "iopub.status.idle": "2023-08-13T06:17:15.513461Z",
     "shell.execute_reply": "2023-08-13T06:17:15.512407Z"
    },
    "papermill": {
     "duration": 0.124863,
     "end_time": "2023-08-13T06:17:15.515823",
     "exception": false,
     "start_time": "2023-08-13T06:17:15.390960",
     "status": "completed"
    },
    "tags": []
   },
   "outputs": [],
   "source": [
    "# Try LightGBM with default settings\n",
    "# (Update): Public score only 0.77713. It was fast, took less than 5 mins (without GridSearchCV)\n",
    "\n",
    "# submit_v4(selected_model=ltb.LGBMClassifier(), selected_features=all_dict, param_grid=None)"
   ]
  },
  {
   "cell_type": "markdown",
   "id": "a1461316",
   "metadata": {
    "papermill": {
     "duration": 0.118095,
     "end_time": "2023-08-13T06:17:15.755395",
     "exception": false,
     "start_time": "2023-08-13T06:17:15.637300",
     "status": "completed"
    },
    "tags": []
   },
   "source": [
    "## Feature Engineering"
   ]
  },
  {
   "cell_type": "markdown",
   "id": "7619b89f",
   "metadata": {
    "papermill": {
     "duration": 0.115198,
     "end_time": "2023-08-13T06:17:15.988139",
     "exception": false,
     "start_time": "2023-08-13T06:17:15.872941",
     "status": "completed"
    },
    "tags": []
   },
   "source": [
    "### Plan  \n",
    "* Add a new column 'reviewWC' which has word count of 'reviewText'  \n",
    "    * Check if there is any relationship between 'reviewWC' and 'sentiment'\n",
    "* Work on vocabulary\n",
    "     * Use TfidfVectorizer and find out the vocabulary of 'reviewText' column for various ngrams\n",
    "     * Use RecursiveFeatureElimination (RFE) or RFECV to select 1000 top words/vocab for each ngram\n",
    "     * Use the final vocab (1000-3000 words) in the model and see how it performs compared to whole vocab\n",
    "\n",
    "`(Update): Code incorporated into the \"select_features\" function  `  \n",
    "`(Update): Many other new features incorporated into the \"select_features\" function too  `  \n",
    "\n"
   ]
  },
  {
   "cell_type": "markdown",
   "id": "c2ed743b",
   "metadata": {
    "papermill": {
     "duration": 0.116312,
     "end_time": "2023-08-13T06:17:16.223672",
     "exception": false,
     "start_time": "2023-08-13T06:17:16.107360",
     "status": "completed"
    },
    "tags": []
   },
   "source": [
    "# Back to vocab after success of version 63  "
   ]
  },
  {
   "cell_type": "code",
   "execution_count": 144,
   "id": "7bc590ce",
   "metadata": {
    "execution": {
     "iopub.execute_input": "2023-08-13T06:17:16.456660Z",
     "iopub.status.busy": "2023-08-13T06:17:16.456043Z",
     "iopub.status.idle": "2023-08-13T06:17:16.477484Z",
     "shell.execute_reply": "2023-08-13T06:17:16.476300Z"
    },
    "papermill": {
     "duration": 0.142157,
     "end_time": "2023-08-13T06:17:16.480392",
     "exception": false,
     "start_time": "2023-08-13T06:17:16.338235",
     "status": "completed"
    },
    "tags": []
   },
   "outputs": [],
   "source": [
    "def submit_v4(selected_model=LogisticRegression(C=1, solver='liblinear', max_iter=100000), \n",
    "              selected_features={'txt': ['reviewText']}, \n",
    "              param_grid=None,\n",
    "              vocab=None,\n",
    "              vocab_usage='tfidf',\n",
    "              strip_accents='unicode', \n",
    "              add_countvec=False):\n",
    "    \n",
    "    print(\"\\nRunning the submit_v4 function...\")\n",
    "    \n",
    "    # Fine tune selected_features\n",
    "    if add_countvec:\n",
    "        if 'txt' in selected_features.keys():\n",
    "            if \"reviewText_2\" not in selected_features['txt']:\n",
    "                selected_features['txt'].append('reviewText_2')\n",
    "    if vocab:\n",
    "        if 'txt' in selected_features.keys():\n",
    "            if \"reviewText_3\" not in selected_features['txt']:\n",
    "                selected_features['txt'].append('reviewText_3')\n",
    "    print(f\"\\nSelected features: {selected_features}\")\n",
    "\n",
    "    \n",
    "    \n",
    "    # Build Pipeline\n",
    "    pipe = build_pipeline(selected_model, selected_features, param_grid=param_grid, \n",
    "                          vocab=vocab, vocab_usage='tfidf', \n",
    "                          strip_accents=strip_accents, add_countvec=add_countvec)\n",
    "    print(pipe)\n",
    "\n",
    "    \n",
    "    \n",
    "    # Features list\n",
    "    features = []\n",
    "    for item in selected_features.values():\n",
    "        features.extend(item)\n",
    " \n",
    "\n",
    "    # Merge and preprocess train and movies data  \n",
    "    merged = select_features(load_csv(\"train\"), load_csv(\"movies\"), row_thresh_null=None)    # Decide if you want to drop any rows containing lot of nulls\n",
    "    # Impute missing numerical values  \n",
    "    # Simple Imputer for ['audienceScore', 'runtimeMinutes', 'boxOffice'] and 'releaseDate' columns\n",
    "    si = SimpleImputer(strategy='median')\n",
    "    merged[['audienceScore', 'runtimeMinutes', 'boxOffice']] = si.fit_transform(merged[['audienceScore', 'runtimeMinutes', 'boxOffice']])\n",
    "    merged['releaseDate'] = merged[\"releaseDate\"].fillna(merged[\"releaseDate\"].median())    \n",
    "    # Add new columns as needed  \n",
    "    if add_countvec:\n",
    "        merged['reviewText_2'] = merged['reviewText']\n",
    "    if vocab:\n",
    "        merged['reviewText_3'] = merged['reviewText']\n",
    "        \n",
    "    X_train = merged.drop(labels=\"sentiment\", axis=1)\n",
    "    y_train = merged[\"sentiment\"]\n",
    "\n",
    "    X_train = X_train[features]\n",
    "    \n",
    "    \n",
    "    # Check1\n",
    "    print(\"\\nCheck 1 complete.\")\n",
    "    print(f\"Shape of X_train: {X_train.shape}\")\n",
    "    print(f\"Features in X_train: {X_train.columns}\")\n",
    "#     print(X_train.head())\n",
    "    \n",
    "    \n",
    "    # Fit \n",
    "    print(\"\\nTraining started with full pipeline...\")\n",
    "    pipe.fit(X_train, y_train)\n",
    "    \n",
    "    # Check2\n",
    "    print(\"\\nCheck 2 complete.\")\n",
    "    print(\"Details of the best model using full pipeline (GridSearchCV) on X_train: \")\n",
    "    print(f\"Best Params: {pipe.best_params_}\")\n",
    "    print(f\"Best Score: {pipe.best_score_}\")\n",
    "    \n",
    "    print(predict_on_missing_review_data(pipe, features, merged))    # Function defined above\n",
    "    \n",
    "        \n",
    "    # Predict on test.csv file\n",
    "    \n",
    "    # Merge and preprocess test and movies data  \n",
    "    merged_test = select_features(load_csv(\"test\"), load_csv(\"movies\"))\n",
    "    # Transform ['audienceScore', 'runtimeMinutes', 'boxOffice'] columns in merged_test using 'si' fitted on 'merged' df  \n",
    "    merged_test[['audienceScore', 'runtimeMinutes', 'boxOffice']] = si.transform(merged_test[['audienceScore', 'runtimeMinutes', 'boxOffice']])\n",
    "    # Fill 'releaseDate' column in 'merged_test' df with median from the train (merged) df  \n",
    "    merged_test['releaseDate'] = merged_test[\"releaseDate\"].fillna(merged[\"releaseDate\"].median())\n",
    "    # Add new columns as needed \n",
    "    if add_countvec:\n",
    "        merged_test['reviewText_2'] = merged_test['reviewText']\n",
    "    if vocab:\n",
    "        merged_test['reviewText_3'] = merged_test['reviewText']\n",
    "        \n",
    "    X_test = merged_test.copy()\n",
    "\n",
    "    X_test = X_test[features]\n",
    "    \n",
    "    \n",
    "    # Check3\n",
    "    print(\"\\nCheck 3 complete.\")\n",
    "    print(f\"Shape of X_test: {X_test.shape}\")\n",
    "    print(f\"Features in X_test: {X_test.columns}\")\n",
    "#     print(X_test.head())\n",
    "    \n",
    "    y_pred = pipe.predict(X_test)\n",
    "    \n",
    "    # Check4\n",
    "    print(\"\\nCheck 4 complete.\")\n",
    "#     cv_results_df = pd.DataFrame(pipe.cv_results_)\n",
    "    print(\"Details of the best model using full pipeline (GridSearchCV) on X_train: \")\n",
    "    print(f\"Best Estimator: {pipe.best_estimator_}\")\n",
    "    print(f\"Best Params: {pipe.best_params_}\")\n",
    "    print(f\"Best Score: {pipe.best_score_}\")\n",
    "    print(f\"Best Index: {pipe.best_index_}\")\n",
    "    print(f\"Refit Time: {pipe.refit_time_}\")\n",
    "#     print(f\"Shape of CV results dataframe: {cv_results_df.shape}\")\n",
    "    \n",
    "    pred_df = pd.DataFrame(y_pred)\n",
    "    pred_df.columns = [\"sentiment\"]\n",
    "    pred_df.index.name = \"id\"\n",
    "    pred_df.to_csv(\"submission.csv\")\n",
    "    \n",
    "    print(\"\\nSuccessfully created the submission file!!!\")\n",
    "    \n",
    "    return pipe.cv_results_"
   ]
  },
  {
   "cell_type": "code",
   "execution_count": 145,
   "id": "8870ee1f",
   "metadata": {
    "execution": {
     "iopub.execute_input": "2023-08-13T06:17:16.722030Z",
     "iopub.status.busy": "2023-08-13T06:17:16.721336Z",
     "iopub.status.idle": "2023-08-13T06:17:16.728952Z",
     "shell.execute_reply": "2023-08-13T06:17:16.727820Z"
    },
    "papermill": {
     "duration": 0.13271,
     "end_time": "2023-08-13T06:17:16.731264",
     "exception": false,
     "start_time": "2023-08-13T06:17:16.598554",
     "status": "completed"
    },
    "tags": []
   },
   "outputs": [
    {
     "data": {
      "text/plain": [
       "Index(['movieid', 'reviewerName', 'isFrequentReviewer', 'reviewText',\n",
       "       'sentiment', 'title', 'audienceScore', 'rating', 'ratingContents',\n",
       "       'releaseDateTheaters', 'releaseDateStreaming', 'runtimeMinutes',\n",
       "       'genre', 'originalLanguage', 'director', 'boxOffice', 'distributor',\n",
       "       'soundType', 'reviewYN', 'reviewWC', 'genreSorted', 'rcSorted',\n",
       "       'releaseDate', 'releaseYear', 'releaseMonth', 'releaseDiff'],\n",
       "      dtype='object')"
      ]
     },
     "execution_count": 145,
     "metadata": {},
     "output_type": "execute_result"
    }
   ],
   "source": [
    "merged.columns"
   ]
  },
  {
   "cell_type": "code",
   "execution_count": 146,
   "id": "2223c5c0",
   "metadata": {
    "execution": {
     "iopub.execute_input": "2023-08-13T06:17:16.975202Z",
     "iopub.status.busy": "2023-08-13T06:17:16.974419Z",
     "iopub.status.idle": "2023-08-13T06:17:16.985621Z",
     "shell.execute_reply": "2023-08-13T06:17:16.984749Z"
    },
    "papermill": {
     "duration": 0.134575,
     "end_time": "2023-08-13T06:17:16.988188",
     "exception": false,
     "start_time": "2023-08-13T06:17:16.853613",
     "status": "completed"
    },
    "tags": []
   },
   "outputs": [],
   "source": [
    "# Best #2\n",
    "v80_dict = {'cat': ['isFrequentReviewer', 'audScoreBins', 'boxOfficeBins'], \n",
    "                  'txt': ['reviewText', 'reviewerName', 'movieid', 'genre', 'director', \n",
    "                          'ratingContents', 'distributor']}\n",
    "# Best #1\n",
    "v88_dict = {'cat': ['isFrequentReviewer', 'audScoreBins', 'boxOfficeBins'],\n",
    "            'num': ['releaseDiff'],\n",
    "            'txt': ['reviewText', 'reviewerName', 'movieid', 'genre', 'director', \n",
    "                         'ratingContents', 'distributor']}\n",
    "\n",
    "v92_dict = {'cat': ['isFrequentReviewer', 'audScoreBins', 'boxOfficeBins', 'releaseDiffBins'],\n",
    "            'txt': ['reviewText', 'reviewerName', 'title', 'genre', 'director', \n",
    "                         'ratingContents', 'distributor']}\n",
    "\n",
    "# Best univariable datapoints dict\n",
    "best_uni_dict = {'cat': [\"isFrequentReviewer\", \"audScoreBins\"],\n",
    "                 'txt': ['reviewText','movieid', 'director', \"ratingContents\"]}\n",
    "\n",
    "# param_grids for LogisticRegression  \n",
    "\n",
    "# Best #1  \n",
    "# param_grid = {\n",
    "#     'model__C' : [1],\n",
    "#     'model__solver': ['saga'],\n",
    "#     \"model__fit_intercept\" : [True],\n",
    "#     \"model__dual\" : [False]\n",
    "#     }\n",
    "\n",
    "# working\n",
    "param_grid = {\n",
    "    'model__C' : [1],\n",
    "    'model__solver': ['saga'],\n",
    "    \"model__fit_intercept\" : [True],\n",
    "    \"model__dual\" : [False],\n",
    "#     \"model__class_weight\": ['balanced', None]\n",
    "}\n",
    "\n",
    "\n",
    "# param_grids for LinearSVC  \n",
    "\n",
    "# param_grid = {\n",
    "#     'model__C' : [1, 10, 20],\n",
    "#     'model__loss': ['hinge', 'squared_hinge'],\n",
    "#     \"model__fit_intercept\" : [True, False],\n",
    "# #     \"model__dual\" : [True, False] \n",
    "# }\n",
    "\n",
    "svm = LinearSVC(max_iter=10000, random_state=42)    # LinearSVC\n",
    "\n",
    "\n",
    "# Local testing\n",
    "# selected_mov = {'num': ['audienceScore', 'boxOffice', 'releaseDiff'], \n",
    "#                 'txt': ['movieid', 'genre', 'director', \n",
    "#                          'ratingContents', 'distributor']}\n",
    "# results = submit_v4(\n",
    "#             selected_features={'num': ['boxOffice']},\n",
    "#             add_countvec=False,\n",
    "#             vocab=None,\n",
    "#             vocab_usage='tfidf',\n",
    "#             param_grid=param_grid\n",
    "#          )\n",
    "\n",
    "# results = submit_v4(selected_model = DummyClassifier(strategy='constant', constant='NEGATIVE'),\n",
    "#             selected_features={'num': ['boxOffice']},\n",
    "#             add_countvec=False,\n",
    "#             vocab=None,\n",
    "#             vocab_usage='tfidf',\n",
    "#             param_grid={'model__strategy' : ['constant']}\n",
    "#          )\n",
    "\n",
    "# Main submission\n",
    "\n",
    "# results = submit_v4(\n",
    "#     selected_features=v88_dict,\n",
    "#     add_countvec=False,\n",
    "#     vocab=common_1_2_3_grams,\n",
    "#     vocab_usage='tfidf',\n",
    "#     param_grid=param_grid\n",
    "#     )\n",
    "\n",
    "# results"
   ]
  },
  {
   "cell_type": "markdown",
   "id": "ab5a12e7",
   "metadata": {
    "papermill": {
     "duration": 0.117285,
     "end_time": "2023-08-13T06:17:17.223052",
     "exception": false,
     "start_time": "2023-08-13T06:17:17.105767",
     "status": "completed"
    },
    "tags": []
   },
   "source": [
    "### ratingContents analysis  "
   ]
  },
  {
   "cell_type": "code",
   "execution_count": 147,
   "id": "e88b848c",
   "metadata": {
    "execution": {
     "iopub.execute_input": "2023-08-13T06:17:17.460345Z",
     "iopub.status.busy": "2023-08-13T06:17:17.459825Z",
     "iopub.status.idle": "2023-08-13T06:17:17.464998Z",
     "shell.execute_reply": "2023-08-13T06:17:17.463797Z"
    },
    "papermill": {
     "duration": 0.126289,
     "end_time": "2023-08-13T06:17:17.467533",
     "exception": false,
     "start_time": "2023-08-13T06:17:17.341244",
     "status": "completed"
    },
    "tags": []
   },
   "outputs": [],
   "source": [
    "# Try string split  \n",
    "# s = \"comedy, animation, adventure, fantasy\"\n",
    "# (\",\").join(sorted(s.split(\", \")))"
   ]
  },
  {
   "cell_type": "code",
   "execution_count": 148,
   "id": "b65c963c",
   "metadata": {
    "execution": {
     "iopub.execute_input": "2023-08-13T06:17:17.704210Z",
     "iopub.status.busy": "2023-08-13T06:17:17.703405Z",
     "iopub.status.idle": "2023-08-13T06:17:17.708650Z",
     "shell.execute_reply": "2023-08-13T06:17:17.707739Z"
    },
    "papermill": {
     "duration": 0.124474,
     "end_time": "2023-08-13T06:17:17.710987",
     "exception": false,
     "start_time": "2023-08-13T06:17:17.586513",
     "status": "completed"
    },
    "tags": []
   },
   "outputs": [],
   "source": [
    "# ratingContents_analysis = merged[[\"ratingContents\", \"sentiment\"]].copy()\n",
    "# print(ratingContents_analysis.head())\n",
    "# ratingContents_analysis[\"rcSorted\"] = ratingContents_analysis[\"ratingContents\"].apply(lambda x: (\",\").join(sorted(x.strip(\"][\").split(\", \"))))\n",
    "# ratingContents_analysis[\"rcSorted\"] = ratingContents_analysis[\"rcSorted\"].apply(lambda x: re.sub(r\"'\", \"\", x))\n",
    "# ratingContents_analysis[\"rcSorted\"] = ratingContents_analysis[\"rcSorted\"].apply(lambda x: re.sub(r\"[/\\s]\", \"_\", x))\n",
    "# ratingContents_analysis.head(10)"
   ]
  },
  {
   "cell_type": "code",
   "execution_count": 149,
   "id": "5125fd64",
   "metadata": {
    "execution": {
     "iopub.execute_input": "2023-08-13T06:17:17.949221Z",
     "iopub.status.busy": "2023-08-13T06:17:17.948766Z",
     "iopub.status.idle": "2023-08-13T06:17:17.953448Z",
     "shell.execute_reply": "2023-08-13T06:17:17.952206Z"
    },
    "papermill": {
     "duration": 0.126412,
     "end_time": "2023-08-13T06:17:17.955882",
     "exception": false,
     "start_time": "2023-08-13T06:17:17.829470",
     "status": "completed"
    },
    "tags": []
   },
   "outputs": [],
   "source": [
    "# cvec_rc = CountVectorizer(ngram_range=(1,1))\n",
    "# cvec_rc.fit(ratingContents_analysis['rcSorted'])\n",
    "# # len(cvec_rc.vocabulary_), cvec_rc.vocabulary_"
   ]
  },
  {
   "cell_type": "code",
   "execution_count": 150,
   "id": "ef81f1fc",
   "metadata": {
    "execution": {
     "iopub.execute_input": "2023-08-13T06:17:18.192107Z",
     "iopub.status.busy": "2023-08-13T06:17:18.191688Z",
     "iopub.status.idle": "2023-08-13T06:17:18.197314Z",
     "shell.execute_reply": "2023-08-13T06:17:18.196160Z"
    },
    "papermill": {
     "duration": 0.125493,
     "end_time": "2023-08-13T06:17:18.199592",
     "exception": false,
     "start_time": "2023-08-13T06:17:18.074099",
     "status": "completed"
    },
    "tags": []
   },
   "outputs": [],
   "source": [
    "# genre_testing = cvec_g.transform(merged[\"genre\"])\n",
    "# print(genre_testing)"
   ]
  },
  {
   "cell_type": "markdown",
   "id": "b3ef69c8",
   "metadata": {
    "papermill": {
     "duration": 0.117439,
     "end_time": "2023-08-13T06:17:18.432505",
     "exception": false,
     "start_time": "2023-08-13T06:17:18.315066",
     "status": "completed"
    },
    "tags": []
   },
   "source": [
    "## Statistical tests  "
   ]
  },
  {
   "cell_type": "markdown",
   "id": "f82a0213",
   "metadata": {
    "papermill": {
     "duration": 0.118792,
     "end_time": "2023-08-13T06:17:18.668189",
     "exception": false,
     "start_time": "2023-08-13T06:17:18.549397",
     "status": "completed"
    },
    "tags": []
   },
   "source": [
    "[Go to genre](#genre_analysis)"
   ]
  },
  {
   "cell_type": "code",
   "execution_count": 151,
   "id": "0d7b1724",
   "metadata": {
    "execution": {
     "iopub.execute_input": "2023-08-13T06:17:18.906284Z",
     "iopub.status.busy": "2023-08-13T06:17:18.905749Z",
     "iopub.status.idle": "2023-08-13T06:17:18.912002Z",
     "shell.execute_reply": "2023-08-13T06:17:18.910586Z"
    },
    "papermill": {
     "duration": 0.128788,
     "end_time": "2023-08-13T06:17:18.914982",
     "exception": false,
     "start_time": "2023-08-13T06:17:18.786194",
     "status": "completed"
    },
    "tags": []
   },
   "outputs": [],
   "source": [
    "# print(merged['boxOffice'].head())\n",
    "# merged[\"boxOffice\"].describe()"
   ]
  },
  {
   "cell_type": "code",
   "execution_count": 152,
   "id": "03f6280c",
   "metadata": {
    "execution": {
     "iopub.execute_input": "2023-08-13T06:17:19.158686Z",
     "iopub.status.busy": "2023-08-13T06:17:19.157026Z",
     "iopub.status.idle": "2023-08-13T06:17:19.164326Z",
     "shell.execute_reply": "2023-08-13T06:17:19.162809Z"
    },
    "papermill": {
     "duration": 0.133277,
     "end_time": "2023-08-13T06:17:19.169636",
     "exception": false,
     "start_time": "2023-08-13T06:17:19.036359",
     "status": "completed"
    },
    "tags": []
   },
   "outputs": [],
   "source": [
    "# Function for independent samples t-test on numerical columns  \n",
    "# def ttest_ind(feature):\n",
    "#     pos_grp = merged[feature].loc[merged['sentiment'] == \"POSITIVE\"]\n",
    "#     neg_grp = merged[feature].loc[merged['sentiment'] == \"NEGATIVE\"]\n",
    "\n",
    "#     print(pos_grp.shape, neg_grp.shape)\n",
    "#     print(pos_grp.describe(), neg_grp.describe())\n",
    "\n",
    "#     return stats.ttest_ind(pos_grp, neg_grp)"
   ]
  },
  {
   "cell_type": "code",
   "execution_count": 153,
   "id": "047b2b92",
   "metadata": {
    "execution": {
     "iopub.execute_input": "2023-08-13T06:17:19.437139Z",
     "iopub.status.busy": "2023-08-13T06:17:19.436654Z",
     "iopub.status.idle": "2023-08-13T06:17:19.442535Z",
     "shell.execute_reply": "2023-08-13T06:17:19.440891Z"
    },
    "papermill": {
     "duration": 0.134386,
     "end_time": "2023-08-13T06:17:19.445684",
     "exception": false,
     "start_time": "2023-08-13T06:17:19.311298",
     "status": "completed"
    },
    "tags": []
   },
   "outputs": [],
   "source": [
    "# ttest_ind('boxOffice')"
   ]
  },
  {
   "cell_type": "code",
   "execution_count": 154,
   "id": "1ed42dab",
   "metadata": {
    "execution": {
     "iopub.execute_input": "2023-08-13T06:17:19.695887Z",
     "iopub.status.busy": "2023-08-13T06:17:19.695225Z",
     "iopub.status.idle": "2023-08-13T06:17:19.699919Z",
     "shell.execute_reply": "2023-08-13T06:17:19.698992Z"
    },
    "papermill": {
     "duration": 0.130479,
     "end_time": "2023-08-13T06:17:19.702316",
     "exception": false,
     "start_time": "2023-08-13T06:17:19.571837",
     "status": "completed"
    },
    "tags": []
   },
   "outputs": [],
   "source": [
    "# ttest_ind('runtimeMinutes')"
   ]
  },
  {
   "cell_type": "code",
   "execution_count": 155,
   "id": "8b21cde1",
   "metadata": {
    "execution": {
     "iopub.execute_input": "2023-08-13T06:17:19.945311Z",
     "iopub.status.busy": "2023-08-13T06:17:19.944628Z",
     "iopub.status.idle": "2023-08-13T06:17:19.950611Z",
     "shell.execute_reply": "2023-08-13T06:17:19.949477Z"
    },
    "papermill": {
     "duration": 0.131335,
     "end_time": "2023-08-13T06:17:19.953428",
     "exception": false,
     "start_time": "2023-08-13T06:17:19.822093",
     "status": "completed"
    },
    "tags": []
   },
   "outputs": [],
   "source": [
    "# ttest_ind('audienceScore')"
   ]
  },
  {
   "cell_type": "code",
   "execution_count": 156,
   "id": "0b3852c8",
   "metadata": {
    "execution": {
     "iopub.execute_input": "2023-08-13T06:17:20.197717Z",
     "iopub.status.busy": "2023-08-13T06:17:20.197318Z",
     "iopub.status.idle": "2023-08-13T06:17:20.202199Z",
     "shell.execute_reply": "2023-08-13T06:17:20.200999Z"
    },
    "papermill": {
     "duration": 0.129335,
     "end_time": "2023-08-13T06:17:20.205196",
     "exception": false,
     "start_time": "2023-08-13T06:17:20.075861",
     "status": "completed"
    },
    "tags": []
   },
   "outputs": [],
   "source": [
    "# sns.boxplot(x=merged['sentiment'], y=merged['boxOffice'])"
   ]
  },
  {
   "cell_type": "markdown",
   "id": "460afd18",
   "metadata": {
    "papermill": {
     "duration": 0.119674,
     "end_time": "2023-08-13T06:17:20.444076",
     "exception": false,
     "start_time": "2023-08-13T06:17:20.324402",
     "status": "completed"
    },
    "tags": []
   },
   "source": [
    "## <div id='genre_analysis'>Genre analysis</div>"
   ]
  },
  {
   "cell_type": "code",
   "execution_count": 157,
   "id": "0e376458",
   "metadata": {
    "execution": {
     "iopub.execute_input": "2023-08-13T06:17:20.690489Z",
     "iopub.status.busy": "2023-08-13T06:17:20.689805Z",
     "iopub.status.idle": "2023-08-13T06:17:20.694672Z",
     "shell.execute_reply": "2023-08-13T06:17:20.693737Z"
    },
    "papermill": {
     "duration": 0.130893,
     "end_time": "2023-08-13T06:17:20.697123",
     "exception": false,
     "start_time": "2023-08-13T06:17:20.566230",
     "status": "completed"
    },
    "tags": []
   },
   "outputs": [],
   "source": [
    "# genre_analysis = merged[[\"genre\", \"genreSorted\", \"sentiment\"]].copy()\n",
    "# # print(genre_analysis.head())\n",
    "# # genre_analysis[\"genre\"] = genre_analysis[\"genre\"].apply(lambda x: (\",\").join(sorted(x.split(\", \"))))\n",
    "# genre_analysis.head()"
   ]
  },
  {
   "cell_type": "code",
   "execution_count": 158,
   "id": "7437330f",
   "metadata": {
    "execution": {
     "iopub.execute_input": "2023-08-13T06:17:20.935260Z",
     "iopub.status.busy": "2023-08-13T06:17:20.934819Z",
     "iopub.status.idle": "2023-08-13T06:17:20.939986Z",
     "shell.execute_reply": "2023-08-13T06:17:20.938673Z"
    },
    "papermill": {
     "duration": 0.12861,
     "end_time": "2023-08-13T06:17:20.942276",
     "exception": false,
     "start_time": "2023-08-13T06:17:20.813666",
     "status": "completed"
    },
    "tags": []
   },
   "outputs": [],
   "source": [
    "# cvec_g = CountVectorizer(ngram_range=(1,3))\n",
    "# cvec_g.fit(genre_analysis['genre'])\n",
    "# # len(cvec_g.vocabulary_), cvec_g.vocabulary_"
   ]
  },
  {
   "cell_type": "code",
   "execution_count": 159,
   "id": "997b2438",
   "metadata": {
    "execution": {
     "iopub.execute_input": "2023-08-13T06:17:21.182151Z",
     "iopub.status.busy": "2023-08-13T06:17:21.181410Z",
     "iopub.status.idle": "2023-08-13T06:17:21.185686Z",
     "shell.execute_reply": "2023-08-13T06:17:21.184755Z"
    },
    "papermill": {
     "duration": 0.128035,
     "end_time": "2023-08-13T06:17:21.188616",
     "exception": false,
     "start_time": "2023-08-13T06:17:21.060581",
     "status": "completed"
    },
    "tags": []
   },
   "outputs": [],
   "source": [
    "# cvec_gSorted = CountVectorizer(ngram_range=(1,3))\n",
    "# cvec_gSorted.fit(genre_analysis['genreSorted'])\n",
    "# len(cvec_gSorted.vocabulary_), cvec_gSorted.vocabulary_"
   ]
  },
  {
   "cell_type": "code",
   "execution_count": 160,
   "id": "0c6fe74c",
   "metadata": {
    "execution": {
     "iopub.execute_input": "2023-08-13T06:17:21.506640Z",
     "iopub.status.busy": "2023-08-13T06:17:21.505950Z",
     "iopub.status.idle": "2023-08-13T06:17:21.510464Z",
     "shell.execute_reply": "2023-08-13T06:17:21.509499Z"
    },
    "papermill": {
     "duration": 0.127977,
     "end_time": "2023-08-13T06:17:21.513541",
     "exception": false,
     "start_time": "2023-08-13T06:17:21.385564",
     "status": "completed"
    },
    "tags": []
   },
   "outputs": [],
   "source": [
    "# genre_testing = cvec_g.transform(merged[\"genre\"])\n",
    "# # print(genre_testing)"
   ]
  },
  {
   "cell_type": "code",
   "execution_count": 161,
   "id": "c604c40d",
   "metadata": {
    "execution": {
     "iopub.execute_input": "2023-08-13T06:17:21.750984Z",
     "iopub.status.busy": "2023-08-13T06:17:21.750267Z",
     "iopub.status.idle": "2023-08-13T06:17:21.755390Z",
     "shell.execute_reply": "2023-08-13T06:17:21.754282Z"
    },
    "papermill": {
     "duration": 0.124583,
     "end_time": "2023-08-13T06:17:21.757744",
     "exception": false,
     "start_time": "2023-08-13T06:17:21.633161",
     "status": "completed"
    },
    "tags": []
   },
   "outputs": [],
   "source": [
    "# genre_counts_testing = merged[[\"genre\", \"sentiment\"]].copy()\n",
    "# genre_counts_testing[\"gCount\"] = genre_counts_testing.apply(lambda x: len(str(x[\"genre\"]).split()), axis=1)\n",
    "# genre_counts_testing"
   ]
  },
  {
   "cell_type": "code",
   "execution_count": 162,
   "id": "ccb57069",
   "metadata": {
    "execution": {
     "iopub.execute_input": "2023-08-13T06:17:21.993138Z",
     "iopub.status.busy": "2023-08-13T06:17:21.992702Z",
     "iopub.status.idle": "2023-08-13T06:17:21.997361Z",
     "shell.execute_reply": "2023-08-13T06:17:21.996289Z"
    },
    "papermill": {
     "duration": 0.123709,
     "end_time": "2023-08-13T06:17:21.999706",
     "exception": false,
     "start_time": "2023-08-13T06:17:21.875997",
     "status": "completed"
    },
    "tags": []
   },
   "outputs": [],
   "source": [
    "# sns.boxplot(y=genre_counts_testing[\"gCount\"], x=genre_counts_testing[\"sentiment\"])"
   ]
  },
  {
   "cell_type": "code",
   "execution_count": 163,
   "id": "78ca9afc",
   "metadata": {
    "execution": {
     "iopub.execute_input": "2023-08-13T06:17:22.246989Z",
     "iopub.status.busy": "2023-08-13T06:17:22.246446Z",
     "iopub.status.idle": "2023-08-13T06:17:22.252191Z",
     "shell.execute_reply": "2023-08-13T06:17:22.251062Z"
    },
    "papermill": {
     "duration": 0.138822,
     "end_time": "2023-08-13T06:17:22.254758",
     "exception": false,
     "start_time": "2023-08-13T06:17:22.115936",
     "status": "completed"
    },
    "tags": []
   },
   "outputs": [],
   "source": [
    "# sns.boxplot(y=merged[\"reviewWC\"], x=merged[\"sentiment\"])"
   ]
  },
  {
   "cell_type": "code",
   "execution_count": 164,
   "id": "01e9a407",
   "metadata": {
    "execution": {
     "iopub.execute_input": "2023-08-13T06:17:22.505730Z",
     "iopub.status.busy": "2023-08-13T06:17:22.504433Z",
     "iopub.status.idle": "2023-08-13T06:17:22.509745Z",
     "shell.execute_reply": "2023-08-13T06:17:22.508708Z"
    },
    "papermill": {
     "duration": 0.138105,
     "end_time": "2023-08-13T06:17:22.512258",
     "exception": false,
     "start_time": "2023-08-13T06:17:22.374153",
     "status": "completed"
    },
    "tags": []
   },
   "outputs": [],
   "source": [
    "# audienceScore bins\n",
    "# asc = merged[['audienceScore', 'sentiment']].copy()\n",
    "# asc.head()"
   ]
  },
  {
   "cell_type": "code",
   "execution_count": 165,
   "id": "8ad2e13e",
   "metadata": {
    "execution": {
     "iopub.execute_input": "2023-08-13T06:17:22.772276Z",
     "iopub.status.busy": "2023-08-13T06:17:22.770735Z",
     "iopub.status.idle": "2023-08-13T06:17:22.776338Z",
     "shell.execute_reply": "2023-08-13T06:17:22.775315Z"
    },
    "papermill": {
     "duration": 0.131568,
     "end_time": "2023-08-13T06:17:22.778796",
     "exception": false,
     "start_time": "2023-08-13T06:17:22.647228",
     "status": "completed"
    },
    "tags": []
   },
   "outputs": [],
   "source": [
    "# Binning numerical features  \n",
    "\n",
    "# print(merged[\"runtimeBins\"].value_counts())\n",
    "# sns.displot(merged[\"runtimeBins\"])"
   ]
  },
  {
   "cell_type": "code",
   "execution_count": 166,
   "id": "a567a143",
   "metadata": {
    "execution": {
     "iopub.execute_input": "2023-08-13T06:17:23.026194Z",
     "iopub.status.busy": "2023-08-13T06:17:23.025228Z",
     "iopub.status.idle": "2023-08-13T06:17:23.030365Z",
     "shell.execute_reply": "2023-08-13T06:17:23.029344Z"
    },
    "papermill": {
     "duration": 0.132037,
     "end_time": "2023-08-13T06:17:23.032814",
     "exception": false,
     "start_time": "2023-08-13T06:17:22.900777",
     "status": "completed"
    },
    "tags": []
   },
   "outputs": [],
   "source": [
    "# Chi-square test for isFrequentReviewer column and sentiment column   \n",
    "\n",
    "# contingency_table = pd.crosstab(traindf['isFrequentReviewer'], traindf['sentiment'])\n",
    "# print(contingency_table)\n",
    "# stats.chi2_contingency(contingency_table)"
   ]
  },
  {
   "cell_type": "markdown",
   "id": "95eba2fb",
   "metadata": {
    "papermill": {
     "duration": 0.120724,
     "end_time": "2023-08-13T06:17:23.272422",
     "exception": false,
     "start_time": "2023-08-13T06:17:23.151698",
     "status": "completed"
    },
    "tags": []
   },
   "source": [
    "## Baseline performance of 'reviewText' column  "
   ]
  },
  {
   "cell_type": "code",
   "execution_count": 167,
   "id": "8cac76e8",
   "metadata": {
    "execution": {
     "iopub.execute_input": "2023-08-13T06:17:23.506891Z",
     "iopub.status.busy": "2023-08-13T06:17:23.506311Z",
     "iopub.status.idle": "2023-08-13T06:17:23.509819Z",
     "shell.execute_reply": "2023-08-13T06:17:23.509057Z"
    },
    "papermill": {
     "duration": 0.123955,
     "end_time": "2023-08-13T06:17:23.512142",
     "exception": false,
     "start_time": "2023-08-13T06:17:23.388187",
     "status": "completed"
    },
    "tags": []
   },
   "outputs": [],
   "source": [
    "# rt_dict = {'txt': ['reviewText']}\n",
    "# rt_dict"
   ]
  },
  {
   "cell_type": "code",
   "execution_count": 168,
   "id": "25336e53",
   "metadata": {
    "execution": {
     "iopub.execute_input": "2023-08-13T06:17:23.745126Z",
     "iopub.status.busy": "2023-08-13T06:17:23.744715Z",
     "iopub.status.idle": "2023-08-13T06:17:23.749557Z",
     "shell.execute_reply": "2023-08-13T06:17:23.748453Z"
    },
    "papermill": {
     "duration": 0.123361,
     "end_time": "2023-08-13T06:17:23.752200",
     "exception": false,
     "start_time": "2023-08-13T06:17:23.628839",
     "status": "completed"
    },
    "tags": []
   },
   "outputs": [],
   "source": [
    "# submit_v4(selected_model=LogisticRegression(C=5, solver=\"saga\", max_iter=100000),\n",
    "#           selected_features=rt_dict,\n",
    "#           param_grid=None,\n",
    "#           vocab=None)"
   ]
  },
  {
   "cell_type": "markdown",
   "id": "af322eec",
   "metadata": {
    "papermill": {
     "duration": 0.119541,
     "end_time": "2023-08-13T06:17:23.987517",
     "exception": false,
     "start_time": "2023-08-13T06:17:23.867976",
     "status": "completed"
    },
    "tags": []
   },
   "source": [
    "## RFE  "
   ]
  },
  {
   "cell_type": "code",
   "execution_count": 169,
   "id": "90a75b99",
   "metadata": {
    "execution": {
     "iopub.execute_input": "2023-08-13T06:17:24.223866Z",
     "iopub.status.busy": "2023-08-13T06:17:24.223438Z",
     "iopub.status.idle": "2023-08-13T06:17:24.228890Z",
     "shell.execute_reply": "2023-08-13T06:17:24.227680Z"
    },
    "papermill": {
     "duration": 0.126834,
     "end_time": "2023-08-13T06:17:24.231605",
     "exception": false,
     "start_time": "2023-08-13T06:17:24.104771",
     "status": "completed"
    },
    "tags": []
   },
   "outputs": [],
   "source": [
    "# def fs_rfe(selector, text_df, labels, ngram_range=(1,1)):\n",
    "#     text_df_ngram = TfidfVectorizer(ngram_range=ngram_range, stop_words='english').fit_transform(text_df)\n",
    "#     print(\"text_df was vectorized using TF-IDF vectorizer with ngram_range: \", ngram_range)\n",
    "#     print(\"text_df.shape: \", text_df.shape)\n",
    "#     print(\"labels.shape: \", labels.shape)\n",
    "#     print(\"text_df_ngram.shape: \", text_df_ngram.shape)\n",
    "#     print()\n",
    "\n",
    "#     print(\"Starting RFE fit...\")\n",
    "#     selector.fit(text_df_ngram, labels)\n",
    "#     print(\"RFE fit complete.\\n\")\n",
    "    \n",
    "#     print(\"selector.n_features_: \", selector.n_features_)   \n",
    "#     print(\"selector.n_features_in_: \", selector.n_features_in_)\n",
    "#     print(\"selector.support_.shape: \", selector.support_.shape)\n",
    "\n",
    "#     return selector.support_"
   ]
  },
  {
   "cell_type": "markdown",
   "id": "402a7f6a",
   "metadata": {
    "papermill": {
     "duration": 0.119097,
     "end_time": "2023-08-13T06:17:24.470529",
     "exception": false,
     "start_time": "2023-08-13T06:17:24.351432",
     "status": "completed"
    },
    "tags": []
   },
   "source": [
    "`RFE for unigrams`  "
   ]
  },
  {
   "cell_type": "code",
   "execution_count": 170,
   "id": "67a146d5",
   "metadata": {
    "execution": {
     "iopub.execute_input": "2023-08-13T06:17:24.714581Z",
     "iopub.status.busy": "2023-08-13T06:17:24.713480Z",
     "iopub.status.idle": "2023-08-13T06:17:24.718485Z",
     "shell.execute_reply": "2023-08-13T06:17:24.717612Z"
    },
    "papermill": {
     "duration": 0.131665,
     "end_time": "2023-08-13T06:17:24.720644",
     "exception": false,
     "start_time": "2023-08-13T06:17:24.588979",
     "status": "completed"
    },
    "tags": []
   },
   "outputs": [],
   "source": [
    "# estimator_rfe_1 = LogisticRegression(solver='saga', max_iter=100000)\n",
    "# selector_rfe_1 = RFE(estimator_rfe_1, step=0.1, n_features_to_select=30000)"
   ]
  },
  {
   "cell_type": "code",
   "execution_count": 171,
   "id": "8a06fdda",
   "metadata": {
    "execution": {
     "iopub.execute_input": "2023-08-13T06:17:24.957099Z",
     "iopub.status.busy": "2023-08-13T06:17:24.956272Z",
     "iopub.status.idle": "2023-08-13T06:17:24.961237Z",
     "shell.execute_reply": "2023-08-13T06:17:24.960314Z"
    },
    "papermill": {
     "duration": 0.127247,
     "end_time": "2023-08-13T06:17:24.963611",
     "exception": false,
     "start_time": "2023-08-13T06:17:24.836364",
     "status": "completed"
    },
    "tags": []
   },
   "outputs": [],
   "source": [
    "# rfe_1_feat_mask = fs_rfe(selector_rfe_1, rt_senti[\"reviewText\"], rt_senti[\"sentiment\"], ngram_range=(1,1))\n",
    "# rfe_1_feat_mask"
   ]
  },
  {
   "cell_type": "code",
   "execution_count": 172,
   "id": "b8b8756d",
   "metadata": {
    "execution": {
     "iopub.execute_input": "2023-08-13T06:17:25.203530Z",
     "iopub.status.busy": "2023-08-13T06:17:25.202853Z",
     "iopub.status.idle": "2023-08-13T06:17:25.207685Z",
     "shell.execute_reply": "2023-08-13T06:17:25.206481Z"
    },
    "papermill": {
     "duration": 0.127933,
     "end_time": "2023-08-13T06:17:25.210100",
     "exception": false,
     "start_time": "2023-08-13T06:17:25.082167",
     "status": "completed"
    },
    "tags": []
   },
   "outputs": [],
   "source": [
    "# voc_1gram_rfe = list(compress(voc_1gram, rfe_1_feat_mask))\n",
    "# len(voc_1gram_rfe), voc_1gram_rfe[:10]"
   ]
  },
  {
   "cell_type": "markdown",
   "id": "a7f19bad",
   "metadata": {
    "papermill": {
     "duration": 0.119415,
     "end_time": "2023-08-13T06:17:25.448865",
     "exception": false,
     "start_time": "2023-08-13T06:17:25.329450",
     "status": "completed"
    },
    "tags": []
   },
   "source": [
    "`RFE for bigrams`  "
   ]
  },
  {
   "cell_type": "code",
   "execution_count": 173,
   "id": "fafb0a01",
   "metadata": {
    "execution": {
     "iopub.execute_input": "2023-08-13T06:17:25.688963Z",
     "iopub.status.busy": "2023-08-13T06:17:25.688524Z",
     "iopub.status.idle": "2023-08-13T06:17:25.694289Z",
     "shell.execute_reply": "2023-08-13T06:17:25.692936Z"
    },
    "papermill": {
     "duration": 0.128627,
     "end_time": "2023-08-13T06:17:25.696942",
     "exception": false,
     "start_time": "2023-08-13T06:17:25.568315",
     "status": "completed"
    },
    "tags": []
   },
   "outputs": [],
   "source": [
    "# estimator_rfe_2 = LogisticRegression(solver='saga', max_iter=100000)\n",
    "# selector_rfe_2 = RFE(estimator_rfe_2, step=0.1, n_features_to_select=50000)"
   ]
  },
  {
   "cell_type": "code",
   "execution_count": 174,
   "id": "7b58a4ea",
   "metadata": {
    "execution": {
     "iopub.execute_input": "2023-08-13T06:17:25.942436Z",
     "iopub.status.busy": "2023-08-13T06:17:25.941687Z",
     "iopub.status.idle": "2023-08-13T06:17:25.946543Z",
     "shell.execute_reply": "2023-08-13T06:17:25.945661Z"
    },
    "papermill": {
     "duration": 0.132128,
     "end_time": "2023-08-13T06:17:25.948914",
     "exception": false,
     "start_time": "2023-08-13T06:17:25.816786",
     "status": "completed"
    },
    "tags": []
   },
   "outputs": [],
   "source": [
    "# rfe_2_feat_mask = fs_rfe(selector_rfe_2, rt_senti[\"reviewText\"], rt_senti[\"sentiment\"], ngram_range=(2,2))\n",
    "# rfe_2_feat_mask"
   ]
  },
  {
   "cell_type": "code",
   "execution_count": 175,
   "id": "c1a32ea2",
   "metadata": {
    "execution": {
     "iopub.execute_input": "2023-08-13T06:17:26.189471Z",
     "iopub.status.busy": "2023-08-13T06:17:26.188312Z",
     "iopub.status.idle": "2023-08-13T06:17:26.193380Z",
     "shell.execute_reply": "2023-08-13T06:17:26.192488Z"
    },
    "papermill": {
     "duration": 0.128817,
     "end_time": "2023-08-13T06:17:26.195819",
     "exception": false,
     "start_time": "2023-08-13T06:17:26.067002",
     "status": "completed"
    },
    "tags": []
   },
   "outputs": [],
   "source": [
    "# voc_2gram_rfe = list(compress(voc_2gram, rfe_2_feat_mask))\n",
    "# len(voc_2gram_rfe), voc_2gram_rfe[:10]"
   ]
  },
  {
   "cell_type": "markdown",
   "id": "45e94995",
   "metadata": {
    "papermill": {
     "duration": 0.120589,
     "end_time": "2023-08-13T06:17:26.432973",
     "exception": false,
     "start_time": "2023-08-13T06:17:26.312384",
     "status": "completed"
    },
    "tags": []
   },
   "source": [
    "## Final RFE-derived vocabulary  "
   ]
  },
  {
   "cell_type": "code",
   "execution_count": 176,
   "id": "c004749c",
   "metadata": {
    "execution": {
     "iopub.execute_input": "2023-08-13T06:17:26.673675Z",
     "iopub.status.busy": "2023-08-13T06:17:26.672844Z",
     "iopub.status.idle": "2023-08-13T06:17:26.677617Z",
     "shell.execute_reply": "2023-08-13T06:17:26.676846Z"
    },
    "papermill": {
     "duration": 0.127052,
     "end_time": "2023-08-13T06:17:26.679841",
     "exception": false,
     "start_time": "2023-08-13T06:17:26.552789",
     "status": "completed"
    },
    "tags": []
   },
   "outputs": [],
   "source": [
    "# rfe_vocab = voc_1gram_rfe + voc_2gram_rfe\n",
    "# len(rfe_vocab), rfe_vocab[:10], rfe_vocab[-10:]"
   ]
  },
  {
   "cell_type": "code",
   "execution_count": 177,
   "id": "6edb0984",
   "metadata": {
    "execution": {
     "iopub.execute_input": "2023-08-13T06:17:26.927957Z",
     "iopub.status.busy": "2023-08-13T06:17:26.926980Z",
     "iopub.status.idle": "2023-08-13T06:17:26.932562Z",
     "shell.execute_reply": "2023-08-13T06:17:26.931555Z"
    },
    "papermill": {
     "duration": 0.135775,
     "end_time": "2023-08-13T06:17:26.935909",
     "exception": false,
     "start_time": "2023-08-13T06:17:26.800134",
     "status": "completed"
    },
    "tags": []
   },
   "outputs": [],
   "source": [
    "## Test RFE obtained vocabulary in final pipeline (only with reviewText)  \n",
    "# submit_v4(selected_model=LogisticRegression(C=5, solver=\"saga\", max_iter=100000),\n",
    "#           selected_features=rt_dict,\n",
    "#           param_grid=None,\n",
    "#           vocab=rfe_vocab)"
   ]
  },
  {
   "cell_type": "markdown",
   "id": "216bc017",
   "metadata": {
    "papermill": {
     "duration": 0.123867,
     "end_time": "2023-08-13T06:17:27.190478",
     "exception": false,
     "start_time": "2023-08-13T06:17:27.066611",
     "status": "completed"
    },
    "tags": []
   },
   "source": [
    "## Use rfe_vocab in final pipeline with all params  "
   ]
  },
  {
   "cell_type": "code",
   "execution_count": 178,
   "id": "9fd250e1",
   "metadata": {
    "execution": {
     "iopub.execute_input": "2023-08-13T06:17:27.511020Z",
     "iopub.status.busy": "2023-08-13T06:17:27.510198Z",
     "iopub.status.idle": "2023-08-13T06:17:27.515024Z",
     "shell.execute_reply": "2023-08-13T06:17:27.514217Z"
    },
    "papermill": {
     "duration": 0.207497,
     "end_time": "2023-08-13T06:17:27.517602",
     "exception": false,
     "start_time": "2023-08-13T06:17:27.310105",
     "status": "completed"
    },
    "tags": []
   },
   "outputs": [],
   "source": [
    "# submit_v4(selected_model=LogisticRegression(max_iter=100000),\n",
    "#           selected_features=all_dict,\n",
    "#           param_grid=param_grid,\n",
    "#           vocab=rfe_vocab)"
   ]
  },
  {
   "cell_type": "code",
   "execution_count": 179,
   "id": "b2197b39",
   "metadata": {
    "execution": {
     "iopub.execute_input": "2023-08-13T06:17:27.766797Z",
     "iopub.status.busy": "2023-08-13T06:17:27.765956Z",
     "iopub.status.idle": "2023-08-13T06:17:27.781027Z",
     "shell.execute_reply": "2023-08-13T06:17:27.779098Z"
    },
    "papermill": {
     "duration": 0.142161,
     "end_time": "2023-08-13T06:17:27.783594",
     "exception": false,
     "start_time": "2023-08-13T06:17:27.641433",
     "status": "completed"
    },
    "tags": []
   },
   "outputs": [
    {
     "data": {
      "text/html": [
       "<style>#sk-container-id-1 {color: black;background-color: white;}#sk-container-id-1 pre{padding: 0;}#sk-container-id-1 div.sk-toggleable {background-color: white;}#sk-container-id-1 label.sk-toggleable__label {cursor: pointer;display: block;width: 100%;margin-bottom: 0;padding: 0.3em;box-sizing: border-box;text-align: center;}#sk-container-id-1 label.sk-toggleable__label-arrow:before {content: \"▸\";float: left;margin-right: 0.25em;color: #696969;}#sk-container-id-1 label.sk-toggleable__label-arrow:hover:before {color: black;}#sk-container-id-1 div.sk-estimator:hover label.sk-toggleable__label-arrow:before {color: black;}#sk-container-id-1 div.sk-toggleable__content {max-height: 0;max-width: 0;overflow: hidden;text-align: left;background-color: #f0f8ff;}#sk-container-id-1 div.sk-toggleable__content pre {margin: 0.2em;color: black;border-radius: 0.25em;background-color: #f0f8ff;}#sk-container-id-1 input.sk-toggleable__control:checked~div.sk-toggleable__content {max-height: 200px;max-width: 100%;overflow: auto;}#sk-container-id-1 input.sk-toggleable__control:checked~label.sk-toggleable__label-arrow:before {content: \"▾\";}#sk-container-id-1 div.sk-estimator input.sk-toggleable__control:checked~label.sk-toggleable__label {background-color: #d4ebff;}#sk-container-id-1 div.sk-label input.sk-toggleable__control:checked~label.sk-toggleable__label {background-color: #d4ebff;}#sk-container-id-1 input.sk-hidden--visually {border: 0;clip: rect(1px 1px 1px 1px);clip: rect(1px, 1px, 1px, 1px);height: 1px;margin: -1px;overflow: hidden;padding: 0;position: absolute;width: 1px;}#sk-container-id-1 div.sk-estimator {font-family: monospace;background-color: #f0f8ff;border: 1px dotted black;border-radius: 0.25em;box-sizing: border-box;margin-bottom: 0.5em;}#sk-container-id-1 div.sk-estimator:hover {background-color: #d4ebff;}#sk-container-id-1 div.sk-parallel-item::after {content: \"\";width: 100%;border-bottom: 1px solid gray;flex-grow: 1;}#sk-container-id-1 div.sk-label:hover label.sk-toggleable__label {background-color: #d4ebff;}#sk-container-id-1 div.sk-serial::before {content: \"\";position: absolute;border-left: 1px solid gray;box-sizing: border-box;top: 0;bottom: 0;left: 50%;z-index: 0;}#sk-container-id-1 div.sk-serial {display: flex;flex-direction: column;align-items: center;background-color: white;padding-right: 0.2em;padding-left: 0.2em;position: relative;}#sk-container-id-1 div.sk-item {position: relative;z-index: 1;}#sk-container-id-1 div.sk-parallel {display: flex;align-items: stretch;justify-content: center;background-color: white;position: relative;}#sk-container-id-1 div.sk-item::before, #sk-container-id-1 div.sk-parallel-item::before {content: \"\";position: absolute;border-left: 1px solid gray;box-sizing: border-box;top: 0;bottom: 0;left: 50%;z-index: -1;}#sk-container-id-1 div.sk-parallel-item {display: flex;flex-direction: column;z-index: 1;position: relative;background-color: white;}#sk-container-id-1 div.sk-parallel-item:first-child::after {align-self: flex-end;width: 50%;}#sk-container-id-1 div.sk-parallel-item:last-child::after {align-self: flex-start;width: 50%;}#sk-container-id-1 div.sk-parallel-item:only-child::after {width: 0;}#sk-container-id-1 div.sk-dashed-wrapped {border: 1px dashed gray;margin: 0 0.4em 0.5em 0.4em;box-sizing: border-box;padding-bottom: 0.4em;background-color: white;}#sk-container-id-1 div.sk-label label {font-family: monospace;font-weight: bold;display: inline-block;line-height: 1.2em;}#sk-container-id-1 div.sk-label-container {text-align: center;}#sk-container-id-1 div.sk-container {/* jupyter's `normalize.less` sets `[hidden] { display: none; }` but bootstrap.min.css set `[hidden] { display: none !important; }` so we also need the `!important` here to be able to override the default hidden behavior on the sphinx rendered scikit-learn.org. See: https://github.com/scikit-learn/scikit-learn/issues/21755 */display: inline-block !important;position: relative;}#sk-container-id-1 div.sk-text-repr-fallback {display: none;}</style><div id=\"sk-container-id-1\" class=\"sk-top-container\"><div class=\"sk-text-repr-fallback\"><pre>AdaBoostClassifier(estimator=LogisticRegression(C=5, max_iter=100000,\n",
       "                                                solver=&#x27;saga&#x27;))</pre><b>In a Jupyter environment, please rerun this cell to show the HTML representation or trust the notebook. <br />On GitHub, the HTML representation is unable to render, please try loading this page with nbviewer.org.</b></div><div class=\"sk-container\" hidden><div class=\"sk-item sk-dashed-wrapped\"><div class=\"sk-label-container\"><div class=\"sk-label sk-toggleable\"><input class=\"sk-toggleable__control sk-hidden--visually\" id=\"sk-estimator-id-1\" type=\"checkbox\" ><label for=\"sk-estimator-id-1\" class=\"sk-toggleable__label sk-toggleable__label-arrow\">AdaBoostClassifier</label><div class=\"sk-toggleable__content\"><pre>AdaBoostClassifier(estimator=LogisticRegression(C=5, max_iter=100000,\n",
       "                                                solver=&#x27;saga&#x27;))</pre></div></div></div><div class=\"sk-parallel\"><div class=\"sk-parallel-item\"><div class=\"sk-item\"><div class=\"sk-label-container\"><div class=\"sk-label sk-toggleable\"><input class=\"sk-toggleable__control sk-hidden--visually\" id=\"sk-estimator-id-2\" type=\"checkbox\" ><label for=\"sk-estimator-id-2\" class=\"sk-toggleable__label sk-toggleable__label-arrow\">estimator: LogisticRegression</label><div class=\"sk-toggleable__content\"><pre>LogisticRegression(C=5, max_iter=100000, solver=&#x27;saga&#x27;)</pre></div></div></div><div class=\"sk-serial\"><div class=\"sk-item\"><div class=\"sk-estimator sk-toggleable\"><input class=\"sk-toggleable__control sk-hidden--visually\" id=\"sk-estimator-id-3\" type=\"checkbox\" ><label for=\"sk-estimator-id-3\" class=\"sk-toggleable__label sk-toggleable__label-arrow\">LogisticRegression</label><div class=\"sk-toggleable__content\"><pre>LogisticRegression(C=5, max_iter=100000, solver=&#x27;saga&#x27;)</pre></div></div></div></div></div></div></div></div></div></div>"
      ],
      "text/plain": [
       "AdaBoostClassifier(estimator=LogisticRegression(C=5, max_iter=100000,\n",
       "                                                solver='saga'))"
      ]
     },
     "execution_count": 179,
     "metadata": {},
     "output_type": "execute_result"
    }
   ],
   "source": [
    "adc = AdaBoostClassifier(estimator=LogisticRegression(C=5, solver=\"saga\", max_iter=100000), n_estimators=50)\n",
    "adc"
   ]
  },
  {
   "cell_type": "code",
   "execution_count": 180,
   "id": "2325f24c",
   "metadata": {
    "execution": {
     "iopub.execute_input": "2023-08-13T06:17:28.025116Z",
     "iopub.status.busy": "2023-08-13T06:17:28.023992Z",
     "iopub.status.idle": "2023-08-13T06:17:28.029307Z",
     "shell.execute_reply": "2023-08-13T06:17:28.028067Z"
    },
    "papermill": {
     "duration": 0.129345,
     "end_time": "2023-08-13T06:17:28.031942",
     "exception": false,
     "start_time": "2023-08-13T06:17:27.902597",
     "status": "completed"
    },
    "tags": []
   },
   "outputs": [],
   "source": [
    "# submit_v4(selected_model=adc,\n",
    "#           selected_features={'cat': ['isFrequentReviewer']},\n",
    "#           param_grid=None,\n",
    "#           vocab=rfe_vocab)"
   ]
  },
  {
   "cell_type": "code",
   "execution_count": 181,
   "id": "bc03ed84",
   "metadata": {
    "execution": {
     "iopub.execute_input": "2023-08-13T06:17:28.274380Z",
     "iopub.status.busy": "2023-08-13T06:17:28.273969Z",
     "iopub.status.idle": "2023-08-13T06:17:28.279170Z",
     "shell.execute_reply": "2023-08-13T06:17:28.278008Z"
    },
    "papermill": {
     "duration": 0.130907,
     "end_time": "2023-08-13T06:17:28.281410",
     "exception": false,
     "start_time": "2023-08-13T06:17:28.150503",
     "status": "completed"
    },
    "tags": []
   },
   "outputs": [],
   "source": [
    "# AdaBoost on all features with RFE vocab on reviewText\n",
    "\n",
    "# submit_v4(selected_model=adc,\n",
    "#           selected_features=all_dict,\n",
    "#           param_grid=None,\n",
    "#           vocab=rfe_vocab)"
   ]
  },
  {
   "cell_type": "code",
   "execution_count": 182,
   "id": "97b95b20",
   "metadata": {
    "execution": {
     "iopub.execute_input": "2023-08-13T06:17:28.523550Z",
     "iopub.status.busy": "2023-08-13T06:17:28.522784Z",
     "iopub.status.idle": "2023-08-13T06:17:28.527582Z",
     "shell.execute_reply": "2023-08-13T06:17:28.526400Z"
    },
    "papermill": {
     "duration": 0.128639,
     "end_time": "2023-08-13T06:17:28.530126",
     "exception": false,
     "start_time": "2023-08-13T06:17:28.401487",
     "status": "completed"
    },
    "tags": []
   },
   "outputs": [],
   "source": [
    "# RandomForestClassifier test run on one feature\n",
    "\n",
    "# rfc_2 = RandomForestClassifier()\n",
    "# rfc_2"
   ]
  },
  {
   "cell_type": "code",
   "execution_count": 183,
   "id": "55c895a0",
   "metadata": {
    "execution": {
     "iopub.execute_input": "2023-08-13T06:17:28.767242Z",
     "iopub.status.busy": "2023-08-13T06:17:28.766715Z",
     "iopub.status.idle": "2023-08-13T06:17:28.771043Z",
     "shell.execute_reply": "2023-08-13T06:17:28.770054Z"
    },
    "papermill": {
     "duration": 0.125998,
     "end_time": "2023-08-13T06:17:28.773475",
     "exception": false,
     "start_time": "2023-08-13T06:17:28.647477",
     "status": "completed"
    },
    "tags": []
   },
   "outputs": [],
   "source": [
    "# submit_v4(selected_model=rfc_2,\n",
    "#           selected_features={'txt': ['reviewerName']},\n",
    "#           param_grid=None,\n",
    "#           vocab=rfe_vocab)"
   ]
  },
  {
   "cell_type": "code",
   "execution_count": 184,
   "id": "8654ef81",
   "metadata": {
    "execution": {
     "iopub.execute_input": "2023-08-13T06:17:29.020006Z",
     "iopub.status.busy": "2023-08-13T06:17:29.018881Z",
     "iopub.status.idle": "2023-08-13T06:17:29.024832Z",
     "shell.execute_reply": "2023-08-13T06:17:29.023540Z"
    },
    "papermill": {
     "duration": 0.136169,
     "end_time": "2023-08-13T06:17:29.027373",
     "exception": false,
     "start_time": "2023-08-13T06:17:28.891204",
     "status": "completed"
    },
    "tags": []
   },
   "outputs": [],
   "source": [
    "# RandomForestClassifier on all features with RFE vocab on reviewText\n",
    "\n",
    "# submit_v4(selected_model=rfc_2,\n",
    "#           selected_features=all_dict,\n",
    "#           param_grid=None,\n",
    "#           vocab=rfe_vocab)"
   ]
  },
  {
   "cell_type": "markdown",
   "id": "2d98d258",
   "metadata": {
    "papermill": {
     "duration": 0.140834,
     "end_time": "2023-08-13T06:17:29.286664",
     "exception": false,
     "start_time": "2023-08-13T06:17:29.145830",
     "status": "completed"
    },
    "tags": []
   },
   "source": [
    "## Submit_v2 for merged file models  "
   ]
  },
  {
   "cell_type": "code",
   "execution_count": 185,
   "id": "f66877e6",
   "metadata": {
    "execution": {
     "iopub.execute_input": "2023-08-13T06:17:29.533858Z",
     "iopub.status.busy": "2023-08-13T06:17:29.533422Z",
     "iopub.status.idle": "2023-08-13T06:17:29.539867Z",
     "shell.execute_reply": "2023-08-13T06:17:29.538704Z"
    },
    "papermill": {
     "duration": 0.132599,
     "end_time": "2023-08-13T06:17:29.542274",
     "exception": false,
     "start_time": "2023-08-13T06:17:29.409675",
     "status": "completed"
    },
    "tags": []
   },
   "outputs": [],
   "source": [
    "# def submit_v2(selected_model=pipe_final, selected_features=None):\n",
    "#     '''\n",
    "#     Note that \"selected_preprocessor\" is already used within selected_model or pipeline\n",
    "#     '''\n",
    "#     # Retrain on the whole train.csv file  \n",
    "#     merged = select_features(load_csv(\"train\"), load_csv(\"movies\"))\n",
    "#     X_train = merged.drop(labels=\"sentiment\", axis=1)\n",
    "#     y_train = merged[\"sentiment\"]\n",
    "    \n",
    "#     #Use selected features\n",
    "#     if selected_features:\n",
    "#         X_train = X_train[selected_features]\n",
    "    \n",
    "#     # Check1\n",
    "#     print(X_train.shape)\n",
    "#     print(X_train.head())\n",
    "#     try:\n",
    "#         print(selected_model.named_steps['model'].intercept_, selected_model.named_steps['model'].coef_)\n",
    "#     except:\n",
    "#         print(\"Model not trained yet!\")\n",
    "    \n",
    "#     # Fit \n",
    "#     selected_model.fit(X_train, y_train)\n",
    "    \n",
    "#     # Check2\n",
    "#     print(selected_model.named_steps['model'].intercept_, selected_model.named_steps['model'].coef_)\n",
    "    \n",
    "#     # Predict on test.csv file\n",
    "#     merged_test = select_features(load_csv(\"test\"), load_csv(\"movies\"))\n",
    "#     X_test = merged_test.copy()\n",
    "#     if selected_features:\n",
    "#         X_test = X_test[selected_features]\n",
    "    \n",
    "#     # Check3\n",
    "#     print(X_test.shape)\n",
    "#     print(X_test.head())\n",
    "    \n",
    "#     y_pred = selected_model.predict(X_test)\n",
    "    \n",
    "#     pred_df = pd.DataFrame(y_pred)\n",
    "#     pred_df.columns = [\"sentiment\"]\n",
    "#     pred_df.index.name = \"id\"\n",
    "#     pred_df.to_csv(\"submission.csv\")\n",
    "    \n",
    "#     return \"Successfully created the submission file!!!\""
   ]
  },
  {
   "cell_type": "code",
   "execution_count": 186,
   "id": "2b49fbb5",
   "metadata": {
    "execution": {
     "iopub.execute_input": "2023-08-13T06:17:29.785339Z",
     "iopub.status.busy": "2023-08-13T06:17:29.784481Z",
     "iopub.status.idle": "2023-08-13T06:17:29.789636Z",
     "shell.execute_reply": "2023-08-13T06:17:29.788654Z"
    },
    "papermill": {
     "duration": 0.128903,
     "end_time": "2023-08-13T06:17:29.792192",
     "exception": false,
     "start_time": "2023-08-13T06:17:29.663289",
     "status": "completed"
    },
    "tags": []
   },
   "outputs": [],
   "source": [
    "#     X_test = merged_test.copy()\n",
    "    \n",
    "#     y_pred = pipe_best4.predict(X_test)\n",
    "# #     np.unique(y_pred, return_counts=True)\n",
    "#     pred_df = pd.DataFrame(y_pred)\n",
    "#     pred_df.columns = [\"sentiment\"]\n",
    "#     pred_df.index.name = \"id\"\n",
    "#     pred_df.value_counts()"
   ]
  },
  {
   "cell_type": "code",
   "execution_count": 187,
   "id": "e7a93d09",
   "metadata": {
    "execution": {
     "iopub.execute_input": "2023-08-13T06:17:30.034803Z",
     "iopub.status.busy": "2023-08-13T06:17:30.034361Z",
     "iopub.status.idle": "2023-08-13T06:17:30.039908Z",
     "shell.execute_reply": "2023-08-13T06:17:30.038500Z"
    },
    "papermill": {
     "duration": 0.127076,
     "end_time": "2023-08-13T06:17:30.042602",
     "exception": false,
     "start_time": "2023-08-13T06:17:29.915526",
     "status": "completed"
    },
    "tags": []
   },
   "outputs": [],
   "source": [
    "# X_test.columns"
   ]
  },
  {
   "cell_type": "markdown",
   "id": "f63697e1",
   "metadata": {
    "papermill": {
     "duration": 0.121638,
     "end_time": "2023-08-13T06:17:30.284518",
     "exception": false,
     "start_time": "2023-08-13T06:17:30.162880",
     "status": "completed"
    },
    "tags": []
   },
   "source": [
    "### Uncomment to submit using v2 of submit function  "
   ]
  },
  {
   "cell_type": "code",
   "execution_count": 188,
   "id": "279977c0",
   "metadata": {
    "execution": {
     "iopub.execute_input": "2023-08-13T06:17:30.525265Z",
     "iopub.status.busy": "2023-08-13T06:17:30.524827Z",
     "iopub.status.idle": "2023-08-13T06:17:30.529710Z",
     "shell.execute_reply": "2023-08-13T06:17:30.528350Z"
    },
    "papermill": {
     "duration": 0.127959,
     "end_time": "2023-08-13T06:17:30.532207",
     "exception": false,
     "start_time": "2023-08-13T06:17:30.404248",
     "status": "completed"
    },
    "tags": []
   },
   "outputs": [],
   "source": [
    "# best4 = [\"audienceScore\", \"rating\", \"isFrequentReviewer\", \"reviewText\"]\n",
    "# best4"
   ]
  },
  {
   "cell_type": "code",
   "execution_count": 189,
   "id": "c240c27d",
   "metadata": {
    "execution": {
     "iopub.execute_input": "2023-08-13T06:17:30.775760Z",
     "iopub.status.busy": "2023-08-13T06:17:30.775054Z",
     "iopub.status.idle": "2023-08-13T06:17:30.779002Z",
     "shell.execute_reply": "2023-08-13T06:17:30.778187Z"
    },
    "papermill": {
     "duration": 0.125984,
     "end_time": "2023-08-13T06:17:30.781215",
     "exception": false,
     "start_time": "2023-08-13T06:17:30.655231",
     "status": "completed"
    },
    "tags": []
   },
   "outputs": [],
   "source": [
    "# submit_v2(selected_model=pipe_RTonly, selected_features=['reviewText'])"
   ]
  },
  {
   "cell_type": "markdown",
   "id": "8bffd10c",
   "metadata": {
    "papermill": {
     "duration": 0.119706,
     "end_time": "2023-08-13T06:17:31.018678",
     "exception": false,
     "start_time": "2023-08-13T06:17:30.898972",
     "status": "completed"
    },
    "tags": []
   },
   "source": [
    "### Inspect the submission.csv file  "
   ]
  },
  {
   "cell_type": "code",
   "execution_count": 190,
   "id": "dfb3c561",
   "metadata": {
    "execution": {
     "iopub.execute_input": "2023-08-13T06:17:31.259239Z",
     "iopub.status.busy": "2023-08-13T06:17:31.258769Z",
     "iopub.status.idle": "2023-08-13T06:17:31.263679Z",
     "shell.execute_reply": "2023-08-13T06:17:31.262286Z"
    },
    "papermill": {
     "duration": 0.129523,
     "end_time": "2023-08-13T06:17:31.266259",
     "exception": false,
     "start_time": "2023-08-13T06:17:31.136736",
     "status": "completed"
    },
    "tags": []
   },
   "outputs": [],
   "source": [
    "# sub = pd.read_csv('submission.csv')\n",
    "# sub.shape, sub.head()"
   ]
  },
  {
   "cell_type": "code",
   "execution_count": 191,
   "id": "abd66ce4",
   "metadata": {
    "execution": {
     "iopub.execute_input": "2023-08-13T06:17:31.511062Z",
     "iopub.status.busy": "2023-08-13T06:17:31.510401Z",
     "iopub.status.idle": "2023-08-13T06:17:31.514272Z",
     "shell.execute_reply": "2023-08-13T06:17:31.513430Z"
    },
    "papermill": {
     "duration": 0.127909,
     "end_time": "2023-08-13T06:17:31.516477",
     "exception": false,
     "start_time": "2023-08-13T06:17:31.388568",
     "status": "completed"
    },
    "tags": []
   },
   "outputs": [],
   "source": [
    "# sub['sentiment'].value_counts()"
   ]
  },
  {
   "cell_type": "markdown",
   "id": "42cacfb4",
   "metadata": {
    "papermill": {
     "duration": 0.117785,
     "end_time": "2023-08-13T06:17:31.756569",
     "exception": false,
     "start_time": "2023-08-13T06:17:31.638784",
     "status": "completed"
    },
    "tags": []
   },
   "source": [
    "## submit_v3 for merged file models - does not retrain on whole data  "
   ]
  },
  {
   "cell_type": "code",
   "execution_count": 192,
   "id": "cd080cdd",
   "metadata": {
    "execution": {
     "iopub.execute_input": "2023-08-13T06:17:31.998185Z",
     "iopub.status.busy": "2023-08-13T06:17:31.997453Z",
     "iopub.status.idle": "2023-08-13T06:17:32.003384Z",
     "shell.execute_reply": "2023-08-13T06:17:32.002445Z"
    },
    "papermill": {
     "duration": 0.130762,
     "end_time": "2023-08-13T06:17:32.006017",
     "exception": false,
     "start_time": "2023-08-13T06:17:31.875255",
     "status": "completed"
    },
    "tags": []
   },
   "outputs": [],
   "source": [
    "# def submit_v3(selected_model=pipe_final):\n",
    "#     '''\n",
    "#     Note that \"selected_preprocessor\" is already used within selected_model or pipeline\n",
    "#     '''\n",
    "      \n",
    "#     # Predict on test.csv file\n",
    "#     merged_test = select_features(load_csv(\"test\"), load_csv(\"movies\"))\n",
    "#     X_test = merged_test.copy()\n",
    "    \n",
    "#     X_test = X_test[[\"audienceScore\", \"rating\", \"isFrequentReviewer\", \"reviewText\"]]    # This is a new line\n",
    "\n",
    "    \n",
    "#     y_pred = selected_model.predict(X_test)\n",
    "    \n",
    "#     pred_df = pd.DataFrame(y_pred)\n",
    "#     pred_df.columns = [\"sentiment\"]\n",
    "#     pred_df.index.name = \"id\"\n",
    "#     pred_df.to_csv(\"submission.csv\")\n",
    "    \n",
    "#     return \"Successfully created the submission file!!!\""
   ]
  },
  {
   "cell_type": "markdown",
   "id": "c4e664ba",
   "metadata": {
    "papermill": {
     "duration": 0.119723,
     "end_time": "2023-08-13T06:17:32.247717",
     "exception": false,
     "start_time": "2023-08-13T06:17:32.127994",
     "status": "completed"
    },
    "tags": []
   },
   "source": [
    "### Uncomment to submit using v3 of submit function  "
   ]
  },
  {
   "cell_type": "code",
   "execution_count": 193,
   "id": "af74418d",
   "metadata": {
    "execution": {
     "iopub.execute_input": "2023-08-13T06:17:32.488677Z",
     "iopub.status.busy": "2023-08-13T06:17:32.487927Z",
     "iopub.status.idle": "2023-08-13T06:17:32.492822Z",
     "shell.execute_reply": "2023-08-13T06:17:32.491848Z"
    },
    "papermill": {
     "duration": 0.128758,
     "end_time": "2023-08-13T06:17:32.495108",
     "exception": false,
     "start_time": "2023-08-13T06:17:32.366350",
     "status": "completed"
    },
    "tags": []
   },
   "outputs": [],
   "source": [
    "# submit_v3(selected_model=pipe_best4)"
   ]
  },
  {
   "cell_type": "markdown",
   "id": "2036b208",
   "metadata": {
    "papermill": {
     "duration": 0.118511,
     "end_time": "2023-08-13T06:17:32.736933",
     "exception": false,
     "start_time": "2023-08-13T06:17:32.618422",
     "status": "completed"
    },
    "tags": []
   },
   "source": [
    "## Rough work  "
   ]
  },
  {
   "cell_type": "code",
   "execution_count": 194,
   "id": "cdb4d7ad",
   "metadata": {
    "execution": {
     "iopub.execute_input": "2023-08-13T06:17:32.980026Z",
     "iopub.status.busy": "2023-08-13T06:17:32.979564Z",
     "iopub.status.idle": "2023-08-13T06:17:39.382581Z",
     "shell.execute_reply": "2023-08-13T06:17:39.381296Z"
    },
    "papermill": {
     "duration": 6.530327,
     "end_time": "2023-08-13T06:17:39.386016",
     "exception": false,
     "start_time": "2023-08-13T06:17:32.855689",
     "status": "completed"
    },
    "tags": []
   },
   "outputs": [],
   "source": [
    "    # Predict on test.csv file\n",
    "    merged_test = select_features(load_csv(\"test\"), load_csv(\"movies\"))\n",
    "    X_test = merged_test.copy()\n",
    "    \n",
    "    X_test = X_test[[\"audienceScore\", \"rating\", \"isFrequentReviewer\", \"reviewText\"]]    # This is a new line"
   ]
  },
  {
   "cell_type": "code",
   "execution_count": 195,
   "id": "bbe275f2",
   "metadata": {
    "execution": {
     "iopub.execute_input": "2023-08-13T06:17:39.707568Z",
     "iopub.status.busy": "2023-08-13T06:17:39.707175Z",
     "iopub.status.idle": "2023-08-13T06:17:39.712811Z",
     "shell.execute_reply": "2023-08-13T06:17:39.711019Z"
    },
    "papermill": {
     "duration": 0.210856,
     "end_time": "2023-08-13T06:17:39.715260",
     "exception": false,
     "start_time": "2023-08-13T06:17:39.504404",
     "status": "completed"
    },
    "tags": []
   },
   "outputs": [],
   "source": [
    "# X_test.head()"
   ]
  },
  {
   "cell_type": "code",
   "execution_count": 196,
   "id": "a326fa9c",
   "metadata": {
    "execution": {
     "iopub.execute_input": "2023-08-13T06:17:39.957352Z",
     "iopub.status.busy": "2023-08-13T06:17:39.956613Z",
     "iopub.status.idle": "2023-08-13T06:17:39.961507Z",
     "shell.execute_reply": "2023-08-13T06:17:39.960339Z"
    },
    "papermill": {
     "duration": 0.130115,
     "end_time": "2023-08-13T06:17:39.963963",
     "exception": false,
     "start_time": "2023-08-13T06:17:39.833848",
     "status": "completed"
    },
    "tags": []
   },
   "outputs": [],
   "source": [
    "# X_test['audienceScore'].describe()"
   ]
  },
  {
   "cell_type": "code",
   "execution_count": 197,
   "id": "b4426f7f",
   "metadata": {
    "execution": {
     "iopub.execute_input": "2023-08-13T06:17:40.207951Z",
     "iopub.status.busy": "2023-08-13T06:17:40.207174Z",
     "iopub.status.idle": "2023-08-13T06:17:40.211859Z",
     "shell.execute_reply": "2023-08-13T06:17:40.211072Z"
    },
    "papermill": {
     "duration": 0.130822,
     "end_time": "2023-08-13T06:17:40.214315",
     "exception": false,
     "start_time": "2023-08-13T06:17:40.083493",
     "status": "completed"
    },
    "tags": []
   },
   "outputs": [],
   "source": [
    "# X_test['rating'].value_counts()"
   ]
  },
  {
   "cell_type": "code",
   "execution_count": 198,
   "id": "1a794936",
   "metadata": {
    "execution": {
     "iopub.execute_input": "2023-08-13T06:17:40.458739Z",
     "iopub.status.busy": "2023-08-13T06:17:40.457967Z",
     "iopub.status.idle": "2023-08-13T06:17:40.463707Z",
     "shell.execute_reply": "2023-08-13T06:17:40.462470Z"
    },
    "papermill": {
     "duration": 0.129876,
     "end_time": "2023-08-13T06:17:40.466420",
     "exception": false,
     "start_time": "2023-08-13T06:17:40.336544",
     "status": "completed"
    },
    "tags": []
   },
   "outputs": [],
   "source": [
    "# X_test['isFrequentReviewer'].value_counts()"
   ]
  },
  {
   "cell_type": "markdown",
   "id": "682bc956",
   "metadata": {
    "papermill": {
     "duration": 0.121884,
     "end_time": "2023-08-13T06:17:40.705516",
     "exception": false,
     "start_time": "2023-08-13T06:17:40.583632",
     "status": "completed"
    },
    "tags": []
   },
   "source": [
    "## Implement KNN classifier  "
   ]
  },
  {
   "cell_type": "code",
   "execution_count": 199,
   "id": "61efc7cc",
   "metadata": {
    "execution": {
     "iopub.execute_input": "2023-08-13T06:17:40.949285Z",
     "iopub.status.busy": "2023-08-13T06:17:40.948637Z",
     "iopub.status.idle": "2023-08-13T06:17:40.953289Z",
     "shell.execute_reply": "2023-08-13T06:17:40.952366Z"
    },
    "papermill": {
     "duration": 0.129737,
     "end_time": "2023-08-13T06:17:40.955716",
     "exception": false,
     "start_time": "2023-08-13T06:17:40.825979",
     "status": "completed"
    },
    "tags": []
   },
   "outputs": [],
   "source": [
    "# from sklearn.neighbors import KNeighborsClassifier"
   ]
  },
  {
   "cell_type": "code",
   "execution_count": 200,
   "id": "c9844f58",
   "metadata": {
    "execution": {
     "iopub.execute_input": "2023-08-13T06:17:41.195086Z",
     "iopub.status.busy": "2023-08-13T06:17:41.194684Z",
     "iopub.status.idle": "2023-08-13T06:17:41.199929Z",
     "shell.execute_reply": "2023-08-13T06:17:41.198378Z"
    },
    "papermill": {
     "duration": 0.126479,
     "end_time": "2023-08-13T06:17:41.202276",
     "exception": false,
     "start_time": "2023-08-13T06:17:41.075797",
     "status": "completed"
    },
    "tags": []
   },
   "outputs": [],
   "source": [
    "# Note that we are borrowing \"ct_final\" column transformer from above  "
   ]
  },
  {
   "cell_type": "code",
   "execution_count": 201,
   "id": "65122a1f",
   "metadata": {
    "execution": {
     "iopub.execute_input": "2023-08-13T06:17:41.443213Z",
     "iopub.status.busy": "2023-08-13T06:17:41.442759Z",
     "iopub.status.idle": "2023-08-13T06:17:41.447909Z",
     "shell.execute_reply": "2023-08-13T06:17:41.446465Z"
    },
    "papermill": {
     "duration": 0.130568,
     "end_time": "2023-08-13T06:17:41.450313",
     "exception": false,
     "start_time": "2023-08-13T06:17:41.319745",
     "status": "completed"
    },
    "tags": []
   },
   "outputs": [],
   "source": [
    "# pipe_knn = Pipeline(steps=[\n",
    "#                         (\"preprocessor\", ct_final),\n",
    "#                         (\"model\", KNeighborsClassifier())\n",
    "#                     ])\n",
    "# pipe_knn"
   ]
  },
  {
   "cell_type": "code",
   "execution_count": 202,
   "id": "32eceb9f",
   "metadata": {
    "execution": {
     "iopub.execute_input": "2023-08-13T06:17:41.695229Z",
     "iopub.status.busy": "2023-08-13T06:17:41.694779Z",
     "iopub.status.idle": "2023-08-13T06:17:41.699640Z",
     "shell.execute_reply": "2023-08-13T06:17:41.698612Z"
    },
    "papermill": {
     "duration": 0.129348,
     "end_time": "2023-08-13T06:17:41.701842",
     "exception": false,
     "start_time": "2023-08-13T06:17:41.572494",
     "status": "completed"
    },
    "tags": []
   },
   "outputs": [],
   "source": [
    "# Train and predict on merged training data  \n",
    "# split_train_predict(merged_train_features, merged_train_labels, pipe_knn, test_size=0.25, random_state=42)"
   ]
  },
  {
   "cell_type": "markdown",
   "id": "0e7c6842",
   "metadata": {
    "papermill": {
     "duration": 0.115955,
     "end_time": "2023-08-13T06:17:41.935205",
     "exception": false,
     "start_time": "2023-08-13T06:17:41.819250",
     "status": "completed"
    },
    "tags": []
   },
   "source": [
    "# Part I (Older code)  "
   ]
  },
  {
   "cell_type": "markdown",
   "id": "34f50bd3",
   "metadata": {
    "papermill": {
     "duration": 0.115174,
     "end_time": "2023-08-13T06:17:42.170112",
     "exception": false,
     "start_time": "2023-08-13T06:17:42.054938",
     "status": "completed"
    },
    "tags": []
   },
   "source": [
    "### Logistic Regression with stop words  "
   ]
  },
  {
   "cell_type": "code",
   "execution_count": 203,
   "id": "acbee097",
   "metadata": {
    "execution": {
     "iopub.execute_input": "2023-08-13T06:17:42.409885Z",
     "iopub.status.busy": "2023-08-13T06:17:42.408734Z",
     "iopub.status.idle": "2023-08-13T06:17:42.413546Z",
     "shell.execute_reply": "2023-08-13T06:17:42.412368Z"
    },
    "papermill": {
     "duration": 0.12899,
     "end_time": "2023-08-13T06:17:42.416133",
     "exception": false,
     "start_time": "2023-08-13T06:17:42.287143",
     "status": "completed"
    },
    "tags": []
   },
   "outputs": [],
   "source": [
    "# tvec_sw = TfidfVectorizer(stop_words=stop_words)"
   ]
  },
  {
   "cell_type": "code",
   "execution_count": 204,
   "id": "906f68b0",
   "metadata": {
    "execution": {
     "iopub.execute_input": "2023-08-13T06:17:42.655367Z",
     "iopub.status.busy": "2023-08-13T06:17:42.654685Z",
     "iopub.status.idle": "2023-08-13T06:17:42.659731Z",
     "shell.execute_reply": "2023-08-13T06:17:42.658515Z"
    },
    "papermill": {
     "duration": 0.128366,
     "end_time": "2023-08-13T06:17:42.662459",
     "exception": false,
     "start_time": "2023-08-13T06:17:42.534093",
     "status": "completed"
    },
    "tags": []
   },
   "outputs": [],
   "source": [
    "# logreg_sw_pipe = preprocess_n_train(X_train, y_train, tvec_sw, logreg)\n",
    "# logreg_sw_pipe"
   ]
  },
  {
   "cell_type": "code",
   "execution_count": 205,
   "id": "7ef3a144",
   "metadata": {
    "execution": {
     "iopub.execute_input": "2023-08-13T06:17:42.903241Z",
     "iopub.status.busy": "2023-08-13T06:17:42.902790Z",
     "iopub.status.idle": "2023-08-13T06:17:42.907495Z",
     "shell.execute_reply": "2023-08-13T06:17:42.906386Z"
    },
    "papermill": {
     "duration": 0.126758,
     "end_time": "2023-08-13T06:17:42.909816",
     "exception": false,
     "start_time": "2023-08-13T06:17:42.783058",
     "status": "completed"
    },
    "tags": []
   },
   "outputs": [],
   "source": [
    "# y_pred_logreg_sw = predict_n_evaluate(logreg_sw_pipe, X_test, y_test)\n",
    "# y_pred_logreg_sw"
   ]
  },
  {
   "cell_type": "markdown",
   "id": "cc7ff150",
   "metadata": {
    "papermill": {
     "duration": 0.118678,
     "end_time": "2023-08-13T06:17:43.149447",
     "exception": false,
     "start_time": "2023-08-13T06:17:43.030769",
     "status": "completed"
    },
    "tags": []
   },
   "source": [
    "### Logistic regression with different ngram ranges  "
   ]
  },
  {
   "cell_type": "code",
   "execution_count": 206,
   "id": "d7cec005",
   "metadata": {
    "execution": {
     "iopub.execute_input": "2023-08-13T06:17:43.391787Z",
     "iopub.status.busy": "2023-08-13T06:17:43.391339Z",
     "iopub.status.idle": "2023-08-13T06:17:43.396152Z",
     "shell.execute_reply": "2023-08-13T06:17:43.395100Z"
    },
    "papermill": {
     "duration": 0.127911,
     "end_time": "2023-08-13T06:17:43.398398",
     "exception": false,
     "start_time": "2023-08-13T06:17:43.270487",
     "status": "completed"
    },
    "tags": []
   },
   "outputs": [],
   "source": [
    "# tvec_ngram_2 = TfidfVectorizer(ngram_range=(1,2))"
   ]
  },
  {
   "cell_type": "code",
   "execution_count": 207,
   "id": "643d1963",
   "metadata": {
    "execution": {
     "iopub.execute_input": "2023-08-13T06:17:43.640623Z",
     "iopub.status.busy": "2023-08-13T06:17:43.640177Z",
     "iopub.status.idle": "2023-08-13T06:17:43.645412Z",
     "shell.execute_reply": "2023-08-13T06:17:43.643967Z"
    },
    "papermill": {
     "duration": 0.128091,
     "end_time": "2023-08-13T06:17:43.647951",
     "exception": false,
     "start_time": "2023-08-13T06:17:43.519860",
     "status": "completed"
    },
    "tags": []
   },
   "outputs": [],
   "source": [
    "# logreg_ng2_pipe = preprocess_n_train(X_train, y_train, tvec_ngram_2, logreg)\n",
    "# logreg_ng2_pipe"
   ]
  },
  {
   "cell_type": "code",
   "execution_count": 208,
   "id": "73e17c8a",
   "metadata": {
    "execution": {
     "iopub.execute_input": "2023-08-13T06:17:43.888341Z",
     "iopub.status.busy": "2023-08-13T06:17:43.887927Z",
     "iopub.status.idle": "2023-08-13T06:17:43.893180Z",
     "shell.execute_reply": "2023-08-13T06:17:43.891843Z"
    },
    "papermill": {
     "duration": 0.126277,
     "end_time": "2023-08-13T06:17:43.895755",
     "exception": false,
     "start_time": "2023-08-13T06:17:43.769478",
     "status": "completed"
    },
    "tags": []
   },
   "outputs": [],
   "source": [
    "# y_pred_logreg_ng2 = predict_n_evaluate(logreg_ng2_pipe, X_test, y_test)\n",
    "# y_pred_logreg_ng2"
   ]
  },
  {
   "cell_type": "markdown",
   "id": "5d69a00e",
   "metadata": {
    "papermill": {
     "duration": 0.115966,
     "end_time": "2023-08-13T06:17:44.130973",
     "exception": false,
     "start_time": "2023-08-13T06:17:44.015007",
     "status": "completed"
    },
    "tags": []
   },
   "source": [
    "### Logistic regression with C=2, ngram range (1,2), stop words as None and min_df, max_df adjusted\n",
    "### Class weight balanced"
   ]
  },
  {
   "cell_type": "code",
   "execution_count": 209,
   "id": "2a3d92f2",
   "metadata": {
    "execution": {
     "iopub.execute_input": "2023-08-13T06:17:44.374424Z",
     "iopub.status.busy": "2023-08-13T06:17:44.374020Z",
     "iopub.status.idle": "2023-08-13T06:17:44.379247Z",
     "shell.execute_reply": "2023-08-13T06:17:44.378001Z"
    },
    "papermill": {
     "duration": 0.130681,
     "end_time": "2023-08-13T06:17:44.382108",
     "exception": false,
     "start_time": "2023-08-13T06:17:44.251427",
     "status": "completed"
    },
    "tags": []
   },
   "outputs": [],
   "source": [
    "# logreg = LogisticRegression(max_iter=100000, C=2, class_weight=\"balanced\")"
   ]
  },
  {
   "cell_type": "code",
   "execution_count": 210,
   "id": "cbb12923",
   "metadata": {
    "execution": {
     "iopub.execute_input": "2023-08-13T06:17:44.624548Z",
     "iopub.status.busy": "2023-08-13T06:17:44.624132Z",
     "iopub.status.idle": "2023-08-13T06:17:44.629283Z",
     "shell.execute_reply": "2023-08-13T06:17:44.628079Z"
    },
    "papermill": {
     "duration": 0.129769,
     "end_time": "2023-08-13T06:17:44.631815",
     "exception": false,
     "start_time": "2023-08-13T06:17:44.502046",
     "status": "completed"
    },
    "tags": []
   },
   "outputs": [],
   "source": [
    "# tvec_ngram_2_sw_df = TfidfVectorizer(ngram_range=(1,2), stop_words=None, min_df=0.0001, max_df=0.50)\n",
    "# tvec_ngram_2_sw_df"
   ]
  },
  {
   "cell_type": "code",
   "execution_count": 211,
   "id": "c1d55913",
   "metadata": {
    "execution": {
     "iopub.execute_input": "2023-08-13T06:17:44.873820Z",
     "iopub.status.busy": "2023-08-13T06:17:44.873391Z",
     "iopub.status.idle": "2023-08-13T06:17:44.879508Z",
     "shell.execute_reply": "2023-08-13T06:17:44.878261Z"
    },
    "papermill": {
     "duration": 0.130534,
     "end_time": "2023-08-13T06:17:44.882223",
     "exception": false,
     "start_time": "2023-08-13T06:17:44.751689",
     "status": "completed"
    },
    "tags": []
   },
   "outputs": [],
   "source": [
    "# logreg_ng2_sw_df_pipe = preprocess_n_train(X_train, y_train, tvec_ngram_2_sw_df, logreg)\n",
    "# logreg_ng2_sw_df_pipe"
   ]
  },
  {
   "cell_type": "code",
   "execution_count": 212,
   "id": "6389bde1",
   "metadata": {
    "execution": {
     "iopub.execute_input": "2023-08-13T06:17:45.119542Z",
     "iopub.status.busy": "2023-08-13T06:17:45.118916Z",
     "iopub.status.idle": "2023-08-13T06:17:45.122854Z",
     "shell.execute_reply": "2023-08-13T06:17:45.121972Z"
    },
    "papermill": {
     "duration": 0.12492,
     "end_time": "2023-08-13T06:17:45.125312",
     "exception": false,
     "start_time": "2023-08-13T06:17:45.000392",
     "status": "completed"
    },
    "tags": []
   },
   "outputs": [],
   "source": [
    "# y_pred_logreg_ng2_sw_df = predict_n_evaluate(logreg_ng2_sw_df_pipe, X_test, y_test)\n",
    "# y_pred_logreg_ng2_sw_df"
   ]
  },
  {
   "cell_type": "markdown",
   "id": "c498875d",
   "metadata": {
    "papermill": {
     "duration": 0.116857,
     "end_time": "2023-08-13T06:17:45.361790",
     "exception": false,
     "start_time": "2023-08-13T06:17:45.244933",
     "status": "completed"
    },
    "tags": []
   },
   "source": [
    "### Log reg with parameters from GridSearchCV  \n",
    "\n",
    "`This is the best score with \"reviewText column alone for analysis`  "
   ]
  },
  {
   "cell_type": "code",
   "execution_count": 213,
   "id": "44031bdf",
   "metadata": {
    "execution": {
     "iopub.execute_input": "2023-08-13T06:17:45.602842Z",
     "iopub.status.busy": "2023-08-13T06:17:45.602220Z",
     "iopub.status.idle": "2023-08-13T06:17:45.607370Z",
     "shell.execute_reply": "2023-08-13T06:17:45.606252Z"
    },
    "papermill": {
     "duration": 0.128456,
     "end_time": "2023-08-13T06:17:45.609943",
     "exception": false,
     "start_time": "2023-08-13T06:17:45.481487",
     "status": "completed"
    },
    "tags": []
   },
   "outputs": [],
   "source": [
    "logreg_cv1 = LogisticRegression(max_iter=100000, C=10)\n",
    "tvec_cv1 = TfidfVectorizer(max_features=None, ngram_range=(1,2))"
   ]
  },
  {
   "cell_type": "code",
   "execution_count": 214,
   "id": "6bfefd4e",
   "metadata": {
    "execution": {
     "iopub.execute_input": "2023-08-13T06:17:45.851281Z",
     "iopub.status.busy": "2023-08-13T06:17:45.850638Z",
     "iopub.status.idle": "2023-08-13T06:17:45.855239Z",
     "shell.execute_reply": "2023-08-13T06:17:45.854155Z"
    },
    "papermill": {
     "duration": 0.127427,
     "end_time": "2023-08-13T06:17:45.857688",
     "exception": false,
     "start_time": "2023-08-13T06:17:45.730261",
     "status": "completed"
    },
    "tags": []
   },
   "outputs": [],
   "source": [
    "pipe_cv1 = Pipeline(steps=[\n",
    "    (\"preprocessor\", tvec_cv1),\n",
    "    (\"model\", logreg_cv1)\n",
    "])"
   ]
  },
  {
   "cell_type": "code",
   "execution_count": 215,
   "id": "30a8d0cb",
   "metadata": {
    "execution": {
     "iopub.execute_input": "2023-08-13T06:17:46.173832Z",
     "iopub.status.busy": "2023-08-13T06:17:46.172570Z",
     "iopub.status.idle": "2023-08-13T06:17:46.177984Z",
     "shell.execute_reply": "2023-08-13T06:17:46.176685Z"
    },
    "papermill": {
     "duration": 0.125562,
     "end_time": "2023-08-13T06:17:46.180428",
     "exception": false,
     "start_time": "2023-08-13T06:17:46.054866",
     "status": "completed"
    },
    "tags": []
   },
   "outputs": [],
   "source": [
    "# pipe_cv1.fit(X_train, y_train)"
   ]
  },
  {
   "cell_type": "code",
   "execution_count": 216,
   "id": "0e857b58",
   "metadata": {
    "execution": {
     "iopub.execute_input": "2023-08-13T06:17:46.418252Z",
     "iopub.status.busy": "2023-08-13T06:17:46.417845Z",
     "iopub.status.idle": "2023-08-13T06:17:46.422232Z",
     "shell.execute_reply": "2023-08-13T06:17:46.421062Z"
    },
    "papermill": {
     "duration": 0.126339,
     "end_time": "2023-08-13T06:17:46.425009",
     "exception": false,
     "start_time": "2023-08-13T06:17:46.298670",
     "status": "completed"
    },
    "tags": []
   },
   "outputs": [],
   "source": [
    "# pipe_cv1.score(X_train, y_train)"
   ]
  },
  {
   "cell_type": "markdown",
   "id": "a60d7134",
   "metadata": {
    "papermill": {
     "duration": 0.120324,
     "end_time": "2023-08-13T06:17:46.663654",
     "exception": false,
     "start_time": "2023-08-13T06:17:46.543330",
     "status": "completed"
    },
    "tags": []
   },
   "source": [
    "### SVM model with stop words  "
   ]
  },
  {
   "cell_type": "code",
   "execution_count": 217,
   "id": "2c6fa17d",
   "metadata": {
    "execution": {
     "iopub.execute_input": "2023-08-13T06:17:46.908294Z",
     "iopub.status.busy": "2023-08-13T06:17:46.907870Z",
     "iopub.status.idle": "2023-08-13T06:17:46.912655Z",
     "shell.execute_reply": "2023-08-13T06:17:46.911251Z"
    },
    "papermill": {
     "duration": 0.129617,
     "end_time": "2023-08-13T06:17:46.915135",
     "exception": false,
     "start_time": "2023-08-13T06:17:46.785518",
     "status": "completed"
    },
    "tags": []
   },
   "outputs": [],
   "source": [
    "# svm_sw_pipe = preprocess_n_train(X_train, y_train, tvec_sw, svm)\n",
    "# svm_sw_pipe"
   ]
  },
  {
   "cell_type": "code",
   "execution_count": 218,
   "id": "14a88c50",
   "metadata": {
    "execution": {
     "iopub.execute_input": "2023-08-13T06:17:47.159515Z",
     "iopub.status.busy": "2023-08-13T06:17:47.159109Z",
     "iopub.status.idle": "2023-08-13T06:17:47.164124Z",
     "shell.execute_reply": "2023-08-13T06:17:47.162842Z"
    },
    "papermill": {
     "duration": 0.128607,
     "end_time": "2023-08-13T06:17:47.166628",
     "exception": false,
     "start_time": "2023-08-13T06:17:47.038021",
     "status": "completed"
    },
    "tags": []
   },
   "outputs": [],
   "source": [
    "# y_pred_svm_sw = predict_n_evaluate(svm_sw_pipe, X_test, y_test)\n",
    "# y_pred_svm_sw"
   ]
  },
  {
   "cell_type": "markdown",
   "id": "5633dc53",
   "metadata": {
    "papermill": {
     "duration": 0.117857,
     "end_time": "2023-08-13T06:17:47.404361",
     "exception": false,
     "start_time": "2023-08-13T06:17:47.286504",
     "status": "completed"
    },
    "tags": []
   },
   "source": [
    "### GaussianNB  "
   ]
  },
  {
   "cell_type": "markdown",
   "id": "15036ef8",
   "metadata": {
    "papermill": {
     "duration": 0.117725,
     "end_time": "2023-08-13T06:17:47.642851",
     "exception": false,
     "start_time": "2023-08-13T06:17:47.525126",
     "status": "completed"
    },
    "tags": []
   },
   "source": [
    "https://stackoverflow.com/questions/28384680/scikit-learns-pipeline-a-sparse-matrix-was-passed-but-dense-data-is-required"
   ]
  },
  {
   "cell_type": "code",
   "execution_count": 219,
   "id": "4fc2c7f6",
   "metadata": {
    "execution": {
     "iopub.execute_input": "2023-08-13T06:17:47.880834Z",
     "iopub.status.busy": "2023-08-13T06:17:47.880431Z",
     "iopub.status.idle": "2023-08-13T06:17:47.885534Z",
     "shell.execute_reply": "2023-08-13T06:17:47.884314Z"
    },
    "papermill": {
     "duration": 0.126817,
     "end_time": "2023-08-13T06:17:47.888155",
     "exception": false,
     "start_time": "2023-08-13T06:17:47.761338",
     "status": "completed"
    },
    "tags": []
   },
   "outputs": [],
   "source": [
    "# gnb = GaussianNB()\n",
    "# gnb"
   ]
  },
  {
   "cell_type": "code",
   "execution_count": 220,
   "id": "b377d656",
   "metadata": {
    "execution": {
     "iopub.execute_input": "2023-08-13T06:17:48.127251Z",
     "iopub.status.busy": "2023-08-13T06:17:48.126824Z",
     "iopub.status.idle": "2023-08-13T06:17:48.131634Z",
     "shell.execute_reply": "2023-08-13T06:17:48.130456Z"
    },
    "papermill": {
     "duration": 0.127323,
     "end_time": "2023-08-13T06:17:48.133936",
     "exception": false,
     "start_time": "2023-08-13T06:17:48.006613",
     "status": "completed"
    },
    "tags": []
   },
   "outputs": [],
   "source": [
    "# gnb_pipe = preprocess_n_train(X_train, y_train, tvec, gnb)\n",
    "# gnb_pipe"
   ]
  },
  {
   "cell_type": "markdown",
   "id": "696a7309",
   "metadata": {
    "papermill": {
     "duration": 0.117743,
     "end_time": "2023-08-13T06:17:48.370287",
     "exception": false,
     "start_time": "2023-08-13T06:17:48.252544",
     "status": "completed"
    },
    "tags": []
   },
   "source": [
    "# Part II (Older code)  \n"
   ]
  },
  {
   "cell_type": "markdown",
   "id": "c4e560b6",
   "metadata": {
    "papermill": {
     "duration": 0.11816,
     "end_time": "2023-08-13T06:17:48.604786",
     "exception": false,
     "start_time": "2023-08-13T06:17:48.486626",
     "status": "completed"
    },
    "tags": []
   },
   "source": [
    "### Separate features and labels from merged dataset  "
   ]
  },
  {
   "cell_type": "code",
   "execution_count": 221,
   "id": "af583e50",
   "metadata": {
    "execution": {
     "iopub.execute_input": "2023-08-13T06:17:48.840973Z",
     "iopub.status.busy": "2023-08-13T06:17:48.840546Z",
     "iopub.status.idle": "2023-08-13T06:17:48.846012Z",
     "shell.execute_reply": "2023-08-13T06:17:48.844820Z"
    },
    "papermill": {
     "duration": 0.126403,
     "end_time": "2023-08-13T06:17:48.848433",
     "exception": false,
     "start_time": "2023-08-13T06:17:48.722030",
     "status": "completed"
    },
    "tags": []
   },
   "outputs": [],
   "source": [
    "# merged_train_features = merged[['movieid', 'reviewerName', 'isFrequentReviewer', 'reviewText',\n",
    "#        'audienceScore', 'rating', 'runtimeMinutes', 'genre',\n",
    "#        'originalLanguage', 'director']]\n",
    "# merged_train_features.shape"
   ]
  },
  {
   "cell_type": "code",
   "execution_count": 222,
   "id": "a5a50095",
   "metadata": {
    "execution": {
     "iopub.execute_input": "2023-08-13T06:17:49.089742Z",
     "iopub.status.busy": "2023-08-13T06:17:49.089339Z",
     "iopub.status.idle": "2023-08-13T06:17:49.094291Z",
     "shell.execute_reply": "2023-08-13T06:17:49.092973Z"
    },
    "papermill": {
     "duration": 0.13097,
     "end_time": "2023-08-13T06:17:49.096666",
     "exception": false,
     "start_time": "2023-08-13T06:17:48.965696",
     "status": "completed"
    },
    "tags": []
   },
   "outputs": [],
   "source": [
    "# merged_train_labels = merged[\"sentiment\"]\n",
    "# merged_train_labels.shape"
   ]
  },
  {
   "cell_type": "markdown",
   "id": "b5a1bb27",
   "metadata": {
    "papermill": {
     "duration": 0.124348,
     "end_time": "2023-08-13T06:17:49.358397",
     "exception": false,
     "start_time": "2023-08-13T06:17:49.234049",
     "status": "completed"
    },
    "tags": []
   },
   "source": [
    "### Identify variable types for different preprocessing pipes  "
   ]
  },
  {
   "cell_type": "code",
   "execution_count": 223,
   "id": "09a53543",
   "metadata": {
    "execution": {
     "iopub.execute_input": "2023-08-13T06:17:49.598946Z",
     "iopub.status.busy": "2023-08-13T06:17:49.598516Z",
     "iopub.status.idle": "2023-08-13T06:17:49.603013Z",
     "shell.execute_reply": "2023-08-13T06:17:49.602036Z"
    },
    "papermill": {
     "duration": 0.127235,
     "end_time": "2023-08-13T06:17:49.605295",
     "exception": false,
     "start_time": "2023-08-13T06:17:49.478060",
     "status": "completed"
    },
    "tags": []
   },
   "outputs": [],
   "source": [
    "# num_vars = [\"audienceScore\", \"runtimeMinutes\"]\n",
    "# txt_vars = [\"originalLanguage\", \"genre\", \"director\", \"reviewerName\", \"reviewText\"]\n",
    "# cat_vars = [\"rating\", \"isFrequentReviewer\"]"
   ]
  },
  {
   "cell_type": "code",
   "execution_count": 224,
   "id": "f4c2d637",
   "metadata": {
    "execution": {
     "iopub.execute_input": "2023-08-13T06:17:49.848674Z",
     "iopub.status.busy": "2023-08-13T06:17:49.847949Z",
     "iopub.status.idle": "2023-08-13T06:17:49.852810Z",
     "shell.execute_reply": "2023-08-13T06:17:49.851267Z"
    },
    "papermill": {
     "duration": 0.128925,
     "end_time": "2023-08-13T06:17:49.855638",
     "exception": false,
     "start_time": "2023-08-13T06:17:49.726713",
     "status": "completed"
    },
    "tags": []
   },
   "outputs": [],
   "source": [
    "# num_pipe = Pipeline(steps=[\n",
    "#                             (\"imputer\", SimpleImputer(strategy=\"mean\", missing_values=np.nan)),\n",
    "#                             (\"scaler\", MinMaxScaler())\n",
    "#                         ])\n",
    "# num_pipe"
   ]
  },
  {
   "cell_type": "code",
   "execution_count": 225,
   "id": "06a52584",
   "metadata": {
    "execution": {
     "iopub.execute_input": "2023-08-13T06:17:50.095739Z",
     "iopub.status.busy": "2023-08-13T06:17:50.094864Z",
     "iopub.status.idle": "2023-08-13T06:17:50.099161Z",
     "shell.execute_reply": "2023-08-13T06:17:50.098289Z"
    },
    "papermill": {
     "duration": 0.128041,
     "end_time": "2023-08-13T06:17:50.101504",
     "exception": false,
     "start_time": "2023-08-13T06:17:49.973463",
     "status": "completed"
    },
    "tags": []
   },
   "outputs": [],
   "source": [
    "# txt_pipe = Pipeline(steps=[\n",
    "#                             (\"tvec\", TfidfVectorizer())\n",
    "#                         ])\n",
    "# txt_pipe"
   ]
  },
  {
   "cell_type": "code",
   "execution_count": 226,
   "id": "9599b587",
   "metadata": {
    "execution": {
     "iopub.execute_input": "2023-08-13T06:17:50.342853Z",
     "iopub.status.busy": "2023-08-13T06:17:50.342113Z",
     "iopub.status.idle": "2023-08-13T06:17:50.346245Z",
     "shell.execute_reply": "2023-08-13T06:17:50.345413Z"
    },
    "papermill": {
     "duration": 0.126669,
     "end_time": "2023-08-13T06:17:50.348472",
     "exception": false,
     "start_time": "2023-08-13T06:17:50.221803",
     "status": "completed"
    },
    "tags": []
   },
   "outputs": [],
   "source": [
    "# cat_pipe = Pipeline(steps=[\n",
    "#                             (\"ohe\", OneHotEncoder(handle_unknown=\"ignore\"))\n",
    "#                         ])\n",
    "# cat_pipe"
   ]
  },
  {
   "cell_type": "code",
   "execution_count": 227,
   "id": "de6089d5",
   "metadata": {
    "execution": {
     "iopub.execute_input": "2023-08-13T06:17:50.588952Z",
     "iopub.status.busy": "2023-08-13T06:17:50.588150Z",
     "iopub.status.idle": "2023-08-13T06:17:50.592298Z",
     "shell.execute_reply": "2023-08-13T06:17:50.591426Z"
    },
    "papermill": {
     "duration": 0.128585,
     "end_time": "2023-08-13T06:17:50.595031",
     "exception": false,
     "start_time": "2023-08-13T06:17:50.466446",
     "status": "completed"
    },
    "tags": []
   },
   "outputs": [],
   "source": [
    "# tfidf_vec_1 = TfidfVectorizer(ngram_range=(1,2))\n",
    "# tfidf_vec_1"
   ]
  },
  {
   "cell_type": "code",
   "execution_count": 228,
   "id": "0c091e41",
   "metadata": {
    "execution": {
     "iopub.execute_input": "2023-08-13T06:17:50.836504Z",
     "iopub.status.busy": "2023-08-13T06:17:50.835697Z",
     "iopub.status.idle": "2023-08-13T06:17:50.840871Z",
     "shell.execute_reply": "2023-08-13T06:17:50.839988Z"
    },
    "papermill": {
     "duration": 0.130099,
     "end_time": "2023-08-13T06:17:50.843277",
     "exception": false,
     "start_time": "2023-08-13T06:17:50.713178",
     "status": "completed"
    },
    "tags": []
   },
   "outputs": [],
   "source": [
    "# ct_final = ColumnTransformer(transformers=[\n",
    "#                                         (\"num\", num_pipe, num_vars),\n",
    "#                                         (\"txt1\", txt_pipe, \"originalLanguage\"),\n",
    "#                                         (\"txt2\", txt_pipe, \"genre\"),\n",
    "#                                         (\"txt3\", txt_pipe, \"director\"),\n",
    "#                                         (\"cat\", cat_pipe, cat_vars),\n",
    "#                                         (\"txt4a\", tfidf_vec_1, \"reviewText\")\n",
    "# #                                         (\"txt4\", TfidfVectorizer(ngram_range=(1,2)), \"reviewText\"),\n",
    "# #                                         (\"cat2\", cat_pipe, [\"isFrequentReviewer\"])\n",
    "#                                         ], remainder=\"drop\", n_jobs=1)\n",
    "\n",
    "# # Note that this transformer drops \"movieid\" column and \"reviewerName\" column  \n",
    "# ct_final"
   ]
  },
  {
   "cell_type": "code",
   "execution_count": 229,
   "id": "ded1eb6c",
   "metadata": {
    "execution": {
     "iopub.execute_input": "2023-08-13T06:17:51.081784Z",
     "iopub.status.busy": "2023-08-13T06:17:51.081028Z",
     "iopub.status.idle": "2023-08-13T06:17:51.086085Z",
     "shell.execute_reply": "2023-08-13T06:17:51.084831Z"
    },
    "papermill": {
     "duration": 0.128906,
     "end_time": "2023-08-13T06:17:51.088695",
     "exception": false,
     "start_time": "2023-08-13T06:17:50.959789",
     "status": "completed"
    },
    "tags": []
   },
   "outputs": [],
   "source": [
    "# pipe_final = Pipeline(steps=[\n",
    "#                         (\"preprocessor\", ct_final),\n",
    "#                         (\"model\", LogisticRegression(max_iter=100000))\n",
    "#                     ])\n",
    "# pipe_final"
   ]
  },
  {
   "cell_type": "code",
   "execution_count": 230,
   "id": "e68fd5f7",
   "metadata": {
    "execution": {
     "iopub.execute_input": "2023-08-13T06:17:51.332937Z",
     "iopub.status.busy": "2023-08-13T06:17:51.331816Z",
     "iopub.status.idle": "2023-08-13T06:17:51.337004Z",
     "shell.execute_reply": "2023-08-13T06:17:51.335672Z"
    },
    "papermill": {
     "duration": 0.131733,
     "end_time": "2023-08-13T06:17:51.339358",
     "exception": false,
     "start_time": "2023-08-13T06:17:51.207625",
     "status": "completed"
    },
    "tags": []
   },
   "outputs": [],
   "source": [
    "# final_vars = num_vars + txt_vars + cat_vars\n",
    "# len(final_vars), final_vars"
   ]
  },
  {
   "cell_type": "markdown",
   "id": "cbd91e06",
   "metadata": {
    "papermill": {
     "duration": 0.120178,
     "end_time": "2023-08-13T06:17:51.579521",
     "exception": false,
     "start_time": "2023-08-13T06:17:51.459343",
     "status": "completed"
    },
    "tags": []
   },
   "source": [
    "### Use \"split_train_predict\" function to run end-to-end pipeline  "
   ]
  },
  {
   "cell_type": "code",
   "execution_count": 231,
   "id": "0d54e981",
   "metadata": {
    "execution": {
     "iopub.execute_input": "2023-08-13T06:17:51.819064Z",
     "iopub.status.busy": "2023-08-13T06:17:51.818634Z",
     "iopub.status.idle": "2023-08-13T06:17:51.823278Z",
     "shell.execute_reply": "2023-08-13T06:17:51.822148Z"
    },
    "papermill": {
     "duration": 0.126687,
     "end_time": "2023-08-13T06:17:51.825487",
     "exception": false,
     "start_time": "2023-08-13T06:17:51.698800",
     "status": "completed"
    },
    "tags": []
   },
   "outputs": [],
   "source": [
    "# split_train_predict(merged_train_features, merged_train_labels, pipe_final, test_size=0.25, random_state=42)"
   ]
  },
  {
   "cell_type": "markdown",
   "id": "addf4c29",
   "metadata": {
    "papermill": {
     "duration": 0.118819,
     "end_time": "2023-08-13T06:17:52.060462",
     "exception": false,
     "start_time": "2023-08-13T06:17:51.941643",
     "status": "completed"
    },
    "tags": []
   },
   "source": [
    "## Try the best four features obtained on local machine  "
   ]
  },
  {
   "cell_type": "code",
   "execution_count": 232,
   "id": "becdc31e",
   "metadata": {
    "execution": {
     "iopub.execute_input": "2023-08-13T06:17:52.375692Z",
     "iopub.status.busy": "2023-08-13T06:17:52.375289Z",
     "iopub.status.idle": "2023-08-13T06:17:52.379668Z",
     "shell.execute_reply": "2023-08-13T06:17:52.378602Z"
    },
    "papermill": {
     "duration": 0.127554,
     "end_time": "2023-08-13T06:17:52.382195",
     "exception": false,
     "start_time": "2023-08-13T06:17:52.254641",
     "status": "completed"
    },
    "tags": []
   },
   "outputs": [],
   "source": [
    "# tfidf_vec_2 = TfidfVectorizer(ngram_range=(1,2))\n",
    "# tfidf_vec_2"
   ]
  },
  {
   "cell_type": "code",
   "execution_count": 233,
   "id": "df839b3e",
   "metadata": {
    "execution": {
     "iopub.execute_input": "2023-08-13T06:17:52.622160Z",
     "iopub.status.busy": "2023-08-13T06:17:52.621713Z",
     "iopub.status.idle": "2023-08-13T06:17:52.626362Z",
     "shell.execute_reply": "2023-08-13T06:17:52.625460Z"
    },
    "papermill": {
     "duration": 0.126999,
     "end_time": "2023-08-13T06:17:52.628334",
     "exception": false,
     "start_time": "2023-08-13T06:17:52.501335",
     "status": "completed"
    },
    "tags": []
   },
   "outputs": [],
   "source": [
    "# ct_best4 = ColumnTransformer(transformers=[\n",
    "#                                             (\"num\", num_pipe, [\"audienceScore\"]),\n",
    "#                                             (\"cat\", cat_pipe, [\"rating\", \"isFrequentReviewer\"]),\n",
    "#                                             (\"tvec\", tfidf_vec_2, \"reviewText\")\n",
    "#                             ])\n",
    "\n",
    "# pipe_best4 = Pipeline(steps=[\n",
    "#     (\"preprocessor\", ct_best4),\n",
    "#     (\"model\", LogisticRegression())\n",
    "# ])\n",
    "\n",
    "# pipe_best4.set_params(model__C=10, model__max_iter=100000)\n",
    "\n",
    "# pipe_best4"
   ]
  },
  {
   "cell_type": "code",
   "execution_count": 234,
   "id": "8b5b94fe",
   "metadata": {
    "execution": {
     "iopub.execute_input": "2023-08-13T06:17:52.865567Z",
     "iopub.status.busy": "2023-08-13T06:17:52.865179Z",
     "iopub.status.idle": "2023-08-13T06:17:52.869120Z",
     "shell.execute_reply": "2023-08-13T06:17:52.868267Z"
    },
    "papermill": {
     "duration": 0.124344,
     "end_time": "2023-08-13T06:17:52.871270",
     "exception": false,
     "start_time": "2023-08-13T06:17:52.746926",
     "status": "completed"
    },
    "tags": []
   },
   "outputs": [],
   "source": [
    "# split_train_predict(merged[[\"audienceScore\", \"rating\", \"isFrequentReviewer\", \"reviewText\"]], merged[\"sentiment\"], pipe_best4, test_size=0.25)"
   ]
  },
  {
   "cell_type": "markdown",
   "id": "cf534946",
   "metadata": {
    "papermill": {
     "duration": 0.120157,
     "end_time": "2023-08-13T06:17:53.110935",
     "exception": false,
     "start_time": "2023-08-13T06:17:52.990778",
     "status": "completed"
    },
    "tags": []
   },
   "source": [
    "## Try only 'reviewText' column  "
   ]
  },
  {
   "cell_type": "code",
   "execution_count": 235,
   "id": "5de89ffb",
   "metadata": {
    "execution": {
     "iopub.execute_input": "2023-08-13T06:17:53.369173Z",
     "iopub.status.busy": "2023-08-13T06:17:53.368299Z",
     "iopub.status.idle": "2023-08-13T06:17:53.372731Z",
     "shell.execute_reply": "2023-08-13T06:17:53.371612Z"
    },
    "papermill": {
     "duration": 0.145564,
     "end_time": "2023-08-13T06:17:53.375563",
     "exception": false,
     "start_time": "2023-08-13T06:17:53.229999",
     "status": "completed"
    },
    "tags": []
   },
   "outputs": [],
   "source": [
    "# tfidf_vec_3 = TfidfVectorizer(ngram_range=(1,2))\n",
    "# tfidf_vec_3"
   ]
  },
  {
   "cell_type": "code",
   "execution_count": 236,
   "id": "6f3c5943",
   "metadata": {
    "execution": {
     "iopub.execute_input": "2023-08-13T06:17:53.632891Z",
     "iopub.status.busy": "2023-08-13T06:17:53.632422Z",
     "iopub.status.idle": "2023-08-13T06:17:53.637743Z",
     "shell.execute_reply": "2023-08-13T06:17:53.636609Z"
    },
    "papermill": {
     "duration": 0.139441,
     "end_time": "2023-08-13T06:17:53.640718",
     "exception": false,
     "start_time": "2023-08-13T06:17:53.501277",
     "status": "completed"
    },
    "tags": []
   },
   "outputs": [],
   "source": [
    "# ct_RTonly = ColumnTransformer(transformers=[\n",
    "#                                             ('txt', tfidf_vec_3, 'reviewText'),\n",
    "#                                             ], remainder='drop')\n",
    "# ct_RTonly"
   ]
  },
  {
   "cell_type": "code",
   "execution_count": 237,
   "id": "ee149d76",
   "metadata": {
    "execution": {
     "iopub.execute_input": "2023-08-13T06:17:53.889099Z",
     "iopub.status.busy": "2023-08-13T06:17:53.888571Z",
     "iopub.status.idle": "2023-08-13T06:17:53.894166Z",
     "shell.execute_reply": "2023-08-13T06:17:53.892958Z"
    },
    "papermill": {
     "duration": 0.129539,
     "end_time": "2023-08-13T06:17:53.896674",
     "exception": false,
     "start_time": "2023-08-13T06:17:53.767135",
     "status": "completed"
    },
    "tags": []
   },
   "outputs": [],
   "source": [
    "# pipe_RTonly = Pipeline(steps=[\n",
    "#     (\"preprocessor\", ct_RTonly),\n",
    "#     (\"model\", LogisticRegression())\n",
    "# ])\n",
    "\n",
    "# pipe_RTonly.set_params(model__C=10, model__max_iter=100000)\n",
    "\n",
    "# pipe_RTonly"
   ]
  },
  {
   "cell_type": "markdown",
   "id": "7a49294f",
   "metadata": {
    "papermill": {
     "duration": 0.120416,
     "end_time": "2023-08-13T06:17:54.137773",
     "exception": false,
     "start_time": "2023-08-13T06:17:54.017357",
     "status": "completed"
    },
    "tags": []
   },
   "source": [
    "## Using the 'submit_v4' function  "
   ]
  },
  {
   "cell_type": "markdown",
   "id": "e22de3cc",
   "metadata": {
    "papermill": {
     "duration": 0.125526,
     "end_time": "2023-08-13T06:17:54.383675",
     "exception": false,
     "start_time": "2023-08-13T06:17:54.258149",
     "status": "completed"
    },
    "tags": []
   },
   "source": [
    "### Try the best 4 parameters with submit_v4 function"
   ]
  },
  {
   "cell_type": "code",
   "execution_count": 238,
   "id": "62f82b6d",
   "metadata": {
    "execution": {
     "iopub.execute_input": "2023-08-13T06:17:54.625398Z",
     "iopub.status.busy": "2023-08-13T06:17:54.624997Z",
     "iopub.status.idle": "2023-08-13T06:17:54.630147Z",
     "shell.execute_reply": "2023-08-13T06:17:54.628914Z"
    },
    "papermill": {
     "duration": 0.128787,
     "end_time": "2023-08-13T06:17:54.632674",
     "exception": false,
     "start_time": "2023-08-13T06:17:54.503887",
     "status": "completed"
    },
    "tags": []
   },
   "outputs": [],
   "source": [
    "# best4 = [\"audienceScore\", \"rating\", \"isFrequentReviewer\", \"reviewText\"]\n",
    "\n",
    "# best4_dict = {'cat': [\"rating\", \"isFrequentReviewer\"],\n",
    "#              'num': [\"audienceScore\"],\n",
    "#              'txt': ['reviewText']}\n",
    "\n",
    "# best4_dict = {'num': [\"audienceScore\"],\n",
    "#              'txt': ['reviewText', 'movieid', 'director']}\n",
    "\n",
    "# best4_dict"
   ]
  },
  {
   "cell_type": "code",
   "execution_count": 239,
   "id": "4949396a",
   "metadata": {
    "execution": {
     "iopub.execute_input": "2023-08-13T06:17:54.881338Z",
     "iopub.status.busy": "2023-08-13T06:17:54.880920Z",
     "iopub.status.idle": "2023-08-13T06:17:54.885712Z",
     "shell.execute_reply": "2023-08-13T06:17:54.884583Z"
    },
    "papermill": {
     "duration": 0.133918,
     "end_time": "2023-08-13T06:17:54.888109",
     "exception": false,
     "start_time": "2023-08-13T06:17:54.754191",
     "status": "completed"
    },
    "tags": []
   },
   "outputs": [],
   "source": [
    "# submit_v4(selected_features=best4_dict)"
   ]
  },
  {
   "cell_type": "markdown",
   "id": "93ced3ae",
   "metadata": {
    "papermill": {
     "duration": 0.119191,
     "end_time": "2023-08-13T06:17:55.131658",
     "exception": false,
     "start_time": "2023-08-13T06:17:55.012467",
     "status": "completed"
    },
    "tags": []
   },
   "source": [
    "### Try the best 3 parameters with submit_v4 function"
   ]
  },
  {
   "cell_type": "code",
   "execution_count": 240,
   "id": "4f638dce",
   "metadata": {
    "execution": {
     "iopub.execute_input": "2023-08-13T06:17:55.371015Z",
     "iopub.status.busy": "2023-08-13T06:17:55.370224Z",
     "iopub.status.idle": "2023-08-13T06:17:55.375615Z",
     "shell.execute_reply": "2023-08-13T06:17:55.374731Z"
    },
    "papermill": {
     "duration": 0.12739,
     "end_time": "2023-08-13T06:17:55.378110",
     "exception": false,
     "start_time": "2023-08-13T06:17:55.250720",
     "status": "completed"
    },
    "tags": []
   },
   "outputs": [],
   "source": [
    "# best3 = [\"audienceScore\", \"isFrequentReviewer\", \"reviewText\"]\n",
    "# best3_dict = {'cat': [\"isFrequentReviewer\"],\n",
    "#              'num': [\"audienceScore\"],\n",
    "#              'txt': ['reviewText']}\n",
    "# best3_dict"
   ]
  },
  {
   "cell_type": "code",
   "execution_count": 241,
   "id": "e6e12b92",
   "metadata": {
    "execution": {
     "iopub.execute_input": "2023-08-13T06:17:55.619680Z",
     "iopub.status.busy": "2023-08-13T06:17:55.618954Z",
     "iopub.status.idle": "2023-08-13T06:17:55.623711Z",
     "shell.execute_reply": "2023-08-13T06:17:55.622862Z"
    },
    "papermill": {
     "duration": 0.130323,
     "end_time": "2023-08-13T06:17:55.626087",
     "exception": false,
     "start_time": "2023-08-13T06:17:55.495764",
     "status": "completed"
    },
    "tags": []
   },
   "outputs": [],
   "source": [
    "# submit_v4(selected_features=best3_dict)"
   ]
  },
  {
   "cell_type": "markdown",
   "id": "1a73e0b5",
   "metadata": {
    "papermill": {
     "duration": 0.116725,
     "end_time": "2023-08-13T06:17:55.860773",
     "exception": false,
     "start_time": "2023-08-13T06:17:55.744048",
     "status": "completed"
    },
    "tags": []
   },
   "source": [
    "## Try throwing almost everything (no boxOffice) at submit_v4!  "
   ]
  },
  {
   "cell_type": "code",
   "execution_count": 242,
   "id": "92acd0aa",
   "metadata": {
    "execution": {
     "iopub.execute_input": "2023-08-13T06:17:56.099201Z",
     "iopub.status.busy": "2023-08-13T06:17:56.098403Z",
     "iopub.status.idle": "2023-08-13T06:17:56.106260Z",
     "shell.execute_reply": "2023-08-13T06:17:56.105090Z"
    },
    "papermill": {
     "duration": 0.129885,
     "end_time": "2023-08-13T06:17:56.108621",
     "exception": false,
     "start_time": "2023-08-13T06:17:55.978736",
     "status": "completed"
    },
    "tags": []
   },
   "outputs": [
    {
     "data": {
      "text/plain": [
       "\"Most from merged = ['movieid', 'reviewerName', 'isFrequentReviewer', 'reviewText',\\n       'audienceScore', 'rating', 'runtimeMinutes', 'genre', \\n       'originalLanguage', 'director']\""
      ]
     },
     "execution_count": 242,
     "metadata": {},
     "output_type": "execute_result"
    }
   ],
   "source": [
    "\"\"\"Most from merged = ['movieid', 'reviewerName', 'isFrequentReviewer', 'reviewText',\n",
    "       'audienceScore', 'rating', 'runtimeMinutes', 'genre', \n",
    "       'originalLanguage', 'director']\"\"\"\n",
    "\n",
    "# almost_dict = {'cat': [\"isFrequentReviewer\", \"rating\", \"originalLanguage\"],\n",
    "#              'num': [\"audienceScore\", \"runtimeMinutes\"],\n",
    "#              'txt': ['reviewText', 'reviewerName', 'movieid', 'genre', 'director']}\n",
    "# almost_dict"
   ]
  },
  {
   "cell_type": "code",
   "execution_count": 243,
   "id": "c6910df2",
   "metadata": {
    "execution": {
     "iopub.execute_input": "2023-08-13T06:17:56.346247Z",
     "iopub.status.busy": "2023-08-13T06:17:56.345466Z",
     "iopub.status.idle": "2023-08-13T06:17:56.350343Z",
     "shell.execute_reply": "2023-08-13T06:17:56.349434Z"
    },
    "papermill": {
     "duration": 0.126857,
     "end_time": "2023-08-13T06:17:56.352744",
     "exception": false,
     "start_time": "2023-08-13T06:17:56.225887",
     "status": "completed"
    },
    "tags": []
   },
   "outputs": [],
   "source": [
    "# submit_v4(selected_features=almost_dict)"
   ]
  },
  {
   "cell_type": "markdown",
   "id": "b3f918c2",
   "metadata": {
    "papermill": {
     "duration": 0.118679,
     "end_time": "2023-08-13T06:17:56.592001",
     "exception": false,
     "start_time": "2023-08-13T06:17:56.473322",
     "status": "completed"
    },
    "tags": []
   },
   "source": [
    "## Try throwing everything possible at submit_v4!  "
   ]
  },
  {
   "cell_type": "code",
   "execution_count": 244,
   "id": "e0a79bd6",
   "metadata": {
    "execution": {
     "iopub.execute_input": "2023-08-13T06:17:56.832799Z",
     "iopub.status.busy": "2023-08-13T06:17:56.832020Z",
     "iopub.status.idle": "2023-08-13T06:17:56.839721Z",
     "shell.execute_reply": "2023-08-13T06:17:56.838460Z"
    },
    "papermill": {
     "duration": 0.129811,
     "end_time": "2023-08-13T06:17:56.841995",
     "exception": false,
     "start_time": "2023-08-13T06:17:56.712184",
     "status": "completed"
    },
    "tags": []
   },
   "outputs": [
    {
     "data": {
      "text/plain": [
       "\"All from merged = ['movieid', 'reviewerName', 'isFrequentReviewer', 'reviewText',\\n       'audienceScore', 'rating', 'runtimeMinutes', 'genre', 'boxOffice',\\n       'originalLanguage', 'director']\""
      ]
     },
     "execution_count": 244,
     "metadata": {},
     "output_type": "execute_result"
    }
   ],
   "source": [
    "\"\"\"All from merged = ['movieid', 'reviewerName', 'isFrequentReviewer', 'reviewText',\n",
    "       'audienceScore', 'rating', 'runtimeMinutes', 'genre', 'boxOffice',\n",
    "       'originalLanguage', 'director']\"\"\"\n",
    "\n",
    "# all_dict = {'cat': [\"isFrequentReviewer\", \"rating\", \"originalLanguage\"],\n",
    "#              'num': [\"audienceScore\", \"runtimeMinutes\", \"boxOffice\"],\n",
    "#              'txt': ['reviewText', 'reviewerName', 'movieid', 'genre', 'director']}\n",
    "# all_dict"
   ]
  },
  {
   "cell_type": "code",
   "execution_count": 245,
   "id": "104eb067",
   "metadata": {
    "execution": {
     "iopub.execute_input": "2023-08-13T06:17:57.078101Z",
     "iopub.status.busy": "2023-08-13T06:17:57.077219Z",
     "iopub.status.idle": "2023-08-13T06:17:57.082873Z",
     "shell.execute_reply": "2023-08-13T06:17:57.081830Z"
    },
    "papermill": {
     "duration": 0.127192,
     "end_time": "2023-08-13T06:17:57.085292",
     "exception": false,
     "start_time": "2023-08-13T06:17:56.958100",
     "status": "completed"
    },
    "tags": []
   },
   "outputs": [],
   "source": [
    "# submit_v4(selected_features=all_dict)"
   ]
  },
  {
   "cell_type": "markdown",
   "id": "4c6967d9",
   "metadata": {
    "papermill": {
     "duration": 0.122242,
     "end_time": "2023-08-13T06:17:57.328456",
     "exception": false,
     "start_time": "2023-08-13T06:17:57.206214",
     "status": "completed"
    },
    "tags": []
   },
   "source": [
    "## Try GridSearchCV on everything  "
   ]
  },
  {
   "cell_type": "code",
   "execution_count": 246,
   "id": "10df4592",
   "metadata": {
    "execution": {
     "iopub.execute_input": "2023-08-13T06:17:57.578582Z",
     "iopub.status.busy": "2023-08-13T06:17:57.577488Z",
     "iopub.status.idle": "2023-08-13T06:17:57.583543Z",
     "shell.execute_reply": "2023-08-13T06:17:57.582326Z"
    },
    "papermill": {
     "duration": 0.133341,
     "end_time": "2023-08-13T06:17:57.586255",
     "exception": false,
     "start_time": "2023-08-13T06:17:57.452914",
     "status": "completed"
    },
    "tags": []
   },
   "outputs": [],
   "source": [
    "# param_grid = {\n",
    "#     \"model__C\": [0.5, 2, 5, 15]\n",
    "# }\n",
    "\n",
    "# param_grid = {\n",
    "#     'model__C' : [1, 5],\n",
    "#     'model__solver': ['lbfgs', 'liblinear', 'newton-cg', 'newton-cholesky', 'sag', 'saga']\n",
    "# }\n",
    "\n",
    "# param_grid = {\n",
    "#     'model__C' : [1, 5],\n",
    "#     'model__solver': ['lbfgs', 'liblinear', 'sag', 'saga']\n",
    "# }\n",
    "\n",
    "# param_grid = {\n",
    "#     'model__C' : [1, 5, 10, 15],\n",
    "#     'model__solver': ['lbfgs', 'liblinear', 'saga', 'newton-cg']\n",
    "# }\n",
    "\n",
    "# param_grid = {\n",
    "#     'model__C' : [1, 5, 10, 20],\n",
    "#     'model__solver': ['lbfgs', 'liblinear', 'saga']\n",
    "# }\n",
    "\n",
    "# param_grid"
   ]
  },
  {
   "cell_type": "code",
   "execution_count": 247,
   "id": "c579c09b",
   "metadata": {
    "execution": {
     "iopub.execute_input": "2023-08-13T06:17:57.826390Z",
     "iopub.status.busy": "2023-08-13T06:17:57.825969Z",
     "iopub.status.idle": "2023-08-13T06:17:57.831432Z",
     "shell.execute_reply": "2023-08-13T06:17:57.830237Z"
    },
    "papermill": {
     "duration": 0.129265,
     "end_time": "2023-08-13T06:17:57.834318",
     "exception": false,
     "start_time": "2023-08-13T06:17:57.705053",
     "status": "completed"
    },
    "tags": []
   },
   "outputs": [],
   "source": [
    "# submit_v4(selected_features={'txt': [\"genre\"]}, param_grid=param_grid)"
   ]
  },
  {
   "cell_type": "code",
   "execution_count": 248,
   "id": "202fbb2b",
   "metadata": {
    "execution": {
     "iopub.execute_input": "2023-08-13T06:17:58.074411Z",
     "iopub.status.busy": "2023-08-13T06:17:58.073627Z",
     "iopub.status.idle": "2023-08-13T06:17:58.081935Z",
     "shell.execute_reply": "2023-08-13T06:17:58.080744Z"
    },
    "papermill": {
     "duration": 0.132211,
     "end_time": "2023-08-13T06:17:58.084353",
     "exception": false,
     "start_time": "2023-08-13T06:17:57.952142",
     "status": "completed"
    },
    "tags": []
   },
   "outputs": [
    {
     "data": {
      "text/plain": [
       "\"Used 'groupby' function instead on 'drop_duplicates' on movies.csv file. \\nIt reduced the number of missing values significantly! \\nThen used LogisticRegression() with GridSearchCV on submit_v4 function with \\nparam_grid={'model__C': [1, 5, 10], 'model__solver': ['lbfgs', 'liblinear', 'saga']}. \\nThe best f1_micro score in GridSearchCV was 0.8399771362056203 which is highest among \\nall the versions so far. Best C was 5 and best solver was 'saga'.\\nScore obtained was 0.84385 which is lower than 0.84441.\""
      ]
     },
     "execution_count": 248,
     "metadata": {},
     "output_type": "execute_result"
    }
   ],
   "source": [
    "# submit_v4(selected_features=all_dict, param_grid=param_grid)\n",
    "\n",
    "# Best C was 5\n",
    "# Best solver was liblinear\n",
    "\n",
    "\"\"\"Used 'groupby' function instead on 'drop_duplicates' on movies.csv file. \n",
    "It reduced the number of missing values significantly! \n",
    "Then used LogisticRegression() with GridSearchCV on submit_v4 function with \n",
    "param_grid={'model__C': [1, 5, 10], 'model__solver': ['lbfgs', 'liblinear', 'saga']}. \n",
    "The best f1_micro score in GridSearchCV was 0.8399771362056203 which is highest among \n",
    "all the versions so far. Best C was 5 and best solver was 'saga'.\n",
    "Score obtained was 0.84385 which is lower than 0.84441.\"\"\""
   ]
  },
  {
   "cell_type": "code",
   "execution_count": 249,
   "id": "94c9d961",
   "metadata": {
    "execution": {
     "iopub.execute_input": "2023-08-13T06:17:58.327269Z",
     "iopub.status.busy": "2023-08-13T06:17:58.326584Z",
     "iopub.status.idle": "2023-08-13T06:17:58.331461Z",
     "shell.execute_reply": "2023-08-13T06:17:58.330287Z"
    },
    "papermill": {
     "duration": 0.128523,
     "end_time": "2023-08-13T06:17:58.333935",
     "exception": false,
     "start_time": "2023-08-13T06:17:58.205412",
     "status": "completed"
    },
    "tags": []
   },
   "outputs": [],
   "source": [
    "# Best 5 parameters\n",
    "\n",
    "# best5_dict = {'num': [\"audienceScore\"],\n",
    "#              'txt': ['reviewText', 'reviewerName','movieid', 'director']}\n",
    "\n",
    "# best5_dict"
   ]
  },
  {
   "cell_type": "code",
   "execution_count": 250,
   "id": "97c28b49",
   "metadata": {
    "execution": {
     "iopub.execute_input": "2023-08-13T06:17:58.576197Z",
     "iopub.status.busy": "2023-08-13T06:17:58.575747Z",
     "iopub.status.idle": "2023-08-13T06:17:58.584700Z",
     "shell.execute_reply": "2023-08-13T06:17:58.583465Z"
    },
    "papermill": {
     "duration": 0.132353,
     "end_time": "2023-08-13T06:17:58.587130",
     "exception": false,
     "start_time": "2023-08-13T06:17:58.454777",
     "status": "completed"
    },
    "tags": []
   },
   "outputs": [
    {
     "data": {
      "text/plain": [
       "\"(Update): Used both CountVectorizer and TfidfVectorizer on a massive GridSearchCV \\nwhich took 22527.2s  (6.25 hrs) to run! Gave a score of 0.8439093822800923 locally and did not overfit!\\nBest params: {'model__C': 1, 'model__solver': 'liblinear'}.\\nHighest public score yet: 0.84591 (Rank up from 9 to 5!)\""
      ]
     },
     "execution_count": 250,
     "metadata": {},
     "output_type": "execute_result"
    }
   ],
   "source": [
    "# Submit best 5 features\n",
    "\n",
    "\"\"\"(Update): Used both CountVectorizer and TfidfVectorizer on a massive GridSearchCV \n",
    "which took 22527.2s  (6.25 hrs) to run! Gave a score of 0.8439093822800923 locally and did not overfit!\n",
    "Best params: {'model__C': 1, 'model__solver': 'liblinear'}.\n",
    "Highest public score yet: 0.84591 (Rank up from 9 to 5!)\"\"\"\n",
    "\n",
    "# param_grid = {\n",
    "#     'model__C' : [5, 10, 15],\n",
    "#     'model__solver': ['lbfgs', 'liblinear', 'saga']\n",
    "# }\n",
    "\n",
    "\n",
    "# Try new param_grid with fit_intercept and dual in logreg\n",
    "\n",
    "# param_grid = {\n",
    "#     'model__C' : [1],\n",
    "#     'model__solver': ['liblinear'],\n",
    "#     \"model__fit_intercept\" : [True, False],\n",
    "#     \"model__dual\" : [True, False] \n",
    "# }\n",
    "\n",
    "\n",
    "# Local testing  \n",
    "# submit_v4(selected_features={'num': ['audienceScore']},\n",
    "#          add_countvec=True)\n",
    "\n",
    "# submit_v4(selected_features={'num': ['audienceScore']},\n",
    "#          add_countvec=True, \n",
    "#           param_grid=param_grid)\n",
    "\n",
    "\n",
    "# Main submission\n",
    "\n",
    "# submit_v4(selected_features=best5_dict,\n",
    "#          add_countvec=True)\n",
    "\n",
    "\n",
    "# submit_v4(selected_features=best5_dict,\n",
    "#           add_countvec=True,\n",
    "#           param_grid=param_grid)"
   ]
  },
  {
   "cell_type": "code",
   "execution_count": 251,
   "id": "f08f88ee",
   "metadata": {
    "execution": {
     "iopub.execute_input": "2023-08-13T06:17:58.828942Z",
     "iopub.status.busy": "2023-08-13T06:17:58.828542Z",
     "iopub.status.idle": "2023-08-13T06:17:58.834530Z",
     "shell.execute_reply": "2023-08-13T06:17:58.833261Z"
    },
    "papermill": {
     "duration": 0.129314,
     "end_time": "2023-08-13T06:17:58.837061",
     "exception": false,
     "start_time": "2023-08-13T06:17:58.707747",
     "status": "completed"
    },
    "tags": []
   },
   "outputs": [],
   "source": [
    "## ALL DICT cv=10\n",
    "\n",
    "# all_dict = {'cat': [\"isFrequentReviewer\", \"rating\", \"originalLanguage\"],\n",
    "#              'num': [\"audienceScore\", \"runtimeMinutes\", \"boxOffice\"],\n",
    "#              'txt': ['reviewText', 'reviewerName', 'movieid', 'genre', 'director']}\n",
    "# print(all_dict)\n",
    "\n",
    "# param_grid = {\n",
    "#     'model__C' : [2, 5, 10],\n",
    "#     'model__solver': ['lbfgs', 'liblinear', 'saga']\n",
    "# }\n",
    "# print(param_grid)\n",
    "\n",
    "# param_grid = {\n",
    "#     'model__C' : [1, 5, 10],\n",
    "#     'model__solver': ['liblinear'],\n",
    "#     \"model__fit_intercept\" : [True, False],\n",
    "#     \"model__dual\" : [True, False] \n",
    "# }\n",
    "\n",
    "\n",
    "# Main submission\n",
    "\n",
    "# submit_v4(selected_model=LogisticRegression(C=5, solver='liblinear', max_iter=10000),\n",
    "#           selected_features=all_dict,\n",
    "#           param_grid=param_grid)\n",
    "\n",
    "# submit_v4(selected_features=all_dict,\n",
    "#           add_countvec=True,\n",
    "#           param_grid=param_grid)"
   ]
  },
  {
   "cell_type": "code",
   "execution_count": 252,
   "id": "41dc026f",
   "metadata": {
    "execution": {
     "iopub.execute_input": "2023-08-13T06:17:59.087872Z",
     "iopub.status.busy": "2023-08-13T06:17:59.087490Z",
     "iopub.status.idle": "2023-08-13T06:17:59.092586Z",
     "shell.execute_reply": "2023-08-13T06:17:59.091357Z"
    },
    "papermill": {
     "duration": 0.134673,
     "end_time": "2023-08-13T06:17:59.094942",
     "exception": false,
     "start_time": "2023-08-13T06:17:58.960269",
     "status": "completed"
    },
    "tags": []
   },
   "outputs": [],
   "source": [
    "# Best 6 parameters\n",
    "\n",
    "# best6_dict = {'cat': [\"isFrequentReviewer\"],\n",
    "#              'num': [\"audienceScore\"],\n",
    "#              'txt': ['reviewText', 'reviewerName', 'genre', 'director']}\n",
    "\n",
    "# best6_dict = {'num': [\"audienceScore\"],\n",
    "#              'txt': ['reviewText', 'reviewerName', 'genre','movieid', 'director']}\n",
    "\n",
    "# best6_dict"
   ]
  },
  {
   "cell_type": "code",
   "execution_count": 253,
   "id": "c965e94f",
   "metadata": {
    "execution": {
     "iopub.execute_input": "2023-08-13T06:17:59.427584Z",
     "iopub.status.busy": "2023-08-13T06:17:59.427195Z",
     "iopub.status.idle": "2023-08-13T06:17:59.432220Z",
     "shell.execute_reply": "2023-08-13T06:17:59.431000Z"
    },
    "papermill": {
     "duration": 0.132009,
     "end_time": "2023-08-13T06:17:59.435530",
     "exception": false,
     "start_time": "2023-08-13T06:17:59.303521",
     "status": "completed"
    },
    "tags": []
   },
   "outputs": [],
   "source": [
    "# Submit best 6 features (version 2)\n",
    "\n",
    "# submit_v4(selected_features=best6_dict,\n",
    "#           param_grid=param_grid)"
   ]
  },
  {
   "cell_type": "code",
   "execution_count": 254,
   "id": "0a63ba58",
   "metadata": {
    "execution": {
     "iopub.execute_input": "2023-08-13T06:17:59.680885Z",
     "iopub.status.busy": "2023-08-13T06:17:59.680468Z",
     "iopub.status.idle": "2023-08-13T06:17:59.684827Z",
     "shell.execute_reply": "2023-08-13T06:17:59.684008Z"
    },
    "papermill": {
     "duration": 0.13063,
     "end_time": "2023-08-13T06:17:59.686771",
     "exception": false,
     "start_time": "2023-08-13T06:17:59.556141",
     "status": "completed"
    },
    "tags": []
   },
   "outputs": [],
   "source": [
    "# Best 7 parameters\n",
    "\n",
    "# best7_dict = {'cat': [\"isFrequentReviewer\"],\n",
    "#              'num': [\"audienceScore\"],\n",
    "#              'txt': ['reviewText', 'reviewerName', 'movieid', 'genre', 'director']}\n",
    "# best7_dict"
   ]
  },
  {
   "cell_type": "code",
   "execution_count": 255,
   "id": "40882de0",
   "metadata": {
    "execution": {
     "iopub.execute_input": "2023-08-13T06:17:59.932679Z",
     "iopub.status.busy": "2023-08-13T06:17:59.932236Z",
     "iopub.status.idle": "2023-08-13T06:17:59.936772Z",
     "shell.execute_reply": "2023-08-13T06:17:59.935909Z"
    },
    "papermill": {
     "duration": 0.128467,
     "end_time": "2023-08-13T06:17:59.939298",
     "exception": false,
     "start_time": "2023-08-13T06:17:59.810831",
     "status": "completed"
    },
    "tags": []
   },
   "outputs": [],
   "source": [
    "# Submit best 7 features\n",
    "\n",
    "# submit_v4(selected_features=best7_dict,\n",
    "#           param_grid=param_grid)"
   ]
  },
  {
   "cell_type": "code",
   "execution_count": 256,
   "id": "73bf31c8",
   "metadata": {
    "execution": {
     "iopub.execute_input": "2023-08-13T06:18:00.187786Z",
     "iopub.status.busy": "2023-08-13T06:18:00.187351Z",
     "iopub.status.idle": "2023-08-13T06:18:00.192297Z",
     "shell.execute_reply": "2023-08-13T06:18:00.191096Z"
    },
    "papermill": {
     "duration": 0.130207,
     "end_time": "2023-08-13T06:18:00.194811",
     "exception": false,
     "start_time": "2023-08-13T06:18:00.064604",
     "status": "completed"
    },
    "tags": []
   },
   "outputs": [],
   "source": [
    "# submit_v4(selected_features=best6_dict, param_grid=param_grid)"
   ]
  },
  {
   "cell_type": "markdown",
   "id": "2b55d01e",
   "metadata": {
    "papermill": {
     "duration": 0.118217,
     "end_time": "2023-08-13T06:18:00.430963",
     "exception": false,
     "start_time": "2023-08-13T06:18:00.312746",
     "status": "completed"
    },
    "tags": []
   },
   "source": [
    "## Try a new feature dict  \n",
    "\n"
   ]
  },
  {
   "cell_type": "code",
   "execution_count": 257,
   "id": "a694305b",
   "metadata": {
    "execution": {
     "iopub.execute_input": "2023-08-13T06:18:00.677912Z",
     "iopub.status.busy": "2023-08-13T06:18:00.677462Z",
     "iopub.status.idle": "2023-08-13T06:18:00.682412Z",
     "shell.execute_reply": "2023-08-13T06:18:00.681396Z"
    },
    "papermill": {
     "duration": 0.129451,
     "end_time": "2023-08-13T06:18:00.684597",
     "exception": false,
     "start_time": "2023-08-13T06:18:00.555146",
     "status": "completed"
    },
    "tags": []
   },
   "outputs": [],
   "source": [
    "# all_dict_new = {'cat': [\"isFrequentReviewer\", \"rating\", \"originalLanguage\"],\n",
    "#              'num': [\"audienceScore\", \"runtimeMinutes\", \"boxOffice\"],\n",
    "#              'txt': ['reviewText', \"reviewerName\", 'movieid', 'genre', 'director']}\n",
    "# all_dict_new"
   ]
  },
  {
   "cell_type": "code",
   "execution_count": 258,
   "id": "abb4d77a",
   "metadata": {
    "execution": {
     "iopub.execute_input": "2023-08-13T06:18:00.926329Z",
     "iopub.status.busy": "2023-08-13T06:18:00.925878Z",
     "iopub.status.idle": "2023-08-13T06:18:00.931142Z",
     "shell.execute_reply": "2023-08-13T06:18:00.929963Z"
    },
    "papermill": {
     "duration": 0.128648,
     "end_time": "2023-08-13T06:18:00.933482",
     "exception": false,
     "start_time": "2023-08-13T06:18:00.804834",
     "status": "completed"
    },
    "tags": []
   },
   "outputs": [],
   "source": [
    "# submit_v4(selected_features={'txt': ['genre']}, param_grid=param_grid)"
   ]
  },
  {
   "cell_type": "code",
   "execution_count": 259,
   "id": "72308151",
   "metadata": {
    "execution": {
     "iopub.execute_input": "2023-08-13T06:18:01.182543Z",
     "iopub.status.busy": "2023-08-13T06:18:01.182132Z",
     "iopub.status.idle": "2023-08-13T06:18:01.187873Z",
     "shell.execute_reply": "2023-08-13T06:18:01.186293Z"
    },
    "papermill": {
     "duration": 0.131584,
     "end_time": "2023-08-13T06:18:01.191441",
     "exception": false,
     "start_time": "2023-08-13T06:18:01.059857",
     "status": "completed"
    },
    "tags": []
   },
   "outputs": [],
   "source": [
    "# submit_v4(selected_features=all_dict_new, param_grid=param_grid)"
   ]
  },
  {
   "cell_type": "code",
   "execution_count": 260,
   "id": "ae622166",
   "metadata": {
    "execution": {
     "iopub.execute_input": "2023-08-13T06:18:01.434340Z",
     "iopub.status.busy": "2023-08-13T06:18:01.433935Z",
     "iopub.status.idle": "2023-08-13T06:18:01.439614Z",
     "shell.execute_reply": "2023-08-13T06:18:01.438310Z"
    },
    "papermill": {
     "duration": 0.129028,
     "end_time": "2023-08-13T06:18:01.442174",
     "exception": false,
     "start_time": "2023-08-13T06:18:01.313146",
     "status": "completed"
    },
    "tags": []
   },
   "outputs": [],
   "source": [
    "# Try non-text based columns\n",
    "# num_cat_dict = {'cat': ['isFrequentReviewer', 'rating', 'originalLanguage'],\n",
    "#  'num': ['audienceScore', 'runtimeMinutes', 'boxOffice']}\n",
    "# num_cat_dict"
   ]
  },
  {
   "cell_type": "code",
   "execution_count": 261,
   "id": "d76de89d",
   "metadata": {
    "execution": {
     "iopub.execute_input": "2023-08-13T06:18:01.685929Z",
     "iopub.status.busy": "2023-08-13T06:18:01.685473Z",
     "iopub.status.idle": "2023-08-13T06:18:01.690411Z",
     "shell.execute_reply": "2023-08-13T06:18:01.689096Z"
    },
    "papermill": {
     "duration": 0.12906,
     "end_time": "2023-08-13T06:18:01.693000",
     "exception": false,
     "start_time": "2023-08-13T06:18:01.563940",
     "status": "completed"
    },
    "tags": []
   },
   "outputs": [],
   "source": [
    "# Use num_cat_dict features\n",
    "# (Update): Gets a local score of 0.7027181356991726. Not great.\n",
    "# submit_v4(selected_model=LogisticRegression(max_iter=100000), selected_features=num_cat_dict, param_grid=param_grid)"
   ]
  },
  {
   "cell_type": "code",
   "execution_count": 262,
   "id": "d09a83e8",
   "metadata": {
    "execution": {
     "iopub.execute_input": "2023-08-13T06:18:01.938501Z",
     "iopub.status.busy": "2023-08-13T06:18:01.938130Z",
     "iopub.status.idle": "2023-08-13T06:18:01.942449Z",
     "shell.execute_reply": "2023-08-13T06:18:01.941501Z"
    },
    "papermill": {
     "duration": 0.126165,
     "end_time": "2023-08-13T06:18:01.944915",
     "exception": false,
     "start_time": "2023-08-13T06:18:01.818750",
     "status": "completed"
    },
    "tags": []
   },
   "outputs": [],
   "source": [
    "# Try data other than reviewText\n",
    "\n",
    "# mov_dict = {'cat': ['rating', 'originalLanguage'],\n",
    "#  'num': ['audienceScore', 'runtimeMinutes', 'boxOffice'],\n",
    "#  'txt': ['movieid', 'genre', 'director']}\n",
    "# mov_dict"
   ]
  },
  {
   "cell_type": "code",
   "execution_count": 263,
   "id": "739081ee",
   "metadata": {
    "execution": {
     "iopub.execute_input": "2023-08-13T06:18:02.189437Z",
     "iopub.status.busy": "2023-08-13T06:18:02.188846Z",
     "iopub.status.idle": "2023-08-13T06:18:02.195224Z",
     "shell.execute_reply": "2023-08-13T06:18:02.193178Z"
    },
    "papermill": {
     "duration": 0.130214,
     "end_time": "2023-08-13T06:18:02.197959",
     "exception": false,
     "start_time": "2023-08-13T06:18:02.067745",
     "status": "completed"
    },
    "tags": []
   },
   "outputs": [],
   "source": [
    "# Use mov_dict features\n",
    "# (Update): Gets a local score of 0.7475454316469369, which is not bad at all.\n",
    "# submit_v4(selected_model=LogisticRegression(max_iter=100000), selected_features=mov_dict, param_grid=param_grid)"
   ]
  },
  {
   "cell_type": "markdown",
   "id": "6651a248",
   "metadata": {
    "papermill": {
     "duration": 0.118534,
     "end_time": "2023-08-13T06:18:02.437751",
     "exception": false,
     "start_time": "2023-08-13T06:18:02.319217",
     "status": "completed"
    },
    "tags": []
   },
   "source": [
    "# Try a new column 'reviewYN'  \n",
    "\n"
   ]
  },
  {
   "cell_type": "code",
   "execution_count": 264,
   "id": "ebbb0e1d",
   "metadata": {
    "execution": {
     "iopub.execute_input": "2023-08-13T06:18:02.678313Z",
     "iopub.status.busy": "2023-08-13T06:18:02.677893Z",
     "iopub.status.idle": "2023-08-13T06:18:02.682381Z",
     "shell.execute_reply": "2023-08-13T06:18:02.681338Z"
    },
    "papermill": {
     "duration": 0.126053,
     "end_time": "2023-08-13T06:18:02.684584",
     "exception": false,
     "start_time": "2023-08-13T06:18:02.558531",
     "status": "completed"
    },
    "tags": []
   },
   "outputs": [],
   "source": [
    "# all_dict_3 = {'cat': [\"isFrequentReviewer\", \"rating\", \"originalLanguage\", \"reviewYN\"],\n",
    "#              'num': [\"audienceScore\", \"runtimeMinutes\", \"boxOffice\"],\n",
    "#              'txt': ['reviewText', \"reviewerName\", 'movieid', 'genre', 'director']}\n",
    "# all_dict_3"
   ]
  },
  {
   "cell_type": "code",
   "execution_count": 265,
   "id": "6f0dc218",
   "metadata": {
    "execution": {
     "iopub.execute_input": "2023-08-13T06:18:02.925403Z",
     "iopub.status.busy": "2023-08-13T06:18:02.924347Z",
     "iopub.status.idle": "2023-08-13T06:18:02.930472Z",
     "shell.execute_reply": "2023-08-13T06:18:02.928999Z"
    },
    "papermill": {
     "duration": 0.129003,
     "end_time": "2023-08-13T06:18:02.933119",
     "exception": false,
     "start_time": "2023-08-13T06:18:02.804116",
     "status": "completed"
    },
    "tags": []
   },
   "outputs": [],
   "source": [
    "# submit_v4(selected_model=LogisticRegression(max_iter=100000),\n",
    "#          selected_features=all_dict_3, \n",
    "#           param_grid=param_grid)"
   ]
  },
  {
   "cell_type": "markdown",
   "id": "eaaac6a9",
   "metadata": {
    "papermill": {
     "duration": 0.119199,
     "end_time": "2023-08-13T06:18:03.178493",
     "exception": false,
     "start_time": "2023-08-13T06:18:03.059294",
     "status": "completed"
    },
    "tags": []
   },
   "source": [
    "### More GridSearchCV using LinearSVC  "
   ]
  },
  {
   "cell_type": "code",
   "execution_count": 266,
   "id": "45bde56d",
   "metadata": {
    "execution": {
     "iopub.execute_input": "2023-08-13T06:18:03.419382Z",
     "iopub.status.busy": "2023-08-13T06:18:03.418989Z",
     "iopub.status.idle": "2023-08-13T06:18:03.423586Z",
     "shell.execute_reply": "2023-08-13T06:18:03.422556Z"
    },
    "papermill": {
     "duration": 0.128597,
     "end_time": "2023-08-13T06:18:03.426050",
     "exception": false,
     "start_time": "2023-08-13T06:18:03.297453",
     "status": "completed"
    },
    "tags": []
   },
   "outputs": [],
   "source": [
    "# param_grid_svc_2 = {\n",
    "#     'model__C': [1.0],\n",
    "#     'model__loss': ['hinge', 'squared_hinge'],\n",
    "#     'model__class_weight': ['balanced', None]\n",
    "# }\n",
    "# param_grid_svc_2"
   ]
  },
  {
   "cell_type": "code",
   "execution_count": 267,
   "id": "1b3f5bf7",
   "metadata": {
    "execution": {
     "iopub.execute_input": "2023-08-13T06:18:03.670790Z",
     "iopub.status.busy": "2023-08-13T06:18:03.670357Z",
     "iopub.status.idle": "2023-08-13T06:18:03.675474Z",
     "shell.execute_reply": "2023-08-13T06:18:03.674205Z"
    },
    "papermill": {
     "duration": 0.130855,
     "end_time": "2023-08-13T06:18:03.678043",
     "exception": false,
     "start_time": "2023-08-13T06:18:03.547188",
     "status": "completed"
    },
    "tags": []
   },
   "outputs": [],
   "source": [
    "# submit_v4(selected_model=LinearSVC(max_iter=100000, random_state=42), selected_features={'num': [\"audienceScore\"]}, param_grid=param_grid_svc_2)"
   ]
  },
  {
   "cell_type": "code",
   "execution_count": 268,
   "id": "8848c072",
   "metadata": {
    "execution": {
     "iopub.execute_input": "2023-08-13T06:18:03.916586Z",
     "iopub.status.busy": "2023-08-13T06:18:03.916169Z",
     "iopub.status.idle": "2023-08-13T06:18:03.921377Z",
     "shell.execute_reply": "2023-08-13T06:18:03.920090Z"
    },
    "papermill": {
     "duration": 0.127773,
     "end_time": "2023-08-13T06:18:03.924053",
     "exception": false,
     "start_time": "2023-08-13T06:18:03.796280",
     "status": "completed"
    },
    "tags": []
   },
   "outputs": [],
   "source": [
    "# submit_v4(selected_model=LinearSVC(max_iter=100000, random_state=42), selected_features=all_dict, param_grid=param_grid_svc_2)"
   ]
  },
  {
   "cell_type": "markdown",
   "id": "0430d506",
   "metadata": {
    "papermill": {
     "duration": 0.117706,
     "end_time": "2023-08-13T06:18:04.233006",
     "exception": false,
     "start_time": "2023-08-13T06:18:04.115300",
     "status": "completed"
    },
    "tags": []
   },
   "source": [
    "### Boosting techniques  "
   ]
  },
  {
   "cell_type": "code",
   "execution_count": 269,
   "id": "b50987f3",
   "metadata": {
    "execution": {
     "iopub.execute_input": "2023-08-13T06:18:04.477757Z",
     "iopub.status.busy": "2023-08-13T06:18:04.477357Z",
     "iopub.status.idle": "2023-08-13T06:18:04.482589Z",
     "shell.execute_reply": "2023-08-13T06:18:04.481440Z"
    },
    "papermill": {
     "duration": 0.132908,
     "end_time": "2023-08-13T06:18:04.485302",
     "exception": false,
     "start_time": "2023-08-13T06:18:04.352394",
     "status": "completed"
    },
    "tags": []
   },
   "outputs": [],
   "source": [
    "# adc = AdaBoostClassifier(estimator=LogisticRegression(C=5, solver=\"saga\", max_iter=100000), n_estimators=50)\n",
    "# adc"
   ]
  },
  {
   "cell_type": "code",
   "execution_count": 270,
   "id": "6b728967",
   "metadata": {
    "execution": {
     "iopub.execute_input": "2023-08-13T06:18:04.725329Z",
     "iopub.status.busy": "2023-08-13T06:18:04.724943Z",
     "iopub.status.idle": "2023-08-13T06:18:04.729688Z",
     "shell.execute_reply": "2023-08-13T06:18:04.728520Z"
    },
    "papermill": {
     "duration": 0.128569,
     "end_time": "2023-08-13T06:18:04.732399",
     "exception": false,
     "start_time": "2023-08-13T06:18:04.603830",
     "status": "completed"
    },
    "tags": []
   },
   "outputs": [],
   "source": [
    "# submit_v4(selected_model=adc, selected_features={'num': [\"audienceScore\"]}, param_grid=None)"
   ]
  },
  {
   "cell_type": "code",
   "execution_count": 271,
   "id": "781fa830",
   "metadata": {
    "execution": {
     "iopub.execute_input": "2023-08-13T06:18:04.979625Z",
     "iopub.status.busy": "2023-08-13T06:18:04.978616Z",
     "iopub.status.idle": "2023-08-13T06:18:04.983551Z",
     "shell.execute_reply": "2023-08-13T06:18:04.982443Z"
    },
    "papermill": {
     "duration": 0.132917,
     "end_time": "2023-08-13T06:18:04.986378",
     "exception": false,
     "start_time": "2023-08-13T06:18:04.853461",
     "status": "completed"
    },
    "tags": []
   },
   "outputs": [],
   "source": [
    "# submit_v4(selected_model=adc, selected_features=all_dict, param_grid=None)\n",
    "\n",
    "# Took 1 hour 15 mins to run and gave a public score of only 0.71089. Discarded."
   ]
  },
  {
   "cell_type": "markdown",
   "id": "fead2384",
   "metadata": {
    "papermill": {
     "duration": 0.118008,
     "end_time": "2023-08-13T06:18:05.222736",
     "exception": false,
     "start_time": "2023-08-13T06:18:05.104728",
     "status": "completed"
    },
    "tags": []
   },
   "source": [
    "### LightGBM  "
   ]
  },
  {
   "cell_type": "code",
   "execution_count": 272,
   "id": "7e19d61a",
   "metadata": {
    "execution": {
     "iopub.execute_input": "2023-08-13T06:18:05.460420Z",
     "iopub.status.busy": "2023-08-13T06:18:05.460009Z",
     "iopub.status.idle": "2023-08-13T06:18:05.464733Z",
     "shell.execute_reply": "2023-08-13T06:18:05.463637Z"
    },
    "papermill": {
     "duration": 0.126487,
     "end_time": "2023-08-13T06:18:05.467262",
     "exception": false,
     "start_time": "2023-08-13T06:18:05.340775",
     "status": "completed"
    },
    "tags": []
   },
   "outputs": [],
   "source": [
    "# lgb = ltb.LGBMClassifier()\n",
    "# lgb"
   ]
  },
  {
   "cell_type": "code",
   "execution_count": 273,
   "id": "01698c15",
   "metadata": {
    "execution": {
     "iopub.execute_input": "2023-08-13T06:18:05.709389Z",
     "iopub.status.busy": "2023-08-13T06:18:05.708721Z",
     "iopub.status.idle": "2023-08-13T06:18:05.713802Z",
     "shell.execute_reply": "2023-08-13T06:18:05.712519Z"
    },
    "papermill": {
     "duration": 0.126595,
     "end_time": "2023-08-13T06:18:05.716154",
     "exception": false,
     "start_time": "2023-08-13T06:18:05.589559",
     "status": "completed"
    },
    "tags": []
   },
   "outputs": [],
   "source": [
    "# Try LightGBM with default settings\n",
    "# (Update): Public score only 0.77713. It was fast, took less than 5 mins (without GridSearchCV)\n",
    "\n",
    "# submit_v4(selected_model=ltb.LGBMClassifier(), selected_features=all_dict, param_grid=None)"
   ]
  },
  {
   "cell_type": "markdown",
   "id": "351e17b9",
   "metadata": {
    "papermill": {
     "duration": 0.116616,
     "end_time": "2023-08-13T06:18:05.952534",
     "exception": false,
     "start_time": "2023-08-13T06:18:05.835918",
     "status": "completed"
    },
    "tags": []
   },
   "source": [
    "# Try feature selection and vocab fine tuning of reviewText column"
   ]
  },
  {
   "cell_type": "markdown",
   "id": "591caab6",
   "metadata": {
    "papermill": {
     "duration": 0.118714,
     "end_time": "2023-08-13T06:18:06.189146",
     "exception": false,
     "start_time": "2023-08-13T06:18:06.070432",
     "status": "completed"
    },
    "tags": []
   },
   "source": [
    "## Plan  \n",
    "* Add a new column 'reviewWC' which has word count of 'reviewText'  \n",
    "    * Check if there is any relationship between 'reviewWC' and 'sentiment'\n",
    "* Work on vocabulary\n",
    "     * Use TfidfVectorizer and find out the vocabulary of 'reviewText' column for various ngrams\n",
    "     * Use RecursiveFeatureElimination (RFE) or RFECV to select 1000 top words/vocab for each ngram\n",
    "     * Use the final vocab (1000-3000 words) in the model and see how it performs compared to whole vocab\n"
   ]
  },
  {
   "cell_type": "code",
   "execution_count": 274,
   "id": "205476e1",
   "metadata": {
    "execution": {
     "iopub.execute_input": "2023-08-13T06:18:06.433717Z",
     "iopub.status.busy": "2023-08-13T06:18:06.432632Z",
     "iopub.status.idle": "2023-08-13T06:18:06.438506Z",
     "shell.execute_reply": "2023-08-13T06:18:06.437268Z"
    },
    "papermill": {
     "duration": 0.13103,
     "end_time": "2023-08-13T06:18:06.441048",
     "exception": false,
     "start_time": "2023-08-13T06:18:06.310018",
     "status": "completed"
    },
    "tags": []
   },
   "outputs": [],
   "source": [
    "# 'reviewWC' and 'sentiment'\n",
    "# (Conclusion): 'reviewWC' is practically same as DummyClassifier (accuracy of 0.6682375059904889 on train data). It just predicts 'positive' for all columns\n",
    "\n",
    "# reviewWC_dict = {\"num\": [\"reviewWC\"]}\n",
    "# submit_v4(selected_model=LogisticRegression(),\n",
    "#          selected_features=reviewWC_dict,\n",
    "#          param_grid=None)"
   ]
  },
  {
   "cell_type": "code",
   "execution_count": 275,
   "id": "316bfdb7",
   "metadata": {
    "execution": {
     "iopub.execute_input": "2023-08-13T06:18:06.680869Z",
     "iopub.status.busy": "2023-08-13T06:18:06.680437Z",
     "iopub.status.idle": "2023-08-13T06:18:06.685126Z",
     "shell.execute_reply": "2023-08-13T06:18:06.684209Z"
    },
    "papermill": {
     "duration": 0.128574,
     "end_time": "2023-08-13T06:18:06.687346",
     "exception": false,
     "start_time": "2023-08-13T06:18:06.558772",
     "status": "completed"
    },
    "tags": []
   },
   "outputs": [],
   "source": [
    "# 'reviewYN' and 'sentiment'\n",
    "# (Conclusion): 'reviewYN' is practically same as DummyClassifier (accuracy of 0.6682375059904889 on train data). It just predicts 'positive' for all columns\n",
    "\n",
    "# reviewYN_dict = {\"cat\": [\"reviewYN\"]}\n",
    "# submit_v4(selected_model=LogisticRegression(),\n",
    "#          selected_features=reviewYN_dict,\n",
    "#          param_grid=None)"
   ]
  },
  {
   "cell_type": "markdown",
   "id": "7dc465e5",
   "metadata": {
    "papermill": {
     "duration": 0.119543,
     "end_time": "2023-08-13T06:18:06.929201",
     "exception": false,
     "start_time": "2023-08-13T06:18:06.809658",
     "status": "completed"
    },
    "tags": []
   },
   "source": [
    "## Submissions using 'vocabulary' built from 'reviewText' data  "
   ]
  },
  {
   "cell_type": "markdown",
   "id": "56beb1ba",
   "metadata": {
    "papermill": {
     "duration": 0.117803,
     "end_time": "2023-08-13T06:18:07.165730",
     "exception": false,
     "start_time": "2023-08-13T06:18:07.047927",
     "status": "completed"
    },
    "tags": []
   },
   "source": [
    "### Submit best 6 features along with common vocab  "
   ]
  },
  {
   "cell_type": "code",
   "execution_count": 276,
   "id": "04538bce",
   "metadata": {
    "execution": {
     "iopub.execute_input": "2023-08-13T06:18:07.404707Z",
     "iopub.status.busy": "2023-08-13T06:18:07.404271Z",
     "iopub.status.idle": "2023-08-13T06:18:07.409072Z",
     "shell.execute_reply": "2023-08-13T06:18:07.407857Z"
    },
    "papermill": {
     "duration": 0.125846,
     "end_time": "2023-08-13T06:18:07.411419",
     "exception": false,
     "start_time": "2023-08-13T06:18:07.285573",
     "status": "completed"
    },
    "tags": []
   },
   "outputs": [],
   "source": [
    "# Best 6 parameters (version 2)  \n",
    "\n",
    "# best6_dict = {'num': [\"audienceScore\"],\n",
    "#              'txt': ['reviewText', 'reviewerName', 'genre','movieid', 'director']}\n",
    "\n",
    "# best6_dict"
   ]
  },
  {
   "cell_type": "code",
   "execution_count": 277,
   "id": "37a55e36",
   "metadata": {
    "execution": {
     "iopub.execute_input": "2023-08-13T06:18:07.652872Z",
     "iopub.status.busy": "2023-08-13T06:18:07.652463Z",
     "iopub.status.idle": "2023-08-13T06:18:07.657728Z",
     "shell.execute_reply": "2023-08-13T06:18:07.656464Z"
    },
    "papermill": {
     "duration": 0.128412,
     "end_time": "2023-08-13T06:18:07.660250",
     "exception": false,
     "start_time": "2023-08-13T06:18:07.531838",
     "status": "completed"
    },
    "tags": []
   },
   "outputs": [],
   "source": [
    "# Submit best 6 features (version 2) with common vocabulary (common_1_2_grams)\n",
    "# (Update): Score 0.82867\n",
    "\n",
    "# submit_v4(selected_features=best6_dict,\n",
    "#           param_grid=param_grid,\n",
    "#          vocab=common_1_2_grams)"
   ]
  },
  {
   "cell_type": "code",
   "execution_count": 278,
   "id": "f4066c55",
   "metadata": {
    "execution": {
     "iopub.execute_input": "2023-08-13T06:18:07.898579Z",
     "iopub.status.busy": "2023-08-13T06:18:07.898203Z",
     "iopub.status.idle": "2023-08-13T06:18:07.903468Z",
     "shell.execute_reply": "2023-08-13T06:18:07.902330Z"
    },
    "papermill": {
     "duration": 0.126728,
     "end_time": "2023-08-13T06:18:07.905797",
     "exception": false,
     "start_time": "2023-08-13T06:18:07.779069",
     "status": "completed"
    },
    "tags": []
   },
   "outputs": [],
   "source": [
    "# Submit best 6 features (version 2) with common vocabulary (common_1_2_3_grams)\n",
    "# Note: for this submission submit_v4 function has to be modified: reviewText TfidfVectorizer must have ngram_range(1,3).\n",
    "# (Update): Score in the range 0.825+\n",
    "\n",
    "# submit_v4(selected_features=best6_dict,\n",
    "#           param_grid=param_grid,\n",
    "#          vocab=common_1_2_3_grams)"
   ]
  }
 ],
 "metadata": {
  "kernelspec": {
   "display_name": "Python 3",
   "language": "python",
   "name": "python3"
  },
  "language_info": {
   "codemirror_mode": {
    "name": "ipython",
    "version": 3
   },
   "file_extension": ".py",
   "mimetype": "text/x-python",
   "name": "python",
   "nbconvert_exporter": "python",
   "pygments_lexer": "ipython3",
   "version": "3.10.10"
  },
  "papermill": {
   "default_parameters": {},
   "duration": 3506.722695,
   "end_time": "2023-08-13T06:18:11.057545",
   "environment_variables": {},
   "exception": null,
   "input_path": "__notebook__.ipynb",
   "output_path": "__notebook__.ipynb",
   "parameters": {},
   "start_time": "2023-08-13T05:19:44.334850",
   "version": "2.4.0"
  }
 },
 "nbformat": 4,
 "nbformat_minor": 5
}
