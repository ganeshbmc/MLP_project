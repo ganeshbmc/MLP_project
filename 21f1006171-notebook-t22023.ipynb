{
 "cells": [
  {
   "cell_type": "markdown",
   "id": "bf75d31f",
   "metadata": {
    "papermill": {
     "duration": 0.064593,
     "end_time": "2023-08-13T15:46:25.026803",
     "exception": false,
     "start_time": "2023-08-13T15:46:24.962210",
     "status": "completed"
    },
    "tags": []
   },
   "source": [
    "# MLP Project (T2 2023) by Ganesh P  "
   ]
  },
  {
   "cell_type": "markdown",
   "id": "1e5373aa",
   "metadata": {
    "papermill": {
     "duration": 0.062629,
     "end_time": "2023-08-13T15:46:25.152945",
     "exception": false,
     "start_time": "2023-08-13T15:46:25.090316",
     "status": "completed"
    },
    "tags": []
   },
   "source": [
    "`Disclaimer`   \n",
    "\n",
    "> This final notebook contains only the most relevant code to show the path/flow of my project work over few weeks. Rest of the code is in [my github repo](https://github.com/ganeshbmc/MLP_project) which is private at present (I will make it public after the project is over).  "
   ]
  },
  {
   "cell_type": "markdown",
   "id": "df1f91b9",
   "metadata": {
    "papermill": {
     "duration": 0.062281,
     "end_time": "2023-08-13T15:46:25.278065",
     "exception": false,
     "start_time": "2023-08-13T15:46:25.215784",
     "status": "completed"
    },
    "tags": []
   },
   "source": [
    "`Strengths`  \n",
    "\n",
    "> * Modular code (DRY principle)  \n",
    "> * End to end pipeline in one function (with helper functions)   "
   ]
  },
  {
   "cell_type": "markdown",
   "id": "7d45a997",
   "metadata": {
    "papermill": {
     "duration": 0.061076,
     "end_time": "2023-08-13T15:46:25.401017",
     "exception": false,
     "start_time": "2023-08-13T15:46:25.339941",
     "status": "completed"
    },
    "tags": []
   },
   "source": [
    "`Overview`  \n",
    "\n",
    "`PART I`  \n",
    "\n",
    "1.\t> Screen the datasets and import them.  \n",
    "2.\t> Perform EDA (first round).\n",
    "3.\t> Data cleaning.\n",
    "4.\t> Basic models including dummy model.\n",
    "5.\t> Because this is a text sentiment analysis project, focus on 'reviewText' column, work on cleaning text data and vectorising/tokenising it, build several models till the best possible score is reached.  \n",
    "\n",
    "`PART II`  \n",
    "\n",
    "6.\t> Merge train and movies dataset.\n",
    "7.\t> Perform EDA (second round) on merged dataset.\n",
    "8.\t> Data cleaning.\n",
    "9.\t> Build models on merged dataset.\n",
    "10.\t> Understand the results and do another round of EDA if needed.\n",
    "11.\t> Build final model.  \n",
    "\n",
    "`PART III (After project window closes)`  \n",
    "\n",
    "12. > Use NLTK library for further processing text data.  \n",
    "13. > Try to address comments from different languages, special characters etc.  \n",
    "14. > Try imblearn library to address class imbalance.  \n",
    "15. > Try to use currently available LLMs and see how my model performs agains them.  "
   ]
  },
  {
   "cell_type": "markdown",
   "id": "ab9b819b",
   "metadata": {
    "papermill": {
     "duration": 0.06178,
     "end_time": "2023-08-13T15:46:25.526228",
     "exception": false,
     "start_time": "2023-08-13T15:46:25.464448",
     "status": "completed"
    },
    "tags": []
   },
   "source": [
    "`Default code on Kaggle notebook`  "
   ]
  },
  {
   "cell_type": "code",
   "execution_count": 1,
   "id": "69164b77",
   "metadata": {
    "_cell_guid": "b1076dfc-b9ad-4769-8c92-a6c4dae69d19",
    "_uuid": "8f2839f25d086af736a60e9eeb907d3b93b6e0e5",
    "execution": {
     "iopub.execute_input": "2023-08-13T15:46:25.652964Z",
     "iopub.status.busy": "2023-08-13T15:46:25.652353Z",
     "iopub.status.idle": "2023-08-13T15:46:25.664959Z",
     "shell.execute_reply": "2023-08-13T15:46:25.663237Z"
    },
    "papermill": {
     "duration": 0.078937,
     "end_time": "2023-08-13T15:46:25.667663",
     "exception": false,
     "start_time": "2023-08-13T15:46:25.588726",
     "status": "completed"
    },
    "tags": []
   },
   "outputs": [
    {
     "name": "stdout",
     "output_type": "stream",
     "text": [
      "/kaggle/input/sentiment-prediction-on-movie-reviews/movies.csv\n",
      "/kaggle/input/sentiment-prediction-on-movie-reviews/sample.csv\n",
      "/kaggle/input/sentiment-prediction-on-movie-reviews/train.csv\n",
      "/kaggle/input/sentiment-prediction-on-movie-reviews/test.csv\n"
     ]
    }
   ],
   "source": [
    "# This Python 3 environment comes with many helpful analytics libraries installed\n",
    "# It is defined by the kaggle/python Docker image: https://github.com/kaggle/docker-python\n",
    "# For example, here's several helpful packages to load\n",
    "\n",
    "import numpy as np # linear algebra\n",
    "import pandas as pd # data processing, CSV file I/O (e.g. pd.read_csv)\n",
    "\n",
    "# Input data files are available in the read-only \"../input/\" directory\n",
    "# For example, running this (by clicking run or pressing Shift+Enter) will list all files under the input directory\n",
    "\n",
    "import os\n",
    "for dirname, _, filenames in os.walk('/kaggle/input'):\n",
    "    for filename in filenames:\n",
    "        print(os.path.join(dirname, filename))\n",
    "\n",
    "# You can write up to 20GB to the current directory (/kaggle/working/) that gets preserved as output when you create a version using \"Save & Run All\" \n",
    "# You can also write temporary files to /kaggle/temp/, but they won't be saved outside of the current session"
   ]
  },
  {
   "cell_type": "markdown",
   "id": "00dc094a",
   "metadata": {
    "papermill": {
     "duration": 0.063225,
     "end_time": "2023-08-13T15:46:25.794562",
     "exception": false,
     "start_time": "2023-08-13T15:46:25.731337",
     "status": "completed"
    },
    "tags": []
   },
   "source": [
    "### Specify platform  "
   ]
  },
  {
   "cell_type": "code",
   "execution_count": 2,
   "id": "3abfeed8",
   "metadata": {
    "execution": {
     "iopub.execute_input": "2023-08-13T15:46:25.922386Z",
     "iopub.status.busy": "2023-08-13T15:46:25.921193Z",
     "iopub.status.idle": "2023-08-13T15:46:25.927237Z",
     "shell.execute_reply": "2023-08-13T15:46:25.925890Z"
    },
    "papermill": {
     "duration": 0.072371,
     "end_time": "2023-08-13T15:46:25.929761",
     "exception": false,
     "start_time": "2023-08-13T15:46:25.857390",
     "status": "completed"
    },
    "tags": []
   },
   "outputs": [],
   "source": [
    "platform = 'vscode'  "
   ]
  },
  {
   "cell_type": "markdown",
   "id": "3d67d0d5",
   "metadata": {
    "papermill": {
     "duration": 0.065153,
     "end_time": "2023-08-13T15:46:26.058935",
     "exception": false,
     "start_time": "2023-08-13T15:46:25.993782",
     "status": "completed"
    },
    "tags": []
   },
   "source": [
    "### Import libraries  "
   ]
  },
  {
   "cell_type": "code",
<<<<<<< HEAD
   "execution_count": 10,
   "id": "78c18411",
=======
   "execution_count": 3,
   "id": "f3ac5291",
>>>>>>> 6691f055d8e53dd1b5c9ca77d7b9683d086fc8f8
   "metadata": {
    "execution": {
     "iopub.execute_input": "2023-08-13T15:46:26.185606Z",
     "iopub.status.busy": "2023-08-13T15:46:26.184517Z",
     "iopub.status.idle": "2023-08-13T15:46:28.339480Z",
     "shell.execute_reply": "2023-08-13T15:46:28.338041Z"
    },
    "papermill": {
     "duration": 2.219729,
     "end_time": "2023-08-13T15:46:28.342027",
     "exception": false,
     "start_time": "2023-08-13T15:46:26.122298",
     "status": "completed"
    },
    "tags": []
   },
   "outputs": [
    {
     "name": "stdout",
     "output_type": "stream",
     "text": [
      "Imports done.\n"
     ]
    }
   ],
   "source": [
    "# Basic libraries\n",
    "import pandas as pd\n",
    "import numpy as np\n",
    "import re\n",
    "from itertools import compress\n",
    "\n",
    "# Visualization libraries\n",
    "import matplotlib.pyplot as plt\n",
    "import seaborn as sns\n",
    "\n",
    "# Statistical libraries\n",
    "import scipy.stats as stats\n",
    "\n",
    "# Sklearn \n",
    "# Preprocessing, feature extraction, feature selection\n",
    "from sklearn.feature_extraction.text import TfidfVectorizer, CountVectorizer\n",
    "from sklearn.preprocessing import StandardScaler, MinMaxScaler, RobustScaler, OneHotEncoder, LabelEncoder, PolynomialFeatures\n",
    "from sklearn.preprocessing import FunctionTransformer\n",
    "from sklearn.impute import SimpleImputer, KNNImputer\n",
    "from sklearn.feature_selection import RFE, RFECV\n",
    "from sklearn.decomposition import PCA, TruncatedSVD\n",
    "from sklearn.pipeline import Pipeline, FeatureUnion\n",
    "from sklearn.compose import ColumnTransformer\n",
    "from sklearn.model_selection import train_test_split, GridSearchCV, cross_val_score\n",
    "\n",
    "# Models\n",
    "from sklearn.dummy import DummyClassifier\n",
    "from sklearn.linear_model import LogisticRegression, SGDClassifier\n",
    "from sklearn.svm import LinearSVC\n",
    "from sklearn.naive_bayes import GaussianNB, BernoulliNB, CategoricalNB, ComplementNB, MultinomialNB\n",
    "from sklearn.neural_network import MLPClassifier\n",
    "from sklearn.tree import DecisionTreeClassifier\n",
    "from sklearn.ensemble import RandomForestClassifier, AdaBoostClassifier, StackingClassifier\n",
    "# import lightgbm as ltb\n",
    "\n",
    "# Evaluation\n",
    "from sklearn.metrics import classification_report, confusion_matrix, f1_score\n",
    "from sklearn.metrics import roc_auc_score, roc_curve, precision_recall_curve\n",
    "\n",
    "print(\"Imports done.\")"
   ]
  },
  {
   "cell_type": "markdown",
   "id": "b92f5dd3",
   "metadata": {
    "papermill": {
     "duration": 0.063877,
     "end_time": "2023-08-13T15:46:28.470300",
     "exception": false,
     "start_time": "2023-08-13T15:46:28.406423",
     "status": "completed"
    },
    "tags": []
   },
   "source": [
    "# PART I  "
   ]
  },
  {
   "cell_type": "markdown",
   "id": "24b7d173",
   "metadata": {
    "papermill": {
     "duration": 0.123501,
     "end_time": "2023-08-13T15:46:28.656643",
     "exception": false,
     "start_time": "2023-08-13T15:46:28.533142",
     "status": "completed"
    },
    "tags": []
   },
   "source": [
    "## Load datasets  "
   ]
  },
  {
   "cell_type": "code",
<<<<<<< HEAD
   "execution_count": 3,
   "id": "8941fc6f",
=======
   "execution_count": 4,
   "id": "57f1f384",
>>>>>>> 6691f055d8e53dd1b5c9ca77d7b9683d086fc8f8
   "metadata": {
    "execution": {
     "iopub.execute_input": "2023-08-13T15:46:28.786750Z",
     "iopub.status.busy": "2023-08-13T15:46:28.786213Z",
     "iopub.status.idle": "2023-08-13T15:46:29.561930Z",
     "shell.execute_reply": "2023-08-13T15:46:29.560488Z"
    },
    "papermill": {
     "duration": 0.843563,
     "end_time": "2023-08-13T15:46:29.564473",
     "exception": false,
     "start_time": "2023-08-13T15:46:28.720910",
     "status": "completed"
    },
    "tags": []
   },
   "outputs": [
    {
     "data": {
      "text/plain": [
       "(162758, 5)"
      ]
     },
     "execution_count": 3,
     "metadata": {},
     "output_type": "execute_result"
    }
   ],
   "source": [
    "if platform == 'vscode':\n",
    "    traindf = pd.read_csv(\"data/train.csv\")\n",
    "else:\n",
    "    traindf = pd.read_csv(\"/kaggle/input/sentiment-prediction-on-movie-reviews/train.csv\")\n",
    "    \n",
    "traindf.shape"
   ]
  },
  {
   "cell_type": "code",
<<<<<<< HEAD
   "execution_count": 4,
   "id": "42c0ea77",
=======
   "execution_count": 5,
   "id": "942dae42",
>>>>>>> 6691f055d8e53dd1b5c9ca77d7b9683d086fc8f8
   "metadata": {
    "execution": {
     "iopub.execute_input": "2023-08-13T15:46:29.695502Z",
     "iopub.status.busy": "2023-08-13T15:46:29.695120Z",
     "iopub.status.idle": "2023-08-13T15:46:29.947344Z",
     "shell.execute_reply": "2023-08-13T15:46:29.946414Z"
    },
    "papermill": {
     "duration": 0.32067,
     "end_time": "2023-08-13T15:46:29.950017",
     "exception": false,
     "start_time": "2023-08-13T15:46:29.629347",
     "status": "completed"
    },
    "tags": []
   },
   "outputs": [
    {
     "data": {
      "text/plain": [
       "(55315, 4)"
      ]
     },
     "execution_count": 4,
     "metadata": {},
     "output_type": "execute_result"
    }
   ],
   "source": [
    "if platform == 'vscode':\n",
    "    testdf = pd.read_csv(\"data/test.csv\")\n",
    "else:\n",
    "    testdf = pd.read_csv(\"/kaggle/input/sentiment-prediction-on-movie-reviews/test.csv\")\n",
    "\n",
    "testdf.shape"
   ]
  },
  {
   "cell_type": "markdown",
   "id": "cb93def6",
   "metadata": {
    "papermill": {
     "duration": 0.080915,
     "end_time": "2023-08-13T15:46:30.097993",
     "exception": false,
     "start_time": "2023-08-13T15:46:30.017078",
     "status": "completed"
    },
    "tags": []
   },
   "source": [
    "### Understanding the data and getting it ready for training and evaluating models  \n"
   ]
  },
  {
   "cell_type": "code",
<<<<<<< HEAD
   "execution_count": 5,
   "id": "e599bd46",
=======
   "execution_count": 6,
   "id": "abbfe6d9",
>>>>>>> 6691f055d8e53dd1b5c9ca77d7b9683d086fc8f8
   "metadata": {
    "execution": {
     "iopub.execute_input": "2023-08-13T15:46:30.229103Z",
     "iopub.status.busy": "2023-08-13T15:46:30.228750Z",
     "iopub.status.idle": "2023-08-13T15:46:30.235041Z",
     "shell.execute_reply": "2023-08-13T15:46:30.234041Z"
    },
    "papermill": {
     "duration": 0.074389,
     "end_time": "2023-08-13T15:46:30.236921",
     "exception": false,
     "start_time": "2023-08-13T15:46:30.162532",
     "status": "completed"
    },
    "tags": []
   },
   "outputs": [
    {
     "data": {
      "text/plain": [
       "(162758, 5)"
      ]
     },
     "execution_count": 5,
     "metadata": {},
     "output_type": "execute_result"
    }
   ],
   "source": [
    "traindf.shape"
   ]
  },
  {
   "cell_type": "code",
<<<<<<< HEAD
   "execution_count": 8,
   "id": "6ff092a4",
=======
   "execution_count": 7,
   "id": "5c691964",
>>>>>>> 6691f055d8e53dd1b5c9ca77d7b9683d086fc8f8
   "metadata": {
    "execution": {
     "iopub.execute_input": "2023-08-13T15:46:30.370760Z",
     "iopub.status.busy": "2023-08-13T15:46:30.370409Z",
     "iopub.status.idle": "2023-08-13T15:46:30.497468Z",
     "shell.execute_reply": "2023-08-13T15:46:30.495975Z"
    },
    "papermill": {
     "duration": 0.197119,
     "end_time": "2023-08-13T15:46:30.499469",
     "exception": false,
     "start_time": "2023-08-13T15:46:30.302350",
     "status": "completed"
    },
    "tags": []
   },
   "outputs": [
    {
     "name": "stdout",
     "output_type": "stream",
     "text": [
      "<class 'pandas.core.frame.DataFrame'>\n",
      "RangeIndex: 162758 entries, 0 to 162757\n",
      "Data columns (total 5 columns):\n",
      " #   Column              Non-Null Count   Dtype \n",
      "---  ------              --------------   ----- \n",
      " 0   movieid             162758 non-null  object\n",
      " 1   reviewerName        162758 non-null  object\n",
      " 2   isFrequentReviewer  162758 non-null  bool  \n",
      " 3   reviewText          156311 non-null  object\n",
      " 4   sentiment           162758 non-null  object\n",
      "dtypes: bool(1), object(4)\n",
      "memory usage: 5.1+ MB\n"
     ]
    }
   ],
   "source": [
    "traindf.info()"
   ]
  },
  {
   "cell_type": "code",
<<<<<<< HEAD
   "execution_count": 9,
   "id": "4336683d",
=======
   "execution_count": 8,
   "id": "e8ec6a16",
>>>>>>> 6691f055d8e53dd1b5c9ca77d7b9683d086fc8f8
   "metadata": {
    "execution": {
     "iopub.execute_input": "2023-08-13T15:46:30.642581Z",
     "iopub.status.busy": "2023-08-13T15:46:30.642225Z",
     "iopub.status.idle": "2023-08-13T15:46:30.753191Z",
     "shell.execute_reply": "2023-08-13T15:46:30.751915Z"
    },
    "papermill": {
     "duration": 0.188576,
     "end_time": "2023-08-13T15:46:30.755361",
     "exception": false,
     "start_time": "2023-08-13T15:46:30.566785",
     "status": "completed"
    },
    "tags": []
   },
   "outputs": [
    {
     "data": {
      "text/plain": [
       "movieid                  0\n",
       "reviewerName             0\n",
       "isFrequentReviewer       0\n",
       "reviewText            6447\n",
       "sentiment                0\n",
       "dtype: int64"
      ]
     },
     "execution_count": 9,
     "metadata": {},
     "output_type": "execute_result"
    }
   ],
   "source": [
    "traindf.isna().sum()"
   ]
  },
  {
   "cell_type": "markdown",
   "id": "3dfee37a",
   "metadata": {
    "papermill": {
     "duration": 0.063512,
     "end_time": "2023-08-13T15:46:30.883497",
     "exception": false,
     "start_time": "2023-08-13T15:46:30.819985",
     "status": "completed"
    },
    "tags": []
   },
   "source": [
    "### Fill empty reviewText with custom text  "
   ]
  },
  {
   "cell_type": "code",
   "execution_count": 9,
   "id": "0d9f4fd4",
   "metadata": {
    "execution": {
     "iopub.execute_input": "2023-08-13T15:46:31.015407Z",
     "iopub.status.busy": "2023-08-13T15:46:31.015037Z",
     "iopub.status.idle": "2023-08-13T15:46:31.140473Z",
     "shell.execute_reply": "2023-08-13T15:46:31.139306Z"
    },
    "papermill": {
     "duration": 0.194259,
     "end_time": "2023-08-13T15:46:31.142495",
     "exception": false,
     "start_time": "2023-08-13T15:46:30.948236",
     "status": "completed"
    },
    "tags": []
   },
   "outputs": [
    {
     "data": {
      "text/plain": [
       "movieid               0\n",
       "reviewerName          0\n",
       "isFrequentReviewer    0\n",
       "reviewText            0\n",
       "sentiment             0\n",
       "dtype: int64"
      ]
     },
     "execution_count": 9,
     "metadata": {},
     "output_type": "execute_result"
    }
   ],
   "source": [
    "traindf[\"reviewText\"].fillna(\"empty\", inplace=True)\n",
    "traindf.isna().sum()"
   ]
  },
  {
   "cell_type": "markdown",
   "id": "cef88fbc",
   "metadata": {
    "papermill": {
     "duration": 0.064671,
     "end_time": "2023-08-13T15:46:31.271192",
     "exception": false,
     "start_time": "2023-08-13T15:46:31.206521",
     "status": "completed"
    },
    "tags": []
   },
   "source": [
    "## EDA  \n"
   ]
  },
  {
   "cell_type": "markdown",
   "id": "1f265743",
   "metadata": {},
   "source": [
    "### Classes  "
   ]
  },
  {
   "cell_type": "code",
   "execution_count": 10,
   "id": "139eba7e",
   "metadata": {
    "execution": {
     "iopub.execute_input": "2023-08-13T15:46:31.402763Z",
     "iopub.status.busy": "2023-08-13T15:46:31.402398Z",
     "iopub.status.idle": "2023-08-13T15:46:31.582381Z",
     "shell.execute_reply": "2023-08-13T15:46:31.581388Z"
    },
    "papermill": {
     "duration": 0.247829,
     "end_time": "2023-08-13T15:46:31.584447",
     "exception": false,
     "start_time": "2023-08-13T15:46:31.336618",
     "status": "completed"
    },
    "tags": []
   },
   "outputs": [
    {
     "data": {
      "image/png": "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",
      "text/plain": [
       "<Figure size 600x400 with 1 Axes>"
      ]
     },
     "metadata": {},
     "output_type": "display_data"
    }
   ],
   "source": [
    "# Pie chart for sentiment column\n",
    "plt.figure(figsize=(6, 4))\n",
    "traindf[\"sentiment\"].value_counts().plot(kind='pie', autopct='%1.0f%%', colors=[\"lightgreen\", \"crimson\"])\n",
    "plt.title(\"Pie chart for sentiment column\")\n",
    "plt.show()"
   ]
  },
  {
   "cell_type": "markdown",
   "id": "40af1b14",
   "metadata": {},
   "source": [
    "`Is there a significant class imbalance?`  \n",
    "\n",
    "* There is some class imbalance but it does not appear to be significant enough to affect performance of model.  \n",
    "\n",
    "* That said, I did experiment with 'class_weight' in the model fitting to see if it would improve the model.  It did not.  "
   ]
  },
  {
   "cell_type": "markdown",
   "id": "6388c4c9",
   "metadata": {},
   "source": [
    "### 'isFrequentReviewer' column  "
   ]
  },
  {
   "cell_type": "code",
   "execution_count": 33,
   "id": "97812f45",
   "metadata": {},
   "outputs": [
    {
     "name": "stdout",
     "output_type": "stream",
     "text": [
      "False    113189\n",
      "True      49569\n",
      "Name: isFrequentReviewer, dtype: int64\n",
      "False    0.695444\n",
      "True     0.304556\n",
      "Name: isFrequentReviewer, dtype: float64\n"
     ]
    }
   ],
   "source": [
    "print(traindf['isFrequentReviewer'].value_counts())\n",
    "print(traindf['isFrequentReviewer'].value_counts(normalize=True))"
   ]
  },
  {
   "cell_type": "code",
   "execution_count": 32,
   "id": "4229e80f",
   "metadata": {},
   "outputs": [
    {
     "data": {
      "text/plain": [
       "<AxesSubplot:xlabel='isFrequentReviewer', ylabel='isFrequentReviewer'>"
      ]
     },
     "execution_count": 32,
     "metadata": {},
     "output_type": "execute_result"
    },
    {
     "data": {
      "image/png": "iVBORw0KGgoAAAANSUhEUgAAAX4AAAEGCAYAAABiq/5QAAAAOXRFWHRTb2Z0d2FyZQBNYXRwbG90bGliIHZlcnNpb24zLjQuMywgaHR0cHM6Ly9tYXRwbG90bGliLm9yZy/MnkTPAAAACXBIWXMAAAsTAAALEwEAmpwYAAAWs0lEQVR4nO3de9RddX3n8feHmyAigoQ0oph2NTrCFCI8cimtghiLqy3BIlbEMVqWsbO8tNOqEy9L0a526KiMOOIleIsWL4hFqDMjpCmoVIoEiIAg0iIgy0Ae8MLFys3v/HF26smTJ8+z85B9niT7/VrrWWfv39mX78k6+Zx9fmfv305VIUnqjx1muwBJ0mgZ/JLUMwa/JPWMwS9JPWPwS1LP7DTbBbSxzz771Pz582e7DEnaplx11VV3V9Wcie3bRPDPnz+f1atXz3YZkrRNSXLbZO129UhSzxj8ktQzBr8k9YzBL0k901nwJ3lmkjVDf/cm+fMkeydZmeTm5nGvrmqQJG2ss+CvqpuqamFVLQQOBX4OnA8sA1ZV1QJgVTMvSRqRUXX1HAv8W1XdBiwGVjTtK4ATRlSDJInRBf/LgM8303Orai1A87jvZCskWZpkdZLV4+PjIypTkrZ/nQd/kl2A44Evbc56VbW8qsaqamzOnI0uPJMkzdAortx9EXB1Vd3VzN+VZF5VrU0yD1g3gho49M2fGcVutI256r2vnO0SpJEbRVfPyfyqmwfgQmBJM70EuGAENUiSGp0Gf5LHA4uAvx9qPh1YlOTm5rnTu6xBkrShTrt6qurnwJMntN3D4CwfSdIs8MpdSeoZg1+Sesbgl6SeMfglqWcMfknqGYNfknrG4JeknjH4JalnDH5J6hmDX5J6xuCXpJ4x+CWpZwx+SeoZg1+Sesbgl6SeMfglqWcMfknqGYNfknrG4JeknjH4JalnDH5J6plOgz/Jk5Kcl+R7SW5McmSSvZOsTHJz87hXlzVIkjbU9RH/mcDXquo/AQcDNwLLgFVVtQBY1cxLkkaks+BP8kTgucAnAKrqoar6KbAYWNEstgI4oasaJEkb6/KI/zeAceBTSa5J8vEkuwNzq2otQPO472QrJ1maZHWS1ePj4x2WKUn90mXw7wQcAnykqp4NPMBmdOtU1fKqGquqsTlz5nRVoyT1TpfBfwdwR1Vd0cyfx+CD4K4k8wCax3Ud1iBJmqCz4K+qO4EfJnlm03QscANwIbCkaVsCXNBVDZKkje3U8fbfAJyTZBfgFuDVDD5szk1yKnA7cFLHNUiShnQa/FW1Bhib5Klju9yvJGnTvHJXknrG4JeknjH4JalnDH5J6hmDX5J6xuCXpJ4x+CWpZwx+SeoZg1+Sesbgl6SeMfglqWcMfknqGYNfknrG4JeknjH4JalnDH5J6hmDX5J6xuCXpJ6ZNviT7JDk+lEUI0nq3rTBX1W/BL6TZP8R1CNJ6ljbm63PA76b5NvAA+sbq+r4TqqSJHWmbfC/eyYbT3IrcB/wKPBIVY0l2Rv4IjAfuBV4aVX9ZCbblyRtvlY/7lbV1xmE9M7N9JXA1S33cUxVLayqsWZ+GbCqqhYAq5p5SdKItAr+JK8BzgM+1jTtB3xlhvtcDKxoplcAJ8xwO5KkGWh7OufrgKOAewGq6mZg3xbrFXBxkquSLG3a5lbV2mY7aze1nSRLk6xOsnp8fLxlmZKk6bTt43+wqh5KAkCSnRiE+nSOqqofJdkXWJnke20Lq6rlwHKAsbGxNvuSJLXQ9oj/60neBuyWZBHwJeAfplupqn7UPK4DzgcOA+5KMg+geVw3k8IlSTPTNviXAePAdcBrgf8LvGOqFZLsnmSP9dPAC4HrgQuBJc1iS4ALNr9sSdJMte3qORo4p6rO3oxtzwXOb7qHdgI+V1VfS3IlcG6SU4HbgZM2Y5uSpMeobfC/CvhoknuAbzZ/l011/n1V3QIcPEn7PcCxm1+qJGlLaBX8VfVKgCRPAV4CnAU8pe36kqStR6vgTvIK4HeB3wLuBj7E4KhfkrSNaXvE/gHg34CPApdU1a1dFSRJ6lbbIRv2Af4E2BX46yTfTvLZTiuTJHWi7ZANTwT2B57OYHC1PYFfdleWJKkrbbt6Lhv6+1BV3dFdSZKkLrU9q+cgGFyIVVUPTLe8JGnr1bar58gkNwA3NvMHJ/lwp5VJkjrRdsiGDwC/B9wDUFXfAZ7bUU2SpA61DX6q6ocTmh7dwrVIkkag7Y+7P0zy20Al2QV4I023jyRp29L2iP9PGdyMZT/gDmBhMy9J2sa0PavnbuCUjmuRJI3AlMGf5C1V9T+T/G8mueNWVb2xs8okSZ2Y7oh/fT/+6q4LkSSNxpTBX1Xrb694bVVdM4J6JEkda/vj7hlJvpfkr5Ic2GlFkqROtR2d8xgGt18cB5YnuS7JlPfclSRtnTbnAq47q+qDDE7tXAO8s6uiJEndaTtWz7OSnJbkuwzuvvUt4KmdViZJ6kTbK3c/BXweWFRVP+qwHklSx9r28R8BLAf22NwdJNkxyTVJvtrM751kZZKbm8e9NnebkqSZa9vV84cM+vW/1swvTHJhy338GRuO67MMWFVVC4BVzbwkaUTa/rh7GnAY8FOAqlrD4BaMU0ryVOD3gY8PNS8GVjTTK4ATWtYgSdoC2gb/I1X1sxls/wPAW9jw/rxzq2otQPO472QrJlmaZHWS1ePj4zPYtSRpMm2D//okLwd2TLKgGbvnW1OtkOQPgHVVddVMCquq5VU1VlVjc+bMmckmJEmTaBv8bwAOBB5kcHbPzxj03U/lKOD4JLcCXwCen+TvgLuSzANoHtfNoG5J0gy1Pavn51X19qp6TlWNAX/H4Hz+qdZ5a1U9tarmAy8D/qmqXgFcCCxpFlsCXDDj6iVJm23K4E9yUJKLk1zfjNMzN8mXgX8EbpjhPk8HFiW5GVjUzEuSRmS6C7jOBj4CXA4cB1wNfA44pap+0XYnVXUpcGkzfQ9w7AxqlSRtAdMF/+Oq6tPN9E1J3gQsqypvtC5J26jpgn/XJM8G0szfDxyUJABVdXWXxUmStrzpgn8tcMbQ/J1D8wU8v4uiJEndme4OXMcAJNl1Yp9+kl27LEyS1I225/FPdrHWlBdwSZK2TlMe8Sf5NWA/YLcJff1PBB7fcW2SpA5M18f/e8CrGNx0Zbiv/z7gbR3VJEnq0HR9/CuAFUlOrKovj6gmSVKH2t6B66vNIG3zh9epqvd0UZQkqTttg/8CBgOzXcVgoDZJ0jaqbfA/taqO67QSSdJItD6dM8lvdVqJJGkk2h7x/w7wqiQ/YNDVE6Cq6qDOKpMkdaJt8L+o0yokSSPT9kYstwFPA57fTP+87bqSpK1Lq/BO8i7gvwNvbZp2ZnAXLknSNqbtUfuLgeOBBwCq6kfAHl0VJUnqTtvgf6iqisFQzCTZvbuSJEldahv85yb5GPCkJK9hcM/ds7srS5LUlVZn9VTV+5IsAu4Fngm8s6pWdlqZJKkTbU/npAn61mHf3KjlG8Djmv2cV1XvSrI38EUG4/7cCry0qn6yGTVLkh6Dtmf13Jfk3ubvF0keTXLvNKs9yOD0z4OBhcBxSY4AlgGrqmoBsKqZlySNSNuung3O4ElyAnDYNOsUg5uzw+D0z50Z/Di8GDi6aV8BXMrgVFGpl25/j6OhaGP7v/O6zrY9o4uwquortLjRepIdk6wB1gErq+oKYG5VrW22sxbYdxPrLk2yOsnq8fHxmZQpSZpEqyP+JH80NLsDMEZzaudUqupRYGGSJwHnJ/nPbQurquXAcoCxsbFp9yVJaqftj7t/ODT9CIMfZRe33UlV/TTJpcBxwF1J5lXV2iTzGHwbkCSNSNs+/ldv7oaTzAEebkJ/N+AFwN8CFwJLgNObxws2d9uSpJlr29Xzwamer6o3TtI8j8H9endk0D10blV9NcnlDC4IOxW4HThpM2uWJD0Gbbt6dgUOYHD+PQzC+ipgzaZWqKprgWdP0n4PcOxmVSlJ2mLaBv8C4JiqehggyUeBi6vqv3VWmSSpE21P53wKG47G+YSmTZK0jWl7xH86cE2SS5r55wGndVKRJKlTbc/q+VSS/wcc3jQtq6o7uytLktSVtmP1hMHpmAdX1QXALkmmHLJBkrR1atvH/2HgSODkZv4+4KxOKpIkdaptH//hVXVIkmsAquonSXbpsC5JUkfaHvE/3FyItf7Wi3OAX3ZWlSSpM22D/4PA+cC+Sf4auAz4m86qkiR1ZtquniQ7AD8A3sLgitsAJ1TVjR3XJknqwLTBX1W/TPL+qjoS+N4IapIkdahtV8/FSU5sTuuUJG3D2p7V8xfA7sAjSX7BoLunquqJnVUmSerElMGf5Iiq+peJ99yVJG27puvq+fD6iWYcfUnSNm664B/u09+1y0IkSaMxXR//Dkn2YvABsX76Pz4MqurHXRYnSdrypgv+PRncaWt92F899FwBv9FFUZKk7kwZ/FU1f0R1SJJGpO2wzEcl2b2ZfkWSM5Ls321pkqQutL2A6yPAz5MczGDohtuAz3ZWlSSpM22D/5GqKmAxcGZVncmG9+DdSJKnJbkkyY1Jvpvkz5r2vZOsTHJz87jXY3sJkqTN0Tb470vyVuAVwP9phmjeeZp1HgH+sqqeBRwBvC7JAcAyYFVVLQBWNfOSpBFpG/x/DDwInNrca3c/4L1TrVBVa6vq6mb6PuDGZr3FwIpmsRXACZtftiRpptrebP1O4Iyh+duBz7TdSZL5wLOBK4C5VbW22c7aJPtuYp2lwFKA/ff3d2RJ2lKmPOJPclnzeF+Se4f+7ktyb5sdJHkC8GXgz6uq1ToAVbW8qsaqamzOnDltV5MkTWO68/h/p3mc0SBtSXZmEPrnVNXfN813JZnXHO3PA9bNZNuSpJlp28e/2Zqx+z8B3FhVZww9dSGwpJleAlzQVQ2SpI21HY9/Jo4C/gtwXZI1TdvbgNOBc5OcCtwOnNRhDZKkCToL/qq6jA1H9xx2bFf7lSRNrbOuHknS1sngl6SeMfglqWcMfknqGYNfknrG4JeknjH4JalnDH5J6hmDX5J6xuCXpJ4x+CWpZwx+SeoZg1+Sesbgl6SeMfglqWcMfknqGYNfknrG4JeknjH4JalnDH5J6hmDX5J6prPgT/LJJOuSXD/UtneSlUlubh736mr/kqTJdXnE/2nguAlty4BVVbUAWNXMS5JGqLPgr6pvAD+e0LwYWNFMrwBO6Gr/kqTJjbqPf25VrQVoHvfd1IJJliZZnWT1+Pj4yAqUpO3dVvvjblUtr6qxqhqbM2fObJcjSduNUQf/XUnmATSP60a8f0nqvVEH/4XAkmZ6CXDBiPcvSb3X5emcnwcuB56Z5I4kpwKnA4uS3AwsauYlSSO0U1cbrqqTN/HUsV3tU5I0va32x11JUjcMfknqGYNfknrG4JeknjH4JalnDH5J6hmDX5J6xuCXpJ4x+CWpZwx+SeoZg1+Sesbgl6SeMfglqWcMfknqGYNfknrG4JeknjH4JalnDH5J6hmDX5J6xuCXpJ4x+CWpZ2Yl+JMcl+SmJP+aZNls1CBJfTXy4E+yI3AW8CLgAODkJAeMug5J6qvZOOI/DPjXqrqlqh4CvgAsnoU6JKmXdpqFfe4H/HBo/g7g8IkLJVkKLG1m709y0whq64t9gLtnu4itQd63ZLZL0IZ8b673rmyJrTx9ssbZCP7JXk1t1FC1HFjefTn9k2R1VY3Ndh3SRL43R2M2unruAJ42NP9U4EezUIck9dJsBP+VwIIkv55kF+BlwIWzUIck9dLIu3qq6pEkrwcuAnYEPllV3x11HT1nF5q2Vr43RyBVG3WvS5K2Y165K0k9Y/BLUs/Mxumc2sKSPApcN9R0QlXduoll76+qJ4ykMAlI8mRgVTP7a8CjwHgzf1hzIadGyD7+7cDmhLnBr9mU5DTg/qp631DbTlX1yOxV1T929WyHkjwhyaokVye5LslGQ2IkmZfkG0nWJLk+ye827S9Mcnmz7peS+CGhLS7Jp5OckeQS4G+TnJbkTUPPX59kfjP9iiTfbt6rH2vG+9JjYPBvH3Zr/lOsSXI+8AvgxVV1CHAM8P4kE6+YfjlwUVUtBA4G1iTZB3gH8IJm3dXAX4zsVahvnsHgvfaXm1ogybOAPwaOat6rjwKnjKa87Zd9/NuHf2/+UwCQZGfgb5I8F/glg/GR5gJ3Dq1zJfDJZtmvVNWaJM9jMGLqPzefE7sAl4/mJaiHvlRVj06zzLHAocCVzXtyN2Bd14Vt7wz+7dMpwBzg0Kp6OMmtwK7DC1TVN5oPht8HPpvkvcBPgJVVdfKoC1YvPTA0/Qgb9kCsf78GWFFVbx1ZVT1gV8/2aU9gXRP6xzDJCH1Jnt4sczbwCeAQ4F+Ao5L8ZrPM45M8Y4R1q79uZfAeJMkhwK837auAlyTZt3lu7+a9q8fAI/7t0znAPyRZDawBvjfJMkcDb07yMHA/8MqqGk/yKuDzSR7XLPcO4PudV6y++zLwyiRrGHRDfh+gqm5I8g7g4iQ7AA8DrwNum61CtweezilJPWNXjyT1jMEvST1j8EtSzxj8ktQzBr8k9YzBr1mV5FvTPH9rM97Q+iEpfntUtbWR5FVJnjI0f2mSm5J8J8mVSRbOcLvHJ1m2xQqVhng6p7ZqzVXHY1V19yae37HFZf+dSXIp8KaqWj1xPsmrgZdX1aLZqm86s/3vp9nhEb9mVZL7m8dJRwvd1DpJ3pPkCuDITY3emOTVSb6f5OtJzk7yoab900leMrGGZvrNzZH6tUne3bTNT3Jjs43vJrk4yW7NNsaAc5p97zah1MsZjJNEkt2TfLLZ9jXrR0xNckWSA4f2f2mSQ5tvEuvrnZPky826VyY5qmm/LsmTMnBPklc27Z9N8oIkOyZ579DreW3z/NFJLknyOTa8j4N6wuDX1mKj0UKHnrukCdYrmvndgeur6nDgHiYZvTHJPODdwFHAIgaDz00pyQuBBcBhwELg0GY8I5r2s6rqQOCnwIlVdR6DEUxPqaqFVfXvEzZ5HPCVZvrtwD9V1XMYjJj63iS7A18AXtrsfx7wlKq6asJ2zgT+V7PuicDHm/Z/bl7fgcAtwPoPyyMYDL9xKvCzZr3nAK9Jsn4ohMOAt1fVtP8u2v44ZIO2FhuNFjr03DETunoeZXCJP2x69MbDgUurahwgyRcZDAM8lRc2f9c0809gEPi3Az8YqukqYP4U2zmnCfUdacafabZ7fH415vyuwP7AucBK4F0MPgC+NMn2XgAckF+NrP3EJHsA3wSey2D4go8AS5PsB/y4qu5vPsgOGvp2s2fzeh4Cvl1VP5jyX0PbLYNfW4XJRgutqs9sYvFfDPVLTzp6Y5ITgE39gPUfI0FmkKa7DG3rf1TVxyZsaz7w4FDToww+YDblFOA7wOnAWcAfNds+sapumrhw001zEINvLq+dZHs7AEdO/EaR5BsMxq3Zn8E3ihcDL2HwgbD+9byhqi6asN7RbDgypnrGrh5tFTL5aKFtbGr0xiuAo5M8ufkWcdLQOrcy+JYAsBjYuZm+CPiTNHcdS7Lf+u1O4T5gj4mNVfUwgwHujsjgZiIXAW9oPmhI8uyhxb8AvAXYs6om63O/GHj9+pn1ZwpV1Q+BfYAFVXULcBnwJn4V/BcB/7V5/SR5RvNNRD1n8GtrcTSDu4Bdw6Af+8w2K1XVDQwC9uIk1zLoNplXVWuB0xj8wPqPwNVDq50NPC/Jtxl0CT3QbOti4HPA5UmuA85jklCf4NPARyf7cbc5Qn8/gzD+KwYfMNcmub6ZX+884GUMun0m80ZgrPmB9gbgT4eeu4JfjZ76TQY/Jl/WzH8cuAG4utnnx/BbvvB0TvVEBsNNj1XV66dbVtreecQvST3jEb8k9YxH/JLUMwa/JPWMwS9JPWPwS1LPGPyS1DP/H+rZP85kiTkbAAAAAElFTkSuQmCC",
      "text/plain": [
       "<Figure size 432x288 with 1 Axes>"
      ]
     },
     "metadata": {
      "needs_background": "light"
     },
     "output_type": "display_data"
    }
   ],
   "source": [
    "# Barchart for isFrequentReviewer  \n",
    "sns.barplot(x='isFrequentReviewer', y='isFrequentReviewer', data=traindf, estimator=lambda x: len(x) / len(traindf) * 100)"
   ]
  },
  {
   "cell_type": "code",
   "execution_count": 34,
   "id": "612181f4",
   "metadata": {},
   "outputs": [],
   "source": [
    "# Pie chart for isFrequentReviewer column  \n",
    "# plt.figure(figsize=(6, 4))\n",
    "# traindf[\"isFrequentReviewer\"].value_counts().plot(kind='pie', autopct='%1.0f%%', colors=[\"lightgreen\", \"crimson\"])\n",
    "# plt.title(\"Pie chart for isFrequentReviewer column\")\n",
    "# plt.show()"
   ]
  },
  {
   "cell_type": "code",
   "execution_count": 11,
   "id": "84720da5",
   "metadata": {
    "execution": {
     "iopub.execute_input": "2023-08-13T15:46:31.731431Z",
     "iopub.status.busy": "2023-08-13T15:46:31.731098Z",
     "iopub.status.idle": "2023-08-13T15:46:31.794901Z",
     "shell.execute_reply": "2023-08-13T15:46:31.793346Z"
    },
    "papermill": {
     "duration": 0.13159,
     "end_time": "2023-08-13T15:46:31.797052",
     "exception": false,
     "start_time": "2023-08-13T15:46:31.665462",
     "status": "completed"
    },
    "tags": []
   },
   "outputs": [
    {
     "name": "stdout",
     "output_type": "stream",
     "text": [
      "sentiment           NEGATIVE  POSITIVE\n",
      "isFrequentReviewer                    \n",
      "False                  35760     77429\n",
      "True                   18237     31332\n"
     ]
    },
    {
     "data": {
      "text/plain": [
       "Chi2ContingencyResult(statistic=419.89235425657796, pvalue=2.5755894769493255e-93, dof=1, expected_freq=array([[37551.86493444, 75637.13506556],\n",
       "       [16445.13506556, 33123.86493444]]))"
      ]
     },
     "execution_count": 11,
     "metadata": {},
     "output_type": "execute_result"
    }
   ],
   "source": [
    "# Chi-square test for isFrequentReviewer column and sentiment column   \n",
    "\n",
    "contingency_table = pd.crosstab(traindf['isFrequentReviewer'], traindf['sentiment'])\n",
    "print(contingency_table)\n",
    "stats.chi2_contingency(contingency_table)"
   ]
  },
  {
   "cell_type": "markdown",
<<<<<<< HEAD
   "id": "9a2c6e8e",
   "metadata": {},
   "source": [
    "`Does a frequent reviewer give more negative (or positive) reviews?`  \n",
    "\n",
    "* It appears that a frequent reviewer is more likely to give a 'negative' review than an infrequent reviewer (36.8% vs. 31.6%, p<0.001).  \n",
    "* This feature may be useful in predicting the sentiment of a review where reviewText is missing or does not contain enough information to determine sentiment.  "
   ]
  },
  {
   "cell_type": "markdown",
   "id": "99fb9165",
   "metadata": {},
   "source": [
    "### Other columns  "
   ]
  },
  {
   "cell_type": "markdown",
   "id": "5a6ceb0c",
   "metadata": {},
   "source": [
    "`How many unique movies and reviewers are there in the dataset?`  "
   ]
  },
  {
   "cell_type": "code",
   "execution_count": 50,
   "id": "9fd6f0b8",
   "metadata": {},
   "outputs": [
    {
     "name": "stdout",
     "output_type": "stream",
     "text": [
      "Number of unique movies in training data: 16812\n",
      "Proportion of unique movies: 10.3%\n"
     ]
    }
   ],
   "source": [
    "print(f\"Number of unique movies in training data: {len(traindf['movieid'].unique())}\")\n",
    "print(f\"Proportion of unique movies: {len(traindf['movieid'].unique())/len(traindf) * 100:.1f}%\")"
   ]
  },
  {
   "cell_type": "code",
   "execution_count": 59,
   "id": "05c97921",
   "metadata": {},
   "outputs": [],
   "source": [
    "# print(f\"Number of unique movies in test data: {len(testdf['movieid'].unique())}\")\n",
    "# print(f\"Proportion of unique movies in test data: {len(testdf['movieid'].unique())/len(testdf) * 100:.1f}%\")"
   ]
  },
  {
   "cell_type": "code",
   "execution_count": 39,
   "id": "183c00a9",
   "metadata": {},
   "outputs": [
    {
     "data": {
      "text/plain": [
       "104"
      ]
     },
     "execution_count": 39,
     "metadata": {},
     "output_type": "execute_result"
    }
   ],
   "source": [
    "# len(set(testdf['movieid'].unique()) - set(traindf['movieid'].unique()))\n",
    "# len(set(traindf['movieid'].unique()) - set(testdf['movieid'].unique()))"
   ]
  },
  {
   "cell_type": "code",
   "execution_count": 54,
   "id": "ff65f07e",
   "metadata": {},
   "outputs": [
    {
     "name": "stdout",
     "output_type": "stream",
     "text": [
      "Number of unique reviewers in the dataset: 4482\n"
     ]
    }
   ],
   "source": [
    "print(f\"Number of unique reviewers in the dataset: {len(traindf['reviewerName'].unique())}\")"
   ]
  },
  {
   "cell_type": "code",
   "execution_count": 61,
   "id": "7e27f7fe",
   "metadata": {},
   "outputs": [
    {
     "data": {
      "text/plain": [
       "Sherri Morrison      962\n",
       "Veronica Serrano     952\n",
       "Mrs. Vickie Young    827\n",
       "Kristy Ferguson      822\n",
       "Heather Pena         797\n",
       "Name: reviewerName, dtype: int64"
      ]
     },
     "execution_count": 61,
     "metadata": {},
     "output_type": "execute_result"
    }
   ],
   "source": [
    "traindf['reviewerName'].value_counts().head()"
   ]
  },
  {
   "cell_type": "code",
   "execution_count": 62,
   "id": "b8d92a79",
   "metadata": {},
   "outputs": [
    {
     "data": {
      "text/plain": [
       "Ashley Munoz     1\n",
       "Ryan Dean        1\n",
       "Joanna Li        1\n",
       "Jason Carroll    1\n",
       "Chad Mueller     1\n",
       "Name: reviewerName, dtype: int64"
      ]
     },
     "execution_count": 62,
     "metadata": {},
     "output_type": "execute_result"
    }
   ],
   "source": [
    "traindf['reviewerName'].value_counts().tail()"
   ]
  },
  {
   "cell_type": "markdown",
   "id": "cb4857fd",
=======
   "id": "fdc36a24",
>>>>>>> 6691f055d8e53dd1b5c9ca77d7b9683d086fc8f8
   "metadata": {
    "papermill": {
     "duration": 0.066654,
     "end_time": "2023-08-13T15:46:31.927733",
     "exception": false,
     "start_time": "2023-08-13T15:46:31.861079",
     "status": "completed"
    },
    "tags": []
   },
   "source": [
    "### Separate features and labels  "
   ]
  },
  {
   "cell_type": "code",
   "execution_count": 12,
   "id": "6ccc2933",
   "metadata": {
    "execution": {
     "iopub.execute_input": "2023-08-13T15:46:32.059235Z",
     "iopub.status.busy": "2023-08-13T15:46:32.058897Z",
     "iopub.status.idle": "2023-08-13T15:46:32.066571Z",
     "shell.execute_reply": "2023-08-13T15:46:32.065171Z"
    },
    "papermill": {
     "duration": 0.075866,
     "end_time": "2023-08-13T15:46:32.069038",
     "exception": false,
     "start_time": "2023-08-13T15:46:31.993172",
     "status": "completed"
    },
    "tags": []
   },
   "outputs": [
    {
     "data": {
      "text/plain": [
       "((162758,), (162758,))"
      ]
     },
     "execution_count": 12,
     "metadata": {},
     "output_type": "execute_result"
    }
   ],
   "source": [
    "train_features = traindf[\"reviewText\"]\n",
    "train_labels = traindf.iloc[:, -1]\n",
    "train_features.shape, train_labels.shape"
   ]
  },
  {
   "cell_type": "markdown",
   "id": "1f161d6b",
   "metadata": {
    "papermill": {
     "duration": 0.063871,
     "end_time": "2023-08-13T15:46:32.198502",
     "exception": false,
     "start_time": "2023-08-13T15:46:32.134631",
     "status": "completed"
    },
    "tags": []
   },
   "source": [
    "### Split traindf into training and testing parts  "
   ]
  },
  {
   "cell_type": "code",
   "execution_count": 13,
   "id": "b4c57a9c",
   "metadata": {
    "execution": {
     "iopub.execute_input": "2023-08-13T15:46:32.330290Z",
     "iopub.status.busy": "2023-08-13T15:46:32.329951Z",
     "iopub.status.idle": "2023-08-13T15:46:32.366724Z",
     "shell.execute_reply": "2023-08-13T15:46:32.365716Z"
    },
    "papermill": {
     "duration": 0.106147,
     "end_time": "2023-08-13T15:46:32.369244",
     "exception": false,
     "start_time": "2023-08-13T15:46:32.263097",
     "status": "completed"
    },
    "tags": []
   },
   "outputs": [
    {
     "data": {
      "text/plain": [
       "((122068,), (40690,), (122068,), (40690,))"
      ]
     },
     "execution_count": 13,
     "metadata": {},
     "output_type": "execute_result"
    }
   ],
   "source": [
    "X_train, X_test, y_train, y_test = train_test_split(train_features, train_labels, test_size=0.25, random_state=42)\n",
    "X_train.shape, X_test.shape, y_train.shape, y_test.shape"
   ]
  },
  {
   "cell_type": "markdown",
   "id": "314b8700",
   "metadata": {
    "papermill": {
     "duration": 0.063232,
     "end_time": "2023-08-13T15:46:32.497237",
     "exception": false,
     "start_time": "2023-08-13T15:46:32.434005",
     "status": "completed"
    },
    "tags": []
   },
   "source": [
    "## Model evaluation plan and code  "
   ]
  },
  {
   "cell_type": "code",
   "execution_count": 14,
   "id": "37498002",
   "metadata": {
    "execution": {
     "iopub.execute_input": "2023-08-13T15:46:32.630141Z",
     "iopub.status.busy": "2023-08-13T15:46:32.629762Z",
     "iopub.status.idle": "2023-08-13T15:46:32.634639Z",
     "shell.execute_reply": "2023-08-13T15:46:32.633049Z"
    },
    "papermill": {
     "duration": 0.074128,
     "end_time": "2023-08-13T15:46:32.637285",
     "exception": false,
     "start_time": "2023-08-13T15:46:32.563157",
     "status": "completed"
    },
    "tags": []
   },
   "outputs": [],
   "source": [
    "# from sklearn.metrics import classification_report, confusion_matrix, ConfusionMatrixDisplay\n",
    "# from sklearn.metrics import f1_score"
   ]
  },
  {
   "cell_type": "code",
   "execution_count": 15,
   "id": "84c3f414",
   "metadata": {
    "execution": {
     "iopub.execute_input": "2023-08-13T15:46:32.768706Z",
     "iopub.status.busy": "2023-08-13T15:46:32.768352Z",
     "iopub.status.idle": "2023-08-13T15:46:32.773427Z",
     "shell.execute_reply": "2023-08-13T15:46:32.772036Z"
    },
    "papermill": {
     "duration": 0.074939,
     "end_time": "2023-08-13T15:46:32.775963",
     "exception": false,
     "start_time": "2023-08-13T15:46:32.701024",
     "status": "completed"
    },
    "tags": []
   },
   "outputs": [],
   "source": [
    "# def evaluate(y_test, y_pred):\n",
    "#     print(classification_report(y_test, y_pred))\n",
    "#     print(confusion_matrix(y_test, y_pred))\n",
    "#     # print(f1_score(y_test, y_pred))\n",
    "#     ConfusionMatrixDisplay(y_test, y_pred)\n",
    "#     return"
   ]
  },
  {
   "cell_type": "markdown",
   "id": "8bd5b3e6",
   "metadata": {
    "papermill": {
     "duration": 0.063618,
     "end_time": "2023-08-13T15:46:32.903662",
     "exception": false,
     "start_time": "2023-08-13T15:46:32.840044",
     "status": "completed"
    },
    "tags": []
   },
   "source": [
    "### Data preprocessing  "
   ]
  },
  {
   "cell_type": "markdown",
   "id": "0ed097f6",
   "metadata": {
    "papermill": {
     "duration": 0.065299,
     "end_time": "2023-08-13T15:46:33.033587",
     "exception": false,
     "start_time": "2023-08-13T15:46:32.968288",
     "status": "completed"
    },
    "tags": []
   },
   "source": [
    "`Define stop words`  "
   ]
  },
  {
   "cell_type": "code",
   "execution_count": 16,
   "id": "d282fdc0",
   "metadata": {
    "execution": {
     "iopub.execute_input": "2023-08-13T15:46:33.167233Z",
     "iopub.status.busy": "2023-08-13T15:46:33.166926Z",
     "iopub.status.idle": "2023-08-13T15:46:33.170348Z",
     "shell.execute_reply": "2023-08-13T15:46:33.169707Z"
    },
    "papermill": {
     "duration": 0.072231,
     "end_time": "2023-08-13T15:46:33.172667",
     "exception": false,
     "start_time": "2023-08-13T15:46:33.100436",
     "status": "completed"
    },
    "tags": []
   },
   "outputs": [],
   "source": [
    "# stop_words = [\"able\", \"about\", \"above\", \"abst\", \"ac\"]     # Deprecated  \n",
    "# type(stop_words), len(stop_words)"
   ]
  },
  {
   "cell_type": "markdown",
   "id": "edad63a6",
   "metadata": {
    "papermill": {
     "duration": 0.064838,
     "end_time": "2023-08-13T15:46:33.303463",
     "exception": false,
     "start_time": "2023-08-13T15:46:33.238625",
     "status": "completed"
    },
    "tags": []
   },
   "source": [
    "## Feature extraction  "
   ]
  },
  {
   "cell_type": "markdown",
   "id": "3bbc3b1c",
   "metadata": {
    "papermill": {
     "duration": 0.066405,
     "end_time": "2023-08-13T15:46:33.435005",
     "exception": false,
     "start_time": "2023-08-13T15:46:33.368600",
     "status": "completed"
    },
    "tags": []
   },
   "source": [
    "### Understand CountVectorizer and TfidfVectorizer  "
   ]
  },
  {
   "cell_type": "code",
   "execution_count": 17,
   "id": "e5a43f6d",
   "metadata": {
    "execution": {
     "iopub.execute_input": "2023-08-13T15:46:33.567637Z",
     "iopub.status.busy": "2023-08-13T15:46:33.567324Z",
     "iopub.status.idle": "2023-08-13T15:46:33.570498Z",
     "shell.execute_reply": "2023-08-13T15:46:33.569893Z"
    },
    "papermill": {
     "duration": 0.07179,
     "end_time": "2023-08-13T15:46:33.572503",
     "exception": false,
     "start_time": "2023-08-13T15:46:33.500713",
     "status": "completed"
    },
    "tags": []
   },
   "outputs": [],
   "source": [
    "# text = X_train.copy()\n",
    "# text.head()"
   ]
  },
  {
   "cell_type": "code",
   "execution_count": 18,
   "id": "2a4bd53a",
   "metadata": {
    "execution": {
     "iopub.execute_input": "2023-08-13T15:46:33.704949Z",
     "iopub.status.busy": "2023-08-13T15:46:33.704521Z",
     "iopub.status.idle": "2023-08-13T15:46:33.708702Z",
     "shell.execute_reply": "2023-08-13T15:46:33.707796Z"
    },
    "papermill": {
     "duration": 0.07198,
     "end_time": "2023-08-13T15:46:33.710549",
     "exception": false,
     "start_time": "2023-08-13T15:46:33.638569",
     "status": "completed"
    },
    "tags": []
   },
   "outputs": [],
   "source": [
    "# vectorizer = TfidfVectorizer(stop_words=stop_words)\n",
    "# vectorized_text = vectorizer.fit_transform(text[\"reviewText\"])\n",
    "# vectorized_text"
   ]
  },
  {
   "cell_type": "markdown",
   "id": "1f6f39da",
   "metadata": {
    "papermill": {
     "duration": 0.063815,
     "end_time": "2023-08-13T15:46:33.839029",
     "exception": false,
     "start_time": "2023-08-13T15:46:33.775214",
     "status": "completed"
    },
    "tags": []
   },
   "source": [
    "`Without stop words`  \n",
    "<122068x58624 sparse matrix of type '<class 'numpy.float64'>'\n",
    "\twith 2312222 stored elements in Compressed Sparse Row format>\n",
    "\n",
    "`With stop words`  \n",
    "<122068x57784 sparse matrix of type '<class 'numpy.float64'>'\n",
    "\twith 1188395 stored elements in Compressed Sparse Row format>   "
   ]
  },
  {
   "cell_type": "code",
   "execution_count": 19,
   "id": "b2144e67",
   "metadata": {
    "execution": {
     "iopub.execute_input": "2023-08-13T15:46:33.969653Z",
     "iopub.status.busy": "2023-08-13T15:46:33.969336Z",
     "iopub.status.idle": "2023-08-13T15:46:33.973035Z",
     "shell.execute_reply": "2023-08-13T15:46:33.972084Z"
    },
    "papermill": {
     "duration": 0.07052,
     "end_time": "2023-08-13T15:46:33.974645",
     "exception": false,
     "start_time": "2023-08-13T15:46:33.904125",
     "status": "completed"
    },
    "tags": []
   },
   "outputs": [],
   "source": [
    "# vectorizer2 = CountVectorizer(stop_words=stop_words)\n",
    "# vectorized_text2 = vectorizer2.fit_transform(text[\"reviewText\"])\n",
    "# vectorized_text2"
   ]
  },
  {
   "cell_type": "markdown",
   "id": "2ae2f7dd",
   "metadata": {
    "papermill": {
     "duration": 0.064672,
     "end_time": "2023-08-13T15:46:34.104175",
     "exception": false,
     "start_time": "2023-08-13T15:46:34.039503",
     "status": "completed"
    },
    "tags": []
   },
   "source": [
    "`Without stop words`  \n",
    "<122068x58624 sparse matrix of type '<class 'numpy.int64'>'\n",
    "\twith 2312222 stored elements in Compressed Sparse Row format>\n",
    "\n",
    "`With stop words`  \n",
    "<122068x57784 sparse matrix of type '<class 'numpy.int64'>'\n",
    "\twith 1188395 stored elements in Compressed Sparse Row format>"
   ]
  },
  {
   "cell_type": "markdown",
   "id": "39a4cb06",
   "metadata": {
    "papermill": {
     "duration": 0.063142,
     "end_time": "2023-08-13T15:46:34.232095",
     "exception": false,
     "start_time": "2023-08-13T15:46:34.168953",
     "status": "completed"
    },
    "tags": []
   },
   "source": [
    "### Conclusion   \n",
    "`TfidfVectorizer is equivalent to CountVectorizer followed by TfidfTransformer.`  \n",
    "\n",
    "https://scikit-learn.org/stable/modules/generated/sklearn.feature_extraction.text.TfidfVectorizer.html"
   ]
  },
  {
   "cell_type": "markdown",
   "id": "bd60c5a7",
   "metadata": {
    "papermill": {
     "duration": 0.066483,
     "end_time": "2023-08-13T15:46:34.363955",
     "exception": false,
     "start_time": "2023-08-13T15:46:34.297472",
     "status": "completed"
    },
    "tags": []
   },
   "source": [
    "## Model building workflow  \n",
    "\n",
    "`Make pipeline for preprocesing and model training and predictions`  \n"
   ]
  },
  {
   "cell_type": "code",
   "execution_count": 20,
   "id": "eceeb93a",
   "metadata": {
    "execution": {
     "iopub.execute_input": "2023-08-13T15:46:34.495467Z",
     "iopub.status.busy": "2023-08-13T15:46:34.495103Z",
     "iopub.status.idle": "2023-08-13T15:46:34.499558Z",
     "shell.execute_reply": "2023-08-13T15:46:34.498685Z"
    },
    "papermill": {
     "duration": 0.072443,
     "end_time": "2023-08-13T15:46:34.501361",
     "exception": false,
     "start_time": "2023-08-13T15:46:34.428918",
     "status": "completed"
    },
    "tags": []
   },
   "outputs": [],
   "source": [
    "# def preprocess_n_train(X_train, y_train, preprocessor, model):\n",
    "#     pipe = Pipeline(steps=[\n",
    "#                             (\"preprocessor\", preprocessor),\n",
    "#                             (\"model\", model)\n",
    "#                         ])\n",
    "    \n",
    "#     pipe.fit(X_train, y_train)\n",
    "\n",
    "#     print(\"Given model has been trained. Use predict method to get predictions array.\")\n",
    "#     return pipe\n",
    "\n",
    "\n",
    "# def predict_n_evaluate(pipeline, X_test, y_test):\n",
    "#     y_pred = pipeline.predict(X_test)\n",
    "#     print(f\"y_pred shape: {y_pred.shape}\")\n",
    "#     print(f\"Summary of predictions: {np.unique(y_pred, return_counts=True)}\")\n",
    "#     print(classification_report(y_test, y_pred))\n",
    "#     print(confusion_matrix(y_test, y_pred))\n",
    "#     return y_pred"
   ]
  },
  {
   "cell_type": "markdown",
   "id": "4147493b",
   "metadata": {
    "papermill": {
     "duration": 0.062794,
     "end_time": "2023-08-13T15:46:34.628525",
     "exception": false,
     "start_time": "2023-08-13T15:46:34.565731",
     "status": "completed"
    },
    "tags": []
   },
   "source": [
    "## Building 3 basic models  "
   ]
  },
  {
   "cell_type": "markdown",
   "id": "1f17b623",
   "metadata": {
    "papermill": {
     "duration": 0.065167,
     "end_time": "2023-08-13T15:46:34.758464",
     "exception": false,
     "start_time": "2023-08-13T15:46:34.693297",
     "status": "completed"
    },
    "tags": []
   },
   "source": [
    "### Text preprocessors  "
   ]
  },
  {
   "cell_type": "code",
   "execution_count": 21,
   "id": "ea6747fe",
   "metadata": {
    "execution": {
     "iopub.execute_input": "2023-08-13T15:46:34.889582Z",
     "iopub.status.busy": "2023-08-13T15:46:34.889219Z",
     "iopub.status.idle": "2023-08-13T15:46:34.893868Z",
     "shell.execute_reply": "2023-08-13T15:46:34.892436Z"
    },
    "papermill": {
     "duration": 0.072853,
     "end_time": "2023-08-13T15:46:34.896233",
     "exception": false,
     "start_time": "2023-08-13T15:46:34.823380",
     "status": "completed"
    },
    "tags": []
   },
   "outputs": [],
   "source": [
    "# tvec = TfidfVectorizer()\n",
    "# cvec = CountVectorizer()        # Note that TfidfVectorizer and CountVectorizer+TfidsTransformer do the same function\n",
    "# tvec, cvec"
   ]
  },
  {
   "cell_type": "markdown",
   "id": "68c95943",
   "metadata": {
    "papermill": {
     "duration": 0.065035,
     "end_time": "2023-08-13T15:46:35.025049",
     "exception": false,
     "start_time": "2023-08-13T15:46:34.960014",
     "status": "completed"
    },
    "tags": []
   },
   "source": [
    "### Logistic Regression with TfidVectorizer for preprocessing  "
   ]
  },
  {
   "cell_type": "code",
   "execution_count": 22,
   "id": "ff9f0d9f",
   "metadata": {
    "execution": {
     "iopub.execute_input": "2023-08-13T15:46:35.156705Z",
     "iopub.status.busy": "2023-08-13T15:46:35.156369Z",
     "iopub.status.idle": "2023-08-13T15:46:35.159715Z",
     "shell.execute_reply": "2023-08-13T15:46:35.159044Z"
    },
    "papermill": {
     "duration": 0.070902,
     "end_time": "2023-08-13T15:46:35.161632",
     "exception": false,
     "start_time": "2023-08-13T15:46:35.090730",
     "status": "completed"
    },
    "tags": []
   },
   "outputs": [],
   "source": [
    "# logreg = LogisticRegression(max_iter=1000)\n",
    "# logreg_pipe = preprocess_n_train(X_train, y_train, tvec, logreg)\n",
    "# y_pred_logreg = predict_n_evaluate(logreg_pipe, X_test, y_test)\n",
    "# y_pred_logreg"
   ]
  },
  {
   "cell_type": "markdown",
   "id": "afe03507",
   "metadata": {
    "papermill": {
     "duration": 0.063901,
     "end_time": "2023-08-13T15:46:35.293717",
     "exception": false,
     "start_time": "2023-08-13T15:46:35.229816",
     "status": "completed"
    },
    "tags": []
   },
   "source": [
    "### SVM model  "
   ]
  },
  {
   "cell_type": "code",
   "execution_count": 23,
   "id": "ccea0a90",
   "metadata": {
    "execution": {
     "iopub.execute_input": "2023-08-13T15:46:35.424723Z",
     "iopub.status.busy": "2023-08-13T15:46:35.424350Z",
     "iopub.status.idle": "2023-08-13T15:46:35.428455Z",
     "shell.execute_reply": "2023-08-13T15:46:35.427146Z"
    },
    "papermill": {
     "duration": 0.07255,
     "end_time": "2023-08-13T15:46:35.430867",
     "exception": false,
     "start_time": "2023-08-13T15:46:35.358317",
     "status": "completed"
    },
    "tags": []
   },
   "outputs": [],
   "source": [
    "# svm = LinearSVC()\n",
    "# svm_pipe = preprocess_n_train(X_train, y_train, tvec, svm)\n",
    "# y_pred_svm = predict_n_evaluate(svm_pipe, X_test, y_test)\n",
    "# y_pred_svm"
   ]
  },
  {
   "cell_type": "markdown",
   "id": "fcb82684",
   "metadata": {
    "papermill": {
     "duration": 0.064703,
     "end_time": "2023-08-13T15:46:35.560110",
     "exception": false,
     "start_time": "2023-08-13T15:46:35.495407",
     "status": "completed"
    },
    "tags": []
   },
   "source": [
    "### Naive Bayes model  "
   ]
  },
  {
   "cell_type": "markdown",
   "id": "d3246c2b",
   "metadata": {
    "papermill": {
     "duration": 0.06331,
     "end_time": "2023-08-13T15:46:35.691060",
     "exception": false,
     "start_time": "2023-08-13T15:46:35.627750",
     "status": "completed"
    },
    "tags": []
   },
   "source": [
    "#### MultinomialNB  "
   ]
  },
  {
   "cell_type": "code",
   "execution_count": 24,
   "id": "4e77cc65",
   "metadata": {
    "execution": {
     "iopub.execute_input": "2023-08-13T15:46:35.821304Z",
     "iopub.status.busy": "2023-08-13T15:46:35.820930Z",
     "iopub.status.idle": "2023-08-13T15:46:35.825117Z",
     "shell.execute_reply": "2023-08-13T15:46:35.824193Z"
    },
    "papermill": {
     "duration": 0.071574,
     "end_time": "2023-08-13T15:46:35.826980",
     "exception": false,
     "start_time": "2023-08-13T15:46:35.755406",
     "status": "completed"
    },
    "tags": []
   },
   "outputs": [],
   "source": [
    "# mnb = MultinomialNB()\n",
    "# mnb_pipe = preprocess_n_train(X_train, y_train, tvec, mnb)\n",
    "# y_pred_mnb = predict_n_evaluate(mnb_pipe, X_test, y_test)\n",
    "# y_pred_mnb"
   ]
  },
  {
   "cell_type": "markdown",
   "id": "28cc763e",
   "metadata": {
    "papermill": {
     "duration": 0.118315,
     "end_time": "2023-08-13T15:46:36.008754",
     "exception": false,
     "start_time": "2023-08-13T15:46:35.890439",
     "status": "completed"
    },
    "tags": []
   },
   "source": [
    "## Submitting predictions to Kaggle competition  "
   ]
  },
  {
   "cell_type": "code",
   "execution_count": 25,
   "id": "fd45293a",
   "metadata": {
    "execution": {
     "iopub.execute_input": "2023-08-13T15:46:36.140678Z",
     "iopub.status.busy": "2023-08-13T15:46:36.140314Z",
     "iopub.status.idle": "2023-08-13T15:46:36.145400Z",
     "shell.execute_reply": "2023-08-13T15:46:36.144074Z"
    },
    "papermill": {
     "duration": 0.073561,
     "end_time": "2023-08-13T15:46:36.147186",
     "exception": false,
     "start_time": "2023-08-13T15:46:36.073625",
     "status": "completed"
    },
    "tags": []
   },
   "outputs": [],
   "source": [
    "# def submit(selected_model=logreg, selected_preprocessor=tvec):\n",
    "    \n",
    "#     # Retrain on the whole train.csv file  \n",
    "#     traindf = pd.read_csv(\"/kaggle/input/sentiment-prediction-on-movie-reviews/train.csv\")\n",
    "#     X_train = traindf[\"reviewText\"]\n",
    "#     X_train.fillna(\"empty\", inplace=True)\n",
    "#     y_train = traindf[\"sentiment\"]\n",
    "#     pipe = preprocess_n_train(X_train, y_train, selected_preprocessor, selected_model)\n",
    "    \n",
    "#     # Predict on test.csv file\n",
    "#     testdf = pd.read_csv(\"/kaggle/input/sentiment-prediction-on-movie-reviews/test.csv\")\n",
    "#     X_test = testdf[\"reviewText\"]\n",
    "#     X_test.fillna(\"empty\", inplace=True)\n",
    "    \n",
    "#     y_pred = pipe.predict(X_test)\n",
    "    \n",
    "#     pred_df = pd.DataFrame(y_pred)\n",
    "#     pred_df.columns = [\"sentiment\"]\n",
    "#     pred_df.index.name = \"id\"\n",
    "#     pred_df.to_csv(\"submission.csv\")\n",
    "    \n",
    "#     return \"Successfully created the submission file!!!\""
   ]
  },
  {
   "cell_type": "code",
   "execution_count": 26,
   "id": "f582145a",
   "metadata": {
    "execution": {
     "iopub.execute_input": "2023-08-13T15:46:36.277169Z",
     "iopub.status.busy": "2023-08-13T15:46:36.276737Z",
     "iopub.status.idle": "2023-08-13T15:46:36.281151Z",
     "shell.execute_reply": "2023-08-13T15:46:36.280037Z"
    },
    "papermill": {
     "duration": 0.071585,
     "end_time": "2023-08-13T15:46:36.283017",
     "exception": false,
     "start_time": "2023-08-13T15:46:36.211432",
     "status": "completed"
    },
    "tags": []
   },
   "outputs": [],
   "source": [
    "# submit(logreg_cv1, tvec_cv1)"
   ]
  },
  {
   "cell_type": "markdown",
   "id": "463a7b14",
   "metadata": {
    "papermill": {
     "duration": 0.064213,
     "end_time": "2023-08-13T15:46:36.411480",
     "exception": false,
     "start_time": "2023-08-13T15:46:36.347267",
     "status": "completed"
    },
    "tags": []
   },
   "source": [
    "# PART II  "
   ]
  },
  {
   "cell_type": "markdown",
   "id": "9dfd10f4",
   "metadata": {
    "papermill": {
     "duration": 0.065055,
     "end_time": "2023-08-13T15:46:36.541942",
     "exception": false,
     "start_time": "2023-08-13T15:46:36.476887",
     "status": "completed"
    },
    "tags": []
   },
   "source": [
    "## Merge \"movies.csv\" with \"train.csv\" and \"test.csv\"  "
   ]
  },
  {
   "cell_type": "markdown",
   "id": "72c2b055",
   "metadata": {
    "papermill": {
     "duration": 0.06414,
     "end_time": "2023-08-13T15:46:36.671585",
     "exception": false,
     "start_time": "2023-08-13T15:46:36.607445",
     "status": "completed"
    },
    "tags": []
   },
   "source": [
    "### Helper functions  "
   ]
  },
  {
   "cell_type": "code",
   "execution_count": 27,
   "id": "605021ac",
   "metadata": {
    "execution": {
     "iopub.execute_input": "2023-08-13T15:46:36.805214Z",
     "iopub.status.busy": "2023-08-13T15:46:36.804875Z",
     "iopub.status.idle": "2023-08-13T15:46:36.810363Z",
     "shell.execute_reply": "2023-08-13T15:46:36.808761Z"
    },
    "papermill": {
     "duration": 0.073954,
     "end_time": "2023-08-13T15:46:36.812149",
     "exception": false,
     "start_time": "2023-08-13T15:46:36.738195",
     "status": "completed"
    },
    "tags": []
   },
   "outputs": [],
   "source": [
    "# Helper function for loading files  \n",
    "\n",
    "def load_csv(filename: str):\n",
    "    if platform == \"vscode\":\n",
    "        df = pd.read_csv(f\"data/{filename}.csv\")\n",
    "    else:\n",
    "        df = pd.read_csv(f\"/kaggle/input/sentiment-prediction-on-movie-reviews/{filename}.csv\")\n",
    "        \n",
    "    return df"
   ]
  },
  {
   "cell_type": "code",
   "execution_count": 28,
   "id": "debc0617",
   "metadata": {
    "execution": {
     "iopub.execute_input": "2023-08-13T15:46:36.942175Z",
     "iopub.status.busy": "2023-08-13T15:46:36.941796Z",
     "iopub.status.idle": "2023-08-13T15:46:36.947916Z",
     "shell.execute_reply": "2023-08-13T15:46:36.946426Z"
    },
    "papermill": {
     "duration": 0.073609,
     "end_time": "2023-08-13T15:46:36.950132",
     "exception": false,
     "start_time": "2023-08-13T15:46:36.876523",
     "status": "completed"
    },
    "tags": []
   },
   "outputs": [],
   "source": [
    "def inspect(df: pd.DataFrame):\n",
    "    print(f\"Shape of the dataframe: {df.shape}\")\n",
    "    print()\n",
    "    print(f\"Columns in the dataframe:\\n{df.columns}\")\n",
    "    print()\n",
    "    print(f\"{df.info()}\")\n",
    "    print()\n",
    "    # print(f\"Summary: {df.describe()}\")\n",
    "    print(f\"Missing values:\\n{df.isna().sum()}\")\n",
    "    return"
   ]
  },
  {
   "cell_type": "code",
   "execution_count": 29,
   "id": "3474dbfa",
   "metadata": {
    "execution": {
     "iopub.execute_input": "2023-08-13T15:46:37.083875Z",
     "iopub.status.busy": "2023-08-13T15:46:37.083448Z",
     "iopub.status.idle": "2023-08-13T15:46:37.088754Z",
     "shell.execute_reply": "2023-08-13T15:46:37.087596Z"
    },
    "papermill": {
     "duration": 0.074032,
     "end_time": "2023-08-13T15:46:37.091145",
     "exception": false,
     "start_time": "2023-08-13T15:46:37.017113",
     "status": "completed"
    },
    "tags": []
   },
   "outputs": [],
   "source": [
    "def name_fl(name):\n",
    "    l = name.split()\n",
    "    n = ' '.join((l[0], l[-1]))\n",
    "    return n"
   ]
  },
  {
   "cell_type": "code",
   "execution_count": 30,
   "id": "43086902",
   "metadata": {
    "execution": {
     "iopub.execute_input": "2023-08-13T15:46:37.227633Z",
     "iopub.status.busy": "2023-08-13T15:46:37.227259Z",
     "iopub.status.idle": "2023-08-13T15:46:37.246569Z",
     "shell.execute_reply": "2023-08-13T15:46:37.245895Z"
    },
    "papermill": {
     "duration": 0.089501,
     "end_time": "2023-08-13T15:46:37.249012",
     "exception": false,
     "start_time": "2023-08-13T15:46:37.159511",
     "status": "completed"
    },
    "tags": []
   },
   "outputs": [],
   "source": [
    "def select_features(df: pd.DataFrame, moviesdf: pd.DataFrame, row_thresh_null=None):\n",
    "    '''\n",
    "    This function merges the given dataframes. Note that the first df must be \"train\" or \"test\" and\n",
    "    the second df should be \"movies\".\n",
    "    Note: Sentiment column is present only in \"train.csv\" file and not \"test.csv\" file.\n",
    "    '''\n",
    "    \n",
    "    # Drop duplicates from moviesdf\n",
    "#     movies_unique = moviesdf.drop_duplicates(subset=[\"movieid\"])\n",
    "\n",
    "    # Drop duplicates using groupby - clubs similar rows and fills in missing values better\n",
    "    movies_unique = moviesdf.fillna(value=np.nan).groupby(\"movieid\").first().reset_index()\n",
    "    \n",
    "\n",
    "    # Handle missing values in movies.csv better than just dropping duplicates?\n",
    "#     movies_unique = moviesdf.copy()\n",
    "#     movies_unique[[\"audienceScore\", \"runtimeMinutes\"]] = movies_unique[[\"audienceScore\", \"runtimeMinutes\"]].interpolate(method='linear', axis=0)\n",
    "#     movies_unique = movies_unique.fillna(value=np.nan).groupby(\"movieid\").first().fillna(method='ffill').reset_index()\n",
    "\n",
    "    \n",
    "\n",
    "    # Merge df and movies_unique\n",
    "    df_merged = pd.merge(df, movies_unique, on=\"movieid\", how='left')\n",
    "    \n",
    "    # Rename \"isTopCritic\" column, if it exists, to \"isFrequentReviewer\"\n",
    "    df_merged.rename(columns={\"isTopCritic\": \"isFrequentReviewer\"}, inplace=True)\n",
    "    \n",
    "    # Drop columns\n",
    "#     df_merged = df_merged.drop(columns=[\"title\", \"ratingContents\", \"releaseDateTheaters\", \"releaseDateStreaming\", \"distributor\", \"soundType\"])\n",
    "#     df_merged = df_merged.drop(columns=[\"title\", \"soundType\"])\n",
    "    \n",
    "    # Drop rows (OPTIONAL: Uses kwarg row_thresh_null)\n",
    "    if row_thresh_null != None:\n",
    "        df_merged.dropna(axis=0, thresh=(df_merged.shape[1] - row_thresh_null), inplace=True)\n",
    "        \n",
    "\n",
    "    # Create new columns based on reviewText\n",
    "    final = df_merged.copy()\n",
    "    final[\"reviewYN\"] = np.where(final[\"reviewText\"].isnull(), 1, 0)    # Feature engineering - adding a new column\n",
    "    final[\"reviewWC\"] = final.apply(lambda x: len(str(x[\"reviewText\"]).split()), axis=1)    # Feature engineering - adding second new column\n",
    "    \n",
    "    # Clean text (replace numbers with empty string) and fill missing values in \"reviewText\" with empty string\n",
    "    final[\"reviewText\"] = final[\"reviewText\"].str.replace('\\d+', '', regex=True)\n",
    "    final[\"reviewText\"] = final[\"reviewText\"].fillna(\"neutral\")\n",
    "    \n",
    "    # Fill missing values in \"rating\", \"genre\", original columns with the word \"unknown\"\n",
    "    final[\"rating\"] = final[\"rating\"].fillna(\"unknown\")\n",
    "    final[\"originalLanguage\"] = final[\"originalLanguage\"].fillna(\"unknown\")\n",
    "    final[\"genre\"] = final[\"genre\"].fillna(\"unknown\")\n",
    "    final[\"genre\"] = final[\"genre\"].apply(lambda x: re.sub(r\"-\", \"\", x))\n",
    "    final[\"genreSorted\"] = final[\"genre\"].apply(lambda x: (\",\").join(sorted(x.split(\", \"))))\n",
    "#     final[\"genre\"] = final[\"genre\"].replace(to_replace={\"&\": \"\"})\n",
    "\n",
    "    # Impute missing values for \"audienceScore\" and \"runtimeMinutes\" columns\n",
    "#     final[\"audienceScore\"] = final[\"audienceScore\"].fillna(final[\"audienceScore\"].mean())        # MOVED\n",
    "#     final[\"runtimeMinutes\"] = final[\"runtimeMinutes\"].fillna(final[\"runtimeMinutes\"].median())   # MOVED\n",
    "    \n",
    "    # Preprocess and impute missing values in \"boxOffice\" column\n",
    "    final[\"boxOffice\"] = final[\"boxOffice\"].str[1:]\n",
    "    final[\"boxOffice\"] = final[\"boxOffice\"].replace(to_replace={\"M\": \"*1000000\", \"K\": \"*1000\"}, regex=True)\n",
    "    final[\"boxOffice\"] = final[\"boxOffice\"].loc[final[\"boxOffice\"].notnull()].apply(lambda x: eval(str(x)))\n",
    "#     final[\"boxOffice\"] = final[\"boxOffice\"].fillna(final[\"boxOffice\"].median())                  # MOVED\n",
    "    # (Optional) Replace outliers in boxOffice with median\n",
    "#     median = final[\"boxOffice\"].describe()['50%']\n",
    "#     iqr = final[\"boxOffice\"].describe()['75%'] - final[\"boxOffice\"].describe()['25%']\n",
    "#     ll = median - (1.5*iqr)\n",
    "#     ul = median + (1.5*iqr)\n",
    "#     final.loc[final[\"boxOffice\"] > ul, \"boxOffice\"] = median\n",
    "    \n",
    "    # Clean language names\n",
    "    final[\"originalLanguage\"].replace({\"English (United Kingdom)\": \"English\", \n",
    "                                            \"English (Australia)\" : \"English\",\n",
    "                                            \"French (France)\": \"French\", \n",
    "                                            \"French (Canada)\": \"French\",\n",
    "                                            \"Portuguese (Brazil)\": \"Portuguese\",\n",
    "                                            \"Spanish (Spain)\": \"Spanish\"},                                         \n",
    "                                            inplace=True)\n",
    "    \n",
    "    # Clean reviewerName column\n",
    "    pre_post_fixes = {\"Mr. \": \"\", \"Mrs. \": \"\", \"Ms. \": \"\", \"Dr. \": \"\", \n",
    "                      \" MD\": \"\", \" DDS\": \"\", \" DVM\": \"\", \" Jr.\": \"\", \" PhD\": \"\", \" II\": \"\", \" IV\": \"\"}\n",
    "    final[\"reviewerName\"] = final[\"reviewerName\"].replace(pre_post_fixes, regex=True)\n",
    "    final[\"reviewerName\"] = final[\"reviewerName\"].apply(name_fl)\n",
    "    \n",
    "    # Handle 'ratingContents' column\n",
    "    final[\"ratingContents\"] = final[\"ratingContents\"].fillna(\"neutral\")\n",
    "    final[\"rcSorted\"] = final[\"ratingContents\"].apply(lambda x: (\",\").join(sorted(x.strip(\"][\").split(\", \"))))\n",
    "    final[\"rcSorted\"] = final[\"rcSorted\"].apply(lambda x: re.sub(r\"'\", \"\", x))\n",
    "    final[\"rcSorted\"] = final[\"rcSorted\"].apply(lambda x: re.sub(r\"[/\\s]\", \"_\", x))  \n",
    "    \n",
    "    # Handle 'ratingContents' column\n",
    "    final[\"distributor\"] = final[\"distributor\"].fillna(\"unknown\")\n",
    "    \n",
    "    # Work with 'releaseDateTheaters', releaseDateStreaming column\n",
    "    final[[\"releaseDateTheaters\", \"releaseDateStreaming\"]] = final[[\"releaseDateTheaters\", \"releaseDateStreaming\"]].astype('datetime64[ns]')\n",
    "\n",
    "    final[\"releaseDate\"] = final[[\"releaseDateTheaters\", \"releaseDateStreaming\"]].min(axis=1, skipna=False)\n",
    "#     final[\"releaseDate\"] = final[\"releaseDate\"].fillna(final[\"releaseDate\"].median())               # MOVED\n",
    "\n",
    "    final[\"releaseYear\"] = final[\"releaseDate\"].dt.year\n",
    "    final[\"releaseMonth\"] = final[\"releaseDate\"].dt.month\n",
    "    \n",
    "    # Compute \"releaseDiff\" column and fill missing values in \"releaseDiff\" and (optional) replace outliers\n",
    "    final[\"releaseDiff\"] = (final[\"releaseDateStreaming\"] - final[\"releaseDateTheaters\"]) / np.timedelta64(1, 'D')\n",
    "    final[\"releaseDiff\"] = final[\"releaseDiff\"].apply(lambda x: abs(x))\n",
    "    final[\"releaseDiff\"] = final[\"releaseDiff\"].fillna(value=0)\n",
    "#     final[\"releaseDiff\"] = final[\"releaseDiff\"].fillna(final[\"releaseDiff\"].median())\n",
    "    # median = final[\"releaseDiff\"].describe()['50%']\n",
    "    # iqr = final[\"releaseDiff\"].describe()['75%'] - final[\"releaseDiff\"].describe()['25%']\n",
    "    # ll = median - (1.5*iqr)\n",
    "    # ul = median + (1.5*iqr)\n",
    "    # final.loc[final[\"releaseDiff\"] > ul, \"releaseDiff\"] = median\n",
    "    # final.loc[final[\"releaseDiff\"] < ll, \"releaseDiff\"] = median\n",
    "    \n",
    "#     # Create new feature columns\n",
    "    \n",
    "#     # Convert audienceScore to categories  \n",
    "#     num_bins_as = 20\n",
    "#     final[\"audScoreBins\"] = pd.cut(final['audienceScore'], bins=num_bins_as, labels=False)\n",
    "    \n",
    "#     # Convert runtimeMinutes to categories  \n",
    "# #     num_bins_rt = 20\n",
    "#     final[\"runtimeBins\"] = pd.cut(final['runtimeMinutes'], bins=[0,75,120,180,565], labels=[4,3,2,1])\n",
    "    \n",
    "#     # Convert boxOffice to categories  \n",
    "#     num_bins_bo = 5\n",
    "#     final[\"boxOfficeBins\"] = pd.cut(final['boxOffice'], bins=num_bins_bo, labels=False)\n",
    "    \n",
    "#     # Convert releaseDiff to categories  \n",
    "#     num_bins_rd = 5\n",
    "#     final[\"releaseDiffBins\"] = pd.cut(final['releaseDiff'], bins=[-1, 180, 360, 1000, 40000], labels=[0, 1, 2, 3])\n",
    "\n",
    "    return final"
   ]
  },
  {
   "cell_type": "code",
   "execution_count": 31,
   "id": "0d078d6e",
   "metadata": {
    "execution": {
     "iopub.execute_input": "2023-08-13T15:46:37.383269Z",
     "iopub.status.busy": "2023-08-13T15:46:37.382959Z",
     "iopub.status.idle": "2023-08-13T15:46:37.389478Z",
     "shell.execute_reply": "2023-08-13T15:46:37.388001Z"
    },
    "papermill": {
     "duration": 0.076722,
     "end_time": "2023-08-13T15:46:37.391962",
     "exception": false,
     "start_time": "2023-08-13T15:46:37.315240",
     "status": "completed"
    },
    "tags": []
   },
   "outputs": [],
   "source": [
    "def split_train_predict(features, labels, pipeline, test_size=0.25, random_state=42):\n",
    "    # cols = features.columns\n",
    "    if len(features.shape) == 1:\n",
    "        features = features.to_numpy().reshape(-1, 1)  # reshape to 2D array\n",
    "    features = pd.DataFrame(features)\n",
    "    X_train, X_test, y_train, y_test = train_test_split(features, labels, test_size=test_size, random_state=random_state)\n",
    "    pipeline.fit(X_train, y_train)\n",
    "    y_pred = pipeline.predict(X_test)\n",
    "    print(classification_report(y_test, y_pred))\n",
    "    print(confusion_matrix(y_test, y_pred))\n",
    "    return pipeline"
   ]
  },
  {
   "cell_type": "markdown",
   "id": "9855e229",
   "metadata": {
    "papermill": {
     "duration": 0.065286,
     "end_time": "2023-08-13T15:46:37.522152",
     "exception": false,
     "start_time": "2023-08-13T15:46:37.456866",
     "status": "completed"
    },
    "tags": []
   },
   "source": [
    "### Merge \"train.csv\" file with \"movies.csv\" file  "
   ]
  },
  {
   "cell_type": "code",
   "execution_count": 32,
   "id": "99f14336",
   "metadata": {
    "execution": {
     "iopub.execute_input": "2023-08-13T15:46:37.653569Z",
     "iopub.status.busy": "2023-08-13T15:46:37.653228Z",
     "iopub.status.idle": "2023-08-13T15:46:45.920251Z",
     "shell.execute_reply": "2023-08-13T15:46:45.919167Z"
    },
    "papermill": {
     "duration": 8.335791,
     "end_time": "2023-08-13T15:46:45.922361",
     "exception": false,
     "start_time": "2023-08-13T15:46:37.586570",
     "status": "completed"
    },
    "tags": []
   },
   "outputs": [],
   "source": [
    "merged = select_features(load_csv(\"train\"), load_csv(\"movies\"), row_thresh_null=None)"
   ]
  },
  {
   "cell_type": "code",
   "execution_count": 33,
   "id": "47f90b7e",
   "metadata": {
    "execution": {
     "iopub.execute_input": "2023-08-13T15:46:46.054373Z",
     "iopub.status.busy": "2023-08-13T15:46:46.054023Z",
     "iopub.status.idle": "2023-08-13T15:46:46.712265Z",
     "shell.execute_reply": "2023-08-13T15:46:46.710804Z"
    },
    "papermill": {
     "duration": 0.727886,
     "end_time": "2023-08-13T15:46:46.714416",
     "exception": false,
     "start_time": "2023-08-13T15:46:45.986530",
     "status": "completed"
    },
    "tags": []
   },
   "outputs": [
    {
     "name": "stdout",
     "output_type": "stream",
     "text": [
      "Shape of the dataframe: (162758, 26)\n",
      "\n",
      "Columns in the dataframe:\n",
      "Index(['movieid', 'reviewerName', 'isFrequentReviewer', 'reviewText',\n",
      "       'sentiment', 'title', 'audienceScore', 'rating', 'ratingContents',\n",
      "       'releaseDateTheaters', 'releaseDateStreaming', 'runtimeMinutes',\n",
      "       'genre', 'originalLanguage', 'director', 'boxOffice', 'distributor',\n",
      "       'soundType', 'reviewYN', 'reviewWC', 'genreSorted', 'rcSorted',\n",
      "       'releaseDate', 'releaseYear', 'releaseMonth', 'releaseDiff'],\n",
      "      dtype='object')\n",
      "\n",
      "<class 'pandas.core.frame.DataFrame'>\n",
      "Int64Index: 162758 entries, 0 to 162757\n",
      "Data columns (total 26 columns):\n",
      " #   Column                Non-Null Count   Dtype         \n",
      "---  ------                --------------   -----         \n",
      " 0   movieid               162758 non-null  object        \n",
      " 1   reviewerName          162758 non-null  object        \n",
      " 2   isFrequentReviewer    162758 non-null  bool          \n",
      " 3   reviewText            162758 non-null  object        \n",
      " 4   sentiment             162758 non-null  object        \n",
      " 5   title                 162758 non-null  object        \n",
      " 6   audienceScore         159922 non-null  float64       \n",
      " 7   rating                162758 non-null  object        \n",
      " 8   ratingContents        162758 non-null  object        \n",
      " 9   releaseDateTheaters   146403 non-null  datetime64[ns]\n",
      " 10  releaseDateStreaming  157353 non-null  datetime64[ns]\n",
      " 11  runtimeMinutes        162016 non-null  float64       \n",
      " 12  genre                 162758 non-null  object        \n",
      " 13  originalLanguage      162758 non-null  object        \n",
      " 14  director              162758 non-null  object        \n",
      " 15  boxOffice             130581 non-null  float64       \n",
      " 16  distributor           162758 non-null  object        \n",
      " 17  soundType             93466 non-null   object        \n",
      " 18  reviewYN              162758 non-null  int64         \n",
      " 19  reviewWC              162758 non-null  int64         \n",
      " 20  genreSorted           162758 non-null  object        \n",
      " 21  rcSorted              162758 non-null  object        \n",
      " 22  releaseDate           143073 non-null  datetime64[ns]\n",
      " 23  releaseYear           143073 non-null  float64       \n",
      " 24  releaseMonth          143073 non-null  float64       \n",
      " 25  releaseDiff           162758 non-null  float64       \n",
      "dtypes: bool(1), datetime64[ns](3), float64(6), int64(2), object(14)\n",
      "memory usage: 32.4+ MB\n",
      "None\n",
      "\n",
      "Missing values:\n",
      "movieid                     0\n",
      "reviewerName                0\n",
      "isFrequentReviewer          0\n",
      "reviewText                  0\n",
      "sentiment                   0\n",
      "title                       0\n",
      "audienceScore            2836\n",
      "rating                      0\n",
      "ratingContents              0\n",
      "releaseDateTheaters     16355\n",
      "releaseDateStreaming     5405\n",
      "runtimeMinutes            742\n",
      "genre                       0\n",
      "originalLanguage            0\n",
      "director                    0\n",
      "boxOffice               32177\n",
      "distributor                 0\n",
      "soundType               69292\n",
      "reviewYN                    0\n",
      "reviewWC                    0\n",
      "genreSorted                 0\n",
      "rcSorted                    0\n",
      "releaseDate             19685\n",
      "releaseYear             19685\n",
      "releaseMonth            19685\n",
      "releaseDiff                 0\n",
      "dtype: int64\n"
     ]
    }
   ],
   "source": [
    "inspect(merged)    # Note missing values in ['audienceScore', 'runtimeMinutes', 'boxOffice'] columns  "
   ]
  },
  {
   "cell_type": "code",
   "execution_count": 34,
   "id": "9e7b026d",
   "metadata": {
    "execution": {
     "iopub.execute_input": "2023-08-13T15:46:46.843207Z",
     "iopub.status.busy": "2023-08-13T15:46:46.842799Z",
     "iopub.status.idle": "2023-08-13T15:46:46.915721Z",
     "shell.execute_reply": "2023-08-13T15:46:46.914182Z"
    },
    "papermill": {
     "duration": 0.141368,
     "end_time": "2023-08-13T15:46:46.918379",
     "exception": false,
     "start_time": "2023-08-13T15:46:46.777011",
     "status": "completed"
    },
    "tags": []
   },
   "outputs": [
    {
     "data": {
      "text/plain": [
       "array([6.80e+01, 1.04e+02, 1.43e+07])"
      ]
     },
     "execution_count": 34,
     "metadata": {},
     "output_type": "execute_result"
    }
   ],
   "source": [
    "# Simple Imputer for ['audienceScore', 'runtimeMinutes', 'boxOffice'] columns\n",
    "si = SimpleImputer(strategy='median')\n",
    "merged[['audienceScore', 'runtimeMinutes', 'boxOffice']] = si.fit_transform(merged[['audienceScore', 'runtimeMinutes', 'boxOffice']])\n",
    "si.statistics_"
   ]
  },
  {
   "cell_type": "code",
   "execution_count": 35,
   "id": "6282303a",
   "metadata": {
    "execution": {
     "iopub.execute_input": "2023-08-13T15:46:47.050630Z",
     "iopub.status.busy": "2023-08-13T15:46:47.049626Z",
     "iopub.status.idle": "2023-08-13T15:46:47.061320Z",
     "shell.execute_reply": "2023-08-13T15:46:47.060306Z"
    },
    "papermill": {
     "duration": 0.080898,
     "end_time": "2023-08-13T15:46:47.063327",
     "exception": false,
     "start_time": "2023-08-13T15:46:46.982429",
     "status": "completed"
    },
    "tags": []
   },
   "outputs": [],
   "source": [
    "# Fill 'releaseDate' column with median  \n",
    "merged['releaseDate'] = merged[\"releaseDate\"].fillna(merged[\"releaseDate\"].median())"
   ]
  },
  {
   "cell_type": "code",
   "execution_count": 36,
   "id": "5cb06de9",
   "metadata": {
    "execution": {
     "iopub.execute_input": "2023-08-13T15:46:47.211054Z",
     "iopub.status.busy": "2023-08-13T15:46:47.210672Z",
     "iopub.status.idle": "2023-08-13T15:46:47.867497Z",
     "shell.execute_reply": "2023-08-13T15:46:47.866428Z"
    },
    "papermill": {
     "duration": 0.739403,
     "end_time": "2023-08-13T15:46:47.869948",
     "exception": false,
     "start_time": "2023-08-13T15:46:47.130545",
     "status": "completed"
    },
    "tags": []
   },
   "outputs": [
    {
     "name": "stdout",
     "output_type": "stream",
     "text": [
      "Shape of the dataframe: (162758, 26)\n",
      "\n",
      "Columns in the dataframe:\n",
      "Index(['movieid', 'reviewerName', 'isFrequentReviewer', 'reviewText',\n",
      "       'sentiment', 'title', 'audienceScore', 'rating', 'ratingContents',\n",
      "       'releaseDateTheaters', 'releaseDateStreaming', 'runtimeMinutes',\n",
      "       'genre', 'originalLanguage', 'director', 'boxOffice', 'distributor',\n",
      "       'soundType', 'reviewYN', 'reviewWC', 'genreSorted', 'rcSorted',\n",
      "       'releaseDate', 'releaseYear', 'releaseMonth', 'releaseDiff'],\n",
      "      dtype='object')\n",
      "\n",
      "<class 'pandas.core.frame.DataFrame'>\n",
      "Int64Index: 162758 entries, 0 to 162757\n",
      "Data columns (total 26 columns):\n",
      " #   Column                Non-Null Count   Dtype         \n",
      "---  ------                --------------   -----         \n",
      " 0   movieid               162758 non-null  object        \n",
      " 1   reviewerName          162758 non-null  object        \n",
      " 2   isFrequentReviewer    162758 non-null  bool          \n",
      " 3   reviewText            162758 non-null  object        \n",
      " 4   sentiment             162758 non-null  object        \n",
      " 5   title                 162758 non-null  object        \n",
      " 6   audienceScore         162758 non-null  float64       \n",
      " 7   rating                162758 non-null  object        \n",
      " 8   ratingContents        162758 non-null  object        \n",
      " 9   releaseDateTheaters   146403 non-null  datetime64[ns]\n",
      " 10  releaseDateStreaming  157353 non-null  datetime64[ns]\n",
      " 11  runtimeMinutes        162758 non-null  float64       \n",
      " 12  genre                 162758 non-null  object        \n",
      " 13  originalLanguage      162758 non-null  object        \n",
      " 14  director              162758 non-null  object        \n",
      " 15  boxOffice             162758 non-null  float64       \n",
      " 16  distributor           162758 non-null  object        \n",
      " 17  soundType             93466 non-null   object        \n",
      " 18  reviewYN              162758 non-null  int64         \n",
      " 19  reviewWC              162758 non-null  int64         \n",
      " 20  genreSorted           162758 non-null  object        \n",
      " 21  rcSorted              162758 non-null  object        \n",
      " 22  releaseDate           162758 non-null  datetime64[ns]\n",
      " 23  releaseYear           143073 non-null  float64       \n",
      " 24  releaseMonth          143073 non-null  float64       \n",
      " 25  releaseDiff           162758 non-null  float64       \n",
      "dtypes: bool(1), datetime64[ns](3), float64(6), int64(2), object(14)\n",
      "memory usage: 32.4+ MB\n",
      "None\n",
      "\n",
      "Missing values:\n",
      "movieid                     0\n",
      "reviewerName                0\n",
      "isFrequentReviewer          0\n",
      "reviewText                  0\n",
      "sentiment                   0\n",
      "title                       0\n",
      "audienceScore               0\n",
      "rating                      0\n",
      "ratingContents              0\n",
      "releaseDateTheaters     16355\n",
      "releaseDateStreaming     5405\n",
      "runtimeMinutes              0\n",
      "genre                       0\n",
      "originalLanguage            0\n",
      "director                    0\n",
      "boxOffice                   0\n",
      "distributor                 0\n",
      "soundType               69292\n",
      "reviewYN                    0\n",
      "reviewWC                    0\n",
      "genreSorted                 0\n",
      "rcSorted                    0\n",
      "releaseDate                 0\n",
      "releaseYear             19685\n",
      "releaseMonth            19685\n",
      "releaseDiff                 0\n",
      "dtype: int64\n"
     ]
    }
   ],
   "source": [
    "# Check out 'merged' df after imputation  \n",
    "inspect(merged)"
   ]
  },
  {
   "cell_type": "code",
   "execution_count": 37,
   "id": "01c91226",
   "metadata": {
    "execution": {
     "iopub.execute_input": "2023-08-13T15:46:48.000001Z",
     "iopub.status.busy": "2023-08-13T15:46:47.999648Z",
     "iopub.status.idle": "2023-08-13T15:46:48.047416Z",
     "shell.execute_reply": "2023-08-13T15:46:48.046066Z"
    },
    "papermill": {
     "duration": 0.116183,
     "end_time": "2023-08-13T15:46:48.050069",
     "exception": false,
     "start_time": "2023-08-13T15:46:47.933886",
     "status": "completed"
    },
    "tags": []
   },
   "outputs": [
    {
     "data": {
      "text/html": [
       "<div>\n",
       "<style scoped>\n",
       "    .dataframe tbody tr th:only-of-type {\n",
       "        vertical-align: middle;\n",
       "    }\n",
       "\n",
       "    .dataframe tbody tr th {\n",
       "        vertical-align: top;\n",
       "    }\n",
       "\n",
       "    .dataframe thead th {\n",
       "        text-align: right;\n",
       "    }\n",
       "</style>\n",
       "<table border=\"1\" class=\"dataframe\">\n",
       "  <thead>\n",
       "    <tr style=\"text-align: right;\">\n",
       "      <th></th>\n",
       "      <th>audienceScore</th>\n",
       "      <th>runtimeMinutes</th>\n",
       "      <th>boxOffice</th>\n",
       "    </tr>\n",
       "  </thead>\n",
       "  <tbody>\n",
       "    <tr>\n",
       "      <th>count</th>\n",
       "      <td>162758.000000</td>\n",
       "      <td>162758.000000</td>\n",
       "      <td>1.627580e+05</td>\n",
       "    </tr>\n",
       "    <tr>\n",
       "      <th>mean</th>\n",
       "      <td>65.062565</td>\n",
       "      <td>106.992019</td>\n",
       "      <td>4.160983e+07</td>\n",
       "    </tr>\n",
       "    <tr>\n",
       "      <th>std</th>\n",
       "      <td>19.844000</td>\n",
       "      <td>22.203778</td>\n",
       "      <td>7.932291e+07</td>\n",
       "    </tr>\n",
       "    <tr>\n",
       "      <th>min</th>\n",
       "      <td>0.000000</td>\n",
       "      <td>4.000000</td>\n",
       "      <td>0.000000e+00</td>\n",
       "    </tr>\n",
       "    <tr>\n",
       "      <th>25%</th>\n",
       "      <td>51.000000</td>\n",
       "      <td>93.000000</td>\n",
       "      <td>2.000000e+06</td>\n",
       "    </tr>\n",
       "    <tr>\n",
       "      <th>50%</th>\n",
       "      <td>68.000000</td>\n",
       "      <td>104.000000</td>\n",
       "      <td>1.430000e+07</td>\n",
       "    </tr>\n",
       "    <tr>\n",
       "      <th>75%</th>\n",
       "      <td>81.000000</td>\n",
       "      <td>118.000000</td>\n",
       "      <td>4.200000e+07</td>\n",
       "    </tr>\n",
       "    <tr>\n",
       "      <th>max</th>\n",
       "      <td>100.000000</td>\n",
       "      <td>561.000000</td>\n",
       "      <td>8.584000e+08</td>\n",
       "    </tr>\n",
       "  </tbody>\n",
       "</table>\n",
       "</div>"
      ],
      "text/plain": [
       "       audienceScore  runtimeMinutes     boxOffice\n",
       "count  162758.000000   162758.000000  1.627580e+05\n",
       "mean       65.062565      106.992019  4.160983e+07\n",
       "std        19.844000       22.203778  7.932291e+07\n",
       "min         0.000000        4.000000  0.000000e+00\n",
       "25%        51.000000       93.000000  2.000000e+06\n",
       "50%        68.000000      104.000000  1.430000e+07\n",
       "75%        81.000000      118.000000  4.200000e+07\n",
       "max       100.000000      561.000000  8.584000e+08"
      ]
     },
     "execution_count": 37,
     "metadata": {},
     "output_type": "execute_result"
    }
   ],
   "source": [
    "merged[['audienceScore', 'runtimeMinutes', 'boxOffice']].describe()"
   ]
  },
  {
   "cell_type": "markdown",
   "id": "c95a459b",
   "metadata": {
    "papermill": {
     "duration": 0.065161,
     "end_time": "2023-08-13T15:46:48.236565",
     "exception": false,
     "start_time": "2023-08-13T15:46:48.171404",
     "status": "completed"
    },
    "tags": []
   },
   "source": [
    "### EDA audienceScore  "
   ]
  },
  {
   "cell_type": "code",
   "execution_count": 38,
   "id": "70441174",
   "metadata": {
    "execution": {
     "iopub.execute_input": "2023-08-13T15:46:48.370897Z",
     "iopub.status.busy": "2023-08-13T15:46:48.370487Z",
     "iopub.status.idle": "2023-08-13T15:46:48.593565Z",
     "shell.execute_reply": "2023-08-13T15:46:48.592905Z"
    },
    "papermill": {
     "duration": 0.291134,
     "end_time": "2023-08-13T15:46:48.595417",
     "exception": false,
     "start_time": "2023-08-13T15:46:48.304283",
     "status": "completed"
    },
    "tags": []
   },
   "outputs": [
    {
     "data": {
      "text/plain": [
       "<Axes: xlabel='sentiment', ylabel='audienceScore'>"
      ]
     },
     "execution_count": 38,
     "metadata": {},
     "output_type": "execute_result"
    },
    {
     "data": {
      "image/png": "iVBORw0KGgoAAAANSUhEUgAAAjsAAAGwCAYAAABPSaTdAAAAOXRFWHRTb2Z0d2FyZQBNYXRwbG90bGliIHZlcnNpb24zLjcuMSwgaHR0cHM6Ly9tYXRwbG90bGliLm9yZy/bCgiHAAAACXBIWXMAAA9hAAAPYQGoP6dpAAAzo0lEQVR4nO3dfXzNdePH8ffZzDkb22TYjGEuk8qS0KJyE5HaVbmpJFeUSj8VkpQfZcQWXT+ti6sbqs1VuekK3agVKeReIkU/RaJi7bpqmck22z6/P/ycy7ER55ztnPM9r+fjcR6Pnc/ne757H3Ps7fP9nu+xGWOMAAAALCrE1wEAAACqEmUHAABYGmUHAABYGmUHAABYGmUHAABYGmUHAABYGmUHAABYWg1fB/AH5eXlOnDggCIjI2Wz2XwdBwAAnAVjjA4fPqz4+HiFhJx+/YayI+nAgQNKSEjwdQwAAOCGH374QY0bNz7tPGVHUmRkpKTjf1hRUVE+TgMAAM5GQUGBEhISnL/HT4eyIzkPXUVFRVF2AAAIMH90CgonKAMAAEuj7AAAAEuj7AAAAEuj7AAAAEuj7AAAAEuj7AAAAEuj7AAAAEuj7AAAAEuj7AAAAEuj7AAAAEvzadlZvXq1/vznPys+Pl42m01vvfWWy7wxRmlpaYqPj1d4eLi6du2qHTt2uGxTXFysBx98UPXq1VOtWrV0ww036Mcff6zGZwEAAPyZT8vOkSNH1KZNG82aNavS+enTp2vGjBmaNWuWNm/erLi4OF1zzTU6fPiwc5tRo0ZpyZIlWrBggdasWaPCwkKlpqaqrKysup4GAADwYzZjjPF1COn4h3gtWbJEN910k6Tjqzrx8fEaNWqUHn30UUnHV3FiY2M1bdo0DRs2TIcOHVL9+vX16quv6tZbb5UkHThwQAkJCXr//ffVq1evs/reBQUFio6O1qFDh/gg0NMwxqioqMjXMTxmjFFxcbEkyW63/+GHxwUCh8NhiecB3+H17b94fZ/Z2f7+9ttPPd+7d69yc3PVs2dP55jdbleXLl20bt06DRs2TFu2bNGxY8dctomPj1fr1q21bt2605ad4uJi5wtCOv6HhTMrKipS7969fR0DlcjJyVF4eLivYyCA8fr2X7y+vcNvT1DOzc2VJMXGxrqMx8bGOudyc3NVs2ZNnXfeeafdpjIZGRmKjo523hISErycHgAA+Au/Xdk54dTlO2PMHy7p/dE248aN0+jRo533CwoKKDx/wOFwKCcnx9cxPFZUVKQ+ffpIkpYsWSKHw+HjRJ6zwnOAb/H69l9WeA7+wG/LTlxcnKTjqzcNGzZ0jufl5TlXe+Li4lRSUqL8/HyX1Z28vDx16tTptPu22+2y2+1VlNyabDab5ZZSHQ6H5Z4T4A5e37A6vz2MlZiYqLi4OC1fvtw5VlJSolWrVjmLTLt27RQWFuayzcGDB/XVV1+dsewAAIDg4dOVncLCQu3evdt5f+/evdq2bZvq1q2rJk2aaNSoUUpPT1dSUpKSkpKUnp6uiIgIDRw4UJIUHR2toUOH6uGHH1ZMTIzq1q2rMWPGKDk5WT169PDV0wIAAH7Ep2Xns88+U7du3Zz3T5xHM3jwYGVnZ2vs2LE6evSohg8frvz8fKWkpGjZsmWKjIx0PuaZZ55RjRo1dMstt+jo0aPq3r27srOzFRoaWu3PBwAA+B+/uc6OL3GdneBx9OhR51tseUsnYC28voPP2f7+9ttzdgAAALyBsgMAACyNsgMAACyNsgMAACyNsgMAACyNsgMAACyNsgMAACyNsgMAACyNsgMAACyNsgMAACyNsgMAACyNsgMAACyNsgMAACyNsgMAACyNsgMAACyNsgMAACyNsgMAACyNsgMAACyNsgMAACyNsgMAACyNsgMAACyNsgMAACyNsgMAACyNsgMAACyNsgMAACyNsgMAACyNsgMAACyNsgMAACyNsgMAACyNsgMAACyNsgMAACyNsgMAACyNsgMAACyNsgMAACyNsgMAACyNsgMAACyNsgMAACyNsgMAACyNsgMAACyNsgMAACyNsgMAACyNsgMAACyNsgMAACyNsgMAACyNsgMAACythq8DBANjjIqKinwdA5LLz4Gfif9wOByy2Wy+jgHAoig71aCoqEi9e/f2dQycok+fPr6OgP+Xk5Oj8PBwX8cAYFEcxgIAAJbGyk41K7zkNpkQ/th9xhipvPT41yE1JA6d+IytvFS1t833dQwAQYDfutXMhNSQQsN8HSPI1fR1AEgyvg4AIGhwGAsAAFgaZQcAAFgaZQcAAFgaZQcAAFgaZQcAAFgaZQcAAFgaZQcAAFiaX5ed0tJSTZgwQYmJiQoPD1fz5s01efJklZeXO7cxxigtLU3x8fEKDw9X165dtWPHDh+mBgAA/sSvy860adP0wgsvaNasWfr66681ffp0Pf3005o5c6Zzm+nTp2vGjBmaNWuWNm/erLi4OF1zzTU6fPiwD5MDAAB/4ddXUF6/fr1uvPFGXX/99ZKkZs2aaf78+frss88kHV/VyczM1Pjx49W3b19J0ty5cxUbG6t58+Zp2LBhle63uLhYxcXFzvsFBQVV/EwAAICv+PXKzpVXXqkVK1bom2++kSR98cUXWrNmja677jpJ0t69e5Wbm6uePXs6H2O329WlSxetW7futPvNyMhQdHS085aQkFC1TwQAAPiMX6/sPProozp06JBatWql0NBQlZWVaerUqbrtttskSbm5uZKk2NhYl8fFxsZq3759p93vuHHjNHr0aOf9goICCg8AABbl12Vn4cKFeu211zRv3jxddNFF2rZtm0aNGqX4+HgNHjzYuZ3tlE+uNsZUGDuZ3W6X3W6vstwAAMB/+HXZeeSRR/TYY49pwIABkqTk5GTt27dPGRkZGjx4sOLi4iQdX+Fp2LCh83F5eXkVVnsAAEBw8utzdn7//XeFhLhGDA0Ndb71PDExUXFxcVq+fLlzvqSkRKtWrVKnTp2qNSsAAPBPfr2y8+c//1lTp05VkyZNdNFFF2nr1q2aMWOG7rrrLknHD1+NGjVK6enpSkpKUlJSktLT0xUREaGBAwf6OD0AAPAHfl12Zs6cqccff1zDhw9XXl6e4uPjNWzYMD3xxBPObcaOHaujR49q+PDhys/PV0pKipYtW6bIyEgfJgcAAP7Cr8tOZGSkMjMzlZmZedptbDab0tLSlJaWVm25AABA4PDrc3YAAAA8RdkBAACWRtkBAACWRtkBAACWRtkBAACWRtkBAACWRtkBAACWRtkBAACWRtkBAACWRtkBAACWRtkBAACWRtkBAACWRtkBAACWRtkBAACWVsPXAYKBMeY/d8qO+S4I4E9Oei24vEYAwMsoO9WguLjY+XXkFwt8mATwT8XFxYqIiPB1DAAWxWEsAABgaazsVAO73e78+nCbAVJomA/TAH6i7JhzpfPk10igMcaoqKjI1zEgufwc+Jn4D4fDIZvN5tMMlJ1q4PJDDg2j7ACn8PU/hJ4oKipS7969fR0Dp+jTp4+vI+D/5eTkKDw83KcZOIwFAAAsjZUdAPCSWVf+Knso7yzzFWOkkvLjX9cMkQJ4wTDgFZfZ9MCaur6O4UTZAQAvsYca2UN9nSK4OXwdAP/Pv0o/h7EAAIClUXYAAIClUXYAAIClUXYAAIClUXYAAIClUXYAAIClUXYAAIClUXYAAIClUXYAAIClUXYAAIClUXYAAIClUXYAAIClUXYAAIClUXYAAIClUXYAAIClUXYAAIClUXYAAIClUXYAAIClUXYAAIClUXYAAIClUXYAAIClUXYAAIClUXYAAICluV129uzZowkTJui2225TXl6eJOmDDz7Qjh07vBYOAADAU26VnVWrVik5OVkbN27U4sWLVVhYKEnavn27Jk6c6NWAAAAAnnCr7Dz22GOaMmWKli9frpo1azrHu3XrpvXr13stHAAAgKfcKjtffvml+vTpU2G8fv36+uWXXzwOBQAA4C1ulZ06dero4MGDFca3bt2qRo0aeRwKAADAW9wqOwMHDtSjjz6q3Nxc2Ww2lZeXa+3atRozZozuuOMOb2cEAABwm1tlZ+rUqWrSpIkaNWqkwsJCXXjhhercubM6deqkCRMmeDsjAACA22qc6wOMMTpw4IDmzJmjJ598Up9//rnKy8vVtm1bJSUlVUVGAAAAt7lVdpKSkrRjxw4lJSWpefPmVZELAADAK875MFZISIiSkpJ41xUAAAgIbp2zM336dD3yyCP66quvvJ0HAADAq9wqO4MGDdKmTZvUpk0bhYeHq27dui43b/rpp580aNAgxcTEKCIiQpdccom2bNninDfGKC0tTfHx8QoPD1fXrl35yAoAAOB0zufsSFJmZqaXY1QuPz9fV1xxhbp166acnBw1aNBAe/bsUZ06dZzbTJ8+XTNmzFB2drZatmypKVOm6JprrtGuXbsUGRlZLTkBAID/cqvsDB482Ns5KjVt2jQlJCQoKyvLOdasWTPn18YYZWZmavz48erbt68kae7cuYqNjdW8efM0bNiwSvdbXFys4uJi5/2CgoKqeQIAAMDn3P7U87KyMi1atEhTpkzR1KlTtWTJEpWVlXkzm9555x21b99eN998sxo0aKC2bdtqzpw5zvm9e/cqNzdXPXv2dI7Z7XZ16dJF69atO+1+MzIyFB0d7bwlJCR4NTcAAPAfbpWd3bt364ILLtAdd9yhxYsX680339SgQYN00UUXac+ePV4L99133+n5559XUlKSPvzwQ913330aMWKE/vGPf0iScnNzJUmxsbEuj4uNjXXOVWbcuHE6dOiQ8/bDDz94LTMAAPAvbh3GGjFihP70pz9pw4YNzhOSf/nlFw0aNEgjRozQe++955Vw5eXlat++vdLT0yVJbdu21Y4dO/T888+7fCyFzWZzeZwxpsLYyex2u+x2u1cyAgAA/+bWys6qVas0ffp0l3dexcTE6KmnntKqVau8Fq5hw4a68MILXcYuuOAC7d+/X5IUFxcnSRVWcfLy8iqs9gAAgODkVtmx2+06fPhwhfHCwkLVrFnT41AnXHHFFdq1a5fL2DfffKOmTZtKkhITExUXF6fly5c750tKSrRq1Sp16tTJazkAAEDgcuswVmpqqu699169/PLLuuyyyyRJGzdu1H333acbbrjBa+EeeughderUSenp6brlllu0adMmzZ49W7Nnz5Z0/PDVqFGjlJ6erqSkJCUlJSk9PV0REREaOHCg13J4k628VMbXIYKZMVJ56fGvQ2pIZzjciaplO/FzAIAq5lbZ+dvf/qbBgwerY8eOCgsLkySVlpbqhhtu0LPPPuu1cB06dNCSJUs0btw4TZ48WYmJicrMzNTtt9/u3Gbs2LE6evSohg8frvz8fKWkpGjZsmV+e42d2tvm+zoCAABBxa2yU6dOHb399tvavXu3vv76axljdOGFF6pFixbezqfU1FSlpqaedt5msyktLU1paWle/94AACDwuVV2TmjRokWVFByrcTgcysnJ8XUMSCoqKlKfPn0kSUuWLJHD4fBxIkgK6J+DMf85MF3s3UuNAQHr5NfCya8RX3Gr7PTv31/t27fXY4895jL+9NNPa9OmTfrnP//plXBWYbPZFB4e7usYOIXD4eDnAo+dfDX2B9bE+DAJ4J+Ki4sVERHh0wxuv/X8+uuvrzB+7bXXavXq1R6HAgAA8Ba3VnZO9xbzsLAwPmcKQFA5+QKls678RfZQH4YB/ERx2X9WOv3hIr5ulZ3WrVtr4cKFeuKJJ1zGFyxYUOEigABgZSdfrd0eKsoOcIozfaJBdXGr7Dz++OPq16+f9uzZo6uvvlqStGLFCs2fP5/zdQAAgF9xq+zccMMNeuutt5Senq4333xT4eHhuvjii/XRRx+pS5cu3s4IAADgNrffen799ddXepIyAACAP/HoOjvS8euWLFy4UEeOHNE111yjpKQkb+QCAADwinMqO4888ohKSkqcHwlRUlKiyy+/XDt37lRERITGjh2r5cuXq2PHjlUSFgAA4Fyd03V2cnJy1L17d+f9119/Xfv379e3336r/Px83XzzzZoyZYrXQwIAALjrnMrO/v37Xd5avmzZMvXv319NmzaVzWbTyJEjtXXrVq+HBAAAcNc5lZ2QkBCXz7jYsGGDLr/8cuf9OnXqKD8/33vpAAAAPHROZadVq1Z69913JUk7duzQ/v371a1bN+f8vn37FBsb692EAAAAHjjnE5Rvu+02vffee9qxY4euu+46JSYmOufff/99XXbZZV4PCQAA4K5zWtnp16+f3n//fV188cV66KGHtHDhQpf5iIgIDR8+3KsBAQAAPHHO19np0aOHevToUencxIkTPQ4EAADgTee0snOyTz/9VIMGDVLHjh31008/SZJeffVVrVmzxmvhAAAAPOVW2Vm0aJF69eql8PBwbd26VcXFxZKkw4cPKz093asBAQAAPOFW2ZkyZYpeeOEFzZkzR2FhYc7xTp066fPPP/daOAAAAE+5VXZ27dqlzp07VxiPiorSb7/95mkmAAAAr3Gr7DRs2FC7d++uML5mzRo1b97c41AAAADe4lbZGTZsmEaOHKmNGzfKZrPpwIEDev311zVmzBjeeg4AAPzKOb/1XJLGjh2rQ4cOqVu3bioqKlLnzp1lt9s1ZswYPfDAA97OCAAA4Da3yo4kTZ06VePHj9fOnTtVXl6uCy+8ULVr1/ZmNgAAAI+5VXYOHTqksrIy1a1bV+3bt3eO//rrr6pRo4aioqK8FhAAAMATbp2zM2DAAC1YsKDC+BtvvKEBAwZ4HAoAAMBb3Co7GzdudPm08xO6du2qjRs3ehwKAADAW9wqO8XFxSotLa0wfuzYMR09etTjUAAAAN7iVtnp0KGDZs+eXWH8hRdeULt27TwOBQAA4C1unaA8depU9ejRQ1988YW6d+8uSVqxYoU2b96sZcuWeTUgAACAJ9xa2bniiiu0fv16JSQk6I033tC7776rFi1aaPv27brqqqu8nREAAMBtbl9n55JLLtHrr7/uzSwAAABe53bZKS8v1+7du5WXl6fy8nKXuco+JBQAAMAX3Co7GzZs0MCBA7Vv3z4ZY1zmbDabysrKvBIOAADAU26Vnfvuu0/t27fXe++9p4YNG8pms3k7FwAAgFe4VXa+/fZbvfnmm2rRooW38wAAAHiVW+/GSklJ0e7du72dBQAAwOvcWtl58MEH9fDDDys3N1fJyckKCwtzmb/44ou9Eg4AAMBTbpWdfv36SZLuuusu55jNZpMxhhOUAQCAX3Gr7Ozdu9fbOQAAAKqEW2WnadOm3s4BAABQJdw6QVmSXn31VV1xxRWKj4/Xvn37JEmZmZl6++23vRYOAADAU26Vneeff16jR4/Wddddp99++815jk6dOnWUmZnpzXwAAAAecavszJw5U3PmzNH48eMVGhrqHG/fvr2+/PJLr4UDAADwlFtlZ+/evWrbtm2FcbvdriNHjngcCgAAwFvcKjuJiYnatm1bhfGcnBxdeOGFnmYCAADwGrfejfXII4/o/vvvV1FRkYwx2rRpk+bPn6+MjAy99NJL3s4IAADgNrfKzp133qnS0lKNHTtWv//+uwYOHKhGjRrp2Wef1YABA7ydEQAAwG1ulR1Juueee3TPPffo3//+t8rLy9WgQQNv5gIAAPAKt8vOCfXq1fNGDgAAgCpx1mXn0ksv1YoVK3Teeeepbdu2stlsp932888/90o4AAAAT5112bnxxhtlt9slSTfddFNV5QEAAPCqsy47EydOrPRrAAAAf+bxOTsAgOOKy2ySjK9jBC1jpJLy41/XDJHOcLYFqtjx14L/OOuyc955553xPJ2T/frrr24HAoBA9cCaur6OAKASZ30F5czMTD3zzDN65plnNGHCBElSr169lJaWprS0NPXq1UuS9Pjjj1dNUkkZGRmy2WwaNWqUc8wYo7S0NMXHxys8PFxdu3bVjh07qiwDAAAILGe9sjN48GDn1/369dPkyZP1wAMPOMdGjBihWbNm6aOPPtJDDz3k3ZSSNm/erNmzZ+viiy92GZ8+fbpmzJih7OxstWzZUlOmTNE111yjXbt2KTIy0us5AOBkDodDOTk5vo4BSUVFRerTp48kacmSJXI4HD5OBEl+8XNw65ydDz/8UNOmTasw3qtXLz322GMehzpVYWGhbr/9ds2ZM0dTpkxxjhtjlJmZqfHjx6tv376SpLlz5yo2Nlbz5s3TsGHDvJ4FAE5ms9kUHh7u6xg4hcPh4OcCJ7c+CDQmJkZLliypMP7WW28pJibG41Cnuv/++3X99derR48eLuN79+5Vbm6uevbs6Ryz2+3q0qWL1q1bd9r9FRcXq6CgwOUGAACsya2VnUmTJmno0KFauXKlOnbsKEnasGGDPvjgA69/EOiCBQv0+eefa/PmzRXmcnNzJUmxsbEu47Gxsdq3b99p95mRkaFJkyZ5NScAAPBPbq3sDBkyROvWrVOdOnW0ePFiLVq0SNHR0Vq7dq2GDBnitXA//PCDRo4cqddee+2Mx/xOfZeYMeaM7xwbN26cDh065Lz98MMPXssMAAD8i9vX2UlJSdHrr7/uzSwVbNmyRXl5eWrXrp1zrKysTKtXr9asWbO0a9cuScdXeBo2bOjcJi8vr8Jqz8nsdrvzatAAAMDa3Co7+/fvP+N8kyZN3Apzqu7du+vLL790GbvzzjvVqlUrPfroo2revLni4uK0fPlytW3bVpJUUlKiVatWVXoCNQAACD5ulZ1mzZqd8TBRWVmZ24FOFhkZqdatW7uM1apVSzExMc7xUaNGKT09XUlJSUpKSlJ6eroiIiI0cOBAr2QAAACBza2ys3XrVpf7x44d09atWzVjxgxNnTrVK8HO1tixY3X06FENHz5c+fn5SklJ0bJly7jGDgAAkORm2WnTpk2Fsfbt2ys+Pl5PP/2085o3VWHlypUu9202m/MqzgAAAKdy691Yp9OyZctK3yIOAADgK26t7Jx6ET5jjA4ePKi0tDQlJSV5JRgAAIA3uFV26tSpU+m1bRISErRgwQKvBAMAAPAGt8rOJ5984nI/JCRE9evXV4sWLVSjhtuX7gEAAPA6t5pJly5dJEk7d+7U/v37VVJSovz8fH3zzTeSpBtuuMF7CQEAADzgVtn57rvv1LdvX23fvl02m03GGEn/+dgGb11nBwAAwFNuvRtr5MiRatasmX7++WdFREToq6++0urVq9W+ffsKbw0HAADwJbdWdtavX6+PP/5Y9evXV0hIiEJDQ3XllVcqIyNDI0aMqHDRQQAAAF9xa2WnrKxMtWvXliTVq1dPBw4ckCQ1bdrU+eGcAAAA/sCtlZ3WrVtr+/btat68uVJSUjR9+nTVrFlTs2fPVvPmzb2dEQAAwG1ulZ0JEyboyJEjkqQpU6YoNTVVV111lWJiYrRw4UKvBgQAAPCEW2WnV69ezq+bN2+unTt36tdff9V55513xk9DBwAAqG5euwJg3bp1vbUrAAAAr/HqB4ECAAD4G8oOAACwNMoOAACwNMoOAACwNMoOAACwNMoOAACwNMoOAACwNMoOAACwNMoOAACwNMoOAACwNMoOAACwNMoOAACwNMoOAACwNMoOAACwNMoOAACwNMoOAACwNMoOAACwNMoOAACwNMoOAACwNMoOAACwNMoOAACwNMoOAACwNMoOAACwNMoOAACwNMoOAACwNMoOAACwNMoOAACwNMoOAACwNMoOAACwNMoOAACwNMoOAACwNMoOAACwNMoOAACwNMoOAACwNMoOAACwNMoOAACwNMoOAACwNMoOAACwNMoOAACwNMoOAACwNMoOAACwNMoOAACwNMoOAACwNL8uOxkZGerQoYMiIyPVoEED3XTTTdq1a5fLNsYYpaWlKT4+XuHh4eratat27Njho8QAAMDf+HXZWbVqle6//35t2LBBy5cvV2lpqXr27KkjR444t5k+fbpmzJihWbNmafPmzYqLi9M111yjw4cP+zA5AADwFzV8HeBMPvjgA5f7WVlZatCggbZs2aLOnTvLGKPMzEyNHz9effv2lSTNnTtXsbGxmjdvnoYNG+aL2AAAwI/49crOqQ4dOiRJqlu3riRp7969ys3NVc+ePZ3b2O12denSRevWrTvtfoqLi1VQUOByAwAA1hQwZccYo9GjR+vKK69U69atJUm5ubmSpNjYWJdtY2NjnXOVycjIUHR0tPOWkJBQdcEBAIBP+fVhrJM98MAD2r59u9asWVNhzmazudw3xlQYO9m4ceM0evRo5/2CggIKzx8wxqioqMjXMTx28nPo3bu3cnJyfJjGOxwOxxn/vgNAsAuIsvPggw/qnXfe0erVq9W4cWPneFxcnKTjKzwNGzZ0jufl5VVY7TmZ3W6X3W6vusAWVFRUpN69e/s6htdZ4Tnl5OQoPDzc1zEAwG/59WEsY4weeOABLV68WB9//LESExNd5hMTExUXF6fly5c7x0pKSrRq1Sp16tSpuuMCAAA/5NcrO/fff7/mzZunt99+W5GRkc7zcKKjoxUeHi6bzaZRo0YpPT1dSUlJSkpKUnp6uiIiIjRw4EAfp7cWh8MR8Id8zrSKE8jPzeFw+DoCAPg1vy47zz//vCSpa9euLuNZWVkaMmSIJGns2LE6evSohg8frvz8fKWkpGjZsmWKjIys5rTWZrPZAvpQyV//+tczzv/973/XmDFjqikNAKA62YwxxtchfK2goEDR0dE6dOiQoqKifB0HVeDUwlyZlStXVnkOAFXn6NGjzhVczmULDmf7+9uvz9kBvCU1NdWjeQBA4KLsICj80SEqDmEBgHVRdhAUnnvuOY/mAQCBi7KDoPDGG294NA8ACFyUHQSFW265xaN5AEDgouwgKHTv3t2jeQBA4KLsICgMGzbMo3kAQOCi7CAovPjiix7NAwACF2UHQeH888/3aB4AELgoOwgKL7zwgkfzAIDARdlBUFiwYIFH8wCAwEXZQVAYMGCAR/MAgMBF2UFQYGUHAIIXZQcAAFgaZQcAAFgaZQdB4e233/ZoHgAQuCg7CAoDBw70aB4AELgoOwgK8+bN82geABC4KDsICtHR0R7NAwACF2UHQeH999/3aB4AELgoOwgK06dP92geABC4KDsICmPHjvVoHgAQuCg7CAotW7b0aB4AELgoOwgKd999t0fzAIDARdlBUHjppZc8mgcABC7KDoJCgwYNPJoHAAQuyg6CwqBBgzyaBwAELsoOgsJrr73m0TwAIHBRdhAUoqKiFBERUelcRESEoqKiqjkRAKC6UHYQFEpLS/X7779XOvf777+rtLS0mhMBAKoLZQdB4R//+IdH8wCAwEXZQVC44447PJoHAAQuyg6Cwk8//eTRPAAgcFF2EBQGDx7s0TwAIHBRdhAU5s6d69E8ACBwUXYQFAoKCjyaBwAELsoOgsKDDz7o0TwAIHBRdhAUZs6c6dE8ACBwUXYQFJKTkz2aBwAELsoOgkJZWZlCQ0MrnQsNDVVZWVk1JwIAVBfKDoLC0qVLT1toysrKtHTp0mpOBACoLpQdBIXU1FSP5gEAgYuyg6CwZ88ej+YBAIGLsoOgcO+993o0DwAIXJQdBIXZs2d7NA8ACFyUHQSFpKQkj+YBAIGLsoOgsH//fo/mAQCBi7KDoNCkSRN16NCh0rnLLrtMTZo0qeZEAIDqQtlBULDZbBo5cmSFCwvWqFFDI0eOlM1m81EyAEBVo+wgaDRu3Fh9+/Z1Gevbt68aNWrko0QAgOpA2UFQ2blz5xnvAwCsh7KDoPHZZ59px44dLmNfffWVPvvsMx8lAgBUB8oOgkJ5ebkmT55c6dzkyZNVXl5ezYkAANWFsoOgsHHjRhUUFFQ6V1BQoI0bN1ZzIgBAdaHsICikpKQoKiqq0rno6GilpKRUcyIAQHWh7CAohISE6Iknnqh0buLEiQoJ4aUAAFZlmX/hn3vuOSUmJsrhcKhdu3b69NNPfR0JfqZ9+/aVjl966aXVnAQAUJ0sUXYWLlyoUaNGafz48dq6dauuuuoq9e7dm48AAAAAshljjK9DeColJUWXXnqpnn/+eefYBRdcoJtuukkZGRl/+PiCggJFR0fr0KFDpz2vA4Gva9eup51buXJlteUA/I0xRkVFRb6O4bGioiL16dNHkrRkyRI5HA4fJ/Kcw+HgCu9ncLa/v2tUY6YqUVJSoi1btuixxx5zGe/Zs6fWrVtX6WOKi4tVXFzsvH+6d+nAOnr06PGH8x999FE1pQH8S1FRkXr37u3rGF51ovQEupycHIWHh/s6RsAL+MNY//73v1VWVqbY2FiX8djYWOXm5lb6mIyMDEVHRztvCQkJ1REVPlRaWurRPAAgcAX8ys4Jpy7zGWNOu/Q3btw4jR492nm/oKCAwmNxNWrUOGOhqVHDMi8F4Jw5HA7l5OT4OobHjDHOVXu73W6Jwz9WOBTnDwL+X/h69eopNDS0wipOXl5ehdWeE+x2u+x2e3XEg5/46KOPznjODoewEMxsNptlDpVERET4OgL8UMAfxqpZs6batWun5cuXu4wvX75cnTp18lEq+KPTnYTMyckAYG0Bv7IjSaNHj9Zf/vIXtW/fXh07dtTs2bO1f/9+3Xfffb6OBgAAfMwSZefWW2/VL7/8osmTJ+vgwYNq3bq13n//fTVt2tTX0eBnVq5c6XI4i1UdALA+S1xnx1NcZwcAgMBztr+/A/6cHQAAgDOh7AAAAEuj7AAAAEuj7AAAAEuj7AAAAEuj7AAAAEuj7AAAAEuj7AAAAEuj7AAAAEuzxMdFeOrERaQLCgp8nAQAAJytE7+3/+jDICg7kg4fPixJSkhI8HESAABwrg4fPqzo6OjTzvPZWJLKy8t14MABRUZGymaz+ToOqlhBQYESEhL0ww8/8FlogMXw+g4uxhgdPnxY8fHxCgk5/Zk5rOxICgkJUePGjX0dA9UsKiqKfwwBi+L1HTzOtKJzAicoAwAAS6PsAAAAS6PsIOjY7XZNnDhRdrvd11EAeBmvb1SGE5QBAIClsbIDAAAsjbIDAAAsjbIDAAAsjbIDAAAsjbIDnxoyZIhsNptsNpvCwsLUvHlzjRkzRkeOHHFuM3fuXF122WWqVauWIiMj1blzZy1durTCvl588UW1adNGtWrVUp06ddS2bVtNmzbNOZ+WlqZLLrlEktSsWTPn963s1rVrV+d2mZmZKikpUb169TRlypRKn0dGRobq1aunkpISZWdnV7pPh8PhvT84wE+deE0/9dRTLuNvvfWW8wr1K1euPO1rLzc31/mYgoICPf7447rooosUHh6umJgYdejQQdOnT1d+fn6F7z1v3jyFhobqvvvuc4517dr1jK/1Zs2aObcbNWqUJCk5OVl33313pc9v/vz5CgsL088//3zWzwO+R9mBz1177bU6ePCgvvvuO02ZMkXPPfecxowZI0kaM2aMhg0bpltuuUVffPGFNm3apKuuuko33nijZs2a5dzHyy+/rNGjR2vEiBH64osvtHbtWo0dO1aFhYWVfs/Nmzfr4MGDOnjwoBYtWiRJ2rVrl3Ns8eLFLtvXrFlTgwYNUnZ2dqUfOJeVlaW//OUvqlmzpqTjV289sa8Tt3379nnlzwvwdw6HQ9OmTau0kJzs5NfciVuDBg0kSb/++qsuv/xyZWVlacyYMdq4caPWrl2riRMnatu2bZo3b16F/b3yyisaO3asFixYoN9//12StHjxYue+N23aJEn66KOPnGObN2+usJ+hQ4fqjTfecO7j1O+Rmpqq2NjYs3oe8BMG8KHBgwebG2+80WXs7rvvNnFxcWb9+vVGkvnb3/5W4XGjR482YWFhZv/+/cYYY2688UYzZMiQM36viRMnmjZt2lQY/+STT4wkk5+fX2GuadOm5plnnjHGGLN9+3YjyaxcudJlm9WrVxtJ5ssvvzTGGJOVlWWio6PPmAWwqsGDB5vU1FTTqlUr88gjjzjHlyxZYk78yjnTa+6EYcOGmVq1apkff/yx0vny8nKX+3v37jXh4eHmt99+MykpKWbu3LkVHrN3714jyWzdurXCXJcuXczIkSONMcb8+9//NjVr1jTZ2dku2+zbt8+EhISYd99996yfB/wDKzvwO+Hh4Tp27Jjmz5+v2rVra9iwYRW2efjhh3Xs2DHnqkxcXJw2bNhQpasnycnJ6tChg7KyslzGX3nlFV122WVq3bp1lX1vIJCEhoYqPT1dM2fO1I8//njOjy8vL9fChQs1aNAgNWrUqNJtTv3Q5ldeeUXXX3+9oqOjNWjQIL388stuZZekmJgY3XjjjRVe61lZWYqNjVXv3r3d3jd8g7IDv7Jp0ybNmzdP3bt31zfffKM//elPzkNDJ4uPj1d0dLS++eYbSdLEiRNVp04dNWvWTOeff76GDBmiN954Q+Xl5V7Nd9ddd+nNN990Hh4rLCzUP//5Tw0dOtRlu0OHDql27dout549e3o1C+DP+vTpo0suuUQTJ0487TaNGzd2eY2cf/75kqR//etf+u2335z3T2jXrp1z29tuu805Xl5eruzsbA0aNEiSNGDAAK1fv167d+92O/9dd92l1atX67vvvpN0/NO1s7OzNWTIEIWGhp7V84D/oOzA55YuXaratWvL4XCoY8eO6ty5s2bOnPmHjzPGOP9317BhQ61fv15ffvmlRowYoWPHjmnw4MG69tprvVp4brvtNuf/OiVp4cKFMsZowIABLttFRkZq27ZtLrdT/5cIWN20adM0d+5c7dy5s9L5Tz/91OU18uGHH7rMn7p6s2TJEm3btk29evXS0aNHnePLli3TkSNHnCsu9erVU8+ePfXKK6+4nb1nz55q3Lix83X78ccf6/vvv9edd955zs8DvlfD1wGAbt266fnnn1dYWJji4+MVFhYmSWrZsqXWrFmjkpKSCqs7Bw4cUEFBgZKSklzGW7durdatW+v+++/XmjVrdNVVV2nVqlXq1q2bV7JGR0erf//+ysrK0tChQ5WVlaX+/fsrKirKZbuQkBC1aNHCK98TCFSdO3dWr1699N///d8aMmRIhfnExETVqVOnwnj9+vVVp04d/e///q/LeJMmTSQd/8/Eb7/95hx/5ZVX9OuvvyoiIsI5Vl5erq1bt+rJJ5+ssBJzNkJCQjRkyBBlZ2dr0qRJysrKUufOnSv8m3Om5wH/wcoOfK5WrVpq0aKFmjZt6iw60vGl6MLCQr344osVHvPXv/5VYWFh6tev32n3e+GFF0qSy9vYvWHo0KFau3atli5dqrVr11Y4hAXgP5566im9++67Wrdu3Vk/JiQkRLfccotee+01/fTTT2fc9pdfftHbb7+tBQsWVFhNLSwsVE5OjtvZ77zzTv34449avHixFi9ezGs9gLGyA7/VsWNHjRw5Uo888ohKSkp000036dixY3rttdf07LPPKjMzUwkJCZKk//qv/1J8fLyuvvpqNW7cWAcPHtSUKVNUv359dezY0au5unTpohYtWuiOO+5QixYt1Llz5wrbGGMqvc5GgwYNFBLC/zEQPJKTk3X77bdXemg6Ly9PRUVFLmMxMTEKCwtTenq6Vq5cqZSUFE2ePFnt27dXrVq1tH37dq1fv975hoBXX31VMTExuvnmmyu8tlJTU/Xyyy8rNTXVreyJiYm6+uqrde+99yosLEz9+/evdLszPQ/4B/7VhV/LzMzUc889pwULFig5OVnt2rXTqlWr9NZbb+nBBx90btejRw9t2LBBN998s1q2bKl+/frJ4XBoxYoViomJ8Xquu+66S/n5+brrrrsqnS8oKFDDhg0r3PLy8ryeBfB3Tz75ZKXXpzr//PMrvEa2bNki6XhZ2LRpk+644w49/fTTuuyyy5ScnKy0tDTdeuutmjNnjqTjh7D69OlT6X8i+vXrp6VLl+rnn392O/vQoUOVn5+vAQMGuBwmO9vnAf9gM5X9DQQAALAIVnYAAIClUXYAAIClUXYAAIClUXYAAIClUXYAAIClUXYAAIClUXYAAIClUXYAAIClUXYAWE6zZs2UmZnp6xgA/ARlB0DAys7OrvTTpjdv3qx77723+gOdYuXKlbLZbC6f0A2g+vFBoAAsp379+r6OAMCPsLIDoEq9+eabSk5OVnh4uGJiYtSjRw8dOXJEkpSVlaULLrhADodDrVq10nPPPed83Pfffy+bzabFixerW7duioiIUJs2bbR+/XpJx1dN7rzzTh06dEg2m002m01paWmSKh7GstlsevHFF5WamqqIiAhdcMEFWr9+vXbv3q2uXbuqVq1a6tixo/bs2eOS/d1331W7du3kcDjUvHlzTZo0SaWlpS77femll9SnTx9FREQoKSlJ77zzjjN/t27dJEnnnXeebDabhgwZ4u0/XgBnwwBAFTlw4ICpUaOGmTFjhtm7d6/Zvn27+fvf/24OHz5sZs+ebRo2bGgWLVpkvvvuO7No0SJTt25dk52dbYwxZu/evUaSadWqlVm6dKnZtWuX6d+/v2natKk5duyYKS4uNpmZmSYqKsocPHjQHDx40Bw+fNgYY0zTpk3NM88848whyTRq1MgsXLjQ7Nq1y9x0002mWbNm5uqrrzYffPCB2blzp7n88svNtdde63zMBx98YKKiokx2drbZs2ePWbZsmWnWrJlJS0tz2W/jxo3NvHnzzLfffmtGjBhhateubX755RdTWlpqFi1aZCSZXbt2mYMHD5rffvutev7gAbig7ACoMlu2bDGSzPfff19hLiEhwcybN89l7MknnzQdO3Y0xvyn7Lz00kvO+R07dhhJ5uuvvzbGGJOVlWWio6Mr7LuysjNhwgTn/fXr1xtJ5uWXX3aOzZ8/3zgcDuf9q666yqSnp7vs99VXXzUNGzY87X4LCwuNzWYzOTk5xhhjPvnkEyPJ5OfnV8gIoPpwzg6AKtOmTRt1795dycnJ6tWrl3r27Kn+/furtLRUP/zwg4YOHap77rnHuX1paamio6Nd9nHxxRc7v27YsKEkKS8vT61atTqnLCfvJzY2VpKUnJzsMlZUVKSCggJFRUVpy5Yt2rx5s6ZOnercpqysTEVFRfr9998VERFRYb+1atVSZGSk8vLyzikbgKpF2QFQZUJDQ7V8+XKtW7dOy5Yt08yZMzV+/Hi9++67kqQ5c+YoJSWlwmNOFhYW5vzaZrNJksrLy885S2X7OdO+y8vLNWnSJPXt27fCvhwOR6X7PbEfd/IBqDqUHQBVymaz6YorrtAVV1yhJ554Qk2bNtXatWvVqFEjfffdd7r99tvd3nfNmjVVVlbmxbT/cemll2rXrl1q0aKF2/uoWbOmJFVZRgBnh7IDoMps3LhRK1asUM+ePdWgQQNt3LhR//rXv3TBBRcoLS1NI0aMUFRUlHr37q3i4mJ99tlnys/P1+jRo89q/82aNVNhYaFWrFihNm3aKCIiwnl4yVNPPPGEUlNTlZCQoJtvvlkhISHavn27vvzyS02ZMuWs9tG0aVPZbDYtXbpU1113ncLDw1W7dm2v5ANw9njrOYAqExUVpdWrV+u6665Ty5YtNWHCBP3P//yPevfurbvvvlsvvfSSsrOzlZycrC5duig7O1uJiYlnvf9OnTrpvvvu06233qr69etr+vTpXsveq1cvLV26VMuXL1eHDh10+eWXa8aMGWratOlZ76NRo0aaNGmSHnvsMcXGxuqBBx7wWj4AZ89mjDG+DgEAAFBVWNkBAACWRtkBAACWRtkBAACWRtkBAACWRtkBAACWRtkBAACWRtkBAACWRtkBAACWRtkBAACWRtkBAACWRtkBAACW9n/8YHLIX29NuwAAAABJRU5ErkJggg==",
      "text/plain": [
       "<Figure size 640x480 with 1 Axes>"
      ]
     },
     "metadata": {},
     "output_type": "display_data"
    }
   ],
   "source": [
    "sns.boxplot(y=merged[\"audienceScore\"], x=merged[\"sentiment\"])"
   ]
  },
  {
   "cell_type": "code",
   "execution_count": 39,
   "id": "81296094",
   "metadata": {
    "execution": {
     "iopub.execute_input": "2023-08-13T15:46:48.730882Z",
     "iopub.status.busy": "2023-08-13T15:46:48.730299Z",
     "iopub.status.idle": "2023-08-13T15:46:48.767334Z",
     "shell.execute_reply": "2023-08-13T15:46:48.766607Z"
    },
    "papermill": {
     "duration": 0.107696,
     "end_time": "2023-08-13T15:46:48.769579",
     "exception": false,
     "start_time": "2023-08-13T15:46:48.661883",
     "status": "completed"
    },
    "tags": []
   },
   "outputs": [
    {
     "data": {
      "text/html": [
       "<div>\n",
       "<style scoped>\n",
       "    .dataframe tbody tr th:only-of-type {\n",
       "        vertical-align: middle;\n",
       "    }\n",
       "\n",
       "    .dataframe tbody tr th {\n",
       "        vertical-align: top;\n",
       "    }\n",
       "\n",
       "    .dataframe thead th {\n",
       "        text-align: right;\n",
       "    }\n",
       "</style>\n",
       "<table border=\"1\" class=\"dataframe\">\n",
       "  <thead>\n",
       "    <tr style=\"text-align: right;\">\n",
       "      <th></th>\n",
       "      <th>count</th>\n",
       "      <th>mean</th>\n",
       "      <th>std</th>\n",
       "      <th>min</th>\n",
       "      <th>25%</th>\n",
       "      <th>50%</th>\n",
       "      <th>75%</th>\n",
       "      <th>max</th>\n",
       "    </tr>\n",
       "    <tr>\n",
       "      <th>sentiment</th>\n",
       "      <th></th>\n",
       "      <th></th>\n",
       "      <th></th>\n",
       "      <th></th>\n",
       "      <th></th>\n",
       "      <th></th>\n",
       "      <th></th>\n",
       "      <th></th>\n",
       "    </tr>\n",
       "  </thead>\n",
       "  <tbody>\n",
       "    <tr>\n",
       "      <th>NEGATIVE</th>\n",
       "      <td>53997.0</td>\n",
       "      <td>56.474786</td>\n",
       "      <td>19.902115</td>\n",
       "      <td>0.0</td>\n",
       "      <td>41.0</td>\n",
       "      <td>57.0</td>\n",
       "      <td>72.0</td>\n",
       "      <td>100.0</td>\n",
       "    </tr>\n",
       "    <tr>\n",
       "      <th>POSITIVE</th>\n",
       "      <td>108761.0</td>\n",
       "      <td>69.326174</td>\n",
       "      <td>18.380626</td>\n",
       "      <td>0.0</td>\n",
       "      <td>58.0</td>\n",
       "      <td>73.0</td>\n",
       "      <td>84.0</td>\n",
       "      <td>100.0</td>\n",
       "    </tr>\n",
       "  </tbody>\n",
       "</table>\n",
       "</div>"
      ],
      "text/plain": [
       "              count       mean        std  min   25%   50%   75%    max\n",
       "sentiment                                                              \n",
       "NEGATIVE    53997.0  56.474786  19.902115  0.0  41.0  57.0  72.0  100.0\n",
       "POSITIVE   108761.0  69.326174  18.380626  0.0  58.0  73.0  84.0  100.0"
      ]
     },
     "execution_count": 39,
     "metadata": {},
     "output_type": "execute_result"
    }
   ],
   "source": [
    "merged.groupby('sentiment')['audienceScore'].describe()"
   ]
  },
  {
   "cell_type": "code",
   "execution_count": 40,
   "id": "5c9d5ca8",
   "metadata": {
    "execution": {
     "iopub.execute_input": "2023-08-13T15:46:48.903742Z",
     "iopub.status.busy": "2023-08-13T15:46:48.903377Z",
     "iopub.status.idle": "2023-08-13T15:46:48.959401Z",
     "shell.execute_reply": "2023-08-13T15:46:48.957790Z"
    },
    "papermill": {
     "duration": 0.126663,
     "end_time": "2023-08-13T15:46:48.962180",
     "exception": false,
     "start_time": "2023-08-13T15:46:48.835517",
     "status": "completed"
    },
    "tags": []
   },
   "outputs": [
    {
     "data": {
      "text/plain": [
       "(162758, 26)"
      ]
     },
     "execution_count": 40,
     "metadata": {},
     "output_type": "execute_result"
    }
   ],
   "source": [
    "merged.loc[merged['audienceScore'] >= 0].shape"
   ]
  },
  {
   "cell_type": "markdown",
   "id": "c0b38f15",
   "metadata": {
    "papermill": {
     "duration": 0.065985,
     "end_time": "2023-08-13T15:46:49.096169",
     "exception": false,
     "start_time": "2023-08-13T15:46:49.030184",
     "status": "completed"
    },
    "tags": []
   },
   "source": [
    "### EDA releaseDiff  "
   ]
  },
  {
   "cell_type": "code",
   "execution_count": 41,
   "id": "85506923",
   "metadata": {
    "execution": {
     "iopub.execute_input": "2023-08-13T15:46:49.230268Z",
     "iopub.status.busy": "2023-08-13T15:46:49.229924Z",
     "iopub.status.idle": "2023-08-13T15:46:49.246613Z",
     "shell.execute_reply": "2023-08-13T15:46:49.245141Z"
    },
    "papermill": {
     "duration": 0.086089,
     "end_time": "2023-08-13T15:46:49.249114",
     "exception": false,
     "start_time": "2023-08-13T15:46:49.163025",
     "status": "completed"
    },
    "tags": []
   },
   "outputs": [
    {
     "data": {
      "text/plain": [
       "count    162758.000000\n",
       "mean       1653.469015\n",
       "std        4581.420922\n",
       "min           0.000000\n",
       "25%          65.000000\n",
       "50%         116.000000\n",
       "75%         375.000000\n",
       "max       38922.000000\n",
       "Name: releaseDiff, dtype: float64"
      ]
     },
     "execution_count": 41,
     "metadata": {},
     "output_type": "execute_result"
    }
   ],
   "source": [
    "# abs values\n",
    "merged[\"releaseDiff\"].describe()"
   ]
  },
  {
   "cell_type": "code",
   "execution_count": 42,
   "id": "072cb570",
   "metadata": {
    "execution": {
     "iopub.execute_input": "2023-08-13T15:46:49.384516Z",
     "iopub.status.busy": "2023-08-13T15:46:49.384180Z",
     "iopub.status.idle": "2023-08-13T15:46:49.388320Z",
     "shell.execute_reply": "2023-08-13T15:46:49.386902Z"
    },
    "papermill": {
     "duration": 0.074272,
     "end_time": "2023-08-13T15:46:49.390224",
     "exception": false,
     "start_time": "2023-08-13T15:46:49.315952",
     "status": "completed"
    },
    "tags": []
   },
   "outputs": [],
   "source": [
    "# merged['releaseDiffBins'].value_counts()"
   ]
  },
  {
   "cell_type": "code",
   "execution_count": 43,
   "id": "19dbad5c",
   "metadata": {
    "execution": {
     "iopub.execute_input": "2023-08-13T15:46:49.523839Z",
     "iopub.status.busy": "2023-08-13T15:46:49.523038Z",
     "iopub.status.idle": "2023-08-13T15:46:49.740947Z",
     "shell.execute_reply": "2023-08-13T15:46:49.739602Z"
    },
    "papermill": {
     "duration": 0.286439,
     "end_time": "2023-08-13T15:46:49.742897",
     "exception": false,
     "start_time": "2023-08-13T15:46:49.456458",
     "status": "completed"
    },
    "tags": []
   },
   "outputs": [
    {
     "data": {
      "text/plain": [
       "<Axes: xlabel='sentiment', ylabel='releaseDiff'>"
      ]
     },
     "execution_count": 43,
     "metadata": {},
     "output_type": "execute_result"
    },
    {
     "data": {
      "image/png": "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",
      "text/plain": [
       "<Figure size 640x480 with 1 Axes>"
      ]
     },
     "metadata": {},
     "output_type": "display_data"
    }
   ],
   "source": [
    "sns.boxplot(x=merged['sentiment'], y=merged['releaseDiff'], showfliers=False)"
   ]
  },
  {
   "cell_type": "code",
   "execution_count": 44,
   "id": "cdaf90f9",
   "metadata": {
    "execution": {
     "iopub.execute_input": "2023-08-13T15:46:49.876892Z",
     "iopub.status.busy": "2023-08-13T15:46:49.875571Z",
     "iopub.status.idle": "2023-08-13T15:46:49.880775Z",
     "shell.execute_reply": "2023-08-13T15:46:49.879717Z"
    },
    "papermill": {
     "duration": 0.074492,
     "end_time": "2023-08-13T15:46:49.882746",
     "exception": false,
     "start_time": "2023-08-13T15:46:49.808254",
     "status": "completed"
    },
    "tags": []
   },
   "outputs": [],
   "source": [
    "# sns.displot(merged['releaseDiffBins'])"
   ]
  },
  {
   "cell_type": "code",
   "execution_count": 45,
   "id": "31a50b06",
   "metadata": {
    "execution": {
     "iopub.execute_input": "2023-08-13T15:46:50.023447Z",
     "iopub.status.busy": "2023-08-13T15:46:50.022746Z",
     "iopub.status.idle": "2023-08-13T15:46:50.027704Z",
     "shell.execute_reply": "2023-08-13T15:46:50.026484Z"
    },
    "papermill": {
     "duration": 0.078464,
     "end_time": "2023-08-13T15:46:50.030651",
     "exception": false,
     "start_time": "2023-08-13T15:46:49.952187",
     "status": "completed"
    },
    "tags": []
   },
   "outputs": [],
   "source": [
    "# merged['sentiment'].loc[merged['releaseDiffBins'] > 0].value_counts()"
   ]
  },
  {
   "cell_type": "code",
   "execution_count": 46,
   "id": "003725a2",
   "metadata": {
    "execution": {
     "iopub.execute_input": "2023-08-13T15:46:50.180641Z",
     "iopub.status.busy": "2023-08-13T15:46:50.180067Z",
     "iopub.status.idle": "2023-08-13T15:46:50.183467Z",
     "shell.execute_reply": "2023-08-13T15:46:50.182782Z"
    },
    "papermill": {
     "duration": 0.074667,
     "end_time": "2023-08-13T15:46:50.185970",
     "exception": false,
     "start_time": "2023-08-13T15:46:50.111303",
     "status": "completed"
    },
    "tags": []
   },
   "outputs": [],
   "source": [
    "# merged['releaseDiffBins'].describe()"
   ]
  },
  {
   "cell_type": "markdown",
   "id": "1a701093",
   "metadata": {
    "papermill": {
     "duration": 0.06686,
     "end_time": "2023-08-13T15:46:50.319120",
     "exception": false,
     "start_time": "2023-08-13T15:46:50.252260",
     "status": "completed"
    },
    "tags": []
   },
   "source": [
    "### EDA 'distributor'  "
   ]
  },
  {
   "cell_type": "code",
   "execution_count": 47,
   "id": "6fcd541e",
   "metadata": {
    "execution": {
     "iopub.execute_input": "2023-08-13T15:46:50.455519Z",
     "iopub.status.busy": "2023-08-13T15:46:50.454972Z",
     "iopub.status.idle": "2023-08-13T15:46:50.473218Z",
     "shell.execute_reply": "2023-08-13T15:46:50.472039Z"
    },
    "papermill": {
     "duration": 0.089671,
     "end_time": "2023-08-13T15:46:50.475308",
     "exception": false,
     "start_time": "2023-08-13T15:46:50.385637",
     "status": "completed"
    },
    "tags": []
   },
   "outputs": [
    {
     "data": {
      "text/plain": [
       "unknown                              20489\n",
       "Universal Pictures                    8847\n",
       "Warner Bros. Pictures                 8722\n",
       "Paramount Pictures                    7773\n",
       "20th Century Fox                      7007\n",
       "                                     ...  \n",
       "Almi Pictures                            1\n",
       "Koch Lorber                              1\n",
       "Magic Lamp                               1\n",
       "Fine Line Features, Miramax Films        1\n",
       "American Film Co.                        1\n",
       "Name: distributor, Length: 1796, dtype: int64"
      ]
     },
     "execution_count": 47,
     "metadata": {},
     "output_type": "execute_result"
    }
   ],
   "source": [
    "merged[\"distributor\"].value_counts()"
   ]
  },
  {
   "cell_type": "code",
   "execution_count": 48,
   "id": "f29ac74c",
   "metadata": {
    "execution": {
     "iopub.execute_input": "2023-08-13T15:46:50.613615Z",
     "iopub.status.busy": "2023-08-13T15:46:50.612384Z",
     "iopub.status.idle": "2023-08-13T15:46:50.628922Z",
     "shell.execute_reply": "2023-08-13T15:46:50.627797Z"
    },
    "papermill": {
     "duration": 0.087927,
     "end_time": "2023-08-13T15:46:50.631488",
     "exception": false,
     "start_time": "2023-08-13T15:46:50.543561",
     "status": "completed"
    },
    "tags": []
   },
   "outputs": [
    {
     "data": {
      "text/plain": [
       "count    162758.000000\n",
       "mean        106.992019\n",
       "std          22.203778\n",
       "min           4.000000\n",
       "25%          93.000000\n",
       "50%         104.000000\n",
       "75%         118.000000\n",
       "max         561.000000\n",
       "Name: runtimeMinutes, dtype: float64"
      ]
     },
     "execution_count": 48,
     "metadata": {},
     "output_type": "execute_result"
    }
   ],
   "source": [
    "merged[\"runtimeMinutes\"].describe()"
   ]
  },
  {
   "cell_type": "code",
   "execution_count": 49,
   "id": "36fc8186",
   "metadata": {
    "execution": {
     "iopub.execute_input": "2023-08-13T15:46:50.770068Z",
     "iopub.status.busy": "2023-08-13T15:46:50.769686Z",
     "iopub.status.idle": "2023-08-13T15:46:51.009139Z",
     "shell.execute_reply": "2023-08-13T15:46:51.008229Z"
    },
    "papermill": {
     "duration": 0.311832,
     "end_time": "2023-08-13T15:46:51.011232",
     "exception": false,
     "start_time": "2023-08-13T15:46:50.699400",
     "status": "completed"
    },
    "tags": []
   },
   "outputs": [
    {
     "data": {
      "text/plain": [
       "<Axes: xlabel='sentiment', ylabel='runtimeMinutes'>"
      ]
     },
     "execution_count": 49,
     "metadata": {},
     "output_type": "execute_result"
    },
    {
     "data": {
      "image/png": "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",
      "text/plain": [
       "<Figure size 640x480 with 1 Axes>"
      ]
     },
     "metadata": {},
     "output_type": "display_data"
    }
   ],
   "source": [
    "sns.boxplot(y=merged[\"runtimeMinutes\"], x=merged[\"sentiment\"])"
   ]
  },
  {
   "cell_type": "code",
   "execution_count": 50,
   "id": "95161467",
   "metadata": {
    "execution": {
     "iopub.execute_input": "2023-08-13T15:46:51.152877Z",
     "iopub.status.busy": "2023-08-13T15:46:51.152483Z",
     "iopub.status.idle": "2023-08-13T15:46:51.156596Z",
     "shell.execute_reply": "2023-08-13T15:46:51.155620Z"
    },
    "papermill": {
     "duration": 0.075875,
     "end_time": "2023-08-13T15:46:51.158888",
     "exception": false,
     "start_time": "2023-08-13T15:46:51.083013",
     "status": "completed"
    },
    "tags": []
   },
   "outputs": [],
   "source": [
    "# print(merged[\"boxOfficeBins\"].value_counts())\n",
    "# sns.displot(merged[\"boxOfficeBins\"])"
   ]
  },
  {
   "cell_type": "code",
   "execution_count": 51,
   "id": "bb3908e5",
   "metadata": {
    "execution": {
     "iopub.execute_input": "2023-08-13T15:46:51.297661Z",
     "iopub.status.busy": "2023-08-13T15:46:51.297302Z",
     "iopub.status.idle": "2023-08-13T15:46:51.303704Z",
     "shell.execute_reply": "2023-08-13T15:46:51.303096Z"
    },
    "papermill": {
     "duration": 0.077866,
     "end_time": "2023-08-13T15:46:51.305385",
     "exception": false,
     "start_time": "2023-08-13T15:46:51.227519",
     "status": "completed"
    },
    "tags": []
   },
   "outputs": [
    {
     "data": {
      "text/plain": [
       "0    Henry Selick’s first movie since ’s Coraline. ...\n",
       "1    With a cast that reads like the Vogue Oscar pa...\n",
       "2    Creed II does not give us anything but another...\n",
       "3    I know what you're thinking, but this is no Li...\n",
       "4    Director Fernando Meirelles tells the story wi...\n",
       "Name: reviewText, dtype: object"
      ]
     },
     "execution_count": 51,
     "metadata": {},
     "output_type": "execute_result"
    }
   ],
   "source": [
    "merged[\"reviewText\"].head()"
   ]
  },
  {
   "cell_type": "code",
   "execution_count": 52,
   "id": "ad9974d5",
   "metadata": {
    "execution": {
     "iopub.execute_input": "2023-08-13T15:46:51.442088Z",
     "iopub.status.busy": "2023-08-13T15:46:51.441213Z",
     "iopub.status.idle": "2023-08-13T15:46:51.449270Z",
     "shell.execute_reply": "2023-08-13T15:46:51.448378Z"
    },
    "papermill": {
     "duration": 0.07851,
     "end_time": "2023-08-13T15:46:51.451171",
     "exception": false,
     "start_time": "2023-08-13T15:46:51.372661",
     "status": "completed"
    },
    "tags": []
   },
   "outputs": [
    {
     "data": {
      "text/plain": [
       "6447"
      ]
     },
     "execution_count": 52,
     "metadata": {},
     "output_type": "execute_result"
    }
   ],
   "source": [
    "merged[\"reviewYN\"].sum()"
   ]
  },
  {
   "cell_type": "code",
   "execution_count": 53,
   "id": "5feaf174",
   "metadata": {
    "execution": {
     "iopub.execute_input": "2023-08-13T15:46:51.589649Z",
     "iopub.status.busy": "2023-08-13T15:46:51.589359Z",
     "iopub.status.idle": "2023-08-13T15:46:51.595640Z",
     "shell.execute_reply": "2023-08-13T15:46:51.594999Z"
    },
    "papermill": {
     "duration": 0.078195,
     "end_time": "2023-08-13T15:46:51.597339",
     "exception": false,
     "start_time": "2023-08-13T15:46:51.519144",
     "status": "completed"
    },
    "tags": []
   },
   "outputs": [
    {
     "data": {
      "text/plain": [
       "0    11\n",
       "1    24\n",
       "2    22\n",
       "3    34\n",
       "4    20\n",
       "Name: reviewWC, dtype: int64"
      ]
     },
     "execution_count": 53,
     "metadata": {},
     "output_type": "execute_result"
    }
   ],
   "source": [
    "merged[\"reviewWC\"].head()"
   ]
  },
  {
   "cell_type": "code",
   "execution_count": 54,
   "id": "4aafddd3",
   "metadata": {
    "execution": {
     "iopub.execute_input": "2023-08-13T15:46:51.738748Z",
     "iopub.status.busy": "2023-08-13T15:46:51.737441Z",
     "iopub.status.idle": "2023-08-13T15:46:51.751769Z",
     "shell.execute_reply": "2023-08-13T15:46:51.750536Z"
    },
    "papermill": {
     "duration": 0.086833,
     "end_time": "2023-08-13T15:46:51.754113",
     "exception": false,
     "start_time": "2023-08-13T15:46:51.667280",
     "status": "completed"
    },
    "tags": []
   },
   "outputs": [
    {
     "data": {
      "text/plain": [
       "count    162758.000000\n",
       "mean         21.013707\n",
       "std          10.216532\n",
       "min           1.000000\n",
       "25%          14.000000\n",
       "50%          21.000000\n",
       "75%          28.000000\n",
       "max          54.000000\n",
       "Name: reviewWC, dtype: float64"
      ]
     },
     "execution_count": 54,
     "metadata": {},
     "output_type": "execute_result"
    }
   ],
   "source": [
    "merged[\"reviewWC\"].describe()"
   ]
  },
  {
   "cell_type": "code",
   "execution_count": 55,
   "id": "99b4768a",
   "metadata": {
    "execution": {
     "iopub.execute_input": "2023-08-13T15:46:51.892360Z",
     "iopub.status.busy": "2023-08-13T15:46:51.891995Z",
     "iopub.status.idle": "2023-08-13T15:46:52.349939Z",
     "shell.execute_reply": "2023-08-13T15:46:52.349202Z"
    },
    "papermill": {
     "duration": 0.52969,
     "end_time": "2023-08-13T15:46:52.352182",
     "exception": false,
     "start_time": "2023-08-13T15:46:51.822492",
     "status": "completed"
    },
    "tags": []
   },
   "outputs": [
    {
     "data": {
      "text/plain": [
       "<Axes: xlabel='reviewWC', ylabel='Count'>"
      ]
     },
     "execution_count": 55,
     "metadata": {},
     "output_type": "execute_result"
    },
    {
     "data": {
      "image/png": "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",
      "text/plain": [
       "<Figure size 640x480 with 1 Axes>"
      ]
     },
     "metadata": {},
     "output_type": "display_data"
    }
   ],
   "source": [
    "sns.histplot(merged[\"reviewWC\"])"
   ]
  },
  {
   "cell_type": "code",
   "execution_count": 56,
   "id": "5363a0d4",
   "metadata": {
    "execution": {
     "iopub.execute_input": "2023-08-13T15:46:52.555961Z",
     "iopub.status.busy": "2023-08-13T15:46:52.554920Z",
     "iopub.status.idle": "2023-08-13T15:46:52.571247Z",
     "shell.execute_reply": "2023-08-13T15:46:52.570258Z"
    },
    "papermill": {
     "duration": 0.151022,
     "end_time": "2023-08-13T15:46:52.573017",
     "exception": false,
     "start_time": "2023-08-13T15:46:52.421995",
     "status": "completed"
    },
    "tags": []
   },
   "outputs": [
    {
     "data": {
      "text/plain": [
       "R          60248\n",
       "unknown    44587\n",
       "PG-13      42697\n",
       "PG         13669\n",
       "TV14         947\n",
       "NC-17        285\n",
       "TVPG         281\n",
       "TVMA          44\n",
       "Name: rating, dtype: int64"
      ]
     },
     "execution_count": 56,
     "metadata": {},
     "output_type": "execute_result"
    }
   ],
   "source": [
    "merged['rating'].value_counts()"
   ]
  },
  {
   "cell_type": "code",
   "execution_count": 57,
   "id": "579b0a8e",
   "metadata": {
    "execution": {
     "iopub.execute_input": "2023-08-13T15:46:52.715294Z",
     "iopub.status.busy": "2023-08-13T15:46:52.714945Z",
     "iopub.status.idle": "2023-08-13T15:46:52.722668Z",
     "shell.execute_reply": "2023-08-13T15:46:52.722002Z"
    },
    "papermill": {
     "duration": 0.081079,
     "end_time": "2023-08-13T15:46:52.724278",
     "exception": false,
     "start_time": "2023-08-13T15:46:52.643199",
     "status": "completed"
    },
    "tags": []
   },
   "outputs": [
    {
     "data": {
      "text/plain": [
       "False    113189\n",
       "True      49569\n",
       "Name: isFrequentReviewer, dtype: int64"
      ]
     },
     "execution_count": 57,
     "metadata": {},
     "output_type": "execute_result"
    }
   ],
   "source": [
    "merged['isFrequentReviewer'].value_counts()"
   ]
  },
  {
   "cell_type": "code",
   "execution_count": 58,
   "id": "3ffdd54b",
   "metadata": {
    "execution": {
     "iopub.execute_input": "2023-08-13T15:46:52.863598Z",
     "iopub.status.busy": "2023-08-13T15:46:52.863243Z",
     "iopub.status.idle": "2023-08-13T15:46:52.869259Z",
     "shell.execute_reply": "2023-08-13T15:46:52.868629Z"
    },
    "papermill": {
     "duration": 0.077683,
     "end_time": "2023-08-13T15:46:52.870796",
     "exception": false,
     "start_time": "2023-08-13T15:46:52.793113",
     "status": "completed"
    },
    "tags": []
   },
   "outputs": [
    {
     "data": {
      "text/plain": [
       "0      Benjamin Henry\n",
       "1       Felicia Lopez\n",
       "2     Charles Burgess\n",
       "3        Ryan Barrett\n",
       "4    Alexander Glover\n",
       "Name: reviewerName, dtype: object"
      ]
     },
     "execution_count": 58,
     "metadata": {},
     "output_type": "execute_result"
    }
   ],
   "source": [
    "merged[\"reviewerName\"].head()"
   ]
  },
  {
   "cell_type": "code",
   "execution_count": 59,
   "id": "f4e68b81",
   "metadata": {
    "execution": {
     "iopub.execute_input": "2023-08-13T15:46:53.008906Z",
     "iopub.status.busy": "2023-08-13T15:46:53.007752Z",
     "iopub.status.idle": "2023-08-13T15:46:53.019991Z",
     "shell.execute_reply": "2023-08-13T15:46:53.018675Z"
    },
    "papermill": {
     "duration": 0.084175,
     "end_time": "2023-08-13T15:46:53.022655",
     "exception": false,
     "start_time": "2023-08-13T15:46:52.938480",
     "status": "completed"
    },
    "tags": []
   },
   "outputs": [
    {
     "data": {
      "text/plain": [
       "14300000.0    32327\n",
       "2000000.0       922\n",
       "1100000.0       891\n",
       "1000000.0       834\n",
       "1200000.0       802\n",
       "              ...  \n",
       "58500.0           1\n",
       "500800.0          1\n",
       "265600.0          1\n",
       "292500.0          1\n",
       "799400.0          1\n",
       "Name: boxOffice, Length: 3819, dtype: int64"
      ]
     },
     "execution_count": 59,
     "metadata": {},
     "output_type": "execute_result"
    }
   ],
   "source": [
    "merged['boxOffice'].value_counts()"
   ]
  },
  {
   "cell_type": "code",
   "execution_count": 60,
   "id": "3aed546d",
   "metadata": {
    "execution": {
     "iopub.execute_input": "2023-08-13T15:46:53.165306Z",
     "iopub.status.busy": "2023-08-13T15:46:53.164942Z",
     "iopub.status.idle": "2023-08-13T15:46:53.169751Z",
     "shell.execute_reply": "2023-08-13T15:46:53.168683Z"
    },
    "papermill": {
     "duration": 0.078415,
     "end_time": "2023-08-13T15:46:53.171966",
     "exception": false,
     "start_time": "2023-08-13T15:46:53.093551",
     "status": "completed"
    },
    "tags": []
   },
   "outputs": [],
   "source": [
    "# Check correlation between 'boxOffice' and ''sentiment'\n",
    "# bo_df = merged.copy()\n",
    "# print(bo_df[\"boxOffice\"])\n",
    "# bo_df[\"boxOffice\"] = bo_df[\"boxOffice\"].str[1:]\n",
    "# bo_df[\"boxOffice\"] = bo_df[\"boxOffice\"].replace(to_replace={\"M\": \"*1000000\", \"K\": \"*1000\"}, regex=True)\n",
    "# bo_df[\"boxOffice\"] = bo_df[\"boxOffice\"].loc[bo_df[\"boxOffice\"].notnull()].apply(lambda x: eval(str(x)))\n",
    "# bo_df[\"boxOffice\"] = bo_df[\"boxOffice\"].fillna(bo_df[\"boxOffice\"].median())\n",
    "# bo_df[\"boxOffice\"].describe()"
   ]
  },
  {
   "cell_type": "code",
   "execution_count": 61,
   "id": "f5cf6a29",
   "metadata": {
    "execution": {
     "iopub.execute_input": "2023-08-13T15:46:53.312717Z",
     "iopub.status.busy": "2023-08-13T15:46:53.312122Z",
     "iopub.status.idle": "2023-08-13T15:46:53.316283Z",
     "shell.execute_reply": "2023-08-13T15:46:53.315305Z"
    },
    "papermill": {
     "duration": 0.07739,
     "end_time": "2023-08-13T15:46:53.318866",
     "exception": false,
     "start_time": "2023-08-13T15:46:53.241476",
     "status": "completed"
    },
    "tags": []
   },
   "outputs": [],
   "source": [
    "# median = bo_df[\"boxOffice\"].describe()['50%']\n",
    "# iqr = bo_df[\"boxOffice\"].describe()['75%'] - bo_df[\"boxOffice\"].describe()['25%']\n",
    "# median, iqr"
   ]
  },
  {
   "cell_type": "code",
   "execution_count": 62,
   "id": "36c011a8",
   "metadata": {
    "execution": {
     "iopub.execute_input": "2023-08-13T15:46:53.458730Z",
     "iopub.status.busy": "2023-08-13T15:46:53.458083Z",
     "iopub.status.idle": "2023-08-13T15:46:53.461508Z",
     "shell.execute_reply": "2023-08-13T15:46:53.460894Z"
    },
    "papermill": {
     "duration": 0.075226,
     "end_time": "2023-08-13T15:46:53.463291",
     "exception": false,
     "start_time": "2023-08-13T15:46:53.388065",
     "status": "completed"
    },
    "tags": []
   },
   "outputs": [],
   "source": [
    "# ll = median - (1.5*iqr)\n",
    "# ul = median + (1.5*iqr)\n",
    "# ll, ul"
   ]
  },
  {
   "cell_type": "code",
   "execution_count": 63,
   "id": "060139a1",
   "metadata": {
    "execution": {
     "iopub.execute_input": "2023-08-13T15:46:53.605262Z",
     "iopub.status.busy": "2023-08-13T15:46:53.604428Z",
     "iopub.status.idle": "2023-08-13T15:46:53.608063Z",
     "shell.execute_reply": "2023-08-13T15:46:53.607472Z"
    },
    "papermill": {
     "duration": 0.075431,
     "end_time": "2023-08-13T15:46:53.609656",
     "exception": false,
     "start_time": "2023-08-13T15:46:53.534225",
     "status": "completed"
    },
    "tags": []
   },
   "outputs": [],
   "source": [
    "# bo_df[\"boxOffice\"].mean()"
   ]
  },
  {
   "cell_type": "code",
   "execution_count": 64,
   "id": "dc5aedce",
   "metadata": {
    "execution": {
     "iopub.execute_input": "2023-08-13T15:46:53.749876Z",
     "iopub.status.busy": "2023-08-13T15:46:53.749500Z",
     "iopub.status.idle": "2023-08-13T15:46:53.753895Z",
     "shell.execute_reply": "2023-08-13T15:46:53.752469Z"
    },
    "papermill": {
     "duration": 0.07797,
     "end_time": "2023-08-13T15:46:53.755900",
     "exception": false,
     "start_time": "2023-08-13T15:46:53.677930",
     "status": "completed"
    },
    "tags": []
   },
   "outputs": [],
   "source": [
    "# bo_df.loc[bo_df[\"boxOffice\"] > ul, \"boxOffice\"] = median\n",
    "# bo_df[\"boxOffice\"].mean()"
   ]
  },
  {
   "cell_type": "code",
   "execution_count": 65,
   "id": "e27620bc",
   "metadata": {
    "execution": {
     "iopub.execute_input": "2023-08-13T15:46:53.892630Z",
     "iopub.status.busy": "2023-08-13T15:46:53.892278Z",
     "iopub.status.idle": "2023-08-13T15:46:53.896277Z",
     "shell.execute_reply": "2023-08-13T15:46:53.895393Z"
    },
    "papermill": {
     "duration": 0.074839,
     "end_time": "2023-08-13T15:46:53.898713",
     "exception": false,
     "start_time": "2023-08-13T15:46:53.823874",
     "status": "completed"
    },
    "tags": []
   },
   "outputs": [],
   "source": [
    "# bo_df[\"boxOffice\"].min(), bo_df[\"boxOffice\"].max()"
   ]
  },
  {
   "cell_type": "code",
   "execution_count": 66,
   "id": "e6972c67",
   "metadata": {
    "execution": {
     "iopub.execute_input": "2023-08-13T15:46:54.039005Z",
     "iopub.status.busy": "2023-08-13T15:46:54.038406Z",
     "iopub.status.idle": "2023-08-13T15:46:54.043441Z",
     "shell.execute_reply": "2023-08-13T15:46:54.041939Z"
    },
    "papermill": {
     "duration": 0.077454,
     "end_time": "2023-08-13T15:46:54.045754",
     "exception": false,
     "start_time": "2023-08-13T15:46:53.968300",
     "status": "completed"
    },
    "tags": []
   },
   "outputs": [],
   "source": [
    "# sns.boxplot(x=\"sentiment\", y=\"boxOffice\", data=bo_df, showfliers = False)"
   ]
  },
  {
   "cell_type": "markdown",
   "id": "f1237de9",
   "metadata": {
    "papermill": {
     "duration": 0.0702,
     "end_time": "2023-08-13T15:46:54.189670",
     "exception": false,
     "start_time": "2023-08-13T15:46:54.119470",
     "status": "completed"
    },
    "tags": []
   },
   "source": [
    "## EDA  "
   ]
  },
  {
   "cell_type": "markdown",
   "id": "32313dbf",
   "metadata": {
    "papermill": {
     "duration": 0.069427,
     "end_time": "2023-08-13T15:46:54.329025",
     "exception": false,
     "start_time": "2023-08-13T15:46:54.259598",
     "status": "completed"
    },
    "tags": []
   },
   "source": [
    "### An interesting finding through exploration  \n",
    "  \n",
    "* OHE and TfidfVectorizer on director column give the same result when ngram_range(2,2) is used (see code below)!"
   ]
  },
  {
   "cell_type": "code",
   "execution_count": 67,
   "id": "0f39fceb",
   "metadata": {
    "execution": {
     "iopub.execute_input": "2023-08-13T15:46:54.471526Z",
     "iopub.status.busy": "2023-08-13T15:46:54.470867Z",
     "iopub.status.idle": "2023-08-13T15:46:59.287853Z",
     "shell.execute_reply": "2023-08-13T15:46:59.286373Z"
    },
    "papermill": {
     "duration": 4.890774,
     "end_time": "2023-08-13T15:46:59.290154",
     "exception": false,
     "start_time": "2023-08-13T15:46:54.399380",
     "status": "completed"
    },
    "tags": []
   },
   "outputs": [
    {
     "name": "stdout",
     "output_type": "stream",
     "text": [
      "(162758,)\n",
      "9476\n",
      "(162758, 9476) <class 'numpy.ndarray'>\n",
      "(162758,)\n",
      "(162758, 9476) <class 'numpy.ndarray'>\n",
      "True\n"
     ]
    }
   ],
   "source": [
    "# Compare OHE and TfidfVectorizer on director column\n",
    "\n",
    "dirs = merged[\"director\"].copy()\n",
    "print(dirs.shape)\n",
    "dirs_uniq = merged[\"director\"].unique()\n",
    "print(len(dirs_uniq))\n",
    "\n",
    "du_ohe = OneHotEncoder(handle_unknown=\"ignore\", sparse_output=False).fit_transform(dirs.to_numpy().reshape(-1, 1))\n",
    "print(du_ohe.shape, type(du_ohe))\n",
    "\n",
    "dirs_2 = merged[\"director\"].copy()\n",
    "print(dirs_2.shape)\n",
    "du_tfidf = TfidfVectorizer(ngram_range=(2,2)).fit_transform(dirs_2).toarray()\n",
    "print(du_tfidf.shape, type(du_tfidf))\n",
    "\n",
    "print(np.array_equal(du_ohe, du_tfidf))"
   ]
  },
  {
   "cell_type": "code",
   "execution_count": 68,
   "id": "809297db",
   "metadata": {
    "execution": {
     "iopub.execute_input": "2023-08-13T15:46:59.432334Z",
     "iopub.status.busy": "2023-08-13T15:46:59.431939Z",
     "iopub.status.idle": "2023-08-13T15:46:59.601963Z",
     "shell.execute_reply": "2023-08-13T15:46:59.600626Z"
    },
    "papermill": {
     "duration": 0.244312,
     "end_time": "2023-08-13T15:46:59.604638",
     "exception": false,
     "start_time": "2023-08-13T15:46:59.360326",
     "status": "completed"
    },
    "tags": []
   },
   "outputs": [
    {
     "name": "stdout",
     "output_type": "stream",
     "text": [
      "0       Bennie Basso\n",
      "1         Alma White\n",
      "2       Bobby Oleary\n",
      "3    Eric Hutcherson\n",
      "4         John Trent\n",
      "Name: director, dtype: object\n"
     ]
    },
    {
     "data": {
      "text/plain": [
       "2    162758\n",
       "Name: director, dtype: int64"
      ]
     },
     "execution_count": 68,
     "metadata": {},
     "output_type": "execute_result"
    }
   ],
   "source": [
    "print(dirs.head())\n",
    "d = dirs.copy()\n",
    "d[\"name_len\"] = d.apply(lambda x: len(x.split()))\n",
    "d[\"name_len\"].value_counts()"
   ]
  },
  {
   "cell_type": "code",
   "execution_count": 69,
   "id": "03ab659b",
   "metadata": {
    "execution": {
     "iopub.execute_input": "2023-08-13T15:46:59.747539Z",
     "iopub.status.busy": "2023-08-13T15:46:59.747170Z",
     "iopub.status.idle": "2023-08-13T15:46:59.752908Z",
     "shell.execute_reply": "2023-08-13T15:46:59.751764Z"
    },
    "papermill": {
     "duration": 0.080049,
     "end_time": "2023-08-13T15:46:59.755068",
     "exception": false,
     "start_time": "2023-08-13T15:46:59.675019",
     "status": "completed"
    },
    "tags": []
   },
   "outputs": [],
   "source": [
    "# Compare OHE and TfidfVectorizer on reviewerName column\n",
    "# Note: reviewerName column has salutations like \"Mr. \" etc, and some names appear middle names. Therefore needs cleaning\n",
    "\n",
    "# def name_fl(name):\n",
    "#     l = name.split()\n",
    "#     n = ' '.join((l[0], l[-1]))\n",
    "#     return n\n",
    "\n",
    "# reviewers = merged[\"reviewerName\"].copy()\n",
    "# reviewers = pd.DataFrame(reviewers)\n",
    "# reviewers = reviewers.replace({\"Mr. \": \"\", \"Mrs. \": \"\"}, regex=True)\n",
    "# reviewers[\"reviewerName\"] = reviewers[\"reviewerName\"].apply(name_fl)\n",
    "# print(reviewers.shape)\n",
    "\n",
    "# reviewers_uniq = merged[\"reviewerName\"].unique()\n",
    "# print(len(reviewers_uniq))\n",
    "\n",
    "# reviewers_ohe = OneHotEncoder(handle_unknown=\"ignore\", sparse_output=False).fit_transform(reviewers.to_numpy().reshape(-1, 1))\n",
    "# print(reviewers_ohe.shape, type(reviewers_ohe))\n",
    "\n",
    "# reviewers_2 = merged[\"reviewerName\"].copy()\n",
    "# reviewers_2 = pd.DataFrame(reviewers_2)\n",
    "# print(reviewers_2.head())\n",
    "# reviewers_2 = reviewers_2.replace({\"Mr. \": \"\", \"Mrs. \": \"\"}, regex=True)\n",
    "# reviewers_2[\"reviewerName\"] = reviewers_2[\"reviewerName\"].apply(name_fl)\n",
    "# reviewers_2 = reviewers_2.squeeze()\n",
    "# print(reviewers_2.shape)\n",
    "# print(reviewers_2.head())\n",
    "\n",
    "# reviewers_tfidf = TfidfVectorizer(ngram_range=(2,2)).fit_transform(reviewers_2).toarray()\n",
    "# print(reviewers_tfidf.shape, type(reviewers_tfidf))\n",
    "\n",
    "# print(np.array_equal(reviewers_ohe, reviewers_tfidf))"
   ]
  },
  {
   "cell_type": "code",
   "execution_count": 70,
   "id": "3220ffe5",
   "metadata": {
    "execution": {
     "iopub.execute_input": "2023-08-13T15:46:59.901534Z",
     "iopub.status.busy": "2023-08-13T15:46:59.901190Z",
     "iopub.status.idle": "2023-08-13T15:46:59.906175Z",
     "shell.execute_reply": "2023-08-13T15:46:59.904782Z"
    },
    "papermill": {
     "duration": 0.080827,
     "end_time": "2023-08-13T15:46:59.908862",
     "exception": false,
     "start_time": "2023-08-13T15:46:59.828035",
     "status": "completed"
    },
    "tags": []
   },
   "outputs": [],
   "source": [
    "# def name_fl(name):\n",
    "#     l = name.split()\n",
    "#     n = ' '.join((l[0], l[-1]))\n",
    "#     return n"
   ]
  },
  {
   "cell_type": "code",
   "execution_count": 71,
   "id": "06ed4b10",
   "metadata": {
    "execution": {
     "iopub.execute_input": "2023-08-13T15:47:00.062137Z",
     "iopub.status.busy": "2023-08-13T15:47:00.061713Z",
     "iopub.status.idle": "2023-08-13T15:47:00.066896Z",
     "shell.execute_reply": "2023-08-13T15:47:00.065856Z"
    },
    "papermill": {
     "duration": 0.090091,
     "end_time": "2023-08-13T15:47:00.068931",
     "exception": false,
     "start_time": "2023-08-13T15:46:59.978840",
     "status": "completed"
    },
    "tags": []
   },
   "outputs": [],
   "source": [
    "# print(reviewers.head())\n",
    "# r = pd.DataFrame(reviewers.copy())\n",
    "# r[\"reviewerName\"] = r[\"reviewerName\"].apply(name_fl)\n",
    "# r[\"name_len\"] = r[\"reviewerName\"].apply(lambda x: len(x.split()))\n",
    "# print(r.shape)\n",
    "# print(r.head())\n",
    "# print(r['name_len'].value_counts())"
   ]
  },
  {
   "cell_type": "code",
   "execution_count": 72,
   "id": "812e81ad",
   "metadata": {
    "execution": {
     "iopub.execute_input": "2023-08-13T15:47:00.213355Z",
     "iopub.status.busy": "2023-08-13T15:47:00.213045Z",
     "iopub.status.idle": "2023-08-13T15:47:00.217867Z",
     "shell.execute_reply": "2023-08-13T15:47:00.216333Z"
    },
    "papermill": {
     "duration": 0.077531,
     "end_time": "2023-08-13T15:47:00.219770",
     "exception": false,
     "start_time": "2023-08-13T15:47:00.142239",
     "status": "completed"
    },
    "tags": []
   },
   "outputs": [],
   "source": [
    "## Box plot audienceScore and sentiment  \n",
    "# plt.figure(figsize=(6, 4))\n",
    "# sns.boxplot(x=\"sentiment\", y=\"audienceScore\", data=merged, width=0.3)\n",
    "# plt.title(\"Box plot audienceScore and sentiment\")\n",
    "# plt.show()"
   ]
  },
  {
   "cell_type": "code",
   "execution_count": 73,
   "id": "c9f06102",
   "metadata": {
    "execution": {
     "iopub.execute_input": "2023-08-13T15:47:00.360757Z",
     "iopub.status.busy": "2023-08-13T15:47:00.359986Z",
     "iopub.status.idle": "2023-08-13T15:47:00.364808Z",
     "shell.execute_reply": "2023-08-13T15:47:00.363811Z"
    },
    "papermill": {
     "duration": 0.077469,
     "end_time": "2023-08-13T15:47:00.366895",
     "exception": false,
     "start_time": "2023-08-13T15:47:00.289426",
     "status": "completed"
    },
    "tags": []
   },
   "outputs": [],
   "source": [
    "## Box plot runtimeMinutes and sentiment  \n",
    "# plt.figure(figsize=(6, 4))\n",
    "# sns.boxplot(x=\"sentiment\", y=\"runtimeMinutes\", data=merged, width=0.3)\n",
    "# plt.title(\"Box plot runtimeMinutes and sentiment\")\n",
    "# plt.show()"
   ]
  },
  {
   "cell_type": "code",
   "execution_count": 74,
   "id": "0fcd5de2",
   "metadata": {
    "execution": {
     "iopub.execute_input": "2023-08-13T15:47:00.508356Z",
     "iopub.status.busy": "2023-08-13T15:47:00.508017Z",
     "iopub.status.idle": "2023-08-13T15:47:00.512669Z",
     "shell.execute_reply": "2023-08-13T15:47:00.511657Z"
    },
    "papermill": {
     "duration": 0.077521,
     "end_time": "2023-08-13T15:47:00.514492",
     "exception": false,
     "start_time": "2023-08-13T15:47:00.436971",
     "status": "completed"
    },
    "tags": []
   },
   "outputs": [],
   "source": [
    "## Column chart for sentiment and rating columns\n",
    "# plt.figure(figsize=(6, 4))\n",
    "# sns.countplot(x=\"sentiment\", hue=\"rating\", data=merged)\n",
    "# plt.title(\"Column chart for sentiment and rating columns\")\n",
    "# plt.show()"
   ]
  },
  {
   "cell_type": "code",
   "execution_count": 75,
   "id": "003bc65b",
   "metadata": {
    "execution": {
     "iopub.execute_input": "2023-08-13T15:47:00.656519Z",
     "iopub.status.busy": "2023-08-13T15:47:00.656162Z",
     "iopub.status.idle": "2023-08-13T15:47:00.660125Z",
     "shell.execute_reply": "2023-08-13T15:47:00.659239Z"
    },
    "papermill": {
     "duration": 0.07808,
     "end_time": "2023-08-13T15:47:00.661983",
     "exception": false,
     "start_time": "2023-08-13T15:47:00.583903",
     "status": "completed"
    },
    "tags": []
   },
   "outputs": [],
   "source": [
    "# Correlation heatmap  \n",
    "# plt.figure(figsize=(10, 8))\n",
    "# sns.heatmap(merged.corr(), annot=True, cmap=\"coolwarm\")\n",
    "# plt.title(\"Correlation heatmap\")\n",
    "# plt.show()"
   ]
  },
  {
   "cell_type": "markdown",
   "id": "829e12ea",
   "metadata": {
    "papermill": {
     "duration": 0.069081,
     "end_time": "2023-08-13T15:47:00.802334",
     "exception": false,
     "start_time": "2023-08-13T15:47:00.733253",
     "status": "completed"
    },
    "tags": []
   },
   "source": [
    "## Merge and preprocess \"test.csv\" and \"movies.csv\" files  "
   ]
  },
  {
   "cell_type": "code",
   "execution_count": 76,
   "id": "be7a2060",
   "metadata": {
    "execution": {
     "iopub.execute_input": "2023-08-13T15:47:00.944763Z",
     "iopub.status.busy": "2023-08-13T15:47:00.944036Z",
     "iopub.status.idle": "2023-08-13T15:47:04.461934Z",
     "shell.execute_reply": "2023-08-13T15:47:04.460286Z"
    },
    "papermill": {
     "duration": 3.592239,
     "end_time": "2023-08-13T15:47:04.464633",
     "exception": false,
     "start_time": "2023-08-13T15:47:00.872394",
     "status": "completed"
    },
    "tags": []
   },
   "outputs": [],
   "source": [
    "# Merge test and movies  \n",
    "merged_test = select_features(load_csv(\"test\"), load_csv(\"movies\"))"
   ]
  },
  {
   "cell_type": "code",
   "execution_count": 77,
   "id": "92bee5ca",
   "metadata": {
    "execution": {
     "iopub.execute_input": "2023-08-13T15:47:04.607997Z",
     "iopub.status.busy": "2023-08-13T15:47:04.607331Z",
     "iopub.status.idle": "2023-08-13T15:47:04.611231Z",
     "shell.execute_reply": "2023-08-13T15:47:04.610538Z"
    },
    "papermill": {
     "duration": 0.077391,
     "end_time": "2023-08-13T15:47:04.612915",
     "exception": false,
     "start_time": "2023-08-13T15:47:04.535524",
     "status": "completed"
    },
    "tags": []
   },
   "outputs": [],
   "source": [
    "# inspect(merged_test)      # Note the missing values in ['audienceScore', 'runtimeMinutes', 'boxOffice']"
   ]
  },
  {
   "cell_type": "code",
   "execution_count": 78,
   "id": "17d0f6c4",
   "metadata": {
    "execution": {
     "iopub.execute_input": "2023-08-13T15:47:04.755543Z",
     "iopub.status.busy": "2023-08-13T15:47:04.754800Z",
     "iopub.status.idle": "2023-08-13T15:47:04.768060Z",
     "shell.execute_reply": "2023-08-13T15:47:04.766933Z"
    },
    "papermill": {
     "duration": 0.086299,
     "end_time": "2023-08-13T15:47:04.770000",
     "exception": false,
     "start_time": "2023-08-13T15:47:04.683701",
     "status": "completed"
    },
    "tags": []
   },
   "outputs": [
    {
     "data": {
      "text/plain": [
       "array([6.80e+01, 1.04e+02, 1.43e+07])"
      ]
     },
     "execution_count": 78,
     "metadata": {},
     "output_type": "execute_result"
    }
   ],
   "source": [
    "# Transform ['audienceScore', 'runtimeMinutes', 'boxOffice'] columns in merged_test using 'si' fitted on 'merged' df  \n",
    "merged_test[['audienceScore', 'runtimeMinutes', 'boxOffice']] = si.transform(merged_test[['audienceScore', 'runtimeMinutes', 'boxOffice']])\n",
    "si.statistics_"
   ]
  },
  {
   "cell_type": "code",
   "execution_count": 79,
   "id": "36597fd5",
   "metadata": {
    "execution": {
     "iopub.execute_input": "2023-08-13T15:47:04.911320Z",
     "iopub.status.busy": "2023-08-13T15:47:04.910985Z",
     "iopub.status.idle": "2023-08-13T15:47:04.920293Z",
     "shell.execute_reply": "2023-08-13T15:47:04.919115Z"
    },
    "papermill": {
     "duration": 0.082373,
     "end_time": "2023-08-13T15:47:04.922256",
     "exception": false,
     "start_time": "2023-08-13T15:47:04.839883",
     "status": "completed"
    },
    "tags": []
   },
   "outputs": [],
   "source": [
    "# Fill 'releaseDate' column in 'merged_test' df with median from the train (merged) df  \n",
    "merged_test['releaseDate'] = merged_test[\"releaseDate\"].fillna(merged[\"releaseDate\"].median())"
   ]
  },
  {
   "cell_type": "code",
   "execution_count": 80,
   "id": "9cd59ec4",
   "metadata": {
    "execution": {
     "iopub.execute_input": "2023-08-13T15:47:05.064309Z",
     "iopub.status.busy": "2023-08-13T15:47:05.063945Z",
     "iopub.status.idle": "2023-08-13T15:47:05.306454Z",
     "shell.execute_reply": "2023-08-13T15:47:05.305103Z"
    },
    "papermill": {
     "duration": 0.317527,
     "end_time": "2023-08-13T15:47:05.308452",
     "exception": false,
     "start_time": "2023-08-13T15:47:04.990925",
     "status": "completed"
    },
    "tags": []
   },
   "outputs": [
    {
     "name": "stdout",
     "output_type": "stream",
     "text": [
      "Shape of the dataframe: (55315, 25)\n",
      "\n",
      "Columns in the dataframe:\n",
      "Index(['movieid', 'reviewerName', 'isFrequentReviewer', 'reviewText', 'title',\n",
      "       'audienceScore', 'rating', 'ratingContents', 'releaseDateTheaters',\n",
      "       'releaseDateStreaming', 'runtimeMinutes', 'genre', 'originalLanguage',\n",
      "       'director', 'boxOffice', 'distributor', 'soundType', 'reviewYN',\n",
      "       'reviewWC', 'genreSorted', 'rcSorted', 'releaseDate', 'releaseYear',\n",
      "       'releaseMonth', 'releaseDiff'],\n",
      "      dtype='object')\n",
      "\n",
      "<class 'pandas.core.frame.DataFrame'>\n",
      "Int64Index: 55315 entries, 0 to 55314\n",
      "Data columns (total 25 columns):\n",
      " #   Column                Non-Null Count  Dtype         \n",
      "---  ------                --------------  -----         \n",
      " 0   movieid               55315 non-null  object        \n",
      " 1   reviewerName          55315 non-null  object        \n",
      " 2   isFrequentReviewer    55315 non-null  bool          \n",
      " 3   reviewText            55315 non-null  object        \n",
      " 4   title                 55315 non-null  object        \n",
      " 5   audienceScore         55315 non-null  float64       \n",
      " 6   rating                55315 non-null  object        \n",
      " 7   ratingContents        55315 non-null  object        \n",
      " 8   releaseDateTheaters   47844 non-null  datetime64[ns]\n",
      " 9   releaseDateStreaming  52929 non-null  datetime64[ns]\n",
      " 10  runtimeMinutes        55315 non-null  float64       \n",
      " 11  genre                 55315 non-null  object        \n",
      " 12  originalLanguage      55315 non-null  object        \n",
      " 13  director              55315 non-null  object        \n",
      " 14  boxOffice             55315 non-null  float64       \n",
      " 15  distributor           55315 non-null  object        \n",
      " 16  soundType             29845 non-null  object        \n",
      " 17  reviewYN              55315 non-null  int64         \n",
      " 18  reviewWC              55315 non-null  int64         \n",
      " 19  genreSorted           55315 non-null  object        \n",
      " 20  rcSorted              55315 non-null  object        \n",
      " 21  releaseDate           55315 non-null  datetime64[ns]\n",
      " 22  releaseYear           46626 non-null  float64       \n",
      " 23  releaseMonth          46626 non-null  float64       \n",
      " 24  releaseDiff           55315 non-null  float64       \n",
      "dtypes: bool(1), datetime64[ns](3), float64(6), int64(2), object(13)\n",
      "memory usage: 10.6+ MB\n",
      "None\n",
      "\n",
      "Missing values:\n",
      "movieid                     0\n",
      "reviewerName                0\n",
      "isFrequentReviewer          0\n",
      "reviewText                  0\n",
      "title                       0\n",
      "audienceScore               0\n",
      "rating                      0\n",
      "ratingContents              0\n",
      "releaseDateTheaters      7471\n",
      "releaseDateStreaming     2386\n",
      "runtimeMinutes              0\n",
      "genre                       0\n",
      "originalLanguage            0\n",
      "director                    0\n",
      "boxOffice                   0\n",
      "distributor                 0\n",
      "soundType               25470\n",
      "reviewYN                    0\n",
      "reviewWC                    0\n",
      "genreSorted                 0\n",
      "rcSorted                    0\n",
      "releaseDate                 0\n",
      "releaseYear              8689\n",
      "releaseMonth             8689\n",
      "releaseDiff                 0\n",
      "dtype: int64\n"
     ]
    }
   ],
   "source": [
    "# After transforming merged_test  \n",
    "inspect(merged_test)"
   ]
  },
  {
   "cell_type": "code",
   "execution_count": 81,
   "id": "b9e0945a",
   "metadata": {
    "execution": {
     "iopub.execute_input": "2023-08-13T15:47:05.449638Z",
     "iopub.status.busy": "2023-08-13T15:47:05.449270Z",
     "iopub.status.idle": "2023-08-13T15:47:05.457289Z",
     "shell.execute_reply": "2023-08-13T15:47:05.455849Z"
    },
    "papermill": {
     "duration": 0.082541,
     "end_time": "2023-08-13T15:47:05.460298",
     "exception": false,
     "start_time": "2023-08-13T15:47:05.377757",
     "status": "completed"
    },
    "tags": []
   },
   "outputs": [
    {
     "name": "stdout",
     "output_type": "stream",
     "text": [
      "2510\n",
      "4.537648015908886\n"
     ]
    }
   ],
   "source": [
    "print(merged_test[\"reviewYN\"].sum())\n",
    "print(merged_test[\"reviewYN\"].sum() * 100 / merged_test.shape[0])"
   ]
  },
  {
   "cell_type": "code",
   "execution_count": 82,
   "id": "7db9e91f",
   "metadata": {
    "execution": {
     "iopub.execute_input": "2023-08-13T15:47:05.602628Z",
     "iopub.status.busy": "2023-08-13T15:47:05.602301Z",
     "iopub.status.idle": "2023-08-13T15:47:05.614143Z",
     "shell.execute_reply": "2023-08-13T15:47:05.612728Z"
    },
    "papermill": {
     "duration": 0.085947,
     "end_time": "2023-08-13T15:47:05.616191",
     "exception": false,
     "start_time": "2023-08-13T15:47:05.530244",
     "status": "completed"
    },
    "tags": []
   },
   "outputs": [
    {
     "data": {
      "text/plain": [
       "R          18934\n",
       "unknown    18386\n",
       "PG-13      13220\n",
       "PG          4200\n",
       "TV14         333\n",
       "TVPG         109\n",
       "NC-17        108\n",
       "TVMA          25\n",
       "Name: rating, dtype: int64"
      ]
     },
     "execution_count": 82,
     "metadata": {},
     "output_type": "execute_result"
    }
   ],
   "source": [
    "merged_test['rating'].value_counts()"
   ]
  },
  {
   "cell_type": "code",
   "execution_count": 83,
   "id": "8370ee2f",
   "metadata": {
    "execution": {
     "iopub.execute_input": "2023-08-13T15:47:05.759336Z",
     "iopub.status.busy": "2023-08-13T15:47:05.758537Z",
     "iopub.status.idle": "2023-08-13T15:47:05.765433Z",
     "shell.execute_reply": "2023-08-13T15:47:05.764877Z"
    },
    "papermill": {
     "duration": 0.080375,
     "end_time": "2023-08-13T15:47:05.767611",
     "exception": false,
     "start_time": "2023-08-13T15:47:05.687236",
     "status": "completed"
    },
    "tags": []
   },
   "outputs": [
    {
     "data": {
      "text/plain": [
       "False    38428\n",
       "True     16887\n",
       "Name: isFrequentReviewer, dtype: int64"
      ]
     },
     "execution_count": 83,
     "metadata": {},
     "output_type": "execute_result"
    }
   ],
   "source": [
    "merged_test['isFrequentReviewer'].value_counts()"
   ]
  },
  {
   "cell_type": "code",
   "execution_count": 84,
   "id": "4c8780a7",
   "metadata": {
    "execution": {
     "iopub.execute_input": "2023-08-13T15:47:05.910757Z",
     "iopub.status.busy": "2023-08-13T15:47:05.910166Z",
     "iopub.status.idle": "2023-08-13T15:47:05.918848Z",
     "shell.execute_reply": "2023-08-13T15:47:05.917786Z"
    },
    "papermill": {
     "duration": 0.081237,
     "end_time": "2023-08-13T15:47:05.920421",
     "exception": false,
     "start_time": "2023-08-13T15:47:05.839184",
     "status": "completed"
    },
    "tags": []
   },
   "outputs": [
    {
     "data": {
      "text/plain": [
       "14300000.0    13593\n",
       "1100000.0       311\n",
       "1000000.0       272\n",
       "1300000.0       263\n",
       "2000000.0       256\n",
       "              ...  \n",
       "200400.0          1\n",
       "23800000.0        1\n",
       "111200.0          1\n",
       "277800.0          1\n",
       "100600.0          1\n",
       "Name: boxOffice, Length: 3816, dtype: int64"
      ]
     },
     "execution_count": 84,
     "metadata": {},
     "output_type": "execute_result"
    }
   ],
   "source": [
    "merged_test['boxOffice'].value_counts()"
   ]
  },
  {
   "cell_type": "markdown",
   "id": "71c78878",
   "metadata": {
    "papermill": {
     "duration": 0.06946,
     "end_time": "2023-08-13T15:47:06.059108",
     "exception": false,
     "start_time": "2023-08-13T15:47:05.989648",
     "status": "completed"
    },
    "tags": []
   },
   "source": [
    "## Work on vocabulary  \n",
    "\n",
    "`Build vocabulary from 'reviewText' column`  "
   ]
  },
  {
   "cell_type": "code",
   "execution_count": 85,
   "id": "035cf6c2",
   "metadata": {
    "execution": {
     "iopub.execute_input": "2023-08-13T15:47:06.203015Z",
     "iopub.status.busy": "2023-08-13T15:47:06.202357Z",
     "iopub.status.idle": "2023-08-13T15:47:06.218183Z",
     "shell.execute_reply": "2023-08-13T15:47:06.217506Z"
    },
    "papermill": {
     "duration": 0.088937,
     "end_time": "2023-08-13T15:47:06.219895",
     "exception": false,
     "start_time": "2023-08-13T15:47:06.130958",
     "status": "completed"
    },
    "tags": []
   },
   "outputs": [
    {
     "data": {
      "text/plain": [
       "((162758, 2),\n",
       "                                           reviewText sentiment\n",
       " 0  Henry Selick’s first movie since ’s Coraline. ...  POSITIVE\n",
       " 1  With a cast that reads like the Vogue Oscar pa...  NEGATIVE\n",
       " 2  Creed II does not give us anything but another...  POSITIVE\n",
       " 3  I know what you're thinking, but this is no Li...  POSITIVE\n",
       " 4  Director Fernando Meirelles tells the story wi...  POSITIVE)"
      ]
     },
     "execution_count": 85,
     "metadata": {},
     "output_type": "execute_result"
    }
   ],
   "source": [
    "rt_senti = merged[[\"reviewText\", \"sentiment\"]].copy()\n",
    "rt_senti.shape, rt_senti.head()"
   ]
  },
  {
   "cell_type": "code",
   "execution_count": 86,
   "id": "87350182",
   "metadata": {
    "execution": {
     "iopub.execute_input": "2023-08-13T15:47:06.363932Z",
     "iopub.status.busy": "2023-08-13T15:47:06.363519Z",
     "iopub.status.idle": "2023-08-13T15:47:06.372475Z",
     "shell.execute_reply": "2023-08-13T15:47:06.371926Z"
    },
    "papermill": {
     "duration": 0.082507,
     "end_time": "2023-08-13T15:47:06.374223",
     "exception": false,
     "start_time": "2023-08-13T15:47:06.291716",
     "status": "completed"
    },
    "tags": []
   },
   "outputs": [
    {
     "data": {
      "text/plain": [
       "((55315, 1),\n",
       "                                           reviewText\n",
       " 0  Green slowly cranks up the dread with style an...\n",
       " 1  Philip Noyce's direction is elegant and unforc...\n",
       " 2  It wouldn't do to say what path Maria ultimate...\n",
       " 3  Pig is not exactly the arthouse John Wick that...\n",
       " 4  An imaginative no-budget musical of sorts abou...)"
      ]
     },
     "execution_count": 86,
     "metadata": {},
     "output_type": "execute_result"
    }
   ],
   "source": [
    "rt_test = pd.DataFrame(merged_test[\"reviewText\"].copy())\n",
    "rt_test.shape, rt_test.head()"
   ]
  },
  {
   "cell_type": "code",
   "execution_count": 87,
   "id": "db487693",
   "metadata": {
    "execution": {
     "iopub.execute_input": "2023-08-13T15:47:06.518072Z",
     "iopub.status.busy": "2023-08-13T15:47:06.517652Z",
     "iopub.status.idle": "2023-08-13T15:47:06.523002Z",
     "shell.execute_reply": "2023-08-13T15:47:06.521968Z"
    },
    "papermill": {
     "duration": 0.079183,
     "end_time": "2023-08-13T15:47:06.524797",
     "exception": false,
     "start_time": "2023-08-13T15:47:06.445614",
     "status": "completed"
    },
    "tags": []
   },
   "outputs": [],
   "source": [
    "def get_vocab(text_df, ngram_range=(1,1)):\n",
    "#     print(f\"Generating vocabulary for ngram_range: {ngram_range}...\")\n",
    "    tvec1 = CountVectorizer(ngram_range=ngram_range, stop_words='english', strip_accents='unicode')\n",
    "    tvec1.fit(text_df)\n",
    "    voc_ngram = set(tvec1.vocabulary_.keys())\n",
    "    return voc_ngram"
   ]
  },
  {
   "cell_type": "code",
   "execution_count": 88,
   "id": "816a1da5",
   "metadata": {
    "execution": {
     "iopub.execute_input": "2023-08-13T15:47:06.669674Z",
     "iopub.status.busy": "2023-08-13T15:47:06.668703Z",
     "iopub.status.idle": "2023-08-13T15:47:06.676336Z",
     "shell.execute_reply": "2023-08-13T15:47:06.675072Z"
    },
    "papermill": {
     "duration": 0.082536,
     "end_time": "2023-08-13T15:47:06.678509",
     "exception": false,
     "start_time": "2023-08-13T15:47:06.595973",
     "status": "completed"
    },
    "tags": []
   },
   "outputs": [],
   "source": [
    "def get_common_vocab(df_list: list, ngram_range_list: list):\n",
    "    \"\"\"\n",
    "    Get common vocabulary from a list of dataframes.\n",
    "    \"\"\"\n",
    "    final_common_vocab = set()\n",
    "    # Get vocabulary from each dataframe for a given ngram-range\n",
    "    for ngram_range in ngram_range_list:\n",
    "        vocab_ngram = set()\n",
    "        for num, df in enumerate(df_list, start=1):\n",
    "#             print(f\"Working on DF#{num} in the list of DFs provided\")\n",
    "            vocab_ngram_df = set(get_vocab(df['reviewText'], ngram_range))\n",
    "#             print(f\"Vocabulary size for ngram-range {ngram_range} in DF#{num}: {len(vocab_ngram_df)}\\n\")\n",
    "            if len(vocab_ngram) > 0:\n",
    "#                 print(f\"Keeping only the common (intersection) words for ngram-range {ngram_range}...\")\n",
    "                vocab_ngram = vocab_ngram.intersection(vocab_ngram_df)\n",
    "            else:\n",
    "#                 print(f\"Words from the first df for ngram-range {ngram_range} added.\\n\")\n",
    "                vocab_ngram = vocab_ngram_df\n",
    "        print(f\"Common vocabulary for ngram-range {ngram_range}: {len(vocab_ngram)}\\n\")\n",
    "        \n",
    "        if len(final_common_vocab) > 0:\n",
    "#             print(f\"Fusing (union) with final common vocabulary: ngram-range = {ngram_range}.\\n\")\n",
    "            final_common_vocab = final_common_vocab.union(vocab_ngram)\n",
    "        else:\n",
    "#             print(f\"Appended first time to final common vocabulary: ngram-range = {ngram_range}.\\n\")\n",
    "            final_common_vocab = vocab_ngram\n",
    "    print(f\"Size of the common vocabulary generated is: {len(final_common_vocab)}\")\n",
    "    return final_common_vocab"
   ]
  },
  {
   "cell_type": "code",
   "execution_count": 89,
   "id": "c9aee123",
   "metadata": {
    "execution": {
     "iopub.execute_input": "2023-08-13T15:47:06.821106Z",
     "iopub.status.busy": "2023-08-13T15:47:06.820714Z",
     "iopub.status.idle": "2023-08-13T15:47:06.824957Z",
     "shell.execute_reply": "2023-08-13T15:47:06.823927Z"
    },
    "papermill": {
     "duration": 0.076302,
     "end_time": "2023-08-13T15:47:06.826721",
     "exception": false,
     "start_time": "2023-08-13T15:47:06.750419",
     "status": "completed"
    },
    "tags": []
   },
   "outputs": [],
   "source": [
    "# voc_1gram = get_vocab(rt_senti[\"reviewText\"], ngram_range=(1,1))\n",
    "# len(voc_1gram), voc_1gram[:10]"
   ]
  },
  {
   "cell_type": "code",
   "execution_count": 90,
   "id": "e0240146",
   "metadata": {
    "execution": {
     "iopub.execute_input": "2023-08-13T15:47:06.970187Z",
     "iopub.status.busy": "2023-08-13T15:47:06.969586Z",
     "iopub.status.idle": "2023-08-13T15:47:06.973684Z",
     "shell.execute_reply": "2023-08-13T15:47:06.972854Z"
    },
    "papermill": {
     "duration": 0.079335,
     "end_time": "2023-08-13T15:47:06.975875",
     "exception": false,
     "start_time": "2023-08-13T15:47:06.896540",
     "status": "completed"
    },
    "tags": []
   },
   "outputs": [],
   "source": [
    "# voc_2gram = get_vocab(rt_senti[\"reviewText\"], ngram_range=(2,2))\n",
    "# len(voc_2gram), voc_2gram[:10]"
   ]
  },
  {
   "cell_type": "code",
   "execution_count": 91,
   "id": "77c07bb6",
   "metadata": {
    "execution": {
     "iopub.execute_input": "2023-08-13T15:47:07.117051Z",
     "iopub.status.busy": "2023-08-13T15:47:07.116679Z",
     "iopub.status.idle": "2023-08-13T15:47:07.121222Z",
     "shell.execute_reply": "2023-08-13T15:47:07.119646Z"
    },
    "papermill": {
     "duration": 0.078027,
     "end_time": "2023-08-13T15:47:07.124151",
     "exception": false,
     "start_time": "2023-08-13T15:47:07.046124",
     "status": "completed"
    },
    "tags": []
   },
   "outputs": [],
   "source": [
    "# voc_3gram = get_vocab(rt_senti[\"reviewText\"], ngram_range=(3,3))\n",
    "# len(voc_3gram), voc_3gram[:10]"
   ]
  },
  {
   "cell_type": "code",
   "execution_count": 92,
   "id": "4881b284",
   "metadata": {
    "execution": {
     "iopub.execute_input": "2023-08-13T15:47:07.267071Z",
     "iopub.status.busy": "2023-08-13T15:47:07.266682Z",
     "iopub.status.idle": "2023-08-13T15:47:07.270949Z",
     "shell.execute_reply": "2023-08-13T15:47:07.269369Z"
    },
    "papermill": {
     "duration": 0.077902,
     "end_time": "2023-08-13T15:47:07.273163",
     "exception": false,
     "start_time": "2023-08-13T15:47:07.195261",
     "status": "completed"
    },
    "tags": []
   },
   "outputs": [],
   "source": [
    "# common_unigrams = get_common_vocab([rt_senti, rt_test], ngram_range_list=[(1,1)])\n",
    "# print(len(common_unigrams))\n",
    "# # sorted(list(common_unigrams))"
   ]
  },
  {
   "cell_type": "code",
   "execution_count": 93,
   "id": "fd54c19d",
   "metadata": {
    "execution": {
     "iopub.execute_input": "2023-08-13T15:47:07.473293Z",
     "iopub.status.busy": "2023-08-13T15:47:07.472759Z",
     "iopub.status.idle": "2023-08-13T15:47:07.476413Z",
     "shell.execute_reply": "2023-08-13T15:47:07.475391Z"
    },
    "papermill": {
     "duration": 0.13546,
     "end_time": "2023-08-13T15:47:07.478785",
     "exception": false,
     "start_time": "2023-08-13T15:47:07.343325",
     "status": "completed"
    },
    "tags": []
   },
   "outputs": [],
   "source": [
    "# common_bigrams = get_common_vocab([rt_senti, rt_test], ngram_range_list=[(2,2)])\n",
    "# print(len(common_bigrams))\n",
    "# # # common_bigrams"
   ]
  },
  {
   "cell_type": "code",
   "execution_count": 94,
   "id": "7ec639ad",
   "metadata": {
    "execution": {
     "iopub.execute_input": "2023-08-13T15:47:07.623076Z",
     "iopub.status.busy": "2023-08-13T15:47:07.622705Z",
     "iopub.status.idle": "2023-08-13T15:47:07.626258Z",
     "shell.execute_reply": "2023-08-13T15:47:07.625336Z"
    },
    "papermill": {
     "duration": 0.077545,
     "end_time": "2023-08-13T15:47:07.627985",
     "exception": false,
     "start_time": "2023-08-13T15:47:07.550440",
     "status": "completed"
    },
    "tags": []
   },
   "outputs": [],
   "source": [
    "# common_1_2_grams = get_common_vocab([rt_senti, rt_test], ngram_range_list=[(1,1), (2,2)])\n",
    "# print(len(common_1_2_grams))\n",
    "# # sorted(list(common_1_2_grams))\n",
    "\n",
    "# # common_1_2_grams = common_unigrams | common_bigrams    # older code"
   ]
  },
  {
   "cell_type": "code",
   "execution_count": 95,
   "id": "ee6b0814",
   "metadata": {
    "execution": {
     "iopub.execute_input": "2023-08-13T15:47:07.771996Z",
     "iopub.status.busy": "2023-08-13T15:47:07.771620Z",
     "iopub.status.idle": "2023-08-13T15:47:07.775290Z",
     "shell.execute_reply": "2023-08-13T15:47:07.774416Z"
    },
    "papermill": {
     "duration": 0.077836,
     "end_time": "2023-08-13T15:47:07.777802",
     "exception": false,
     "start_time": "2023-08-13T15:47:07.699966",
     "status": "completed"
    },
    "tags": []
   },
   "outputs": [],
   "source": [
    "# common_trigrams = get_common_vocab([rt_senti, rt_test], ngram_range_list=[(3,3)])\n",
    "# print(len(common_trigrams))\n",
    "# # common_trigrams"
   ]
  },
  {
   "cell_type": "code",
   "execution_count": 96,
   "id": "a486d32e",
   "metadata": {
    "execution": {
     "iopub.execute_input": "2023-08-13T15:47:07.920080Z",
     "iopub.status.busy": "2023-08-13T15:47:07.919652Z",
     "iopub.status.idle": "2023-08-13T15:47:07.924370Z",
     "shell.execute_reply": "2023-08-13T15:47:07.922790Z"
    },
    "papermill": {
     "duration": 0.078938,
     "end_time": "2023-08-13T15:47:07.926511",
     "exception": false,
     "start_time": "2023-08-13T15:47:07.847573",
     "status": "completed"
    },
    "tags": []
   },
   "outputs": [],
   "source": [
    "# common_1_2_3_grams = get_common_vocab([rt_senti, rt_test], ngram_range_list=[(1,1), (2,2), (3,3)])\n",
    "# print(len(common_1_2_3_grams))\n",
    "# # sorted((common_1_2_3_grams))\n",
    "\n",
    "# # common_1_2_3_grams = common_unigrams | common_bigrams | common_trigrams    # Older code  "
   ]
  },
  {
   "cell_type": "markdown",
   "id": "4d28158e",
   "metadata": {
    "papermill": {
     "duration": 0.069671,
     "end_time": "2023-08-13T15:47:08.067299",
     "exception": false,
     "start_time": "2023-08-13T15:47:07.997628",
     "status": "completed"
    },
    "tags": []
   },
   "source": [
    "### Find common vocabulary between text with positive and negative sentiments in training dataset  "
   ]
  },
  {
   "cell_type": "code",
   "execution_count": 97,
   "id": "002765d2",
   "metadata": {
    "execution": {
     "iopub.execute_input": "2023-08-13T15:47:08.213478Z",
     "iopub.status.busy": "2023-08-13T15:47:08.212281Z",
     "iopub.status.idle": "2023-08-13T15:47:08.240235Z",
     "shell.execute_reply": "2023-08-13T15:47:08.239209Z"
    },
    "papermill": {
     "duration": 0.103428,
     "end_time": "2023-08-13T15:47:08.242028",
     "exception": false,
     "start_time": "2023-08-13T15:47:08.138600",
     "status": "completed"
    },
    "tags": []
   },
   "outputs": [
    {
     "data": {
      "text/plain": [
       "(108761, 2)"
      ]
     },
     "execution_count": 97,
     "metadata": {},
     "output_type": "execute_result"
    }
   ],
   "source": [
    "# Dataframe for positive sentiment\n",
    "rt_senti_pos = rt_senti.loc[rt_senti['sentiment'] == 'POSITIVE'].copy()\n",
    "rt_senti_pos.shape"
   ]
  },
  {
   "cell_type": "code",
   "execution_count": 98,
   "id": "3695b0ac",
   "metadata": {
    "execution": {
     "iopub.execute_input": "2023-08-13T15:47:08.383782Z",
     "iopub.status.busy": "2023-08-13T15:47:08.383397Z",
     "iopub.status.idle": "2023-08-13T15:47:08.407183Z",
     "shell.execute_reply": "2023-08-13T15:47:08.405572Z"
    },
    "papermill": {
     "duration": 0.09689,
     "end_time": "2023-08-13T15:47:08.409856",
     "exception": false,
     "start_time": "2023-08-13T15:47:08.312966",
     "status": "completed"
    },
    "tags": []
   },
   "outputs": [
    {
     "data": {
      "text/plain": [
       "(53997, 2)"
      ]
     },
     "execution_count": 98,
     "metadata": {},
     "output_type": "execute_result"
    }
   ],
   "source": [
    "# Dataframe for negative sentiment\n",
    "rt_senti_neg = rt_senti.loc[rt_senti['sentiment'] == 'NEGATIVE'].copy()\n",
    "rt_senti_neg.shape"
   ]
  },
  {
   "cell_type": "code",
   "execution_count": 99,
   "id": "d941c525",
   "metadata": {
    "execution": {
     "iopub.execute_input": "2023-08-13T15:47:08.550371Z",
     "iopub.status.busy": "2023-08-13T15:47:08.550021Z",
     "iopub.status.idle": "2023-08-13T15:47:08.554076Z",
     "shell.execute_reply": "2023-08-13T15:47:08.553118Z"
    },
    "papermill": {
     "duration": 0.076576,
     "end_time": "2023-08-13T15:47:08.555749",
     "exception": false,
     "start_time": "2023-08-13T15:47:08.479173",
     "status": "completed"
    },
    "tags": []
   },
   "outputs": [],
   "source": [
    "# Generate stop words/phrases specific for this project data  \n",
    "\n",
    "# common_1_2_3_grams_sentiment = get_common_vocab([rt_senti_pos, rt_senti_neg], ngram_range_list=[(1,1), (2,2), (3,3)])\n",
    "# print(len(common_1_2_3_grams_sentiment))\n",
    "# # sorted(list(common_1_2_3_grams_sentiment))"
   ]
  },
  {
   "cell_type": "code",
   "execution_count": 100,
   "id": "76f8d1dd",
   "metadata": {
    "execution": {
     "iopub.execute_input": "2023-08-13T15:47:08.701492Z",
     "iopub.status.busy": "2023-08-13T15:47:08.700848Z",
     "iopub.status.idle": "2023-08-13T15:47:08.704730Z",
     "shell.execute_reply": "2023-08-13T15:47:08.703677Z"
    },
    "papermill": {
     "duration": 0.079636,
     "end_time": "2023-08-13T15:47:08.707278",
     "exception": false,
     "start_time": "2023-08-13T15:47:08.627642",
     "status": "completed"
    },
    "tags": []
   },
   "outputs": [],
   "source": [
    "# Generate and store the entire vocabulary of training data  \n",
    "\n",
    "# train_1_2_3_grams = get_vocab(rt_senti['reviewText'], ngram_range=(1,3))\n",
    "# print(len(train_1_2_3_grams))\n",
    "# # sorted(train_1_2_3_grams)"
   ]
  },
  {
   "cell_type": "code",
   "execution_count": 101,
   "id": "291624d2",
   "metadata": {
    "execution": {
     "iopub.execute_input": "2023-08-13T15:47:08.850559Z",
     "iopub.status.busy": "2023-08-13T15:47:08.849943Z",
     "iopub.status.idle": "2023-08-13T15:47:08.853789Z",
     "shell.execute_reply": "2023-08-13T15:47:08.852866Z"
    },
    "papermill": {
     "duration": 0.078506,
     "end_time": "2023-08-13T15:47:08.856084",
     "exception": false,
     "start_time": "2023-08-13T15:47:08.777578",
     "status": "completed"
    },
    "tags": []
   },
   "outputs": [],
   "source": [
    "# type(train_1_2_3_grams)"
   ]
  },
  {
   "cell_type": "code",
   "execution_count": 102,
   "id": "0dcb9555",
   "metadata": {
    "execution": {
     "iopub.execute_input": "2023-08-13T15:47:08.998539Z",
     "iopub.status.busy": "2023-08-13T15:47:08.997897Z",
     "iopub.status.idle": "2023-08-13T15:47:09.001646Z",
     "shell.execute_reply": "2023-08-13T15:47:09.000747Z"
    },
    "papermill": {
     "duration": 0.077236,
     "end_time": "2023-08-13T15:47:09.004102",
     "exception": false,
     "start_time": "2023-08-13T15:47:08.926866",
     "status": "completed"
    },
    "tags": []
   },
   "outputs": [],
   "source": [
    "# Get the vocabulary that should be used in the final models  \n",
    "# relevant_vocab = train_1_2_3_grams - common_1_2_3_grams_sentiment\n",
    "# print(len(relevant_vocab))"
   ]
  },
  {
   "cell_type": "markdown",
   "id": "9b8978b9",
   "metadata": {
    "papermill": {
     "duration": 0.070515,
     "end_time": "2023-08-13T15:47:09.145445",
     "exception": false,
     "start_time": "2023-08-13T15:47:09.074930",
     "status": "completed"
    },
    "tags": []
   },
   "source": [
    "## Vocabulary based on audienceScore  "
   ]
  },
  {
   "cell_type": "code",
   "execution_count": 103,
   "id": "295064d8",
   "metadata": {
    "execution": {
     "iopub.execute_input": "2023-08-13T15:47:09.288478Z",
     "iopub.status.busy": "2023-08-13T15:47:09.288110Z",
     "iopub.status.idle": "2023-08-13T15:47:09.507072Z",
     "shell.execute_reply": "2023-08-13T15:47:09.506090Z"
    },
    "papermill": {
     "duration": 0.292817,
     "end_time": "2023-08-13T15:47:09.509458",
     "exception": false,
     "start_time": "2023-08-13T15:47:09.216641",
     "status": "completed"
    },
    "tags": []
   },
   "outputs": [
    {
     "data": {
      "text/plain": [
       "<Axes: xlabel='sentiment', ylabel='audienceScore'>"
      ]
     },
     "execution_count": 103,
     "metadata": {},
     "output_type": "execute_result"
    },
    {
     "data": {
      "image/png": "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",
      "text/plain": [
       "<Figure size 640x480 with 1 Axes>"
      ]
     },
     "metadata": {},
     "output_type": "display_data"
    }
   ],
   "source": [
    "sns.boxplot(y=merged[\"audienceScore\"], x=merged[\"sentiment\"])"
   ]
  },
  {
   "cell_type": "code",
   "execution_count": 104,
   "id": "901c8c0d",
   "metadata": {
    "execution": {
     "iopub.execute_input": "2023-08-13T15:47:09.657752Z",
     "iopub.status.busy": "2023-08-13T15:47:09.657391Z",
     "iopub.status.idle": "2023-08-13T15:47:09.696458Z",
     "shell.execute_reply": "2023-08-13T15:47:09.695071Z"
    },
    "papermill": {
     "duration": 0.116765,
     "end_time": "2023-08-13T15:47:09.698653",
     "exception": false,
     "start_time": "2023-08-13T15:47:09.581888",
     "status": "completed"
    },
    "tags": []
   },
   "outputs": [
    {
     "data": {
      "text/html": [
       "<div>\n",
       "<style scoped>\n",
       "    .dataframe tbody tr th:only-of-type {\n",
       "        vertical-align: middle;\n",
       "    }\n",
       "\n",
       "    .dataframe tbody tr th {\n",
       "        vertical-align: top;\n",
       "    }\n",
       "\n",
       "    .dataframe thead th {\n",
       "        text-align: right;\n",
       "    }\n",
       "</style>\n",
       "<table border=\"1\" class=\"dataframe\">\n",
       "  <thead>\n",
       "    <tr style=\"text-align: right;\">\n",
       "      <th></th>\n",
       "      <th>count</th>\n",
       "      <th>mean</th>\n",
       "      <th>std</th>\n",
       "      <th>min</th>\n",
       "      <th>25%</th>\n",
       "      <th>50%</th>\n",
       "      <th>75%</th>\n",
       "      <th>max</th>\n",
       "    </tr>\n",
       "    <tr>\n",
       "      <th>sentiment</th>\n",
       "      <th></th>\n",
       "      <th></th>\n",
       "      <th></th>\n",
       "      <th></th>\n",
       "      <th></th>\n",
       "      <th></th>\n",
       "      <th></th>\n",
       "      <th></th>\n",
       "    </tr>\n",
       "  </thead>\n",
       "  <tbody>\n",
       "    <tr>\n",
       "      <th>NEGATIVE</th>\n",
       "      <td>53997.0</td>\n",
       "      <td>56.474786</td>\n",
       "      <td>19.902115</td>\n",
       "      <td>0.0</td>\n",
       "      <td>41.0</td>\n",
       "      <td>57.0</td>\n",
       "      <td>72.0</td>\n",
       "      <td>100.0</td>\n",
       "    </tr>\n",
       "    <tr>\n",
       "      <th>POSITIVE</th>\n",
       "      <td>108761.0</td>\n",
       "      <td>69.326174</td>\n",
       "      <td>18.380626</td>\n",
       "      <td>0.0</td>\n",
       "      <td>58.0</td>\n",
       "      <td>73.0</td>\n",
       "      <td>84.0</td>\n",
       "      <td>100.0</td>\n",
       "    </tr>\n",
       "  </tbody>\n",
       "</table>\n",
       "</div>"
      ],
      "text/plain": [
       "              count       mean        std  min   25%   50%   75%    max\n",
       "sentiment                                                              \n",
       "NEGATIVE    53997.0  56.474786  19.902115  0.0  41.0  57.0  72.0  100.0\n",
       "POSITIVE   108761.0  69.326174  18.380626  0.0  58.0  73.0  84.0  100.0"
      ]
     },
     "execution_count": 104,
     "metadata": {},
     "output_type": "execute_result"
    }
   ],
   "source": [
    "merged.groupby('sentiment')['audienceScore'].describe()"
   ]
  },
  {
   "cell_type": "code",
   "execution_count": 105,
   "id": "ea3d6cc0",
   "metadata": {
    "execution": {
     "iopub.execute_input": "2023-08-13T15:47:09.843560Z",
     "iopub.status.busy": "2023-08-13T15:47:09.843208Z",
     "iopub.status.idle": "2023-08-13T15:47:09.848585Z",
     "shell.execute_reply": "2023-08-13T15:47:09.847236Z"
    },
    "papermill": {
     "duration": 0.080573,
     "end_time": "2023-08-13T15:47:09.851054",
     "exception": false,
     "start_time": "2023-08-13T15:47:09.770481",
     "status": "completed"
    },
    "tags": []
   },
   "outputs": [],
   "source": [
    "# pos_scores = merged[['reviewText', 'sentiment']].loc[(merged['audienceScore'] > 73) & (merged['sentiment'] == 'POSITIVE')].copy()\n",
    "# pos_scores.shape, pos_scores.head()"
   ]
  },
  {
   "cell_type": "code",
   "execution_count": 106,
   "id": "a6915c9f",
   "metadata": {
    "execution": {
     "iopub.execute_input": "2023-08-13T15:47:09.996292Z",
     "iopub.status.busy": "2023-08-13T15:47:09.995517Z",
     "iopub.status.idle": "2023-08-13T15:47:09.999737Z",
     "shell.execute_reply": "2023-08-13T15:47:09.998489Z"
    },
    "papermill": {
     "duration": 0.07831,
     "end_time": "2023-08-13T15:47:10.001601",
     "exception": false,
     "start_time": "2023-08-13T15:47:09.923291",
     "status": "completed"
    },
    "tags": []
   },
   "outputs": [],
   "source": [
    "# pos_scores['sentiment'].value_counts()"
   ]
  },
  {
   "cell_type": "code",
   "execution_count": 107,
   "id": "bec4b800",
   "metadata": {
    "execution": {
     "iopub.execute_input": "2023-08-13T15:47:10.161104Z",
     "iopub.status.busy": "2023-08-13T15:47:10.160723Z",
     "iopub.status.idle": "2023-08-13T15:47:10.164343Z",
     "shell.execute_reply": "2023-08-13T15:47:10.163382Z"
    },
    "papermill": {
     "duration": 0.078672,
     "end_time": "2023-08-13T15:47:10.166061",
     "exception": false,
     "start_time": "2023-08-13T15:47:10.087389",
     "status": "completed"
    },
    "tags": []
   },
   "outputs": [],
   "source": [
    "# neg_scores = merged[['reviewText', 'sentiment']].loc[(merged['audienceScore'] < 57) & (merged['sentiment'] == 'NEGATIVE')].copy()\n",
    "# neg_scores.shape, neg_scores.head()"
   ]
  },
  {
   "cell_type": "code",
   "execution_count": 108,
   "id": "cf5f39e3",
   "metadata": {
    "execution": {
     "iopub.execute_input": "2023-08-13T15:47:10.312780Z",
     "iopub.status.busy": "2023-08-13T15:47:10.312225Z",
     "iopub.status.idle": "2023-08-13T15:47:10.316819Z",
     "shell.execute_reply": "2023-08-13T15:47:10.315852Z"
    },
    "papermill": {
     "duration": 0.079147,
     "end_time": "2023-08-13T15:47:10.318526",
     "exception": false,
     "start_time": "2023-08-13T15:47:10.239379",
     "status": "completed"
    },
    "tags": []
   },
   "outputs": [],
   "source": [
    "# neg_scores['sentiment'].value_counts()"
   ]
  },
  {
   "cell_type": "code",
   "execution_count": 109,
   "id": "c5b53f0d",
   "metadata": {
    "execution": {
     "iopub.execute_input": "2023-08-13T15:47:10.461222Z",
     "iopub.status.busy": "2023-08-13T15:47:10.460002Z",
     "iopub.status.idle": "2023-08-13T15:47:10.464529Z",
     "shell.execute_reply": "2023-08-13T15:47:10.463894Z"
    },
    "papermill": {
     "duration": 0.078135,
     "end_time": "2023-08-13T15:47:10.466528",
     "exception": false,
     "start_time": "2023-08-13T15:47:10.388393",
     "status": "completed"
    },
    "tags": []
   },
   "outputs": [],
   "source": [
    "# common_pos_neg_scores = get_common_vocab([pos_scores, neg_scores], ngram_range_list=[(1,1), (2,2), (3,3)])\n",
    "# print(len(common_pos_neg_scores))\n",
    "# # sorted(list(common_pos_neg_scores))"
   ]
  },
  {
   "cell_type": "code",
   "execution_count": 110,
   "id": "9d2685ff",
   "metadata": {
    "execution": {
     "iopub.execute_input": "2023-08-13T15:47:10.612004Z",
     "iopub.status.busy": "2023-08-13T15:47:10.611616Z",
     "iopub.status.idle": "2023-08-13T15:47:10.617421Z",
     "shell.execute_reply": "2023-08-13T15:47:10.616009Z"
    },
    "papermill": {
     "duration": 0.081412,
     "end_time": "2023-08-13T15:47:10.619513",
     "exception": false,
     "start_time": "2023-08-13T15:47:10.538101",
     "status": "completed"
    },
    "tags": []
   },
   "outputs": [],
   "source": [
    "# pos_vocab = get_common_vocab([pos_scores, pos_scores], ngram_range_list=[(1,1), (2,2), (3,3)])\n",
    "# print(len(pos_vocab))\n",
    "# # sorted(list(pos_vocab))"
   ]
  },
  {
   "cell_type": "code",
   "execution_count": 111,
   "id": "a794addf",
   "metadata": {
    "execution": {
     "iopub.execute_input": "2023-08-13T15:47:10.762386Z",
     "iopub.status.busy": "2023-08-13T15:47:10.762002Z",
     "iopub.status.idle": "2023-08-13T15:47:10.766877Z",
     "shell.execute_reply": "2023-08-13T15:47:10.765695Z"
    },
    "papermill": {
     "duration": 0.079004,
     "end_time": "2023-08-13T15:47:10.769594",
     "exception": false,
     "start_time": "2023-08-13T15:47:10.690590",
     "status": "completed"
    },
    "tags": []
   },
   "outputs": [],
   "source": [
    "# print(len(get_vocab(pos_scores['reviewText'], ngram_range=(1,1))))\n",
    "# print(len(get_vocab(pos_scores['reviewText'], ngram_range=(2,2))))\n",
    "# print(len(get_vocab(pos_scores['reviewText'], ngram_range=(3,3))))"
   ]
  },
  {
   "cell_type": "code",
   "execution_count": 112,
   "id": "ed004988",
   "metadata": {
    "execution": {
     "iopub.execute_input": "2023-08-13T15:47:10.913031Z",
     "iopub.status.busy": "2023-08-13T15:47:10.912667Z",
     "iopub.status.idle": "2023-08-13T15:47:10.916699Z",
     "shell.execute_reply": "2023-08-13T15:47:10.915868Z"
    },
    "papermill": {
     "duration": 0.077918,
     "end_time": "2023-08-13T15:47:10.918946",
     "exception": false,
     "start_time": "2023-08-13T15:47:10.841028",
     "status": "completed"
    },
    "tags": []
   },
   "outputs": [],
   "source": [
    "# neg_vocab = get_common_vocab([neg_scores, neg_scores], ngram_range_list=[(1,1), (2,2), (3,3)])\n",
    "# print(len(neg_vocab))\n",
    "# # sorted(list(neg_vocab))"
   ]
  },
  {
   "cell_type": "code",
   "execution_count": 113,
   "id": "26905198",
   "metadata": {
    "execution": {
     "iopub.execute_input": "2023-08-13T15:47:11.121151Z",
     "iopub.status.busy": "2023-08-13T15:47:11.120742Z",
     "iopub.status.idle": "2023-08-13T15:47:11.124873Z",
     "shell.execute_reply": "2023-08-13T15:47:11.123759Z"
    },
    "papermill": {
     "duration": 0.077928,
     "end_time": "2023-08-13T15:47:11.126707",
     "exception": false,
     "start_time": "2023-08-13T15:47:11.048779",
     "status": "completed"
    },
    "tags": []
   },
   "outputs": [],
   "source": [
    "# print(len(get_vocab(neg_scores['reviewText'], ngram_range=(1,1))))\n",
    "# print(len(get_vocab(neg_scores['reviewText'], ngram_range=(2,2))))\n",
    "# print(len(get_vocab(neg_scores['reviewText'], ngram_range=(3,3))))"
   ]
  },
  {
   "cell_type": "code",
   "execution_count": 114,
   "id": "b6831206",
   "metadata": {
    "execution": {
     "iopub.execute_input": "2023-08-13T15:47:11.269203Z",
     "iopub.status.busy": "2023-08-13T15:47:11.268819Z",
     "iopub.status.idle": "2023-08-13T15:47:11.273083Z",
     "shell.execute_reply": "2023-08-13T15:47:11.272091Z"
    },
    "papermill": {
     "duration": 0.07771,
     "end_time": "2023-08-13T15:47:11.274662",
     "exception": false,
     "start_time": "2023-08-13T15:47:11.196952",
     "status": "completed"
    },
    "tags": []
   },
   "outputs": [],
   "source": [
    "# len(pos_vocab), len(neg_vocab), len(pos_vocab - neg_vocab), len(neg_vocab - pos_vocab), len(pos_vocab & neg_vocab)"
   ]
  },
  {
   "cell_type": "markdown",
   "id": "37dc4522",
   "metadata": {
    "papermill": {
     "duration": 0.070132,
     "end_time": "2023-08-13T15:47:11.416559",
     "exception": false,
     "start_time": "2023-08-13T15:47:11.346427",
     "status": "completed"
    },
    "tags": []
   },
   "source": [
    "### Common pos, neg vocabs among train and test  "
   ]
  },
  {
   "cell_type": "code",
   "execution_count": 115,
   "id": "ac753701",
   "metadata": {
    "execution": {
     "iopub.execute_input": "2023-08-13T15:47:11.560956Z",
     "iopub.status.busy": "2023-08-13T15:47:11.560584Z",
     "iopub.status.idle": "2023-08-13T15:47:11.565584Z",
     "shell.execute_reply": "2023-08-13T15:47:11.563997Z"
    },
    "papermill": {
     "duration": 0.07926,
     "end_time": "2023-08-13T15:47:11.567473",
     "exception": false,
     "start_time": "2023-08-13T15:47:11.488213",
     "status": "completed"
    },
    "tags": []
   },
   "outputs": [],
   "source": [
    "# len(common_1_2_3_grams & (pos_vocab - neg_vocab))"
   ]
  },
  {
   "cell_type": "code",
   "execution_count": 116,
   "id": "e7609255",
   "metadata": {
    "execution": {
     "iopub.execute_input": "2023-08-13T15:47:11.712884Z",
     "iopub.status.busy": "2023-08-13T15:47:11.712490Z",
     "iopub.status.idle": "2023-08-13T15:47:11.716363Z",
     "shell.execute_reply": "2023-08-13T15:47:11.715533Z"
    },
    "papermill": {
     "duration": 0.078308,
     "end_time": "2023-08-13T15:47:11.718336",
     "exception": false,
     "start_time": "2023-08-13T15:47:11.640028",
     "status": "completed"
    },
    "tags": []
   },
   "outputs": [],
   "source": [
    "# len(common_1_2_3_grams & (neg_vocab - pos_vocab))"
   ]
  },
  {
   "cell_type": "code",
   "execution_count": 117,
   "id": "c589e851",
   "metadata": {
    "execution": {
     "iopub.execute_input": "2023-08-13T15:47:11.863942Z",
     "iopub.status.busy": "2023-08-13T15:47:11.862366Z",
     "iopub.status.idle": "2023-08-13T15:47:11.870540Z",
     "shell.execute_reply": "2023-08-13T15:47:11.869816Z"
    },
    "papermill": {
     "duration": 0.08287,
     "end_time": "2023-08-13T15:47:11.872348",
     "exception": false,
     "start_time": "2023-08-13T15:47:11.789478",
     "status": "completed"
    },
    "tags": []
   },
   "outputs": [],
   "source": [
    "def audienceScore_vocab(df_list, scores=(57, 73), ngram_range_list=[(1,1), (2,2), (3,3)]):\n",
    "    train = df_list[0]\n",
    "    test = df_list[1]\n",
    "\n",
    "    lower_bound = scores[0]\n",
    "    upper_bound = scores[1]\n",
    "\n",
    "    common_ngrams = get_common_vocab([train, test], ngram_range_list=ngram_range_list)\n",
    "\n",
    "    pos_scores = train[['reviewText', 'sentiment']].loc[(train['audienceScore'] > upper_bound) & (train['sentiment'] == 'POSITIVE')].copy()\n",
    "    neg_scores = train[['reviewText', 'sentiment']].loc[(train['audienceScore'] < lower_bound) & (train['sentiment'] == 'NEGATIVE')].copy()\n",
    "\n",
    "    pos_vocab = get_common_vocab([pos_scores, pos_scores], ngram_range_list=ngram_range_list)\n",
    "    neg_vocab = get_common_vocab([neg_scores, neg_scores], ngram_range_list=ngram_range_list)\n",
    "\n",
    "    pure_common_pos = common_ngrams & (pos_vocab - neg_vocab)\n",
    "    pure_common_neg = common_ngrams & (neg_vocab - pos_vocab)\n",
    "\n",
    "    return pure_common_pos, pure_common_neg"
   ]
  },
  {
   "cell_type": "code",
   "execution_count": 118,
   "id": "5798b428",
   "metadata": {
    "execution": {
     "iopub.execute_input": "2023-08-13T15:47:12.018680Z",
     "iopub.status.busy": "2023-08-13T15:47:12.017861Z",
     "iopub.status.idle": "2023-08-13T15:47:12.022559Z",
     "shell.execute_reply": "2023-08-13T15:47:12.021240Z"
    },
    "papermill": {
     "duration": 0.080652,
     "end_time": "2023-08-13T15:47:12.025121",
     "exception": false,
     "start_time": "2023-08-13T15:47:11.944469",
     "status": "completed"
    },
    "tags": []
   },
   "outputs": [],
   "source": [
    "# pcp, pcn = audienceScore_vocab([merged, merged_test])\n",
    "# len(pcp), len(pcn)"
   ]
  },
  {
   "cell_type": "code",
   "execution_count": 119,
   "id": "a17f57ee",
   "metadata": {
    "execution": {
     "iopub.execute_input": "2023-08-13T15:47:12.173095Z",
     "iopub.status.busy": "2023-08-13T15:47:12.172749Z",
     "iopub.status.idle": "2023-08-13T15:47:12.176898Z",
     "shell.execute_reply": "2023-08-13T15:47:12.175575Z"
    },
    "papermill": {
     "duration": 0.081608,
     "end_time": "2023-08-13T15:47:12.179027",
     "exception": false,
     "start_time": "2023-08-13T15:47:12.097419",
     "status": "completed"
    },
    "tags": []
   },
   "outputs": [],
   "source": [
    "# pc = pcp | pcn\n",
    "# sorted(list(pc))"
   ]
  },
  {
   "cell_type": "markdown",
   "id": "8c881c7a",
   "metadata": {
    "papermill": {
     "duration": 0.069928,
     "end_time": "2023-08-13T15:47:12.322574",
     "exception": false,
     "start_time": "2023-08-13T15:47:12.252646",
     "status": "completed"
    },
    "tags": []
   },
   "source": [
    "# Submit_v5 for merged file models  "
   ]
  },
  {
   "cell_type": "markdown",
   "id": "821cbc1a",
   "metadata": {
    "papermill": {
     "duration": 0.07024,
     "end_time": "2023-08-13T15:47:12.463791",
     "exception": false,
     "start_time": "2023-08-13T15:47:12.393551",
     "status": "completed"
    },
    "tags": []
   },
   "source": [
    "### More Helper functions  "
   ]
  },
  {
   "cell_type": "code",
   "execution_count": 120,
   "id": "6ac231d3",
   "metadata": {
    "execution": {
     "iopub.execute_input": "2023-08-13T15:47:12.608684Z",
     "iopub.status.busy": "2023-08-13T15:47:12.608083Z",
     "iopub.status.idle": "2023-08-13T15:47:12.613778Z",
     "shell.execute_reply": "2023-08-13T15:47:12.613097Z"
    },
    "papermill": {
     "duration": 0.081904,
     "end_time": "2023-08-13T15:47:12.616393",
     "exception": false,
     "start_time": "2023-08-13T15:47:12.534489",
     "status": "completed"
    },
    "tags": []
   },
   "outputs": [],
   "source": [
    "# Testing predictions on missing reviewtext columns  \n",
    "\n",
    "def predict_on_missing_review_data(pipe, selected_features, merged_train):\n",
    "    missing_reviews_train = merged_train.loc[merged_train['reviewYN'] == 1]\n",
    "    missing_reviews_train.reset_index(drop=True)\n",
    "    X_train_miss_revs = missing_reviews_train.drop('sentiment', axis = 1)\n",
    "    X_train_miss_revs = X_train_miss_revs[selected_features]\n",
    "    y_train_miss_revs = missing_reviews_train['sentiment']\n",
    "    \n",
    "    y_pred_miss_revs = pipe.predict(X_train_miss_revs)\n",
    "#     print('Predictions on rows which had missing reviewText')\n",
    "    print(\"Confusion matrix and f1-score for rows which have no reviewText in X_train: \")\n",
    "    print(confusion_matrix(y_train_miss_revs, y_pred_miss_revs, labels=pipe.classes_))\n",
    "    \n",
    "    return f1_score(y_train_miss_revs, y_pred_miss_revs, average='micro')"
   ]
  },
  {
   "cell_type": "code",
   "execution_count": 121,
   "id": "1aed3b36",
   "metadata": {
    "execution": {
     "iopub.execute_input": "2023-08-13T15:47:12.756693Z",
     "iopub.status.busy": "2023-08-13T15:47:12.756317Z",
     "iopub.status.idle": "2023-08-13T15:47:12.939271Z",
     "shell.execute_reply": "2023-08-13T15:47:12.938311Z"
    },
    "papermill": {
     "duration": 0.25632,
     "end_time": "2023-08-13T15:47:12.941771",
     "exception": false,
     "start_time": "2023-08-13T15:47:12.685451",
     "status": "completed"
    },
    "tags": []
   },
   "outputs": [],
   "source": [
    "# Function to build pipelines for GridSearchCV which goes into the final 'submit' function  \n",
    "def build_pipeline(selected_model=LogisticRegression(), \n",
    "                   selected_features={'txt': ['reviewText']}, \n",
    "                   param_grid=None,\n",
    "                   vocab=None,\n",
    "                   vocab_usage='tfidf',\n",
    "                   strip_accents='unicode', \n",
    "                   add_countvec=False,\n",
    "                   vocab_audscore=None,\n",
    "                  poly=True):\n",
    "    # Encoders  \n",
    "    ohe = OneHotEncoder(sparse_output=False, handle_unknown='ignore')\n",
    "    MMscaler = MinMaxScaler()\n",
    "    StdScaler = StandardScaler()\n",
    "    RobScaler = RobustScaler()\n",
    "    \n",
    "    # Categorical features\n",
    "    cat_pipe = Pipeline(steps=[\n",
    "                            (\"ohe\", ohe),\n",
    "                        ])\n",
    "    \n",
    "    # Numerical features\n",
    "    num_pipe = Pipeline(steps=[\n",
    "                            (\"robscaler\", RobustScaler()),\n",
    "                            (\"stdscaler\", StandardScaler())\n",
    "                        ])\n",
    "    num_pipe_poly = Pipeline(steps=[\n",
    "                            (\"robscaler\", RobustScaler()),\n",
    "                            (\"stdscaler\", StandardScaler()),\n",
    "                            (\"poly\", PolynomialFeatures(degree=2, interaction_only=True, include_bias=False))\n",
    "                        ])\n",
    "    \n",
    "    # Text features ['reviewText', 'reviewerName', 'movieid', 'genre', 'director']\n",
    "    tfidf_vec = TfidfVectorizer(ngram_range=(1,2))\n",
    "    count_vec = CountVectorizer(ngram_range=(1,2))\n",
    "    txt_pipe = Pipeline(steps=[\n",
    "                            (\"tvec\", TfidfVectorizer(ngram_range=(1,4), strip_accents=strip_accents))    # Adjust ngram_range here for reviewText\n",
    "                        ])\n",
    "    txt_pipe_vocab = Pipeline(steps=[\n",
    "                            (\"tvec\", TfidfVectorizer(ngram_range=(1,4), strip_accents=strip_accents, vocabulary=vocab))    # Adjust ngram_range here for reviewText\n",
    "                        ])\n",
    "    txt_pipe_2 = Pipeline(steps=[\n",
    "                            (\"tvec\", TfidfVectorizer(ngram_range=(2,2)))\n",
    "                        ])\n",
    "    txt_pipe_3 = Pipeline(steps=[\n",
    "                            (\"tvec\", TfidfVectorizer(ngram_range=(1,1)))\n",
    "                        ])\n",
    "    txt_pipe_4 = Pipeline(steps=[\n",
    "                            (\"tvec\", TfidfVectorizer(ngram_range=(1,3)))    # Adjust ngram_range here for reviewText\n",
    "                        ])\n",
    "    txt_pipe_title  = Pipeline(steps=[\n",
    "                            (\"tvec\", TfidfVectorizer(ngram_range=(1,5)))    # Adjust ngram_range here for reviewText\n",
    "                        ])\n",
    "    \n",
    "    # Additional pipes for count vectorizer\n",
    "    txt_pipe_countvec = Pipeline(steps=[\n",
    "                            (\"cvec\", CountVectorizer(ngram_range=(1,4), strip_accents=strip_accents))    # Adjust ngram_range here for reviewText\n",
    "                        ])\n",
    "    txt_pipe_countvec_vocab = Pipeline(steps=[\n",
    "                            (\"cvec\", CountVectorizer(ngram_range=(1,4), strip_accents=strip_accents, vocabulary=vocab))    # Adjust ngram_range here for reviewText\n",
    "                        ])\n",
    "    txt_pipe_countvec_vocab_audscore = Pipeline(steps=[\n",
    "                            (\"cvec\", CountVectorizer(ngram_range=(1,4), strip_accents=strip_accents, vocabulary=vocab_audscore))    # Adjust ngram_range here for reviewText\n",
    "                        ])\n",
    "    \n",
    "    txt_pipe_countvec_ratingContents = Pipeline(steps=[\n",
    "                            (\"cvec\", CountVectorizer(ngram_range=(1,5)))    # Adjust ngram_range here for reviewText\n",
    "                        ])\n",
    "    txt_pipe_countvec_rcSorted = Pipeline(steps=[\n",
    "                            (\"cvec\", CountVectorizer(ngram_range=(1,1)))    # Adjust ngram_range here for reviewText\n",
    "                        ])\n",
    "    txt_pipe_countvec_genre = Pipeline(steps=[\n",
    "                            (\"cvec\", CountVectorizer(ngram_range=(1,1)))\n",
    "                        ])\n",
    "    txt_pipe_countvec_genreSorted = Pipeline(steps=[\n",
    "                            (\"cvec\", CountVectorizer(ngram_range=(1,5)))\n",
    "                        ])\n",
    "    txt_pipe_countvec_distributor = Pipeline(steps=[\n",
    "                            (\"cvec\", CountVectorizer(ngram_range=(1,3)))    # Adjust ngram_range here for reviewText\n",
    "                        ])\n",
    "    txt_pipe_countvec_title = Pipeline(steps=[\n",
    "                            (\"cvec\", CountVectorizer(ngram_range=(1,5), strip_accents=strip_accents))\n",
    "                        ])\n",
    "    txt_pipe_countvec_movieid = Pipeline(steps=[\n",
    "                            (\"cvec\", CountVectorizer(ngram_range=(1,1)))\n",
    "                        ])\n",
    "    # Basic pipes  \n",
    "    TFs = []\n",
    "    try:\n",
    "        TFs.append((f\"cat\", ohe, selected_features['cat']))\n",
    "#         for c in selected_features['cat']:\n",
    "#             TFs.append((f\"cat_{c}\", ohe, [c]))\n",
    "    except:\n",
    "        pass\n",
    "    \n",
    "    try:\n",
    "        if poly:\n",
    "            TFs.append((f\"num\", num_pipe_poly, selected_features['num']))\n",
    "        else:\n",
    "            TFs.append((f\"num\", num_pipe, selected_features['num']))\n",
    "#             for n in selected_features['num']:\n",
    "#                 if n in [\"runtimeMinutes\", \"boxOffice\", \"releaseDiff\"]:\n",
    "#                     TFs.append((f\"num_{n}\", RobScaler, [n]))\n",
    "#                     TFs.append((f\"num_{n}_ss\", StdScaler, [n]))\n",
    "\n",
    "#                 else:\n",
    "#                     TFs.append((f\"num_{n}\", StdScaler, [n]))\n",
    "    except:\n",
    "        pass\n",
    "    \n",
    "    try:\n",
    "        for t in selected_features['txt']:\n",
    "            if t in ['director', 'reviewerName']:\n",
    "                TFs.append((f\"txt_{t}\", txt_pipe_2, t))\n",
    "            elif t in [\"originalLanguage\", \"releaseYear\"]:\n",
    "                TFs.append((f\"txt_{t}\", txt_pipe_3, t))\n",
    "            elif t in ['genre']:\n",
    "                TFs.append((f\"txt_{t}\", txt_pipe_countvec_genre, t))\n",
    "            elif t in [\"genreSorted\"]:\n",
    "                TFs.append((f\"txt_{t}\", txt_pipe_countvec_genreSorted, t))\n",
    "            elif t in [\"distributor\"]:\n",
    "                TFs.append((f\"txt_{t}\", txt_pipe_countvec_distributor, t))\n",
    "                \n",
    "            elif t in ['reviewText']:\n",
    "#                 if vocab and (vocab_usage in [\"tfidf\", \"both\"]):\n",
    "#                     txt_pipe.set_params(tvec__vocabulary=vocab)\n",
    "#                     txt_pipe.set_params(tvec__stop_words='english')\n",
    "                TFs.append((f\"txt_{t}\", txt_pipe, t))\n",
    "            elif t in ['reviewText_2']:\n",
    "                if add_countvec:\n",
    "#                     if vocab and (vocab_usage in [\"count\", \"both\"]):\n",
    "#                         txt_pipe_countvec.set_params(cvec__vocabulary=vocab)\n",
    "#                         txt_pipe_countvec.set_params(cvec__stop_words='english')\n",
    "                    TFs.append((f\"txt_{t}\", txt_pipe_countvec, t))\n",
    "            elif t in ['reviewText_3']:\n",
    "                if vocab_usage == 'tfidf':\n",
    "                    TFs.append((f\"txt_{t}\", txt_pipe_vocab, t))\n",
    "                elif vocab_usage == 'count':\n",
    "                    TFs.append((f\"txt_{t}\", txt_pipe_countvec_vocab, t))\n",
    "            elif t in ['reviewText_4']:\n",
    "                if vocab_audscore:                    \n",
    "                    TFs.append((f\"txt_{t}\", txt_pipe_countvec_vocab_audscore, t))\n",
    "                    \n",
    "            elif t in [\"ratingContents\"]:\n",
    "                TFs.append((f\"txt_{t}\", txt_pipe_countvec_ratingContents, t))\n",
    "            elif t in [\"rcSorted\"]:\n",
    "                TFs.append((f\"txt_{t}\", txt_pipe_countvec_rcSorted, t))\n",
    "            elif t in [\"title\"]:\n",
    "                TFs.append((f\"txt_{t}\", txt_pipe_title, t))\n",
    "            elif t in [\"movieid\"]:\n",
    "                TFs.append((f\"txt_{t}\", txt_pipe_countvec_movieid, t))\n",
    "            else:\n",
    "                pass\n",
    "    except:\n",
    "        pass\n",
    "\n",
    "    # Build ColumnTransformer  \n",
    "    ct = ColumnTransformer(transformers=TFs, remainder='drop')\n",
    "\n",
    "    # Build Pipeline\n",
    "    pipe = Pipeline(steps=[('ct', ct), ('model', selected_model)])\n",
    "    print(\"\\nPipeline built successfully.\")\n",
    "\n",
    "    # Use the pipe in GridSearchCV\n",
    "    if param_grid == None:\n",
    "        param_grid_temp = {\"model__C\": [1],\n",
    "                     'model__solver': ['liblinear']}\n",
    "        print(\"Full GridSearchCV pipeline built successfully with basic default param_grid.\\n\")\n",
    "        pipeCV = GridSearchCV(pipe, param_grid_temp, cv=10, scoring=\"f1_micro\", n_jobs=-1)\n",
    "        return pipeCV\n",
    "    \n",
    "    # GridSearchCV if param_grid provided\n",
    "    if param_grid:\n",
    "        pipeCV = GridSearchCV(pipe, param_grid, cv=10, scoring=\"f1_micro\", n_jobs=-1)\n",
    "        print(\"\\nFull GridSearchCV pipeline built successfully.\")\n",
    "        return pipeCV"
   ]
  },
  {
   "cell_type": "code",
   "execution_count": 122,
   "id": "35b345ae",
   "metadata": {
    "execution": {
     "iopub.execute_input": "2023-08-13T15:47:13.086389Z",
     "iopub.status.busy": "2023-08-13T15:47:13.086051Z",
     "iopub.status.idle": "2023-08-13T15:47:13.099784Z",
     "shell.execute_reply": "2023-08-13T15:47:13.098797Z"
    },
    "papermill": {
     "duration": 0.089146,
     "end_time": "2023-08-13T15:47:13.102218",
     "exception": false,
     "start_time": "2023-08-13T15:47:13.013072",
     "status": "completed"
    },
    "tags": []
   },
   "outputs": [],
   "source": [
    "def preprocessor(imputer_type='simple'):\n",
    "    \n",
    "    \"\"\"Preprocess train or test data. Choose 'simple' or 'knn' imputers to impute missing numerical values\"\"\"\n",
    "    \n",
    "    # Set imputer  \n",
    "    if imputer_type == 'simple':\n",
    "        imputer = SimpleImputer(strategy='median')\n",
    "        print(imputer)\n",
    "    elif imputer_type == 'knn':\n",
    "        imputer = KNNImputer(weights='distance', n_neighbors=3)    # Adjust KNNImputer params here\n",
    "        print(imputer)\n",
    "\n",
    "\n",
    "    \n",
    "    # Merge and preprocess train and movies data  \n",
    "    merged = select_features(load_csv(\"train\"), load_csv(\"movies\"), row_thresh_null=None)    # Decide if you want to drop any rows containing lot of nulls\n",
    "    \n",
    "    # Impute missing numerical values  \n",
    "    merged[['audienceScore', 'runtimeMinutes', 'boxOffice']] = imputer.fit_transform(merged[['audienceScore', 'runtimeMinutes', 'boxOffice']])\n",
    "    merged['releaseDate'] = merged[\"releaseDate\"].fillna(merged[\"releaseDate\"].median())\n",
    "\n",
    "    # Create new feature columns\n",
    "    \n",
    "    # Convert audienceScore to categories  \n",
    "    num_bins_as = 20\n",
    "    merged[\"audScoreBins\"] = pd.cut(merged['audienceScore'], bins=num_bins_as, labels=False)\n",
    "\n",
    "    # Convert runtimeMinutes to categories  \n",
    "#     num_bins_rt = 20\n",
    "    merged[\"runtimeBins\"] = pd.cut(merged['runtimeMinutes'], bins=[0,75,120,180,565], labels=[4,3,2,1])\n",
    "    \n",
    "    # Convert boxOffice to categories  \n",
    "    num_bins_bo = 5\n",
    "    merged[\"boxOfficeBins\"] = pd.cut(merged['boxOffice'], bins=num_bins_bo, labels=False)\n",
    "    \n",
    "    # Convert releaseDiff to categories  \n",
    "    num_bins_rd = 5\n",
    "    merged[\"releaseDiffBins\"] = pd.cut(merged['releaseDiff'], bins=[-1, 180, 360, 1000, 40000], labels=[0, 1, 2, 3])\n",
    "    \n",
    "    # Check1 (preprocessor)\n",
    "    print(\"\\nCheck 1 (preprocessor) complete.\")\n",
    "    print(f\"Shape of X_train: {merged.shape}\")\n",
    "    print(f\"Features in X_train: {merged.columns}\")\n",
    "\n",
    "\n",
    "    \n",
    "    # Merge and preprocess test and movies data  \n",
    "    merged_test = select_features(load_csv(\"test\"), load_csv(\"movies\"))\n",
    "    \n",
    "    # Transform ['audienceScore', 'runtimeMinutes', 'boxOffice'] columns in merged_test using 'imputer' fitted on 'merged' df  \n",
    "    merged_test[['audienceScore', 'runtimeMinutes', 'boxOffice']] = imputer.transform(merged_test[['audienceScore', 'runtimeMinutes', 'boxOffice']])\n",
    "    \n",
    "    # Fill 'releaseDate' column in 'merged_test' df with median from the train (merged) df  \n",
    "    merged_test['releaseDate'] = merged_test[\"releaseDate\"].fillna(merged[\"releaseDate\"].median())\n",
    "\n",
    "    \n",
    "    # Create new feature columns\n",
    "    \n",
    "    # Convert audienceScore to categories  \n",
    "    num_bins_as = 20\n",
    "    merged_test[\"audScoreBins\"] = pd.cut(merged_test['audienceScore'], bins=num_bins_as, labels=False)\n",
    "    \n",
    "    # Convert runtimeMinutes to categories  \n",
    "#     num_bins_rt = 20\n",
    "    merged_test[\"runtimeBins\"] = pd.cut(merged_test['runtimeMinutes'], bins=[0,75,120,180,565], labels=[4,3,2,1])\n",
    "    \n",
    "    # Convert boxOffice to categories  \n",
    "    num_bins_bo = 5\n",
    "    merged_test[\"boxOfficeBins\"] = pd.cut(merged_test['boxOffice'], bins=num_bins_bo, labels=False)\n",
    "    \n",
    "    # Convert releaseDiff to categories  \n",
    "    num_bins_rd = 5\n",
    "    merged_test[\"releaseDiffBins\"] = pd.cut(merged_test['releaseDiff'], bins=[-1, 180, 360, 1000, 40000], labels=[0, 1, 2, 3])\n",
    "    \n",
    "    \n",
    "    # Check2 (preprocessor)\n",
    "    print(\"\\nCheck 2 (preprocessor) complete.\")\n",
    "    print(f\"Shape of X_test: {merged_test.shape}\")\n",
    "    print(f\"Features in X_test: {merged_test.columns}\")\n",
    "\n",
    "    return merged, merged_test\n",
    "    "
   ]
  },
  {
   "cell_type": "code",
   "execution_count": 123,
   "id": "ff255d98",
   "metadata": {
    "execution": {
     "iopub.execute_input": "2023-08-13T15:47:13.247018Z",
     "iopub.status.busy": "2023-08-13T15:47:13.246632Z",
     "iopub.status.idle": "2023-08-13T15:47:13.251360Z",
     "shell.execute_reply": "2023-08-13T15:47:13.250053Z"
    },
    "papermill": {
     "duration": 0.079898,
     "end_time": "2023-08-13T15:47:13.253778",
     "exception": false,
     "start_time": "2023-08-13T15:47:13.173880",
     "status": "completed"
    },
    "tags": []
   },
   "outputs": [],
   "source": [
    "# merged, merged_test = preprocessor()\n",
    "# merged.shape, merged_test.shape"
   ]
  },
  {
   "cell_type": "code",
   "execution_count": 124,
   "id": "fe907a53",
   "metadata": {
    "execution": {
     "iopub.execute_input": "2023-08-13T15:47:13.395570Z",
     "iopub.status.busy": "2023-08-13T15:47:13.395185Z",
     "iopub.status.idle": "2023-08-13T15:47:13.409103Z",
     "shell.execute_reply": "2023-08-13T15:47:13.407709Z"
    },
    "papermill": {
     "duration": 0.086446,
     "end_time": "2023-08-13T15:47:13.411417",
     "exception": false,
     "start_time": "2023-08-13T15:47:13.324971",
     "status": "completed"
    },
    "tags": []
   },
   "outputs": [],
   "source": [
    "def voting_clf_custom(estimators: list, merged, merged_test):\n",
    "    print(f\"\\nRunning the voting_clf_custom function...\")\n",
    "    print(f\"\\nNumber of estimator pipelines provided: {len(estimators)}\")\n",
    "       \n",
    "    # Create X_train, y_train\n",
    "    X_train = merged.drop(labels=\"sentiment\", axis=1)\n",
    "    y_train = merged[\"sentiment\"]\n",
    "    print(f\"\\nX_train and y_train created.\")\n",
    "    print(f\"Shape of X_train: { X_train.shape}\")\n",
    "    print(f\"Columns in X_train: {X_train.columns}\")\n",
    "    print(f\"\\nShape of y_train: { y_train.shape}\")\n",
    "    print(f\"Inspect y_train: {y_train.head()}\")\n",
    "    \n",
    "    # Create X_test\n",
    "    X_test = merged_test.copy()\n",
    "    print(f\"\\nX_test created.\")\n",
    "    print(f\"Shape of X_test: { X_test.shape}\")\n",
    "    print(f\"Columns in X_test: {X_test.columns}\")\n",
    "\n",
    "    \n",
    "    # Create a list for estimators after fitting  \n",
    "    fitted_estimators = []\n",
    "    \n",
    "    # Build a dataframe of predictions  \n",
    "    predictions_df = pd.DataFrame()\n",
    "    \n",
    "    for n, item in enumerate(estimators, start=1):\n",
    "        \n",
    "        # Get the pipeline\n",
    "        pipe = item[1]\n",
    "        \n",
    "        # Fit \n",
    "        print(f\"\\nTraining started with full pipeline for classifier #{n}/{len(estimators)}...\")\n",
    "#         print(f\"Features included in the pipeline: {pipe.feature_names_in_}\")      # Gives an error\n",
    "        pipe.fit(X_train, y_train)\n",
    "        \n",
    "\n",
    "        # Check1\n",
    "        print(f\"\\nCheck #{n}.1 complete.\")\n",
    "        print(f\"Details of the best model using classifier #{n} (GridSearchCV) on X_train: \")\n",
    "        print(f\"Best Params: {pipe.best_params_}\")\n",
    "        print(f\"Best Score: {pipe.best_score_}\")\n",
    "        \n",
    "#         print(predict_on_missing_review_data(pipe, features, merged))    # Function defined above\n",
    "        \n",
    "        fitted_estimators.append((f\"classifier_{n}\", pipe))\n",
    "        print(f\"\\nclassifier_{n} successfully added to 'fitted_estimators' list\")\n",
    "\n",
    "        \n",
    "        # Predict on train data \n",
    "        y_train_pred = pipe.predict(X_train)\n",
    "        print(f\"\\nConfusion matrix for predictions on training data: \")\n",
    "        print(confusion_matrix(y_train, y_train_pred))\n",
    "        f1_train = f1_score(y_train, y_train_pred, average=\"micro\")\n",
    "        print(f\"F1-score on training data: {f1_train}\")\n",
    "        \n",
    "        \n",
    "#         # Predict on test.csv file\n",
    "#         # Add new columns as needed \n",
    "#         if add_countvec:\n",
    "#             merged_test['reviewText_2'] = merged_test['reviewText']\n",
    "#         if vocab:\n",
    "#             merged_test['reviewText_3'] = merged_test['reviewText']\n",
    "#         if vocab_audscore:\n",
    "#             merged_test['reviewText_4'] = merged_test['reviewText']\n",
    "        \n",
    "               \n",
    "#         X_test = merged_test[features].copy()\n",
    "\n",
    "    \n",
    "        y_pred = pipe.predict(X_test)\n",
    "        \n",
    "        # Insert predictions in 'predictions_df' dataframe\n",
    "        predictions_df.insert(n-1, f\"pred_{n}\", y_pred, allow_duplicates=False)\n",
    "        print(predictions_df.shape)\n",
    "        print(predictions_df.head(10))\n",
    "        \n",
    "    \n",
    "        # Check2\n",
    "        print(f\"\\nCheck #{n}.2 complete.\")\n",
    "    #     cv_results_df = pd.DataFrame(pipe.cv_results_)\n",
    "        print(\"Details of the best model using full pipeline (GridSearchCV) on X_train: \")\n",
    "#         print(f\"Best Estimator: {pipe.best_estimator_}\")\n",
    "        print(f\"Best Params: {pipe.best_params_}\")\n",
    "        print(f\"Best Score: {pipe.best_score_}\")\n",
    "#         print(f\"Best Index: {pipe.best_index_}\")\n",
    "        print(f\"Refit Time: {pipe.refit_time_}\")\n",
    "    #     print(f\"Shape of CV results dataframe: {cv_results_df.shape}\")\n",
    "    \n",
    "    \n",
    "    # Voting classifier (custom) with hard voting\n",
    "    # Calculate the MODE for all predictions (Note that the 'predictions_df' generated above should have odd number of columns)\n",
    "    print(f\"\\nTaking votes from all the classifiers/estimators...\")\n",
    "    pred_df_final = predictions_df.mode('columns').iloc[: , 0]\n",
    "    pred_df_final.columns = [\"sentiment\"]\n",
    "    pred_df_final.index.name = \"id\"\n",
    "    pred_df_final.to_csv(\"submission.csv\")\n",
    "    \n",
    "    print(\"\\nSuccessfully created the submission file!!!\")\n",
    "    \n",
    "#     return pipe.cv_results_\n",
    "    return pred_df_final, fitted_estimators"
   ]
  },
  {
   "cell_type": "code",
   "execution_count": 125,
   "id": "a4349c9d",
   "metadata": {
    "execution": {
     "iopub.execute_input": "2023-08-13T15:47:13.555313Z",
     "iopub.status.busy": "2023-08-13T15:47:13.554982Z",
     "iopub.status.idle": "2023-08-13T15:47:13.564202Z",
     "shell.execute_reply": "2023-08-13T15:47:13.562820Z"
    },
    "papermill": {
     "duration": 0.084155,
     "end_time": "2023-08-13T15:47:13.566534",
     "exception": false,
     "start_time": "2023-08-13T15:47:13.482379",
     "status": "completed"
    },
    "tags": []
   },
   "outputs": [],
   "source": [
    "def  stacking_clf(estimators: list, merged, merged_test):\n",
    "    print(f\"\\nRunning the stacking_clf function...\")\n",
    "    print(f\"\\nNumber of estimator pipelines provided: {len(estimators)}\")\n",
    "    \n",
    "    # Create X_train, y_train\n",
    "    X_train = merged.drop(labels=\"sentiment\", axis=1)\n",
    "    y_train = merged[\"sentiment\"]\n",
    "    print(f\"\\nX_train and y_train created.\")\n",
    "    print(f\"Shape of X_train: { X_train.shape}\")\n",
    "    print(f\"Columns in X_train: {X_train.columns}\")\n",
    "    print(f\"\\nShape of y_train: { y_train.shape}\")\n",
    "    print(f\"Inspect y_train: {y_train.head()}\")\n",
    "    \n",
    "    # Create X_test\n",
    "    X_test = merged_test.copy()\n",
    "    print(f\"\\nX_test created.\")\n",
    "    print(f\"Shape of X_test: { X_test.shape}\")\n",
    "    print(f\"Columns in X_test: {X_test.columns}\")\n",
    "    \n",
    "    # Build the stacking classifier\n",
    "    stacking_classifier = StackingClassifier(estimators=estimators, \n",
    "                                             final_estimator=LogisticRegression(),\n",
    "                                             cv=5,\n",
    "                                             stack_method = 'auto',\n",
    "                                             passthrough = False,\n",
    "                                            verbose = 10,  # Control how many messages are displayed\n",
    "                                            n_jobs = 1)    \n",
    "    print(f\"\\nstacking_classifier object created.\")\n",
    "    print(stacking_classifier)\n",
    "    \n",
    "    # Fit the stacking classifer\n",
    "    print(f\"\\nstacking_classifier has begun training. Be patient, this can take a long time...\")\n",
    "    stacking_classifier.fit(X_train, y_train)\n",
    "    \n",
    "    # Predict on X_test\n",
    "    y_pred = stacking_classifier.predict(X_test)\n",
    "    \n",
    "    # Create 'submission.csv' file\n",
    "    pred_df = pd.DataFrame(y_pred)\n",
    "    pred_df.columns = [\"sentiment\"]\n",
    "    pred_df.index.name = \"id\"\n",
    "    pred_df.to_csv(\"submission.csv\")\n",
    "    \n",
    "    print(\"\\nSuccessfully created the submission file!!!\")\n",
    "    \n",
    "    return pred_df, stacking_classifier"
   ]
  },
  {
   "cell_type": "code",
   "execution_count": 126,
   "id": "5ec1e591",
   "metadata": {
    "execution": {
     "iopub.execute_input": "2023-08-13T15:47:13.711755Z",
     "iopub.status.busy": "2023-08-13T15:47:13.711384Z",
     "iopub.status.idle": "2023-08-13T15:47:13.732578Z",
     "shell.execute_reply": "2023-08-13T15:47:13.731920Z"
    },
    "papermill": {
     "duration": 0.096902,
     "end_time": "2023-08-13T15:47:13.734883",
     "exception": false,
     "start_time": "2023-08-13T15:47:13.637981",
     "status": "completed"
    },
    "tags": []
   },
   "outputs": [],
   "source": [
    "def submit_v5(classifiers= [\n",
    "                {'selected_model' : LogisticRegression(C=1, solver='saga', max_iter=100000),\n",
    "                 'param_grid' : None,\n",
    "                 'selected_features' : {'num': ['audienceScore']},\n",
    "                 'vocab' : None,\n",
    "                 'vocab_usage' : 'tfidf',\n",
    "                 'strip_accents' : 'unicode',\n",
    "                 'add_countvec' : False,\n",
    "                'vocab_audscore' : None}\n",
    "              ], \n",
    "            imputer_type='simple',\n",
    "              poly=True,\n",
    "              ensemble_type='voting_custom'\n",
    "            ):\n",
    "    \n",
    "    \"\"\"Takes a list of dictionaries each with same keys as mentioned in the default dictionary in function definition\"\"\"\n",
    "    \n",
    "    print(\"\\nRunning the submit_v5 function...\")\n",
    "    \n",
    "    print(f\"\\nData preprocessor initiated...\")\n",
    "    \n",
    "    imputer_type = imputer_type\n",
    "    print(f\"\\nImputer for missing numerical values: {imputer_type}\")\n",
    "    print(f\"Imputing missing values. (This could take a while if it is KNNImputer)\")\n",
    "    \n",
    "    merged, merged_test = preprocessor(imputer_type=imputer_type)\n",
    "    print(f\"\\nPreprocessing of train and test datasets complete.\")\n",
    "    \n",
    "    # Build vocabulary (if vocab is True)\n",
    "    ngram_range_vocab = (1,4)\n",
    "    ngram_range_vocab_list = [(1,1), (2,2), (3,3), (4,4)]\n",
    "    \n",
    "    vocab = None\n",
    "    vocab_audscore = None\n",
    "    for item in classifiers:\n",
    "        if item['vocab']:\n",
    "            vocab = True\n",
    "        if item['vocab_audscore']:\n",
    "            vocab_audscore = item['vocab_audscore']\n",
    "    \n",
    "    if vocab == True:\n",
    "        # Generate and store the entire vocabulary of training data  \n",
    "        print(f\"\\nGenerating vocabulary of entire training data...\")\n",
    "        train_ngrams = get_vocab(merged['reviewText'], ngram_range=ngram_range_vocab)\n",
    "        print(f\"Size of vocabulary of training data: {len(train_ngrams)}\")\n",
    "        # sorted(train_ngrams)\n",
    "\n",
    "        # Generate common vocabulary specific for this project data  \n",
    "        print(f\"\\nGenerating common vocabulary specific for this project data...\")\n",
    "        common_ngrams = get_common_vocab([merged, merged_test], ngram_range_list=ngram_range_vocab_list)\n",
    "        print(f\"Size of common vocabulary: {len(common_ngrams)}\")\n",
    "\n",
    "        # Get the speficic stop words that should be used in the final models  \n",
    "        print(f\"\\nGetting specific stop words for this project...\")\n",
    "        stop_words_specific = list(train_ngrams - common_ngrams)\n",
    "        print(f\"Size of 'stop_words_specific' generated: {len(stop_words_specific)}\")\n",
    "    else:\n",
    "        pass\n",
    "    \n",
    "    if vocab_audscore:\n",
    "        pure_common_pos, pure_common_neg = audienceScore_vocab([merged, merged_test], \n",
    "                                                               scores=(57, 73), \n",
    "                                                               ngram_range_list=ngram_range_vocab_list)\n",
    "        pure_common = pure_common_pos | pure_common_neg\n",
    "        print(f\"\\nSize of 'pure_common' vocabulary genrated: {len(pure_common)}\")\n",
    "    \n",
    "    \n",
    "    # Create a list to store estimators  \n",
    "    estimators = []     # List of tuples of the form ('classifier_name', 'classifer_instance')\n",
    "    \n",
    "#     # Build a dataframe of predictions  \n",
    "#     predictions_df = pd.DataFrame()\n",
    "    \n",
    "    # Build a separate pipeline and fit it on selected features (and param_grid) for each item in classifiers list\n",
    "    for n, item in enumerate(classifiers, start=1):\n",
    "        selected_model = item['selected_model']\n",
    "        selected_features = item['selected_features']\n",
    "        param_grid = item['param_grid']\n",
    "        vocab = item['vocab']\n",
    "        vocab_usage = item['vocab_usage']\n",
    "        strip_accents = item['strip_accents']\n",
    "        add_countvec = item['add_countvec']\n",
    "    \n",
    "    \n",
    "        # Fine tune selected_features\n",
    "        if add_countvec:\n",
    "            if 'txt' in selected_features.keys():\n",
    "                if \"reviewText_2\" not in selected_features['txt']:\n",
    "                    selected_features['txt'].append('reviewText_2')\n",
    "        if vocab:\n",
    "            if 'txt' in selected_features.keys():\n",
    "                if \"reviewText_3\" not in selected_features['txt']:\n",
    "                    selected_features['txt'].append('reviewText_3')\n",
    "        else:\n",
    "            print(f\"No vocabulary provided/used for this model.\")\n",
    "            \n",
    "        print(f\"\\nSelected features: {selected_features}\")\n",
    "        \n",
    "        if type(vocab) in [type([1, 2]), type({1, 2})]:\n",
    "            vocab = vocab\n",
    "            print(f\"Size of 'vocab' provided: {len(vocab)}\")\n",
    "        elif vocab == True:\n",
    "            vocab = common_ngrams    # Choose vocabulary here\n",
    "            print(f\"Size of 'vocab' generated by submit_v5: {len(vocab)}\")\n",
    "\n",
    "            \n",
    "        if vocab_audscore:\n",
    "            if 'txt' in selected_features.keys():\n",
    "                if \"reviewText_4\" not in selected_features['txt']:\n",
    "                    selected_features['txt'].append('reviewText_4')\n",
    "        else:\n",
    "            print(f\"No vocabulary based on audienceScore provided/used for this model.\")\n",
    "        if vocab_audscore:\n",
    "            vocab_audscore = pure_common\n",
    "            print(f\"Size of 'vocab_audscore' generated by submit_v5: {len(vocab_audscore)}\")\n",
    "            \n",
    "            \n",
    "        print(f\"\\nSelected features: {selected_features}\")\n",
    "\n",
    "        # Modify X_train for the given 'item' by creating a custom 'features' list\n",
    "        features = []\n",
    "        for item in selected_features.values():\n",
    "            features.extend(item)\n",
    "            \n",
    "        # Add new columns as needed  \n",
    "        if add_countvec:\n",
    "            merged['reviewText_2'] = merged['reviewText']\n",
    "        if vocab:\n",
    "            merged['reviewText_3'] = merged['reviewText']\n",
    "        if vocab_audscore:\n",
    "            merged['reviewText_4'] = merged['reviewText']\n",
    "        \n",
    "        # Create X_train, y_train\n",
    "        X_train = merged.drop(labels=\"sentiment\", axis=1)\n",
    "        y_train = merged[\"sentiment\"]\n",
    "        \n",
    "        X_train = merged[features].copy()\n",
    "        \n",
    "        # Create X_test\n",
    "        # Add new columns as needed \n",
    "        if add_countvec:\n",
    "            merged_test['reviewText_2'] = merged_test['reviewText']\n",
    "        if vocab:\n",
    "            merged_test['reviewText_3'] = merged_test['reviewText']\n",
    "        if vocab_audscore:\n",
    "            merged_test['reviewText_4'] = merged_test['reviewText']\n",
    "        \n",
    "        X_test = merged_test[features].copy()\n",
    "\n",
    "\n",
    "        # Build Pipeline\n",
    "        pipe = build_pipeline(selected_model, selected_features, param_grid=param_grid, \n",
    "                              vocab=vocab, vocab_usage='tfidf', \n",
    "                              strip_accents=strip_accents, add_countvec=add_countvec,\n",
    "                             poly=poly, vocab_audscore=vocab_audscore)\n",
    "        print(pipe)\n",
    "        \n",
    "        estimators.append((f\"classifier_{n}\", pipe))\n",
    "        print(f\"\\nclassifier_{n} successfully added to 'estimators' list\")\n",
    "    \n",
    "    # Choose the appropriate ensemble method for the 'ensemble_type' provided\n",
    "    if ensemble_type == 'voting_custom':\n",
    "        print(f\"\\nCalling function: 'voting_clf_custom'\")\n",
    "        pred_df_final, fitted_estimators = voting_clf_custom(estimators, merged, merged_test)\n",
    "        return pred_df_final, fitted_estimators\n",
    "    elif ensemble_type == 'stacking':\n",
    "        print(f\"\\nCalling function: 'stacking_clf'\")\n",
    "        pred_df, stacking_classifier = stacking_clf(estimators, merged, merged_test)\n",
    "        return pred_df, stacking_classifier\n",
    "        \n",
    "        \n",
    "#         # Fit \n",
    "#         print(f\"\\nTraining started with full pipeline for classifier #{n}/{len(classifiers)}...\")\n",
    "#         pipe.fit(X_train, y_train)\n",
    "        \n",
    "\n",
    "#         # Check1\n",
    "#         print(f\"\\nCheck #{n}.1 complete.\")\n",
    "#         print(f\"Details of the best model using classifier #{n} (GridSearchCV) on X_train: \")\n",
    "#         print(f\"Best Params: {pipe.best_params_}\")\n",
    "#         print(f\"Best Score: {pipe.best_score_}\")\n",
    "        \n",
    "#         print(predict_on_missing_review_data(pipe, features, merged))    # Function defined above\n",
    "        \n",
    "#         estimators.append((f\"classifier_{n}\", pipe))\n",
    "#         print(f\"classifier_{n} successfully added to 'estimators' list\")\n",
    "\n",
    "        \n",
    "#         # Predict on train data \n",
    "#         y_train_pred = pipe.predict(X_train)\n",
    "#         print(f\"Confusion matrix for predictions on training data: \")\n",
    "#         print(confusion_matrix(y_train, y_train_pred))\n",
    "#         f1_train = f1_score(y_train, y_train_pred, average=\"micro\")\n",
    "#         print(f\"F1-score on training data: {f1_train}\")\n",
    "        \n",
    "        \n",
    "# #         # Predict on test.csv file\n",
    "# #         # Add new columns as needed \n",
    "# #         if add_countvec:\n",
    "# #             merged_test['reviewText_2'] = merged_test['reviewText']\n",
    "# #         if vocab:\n",
    "# #             merged_test['reviewText_3'] = merged_test['reviewText']\n",
    "# #         if vocab_audscore:\n",
    "# #             merged_test['reviewText_4'] = merged_test['reviewText']\n",
    "        \n",
    "               \n",
    "# #         X_test = merged_test[features].copy()\n",
    "\n",
    "    \n",
    "#         y_pred = pipe.predict(X_test)\n",
    "        \n",
    "#         # Insert predictions in 'predictions_df' dataframe\n",
    "#         predictions_df.insert(n-1, f\"pred_{n}\", y_pred, allow_duplicates=False)\n",
    "#         print(predictions_df.shape)\n",
    "#         print(predictions_df.head(10))\n",
    "        \n",
    "    \n",
    "#         # Check2\n",
    "#         print(f\"\\nCheck #{n}.2 complete.\")\n",
    "#     #     cv_results_df = pd.DataFrame(pipe.cv_results_)\n",
    "#         print(\"Details of the best model using full pipeline (GridSearchCV) on X_train: \")\n",
    "# #         print(f\"Best Estimator: {pipe.best_estimator_}\")\n",
    "#         print(f\"Best Params: {pipe.best_params_}\")\n",
    "#         print(f\"Best Score: {pipe.best_score_}\")\n",
    "# #         print(f\"Best Index: {pipe.best_index_}\")\n",
    "#         print(f\"Refit Time: {pipe.refit_time_}\")\n",
    "#     #     print(f\"Shape of CV results dataframe: {cv_results_df.shape}\")\n",
    "    \n",
    "#     # Voting classifier (custom) with hard voting\n",
    "#     # Calculate the MODE for all predictions (Note that the 'predictions_df' generated above should have odd number of columns)\n",
    "#     pred_df_final = predictions_df.mode('columns')\n",
    "#     pred_df_final.columns = [\"sentiment\"]\n",
    "#     pred_df_final.index.name = \"id\"\n",
    "#     pred_df_final.to_csv(\"submission.csv\")\n",
    "    \n",
    "#     print(\"\\nSuccessfully created the submission file!!!\")\n",
    "    \n",
    "# #     return pipe.cv_results_\n",
    "#     return pred_df_final, estimators"
   ]
  },
  {
   "cell_type": "markdown",
   "id": "22b5ffa9",
   "metadata": {
    "papermill": {
     "duration": 0.070267,
     "end_time": "2023-08-13T15:47:13.876305",
     "exception": false,
     "start_time": "2023-08-13T15:47:13.806038",
     "status": "completed"
    },
    "tags": []
   },
   "source": [
    "# Use 'submit_v5' function  "
   ]
  },
  {
   "cell_type": "code",
   "execution_count": 127,
   "id": "fa1b1553",
   "metadata": {
    "execution": {
     "iopub.execute_input": "2023-08-13T15:47:14.020763Z",
     "iopub.status.busy": "2023-08-13T15:47:14.020190Z",
     "iopub.status.idle": "2023-08-13T15:47:14.023456Z",
     "shell.execute_reply": "2023-08-13T15:47:14.022863Z"
    },
    "papermill": {
     "duration": 0.078401,
     "end_time": "2023-08-13T15:47:14.025932",
     "exception": false,
     "start_time": "2023-08-13T15:47:13.947531",
     "status": "completed"
    },
    "tags": []
   },
   "outputs": [],
   "source": [
    "# Try submit_v5 with default settings\n",
    "# submit_v5()"
   ]
  },
  {
   "cell_type": "code",
   "execution_count": 128,
   "id": "4deac6cb",
   "metadata": {
    "execution": {
     "iopub.execute_input": "2023-08-13T15:47:14.172909Z",
     "iopub.status.busy": "2023-08-13T15:47:14.172346Z",
     "iopub.status.idle": "2023-08-13T23:20:48.314967Z",
     "shell.execute_reply": "2023-08-13T23:20:48.313212Z"
    },
    "papermill": {
     "duration": 27214.225712,
     "end_time": "2023-08-13T23:20:48.323945",
     "exception": false,
     "start_time": "2023-08-13T15:47:14.098233",
     "status": "completed"
    },
    "tags": []
   },
   "outputs": [
    {
     "name": "stdout",
     "output_type": "stream",
     "text": [
      "\n",
      "Running the submit_v5 function...\n",
      "\n",
      "Data preprocessor initiated...\n",
      "\n",
      "Imputer for missing numerical values: knn\n",
      "Imputing missing values. (This could take a while if it is KNNImputer)\n",
      "KNNImputer(n_neighbors=3, weights='distance')\n",
      "\n",
      "Check 1 (preprocessor) complete.\n",
      "Shape of X_train: (162758, 30)\n",
      "Features in X_train: Index(['movieid', 'reviewerName', 'isFrequentReviewer', 'reviewText',\n",
      "       'sentiment', 'title', 'audienceScore', 'rating', 'ratingContents',\n",
      "       'releaseDateTheaters', 'releaseDateStreaming', 'runtimeMinutes',\n",
      "       'genre', 'originalLanguage', 'director', 'boxOffice', 'distributor',\n",
      "       'soundType', 'reviewYN', 'reviewWC', 'genreSorted', 'rcSorted',\n",
      "       'releaseDate', 'releaseYear', 'releaseMonth', 'releaseDiff',\n",
      "       'audScoreBins', 'runtimeBins', 'boxOfficeBins', 'releaseDiffBins'],\n",
      "      dtype='object')\n",
      "\n",
      "Check 2 (preprocessor) complete.\n",
      "Shape of X_test: (55315, 29)\n",
      "Features in X_test: Index(['movieid', 'reviewerName', 'isFrequentReviewer', 'reviewText', 'title',\n",
      "       'audienceScore', 'rating', 'ratingContents', 'releaseDateTheaters',\n",
      "       'releaseDateStreaming', 'runtimeMinutes', 'genre', 'originalLanguage',\n",
      "       'director', 'boxOffice', 'distributor', 'soundType', 'reviewYN',\n",
      "       'reviewWC', 'genreSorted', 'rcSorted', 'releaseDate', 'releaseYear',\n",
      "       'releaseMonth', 'releaseDiff', 'audScoreBins', 'runtimeBins',\n",
      "       'boxOfficeBins', 'releaseDiffBins'],\n",
      "      dtype='object')\n",
      "\n",
      "Preprocessing of train and test datasets complete.\n",
      "\n",
      "Generating vocabulary of entire training data...\n",
      "Size of vocabulary of training data: 3916361\n",
      "\n",
      "Generating common vocabulary specific for this project data...\n",
      "Common vocabulary for ngram-range (1, 1): 35498\n",
      "\n",
      "Common vocabulary for ngram-range (2, 2): 112530\n",
      "\n",
      "Common vocabulary for ngram-range (3, 3): 22631\n",
      "\n",
      "Common vocabulary for ngram-range (4, 4): 7336\n",
      "\n",
      "Size of the common vocabulary generated is: 177995\n",
      "Size of common vocabulary: 177995\n",
      "\n",
      "Getting specific stop words for this project...\n",
      "Size of 'stop_words_specific' generated: 3738366\n",
      "Common vocabulary for ngram-range (1, 1): 35498\n",
      "\n",
      "Common vocabulary for ngram-range (2, 2): 112530\n",
      "\n",
      "Common vocabulary for ngram-range (3, 3): 22631\n",
      "\n",
      "Common vocabulary for ngram-range (4, 4): 7336\n",
      "\n",
      "Size of the common vocabulary generated is: 177995\n",
      "Common vocabulary for ngram-range (1, 1): 39254\n",
      "\n",
      "Common vocabulary for ngram-range (2, 2): 418168\n",
      "\n",
      "Common vocabulary for ngram-range (3, 3): 478650\n",
      "\n",
      "Common vocabulary for ngram-range (4, 4): 438241\n",
      "\n",
      "Size of the common vocabulary generated is: 1374313\n",
      "Common vocabulary for ngram-range (1, 1): 29530\n",
      "\n",
      "Common vocabulary for ngram-range (2, 2): 208463\n",
      "\n",
      "Common vocabulary for ngram-range (3, 3): 223076\n",
      "\n",
      "Common vocabulary for ngram-range (4, 4): 201038\n",
      "\n",
      "Size of the common vocabulary generated is: 662107\n",
      "\n",
      "Size of 'pure_common' vocabulary genrated: 88482\n",
      "\n",
      "Selected features: {'cat': ['isFrequentReviewer'], 'num': ['audienceScore', 'boxOffice', 'releaseDiff'], 'txt': ['reviewText', 'reviewerName', 'movieid', 'genre', 'director', 'ratingContents', 'distributor', 'reviewText_2', 'reviewText_3']}\n",
      "Size of 'vocab' generated by submit_v5: 177995\n",
      "Size of 'vocab_audscore' generated by submit_v5: 88482\n",
      "\n",
      "Selected features: {'cat': ['isFrequentReviewer'], 'num': ['audienceScore', 'boxOffice', 'releaseDiff'], 'txt': ['reviewText', 'reviewerName', 'movieid', 'genre', 'director', 'ratingContents', 'distributor', 'reviewText_2', 'reviewText_3', 'reviewText_4']}\n",
      "\n",
      "Pipeline built successfully.\n",
      "\n",
      "Full GridSearchCV pipeline built successfully.\n",
      "GridSearchCV(cv=10,\n",
      "             estimator=Pipeline(steps=[('ct',\n",
      "                                        ColumnTransformer(transformers=[('cat',\n",
      "                                                                         OneHotEncoder(handle_unknown='ignore',\n",
      "                                                                                       sparse_output=False),\n",
      "                                                                         ['isFrequentReviewer']),\n",
      "                                                                        ('num',\n",
      "                                                                         Pipeline(steps=[('robscaler',\n",
      "                                                                                          RobustScaler()),\n",
      "                                                                                         ('stdscaler',\n",
      "                                                                                          StandardScaler()),\n",
      "                                                                                         ('poly',\n",
      "                                                                                          PolynomialFeatures(include_bias=False,\n",
      "                                                                                                             interaction_only=True))]),\n",
      "                                                                         ['audienceScore',\n",
      "                                                                          'boxO...\n",
      "                                                                                                                      'abbie',\n",
      "                                                                                                                      'abbott '\n",
      "                                                                                                                      'costello '\n",
      "                                                                                                                      'meet',\n",
      "                                                                                                                      'abbott '\n",
      "                                                                                                                      'costello '\n",
      "                                                                                                                      'meet '\n",
      "                                                                                                                      'frankenstein',\n",
      "                                                                                                                      'abc '\n",
      "                                                                                                                      'africa',\n",
      "                                                                                                                      'abc '\n",
      "                                                                                                                      'afterschool',\n",
      "                                                                                                                      'abdomen',\n",
      "                                                                                                                      'abdul '\n",
      "                                                                                                                      'mateen',\n",
      "                                                                                                                      'abdul '\n",
      "                                                                                                                      'mateen '\n",
      "                                                                                                                      'ii', ...}))]),\n",
      "                                                                         'reviewText_4')])),\n",
      "                                       ('model',\n",
      "                                        SGDClassifier(loss='modified_huber',\n",
      "                                                      max_iter=1000000,\n",
      "                                                      n_iter_no_change=1000,\n",
      "                                                      n_jobs=-1,\n",
      "                                                      tol=0.0001))]),\n",
      "             n_jobs=-1, param_grid={'model__alpha': [0.0001]},\n",
      "             scoring='f1_micro')\n",
      "\n",
      "classifier_1 successfully added to 'estimators' list\n",
      "\n",
      "Selected features: {'cat': ['isFrequentReviewer', 'audScoreBins', 'boxOfficeBins'], 'num': ['releaseDiff'], 'txt': ['reviewText', 'reviewerName', 'movieid', 'genre', 'director', 'ratingContents', 'distributor', 'reviewText_2', 'reviewText_3']}\n",
      "Size of 'vocab' generated by submit_v5: 177995\n",
      "Size of 'vocab_audscore' generated by submit_v5: 88482\n",
      "\n",
      "Selected features: {'cat': ['isFrequentReviewer', 'audScoreBins', 'boxOfficeBins'], 'num': ['releaseDiff'], 'txt': ['reviewText', 'reviewerName', 'movieid', 'genre', 'director', 'ratingContents', 'distributor', 'reviewText_2', 'reviewText_3', 'reviewText_4']}\n",
      "\n",
      "Pipeline built successfully.\n",
      "\n",
      "Full GridSearchCV pipeline built successfully.\n",
      "GridSearchCV(cv=10,\n",
      "             estimator=Pipeline(steps=[('ct',\n",
      "                                        ColumnTransformer(transformers=[('cat',\n",
      "                                                                         OneHotEncoder(handle_unknown='ignore',\n",
      "                                                                                       sparse_output=False),\n",
      "                                                                         ['isFrequentReviewer',\n",
      "                                                                          'audScoreBins',\n",
      "                                                                          'boxOfficeBins']),\n",
      "                                                                        ('num',\n",
      "                                                                         Pipeline(steps=[('robscaler',\n",
      "                                                                                          RobustScaler()),\n",
      "                                                                                         ('stdscaler',\n",
      "                                                                                          StandardScaler()),\n",
      "                                                                                         ('poly',\n",
      "                                                                                          PolynomialFeatures(include_bias=False,\n",
      "                                                                                                             interaction_only=...\n",
      "                                                                                                                      'movie',\n",
      "                                                                                                                      'abbie',\n",
      "                                                                                                                      'abbott '\n",
      "                                                                                                                      'costello '\n",
      "                                                                                                                      'meet',\n",
      "                                                                                                                      'abbott '\n",
      "                                                                                                                      'costello '\n",
      "                                                                                                                      'meet '\n",
      "                                                                                                                      'frankenstein',\n",
      "                                                                                                                      'abc '\n",
      "                                                                                                                      'africa',\n",
      "                                                                                                                      'abc '\n",
      "                                                                                                                      'afterschool',\n",
      "                                                                                                                      'abdomen',\n",
      "                                                                                                                      'abdul '\n",
      "                                                                                                                      'mateen',\n",
      "                                                                                                                      'abdul '\n",
      "                                                                                                                      'mateen '\n",
      "                                                                                                                      'ii', ...}))]),\n",
      "                                                                         'reviewText_4')])),\n",
      "                                       ('model',\n",
      "                                        SGDClassifier(loss='log_loss',\n",
      "                                                      max_iter=1000000,\n",
      "                                                      n_iter_no_change=1000,\n",
      "                                                      n_jobs=-1,\n",
      "                                                      tol=0.0001))]),\n",
      "             n_jobs=-1, param_grid={'model__alpha': [0.0001]},\n",
      "             scoring='f1_micro')\n",
      "\n",
      "classifier_2 successfully added to 'estimators' list\n",
      "\n",
      "Calling function: 'stacking_clf'\n",
      "\n",
      "Running the stacking_clf function...\n",
      "\n",
      "Number of estimator pipelines provided: 2\n",
      "\n",
      "X_train and y_train created.\n",
      "Shape of X_train: (162758, 32)\n",
      "Columns in X_train: Index(['movieid', 'reviewerName', 'isFrequentReviewer', 'reviewText', 'title',\n",
      "       'audienceScore', 'rating', 'ratingContents', 'releaseDateTheaters',\n",
      "       'releaseDateStreaming', 'runtimeMinutes', 'genre', 'originalLanguage',\n",
      "       'director', 'boxOffice', 'distributor', 'soundType', 'reviewYN',\n",
      "       'reviewWC', 'genreSorted', 'rcSorted', 'releaseDate', 'releaseYear',\n",
      "       'releaseMonth', 'releaseDiff', 'audScoreBins', 'runtimeBins',\n",
      "       'boxOfficeBins', 'releaseDiffBins', 'reviewText_2', 'reviewText_3',\n",
      "       'reviewText_4'],\n",
      "      dtype='object')\n",
      "\n",
      "Shape of y_train: (162758,)\n",
      "Inspect y_train: 0    POSITIVE\n",
      "1    NEGATIVE\n",
      "2    POSITIVE\n",
      "3    POSITIVE\n",
      "4    POSITIVE\n",
      "Name: sentiment, dtype: object\n",
      "\n",
      "X_test created.\n",
      "Shape of X_test: (55315, 32)\n",
      "Columns in X_test: Index(['movieid', 'reviewerName', 'isFrequentReviewer', 'reviewText', 'title',\n",
      "       'audienceScore', 'rating', 'ratingContents', 'releaseDateTheaters',\n",
      "       'releaseDateStreaming', 'runtimeMinutes', 'genre', 'originalLanguage',\n",
      "       'director', 'boxOffice', 'distributor', 'soundType', 'reviewYN',\n",
      "       'reviewWC', 'genreSorted', 'rcSorted', 'releaseDate', 'releaseYear',\n",
      "       'releaseMonth', 'releaseDiff', 'audScoreBins', 'runtimeBins',\n",
      "       'boxOfficeBins', 'releaseDiffBins', 'reviewText_2', 'reviewText_3',\n",
      "       'reviewText_4'],\n",
      "      dtype='object')\n",
      "\n",
      "stacking_classifier object created.\n",
      "StackingClassifier(cv=5,\n",
      "                   estimators=[('classifier_1',\n",
      "                                GridSearchCV(cv=10,\n",
      "                                             estimator=Pipeline(steps=[('ct',\n",
      "                                                                        ColumnTransformer(transformers=[('cat',\n",
      "                                                                                                         OneHotEncoder(handle_unknown='ignore',\n",
      "                                                                                                                       sparse_output=False),\n",
      "                                                                                                         ['isFrequentReviewer']),\n",
      "                                                                                                        ('num',\n",
      "                                                                                                         Pipeline(steps=[('robscaler',\n",
      "                                                                                                                          RobustScaler()),\n",
      "                                                                                                                         ('stdscaler',\n",
      "                                                                                                                          StandardScaler()),\n",
      "                                                                                                                         ('poly',\n",
      "                                                                                                                          PolynomialFeatures(include_bias=Fa...\n",
      "                                                                                                                                                      'frankenstein',\n",
      "                                                                                                                                                      'abc '\n",
      "                                                                                                                                                      'africa',\n",
      "                                                                                                                                                      'abc '\n",
      "                                                                                                                                                      'afterschool',\n",
      "                                                                                                                                                      'abdomen',\n",
      "                                                                                                                                                      'abdul '\n",
      "                                                                                                                                                      'mateen',\n",
      "                                                                                                                                                      'abdul '\n",
      "                                                                                                                                                      'mateen '\n",
      "                                                                                                                                                      'ii', ...}))]),\n",
      "                                                                                                         'reviewText_4')])),\n",
      "                                                                       ('model',\n",
      "                                                                        SGDClassifier(loss='log_loss',\n",
      "                                                                                      max_iter=1000000,\n",
      "                                                                                      n_iter_no_change=1000,\n",
      "                                                                                      n_jobs=-1,\n",
      "                                                                                      tol=0.0001))]),\n",
      "                                             n_jobs=-1,\n",
      "                                             param_grid={'model__alpha': [0.0001]},\n",
      "                                             scoring='f1_micro'))],\n",
      "                   final_estimator=LogisticRegression(), n_jobs=1, verbose=10)\n",
      "\n",
      "stacking_classifier has begun training. Be patient, this can take a long time...\n"
     ]
    },
    {
     "name": "stderr",
     "output_type": "stream",
     "text": [
      "[Parallel(n_jobs=1)]: Using backend SequentialBackend with 1 concurrent workers.\n",
      "[Parallel(n_jobs=1)]: Done   1 out of   1 | elapsed: 33.5min remaining:    0.0s\n",
      "[Parallel(n_jobs=1)]: Done   2 out of   2 | elapsed: 67.7min remaining:    0.0s\n",
      "[Parallel(n_jobs=1)]: Done   3 out of   3 | elapsed: 101.9min remaining:    0.0s\n",
      "[Parallel(n_jobs=1)]: Done   4 out of   4 | elapsed: 136.2min remaining:    0.0s\n",
      "[Parallel(n_jobs=1)]: Done   5 out of   5 | elapsed: 171.4min remaining:    0.0s\n",
      "[Parallel(n_jobs=1)]: Done   5 out of   5 | elapsed: 171.4min finished\n",
      "[Parallel(n_jobs=1)]: Using backend SequentialBackend with 1 concurrent workers.\n",
      "[Parallel(n_jobs=1)]: Done   1 out of   1 | elapsed: 37.7min remaining:    0.0s\n",
      "[Parallel(n_jobs=1)]: Done   2 out of   2 | elapsed: 73.7min remaining:    0.0s\n",
      "[Parallel(n_jobs=1)]: Done   3 out of   3 | elapsed: 111.3min remaining:    0.0s\n",
      "[Parallel(n_jobs=1)]: Done   4 out of   4 | elapsed: 148.1min remaining:    0.0s\n",
      "[Parallel(n_jobs=1)]: Done   5 out of   5 | elapsed: 185.0min remaining:    0.0s\n",
      "[Parallel(n_jobs=1)]: Done   5 out of   5 | elapsed: 185.0min finished\n"
     ]
    },
    {
     "name": "stdout",
     "output_type": "stream",
     "text": [
      "\n",
      "Successfully created the submission file!!!\n"
     ]
    },
    {
     "data": {
      "text/plain": [
       "(55315, 1)"
      ]
     },
     "execution_count": 128,
     "metadata": {},
     "output_type": "execute_result"
    }
   ],
   "source": [
    "# Testing ONE classfier using submit_v5 function  \n",
    "\n",
    "# Feature dictionaries\n",
    "sfs = {'cat': ['isFrequentReviewer', 'rating'],\n",
    "       'num': [\"audienceScore\", \"runtimeMinutes\", \"boxOffice\", 'releaseDiff']}\n",
    "\n",
    "sf_best = {'cat': ['isFrequentReviewer'],\n",
    "            'num': [\"audienceScore\", \"boxOffice\", 'releaseDiff'],\n",
    "            'txt': ['reviewText', 'reviewerName', 'movieid', 'genre', 'director', \n",
    "                         'ratingContents', 'distributor']}\n",
    "\n",
    "alt_text = {'txt': ['reviewerName', 'movieid', 'genre', 'director', \n",
    "                         'ratingContents', 'distributor']}\n",
    "\n",
    "v88_dict = {'cat': ['isFrequentReviewer', 'audScoreBins', 'boxOfficeBins'],\n",
    "            'num': ['releaseDiff'],\n",
    "            'txt': ['reviewText', 'reviewerName', 'movieid', 'genre', 'director', \n",
    "                         'ratingContents', 'distributor']}\n",
    "\n",
    "# SGDClassifier hyperparameters  \n",
    "# \"model__loss\": ['hinge', 'log_loss', 'modified_huber', \n",
    "#                                                   'squared_hinge', 'perceptron', \n",
    "#                                                   'squared_error', 'huber', \n",
    "#                                                   'epsilon_insensitive', 'squared_epsilon_insensitive']\n",
    "\n",
    "# 'param_grid' : {\"model__alpha\": [0.0001], \n",
    "#                   'model__tol': [0.0001],\n",
    "#                   \"model__penalty\": [\"l2\"],\n",
    "#                   \"model__n_iter_no_change\": [100],\n",
    "#                  }\n",
    "\n",
    "# Best models \n",
    "# For sf_best features\n",
    "#                 {'selected_model' : SGDClassifier(loss='hinge', \n",
    "#                                      max_iter=1000000,\n",
    "#                                      alpha = 0.0001,\n",
    "#                                      tol = 0.0001,\n",
    "#                                      penalty = \"l2\",\n",
    "#                                      n_iter_no_change = 100,\n",
    "#                                      n_jobs = -1), \n",
    "#                   'selected_features' : sf_best, \n",
    "#                   'param_grid' : {\"model__alpha\": [ 0.0001]},\n",
    "#                   'vocab' : True,\n",
    "#                   'vocab_usage' : 'tfidf',\n",
    "#                   'strip_accents' : 'unicode', \n",
    "#                   'add_countvec' : True},\n",
    "\n",
    "# For sfs features\n",
    "#                 {'selected_model' : RandomForestClassifier(n_jobs = -1), \n",
    "#                   'selected_features' : sfs, \n",
    "#                   'param_grid': {'model__n_estimators': [100]},\n",
    "#                   'vocab' : None,\n",
    "#                   'vocab_usage' : 'tfidf',\n",
    "#                   'strip_accents' : 'unicode', \n",
    "#                   'add_countvec' : False}\n",
    "\n",
    "# Best SGD classifer (with params)  \n",
    "sgdc_modhuber = SGDClassifier(loss='modified_huber', \n",
    "                     max_iter=1000000,\n",
    "                     alpha = 0.0001,\n",
    "                     tol = 0.0001,\n",
    "                     penalty = \"l2\",\n",
    "                     n_iter_no_change = 1000,\n",
    "                     n_jobs = -1)\n",
    "\n",
    "sgdc_logloss = SGDClassifier(loss='log_loss', \n",
    "                     max_iter=1000000,\n",
    "                     alpha = 0.0001,\n",
    "                     tol = 0.0001,\n",
    "                     penalty = \"l2\",\n",
    "                     n_iter_no_change = 1000,\n",
    "                     n_jobs = -1)\n",
    "\n",
    "# Classifiers\n",
    "classifiers= [   \n",
    "                {'selected_model' : sgdc_modhuber, \n",
    "                  'selected_features' : sf_best, \n",
    "                  'param_grid' : {\"model__alpha\": [0.0001]},\n",
    "                  'vocab' : True,\n",
    "                  'vocab_usage' : 'tfidf',\n",
    "                  'strip_accents' : 'unicode', \n",
    "                  'add_countvec' : True,\n",
    "                    'vocab_audscore' : True},\n",
    "    \n",
    "                {'selected_model' : sgdc_logloss, \n",
    "                  'selected_features' : v88_dict, \n",
    "                  'param_grid' : {\"model__alpha\": [0.0001]},\n",
    "                  'vocab' : True,\n",
    "                  'vocab_usage' : 'tfidf',\n",
    "                  'strip_accents' : 'unicode', \n",
    "                  'add_countvec' : True,\n",
    "                    'vocab_audscore' : True}\n",
    "                \n",
    "#                 {'selected_model' : RandomForestClassifier(n_jobs = -1), \n",
    "#                   'selected_features' : sfs, \n",
    "#                   'param_grid': {'model__n_estimators': [100]},\n",
    "#                   'vocab' : None,\n",
    "#                   'vocab_usage' : 'tfidf',\n",
    "#                   'strip_accents' : 'unicode', \n",
    "#                   'add_countvec' : False,\n",
    "#                     'vocab_audscore' : False}\n",
    "            ]\n",
    "\n",
    "# classifiers= [\n",
    "#                 {'selected_model' : LogisticRegression(C=1, solver='saga', max_iter=100000), \n",
    "#                   'selected_features' : {'txt': [\"reviewText\"]}, \n",
    "#                   'param_grid' : {\"model__C\": [1], \n",
    "#                                   'model__solver': ['saga']},\n",
    "#                   'vocab' : None,\n",
    "#                   'vocab_usage' : 'tfidf',\n",
    "#                   'strip_accents' : 'unicode', \n",
    "#                   'add_countvec' : False},\n",
    "#             ]\n",
    "\n",
    "pred_df, estimators = submit_v5(classifiers=classifiers, imputer_type='knn', poly=True, ensemble_type='stacking')\n",
    "\n",
    "pred_df.shape"
   ]
  },
  {
   "cell_type": "code",
   "execution_count": 129,
   "id": "b66770bc",
   "metadata": {
    "execution": {
     "iopub.execute_input": "2023-08-13T23:20:48.477816Z",
     "iopub.status.busy": "2023-08-13T23:20:48.477096Z",
     "iopub.status.idle": "2023-08-13T23:20:48.487591Z",
     "shell.execute_reply": "2023-08-13T23:20:48.485622Z"
    },
    "papermill": {
     "duration": 0.091918,
     "end_time": "2023-08-13T23:20:48.489693",
     "exception": false,
     "start_time": "2023-08-13T23:20:48.397775",
     "status": "completed"
    },
    "tags": []
   },
   "outputs": [
    {
     "name": "stdout",
     "output_type": "stream",
     "text": [
      "(55315, 1)\n",
      "   sentiment\n",
      "id          \n",
      "0   POSITIVE\n",
      "1   POSITIVE\n",
      "2   POSITIVE\n",
      "3   POSITIVE\n",
      "4   POSITIVE\n"
     ]
    }
   ],
   "source": [
    "print(pred_df.shape)\n",
    "print(pred_df.head())"
   ]
  },
  {
   "cell_type": "code",
   "execution_count": 130,
   "id": "4a203bf8",
   "metadata": {
    "execution": {
     "iopub.execute_input": "2023-08-13T23:20:48.642467Z",
     "iopub.status.busy": "2023-08-13T23:20:48.641986Z",
     "iopub.status.idle": "2023-08-13T23:20:48.647916Z",
     "shell.execute_reply": "2023-08-13T23:20:48.646756Z"
    },
    "papermill": {
     "duration": 0.085959,
     "end_time": "2023-08-13T23:20:48.649913",
     "exception": false,
     "start_time": "2023-08-13T23:20:48.563954",
     "status": "completed"
    },
    "tags": []
   },
   "outputs": [],
   "source": [
    "# estimators"
   ]
  },
  {
   "cell_type": "code",
   "execution_count": 131,
   "id": "366da521",
   "metadata": {
    "execution": {
     "iopub.execute_input": "2023-08-13T23:20:48.800038Z",
     "iopub.status.busy": "2023-08-13T23:20:48.799616Z",
     "iopub.status.idle": "2023-08-13T23:20:48.803527Z",
     "shell.execute_reply": "2023-08-13T23:20:48.802886Z"
    },
    "papermill": {
     "duration": 0.081815,
     "end_time": "2023-08-13T23:20:48.805187",
     "exception": false,
     "start_time": "2023-08-13T23:20:48.723372",
     "status": "completed"
    },
    "tags": []
   },
   "outputs": [],
   "source": [
    "# print(f\"Number of estimators: {len(estimators)}\\n\")\n",
    "# for est in estimators:\n",
    "#     print(f\"Estimator: {est[0]}\")\n",
    "# #     print(est[1].best_estimator_)\n",
    "#     print(est[1].best_params_)\n",
    "#     print(est[1].best_score_)\n",
    "#     print(est[1].refit_time_)\n",
    "#     print()"
   ]
  },
  {
   "cell_type": "code",
   "execution_count": 132,
   "id": "f9782784",
   "metadata": {
    "execution": {
     "iopub.execute_input": "2023-08-13T23:20:48.953481Z",
     "iopub.status.busy": "2023-08-13T23:20:48.953022Z",
     "iopub.status.idle": "2023-08-13T23:20:48.958962Z",
     "shell.execute_reply": "2023-08-13T23:20:48.957893Z"
    },
    "papermill": {
     "duration": 0.083236,
     "end_time": "2023-08-13T23:20:48.960794",
     "exception": false,
     "start_time": "2023-08-13T23:20:48.877558",
     "status": "completed"
    },
    "tags": []
   },
   "outputs": [],
   "source": [
    "# Testing full capabilites of submit_v5  \n",
    "\n",
    "# # Feature dictionaries\n",
    "# sf1 = {'cat': ['isFrequentReviewer', 'rating'],\n",
    "#        'num': [\"audienceScore\", \"runtimeMinutes\", \"boxOffice\"]}\n",
    "\n",
    "# sf2 = {'cat': ['isFrequentReviewer', 'rating'],\n",
    "#        'num': [\"audienceScore\", \"runtimeMinutes\", \"boxOffice\"]}\n",
    "\n",
    "# sf3 = {'cat': ['isFrequentReviewer'],\n",
    "#         'num': ['releaseDiff', 'audienceScore', 'boxOffice'],\n",
    "#         'txt': ['reviewText', 'reviewerName', 'movieid', 'genre', 'director', \n",
    "#                          'ratingContents', 'distributor']}\n",
    "\n",
    "# # Individual classifiers\n",
    "# clf1 =  {'selected_model' : AdaBoostClassifier(), \n",
    "#           'selected_features' : sf1, \n",
    "#           'param_grid' : {\"model__n_estimators\": [50]},\n",
    "#           'vocab' : None,\n",
    "#           'vocab_usage' : 'tfidf',\n",
    "#           'strip_accents' : 'unicode', \n",
    "#           'add_countvec' : False}\n",
    "\n",
    "# clf2 =  {'selected_model' : RandomForestClassifier(), \n",
    "#           'selected_features' : sf2,\n",
    "#           'param_grid' : {\"model__n_estimators\": [50], \n",
    "#                           'model__criterion': ['gini']},\n",
    "#           'vocab' : None,\n",
    "#           'vocab_usage' : 'tfidf',\n",
    "#           'strip_accents' : 'unicode', \n",
    "#           'add_countvec' : False}\n",
    "\n",
    "# clf3 =  {'selected_model' : LogisticRegression(C=1, solver='saga', max_iter=100000), \n",
    "#           'selected_features' : sf3, \n",
    "#           'param_grid' : {'model__C' : [1],\n",
    "#                             'model__solver': ['saga'],\n",
    "#                             \"model__fit_intercept\" : [True],\n",
    "#                             \"model__dual\" : [False]},\n",
    "#           'vocab' : None,\n",
    "#           'vocab_usage' : 'tfidf',\n",
    "#           'strip_accents' : 'unicode', \n",
    "#           'add_countvec' : True}\n",
    "\n",
    "\n",
    "# # List of classifiers for voting\n",
    "# classifiers= [clf1, clf2, clf3]\n",
    "\n",
    "# # Final predictions \n",
    "# pred_df = submit_v5(classifiers=classifiers)"
   ]
  },
  {
   "cell_type": "code",
   "execution_count": 133,
   "id": "6f5277a5",
   "metadata": {
    "execution": {
     "iopub.execute_input": "2023-08-13T23:20:49.111105Z",
     "iopub.status.busy": "2023-08-13T23:20:49.110648Z",
     "iopub.status.idle": "2023-08-13T23:20:49.126667Z",
     "shell.execute_reply": "2023-08-13T23:20:49.124989Z"
    },
    "papermill": {
     "duration": 0.09565,
     "end_time": "2023-08-13T23:20:49.129535",
     "exception": false,
     "start_time": "2023-08-13T23:20:49.033885",
     "status": "completed"
    },
    "tags": []
   },
   "outputs": [
    {
     "name": "stdout",
     "output_type": "stream",
     "text": [
      "(55315, 1)\n"
     ]
    },
    {
     "data": {
      "text/html": [
       "<div>\n",
       "<style scoped>\n",
       "    .dataframe tbody tr th:only-of-type {\n",
       "        vertical-align: middle;\n",
       "    }\n",
       "\n",
       "    .dataframe tbody tr th {\n",
       "        vertical-align: top;\n",
       "    }\n",
       "\n",
       "    .dataframe thead th {\n",
       "        text-align: right;\n",
       "    }\n",
       "</style>\n",
       "<table border=\"1\" class=\"dataframe\">\n",
       "  <thead>\n",
       "    <tr style=\"text-align: right;\">\n",
       "      <th></th>\n",
       "      <th>sentiment</th>\n",
       "    </tr>\n",
       "    <tr>\n",
       "      <th>id</th>\n",
       "      <th></th>\n",
       "    </tr>\n",
       "  </thead>\n",
       "  <tbody>\n",
       "    <tr>\n",
       "      <th>0</th>\n",
       "      <td>POSITIVE</td>\n",
       "    </tr>\n",
       "    <tr>\n",
       "      <th>1</th>\n",
       "      <td>POSITIVE</td>\n",
       "    </tr>\n",
       "    <tr>\n",
       "      <th>2</th>\n",
       "      <td>POSITIVE</td>\n",
       "    </tr>\n",
       "    <tr>\n",
       "      <th>3</th>\n",
       "      <td>POSITIVE</td>\n",
       "    </tr>\n",
       "    <tr>\n",
       "      <th>4</th>\n",
       "      <td>POSITIVE</td>\n",
       "    </tr>\n",
       "    <tr>\n",
       "      <th>...</th>\n",
       "      <td>...</td>\n",
       "    </tr>\n",
       "    <tr>\n",
       "      <th>55310</th>\n",
       "      <td>POSITIVE</td>\n",
       "    </tr>\n",
       "    <tr>\n",
       "      <th>55311</th>\n",
       "      <td>NEGATIVE</td>\n",
       "    </tr>\n",
       "    <tr>\n",
       "      <th>55312</th>\n",
       "      <td>NEGATIVE</td>\n",
       "    </tr>\n",
       "    <tr>\n",
       "      <th>55313</th>\n",
       "      <td>POSITIVE</td>\n",
       "    </tr>\n",
       "    <tr>\n",
       "      <th>55314</th>\n",
       "      <td>NEGATIVE</td>\n",
       "    </tr>\n",
       "  </tbody>\n",
       "</table>\n",
       "<p>55315 rows × 1 columns</p>\n",
       "</div>"
      ],
      "text/plain": [
       "      sentiment\n",
       "id             \n",
       "0      POSITIVE\n",
       "1      POSITIVE\n",
       "2      POSITIVE\n",
       "3      POSITIVE\n",
       "4      POSITIVE\n",
       "...         ...\n",
       "55310  POSITIVE\n",
       "55311  NEGATIVE\n",
       "55312  NEGATIVE\n",
       "55313  POSITIVE\n",
       "55314  NEGATIVE\n",
       "\n",
       "[55315 rows x 1 columns]"
      ]
     },
     "execution_count": 133,
     "metadata": {},
     "output_type": "execute_result"
    }
   ],
   "source": [
    "print(pred_df.shape)\n",
    "pred_df"
   ]
  },
  {
   "cell_type": "code",
   "execution_count": 134,
   "id": "87ae5bc6",
   "metadata": {
    "execution": {
     "iopub.execute_input": "2023-08-13T23:20:49.279707Z",
     "iopub.status.busy": "2023-08-13T23:20:49.279339Z",
     "iopub.status.idle": "2023-08-13T23:20:49.283794Z",
     "shell.execute_reply": "2023-08-13T23:20:49.282506Z"
    },
    "papermill": {
     "duration": 0.083123,
     "end_time": "2023-08-13T23:20:49.286175",
     "exception": false,
     "start_time": "2023-08-13T23:20:49.203052",
     "status": "completed"
    },
    "tags": []
   },
   "outputs": [],
   "source": [
    "# pred_df_mode = pred_df.mode(axis='columns')\n",
    "# print(pred_df_mode.shape)\n",
    "# pred_df_mode"
   ]
  },
  {
   "cell_type": "code",
   "execution_count": 135,
   "id": "b8f986c9",
   "metadata": {
    "execution": {
     "iopub.execute_input": "2023-08-13T23:20:49.437940Z",
     "iopub.status.busy": "2023-08-13T23:20:49.437516Z",
     "iopub.status.idle": "2023-08-13T23:20:49.453195Z",
     "shell.execute_reply": "2023-08-13T23:20:49.452234Z"
    },
    "papermill": {
     "duration": 0.094305,
     "end_time": "2023-08-13T23:20:49.455210",
     "exception": false,
     "start_time": "2023-08-13T23:20:49.360905",
     "status": "completed"
    },
    "tags": []
   },
   "outputs": [
    {
     "data": {
      "text/plain": [
       "sentiment\n",
       "POSITIVE     39029\n",
       "NEGATIVE     16286\n",
       "dtype: int64"
      ]
     },
     "execution_count": 135,
     "metadata": {},
     "output_type": "execute_result"
    }
   ],
   "source": [
    "pred_df.value_counts()"
   ]
  },
  {
   "cell_type": "markdown",
   "id": "284a1d34",
   "metadata": {
    "papermill": {
     "duration": 0.073999,
     "end_time": "2023-08-13T23:20:49.605035",
     "exception": false,
     "start_time": "2023-08-13T23:20:49.531036",
     "status": "completed"
    },
    "tags": []
   },
   "source": [
    "# NOTE: Move submit_v4 submissions below the suubmit_v4 function  "
   ]
  },
  {
   "cell_type": "code",
   "execution_count": 136,
   "id": "f92f9390",
   "metadata": {
    "execution": {
     "iopub.execute_input": "2023-08-13T23:20:49.759539Z",
     "iopub.status.busy": "2023-08-13T23:20:49.759143Z",
     "iopub.status.idle": "2023-08-13T23:20:49.764382Z",
     "shell.execute_reply": "2023-08-13T23:20:49.762220Z"
    },
    "papermill": {
     "duration": 0.08529,
     "end_time": "2023-08-13T23:20:49.766490",
     "exception": false,
     "start_time": "2023-08-13T23:20:49.681200",
     "status": "completed"
    },
    "tags": []
   },
   "outputs": [],
   "source": [
    "# Try 'submit_v4' function with default params (LogisticRegression model)  \n",
    "\n",
    "# submit_v4()\n",
    "\n",
    "#Default params to this function gave a score of 0.8259 - improvement over previous score of 0.82563!"
   ]
  },
  {
   "cell_type": "code",
   "execution_count": 137,
   "id": "5030f6fe",
   "metadata": {
    "execution": {
     "iopub.execute_input": "2023-08-13T23:20:49.919197Z",
     "iopub.status.busy": "2023-08-13T23:20:49.918792Z",
     "iopub.status.idle": "2023-08-13T23:20:49.923094Z",
     "shell.execute_reply": "2023-08-13T23:20:49.922078Z"
    },
    "papermill": {
     "duration": 0.084083,
     "end_time": "2023-08-13T23:20:49.925620",
     "exception": false,
     "start_time": "2023-08-13T23:20:49.841537",
     "status": "completed"
    },
    "tags": []
   },
   "outputs": [],
   "source": [
    "# Try out GridSearchCV on \"submit_v4\" function with param_grid  \n",
    "# param_grid = {\n",
    "#     \"model__C\": [0.1, 1, 5, 10]\n",
    "# }\n",
    "\n",
    "# submit_v4(selected_features={'txt': ['genre']}, param_grid=param_grid)"
   ]
  },
  {
   "cell_type": "markdown",
   "id": "b2c71665",
   "metadata": {
    "papermill": {
     "duration": 0.087402,
     "end_time": "2023-08-13T23:20:50.088938",
     "exception": false,
     "start_time": "2023-08-13T23:20:50.001536",
     "status": "completed"
    },
    "tags": []
   },
   "source": [
    "### Try LinearSVC with GridSearchCV  "
   ]
  },
  {
   "cell_type": "code",
   "execution_count": 138,
   "id": "464832b7",
   "metadata": {
    "execution": {
     "iopub.execute_input": "2023-08-13T23:20:50.243721Z",
     "iopub.status.busy": "2023-08-13T23:20:50.243292Z",
     "iopub.status.idle": "2023-08-13T23:20:50.247710Z",
     "shell.execute_reply": "2023-08-13T23:20:50.246672Z"
    },
    "papermill": {
     "duration": 0.085494,
     "end_time": "2023-08-13T23:20:50.250249",
     "exception": false,
     "start_time": "2023-08-13T23:20:50.164755",
     "status": "completed"
    },
    "tags": []
   },
   "outputs": [],
   "source": [
    "# all_dict = {'cat': [\"isFrequentReviewer\", \"rating\", \"originalLanguage\"],\n",
    "#              'num': [\"audienceScore\", \"runtimeMinutes\", \"boxOffice\"],\n",
    "#              'txt': ['reviewText', 'reviewerName', 'movieid', 'genre', 'director']}\n",
    "\n",
    "# param_grid_svc = {\n",
    "#     \"model__C\": [0.1, 1, 10, 100]\n",
    "# }\n",
    "# param_grid_svc"
   ]
  },
  {
   "cell_type": "code",
   "execution_count": 139,
   "id": "ee56d252",
   "metadata": {
    "execution": {
     "iopub.execute_input": "2023-08-13T23:20:50.399908Z",
     "iopub.status.busy": "2023-08-13T23:20:50.399150Z",
     "iopub.status.idle": "2023-08-13T23:20:50.403512Z",
     "shell.execute_reply": "2023-08-13T23:20:50.402884Z"
    },
    "papermill": {
     "duration": 0.081036,
     "end_time": "2023-08-13T23:20:50.405377",
     "exception": false,
     "start_time": "2023-08-13T23:20:50.324341",
     "status": "completed"
    },
    "tags": []
   },
   "outputs": [],
   "source": [
    "# LinearSCV on single feature  \n",
    "\n",
    "# submit_v4(selected_model=LinearSVC(max_iter=100000, random_state=42), selected_features={'num': [\"audienceScore\"]}, param_grid=param_grid_svc)\n",
    "\n",
    "# Comment: LinearSVC even on single column feature set takes too long to converge."
   ]
  },
  {
   "cell_type": "code",
   "execution_count": 140,
   "id": "ce430351",
   "metadata": {
    "execution": {
     "iopub.execute_input": "2023-08-13T23:20:50.557906Z",
     "iopub.status.busy": "2023-08-13T23:20:50.557482Z",
     "iopub.status.idle": "2023-08-13T23:20:50.561413Z",
     "shell.execute_reply": "2023-08-13T23:20:50.560436Z"
    },
    "papermill": {
     "duration": 0.081806,
     "end_time": "2023-08-13T23:20:50.563342",
     "exception": false,
     "start_time": "2023-08-13T23:20:50.481536",
     "status": "completed"
    },
    "tags": []
   },
   "outputs": [],
   "source": [
    "# LinearSCV on all available features\n",
    "\n",
    "# submit_v4(selected_model=LinearSVC(max_iter=100000, random_state=42), selected_features=all_dict, param_grid=param_grid_svc)\n",
    "\n",
    "# (Update): This took 66 mins to run and gave a public score of 0.84295 (lesser than logreg gridsearchcv wwhich gave 0.84441). Best C was 1.0.\n"
   ]
  },
  {
   "cell_type": "markdown",
   "id": "8b134911",
   "metadata": {
    "papermill": {
     "duration": 0.07616,
     "end_time": "2023-08-13T23:20:50.714063",
     "exception": false,
     "start_time": "2023-08-13T23:20:50.637903",
     "status": "completed"
    },
    "tags": []
   },
   "source": [
    "### Boosting techniques  "
   ]
  },
  {
   "cell_type": "code",
   "execution_count": 141,
   "id": "802fd67a",
   "metadata": {
    "execution": {
     "iopub.execute_input": "2023-08-13T23:20:50.865078Z",
     "iopub.status.busy": "2023-08-13T23:20:50.864430Z",
     "iopub.status.idle": "2023-08-13T23:20:50.868602Z",
     "shell.execute_reply": "2023-08-13T23:20:50.867965Z"
    },
    "papermill": {
     "duration": 0.081998,
     "end_time": "2023-08-13T23:20:50.870360",
     "exception": false,
     "start_time": "2023-08-13T23:20:50.788362",
     "status": "completed"
    },
    "tags": []
   },
   "outputs": [],
   "source": [
    "# adc = AdaBoostClassifier(estimator=LogisticRegression(C=5, solver=\"saga\", max_iter=100000), n_estimators=50)\n",
    "# adc"
   ]
  },
  {
   "cell_type": "code",
   "execution_count": 142,
   "id": "b721bbd6",
   "metadata": {
    "execution": {
     "iopub.execute_input": "2023-08-13T23:20:51.022991Z",
     "iopub.status.busy": "2023-08-13T23:20:51.022475Z",
     "iopub.status.idle": "2023-08-13T23:20:51.027501Z",
     "shell.execute_reply": "2023-08-13T23:20:51.025979Z"
    },
    "papermill": {
     "duration": 0.082933,
     "end_time": "2023-08-13T23:20:51.030352",
     "exception": false,
     "start_time": "2023-08-13T23:20:50.947419",
     "status": "completed"
    },
    "tags": []
   },
   "outputs": [],
   "source": [
    "# submit_v4(selected_model=adc, selected_features={'num': [\"audienceScore\"]}, param_grid=None)"
   ]
  },
  {
   "cell_type": "code",
   "execution_count": 143,
   "id": "0fb29f35",
   "metadata": {
    "execution": {
     "iopub.execute_input": "2023-08-13T23:20:51.181257Z",
     "iopub.status.busy": "2023-08-13T23:20:51.180753Z",
     "iopub.status.idle": "2023-08-13T23:20:51.186263Z",
     "shell.execute_reply": "2023-08-13T23:20:51.184909Z"
    },
    "papermill": {
     "duration": 0.083664,
     "end_time": "2023-08-13T23:20:51.188691",
     "exception": false,
     "start_time": "2023-08-13T23:20:51.105027",
     "status": "completed"
    },
    "tags": []
   },
   "outputs": [],
   "source": [
    "# submit_v4(selected_model=adc, selected_features=all_dict, param_grid=None)\n",
    "\n",
    "# Took 1 hour 15 mins to run and gave a public score of only 0.71089. Discarded."
   ]
  },
  {
   "cell_type": "markdown",
   "id": "d6eb459d",
   "metadata": {
    "papermill": {
     "duration": 0.074918,
     "end_time": "2023-08-13T23:20:51.337854",
     "exception": false,
     "start_time": "2023-08-13T23:20:51.262936",
     "status": "completed"
    },
    "tags": []
   },
   "source": [
    "### LightGBM  "
   ]
  },
  {
   "cell_type": "code",
   "execution_count": 144,
   "id": "a3dc2be7",
   "metadata": {
    "execution": {
     "iopub.execute_input": "2023-08-13T23:20:51.491610Z",
     "iopub.status.busy": "2023-08-13T23:20:51.490805Z",
     "iopub.status.idle": "2023-08-13T23:20:51.496359Z",
     "shell.execute_reply": "2023-08-13T23:20:51.494324Z"
    },
    "papermill": {
     "duration": 0.085733,
     "end_time": "2023-08-13T23:20:51.498935",
     "exception": false,
     "start_time": "2023-08-13T23:20:51.413202",
     "status": "completed"
    },
    "tags": []
   },
   "outputs": [],
   "source": [
    "# lgb = ltb.LGBMClassifier()\n",
    "# lgb"
   ]
  },
  {
   "cell_type": "code",
   "execution_count": 145,
   "id": "704a2b5d",
   "metadata": {
    "execution": {
     "iopub.execute_input": "2023-08-13T23:20:51.652275Z",
     "iopub.status.busy": "2023-08-13T23:20:51.651602Z",
     "iopub.status.idle": "2023-08-13T23:20:51.655413Z",
     "shell.execute_reply": "2023-08-13T23:20:51.654606Z"
    },
    "papermill": {
     "duration": 0.083377,
     "end_time": "2023-08-13T23:20:51.657994",
     "exception": false,
     "start_time": "2023-08-13T23:20:51.574617",
     "status": "completed"
    },
    "tags": []
   },
   "outputs": [],
   "source": [
    "# Try LightGBM with default settings\n",
    "# (Update): Public score only 0.77713. It was fast, took less than 5 mins (without GridSearchCV)\n",
    "\n",
    "# submit_v4(selected_model=ltb.LGBMClassifier(), selected_features=all_dict, param_grid=None)"
   ]
  },
  {
   "cell_type": "markdown",
   "id": "bac75fa5",
   "metadata": {
    "papermill": {
     "duration": 0.073843,
     "end_time": "2023-08-13T23:20:51.806474",
     "exception": false,
     "start_time": "2023-08-13T23:20:51.732631",
     "status": "completed"
    },
    "tags": []
   },
   "source": [
    "## Feature Engineering"
   ]
  },
  {
   "cell_type": "markdown",
   "id": "82ee3084",
   "metadata": {
    "papermill": {
     "duration": 0.073546,
     "end_time": "2023-08-13T23:20:51.953589",
     "exception": false,
     "start_time": "2023-08-13T23:20:51.880043",
     "status": "completed"
    },
    "tags": []
   },
   "source": [
    "### Plan  \n",
    "* Add a new column 'reviewWC' which has word count of 'reviewText'  \n",
    "    * Check if there is any relationship between 'reviewWC' and 'sentiment'\n",
    "* Work on vocabulary\n",
    "     * Use TfidfVectorizer and find out the vocabulary of 'reviewText' column for various ngrams\n",
    "     * Use RecursiveFeatureElimination (RFE) or RFECV to select 1000 top words/vocab for each ngram\n",
    "     * Use the final vocab (1000-3000 words) in the model and see how it performs compared to whole vocab\n",
    "\n",
    "`(Update): Code incorporated into the \"select_features\" function  `  \n",
    "`(Update): Many other new features incorporated into the \"select_features\" function too  `  \n",
    "\n"
   ]
  },
  {
   "cell_type": "markdown",
   "id": "ccd7f834",
   "metadata": {
    "papermill": {
     "duration": 0.0738,
     "end_time": "2023-08-13T23:20:52.101198",
     "exception": false,
     "start_time": "2023-08-13T23:20:52.027398",
     "status": "completed"
    },
    "tags": []
   },
   "source": [
    "# Back to vocab after success of version 63  "
   ]
  },
  {
   "cell_type": "code",
   "execution_count": 146,
   "id": "e34f1fbf",
   "metadata": {
    "execution": {
     "iopub.execute_input": "2023-08-13T23:20:52.251583Z",
     "iopub.status.busy": "2023-08-13T23:20:52.249619Z",
     "iopub.status.idle": "2023-08-13T23:20:52.270296Z",
     "shell.execute_reply": "2023-08-13T23:20:52.269423Z"
    },
    "papermill": {
     "duration": 0.098087,
     "end_time": "2023-08-13T23:20:52.272788",
     "exception": false,
     "start_time": "2023-08-13T23:20:52.174701",
     "status": "completed"
    },
    "tags": []
   },
   "outputs": [],
   "source": [
    "def submit_v4(selected_model=LogisticRegression(C=1, solver='liblinear', max_iter=100000), \n",
    "              selected_features={'txt': ['reviewText']}, \n",
    "              param_grid=None,\n",
    "              vocab=None,\n",
    "              vocab_usage='tfidf',\n",
    "              strip_accents='unicode', \n",
    "              add_countvec=False):\n",
    "    \n",
    "    print(\"\\nRunning the submit_v4 function...\")\n",
    "    \n",
    "    # Fine tune selected_features\n",
    "    if add_countvec:\n",
    "        if 'txt' in selected_features.keys():\n",
    "            if \"reviewText_2\" not in selected_features['txt']:\n",
    "                selected_features['txt'].append('reviewText_2')\n",
    "    if vocab:\n",
    "        if 'txt' in selected_features.keys():\n",
    "            if \"reviewText_3\" not in selected_features['txt']:\n",
    "                selected_features['txt'].append('reviewText_3')\n",
    "    print(f\"\\nSelected features: {selected_features}\")\n",
    "\n",
    "    \n",
    "    \n",
    "    # Build Pipeline\n",
    "    pipe = build_pipeline(selected_model, selected_features, param_grid=param_grid, \n",
    "                          vocab=vocab, vocab_usage='tfidf', \n",
    "                          strip_accents=strip_accents, add_countvec=add_countvec)\n",
    "    print(pipe)\n",
    "\n",
    "    \n",
    "    \n",
    "    # Features list\n",
    "    features = []\n",
    "    for item in selected_features.values():\n",
    "        features.extend(item)\n",
    " \n",
    "\n",
    "    # Merge and preprocess train and movies data  \n",
    "    merged = select_features(load_csv(\"train\"), load_csv(\"movies\"), row_thresh_null=None)    # Decide if you want to drop any rows containing lot of nulls\n",
    "    # Impute missing numerical values  \n",
    "    # Simple Imputer for ['audienceScore', 'runtimeMinutes', 'boxOffice'] and 'releaseDate' columns\n",
    "    si = SimpleImputer(strategy='median')\n",
    "    merged[['audienceScore', 'runtimeMinutes', 'boxOffice']] = si.fit_transform(merged[['audienceScore', 'runtimeMinutes', 'boxOffice']])\n",
    "    merged['releaseDate'] = merged[\"releaseDate\"].fillna(merged[\"releaseDate\"].median())    \n",
    "    # Add new columns as needed  \n",
    "    if add_countvec:\n",
    "        merged['reviewText_2'] = merged['reviewText']\n",
    "    if vocab:\n",
    "        merged['reviewText_3'] = merged['reviewText']\n",
    "        \n",
    "    X_train = merged.drop(labels=\"sentiment\", axis=1)\n",
    "    y_train = merged[\"sentiment\"]\n",
    "\n",
    "    X_train = X_train[features]\n",
    "    \n",
    "    \n",
    "    # Check1\n",
    "    print(\"\\nCheck 1 complete.\")\n",
    "    print(f\"Shape of X_train: {X_train.shape}\")\n",
    "    print(f\"Features in X_train: {X_train.columns}\")\n",
    "#     print(X_train.head())\n",
    "    \n",
    "    \n",
    "    # Fit \n",
    "    print(\"\\nTraining started with full pipeline...\")\n",
    "    pipe.fit(X_train, y_train)\n",
    "    \n",
    "    # Check2\n",
    "    print(\"\\nCheck 2 complete.\")\n",
    "    print(\"Details of the best model using full pipeline (GridSearchCV) on X_train: \")\n",
    "    print(f\"Best Params: {pipe.best_params_}\")\n",
    "    print(f\"Best Score: {pipe.best_score_}\")\n",
    "    \n",
    "    print(predict_on_missing_review_data(pipe, features, merged))    # Function defined above\n",
    "    \n",
    "        \n",
    "    # Predict on test.csv file\n",
    "    \n",
    "    # Merge and preprocess test and movies data  \n",
    "    merged_test = select_features(load_csv(\"test\"), load_csv(\"movies\"))\n",
    "    # Transform ['audienceScore', 'runtimeMinutes', 'boxOffice'] columns in merged_test using 'si' fitted on 'merged' df  \n",
    "    merged_test[['audienceScore', 'runtimeMinutes', 'boxOffice']] = si.transform(merged_test[['audienceScore', 'runtimeMinutes', 'boxOffice']])\n",
    "    # Fill 'releaseDate' column in 'merged_test' df with median from the train (merged) df  \n",
    "    merged_test['releaseDate'] = merged_test[\"releaseDate\"].fillna(merged[\"releaseDate\"].median())\n",
    "    # Add new columns as needed \n",
    "    if add_countvec:\n",
    "        merged_test['reviewText_2'] = merged_test['reviewText']\n",
    "    if vocab:\n",
    "        merged_test['reviewText_3'] = merged_test['reviewText']\n",
    "        \n",
    "    X_test = merged_test.copy()\n",
    "\n",
    "    X_test = X_test[features]\n",
    "    \n",
    "    \n",
    "    # Check3\n",
    "    print(\"\\nCheck 3 complete.\")\n",
    "    print(f\"Shape of X_test: {X_test.shape}\")\n",
    "    print(f\"Features in X_test: {X_test.columns}\")\n",
    "#     print(X_test.head())\n",
    "    \n",
    "    y_pred = pipe.predict(X_test)\n",
    "    \n",
    "    # Check4\n",
    "    print(\"\\nCheck 4 complete.\")\n",
    "#     cv_results_df = pd.DataFrame(pipe.cv_results_)\n",
    "    print(\"Details of the best model using full pipeline (GridSearchCV) on X_train: \")\n",
    "    print(f\"Best Estimator: {pipe.best_estimator_}\")\n",
    "    print(f\"Best Params: {pipe.best_params_}\")\n",
    "    print(f\"Best Score: {pipe.best_score_}\")\n",
    "    print(f\"Best Index: {pipe.best_index_}\")\n",
    "    print(f\"Refit Time: {pipe.refit_time_}\")\n",
    "#     print(f\"Shape of CV results dataframe: {cv_results_df.shape}\")\n",
    "    \n",
    "    pred_df = pd.DataFrame(y_pred)\n",
    "    pred_df.columns = [\"sentiment\"]\n",
    "    pred_df.index.name = \"id\"\n",
    "    pred_df.to_csv(\"submission.csv\")\n",
    "    \n",
    "    print(\"\\nSuccessfully created the submission file!!!\")\n",
    "    \n",
    "    return pipe.cv_results_"
   ]
  },
  {
   "cell_type": "code",
   "execution_count": 147,
   "id": "4df590c8",
   "metadata": {
    "execution": {
     "iopub.execute_input": "2023-08-13T23:20:52.431366Z",
     "iopub.status.busy": "2023-08-13T23:20:52.429764Z",
     "iopub.status.idle": "2023-08-13T23:20:52.439244Z",
     "shell.execute_reply": "2023-08-13T23:20:52.437293Z"
    },
    "papermill": {
     "duration": 0.093502,
     "end_time": "2023-08-13T23:20:52.441892",
     "exception": false,
     "start_time": "2023-08-13T23:20:52.348390",
     "status": "completed"
    },
    "tags": []
   },
   "outputs": [
    {
     "data": {
      "text/plain": [
       "Index(['movieid', 'reviewerName', 'isFrequentReviewer', 'reviewText',\n",
       "       'sentiment', 'title', 'audienceScore', 'rating', 'ratingContents',\n",
       "       'releaseDateTheaters', 'releaseDateStreaming', 'runtimeMinutes',\n",
       "       'genre', 'originalLanguage', 'director', 'boxOffice', 'distributor',\n",
       "       'soundType', 'reviewYN', 'reviewWC', 'genreSorted', 'rcSorted',\n",
       "       'releaseDate', 'releaseYear', 'releaseMonth', 'releaseDiff'],\n",
       "      dtype='object')"
      ]
     },
     "execution_count": 147,
     "metadata": {},
     "output_type": "execute_result"
    }
   ],
   "source": [
    "merged.columns"
   ]
  },
  {
   "cell_type": "code",
   "execution_count": 148,
   "id": "67096356",
   "metadata": {
    "execution": {
     "iopub.execute_input": "2023-08-13T23:20:52.595079Z",
     "iopub.status.busy": "2023-08-13T23:20:52.594002Z",
     "iopub.status.idle": "2023-08-13T23:20:52.603972Z",
     "shell.execute_reply": "2023-08-13T23:20:52.602403Z"
    },
    "papermill": {
     "duration": 0.088844,
     "end_time": "2023-08-13T23:20:52.607192",
     "exception": false,
     "start_time": "2023-08-13T23:20:52.518348",
     "status": "completed"
    },
    "tags": []
   },
   "outputs": [],
   "source": [
    "# Best #2\n",
    "v80_dict = {'cat': ['isFrequentReviewer', 'audScoreBins', 'boxOfficeBins'], \n",
    "                  'txt': ['reviewText', 'reviewerName', 'movieid', 'genre', 'director', \n",
    "                          'ratingContents', 'distributor']}\n",
    "# Best #1\n",
    "v88_dict = {'cat': ['isFrequentReviewer', 'audScoreBins', 'boxOfficeBins'],\n",
    "            'num': ['releaseDiff'],\n",
    "            'txt': ['reviewText', 'reviewerName', 'movieid', 'genre', 'director', \n",
    "                         'ratingContents', 'distributor']}\n",
    "\n",
    "v92_dict = {'cat': ['isFrequentReviewer', 'audScoreBins', 'boxOfficeBins', 'releaseDiffBins'],\n",
    "            'txt': ['reviewText', 'reviewerName', 'title', 'genre', 'director', \n",
    "                         'ratingContents', 'distributor']}\n",
    "\n",
    "# Best univariable datapoints dict\n",
    "best_uni_dict = {'cat': [\"isFrequentReviewer\", \"audScoreBins\"],\n",
    "                 'txt': ['reviewText','movieid', 'director', \"ratingContents\"]}\n",
    "\n",
    "# param_grids for LogisticRegression  \n",
    "\n",
    "# Best #1  \n",
    "# param_grid = {\n",
    "#     'model__C' : [1],\n",
    "#     'model__solver': ['saga'],\n",
    "#     \"model__fit_intercept\" : [True],\n",
    "#     \"model__dual\" : [False]\n",
    "#     }\n",
    "\n",
    "# working\n",
    "param_grid = {\n",
    "    'model__C' : [1],\n",
    "    'model__solver': ['saga'],\n",
    "    \"model__fit_intercept\" : [True],\n",
    "    \"model__dual\" : [False],\n",
    "#     \"model__class_weight\": ['balanced', None]\n",
    "}\n",
    "\n",
    "\n",
    "# param_grids for LinearSVC  \n",
    "\n",
    "# param_grid = {\n",
    "#     'model__C' : [1, 10, 20],\n",
    "#     'model__loss': ['hinge', 'squared_hinge'],\n",
    "#     \"model__fit_intercept\" : [True, False],\n",
    "# #     \"model__dual\" : [True, False] \n",
    "# }\n",
    "\n",
    "svm = LinearSVC(max_iter=10000, random_state=42)    # LinearSVC\n",
    "\n",
    "\n",
    "# Local testing\n",
    "# selected_mov = {'num': ['audienceScore', 'boxOffice', 'releaseDiff'], \n",
    "#                 'txt': ['movieid', 'genre', 'director', \n",
    "#                          'ratingContents', 'distributor']}\n",
    "# results = submit_v4(\n",
    "#             selected_features={'num': ['boxOffice']},\n",
    "#             add_countvec=False,\n",
    "#             vocab=None,\n",
    "#             vocab_usage='tfidf',\n",
    "#             param_grid=param_grid\n",
    "#          )\n",
    "\n",
    "# results = submit_v4(selected_model = DummyClassifier(strategy='constant', constant='NEGATIVE'),\n",
    "#             selected_features={'num': ['boxOffice']},\n",
    "#             add_countvec=False,\n",
    "#             vocab=None,\n",
    "#             vocab_usage='tfidf',\n",
    "#             param_grid={'model__strategy' : ['constant']}\n",
    "#          )\n",
    "\n",
    "# Main submission\n",
    "\n",
    "# results = submit_v4(\n",
    "#     selected_features=v88_dict,\n",
    "#     add_countvec=False,\n",
    "#     vocab=common_1_2_3_grams,\n",
    "#     vocab_usage='tfidf',\n",
    "#     param_grid=param_grid\n",
    "#     )\n",
    "\n",
    "# results"
   ]
  },
  {
   "cell_type": "markdown",
   "id": "7bada216",
   "metadata": {
    "papermill": {
     "duration": 0.074278,
     "end_time": "2023-08-13T23:20:52.755300",
     "exception": false,
     "start_time": "2023-08-13T23:20:52.681022",
     "status": "completed"
    },
    "tags": []
   },
   "source": [
    "### ratingContents analysis  "
   ]
  },
  {
   "cell_type": "code",
   "execution_count": 149,
   "id": "984d8690",
   "metadata": {
    "execution": {
     "iopub.execute_input": "2023-08-13T23:20:52.908663Z",
     "iopub.status.busy": "2023-08-13T23:20:52.908268Z",
     "iopub.status.idle": "2023-08-13T23:20:52.913393Z",
     "shell.execute_reply": "2023-08-13T23:20:52.912269Z"
    },
    "papermill": {
     "duration": 0.084928,
     "end_time": "2023-08-13T23:20:52.915473",
     "exception": false,
     "start_time": "2023-08-13T23:20:52.830545",
     "status": "completed"
    },
    "tags": []
   },
   "outputs": [],
   "source": [
    "# Try string split  \n",
    "# s = \"comedy, animation, adventure, fantasy\"\n",
    "# (\",\").join(sorted(s.split(\", \")))"
   ]
  },
  {
   "cell_type": "code",
   "execution_count": 150,
   "id": "67204d77",
   "metadata": {
    "execution": {
     "iopub.execute_input": "2023-08-13T23:20:53.067860Z",
     "iopub.status.busy": "2023-08-13T23:20:53.066963Z",
     "iopub.status.idle": "2023-08-13T23:20:53.072596Z",
     "shell.execute_reply": "2023-08-13T23:20:53.071223Z"
    },
    "papermill": {
     "duration": 0.084387,
     "end_time": "2023-08-13T23:20:53.075173",
     "exception": false,
     "start_time": "2023-08-13T23:20:52.990786",
     "status": "completed"
    },
    "tags": []
   },
   "outputs": [],
   "source": [
    "# ratingContents_analysis = merged[[\"ratingContents\", \"sentiment\"]].copy()\n",
    "# print(ratingContents_analysis.head())\n",
    "# ratingContents_analysis[\"rcSorted\"] = ratingContents_analysis[\"ratingContents\"].apply(lambda x: (\",\").join(sorted(x.strip(\"][\").split(\", \"))))\n",
    "# ratingContents_analysis[\"rcSorted\"] = ratingContents_analysis[\"rcSorted\"].apply(lambda x: re.sub(r\"'\", \"\", x))\n",
    "# ratingContents_analysis[\"rcSorted\"] = ratingContents_analysis[\"rcSorted\"].apply(lambda x: re.sub(r\"[/\\s]\", \"_\", x))\n",
    "# ratingContents_analysis.head(10)"
   ]
  },
  {
   "cell_type": "code",
   "execution_count": 151,
   "id": "0d305679",
   "metadata": {
    "execution": {
     "iopub.execute_input": "2023-08-13T23:20:53.229422Z",
     "iopub.status.busy": "2023-08-13T23:20:53.227468Z",
     "iopub.status.idle": "2023-08-13T23:20:53.233175Z",
     "shell.execute_reply": "2023-08-13T23:20:53.232144Z"
    },
    "papermill": {
     "duration": 0.083575,
     "end_time": "2023-08-13T23:20:53.235423",
     "exception": false,
     "start_time": "2023-08-13T23:20:53.151848",
     "status": "completed"
    },
    "tags": []
   },
   "outputs": [],
   "source": [
    "# cvec_rc = CountVectorizer(ngram_range=(1,1))\n",
    "# cvec_rc.fit(ratingContents_analysis['rcSorted'])\n",
    "# # len(cvec_rc.vocabulary_), cvec_rc.vocabulary_"
   ]
  },
  {
   "cell_type": "code",
   "execution_count": 152,
   "id": "bc4565bb",
   "metadata": {
    "execution": {
     "iopub.execute_input": "2023-08-13T23:20:53.386767Z",
     "iopub.status.busy": "2023-08-13T23:20:53.386175Z",
     "iopub.status.idle": "2023-08-13T23:20:53.391245Z",
     "shell.execute_reply": "2023-08-13T23:20:53.390004Z"
    },
    "papermill": {
     "duration": 0.083622,
     "end_time": "2023-08-13T23:20:53.394094",
     "exception": false,
     "start_time": "2023-08-13T23:20:53.310472",
     "status": "completed"
    },
    "tags": []
   },
   "outputs": [],
   "source": [
    "# genre_testing = cvec_g.transform(merged[\"genre\"])\n",
    "# print(genre_testing)"
   ]
  },
  {
   "cell_type": "markdown",
   "id": "b29e4685",
   "metadata": {
    "papermill": {
     "duration": 0.073107,
     "end_time": "2023-08-13T23:20:53.541963",
     "exception": false,
     "start_time": "2023-08-13T23:20:53.468856",
     "status": "completed"
    },
    "tags": []
   },
   "source": [
    "## Statistical tests  "
   ]
  },
  {
   "cell_type": "markdown",
   "id": "9baa4c2e",
   "metadata": {
    "papermill": {
     "duration": 0.0741,
     "end_time": "2023-08-13T23:20:53.689522",
     "exception": false,
     "start_time": "2023-08-13T23:20:53.615422",
     "status": "completed"
    },
    "tags": []
   },
   "source": [
    "[Go to genre](#genre_analysis)"
   ]
  },
  {
   "cell_type": "code",
   "execution_count": 153,
   "id": "90454a71",
   "metadata": {
    "execution": {
     "iopub.execute_input": "2023-08-13T23:20:53.843109Z",
     "iopub.status.busy": "2023-08-13T23:20:53.842642Z",
     "iopub.status.idle": "2023-08-13T23:20:53.848119Z",
     "shell.execute_reply": "2023-08-13T23:20:53.846210Z"
    },
    "papermill": {
     "duration": 0.083904,
     "end_time": "2023-08-13T23:20:53.850705",
     "exception": false,
     "start_time": "2023-08-13T23:20:53.766801",
     "status": "completed"
    },
    "tags": []
   },
   "outputs": [],
   "source": [
    "# print(merged['boxOffice'].head())\n",
    "# merged[\"boxOffice\"].describe()"
   ]
  },
  {
   "cell_type": "code",
   "execution_count": 154,
   "id": "86ce8ead",
   "metadata": {
    "execution": {
     "iopub.execute_input": "2023-08-13T23:20:54.000401Z",
     "iopub.status.busy": "2023-08-13T23:20:53.999987Z",
     "iopub.status.idle": "2023-08-13T23:20:54.006025Z",
     "shell.execute_reply": "2023-08-13T23:20:54.004175Z"
    },
    "papermill": {
     "duration": 0.084403,
     "end_time": "2023-08-13T23:20:54.008502",
     "exception": false,
     "start_time": "2023-08-13T23:20:53.924099",
     "status": "completed"
    },
    "tags": []
   },
   "outputs": [],
   "source": [
    "# Function for independent samples t-test on numerical columns  \n",
    "# def ttest_ind(feature):\n",
    "#     pos_grp = merged[feature].loc[merged['sentiment'] == \"POSITIVE\"]\n",
    "#     neg_grp = merged[feature].loc[merged['sentiment'] == \"NEGATIVE\"]\n",
    "\n",
    "#     print(pos_grp.shape, neg_grp.shape)\n",
    "#     print(pos_grp.describe(), neg_grp.describe())\n",
    "\n",
    "#     return stats.ttest_ind(pos_grp, neg_grp)"
   ]
  },
  {
   "cell_type": "code",
   "execution_count": 155,
   "id": "1e89bf73",
   "metadata": {
    "execution": {
     "iopub.execute_input": "2023-08-13T23:20:54.158534Z",
     "iopub.status.busy": "2023-08-13T23:20:54.158150Z",
     "iopub.status.idle": "2023-08-13T23:20:54.164181Z",
     "shell.execute_reply": "2023-08-13T23:20:54.162202Z"
    },
    "papermill": {
     "duration": 0.084379,
     "end_time": "2023-08-13T23:20:54.166975",
     "exception": false,
     "start_time": "2023-08-13T23:20:54.082596",
     "status": "completed"
    },
    "tags": []
   },
   "outputs": [],
   "source": [
    "# ttest_ind('boxOffice')"
   ]
  },
  {
   "cell_type": "code",
   "execution_count": 156,
   "id": "225f2905",
   "metadata": {
    "execution": {
     "iopub.execute_input": "2023-08-13T23:20:54.318318Z",
     "iopub.status.busy": "2023-08-13T23:20:54.317882Z",
     "iopub.status.idle": "2023-08-13T23:20:54.322768Z",
     "shell.execute_reply": "2023-08-13T23:20:54.321505Z"
    },
    "papermill": {
     "duration": 0.083843,
     "end_time": "2023-08-13T23:20:54.325332",
     "exception": false,
     "start_time": "2023-08-13T23:20:54.241489",
     "status": "completed"
    },
    "tags": []
   },
   "outputs": [],
   "source": [
    "# ttest_ind('runtimeMinutes')"
   ]
  },
  {
   "cell_type": "code",
   "execution_count": 157,
   "id": "11b03834",
   "metadata": {
    "execution": {
     "iopub.execute_input": "2023-08-13T23:20:54.479569Z",
     "iopub.status.busy": "2023-08-13T23:20:54.479177Z",
     "iopub.status.idle": "2023-08-13T23:20:54.485118Z",
     "shell.execute_reply": "2023-08-13T23:20:54.483476Z"
    },
    "papermill": {
     "duration": 0.086317,
     "end_time": "2023-08-13T23:20:54.487665",
     "exception": false,
     "start_time": "2023-08-13T23:20:54.401348",
     "status": "completed"
    },
    "tags": []
   },
   "outputs": [],
   "source": [
    "# ttest_ind('audienceScore')"
   ]
  },
  {
   "cell_type": "code",
   "execution_count": 158,
   "id": "2ae3cadd",
   "metadata": {
    "execution": {
     "iopub.execute_input": "2023-08-13T23:20:54.638351Z",
     "iopub.status.busy": "2023-08-13T23:20:54.637843Z",
     "iopub.status.idle": "2023-08-13T23:20:54.644634Z",
     "shell.execute_reply": "2023-08-13T23:20:54.643413Z"
    },
    "papermill": {
     "duration": 0.084827,
     "end_time": "2023-08-13T23:20:54.646775",
     "exception": false,
     "start_time": "2023-08-13T23:20:54.561948",
     "status": "completed"
    },
    "tags": []
   },
   "outputs": [],
   "source": [
    "# sns.boxplot(x=merged['sentiment'], y=merged['boxOffice'])"
   ]
  },
  {
   "cell_type": "markdown",
   "id": "d52594c4",
   "metadata": {
    "papermill": {
     "duration": 0.083211,
     "end_time": "2023-08-13T23:20:54.922583",
     "exception": false,
     "start_time": "2023-08-13T23:20:54.839372",
     "status": "completed"
    },
    "tags": []
   },
   "source": [
    "## <div id='genre_analysis'>Genre analysis</div>"
   ]
  },
  {
   "cell_type": "code",
   "execution_count": 159,
   "id": "72fe98ee",
   "metadata": {
    "execution": {
     "iopub.execute_input": "2023-08-13T23:20:55.083331Z",
     "iopub.status.busy": "2023-08-13T23:20:55.082627Z",
     "iopub.status.idle": "2023-08-13T23:20:55.087946Z",
     "shell.execute_reply": "2023-08-13T23:20:55.086760Z"
    },
    "papermill": {
     "duration": 0.089865,
     "end_time": "2023-08-13T23:20:55.089901",
     "exception": false,
     "start_time": "2023-08-13T23:20:55.000036",
     "status": "completed"
    },
    "tags": []
   },
   "outputs": [],
   "source": [
    "# genre_analysis = merged[[\"genre\", \"genreSorted\", \"sentiment\"]].copy()\n",
    "# # print(genre_analysis.head())\n",
    "# # genre_analysis[\"genre\"] = genre_analysis[\"genre\"].apply(lambda x: (\",\").join(sorted(x.split(\", \"))))\n",
    "# genre_analysis.head()"
   ]
  },
  {
   "cell_type": "code",
   "execution_count": 160,
   "id": "814fe106",
   "metadata": {
    "execution": {
     "iopub.execute_input": "2023-08-13T23:20:55.249990Z",
     "iopub.status.busy": "2023-08-13T23:20:55.249361Z",
     "iopub.status.idle": "2023-08-13T23:20:55.253500Z",
     "shell.execute_reply": "2023-08-13T23:20:55.252854Z"
    },
    "papermill": {
     "duration": 0.08338,
     "end_time": "2023-08-13T23:20:55.255301",
     "exception": false,
     "start_time": "2023-08-13T23:20:55.171921",
     "status": "completed"
    },
    "tags": []
   },
   "outputs": [],
   "source": [
    "# cvec_g = CountVectorizer(ngram_range=(1,3))\n",
    "# cvec_g.fit(genre_analysis['genre'])\n",
    "# # len(cvec_g.vocabulary_), cvec_g.vocabulary_"
   ]
  },
  {
   "cell_type": "code",
   "execution_count": 161,
   "id": "edb5312d",
   "metadata": {
    "execution": {
     "iopub.execute_input": "2023-08-13T23:20:55.409056Z",
     "iopub.status.busy": "2023-08-13T23:20:55.408141Z",
     "iopub.status.idle": "2023-08-13T23:20:55.413552Z",
     "shell.execute_reply": "2023-08-13T23:20:55.412261Z"
    },
    "papermill": {
     "duration": 0.085396,
     "end_time": "2023-08-13T23:20:55.415997",
     "exception": false,
     "start_time": "2023-08-13T23:20:55.330601",
     "status": "completed"
    },
    "tags": []
   },
   "outputs": [],
   "source": [
    "# cvec_gSorted = CountVectorizer(ngram_range=(1,3))\n",
    "# cvec_gSorted.fit(genre_analysis['genreSorted'])\n",
    "# len(cvec_gSorted.vocabulary_), cvec_gSorted.vocabulary_"
   ]
  },
  {
   "cell_type": "code",
   "execution_count": 162,
   "id": "6be7e458",
   "metadata": {
    "execution": {
     "iopub.execute_input": "2023-08-13T23:20:55.571336Z",
     "iopub.status.busy": "2023-08-13T23:20:55.570651Z",
     "iopub.status.idle": "2023-08-13T23:20:55.574954Z",
     "shell.execute_reply": "2023-08-13T23:20:55.574164Z"
    },
    "papermill": {
     "duration": 0.082336,
     "end_time": "2023-08-13T23:20:55.576876",
     "exception": false,
     "start_time": "2023-08-13T23:20:55.494540",
     "status": "completed"
    },
    "tags": []
   },
   "outputs": [],
   "source": [
    "# genre_testing = cvec_g.transform(merged[\"genre\"])\n",
    "# # print(genre_testing)"
   ]
  },
  {
   "cell_type": "code",
   "execution_count": 163,
   "id": "f4d4030d",
   "metadata": {
    "execution": {
     "iopub.execute_input": "2023-08-13T23:20:55.727892Z",
     "iopub.status.busy": "2023-08-13T23:20:55.727462Z",
     "iopub.status.idle": "2023-08-13T23:20:55.731554Z",
     "shell.execute_reply": "2023-08-13T23:20:55.730576Z"
    },
    "papermill": {
     "duration": 0.082131,
     "end_time": "2023-08-13T23:20:55.733751",
     "exception": false,
     "start_time": "2023-08-13T23:20:55.651620",
     "status": "completed"
    },
    "tags": []
   },
   "outputs": [],
   "source": [
    "# genre_counts_testing = merged[[\"genre\", \"sentiment\"]].copy()\n",
    "# genre_counts_testing[\"gCount\"] = genre_counts_testing.apply(lambda x: len(str(x[\"genre\"]).split()), axis=1)\n",
    "# genre_counts_testing"
   ]
  },
  {
   "cell_type": "code",
   "execution_count": 164,
   "id": "6e394a76",
   "metadata": {
    "execution": {
     "iopub.execute_input": "2023-08-13T23:20:55.887627Z",
     "iopub.status.busy": "2023-08-13T23:20:55.887211Z",
     "iopub.status.idle": "2023-08-13T23:20:55.891486Z",
     "shell.execute_reply": "2023-08-13T23:20:55.890492Z"
    },
    "papermill": {
     "duration": 0.084209,
     "end_time": "2023-08-13T23:20:55.894081",
     "exception": false,
     "start_time": "2023-08-13T23:20:55.809872",
     "status": "completed"
    },
    "tags": []
   },
   "outputs": [],
   "source": [
    "# sns.boxplot(y=genre_counts_testing[\"gCount\"], x=genre_counts_testing[\"sentiment\"])"
   ]
  },
  {
   "cell_type": "code",
   "execution_count": 165,
   "id": "11ef1c94",
   "metadata": {
    "execution": {
     "iopub.execute_input": "2023-08-13T23:20:56.046340Z",
     "iopub.status.busy": "2023-08-13T23:20:56.045188Z",
     "iopub.status.idle": "2023-08-13T23:20:56.051334Z",
     "shell.execute_reply": "2023-08-13T23:20:56.050139Z"
    },
    "papermill": {
     "duration": 0.084677,
     "end_time": "2023-08-13T23:20:56.053852",
     "exception": false,
     "start_time": "2023-08-13T23:20:55.969175",
     "status": "completed"
    },
    "tags": []
   },
   "outputs": [],
   "source": [
    "# sns.boxplot(y=merged[\"reviewWC\"], x=merged[\"sentiment\"])"
   ]
  },
  {
   "cell_type": "code",
   "execution_count": 166,
   "id": "dd628f29",
   "metadata": {
    "execution": {
     "iopub.execute_input": "2023-08-13T23:20:56.205654Z",
     "iopub.status.busy": "2023-08-13T23:20:56.205245Z",
     "iopub.status.idle": "2023-08-13T23:20:56.210875Z",
     "shell.execute_reply": "2023-08-13T23:20:56.209236Z"
    },
    "papermill": {
     "duration": 0.083549,
     "end_time": "2023-08-13T23:20:56.212866",
     "exception": false,
     "start_time": "2023-08-13T23:20:56.129317",
     "status": "completed"
    },
    "tags": []
   },
   "outputs": [],
   "source": [
    "# audienceScore bins\n",
    "# asc = merged[['audienceScore', 'sentiment']].copy()\n",
    "# asc.head()"
   ]
  },
  {
   "cell_type": "code",
   "execution_count": 167,
   "id": "3d5b4440",
   "metadata": {
    "execution": {
     "iopub.execute_input": "2023-08-13T23:20:56.364366Z",
     "iopub.status.busy": "2023-08-13T23:20:56.363898Z",
     "iopub.status.idle": "2023-08-13T23:20:56.368366Z",
     "shell.execute_reply": "2023-08-13T23:20:56.367380Z"
    },
    "papermill": {
     "duration": 0.083167,
     "end_time": "2023-08-13T23:20:56.370666",
     "exception": false,
     "start_time": "2023-08-13T23:20:56.287499",
     "status": "completed"
    },
    "tags": []
   },
   "outputs": [],
   "source": [
    "# Binning numerical features  \n",
    "\n",
    "# print(merged[\"runtimeBins\"].value_counts())\n",
    "# sns.displot(merged[\"runtimeBins\"])"
   ]
  },
  {
   "cell_type": "code",
   "execution_count": 168,
   "id": "3e0df451",
   "metadata": {
    "execution": {
     "iopub.execute_input": "2023-08-13T23:20:56.524206Z",
     "iopub.status.busy": "2023-08-13T23:20:56.523474Z",
     "iopub.status.idle": "2023-08-13T23:20:56.529534Z",
     "shell.execute_reply": "2023-08-13T23:20:56.527184Z"
    },
    "papermill": {
     "duration": 0.086514,
     "end_time": "2023-08-13T23:20:56.532495",
     "exception": false,
     "start_time": "2023-08-13T23:20:56.445981",
     "status": "completed"
    },
    "tags": []
   },
   "outputs": [],
   "source": [
    "# Chi-square test for isFrequentReviewer column and sentiment column   \n",
    "\n",
    "# contingency_table = pd.crosstab(traindf['isFrequentReviewer'], traindf['sentiment'])\n",
    "# print(contingency_table)\n",
    "# stats.chi2_contingency(contingency_table)"
   ]
  },
  {
   "cell_type": "markdown",
   "id": "84e9f61f",
   "metadata": {
    "papermill": {
     "duration": 0.075472,
     "end_time": "2023-08-13T23:20:56.684191",
     "exception": false,
     "start_time": "2023-08-13T23:20:56.608719",
     "status": "completed"
    },
    "tags": []
   },
   "source": [
    "## Baseline performance of 'reviewText' column  "
   ]
  },
  {
   "cell_type": "code",
   "execution_count": 169,
   "id": "1f5830fb",
   "metadata": {
    "execution": {
     "iopub.execute_input": "2023-08-13T23:20:56.839468Z",
     "iopub.status.busy": "2023-08-13T23:20:56.839054Z",
     "iopub.status.idle": "2023-08-13T23:20:56.845268Z",
     "shell.execute_reply": "2023-08-13T23:20:56.843485Z"
    },
    "papermill": {
     "duration": 0.085624,
     "end_time": "2023-08-13T23:20:56.848234",
     "exception": false,
     "start_time": "2023-08-13T23:20:56.762610",
     "status": "completed"
    },
    "tags": []
   },
   "outputs": [],
   "source": [
    "# rt_dict = {'txt': ['reviewText']}\n",
    "# rt_dict"
   ]
  },
  {
   "cell_type": "code",
   "execution_count": 170,
   "id": "eb5eb2db",
   "metadata": {
    "execution": {
     "iopub.execute_input": "2023-08-13T23:20:57.003143Z",
     "iopub.status.busy": "2023-08-13T23:20:57.002723Z",
     "iopub.status.idle": "2023-08-13T23:20:57.008339Z",
     "shell.execute_reply": "2023-08-13T23:20:57.006710Z"
    },
    "papermill": {
     "duration": 0.087777,
     "end_time": "2023-08-13T23:20:57.010860",
     "exception": false,
     "start_time": "2023-08-13T23:20:56.923083",
     "status": "completed"
    },
    "tags": []
   },
   "outputs": [],
   "source": [
    "# submit_v4(selected_model=LogisticRegression(C=5, solver=\"saga\", max_iter=100000),\n",
    "#           selected_features=rt_dict,\n",
    "#           param_grid=None,\n",
    "#           vocab=None)"
   ]
  },
  {
   "cell_type": "markdown",
   "id": "623a5fcc",
   "metadata": {
    "papermill": {
     "duration": 0.073564,
     "end_time": "2023-08-13T23:20:57.159623",
     "exception": false,
     "start_time": "2023-08-13T23:20:57.086059",
     "status": "completed"
    },
    "tags": []
   },
   "source": [
    "## RFE  "
   ]
  },
  {
   "cell_type": "code",
   "execution_count": 171,
   "id": "cc4c1fb5",
   "metadata": {
    "execution": {
     "iopub.execute_input": "2023-08-13T23:20:57.311276Z",
     "iopub.status.busy": "2023-08-13T23:20:57.310878Z",
     "iopub.status.idle": "2023-08-13T23:20:57.316987Z",
     "shell.execute_reply": "2023-08-13T23:20:57.315165Z"
    },
    "papermill": {
     "duration": 0.08576,
     "end_time": "2023-08-13T23:20:57.319517",
     "exception": false,
     "start_time": "2023-08-13T23:20:57.233757",
     "status": "completed"
    },
    "tags": []
   },
   "outputs": [],
   "source": [
    "# def fs_rfe(selector, text_df, labels, ngram_range=(1,1)):\n",
    "#     text_df_ngram = TfidfVectorizer(ngram_range=ngram_range, stop_words='english').fit_transform(text_df)\n",
    "#     print(\"text_df was vectorized using TF-IDF vectorizer with ngram_range: \", ngram_range)\n",
    "#     print(\"text_df.shape: \", text_df.shape)\n",
    "#     print(\"labels.shape: \", labels.shape)\n",
    "#     print(\"text_df_ngram.shape: \", text_df_ngram.shape)\n",
    "#     print()\n",
    "\n",
    "#     print(\"Starting RFE fit...\")\n",
    "#     selector.fit(text_df_ngram, labels)\n",
    "#     print(\"RFE fit complete.\\n\")\n",
    "    \n",
    "#     print(\"selector.n_features_: \", selector.n_features_)   \n",
    "#     print(\"selector.n_features_in_: \", selector.n_features_in_)\n",
    "#     print(\"selector.support_.shape: \", selector.support_.shape)\n",
    "\n",
    "#     return selector.support_"
   ]
  },
  {
   "cell_type": "markdown",
   "id": "5d7df882",
   "metadata": {
    "papermill": {
     "duration": 0.073954,
     "end_time": "2023-08-13T23:20:57.469583",
     "exception": false,
     "start_time": "2023-08-13T23:20:57.395629",
     "status": "completed"
    },
    "tags": []
   },
   "source": [
    "`RFE for unigrams`  "
   ]
  },
  {
   "cell_type": "code",
   "execution_count": 172,
   "id": "424972a5",
   "metadata": {
    "execution": {
     "iopub.execute_input": "2023-08-13T23:20:57.622034Z",
     "iopub.status.busy": "2023-08-13T23:20:57.621587Z",
     "iopub.status.idle": "2023-08-13T23:20:57.628417Z",
     "shell.execute_reply": "2023-08-13T23:20:57.626321Z"
    },
    "papermill": {
     "duration": 0.086386,
     "end_time": "2023-08-13T23:20:57.631231",
     "exception": false,
     "start_time": "2023-08-13T23:20:57.544845",
     "status": "completed"
    },
    "tags": []
   },
   "outputs": [],
   "source": [
    "# estimator_rfe_1 = LogisticRegression(solver='saga', max_iter=100000)\n",
    "# selector_rfe_1 = RFE(estimator_rfe_1, step=0.1, n_features_to_select=30000)"
   ]
  },
  {
   "cell_type": "code",
   "execution_count": 173,
   "id": "3f818209",
   "metadata": {
    "execution": {
     "iopub.execute_input": "2023-08-13T23:20:57.784860Z",
     "iopub.status.busy": "2023-08-13T23:20:57.784406Z",
     "iopub.status.idle": "2023-08-13T23:20:57.790260Z",
     "shell.execute_reply": "2023-08-13T23:20:57.788679Z"
    },
    "papermill": {
     "duration": 0.084808,
     "end_time": "2023-08-13T23:20:57.792805",
     "exception": false,
     "start_time": "2023-08-13T23:20:57.707997",
     "status": "completed"
    },
    "tags": []
   },
   "outputs": [],
   "source": [
    "# rfe_1_feat_mask = fs_rfe(selector_rfe_1, rt_senti[\"reviewText\"], rt_senti[\"sentiment\"], ngram_range=(1,1))\n",
    "# rfe_1_feat_mask"
   ]
  },
  {
   "cell_type": "code",
   "execution_count": 174,
   "id": "c2350fd0",
   "metadata": {
    "execution": {
     "iopub.execute_input": "2023-08-13T23:20:57.945618Z",
     "iopub.status.busy": "2023-08-13T23:20:57.945225Z",
     "iopub.status.idle": "2023-08-13T23:20:57.950638Z",
     "shell.execute_reply": "2023-08-13T23:20:57.949240Z"
    },
    "papermill": {
     "duration": 0.085159,
     "end_time": "2023-08-13T23:20:57.953220",
     "exception": false,
     "start_time": "2023-08-13T23:20:57.868061",
     "status": "completed"
    },
    "tags": []
   },
   "outputs": [],
   "source": [
    "# voc_1gram_rfe = list(compress(voc_1gram, rfe_1_feat_mask))\n",
    "# len(voc_1gram_rfe), voc_1gram_rfe[:10]"
   ]
  },
  {
   "cell_type": "markdown",
   "id": "0690740b",
   "metadata": {
    "papermill": {
     "duration": 0.076991,
     "end_time": "2023-08-13T23:20:58.108226",
     "exception": false,
     "start_time": "2023-08-13T23:20:58.031235",
     "status": "completed"
    },
    "tags": []
   },
   "source": [
    "`RFE for bigrams`  "
   ]
  },
  {
   "cell_type": "code",
   "execution_count": 175,
   "id": "6b60e055",
   "metadata": {
    "execution": {
     "iopub.execute_input": "2023-08-13T23:20:58.264261Z",
     "iopub.status.busy": "2023-08-13T23:20:58.262518Z",
     "iopub.status.idle": "2023-08-13T23:20:58.269384Z",
     "shell.execute_reply": "2023-08-13T23:20:58.268035Z"
    },
    "papermill": {
     "duration": 0.087942,
     "end_time": "2023-08-13T23:20:58.271989",
     "exception": false,
     "start_time": "2023-08-13T23:20:58.184047",
     "status": "completed"
    },
    "tags": []
   },
   "outputs": [],
   "source": [
    "# estimator_rfe_2 = LogisticRegression(solver='saga', max_iter=100000)\n",
    "# selector_rfe_2 = RFE(estimator_rfe_2, step=0.1, n_features_to_select=50000)"
   ]
  },
  {
   "cell_type": "code",
   "execution_count": 176,
   "id": "c5e9dbd5",
   "metadata": {
    "execution": {
     "iopub.execute_input": "2023-08-13T23:20:58.424052Z",
     "iopub.status.busy": "2023-08-13T23:20:58.423400Z",
     "iopub.status.idle": "2023-08-13T23:20:58.429032Z",
     "shell.execute_reply": "2023-08-13T23:20:58.426879Z"
    },
    "papermill": {
     "duration": 0.08395,
     "end_time": "2023-08-13T23:20:58.431805",
     "exception": false,
     "start_time": "2023-08-13T23:20:58.347855",
     "status": "completed"
    },
    "tags": []
   },
   "outputs": [],
   "source": [
    "# rfe_2_feat_mask = fs_rfe(selector_rfe_2, rt_senti[\"reviewText\"], rt_senti[\"sentiment\"], ngram_range=(2,2))\n",
    "# rfe_2_feat_mask"
   ]
  },
  {
   "cell_type": "code",
   "execution_count": 177,
   "id": "030442f5",
   "metadata": {
    "execution": {
     "iopub.execute_input": "2023-08-13T23:20:58.583859Z",
     "iopub.status.busy": "2023-08-13T23:20:58.583335Z",
     "iopub.status.idle": "2023-08-13T23:20:58.588610Z",
     "shell.execute_reply": "2023-08-13T23:20:58.587249Z"
    },
    "papermill": {
     "duration": 0.084614,
     "end_time": "2023-08-13T23:20:58.591187",
     "exception": false,
     "start_time": "2023-08-13T23:20:58.506573",
     "status": "completed"
    },
    "tags": []
   },
   "outputs": [],
   "source": [
    "# voc_2gram_rfe = list(compress(voc_2gram, rfe_2_feat_mask))\n",
    "# len(voc_2gram_rfe), voc_2gram_rfe[:10]"
   ]
  },
  {
   "cell_type": "markdown",
   "id": "96430a58",
   "metadata": {
    "papermill": {
     "duration": 0.075705,
     "end_time": "2023-08-13T23:20:58.741782",
     "exception": false,
     "start_time": "2023-08-13T23:20:58.666077",
     "status": "completed"
    },
    "tags": []
   },
   "source": [
    "## Final RFE-derived vocabulary  "
   ]
  },
  {
   "cell_type": "code",
   "execution_count": 178,
   "id": "923e87bc",
   "metadata": {
    "execution": {
     "iopub.execute_input": "2023-08-13T23:20:58.895233Z",
     "iopub.status.busy": "2023-08-13T23:20:58.894774Z",
     "iopub.status.idle": "2023-08-13T23:20:58.899802Z",
     "shell.execute_reply": "2023-08-13T23:20:58.898078Z"
    },
    "papermill": {
     "duration": 0.086145,
     "end_time": "2023-08-13T23:20:58.902552",
     "exception": false,
     "start_time": "2023-08-13T23:20:58.816407",
     "status": "completed"
    },
    "tags": []
   },
   "outputs": [],
   "source": [
    "# rfe_vocab = voc_1gram_rfe + voc_2gram_rfe\n",
    "# len(rfe_vocab), rfe_vocab[:10], rfe_vocab[-10:]"
   ]
  },
  {
   "cell_type": "code",
   "execution_count": 179,
   "id": "3a526899",
   "metadata": {
    "execution": {
     "iopub.execute_input": "2023-08-13T23:20:59.056610Z",
     "iopub.status.busy": "2023-08-13T23:20:59.056044Z",
     "iopub.status.idle": "2023-08-13T23:20:59.061587Z",
     "shell.execute_reply": "2023-08-13T23:20:59.060101Z"
    },
    "papermill": {
     "duration": 0.086429,
     "end_time": "2023-08-13T23:20:59.064586",
     "exception": false,
     "start_time": "2023-08-13T23:20:58.978157",
     "status": "completed"
    },
    "tags": []
   },
   "outputs": [],
   "source": [
    "## Test RFE obtained vocabulary in final pipeline (only with reviewText)  \n",
    "# submit_v4(selected_model=LogisticRegression(C=5, solver=\"saga\", max_iter=100000),\n",
    "#           selected_features=rt_dict,\n",
    "#           param_grid=None,\n",
    "#           vocab=rfe_vocab)"
   ]
  },
  {
   "cell_type": "markdown",
   "id": "7fde4770",
   "metadata": {
    "papermill": {
     "duration": 0.075778,
     "end_time": "2023-08-13T23:20:59.217204",
     "exception": false,
     "start_time": "2023-08-13T23:20:59.141426",
     "status": "completed"
    },
    "tags": []
   },
   "source": [
    "## Use rfe_vocab in final pipeline with all params  "
   ]
  },
  {
   "cell_type": "code",
   "execution_count": 180,
   "id": "5510c733",
   "metadata": {
    "execution": {
     "iopub.execute_input": "2023-08-13T23:20:59.371309Z",
     "iopub.status.busy": "2023-08-13T23:20:59.370915Z",
     "iopub.status.idle": "2023-08-13T23:20:59.376691Z",
     "shell.execute_reply": "2023-08-13T23:20:59.374935Z"
    },
    "papermill": {
     "duration": 0.085164,
     "end_time": "2023-08-13T23:20:59.379333",
     "exception": false,
     "start_time": "2023-08-13T23:20:59.294169",
     "status": "completed"
    },
    "tags": []
   },
   "outputs": [],
   "source": [
    "# submit_v4(selected_model=LogisticRegression(max_iter=100000),\n",
    "#           selected_features=all_dict,\n",
    "#           param_grid=param_grid,\n",
    "#           vocab=rfe_vocab)"
   ]
  },
  {
   "cell_type": "code",
   "execution_count": 181,
   "id": "9fe58784",
   "metadata": {
    "execution": {
     "iopub.execute_input": "2023-08-13T23:20:59.534683Z",
     "iopub.status.busy": "2023-08-13T23:20:59.534317Z",
     "iopub.status.idle": "2023-08-13T23:20:59.548928Z",
     "shell.execute_reply": "2023-08-13T23:20:59.547317Z"
    },
    "papermill": {
     "duration": 0.095168,
     "end_time": "2023-08-13T23:20:59.551722",
     "exception": false,
     "start_time": "2023-08-13T23:20:59.456554",
     "status": "completed"
    },
    "tags": []
   },
   "outputs": [
    {
     "data": {
      "text/html": [
       "<style>#sk-container-id-1 {color: black;background-color: white;}#sk-container-id-1 pre{padding: 0;}#sk-container-id-1 div.sk-toggleable {background-color: white;}#sk-container-id-1 label.sk-toggleable__label {cursor: pointer;display: block;width: 100%;margin-bottom: 0;padding: 0.3em;box-sizing: border-box;text-align: center;}#sk-container-id-1 label.sk-toggleable__label-arrow:before {content: \"▸\";float: left;margin-right: 0.25em;color: #696969;}#sk-container-id-1 label.sk-toggleable__label-arrow:hover:before {color: black;}#sk-container-id-1 div.sk-estimator:hover label.sk-toggleable__label-arrow:before {color: black;}#sk-container-id-1 div.sk-toggleable__content {max-height: 0;max-width: 0;overflow: hidden;text-align: left;background-color: #f0f8ff;}#sk-container-id-1 div.sk-toggleable__content pre {margin: 0.2em;color: black;border-radius: 0.25em;background-color: #f0f8ff;}#sk-container-id-1 input.sk-toggleable__control:checked~div.sk-toggleable__content {max-height: 200px;max-width: 100%;overflow: auto;}#sk-container-id-1 input.sk-toggleable__control:checked~label.sk-toggleable__label-arrow:before {content: \"▾\";}#sk-container-id-1 div.sk-estimator input.sk-toggleable__control:checked~label.sk-toggleable__label {background-color: #d4ebff;}#sk-container-id-1 div.sk-label input.sk-toggleable__control:checked~label.sk-toggleable__label {background-color: #d4ebff;}#sk-container-id-1 input.sk-hidden--visually {border: 0;clip: rect(1px 1px 1px 1px);clip: rect(1px, 1px, 1px, 1px);height: 1px;margin: -1px;overflow: hidden;padding: 0;position: absolute;width: 1px;}#sk-container-id-1 div.sk-estimator {font-family: monospace;background-color: #f0f8ff;border: 1px dotted black;border-radius: 0.25em;box-sizing: border-box;margin-bottom: 0.5em;}#sk-container-id-1 div.sk-estimator:hover {background-color: #d4ebff;}#sk-container-id-1 div.sk-parallel-item::after {content: \"\";width: 100%;border-bottom: 1px solid gray;flex-grow: 1;}#sk-container-id-1 div.sk-label:hover label.sk-toggleable__label {background-color: #d4ebff;}#sk-container-id-1 div.sk-serial::before {content: \"\";position: absolute;border-left: 1px solid gray;box-sizing: border-box;top: 0;bottom: 0;left: 50%;z-index: 0;}#sk-container-id-1 div.sk-serial {display: flex;flex-direction: column;align-items: center;background-color: white;padding-right: 0.2em;padding-left: 0.2em;position: relative;}#sk-container-id-1 div.sk-item {position: relative;z-index: 1;}#sk-container-id-1 div.sk-parallel {display: flex;align-items: stretch;justify-content: center;background-color: white;position: relative;}#sk-container-id-1 div.sk-item::before, #sk-container-id-1 div.sk-parallel-item::before {content: \"\";position: absolute;border-left: 1px solid gray;box-sizing: border-box;top: 0;bottom: 0;left: 50%;z-index: -1;}#sk-container-id-1 div.sk-parallel-item {display: flex;flex-direction: column;z-index: 1;position: relative;background-color: white;}#sk-container-id-1 div.sk-parallel-item:first-child::after {align-self: flex-end;width: 50%;}#sk-container-id-1 div.sk-parallel-item:last-child::after {align-self: flex-start;width: 50%;}#sk-container-id-1 div.sk-parallel-item:only-child::after {width: 0;}#sk-container-id-1 div.sk-dashed-wrapped {border: 1px dashed gray;margin: 0 0.4em 0.5em 0.4em;box-sizing: border-box;padding-bottom: 0.4em;background-color: white;}#sk-container-id-1 div.sk-label label {font-family: monospace;font-weight: bold;display: inline-block;line-height: 1.2em;}#sk-container-id-1 div.sk-label-container {text-align: center;}#sk-container-id-1 div.sk-container {/* jupyter's `normalize.less` sets `[hidden] { display: none; }` but bootstrap.min.css set `[hidden] { display: none !important; }` so we also need the `!important` here to be able to override the default hidden behavior on the sphinx rendered scikit-learn.org. See: https://github.com/scikit-learn/scikit-learn/issues/21755 */display: inline-block !important;position: relative;}#sk-container-id-1 div.sk-text-repr-fallback {display: none;}</style><div id=\"sk-container-id-1\" class=\"sk-top-container\"><div class=\"sk-text-repr-fallback\"><pre>AdaBoostClassifier(estimator=LogisticRegression(C=5, max_iter=100000,\n",
       "                                                solver=&#x27;saga&#x27;))</pre><b>In a Jupyter environment, please rerun this cell to show the HTML representation or trust the notebook. <br />On GitHub, the HTML representation is unable to render, please try loading this page with nbviewer.org.</b></div><div class=\"sk-container\" hidden><div class=\"sk-item sk-dashed-wrapped\"><div class=\"sk-label-container\"><div class=\"sk-label sk-toggleable\"><input class=\"sk-toggleable__control sk-hidden--visually\" id=\"sk-estimator-id-1\" type=\"checkbox\" ><label for=\"sk-estimator-id-1\" class=\"sk-toggleable__label sk-toggleable__label-arrow\">AdaBoostClassifier</label><div class=\"sk-toggleable__content\"><pre>AdaBoostClassifier(estimator=LogisticRegression(C=5, max_iter=100000,\n",
       "                                                solver=&#x27;saga&#x27;))</pre></div></div></div><div class=\"sk-parallel\"><div class=\"sk-parallel-item\"><div class=\"sk-item\"><div class=\"sk-label-container\"><div class=\"sk-label sk-toggleable\"><input class=\"sk-toggleable__control sk-hidden--visually\" id=\"sk-estimator-id-2\" type=\"checkbox\" ><label for=\"sk-estimator-id-2\" class=\"sk-toggleable__label sk-toggleable__label-arrow\">estimator: LogisticRegression</label><div class=\"sk-toggleable__content\"><pre>LogisticRegression(C=5, max_iter=100000, solver=&#x27;saga&#x27;)</pre></div></div></div><div class=\"sk-serial\"><div class=\"sk-item\"><div class=\"sk-estimator sk-toggleable\"><input class=\"sk-toggleable__control sk-hidden--visually\" id=\"sk-estimator-id-3\" type=\"checkbox\" ><label for=\"sk-estimator-id-3\" class=\"sk-toggleable__label sk-toggleable__label-arrow\">LogisticRegression</label><div class=\"sk-toggleable__content\"><pre>LogisticRegression(C=5, max_iter=100000, solver=&#x27;saga&#x27;)</pre></div></div></div></div></div></div></div></div></div></div>"
      ],
      "text/plain": [
       "AdaBoostClassifier(estimator=LogisticRegression(C=5, max_iter=100000,\n",
       "                                                solver='saga'))"
      ]
     },
     "execution_count": 181,
     "metadata": {},
     "output_type": "execute_result"
    }
   ],
   "source": [
    "adc = AdaBoostClassifier(estimator=LogisticRegression(C=5, solver=\"saga\", max_iter=100000), n_estimators=50)\n",
    "adc"
   ]
  },
  {
   "cell_type": "code",
   "execution_count": 182,
   "id": "17c8465e",
   "metadata": {
    "execution": {
     "iopub.execute_input": "2023-08-13T23:20:59.705340Z",
     "iopub.status.busy": "2023-08-13T23:20:59.704947Z",
     "iopub.status.idle": "2023-08-13T23:20:59.709360Z",
     "shell.execute_reply": "2023-08-13T23:20:59.708377Z"
    },
    "papermill": {
     "duration": 0.08242,
     "end_time": "2023-08-13T23:20:59.711869",
     "exception": false,
     "start_time": "2023-08-13T23:20:59.629449",
     "status": "completed"
    },
    "tags": []
   },
   "outputs": [],
   "source": [
    "# submit_v4(selected_model=adc,\n",
    "#           selected_features={'cat': ['isFrequentReviewer']},\n",
    "#           param_grid=None,\n",
    "#           vocab=rfe_vocab)"
   ]
  },
  {
   "cell_type": "code",
   "execution_count": 183,
   "id": "6c55204b",
   "metadata": {
    "execution": {
     "iopub.execute_input": "2023-08-13T23:20:59.865324Z",
     "iopub.status.busy": "2023-08-13T23:20:59.864948Z",
     "iopub.status.idle": "2023-08-13T23:20:59.870067Z",
     "shell.execute_reply": "2023-08-13T23:20:59.868493Z"
    },
    "papermill": {
     "duration": 0.085416,
     "end_time": "2023-08-13T23:20:59.872067",
     "exception": false,
     "start_time": "2023-08-13T23:20:59.786651",
     "status": "completed"
    },
    "tags": []
   },
   "outputs": [],
   "source": [
    "# AdaBoost on all features with RFE vocab on reviewText\n",
    "\n",
    "# submit_v4(selected_model=adc,\n",
    "#           selected_features=all_dict,\n",
    "#           param_grid=None,\n",
    "#           vocab=rfe_vocab)"
   ]
  },
  {
   "cell_type": "code",
   "execution_count": 184,
   "id": "2f1e08b0",
   "metadata": {
    "execution": {
     "iopub.execute_input": "2023-08-13T23:21:00.034201Z",
     "iopub.status.busy": "2023-08-13T23:21:00.033360Z",
     "iopub.status.idle": "2023-08-13T23:21:00.037178Z",
     "shell.execute_reply": "2023-08-13T23:21:00.036431Z"
    },
    "papermill": {
     "duration": 0.087494,
     "end_time": "2023-08-13T23:21:00.039114",
     "exception": false,
     "start_time": "2023-08-13T23:20:59.951620",
     "status": "completed"
    },
    "tags": []
   },
   "outputs": [],
   "source": [
    "# RandomForestClassifier test run on one feature\n",
    "\n",
    "# rfc_2 = RandomForestClassifier()\n",
    "# rfc_2"
   ]
  },
  {
   "cell_type": "code",
   "execution_count": 185,
   "id": "1fd29b78",
   "metadata": {
    "execution": {
     "iopub.execute_input": "2023-08-13T23:21:00.204142Z",
     "iopub.status.busy": "2023-08-13T23:21:00.203386Z",
     "iopub.status.idle": "2023-08-13T23:21:00.207772Z",
     "shell.execute_reply": "2023-08-13T23:21:00.206645Z"
    },
    "papermill": {
     "duration": 0.082782,
     "end_time": "2023-08-13T23:21:00.210479",
     "exception": false,
     "start_time": "2023-08-13T23:21:00.127697",
     "status": "completed"
    },
    "tags": []
   },
   "outputs": [],
   "source": [
    "# submit_v4(selected_model=rfc_2,\n",
    "#           selected_features={'txt': ['reviewerName']},\n",
    "#           param_grid=None,\n",
    "#           vocab=rfe_vocab)"
   ]
  },
  {
   "cell_type": "code",
   "execution_count": 186,
   "id": "4029d8f0",
   "metadata": {
    "execution": {
     "iopub.execute_input": "2023-08-13T23:21:00.364547Z",
     "iopub.status.busy": "2023-08-13T23:21:00.364101Z",
     "iopub.status.idle": "2023-08-13T23:21:00.369816Z",
     "shell.execute_reply": "2023-08-13T23:21:00.368304Z"
    },
    "papermill": {
     "duration": 0.086274,
     "end_time": "2023-08-13T23:21:00.372527",
     "exception": false,
     "start_time": "2023-08-13T23:21:00.286253",
     "status": "completed"
    },
    "tags": []
   },
   "outputs": [],
   "source": [
    "# RandomForestClassifier on all features with RFE vocab on reviewText\n",
    "\n",
    "# submit_v4(selected_model=rfc_2,\n",
    "#           selected_features=all_dict,\n",
    "#           param_grid=None,\n",
    "#           vocab=rfe_vocab)"
   ]
  },
  {
   "cell_type": "markdown",
   "id": "2e7da388",
   "metadata": {
    "papermill": {
     "duration": 0.073623,
     "end_time": "2023-08-13T23:21:00.521394",
     "exception": false,
     "start_time": "2023-08-13T23:21:00.447771",
     "status": "completed"
    },
    "tags": []
   },
   "source": [
    "## Submit_v2 for merged file models  "
   ]
  },
  {
   "cell_type": "code",
   "execution_count": 187,
   "id": "934f6e51",
   "metadata": {
    "execution": {
     "iopub.execute_input": "2023-08-13T23:21:00.678452Z",
     "iopub.status.busy": "2023-08-13T23:21:00.678069Z",
     "iopub.status.idle": "2023-08-13T23:21:00.684010Z",
     "shell.execute_reply": "2023-08-13T23:21:00.682859Z"
    },
    "papermill": {
     "duration": 0.086541,
     "end_time": "2023-08-13T23:21:00.686295",
     "exception": false,
     "start_time": "2023-08-13T23:21:00.599754",
     "status": "completed"
    },
    "tags": []
   },
   "outputs": [],
   "source": [
    "# def submit_v2(selected_model=pipe_final, selected_features=None):\n",
    "#     '''\n",
    "#     Note that \"selected_preprocessor\" is already used within selected_model or pipeline\n",
    "#     '''\n",
    "#     # Retrain on the whole train.csv file  \n",
    "#     merged = select_features(load_csv(\"train\"), load_csv(\"movies\"))\n",
    "#     X_train = merged.drop(labels=\"sentiment\", axis=1)\n",
    "#     y_train = merged[\"sentiment\"]\n",
    "    \n",
    "#     #Use selected features\n",
    "#     if selected_features:\n",
    "#         X_train = X_train[selected_features]\n",
    "    \n",
    "#     # Check1\n",
    "#     print(X_train.shape)\n",
    "#     print(X_train.head())\n",
    "#     try:\n",
    "#         print(selected_model.named_steps['model'].intercept_, selected_model.named_steps['model'].coef_)\n",
    "#     except:\n",
    "#         print(\"Model not trained yet!\")\n",
    "    \n",
    "#     # Fit \n",
    "#     selected_model.fit(X_train, y_train)\n",
    "    \n",
    "#     # Check2\n",
    "#     print(selected_model.named_steps['model'].intercept_, selected_model.named_steps['model'].coef_)\n",
    "    \n",
    "#     # Predict on test.csv file\n",
    "#     merged_test = select_features(load_csv(\"test\"), load_csv(\"movies\"))\n",
    "#     X_test = merged_test.copy()\n",
    "#     if selected_features:\n",
    "#         X_test = X_test[selected_features]\n",
    "    \n",
    "#     # Check3\n",
    "#     print(X_test.shape)\n",
    "#     print(X_test.head())\n",
    "    \n",
    "#     y_pred = selected_model.predict(X_test)\n",
    "    \n",
    "#     pred_df = pd.DataFrame(y_pred)\n",
    "#     pred_df.columns = [\"sentiment\"]\n",
    "#     pred_df.index.name = \"id\"\n",
    "#     pred_df.to_csv(\"submission.csv\")\n",
    "    \n",
    "#     return \"Successfully created the submission file!!!\""
   ]
  },
  {
   "cell_type": "code",
   "execution_count": 188,
   "id": "558bc9d8",
   "metadata": {
    "execution": {
     "iopub.execute_input": "2023-08-13T23:21:00.838521Z",
     "iopub.status.busy": "2023-08-13T23:21:00.838109Z",
     "iopub.status.idle": "2023-08-13T23:21:00.843976Z",
     "shell.execute_reply": "2023-08-13T23:21:00.842437Z"
    },
    "papermill": {
     "duration": 0.084534,
     "end_time": "2023-08-13T23:21:00.846114",
     "exception": false,
     "start_time": "2023-08-13T23:21:00.761580",
     "status": "completed"
    },
    "tags": []
   },
   "outputs": [],
   "source": [
    "#     X_test = merged_test.copy()\n",
    "    \n",
    "#     y_pred = pipe_best4.predict(X_test)\n",
    "# #     np.unique(y_pred, return_counts=True)\n",
    "#     pred_df = pd.DataFrame(y_pred)\n",
    "#     pred_df.columns = [\"sentiment\"]\n",
    "#     pred_df.index.name = \"id\"\n",
    "#     pred_df.value_counts()"
   ]
  },
  {
   "cell_type": "code",
   "execution_count": 189,
   "id": "34ac9b6b",
   "metadata": {
    "execution": {
     "iopub.execute_input": "2023-08-13T23:21:01.002485Z",
     "iopub.status.busy": "2023-08-13T23:21:01.002061Z",
     "iopub.status.idle": "2023-08-13T23:21:01.008365Z",
     "shell.execute_reply": "2023-08-13T23:21:01.006515Z"
    },
    "papermill": {
     "duration": 0.088001,
     "end_time": "2023-08-13T23:21:01.011008",
     "exception": false,
     "start_time": "2023-08-13T23:21:00.923007",
     "status": "completed"
    },
    "tags": []
   },
   "outputs": [],
   "source": [
    "# X_test.columns"
   ]
  },
  {
   "cell_type": "markdown",
   "id": "796d1e99",
   "metadata": {
    "papermill": {
     "duration": 0.077058,
     "end_time": "2023-08-13T23:21:01.163713",
     "exception": false,
     "start_time": "2023-08-13T23:21:01.086655",
     "status": "completed"
    },
    "tags": []
   },
   "source": [
    "### Uncomment to submit using v2 of submit function  "
   ]
  },
  {
   "cell_type": "code",
   "execution_count": 190,
   "id": "74158b0f",
   "metadata": {
    "execution": {
     "iopub.execute_input": "2023-08-13T23:21:01.317502Z",
     "iopub.status.busy": "2023-08-13T23:21:01.317069Z",
     "iopub.status.idle": "2023-08-13T23:21:01.323654Z",
     "shell.execute_reply": "2023-08-13T23:21:01.321188Z"
    },
    "papermill": {
     "duration": 0.086095,
     "end_time": "2023-08-13T23:21:01.326676",
     "exception": false,
     "start_time": "2023-08-13T23:21:01.240581",
     "status": "completed"
    },
    "tags": []
   },
   "outputs": [],
   "source": [
    "# best4 = [\"audienceScore\", \"rating\", \"isFrequentReviewer\", \"reviewText\"]\n",
    "# best4"
   ]
  },
  {
   "cell_type": "code",
   "execution_count": 191,
   "id": "a37ae385",
   "metadata": {
    "execution": {
     "iopub.execute_input": "2023-08-13T23:21:01.481627Z",
     "iopub.status.busy": "2023-08-13T23:21:01.481209Z",
     "iopub.status.idle": "2023-08-13T23:21:01.488301Z",
     "shell.execute_reply": "2023-08-13T23:21:01.485992Z"
    },
    "papermill": {
     "duration": 0.088207,
     "end_time": "2023-08-13T23:21:01.491202",
     "exception": false,
     "start_time": "2023-08-13T23:21:01.402995",
     "status": "completed"
    },
    "tags": []
   },
   "outputs": [],
   "source": [
    "# submit_v2(selected_model=pipe_RTonly, selected_features=['reviewText'])"
   ]
  },
  {
   "cell_type": "markdown",
   "id": "f590b3e2",
   "metadata": {
    "papermill": {
     "duration": 0.078762,
     "end_time": "2023-08-13T23:21:01.649347",
     "exception": false,
     "start_time": "2023-08-13T23:21:01.570585",
     "status": "completed"
    },
    "tags": []
   },
   "source": [
    "### Inspect the submission.csv file  "
   ]
  },
  {
   "cell_type": "code",
   "execution_count": 192,
   "id": "ac987e57",
   "metadata": {
    "execution": {
     "iopub.execute_input": "2023-08-13T23:21:01.804103Z",
     "iopub.status.busy": "2023-08-13T23:21:01.803672Z",
     "iopub.status.idle": "2023-08-13T23:21:01.808687Z",
     "shell.execute_reply": "2023-08-13T23:21:01.807715Z"
    },
    "papermill": {
     "duration": 0.084577,
     "end_time": "2023-08-13T23:21:01.810607",
     "exception": false,
     "start_time": "2023-08-13T23:21:01.726030",
     "status": "completed"
    },
    "tags": []
   },
   "outputs": [],
   "source": [
    "# sub = pd.read_csv('submission.csv')\n",
    "# sub.shape, sub.head()"
   ]
  },
  {
   "cell_type": "code",
   "execution_count": 193,
   "id": "480d72cb",
   "metadata": {
    "execution": {
     "iopub.execute_input": "2023-08-13T23:21:01.963447Z",
     "iopub.status.busy": "2023-08-13T23:21:01.963022Z",
     "iopub.status.idle": "2023-08-13T23:21:01.968587Z",
     "shell.execute_reply": "2023-08-13T23:21:01.967242Z"
    },
    "papermill": {
     "duration": 0.084673,
     "end_time": "2023-08-13T23:21:01.970847",
     "exception": false,
     "start_time": "2023-08-13T23:21:01.886174",
     "status": "completed"
    },
    "tags": []
   },
   "outputs": [],
   "source": [
    "# sub['sentiment'].value_counts()"
   ]
  },
  {
   "cell_type": "markdown",
   "id": "a86e1772",
   "metadata": {
    "papermill": {
     "duration": 0.073681,
     "end_time": "2023-08-13T23:21:02.118568",
     "exception": false,
     "start_time": "2023-08-13T23:21:02.044887",
     "status": "completed"
    },
    "tags": []
   },
   "source": [
    "## submit_v3 for merged file models - does not retrain on whole data  "
   ]
  },
  {
   "cell_type": "code",
   "execution_count": 194,
   "id": "dfed1715",
   "metadata": {
    "execution": {
     "iopub.execute_input": "2023-08-13T23:21:02.272169Z",
     "iopub.status.busy": "2023-08-13T23:21:02.271665Z",
     "iopub.status.idle": "2023-08-13T23:21:02.276312Z",
     "shell.execute_reply": "2023-08-13T23:21:02.275598Z"
    },
    "papermill": {
     "duration": 0.084331,
     "end_time": "2023-08-13T23:21:02.279078",
     "exception": false,
     "start_time": "2023-08-13T23:21:02.194747",
     "status": "completed"
    },
    "tags": []
   },
   "outputs": [],
   "source": [
    "# def submit_v3(selected_model=pipe_final):\n",
    "#     '''\n",
    "#     Note that \"selected_preprocessor\" is already used within selected_model or pipeline\n",
    "#     '''\n",
    "      \n",
    "#     # Predict on test.csv file\n",
    "#     merged_test = select_features(load_csv(\"test\"), load_csv(\"movies\"))\n",
    "#     X_test = merged_test.copy()\n",
    "    \n",
    "#     X_test = X_test[[\"audienceScore\", \"rating\", \"isFrequentReviewer\", \"reviewText\"]]    # This is a new line\n",
    "\n",
    "    \n",
    "#     y_pred = selected_model.predict(X_test)\n",
    "    \n",
    "#     pred_df = pd.DataFrame(y_pred)\n",
    "#     pred_df.columns = [\"sentiment\"]\n",
    "#     pred_df.index.name = \"id\"\n",
    "#     pred_df.to_csv(\"submission.csv\")\n",
    "    \n",
    "#     return \"Successfully created the submission file!!!\""
   ]
  },
  {
   "cell_type": "markdown",
   "id": "4fbecec6",
   "metadata": {
    "papermill": {
     "duration": 0.074934,
     "end_time": "2023-08-13T23:21:02.428097",
     "exception": false,
     "start_time": "2023-08-13T23:21:02.353163",
     "status": "completed"
    },
    "tags": []
   },
   "source": [
    "### Uncomment to submit using v3 of submit function  "
   ]
  },
  {
   "cell_type": "code",
   "execution_count": 195,
   "id": "f90e8e5e",
   "metadata": {
    "execution": {
     "iopub.execute_input": "2023-08-13T23:21:02.588697Z",
     "iopub.status.busy": "2023-08-13T23:21:02.588327Z",
     "iopub.status.idle": "2023-08-13T23:21:02.592820Z",
     "shell.execute_reply": "2023-08-13T23:21:02.592043Z"
    },
    "papermill": {
     "duration": 0.084262,
     "end_time": "2023-08-13T23:21:02.594663",
     "exception": false,
     "start_time": "2023-08-13T23:21:02.510401",
     "status": "completed"
    },
    "tags": []
   },
   "outputs": [],
   "source": [
    "# submit_v3(selected_model=pipe_best4)"
   ]
  },
  {
   "cell_type": "markdown",
   "id": "d416c921",
   "metadata": {
    "papermill": {
     "duration": 0.07897,
     "end_time": "2023-08-13T23:21:02.750647",
     "exception": false,
     "start_time": "2023-08-13T23:21:02.671677",
     "status": "completed"
    },
    "tags": []
   },
   "source": [
    "## Rough work  "
   ]
  },
  {
   "cell_type": "code",
   "execution_count": 196,
   "id": "585b7d18",
   "metadata": {
    "execution": {
     "iopub.execute_input": "2023-08-13T23:21:02.902252Z",
     "iopub.status.busy": "2023-08-13T23:21:02.901878Z",
     "iopub.status.idle": "2023-08-13T23:21:06.924716Z",
     "shell.execute_reply": "2023-08-13T23:21:06.923455Z"
    },
    "papermill": {
     "duration": 4.101799,
     "end_time": "2023-08-13T23:21:06.927499",
     "exception": false,
     "start_time": "2023-08-13T23:21:02.825700",
     "status": "completed"
    },
    "tags": []
   },
   "outputs": [],
   "source": [
    "    # Predict on test.csv file\n",
    "    merged_test = select_features(load_csv(\"test\"), load_csv(\"movies\"))\n",
    "    X_test = merged_test.copy()\n",
    "    \n",
    "    X_test = X_test[[\"audienceScore\", \"rating\", \"isFrequentReviewer\", \"reviewText\"]]    # This is a new line"
   ]
  },
  {
   "cell_type": "code",
   "execution_count": 197,
   "id": "149b57f9",
   "metadata": {
    "execution": {
     "iopub.execute_input": "2023-08-13T23:21:07.085966Z",
     "iopub.status.busy": "2023-08-13T23:21:07.085464Z",
     "iopub.status.idle": "2023-08-13T23:21:07.090183Z",
     "shell.execute_reply": "2023-08-13T23:21:07.089078Z"
    },
    "papermill": {
     "duration": 0.086698,
     "end_time": "2023-08-13T23:21:07.092957",
     "exception": false,
     "start_time": "2023-08-13T23:21:07.006259",
     "status": "completed"
    },
    "tags": []
   },
   "outputs": [],
   "source": [
    "# X_test.head()"
   ]
  },
  {
   "cell_type": "code",
   "execution_count": 198,
   "id": "b3349e5a",
   "metadata": {
    "execution": {
     "iopub.execute_input": "2023-08-13T23:21:07.247968Z",
     "iopub.status.busy": "2023-08-13T23:21:07.247039Z",
     "iopub.status.idle": "2023-08-13T23:21:07.251814Z",
     "shell.execute_reply": "2023-08-13T23:21:07.251069Z"
    },
    "papermill": {
     "duration": 0.085769,
     "end_time": "2023-08-13T23:21:07.253904",
     "exception": false,
     "start_time": "2023-08-13T23:21:07.168135",
     "status": "completed"
    },
    "tags": []
   },
   "outputs": [],
   "source": [
    "# X_test['audienceScore'].describe()"
   ]
  },
  {
   "cell_type": "code",
   "execution_count": 199,
   "id": "b36d3291",
   "metadata": {
    "execution": {
     "iopub.execute_input": "2023-08-13T23:21:07.409082Z",
     "iopub.status.busy": "2023-08-13T23:21:07.408697Z",
     "iopub.status.idle": "2023-08-13T23:21:07.413935Z",
     "shell.execute_reply": "2023-08-13T23:21:07.413068Z"
    },
    "papermill": {
     "duration": 0.08618,
     "end_time": "2023-08-13T23:21:07.416533",
     "exception": false,
     "start_time": "2023-08-13T23:21:07.330353",
     "status": "completed"
    },
    "tags": []
   },
   "outputs": [],
   "source": [
    "# X_test['rating'].value_counts()"
   ]
  },
  {
   "cell_type": "code",
   "execution_count": 200,
   "id": "c89d94d9",
   "metadata": {
    "execution": {
     "iopub.execute_input": "2023-08-13T23:21:07.572869Z",
     "iopub.status.busy": "2023-08-13T23:21:07.571119Z",
     "iopub.status.idle": "2023-08-13T23:21:07.576816Z",
     "shell.execute_reply": "2023-08-13T23:21:07.575505Z"
    },
    "papermill": {
     "duration": 0.084584,
     "end_time": "2023-08-13T23:21:07.579019",
     "exception": false,
     "start_time": "2023-08-13T23:21:07.494435",
     "status": "completed"
    },
    "tags": []
   },
   "outputs": [],
   "source": [
    "# X_test['isFrequentReviewer'].value_counts()"
   ]
  },
  {
   "cell_type": "markdown",
   "id": "55d2caf9",
   "metadata": {
    "papermill": {
     "duration": 0.074316,
     "end_time": "2023-08-13T23:21:07.728705",
     "exception": false,
     "start_time": "2023-08-13T23:21:07.654389",
     "status": "completed"
    },
    "tags": []
   },
   "source": [
    "## Implement KNN classifier  "
   ]
  },
  {
   "cell_type": "code",
   "execution_count": 201,
   "id": "13171961",
   "metadata": {
    "execution": {
     "iopub.execute_input": "2023-08-13T23:21:07.879062Z",
     "iopub.status.busy": "2023-08-13T23:21:07.878668Z",
     "iopub.status.idle": "2023-08-13T23:21:07.882605Z",
     "shell.execute_reply": "2023-08-13T23:21:07.881700Z"
    },
    "papermill": {
     "duration": 0.081364,
     "end_time": "2023-08-13T23:21:07.884435",
     "exception": false,
     "start_time": "2023-08-13T23:21:07.803071",
     "status": "completed"
    },
    "tags": []
   },
   "outputs": [],
   "source": [
    "# from sklearn.neighbors import KNeighborsClassifier"
   ]
  },
  {
   "cell_type": "code",
   "execution_count": 202,
   "id": "93ce241b",
   "metadata": {
    "execution": {
     "iopub.execute_input": "2023-08-13T23:21:08.035087Z",
     "iopub.status.busy": "2023-08-13T23:21:08.034327Z",
     "iopub.status.idle": "2023-08-13T23:21:08.038507Z",
     "shell.execute_reply": "2023-08-13T23:21:08.037894Z"
    },
    "papermill": {
     "duration": 0.082944,
     "end_time": "2023-08-13T23:21:08.040410",
     "exception": false,
     "start_time": "2023-08-13T23:21:07.957466",
     "status": "completed"
    },
    "tags": []
   },
   "outputs": [],
   "source": [
    "# Note that we are borrowing \"ct_final\" column transformer from above  "
   ]
  },
  {
   "cell_type": "code",
   "execution_count": 203,
   "id": "d1cc71e7",
   "metadata": {
    "execution": {
     "iopub.execute_input": "2023-08-13T23:21:08.194641Z",
     "iopub.status.busy": "2023-08-13T23:21:08.193557Z",
     "iopub.status.idle": "2023-08-13T23:21:08.199316Z",
     "shell.execute_reply": "2023-08-13T23:21:08.198032Z"
    },
    "papermill": {
     "duration": 0.086416,
     "end_time": "2023-08-13T23:21:08.201882",
     "exception": false,
     "start_time": "2023-08-13T23:21:08.115466",
     "status": "completed"
    },
    "tags": []
   },
   "outputs": [],
   "source": [
    "# pipe_knn = Pipeline(steps=[\n",
    "#                         (\"preprocessor\", ct_final),\n",
    "#                         (\"model\", KNeighborsClassifier())\n",
    "#                     ])\n",
    "# pipe_knn"
   ]
  },
  {
   "cell_type": "code",
   "execution_count": 204,
   "id": "16116f2a",
   "metadata": {
    "execution": {
     "iopub.execute_input": "2023-08-13T23:21:08.353782Z",
     "iopub.status.busy": "2023-08-13T23:21:08.353050Z",
     "iopub.status.idle": "2023-08-13T23:21:08.358028Z",
     "shell.execute_reply": "2023-08-13T23:21:08.356613Z"
    },
    "papermill": {
     "duration": 0.083898,
     "end_time": "2023-08-13T23:21:08.360516",
     "exception": false,
     "start_time": "2023-08-13T23:21:08.276618",
     "status": "completed"
    },
    "tags": []
   },
   "outputs": [],
   "source": [
    "# Train and predict on merged training data  \n",
    "# split_train_predict(merged_train_features, merged_train_labels, pipe_knn, test_size=0.25, random_state=42)"
   ]
  },
  {
   "cell_type": "markdown",
   "id": "5e5f7406",
   "metadata": {
    "papermill": {
     "duration": 0.074415,
     "end_time": "2023-08-13T23:21:08.509871",
     "exception": false,
     "start_time": "2023-08-13T23:21:08.435456",
     "status": "completed"
    },
    "tags": []
   },
   "source": [
    "# Part I (Older code)  "
   ]
  },
  {
   "cell_type": "markdown",
   "id": "40e14425",
   "metadata": {
    "papermill": {
     "duration": 0.076219,
     "end_time": "2023-08-13T23:21:08.662418",
     "exception": false,
     "start_time": "2023-08-13T23:21:08.586199",
     "status": "completed"
    },
    "tags": []
   },
   "source": [
    "### Logistic Regression with stop words  "
   ]
  },
  {
   "cell_type": "code",
   "execution_count": 205,
   "id": "4a82877b",
   "metadata": {
    "execution": {
     "iopub.execute_input": "2023-08-13T23:21:08.930412Z",
     "iopub.status.busy": "2023-08-13T23:21:08.929647Z",
     "iopub.status.idle": "2023-08-13T23:21:08.934505Z",
     "shell.execute_reply": "2023-08-13T23:21:08.933273Z"
    },
    "papermill": {
     "duration": 0.082636,
     "end_time": "2023-08-13T23:21:08.937104",
     "exception": false,
     "start_time": "2023-08-13T23:21:08.854468",
     "status": "completed"
    },
    "tags": []
   },
   "outputs": [],
   "source": [
    "# tvec_sw = TfidfVectorizer(stop_words=stop_words)"
   ]
  },
  {
   "cell_type": "code",
   "execution_count": 206,
   "id": "01572b39",
   "metadata": {
    "execution": {
     "iopub.execute_input": "2023-08-13T23:21:09.091947Z",
     "iopub.status.busy": "2023-08-13T23:21:09.091486Z",
     "iopub.status.idle": "2023-08-13T23:21:09.095887Z",
     "shell.execute_reply": "2023-08-13T23:21:09.094904Z"
    },
    "papermill": {
     "duration": 0.084284,
     "end_time": "2023-08-13T23:21:09.097763",
     "exception": false,
     "start_time": "2023-08-13T23:21:09.013479",
     "status": "completed"
    },
    "tags": []
   },
   "outputs": [],
   "source": [
    "# logreg_sw_pipe = preprocess_n_train(X_train, y_train, tvec_sw, logreg)\n",
    "# logreg_sw_pipe"
   ]
  },
  {
   "cell_type": "code",
   "execution_count": 207,
   "id": "30358415",
   "metadata": {
    "execution": {
     "iopub.execute_input": "2023-08-13T23:21:09.250195Z",
     "iopub.status.busy": "2023-08-13T23:21:09.249397Z",
     "iopub.status.idle": "2023-08-13T23:21:09.254437Z",
     "shell.execute_reply": "2023-08-13T23:21:09.253185Z"
    },
    "papermill": {
     "duration": 0.083533,
     "end_time": "2023-08-13T23:21:09.257079",
     "exception": false,
     "start_time": "2023-08-13T23:21:09.173546",
     "status": "completed"
    },
    "tags": []
   },
   "outputs": [],
   "source": [
    "# y_pred_logreg_sw = predict_n_evaluate(logreg_sw_pipe, X_test, y_test)\n",
    "# y_pred_logreg_sw"
   ]
  },
  {
   "cell_type": "markdown",
   "id": "b2599926",
   "metadata": {
    "papermill": {
     "duration": 0.075084,
     "end_time": "2023-08-13T23:21:09.409679",
     "exception": false,
     "start_time": "2023-08-13T23:21:09.334595",
     "status": "completed"
    },
    "tags": []
   },
   "source": [
    "### Logistic regression with different ngram ranges  "
   ]
  },
  {
   "cell_type": "code",
   "execution_count": 208,
   "id": "73460ada",
   "metadata": {
    "execution": {
     "iopub.execute_input": "2023-08-13T23:21:09.561346Z",
     "iopub.status.busy": "2023-08-13T23:21:09.560919Z",
     "iopub.status.idle": "2023-08-13T23:21:09.566242Z",
     "shell.execute_reply": "2023-08-13T23:21:09.564818Z"
    },
    "papermill": {
     "duration": 0.085461,
     "end_time": "2023-08-13T23:21:09.568919",
     "exception": false,
     "start_time": "2023-08-13T23:21:09.483458",
     "status": "completed"
    },
    "tags": []
   },
   "outputs": [],
   "source": [
    "# tvec_ngram_2 = TfidfVectorizer(ngram_range=(1,2))"
   ]
  },
  {
   "cell_type": "code",
   "execution_count": 209,
   "id": "165e1262",
   "metadata": {
    "execution": {
     "iopub.execute_input": "2023-08-13T23:21:09.719139Z",
     "iopub.status.busy": "2023-08-13T23:21:09.718655Z",
     "iopub.status.idle": "2023-08-13T23:21:09.723325Z",
     "shell.execute_reply": "2023-08-13T23:21:09.722539Z"
    },
    "papermill": {
     "duration": 0.082115,
     "end_time": "2023-08-13T23:21:09.725645",
     "exception": false,
     "start_time": "2023-08-13T23:21:09.643530",
     "status": "completed"
    },
    "tags": []
   },
   "outputs": [],
   "source": [
    "# logreg_ng2_pipe = preprocess_n_train(X_train, y_train, tvec_ngram_2, logreg)\n",
    "# logreg_ng2_pipe"
   ]
  },
  {
   "cell_type": "code",
   "execution_count": 210,
   "id": "458cf0c2",
   "metadata": {
    "execution": {
     "iopub.execute_input": "2023-08-13T23:21:09.877592Z",
     "iopub.status.busy": "2023-08-13T23:21:09.876786Z",
     "iopub.status.idle": "2023-08-13T23:21:09.882342Z",
     "shell.execute_reply": "2023-08-13T23:21:09.881352Z"
    },
    "papermill": {
     "duration": 0.083892,
     "end_time": "2023-08-13T23:21:09.885255",
     "exception": false,
     "start_time": "2023-08-13T23:21:09.801363",
     "status": "completed"
    },
    "tags": []
   },
   "outputs": [],
   "source": [
    "# y_pred_logreg_ng2 = predict_n_evaluate(logreg_ng2_pipe, X_test, y_test)\n",
    "# y_pred_logreg_ng2"
   ]
  },
  {
   "cell_type": "markdown",
   "id": "496d90bb",
   "metadata": {
    "papermill": {
     "duration": 0.08078,
     "end_time": "2023-08-13T23:21:10.044123",
     "exception": false,
     "start_time": "2023-08-13T23:21:09.963343",
     "status": "completed"
    },
    "tags": []
   },
   "source": [
    "### Logistic regression with C=2, ngram range (1,2), stop words as None and min_df, max_df adjusted\n",
    "### Class weight balanced"
   ]
  },
  {
   "cell_type": "code",
   "execution_count": 211,
   "id": "3e1c1764",
   "metadata": {
    "execution": {
     "iopub.execute_input": "2023-08-13T23:21:10.213433Z",
     "iopub.status.busy": "2023-08-13T23:21:10.212786Z",
     "iopub.status.idle": "2023-08-13T23:21:10.216533Z",
     "shell.execute_reply": "2023-08-13T23:21:10.215765Z"
    },
    "papermill": {
     "duration": 0.084521,
     "end_time": "2023-08-13T23:21:10.219066",
     "exception": false,
     "start_time": "2023-08-13T23:21:10.134545",
     "status": "completed"
    },
    "tags": []
   },
   "outputs": [],
   "source": [
    "# logreg = LogisticRegression(max_iter=100000, C=2, class_weight=\"balanced\")"
   ]
  },
  {
   "cell_type": "code",
   "execution_count": 212,
   "id": "87b1abf1",
   "metadata": {
    "execution": {
     "iopub.execute_input": "2023-08-13T23:21:10.374077Z",
     "iopub.status.busy": "2023-08-13T23:21:10.373374Z",
     "iopub.status.idle": "2023-08-13T23:21:10.377442Z",
     "shell.execute_reply": "2023-08-13T23:21:10.376329Z"
    },
    "papermill": {
     "duration": 0.08409,
     "end_time": "2023-08-13T23:21:10.380213",
     "exception": false,
     "start_time": "2023-08-13T23:21:10.296123",
     "status": "completed"
    },
    "tags": []
   },
   "outputs": [],
   "source": [
    "# tvec_ngram_2_sw_df = TfidfVectorizer(ngram_range=(1,2), stop_words=None, min_df=0.0001, max_df=0.50)\n",
    "# tvec_ngram_2_sw_df"
   ]
  },
  {
   "cell_type": "code",
   "execution_count": 213,
   "id": "93495d42",
   "metadata": {
    "execution": {
     "iopub.execute_input": "2023-08-13T23:21:10.540112Z",
     "iopub.status.busy": "2023-08-13T23:21:10.539411Z",
     "iopub.status.idle": "2023-08-13T23:21:10.543191Z",
     "shell.execute_reply": "2023-08-13T23:21:10.542392Z"
    },
    "papermill": {
     "duration": 0.084657,
     "end_time": "2023-08-13T23:21:10.545292",
     "exception": false,
     "start_time": "2023-08-13T23:21:10.460635",
     "status": "completed"
    },
    "tags": []
   },
   "outputs": [],
   "source": [
    "# logreg_ng2_sw_df_pipe = preprocess_n_train(X_train, y_train, tvec_ngram_2_sw_df, logreg)\n",
    "# logreg_ng2_sw_df_pipe"
   ]
  },
  {
   "cell_type": "code",
   "execution_count": 214,
   "id": "97e1bc08",
   "metadata": {
    "execution": {
     "iopub.execute_input": "2023-08-13T23:21:10.707210Z",
     "iopub.status.busy": "2023-08-13T23:21:10.706818Z",
     "iopub.status.idle": "2023-08-13T23:21:10.712326Z",
     "shell.execute_reply": "2023-08-13T23:21:10.710143Z"
    },
    "papermill": {
     "duration": 0.091163,
     "end_time": "2023-08-13T23:21:10.714912",
     "exception": false,
     "start_time": "2023-08-13T23:21:10.623749",
     "status": "completed"
    },
    "tags": []
   },
   "outputs": [],
   "source": [
    "# y_pred_logreg_ng2_sw_df = predict_n_evaluate(logreg_ng2_sw_df_pipe, X_test, y_test)\n",
    "# y_pred_logreg_ng2_sw_df"
   ]
  },
  {
   "cell_type": "markdown",
   "id": "262eaec5",
   "metadata": {
    "papermill": {
     "duration": 0.075907,
     "end_time": "2023-08-13T23:21:10.867172",
     "exception": false,
     "start_time": "2023-08-13T23:21:10.791265",
     "status": "completed"
    },
    "tags": []
   },
   "source": [
    "### Log reg with parameters from GridSearchCV  \n",
    "\n",
    "`This is the best score with \"reviewText column alone for analysis`  "
   ]
  },
  {
   "cell_type": "code",
   "execution_count": 215,
   "id": "d01ac8ca",
   "metadata": {
    "execution": {
     "iopub.execute_input": "2023-08-13T23:21:11.020939Z",
     "iopub.status.busy": "2023-08-13T23:21:11.020443Z",
     "iopub.status.idle": "2023-08-13T23:21:11.025943Z",
     "shell.execute_reply": "2023-08-13T23:21:11.024892Z"
    },
    "papermill": {
     "duration": 0.085953,
     "end_time": "2023-08-13T23:21:11.028387",
     "exception": false,
     "start_time": "2023-08-13T23:21:10.942434",
     "status": "completed"
    },
    "tags": []
   },
   "outputs": [],
   "source": [
    "logreg_cv1 = LogisticRegression(max_iter=100000, C=10)\n",
    "tvec_cv1 = TfidfVectorizer(max_features=None, ngram_range=(1,2))"
   ]
  },
  {
   "cell_type": "code",
   "execution_count": 216,
   "id": "eeb3ad58",
   "metadata": {
    "execution": {
     "iopub.execute_input": "2023-08-13T23:21:11.187237Z",
     "iopub.status.busy": "2023-08-13T23:21:11.186540Z",
     "iopub.status.idle": "2023-08-13T23:21:11.192526Z",
     "shell.execute_reply": "2023-08-13T23:21:11.191410Z"
    },
    "papermill": {
     "duration": 0.087219,
     "end_time": "2023-08-13T23:21:11.194636",
     "exception": false,
     "start_time": "2023-08-13T23:21:11.107417",
     "status": "completed"
    },
    "tags": []
   },
   "outputs": [],
   "source": [
    "pipe_cv1 = Pipeline(steps=[\n",
    "    (\"preprocessor\", tvec_cv1),\n",
    "    (\"model\", logreg_cv1)\n",
    "])"
   ]
  },
  {
   "cell_type": "code",
   "execution_count": 217,
   "id": "cdbe831d",
   "metadata": {
    "execution": {
     "iopub.execute_input": "2023-08-13T23:21:11.349595Z",
     "iopub.status.busy": "2023-08-13T23:21:11.348895Z",
     "iopub.status.idle": "2023-08-13T23:21:11.353496Z",
     "shell.execute_reply": "2023-08-13T23:21:11.352559Z"
    },
    "papermill": {
     "duration": 0.083843,
     "end_time": "2023-08-13T23:21:11.355375",
     "exception": false,
     "start_time": "2023-08-13T23:21:11.271532",
     "status": "completed"
    },
    "tags": []
   },
   "outputs": [],
   "source": [
    "# pipe_cv1.fit(X_train, y_train)"
   ]
  },
  {
   "cell_type": "code",
   "execution_count": 218,
   "id": "fe6b2db7",
   "metadata": {
    "execution": {
     "iopub.execute_input": "2023-08-13T23:21:11.506917Z",
     "iopub.status.busy": "2023-08-13T23:21:11.506240Z",
     "iopub.status.idle": "2023-08-13T23:21:11.511507Z",
     "shell.execute_reply": "2023-08-13T23:21:11.510639Z"
    },
    "papermill": {
     "duration": 0.083984,
     "end_time": "2023-08-13T23:21:11.513928",
     "exception": false,
     "start_time": "2023-08-13T23:21:11.429944",
     "status": "completed"
    },
    "tags": []
   },
   "outputs": [],
   "source": [
    "# pipe_cv1.score(X_train, y_train)"
   ]
  },
  {
   "cell_type": "markdown",
   "id": "a4636a66",
   "metadata": {
    "papermill": {
     "duration": 0.075857,
     "end_time": "2023-08-13T23:21:11.666068",
     "exception": false,
     "start_time": "2023-08-13T23:21:11.590211",
     "status": "completed"
    },
    "tags": []
   },
   "source": [
    "### SVM model with stop words  "
   ]
  },
  {
   "cell_type": "code",
   "execution_count": 219,
   "id": "27173f8b",
   "metadata": {
    "execution": {
     "iopub.execute_input": "2023-08-13T23:21:11.821184Z",
     "iopub.status.busy": "2023-08-13T23:21:11.820691Z",
     "iopub.status.idle": "2023-08-13T23:21:11.825417Z",
     "shell.execute_reply": "2023-08-13T23:21:11.824275Z"
    },
    "papermill": {
     "duration": 0.084087,
     "end_time": "2023-08-13T23:21:11.827632",
     "exception": false,
     "start_time": "2023-08-13T23:21:11.743545",
     "status": "completed"
    },
    "tags": []
   },
   "outputs": [],
   "source": [
    "# svm_sw_pipe = preprocess_n_train(X_train, y_train, tvec_sw, svm)\n",
    "# svm_sw_pipe"
   ]
  },
  {
   "cell_type": "code",
   "execution_count": 220,
   "id": "79c98c4b",
   "metadata": {
    "execution": {
     "iopub.execute_input": "2023-08-13T23:21:11.982816Z",
     "iopub.status.busy": "2023-08-13T23:21:11.982417Z",
     "iopub.status.idle": "2023-08-13T23:21:11.987168Z",
     "shell.execute_reply": "2023-08-13T23:21:11.986095Z"
    },
    "papermill": {
     "duration": 0.08482,
     "end_time": "2023-08-13T23:21:11.989969",
     "exception": false,
     "start_time": "2023-08-13T23:21:11.905149",
     "status": "completed"
    },
    "tags": []
   },
   "outputs": [],
   "source": [
    "# y_pred_svm_sw = predict_n_evaluate(svm_sw_pipe, X_test, y_test)\n",
    "# y_pred_svm_sw"
   ]
  },
  {
   "cell_type": "markdown",
   "id": "6eeb3cac",
   "metadata": {
    "papermill": {
     "duration": 0.076078,
     "end_time": "2023-08-13T23:21:12.143078",
     "exception": false,
     "start_time": "2023-08-13T23:21:12.067000",
     "status": "completed"
    },
    "tags": []
   },
   "source": [
    "### GaussianNB  "
   ]
  },
  {
   "cell_type": "markdown",
   "id": "6a890f5f",
   "metadata": {
    "papermill": {
     "duration": 0.073919,
     "end_time": "2023-08-13T23:21:12.291550",
     "exception": false,
     "start_time": "2023-08-13T23:21:12.217631",
     "status": "completed"
    },
    "tags": []
   },
   "source": [
    "https://stackoverflow.com/questions/28384680/scikit-learns-pipeline-a-sparse-matrix-was-passed-but-dense-data-is-required"
   ]
  },
  {
   "cell_type": "code",
   "execution_count": 221,
   "id": "be6eef08",
   "metadata": {
    "execution": {
     "iopub.execute_input": "2023-08-13T23:21:12.444183Z",
     "iopub.status.busy": "2023-08-13T23:21:12.443732Z",
     "iopub.status.idle": "2023-08-13T23:21:12.449813Z",
     "shell.execute_reply": "2023-08-13T23:21:12.447704Z"
    },
    "papermill": {
     "duration": 0.085789,
     "end_time": "2023-08-13T23:21:12.452581",
     "exception": false,
     "start_time": "2023-08-13T23:21:12.366792",
     "status": "completed"
    },
    "tags": []
   },
   "outputs": [],
   "source": [
    "# gnb = GaussianNB()\n",
    "# gnb"
   ]
  },
  {
   "cell_type": "code",
   "execution_count": 222,
   "id": "ff18fa65",
   "metadata": {
    "execution": {
     "iopub.execute_input": "2023-08-13T23:21:12.614417Z",
     "iopub.status.busy": "2023-08-13T23:21:12.614038Z",
     "iopub.status.idle": "2023-08-13T23:21:12.617986Z",
     "shell.execute_reply": "2023-08-13T23:21:12.617173Z"
    },
    "papermill": {
     "duration": 0.09094,
     "end_time": "2023-08-13T23:21:12.619932",
     "exception": false,
     "start_time": "2023-08-13T23:21:12.528992",
     "status": "completed"
    },
    "tags": []
   },
   "outputs": [],
   "source": [
    "# gnb_pipe = preprocess_n_train(X_train, y_train, tvec, gnb)\n",
    "# gnb_pipe"
   ]
  },
  {
   "cell_type": "markdown",
   "id": "0b1ed7a9",
   "metadata": {
    "papermill": {
     "duration": 0.075202,
     "end_time": "2023-08-13T23:21:12.770885",
     "exception": false,
     "start_time": "2023-08-13T23:21:12.695683",
     "status": "completed"
    },
    "tags": []
   },
   "source": [
    "# Part II (Older code)  \n"
   ]
  },
  {
   "cell_type": "markdown",
   "id": "8dca35a2",
   "metadata": {
    "papermill": {
     "duration": 0.074905,
     "end_time": "2023-08-13T23:21:12.920609",
     "exception": false,
     "start_time": "2023-08-13T23:21:12.845704",
     "status": "completed"
    },
    "tags": []
   },
   "source": [
    "### Separate features and labels from merged dataset  "
   ]
  },
  {
   "cell_type": "code",
   "execution_count": 223,
   "id": "02e383ae",
   "metadata": {
    "execution": {
     "iopub.execute_input": "2023-08-13T23:21:13.075436Z",
     "iopub.status.busy": "2023-08-13T23:21:13.075045Z",
     "iopub.status.idle": "2023-08-13T23:21:13.080375Z",
     "shell.execute_reply": "2023-08-13T23:21:13.078561Z"
    },
    "papermill": {
     "duration": 0.086818,
     "end_time": "2023-08-13T23:21:13.083068",
     "exception": false,
     "start_time": "2023-08-13T23:21:12.996250",
     "status": "completed"
    },
    "tags": []
   },
   "outputs": [],
   "source": [
    "# merged_train_features = merged[['movieid', 'reviewerName', 'isFrequentReviewer', 'reviewText',\n",
    "#        'audienceScore', 'rating', 'runtimeMinutes', 'genre',\n",
    "#        'originalLanguage', 'director']]\n",
    "# merged_train_features.shape"
   ]
  },
  {
   "cell_type": "code",
   "execution_count": 224,
   "id": "0b856cd0",
   "metadata": {
    "execution": {
     "iopub.execute_input": "2023-08-13T23:21:13.235042Z",
     "iopub.status.busy": "2023-08-13T23:21:13.234593Z",
     "iopub.status.idle": "2023-08-13T23:21:13.239094Z",
     "shell.execute_reply": "2023-08-13T23:21:13.238148Z"
    },
    "papermill": {
     "duration": 0.084185,
     "end_time": "2023-08-13T23:21:13.242271",
     "exception": false,
     "start_time": "2023-08-13T23:21:13.158086",
     "status": "completed"
    },
    "tags": []
   },
   "outputs": [],
   "source": [
    "# merged_train_labels = merged[\"sentiment\"]\n",
    "# merged_train_labels.shape"
   ]
  },
  {
   "cell_type": "markdown",
   "id": "3ea9bb5e",
   "metadata": {
    "papermill": {
     "duration": 0.075299,
     "end_time": "2023-08-13T23:21:13.392489",
     "exception": false,
     "start_time": "2023-08-13T23:21:13.317190",
     "status": "completed"
    },
    "tags": []
   },
   "source": [
    "### Identify variable types for different preprocessing pipes  "
   ]
  },
  {
   "cell_type": "code",
   "execution_count": 225,
   "id": "15677381",
   "metadata": {
    "execution": {
     "iopub.execute_input": "2023-08-13T23:21:13.546891Z",
     "iopub.status.busy": "2023-08-13T23:21:13.546416Z",
     "iopub.status.idle": "2023-08-13T23:21:13.552208Z",
     "shell.execute_reply": "2023-08-13T23:21:13.550450Z"
    },
    "papermill": {
     "duration": 0.085755,
     "end_time": "2023-08-13T23:21:13.554912",
     "exception": false,
     "start_time": "2023-08-13T23:21:13.469157",
     "status": "completed"
    },
    "tags": []
   },
   "outputs": [],
   "source": [
    "# num_vars = [\"audienceScore\", \"runtimeMinutes\"]\n",
    "# txt_vars = [\"originalLanguage\", \"genre\", \"director\", \"reviewerName\", \"reviewText\"]\n",
    "# cat_vars = [\"rating\", \"isFrequentReviewer\"]"
   ]
  },
  {
   "cell_type": "code",
   "execution_count": 226,
   "id": "de80007e",
   "metadata": {
    "execution": {
     "iopub.execute_input": "2023-08-13T23:21:13.712168Z",
     "iopub.status.busy": "2023-08-13T23:21:13.711685Z",
     "iopub.status.idle": "2023-08-13T23:21:13.716068Z",
     "shell.execute_reply": "2023-08-13T23:21:13.715335Z"
    },
    "papermill": {
     "duration": 0.083761,
     "end_time": "2023-08-13T23:21:13.717780",
     "exception": false,
     "start_time": "2023-08-13T23:21:13.634019",
     "status": "completed"
    },
    "tags": []
   },
   "outputs": [],
   "source": [
    "# num_pipe = Pipeline(steps=[\n",
    "#                             (\"imputer\", SimpleImputer(strategy=\"mean\", missing_values=np.nan)),\n",
    "#                             (\"scaler\", MinMaxScaler())\n",
    "#                         ])\n",
    "# num_pipe"
   ]
  },
  {
   "cell_type": "code",
   "execution_count": 227,
   "id": "e4ac5d5a",
   "metadata": {
    "execution": {
     "iopub.execute_input": "2023-08-13T23:21:13.870446Z",
     "iopub.status.busy": "2023-08-13T23:21:13.870022Z",
     "iopub.status.idle": "2023-08-13T23:21:13.874581Z",
     "shell.execute_reply": "2023-08-13T23:21:13.873635Z"
    },
    "papermill": {
     "duration": 0.084058,
     "end_time": "2023-08-13T23:21:13.876327",
     "exception": false,
     "start_time": "2023-08-13T23:21:13.792269",
     "status": "completed"
    },
    "tags": []
   },
   "outputs": [],
   "source": [
    "# txt_pipe = Pipeline(steps=[\n",
    "#                             (\"tvec\", TfidfVectorizer())\n",
    "#                         ])\n",
    "# txt_pipe"
   ]
  },
  {
   "cell_type": "code",
   "execution_count": 228,
   "id": "c300ce48",
   "metadata": {
    "execution": {
     "iopub.execute_input": "2023-08-13T23:21:14.030903Z",
     "iopub.status.busy": "2023-08-13T23:21:14.029676Z",
     "iopub.status.idle": "2023-08-13T23:21:14.035400Z",
     "shell.execute_reply": "2023-08-13T23:21:14.034319Z"
    },
    "papermill": {
     "duration": 0.086208,
     "end_time": "2023-08-13T23:21:14.037690",
     "exception": false,
     "start_time": "2023-08-13T23:21:13.951482",
     "status": "completed"
    },
    "tags": []
   },
   "outputs": [],
   "source": [
    "# cat_pipe = Pipeline(steps=[\n",
    "#                             (\"ohe\", OneHotEncoder(handle_unknown=\"ignore\"))\n",
    "#                         ])\n",
    "# cat_pipe"
   ]
  },
  {
   "cell_type": "code",
   "execution_count": 229,
   "id": "91cefd78",
   "metadata": {
    "execution": {
     "iopub.execute_input": "2023-08-13T23:21:14.193726Z",
     "iopub.status.busy": "2023-08-13T23:21:14.193317Z",
     "iopub.status.idle": "2023-08-13T23:21:14.199170Z",
     "shell.execute_reply": "2023-08-13T23:21:14.197563Z"
    },
    "papermill": {
     "duration": 0.08548,
     "end_time": "2023-08-13T23:21:14.201138",
     "exception": false,
     "start_time": "2023-08-13T23:21:14.115658",
     "status": "completed"
    },
    "tags": []
   },
   "outputs": [],
   "source": [
    "# tfidf_vec_1 = TfidfVectorizer(ngram_range=(1,2))\n",
    "# tfidf_vec_1"
   ]
  },
  {
   "cell_type": "code",
   "execution_count": 230,
   "id": "5bfa6842",
   "metadata": {
    "execution": {
     "iopub.execute_input": "2023-08-13T23:21:14.359324Z",
     "iopub.status.busy": "2023-08-13T23:21:14.358424Z",
     "iopub.status.idle": "2023-08-13T23:21:14.365199Z",
     "shell.execute_reply": "2023-08-13T23:21:14.362881Z"
    },
    "papermill": {
     "duration": 0.090439,
     "end_time": "2023-08-13T23:21:14.367770",
     "exception": false,
     "start_time": "2023-08-13T23:21:14.277331",
     "status": "completed"
    },
    "tags": []
   },
   "outputs": [],
   "source": [
    "# ct_final = ColumnTransformer(transformers=[\n",
    "#                                         (\"num\", num_pipe, num_vars),\n",
    "#                                         (\"txt1\", txt_pipe, \"originalLanguage\"),\n",
    "#                                         (\"txt2\", txt_pipe, \"genre\"),\n",
    "#                                         (\"txt3\", txt_pipe, \"director\"),\n",
    "#                                         (\"cat\", cat_pipe, cat_vars),\n",
    "#                                         (\"txt4a\", tfidf_vec_1, \"reviewText\")\n",
    "# #                                         (\"txt4\", TfidfVectorizer(ngram_range=(1,2)), \"reviewText\"),\n",
    "# #                                         (\"cat2\", cat_pipe, [\"isFrequentReviewer\"])\n",
    "#                                         ], remainder=\"drop\", n_jobs=1)\n",
    "\n",
    "# # Note that this transformer drops \"movieid\" column and \"reviewerName\" column  \n",
    "# ct_final"
   ]
  },
  {
   "cell_type": "code",
   "execution_count": 231,
   "id": "9419a6ed",
   "metadata": {
    "execution": {
     "iopub.execute_input": "2023-08-13T23:21:14.521886Z",
     "iopub.status.busy": "2023-08-13T23:21:14.521140Z",
     "iopub.status.idle": "2023-08-13T23:21:14.525494Z",
     "shell.execute_reply": "2023-08-13T23:21:14.524875Z"
    },
    "papermill": {
     "duration": 0.083935,
     "end_time": "2023-08-13T23:21:14.527297",
     "exception": false,
     "start_time": "2023-08-13T23:21:14.443362",
     "status": "completed"
    },
    "tags": []
   },
   "outputs": [],
   "source": [
    "# pipe_final = Pipeline(steps=[\n",
    "#                         (\"preprocessor\", ct_final),\n",
    "#                         (\"model\", LogisticRegression(max_iter=100000))\n",
    "#                     ])\n",
    "# pipe_final"
   ]
  },
  {
   "cell_type": "code",
   "execution_count": 232,
   "id": "e130e51a",
   "metadata": {
    "execution": {
     "iopub.execute_input": "2023-08-13T23:21:14.684392Z",
     "iopub.status.busy": "2023-08-13T23:21:14.683717Z",
     "iopub.status.idle": "2023-08-13T23:21:14.688730Z",
     "shell.execute_reply": "2023-08-13T23:21:14.687299Z"
    },
    "papermill": {
     "duration": 0.087596,
     "end_time": "2023-08-13T23:21:14.691300",
     "exception": false,
     "start_time": "2023-08-13T23:21:14.603704",
     "status": "completed"
    },
    "tags": []
   },
   "outputs": [],
   "source": [
    "# final_vars = num_vars + txt_vars + cat_vars\n",
    "# len(final_vars), final_vars"
   ]
  },
  {
   "cell_type": "markdown",
   "id": "1cf73eb2",
   "metadata": {
    "papermill": {
     "duration": 0.075633,
     "end_time": "2023-08-13T23:21:14.842567",
     "exception": false,
     "start_time": "2023-08-13T23:21:14.766934",
     "status": "completed"
    },
    "tags": []
   },
   "source": [
    "### Use \"split_train_predict\" function to run end-to-end pipeline  "
   ]
  },
  {
   "cell_type": "code",
   "execution_count": 233,
   "id": "54040e5e",
   "metadata": {
    "execution": {
     "iopub.execute_input": "2023-08-13T23:21:15.112950Z",
     "iopub.status.busy": "2023-08-13T23:21:15.112524Z",
     "iopub.status.idle": "2023-08-13T23:21:15.117725Z",
     "shell.execute_reply": "2023-08-13T23:21:15.116084Z"
    },
    "papermill": {
     "duration": 0.087565,
     "end_time": "2023-08-13T23:21:15.120873",
     "exception": false,
     "start_time": "2023-08-13T23:21:15.033308",
     "status": "completed"
    },
    "tags": []
   },
   "outputs": [],
   "source": [
    "# split_train_predict(merged_train_features, merged_train_labels, pipe_final, test_size=0.25, random_state=42)"
   ]
  },
  {
   "cell_type": "markdown",
   "id": "6ae6410c",
   "metadata": {
    "papermill": {
     "duration": 0.075593,
     "end_time": "2023-08-13T23:21:15.272641",
     "exception": false,
     "start_time": "2023-08-13T23:21:15.197048",
     "status": "completed"
    },
    "tags": []
   },
   "source": [
    "## Try the best four features obtained on local machine  "
   ]
  },
  {
   "cell_type": "code",
   "execution_count": 234,
   "id": "f6e0810f",
   "metadata": {
    "execution": {
     "iopub.execute_input": "2023-08-13T23:21:15.428203Z",
     "iopub.status.busy": "2023-08-13T23:21:15.427773Z",
     "iopub.status.idle": "2023-08-13T23:21:15.433912Z",
     "shell.execute_reply": "2023-08-13T23:21:15.431752Z"
    },
    "papermill": {
     "duration": 0.086534,
     "end_time": "2023-08-13T23:21:15.436628",
     "exception": false,
     "start_time": "2023-08-13T23:21:15.350094",
     "status": "completed"
    },
    "tags": []
   },
   "outputs": [],
   "source": [
    "# tfidf_vec_2 = TfidfVectorizer(ngram_range=(1,2))\n",
    "# tfidf_vec_2"
   ]
  },
  {
   "cell_type": "code",
   "execution_count": 235,
   "id": "193a4359",
   "metadata": {
    "execution": {
     "iopub.execute_input": "2023-08-13T23:21:15.592421Z",
     "iopub.status.busy": "2023-08-13T23:21:15.591991Z",
     "iopub.status.idle": "2023-08-13T23:21:15.599610Z",
     "shell.execute_reply": "2023-08-13T23:21:15.596944Z"
    },
    "papermill": {
     "duration": 0.090579,
     "end_time": "2023-08-13T23:21:15.603467",
     "exception": false,
     "start_time": "2023-08-13T23:21:15.512888",
     "status": "completed"
    },
    "tags": []
   },
   "outputs": [],
   "source": [
    "# ct_best4 = ColumnTransformer(transformers=[\n",
    "#                                             (\"num\", num_pipe, [\"audienceScore\"]),\n",
    "#                                             (\"cat\", cat_pipe, [\"rating\", \"isFrequentReviewer\"]),\n",
    "#                                             (\"tvec\", tfidf_vec_2, \"reviewText\")\n",
    "#                             ])\n",
    "\n",
    "# pipe_best4 = Pipeline(steps=[\n",
    "#     (\"preprocessor\", ct_best4),\n",
    "#     (\"model\", LogisticRegression())\n",
    "# ])\n",
    "\n",
    "# pipe_best4.set_params(model__C=10, model__max_iter=100000)\n",
    "\n",
    "# pipe_best4"
   ]
  },
  {
   "cell_type": "code",
   "execution_count": 236,
   "id": "449e3e86",
   "metadata": {
    "execution": {
     "iopub.execute_input": "2023-08-13T23:21:15.760486Z",
     "iopub.status.busy": "2023-08-13T23:21:15.760089Z",
     "iopub.status.idle": "2023-08-13T23:21:15.765500Z",
     "shell.execute_reply": "2023-08-13T23:21:15.764090Z"
    },
    "papermill": {
     "duration": 0.087514,
     "end_time": "2023-08-13T23:21:15.767948",
     "exception": false,
     "start_time": "2023-08-13T23:21:15.680434",
     "status": "completed"
    },
    "tags": []
   },
   "outputs": [],
   "source": [
    "# split_train_predict(merged[[\"audienceScore\", \"rating\", \"isFrequentReviewer\", \"reviewText\"]], merged[\"sentiment\"], pipe_best4, test_size=0.25)"
   ]
  },
  {
   "cell_type": "markdown",
   "id": "2dc53de3",
   "metadata": {
    "papermill": {
     "duration": 0.075928,
     "end_time": "2023-08-13T23:21:15.919957",
     "exception": false,
     "start_time": "2023-08-13T23:21:15.844029",
     "status": "completed"
    },
    "tags": []
   },
   "source": [
    "## Try only 'reviewText' column  "
   ]
  },
  {
   "cell_type": "code",
   "execution_count": 237,
   "id": "10aaef86",
   "metadata": {
    "execution": {
     "iopub.execute_input": "2023-08-13T23:21:16.077755Z",
     "iopub.status.busy": "2023-08-13T23:21:16.077252Z",
     "iopub.status.idle": "2023-08-13T23:21:16.083736Z",
     "shell.execute_reply": "2023-08-13T23:21:16.081910Z"
    },
    "papermill": {
     "duration": 0.090527,
     "end_time": "2023-08-13T23:21:16.086554",
     "exception": false,
     "start_time": "2023-08-13T23:21:15.996027",
     "status": "completed"
    },
    "tags": []
   },
   "outputs": [],
   "source": [
    "# tfidf_vec_3 = TfidfVectorizer(ngram_range=(1,2))\n",
    "# tfidf_vec_3"
   ]
  },
  {
   "cell_type": "code",
   "execution_count": 238,
   "id": "9ddee618",
   "metadata": {
    "execution": {
     "iopub.execute_input": "2023-08-13T23:21:16.239235Z",
     "iopub.status.busy": "2023-08-13T23:21:16.238817Z",
     "iopub.status.idle": "2023-08-13T23:21:16.244392Z",
     "shell.execute_reply": "2023-08-13T23:21:16.242924Z"
    },
    "papermill": {
     "duration": 0.085046,
     "end_time": "2023-08-13T23:21:16.246931",
     "exception": false,
     "start_time": "2023-08-13T23:21:16.161885",
     "status": "completed"
    },
    "tags": []
   },
   "outputs": [],
   "source": [
    "# ct_RTonly = ColumnTransformer(transformers=[\n",
    "#                                             ('txt', tfidf_vec_3, 'reviewText'),\n",
    "#                                             ], remainder='drop')\n",
    "# ct_RTonly"
   ]
  },
  {
   "cell_type": "code",
   "execution_count": 239,
   "id": "996dd901",
   "metadata": {
    "execution": {
     "iopub.execute_input": "2023-08-13T23:21:16.397566Z",
     "iopub.status.busy": "2023-08-13T23:21:16.397164Z",
     "iopub.status.idle": "2023-08-13T23:21:16.402416Z",
     "shell.execute_reply": "2023-08-13T23:21:16.401491Z"
    },
    "papermill": {
     "duration": 0.083381,
     "end_time": "2023-08-13T23:21:16.404319",
     "exception": false,
     "start_time": "2023-08-13T23:21:16.320938",
     "status": "completed"
    },
    "tags": []
   },
   "outputs": [],
   "source": [
    "# pipe_RTonly = Pipeline(steps=[\n",
    "#     (\"preprocessor\", ct_RTonly),\n",
    "#     (\"model\", LogisticRegression())\n",
    "# ])\n",
    "\n",
    "# pipe_RTonly.set_params(model__C=10, model__max_iter=100000)\n",
    "\n",
    "# pipe_RTonly"
   ]
  },
  {
   "cell_type": "markdown",
   "id": "98f61935",
   "metadata": {
    "papermill": {
     "duration": 0.075979,
     "end_time": "2023-08-13T23:21:16.556386",
     "exception": false,
     "start_time": "2023-08-13T23:21:16.480407",
     "status": "completed"
    },
    "tags": []
   },
   "source": [
    "## Using the 'submit_v4' function  "
   ]
  },
  {
   "cell_type": "markdown",
   "id": "4d8bb199",
   "metadata": {
    "papermill": {
     "duration": 0.075789,
     "end_time": "2023-08-13T23:21:16.707813",
     "exception": false,
     "start_time": "2023-08-13T23:21:16.632024",
     "status": "completed"
    },
    "tags": []
   },
   "source": [
    "### Try the best 4 parameters with submit_v4 function"
   ]
  },
  {
   "cell_type": "code",
   "execution_count": 240,
   "id": "62fec8ea",
   "metadata": {
    "execution": {
     "iopub.execute_input": "2023-08-13T23:21:16.863350Z",
     "iopub.status.busy": "2023-08-13T23:21:16.862929Z",
     "iopub.status.idle": "2023-08-13T23:21:16.868790Z",
     "shell.execute_reply": "2023-08-13T23:21:16.867466Z"
    },
    "papermill": {
     "duration": 0.087437,
     "end_time": "2023-08-13T23:21:16.871534",
     "exception": false,
     "start_time": "2023-08-13T23:21:16.784097",
     "status": "completed"
    },
    "tags": []
   },
   "outputs": [],
   "source": [
    "# best4 = [\"audienceScore\", \"rating\", \"isFrequentReviewer\", \"reviewText\"]\n",
    "\n",
    "# best4_dict = {'cat': [\"rating\", \"isFrequentReviewer\"],\n",
    "#              'num': [\"audienceScore\"],\n",
    "#              'txt': ['reviewText']}\n",
    "\n",
    "# best4_dict = {'num': [\"audienceScore\"],\n",
    "#              'txt': ['reviewText', 'movieid', 'director']}\n",
    "\n",
    "# best4_dict"
   ]
  },
  {
   "cell_type": "code",
   "execution_count": 241,
   "id": "a59d0f22",
   "metadata": {
    "execution": {
     "iopub.execute_input": "2023-08-13T23:21:17.026372Z",
     "iopub.status.busy": "2023-08-13T23:21:17.025987Z",
     "iopub.status.idle": "2023-08-13T23:21:17.030408Z",
     "shell.execute_reply": "2023-08-13T23:21:17.029140Z"
    },
    "papermill": {
     "duration": 0.084988,
     "end_time": "2023-08-13T23:21:17.033159",
     "exception": false,
     "start_time": "2023-08-13T23:21:16.948171",
     "status": "completed"
    },
    "tags": []
   },
   "outputs": [],
   "source": [
    "# submit_v4(selected_features=best4_dict)"
   ]
  },
  {
   "cell_type": "markdown",
   "id": "111bcea8",
   "metadata": {
    "papermill": {
     "duration": 0.075742,
     "end_time": "2023-08-13T23:21:17.187960",
     "exception": false,
     "start_time": "2023-08-13T23:21:17.112218",
     "status": "completed"
    },
    "tags": []
   },
   "source": [
    "### Try the best 3 parameters with submit_v4 function"
   ]
  },
  {
   "cell_type": "code",
   "execution_count": 242,
   "id": "62a18cb2",
   "metadata": {
    "execution": {
     "iopub.execute_input": "2023-08-13T23:21:17.346064Z",
     "iopub.status.busy": "2023-08-13T23:21:17.345586Z",
     "iopub.status.idle": "2023-08-13T23:21:17.351111Z",
     "shell.execute_reply": "2023-08-13T23:21:17.349004Z"
    },
    "papermill": {
     "duration": 0.088836,
     "end_time": "2023-08-13T23:21:17.353638",
     "exception": false,
     "start_time": "2023-08-13T23:21:17.264802",
     "status": "completed"
    },
    "tags": []
   },
   "outputs": [],
   "source": [
    "# best3 = [\"audienceScore\", \"isFrequentReviewer\", \"reviewText\"]\n",
    "# best3_dict = {'cat': [\"isFrequentReviewer\"],\n",
    "#              'num': [\"audienceScore\"],\n",
    "#              'txt': ['reviewText']}\n",
    "# best3_dict"
   ]
  },
  {
   "cell_type": "code",
   "execution_count": 243,
   "id": "34932ac7",
   "metadata": {
    "execution": {
     "iopub.execute_input": "2023-08-13T23:21:17.513486Z",
     "iopub.status.busy": "2023-08-13T23:21:17.512843Z",
     "iopub.status.idle": "2023-08-13T23:21:17.517837Z",
     "shell.execute_reply": "2023-08-13T23:21:17.516021Z"
    },
    "papermill": {
     "duration": 0.08895,
     "end_time": "2023-08-13T23:21:17.520143",
     "exception": false,
     "start_time": "2023-08-13T23:21:17.431193",
     "status": "completed"
    },
    "tags": []
   },
   "outputs": [],
   "source": [
    "# submit_v4(selected_features=best3_dict)"
   ]
  },
  {
   "cell_type": "markdown",
   "id": "e993955e",
   "metadata": {
    "papermill": {
     "duration": 0.078784,
     "end_time": "2023-08-13T23:21:17.678801",
     "exception": false,
     "start_time": "2023-08-13T23:21:17.600017",
     "status": "completed"
    },
    "tags": []
   },
   "source": [
    "## Try throwing almost everything (no boxOffice) at submit_v4!  "
   ]
  },
  {
   "cell_type": "code",
   "execution_count": 244,
   "id": "b2f82bcd",
   "metadata": {
    "execution": {
     "iopub.execute_input": "2023-08-13T23:21:17.834383Z",
     "iopub.status.busy": "2023-08-13T23:21:17.833086Z",
     "iopub.status.idle": "2023-08-13T23:21:17.842278Z",
     "shell.execute_reply": "2023-08-13T23:21:17.841087Z"
    },
    "papermill": {
     "duration": 0.088654,
     "end_time": "2023-08-13T23:21:17.844732",
     "exception": false,
     "start_time": "2023-08-13T23:21:17.756078",
     "status": "completed"
    },
    "tags": []
   },
   "outputs": [
    {
     "data": {
      "text/plain": [
       "\"Most from merged = ['movieid', 'reviewerName', 'isFrequentReviewer', 'reviewText',\\n       'audienceScore', 'rating', 'runtimeMinutes', 'genre', \\n       'originalLanguage', 'director']\""
      ]
     },
     "execution_count": 244,
     "metadata": {},
     "output_type": "execute_result"
    }
   ],
   "source": [
    "\"\"\"Most from merged = ['movieid', 'reviewerName', 'isFrequentReviewer', 'reviewText',\n",
    "       'audienceScore', 'rating', 'runtimeMinutes', 'genre', \n",
    "       'originalLanguage', 'director']\"\"\"\n",
    "\n",
    "# almost_dict = {'cat': [\"isFrequentReviewer\", \"rating\", \"originalLanguage\"],\n",
    "#              'num': [\"audienceScore\", \"runtimeMinutes\"],\n",
    "#              'txt': ['reviewText', 'reviewerName', 'movieid', 'genre', 'director']}\n",
    "# almost_dict"
   ]
  },
  {
   "cell_type": "code",
   "execution_count": 245,
   "id": "7be0a40c",
   "metadata": {
    "execution": {
     "iopub.execute_input": "2023-08-13T23:21:17.999384Z",
     "iopub.status.busy": "2023-08-13T23:21:17.998357Z",
     "iopub.status.idle": "2023-08-13T23:21:18.004214Z",
     "shell.execute_reply": "2023-08-13T23:21:18.002032Z"
    },
    "papermill": {
     "duration": 0.086728,
     "end_time": "2023-08-13T23:21:18.006869",
     "exception": false,
     "start_time": "2023-08-13T23:21:17.920141",
     "status": "completed"
    },
    "tags": []
   },
   "outputs": [],
   "source": [
    "# submit_v4(selected_features=almost_dict)"
   ]
  },
  {
   "cell_type": "markdown",
   "id": "f2208763",
   "metadata": {
    "papermill": {
     "duration": 0.074942,
     "end_time": "2023-08-13T23:21:18.159879",
     "exception": false,
     "start_time": "2023-08-13T23:21:18.084937",
     "status": "completed"
    },
    "tags": []
   },
   "source": [
    "## Try throwing everything possible at submit_v4!  "
   ]
  },
  {
   "cell_type": "code",
   "execution_count": 246,
   "id": "ba93726d",
   "metadata": {
    "execution": {
     "iopub.execute_input": "2023-08-13T23:21:18.316675Z",
     "iopub.status.busy": "2023-08-13T23:21:18.316219Z",
     "iopub.status.idle": "2023-08-13T23:21:18.322247Z",
     "shell.execute_reply": "2023-08-13T23:21:18.321492Z"
    },
    "papermill": {
     "duration": 0.088619,
     "end_time": "2023-08-13T23:21:18.324976",
     "exception": false,
     "start_time": "2023-08-13T23:21:18.236357",
     "status": "completed"
    },
    "tags": []
   },
   "outputs": [
    {
     "data": {
      "text/plain": [
       "\"All from merged = ['movieid', 'reviewerName', 'isFrequentReviewer', 'reviewText',\\n       'audienceScore', 'rating', 'runtimeMinutes', 'genre', 'boxOffice',\\n       'originalLanguage', 'director']\""
      ]
     },
     "execution_count": 246,
     "metadata": {},
     "output_type": "execute_result"
    }
   ],
   "source": [
    "\"\"\"All from merged = ['movieid', 'reviewerName', 'isFrequentReviewer', 'reviewText',\n",
    "       'audienceScore', 'rating', 'runtimeMinutes', 'genre', 'boxOffice',\n",
    "       'originalLanguage', 'director']\"\"\"\n",
    "\n",
    "# all_dict = {'cat': [\"isFrequentReviewer\", \"rating\", \"originalLanguage\"],\n",
    "#              'num': [\"audienceScore\", \"runtimeMinutes\", \"boxOffice\"],\n",
    "#              'txt': ['reviewText', 'reviewerName', 'movieid', 'genre', 'director']}\n",
    "# all_dict"
   ]
  },
  {
   "cell_type": "code",
   "execution_count": 247,
   "id": "1fe3890d",
   "metadata": {
    "execution": {
     "iopub.execute_input": "2023-08-13T23:21:18.478689Z",
     "iopub.status.busy": "2023-08-13T23:21:18.477900Z",
     "iopub.status.idle": "2023-08-13T23:21:18.482307Z",
     "shell.execute_reply": "2023-08-13T23:21:18.481190Z"
    },
    "papermill": {
     "duration": 0.083808,
     "end_time": "2023-08-13T23:21:18.484253",
     "exception": false,
     "start_time": "2023-08-13T23:21:18.400445",
     "status": "completed"
    },
    "tags": []
   },
   "outputs": [],
   "source": [
    "# submit_v4(selected_features=all_dict)"
   ]
  },
  {
   "cell_type": "markdown",
   "id": "124cb40a",
   "metadata": {
    "papermill": {
     "duration": 0.076452,
     "end_time": "2023-08-13T23:21:18.639293",
     "exception": false,
     "start_time": "2023-08-13T23:21:18.562841",
     "status": "completed"
    },
    "tags": []
   },
   "source": [
    "## Try GridSearchCV on everything  "
   ]
  },
  {
   "cell_type": "code",
   "execution_count": 248,
   "id": "96e42f34",
   "metadata": {
    "execution": {
     "iopub.execute_input": "2023-08-13T23:21:18.797409Z",
     "iopub.status.busy": "2023-08-13T23:21:18.796460Z",
     "iopub.status.idle": "2023-08-13T23:21:18.802729Z",
     "shell.execute_reply": "2023-08-13T23:21:18.800796Z"
    },
    "papermill": {
     "duration": 0.087904,
     "end_time": "2023-08-13T23:21:18.805514",
     "exception": false,
     "start_time": "2023-08-13T23:21:18.717610",
     "status": "completed"
    },
    "tags": []
   },
   "outputs": [],
   "source": [
    "# param_grid = {\n",
    "#     \"model__C\": [0.5, 2, 5, 15]\n",
    "# }\n",
    "\n",
    "# param_grid = {\n",
    "#     'model__C' : [1, 5],\n",
    "#     'model__solver': ['lbfgs', 'liblinear', 'newton-cg', 'newton-cholesky', 'sag', 'saga']\n",
    "# }\n",
    "\n",
    "# param_grid = {\n",
    "#     'model__C' : [1, 5],\n",
    "#     'model__solver': ['lbfgs', 'liblinear', 'sag', 'saga']\n",
    "# }\n",
    "\n",
    "# param_grid = {\n",
    "#     'model__C' : [1, 5, 10, 15],\n",
    "#     'model__solver': ['lbfgs', 'liblinear', 'saga', 'newton-cg']\n",
    "# }\n",
    "\n",
    "# param_grid = {\n",
    "#     'model__C' : [1, 5, 10, 20],\n",
    "#     'model__solver': ['lbfgs', 'liblinear', 'saga']\n",
    "# }\n",
    "\n",
    "# param_grid"
   ]
  },
  {
   "cell_type": "code",
   "execution_count": 249,
   "id": "d99b1632",
   "metadata": {
    "execution": {
     "iopub.execute_input": "2023-08-13T23:21:18.966742Z",
     "iopub.status.busy": "2023-08-13T23:21:18.965247Z",
     "iopub.status.idle": "2023-08-13T23:21:18.970803Z",
     "shell.execute_reply": "2023-08-13T23:21:18.969515Z"
    },
    "papermill": {
     "duration": 0.087931,
     "end_time": "2023-08-13T23:21:18.973162",
     "exception": false,
     "start_time": "2023-08-13T23:21:18.885231",
     "status": "completed"
    },
    "tags": []
   },
   "outputs": [],
   "source": [
    "# submit_v4(selected_features={'txt': [\"genre\"]}, param_grid=param_grid)"
   ]
  },
  {
   "cell_type": "code",
   "execution_count": 250,
   "id": "04945b3f",
   "metadata": {
    "execution": {
     "iopub.execute_input": "2023-08-13T23:21:19.132700Z",
     "iopub.status.busy": "2023-08-13T23:21:19.132317Z",
     "iopub.status.idle": "2023-08-13T23:21:19.139434Z",
     "shell.execute_reply": "2023-08-13T23:21:19.138525Z"
    },
    "papermill": {
     "duration": 0.091521,
     "end_time": "2023-08-13T23:21:19.141968",
     "exception": false,
     "start_time": "2023-08-13T23:21:19.050447",
     "status": "completed"
    },
    "tags": []
   },
   "outputs": [
    {
     "data": {
      "text/plain": [
       "\"Used 'groupby' function instead on 'drop_duplicates' on movies.csv file. \\nIt reduced the number of missing values significantly! \\nThen used LogisticRegression() with GridSearchCV on submit_v4 function with \\nparam_grid={'model__C': [1, 5, 10], 'model__solver': ['lbfgs', 'liblinear', 'saga']}. \\nThe best f1_micro score in GridSearchCV was 0.8399771362056203 which is highest among \\nall the versions so far. Best C was 5 and best solver was 'saga'.\\nScore obtained was 0.84385 which is lower than 0.84441.\""
      ]
     },
     "execution_count": 250,
     "metadata": {},
     "output_type": "execute_result"
    }
   ],
   "source": [
    "# submit_v4(selected_features=all_dict, param_grid=param_grid)\n",
    "\n",
    "# Best C was 5\n",
    "# Best solver was liblinear\n",
    "\n",
    "\"\"\"Used 'groupby' function instead on 'drop_duplicates' on movies.csv file. \n",
    "It reduced the number of missing values significantly! \n",
    "Then used LogisticRegression() with GridSearchCV on submit_v4 function with \n",
    "param_grid={'model__C': [1, 5, 10], 'model__solver': ['lbfgs', 'liblinear', 'saga']}. \n",
    "The best f1_micro score in GridSearchCV was 0.8399771362056203 which is highest among \n",
    "all the versions so far. Best C was 5 and best solver was 'saga'.\n",
    "Score obtained was 0.84385 which is lower than 0.84441.\"\"\""
   ]
  },
  {
   "cell_type": "code",
   "execution_count": 251,
   "id": "820a1c41",
   "metadata": {
    "execution": {
     "iopub.execute_input": "2023-08-13T23:21:19.300512Z",
     "iopub.status.busy": "2023-08-13T23:21:19.300085Z",
     "iopub.status.idle": "2023-08-13T23:21:19.305253Z",
     "shell.execute_reply": "2023-08-13T23:21:19.304223Z"
    },
    "papermill": {
     "duration": 0.086869,
     "end_time": "2023-08-13T23:21:19.307062",
     "exception": false,
     "start_time": "2023-08-13T23:21:19.220193",
     "status": "completed"
    },
    "tags": []
   },
   "outputs": [],
   "source": [
    "# Best 5 parameters\n",
    "\n",
    "# best5_dict = {'num': [\"audienceScore\"],\n",
    "#              'txt': ['reviewText', 'reviewerName','movieid', 'director']}\n",
    "\n",
    "# best5_dict"
   ]
  },
  {
   "cell_type": "code",
   "execution_count": 252,
   "id": "cc97f102",
   "metadata": {
    "execution": {
     "iopub.execute_input": "2023-08-13T23:21:19.463399Z",
     "iopub.status.busy": "2023-08-13T23:21:19.462394Z",
     "iopub.status.idle": "2023-08-13T23:21:19.469721Z",
     "shell.execute_reply": "2023-08-13T23:21:19.468461Z"
    },
    "papermill": {
     "duration": 0.087819,
     "end_time": "2023-08-13T23:21:19.471950",
     "exception": false,
     "start_time": "2023-08-13T23:21:19.384131",
     "status": "completed"
    },
    "tags": []
   },
   "outputs": [
    {
     "data": {
      "text/plain": [
       "\"(Update): Used both CountVectorizer and TfidfVectorizer on a massive GridSearchCV \\nwhich took 22527.2s  (6.25 hrs) to run! Gave a score of 0.8439093822800923 locally and did not overfit!\\nBest params: {'model__C': 1, 'model__solver': 'liblinear'}.\\nHighest public score yet: 0.84591 (Rank up from 9 to 5!)\""
      ]
     },
     "execution_count": 252,
     "metadata": {},
     "output_type": "execute_result"
    }
   ],
   "source": [
    "# Submit best 5 features\n",
    "\n",
    "\"\"\"(Update): Used both CountVectorizer and TfidfVectorizer on a massive GridSearchCV \n",
    "which took 22527.2s  (6.25 hrs) to run! Gave a score of 0.8439093822800923 locally and did not overfit!\n",
    "Best params: {'model__C': 1, 'model__solver': 'liblinear'}.\n",
    "Highest public score yet: 0.84591 (Rank up from 9 to 5!)\"\"\"\n",
    "\n",
    "# param_grid = {\n",
    "#     'model__C' : [5, 10, 15],\n",
    "#     'model__solver': ['lbfgs', 'liblinear', 'saga']\n",
    "# }\n",
    "\n",
    "\n",
    "# Try new param_grid with fit_intercept and dual in logreg\n",
    "\n",
    "# param_grid = {\n",
    "#     'model__C' : [1],\n",
    "#     'model__solver': ['liblinear'],\n",
    "#     \"model__fit_intercept\" : [True, False],\n",
    "#     \"model__dual\" : [True, False] \n",
    "# }\n",
    "\n",
    "\n",
    "# Local testing  \n",
    "# submit_v4(selected_features={'num': ['audienceScore']},\n",
    "#          add_countvec=True)\n",
    "\n",
    "# submit_v4(selected_features={'num': ['audienceScore']},\n",
    "#          add_countvec=True, \n",
    "#           param_grid=param_grid)\n",
    "\n",
    "\n",
    "# Main submission\n",
    "\n",
    "# submit_v4(selected_features=best5_dict,\n",
    "#          add_countvec=True)\n",
    "\n",
    "\n",
    "# submit_v4(selected_features=best5_dict,\n",
    "#           add_countvec=True,\n",
    "#           param_grid=param_grid)"
   ]
  },
  {
   "cell_type": "code",
   "execution_count": 253,
   "id": "8e1bc63b",
   "metadata": {
    "execution": {
     "iopub.execute_input": "2023-08-13T23:21:19.632367Z",
     "iopub.status.busy": "2023-08-13T23:21:19.631620Z",
     "iopub.status.idle": "2023-08-13T23:21:19.637220Z",
     "shell.execute_reply": "2023-08-13T23:21:19.635876Z"
    },
    "papermill": {
     "duration": 0.090713,
     "end_time": "2023-08-13T23:21:19.640290",
     "exception": false,
     "start_time": "2023-08-13T23:21:19.549577",
     "status": "completed"
    },
    "tags": []
   },
   "outputs": [],
   "source": [
    "## ALL DICT cv=10\n",
    "\n",
    "# all_dict = {'cat': [\"isFrequentReviewer\", \"rating\", \"originalLanguage\"],\n",
    "#              'num': [\"audienceScore\", \"runtimeMinutes\", \"boxOffice\"],\n",
    "#              'txt': ['reviewText', 'reviewerName', 'movieid', 'genre', 'director']}\n",
    "# print(all_dict)\n",
    "\n",
    "# param_grid = {\n",
    "#     'model__C' : [2, 5, 10],\n",
    "#     'model__solver': ['lbfgs', 'liblinear', 'saga']\n",
    "# }\n",
    "# print(param_grid)\n",
    "\n",
    "# param_grid = {\n",
    "#     'model__C' : [1, 5, 10],\n",
    "#     'model__solver': ['liblinear'],\n",
    "#     \"model__fit_intercept\" : [True, False],\n",
    "#     \"model__dual\" : [True, False] \n",
    "# }\n",
    "\n",
    "\n",
    "# Main submission\n",
    "\n",
    "# submit_v4(selected_model=LogisticRegression(C=5, solver='liblinear', max_iter=10000),\n",
    "#           selected_features=all_dict,\n",
    "#           param_grid=param_grid)\n",
    "\n",
    "# submit_v4(selected_features=all_dict,\n",
    "#           add_countvec=True,\n",
    "#           param_grid=param_grid)"
   ]
  },
  {
   "cell_type": "code",
   "execution_count": 254,
   "id": "315c11a3",
   "metadata": {
    "execution": {
     "iopub.execute_input": "2023-08-13T23:21:19.796945Z",
     "iopub.status.busy": "2023-08-13T23:21:19.796151Z",
     "iopub.status.idle": "2023-08-13T23:21:19.801368Z",
     "shell.execute_reply": "2023-08-13T23:21:19.799983Z"
    },
    "papermill": {
     "duration": 0.085448,
     "end_time": "2023-08-13T23:21:19.804034",
     "exception": false,
     "start_time": "2023-08-13T23:21:19.718586",
     "status": "completed"
    },
    "tags": []
   },
   "outputs": [],
   "source": [
    "# Best 6 parameters\n",
    "\n",
    "# best6_dict = {'cat': [\"isFrequentReviewer\"],\n",
    "#              'num': [\"audienceScore\"],\n",
    "#              'txt': ['reviewText', 'reviewerName', 'genre', 'director']}\n",
    "\n",
    "# best6_dict = {'num': [\"audienceScore\"],\n",
    "#              'txt': ['reviewText', 'reviewerName', 'genre','movieid', 'director']}\n",
    "\n",
    "# best6_dict"
   ]
  },
  {
   "cell_type": "code",
   "execution_count": 255,
   "id": "e3bb6926",
   "metadata": {
    "execution": {
     "iopub.execute_input": "2023-08-13T23:21:19.963167Z",
     "iopub.status.busy": "2023-08-13T23:21:19.962471Z",
     "iopub.status.idle": "2023-08-13T23:21:19.967189Z",
     "shell.execute_reply": "2023-08-13T23:21:19.965595Z"
    },
    "papermill": {
     "duration": 0.089833,
     "end_time": "2023-08-13T23:21:19.970072",
     "exception": false,
     "start_time": "2023-08-13T23:21:19.880239",
     "status": "completed"
    },
    "tags": []
   },
   "outputs": [],
   "source": [
    "# Submit best 6 features (version 2)\n",
    "\n",
    "# submit_v4(selected_features=best6_dict,\n",
    "#           param_grid=param_grid)"
   ]
  },
  {
   "cell_type": "code",
   "execution_count": 256,
   "id": "ff221afd",
   "metadata": {
    "execution": {
     "iopub.execute_input": "2023-08-13T23:21:20.141987Z",
     "iopub.status.busy": "2023-08-13T23:21:20.141280Z",
     "iopub.status.idle": "2023-08-13T23:21:20.145742Z",
     "shell.execute_reply": "2023-08-13T23:21:20.144525Z"
    },
    "papermill": {
     "duration": 0.092735,
     "end_time": "2023-08-13T23:21:20.148398",
     "exception": false,
     "start_time": "2023-08-13T23:21:20.055663",
     "status": "completed"
    },
    "tags": []
   },
   "outputs": [],
   "source": [
    "# Best 7 parameters\n",
    "\n",
    "# best7_dict = {'cat': [\"isFrequentReviewer\"],\n",
    "#              'num': [\"audienceScore\"],\n",
    "#              'txt': ['reviewText', 'reviewerName', 'movieid', 'genre', 'director']}\n",
    "# best7_dict"
   ]
  },
  {
   "cell_type": "code",
   "execution_count": 257,
   "id": "0e6ea96d",
   "metadata": {
    "execution": {
     "iopub.execute_input": "2023-08-13T23:21:20.306423Z",
     "iopub.status.busy": "2023-08-13T23:21:20.305987Z",
     "iopub.status.idle": "2023-08-13T23:21:20.311618Z",
     "shell.execute_reply": "2023-08-13T23:21:20.310129Z"
    },
    "papermill": {
     "duration": 0.087877,
     "end_time": "2023-08-13T23:21:20.314065",
     "exception": false,
     "start_time": "2023-08-13T23:21:20.226188",
     "status": "completed"
    },
    "tags": []
   },
   "outputs": [],
   "source": [
    "# Submit best 7 features\n",
    "\n",
    "# submit_v4(selected_features=best7_dict,\n",
    "#           param_grid=param_grid)"
   ]
  },
  {
   "cell_type": "code",
   "execution_count": 258,
   "id": "ebd1e44b",
   "metadata": {
    "execution": {
     "iopub.execute_input": "2023-08-13T23:21:20.470653Z",
     "iopub.status.busy": "2023-08-13T23:21:20.468407Z",
     "iopub.status.idle": "2023-08-13T23:21:20.474441Z",
     "shell.execute_reply": "2023-08-13T23:21:20.473654Z"
    },
    "papermill": {
     "duration": 0.08552,
     "end_time": "2023-08-13T23:21:20.476586",
     "exception": false,
     "start_time": "2023-08-13T23:21:20.391066",
     "status": "completed"
    },
    "tags": []
   },
   "outputs": [],
   "source": [
    "# submit_v4(selected_features=best6_dict, param_grid=param_grid)"
   ]
  },
  {
   "cell_type": "markdown",
   "id": "bc1e6711",
   "metadata": {
    "papermill": {
     "duration": 0.076661,
     "end_time": "2023-08-13T23:21:20.631468",
     "exception": false,
     "start_time": "2023-08-13T23:21:20.554807",
     "status": "completed"
    },
    "tags": []
   },
   "source": [
    "## Try a new feature dict  \n",
    "\n"
   ]
  },
  {
   "cell_type": "code",
   "execution_count": 259,
   "id": "41f9143e",
   "metadata": {
    "execution": {
     "iopub.execute_input": "2023-08-13T23:21:20.787680Z",
     "iopub.status.busy": "2023-08-13T23:21:20.787218Z",
     "iopub.status.idle": "2023-08-13T23:21:20.792421Z",
     "shell.execute_reply": "2023-08-13T23:21:20.791115Z"
    },
    "papermill": {
     "duration": 0.085096,
     "end_time": "2023-08-13T23:21:20.794168",
     "exception": false,
     "start_time": "2023-08-13T23:21:20.709072",
     "status": "completed"
    },
    "tags": []
   },
   "outputs": [],
   "source": [
    "# all_dict_new = {'cat': [\"isFrequentReviewer\", \"rating\", \"originalLanguage\"],\n",
    "#              'num': [\"audienceScore\", \"runtimeMinutes\", \"boxOffice\"],\n",
    "#              'txt': ['reviewText', \"reviewerName\", 'movieid', 'genre', 'director']}\n",
    "# all_dict_new"
   ]
  },
  {
   "cell_type": "code",
   "execution_count": 260,
   "id": "aea56cdf",
   "metadata": {
    "execution": {
     "iopub.execute_input": "2023-08-13T23:21:20.949397Z",
     "iopub.status.busy": "2023-08-13T23:21:20.948520Z",
     "iopub.status.idle": "2023-08-13T23:21:20.954707Z",
     "shell.execute_reply": "2023-08-13T23:21:20.952587Z"
    },
    "papermill": {
     "duration": 0.0867,
     "end_time": "2023-08-13T23:21:20.957759",
     "exception": false,
     "start_time": "2023-08-13T23:21:20.871059",
     "status": "completed"
    },
    "tags": []
   },
   "outputs": [],
   "source": [
    "# submit_v4(selected_features={'txt': ['genre']}, param_grid=param_grid)"
   ]
  },
  {
   "cell_type": "code",
   "execution_count": 261,
   "id": "b3c1de07",
   "metadata": {
    "execution": {
     "iopub.execute_input": "2023-08-13T23:21:21.113151Z",
     "iopub.status.busy": "2023-08-13T23:21:21.112718Z",
     "iopub.status.idle": "2023-08-13T23:21:21.117957Z",
     "shell.execute_reply": "2023-08-13T23:21:21.116047Z"
    },
    "papermill": {
     "duration": 0.085746,
     "end_time": "2023-08-13T23:21:21.120351",
     "exception": false,
     "start_time": "2023-08-13T23:21:21.034605",
     "status": "completed"
    },
    "tags": []
   },
   "outputs": [],
   "source": [
    "# submit_v4(selected_features=all_dict_new, param_grid=param_grid)"
   ]
  },
  {
   "cell_type": "code",
   "execution_count": 262,
   "id": "3416c743",
   "metadata": {
    "execution": {
     "iopub.execute_input": "2023-08-13T23:21:21.277257Z",
     "iopub.status.busy": "2023-08-13T23:21:21.276496Z",
     "iopub.status.idle": "2023-08-13T23:21:21.280276Z",
     "shell.execute_reply": "2023-08-13T23:21:21.279571Z"
    },
    "papermill": {
     "duration": 0.084501,
     "end_time": "2023-08-13T23:21:21.282559",
     "exception": false,
     "start_time": "2023-08-13T23:21:21.198058",
     "status": "completed"
    },
    "tags": []
   },
   "outputs": [],
   "source": [
    "# Try non-text based columns\n",
    "# num_cat_dict = {'cat': ['isFrequentReviewer', 'rating', 'originalLanguage'],\n",
    "#  'num': ['audienceScore', 'runtimeMinutes', 'boxOffice']}\n",
    "# num_cat_dict"
   ]
  },
  {
   "cell_type": "code",
   "execution_count": 263,
   "id": "9efdad16",
   "metadata": {
    "execution": {
     "iopub.execute_input": "2023-08-13T23:21:21.438678Z",
     "iopub.status.busy": "2023-08-13T23:21:21.437595Z",
     "iopub.status.idle": "2023-08-13T23:21:21.441851Z",
     "shell.execute_reply": "2023-08-13T23:21:21.441124Z"
    },
    "papermill": {
     "duration": 0.085132,
     "end_time": "2023-08-13T23:21:21.444235",
     "exception": false,
     "start_time": "2023-08-13T23:21:21.359103",
     "status": "completed"
    },
    "tags": []
   },
   "outputs": [],
   "source": [
    "# Use num_cat_dict features\n",
    "# (Update): Gets a local score of 0.7027181356991726. Not great.\n",
    "# submit_v4(selected_model=LogisticRegression(max_iter=100000), selected_features=num_cat_dict, param_grid=param_grid)"
   ]
  },
  {
   "cell_type": "code",
   "execution_count": 264,
   "id": "fbfc0047",
   "metadata": {
    "execution": {
     "iopub.execute_input": "2023-08-13T23:21:21.598495Z",
     "iopub.status.busy": "2023-08-13T23:21:21.597771Z",
     "iopub.status.idle": "2023-08-13T23:21:21.601583Z",
     "shell.execute_reply": "2023-08-13T23:21:21.600899Z"
    },
    "papermill": {
     "duration": 0.083931,
     "end_time": "2023-08-13T23:21:21.604004",
     "exception": false,
     "start_time": "2023-08-13T23:21:21.520073",
     "status": "completed"
    },
    "tags": []
   },
   "outputs": [],
   "source": [
    "# Try data other than reviewText\n",
    "\n",
    "# mov_dict = {'cat': ['rating', 'originalLanguage'],\n",
    "#  'num': ['audienceScore', 'runtimeMinutes', 'boxOffice'],\n",
    "#  'txt': ['movieid', 'genre', 'director']}\n",
    "# mov_dict"
   ]
  },
  {
   "cell_type": "code",
   "execution_count": 265,
   "id": "ca09842f",
   "metadata": {
    "execution": {
     "iopub.execute_input": "2023-08-13T23:21:21.760730Z",
     "iopub.status.busy": "2023-08-13T23:21:21.759659Z",
     "iopub.status.idle": "2023-08-13T23:21:21.764509Z",
     "shell.execute_reply": "2023-08-13T23:21:21.763236Z"
    },
    "papermill": {
     "duration": 0.087089,
     "end_time": "2023-08-13T23:21:21.767672",
     "exception": false,
     "start_time": "2023-08-13T23:21:21.680583",
     "status": "completed"
    },
    "tags": []
   },
   "outputs": [],
   "source": [
    "# Use mov_dict features\n",
    "# (Update): Gets a local score of 0.7475454316469369, which is not bad at all.\n",
    "# submit_v4(selected_model=LogisticRegression(max_iter=100000), selected_features=mov_dict, param_grid=param_grid)"
   ]
  },
  {
   "cell_type": "markdown",
   "id": "f499965f",
   "metadata": {
    "papermill": {
     "duration": 0.07482,
     "end_time": "2023-08-13T23:21:21.919131",
     "exception": false,
     "start_time": "2023-08-13T23:21:21.844311",
     "status": "completed"
    },
    "tags": []
   },
   "source": [
    "# Try a new column 'reviewYN'  \n",
    "\n"
   ]
  },
  {
   "cell_type": "code",
   "execution_count": 266,
   "id": "f52cfa90",
   "metadata": {
    "execution": {
     "iopub.execute_input": "2023-08-13T23:21:22.078148Z",
     "iopub.status.busy": "2023-08-13T23:21:22.077693Z",
     "iopub.status.idle": "2023-08-13T23:21:22.082576Z",
     "shell.execute_reply": "2023-08-13T23:21:22.081142Z"
    },
    "papermill": {
     "duration": 0.089198,
     "end_time": "2023-08-13T23:21:22.085409",
     "exception": false,
     "start_time": "2023-08-13T23:21:21.996211",
     "status": "completed"
    },
    "tags": []
   },
   "outputs": [],
   "source": [
    "# all_dict_3 = {'cat': [\"isFrequentReviewer\", \"rating\", \"originalLanguage\", \"reviewYN\"],\n",
    "#              'num': [\"audienceScore\", \"runtimeMinutes\", \"boxOffice\"],\n",
    "#              'txt': ['reviewText', \"reviewerName\", 'movieid', 'genre', 'director']}\n",
    "# all_dict_3"
   ]
  },
  {
   "cell_type": "code",
   "execution_count": 267,
   "id": "bec511e6",
   "metadata": {
    "execution": {
     "iopub.execute_input": "2023-08-13T23:21:22.242357Z",
     "iopub.status.busy": "2023-08-13T23:21:22.240994Z",
     "iopub.status.idle": "2023-08-13T23:21:22.246516Z",
     "shell.execute_reply": "2023-08-13T23:21:22.245572Z"
    },
    "papermill": {
     "duration": 0.085723,
     "end_time": "2023-08-13T23:21:22.248464",
     "exception": false,
     "start_time": "2023-08-13T23:21:22.162741",
     "status": "completed"
    },
    "tags": []
   },
   "outputs": [],
   "source": [
    "# submit_v4(selected_model=LogisticRegression(max_iter=100000),\n",
    "#          selected_features=all_dict_3, \n",
    "#           param_grid=param_grid)"
   ]
  },
  {
   "cell_type": "markdown",
   "id": "e033e385",
   "metadata": {
    "papermill": {
     "duration": 0.074831,
     "end_time": "2023-08-13T23:21:22.400191",
     "exception": false,
     "start_time": "2023-08-13T23:21:22.325360",
     "status": "completed"
    },
    "tags": []
   },
   "source": [
    "### More GridSearchCV using LinearSVC  "
   ]
  },
  {
   "cell_type": "code",
   "execution_count": 268,
   "id": "48dd04d7",
   "metadata": {
    "execution": {
     "iopub.execute_input": "2023-08-13T23:21:22.672399Z",
     "iopub.status.busy": "2023-08-13T23:21:22.672003Z",
     "iopub.status.idle": "2023-08-13T23:21:22.677751Z",
     "shell.execute_reply": "2023-08-13T23:21:22.676015Z"
    },
    "papermill": {
     "duration": 0.203354,
     "end_time": "2023-08-13T23:21:22.680871",
     "exception": false,
     "start_time": "2023-08-13T23:21:22.477517",
     "status": "completed"
    },
    "tags": []
   },
   "outputs": [],
   "source": [
    "# param_grid_svc_2 = {\n",
    "#     'model__C': [1.0],\n",
    "#     'model__loss': ['hinge', 'squared_hinge'],\n",
    "#     'model__class_weight': ['balanced', None]\n",
    "# }\n",
    "# param_grid_svc_2"
   ]
  },
  {
   "cell_type": "code",
   "execution_count": 269,
   "id": "124ab577",
   "metadata": {
    "execution": {
     "iopub.execute_input": "2023-08-13T23:21:22.840628Z",
     "iopub.status.busy": "2023-08-13T23:21:22.839227Z",
     "iopub.status.idle": "2023-08-13T23:21:22.845434Z",
     "shell.execute_reply": "2023-08-13T23:21:22.844299Z"
    },
    "papermill": {
     "duration": 0.086965,
     "end_time": "2023-08-13T23:21:22.848048",
     "exception": false,
     "start_time": "2023-08-13T23:21:22.761083",
     "status": "completed"
    },
    "tags": []
   },
   "outputs": [],
   "source": [
    "# submit_v4(selected_model=LinearSVC(max_iter=100000, random_state=42), selected_features={'num': [\"audienceScore\"]}, param_grid=param_grid_svc_2)"
   ]
  },
  {
   "cell_type": "code",
   "execution_count": 270,
   "id": "4674bfa0",
   "metadata": {
    "execution": {
     "iopub.execute_input": "2023-08-13T23:21:23.007197Z",
     "iopub.status.busy": "2023-08-13T23:21:23.005574Z",
     "iopub.status.idle": "2023-08-13T23:21:23.011861Z",
     "shell.execute_reply": "2023-08-13T23:21:23.010965Z"
    },
    "papermill": {
     "duration": 0.086229,
     "end_time": "2023-08-13T23:21:23.013925",
     "exception": false,
     "start_time": "2023-08-13T23:21:22.927696",
     "status": "completed"
    },
    "tags": []
   },
   "outputs": [],
   "source": [
    "# submit_v4(selected_model=LinearSVC(max_iter=100000, random_state=42), selected_features=all_dict, param_grid=param_grid_svc_2)"
   ]
  },
  {
   "cell_type": "markdown",
   "id": "eab575f0",
   "metadata": {
    "papermill": {
     "duration": 0.080557,
     "end_time": "2023-08-13T23:21:23.174327",
     "exception": false,
     "start_time": "2023-08-13T23:21:23.093770",
     "status": "completed"
    },
    "tags": []
   },
   "source": [
    "### Boosting techniques  "
   ]
  },
  {
   "cell_type": "code",
   "execution_count": 271,
   "id": "e7370771",
   "metadata": {
    "execution": {
     "iopub.execute_input": "2023-08-13T23:21:23.342672Z",
     "iopub.status.busy": "2023-08-13T23:21:23.341908Z",
     "iopub.status.idle": "2023-08-13T23:21:23.345876Z",
     "shell.execute_reply": "2023-08-13T23:21:23.345137Z"
    },
    "papermill": {
     "duration": 0.089975,
     "end_time": "2023-08-13T23:21:23.348275",
     "exception": false,
     "start_time": "2023-08-13T23:21:23.258300",
     "status": "completed"
    },
    "tags": []
   },
   "outputs": [],
   "source": [
    "# adc = AdaBoostClassifier(estimator=LogisticRegression(C=5, solver=\"saga\", max_iter=100000), n_estimators=50)\n",
    "# adc"
   ]
  },
  {
   "cell_type": "code",
   "execution_count": 272,
   "id": "c5ffd12d",
   "metadata": {
    "execution": {
     "iopub.execute_input": "2023-08-13T23:21:23.510203Z",
     "iopub.status.busy": "2023-08-13T23:21:23.509751Z",
     "iopub.status.idle": "2023-08-13T23:21:23.515079Z",
     "shell.execute_reply": "2023-08-13T23:21:23.513628Z"
    },
    "papermill": {
     "duration": 0.086964,
     "end_time": "2023-08-13T23:21:23.518164",
     "exception": false,
     "start_time": "2023-08-13T23:21:23.431200",
     "status": "completed"
    },
    "tags": []
   },
   "outputs": [],
   "source": [
    "# submit_v4(selected_model=adc, selected_features={'num': [\"audienceScore\"]}, param_grid=None)"
   ]
  },
  {
   "cell_type": "code",
   "execution_count": 273,
   "id": "bd8b3306",
   "metadata": {
    "execution": {
     "iopub.execute_input": "2023-08-13T23:21:23.676989Z",
     "iopub.status.busy": "2023-08-13T23:21:23.676568Z",
     "iopub.status.idle": "2023-08-13T23:21:23.681733Z",
     "shell.execute_reply": "2023-08-13T23:21:23.680602Z"
    },
    "papermill": {
     "duration": 0.088909,
     "end_time": "2023-08-13T23:21:23.684067",
     "exception": false,
     "start_time": "2023-08-13T23:21:23.595158",
     "status": "completed"
    },
    "tags": []
   },
   "outputs": [],
   "source": [
    "# submit_v4(selected_model=adc, selected_features=all_dict, param_grid=None)\n",
    "\n",
    "# Took 1 hour 15 mins to run and gave a public score of only 0.71089. Discarded."
   ]
  },
  {
   "cell_type": "markdown",
   "id": "478369a3",
   "metadata": {
    "papermill": {
     "duration": 0.077244,
     "end_time": "2023-08-13T23:21:23.841847",
     "exception": false,
     "start_time": "2023-08-13T23:21:23.764603",
     "status": "completed"
    },
    "tags": []
   },
   "source": [
    "### LightGBM  "
   ]
  },
  {
   "cell_type": "code",
   "execution_count": 274,
   "id": "3ce0d7d3",
   "metadata": {
    "execution": {
     "iopub.execute_input": "2023-08-13T23:21:23.999196Z",
     "iopub.status.busy": "2023-08-13T23:21:23.998264Z",
     "iopub.status.idle": "2023-08-13T23:21:24.005566Z",
     "shell.execute_reply": "2023-08-13T23:21:24.003292Z"
    },
    "papermill": {
     "duration": 0.089914,
     "end_time": "2023-08-13T23:21:24.008266",
     "exception": false,
     "start_time": "2023-08-13T23:21:23.918352",
     "status": "completed"
    },
    "tags": []
   },
   "outputs": [],
   "source": [
    "# lgb = ltb.LGBMClassifier()\n",
    "# lgb"
   ]
  },
  {
   "cell_type": "code",
   "execution_count": 275,
   "id": "219b847f",
   "metadata": {
    "execution": {
     "iopub.execute_input": "2023-08-13T23:21:24.167194Z",
     "iopub.status.busy": "2023-08-13T23:21:24.166548Z",
     "iopub.status.idle": "2023-08-13T23:21:24.170562Z",
     "shell.execute_reply": "2023-08-13T23:21:24.169467Z"
    },
    "papermill": {
     "duration": 0.085694,
     "end_time": "2023-08-13T23:21:24.173247",
     "exception": false,
     "start_time": "2023-08-13T23:21:24.087553",
     "status": "completed"
    },
    "tags": []
   },
   "outputs": [],
   "source": [
    "# Try LightGBM with default settings\n",
    "# (Update): Public score only 0.77713. It was fast, took less than 5 mins (without GridSearchCV)\n",
    "\n",
    "# submit_v4(selected_model=ltb.LGBMClassifier(), selected_features=all_dict, param_grid=None)"
   ]
  },
  {
   "cell_type": "markdown",
   "id": "04432bf5",
   "metadata": {
    "papermill": {
     "duration": 0.076621,
     "end_time": "2023-08-13T23:21:24.326372",
     "exception": false,
     "start_time": "2023-08-13T23:21:24.249751",
     "status": "completed"
    },
    "tags": []
   },
   "source": [
    "# Try feature selection and vocab fine tuning of reviewText column"
   ]
  },
  {
   "cell_type": "markdown",
   "id": "0c56c979",
   "metadata": {
    "papermill": {
     "duration": 0.076253,
     "end_time": "2023-08-13T23:21:24.479566",
     "exception": false,
     "start_time": "2023-08-13T23:21:24.403313",
     "status": "completed"
    },
    "tags": []
   },
   "source": [
    "## Plan  \n",
    "* Add a new column 'reviewWC' which has word count of 'reviewText'  \n",
    "    * Check if there is any relationship between 'reviewWC' and 'sentiment'\n",
    "* Work on vocabulary\n",
    "     * Use TfidfVectorizer and find out the vocabulary of 'reviewText' column for various ngrams\n",
    "     * Use RecursiveFeatureElimination (RFE) or RFECV to select 1000 top words/vocab for each ngram\n",
    "     * Use the final vocab (1000-3000 words) in the model and see how it performs compared to whole vocab\n"
   ]
  },
  {
   "cell_type": "code",
   "execution_count": 276,
   "id": "5e7e228d",
   "metadata": {
    "execution": {
     "iopub.execute_input": "2023-08-13T23:21:24.636025Z",
     "iopub.status.busy": "2023-08-13T23:21:24.635569Z",
     "iopub.status.idle": "2023-08-13T23:21:24.640785Z",
     "shell.execute_reply": "2023-08-13T23:21:24.639139Z"
    },
    "papermill": {
     "duration": 0.087568,
     "end_time": "2023-08-13T23:21:24.643368",
     "exception": false,
     "start_time": "2023-08-13T23:21:24.555800",
     "status": "completed"
    },
    "tags": []
   },
   "outputs": [],
   "source": [
    "# 'reviewWC' and 'sentiment'\n",
    "# (Conclusion): 'reviewWC' is practically same as DummyClassifier (accuracy of 0.6682375059904889 on train data). It just predicts 'positive' for all columns\n",
    "\n",
    "# reviewWC_dict = {\"num\": [\"reviewWC\"]}\n",
    "# submit_v4(selected_model=LogisticRegression(),\n",
    "#          selected_features=reviewWC_dict,\n",
    "#          param_grid=None)"
   ]
  },
  {
   "cell_type": "code",
   "execution_count": 277,
   "id": "b59a8072",
   "metadata": {
    "execution": {
     "iopub.execute_input": "2023-08-13T23:21:24.800147Z",
     "iopub.status.busy": "2023-08-13T23:21:24.799676Z",
     "iopub.status.idle": "2023-08-13T23:21:24.806258Z",
     "shell.execute_reply": "2023-08-13T23:21:24.804285Z"
    },
    "papermill": {
     "duration": 0.088131,
     "end_time": "2023-08-13T23:21:24.809180",
     "exception": false,
     "start_time": "2023-08-13T23:21:24.721049",
     "status": "completed"
    },
    "tags": []
   },
   "outputs": [],
   "source": [
    "# 'reviewYN' and 'sentiment'\n",
    "# (Conclusion): 'reviewYN' is practically same as DummyClassifier (accuracy of 0.6682375059904889 on train data). It just predicts 'positive' for all columns\n",
    "\n",
    "# reviewYN_dict = {\"cat\": [\"reviewYN\"]}\n",
    "# submit_v4(selected_model=LogisticRegression(),\n",
    "#          selected_features=reviewYN_dict,\n",
    "#          param_grid=None)"
   ]
  },
  {
   "cell_type": "markdown",
   "id": "462bf106",
   "metadata": {
    "papermill": {
     "duration": 0.077422,
     "end_time": "2023-08-13T23:21:24.964466",
     "exception": false,
     "start_time": "2023-08-13T23:21:24.887044",
     "status": "completed"
    },
    "tags": []
   },
   "source": [
    "## Submissions using 'vocabulary' built from 'reviewText' data  "
   ]
  },
  {
   "cell_type": "markdown",
   "id": "f629a0f5",
   "metadata": {
    "papermill": {
     "duration": 0.077203,
     "end_time": "2023-08-13T23:21:25.119573",
     "exception": false,
     "start_time": "2023-08-13T23:21:25.042370",
     "status": "completed"
    },
    "tags": []
   },
   "source": [
    "### Submit best 6 features along with common vocab  "
   ]
  },
  {
   "cell_type": "code",
   "execution_count": 278,
   "id": "47d3b258",
   "metadata": {
    "execution": {
     "iopub.execute_input": "2023-08-13T23:21:25.276446Z",
     "iopub.status.busy": "2023-08-13T23:21:25.276087Z",
     "iopub.status.idle": "2023-08-13T23:21:25.282639Z",
     "shell.execute_reply": "2023-08-13T23:21:25.281257Z"
    },
    "papermill": {
     "duration": 0.08823,
     "end_time": "2023-08-13T23:21:25.284729",
     "exception": false,
     "start_time": "2023-08-13T23:21:25.196499",
     "status": "completed"
    },
    "tags": []
   },
   "outputs": [],
   "source": [
    "# Best 6 parameters (version 2)  \n",
    "\n",
    "# best6_dict = {'num': [\"audienceScore\"],\n",
    "#              'txt': ['reviewText', 'reviewerName', 'genre','movieid', 'director']}\n",
    "\n",
    "# best6_dict"
   ]
  },
  {
   "cell_type": "code",
   "execution_count": 279,
   "id": "9d9b31dd",
   "metadata": {
    "execution": {
     "iopub.execute_input": "2023-08-13T23:21:25.441306Z",
     "iopub.status.busy": "2023-08-13T23:21:25.440859Z",
     "iopub.status.idle": "2023-08-13T23:21:25.446549Z",
     "shell.execute_reply": "2023-08-13T23:21:25.444684Z"
    },
    "papermill": {
     "duration": 0.086367,
     "end_time": "2023-08-13T23:21:25.448729",
     "exception": false,
     "start_time": "2023-08-13T23:21:25.362362",
     "status": "completed"
    },
    "tags": []
   },
   "outputs": [],
   "source": [
    "# Submit best 6 features (version 2) with common vocabulary (common_1_2_grams)\n",
    "# (Update): Score 0.82867\n",
    "\n",
    "# submit_v4(selected_features=best6_dict,\n",
    "#           param_grid=param_grid,\n",
    "#          vocab=common_1_2_grams)"
   ]
  },
  {
   "cell_type": "code",
   "execution_count": 280,
   "id": "33cdd26d",
   "metadata": {
    "execution": {
     "iopub.execute_input": "2023-08-13T23:21:25.611023Z",
     "iopub.status.busy": "2023-08-13T23:21:25.610629Z",
     "iopub.status.idle": "2023-08-13T23:21:25.618582Z",
     "shell.execute_reply": "2023-08-13T23:21:25.614565Z"
    },
    "papermill": {
     "duration": 0.095447,
     "end_time": "2023-08-13T23:21:25.621688",
     "exception": false,
     "start_time": "2023-08-13T23:21:25.526241",
     "status": "completed"
    },
    "tags": []
   },
   "outputs": [],
   "source": [
    "# Submit best 6 features (version 2) with common vocabulary (common_1_2_3_grams)\n",
    "# Note: for this submission submit_v4 function has to be modified: reviewText TfidfVectorizer must have ngram_range(1,3).\n",
    "# (Update): Score in the range 0.825+\n",
    "\n",
    "# submit_v4(selected_features=best6_dict,\n",
    "#           param_grid=param_grid,\n",
    "#          vocab=common_1_2_3_grams)"
   ]
  }
 ],
 "metadata": {
  "kernelspec": {
   "display_name": "Python 3",
   "language": "python",
   "name": "python3"
  },
  "language_info": {
   "codemirror_mode": {
    "name": "ipython",
    "version": 3
   },
   "file_extension": ".py",
   "mimetype": "text/x-python",
   "name": "python",
   "nbconvert_exporter": "python",
   "pygments_lexer": "ipython3",
   "version": "3.10.10"
  },
  "papermill": {
   "default_parameters": {},
   "duration": 27315.094946,
   "end_time": "2023-08-13T23:21:28.973751",
   "environment_variables": {},
   "exception": null,
   "input_path": "__notebook__.ipynb",
   "output_path": "__notebook__.ipynb",
   "parameters": {},
   "start_time": "2023-08-13T15:46:13.878805",
   "version": "2.4.0"
  }
 },
 "nbformat": 4,
 "nbformat_minor": 5
}
