{
 "cells": [
  {
   "cell_type": "markdown",
   "id": "42e8d187",
   "metadata": {
    "papermill": {
     "duration": 0.100889,
     "end_time": "2023-08-13T08:31:13.632380",
     "exception": false,
     "start_time": "2023-08-13T08:31:13.531491",
     "status": "completed"
    },
    "tags": []
   },
   "source": [
    "# MLP Project (T2 2023) by Ganesh P  "
   ]
  },
  {
   "cell_type": "markdown",
   "id": "4e14c110",
   "metadata": {
    "papermill": {
     "duration": 0.100868,
     "end_time": "2023-08-13T08:31:13.834145",
     "exception": false,
     "start_time": "2023-08-13T08:31:13.733277",
     "status": "completed"
    },
    "tags": []
   },
   "source": [
    "`Disclaimer`   \n",
    "\n",
    "> This final notebook contains only the most relevant code to show the path/flow of my project work over few weeks. Rest of the code is in [my github repo](https://github.com/ganeshbmc/MLP_project) which is private at present (I will make it public after the project is over).  "
   ]
  },
  {
   "cell_type": "markdown",
   "id": "348a6b68",
   "metadata": {
    "papermill": {
     "duration": 0.100039,
     "end_time": "2023-08-13T08:31:14.031777",
     "exception": false,
     "start_time": "2023-08-13T08:31:13.931738",
     "status": "completed"
    },
    "tags": []
   },
   "source": [
    "`Strengths`  \n",
    "\n",
    "> * Modular code (DRY principle)  \n",
    "> * End to end pipeline in one function (with helper functions)   "
   ]
  },
  {
   "cell_type": "markdown",
   "id": "649e81d3",
   "metadata": {
    "papermill": {
     "duration": 0.097994,
     "end_time": "2023-08-13T08:31:14.229923",
     "exception": false,
     "start_time": "2023-08-13T08:31:14.131929",
     "status": "completed"
    },
    "tags": []
   },
   "source": [
    "`Overview`  \n",
    "\n",
    "`PART I`  \n",
    "\n",
    "1.\t> Screen the datasets and import them.  \n",
    "2.\t> Perform EDA (first round).\n",
    "3.\t> Data cleaning.\n",
    "4.\t> Basic models including dummy model.\n",
    "5.\t> Because this is a text sentiment analysis project, focus on 'reviewText' column, work on cleaning text data and vectorising/tokenising it, build several models till the best possible score is reached.  \n",
    "\n",
    "`PART II`  \n",
    "\n",
    "6.\t> Merge train and movies dataset.\n",
    "7.\t> Perform EDA (second round) on merged dataset.\n",
    "8.\t> Data cleaning.\n",
    "9.\t> Build models on merged dataset.\n",
    "10.\t> Understand the results and do another round of EDA if needed.\n",
    "11.\t> Build final model.  \n",
    "\n",
    "`PART III (After project window closes)`  \n",
    "\n",
    "12. > Use NLTK library for further processing text data.  \n",
    "13. > Try to address comments from different languages, special characters etc.  \n",
    "14. > Try imblearn library to address class imbalance.  \n",
    "15. > Try to use currently available LLMs and see how my model performs agains them.  "
   ]
  },
  {
   "cell_type": "markdown",
   "id": "17cfa623",
   "metadata": {
    "papermill": {
     "duration": 0.098895,
     "end_time": "2023-08-13T08:31:14.427397",
     "exception": false,
     "start_time": "2023-08-13T08:31:14.328502",
     "status": "completed"
    },
    "tags": []
   },
   "source": [
    "`Default code on Kaggle notebook`  "
   ]
  },
  {
   "cell_type": "code",
   "execution_count": 1,
   "id": "cf487b86",
   "metadata": {
    "_cell_guid": "b1076dfc-b9ad-4769-8c92-a6c4dae69d19",
    "_uuid": "8f2839f25d086af736a60e9eeb907d3b93b6e0e5",
    "execution": {
     "iopub.execute_input": "2023-08-13T08:31:14.629742Z",
     "iopub.status.busy": "2023-08-13T08:31:14.629002Z",
     "iopub.status.idle": "2023-08-13T08:31:14.643787Z",
     "shell.execute_reply": "2023-08-13T08:31:14.642950Z"
    },
    "papermill": {
     "duration": 0.119105,
     "end_time": "2023-08-13T08:31:14.646791",
     "exception": false,
     "start_time": "2023-08-13T08:31:14.527686",
     "status": "completed"
    },
    "tags": []
   },
   "outputs": [
    {
     "name": "stdout",
     "output_type": "stream",
     "text": [
      "/kaggle/input/sentiment-prediction-on-movie-reviews/movies.csv\n",
      "/kaggle/input/sentiment-prediction-on-movie-reviews/sample.csv\n",
      "/kaggle/input/sentiment-prediction-on-movie-reviews/train.csv\n",
      "/kaggle/input/sentiment-prediction-on-movie-reviews/test.csv\n"
     ]
    }
   ],
   "source": [
    "# This Python 3 environment comes with many helpful analytics libraries installed\n",
    "# It is defined by the kaggle/python Docker image: https://github.com/kaggle/docker-python\n",
    "# For example, here's several helpful packages to load\n",
    "\n",
    "import numpy as np # linear algebra\n",
    "import pandas as pd # data processing, CSV file I/O (e.g. pd.read_csv)\n",
    "\n",
    "# Input data files are available in the read-only \"../input/\" directory\n",
    "# For example, running this (by clicking run or pressing Shift+Enter) will list all files under the input directory\n",
    "\n",
    "import os\n",
    "for dirname, _, filenames in os.walk('/kaggle/input'):\n",
    "    for filename in filenames:\n",
    "        print(os.path.join(dirname, filename))\n",
    "\n",
    "# You can write up to 20GB to the current directory (/kaggle/working/) that gets preserved as output when you create a version using \"Save & Run All\" \n",
    "# You can also write temporary files to /kaggle/temp/, but they won't be saved outside of the current session"
   ]
  },
  {
   "cell_type": "markdown",
   "id": "b60d58f6",
   "metadata": {
    "papermill": {
     "duration": 0.098515,
     "end_time": "2023-08-13T08:31:14.844521",
     "exception": false,
     "start_time": "2023-08-13T08:31:14.746006",
     "status": "completed"
    },
    "tags": []
   },
   "source": [
    "### Specify platform  "
   ]
  },
  {
   "cell_type": "code",
   "execution_count": 2,
   "id": "1e7d5f21",
   "metadata": {
    "execution": {
     "iopub.execute_input": "2023-08-13T08:31:15.046196Z",
     "iopub.status.busy": "2023-08-13T08:31:15.045766Z",
     "iopub.status.idle": "2023-08-13T08:31:15.051355Z",
     "shell.execute_reply": "2023-08-13T08:31:15.050078Z"
    },
    "papermill": {
     "duration": 0.109316,
     "end_time": "2023-08-13T08:31:15.054504",
     "exception": false,
     "start_time": "2023-08-13T08:31:14.945188",
     "status": "completed"
    },
    "tags": []
   },
   "outputs": [],
   "source": [
    "platform = 'kaggle'  "
   ]
  },
  {
   "cell_type": "markdown",
   "id": "33e8043a",
   "metadata": {
    "papermill": {
     "duration": 0.099678,
     "end_time": "2023-08-13T08:31:15.253500",
     "exception": false,
     "start_time": "2023-08-13T08:31:15.153822",
     "status": "completed"
    },
    "tags": []
   },
   "source": [
    "### Import libraries  "
   ]
  },
  {
   "cell_type": "code",
   "execution_count": 3,
   "id": "2907a30c",
   "metadata": {
    "execution": {
     "iopub.execute_input": "2023-08-13T08:31:15.450928Z",
     "iopub.status.busy": "2023-08-13T08:31:15.450310Z",
     "iopub.status.idle": "2023-08-13T08:31:18.090361Z",
     "shell.execute_reply": "2023-08-13T08:31:18.089079Z"
    },
    "papermill": {
     "duration": 2.741996,
     "end_time": "2023-08-13T08:31:18.093373",
     "exception": false,
     "start_time": "2023-08-13T08:31:15.351377",
     "status": "completed"
    },
    "tags": []
   },
   "outputs": [
    {
     "name": "stdout",
     "output_type": "stream",
     "text": [
      "Imports done.\n"
     ]
    }
   ],
   "source": [
    "import pandas as pd\n",
    "import numpy as np\n",
    "import matplotlib.pyplot as plt\n",
    "import seaborn as sns\n",
    "import re\n",
    "from itertools import compress\n",
    "\n",
    "from sklearn.dummy import DummyClassifier\n",
    "from sklearn.pipeline import Pipeline, FeatureUnion\n",
    "from sklearn.compose import ColumnTransformer\n",
    "from sklearn.metrics import classification_report, confusion_matrix,f1_score\n",
    "from sklearn.feature_extraction.text import TfidfVectorizer, CountVectorizer\n",
    "from sklearn.preprocessing import FunctionTransformer\n",
    "from sklearn.preprocessing import StandardScaler, MinMaxScaler, RobustScaler, OneHotEncoder, LabelEncoder, PolynomialFeatures\n",
    "from sklearn.impute import SimpleImputer, KNNImputer\n",
    "from sklearn.linear_model import LogisticRegression, SGDClassifier\n",
    "from sklearn.tree import DecisionTreeClassifier\n",
    "from sklearn.ensemble import RandomForestClassifier, AdaBoostClassifier\n",
    "from sklearn.svm import LinearSVC\n",
    "from sklearn.naive_bayes import GaussianNB, BernoulliNB, CategoricalNB, ComplementNB, MultinomialNB\n",
    "from sklearn.model_selection import train_test_split, GridSearchCV, cross_val_score\n",
    "from sklearn.decomposition import PCA, TruncatedSVD\n",
    "from sklearn.feature_selection import RFECV\n",
    "from sklearn.feature_selection import RFE\n",
    "from sklearn.neural_network import MLPClassifier\n",
    "\n",
    "# import lightgbm as ltb\n",
    "\n",
    "import scipy.stats as stats\n",
    "print(\"Imports done.\")"
   ]
  },
  {
   "cell_type": "markdown",
   "id": "31df6998",
   "metadata": {
    "papermill": {
     "duration": 0.098733,
     "end_time": "2023-08-13T08:31:18.292706",
     "exception": false,
     "start_time": "2023-08-13T08:31:18.193973",
     "status": "completed"
    },
    "tags": []
   },
   "source": [
    "# PART I  "
   ]
  },
  {
   "cell_type": "markdown",
   "id": "589f1804",
   "metadata": {
    "papermill": {
     "duration": 0.169028,
     "end_time": "2023-08-13T08:31:18.558267",
     "exception": false,
     "start_time": "2023-08-13T08:31:18.389239",
     "status": "completed"
    },
    "tags": []
   },
   "source": [
    "## Load datasets  "
   ]
  },
  {
   "cell_type": "code",
   "execution_count": 4,
   "id": "e499012c",
   "metadata": {
    "execution": {
     "iopub.execute_input": "2023-08-13T08:31:18.761876Z",
     "iopub.status.busy": "2023-08-13T08:31:18.761470Z",
     "iopub.status.idle": "2023-08-13T08:31:19.906396Z",
     "shell.execute_reply": "2023-08-13T08:31:19.905063Z"
    },
    "papermill": {
     "duration": 1.250431,
     "end_time": "2023-08-13T08:31:19.909401",
     "exception": false,
     "start_time": "2023-08-13T08:31:18.658970",
     "status": "completed"
    },
    "tags": []
   },
   "outputs": [
    {
     "data": {
      "text/plain": [
       "(162758, 5)"
      ]
     },
     "execution_count": 4,
     "metadata": {},
     "output_type": "execute_result"
    }
   ],
   "source": [
    "if platform == 'vscode':\n",
    "    traindf = pd.read_csv(\"data/train.csv\")\n",
    "else:\n",
    "    traindf = pd.read_csv(\"/kaggle/input/sentiment-prediction-on-movie-reviews/train.csv\")\n",
    "    \n",
    "traindf.shape"
   ]
  },
  {
   "cell_type": "code",
   "execution_count": 5,
   "id": "3e656edb",
   "metadata": {
    "execution": {
     "iopub.execute_input": "2023-08-13T08:31:20.114058Z",
     "iopub.status.busy": "2023-08-13T08:31:20.113622Z",
     "iopub.status.idle": "2023-08-13T08:31:20.492796Z",
     "shell.execute_reply": "2023-08-13T08:31:20.491443Z"
    },
    "papermill": {
     "duration": 0.48588,
     "end_time": "2023-08-13T08:31:20.496253",
     "exception": false,
     "start_time": "2023-08-13T08:31:20.010373",
     "status": "completed"
    },
    "tags": []
   },
   "outputs": [
    {
     "data": {
      "text/plain": [
       "(55315, 4)"
      ]
     },
     "execution_count": 5,
     "metadata": {},
     "output_type": "execute_result"
    }
   ],
   "source": [
    "if platform == 'vscode':\n",
    "    testdf = pd.read_csv(\"data/test.csv\")\n",
    "else:\n",
    "    testdf = pd.read_csv(\"/kaggle/input/sentiment-prediction-on-movie-reviews/test.csv\")\n",
    "\n",
    "testdf.shape"
   ]
  },
  {
   "cell_type": "markdown",
   "id": "771029ec",
   "metadata": {
    "papermill": {
     "duration": 0.100738,
     "end_time": "2023-08-13T08:31:20.696752",
     "exception": false,
     "start_time": "2023-08-13T08:31:20.596014",
     "status": "completed"
    },
    "tags": []
   },
   "source": [
    "### Understanding the data and getting it ready for training and evaluating models  \n"
   ]
  },
  {
   "cell_type": "code",
   "execution_count": 6,
   "id": "e38065ef",
   "metadata": {
    "execution": {
     "iopub.execute_input": "2023-08-13T08:31:20.901248Z",
     "iopub.status.busy": "2023-08-13T08:31:20.900799Z",
     "iopub.status.idle": "2023-08-13T08:31:20.908437Z",
     "shell.execute_reply": "2023-08-13T08:31:20.907297Z"
    },
    "papermill": {
     "duration": 0.114726,
     "end_time": "2023-08-13T08:31:20.910729",
     "exception": false,
     "start_time": "2023-08-13T08:31:20.796003",
     "status": "completed"
    },
    "tags": []
   },
   "outputs": [
    {
     "data": {
      "text/plain": [
       "(162758, 5)"
      ]
     },
     "execution_count": 6,
     "metadata": {},
     "output_type": "execute_result"
    }
   ],
   "source": [
    "traindf.shape"
   ]
  },
  {
   "cell_type": "code",
   "execution_count": 7,
   "id": "b667e449",
   "metadata": {
    "execution": {
     "iopub.execute_input": "2023-08-13T08:31:21.114640Z",
     "iopub.status.busy": "2023-08-13T08:31:21.114227Z",
     "iopub.status.idle": "2023-08-13T08:31:21.355981Z",
     "shell.execute_reply": "2023-08-13T08:31:21.354265Z"
    },
    "papermill": {
     "duration": 0.347893,
     "end_time": "2023-08-13T08:31:21.358724",
     "exception": false,
     "start_time": "2023-08-13T08:31:21.010831",
     "status": "completed"
    },
    "tags": []
   },
   "outputs": [
    {
     "name": "stdout",
     "output_type": "stream",
     "text": [
      "<class 'pandas.core.frame.DataFrame'>\n",
      "RangeIndex: 162758 entries, 0 to 162757\n",
      "Data columns (total 5 columns):\n",
      " #   Column              Non-Null Count   Dtype \n",
      "---  ------              --------------   ----- \n",
      " 0   movieid             162758 non-null  object\n",
      " 1   reviewerName        162758 non-null  object\n",
      " 2   isFrequentReviewer  162758 non-null  bool  \n",
      " 3   reviewText          156311 non-null  object\n",
      " 4   sentiment           162758 non-null  object\n",
      "dtypes: bool(1), object(4)\n",
      "memory usage: 5.1+ MB\n"
     ]
    }
   ],
   "source": [
    "traindf.info()"
   ]
  },
  {
   "cell_type": "code",
   "execution_count": 8,
   "id": "0bda3d86",
   "metadata": {
    "execution": {
     "iopub.execute_input": "2023-08-13T08:31:21.561394Z",
     "iopub.status.busy": "2023-08-13T08:31:21.560943Z",
     "iopub.status.idle": "2023-08-13T08:31:21.781010Z",
     "shell.execute_reply": "2023-08-13T08:31:21.780127Z"
    },
    "papermill": {
     "duration": 0.326873,
     "end_time": "2023-08-13T08:31:21.783443",
     "exception": false,
     "start_time": "2023-08-13T08:31:21.456570",
     "status": "completed"
    },
    "tags": []
   },
   "outputs": [
    {
     "data": {
      "text/plain": [
       "movieid                  0\n",
       "reviewerName             0\n",
       "isFrequentReviewer       0\n",
       "reviewText            6447\n",
       "sentiment                0\n",
       "dtype: int64"
      ]
     },
     "execution_count": 8,
     "metadata": {},
     "output_type": "execute_result"
    }
   ],
   "source": [
    "traindf.isna().sum()"
   ]
  },
  {
   "cell_type": "markdown",
   "id": "f18a2be5",
   "metadata": {
    "papermill": {
     "duration": 0.099316,
     "end_time": "2023-08-13T08:31:21.988013",
     "exception": false,
     "start_time": "2023-08-13T08:31:21.888697",
     "status": "completed"
    },
    "tags": []
   },
   "source": [
    "### Fill empty reviewText with custom text  "
   ]
  },
  {
   "cell_type": "code",
   "execution_count": 9,
   "id": "908a6bb4",
   "metadata": {
    "execution": {
     "iopub.execute_input": "2023-08-13T08:31:22.201230Z",
     "iopub.status.busy": "2023-08-13T08:31:22.200416Z",
     "iopub.status.idle": "2023-08-13T08:31:22.448961Z",
     "shell.execute_reply": "2023-08-13T08:31:22.448126Z"
    },
    "papermill": {
     "duration": 0.358349,
     "end_time": "2023-08-13T08:31:22.451582",
     "exception": false,
     "start_time": "2023-08-13T08:31:22.093233",
     "status": "completed"
    },
    "tags": []
   },
   "outputs": [
    {
     "data": {
      "text/plain": [
       "movieid               0\n",
       "reviewerName          0\n",
       "isFrequentReviewer    0\n",
       "reviewText            0\n",
       "sentiment             0\n",
       "dtype: int64"
      ]
     },
     "execution_count": 9,
     "metadata": {},
     "output_type": "execute_result"
    }
   ],
   "source": [
    "traindf[\"reviewText\"].fillna(\"empty\", inplace=True)\n",
    "traindf.isna().sum()"
   ]
  },
  {
   "cell_type": "markdown",
   "id": "7b4ac196",
   "metadata": {
    "papermill": {
     "duration": 0.099201,
     "end_time": "2023-08-13T08:31:22.652186",
     "exception": false,
     "start_time": "2023-08-13T08:31:22.552985",
     "status": "completed"
    },
    "tags": []
   },
   "source": [
    "## EDA  \n"
   ]
  },
  {
   "cell_type": "code",
   "execution_count": 10,
   "id": "56c5037a",
   "metadata": {
    "execution": {
     "iopub.execute_input": "2023-08-13T08:31:22.854923Z",
     "iopub.status.busy": "2023-08-13T08:31:22.854115Z",
     "iopub.status.idle": "2023-08-13T08:31:23.129754Z",
     "shell.execute_reply": "2023-08-13T08:31:23.128355Z"
    },
    "papermill": {
     "duration": 0.38297,
     "end_time": "2023-08-13T08:31:23.134924",
     "exception": false,
     "start_time": "2023-08-13T08:31:22.751954",
     "status": "completed"
    },
    "tags": []
   },
   "outputs": [
    {
     "data": {
      "image/png": "[encoded data removed]",
      "text/plain": [
       "<Figure size 600x400 with 1 Axes>"
      ]
     },
     "metadata": {},
     "output_type": "display_data"
    }
   ],
   "source": [
    "# Pie chart for sentiment column\n",
    "plt.figure(figsize=(6, 4))\n",
    "traindf[\"sentiment\"].value_counts().plot(kind='pie', autopct='%1.0f%%', colors=[\"lightgreen\", \"crimson\"])\n",
    "plt.title(\"Pie chart for sentiment column\")\n",
    "plt.show()"
   ]
  },
  {
   "cell_type": "code",
   "execution_count": 11,
   "id": "0a328fea",
   "metadata": {
    "execution": {
     "iopub.execute_input": "2023-08-13T08:31:23.361204Z",
     "iopub.status.busy": "2023-08-13T08:31:23.360631Z",
     "iopub.status.idle": "2023-08-13T08:31:23.439215Z",
     "shell.execute_reply": "2023-08-13T08:31:23.437813Z"
    },
    "papermill": {
     "duration": 0.184134,
     "end_time": "2023-08-13T08:31:23.442180",
     "exception": false,
     "start_time": "2023-08-13T08:31:23.258046",
     "status": "completed"
    },
    "tags": []
   },
   "outputs": [
    {
     "name": "stdout",
     "output_type": "stream",
     "text": [
      "sentiment           NEGATIVE  POSITIVE\n",
      "isFrequentReviewer                    \n",
      "False                  35760     77429\n",
      "True                   18237     31332\n"
     ]
    },
    {
     "data": {
      "text/plain": [
       "Chi2ContingencyResult(statistic=419.89235425657796, pvalue=2.5755894769493255e-93, dof=1, expected_freq=array([[37551.86493444, 75637.13506556],\n",
       "       [16445.13506556, 33123.86493444]]))"
      ]
     },
     "execution_count": 11,
     "metadata": {},
     "output_type": "execute_result"
    }
   ],
   "source": [
    "# Chi-square test for isFrequentReviewer column and sentiment column   \n",
    "\n",
    "contingency_table = pd.crosstab(traindf['isFrequentReviewer'], traindf['sentiment'])\n",
    "print(contingency_table)\n",
    "stats.chi2_contingency(contingency_table)"
   ]
  },
  {
   "cell_type": "markdown",
   "id": "f5b68b3d",
   "metadata": {
    "papermill": {
     "duration": 0.099962,
     "end_time": "2023-08-13T08:31:23.642960",
     "exception": false,
     "start_time": "2023-08-13T08:31:23.542998",
     "status": "completed"
    },
    "tags": []
   },
   "source": [
    "### Separate features and labels  "
   ]
  },
  {
   "cell_type": "code",
   "execution_count": 12,
   "id": "84743678",
   "metadata": {
    "execution": {
     "iopub.execute_input": "2023-08-13T08:31:23.847945Z",
     "iopub.status.busy": "2023-08-13T08:31:23.847537Z",
     "iopub.status.idle": "2023-08-13T08:31:23.855059Z",
     "shell.execute_reply": "2023-08-13T08:31:23.854119Z"
    },
    "papermill": {
     "duration": 0.11323,
     "end_time": "2023-08-13T08:31:23.857431",
     "exception": false,
     "start_time": "2023-08-13T08:31:23.744201",
     "status": "completed"
    },
    "tags": []
   },
   "outputs": [
    {
     "data": {
      "text/plain": [
       "((162758,), (162758,))"
      ]
     },
     "execution_count": 12,
     "metadata": {},
     "output_type": "execute_result"
    }
   ],
   "source": [
    "train_features = traindf[\"reviewText\"]\n",
    "train_labels = traindf.iloc[:, -1]\n",
    "train_features.shape, train_labels.shape"
   ]
  },
  {
   "cell_type": "markdown",
   "id": "ec8b1dd8",
   "metadata": {
    "papermill": {
     "duration": 0.104845,
     "end_time": "2023-08-13T08:31:24.067172",
     "exception": false,
     "start_time": "2023-08-13T08:31:23.962327",
     "status": "completed"
    },
    "tags": []
   },
   "source": [
    "### Split traindf into training and testing parts  "
   ]
  },
  {
   "cell_type": "code",
   "execution_count": 13,
   "id": "a6bf9f62",
   "metadata": {
    "execution": {
     "iopub.execute_input": "2023-08-13T08:31:24.274525Z",
     "iopub.status.busy": "2023-08-13T08:31:24.274109Z",
     "iopub.status.idle": "2023-08-13T08:31:24.316921Z",
     "shell.execute_reply": "2023-08-13T08:31:24.316045Z"
    },
    "papermill": {
     "duration": 0.151066,
     "end_time": "2023-08-13T08:31:24.319405",
     "exception": false,
     "start_time": "2023-08-13T08:31:24.168339",
     "status": "completed"
    },
    "tags": []
   },
   "outputs": [
    {
     "data": {
      "text/plain": [
       "((122068,), (40690,), (122068,), (40690,))"
      ]
     },
     "execution_count": 13,
     "metadata": {},
     "output_type": "execute_result"
    }
   ],
   "source": [
    "X_train, X_test, y_train, y_test = train_test_split(train_features, train_labels, test_size=0.25, random_state=42)\n",
    "X_train.shape, X_test.shape, y_train.shape, y_test.shape"
   ]
  },
  {
   "cell_type": "markdown",
   "id": "7ec22c12",
   "metadata": {
    "papermill": {
     "duration": 0.102035,
     "end_time": "2023-08-13T08:31:24.524976",
     "exception": false,
     "start_time": "2023-08-13T08:31:24.422941",
     "status": "completed"
    },
    "tags": []
   },
   "source": [
    "## Model evaluation plan and code  "
   ]
  },
  {
   "cell_type": "code",
   "execution_count": 14,
   "id": "d010807c",
   "metadata": {
    "execution": {
     "iopub.execute_input": "2023-08-13T08:31:24.733307Z",
     "iopub.status.busy": "2023-08-13T08:31:24.732860Z",
     "iopub.status.idle": "2023-08-13T08:31:24.737510Z",
     "shell.execute_reply": "2023-08-13T08:31:24.736588Z"
    },
    "papermill": {
     "duration": 0.111922,
     "end_time": "2023-08-13T08:31:24.739670",
     "exception": false,
     "start_time": "2023-08-13T08:31:24.627748",
     "status": "completed"
    },
    "tags": []
   },
   "outputs": [],
   "source": [
    "# from sklearn.metrics import classification_report, confusion_matrix, ConfusionMatrixDisplay\n",
    "# from sklearn.metrics import f1_score"
   ]
  },
  {
   "cell_type": "code",
   "execution_count": 15,
   "id": "3333aef3",
   "metadata": {
    "execution": {
     "iopub.execute_input": "2023-08-13T08:31:24.949956Z",
     "iopub.status.busy": "2023-08-13T08:31:24.948856Z",
     "iopub.status.idle": "2023-08-13T08:31:24.954519Z",
     "shell.execute_reply": "2023-08-13T08:31:24.952958Z"
    },
    "papermill": {
     "duration": 0.114747,
     "end_time": "2023-08-13T08:31:24.957727",
     "exception": false,
     "start_time": "2023-08-13T08:31:24.842980",
     "status": "completed"
    },
    "tags": []
   },
   "outputs": [],
   "source": [
    "# def evaluate(y_test, y_pred):\n",
    "#     print(classification_report(y_test, y_pred))\n",
    "#     print(confusion_matrix(y_test, y_pred))\n",
    "#     # print(f1_score(y_test, y_pred))\n",
    "#     ConfusionMatrixDisplay(y_test, y_pred)\n",
    "#     return"
   ]
  },
  {
   "cell_type": "markdown",
   "id": "da92ed23",
   "metadata": {
    "papermill": {
     "duration": 0.101851,
     "end_time": "2023-08-13T08:31:25.167673",
     "exception": false,
     "start_time": "2023-08-13T08:31:25.065822",
     "status": "completed"
    },
    "tags": []
   },
   "source": [
    "### Data preprocessing  "
   ]
  },
  {
   "cell_type": "markdown",
   "id": "9a35a0e1",
   "metadata": {
    "papermill": {
     "duration": 0.108133,
     "end_time": "2023-08-13T08:31:25.382757",
     "exception": false,
     "start_time": "2023-08-13T08:31:25.274624",
     "status": "completed"
    },
    "tags": []
   },
   "source": [
    "`Define stop words`  "
   ]
  },
  {
   "cell_type": "code",
   "execution_count": 16,
   "id": "24a5e326",
   "metadata": {
    "execution": {
     "iopub.execute_input": "2023-08-13T08:31:25.588751Z",
     "iopub.status.busy": "2023-08-13T08:31:25.588098Z",
     "iopub.status.idle": "2023-08-13T08:31:25.592564Z",
     "shell.execute_reply": "2023-08-13T08:31:25.591749Z"
    },
    "papermill": {
     "duration": 0.109533,
     "end_time": "2023-08-13T08:31:25.594870",
     "exception": false,
     "start_time": "2023-08-13T08:31:25.485337",
     "status": "completed"
    },
    "tags": []
   },
   "outputs": [],
   "source": [
    "# stop_words = [\"able\", \"about\", \"above\", \"abst\", \"ac\"]     # Deprecated  \n",
    "# type(stop_words), len(stop_words)"
   ]
  },
  {
   "cell_type": "markdown",
   "id": "1d9de615",
   "metadata": {
    "papermill": {
     "duration": 0.105482,
     "end_time": "2023-08-13T08:31:25.803114",
     "exception": false,
     "start_time": "2023-08-13T08:31:25.697632",
     "status": "completed"
    },
    "tags": []
   },
   "source": [
    "## Feature extraction  "
   ]
  },
  {
   "cell_type": "markdown",
   "id": "2f10f45f",
   "metadata": {
    "papermill": {
     "duration": 0.107525,
     "end_time": "2023-08-13T08:31:26.032202",
     "exception": false,
     "start_time": "2023-08-13T08:31:25.924677",
     "status": "completed"
    },
    "tags": []
   },
   "source": [
    "### Understand CountVectorizer and TfidfVectorizer  "
   ]
  },
  {
   "cell_type": "code",
   "execution_count": 17,
   "id": "2561d1a7",
   "metadata": {
    "execution": {
     "iopub.execute_input": "2023-08-13T08:31:26.236542Z",
     "iopub.status.busy": "2023-08-13T08:31:26.235867Z",
     "iopub.status.idle": "2023-08-13T08:31:26.239762Z",
     "shell.execute_reply": "2023-08-13T08:31:26.238950Z"
    },
    "papermill": {
     "duration": 0.10882,
     "end_time": "2023-08-13T08:31:26.241912",
     "exception": false,
     "start_time": "2023-08-13T08:31:26.133092",
     "status": "completed"
    },
    "tags": []
   },
   "outputs": [],
   "source": [
    "# text = X_train.copy()\n",
    "# text.head()"
   ]
  },
  {
   "cell_type": "code",
   "execution_count": 18,
   "id": "e770d7ab",
   "metadata": {
    "execution": {
     "iopub.execute_input": "2023-08-13T08:31:26.450969Z",
     "iopub.status.busy": "2023-08-13T08:31:26.450511Z",
     "iopub.status.idle": "2023-08-13T08:31:26.455851Z",
     "shell.execute_reply": "2023-08-13T08:31:26.454853Z"
    },
    "papermill": {
     "duration": 0.113629,
     "end_time": "2023-08-13T08:31:26.458467",
     "exception": false,
     "start_time": "2023-08-13T08:31:26.344838",
     "status": "completed"
    },
    "tags": []
   },
   "outputs": [],
   "source": [
    "# vectorizer = TfidfVectorizer(stop_words=stop_words)\n",
    "# vectorized_text = vectorizer.fit_transform(text[\"reviewText\"])\n",
    "# vectorized_text"
   ]
  },
  {
   "cell_type": "markdown",
   "id": "70c3b233",
   "metadata": {
    "papermill": {
     "duration": 0.104248,
     "end_time": "2023-08-13T08:31:26.666959",
     "exception": false,
     "start_time": "2023-08-13T08:31:26.562711",
     "status": "completed"
    },
    "tags": []
   },
   "source": [
    "`Without stop words`  \n",
    "<122068x58624 sparse matrix of type '<class 'numpy.float64'>'\n",
    "\twith 2312222 stored elements in Compressed Sparse Row format>\n",
    "\n",
    "`With stop words`  \n",
    "<122068x57784 sparse matrix of type '<class 'numpy.float64'>'\n",
    "\twith 1188395 stored elements in Compressed Sparse Row format>   "
   ]
  },
  {
   "cell_type": "code",
   "execution_count": 19,
   "id": "d53912fc",
   "metadata": {
    "execution": {
     "iopub.execute_input": "2023-08-13T08:31:26.871754Z",
     "iopub.status.busy": "2023-08-13T08:31:26.870848Z",
     "iopub.status.idle": "2023-08-13T08:31:26.874949Z",
     "shell.execute_reply": "2023-08-13T08:31:26.874127Z"
    },
    "papermill": {
     "duration": 0.10873,
     "end_time": "2023-08-13T08:31:26.877324",
     "exception": false,
     "start_time": "2023-08-13T08:31:26.768594",
     "status": "completed"
    },
    "tags": []
   },
   "outputs": [],
   "source": [
    "# vectorizer2 = CountVectorizer(stop_words=stop_words)\n",
    "# vectorized_text2 = vectorizer2.fit_transform(text[\"reviewText\"])\n",
    "# vectorized_text2"
   ]
  },
  {
   "cell_type": "markdown",
   "id": "135f5b4b",
   "metadata": {
    "papermill": {
     "duration": 0.101243,
     "end_time": "2023-08-13T08:31:27.079357",
     "exception": false,
     "start_time": "2023-08-13T08:31:26.978114",
     "status": "completed"
    },
    "tags": []
   },
   "source": [
    "`Without stop words`  \n",
    "<122068x58624 sparse matrix of type '<class 'numpy.int64'>'\n",
    "\twith 2312222 stored elements in Compressed Sparse Row format>\n",
    "\n",
    "`With stop words`  \n",
    "<122068x57784 sparse matrix of type '<class 'numpy.int64'>'\n",
    "\twith 1188395 stored elements in Compressed Sparse Row format>"
   ]
  },
  {
   "cell_type": "markdown",
   "id": "84c5e7de",
   "metadata": {
    "papermill": {
     "duration": 0.09875,
     "end_time": "2023-08-13T08:31:27.278848",
     "exception": false,
     "start_time": "2023-08-13T08:31:27.180098",
     "status": "completed"
    },
    "tags": []
   },
   "source": [
    "### Conclusion   \n",
    "`TfidfVectorizer is equivalent to CountVectorizer followed by TfidfTransformer.`  \n",
    "\n",
    "https://scikit-learn.org/stable/modules/generated/sklearn.feature_extraction.text.TfidfVectorizer.html"
   ]
  },
  {
   "cell_type": "markdown",
   "id": "fd34273a",
   "metadata": {
    "papermill": {
     "duration": 0.102227,
     "end_time": "2023-08-13T08:31:27.482430",
     "exception": false,
     "start_time": "2023-08-13T08:31:27.380203",
     "status": "completed"
    },
    "tags": []
   },
   "source": [
    "## Model building workflow  \n",
    "\n",
    "`Make pipeline for preprocesing and model training and predictions`  \n"
   ]
  },
  {
   "cell_type": "code",
   "execution_count": 20,
   "id": "0af0864a",
   "metadata": {
    "execution": {
     "iopub.execute_input": "2023-08-13T08:31:27.690506Z",
     "iopub.status.busy": "2023-08-13T08:31:27.690123Z",
     "iopub.status.idle": "2023-08-13T08:31:27.695518Z",
     "shell.execute_reply": "2023-08-13T08:31:27.694340Z"
    },
    "papermill": {
     "duration": 0.11223,
     "end_time": "2023-08-13T08:31:27.697996",
     "exception": false,
     "start_time": "2023-08-13T08:31:27.585766",
     "status": "completed"
    },
    "tags": []
   },
   "outputs": [],
   "source": [
    "# def preprocess_n_train(X_train, y_train, preprocessor, model):\n",
    "#     pipe = Pipeline(steps=[\n",
    "#                             (\"preprocessor\", preprocessor),\n",
    "#                             (\"model\", model)\n",
    "#                         ])\n",
    "    \n",
    "#     pipe.fit(X_train, y_train)\n",
    "\n",
    "#     print(\"Given model has been trained. Use predict method to get predictions array.\")\n",
    "#     return pipe\n",
    "\n",
    "\n",
    "# def predict_n_evaluate(pipeline, X_test, y_test):\n",
    "#     y_pred = pipeline.predict(X_test)\n",
    "#     print(f\"y_pred shape: {y_pred.shape}\")\n",
    "#     print(f\"Summary of predictions: {np.unique(y_pred, return_counts=True)}\")\n",
    "#     print(classification_report(y_test, y_pred))\n",
    "#     print(confusion_matrix(y_test, y_pred))\n",
    "#     return y_pred"
   ]
  },
  {
   "cell_type": "markdown",
   "id": "fda94771",
   "metadata": {
    "papermill": {
     "duration": 0.102815,
     "end_time": "2023-08-13T08:31:27.902451",
     "exception": false,
     "start_time": "2023-08-13T08:31:27.799636",
     "status": "completed"
    },
    "tags": []
   },
   "source": [
    "## Building 3 basic models  "
   ]
  },
  {
   "cell_type": "markdown",
   "id": "d60db87c",
   "metadata": {
    "papermill": {
     "duration": 0.100392,
     "end_time": "2023-08-13T08:31:28.102941",
     "exception": false,
     "start_time": "2023-08-13T08:31:28.002549",
     "status": "completed"
    },
    "tags": []
   },
   "source": [
    "### Text preprocessors  "
   ]
  },
  {
   "cell_type": "code",
   "execution_count": 21,
   "id": "585c9fb8",
   "metadata": {
    "execution": {
     "iopub.execute_input": "2023-08-13T08:31:28.308409Z",
     "iopub.status.busy": "2023-08-13T08:31:28.307983Z",
     "iopub.status.idle": "2023-08-13T08:31:28.311837Z",
     "shell.execute_reply": "2023-08-13T08:31:28.311080Z"
    },
    "papermill": {
     "duration": 0.108028,
     "end_time": "2023-08-13T08:31:28.313827",
     "exception": false,
     "start_time": "2023-08-13T08:31:28.205799",
     "status": "completed"
    },
    "tags": []
   },
   "outputs": [],
   "source": [
    "# tvec = TfidfVectorizer()\n",
    "# cvec = CountVectorizer()        # Note that TfidfVectorizer and CountVectorizer+TfidsTransformer do the same function\n",
    "# tvec, cvec"
   ]
  },
  {
   "cell_type": "markdown",
   "id": "d432d0ee",
   "metadata": {
    "papermill": {
     "duration": 0.099297,
     "end_time": "2023-08-13T08:31:28.513745",
     "exception": false,
     "start_time": "2023-08-13T08:31:28.414448",
     "status": "completed"
    },
    "tags": []
   },
   "source": [
    "### Logistic Regression with TfidVectorizer for preprocessing  "
   ]
  },
  {
   "cell_type": "code",
   "execution_count": 22,
   "id": "5b95aae0",
   "metadata": {
    "execution": {
     "iopub.execute_input": "2023-08-13T08:31:28.715263Z",
     "iopub.status.busy": "2023-08-13T08:31:28.714812Z",
     "iopub.status.idle": "2023-08-13T08:31:28.719480Z",
     "shell.execute_reply": "2023-08-13T08:31:28.718323Z"
    },
    "papermill": {
     "duration": 0.108984,
     "end_time": "2023-08-13T08:31:28.721851",
     "exception": false,
     "start_time": "2023-08-13T08:31:28.612867",
     "status": "completed"
    },
    "tags": []
   },
   "outputs": [],
   "source": [
    "# logreg = LogisticRegression(max_iter=1000)\n",
    "# logreg_pipe = preprocess_n_train(X_train, y_train, tvec, logreg)\n",
    "# y_pred_logreg = predict_n_evaluate(logreg_pipe, X_test, y_test)\n",
    "# y_pred_logreg"
   ]
  },
  {
   "cell_type": "markdown",
   "id": "ec2fedd8",
   "metadata": {
    "papermill": {
     "duration": 0.103956,
     "end_time": "2023-08-13T08:31:28.926236",
     "exception": false,
     "start_time": "2023-08-13T08:31:28.822280",
     "status": "completed"
    },
    "tags": []
   },
   "source": [
    "### SVM model  "
   ]
  },
  {
   "cell_type": "code",
   "execution_count": 23,
   "id": "5917c0ab",
   "metadata": {
    "execution": {
     "iopub.execute_input": "2023-08-13T08:31:29.129248Z",
     "iopub.status.busy": "2023-08-13T08:31:29.128821Z",
     "iopub.status.idle": "2023-08-13T08:31:29.132938Z",
     "shell.execute_reply": "2023-08-13T08:31:29.132195Z"
    },
    "papermill": {
     "duration": 0.107824,
     "end_time": "2023-08-13T08:31:29.135314",
     "exception": false,
     "start_time": "2023-08-13T08:31:29.027490",
     "status": "completed"
    },
    "tags": []
   },
   "outputs": [],
   "source": [
    "# svm = LinearSVC()\n",
    "# svm_pipe = preprocess_n_train(X_train, y_train, tvec, svm)\n",
    "# y_pred_svm = predict_n_evaluate(svm_pipe, X_test, y_test)\n",
    "# y_pred_svm"
   ]
  },
  {
   "cell_type": "markdown",
   "id": "f931ebb1",
   "metadata": {
    "papermill": {
     "duration": 0.102151,
     "end_time": "2023-08-13T08:31:29.338141",
     "exception": false,
     "start_time": "2023-08-13T08:31:29.235990",
     "status": "completed"
    },
    "tags": []
   },
   "source": [
    "### Naive Bayes model  "
   ]
  },
  {
   "cell_type": "markdown",
   "id": "cda81186",
   "metadata": {
    "papermill": {
     "duration": 0.098498,
     "end_time": "2023-08-13T08:31:29.535730",
     "exception": false,
     "start_time": "2023-08-13T08:31:29.437232",
     "status": "completed"
    },
    "tags": []
   },
   "source": [
    "#### MultinomialNB  "
   ]
  },
  {
   "cell_type": "code",
   "execution_count": 24,
   "id": "c89384a5",
   "metadata": {
    "execution": {
     "iopub.execute_input": "2023-08-13T08:31:29.755491Z",
     "iopub.status.busy": "2023-08-13T08:31:29.754966Z",
     "iopub.status.idle": "2023-08-13T08:31:29.759908Z",
     "shell.execute_reply": "2023-08-13T08:31:29.758827Z"
    },
    "papermill": {
     "duration": 0.124892,
     "end_time": "2023-08-13T08:31:29.762169",
     "exception": false,
     "start_time": "2023-08-13T08:31:29.637277",
     "status": "completed"
    },
    "tags": []
   },
   "outputs": [],
   "source": [
    "# mnb = MultinomialNB()\n",
    "# mnb_pipe = preprocess_n_train(X_train, y_train, tvec, mnb)\n",
    "# y_pred_mnb = predict_n_evaluate(mnb_pipe, X_test, y_test)\n",
    "# y_pred_mnb"
   ]
  },
  {
   "cell_type": "markdown",
   "id": "c8b2b292",
   "metadata": {
    "papermill": {
     "duration": 0.167849,
     "end_time": "2023-08-13T08:31:30.028802",
     "exception": false,
     "start_time": "2023-08-13T08:31:29.860953",
     "status": "completed"
    },
    "tags": []
   },
   "source": [
    "## Submitting predictions to Kaggle competition  "
   ]
  },
  {
   "cell_type": "code",
   "execution_count": 25,
   "id": "b4a4ce06",
   "metadata": {
    "execution": {
     "iopub.execute_input": "2023-08-13T08:31:30.231175Z",
     "iopub.status.busy": "2023-08-13T08:31:30.230781Z",
     "iopub.status.idle": "2023-08-13T08:31:30.235968Z",
     "shell.execute_reply": "2023-08-13T08:31:30.234845Z"
    },
    "papermill": {
     "duration": 0.108366,
     "end_time": "2023-08-13T08:31:30.238133",
     "exception": false,
     "start_time": "2023-08-13T08:31:30.129767",
     "status": "completed"
    },
    "tags": []
   },
   "outputs": [],
   "source": [
    "# def submit(selected_model=logreg, selected_preprocessor=tvec):\n",
    "    \n",
    "#     # Retrain on the whole train.csv file  \n",
    "#     traindf = pd.read_csv(\"/kaggle/input/sentiment-prediction-on-movie-reviews/train.csv\")\n",
    "#     X_train = traindf[\"reviewText\"]\n",
    "#     X_train.fillna(\"empty\", inplace=True)\n",
    "#     y_train = traindf[\"sentiment\"]\n",
    "#     pipe = preprocess_n_train(X_train, y_train, selected_preprocessor, selected_model)\n",
    "    \n",
    "#     # Predict on test.csv file\n",
    "#     testdf = pd.read_csv(\"/kaggle/input/sentiment-prediction-on-movie-reviews/test.csv\")\n",
    "#     X_test = testdf[\"reviewText\"]\n",
    "#     X_test.fillna(\"empty\", inplace=True)\n",
    "    \n",
    "#     y_pred = pipe.predict(X_test)\n",
    "    \n",
    "#     pred_df = pd.DataFrame(y_pred)\n",
    "#     pred_df.columns = [\"sentiment\"]\n",
    "#     pred_df.index.name = \"id\"\n",
    "#     pred_df.to_csv(\"submission.csv\")\n",
    "    \n",
    "#     return \"Successfully created the submission file!!!\""
   ]
  },
  {
   "cell_type": "code",
   "execution_count": 26,
   "id": "470dc571",
   "metadata": {
    "execution": {
     "iopub.execute_input": "2023-08-13T08:31:30.440116Z",
     "iopub.status.busy": "2023-08-13T08:31:30.439699Z",
     "iopub.status.idle": "2023-08-13T08:31:30.445039Z",
     "shell.execute_reply": "2023-08-13T08:31:30.443822Z"
    },
    "papermill": {
     "duration": 0.109204,
     "end_time": "2023-08-13T08:31:30.447363",
     "exception": false,
     "start_time": "2023-08-13T08:31:30.338159",
     "status": "completed"
    },
    "tags": []
   },
   "outputs": [],
   "source": [
    "# submit(logreg_cv1, tvec_cv1)"
   ]
  },
  {
   "cell_type": "markdown",
   "id": "ef62dc42",
   "metadata": {
    "papermill": {
     "duration": 0.098301,
     "end_time": "2023-08-13T08:31:30.644512",
     "exception": false,
     "start_time": "2023-08-13T08:31:30.546211",
     "status": "completed"
    },
    "tags": []
   },
   "source": [
    "# PART II  "
   ]
  },
  {
   "cell_type": "markdown",
   "id": "3659d0a8",
   "metadata": {
    "papermill": {
     "duration": 0.098244,
     "end_time": "2023-08-13T08:31:30.841679",
     "exception": false,
     "start_time": "2023-08-13T08:31:30.743435",
     "status": "completed"
    },
    "tags": []
   },
   "source": [
    "## Merge \"movies.csv\" with \"train.csv\" and \"test.csv\"  "
   ]
  },
  {
   "cell_type": "markdown",
   "id": "775ae661",
   "metadata": {
    "papermill": {
     "duration": 0.099397,
     "end_time": "2023-08-13T08:31:31.043983",
     "exception": false,
     "start_time": "2023-08-13T08:31:30.944586",
     "status": "completed"
    },
    "tags": []
   },
   "source": [
    "### Helper functions  "
   ]
  },
  {
   "cell_type": "code",
   "execution_count": 27,
   "id": "1ce903d5",
   "metadata": {
    "execution": {
     "iopub.execute_input": "2023-08-13T08:31:31.244471Z",
     "iopub.status.busy": "2023-08-13T08:31:31.244069Z",
     "iopub.status.idle": "2023-08-13T08:31:31.249640Z",
     "shell.execute_reply": "2023-08-13T08:31:31.248588Z"
    },
    "papermill": {
     "duration": 0.108549,
     "end_time": "2023-08-13T08:31:31.251822",
     "exception": false,
     "start_time": "2023-08-13T08:31:31.143273",
     "status": "completed"
    },
    "tags": []
   },
   "outputs": [],
   "source": [
    "# Helper function for loading files  \n",
    "\n",
    "def load_csv(filename: str):\n",
    "    if platform == \"vscode\":\n",
    "        df = pd.read_csv(f\"data/{filename}.csv\")\n",
    "    else:\n",
    "        df = pd.read_csv(f\"/kaggle/input/sentiment-prediction-on-movie-reviews/{filename}.csv\")\n",
    "        \n",
    "    return df"
   ]
  },
  {
   "cell_type": "code",
   "execution_count": 28,
   "id": "9075b7d3",
   "metadata": {
    "execution": {
     "iopub.execute_input": "2023-08-13T08:31:31.452640Z",
     "iopub.status.busy": "2023-08-13T08:31:31.451630Z",
     "iopub.status.idle": "2023-08-13T08:31:31.458289Z",
     "shell.execute_reply": "2023-08-13T08:31:31.457224Z"
    },
    "papermill": {
     "duration": 0.109383,
     "end_time": "2023-08-13T08:31:31.460720",
     "exception": false,
     "start_time": "2023-08-13T08:31:31.351337",
     "status": "completed"
    },
    "tags": []
   },
   "outputs": [],
   "source": [
    "def inspect(df: pd.DataFrame):\n",
    "    print(f\"Shape of the dataframe: {df.shape}\")\n",
    "    print()\n",
    "    print(f\"Columns in the dataframe:\\n{df.columns}\")\n",
    "    print()\n",
    "    print(f\"{df.info()}\")\n",
    "    print()\n",
    "    # print(f\"Summary: {df.describe()}\")\n",
    "    print(f\"Missing values:\\n{df.isna().sum()}\")\n",
    "    return"
   ]
  },
  {
   "cell_type": "code",
   "execution_count": 29,
   "id": "43025b6d",
   "metadata": {
    "execution": {
     "iopub.execute_input": "2023-08-13T08:31:31.664781Z",
     "iopub.status.busy": "2023-08-13T08:31:31.664376Z",
     "iopub.status.idle": "2023-08-13T08:31:31.669086Z",
     "shell.execute_reply": "2023-08-13T08:31:31.668267Z"
    },
    "papermill": {
     "duration": 0.108032,
     "end_time": "2023-08-13T08:31:31.671151",
     "exception": false,
     "start_time": "2023-08-13T08:31:31.563119",
     "status": "completed"
    },
    "tags": []
   },
   "outputs": [],
   "source": [
    "def name_fl(name):\n",
    "    l = name.split()\n",
    "    n = ' '.join((l[0], l[-1]))\n",
    "    return n"
   ]
  },
  {
   "cell_type": "code",
   "execution_count": 30,
   "id": "69a1a48c",
   "metadata": {
    "execution": {
     "iopub.execute_input": "2023-08-13T08:31:31.877397Z",
     "iopub.status.busy": "2023-08-13T08:31:31.876942Z",
     "iopub.status.idle": "2023-08-13T08:31:31.904329Z",
     "shell.execute_reply": "2023-08-13T08:31:31.903477Z"
    },
    "papermill": {
     "duration": 0.131914,
     "end_time": "2023-08-13T08:31:31.906575",
     "exception": false,
     "start_time": "2023-08-13T08:31:31.774661",
     "status": "completed"
    },
    "tags": []
   },
   "outputs": [],
   "source": [
    "def select_features(df: pd.DataFrame, moviesdf: pd.DataFrame, row_thresh_null=None):\n",
    "    '''\n",
    "    This function merges the given dataframes. Note that the first df must be \"train\" or \"test\" and\n",
    "    the second df should be \"movies\".\n",
    "    Note: Sentiment column is present only in \"train.csv\" file and not \"test.csv\" file.\n",
    "    '''\n",
    "    \n",
    "    # Drop duplicates from moviesdf\n",
    "#     movies_unique = moviesdf.drop_duplicates(subset=[\"movieid\"])\n",
    "\n",
    "    # Drop duplicates using groupby - clubs similar rows and fills in missing values better\n",
    "    movies_unique = moviesdf.fillna(value=np.nan).groupby(\"movieid\").first().reset_index()\n",
    "    \n",
    "\n",
    "    # Handle missing values in movies.csv better than just dropping duplicates?\n",
    "#     movies_unique = moviesdf.copy()\n",
    "#     movies_unique[[\"audienceScore\", \"runtimeMinutes\"]] = movies_unique[[\"audienceScore\", \"runtimeMinutes\"]].interpolate(method='linear', axis=0)\n",
    "#     movies_unique = movies_unique.fillna(value=np.nan).groupby(\"movieid\").first().fillna(method='ffill').reset_index()\n",
    "\n",
    "    \n",
    "\n",
    "    # Merge df and movies_unique\n",
    "    df_merged = pd.merge(df, movies_unique, on=\"movieid\", how='left')\n",
    "    \n",
    "    # Rename \"isTopCritic\" column, if it exists, to \"isFrequentReviewer\"\n",
    "    df_merged.rename(columns={\"isTopCritic\": \"isFrequentReviewer\"}, inplace=True)\n",
    "    \n",
    "    # Drop columns\n",
    "#     df_merged = df_merged.drop(columns=[\"title\", \"ratingContents\", \"releaseDateTheaters\", \"releaseDateStreaming\", \"distributor\", \"soundType\"])\n",
    "#     df_merged = df_merged.drop(columns=[\"title\", \"soundType\"])\n",
    "    \n",
    "    # Drop rows (OPTIONAL: Uses kwarg row_thresh_null)\n",
    "    if row_thresh_null != None:\n",
    "        df_merged.dropna(axis=0, thresh=(df_merged.shape[1] - row_thresh_null), inplace=True)\n",
    "        \n",
    "\n",
    "    # Create new columns based on reviewText\n",
    "    final = df_merged.copy()\n",
    "    final[\"reviewYN\"] = np.where(final[\"reviewText\"].isnull(), 1, 0)    # Feature engineering - adding a new column\n",
    "    final[\"reviewWC\"] = final.apply(lambda x: len(str(x[\"reviewText\"]).split()), axis=1)    # Feature engineering - adding second new column\n",
    "    \n",
    "    # Clean text (replace numbers with empty string) and fill missing values in \"reviewText\" with empty string\n",
    "    final[\"reviewText\"] = final[\"reviewText\"].str.replace('\\d+', '', regex=True)\n",
    "    final[\"reviewText\"] = final[\"reviewText\"].fillna(\"neutral\")\n",
    "    \n",
    "    # Fill missing values in \"rating\", \"genre\", original columns with the word \"unknown\"\n",
    "    final[\"rating\"] = final[\"rating\"].fillna(\"unknown\")\n",
    "    final[\"originalLanguage\"] = final[\"originalLanguage\"].fillna(\"unknown\")\n",
    "    final[\"genre\"] = final[\"genre\"].fillna(\"unknown\")\n",
    "    final[\"genre\"] = final[\"genre\"].apply(lambda x: re.sub(r\"-\", \"\", x))\n",
    "    final[\"genreSorted\"] = final[\"genre\"].apply(lambda x: (\",\").join(sorted(x.split(\", \"))))\n",
    "#     final[\"genre\"] = final[\"genre\"].replace(to_replace={\"&\": \"\"})\n",
    "\n",
    "    # Impute missing values for \"audienceScore\" and \"runtimeMinutes\" columns\n",
    "#     final[\"audienceScore\"] = final[\"audienceScore\"].fillna(final[\"audienceScore\"].mean())        # MOVED\n",
    "#     final[\"runtimeMinutes\"] = final[\"runtimeMinutes\"].fillna(final[\"runtimeMinutes\"].median())   # MOVED\n",
    "    \n",
    "    # Preprocess and impute missing values in \"boxOffice\" column\n",
    "    final[\"boxOffice\"] = final[\"boxOffice\"].str[1:]\n",
    "    final[\"boxOffice\"] = final[\"boxOffice\"].replace(to_replace={\"M\": \"*1000000\", \"K\": \"*1000\"}, regex=True)\n",
    "    final[\"boxOffice\"] = final[\"boxOffice\"].loc[final[\"boxOffice\"].notnull()].apply(lambda x: eval(str(x)))\n",
    "#     final[\"boxOffice\"] = final[\"boxOffice\"].fillna(final[\"boxOffice\"].median())                  # MOVED\n",
    "    # (Optional) Replace outliers in boxOffice with median\n",
    "#     median = final[\"boxOffice\"].describe()['50%']\n",
    "#     iqr = final[\"boxOffice\"].describe()['75%'] - final[\"boxOffice\"].describe()['25%']\n",
    "#     ll = median - (1.5*iqr)\n",
    "#     ul = median + (1.5*iqr)\n",
    "#     final.loc[final[\"boxOffice\"] > ul, \"boxOffice\"] = median\n",
    "    \n",
    "    # Clean language names\n",
    "    final[\"originalLanguage\"].replace({\"English (United Kingdom)\": \"English\", \n",
    "                                            \"English (Australia)\" : \"English\",\n",
    "                                            \"French (France)\": \"French\", \n",
    "                                            \"French (Canada)\": \"French\",\n",
    "                                            \"Portuguese (Brazil)\": \"Portuguese\",\n",
    "                                            \"Spanish (Spain)\": \"Spanish\"},                                         \n",
    "                                            inplace=True)\n",
    "    \n",
    "    # Clean reviewerName column\n",
    "    pre_post_fixes = {\"Mr. \": \"\", \"Mrs. \": \"\", \"Ms. \": \"\", \"Dr. \": \"\", \n",
    "                      \" MD\": \"\", \" DDS\": \"\", \" DVM\": \"\", \" Jr.\": \"\", \" PhD\": \"\", \" II\": \"\", \" IV\": \"\"}\n",
    "    final[\"reviewerName\"] = final[\"reviewerName\"].replace(pre_post_fixes, regex=True)\n",
    "    final[\"reviewerName\"] = final[\"reviewerName\"].apply(name_fl)\n",
    "    \n",
    "    # Handle 'ratingContents' column\n",
    "    final[\"ratingContents\"] = final[\"ratingContents\"].fillna(\"neutral\")\n",
    "    final[\"rcSorted\"] = final[\"ratingContents\"].apply(lambda x: (\",\").join(sorted(x.strip(\"][\").split(\", \"))))\n",
    "    final[\"rcSorted\"] = final[\"rcSorted\"].apply(lambda x: re.sub(r\"'\", \"\", x))\n",
    "    final[\"rcSorted\"] = final[\"rcSorted\"].apply(lambda x: re.sub(r\"[/\\s]\", \"_\", x))  \n",
    "    \n",
    "    # Handle 'ratingContents' column\n",
    "    final[\"distributor\"] = final[\"distributor\"].fillna(\"unknown\")\n",
    "    \n",
    "    # Work with 'releaseDateTheaters', releaseDateStreaming column\n",
    "    final[[\"releaseDateTheaters\", \"releaseDateStreaming\"]] = final[[\"releaseDateTheaters\", \"releaseDateStreaming\"]].astype('datetime64[ns]')\n",
    "\n",
    "    final[\"releaseDate\"] = final[[\"releaseDateTheaters\", \"releaseDateStreaming\"]].min(axis=1, skipna=False)\n",
    "#     final[\"releaseDate\"] = final[\"releaseDate\"].fillna(final[\"releaseDate\"].median())               # MOVED\n",
    "\n",
    "    final[\"releaseYear\"] = final[\"releaseDate\"].dt.year\n",
    "    final[\"releaseMonth\"] = final[\"releaseDate\"].dt.month\n",
    "    \n",
    "    # Compute \"releaseDiff\" column and fill missing values in \"releaseDiff\" and (optional) replace outliers\n",
    "    final[\"releaseDiff\"] = (final[\"releaseDateStreaming\"] - final[\"releaseDateTheaters\"]) / np.timedelta64(1, 'D')\n",
    "    final[\"releaseDiff\"] = final[\"releaseDiff\"].apply(lambda x: abs(x))\n",
    "    final[\"releaseDiff\"] = final[\"releaseDiff\"].fillna(value=0)\n",
    "#     final[\"releaseDiff\"] = final[\"releaseDiff\"].fillna(final[\"releaseDiff\"].median())\n",
    "    # median = final[\"releaseDiff\"].describe()['50%']\n",
    "    # iqr = final[\"releaseDiff\"].describe()['75%'] - final[\"releaseDiff\"].describe()['25%']\n",
    "    # ll = median - (1.5*iqr)\n",
    "    # ul = median + (1.5*iqr)\n",
    "    # final.loc[final[\"releaseDiff\"] > ul, \"releaseDiff\"] = median\n",
    "    # final.loc[final[\"releaseDiff\"] < ll, \"releaseDiff\"] = median\n",
    "    \n",
    "#     # Create new feature columns\n",
    "    \n",
    "#     # Convert audienceScore to categories  \n",
    "#     num_bins_as = 20\n",
    "#     final[\"audScoreBins\"] = pd.cut(final['audienceScore'], bins=num_bins_as, labels=False)\n",
    "    \n",
    "#     # Convert runtimeMinutes to categories  \n",
    "# #     num_bins_rt = 20\n",
    "#     final[\"runtimeBins\"] = pd.cut(final['runtimeMinutes'], bins=[0,75,120,180,565], labels=[4,3,2,1])\n",
    "    \n",
    "#     # Convert boxOffice to categories  \n",
    "#     num_bins_bo = 5\n",
    "#     final[\"boxOfficeBins\"] = pd.cut(final['boxOffice'], bins=num_bins_bo, labels=False)\n",
    "    \n",
    "#     # Convert releaseDiff to categories  \n",
    "#     num_bins_rd = 5\n",
    "#     final[\"releaseDiffBins\"] = pd.cut(final['releaseDiff'], bins=[-1, 180, 360, 1000, 40000], labels=[0, 1, 2, 3])\n",
    "\n",
    "    return final"
   ]
  },
  {
   "cell_type": "code",
   "execution_count": 31,
   "id": "b1a08530",
   "metadata": {
    "execution": {
     "iopub.execute_input": "2023-08-13T08:31:32.111392Z",
     "iopub.status.busy": "2023-08-13T08:31:32.110911Z",
     "iopub.status.idle": "2023-08-13T08:31:32.119193Z",
     "shell.execute_reply": "2023-08-13T08:31:32.117957Z"
    },
    "papermill": {
     "duration": 0.114942,
     "end_time": "2023-08-13T08:31:32.121832",
     "exception": false,
     "start_time": "2023-08-13T08:31:32.006890",
     "status": "completed"
    },
    "tags": []
   },
   "outputs": [],
   "source": [
    "def split_train_predict(features, labels, pipeline, test_size=0.25, random_state=42):\n",
    "    # cols = features.columns\n",
    "    if len(features.shape) == 1:\n",
    "        features = features.to_numpy().reshape(-1, 1)  # reshape to 2D array\n",
    "    features = pd.DataFrame(features)\n",
    "    X_train, X_test, y_train, y_test = train_test_split(features, labels, test_size=test_size, random_state=random_state)\n",
    "    pipeline.fit(X_train, y_train)\n",
    "    y_pred = pipeline.predict(X_test)\n",
    "    print(classification_report(y_test, y_pred))\n",
    "    print(confusion_matrix(y_test, y_pred))\n",
    "    return pipeline"
   ]
  },
  {
   "cell_type": "markdown",
   "id": "c03216c5",
   "metadata": {
    "papermill": {
     "duration": 0.100517,
     "end_time": "2023-08-13T08:31:32.325155",
     "exception": false,
     "start_time": "2023-08-13T08:31:32.224638",
     "status": "completed"
    },
    "tags": []
   },
   "source": [
    "### Merge \"train.csv\" file with \"movies.csv\" file  "
   ]
  },
  {
   "cell_type": "code",
   "execution_count": 32,
   "id": "cb9e324d",
   "metadata": {
    "execution": {
     "iopub.execute_input": "2023-08-13T08:31:32.530135Z",
     "iopub.status.busy": "2023-08-13T08:31:32.529302Z",
     "iopub.status.idle": "2023-08-13T08:31:47.093417Z",
     "shell.execute_reply": "2023-08-13T08:31:47.092101Z"
    },
    "papermill": {
     "duration": 14.669259,
     "end_time": "2023-08-13T08:31:47.096900",
     "exception": false,
     "start_time": "2023-08-13T08:31:32.427641",
     "status": "completed"
    },
    "tags": []
   },
   "outputs": [],
   "source": [
    "merged = select_features(load_csv(\"train\"), load_csv(\"movies\"), row_thresh_null=None)"
   ]
  },
  {
   "cell_type": "code",
   "execution_count": 33,
   "id": "8ddfcba7",
   "metadata": {
    "execution": {
     "iopub.execute_input": "2023-08-13T08:31:47.304983Z",
     "iopub.status.busy": "2023-08-13T08:31:47.304144Z",
     "iopub.status.idle": "2023-08-13T08:31:48.771288Z",
     "shell.execute_reply": "2023-08-13T08:31:48.770247Z"
    },
    "papermill": {
     "duration": 1.575117,
     "end_time": "2023-08-13T08:31:48.773969",
     "exception": false,
     "start_time": "2023-08-13T08:31:47.198852",
     "status": "completed"
    },
    "tags": []
   },
   "outputs": [
    {
     "name": "stdout",
     "output_type": "stream",
     "text": [
      "Shape of the dataframe: (162758, 26)\n",
      "\n",
      "Columns in the dataframe:\n",
      "Index(['movieid', 'reviewerName', 'isFrequentReviewer', 'reviewText',\n",
      "       'sentiment', 'title', 'audienceScore', 'rating', 'ratingContents',\n",
      "       'releaseDateTheaters', 'releaseDateStreaming', 'runtimeMinutes',\n",
      "       'genre', 'originalLanguage', 'director', 'boxOffice', 'distributor',\n",
      "       'soundType', 'reviewYN', 'reviewWC', 'genreSorted', 'rcSorted',\n",
      "       'releaseDate', 'releaseYear', 'releaseMonth', 'releaseDiff'],\n",
      "      dtype='object')\n",
      "\n",
      "<class 'pandas.core.frame.DataFrame'>\n",
      "Int64Index: 162758 entries, 0 to 162757\n",
      "Data columns (total 26 columns):\n",
      " #   Column                Non-Null Count   Dtype         \n",
      "---  ------                --------------   -----         \n",
      " 0   movieid               162758 non-null  object        \n",
      " 1   reviewerName          162758 non-null  object        \n",
      " 2   isFrequentReviewer    162758 non-null  bool          \n",
      " 3   reviewText            162758 non-null  object        \n",
      " 4   sentiment             162758 non-null  object        \n",
      " 5   title                 162758 non-null  object        \n",
      " 6   audienceScore         159922 non-null  float64       \n",
      " 7   rating                162758 non-null  object        \n",
      " 8   ratingContents        162758 non-null  object        \n",
      " 9   releaseDateTheaters   146403 non-null  datetime64[ns]\n",
      " 10  releaseDateStreaming  157353 non-null  datetime64[ns]\n",
      " 11  runtimeMinutes        162016 non-null  float64       \n",
      " 12  genre                 162758 non-null  object        \n",
      " 13  originalLanguage      162758 non-null  object        \n",
      " 14  director              162758 non-null  object        \n",
      " 15  boxOffice             130581 non-null  float64       \n",
      " 16  distributor           162758 non-null  object        \n",
      " 17  soundType             93466 non-null   object        \n",
      " 18  reviewYN              162758 non-null  int64         \n",
      " 19  reviewWC              162758 non-null  int64         \n",
      " 20  genreSorted           162758 non-null  object        \n",
      " 21  rcSorted              162758 non-null  object        \n",
      " 22  releaseDate           143073 non-null  datetime64[ns]\n",
      " 23  releaseYear           143073 non-null  float64       \n",
      " 24  releaseMonth          143073 non-null  float64       \n",
      " 25  releaseDiff           162758 non-null  float64       \n",
      "dtypes: bool(1), datetime64[ns](3), float64(6), int64(2), object(14)\n",
      "memory usage: 32.4+ MB\n",
      "None\n",
      "\n",
      "Missing values:\n",
      "movieid                     0\n",
      "reviewerName                0\n",
      "isFrequentReviewer          0\n",
      "reviewText                  0\n",
      "sentiment                   0\n",
      "title                       0\n",
      "audienceScore            2836\n",
      "rating                      0\n",
      "ratingContents              0\n",
      "releaseDateTheaters     16355\n",
      "releaseDateStreaming     5405\n",
      "runtimeMinutes            742\n",
      "genre                       0\n",
      "originalLanguage            0\n",
      "director                    0\n",
      "boxOffice               32177\n",
      "distributor                 0\n",
      "soundType               69292\n",
      "reviewYN                    0\n",
      "reviewWC                    0\n",
      "genreSorted                 0\n",
      "rcSorted                    0\n",
      "releaseDate             19685\n",
      "releaseYear             19685\n",
      "releaseMonth            19685\n",
      "releaseDiff                 0\n",
      "dtype: int64\n"
     ]
    }
   ],
   "source": [
    "inspect(merged)    # Note missing values in ['audienceScore', 'runtimeMinutes', 'boxOffice'] columns  "
   ]
  },
  {
   "cell_type": "code",
   "execution_count": 34,
   "id": "c0323b52",
   "metadata": {
    "execution": {
     "iopub.execute_input": "2023-08-13T08:31:48.980618Z",
     "iopub.status.busy": "2023-08-13T08:31:48.980190Z",
     "iopub.status.idle": "2023-08-13T08:31:49.075216Z",
     "shell.execute_reply": "2023-08-13T08:31:49.073779Z"
    },
    "papermill": {
     "duration": 0.201935,
     "end_time": "2023-08-13T08:31:49.078233",
     "exception": false,
     "start_time": "2023-08-13T08:31:48.876298",
     "status": "completed"
    },
    "tags": []
   },
   "outputs": [
    {
     "data": {
      "text/plain": [
       "array([6.80e+01, 1.04e+02, 1.43e+07])"
      ]
     },
     "execution_count": 34,
     "metadata": {},
     "output_type": "execute_result"
    }
   ],
   "source": [
    "# Simple Imputer for ['audienceScore', 'runtimeMinutes', 'boxOffice'] columns\n",
    "si = SimpleImputer(strategy='median')\n",
    "merged[['audienceScore', 'runtimeMinutes', 'boxOffice']] = si.fit_transform(merged[['audienceScore', 'runtimeMinutes', 'boxOffice']])\n",
    "si.statistics_"
   ]
  },
  {
   "cell_type": "code",
   "execution_count": 35,
   "id": "8aa7ea24",
   "metadata": {
    "execution": {
     "iopub.execute_input": "2023-08-13T08:31:49.283200Z",
     "iopub.status.busy": "2023-08-13T08:31:49.282800Z",
     "iopub.status.idle": "2023-08-13T08:31:49.297042Z",
     "shell.execute_reply": "2023-08-13T08:31:49.295934Z"
    },
    "papermill": {
     "duration": 0.119482,
     "end_time": "2023-08-13T08:31:49.299795",
     "exception": false,
     "start_time": "2023-08-13T08:31:49.180313",
     "status": "completed"
    },
    "tags": []
   },
   "outputs": [],
   "source": [
    "# Fill 'releaseDate' column with median  \n",
    "merged['releaseDate'] = merged[\"releaseDate\"].fillna(merged[\"releaseDate\"].median())"
   ]
  },
  {
   "cell_type": "code",
   "execution_count": 36,
   "id": "f4aba571",
   "metadata": {
    "execution": {
     "iopub.execute_input": "2023-08-13T08:31:49.504097Z",
     "iopub.status.busy": "2023-08-13T08:31:49.503675Z",
     "iopub.status.idle": "2023-08-13T08:31:50.969380Z",
     "shell.execute_reply": "2023-08-13T08:31:50.968068Z"
    },
    "papermill": {
     "duration": 1.5703,
     "end_time": "2023-08-13T08:31:50.972085",
     "exception": false,
     "start_time": "2023-08-13T08:31:49.401785",
     "status": "completed"
    },
    "tags": []
   },
   "outputs": [
    {
     "name": "stdout",
     "output_type": "stream",
     "text": [
      "Shape of the dataframe: (162758, 26)\n",
      "\n",
      "Columns in the dataframe:\n",
      "Index(['movieid', 'reviewerName', 'isFrequentReviewer', 'reviewText',\n",
      "       'sentiment', 'title', 'audienceScore', 'rating', 'ratingContents',\n",
      "       'releaseDateTheaters', 'releaseDateStreaming', 'runtimeMinutes',\n",
      "       'genre', 'originalLanguage', 'director', 'boxOffice', 'distributor',\n",
      "       'soundType', 'reviewYN', 'reviewWC', 'genreSorted', 'rcSorted',\n",
      "       'releaseDate', 'releaseYear', 'releaseMonth', 'releaseDiff'],\n",
      "      dtype='object')\n",
      "\n",
      "<class 'pandas.core.frame.DataFrame'>\n",
      "Int64Index: 162758 entries, 0 to 162757\n",
      "Data columns (total 26 columns):\n",
      " #   Column                Non-Null Count   Dtype         \n",
      "---  ------                --------------   -----         \n",
      " 0   movieid               162758 non-null  object        \n",
      " 1   reviewerName          162758 non-null  object        \n",
      " 2   isFrequentReviewer    162758 non-null  bool          \n",
      " 3   reviewText            162758 non-null  object        \n",
      " 4   sentiment             162758 non-null  object        \n",
      " 5   title                 162758 non-null  object        \n",
      " 6   audienceScore         162758 non-null  float64       \n",
      " 7   rating                162758 non-null  object        \n",
      " 8   ratingContents        162758 non-null  object        \n",
      " 9   releaseDateTheaters   146403 non-null  datetime64[ns]\n",
      " 10  releaseDateStreaming  157353 non-null  datetime64[ns]\n",
      " 11  runtimeMinutes        162758 non-null  float64       \n",
      " 12  genre                 162758 non-null  object        \n",
      " 13  originalLanguage      162758 non-null  object        \n",
      " 14  director              162758 non-null  object        \n",
      " 15  boxOffice             162758 non-null  float64       \n",
      " 16  distributor           162758 non-null  object        \n",
      " 17  soundType             93466 non-null   object        \n",
      " 18  reviewYN              162758 non-null  int64         \n",
      " 19  reviewWC              162758 non-null  int64         \n",
      " 20  genreSorted           162758 non-null  object        \n",
      " 21  rcSorted              162758 non-null  object        \n",
      " 22  releaseDate           162758 non-null  datetime64[ns]\n",
      " 23  releaseYear           143073 non-null  float64       \n",
      " 24  releaseMonth          143073 non-null  float64       \n",
      " 25  releaseDiff           162758 non-null  float64       \n",
      "dtypes: bool(1), datetime64[ns](3), float64(6), int64(2), object(14)\n",
      "memory usage: 32.4+ MB\n",
      "None\n",
      "\n",
      "Missing values:\n",
      "movieid                     0\n",
      "reviewerName                0\n",
      "isFrequentReviewer          0\n",
      "reviewText                  0\n",
      "sentiment                   0\n",
      "title                       0\n",
      "audienceScore               0\n",
      "rating                      0\n",
      "ratingContents              0\n",
      "releaseDateTheaters     16355\n",
      "releaseDateStreaming     5405\n",
      "runtimeMinutes              0\n",
      "genre                       0\n",
      "originalLanguage            0\n",
      "director                    0\n",
      "boxOffice                   0\n",
      "distributor                 0\n",
      "soundType               69292\n",
      "reviewYN                    0\n",
      "reviewWC                    0\n",
      "genreSorted                 0\n",
      "rcSorted                    0\n",
      "releaseDate                 0\n",
      "releaseYear             19685\n",
      "releaseMonth            19685\n",
      "releaseDiff                 0\n",
      "dtype: int64\n"
     ]
    }
   ],
   "source": [
    "# Check out 'merged' df after imputation  \n",
    "inspect(merged)"
   ]
  },
  {
   "cell_type": "code",
   "execution_count": 37,
   "id": "9b11eec0",
   "metadata": {
    "execution": {
     "iopub.execute_input": "2023-08-13T08:31:51.175427Z",
     "iopub.status.busy": "2023-08-13T08:31:51.174968Z",
     "iopub.status.idle": "2023-08-13T08:31:51.233032Z",
     "shell.execute_reply": "2023-08-13T08:31:51.231794Z"
    },
    "papermill": {
     "duration": 0.162094,
     "end_time": "2023-08-13T08:31:51.235481",
     "exception": false,
     "start_time": "2023-08-13T08:31:51.073387",
     "status": "completed"
    },
    "tags": []
   },
   "outputs": [
    {
     "data": {
      "text/html": [
       "<div>\n",
       "<style scoped>\n",
       "    .dataframe tbody tr th:only-of-type {\n",
       "        vertical-align: middle;\n",
       "    }\n",
       "\n",
       "    .dataframe tbody tr th {\n",
       "        vertical-align: top;\n",
       "    }\n",
       "\n",
       "    .dataframe thead th {\n",
       "        text-align: right;\n",
       "    }\n",
       "</style>\n",
       "<table border=\"1\" class=\"dataframe\">\n",
       "  <thead>\n",
       "    <tr style=\"text-align: right;\">\n",
       "      <th></th>\n",
       "      <th>audienceScore</th>\n",
       "      <th>runtimeMinutes</th>\n",
       "      <th>boxOffice</th>\n",
       "    </tr>\n",
       "  </thead>\n",
       "  <tbody>\n",
       "    <tr>\n",
       "      <th>count</th>\n",
       "      <td>162758.000000</td>\n",
       "      <td>162758.000000</td>\n",
       "      <td>1.627580e+05</td>\n",
       "    </tr>\n",
       "    <tr>\n",
       "      <th>mean</th>\n",
       "      <td>65.062565</td>\n",
       "      <td>106.992019</td>\n",
       "      <td>4.160983e+07</td>\n",
       "    </tr>\n",
       "    <tr>\n",
       "      <th>std</th>\n",
       "      <td>19.844000</td>\n",
       "      <td>22.203778</td>\n",
       "      <td>7.932291e+07</td>\n",
       "    </tr>\n",
       "    <tr>\n",
       "      <th>min</th>\n",
       "      <td>0.000000</td>\n",
       "      <td>4.000000</td>\n",
       "      <td>0.000000e+00</td>\n",
       "    </tr>\n",
       "    <tr>\n",
       "      <th>25%</th>\n",
       "      <td>51.000000</td>\n",
       "      <td>93.000000</td>\n",
       "      <td>2.000000e+06</td>\n",
       "    </tr>\n",
       "    <tr>\n",
       "      <th>50%</th>\n",
       "      <td>68.000000</td>\n",
       "      <td>104.000000</td>\n",
       "      <td>1.430000e+07</td>\n",
       "    </tr>\n",
       "    <tr>\n",
       "      <th>75%</th>\n",
       "      <td>81.000000</td>\n",
       "      <td>118.000000</td>\n",
       "      <td>4.200000e+07</td>\n",
       "    </tr>\n",
       "    <tr>\n",
       "      <th>max</th>\n",
       "      <td>100.000000</td>\n",
       "      <td>561.000000</td>\n",
       "      <td>8.584000e+08</td>\n",
       "    </tr>\n",
       "  </tbody>\n",
       "</table>\n",
       "</div>"
      ],
      "text/plain": [
       "       audienceScore  runtimeMinutes     boxOffice\n",
       "count  162758.000000   162758.000000  1.627580e+05\n",
       "mean       65.062565      106.992019  4.160983e+07\n",
       "std        19.844000       22.203778  7.932291e+07\n",
       "min         0.000000        4.000000  0.000000e+00\n",
       "25%        51.000000       93.000000  2.000000e+06\n",
       "50%        68.000000      104.000000  1.430000e+07\n",
       "75%        81.000000      118.000000  4.200000e+07\n",
       "max       100.000000      561.000000  8.584000e+08"
      ]
     },
     "execution_count": 37,
     "metadata": {},
     "output_type": "execute_result"
    }
   ],
   "source": [
    "merged[['audienceScore', 'runtimeMinutes', 'boxOffice']].describe()"
   ]
  },
  {
   "cell_type": "markdown",
   "id": "65762139",
   "metadata": {
    "papermill": {
     "duration": 0.100292,
     "end_time": "2023-08-13T08:31:51.501712",
     "exception": false,
     "start_time": "2023-08-13T08:31:51.401420",
     "status": "completed"
    },
    "tags": []
   },
   "source": [
    "### EDA audienceScore  "
   ]
  },
  {
   "cell_type": "code",
   "execution_count": 38,
   "id": "24948aef",
   "metadata": {
    "execution": {
     "iopub.execute_input": "2023-08-13T08:31:51.714549Z",
     "iopub.status.busy": "2023-08-13T08:31:51.714103Z",
     "iopub.status.idle": "2023-08-13T08:31:52.119387Z",
     "shell.execute_reply": "2023-08-13T08:31:52.117932Z"
    },
    "papermill": {
     "duration": 0.515395,
     "end_time": "2023-08-13T08:31:52.122355",
     "exception": false,
     "start_time": "2023-08-13T08:31:51.606960",
     "status": "completed"
    },
    "tags": []
   },
   "outputs": [
    {
     "data": {
      "text/plain": [
       "<Axes: xlabel='sentiment', ylabel='audienceScore'>"
      ]
     },
     "execution_count": 38,
     "metadata": {},
     "output_type": "execute_result"
    },
    {
     "data": {
      "image/png": "[encoded data removed]",
      "text/plain": [
       "<Figure size 640x480 with 1 Axes>"
      ]
     },
     "metadata": {},
     "output_type": "display_data"
    }
   ],
   "source": [
    "sns.boxplot(y=merged[\"audienceScore\"], x=merged[\"sentiment\"])"
   ]
  },
  {
   "cell_type": "code",
   "execution_count": 39,
   "id": "109db2d7",
   "metadata": {
    "execution": {
     "iopub.execute_input": "2023-08-13T08:31:52.332804Z",
     "iopub.status.busy": "2023-08-13T08:31:52.332073Z",
     "iopub.status.idle": "2023-08-13T08:31:52.382568Z",
     "shell.execute_reply": "2023-08-13T08:31:52.381260Z"
    },
    "papermill": {
     "duration": 0.159008,
     "end_time": "2023-08-13T08:31:52.385659",
     "exception": false,
     "start_time": "2023-08-13T08:31:52.226651",
     "status": "completed"
    },
    "tags": []
   },
   "outputs": [
    {
     "data": {
      "text/html": [
       "<div>\n",
       "<style scoped>\n",
       "    .dataframe tbody tr th:only-of-type {\n",
       "        vertical-align: middle;\n",
       "    }\n",
       "\n",
       "    .dataframe tbody tr th {\n",
       "        vertical-align: top;\n",
       "    }\n",
       "\n",
       "    .dataframe thead th {\n",
       "        text-align: right;\n",
       "    }\n",
       "</style>\n",
       "<table border=\"1\" class=\"dataframe\">\n",
       "  <thead>\n",
       "    <tr style=\"text-align: right;\">\n",
       "      <th></th>\n",
       "      <th>count</th>\n",
       "      <th>mean</th>\n",
       "      <th>std</th>\n",
       "      <th>min</th>\n",
       "      <th>25%</th>\n",
       "      <th>50%</th>\n",
       "      <th>75%</th>\n",
       "      <th>max</th>\n",
       "    </tr>\n",
       "    <tr>\n",
       "      <th>sentiment</th>\n",
       "      <th></th>\n",
       "      <th></th>\n",
       "      <th></th>\n",
       "      <th></th>\n",
       "      <th></th>\n",
       "      <th></th>\n",
       "      <th></th>\n",
       "      <th></th>\n",
       "    </tr>\n",
       "  </thead>\n",
       "  <tbody>\n",
       "    <tr>\n",
       "      <th>NEGATIVE</th>\n",
       "      <td>53997.0</td>\n",
       "      <td>56.474786</td>\n",
       "      <td>19.902115</td>\n",
       "      <td>0.0</td>\n",
       "      <td>41.0</td>\n",
       "      <td>57.0</td>\n",
       "      <td>72.0</td>\n",
       "      <td>100.0</td>\n",
       "    </tr>\n",
       "    <tr>\n",
       "      <th>POSITIVE</th>\n",
       "      <td>108761.0</td>\n",
       "      <td>69.326174</td>\n",
       "      <td>18.380626</td>\n",
       "      <td>0.0</td>\n",
       "      <td>58.0</td>\n",
       "      <td>73.0</td>\n",
       "      <td>84.0</td>\n",
       "      <td>100.0</td>\n",
       "    </tr>\n",
       "  </tbody>\n",
       "</table>\n",
       "</div>"
      ],
      "text/plain": [
       "              count       mean        std  min   25%   50%   75%    max\n",
       "sentiment                                                              \n",
       "NEGATIVE    53997.0  56.474786  19.902115  0.0  41.0  57.0  72.0  100.0\n",
       "POSITIVE   108761.0  69.326174  18.380626  0.0  58.0  73.0  84.0  100.0"
      ]
     },
     "execution_count": 39,
     "metadata": {},
     "output_type": "execute_result"
    }
   ],
   "source": [
    "merged.groupby('sentiment')['audienceScore'].describe()"
   ]
  },
  {
   "cell_type": "code",
   "execution_count": 40,
   "id": "964353e2",
   "metadata": {
    "execution": {
     "iopub.execute_input": "2023-08-13T08:31:52.595075Z",
     "iopub.status.busy": "2023-08-13T08:31:52.594621Z",
     "iopub.status.idle": "2023-08-13T08:31:52.654169Z",
     "shell.execute_reply": "2023-08-13T08:31:52.653263Z"
    },
    "papermill": {
     "duration": 0.167939,
     "end_time": "2023-08-13T08:31:52.656616",
     "exception": false,
     "start_time": "2023-08-13T08:31:52.488677",
     "status": "completed"
    },
    "tags": []
   },
   "outputs": [
    {
     "data": {
      "text/plain": [
       "(162758, 26)"
      ]
     },
     "execution_count": 40,
     "metadata": {},
     "output_type": "execute_result"
    }
   ],
   "source": [
    "merged.loc[merged['audienceScore'] >= 0].shape"
   ]
  },
  {
   "cell_type": "markdown",
   "id": "8684f9cb",
   "metadata": {
    "papermill": {
     "duration": 0.10323,
     "end_time": "2023-08-13T08:31:52.869092",
     "exception": false,
     "start_time": "2023-08-13T08:31:52.765862",
     "status": "completed"
    },
    "tags": []
   },
   "source": [
    "### EDA releaseDiff  "
   ]
  },
  {
   "cell_type": "code",
   "execution_count": 41,
   "id": "257c294f",
   "metadata": {
    "execution": {
     "iopub.execute_input": "2023-08-13T08:31:53.082965Z",
     "iopub.status.busy": "2023-08-13T08:31:53.082012Z",
     "iopub.status.idle": "2023-08-13T08:31:53.101109Z",
     "shell.execute_reply": "2023-08-13T08:31:53.099872Z"
    },
    "papermill": {
     "duration": 0.131474,
     "end_time": "2023-08-13T08:31:53.103761",
     "exception": false,
     "start_time": "2023-08-13T08:31:52.972287",
     "status": "completed"
    },
    "tags": []
   },
   "outputs": [
    {
     "data": {
      "text/plain": [
       "count    162758.000000\n",
       "mean       1653.469015\n",
       "std        4581.420922\n",
       "min           0.000000\n",
       "25%          65.000000\n",
       "50%         116.000000\n",
       "75%         375.000000\n",
       "max       38922.000000\n",
       "Name: releaseDiff, dtype: float64"
      ]
     },
     "execution_count": 41,
     "metadata": {},
     "output_type": "execute_result"
    }
   ],
   "source": [
    "# abs values\n",
    "merged[\"releaseDiff\"].describe()"
   ]
  },
  {
   "cell_type": "code",
   "execution_count": 42,
   "id": "8098d3b1",
   "metadata": {
    "execution": {
     "iopub.execute_input": "2023-08-13T08:31:53.310819Z",
     "iopub.status.busy": "2023-08-13T08:31:53.310403Z",
     "iopub.status.idle": "2023-08-13T08:31:53.315289Z",
     "shell.execute_reply": "2023-08-13T08:31:53.314092Z"
    },
    "papermill": {
     "duration": 0.111227,
     "end_time": "2023-08-13T08:31:53.317588",
     "exception": false,
     "start_time": "2023-08-13T08:31:53.206361",
     "status": "completed"
    },
    "tags": []
   },
   "outputs": [],
   "source": [
    "# merged['releaseDiffBins'].value_counts()"
   ]
  },
  {
   "cell_type": "code",
   "execution_count": 43,
   "id": "f84d816d",
   "metadata": {
    "execution": {
     "iopub.execute_input": "2023-08-13T08:31:53.526198Z",
     "iopub.status.busy": "2023-08-13T08:31:53.525725Z",
     "iopub.status.idle": "2023-08-13T08:31:53.854341Z",
     "shell.execute_reply": "2023-08-13T08:31:53.853137Z"
    },
    "papermill": {
     "duration": 0.435659,
     "end_time": "2023-08-13T08:31:53.857095",
     "exception": false,
     "start_time": "2023-08-13T08:31:53.421436",
     "status": "completed"
    },
    "tags": []
   },
   "outputs": [
    {
     "data": {
      "text/plain": [
       "<Axes: xlabel='sentiment', ylabel='releaseDiff'>"
      ]
     },
     "execution_count": 43,
     "metadata": {},
     "output_type": "execute_result"
    },
    {
     "data": {
      "image/png": "[encoded data removed]",
      "text/plain": [
       "<Figure size 640x480 with 1 Axes>"
      ]
     },
     "metadata": {},
     "output_type": "display_data"
    }
   ],
   "source": [
    "sns.boxplot(x=merged['sentiment'], y=merged['releaseDiff'], showfliers=False)"
   ]
  },
  {
   "cell_type": "code",
   "execution_count": 44,
   "id": "b5f4f2f2",
   "metadata": {
    "execution": {
     "iopub.execute_input": "2023-08-13T08:31:54.069115Z",
     "iopub.status.busy": "2023-08-13T08:31:54.067817Z",
     "iopub.status.idle": "2023-08-13T08:31:54.073081Z",
     "shell.execute_reply": "2023-08-13T08:31:54.071812Z"
    },
    "papermill": {
     "duration": 0.115394,
     "end_time": "2023-08-13T08:31:54.075665",
     "exception": false,
     "start_time": "2023-08-13T08:31:53.960271",
     "status": "completed"
    },
    "tags": []
   },
   "outputs": [],
   "source": [
    "# sns.displot(merged['releaseDiffBins'])"
   ]
  },
  {
   "cell_type": "code",
   "execution_count": 45,
   "id": "fde807e3",
   "metadata": {
    "execution": {
     "iopub.execute_input": "2023-08-13T08:31:54.283436Z",
     "iopub.status.busy": "2023-08-13T08:31:54.282940Z",
     "iopub.status.idle": "2023-08-13T08:31:54.287196Z",
     "shell.execute_reply": "2023-08-13T08:31:54.286355Z"
    },
    "papermill": {
     "duration": 0.110928,
     "end_time": "2023-08-13T08:31:54.289292",
     "exception": false,
     "start_time": "2023-08-13T08:31:54.178364",
     "status": "completed"
    },
    "tags": []
   },
   "outputs": [],
   "source": [
    "# merged['sentiment'].loc[merged['releaseDiffBins'] > 0].value_counts()"
   ]
  },
  {
   "cell_type": "code",
   "execution_count": 46,
   "id": "00eea54d",
   "metadata": {
    "execution": {
     "iopub.execute_input": "2023-08-13T08:31:54.496833Z",
     "iopub.status.busy": "2023-08-13T08:31:54.496191Z",
     "iopub.status.idle": "2023-08-13T08:31:54.500166Z",
     "shell.execute_reply": "2023-08-13T08:31:54.499267Z"
    },
    "papermill": {
     "duration": 0.110715,
     "end_time": "2023-08-13T08:31:54.502425",
     "exception": false,
     "start_time": "2023-08-13T08:31:54.391710",
     "status": "completed"
    },
    "tags": []
   },
   "outputs": [],
   "source": [
    "# merged['releaseDiffBins'].describe()"
   ]
  },
  {
   "cell_type": "markdown",
   "id": "37caea1f",
   "metadata": {
    "papermill": {
     "duration": 0.1024,
     "end_time": "2023-08-13T08:31:54.706349",
     "exception": false,
     "start_time": "2023-08-13T08:31:54.603949",
     "status": "completed"
    },
    "tags": []
   },
   "source": [
    "### EDA 'distributor'  "
   ]
  },
  {
   "cell_type": "code",
   "execution_count": 47,
   "id": "8c27e3ca",
   "metadata": {
    "execution": {
     "iopub.execute_input": "2023-08-13T08:31:54.915168Z",
     "iopub.status.busy": "2023-08-13T08:31:54.914337Z",
     "iopub.status.idle": "2023-08-13T08:31:54.950048Z",
     "shell.execute_reply": "2023-08-13T08:31:54.948775Z"
    },
    "papermill": {
     "duration": 0.144147,
     "end_time": "2023-08-13T08:31:54.952650",
     "exception": false,
     "start_time": "2023-08-13T08:31:54.808503",
     "status": "completed"
    },
    "tags": []
   },
   "outputs": [
    {
     "data": {
      "text/plain": [
       "unknown                              20489\n",
       "Universal Pictures                    8847\n",
       "Warner Bros. Pictures                 8722\n",
       "Paramount Pictures                    7773\n",
       "20th Century Fox                      7007\n",
       "                                     ...  \n",
       "Almi Pictures                            1\n",
       "Koch Lorber                              1\n",
       "Magic Lamp                               1\n",
       "Fine Line Features, Miramax Films        1\n",
       "American Film Co.                        1\n",
       "Name: distributor, Length: 1796, dtype: int64"
      ]
     },
     "execution_count": 47,
     "metadata": {},
     "output_type": "execute_result"
    }
   ],
   "source": [
    "merged[\"distributor\"].value_counts()"
   ]
  },
  {
   "cell_type": "code",
   "execution_count": 48,
   "id": "ac81d839",
   "metadata": {
    "execution": {
     "iopub.execute_input": "2023-08-13T08:31:55.163219Z",
     "iopub.status.busy": "2023-08-13T08:31:55.162751Z",
     "iopub.status.idle": "2023-08-13T08:31:55.182409Z",
     "shell.execute_reply": "2023-08-13T08:31:55.181230Z"
    },
    "papermill": {
     "duration": 0.126243,
     "end_time": "2023-08-13T08:31:55.185103",
     "exception": false,
     "start_time": "2023-08-13T08:31:55.058860",
     "status": "completed"
    },
    "tags": []
   },
   "outputs": [
    {
     "data": {
      "text/plain": [
       "count    162758.000000\n",
       "mean        106.992019\n",
       "std          22.203778\n",
       "min           4.000000\n",
       "25%          93.000000\n",
       "50%         104.000000\n",
       "75%         118.000000\n",
       "max         561.000000\n",
       "Name: runtimeMinutes, dtype: float64"
      ]
     },
     "execution_count": 48,
     "metadata": {},
     "output_type": "execute_result"
    }
   ],
   "source": [
    "merged[\"runtimeMinutes\"].describe()"
   ]
  },
  {
   "cell_type": "code",
   "execution_count": 49,
   "id": "63d79360",
   "metadata": {
    "execution": {
     "iopub.execute_input": "2023-08-13T08:31:55.394833Z",
     "iopub.status.busy": "2023-08-13T08:31:55.393522Z",
     "iopub.status.idle": "2023-08-13T08:31:55.743908Z",
     "shell.execute_reply": "2023-08-13T08:31:55.742467Z"
    },
    "papermill": {
     "duration": 0.457514,
     "end_time": "2023-08-13T08:31:55.746627",
     "exception": false,
     "start_time": "2023-08-13T08:31:55.289113",
     "status": "completed"
    },
    "tags": []
   },
   "outputs": [
    {
     "data": {
      "text/plain": [
       "<Axes: xlabel='sentiment', ylabel='runtimeMinutes'>"
      ]
     },
     "execution_count": 49,
     "metadata": {},
     "output_type": "execute_result"
    },
    {
     "data": {
      "image/png": "[encoded data removed]",
      "text/plain": [
       "<Figure size 640x480 with 1 Axes>"
      ]
     },
     "metadata": {},
     "output_type": "display_data"
    }
   ],
   "source": [
    "sns.boxplot(y=merged[\"runtimeMinutes\"], x=merged[\"sentiment\"])"
   ]
  },
  {
   "cell_type": "code",
   "execution_count": 50,
   "id": "449f63fc",
   "metadata": {
    "execution": {
     "iopub.execute_input": "2023-08-13T08:31:55.976969Z",
     "iopub.status.busy": "2023-08-13T08:31:55.976165Z",
     "iopub.status.idle": "2023-08-13T08:31:55.981081Z",
     "shell.execute_reply": "2023-08-13T08:31:55.980220Z"
    },
    "papermill": {
     "duration": 0.133466,
     "end_time": "2023-08-13T08:31:55.983635",
     "exception": false,
     "start_time": "2023-08-13T08:31:55.850169",
     "status": "completed"
    },
    "tags": []
   },
   "outputs": [],
   "source": [
    "# print(merged[\"boxOfficeBins\"].value_counts())\n",
    "# sns.displot(merged[\"boxOfficeBins\"])"
   ]
  },
  {
   "cell_type": "code",
   "execution_count": 51,
   "id": "3b4f44c0",
   "metadata": {
    "execution": {
     "iopub.execute_input": "2023-08-13T08:31:56.198715Z",
     "iopub.status.busy": "2023-08-13T08:31:56.198342Z",
     "iopub.status.idle": "2023-08-13T08:31:56.206928Z",
     "shell.execute_reply": "2023-08-13T08:31:56.205754Z"
    },
    "papermill": {
     "duration": 0.115891,
     "end_time": "2023-08-13T08:31:56.209327",
     "exception": false,
     "start_time": "2023-08-13T08:31:56.093436",
     "status": "completed"
    },
    "tags": []
   },
   "outputs": [
    {
     "data": {
      "text/plain": [
       "0    Henry Selick’s first movie since ’s Coraline. ...\n",
       "1    With a cast that reads like the Vogue Oscar pa...\n",
       "2    Creed II does not give us anything but another...\n",
       "3    I know what you're thinking, but this is no Li...\n",
       "4    Director Fernando Meirelles tells the story wi...\n",
       "Name: reviewText, dtype: object"
      ]
     },
     "execution_count": 51,
     "metadata": {},
     "output_type": "execute_result"
    }
   ],
   "source": [
    "merged[\"reviewText\"].head()"
   ]
  },
  {
   "cell_type": "code",
   "execution_count": 52,
   "id": "6048ad1f",
   "metadata": {
    "execution": {
     "iopub.execute_input": "2023-08-13T08:31:56.424980Z",
     "iopub.status.busy": "2023-08-13T08:31:56.424538Z",
     "iopub.status.idle": "2023-08-13T08:31:56.433850Z",
     "shell.execute_reply": "2023-08-13T08:31:56.432459Z"
    },
    "papermill": {
     "duration": 0.120003,
     "end_time": "2023-08-13T08:31:56.436214",
     "exception": false,
     "start_time": "2023-08-13T08:31:56.316211",
     "status": "completed"
    },
    "tags": []
   },
   "outputs": [
    {
     "data": {
      "text/plain": [
       "6447"
      ]
     },
     "execution_count": 52,
     "metadata": {},
     "output_type": "execute_result"
    }
   ],
   "source": [
    "merged[\"reviewYN\"].sum()"
   ]
  },
  {
   "cell_type": "code",
   "execution_count": 53,
   "id": "4497c255",
   "metadata": {
    "execution": {
     "iopub.execute_input": "2023-08-13T08:31:56.652070Z",
     "iopub.status.busy": "2023-08-13T08:31:56.650518Z",
     "iopub.status.idle": "2023-08-13T08:31:56.658658Z",
     "shell.execute_reply": "2023-08-13T08:31:56.657805Z"
    },
    "papermill": {
     "duration": 0.119002,
     "end_time": "2023-08-13T08:31:56.660790",
     "exception": false,
     "start_time": "2023-08-13T08:31:56.541788",
     "status": "completed"
    },
    "tags": []
   },
   "outputs": [
    {
     "data": {
      "text/plain": [
       "0    11\n",
       "1    24\n",
       "2    22\n",
       "3    34\n",
       "4    20\n",
       "Name: reviewWC, dtype: int64"
      ]
     },
     "execution_count": 53,
     "metadata": {},
     "output_type": "execute_result"
    }
   ],
   "source": [
    "merged[\"reviewWC\"].head()"
   ]
  },
  {
   "cell_type": "code",
   "execution_count": 54,
   "id": "550f1516",
   "metadata": {
    "execution": {
     "iopub.execute_input": "2023-08-13T08:31:56.873878Z",
     "iopub.status.busy": "2023-08-13T08:31:56.873450Z",
     "iopub.status.idle": "2023-08-13T08:31:56.890344Z",
     "shell.execute_reply": "2023-08-13T08:31:56.889117Z"
    },
    "papermill": {
     "duration": 0.126944,
     "end_time": "2023-08-13T08:31:56.893279",
     "exception": false,
     "start_time": "2023-08-13T08:31:56.766335",
     "status": "completed"
    },
    "tags": []
   },
   "outputs": [
    {
     "data": {
      "text/plain": [
       "count    162758.000000\n",
       "mean         21.013707\n",
       "std          10.216532\n",
       "min           1.000000\n",
       "25%          14.000000\n",
       "50%          21.000000\n",
       "75%          28.000000\n",
       "max          54.000000\n",
       "Name: reviewWC, dtype: float64"
      ]
     },
     "execution_count": 54,
     "metadata": {},
     "output_type": "execute_result"
    }
   ],
   "source": [
    "merged[\"reviewWC\"].describe()"
   ]
  },
  {
   "cell_type": "code",
   "execution_count": 55,
   "id": "27066ff3",
   "metadata": {
    "execution": {
     "iopub.execute_input": "2023-08-13T08:31:57.107339Z",
     "iopub.status.busy": "2023-08-13T08:31:57.106915Z",
     "iopub.status.idle": "2023-08-13T08:31:57.744284Z",
     "shell.execute_reply": "2023-08-13T08:31:57.743090Z"
    },
    "papermill": {
     "duration": 0.748449,
     "end_time": "2023-08-13T08:31:57.746791",
     "exception": false,
     "start_time": "2023-08-13T08:31:56.998342",
     "status": "completed"
    },
    "tags": []
   },
   "outputs": [
    {
     "data": {
      "text/plain": [
       "<Axes: xlabel='reviewWC', ylabel='Count'>"
      ]
     },
     "execution_count": 55,
     "metadata": {},
     "output_type": "execute_result"
    },
    {
     "data": {
      "image/png": "[encoded data removed]",
      "text/plain": [
       "<Figure size 640x480 with 1 Axes>"
      ]
     },
     "metadata": {},
     "output_type": "display_data"
    }
   ],
   "source": [
    "sns.histplot(merged[\"reviewWC\"])"
   ]
  },
  {
   "cell_type": "code",
   "execution_count": 56,
   "id": "858083ce",
   "metadata": {
    "execution": {
     "iopub.execute_input": "2023-08-13T08:31:58.023978Z",
     "iopub.status.busy": "2023-08-13T08:31:58.023133Z",
     "iopub.status.idle": "2023-08-13T08:31:58.056097Z",
     "shell.execute_reply": "2023-08-13T08:31:58.055042Z"
    },
    "papermill": {
     "duration": 0.206887,
     "end_time": "2023-08-13T08:31:58.058535",
     "exception": false,
     "start_time": "2023-08-13T08:31:57.851648",
     "status": "completed"
    },
    "tags": []
   },
   "outputs": [
    {
     "data": {
      "text/plain": [
       "R          60248\n",
       "unknown    44587\n",
       "PG-13      42697\n",
       "PG         13669\n",
       "TV14         947\n",
       "NC-17        285\n",
       "TVPG         281\n",
       "TVMA          44\n",
       "Name: rating, dtype: int64"
      ]
     },
     "execution_count": 56,
     "metadata": {},
     "output_type": "execute_result"
    }
   ],
   "source": [
    "merged['rating'].value_counts()"
   ]
  },
  {
   "cell_type": "code",
   "execution_count": 57,
   "id": "9c0283ac",
   "metadata": {
    "execution": {
     "iopub.execute_input": "2023-08-13T08:31:58.271069Z",
     "iopub.status.busy": "2023-08-13T08:31:58.270344Z",
     "iopub.status.idle": "2023-08-13T08:31:58.281160Z",
     "shell.execute_reply": "2023-08-13T08:31:58.280045Z"
    },
    "papermill": {
     "duration": 0.119845,
     "end_time": "2023-08-13T08:31:58.283406",
     "exception": false,
     "start_time": "2023-08-13T08:31:58.163561",
     "status": "completed"
    },
    "tags": []
   },
   "outputs": [
    {
     "data": {
      "text/plain": [
       "False    113189\n",
       "True      49569\n",
       "Name: isFrequentReviewer, dtype: int64"
      ]
     },
     "execution_count": 57,
     "metadata": {},
     "output_type": "execute_result"
    }
   ],
   "source": [
    "merged['isFrequentReviewer'].value_counts()"
   ]
  },
  {
   "cell_type": "code",
   "execution_count": 58,
   "id": "75d5a0ca",
   "metadata": {
    "execution": {
     "iopub.execute_input": "2023-08-13T08:31:58.497182Z",
     "iopub.status.busy": "2023-08-13T08:31:58.495862Z",
     "iopub.status.idle": "2023-08-13T08:31:58.504672Z",
     "shell.execute_reply": "2023-08-13T08:31:58.503799Z"
    },
    "papermill": {
     "duration": 0.118595,
     "end_time": "2023-08-13T08:31:58.506874",
     "exception": false,
     "start_time": "2023-08-13T08:31:58.388279",
     "status": "completed"
    },
    "tags": []
   },
   "outputs": [
    {
     "data": {
      "text/plain": [
       "0      Benjamin Henry\n",
       "1       Felicia Lopez\n",
       "2     Charles Burgess\n",
       "3        Ryan Barrett\n",
       "4    Alexander Glover\n",
       "Name: reviewerName, dtype: object"
      ]
     },
     "execution_count": 58,
     "metadata": {},
     "output_type": "execute_result"
    }
   ],
   "source": [
    "merged[\"reviewerName\"].head()"
   ]
  },
  {
   "cell_type": "code",
   "execution_count": 59,
   "id": "57c85b74",
   "metadata": {
    "execution": {
     "iopub.execute_input": "2023-08-13T08:31:58.720159Z",
     "iopub.status.busy": "2023-08-13T08:31:58.719387Z",
     "iopub.status.idle": "2023-08-13T08:31:58.732303Z",
     "shell.execute_reply": "2023-08-13T08:31:58.731399Z"
    },
    "papermill": {
     "duration": 0.122239,
     "end_time": "2023-08-13T08:31:58.734550",
     "exception": false,
     "start_time": "2023-08-13T08:31:58.612311",
     "status": "completed"
    },
    "tags": []
   },
   "outputs": [
    {
     "data": {
      "text/plain": [
       "14300000.0    32327\n",
       "2000000.0       922\n",
       "1100000.0       891\n",
       "1000000.0       834\n",
       "1200000.0       802\n",
       "              ...  \n",
       "58500.0           1\n",
       "500800.0          1\n",
       "265600.0          1\n",
       "292500.0          1\n",
       "799400.0          1\n",
       "Name: boxOffice, Length: 3819, dtype: int64"
      ]
     },
     "execution_count": 59,
     "metadata": {},
     "output_type": "execute_result"
    }
   ],
   "source": [
    "merged['boxOffice'].value_counts()"
   ]
  },
  {
   "cell_type": "code",
   "execution_count": 60,
   "id": "83cc7b18",
   "metadata": {
    "execution": {
     "iopub.execute_input": "2023-08-13T08:31:58.951379Z",
     "iopub.status.busy": "2023-08-13T08:31:58.950937Z",
     "iopub.status.idle": "2023-08-13T08:31:58.955254Z",
     "shell.execute_reply": "2023-08-13T08:31:58.954441Z"
    },
    "papermill": {
     "duration": 0.11573,
     "end_time": "2023-08-13T08:31:58.957526",
     "exception": false,
     "start_time": "2023-08-13T08:31:58.841796",
     "status": "completed"
    },
    "tags": []
   },
   "outputs": [],
   "source": [
    "# Check correlation between 'boxOffice' and ''sentiment'\n",
    "# bo_df = merged.copy()\n",
    "# print(bo_df[\"boxOffice\"])\n",
    "# bo_df[\"boxOffice\"] = bo_df[\"boxOffice\"].str[1:]\n",
    "# bo_df[\"boxOffice\"] = bo_df[\"boxOffice\"].replace(to_replace={\"M\": \"*1000000\", \"K\": \"*1000\"}, regex=True)\n",
    "# bo_df[\"boxOffice\"] = bo_df[\"boxOffice\"].loc[bo_df[\"boxOffice\"].notnull()].apply(lambda x: eval(str(x)))\n",
    "# bo_df[\"boxOffice\"] = bo_df[\"boxOffice\"].fillna(bo_df[\"boxOffice\"].median())\n",
    "# bo_df[\"boxOffice\"].describe()"
   ]
  },
  {
   "cell_type": "code",
   "execution_count": 61,
   "id": "f7b753c5",
   "metadata": {
    "execution": {
     "iopub.execute_input": "2023-08-13T08:31:59.174860Z",
     "iopub.status.busy": "2023-08-13T08:31:59.174138Z",
     "iopub.status.idle": "2023-08-13T08:31:59.178960Z",
     "shell.execute_reply": "2023-08-13T08:31:59.177833Z"
    },
    "papermill": {
     "duration": 0.11505,
     "end_time": "2023-08-13T08:31:59.181668",
     "exception": false,
     "start_time": "2023-08-13T08:31:59.066618",
     "status": "completed"
    },
    "tags": []
   },
   "outputs": [],
   "source": [
    "# median = bo_df[\"boxOffice\"].describe()['50%']\n",
    "# iqr = bo_df[\"boxOffice\"].describe()['75%'] - bo_df[\"boxOffice\"].describe()['25%']\n",
    "# median, iqr"
   ]
  },
  {
   "cell_type": "code",
   "execution_count": 62,
   "id": "8aa2209b",
   "metadata": {
    "execution": {
     "iopub.execute_input": "2023-08-13T08:31:59.402495Z",
     "iopub.status.busy": "2023-08-13T08:31:59.402075Z",
     "iopub.status.idle": "2023-08-13T08:31:59.406754Z",
     "shell.execute_reply": "2023-08-13T08:31:59.405654Z"
    },
    "papermill": {
     "duration": 0.113528,
     "end_time": "2023-08-13T08:31:59.408909",
     "exception": false,
     "start_time": "2023-08-13T08:31:59.295381",
     "status": "completed"
    },
    "tags": []
   },
   "outputs": [],
   "source": [
    "# ll = median - (1.5*iqr)\n",
    "# ul = median + (1.5*iqr)\n",
    "# ll, ul"
   ]
  },
  {
   "cell_type": "code",
   "execution_count": 63,
   "id": "b3b66739",
   "metadata": {
    "execution": {
     "iopub.execute_input": "2023-08-13T08:31:59.623945Z",
     "iopub.status.busy": "2023-08-13T08:31:59.623134Z",
     "iopub.status.idle": "2023-08-13T08:31:59.627501Z",
     "shell.execute_reply": "2023-08-13T08:31:59.626730Z"
    },
    "papermill": {
     "duration": 0.113674,
     "end_time": "2023-08-13T08:31:59.629626",
     "exception": false,
     "start_time": "2023-08-13T08:31:59.515952",
     "status": "completed"
    },
    "tags": []
   },
   "outputs": [],
   "source": [
    "# bo_df[\"boxOffice\"].mean()"
   ]
  },
  {
   "cell_type": "code",
   "execution_count": 64,
   "id": "234bb5c1",
   "metadata": {
    "execution": {
     "iopub.execute_input": "2023-08-13T08:31:59.844440Z",
     "iopub.status.busy": "2023-08-13T08:31:59.843345Z",
     "iopub.status.idle": "2023-08-13T08:31:59.847970Z",
     "shell.execute_reply": "2023-08-13T08:31:59.847106Z"
    },
    "papermill": {
     "duration": 0.114658,
     "end_time": "2023-08-13T08:31:59.850350",
     "exception": false,
     "start_time": "2023-08-13T08:31:59.735692",
     "status": "completed"
    },
    "tags": []
   },
   "outputs": [],
   "source": [
    "# bo_df.loc[bo_df[\"boxOffice\"] > ul, \"boxOffice\"] = median\n",
    "# bo_df[\"boxOffice\"].mean()"
   ]
  },
  {
   "cell_type": "code",
   "execution_count": 65,
   "id": "8b95c644",
   "metadata": {
    "execution": {
     "iopub.execute_input": "2023-08-13T08:32:00.066933Z",
     "iopub.status.busy": "2023-08-13T08:32:00.065636Z",
     "iopub.status.idle": "2023-08-13T08:32:00.070247Z",
     "shell.execute_reply": "2023-08-13T08:32:00.069446Z"
    },
    "papermill": {
     "duration": 0.116168,
     "end_time": "2023-08-13T08:32:00.072437",
     "exception": false,
     "start_time": "2023-08-13T08:31:59.956269",
     "status": "completed"
    },
    "tags": []
   },
   "outputs": [],
   "source": [
    "# bo_df[\"boxOffice\"].min(), bo_df[\"boxOffice\"].max()"
   ]
  },
  {
   "cell_type": "code",
   "execution_count": 66,
   "id": "c80ae9da",
   "metadata": {
    "execution": {
     "iopub.execute_input": "2023-08-13T08:32:00.289194Z",
     "iopub.status.busy": "2023-08-13T08:32:00.287783Z",
     "iopub.status.idle": "2023-08-13T08:32:00.292834Z",
     "shell.execute_reply": "2023-08-13T08:32:00.291892Z"
    },
    "papermill": {
     "duration": 0.115441,
     "end_time": "2023-08-13T08:32:00.295240",
     "exception": false,
     "start_time": "2023-08-13T08:32:00.179799",
     "status": "completed"
    },
    "tags": []
   },
   "outputs": [],
   "source": [
    "# sns.boxplot(x=\"sentiment\", y=\"boxOffice\", data=bo_df, showfliers = False)"
   ]
  },
  {
   "cell_type": "markdown",
   "id": "729cdeaa",
   "metadata": {
    "papermill": {
     "duration": 0.10664,
     "end_time": "2023-08-13T08:32:00.507651",
     "exception": false,
     "start_time": "2023-08-13T08:32:00.401011",
     "status": "completed"
    },
    "tags": []
   },
   "source": [
    "## EDA  "
   ]
  },
  {
   "cell_type": "markdown",
   "id": "9bdc8d2b",
   "metadata": {
    "papermill": {
     "duration": 0.105136,
     "end_time": "2023-08-13T08:32:00.717886",
     "exception": false,
     "start_time": "2023-08-13T08:32:00.612750",
     "status": "completed"
    },
    "tags": []
   },
   "source": [
    "### An interesting finding through exploration  \n",
    "  \n",
    "* OHE and TfidfVectorizer on director column give the same result when ngram_range(2,2) is used (see code below)!"
   ]
  },
  {
   "cell_type": "code",
   "execution_count": 67,
   "id": "1a56fca7",
   "metadata": {
    "execution": {
     "iopub.execute_input": "2023-08-13T08:32:00.933017Z",
     "iopub.status.busy": "2023-08-13T08:32:00.932379Z",
     "iopub.status.idle": "2023-08-13T08:32:13.707460Z",
     "shell.execute_reply": "2023-08-13T08:32:13.706016Z"
    },
    "papermill": {
     "duration": 12.884956,
     "end_time": "2023-08-13T08:32:13.710334",
     "exception": false,
     "start_time": "2023-08-13T08:32:00.825378",
     "status": "completed"
    },
    "tags": []
   },
   "outputs": [
    {
     "name": "stdout",
     "output_type": "stream",
     "text": [
      "(162758,)\n",
      "9476\n",
      "(162758, 9476) <class 'numpy.ndarray'>\n",
      "(162758,)\n",
      "(162758, 9476) <class 'numpy.ndarray'>\n",
      "True\n"
     ]
    }
   ],
   "source": [
    "# Compare OHE and TfidfVectorizer on director column\n",
    "\n",
    "dirs = merged[\"director\"].copy()\n",
    "print(dirs.shape)\n",
    "dirs_uniq = merged[\"director\"].unique()\n",
    "print(len(dirs_uniq))\n",
    "\n",
    "du_ohe = OneHotEncoder(handle_unknown=\"ignore\", sparse_output=False).fit_transform(dirs.to_numpy().reshape(-1, 1))\n",
    "print(du_ohe.shape, type(du_ohe))\n",
    "\n",
    "dirs_2 = merged[\"director\"].copy()\n",
    "print(dirs_2.shape)\n",
    "du_tfidf = TfidfVectorizer(ngram_range=(2,2)).fit_transform(dirs_2).toarray()\n",
    "print(du_tfidf.shape, type(du_tfidf))\n",
    "\n",
    "print(np.array_equal(du_ohe, du_tfidf))"
   ]
  },
  {
   "cell_type": "code",
   "execution_count": 68,
   "id": "14e38a03",
   "metadata": {
    "execution": {
     "iopub.execute_input": "2023-08-13T08:32:13.925763Z",
     "iopub.status.busy": "2023-08-13T08:32:13.924741Z",
     "iopub.status.idle": "2023-08-13T08:32:14.288084Z",
     "shell.execute_reply": "2023-08-13T08:32:14.286932Z"
    },
    "papermill": {
     "duration": 0.472912,
     "end_time": "2023-08-13T08:32:14.290592",
     "exception": false,
     "start_time": "2023-08-13T08:32:13.817680",
     "status": "completed"
    },
    "tags": []
   },
   "outputs": [
    {
     "name": "stdout",
     "output_type": "stream",
     "text": [
      "0       Bennie Basso\n",
      "1         Alma White\n",
      "2       Bobby Oleary\n",
      "3    Eric Hutcherson\n",
      "4         John Trent\n",
      "Name: director, dtype: object\n"
     ]
    },
    {
     "data": {
      "text/plain": [
       "2    162758\n",
       "Name: director, dtype: int64"
      ]
     },
     "execution_count": 68,
     "metadata": {},
     "output_type": "execute_result"
    }
   ],
   "source": [
    "print(dirs.head())\n",
    "d = dirs.copy()\n",
    "d[\"name_len\"] = d.apply(lambda x: len(x.split()))\n",
    "d[\"name_len\"].value_counts()"
   ]
  },
  {
   "cell_type": "code",
   "execution_count": 69,
   "id": "e923234f",
   "metadata": {
    "execution": {
     "iopub.execute_input": "2023-08-13T08:32:14.509262Z",
     "iopub.status.busy": "2023-08-13T08:32:14.508597Z",
     "iopub.status.idle": "2023-08-13T08:32:14.514580Z",
     "shell.execute_reply": "2023-08-13T08:32:14.513715Z"
    },
    "papermill": {
     "duration": 0.117409,
     "end_time": "2023-08-13T08:32:14.516812",
     "exception": false,
     "start_time": "2023-08-13T08:32:14.399403",
     "status": "completed"
    },
    "tags": []
   },
   "outputs": [],
   "source": [
    "# Compare OHE and TfidfVectorizer on reviewerName column\n",
    "# Note: reviewerName column has salutations like \"Mr. \" etc, and some names appear middle names. Therefore needs cleaning\n",
    "\n",
    "# def name_fl(name):\n",
    "#     l = name.split()\n",
    "#     n = ' '.join((l[0], l[-1]))\n",
    "#     return n\n",
    "\n",
    "# reviewers = merged[\"reviewerName\"].copy()\n",
    "# reviewers = pd.DataFrame(reviewers)\n",
    "# reviewers = reviewers.replace({\"Mr. \": \"\", \"Mrs. \": \"\"}, regex=True)\n",
    "# reviewers[\"reviewerName\"] = reviewers[\"reviewerName\"].apply(name_fl)\n",
    "# print(reviewers.shape)\n",
    "\n",
    "# reviewers_uniq = merged[\"reviewerName\"].unique()\n",
    "# print(len(reviewers_uniq))\n",
    "\n",
    "# reviewers_ohe = OneHotEncoder(handle_unknown=\"ignore\", sparse_output=False).fit_transform(reviewers.to_numpy().reshape(-1, 1))\n",
    "# print(reviewers_ohe.shape, type(reviewers_ohe))\n",
    "\n",
    "# reviewers_2 = merged[\"reviewerName\"].copy()\n",
    "# reviewers_2 = pd.DataFrame(reviewers_2)\n",
    "# print(reviewers_2.head())\n",
    "# reviewers_2 = reviewers_2.replace({\"Mr. \": \"\", \"Mrs. \": \"\"}, regex=True)\n",
    "# reviewers_2[\"reviewerName\"] = reviewers_2[\"reviewerName\"].apply(name_fl)\n",
    "# reviewers_2 = reviewers_2.squeeze()\n",
    "# print(reviewers_2.shape)\n",
    "# print(reviewers_2.head())\n",
    "\n",
    "# reviewers_tfidf = TfidfVectorizer(ngram_range=(2,2)).fit_transform(reviewers_2).toarray()\n",
    "# print(reviewers_tfidf.shape, type(reviewers_tfidf))\n",
    "\n",
    "# print(np.array_equal(reviewers_ohe, reviewers_tfidf))"
   ]
  },
  {
   "cell_type": "code",
   "execution_count": 70,
   "id": "72179a8e",
   "metadata": {
    "execution": {
     "iopub.execute_input": "2023-08-13T08:32:14.730543Z",
     "iopub.status.busy": "2023-08-13T08:32:14.729888Z",
     "iopub.status.idle": "2023-08-13T08:32:14.734280Z",
     "shell.execute_reply": "2023-08-13T08:32:14.733459Z"
    },
    "papermill": {
     "duration": 0.113629,
     "end_time": "2023-08-13T08:32:14.736473",
     "exception": false,
     "start_time": "2023-08-13T08:32:14.622844",
     "status": "completed"
    },
    "tags": []
   },
   "outputs": [],
   "source": [
    "# def name_fl(name):\n",
    "#     l = name.split()\n",
    "#     n = ' '.join((l[0], l[-1]))\n",
    "#     return n"
   ]
  },
  {
   "cell_type": "code",
   "execution_count": 71,
   "id": "f9183c0b",
   "metadata": {
    "execution": {
     "iopub.execute_input": "2023-08-13T08:32:14.952384Z",
     "iopub.status.busy": "2023-08-13T08:32:14.951710Z",
     "iopub.status.idle": "2023-08-13T08:32:14.956555Z",
     "shell.execute_reply": "2023-08-13T08:32:14.955676Z"
    },
    "papermill": {
     "duration": 0.1171,
     "end_time": "2023-08-13T08:32:14.959094",
     "exception": false,
     "start_time": "2023-08-13T08:32:14.841994",
     "status": "completed"
    },
    "tags": []
   },
   "outputs": [],
   "source": [
    "# print(reviewers.head())\n",
    "# r = pd.DataFrame(reviewers.copy())\n",
    "# r[\"reviewerName\"] = r[\"reviewerName\"].apply(name_fl)\n",
    "# r[\"name_len\"] = r[\"reviewerName\"].apply(lambda x: len(x.split()))\n",
    "# print(r.shape)\n",
    "# print(r.head())\n",
    "# print(r['name_len'].value_counts())"
   ]
  },
  {
   "cell_type": "code",
   "execution_count": 72,
   "id": "1491073e",
   "metadata": {
    "execution": {
     "iopub.execute_input": "2023-08-13T08:32:15.179579Z",
     "iopub.status.busy": "2023-08-13T08:32:15.178955Z",
     "iopub.status.idle": "2023-08-13T08:32:15.182753Z",
     "shell.execute_reply": "2023-08-13T08:32:15.181989Z"
    },
    "papermill": {
     "duration": 0.116065,
     "end_time": "2023-08-13T08:32:15.184977",
     "exception": false,
     "start_time": "2023-08-13T08:32:15.068912",
     "status": "completed"
    },
    "tags": []
   },
   "outputs": [],
   "source": [
    "## Box plot audienceScore and sentiment  \n",
    "# plt.figure(figsize=(6, 4))\n",
    "# sns.boxplot(x=\"sentiment\", y=\"audienceScore\", data=merged, width=0.3)\n",
    "# plt.title(\"Box plot audienceScore and sentiment\")\n",
    "# plt.show()"
   ]
  },
  {
   "cell_type": "code",
   "execution_count": 73,
   "id": "c7533eb8",
   "metadata": {
    "execution": {
     "iopub.execute_input": "2023-08-13T08:32:15.406207Z",
     "iopub.status.busy": "2023-08-13T08:32:15.405486Z",
     "iopub.status.idle": "2023-08-13T08:32:15.409805Z",
     "shell.execute_reply": "2023-08-13T08:32:15.408705Z"
    },
    "papermill": {
     "duration": 0.118773,
     "end_time": "2023-08-13T08:32:15.412151",
     "exception": false,
     "start_time": "2023-08-13T08:32:15.293378",
     "status": "completed"
    },
    "tags": []
   },
   "outputs": [],
   "source": [
    "## Box plot runtimeMinutes and sentiment  \n",
    "# plt.figure(figsize=(6, 4))\n",
    "# sns.boxplot(x=\"sentiment\", y=\"runtimeMinutes\", data=merged, width=0.3)\n",
    "# plt.title(\"Box plot runtimeMinutes and sentiment\")\n",
    "# plt.show()"
   ]
  },
  {
   "cell_type": "code",
   "execution_count": 74,
   "id": "b38d48d8",
   "metadata": {
    "execution": {
     "iopub.execute_input": "2023-08-13T08:32:15.629343Z",
     "iopub.status.busy": "2023-08-13T08:32:15.628408Z",
     "iopub.status.idle": "2023-08-13T08:32:15.633821Z",
     "shell.execute_reply": "2023-08-13T08:32:15.632475Z"
    },
    "papermill": {
     "duration": 0.116892,
     "end_time": "2023-08-13T08:32:15.636514",
     "exception": false,
     "start_time": "2023-08-13T08:32:15.519622",
     "status": "completed"
    },
    "tags": []
   },
   "outputs": [],
   "source": [
    "## Column chart for sentiment and rating columns\n",
    "# plt.figure(figsize=(6, 4))\n",
    "# sns.countplot(x=\"sentiment\", hue=\"rating\", data=merged)\n",
    "# plt.title(\"Column chart for sentiment and rating columns\")\n",
    "# plt.show()"
   ]
  },
  {
   "cell_type": "code",
   "execution_count": 75,
   "id": "f699a127",
   "metadata": {
    "execution": {
     "iopub.execute_input": "2023-08-13T08:32:15.853832Z",
     "iopub.status.busy": "2023-08-13T08:32:15.853428Z",
     "iopub.status.idle": "2023-08-13T08:32:15.858774Z",
     "shell.execute_reply": "2023-08-13T08:32:15.857547Z"
    },
    "papermill": {
     "duration": 0.117268,
     "end_time": "2023-08-13T08:32:15.862515",
     "exception": false,
     "start_time": "2023-08-13T08:32:15.745247",
     "status": "completed"
    },
    "tags": []
   },
   "outputs": [],
   "source": [
    "# Correlation heatmap  \n",
    "# plt.figure(figsize=(10, 8))\n",
    "# sns.heatmap(merged.corr(), annot=True, cmap=\"coolwarm\")\n",
    "# plt.title(\"Correlation heatmap\")\n",
    "# plt.show()"
   ]
  },
  {
   "cell_type": "markdown",
   "id": "411db240",
   "metadata": {
    "papermill": {
     "duration": 0.110781,
     "end_time": "2023-08-13T08:32:16.100213",
     "exception": false,
     "start_time": "2023-08-13T08:32:15.989432",
     "status": "completed"
    },
    "tags": []
   },
   "source": [
    "## Merge and preprocess \"test.csv\" and \"movies.csv\" files  "
   ]
  },
  {
   "cell_type": "code",
   "execution_count": 76,
   "id": "c5e762ed",
   "metadata": {
    "execution": {
     "iopub.execute_input": "2023-08-13T08:32:16.316517Z",
     "iopub.status.busy": "2023-08-13T08:32:16.316091Z",
     "iopub.status.idle": "2023-08-13T08:32:22.391405Z",
     "shell.execute_reply": "2023-08-13T08:32:22.390232Z"
    },
    "papermill": {
     "duration": 6.185951,
     "end_time": "2023-08-13T08:32:22.394157",
     "exception": false,
     "start_time": "2023-08-13T08:32:16.208206",
     "status": "completed"
    },
    "tags": []
   },
   "outputs": [],
   "source": [
    "# Merge test and movies  \n",
    "merged_test = select_features(load_csv(\"test\"), load_csv(\"movies\"))"
   ]
  },
  {
   "cell_type": "code",
   "execution_count": 77,
   "id": "388abb7c",
   "metadata": {
    "execution": {
     "iopub.execute_input": "2023-08-13T08:32:22.607638Z",
     "iopub.status.busy": "2023-08-13T08:32:22.607241Z",
     "iopub.status.idle": "2023-08-13T08:32:22.611800Z",
     "shell.execute_reply": "2023-08-13T08:32:22.610714Z"
    },
    "papermill": {
     "duration": 0.114199,
     "end_time": "2023-08-13T08:32:22.614342",
     "exception": false,
     "start_time": "2023-08-13T08:32:22.500143",
     "status": "completed"
    },
    "tags": []
   },
   "outputs": [],
   "source": [
    "# inspect(merged_test)      # Note the missing values in ['audienceScore', 'runtimeMinutes', 'boxOffice']"
   ]
  },
  {
   "cell_type": "code",
   "execution_count": 78,
   "id": "e7caaa6d",
   "metadata": {
    "execution": {
     "iopub.execute_input": "2023-08-13T08:32:22.828731Z",
     "iopub.status.busy": "2023-08-13T08:32:22.827665Z",
     "iopub.status.idle": "2023-08-13T08:32:22.845718Z",
     "shell.execute_reply": "2023-08-13T08:32:22.844628Z"
    },
    "papermill": {
     "duration": 0.127576,
     "end_time": "2023-08-13T08:32:22.848115",
     "exception": false,
     "start_time": "2023-08-13T08:32:22.720539",
     "status": "completed"
    },
    "tags": []
   },
   "outputs": [
    {
     "data": {
      "text/plain": [
       "array([6.80e+01, 1.04e+02, 1.43e+07])"
      ]
     },
     "execution_count": 78,
     "metadata": {},
     "output_type": "execute_result"
    }
   ],
   "source": [
    "# Transform ['audienceScore', 'runtimeMinutes', 'boxOffice'] columns in merged_test using 'si' fitted on 'merged' df  \n",
    "merged_test[['audienceScore', 'runtimeMinutes', 'boxOffice']] = si.transform(merged_test[['audienceScore', 'runtimeMinutes', 'boxOffice']])\n",
    "si.statistics_"
   ]
  },
  {
   "cell_type": "code",
   "execution_count": 79,
   "id": "f8b1b68b",
   "metadata": {
    "execution": {
     "iopub.execute_input": "2023-08-13T08:32:23.065293Z",
     "iopub.status.busy": "2023-08-13T08:32:23.064854Z",
     "iopub.status.idle": "2023-08-13T08:32:23.075525Z",
     "shell.execute_reply": "2023-08-13T08:32:23.074549Z"
    },
    "papermill": {
     "duration": 0.123571,
     "end_time": "2023-08-13T08:32:23.078126",
     "exception": false,
     "start_time": "2023-08-13T08:32:22.954555",
     "status": "completed"
    },
    "tags": []
   },
   "outputs": [],
   "source": [
    "# Fill 'releaseDate' column in 'merged_test' df with median from the train (merged) df  \n",
    "merged_test['releaseDate'] = merged_test[\"releaseDate\"].fillna(merged[\"releaseDate\"].median())"
   ]
  },
  {
   "cell_type": "code",
   "execution_count": 80,
   "id": "f2886a4a",
   "metadata": {
    "execution": {
     "iopub.execute_input": "2023-08-13T08:32:23.297608Z",
     "iopub.status.busy": "2023-08-13T08:32:23.296971Z",
     "iopub.status.idle": "2023-08-13T08:32:23.782252Z",
     "shell.execute_reply": "2023-08-13T08:32:23.781320Z"
    },
    "papermill": {
     "duration": 0.597354,
     "end_time": "2023-08-13T08:32:23.784690",
     "exception": false,
     "start_time": "2023-08-13T08:32:23.187336",
     "status": "completed"
    },
    "tags": []
   },
   "outputs": [
    {
     "name": "stdout",
     "output_type": "stream",
     "text": [
      "Shape of the dataframe: (55315, 25)\n",
      "\n",
      "Columns in the dataframe:\n",
      "Index(['movieid', 'reviewerName', 'isFrequentReviewer', 'reviewText', 'title',\n",
      "       'audienceScore', 'rating', 'ratingContents', 'releaseDateTheaters',\n",
      "       'releaseDateStreaming', 'runtimeMinutes', 'genre', 'originalLanguage',\n",
      "       'director', 'boxOffice', 'distributor', 'soundType', 'reviewYN',\n",
      "       'reviewWC', 'genreSorted', 'rcSorted', 'releaseDate', 'releaseYear',\n",
      "       'releaseMonth', 'releaseDiff'],\n",
      "      dtype='object')\n",
      "\n",
      "<class 'pandas.core.frame.DataFrame'>\n",
      "Int64Index: 55315 entries, 0 to 55314\n",
      "Data columns (total 25 columns):\n",
      " #   Column                Non-Null Count  Dtype         \n",
      "---  ------                --------------  -----         \n",
      " 0   movieid               55315 non-null  object        \n",
      " 1   reviewerName          55315 non-null  object        \n",
      " 2   isFrequentReviewer    55315 non-null  bool          \n",
      " 3   reviewText            55315 non-null  object        \n",
      " 4   title                 55315 non-null  object        \n",
      " 5   audienceScore         55315 non-null  float64       \n",
      " 6   rating                55315 non-null  object        \n",
      " 7   ratingContents        55315 non-null  object        \n",
      " 8   releaseDateTheaters   47844 non-null  datetime64[ns]\n",
      " 9   releaseDateStreaming  52929 non-null  datetime64[ns]\n",
      " 10  runtimeMinutes        55315 non-null  float64       \n",
      " 11  genre                 55315 non-null  object        \n",
      " 12  originalLanguage      55315 non-null  object        \n",
      " 13  director              55315 non-null  object        \n",
      " 14  boxOffice             55315 non-null  float64       \n",
      " 15  distributor           55315 non-null  object        \n",
      " 16  soundType             29845 non-null  object        \n",
      " 17  reviewYN              55315 non-null  int64         \n",
      " 18  reviewWC              55315 non-null  int64         \n",
      " 19  genreSorted           55315 non-null  object        \n",
      " 20  rcSorted              55315 non-null  object        \n",
      " 21  releaseDate           55315 non-null  datetime64[ns]\n",
      " 22  releaseYear           46626 non-null  float64       \n",
      " 23  releaseMonth          46626 non-null  float64       \n",
      " 24  releaseDiff           55315 non-null  float64       \n",
      "dtypes: bool(1), datetime64[ns](3), float64(6), int64(2), object(13)\n",
      "memory usage: 10.6+ MB\n",
      "None\n",
      "\n",
      "Missing values:\n",
      "movieid                     0\n",
      "reviewerName                0\n",
      "isFrequentReviewer          0\n",
      "reviewText                  0\n",
      "title                       0\n",
      "audienceScore               0\n",
      "rating                      0\n",
      "ratingContents              0\n",
      "releaseDateTheaters      7471\n",
      "releaseDateStreaming     2386\n",
      "runtimeMinutes              0\n",
      "genre                       0\n",
      "originalLanguage            0\n",
      "director                    0\n",
      "boxOffice                   0\n",
      "distributor                 0\n",
      "soundType               25470\n",
      "reviewYN                    0\n",
      "reviewWC                    0\n",
      "genreSorted                 0\n",
      "rcSorted                    0\n",
      "releaseDate                 0\n",
      "releaseYear              8689\n",
      "releaseMonth             8689\n",
      "releaseDiff                 0\n",
      "dtype: int64\n"
     ]
    }
   ],
   "source": [
    "# After transforming merged_test  \n",
    "inspect(merged_test)"
   ]
  },
  {
   "cell_type": "code",
   "execution_count": 81,
   "id": "a44566a9",
   "metadata": {
    "execution": {
     "iopub.execute_input": "2023-08-13T08:32:24.003199Z",
     "iopub.status.busy": "2023-08-13T08:32:24.002704Z",
     "iopub.status.idle": "2023-08-13T08:32:24.011249Z",
     "shell.execute_reply": "2023-08-13T08:32:24.009651Z"
    },
    "papermill": {
     "duration": 0.120998,
     "end_time": "2023-08-13T08:32:24.014044",
     "exception": false,
     "start_time": "2023-08-13T08:32:23.893046",
     "status": "completed"
    },
    "tags": []
   },
   "outputs": [
    {
     "name": "stdout",
     "output_type": "stream",
     "text": [
      "2510\n",
      "4.537648015908886\n"
     ]
    }
   ],
   "source": [
    "print(merged_test[\"reviewYN\"].sum())\n",
    "print(merged_test[\"reviewYN\"].sum() * 100 / merged_test.shape[0])"
   ]
  },
  {
   "cell_type": "code",
   "execution_count": 82,
   "id": "91357b71",
   "metadata": {
    "execution": {
     "iopub.execute_input": "2023-08-13T08:32:24.233848Z",
     "iopub.status.busy": "2023-08-13T08:32:24.233421Z",
     "iopub.status.idle": "2023-08-13T08:32:24.251100Z",
     "shell.execute_reply": "2023-08-13T08:32:24.249900Z"
    },
    "papermill": {
     "duration": 0.129768,
     "end_time": "2023-08-13T08:32:24.253476",
     "exception": false,
     "start_time": "2023-08-13T08:32:24.123708",
     "status": "completed"
    },
    "tags": []
   },
   "outputs": [
    {
     "data": {
      "text/plain": [
       "R          18934\n",
       "unknown    18386\n",
       "PG-13      13220\n",
       "PG          4200\n",
       "TV14         333\n",
       "TVPG         109\n",
       "NC-17        108\n",
       "TVMA          25\n",
       "Name: rating, dtype: int64"
      ]
     },
     "execution_count": 82,
     "metadata": {},
     "output_type": "execute_result"
    }
   ],
   "source": [
    "merged_test['rating'].value_counts()"
   ]
  },
  {
   "cell_type": "code",
   "execution_count": 83,
   "id": "5df5bdec",
   "metadata": {
    "execution": {
     "iopub.execute_input": "2023-08-13T08:32:24.470505Z",
     "iopub.status.busy": "2023-08-13T08:32:24.470078Z",
     "iopub.status.idle": "2023-08-13T08:32:24.480077Z",
     "shell.execute_reply": "2023-08-13T08:32:24.478828Z"
    },
    "papermill": {
     "duration": 0.12146,
     "end_time": "2023-08-13T08:32:24.482643",
     "exception": false,
     "start_time": "2023-08-13T08:32:24.361183",
     "status": "completed"
    },
    "tags": []
   },
   "outputs": [
    {
     "data": {
      "text/plain": [
       "False    38428\n",
       "True     16887\n",
       "Name: isFrequentReviewer, dtype: int64"
      ]
     },
     "execution_count": 83,
     "metadata": {},
     "output_type": "execute_result"
    }
   ],
   "source": [
    "merged_test['isFrequentReviewer'].value_counts()"
   ]
  },
  {
   "cell_type": "code",
   "execution_count": 84,
   "id": "4ed56e81",
   "metadata": {
    "execution": {
     "iopub.execute_input": "2023-08-13T08:32:24.699238Z",
     "iopub.status.busy": "2023-08-13T08:32:24.698782Z",
     "iopub.status.idle": "2023-08-13T08:32:24.710503Z",
     "shell.execute_reply": "2023-08-13T08:32:24.709381Z"
    },
    "papermill": {
     "duration": 0.122264,
     "end_time": "2023-08-13T08:32:24.713107",
     "exception": false,
     "start_time": "2023-08-13T08:32:24.590843",
     "status": "completed"
    },
    "tags": []
   },
   "outputs": [
    {
     "data": {
      "text/plain": [
       "14300000.0    13593\n",
       "1100000.0       311\n",
       "1000000.0       272\n",
       "1300000.0       263\n",
       "2000000.0       256\n",
       "              ...  \n",
       "200400.0          1\n",
       "23800000.0        1\n",
       "111200.0          1\n",
       "277800.0          1\n",
       "100600.0          1\n",
       "Name: boxOffice, Length: 3816, dtype: int64"
      ]
     },
     "execution_count": 84,
     "metadata": {},
     "output_type": "execute_result"
    }
   ],
   "source": [
    "merged_test['boxOffice'].value_counts()"
   ]
  },
  {
   "cell_type": "markdown",
   "id": "c1e1cba9",
   "metadata": {
    "papermill": {
     "duration": 0.109401,
     "end_time": "2023-08-13T08:32:24.930262",
     "exception": false,
     "start_time": "2023-08-13T08:32:24.820861",
     "status": "completed"
    },
    "tags": []
   },
   "source": [
    "## Work on vocabulary  \n",
    "\n",
    "`Build vocabulary from 'reviewText' column`  "
   ]
  },
  {
   "cell_type": "code",
   "execution_count": 85,
   "id": "22cd7fd8",
   "metadata": {
    "execution": {
     "iopub.execute_input": "2023-08-13T08:32:25.149838Z",
     "iopub.status.busy": "2023-08-13T08:32:25.149439Z",
     "iopub.status.idle": "2023-08-13T08:32:25.173860Z",
     "shell.execute_reply": "2023-08-13T08:32:25.170319Z"
    },
    "papermill": {
     "duration": 0.137502,
     "end_time": "2023-08-13T08:32:25.176624",
     "exception": false,
     "start_time": "2023-08-13T08:32:25.039122",
     "status": "completed"
    },
    "tags": []
   },
   "outputs": [
    {
     "data": {
      "text/plain": [
       "((162758, 2),\n",
       "                                           reviewText sentiment\n",
       " 0  Henry Selick’s first movie since ’s Coraline. ...  POSITIVE\n",
       " 1  With a cast that reads like the Vogue Oscar pa...  NEGATIVE\n",
       " 2  Creed II does not give us anything but another...  POSITIVE\n",
       " 3  I know what you're thinking, but this is no Li...  POSITIVE\n",
       " 4  Director Fernando Meirelles tells the story wi...  POSITIVE)"
      ]
     },
     "execution_count": 85,
     "metadata": {},
     "output_type": "execute_result"
    }
   ],
   "source": [
    "rt_senti = merged[[\"reviewText\", \"sentiment\"]].copy()\n",
    "rt_senti.shape, rt_senti.head()"
   ]
  },
  {
   "cell_type": "code",
   "execution_count": 86,
   "id": "74a59fc5",
   "metadata": {
    "execution": {
     "iopub.execute_input": "2023-08-13T08:32:25.396479Z",
     "iopub.status.busy": "2023-08-13T08:32:25.396083Z",
     "iopub.status.idle": "2023-08-13T08:32:25.408634Z",
     "shell.execute_reply": "2023-08-13T08:32:25.407606Z"
    },
    "papermill": {
     "duration": 0.125195,
     "end_time": "2023-08-13T08:32:25.410806",
     "exception": false,
     "start_time": "2023-08-13T08:32:25.285611",
     "status": "completed"
    },
    "tags": []
   },
   "outputs": [
    {
     "data": {
      "text/plain": [
       "((55315, 1),\n",
       "                                           reviewText\n",
       " 0  Green slowly cranks up the dread with style an...\n",
       " 1  Philip Noyce's direction is elegant and unforc...\n",
       " 2  It wouldn't do to say what path Maria ultimate...\n",
       " 3  Pig is not exactly the arthouse John Wick that...\n",
       " 4  An imaginative no-budget musical of sorts abou...)"
      ]
     },
     "execution_count": 86,
     "metadata": {},
     "output_type": "execute_result"
    }
   ],
   "source": [
    "rt_test = pd.DataFrame(merged_test[\"reviewText\"].copy())\n",
    "rt_test.shape, rt_test.head()"
   ]
  },
  {
   "cell_type": "code",
   "execution_count": 87,
   "id": "6c39eb13",
   "metadata": {
    "execution": {
     "iopub.execute_input": "2023-08-13T08:32:25.626562Z",
     "iopub.status.busy": "2023-08-13T08:32:25.626114Z",
     "iopub.status.idle": "2023-08-13T08:32:25.632616Z",
     "shell.execute_reply": "2023-08-13T08:32:25.631535Z"
    },
    "papermill": {
     "duration": 0.117527,
     "end_time": "2023-08-13T08:32:25.635112",
     "exception": false,
     "start_time": "2023-08-13T08:32:25.517585",
     "status": "completed"
    },
    "tags": []
   },
   "outputs": [],
   "source": [
    "def get_vocab(text_df, ngram_range=(1,1)):\n",
    "#     print(f\"Generating vocabulary for ngram_range: {ngram_range}...\")\n",
    "    tvec1 = CountVectorizer(ngram_range=ngram_range, stop_words='english', strip_accents='unicode')\n",
    "    tvec1.fit(text_df)\n",
    "    voc_ngram = set(tvec1.vocabulary_.keys())\n",
    "    return voc_ngram"
   ]
  },
  {
   "cell_type": "code",
   "execution_count": 88,
   "id": "06e65ec6",
   "metadata": {
    "execution": {
     "iopub.execute_input": "2023-08-13T08:32:25.857633Z",
     "iopub.status.busy": "2023-08-13T08:32:25.856227Z",
     "iopub.status.idle": "2023-08-13T08:32:25.870933Z",
     "shell.execute_reply": "2023-08-13T08:32:25.869467Z"
    },
    "papermill": {
     "duration": 0.13095,
     "end_time": "2023-08-13T08:32:25.874401",
     "exception": false,
     "start_time": "2023-08-13T08:32:25.743451",
     "status": "completed"
    },
    "tags": []
   },
   "outputs": [],
   "source": [
    "def get_common_vocab(df_list: list, ngram_range_list: list):\n",
    "    \"\"\"\n",
    "    Get common vocabulary from a list of dataframes.\n",
    "    \"\"\"\n",
    "    final_common_vocab = set()\n",
    "    # Get vocabulary from each dataframe for a given ngram-range\n",
    "    for ngram_range in ngram_range_list:\n",
    "        vocab_ngram = set()\n",
    "        for num, df in enumerate(df_list, start=1):\n",
    "#             print(f\"Working on DF#{num} in the list of DFs provided\")\n",
    "            vocab_ngram_df = set(get_vocab(df['reviewText'], ngram_range))\n",
    "#             print(f\"Vocabulary size for ngram-range {ngram_range} in DF#{num}: {len(vocab_ngram_df)}\\n\")\n",
    "            if len(vocab_ngram) > 0:\n",
    "#                 print(f\"Keeping only the common (intersection) words for ngram-range {ngram_range}...\")\n",
    "                vocab_ngram = vocab_ngram.intersection(vocab_ngram_df)\n",
    "            else:\n",
    "#                 print(f\"Words from the first df for ngram-range {ngram_range} added.\\n\")\n",
    "                vocab_ngram = vocab_ngram_df\n",
    "        print(f\"Common vocabulary for ngram-range {ngram_range}: {len(vocab_ngram)}\\n\")\n",
    "        \n",
    "        if len(final_common_vocab) > 0:\n",
    "#             print(f\"Fusing (union) with final common vocabulary: ngram-range = {ngram_range}.\\n\")\n",
    "            final_common_vocab = final_common_vocab.union(vocab_ngram)\n",
    "        else:\n",
    "#             print(f\"Appended first time to final common vocabulary: ngram-range = {ngram_range}.\\n\")\n",
    "            final_common_vocab = vocab_ngram\n",
    "    print(f\"Size of the common vocabulary generated is: {len(final_common_vocab)}\")\n",
    "    return final_common_vocab"
   ]
  },
  {
   "cell_type": "code",
   "execution_count": 89,
   "id": "a3d1be11",
   "metadata": {
    "execution": {
     "iopub.execute_input": "2023-08-13T08:32:26.110957Z",
     "iopub.status.busy": "2023-08-13T08:32:26.110559Z",
     "iopub.status.idle": "2023-08-13T08:32:26.115617Z",
     "shell.execute_reply": "2023-08-13T08:32:26.114367Z"
    },
    "papermill": {
     "duration": 0.119307,
     "end_time": "2023-08-13T08:32:26.117656",
     "exception": false,
     "start_time": "2023-08-13T08:32:25.998349",
     "status": "completed"
    },
    "tags": []
   },
   "outputs": [],
   "source": [
    "# voc_1gram = get_vocab(rt_senti[\"reviewText\"], ngram_range=(1,1))\n",
    "# len(voc_1gram), voc_1gram[:10]"
   ]
  },
  {
   "cell_type": "code",
   "execution_count": 90,
   "id": "1bef725a",
   "metadata": {
    "execution": {
     "iopub.execute_input": "2023-08-13T08:32:26.338800Z",
     "iopub.status.busy": "2023-08-13T08:32:26.338360Z",
     "iopub.status.idle": "2023-08-13T08:32:26.343012Z",
     "shell.execute_reply": "2023-08-13T08:32:26.342117Z"
    },
    "papermill": {
     "duration": 0.117248,
     "end_time": "2023-08-13T08:32:26.345205",
     "exception": false,
     "start_time": "2023-08-13T08:32:26.227957",
     "status": "completed"
    },
    "tags": []
   },
   "outputs": [],
   "source": [
    "# voc_2gram = get_vocab(rt_senti[\"reviewText\"], ngram_range=(2,2))\n",
    "# len(voc_2gram), voc_2gram[:10]"
   ]
  },
  {
   "cell_type": "code",
   "execution_count": 91,
   "id": "5a11fc62",
   "metadata": {
    "execution": {
     "iopub.execute_input": "2023-08-13T08:32:26.567554Z",
     "iopub.status.busy": "2023-08-13T08:32:26.566533Z",
     "iopub.status.idle": "2023-08-13T08:32:26.571050Z",
     "shell.execute_reply": "2023-08-13T08:32:26.570205Z"
    },
    "papermill": {
     "duration": 0.118772,
     "end_time": "2023-08-13T08:32:26.573338",
     "exception": false,
     "start_time": "2023-08-13T08:32:26.454566",
     "status": "completed"
    },
    "tags": []
   },
   "outputs": [],
   "source": [
    "# voc_3gram = get_vocab(rt_senti[\"reviewText\"], ngram_range=(3,3))\n",
    "# len(voc_3gram), voc_3gram[:10]"
   ]
  },
  {
   "cell_type": "code",
   "execution_count": 92,
   "id": "233d6cd7",
   "metadata": {
    "execution": {
     "iopub.execute_input": "2023-08-13T08:32:26.795088Z",
     "iopub.status.busy": "2023-08-13T08:32:26.794305Z",
     "iopub.status.idle": "2023-08-13T08:32:26.798666Z",
     "shell.execute_reply": "2023-08-13T08:32:26.797529Z"
    },
    "papermill": {
     "duration": 0.118056,
     "end_time": "2023-08-13T08:32:26.801242",
     "exception": false,
     "start_time": "2023-08-13T08:32:26.683186",
     "status": "completed"
    },
    "tags": []
   },
   "outputs": [],
   "source": [
    "# common_unigrams = get_common_vocab([rt_senti, rt_test], ngram_range_list=[(1,1)])\n",
    "# print(len(common_unigrams))\n",
    "# # sorted(list(common_unigrams))"
   ]
  },
  {
   "cell_type": "code",
   "execution_count": 93,
   "id": "9bfb49cf",
   "metadata": {
    "execution": {
     "iopub.execute_input": "2023-08-13T08:32:27.089321Z",
     "iopub.status.busy": "2023-08-13T08:32:27.088572Z",
     "iopub.status.idle": "2023-08-13T08:32:27.092933Z",
     "shell.execute_reply": "2023-08-13T08:32:27.092095Z"
    },
    "papermill": {
     "duration": 0.184376,
     "end_time": "2023-08-13T08:32:27.095290",
     "exception": false,
     "start_time": "2023-08-13T08:32:26.910914",
     "status": "completed"
    },
    "tags": []
   },
   "outputs": [],
   "source": [
    "# common_bigrams = get_common_vocab([rt_senti, rt_test], ngram_range_list=[(2,2)])\n",
    "# print(len(common_bigrams))\n",
    "# # # common_bigrams"
   ]
  },
  {
   "cell_type": "code",
   "execution_count": 94,
   "id": "62fdd373",
   "metadata": {
    "execution": {
     "iopub.execute_input": "2023-08-13T08:32:27.314975Z",
     "iopub.status.busy": "2023-08-13T08:32:27.314294Z",
     "iopub.status.idle": "2023-08-13T08:32:27.318784Z",
     "shell.execute_reply": "2023-08-13T08:32:27.317669Z"
    },
    "papermill": {
     "duration": 0.115677,
     "end_time": "2023-08-13T08:32:27.321086",
     "exception": false,
     "start_time": "2023-08-13T08:32:27.205409",
     "status": "completed"
    },
    "tags": []
   },
   "outputs": [],
   "source": [
    "# common_1_2_grams = get_common_vocab([rt_senti, rt_test], ngram_range_list=[(1,1), (2,2)])\n",
    "# print(len(common_1_2_grams))\n",
    "# # sorted(list(common_1_2_grams))\n",
    "\n",
    "# # common_1_2_grams = common_unigrams | common_bigrams    # older code"
   ]
  },
  {
   "cell_type": "code",
   "execution_count": 95,
   "id": "cea6735d",
   "metadata": {
    "execution": {
     "iopub.execute_input": "2023-08-13T08:32:27.541917Z",
     "iopub.status.busy": "2023-08-13T08:32:27.541474Z",
     "iopub.status.idle": "2023-08-13T08:32:27.549479Z",
     "shell.execute_reply": "2023-08-13T08:32:27.548009Z"
    },
    "papermill": {
     "duration": 0.121439,
     "end_time": "2023-08-13T08:32:27.552085",
     "exception": false,
     "start_time": "2023-08-13T08:32:27.430646",
     "status": "completed"
    },
    "tags": []
   },
   "outputs": [],
   "source": [
    "# common_trigrams = get_common_vocab([rt_senti, rt_test], ngram_range_list=[(3,3)])\n",
    "# print(len(common_trigrams))\n",
    "# # common_trigrams"
   ]
  },
  {
   "cell_type": "code",
   "execution_count": 96,
   "id": "7ba0c36c",
   "metadata": {
    "execution": {
     "iopub.execute_input": "2023-08-13T08:32:27.774306Z",
     "iopub.status.busy": "2023-08-13T08:32:27.773841Z",
     "iopub.status.idle": "2023-08-13T08:32:27.778622Z",
     "shell.execute_reply": "2023-08-13T08:32:27.777461Z"
    },
    "papermill": {
     "duration": 0.117841,
     "end_time": "2023-08-13T08:32:27.781170",
     "exception": false,
     "start_time": "2023-08-13T08:32:27.663329",
     "status": "completed"
    },
    "tags": []
   },
   "outputs": [],
   "source": [
    "# common_1_2_3_grams = get_common_vocab([rt_senti, rt_test], ngram_range_list=[(1,1), (2,2), (3,3)])\n",
    "# print(len(common_1_2_3_grams))\n",
    "# # sorted((common_1_2_3_grams))\n",
    "\n",
    "# # common_1_2_3_grams = common_unigrams | common_bigrams | common_trigrams    # Older code  "
   ]
  },
  {
   "cell_type": "markdown",
   "id": "711d2d25",
   "metadata": {
    "papermill": {
     "duration": 0.107602,
     "end_time": "2023-08-13T08:32:27.997854",
     "exception": false,
     "start_time": "2023-08-13T08:32:27.890252",
     "status": "completed"
    },
    "tags": []
   },
   "source": [
    "### Find common vocabulary between text with positive and negative sentiments in training dataset  "
   ]
  },
  {
   "cell_type": "code",
   "execution_count": 97,
   "id": "0f4d2d45",
   "metadata": {
    "execution": {
     "iopub.execute_input": "2023-08-13T08:32:28.220414Z",
     "iopub.status.busy": "2023-08-13T08:32:28.219984Z",
     "iopub.status.idle": "2023-08-13T08:32:28.269232Z",
     "shell.execute_reply": "2023-08-13T08:32:28.267994Z"
    },
    "papermill": {
     "duration": 0.164661,
     "end_time": "2023-08-13T08:32:28.271859",
     "exception": false,
     "start_time": "2023-08-13T08:32:28.107198",
     "status": "completed"
    },
    "tags": []
   },
   "outputs": [
    {
     "data": {
      "text/plain": [
       "(108761, 2)"
      ]
     },
     "execution_count": 97,
     "metadata": {},
     "output_type": "execute_result"
    }
   ],
   "source": [
    "# Dataframe for positive sentiment\n",
    "rt_senti_pos = rt_senti.loc[rt_senti['sentiment'] == 'POSITIVE'].copy()\n",
    "rt_senti_pos.shape"
   ]
  },
  {
   "cell_type": "code",
   "execution_count": 98,
   "id": "cf5c65ed",
   "metadata": {
    "execution": {
     "iopub.execute_input": "2023-08-13T08:32:28.492393Z",
     "iopub.status.busy": "2023-08-13T08:32:28.491253Z",
     "iopub.status.idle": "2023-08-13T08:32:28.535391Z",
     "shell.execute_reply": "2023-08-13T08:32:28.534236Z"
    },
    "papermill": {
     "duration": 0.158574,
     "end_time": "2023-08-13T08:32:28.538262",
     "exception": false,
     "start_time": "2023-08-13T08:32:28.379688",
     "status": "completed"
    },
    "tags": []
   },
   "outputs": [
    {
     "data": {
      "text/plain": [
       "(53997, 2)"
      ]
     },
     "execution_count": 98,
     "metadata": {},
     "output_type": "execute_result"
    }
   ],
   "source": [
    "# Dataframe for negative sentiment\n",
    "rt_senti_neg = rt_senti.loc[rt_senti['sentiment'] == 'NEGATIVE'].copy()\n",
    "rt_senti_neg.shape"
   ]
  },
  {
   "cell_type": "code",
   "execution_count": 99,
   "id": "a1a33be2",
   "metadata": {
    "execution": {
     "iopub.execute_input": "2023-08-13T08:32:28.757750Z",
     "iopub.status.busy": "2023-08-13T08:32:28.757351Z",
     "iopub.status.idle": "2023-08-13T08:32:28.761852Z",
     "shell.execute_reply": "2023-08-13T08:32:28.760988Z"
    },
    "papermill": {
     "duration": 0.116763,
     "end_time": "2023-08-13T08:32:28.764163",
     "exception": false,
     "start_time": "2023-08-13T08:32:28.647400",
     "status": "completed"
    },
    "tags": []
   },
   "outputs": [],
   "source": [
    "# Generate stop words/phrases specific for this project data  \n",
    "\n",
    "# common_1_2_3_grams_sentiment = get_common_vocab([rt_senti_pos, rt_senti_neg], ngram_range_list=[(1,1), (2,2), (3,3)])\n",
    "# print(len(common_1_2_3_grams_sentiment))\n",
    "# # sorted(list(common_1_2_3_grams_sentiment))"
   ]
  },
  {
   "cell_type": "code",
   "execution_count": 100,
   "id": "becf8c2b",
   "metadata": {
    "execution": {
     "iopub.execute_input": "2023-08-13T08:32:28.984041Z",
     "iopub.status.busy": "2023-08-13T08:32:28.983256Z",
     "iopub.status.idle": "2023-08-13T08:32:28.987416Z",
     "shell.execute_reply": "2023-08-13T08:32:28.986555Z"
    },
    "papermill": {
     "duration": 0.117051,
     "end_time": "2023-08-13T08:32:28.989565",
     "exception": false,
     "start_time": "2023-08-13T08:32:28.872514",
     "status": "completed"
    },
    "tags": []
   },
   "outputs": [],
   "source": [
    "# Generate and store the entire vocabulary of training data  \n",
    "\n",
    "# train_1_2_3_grams = get_vocab(rt_senti['reviewText'], ngram_range=(1,3))\n",
    "# print(len(train_1_2_3_grams))\n",
    "# # sorted(train_1_2_3_grams)"
   ]
  },
  {
   "cell_type": "code",
   "execution_count": 101,
   "id": "f11eac59",
   "metadata": {
    "execution": {
     "iopub.execute_input": "2023-08-13T08:32:29.213952Z",
     "iopub.status.busy": "2023-08-13T08:32:29.213183Z",
     "iopub.status.idle": "2023-08-13T08:32:29.217390Z",
     "shell.execute_reply": "2023-08-13T08:32:29.216530Z"
    },
    "papermill": {
     "duration": 0.120203,
     "end_time": "2023-08-13T08:32:29.219753",
     "exception": false,
     "start_time": "2023-08-13T08:32:29.099550",
     "status": "completed"
    },
    "tags": []
   },
   "outputs": [],
   "source": [
    "# type(train_1_2_3_grams)"
   ]
  },
  {
   "cell_type": "code",
   "execution_count": 102,
   "id": "b5b5b935",
   "metadata": {
    "execution": {
     "iopub.execute_input": "2023-08-13T08:32:29.438823Z",
     "iopub.status.busy": "2023-08-13T08:32:29.438074Z",
     "iopub.status.idle": "2023-08-13T08:32:29.442517Z",
     "shell.execute_reply": "2023-08-13T08:32:29.441505Z"
    },
    "papermill": {
     "duration": 0.115716,
     "end_time": "2023-08-13T08:32:29.444931",
     "exception": false,
     "start_time": "2023-08-13T08:32:29.329215",
     "status": "completed"
    },
    "tags": []
   },
   "outputs": [],
   "source": [
    "# Get the vocabulary that should be used in the final models  \n",
    "# relevant_vocab = train_1_2_3_grams - common_1_2_3_grams_sentiment\n",
    "# print(len(relevant_vocab))"
   ]
  },
  {
   "cell_type": "markdown",
   "id": "5e7fc62f",
   "metadata": {
    "papermill": {
     "duration": 0.108053,
     "end_time": "2023-08-13T08:32:29.663359",
     "exception": false,
     "start_time": "2023-08-13T08:32:29.555306",
     "status": "completed"
    },
    "tags": []
   },
   "source": [
    "## Vocabulary based on audienceScore  "
   ]
  },
  {
   "cell_type": "code",
   "execution_count": 103,
   "id": "c33dec19",
   "metadata": {
    "execution": {
     "iopub.execute_input": "2023-08-13T08:32:29.882698Z",
     "iopub.status.busy": "2023-08-13T08:32:29.881815Z",
     "iopub.status.idle": "2023-08-13T08:32:30.220979Z",
     "shell.execute_reply": "2023-08-13T08:32:30.220087Z"
    },
    "papermill": {
     "duration": 0.451237,
     "end_time": "2023-08-13T08:32:30.223419",
     "exception": false,
     "start_time": "2023-08-13T08:32:29.772182",
     "status": "completed"
    },
    "tags": []
   },
   "outputs": [
    {
     "data": {
      "text/plain": [
       "<Axes: xlabel='sentiment', ylabel='audienceScore'>"
      ]
     },
     "execution_count": 103,
     "metadata": {},
     "output_type": "execute_result"
    },
    {
     "data": {
      "image/png": "[encoded data removed]",
      "text/plain": [
       "<Figure size 640x480 with 1 Axes>"
      ]
     },
     "metadata": {},
     "output_type": "display_data"
    }
   ],
   "source": [
    "sns.boxplot(y=merged[\"audienceScore\"], x=merged[\"sentiment\"])"
   ]
  },
  {
   "cell_type": "code",
   "execution_count": 104,
   "id": "211b01c1",
   "metadata": {
    "execution": {
     "iopub.execute_input": "2023-08-13T08:32:30.442338Z",
     "iopub.status.busy": "2023-08-13T08:32:30.441542Z",
     "iopub.status.idle": "2023-08-13T08:32:30.490372Z",
     "shell.execute_reply": "2023-08-13T08:32:30.489468Z"
    },
    "papermill": {
     "duration": 0.160629,
     "end_time": "2023-08-13T08:32:30.492752",
     "exception": false,
     "start_time": "2023-08-13T08:32:30.332123",
     "status": "completed"
    },
    "tags": []
   },
   "outputs": [
    {
     "data": {
      "text/html": [
       "<div>\n",
       "<style scoped>\n",
       "    .dataframe tbody tr th:only-of-type {\n",
       "        vertical-align: middle;\n",
       "    }\n",
       "\n",
       "    .dataframe tbody tr th {\n",
       "        vertical-align: top;\n",
       "    }\n",
       "\n",
       "    .dataframe thead th {\n",
       "        text-align: right;\n",
       "    }\n",
       "</style>\n",
       "<table border=\"1\" class=\"dataframe\">\n",
       "  <thead>\n",
       "    <tr style=\"text-align: right;\">\n",
       "      <th></th>\n",
       "      <th>count</th>\n",
       "      <th>mean</th>\n",
       "      <th>std</th>\n",
       "      <th>min</th>\n",
       "      <th>25%</th>\n",
       "      <th>50%</th>\n",
       "      <th>75%</th>\n",
       "      <th>max</th>\n",
       "    </tr>\n",
       "    <tr>\n",
       "      <th>sentiment</th>\n",
       "      <th></th>\n",
       "      <th></th>\n",
       "      <th></th>\n",
       "      <th></th>\n",
       "      <th></th>\n",
       "      <th></th>\n",
       "      <th></th>\n",
       "      <th></th>\n",
       "    </tr>\n",
       "  </thead>\n",
       "  <tbody>\n",
       "    <tr>\n",
       "      <th>NEGATIVE</th>\n",
       "      <td>53997.0</td>\n",
       "      <td>56.474786</td>\n",
       "      <td>19.902115</td>\n",
       "      <td>0.0</td>\n",
       "      <td>41.0</td>\n",
       "      <td>57.0</td>\n",
       "      <td>72.0</td>\n",
       "      <td>100.0</td>\n",
       "    </tr>\n",
       "    <tr>\n",
       "      <th>POSITIVE</th>\n",
       "      <td>108761.0</td>\n",
       "      <td>69.326174</td>\n",
       "      <td>18.380626</td>\n",
       "      <td>0.0</td>\n",
       "      <td>58.0</td>\n",
       "      <td>73.0</td>\n",
       "      <td>84.0</td>\n",
       "      <td>100.0</td>\n",
       "    </tr>\n",
       "  </tbody>\n",
       "</table>\n",
       "</div>"
      ],
      "text/plain": [
       "              count       mean        std  min   25%   50%   75%    max\n",
       "sentiment                                                              \n",
       "NEGATIVE    53997.0  56.474786  19.902115  0.0  41.0  57.0  72.0  100.0\n",
       "POSITIVE   108761.0  69.326174  18.380626  0.0  58.0  73.0  84.0  100.0"
      ]
     },
     "execution_count": 104,
     "metadata": {},
     "output_type": "execute_result"
    }
   ],
   "source": [
    "merged.groupby('sentiment')['audienceScore'].describe()"
   ]
  },
  {
   "cell_type": "code",
   "execution_count": 105,
   "id": "e02107af",
   "metadata": {
    "execution": {
     "iopub.execute_input": "2023-08-13T08:32:30.716243Z",
     "iopub.status.busy": "2023-08-13T08:32:30.715290Z",
     "iopub.status.idle": "2023-08-13T08:32:30.719902Z",
     "shell.execute_reply": "2023-08-13T08:32:30.719090Z"
    },
    "papermill": {
     "duration": 0.11864,
     "end_time": "2023-08-13T08:32:30.722879",
     "exception": false,
     "start_time": "2023-08-13T08:32:30.604239",
     "status": "completed"
    },
    "tags": []
   },
   "outputs": [],
   "source": [
    "# pos_scores = merged[['reviewText', 'sentiment']].loc[(merged['audienceScore'] > 73) & (merged['sentiment'] == 'POSITIVE')].copy()\n",
    "# pos_scores.shape, pos_scores.head()"
   ]
  },
  {
   "cell_type": "code",
   "execution_count": 106,
   "id": "440410fb",
   "metadata": {
    "execution": {
     "iopub.execute_input": "2023-08-13T08:32:30.941875Z",
     "iopub.status.busy": "2023-08-13T08:32:30.941427Z",
     "iopub.status.idle": "2023-08-13T08:32:30.945769Z",
     "shell.execute_reply": "2023-08-13T08:32:30.944915Z"
    },
    "papermill": {
     "duration": 0.116272,
     "end_time": "2023-08-13T08:32:30.947759",
     "exception": false,
     "start_time": "2023-08-13T08:32:30.831487",
     "status": "completed"
    },
    "tags": []
   },
   "outputs": [],
   "source": [
    "# pos_scores['sentiment'].value_counts()"
   ]
  },
  {
   "cell_type": "code",
   "execution_count": 107,
   "id": "7a128cc3",
   "metadata": {
    "execution": {
     "iopub.execute_input": "2023-08-13T08:32:31.171214Z",
     "iopub.status.busy": "2023-08-13T08:32:31.170220Z",
     "iopub.status.idle": "2023-08-13T08:32:31.174826Z",
     "shell.execute_reply": "2023-08-13T08:32:31.173908Z"
    },
    "papermill": {
     "duration": 0.117409,
     "end_time": "2023-08-13T08:32:31.177168",
     "exception": false,
     "start_time": "2023-08-13T08:32:31.059759",
     "status": "completed"
    },
    "tags": []
   },
   "outputs": [],
   "source": [
    "# neg_scores = merged[['reviewText', 'sentiment']].loc[(merged['audienceScore'] < 57) & (merged['sentiment'] == 'NEGATIVE')].copy()\n",
    "# neg_scores.shape, neg_scores.head()"
   ]
  },
  {
   "cell_type": "code",
   "execution_count": 108,
   "id": "9a00e272",
   "metadata": {
    "execution": {
     "iopub.execute_input": "2023-08-13T08:32:31.401612Z",
     "iopub.status.busy": "2023-08-13T08:32:31.400863Z",
     "iopub.status.idle": "2023-08-13T08:32:31.405333Z",
     "shell.execute_reply": "2023-08-13T08:32:31.404418Z"
    },
    "papermill": {
     "duration": 0.118996,
     "end_time": "2023-08-13T08:32:31.407620",
     "exception": false,
     "start_time": "2023-08-13T08:32:31.288624",
     "status": "completed"
    },
    "tags": []
   },
   "outputs": [],
   "source": [
    "# neg_scores['sentiment'].value_counts()"
   ]
  },
  {
   "cell_type": "code",
   "execution_count": 109,
   "id": "088eaea3",
   "metadata": {
    "execution": {
     "iopub.execute_input": "2023-08-13T08:32:31.628124Z",
     "iopub.status.busy": "2023-08-13T08:32:31.627335Z",
     "iopub.status.idle": "2023-08-13T08:32:31.631706Z",
     "shell.execute_reply": "2023-08-13T08:32:31.630814Z"
    },
    "papermill": {
     "duration": 0.117349,
     "end_time": "2023-08-13T08:32:31.633984",
     "exception": false,
     "start_time": "2023-08-13T08:32:31.516635",
     "status": "completed"
    },
    "tags": []
   },
   "outputs": [],
   "source": [
    "# common_pos_neg_scores = get_common_vocab([pos_scores, neg_scores], ngram_range_list=[(1,1), (2,2), (3,3)])\n",
    "# print(len(common_pos_neg_scores))\n",
    "# # sorted(list(common_pos_neg_scores))"
   ]
  },
  {
   "cell_type": "code",
   "execution_count": 110,
   "id": "d045744c",
   "metadata": {
    "execution": {
     "iopub.execute_input": "2023-08-13T08:32:31.853517Z",
     "iopub.status.busy": "2023-08-13T08:32:31.852681Z",
     "iopub.status.idle": "2023-08-13T08:32:31.857754Z",
     "shell.execute_reply": "2023-08-13T08:32:31.856646Z"
    },
    "papermill": {
     "duration": 0.117483,
     "end_time": "2023-08-13T08:32:31.860292",
     "exception": false,
     "start_time": "2023-08-13T08:32:31.742809",
     "status": "completed"
    },
    "tags": []
   },
   "outputs": [],
   "source": [
    "# pos_vocab = get_common_vocab([pos_scores, pos_scores], ngram_range_list=[(1,1), (2,2), (3,3)])\n",
    "# print(len(pos_vocab))\n",
    "# # sorted(list(pos_vocab))"
   ]
  },
  {
   "cell_type": "code",
   "execution_count": 111,
   "id": "ba836cc6",
   "metadata": {
    "execution": {
     "iopub.execute_input": "2023-08-13T08:32:32.081739Z",
     "iopub.status.busy": "2023-08-13T08:32:32.081274Z",
     "iopub.status.idle": "2023-08-13T08:32:32.086628Z",
     "shell.execute_reply": "2023-08-13T08:32:32.085252Z"
    },
    "papermill": {
     "duration": 0.119987,
     "end_time": "2023-08-13T08:32:32.089093",
     "exception": false,
     "start_time": "2023-08-13T08:32:31.969106",
     "status": "completed"
    },
    "tags": []
   },
   "outputs": [],
   "source": [
    "# print(len(get_vocab(pos_scores['reviewText'], ngram_range=(1,1))))\n",
    "# print(len(get_vocab(pos_scores['reviewText'], ngram_range=(2,2))))\n",
    "# print(len(get_vocab(pos_scores['reviewText'], ngram_range=(3,3))))"
   ]
  },
  {
   "cell_type": "code",
   "execution_count": 112,
   "id": "b9d5fd9a",
   "metadata": {
    "execution": {
     "iopub.execute_input": "2023-08-13T08:32:32.313991Z",
     "iopub.status.busy": "2023-08-13T08:32:32.313558Z",
     "iopub.status.idle": "2023-08-13T08:32:32.318493Z",
     "shell.execute_reply": "2023-08-13T08:32:32.317391Z"
    },
    "papermill": {
     "duration": 0.123239,
     "end_time": "2023-08-13T08:32:32.320720",
     "exception": false,
     "start_time": "2023-08-13T08:32:32.197481",
     "status": "completed"
    },
    "tags": []
   },
   "outputs": [],
   "source": [
    "# neg_vocab = get_common_vocab([neg_scores, neg_scores], ngram_range_list=[(1,1), (2,2), (3,3)])\n",
    "# print(len(neg_vocab))\n",
    "# # sorted(list(neg_vocab))"
   ]
  },
  {
   "cell_type": "code",
   "execution_count": 113,
   "id": "0bc066e7",
   "metadata": {
    "execution": {
     "iopub.execute_input": "2023-08-13T08:32:32.606965Z",
     "iopub.status.busy": "2023-08-13T08:32:32.606561Z",
     "iopub.status.idle": "2023-08-13T08:32:32.611057Z",
     "shell.execute_reply": "2023-08-13T08:32:32.609952Z"
    },
    "papermill": {
     "duration": 0.119445,
     "end_time": "2023-08-13T08:32:32.613778",
     "exception": false,
     "start_time": "2023-08-13T08:32:32.494333",
     "status": "completed"
    },
    "tags": []
   },
   "outputs": [],
   "source": [
    "# print(len(get_vocab(neg_scores['reviewText'], ngram_range=(1,1))))\n",
    "# print(len(get_vocab(neg_scores['reviewText'], ngram_range=(2,2))))\n",
    "# print(len(get_vocab(neg_scores['reviewText'], ngram_range=(3,3))))"
   ]
  },
  {
   "cell_type": "code",
   "execution_count": 114,
   "id": "a3a5cfb6",
   "metadata": {
    "execution": {
     "iopub.execute_input": "2023-08-13T08:32:32.835736Z",
     "iopub.status.busy": "2023-08-13T08:32:32.835349Z",
     "iopub.status.idle": "2023-08-13T08:32:32.840536Z",
     "shell.execute_reply": "2023-08-13T08:32:32.839283Z"
    },
    "papermill": {
     "duration": 0.117843,
     "end_time": "2023-08-13T08:32:32.843062",
     "exception": false,
     "start_time": "2023-08-13T08:32:32.725219",
     "status": "completed"
    },
    "tags": []
   },
   "outputs": [],
   "source": [
    "# len(pos_vocab), len(neg_vocab), len(pos_vocab - neg_vocab), len(neg_vocab - pos_vocab), len(pos_vocab & neg_vocab)"
   ]
  },
  {
   "cell_type": "markdown",
   "id": "5bb59673",
   "metadata": {
    "papermill": {
     "duration": 0.11008,
     "end_time": "2023-08-13T08:32:33.063281",
     "exception": false,
     "start_time": "2023-08-13T08:32:32.953201",
     "status": "completed"
    },
    "tags": []
   },
   "source": [
    "### Common pos, neg vocabs among train and test  "
   ]
  },
  {
   "cell_type": "code",
   "execution_count": 115,
   "id": "da2f69f9",
   "metadata": {
    "execution": {
     "iopub.execute_input": "2023-08-13T08:32:33.287712Z",
     "iopub.status.busy": "2023-08-13T08:32:33.287300Z",
     "iopub.status.idle": "2023-08-13T08:32:33.292240Z",
     "shell.execute_reply": "2023-08-13T08:32:33.291030Z"
    },
    "papermill": {
     "duration": 0.120396,
     "end_time": "2023-08-13T08:32:33.294610",
     "exception": false,
     "start_time": "2023-08-13T08:32:33.174214",
     "status": "completed"
    },
    "tags": []
   },
   "outputs": [],
   "source": [
    "# len(common_1_2_3_grams & (pos_vocab - neg_vocab))"
   ]
  },
  {
   "cell_type": "code",
   "execution_count": 116,
   "id": "6d365625",
   "metadata": {
    "execution": {
     "iopub.execute_input": "2023-08-13T08:32:33.514680Z",
     "iopub.status.busy": "2023-08-13T08:32:33.513918Z",
     "iopub.status.idle": "2023-08-13T08:32:33.518624Z",
     "shell.execute_reply": "2023-08-13T08:32:33.517463Z"
    },
    "papermill": {
     "duration": 0.117428,
     "end_time": "2023-08-13T08:32:33.520994",
     "exception": false,
     "start_time": "2023-08-13T08:32:33.403566",
     "status": "completed"
    },
    "tags": []
   },
   "outputs": [],
   "source": [
    "# len(common_1_2_3_grams & (neg_vocab - pos_vocab))"
   ]
  },
  {
   "cell_type": "code",
   "execution_count": 117,
   "id": "be8ab62e",
   "metadata": {
    "execution": {
     "iopub.execute_input": "2023-08-13T08:32:33.742253Z",
     "iopub.status.busy": "2023-08-13T08:32:33.741810Z",
     "iopub.status.idle": "2023-08-13T08:32:33.751352Z",
     "shell.execute_reply": "2023-08-13T08:32:33.750270Z"
    },
    "papermill": {
     "duration": 0.122514,
     "end_time": "2023-08-13T08:32:33.753870",
     "exception": false,
     "start_time": "2023-08-13T08:32:33.631356",
     "status": "completed"
    },
    "tags": []
   },
   "outputs": [],
   "source": [
    "def audienceScore_vocab(df_list, scores=(57, 73), ngram_range_list=[(1,1), (2,2), (3,3)]):\n",
    "    train = df_list[0]\n",
    "    test = df_list[1]\n",
    "\n",
    "    lower_bound = scores[0]\n",
    "    upper_bound = scores[1]\n",
    "\n",
    "    common_ngrams = get_common_vocab([train, test], ngram_range_list=ngram_range_list)\n",
    "\n",
    "    pos_scores = train[['reviewText', 'sentiment']].loc[(train['audienceScore'] > upper_bound) & (train['sentiment'] == 'POSITIVE')].copy()\n",
    "    neg_scores = train[['reviewText', 'sentiment']].loc[(train['audienceScore'] < lower_bound) & (train['sentiment'] == 'NEGATIVE')].copy()\n",
    "\n",
    "    pos_vocab = get_common_vocab([pos_scores, pos_scores], ngram_range_list=ngram_range_list)\n",
    "    neg_vocab = get_common_vocab([neg_scores, neg_scores], ngram_range_list=ngram_range_list)\n",
    "\n",
    "    pure_common_pos = common_ngrams & (pos_vocab - neg_vocab)\n",
    "    pure_common_neg = common_ngrams & (neg_vocab - pos_vocab)\n",
    "\n",
    "    return pure_common_pos, pure_common_neg"
   ]
  },
  {
   "cell_type": "code",
   "execution_count": 118,
   "id": "956ef9bc",
   "metadata": {
    "execution": {
     "iopub.execute_input": "2023-08-13T08:32:33.974010Z",
     "iopub.status.busy": "2023-08-13T08:32:33.973603Z",
     "iopub.status.idle": "2023-08-13T08:32:33.977894Z",
     "shell.execute_reply": "2023-08-13T08:32:33.976998Z"
    },
    "papermill": {
     "duration": 0.11733,
     "end_time": "2023-08-13T08:32:33.980064",
     "exception": false,
     "start_time": "2023-08-13T08:32:33.862734",
     "status": "completed"
    },
    "tags": []
   },
   "outputs": [],
   "source": [
    "# pcp, pcn = audienceScore_vocab([merged, merged_test])\n",
    "# len(pcp), len(pcn)"
   ]
  },
  {
   "cell_type": "code",
   "execution_count": 119,
   "id": "cd0c7f00",
   "metadata": {
    "execution": {
     "iopub.execute_input": "2023-08-13T08:32:34.201176Z",
     "iopub.status.busy": "2023-08-13T08:32:34.200773Z",
     "iopub.status.idle": "2023-08-13T08:32:34.204589Z",
     "shell.execute_reply": "2023-08-13T08:32:34.203785Z"
    },
    "papermill": {
     "duration": 0.116634,
     "end_time": "2023-08-13T08:32:34.206536",
     "exception": false,
     "start_time": "2023-08-13T08:32:34.089902",
     "status": "completed"
    },
    "tags": []
   },
   "outputs": [],
   "source": [
    "# pc = pcp | pcn\n",
    "# sorted(list(pc))"
   ]
  },
  {
   "cell_type": "markdown",
   "id": "d0cc8a96",
   "metadata": {
    "papermill": {
     "duration": 0.10868,
     "end_time": "2023-08-13T08:32:34.425849",
     "exception": false,
     "start_time": "2023-08-13T08:32:34.317169",
     "status": "completed"
    },
    "tags": []
   },
   "source": [
    "# Submit_v5 for merged file models  "
   ]
  },
  {
   "cell_type": "markdown",
   "id": "8a829822",
   "metadata": {
    "papermill": {
     "duration": 0.109532,
     "end_time": "2023-08-13T08:32:34.645330",
     "exception": false,
     "start_time": "2023-08-13T08:32:34.535798",
     "status": "completed"
    },
    "tags": []
   },
   "source": [
    "### More Helper functions  "
   ]
  },
  {
   "cell_type": "code",
   "execution_count": 120,
   "id": "f49ac0ea",
   "metadata": {
    "execution": {
     "iopub.execute_input": "2023-08-13T08:32:34.866573Z",
     "iopub.status.busy": "2023-08-13T08:32:34.865766Z",
     "iopub.status.idle": "2023-08-13T08:32:34.872785Z",
     "shell.execute_reply": "2023-08-13T08:32:34.871937Z"
    },
    "papermill": {
     "duration": 0.120748,
     "end_time": "2023-08-13T08:32:34.875069",
     "exception": false,
     "start_time": "2023-08-13T08:32:34.754321",
     "status": "completed"
    },
    "tags": []
   },
   "outputs": [],
   "source": [
    "# Testing predictions on missing reviewtext columns  \n",
    "\n",
    "def predict_on_missing_review_data(pipe, selected_features, merged_train):\n",
    "    missing_reviews_train = merged_train.loc[merged_train['reviewYN'] == 1]\n",
    "    missing_reviews_train.reset_index(drop=True)\n",
    "    X_train_miss_revs = missing_reviews_train.drop('sentiment', axis = 1)\n",
    "    X_train_miss_revs = X_train_miss_revs[selected_features]\n",
    "    y_train_miss_revs = missing_reviews_train['sentiment']\n",
    "    \n",
    "    y_pred_miss_revs = pipe.predict(X_train_miss_revs)\n",
    "#     print('Predictions on rows which had missing reviewText')\n",
    "    print(\"Confusion matrix and f1-score for rows which have no reviewText in X_train: \")\n",
    "    print(confusion_matrix(y_train_miss_revs, y_pred_miss_revs, labels=pipe.classes_))\n",
    "    \n",
    "    return f1_score(y_train_miss_revs, y_pred_miss_revs, average='micro')"
   ]
  },
  {
   "cell_type": "code",
   "execution_count": 121,
   "id": "0bc09016",
   "metadata": {
    "execution": {
     "iopub.execute_input": "2023-08-13T08:32:35.098511Z",
     "iopub.status.busy": "2023-08-13T08:32:35.098077Z",
     "iopub.status.idle": "2023-08-13T08:32:35.307843Z",
     "shell.execute_reply": "2023-08-13T08:32:35.306602Z"
    },
    "papermill": {
     "duration": 0.325867,
     "end_time": "2023-08-13T08:32:35.310830",
     "exception": false,
     "start_time": "2023-08-13T08:32:34.984963",
     "status": "completed"
    },
    "tags": []
   },
   "outputs": [],
   "source": [
    "# Function to build pipelines for GridSearchCV which goes into the final 'submit' function  \n",
    "def build_pipeline(selected_model=LogisticRegression(), \n",
    "                   selected_features={'txt': ['reviewText']}, \n",
    "                   param_grid=None,\n",
    "                   vocab=None,\n",
    "                   vocab_usage='tfidf',\n",
    "                   strip_accents='unicode', \n",
    "                   add_countvec=False,\n",
    "                   vocab_audscore=None,\n",
    "                  poly=True):\n",
    "    # Encoders  \n",
    "    ohe = OneHotEncoder(sparse_output=False, handle_unknown='ignore')\n",
    "    MMscaler = MinMaxScaler()\n",
    "    StdScaler = StandardScaler()\n",
    "    RobScaler = RobustScaler()\n",
    "    \n",
    "    # Categorical features\n",
    "    cat_pipe = Pipeline(steps=[\n",
    "                            (\"ohe\", ohe),\n",
    "                        ])\n",
    "    \n",
    "    # Numerical features\n",
    "    num_pipe = Pipeline(steps=[\n",
    "                            (\"robscaler\", RobustScaler()),\n",
    "                            (\"stdscaler\", StandardScaler())\n",
    "                        ])\n",
    "    num_pipe_poly = Pipeline(steps=[\n",
    "                            (\"robscaler\", RobustScaler()),\n",
    "                            (\"stdscaler\", StandardScaler()),\n",
    "                            (\"poly\", PolynomialFeatures(degree=2, interaction_only=True, include_bias=False))\n",
    "                        ])\n",
    "    \n",
    "    # Text features ['reviewText', 'reviewerName', 'movieid', 'genre', 'director']\n",
    "    tfidf_vec = TfidfVectorizer(ngram_range=(1,2))\n",
    "    count_vec = CountVectorizer(ngram_range=(1,2))\n",
    "    txt_pipe = Pipeline(steps=[\n",
    "                            (\"tvec\", TfidfVectorizer(ngram_range=(1,4), strip_accents=strip_accents))    # Adjust ngram_range here for reviewText\n",
    "                        ])\n",
    "    txt_pipe_vocab = Pipeline(steps=[\n",
    "                            (\"tvec\", TfidfVectorizer(ngram_range=(1,4), strip_accents=strip_accents, vocabulary=vocab))    # Adjust ngram_range here for reviewText\n",
    "                        ])\n",
    "    txt_pipe_2 = Pipeline(steps=[\n",
    "                            (\"tvec\", TfidfVectorizer(ngram_range=(2,2)))\n",
    "                        ])\n",
    "    txt_pipe_3 = Pipeline(steps=[\n",
    "                            (\"tvec\", TfidfVectorizer(ngram_range=(1,1)))\n",
    "                        ])\n",
    "    txt_pipe_4 = Pipeline(steps=[\n",
    "                            (\"tvec\", TfidfVectorizer(ngram_range=(1,3)))    # Adjust ngram_range here for reviewText\n",
    "                        ])\n",
    "    txt_pipe_title  = Pipeline(steps=[\n",
    "                            (\"tvec\", TfidfVectorizer(ngram_range=(1,5)))    # Adjust ngram_range here for reviewText\n",
    "                        ])\n",
    "    \n",
    "    # Additional pipes for count vectorizer\n",
    "    txt_pipe_countvec = Pipeline(steps=[\n",
    "                            (\"cvec\", CountVectorizer(ngram_range=(1,4), strip_accents=strip_accents))    # Adjust ngram_range here for reviewText\n",
    "                        ])\n",
    "    txt_pipe_countvec_vocab = Pipeline(steps=[\n",
    "                            (\"cvec\", CountVectorizer(ngram_range=(1,4), strip_accents=strip_accents, vocabulary=vocab))    # Adjust ngram_range here for reviewText\n",
    "                        ])\n",
    "    txt_pipe_countvec_vocab_audscore = Pipeline(steps=[\n",
    "                            (\"cvec\", CountVectorizer(ngram_range=(1,4), strip_accents=strip_accents, vocabulary=vocab_audscore))    # Adjust ngram_range here for reviewText\n",
    "                        ])\n",
    "    \n",
    "    txt_pipe_countvec_ratingContents = Pipeline(steps=[\n",
    "                            (\"cvec\", CountVectorizer(ngram_range=(1,5)))    # Adjust ngram_range here for reviewText\n",
    "                        ])\n",
    "    txt_pipe_countvec_rcSorted = Pipeline(steps=[\n",
    "                            (\"cvec\", CountVectorizer(ngram_range=(1,1)))    # Adjust ngram_range here for reviewText\n",
    "                        ])\n",
    "    txt_pipe_countvec_genre = Pipeline(steps=[\n",
    "                            (\"cvec\", CountVectorizer(ngram_range=(1,1)))\n",
    "                        ])\n",
    "    txt_pipe_countvec_genreSorted = Pipeline(steps=[\n",
    "                            (\"cvec\", CountVectorizer(ngram_range=(1,5)))\n",
    "                        ])\n",
    "    txt_pipe_countvec_distributor = Pipeline(steps=[\n",
    "                            (\"cvec\", CountVectorizer(ngram_range=(1,3)))    # Adjust ngram_range here for reviewText\n",
    "                        ])\n",
    "    txt_pipe_countvec_title = Pipeline(steps=[\n",
    "                            (\"cvec\", CountVectorizer(ngram_range=(1,5), strip_accents=strip_accents))\n",
    "                        ])\n",
    "    txt_pipe_countvec_movieid = Pipeline(steps=[\n",
    "                            (\"cvec\", CountVectorizer(ngram_range=(1,1)))\n",
    "                        ])\n",
    "    # Basic pipes  \n",
    "    TFs = []\n",
    "    try:\n",
    "        TFs.append((f\"cat\", ohe, selected_features['cat']))\n",
    "#         for c in selected_features['cat']:\n",
    "#             TFs.append((f\"cat_{c}\", ohe, [c]))\n",
    "    except:\n",
    "        pass\n",
    "    \n",
    "    try:\n",
    "        if poly:\n",
    "            TFs.append((f\"num\", num_pipe_poly, selected_features['num']))\n",
    "        else:\n",
    "            TFs.append((f\"num\", num_pipe, selected_features['num']))\n",
    "#             for n in selected_features['num']:\n",
    "#                 if n in [\"runtimeMinutes\", \"boxOffice\", \"releaseDiff\"]:\n",
    "#                     TFs.append((f\"num_{n}\", RobScaler, [n]))\n",
    "#                     TFs.append((f\"num_{n}_ss\", StdScaler, [n]))\n",
    "\n",
    "#                 else:\n",
    "#                     TFs.append((f\"num_{n}\", StdScaler, [n]))\n",
    "    except:\n",
    "        pass\n",
    "    \n",
    "    try:\n",
    "        for t in selected_features['txt']:\n",
    "            if t in ['director', 'reviewerName']:\n",
    "                TFs.append((f\"txt_{t}\", txt_pipe_2, t))\n",
    "            elif t in [\"originalLanguage\", \"releaseYear\"]:\n",
    "                TFs.append((f\"txt_{t}\", txt_pipe_3, t))\n",
    "            elif t in ['genre']:\n",
    "                TFs.append((f\"txt_{t}\", txt_pipe_countvec_genre, t))\n",
    "            elif t in [\"genreSorted\"]:\n",
    "                TFs.append((f\"txt_{t}\", txt_pipe_countvec_genreSorted, t))\n",
    "            elif t in [\"distributor\"]:\n",
    "                TFs.append((f\"txt_{t}\", txt_pipe_countvec_distributor, t))\n",
    "                \n",
    "            elif t in ['reviewText']:\n",
    "#                 if vocab and (vocab_usage in [\"tfidf\", \"both\"]):\n",
    "#                     txt_pipe.set_params(tvec__vocabulary=vocab)\n",
    "#                     txt_pipe.set_params(tvec__stop_words='english')\n",
    "                TFs.append((f\"txt_{t}\", txt_pipe, t))\n",
    "            elif t in ['reviewText_2']:\n",
    "                if add_countvec:\n",
    "#                     if vocab and (vocab_usage in [\"count\", \"both\"]):\n",
    "#                         txt_pipe_countvec.set_params(cvec__vocabulary=vocab)\n",
    "#                         txt_pipe_countvec.set_params(cvec__stop_words='english')\n",
    "                    TFs.append((f\"txt_{t}\", txt_pipe_countvec, t))\n",
    "            elif t in ['reviewText_3']:\n",
    "                if vocab_usage == 'tfidf':\n",
    "                    TFs.append((f\"txt_{t}\", txt_pipe_vocab, t))\n",
    "                elif vocab_usage == 'count':\n",
    "                    TFs.append((f\"txt_{t}\", txt_pipe_countvec_vocab, t))\n",
    "            elif t in ['reviewText_4']:\n",
    "                if vocab_audscore:                    \n",
    "                    TFs.append((f\"txt_{t}\", txt_pipe_countvec_vocab_audscore, t))\n",
    "                    \n",
    "            elif t in [\"ratingContents\"]:\n",
    "                TFs.append((f\"txt_{t}\", txt_pipe_countvec_ratingContents, t))\n",
    "            elif t in [\"rcSorted\"]:\n",
    "                TFs.append((f\"txt_{t}\", txt_pipe_countvec_rcSorted, t))\n",
    "            elif t in [\"title\"]:\n",
    "                TFs.append((f\"txt_{t}\", txt_pipe_title, t))\n",
    "            elif t in [\"movieid\"]:\n",
    "                TFs.append((f\"txt_{t}\", txt_pipe_countvec_movieid, t))\n",
    "            else:\n",
    "                pass\n",
    "    except:\n",
    "        pass\n",
    "\n",
    "    # Build ColumnTransformer  \n",
    "    ct = ColumnTransformer(transformers=TFs, remainder='drop')\n",
    "\n",
    "    # Build Pipeline\n",
    "    pipe = Pipeline(steps=[('ct', ct), ('model', selected_model)])\n",
    "    print(\"\\nPipeline built successfully.\")\n",
    "\n",
    "    # Use the pipe in GridSearchCV\n",
    "    if param_grid == None:\n",
    "        param_grid_temp = {\"model__C\": [1],\n",
    "                     'model__solver': ['liblinear']}\n",
    "        print(\"Full GridSearchCV pipeline built successfully with basic default param_grid.\\n\")\n",
    "        pipeCV = GridSearchCV(pipe, param_grid_temp, cv=10, scoring=\"f1_micro\", n_jobs=-1)\n",
    "        return pipeCV\n",
    "    \n",
    "    # GridSearchCV if param_grid provided\n",
    "    if param_grid:\n",
    "        pipeCV = GridSearchCV(pipe, param_grid, cv=10, scoring=\"f1_micro\", n_jobs=-1)\n",
    "        print(\"\\nFull GridSearchCV pipeline built successfully.\")\n",
    "        return pipeCV"
   ]
  },
  {
   "cell_type": "code",
   "execution_count": 122,
   "id": "30198a00",
   "metadata": {
    "execution": {
     "iopub.execute_input": "2023-08-13T08:32:35.532320Z",
     "iopub.status.busy": "2023-08-13T08:32:35.531902Z",
     "iopub.status.idle": "2023-08-13T08:32:35.549957Z",
     "shell.execute_reply": "2023-08-13T08:32:35.548703Z"
    },
    "papermill": {
     "duration": 0.132054,
     "end_time": "2023-08-13T08:32:35.552643",
     "exception": false,
     "start_time": "2023-08-13T08:32:35.420589",
     "status": "completed"
    },
    "tags": []
   },
   "outputs": [],
   "source": [
    "def preprocessor(imputer_type='simple'):\n",
    "    \n",
    "    \"\"\"Preprocess train or test data. Choose 'simple' or 'knn' imputers to impute missing numerical values\"\"\"\n",
    "    \n",
    "    # Set imputer  \n",
    "    if imputer_type == 'simple':\n",
    "        imputer = SimpleImputer(strategy='median')\n",
    "        print(imputer)\n",
    "    elif imputer_type == 'knn':\n",
    "        imputer = KNNImputer(weights='distance', n_neighbors=3)    # Adjust KNNImputer params here\n",
    "        print(imputer)\n",
    "\n",
    "\n",
    "    \n",
    "    # Merge and preprocess train and movies data  \n",
    "    merged = select_features(load_csv(\"train\"), load_csv(\"movies\"), row_thresh_null=None)    # Decide if you want to drop any rows containing lot of nulls\n",
    "    \n",
    "    # Impute missing numerical values  \n",
    "    merged[['audienceScore', 'runtimeMinutes', 'boxOffice']] = imputer.fit_transform(merged[['audienceScore', 'runtimeMinutes', 'boxOffice']])\n",
    "    merged['releaseDate'] = merged[\"releaseDate\"].fillna(merged[\"releaseDate\"].median())\n",
    "\n",
    "    # Create new feature columns\n",
    "    \n",
    "    # Convert audienceScore to categories  \n",
    "    num_bins_as = 20\n",
    "    merged[\"audScoreBins\"] = pd.cut(merged['audienceScore'], bins=num_bins_as, labels=False)\n",
    "\n",
    "    # Convert runtimeMinutes to categories  \n",
    "#     num_bins_rt = 20\n",
    "    merged[\"runtimeBins\"] = pd.cut(merged['runtimeMinutes'], bins=[0,75,120,180,565], labels=[4,3,2,1])\n",
    "    \n",
    "    # Convert boxOffice to categories  \n",
    "    num_bins_bo = 5\n",
    "    merged[\"boxOfficeBins\"] = pd.cut(merged['boxOffice'], bins=num_bins_bo, labels=False)\n",
    "    \n",
    "    # Convert releaseDiff to categories  \n",
    "    num_bins_rd = 5\n",
    "    merged[\"releaseDiffBins\"] = pd.cut(merged['releaseDiff'], bins=[-1, 180, 360, 1000, 40000], labels=[0, 1, 2, 3])\n",
    "    \n",
    "    # Check1 (preprocessor)\n",
    "    print(\"\\nCheck 1 (preprocessor) complete.\")\n",
    "    print(f\"Shape of X_train: {merged.shape}\")\n",
    "    print(f\"Features in X_train: {merged.columns}\")\n",
    "\n",
    "\n",
    "    \n",
    "    # Merge and preprocess test and movies data  \n",
    "    merged_test = select_features(load_csv(\"test\"), load_csv(\"movies\"))\n",
    "    \n",
    "    # Transform ['audienceScore', 'runtimeMinutes', 'boxOffice'] columns in merged_test using 'imputer' fitted on 'merged' df  \n",
    "    merged_test[['audienceScore', 'runtimeMinutes', 'boxOffice']] = imputer.transform(merged_test[['audienceScore', 'runtimeMinutes', 'boxOffice']])\n",
    "    \n",
    "    # Fill 'releaseDate' column in 'merged_test' df with median from the train (merged) df  \n",
    "    merged_test['releaseDate'] = merged_test[\"releaseDate\"].fillna(merged[\"releaseDate\"].median())\n",
    "\n",
    "    \n",
    "    # Create new feature columns\n",
    "    \n",
    "    # Convert audienceScore to categories  \n",
    "    num_bins_as = 20\n",
    "    merged_test[\"audScoreBins\"] = pd.cut(merged_test['audienceScore'], bins=num_bins_as, labels=False)\n",
    "    \n",
    "    # Convert runtimeMinutes to categories  \n",
    "#     num_bins_rt = 20\n",
    "    merged_test[\"runtimeBins\"] = pd.cut(merged_test['runtimeMinutes'], bins=[0,75,120,180,565], labels=[4,3,2,1])\n",
    "    \n",
    "    # Convert boxOffice to categories  \n",
    "    num_bins_bo = 5\n",
    "    merged_test[\"boxOfficeBins\"] = pd.cut(merged_test['boxOffice'], bins=num_bins_bo, labels=False)\n",
    "    \n",
    "    # Convert releaseDiff to categories  \n",
    "    num_bins_rd = 5\n",
    "    merged_test[\"releaseDiffBins\"] = pd.cut(merged_test['releaseDiff'], bins=[-1, 180, 360, 1000, 40000], labels=[0, 1, 2, 3])\n",
    "    \n",
    "    \n",
    "    # Check2 (preprocessor)\n",
    "    print(\"\\nCheck 2 (preprocessor) complete.\")\n",
    "    print(f\"Shape of X_test: {merged_test.shape}\")\n",
    "    print(f\"Features in X_test: {merged_test.columns}\")\n",
    "\n",
    "    return merged, merged_test\n",
    "    "
   ]
  },
  {
   "cell_type": "code",
   "execution_count": 123,
   "id": "ac591295",
   "metadata": {
    "execution": {
     "iopub.execute_input": "2023-08-13T08:32:35.777503Z",
     "iopub.status.busy": "2023-08-13T08:32:35.777048Z",
     "iopub.status.idle": "2023-08-13T08:32:35.782074Z",
     "shell.execute_reply": "2023-08-13T08:32:35.780953Z"
    },
    "papermill": {
     "duration": 0.121472,
     "end_time": "2023-08-13T08:32:35.784326",
     "exception": false,
     "start_time": "2023-08-13T08:32:35.662854",
     "status": "completed"
    },
    "tags": []
   },
   "outputs": [],
   "source": [
    "# merged, merged_test = preprocessor()\n",
    "# merged.shape, merged_test.shape"
   ]
  },
  {
   "cell_type": "code",
   "execution_count": 124,
   "id": "569ecb25",
   "metadata": {
    "execution": {
     "iopub.execute_input": "2023-08-13T08:32:36.026871Z",
     "iopub.status.busy": "2023-08-13T08:32:36.026064Z",
     "iopub.status.idle": "2023-08-13T08:32:36.060319Z",
     "shell.execute_reply": "2023-08-13T08:32:36.058809Z"
    },
    "papermill": {
     "duration": 0.157194,
     "end_time": "2023-08-13T08:32:36.062924",
     "exception": false,
     "start_time": "2023-08-13T08:32:35.905730",
     "status": "completed"
    },
    "tags": []
   },
   "outputs": [],
   "source": [
    "def submit_v5(classifiers= [\n",
    "                {'selected_model' : LogisticRegression(C=1, solver='saga', max_iter=100000),\n",
    "                 'param_grid' : None,\n",
    "                 'selected_features' : {'num': ['audienceScore']},\n",
    "                 'vocab' : None,\n",
    "                 'vocab_usage' : 'tfidf',\n",
    "                 'strip_accents' : 'unicode',\n",
    "                 'add_countvec' : False,\n",
    "                'vocab_audscore' : None}\n",
    "              ], \n",
    "            imputer_type='simple',\n",
    "              poly=True,\n",
    "            ):\n",
    "    \n",
    "    \"\"\"Takes a list of dictionaries each with same keys as mentioned in the default dictionary in function definition\"\"\"\n",
    "    \n",
    "    print(\"\\nRunning the submit_v5 function...\")\n",
    "    \n",
    "    print(f\"\\nData preprocessor initiated...\")\n",
    "    \n",
    "    imputer_type = imputer_type\n",
    "    print(f\"\\nImputer for missing numerical values: {imputer_type}\")\n",
    "    print(f\"Imputing missing values. (This could take a while if it is KNNImputer)\")\n",
    "    \n",
    "    merged, merged_test = preprocessor(imputer_type=imputer_type)\n",
    "    print(f\"\\nPreprocessing of train and test datasets complete.\")\n",
    "    \n",
    "    # Build vocabulary (if vocab is True)\n",
    "    ngram_range_vocab = (1,4)\n",
    "    ngram_range_vocab_list = [(1,1), (2,2), (3,3), (4,4)]\n",
    "    \n",
    "    vocab = None\n",
    "    vocab_audscore = None\n",
    "    for item in classifiers:\n",
    "        if item['vocab']:\n",
    "            vocab = True\n",
    "        if item['vocab_audscore']:\n",
    "            vocab_audscore = item['vocab_audscore']\n",
    "    \n",
    "    if vocab == True:\n",
    "        # Generate and store the entire vocabulary of training data  \n",
    "        print(f\"\\nGenerating vocabulary of entire training data...\")\n",
    "        train_ngrams = get_vocab(merged['reviewText'], ngram_range=ngram_range_vocab)\n",
    "        print(f\"Size of vocabulary of training data: {len(train_ngrams)}\")\n",
    "        # sorted(train_ngrams)\n",
    "\n",
    "        # Generate common vocabulary specific for this project data  \n",
    "        print(f\"\\nGenerating common vocabulary specific for this project data...\")\n",
    "        common_ngrams = get_common_vocab([merged, merged_test], ngram_range_list=ngram_range_vocab_list)\n",
    "        print(f\"Size of common vocabulary: {len(common_ngrams)}\")\n",
    "\n",
    "        # Get the speficic stop words that should be used in the final models  \n",
    "        print(f\"\\nGetting specific stop words for this project...\")\n",
    "        stop_words_specific = list(train_ngrams - common_ngrams)\n",
    "        print(f\"Size of 'stop_words_specific' generated: {len(stop_words_specific)}\")\n",
    "    else:\n",
    "        pass\n",
    "    \n",
    "    if vocab_audscore:\n",
    "        pure_common_pos, pure_common_neg = audienceScore_vocab([merged, merged_test], \n",
    "                                                               scores=(57, 73), \n",
    "                                                               ngram_range_list=ngram_range_vocab_list)\n",
    "        pure_common = pure_common_pos | pure_common_neg\n",
    "        print(f\"\\nSize of 'pure_common' vocabulary genrated: {len(pure_common)}\")\n",
    "    \n",
    "    \n",
    "    # Create a list to store estimators  \n",
    "    estimators = []     # List of tuples of the form ('classifier_name', 'classifer_instance')\n",
    "    \n",
    "    # Build a dataframe of predictions  \n",
    "    predictions_df = pd.DataFrame()\n",
    "    \n",
    "    # Build a separate pipeline and fit it on selected features (and param_grid) for each item in classifiers list\n",
    "    for n, item in enumerate(classifiers, start=1):\n",
    "        selected_model = item['selected_model']\n",
    "        selected_features = item['selected_features']\n",
    "        param_grid = item['param_grid']\n",
    "        vocab = item['vocab']\n",
    "        vocab_usage = item['vocab_usage']\n",
    "        strip_accents = item['strip_accents']\n",
    "        add_countvec = item['add_countvec']\n",
    "    \n",
    "    \n",
    "        # Fine tune selected_features\n",
    "        if add_countvec:\n",
    "            if 'txt' in selected_features.keys():\n",
    "                if \"reviewText_2\" not in selected_features['txt']:\n",
    "                    selected_features['txt'].append('reviewText_2')\n",
    "        if vocab:\n",
    "            if 'txt' in selected_features.keys():\n",
    "                if \"reviewText_3\" not in selected_features['txt']:\n",
    "                    selected_features['txt'].append('reviewText_3')\n",
    "        else:\n",
    "            print(f\"No vocabulary provided/used for this model.\")\n",
    "            \n",
    "        print(f\"\\nSelected features: {selected_features}\")\n",
    "        \n",
    "        if type(vocab) in [type([1, 2]), type({1, 2})]:\n",
    "            vocab = vocab\n",
    "            print(f\"Size of 'vocab' provided: {len(vocab)}\")\n",
    "        elif vocab == True:\n",
    "            vocab = common_ngrams    # Choose vocabulary here\n",
    "            print(f\"Size of 'vocab' generated by submit_v5: {len(vocab)}\")\n",
    "\n",
    "            \n",
    "        if vocab_audscore:\n",
    "            if 'txt' in selected_features.keys():\n",
    "                if \"reviewText_4\" not in selected_features['txt']:\n",
    "                    selected_features['txt'].append('reviewText_4')\n",
    "        else:\n",
    "            print(f\"No vocabulary based on audienceScore provided/used for this model.\")\n",
    "            \n",
    "            \n",
    "        print(f\"\\nSelected features: {selected_features}\")\n",
    "\n",
    "        # Modify X_train for the given 'item' by creating a custom 'features' list\n",
    "        features = []\n",
    "        for item in selected_features.values():\n",
    "            features.extend(item)\n",
    "            \n",
    "        # Add new columns as needed  \n",
    "        if add_countvec:\n",
    "            merged['reviewText_2'] = merged['reviewText']\n",
    "        if vocab:\n",
    "            merged['reviewText_3'] = merged['reviewText']\n",
    "        if vocab_audscore:\n",
    "            merged['reviewText_4'] = merged['reviewText']\n",
    "        \n",
    "        # Create X_tran, y_train\n",
    "        X_train = merged.drop(labels=\"sentiment\", axis=1)\n",
    "        y_train = merged[\"sentiment\"]\n",
    "        \n",
    "        X_train = merged[features].copy()\n",
    "\n",
    "\n",
    "        # Build Pipeline\n",
    "        pipe = build_pipeline(selected_model, selected_features, param_grid=param_grid, \n",
    "                              vocab=vocab, vocab_usage='tfidf', \n",
    "                              strip_accents=strip_accents, add_countvec=add_countvec,\n",
    "                             poly=poly, vocab_audscore=pure_common)\n",
    "        print(pipe)\n",
    "\n",
    "        \n",
    "        # Fit \n",
    "        print(f\"\\nTraining started with full pipeline for classifier #{n}/{len(classifiers)}...\")\n",
    "        pipe.fit(X_train, y_train)\n",
    "        \n",
    "\n",
    "        # Check1\n",
    "        print(f\"\\nCheck #{n}.1 complete.\")\n",
    "        print(f\"Details of the best model using classifier #{n} (GridSearchCV) on X_train: \")\n",
    "        print(f\"Best Params: {pipe.best_params_}\")\n",
    "        print(f\"Best Score: {pipe.best_score_}\")\n",
    "        \n",
    "        print(predict_on_missing_review_data(pipe, features, merged))    # Function defined above\n",
    "        \n",
    "        estimators.append((f\"classifier_{n}\", pipe))\n",
    "        print(f\"classifier_{n} successfully added to 'estimators' list\")\n",
    "\n",
    "        \n",
    "        # Predict on train data \n",
    "        y_train_pred = pipe.predict(X_train)\n",
    "        print(f\"Confusion matrix for predictions on training data: \")\n",
    "        print(confusion_matrix(y_train, y_train_pred))\n",
    "        f1_train = f1_score(y_train, y_train_pred, average=\"micro\")\n",
    "        print(f\"F1-score on training data: {f1_train}\")\n",
    "        \n",
    "        \n",
    "        # Predict on test.csv file\n",
    "        # Add new columns as needed \n",
    "        if add_countvec:\n",
    "            merged_test['reviewText_2'] = merged_test['reviewText']\n",
    "        if vocab:\n",
    "            merged_test['reviewText_3'] = merged_test['reviewText']\n",
    "        if vocab_audscore:\n",
    "            merged_test['reviewText_4'] = merged_test['reviewText']\n",
    "        \n",
    "               \n",
    "        X_test = merged_test[features].copy()\n",
    "\n",
    "    \n",
    "        y_pred = pipe.predict(X_test)\n",
    "        \n",
    "        # Insert predictions in 'predictions_df' dataframe\n",
    "        predictions_df.insert(n-1, f\"pred_{n}\", y_pred, allow_duplicates=False)\n",
    "        print(predictions_df.shape)\n",
    "        print(predictions_df.head(10))\n",
    "        \n",
    "    \n",
    "        # Check2\n",
    "        print(f\"\\nCheck #{n}.2 complete.\")\n",
    "    #     cv_results_df = pd.DataFrame(pipe.cv_results_)\n",
    "        print(\"Details of the best model using full pipeline (GridSearchCV) on X_train: \")\n",
    "#         print(f\"Best Estimator: {pipe.best_estimator_}\")\n",
    "        print(f\"Best Params: {pipe.best_params_}\")\n",
    "        print(f\"Best Score: {pipe.best_score_}\")\n",
    "#         print(f\"Best Index: {pipe.best_index_}\")\n",
    "        print(f\"Refit Time: {pipe.refit_time_}\")\n",
    "    #     print(f\"Shape of CV results dataframe: {cv_results_df.shape}\")\n",
    "    \n",
    "    # Voting classifier (custom) with hard voting\n",
    "    # Calculate the MODE for all predictions (Note that the 'predictions_df' generated above should have odd number of columns)\n",
    "    pred_df_final = predictions_df.mode('columns')\n",
    "    pred_df_final.columns = [\"sentiment\"]\n",
    "    pred_df_final.index.name = \"id\"\n",
    "    pred_df_final.to_csv(\"submission.csv\")\n",
    "    \n",
    "    print(\"\\nSuccessfully created the submission file!!!\")\n",
    "    \n",
    "#     return pipe.cv_results_\n",
    "    return pred_df_final, estimators"
   ]
  },
  {
   "cell_type": "markdown",
   "id": "c354049c",
   "metadata": {
    "papermill": {
     "duration": 0.110521,
     "end_time": "2023-08-13T08:32:36.285881",
     "exception": false,
     "start_time": "2023-08-13T08:32:36.175360",
     "status": "completed"
    },
    "tags": []
   },
   "source": [
    "# Use 'submit_v5' function  "
   ]
  },
  {
   "cell_type": "code",
   "execution_count": 125,
   "id": "73a64f9e",
   "metadata": {
    "execution": {
     "iopub.execute_input": "2023-08-13T08:32:36.505856Z",
     "iopub.status.busy": "2023-08-13T08:32:36.505417Z",
     "iopub.status.idle": "2023-08-13T08:32:36.510170Z",
     "shell.execute_reply": "2023-08-13T08:32:36.508621Z"
    },
    "papermill": {
     "duration": 0.118152,
     "end_time": "2023-08-13T08:32:36.512760",
     "exception": false,
     "start_time": "2023-08-13T08:32:36.394608",
     "status": "completed"
    },
    "tags": []
   },
   "outputs": [],
   "source": [
    "# Try submit_v5 with default settings\n",
    "# submit_v5()"
   ]
  },
  {
   "cell_type": "code",
   "execution_count": 126,
   "id": "e284d6fe",
   "metadata": {
    "execution": {
     "iopub.execute_input": "2023-08-13T08:32:36.805952Z",
     "iopub.status.busy": "2023-08-13T08:32:36.804684Z",
     "iopub.status.idle": "2023-08-13T09:35:47.106062Z",
     "shell.execute_reply": "2023-08-13T09:35:47.104762Z"
    },
    "papermill": {
     "duration": 3790.483837,
     "end_time": "2023-08-13T09:35:47.108643",
     "exception": false,
     "start_time": "2023-08-13T08:32:36.624806",
     "status": "completed"
    },
    "tags": []
   },
   "outputs": [
    {
     "name": "stdout",
     "output_type": "stream",
     "text": [
      "\n",
      "Running the submit_v5 function...\n",
      "\n",
      "Data preprocessor initiated...\n",
      "\n",
      "Imputer for missing numerical values: knn\n",
      "Imputing missing values. (This could take a while if it is KNNImputer)\n",
      "KNNImputer(n_neighbors=3, weights='distance')\n",
      "\n",
      "Check 1 (preprocessor) complete.\n",
      "Shape of X_train: (162758, 30)\n",
      "Features in X_train: Index(['movieid', 'reviewerName', 'isFrequentReviewer', 'reviewText',\n",
      "       'sentiment', 'title', 'audienceScore', 'rating', 'ratingContents',\n",
      "       'releaseDateTheaters', 'releaseDateStreaming', 'runtimeMinutes',\n",
      "       'genre', 'originalLanguage', 'director', 'boxOffice', 'distributor',\n",
      "       'soundType', 'reviewYN', 'reviewWC', 'genreSorted', 'rcSorted',\n",
      "       'releaseDate', 'releaseYear', 'releaseMonth', 'releaseDiff',\n",
      "       'audScoreBins', 'runtimeBins', 'boxOfficeBins', 'releaseDiffBins'],\n",
      "      dtype='object')\n",
      "\n",
      "Check 2 (preprocessor) complete.\n",
      "Shape of X_test: (55315, 29)\n",
      "Features in X_test: Index(['movieid', 'reviewerName', 'isFrequentReviewer', 'reviewText', 'title',\n",
      "       'audienceScore', 'rating', 'ratingContents', 'releaseDateTheaters',\n",
      "       'releaseDateStreaming', 'runtimeMinutes', 'genre', 'originalLanguage',\n",
      "       'director', 'boxOffice', 'distributor', 'soundType', 'reviewYN',\n",
      "       'reviewWC', 'genreSorted', 'rcSorted', 'releaseDate', 'releaseYear',\n",
      "       'releaseMonth', 'releaseDiff', 'audScoreBins', 'runtimeBins',\n",
      "       'boxOfficeBins', 'releaseDiffBins'],\n",
      "      dtype='object')\n",
      "\n",
      "Preprocessing of train and test datasets complete.\n",
      "\n",
      "Generating vocabulary of entire training data...\n",
      "Size of vocabulary of training data: 3916361\n",
      "\n",
      "Generating common vocabulary specific for this project data...\n",
      "Common vocabulary for ngram-range (1, 1): 35498\n",
      "\n",
      "Common vocabulary for ngram-range (2, 2): 112530\n",
      "\n",
      "Common vocabulary for ngram-range (3, 3): 22631\n",
      "\n",
      "Common vocabulary for ngram-range (4, 4): 7336\n",
      "\n",
      "Size of the common vocabulary generated is: 177995\n",
      "Size of common vocabulary: 177995\n",
      "\n",
      "Getting specific stop words for this project...\n",
      "Size of 'stop_words_specific' generated: 3738366\n",
      "Common vocabulary for ngram-range (1, 1): 35498\n",
      "\n",
      "Common vocabulary for ngram-range (2, 2): 112530\n",
      "\n",
      "Common vocabulary for ngram-range (3, 3): 22631\n",
      "\n",
      "Common vocabulary for ngram-range (4, 4): 7336\n",
      "\n",
      "Size of the common vocabulary generated is: 177995\n",
      "Common vocabulary for ngram-range (1, 1): 39254\n",
      "\n",
      "Common vocabulary for ngram-range (2, 2): 418168\n",
      "\n",
      "Common vocabulary for ngram-range (3, 3): 478650\n",
      "\n",
      "Common vocabulary for ngram-range (4, 4): 438241\n",
      "\n",
      "Size of the common vocabulary generated is: 1374313\n",
      "Common vocabulary for ngram-range (1, 1): 29530\n",
      "\n",
      "Common vocabulary for ngram-range (2, 2): 208463\n",
      "\n",
      "Common vocabulary for ngram-range (3, 3): 223076\n",
      "\n",
      "Common vocabulary for ngram-range (4, 4): 201038\n",
      "\n",
      "Size of the common vocabulary generated is: 662107\n",
      "\n",
      "Size of 'pure_common' vocabulary genrated: 88482\n",
      "\n",
      "Selected features: {'cat': ['isFrequentReviewer', 'audScoreBins', 'boxOfficeBins'], 'num': ['releaseDiff'], 'txt': ['reviewText', 'reviewerName', 'movieid', 'genre', 'director', 'ratingContents', 'distributor', 'reviewText_2', 'reviewText_3']}\n",
      "Size of 'vocab' generated by submit_v5: 177995\n",
      "\n",
      "Selected features: {'cat': ['isFrequentReviewer', 'audScoreBins', 'boxOfficeBins'], 'num': ['releaseDiff'], 'txt': ['reviewText', 'reviewerName', 'movieid', 'genre', 'director', 'ratingContents', 'distributor', 'reviewText_2', 'reviewText_3', 'reviewText_4']}\n",
      "\n",
      "Pipeline built successfully.\n",
      "\n",
      "Full GridSearchCV pipeline built successfully.\n",
      "GridSearchCV(cv=10,\n",
      "             estimator=Pipeline(steps=[('ct',\n",
      "                                        ColumnTransformer(transformers=[('cat',\n",
      "                                                                         OneHotEncoder(handle_unknown='ignore',\n",
      "                                                                                       sparse_output=False),\n",
      "                                                                         ['isFrequentReviewer',\n",
      "                                                                          'audScoreBins',\n",
      "                                                                          'boxOfficeBins']),\n",
      "                                                                        ('num',\n",
      "                                                                         Pipeline(steps=[('robscaler',\n",
      "                                                                                          RobustScaler()),\n",
      "                                                                                         ('stdscaler',\n",
      "                                                                                          StandardScaler()),\n",
      "                                                                                         ('poly',\n",
      "                                                                                          PolynomialFeatures(include_bias=False,\n",
      "                                                                                                             interaction_only=...\n",
      "                                                                                                                      'abbie',\n",
      "                                                                                                                      'abbott '\n",
      "                                                                                                                      'costello '\n",
      "                                                                                                                      'meet',\n",
      "                                                                                                                      'abbott '\n",
      "                                                                                                                      'costello '\n",
      "                                                                                                                      'meet '\n",
      "                                                                                                                      'frankenstein',\n",
      "                                                                                                                      'abc '\n",
      "                                                                                                                      'africa',\n",
      "                                                                                                                      'abc '\n",
      "                                                                                                                      'afterschool',\n",
      "                                                                                                                      'abdomen',\n",
      "                                                                                                                      'abdul '\n",
      "                                                                                                                      'mateen',\n",
      "                                                                                                                      'abdul '\n",
      "                                                                                                                      'mateen '\n",
      "                                                                                                                      'ii', ...}))]),\n",
      "                                                                         'reviewText_4')])),\n",
      "                                       ('model',\n",
      "                                        SGDClassifier(loss='modified_huber',\n",
      "                                                      max_iter=1000000,\n",
      "                                                      n_iter_no_change=1000,\n",
      "                                                      n_jobs=-1,\n",
      "                                                      tol=0.0001))]),\n",
      "             n_jobs=-1, param_grid={'model__alpha': [0.0001]},\n",
      "             scoring='f1_micro')\n",
      "\n",
      "Training started with full pipeline for classifier #1/1...\n",
      "\n",
      "Check #1.1 complete.\n",
      "Details of the best model using classifier #1 (GridSearchCV) on X_train: \n",
      "Best Params: {'model__alpha': 0.0001}\n",
      "Best Score: 0.8432949591890125\n",
      "Confusion matrix and f1-score for rows which have no reviewText in X_train: \n",
      "[[1736  669]\n",
      " [ 248 3794]]\n",
      "0.8577633007600435\n",
      "classifier_1 successfully added to 'estimators' list\n",
      "Confusion matrix for predictions on training data: \n",
      "[[ 53307    690]\n",
      " [   256 108505]]\n",
      "F1-score on training data: 0.9941876896988167\n",
      "(55315, 1)\n",
      "     pred_1\n",
      "0  POSITIVE\n",
      "1  POSITIVE\n",
      "2  POSITIVE\n",
      "3  POSITIVE\n",
      "4  POSITIVE\n",
      "5  POSITIVE\n",
      "6  POSITIVE\n",
      "7  POSITIVE\n",
      "8  NEGATIVE\n",
      "9  NEGATIVE\n",
      "\n",
      "Check #1.2 complete.\n",
      "Details of the best model using full pipeline (GridSearchCV) on X_train: \n",
      "Best Params: {'model__alpha': 0.0001}\n",
      "Best Score: 0.8432949591890125\n",
      "Refit Time: 638.83598279953\n",
      "\n",
      "Successfully created the submission file!!!\n"
     ]
    }
   ],
   "source": [
    "# Testing ONE classfier using submit_v5 function  \n",
    "\n",
    "# Feature dictionaries\n",
    "sfs = {'cat': ['isFrequentReviewer', 'rating'],\n",
    "       'num': [\"audienceScore\", \"runtimeMinutes\", \"boxOffice\", 'releaseDiff']}\n",
    "\n",
    "sf_best = {'cat': ['isFrequentReviewer'],\n",
    "            'num': [\"audienceScore\", \"boxOffice\", 'releaseDiff'],\n",
    "            'txt': ['reviewText', 'reviewerName', 'movieid', 'genre', 'director', \n",
    "                         'ratingContents', 'distributor']}\n",
    "\n",
    "alt_text = {'txt': ['reviewerName', 'movieid', 'genre', 'director', \n",
    "                         'ratingContents', 'distributor']}\n",
    "\n",
    "v88_dict = {'cat': ['isFrequentReviewer', 'audScoreBins', 'boxOfficeBins'],\n",
    "            'num': ['releaseDiff'],\n",
    "            'txt': ['reviewText', 'reviewerName', 'movieid', 'genre', 'director', \n",
    "                         'ratingContents', 'distributor']}\n",
    "\n",
    "# SGDClassifier hyperparameters  \n",
    "# \"model__loss\": ['hinge', 'log_loss', 'modified_huber', \n",
    "#                                                   'squared_hinge', 'perceptron', \n",
    "#                                                   'squared_error', 'huber', \n",
    "#                                                   'epsilon_insensitive', 'squared_epsilon_insensitive']\n",
    "\n",
    "# 'param_grid' : {\"model__alpha\": [0.0001], \n",
    "#                   'model__tol': [0.0001],\n",
    "#                   \"model__penalty\": [\"l2\"],\n",
    "#                   \"model__n_iter_no_change\": [100],\n",
    "#                  }\n",
    "\n",
    "# Best models \n",
    "# For sf_best features\n",
    "#                 {'selected_model' : SGDClassifier(loss='hinge', \n",
    "#                                      max_iter=1000000,\n",
    "#                                      alpha = 0.0001,\n",
    "#                                      tol = 0.0001,\n",
    "#                                      penalty = \"l2\",\n",
    "#                                      n_iter_no_change = 100,\n",
    "#                                      n_jobs = -1), \n",
    "#                   'selected_features' : sf_best, \n",
    "#                   'param_grid' : {\"model__alpha\": [ 0.0001]},\n",
    "#                   'vocab' : True,\n",
    "#                   'vocab_usage' : 'tfidf',\n",
    "#                   'strip_accents' : 'unicode', \n",
    "#                   'add_countvec' : True},\n",
    "\n",
    "# For sfs features\n",
    "#                 {'selected_model' : RandomForestClassifier(n_jobs = -1), \n",
    "#                   'selected_features' : sfs, \n",
    "#                   'param_grid': {'model__n_estimators': [100]},\n",
    "#                   'vocab' : None,\n",
    "#                   'vocab_usage' : 'tfidf',\n",
    "#                   'strip_accents' : 'unicode', \n",
    "#                   'add_countvec' : False}\n",
    "\n",
    "# Best SGD classifer (with params)  \n",
    "sgdc = SGDClassifier(loss='modified_huber', \n",
    "                     max_iter=1000000,\n",
    "                     alpha = 0.0001,\n",
    "                     tol = 0.0001,\n",
    "                     penalty = \"l2\",\n",
    "                     n_iter_no_change = 1000,\n",
    "                     n_jobs = -1)\n",
    "\n",
    "# Classifiers\n",
    "classifiers= [   \n",
    "                {'selected_model' : sgdc, \n",
    "                  'selected_features' : v88_dict, \n",
    "                  'param_grid' : {\"model__alpha\": [0.0001]},\n",
    "                  'vocab' : True,\n",
    "                  'vocab_usage' : 'tfidf',\n",
    "                  'strip_accents' : 'unicode', \n",
    "                  'add_countvec' : True,\n",
    "                    'vocab_audscore' : True},\n",
    "            ]\n",
    "\n",
    "# classifiers= [\n",
    "#                 {'selected_model' : LogisticRegression(C=1, solver='saga', max_iter=100000), \n",
    "#                   'selected_features' : {'txt': [\"reviewText\"]}, \n",
    "#                   'param_grid' : {\"model__C\": [1], \n",
    "#                                   'model__solver': ['saga']},\n",
    "#                   'vocab' : None,\n",
    "#                   'vocab_usage' : 'tfidf',\n",
    "#                   'strip_accents' : 'unicode', \n",
    "#                   'add_countvec' : False},\n",
    "#             ]\n",
    "\n",
    "pred_df, estimators = submit_v5(classifiers=classifiers, imputer_type='knn', poly=True)"
   ]
  },
  {
   "cell_type": "code",
   "execution_count": 127,
   "id": "6105831e",
   "metadata": {
    "execution": {
     "iopub.execute_input": "2023-08-13T09:35:47.334196Z",
     "iopub.status.busy": "2023-08-13T09:35:47.333759Z",
     "iopub.status.idle": "2023-08-13T09:35:47.341775Z",
     "shell.execute_reply": "2023-08-13T09:35:47.340361Z"
    },
    "papermill": {
     "duration": 0.125458,
     "end_time": "2023-08-13T09:35:47.345257",
     "exception": false,
     "start_time": "2023-08-13T09:35:47.219799",
     "status": "completed"
    },
    "tags": []
   },
   "outputs": [
    {
     "name": "stdout",
     "output_type": "stream",
     "text": [
      "(55315, 1)\n",
      "   sentiment\n",
      "id          \n",
      "0   POSITIVE\n",
      "1   POSITIVE\n",
      "2   POSITIVE\n",
      "3   POSITIVE\n",
      "4   POSITIVE\n"
     ]
    }
   ],
   "source": [
    "print(pred_df.shape)\n",
    "print(pred_df.head())"
   ]
  },
  {
   "cell_type": "code",
   "execution_count": 128,
   "id": "425d04e5",
   "metadata": {
    "execution": {
     "iopub.execute_input": "2023-08-13T09:35:47.569924Z",
     "iopub.status.busy": "2023-08-13T09:35:47.569158Z",
     "iopub.status.idle": "2023-08-13T09:35:47.574117Z",
     "shell.execute_reply": "2023-08-13T09:35:47.573248Z"
    },
    "papermill": {
     "duration": 0.120023,
     "end_time": "2023-08-13T09:35:47.576371",
     "exception": false,
     "start_time": "2023-08-13T09:35:47.456348",
     "status": "completed"
    },
    "tags": []
   },
   "outputs": [],
   "source": [
    "# estimators"
   ]
  },
  {
   "cell_type": "code",
   "execution_count": 129,
   "id": "0ec8cbe6",
   "metadata": {
    "execution": {
     "iopub.execute_input": "2023-08-13T09:35:47.803836Z",
     "iopub.status.busy": "2023-08-13T09:35:47.803375Z",
     "iopub.status.idle": "2023-08-13T09:35:47.810936Z",
     "shell.execute_reply": "2023-08-13T09:35:47.810059Z"
    },
    "papermill": {
     "duration": 0.125735,
     "end_time": "2023-08-13T09:35:47.813247",
     "exception": false,
     "start_time": "2023-08-13T09:35:47.687512",
     "status": "completed"
    },
    "tags": []
   },
   "outputs": [
    {
     "name": "stdout",
     "output_type": "stream",
     "text": [
      "Number of estimators: 1\n",
      "\n",
      "Estimator: classifier_1\n",
      "{'model__alpha': 0.0001}\n",
      "0.8432949591890125\n",
      "638.83598279953\n",
      "\n"
     ]
    }
   ],
   "source": [
    "print(f\"Number of estimators: {len(estimators)}\\n\")\n",
    "for est in estimators:\n",
    "    print(f\"Estimator: {est[0]}\")\n",
    "#     print(est[1].best_estimator_)\n",
    "    print(est[1].best_params_)\n",
    "    print(est[1].best_score_)\n",
    "    print(est[1].refit_time_)\n",
    "    print()"
   ]
  },
  {
   "cell_type": "code",
   "execution_count": 130,
   "id": "09f7b9d0",
   "metadata": {
    "execution": {
     "iopub.execute_input": "2023-08-13T09:35:48.041710Z",
     "iopub.status.busy": "2023-08-13T09:35:48.040526Z",
     "iopub.status.idle": "2023-08-13T09:35:48.047372Z",
     "shell.execute_reply": "2023-08-13T09:35:48.046375Z"
    },
    "papermill": {
     "duration": 0.123145,
     "end_time": "2023-08-13T09:35:48.049469",
     "exception": false,
     "start_time": "2023-08-13T09:35:47.926324",
     "status": "completed"
    },
    "tags": []
   },
   "outputs": [],
   "source": [
    "# Testing full capabilites of submit_v5  \n",
    "\n",
    "# # Feature dictionaries\n",
    "# sf1 = {'cat': ['isFrequentReviewer', 'rating'],\n",
    "#        'num': [\"audienceScore\", \"runtimeMinutes\", \"boxOffice\"]}\n",
    "\n",
    "# sf2 = {'cat': ['isFrequentReviewer', 'rating'],\n",
    "#        'num': [\"audienceScore\", \"runtimeMinutes\", \"boxOffice\"]}\n",
    "\n",
    "# sf3 = {'cat': ['isFrequentReviewer'],\n",
    "#         'num': ['releaseDiff', 'audienceScore', 'boxOffice'],\n",
    "#         'txt': ['reviewText', 'reviewerName', 'movieid', 'genre', 'director', \n",
    "#                          'ratingContents', 'distributor']}\n",
    "\n",
    "# # Individual classifiers\n",
    "# clf1 =  {'selected_model' : AdaBoostClassifier(), \n",
    "#           'selected_features' : sf1, \n",
    "#           'param_grid' : {\"model__n_estimators\": [50]},\n",
    "#           'vocab' : None,\n",
    "#           'vocab_usage' : 'tfidf',\n",
    "#           'strip_accents' : 'unicode', \n",
    "#           'add_countvec' : False}\n",
    "\n",
    "# clf2 =  {'selected_model' : RandomForestClassifier(), \n",
    "#           'selected_features' : sf2,\n",
    "#           'param_grid' : {\"model__n_estimators\": [50], \n",
    "#                           'model__criterion': ['gini']},\n",
    "#           'vocab' : None,\n",
    "#           'vocab_usage' : 'tfidf',\n",
    "#           'strip_accents' : 'unicode', \n",
    "#           'add_countvec' : False}\n",
    "\n",
    "# clf3 =  {'selected_model' : LogisticRegression(C=1, solver='saga', max_iter=100000), \n",
    "#           'selected_features' : sf3, \n",
    "#           'param_grid' : {'model__C' : [1],\n",
    "#                             'model__solver': ['saga'],\n",
    "#                             \"model__fit_intercept\" : [True],\n",
    "#                             \"model__dual\" : [False]},\n",
    "#           'vocab' : None,\n",
    "#           'vocab_usage' : 'tfidf',\n",
    "#           'strip_accents' : 'unicode', \n",
    "#           'add_countvec' : True}\n",
    "\n",
    "\n",
    "# # List of classifiers for voting\n",
    "# classifiers= [clf1, clf2, clf3]\n",
    "\n",
    "# # Final predictions \n",
    "# pred_df = submit_v5(classifiers=classifiers)"
   ]
  },
  {
   "cell_type": "code",
   "execution_count": 131,
   "id": "3ebc33d6",
   "metadata": {
    "execution": {
     "iopub.execute_input": "2023-08-13T09:35:48.278235Z",
     "iopub.status.busy": "2023-08-13T09:35:48.277489Z",
     "iopub.status.idle": "2023-08-13T09:35:48.291061Z",
     "shell.execute_reply": "2023-08-13T09:35:48.289887Z"
    },
    "papermill": {
     "duration": 0.130618,
     "end_time": "2023-08-13T09:35:48.293616",
     "exception": false,
     "start_time": "2023-08-13T09:35:48.162998",
     "status": "completed"
    },
    "tags": []
   },
   "outputs": [
    {
     "name": "stdout",
     "output_type": "stream",
     "text": [
      "(55315, 1)\n"
     ]
    },
    {
     "data": {
      "text/html": [
       "<div>\n",
       "<style scoped>\n",
       "    .dataframe tbody tr th:only-of-type {\n",
       "        vertical-align: middle;\n",
       "    }\n",
       "\n",
       "    .dataframe tbody tr th {\n",
       "        vertical-align: top;\n",
       "    }\n",
       "\n",
       "    .dataframe thead th {\n",
       "        text-align: right;\n",
       "    }\n",
       "</style>\n",
       "<table border=\"1\" class=\"dataframe\">\n",
       "  <thead>\n",
       "    <tr style=\"text-align: right;\">\n",
       "      <th></th>\n",
       "      <th>sentiment</th>\n",
       "    </tr>\n",
       "    <tr>\n",
       "      <th>id</th>\n",
       "      <th></th>\n",
       "    </tr>\n",
       "  </thead>\n",
       "  <tbody>\n",
       "    <tr>\n",
       "      <th>0</th>\n",
       "      <td>POSITIVE</td>\n",
       "    </tr>\n",
       "    <tr>\n",
       "      <th>1</th>\n",
       "      <td>POSITIVE</td>\n",
       "    </tr>\n",
       "    <tr>\n",
       "      <th>2</th>\n",
       "      <td>POSITIVE</td>\n",
       "    </tr>\n",
       "    <tr>\n",
       "      <th>3</th>\n",
       "      <td>POSITIVE</td>\n",
       "    </tr>\n",
       "    <tr>\n",
       "      <th>4</th>\n",
       "      <td>POSITIVE</td>\n",
       "    </tr>\n",
       "    <tr>\n",
       "      <th>...</th>\n",
       "      <td>...</td>\n",
       "    </tr>\n",
       "    <tr>\n",
       "      <th>55310</th>\n",
       "      <td>POSITIVE</td>\n",
       "    </tr>\n",
       "    <tr>\n",
       "      <th>55311</th>\n",
       "      <td>NEGATIVE</td>\n",
       "    </tr>\n",
       "    <tr>\n",
       "      <th>55312</th>\n",
       "      <td>NEGATIVE</td>\n",
       "    </tr>\n",
       "    <tr>\n",
       "      <th>55313</th>\n",
       "      <td>POSITIVE</td>\n",
       "    </tr>\n",
       "    <tr>\n",
       "      <th>55314</th>\n",
       "      <td>NEGATIVE</td>\n",
       "    </tr>\n",
       "  </tbody>\n",
       "</table>\n",
       "<p>55315 rows × 1 columns</p>\n",
       "</div>"
      ],
      "text/plain": [
       "      sentiment\n",
       "id             \n",
       "0      POSITIVE\n",
       "1      POSITIVE\n",
       "2      POSITIVE\n",
       "3      POSITIVE\n",
       "4      POSITIVE\n",
       "...         ...\n",
       "55310  POSITIVE\n",
       "55311  NEGATIVE\n",
       "55312  NEGATIVE\n",
       "55313  POSITIVE\n",
       "55314  NEGATIVE\n",
       "\n",
       "[55315 rows x 1 columns]"
      ]
     },
     "execution_count": 131,
     "metadata": {},
     "output_type": "execute_result"
    }
   ],
   "source": [
    "print(pred_df.shape)\n",
    "pred_df"
   ]
  },
  {
   "cell_type": "code",
   "execution_count": 132,
   "id": "b0e82d4c",
   "metadata": {
    "execution": {
     "iopub.execute_input": "2023-08-13T09:35:48.521312Z",
     "iopub.status.busy": "2023-08-13T09:35:48.520247Z",
     "iopub.status.idle": "2023-08-13T09:35:48.525525Z",
     "shell.execute_reply": "2023-08-13T09:35:48.524359Z"
    },
    "papermill": {
     "duration": 0.12167,
     "end_time": "2023-08-13T09:35:48.527618",
     "exception": false,
     "start_time": "2023-08-13T09:35:48.405948",
     "status": "completed"
    },
    "tags": []
   },
   "outputs": [],
   "source": [
    "# pred_df_mode = pred_df.mode(axis='columns')\n",
    "# print(pred_df_mode.shape)\n",
    "# pred_df_mode"
   ]
  },
  {
   "cell_type": "code",
   "execution_count": 133,
   "id": "17b9a2e5",
   "metadata": {
    "execution": {
     "iopub.execute_input": "2023-08-13T09:35:48.752037Z",
     "iopub.status.busy": "2023-08-13T09:35:48.751594Z",
     "iopub.status.idle": "2023-08-13T09:35:48.770057Z",
     "shell.execute_reply": "2023-08-13T09:35:48.768913Z"
    },
    "papermill": {
     "duration": 0.133802,
     "end_time": "2023-08-13T09:35:48.772607",
     "exception": false,
     "start_time": "2023-08-13T09:35:48.638805",
     "status": "completed"
    },
    "tags": []
   },
   "outputs": [
    {
     "data": {
      "text/plain": [
       "sentiment\n",
       "POSITIVE     38747\n",
       "NEGATIVE     16568\n",
       "dtype: int64"
      ]
     },
     "execution_count": 133,
     "metadata": {},
     "output_type": "execute_result"
    }
   ],
   "source": [
    "pred_df.value_counts()"
   ]
  },
  {
   "cell_type": "markdown",
   "id": "b49b798c",
   "metadata": {
    "papermill": {
     "duration": 0.111271,
     "end_time": "2023-08-13T09:35:48.998230",
     "exception": false,
     "start_time": "2023-08-13T09:35:48.886959",
     "status": "completed"
    },
    "tags": []
   },
   "source": [
    "# NOTE: Move submit_v4 submissions below the suubmit_v4 function  "
   ]
  },
  {
   "cell_type": "code",
   "execution_count": 134,
   "id": "75ee4bcd",
   "metadata": {
    "execution": {
     "iopub.execute_input": "2023-08-13T09:35:49.226317Z",
     "iopub.status.busy": "2023-08-13T09:35:49.225882Z",
     "iopub.status.idle": "2023-08-13T09:35:49.230804Z",
     "shell.execute_reply": "2023-08-13T09:35:49.229542Z"
    },
    "papermill": {
     "duration": 0.121199,
     "end_time": "2023-08-13T09:35:49.233339",
     "exception": false,
     "start_time": "2023-08-13T09:35:49.112140",
     "status": "completed"
    },
    "tags": []
   },
   "outputs": [],
   "source": [
    "# Try 'submit_v4' function with default params (LogisticRegression model)  \n",
    "\n",
    "# submit_v4()\n",
    "\n",
    "#Default params to this function gave a score of 0.8259 - improvement over previous score of 0.82563!"
   ]
  },
  {
   "cell_type": "code",
   "execution_count": 135,
   "id": "933c5ca9",
   "metadata": {
    "execution": {
     "iopub.execute_input": "2023-08-13T09:35:49.458633Z",
     "iopub.status.busy": "2023-08-13T09:35:49.458223Z",
     "iopub.status.idle": "2023-08-13T09:35:49.463475Z",
     "shell.execute_reply": "2023-08-13T09:35:49.462353Z"
    },
    "papermill": {
     "duration": 0.120628,
     "end_time": "2023-08-13T09:35:49.465667",
     "exception": false,
     "start_time": "2023-08-13T09:35:49.345039",
     "status": "completed"
    },
    "tags": []
   },
   "outputs": [],
   "source": [
    "# Try out GridSearchCV on \"submit_v4\" function with param_grid  \n",
    "# param_grid = {\n",
    "#     \"model__C\": [0.1, 1, 5, 10]\n",
    "# }\n",
    "\n",
    "# submit_v4(selected_features={'txt': ['genre']}, param_grid=param_grid)"
   ]
  },
  {
   "cell_type": "markdown",
   "id": "9f86277d",
   "metadata": {
    "papermill": {
     "duration": 0.110926,
     "end_time": "2023-08-13T09:35:49.688454",
     "exception": false,
     "start_time": "2023-08-13T09:35:49.577528",
     "status": "completed"
    },
    "tags": []
   },
   "source": [
    "### Try LinearSVC with GridSearchCV  "
   ]
  },
  {
   "cell_type": "code",
   "execution_count": 136,
   "id": "aa67178a",
   "metadata": {
    "execution": {
     "iopub.execute_input": "2023-08-13T09:35:49.916936Z",
     "iopub.status.busy": "2023-08-13T09:35:49.916511Z",
     "iopub.status.idle": "2023-08-13T09:35:49.921235Z",
     "shell.execute_reply": "2023-08-13T09:35:49.920137Z"
    },
    "papermill": {
     "duration": 0.123192,
     "end_time": "2023-08-13T09:35:49.923406",
     "exception": false,
     "start_time": "2023-08-13T09:35:49.800214",
     "status": "completed"
    },
    "tags": []
   },
   "outputs": [],
   "source": [
    "# all_dict = {'cat': [\"isFrequentReviewer\", \"rating\", \"originalLanguage\"],\n",
    "#              'num': [\"audienceScore\", \"runtimeMinutes\", \"boxOffice\"],\n",
    "#              'txt': ['reviewText', 'reviewerName', 'movieid', 'genre', 'director']}\n",
    "\n",
    "# param_grid_svc = {\n",
    "#     \"model__C\": [0.1, 1, 10, 100]\n",
    "# }\n",
    "# param_grid_svc"
   ]
  },
  {
   "cell_type": "code",
   "execution_count": 137,
   "id": "cc6ed9de",
   "metadata": {
    "execution": {
     "iopub.execute_input": "2023-08-13T09:35:50.150673Z",
     "iopub.status.busy": "2023-08-13T09:35:50.150282Z",
     "iopub.status.idle": "2023-08-13T09:35:50.155230Z",
     "shell.execute_reply": "2023-08-13T09:35:50.153878Z"
    },
    "papermill": {
     "duration": 0.121808,
     "end_time": "2023-08-13T09:35:50.157670",
     "exception": false,
     "start_time": "2023-08-13T09:35:50.035862",
     "status": "completed"
    },
    "tags": []
   },
   "outputs": [],
   "source": [
    "# LinearSCV on single feature  \n",
    "\n",
    "# submit_v4(selected_model=LinearSVC(max_iter=100000, random_state=42), selected_features={'num': [\"audienceScore\"]}, param_grid=param_grid_svc)\n",
    "\n",
    "# Comment: LinearSVC even on single column feature set takes too long to converge."
   ]
  },
  {
   "cell_type": "code",
   "execution_count": 138,
   "id": "b2da14cf",
   "metadata": {
    "execution": {
     "iopub.execute_input": "2023-08-13T09:35:50.385112Z",
     "iopub.status.busy": "2023-08-13T09:35:50.384313Z",
     "iopub.status.idle": "2023-08-13T09:35:50.388744Z",
     "shell.execute_reply": "2023-08-13T09:35:50.387694Z"
    },
    "papermill": {
     "duration": 0.119523,
     "end_time": "2023-08-13T09:35:50.390848",
     "exception": false,
     "start_time": "2023-08-13T09:35:50.271325",
     "status": "completed"
    },
    "tags": []
   },
   "outputs": [],
   "source": [
    "# LinearSCV on all available features\n",
    "\n",
    "# submit_v4(selected_model=LinearSVC(max_iter=100000, random_state=42), selected_features=all_dict, param_grid=param_grid_svc)\n",
    "\n",
    "# (Update): This took 66 mins to run and gave a public score of 0.84295 (lesser than logreg gridsearchcv wwhich gave 0.84441). Best C was 1.0.\n"
   ]
  },
  {
   "cell_type": "markdown",
   "id": "9b8f6f1c",
   "metadata": {
    "papermill": {
     "duration": 0.111079,
     "end_time": "2023-08-13T09:35:50.613204",
     "exception": false,
     "start_time": "2023-08-13T09:35:50.502125",
     "status": "completed"
    },
    "tags": []
   },
   "source": [
    "### Boosting techniques  "
   ]
  },
  {
   "cell_type": "code",
   "execution_count": 139,
   "id": "62783d61",
   "metadata": {
    "execution": {
     "iopub.execute_input": "2023-08-13T09:35:50.840421Z",
     "iopub.status.busy": "2023-08-13T09:35:50.840012Z",
     "iopub.status.idle": "2023-08-13T09:35:50.844475Z",
     "shell.execute_reply": "2023-08-13T09:35:50.843315Z"
    },
    "papermill": {
     "duration": 0.12272,
     "end_time": "2023-08-13T09:35:50.847050",
     "exception": false,
     "start_time": "2023-08-13T09:35:50.724330",
     "status": "completed"
    },
    "tags": []
   },
   "outputs": [],
   "source": [
    "# adc = AdaBoostClassifier(estimator=LogisticRegression(C=5, solver=\"saga\", max_iter=100000), n_estimators=50)\n",
    "# adc"
   ]
  },
  {
   "cell_type": "code",
   "execution_count": 140,
   "id": "10d3f042",
   "metadata": {
    "execution": {
     "iopub.execute_input": "2023-08-13T09:35:51.074390Z",
     "iopub.status.busy": "2023-08-13T09:35:51.073653Z",
     "iopub.status.idle": "2023-08-13T09:35:51.077672Z",
     "shell.execute_reply": "2023-08-13T09:35:51.076929Z"
    },
    "papermill": {
     "duration": 0.119093,
     "end_time": "2023-08-13T09:35:51.079781",
     "exception": false,
     "start_time": "2023-08-13T09:35:50.960688",
     "status": "completed"
    },
    "tags": []
   },
   "outputs": [],
   "source": [
    "# submit_v4(selected_model=adc, selected_features={'num': [\"audienceScore\"]}, param_grid=None)"
   ]
  },
  {
   "cell_type": "code",
   "execution_count": 141,
   "id": "00747037",
   "metadata": {
    "execution": {
     "iopub.execute_input": "2023-08-13T09:35:51.306210Z",
     "iopub.status.busy": "2023-08-13T09:35:51.305441Z",
     "iopub.status.idle": "2023-08-13T09:35:51.309469Z",
     "shell.execute_reply": "2023-08-13T09:35:51.308686Z"
    },
    "papermill": {
     "duration": 0.120269,
     "end_time": "2023-08-13T09:35:51.312175",
     "exception": false,
     "start_time": "2023-08-13T09:35:51.191906",
     "status": "completed"
    },
    "tags": []
   },
   "outputs": [],
   "source": [
    "# submit_v4(selected_model=adc, selected_features=all_dict, param_grid=None)\n",
    "\n",
    "# Took 1 hour 15 mins to run and gave a public score of only 0.71089. Discarded."
   ]
  },
  {
   "cell_type": "markdown",
   "id": "099cc561",
   "metadata": {
    "papermill": {
     "duration": 0.110416,
     "end_time": "2023-08-13T09:35:51.533933",
     "exception": false,
     "start_time": "2023-08-13T09:35:51.423517",
     "status": "completed"
    },
    "tags": []
   },
   "source": [
    "### LightGBM  "
   ]
  },
  {
   "cell_type": "code",
   "execution_count": 142,
   "id": "f01eb1fd",
   "metadata": {
    "execution": {
     "iopub.execute_input": "2023-08-13T09:35:51.759817Z",
     "iopub.status.busy": "2023-08-13T09:35:51.759060Z",
     "iopub.status.idle": "2023-08-13T09:35:51.763395Z",
     "shell.execute_reply": "2023-08-13T09:35:51.762560Z"
    },
    "papermill": {
     "duration": 0.120167,
     "end_time": "2023-08-13T09:35:51.765524",
     "exception": false,
     "start_time": "2023-08-13T09:35:51.645357",
     "status": "completed"
    },
    "tags": []
   },
   "outputs": [],
   "source": [
    "# lgb = ltb.LGBMClassifier()\n",
    "# lgb"
   ]
  },
  {
   "cell_type": "code",
   "execution_count": 143,
   "id": "1fecced6",
   "metadata": {
    "execution": {
     "iopub.execute_input": "2023-08-13T09:35:51.992996Z",
     "iopub.status.busy": "2023-08-13T09:35:51.992258Z",
     "iopub.status.idle": "2023-08-13T09:35:51.996450Z",
     "shell.execute_reply": "2023-08-13T09:35:51.995490Z"
    },
    "papermill": {
     "duration": 0.119928,
     "end_time": "2023-08-13T09:35:51.998569",
     "exception": false,
     "start_time": "2023-08-13T09:35:51.878641",
     "status": "completed"
    },
    "tags": []
   },
   "outputs": [],
   "source": [
    "# Try LightGBM with default settings\n",
    "# (Update): Public score only 0.77713. It was fast, took less than 5 mins (without GridSearchCV)\n",
    "\n",
    "# submit_v4(selected_model=ltb.LGBMClassifier(), selected_features=all_dict, param_grid=None)"
   ]
  },
  {
   "cell_type": "markdown",
   "id": "bd4028d0",
   "metadata": {
    "papermill": {
     "duration": 0.111971,
     "end_time": "2023-08-13T09:35:52.298908",
     "exception": false,
     "start_time": "2023-08-13T09:35:52.186937",
     "status": "completed"
    },
    "tags": []
   },
   "source": [
    "## Feature Engineering"
   ]
  },
  {
   "cell_type": "markdown",
   "id": "75993d3d",
   "metadata": {
    "papermill": {
     "duration": 0.111308,
     "end_time": "2023-08-13T09:35:52.521865",
     "exception": false,
     "start_time": "2023-08-13T09:35:52.410557",
     "status": "completed"
    },
    "tags": []
   },
   "source": [
    "### Plan  \n",
    "* Add a new column 'reviewWC' which has word count of 'reviewText'  \n",
    "    * Check if there is any relationship between 'reviewWC' and 'sentiment'\n",
    "* Work on vocabulary\n",
    "     * Use TfidfVectorizer and find out the vocabulary of 'reviewText' column for various ngrams\n",
    "     * Use RecursiveFeatureElimination (RFE) or RFECV to select 1000 top words/vocab for each ngram\n",
    "     * Use the final vocab (1000-3000 words) in the model and see how it performs compared to whole vocab\n",
    "\n",
    "`(Update): Code incorporated into the \"select_features\" function  `  \n",
    "`(Update): Many other new features incorporated into the \"select_features\" function too  `  \n",
    "\n"
   ]
  },
  {
   "cell_type": "markdown",
   "id": "b170bbda",
   "metadata": {
    "papermill": {
     "duration": 0.111394,
     "end_time": "2023-08-13T09:35:52.744673",
     "exception": false,
     "start_time": "2023-08-13T09:35:52.633279",
     "status": "completed"
    },
    "tags": []
   },
   "source": [
    "# Back to vocab after success of version 63  "
   ]
  },
  {
   "cell_type": "code",
   "execution_count": 144,
   "id": "293b4cfa",
   "metadata": {
    "execution": {
     "iopub.execute_input": "2023-08-13T09:35:52.971893Z",
     "iopub.status.busy": "2023-08-13T09:35:52.971489Z",
     "iopub.status.idle": "2023-08-13T09:35:52.993475Z",
     "shell.execute_reply": "2023-08-13T09:35:52.992230Z"
    },
    "papermill": {
     "duration": 0.139114,
     "end_time": "2023-08-13T09:35:52.995849",
     "exception": false,
     "start_time": "2023-08-13T09:35:52.856735",
     "status": "completed"
    },
    "tags": []
   },
   "outputs": [],
   "source": [
    "def submit_v4(selected_model=LogisticRegression(C=1, solver='liblinear', max_iter=100000), \n",
    "              selected_features={'txt': ['reviewText']}, \n",
    "              param_grid=None,\n",
    "              vocab=None,\n",
    "              vocab_usage='tfidf',\n",
    "              strip_accents='unicode', \n",
    "              add_countvec=False):\n",
    "    \n",
    "    print(\"\\nRunning the submit_v4 function...\")\n",
    "    \n",
    "    # Fine tune selected_features\n",
    "    if add_countvec:\n",
    "        if 'txt' in selected_features.keys():\n",
    "            if \"reviewText_2\" not in selected_features['txt']:\n",
    "                selected_features['txt'].append('reviewText_2')\n",
    "    if vocab:\n",
    "        if 'txt' in selected_features.keys():\n",
    "            if \"reviewText_3\" not in selected_features['txt']:\n",
    "                selected_features['txt'].append('reviewText_3')\n",
    "    print(f\"\\nSelected features: {selected_features}\")\n",
    "\n",
    "    \n",
    "    \n",
    "    # Build Pipeline\n",
    "    pipe = build_pipeline(selected_model, selected_features, param_grid=param_grid, \n",
    "                          vocab=vocab, vocab_usage='tfidf', \n",
    "                          strip_accents=strip_accents, add_countvec=add_countvec)\n",
    "    print(pipe)\n",
    "\n",
    "    \n",
    "    \n",
    "    # Features list\n",
    "    features = []\n",
    "    for item in selected_features.values():\n",
    "        features.extend(item)\n",
    " \n",
    "\n",
    "    # Merge and preprocess train and movies data  \n",
    "    merged = select_features(load_csv(\"train\"), load_csv(\"movies\"), row_thresh_null=None)    # Decide if you want to drop any rows containing lot of nulls\n",
    "    # Impute missing numerical values  \n",
    "    # Simple Imputer for ['audienceScore', 'runtimeMinutes', 'boxOffice'] and 'releaseDate' columns\n",
    "    si = SimpleImputer(strategy='median')\n",
    "    merged[['audienceScore', 'runtimeMinutes', 'boxOffice']] = si.fit_transform(merged[['audienceScore', 'runtimeMinutes', 'boxOffice']])\n",
    "    merged['releaseDate'] = merged[\"releaseDate\"].fillna(merged[\"releaseDate\"].median())    \n",
    "    # Add new columns as needed  \n",
    "    if add_countvec:\n",
    "        merged['reviewText_2'] = merged['reviewText']\n",
    "    if vocab:\n",
    "        merged['reviewText_3'] = merged['reviewText']\n",
    "        \n",
    "    X_train = merged.drop(labels=\"sentiment\", axis=1)\n",
    "    y_train = merged[\"sentiment\"]\n",
    "\n",
    "    X_train = X_train[features]\n",
    "    \n",
    "    \n",
    "    # Check1\n",
    "    print(\"\\nCheck 1 complete.\")\n",
    "    print(f\"Shape of X_train: {X_train.shape}\")\n",
    "    print(f\"Features in X_train: {X_train.columns}\")\n",
    "#     print(X_train.head())\n",
    "    \n",
    "    \n",
    "    # Fit \n",
    "    print(\"\\nTraining started with full pipeline...\")\n",
    "    pipe.fit(X_train, y_train)\n",
    "    \n",
    "    # Check2\n",
    "    print(\"\\nCheck 2 complete.\")\n",
    "    print(\"Details of the best model using full pipeline (GridSearchCV) on X_train: \")\n",
    "    print(f\"Best Params: {pipe.best_params_}\")\n",
    "    print(f\"Best Score: {pipe.best_score_}\")\n",
    "    \n",
    "    print(predict_on_missing_review_data(pipe, features, merged))    # Function defined above\n",
    "    \n",
    "        \n",
    "    # Predict on test.csv file\n",
    "    \n",
    "    # Merge and preprocess test and movies data  \n",
    "    merged_test = select_features(load_csv(\"test\"), load_csv(\"movies\"))\n",
    "    # Transform ['audienceScore', 'runtimeMinutes', 'boxOffice'] columns in merged_test using 'si' fitted on 'merged' df  \n",
    "    merged_test[['audienceScore', 'runtimeMinutes', 'boxOffice']] = si.transform(merged_test[['audienceScore', 'runtimeMinutes', 'boxOffice']])\n",
    "    # Fill 'releaseDate' column in 'merged_test' df with median from the train (merged) df  \n",
    "    merged_test['releaseDate'] = merged_test[\"releaseDate\"].fillna(merged[\"releaseDate\"].median())\n",
    "    # Add new columns as needed \n",
    "    if add_countvec:\n",
    "        merged_test['reviewText_2'] = merged_test['reviewText']\n",
    "    if vocab:\n",
    "        merged_test['reviewText_3'] = merged_test['reviewText']\n",
    "        \n",
    "    X_test = merged_test.copy()\n",
    "\n",
    "    X_test = X_test[features]\n",
    "    \n",
    "    \n",
    "    # Check3\n",
    "    print(\"\\nCheck 3 complete.\")\n",
    "    print(f\"Shape of X_test: {X_test.shape}\")\n",
    "    print(f\"Features in X_test: {X_test.columns}\")\n",
    "#     print(X_test.head())\n",
    "    \n",
    "    y_pred = pipe.predict(X_test)\n",
    "    \n",
    "    # Check4\n",
    "    print(\"\\nCheck 4 complete.\")\n",
    "#     cv_results_df = pd.DataFrame(pipe.cv_results_)\n",
    "    print(\"Details of the best model using full pipeline (GridSearchCV) on X_train: \")\n",
    "    print(f\"Best Estimator: {pipe.best_estimator_}\")\n",
    "    print(f\"Best Params: {pipe.best_params_}\")\n",
    "    print(f\"Best Score: {pipe.best_score_}\")\n",
    "    print(f\"Best Index: {pipe.best_index_}\")\n",
    "    print(f\"Refit Time: {pipe.refit_time_}\")\n",
    "#     print(f\"Shape of CV results dataframe: {cv_results_df.shape}\")\n",
    "    \n",
    "    pred_df = pd.DataFrame(y_pred)\n",
    "    pred_df.columns = [\"sentiment\"]\n",
    "    pred_df.index.name = \"id\"\n",
    "    pred_df.to_csv(\"submission.csv\")\n",
    "    \n",
    "    print(\"\\nSuccessfully created the submission file!!!\")\n",
    "    \n",
    "    return pipe.cv_results_"
   ]
  },
  {
   "cell_type": "code",
   "execution_count": 145,
   "id": "032eb8e1",
   "metadata": {
    "execution": {
     "iopub.execute_input": "2023-08-13T09:35:53.221806Z",
     "iopub.status.busy": "2023-08-13T09:35:53.221356Z",
     "iopub.status.idle": "2023-08-13T09:35:53.228577Z",
     "shell.execute_reply": "2023-08-13T09:35:53.227491Z"
    },
    "papermill": {
     "duration": 0.122992,
     "end_time": "2023-08-13T09:35:53.230682",
     "exception": false,
     "start_time": "2023-08-13T09:35:53.107690",
     "status": "completed"
    },
    "tags": []
   },
   "outputs": [
    {
     "data": {
      "text/plain": [
       "Index(['movieid', 'reviewerName', 'isFrequentReviewer', 'reviewText',\n",
       "       'sentiment', 'title', 'audienceScore', 'rating', 'ratingContents',\n",
       "       'releaseDateTheaters', 'releaseDateStreaming', 'runtimeMinutes',\n",
       "       'genre', 'originalLanguage', 'director', 'boxOffice', 'distributor',\n",
       "       'soundType', 'reviewYN', 'reviewWC', 'genreSorted', 'rcSorted',\n",
       "       'releaseDate', 'releaseYear', 'releaseMonth', 'releaseDiff'],\n",
       "      dtype='object')"
      ]
     },
     "execution_count": 145,
     "metadata": {},
     "output_type": "execute_result"
    }
   ],
   "source": [
    "merged.columns"
   ]
  },
  {
   "cell_type": "code",
   "execution_count": 146,
   "id": "d91660ce",
   "metadata": {
    "execution": {
     "iopub.execute_input": "2023-08-13T09:35:53.456430Z",
     "iopub.status.busy": "2023-08-13T09:35:53.455982Z",
     "iopub.status.idle": "2023-08-13T09:35:53.466658Z",
     "shell.execute_reply": "2023-08-13T09:35:53.465830Z"
    },
    "papermill": {
     "duration": 0.126602,
     "end_time": "2023-08-13T09:35:53.468842",
     "exception": false,
     "start_time": "2023-08-13T09:35:53.342240",
     "status": "completed"
    },
    "tags": []
   },
   "outputs": [],
   "source": [
    "# Best #2\n",
    "v80_dict = {'cat': ['isFrequentReviewer', 'audScoreBins', 'boxOfficeBins'], \n",
    "                  'txt': ['reviewText', 'reviewerName', 'movieid', 'genre', 'director', \n",
    "                          'ratingContents', 'distributor']}\n",
    "# Best #1\n",
    "v88_dict = {'cat': ['isFrequentReviewer', 'audScoreBins', 'boxOfficeBins'],\n",
    "            'num': ['releaseDiff'],\n",
    "            'txt': ['reviewText', 'reviewerName', 'movieid', 'genre', 'director', \n",
    "                         'ratingContents', 'distributor']}\n",
    "\n",
    "v92_dict = {'cat': ['isFrequentReviewer', 'audScoreBins', 'boxOfficeBins', 'releaseDiffBins'],\n",
    "            'txt': ['reviewText', 'reviewerName', 'title', 'genre', 'director', \n",
    "                         'ratingContents', 'distributor']}\n",
    "\n",
    "# Best univariable datapoints dict\n",
    "best_uni_dict = {'cat': [\"isFrequentReviewer\", \"audScoreBins\"],\n",
    "                 'txt': ['reviewText','movieid', 'director', \"ratingContents\"]}\n",
    "\n",
    "# param_grids for LogisticRegression  \n",
    "\n",
    "# Best #1  \n",
    "# param_grid = {\n",
    "#     'model__C' : [1],\n",
    "#     'model__solver': ['saga'],\n",
    "#     \"model__fit_intercept\" : [True],\n",
    "#     \"model__dual\" : [False]\n",
    "#     }\n",
    "\n",
    "# working\n",
    "param_grid = {\n",
    "    'model__C' : [1],\n",
    "    'model__solver': ['saga'],\n",
    "    \"model__fit_intercept\" : [True],\n",
    "    \"model__dual\" : [False],\n",
    "#     \"model__class_weight\": ['balanced', None]\n",
    "}\n",
    "\n",
    "\n",
    "# param_grids for LinearSVC  \n",
    "\n",
    "# param_grid = {\n",
    "#     'model__C' : [1, 10, 20],\n",
    "#     'model__loss': ['hinge', 'squared_hinge'],\n",
    "#     \"model__fit_intercept\" : [True, False],\n",
    "# #     \"model__dual\" : [True, False] \n",
    "# }\n",
    "\n",
    "svm = LinearSVC(max_iter=10000, random_state=42)    # LinearSVC\n",
    "\n",
    "\n",
    "# Local testing\n",
    "# selected_mov = {'num': ['audienceScore', 'boxOffice', 'releaseDiff'], \n",
    "#                 'txt': ['movieid', 'genre', 'director', \n",
    "#                          'ratingContents', 'distributor']}\n",
    "# results = submit_v4(\n",
    "#             selected_features={'num': ['boxOffice']},\n",
    "#             add_countvec=False,\n",
    "#             vocab=None,\n",
    "#             vocab_usage='tfidf',\n",
    "#             param_grid=param_grid\n",
    "#          )\n",
    "\n",
    "# results = submit_v4(selected_model = DummyClassifier(strategy='constant', constant='NEGATIVE'),\n",
    "#             selected_features={'num': ['boxOffice']},\n",
    "#             add_countvec=False,\n",
    "#             vocab=None,\n",
    "#             vocab_usage='tfidf',\n",
    "#             param_grid={'model__strategy' : ['constant']}\n",
    "#          )\n",
    "\n",
    "# Main submission\n",
    "\n",
    "# results = submit_v4(\n",
    "#     selected_features=v88_dict,\n",
    "#     add_countvec=False,\n",
    "#     vocab=common_1_2_3_grams,\n",
    "#     vocab_usage='tfidf',\n",
    "#     param_grid=param_grid\n",
    "#     )\n",
    "\n",
    "# results"
   ]
  },
  {
   "cell_type": "markdown",
   "id": "20f9afd0",
   "metadata": {
    "papermill": {
     "duration": 0.111835,
     "end_time": "2023-08-13T09:35:53.693450",
     "exception": false,
     "start_time": "2023-08-13T09:35:53.581615",
     "status": "completed"
    },
    "tags": []
   },
   "source": [
    "### ratingContents analysis  "
   ]
  },
  {
   "cell_type": "code",
   "execution_count": 147,
   "id": "fb68ccda",
   "metadata": {
    "execution": {
     "iopub.execute_input": "2023-08-13T09:35:53.923594Z",
     "iopub.status.busy": "2023-08-13T09:35:53.923204Z",
     "iopub.status.idle": "2023-08-13T09:35:53.927754Z",
     "shell.execute_reply": "2023-08-13T09:35:53.926622Z"
    },
    "papermill": {
     "duration": 0.122802,
     "end_time": "2023-08-13T09:35:53.930061",
     "exception": false,
     "start_time": "2023-08-13T09:35:53.807259",
     "status": "completed"
    },
    "tags": []
   },
   "outputs": [],
   "source": [
    "# Try string split  \n",
    "# s = \"comedy, animation, adventure, fantasy\"\n",
    "# (\",\").join(sorted(s.split(\", \")))"
   ]
  },
  {
   "cell_type": "code",
   "execution_count": 148,
   "id": "b819b9ad",
   "metadata": {
    "execution": {
     "iopub.execute_input": "2023-08-13T09:35:54.159609Z",
     "iopub.status.busy": "2023-08-13T09:35:54.159178Z",
     "iopub.status.idle": "2023-08-13T09:35:54.164926Z",
     "shell.execute_reply": "2023-08-13T09:35:54.163825Z"
    },
    "papermill": {
     "duration": 0.123316,
     "end_time": "2023-08-13T09:35:54.167442",
     "exception": false,
     "start_time": "2023-08-13T09:35:54.044126",
     "status": "completed"
    },
    "tags": []
   },
   "outputs": [],
   "source": [
    "# ratingContents_analysis = merged[[\"ratingContents\", \"sentiment\"]].copy()\n",
    "# print(ratingContents_analysis.head())\n",
    "# ratingContents_analysis[\"rcSorted\"] = ratingContents_analysis[\"ratingContents\"].apply(lambda x: (\",\").join(sorted(x.strip(\"][\").split(\", \"))))\n",
    "# ratingContents_analysis[\"rcSorted\"] = ratingContents_analysis[\"rcSorted\"].apply(lambda x: re.sub(r\"'\", \"\", x))\n",
    "# ratingContents_analysis[\"rcSorted\"] = ratingContents_analysis[\"rcSorted\"].apply(lambda x: re.sub(r\"[/\\s]\", \"_\", x))\n",
    "# ratingContents_analysis.head(10)"
   ]
  },
  {
   "cell_type": "code",
   "execution_count": 149,
   "id": "33102439",
   "metadata": {
    "execution": {
     "iopub.execute_input": "2023-08-13T09:35:54.394582Z",
     "iopub.status.busy": "2023-08-13T09:35:54.394182Z",
     "iopub.status.idle": "2023-08-13T09:35:54.399166Z",
     "shell.execute_reply": "2023-08-13T09:35:54.397997Z"
    },
    "papermill": {
     "duration": 0.120942,
     "end_time": "2023-08-13T09:35:54.401407",
     "exception": false,
     "start_time": "2023-08-13T09:35:54.280465",
     "status": "completed"
    },
    "tags": []
   },
   "outputs": [],
   "source": [
    "# cvec_rc = CountVectorizer(ngram_range=(1,1))\n",
    "# cvec_rc.fit(ratingContents_analysis['rcSorted'])\n",
    "# # len(cvec_rc.vocabulary_), cvec_rc.vocabulary_"
   ]
  },
  {
   "cell_type": "code",
   "execution_count": 150,
   "id": "381404f8",
   "metadata": {
    "execution": {
     "iopub.execute_input": "2023-08-13T09:35:54.626366Z",
     "iopub.status.busy": "2023-08-13T09:35:54.625940Z",
     "iopub.status.idle": "2023-08-13T09:35:54.630552Z",
     "shell.execute_reply": "2023-08-13T09:35:54.629591Z"
    },
    "papermill": {
     "duration": 0.119333,
     "end_time": "2023-08-13T09:35:54.632755",
     "exception": false,
     "start_time": "2023-08-13T09:35:54.513422",
     "status": "completed"
    },
    "tags": []
   },
   "outputs": [],
   "source": [
    "# genre_testing = cvec_g.transform(merged[\"genre\"])\n",
    "# print(genre_testing)"
   ]
  },
  {
   "cell_type": "markdown",
   "id": "ebff2865",
   "metadata": {
    "papermill": {
     "duration": 0.11379,
     "end_time": "2023-08-13T09:35:54.858158",
     "exception": false,
     "start_time": "2023-08-13T09:35:54.744368",
     "status": "completed"
    },
    "tags": []
   },
   "source": [
    "## Statistical tests  "
   ]
  },
  {
   "cell_type": "markdown",
   "id": "3246b8f6",
   "metadata": {
    "papermill": {
     "duration": 0.114046,
     "end_time": "2023-08-13T09:35:55.084774",
     "exception": false,
     "start_time": "2023-08-13T09:35:54.970728",
     "status": "completed"
    },
    "tags": []
   },
   "source": [
    "[Go to genre](#genre_analysis)"
   ]
  },
  {
   "cell_type": "code",
   "execution_count": 151,
   "id": "ff5514a8",
   "metadata": {
    "execution": {
     "iopub.execute_input": "2023-08-13T09:35:55.309575Z",
     "iopub.status.busy": "2023-08-13T09:35:55.309174Z",
     "iopub.status.idle": "2023-08-13T09:35:55.314380Z",
     "shell.execute_reply": "2023-08-13T09:35:55.313286Z"
    },
    "papermill": {
     "duration": 0.120127,
     "end_time": "2023-08-13T09:35:55.316731",
     "exception": false,
     "start_time": "2023-08-13T09:35:55.196604",
     "status": "completed"
    },
    "tags": []
   },
   "outputs": [],
   "source": [
    "# print(merged['boxOffice'].head())\n",
    "# merged[\"boxOffice\"].describe()"
   ]
  },
  {
   "cell_type": "code",
   "execution_count": 152,
   "id": "b7526104",
   "metadata": {
    "execution": {
     "iopub.execute_input": "2023-08-13T09:35:55.544103Z",
     "iopub.status.busy": "2023-08-13T09:35:55.543633Z",
     "iopub.status.idle": "2023-08-13T09:35:55.549420Z",
     "shell.execute_reply": "2023-08-13T09:35:55.548204Z"
    },
    "papermill": {
     "duration": 0.122205,
     "end_time": "2023-08-13T09:35:55.551841",
     "exception": false,
     "start_time": "2023-08-13T09:35:55.429636",
     "status": "completed"
    },
    "tags": []
   },
   "outputs": [],
   "source": [
    "# Function for independent samples t-test on numerical columns  \n",
    "# def ttest_ind(feature):\n",
    "#     pos_grp = merged[feature].loc[merged['sentiment'] == \"POSITIVE\"]\n",
    "#     neg_grp = merged[feature].loc[merged['sentiment'] == \"NEGATIVE\"]\n",
    "\n",
    "#     print(pos_grp.shape, neg_grp.shape)\n",
    "#     print(pos_grp.describe(), neg_grp.describe())\n",
    "\n",
    "#     return stats.ttest_ind(pos_grp, neg_grp)"
   ]
  },
  {
   "cell_type": "code",
   "execution_count": 153,
   "id": "3293f003",
   "metadata": {
    "execution": {
     "iopub.execute_input": "2023-08-13T09:35:55.779781Z",
     "iopub.status.busy": "2023-08-13T09:35:55.779395Z",
     "iopub.status.idle": "2023-08-13T09:35:55.784373Z",
     "shell.execute_reply": "2023-08-13T09:35:55.783165Z"
    },
    "papermill": {
     "duration": 0.123602,
     "end_time": "2023-08-13T09:35:55.786913",
     "exception": false,
     "start_time": "2023-08-13T09:35:55.663311",
     "status": "completed"
    },
    "tags": []
   },
   "outputs": [],
   "source": [
    "# ttest_ind('boxOffice')"
   ]
  },
  {
   "cell_type": "code",
   "execution_count": 154,
   "id": "00dbcf42",
   "metadata": {
    "execution": {
     "iopub.execute_input": "2023-08-13T09:35:56.056190Z",
     "iopub.status.busy": "2023-08-13T09:35:56.055625Z",
     "iopub.status.idle": "2023-08-13T09:35:56.060758Z",
     "shell.execute_reply": "2023-08-13T09:35:56.059635Z"
    },
    "papermill": {
     "duration": 0.14354,
     "end_time": "2023-08-13T09:35:56.063124",
     "exception": false,
     "start_time": "2023-08-13T09:35:55.919584",
     "status": "completed"
    },
    "tags": []
   },
   "outputs": [],
   "source": [
    "# ttest_ind('runtimeMinutes')"
   ]
  },
  {
   "cell_type": "code",
   "execution_count": 155,
   "id": "1d559e8e",
   "metadata": {
    "execution": {
     "iopub.execute_input": "2023-08-13T09:35:56.303153Z",
     "iopub.status.busy": "2023-08-13T09:35:56.302682Z",
     "iopub.status.idle": "2023-08-13T09:35:56.307976Z",
     "shell.execute_reply": "2023-08-13T09:35:56.307108Z"
    },
    "papermill": {
     "duration": 0.127786,
     "end_time": "2023-08-13T09:35:56.310982",
     "exception": false,
     "start_time": "2023-08-13T09:35:56.183196",
     "status": "completed"
    },
    "tags": []
   },
   "outputs": [],
   "source": [
    "# ttest_ind('audienceScore')"
   ]
  },
  {
   "cell_type": "code",
   "execution_count": 156,
   "id": "5791d697",
   "metadata": {
    "execution": {
     "iopub.execute_input": "2023-08-13T09:35:56.564993Z",
     "iopub.status.busy": "2023-08-13T09:35:56.564566Z",
     "iopub.status.idle": "2023-08-13T09:35:56.569662Z",
     "shell.execute_reply": "2023-08-13T09:35:56.568481Z"
    },
    "papermill": {
     "duration": 0.126383,
     "end_time": "2023-08-13T09:35:56.572128",
     "exception": false,
     "start_time": "2023-08-13T09:35:56.445745",
     "status": "completed"
    },
    "tags": []
   },
   "outputs": [],
   "source": [
    "# sns.boxplot(x=merged['sentiment'], y=merged['boxOffice'])"
   ]
  },
  {
   "cell_type": "markdown",
   "id": "cd38c829",
   "metadata": {
    "papermill": {
     "duration": 0.113268,
     "end_time": "2023-08-13T09:35:56.800697",
     "exception": false,
     "start_time": "2023-08-13T09:35:56.687429",
     "status": "completed"
    },
    "tags": []
   },
   "source": [
    "## <div id='genre_analysis'>Genre analysis</div>"
   ]
  },
  {
   "cell_type": "code",
   "execution_count": 157,
   "id": "e8314208",
   "metadata": {
    "execution": {
     "iopub.execute_input": "2023-08-13T09:35:57.039720Z",
     "iopub.status.busy": "2023-08-13T09:35:57.038669Z",
     "iopub.status.idle": "2023-08-13T09:35:57.043100Z",
     "shell.execute_reply": "2023-08-13T09:35:57.042280Z"
    },
    "papermill": {
     "duration": 0.126995,
     "end_time": "2023-08-13T09:35:57.045390",
     "exception": false,
     "start_time": "2023-08-13T09:35:56.918395",
     "status": "completed"
    },
    "tags": []
   },
   "outputs": [],
   "source": [
    "# genre_analysis = merged[[\"genre\", \"genreSorted\", \"sentiment\"]].copy()\n",
    "# # print(genre_analysis.head())\n",
    "# # genre_analysis[\"genre\"] = genre_analysis[\"genre\"].apply(lambda x: (\",\").join(sorted(x.split(\", \"))))\n",
    "# genre_analysis.head()"
   ]
  },
  {
   "cell_type": "code",
   "execution_count": 158,
   "id": "03551da1",
   "metadata": {
    "execution": {
     "iopub.execute_input": "2023-08-13T09:35:57.274707Z",
     "iopub.status.busy": "2023-08-13T09:35:57.274253Z",
     "iopub.status.idle": "2023-08-13T09:35:57.279190Z",
     "shell.execute_reply": "2023-08-13T09:35:57.278072Z"
    },
    "papermill": {
     "duration": 0.121372,
     "end_time": "2023-08-13T09:35:57.281546",
     "exception": false,
     "start_time": "2023-08-13T09:35:57.160174",
     "status": "completed"
    },
    "tags": []
   },
   "outputs": [],
   "source": [
    "# cvec_g = CountVectorizer(ngram_range=(1,3))\n",
    "# cvec_g.fit(genre_analysis['genre'])\n",
    "# # len(cvec_g.vocabulary_), cvec_g.vocabulary_"
   ]
  },
  {
   "cell_type": "code",
   "execution_count": 159,
   "id": "6eaa875c",
   "metadata": {
    "execution": {
     "iopub.execute_input": "2023-08-13T09:35:57.506447Z",
     "iopub.status.busy": "2023-08-13T09:35:57.505973Z",
     "iopub.status.idle": "2023-08-13T09:35:57.511128Z",
     "shell.execute_reply": "2023-08-13T09:35:57.510037Z"
    },
    "papermill": {
     "duration": 0.12006,
     "end_time": "2023-08-13T09:35:57.513408",
     "exception": false,
     "start_time": "2023-08-13T09:35:57.393348",
     "status": "completed"
    },
    "tags": []
   },
   "outputs": [],
   "source": [
    "# cvec_gSorted = CountVectorizer(ngram_range=(1,3))\n",
    "# cvec_gSorted.fit(genre_analysis['genreSorted'])\n",
    "# len(cvec_gSorted.vocabulary_), cvec_gSorted.vocabulary_"
   ]
  },
  {
   "cell_type": "code",
   "execution_count": 160,
   "id": "80107bad",
   "metadata": {
    "execution": {
     "iopub.execute_input": "2023-08-13T09:35:57.740796Z",
     "iopub.status.busy": "2023-08-13T09:35:57.739752Z",
     "iopub.status.idle": "2023-08-13T09:35:57.744747Z",
     "shell.execute_reply": "2023-08-13T09:35:57.743698Z"
    },
    "papermill": {
     "duration": 0.120905,
     "end_time": "2023-08-13T09:35:57.747089",
     "exception": false,
     "start_time": "2023-08-13T09:35:57.626184",
     "status": "completed"
    },
    "tags": []
   },
   "outputs": [],
   "source": [
    "# genre_testing = cvec_g.transform(merged[\"genre\"])\n",
    "# # print(genre_testing)"
   ]
  },
  {
   "cell_type": "code",
   "execution_count": 161,
   "id": "0b54454f",
   "metadata": {
    "execution": {
     "iopub.execute_input": "2023-08-13T09:35:57.975496Z",
     "iopub.status.busy": "2023-08-13T09:35:57.975079Z",
     "iopub.status.idle": "2023-08-13T09:35:57.979249Z",
     "shell.execute_reply": "2023-08-13T09:35:57.978383Z"
    },
    "papermill": {
     "duration": 0.120681,
     "end_time": "2023-08-13T09:35:57.981489",
     "exception": false,
     "start_time": "2023-08-13T09:35:57.860808",
     "status": "completed"
    },
    "tags": []
   },
   "outputs": [],
   "source": [
    "# genre_counts_testing = merged[[\"genre\", \"sentiment\"]].copy()\n",
    "# genre_counts_testing[\"gCount\"] = genre_counts_testing.apply(lambda x: len(str(x[\"genre\"]).split()), axis=1)\n",
    "# genre_counts_testing"
   ]
  },
  {
   "cell_type": "code",
   "execution_count": 162,
   "id": "99606efa",
   "metadata": {
    "execution": {
     "iopub.execute_input": "2023-08-13T09:35:58.210362Z",
     "iopub.status.busy": "2023-08-13T09:35:58.209739Z",
     "iopub.status.idle": "2023-08-13T09:35:58.215096Z",
     "shell.execute_reply": "2023-08-13T09:35:58.213913Z"
    },
    "papermill": {
     "duration": 0.121675,
     "end_time": "2023-08-13T09:35:58.217689",
     "exception": false,
     "start_time": "2023-08-13T09:35:58.096014",
     "status": "completed"
    },
    "tags": []
   },
   "outputs": [],
   "source": [
    "# sns.boxplot(y=genre_counts_testing[\"gCount\"], x=genre_counts_testing[\"sentiment\"])"
   ]
  },
  {
   "cell_type": "code",
   "execution_count": 163,
   "id": "db82e693",
   "metadata": {
    "execution": {
     "iopub.execute_input": "2023-08-13T09:35:58.444321Z",
     "iopub.status.busy": "2023-08-13T09:35:58.443630Z",
     "iopub.status.idle": "2023-08-13T09:35:58.447520Z",
     "shell.execute_reply": "2023-08-13T09:35:58.446792Z"
    },
    "papermill": {
     "duration": 0.118957,
     "end_time": "2023-08-13T09:35:58.449605",
     "exception": false,
     "start_time": "2023-08-13T09:35:58.330648",
     "status": "completed"
    },
    "tags": []
   },
   "outputs": [],
   "source": [
    "# sns.boxplot(y=merged[\"reviewWC\"], x=merged[\"sentiment\"])"
   ]
  },
  {
   "cell_type": "code",
   "execution_count": 164,
   "id": "390eff1e",
   "metadata": {
    "execution": {
     "iopub.execute_input": "2023-08-13T09:35:58.674623Z",
     "iopub.status.busy": "2023-08-13T09:35:58.673928Z",
     "iopub.status.idle": "2023-08-13T09:35:58.678281Z",
     "shell.execute_reply": "2023-08-13T09:35:58.677234Z"
    },
    "papermill": {
     "duration": 0.119484,
     "end_time": "2023-08-13T09:35:58.680552",
     "exception": false,
     "start_time": "2023-08-13T09:35:58.561068",
     "status": "completed"
    },
    "tags": []
   },
   "outputs": [],
   "source": [
    "# audienceScore bins\n",
    "# asc = merged[['audienceScore', 'sentiment']].copy()\n",
    "# asc.head()"
   ]
  },
  {
   "cell_type": "code",
   "execution_count": 165,
   "id": "f77b5e11",
   "metadata": {
    "execution": {
     "iopub.execute_input": "2023-08-13T09:35:58.907114Z",
     "iopub.status.busy": "2023-08-13T09:35:58.906689Z",
     "iopub.status.idle": "2023-08-13T09:35:58.911490Z",
     "shell.execute_reply": "2023-08-13T09:35:58.910357Z"
    },
    "papermill": {
     "duration": 0.121615,
     "end_time": "2023-08-13T09:35:58.913576",
     "exception": false,
     "start_time": "2023-08-13T09:35:58.791961",
     "status": "completed"
    },
    "tags": []
   },
   "outputs": [],
   "source": [
    "# Binning numerical features  \n",
    "\n",
    "# print(merged[\"runtimeBins\"].value_counts())\n",
    "# sns.displot(merged[\"runtimeBins\"])"
   ]
  },
  {
   "cell_type": "code",
   "execution_count": 166,
   "id": "674bdf71",
   "metadata": {
    "execution": {
     "iopub.execute_input": "2023-08-13T09:35:59.142744Z",
     "iopub.status.busy": "2023-08-13T09:35:59.142046Z",
     "iopub.status.idle": "2023-08-13T09:35:59.146105Z",
     "shell.execute_reply": "2023-08-13T09:35:59.145272Z"
    },
    "papermill": {
     "duration": 0.119641,
     "end_time": "2023-08-13T09:35:59.148153",
     "exception": false,
     "start_time": "2023-08-13T09:35:59.028512",
     "status": "completed"
    },
    "tags": []
   },
   "outputs": [],
   "source": [
    "# Chi-square test for isFrequentReviewer column and sentiment column   \n",
    "\n",
    "# contingency_table = pd.crosstab(traindf['isFrequentReviewer'], traindf['sentiment'])\n",
    "# print(contingency_table)\n",
    "# stats.chi2_contingency(contingency_table)"
   ]
  },
  {
   "cell_type": "markdown",
   "id": "a72cc9e5",
   "metadata": {
    "papermill": {
     "duration": 0.111774,
     "end_time": "2023-08-13T09:35:59.373696",
     "exception": false,
     "start_time": "2023-08-13T09:35:59.261922",
     "status": "completed"
    },
    "tags": []
   },
   "source": [
    "## Baseline performance of 'reviewText' column  "
   ]
  },
  {
   "cell_type": "code",
   "execution_count": 167,
   "id": "e6e1ad2e",
   "metadata": {
    "execution": {
     "iopub.execute_input": "2023-08-13T09:35:59.598761Z",
     "iopub.status.busy": "2023-08-13T09:35:59.598337Z",
     "iopub.status.idle": "2023-08-13T09:35:59.603119Z",
     "shell.execute_reply": "2023-08-13T09:35:59.602064Z"
    },
    "papermill": {
     "duration": 0.120185,
     "end_time": "2023-08-13T09:35:59.605568",
     "exception": false,
     "start_time": "2023-08-13T09:35:59.485383",
     "status": "completed"
    },
    "tags": []
   },
   "outputs": [],
   "source": [
    "# rt_dict = {'txt': ['reviewText']}\n",
    "# rt_dict"
   ]
  },
  {
   "cell_type": "code",
   "execution_count": 168,
   "id": "91c4fbb7",
   "metadata": {
    "execution": {
     "iopub.execute_input": "2023-08-13T09:35:59.831487Z",
     "iopub.status.busy": "2023-08-13T09:35:59.831069Z",
     "iopub.status.idle": "2023-08-13T09:35:59.835680Z",
     "shell.execute_reply": "2023-08-13T09:35:59.834611Z"
    },
    "papermill": {
     "duration": 0.121027,
     "end_time": "2023-08-13T09:35:59.838133",
     "exception": false,
     "start_time": "2023-08-13T09:35:59.717106",
     "status": "completed"
    },
    "tags": []
   },
   "outputs": [],
   "source": [
    "# submit_v4(selected_model=LogisticRegression(C=5, solver=\"saga\", max_iter=100000),\n",
    "#           selected_features=rt_dict,\n",
    "#           param_grid=None,\n",
    "#           vocab=None)"
   ]
  },
  {
   "cell_type": "markdown",
   "id": "d70e871c",
   "metadata": {
    "papermill": {
     "duration": 0.113291,
     "end_time": "2023-08-13T09:36:00.066010",
     "exception": false,
     "start_time": "2023-08-13T09:35:59.952719",
     "status": "completed"
    },
    "tags": []
   },
   "source": [
    "## RFE  "
   ]
  },
  {
   "cell_type": "code",
   "execution_count": 169,
   "id": "cdd30cea",
   "metadata": {
    "execution": {
     "iopub.execute_input": "2023-08-13T09:36:00.294661Z",
     "iopub.status.busy": "2023-08-13T09:36:00.294211Z",
     "iopub.status.idle": "2023-08-13T09:36:00.300239Z",
     "shell.execute_reply": "2023-08-13T09:36:00.299067Z"
    },
    "papermill": {
     "duration": 0.123602,
     "end_time": "2023-08-13T09:36:00.302377",
     "exception": false,
     "start_time": "2023-08-13T09:36:00.178775",
     "status": "completed"
    },
    "tags": []
   },
   "outputs": [],
   "source": [
    "# def fs_rfe(selector, text_df, labels, ngram_range=(1,1)):\n",
    "#     text_df_ngram = TfidfVectorizer(ngram_range=ngram_range, stop_words='english').fit_transform(text_df)\n",
    "#     print(\"text_df was vectorized using TF-IDF vectorizer with ngram_range: \", ngram_range)\n",
    "#     print(\"text_df.shape: \", text_df.shape)\n",
    "#     print(\"labels.shape: \", labels.shape)\n",
    "#     print(\"text_df_ngram.shape: \", text_df_ngram.shape)\n",
    "#     print()\n",
    "\n",
    "#     print(\"Starting RFE fit...\")\n",
    "#     selector.fit(text_df_ngram, labels)\n",
    "#     print(\"RFE fit complete.\\n\")\n",
    "    \n",
    "#     print(\"selector.n_features_: \", selector.n_features_)   \n",
    "#     print(\"selector.n_features_in_: \", selector.n_features_in_)\n",
    "#     print(\"selector.support_.shape: \", selector.support_.shape)\n",
    "\n",
    "#     return selector.support_"
   ]
  },
  {
   "cell_type": "markdown",
   "id": "de00fbed",
   "metadata": {
    "papermill": {
     "duration": 0.112557,
     "end_time": "2023-08-13T09:36:00.528267",
     "exception": false,
     "start_time": "2023-08-13T09:36:00.415710",
     "status": "completed"
    },
    "tags": []
   },
   "source": [
    "`RFE for unigrams`  "
   ]
  },
  {
   "cell_type": "code",
   "execution_count": 170,
   "id": "f4377b12",
   "metadata": {
    "execution": {
     "iopub.execute_input": "2023-08-13T09:36:00.754689Z",
     "iopub.status.busy": "2023-08-13T09:36:00.754234Z",
     "iopub.status.idle": "2023-08-13T09:36:00.759339Z",
     "shell.execute_reply": "2023-08-13T09:36:00.758110Z"
    },
    "papermill": {
     "duration": 0.121113,
     "end_time": "2023-08-13T09:36:00.761736",
     "exception": false,
     "start_time": "2023-08-13T09:36:00.640623",
     "status": "completed"
    },
    "tags": []
   },
   "outputs": [],
   "source": [
    "# estimator_rfe_1 = LogisticRegression(solver='saga', max_iter=100000)\n",
    "# selector_rfe_1 = RFE(estimator_rfe_1, step=0.1, n_features_to_select=30000)"
   ]
  },
  {
   "cell_type": "code",
   "execution_count": 171,
   "id": "71cf1502",
   "metadata": {
    "execution": {
     "iopub.execute_input": "2023-08-13T09:36:00.991285Z",
     "iopub.status.busy": "2023-08-13T09:36:00.990322Z",
     "iopub.status.idle": "2023-08-13T09:36:00.994380Z",
     "shell.execute_reply": "2023-08-13T09:36:00.993582Z"
    },
    "papermill": {
     "duration": 0.120815,
     "end_time": "2023-08-13T09:36:00.996707",
     "exception": false,
     "start_time": "2023-08-13T09:36:00.875892",
     "status": "completed"
    },
    "tags": []
   },
   "outputs": [],
   "source": [
    "# rfe_1_feat_mask = fs_rfe(selector_rfe_1, rt_senti[\"reviewText\"], rt_senti[\"sentiment\"], ngram_range=(1,1))\n",
    "# rfe_1_feat_mask"
   ]
  },
  {
   "cell_type": "code",
   "execution_count": 172,
   "id": "d83ccf99",
   "metadata": {
    "execution": {
     "iopub.execute_input": "2023-08-13T09:36:01.227741Z",
     "iopub.status.busy": "2023-08-13T09:36:01.227128Z",
     "iopub.status.idle": "2023-08-13T09:36:01.231728Z",
     "shell.execute_reply": "2023-08-13T09:36:01.230567Z"
    },
    "papermill": {
     "duration": 0.121712,
     "end_time": "2023-08-13T09:36:01.234088",
     "exception": false,
     "start_time": "2023-08-13T09:36:01.112376",
     "status": "completed"
    },
    "tags": []
   },
   "outputs": [],
   "source": [
    "# voc_1gram_rfe = list(compress(voc_1gram, rfe_1_feat_mask))\n",
    "# len(voc_1gram_rfe), voc_1gram_rfe[:10]"
   ]
  },
  {
   "cell_type": "markdown",
   "id": "cba662db",
   "metadata": {
    "papermill": {
     "duration": 0.114216,
     "end_time": "2023-08-13T09:36:01.462151",
     "exception": false,
     "start_time": "2023-08-13T09:36:01.347935",
     "status": "completed"
    },
    "tags": []
   },
   "source": [
    "`RFE for bigrams`  "
   ]
  },
  {
   "cell_type": "code",
   "execution_count": 173,
   "id": "7d93010f",
   "metadata": {
    "execution": {
     "iopub.execute_input": "2023-08-13T09:36:01.692272Z",
     "iopub.status.busy": "2023-08-13T09:36:01.691834Z",
     "iopub.status.idle": "2023-08-13T09:36:01.696636Z",
     "shell.execute_reply": "2023-08-13T09:36:01.695299Z"
    },
    "papermill": {
     "duration": 0.121637,
     "end_time": "2023-08-13T09:36:01.698959",
     "exception": false,
     "start_time": "2023-08-13T09:36:01.577322",
     "status": "completed"
    },
    "tags": []
   },
   "outputs": [],
   "source": [
    "# estimator_rfe_2 = LogisticRegression(solver='saga', max_iter=100000)\n",
    "# selector_rfe_2 = RFE(estimator_rfe_2, step=0.1, n_features_to_select=50000)"
   ]
  },
  {
   "cell_type": "code",
   "execution_count": 174,
   "id": "921eb1b4",
   "metadata": {
    "execution": {
     "iopub.execute_input": "2023-08-13T09:36:01.927740Z",
     "iopub.status.busy": "2023-08-13T09:36:01.927333Z",
     "iopub.status.idle": "2023-08-13T09:36:01.931338Z",
     "shell.execute_reply": "2023-08-13T09:36:01.930397Z"
    },
    "papermill": {
     "duration": 0.122259,
     "end_time": "2023-08-13T09:36:01.933679",
     "exception": false,
     "start_time": "2023-08-13T09:36:01.811420",
     "status": "completed"
    },
    "tags": []
   },
   "outputs": [],
   "source": [
    "# rfe_2_feat_mask = fs_rfe(selector_rfe_2, rt_senti[\"reviewText\"], rt_senti[\"sentiment\"], ngram_range=(2,2))\n",
    "# rfe_2_feat_mask"
   ]
  },
  {
   "cell_type": "code",
   "execution_count": 175,
   "id": "c56a7721",
   "metadata": {
    "execution": {
     "iopub.execute_input": "2023-08-13T09:36:02.162389Z",
     "iopub.status.busy": "2023-08-13T09:36:02.161967Z",
     "iopub.status.idle": "2023-08-13T09:36:02.166214Z",
     "shell.execute_reply": "2023-08-13T09:36:02.165101Z"
    },
    "papermill": {
     "duration": 0.12072,
     "end_time": "2023-08-13T09:36:02.168582",
     "exception": false,
     "start_time": "2023-08-13T09:36:02.047862",
     "status": "completed"
    },
    "tags": []
   },
   "outputs": [],
   "source": [
    "# voc_2gram_rfe = list(compress(voc_2gram, rfe_2_feat_mask))\n",
    "# len(voc_2gram_rfe), voc_2gram_rfe[:10]"
   ]
  },
  {
   "cell_type": "markdown",
   "id": "84f02045",
   "metadata": {
    "papermill": {
     "duration": 0.111362,
     "end_time": "2023-08-13T09:36:02.393451",
     "exception": false,
     "start_time": "2023-08-13T09:36:02.282089",
     "status": "completed"
    },
    "tags": []
   },
   "source": [
    "## Final RFE-derived vocabulary  "
   ]
  },
  {
   "cell_type": "code",
   "execution_count": 176,
   "id": "f235528b",
   "metadata": {
    "execution": {
     "iopub.execute_input": "2023-08-13T09:36:02.622482Z",
     "iopub.status.busy": "2023-08-13T09:36:02.622094Z",
     "iopub.status.idle": "2023-08-13T09:36:02.626480Z",
     "shell.execute_reply": "2023-08-13T09:36:02.625365Z"
    },
    "papermill": {
     "duration": 0.122756,
     "end_time": "2023-08-13T09:36:02.628791",
     "exception": false,
     "start_time": "2023-08-13T09:36:02.506035",
     "status": "completed"
    },
    "tags": []
   },
   "outputs": [],
   "source": [
    "# rfe_vocab = voc_1gram_rfe + voc_2gram_rfe\n",
    "# len(rfe_vocab), rfe_vocab[:10], rfe_vocab[-10:]"
   ]
  },
  {
   "cell_type": "code",
   "execution_count": 177,
   "id": "93723742",
   "metadata": {
    "execution": {
     "iopub.execute_input": "2023-08-13T09:36:02.855509Z",
     "iopub.status.busy": "2023-08-13T09:36:02.855128Z",
     "iopub.status.idle": "2023-08-13T09:36:02.859852Z",
     "shell.execute_reply": "2023-08-13T09:36:02.858691Z"
    },
    "papermill": {
     "duration": 0.120917,
     "end_time": "2023-08-13T09:36:02.862328",
     "exception": false,
     "start_time": "2023-08-13T09:36:02.741411",
     "status": "completed"
    },
    "tags": []
   },
   "outputs": [],
   "source": [
    "## Test RFE obtained vocabulary in final pipeline (only with reviewText)  \n",
    "# submit_v4(selected_model=LogisticRegression(C=5, solver=\"saga\", max_iter=100000),\n",
    "#           selected_features=rt_dict,\n",
    "#           param_grid=None,\n",
    "#           vocab=rfe_vocab)"
   ]
  },
  {
   "cell_type": "markdown",
   "id": "d77a824d",
   "metadata": {
    "papermill": {
     "duration": 0.11337,
     "end_time": "2023-08-13T09:36:03.091978",
     "exception": false,
     "start_time": "2023-08-13T09:36:02.978608",
     "status": "completed"
    },
    "tags": []
   },
   "source": [
    "## Use rfe_vocab in final pipeline with all params  "
   ]
  },
  {
   "cell_type": "code",
   "execution_count": 178,
   "id": "9c1084b0",
   "metadata": {
    "execution": {
     "iopub.execute_input": "2023-08-13T09:36:03.319817Z",
     "iopub.status.busy": "2023-08-13T09:36:03.319439Z",
     "iopub.status.idle": "2023-08-13T09:36:03.324197Z",
     "shell.execute_reply": "2023-08-13T09:36:03.323105Z"
    },
    "papermill": {
     "duration": 0.122461,
     "end_time": "2023-08-13T09:36:03.326568",
     "exception": false,
     "start_time": "2023-08-13T09:36:03.204107",
     "status": "completed"
    },
    "tags": []
   },
   "outputs": [],
   "source": [
    "# submit_v4(selected_model=LogisticRegression(max_iter=100000),\n",
    "#           selected_features=all_dict,\n",
    "#           param_grid=param_grid,\n",
    "#           vocab=rfe_vocab)"
   ]
  },
  {
   "cell_type": "code",
   "execution_count": 179,
   "id": "39dc52ff",
   "metadata": {
    "execution": {
     "iopub.execute_input": "2023-08-13T09:36:03.553490Z",
     "iopub.status.busy": "2023-08-13T09:36:03.553093Z",
     "iopub.status.idle": "2023-08-13T09:36:03.565740Z",
     "shell.execute_reply": "2023-08-13T09:36:03.564628Z"
    },
    "papermill": {
     "duration": 0.129024,
     "end_time": "2023-08-13T09:36:03.568270",
     "exception": false,
     "start_time": "2023-08-13T09:36:03.439246",
     "status": "completed"
    },
    "tags": []
   },
   "outputs": [
    {
     "data": {
      "text/html": [
       "<style>#sk-container-id-1 {color: black;background-color: white;}#sk-container-id-1 pre{padding: 0;}#sk-container-id-1 div.sk-toggleable {background-color: white;}#sk-container-id-1 label.sk-toggleable__label {cursor: pointer;display: block;width: 100%;margin-bottom: 0;padding: 0.3em;box-sizing: border-box;text-align: center;}#sk-container-id-1 label.sk-toggleable__label-arrow:before {content: \"▸\";float: left;margin-right: 0.25em;color: #696969;}#sk-container-id-1 label.sk-toggleable__label-arrow:hover:before {color: black;}#sk-container-id-1 div.sk-estimator:hover label.sk-toggleable__label-arrow:before {color: black;}#sk-container-id-1 div.sk-toggleable__content {max-height: 0;max-width: 0;overflow: hidden;text-align: left;background-color: #f0f8ff;}#sk-container-id-1 div.sk-toggleable__content pre {margin: 0.2em;color: black;border-radius: 0.25em;background-color: #f0f8ff;}#sk-container-id-1 input.sk-toggleable__control:checked~div.sk-toggleable__content {max-height: 200px;max-width: 100%;overflow: auto;}#sk-container-id-1 input.sk-toggleable__control:checked~label.sk-toggleable__label-arrow:before {content: \"▾\";}#sk-container-id-1 div.sk-estimator input.sk-toggleable__control:checked~label.sk-toggleable__label {background-color: #d4ebff;}#sk-container-id-1 div.sk-label input.sk-toggleable__control:checked~label.sk-toggleable__label {background-color: #d4ebff;}#sk-container-id-1 input.sk-hidden--visually {border: 0;clip: rect(1px 1px 1px 1px);clip: rect(1px, 1px, 1px, 1px);height: 1px;margin: -1px;overflow: hidden;padding: 0;position: absolute;width: 1px;}#sk-container-id-1 div.sk-estimator {font-family: monospace;background-color: #f0f8ff;border: 1px dotted black;border-radius: 0.25em;box-sizing: border-box;margin-bottom: 0.5em;}#sk-container-id-1 div.sk-estimator:hover {background-color: #d4ebff;}#sk-container-id-1 div.sk-parallel-item::after {content: \"\";width: 100%;border-bottom: 1px solid gray;flex-grow: 1;}#sk-container-id-1 div.sk-label:hover label.sk-toggleable__label {background-color: #d4ebff;}#sk-container-id-1 div.sk-serial::before {content: \"\";position: absolute;border-left: 1px solid gray;box-sizing: border-box;top: 0;bottom: 0;left: 50%;z-index: 0;}#sk-container-id-1 div.sk-serial {display: flex;flex-direction: column;align-items: center;background-color: white;padding-right: 0.2em;padding-left: 0.2em;position: relative;}#sk-container-id-1 div.sk-item {position: relative;z-index: 1;}#sk-container-id-1 div.sk-parallel {display: flex;align-items: stretch;justify-content: center;background-color: white;position: relative;}#sk-container-id-1 div.sk-item::before, #sk-container-id-1 div.sk-parallel-item::before {content: \"\";position: absolute;border-left: 1px solid gray;box-sizing: border-box;top: 0;bottom: 0;left: 50%;z-index: -1;}#sk-container-id-1 div.sk-parallel-item {display: flex;flex-direction: column;z-index: 1;position: relative;background-color: white;}#sk-container-id-1 div.sk-parallel-item:first-child::after {align-self: flex-end;width: 50%;}#sk-container-id-1 div.sk-parallel-item:last-child::after {align-self: flex-start;width: 50%;}#sk-container-id-1 div.sk-parallel-item:only-child::after {width: 0;}#sk-container-id-1 div.sk-dashed-wrapped {border: 1px dashed gray;margin: 0 0.4em 0.5em 0.4em;box-sizing: border-box;padding-bottom: 0.4em;background-color: white;}#sk-container-id-1 div.sk-label label {font-family: monospace;font-weight: bold;display: inline-block;line-height: 1.2em;}#sk-container-id-1 div.sk-label-container {text-align: center;}#sk-container-id-1 div.sk-container {/* jupyter's `normalize.less` sets `[hidden] { display: none; }` but bootstrap.min.css set `[hidden] { display: none !important; }` so we also need the `!important` here to be able to override the default hidden behavior on the sphinx rendered scikit-learn.org. See: https://github.com/scikit-learn/scikit-learn/issues/21755 */display: inline-block !important;position: relative;}#sk-container-id-1 div.sk-text-repr-fallback {display: none;}</style><div id=\"sk-container-id-1\" class=\"sk-top-container\"><div class=\"sk-text-repr-fallback\"><pre>AdaBoostClassifier(estimator=LogisticRegression(C=5, max_iter=100000,\n",
       "                                                solver=&#x27;saga&#x27;))</pre><b>In a Jupyter environment, please rerun this cell to show the HTML representation or trust the notebook. <br />On GitHub, the HTML representation is unable to render, please try loading this page with nbviewer.org.</b></div><div class=\"sk-container\" hidden><div class=\"sk-item sk-dashed-wrapped\"><div class=\"sk-label-container\"><div class=\"sk-label sk-toggleable\"><input class=\"sk-toggleable__control sk-hidden--visually\" id=\"sk-estimator-id-1\" type=\"checkbox\" ><label for=\"sk-estimator-id-1\" class=\"sk-toggleable__label sk-toggleable__label-arrow\">AdaBoostClassifier</label><div class=\"sk-toggleable__content\"><pre>AdaBoostClassifier(estimator=LogisticRegression(C=5, max_iter=100000,\n",
       "                                                solver=&#x27;saga&#x27;))</pre></div></div></div><div class=\"sk-parallel\"><div class=\"sk-parallel-item\"><div class=\"sk-item\"><div class=\"sk-label-container\"><div class=\"sk-label sk-toggleable\"><input class=\"sk-toggleable__control sk-hidden--visually\" id=\"sk-estimator-id-2\" type=\"checkbox\" ><label for=\"sk-estimator-id-2\" class=\"sk-toggleable__label sk-toggleable__label-arrow\">estimator: LogisticRegression</label><div class=\"sk-toggleable__content\"><pre>LogisticRegression(C=5, max_iter=100000, solver=&#x27;saga&#x27;)</pre></div></div></div><div class=\"sk-serial\"><div class=\"sk-item\"><div class=\"sk-estimator sk-toggleable\"><input class=\"sk-toggleable__control sk-hidden--visually\" id=\"sk-estimator-id-3\" type=\"checkbox\" ><label for=\"sk-estimator-id-3\" class=\"sk-toggleable__label sk-toggleable__label-arrow\">LogisticRegression</label><div class=\"sk-toggleable__content\"><pre>LogisticRegression(C=5, max_iter=100000, solver=&#x27;saga&#x27;)</pre></div></div></div></div></div></div></div></div></div></div>"
      ],
      "text/plain": [
       "AdaBoostClassifier(estimator=LogisticRegression(C=5, max_iter=100000,\n",
       "                                                solver='saga'))"
      ]
     },
     "execution_count": 179,
     "metadata": {},
     "output_type": "execute_result"
    }
   ],
   "source": [
    "adc = AdaBoostClassifier(estimator=LogisticRegression(C=5, solver=\"saga\", max_iter=100000), n_estimators=50)\n",
    "adc"
   ]
  },
  {
   "cell_type": "code",
   "execution_count": 180,
   "id": "f3d7dfaa",
   "metadata": {
    "execution": {
     "iopub.execute_input": "2023-08-13T09:36:03.797829Z",
     "iopub.status.busy": "2023-08-13T09:36:03.797429Z",
     "iopub.status.idle": "2023-08-13T09:36:03.801855Z",
     "shell.execute_reply": "2023-08-13T09:36:03.800646Z"
    },
    "papermill": {
     "duration": 0.122402,
     "end_time": "2023-08-13T09:36:03.804278",
     "exception": false,
     "start_time": "2023-08-13T09:36:03.681876",
     "status": "completed"
    },
    "tags": []
   },
   "outputs": [],
   "source": [
    "# submit_v4(selected_model=adc,\n",
    "#           selected_features={'cat': ['isFrequentReviewer']},\n",
    "#           param_grid=None,\n",
    "#           vocab=rfe_vocab)"
   ]
  },
  {
   "cell_type": "code",
   "execution_count": 181,
   "id": "c5d99bc1",
   "metadata": {
    "execution": {
     "iopub.execute_input": "2023-08-13T09:36:04.112147Z",
     "iopub.status.busy": "2023-08-13T09:36:04.111714Z",
     "iopub.status.idle": "2023-08-13T09:36:04.116312Z",
     "shell.execute_reply": "2023-08-13T09:36:04.115060Z"
    },
    "papermill": {
     "duration": 0.200026,
     "end_time": "2023-08-13T09:36:04.118780",
     "exception": false,
     "start_time": "2023-08-13T09:36:03.918754",
     "status": "completed"
    },
    "tags": []
   },
   "outputs": [],
   "source": [
    "# AdaBoost on all features with RFE vocab on reviewText\n",
    "\n",
    "# submit_v4(selected_model=adc,\n",
    "#           selected_features=all_dict,\n",
    "#           param_grid=None,\n",
    "#           vocab=rfe_vocab)"
   ]
  },
  {
   "cell_type": "code",
   "execution_count": 182,
   "id": "257da296",
   "metadata": {
    "execution": {
     "iopub.execute_input": "2023-08-13T09:36:04.349396Z",
     "iopub.status.busy": "2023-08-13T09:36:04.348939Z",
     "iopub.status.idle": "2023-08-13T09:36:04.353295Z",
     "shell.execute_reply": "2023-08-13T09:36:04.352458Z"
    },
    "papermill": {
     "duration": 0.121898,
     "end_time": "2023-08-13T09:36:04.355311",
     "exception": false,
     "start_time": "2023-08-13T09:36:04.233413",
     "status": "completed"
    },
    "tags": []
   },
   "outputs": [],
   "source": [
    "# RandomForestClassifier test run on one feature\n",
    "\n",
    "# rfc_2 = RandomForestClassifier()\n",
    "# rfc_2"
   ]
  },
  {
   "cell_type": "code",
   "execution_count": 183,
   "id": "fd2dd5b7",
   "metadata": {
    "execution": {
     "iopub.execute_input": "2023-08-13T09:36:04.584014Z",
     "iopub.status.busy": "2023-08-13T09:36:04.583253Z",
     "iopub.status.idle": "2023-08-13T09:36:04.588056Z",
     "shell.execute_reply": "2023-08-13T09:36:04.586926Z"
    },
    "papermill": {
     "duration": 0.121831,
     "end_time": "2023-08-13T09:36:04.590221",
     "exception": false,
     "start_time": "2023-08-13T09:36:04.468390",
     "status": "completed"
    },
    "tags": []
   },
   "outputs": [],
   "source": [
    "# submit_v4(selected_model=rfc_2,\n",
    "#           selected_features={'txt': ['reviewerName']},\n",
    "#           param_grid=None,\n",
    "#           vocab=rfe_vocab)"
   ]
  },
  {
   "cell_type": "code",
   "execution_count": 184,
   "id": "35f35d3c",
   "metadata": {
    "execution": {
     "iopub.execute_input": "2023-08-13T09:36:04.817995Z",
     "iopub.status.busy": "2023-08-13T09:36:04.817612Z",
     "iopub.status.idle": "2023-08-13T09:36:04.822259Z",
     "shell.execute_reply": "2023-08-13T09:36:04.821166Z"
    },
    "papermill": {
     "duration": 0.12052,
     "end_time": "2023-08-13T09:36:04.824396",
     "exception": false,
     "start_time": "2023-08-13T09:36:04.703876",
     "status": "completed"
    },
    "tags": []
   },
   "outputs": [],
   "source": [
    "# RandomForestClassifier on all features with RFE vocab on reviewText\n",
    "\n",
    "# submit_v4(selected_model=rfc_2,\n",
    "#           selected_features=all_dict,\n",
    "#           param_grid=None,\n",
    "#           vocab=rfe_vocab)"
   ]
  },
  {
   "cell_type": "markdown",
   "id": "1fceac7d",
   "metadata": {
    "papermill": {
     "duration": 0.113385,
     "end_time": "2023-08-13T09:36:05.053885",
     "exception": false,
     "start_time": "2023-08-13T09:36:04.940500",
     "status": "completed"
    },
    "tags": []
   },
   "source": [
    "## Submit_v2 for merged file models  "
   ]
  },
  {
   "cell_type": "code",
   "execution_count": 185,
   "id": "75358101",
   "metadata": {
    "execution": {
     "iopub.execute_input": "2023-08-13T09:36:05.284576Z",
     "iopub.status.busy": "2023-08-13T09:36:05.283767Z",
     "iopub.status.idle": "2023-08-13T09:36:05.289817Z",
     "shell.execute_reply": "2023-08-13T09:36:05.289056Z"
    },
    "papermill": {
     "duration": 0.123857,
     "end_time": "2023-08-13T09:36:05.292084",
     "exception": false,
     "start_time": "2023-08-13T09:36:05.168227",
     "status": "completed"
    },
    "tags": []
   },
   "outputs": [],
   "source": [
    "# def submit_v2(selected_model=pipe_final, selected_features=None):\n",
    "#     '''\n",
    "#     Note that \"selected_preprocessor\" is already used within selected_model or pipeline\n",
    "#     '''\n",
    "#     # Retrain on the whole train.csv file  \n",
    "#     merged = select_features(load_csv(\"train\"), load_csv(\"movies\"))\n",
    "#     X_train = merged.drop(labels=\"sentiment\", axis=1)\n",
    "#     y_train = merged[\"sentiment\"]\n",
    "    \n",
    "#     #Use selected features\n",
    "#     if selected_features:\n",
    "#         X_train = X_train[selected_features]\n",
    "    \n",
    "#     # Check1\n",
    "#     print(X_train.shape)\n",
    "#     print(X_train.head())\n",
    "#     try:\n",
    "#         print(selected_model.named_steps['model'].intercept_, selected_model.named_steps['model'].coef_)\n",
    "#     except:\n",
    "#         print(\"Model not trained yet!\")\n",
    "    \n",
    "#     # Fit \n",
    "#     selected_model.fit(X_train, y_train)\n",
    "    \n",
    "#     # Check2\n",
    "#     print(selected_model.named_steps['model'].intercept_, selected_model.named_steps['model'].coef_)\n",
    "    \n",
    "#     # Predict on test.csv file\n",
    "#     merged_test = select_features(load_csv(\"test\"), load_csv(\"movies\"))\n",
    "#     X_test = merged_test.copy()\n",
    "#     if selected_features:\n",
    "#         X_test = X_test[selected_features]\n",
    "    \n",
    "#     # Check3\n",
    "#     print(X_test.shape)\n",
    "#     print(X_test.head())\n",
    "    \n",
    "#     y_pred = selected_model.predict(X_test)\n",
    "    \n",
    "#     pred_df = pd.DataFrame(y_pred)\n",
    "#     pred_df.columns = [\"sentiment\"]\n",
    "#     pred_df.index.name = \"id\"\n",
    "#     pred_df.to_csv(\"submission.csv\")\n",
    "    \n",
    "#     return \"Successfully created the submission file!!!\""
   ]
  },
  {
   "cell_type": "code",
   "execution_count": 186,
   "id": "7641f217",
   "metadata": {
    "execution": {
     "iopub.execute_input": "2023-08-13T09:36:05.518617Z",
     "iopub.status.busy": "2023-08-13T09:36:05.518139Z",
     "iopub.status.idle": "2023-08-13T09:36:05.524086Z",
     "shell.execute_reply": "2023-08-13T09:36:05.522771Z"
    },
    "papermill": {
     "duration": 0.122152,
     "end_time": "2023-08-13T09:36:05.526325",
     "exception": false,
     "start_time": "2023-08-13T09:36:05.404173",
     "status": "completed"
    },
    "tags": []
   },
   "outputs": [],
   "source": [
    "#     X_test = merged_test.copy()\n",
    "    \n",
    "#     y_pred = pipe_best4.predict(X_test)\n",
    "# #     np.unique(y_pred, return_counts=True)\n",
    "#     pred_df = pd.DataFrame(y_pred)\n",
    "#     pred_df.columns = [\"sentiment\"]\n",
    "#     pred_df.index.name = \"id\"\n",
    "#     pred_df.value_counts()"
   ]
  },
  {
   "cell_type": "code",
   "execution_count": 187,
   "id": "a2a82f19",
   "metadata": {
    "execution": {
     "iopub.execute_input": "2023-08-13T09:36:05.754232Z",
     "iopub.status.busy": "2023-08-13T09:36:05.753701Z",
     "iopub.status.idle": "2023-08-13T09:36:05.759091Z",
     "shell.execute_reply": "2023-08-13T09:36:05.757578Z"
    },
    "papermill": {
     "duration": 0.122545,
     "end_time": "2023-08-13T09:36:05.761478",
     "exception": false,
     "start_time": "2023-08-13T09:36:05.638933",
     "status": "completed"
    },
    "tags": []
   },
   "outputs": [],
   "source": [
    "# X_test.columns"
   ]
  },
  {
   "cell_type": "markdown",
   "id": "140ce3d0",
   "metadata": {
    "papermill": {
     "duration": 0.127848,
     "end_time": "2023-08-13T09:36:06.009977",
     "exception": false,
     "start_time": "2023-08-13T09:36:05.882129",
     "status": "completed"
    },
    "tags": []
   },
   "source": [
    "### Uncomment to submit using v2 of submit function  "
   ]
  },
  {
   "cell_type": "code",
   "execution_count": 188,
   "id": "7f3b47cd",
   "metadata": {
    "execution": {
     "iopub.execute_input": "2023-08-13T09:36:06.240177Z",
     "iopub.status.busy": "2023-08-13T09:36:06.239156Z",
     "iopub.status.idle": "2023-08-13T09:36:06.243406Z",
     "shell.execute_reply": "2023-08-13T09:36:06.242485Z"
    },
    "papermill": {
     "duration": 0.120552,
     "end_time": "2023-08-13T09:36:06.245606",
     "exception": false,
     "start_time": "2023-08-13T09:36:06.125054",
     "status": "completed"
    },
    "tags": []
   },
   "outputs": [],
   "source": [
    "# best4 = [\"audienceScore\", \"rating\", \"isFrequentReviewer\", \"reviewText\"]\n",
    "# best4"
   ]
  },
  {
   "cell_type": "code",
   "execution_count": 189,
   "id": "c3cfd643",
   "metadata": {
    "execution": {
     "iopub.execute_input": "2023-08-13T09:36:06.472104Z",
     "iopub.status.busy": "2023-08-13T09:36:06.471646Z",
     "iopub.status.idle": "2023-08-13T09:36:06.475775Z",
     "shell.execute_reply": "2023-08-13T09:36:06.475038Z"
    },
    "papermill": {
     "duration": 0.120406,
     "end_time": "2023-08-13T09:36:06.478350",
     "exception": false,
     "start_time": "2023-08-13T09:36:06.357944",
     "status": "completed"
    },
    "tags": []
   },
   "outputs": [],
   "source": [
    "# submit_v2(selected_model=pipe_RTonly, selected_features=['reviewText'])"
   ]
  },
  {
   "cell_type": "markdown",
   "id": "60269127",
   "metadata": {
    "papermill": {
     "duration": 0.113068,
     "end_time": "2023-08-13T09:36:06.707191",
     "exception": false,
     "start_time": "2023-08-13T09:36:06.594123",
     "status": "completed"
    },
    "tags": []
   },
   "source": [
    "### Inspect the submission.csv file  "
   ]
  },
  {
   "cell_type": "code",
   "execution_count": 190,
   "id": "5b3f82f2",
   "metadata": {
    "execution": {
     "iopub.execute_input": "2023-08-13T09:36:06.935926Z",
     "iopub.status.busy": "2023-08-13T09:36:06.935540Z",
     "iopub.status.idle": "2023-08-13T09:36:06.939681Z",
     "shell.execute_reply": "2023-08-13T09:36:06.938657Z"
    },
    "papermill": {
     "duration": 0.121937,
     "end_time": "2023-08-13T09:36:06.941947",
     "exception": false,
     "start_time": "2023-08-13T09:36:06.820010",
     "status": "completed"
    },
    "tags": []
   },
   "outputs": [],
   "source": [
    "# sub = pd.read_csv('submission.csv')\n",
    "# sub.shape, sub.head()"
   ]
  },
  {
   "cell_type": "code",
   "execution_count": 191,
   "id": "7f4e943e",
   "metadata": {
    "execution": {
     "iopub.execute_input": "2023-08-13T09:36:07.173478Z",
     "iopub.status.busy": "2023-08-13T09:36:07.172835Z",
     "iopub.status.idle": "2023-08-13T09:36:07.177067Z",
     "shell.execute_reply": "2023-08-13T09:36:07.175943Z"
    },
    "papermill": {
     "duration": 0.122228,
     "end_time": "2023-08-13T09:36:07.179455",
     "exception": false,
     "start_time": "2023-08-13T09:36:07.057227",
     "status": "completed"
    },
    "tags": []
   },
   "outputs": [],
   "source": [
    "# sub['sentiment'].value_counts()"
   ]
  },
  {
   "cell_type": "markdown",
   "id": "b0a5bc57",
   "metadata": {
    "papermill": {
     "duration": 0.113844,
     "end_time": "2023-08-13T09:36:07.406593",
     "exception": false,
     "start_time": "2023-08-13T09:36:07.292749",
     "status": "completed"
    },
    "tags": []
   },
   "source": [
    "## submit_v3 for merged file models - does not retrain on whole data  "
   ]
  },
  {
   "cell_type": "code",
   "execution_count": 192,
   "id": "21a6cd17",
   "metadata": {
    "execution": {
     "iopub.execute_input": "2023-08-13T09:36:07.632855Z",
     "iopub.status.busy": "2023-08-13T09:36:07.632388Z",
     "iopub.status.idle": "2023-08-13T09:36:07.637953Z",
     "shell.execute_reply": "2023-08-13T09:36:07.636669Z"
    },
    "papermill": {
     "duration": 0.122293,
     "end_time": "2023-08-13T09:36:07.640621",
     "exception": false,
     "start_time": "2023-08-13T09:36:07.518328",
     "status": "completed"
    },
    "tags": []
   },
   "outputs": [],
   "source": [
    "# def submit_v3(selected_model=pipe_final):\n",
    "#     '''\n",
    "#     Note that \"selected_preprocessor\" is already used within selected_model or pipeline\n",
    "#     '''\n",
    "      \n",
    "#     # Predict on test.csv file\n",
    "#     merged_test = select_features(load_csv(\"test\"), load_csv(\"movies\"))\n",
    "#     X_test = merged_test.copy()\n",
    "    \n",
    "#     X_test = X_test[[\"audienceScore\", \"rating\", \"isFrequentReviewer\", \"reviewText\"]]    # This is a new line\n",
    "\n",
    "    \n",
    "#     y_pred = selected_model.predict(X_test)\n",
    "    \n",
    "#     pred_df = pd.DataFrame(y_pred)\n",
    "#     pred_df.columns = [\"sentiment\"]\n",
    "#     pred_df.index.name = \"id\"\n",
    "#     pred_df.to_csv(\"submission.csv\")\n",
    "    \n",
    "#     return \"Successfully created the submission file!!!\""
   ]
  },
  {
   "cell_type": "markdown",
   "id": "a633a16d",
   "metadata": {
    "papermill": {
     "duration": 0.113566,
     "end_time": "2023-08-13T09:36:07.868572",
     "exception": false,
     "start_time": "2023-08-13T09:36:07.755006",
     "status": "completed"
    },
    "tags": []
   },
   "source": [
    "### Uncomment to submit using v3 of submit function  "
   ]
  },
  {
   "cell_type": "code",
   "execution_count": 193,
   "id": "6618493f",
   "metadata": {
    "execution": {
     "iopub.execute_input": "2023-08-13T09:36:08.099743Z",
     "iopub.status.busy": "2023-08-13T09:36:08.099322Z",
     "iopub.status.idle": "2023-08-13T09:36:08.104395Z",
     "shell.execute_reply": "2023-08-13T09:36:08.103218Z"
    },
    "papermill": {
     "duration": 0.123859,
     "end_time": "2023-08-13T09:36:08.107003",
     "exception": false,
     "start_time": "2023-08-13T09:36:07.983144",
     "status": "completed"
    },
    "tags": []
   },
   "outputs": [],
   "source": [
    "# submit_v3(selected_model=pipe_best4)"
   ]
  },
  {
   "cell_type": "markdown",
   "id": "62ffb549",
   "metadata": {
    "papermill": {
     "duration": 0.112059,
     "end_time": "2023-08-13T09:36:08.335011",
     "exception": false,
     "start_time": "2023-08-13T09:36:08.222952",
     "status": "completed"
    },
    "tags": []
   },
   "source": [
    "## Rough work  "
   ]
  },
  {
   "cell_type": "code",
   "execution_count": 194,
   "id": "8de95ecb",
   "metadata": {
    "execution": {
     "iopub.execute_input": "2023-08-13T09:36:08.563753Z",
     "iopub.status.busy": "2023-08-13T09:36:08.562994Z",
     "iopub.status.idle": "2023-08-13T09:36:14.650566Z",
     "shell.execute_reply": "2023-08-13T09:36:14.649494Z"
    },
    "papermill": {
     "duration": 6.204359,
     "end_time": "2023-08-13T09:36:14.653229",
     "exception": false,
     "start_time": "2023-08-13T09:36:08.448870",
     "status": "completed"
    },
    "tags": []
   },
   "outputs": [],
   "source": [
    "    # Predict on test.csv file\n",
    "    merged_test = select_features(load_csv(\"test\"), load_csv(\"movies\"))\n",
    "    X_test = merged_test.copy()\n",
    "    \n",
    "    X_test = X_test[[\"audienceScore\", \"rating\", \"isFrequentReviewer\", \"reviewText\"]]    # This is a new line"
   ]
  },
  {
   "cell_type": "code",
   "execution_count": 195,
   "id": "552b5851",
   "metadata": {
    "execution": {
     "iopub.execute_input": "2023-08-13T09:36:14.881268Z",
     "iopub.status.busy": "2023-08-13T09:36:14.880530Z",
     "iopub.status.idle": "2023-08-13T09:36:14.885380Z",
     "shell.execute_reply": "2023-08-13T09:36:14.884423Z"
    },
    "papermill": {
     "duration": 0.122166,
     "end_time": "2023-08-13T09:36:14.887829",
     "exception": false,
     "start_time": "2023-08-13T09:36:14.765663",
     "status": "completed"
    },
    "tags": []
   },
   "outputs": [],
   "source": [
    "# X_test.head()"
   ]
  },
  {
   "cell_type": "code",
   "execution_count": 196,
   "id": "4866ace9",
   "metadata": {
    "execution": {
     "iopub.execute_input": "2023-08-13T09:36:15.118617Z",
     "iopub.status.busy": "2023-08-13T09:36:15.117956Z",
     "iopub.status.idle": "2023-08-13T09:36:15.122481Z",
     "shell.execute_reply": "2023-08-13T09:36:15.121613Z"
    },
    "papermill": {
     "duration": 0.122517,
     "end_time": "2023-08-13T09:36:15.124740",
     "exception": false,
     "start_time": "2023-08-13T09:36:15.002223",
     "status": "completed"
    },
    "tags": []
   },
   "outputs": [],
   "source": [
    "# X_test['audienceScore'].describe()"
   ]
  },
  {
   "cell_type": "code",
   "execution_count": 197,
   "id": "1f054e4d",
   "metadata": {
    "execution": {
     "iopub.execute_input": "2023-08-13T09:36:15.352098Z",
     "iopub.status.busy": "2023-08-13T09:36:15.351646Z",
     "iopub.status.idle": "2023-08-13T09:36:15.356204Z",
     "shell.execute_reply": "2023-08-13T09:36:15.355078Z"
    },
    "papermill": {
     "duration": 0.121057,
     "end_time": "2023-08-13T09:36:15.358571",
     "exception": false,
     "start_time": "2023-08-13T09:36:15.237514",
     "status": "completed"
    },
    "tags": []
   },
   "outputs": [],
   "source": [
    "# X_test['rating'].value_counts()"
   ]
  },
  {
   "cell_type": "code",
   "execution_count": 198,
   "id": "49e6a464",
   "metadata": {
    "execution": {
     "iopub.execute_input": "2023-08-13T09:36:15.587490Z",
     "iopub.status.busy": "2023-08-13T09:36:15.586247Z",
     "iopub.status.idle": "2023-08-13T09:36:15.591672Z",
     "shell.execute_reply": "2023-08-13T09:36:15.590457Z"
    },
    "papermill": {
     "duration": 0.122285,
     "end_time": "2023-08-13T09:36:15.594104",
     "exception": false,
     "start_time": "2023-08-13T09:36:15.471819",
     "status": "completed"
    },
    "tags": []
   },
   "outputs": [],
   "source": [
    "# X_test['isFrequentReviewer'].value_counts()"
   ]
  },
  {
   "cell_type": "markdown",
   "id": "1e934b69",
   "metadata": {
    "papermill": {
     "duration": 0.118056,
     "end_time": "2023-08-13T09:36:15.827367",
     "exception": false,
     "start_time": "2023-08-13T09:36:15.709311",
     "status": "completed"
    },
    "tags": []
   },
   "source": [
    "## Implement KNN classifier  "
   ]
  },
  {
   "cell_type": "code",
   "execution_count": 199,
   "id": "0b24be91",
   "metadata": {
    "execution": {
     "iopub.execute_input": "2023-08-13T09:36:16.080191Z",
     "iopub.status.busy": "2023-08-13T09:36:16.078919Z",
     "iopub.status.idle": "2023-08-13T09:36:16.083738Z",
     "shell.execute_reply": "2023-08-13T09:36:16.082843Z"
    },
    "papermill": {
     "duration": 0.124543,
     "end_time": "2023-08-13T09:36:16.086096",
     "exception": false,
     "start_time": "2023-08-13T09:36:15.961553",
     "status": "completed"
    },
    "tags": []
   },
   "outputs": [],
   "source": [
    "# from sklearn.neighbors import KNeighborsClassifier"
   ]
  },
  {
   "cell_type": "code",
   "execution_count": 200,
   "id": "b5ce8eee",
   "metadata": {
    "execution": {
     "iopub.execute_input": "2023-08-13T09:36:16.315318Z",
     "iopub.status.busy": "2023-08-13T09:36:16.314571Z",
     "iopub.status.idle": "2023-08-13T09:36:16.319862Z",
     "shell.execute_reply": "2023-08-13T09:36:16.318711Z"
    },
    "papermill": {
     "duration": 0.121679,
     "end_time": "2023-08-13T09:36:16.322170",
     "exception": false,
     "start_time": "2023-08-13T09:36:16.200491",
     "status": "completed"
    },
    "tags": []
   },
   "outputs": [],
   "source": [
    "# Note that we are borrowing \"ct_final\" column transformer from above  "
   ]
  },
  {
   "cell_type": "code",
   "execution_count": 201,
   "id": "a2d73879",
   "metadata": {
    "execution": {
     "iopub.execute_input": "2023-08-13T09:36:16.551228Z",
     "iopub.status.busy": "2023-08-13T09:36:16.549857Z",
     "iopub.status.idle": "2023-08-13T09:36:16.554971Z",
     "shell.execute_reply": "2023-08-13T09:36:16.554076Z"
    },
    "papermill": {
     "duration": 0.121559,
     "end_time": "2023-08-13T09:36:16.557322",
     "exception": false,
     "start_time": "2023-08-13T09:36:16.435763",
     "status": "completed"
    },
    "tags": []
   },
   "outputs": [],
   "source": [
    "# pipe_knn = Pipeline(steps=[\n",
    "#                         (\"preprocessor\", ct_final),\n",
    "#                         (\"model\", KNeighborsClassifier())\n",
    "#                     ])\n",
    "# pipe_knn"
   ]
  },
  {
   "cell_type": "code",
   "execution_count": 202,
   "id": "674fed11",
   "metadata": {
    "execution": {
     "iopub.execute_input": "2023-08-13T09:36:16.785238Z",
     "iopub.status.busy": "2023-08-13T09:36:16.784468Z",
     "iopub.status.idle": "2023-08-13T09:36:16.788443Z",
     "shell.execute_reply": "2023-08-13T09:36:16.787644Z"
    },
    "papermill": {
     "duration": 0.120429,
     "end_time": "2023-08-13T09:36:16.790590",
     "exception": false,
     "start_time": "2023-08-13T09:36:16.670161",
     "status": "completed"
    },
    "tags": []
   },
   "outputs": [],
   "source": [
    "# Train and predict on merged training data  \n",
    "# split_train_predict(merged_train_features, merged_train_labels, pipe_knn, test_size=0.25, random_state=42)"
   ]
  },
  {
   "cell_type": "markdown",
   "id": "503d1950",
   "metadata": {
    "papermill": {
     "duration": 0.115436,
     "end_time": "2023-08-13T09:36:17.018652",
     "exception": false,
     "start_time": "2023-08-13T09:36:16.903216",
     "status": "completed"
    },
    "tags": []
   },
   "source": [
    "# Part I (Older code)  "
   ]
  },
  {
   "cell_type": "markdown",
   "id": "6d42ea1b",
   "metadata": {
    "papermill": {
     "duration": 0.113062,
     "end_time": "2023-08-13T09:36:17.245995",
     "exception": false,
     "start_time": "2023-08-13T09:36:17.132933",
     "status": "completed"
    },
    "tags": []
   },
   "source": [
    "### Logistic Regression with stop words  "
   ]
  },
  {
   "cell_type": "code",
   "execution_count": 203,
   "id": "365bb46b",
   "metadata": {
    "execution": {
     "iopub.execute_input": "2023-08-13T09:36:17.546244Z",
     "iopub.status.busy": "2023-08-13T09:36:17.545756Z",
     "iopub.status.idle": "2023-08-13T09:36:17.550715Z",
     "shell.execute_reply": "2023-08-13T09:36:17.549269Z"
    },
    "papermill": {
     "duration": 0.122245,
     "end_time": "2023-08-13T09:36:17.553117",
     "exception": false,
     "start_time": "2023-08-13T09:36:17.430872",
     "status": "completed"
    },
    "tags": []
   },
   "outputs": [],
   "source": [
    "# tvec_sw = TfidfVectorizer(stop_words=stop_words)"
   ]
  },
  {
   "cell_type": "code",
   "execution_count": 204,
   "id": "20641830",
   "metadata": {
    "execution": {
     "iopub.execute_input": "2023-08-13T09:36:17.780707Z",
     "iopub.status.busy": "2023-08-13T09:36:17.780278Z",
     "iopub.status.idle": "2023-08-13T09:36:17.785158Z",
     "shell.execute_reply": "2023-08-13T09:36:17.784065Z"
    },
    "papermill": {
     "duration": 0.121391,
     "end_time": "2023-08-13T09:36:17.787527",
     "exception": false,
     "start_time": "2023-08-13T09:36:17.666136",
     "status": "completed"
    },
    "tags": []
   },
   "outputs": [],
   "source": [
    "# logreg_sw_pipe = preprocess_n_train(X_train, y_train, tvec_sw, logreg)\n",
    "# logreg_sw_pipe"
   ]
  },
  {
   "cell_type": "code",
   "execution_count": 205,
   "id": "010fc3c4",
   "metadata": {
    "execution": {
     "iopub.execute_input": "2023-08-13T09:36:18.019914Z",
     "iopub.status.busy": "2023-08-13T09:36:18.018981Z",
     "iopub.status.idle": "2023-08-13T09:36:18.023828Z",
     "shell.execute_reply": "2023-08-13T09:36:18.022910Z"
    },
    "papermill": {
     "duration": 0.125407,
     "end_time": "2023-08-13T09:36:18.026217",
     "exception": false,
     "start_time": "2023-08-13T09:36:17.900810",
     "status": "completed"
    },
    "tags": []
   },
   "outputs": [],
   "source": [
    "# y_pred_logreg_sw = predict_n_evaluate(logreg_sw_pipe, X_test, y_test)\n",
    "# y_pred_logreg_sw"
   ]
  },
  {
   "cell_type": "markdown",
   "id": "49a695ad",
   "metadata": {
    "papermill": {
     "duration": 0.117157,
     "end_time": "2023-08-13T09:36:18.258440",
     "exception": false,
     "start_time": "2023-08-13T09:36:18.141283",
     "status": "completed"
    },
    "tags": []
   },
   "source": [
    "### Logistic regression with different ngram ranges  "
   ]
  },
  {
   "cell_type": "code",
   "execution_count": 206,
   "id": "e808eee5",
   "metadata": {
    "execution": {
     "iopub.execute_input": "2023-08-13T09:36:18.486705Z",
     "iopub.status.busy": "2023-08-13T09:36:18.486270Z",
     "iopub.status.idle": "2023-08-13T09:36:18.491265Z",
     "shell.execute_reply": "2023-08-13T09:36:18.490071Z"
    },
    "papermill": {
     "duration": 0.121612,
     "end_time": "2023-08-13T09:36:18.493541",
     "exception": false,
     "start_time": "2023-08-13T09:36:18.371929",
     "status": "completed"
    },
    "tags": []
   },
   "outputs": [],
   "source": [
    "# tvec_ngram_2 = TfidfVectorizer(ngram_range=(1,2))"
   ]
  },
  {
   "cell_type": "code",
   "execution_count": 207,
   "id": "f2e8bafd",
   "metadata": {
    "execution": {
     "iopub.execute_input": "2023-08-13T09:36:18.723503Z",
     "iopub.status.busy": "2023-08-13T09:36:18.722224Z",
     "iopub.status.idle": "2023-08-13T09:36:18.727240Z",
     "shell.execute_reply": "2023-08-13T09:36:18.726430Z"
    },
    "papermill": {
     "duration": 0.121495,
     "end_time": "2023-08-13T09:36:18.729454",
     "exception": false,
     "start_time": "2023-08-13T09:36:18.607959",
     "status": "completed"
    },
    "tags": []
   },
   "outputs": [],
   "source": [
    "# logreg_ng2_pipe = preprocess_n_train(X_train, y_train, tvec_ngram_2, logreg)\n",
    "# logreg_ng2_pipe"
   ]
  },
  {
   "cell_type": "code",
   "execution_count": 208,
   "id": "84e0fe78",
   "metadata": {
    "execution": {
     "iopub.execute_input": "2023-08-13T09:36:18.960086Z",
     "iopub.status.busy": "2023-08-13T09:36:18.958971Z",
     "iopub.status.idle": "2023-08-13T09:36:18.964169Z",
     "shell.execute_reply": "2023-08-13T09:36:18.962956Z"
    },
    "papermill": {
     "duration": 0.123551,
     "end_time": "2023-08-13T09:36:18.966719",
     "exception": false,
     "start_time": "2023-08-13T09:36:18.843168",
     "status": "completed"
    },
    "tags": []
   },
   "outputs": [],
   "source": [
    "# y_pred_logreg_ng2 = predict_n_evaluate(logreg_ng2_pipe, X_test, y_test)\n",
    "# y_pred_logreg_ng2"
   ]
  },
  {
   "cell_type": "markdown",
   "id": "d754e13a",
   "metadata": {
    "papermill": {
     "duration": 0.115829,
     "end_time": "2023-08-13T09:36:19.200057",
     "exception": false,
     "start_time": "2023-08-13T09:36:19.084228",
     "status": "completed"
    },
    "tags": []
   },
   "source": [
    "### Logistic regression with C=2, ngram range (1,2), stop words as None and min_df, max_df adjusted\n",
    "### Class weight balanced"
   ]
  },
  {
   "cell_type": "code",
   "execution_count": 209,
   "id": "dc704e18",
   "metadata": {
    "execution": {
     "iopub.execute_input": "2023-08-13T09:36:19.431390Z",
     "iopub.status.busy": "2023-08-13T09:36:19.430559Z",
     "iopub.status.idle": "2023-08-13T09:36:19.435347Z",
     "shell.execute_reply": "2023-08-13T09:36:19.434520Z"
    },
    "papermill": {
     "duration": 0.122727,
     "end_time": "2023-08-13T09:36:19.437589",
     "exception": false,
     "start_time": "2023-08-13T09:36:19.314862",
     "status": "completed"
    },
    "tags": []
   },
   "outputs": [],
   "source": [
    "# logreg = LogisticRegression(max_iter=100000, C=2, class_weight=\"balanced\")"
   ]
  },
  {
   "cell_type": "code",
   "execution_count": 210,
   "id": "a59e6bde",
   "metadata": {
    "execution": {
     "iopub.execute_input": "2023-08-13T09:36:19.666496Z",
     "iopub.status.busy": "2023-08-13T09:36:19.665486Z",
     "iopub.status.idle": "2023-08-13T09:36:19.670834Z",
     "shell.execute_reply": "2023-08-13T09:36:19.669951Z"
    },
    "papermill": {
     "duration": 0.123446,
     "end_time": "2023-08-13T09:36:19.673285",
     "exception": false,
     "start_time": "2023-08-13T09:36:19.549839",
     "status": "completed"
    },
    "tags": []
   },
   "outputs": [],
   "source": [
    "# tvec_ngram_2_sw_df = TfidfVectorizer(ngram_range=(1,2), stop_words=None, min_df=0.0001, max_df=0.50)\n",
    "# tvec_ngram_2_sw_df"
   ]
  },
  {
   "cell_type": "code",
   "execution_count": 211,
   "id": "c3c3ea9b",
   "metadata": {
    "execution": {
     "iopub.execute_input": "2023-08-13T09:36:19.905623Z",
     "iopub.status.busy": "2023-08-13T09:36:19.904763Z",
     "iopub.status.idle": "2023-08-13T09:36:19.909798Z",
     "shell.execute_reply": "2023-08-13T09:36:19.908992Z"
    },
    "papermill": {
     "duration": 0.124151,
     "end_time": "2023-08-13T09:36:19.912108",
     "exception": false,
     "start_time": "2023-08-13T09:36:19.787957",
     "status": "completed"
    },
    "tags": []
   },
   "outputs": [],
   "source": [
    "# logreg_ng2_sw_df_pipe = preprocess_n_train(X_train, y_train, tvec_ngram_2_sw_df, logreg)\n",
    "# logreg_ng2_sw_df_pipe"
   ]
  },
  {
   "cell_type": "code",
   "execution_count": 212,
   "id": "4ab785f9",
   "metadata": {
    "execution": {
     "iopub.execute_input": "2023-08-13T09:36:20.144098Z",
     "iopub.status.busy": "2023-08-13T09:36:20.143227Z",
     "iopub.status.idle": "2023-08-13T09:36:20.147831Z",
     "shell.execute_reply": "2023-08-13T09:36:20.147092Z"
    },
    "papermill": {
     "duration": 0.121353,
     "end_time": "2023-08-13T09:36:20.150140",
     "exception": false,
     "start_time": "2023-08-13T09:36:20.028787",
     "status": "completed"
    },
    "tags": []
   },
   "outputs": [],
   "source": [
    "# y_pred_logreg_ng2_sw_df = predict_n_evaluate(logreg_ng2_sw_df_pipe, X_test, y_test)\n",
    "# y_pred_logreg_ng2_sw_df"
   ]
  },
  {
   "cell_type": "markdown",
   "id": "06d97539",
   "metadata": {
    "papermill": {
     "duration": 0.113529,
     "end_time": "2023-08-13T09:36:20.378322",
     "exception": false,
     "start_time": "2023-08-13T09:36:20.264793",
     "status": "completed"
    },
    "tags": []
   },
   "source": [
    "### Log reg with parameters from GridSearchCV  \n",
    "\n",
    "`This is the best score with \"reviewText column alone for analysis`  "
   ]
  },
  {
   "cell_type": "code",
   "execution_count": 213,
   "id": "49a3f047",
   "metadata": {
    "execution": {
     "iopub.execute_input": "2023-08-13T09:36:20.607612Z",
     "iopub.status.busy": "2023-08-13T09:36:20.606799Z",
     "iopub.status.idle": "2023-08-13T09:36:20.612329Z",
     "shell.execute_reply": "2023-08-13T09:36:20.611473Z"
    },
    "papermill": {
     "duration": 0.121998,
     "end_time": "2023-08-13T09:36:20.614608",
     "exception": false,
     "start_time": "2023-08-13T09:36:20.492610",
     "status": "completed"
    },
    "tags": []
   },
   "outputs": [],
   "source": [
    "logreg_cv1 = LogisticRegression(max_iter=100000, C=10)\n",
    "tvec_cv1 = TfidfVectorizer(max_features=None, ngram_range=(1,2))"
   ]
  },
  {
   "cell_type": "code",
   "execution_count": 214,
   "id": "023e922f",
   "metadata": {
    "execution": {
     "iopub.execute_input": "2023-08-13T09:36:20.842200Z",
     "iopub.status.busy": "2023-08-13T09:36:20.841700Z",
     "iopub.status.idle": "2023-08-13T09:36:20.847147Z",
     "shell.execute_reply": "2023-08-13T09:36:20.845970Z"
    },
    "papermill": {
     "duration": 0.121921,
     "end_time": "2023-08-13T09:36:20.849445",
     "exception": false,
     "start_time": "2023-08-13T09:36:20.727524",
     "status": "completed"
    },
    "tags": []
   },
   "outputs": [],
   "source": [
    "pipe_cv1 = Pipeline(steps=[\n",
    "    (\"preprocessor\", tvec_cv1),\n",
    "    (\"model\", logreg_cv1)\n",
    "])"
   ]
  },
  {
   "cell_type": "code",
   "execution_count": 215,
   "id": "e2903b5f",
   "metadata": {
    "execution": {
     "iopub.execute_input": "2023-08-13T09:36:21.084069Z",
     "iopub.status.busy": "2023-08-13T09:36:21.083216Z",
     "iopub.status.idle": "2023-08-13T09:36:21.088237Z",
     "shell.execute_reply": "2023-08-13T09:36:21.087348Z"
    },
    "papermill": {
     "duration": 0.126651,
     "end_time": "2023-08-13T09:36:21.090629",
     "exception": false,
     "start_time": "2023-08-13T09:36:20.963978",
     "status": "completed"
    },
    "tags": []
   },
   "outputs": [],
   "source": [
    "# pipe_cv1.fit(X_train, y_train)"
   ]
  },
  {
   "cell_type": "code",
   "execution_count": 216,
   "id": "72cd7d68",
   "metadata": {
    "execution": {
     "iopub.execute_input": "2023-08-13T09:36:21.319961Z",
     "iopub.status.busy": "2023-08-13T09:36:21.319138Z",
     "iopub.status.idle": "2023-08-13T09:36:21.324059Z",
     "shell.execute_reply": "2023-08-13T09:36:21.323258Z"
    },
    "papermill": {
     "duration": 0.121592,
     "end_time": "2023-08-13T09:36:21.326393",
     "exception": false,
     "start_time": "2023-08-13T09:36:21.204801",
     "status": "completed"
    },
    "tags": []
   },
   "outputs": [],
   "source": [
    "# pipe_cv1.score(X_train, y_train)"
   ]
  },
  {
   "cell_type": "markdown",
   "id": "3a78203c",
   "metadata": {
    "papermill": {
     "duration": 0.113162,
     "end_time": "2023-08-13T09:36:21.555527",
     "exception": false,
     "start_time": "2023-08-13T09:36:21.442365",
     "status": "completed"
    },
    "tags": []
   },
   "source": [
    "### SVM model with stop words  "
   ]
  },
  {
   "cell_type": "code",
   "execution_count": 217,
   "id": "0bcb3599",
   "metadata": {
    "execution": {
     "iopub.execute_input": "2023-08-13T09:36:21.786863Z",
     "iopub.status.busy": "2023-08-13T09:36:21.785973Z",
     "iopub.status.idle": "2023-08-13T09:36:21.790964Z",
     "shell.execute_reply": "2023-08-13T09:36:21.790076Z"
    },
    "papermill": {
     "duration": 0.123196,
     "end_time": "2023-08-13T09:36:21.793398",
     "exception": false,
     "start_time": "2023-08-13T09:36:21.670202",
     "status": "completed"
    },
    "tags": []
   },
   "outputs": [],
   "source": [
    "# svm_sw_pipe = preprocess_n_train(X_train, y_train, tvec_sw, svm)\n",
    "# svm_sw_pipe"
   ]
  },
  {
   "cell_type": "code",
   "execution_count": 218,
   "id": "7f09d1c9",
   "metadata": {
    "execution": {
     "iopub.execute_input": "2023-08-13T09:36:22.025299Z",
     "iopub.status.busy": "2023-08-13T09:36:22.024859Z",
     "iopub.status.idle": "2023-08-13T09:36:22.029452Z",
     "shell.execute_reply": "2023-08-13T09:36:22.028179Z"
    },
    "papermill": {
     "duration": 0.12497,
     "end_time": "2023-08-13T09:36:22.032050",
     "exception": false,
     "start_time": "2023-08-13T09:36:21.907080",
     "status": "completed"
    },
    "tags": []
   },
   "outputs": [],
   "source": [
    "# y_pred_svm_sw = predict_n_evaluate(svm_sw_pipe, X_test, y_test)\n",
    "# y_pred_svm_sw"
   ]
  },
  {
   "cell_type": "markdown",
   "id": "cdd877a2",
   "metadata": {
    "papermill": {
     "duration": 0.114875,
     "end_time": "2023-08-13T09:36:22.261150",
     "exception": false,
     "start_time": "2023-08-13T09:36:22.146275",
     "status": "completed"
    },
    "tags": []
   },
   "source": [
    "### GaussianNB  "
   ]
  },
  {
   "cell_type": "markdown",
   "id": "5963c0c9",
   "metadata": {
    "papermill": {
     "duration": 0.112562,
     "end_time": "2023-08-13T09:36:22.486816",
     "exception": false,
     "start_time": "2023-08-13T09:36:22.374254",
     "status": "completed"
    },
    "tags": []
   },
   "source": [
    "https://stackoverflow.com/questions/28384680/scikit-learns-pipeline-a-sparse-matrix-was-passed-but-dense-data-is-required"
   ]
  },
  {
   "cell_type": "code",
   "execution_count": 219,
   "id": "577e53c1",
   "metadata": {
    "execution": {
     "iopub.execute_input": "2023-08-13T09:36:22.714591Z",
     "iopub.status.busy": "2023-08-13T09:36:22.713854Z",
     "iopub.status.idle": "2023-08-13T09:36:22.717678Z",
     "shell.execute_reply": "2023-08-13T09:36:22.716860Z"
    },
    "papermill": {
     "duration": 0.120389,
     "end_time": "2023-08-13T09:36:22.719893",
     "exception": false,
     "start_time": "2023-08-13T09:36:22.599504",
     "status": "completed"
    },
    "tags": []
   },
   "outputs": [],
   "source": [
    "# gnb = GaussianNB()\n",
    "# gnb"
   ]
  },
  {
   "cell_type": "code",
   "execution_count": 220,
   "id": "2d533158",
   "metadata": {
    "execution": {
     "iopub.execute_input": "2023-08-13T09:36:22.948769Z",
     "iopub.status.busy": "2023-08-13T09:36:22.948087Z",
     "iopub.status.idle": "2023-08-13T09:36:22.952901Z",
     "shell.execute_reply": "2023-08-13T09:36:22.952009Z"
    },
    "papermill": {
     "duration": 0.121822,
     "end_time": "2023-08-13T09:36:22.955306",
     "exception": false,
     "start_time": "2023-08-13T09:36:22.833484",
     "status": "completed"
    },
    "tags": []
   },
   "outputs": [],
   "source": [
    "# gnb_pipe = preprocess_n_train(X_train, y_train, tvec, gnb)\n",
    "# gnb_pipe"
   ]
  },
  {
   "cell_type": "markdown",
   "id": "7cb98c55",
   "metadata": {
    "papermill": {
     "duration": 0.112972,
     "end_time": "2023-08-13T09:36:23.182630",
     "exception": false,
     "start_time": "2023-08-13T09:36:23.069658",
     "status": "completed"
    },
    "tags": []
   },
   "source": [
    "# Part II (Older code)  \n"
   ]
  },
  {
   "cell_type": "markdown",
   "id": "3a6ae9d3",
   "metadata": {
    "papermill": {
     "duration": 0.112925,
     "end_time": "2023-08-13T09:36:23.411410",
     "exception": false,
     "start_time": "2023-08-13T09:36:23.298485",
     "status": "completed"
    },
    "tags": []
   },
   "source": [
    "### Separate features and labels from merged dataset  "
   ]
  },
  {
   "cell_type": "code",
   "execution_count": 221,
   "id": "fd972002",
   "metadata": {
    "execution": {
     "iopub.execute_input": "2023-08-13T09:36:23.640937Z",
     "iopub.status.busy": "2023-08-13T09:36:23.640001Z",
     "iopub.status.idle": "2023-08-13T09:36:23.644194Z",
     "shell.execute_reply": "2023-08-13T09:36:23.643444Z"
    },
    "papermill": {
     "duration": 0.12176,
     "end_time": "2023-08-13T09:36:23.646302",
     "exception": false,
     "start_time": "2023-08-13T09:36:23.524542",
     "status": "completed"
    },
    "tags": []
   },
   "outputs": [],
   "source": [
    "# merged_train_features = merged[['movieid', 'reviewerName', 'isFrequentReviewer', 'reviewText',\n",
    "#        'audienceScore', 'rating', 'runtimeMinutes', 'genre',\n",
    "#        'originalLanguage', 'director']]\n",
    "# merged_train_features.shape"
   ]
  },
  {
   "cell_type": "code",
   "execution_count": 222,
   "id": "0801d06b",
   "metadata": {
    "execution": {
     "iopub.execute_input": "2023-08-13T09:36:23.874906Z",
     "iopub.status.busy": "2023-08-13T09:36:23.873875Z",
     "iopub.status.idle": "2023-08-13T09:36:23.877926Z",
     "shell.execute_reply": "2023-08-13T09:36:23.877186Z"
    },
    "papermill": {
     "duration": 0.120825,
     "end_time": "2023-08-13T09:36:23.880046",
     "exception": false,
     "start_time": "2023-08-13T09:36:23.759221",
     "status": "completed"
    },
    "tags": []
   },
   "outputs": [],
   "source": [
    "# merged_train_labels = merged[\"sentiment\"]\n",
    "# merged_train_labels.shape"
   ]
  },
  {
   "cell_type": "markdown",
   "id": "9cbc088e",
   "metadata": {
    "papermill": {
     "duration": 0.114977,
     "end_time": "2023-08-13T09:36:24.111286",
     "exception": false,
     "start_time": "2023-08-13T09:36:23.996309",
     "status": "completed"
    },
    "tags": []
   },
   "source": [
    "### Identify variable types for different preprocessing pipes  "
   ]
  },
  {
   "cell_type": "code",
   "execution_count": 223,
   "id": "2aab34f7",
   "metadata": {
    "execution": {
     "iopub.execute_input": "2023-08-13T09:36:24.341886Z",
     "iopub.status.busy": "2023-08-13T09:36:24.341265Z",
     "iopub.status.idle": "2023-08-13T09:36:24.344896Z",
     "shell.execute_reply": "2023-08-13T09:36:24.344188Z"
    },
    "papermill": {
     "duration": 0.123216,
     "end_time": "2023-08-13T09:36:24.347122",
     "exception": false,
     "start_time": "2023-08-13T09:36:24.223906",
     "status": "completed"
    },
    "tags": []
   },
   "outputs": [],
   "source": [
    "# num_vars = [\"audienceScore\", \"runtimeMinutes\"]\n",
    "# txt_vars = [\"originalLanguage\", \"genre\", \"director\", \"reviewerName\", \"reviewText\"]\n",
    "# cat_vars = [\"rating\", \"isFrequentReviewer\"]"
   ]
  },
  {
   "cell_type": "code",
   "execution_count": 224,
   "id": "e83df4aa",
   "metadata": {
    "execution": {
     "iopub.execute_input": "2023-08-13T09:36:24.576945Z",
     "iopub.status.busy": "2023-08-13T09:36:24.575860Z",
     "iopub.status.idle": "2023-08-13T09:36:24.580421Z",
     "shell.execute_reply": "2023-08-13T09:36:24.579481Z"
    },
    "papermill": {
     "duration": 0.121702,
     "end_time": "2023-08-13T09:36:24.582496",
     "exception": false,
     "start_time": "2023-08-13T09:36:24.460794",
     "status": "completed"
    },
    "tags": []
   },
   "outputs": [],
   "source": [
    "# num_pipe = Pipeline(steps=[\n",
    "#                             (\"imputer\", SimpleImputer(strategy=\"mean\", missing_values=np.nan)),\n",
    "#                             (\"scaler\", MinMaxScaler())\n",
    "#                         ])\n",
    "# num_pipe"
   ]
  },
  {
   "cell_type": "code",
   "execution_count": 225,
   "id": "f0e32d3e",
   "metadata": {
    "execution": {
     "iopub.execute_input": "2023-08-13T09:36:24.810241Z",
     "iopub.status.busy": "2023-08-13T09:36:24.809467Z",
     "iopub.status.idle": "2023-08-13T09:36:24.815277Z",
     "shell.execute_reply": "2023-08-13T09:36:24.813885Z"
    },
    "papermill": {
     "duration": 0.122062,
     "end_time": "2023-08-13T09:36:24.817545",
     "exception": false,
     "start_time": "2023-08-13T09:36:24.695483",
     "status": "completed"
    },
    "tags": []
   },
   "outputs": [],
   "source": [
    "# txt_pipe = Pipeline(steps=[\n",
    "#                             (\"tvec\", TfidfVectorizer())\n",
    "#                         ])\n",
    "# txt_pipe"
   ]
  },
  {
   "cell_type": "code",
   "execution_count": 226,
   "id": "7012e0bf",
   "metadata": {
    "execution": {
     "iopub.execute_input": "2023-08-13T09:36:25.050742Z",
     "iopub.status.busy": "2023-08-13T09:36:25.050105Z",
     "iopub.status.idle": "2023-08-13T09:36:25.054560Z",
     "shell.execute_reply": "2023-08-13T09:36:25.053791Z"
    },
    "papermill": {
     "duration": 0.126385,
     "end_time": "2023-08-13T09:36:25.056651",
     "exception": false,
     "start_time": "2023-08-13T09:36:24.930266",
     "status": "completed"
    },
    "tags": []
   },
   "outputs": [],
   "source": [
    "# cat_pipe = Pipeline(steps=[\n",
    "#                             (\"ohe\", OneHotEncoder(handle_unknown=\"ignore\"))\n",
    "#                         ])\n",
    "# cat_pipe"
   ]
  },
  {
   "cell_type": "code",
   "execution_count": 227,
   "id": "81c218d8",
   "metadata": {
    "execution": {
     "iopub.execute_input": "2023-08-13T09:36:25.287845Z",
     "iopub.status.busy": "2023-08-13T09:36:25.287413Z",
     "iopub.status.idle": "2023-08-13T09:36:25.291778Z",
     "shell.execute_reply": "2023-08-13T09:36:25.290958Z"
    },
    "papermill": {
     "duration": 0.124485,
     "end_time": "2023-08-13T09:36:25.293881",
     "exception": false,
     "start_time": "2023-08-13T09:36:25.169396",
     "status": "completed"
    },
    "tags": []
   },
   "outputs": [],
   "source": [
    "# tfidf_vec_1 = TfidfVectorizer(ngram_range=(1,2))\n",
    "# tfidf_vec_1"
   ]
  },
  {
   "cell_type": "code",
   "execution_count": 228,
   "id": "4f9f964b",
   "metadata": {
    "execution": {
     "iopub.execute_input": "2023-08-13T09:36:25.522391Z",
     "iopub.status.busy": "2023-08-13T09:36:25.521594Z",
     "iopub.status.idle": "2023-08-13T09:36:25.526558Z",
     "shell.execute_reply": "2023-08-13T09:36:25.525712Z"
    },
    "papermill": {
     "duration": 0.121367,
     "end_time": "2023-08-13T09:36:25.528533",
     "exception": false,
     "start_time": "2023-08-13T09:36:25.407166",
     "status": "completed"
    },
    "tags": []
   },
   "outputs": [],
   "source": [
    "# ct_final = ColumnTransformer(transformers=[\n",
    "#                                         (\"num\", num_pipe, num_vars),\n",
    "#                                         (\"txt1\", txt_pipe, \"originalLanguage\"),\n",
    "#                                         (\"txt2\", txt_pipe, \"genre\"),\n",
    "#                                         (\"txt3\", txt_pipe, \"director\"),\n",
    "#                                         (\"cat\", cat_pipe, cat_vars),\n",
    "#                                         (\"txt4a\", tfidf_vec_1, \"reviewText\")\n",
    "# #                                         (\"txt4\", TfidfVectorizer(ngram_range=(1,2)), \"reviewText\"),\n",
    "# #                                         (\"cat2\", cat_pipe, [\"isFrequentReviewer\"])\n",
    "#                                         ], remainder=\"drop\", n_jobs=1)\n",
    "\n",
    "# # Note that this transformer drops \"movieid\" column and \"reviewerName\" column  \n",
    "# ct_final"
   ]
  },
  {
   "cell_type": "code",
   "execution_count": 229,
   "id": "f69472b0",
   "metadata": {
    "execution": {
     "iopub.execute_input": "2023-08-13T09:36:25.832781Z",
     "iopub.status.busy": "2023-08-13T09:36:25.832003Z",
     "iopub.status.idle": "2023-08-13T09:36:25.836461Z",
     "shell.execute_reply": "2023-08-13T09:36:25.835574Z"
    },
    "papermill": {
     "duration": 0.124978,
     "end_time": "2023-08-13T09:36:25.838729",
     "exception": false,
     "start_time": "2023-08-13T09:36:25.713751",
     "status": "completed"
    },
    "tags": []
   },
   "outputs": [],
   "source": [
    "# pipe_final = Pipeline(steps=[\n",
    "#                         (\"preprocessor\", ct_final),\n",
    "#                         (\"model\", LogisticRegression(max_iter=100000))\n",
    "#                     ])\n",
    "# pipe_final"
   ]
  },
  {
   "cell_type": "code",
   "execution_count": 230,
   "id": "074c8446",
   "metadata": {
    "execution": {
     "iopub.execute_input": "2023-08-13T09:36:26.093959Z",
     "iopub.status.busy": "2023-08-13T09:36:26.093201Z",
     "iopub.status.idle": "2023-08-13T09:36:26.097041Z",
     "shell.execute_reply": "2023-08-13T09:36:26.096287Z"
    },
    "papermill": {
     "duration": 0.123612,
     "end_time": "2023-08-13T09:36:26.099197",
     "exception": false,
     "start_time": "2023-08-13T09:36:25.975585",
     "status": "completed"
    },
    "tags": []
   },
   "outputs": [],
   "source": [
    "# final_vars = num_vars + txt_vars + cat_vars\n",
    "# len(final_vars), final_vars"
   ]
  },
  {
   "cell_type": "markdown",
   "id": "5a41a78d",
   "metadata": {
    "papermill": {
     "duration": 0.1131,
     "end_time": "2023-08-13T09:36:26.326886",
     "exception": false,
     "start_time": "2023-08-13T09:36:26.213786",
     "status": "completed"
    },
    "tags": []
   },
   "source": [
    "### Use \"split_train_predict\" function to run end-to-end pipeline  "
   ]
  },
  {
   "cell_type": "code",
   "execution_count": 231,
   "id": "c9df9c45",
   "metadata": {
    "execution": {
     "iopub.execute_input": "2023-08-13T09:36:26.555194Z",
     "iopub.status.busy": "2023-08-13T09:36:26.554394Z",
     "iopub.status.idle": "2023-08-13T09:36:26.558826Z",
     "shell.execute_reply": "2023-08-13T09:36:26.557985Z"
    },
    "papermill": {
     "duration": 0.121327,
     "end_time": "2023-08-13T09:36:26.561061",
     "exception": false,
     "start_time": "2023-08-13T09:36:26.439734",
     "status": "completed"
    },
    "tags": []
   },
   "outputs": [],
   "source": [
    "# split_train_predict(merged_train_features, merged_train_labels, pipe_final, test_size=0.25, random_state=42)"
   ]
  },
  {
   "cell_type": "markdown",
   "id": "3ab9c662",
   "metadata": {
    "papermill": {
     "duration": 0.113424,
     "end_time": "2023-08-13T09:36:26.788576",
     "exception": false,
     "start_time": "2023-08-13T09:36:26.675152",
     "status": "completed"
    },
    "tags": []
   },
   "source": [
    "## Try the best four features obtained on local machine  "
   ]
  },
  {
   "cell_type": "code",
   "execution_count": 232,
   "id": "273e4800",
   "metadata": {
    "execution": {
     "iopub.execute_input": "2023-08-13T09:36:27.023434Z",
     "iopub.status.busy": "2023-08-13T09:36:27.022620Z",
     "iopub.status.idle": "2023-08-13T09:36:27.026803Z",
     "shell.execute_reply": "2023-08-13T09:36:27.026003Z"
    },
    "papermill": {
     "duration": 0.124543,
     "end_time": "2023-08-13T09:36:27.028967",
     "exception": false,
     "start_time": "2023-08-13T09:36:26.904424",
     "status": "completed"
    },
    "tags": []
   },
   "outputs": [],
   "source": [
    "# tfidf_vec_2 = TfidfVectorizer(ngram_range=(1,2))\n",
    "# tfidf_vec_2"
   ]
  },
  {
   "cell_type": "code",
   "execution_count": 233,
   "id": "344ebcc5",
   "metadata": {
    "execution": {
     "iopub.execute_input": "2023-08-13T09:36:27.257733Z",
     "iopub.status.busy": "2023-08-13T09:36:27.257003Z",
     "iopub.status.idle": "2023-08-13T09:36:27.261470Z",
     "shell.execute_reply": "2023-08-13T09:36:27.260608Z"
    },
    "papermill": {
     "duration": 0.121498,
     "end_time": "2023-08-13T09:36:27.263652",
     "exception": false,
     "start_time": "2023-08-13T09:36:27.142154",
     "status": "completed"
    },
    "tags": []
   },
   "outputs": [],
   "source": [
    "# ct_best4 = ColumnTransformer(transformers=[\n",
    "#                                             (\"num\", num_pipe, [\"audienceScore\"]),\n",
    "#                                             (\"cat\", cat_pipe, [\"rating\", \"isFrequentReviewer\"]),\n",
    "#                                             (\"tvec\", tfidf_vec_2, \"reviewText\")\n",
    "#                             ])\n",
    "\n",
    "# pipe_best4 = Pipeline(steps=[\n",
    "#     (\"preprocessor\", ct_best4),\n",
    "#     (\"model\", LogisticRegression())\n",
    "# ])\n",
    "\n",
    "# pipe_best4.set_params(model__C=10, model__max_iter=100000)\n",
    "\n",
    "# pipe_best4"
   ]
  },
  {
   "cell_type": "code",
   "execution_count": 234,
   "id": "82b91e46",
   "metadata": {
    "execution": {
     "iopub.execute_input": "2023-08-13T09:36:27.511786Z",
     "iopub.status.busy": "2023-08-13T09:36:27.510691Z",
     "iopub.status.idle": "2023-08-13T09:36:27.515859Z",
     "shell.execute_reply": "2023-08-13T09:36:27.514766Z"
    },
    "papermill": {
     "duration": 0.128286,
     "end_time": "2023-08-13T09:36:27.518171",
     "exception": false,
     "start_time": "2023-08-13T09:36:27.389885",
     "status": "completed"
    },
    "tags": []
   },
   "outputs": [],
   "source": [
    "# split_train_predict(merged[[\"audienceScore\", \"rating\", \"isFrequentReviewer\", \"reviewText\"]], merged[\"sentiment\"], pipe_best4, test_size=0.25)"
   ]
  },
  {
   "cell_type": "markdown",
   "id": "4234ce08",
   "metadata": {
    "papermill": {
     "duration": 0.127544,
     "end_time": "2023-08-13T09:36:27.760056",
     "exception": false,
     "start_time": "2023-08-13T09:36:27.632512",
     "status": "completed"
    },
    "tags": []
   },
   "source": [
    "## Try only 'reviewText' column  "
   ]
  },
  {
   "cell_type": "code",
   "execution_count": 235,
   "id": "ef655964",
   "metadata": {
    "execution": {
     "iopub.execute_input": "2023-08-13T09:36:27.996798Z",
     "iopub.status.busy": "2023-08-13T09:36:27.996056Z",
     "iopub.status.idle": "2023-08-13T09:36:28.000597Z",
     "shell.execute_reply": "2023-08-13T09:36:27.999635Z"
    },
    "papermill": {
     "duration": 0.128985,
     "end_time": "2023-08-13T09:36:28.003212",
     "exception": false,
     "start_time": "2023-08-13T09:36:27.874227",
     "status": "completed"
    },
    "tags": []
   },
   "outputs": [],
   "source": [
    "# tfidf_vec_3 = TfidfVectorizer(ngram_range=(1,2))\n",
    "# tfidf_vec_3"
   ]
  },
  {
   "cell_type": "code",
   "execution_count": 236,
   "id": "27407df8",
   "metadata": {
    "execution": {
     "iopub.execute_input": "2023-08-13T09:36:28.242437Z",
     "iopub.status.busy": "2023-08-13T09:36:28.241484Z",
     "iopub.status.idle": "2023-08-13T09:36:28.246402Z",
     "shell.execute_reply": "2023-08-13T09:36:28.245438Z"
    },
    "papermill": {
     "duration": 0.124858,
     "end_time": "2023-08-13T09:36:28.248686",
     "exception": false,
     "start_time": "2023-08-13T09:36:28.123828",
     "status": "completed"
    },
    "tags": []
   },
   "outputs": [],
   "source": [
    "# ct_RTonly = ColumnTransformer(transformers=[\n",
    "#                                             ('txt', tfidf_vec_3, 'reviewText'),\n",
    "#                                             ], remainder='drop')\n",
    "# ct_RTonly"
   ]
  },
  {
   "cell_type": "code",
   "execution_count": 237,
   "id": "5dbd7109",
   "metadata": {
    "execution": {
     "iopub.execute_input": "2023-08-13T09:36:28.481507Z",
     "iopub.status.busy": "2023-08-13T09:36:28.480734Z",
     "iopub.status.idle": "2023-08-13T09:36:28.485529Z",
     "shell.execute_reply": "2023-08-13T09:36:28.484492Z"
    },
    "papermill": {
     "duration": 0.121285,
     "end_time": "2023-08-13T09:36:28.487801",
     "exception": false,
     "start_time": "2023-08-13T09:36:28.366516",
     "status": "completed"
    },
    "tags": []
   },
   "outputs": [],
   "source": [
    "# pipe_RTonly = Pipeline(steps=[\n",
    "#     (\"preprocessor\", ct_RTonly),\n",
    "#     (\"model\", LogisticRegression())\n",
    "# ])\n",
    "\n",
    "# pipe_RTonly.set_params(model__C=10, model__max_iter=100000)\n",
    "\n",
    "# pipe_RTonly"
   ]
  },
  {
   "cell_type": "markdown",
   "id": "952043b6",
   "metadata": {
    "papermill": {
     "duration": 0.115137,
     "end_time": "2023-08-13T09:36:28.716868",
     "exception": false,
     "start_time": "2023-08-13T09:36:28.601731",
     "status": "completed"
    },
    "tags": []
   },
   "source": [
    "## Using the 'submit_v4' function  "
   ]
  },
  {
   "cell_type": "markdown",
   "id": "af93537e",
   "metadata": {
    "papermill": {
     "duration": 0.113858,
     "end_time": "2023-08-13T09:36:28.943564",
     "exception": false,
     "start_time": "2023-08-13T09:36:28.829706",
     "status": "completed"
    },
    "tags": []
   },
   "source": [
    "### Try the best 4 parameters with submit_v4 function"
   ]
  },
  {
   "cell_type": "code",
   "execution_count": 238,
   "id": "b557b22c",
   "metadata": {
    "execution": {
     "iopub.execute_input": "2023-08-13T09:36:29.176993Z",
     "iopub.status.busy": "2023-08-13T09:36:29.176242Z",
     "iopub.status.idle": "2023-08-13T09:36:29.180785Z",
     "shell.execute_reply": "2023-08-13T09:36:29.179954Z"
    },
    "papermill": {
     "duration": 0.123125,
     "end_time": "2023-08-13T09:36:29.183458",
     "exception": false,
     "start_time": "2023-08-13T09:36:29.060333",
     "status": "completed"
    },
    "tags": []
   },
   "outputs": [],
   "source": [
    "# best4 = [\"audienceScore\", \"rating\", \"isFrequentReviewer\", \"reviewText\"]\n",
    "\n",
    "# best4_dict = {'cat': [\"rating\", \"isFrequentReviewer\"],\n",
    "#              'num': [\"audienceScore\"],\n",
    "#              'txt': ['reviewText']}\n",
    "\n",
    "# best4_dict = {'num': [\"audienceScore\"],\n",
    "#              'txt': ['reviewText', 'movieid', 'director']}\n",
    "\n",
    "# best4_dict"
   ]
  },
  {
   "cell_type": "code",
   "execution_count": 239,
   "id": "c12040c9",
   "metadata": {
    "execution": {
     "iopub.execute_input": "2023-08-13T09:36:29.415207Z",
     "iopub.status.busy": "2023-08-13T09:36:29.414745Z",
     "iopub.status.idle": "2023-08-13T09:36:29.419892Z",
     "shell.execute_reply": "2023-08-13T09:36:29.418540Z"
    },
    "papermill": {
     "duration": 0.123941,
     "end_time": "2023-08-13T09:36:29.422471",
     "exception": false,
     "start_time": "2023-08-13T09:36:29.298530",
     "status": "completed"
    },
    "tags": []
   },
   "outputs": [],
   "source": [
    "# submit_v4(selected_features=best4_dict)"
   ]
  },
  {
   "cell_type": "markdown",
   "id": "875101c0",
   "metadata": {
    "papermill": {
     "duration": 0.113102,
     "end_time": "2023-08-13T09:36:29.648854",
     "exception": false,
     "start_time": "2023-08-13T09:36:29.535752",
     "status": "completed"
    },
    "tags": []
   },
   "source": [
    "### Try the best 3 parameters with submit_v4 function"
   ]
  },
  {
   "cell_type": "code",
   "execution_count": 240,
   "id": "923c86c5",
   "metadata": {
    "execution": {
     "iopub.execute_input": "2023-08-13T09:36:29.882127Z",
     "iopub.status.busy": "2023-08-13T09:36:29.880826Z",
     "iopub.status.idle": "2023-08-13T09:36:29.885875Z",
     "shell.execute_reply": "2023-08-13T09:36:29.884760Z"
    },
    "papermill": {
     "duration": 0.125449,
     "end_time": "2023-08-13T09:36:29.888459",
     "exception": false,
     "start_time": "2023-08-13T09:36:29.763010",
     "status": "completed"
    },
    "tags": []
   },
   "outputs": [],
   "source": [
    "# best3 = [\"audienceScore\", \"isFrequentReviewer\", \"reviewText\"]\n",
    "# best3_dict = {'cat': [\"isFrequentReviewer\"],\n",
    "#              'num': [\"audienceScore\"],\n",
    "#              'txt': ['reviewText']}\n",
    "# best3_dict"
   ]
  },
  {
   "cell_type": "code",
   "execution_count": 241,
   "id": "f1240ee5",
   "metadata": {
    "execution": {
     "iopub.execute_input": "2023-08-13T09:36:30.125078Z",
     "iopub.status.busy": "2023-08-13T09:36:30.123909Z",
     "iopub.status.idle": "2023-08-13T09:36:30.128559Z",
     "shell.execute_reply": "2023-08-13T09:36:30.127665Z"
    },
    "papermill": {
     "duration": 0.125719,
     "end_time": "2023-08-13T09:36:30.130730",
     "exception": false,
     "start_time": "2023-08-13T09:36:30.005011",
     "status": "completed"
    },
    "tags": []
   },
   "outputs": [],
   "source": [
    "# submit_v4(selected_features=best3_dict)"
   ]
  },
  {
   "cell_type": "markdown",
   "id": "3b456dd1",
   "metadata": {
    "papermill": {
     "duration": 0.117733,
     "end_time": "2023-08-13T09:36:30.363487",
     "exception": false,
     "start_time": "2023-08-13T09:36:30.245754",
     "status": "completed"
    },
    "tags": []
   },
   "source": [
    "## Try throwing almost everything (no boxOffice) at submit_v4!  "
   ]
  },
  {
   "cell_type": "code",
   "execution_count": 242,
   "id": "3815e9cf",
   "metadata": {
    "execution": {
     "iopub.execute_input": "2023-08-13T09:36:30.593617Z",
     "iopub.status.busy": "2023-08-13T09:36:30.592654Z",
     "iopub.status.idle": "2023-08-13T09:36:30.598921Z",
     "shell.execute_reply": "2023-08-13T09:36:30.598177Z"
    },
    "papermill": {
     "duration": 0.124104,
     "end_time": "2023-08-13T09:36:30.601281",
     "exception": false,
     "start_time": "2023-08-13T09:36:30.477177",
     "status": "completed"
    },
    "tags": []
   },
   "outputs": [
    {
     "data": {
      "text/plain": [
       "\"Most from merged = ['movieid', 'reviewerName', 'isFrequentReviewer', 'reviewText',\\n       'audienceScore', 'rating', 'runtimeMinutes', 'genre', \\n       'originalLanguage', 'director']\""
      ]
     },
     "execution_count": 242,
     "metadata": {},
     "output_type": "execute_result"
    }
   ],
   "source": [
    "\"\"\"Most from merged = ['movieid', 'reviewerName', 'isFrequentReviewer', 'reviewText',\n",
    "       'audienceScore', 'rating', 'runtimeMinutes', 'genre', \n",
    "       'originalLanguage', 'director']\"\"\"\n",
    "\n",
    "# almost_dict = {'cat': [\"isFrequentReviewer\", \"rating\", \"originalLanguage\"],\n",
    "#              'num': [\"audienceScore\", \"runtimeMinutes\"],\n",
    "#              'txt': ['reviewText', 'reviewerName', 'movieid', 'genre', 'director']}\n",
    "# almost_dict"
   ]
  },
  {
   "cell_type": "code",
   "execution_count": 243,
   "id": "89e63de6",
   "metadata": {
    "execution": {
     "iopub.execute_input": "2023-08-13T09:36:30.833877Z",
     "iopub.status.busy": "2023-08-13T09:36:30.833176Z",
     "iopub.status.idle": "2023-08-13T09:36:30.837448Z",
     "shell.execute_reply": "2023-08-13T09:36:30.836366Z"
    },
    "papermill": {
     "duration": 0.124579,
     "end_time": "2023-08-13T09:36:30.839952",
     "exception": false,
     "start_time": "2023-08-13T09:36:30.715373",
     "status": "completed"
    },
    "tags": []
   },
   "outputs": [],
   "source": [
    "# submit_v4(selected_features=almost_dict)"
   ]
  },
  {
   "cell_type": "markdown",
   "id": "df1efca7",
   "metadata": {
    "papermill": {
     "duration": 0.116363,
     "end_time": "2023-08-13T09:36:31.071901",
     "exception": false,
     "start_time": "2023-08-13T09:36:30.955538",
     "status": "completed"
    },
    "tags": []
   },
   "source": [
    "## Try throwing everything possible at submit_v4!  "
   ]
  },
  {
   "cell_type": "code",
   "execution_count": 244,
   "id": "123c3c2c",
   "metadata": {
    "execution": {
     "iopub.execute_input": "2023-08-13T09:36:31.306016Z",
     "iopub.status.busy": "2023-08-13T09:36:31.304863Z",
     "iopub.status.idle": "2023-08-13T09:36:31.311832Z",
     "shell.execute_reply": "2023-08-13T09:36:31.310607Z"
    },
    "papermill": {
     "duration": 0.126781,
     "end_time": "2023-08-13T09:36:31.314151",
     "exception": false,
     "start_time": "2023-08-13T09:36:31.187370",
     "status": "completed"
    },
    "tags": []
   },
   "outputs": [
    {
     "data": {
      "text/plain": [
       "\"All from merged = ['movieid', 'reviewerName', 'isFrequentReviewer', 'reviewText',\\n       'audienceScore', 'rating', 'runtimeMinutes', 'genre', 'boxOffice',\\n       'originalLanguage', 'director']\""
      ]
     },
     "execution_count": 244,
     "metadata": {},
     "output_type": "execute_result"
    }
   ],
   "source": [
    "\"\"\"All from merged = ['movieid', 'reviewerName', 'isFrequentReviewer', 'reviewText',\n",
    "       'audienceScore', 'rating', 'runtimeMinutes', 'genre', 'boxOffice',\n",
    "       'originalLanguage', 'director']\"\"\"\n",
    "\n",
    "# all_dict = {'cat': [\"isFrequentReviewer\", \"rating\", \"originalLanguage\"],\n",
    "#              'num': [\"audienceScore\", \"runtimeMinutes\", \"boxOffice\"],\n",
    "#              'txt': ['reviewText', 'reviewerName', 'movieid', 'genre', 'director']}\n",
    "# all_dict"
   ]
  },
  {
   "cell_type": "code",
   "execution_count": 245,
   "id": "18a425ad",
   "metadata": {
    "execution": {
     "iopub.execute_input": "2023-08-13T09:36:31.544073Z",
     "iopub.status.busy": "2023-08-13T09:36:31.543362Z",
     "iopub.status.idle": "2023-08-13T09:36:31.547284Z",
     "shell.execute_reply": "2023-08-13T09:36:31.546489Z"
    },
    "papermill": {
     "duration": 0.12144,
     "end_time": "2023-08-13T09:36:31.549540",
     "exception": false,
     "start_time": "2023-08-13T09:36:31.428100",
     "status": "completed"
    },
    "tags": []
   },
   "outputs": [],
   "source": [
    "# submit_v4(selected_features=all_dict)"
   ]
  },
  {
   "cell_type": "markdown",
   "id": "f4d9afc8",
   "metadata": {
    "papermill": {
     "duration": 0.114937,
     "end_time": "2023-08-13T09:36:31.778814",
     "exception": false,
     "start_time": "2023-08-13T09:36:31.663877",
     "status": "completed"
    },
    "tags": []
   },
   "source": [
    "## Try GridSearchCV on everything  "
   ]
  },
  {
   "cell_type": "code",
   "execution_count": 246,
   "id": "3e34667e",
   "metadata": {
    "execution": {
     "iopub.execute_input": "2023-08-13T09:36:32.015194Z",
     "iopub.status.busy": "2023-08-13T09:36:32.014357Z",
     "iopub.status.idle": "2023-08-13T09:36:32.019817Z",
     "shell.execute_reply": "2023-08-13T09:36:32.018464Z"
    },
    "papermill": {
     "duration": 0.12789,
     "end_time": "2023-08-13T09:36:32.022195",
     "exception": false,
     "start_time": "2023-08-13T09:36:31.894305",
     "status": "completed"
    },
    "tags": []
   },
   "outputs": [],
   "source": [
    "# param_grid = {\n",
    "#     \"model__C\": [0.5, 2, 5, 15]\n",
    "# }\n",
    "\n",
    "# param_grid = {\n",
    "#     'model__C' : [1, 5],\n",
    "#     'model__solver': ['lbfgs', 'liblinear', 'newton-cg', 'newton-cholesky', 'sag', 'saga']\n",
    "# }\n",
    "\n",
    "# param_grid = {\n",
    "#     'model__C' : [1, 5],\n",
    "#     'model__solver': ['lbfgs', 'liblinear', 'sag', 'saga']\n",
    "# }\n",
    "\n",
    "# param_grid = {\n",
    "#     'model__C' : [1, 5, 10, 15],\n",
    "#     'model__solver': ['lbfgs', 'liblinear', 'saga', 'newton-cg']\n",
    "# }\n",
    "\n",
    "# param_grid = {\n",
    "#     'model__C' : [1, 5, 10, 20],\n",
    "#     'model__solver': ['lbfgs', 'liblinear', 'saga']\n",
    "# }\n",
    "\n",
    "# param_grid"
   ]
  },
  {
   "cell_type": "code",
   "execution_count": 247,
   "id": "57261f46",
   "metadata": {
    "execution": {
     "iopub.execute_input": "2023-08-13T09:36:32.253060Z",
     "iopub.status.busy": "2023-08-13T09:36:32.252287Z",
     "iopub.status.idle": "2023-08-13T09:36:32.256706Z",
     "shell.execute_reply": "2023-08-13T09:36:32.255755Z"
    },
    "papermill": {
     "duration": 0.122044,
     "end_time": "2023-08-13T09:36:32.258934",
     "exception": false,
     "start_time": "2023-08-13T09:36:32.136890",
     "status": "completed"
    },
    "tags": []
   },
   "outputs": [],
   "source": [
    "# submit_v4(selected_features={'txt': [\"genre\"]}, param_grid=param_grid)"
   ]
  },
  {
   "cell_type": "code",
   "execution_count": 248,
   "id": "54ef7347",
   "metadata": {
    "execution": {
     "iopub.execute_input": "2023-08-13T09:36:32.488907Z",
     "iopub.status.busy": "2023-08-13T09:36:32.488133Z",
     "iopub.status.idle": "2023-08-13T09:36:32.495526Z",
     "shell.execute_reply": "2023-08-13T09:36:32.494322Z"
    },
    "papermill": {
     "duration": 0.125111,
     "end_time": "2023-08-13T09:36:32.498002",
     "exception": false,
     "start_time": "2023-08-13T09:36:32.372891",
     "status": "completed"
    },
    "tags": []
   },
   "outputs": [
    {
     "data": {
      "text/plain": [
       "\"Used 'groupby' function instead on 'drop_duplicates' on movies.csv file. \\nIt reduced the number of missing values significantly! \\nThen used LogisticRegression() with GridSearchCV on submit_v4 function with \\nparam_grid={'model__C': [1, 5, 10], 'model__solver': ['lbfgs', 'liblinear', 'saga']}. \\nThe best f1_micro score in GridSearchCV was 0.8399771362056203 which is highest among \\nall the versions so far. Best C was 5 and best solver was 'saga'.\\nScore obtained was 0.84385 which is lower than 0.84441.\""
      ]
     },
     "execution_count": 248,
     "metadata": {},
     "output_type": "execute_result"
    }
   ],
   "source": [
    "# submit_v4(selected_features=all_dict, param_grid=param_grid)\n",
    "\n",
    "# Best C was 5\n",
    "# Best solver was liblinear\n",
    "\n",
    "\"\"\"Used 'groupby' function instead on 'drop_duplicates' on movies.csv file. \n",
    "It reduced the number of missing values significantly! \n",
    "Then used LogisticRegression() with GridSearchCV on submit_v4 function with \n",
    "param_grid={'model__C': [1, 5, 10], 'model__solver': ['lbfgs', 'liblinear', 'saga']}. \n",
    "The best f1_micro score in GridSearchCV was 0.8399771362056203 which is highest among \n",
    "all the versions so far. Best C was 5 and best solver was 'saga'.\n",
    "Score obtained was 0.84385 which is lower than 0.84441.\"\"\""
   ]
  },
  {
   "cell_type": "code",
   "execution_count": 249,
   "id": "09c5347f",
   "metadata": {
    "execution": {
     "iopub.execute_input": "2023-08-13T09:36:32.728649Z",
     "iopub.status.busy": "2023-08-13T09:36:32.727898Z",
     "iopub.status.idle": "2023-08-13T09:36:32.732434Z",
     "shell.execute_reply": "2023-08-13T09:36:32.731447Z"
    },
    "papermill": {
     "duration": 0.121573,
     "end_time": "2023-08-13T09:36:32.734768",
     "exception": false,
     "start_time": "2023-08-13T09:36:32.613195",
     "status": "completed"
    },
    "tags": []
   },
   "outputs": [],
   "source": [
    "# Best 5 parameters\n",
    "\n",
    "# best5_dict = {'num': [\"audienceScore\"],\n",
    "#              'txt': ['reviewText', 'reviewerName','movieid', 'director']}\n",
    "\n",
    "# best5_dict"
   ]
  },
  {
   "cell_type": "code",
   "execution_count": 250,
   "id": "d43fb7fa",
   "metadata": {
    "execution": {
     "iopub.execute_input": "2023-08-13T09:36:32.967067Z",
     "iopub.status.busy": "2023-08-13T09:36:32.965970Z",
     "iopub.status.idle": "2023-08-13T09:36:32.975213Z",
     "shell.execute_reply": "2023-08-13T09:36:32.974058Z"
    },
    "papermill": {
     "duration": 0.129731,
     "end_time": "2023-08-13T09:36:32.977565",
     "exception": false,
     "start_time": "2023-08-13T09:36:32.847834",
     "status": "completed"
    },
    "tags": []
   },
   "outputs": [
    {
     "data": {
      "text/plain": [
       "\"(Update): Used both CountVectorizer and TfidfVectorizer on a massive GridSearchCV \\nwhich took 22527.2s  (6.25 hrs) to run! Gave a score of 0.8439093822800923 locally and did not overfit!\\nBest params: {'model__C': 1, 'model__solver': 'liblinear'}.\\nHighest public score yet: 0.84591 (Rank up from 9 to 5!)\""
      ]
     },
     "execution_count": 250,
     "metadata": {},
     "output_type": "execute_result"
    }
   ],
   "source": [
    "# Submit best 5 features\n",
    "\n",
    "\"\"\"(Update): Used both CountVectorizer and TfidfVectorizer on a massive GridSearchCV \n",
    "which took 22527.2s  (6.25 hrs) to run! Gave a score of 0.8439093822800923 locally and did not overfit!\n",
    "Best params: {'model__C': 1, 'model__solver': 'liblinear'}.\n",
    "Highest public score yet: 0.84591 (Rank up from 9 to 5!)\"\"\"\n",
    "\n",
    "# param_grid = {\n",
    "#     'model__C' : [5, 10, 15],\n",
    "#     'model__solver': ['lbfgs', 'liblinear', 'saga']\n",
    "# }\n",
    "\n",
    "\n",
    "# Try new param_grid with fit_intercept and dual in logreg\n",
    "\n",
    "# param_grid = {\n",
    "#     'model__C' : [1],\n",
    "#     'model__solver': ['liblinear'],\n",
    "#     \"model__fit_intercept\" : [True, False],\n",
    "#     \"model__dual\" : [True, False] \n",
    "# }\n",
    "\n",
    "\n",
    "# Local testing  \n",
    "# submit_v4(selected_features={'num': ['audienceScore']},\n",
    "#          add_countvec=True)\n",
    "\n",
    "# submit_v4(selected_features={'num': ['audienceScore']},\n",
    "#          add_countvec=True, \n",
    "#           param_grid=param_grid)\n",
    "\n",
    "\n",
    "# Main submission\n",
    "\n",
    "# submit_v4(selected_features=best5_dict,\n",
    "#          add_countvec=True)\n",
    "\n",
    "\n",
    "# submit_v4(selected_features=best5_dict,\n",
    "#           add_countvec=True,\n",
    "#           param_grid=param_grid)"
   ]
  },
  {
   "cell_type": "code",
   "execution_count": 251,
   "id": "32c68c6a",
   "metadata": {
    "execution": {
     "iopub.execute_input": "2023-08-13T09:36:33.210211Z",
     "iopub.status.busy": "2023-08-13T09:36:33.209781Z",
     "iopub.status.idle": "2023-08-13T09:36:33.215684Z",
     "shell.execute_reply": "2023-08-13T09:36:33.214495Z"
    },
    "papermill": {
     "duration": 0.124102,
     "end_time": "2023-08-13T09:36:33.218236",
     "exception": false,
     "start_time": "2023-08-13T09:36:33.094134",
     "status": "completed"
    },
    "tags": []
   },
   "outputs": [],
   "source": [
    "## ALL DICT cv=10\n",
    "\n",
    "# all_dict = {'cat': [\"isFrequentReviewer\", \"rating\", \"originalLanguage\"],\n",
    "#              'num': [\"audienceScore\", \"runtimeMinutes\", \"boxOffice\"],\n",
    "#              'txt': ['reviewText', 'reviewerName', 'movieid', 'genre', 'director']}\n",
    "# print(all_dict)\n",
    "\n",
    "# param_grid = {\n",
    "#     'model__C' : [2, 5, 10],\n",
    "#     'model__solver': ['lbfgs', 'liblinear', 'saga']\n",
    "# }\n",
    "# print(param_grid)\n",
    "\n",
    "# param_grid = {\n",
    "#     'model__C' : [1, 5, 10],\n",
    "#     'model__solver': ['liblinear'],\n",
    "#     \"model__fit_intercept\" : [True, False],\n",
    "#     \"model__dual\" : [True, False] \n",
    "# }\n",
    "\n",
    "\n",
    "# Main submission\n",
    "\n",
    "# submit_v4(selected_model=LogisticRegression(C=5, solver='liblinear', max_iter=10000),\n",
    "#           selected_features=all_dict,\n",
    "#           param_grid=param_grid)\n",
    "\n",
    "# submit_v4(selected_features=all_dict,\n",
    "#           add_countvec=True,\n",
    "#           param_grid=param_grid)"
   ]
  },
  {
   "cell_type": "code",
   "execution_count": 252,
   "id": "f819dcc0",
   "metadata": {
    "execution": {
     "iopub.execute_input": "2023-08-13T09:36:33.450586Z",
     "iopub.status.busy": "2023-08-13T09:36:33.449756Z",
     "iopub.status.idle": "2023-08-13T09:36:33.454298Z",
     "shell.execute_reply": "2023-08-13T09:36:33.453330Z"
    },
    "papermill": {
     "duration": 0.123088,
     "end_time": "2023-08-13T09:36:33.456850",
     "exception": false,
     "start_time": "2023-08-13T09:36:33.333762",
     "status": "completed"
    },
    "tags": []
   },
   "outputs": [],
   "source": [
    "# Best 6 parameters\n",
    "\n",
    "# best6_dict = {'cat': [\"isFrequentReviewer\"],\n",
    "#              'num': [\"audienceScore\"],\n",
    "#              'txt': ['reviewText', 'reviewerName', 'genre', 'director']}\n",
    "\n",
    "# best6_dict = {'num': [\"audienceScore\"],\n",
    "#              'txt': ['reviewText', 'reviewerName', 'genre','movieid', 'director']}\n",
    "\n",
    "# best6_dict"
   ]
  },
  {
   "cell_type": "code",
   "execution_count": 253,
   "id": "1f01bc73",
   "metadata": {
    "execution": {
     "iopub.execute_input": "2023-08-13T09:36:33.686399Z",
     "iopub.status.busy": "2023-08-13T09:36:33.685502Z",
     "iopub.status.idle": "2023-08-13T09:36:33.690588Z",
     "shell.execute_reply": "2023-08-13T09:36:33.689701Z"
    },
    "papermill": {
     "duration": 0.122428,
     "end_time": "2023-08-13T09:36:33.693000",
     "exception": false,
     "start_time": "2023-08-13T09:36:33.570572",
     "status": "completed"
    },
    "tags": []
   },
   "outputs": [],
   "source": [
    "# Submit best 6 features (version 2)\n",
    "\n",
    "# submit_v4(selected_features=best6_dict,\n",
    "#           param_grid=param_grid)"
   ]
  },
  {
   "cell_type": "code",
   "execution_count": 254,
   "id": "6686cb23",
   "metadata": {
    "execution": {
     "iopub.execute_input": "2023-08-13T09:36:33.995288Z",
     "iopub.status.busy": "2023-08-13T09:36:33.994428Z",
     "iopub.status.idle": "2023-08-13T09:36:33.999276Z",
     "shell.execute_reply": "2023-08-13T09:36:33.998475Z"
    },
    "papermill": {
     "duration": 0.124309,
     "end_time": "2023-08-13T09:36:34.001553",
     "exception": false,
     "start_time": "2023-08-13T09:36:33.877244",
     "status": "completed"
    },
    "tags": []
   },
   "outputs": [],
   "source": [
    "# Best 7 parameters\n",
    "\n",
    "# best7_dict = {'cat': [\"isFrequentReviewer\"],\n",
    "#              'num': [\"audienceScore\"],\n",
    "#              'txt': ['reviewText', 'reviewerName', 'movieid', 'genre', 'director']}\n",
    "# best7_dict"
   ]
  },
  {
   "cell_type": "code",
   "execution_count": 255,
   "id": "3c99fb50",
   "metadata": {
    "execution": {
     "iopub.execute_input": "2023-08-13T09:36:34.236460Z",
     "iopub.status.busy": "2023-08-13T09:36:34.235628Z",
     "iopub.status.idle": "2023-08-13T09:36:34.240942Z",
     "shell.execute_reply": "2023-08-13T09:36:34.240157Z"
    },
    "papermill": {
     "duration": 0.123769,
     "end_time": "2023-08-13T09:36:34.243322",
     "exception": false,
     "start_time": "2023-08-13T09:36:34.119553",
     "status": "completed"
    },
    "tags": []
   },
   "outputs": [],
   "source": [
    "# Submit best 7 features\n",
    "\n",
    "# submit_v4(selected_features=best7_dict,\n",
    "#           param_grid=param_grid)"
   ]
  },
  {
   "cell_type": "code",
   "execution_count": 256,
   "id": "80681df3",
   "metadata": {
    "execution": {
     "iopub.execute_input": "2023-08-13T09:36:34.475194Z",
     "iopub.status.busy": "2023-08-13T09:36:34.474362Z",
     "iopub.status.idle": "2023-08-13T09:36:34.479691Z",
     "shell.execute_reply": "2023-08-13T09:36:34.478524Z"
    },
    "papermill": {
     "duration": 0.124863,
     "end_time": "2023-08-13T09:36:34.481986",
     "exception": false,
     "start_time": "2023-08-13T09:36:34.357123",
     "status": "completed"
    },
    "tags": []
   },
   "outputs": [],
   "source": [
    "# submit_v4(selected_features=best6_dict, param_grid=param_grid)"
   ]
  },
  {
   "cell_type": "markdown",
   "id": "ae0ebe50",
   "metadata": {
    "papermill": {
     "duration": 0.113376,
     "end_time": "2023-08-13T09:36:34.709796",
     "exception": false,
     "start_time": "2023-08-13T09:36:34.596420",
     "status": "completed"
    },
    "tags": []
   },
   "source": [
    "## Try a new feature dict  \n",
    "\n"
   ]
  },
  {
   "cell_type": "code",
   "execution_count": 257,
   "id": "e331f5f9",
   "metadata": {
    "execution": {
     "iopub.execute_input": "2023-08-13T09:36:34.939667Z",
     "iopub.status.busy": "2023-08-13T09:36:34.939201Z",
     "iopub.status.idle": "2023-08-13T09:36:34.944199Z",
     "shell.execute_reply": "2023-08-13T09:36:34.943072Z"
    },
    "papermill": {
     "duration": 0.123998,
     "end_time": "2023-08-13T09:36:34.947379",
     "exception": false,
     "start_time": "2023-08-13T09:36:34.823381",
     "status": "completed"
    },
    "tags": []
   },
   "outputs": [],
   "source": [
    "# all_dict_new = {'cat': [\"isFrequentReviewer\", \"rating\", \"originalLanguage\"],\n",
    "#              'num': [\"audienceScore\", \"runtimeMinutes\", \"boxOffice\"],\n",
    "#              'txt': ['reviewText', \"reviewerName\", 'movieid', 'genre', 'director']}\n",
    "# all_dict_new"
   ]
  },
  {
   "cell_type": "code",
   "execution_count": 258,
   "id": "06e9a0c2",
   "metadata": {
    "execution": {
     "iopub.execute_input": "2023-08-13T09:36:35.182127Z",
     "iopub.status.busy": "2023-08-13T09:36:35.181689Z",
     "iopub.status.idle": "2023-08-13T09:36:35.186479Z",
     "shell.execute_reply": "2023-08-13T09:36:35.185389Z"
    },
    "papermill": {
     "duration": 0.121537,
     "end_time": "2023-08-13T09:36:35.188587",
     "exception": false,
     "start_time": "2023-08-13T09:36:35.067050",
     "status": "completed"
    },
    "tags": []
   },
   "outputs": [],
   "source": [
    "# submit_v4(selected_features={'txt': ['genre']}, param_grid=param_grid)"
   ]
  },
  {
   "cell_type": "code",
   "execution_count": 259,
   "id": "1e2eeb47",
   "metadata": {
    "execution": {
     "iopub.execute_input": "2023-08-13T09:36:35.422367Z",
     "iopub.status.busy": "2023-08-13T09:36:35.421531Z",
     "iopub.status.idle": "2023-08-13T09:36:35.426824Z",
     "shell.execute_reply": "2023-08-13T09:36:35.425400Z"
    },
    "papermill": {
     "duration": 0.125052,
     "end_time": "2023-08-13T09:36:35.429181",
     "exception": false,
     "start_time": "2023-08-13T09:36:35.304129",
     "status": "completed"
    },
    "tags": []
   },
   "outputs": [],
   "source": [
    "# submit_v4(selected_features=all_dict_new, param_grid=param_grid)"
   ]
  },
  {
   "cell_type": "code",
   "execution_count": 260,
   "id": "7011434b",
   "metadata": {
    "execution": {
     "iopub.execute_input": "2023-08-13T09:36:35.659000Z",
     "iopub.status.busy": "2023-08-13T09:36:35.658559Z",
     "iopub.status.idle": "2023-08-13T09:36:35.663524Z",
     "shell.execute_reply": "2023-08-13T09:36:35.662460Z"
    },
    "papermill": {
     "duration": 0.12185,
     "end_time": "2023-08-13T09:36:35.665770",
     "exception": false,
     "start_time": "2023-08-13T09:36:35.543920",
     "status": "completed"
    },
    "tags": []
   },
   "outputs": [],
   "source": [
    "# Try non-text based columns\n",
    "# num_cat_dict = {'cat': ['isFrequentReviewer', 'rating', 'originalLanguage'],\n",
    "#  'num': ['audienceScore', 'runtimeMinutes', 'boxOffice']}\n",
    "# num_cat_dict"
   ]
  },
  {
   "cell_type": "code",
   "execution_count": 261,
   "id": "60fcce6b",
   "metadata": {
    "execution": {
     "iopub.execute_input": "2023-08-13T09:36:35.908984Z",
     "iopub.status.busy": "2023-08-13T09:36:35.908574Z",
     "iopub.status.idle": "2023-08-13T09:36:35.913835Z",
     "shell.execute_reply": "2023-08-13T09:36:35.912405Z"
    },
    "papermill": {
     "duration": 0.135867,
     "end_time": "2023-08-13T09:36:35.916751",
     "exception": false,
     "start_time": "2023-08-13T09:36:35.780884",
     "status": "completed"
    },
    "tags": []
   },
   "outputs": [],
   "source": [
    "# Use num_cat_dict features\n",
    "# (Update): Gets a local score of 0.7027181356991726. Not great.\n",
    "# submit_v4(selected_model=LogisticRegression(max_iter=100000), selected_features=num_cat_dict, param_grid=param_grid)"
   ]
  },
  {
   "cell_type": "code",
   "execution_count": 262,
   "id": "3a047e27",
   "metadata": {
    "execution": {
     "iopub.execute_input": "2023-08-13T09:36:36.159270Z",
     "iopub.status.busy": "2023-08-13T09:36:36.158852Z",
     "iopub.status.idle": "2023-08-13T09:36:36.163707Z",
     "shell.execute_reply": "2023-08-13T09:36:36.162897Z"
    },
    "papermill": {
     "duration": 0.122675,
     "end_time": "2023-08-13T09:36:36.165989",
     "exception": false,
     "start_time": "2023-08-13T09:36:36.043314",
     "status": "completed"
    },
    "tags": []
   },
   "outputs": [],
   "source": [
    "# Try data other than reviewText\n",
    "\n",
    "# mov_dict = {'cat': ['rating', 'originalLanguage'],\n",
    "#  'num': ['audienceScore', 'runtimeMinutes', 'boxOffice'],\n",
    "#  'txt': ['movieid', 'genre', 'director']}\n",
    "# mov_dict"
   ]
  },
  {
   "cell_type": "code",
   "execution_count": 263,
   "id": "0595944c",
   "metadata": {
    "execution": {
     "iopub.execute_input": "2023-08-13T09:36:36.398684Z",
     "iopub.status.busy": "2023-08-13T09:36:36.397918Z",
     "iopub.status.idle": "2023-08-13T09:36:36.402618Z",
     "shell.execute_reply": "2023-08-13T09:36:36.401827Z"
    },
    "papermill": {
     "duration": 0.123702,
     "end_time": "2023-08-13T09:36:36.404789",
     "exception": false,
     "start_time": "2023-08-13T09:36:36.281087",
     "status": "completed"
    },
    "tags": []
   },
   "outputs": [],
   "source": [
    "# Use mov_dict features\n",
    "# (Update): Gets a local score of 0.7475454316469369, which is not bad at all.\n",
    "# submit_v4(selected_model=LogisticRegression(max_iter=100000), selected_features=mov_dict, param_grid=param_grid)"
   ]
  },
  {
   "cell_type": "markdown",
   "id": "2212e4c3",
   "metadata": {
    "papermill": {
     "duration": 0.113039,
     "end_time": "2023-08-13T09:36:36.633611",
     "exception": false,
     "start_time": "2023-08-13T09:36:36.520572",
     "status": "completed"
    },
    "tags": []
   },
   "source": [
    "# Try a new column 'reviewYN'  \n",
    "\n"
   ]
  },
  {
   "cell_type": "code",
   "execution_count": 264,
   "id": "b51e3ce7",
   "metadata": {
    "execution": {
     "iopub.execute_input": "2023-08-13T09:36:36.863342Z",
     "iopub.status.busy": "2023-08-13T09:36:36.862498Z",
     "iopub.status.idle": "2023-08-13T09:36:36.867699Z",
     "shell.execute_reply": "2023-08-13T09:36:36.866804Z"
    },
    "papermill": {
     "duration": 0.123206,
     "end_time": "2023-08-13T09:36:36.870110",
     "exception": false,
     "start_time": "2023-08-13T09:36:36.746904",
     "status": "completed"
    },
    "tags": []
   },
   "outputs": [],
   "source": [
    "# all_dict_3 = {'cat': [\"isFrequentReviewer\", \"rating\", \"originalLanguage\", \"reviewYN\"],\n",
    "#              'num': [\"audienceScore\", \"runtimeMinutes\", \"boxOffice\"],\n",
    "#              'txt': ['reviewText', \"reviewerName\", 'movieid', 'genre', 'director']}\n",
    "# all_dict_3"
   ]
  },
  {
   "cell_type": "code",
   "execution_count": 265,
   "id": "030aa456",
   "metadata": {
    "execution": {
     "iopub.execute_input": "2023-08-13T09:36:37.102767Z",
     "iopub.status.busy": "2023-08-13T09:36:37.101895Z",
     "iopub.status.idle": "2023-08-13T09:36:37.106912Z",
     "shell.execute_reply": "2023-08-13T09:36:37.106117Z"
    },
    "papermill": {
     "duration": 0.125316,
     "end_time": "2023-08-13T09:36:37.109240",
     "exception": false,
     "start_time": "2023-08-13T09:36:36.983924",
     "status": "completed"
    },
    "tags": []
   },
   "outputs": [],
   "source": [
    "# submit_v4(selected_model=LogisticRegression(max_iter=100000),\n",
    "#          selected_features=all_dict_3, \n",
    "#           param_grid=param_grid)"
   ]
  },
  {
   "cell_type": "markdown",
   "id": "3419b843",
   "metadata": {
    "papermill": {
     "duration": 0.113967,
     "end_time": "2023-08-13T09:36:37.339559",
     "exception": false,
     "start_time": "2023-08-13T09:36:37.225592",
     "status": "completed"
    },
    "tags": []
   },
   "source": [
    "### More GridSearchCV using LinearSVC  "
   ]
  },
  {
   "cell_type": "code",
   "execution_count": 266,
   "id": "2f570c86",
   "metadata": {
    "execution": {
     "iopub.execute_input": "2023-08-13T09:36:37.570259Z",
     "iopub.status.busy": "2023-08-13T09:36:37.569511Z",
     "iopub.status.idle": "2023-08-13T09:36:37.574158Z",
     "shell.execute_reply": "2023-08-13T09:36:37.573398Z"
    },
    "papermill": {
     "duration": 0.122154,
     "end_time": "2023-08-13T09:36:37.576346",
     "exception": false,
     "start_time": "2023-08-13T09:36:37.454192",
     "status": "completed"
    },
    "tags": []
   },
   "outputs": [],
   "source": [
    "# param_grid_svc_2 = {\n",
    "#     'model__C': [1.0],\n",
    "#     'model__loss': ['hinge', 'squared_hinge'],\n",
    "#     'model__class_weight': ['balanced', None]\n",
    "# }\n",
    "# param_grid_svc_2"
   ]
  },
  {
   "cell_type": "code",
   "execution_count": 267,
   "id": "0e3160cd",
   "metadata": {
    "execution": {
     "iopub.execute_input": "2023-08-13T09:36:37.806110Z",
     "iopub.status.busy": "2023-08-13T09:36:37.805669Z",
     "iopub.status.idle": "2023-08-13T09:36:37.810341Z",
     "shell.execute_reply": "2023-08-13T09:36:37.809232Z"
    },
    "papermill": {
     "duration": 0.122732,
     "end_time": "2023-08-13T09:36:37.812673",
     "exception": false,
     "start_time": "2023-08-13T09:36:37.689941",
     "status": "completed"
    },
    "tags": []
   },
   "outputs": [],
   "source": [
    "# submit_v4(selected_model=LinearSVC(max_iter=100000, random_state=42), selected_features={'num': [\"audienceScore\"]}, param_grid=param_grid_svc_2)"
   ]
  },
  {
   "cell_type": "code",
   "execution_count": 268,
   "id": "c985e6d5",
   "metadata": {
    "execution": {
     "iopub.execute_input": "2023-08-13T09:36:38.046314Z",
     "iopub.status.busy": "2023-08-13T09:36:38.045534Z",
     "iopub.status.idle": "2023-08-13T09:36:38.050455Z",
     "shell.execute_reply": "2023-08-13T09:36:38.049456Z"
    },
    "papermill": {
     "duration": 0.12588,
     "end_time": "2023-08-13T09:36:38.052780",
     "exception": false,
     "start_time": "2023-08-13T09:36:37.926900",
     "status": "completed"
    },
    "tags": []
   },
   "outputs": [],
   "source": [
    "# submit_v4(selected_model=LinearSVC(max_iter=100000, random_state=42), selected_features=all_dict, param_grid=param_grid_svc_2)"
   ]
  },
  {
   "cell_type": "markdown",
   "id": "0036040c",
   "metadata": {
    "papermill": {
     "duration": 0.114693,
     "end_time": "2023-08-13T09:36:38.281126",
     "exception": false,
     "start_time": "2023-08-13T09:36:38.166433",
     "status": "completed"
    },
    "tags": []
   },
   "source": [
    "### Boosting techniques  "
   ]
  },
  {
   "cell_type": "code",
   "execution_count": 269,
   "id": "b89b3a0f",
   "metadata": {
    "execution": {
     "iopub.execute_input": "2023-08-13T09:36:38.514282Z",
     "iopub.status.busy": "2023-08-13T09:36:38.513497Z",
     "iopub.status.idle": "2023-08-13T09:36:38.517655Z",
     "shell.execute_reply": "2023-08-13T09:36:38.516754Z"
    },
    "papermill": {
     "duration": 0.122577,
     "end_time": "2023-08-13T09:36:38.520161",
     "exception": false,
     "start_time": "2023-08-13T09:36:38.397584",
     "status": "completed"
    },
    "tags": []
   },
   "outputs": [],
   "source": [
    "# adc = AdaBoostClassifier(estimator=LogisticRegression(C=5, solver=\"saga\", max_iter=100000), n_estimators=50)\n",
    "# adc"
   ]
  },
  {
   "cell_type": "code",
   "execution_count": 270,
   "id": "f42c4590",
   "metadata": {
    "execution": {
     "iopub.execute_input": "2023-08-13T09:36:38.752046Z",
     "iopub.status.busy": "2023-08-13T09:36:38.751436Z",
     "iopub.status.idle": "2023-08-13T09:36:38.755217Z",
     "shell.execute_reply": "2023-08-13T09:36:38.754372Z"
    },
    "papermill": {
     "duration": 0.12278,
     "end_time": "2023-08-13T09:36:38.757606",
     "exception": false,
     "start_time": "2023-08-13T09:36:38.634826",
     "status": "completed"
    },
    "tags": []
   },
   "outputs": [],
   "source": [
    "# submit_v4(selected_model=adc, selected_features={'num': [\"audienceScore\"]}, param_grid=None)"
   ]
  },
  {
   "cell_type": "code",
   "execution_count": 271,
   "id": "663d45bb",
   "metadata": {
    "execution": {
     "iopub.execute_input": "2023-08-13T09:36:38.989095Z",
     "iopub.status.busy": "2023-08-13T09:36:38.988671Z",
     "iopub.status.idle": "2023-08-13T09:36:38.993464Z",
     "shell.execute_reply": "2023-08-13T09:36:38.992251Z"
    },
    "papermill": {
     "duration": 0.123807,
     "end_time": "2023-08-13T09:36:38.995610",
     "exception": false,
     "start_time": "2023-08-13T09:36:38.871803",
     "status": "completed"
    },
    "tags": []
   },
   "outputs": [],
   "source": [
    "# submit_v4(selected_model=adc, selected_features=all_dict, param_grid=None)\n",
    "\n",
    "# Took 1 hour 15 mins to run and gave a public score of only 0.71089. Discarded."
   ]
  },
  {
   "cell_type": "markdown",
   "id": "e7290d67",
   "metadata": {
    "papermill": {
     "duration": 0.115266,
     "end_time": "2023-08-13T09:36:39.231583",
     "exception": false,
     "start_time": "2023-08-13T09:36:39.116317",
     "status": "completed"
    },
    "tags": []
   },
   "source": [
    "### LightGBM  "
   ]
  },
  {
   "cell_type": "code",
   "execution_count": 272,
   "id": "42a25008",
   "metadata": {
    "execution": {
     "iopub.execute_input": "2023-08-13T09:36:39.536505Z",
     "iopub.status.busy": "2023-08-13T09:36:39.535262Z",
     "iopub.status.idle": "2023-08-13T09:36:39.540245Z",
     "shell.execute_reply": "2023-08-13T09:36:39.539042Z"
    },
    "papermill": {
     "duration": 0.123225,
     "end_time": "2023-08-13T09:36:39.542753",
     "exception": false,
     "start_time": "2023-08-13T09:36:39.419528",
     "status": "completed"
    },
    "tags": []
   },
   "outputs": [],
   "source": [
    "# lgb = ltb.LGBMClassifier()\n",
    "# lgb"
   ]
  },
  {
   "cell_type": "code",
   "execution_count": 273,
   "id": "5a91f650",
   "metadata": {
    "execution": {
     "iopub.execute_input": "2023-08-13T09:36:39.774400Z",
     "iopub.status.busy": "2023-08-13T09:36:39.773898Z",
     "iopub.status.idle": "2023-08-13T09:36:39.778453Z",
     "shell.execute_reply": "2023-08-13T09:36:39.777417Z"
    },
    "papermill": {
     "duration": 0.123258,
     "end_time": "2023-08-13T09:36:39.780777",
     "exception": false,
     "start_time": "2023-08-13T09:36:39.657519",
     "status": "completed"
    },
    "tags": []
   },
   "outputs": [],
   "source": [
    "# Try LightGBM with default settings\n",
    "# (Update): Public score only 0.77713. It was fast, took less than 5 mins (without GridSearchCV)\n",
    "\n",
    "# submit_v4(selected_model=ltb.LGBMClassifier(), selected_features=all_dict, param_grid=None)"
   ]
  },
  {
   "cell_type": "markdown",
   "id": "d019f09c",
   "metadata": {
    "papermill": {
     "duration": 0.115546,
     "end_time": "2023-08-13T09:36:40.011747",
     "exception": false,
     "start_time": "2023-08-13T09:36:39.896201",
     "status": "completed"
    },
    "tags": []
   },
   "source": [
    "# Try feature selection and vocab fine tuning of reviewText column"
   ]
  },
  {
   "cell_type": "markdown",
   "id": "3796cd95",
   "metadata": {
    "papermill": {
     "duration": 0.116089,
     "end_time": "2023-08-13T09:36:40.244368",
     "exception": false,
     "start_time": "2023-08-13T09:36:40.128279",
     "status": "completed"
    },
    "tags": []
   },
   "source": [
    "## Plan  \n",
    "* Add a new column 'reviewWC' which has word count of 'reviewText'  \n",
    "    * Check if there is any relationship between 'reviewWC' and 'sentiment'\n",
    "* Work on vocabulary\n",
    "     * Use TfidfVectorizer and find out the vocabulary of 'reviewText' column for various ngrams\n",
    "     * Use RecursiveFeatureElimination (RFE) or RFECV to select 1000 top words/vocab for each ngram\n",
    "     * Use the final vocab (1000-3000 words) in the model and see how it performs compared to whole vocab\n"
   ]
  },
  {
   "cell_type": "code",
   "execution_count": 274,
   "id": "b7aeee85",
   "metadata": {
    "execution": {
     "iopub.execute_input": "2023-08-13T09:36:40.478099Z",
     "iopub.status.busy": "2023-08-13T09:36:40.477407Z",
     "iopub.status.idle": "2023-08-13T09:36:40.481785Z",
     "shell.execute_reply": "2023-08-13T09:36:40.480813Z"
    },
    "papermill": {
     "duration": 0.12365,
     "end_time": "2023-08-13T09:36:40.484447",
     "exception": false,
     "start_time": "2023-08-13T09:36:40.360797",
     "status": "completed"
    },
    "tags": []
   },
   "outputs": [],
   "source": [
    "# 'reviewWC' and 'sentiment'\n",
    "# (Conclusion): 'reviewWC' is practically same as DummyClassifier (accuracy of 0.6682375059904889 on train data). It just predicts 'positive' for all columns\n",
    "\n",
    "# reviewWC_dict = {\"num\": [\"reviewWC\"]}\n",
    "# submit_v4(selected_model=LogisticRegression(),\n",
    "#          selected_features=reviewWC_dict,\n",
    "#          param_grid=None)"
   ]
  },
  {
   "cell_type": "code",
   "execution_count": 275,
   "id": "9bdfa7e3",
   "metadata": {
    "execution": {
     "iopub.execute_input": "2023-08-13T09:36:40.717061Z",
     "iopub.status.busy": "2023-08-13T09:36:40.715901Z",
     "iopub.status.idle": "2023-08-13T09:36:40.721345Z",
     "shell.execute_reply": "2023-08-13T09:36:40.720481Z"
    },
    "papermill": {
     "duration": 0.123493,
     "end_time": "2023-08-13T09:36:40.723632",
     "exception": false,
     "start_time": "2023-08-13T09:36:40.600139",
     "status": "completed"
    },
    "tags": []
   },
   "outputs": [],
   "source": [
    "# 'reviewYN' and 'sentiment'\n",
    "# (Conclusion): 'reviewYN' is practically same as DummyClassifier (accuracy of 0.6682375059904889 on train data). It just predicts 'positive' for all columns\n",
    "\n",
    "# reviewYN_dict = {\"cat\": [\"reviewYN\"]}\n",
    "# submit_v4(selected_model=LogisticRegression(),\n",
    "#          selected_features=reviewYN_dict,\n",
    "#          param_grid=None)"
   ]
  },
  {
   "cell_type": "markdown",
   "id": "9ef48074",
   "metadata": {
    "papermill": {
     "duration": 0.115506,
     "end_time": "2023-08-13T09:36:40.953799",
     "exception": false,
     "start_time": "2023-08-13T09:36:40.838293",
     "status": "completed"
    },
    "tags": []
   },
   "source": [
    "## Submissions using 'vocabulary' built from 'reviewText' data  "
   ]
  },
  {
   "cell_type": "markdown",
   "id": "c13cf50c",
   "metadata": {
    "papermill": {
     "duration": 0.115026,
     "end_time": "2023-08-13T09:36:41.188232",
     "exception": false,
     "start_time": "2023-08-13T09:36:41.073206",
     "status": "completed"
    },
    "tags": []
   },
   "source": [
    "### Submit best 6 features along with common vocab  "
   ]
  },
  {
   "cell_type": "code",
   "execution_count": 276,
   "id": "b96dcba7",
   "metadata": {
    "execution": {
     "iopub.execute_input": "2023-08-13T09:36:41.420733Z",
     "iopub.status.busy": "2023-08-13T09:36:41.419773Z",
     "iopub.status.idle": "2023-08-13T09:36:41.424910Z",
     "shell.execute_reply": "2023-08-13T09:36:41.424116Z"
    },
    "papermill": {
     "duration": 0.12424,
     "end_time": "2023-08-13T09:36:41.427298",
     "exception": false,
     "start_time": "2023-08-13T09:36:41.303058",
     "status": "completed"
    },
    "tags": []
   },
   "outputs": [],
   "source": [
    "# Best 6 parameters (version 2)  \n",
    "\n",
    "# best6_dict = {'num': [\"audienceScore\"],\n",
    "#              'txt': ['reviewText', 'reviewerName', 'genre','movieid', 'director']}\n",
    "\n",
    "# best6_dict"
   ]
  },
  {
   "cell_type": "code",
   "execution_count": 277,
   "id": "db3e845b",
   "metadata": {
    "execution": {
     "iopub.execute_input": "2023-08-13T09:36:41.656967Z",
     "iopub.status.busy": "2023-08-13T09:36:41.656580Z",
     "iopub.status.idle": "2023-08-13T09:36:41.661946Z",
     "shell.execute_reply": "2023-08-13T09:36:41.660723Z"
    },
    "papermill": {
     "duration": 0.123167,
     "end_time": "2023-08-13T09:36:41.664412",
     "exception": false,
     "start_time": "2023-08-13T09:36:41.541245",
     "status": "completed"
    },
    "tags": []
   },
   "outputs": [],
   "source": [
    "# Submit best 6 features (version 2) with common vocabulary (common_1_2_grams)\n",
    "# (Update): Score 0.82867\n",
    "\n",
    "# submit_v4(selected_features=best6_dict,\n",
    "#           param_grid=param_grid,\n",
    "#          vocab=common_1_2_grams)"
   ]
  },
  {
   "cell_type": "code",
   "execution_count": 278,
   "id": "d8736bb9",
   "metadata": {
    "execution": {
     "iopub.execute_input": "2023-08-13T09:36:41.896959Z",
     "iopub.status.busy": "2023-08-13T09:36:41.896230Z",
     "iopub.status.idle": "2023-08-13T09:36:41.901230Z",
     "shell.execute_reply": "2023-08-13T09:36:41.900411Z"
    },
    "papermill": {
     "duration": 0.123236,
     "end_time": "2023-08-13T09:36:41.903498",
     "exception": false,
     "start_time": "2023-08-13T09:36:41.780262",
     "status": "completed"
    },
    "tags": []
   },
   "outputs": [],
   "source": [
    "# Submit best 6 features (version 2) with common vocabulary (common_1_2_3_grams)\n",
    "# Note: for this submission submit_v4 function has to be modified: reviewText TfidfVectorizer must have ngram_range(1,3).\n",
    "# (Update): Score in the range 0.825+\n",
    "\n",
    "# submit_v4(selected_features=best6_dict,\n",
    "#           param_grid=param_grid,\n",
    "#          vocab=common_1_2_3_grams)"
   ]
  }
 ],
 "metadata": {
  "kernelspec": {
   "display_name": "Python 3",
   "language": "python",
   "name": "python3"
  },
  "language_info": {
   "codemirror_mode": {
    "name": "ipython",
    "version": 3
   },
   "file_extension": ".py",
   "mimetype": "text/x-python",
   "name": "python",
   "nbconvert_exporter": "python",
   "pygments_lexer": "ipython3",
   "version": "3.10.10"
  },
  "papermill": {
   "default_parameters": {},
   "duration": 3946.238341,
   "end_time": "2023-08-13T09:36:45.057964",
   "environment_variables": {},
   "exception": null,
   "input_path": "__notebook__.ipynb",
   "output_path": "__notebook__.ipynb",
   "parameters": {},
   "start_time": "2023-08-13T08:30:58.819623",
   "version": "2.4.0"
  }
 },
 "nbformat": 4,
 "nbformat_minor": 5
}
