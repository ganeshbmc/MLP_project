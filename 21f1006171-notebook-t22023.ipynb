{
 "cells": [
  {
   "cell_type": "markdown",
   "id": "0379c56d",
   "metadata": {
    "papermill": {
     "duration": 0.094921,
     "end_time": "2023-08-12T20:17:42.306929",
     "exception": false,
     "start_time": "2023-08-12T20:17:42.212008",
     "status": "completed"
    },
    "tags": []
   },
   "source": [
    "# MLP Project (T2 2023) by Ganesh P  "
   ]
  },
  {
   "cell_type": "markdown",
   "id": "36492d50",
   "metadata": {
    "papermill": {
     "duration": 0.091334,
     "end_time": "2023-08-12T20:17:42.489833",
     "exception": false,
     "start_time": "2023-08-12T20:17:42.398499",
     "status": "completed"
    },
    "tags": []
   },
   "source": [
    "`Disclaimer`   \n",
    "\n",
    "> This final notebook contains only the most relevant code to show the path/flow of my project work over few weeks. Rest of the code is in [my github repo](https://github.com/ganeshbmc/MLP_project) which is private at present (I will make it public after the project is over).  "
   ]
  },
  {
   "cell_type": "markdown",
   "id": "ad8d3060",
   "metadata": {
    "papermill": {
     "duration": 0.09183,
     "end_time": "2023-08-12T20:17:42.672334",
     "exception": false,
     "start_time": "2023-08-12T20:17:42.580504",
     "status": "completed"
    },
    "tags": []
   },
   "source": [
    "`Strengths`  \n",
    "\n",
    "> * Modular code (DRY principle)  \n",
    "> * End to end pipeline in one function (with helper functions)   "
   ]
  },
  {
   "cell_type": "markdown",
   "id": "947af5c8",
   "metadata": {
    "papermill": {
     "duration": 0.090827,
     "end_time": "2023-08-12T20:17:42.854461",
     "exception": false,
     "start_time": "2023-08-12T20:17:42.763634",
     "status": "completed"
    },
    "tags": []
   },
   "source": [
    "`Overview`  \n",
    "\n",
    "`PART I`  \n",
    "\n",
    "1.\t> Screen the datasets and import them.  \n",
    "2.\t> Perform EDA (first round).\n",
    "3.\t> Data cleaning.\n",
    "4.\t> Basic models including dummy model.\n",
    "5.\t> Because this is a text sentiment analysis project, focus on 'reviewText' column, work on cleaning text data and vectorising/tokenising it, build several models till the best possible score is reached.  \n",
    "\n",
    "`PART II`  \n",
    "\n",
    "6.\t> Merge train and movies dataset.\n",
    "7.\t> Perform EDA (second round) on merged dataset.\n",
    "8.\t> Data cleaning.\n",
    "9.\t> Build models on merged dataset.\n",
    "10.\t> Understand the results and do another round of EDA if needed.\n",
    "11.\t> Build final model.  \n",
    "\n",
    "`PART III (After project window closes)`  \n",
    "\n",
    "12. > Use NLTK library for further processing text data.  \n",
    "13. > Try to address comments from different languages, special characters etc.  \n",
    "14. > Try imblearn library to address class imbalance.  \n",
    "15. > Try to use currently available LLMs and see how my model performs agains them.  "
   ]
  },
  {
   "cell_type": "markdown",
   "id": "819b0061",
   "metadata": {
    "papermill": {
     "duration": 0.091002,
     "end_time": "2023-08-12T20:17:43.036458",
     "exception": false,
     "start_time": "2023-08-12T20:17:42.945456",
     "status": "completed"
    },
    "tags": []
   },
   "source": [
    "`Default code on Kaggle notebook`  "
   ]
  },
  {
   "cell_type": "code",
   "execution_count": 1,
   "id": "438dbb3d",
   "metadata": {
    "_cell_guid": "b1076dfc-b9ad-4769-8c92-a6c4dae69d19",
    "_uuid": "8f2839f25d086af736a60e9eeb907d3b93b6e0e5",
    "execution": {
     "iopub.execute_input": "2023-08-12T20:17:43.221575Z",
     "iopub.status.busy": "2023-08-12T20:17:43.221126Z",
     "iopub.status.idle": "2023-08-12T20:17:43.236540Z",
     "shell.execute_reply": "2023-08-12T20:17:43.235008Z"
    },
    "papermill": {
     "duration": 0.111611,
     "end_time": "2023-08-12T20:17:43.239103",
     "exception": false,
     "start_time": "2023-08-12T20:17:43.127492",
     "status": "completed"
    },
    "tags": []
   },
   "outputs": [
    {
     "name": "stdout",
     "output_type": "stream",
     "text": [
      "/kaggle/input/sentiment-prediction-on-movie-reviews/movies.csv\n",
      "/kaggle/input/sentiment-prediction-on-movie-reviews/sample.csv\n",
      "/kaggle/input/sentiment-prediction-on-movie-reviews/train.csv\n",
      "/kaggle/input/sentiment-prediction-on-movie-reviews/test.csv\n"
     ]
    }
   ],
   "source": [
    "# This Python 3 environment comes with many helpful analytics libraries installed\n",
    "# It is defined by the kaggle/python Docker image: https://github.com/kaggle/docker-python\n",
    "# For example, here's several helpful packages to load\n",
    "\n",
    "import numpy as np # linear algebra\n",
    "import pandas as pd # data processing, CSV file I/O (e.g. pd.read_csv)\n",
    "\n",
    "# Input data files are available in the read-only \"../input/\" directory\n",
    "# For example, running this (by clicking run or pressing Shift+Enter) will list all files under the input directory\n",
    "\n",
    "import os\n",
    "for dirname, _, filenames in os.walk('/kaggle/input'):\n",
    "    for filename in filenames:\n",
    "        print(os.path.join(dirname, filename))\n",
    "\n",
    "# You can write up to 20GB to the current directory (/kaggle/working/) that gets preserved as output when you create a version using \"Save & Run All\" \n",
    "# You can also write temporary files to /kaggle/temp/, but they won't be saved outside of the current session"
   ]
  },
  {
   "cell_type": "markdown",
   "id": "b9f5fae6",
   "metadata": {
    "papermill": {
     "duration": 0.091923,
     "end_time": "2023-08-12T20:17:43.424345",
     "exception": false,
     "start_time": "2023-08-12T20:17:43.332422",
     "status": "completed"
    },
    "tags": []
   },
   "source": [
    "### Specify platform  "
   ]
  },
  {
   "cell_type": "code",
   "execution_count": 2,
   "id": "3dbaaca8",
   "metadata": {
    "execution": {
     "iopub.execute_input": "2023-08-12T20:17:43.609878Z",
     "iopub.status.busy": "2023-08-12T20:17:43.609446Z",
     "iopub.status.idle": "2023-08-12T20:17:43.614116Z",
     "shell.execute_reply": "2023-08-12T20:17:43.613120Z"
    },
    "papermill": {
     "duration": 0.10009,
     "end_time": "2023-08-12T20:17:43.616463",
     "exception": false,
     "start_time": "2023-08-12T20:17:43.516373",
     "status": "completed"
    },
    "tags": []
   },
   "outputs": [],
   "source": [
    "platform = 'kaggle'  "
   ]
  },
  {
   "cell_type": "markdown",
   "id": "e74c979e",
   "metadata": {
    "papermill": {
     "duration": 0.091813,
     "end_time": "2023-08-12T20:17:43.799742",
     "exception": false,
     "start_time": "2023-08-12T20:17:43.707929",
     "status": "completed"
    },
    "tags": []
   },
   "source": [
    "### Import libraries  "
   ]
  },
  {
   "cell_type": "code",
   "execution_count": 3,
   "id": "2bd628cb",
   "metadata": {
    "execution": {
     "iopub.execute_input": "2023-08-12T20:17:43.985234Z",
     "iopub.status.busy": "2023-08-12T20:17:43.984884Z",
     "iopub.status.idle": "2023-08-12T20:17:46.269461Z",
     "shell.execute_reply": "2023-08-12T20:17:46.268397Z"
    },
    "papermill": {
     "duration": 2.380207,
     "end_time": "2023-08-12T20:17:46.271869",
     "exception": false,
     "start_time": "2023-08-12T20:17:43.891662",
     "status": "completed"
    },
    "tags": []
   },
   "outputs": [
    {
     "name": "stdout",
     "output_type": "stream",
     "text": [
      "Imports done.\n"
     ]
    }
   ],
   "source": [
    "import pandas as pd\n",
    "import numpy as np\n",
    "import matplotlib.pyplot as plt\n",
    "import seaborn as sns\n",
    "import re\n",
    "from itertools import compress\n",
    "\n",
    "from sklearn.dummy import DummyClassifier\n",
    "from sklearn.pipeline import Pipeline, FeatureUnion\n",
    "from sklearn.compose import ColumnTransformer\n",
    "from sklearn.metrics import classification_report, confusion_matrix,f1_score\n",
    "from sklearn.feature_extraction.text import TfidfVectorizer, CountVectorizer\n",
    "from sklearn.preprocessing import FunctionTransformer\n",
    "from sklearn.preprocessing import StandardScaler, MinMaxScaler, RobustScaler, OneHotEncoder, LabelEncoder\n",
    "from sklearn.impute import SimpleImputer, KNNImputer\n",
    "from sklearn.linear_model import LogisticRegression, SGDClassifier\n",
    "from sklearn.tree import DecisionTreeClassifier\n",
    "from sklearn.ensemble import RandomForestClassifier, AdaBoostClassifier\n",
    "from sklearn.svm import LinearSVC\n",
    "from sklearn.naive_bayes import GaussianNB, BernoulliNB, CategoricalNB, ComplementNB, MultinomialNB\n",
    "from sklearn.model_selection import train_test_split, GridSearchCV, cross_val_score\n",
    "from sklearn.decomposition import PCA, TruncatedSVD\n",
    "from sklearn.feature_selection import RFECV\n",
    "from sklearn.feature_selection import RFE\n",
    "from sklearn.neural_network import MLPClassifier\n",
    "\n",
    "# import lightgbm as ltb\n",
    "\n",
    "import scipy.stats as stats\n",
    "print(\"Imports done.\")"
   ]
  },
  {
   "cell_type": "markdown",
   "id": "12eda775",
   "metadata": {
    "papermill": {
     "duration": 0.092216,
     "end_time": "2023-08-12T20:17:46.458004",
     "exception": false,
     "start_time": "2023-08-12T20:17:46.365788",
     "status": "completed"
    },
    "tags": []
   },
   "source": [
    "# PART I  "
   ]
  },
  {
   "cell_type": "markdown",
   "id": "9ced1f17",
   "metadata": {
    "papermill": {
     "duration": 0.092229,
     "end_time": "2023-08-12T20:17:46.642708",
     "exception": false,
     "start_time": "2023-08-12T20:17:46.550479",
     "status": "completed"
    },
    "tags": []
   },
   "source": [
    "## Load datasets  "
   ]
  },
  {
   "cell_type": "code",
   "execution_count": 4,
   "id": "c2116d18",
   "metadata": {
    "execution": {
     "iopub.execute_input": "2023-08-12T20:17:46.829464Z",
     "iopub.status.busy": "2023-08-12T20:17:46.828741Z",
     "iopub.status.idle": "2023-08-12T20:17:48.018539Z",
     "shell.execute_reply": "2023-08-12T20:17:48.017409Z"
    },
    "papermill": {
     "duration": 1.286447,
     "end_time": "2023-08-12T20:17:48.021144",
     "exception": false,
     "start_time": "2023-08-12T20:17:46.734697",
     "status": "completed"
    },
    "tags": []
   },
   "outputs": [
    {
     "data": {
      "text/plain": [
       "(162758, 5)"
      ]
     },
     "execution_count": 4,
     "metadata": {},
     "output_type": "execute_result"
    }
   ],
   "source": [
    "if platform == 'vscode':\n",
    "    traindf = pd.read_csv(\"data/train.csv\")\n",
    "else:\n",
    "    traindf = pd.read_csv(\"/kaggle/input/sentiment-prediction-on-movie-reviews/train.csv\")\n",
    "    \n",
    "traindf.shape"
   ]
  },
  {
   "cell_type": "code",
   "execution_count": 5,
   "id": "858cc2dc",
   "metadata": {
    "execution": {
     "iopub.execute_input": "2023-08-12T20:17:48.210312Z",
     "iopub.status.busy": "2023-08-12T20:17:48.209929Z",
     "iopub.status.idle": "2023-08-12T20:17:48.568348Z",
     "shell.execute_reply": "2023-08-12T20:17:48.567587Z"
    },
    "papermill": {
     "duration": 0.456664,
     "end_time": "2023-08-12T20:17:48.570533",
     "exception": false,
     "start_time": "2023-08-12T20:17:48.113869",
     "status": "completed"
    },
    "tags": []
   },
   "outputs": [
    {
     "data": {
      "text/plain": [
       "(55315, 4)"
      ]
     },
     "execution_count": 5,
     "metadata": {},
     "output_type": "execute_result"
    }
   ],
   "source": [
    "if platform == 'vscode':\n",
    "    testdf = pd.read_csv(\"data/test.csv\")\n",
    "else:\n",
    "    testdf = pd.read_csv(\"/kaggle/input/sentiment-prediction-on-movie-reviews/test.csv\")\n",
    "\n",
    "testdf.shape"
   ]
  },
  {
   "cell_type": "markdown",
   "id": "d847612a",
   "metadata": {
    "papermill": {
     "duration": 0.091938,
     "end_time": "2023-08-12T20:17:48.754737",
     "exception": false,
     "start_time": "2023-08-12T20:17:48.662799",
     "status": "completed"
    },
    "tags": []
   },
   "source": [
    "### Understanding the data and getting it ready for training and evaluating models  \n"
   ]
  },
  {
   "cell_type": "code",
   "execution_count": 6,
   "id": "218317aa",
   "metadata": {
    "execution": {
     "iopub.execute_input": "2023-08-12T20:17:48.941454Z",
     "iopub.status.busy": "2023-08-12T20:17:48.941073Z",
     "iopub.status.idle": "2023-08-12T20:17:48.947545Z",
     "shell.execute_reply": "2023-08-12T20:17:48.946425Z"
    },
    "papermill": {
     "duration": 0.103066,
     "end_time": "2023-08-12T20:17:48.950013",
     "exception": false,
     "start_time": "2023-08-12T20:17:48.846947",
     "status": "completed"
    },
    "tags": []
   },
   "outputs": [
    {
     "data": {
      "text/plain": [
       "(162758, 5)"
      ]
     },
     "execution_count": 6,
     "metadata": {},
     "output_type": "execute_result"
    }
   ],
   "source": [
    "traindf.shape"
   ]
  },
  {
   "cell_type": "code",
   "execution_count": 7,
   "id": "ba5e137a",
   "metadata": {
    "execution": {
     "iopub.execute_input": "2023-08-12T20:17:49.137232Z",
     "iopub.status.busy": "2023-08-12T20:17:49.136818Z",
     "iopub.status.idle": "2023-08-12T20:17:49.376548Z",
     "shell.execute_reply": "2023-08-12T20:17:49.374852Z"
    },
    "papermill": {
     "duration": 0.337073,
     "end_time": "2023-08-12T20:17:49.379073",
     "exception": false,
     "start_time": "2023-08-12T20:17:49.042000",
     "status": "completed"
    },
    "tags": []
   },
   "outputs": [
    {
     "name": "stdout",
     "output_type": "stream",
     "text": [
      "<class 'pandas.core.frame.DataFrame'>\n",
      "RangeIndex: 162758 entries, 0 to 162757\n",
      "Data columns (total 5 columns):\n",
      " #   Column              Non-Null Count   Dtype \n",
      "---  ------              --------------   ----- \n",
      " 0   movieid             162758 non-null  object\n",
      " 1   reviewerName        162758 non-null  object\n",
      " 2   isFrequentReviewer  162758 non-null  bool  \n",
      " 3   reviewText          156311 non-null  object\n",
      " 4   sentiment           162758 non-null  object\n",
      "dtypes: bool(1), object(4)\n",
      "memory usage: 5.1+ MB\n"
     ]
    }
   ],
   "source": [
    "traindf.info()"
   ]
  },
  {
   "cell_type": "code",
   "execution_count": 8,
   "id": "edeade63",
   "metadata": {
    "execution": {
     "iopub.execute_input": "2023-08-12T20:17:49.568276Z",
     "iopub.status.busy": "2023-08-12T20:17:49.567894Z",
     "iopub.status.idle": "2023-08-12T20:17:49.787202Z",
     "shell.execute_reply": "2023-08-12T20:17:49.786318Z"
    },
    "papermill": {
     "duration": 0.317154,
     "end_time": "2023-08-12T20:17:49.789465",
     "exception": false,
     "start_time": "2023-08-12T20:17:49.472311",
     "status": "completed"
    },
    "tags": []
   },
   "outputs": [
    {
     "data": {
      "text/plain": [
       "movieid                  0\n",
       "reviewerName             0\n",
       "isFrequentReviewer       0\n",
       "reviewText            6447\n",
       "sentiment                0\n",
       "dtype: int64"
      ]
     },
     "execution_count": 8,
     "metadata": {},
     "output_type": "execute_result"
    }
   ],
   "source": [
    "traindf.isna().sum()"
   ]
  },
  {
   "cell_type": "markdown",
   "id": "a7046a02",
   "metadata": {
    "papermill": {
     "duration": 0.093151,
     "end_time": "2023-08-12T20:17:50.035991",
     "exception": false,
     "start_time": "2023-08-12T20:17:49.942840",
     "status": "completed"
    },
    "tags": []
   },
   "source": [
    "### Fill empty reviewText with custom text  "
   ]
  },
  {
   "cell_type": "code",
   "execution_count": 9,
   "id": "6f041b1e",
   "metadata": {
    "execution": {
     "iopub.execute_input": "2023-08-12T20:17:50.224764Z",
     "iopub.status.busy": "2023-08-12T20:17:50.224321Z",
     "iopub.status.idle": "2023-08-12T20:17:50.470559Z",
     "shell.execute_reply": "2023-08-12T20:17:50.469472Z"
    },
    "papermill": {
     "duration": 0.34384,
     "end_time": "2023-08-12T20:17:50.473318",
     "exception": false,
     "start_time": "2023-08-12T20:17:50.129478",
     "status": "completed"
    },
    "tags": []
   },
   "outputs": [
    {
     "data": {
      "text/plain": [
       "movieid               0\n",
       "reviewerName          0\n",
       "isFrequentReviewer    0\n",
       "reviewText            0\n",
       "sentiment             0\n",
       "dtype: int64"
      ]
     },
     "execution_count": 9,
     "metadata": {},
     "output_type": "execute_result"
    }
   ],
   "source": [
    "traindf[\"reviewText\"].fillna(\"empty\", inplace=True)\n",
    "traindf.isna().sum()"
   ]
  },
  {
   "cell_type": "markdown",
   "id": "f8e858e3",
   "metadata": {
    "papermill": {
     "duration": 0.093904,
     "end_time": "2023-08-12T20:17:50.661484",
     "exception": false,
     "start_time": "2023-08-12T20:17:50.567580",
     "status": "completed"
    },
    "tags": []
   },
   "source": [
    "## EDA  \n"
   ]
  },
  {
   "cell_type": "code",
   "execution_count": 10,
   "id": "559b78e2",
   "metadata": {
    "execution": {
     "iopub.execute_input": "2023-08-12T20:17:50.851461Z",
     "iopub.status.busy": "2023-08-12T20:17:50.850828Z",
     "iopub.status.idle": "2023-08-12T20:17:51.110279Z",
     "shell.execute_reply": "2023-08-12T20:17:51.108685Z"
    },
    "papermill": {
     "duration": 0.358755,
     "end_time": "2023-08-12T20:17:51.114362",
     "exception": false,
     "start_time": "2023-08-12T20:17:50.755607",
     "status": "completed"
    },
    "tags": []
   },
   "outputs": [
    {
     "data": {
      "image/png": "[encoded data removed]",
      "text/plain": [
       "<Figure size 600x400 with 1 Axes>"
      ]
     },
     "metadata": {},
     "output_type": "display_data"
    }
   ],
   "source": [
    "# Pie chart for sentiment column\n",
    "plt.figure(figsize=(6, 4))\n",
    "traindf[\"sentiment\"].value_counts().plot(kind='pie', autopct='%1.0f%%', colors=[\"lightgreen\", \"crimson\"])\n",
    "plt.title(\"Pie chart for sentiment column\")\n",
    "plt.show()"
   ]
  },
  {
   "cell_type": "code",
   "execution_count": 11,
   "id": "d474bdcf",
   "metadata": {
    "execution": {
     "iopub.execute_input": "2023-08-12T20:17:51.333523Z",
     "iopub.status.busy": "2023-08-12T20:17:51.332408Z",
     "iopub.status.idle": "2023-08-12T20:17:51.411916Z",
     "shell.execute_reply": "2023-08-12T20:17:51.410884Z"
    },
    "papermill": {
     "duration": 0.182273,
     "end_time": "2023-08-12T20:17:51.414431",
     "exception": false,
     "start_time": "2023-08-12T20:17:51.232158",
     "status": "completed"
    },
    "tags": []
   },
   "outputs": [
    {
     "name": "stdout",
     "output_type": "stream",
     "text": [
      "sentiment           NEGATIVE  POSITIVE\n",
      "isFrequentReviewer                    \n",
      "False                  35760     77429\n",
      "True                   18237     31332\n"
     ]
    },
    {
     "data": {
      "text/plain": [
       "Chi2ContingencyResult(statistic=419.89235425657796, pvalue=2.5755894769493255e-93, dof=1, expected_freq=array([[37551.86493444, 75637.13506556],\n",
       "       [16445.13506556, 33123.86493444]]))"
      ]
     },
     "execution_count": 11,
     "metadata": {},
     "output_type": "execute_result"
    }
   ],
   "source": [
    "# Chi-square test for isFrequentReviewer column and sentiment column   \n",
    "\n",
    "contingency_table = pd.crosstab(traindf['isFrequentReviewer'], traindf['sentiment'])\n",
    "print(contingency_table)\n",
    "stats.chi2_contingency(contingency_table)"
   ]
  },
  {
   "cell_type": "markdown",
   "id": "1b923def",
   "metadata": {
    "papermill": {
     "duration": 0.093859,
     "end_time": "2023-08-12T20:17:51.602248",
     "exception": false,
     "start_time": "2023-08-12T20:17:51.508389",
     "status": "completed"
    },
    "tags": []
   },
   "source": [
    "### Separate features and labels  "
   ]
  },
  {
   "cell_type": "code",
   "execution_count": 12,
   "id": "1558892d",
   "metadata": {
    "execution": {
     "iopub.execute_input": "2023-08-12T20:17:51.791503Z",
     "iopub.status.busy": "2023-08-12T20:17:51.791123Z",
     "iopub.status.idle": "2023-08-12T20:17:51.798892Z",
     "shell.execute_reply": "2023-08-12T20:17:51.797751Z"
    },
    "papermill": {
     "duration": 0.105212,
     "end_time": "2023-08-12T20:17:51.801154",
     "exception": false,
     "start_time": "2023-08-12T20:17:51.695942",
     "status": "completed"
    },
    "tags": []
   },
   "outputs": [
    {
     "data": {
      "text/plain": [
       "((162758,), (162758,))"
      ]
     },
     "execution_count": 12,
     "metadata": {},
     "output_type": "execute_result"
    }
   ],
   "source": [
    "train_features = traindf[\"reviewText\"]\n",
    "train_labels = traindf.iloc[:, -1]\n",
    "train_features.shape, train_labels.shape"
   ]
  },
  {
   "cell_type": "markdown",
   "id": "3fd66347",
   "metadata": {
    "papermill": {
     "duration": 0.095588,
     "end_time": "2023-08-12T20:17:51.991740",
     "exception": false,
     "start_time": "2023-08-12T20:17:51.896152",
     "status": "completed"
    },
    "tags": []
   },
   "source": [
    "### Split traindf into training and testing parts  "
   ]
  },
  {
   "cell_type": "code",
   "execution_count": 13,
   "id": "c57e2eb0",
   "metadata": {
    "execution": {
     "iopub.execute_input": "2023-08-12T20:17:52.204990Z",
     "iopub.status.busy": "2023-08-12T20:17:52.204212Z",
     "iopub.status.idle": "2023-08-12T20:17:52.239451Z",
     "shell.execute_reply": "2023-08-12T20:17:52.238628Z"
    },
    "papermill": {
     "duration": 0.153043,
     "end_time": "2023-08-12T20:17:52.242056",
     "exception": false,
     "start_time": "2023-08-12T20:17:52.089013",
     "status": "completed"
    },
    "tags": []
   },
   "outputs": [
    {
     "data": {
      "text/plain": [
       "((122068,), (40690,), (122068,), (40690,))"
      ]
     },
     "execution_count": 13,
     "metadata": {},
     "output_type": "execute_result"
    }
   ],
   "source": [
    "X_train, X_test, y_train, y_test = train_test_split(train_features, train_labels, test_size=0.25, random_state=42)\n",
    "X_train.shape, X_test.shape, y_train.shape, y_test.shape"
   ]
  },
  {
   "cell_type": "markdown",
   "id": "2f17a1b2",
   "metadata": {
    "papermill": {
     "duration": 0.101248,
     "end_time": "2023-08-12T20:17:52.449441",
     "exception": false,
     "start_time": "2023-08-12T20:17:52.348193",
     "status": "completed"
    },
    "tags": []
   },
   "source": [
    "## Model evaluation plan and code  "
   ]
  },
  {
   "cell_type": "code",
   "execution_count": 14,
   "id": "4801c733",
   "metadata": {
    "execution": {
     "iopub.execute_input": "2023-08-12T20:17:52.649666Z",
     "iopub.status.busy": "2023-08-12T20:17:52.648920Z",
     "iopub.status.idle": "2023-08-12T20:17:52.653418Z",
     "shell.execute_reply": "2023-08-12T20:17:52.652468Z"
    },
    "papermill": {
     "duration": 0.105574,
     "end_time": "2023-08-12T20:17:52.655539",
     "exception": false,
     "start_time": "2023-08-12T20:17:52.549965",
     "status": "completed"
    },
    "tags": []
   },
   "outputs": [],
   "source": [
    "# from sklearn.metrics import classification_report, confusion_matrix, ConfusionMatrixDisplay\n",
    "# from sklearn.metrics import f1_score"
   ]
  },
  {
   "cell_type": "code",
   "execution_count": 15,
   "id": "8aa7bf1b",
   "metadata": {
    "execution": {
     "iopub.execute_input": "2023-08-12T20:17:52.848300Z",
     "iopub.status.busy": "2023-08-12T20:17:52.847522Z",
     "iopub.status.idle": "2023-08-12T20:17:52.852149Z",
     "shell.execute_reply": "2023-08-12T20:17:52.851193Z"
    },
    "papermill": {
     "duration": 0.103875,
     "end_time": "2023-08-12T20:17:52.854325",
     "exception": false,
     "start_time": "2023-08-12T20:17:52.750450",
     "status": "completed"
    },
    "tags": []
   },
   "outputs": [],
   "source": [
    "# def evaluate(y_test, y_pred):\n",
    "#     print(classification_report(y_test, y_pred))\n",
    "#     print(confusion_matrix(y_test, y_pred))\n",
    "#     # print(f1_score(y_test, y_pred))\n",
    "#     ConfusionMatrixDisplay(y_test, y_pred)\n",
    "#     return"
   ]
  },
  {
   "cell_type": "markdown",
   "id": "89d3bf36",
   "metadata": {
    "papermill": {
     "duration": 0.095231,
     "end_time": "2023-08-12T20:17:53.044258",
     "exception": false,
     "start_time": "2023-08-12T20:17:52.949027",
     "status": "completed"
    },
    "tags": []
   },
   "source": [
    "### Data preprocessing  "
   ]
  },
  {
   "cell_type": "markdown",
   "id": "5d9d603f",
   "metadata": {
    "papermill": {
     "duration": 0.097731,
     "end_time": "2023-08-12T20:17:53.240852",
     "exception": false,
     "start_time": "2023-08-12T20:17:53.143121",
     "status": "completed"
    },
    "tags": []
   },
   "source": [
    "`Define stop words`  "
   ]
  },
  {
   "cell_type": "code",
   "execution_count": 16,
   "id": "79171170",
   "metadata": {
    "execution": {
     "iopub.execute_input": "2023-08-12T20:17:53.436514Z",
     "iopub.status.busy": "2023-08-12T20:17:53.435910Z",
     "iopub.status.idle": "2023-08-12T20:17:53.440071Z",
     "shell.execute_reply": "2023-08-12T20:17:53.438946Z"
    },
    "papermill": {
     "duration": 0.105755,
     "end_time": "2023-08-12T20:17:53.442415",
     "exception": false,
     "start_time": "2023-08-12T20:17:53.336660",
     "status": "completed"
    },
    "tags": []
   },
   "outputs": [],
   "source": [
    "# stop_words = [\"able\", \"about\", \"above\", \"abst\", \"ac\"]     # Deprecated  \n",
    "# type(stop_words), len(stop_words)"
   ]
  },
  {
   "cell_type": "markdown",
   "id": "bde50dfd",
   "metadata": {
    "papermill": {
     "duration": 0.094802,
     "end_time": "2023-08-12T20:17:53.633331",
     "exception": false,
     "start_time": "2023-08-12T20:17:53.538529",
     "status": "completed"
    },
    "tags": []
   },
   "source": [
    "## Feature extraction  "
   ]
  },
  {
   "cell_type": "markdown",
   "id": "70435b70",
   "metadata": {
    "papermill": {
     "duration": 0.094616,
     "end_time": "2023-08-12T20:17:53.822806",
     "exception": false,
     "start_time": "2023-08-12T20:17:53.728190",
     "status": "completed"
    },
    "tags": []
   },
   "source": [
    "### Understand CountVectorizer and TfidfVectorizer  "
   ]
  },
  {
   "cell_type": "code",
   "execution_count": 17,
   "id": "5afd88ab",
   "metadata": {
    "execution": {
     "iopub.execute_input": "2023-08-12T20:17:54.014978Z",
     "iopub.status.busy": "2023-08-12T20:17:54.013995Z",
     "iopub.status.idle": "2023-08-12T20:17:54.018852Z",
     "shell.execute_reply": "2023-08-12T20:17:54.017723Z"
    },
    "papermill": {
     "duration": 0.103464,
     "end_time": "2023-08-12T20:17:54.021172",
     "exception": false,
     "start_time": "2023-08-12T20:17:53.917708",
     "status": "completed"
    },
    "tags": []
   },
   "outputs": [],
   "source": [
    "# text = X_train.copy()\n",
    "# text.head()"
   ]
  },
  {
   "cell_type": "code",
   "execution_count": 18,
   "id": "91591baf",
   "metadata": {
    "execution": {
     "iopub.execute_input": "2023-08-12T20:17:54.213026Z",
     "iopub.status.busy": "2023-08-12T20:17:54.212024Z",
     "iopub.status.idle": "2023-08-12T20:17:54.216813Z",
     "shell.execute_reply": "2023-08-12T20:17:54.215752Z"
    },
    "papermill": {
     "duration": 0.103007,
     "end_time": "2023-08-12T20:17:54.219076",
     "exception": false,
     "start_time": "2023-08-12T20:17:54.116069",
     "status": "completed"
    },
    "tags": []
   },
   "outputs": [],
   "source": [
    "# vectorizer = TfidfVectorizer(stop_words=stop_words)\n",
    "# vectorized_text = vectorizer.fit_transform(text[\"reviewText\"])\n",
    "# vectorized_text"
   ]
  },
  {
   "cell_type": "markdown",
   "id": "816b07ad",
   "metadata": {
    "papermill": {
     "duration": 0.097158,
     "end_time": "2023-08-12T20:17:54.410217",
     "exception": false,
     "start_time": "2023-08-12T20:17:54.313059",
     "status": "completed"
    },
    "tags": []
   },
   "source": [
    "`Without stop words`  \n",
    "<122068x58624 sparse matrix of type '<class 'numpy.float64'>'\n",
    "\twith 2312222 stored elements in Compressed Sparse Row format>\n",
    "\n",
    "`With stop words`  \n",
    "<122068x57784 sparse matrix of type '<class 'numpy.float64'>'\n",
    "\twith 1188395 stored elements in Compressed Sparse Row format>   "
   ]
  },
  {
   "cell_type": "code",
   "execution_count": 19,
   "id": "4dd1b8b8",
   "metadata": {
    "execution": {
     "iopub.execute_input": "2023-08-12T20:17:54.601296Z",
     "iopub.status.busy": "2023-08-12T20:17:54.600582Z",
     "iopub.status.idle": "2023-08-12T20:17:54.604562Z",
     "shell.execute_reply": "2023-08-12T20:17:54.603841Z"
    },
    "papermill": {
     "duration": 0.10212,
     "end_time": "2023-08-12T20:17:54.606595",
     "exception": false,
     "start_time": "2023-08-12T20:17:54.504475",
     "status": "completed"
    },
    "tags": []
   },
   "outputs": [],
   "source": [
    "# vectorizer2 = CountVectorizer(stop_words=stop_words)\n",
    "# vectorized_text2 = vectorizer2.fit_transform(text[\"reviewText\"])\n",
    "# vectorized_text2"
   ]
  },
  {
   "cell_type": "markdown",
   "id": "c9ad19ee",
   "metadata": {
    "papermill": {
     "duration": 0.094741,
     "end_time": "2023-08-12T20:17:54.795910",
     "exception": false,
     "start_time": "2023-08-12T20:17:54.701169",
     "status": "completed"
    },
    "tags": []
   },
   "source": [
    "`Without stop words`  \n",
    "<122068x58624 sparse matrix of type '<class 'numpy.int64'>'\n",
    "\twith 2312222 stored elements in Compressed Sparse Row format>\n",
    "\n",
    "`With stop words`  \n",
    "<122068x57784 sparse matrix of type '<class 'numpy.int64'>'\n",
    "\twith 1188395 stored elements in Compressed Sparse Row format>"
   ]
  },
  {
   "cell_type": "markdown",
   "id": "8ddb1305",
   "metadata": {
    "papermill": {
     "duration": 0.094235,
     "end_time": "2023-08-12T20:17:54.983609",
     "exception": false,
     "start_time": "2023-08-12T20:17:54.889374",
     "status": "completed"
    },
    "tags": []
   },
   "source": [
    "### Conclusion   \n",
    "`TfidfVectorizer is equivalent to CountVectorizer followed by TfidfTransformer.`  \n",
    "\n",
    "https://scikit-learn.org/stable/modules/generated/sklearn.feature_extraction.text.TfidfVectorizer.html"
   ]
  },
  {
   "cell_type": "markdown",
   "id": "0df574ef",
   "metadata": {
    "papermill": {
     "duration": 0.096013,
     "end_time": "2023-08-12T20:17:55.173803",
     "exception": false,
     "start_time": "2023-08-12T20:17:55.077790",
     "status": "completed"
    },
    "tags": []
   },
   "source": [
    "## Model building workflow  \n",
    "\n",
    "`Make pipeline for preprocesing and model training and predictions`  \n"
   ]
  },
  {
   "cell_type": "code",
   "execution_count": 20,
   "id": "88ff14a4",
   "metadata": {
    "execution": {
     "iopub.execute_input": "2023-08-12T20:17:55.376848Z",
     "iopub.status.busy": "2023-08-12T20:17:55.375659Z",
     "iopub.status.idle": "2023-08-12T20:17:55.381992Z",
     "shell.execute_reply": "2023-08-12T20:17:55.381104Z"
    },
    "papermill": {
     "duration": 0.11182,
     "end_time": "2023-08-12T20:17:55.384909",
     "exception": false,
     "start_time": "2023-08-12T20:17:55.273089",
     "status": "completed"
    },
    "tags": []
   },
   "outputs": [],
   "source": [
    "# def preprocess_n_train(X_train, y_train, preprocessor, model):\n",
    "#     pipe = Pipeline(steps=[\n",
    "#                             (\"preprocessor\", preprocessor),\n",
    "#                             (\"model\", model)\n",
    "#                         ])\n",
    "    \n",
    "#     pipe.fit(X_train, y_train)\n",
    "\n",
    "#     print(\"Given model has been trained. Use predict method to get predictions array.\")\n",
    "#     return pipe\n",
    "\n",
    "\n",
    "# def predict_n_evaluate(pipeline, X_test, y_test):\n",
    "#     y_pred = pipeline.predict(X_test)\n",
    "#     print(f\"y_pred shape: {y_pred.shape}\")\n",
    "#     print(f\"Summary of predictions: {np.unique(y_pred, return_counts=True)}\")\n",
    "#     print(classification_report(y_test, y_pred))\n",
    "#     print(confusion_matrix(y_test, y_pred))\n",
    "#     return y_pred"
   ]
  },
  {
   "cell_type": "markdown",
   "id": "94893d11",
   "metadata": {
    "papermill": {
     "duration": 0.096255,
     "end_time": "2023-08-12T20:17:55.592991",
     "exception": false,
     "start_time": "2023-08-12T20:17:55.496736",
     "status": "completed"
    },
    "tags": []
   },
   "source": [
    "## Building 3 basic models  "
   ]
  },
  {
   "cell_type": "markdown",
   "id": "32d7ab6d",
   "metadata": {
    "papermill": {
     "duration": 0.094575,
     "end_time": "2023-08-12T20:17:55.782886",
     "exception": false,
     "start_time": "2023-08-12T20:17:55.688311",
     "status": "completed"
    },
    "tags": []
   },
   "source": [
    "### Text preprocessors  "
   ]
  },
  {
   "cell_type": "code",
   "execution_count": 21,
   "id": "8b837bd4",
   "metadata": {
    "execution": {
     "iopub.execute_input": "2023-08-12T20:17:55.973634Z",
     "iopub.status.busy": "2023-08-12T20:17:55.973030Z",
     "iopub.status.idle": "2023-08-12T20:17:55.976625Z",
     "shell.execute_reply": "2023-08-12T20:17:55.975915Z"
    },
    "papermill": {
     "duration": 0.101608,
     "end_time": "2023-08-12T20:17:55.978717",
     "exception": false,
     "start_time": "2023-08-12T20:17:55.877109",
     "status": "completed"
    },
    "tags": []
   },
   "outputs": [],
   "source": [
    "# tvec = TfidfVectorizer()\n",
    "# cvec = CountVectorizer()        # Note that TfidfVectorizer and CountVectorizer+TfidsTransformer do the same function\n",
    "# tvec, cvec"
   ]
  },
  {
   "cell_type": "markdown",
   "id": "a24f6b9d",
   "metadata": {
    "papermill": {
     "duration": 0.094663,
     "end_time": "2023-08-12T20:17:56.168642",
     "exception": false,
     "start_time": "2023-08-12T20:17:56.073979",
     "status": "completed"
    },
    "tags": []
   },
   "source": [
    "### Logistic Regression with TfidVectorizer for preprocessing  "
   ]
  },
  {
   "cell_type": "code",
   "execution_count": 22,
   "id": "35362623",
   "metadata": {
    "execution": {
     "iopub.execute_input": "2023-08-12T20:17:56.364730Z",
     "iopub.status.busy": "2023-08-12T20:17:56.364046Z",
     "iopub.status.idle": "2023-08-12T20:17:56.367874Z",
     "shell.execute_reply": "2023-08-12T20:17:56.367084Z"
    },
    "papermill": {
     "duration": 0.104972,
     "end_time": "2023-08-12T20:17:56.369985",
     "exception": false,
     "start_time": "2023-08-12T20:17:56.265013",
     "status": "completed"
    },
    "tags": []
   },
   "outputs": [],
   "source": [
    "# logreg = LogisticRegression(max_iter=1000)\n",
    "# logreg_pipe = preprocess_n_train(X_train, y_train, tvec, logreg)\n",
    "# y_pred_logreg = predict_n_evaluate(logreg_pipe, X_test, y_test)\n",
    "# y_pred_logreg"
   ]
  },
  {
   "cell_type": "markdown",
   "id": "1cffd810",
   "metadata": {
    "papermill": {
     "duration": 0.154619,
     "end_time": "2023-08-12T20:17:56.619769",
     "exception": false,
     "start_time": "2023-08-12T20:17:56.465150",
     "status": "completed"
    },
    "tags": []
   },
   "source": [
    "### SVM model  "
   ]
  },
  {
   "cell_type": "code",
   "execution_count": 23,
   "id": "97f21c66",
   "metadata": {
    "execution": {
     "iopub.execute_input": "2023-08-12T20:17:56.810677Z",
     "iopub.status.busy": "2023-08-12T20:17:56.810077Z",
     "iopub.status.idle": "2023-08-12T20:17:56.814063Z",
     "shell.execute_reply": "2023-08-12T20:17:56.813065Z"
    },
    "papermill": {
     "duration": 0.102483,
     "end_time": "2023-08-12T20:17:56.816540",
     "exception": false,
     "start_time": "2023-08-12T20:17:56.714057",
     "status": "completed"
    },
    "tags": []
   },
   "outputs": [],
   "source": [
    "# svm = LinearSVC()\n",
    "# svm_pipe = preprocess_n_train(X_train, y_train, tvec, svm)\n",
    "# y_pred_svm = predict_n_evaluate(svm_pipe, X_test, y_test)\n",
    "# y_pred_svm"
   ]
  },
  {
   "cell_type": "markdown",
   "id": "1a3df745",
   "metadata": {
    "papermill": {
     "duration": 0.095055,
     "end_time": "2023-08-12T20:17:57.008120",
     "exception": false,
     "start_time": "2023-08-12T20:17:56.913065",
     "status": "completed"
    },
    "tags": []
   },
   "source": [
    "### Naive Bayes model  "
   ]
  },
  {
   "cell_type": "markdown",
   "id": "0eaa2218",
   "metadata": {
    "papermill": {
     "duration": 0.096107,
     "end_time": "2023-08-12T20:17:57.198830",
     "exception": false,
     "start_time": "2023-08-12T20:17:57.102723",
     "status": "completed"
    },
    "tags": []
   },
   "source": [
    "#### MultinomialNB  "
   ]
  },
  {
   "cell_type": "code",
   "execution_count": 24,
   "id": "92607755",
   "metadata": {
    "execution": {
     "iopub.execute_input": "2023-08-12T20:17:57.391324Z",
     "iopub.status.busy": "2023-08-12T20:17:57.390914Z",
     "iopub.status.idle": "2023-08-12T20:17:57.395588Z",
     "shell.execute_reply": "2023-08-12T20:17:57.394437Z"
    },
    "papermill": {
     "duration": 0.10491,
     "end_time": "2023-08-12T20:17:57.397905",
     "exception": false,
     "start_time": "2023-08-12T20:17:57.292995",
     "status": "completed"
    },
    "tags": []
   },
   "outputs": [],
   "source": [
    "# mnb = MultinomialNB()\n",
    "# mnb_pipe = preprocess_n_train(X_train, y_train, tvec, mnb)\n",
    "# y_pred_mnb = predict_n_evaluate(mnb_pipe, X_test, y_test)\n",
    "# y_pred_mnb"
   ]
  },
  {
   "cell_type": "markdown",
   "id": "75eea77b",
   "metadata": {
    "papermill": {
     "duration": 0.093785,
     "end_time": "2023-08-12T20:17:57.586284",
     "exception": false,
     "start_time": "2023-08-12T20:17:57.492499",
     "status": "completed"
    },
    "tags": []
   },
   "source": [
    "## Submitting predictions to Kaggle competition  "
   ]
  },
  {
   "cell_type": "code",
   "execution_count": 25,
   "id": "c454b6ef",
   "metadata": {
    "execution": {
     "iopub.execute_input": "2023-08-12T20:17:57.775760Z",
     "iopub.status.busy": "2023-08-12T20:17:57.775346Z",
     "iopub.status.idle": "2023-08-12T20:17:57.780768Z",
     "shell.execute_reply": "2023-08-12T20:17:57.779659Z"
    },
    "papermill": {
     "duration": 0.103106,
     "end_time": "2023-08-12T20:17:57.783099",
     "exception": false,
     "start_time": "2023-08-12T20:17:57.679993",
     "status": "completed"
    },
    "tags": []
   },
   "outputs": [],
   "source": [
    "# def submit(selected_model=logreg, selected_preprocessor=tvec):\n",
    "    \n",
    "#     # Retrain on the whole train.csv file  \n",
    "#     traindf = pd.read_csv(\"/kaggle/input/sentiment-prediction-on-movie-reviews/train.csv\")\n",
    "#     X_train = traindf[\"reviewText\"]\n",
    "#     X_train.fillna(\"empty\", inplace=True)\n",
    "#     y_train = traindf[\"sentiment\"]\n",
    "#     pipe = preprocess_n_train(X_train, y_train, selected_preprocessor, selected_model)\n",
    "    \n",
    "#     # Predict on test.csv file\n",
    "#     testdf = pd.read_csv(\"/kaggle/input/sentiment-prediction-on-movie-reviews/test.csv\")\n",
    "#     X_test = testdf[\"reviewText\"]\n",
    "#     X_test.fillna(\"empty\", inplace=True)\n",
    "    \n",
    "#     y_pred = pipe.predict(X_test)\n",
    "    \n",
    "#     pred_df = pd.DataFrame(y_pred)\n",
    "#     pred_df.columns = [\"sentiment\"]\n",
    "#     pred_df.index.name = \"id\"\n",
    "#     pred_df.to_csv(\"submission.csv\")\n",
    "    \n",
    "#     return \"Successfully created the submission file!!!\""
   ]
  },
  {
   "cell_type": "code",
   "execution_count": 26,
   "id": "0900f9ff",
   "metadata": {
    "execution": {
     "iopub.execute_input": "2023-08-12T20:17:57.975090Z",
     "iopub.status.busy": "2023-08-12T20:17:57.974661Z",
     "iopub.status.idle": "2023-08-12T20:17:57.979580Z",
     "shell.execute_reply": "2023-08-12T20:17:57.978416Z"
    },
    "papermill": {
     "duration": 0.104391,
     "end_time": "2023-08-12T20:17:57.981697",
     "exception": false,
     "start_time": "2023-08-12T20:17:57.877306",
     "status": "completed"
    },
    "tags": []
   },
   "outputs": [],
   "source": [
    "# submit(logreg_cv1, tvec_cv1)"
   ]
  },
  {
   "cell_type": "markdown",
   "id": "b05abff8",
   "metadata": {
    "papermill": {
     "duration": 0.094351,
     "end_time": "2023-08-12T20:17:58.172316",
     "exception": false,
     "start_time": "2023-08-12T20:17:58.077965",
     "status": "completed"
    },
    "tags": []
   },
   "source": [
    "# PART II  "
   ]
  },
  {
   "cell_type": "markdown",
   "id": "833a780d",
   "metadata": {
    "papermill": {
     "duration": 0.094422,
     "end_time": "2023-08-12T20:17:58.364792",
     "exception": false,
     "start_time": "2023-08-12T20:17:58.270370",
     "status": "completed"
    },
    "tags": []
   },
   "source": [
    "## Merge \"movies.csv\" with \"train.csv\" and \"test.csv\"  "
   ]
  },
  {
   "cell_type": "markdown",
   "id": "b360bd3b",
   "metadata": {
    "papermill": {
     "duration": 0.093827,
     "end_time": "2023-08-12T20:17:58.552741",
     "exception": false,
     "start_time": "2023-08-12T20:17:58.458914",
     "status": "completed"
    },
    "tags": []
   },
   "source": [
    "### Helper functions  "
   ]
  },
  {
   "cell_type": "code",
   "execution_count": 27,
   "id": "964010c1",
   "metadata": {
    "execution": {
     "iopub.execute_input": "2023-08-12T20:17:58.743348Z",
     "iopub.status.busy": "2023-08-12T20:17:58.742209Z",
     "iopub.status.idle": "2023-08-12T20:17:58.748836Z",
     "shell.execute_reply": "2023-08-12T20:17:58.747929Z"
    },
    "papermill": {
     "duration": 0.104079,
     "end_time": "2023-08-12T20:17:58.751226",
     "exception": false,
     "start_time": "2023-08-12T20:17:58.647147",
     "status": "completed"
    },
    "tags": []
   },
   "outputs": [],
   "source": [
    "# Helper function for loading files  \n",
    "\n",
    "def load_csv(filename: str):\n",
    "    if platform == \"vscode\":\n",
    "        df = pd.read_csv(f\"data/{filename}.csv\")\n",
    "    else:\n",
    "        df = pd.read_csv(f\"/kaggle/input/sentiment-prediction-on-movie-reviews/{filename}.csv\")\n",
    "        \n",
    "    return df"
   ]
  },
  {
   "cell_type": "code",
   "execution_count": 28,
   "id": "e0bd1269",
   "metadata": {
    "execution": {
     "iopub.execute_input": "2023-08-12T20:17:58.940027Z",
     "iopub.status.busy": "2023-08-12T20:17:58.939592Z",
     "iopub.status.idle": "2023-08-12T20:17:58.945654Z",
     "shell.execute_reply": "2023-08-12T20:17:58.944552Z"
    },
    "papermill": {
     "duration": 0.104026,
     "end_time": "2023-08-12T20:17:58.948117",
     "exception": false,
     "start_time": "2023-08-12T20:17:58.844091",
     "status": "completed"
    },
    "tags": []
   },
   "outputs": [],
   "source": [
    "def inspect(df: pd.DataFrame):\n",
    "    print(f\"Shape of the dataframe: {df.shape}\")\n",
    "    print()\n",
    "    print(f\"Columns in the dataframe:\\n{df.columns}\")\n",
    "    print()\n",
    "    print(f\"{df.info()}\")\n",
    "    print()\n",
    "    # print(f\"Summary: {df.describe()}\")\n",
    "    print(f\"Missing values:\\n{df.isna().sum()}\")\n",
    "    return"
   ]
  },
  {
   "cell_type": "code",
   "execution_count": 29,
   "id": "e700f61a",
   "metadata": {
    "execution": {
     "iopub.execute_input": "2023-08-12T20:17:59.141393Z",
     "iopub.status.busy": "2023-08-12T20:17:59.141011Z",
     "iopub.status.idle": "2023-08-12T20:17:59.146260Z",
     "shell.execute_reply": "2023-08-12T20:17:59.145156Z"
    },
    "papermill": {
     "duration": 0.105355,
     "end_time": "2023-08-12T20:17:59.148535",
     "exception": false,
     "start_time": "2023-08-12T20:17:59.043180",
     "status": "completed"
    },
    "tags": []
   },
   "outputs": [],
   "source": [
    "def name_fl(name):\n",
    "    l = name.split()\n",
    "    n = ' '.join((l[0], l[-1]))\n",
    "    return n"
   ]
  },
  {
   "cell_type": "code",
   "execution_count": 30,
   "id": "10bef3ce",
   "metadata": {
    "execution": {
     "iopub.execute_input": "2023-08-12T20:17:59.339288Z",
     "iopub.status.busy": "2023-08-12T20:17:59.338917Z",
     "iopub.status.idle": "2023-08-12T20:17:59.367218Z",
     "shell.execute_reply": "2023-08-12T20:17:59.366123Z"
    },
    "papermill": {
     "duration": 0.126268,
     "end_time": "2023-08-12T20:17:59.369588",
     "exception": false,
     "start_time": "2023-08-12T20:17:59.243320",
     "status": "completed"
    },
    "tags": []
   },
   "outputs": [],
   "source": [
    "def select_features(df: pd.DataFrame, moviesdf: pd.DataFrame, row_thresh_null=None):\n",
    "    '''\n",
    "    This function merges the given dataframes. Note that the first df must be \"train\" or \"test\" and\n",
    "    the second df should be \"movies\".\n",
    "    Note: Sentiment column is present only in \"train.csv\" file and not \"test.csv\" file.\n",
    "    '''\n",
    "    \n",
    "    # Drop duplicates from moviesdf\n",
    "#     movies_unique = moviesdf.drop_duplicates(subset=[\"movieid\"])\n",
    "\n",
    "    # Drop duplicates using groupby - clubs similar rows and fills in missing values better\n",
    "    movies_unique = moviesdf.fillna(value=np.nan).groupby(\"movieid\").first().reset_index()\n",
    "    \n",
    "\n",
    "    # Handle missing values in movies.csv better than just dropping duplicates?\n",
    "#     movies_unique = moviesdf.copy()\n",
    "#     movies_unique[[\"audienceScore\", \"runtimeMinutes\"]] = movies_unique[[\"audienceScore\", \"runtimeMinutes\"]].interpolate(method='linear', axis=0)\n",
    "#     movies_unique = movies_unique.fillna(value=np.nan).groupby(\"movieid\").first().fillna(method='ffill').reset_index()\n",
    "\n",
    "    \n",
    "\n",
    "    # Merge df and movies_unique\n",
    "    df_merged = pd.merge(df, movies_unique, on=\"movieid\", how='left')\n",
    "    \n",
    "    # Rename \"isTopCritic\" column, if it exists, to \"isFrequentReviewer\"\n",
    "    df_merged.rename(columns={\"isTopCritic\": \"isFrequentReviewer\"}, inplace=True)\n",
    "    \n",
    "    # Drop columns\n",
    "#     df_merged = df_merged.drop(columns=[\"title\", \"ratingContents\", \"releaseDateTheaters\", \"releaseDateStreaming\", \"distributor\", \"soundType\"])\n",
    "#     df_merged = df_merged.drop(columns=[\"title\", \"soundType\"])\n",
    "    \n",
    "    # Drop rows (OPTIONAL: Uses kwarg row_thresh_null)\n",
    "    if row_thresh_null != None:\n",
    "        df_merged.dropna(axis=0, thresh=(df_merged.shape[1] - row_thresh_null), inplace=True)\n",
    "        \n",
    "\n",
    "    # Create new columns based on reviewText\n",
    "    final = df_merged.copy()\n",
    "    final[\"reviewYN\"] = np.where(final[\"reviewText\"].isnull(), 1, 0)    # Feature engineering - adding a new column\n",
    "    final[\"reviewWC\"] = final.apply(lambda x: len(str(x[\"reviewText\"]).split()), axis=1)    # Feature engineering - adding second new column\n",
    "    \n",
    "    # Clean text (replace numbers with empty string) and fill missing values in \"reviewText\" with empty string\n",
    "    final[\"reviewText\"] = final[\"reviewText\"].str.replace('\\d+', '', regex=True)\n",
    "    final[\"reviewText\"] = final[\"reviewText\"].fillna(\"neutral\")\n",
    "    \n",
    "    # Fill missing values in \"rating\", \"genre\", original columns with the word \"unknown\"\n",
    "    final[\"rating\"] = final[\"rating\"].fillna(\"unknown\")\n",
    "    final[\"originalLanguage\"] = final[\"originalLanguage\"].fillna(\"unknown\")\n",
    "    final[\"genre\"] = final[\"genre\"].fillna(\"unknown\")\n",
    "    final[\"genre\"] = final[\"genre\"].apply(lambda x: re.sub(r\"-\", \"\", x))\n",
    "    final[\"genreSorted\"] = final[\"genre\"].apply(lambda x: (\",\").join(sorted(x.split(\", \"))))\n",
    "#     final[\"genre\"] = final[\"genre\"].replace(to_replace={\"&\": \"\"})\n",
    "\n",
    "    # Impute missing values for \"audienceScore\" and \"runtimeMinutes\" columns\n",
    "#     final[\"audienceScore\"] = final[\"audienceScore\"].fillna(final[\"audienceScore\"].mean())        # MOVED\n",
    "#     final[\"runtimeMinutes\"] = final[\"runtimeMinutes\"].fillna(final[\"runtimeMinutes\"].median())   # MOVED\n",
    "    \n",
    "    # Preprocess and impute missing values in \"boxOffice\" column\n",
    "    final[\"boxOffice\"] = final[\"boxOffice\"].str[1:]\n",
    "    final[\"boxOffice\"] = final[\"boxOffice\"].replace(to_replace={\"M\": \"*1000000\", \"K\": \"*1000\"}, regex=True)\n",
    "    final[\"boxOffice\"] = final[\"boxOffice\"].loc[final[\"boxOffice\"].notnull()].apply(lambda x: eval(str(x)))\n",
    "#     final[\"boxOffice\"] = final[\"boxOffice\"].fillna(final[\"boxOffice\"].median())                  # MOVED\n",
    "    # (Optional) Replace outliers in boxOffice with median\n",
    "#     median = final[\"boxOffice\"].describe()['50%']\n",
    "#     iqr = final[\"boxOffice\"].describe()['75%'] - final[\"boxOffice\"].describe()['25%']\n",
    "#     ll = median - (1.5*iqr)\n",
    "#     ul = median + (1.5*iqr)\n",
    "#     final.loc[final[\"boxOffice\"] > ul, \"boxOffice\"] = median\n",
    "    \n",
    "    # Clean language names\n",
    "    final[\"originalLanguage\"].replace({\"English (United Kingdom)\": \"English\", \n",
    "                                            \"English (Australia)\" : \"English\",\n",
    "                                            \"French (France)\": \"French\", \n",
    "                                            \"French (Canada)\": \"French\",\n",
    "                                            \"Portuguese (Brazil)\": \"Portuguese\",\n",
    "                                            \"Spanish (Spain)\": \"Spanish\"},                                         \n",
    "                                            inplace=True)\n",
    "    \n",
    "    # Clean reviewerName column\n",
    "    pre_post_fixes = {\"Mr. \": \"\", \"Mrs. \": \"\", \"Ms. \": \"\", \"Dr. \": \"\", \n",
    "                      \" MD\": \"\", \" DDS\": \"\", \" DVM\": \"\", \" Jr.\": \"\", \" PhD\": \"\", \" II\": \"\", \" IV\": \"\"}\n",
    "    final[\"reviewerName\"] = final[\"reviewerName\"].replace(pre_post_fixes, regex=True)\n",
    "    final[\"reviewerName\"] = final[\"reviewerName\"].apply(name_fl)\n",
    "    \n",
    "    # Handle 'ratingContents' column\n",
    "    final[\"ratingContents\"] = final[\"ratingContents\"].fillna(\"neutral\")\n",
    "    final[\"rcSorted\"] = final[\"ratingContents\"].apply(lambda x: (\",\").join(sorted(x.strip(\"][\").split(\", \"))))\n",
    "    final[\"rcSorted\"] = final[\"rcSorted\"].apply(lambda x: re.sub(r\"'\", \"\", x))\n",
    "    final[\"rcSorted\"] = final[\"rcSorted\"].apply(lambda x: re.sub(r\"[/\\s]\", \"_\", x))  \n",
    "    \n",
    "    # Handle 'ratingContents' column\n",
    "    final[\"distributor\"] = final[\"distributor\"].fillna(\"unknown\")\n",
    "    \n",
    "    # Work with 'releaseDateTheaters', releaseDateStreaming column\n",
    "    final[[\"releaseDateTheaters\", \"releaseDateStreaming\"]] = final[[\"releaseDateTheaters\", \"releaseDateStreaming\"]].astype('datetime64[ns]')\n",
    "\n",
    "    final[\"releaseDate\"] = final[[\"releaseDateTheaters\", \"releaseDateStreaming\"]].min(axis=1, skipna=False)\n",
    "#     final[\"releaseDate\"] = final[\"releaseDate\"].fillna(final[\"releaseDate\"].median())               # MOVED\n",
    "\n",
    "    final[\"releaseYear\"] = final[\"releaseDate\"].dt.year\n",
    "    final[\"releaseMonth\"] = final[\"releaseDate\"].dt.month\n",
    "    \n",
    "    # Compute \"releaseDiff\" column and fill missing values in \"releaseDiff\" and (optional) replace outliers\n",
    "    final[\"releaseDiff\"] = (final[\"releaseDateStreaming\"] - final[\"releaseDateTheaters\"]) / np.timedelta64(1, 'D')\n",
    "    final[\"releaseDiff\"] = final[\"releaseDiff\"].apply(lambda x: abs(x))\n",
    "    final[\"releaseDiff\"] = final[\"releaseDiff\"].fillna(value=0)\n",
    "#     final[\"releaseDiff\"] = final[\"releaseDiff\"].fillna(final[\"releaseDiff\"].median())\n",
    "    # median = final[\"releaseDiff\"].describe()['50%']\n",
    "    # iqr = final[\"releaseDiff\"].describe()['75%'] - final[\"releaseDiff\"].describe()['25%']\n",
    "    # ll = median - (1.5*iqr)\n",
    "    # ul = median + (1.5*iqr)\n",
    "    # final.loc[final[\"releaseDiff\"] > ul, \"releaseDiff\"] = median\n",
    "    # final.loc[final[\"releaseDiff\"] < ll, \"releaseDiff\"] = median\n",
    "    \n",
    "#     # Create new feature columns\n",
    "    \n",
    "#     # Convert audienceScore to categories  \n",
    "#     num_bins_as = 20\n",
    "#     final[\"audScoreBins\"] = pd.cut(final['audienceScore'], bins=num_bins_as, labels=False)\n",
    "    \n",
    "#     # Convert runtimeMinutes to categories  \n",
    "# #     num_bins_rt = 20\n",
    "#     final[\"runtimeBins\"] = pd.cut(final['runtimeMinutes'], bins=[0,75,120,180,565], labels=[4,3,2,1])\n",
    "    \n",
    "#     # Convert boxOffice to categories  \n",
    "#     num_bins_bo = 5\n",
    "#     final[\"boxOfficeBins\"] = pd.cut(final['boxOffice'], bins=num_bins_bo, labels=False)\n",
    "    \n",
    "#     # Convert releaseDiff to categories  \n",
    "#     num_bins_rd = 5\n",
    "#     final[\"releaseDiffBins\"] = pd.cut(final['releaseDiff'], bins=[-1, 180, 360, 1000, 40000], labels=[0, 1, 2, 3])\n",
    "\n",
    "    return final"
   ]
  },
  {
   "cell_type": "code",
   "execution_count": 31,
   "id": "0c639f21",
   "metadata": {
    "execution": {
     "iopub.execute_input": "2023-08-12T20:17:59.561640Z",
     "iopub.status.busy": "2023-08-12T20:17:59.561265Z",
     "iopub.status.idle": "2023-08-12T20:17:59.568649Z",
     "shell.execute_reply": "2023-08-12T20:17:59.567563Z"
    },
    "papermill": {
     "duration": 0.106585,
     "end_time": "2023-08-12T20:17:59.571013",
     "exception": false,
     "start_time": "2023-08-12T20:17:59.464428",
     "status": "completed"
    },
    "tags": []
   },
   "outputs": [],
   "source": [
    "def split_train_predict(features, labels, pipeline, test_size=0.25, random_state=42):\n",
    "    # cols = features.columns\n",
    "    if len(features.shape) == 1:\n",
    "        features = features.to_numpy().reshape(-1, 1)  # reshape to 2D array\n",
    "    features = pd.DataFrame(features)\n",
    "    X_train, X_test, y_train, y_test = train_test_split(features, labels, test_size=test_size, random_state=random_state)\n",
    "    pipeline.fit(X_train, y_train)\n",
    "    y_pred = pipeline.predict(X_test)\n",
    "    print(classification_report(y_test, y_pred))\n",
    "    print(confusion_matrix(y_test, y_pred))\n",
    "    return pipeline"
   ]
  },
  {
   "cell_type": "markdown",
   "id": "0007dcf6",
   "metadata": {
    "papermill": {
     "duration": 0.093694,
     "end_time": "2023-08-12T20:17:59.759304",
     "exception": false,
     "start_time": "2023-08-12T20:17:59.665610",
     "status": "completed"
    },
    "tags": []
   },
   "source": [
    "### Merge \"train.csv\" file with \"movies.csv\" file  "
   ]
  },
  {
   "cell_type": "code",
   "execution_count": 32,
   "id": "dd845f95",
   "metadata": {
    "execution": {
     "iopub.execute_input": "2023-08-12T20:17:59.949896Z",
     "iopub.status.busy": "2023-08-12T20:17:59.949496Z",
     "iopub.status.idle": "2023-08-12T20:18:14.367762Z",
     "shell.execute_reply": "2023-08-12T20:18:14.366593Z"
    },
    "papermill": {
     "duration": 14.517108,
     "end_time": "2023-08-12T20:18:14.370504",
     "exception": false,
     "start_time": "2023-08-12T20:17:59.853396",
     "status": "completed"
    },
    "tags": []
   },
   "outputs": [],
   "source": [
    "merged = select_features(load_csv(\"train\"), load_csv(\"movies\"), row_thresh_null=None)"
   ]
  },
  {
   "cell_type": "code",
   "execution_count": 33,
   "id": "47f268af",
   "metadata": {
    "execution": {
     "iopub.execute_input": "2023-08-12T20:18:14.561898Z",
     "iopub.status.busy": "2023-08-12T20:18:14.561494Z",
     "iopub.status.idle": "2023-08-12T20:18:14.565995Z",
     "shell.execute_reply": "2023-08-12T20:18:14.564747Z"
    },
    "papermill": {
     "duration": 0.102423,
     "end_time": "2023-08-12T20:18:14.568294",
     "exception": false,
     "start_time": "2023-08-12T20:18:14.465871",
     "status": "completed"
    },
    "tags": []
   },
   "outputs": [],
   "source": [
    "# inspect(merged)    # Note missing values in ['audienceScore', 'runtimeMinutes', 'boxOffice'] columns  "
   ]
  },
  {
   "cell_type": "code",
   "execution_count": 34,
   "id": "00971bdc",
   "metadata": {
    "execution": {
     "iopub.execute_input": "2023-08-12T20:18:14.758220Z",
     "iopub.status.busy": "2023-08-12T20:18:14.757844Z",
     "iopub.status.idle": "2023-08-12T20:18:14.843963Z",
     "shell.execute_reply": "2023-08-12T20:18:14.842761Z"
    },
    "papermill": {
     "duration": 0.183971,
     "end_time": "2023-08-12T20:18:14.846553",
     "exception": false,
     "start_time": "2023-08-12T20:18:14.662582",
     "status": "completed"
    },
    "tags": []
   },
   "outputs": [
    {
     "data": {
      "text/plain": [
       "array([6.80e+01, 1.04e+02, 1.43e+07])"
      ]
     },
     "execution_count": 34,
     "metadata": {},
     "output_type": "execute_result"
    }
   ],
   "source": [
    "# Simple Imputer for ['audienceScore', 'runtimeMinutes', 'boxOffice'] columns\n",
    "si = SimpleImputer(strategy='median')\n",
    "merged[['audienceScore', 'runtimeMinutes', 'boxOffice']] = si.fit_transform(merged[['audienceScore', 'runtimeMinutes', 'boxOffice']])\n",
    "si.statistics_"
   ]
  },
  {
   "cell_type": "code",
   "execution_count": 35,
   "id": "4b763c35",
   "metadata": {
    "execution": {
     "iopub.execute_input": "2023-08-12T20:18:15.040994Z",
     "iopub.status.busy": "2023-08-12T20:18:15.040310Z",
     "iopub.status.idle": "2023-08-12T20:18:15.055086Z",
     "shell.execute_reply": "2023-08-12T20:18:15.054015Z"
    },
    "papermill": {
     "duration": 0.116529,
     "end_time": "2023-08-12T20:18:15.057695",
     "exception": false,
     "start_time": "2023-08-12T20:18:14.941166",
     "status": "completed"
    },
    "tags": []
   },
   "outputs": [],
   "source": [
    "# Fill 'releaseDate' column with median  \n",
    "merged['releaseDate'] = merged[\"releaseDate\"].fillna(merged[\"releaseDate\"].median())"
   ]
  },
  {
   "cell_type": "code",
   "execution_count": 36,
   "id": "bdbdddb6",
   "metadata": {
    "execution": {
     "iopub.execute_input": "2023-08-12T20:18:15.255410Z",
     "iopub.status.busy": "2023-08-12T20:18:15.255026Z",
     "iopub.status.idle": "2023-08-12T20:18:16.722705Z",
     "shell.execute_reply": "2023-08-12T20:18:16.721137Z"
    },
    "papermill": {
     "duration": 1.570059,
     "end_time": "2023-08-12T20:18:16.725359",
     "exception": false,
     "start_time": "2023-08-12T20:18:15.155300",
     "status": "completed"
    },
    "tags": []
   },
   "outputs": [
    {
     "name": "stdout",
     "output_type": "stream",
     "text": [
      "Shape of the dataframe: (162758, 26)\n",
      "\n",
      "Columns in the dataframe:\n",
      "Index(['movieid', 'reviewerName', 'isFrequentReviewer', 'reviewText',\n",
      "       'sentiment', 'title', 'audienceScore', 'rating', 'ratingContents',\n",
      "       'releaseDateTheaters', 'releaseDateStreaming', 'runtimeMinutes',\n",
      "       'genre', 'originalLanguage', 'director', 'boxOffice', 'distributor',\n",
      "       'soundType', 'reviewYN', 'reviewWC', 'genreSorted', 'rcSorted',\n",
      "       'releaseDate', 'releaseYear', 'releaseMonth', 'releaseDiff'],\n",
      "      dtype='object')\n",
      "\n",
      "<class 'pandas.core.frame.DataFrame'>\n",
      "Int64Index: 162758 entries, 0 to 162757\n",
      "Data columns (total 26 columns):\n",
      " #   Column                Non-Null Count   Dtype         \n",
      "---  ------                --------------   -----         \n",
      " 0   movieid               162758 non-null  object        \n",
      " 1   reviewerName          162758 non-null  object        \n",
      " 2   isFrequentReviewer    162758 non-null  bool          \n",
      " 3   reviewText            162758 non-null  object        \n",
      " 4   sentiment             162758 non-null  object        \n",
      " 5   title                 162758 non-null  object        \n",
      " 6   audienceScore         162758 non-null  float64       \n",
      " 7   rating                162758 non-null  object        \n",
      " 8   ratingContents        162758 non-null  object        \n",
      " 9   releaseDateTheaters   146403 non-null  datetime64[ns]\n",
      " 10  releaseDateStreaming  157353 non-null  datetime64[ns]\n",
      " 11  runtimeMinutes        162758 non-null  float64       \n",
      " 12  genre                 162758 non-null  object        \n",
      " 13  originalLanguage      162758 non-null  object        \n",
      " 14  director              162758 non-null  object        \n",
      " 15  boxOffice             162758 non-null  float64       \n",
      " 16  distributor           162758 non-null  object        \n",
      " 17  soundType             93466 non-null   object        \n",
      " 18  reviewYN              162758 non-null  int64         \n",
      " 19  reviewWC              162758 non-null  int64         \n",
      " 20  genreSorted           162758 non-null  object        \n",
      " 21  rcSorted              162758 non-null  object        \n",
      " 22  releaseDate           162758 non-null  datetime64[ns]\n",
      " 23  releaseYear           143073 non-null  float64       \n",
      " 24  releaseMonth          143073 non-null  float64       \n",
      " 25  releaseDiff           162758 non-null  float64       \n",
      "dtypes: bool(1), datetime64[ns](3), float64(6), int64(2), object(14)\n",
      "memory usage: 32.4+ MB\n",
      "None\n",
      "\n",
      "Missing values:\n",
      "movieid                     0\n",
      "reviewerName                0\n",
      "isFrequentReviewer          0\n",
      "reviewText                  0\n",
      "sentiment                   0\n",
      "title                       0\n",
      "audienceScore               0\n",
      "rating                      0\n",
      "ratingContents              0\n",
      "releaseDateTheaters     16355\n",
      "releaseDateStreaming     5405\n",
      "runtimeMinutes              0\n",
      "genre                       0\n",
      "originalLanguage            0\n",
      "director                    0\n",
      "boxOffice                   0\n",
      "distributor                 0\n",
      "soundType               69292\n",
      "reviewYN                    0\n",
      "reviewWC                    0\n",
      "genreSorted                 0\n",
      "rcSorted                    0\n",
      "releaseDate                 0\n",
      "releaseYear             19685\n",
      "releaseMonth            19685\n",
      "releaseDiff                 0\n",
      "dtype: int64\n"
     ]
    }
   ],
   "source": [
    "# Check out 'merged' df after imputation  \n",
    "inspect(merged)"
   ]
  },
  {
   "cell_type": "code",
   "execution_count": 37,
   "id": "4af1aaa5",
   "metadata": {
    "execution": {
     "iopub.execute_input": "2023-08-12T20:18:16.917767Z",
     "iopub.status.busy": "2023-08-12T20:18:16.917353Z",
     "iopub.status.idle": "2023-08-12T20:18:16.972942Z",
     "shell.execute_reply": "2023-08-12T20:18:16.971833Z"
    },
    "papermill": {
     "duration": 0.154753,
     "end_time": "2023-08-12T20:18:16.975352",
     "exception": false,
     "start_time": "2023-08-12T20:18:16.820599",
     "status": "completed"
    },
    "tags": []
   },
   "outputs": [
    {
     "data": {
      "text/html": [
       "<div>\n",
       "<style scoped>\n",
       "    .dataframe tbody tr th:only-of-type {\n",
       "        vertical-align: middle;\n",
       "    }\n",
       "\n",
       "    .dataframe tbody tr th {\n",
       "        vertical-align: top;\n",
       "    }\n",
       "\n",
       "    .dataframe thead th {\n",
       "        text-align: right;\n",
       "    }\n",
       "</style>\n",
       "<table border=\"1\" class=\"dataframe\">\n",
       "  <thead>\n",
       "    <tr style=\"text-align: right;\">\n",
       "      <th></th>\n",
       "      <th>audienceScore</th>\n",
       "      <th>runtimeMinutes</th>\n",
       "      <th>boxOffice</th>\n",
       "    </tr>\n",
       "  </thead>\n",
       "  <tbody>\n",
       "    <tr>\n",
       "      <th>count</th>\n",
       "      <td>162758.000000</td>\n",
       "      <td>162758.000000</td>\n",
       "      <td>1.627580e+05</td>\n",
       "    </tr>\n",
       "    <tr>\n",
       "      <th>mean</th>\n",
       "      <td>65.062565</td>\n",
       "      <td>106.992019</td>\n",
       "      <td>4.160983e+07</td>\n",
       "    </tr>\n",
       "    <tr>\n",
       "      <th>std</th>\n",
       "      <td>19.844000</td>\n",
       "      <td>22.203778</td>\n",
       "      <td>7.932291e+07</td>\n",
       "    </tr>\n",
       "    <tr>\n",
       "      <th>min</th>\n",
       "      <td>0.000000</td>\n",
       "      <td>4.000000</td>\n",
       "      <td>0.000000e+00</td>\n",
       "    </tr>\n",
       "    <tr>\n",
       "      <th>25%</th>\n",
       "      <td>51.000000</td>\n",
       "      <td>93.000000</td>\n",
       "      <td>2.000000e+06</td>\n",
       "    </tr>\n",
       "    <tr>\n",
       "      <th>50%</th>\n",
       "      <td>68.000000</td>\n",
       "      <td>104.000000</td>\n",
       "      <td>1.430000e+07</td>\n",
       "    </tr>\n",
       "    <tr>\n",
       "      <th>75%</th>\n",
       "      <td>81.000000</td>\n",
       "      <td>118.000000</td>\n",
       "      <td>4.200000e+07</td>\n",
       "    </tr>\n",
       "    <tr>\n",
       "      <th>max</th>\n",
       "      <td>100.000000</td>\n",
       "      <td>561.000000</td>\n",
       "      <td>8.584000e+08</td>\n",
       "    </tr>\n",
       "  </tbody>\n",
       "</table>\n",
       "</div>"
      ],
      "text/plain": [
       "       audienceScore  runtimeMinutes     boxOffice\n",
       "count  162758.000000   162758.000000  1.627580e+05\n",
       "mean       65.062565      106.992019  4.160983e+07\n",
       "std        19.844000       22.203778  7.932291e+07\n",
       "min         0.000000        4.000000  0.000000e+00\n",
       "25%        51.000000       93.000000  2.000000e+06\n",
       "50%        68.000000      104.000000  1.430000e+07\n",
       "75%        81.000000      118.000000  4.200000e+07\n",
       "max       100.000000      561.000000  8.584000e+08"
      ]
     },
     "execution_count": 37,
     "metadata": {},
     "output_type": "execute_result"
    }
   ],
   "source": [
    "merged[['audienceScore', 'runtimeMinutes', 'boxOffice']].describe()"
   ]
  },
  {
   "cell_type": "markdown",
   "id": "7fe0ac27",
   "metadata": {
    "papermill": {
     "duration": 0.098273,
     "end_time": "2023-08-12T20:18:17.169739",
     "exception": false,
     "start_time": "2023-08-12T20:18:17.071466",
     "status": "completed"
    },
    "tags": []
   },
   "source": [
    "### EDA releaseDiff  "
   ]
  },
  {
   "cell_type": "code",
   "execution_count": 38,
   "id": "1ef16d91",
   "metadata": {
    "execution": {
     "iopub.execute_input": "2023-08-12T20:18:17.363271Z",
     "iopub.status.busy": "2023-08-12T20:18:17.362539Z",
     "iopub.status.idle": "2023-08-12T20:18:17.380227Z",
     "shell.execute_reply": "2023-08-12T20:18:17.379183Z"
    },
    "papermill": {
     "duration": 0.116815,
     "end_time": "2023-08-12T20:18:17.382476",
     "exception": false,
     "start_time": "2023-08-12T20:18:17.265661",
     "status": "completed"
    },
    "tags": []
   },
   "outputs": [
    {
     "data": {
      "text/plain": [
       "count    162758.000000\n",
       "mean       1653.469015\n",
       "std        4581.420922\n",
       "min           0.000000\n",
       "25%          65.000000\n",
       "50%         116.000000\n",
       "75%         375.000000\n",
       "max       38922.000000\n",
       "Name: releaseDiff, dtype: float64"
      ]
     },
     "execution_count": 38,
     "metadata": {},
     "output_type": "execute_result"
    }
   ],
   "source": [
    "# abs values\n",
    "merged[\"releaseDiff\"].describe()"
   ]
  },
  {
   "cell_type": "code",
   "execution_count": 39,
   "id": "1dbd8925",
   "metadata": {
    "execution": {
     "iopub.execute_input": "2023-08-12T20:18:17.578541Z",
     "iopub.status.busy": "2023-08-12T20:18:17.577831Z",
     "iopub.status.idle": "2023-08-12T20:18:17.582346Z",
     "shell.execute_reply": "2023-08-12T20:18:17.581596Z"
    },
    "papermill": {
     "duration": 0.104698,
     "end_time": "2023-08-12T20:18:17.584504",
     "exception": false,
     "start_time": "2023-08-12T20:18:17.479806",
     "status": "completed"
    },
    "tags": []
   },
   "outputs": [],
   "source": [
    "# merged['releaseDiffBins'].value_counts()"
   ]
  },
  {
   "cell_type": "code",
   "execution_count": 40,
   "id": "8ff70096",
   "metadata": {
    "execution": {
     "iopub.execute_input": "2023-08-12T20:18:17.779847Z",
     "iopub.status.busy": "2023-08-12T20:18:17.779099Z",
     "iopub.status.idle": "2023-08-12T20:18:18.152582Z",
     "shell.execute_reply": "2023-08-12T20:18:18.151468Z"
    },
    "papermill": {
     "duration": 0.473975,
     "end_time": "2023-08-12T20:18:18.155084",
     "exception": false,
     "start_time": "2023-08-12T20:18:17.681109",
     "status": "completed"
    },
    "tags": []
   },
   "outputs": [
    {
     "data": {
      "text/plain": [
       "<Axes: xlabel='sentiment', ylabel='releaseDiff'>"
      ]
     },
     "execution_count": 40,
     "metadata": {},
     "output_type": "execute_result"
    },
    {
     "data": {
      "image/png": "[encoded data removed]",
      "text/plain": [
       "<Figure size 640x480 with 1 Axes>"
      ]
     },
     "metadata": {},
     "output_type": "display_data"
    }
   ],
   "source": [
    "sns.boxplot(x=merged['sentiment'], y=merged['releaseDiff'], showfliers=False)"
   ]
  },
  {
   "cell_type": "code",
   "execution_count": 41,
   "id": "28446ff2",
   "metadata": {
    "execution": {
     "iopub.execute_input": "2023-08-12T20:18:18.352923Z",
     "iopub.status.busy": "2023-08-12T20:18:18.352515Z",
     "iopub.status.idle": "2023-08-12T20:18:18.356786Z",
     "shell.execute_reply": "2023-08-12T20:18:18.355720Z"
    },
    "papermill": {
     "duration": 0.105206,
     "end_time": "2023-08-12T20:18:18.359141",
     "exception": false,
     "start_time": "2023-08-12T20:18:18.253935",
     "status": "completed"
    },
    "tags": []
   },
   "outputs": [],
   "source": [
    "# sns.displot(merged['releaseDiffBins'])"
   ]
  },
  {
   "cell_type": "code",
   "execution_count": 42,
   "id": "10bdefb6",
   "metadata": {
    "execution": {
     "iopub.execute_input": "2023-08-12T20:18:18.555731Z",
     "iopub.status.busy": "2023-08-12T20:18:18.554614Z",
     "iopub.status.idle": "2023-08-12T20:18:18.559723Z",
     "shell.execute_reply": "2023-08-12T20:18:18.558664Z"
    },
    "papermill": {
     "duration": 0.104858,
     "end_time": "2023-08-12T20:18:18.562107",
     "exception": false,
     "start_time": "2023-08-12T20:18:18.457249",
     "status": "completed"
    },
    "tags": []
   },
   "outputs": [],
   "source": [
    "# merged['sentiment'].loc[merged['releaseDiffBins'] > 0].value_counts()"
   ]
  },
  {
   "cell_type": "code",
   "execution_count": 43,
   "id": "86be9b0c",
   "metadata": {
    "execution": {
     "iopub.execute_input": "2023-08-12T20:18:18.755289Z",
     "iopub.status.busy": "2023-08-12T20:18:18.754920Z",
     "iopub.status.idle": "2023-08-12T20:18:18.759240Z",
     "shell.execute_reply": "2023-08-12T20:18:18.758174Z"
    },
    "papermill": {
     "duration": 0.103814,
     "end_time": "2023-08-12T20:18:18.761429",
     "exception": false,
     "start_time": "2023-08-12T20:18:18.657615",
     "status": "completed"
    },
    "tags": []
   },
   "outputs": [],
   "source": [
    "# merged['releaseDiffBins'].describe()"
   ]
  },
  {
   "cell_type": "markdown",
   "id": "4770c3c6",
   "metadata": {
    "papermill": {
     "duration": 0.095034,
     "end_time": "2023-08-12T20:18:18.951812",
     "exception": false,
     "start_time": "2023-08-12T20:18:18.856778",
     "status": "completed"
    },
    "tags": []
   },
   "source": [
    "### EDA 'distributor'  "
   ]
  },
  {
   "cell_type": "code",
   "execution_count": 44,
   "id": "f8044c3d",
   "metadata": {
    "execution": {
     "iopub.execute_input": "2023-08-12T20:18:19.205821Z",
     "iopub.status.busy": "2023-08-12T20:18:19.205350Z",
     "iopub.status.idle": "2023-08-12T20:18:19.241506Z",
     "shell.execute_reply": "2023-08-12T20:18:19.240428Z"
    },
    "papermill": {
     "duration": 0.137136,
     "end_time": "2023-08-12T20:18:19.244026",
     "exception": false,
     "start_time": "2023-08-12T20:18:19.106890",
     "status": "completed"
    },
    "tags": []
   },
   "outputs": [
    {
     "data": {
      "text/plain": [
       "unknown                              20489\n",
       "Universal Pictures                    8847\n",
       "Warner Bros. Pictures                 8722\n",
       "Paramount Pictures                    7773\n",
       "20th Century Fox                      7007\n",
       "                                     ...  \n",
       "Almi Pictures                            1\n",
       "Koch Lorber                              1\n",
       "Magic Lamp                               1\n",
       "Fine Line Features, Miramax Films        1\n",
       "American Film Co.                        1\n",
       "Name: distributor, Length: 1796, dtype: int64"
      ]
     },
     "execution_count": 44,
     "metadata": {},
     "output_type": "execute_result"
    }
   ],
   "source": [
    "merged[\"distributor\"].value_counts()"
   ]
  },
  {
   "cell_type": "code",
   "execution_count": 45,
   "id": "e5ce8280",
   "metadata": {
    "execution": {
     "iopub.execute_input": "2023-08-12T20:18:19.438931Z",
     "iopub.status.busy": "2023-08-12T20:18:19.438505Z",
     "iopub.status.idle": "2023-08-12T20:18:19.456311Z",
     "shell.execute_reply": "2023-08-12T20:18:19.454729Z"
    },
    "papermill": {
     "duration": 0.119113,
     "end_time": "2023-08-12T20:18:19.459581",
     "exception": false,
     "start_time": "2023-08-12T20:18:19.340468",
     "status": "completed"
    },
    "tags": []
   },
   "outputs": [
    {
     "data": {
      "text/plain": [
       "count    162758.000000\n",
       "mean        106.992019\n",
       "std          22.203778\n",
       "min           4.000000\n",
       "25%          93.000000\n",
       "50%         104.000000\n",
       "75%         118.000000\n",
       "max         561.000000\n",
       "Name: runtimeMinutes, dtype: float64"
      ]
     },
     "execution_count": 45,
     "metadata": {},
     "output_type": "execute_result"
    }
   ],
   "source": [
    "merged[\"runtimeMinutes\"].describe()"
   ]
  },
  {
   "cell_type": "code",
   "execution_count": 46,
   "id": "ef6a4be9",
   "metadata": {
    "execution": {
     "iopub.execute_input": "2023-08-12T20:18:19.656114Z",
     "iopub.status.busy": "2023-08-12T20:18:19.655657Z",
     "iopub.status.idle": "2023-08-12T20:18:20.060100Z",
     "shell.execute_reply": "2023-08-12T20:18:20.059014Z"
    },
    "papermill": {
     "duration": 0.505239,
     "end_time": "2023-08-12T20:18:20.062263",
     "exception": false,
     "start_time": "2023-08-12T20:18:19.557024",
     "status": "completed"
    },
    "tags": []
   },
   "outputs": [
    {
     "data": {
      "text/plain": [
       "<Axes: xlabel='sentiment', ylabel='runtimeMinutes'>"
      ]
     },
     "execution_count": 46,
     "metadata": {},
     "output_type": "execute_result"
    },
    {
     "data": {
      "image/png": "[encoded data removed]",
      "text/plain": [
       "<Figure size 640x480 with 1 Axes>"
      ]
     },
     "metadata": {},
     "output_type": "display_data"
    }
   ],
   "source": [
    "sns.boxplot(y=merged[\"runtimeMinutes\"], x=merged[\"sentiment\"])"
   ]
  },
  {
   "cell_type": "code",
   "execution_count": 47,
   "id": "e9e8769e",
   "metadata": {
    "execution": {
     "iopub.execute_input": "2023-08-12T20:18:20.259368Z",
     "iopub.status.busy": "2023-08-12T20:18:20.258371Z",
     "iopub.status.idle": "2023-08-12T20:18:20.263130Z",
     "shell.execute_reply": "2023-08-12T20:18:20.262052Z"
    },
    "papermill": {
     "duration": 0.106183,
     "end_time": "2023-08-12T20:18:20.265461",
     "exception": false,
     "start_time": "2023-08-12T20:18:20.159278",
     "status": "completed"
    },
    "tags": []
   },
   "outputs": [],
   "source": [
    "# print(merged[\"boxOfficeBins\"].value_counts())\n",
    "# sns.displot(merged[\"boxOfficeBins\"])"
   ]
  },
  {
   "cell_type": "code",
   "execution_count": 48,
   "id": "75fa3af4",
   "metadata": {
    "execution": {
     "iopub.execute_input": "2023-08-12T20:18:20.463748Z",
     "iopub.status.busy": "2023-08-12T20:18:20.462893Z",
     "iopub.status.idle": "2023-08-12T20:18:20.471208Z",
     "shell.execute_reply": "2023-08-12T20:18:20.470275Z"
    },
    "papermill": {
     "duration": 0.110413,
     "end_time": "2023-08-12T20:18:20.473250",
     "exception": false,
     "start_time": "2023-08-12T20:18:20.362837",
     "status": "completed"
    },
    "tags": []
   },
   "outputs": [
    {
     "data": {
      "text/plain": [
       "0    Henry Selick’s first movie since ’s Coraline. ...\n",
       "1    With a cast that reads like the Vogue Oscar pa...\n",
       "2    Creed II does not give us anything but another...\n",
       "3    I know what you're thinking, but this is no Li...\n",
       "4    Director Fernando Meirelles tells the story wi...\n",
       "Name: reviewText, dtype: object"
      ]
     },
     "execution_count": 48,
     "metadata": {},
     "output_type": "execute_result"
    }
   ],
   "source": [
    "merged[\"reviewText\"].head()"
   ]
  },
  {
   "cell_type": "code",
   "execution_count": 49,
   "id": "76926544",
   "metadata": {
    "execution": {
     "iopub.execute_input": "2023-08-12T20:18:20.671145Z",
     "iopub.status.busy": "2023-08-12T20:18:20.670336Z",
     "iopub.status.idle": "2023-08-12T20:18:20.677278Z",
     "shell.execute_reply": "2023-08-12T20:18:20.676507Z"
    },
    "papermill": {
     "duration": 0.108234,
     "end_time": "2023-08-12T20:18:20.679302",
     "exception": false,
     "start_time": "2023-08-12T20:18:20.571068",
     "status": "completed"
    },
    "tags": []
   },
   "outputs": [
    {
     "data": {
      "text/plain": [
       "6447"
      ]
     },
     "execution_count": 49,
     "metadata": {},
     "output_type": "execute_result"
    }
   ],
   "source": [
    "merged[\"reviewYN\"].sum()"
   ]
  },
  {
   "cell_type": "code",
   "execution_count": 50,
   "id": "d32e94ac",
   "metadata": {
    "execution": {
     "iopub.execute_input": "2023-08-12T20:18:20.879301Z",
     "iopub.status.busy": "2023-08-12T20:18:20.878583Z",
     "iopub.status.idle": "2023-08-12T20:18:20.886393Z",
     "shell.execute_reply": "2023-08-12T20:18:20.885291Z"
    },
    "papermill": {
     "duration": 0.110545,
     "end_time": "2023-08-12T20:18:20.888665",
     "exception": false,
     "start_time": "2023-08-12T20:18:20.778120",
     "status": "completed"
    },
    "tags": []
   },
   "outputs": [
    {
     "data": {
      "text/plain": [
       "0    11\n",
       "1    24\n",
       "2    22\n",
       "3    34\n",
       "4    20\n",
       "Name: reviewWC, dtype: int64"
      ]
     },
     "execution_count": 50,
     "metadata": {},
     "output_type": "execute_result"
    }
   ],
   "source": [
    "merged[\"reviewWC\"].head()"
   ]
  },
  {
   "cell_type": "code",
   "execution_count": 51,
   "id": "a9decbdb",
   "metadata": {
    "execution": {
     "iopub.execute_input": "2023-08-12T20:18:21.088571Z",
     "iopub.status.busy": "2023-08-12T20:18:21.088173Z",
     "iopub.status.idle": "2023-08-12T20:18:21.104799Z",
     "shell.execute_reply": "2023-08-12T20:18:21.103635Z"
    },
    "papermill": {
     "duration": 0.120162,
     "end_time": "2023-08-12T20:18:21.107081",
     "exception": false,
     "start_time": "2023-08-12T20:18:20.986919",
     "status": "completed"
    },
    "tags": []
   },
   "outputs": [
    {
     "data": {
      "text/plain": [
       "count    162758.000000\n",
       "mean         21.013707\n",
       "std          10.216532\n",
       "min           1.000000\n",
       "25%          14.000000\n",
       "50%          21.000000\n",
       "75%          28.000000\n",
       "max          54.000000\n",
       "Name: reviewWC, dtype: float64"
      ]
     },
     "execution_count": 51,
     "metadata": {},
     "output_type": "execute_result"
    }
   ],
   "source": [
    "merged[\"reviewWC\"].describe()"
   ]
  },
  {
   "cell_type": "code",
   "execution_count": 52,
   "id": "cadf65d9",
   "metadata": {
    "execution": {
     "iopub.execute_input": "2023-08-12T20:18:21.307869Z",
     "iopub.status.busy": "2023-08-12T20:18:21.307203Z",
     "iopub.status.idle": "2023-08-12T20:18:21.938521Z",
     "shell.execute_reply": "2023-08-12T20:18:21.937400Z"
    },
    "papermill": {
     "duration": 0.734913,
     "end_time": "2023-08-12T20:18:21.940949",
     "exception": false,
     "start_time": "2023-08-12T20:18:21.206036",
     "status": "completed"
    },
    "tags": []
   },
   "outputs": [
    {
     "data": {
      "text/plain": [
       "<Axes: xlabel='reviewWC', ylabel='Count'>"
      ]
     },
     "execution_count": 52,
     "metadata": {},
     "output_type": "execute_result"
    },
    {
     "data": {
      "image/png": "[encoded data removed]",
      "text/plain": [
       "<Figure size 640x480 with 1 Axes>"
      ]
     },
     "metadata": {},
     "output_type": "display_data"
    }
   ],
   "source": [
    "sns.histplot(merged[\"reviewWC\"])"
   ]
  },
  {
   "cell_type": "code",
   "execution_count": 53,
   "id": "c76c938e",
   "metadata": {
    "execution": {
     "iopub.execute_input": "2023-08-12T20:18:22.140501Z",
     "iopub.status.busy": "2023-08-12T20:18:22.139848Z",
     "iopub.status.idle": "2023-08-12T20:18:22.170721Z",
     "shell.execute_reply": "2023-08-12T20:18:22.169444Z"
    },
    "papermill": {
     "duration": 0.133296,
     "end_time": "2023-08-12T20:18:22.173012",
     "exception": false,
     "start_time": "2023-08-12T20:18:22.039716",
     "status": "completed"
    },
    "tags": []
   },
   "outputs": [
    {
     "data": {
      "text/plain": [
       "R          60248\n",
       "unknown    44587\n",
       "PG-13      42697\n",
       "PG         13669\n",
       "TV14         947\n",
       "NC-17        285\n",
       "TVPG         281\n",
       "TVMA          44\n",
       "Name: rating, dtype: int64"
      ]
     },
     "execution_count": 53,
     "metadata": {},
     "output_type": "execute_result"
    }
   ],
   "source": [
    "merged['rating'].value_counts()"
   ]
  },
  {
   "cell_type": "code",
   "execution_count": 54,
   "id": "24034d66",
   "metadata": {
    "execution": {
     "iopub.execute_input": "2023-08-12T20:18:22.375019Z",
     "iopub.status.busy": "2023-08-12T20:18:22.374581Z",
     "iopub.status.idle": "2023-08-12T20:18:22.384546Z",
     "shell.execute_reply": "2023-08-12T20:18:22.383401Z"
    },
    "papermill": {
     "duration": 0.113974,
     "end_time": "2023-08-12T20:18:22.387118",
     "exception": false,
     "start_time": "2023-08-12T20:18:22.273144",
     "status": "completed"
    },
    "tags": []
   },
   "outputs": [
    {
     "data": {
      "text/plain": [
       "False    113189\n",
       "True      49569\n",
       "Name: isFrequentReviewer, dtype: int64"
      ]
     },
     "execution_count": 54,
     "metadata": {},
     "output_type": "execute_result"
    }
   ],
   "source": [
    "merged['isFrequentReviewer'].value_counts()"
   ]
  },
  {
   "cell_type": "code",
   "execution_count": 55,
   "id": "506a1335",
   "metadata": {
    "execution": {
     "iopub.execute_input": "2023-08-12T20:18:22.587525Z",
     "iopub.status.busy": "2023-08-12T20:18:22.587123Z",
     "iopub.status.idle": "2023-08-12T20:18:22.595433Z",
     "shell.execute_reply": "2023-08-12T20:18:22.594357Z"
    },
    "papermill": {
     "duration": 0.111117,
     "end_time": "2023-08-12T20:18:22.597799",
     "exception": false,
     "start_time": "2023-08-12T20:18:22.486682",
     "status": "completed"
    },
    "tags": []
   },
   "outputs": [
    {
     "data": {
      "text/plain": [
       "0      Benjamin Henry\n",
       "1       Felicia Lopez\n",
       "2     Charles Burgess\n",
       "3        Ryan Barrett\n",
       "4    Alexander Glover\n",
       "Name: reviewerName, dtype: object"
      ]
     },
     "execution_count": 55,
     "metadata": {},
     "output_type": "execute_result"
    }
   ],
   "source": [
    "merged[\"reviewerName\"].head()"
   ]
  },
  {
   "cell_type": "code",
   "execution_count": 56,
   "id": "2fe21a5b",
   "metadata": {
    "execution": {
     "iopub.execute_input": "2023-08-12T20:18:22.797171Z",
     "iopub.status.busy": "2023-08-12T20:18:22.796772Z",
     "iopub.status.idle": "2023-08-12T20:18:22.810984Z",
     "shell.execute_reply": "2023-08-12T20:18:22.809994Z"
    },
    "papermill": {
     "duration": 0.116662,
     "end_time": "2023-08-12T20:18:22.813297",
     "exception": false,
     "start_time": "2023-08-12T20:18:22.696635",
     "status": "completed"
    },
    "tags": []
   },
   "outputs": [
    {
     "data": {
      "text/plain": [
       "14300000.0    32327\n",
       "2000000.0       922\n",
       "1100000.0       891\n",
       "1000000.0       834\n",
       "1200000.0       802\n",
       "              ...  \n",
       "58500.0           1\n",
       "500800.0          1\n",
       "265600.0          1\n",
       "292500.0          1\n",
       "799400.0          1\n",
       "Name: boxOffice, Length: 3819, dtype: int64"
      ]
     },
     "execution_count": 56,
     "metadata": {},
     "output_type": "execute_result"
    }
   ],
   "source": [
    "merged['boxOffice'].value_counts()"
   ]
  },
  {
   "cell_type": "code",
   "execution_count": 57,
   "id": "6f749ad6",
   "metadata": {
    "execution": {
     "iopub.execute_input": "2023-08-12T20:18:23.012806Z",
     "iopub.status.busy": "2023-08-12T20:18:23.012358Z",
     "iopub.status.idle": "2023-08-12T20:18:23.017706Z",
     "shell.execute_reply": "2023-08-12T20:18:23.016594Z"
    },
    "papermill": {
     "duration": 0.108115,
     "end_time": "2023-08-12T20:18:23.019927",
     "exception": false,
     "start_time": "2023-08-12T20:18:22.911812",
     "status": "completed"
    },
    "tags": []
   },
   "outputs": [],
   "source": [
    "# Check correlation between 'boxOffice' and ''sentiment'\n",
    "# bo_df = merged.copy()\n",
    "# print(bo_df[\"boxOffice\"])\n",
    "# bo_df[\"boxOffice\"] = bo_df[\"boxOffice\"].str[1:]\n",
    "# bo_df[\"boxOffice\"] = bo_df[\"boxOffice\"].replace(to_replace={\"M\": \"*1000000\", \"K\": \"*1000\"}, regex=True)\n",
    "# bo_df[\"boxOffice\"] = bo_df[\"boxOffice\"].loc[bo_df[\"boxOffice\"].notnull()].apply(lambda x: eval(str(x)))\n",
    "# bo_df[\"boxOffice\"] = bo_df[\"boxOffice\"].fillna(bo_df[\"boxOffice\"].median())\n",
    "# bo_df[\"boxOffice\"].describe()"
   ]
  },
  {
   "cell_type": "code",
   "execution_count": 58,
   "id": "a3ab47ba",
   "metadata": {
    "execution": {
     "iopub.execute_input": "2023-08-12T20:18:23.230775Z",
     "iopub.status.busy": "2023-08-12T20:18:23.230350Z",
     "iopub.status.idle": "2023-08-12T20:18:23.235352Z",
     "shell.execute_reply": "2023-08-12T20:18:23.234292Z"
    },
    "papermill": {
     "duration": 0.119435,
     "end_time": "2023-08-12T20:18:23.237814",
     "exception": false,
     "start_time": "2023-08-12T20:18:23.118379",
     "status": "completed"
    },
    "tags": []
   },
   "outputs": [],
   "source": [
    "# median = bo_df[\"boxOffice\"].describe()['50%']\n",
    "# iqr = bo_df[\"boxOffice\"].describe()['75%'] - bo_df[\"boxOffice\"].describe()['25%']\n",
    "# median, iqr"
   ]
  },
  {
   "cell_type": "code",
   "execution_count": 59,
   "id": "733ec5db",
   "metadata": {
    "execution": {
     "iopub.execute_input": "2023-08-12T20:18:23.448447Z",
     "iopub.status.busy": "2023-08-12T20:18:23.447220Z",
     "iopub.status.idle": "2023-08-12T20:18:23.452251Z",
     "shell.execute_reply": "2023-08-12T20:18:23.451417Z"
    },
    "papermill": {
     "duration": 0.114531,
     "end_time": "2023-08-12T20:18:23.454441",
     "exception": false,
     "start_time": "2023-08-12T20:18:23.339910",
     "status": "completed"
    },
    "tags": []
   },
   "outputs": [],
   "source": [
    "# ll = median - (1.5*iqr)\n",
    "# ul = median + (1.5*iqr)\n",
    "# ll, ul"
   ]
  },
  {
   "cell_type": "code",
   "execution_count": 60,
   "id": "8609dd00",
   "metadata": {
    "execution": {
     "iopub.execute_input": "2023-08-12T20:18:23.670844Z",
     "iopub.status.busy": "2023-08-12T20:18:23.670460Z",
     "iopub.status.idle": "2023-08-12T20:18:23.675234Z",
     "shell.execute_reply": "2023-08-12T20:18:23.674289Z"
    },
    "papermill": {
     "duration": 0.120049,
     "end_time": "2023-08-12T20:18:23.677424",
     "exception": false,
     "start_time": "2023-08-12T20:18:23.557375",
     "status": "completed"
    },
    "tags": []
   },
   "outputs": [],
   "source": [
    "# bo_df[\"boxOffice\"].mean()"
   ]
  },
  {
   "cell_type": "code",
   "execution_count": 61,
   "id": "7d95c67a",
   "metadata": {
    "execution": {
     "iopub.execute_input": "2023-08-12T20:18:23.879380Z",
     "iopub.status.busy": "2023-08-12T20:18:23.878416Z",
     "iopub.status.idle": "2023-08-12T20:18:23.883347Z",
     "shell.execute_reply": "2023-08-12T20:18:23.882542Z"
    },
    "papermill": {
     "duration": 0.108326,
     "end_time": "2023-08-12T20:18:23.885588",
     "exception": false,
     "start_time": "2023-08-12T20:18:23.777262",
     "status": "completed"
    },
    "tags": []
   },
   "outputs": [],
   "source": [
    "# bo_df.loc[bo_df[\"boxOffice\"] > ul, \"boxOffice\"] = median\n",
    "# bo_df[\"boxOffice\"].mean()"
   ]
  },
  {
   "cell_type": "code",
   "execution_count": 62,
   "id": "ad1a5b3f",
   "metadata": {
    "execution": {
     "iopub.execute_input": "2023-08-12T20:18:24.088751Z",
     "iopub.status.busy": "2023-08-12T20:18:24.088332Z",
     "iopub.status.idle": "2023-08-12T20:18:24.092962Z",
     "shell.execute_reply": "2023-08-12T20:18:24.091944Z"
    },
    "papermill": {
     "duration": 0.109235,
     "end_time": "2023-08-12T20:18:24.095257",
     "exception": false,
     "start_time": "2023-08-12T20:18:23.986022",
     "status": "completed"
    },
    "tags": []
   },
   "outputs": [],
   "source": [
    "# bo_df[\"boxOffice\"].min(), bo_df[\"boxOffice\"].max()"
   ]
  },
  {
   "cell_type": "code",
   "execution_count": 63,
   "id": "e17e01ce",
   "metadata": {
    "execution": {
     "iopub.execute_input": "2023-08-12T20:18:24.301831Z",
     "iopub.status.busy": "2023-08-12T20:18:24.301391Z",
     "iopub.status.idle": "2023-08-12T20:18:24.305922Z",
     "shell.execute_reply": "2023-08-12T20:18:24.304776Z"
    },
    "papermill": {
     "duration": 0.109675,
     "end_time": "2023-08-12T20:18:24.308160",
     "exception": false,
     "start_time": "2023-08-12T20:18:24.198485",
     "status": "completed"
    },
    "tags": []
   },
   "outputs": [],
   "source": [
    "# sns.boxplot(x=\"sentiment\", y=\"boxOffice\", data=bo_df, showfliers = False)"
   ]
  },
  {
   "cell_type": "markdown",
   "id": "27291b75",
   "metadata": {
    "papermill": {
     "duration": 0.101785,
     "end_time": "2023-08-12T20:18:24.509435",
     "exception": false,
     "start_time": "2023-08-12T20:18:24.407650",
     "status": "completed"
    },
    "tags": []
   },
   "source": [
    "## EDA  "
   ]
  },
  {
   "cell_type": "markdown",
   "id": "fb1ce07d",
   "metadata": {
    "papermill": {
     "duration": 0.099012,
     "end_time": "2023-08-12T20:18:24.707790",
     "exception": false,
     "start_time": "2023-08-12T20:18:24.608778",
     "status": "completed"
    },
    "tags": []
   },
   "source": [
    "### An interesting finding through exploration  \n",
    "  \n",
    "* OHE and TfidfVectorizer on director column give the same result when ngram_range(2,2) is used (see code below)!"
   ]
  },
  {
   "cell_type": "code",
   "execution_count": 64,
   "id": "3093b125",
   "metadata": {
    "execution": {
     "iopub.execute_input": "2023-08-12T20:18:24.908466Z",
     "iopub.status.busy": "2023-08-12T20:18:24.908071Z",
     "iopub.status.idle": "2023-08-12T20:18:38.102599Z",
     "shell.execute_reply": "2023-08-12T20:18:38.101214Z"
    },
    "papermill": {
     "duration": 13.297932,
     "end_time": "2023-08-12T20:18:38.105000",
     "exception": false,
     "start_time": "2023-08-12T20:18:24.807068",
     "status": "completed"
    },
    "tags": []
   },
   "outputs": [
    {
     "name": "stdout",
     "output_type": "stream",
     "text": [
      "(162758,)\n",
      "9476\n",
      "(162758, 9476) <class 'numpy.ndarray'>\n",
      "(162758,)\n",
      "(162758, 9476) <class 'numpy.ndarray'>\n",
      "True\n"
     ]
    }
   ],
   "source": [
    "# Compare OHE and TfidfVectorizer on director column\n",
    "\n",
    "dirs = merged[\"director\"].copy()\n",
    "print(dirs.shape)\n",
    "dirs_uniq = merged[\"director\"].unique()\n",
    "print(len(dirs_uniq))\n",
    "\n",
    "du_ohe = OneHotEncoder(handle_unknown=\"ignore\", sparse_output=False).fit_transform(dirs.to_numpy().reshape(-1, 1))\n",
    "print(du_ohe.shape, type(du_ohe))\n",
    "\n",
    "dirs_2 = merged[\"director\"].copy()\n",
    "print(dirs_2.shape)\n",
    "du_tfidf = TfidfVectorizer(ngram_range=(2,2)).fit_transform(dirs_2).toarray()\n",
    "print(du_tfidf.shape, type(du_tfidf))\n",
    "\n",
    "print(np.array_equal(du_ohe, du_tfidf))"
   ]
  },
  {
   "cell_type": "code",
   "execution_count": 65,
   "id": "cda4c4ae",
   "metadata": {
    "execution": {
     "iopub.execute_input": "2023-08-12T20:18:38.307733Z",
     "iopub.status.busy": "2023-08-12T20:18:38.307309Z",
     "iopub.status.idle": "2023-08-12T20:18:38.664523Z",
     "shell.execute_reply": "2023-08-12T20:18:38.663436Z"
    },
    "papermill": {
     "duration": 0.461087,
     "end_time": "2023-08-12T20:18:38.667089",
     "exception": false,
     "start_time": "2023-08-12T20:18:38.206002",
     "status": "completed"
    },
    "tags": []
   },
   "outputs": [
    {
     "name": "stdout",
     "output_type": "stream",
     "text": [
      "0       Bennie Basso\n",
      "1         Alma White\n",
      "2       Bobby Oleary\n",
      "3    Eric Hutcherson\n",
      "4         John Trent\n",
      "Name: director, dtype: object\n"
     ]
    },
    {
     "data": {
      "text/plain": [
       "2    162758\n",
       "Name: director, dtype: int64"
      ]
     },
     "execution_count": 65,
     "metadata": {},
     "output_type": "execute_result"
    }
   ],
   "source": [
    "print(dirs.head())\n",
    "d = dirs.copy()\n",
    "d[\"name_len\"] = d.apply(lambda x: len(x.split()))\n",
    "d[\"name_len\"].value_counts()"
   ]
  },
  {
   "cell_type": "code",
   "execution_count": 66,
   "id": "6eea4c2d",
   "metadata": {
    "execution": {
     "iopub.execute_input": "2023-08-12T20:18:38.869766Z",
     "iopub.status.busy": "2023-08-12T20:18:38.869091Z",
     "iopub.status.idle": "2023-08-12T20:18:38.874805Z",
     "shell.execute_reply": "2023-08-12T20:18:38.873994Z"
    },
    "papermill": {
     "duration": 0.10907,
     "end_time": "2023-08-12T20:18:38.877055",
     "exception": false,
     "start_time": "2023-08-12T20:18:38.767985",
     "status": "completed"
    },
    "tags": []
   },
   "outputs": [],
   "source": [
    "# Compare OHE and TfidfVectorizer on reviewerName column\n",
    "# Note: reviewerName column has salutations like \"Mr. \" etc, and some names appear middle names. Therefore needs cleaning\n",
    "\n",
    "# def name_fl(name):\n",
    "#     l = name.split()\n",
    "#     n = ' '.join((l[0], l[-1]))\n",
    "#     return n\n",
    "\n",
    "# reviewers = merged[\"reviewerName\"].copy()\n",
    "# reviewers = pd.DataFrame(reviewers)\n",
    "# reviewers = reviewers.replace({\"Mr. \": \"\", \"Mrs. \": \"\"}, regex=True)\n",
    "# reviewers[\"reviewerName\"] = reviewers[\"reviewerName\"].apply(name_fl)\n",
    "# print(reviewers.shape)\n",
    "\n",
    "# reviewers_uniq = merged[\"reviewerName\"].unique()\n",
    "# print(len(reviewers_uniq))\n",
    "\n",
    "# reviewers_ohe = OneHotEncoder(handle_unknown=\"ignore\", sparse_output=False).fit_transform(reviewers.to_numpy().reshape(-1, 1))\n",
    "# print(reviewers_ohe.shape, type(reviewers_ohe))\n",
    "\n",
    "# reviewers_2 = merged[\"reviewerName\"].copy()\n",
    "# reviewers_2 = pd.DataFrame(reviewers_2)\n",
    "# print(reviewers_2.head())\n",
    "# reviewers_2 = reviewers_2.replace({\"Mr. \": \"\", \"Mrs. \": \"\"}, regex=True)\n",
    "# reviewers_2[\"reviewerName\"] = reviewers_2[\"reviewerName\"].apply(name_fl)\n",
    "# reviewers_2 = reviewers_2.squeeze()\n",
    "# print(reviewers_2.shape)\n",
    "# print(reviewers_2.head())\n",
    "\n",
    "# reviewers_tfidf = TfidfVectorizer(ngram_range=(2,2)).fit_transform(reviewers_2).toarray()\n",
    "# print(reviewers_tfidf.shape, type(reviewers_tfidf))\n",
    "\n",
    "# print(np.array_equal(reviewers_ohe, reviewers_tfidf))"
   ]
  },
  {
   "cell_type": "code",
   "execution_count": 67,
   "id": "18fc9115",
   "metadata": {
    "execution": {
     "iopub.execute_input": "2023-08-12T20:18:39.077372Z",
     "iopub.status.busy": "2023-08-12T20:18:39.076977Z",
     "iopub.status.idle": "2023-08-12T20:18:39.081419Z",
     "shell.execute_reply": "2023-08-12T20:18:39.080417Z"
    },
    "papermill": {
     "duration": 0.10721,
     "end_time": "2023-08-12T20:18:39.083740",
     "exception": false,
     "start_time": "2023-08-12T20:18:38.976530",
     "status": "completed"
    },
    "tags": []
   },
   "outputs": [],
   "source": [
    "# def name_fl(name):\n",
    "#     l = name.split()\n",
    "#     n = ' '.join((l[0], l[-1]))\n",
    "#     return n"
   ]
  },
  {
   "cell_type": "code",
   "execution_count": 68,
   "id": "f8925a4c",
   "metadata": {
    "execution": {
     "iopub.execute_input": "2023-08-12T20:18:39.286198Z",
     "iopub.status.busy": "2023-08-12T20:18:39.285803Z",
     "iopub.status.idle": "2023-08-12T20:18:39.290522Z",
     "shell.execute_reply": "2023-08-12T20:18:39.289539Z"
    },
    "papermill": {
     "duration": 0.108346,
     "end_time": "2023-08-12T20:18:39.292666",
     "exception": false,
     "start_time": "2023-08-12T20:18:39.184320",
     "status": "completed"
    },
    "tags": []
   },
   "outputs": [],
   "source": [
    "# print(reviewers.head())\n",
    "# r = pd.DataFrame(reviewers.copy())\n",
    "# r[\"reviewerName\"] = r[\"reviewerName\"].apply(name_fl)\n",
    "# r[\"name_len\"] = r[\"reviewerName\"].apply(lambda x: len(x.split()))\n",
    "# print(r.shape)\n",
    "# print(r.head())\n",
    "# print(r['name_len'].value_counts())"
   ]
  },
  {
   "cell_type": "code",
   "execution_count": 69,
   "id": "fc8ad593",
   "metadata": {
    "execution": {
     "iopub.execute_input": "2023-08-12T20:18:39.493004Z",
     "iopub.status.busy": "2023-08-12T20:18:39.491944Z",
     "iopub.status.idle": "2023-08-12T20:18:39.496353Z",
     "shell.execute_reply": "2023-08-12T20:18:39.495634Z"
    },
    "papermill": {
     "duration": 0.106718,
     "end_time": "2023-08-12T20:18:39.498440",
     "exception": false,
     "start_time": "2023-08-12T20:18:39.391722",
     "status": "completed"
    },
    "tags": []
   },
   "outputs": [],
   "source": [
    "## Box plot audienceScore and sentiment  \n",
    "# plt.figure(figsize=(6, 4))\n",
    "# sns.boxplot(x=\"sentiment\", y=\"audienceScore\", data=merged, width=0.3)\n",
    "# plt.title(\"Box plot audienceScore and sentiment\")\n",
    "# plt.show()"
   ]
  },
  {
   "cell_type": "code",
   "execution_count": 70,
   "id": "505efdae",
   "metadata": {
    "execution": {
     "iopub.execute_input": "2023-08-12T20:18:39.702758Z",
     "iopub.status.busy": "2023-08-12T20:18:39.701527Z",
     "iopub.status.idle": "2023-08-12T20:18:39.706535Z",
     "shell.execute_reply": "2023-08-12T20:18:39.705797Z"
    },
    "papermill": {
     "duration": 0.107569,
     "end_time": "2023-08-12T20:18:39.708901",
     "exception": false,
     "start_time": "2023-08-12T20:18:39.601332",
     "status": "completed"
    },
    "tags": []
   },
   "outputs": [],
   "source": [
    "## Box plot runtimeMinutes and sentiment  \n",
    "# plt.figure(figsize=(6, 4))\n",
    "# sns.boxplot(x=\"sentiment\", y=\"runtimeMinutes\", data=merged, width=0.3)\n",
    "# plt.title(\"Box plot runtimeMinutes and sentiment\")\n",
    "# plt.show()"
   ]
  },
  {
   "cell_type": "code",
   "execution_count": 71,
   "id": "a43fbe18",
   "metadata": {
    "execution": {
     "iopub.execute_input": "2023-08-12T20:18:39.912514Z",
     "iopub.status.busy": "2023-08-12T20:18:39.912129Z",
     "iopub.status.idle": "2023-08-12T20:18:39.916463Z",
     "shell.execute_reply": "2023-08-12T20:18:39.915381Z"
    },
    "papermill": {
     "duration": 0.108764,
     "end_time": "2023-08-12T20:18:39.918853",
     "exception": false,
     "start_time": "2023-08-12T20:18:39.810089",
     "status": "completed"
    },
    "tags": []
   },
   "outputs": [],
   "source": [
    "## Column chart for sentiment and rating columns\n",
    "# plt.figure(figsize=(6, 4))\n",
    "# sns.countplot(x=\"sentiment\", hue=\"rating\", data=merged)\n",
    "# plt.title(\"Column chart for sentiment and rating columns\")\n",
    "# plt.show()"
   ]
  },
  {
   "cell_type": "code",
   "execution_count": 72,
   "id": "c2c680a2",
   "metadata": {
    "execution": {
     "iopub.execute_input": "2023-08-12T20:18:40.121171Z",
     "iopub.status.busy": "2023-08-12T20:18:40.120788Z",
     "iopub.status.idle": "2023-08-12T20:18:40.124882Z",
     "shell.execute_reply": "2023-08-12T20:18:40.123881Z"
    },
    "papermill": {
     "duration": 0.108078,
     "end_time": "2023-08-12T20:18:40.127130",
     "exception": false,
     "start_time": "2023-08-12T20:18:40.019052",
     "status": "completed"
    },
    "tags": []
   },
   "outputs": [],
   "source": [
    "# Correlation heatmap  \n",
    "# plt.figure(figsize=(10, 8))\n",
    "# sns.heatmap(merged.corr(), annot=True, cmap=\"coolwarm\")\n",
    "# plt.title(\"Correlation heatmap\")\n",
    "# plt.show()"
   ]
  },
  {
   "cell_type": "markdown",
   "id": "6978ea86",
   "metadata": {
    "papermill": {
     "duration": 0.100319,
     "end_time": "2023-08-12T20:18:40.327950",
     "exception": false,
     "start_time": "2023-08-12T20:18:40.227631",
     "status": "completed"
    },
    "tags": []
   },
   "source": [
    "## Merge and preprocess \"test.csv\" and \"movies.csv\" files  "
   ]
  },
  {
   "cell_type": "code",
   "execution_count": 73,
   "id": "99438a1a",
   "metadata": {
    "execution": {
     "iopub.execute_input": "2023-08-12T20:18:40.594693Z",
     "iopub.status.busy": "2023-08-12T20:18:40.593970Z",
     "iopub.status.idle": "2023-08-12T20:18:46.562684Z",
     "shell.execute_reply": "2023-08-12T20:18:46.561394Z"
    },
    "papermill": {
     "duration": 6.076304,
     "end_time": "2023-08-12T20:18:46.565664",
     "exception": false,
     "start_time": "2023-08-12T20:18:40.489360",
     "status": "completed"
    },
    "tags": []
   },
   "outputs": [],
   "source": [
    "# Merge test and movies  \n",
    "merged_test = select_features(load_csv(\"test\"), load_csv(\"movies\"))"
   ]
  },
  {
   "cell_type": "code",
   "execution_count": 74,
   "id": "75ff600e",
   "metadata": {
    "execution": {
     "iopub.execute_input": "2023-08-12T20:18:46.767751Z",
     "iopub.status.busy": "2023-08-12T20:18:46.767322Z",
     "iopub.status.idle": "2023-08-12T20:18:46.771862Z",
     "shell.execute_reply": "2023-08-12T20:18:46.770639Z"
    },
    "papermill": {
     "duration": 0.108565,
     "end_time": "2023-08-12T20:18:46.774382",
     "exception": false,
     "start_time": "2023-08-12T20:18:46.665817",
     "status": "completed"
    },
    "tags": []
   },
   "outputs": [],
   "source": [
    "# inspect(merged_test)      # Note the missing values in ['audienceScore', 'runtimeMinutes', 'boxOffice']"
   ]
  },
  {
   "cell_type": "code",
   "execution_count": 75,
   "id": "3d3bfd51",
   "metadata": {
    "execution": {
     "iopub.execute_input": "2023-08-12T20:18:46.975955Z",
     "iopub.status.busy": "2023-08-12T20:18:46.975273Z",
     "iopub.status.idle": "2023-08-12T20:18:46.991800Z",
     "shell.execute_reply": "2023-08-12T20:18:46.990743Z"
    },
    "papermill": {
     "duration": 0.119884,
     "end_time": "2023-08-12T20:18:46.994241",
     "exception": false,
     "start_time": "2023-08-12T20:18:46.874357",
     "status": "completed"
    },
    "tags": []
   },
   "outputs": [
    {
     "data": {
      "text/plain": [
       "array([6.80e+01, 1.04e+02, 1.43e+07])"
      ]
     },
     "execution_count": 75,
     "metadata": {},
     "output_type": "execute_result"
    }
   ],
   "source": [
    "# Transform ['audienceScore', 'runtimeMinutes', 'boxOffice'] columns in merged_test using 'si' fitted on 'merged' df  \n",
    "merged_test[['audienceScore', 'runtimeMinutes', 'boxOffice']] = si.transform(merged_test[['audienceScore', 'runtimeMinutes', 'boxOffice']])\n",
    "si.statistics_"
   ]
  },
  {
   "cell_type": "code",
   "execution_count": 76,
   "id": "19143275",
   "metadata": {
    "execution": {
     "iopub.execute_input": "2023-08-12T20:18:47.197930Z",
     "iopub.status.busy": "2023-08-12T20:18:47.197491Z",
     "iopub.status.idle": "2023-08-12T20:18:47.208838Z",
     "shell.execute_reply": "2023-08-12T20:18:47.207600Z"
    },
    "papermill": {
     "duration": 0.116526,
     "end_time": "2023-08-12T20:18:47.211393",
     "exception": false,
     "start_time": "2023-08-12T20:18:47.094867",
     "status": "completed"
    },
    "tags": []
   },
   "outputs": [],
   "source": [
    "# Fill 'releaseDate' column in 'merged_test' df with median from the train (merged) df  \n",
    "merged_test['releaseDate'] = merged_test[\"releaseDate\"].fillna(merged[\"releaseDate\"].median())"
   ]
  },
  {
   "cell_type": "code",
   "execution_count": 77,
   "id": "5996accb",
   "metadata": {
    "execution": {
     "iopub.execute_input": "2023-08-12T20:18:47.413510Z",
     "iopub.status.busy": "2023-08-12T20:18:47.413127Z",
     "iopub.status.idle": "2023-08-12T20:18:47.902696Z",
     "shell.execute_reply": "2023-08-12T20:18:47.901478Z"
    },
    "papermill": {
     "duration": 0.593419,
     "end_time": "2023-08-12T20:18:47.905359",
     "exception": false,
     "start_time": "2023-08-12T20:18:47.311940",
     "status": "completed"
    },
    "tags": []
   },
   "outputs": [
    {
     "name": "stdout",
     "output_type": "stream",
     "text": [
      "Shape of the dataframe: (55315, 25)\n",
      "\n",
      "Columns in the dataframe:\n",
      "Index(['movieid', 'reviewerName', 'isFrequentReviewer', 'reviewText', 'title',\n",
      "       'audienceScore', 'rating', 'ratingContents', 'releaseDateTheaters',\n",
      "       'releaseDateStreaming', 'runtimeMinutes', 'genre', 'originalLanguage',\n",
      "       'director', 'boxOffice', 'distributor', 'soundType', 'reviewYN',\n",
      "       'reviewWC', 'genreSorted', 'rcSorted', 'releaseDate', 'releaseYear',\n",
      "       'releaseMonth', 'releaseDiff'],\n",
      "      dtype='object')\n",
      "\n",
      "<class 'pandas.core.frame.DataFrame'>\n",
      "Int64Index: 55315 entries, 0 to 55314\n",
      "Data columns (total 25 columns):\n",
      " #   Column                Non-Null Count  Dtype         \n",
      "---  ------                --------------  -----         \n",
      " 0   movieid               55315 non-null  object        \n",
      " 1   reviewerName          55315 non-null  object        \n",
      " 2   isFrequentReviewer    55315 non-null  bool          \n",
      " 3   reviewText            55315 non-null  object        \n",
      " 4   title                 55315 non-null  object        \n",
      " 5   audienceScore         55315 non-null  float64       \n",
      " 6   rating                55315 non-null  object        \n",
      " 7   ratingContents        55315 non-null  object        \n",
      " 8   releaseDateTheaters   47844 non-null  datetime64[ns]\n",
      " 9   releaseDateStreaming  52929 non-null  datetime64[ns]\n",
      " 10  runtimeMinutes        55315 non-null  float64       \n",
      " 11  genre                 55315 non-null  object        \n",
      " 12  originalLanguage      55315 non-null  object        \n",
      " 13  director              55315 non-null  object        \n",
      " 14  boxOffice             55315 non-null  float64       \n",
      " 15  distributor           55315 non-null  object        \n",
      " 16  soundType             29845 non-null  object        \n",
      " 17  reviewYN              55315 non-null  int64         \n",
      " 18  reviewWC              55315 non-null  int64         \n",
      " 19  genreSorted           55315 non-null  object        \n",
      " 20  rcSorted              55315 non-null  object        \n",
      " 21  releaseDate           55315 non-null  datetime64[ns]\n",
      " 22  releaseYear           46626 non-null  float64       \n",
      " 23  releaseMonth          46626 non-null  float64       \n",
      " 24  releaseDiff           55315 non-null  float64       \n",
      "dtypes: bool(1), datetime64[ns](3), float64(6), int64(2), object(13)\n",
      "memory usage: 10.6+ MB\n",
      "None\n",
      "\n",
      "Missing values:\n",
      "movieid                     0\n",
      "reviewerName                0\n",
      "isFrequentReviewer          0\n",
      "reviewText                  0\n",
      "title                       0\n",
      "audienceScore               0\n",
      "rating                      0\n",
      "ratingContents              0\n",
      "releaseDateTheaters      7471\n",
      "releaseDateStreaming     2386\n",
      "runtimeMinutes              0\n",
      "genre                       0\n",
      "originalLanguage            0\n",
      "director                    0\n",
      "boxOffice                   0\n",
      "distributor                 0\n",
      "soundType               25470\n",
      "reviewYN                    0\n",
      "reviewWC                    0\n",
      "genreSorted                 0\n",
      "rcSorted                    0\n",
      "releaseDate                 0\n",
      "releaseYear              8689\n",
      "releaseMonth             8689\n",
      "releaseDiff                 0\n",
      "dtype: int64\n"
     ]
    }
   ],
   "source": [
    "# After transforming merged_test  \n",
    "inspect(merged_test)"
   ]
  },
  {
   "cell_type": "code",
   "execution_count": 78,
   "id": "9c05f613",
   "metadata": {
    "execution": {
     "iopub.execute_input": "2023-08-12T20:18:48.110411Z",
     "iopub.status.busy": "2023-08-12T20:18:48.110034Z",
     "iopub.status.idle": "2023-08-12T20:18:48.117148Z",
     "shell.execute_reply": "2023-08-12T20:18:48.116030Z"
    },
    "papermill": {
     "duration": 0.113634,
     "end_time": "2023-08-12T20:18:48.119723",
     "exception": false,
     "start_time": "2023-08-12T20:18:48.006089",
     "status": "completed"
    },
    "tags": []
   },
   "outputs": [
    {
     "name": "stdout",
     "output_type": "stream",
     "text": [
      "2510\n",
      "4.537648015908886\n"
     ]
    }
   ],
   "source": [
    "print(merged_test[\"reviewYN\"].sum())\n",
    "print(merged_test[\"reviewYN\"].sum() * 100 / merged_test.shape[0])"
   ]
  },
  {
   "cell_type": "code",
   "execution_count": 79,
   "id": "d83a25a7",
   "metadata": {
    "execution": {
     "iopub.execute_input": "2023-08-12T20:18:48.323286Z",
     "iopub.status.busy": "2023-08-12T20:18:48.322877Z",
     "iopub.status.idle": "2023-08-12T20:18:48.338661Z",
     "shell.execute_reply": "2023-08-12T20:18:48.337726Z"
    },
    "papermill": {
     "duration": 0.120363,
     "end_time": "2023-08-12T20:18:48.340800",
     "exception": false,
     "start_time": "2023-08-12T20:18:48.220437",
     "status": "completed"
    },
    "tags": []
   },
   "outputs": [
    {
     "data": {
      "text/plain": [
       "R          18934\n",
       "unknown    18386\n",
       "PG-13      13220\n",
       "PG          4200\n",
       "TV14         333\n",
       "TVPG         109\n",
       "NC-17        108\n",
       "TVMA          25\n",
       "Name: rating, dtype: int64"
      ]
     },
     "execution_count": 79,
     "metadata": {},
     "output_type": "execute_result"
    }
   ],
   "source": [
    "merged_test['rating'].value_counts()"
   ]
  },
  {
   "cell_type": "code",
   "execution_count": 80,
   "id": "477ae91f",
   "metadata": {
    "execution": {
     "iopub.execute_input": "2023-08-12T20:18:48.547412Z",
     "iopub.status.busy": "2023-08-12T20:18:48.546354Z",
     "iopub.status.idle": "2023-08-12T20:18:48.555870Z",
     "shell.execute_reply": "2023-08-12T20:18:48.554817Z"
    },
    "papermill": {
     "duration": 0.114418,
     "end_time": "2023-08-12T20:18:48.558013",
     "exception": false,
     "start_time": "2023-08-12T20:18:48.443595",
     "status": "completed"
    },
    "tags": []
   },
   "outputs": [
    {
     "data": {
      "text/plain": [
       "False    38428\n",
       "True     16887\n",
       "Name: isFrequentReviewer, dtype: int64"
      ]
     },
     "execution_count": 80,
     "metadata": {},
     "output_type": "execute_result"
    }
   ],
   "source": [
    "merged_test['isFrequentReviewer'].value_counts()"
   ]
  },
  {
   "cell_type": "code",
   "execution_count": 81,
   "id": "73ec2556",
   "metadata": {
    "execution": {
     "iopub.execute_input": "2023-08-12T20:18:48.764187Z",
     "iopub.status.busy": "2023-08-12T20:18:48.763122Z",
     "iopub.status.idle": "2023-08-12T20:18:48.773627Z",
     "shell.execute_reply": "2023-08-12T20:18:48.772853Z"
    },
    "papermill": {
     "duration": 0.114993,
     "end_time": "2023-08-12T20:18:48.775749",
     "exception": false,
     "start_time": "2023-08-12T20:18:48.660756",
     "status": "completed"
    },
    "tags": []
   },
   "outputs": [
    {
     "data": {
      "text/plain": [
       "14300000.0    13593\n",
       "1100000.0       311\n",
       "1000000.0       272\n",
       "1300000.0       263\n",
       "2000000.0       256\n",
       "              ...  \n",
       "200400.0          1\n",
       "23800000.0        1\n",
       "111200.0          1\n",
       "277800.0          1\n",
       "100600.0          1\n",
       "Name: boxOffice, Length: 3816, dtype: int64"
      ]
     },
     "execution_count": 81,
     "metadata": {},
     "output_type": "execute_result"
    }
   ],
   "source": [
    "merged_test['boxOffice'].value_counts()"
   ]
  },
  {
   "cell_type": "markdown",
   "id": "b52a16de",
   "metadata": {
    "papermill": {
     "duration": 0.100584,
     "end_time": "2023-08-12T20:18:48.976840",
     "exception": false,
     "start_time": "2023-08-12T20:18:48.876256",
     "status": "completed"
    },
    "tags": []
   },
   "source": [
    "## Work on vocabulary  \n",
    "\n",
    "`Build vocabulary from 'reviewText' column`  "
   ]
  },
  {
   "cell_type": "code",
   "execution_count": 82,
   "id": "facaea1c",
   "metadata": {
    "execution": {
     "iopub.execute_input": "2023-08-12T20:18:49.180324Z",
     "iopub.status.busy": "2023-08-12T20:18:49.179472Z",
     "iopub.status.idle": "2023-08-12T20:18:49.198458Z",
     "shell.execute_reply": "2023-08-12T20:18:49.197731Z"
    },
    "papermill": {
     "duration": 0.122739,
     "end_time": "2023-08-12T20:18:49.200616",
     "exception": false,
     "start_time": "2023-08-12T20:18:49.077877",
     "status": "completed"
    },
    "tags": []
   },
   "outputs": [
    {
     "data": {
      "text/plain": [
       "((162758, 2),\n",
       "                                           reviewText sentiment\n",
       " 0  Henry Selick’s first movie since ’s Coraline. ...  POSITIVE\n",
       " 1  With a cast that reads like the Vogue Oscar pa...  NEGATIVE\n",
       " 2  Creed II does not give us anything but another...  POSITIVE\n",
       " 3  I know what you're thinking, but this is no Li...  POSITIVE\n",
       " 4  Director Fernando Meirelles tells the story wi...  POSITIVE)"
      ]
     },
     "execution_count": 82,
     "metadata": {},
     "output_type": "execute_result"
    }
   ],
   "source": [
    "rt_senti = merged[[\"reviewText\", \"sentiment\"]].copy()\n",
    "rt_senti.shape, rt_senti.head()"
   ]
  },
  {
   "cell_type": "code",
   "execution_count": 83,
   "id": "7b49cbe2",
   "metadata": {
    "execution": {
     "iopub.execute_input": "2023-08-12T20:18:49.404247Z",
     "iopub.status.busy": "2023-08-12T20:18:49.403386Z",
     "iopub.status.idle": "2023-08-12T20:18:49.414197Z",
     "shell.execute_reply": "2023-08-12T20:18:49.413210Z"
    },
    "papermill": {
     "duration": 0.115266,
     "end_time": "2023-08-12T20:18:49.416705",
     "exception": false,
     "start_time": "2023-08-12T20:18:49.301439",
     "status": "completed"
    },
    "tags": []
   },
   "outputs": [
    {
     "data": {
      "text/plain": [
       "((55315, 1),\n",
       "                                           reviewText\n",
       " 0  Green slowly cranks up the dread with style an...\n",
       " 1  Philip Noyce's direction is elegant and unforc...\n",
       " 2  It wouldn't do to say what path Maria ultimate...\n",
       " 3  Pig is not exactly the arthouse John Wick that...\n",
       " 4  An imaginative no-budget musical of sorts abou...)"
      ]
     },
     "execution_count": 83,
     "metadata": {},
     "output_type": "execute_result"
    }
   ],
   "source": [
    "rt_test = pd.DataFrame(merged_test[\"reviewText\"].copy())\n",
    "rt_test.shape, rt_test.head()"
   ]
  },
  {
   "cell_type": "code",
   "execution_count": 84,
   "id": "455ecab4",
   "metadata": {
    "execution": {
     "iopub.execute_input": "2023-08-12T20:18:49.622421Z",
     "iopub.status.busy": "2023-08-12T20:18:49.622007Z",
     "iopub.status.idle": "2023-08-12T20:18:49.627653Z",
     "shell.execute_reply": "2023-08-12T20:18:49.626911Z"
    },
    "papermill": {
     "duration": 0.112137,
     "end_time": "2023-08-12T20:18:49.629706",
     "exception": false,
     "start_time": "2023-08-12T20:18:49.517569",
     "status": "completed"
    },
    "tags": []
   },
   "outputs": [],
   "source": [
    "def get_vocab(text_df, ngram_range=(1,1)):\n",
    "    print(f\"Generating vocabulary for ngram_range: {ngram_range}...\")\n",
    "    tvec1 = CountVectorizer(ngram_range=ngram_range, stop_words='english', strip_accents='unicode')\n",
    "    tvec1.fit(text_df)\n",
    "    voc_ngram = set(tvec1.vocabulary_.keys())\n",
    "    return voc_ngram"
   ]
  },
  {
   "cell_type": "code",
   "execution_count": 85,
   "id": "c70e0dce",
   "metadata": {
    "execution": {
     "iopub.execute_input": "2023-08-12T20:18:49.833368Z",
     "iopub.status.busy": "2023-08-12T20:18:49.832938Z",
     "iopub.status.idle": "2023-08-12T20:18:49.842838Z",
     "shell.execute_reply": "2023-08-12T20:18:49.841678Z"
    },
    "papermill": {
     "duration": 0.114532,
     "end_time": "2023-08-12T20:18:49.845153",
     "exception": false,
     "start_time": "2023-08-12T20:18:49.730621",
     "status": "completed"
    },
    "tags": []
   },
   "outputs": [],
   "source": [
    "def get_common_vocab(df_list: list, ngram_range_list: list):\n",
    "    \"\"\"\n",
    "    Get common vocabulary from a list of dataframes.\n",
    "    \"\"\"\n",
    "    final_common_vocab = set()\n",
    "    # Get vocabulary from each dataframe for a given ngram-range\n",
    "    for ngram_range in ngram_range_list:\n",
    "        vocab_ngram = set()\n",
    "        for num, df in enumerate(df_list, start=1):\n",
    "            print(f\"Working on DF#{num} in the list of DFs provided\")\n",
    "            vocab_ngram_df = set(get_vocab(df['reviewText'], ngram_range))\n",
    "            print(f\"Vocabulary size for ngram-range {ngram_range} in DF#{num}: {len(vocab_ngram_df)}\\n\")\n",
    "            if len(vocab_ngram) > 0:\n",
    "                print(f\"Keeping only the common (intersection) words for ngram-range {ngram_range}...\")\n",
    "                vocab_ngram = vocab_ngram.intersection(vocab_ngram_df)\n",
    "            else:\n",
    "                print(f\"Words from the first df for ngram-range {ngram_range} added.\\n\")\n",
    "                vocab_ngram = vocab_ngram_df\n",
    "        print(f\"Common vocabulary for ngram-range {ngram_range}: {len(vocab_ngram)}\\n\")\n",
    "        \n",
    "        if len(final_common_vocab) > 0:\n",
    "            print(f\"Fusing (union) with final common vocabulary: ngram-range = {ngram_range}.\\n\")\n",
    "            final_common_vocab = final_common_vocab.union(vocab_ngram)\n",
    "        else:\n",
    "            print(f\"Appended first time to final common vocabulary: ngram-range = {ngram_range}.\\n\")\n",
    "            final_common_vocab = vocab_ngram\n",
    "    return final_common_vocab"
   ]
  },
  {
   "cell_type": "code",
   "execution_count": 86,
   "id": "0f026d15",
   "metadata": {
    "execution": {
     "iopub.execute_input": "2023-08-12T20:18:50.051278Z",
     "iopub.status.busy": "2023-08-12T20:18:50.050888Z",
     "iopub.status.idle": "2023-08-12T20:18:50.055764Z",
     "shell.execute_reply": "2023-08-12T20:18:50.054632Z"
    },
    "papermill": {
     "duration": 0.111157,
     "end_time": "2023-08-12T20:18:50.058092",
     "exception": false,
     "start_time": "2023-08-12T20:18:49.946935",
     "status": "completed"
    },
    "tags": []
   },
   "outputs": [],
   "source": [
    "# voc_1gram = get_vocab(rt_senti[\"reviewText\"], ngram_range=(1,1))\n",
    "# len(voc_1gram), voc_1gram[:10]"
   ]
  },
  {
   "cell_type": "code",
   "execution_count": 87,
   "id": "f966e489",
   "metadata": {
    "execution": {
     "iopub.execute_input": "2023-08-12T20:18:50.262609Z",
     "iopub.status.busy": "2023-08-12T20:18:50.261517Z",
     "iopub.status.idle": "2023-08-12T20:18:50.266085Z",
     "shell.execute_reply": "2023-08-12T20:18:50.265293Z"
    },
    "papermill": {
     "duration": 0.109593,
     "end_time": "2023-08-12T20:18:50.268232",
     "exception": false,
     "start_time": "2023-08-12T20:18:50.158639",
     "status": "completed"
    },
    "tags": []
   },
   "outputs": [],
   "source": [
    "# voc_2gram = get_vocab(rt_senti[\"reviewText\"], ngram_range=(2,2))\n",
    "# len(voc_2gram), voc_2gram[:10]"
   ]
  },
  {
   "cell_type": "code",
   "execution_count": 88,
   "id": "98ab8693",
   "metadata": {
    "execution": {
     "iopub.execute_input": "2023-08-12T20:18:50.473398Z",
     "iopub.status.busy": "2023-08-12T20:18:50.472598Z",
     "iopub.status.idle": "2023-08-12T20:18:50.477184Z",
     "shell.execute_reply": "2023-08-12T20:18:50.476102Z"
    },
    "papermill": {
     "duration": 0.109214,
     "end_time": "2023-08-12T20:18:50.479239",
     "exception": false,
     "start_time": "2023-08-12T20:18:50.370025",
     "status": "completed"
    },
    "tags": []
   },
   "outputs": [],
   "source": [
    "# voc_3gram = get_vocab(rt_senti[\"reviewText\"], ngram_range=(3,3))\n",
    "# len(voc_3gram), voc_3gram[:10]"
   ]
  },
  {
   "cell_type": "code",
   "execution_count": 89,
   "id": "2dbd3eb2",
   "metadata": {
    "execution": {
     "iopub.execute_input": "2023-08-12T20:18:50.684613Z",
     "iopub.status.busy": "2023-08-12T20:18:50.684174Z",
     "iopub.status.idle": "2023-08-12T20:18:50.689124Z",
     "shell.execute_reply": "2023-08-12T20:18:50.688101Z"
    },
    "papermill": {
     "duration": 0.11039,
     "end_time": "2023-08-12T20:18:50.691502",
     "exception": false,
     "start_time": "2023-08-12T20:18:50.581112",
     "status": "completed"
    },
    "tags": []
   },
   "outputs": [],
   "source": [
    "# common_unigrams = get_common_vocab([rt_senti, rt_test], ngram_range_list=[(1,1)])\n",
    "# print(len(common_unigrams))\n",
    "# # sorted(list(common_unigrams))"
   ]
  },
  {
   "cell_type": "code",
   "execution_count": 90,
   "id": "715823f0",
   "metadata": {
    "execution": {
     "iopub.execute_input": "2023-08-12T20:18:50.895398Z",
     "iopub.status.busy": "2023-08-12T20:18:50.895017Z",
     "iopub.status.idle": "2023-08-12T20:18:50.899164Z",
     "shell.execute_reply": "2023-08-12T20:18:50.898107Z"
    },
    "papermill": {
     "duration": 0.109036,
     "end_time": "2023-08-12T20:18:50.901474",
     "exception": false,
     "start_time": "2023-08-12T20:18:50.792438",
     "status": "completed"
    },
    "tags": []
   },
   "outputs": [],
   "source": [
    "# common_bigrams = get_common_vocab([rt_senti, rt_test], ngram_range_list=[(2,2)])\n",
    "# print(len(common_bigrams))\n",
    "# # # common_bigrams"
   ]
  },
  {
   "cell_type": "code",
   "execution_count": 91,
   "id": "4b2b2ecf",
   "metadata": {
    "execution": {
     "iopub.execute_input": "2023-08-12T20:18:51.106038Z",
     "iopub.status.busy": "2023-08-12T20:18:51.105291Z",
     "iopub.status.idle": "2023-08-12T20:18:51.109745Z",
     "shell.execute_reply": "2023-08-12T20:18:51.108927Z"
    },
    "papermill": {
     "duration": 0.109277,
     "end_time": "2023-08-12T20:18:51.112125",
     "exception": false,
     "start_time": "2023-08-12T20:18:51.002848",
     "status": "completed"
    },
    "tags": []
   },
   "outputs": [],
   "source": [
    "# common_1_2_grams = get_common_vocab([rt_senti, rt_test], ngram_range_list=[(1,1), (2,2)])\n",
    "# print(len(common_1_2_grams))\n",
    "# # sorted(list(common_1_2_grams))\n",
    "\n",
    "# # common_1_2_grams = common_unigrams | common_bigrams    # older code"
   ]
  },
  {
   "cell_type": "code",
   "execution_count": 92,
   "id": "cabed2d8",
   "metadata": {
    "execution": {
     "iopub.execute_input": "2023-08-12T20:18:51.317615Z",
     "iopub.status.busy": "2023-08-12T20:18:51.316865Z",
     "iopub.status.idle": "2023-08-12T20:18:51.321469Z",
     "shell.execute_reply": "2023-08-12T20:18:51.320212Z"
    },
    "papermill": {
     "duration": 0.108521,
     "end_time": "2023-08-12T20:18:51.323718",
     "exception": false,
     "start_time": "2023-08-12T20:18:51.215197",
     "status": "completed"
    },
    "tags": []
   },
   "outputs": [],
   "source": [
    "# common_trigrams = get_common_vocab([rt_senti, rt_test], ngram_range_list=[(3,3)])\n",
    "# print(len(common_trigrams))\n",
    "# # common_trigrams"
   ]
  },
  {
   "cell_type": "code",
   "execution_count": 93,
   "id": "2f20eba3",
   "metadata": {
    "execution": {
     "iopub.execute_input": "2023-08-12T20:18:51.526258Z",
     "iopub.status.busy": "2023-08-12T20:18:51.525874Z",
     "iopub.status.idle": "2023-08-12T20:18:51.531036Z",
     "shell.execute_reply": "2023-08-12T20:18:51.529854Z"
    },
    "papermill": {
     "duration": 0.108882,
     "end_time": "2023-08-12T20:18:51.533293",
     "exception": false,
     "start_time": "2023-08-12T20:18:51.424411",
     "status": "completed"
    },
    "tags": []
   },
   "outputs": [],
   "source": [
    "# common_1_2_3_grams = get_common_vocab([rt_senti, rt_test], ngram_range_list=[(1,1), (2,2), (3,3)])\n",
    "# print(len(common_1_2_3_grams))\n",
    "# # sorted((common_1_2_3_grams))\n",
    "\n",
    "# # common_1_2_3_grams = common_unigrams | common_bigrams | common_trigrams    # Older code  "
   ]
  },
  {
   "cell_type": "markdown",
   "id": "0f70341b",
   "metadata": {
    "papermill": {
     "duration": 0.10014,
     "end_time": "2023-08-12T20:18:51.792777",
     "exception": false,
     "start_time": "2023-08-12T20:18:51.692637",
     "status": "completed"
    },
    "tags": []
   },
   "source": [
    "### Find common vocabulary between text with positive and negative sentiments in training dataset  "
   ]
  },
  {
   "cell_type": "code",
   "execution_count": 94,
   "id": "ea7c349a",
   "metadata": {
    "execution": {
     "iopub.execute_input": "2023-08-12T20:18:51.995897Z",
     "iopub.status.busy": "2023-08-12T20:18:51.994513Z",
     "iopub.status.idle": "2023-08-12T20:18:52.044328Z",
     "shell.execute_reply": "2023-08-12T20:18:52.043255Z"
    },
    "papermill": {
     "duration": 0.154291,
     "end_time": "2023-08-12T20:18:52.047092",
     "exception": false,
     "start_time": "2023-08-12T20:18:51.892801",
     "status": "completed"
    },
    "tags": []
   },
   "outputs": [
    {
     "data": {
      "text/plain": [
       "(108761, 2)"
      ]
     },
     "execution_count": 94,
     "metadata": {},
     "output_type": "execute_result"
    }
   ],
   "source": [
    "# Dataframe for positive sentiment\n",
    "rt_senti_pos = rt_senti.loc[rt_senti['sentiment'] == 'POSITIVE'].copy()\n",
    "rt_senti_pos.shape"
   ]
  },
  {
   "cell_type": "code",
   "execution_count": 95,
   "id": "11c195d9",
   "metadata": {
    "execution": {
     "iopub.execute_input": "2023-08-12T20:18:52.251790Z",
     "iopub.status.busy": "2023-08-12T20:18:52.251360Z",
     "iopub.status.idle": "2023-08-12T20:18:52.294979Z",
     "shell.execute_reply": "2023-08-12T20:18:52.293740Z"
    },
    "papermill": {
     "duration": 0.149162,
     "end_time": "2023-08-12T20:18:52.297411",
     "exception": false,
     "start_time": "2023-08-12T20:18:52.148249",
     "status": "completed"
    },
    "tags": []
   },
   "outputs": [
    {
     "data": {
      "text/plain": [
       "(53997, 2)"
      ]
     },
     "execution_count": 95,
     "metadata": {},
     "output_type": "execute_result"
    }
   ],
   "source": [
    "# Dataframe for negative sentiment\n",
    "rt_senti_neg = rt_senti.loc[rt_senti['sentiment'] == 'NEGATIVE'].copy()\n",
    "rt_senti_neg.shape"
   ]
  },
  {
   "cell_type": "code",
   "execution_count": 96,
   "id": "024be9b3",
   "metadata": {
    "execution": {
     "iopub.execute_input": "2023-08-12T20:18:52.504085Z",
     "iopub.status.busy": "2023-08-12T20:18:52.503619Z",
     "iopub.status.idle": "2023-08-12T20:18:52.507773Z",
     "shell.execute_reply": "2023-08-12T20:18:52.507005Z"
    },
    "papermill": {
     "duration": 0.109481,
     "end_time": "2023-08-12T20:18:52.509795",
     "exception": false,
     "start_time": "2023-08-12T20:18:52.400314",
     "status": "completed"
    },
    "tags": []
   },
   "outputs": [],
   "source": [
    "# Generate stop words/phrases specific for this project data  \n",
    "\n",
    "# common_1_2_3_grams_sentiment = get_common_vocab([rt_senti_pos, rt_senti_neg], ngram_range_list=[(1,1), (2,2), (3,3)])\n",
    "# print(len(common_1_2_3_grams_sentiment))\n",
    "# # sorted(list(common_1_2_3_grams_sentiment))"
   ]
  },
  {
   "cell_type": "code",
   "execution_count": 97,
   "id": "715ddac7",
   "metadata": {
    "execution": {
     "iopub.execute_input": "2023-08-12T20:18:52.717046Z",
     "iopub.status.busy": "2023-08-12T20:18:52.716615Z",
     "iopub.status.idle": "2023-08-12T20:18:52.721264Z",
     "shell.execute_reply": "2023-08-12T20:18:52.720185Z"
    },
    "papermill": {
     "duration": 0.109791,
     "end_time": "2023-08-12T20:18:52.723455",
     "exception": false,
     "start_time": "2023-08-12T20:18:52.613664",
     "status": "completed"
    },
    "tags": []
   },
   "outputs": [],
   "source": [
    "# Generate and store the entire vocabulary of training data  \n",
    "\n",
    "# train_1_2_3_grams = get_vocab(rt_senti['reviewText'], ngram_range=(1,3))\n",
    "# print(len(train_1_2_3_grams))\n",
    "# # sorted(train_1_2_3_grams)"
   ]
  },
  {
   "cell_type": "code",
   "execution_count": 98,
   "id": "03a7610a",
   "metadata": {
    "execution": {
     "iopub.execute_input": "2023-08-12T20:18:52.928746Z",
     "iopub.status.busy": "2023-08-12T20:18:52.928030Z",
     "iopub.status.idle": "2023-08-12T20:18:52.932336Z",
     "shell.execute_reply": "2023-08-12T20:18:52.931446Z"
    },
    "papermill": {
     "duration": 0.10922,
     "end_time": "2023-08-12T20:18:52.934328",
     "exception": false,
     "start_time": "2023-08-12T20:18:52.825108",
     "status": "completed"
    },
    "tags": []
   },
   "outputs": [],
   "source": [
    "# type(train_1_2_3_grams)"
   ]
  },
  {
   "cell_type": "code",
   "execution_count": 99,
   "id": "041fd9e7",
   "metadata": {
    "execution": {
     "iopub.execute_input": "2023-08-12T20:18:53.140818Z",
     "iopub.status.busy": "2023-08-12T20:18:53.140067Z",
     "iopub.status.idle": "2023-08-12T20:18:53.144258Z",
     "shell.execute_reply": "2023-08-12T20:18:53.143389Z"
    },
    "papermill": {
     "duration": 0.109685,
     "end_time": "2023-08-12T20:18:53.146276",
     "exception": false,
     "start_time": "2023-08-12T20:18:53.036591",
     "status": "completed"
    },
    "tags": []
   },
   "outputs": [],
   "source": [
    "# Get the vocabulary that should be used in the final models  \n",
    "# relevant_vocab = train_1_2_3_grams - common_1_2_3_grams_sentiment\n",
    "# print(len(relevant_vocab))"
   ]
  },
  {
   "cell_type": "markdown",
   "id": "53c2de11",
   "metadata": {
    "papermill": {
     "duration": 0.101294,
     "end_time": "2023-08-12T20:18:53.349203",
     "exception": false,
     "start_time": "2023-08-12T20:18:53.247909",
     "status": "completed"
    },
    "tags": []
   },
   "source": [
    "## Submit_v4 for merged file models  "
   ]
  },
  {
   "cell_type": "markdown",
   "id": "9e375494",
   "metadata": {
    "papermill": {
     "duration": 0.100984,
     "end_time": "2023-08-12T20:18:53.551348",
     "exception": false,
     "start_time": "2023-08-12T20:18:53.450364",
     "status": "completed"
    },
    "tags": []
   },
   "source": [
    "### More Helper functions  "
   ]
  },
  {
   "cell_type": "code",
   "execution_count": 100,
   "id": "41d00f3c",
   "metadata": {
    "execution": {
     "iopub.execute_input": "2023-08-12T20:18:53.757738Z",
     "iopub.status.busy": "2023-08-12T20:18:53.757072Z",
     "iopub.status.idle": "2023-08-12T20:18:53.763525Z",
     "shell.execute_reply": "2023-08-12T20:18:53.762803Z"
    },
    "papermill": {
     "duration": 0.11077,
     "end_time": "2023-08-12T20:18:53.765517",
     "exception": false,
     "start_time": "2023-08-12T20:18:53.654747",
     "status": "completed"
    },
    "tags": []
   },
   "outputs": [],
   "source": [
    "# Testing predictions on missing reviewtext columns  \n",
    "\n",
    "def predict_on_missing_review_data(pipe, selected_features, merged_train):\n",
    "    missing_reviews_train = merged_train.loc[merged_train['reviewYN'] == 1]\n",
    "    missing_reviews_train.reset_index(drop=True)\n",
    "    X_train_miss_revs = missing_reviews_train.drop('sentiment', axis = 1)\n",
    "    X_train_miss_revs = X_train_miss_revs[selected_features]\n",
    "    y_train_miss_revs = missing_reviews_train['sentiment']\n",
    "    \n",
    "    y_pred_miss_revs = pipe.predict(X_train_miss_revs)\n",
    "#     print('Predictions on rows which had missing reviewText')\n",
    "    print(\"Confusion matrix and f1-score for rows which have no reviewText in X_train: \")\n",
    "    print(confusion_matrix(y_train_miss_revs, y_pred_miss_revs, labels=pipe.classes_))\n",
    "    \n",
    "    return f1_score(y_train_miss_revs, y_pred_miss_revs, average='micro')"
   ]
  },
  {
   "cell_type": "code",
   "execution_count": 101,
   "id": "d47eee66",
   "metadata": {
    "execution": {
     "iopub.execute_input": "2023-08-12T20:18:53.970565Z",
     "iopub.status.busy": "2023-08-12T20:18:53.969895Z",
     "iopub.status.idle": "2023-08-12T20:18:54.000295Z",
     "shell.execute_reply": "2023-08-12T20:18:53.999473Z"
    },
    "papermill": {
     "duration": 0.136171,
     "end_time": "2023-08-12T20:18:54.002627",
     "exception": false,
     "start_time": "2023-08-12T20:18:53.866456",
     "status": "completed"
    },
    "tags": []
   },
   "outputs": [],
   "source": [
    "# Function to build pipelines for GridSearchCV which goes into the final 'submit' function  \n",
    "def build_pipeline(selected_model=LogisticRegression(), \n",
    "                   selected_features={'txt': ['reviewText']}, \n",
    "                   param_grid=None,\n",
    "                   vocab=None,\n",
    "                   vocab_usage='tfidf',\n",
    "                   strip_accents='unicode', \n",
    "                   add_countvec=False):\n",
    "    # Encoders  \n",
    "    ohe = OneHotEncoder(sparse_output=False, handle_unknown='ignore')\n",
    "    MMscaler = MinMaxScaler()\n",
    "    StdScaler = StandardScaler()\n",
    "    RobScaler = RobustScaler()\n",
    "    \n",
    "    # Text features ['reviewText', 'reviewerName', 'movieid', 'genre', 'director']\n",
    "    tfidf_vec = TfidfVectorizer(ngram_range=(1,2))\n",
    "    count_vec = CountVectorizer(ngram_range=(1,2))\n",
    "    txt_pipe = Pipeline(steps=[\n",
    "                            (\"tvec\", TfidfVectorizer(ngram_range=(1,3), strip_accents=strip_accents))    # Adjust ngram_range here for reviewText\n",
    "                        ])\n",
    "    txt_pipe_vocab = Pipeline(steps=[\n",
    "                            (\"tvec\", TfidfVectorizer(ngram_range=(1,3), strip_accents=strip_accents, vocabulary=vocab))    # Adjust ngram_range here for reviewText\n",
    "                        ])\n",
    "    txt_pipe_2 = Pipeline(steps=[\n",
    "                            (\"tvec\", TfidfVectorizer(ngram_range=(2,2)))\n",
    "                        ])\n",
    "    txt_pipe_3 = Pipeline(steps=[\n",
    "                            (\"tvec\", TfidfVectorizer(ngram_range=(1,1)))\n",
    "                        ])\n",
    "    txt_pipe_4 = Pipeline(steps=[\n",
    "                            (\"tvec\", TfidfVectorizer(ngram_range=(1,3)))    # Adjust ngram_range here for reviewText\n",
    "                        ])\n",
    "    txt_pipe_title  = Pipeline(steps=[\n",
    "                            (\"tvec\", TfidfVectorizer(ngram_range=(1,5)))    # Adjust ngram_range here for reviewText\n",
    "                        ])\n",
    "    \n",
    "    # Additional pipes for count vectorizer\n",
    "    txt_pipe_countvec = Pipeline(steps=[\n",
    "                            (\"cvec\", CountVectorizer(ngram_range=(1,3), strip_accents=strip_accents))    # Adjust ngram_range here for reviewText\n",
    "                        ])\n",
    "    txt_pipe_countvec_vocab = Pipeline(steps=[\n",
    "                            (\"cvec\", CountVectorizer(ngram_range=(1,3), strip_accents=strip_accents, vocabulary=vocab))    # Adjust ngram_range here for reviewText\n",
    "                        ])\n",
    "    \n",
    "    txt_pipe_countvec_ratingContents = Pipeline(steps=[\n",
    "                            (\"cvec\", CountVectorizer(ngram_range=(1,5)))    # Adjust ngram_range here for reviewText\n",
    "                        ])\n",
    "    txt_pipe_countvec_rcSorted = Pipeline(steps=[\n",
    "                            (\"cvec\", CountVectorizer(ngram_range=(1,1)))    # Adjust ngram_range here for reviewText\n",
    "                        ])\n",
    "    txt_pipe_countvec_genre = Pipeline(steps=[\n",
    "                            (\"cvec\", CountVectorizer(ngram_range=(1,1)))\n",
    "                        ])\n",
    "    txt_pipe_countvec_genreSorted = Pipeline(steps=[\n",
    "                            (\"cvec\", CountVectorizer(ngram_range=(1,5)))\n",
    "                        ])\n",
    "    txt_pipe_countvec_distributor = Pipeline(steps=[\n",
    "                            (\"cvec\", CountVectorizer(ngram_range=(1,3)))    # Adjust ngram_range here for reviewText\n",
    "                        ])\n",
    "    txt_pipe_countvec_title = Pipeline(steps=[\n",
    "                            (\"cvec\", CountVectorizer(ngram_range=(1,5), strip_accents=strip_accents))\n",
    "                        ])\n",
    "    txt_pipe_countvec_movieid = Pipeline(steps=[\n",
    "                            (\"cvec\", CountVectorizer(ngram_range=(1,1)))\n",
    "                        ])\n",
    "    # Basic pipes  \n",
    "    TFs = []\n",
    "    try:\n",
    "        for c in selected_features['cat']:\n",
    "            TFs.append((f\"cat_{c}\", ohe, [c]))\n",
    "    except:\n",
    "        pass\n",
    "    try:\n",
    "        for n in selected_features['num']:\n",
    "            if n in [\"runtimeMinutes\", \"boxOffice\", \"releaseDiff\"]:\n",
    "                TFs.append((f\"num_{n}\", RobScaler, [n]))\n",
    "                TFs.append((f\"num_{n}_ss\", StdScaler, [n]))\n",
    "                \n",
    "            else:\n",
    "                TFs.append((f\"num_{n}\", StdScaler, [n]))\n",
    "    except:\n",
    "        pass\n",
    "    try:\n",
    "        for t in selected_features['txt']:\n",
    "            if t in ['director', 'reviewerName']:\n",
    "                TFs.append((f\"txt_{t}\", txt_pipe_2, t))\n",
    "            elif t in [\"originalLanguage\", \"releaseYear\"]:\n",
    "                TFs.append((f\"txt_{t}\", txt_pipe_3, t))\n",
    "            elif t in ['genre']:\n",
    "                TFs.append((f\"txt_{t}\", txt_pipe_countvec_genre, t))\n",
    "            elif t in [\"genreSorted\"]:\n",
    "                TFs.append((f\"txt_{t}\", txt_pipe_countvec_genreSorted, t))\n",
    "            elif t in [\"distributor\"]:\n",
    "                TFs.append((f\"txt_{t}\", txt_pipe_countvec_distributor, t))\n",
    "            elif t in ['reviewText'] and not vocab:\n",
    "#                 if vocab and (vocab_usage in [\"tfidf\", \"both\"]):\n",
    "#                     txt_pipe.set_params(tvec__vocabulary=vocab)\n",
    "#                     txt_pipe.set_params(tvec__stop_words='english')\n",
    "                TFs.append((f\"txt_{t}\", txt_pipe, t))\n",
    "            elif t in ['reviewText_2']:\n",
    "                if add_countvec:\n",
    "#                     if vocab and (vocab_usage in [\"count\", \"both\"]):\n",
    "#                         txt_pipe_countvec.set_params(cvec__vocabulary=vocab)\n",
    "#                         txt_pipe_countvec.set_params(cvec__stop_words='english')\n",
    "                    TFs.append((f\"txt_{t}\", txt_pipe_countvec, t))\n",
    "            elif t in ['reviewText_3']:\n",
    "                if vocab_usage == 'tfidf':\n",
    "                    TFs.append((f\"txt_{t}\", txt_pipe_vocab, t))\n",
    "                elif vocab_usage == 'count':\n",
    "                    TFs.append((f\"txt_{t}\", txt_pipe_countvec_vocab, t))\n",
    "            elif t in [\"ratingContents\"]:\n",
    "                TFs.append((f\"txt_{t}\", txt_pipe_countvec_ratingContents, t))\n",
    "            elif t in [\"rcSorted\"]:\n",
    "                TFs.append((f\"txt_{t}\", txt_pipe_countvec_rcSorted, t))\n",
    "            elif t in [\"title\"]:\n",
    "                TFs.append((f\"txt_{t}\", txt_pipe_title, t))\n",
    "            elif t in [\"movieid\"]:\n",
    "                TFs.append((f\"txt_{t}\", txt_pipe_countvec_movieid, t))\n",
    "            else:\n",
    "                pass\n",
    "    except:\n",
    "        pass\n",
    "\n",
    "    # Build ColumnTransformer  \n",
    "    ct = ColumnTransformer(transformers=TFs, remainder='drop')\n",
    "\n",
    "    # Build Pipeline\n",
    "    pipe = Pipeline(steps=[('ct', ct), ('model', selected_model)])\n",
    "    print(\"\\nPipeline built successfully.\")\n",
    "\n",
    "    # Use the pipe in GridSearchCV\n",
    "    if param_grid == None:\n",
    "        param_grid_temp = {\"model__C\": [1],\n",
    "                     'model__solver': ['liblinear']}\n",
    "        print(\"Full GridSearchCV pipeline built successfully with basic default param_grid.\\n\")\n",
    "        pipeCV = GridSearchCV(pipe, param_grid_temp, cv=10, scoring=\"f1_micro\", n_jobs=-1)\n",
    "        return pipeCV\n",
    "    \n",
    "    # GridSearchCV if param_grid provided\n",
    "    if param_grid:\n",
    "        pipeCV = GridSearchCV(pipe, param_grid, cv=10, scoring=\"f1_micro\", n_jobs=-1)\n",
    "        print(\"\\nFull GridSearchCV pipeline built successfully.\")\n",
    "        return pipeCV"
   ]
  },
  {
   "cell_type": "code",
   "execution_count": 102,
   "id": "560103f3",
   "metadata": {
    "execution": {
     "iopub.execute_input": "2023-08-12T20:18:54.207417Z",
     "iopub.status.busy": "2023-08-12T20:18:54.206742Z",
     "iopub.status.idle": "2023-08-12T20:18:54.223579Z",
     "shell.execute_reply": "2023-08-12T20:18:54.222453Z"
    },
    "papermill": {
     "duration": 0.121869,
     "end_time": "2023-08-12T20:18:54.225920",
     "exception": false,
     "start_time": "2023-08-12T20:18:54.104051",
     "status": "completed"
    },
    "tags": []
   },
   "outputs": [],
   "source": [
    "def preprocessor(imputer_type='simple'):\n",
    "    \n",
    "    \"\"\"Preprocess train or test data. Choose 'simple' or 'knn' imputers to impute missing numerical values\"\"\"\n",
    "    \n",
    "    # Set imputer  \n",
    "    if imputer_type == 'simple':\n",
    "        imputer = SimpleImputer(strategy='median')\n",
    "        print(imputer)\n",
    "    elif imputer_type == 'knn':\n",
    "        imputer = KNNImputer(weights='distance', n_neighbors=3)    # Adjust KNNImputer params here\n",
    "        print(imputer)\n",
    "\n",
    "\n",
    "    \n",
    "    # Merge and preprocess train and movies data  \n",
    "    merged = select_features(load_csv(\"train\"), load_csv(\"movies\"), row_thresh_null=None)    # Decide if you want to drop any rows containing lot of nulls\n",
    "    \n",
    "    # Impute missing numerical values  \n",
    "    merged[['audienceScore', 'runtimeMinutes', 'boxOffice']] = imputer.fit_transform(merged[['audienceScore', 'runtimeMinutes', 'boxOffice']])\n",
    "    merged['releaseDate'] = merged[\"releaseDate\"].fillna(merged[\"releaseDate\"].median())\n",
    "\n",
    "    # Create new feature columns\n",
    "    \n",
    "    # Convert audienceScore to categories  \n",
    "    num_bins_as = 20\n",
    "    merged[\"audScoreBins\"] = pd.cut(merged['audienceScore'], bins=num_bins_as, labels=False)\n",
    "\n",
    "    # Convert runtimeMinutes to categories  \n",
    "#     num_bins_rt = 20\n",
    "    merged[\"runtimeBins\"] = pd.cut(merged['runtimeMinutes'], bins=[0,75,120,180,565], labels=[4,3,2,1])\n",
    "    \n",
    "    # Convert boxOffice to categories  \n",
    "    num_bins_bo = 5\n",
    "    merged[\"boxOfficeBins\"] = pd.cut(merged['boxOffice'], bins=num_bins_bo, labels=False)\n",
    "    \n",
    "    # Convert releaseDiff to categories  \n",
    "    num_bins_rd = 5\n",
    "    merged[\"releaseDiffBins\"] = pd.cut(merged['releaseDiff'], bins=[-1, 180, 360, 1000, 40000], labels=[0, 1, 2, 3])\n",
    "    \n",
    "    # Check1 (preprocessor)\n",
    "    print(\"\\nCheck 1 (preprocessor) complete.\")\n",
    "    print(f\"Shape of X_train: {merged.shape}\")\n",
    "    print(f\"Features in X_train: {merged.columns}\")\n",
    "\n",
    "\n",
    "    \n",
    "    # Merge and preprocess test and movies data  \n",
    "    merged_test = select_features(load_csv(\"test\"), load_csv(\"movies\"))\n",
    "    \n",
    "    # Transform ['audienceScore', 'runtimeMinutes', 'boxOffice'] columns in merged_test using 'imputer' fitted on 'merged' df  \n",
    "    merged_test[['audienceScore', 'runtimeMinutes', 'boxOffice']] = imputer.transform(merged_test[['audienceScore', 'runtimeMinutes', 'boxOffice']])\n",
    "    \n",
    "    # Fill 'releaseDate' column in 'merged_test' df with median from the train (merged) df  \n",
    "    merged_test['releaseDate'] = merged_test[\"releaseDate\"].fillna(merged[\"releaseDate\"].median())\n",
    "\n",
    "    \n",
    "    # Create new feature columns\n",
    "    \n",
    "    # Convert audienceScore to categories  \n",
    "    num_bins_as = 20\n",
    "    merged_test[\"audScoreBins\"] = pd.cut(merged_test['audienceScore'], bins=num_bins_as, labels=False)\n",
    "    \n",
    "    # Convert runtimeMinutes to categories  \n",
    "#     num_bins_rt = 20\n",
    "    merged_test[\"runtimeBins\"] = pd.cut(merged_test['runtimeMinutes'], bins=[0,75,120,180,565], labels=[4,3,2,1])\n",
    "    \n",
    "    # Convert boxOffice to categories  \n",
    "    num_bins_bo = 5\n",
    "    merged_test[\"boxOfficeBins\"] = pd.cut(merged_test['boxOffice'], bins=num_bins_bo, labels=False)\n",
    "    \n",
    "    # Convert releaseDiff to categories  \n",
    "    num_bins_rd = 5\n",
    "    merged_test[\"releaseDiffBins\"] = pd.cut(merged_test['releaseDiff'], bins=[-1, 180, 360, 1000, 40000], labels=[0, 1, 2, 3])\n",
    "    \n",
    "    \n",
    "    # Check2 (preprocessor)\n",
    "    print(\"\\nCheck 2 (preprocessor) complete.\")\n",
    "    print(f\"Shape of X_test: {merged_test.shape}\")\n",
    "    print(f\"Features in X_test: {merged_test.columns}\")\n",
    "\n",
    "    return merged, merged_test\n",
    "    "
   ]
  },
  {
   "cell_type": "code",
   "execution_count": 103,
   "id": "1c734333",
   "metadata": {
    "execution": {
     "iopub.execute_input": "2023-08-12T20:18:54.453353Z",
     "iopub.status.busy": "2023-08-12T20:18:54.452429Z",
     "iopub.status.idle": "2023-08-12T20:18:54.457186Z",
     "shell.execute_reply": "2023-08-12T20:18:54.456177Z"
    },
    "papermill": {
     "duration": 0.115342,
     "end_time": "2023-08-12T20:18:54.459163",
     "exception": false,
     "start_time": "2023-08-12T20:18:54.343821",
     "status": "completed"
    },
    "tags": []
   },
   "outputs": [],
   "source": [
    "# merged, merged_test = preprocessor()\n",
    "# merged.shape, merged_test.shape"
   ]
  },
  {
   "cell_type": "code",
   "execution_count": 104,
   "id": "cf06c3a3",
   "metadata": {
    "execution": {
     "iopub.execute_input": "2023-08-12T20:18:54.687459Z",
     "iopub.status.busy": "2023-08-12T20:18:54.686709Z",
     "iopub.status.idle": "2023-08-12T20:18:54.714750Z",
     "shell.execute_reply": "2023-08-12T20:18:54.713854Z"
    },
    "papermill": {
     "duration": 0.152364,
     "end_time": "2023-08-12T20:18:54.717614",
     "exception": false,
     "start_time": "2023-08-12T20:18:54.565250",
     "status": "completed"
    },
    "tags": []
   },
   "outputs": [],
   "source": [
    "def submit_v5(classifiers= [\n",
    "                {'selected_model' : LogisticRegression(C=1, solver='saga', max_iter=100000),\n",
    "                 'param_grid' : None,\n",
    "                 'selected_features' : {'num': ['audienceScore']},\n",
    "                 'vocab' : None,\n",
    "                 'vocab_usage' : 'tfidf',\n",
    "                 'strip_accents' : 'unicode',\n",
    "                 'add_countvec' : False}\n",
    "              ], \n",
    "            imputer_type='simple'\n",
    "            ):\n",
    "    \n",
    "    \"\"\"Takes a list of dictionaries each with same keys as mentioned in the default dictionary in function definition\"\"\"\n",
    "    \n",
    "    print(\"\\nRunning the submit_v5 function...\")\n",
    "    \n",
    "    print(f\"\\nData preprocessor initiated...\")\n",
    "    \n",
    "    imputer_type = imputer_type\n",
    "    print(f\"\\nImputer for missing numerical values: {imputer_type}\")\n",
    "    print(f\"Imputing missing values. (This could take a while if it is KNNImputer)\")\n",
    "    \n",
    "    merged, merged_test = preprocessor(imputer_type=imputer_type)\n",
    "    print(f\"\\nPreprocessing of train and test datasets complete.\")\n",
    "    \n",
    "    # Build vocabulary (if vocab is True)\n",
    "    vocab = None\n",
    "    for item in classifiers:\n",
    "        if item['vocab']:\n",
    "            vocab = True\n",
    "            break\n",
    "    \n",
    "    if vocab == True:\n",
    "        # Generate and store the entire vocabulary of training data  \n",
    "        print(f\"Generating stop words/phrases specific for this project data...\")\n",
    "        train_1_2_3_grams = get_vocab(merged['reviewText'], ngram_range=(1,3))\n",
    "        print(f\"Size of vocabulary of training data: {len(train_1_2_3_grams)}\")\n",
    "        # sorted(train_1_2_3_grams)\n",
    "\n",
    "        # Generate stop words/phrases specific for this project data  \n",
    "        print(f\"Generating stop words/phrases specific for this project data...\")\n",
    "        common_1_2_3_grams = get_common_vocab([merged, merged_test], ngram_range_list=[(1,1), (2,2), (3,3)])\n",
    "        print(f\"Number of stop words: {len(common_1_2_3_grams)}\")\n",
    "\n",
    "        # Get the vocabulary that should be used in the final models  \n",
    "        print(f\"Getting the vocabulary that will be fed to the final model(s)...\")\n",
    "        relevant_vocab = list(train_1_2_3_grams - common_1_2_3_grams)\n",
    "        print(f\"Size of the final relevant vocabulary: {len(relevant_vocab)}\")\n",
    "    else:\n",
    "        pass\n",
    "    \n",
    "    \n",
    "    # Create a list to store estimators  \n",
    "    estimators = []     # List of tuples of the form ('classifier_name', 'classifer_instance')\n",
    "    \n",
    "    # Build a dataframe of predictions  \n",
    "    predictions_df = pd.DataFrame()\n",
    "    \n",
    "    # Build a separate pipeline and fit it on selected features (and param_grid) for each item in classifiers list\n",
    "    for n, item in enumerate(classifiers, start=1):\n",
    "        selected_model = item['selected_model']\n",
    "        selected_features = item['selected_features']\n",
    "        param_grid = item['param_grid']\n",
    "        vocab = item['vocab']\n",
    "        vocab_usage = item['vocab_usage']\n",
    "        strip_accents = item['strip_accents']\n",
    "        add_countvec = item['add_countvec']\n",
    "    \n",
    "    \n",
    "        # Fine tune selected_features\n",
    "        if add_countvec:\n",
    "            if 'txt' in selected_features.keys():\n",
    "                if \"reviewText_2\" not in selected_features['txt']:\n",
    "                    selected_features['txt'].append('reviewText_2')\n",
    "        if vocab:\n",
    "            if 'txt' in selected_features.keys():\n",
    "                if \"reviewText_3\" not in selected_features['txt']:\n",
    "                    selected_features['txt'].append('reviewText_3')\n",
    "        else:\n",
    "            print(f\"No vocabulary provided/used for this model.\")\n",
    "        print(f\"\\nSelected features: {selected_features}\")\n",
    "        \n",
    "        if type(vocab) in [type([1, 2]), type({1, 2})]:\n",
    "            vocab = vocab\n",
    "        elif vocab == True:\n",
    "            vocab = common_1_2_3_grams    # Choose vocabulary here\n",
    "\n",
    "        # Modify X_train for the given 'item' by creating a custom 'features' list\n",
    "        features = []\n",
    "        for item in selected_features.values():\n",
    "            features.extend(item)\n",
    "            \n",
    "        # Add new columns as needed  \n",
    "        if add_countvec:\n",
    "            merged['reviewText_2'] = merged['reviewText']\n",
    "        if vocab:\n",
    "            merged['reviewText_3'] = merged['reviewText']\n",
    "        \n",
    "        # Create X_tran, y_train\n",
    "        X_train = merged.drop(labels=\"sentiment\", axis=1)\n",
    "        y_train = merged[\"sentiment\"]\n",
    "        \n",
    "        X_train = merged[features].copy()\n",
    "\n",
    "\n",
    "        # Build Pipeline\n",
    "        pipe = build_pipeline(selected_model, selected_features, param_grid=param_grid, \n",
    "                              vocab=vocab, vocab_usage='tfidf', \n",
    "                              strip_accents=strip_accents, add_countvec=add_countvec)\n",
    "        print(pipe)\n",
    "\n",
    "        \n",
    "        # Fit \n",
    "        print(f\"\\nTraining started with full pipeline for classifier #{n}/{len(classifiers)}...\")\n",
    "        pipe.fit(X_train, y_train)\n",
    "        \n",
    "\n",
    "        # Check1\n",
    "        print(f\"\\nCheck #{n}.1 complete.\")\n",
    "        print(f\"Details of the best model using classifier #{n} (GridSearchCV) on X_train: \")\n",
    "        print(f\"Best Params: {pipe.best_params_}\")\n",
    "        print(f\"Best Score: {pipe.best_score_}\")\n",
    "        \n",
    "        print(predict_on_missing_review_data(pipe, features, merged))    # Function defined above\n",
    "        \n",
    "        estimators.append((f\"classifier_{n}\", pipe))\n",
    "        print(f\"classifier_{n} successfully added to 'estimators' list\")\n",
    "\n",
    "        \n",
    "        # Predict on train data \n",
    "        y_train_pred = pipe.predict(X_train)\n",
    "        print(f\"Confusion matrix for predictions on training data: \")\n",
    "        print(confusion_matrix(y_train, y_train_pred))\n",
    "        f1_train = f1_score(y_train, y_train_pred, average=\"micro\")\n",
    "        print(f\"F1-score on training data: {f1_train}\")\n",
    "        \n",
    "        \n",
    "        # Predict on test.csv file\n",
    "        # Add new columns as needed \n",
    "        if add_countvec:\n",
    "            merged_test['reviewText_2'] = merged_test['reviewText']\n",
    "        if vocab:\n",
    "            merged_test['reviewText_3'] = merged_test['reviewText']\n",
    "        \n",
    "               \n",
    "        X_test = merged_test[features].copy()\n",
    "\n",
    "    \n",
    "        y_pred = pipe.predict(X_test)\n",
    "        \n",
    "        # Insert predictions in 'predictions_df' dataframe\n",
    "        predictions_df.insert(n-1, f\"pred_{n}\", y_pred, allow_duplicates=False)\n",
    "        print(predictions_df.shape)\n",
    "        print(predictions_df.head(10))\n",
    "        \n",
    "    \n",
    "        # Check2\n",
    "        print(f\"\\nCheck #{n}.2 complete.\")\n",
    "    #     cv_results_df = pd.DataFrame(pipe.cv_results_)\n",
    "        print(\"Details of the best model using full pipeline (GridSearchCV) on X_train: \")\n",
    "#         print(f\"Best Estimator: {pipe.best_estimator_}\")\n",
    "        print(f\"Best Params: {pipe.best_params_}\")\n",
    "        print(f\"Best Score: {pipe.best_score_}\")\n",
    "#         print(f\"Best Index: {pipe.best_index_}\")\n",
    "        print(f\"Refit Time: {pipe.refit_time_}\")\n",
    "    #     print(f\"Shape of CV results dataframe: {cv_results_df.shape}\")\n",
    "    \n",
    "    # Voting classifier (custom) with hard voting\n",
    "    # Calculate the MODE for all predictions (Note that the 'predictions_df' generated above should have odd number of columns)\n",
    "    pred_df_final = predictions_df.mode('columns')\n",
    "    pred_df_final.columns = [\"sentiment\"]\n",
    "    pred_df_final.index.name = \"id\"\n",
    "    pred_df_final.to_csv(\"submission.csv\")\n",
    "    \n",
    "    print(\"\\nSuccessfully created the submission file!!!\")\n",
    "    \n",
    "#     return pipe.cv_results_\n",
    "    return pred_df_final, estimators"
   ]
  },
  {
   "cell_type": "markdown",
   "id": "7295d2c2",
   "metadata": {
    "papermill": {
     "duration": 0.10152,
     "end_time": "2023-08-12T20:18:54.924713",
     "exception": false,
     "start_time": "2023-08-12T20:18:54.823193",
     "status": "completed"
    },
    "tags": []
   },
   "source": [
    "## Use 'submit_v5' function  "
   ]
  },
  {
   "cell_type": "code",
   "execution_count": 105,
   "id": "b7d03d43",
   "metadata": {
    "execution": {
     "iopub.execute_input": "2023-08-12T20:18:55.131359Z",
     "iopub.status.busy": "2023-08-12T20:18:55.130986Z",
     "iopub.status.idle": "2023-08-12T20:18:55.135467Z",
     "shell.execute_reply": "2023-08-12T20:18:55.134349Z"
    },
    "papermill": {
     "duration": 0.11088,
     "end_time": "2023-08-12T20:18:55.137990",
     "exception": false,
     "start_time": "2023-08-12T20:18:55.027110",
     "status": "completed"
    },
    "tags": []
   },
   "outputs": [],
   "source": [
    "# Try submit_v5 with default settings\n",
    "# submit_v5()"
   ]
  },
  {
   "cell_type": "code",
   "execution_count": 106,
   "id": "cb7cb1cf",
   "metadata": {
    "execution": {
     "iopub.execute_input": "2023-08-12T20:18:55.353199Z",
     "iopub.status.busy": "2023-08-12T20:18:55.352090Z",
     "iopub.status.idle": "2023-08-12T20:52:04.211500Z",
     "shell.execute_reply": "2023-08-12T20:52:04.209907Z"
    },
    "papermill": {
     "duration": 1988.9658,
     "end_time": "2023-08-12T20:52:04.214260",
     "exception": false,
     "start_time": "2023-08-12T20:18:55.248460",
     "status": "completed"
    },
    "tags": []
   },
   "outputs": [
    {
     "name": "stdout",
     "output_type": "stream",
     "text": [
      "\n",
      "Running the submit_v5 function...\n",
      "\n",
      "Data preprocessor initiated...\n",
      "\n",
      "Imputer for missing numerical values: knn\n",
      "Imputing missing values. (This could take a while if it is KNNImputer)\n",
      "KNNImputer(n_neighbors=3, weights='distance')\n",
      "\n",
      "Check 1 (preprocessor) complete.\n",
      "Shape of X_train: (162758, 30)\n",
      "Features in X_train: Index(['movieid', 'reviewerName', 'isFrequentReviewer', 'reviewText',\n",
      "       'sentiment', 'title', 'audienceScore', 'rating', 'ratingContents',\n",
      "       'releaseDateTheaters', 'releaseDateStreaming', 'runtimeMinutes',\n",
      "       'genre', 'originalLanguage', 'director', 'boxOffice', 'distributor',\n",
      "       'soundType', 'reviewYN', 'reviewWC', 'genreSorted', 'rcSorted',\n",
      "       'releaseDate', 'releaseYear', 'releaseMonth', 'releaseDiff',\n",
      "       'audScoreBins', 'runtimeBins', 'boxOfficeBins', 'releaseDiffBins'],\n",
      "      dtype='object')\n",
      "\n",
      "Check 2 (preprocessor) complete.\n",
      "Shape of X_test: (55315, 29)\n",
      "Features in X_test: Index(['movieid', 'reviewerName', 'isFrequentReviewer', 'reviewText', 'title',\n",
      "       'audienceScore', 'rating', 'ratingContents', 'releaseDateTheaters',\n",
      "       'releaseDateStreaming', 'runtimeMinutes', 'genre', 'originalLanguage',\n",
      "       'director', 'boxOffice', 'distributor', 'soundType', 'reviewYN',\n",
      "       'reviewWC', 'genreSorted', 'rcSorted', 'releaseDate', 'releaseYear',\n",
      "       'releaseMonth', 'releaseDiff', 'audScoreBins', 'runtimeBins',\n",
      "       'boxOfficeBins', 'releaseDiffBins'],\n",
      "      dtype='object')\n",
      "\n",
      "Preprocessing of train and test datasets complete.\n",
      "No vocabulary provided/used for this model.\n",
      "\n",
      "Selected features: {'cat': ['isFrequentReviewer'], 'num': ['audienceScore', 'boxOffice', 'releaseDiff'], 'txt': ['reviewText', 'reviewerName', 'movieid', 'genre', 'director', 'ratingContents', 'distributor']}\n",
      "\n",
      "Pipeline built successfully.\n",
      "\n",
      "Full GridSearchCV pipeline built successfully.\n",
      "GridSearchCV(cv=10,\n",
      "             estimator=Pipeline(steps=[('ct',\n",
      "                                        ColumnTransformer(transformers=[('cat_isFrequentReviewer',\n",
      "                                                                         OneHotEncoder(handle_unknown='ignore',\n",
      "                                                                                       sparse_output=False),\n",
      "                                                                         ['isFrequentReviewer']),\n",
      "                                                                        ('num_audienceScore',\n",
      "                                                                         StandardScaler(),\n",
      "                                                                         ['audienceScore']),\n",
      "                                                                        ('num_boxOffice',\n",
      "                                                                         RobustScaler(),\n",
      "                                                                         ['boxOffice']),\n",
      "                                                                        ('num_boxOffice_ss',\n",
      "                                                                         StandardScaler(),\n",
      "                                                                         ['boxOffice']),\n",
      "                                                                        ('...\n",
      "                                                                         Pipeline(steps=[('cvec',\n",
      "                                                                                          CountVectorizer(ngram_range=(1,\n",
      "                                                                                                                       5)))]),\n",
      "                                                                         'ratingContents'),\n",
      "                                                                        ('txt_distributor',\n",
      "                                                                         Pipeline(steps=[('cvec',\n",
      "                                                                                          CountVectorizer(ngram_range=(1,\n",
      "                                                                                                                       3)))]),\n",
      "                                                                         'distributor')])),\n",
      "                                       ('model',\n",
      "                                        SGDClassifier(loss='modified_huber',\n",
      "                                                      max_iter=1000000,\n",
      "                                                      n_iter_no_change=100,\n",
      "                                                      n_jobs=-1,\n",
      "                                                      tol=0.0001))]),\n",
      "             n_jobs=-1, param_grid={'model__alpha': [0.0001]},\n",
      "             scoring='f1_micro')\n",
      "\n",
      "Training started with full pipeline for classifier #1/1...\n",
      "\n",
      "Check #1.1 complete.\n",
      "Details of the best model using classifier #1 (GridSearchCV) on X_train: \n",
      "Best Params: {'model__alpha': 0.0001}\n",
      "Best Score: 0.8241868411227372\n",
      "Confusion matrix and f1-score for rows which have no reviewText in X_train: \n",
      "[[1466  939]\n",
      " [ 392 3650]]\n",
      "0.7935473863812625\n",
      "classifier_1 successfully added to 'estimators' list\n",
      "Confusion matrix for predictions on training data: \n",
      "[[ 41425  12572]\n",
      " [  5241 103520]]\n",
      "F1-score on training data: 0.8905553029651384\n",
      "(55315, 1)\n",
      "     pred_1\n",
      "0  POSITIVE\n",
      "1  POSITIVE\n",
      "2  POSITIVE\n",
      "3  POSITIVE\n",
      "4  POSITIVE\n",
      "5  POSITIVE\n",
      "6  POSITIVE\n",
      "7  POSITIVE\n",
      "8  POSITIVE\n",
      "9  NEGATIVE\n",
      "\n",
      "Check #1.2 complete.\n",
      "Details of the best model using full pipeline (GridSearchCV) on X_train: \n",
      "Best Params: {'model__alpha': 0.0001}\n",
      "Best Score: 0.8241868411227372\n",
      "Refit Time: 305.980361700058\n",
      "\n",
      "Successfully created the submission file!!!\n"
     ]
    }
   ],
   "source": [
    "# Testing ONE classfier using submit_v5 function  \n",
    "\n",
    "# Feature dictionaries\n",
    "sfs = {'cat': ['isFrequentReviewer', 'rating'],\n",
    "       'num': [\"audienceScore\", \"runtimeMinutes\", \"boxOffice\", 'releaseDiff']}\n",
    "\n",
    "sf_best = {'cat': ['isFrequentReviewer'],\n",
    "            'num': [\"audienceScore\", \"boxOffice\", 'releaseDiff'],\n",
    "            'txt': ['reviewText', 'reviewerName', 'movieid', 'genre', 'director', \n",
    "                         'ratingContents', 'distributor']}\n",
    "\n",
    "alt_text = {'txt': ['reviewerName', 'movieid', 'genre', 'director', \n",
    "                         'ratingContents', 'distributor']}\n",
    "\n",
    "v88_dict = {'cat': ['isFrequentReviewer', 'audScoreBins', 'boxOfficeBins'],\n",
    "            'num': ['releaseDiff'],\n",
    "            'txt': ['reviewText', 'reviewerName', 'movieid', 'genre', 'director', \n",
    "                         'ratingContents', 'distributor']}\n",
    "\n",
    "# SGDClassifier hyperparameters  \n",
    "# \"model__loss\": ['hinge', 'log_loss', 'modified_huber', \n",
    "#                                                   'squared_hinge', 'perceptron', \n",
    "#                                                   'squared_error', 'huber', \n",
    "#                                                   'epsilon_insensitive', 'squared_epsilon_insensitive']\n",
    "\n",
    "# 'param_grid' : {\"model__alpha\": [0.0001], \n",
    "#                   'model__tol': [0.0001],\n",
    "#                   \"model__penalty\": [\"l2\"],\n",
    "#                   \"model__n_iter_no_change\": [100],\n",
    "#                  }\n",
    "\n",
    "# Best models \n",
    "# For sf_best features\n",
    "#                 {'selected_model' : SGDClassifier(loss='hinge', \n",
    "#                                      max_iter=1000000,\n",
    "#                                      alpha = 0.0001,\n",
    "#                                      tol = 0.0001,\n",
    "#                                      penalty = \"l2\",\n",
    "#                                      n_iter_no_change = 100,\n",
    "#                                      n_jobs = -1), \n",
    "#                   'selected_features' : sf_best, \n",
    "#                   'param_grid' : {\"model__alpha\": [ 0.0001]},\n",
    "#                   'vocab' : True,\n",
    "#                   'vocab_usage' : 'tfidf',\n",
    "#                   'strip_accents' : 'unicode', \n",
    "#                   'add_countvec' : True},\n",
    "\n",
    "# For sfs features\n",
    "#                 {'selected_model' : RandomForestClassifier(n_jobs = -1), \n",
    "#                   'selected_features' : sfs, \n",
    "#                   'param_grid': {'model__n_estimators': [100]},\n",
    "#                   'vocab' : None,\n",
    "#                   'vocab_usage' : 'tfidf',\n",
    "#                   'strip_accents' : 'unicode', \n",
    "#                   'add_countvec' : False}\n",
    "\n",
    "# Best SGD classifer (with params)  \n",
    "sgdc = SGDClassifier(loss='modified_huber', \n",
    "                     max_iter=1000000,\n",
    "                     alpha = 0.0001,\n",
    "                     tol = 0.0001,\n",
    "                     penalty = \"l2\",\n",
    "                     n_iter_no_change = 100,\n",
    "                     n_jobs = -1)\n",
    "\n",
    "# Classifiers\n",
    "classifiers= [   \n",
    "                {'selected_model' : sgdc, \n",
    "                  'selected_features' : sf_best, \n",
    "                  'param_grid' : {\"model__alpha\": [0.0001]},\n",
    "                  'vocab' : None,\n",
    "                  'vocab_usage' : 'tfidf',\n",
    "                  'strip_accents' : 'unicode', \n",
    "                  'add_countvec' : False}\n",
    "            ]\n",
    "\n",
    "# classifiers= [\n",
    "#                 {'selected_model' : LogisticRegression(C=1, solver='saga', max_iter=100000), \n",
    "#                   'selected_features' : {'txt': [\"reviewText\"]}, \n",
    "#                   'param_grid' : {\"model__C\": [1], \n",
    "#                                   'model__solver': ['saga']},\n",
    "#                   'vocab' : None,\n",
    "#                   'vocab_usage' : 'tfidf',\n",
    "#                   'strip_accents' : 'unicode', \n",
    "#                   'add_countvec' : False},\n",
    "#             ]\n",
    "\n",
    "pred_df, estimators = submit_v5(classifiers=classifiers, imputer_type='knn')"
   ]
  },
  {
   "cell_type": "code",
   "execution_count": 107,
   "id": "b132840d",
   "metadata": {
    "execution": {
     "iopub.execute_input": "2023-08-12T20:52:04.423805Z",
     "iopub.status.busy": "2023-08-12T20:52:04.422594Z",
     "iopub.status.idle": "2023-08-12T20:52:04.431206Z",
     "shell.execute_reply": "2023-08-12T20:52:04.429751Z"
    },
    "papermill": {
     "duration": 0.115414,
     "end_time": "2023-08-12T20:52:04.433487",
     "exception": false,
     "start_time": "2023-08-12T20:52:04.318073",
     "status": "completed"
    },
    "tags": []
   },
   "outputs": [
    {
     "name": "stdout",
     "output_type": "stream",
     "text": [
      "(55315, 1)\n",
      "   sentiment\n",
      "id          \n",
      "0   POSITIVE\n",
      "1   POSITIVE\n",
      "2   POSITIVE\n",
      "3   POSITIVE\n",
      "4   POSITIVE\n"
     ]
    }
   ],
   "source": [
    "print(pred_df.shape)\n",
    "print(pred_df.head())"
   ]
  },
  {
   "cell_type": "code",
   "execution_count": 108,
   "id": "0406aeb8",
   "metadata": {
    "execution": {
     "iopub.execute_input": "2023-08-12T20:52:04.644918Z",
     "iopub.status.busy": "2023-08-12T20:52:04.644121Z",
     "iopub.status.idle": "2023-08-12T20:52:04.649226Z",
     "shell.execute_reply": "2023-08-12T20:52:04.648214Z"
    },
    "papermill": {
     "duration": 0.111328,
     "end_time": "2023-08-12T20:52:04.651463",
     "exception": false,
     "start_time": "2023-08-12T20:52:04.540135",
     "status": "completed"
    },
    "tags": []
   },
   "outputs": [],
   "source": [
    "# estimators"
   ]
  },
  {
   "cell_type": "code",
   "execution_count": 109,
   "id": "29a20984",
   "metadata": {
    "execution": {
     "iopub.execute_input": "2023-08-12T20:52:04.859562Z",
     "iopub.status.busy": "2023-08-12T20:52:04.858881Z",
     "iopub.status.idle": "2023-08-12T20:52:04.866500Z",
     "shell.execute_reply": "2023-08-12T20:52:04.865103Z"
    },
    "papermill": {
     "duration": 0.114511,
     "end_time": "2023-08-12T20:52:04.868630",
     "exception": false,
     "start_time": "2023-08-12T20:52:04.754119",
     "status": "completed"
    },
    "tags": []
   },
   "outputs": [
    {
     "name": "stdout",
     "output_type": "stream",
     "text": [
      "Number of estimators: 1\n",
      "\n",
      "Estimator: classifier_1\n",
      "{'model__alpha': 0.0001}\n",
      "0.8241868411227372\n",
      "305.980361700058\n",
      "\n"
     ]
    }
   ],
   "source": [
    "print(f\"Number of estimators: {len(estimators)}\\n\")\n",
    "for est in estimators:\n",
    "    print(f\"Estimator: {est[0]}\")\n",
    "#     print(est[1].best_estimator_)\n",
    "    print(est[1].best_params_)\n",
    "    print(est[1].best_score_)\n",
    "    print(est[1].refit_time_)\n",
    "    print()"
   ]
  },
  {
   "cell_type": "code",
   "execution_count": 110,
   "id": "1e45c18e",
   "metadata": {
    "execution": {
     "iopub.execute_input": "2023-08-12T20:52:05.078102Z",
     "iopub.status.busy": "2023-08-12T20:52:05.077653Z",
     "iopub.status.idle": "2023-08-12T20:52:05.084213Z",
     "shell.execute_reply": "2023-08-12T20:52:05.083088Z"
    },
    "papermill": {
     "duration": 0.114426,
     "end_time": "2023-08-12T20:52:05.086586",
     "exception": false,
     "start_time": "2023-08-12T20:52:04.972160",
     "status": "completed"
    },
    "tags": []
   },
   "outputs": [],
   "source": [
    "# Testing full capabilites of submit_v5  \n",
    "\n",
    "# # Feature dictionaries\n",
    "# sf1 = {'cat': ['isFrequentReviewer', 'rating'],\n",
    "#        'num': [\"audienceScore\", \"runtimeMinutes\", \"boxOffice\"]}\n",
    "\n",
    "# sf2 = {'cat': ['isFrequentReviewer', 'rating'],\n",
    "#        'num': [\"audienceScore\", \"runtimeMinutes\", \"boxOffice\"]}\n",
    "\n",
    "# sf3 = {'cat': ['isFrequentReviewer'],\n",
    "#         'num': ['releaseDiff', 'audienceScore', 'boxOffice'],\n",
    "#         'txt': ['reviewText', 'reviewerName', 'movieid', 'genre', 'director', \n",
    "#                          'ratingContents', 'distributor']}\n",
    "\n",
    "# # Individual classifiers\n",
    "# clf1 =  {'selected_model' : AdaBoostClassifier(), \n",
    "#           'selected_features' : sf1, \n",
    "#           'param_grid' : {\"model__n_estimators\": [50]},\n",
    "#           'vocab' : None,\n",
    "#           'vocab_usage' : 'tfidf',\n",
    "#           'strip_accents' : 'unicode', \n",
    "#           'add_countvec' : False}\n",
    "\n",
    "# clf2 =  {'selected_model' : RandomForestClassifier(), \n",
    "#           'selected_features' : sf2,\n",
    "#           'param_grid' : {\"model__n_estimators\": [50], \n",
    "#                           'model__criterion': ['gini']},\n",
    "#           'vocab' : None,\n",
    "#           'vocab_usage' : 'tfidf',\n",
    "#           'strip_accents' : 'unicode', \n",
    "#           'add_countvec' : False}\n",
    "\n",
    "# clf3 =  {'selected_model' : LogisticRegression(C=1, solver='saga', max_iter=100000), \n",
    "#           'selected_features' : sf3, \n",
    "#           'param_grid' : {'model__C' : [1],\n",
    "#                             'model__solver': ['saga'],\n",
    "#                             \"model__fit_intercept\" : [True],\n",
    "#                             \"model__dual\" : [False]},\n",
    "#           'vocab' : None,\n",
    "#           'vocab_usage' : 'tfidf',\n",
    "#           'strip_accents' : 'unicode', \n",
    "#           'add_countvec' : True}\n",
    "\n",
    "\n",
    "# # List of classifiers for voting\n",
    "# classifiers= [clf1, clf2, clf3]\n",
    "\n",
    "# # Final predictions \n",
    "# pred_df = submit_v5(classifiers=classifiers)"
   ]
  },
  {
   "cell_type": "code",
   "execution_count": 111,
   "id": "7e458a30",
   "metadata": {
    "execution": {
     "iopub.execute_input": "2023-08-12T20:52:05.303444Z",
     "iopub.status.busy": "2023-08-12T20:52:05.302619Z",
     "iopub.status.idle": "2023-08-12T20:52:05.315243Z",
     "shell.execute_reply": "2023-08-12T20:52:05.314172Z"
    },
    "papermill": {
     "duration": 0.12633,
     "end_time": "2023-08-12T20:52:05.317556",
     "exception": false,
     "start_time": "2023-08-12T20:52:05.191226",
     "status": "completed"
    },
    "tags": []
   },
   "outputs": [
    {
     "name": "stdout",
     "output_type": "stream",
     "text": [
      "(55315, 1)\n"
     ]
    },
    {
     "data": {
      "text/html": [
       "<div>\n",
       "<style scoped>\n",
       "    .dataframe tbody tr th:only-of-type {\n",
       "        vertical-align: middle;\n",
       "    }\n",
       "\n",
       "    .dataframe tbody tr th {\n",
       "        vertical-align: top;\n",
       "    }\n",
       "\n",
       "    .dataframe thead th {\n",
       "        text-align: right;\n",
       "    }\n",
       "</style>\n",
       "<table border=\"1\" class=\"dataframe\">\n",
       "  <thead>\n",
       "    <tr style=\"text-align: right;\">\n",
       "      <th></th>\n",
       "      <th>sentiment</th>\n",
       "    </tr>\n",
       "    <tr>\n",
       "      <th>id</th>\n",
       "      <th></th>\n",
       "    </tr>\n",
       "  </thead>\n",
       "  <tbody>\n",
       "    <tr>\n",
       "      <th>0</th>\n",
       "      <td>POSITIVE</td>\n",
       "    </tr>\n",
       "    <tr>\n",
       "      <th>1</th>\n",
       "      <td>POSITIVE</td>\n",
       "    </tr>\n",
       "    <tr>\n",
       "      <th>2</th>\n",
       "      <td>POSITIVE</td>\n",
       "    </tr>\n",
       "    <tr>\n",
       "      <th>3</th>\n",
       "      <td>POSITIVE</td>\n",
       "    </tr>\n",
       "    <tr>\n",
       "      <th>4</th>\n",
       "      <td>POSITIVE</td>\n",
       "    </tr>\n",
       "    <tr>\n",
       "      <th>...</th>\n",
       "      <td>...</td>\n",
       "    </tr>\n",
       "    <tr>\n",
       "      <th>55310</th>\n",
       "      <td>POSITIVE</td>\n",
       "    </tr>\n",
       "    <tr>\n",
       "      <th>55311</th>\n",
       "      <td>POSITIVE</td>\n",
       "    </tr>\n",
       "    <tr>\n",
       "      <th>55312</th>\n",
       "      <td>NEGATIVE</td>\n",
       "    </tr>\n",
       "    <tr>\n",
       "      <th>55313</th>\n",
       "      <td>POSITIVE</td>\n",
       "    </tr>\n",
       "    <tr>\n",
       "      <th>55314</th>\n",
       "      <td>NEGATIVE</td>\n",
       "    </tr>\n",
       "  </tbody>\n",
       "</table>\n",
       "<p>55315 rows × 1 columns</p>\n",
       "</div>"
      ],
      "text/plain": [
       "      sentiment\n",
       "id             \n",
       "0      POSITIVE\n",
       "1      POSITIVE\n",
       "2      POSITIVE\n",
       "3      POSITIVE\n",
       "4      POSITIVE\n",
       "...         ...\n",
       "55310  POSITIVE\n",
       "55311  POSITIVE\n",
       "55312  NEGATIVE\n",
       "55313  POSITIVE\n",
       "55314  NEGATIVE\n",
       "\n",
       "[55315 rows x 1 columns]"
      ]
     },
     "execution_count": 111,
     "metadata": {},
     "output_type": "execute_result"
    }
   ],
   "source": [
    "print(pred_df.shape)\n",
    "pred_df"
   ]
  },
  {
   "cell_type": "code",
   "execution_count": 112,
   "id": "05d7bfa8",
   "metadata": {
    "execution": {
     "iopub.execute_input": "2023-08-12T20:52:05.545523Z",
     "iopub.status.busy": "2023-08-12T20:52:05.544355Z",
     "iopub.status.idle": "2023-08-12T20:52:05.548831Z",
     "shell.execute_reply": "2023-08-12T20:52:05.547995Z"
    },
    "papermill": {
     "duration": 0.115451,
     "end_time": "2023-08-12T20:52:05.551046",
     "exception": false,
     "start_time": "2023-08-12T20:52:05.435595",
     "status": "completed"
    },
    "tags": []
   },
   "outputs": [],
   "source": [
    "# pred_df_mode = pred_df.mode(axis='columns')\n",
    "# print(pred_df_mode.shape)\n",
    "# pred_df_mode"
   ]
  },
  {
   "cell_type": "code",
   "execution_count": 113,
   "id": "b3588bad",
   "metadata": {
    "execution": {
     "iopub.execute_input": "2023-08-12T20:52:05.759497Z",
     "iopub.status.busy": "2023-08-12T20:52:05.759065Z",
     "iopub.status.idle": "2023-08-12T20:52:05.776794Z",
     "shell.execute_reply": "2023-08-12T20:52:05.775657Z"
    },
    "papermill": {
     "duration": 0.124358,
     "end_time": "2023-08-12T20:52:05.779462",
     "exception": false,
     "start_time": "2023-08-12T20:52:05.655104",
     "status": "completed"
    },
    "tags": []
   },
   "outputs": [
    {
     "data": {
      "text/plain": [
       "sentiment\n",
       "POSITIVE     40275\n",
       "NEGATIVE     15040\n",
       "dtype: int64"
      ]
     },
     "execution_count": 113,
     "metadata": {},
     "output_type": "execute_result"
    }
   ],
   "source": [
    "pred_df.value_counts()"
   ]
  },
  {
   "cell_type": "markdown",
   "id": "ed7eac9a",
   "metadata": {
    "papermill": {
     "duration": 0.103044,
     "end_time": "2023-08-12T20:52:05.986910",
     "exception": false,
     "start_time": "2023-08-12T20:52:05.883866",
     "status": "completed"
    },
    "tags": []
   },
   "source": [
    "# NOTE: Move submit_v4 submissions below the suubmit_v4 function  "
   ]
  },
  {
   "cell_type": "code",
   "execution_count": 114,
   "id": "e8f97f05",
   "metadata": {
    "execution": {
     "iopub.execute_input": "2023-08-12T20:52:06.195091Z",
     "iopub.status.busy": "2023-08-12T20:52:06.194363Z",
     "iopub.status.idle": "2023-08-12T20:52:06.199454Z",
     "shell.execute_reply": "2023-08-12T20:52:06.198305Z"
    },
    "papermill": {
     "duration": 0.112265,
     "end_time": "2023-08-12T20:52:06.201840",
     "exception": false,
     "start_time": "2023-08-12T20:52:06.089575",
     "status": "completed"
    },
    "tags": []
   },
   "outputs": [],
   "source": [
    "# Try 'submit_v4' function with default params (LogisticRegression model)  \n",
    "\n",
    "# submit_v4()\n",
    "\n",
    "#Default params to this function gave a score of 0.8259 - improvement over previous score of 0.82563!"
   ]
  },
  {
   "cell_type": "code",
   "execution_count": 115,
   "id": "7b2c0581",
   "metadata": {
    "execution": {
     "iopub.execute_input": "2023-08-12T20:52:06.412291Z",
     "iopub.status.busy": "2023-08-12T20:52:06.411868Z",
     "iopub.status.idle": "2023-08-12T20:52:06.417017Z",
     "shell.execute_reply": "2023-08-12T20:52:06.415736Z"
    },
    "papermill": {
     "duration": 0.113412,
     "end_time": "2023-08-12T20:52:06.419514",
     "exception": false,
     "start_time": "2023-08-12T20:52:06.306102",
     "status": "completed"
    },
    "tags": []
   },
   "outputs": [],
   "source": [
    "# Try out GridSearchCV on \"submit_v4\" function with param_grid  \n",
    "# param_grid = {\n",
    "#     \"model__C\": [0.1, 1, 5, 10]\n",
    "# }\n",
    "\n",
    "# submit_v4(selected_features={'txt': ['genre']}, param_grid=param_grid)"
   ]
  },
  {
   "cell_type": "markdown",
   "id": "db683831",
   "metadata": {
    "papermill": {
     "duration": 0.103571,
     "end_time": "2023-08-12T20:52:06.629835",
     "exception": false,
     "start_time": "2023-08-12T20:52:06.526264",
     "status": "completed"
    },
    "tags": []
   },
   "source": [
    "### Try LinearSVC with GridSearchCV  "
   ]
  },
  {
   "cell_type": "code",
   "execution_count": 116,
   "id": "1dbdf81d",
   "metadata": {
    "execution": {
     "iopub.execute_input": "2023-08-12T20:52:06.839984Z",
     "iopub.status.busy": "2023-08-12T20:52:06.839576Z",
     "iopub.status.idle": "2023-08-12T20:52:06.844862Z",
     "shell.execute_reply": "2023-08-12T20:52:06.843626Z"
    },
    "papermill": {
     "duration": 0.112337,
     "end_time": "2023-08-12T20:52:06.847191",
     "exception": false,
     "start_time": "2023-08-12T20:52:06.734854",
     "status": "completed"
    },
    "tags": []
   },
   "outputs": [],
   "source": [
    "# all_dict = {'cat': [\"isFrequentReviewer\", \"rating\", \"originalLanguage\"],\n",
    "#              'num': [\"audienceScore\", \"runtimeMinutes\", \"boxOffice\"],\n",
    "#              'txt': ['reviewText', 'reviewerName', 'movieid', 'genre', 'director']}\n",
    "\n",
    "# param_grid_svc = {\n",
    "#     \"model__C\": [0.1, 1, 10, 100]\n",
    "# }\n",
    "# param_grid_svc"
   ]
  },
  {
   "cell_type": "code",
   "execution_count": 117,
   "id": "f4063649",
   "metadata": {
    "execution": {
     "iopub.execute_input": "2023-08-12T20:52:07.059286Z",
     "iopub.status.busy": "2023-08-12T20:52:07.058859Z",
     "iopub.status.idle": "2023-08-12T20:52:07.063715Z",
     "shell.execute_reply": "2023-08-12T20:52:07.062610Z"
    },
    "papermill": {
     "duration": 0.115341,
     "end_time": "2023-08-12T20:52:07.066141",
     "exception": false,
     "start_time": "2023-08-12T20:52:06.950800",
     "status": "completed"
    },
    "tags": []
   },
   "outputs": [],
   "source": [
    "# LinearSCV on single feature  \n",
    "\n",
    "# submit_v4(selected_model=LinearSVC(max_iter=100000, random_state=42), selected_features={'num': [\"audienceScore\"]}, param_grid=param_grid_svc)\n",
    "\n",
    "# Comment: LinearSVC even on single column feature set takes too long to converge."
   ]
  },
  {
   "cell_type": "code",
   "execution_count": 118,
   "id": "e7c2ebef",
   "metadata": {
    "execution": {
     "iopub.execute_input": "2023-08-12T20:52:07.278314Z",
     "iopub.status.busy": "2023-08-12T20:52:07.277540Z",
     "iopub.status.idle": "2023-08-12T20:52:07.282148Z",
     "shell.execute_reply": "2023-08-12T20:52:07.281108Z"
    },
    "papermill": {
     "duration": 0.113945,
     "end_time": "2023-08-12T20:52:07.284716",
     "exception": false,
     "start_time": "2023-08-12T20:52:07.170771",
     "status": "completed"
    },
    "tags": []
   },
   "outputs": [],
   "source": [
    "# LinearSCV on all available features\n",
    "\n",
    "# submit_v4(selected_model=LinearSVC(max_iter=100000, random_state=42), selected_features=all_dict, param_grid=param_grid_svc)\n",
    "\n",
    "# (Update): This took 66 mins to run and gave a public score of 0.84295 (lesser than logreg gridsearchcv wwhich gave 0.84441). Best C was 1.0.\n"
   ]
  },
  {
   "cell_type": "markdown",
   "id": "600fee68",
   "metadata": {
    "papermill": {
     "duration": 0.105828,
     "end_time": "2023-08-12T20:52:07.494562",
     "exception": false,
     "start_time": "2023-08-12T20:52:07.388734",
     "status": "completed"
    },
    "tags": []
   },
   "source": [
    "### Boosting techniques  "
   ]
  },
  {
   "cell_type": "code",
   "execution_count": 119,
   "id": "e2c4e6da",
   "metadata": {
    "execution": {
     "iopub.execute_input": "2023-08-12T20:52:07.705211Z",
     "iopub.status.busy": "2023-08-12T20:52:07.704803Z",
     "iopub.status.idle": "2023-08-12T20:52:07.709276Z",
     "shell.execute_reply": "2023-08-12T20:52:07.708213Z"
    },
    "papermill": {
     "duration": 0.112996,
     "end_time": "2023-08-12T20:52:07.711655",
     "exception": false,
     "start_time": "2023-08-12T20:52:07.598659",
     "status": "completed"
    },
    "tags": []
   },
   "outputs": [],
   "source": [
    "# adc = AdaBoostClassifier(estimator=LogisticRegression(C=5, solver=\"saga\", max_iter=100000), n_estimators=50)\n",
    "# adc"
   ]
  },
  {
   "cell_type": "code",
   "execution_count": 120,
   "id": "34a1d6ca",
   "metadata": {
    "execution": {
     "iopub.execute_input": "2023-08-12T20:52:07.922221Z",
     "iopub.status.busy": "2023-08-12T20:52:07.921815Z",
     "iopub.status.idle": "2023-08-12T20:52:07.926265Z",
     "shell.execute_reply": "2023-08-12T20:52:07.925110Z"
    },
    "papermill": {
     "duration": 0.112604,
     "end_time": "2023-08-12T20:52:07.928442",
     "exception": false,
     "start_time": "2023-08-12T20:52:07.815838",
     "status": "completed"
    },
    "tags": []
   },
   "outputs": [],
   "source": [
    "# submit_v4(selected_model=adc, selected_features={'num': [\"audienceScore\"]}, param_grid=None)"
   ]
  },
  {
   "cell_type": "code",
   "execution_count": 121,
   "id": "5a8e8e1f",
   "metadata": {
    "execution": {
     "iopub.execute_input": "2023-08-12T20:52:08.211061Z",
     "iopub.status.busy": "2023-08-12T20:52:08.210610Z",
     "iopub.status.idle": "2023-08-12T20:52:08.215144Z",
     "shell.execute_reply": "2023-08-12T20:52:08.213934Z"
    },
    "papermill": {
     "duration": 0.183931,
     "end_time": "2023-08-12T20:52:08.217466",
     "exception": false,
     "start_time": "2023-08-12T20:52:08.033535",
     "status": "completed"
    },
    "tags": []
   },
   "outputs": [],
   "source": [
    "# submit_v4(selected_model=adc, selected_features=all_dict, param_grid=None)\n",
    "\n",
    "# Took 1 hour 15 mins to run and gave a public score of only 0.71089. Discarded."
   ]
  },
  {
   "cell_type": "markdown",
   "id": "7f357668",
   "metadata": {
    "papermill": {
     "duration": 0.102711,
     "end_time": "2023-08-12T20:52:08.424000",
     "exception": false,
     "start_time": "2023-08-12T20:52:08.321289",
     "status": "completed"
    },
    "tags": []
   },
   "source": [
    "### LightGBM  "
   ]
  },
  {
   "cell_type": "code",
   "execution_count": 122,
   "id": "2204e9cd",
   "metadata": {
    "execution": {
     "iopub.execute_input": "2023-08-12T20:52:08.635045Z",
     "iopub.status.busy": "2023-08-12T20:52:08.634305Z",
     "iopub.status.idle": "2023-08-12T20:52:08.638287Z",
     "shell.execute_reply": "2023-08-12T20:52:08.637460Z"
    },
    "papermill": {
     "duration": 0.111318,
     "end_time": "2023-08-12T20:52:08.640359",
     "exception": false,
     "start_time": "2023-08-12T20:52:08.529041",
     "status": "completed"
    },
    "tags": []
   },
   "outputs": [],
   "source": [
    "# lgb = ltb.LGBMClassifier()\n",
    "# lgb"
   ]
  },
  {
   "cell_type": "code",
   "execution_count": 123,
   "id": "979c2ad9",
   "metadata": {
    "execution": {
     "iopub.execute_input": "2023-08-12T20:52:08.849640Z",
     "iopub.status.busy": "2023-08-12T20:52:08.848829Z",
     "iopub.status.idle": "2023-08-12T20:52:08.852927Z",
     "shell.execute_reply": "2023-08-12T20:52:08.852156Z"
    },
    "papermill": {
     "duration": 0.111031,
     "end_time": "2023-08-12T20:52:08.855456",
     "exception": false,
     "start_time": "2023-08-12T20:52:08.744425",
     "status": "completed"
    },
    "tags": []
   },
   "outputs": [],
   "source": [
    "# Try LightGBM with default settings\n",
    "# (Update): Public score only 0.77713. It was fast, took less than 5 mins (without GridSearchCV)\n",
    "\n",
    "# submit_v4(selected_model=ltb.LGBMClassifier(), selected_features=all_dict, param_grid=None)"
   ]
  },
  {
   "cell_type": "markdown",
   "id": "9d8b7c4e",
   "metadata": {
    "papermill": {
     "duration": 0.105309,
     "end_time": "2023-08-12T20:52:09.066003",
     "exception": false,
     "start_time": "2023-08-12T20:52:08.960694",
     "status": "completed"
    },
    "tags": []
   },
   "source": [
    "## Feature Engineering"
   ]
  },
  {
   "cell_type": "markdown",
   "id": "cb2bc0fe",
   "metadata": {
    "papermill": {
     "duration": 0.10319,
     "end_time": "2023-08-12T20:52:09.272756",
     "exception": false,
     "start_time": "2023-08-12T20:52:09.169566",
     "status": "completed"
    },
    "tags": []
   },
   "source": [
    "### Plan  \n",
    "* Add a new column 'reviewWC' which has word count of 'reviewText'  \n",
    "    * Check if there is any relationship between 'reviewWC' and 'sentiment'\n",
    "* Work on vocabulary\n",
    "     * Use TfidfVectorizer and find out the vocabulary of 'reviewText' column for various ngrams\n",
    "     * Use RecursiveFeatureElimination (RFE) or RFECV to select 1000 top words/vocab for each ngram\n",
    "     * Use the final vocab (1000-3000 words) in the model and see how it performs compared to whole vocab\n",
    "\n",
    "`(Update): Code incorporated into the \"select_features\" function  `  \n",
    "`(Update): Many other new features incorporated into the \"select_features\" function too  `  \n",
    "\n"
   ]
  },
  {
   "cell_type": "markdown",
   "id": "8d8a3b29",
   "metadata": {
    "papermill": {
     "duration": 0.102689,
     "end_time": "2023-08-12T20:52:09.478602",
     "exception": false,
     "start_time": "2023-08-12T20:52:09.375913",
     "status": "completed"
    },
    "tags": []
   },
   "source": [
    "# Back to vocab after success of version 63  "
   ]
  },
  {
   "cell_type": "code",
   "execution_count": 124,
   "id": "72e4a450",
   "metadata": {
    "execution": {
     "iopub.execute_input": "2023-08-12T20:52:09.689131Z",
     "iopub.status.busy": "2023-08-12T20:52:09.688403Z",
     "iopub.status.idle": "2023-08-12T20:52:09.710581Z",
     "shell.execute_reply": "2023-08-12T20:52:09.709689Z"
    },
    "papermill": {
     "duration": 0.130121,
     "end_time": "2023-08-12T20:52:09.713117",
     "exception": false,
     "start_time": "2023-08-12T20:52:09.582996",
     "status": "completed"
    },
    "tags": []
   },
   "outputs": [],
   "source": [
    "def submit_v4(selected_model=LogisticRegression(C=1, solver='liblinear', max_iter=100000), \n",
    "              selected_features={'txt': ['reviewText']}, \n",
    "              param_grid=None,\n",
    "              vocab=None,\n",
    "              vocab_usage='tfidf',\n",
    "              strip_accents='unicode', \n",
    "              add_countvec=False):\n",
    "    \n",
    "    print(\"\\nRunning the submit_v4 function...\")\n",
    "    \n",
    "    # Fine tune selected_features\n",
    "    if add_countvec:\n",
    "        if 'txt' in selected_features.keys():\n",
    "            if \"reviewText_2\" not in selected_features['txt']:\n",
    "                selected_features['txt'].append('reviewText_2')\n",
    "    if vocab:\n",
    "        if 'txt' in selected_features.keys():\n",
    "            if \"reviewText_3\" not in selected_features['txt']:\n",
    "                selected_features['txt'].append('reviewText_3')\n",
    "    print(f\"\\nSelected features: {selected_features}\")\n",
    "\n",
    "    \n",
    "    \n",
    "    # Build Pipeline\n",
    "    pipe = build_pipeline(selected_model, selected_features, param_grid=param_grid, \n",
    "                          vocab=vocab, vocab_usage='tfidf', \n",
    "                          strip_accents=strip_accents, add_countvec=add_countvec)\n",
    "    print(pipe)\n",
    "\n",
    "    \n",
    "    \n",
    "    # Features list\n",
    "    features = []\n",
    "    for item in selected_features.values():\n",
    "        features.extend(item)\n",
    " \n",
    "\n",
    "    # Merge and preprocess train and movies data  \n",
    "    merged = select_features(load_csv(\"train\"), load_csv(\"movies\"), row_thresh_null=None)    # Decide if you want to drop any rows containing lot of nulls\n",
    "    # Impute missing numerical values  \n",
    "    # Simple Imputer for ['audienceScore', 'runtimeMinutes', 'boxOffice'] and 'releaseDate' columns\n",
    "    si = SimpleImputer(strategy='median')\n",
    "    merged[['audienceScore', 'runtimeMinutes', 'boxOffice']] = si.fit_transform(merged[['audienceScore', 'runtimeMinutes', 'boxOffice']])\n",
    "    merged['releaseDate'] = merged[\"releaseDate\"].fillna(merged[\"releaseDate\"].median())    \n",
    "    # Add new columns as needed  \n",
    "    if add_countvec:\n",
    "        merged['reviewText_2'] = merged['reviewText']\n",
    "    if vocab:\n",
    "        merged['reviewText_3'] = merged['reviewText']\n",
    "        \n",
    "    X_train = merged.drop(labels=\"sentiment\", axis=1)\n",
    "    y_train = merged[\"sentiment\"]\n",
    "\n",
    "    X_train = X_train[features]\n",
    "    \n",
    "    \n",
    "    # Check1\n",
    "    print(\"\\nCheck 1 complete.\")\n",
    "    print(f\"Shape of X_train: {X_train.shape}\")\n",
    "    print(f\"Features in X_train: {X_train.columns}\")\n",
    "#     print(X_train.head())\n",
    "    \n",
    "    \n",
    "    # Fit \n",
    "    print(\"\\nTraining started with full pipeline...\")\n",
    "    pipe.fit(X_train, y_train)\n",
    "    \n",
    "    # Check2\n",
    "    print(\"\\nCheck 2 complete.\")\n",
    "    print(\"Details of the best model using full pipeline (GridSearchCV) on X_train: \")\n",
    "    print(f\"Best Params: {pipe.best_params_}\")\n",
    "    print(f\"Best Score: {pipe.best_score_}\")\n",
    "    \n",
    "    print(predict_on_missing_review_data(pipe, features, merged))    # Function defined above\n",
    "    \n",
    "        \n",
    "    # Predict on test.csv file\n",
    "    \n",
    "    # Merge and preprocess test and movies data  \n",
    "    merged_test = select_features(load_csv(\"test\"), load_csv(\"movies\"))\n",
    "    # Transform ['audienceScore', 'runtimeMinutes', 'boxOffice'] columns in merged_test using 'si' fitted on 'merged' df  \n",
    "    merged_test[['audienceScore', 'runtimeMinutes', 'boxOffice']] = si.transform(merged_test[['audienceScore', 'runtimeMinutes', 'boxOffice']])\n",
    "    # Fill 'releaseDate' column in 'merged_test' df with median from the train (merged) df  \n",
    "    merged_test['releaseDate'] = merged_test[\"releaseDate\"].fillna(merged[\"releaseDate\"].median())\n",
    "    # Add new columns as needed \n",
    "    if add_countvec:\n",
    "        merged_test['reviewText_2'] = merged_test['reviewText']\n",
    "    if vocab:\n",
    "        merged_test['reviewText_3'] = merged_test['reviewText']\n",
    "        \n",
    "    X_test = merged_test.copy()\n",
    "\n",
    "    X_test = X_test[features]\n",
    "    \n",
    "    \n",
    "    # Check3\n",
    "    print(\"\\nCheck 3 complete.\")\n",
    "    print(f\"Shape of X_test: {X_test.shape}\")\n",
    "    print(f\"Features in X_test: {X_test.columns}\")\n",
    "#     print(X_test.head())\n",
    "    \n",
    "    y_pred = pipe.predict(X_test)\n",
    "    \n",
    "    # Check4\n",
    "    print(\"\\nCheck 4 complete.\")\n",
    "#     cv_results_df = pd.DataFrame(pipe.cv_results_)\n",
    "    print(\"Details of the best model using full pipeline (GridSearchCV) on X_train: \")\n",
    "    print(f\"Best Estimator: {pipe.best_estimator_}\")\n",
    "    print(f\"Best Params: {pipe.best_params_}\")\n",
    "    print(f\"Best Score: {pipe.best_score_}\")\n",
    "    print(f\"Best Index: {pipe.best_index_}\")\n",
    "    print(f\"Refit Time: {pipe.refit_time_}\")\n",
    "#     print(f\"Shape of CV results dataframe: {cv_results_df.shape}\")\n",
    "    \n",
    "    pred_df = pd.DataFrame(y_pred)\n",
    "    pred_df.columns = [\"sentiment\"]\n",
    "    pred_df.index.name = \"id\"\n",
    "    pred_df.to_csv(\"submission.csv\")\n",
    "    \n",
    "    print(\"\\nSuccessfully created the submission file!!!\")\n",
    "    \n",
    "    return pipe.cv_results_"
   ]
  },
  {
   "cell_type": "code",
   "execution_count": 125,
   "id": "c1e23298",
   "metadata": {
    "execution": {
     "iopub.execute_input": "2023-08-12T20:52:09.922170Z",
     "iopub.status.busy": "2023-08-12T20:52:09.921688Z",
     "iopub.status.idle": "2023-08-12T20:52:09.929136Z",
     "shell.execute_reply": "2023-08-12T20:52:09.928241Z"
    },
    "papermill": {
     "duration": 0.114706,
     "end_time": "2023-08-12T20:52:09.931236",
     "exception": false,
     "start_time": "2023-08-12T20:52:09.816530",
     "status": "completed"
    },
    "tags": []
   },
   "outputs": [
    {
     "data": {
      "text/plain": [
       "Index(['movieid', 'reviewerName', 'isFrequentReviewer', 'reviewText',\n",
       "       'sentiment', 'title', 'audienceScore', 'rating', 'ratingContents',\n",
       "       'releaseDateTheaters', 'releaseDateStreaming', 'runtimeMinutes',\n",
       "       'genre', 'originalLanguage', 'director', 'boxOffice', 'distributor',\n",
       "       'soundType', 'reviewYN', 'reviewWC', 'genreSorted', 'rcSorted',\n",
       "       'releaseDate', 'releaseYear', 'releaseMonth', 'releaseDiff'],\n",
       "      dtype='object')"
      ]
     },
     "execution_count": 125,
     "metadata": {},
     "output_type": "execute_result"
    }
   ],
   "source": [
    "merged.columns"
   ]
  },
  {
   "cell_type": "code",
   "execution_count": 126,
   "id": "fc295845",
   "metadata": {
    "execution": {
     "iopub.execute_input": "2023-08-12T20:52:10.140796Z",
     "iopub.status.busy": "2023-08-12T20:52:10.140111Z",
     "iopub.status.idle": "2023-08-12T20:52:10.150651Z",
     "shell.execute_reply": "2023-08-12T20:52:10.149594Z"
    },
    "papermill": {
     "duration": 0.117896,
     "end_time": "2023-08-12T20:52:10.153251",
     "exception": false,
     "start_time": "2023-08-12T20:52:10.035355",
     "status": "completed"
    },
    "tags": []
   },
   "outputs": [],
   "source": [
    "# Best #2\n",
    "v80_dict = {'cat': ['isFrequentReviewer', 'audScoreBins', 'boxOfficeBins'], \n",
    "                  'txt': ['reviewText', 'reviewerName', 'movieid', 'genre', 'director', \n",
    "                          'ratingContents', 'distributor']}\n",
    "# Best #1\n",
    "v88_dict = {'cat': ['isFrequentReviewer', 'audScoreBins', 'boxOfficeBins'],\n",
    "            'num': ['releaseDiff'],\n",
    "            'txt': ['reviewText', 'reviewerName', 'movieid', 'genre', 'director', \n",
    "                         'ratingContents', 'distributor']}\n",
    "\n",
    "v92_dict = {'cat': ['isFrequentReviewer', 'audScoreBins', 'boxOfficeBins', 'releaseDiffBins'],\n",
    "            'txt': ['reviewText', 'reviewerName', 'title', 'genre', 'director', \n",
    "                         'ratingContents', 'distributor']}\n",
    "\n",
    "# Best univariable datapoints dict\n",
    "best_uni_dict = {'cat': [\"isFrequentReviewer\", \"audScoreBins\"],\n",
    "                 'txt': ['reviewText','movieid', 'director', \"ratingContents\"]}\n",
    "\n",
    "# param_grids for LogisticRegression  \n",
    "\n",
    "# Best #1  \n",
    "# param_grid = {\n",
    "#     'model__C' : [1],\n",
    "#     'model__solver': ['saga'],\n",
    "#     \"model__fit_intercept\" : [True],\n",
    "#     \"model__dual\" : [False]\n",
    "#     }\n",
    "\n",
    "# working\n",
    "param_grid = {\n",
    "    'model__C' : [1],\n",
    "    'model__solver': ['saga'],\n",
    "    \"model__fit_intercept\" : [True],\n",
    "    \"model__dual\" : [False],\n",
    "#     \"model__class_weight\": ['balanced', None]\n",
    "}\n",
    "\n",
    "\n",
    "# param_grids for LinearSVC  \n",
    "\n",
    "# param_grid = {\n",
    "#     'model__C' : [1, 10, 20],\n",
    "#     'model__loss': ['hinge', 'squared_hinge'],\n",
    "#     \"model__fit_intercept\" : [True, False],\n",
    "# #     \"model__dual\" : [True, False] \n",
    "# }\n",
    "\n",
    "svm = LinearSVC(max_iter=10000, random_state=42)    # LinearSVC\n",
    "\n",
    "\n",
    "# Local testing\n",
    "# selected_mov = {'num': ['audienceScore', 'boxOffice', 'releaseDiff'], \n",
    "#                 'txt': ['movieid', 'genre', 'director', \n",
    "#                          'ratingContents', 'distributor']}\n",
    "# results = submit_v4(\n",
    "#             selected_features={'num': ['boxOffice']},\n",
    "#             add_countvec=False,\n",
    "#             vocab=None,\n",
    "#             vocab_usage='tfidf',\n",
    "#             param_grid=param_grid\n",
    "#          )\n",
    "\n",
    "# results = submit_v4(selected_model = DummyClassifier(strategy='constant', constant='NEGATIVE'),\n",
    "#             selected_features={'num': ['boxOffice']},\n",
    "#             add_countvec=False,\n",
    "#             vocab=None,\n",
    "#             vocab_usage='tfidf',\n",
    "#             param_grid={'model__strategy' : ['constant']}\n",
    "#          )\n",
    "\n",
    "# Main submission\n",
    "\n",
    "# results = submit_v4(\n",
    "#     selected_features=v88_dict,\n",
    "#     add_countvec=False,\n",
    "#     vocab=common_1_2_3_grams,\n",
    "#     vocab_usage='tfidf',\n",
    "#     param_grid=param_grid\n",
    "#     )\n",
    "\n",
    "# results"
   ]
  },
  {
   "cell_type": "markdown",
   "id": "2598e552",
   "metadata": {
    "papermill": {
     "duration": 0.103427,
     "end_time": "2023-08-12T20:52:10.360368",
     "exception": false,
     "start_time": "2023-08-12T20:52:10.256941",
     "status": "completed"
    },
    "tags": []
   },
   "source": [
    "### ratingContents analysis  "
   ]
  },
  {
   "cell_type": "code",
   "execution_count": 127,
   "id": "682fbe0d",
   "metadata": {
    "execution": {
     "iopub.execute_input": "2023-08-12T20:52:10.570643Z",
     "iopub.status.busy": "2023-08-12T20:52:10.569391Z",
     "iopub.status.idle": "2023-08-12T20:52:10.574517Z",
     "shell.execute_reply": "2023-08-12T20:52:10.573720Z"
    },
    "papermill": {
     "duration": 0.113426,
     "end_time": "2023-08-12T20:52:10.577037",
     "exception": false,
     "start_time": "2023-08-12T20:52:10.463611",
     "status": "completed"
    },
    "tags": []
   },
   "outputs": [],
   "source": [
    "# Try string split  \n",
    "# s = \"comedy, animation, adventure, fantasy\"\n",
    "# (\",\").join(sorted(s.split(\", \")))"
   ]
  },
  {
   "cell_type": "code",
   "execution_count": 128,
   "id": "8aa70725",
   "metadata": {
    "execution": {
     "iopub.execute_input": "2023-08-12T20:52:10.787469Z",
     "iopub.status.busy": "2023-08-12T20:52:10.786736Z",
     "iopub.status.idle": "2023-08-12T20:52:10.791630Z",
     "shell.execute_reply": "2023-08-12T20:52:10.790862Z"
    },
    "papermill": {
     "duration": 0.112616,
     "end_time": "2023-08-12T20:52:10.793896",
     "exception": false,
     "start_time": "2023-08-12T20:52:10.681280",
     "status": "completed"
    },
    "tags": []
   },
   "outputs": [],
   "source": [
    "# ratingContents_analysis = merged[[\"ratingContents\", \"sentiment\"]].copy()\n",
    "# print(ratingContents_analysis.head())\n",
    "# ratingContents_analysis[\"rcSorted\"] = ratingContents_analysis[\"ratingContents\"].apply(lambda x: (\",\").join(sorted(x.strip(\"][\").split(\", \"))))\n",
    "# ratingContents_analysis[\"rcSorted\"] = ratingContents_analysis[\"rcSorted\"].apply(lambda x: re.sub(r\"'\", \"\", x))\n",
    "# ratingContents_analysis[\"rcSorted\"] = ratingContents_analysis[\"rcSorted\"].apply(lambda x: re.sub(r\"[/\\s]\", \"_\", x))\n",
    "# ratingContents_analysis.head(10)"
   ]
  },
  {
   "cell_type": "code",
   "execution_count": 129,
   "id": "baccc7d6",
   "metadata": {
    "execution": {
     "iopub.execute_input": "2023-08-12T20:52:11.002899Z",
     "iopub.status.busy": "2023-08-12T20:52:11.002087Z",
     "iopub.status.idle": "2023-08-12T20:52:11.007124Z",
     "shell.execute_reply": "2023-08-12T20:52:11.006256Z"
    },
    "papermill": {
     "duration": 0.11228,
     "end_time": "2023-08-12T20:52:11.009442",
     "exception": false,
     "start_time": "2023-08-12T20:52:10.897162",
     "status": "completed"
    },
    "tags": []
   },
   "outputs": [],
   "source": [
    "# cvec_rc = CountVectorizer(ngram_range=(1,1))\n",
    "# cvec_rc.fit(ratingContents_analysis['rcSorted'])\n",
    "# # len(cvec_rc.vocabulary_), cvec_rc.vocabulary_"
   ]
  },
  {
   "cell_type": "code",
   "execution_count": 130,
   "id": "e75a6a6a",
   "metadata": {
    "execution": {
     "iopub.execute_input": "2023-08-12T20:52:11.221903Z",
     "iopub.status.busy": "2023-08-12T20:52:11.220584Z",
     "iopub.status.idle": "2023-08-12T20:52:11.225851Z",
     "shell.execute_reply": "2023-08-12T20:52:11.224763Z"
    },
    "papermill": {
     "duration": 0.113463,
     "end_time": "2023-08-12T20:52:11.227951",
     "exception": false,
     "start_time": "2023-08-12T20:52:11.114488",
     "status": "completed"
    },
    "tags": []
   },
   "outputs": [],
   "source": [
    "# genre_testing = cvec_g.transform(merged[\"genre\"])\n",
    "# print(genre_testing)"
   ]
  },
  {
   "cell_type": "markdown",
   "id": "085454ff",
   "metadata": {
    "papermill": {
     "duration": 0.103907,
     "end_time": "2023-08-12T20:52:11.436564",
     "exception": false,
     "start_time": "2023-08-12T20:52:11.332657",
     "status": "completed"
    },
    "tags": []
   },
   "source": [
    "## Statistical tests  "
   ]
  },
  {
   "cell_type": "markdown",
   "id": "21c67976",
   "metadata": {
    "papermill": {
     "duration": 0.102787,
     "end_time": "2023-08-12T20:52:11.645094",
     "exception": false,
     "start_time": "2023-08-12T20:52:11.542307",
     "status": "completed"
    },
    "tags": []
   },
   "source": [
    "[Go to genre](#genre_analysis)"
   ]
  },
  {
   "cell_type": "code",
   "execution_count": 131,
   "id": "2bbc9fc9",
   "metadata": {
    "execution": {
     "iopub.execute_input": "2023-08-12T20:52:11.854129Z",
     "iopub.status.busy": "2023-08-12T20:52:11.853406Z",
     "iopub.status.idle": "2023-08-12T20:52:11.857743Z",
     "shell.execute_reply": "2023-08-12T20:52:11.856689Z"
    },
    "papermill": {
     "duration": 0.111408,
     "end_time": "2023-08-12T20:52:11.860054",
     "exception": false,
     "start_time": "2023-08-12T20:52:11.748646",
     "status": "completed"
    },
    "tags": []
   },
   "outputs": [],
   "source": [
    "# print(merged['boxOffice'].head())\n",
    "# merged[\"boxOffice\"].describe()"
   ]
  },
  {
   "cell_type": "code",
   "execution_count": 132,
   "id": "1f7d83df",
   "metadata": {
    "execution": {
     "iopub.execute_input": "2023-08-12T20:52:12.067993Z",
     "iopub.status.busy": "2023-08-12T20:52:12.067525Z",
     "iopub.status.idle": "2023-08-12T20:52:12.072193Z",
     "shell.execute_reply": "2023-08-12T20:52:12.071304Z"
    },
    "papermill": {
     "duration": 0.11101,
     "end_time": "2023-08-12T20:52:12.074323",
     "exception": false,
     "start_time": "2023-08-12T20:52:11.963313",
     "status": "completed"
    },
    "tags": []
   },
   "outputs": [],
   "source": [
    "# Function for independent samples t-test on numerical columns  \n",
    "# def ttest_ind(feature):\n",
    "#     pos_grp = merged[feature].loc[merged['sentiment'] == \"POSITIVE\"]\n",
    "#     neg_grp = merged[feature].loc[merged['sentiment'] == \"NEGATIVE\"]\n",
    "\n",
    "#     print(pos_grp.shape, neg_grp.shape)\n",
    "#     print(pos_grp.describe(), neg_grp.describe())\n",
    "\n",
    "#     return stats.ttest_ind(pos_grp, neg_grp)"
   ]
  },
  {
   "cell_type": "code",
   "execution_count": 133,
   "id": "2e020137",
   "metadata": {
    "execution": {
     "iopub.execute_input": "2023-08-12T20:52:12.284085Z",
     "iopub.status.busy": "2023-08-12T20:52:12.283638Z",
     "iopub.status.idle": "2023-08-12T20:52:12.288174Z",
     "shell.execute_reply": "2023-08-12T20:52:12.287132Z"
    },
    "papermill": {
     "duration": 0.111956,
     "end_time": "2023-08-12T20:52:12.290393",
     "exception": false,
     "start_time": "2023-08-12T20:52:12.178437",
     "status": "completed"
    },
    "tags": []
   },
   "outputs": [],
   "source": [
    "# ttest_ind('boxOffice')"
   ]
  },
  {
   "cell_type": "code",
   "execution_count": 134,
   "id": "0b7cd5f4",
   "metadata": {
    "execution": {
     "iopub.execute_input": "2023-08-12T20:52:12.500022Z",
     "iopub.status.busy": "2023-08-12T20:52:12.499571Z",
     "iopub.status.idle": "2023-08-12T20:52:12.504144Z",
     "shell.execute_reply": "2023-08-12T20:52:12.503049Z"
    },
    "papermill": {
     "duration": 0.113038,
     "end_time": "2023-08-12T20:52:12.506445",
     "exception": false,
     "start_time": "2023-08-12T20:52:12.393407",
     "status": "completed"
    },
    "tags": []
   },
   "outputs": [],
   "source": [
    "# ttest_ind('runtimeMinutes')"
   ]
  },
  {
   "cell_type": "code",
   "execution_count": 135,
   "id": "372c8eb6",
   "metadata": {
    "execution": {
     "iopub.execute_input": "2023-08-12T20:52:12.714541Z",
     "iopub.status.busy": "2023-08-12T20:52:12.714124Z",
     "iopub.status.idle": "2023-08-12T20:52:12.718746Z",
     "shell.execute_reply": "2023-08-12T20:52:12.717723Z"
    },
    "papermill": {
     "duration": 0.111348,
     "end_time": "2023-08-12T20:52:12.720908",
     "exception": false,
     "start_time": "2023-08-12T20:52:12.609560",
     "status": "completed"
    },
    "tags": []
   },
   "outputs": [],
   "source": [
    "# ttest_ind('audienceScore')"
   ]
  },
  {
   "cell_type": "code",
   "execution_count": 136,
   "id": "caa24dc9",
   "metadata": {
    "execution": {
     "iopub.execute_input": "2023-08-12T20:52:12.930230Z",
     "iopub.status.busy": "2023-08-12T20:52:12.929813Z",
     "iopub.status.idle": "2023-08-12T20:52:12.934395Z",
     "shell.execute_reply": "2023-08-12T20:52:12.933375Z"
    },
    "papermill": {
     "duration": 0.111168,
     "end_time": "2023-08-12T20:52:12.936501",
     "exception": false,
     "start_time": "2023-08-12T20:52:12.825333",
     "status": "completed"
    },
    "tags": []
   },
   "outputs": [],
   "source": [
    "# sns.boxplot(x=merged['sentiment'], y=merged['boxOffice'])"
   ]
  },
  {
   "cell_type": "markdown",
   "id": "3c1722e4",
   "metadata": {
    "papermill": {
     "duration": 0.103243,
     "end_time": "2023-08-12T20:52:13.143628",
     "exception": false,
     "start_time": "2023-08-12T20:52:13.040385",
     "status": "completed"
    },
    "tags": []
   },
   "source": [
    "## <div id='genre_analysis'>Genre analysis</div>"
   ]
  },
  {
   "cell_type": "code",
   "execution_count": 137,
   "id": "13237980",
   "metadata": {
    "execution": {
     "iopub.execute_input": "2023-08-12T20:52:13.356786Z",
     "iopub.status.busy": "2023-08-12T20:52:13.356334Z",
     "iopub.status.idle": "2023-08-12T20:52:13.360812Z",
     "shell.execute_reply": "2023-08-12T20:52:13.359982Z"
    },
    "papermill": {
     "duration": 0.113779,
     "end_time": "2023-08-12T20:52:13.362986",
     "exception": false,
     "start_time": "2023-08-12T20:52:13.249207",
     "status": "completed"
    },
    "tags": []
   },
   "outputs": [],
   "source": [
    "# genre_analysis = merged[[\"genre\", \"genreSorted\", \"sentiment\"]].copy()\n",
    "# # print(genre_analysis.head())\n",
    "# # genre_analysis[\"genre\"] = genre_analysis[\"genre\"].apply(lambda x: (\",\").join(sorted(x.split(\", \"))))\n",
    "# genre_analysis.head()"
   ]
  },
  {
   "cell_type": "code",
   "execution_count": 138,
   "id": "621ccabb",
   "metadata": {
    "execution": {
     "iopub.execute_input": "2023-08-12T20:52:13.573361Z",
     "iopub.status.busy": "2023-08-12T20:52:13.572995Z",
     "iopub.status.idle": "2023-08-12T20:52:13.576770Z",
     "shell.execute_reply": "2023-08-12T20:52:13.576008Z"
    },
    "papermill": {
     "duration": 0.111564,
     "end_time": "2023-08-12T20:52:13.578617",
     "exception": false,
     "start_time": "2023-08-12T20:52:13.467053",
     "status": "completed"
    },
    "tags": []
   },
   "outputs": [],
   "source": [
    "# cvec_g = CountVectorizer(ngram_range=(1,3))\n",
    "# cvec_g.fit(genre_analysis['genre'])\n",
    "# # len(cvec_g.vocabulary_), cvec_g.vocabulary_"
   ]
  },
  {
   "cell_type": "code",
   "execution_count": 139,
   "id": "68bf7b84",
   "metadata": {
    "execution": {
     "iopub.execute_input": "2023-08-12T20:52:13.788190Z",
     "iopub.status.busy": "2023-08-12T20:52:13.787429Z",
     "iopub.status.idle": "2023-08-12T20:52:13.791788Z",
     "shell.execute_reply": "2023-08-12T20:52:13.790956Z"
    },
    "papermill": {
     "duration": 0.112147,
     "end_time": "2023-08-12T20:52:13.793939",
     "exception": false,
     "start_time": "2023-08-12T20:52:13.681792",
     "status": "completed"
    },
    "tags": []
   },
   "outputs": [],
   "source": [
    "# cvec_gSorted = CountVectorizer(ngram_range=(1,3))\n",
    "# cvec_gSorted.fit(genre_analysis['genreSorted'])\n",
    "# len(cvec_gSorted.vocabulary_), cvec_gSorted.vocabulary_"
   ]
  },
  {
   "cell_type": "code",
   "execution_count": 140,
   "id": "fab1a6d6",
   "metadata": {
    "execution": {
     "iopub.execute_input": "2023-08-12T20:52:14.001986Z",
     "iopub.status.busy": "2023-08-12T20:52:14.001373Z",
     "iopub.status.idle": "2023-08-12T20:52:14.006571Z",
     "shell.execute_reply": "2023-08-12T20:52:14.005379Z"
    },
    "papermill": {
     "duration": 0.112166,
     "end_time": "2023-08-12T20:52:14.009099",
     "exception": false,
     "start_time": "2023-08-12T20:52:13.896933",
     "status": "completed"
    },
    "tags": []
   },
   "outputs": [],
   "source": [
    "# genre_testing = cvec_g.transform(merged[\"genre\"])\n",
    "# # print(genre_testing)"
   ]
  },
  {
   "cell_type": "code",
   "execution_count": 141,
   "id": "420a0590",
   "metadata": {
    "execution": {
     "iopub.execute_input": "2023-08-12T20:52:14.221093Z",
     "iopub.status.busy": "2023-08-12T20:52:14.220288Z",
     "iopub.status.idle": "2023-08-12T20:52:14.224424Z",
     "shell.execute_reply": "2023-08-12T20:52:14.223610Z"
    },
    "papermill": {
     "duration": 0.112361,
     "end_time": "2023-08-12T20:52:14.226598",
     "exception": false,
     "start_time": "2023-08-12T20:52:14.114237",
     "status": "completed"
    },
    "tags": []
   },
   "outputs": [],
   "source": [
    "# genre_counts_testing = merged[[\"genre\", \"sentiment\"]].copy()\n",
    "# genre_counts_testing[\"gCount\"] = genre_counts_testing.apply(lambda x: len(str(x[\"genre\"]).split()), axis=1)\n",
    "# genre_counts_testing"
   ]
  },
  {
   "cell_type": "code",
   "execution_count": 142,
   "id": "e6c61683",
   "metadata": {
    "execution": {
     "iopub.execute_input": "2023-08-12T20:52:14.438361Z",
     "iopub.status.busy": "2023-08-12T20:52:14.437663Z",
     "iopub.status.idle": "2023-08-12T20:52:14.442090Z",
     "shell.execute_reply": "2023-08-12T20:52:14.441121Z"
    },
    "papermill": {
     "duration": 0.113188,
     "end_time": "2023-08-12T20:52:14.444554",
     "exception": false,
     "start_time": "2023-08-12T20:52:14.331366",
     "status": "completed"
    },
    "tags": []
   },
   "outputs": [],
   "source": [
    "# sns.boxplot(y=genre_counts_testing[\"gCount\"], x=genre_counts_testing[\"sentiment\"])"
   ]
  },
  {
   "cell_type": "code",
   "execution_count": 143,
   "id": "be92cde2",
   "metadata": {
    "execution": {
     "iopub.execute_input": "2023-08-12T20:52:14.722495Z",
     "iopub.status.busy": "2023-08-12T20:52:14.721263Z",
     "iopub.status.idle": "2023-08-12T20:52:14.726713Z",
     "shell.execute_reply": "2023-08-12T20:52:14.725472Z"
    },
    "papermill": {
     "duration": 0.179117,
     "end_time": "2023-08-12T20:52:14.729051",
     "exception": false,
     "start_time": "2023-08-12T20:52:14.549934",
     "status": "completed"
    },
    "tags": []
   },
   "outputs": [],
   "source": [
    "# sns.boxplot(y=merged[\"reviewWC\"], x=merged[\"sentiment\"])"
   ]
  },
  {
   "cell_type": "code",
   "execution_count": 144,
   "id": "94f11f7f",
   "metadata": {
    "execution": {
     "iopub.execute_input": "2023-08-12T20:52:14.942323Z",
     "iopub.status.busy": "2023-08-12T20:52:14.941897Z",
     "iopub.status.idle": "2023-08-12T20:52:14.947067Z",
     "shell.execute_reply": "2023-08-12T20:52:14.945840Z"
    },
    "papermill": {
     "duration": 0.115396,
     "end_time": "2023-08-12T20:52:14.949483",
     "exception": false,
     "start_time": "2023-08-12T20:52:14.834087",
     "status": "completed"
    },
    "tags": []
   },
   "outputs": [],
   "source": [
    "# audienceScore bins\n",
    "# asc = merged[['audienceScore', 'sentiment']].copy()\n",
    "# asc.head()"
   ]
  },
  {
   "cell_type": "code",
   "execution_count": 145,
   "id": "7cb5ea6a",
   "metadata": {
    "execution": {
     "iopub.execute_input": "2023-08-12T20:52:15.163359Z",
     "iopub.status.busy": "2023-08-12T20:52:15.162406Z",
     "iopub.status.idle": "2023-08-12T20:52:15.167538Z",
     "shell.execute_reply": "2023-08-12T20:52:15.166464Z"
    },
    "papermill": {
     "duration": 0.113705,
     "end_time": "2023-08-12T20:52:15.169759",
     "exception": false,
     "start_time": "2023-08-12T20:52:15.056054",
     "status": "completed"
    },
    "tags": []
   },
   "outputs": [],
   "source": [
    "# Binning numerical features  \n",
    "\n",
    "# print(merged[\"runtimeBins\"].value_counts())\n",
    "# sns.displot(merged[\"runtimeBins\"])"
   ]
  },
  {
   "cell_type": "code",
   "execution_count": 146,
   "id": "ddd94bbe",
   "metadata": {
    "execution": {
     "iopub.execute_input": "2023-08-12T20:52:15.387152Z",
     "iopub.status.busy": "2023-08-12T20:52:15.386745Z",
     "iopub.status.idle": "2023-08-12T20:52:15.391480Z",
     "shell.execute_reply": "2023-08-12T20:52:15.390344Z"
    },
    "papermill": {
     "duration": 0.116958,
     "end_time": "2023-08-12T20:52:15.394266",
     "exception": false,
     "start_time": "2023-08-12T20:52:15.277308",
     "status": "completed"
    },
    "tags": []
   },
   "outputs": [],
   "source": [
    "# Chi-square test for isFrequentReviewer column and sentiment column   \n",
    "\n",
    "# contingency_table = pd.crosstab(traindf['isFrequentReviewer'], traindf['sentiment'])\n",
    "# print(contingency_table)\n",
    "# stats.chi2_contingency(contingency_table)"
   ]
  },
  {
   "cell_type": "markdown",
   "id": "efa9e7b0",
   "metadata": {
    "papermill": {
     "duration": 0.10348,
     "end_time": "2023-08-12T20:52:15.613245",
     "exception": false,
     "start_time": "2023-08-12T20:52:15.509765",
     "status": "completed"
    },
    "tags": []
   },
   "source": [
    "## Baseline performance of 'reviewText' column  "
   ]
  },
  {
   "cell_type": "code",
   "execution_count": 147,
   "id": "64340ebd",
   "metadata": {
    "execution": {
     "iopub.execute_input": "2023-08-12T20:52:15.822838Z",
     "iopub.status.busy": "2023-08-12T20:52:15.822425Z",
     "iopub.status.idle": "2023-08-12T20:52:15.826619Z",
     "shell.execute_reply": "2023-08-12T20:52:15.825728Z"
    },
    "papermill": {
     "duration": 0.112149,
     "end_time": "2023-08-12T20:52:15.828992",
     "exception": false,
     "start_time": "2023-08-12T20:52:15.716843",
     "status": "completed"
    },
    "tags": []
   },
   "outputs": [],
   "source": [
    "# rt_dict = {'txt': ['reviewText']}\n",
    "# rt_dict"
   ]
  },
  {
   "cell_type": "code",
   "execution_count": 148,
   "id": "1d3984b1",
   "metadata": {
    "execution": {
     "iopub.execute_input": "2023-08-12T20:52:16.037720Z",
     "iopub.status.busy": "2023-08-12T20:52:16.036995Z",
     "iopub.status.idle": "2023-08-12T20:52:16.041133Z",
     "shell.execute_reply": "2023-08-12T20:52:16.040149Z"
    },
    "papermill": {
     "duration": 0.111008,
     "end_time": "2023-08-12T20:52:16.043266",
     "exception": false,
     "start_time": "2023-08-12T20:52:15.932258",
     "status": "completed"
    },
    "tags": []
   },
   "outputs": [],
   "source": [
    "# submit_v4(selected_model=LogisticRegression(C=5, solver=\"saga\", max_iter=100000),\n",
    "#           selected_features=rt_dict,\n",
    "#           param_grid=None,\n",
    "#           vocab=None)"
   ]
  },
  {
   "cell_type": "markdown",
   "id": "b42c2d02",
   "metadata": {
    "papermill": {
     "duration": 0.104039,
     "end_time": "2023-08-12T20:52:16.250577",
     "exception": false,
     "start_time": "2023-08-12T20:52:16.146538",
     "status": "completed"
    },
    "tags": []
   },
   "source": [
    "## RFE  "
   ]
  },
  {
   "cell_type": "code",
   "execution_count": 149,
   "id": "b1936c69",
   "metadata": {
    "execution": {
     "iopub.execute_input": "2023-08-12T20:52:16.459180Z",
     "iopub.status.busy": "2023-08-12T20:52:16.458761Z",
     "iopub.status.idle": "2023-08-12T20:52:16.464138Z",
     "shell.execute_reply": "2023-08-12T20:52:16.463041Z"
    },
    "papermill": {
     "duration": 0.112747,
     "end_time": "2023-08-12T20:52:16.466362",
     "exception": false,
     "start_time": "2023-08-12T20:52:16.353615",
     "status": "completed"
    },
    "tags": []
   },
   "outputs": [],
   "source": [
    "# def fs_rfe(selector, text_df, labels, ngram_range=(1,1)):\n",
    "#     text_df_ngram = TfidfVectorizer(ngram_range=ngram_range, stop_words='english').fit_transform(text_df)\n",
    "#     print(\"text_df was vectorized using TF-IDF vectorizer with ngram_range: \", ngram_range)\n",
    "#     print(\"text_df.shape: \", text_df.shape)\n",
    "#     print(\"labels.shape: \", labels.shape)\n",
    "#     print(\"text_df_ngram.shape: \", text_df_ngram.shape)\n",
    "#     print()\n",
    "\n",
    "#     print(\"Starting RFE fit...\")\n",
    "#     selector.fit(text_df_ngram, labels)\n",
    "#     print(\"RFE fit complete.\\n\")\n",
    "    \n",
    "#     print(\"selector.n_features_: \", selector.n_features_)   \n",
    "#     print(\"selector.n_features_in_: \", selector.n_features_in_)\n",
    "#     print(\"selector.support_.shape: \", selector.support_.shape)\n",
    "\n",
    "#     return selector.support_"
   ]
  },
  {
   "cell_type": "markdown",
   "id": "f4e4ca43",
   "metadata": {
    "papermill": {
     "duration": 0.104956,
     "end_time": "2023-08-12T20:52:16.676870",
     "exception": false,
     "start_time": "2023-08-12T20:52:16.571914",
     "status": "completed"
    },
    "tags": []
   },
   "source": [
    "`RFE for unigrams`  "
   ]
  },
  {
   "cell_type": "code",
   "execution_count": 150,
   "id": "967c4274",
   "metadata": {
    "execution": {
     "iopub.execute_input": "2023-08-12T20:52:16.886435Z",
     "iopub.status.busy": "2023-08-12T20:52:16.885377Z",
     "iopub.status.idle": "2023-08-12T20:52:16.889561Z",
     "shell.execute_reply": "2023-08-12T20:52:16.888799Z"
    },
    "papermill": {
     "duration": 0.111133,
     "end_time": "2023-08-12T20:52:16.891969",
     "exception": false,
     "start_time": "2023-08-12T20:52:16.780836",
     "status": "completed"
    },
    "tags": []
   },
   "outputs": [],
   "source": [
    "# estimator_rfe_1 = LogisticRegression(solver='saga', max_iter=100000)\n",
    "# selector_rfe_1 = RFE(estimator_rfe_1, step=0.1, n_features_to_select=30000)"
   ]
  },
  {
   "cell_type": "code",
   "execution_count": 151,
   "id": "31f62404",
   "metadata": {
    "execution": {
     "iopub.execute_input": "2023-08-12T20:52:17.105950Z",
     "iopub.status.busy": "2023-08-12T20:52:17.105129Z",
     "iopub.status.idle": "2023-08-12T20:52:17.109849Z",
     "shell.execute_reply": "2023-08-12T20:52:17.108681Z"
    },
    "papermill": {
     "duration": 0.115058,
     "end_time": "2023-08-12T20:52:17.112263",
     "exception": false,
     "start_time": "2023-08-12T20:52:16.997205",
     "status": "completed"
    },
    "tags": []
   },
   "outputs": [],
   "source": [
    "# rfe_1_feat_mask = fs_rfe(selector_rfe_1, rt_senti[\"reviewText\"], rt_senti[\"sentiment\"], ngram_range=(1,1))\n",
    "# rfe_1_feat_mask"
   ]
  },
  {
   "cell_type": "code",
   "execution_count": 152,
   "id": "e8e7e70d",
   "metadata": {
    "execution": {
     "iopub.execute_input": "2023-08-12T20:52:17.322773Z",
     "iopub.status.busy": "2023-08-12T20:52:17.322328Z",
     "iopub.status.idle": "2023-08-12T20:52:17.327380Z",
     "shell.execute_reply": "2023-08-12T20:52:17.326246Z"
    },
    "papermill": {
     "duration": 0.112314,
     "end_time": "2023-08-12T20:52:17.329816",
     "exception": false,
     "start_time": "2023-08-12T20:52:17.217502",
     "status": "completed"
    },
    "tags": []
   },
   "outputs": [],
   "source": [
    "# voc_1gram_rfe = list(compress(voc_1gram, rfe_1_feat_mask))\n",
    "# len(voc_1gram_rfe), voc_1gram_rfe[:10]"
   ]
  },
  {
   "cell_type": "markdown",
   "id": "d50214db",
   "metadata": {
    "papermill": {
     "duration": 0.104125,
     "end_time": "2023-08-12T20:52:17.539055",
     "exception": false,
     "start_time": "2023-08-12T20:52:17.434930",
     "status": "completed"
    },
    "tags": []
   },
   "source": [
    "`RFE for bigrams`  "
   ]
  },
  {
   "cell_type": "code",
   "execution_count": 153,
   "id": "5ef73885",
   "metadata": {
    "execution": {
     "iopub.execute_input": "2023-08-12T20:52:17.747726Z",
     "iopub.status.busy": "2023-08-12T20:52:17.747264Z",
     "iopub.status.idle": "2023-08-12T20:52:17.752273Z",
     "shell.execute_reply": "2023-08-12T20:52:17.751144Z"
    },
    "papermill": {
     "duration": 0.112379,
     "end_time": "2023-08-12T20:52:17.754522",
     "exception": false,
     "start_time": "2023-08-12T20:52:17.642143",
     "status": "completed"
    },
    "tags": []
   },
   "outputs": [],
   "source": [
    "# estimator_rfe_2 = LogisticRegression(solver='saga', max_iter=100000)\n",
    "# selector_rfe_2 = RFE(estimator_rfe_2, step=0.1, n_features_to_select=50000)"
   ]
  },
  {
   "cell_type": "code",
   "execution_count": 154,
   "id": "b687d00b",
   "metadata": {
    "execution": {
     "iopub.execute_input": "2023-08-12T20:52:17.963207Z",
     "iopub.status.busy": "2023-08-12T20:52:17.962759Z",
     "iopub.status.idle": "2023-08-12T20:52:17.967043Z",
     "shell.execute_reply": "2023-08-12T20:52:17.966215Z"
    },
    "papermill": {
     "duration": 0.110707,
     "end_time": "2023-08-12T20:52:17.969444",
     "exception": false,
     "start_time": "2023-08-12T20:52:17.858737",
     "status": "completed"
    },
    "tags": []
   },
   "outputs": [],
   "source": [
    "# rfe_2_feat_mask = fs_rfe(selector_rfe_2, rt_senti[\"reviewText\"], rt_senti[\"sentiment\"], ngram_range=(2,2))\n",
    "# rfe_2_feat_mask"
   ]
  },
  {
   "cell_type": "code",
   "execution_count": 155,
   "id": "366a4dd8",
   "metadata": {
    "execution": {
     "iopub.execute_input": "2023-08-12T20:52:18.179475Z",
     "iopub.status.busy": "2023-08-12T20:52:18.178843Z",
     "iopub.status.idle": "2023-08-12T20:52:18.183518Z",
     "shell.execute_reply": "2023-08-12T20:52:18.182360Z"
    },
    "papermill": {
     "duration": 0.112464,
     "end_time": "2023-08-12T20:52:18.185768",
     "exception": false,
     "start_time": "2023-08-12T20:52:18.073304",
     "status": "completed"
    },
    "tags": []
   },
   "outputs": [],
   "source": [
    "# voc_2gram_rfe = list(compress(voc_2gram, rfe_2_feat_mask))\n",
    "# len(voc_2gram_rfe), voc_2gram_rfe[:10]"
   ]
  },
  {
   "cell_type": "markdown",
   "id": "34eae521",
   "metadata": {
    "papermill": {
     "duration": 0.102747,
     "end_time": "2023-08-12T20:52:18.391627",
     "exception": false,
     "start_time": "2023-08-12T20:52:18.288880",
     "status": "completed"
    },
    "tags": []
   },
   "source": [
    "## Final RFE-derived vocabulary  "
   ]
  },
  {
   "cell_type": "code",
   "execution_count": 156,
   "id": "dd65c7d9",
   "metadata": {
    "execution": {
     "iopub.execute_input": "2023-08-12T20:52:18.600996Z",
     "iopub.status.busy": "2023-08-12T20:52:18.599527Z",
     "iopub.status.idle": "2023-08-12T20:52:18.604688Z",
     "shell.execute_reply": "2023-08-12T20:52:18.603920Z"
    },
    "papermill": {
     "duration": 0.112232,
     "end_time": "2023-08-12T20:52:18.606789",
     "exception": false,
     "start_time": "2023-08-12T20:52:18.494557",
     "status": "completed"
    },
    "tags": []
   },
   "outputs": [],
   "source": [
    "# rfe_vocab = voc_1gram_rfe + voc_2gram_rfe\n",
    "# len(rfe_vocab), rfe_vocab[:10], rfe_vocab[-10:]"
   ]
  },
  {
   "cell_type": "code",
   "execution_count": 157,
   "id": "4cb52648",
   "metadata": {
    "execution": {
     "iopub.execute_input": "2023-08-12T20:52:18.819079Z",
     "iopub.status.busy": "2023-08-12T20:52:18.818380Z",
     "iopub.status.idle": "2023-08-12T20:52:18.823187Z",
     "shell.execute_reply": "2023-08-12T20:52:18.822367Z"
    },
    "papermill": {
     "duration": 0.11387,
     "end_time": "2023-08-12T20:52:18.825381",
     "exception": false,
     "start_time": "2023-08-12T20:52:18.711511",
     "status": "completed"
    },
    "tags": []
   },
   "outputs": [],
   "source": [
    "## Test RFE obtained vocabulary in final pipeline (only with reviewText)  \n",
    "# submit_v4(selected_model=LogisticRegression(C=5, solver=\"saga\", max_iter=100000),\n",
    "#           selected_features=rt_dict,\n",
    "#           param_grid=None,\n",
    "#           vocab=rfe_vocab)"
   ]
  },
  {
   "cell_type": "markdown",
   "id": "72ca6511",
   "metadata": {
    "papermill": {
     "duration": 0.104168,
     "end_time": "2023-08-12T20:52:19.032829",
     "exception": false,
     "start_time": "2023-08-12T20:52:18.928661",
     "status": "completed"
    },
    "tags": []
   },
   "source": [
    "## Use rfe_vocab in final pipeline with all params  "
   ]
  },
  {
   "cell_type": "code",
   "execution_count": 158,
   "id": "536d6088",
   "metadata": {
    "execution": {
     "iopub.execute_input": "2023-08-12T20:52:19.243904Z",
     "iopub.status.busy": "2023-08-12T20:52:19.243448Z",
     "iopub.status.idle": "2023-08-12T20:52:19.248278Z",
     "shell.execute_reply": "2023-08-12T20:52:19.247113Z"
    },
    "papermill": {
     "duration": 0.113171,
     "end_time": "2023-08-12T20:52:19.250712",
     "exception": false,
     "start_time": "2023-08-12T20:52:19.137541",
     "status": "completed"
    },
    "tags": []
   },
   "outputs": [],
   "source": [
    "# submit_v4(selected_model=LogisticRegression(max_iter=100000),\n",
    "#           selected_features=all_dict,\n",
    "#           param_grid=param_grid,\n",
    "#           vocab=rfe_vocab)"
   ]
  },
  {
   "cell_type": "code",
   "execution_count": 159,
   "id": "c445b174",
   "metadata": {
    "execution": {
     "iopub.execute_input": "2023-08-12T20:52:19.462898Z",
     "iopub.status.busy": "2023-08-12T20:52:19.461664Z",
     "iopub.status.idle": "2023-08-12T20:52:19.474686Z",
     "shell.execute_reply": "2023-08-12T20:52:19.473533Z"
    },
    "papermill": {
     "duration": 0.120805,
     "end_time": "2023-08-12T20:52:19.477062",
     "exception": false,
     "start_time": "2023-08-12T20:52:19.356257",
     "status": "completed"
    },
    "tags": []
   },
   "outputs": [
    {
     "data": {
      "text/html": [
       "<style>#sk-container-id-1 {color: black;background-color: white;}#sk-container-id-1 pre{padding: 0;}#sk-container-id-1 div.sk-toggleable {background-color: white;}#sk-container-id-1 label.sk-toggleable__label {cursor: pointer;display: block;width: 100%;margin-bottom: 0;padding: 0.3em;box-sizing: border-box;text-align: center;}#sk-container-id-1 label.sk-toggleable__label-arrow:before {content: \"▸\";float: left;margin-right: 0.25em;color: #696969;}#sk-container-id-1 label.sk-toggleable__label-arrow:hover:before {color: black;}#sk-container-id-1 div.sk-estimator:hover label.sk-toggleable__label-arrow:before {color: black;}#sk-container-id-1 div.sk-toggleable__content {max-height: 0;max-width: 0;overflow: hidden;text-align: left;background-color: #f0f8ff;}#sk-container-id-1 div.sk-toggleable__content pre {margin: 0.2em;color: black;border-radius: 0.25em;background-color: #f0f8ff;}#sk-container-id-1 input.sk-toggleable__control:checked~div.sk-toggleable__content {max-height: 200px;max-width: 100%;overflow: auto;}#sk-container-id-1 input.sk-toggleable__control:checked~label.sk-toggleable__label-arrow:before {content: \"▾\";}#sk-container-id-1 div.sk-estimator input.sk-toggleable__control:checked~label.sk-toggleable__label {background-color: #d4ebff;}#sk-container-id-1 div.sk-label input.sk-toggleable__control:checked~label.sk-toggleable__label {background-color: #d4ebff;}#sk-container-id-1 input.sk-hidden--visually {border: 0;clip: rect(1px 1px 1px 1px);clip: rect(1px, 1px, 1px, 1px);height: 1px;margin: -1px;overflow: hidden;padding: 0;position: absolute;width: 1px;}#sk-container-id-1 div.sk-estimator {font-family: monospace;background-color: #f0f8ff;border: 1px dotted black;border-radius: 0.25em;box-sizing: border-box;margin-bottom: 0.5em;}#sk-container-id-1 div.sk-estimator:hover {background-color: #d4ebff;}#sk-container-id-1 div.sk-parallel-item::after {content: \"\";width: 100%;border-bottom: 1px solid gray;flex-grow: 1;}#sk-container-id-1 div.sk-label:hover label.sk-toggleable__label {background-color: #d4ebff;}#sk-container-id-1 div.sk-serial::before {content: \"\";position: absolute;border-left: 1px solid gray;box-sizing: border-box;top: 0;bottom: 0;left: 50%;z-index: 0;}#sk-container-id-1 div.sk-serial {display: flex;flex-direction: column;align-items: center;background-color: white;padding-right: 0.2em;padding-left: 0.2em;position: relative;}#sk-container-id-1 div.sk-item {position: relative;z-index: 1;}#sk-container-id-1 div.sk-parallel {display: flex;align-items: stretch;justify-content: center;background-color: white;position: relative;}#sk-container-id-1 div.sk-item::before, #sk-container-id-1 div.sk-parallel-item::before {content: \"\";position: absolute;border-left: 1px solid gray;box-sizing: border-box;top: 0;bottom: 0;left: 50%;z-index: -1;}#sk-container-id-1 div.sk-parallel-item {display: flex;flex-direction: column;z-index: 1;position: relative;background-color: white;}#sk-container-id-1 div.sk-parallel-item:first-child::after {align-self: flex-end;width: 50%;}#sk-container-id-1 div.sk-parallel-item:last-child::after {align-self: flex-start;width: 50%;}#sk-container-id-1 div.sk-parallel-item:only-child::after {width: 0;}#sk-container-id-1 div.sk-dashed-wrapped {border: 1px dashed gray;margin: 0 0.4em 0.5em 0.4em;box-sizing: border-box;padding-bottom: 0.4em;background-color: white;}#sk-container-id-1 div.sk-label label {font-family: monospace;font-weight: bold;display: inline-block;line-height: 1.2em;}#sk-container-id-1 div.sk-label-container {text-align: center;}#sk-container-id-1 div.sk-container {/* jupyter's `normalize.less` sets `[hidden] { display: none; }` but bootstrap.min.css set `[hidden] { display: none !important; }` so we also need the `!important` here to be able to override the default hidden behavior on the sphinx rendered scikit-learn.org. See: https://github.com/scikit-learn/scikit-learn/issues/21755 */display: inline-block !important;position: relative;}#sk-container-id-1 div.sk-text-repr-fallback {display: none;}</style><div id=\"sk-container-id-1\" class=\"sk-top-container\"><div class=\"sk-text-repr-fallback\"><pre>AdaBoostClassifier(estimator=LogisticRegression(C=5, max_iter=100000,\n",
       "                                                solver=&#x27;saga&#x27;))</pre><b>In a Jupyter environment, please rerun this cell to show the HTML representation or trust the notebook. <br />On GitHub, the HTML representation is unable to render, please try loading this page with nbviewer.org.</b></div><div class=\"sk-container\" hidden><div class=\"sk-item sk-dashed-wrapped\"><div class=\"sk-label-container\"><div class=\"sk-label sk-toggleable\"><input class=\"sk-toggleable__control sk-hidden--visually\" id=\"sk-estimator-id-1\" type=\"checkbox\" ><label for=\"sk-estimator-id-1\" class=\"sk-toggleable__label sk-toggleable__label-arrow\">AdaBoostClassifier</label><div class=\"sk-toggleable__content\"><pre>AdaBoostClassifier(estimator=LogisticRegression(C=5, max_iter=100000,\n",
       "                                                solver=&#x27;saga&#x27;))</pre></div></div></div><div class=\"sk-parallel\"><div class=\"sk-parallel-item\"><div class=\"sk-item\"><div class=\"sk-label-container\"><div class=\"sk-label sk-toggleable\"><input class=\"sk-toggleable__control sk-hidden--visually\" id=\"sk-estimator-id-2\" type=\"checkbox\" ><label for=\"sk-estimator-id-2\" class=\"sk-toggleable__label sk-toggleable__label-arrow\">estimator: LogisticRegression</label><div class=\"sk-toggleable__content\"><pre>LogisticRegression(C=5, max_iter=100000, solver=&#x27;saga&#x27;)</pre></div></div></div><div class=\"sk-serial\"><div class=\"sk-item\"><div class=\"sk-estimator sk-toggleable\"><input class=\"sk-toggleable__control sk-hidden--visually\" id=\"sk-estimator-id-3\" type=\"checkbox\" ><label for=\"sk-estimator-id-3\" class=\"sk-toggleable__label sk-toggleable__label-arrow\">LogisticRegression</label><div class=\"sk-toggleable__content\"><pre>LogisticRegression(C=5, max_iter=100000, solver=&#x27;saga&#x27;)</pre></div></div></div></div></div></div></div></div></div></div>"
      ],
      "text/plain": [
       "AdaBoostClassifier(estimator=LogisticRegression(C=5, max_iter=100000,\n",
       "                                                solver='saga'))"
      ]
     },
     "execution_count": 159,
     "metadata": {},
     "output_type": "execute_result"
    }
   ],
   "source": [
    "adc = AdaBoostClassifier(estimator=LogisticRegression(C=5, solver=\"saga\", max_iter=100000), n_estimators=50)\n",
    "adc"
   ]
  },
  {
   "cell_type": "code",
   "execution_count": 160,
   "id": "1e5787a3",
   "metadata": {
    "execution": {
     "iopub.execute_input": "2023-08-12T20:52:19.688975Z",
     "iopub.status.busy": "2023-08-12T20:52:19.688185Z",
     "iopub.status.idle": "2023-08-12T20:52:19.692903Z",
     "shell.execute_reply": "2023-08-12T20:52:19.692088Z"
    },
    "papermill": {
     "duration": 0.112662,
     "end_time": "2023-08-12T20:52:19.695133",
     "exception": false,
     "start_time": "2023-08-12T20:52:19.582471",
     "status": "completed"
    },
    "tags": []
   },
   "outputs": [],
   "source": [
    "# submit_v4(selected_model=adc,\n",
    "#           selected_features={'cat': ['isFrequentReviewer']},\n",
    "#           param_grid=None,\n",
    "#           vocab=rfe_vocab)"
   ]
  },
  {
   "cell_type": "code",
   "execution_count": 161,
   "id": "b55128a3",
   "metadata": {
    "execution": {
     "iopub.execute_input": "2023-08-12T20:52:19.905860Z",
     "iopub.status.busy": "2023-08-12T20:52:19.905036Z",
     "iopub.status.idle": "2023-08-12T20:52:19.909934Z",
     "shell.execute_reply": "2023-08-12T20:52:19.909140Z"
    },
    "papermill": {
     "duration": 0.113465,
     "end_time": "2023-08-12T20:52:19.912222",
     "exception": false,
     "start_time": "2023-08-12T20:52:19.798757",
     "status": "completed"
    },
    "tags": []
   },
   "outputs": [],
   "source": [
    "# AdaBoost on all features with RFE vocab on reviewText\n",
    "\n",
    "# submit_v4(selected_model=adc,\n",
    "#           selected_features=all_dict,\n",
    "#           param_grid=None,\n",
    "#           vocab=rfe_vocab)"
   ]
  },
  {
   "cell_type": "code",
   "execution_count": 162,
   "id": "415e056f",
   "metadata": {
    "execution": {
     "iopub.execute_input": "2023-08-12T20:52:20.122886Z",
     "iopub.status.busy": "2023-08-12T20:52:20.122196Z",
     "iopub.status.idle": "2023-08-12T20:52:20.126711Z",
     "shell.execute_reply": "2023-08-12T20:52:20.125913Z"
    },
    "papermill": {
     "duration": 0.112634,
     "end_time": "2023-08-12T20:52:20.129006",
     "exception": false,
     "start_time": "2023-08-12T20:52:20.016372",
     "status": "completed"
    },
    "tags": []
   },
   "outputs": [],
   "source": [
    "# RandomForestClassifier test run on one feature\n",
    "\n",
    "# rfc_2 = RandomForestClassifier()\n",
    "# rfc_2"
   ]
  },
  {
   "cell_type": "code",
   "execution_count": 163,
   "id": "6bece0c1",
   "metadata": {
    "execution": {
     "iopub.execute_input": "2023-08-12T20:52:20.340213Z",
     "iopub.status.busy": "2023-08-12T20:52:20.339548Z",
     "iopub.status.idle": "2023-08-12T20:52:20.344402Z",
     "shell.execute_reply": "2023-08-12T20:52:20.343294Z"
    },
    "papermill": {
     "duration": 0.114195,
     "end_time": "2023-08-12T20:52:20.346615",
     "exception": false,
     "start_time": "2023-08-12T20:52:20.232420",
     "status": "completed"
    },
    "tags": []
   },
   "outputs": [],
   "source": [
    "# submit_v4(selected_model=rfc_2,\n",
    "#           selected_features={'txt': ['reviewerName']},\n",
    "#           param_grid=None,\n",
    "#           vocab=rfe_vocab)"
   ]
  },
  {
   "cell_type": "code",
   "execution_count": 164,
   "id": "5f127b3a",
   "metadata": {
    "execution": {
     "iopub.execute_input": "2023-08-12T20:52:20.558505Z",
     "iopub.status.busy": "2023-08-12T20:52:20.557788Z",
     "iopub.status.idle": "2023-08-12T20:52:20.562409Z",
     "shell.execute_reply": "2023-08-12T20:52:20.561684Z"
    },
    "papermill": {
     "duration": 0.113861,
     "end_time": "2023-08-12T20:52:20.564594",
     "exception": false,
     "start_time": "2023-08-12T20:52:20.450733",
     "status": "completed"
    },
    "tags": []
   },
   "outputs": [],
   "source": [
    "# RandomForestClassifier on all features with RFE vocab on reviewText\n",
    "\n",
    "# submit_v4(selected_model=rfc_2,\n",
    "#           selected_features=all_dict,\n",
    "#           param_grid=None,\n",
    "#           vocab=rfe_vocab)"
   ]
  },
  {
   "cell_type": "markdown",
   "id": "3ca5198f",
   "metadata": {
    "papermill": {
     "duration": 0.103041,
     "end_time": "2023-08-12T20:52:20.771565",
     "exception": false,
     "start_time": "2023-08-12T20:52:20.668524",
     "status": "completed"
    },
    "tags": []
   },
   "source": [
    "## Submit_v2 for merged file models  "
   ]
  },
  {
   "cell_type": "code",
   "execution_count": 165,
   "id": "8f5318d1",
   "metadata": {
    "execution": {
     "iopub.execute_input": "2023-08-12T20:52:20.982792Z",
     "iopub.status.busy": "2023-08-12T20:52:20.982343Z",
     "iopub.status.idle": "2023-08-12T20:52:20.988798Z",
     "shell.execute_reply": "2023-08-12T20:52:20.987568Z"
    },
    "papermill": {
     "duration": 0.114745,
     "end_time": "2023-08-12T20:52:20.991164",
     "exception": false,
     "start_time": "2023-08-12T20:52:20.876419",
     "status": "completed"
    },
    "tags": []
   },
   "outputs": [],
   "source": [
    "# def submit_v2(selected_model=pipe_final, selected_features=None):\n",
    "#     '''\n",
    "#     Note that \"selected_preprocessor\" is already used within selected_model or pipeline\n",
    "#     '''\n",
    "#     # Retrain on the whole train.csv file  \n",
    "#     merged = select_features(load_csv(\"train\"), load_csv(\"movies\"))\n",
    "#     X_train = merged.drop(labels=\"sentiment\", axis=1)\n",
    "#     y_train = merged[\"sentiment\"]\n",
    "    \n",
    "#     #Use selected features\n",
    "#     if selected_features:\n",
    "#         X_train = X_train[selected_features]\n",
    "    \n",
    "#     # Check1\n",
    "#     print(X_train.shape)\n",
    "#     print(X_train.head())\n",
    "#     try:\n",
    "#         print(selected_model.named_steps['model'].intercept_, selected_model.named_steps['model'].coef_)\n",
    "#     except:\n",
    "#         print(\"Model not trained yet!\")\n",
    "    \n",
    "#     # Fit \n",
    "#     selected_model.fit(X_train, y_train)\n",
    "    \n",
    "#     # Check2\n",
    "#     print(selected_model.named_steps['model'].intercept_, selected_model.named_steps['model'].coef_)\n",
    "    \n",
    "#     # Predict on test.csv file\n",
    "#     merged_test = select_features(load_csv(\"test\"), load_csv(\"movies\"))\n",
    "#     X_test = merged_test.copy()\n",
    "#     if selected_features:\n",
    "#         X_test = X_test[selected_features]\n",
    "    \n",
    "#     # Check3\n",
    "#     print(X_test.shape)\n",
    "#     print(X_test.head())\n",
    "    \n",
    "#     y_pred = selected_model.predict(X_test)\n",
    "    \n",
    "#     pred_df = pd.DataFrame(y_pred)\n",
    "#     pred_df.columns = [\"sentiment\"]\n",
    "#     pred_df.index.name = \"id\"\n",
    "#     pred_df.to_csv(\"submission.csv\")\n",
    "    \n",
    "#     return \"Successfully created the submission file!!!\""
   ]
  },
  {
   "cell_type": "code",
   "execution_count": 166,
   "id": "37f2572c",
   "metadata": {
    "execution": {
     "iopub.execute_input": "2023-08-12T20:52:21.202311Z",
     "iopub.status.busy": "2023-08-12T20:52:21.201895Z",
     "iopub.status.idle": "2023-08-12T20:52:21.206512Z",
     "shell.execute_reply": "2023-08-12T20:52:21.205358Z"
    },
    "papermill": {
     "duration": 0.113585,
     "end_time": "2023-08-12T20:52:21.209027",
     "exception": false,
     "start_time": "2023-08-12T20:52:21.095442",
     "status": "completed"
    },
    "tags": []
   },
   "outputs": [],
   "source": [
    "#     X_test = merged_test.copy()\n",
    "    \n",
    "#     y_pred = pipe_best4.predict(X_test)\n",
    "# #     np.unique(y_pred, return_counts=True)\n",
    "#     pred_df = pd.DataFrame(y_pred)\n",
    "#     pred_df.columns = [\"sentiment\"]\n",
    "#     pred_df.index.name = \"id\"\n",
    "#     pred_df.value_counts()"
   ]
  },
  {
   "cell_type": "code",
   "execution_count": 167,
   "id": "18df3ab0",
   "metadata": {
    "execution": {
     "iopub.execute_input": "2023-08-12T20:52:21.419209Z",
     "iopub.status.busy": "2023-08-12T20:52:21.418469Z",
     "iopub.status.idle": "2023-08-12T20:52:21.423490Z",
     "shell.execute_reply": "2023-08-12T20:52:21.422737Z"
    },
    "papermill": {
     "duration": 0.112353,
     "end_time": "2023-08-12T20:52:21.425662",
     "exception": false,
     "start_time": "2023-08-12T20:52:21.313309",
     "status": "completed"
    },
    "tags": []
   },
   "outputs": [],
   "source": [
    "# X_test.columns"
   ]
  },
  {
   "cell_type": "markdown",
   "id": "e6dffc62",
   "metadata": {
    "papermill": {
     "duration": 0.105411,
     "end_time": "2023-08-12T20:52:21.634904",
     "exception": false,
     "start_time": "2023-08-12T20:52:21.529493",
     "status": "completed"
    },
    "tags": []
   },
   "source": [
    "### Uncomment to submit using v2 of submit function  "
   ]
  },
  {
   "cell_type": "code",
   "execution_count": 168,
   "id": "c5799ee3",
   "metadata": {
    "execution": {
     "iopub.execute_input": "2023-08-12T20:52:21.845518Z",
     "iopub.status.busy": "2023-08-12T20:52:21.844280Z",
     "iopub.status.idle": "2023-08-12T20:52:21.849372Z",
     "shell.execute_reply": "2023-08-12T20:52:21.848542Z"
    },
    "papermill": {
     "duration": 0.112994,
     "end_time": "2023-08-12T20:52:21.851558",
     "exception": false,
     "start_time": "2023-08-12T20:52:21.738564",
     "status": "completed"
    },
    "tags": []
   },
   "outputs": [],
   "source": [
    "# best4 = [\"audienceScore\", \"rating\", \"isFrequentReviewer\", \"reviewText\"]\n",
    "# best4"
   ]
  },
  {
   "cell_type": "code",
   "execution_count": 169,
   "id": "8ff9a0da",
   "metadata": {
    "execution": {
     "iopub.execute_input": "2023-08-12T20:52:22.064794Z",
     "iopub.status.busy": "2023-08-12T20:52:22.064135Z",
     "iopub.status.idle": "2023-08-12T20:52:22.068611Z",
     "shell.execute_reply": "2023-08-12T20:52:22.067830Z"
    },
    "papermill": {
     "duration": 0.113389,
     "end_time": "2023-08-12T20:52:22.070793",
     "exception": false,
     "start_time": "2023-08-12T20:52:21.957404",
     "status": "completed"
    },
    "tags": []
   },
   "outputs": [],
   "source": [
    "# submit_v2(selected_model=pipe_RTonly, selected_features=['reviewText'])"
   ]
  },
  {
   "cell_type": "markdown",
   "id": "61e6226e",
   "metadata": {
    "papermill": {
     "duration": 0.106161,
     "end_time": "2023-08-12T20:52:22.280623",
     "exception": false,
     "start_time": "2023-08-12T20:52:22.174462",
     "status": "completed"
    },
    "tags": []
   },
   "source": [
    "### Inspect the submission.csv file  "
   ]
  },
  {
   "cell_type": "code",
   "execution_count": 170,
   "id": "02cc9fc3",
   "metadata": {
    "execution": {
     "iopub.execute_input": "2023-08-12T20:52:22.489830Z",
     "iopub.status.busy": "2023-08-12T20:52:22.489165Z",
     "iopub.status.idle": "2023-08-12T20:52:22.493499Z",
     "shell.execute_reply": "2023-08-12T20:52:22.492752Z"
    },
    "papermill": {
     "duration": 0.111481,
     "end_time": "2023-08-12T20:52:22.495643",
     "exception": false,
     "start_time": "2023-08-12T20:52:22.384162",
     "status": "completed"
    },
    "tags": []
   },
   "outputs": [],
   "source": [
    "# sub = pd.read_csv('submission.csv')\n",
    "# sub.shape, sub.head()"
   ]
  },
  {
   "cell_type": "code",
   "execution_count": 171,
   "id": "40cd4692",
   "metadata": {
    "execution": {
     "iopub.execute_input": "2023-08-12T20:52:22.706260Z",
     "iopub.status.busy": "2023-08-12T20:52:22.705587Z",
     "iopub.status.idle": "2023-08-12T20:52:22.710251Z",
     "shell.execute_reply": "2023-08-12T20:52:22.709372Z"
    },
    "papermill": {
     "duration": 0.1118,
     "end_time": "2023-08-12T20:52:22.712436",
     "exception": false,
     "start_time": "2023-08-12T20:52:22.600636",
     "status": "completed"
    },
    "tags": []
   },
   "outputs": [],
   "source": [
    "# sub['sentiment'].value_counts()"
   ]
  },
  {
   "cell_type": "markdown",
   "id": "d76e3a4b",
   "metadata": {
    "papermill": {
     "duration": 0.105099,
     "end_time": "2023-08-12T20:52:22.921587",
     "exception": false,
     "start_time": "2023-08-12T20:52:22.816488",
     "status": "completed"
    },
    "tags": []
   },
   "source": [
    "## submit_v3 for merged file models - does not retrain on whole data  "
   ]
  },
  {
   "cell_type": "code",
   "execution_count": 172,
   "id": "05399914",
   "metadata": {
    "execution": {
     "iopub.execute_input": "2023-08-12T20:52:23.131728Z",
     "iopub.status.busy": "2023-08-12T20:52:23.131053Z",
     "iopub.status.idle": "2023-08-12T20:52:23.136290Z",
     "shell.execute_reply": "2023-08-12T20:52:23.135504Z"
    },
    "papermill": {
     "duration": 0.113111,
     "end_time": "2023-08-12T20:52:23.138456",
     "exception": false,
     "start_time": "2023-08-12T20:52:23.025345",
     "status": "completed"
    },
    "tags": []
   },
   "outputs": [],
   "source": [
    "# def submit_v3(selected_model=pipe_final):\n",
    "#     '''\n",
    "#     Note that \"selected_preprocessor\" is already used within selected_model or pipeline\n",
    "#     '''\n",
    "      \n",
    "#     # Predict on test.csv file\n",
    "#     merged_test = select_features(load_csv(\"test\"), load_csv(\"movies\"))\n",
    "#     X_test = merged_test.copy()\n",
    "    \n",
    "#     X_test = X_test[[\"audienceScore\", \"rating\", \"isFrequentReviewer\", \"reviewText\"]]    # This is a new line\n",
    "\n",
    "    \n",
    "#     y_pred = selected_model.predict(X_test)\n",
    "    \n",
    "#     pred_df = pd.DataFrame(y_pred)\n",
    "#     pred_df.columns = [\"sentiment\"]\n",
    "#     pred_df.index.name = \"id\"\n",
    "#     pred_df.to_csv(\"submission.csv\")\n",
    "    \n",
    "#     return \"Successfully created the submission file!!!\""
   ]
  },
  {
   "cell_type": "markdown",
   "id": "b6321b50",
   "metadata": {
    "papermill": {
     "duration": 0.104289,
     "end_time": "2023-08-12T20:52:23.347710",
     "exception": false,
     "start_time": "2023-08-12T20:52:23.243421",
     "status": "completed"
    },
    "tags": []
   },
   "source": [
    "### Uncomment to submit using v3 of submit function  "
   ]
  },
  {
   "cell_type": "code",
   "execution_count": 173,
   "id": "608befe7",
   "metadata": {
    "execution": {
     "iopub.execute_input": "2023-08-12T20:52:23.558541Z",
     "iopub.status.busy": "2023-08-12T20:52:23.557836Z",
     "iopub.status.idle": "2023-08-12T20:52:23.562357Z",
     "shell.execute_reply": "2023-08-12T20:52:23.561564Z"
    },
    "papermill": {
     "duration": 0.113529,
     "end_time": "2023-08-12T20:52:23.564502",
     "exception": false,
     "start_time": "2023-08-12T20:52:23.450973",
     "status": "completed"
    },
    "tags": []
   },
   "outputs": [],
   "source": [
    "# submit_v3(selected_model=pipe_best4)"
   ]
  },
  {
   "cell_type": "markdown",
   "id": "0f47ed3d",
   "metadata": {
    "papermill": {
     "duration": 0.11055,
     "end_time": "2023-08-12T20:52:23.783604",
     "exception": false,
     "start_time": "2023-08-12T20:52:23.673054",
     "status": "completed"
    },
    "tags": []
   },
   "source": [
    "## Rough work  "
   ]
  },
  {
   "cell_type": "code",
   "execution_count": 174,
   "id": "02228b06",
   "metadata": {
    "execution": {
     "iopub.execute_input": "2023-08-12T20:52:23.999491Z",
     "iopub.status.busy": "2023-08-12T20:52:23.998644Z",
     "iopub.status.idle": "2023-08-12T20:52:30.108760Z",
     "shell.execute_reply": "2023-08-12T20:52:30.107475Z"
    },
    "papermill": {
     "duration": 6.2191,
     "end_time": "2023-08-12T20:52:30.111934",
     "exception": false,
     "start_time": "2023-08-12T20:52:23.892834",
     "status": "completed"
    },
    "tags": []
   },
   "outputs": [],
   "source": [
    "    # Predict on test.csv file\n",
    "    merged_test = select_features(load_csv(\"test\"), load_csv(\"movies\"))\n",
    "    X_test = merged_test.copy()\n",
    "    \n",
    "    X_test = X_test[[\"audienceScore\", \"rating\", \"isFrequentReviewer\", \"reviewText\"]]    # This is a new line"
   ]
  },
  {
   "cell_type": "code",
   "execution_count": 175,
   "id": "32221fb5",
   "metadata": {
    "execution": {
     "iopub.execute_input": "2023-08-12T20:52:30.393494Z",
     "iopub.status.busy": "2023-08-12T20:52:30.393114Z",
     "iopub.status.idle": "2023-08-12T20:52:30.397371Z",
     "shell.execute_reply": "2023-08-12T20:52:30.396251Z"
    },
    "papermill": {
     "duration": 0.182776,
     "end_time": "2023-08-12T20:52:30.399864",
     "exception": false,
     "start_time": "2023-08-12T20:52:30.217088",
     "status": "completed"
    },
    "tags": []
   },
   "outputs": [],
   "source": [
    "# X_test.head()"
   ]
  },
  {
   "cell_type": "code",
   "execution_count": 176,
   "id": "d8eb38f8",
   "metadata": {
    "execution": {
     "iopub.execute_input": "2023-08-12T20:52:30.612272Z",
     "iopub.status.busy": "2023-08-12T20:52:30.611857Z",
     "iopub.status.idle": "2023-08-12T20:52:30.617097Z",
     "shell.execute_reply": "2023-08-12T20:52:30.615847Z"
    },
    "papermill": {
     "duration": 0.115222,
     "end_time": "2023-08-12T20:52:30.619323",
     "exception": false,
     "start_time": "2023-08-12T20:52:30.504101",
     "status": "completed"
    },
    "tags": []
   },
   "outputs": [],
   "source": [
    "# X_test['audienceScore'].describe()"
   ]
  },
  {
   "cell_type": "code",
   "execution_count": 177,
   "id": "64cbf044",
   "metadata": {
    "execution": {
     "iopub.execute_input": "2023-08-12T20:52:30.830345Z",
     "iopub.status.busy": "2023-08-12T20:52:30.829481Z",
     "iopub.status.idle": "2023-08-12T20:52:30.834198Z",
     "shell.execute_reply": "2023-08-12T20:52:30.833367Z"
    },
    "papermill": {
     "duration": 0.112405,
     "end_time": "2023-08-12T20:52:30.836339",
     "exception": false,
     "start_time": "2023-08-12T20:52:30.723934",
     "status": "completed"
    },
    "tags": []
   },
   "outputs": [],
   "source": [
    "# X_test['rating'].value_counts()"
   ]
  },
  {
   "cell_type": "code",
   "execution_count": 178,
   "id": "e4a45be8",
   "metadata": {
    "execution": {
     "iopub.execute_input": "2023-08-12T20:52:31.047756Z",
     "iopub.status.busy": "2023-08-12T20:52:31.046994Z",
     "iopub.status.idle": "2023-08-12T20:52:31.051639Z",
     "shell.execute_reply": "2023-08-12T20:52:31.050866Z"
    },
    "papermill": {
     "duration": 0.113537,
     "end_time": "2023-08-12T20:52:31.053863",
     "exception": false,
     "start_time": "2023-08-12T20:52:30.940326",
     "status": "completed"
    },
    "tags": []
   },
   "outputs": [],
   "source": [
    "# X_test['isFrequentReviewer'].value_counts()"
   ]
  },
  {
   "cell_type": "markdown",
   "id": "b1a2cf7f",
   "metadata": {
    "papermill": {
     "duration": 0.103424,
     "end_time": "2023-08-12T20:52:31.261028",
     "exception": false,
     "start_time": "2023-08-12T20:52:31.157604",
     "status": "completed"
    },
    "tags": []
   },
   "source": [
    "## Implement KNN classifier  "
   ]
  },
  {
   "cell_type": "code",
   "execution_count": 179,
   "id": "e3a1a7c0",
   "metadata": {
    "execution": {
     "iopub.execute_input": "2023-08-12T20:52:31.471552Z",
     "iopub.status.busy": "2023-08-12T20:52:31.470847Z",
     "iopub.status.idle": "2023-08-12T20:52:31.475610Z",
     "shell.execute_reply": "2023-08-12T20:52:31.474787Z"
    },
    "papermill": {
     "duration": 0.113479,
     "end_time": "2023-08-12T20:52:31.478022",
     "exception": false,
     "start_time": "2023-08-12T20:52:31.364543",
     "status": "completed"
    },
    "tags": []
   },
   "outputs": [],
   "source": [
    "# from sklearn.neighbors import KNeighborsClassifier"
   ]
  },
  {
   "cell_type": "code",
   "execution_count": 180,
   "id": "94e13be7",
   "metadata": {
    "execution": {
     "iopub.execute_input": "2023-08-12T20:52:31.688564Z",
     "iopub.status.busy": "2023-08-12T20:52:31.688195Z",
     "iopub.status.idle": "2023-08-12T20:52:31.692478Z",
     "shell.execute_reply": "2023-08-12T20:52:31.691397Z"
    },
    "papermill": {
     "duration": 0.11234,
     "end_time": "2023-08-12T20:52:31.694978",
     "exception": false,
     "start_time": "2023-08-12T20:52:31.582638",
     "status": "completed"
    },
    "tags": []
   },
   "outputs": [],
   "source": [
    "# Note that we are borrowing \"ct_final\" column transformer from above  "
   ]
  },
  {
   "cell_type": "code",
   "execution_count": 181,
   "id": "1a0b73b5",
   "metadata": {
    "execution": {
     "iopub.execute_input": "2023-08-12T20:52:31.905768Z",
     "iopub.status.busy": "2023-08-12T20:52:31.905109Z",
     "iopub.status.idle": "2023-08-12T20:52:31.909610Z",
     "shell.execute_reply": "2023-08-12T20:52:31.908859Z"
    },
    "papermill": {
     "duration": 0.112504,
     "end_time": "2023-08-12T20:52:31.911820",
     "exception": false,
     "start_time": "2023-08-12T20:52:31.799316",
     "status": "completed"
    },
    "tags": []
   },
   "outputs": [],
   "source": [
    "# pipe_knn = Pipeline(steps=[\n",
    "#                         (\"preprocessor\", ct_final),\n",
    "#                         (\"model\", KNeighborsClassifier())\n",
    "#                     ])\n",
    "# pipe_knn"
   ]
  },
  {
   "cell_type": "code",
   "execution_count": 182,
   "id": "70802b83",
   "metadata": {
    "execution": {
     "iopub.execute_input": "2023-08-12T20:52:32.121867Z",
     "iopub.status.busy": "2023-08-12T20:52:32.121135Z",
     "iopub.status.idle": "2023-08-12T20:52:32.125753Z",
     "shell.execute_reply": "2023-08-12T20:52:32.124899Z"
    },
    "papermill": {
     "duration": 0.112317,
     "end_time": "2023-08-12T20:52:32.127895",
     "exception": false,
     "start_time": "2023-08-12T20:52:32.015578",
     "status": "completed"
    },
    "tags": []
   },
   "outputs": [],
   "source": [
    "# Train and predict on merged training data  \n",
    "# split_train_predict(merged_train_features, merged_train_labels, pipe_knn, test_size=0.25, random_state=42)"
   ]
  },
  {
   "cell_type": "markdown",
   "id": "2f707ded",
   "metadata": {
    "papermill": {
     "duration": 0.104477,
     "end_time": "2023-08-12T20:52:32.337303",
     "exception": false,
     "start_time": "2023-08-12T20:52:32.232826",
     "status": "completed"
    },
    "tags": []
   },
   "source": [
    "# Part I (Older code)  "
   ]
  },
  {
   "cell_type": "markdown",
   "id": "b3334e69",
   "metadata": {
    "papermill": {
     "duration": 0.103237,
     "end_time": "2023-08-12T20:52:32.544517",
     "exception": false,
     "start_time": "2023-08-12T20:52:32.441280",
     "status": "completed"
    },
    "tags": []
   },
   "source": [
    "### Logistic Regression with stop words  "
   ]
  },
  {
   "cell_type": "code",
   "execution_count": 183,
   "id": "6f193aa8",
   "metadata": {
    "execution": {
     "iopub.execute_input": "2023-08-12T20:52:32.755423Z",
     "iopub.status.busy": "2023-08-12T20:52:32.754734Z",
     "iopub.status.idle": "2023-08-12T20:52:32.759185Z",
     "shell.execute_reply": "2023-08-12T20:52:32.758461Z"
    },
    "papermill": {
     "duration": 0.111972,
     "end_time": "2023-08-12T20:52:32.761199",
     "exception": false,
     "start_time": "2023-08-12T20:52:32.649227",
     "status": "completed"
    },
    "tags": []
   },
   "outputs": [],
   "source": [
    "# tvec_sw = TfidfVectorizer(stop_words=stop_words)"
   ]
  },
  {
   "cell_type": "code",
   "execution_count": 184,
   "id": "35e7924a",
   "metadata": {
    "execution": {
     "iopub.execute_input": "2023-08-12T20:52:32.972305Z",
     "iopub.status.busy": "2023-08-12T20:52:32.971620Z",
     "iopub.status.idle": "2023-08-12T20:52:32.976013Z",
     "shell.execute_reply": "2023-08-12T20:52:32.975186Z"
    },
    "papermill": {
     "duration": 0.112648,
     "end_time": "2023-08-12T20:52:32.978155",
     "exception": false,
     "start_time": "2023-08-12T20:52:32.865507",
     "status": "completed"
    },
    "tags": []
   },
   "outputs": [],
   "source": [
    "# logreg_sw_pipe = preprocess_n_train(X_train, y_train, tvec_sw, logreg)\n",
    "# logreg_sw_pipe"
   ]
  },
  {
   "cell_type": "code",
   "execution_count": 185,
   "id": "fbfcdc79",
   "metadata": {
    "execution": {
     "iopub.execute_input": "2023-08-12T20:52:33.190776Z",
     "iopub.status.busy": "2023-08-12T20:52:33.190067Z",
     "iopub.status.idle": "2023-08-12T20:52:33.194750Z",
     "shell.execute_reply": "2023-08-12T20:52:33.193946Z"
    },
    "papermill": {
     "duration": 0.114503,
     "end_time": "2023-08-12T20:52:33.196954",
     "exception": false,
     "start_time": "2023-08-12T20:52:33.082451",
     "status": "completed"
    },
    "tags": []
   },
   "outputs": [],
   "source": [
    "# y_pred_logreg_sw = predict_n_evaluate(logreg_sw_pipe, X_test, y_test)\n",
    "# y_pred_logreg_sw"
   ]
  },
  {
   "cell_type": "markdown",
   "id": "7895cb9d",
   "metadata": {
    "papermill": {
     "duration": 0.103815,
     "end_time": "2023-08-12T20:52:33.405007",
     "exception": false,
     "start_time": "2023-08-12T20:52:33.301192",
     "status": "completed"
    },
    "tags": []
   },
   "source": [
    "### Logistic regression with different ngram ranges  "
   ]
  },
  {
   "cell_type": "code",
   "execution_count": 186,
   "id": "0efad9e7",
   "metadata": {
    "execution": {
     "iopub.execute_input": "2023-08-12T20:52:33.614226Z",
     "iopub.status.busy": "2023-08-12T20:52:33.613546Z",
     "iopub.status.idle": "2023-08-12T20:52:33.618196Z",
     "shell.execute_reply": "2023-08-12T20:52:33.617247Z"
    },
    "papermill": {
     "duration": 0.11247,
     "end_time": "2023-08-12T20:52:33.620480",
     "exception": false,
     "start_time": "2023-08-12T20:52:33.508010",
     "status": "completed"
    },
    "tags": []
   },
   "outputs": [],
   "source": [
    "# tvec_ngram_2 = TfidfVectorizer(ngram_range=(1,2))"
   ]
  },
  {
   "cell_type": "code",
   "execution_count": 187,
   "id": "2754353f",
   "metadata": {
    "execution": {
     "iopub.execute_input": "2023-08-12T20:52:33.831400Z",
     "iopub.status.busy": "2023-08-12T20:52:33.830744Z",
     "iopub.status.idle": "2023-08-12T20:52:33.835130Z",
     "shell.execute_reply": "2023-08-12T20:52:33.834312Z"
    },
    "papermill": {
     "duration": 0.112496,
     "end_time": "2023-08-12T20:52:33.837256",
     "exception": false,
     "start_time": "2023-08-12T20:52:33.724760",
     "status": "completed"
    },
    "tags": []
   },
   "outputs": [],
   "source": [
    "# logreg_ng2_pipe = preprocess_n_train(X_train, y_train, tvec_ngram_2, logreg)\n",
    "# logreg_ng2_pipe"
   ]
  },
  {
   "cell_type": "code",
   "execution_count": 188,
   "id": "23380a43",
   "metadata": {
    "execution": {
     "iopub.execute_input": "2023-08-12T20:52:34.049458Z",
     "iopub.status.busy": "2023-08-12T20:52:34.048817Z",
     "iopub.status.idle": "2023-08-12T20:52:34.053488Z",
     "shell.execute_reply": "2023-08-12T20:52:34.052391Z"
    },
    "papermill": {
     "duration": 0.113761,
     "end_time": "2023-08-12T20:52:34.055914",
     "exception": false,
     "start_time": "2023-08-12T20:52:33.942153",
     "status": "completed"
    },
    "tags": []
   },
   "outputs": [],
   "source": [
    "# y_pred_logreg_ng2 = predict_n_evaluate(logreg_ng2_pipe, X_test, y_test)\n",
    "# y_pred_logreg_ng2"
   ]
  },
  {
   "cell_type": "markdown",
   "id": "174f73fe",
   "metadata": {
    "papermill": {
     "duration": 0.103826,
     "end_time": "2023-08-12T20:52:34.263861",
     "exception": false,
     "start_time": "2023-08-12T20:52:34.160035",
     "status": "completed"
    },
    "tags": []
   },
   "source": [
    "### Logistic regression with C=2, ngram range (1,2), stop words as None and min_df, max_df adjusted\n",
    "### Class weight balanced"
   ]
  },
  {
   "cell_type": "code",
   "execution_count": 189,
   "id": "2064d46a",
   "metadata": {
    "execution": {
     "iopub.execute_input": "2023-08-12T20:52:34.539409Z",
     "iopub.status.busy": "2023-08-12T20:52:34.538807Z",
     "iopub.status.idle": "2023-08-12T20:52:34.542760Z",
     "shell.execute_reply": "2023-08-12T20:52:34.542015Z"
    },
    "papermill": {
     "duration": 0.175414,
     "end_time": "2023-08-12T20:52:34.545024",
     "exception": false,
     "start_time": "2023-08-12T20:52:34.369610",
     "status": "completed"
    },
    "tags": []
   },
   "outputs": [],
   "source": [
    "# logreg = LogisticRegression(max_iter=100000, C=2, class_weight=\"balanced\")"
   ]
  },
  {
   "cell_type": "code",
   "execution_count": 190,
   "id": "eb01ce3e",
   "metadata": {
    "execution": {
     "iopub.execute_input": "2023-08-12T20:52:34.759188Z",
     "iopub.status.busy": "2023-08-12T20:52:34.758533Z",
     "iopub.status.idle": "2023-08-12T20:52:34.762256Z",
     "shell.execute_reply": "2023-08-12T20:52:34.761471Z"
    },
    "papermill": {
     "duration": 0.111952,
     "end_time": "2023-08-12T20:52:34.764419",
     "exception": false,
     "start_time": "2023-08-12T20:52:34.652467",
     "status": "completed"
    },
    "tags": []
   },
   "outputs": [],
   "source": [
    "# tvec_ngram_2_sw_df = TfidfVectorizer(ngram_range=(1,2), stop_words=None, min_df=0.0001, max_df=0.50)\n",
    "# tvec_ngram_2_sw_df"
   ]
  },
  {
   "cell_type": "code",
   "execution_count": 191,
   "id": "6a20a207",
   "metadata": {
    "execution": {
     "iopub.execute_input": "2023-08-12T20:52:34.975481Z",
     "iopub.status.busy": "2023-08-12T20:52:34.975086Z",
     "iopub.status.idle": "2023-08-12T20:52:34.979100Z",
     "shell.execute_reply": "2023-08-12T20:52:34.978133Z"
    },
    "papermill": {
     "duration": 0.113118,
     "end_time": "2023-08-12T20:52:34.981647",
     "exception": false,
     "start_time": "2023-08-12T20:52:34.868529",
     "status": "completed"
    },
    "tags": []
   },
   "outputs": [],
   "source": [
    "# logreg_ng2_sw_df_pipe = preprocess_n_train(X_train, y_train, tvec_ngram_2_sw_df, logreg)\n",
    "# logreg_ng2_sw_df_pipe"
   ]
  },
  {
   "cell_type": "code",
   "execution_count": 192,
   "id": "0b7a5aad",
   "metadata": {
    "execution": {
     "iopub.execute_input": "2023-08-12T20:52:35.194142Z",
     "iopub.status.busy": "2023-08-12T20:52:35.192859Z",
     "iopub.status.idle": "2023-08-12T20:52:35.198121Z",
     "shell.execute_reply": "2023-08-12T20:52:35.197279Z"
    },
    "papermill": {
     "duration": 0.113416,
     "end_time": "2023-08-12T20:52:35.200312",
     "exception": false,
     "start_time": "2023-08-12T20:52:35.086896",
     "status": "completed"
    },
    "tags": []
   },
   "outputs": [],
   "source": [
    "# y_pred_logreg_ng2_sw_df = predict_n_evaluate(logreg_ng2_sw_df_pipe, X_test, y_test)\n",
    "# y_pred_logreg_ng2_sw_df"
   ]
  },
  {
   "cell_type": "markdown",
   "id": "d20b8cf0",
   "metadata": {
    "papermill": {
     "duration": 0.120698,
     "end_time": "2023-08-12T20:52:35.429093",
     "exception": false,
     "start_time": "2023-08-12T20:52:35.308395",
     "status": "completed"
    },
    "tags": []
   },
   "source": [
    "### Log reg with parameters from GridSearchCV  \n",
    "\n",
    "`This is the best score with \"reviewText column alone for analysis`  "
   ]
  },
  {
   "cell_type": "code",
   "execution_count": 193,
   "id": "85e89e7f",
   "metadata": {
    "execution": {
     "iopub.execute_input": "2023-08-12T20:52:35.650586Z",
     "iopub.status.busy": "2023-08-12T20:52:35.649559Z",
     "iopub.status.idle": "2023-08-12T20:52:35.655358Z",
     "shell.execute_reply": "2023-08-12T20:52:35.654404Z"
    },
    "papermill": {
     "duration": 0.116296,
     "end_time": "2023-08-12T20:52:35.657808",
     "exception": false,
     "start_time": "2023-08-12T20:52:35.541512",
     "status": "completed"
    },
    "tags": []
   },
   "outputs": [],
   "source": [
    "logreg_cv1 = LogisticRegression(max_iter=100000, C=10)\n",
    "tvec_cv1 = TfidfVectorizer(max_features=None, ngram_range=(1,2))"
   ]
  },
  {
   "cell_type": "code",
   "execution_count": 194,
   "id": "a809c8be",
   "metadata": {
    "execution": {
     "iopub.execute_input": "2023-08-12T20:52:35.870110Z",
     "iopub.status.busy": "2023-08-12T20:52:35.869356Z",
     "iopub.status.idle": "2023-08-12T20:52:35.874478Z",
     "shell.execute_reply": "2023-08-12T20:52:35.873733Z"
    },
    "papermill": {
     "duration": 0.113346,
     "end_time": "2023-08-12T20:52:35.876726",
     "exception": false,
     "start_time": "2023-08-12T20:52:35.763380",
     "status": "completed"
    },
    "tags": []
   },
   "outputs": [],
   "source": [
    "pipe_cv1 = Pipeline(steps=[\n",
    "    (\"preprocessor\", tvec_cv1),\n",
    "    (\"model\", logreg_cv1)\n",
    "])"
   ]
  },
  {
   "cell_type": "code",
   "execution_count": 195,
   "id": "9db27766",
   "metadata": {
    "execution": {
     "iopub.execute_input": "2023-08-12T20:52:36.089047Z",
     "iopub.status.busy": "2023-08-12T20:52:36.088284Z",
     "iopub.status.idle": "2023-08-12T20:52:36.093038Z",
     "shell.execute_reply": "2023-08-12T20:52:36.092227Z"
    },
    "papermill": {
     "duration": 0.113358,
     "end_time": "2023-08-12T20:52:36.095172",
     "exception": false,
     "start_time": "2023-08-12T20:52:35.981814",
     "status": "completed"
    },
    "tags": []
   },
   "outputs": [],
   "source": [
    "# pipe_cv1.fit(X_train, y_train)"
   ]
  },
  {
   "cell_type": "code",
   "execution_count": 196,
   "id": "ada5c697",
   "metadata": {
    "execution": {
     "iopub.execute_input": "2023-08-12T20:52:36.306831Z",
     "iopub.status.busy": "2023-08-12T20:52:36.306362Z",
     "iopub.status.idle": "2023-08-12T20:52:36.311365Z",
     "shell.execute_reply": "2023-08-12T20:52:36.310047Z"
    },
    "papermill": {
     "duration": 0.113661,
     "end_time": "2023-08-12T20:52:36.313624",
     "exception": false,
     "start_time": "2023-08-12T20:52:36.199963",
     "status": "completed"
    },
    "tags": []
   },
   "outputs": [],
   "source": [
    "# pipe_cv1.score(X_train, y_train)"
   ]
  },
  {
   "cell_type": "markdown",
   "id": "ecdeaac0",
   "metadata": {
    "papermill": {
     "duration": 0.103934,
     "end_time": "2023-08-12T20:52:36.522325",
     "exception": false,
     "start_time": "2023-08-12T20:52:36.418391",
     "status": "completed"
    },
    "tags": []
   },
   "source": [
    "### SVM model with stop words  "
   ]
  },
  {
   "cell_type": "code",
   "execution_count": 197,
   "id": "79821f01",
   "metadata": {
    "execution": {
     "iopub.execute_input": "2023-08-12T20:52:36.734459Z",
     "iopub.status.busy": "2023-08-12T20:52:36.734057Z",
     "iopub.status.idle": "2023-08-12T20:52:36.738720Z",
     "shell.execute_reply": "2023-08-12T20:52:36.737664Z"
    },
    "papermill": {
     "duration": 0.112748,
     "end_time": "2023-08-12T20:52:36.740840",
     "exception": false,
     "start_time": "2023-08-12T20:52:36.628092",
     "status": "completed"
    },
    "tags": []
   },
   "outputs": [],
   "source": [
    "# svm_sw_pipe = preprocess_n_train(X_train, y_train, tvec_sw, svm)\n",
    "# svm_sw_pipe"
   ]
  },
  {
   "cell_type": "code",
   "execution_count": 198,
   "id": "0cc416f8",
   "metadata": {
    "execution": {
     "iopub.execute_input": "2023-08-12T20:52:36.951953Z",
     "iopub.status.busy": "2023-08-12T20:52:36.951263Z",
     "iopub.status.idle": "2023-08-12T20:52:36.955115Z",
     "shell.execute_reply": "2023-08-12T20:52:36.954334Z"
    },
    "papermill": {
     "duration": 0.111803,
     "end_time": "2023-08-12T20:52:36.957090",
     "exception": false,
     "start_time": "2023-08-12T20:52:36.845287",
     "status": "completed"
    },
    "tags": []
   },
   "outputs": [],
   "source": [
    "# y_pred_svm_sw = predict_n_evaluate(svm_sw_pipe, X_test, y_test)\n",
    "# y_pred_svm_sw"
   ]
  },
  {
   "cell_type": "markdown",
   "id": "ea3062a9",
   "metadata": {
    "papermill": {
     "duration": 0.103343,
     "end_time": "2023-08-12T20:52:37.165422",
     "exception": false,
     "start_time": "2023-08-12T20:52:37.062079",
     "status": "completed"
    },
    "tags": []
   },
   "source": [
    "### GaussianNB  "
   ]
  },
  {
   "cell_type": "markdown",
   "id": "d8ed2c09",
   "metadata": {
    "papermill": {
     "duration": 0.104339,
     "end_time": "2023-08-12T20:52:37.374488",
     "exception": false,
     "start_time": "2023-08-12T20:52:37.270149",
     "status": "completed"
    },
    "tags": []
   },
   "source": [
    "https://stackoverflow.com/questions/28384680/scikit-learns-pipeline-a-sparse-matrix-was-passed-but-dense-data-is-required"
   ]
  },
  {
   "cell_type": "code",
   "execution_count": 199,
   "id": "1d1b3ec5",
   "metadata": {
    "execution": {
     "iopub.execute_input": "2023-08-12T20:52:37.583638Z",
     "iopub.status.busy": "2023-08-12T20:52:37.582920Z",
     "iopub.status.idle": "2023-08-12T20:52:37.586833Z",
     "shell.execute_reply": "2023-08-12T20:52:37.585962Z"
    },
    "papermill": {
     "duration": 0.110953,
     "end_time": "2023-08-12T20:52:37.588975",
     "exception": false,
     "start_time": "2023-08-12T20:52:37.478022",
     "status": "completed"
    },
    "tags": []
   },
   "outputs": [],
   "source": [
    "# gnb = GaussianNB()\n",
    "# gnb"
   ]
  },
  {
   "cell_type": "code",
   "execution_count": 200,
   "id": "1eff2507",
   "metadata": {
    "execution": {
     "iopub.execute_input": "2023-08-12T20:52:37.799492Z",
     "iopub.status.busy": "2023-08-12T20:52:37.799064Z",
     "iopub.status.idle": "2023-08-12T20:52:37.803841Z",
     "shell.execute_reply": "2023-08-12T20:52:37.802730Z"
    },
    "papermill": {
     "duration": 0.111447,
     "end_time": "2023-08-12T20:52:37.805975",
     "exception": false,
     "start_time": "2023-08-12T20:52:37.694528",
     "status": "completed"
    },
    "tags": []
   },
   "outputs": [],
   "source": [
    "# gnb_pipe = preprocess_n_train(X_train, y_train, tvec, gnb)\n",
    "# gnb_pipe"
   ]
  },
  {
   "cell_type": "markdown",
   "id": "2a87e1f8",
   "metadata": {
    "papermill": {
     "duration": 0.10434,
     "end_time": "2023-08-12T20:52:38.013921",
     "exception": false,
     "start_time": "2023-08-12T20:52:37.909581",
     "status": "completed"
    },
    "tags": []
   },
   "source": [
    "# Part II (Older code)  \n"
   ]
  },
  {
   "cell_type": "markdown",
   "id": "a144609d",
   "metadata": {
    "papermill": {
     "duration": 0.105344,
     "end_time": "2023-08-12T20:52:38.223260",
     "exception": false,
     "start_time": "2023-08-12T20:52:38.117916",
     "status": "completed"
    },
    "tags": []
   },
   "source": [
    "### Separate features and labels from merged dataset  "
   ]
  },
  {
   "cell_type": "code",
   "execution_count": 201,
   "id": "73b0e9de",
   "metadata": {
    "execution": {
     "iopub.execute_input": "2023-08-12T20:52:38.433381Z",
     "iopub.status.busy": "2023-08-12T20:52:38.432034Z",
     "iopub.status.idle": "2023-08-12T20:52:38.437374Z",
     "shell.execute_reply": "2023-08-12T20:52:38.436592Z"
    },
    "papermill": {
     "duration": 0.112034,
     "end_time": "2023-08-12T20:52:38.439507",
     "exception": false,
     "start_time": "2023-08-12T20:52:38.327473",
     "status": "completed"
    },
    "tags": []
   },
   "outputs": [],
   "source": [
    "# merged_train_features = merged[['movieid', 'reviewerName', 'isFrequentReviewer', 'reviewText',\n",
    "#        'audienceScore', 'rating', 'runtimeMinutes', 'genre',\n",
    "#        'originalLanguage', 'director']]\n",
    "# merged_train_features.shape"
   ]
  },
  {
   "cell_type": "code",
   "execution_count": 202,
   "id": "ce322322",
   "metadata": {
    "execution": {
     "iopub.execute_input": "2023-08-12T20:52:38.651360Z",
     "iopub.status.busy": "2023-08-12T20:52:38.650693Z",
     "iopub.status.idle": "2023-08-12T20:52:38.655015Z",
     "shell.execute_reply": "2023-08-12T20:52:38.654079Z"
    },
    "papermill": {
     "duration": 0.113665,
     "end_time": "2023-08-12T20:52:38.657322",
     "exception": false,
     "start_time": "2023-08-12T20:52:38.543657",
     "status": "completed"
    },
    "tags": []
   },
   "outputs": [],
   "source": [
    "# merged_train_labels = merged[\"sentiment\"]\n",
    "# merged_train_labels.shape"
   ]
  },
  {
   "cell_type": "markdown",
   "id": "67ce250f",
   "metadata": {
    "papermill": {
     "duration": 0.103892,
     "end_time": "2023-08-12T20:52:38.865310",
     "exception": false,
     "start_time": "2023-08-12T20:52:38.761418",
     "status": "completed"
    },
    "tags": []
   },
   "source": [
    "### Identify variable types for different preprocessing pipes  "
   ]
  },
  {
   "cell_type": "code",
   "execution_count": 203,
   "id": "7082ee96",
   "metadata": {
    "execution": {
     "iopub.execute_input": "2023-08-12T20:52:39.076226Z",
     "iopub.status.busy": "2023-08-12T20:52:39.075798Z",
     "iopub.status.idle": "2023-08-12T20:52:39.080414Z",
     "shell.execute_reply": "2023-08-12T20:52:39.079312Z"
    },
    "papermill": {
     "duration": 0.113195,
     "end_time": "2023-08-12T20:52:39.082832",
     "exception": false,
     "start_time": "2023-08-12T20:52:38.969637",
     "status": "completed"
    },
    "tags": []
   },
   "outputs": [],
   "source": [
    "# num_vars = [\"audienceScore\", \"runtimeMinutes\"]\n",
    "# txt_vars = [\"originalLanguage\", \"genre\", \"director\", \"reviewerName\", \"reviewText\"]\n",
    "# cat_vars = [\"rating\", \"isFrequentReviewer\"]"
   ]
  },
  {
   "cell_type": "code",
   "execution_count": 204,
   "id": "fc962793",
   "metadata": {
    "execution": {
     "iopub.execute_input": "2023-08-12T20:52:39.295283Z",
     "iopub.status.busy": "2023-08-12T20:52:39.294897Z",
     "iopub.status.idle": "2023-08-12T20:52:39.299256Z",
     "shell.execute_reply": "2023-08-12T20:52:39.298241Z"
    },
    "papermill": {
     "duration": 0.113388,
     "end_time": "2023-08-12T20:52:39.301433",
     "exception": false,
     "start_time": "2023-08-12T20:52:39.188045",
     "status": "completed"
    },
    "tags": []
   },
   "outputs": [],
   "source": [
    "# num_pipe = Pipeline(steps=[\n",
    "#                             (\"imputer\", SimpleImputer(strategy=\"mean\", missing_values=np.nan)),\n",
    "#                             (\"scaler\", MinMaxScaler())\n",
    "#                         ])\n",
    "# num_pipe"
   ]
  },
  {
   "cell_type": "code",
   "execution_count": 205,
   "id": "a70651ee",
   "metadata": {
    "execution": {
     "iopub.execute_input": "2023-08-12T20:52:39.511099Z",
     "iopub.status.busy": "2023-08-12T20:52:39.510468Z",
     "iopub.status.idle": "2023-08-12T20:52:39.514146Z",
     "shell.execute_reply": "2023-08-12T20:52:39.513428Z"
    },
    "papermill": {
     "duration": 0.110864,
     "end_time": "2023-08-12T20:52:39.516112",
     "exception": false,
     "start_time": "2023-08-12T20:52:39.405248",
     "status": "completed"
    },
    "tags": []
   },
   "outputs": [],
   "source": [
    "# txt_pipe = Pipeline(steps=[\n",
    "#                             (\"tvec\", TfidfVectorizer())\n",
    "#                         ])\n",
    "# txt_pipe"
   ]
  },
  {
   "cell_type": "code",
   "execution_count": 206,
   "id": "78269e3d",
   "metadata": {
    "execution": {
     "iopub.execute_input": "2023-08-12T20:52:39.793836Z",
     "iopub.status.busy": "2023-08-12T20:52:39.792830Z",
     "iopub.status.idle": "2023-08-12T20:52:39.797549Z",
     "shell.execute_reply": "2023-08-12T20:52:39.796686Z"
    },
    "papermill": {
     "duration": 0.111982,
     "end_time": "2023-08-12T20:52:39.799771",
     "exception": false,
     "start_time": "2023-08-12T20:52:39.687789",
     "status": "completed"
    },
    "tags": []
   },
   "outputs": [],
   "source": [
    "# cat_pipe = Pipeline(steps=[\n",
    "#                             (\"ohe\", OneHotEncoder(handle_unknown=\"ignore\"))\n",
    "#                         ])\n",
    "# cat_pipe"
   ]
  },
  {
   "cell_type": "code",
   "execution_count": 207,
   "id": "f69b7b9f",
   "metadata": {
    "execution": {
     "iopub.execute_input": "2023-08-12T20:52:40.011620Z",
     "iopub.status.busy": "2023-08-12T20:52:40.011180Z",
     "iopub.status.idle": "2023-08-12T20:52:40.015700Z",
     "shell.execute_reply": "2023-08-12T20:52:40.014617Z"
    },
    "papermill": {
     "duration": 0.114663,
     "end_time": "2023-08-12T20:52:40.018210",
     "exception": false,
     "start_time": "2023-08-12T20:52:39.903547",
     "status": "completed"
    },
    "tags": []
   },
   "outputs": [],
   "source": [
    "# tfidf_vec_1 = TfidfVectorizer(ngram_range=(1,2))\n",
    "# tfidf_vec_1"
   ]
  },
  {
   "cell_type": "code",
   "execution_count": 208,
   "id": "5e0df918",
   "metadata": {
    "execution": {
     "iopub.execute_input": "2023-08-12T20:52:40.229491Z",
     "iopub.status.busy": "2023-08-12T20:52:40.229098Z",
     "iopub.status.idle": "2023-08-12T20:52:40.234610Z",
     "shell.execute_reply": "2023-08-12T20:52:40.233264Z"
    },
    "papermill": {
     "duration": 0.113537,
     "end_time": "2023-08-12T20:52:40.236882",
     "exception": false,
     "start_time": "2023-08-12T20:52:40.123345",
     "status": "completed"
    },
    "tags": []
   },
   "outputs": [],
   "source": [
    "# ct_final = ColumnTransformer(transformers=[\n",
    "#                                         (\"num\", num_pipe, num_vars),\n",
    "#                                         (\"txt1\", txt_pipe, \"originalLanguage\"),\n",
    "#                                         (\"txt2\", txt_pipe, \"genre\"),\n",
    "#                                         (\"txt3\", txt_pipe, \"director\"),\n",
    "#                                         (\"cat\", cat_pipe, cat_vars),\n",
    "#                                         (\"txt4a\", tfidf_vec_1, \"reviewText\")\n",
    "# #                                         (\"txt4\", TfidfVectorizer(ngram_range=(1,2)), \"reviewText\"),\n",
    "# #                                         (\"cat2\", cat_pipe, [\"isFrequentReviewer\"])\n",
    "#                                         ], remainder=\"drop\", n_jobs=1)\n",
    "\n",
    "# # Note that this transformer drops \"movieid\" column and \"reviewerName\" column  \n",
    "# ct_final"
   ]
  },
  {
   "cell_type": "code",
   "execution_count": 209,
   "id": "575c150c",
   "metadata": {
    "execution": {
     "iopub.execute_input": "2023-08-12T20:52:40.452762Z",
     "iopub.status.busy": "2023-08-12T20:52:40.452318Z",
     "iopub.status.idle": "2023-08-12T20:52:40.457220Z",
     "shell.execute_reply": "2023-08-12T20:52:40.456081Z"
    },
    "papermill": {
     "duration": 0.116217,
     "end_time": "2023-08-12T20:52:40.459505",
     "exception": false,
     "start_time": "2023-08-12T20:52:40.343288",
     "status": "completed"
    },
    "tags": []
   },
   "outputs": [],
   "source": [
    "# pipe_final = Pipeline(steps=[\n",
    "#                         (\"preprocessor\", ct_final),\n",
    "#                         (\"model\", LogisticRegression(max_iter=100000))\n",
    "#                     ])\n",
    "# pipe_final"
   ]
  },
  {
   "cell_type": "code",
   "execution_count": 210,
   "id": "f9f44dd7",
   "metadata": {
    "execution": {
     "iopub.execute_input": "2023-08-12T20:52:40.671722Z",
     "iopub.status.busy": "2023-08-12T20:52:40.671297Z",
     "iopub.status.idle": "2023-08-12T20:52:40.675942Z",
     "shell.execute_reply": "2023-08-12T20:52:40.674807Z"
    },
    "papermill": {
     "duration": 0.115046,
     "end_time": "2023-08-12T20:52:40.678391",
     "exception": false,
     "start_time": "2023-08-12T20:52:40.563345",
     "status": "completed"
    },
    "tags": []
   },
   "outputs": [],
   "source": [
    "# final_vars = num_vars + txt_vars + cat_vars\n",
    "# len(final_vars), final_vars"
   ]
  },
  {
   "cell_type": "markdown",
   "id": "e9d376cf",
   "metadata": {
    "papermill": {
     "duration": 0.104147,
     "end_time": "2023-08-12T20:52:40.886589",
     "exception": false,
     "start_time": "2023-08-12T20:52:40.782442",
     "status": "completed"
    },
    "tags": []
   },
   "source": [
    "### Use \"split_train_predict\" function to run end-to-end pipeline  "
   ]
  },
  {
   "cell_type": "code",
   "execution_count": 211,
   "id": "9cfc0a35",
   "metadata": {
    "execution": {
     "iopub.execute_input": "2023-08-12T20:52:41.097404Z",
     "iopub.status.busy": "2023-08-12T20:52:41.096997Z",
     "iopub.status.idle": "2023-08-12T20:52:41.101707Z",
     "shell.execute_reply": "2023-08-12T20:52:41.100652Z"
    },
    "papermill": {
     "duration": 0.11297,
     "end_time": "2023-08-12T20:52:41.104119",
     "exception": false,
     "start_time": "2023-08-12T20:52:40.991149",
     "status": "completed"
    },
    "tags": []
   },
   "outputs": [],
   "source": [
    "# split_train_predict(merged_train_features, merged_train_labels, pipe_final, test_size=0.25, random_state=42)"
   ]
  },
  {
   "cell_type": "markdown",
   "id": "1691b351",
   "metadata": {
    "papermill": {
     "duration": 0.103411,
     "end_time": "2023-08-12T20:52:41.313424",
     "exception": false,
     "start_time": "2023-08-12T20:52:41.210013",
     "status": "completed"
    },
    "tags": []
   },
   "source": [
    "## Try the best four features obtained on local machine  "
   ]
  },
  {
   "cell_type": "code",
   "execution_count": 212,
   "id": "1bbdc03d",
   "metadata": {
    "execution": {
     "iopub.execute_input": "2023-08-12T20:52:41.521539Z",
     "iopub.status.busy": "2023-08-12T20:52:41.521150Z",
     "iopub.status.idle": "2023-08-12T20:52:41.525834Z",
     "shell.execute_reply": "2023-08-12T20:52:41.524768Z"
    },
    "papermill": {
     "duration": 0.1114,
     "end_time": "2023-08-12T20:52:41.528042",
     "exception": false,
     "start_time": "2023-08-12T20:52:41.416642",
     "status": "completed"
    },
    "tags": []
   },
   "outputs": [],
   "source": [
    "# tfidf_vec_2 = TfidfVectorizer(ngram_range=(1,2))\n",
    "# tfidf_vec_2"
   ]
  },
  {
   "cell_type": "code",
   "execution_count": 213,
   "id": "9dd867ec",
   "metadata": {
    "execution": {
     "iopub.execute_input": "2023-08-12T20:52:41.740605Z",
     "iopub.status.busy": "2023-08-12T20:52:41.739881Z",
     "iopub.status.idle": "2023-08-12T20:52:41.744268Z",
     "shell.execute_reply": "2023-08-12T20:52:41.743470Z"
    },
    "papermill": {
     "duration": 0.11155,
     "end_time": "2023-08-12T20:52:41.746255",
     "exception": false,
     "start_time": "2023-08-12T20:52:41.634705",
     "status": "completed"
    },
    "tags": []
   },
   "outputs": [],
   "source": [
    "# ct_best4 = ColumnTransformer(transformers=[\n",
    "#                                             (\"num\", num_pipe, [\"audienceScore\"]),\n",
    "#                                             (\"cat\", cat_pipe, [\"rating\", \"isFrequentReviewer\"]),\n",
    "#                                             (\"tvec\", tfidf_vec_2, \"reviewText\")\n",
    "#                             ])\n",
    "\n",
    "# pipe_best4 = Pipeline(steps=[\n",
    "#     (\"preprocessor\", ct_best4),\n",
    "#     (\"model\", LogisticRegression())\n",
    "# ])\n",
    "\n",
    "# pipe_best4.set_params(model__C=10, model__max_iter=100000)\n",
    "\n",
    "# pipe_best4"
   ]
  },
  {
   "cell_type": "code",
   "execution_count": 214,
   "id": "87c9131c",
   "metadata": {
    "execution": {
     "iopub.execute_input": "2023-08-12T20:52:41.957663Z",
     "iopub.status.busy": "2023-08-12T20:52:41.956939Z",
     "iopub.status.idle": "2023-08-12T20:52:41.961210Z",
     "shell.execute_reply": "2023-08-12T20:52:41.960188Z"
    },
    "papermill": {
     "duration": 0.113037,
     "end_time": "2023-08-12T20:52:41.963605",
     "exception": false,
     "start_time": "2023-08-12T20:52:41.850568",
     "status": "completed"
    },
    "tags": []
   },
   "outputs": [],
   "source": [
    "# split_train_predict(merged[[\"audienceScore\", \"rating\", \"isFrequentReviewer\", \"reviewText\"]], merged[\"sentiment\"], pipe_best4, test_size=0.25)"
   ]
  },
  {
   "cell_type": "markdown",
   "id": "d872709e",
   "metadata": {
    "papermill": {
     "duration": 0.104445,
     "end_time": "2023-08-12T20:52:42.173987",
     "exception": false,
     "start_time": "2023-08-12T20:52:42.069542",
     "status": "completed"
    },
    "tags": []
   },
   "source": [
    "## Try only 'reviewText' column  "
   ]
  },
  {
   "cell_type": "code",
   "execution_count": 215,
   "id": "543058e2",
   "metadata": {
    "execution": {
     "iopub.execute_input": "2023-08-12T20:52:42.386623Z",
     "iopub.status.busy": "2023-08-12T20:52:42.386196Z",
     "iopub.status.idle": "2023-08-12T20:52:42.390828Z",
     "shell.execute_reply": "2023-08-12T20:52:42.389736Z"
    },
    "papermill": {
     "duration": 0.113668,
     "end_time": "2023-08-12T20:52:42.392922",
     "exception": false,
     "start_time": "2023-08-12T20:52:42.279254",
     "status": "completed"
    },
    "tags": []
   },
   "outputs": [],
   "source": [
    "# tfidf_vec_3 = TfidfVectorizer(ngram_range=(1,2))\n",
    "# tfidf_vec_3"
   ]
  },
  {
   "cell_type": "code",
   "execution_count": 216,
   "id": "fd9cfb54",
   "metadata": {
    "execution": {
     "iopub.execute_input": "2023-08-12T20:52:42.606808Z",
     "iopub.status.busy": "2023-08-12T20:52:42.606163Z",
     "iopub.status.idle": "2023-08-12T20:52:42.610294Z",
     "shell.execute_reply": "2023-08-12T20:52:42.609227Z"
    },
    "papermill": {
     "duration": 0.11326,
     "end_time": "2023-08-12T20:52:42.612436",
     "exception": false,
     "start_time": "2023-08-12T20:52:42.499176",
     "status": "completed"
    },
    "tags": []
   },
   "outputs": [],
   "source": [
    "# ct_RTonly = ColumnTransformer(transformers=[\n",
    "#                                             ('txt', tfidf_vec_3, 'reviewText'),\n",
    "#                                             ], remainder='drop')\n",
    "# ct_RTonly"
   ]
  },
  {
   "cell_type": "code",
   "execution_count": 217,
   "id": "ee875124",
   "metadata": {
    "execution": {
     "iopub.execute_input": "2023-08-12T20:52:42.824841Z",
     "iopub.status.busy": "2023-08-12T20:52:42.824382Z",
     "iopub.status.idle": "2023-08-12T20:52:42.828889Z",
     "shell.execute_reply": "2023-08-12T20:52:42.827769Z"
    },
    "papermill": {
     "duration": 0.113171,
     "end_time": "2023-08-12T20:52:42.831229",
     "exception": false,
     "start_time": "2023-08-12T20:52:42.718058",
     "status": "completed"
    },
    "tags": []
   },
   "outputs": [],
   "source": [
    "# pipe_RTonly = Pipeline(steps=[\n",
    "#     (\"preprocessor\", ct_RTonly),\n",
    "#     (\"model\", LogisticRegression())\n",
    "# ])\n",
    "\n",
    "# pipe_RTonly.set_params(model__C=10, model__max_iter=100000)\n",
    "\n",
    "# pipe_RTonly"
   ]
  },
  {
   "cell_type": "markdown",
   "id": "74e1f6c0",
   "metadata": {
    "papermill": {
     "duration": 0.104797,
     "end_time": "2023-08-12T20:52:43.040559",
     "exception": false,
     "start_time": "2023-08-12T20:52:42.935762",
     "status": "completed"
    },
    "tags": []
   },
   "source": [
    "## Using the 'submit_v4' function  "
   ]
  },
  {
   "cell_type": "markdown",
   "id": "37713a8c",
   "metadata": {
    "papermill": {
     "duration": 0.105614,
     "end_time": "2023-08-12T20:52:43.251261",
     "exception": false,
     "start_time": "2023-08-12T20:52:43.145647",
     "status": "completed"
    },
    "tags": []
   },
   "source": [
    "### Try the best 4 parameters with submit_v4 function"
   ]
  },
  {
   "cell_type": "code",
   "execution_count": 218,
   "id": "e3c732dc",
   "metadata": {
    "execution": {
     "iopub.execute_input": "2023-08-12T20:52:43.462542Z",
     "iopub.status.busy": "2023-08-12T20:52:43.462150Z",
     "iopub.status.idle": "2023-08-12T20:52:43.467322Z",
     "shell.execute_reply": "2023-08-12T20:52:43.466019Z"
    },
    "papermill": {
     "duration": 0.114448,
     "end_time": "2023-08-12T20:52:43.469595",
     "exception": false,
     "start_time": "2023-08-12T20:52:43.355147",
     "status": "completed"
    },
    "tags": []
   },
   "outputs": [],
   "source": [
    "# best4 = [\"audienceScore\", \"rating\", \"isFrequentReviewer\", \"reviewText\"]\n",
    "\n",
    "# best4_dict = {'cat': [\"rating\", \"isFrequentReviewer\"],\n",
    "#              'num': [\"audienceScore\"],\n",
    "#              'txt': ['reviewText']}\n",
    "\n",
    "# best4_dict = {'num': [\"audienceScore\"],\n",
    "#              'txt': ['reviewText', 'movieid', 'director']}\n",
    "\n",
    "# best4_dict"
   ]
  },
  {
   "cell_type": "code",
   "execution_count": 219,
   "id": "e6be2b02",
   "metadata": {
    "execution": {
     "iopub.execute_input": "2023-08-12T20:52:43.680461Z",
     "iopub.status.busy": "2023-08-12T20:52:43.680072Z",
     "iopub.status.idle": "2023-08-12T20:52:43.685009Z",
     "shell.execute_reply": "2023-08-12T20:52:43.683800Z"
    },
    "papermill": {
     "duration": 0.113306,
     "end_time": "2023-08-12T20:52:43.687213",
     "exception": false,
     "start_time": "2023-08-12T20:52:43.573907",
     "status": "completed"
    },
    "tags": []
   },
   "outputs": [],
   "source": [
    "# submit_v4(selected_features=best4_dict)"
   ]
  },
  {
   "cell_type": "markdown",
   "id": "6ab277aa",
   "metadata": {
    "papermill": {
     "duration": 0.1039,
     "end_time": "2023-08-12T20:52:43.894604",
     "exception": false,
     "start_time": "2023-08-12T20:52:43.790704",
     "status": "completed"
    },
    "tags": []
   },
   "source": [
    "### Try the best 3 parameters with submit_v4 function"
   ]
  },
  {
   "cell_type": "code",
   "execution_count": 220,
   "id": "da39e5f2",
   "metadata": {
    "execution": {
     "iopub.execute_input": "2023-08-12T20:52:44.107075Z",
     "iopub.status.busy": "2023-08-12T20:52:44.106295Z",
     "iopub.status.idle": "2023-08-12T20:52:44.110949Z",
     "shell.execute_reply": "2023-08-12T20:52:44.109978Z"
    },
    "papermill": {
     "duration": 0.114551,
     "end_time": "2023-08-12T20:52:44.113318",
     "exception": false,
     "start_time": "2023-08-12T20:52:43.998767",
     "status": "completed"
    },
    "tags": []
   },
   "outputs": [],
   "source": [
    "# best3 = [\"audienceScore\", \"isFrequentReviewer\", \"reviewText\"]\n",
    "# best3_dict = {'cat': [\"isFrequentReviewer\"],\n",
    "#              'num': [\"audienceScore\"],\n",
    "#              'txt': ['reviewText']}\n",
    "# best3_dict"
   ]
  },
  {
   "cell_type": "code",
   "execution_count": 221,
   "id": "f1a1a1db",
   "metadata": {
    "execution": {
     "iopub.execute_input": "2023-08-12T20:52:44.326179Z",
     "iopub.status.busy": "2023-08-12T20:52:44.325453Z",
     "iopub.status.idle": "2023-08-12T20:52:44.329863Z",
     "shell.execute_reply": "2023-08-12T20:52:44.328870Z"
    },
    "papermill": {
     "duration": 0.113621,
     "end_time": "2023-08-12T20:52:44.332052",
     "exception": false,
     "start_time": "2023-08-12T20:52:44.218431",
     "status": "completed"
    },
    "tags": []
   },
   "outputs": [],
   "source": [
    "# submit_v4(selected_features=best3_dict)"
   ]
  },
  {
   "cell_type": "markdown",
   "id": "4117e7f8",
   "metadata": {
    "papermill": {
     "duration": 0.103598,
     "end_time": "2023-08-12T20:52:44.539241",
     "exception": false,
     "start_time": "2023-08-12T20:52:44.435643",
     "status": "completed"
    },
    "tags": []
   },
   "source": [
    "## Try throwing almost everything (no boxOffice) at submit_v4!  "
   ]
  },
  {
   "cell_type": "code",
   "execution_count": 222,
   "id": "ab9780af",
   "metadata": {
    "execution": {
     "iopub.execute_input": "2023-08-12T20:52:44.751217Z",
     "iopub.status.busy": "2023-08-12T20:52:44.750142Z",
     "iopub.status.idle": "2023-08-12T20:52:44.757818Z",
     "shell.execute_reply": "2023-08-12T20:52:44.756764Z"
    },
    "papermill": {
     "duration": 0.115477,
     "end_time": "2023-08-12T20:52:44.760115",
     "exception": false,
     "start_time": "2023-08-12T20:52:44.644638",
     "status": "completed"
    },
    "tags": []
   },
   "outputs": [
    {
     "data": {
      "text/plain": [
       "\"Most from merged = ['movieid', 'reviewerName', 'isFrequentReviewer', 'reviewText',\\n       'audienceScore', 'rating', 'runtimeMinutes', 'genre', \\n       'originalLanguage', 'director']\""
      ]
     },
     "execution_count": 222,
     "metadata": {},
     "output_type": "execute_result"
    }
   ],
   "source": [
    "\"\"\"Most from merged = ['movieid', 'reviewerName', 'isFrequentReviewer', 'reviewText',\n",
    "       'audienceScore', 'rating', 'runtimeMinutes', 'genre', \n",
    "       'originalLanguage', 'director']\"\"\"\n",
    "\n",
    "# almost_dict = {'cat': [\"isFrequentReviewer\", \"rating\", \"originalLanguage\"],\n",
    "#              'num': [\"audienceScore\", \"runtimeMinutes\"],\n",
    "#              'txt': ['reviewText', 'reviewerName', 'movieid', 'genre', 'director']}\n",
    "# almost_dict"
   ]
  },
  {
   "cell_type": "code",
   "execution_count": 223,
   "id": "d5e0b67c",
   "metadata": {
    "execution": {
     "iopub.execute_input": "2023-08-12T20:52:44.972280Z",
     "iopub.status.busy": "2023-08-12T20:52:44.971451Z",
     "iopub.status.idle": "2023-08-12T20:52:44.976301Z",
     "shell.execute_reply": "2023-08-12T20:52:44.975521Z"
    },
    "papermill": {
     "duration": 0.113437,
     "end_time": "2023-08-12T20:52:44.978582",
     "exception": false,
     "start_time": "2023-08-12T20:52:44.865145",
     "status": "completed"
    },
    "tags": []
   },
   "outputs": [],
   "source": [
    "# submit_v4(selected_features=almost_dict)"
   ]
  },
  {
   "cell_type": "markdown",
   "id": "229ef812",
   "metadata": {
    "papermill": {
     "duration": 0.108204,
     "end_time": "2023-08-12T20:52:45.193989",
     "exception": false,
     "start_time": "2023-08-12T20:52:45.085785",
     "status": "completed"
    },
    "tags": []
   },
   "source": [
    "## Try throwing everything possible at submit_v4!  "
   ]
  },
  {
   "cell_type": "code",
   "execution_count": 224,
   "id": "8da6a2dc",
   "metadata": {
    "execution": {
     "iopub.execute_input": "2023-08-12T20:52:45.424439Z",
     "iopub.status.busy": "2023-08-12T20:52:45.424002Z",
     "iopub.status.idle": "2023-08-12T20:52:45.433045Z",
     "shell.execute_reply": "2023-08-12T20:52:45.431928Z"
    },
    "papermill": {
     "duration": 0.131614,
     "end_time": "2023-08-12T20:52:45.436159",
     "exception": false,
     "start_time": "2023-08-12T20:52:45.304545",
     "status": "completed"
    },
    "tags": []
   },
   "outputs": [
    {
     "data": {
      "text/plain": [
       "\"All from merged = ['movieid', 'reviewerName', 'isFrequentReviewer', 'reviewText',\\n       'audienceScore', 'rating', 'runtimeMinutes', 'genre', 'boxOffice',\\n       'originalLanguage', 'director']\""
      ]
     },
     "execution_count": 224,
     "metadata": {},
     "output_type": "execute_result"
    }
   ],
   "source": [
    "\"\"\"All from merged = ['movieid', 'reviewerName', 'isFrequentReviewer', 'reviewText',\n",
    "       'audienceScore', 'rating', 'runtimeMinutes', 'genre', 'boxOffice',\n",
    "       'originalLanguage', 'director']\"\"\"\n",
    "\n",
    "# all_dict = {'cat': [\"isFrequentReviewer\", \"rating\", \"originalLanguage\"],\n",
    "#              'num': [\"audienceScore\", \"runtimeMinutes\", \"boxOffice\"],\n",
    "#              'txt': ['reviewText', 'reviewerName', 'movieid', 'genre', 'director']}\n",
    "# all_dict"
   ]
  },
  {
   "cell_type": "code",
   "execution_count": 225,
   "id": "bec28a53",
   "metadata": {
    "execution": {
     "iopub.execute_input": "2023-08-12T20:52:45.656606Z",
     "iopub.status.busy": "2023-08-12T20:52:45.655834Z",
     "iopub.status.idle": "2023-08-12T20:52:45.660408Z",
     "shell.execute_reply": "2023-08-12T20:52:45.659687Z"
    },
    "papermill": {
     "duration": 0.113515,
     "end_time": "2023-08-12T20:52:45.662636",
     "exception": false,
     "start_time": "2023-08-12T20:52:45.549121",
     "status": "completed"
    },
    "tags": []
   },
   "outputs": [],
   "source": [
    "# submit_v4(selected_features=all_dict)"
   ]
  },
  {
   "cell_type": "markdown",
   "id": "af2949e1",
   "metadata": {
    "papermill": {
     "duration": 0.107277,
     "end_time": "2023-08-12T20:52:45.875227",
     "exception": false,
     "start_time": "2023-08-12T20:52:45.767950",
     "status": "completed"
    },
    "tags": []
   },
   "source": [
    "## Try GridSearchCV on everything  "
   ]
  },
  {
   "cell_type": "code",
   "execution_count": 226,
   "id": "859f9a0c",
   "metadata": {
    "execution": {
     "iopub.execute_input": "2023-08-12T20:52:46.088826Z",
     "iopub.status.busy": "2023-08-12T20:52:46.088079Z",
     "iopub.status.idle": "2023-08-12T20:52:46.093747Z",
     "shell.execute_reply": "2023-08-12T20:52:46.092790Z"
    },
    "papermill": {
     "duration": 0.116222,
     "end_time": "2023-08-12T20:52:46.096189",
     "exception": false,
     "start_time": "2023-08-12T20:52:45.979967",
     "status": "completed"
    },
    "tags": []
   },
   "outputs": [],
   "source": [
    "# param_grid = {\n",
    "#     \"model__C\": [0.5, 2, 5, 15]\n",
    "# }\n",
    "\n",
    "# param_grid = {\n",
    "#     'model__C' : [1, 5],\n",
    "#     'model__solver': ['lbfgs', 'liblinear', 'newton-cg', 'newton-cholesky', 'sag', 'saga']\n",
    "# }\n",
    "\n",
    "# param_grid = {\n",
    "#     'model__C' : [1, 5],\n",
    "#     'model__solver': ['lbfgs', 'liblinear', 'sag', 'saga']\n",
    "# }\n",
    "\n",
    "# param_grid = {\n",
    "#     'model__C' : [1, 5, 10, 15],\n",
    "#     'model__solver': ['lbfgs', 'liblinear', 'saga', 'newton-cg']\n",
    "# }\n",
    "\n",
    "# param_grid = {\n",
    "#     'model__C' : [1, 5, 10, 20],\n",
    "#     'model__solver': ['lbfgs', 'liblinear', 'saga']\n",
    "# }\n",
    "\n",
    "# param_grid"
   ]
  },
  {
   "cell_type": "code",
   "execution_count": 227,
   "id": "cc9f37ad",
   "metadata": {
    "execution": {
     "iopub.execute_input": "2023-08-12T20:52:46.314892Z",
     "iopub.status.busy": "2023-08-12T20:52:46.314440Z",
     "iopub.status.idle": "2023-08-12T20:52:46.319786Z",
     "shell.execute_reply": "2023-08-12T20:52:46.318665Z"
    },
    "papermill": {
     "duration": 0.116043,
     "end_time": "2023-08-12T20:52:46.322047",
     "exception": false,
     "start_time": "2023-08-12T20:52:46.206004",
     "status": "completed"
    },
    "tags": []
   },
   "outputs": [],
   "source": [
    "# submit_v4(selected_features={'txt': [\"genre\"]}, param_grid=param_grid)"
   ]
  },
  {
   "cell_type": "code",
   "execution_count": 228,
   "id": "179f5a8a",
   "metadata": {
    "execution": {
     "iopub.execute_input": "2023-08-12T20:52:46.598803Z",
     "iopub.status.busy": "2023-08-12T20:52:46.597758Z",
     "iopub.status.idle": "2023-08-12T20:52:46.605198Z",
     "shell.execute_reply": "2023-08-12T20:52:46.604035Z"
    },
    "papermill": {
     "duration": 0.180817,
     "end_time": "2023-08-12T20:52:46.607525",
     "exception": false,
     "start_time": "2023-08-12T20:52:46.426708",
     "status": "completed"
    },
    "tags": []
   },
   "outputs": [
    {
     "data": {
      "text/plain": [
       "\"Used 'groupby' function instead on 'drop_duplicates' on movies.csv file. \\nIt reduced the number of missing values significantly! \\nThen used LogisticRegression() with GridSearchCV on submit_v4 function with \\nparam_grid={'model__C': [1, 5, 10], 'model__solver': ['lbfgs', 'liblinear', 'saga']}. \\nThe best f1_micro score in GridSearchCV was 0.8399771362056203 which is highest among \\nall the versions so far. Best C was 5 and best solver was 'saga'.\\nScore obtained was 0.84385 which is lower than 0.84441.\""
      ]
     },
     "execution_count": 228,
     "metadata": {},
     "output_type": "execute_result"
    }
   ],
   "source": [
    "# submit_v4(selected_features=all_dict, param_grid=param_grid)\n",
    "\n",
    "# Best C was 5\n",
    "# Best solver was liblinear\n",
    "\n",
    "\"\"\"Used 'groupby' function instead on 'drop_duplicates' on movies.csv file. \n",
    "It reduced the number of missing values significantly! \n",
    "Then used LogisticRegression() with GridSearchCV on submit_v4 function with \n",
    "param_grid={'model__C': [1, 5, 10], 'model__solver': ['lbfgs', 'liblinear', 'saga']}. \n",
    "The best f1_micro score in GridSearchCV was 0.8399771362056203 which is highest among \n",
    "all the versions so far. Best C was 5 and best solver was 'saga'.\n",
    "Score obtained was 0.84385 which is lower than 0.84441.\"\"\""
   ]
  },
  {
   "cell_type": "code",
   "execution_count": 229,
   "id": "277acf83",
   "metadata": {
    "execution": {
     "iopub.execute_input": "2023-08-12T20:52:46.821546Z",
     "iopub.status.busy": "2023-08-12T20:52:46.821161Z",
     "iopub.status.idle": "2023-08-12T20:52:46.825547Z",
     "shell.execute_reply": "2023-08-12T20:52:46.824447Z"
    },
    "papermill": {
     "duration": 0.11313,
     "end_time": "2023-08-12T20:52:46.828034",
     "exception": false,
     "start_time": "2023-08-12T20:52:46.714904",
     "status": "completed"
    },
    "tags": []
   },
   "outputs": [],
   "source": [
    "# Best 5 parameters\n",
    "\n",
    "# best5_dict = {'num': [\"audienceScore\"],\n",
    "#              'txt': ['reviewText', 'reviewerName','movieid', 'director']}\n",
    "\n",
    "# best5_dict"
   ]
  },
  {
   "cell_type": "code",
   "execution_count": 230,
   "id": "17844198",
   "metadata": {
    "execution": {
     "iopub.execute_input": "2023-08-12T20:52:47.038918Z",
     "iopub.status.busy": "2023-08-12T20:52:47.038510Z",
     "iopub.status.idle": "2023-08-12T20:52:47.046837Z",
     "shell.execute_reply": "2023-08-12T20:52:47.045700Z"
    },
    "papermill": {
     "duration": 0.116726,
     "end_time": "2023-08-12T20:52:47.049180",
     "exception": false,
     "start_time": "2023-08-12T20:52:46.932454",
     "status": "completed"
    },
    "tags": []
   },
   "outputs": [
    {
     "data": {
      "text/plain": [
       "\"(Update): Used both CountVectorizer and TfidfVectorizer on a massive GridSearchCV \\nwhich took 22527.2s  (6.25 hrs) to run! Gave a score of 0.8439093822800923 locally and did not overfit!\\nBest params: {'model__C': 1, 'model__solver': 'liblinear'}.\\nHighest public score yet: 0.84591 (Rank up from 9 to 5!)\""
      ]
     },
     "execution_count": 230,
     "metadata": {},
     "output_type": "execute_result"
    }
   ],
   "source": [
    "# Submit best 5 features\n",
    "\n",
    "\"\"\"(Update): Used both CountVectorizer and TfidfVectorizer on a massive GridSearchCV \n",
    "which took 22527.2s  (6.25 hrs) to run! Gave a score of 0.8439093822800923 locally and did not overfit!\n",
    "Best params: {'model__C': 1, 'model__solver': 'liblinear'}.\n",
    "Highest public score yet: 0.84591 (Rank up from 9 to 5!)\"\"\"\n",
    "\n",
    "# param_grid = {\n",
    "#     'model__C' : [5, 10, 15],\n",
    "#     'model__solver': ['lbfgs', 'liblinear', 'saga']\n",
    "# }\n",
    "\n",
    "\n",
    "# Try new param_grid with fit_intercept and dual in logreg\n",
    "\n",
    "# param_grid = {\n",
    "#     'model__C' : [1],\n",
    "#     'model__solver': ['liblinear'],\n",
    "#     \"model__fit_intercept\" : [True, False],\n",
    "#     \"model__dual\" : [True, False] \n",
    "# }\n",
    "\n",
    "\n",
    "# Local testing  \n",
    "# submit_v4(selected_features={'num': ['audienceScore']},\n",
    "#          add_countvec=True)\n",
    "\n",
    "# submit_v4(selected_features={'num': ['audienceScore']},\n",
    "#          add_countvec=True, \n",
    "#           param_grid=param_grid)\n",
    "\n",
    "\n",
    "# Main submission\n",
    "\n",
    "# submit_v4(selected_features=best5_dict,\n",
    "#          add_countvec=True)\n",
    "\n",
    "\n",
    "# submit_v4(selected_features=best5_dict,\n",
    "#           add_countvec=True,\n",
    "#           param_grid=param_grid)"
   ]
  },
  {
   "cell_type": "code",
   "execution_count": 231,
   "id": "7cc9b226",
   "metadata": {
    "execution": {
     "iopub.execute_input": "2023-08-12T20:52:47.261852Z",
     "iopub.status.busy": "2023-08-12T20:52:47.261452Z",
     "iopub.status.idle": "2023-08-12T20:52:47.267376Z",
     "shell.execute_reply": "2023-08-12T20:52:47.266297Z"
    },
    "papermill": {
     "duration": 0.115387,
     "end_time": "2023-08-12T20:52:47.269798",
     "exception": false,
     "start_time": "2023-08-12T20:52:47.154411",
     "status": "completed"
    },
    "tags": []
   },
   "outputs": [],
   "source": [
    "## ALL DICT cv=10\n",
    "\n",
    "# all_dict = {'cat': [\"isFrequentReviewer\", \"rating\", \"originalLanguage\"],\n",
    "#              'num': [\"audienceScore\", \"runtimeMinutes\", \"boxOffice\"],\n",
    "#              'txt': ['reviewText', 'reviewerName', 'movieid', 'genre', 'director']}\n",
    "# print(all_dict)\n",
    "\n",
    "# param_grid = {\n",
    "#     'model__C' : [2, 5, 10],\n",
    "#     'model__solver': ['lbfgs', 'liblinear', 'saga']\n",
    "# }\n",
    "# print(param_grid)\n",
    "\n",
    "# param_grid = {\n",
    "#     'model__C' : [1, 5, 10],\n",
    "#     'model__solver': ['liblinear'],\n",
    "#     \"model__fit_intercept\" : [True, False],\n",
    "#     \"model__dual\" : [True, False] \n",
    "# }\n",
    "\n",
    "\n",
    "# Main submission\n",
    "\n",
    "# submit_v4(selected_model=LogisticRegression(C=5, solver='liblinear', max_iter=10000),\n",
    "#           selected_features=all_dict,\n",
    "#           param_grid=param_grid)\n",
    "\n",
    "# submit_v4(selected_features=all_dict,\n",
    "#           add_countvec=True,\n",
    "#           param_grid=param_grid)"
   ]
  },
  {
   "cell_type": "code",
   "execution_count": 232,
   "id": "48a058ec",
   "metadata": {
    "execution": {
     "iopub.execute_input": "2023-08-12T20:52:47.481029Z",
     "iopub.status.busy": "2023-08-12T20:52:47.480624Z",
     "iopub.status.idle": "2023-08-12T20:52:47.486080Z",
     "shell.execute_reply": "2023-08-12T20:52:47.484891Z"
    },
    "papermill": {
     "duration": 0.11397,
     "end_time": "2023-08-12T20:52:47.488357",
     "exception": false,
     "start_time": "2023-08-12T20:52:47.374387",
     "status": "completed"
    },
    "tags": []
   },
   "outputs": [],
   "source": [
    "# Best 6 parameters\n",
    "\n",
    "# best6_dict = {'cat': [\"isFrequentReviewer\"],\n",
    "#              'num': [\"audienceScore\"],\n",
    "#              'txt': ['reviewText', 'reviewerName', 'genre', 'director']}\n",
    "\n",
    "# best6_dict = {'num': [\"audienceScore\"],\n",
    "#              'txt': ['reviewText', 'reviewerName', 'genre','movieid', 'director']}\n",
    "\n",
    "# best6_dict"
   ]
  },
  {
   "cell_type": "code",
   "execution_count": 233,
   "id": "d971ae45",
   "metadata": {
    "execution": {
     "iopub.execute_input": "2023-08-12T20:52:47.700497Z",
     "iopub.status.busy": "2023-08-12T20:52:47.700004Z",
     "iopub.status.idle": "2023-08-12T20:52:47.704877Z",
     "shell.execute_reply": "2023-08-12T20:52:47.703639Z"
    },
    "papermill": {
     "duration": 0.114105,
     "end_time": "2023-08-12T20:52:47.707366",
     "exception": false,
     "start_time": "2023-08-12T20:52:47.593261",
     "status": "completed"
    },
    "tags": []
   },
   "outputs": [],
   "source": [
    "# Submit best 6 features (version 2)\n",
    "\n",
    "# submit_v4(selected_features=best6_dict,\n",
    "#           param_grid=param_grid)"
   ]
  },
  {
   "cell_type": "code",
   "execution_count": 234,
   "id": "06fac29e",
   "metadata": {
    "execution": {
     "iopub.execute_input": "2023-08-12T20:52:47.919582Z",
     "iopub.status.busy": "2023-08-12T20:52:47.919147Z",
     "iopub.status.idle": "2023-08-12T20:52:47.924396Z",
     "shell.execute_reply": "2023-08-12T20:52:47.923197Z"
    },
    "papermill": {
     "duration": 0.114624,
     "end_time": "2023-08-12T20:52:47.926788",
     "exception": false,
     "start_time": "2023-08-12T20:52:47.812164",
     "status": "completed"
    },
    "tags": []
   },
   "outputs": [],
   "source": [
    "# Best 7 parameters\n",
    "\n",
    "# best7_dict = {'cat': [\"isFrequentReviewer\"],\n",
    "#              'num': [\"audienceScore\"],\n",
    "#              'txt': ['reviewText', 'reviewerName', 'movieid', 'genre', 'director']}\n",
    "# best7_dict"
   ]
  },
  {
   "cell_type": "code",
   "execution_count": 235,
   "id": "b2b9f963",
   "metadata": {
    "execution": {
     "iopub.execute_input": "2023-08-12T20:52:48.139546Z",
     "iopub.status.busy": "2023-08-12T20:52:48.139110Z",
     "iopub.status.idle": "2023-08-12T20:52:48.144650Z",
     "shell.execute_reply": "2023-08-12T20:52:48.143839Z"
    },
    "papermill": {
     "duration": 0.115107,
     "end_time": "2023-08-12T20:52:48.146904",
     "exception": false,
     "start_time": "2023-08-12T20:52:48.031797",
     "status": "completed"
    },
    "tags": []
   },
   "outputs": [],
   "source": [
    "# Submit best 7 features\n",
    "\n",
    "# submit_v4(selected_features=best7_dict,\n",
    "#           param_grid=param_grid)"
   ]
  },
  {
   "cell_type": "code",
   "execution_count": 236,
   "id": "e4a3860f",
   "metadata": {
    "execution": {
     "iopub.execute_input": "2023-08-12T20:52:48.359045Z",
     "iopub.status.busy": "2023-08-12T20:52:48.358621Z",
     "iopub.status.idle": "2023-08-12T20:52:48.363283Z",
     "shell.execute_reply": "2023-08-12T20:52:48.362046Z"
    },
    "papermill": {
     "duration": 0.112307,
     "end_time": "2023-08-12T20:52:48.365591",
     "exception": false,
     "start_time": "2023-08-12T20:52:48.253284",
     "status": "completed"
    },
    "tags": []
   },
   "outputs": [],
   "source": [
    "# submit_v4(selected_features=best6_dict, param_grid=param_grid)"
   ]
  },
  {
   "cell_type": "markdown",
   "id": "3d4603e1",
   "metadata": {
    "papermill": {
     "duration": 0.104278,
     "end_time": "2023-08-12T20:52:48.575783",
     "exception": false,
     "start_time": "2023-08-12T20:52:48.471505",
     "status": "completed"
    },
    "tags": []
   },
   "source": [
    "## Try a new feature dict  \n",
    "\n"
   ]
  },
  {
   "cell_type": "code",
   "execution_count": 237,
   "id": "47454c74",
   "metadata": {
    "execution": {
     "iopub.execute_input": "2023-08-12T20:52:48.788433Z",
     "iopub.status.busy": "2023-08-12T20:52:48.787989Z",
     "iopub.status.idle": "2023-08-12T20:52:48.792864Z",
     "shell.execute_reply": "2023-08-12T20:52:48.791774Z"
    },
    "papermill": {
     "duration": 0.113187,
     "end_time": "2023-08-12T20:52:48.795028",
     "exception": false,
     "start_time": "2023-08-12T20:52:48.681841",
     "status": "completed"
    },
    "tags": []
   },
   "outputs": [],
   "source": [
    "# all_dict_new = {'cat': [\"isFrequentReviewer\", \"rating\", \"originalLanguage\"],\n",
    "#              'num': [\"audienceScore\", \"runtimeMinutes\", \"boxOffice\"],\n",
    "#              'txt': ['reviewText', \"reviewerName\", 'movieid', 'genre', 'director']}\n",
    "# all_dict_new"
   ]
  },
  {
   "cell_type": "code",
   "execution_count": 238,
   "id": "9bb8c60e",
   "metadata": {
    "execution": {
     "iopub.execute_input": "2023-08-12T20:52:49.006328Z",
     "iopub.status.busy": "2023-08-12T20:52:49.005913Z",
     "iopub.status.idle": "2023-08-12T20:52:49.010855Z",
     "shell.execute_reply": "2023-08-12T20:52:49.009662Z"
    },
    "papermill": {
     "duration": 0.113004,
     "end_time": "2023-08-12T20:52:49.013069",
     "exception": false,
     "start_time": "2023-08-12T20:52:48.900065",
     "status": "completed"
    },
    "tags": []
   },
   "outputs": [],
   "source": [
    "# submit_v4(selected_features={'txt': ['genre']}, param_grid=param_grid)"
   ]
  },
  {
   "cell_type": "code",
   "execution_count": 239,
   "id": "28a7f472",
   "metadata": {
    "execution": {
     "iopub.execute_input": "2023-08-12T20:52:49.226086Z",
     "iopub.status.busy": "2023-08-12T20:52:49.225326Z",
     "iopub.status.idle": "2023-08-12T20:52:49.229282Z",
     "shell.execute_reply": "2023-08-12T20:52:49.228509Z"
    },
    "papermill": {
     "duration": 0.113145,
     "end_time": "2023-08-12T20:52:49.231424",
     "exception": false,
     "start_time": "2023-08-12T20:52:49.118279",
     "status": "completed"
    },
    "tags": []
   },
   "outputs": [],
   "source": [
    "# submit_v4(selected_features=all_dict_new, param_grid=param_grid)"
   ]
  },
  {
   "cell_type": "code",
   "execution_count": 240,
   "id": "82937f4a",
   "metadata": {
    "execution": {
     "iopub.execute_input": "2023-08-12T20:52:49.442953Z",
     "iopub.status.busy": "2023-08-12T20:52:49.442219Z",
     "iopub.status.idle": "2023-08-12T20:52:49.446250Z",
     "shell.execute_reply": "2023-08-12T20:52:49.445464Z"
    },
    "papermill": {
     "duration": 0.112361,
     "end_time": "2023-08-12T20:52:49.448374",
     "exception": false,
     "start_time": "2023-08-12T20:52:49.336013",
     "status": "completed"
    },
    "tags": []
   },
   "outputs": [],
   "source": [
    "# Try non-text based columns\n",
    "# num_cat_dict = {'cat': ['isFrequentReviewer', 'rating', 'originalLanguage'],\n",
    "#  'num': ['audienceScore', 'runtimeMinutes', 'boxOffice']}\n",
    "# num_cat_dict"
   ]
  },
  {
   "cell_type": "code",
   "execution_count": 241,
   "id": "4665ab9c",
   "metadata": {
    "execution": {
     "iopub.execute_input": "2023-08-12T20:52:49.660386Z",
     "iopub.status.busy": "2023-08-12T20:52:49.659325Z",
     "iopub.status.idle": "2023-08-12T20:52:49.663991Z",
     "shell.execute_reply": "2023-08-12T20:52:49.663154Z"
    },
    "papermill": {
     "duration": 0.11269,
     "end_time": "2023-08-12T20:52:49.665987",
     "exception": false,
     "start_time": "2023-08-12T20:52:49.553297",
     "status": "completed"
    },
    "tags": []
   },
   "outputs": [],
   "source": [
    "# Use num_cat_dict features\n",
    "# (Update): Gets a local score of 0.7027181356991726. Not great.\n",
    "# submit_v4(selected_model=LogisticRegression(max_iter=100000), selected_features=num_cat_dict, param_grid=param_grid)"
   ]
  },
  {
   "cell_type": "code",
   "execution_count": 242,
   "id": "a0d74458",
   "metadata": {
    "execution": {
     "iopub.execute_input": "2023-08-12T20:52:49.877985Z",
     "iopub.status.busy": "2023-08-12T20:52:49.876856Z",
     "iopub.status.idle": "2023-08-12T20:52:49.881505Z",
     "shell.execute_reply": "2023-08-12T20:52:49.880730Z"
    },
    "papermill": {
     "duration": 0.113835,
     "end_time": "2023-08-12T20:52:49.884197",
     "exception": false,
     "start_time": "2023-08-12T20:52:49.770362",
     "status": "completed"
    },
    "tags": []
   },
   "outputs": [],
   "source": [
    "# Try data other than reviewText\n",
    "\n",
    "# mov_dict = {'cat': ['rating', 'originalLanguage'],\n",
    "#  'num': ['audienceScore', 'runtimeMinutes', 'boxOffice'],\n",
    "#  'txt': ['movieid', 'genre', 'director']}\n",
    "# mov_dict"
   ]
  },
  {
   "cell_type": "code",
   "execution_count": 243,
   "id": "855f0a06",
   "metadata": {
    "execution": {
     "iopub.execute_input": "2023-08-12T20:52:50.096219Z",
     "iopub.status.busy": "2023-08-12T20:52:50.095766Z",
     "iopub.status.idle": "2023-08-12T20:52:50.100359Z",
     "shell.execute_reply": "2023-08-12T20:52:50.099269Z"
    },
    "papermill": {
     "duration": 0.113695,
     "end_time": "2023-08-12T20:52:50.102805",
     "exception": false,
     "start_time": "2023-08-12T20:52:49.989110",
     "status": "completed"
    },
    "tags": []
   },
   "outputs": [],
   "source": [
    "# Use mov_dict features\n",
    "# (Update): Gets a local score of 0.7475454316469369, which is not bad at all.\n",
    "# submit_v4(selected_model=LogisticRegression(max_iter=100000), selected_features=mov_dict, param_grid=param_grid)"
   ]
  },
  {
   "cell_type": "markdown",
   "id": "4bf16c41",
   "metadata": {
    "papermill": {
     "duration": 0.104035,
     "end_time": "2023-08-12T20:52:50.312871",
     "exception": false,
     "start_time": "2023-08-12T20:52:50.208836",
     "status": "completed"
    },
    "tags": []
   },
   "source": [
    "# Try a new column 'reviewYN'  \n",
    "\n"
   ]
  },
  {
   "cell_type": "code",
   "execution_count": 244,
   "id": "f25d1e4e",
   "metadata": {
    "execution": {
     "iopub.execute_input": "2023-08-12T20:52:50.523928Z",
     "iopub.status.busy": "2023-08-12T20:52:50.523408Z",
     "iopub.status.idle": "2023-08-12T20:52:50.528356Z",
     "shell.execute_reply": "2023-08-12T20:52:50.527357Z"
    },
    "papermill": {
     "duration": 0.113648,
     "end_time": "2023-08-12T20:52:50.530591",
     "exception": false,
     "start_time": "2023-08-12T20:52:50.416943",
     "status": "completed"
    },
    "tags": []
   },
   "outputs": [],
   "source": [
    "# all_dict_3 = {'cat': [\"isFrequentReviewer\", \"rating\", \"originalLanguage\", \"reviewYN\"],\n",
    "#              'num': [\"audienceScore\", \"runtimeMinutes\", \"boxOffice\"],\n",
    "#              'txt': ['reviewText', \"reviewerName\", 'movieid', 'genre', 'director']}\n",
    "# all_dict_3"
   ]
  },
  {
   "cell_type": "code",
   "execution_count": 245,
   "id": "2d4d1ad5",
   "metadata": {
    "execution": {
     "iopub.execute_input": "2023-08-12T20:52:50.744978Z",
     "iopub.status.busy": "2023-08-12T20:52:50.743836Z",
     "iopub.status.idle": "2023-08-12T20:52:50.748485Z",
     "shell.execute_reply": "2023-08-12T20:52:50.747637Z"
    },
    "papermill": {
     "duration": 0.115479,
     "end_time": "2023-08-12T20:52:50.750782",
     "exception": false,
     "start_time": "2023-08-12T20:52:50.635303",
     "status": "completed"
    },
    "tags": []
   },
   "outputs": [],
   "source": [
    "# submit_v4(selected_model=LogisticRegression(max_iter=100000),\n",
    "#          selected_features=all_dict_3, \n",
    "#           param_grid=param_grid)"
   ]
  },
  {
   "cell_type": "markdown",
   "id": "0cf18057",
   "metadata": {
    "papermill": {
     "duration": 0.104539,
     "end_time": "2023-08-12T20:52:50.960406",
     "exception": false,
     "start_time": "2023-08-12T20:52:50.855867",
     "status": "completed"
    },
    "tags": []
   },
   "source": [
    "### More GridSearchCV using LinearSVC  "
   ]
  },
  {
   "cell_type": "code",
   "execution_count": 246,
   "id": "712c8012",
   "metadata": {
    "execution": {
     "iopub.execute_input": "2023-08-12T20:52:51.174361Z",
     "iopub.status.busy": "2023-08-12T20:52:51.173641Z",
     "iopub.status.idle": "2023-08-12T20:52:51.177652Z",
     "shell.execute_reply": "2023-08-12T20:52:51.176857Z"
    },
    "papermill": {
     "duration": 0.114805,
     "end_time": "2023-08-12T20:52:51.179856",
     "exception": false,
     "start_time": "2023-08-12T20:52:51.065051",
     "status": "completed"
    },
    "tags": []
   },
   "outputs": [],
   "source": [
    "# param_grid_svc_2 = {\n",
    "#     'model__C': [1.0],\n",
    "#     'model__loss': ['hinge', 'squared_hinge'],\n",
    "#     'model__class_weight': ['balanced', None]\n",
    "# }\n",
    "# param_grid_svc_2"
   ]
  },
  {
   "cell_type": "code",
   "execution_count": 247,
   "id": "5534db51",
   "metadata": {
    "execution": {
     "iopub.execute_input": "2023-08-12T20:52:51.393186Z",
     "iopub.status.busy": "2023-08-12T20:52:51.391968Z",
     "iopub.status.idle": "2023-08-12T20:52:51.396531Z",
     "shell.execute_reply": "2023-08-12T20:52:51.395739Z"
    },
    "papermill": {
     "duration": 0.113371,
     "end_time": "2023-08-12T20:52:51.398979",
     "exception": false,
     "start_time": "2023-08-12T20:52:51.285608",
     "status": "completed"
    },
    "tags": []
   },
   "outputs": [],
   "source": [
    "# submit_v4(selected_model=LinearSVC(max_iter=100000, random_state=42), selected_features={'num': [\"audienceScore\"]}, param_grid=param_grid_svc_2)"
   ]
  },
  {
   "cell_type": "code",
   "execution_count": 248,
   "id": "a727caa0",
   "metadata": {
    "execution": {
     "iopub.execute_input": "2023-08-12T20:52:51.611772Z",
     "iopub.status.busy": "2023-08-12T20:52:51.611356Z",
     "iopub.status.idle": "2023-08-12T20:52:51.615861Z",
     "shell.execute_reply": "2023-08-12T20:52:51.614951Z"
    },
    "papermill": {
     "duration": 0.112503,
     "end_time": "2023-08-12T20:52:51.618154",
     "exception": false,
     "start_time": "2023-08-12T20:52:51.505651",
     "status": "completed"
    },
    "tags": []
   },
   "outputs": [],
   "source": [
    "# submit_v4(selected_model=LinearSVC(max_iter=100000, random_state=42), selected_features=all_dict, param_grid=param_grid_svc_2)"
   ]
  },
  {
   "cell_type": "markdown",
   "id": "c0a8586f",
   "metadata": {
    "papermill": {
     "duration": 0.104503,
     "end_time": "2023-08-12T20:52:51.829600",
     "exception": false,
     "start_time": "2023-08-12T20:52:51.725097",
     "status": "completed"
    },
    "tags": []
   },
   "source": [
    "### Boosting techniques  "
   ]
  },
  {
   "cell_type": "code",
   "execution_count": 249,
   "id": "4a849cb8",
   "metadata": {
    "execution": {
     "iopub.execute_input": "2023-08-12T20:52:52.040424Z",
     "iopub.status.busy": "2023-08-12T20:52:52.040007Z",
     "iopub.status.idle": "2023-08-12T20:52:52.044356Z",
     "shell.execute_reply": "2023-08-12T20:52:52.043242Z"
    },
    "papermill": {
     "duration": 0.112384,
     "end_time": "2023-08-12T20:52:52.046515",
     "exception": false,
     "start_time": "2023-08-12T20:52:51.934131",
     "status": "completed"
    },
    "tags": []
   },
   "outputs": [],
   "source": [
    "# adc = AdaBoostClassifier(estimator=LogisticRegression(C=5, solver=\"saga\", max_iter=100000), n_estimators=50)\n",
    "# adc"
   ]
  },
  {
   "cell_type": "code",
   "execution_count": 250,
   "id": "385f29a1",
   "metadata": {
    "execution": {
     "iopub.execute_input": "2023-08-12T20:52:52.260847Z",
     "iopub.status.busy": "2023-08-12T20:52:52.260191Z",
     "iopub.status.idle": "2023-08-12T20:52:52.264312Z",
     "shell.execute_reply": "2023-08-12T20:52:52.263537Z"
    },
    "papermill": {
     "duration": 0.114012,
     "end_time": "2023-08-12T20:52:52.266427",
     "exception": false,
     "start_time": "2023-08-12T20:52:52.152415",
     "status": "completed"
    },
    "tags": []
   },
   "outputs": [],
   "source": [
    "# submit_v4(selected_model=adc, selected_features={'num': [\"audienceScore\"]}, param_grid=None)"
   ]
  },
  {
   "cell_type": "code",
   "execution_count": 251,
   "id": "84bda7bd",
   "metadata": {
    "execution": {
     "iopub.execute_input": "2023-08-12T20:52:52.483775Z",
     "iopub.status.busy": "2023-08-12T20:52:52.483062Z",
     "iopub.status.idle": "2023-08-12T20:52:52.487027Z",
     "shell.execute_reply": "2023-08-12T20:52:52.486081Z"
    },
    "papermill": {
     "duration": 0.116591,
     "end_time": "2023-08-12T20:52:52.489137",
     "exception": false,
     "start_time": "2023-08-12T20:52:52.372546",
     "status": "completed"
    },
    "tags": []
   },
   "outputs": [],
   "source": [
    "# submit_v4(selected_model=adc, selected_features=all_dict, param_grid=None)\n",
    "\n",
    "# Took 1 hour 15 mins to run and gave a public score of only 0.71089. Discarded."
   ]
  },
  {
   "cell_type": "markdown",
   "id": "43eef6e5",
   "metadata": {
    "papermill": {
     "duration": 0.108435,
     "end_time": "2023-08-12T20:52:52.705084",
     "exception": false,
     "start_time": "2023-08-12T20:52:52.596649",
     "status": "completed"
    },
    "tags": []
   },
   "source": [
    "### LightGBM  "
   ]
  },
  {
   "cell_type": "code",
   "execution_count": 252,
   "id": "af119a8b",
   "metadata": {
    "execution": {
     "iopub.execute_input": "2023-08-12T20:52:52.920766Z",
     "iopub.status.busy": "2023-08-12T20:52:52.920059Z",
     "iopub.status.idle": "2023-08-12T20:52:52.923832Z",
     "shell.execute_reply": "2023-08-12T20:52:52.923032Z"
    },
    "papermill": {
     "duration": 0.113894,
     "end_time": "2023-08-12T20:52:52.926287",
     "exception": false,
     "start_time": "2023-08-12T20:52:52.812393",
     "status": "completed"
    },
    "tags": []
   },
   "outputs": [],
   "source": [
    "# lgb = ltb.LGBMClassifier()\n",
    "# lgb"
   ]
  },
  {
   "cell_type": "code",
   "execution_count": 253,
   "id": "f7aa3d1d",
   "metadata": {
    "execution": {
     "iopub.execute_input": "2023-08-12T20:52:53.142904Z",
     "iopub.status.busy": "2023-08-12T20:52:53.142454Z",
     "iopub.status.idle": "2023-08-12T20:52:53.146537Z",
     "shell.execute_reply": "2023-08-12T20:52:53.145766Z"
    },
    "papermill": {
     "duration": 0.11495,
     "end_time": "2023-08-12T20:52:53.148907",
     "exception": false,
     "start_time": "2023-08-12T20:52:53.033957",
     "status": "completed"
    },
    "tags": []
   },
   "outputs": [],
   "source": [
    "# Try LightGBM with default settings\n",
    "# (Update): Public score only 0.77713. It was fast, took less than 5 mins (without GridSearchCV)\n",
    "\n",
    "# submit_v4(selected_model=ltb.LGBMClassifier(), selected_features=all_dict, param_grid=None)"
   ]
  },
  {
   "cell_type": "markdown",
   "id": "7762d550",
   "metadata": {
    "papermill": {
     "duration": 0.107599,
     "end_time": "2023-08-12T20:52:53.364294",
     "exception": false,
     "start_time": "2023-08-12T20:52:53.256695",
     "status": "completed"
    },
    "tags": []
   },
   "source": [
    "# Try feature selection and vocab fine tuning of reviewText column"
   ]
  },
  {
   "cell_type": "markdown",
   "id": "2c2bf41b",
   "metadata": {
    "papermill": {
     "duration": 0.104558,
     "end_time": "2023-08-12T20:52:53.575621",
     "exception": false,
     "start_time": "2023-08-12T20:52:53.471063",
     "status": "completed"
    },
    "tags": []
   },
   "source": [
    "## Plan  \n",
    "* Add a new column 'reviewWC' which has word count of 'reviewText'  \n",
    "    * Check if there is any relationship between 'reviewWC' and 'sentiment'\n",
    "* Work on vocabulary\n",
    "     * Use TfidfVectorizer and find out the vocabulary of 'reviewText' column for various ngrams\n",
    "     * Use RecursiveFeatureElimination (RFE) or RFECV to select 1000 top words/vocab for each ngram\n",
    "     * Use the final vocab (1000-3000 words) in the model and see how it performs compared to whole vocab\n"
   ]
  },
  {
   "cell_type": "code",
   "execution_count": 254,
   "id": "c3aaebc9",
   "metadata": {
    "execution": {
     "iopub.execute_input": "2023-08-12T20:52:53.786310Z",
     "iopub.status.busy": "2023-08-12T20:52:53.785885Z",
     "iopub.status.idle": "2023-08-12T20:52:53.790734Z",
     "shell.execute_reply": "2023-08-12T20:52:53.789908Z"
    },
    "papermill": {
     "duration": 0.112602,
     "end_time": "2023-08-12T20:52:53.792735",
     "exception": false,
     "start_time": "2023-08-12T20:52:53.680133",
     "status": "completed"
    },
    "tags": []
   },
   "outputs": [],
   "source": [
    "# 'reviewWC' and 'sentiment'\n",
    "# (Conclusion): 'reviewWC' is practically same as DummyClassifier (accuracy of 0.6682375059904889 on train data). It just predicts 'positive' for all columns\n",
    "\n",
    "# reviewWC_dict = {\"num\": [\"reviewWC\"]}\n",
    "# submit_v4(selected_model=LogisticRegression(),\n",
    "#          selected_features=reviewWC_dict,\n",
    "#          param_grid=None)"
   ]
  },
  {
   "cell_type": "code",
   "execution_count": 255,
   "id": "7a262d68",
   "metadata": {
    "execution": {
     "iopub.execute_input": "2023-08-12T20:52:54.005696Z",
     "iopub.status.busy": "2023-08-12T20:52:54.004781Z",
     "iopub.status.idle": "2023-08-12T20:52:54.010122Z",
     "shell.execute_reply": "2023-08-12T20:52:54.009028Z"
    },
    "papermill": {
     "duration": 0.115239,
     "end_time": "2023-08-12T20:52:54.012419",
     "exception": false,
     "start_time": "2023-08-12T20:52:53.897180",
     "status": "completed"
    },
    "tags": []
   },
   "outputs": [],
   "source": [
    "# 'reviewYN' and 'sentiment'\n",
    "# (Conclusion): 'reviewYN' is practically same as DummyClassifier (accuracy of 0.6682375059904889 on train data). It just predicts 'positive' for all columns\n",
    "\n",
    "# reviewYN_dict = {\"cat\": [\"reviewYN\"]}\n",
    "# submit_v4(selected_model=LogisticRegression(),\n",
    "#          selected_features=reviewYN_dict,\n",
    "#          param_grid=None)"
   ]
  },
  {
   "cell_type": "markdown",
   "id": "2e53a8e5",
   "metadata": {
    "papermill": {
     "duration": 0.105774,
     "end_time": "2023-08-12T20:52:54.224700",
     "exception": false,
     "start_time": "2023-08-12T20:52:54.118926",
     "status": "completed"
    },
    "tags": []
   },
   "source": [
    "## Submissions using 'vocabulary' built from 'reviewText' data  "
   ]
  },
  {
   "cell_type": "markdown",
   "id": "df4954ad",
   "metadata": {
    "papermill": {
     "duration": 0.104047,
     "end_time": "2023-08-12T20:52:54.434324",
     "exception": false,
     "start_time": "2023-08-12T20:52:54.330277",
     "status": "completed"
    },
    "tags": []
   },
   "source": [
    "### Submit best 6 features along with common vocab  "
   ]
  },
  {
   "cell_type": "code",
   "execution_count": 256,
   "id": "33d588a2",
   "metadata": {
    "execution": {
     "iopub.execute_input": "2023-08-12T20:52:54.645925Z",
     "iopub.status.busy": "2023-08-12T20:52:54.644631Z",
     "iopub.status.idle": "2023-08-12T20:52:54.650215Z",
     "shell.execute_reply": "2023-08-12T20:52:54.649059Z"
    },
    "papermill": {
     "duration": 0.11383,
     "end_time": "2023-08-12T20:52:54.652490",
     "exception": false,
     "start_time": "2023-08-12T20:52:54.538660",
     "status": "completed"
    },
    "tags": []
   },
   "outputs": [],
   "source": [
    "# Best 6 parameters (version 2)  \n",
    "\n",
    "# best6_dict = {'num': [\"audienceScore\"],\n",
    "#              'txt': ['reviewText', 'reviewerName', 'genre','movieid', 'director']}\n",
    "\n",
    "# best6_dict"
   ]
  },
  {
   "cell_type": "code",
   "execution_count": 257,
   "id": "335a1da2",
   "metadata": {
    "execution": {
     "iopub.execute_input": "2023-08-12T20:52:54.880136Z",
     "iopub.status.busy": "2023-08-12T20:52:54.879116Z",
     "iopub.status.idle": "2023-08-12T20:52:54.884526Z",
     "shell.execute_reply": "2023-08-12T20:52:54.883363Z"
    },
    "papermill": {
     "duration": 0.126265,
     "end_time": "2023-08-12T20:52:54.886815",
     "exception": false,
     "start_time": "2023-08-12T20:52:54.760550",
     "status": "completed"
    },
    "tags": []
   },
   "outputs": [],
   "source": [
    "# Submit best 6 features (version 2) with common vocabulary (common_1_2_grams)\n",
    "# (Update): Score 0.82867\n",
    "\n",
    "# submit_v4(selected_features=best6_dict,\n",
    "#           param_grid=param_grid,\n",
    "#          vocab=common_1_2_grams)"
   ]
  },
  {
   "cell_type": "code",
   "execution_count": 258,
   "id": "a15bdc09",
   "metadata": {
    "execution": {
     "iopub.execute_input": "2023-08-12T20:52:55.128799Z",
     "iopub.status.busy": "2023-08-12T20:52:55.127735Z",
     "iopub.status.idle": "2023-08-12T20:52:55.133264Z",
     "shell.execute_reply": "2023-08-12T20:52:55.132163Z"
    },
    "papermill": {
     "duration": 0.127921,
     "end_time": "2023-08-12T20:52:55.135740",
     "exception": false,
     "start_time": "2023-08-12T20:52:55.007819",
     "status": "completed"
    },
    "tags": []
   },
   "outputs": [],
   "source": [
    "# Submit best 6 features (version 2) with common vocabulary (common_1_2_3_grams)\n",
    "# Note: for this submission submit_v4 function has to be modified: reviewText TfidfVectorizer must have ngram_range(1,3).\n",
    "# (Update): Score in the range 0.825+\n",
    "\n",
    "# submit_v4(selected_features=best6_dict,\n",
    "#           param_grid=param_grid,\n",
    "#          vocab=common_1_2_3_grams)"
   ]
  }
 ],
 "metadata": {
  "kernelspec": {
   "display_name": "Python 3",
   "language": "python",
   "name": "python3"
  },
  "language_info": {
   "codemirror_mode": {
    "name": "ipython",
    "version": 3
   },
   "file_extension": ".py",
   "mimetype": "text/x-python",
   "name": "python",
   "nbconvert_exporter": "python",
   "pygments_lexer": "ipython3",
   "version": "3.10.10"
  },
  "papermill": {
   "default_parameters": {},
   "duration": 2129.073886,
   "end_time": "2023-08-12T20:52:58.081306",
   "environment_variables": {},
   "exception": null,
   "input_path": "__notebook__.ipynb",
   "output_path": "__notebook__.ipynb",
   "parameters": {},
   "start_time": "2023-08-12T20:17:29.007420",
   "version": "2.4.0"
  }
 },
 "nbformat": 4,
 "nbformat_minor": 5
}
