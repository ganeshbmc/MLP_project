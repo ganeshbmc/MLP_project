{
 "cells": [
  {
   "cell_type": "markdown",
   "id": "68b7864f",
   "metadata": {
    "papermill": {
     "duration": 0.10657,
     "end_time": "2023-08-22T19:50:46.659202",
     "exception": false,
     "start_time": "2023-08-22T19:50:46.552632",
     "status": "completed"
    },
    "tags": []
   },
   "source": [
    "# MLP Project (T2 2023) by Ganesh P  "
   ]
  },
  {
   "cell_type": "markdown",
   "id": "7bf183ce",
   "metadata": {
    "papermill": {
     "duration": 0.104956,
     "end_time": "2023-08-22T19:50:46.868124",
     "exception": false,
     "start_time": "2023-08-22T19:50:46.763168",
     "status": "completed"
    },
    "tags": []
   },
   "source": [
    "`Disclaimer`   \n",
    "\n",
    "> This final notebook contains only the most relevant code to show the path/flow of my project work over few weeks. Rest of the code is in [my github repo](https://github.com/ganeshbmc/MLP_project) which is private at present (I will make it public after the project is over).  "
   ]
  },
  {
   "cell_type": "markdown",
   "id": "3d0d45ee",
   "metadata": {
    "papermill": {
     "duration": 0.103926,
     "end_time": "2023-08-22T19:50:47.076555",
     "exception": false,
     "start_time": "2023-08-22T19:50:46.972629",
     "status": "completed"
    },
    "tags": []
   },
   "source": [
    "`Strengths`  \n",
    "\n",
    "> * Modular code (DRY principle)  \n",
    "> * End to end pipeline in one function (with helper functions)   "
   ]
  },
  {
   "cell_type": "markdown",
   "id": "74277ff6",
   "metadata": {
    "papermill": {
     "duration": 0.1044,
     "end_time": "2023-08-22T19:50:47.286394",
     "exception": false,
     "start_time": "2023-08-22T19:50:47.181994",
     "status": "completed"
    },
    "tags": []
   },
   "source": [
    "`Overview`  \n",
    "\n",
    "`PART I`  \n",
    "\n",
    "1.\t> Screen the datasets and import them.  \n",
    "2.\t> Perform EDA (first round).\n",
    "3.\t> Data cleaning.\n",
    "4.\t> Basic models including dummy model.\n",
    "5.\t> Because this is a text sentiment analysis project, focus on 'reviewText' column, work on cleaning text data and vectorising/tokenising it, build several models till the best possible score is reached.  \n",
    "\n",
    "`PART II`  \n",
    "\n",
    "6.\t> Merge train and movies dataset.\n",
    "7.\t> Perform EDA (second round) on merged dataset.\n",
    "8.\t> Data cleaning.\n",
    "9.\t> Build models on merged dataset.\n",
    "10.\t> Understand the results and do another round of EDA if needed.\n",
    "11.\t> Build final model.  \n",
    "\n",
    "`PART III (After project window closes)`  \n",
    "\n",
    "12. > Use NLTK library for further processing text data.  \n",
    "13. > Try to address comments from different languages, special characters etc.  \n",
    "14. > Try imblearn library to address class imbalance.  \n",
    "15. > Try to use currently available LLMs and see how my model performs agains them.  "
   ]
  },
  {
   "cell_type": "markdown",
   "id": "42022174",
   "metadata": {
    "papermill": {
     "duration": 0.103699,
     "end_time": "2023-08-22T19:50:47.493285",
     "exception": false,
     "start_time": "2023-08-22T19:50:47.389586",
     "status": "completed"
    },
    "tags": []
   },
   "source": [
    "`Default code on Kaggle notebook`  "
   ]
  },
  {
   "cell_type": "code",
   "execution_count": 1,
   "id": "014d2e67",
   "metadata": {
    "_cell_guid": "b1076dfc-b9ad-4769-8c92-a6c4dae69d19",
    "_uuid": "8f2839f25d086af736a60e9eeb907d3b93b6e0e5",
    "execution": {
     "iopub.execute_input": "2023-08-22T19:50:47.703316Z",
     "iopub.status.busy": "2023-08-22T19:50:47.702770Z",
     "iopub.status.idle": "2023-08-22T19:50:47.722893Z",
     "shell.execute_reply": "2023-08-22T19:50:47.721480Z"
    },
    "papermill": {
     "duration": 0.128307,
     "end_time": "2023-08-22T19:50:47.725302",
     "exception": false,
     "start_time": "2023-08-22T19:50:47.596995",
     "status": "completed"
    },
    "tags": []
   },
   "outputs": [
    {
     "name": "stdout",
     "output_type": "stream",
     "text": [
      "/kaggle/input/sentiment-prediction-on-movie-reviews/movies.csv\n",
      "/kaggle/input/sentiment-prediction-on-movie-reviews/sample.csv\n",
      "/kaggle/input/sentiment-prediction-on-movie-reviews/train.csv\n",
      "/kaggle/input/sentiment-prediction-on-movie-reviews/test.csv\n"
     ]
    }
   ],
   "source": [
    "# This Python 3 environment comes with many helpful analytics libraries installed\n",
    "# It is defined by the kaggle/python Docker image: https://github.com/kaggle/docker-python\n",
    "# For example, here's several helpful packages to load\n",
    "\n",
    "import numpy as np # linear algebra\n",
    "import pandas as pd # data processing, CSV file I/O (e.g. pd.read_csv)\n",
    "\n",
    "# Input data files are available in the read-only \"../input/\" directory\n",
    "# For example, running this (by clicking run or pressing Shift+Enter) will list all files under the input directory\n",
    "\n",
    "import os\n",
    "for dirname, _, filenames in os.walk('/kaggle/input'):\n",
    "    for filename in filenames:\n",
    "        print(os.path.join(dirname, filename))\n",
    "\n",
    "# You can write up to 20GB to the current directory (/kaggle/working/) that gets preserved as output when you create a version using \"Save & Run All\" \n",
    "# You can also write temporary files to /kaggle/temp/, but they won't be saved outside of the current session"
   ]
  },
  {
   "cell_type": "markdown",
   "id": "bfb1c59f",
   "metadata": {
    "papermill": {
     "duration": 0.104772,
     "end_time": "2023-08-22T19:50:47.935644",
     "exception": false,
     "start_time": "2023-08-22T19:50:47.830872",
     "status": "completed"
    },
    "tags": []
   },
   "source": [
    "### Specify platform  "
   ]
  },
  {
   "cell_type": "code",
   "execution_count": 2,
   "id": "ef9aefe2",
   "metadata": {
    "execution": {
     "iopub.execute_input": "2023-08-22T19:50:48.153182Z",
     "iopub.status.busy": "2023-08-22T19:50:48.152766Z",
     "iopub.status.idle": "2023-08-22T19:50:48.156910Z",
     "shell.execute_reply": "2023-08-22T19:50:48.156039Z"
    },
    "papermill": {
     "duration": 0.115337,
     "end_time": "2023-08-22T19:50:48.159197",
     "exception": false,
     "start_time": "2023-08-22T19:50:48.043860",
     "status": "completed"
    },
    "tags": []
   },
   "outputs": [],
   "source": [
    "platform = 'kaggle'  "
   ]
  },
  {
   "cell_type": "markdown",
   "id": "dc6e1e69",
   "metadata": {
    "papermill": {
     "duration": 0.115309,
     "end_time": "2023-08-22T19:50:48.392927",
     "exception": false,
     "start_time": "2023-08-22T19:50:48.277618",
     "status": "completed"
    },
    "tags": []
   },
   "source": [
    "### Import libraries  "
   ]
  },
  {
   "cell_type": "code",
   "execution_count": 3,
   "id": "c309d605",
   "metadata": {
    "execution": {
     "iopub.execute_input": "2023-08-22T19:50:48.603234Z",
     "iopub.status.busy": "2023-08-22T19:50:48.602063Z",
     "iopub.status.idle": "2023-08-22T19:50:51.031642Z",
     "shell.execute_reply": "2023-08-22T19:50:51.030062Z"
    },
    "papermill": {
     "duration": 2.537642,
     "end_time": "2023-08-22T19:50:51.034570",
     "exception": false,
     "start_time": "2023-08-22T19:50:48.496928",
     "status": "completed"
    },
    "tags": []
   },
   "outputs": [
    {
     "name": "stdout",
     "output_type": "stream",
     "text": [
      "Imports done.\n"
     ]
    }
   ],
   "source": [
    "# Basic libraries\n",
    "import pandas as pd\n",
    "import numpy as np\n",
    "import re\n",
    "from itertools import compress\n",
    "\n",
    "# Visualization libraries\n",
    "import matplotlib.pyplot as plt\n",
    "import seaborn as sns\n",
    "\n",
    "# Statistical libraries\n",
    "import scipy.stats as stats\n",
    "\n",
    "# Sklearn \n",
    "# Preprocessing, feature extraction, feature selection\n",
    "from sklearn.feature_extraction.text import TfidfVectorizer, CountVectorizer\n",
    "from sklearn.preprocessing import StandardScaler, MinMaxScaler, RobustScaler, OneHotEncoder, LabelEncoder, PolynomialFeatures\n",
    "from sklearn.preprocessing import FunctionTransformer\n",
    "from sklearn.impute import SimpleImputer, KNNImputer\n",
    "from sklearn.feature_selection import RFE, RFECV\n",
    "from sklearn.decomposition import PCA, TruncatedSVD\n",
    "from sklearn.pipeline import Pipeline, FeatureUnion\n",
    "from sklearn.compose import ColumnTransformer\n",
    "from sklearn.model_selection import train_test_split, GridSearchCV, cross_val_score\n",
    "\n",
    "# Models\n",
    "from sklearn.dummy import DummyClassifier\n",
    "from sklearn.linear_model import LogisticRegression, SGDClassifier\n",
    "from sklearn.svm import LinearSVC\n",
    "from sklearn.naive_bayes import GaussianNB, BernoulliNB, CategoricalNB, ComplementNB, MultinomialNB\n",
    "from sklearn.neural_network import MLPClassifier\n",
    "from sklearn.tree import DecisionTreeClassifier\n",
    "from sklearn.ensemble import RandomForestClassifier, AdaBoostClassifier, StackingClassifier\n",
    "# import lightgbm as ltb\n",
    "\n",
    "# Evaluation\n",
    "from sklearn.metrics import classification_report, confusion_matrix, f1_score\n",
    "from sklearn.metrics import roc_auc_score, roc_curve, precision_recall_curve\n",
    "\n",
    "print(\"Imports done.\")"
   ]
  },
  {
   "cell_type": "markdown",
   "id": "90c90b95",
   "metadata": {
    "papermill": {
     "duration": 0.10646,
     "end_time": "2023-08-22T19:50:51.243986",
     "exception": false,
     "start_time": "2023-08-22T19:50:51.137526",
     "status": "completed"
    },
    "tags": []
   },
   "source": [
    "# PART I  "
   ]
  },
  {
   "cell_type": "markdown",
   "id": "cb957aef",
   "metadata": {
    "papermill": {
     "duration": 0.104825,
     "end_time": "2023-08-22T19:50:51.454388",
     "exception": false,
     "start_time": "2023-08-22T19:50:51.349563",
     "status": "completed"
    },
    "tags": []
   },
   "source": [
    "## Load datasets  "
   ]
  },
  {
   "cell_type": "code",
   "execution_count": 4,
   "id": "1650c82b",
   "metadata": {
    "execution": {
     "iopub.execute_input": "2023-08-22T19:50:51.753529Z",
     "iopub.status.busy": "2023-08-22T19:50:51.753085Z",
     "iopub.status.idle": "2023-08-22T19:50:52.921087Z",
     "shell.execute_reply": "2023-08-22T19:50:52.919888Z"
    },
    "papermill": {
     "duration": 1.277944,
     "end_time": "2023-08-22T19:50:52.923945",
     "exception": false,
     "start_time": "2023-08-22T19:50:51.646001",
     "status": "completed"
    },
    "tags": []
   },
   "outputs": [
    {
     "data": {
      "text/plain": [
       "(162758, 5)"
      ]
     },
     "execution_count": 4,
     "metadata": {},
     "output_type": "execute_result"
    }
   ],
   "source": [
    "if platform == 'vscode':\n",
    "    traindf = pd.read_csv(\"data/train.csv\")\n",
    "else:\n",
    "    traindf = pd.read_csv(\"/kaggle/input/sentiment-prediction-on-movie-reviews/train.csv\")\n",
    "    \n",
    "traindf.shape"
   ]
  },
  {
   "cell_type": "code",
   "execution_count": 5,
   "id": "3df75e30",
   "metadata": {
    "execution": {
     "iopub.execute_input": "2023-08-22T19:50:53.135981Z",
     "iopub.status.busy": "2023-08-22T19:50:53.135490Z",
     "iopub.status.idle": "2023-08-22T19:50:53.523499Z",
     "shell.execute_reply": "2023-08-22T19:50:53.522173Z"
    },
    "papermill": {
     "duration": 0.497622,
     "end_time": "2023-08-22T19:50:53.526470",
     "exception": false,
     "start_time": "2023-08-22T19:50:53.028848",
     "status": "completed"
    },
    "tags": []
   },
   "outputs": [
    {
     "data": {
      "text/plain": [
       "(55315, 4)"
      ]
     },
     "execution_count": 5,
     "metadata": {},
     "output_type": "execute_result"
    }
   ],
   "source": [
    "if platform == 'vscode':\n",
    "    testdf = pd.read_csv(\"data/test.csv\")\n",
    "else:\n",
    "    testdf = pd.read_csv(\"/kaggle/input/sentiment-prediction-on-movie-reviews/test.csv\")\n",
    "\n",
    "testdf.shape"
   ]
  },
  {
   "cell_type": "markdown",
   "id": "1f007534",
   "metadata": {
    "papermill": {
     "duration": 0.102975,
     "end_time": "2023-08-22T19:50:53.734744",
     "exception": false,
     "start_time": "2023-08-22T19:50:53.631769",
     "status": "completed"
    },
    "tags": []
   },
   "source": [
    "### Understanding the data and getting it ready for training and evaluating models  \n"
   ]
  },
  {
   "cell_type": "code",
   "execution_count": 6,
   "id": "a146b4b1",
   "metadata": {
    "execution": {
     "iopub.execute_input": "2023-08-22T19:50:53.948789Z",
     "iopub.status.busy": "2023-08-22T19:50:53.948325Z",
     "iopub.status.idle": "2023-08-22T19:50:53.956730Z",
     "shell.execute_reply": "2023-08-22T19:50:53.955366Z"
    },
    "papermill": {
     "duration": 0.117682,
     "end_time": "2023-08-22T19:50:53.959171",
     "exception": false,
     "start_time": "2023-08-22T19:50:53.841489",
     "status": "completed"
    },
    "tags": []
   },
   "outputs": [
    {
     "data": {
      "text/plain": [
       "(162758, 5)"
      ]
     },
     "execution_count": 6,
     "metadata": {},
     "output_type": "execute_result"
    }
   ],
   "source": [
    "traindf.shape"
   ]
  },
  {
   "cell_type": "code",
   "execution_count": 7,
   "id": "0ef98700",
   "metadata": {
    "execution": {
     "iopub.execute_input": "2023-08-22T19:50:54.172391Z",
     "iopub.status.busy": "2023-08-22T19:50:54.171603Z",
     "iopub.status.idle": "2023-08-22T19:50:54.411169Z",
     "shell.execute_reply": "2023-08-22T19:50:54.409747Z"
    },
    "papermill": {
     "duration": 0.350163,
     "end_time": "2023-08-22T19:50:54.414151",
     "exception": false,
     "start_time": "2023-08-22T19:50:54.063988",
     "status": "completed"
    },
    "tags": []
   },
   "outputs": [
    {
     "name": "stdout",
     "output_type": "stream",
     "text": [
      "<class 'pandas.core.frame.DataFrame'>\n",
      "RangeIndex: 162758 entries, 0 to 162757\n",
      "Data columns (total 5 columns):\n",
      " #   Column              Non-Null Count   Dtype \n",
      "---  ------              --------------   ----- \n",
      " 0   movieid             162758 non-null  object\n",
      " 1   reviewerName        162758 non-null  object\n",
      " 2   isFrequentReviewer  162758 non-null  bool  \n",
      " 3   reviewText          156311 non-null  object\n",
      " 4   sentiment           162758 non-null  object\n",
      "dtypes: bool(1), object(4)\n",
      "memory usage: 5.1+ MB\n"
     ]
    }
   ],
   "source": [
    "traindf.info()"
   ]
  },
  {
   "cell_type": "code",
   "execution_count": 8,
   "id": "3f52bbcb",
   "metadata": {
    "execution": {
     "iopub.execute_input": "2023-08-22T19:50:54.625084Z",
     "iopub.status.busy": "2023-08-22T19:50:54.624642Z",
     "iopub.status.idle": "2023-08-22T19:50:54.843236Z",
     "shell.execute_reply": "2023-08-22T19:50:54.841764Z"
    },
    "papermill": {
     "duration": 0.326181,
     "end_time": "2023-08-22T19:50:54.845941",
     "exception": false,
     "start_time": "2023-08-22T19:50:54.519760",
     "status": "completed"
    },
    "tags": []
   },
   "outputs": [
    {
     "data": {
      "text/plain": [
       "movieid                  0\n",
       "reviewerName             0\n",
       "isFrequentReviewer       0\n",
       "reviewText            6447\n",
       "sentiment                0\n",
       "dtype: int64"
      ]
     },
     "execution_count": 8,
     "metadata": {},
     "output_type": "execute_result"
    }
   ],
   "source": [
    "traindf.isna().sum()"
   ]
  },
  {
   "cell_type": "markdown",
   "id": "962593da",
   "metadata": {
    "papermill": {
     "duration": 0.105032,
     "end_time": "2023-08-22T19:50:55.056429",
     "exception": false,
     "start_time": "2023-08-22T19:50:54.951397",
     "status": "completed"
    },
    "tags": []
   },
   "source": [
    "### Fill empty reviewText with custom text  "
   ]
  },
  {
   "cell_type": "code",
   "execution_count": 9,
   "id": "b909084b",
   "metadata": {
    "execution": {
     "iopub.execute_input": "2023-08-22T19:50:55.273846Z",
     "iopub.status.busy": "2023-08-22T19:50:55.272263Z",
     "iopub.status.idle": "2023-08-22T19:50:55.519010Z",
     "shell.execute_reply": "2023-08-22T19:50:55.517777Z"
    },
    "papermill": {
     "duration": 0.359688,
     "end_time": "2023-08-22T19:50:55.522090",
     "exception": false,
     "start_time": "2023-08-22T19:50:55.162402",
     "status": "completed"
    },
    "tags": []
   },
   "outputs": [
    {
     "data": {
      "text/plain": [
       "movieid               0\n",
       "reviewerName          0\n",
       "isFrequentReviewer    0\n",
       "reviewText            0\n",
       "sentiment             0\n",
       "dtype: int64"
      ]
     },
     "execution_count": 9,
     "metadata": {},
     "output_type": "execute_result"
    }
   ],
   "source": [
    "traindf[\"reviewText\"].fillna(\"empty\", inplace=True)\n",
    "traindf.isna().sum()"
   ]
  },
  {
   "cell_type": "markdown",
   "id": "f632791e",
   "metadata": {
    "papermill": {
     "duration": 0.104636,
     "end_time": "2023-08-22T19:50:55.733029",
     "exception": false,
     "start_time": "2023-08-22T19:50:55.628393",
     "status": "completed"
    },
    "tags": []
   },
   "source": [
    "## EDA  \n"
   ]
  },
  {
   "cell_type": "markdown",
   "id": "5ad93bdf",
   "metadata": {
    "papermill": {
     "duration": 0.104903,
     "end_time": "2023-08-22T19:50:55.944277",
     "exception": false,
     "start_time": "2023-08-22T19:50:55.839374",
     "status": "completed"
    },
    "tags": []
   },
   "source": [
    "### Classes  "
   ]
  },
  {
   "cell_type": "code",
   "execution_count": 10,
   "id": "0a26adf4",
   "metadata": {
    "execution": {
     "iopub.execute_input": "2023-08-22T19:50:56.159847Z",
     "iopub.status.busy": "2023-08-22T19:50:56.158651Z",
     "iopub.status.idle": "2023-08-22T19:50:56.402612Z",
     "shell.execute_reply": "2023-08-22T19:50:56.401771Z"
    },
    "papermill": {
     "duration": 0.358117,
     "end_time": "2023-08-22T19:50:56.408471",
     "exception": false,
     "start_time": "2023-08-22T19:50:56.050354",
     "status": "completed"
    },
    "tags": []
   },
   "outputs": [
    {
     "data": {
      "image/png": "[encoded data removed]",
      "text/plain": [
       "<Figure size 600x400 with 1 Axes>"
      ]
     },
     "metadata": {},
     "output_type": "display_data"
    }
   ],
   "source": [
    "# Pie chart for sentiment column\n",
    "plt.figure(figsize=(6, 4))\n",
    "traindf[\"sentiment\"].value_counts().plot(kind='pie', autopct='%1.0f%%', colors=[\"lightgreen\", \"crimson\"])\n",
    "plt.title(\"Pie chart for sentiment column\")\n",
    "plt.show()"
   ]
  },
  {
   "cell_type": "markdown",
   "id": "9d7e84b9",
   "metadata": {
    "papermill": {
     "duration": 0.103421,
     "end_time": "2023-08-22T19:50:56.655231",
     "exception": false,
     "start_time": "2023-08-22T19:50:56.551810",
     "status": "completed"
    },
    "tags": []
   },
   "source": [
    "`Is there a significant class imbalance?`  \n",
    "\n",
    "* There is some class imbalance but it does not appear to be significant enough to affect performance of model.  \n",
    "\n",
    "* That said, I did experiment with 'class_weight' in the model fitting to see if it would improve the model.  It did not.  "
   ]
  },
  {
   "cell_type": "markdown",
   "id": "9db14530",
   "metadata": {
    "papermill": {
     "duration": 0.105664,
     "end_time": "2023-08-22T19:50:56.864474",
     "exception": false,
     "start_time": "2023-08-22T19:50:56.758810",
     "status": "completed"
    },
    "tags": []
   },
   "source": [
    "### 'isFrequentReviewer' column  "
   ]
  },
  {
   "cell_type": "code",
   "execution_count": 11,
   "id": "acdb613d",
   "metadata": {
    "execution": {
     "iopub.execute_input": "2023-08-22T19:50:57.080290Z",
     "iopub.status.busy": "2023-08-22T19:50:57.079200Z",
     "iopub.status.idle": "2023-08-22T19:50:57.093820Z",
     "shell.execute_reply": "2023-08-22T19:50:57.092347Z"
    },
    "papermill": {
     "duration": 0.126035,
     "end_time": "2023-08-22T19:50:57.096554",
     "exception": false,
     "start_time": "2023-08-22T19:50:56.970519",
     "status": "completed"
    },
    "tags": []
   },
   "outputs": [
    {
     "name": "stdout",
     "output_type": "stream",
     "text": [
      "False    113189\n",
      "True      49569\n",
      "Name: isFrequentReviewer, dtype: int64\n",
      "False    0.695444\n",
      "True     0.304556\n",
      "Name: isFrequentReviewer, dtype: float64\n"
     ]
    }
   ],
   "source": [
    "print(traindf['isFrequentReviewer'].value_counts())\n",
    "print(traindf['isFrequentReviewer'].value_counts(normalize=True))"
   ]
  },
  {
   "cell_type": "code",
   "execution_count": 12,
   "id": "c5539f83",
   "metadata": {
    "execution": {
     "iopub.execute_input": "2023-08-22T19:50:57.315643Z",
     "iopub.status.busy": "2023-08-22T19:50:57.315180Z",
     "iopub.status.idle": "2023-08-22T19:50:59.423681Z",
     "shell.execute_reply": "2023-08-22T19:50:59.422814Z"
    },
    "papermill": {
     "duration": 2.221039,
     "end_time": "2023-08-22T19:50:59.425967",
     "exception": false,
     "start_time": "2023-08-22T19:50:57.204928",
     "status": "completed"
    },
    "tags": []
   },
   "outputs": [
    {
     "data": {
      "text/plain": [
       "<Axes: xlabel='isFrequentReviewer', ylabel='isFrequentReviewer'>"
      ]
     },
     "execution_count": 12,
     "metadata": {},
     "output_type": "execute_result"
    },
    {
     "data": {
      "image/png": "[encoded data removed]",
      "text/plain": [
       "<Figure size 640x480 with 1 Axes>"
      ]
     },
     "metadata": {},
     "output_type": "display_data"
    }
   ],
   "source": [
    "# Barchart for isFrequentReviewer  \n",
    "sns.barplot(x='isFrequentReviewer', y='isFrequentReviewer', data=traindf, estimator=lambda x: len(x) / len(traindf) * 100)"
   ]
  },
  {
   "cell_type": "code",
   "execution_count": 13,
   "id": "7dc90c2e",
   "metadata": {
    "execution": {
     "iopub.execute_input": "2023-08-22T19:50:59.640234Z",
     "iopub.status.busy": "2023-08-22T19:50:59.639086Z",
     "iopub.status.idle": "2023-08-22T19:50:59.644045Z",
     "shell.execute_reply": "2023-08-22T19:50:59.643202Z"
    },
    "papermill": {
     "duration": 0.112869,
     "end_time": "2023-08-22T19:50:59.646264",
     "exception": false,
     "start_time": "2023-08-22T19:50:59.533395",
     "status": "completed"
    },
    "tags": []
   },
   "outputs": [],
   "source": [
    "# Pie chart for isFrequentReviewer column  \n",
    "# plt.figure(figsize=(6, 4))\n",
    "# traindf[\"isFrequentReviewer\"].value_counts().plot(kind='pie', autopct='%1.0f%%', colors=[\"lightgreen\", \"crimson\"])\n",
    "# plt.title(\"Pie chart for isFrequentReviewer column\")\n",
    "# plt.show()"
   ]
  },
  {
   "cell_type": "code",
   "execution_count": 14,
   "id": "95ad3215",
   "metadata": {
    "execution": {
     "iopub.execute_input": "2023-08-22T19:50:59.857398Z",
     "iopub.status.busy": "2023-08-22T19:50:59.856590Z",
     "iopub.status.idle": "2023-08-22T19:50:59.931919Z",
     "shell.execute_reply": "2023-08-22T19:50:59.931032Z"
    },
    "papermill": {
     "duration": 0.184091,
     "end_time": "2023-08-22T19:50:59.934155",
     "exception": false,
     "start_time": "2023-08-22T19:50:59.750064",
     "status": "completed"
    },
    "tags": []
   },
   "outputs": [
    {
     "name": "stdout",
     "output_type": "stream",
     "text": [
      "sentiment           NEGATIVE  POSITIVE\n",
      "isFrequentReviewer                    \n",
      "False                  35760     77429\n",
      "True                   18237     31332\n"
     ]
    },
    {
     "data": {
      "text/plain": [
       "Chi2ContingencyResult(statistic=419.89235425657796, pvalue=2.5755894769493255e-93, dof=1, expected_freq=array([[37551.86493444, 75637.13506556],\n",
       "       [16445.13506556, 33123.86493444]]))"
      ]
     },
     "execution_count": 14,
     "metadata": {},
     "output_type": "execute_result"
    }
   ],
   "source": [
    "# Chi-square test for isFrequentReviewer column and sentiment column   \n",
    "\n",
    "contingency_table = pd.crosstab(traindf['isFrequentReviewer'], traindf['sentiment'])\n",
    "print(contingency_table)\n",
    "stats.chi2_contingency(contingency_table)"
   ]
  },
  {
   "cell_type": "markdown",
   "id": "b9d75769",
   "metadata": {
    "papermill": {
     "duration": 0.105473,
     "end_time": "2023-08-22T19:51:00.146240",
     "exception": false,
     "start_time": "2023-08-22T19:51:00.040767",
     "status": "completed"
    },
    "tags": []
   },
   "source": [
    "`Does a frequent reviewer give more negative (or positive) reviews?`  \n",
    "\n",
    "* It appears that a frequent reviewer is more likely to give a 'negative' review than an infrequent reviewer (36.8% vs. 31.6%, p<0.001).  \n",
    "* This feature may be useful in predicting the sentiment of a review where reviewText is missing or does not contain enough information to determine sentiment.  "
   ]
  },
  {
   "cell_type": "markdown",
   "id": "0886fd9c",
   "metadata": {
    "papermill": {
     "duration": 0.106582,
     "end_time": "2023-08-22T19:51:00.360786",
     "exception": false,
     "start_time": "2023-08-22T19:51:00.254204",
     "status": "completed"
    },
    "tags": []
   },
   "source": [
    "### Other columns  "
   ]
  },
  {
   "cell_type": "markdown",
   "id": "385a5b0a",
   "metadata": {
    "papermill": {
     "duration": 0.104199,
     "end_time": "2023-08-22T19:51:00.569248",
     "exception": false,
     "start_time": "2023-08-22T19:51:00.465049",
     "status": "completed"
    },
    "tags": []
   },
   "source": [
    "`How many unique movies and reviewers are there in the dataset?`  "
   ]
  },
  {
   "cell_type": "code",
   "execution_count": 15,
   "id": "b4386170",
   "metadata": {
    "execution": {
     "iopub.execute_input": "2023-08-22T19:51:00.779883Z",
     "iopub.status.busy": "2023-08-22T19:51:00.779139Z",
     "iopub.status.idle": "2023-08-22T19:51:00.841338Z",
     "shell.execute_reply": "2023-08-22T19:51:00.839887Z"
    },
    "papermill": {
     "duration": 0.170583,
     "end_time": "2023-08-22T19:51:00.843922",
     "exception": false,
     "start_time": "2023-08-22T19:51:00.673339",
     "status": "completed"
    },
    "tags": []
   },
   "outputs": [
    {
     "name": "stdout",
     "output_type": "stream",
     "text": [
      "Number of unique movies in training data: 16812\n",
      "Proportion of unique movies: 10.3%\n"
     ]
    }
   ],
   "source": [
    "print(f\"Number of unique movies in training data: {len(traindf['movieid'].unique())}\")\n",
    "print(f\"Proportion of unique movies: {len(traindf['movieid'].unique())/len(traindf) * 100:.1f}%\")"
   ]
  },
  {
   "cell_type": "code",
   "execution_count": 16,
   "id": "778f56a7",
   "metadata": {
    "execution": {
     "iopub.execute_input": "2023-08-22T19:51:01.061519Z",
     "iopub.status.busy": "2023-08-22T19:51:01.061051Z",
     "iopub.status.idle": "2023-08-22T19:51:01.065520Z",
     "shell.execute_reply": "2023-08-22T19:51:01.064745Z"
    },
    "papermill": {
     "duration": 0.114707,
     "end_time": "2023-08-22T19:51:01.067431",
     "exception": false,
     "start_time": "2023-08-22T19:51:00.952724",
     "status": "completed"
    },
    "tags": []
   },
   "outputs": [],
   "source": [
    "# print(f\"Number of unique movies in test data: {len(testdf['movieid'].unique())}\")\n",
    "# print(f\"Proportion of unique movies in test data: {len(testdf['movieid'].unique())/len(testdf) * 100:.1f}%\")"
   ]
  },
  {
   "cell_type": "code",
   "execution_count": 17,
   "id": "44b04280",
   "metadata": {
    "execution": {
     "iopub.execute_input": "2023-08-22T19:51:01.288846Z",
     "iopub.status.busy": "2023-08-22T19:51:01.288355Z",
     "iopub.status.idle": "2023-08-22T19:51:01.292514Z",
     "shell.execute_reply": "2023-08-22T19:51:01.291741Z"
    },
    "papermill": {
     "duration": 0.119407,
     "end_time": "2023-08-22T19:51:01.294484",
     "exception": false,
     "start_time": "2023-08-22T19:51:01.175077",
     "status": "completed"
    },
    "tags": []
   },
   "outputs": [],
   "source": [
    "# len(set(testdf['movieid'].unique()) - set(traindf['movieid'].unique()))\n",
    "# len(set(traindf['movieid'].unique()) - set(testdf['movieid'].unique()))"
   ]
  },
  {
   "cell_type": "code",
   "execution_count": 18,
   "id": "fc66c134",
   "metadata": {
    "execution": {
     "iopub.execute_input": "2023-08-22T19:51:01.513076Z",
     "iopub.status.busy": "2023-08-22T19:51:01.512281Z",
     "iopub.status.idle": "2023-08-22T19:51:01.536426Z",
     "shell.execute_reply": "2023-08-22T19:51:01.535315Z"
    },
    "papermill": {
     "duration": 0.136486,
     "end_time": "2023-08-22T19:51:01.538892",
     "exception": false,
     "start_time": "2023-08-22T19:51:01.402406",
     "status": "completed"
    },
    "tags": []
   },
   "outputs": [
    {
     "name": "stdout",
     "output_type": "stream",
     "text": [
      "Number of unique reviewers in the dataset: 4482\n"
     ]
    }
   ],
   "source": [
    "print(f\"Number of unique reviewers in the dataset: {len(traindf['reviewerName'].unique())}\")"
   ]
  },
  {
   "cell_type": "code",
   "execution_count": 19,
   "id": "f0f3f239",
   "metadata": {
    "execution": {
     "iopub.execute_input": "2023-08-22T19:51:01.757083Z",
     "iopub.status.busy": "2023-08-22T19:51:01.756625Z",
     "iopub.status.idle": "2023-08-22T19:51:01.790438Z",
     "shell.execute_reply": "2023-08-22T19:51:01.789107Z"
    },
    "papermill": {
     "duration": 0.144252,
     "end_time": "2023-08-22T19:51:01.792850",
     "exception": false,
     "start_time": "2023-08-22T19:51:01.648598",
     "status": "completed"
    },
    "tags": []
   },
   "outputs": [
    {
     "data": {
      "text/plain": [
       "Sherri Morrison      962\n",
       "Veronica Serrano     952\n",
       "Mrs. Vickie Young    827\n",
       "Kristy Ferguson      822\n",
       "Heather Pena         797\n",
       "Name: reviewerName, dtype: int64"
      ]
     },
     "execution_count": 19,
     "metadata": {},
     "output_type": "execute_result"
    }
   ],
   "source": [
    "traindf['reviewerName'].value_counts().head()"
   ]
  },
  {
   "cell_type": "code",
   "execution_count": 20,
   "id": "e7c04333",
   "metadata": {
    "execution": {
     "iopub.execute_input": "2023-08-22T19:51:02.012928Z",
     "iopub.status.busy": "2023-08-22T19:51:02.012130Z",
     "iopub.status.idle": "2023-08-22T19:51:02.045699Z",
     "shell.execute_reply": "2023-08-22T19:51:02.044415Z"
    },
    "papermill": {
     "duration": 0.145245,
     "end_time": "2023-08-22T19:51:02.048033",
     "exception": false,
     "start_time": "2023-08-22T19:51:01.902788",
     "status": "completed"
    },
    "tags": []
   },
   "outputs": [
    {
     "data": {
      "text/plain": [
       "Ashley Munoz     1\n",
       "Ryan Dean        1\n",
       "Joanna Li        1\n",
       "Jason Carroll    1\n",
       "Chad Mueller     1\n",
       "Name: reviewerName, dtype: int64"
      ]
     },
     "execution_count": 20,
     "metadata": {},
     "output_type": "execute_result"
    }
   ],
   "source": [
    "traindf['reviewerName'].value_counts().tail()"
   ]
  },
  {
   "cell_type": "markdown",
   "id": "e7242d85",
   "metadata": {
    "papermill": {
     "duration": 0.10951,
     "end_time": "2023-08-22T19:51:02.264800",
     "exception": false,
     "start_time": "2023-08-22T19:51:02.155290",
     "status": "completed"
    },
    "tags": []
   },
   "source": [
    "### Separate features and labels  "
   ]
  },
  {
   "cell_type": "code",
   "execution_count": 21,
   "id": "edb6f38e",
   "metadata": {
    "execution": {
     "iopub.execute_input": "2023-08-22T19:51:02.485063Z",
     "iopub.status.busy": "2023-08-22T19:51:02.484266Z",
     "iopub.status.idle": "2023-08-22T19:51:02.491959Z",
     "shell.execute_reply": "2023-08-22T19:51:02.491135Z"
    },
    "papermill": {
     "duration": 0.120417,
     "end_time": "2023-08-22T19:51:02.494429",
     "exception": false,
     "start_time": "2023-08-22T19:51:02.374012",
     "status": "completed"
    },
    "tags": []
   },
   "outputs": [
    {
     "data": {
      "text/plain": [
       "((162758,), (162758,))"
      ]
     },
     "execution_count": 21,
     "metadata": {},
     "output_type": "execute_result"
    }
   ],
   "source": [
    "train_features = traindf[\"reviewText\"]\n",
    "train_labels = traindf.iloc[:, -1]\n",
    "train_features.shape, train_labels.shape"
   ]
  },
  {
   "cell_type": "markdown",
   "id": "a0558943",
   "metadata": {
    "papermill": {
     "duration": 0.107052,
     "end_time": "2023-08-22T19:51:02.710796",
     "exception": false,
     "start_time": "2023-08-22T19:51:02.603744",
     "status": "completed"
    },
    "tags": []
   },
   "source": [
    "### Split traindf into training and testing parts  "
   ]
  },
  {
   "cell_type": "code",
   "execution_count": 22,
   "id": "cbe1ef4c",
   "metadata": {
    "execution": {
     "iopub.execute_input": "2023-08-22T19:51:02.927949Z",
     "iopub.status.busy": "2023-08-22T19:51:02.927217Z",
     "iopub.status.idle": "2023-08-22T19:51:02.969860Z",
     "shell.execute_reply": "2023-08-22T19:51:02.968726Z"
    },
    "papermill": {
     "duration": 0.154428,
     "end_time": "2023-08-22T19:51:02.972259",
     "exception": false,
     "start_time": "2023-08-22T19:51:02.817831",
     "status": "completed"
    },
    "tags": []
   },
   "outputs": [
    {
     "data": {
      "text/plain": [
       "((122068,), (40690,), (122068,), (40690,))"
      ]
     },
     "execution_count": 22,
     "metadata": {},
     "output_type": "execute_result"
    }
   ],
   "source": [
    "X_train, X_test, y_train, y_test = train_test_split(train_features, train_labels, test_size=0.25, random_state=42)\n",
    "X_train.shape, X_test.shape, y_train.shape, y_test.shape"
   ]
  },
  {
   "cell_type": "markdown",
   "id": "6ac35b27",
   "metadata": {
    "papermill": {
     "duration": 0.108411,
     "end_time": "2023-08-22T19:51:03.189608",
     "exception": false,
     "start_time": "2023-08-22T19:51:03.081197",
     "status": "completed"
    },
    "tags": []
   },
   "source": [
    "## Model evaluation plan and code  "
   ]
  },
  {
   "cell_type": "code",
   "execution_count": 23,
   "id": "0f958aa5",
   "metadata": {
    "execution": {
     "iopub.execute_input": "2023-08-22T19:51:03.411714Z",
     "iopub.status.busy": "2023-08-22T19:51:03.410861Z",
     "iopub.status.idle": "2023-08-22T19:51:03.415560Z",
     "shell.execute_reply": "2023-08-22T19:51:03.414807Z"
    },
    "papermill": {
     "duration": 0.11775,
     "end_time": "2023-08-22T19:51:03.417837",
     "exception": false,
     "start_time": "2023-08-22T19:51:03.300087",
     "status": "completed"
    },
    "tags": []
   },
   "outputs": [],
   "source": [
    "# from sklearn.metrics import classification_report, confusion_matrix, ConfusionMatrixDisplay\n",
    "# from sklearn.metrics import f1_score"
   ]
  },
  {
   "cell_type": "code",
   "execution_count": 24,
   "id": "5af2f82f",
   "metadata": {
    "execution": {
     "iopub.execute_input": "2023-08-22T19:51:03.637556Z",
     "iopub.status.busy": "2023-08-22T19:51:03.636658Z",
     "iopub.status.idle": "2023-08-22T19:51:03.642346Z",
     "shell.execute_reply": "2023-08-22T19:51:03.641275Z"
    },
    "papermill": {
     "duration": 0.117999,
     "end_time": "2023-08-22T19:51:03.644945",
     "exception": false,
     "start_time": "2023-08-22T19:51:03.526946",
     "status": "completed"
    },
    "tags": []
   },
   "outputs": [],
   "source": [
    "# def evaluate(y_test, y_pred):\n",
    "#     print(classification_report(y_test, y_pred))\n",
    "#     print(confusion_matrix(y_test, y_pred))\n",
    "#     # print(f1_score(y_test, y_pred))\n",
    "#     ConfusionMatrixDisplay(y_test, y_pred)\n",
    "#     return"
   ]
  },
  {
   "cell_type": "markdown",
   "id": "9c9c311d",
   "metadata": {
    "papermill": {
     "duration": 0.106769,
     "end_time": "2023-08-22T19:51:03.859611",
     "exception": false,
     "start_time": "2023-08-22T19:51:03.752842",
     "status": "completed"
    },
    "tags": []
   },
   "source": [
    "### Data preprocessing  "
   ]
  },
  {
   "cell_type": "markdown",
   "id": "9bd200fd",
   "metadata": {
    "papermill": {
     "duration": 0.106815,
     "end_time": "2023-08-22T19:51:04.074947",
     "exception": false,
     "start_time": "2023-08-22T19:51:03.968132",
     "status": "completed"
    },
    "tags": []
   },
   "source": [
    "`Define stop words`  "
   ]
  },
  {
   "cell_type": "code",
   "execution_count": 25,
   "id": "f285f6d7",
   "metadata": {
    "execution": {
     "iopub.execute_input": "2023-08-22T19:51:04.293179Z",
     "iopub.status.busy": "2023-08-22T19:51:04.292777Z",
     "iopub.status.idle": "2023-08-22T19:51:04.298129Z",
     "shell.execute_reply": "2023-08-22T19:51:04.296663Z"
    },
    "papermill": {
     "duration": 0.117791,
     "end_time": "2023-08-22T19:51:04.300627",
     "exception": false,
     "start_time": "2023-08-22T19:51:04.182836",
     "status": "completed"
    },
    "tags": []
   },
   "outputs": [],
   "source": [
    "# stop_words = [\"able\", \"about\", \"above\", \"abst\", \"ac\"]     # Deprecated  \n",
    "# type(stop_words), len(stop_words)"
   ]
  },
  {
   "cell_type": "markdown",
   "id": "5905f76b",
   "metadata": {
    "papermill": {
     "duration": 0.107132,
     "end_time": "2023-08-22T19:51:04.516328",
     "exception": false,
     "start_time": "2023-08-22T19:51:04.409196",
     "status": "completed"
    },
    "tags": []
   },
   "source": [
    "## Feature extraction  "
   ]
  },
  {
   "cell_type": "markdown",
   "id": "a3acc81b",
   "metadata": {
    "papermill": {
     "duration": 0.106855,
     "end_time": "2023-08-22T19:51:04.730386",
     "exception": false,
     "start_time": "2023-08-22T19:51:04.623531",
     "status": "completed"
    },
    "tags": []
   },
   "source": [
    "### Understand CountVectorizer and TfidfVectorizer  "
   ]
  },
  {
   "cell_type": "code",
   "execution_count": 26,
   "id": "70454486",
   "metadata": {
    "execution": {
     "iopub.execute_input": "2023-08-22T19:51:04.946292Z",
     "iopub.status.busy": "2023-08-22T19:51:04.945823Z",
     "iopub.status.idle": "2023-08-22T19:51:04.950995Z",
     "shell.execute_reply": "2023-08-22T19:51:04.949653Z"
    },
    "papermill": {
     "duration": 0.116452,
     "end_time": "2023-08-22T19:51:04.953327",
     "exception": false,
     "start_time": "2023-08-22T19:51:04.836875",
     "status": "completed"
    },
    "tags": []
   },
   "outputs": [],
   "source": [
    "# text = X_train.copy()\n",
    "# text.head()"
   ]
  },
  {
   "cell_type": "code",
   "execution_count": 27,
   "id": "2470628a",
   "metadata": {
    "execution": {
     "iopub.execute_input": "2023-08-22T19:51:05.169745Z",
     "iopub.status.busy": "2023-08-22T19:51:05.169310Z",
     "iopub.status.idle": "2023-08-22T19:51:05.174663Z",
     "shell.execute_reply": "2023-08-22T19:51:05.173421Z"
    },
    "papermill": {
     "duration": 0.116452,
     "end_time": "2023-08-22T19:51:05.177117",
     "exception": false,
     "start_time": "2023-08-22T19:51:05.060665",
     "status": "completed"
    },
    "tags": []
   },
   "outputs": [],
   "source": [
    "# vectorizer = TfidfVectorizer(stop_words=stop_words)\n",
    "# vectorized_text = vectorizer.fit_transform(text[\"reviewText\"])\n",
    "# vectorized_text"
   ]
  },
  {
   "cell_type": "markdown",
   "id": "a52183c8",
   "metadata": {
    "papermill": {
     "duration": 0.107005,
     "end_time": "2023-08-22T19:51:05.394837",
     "exception": false,
     "start_time": "2023-08-22T19:51:05.287832",
     "status": "completed"
    },
    "tags": []
   },
   "source": [
    "`Without stop words`  \n",
    "<122068x58624 sparse matrix of type '<class 'numpy.float64'>'\n",
    "\twith 2312222 stored elements in Compressed Sparse Row format>\n",
    "\n",
    "`With stop words`  \n",
    "<122068x57784 sparse matrix of type '<class 'numpy.float64'>'\n",
    "\twith 1188395 stored elements in Compressed Sparse Row format>   "
   ]
  },
  {
   "cell_type": "code",
   "execution_count": 28,
   "id": "1c091c2f",
   "metadata": {
    "execution": {
     "iopub.execute_input": "2023-08-22T19:51:05.611175Z",
     "iopub.status.busy": "2023-08-22T19:51:05.610018Z",
     "iopub.status.idle": "2023-08-22T19:51:05.614820Z",
     "shell.execute_reply": "2023-08-22T19:51:05.614010Z"
    },
    "papermill": {
     "duration": 0.115218,
     "end_time": "2023-08-22T19:51:05.616980",
     "exception": false,
     "start_time": "2023-08-22T19:51:05.501762",
     "status": "completed"
    },
    "tags": []
   },
   "outputs": [],
   "source": [
    "# vectorizer2 = CountVectorizer(stop_words=stop_words)\n",
    "# vectorized_text2 = vectorizer2.fit_transform(text[\"reviewText\"])\n",
    "# vectorized_text2"
   ]
  },
  {
   "cell_type": "markdown",
   "id": "cba330b6",
   "metadata": {
    "papermill": {
     "duration": 0.109039,
     "end_time": "2023-08-22T19:51:05.920552",
     "exception": false,
     "start_time": "2023-08-22T19:51:05.811513",
     "status": "completed"
    },
    "tags": []
   },
   "source": [
    "`Without stop words`  \n",
    "<122068x58624 sparse matrix of type '<class 'numpy.int64'>'\n",
    "\twith 2312222 stored elements in Compressed Sparse Row format>\n",
    "\n",
    "`With stop words`  \n",
    "<122068x57784 sparse matrix of type '<class 'numpy.int64'>'\n",
    "\twith 1188395 stored elements in Compressed Sparse Row format>"
   ]
  },
  {
   "cell_type": "markdown",
   "id": "797a1ad0",
   "metadata": {
    "papermill": {
     "duration": 0.107779,
     "end_time": "2023-08-22T19:51:06.135662",
     "exception": false,
     "start_time": "2023-08-22T19:51:06.027883",
     "status": "completed"
    },
    "tags": []
   },
   "source": [
    "### Conclusion   \n",
    "`TfidfVectorizer is equivalent to CountVectorizer followed by TfidfTransformer.`  \n",
    "\n",
    "https://scikit-learn.org/stable/modules/generated/sklearn.feature_extraction.text.TfidfVectorizer.html"
   ]
  },
  {
   "cell_type": "markdown",
   "id": "0b5afb4b",
   "metadata": {
    "papermill": {
     "duration": 0.106661,
     "end_time": "2023-08-22T19:51:06.352517",
     "exception": false,
     "start_time": "2023-08-22T19:51:06.245856",
     "status": "completed"
    },
    "tags": []
   },
   "source": [
    "## Model building workflow  \n",
    "\n",
    "`Make pipeline for preprocesing and model training and predictions`  \n"
   ]
  },
  {
   "cell_type": "code",
   "execution_count": 29,
   "id": "1454ad4b",
   "metadata": {
    "execution": {
     "iopub.execute_input": "2023-08-22T19:51:06.571841Z",
     "iopub.status.busy": "2023-08-22T19:51:06.570819Z",
     "iopub.status.idle": "2023-08-22T19:51:06.575903Z",
     "shell.execute_reply": "2023-08-22T19:51:06.575015Z"
    },
    "papermill": {
     "duration": 0.117954,
     "end_time": "2023-08-22T19:51:06.578264",
     "exception": false,
     "start_time": "2023-08-22T19:51:06.460310",
     "status": "completed"
    },
    "tags": []
   },
   "outputs": [],
   "source": [
    "# def preprocess_n_train(X_train, y_train, preprocessor, model):\n",
    "#     pipe = Pipeline(steps=[\n",
    "#                             (\"preprocessor\", preprocessor),\n",
    "#                             (\"model\", model)\n",
    "#                         ])\n",
    "    \n",
    "#     pipe.fit(X_train, y_train)\n",
    "\n",
    "#     print(\"Given model has been trained. Use predict method to get predictions array.\")\n",
    "#     return pipe\n",
    "\n",
    "\n",
    "# def predict_n_evaluate(pipeline, X_test, y_test):\n",
    "#     y_pred = pipeline.predict(X_test)\n",
    "#     print(f\"y_pred shape: {y_pred.shape}\")\n",
    "#     print(f\"Summary of predictions: {np.unique(y_pred, return_counts=True)}\")\n",
    "#     print(classification_report(y_test, y_pred))\n",
    "#     print(confusion_matrix(y_test, y_pred))\n",
    "#     return y_pred"
   ]
  },
  {
   "cell_type": "markdown",
   "id": "d0c4e177",
   "metadata": {
    "papermill": {
     "duration": 0.109096,
     "end_time": "2023-08-22T19:51:06.795660",
     "exception": false,
     "start_time": "2023-08-22T19:51:06.686564",
     "status": "completed"
    },
    "tags": []
   },
   "source": [
    "## Building 3 basic models  "
   ]
  },
  {
   "cell_type": "markdown",
   "id": "06241e4d",
   "metadata": {
    "papermill": {
     "duration": 0.113142,
     "end_time": "2023-08-22T19:51:07.017251",
     "exception": false,
     "start_time": "2023-08-22T19:51:06.904109",
     "status": "completed"
    },
    "tags": []
   },
   "source": [
    "### Text preprocessors  "
   ]
  },
  {
   "cell_type": "code",
   "execution_count": 30,
   "id": "cabcba2c",
   "metadata": {
    "execution": {
     "iopub.execute_input": "2023-08-22T19:51:07.256758Z",
     "iopub.status.busy": "2023-08-22T19:51:07.255832Z",
     "iopub.status.idle": "2023-08-22T19:51:07.266535Z",
     "shell.execute_reply": "2023-08-22T19:51:07.264938Z"
    },
    "papermill": {
     "duration": 0.131753,
     "end_time": "2023-08-22T19:51:07.269379",
     "exception": false,
     "start_time": "2023-08-22T19:51:07.137626",
     "status": "completed"
    },
    "tags": []
   },
   "outputs": [],
   "source": [
    "# tvec = TfidfVectorizer()\n",
    "# cvec = CountVectorizer()        # Note that TfidfVectorizer and CountVectorizer+TfidsTransformer do the same function\n",
    "# tvec, cvec"
   ]
  },
  {
   "cell_type": "markdown",
   "id": "00a30551",
   "metadata": {
    "papermill": {
     "duration": 0.117331,
     "end_time": "2023-08-22T19:51:07.498140",
     "exception": false,
     "start_time": "2023-08-22T19:51:07.380809",
     "status": "completed"
    },
    "tags": []
   },
   "source": [
    "### Logistic Regression with TfidVectorizer for preprocessing  "
   ]
  },
  {
   "cell_type": "code",
   "execution_count": 31,
   "id": "86fc5d5c",
   "metadata": {
    "execution": {
     "iopub.execute_input": "2023-08-22T19:51:07.725318Z",
     "iopub.status.busy": "2023-08-22T19:51:07.724373Z",
     "iopub.status.idle": "2023-08-22T19:51:07.729321Z",
     "shell.execute_reply": "2023-08-22T19:51:07.728314Z"
    },
    "papermill": {
     "duration": 0.118237,
     "end_time": "2023-08-22T19:51:07.731583",
     "exception": false,
     "start_time": "2023-08-22T19:51:07.613346",
     "status": "completed"
    },
    "tags": []
   },
   "outputs": [],
   "source": [
    "# logreg = LogisticRegression(max_iter=1000)\n",
    "# logreg_pipe = preprocess_n_train(X_train, y_train, tvec, logreg)\n",
    "# y_pred_logreg = predict_n_evaluate(logreg_pipe, X_test, y_test)\n",
    "# y_pred_logreg"
   ]
  },
  {
   "cell_type": "markdown",
   "id": "58844f1a",
   "metadata": {
    "papermill": {
     "duration": 0.110162,
     "end_time": "2023-08-22T19:51:07.950261",
     "exception": false,
     "start_time": "2023-08-22T19:51:07.840099",
     "status": "completed"
    },
    "tags": []
   },
   "source": [
    "### SVM model  "
   ]
  },
  {
   "cell_type": "code",
   "execution_count": 32,
   "id": "40b0526c",
   "metadata": {
    "execution": {
     "iopub.execute_input": "2023-08-22T19:51:08.183119Z",
     "iopub.status.busy": "2023-08-22T19:51:08.182460Z",
     "iopub.status.idle": "2023-08-22T19:51:08.186894Z",
     "shell.execute_reply": "2023-08-22T19:51:08.185756Z"
    },
    "papermill": {
     "duration": 0.121513,
     "end_time": "2023-08-22T19:51:08.189573",
     "exception": false,
     "start_time": "2023-08-22T19:51:08.068060",
     "status": "completed"
    },
    "tags": []
   },
   "outputs": [],
   "source": [
    "# svm = LinearSVC()\n",
    "# svm_pipe = preprocess_n_train(X_train, y_train, tvec, svm)\n",
    "# y_pred_svm = predict_n_evaluate(svm_pipe, X_test, y_test)\n",
    "# y_pred_svm"
   ]
  },
  {
   "cell_type": "markdown",
   "id": "0d54b183",
   "metadata": {
    "papermill": {
     "duration": 0.109476,
     "end_time": "2023-08-22T19:51:08.423348",
     "exception": false,
     "start_time": "2023-08-22T19:51:08.313872",
     "status": "completed"
    },
    "tags": []
   },
   "source": [
    "### Naive Bayes model  "
   ]
  },
  {
   "cell_type": "markdown",
   "id": "136a717b",
   "metadata": {
    "papermill": {
     "duration": 0.105917,
     "end_time": "2023-08-22T19:51:08.635975",
     "exception": false,
     "start_time": "2023-08-22T19:51:08.530058",
     "status": "completed"
    },
    "tags": []
   },
   "source": [
    "#### MultinomialNB  "
   ]
  },
  {
   "cell_type": "code",
   "execution_count": 33,
   "id": "59febfe4",
   "metadata": {
    "execution": {
     "iopub.execute_input": "2023-08-22T19:51:08.848610Z",
     "iopub.status.busy": "2023-08-22T19:51:08.847904Z",
     "iopub.status.idle": "2023-08-22T19:51:08.852443Z",
     "shell.execute_reply": "2023-08-22T19:51:08.851170Z"
    },
    "papermill": {
     "duration": 0.114335,
     "end_time": "2023-08-22T19:51:08.854913",
     "exception": false,
     "start_time": "2023-08-22T19:51:08.740578",
     "status": "completed"
    },
    "tags": []
   },
   "outputs": [],
   "source": [
    "# mnb = MultinomialNB()\n",
    "# mnb_pipe = preprocess_n_train(X_train, y_train, tvec, mnb)\n",
    "# y_pred_mnb = predict_n_evaluate(mnb_pipe, X_test, y_test)\n",
    "# y_pred_mnb"
   ]
  },
  {
   "cell_type": "markdown",
   "id": "6bc61957",
   "metadata": {
    "papermill": {
     "duration": 0.104041,
     "end_time": "2023-08-22T19:51:09.066351",
     "exception": false,
     "start_time": "2023-08-22T19:51:08.962310",
     "status": "completed"
    },
    "tags": []
   },
   "source": [
    "## Submitting predictions to Kaggle competition  "
   ]
  },
  {
   "cell_type": "code",
   "execution_count": 34,
   "id": "c9ce3635",
   "metadata": {
    "execution": {
     "iopub.execute_input": "2023-08-22T19:51:09.288045Z",
     "iopub.status.busy": "2023-08-22T19:51:09.287333Z",
     "iopub.status.idle": "2023-08-22T19:51:09.292968Z",
     "shell.execute_reply": "2023-08-22T19:51:09.291873Z"
    },
    "papermill": {
     "duration": 0.120801,
     "end_time": "2023-08-22T19:51:09.295883",
     "exception": false,
     "start_time": "2023-08-22T19:51:09.175082",
     "status": "completed"
    },
    "tags": []
   },
   "outputs": [],
   "source": [
    "# def submit(selected_model=logreg, selected_preprocessor=tvec):\n",
    "    \n",
    "#     # Retrain on the whole train.csv file  \n",
    "#     traindf = pd.read_csv(\"/kaggle/input/sentiment-prediction-on-movie-reviews/train.csv\")\n",
    "#     X_train = traindf[\"reviewText\"]\n",
    "#     X_train.fillna(\"empty\", inplace=True)\n",
    "#     y_train = traindf[\"sentiment\"]\n",
    "#     pipe = preprocess_n_train(X_train, y_train, selected_preprocessor, selected_model)\n",
    "    \n",
    "#     # Predict on test.csv file\n",
    "#     testdf = pd.read_csv(\"/kaggle/input/sentiment-prediction-on-movie-reviews/test.csv\")\n",
    "#     X_test = testdf[\"reviewText\"]\n",
    "#     X_test.fillna(\"empty\", inplace=True)\n",
    "    \n",
    "#     y_pred = pipe.predict(X_test)\n",
    "    \n",
    "#     pred_df = pd.DataFrame(y_pred)\n",
    "#     pred_df.columns = [\"sentiment\"]\n",
    "#     pred_df.index.name = \"id\"\n",
    "#     pred_df.to_csv(\"submission.csv\")\n",
    "    \n",
    "#     return \"Successfully created the submission file!!!\""
   ]
  },
  {
   "cell_type": "code",
   "execution_count": 35,
   "id": "c1102387",
   "metadata": {
    "execution": {
     "iopub.execute_input": "2023-08-22T19:51:09.509396Z",
     "iopub.status.busy": "2023-08-22T19:51:09.508972Z",
     "iopub.status.idle": "2023-08-22T19:51:09.513916Z",
     "shell.execute_reply": "2023-08-22T19:51:09.512724Z"
    },
    "papermill": {
     "duration": 0.114269,
     "end_time": "2023-08-22T19:51:09.516215",
     "exception": false,
     "start_time": "2023-08-22T19:51:09.401946",
     "status": "completed"
    },
    "tags": []
   },
   "outputs": [],
   "source": [
    "# submit(logreg_cv1, tvec_cv1)"
   ]
  },
  {
   "cell_type": "markdown",
   "id": "0193aaef",
   "metadata": {
    "papermill": {
     "duration": 0.103957,
     "end_time": "2023-08-22T19:51:09.725032",
     "exception": false,
     "start_time": "2023-08-22T19:51:09.621075",
     "status": "completed"
    },
    "tags": []
   },
   "source": [
    "# PART II  "
   ]
  },
  {
   "cell_type": "markdown",
   "id": "b1dbc567",
   "metadata": {
    "papermill": {
     "duration": 0.104563,
     "end_time": "2023-08-22T19:51:09.935596",
     "exception": false,
     "start_time": "2023-08-22T19:51:09.831033",
     "status": "completed"
    },
    "tags": []
   },
   "source": [
    "## Merge \"movies.csv\" with \"train.csv\" and \"test.csv\"  "
   ]
  },
  {
   "cell_type": "markdown",
   "id": "297f198e",
   "metadata": {
    "papermill": {
     "duration": 0.104478,
     "end_time": "2023-08-22T19:51:10.145457",
     "exception": false,
     "start_time": "2023-08-22T19:51:10.040979",
     "status": "completed"
    },
    "tags": []
   },
   "source": [
    "### Helper functions  "
   ]
  },
  {
   "cell_type": "code",
   "execution_count": 36,
   "id": "4ed98461",
   "metadata": {
    "execution": {
     "iopub.execute_input": "2023-08-22T19:51:10.365186Z",
     "iopub.status.busy": "2023-08-22T19:51:10.364766Z",
     "iopub.status.idle": "2023-08-22T19:51:10.370759Z",
     "shell.execute_reply": "2023-08-22T19:51:10.369583Z"
    },
    "papermill": {
     "duration": 0.118184,
     "end_time": "2023-08-22T19:51:10.372989",
     "exception": false,
     "start_time": "2023-08-22T19:51:10.254805",
     "status": "completed"
    },
    "tags": []
   },
   "outputs": [],
   "source": [
    "# Helper function for loading files  \n",
    "\n",
    "def load_csv(filename: str):\n",
    "    if platform == \"vscode\":\n",
    "        df = pd.read_csv(f\"data/{filename}.csv\")\n",
    "    else:\n",
    "        df = pd.read_csv(f\"/kaggle/input/sentiment-prediction-on-movie-reviews/{filename}.csv\")\n",
    "        \n",
    "    return df"
   ]
  },
  {
   "cell_type": "code",
   "execution_count": 37,
   "id": "5aab6b4d",
   "metadata": {
    "execution": {
     "iopub.execute_input": "2023-08-22T19:51:10.664792Z",
     "iopub.status.busy": "2023-08-22T19:51:10.664108Z",
     "iopub.status.idle": "2023-08-22T19:51:10.669540Z",
     "shell.execute_reply": "2023-08-22T19:51:10.668716Z"
    },
    "papermill": {
     "duration": 0.193618,
     "end_time": "2023-08-22T19:51:10.671711",
     "exception": false,
     "start_time": "2023-08-22T19:51:10.478093",
     "status": "completed"
    },
    "tags": []
   },
   "outputs": [],
   "source": [
    "def inspect(df: pd.DataFrame):\n",
    "    print(f\"Shape of the dataframe: {df.shape}\")\n",
    "    print()\n",
    "    print(f\"Columns in the dataframe:\\n{df.columns}\")\n",
    "    print()\n",
    "    print(f\"{df.info()}\")\n",
    "    print()\n",
    "    # print(f\"Summary: {df.describe()}\")\n",
    "    print(f\"Missing values:\\n{df.isna().sum()}\")\n",
    "    return"
   ]
  },
  {
   "cell_type": "code",
   "execution_count": 38,
   "id": "cc1c71df",
   "metadata": {
    "execution": {
     "iopub.execute_input": "2023-08-22T19:51:10.884919Z",
     "iopub.status.busy": "2023-08-22T19:51:10.884245Z",
     "iopub.status.idle": "2023-08-22T19:51:10.889177Z",
     "shell.execute_reply": "2023-08-22T19:51:10.888247Z"
    },
    "papermill": {
     "duration": 0.114901,
     "end_time": "2023-08-22T19:51:10.891460",
     "exception": false,
     "start_time": "2023-08-22T19:51:10.776559",
     "status": "completed"
    },
    "tags": []
   },
   "outputs": [],
   "source": [
    "def name_fl(name):\n",
    "    l = name.split()\n",
    "    n = ' '.join((l[0], l[-1]))\n",
    "    return n"
   ]
  },
  {
   "cell_type": "code",
   "execution_count": 39,
   "id": "04c01e5f",
   "metadata": {
    "execution": {
     "iopub.execute_input": "2023-08-22T19:51:11.104743Z",
     "iopub.status.busy": "2023-08-22T19:51:11.104058Z",
     "iopub.status.idle": "2023-08-22T19:51:11.130853Z",
     "shell.execute_reply": "2023-08-22T19:51:11.129581Z"
    },
    "papermill": {
     "duration": 0.136549,
     "end_time": "2023-08-22T19:51:11.133991",
     "exception": false,
     "start_time": "2023-08-22T19:51:10.997442",
     "status": "completed"
    },
    "tags": []
   },
   "outputs": [],
   "source": [
    "def select_features(df: pd.DataFrame, moviesdf: pd.DataFrame, row_thresh_null=None):\n",
    "    '''\n",
    "    This function merges the given dataframes. Note that the first df must be \"train\" or \"test\" and\n",
    "    the second df should be \"movies\".\n",
    "    Note: Sentiment column is present only in \"train.csv\" file and not \"test.csv\" file.\n",
    "    '''\n",
    "    \n",
    "    # Drop duplicates from moviesdf\n",
    "#     movies_unique = moviesdf.drop_duplicates(subset=[\"movieid\"])\n",
    "\n",
    "    # Drop duplicates using groupby - clubs similar rows and fills in missing values better\n",
    "    movies_unique = moviesdf.fillna(value=np.nan).groupby(\"movieid\").first().reset_index()\n",
    "    \n",
    "\n",
    "    # Handle missing values in movies.csv better than just dropping duplicates?\n",
    "#     movies_unique = moviesdf.copy()\n",
    "#     movies_unique[[\"audienceScore\", \"runtimeMinutes\"]] = movies_unique[[\"audienceScore\", \"runtimeMinutes\"]].interpolate(method='linear', axis=0)\n",
    "#     movies_unique = movies_unique.fillna(value=np.nan).groupby(\"movieid\").first().fillna(method='ffill').reset_index()\n",
    "\n",
    "    \n",
    "\n",
    "    # Merge df and movies_unique\n",
    "    df_merged = pd.merge(df, movies_unique, on=\"movieid\", how='left')\n",
    "    \n",
    "    # Rename \"isTopCritic\" column, if it exists, to \"isFrequentReviewer\"\n",
    "    df_merged.rename(columns={\"isTopCritic\": \"isFrequentReviewer\"}, inplace=True)\n",
    "    \n",
    "    # Drop columns\n",
    "#     df_merged = df_merged.drop(columns=[\"title\", \"ratingContents\", \"releaseDateTheaters\", \"releaseDateStreaming\", \"distributor\", \"soundType\"])\n",
    "#     df_merged = df_merged.drop(columns=[\"title\", \"soundType\"])\n",
    "    \n",
    "    # Drop rows (OPTIONAL: Uses kwarg row_thresh_null)\n",
    "    if row_thresh_null != None:\n",
    "        df_merged.dropna(axis=0, thresh=(df_merged.shape[1] - row_thresh_null), inplace=True)\n",
    "        \n",
    "\n",
    "    # Create new columns based on reviewText\n",
    "    final = df_merged.copy()\n",
    "    final[\"reviewYN\"] = np.where(final[\"reviewText\"].isnull(), 1, 0)    # Feature engineering - adding a new column\n",
    "    final[\"reviewWC\"] = final.apply(lambda x: len(str(x[\"reviewText\"]).split()), axis=1)    # Feature engineering - adding second new column\n",
    "    \n",
    "    # Clean text (replace numbers with empty string) and fill missing values in \"reviewText\" with empty string\n",
    "    final[\"reviewText\"] = final[\"reviewText\"].str.replace('\\d+', '', regex=True)\n",
    "    final[\"reviewText\"] = final[\"reviewText\"].fillna(\"neutral\")\n",
    "    \n",
    "    # Fill missing values in \"rating\", \"genre\", original columns with the word \"unknown\"\n",
    "    final[\"rating\"] = final[\"rating\"].fillna(\"unknown\")\n",
    "    final[\"originalLanguage\"] = final[\"originalLanguage\"].fillna(\"unknown\")\n",
    "    final[\"genre\"] = final[\"genre\"].fillna(\"unknown\")\n",
    "    final[\"genre\"] = final[\"genre\"].apply(lambda x: re.sub(r\"-\", \"\", x))\n",
    "    final[\"genreSorted\"] = final[\"genre\"].apply(lambda x: (\",\").join(sorted(x.split(\", \"))))\n",
    "#     final[\"genre\"] = final[\"genre\"].replace(to_replace={\"&\": \"\"})\n",
    "\n",
    "    # Impute missing values for \"audienceScore\" and \"runtimeMinutes\" columns\n",
    "#     final[\"audienceScore\"] = final[\"audienceScore\"].fillna(final[\"audienceScore\"].mean())        # MOVED\n",
    "#     final[\"runtimeMinutes\"] = final[\"runtimeMinutes\"].fillna(final[\"runtimeMinutes\"].median())   # MOVED\n",
    "    \n",
    "    # Preprocess and impute missing values in \"boxOffice\" column\n",
    "    final[\"boxOffice\"] = final[\"boxOffice\"].str[1:]\n",
    "    final[\"boxOffice\"] = final[\"boxOffice\"].replace(to_replace={\"M\": \"*1000000\", \"K\": \"*1000\"}, regex=True)\n",
    "    final[\"boxOffice\"] = final[\"boxOffice\"].loc[final[\"boxOffice\"].notnull()].apply(lambda x: eval(str(x)))\n",
    "#     final[\"boxOffice\"] = final[\"boxOffice\"].fillna(final[\"boxOffice\"].median())                  # MOVED\n",
    "    # (Optional) Replace outliers in boxOffice with median\n",
    "#     median = final[\"boxOffice\"].describe()['50%']\n",
    "#     iqr = final[\"boxOffice\"].describe()['75%'] - final[\"boxOffice\"].describe()['25%']\n",
    "#     ll = median - (1.5*iqr)\n",
    "#     ul = median + (1.5*iqr)\n",
    "#     final.loc[final[\"boxOffice\"] > ul, \"boxOffice\"] = median\n",
    "    \n",
    "    # Clean language names\n",
    "    final[\"originalLanguage\"].replace({\"English (United Kingdom)\": \"English\", \n",
    "                                            \"English (Australia)\" : \"English\",\n",
    "                                            \"French (France)\": \"French\", \n",
    "                                            \"French (Canada)\": \"French\",\n",
    "                                            \"Portuguese (Brazil)\": \"Portuguese\",\n",
    "                                            \"Spanish (Spain)\": \"Spanish\"},                                         \n",
    "                                            inplace=True)\n",
    "    \n",
    "    # Clean reviewerName column\n",
    "    pre_post_fixes = {\"Mr. \": \"\", \"Mrs. \": \"\", \"Ms. \": \"\", \"Dr. \": \"\", \n",
    "                      \" MD\": \"\", \" DDS\": \"\", \" DVM\": \"\", \" Jr.\": \"\", \" PhD\": \"\", \" II\": \"\", \" IV\": \"\"}\n",
    "    final[\"reviewerName\"] = final[\"reviewerName\"].replace(pre_post_fixes, regex=True)\n",
    "    final[\"reviewerName\"] = final[\"reviewerName\"].apply(name_fl)\n",
    "    \n",
    "    # Handle 'ratingContents' column\n",
    "    final[\"ratingContents\"] = final[\"ratingContents\"].fillna(\"neutral\")\n",
    "    final[\"rcSorted\"] = final[\"ratingContents\"].apply(lambda x: (\",\").join(sorted(x.strip(\"][\").split(\", \"))))\n",
    "    final[\"rcSorted\"] = final[\"rcSorted\"].apply(lambda x: re.sub(r\"'\", \"\", x))\n",
    "    final[\"rcSorted\"] = final[\"rcSorted\"].apply(lambda x: re.sub(r\"[/\\s]\", \"_\", x))  \n",
    "    \n",
    "    # Handle 'ratingContents' column\n",
    "    final[\"distributor\"] = final[\"distributor\"].fillna(\"unknown\")\n",
    "    \n",
    "    # Work with 'releaseDateTheaters', releaseDateStreaming column\n",
    "    final[[\"releaseDateTheaters\", \"releaseDateStreaming\"]] = final[[\"releaseDateTheaters\", \"releaseDateStreaming\"]].astype('datetime64[ns]')\n",
    "\n",
    "    final[\"releaseDate\"] = final[[\"releaseDateTheaters\", \"releaseDateStreaming\"]].min(axis=1, skipna=False)\n",
    "#     final[\"releaseDate\"] = final[\"releaseDate\"].fillna(final[\"releaseDate\"].median())               # MOVED\n",
    "\n",
    "    final[\"releaseYear\"] = final[\"releaseDate\"].dt.year\n",
    "    final[\"releaseMonth\"] = final[\"releaseDate\"].dt.month\n",
    "    \n",
    "    # Compute \"releaseDiff\" column and fill missing values in \"releaseDiff\" and (optional) replace outliers\n",
    "    final[\"releaseDiff\"] = (final[\"releaseDateStreaming\"] - final[\"releaseDateTheaters\"]) / np.timedelta64(1, 'D')\n",
    "    final[\"releaseDiff\"] = final[\"releaseDiff\"].apply(lambda x: abs(x))\n",
    "    final[\"releaseDiff\"] = final[\"releaseDiff\"].fillna(value=0)\n",
    "#     final[\"releaseDiff\"] = final[\"releaseDiff\"].fillna(final[\"releaseDiff\"].median())\n",
    "    # median = final[\"releaseDiff\"].describe()['50%']\n",
    "    # iqr = final[\"releaseDiff\"].describe()['75%'] - final[\"releaseDiff\"].describe()['25%']\n",
    "    # ll = median - (1.5*iqr)\n",
    "    # ul = median + (1.5*iqr)\n",
    "    # final.loc[final[\"releaseDiff\"] > ul, \"releaseDiff\"] = median\n",
    "    # final.loc[final[\"releaseDiff\"] < ll, \"releaseDiff\"] = median\n",
    "    \n",
    "#     # Create new feature columns\n",
    "    \n",
    "#     # Convert audienceScore to categories  \n",
    "#     num_bins_as = 20\n",
    "#     final[\"audScoreBins\"] = pd.cut(final['audienceScore'], bins=num_bins_as, labels=False)\n",
    "    \n",
    "#     # Convert runtimeMinutes to categories  \n",
    "# #     num_bins_rt = 20\n",
    "#     final[\"runtimeBins\"] = pd.cut(final['runtimeMinutes'], bins=[0,75,120,180,565], labels=[4,3,2,1])\n",
    "    \n",
    "#     # Convert boxOffice to categories  \n",
    "#     num_bins_bo = 5\n",
    "#     final[\"boxOfficeBins\"] = pd.cut(final['boxOffice'], bins=num_bins_bo, labels=False)\n",
    "    \n",
    "#     # Convert releaseDiff to categories  \n",
    "#     num_bins_rd = 5\n",
    "#     final[\"releaseDiffBins\"] = pd.cut(final['releaseDiff'], bins=[-1, 180, 360, 1000, 40000], labels=[0, 1, 2, 3])\n",
    "\n",
    "    return final"
   ]
  },
  {
   "cell_type": "code",
   "execution_count": 40,
   "id": "a126b9f0",
   "metadata": {
    "execution": {
     "iopub.execute_input": "2023-08-22T19:51:11.357917Z",
     "iopub.status.busy": "2023-08-22T19:51:11.357469Z",
     "iopub.status.idle": "2023-08-22T19:51:11.365530Z",
     "shell.execute_reply": "2023-08-22T19:51:11.364190Z"
    },
    "papermill": {
     "duration": 0.123434,
     "end_time": "2023-08-22T19:51:11.368020",
     "exception": false,
     "start_time": "2023-08-22T19:51:11.244586",
     "status": "completed"
    },
    "tags": []
   },
   "outputs": [],
   "source": [
    "def split_train_predict(features, labels, pipeline, test_size=0.25, random_state=42):\n",
    "    # cols = features.columns\n",
    "    if len(features.shape) == 1:\n",
    "        features = features.to_numpy().reshape(-1, 1)  # reshape to 2D array\n",
    "    features = pd.DataFrame(features)\n",
    "    X_train, X_test, y_train, y_test = train_test_split(features, labels, test_size=test_size, random_state=random_state)\n",
    "    pipeline.fit(X_train, y_train)\n",
    "    y_pred = pipeline.predict(X_test)\n",
    "    print(classification_report(y_test, y_pred))\n",
    "    print(confusion_matrix(y_test, y_pred))\n",
    "    return pipeline"
   ]
  },
  {
   "cell_type": "markdown",
   "id": "0f3d2657",
   "metadata": {
    "papermill": {
     "duration": 0.10692,
     "end_time": "2023-08-22T19:51:11.583565",
     "exception": false,
     "start_time": "2023-08-22T19:51:11.476645",
     "status": "completed"
    },
    "tags": []
   },
   "source": [
    "### Merge \"train.csv\" file with \"movies.csv\" file  "
   ]
  },
  {
   "cell_type": "code",
   "execution_count": 41,
   "id": "0d357b5d",
   "metadata": {
    "execution": {
     "iopub.execute_input": "2023-08-22T19:51:11.800667Z",
     "iopub.status.busy": "2023-08-22T19:51:11.800262Z",
     "iopub.status.idle": "2023-08-22T19:51:26.679576Z",
     "shell.execute_reply": "2023-08-22T19:51:26.678371Z"
    },
    "papermill": {
     "duration": 14.991133,
     "end_time": "2023-08-22T19:51:26.682503",
     "exception": false,
     "start_time": "2023-08-22T19:51:11.691370",
     "status": "completed"
    },
    "tags": []
   },
   "outputs": [],
   "source": [
    "merged = select_features(load_csv(\"train\"), load_csv(\"movies\"), row_thresh_null=None)"
   ]
  },
  {
   "cell_type": "code",
   "execution_count": 42,
   "id": "320fe208",
   "metadata": {
    "execution": {
     "iopub.execute_input": "2023-08-22T19:51:26.896407Z",
     "iopub.status.busy": "2023-08-22T19:51:26.895955Z",
     "iopub.status.idle": "2023-08-22T19:51:28.436953Z",
     "shell.execute_reply": "2023-08-22T19:51:28.435084Z"
    },
    "papermill": {
     "duration": 1.650633,
     "end_time": "2023-08-22T19:51:28.439560",
     "exception": false,
     "start_time": "2023-08-22T19:51:26.788927",
     "status": "completed"
    },
    "tags": []
   },
   "outputs": [
    {
     "name": "stdout",
     "output_type": "stream",
     "text": [
      "Shape of the dataframe: (162758, 26)\n",
      "\n",
      "Columns in the dataframe:\n",
      "Index(['movieid', 'reviewerName', 'isFrequentReviewer', 'reviewText',\n",
      "       'sentiment', 'title', 'audienceScore', 'rating', 'ratingContents',\n",
      "       'releaseDateTheaters', 'releaseDateStreaming', 'runtimeMinutes',\n",
      "       'genre', 'originalLanguage', 'director', 'boxOffice', 'distributor',\n",
      "       'soundType', 'reviewYN', 'reviewWC', 'genreSorted', 'rcSorted',\n",
      "       'releaseDate', 'releaseYear', 'releaseMonth', 'releaseDiff'],\n",
      "      dtype='object')\n",
      "\n",
      "<class 'pandas.core.frame.DataFrame'>\n",
      "Int64Index: 162758 entries, 0 to 162757\n",
      "Data columns (total 26 columns):\n",
      " #   Column                Non-Null Count   Dtype         \n",
      "---  ------                --------------   -----         \n",
      " 0   movieid               162758 non-null  object        \n",
      " 1   reviewerName          162758 non-null  object        \n",
      " 2   isFrequentReviewer    162758 non-null  bool          \n",
      " 3   reviewText            162758 non-null  object        \n",
      " 4   sentiment             162758 non-null  object        \n",
      " 5   title                 162758 non-null  object        \n",
      " 6   audienceScore         159922 non-null  float64       \n",
      " 7   rating                162758 non-null  object        \n",
      " 8   ratingContents        162758 non-null  object        \n",
      " 9   releaseDateTheaters   146403 non-null  datetime64[ns]\n",
      " 10  releaseDateStreaming  157353 non-null  datetime64[ns]\n",
      " 11  runtimeMinutes        162016 non-null  float64       \n",
      " 12  genre                 162758 non-null  object        \n",
      " 13  originalLanguage      162758 non-null  object        \n",
      " 14  director              162758 non-null  object        \n",
      " 15  boxOffice             130581 non-null  float64       \n",
      " 16  distributor           162758 non-null  object        \n",
      " 17  soundType             93466 non-null   object        \n",
      " 18  reviewYN              162758 non-null  int64         \n",
      " 19  reviewWC              162758 non-null  int64         \n",
      " 20  genreSorted           162758 non-null  object        \n",
      " 21  rcSorted              162758 non-null  object        \n",
      " 22  releaseDate           143073 non-null  datetime64[ns]\n",
      " 23  releaseYear           143073 non-null  float64       \n",
      " 24  releaseMonth          143073 non-null  float64       \n",
      " 25  releaseDiff           162758 non-null  float64       \n",
      "dtypes: bool(1), datetime64[ns](3), float64(6), int64(2), object(14)\n",
      "memory usage: 32.4+ MB\n",
      "None\n",
      "\n",
      "Missing values:\n",
      "movieid                     0\n",
      "reviewerName                0\n",
      "isFrequentReviewer          0\n",
      "reviewText                  0\n",
      "sentiment                   0\n",
      "title                       0\n",
      "audienceScore            2836\n",
      "rating                      0\n",
      "ratingContents              0\n",
      "releaseDateTheaters     16355\n",
      "releaseDateStreaming     5405\n",
      "runtimeMinutes            742\n",
      "genre                       0\n",
      "originalLanguage            0\n",
      "director                    0\n",
      "boxOffice               32177\n",
      "distributor                 0\n",
      "soundType               69292\n",
      "reviewYN                    0\n",
      "reviewWC                    0\n",
      "genreSorted                 0\n",
      "rcSorted                    0\n",
      "releaseDate             19685\n",
      "releaseYear             19685\n",
      "releaseMonth            19685\n",
      "releaseDiff                 0\n",
      "dtype: int64\n"
     ]
    }
   ],
   "source": [
    "inspect(merged)    # Note missing values in ['audienceScore', 'runtimeMinutes', 'boxOffice'] columns  "
   ]
  },
  {
   "cell_type": "code",
   "execution_count": 43,
   "id": "47fb89e0",
   "metadata": {
    "execution": {
     "iopub.execute_input": "2023-08-22T19:51:28.658105Z",
     "iopub.status.busy": "2023-08-22T19:51:28.657655Z",
     "iopub.status.idle": "2023-08-22T19:51:28.749031Z",
     "shell.execute_reply": "2023-08-22T19:51:28.747756Z"
    },
    "papermill": {
     "duration": 0.205333,
     "end_time": "2023-08-22T19:51:28.752085",
     "exception": false,
     "start_time": "2023-08-22T19:51:28.546752",
     "status": "completed"
    },
    "tags": []
   },
   "outputs": [
    {
     "data": {
      "text/plain": [
       "array([6.80e+01, 1.04e+02, 1.43e+07])"
      ]
     },
     "execution_count": 43,
     "metadata": {},
     "output_type": "execute_result"
    }
   ],
   "source": [
    "# Simple Imputer for ['audienceScore', 'runtimeMinutes', 'boxOffice'] columns\n",
    "si = SimpleImputer(strategy='median')\n",
    "merged[['audienceScore', 'runtimeMinutes', 'boxOffice']] = si.fit_transform(merged[['audienceScore', 'runtimeMinutes', 'boxOffice']])\n",
    "si.statistics_"
   ]
  },
  {
   "cell_type": "code",
   "execution_count": 44,
   "id": "e2a7a2f4",
   "metadata": {
    "execution": {
     "iopub.execute_input": "2023-08-22T19:51:28.972498Z",
     "iopub.status.busy": "2023-08-22T19:51:28.972079Z",
     "iopub.status.idle": "2023-08-22T19:51:28.986048Z",
     "shell.execute_reply": "2023-08-22T19:51:28.984720Z"
    },
    "papermill": {
     "duration": 0.128062,
     "end_time": "2023-08-22T19:51:28.989123",
     "exception": false,
     "start_time": "2023-08-22T19:51:28.861061",
     "status": "completed"
    },
    "tags": []
   },
   "outputs": [],
   "source": [
    "# Fill 'releaseDate' column with median  \n",
    "merged['releaseDate'] = merged[\"releaseDate\"].fillna(merged[\"releaseDate\"].median())"
   ]
  },
  {
   "cell_type": "code",
   "execution_count": 45,
   "id": "579dd5dd",
   "metadata": {
    "execution": {
     "iopub.execute_input": "2023-08-22T19:51:29.211509Z",
     "iopub.status.busy": "2023-08-22T19:51:29.210808Z",
     "iopub.status.idle": "2023-08-22T19:51:30.703310Z",
     "shell.execute_reply": "2023-08-22T19:51:30.701598Z"
    },
    "papermill": {
     "duration": 1.606002,
     "end_time": "2023-08-22T19:51:30.705727",
     "exception": false,
     "start_time": "2023-08-22T19:51:29.099725",
     "status": "completed"
    },
    "tags": []
   },
   "outputs": [
    {
     "name": "stdout",
     "output_type": "stream",
     "text": [
      "Shape of the dataframe: (162758, 26)\n",
      "\n",
      "Columns in the dataframe:\n",
      "Index(['movieid', 'reviewerName', 'isFrequentReviewer', 'reviewText',\n",
      "       'sentiment', 'title', 'audienceScore', 'rating', 'ratingContents',\n",
      "       'releaseDateTheaters', 'releaseDateStreaming', 'runtimeMinutes',\n",
      "       'genre', 'originalLanguage', 'director', 'boxOffice', 'distributor',\n",
      "       'soundType', 'reviewYN', 'reviewWC', 'genreSorted', 'rcSorted',\n",
      "       'releaseDate', 'releaseYear', 'releaseMonth', 'releaseDiff'],\n",
      "      dtype='object')\n",
      "\n",
      "<class 'pandas.core.frame.DataFrame'>\n",
      "Int64Index: 162758 entries, 0 to 162757\n",
      "Data columns (total 26 columns):\n",
      " #   Column                Non-Null Count   Dtype         \n",
      "---  ------                --------------   -----         \n",
      " 0   movieid               162758 non-null  object        \n",
      " 1   reviewerName          162758 non-null  object        \n",
      " 2   isFrequentReviewer    162758 non-null  bool          \n",
      " 3   reviewText            162758 non-null  object        \n",
      " 4   sentiment             162758 non-null  object        \n",
      " 5   title                 162758 non-null  object        \n",
      " 6   audienceScore         162758 non-null  float64       \n",
      " 7   rating                162758 non-null  object        \n",
      " 8   ratingContents        162758 non-null  object        \n",
      " 9   releaseDateTheaters   146403 non-null  datetime64[ns]\n",
      " 10  releaseDateStreaming  157353 non-null  datetime64[ns]\n",
      " 11  runtimeMinutes        162758 non-null  float64       \n",
      " 12  genre                 162758 non-null  object        \n",
      " 13  originalLanguage      162758 non-null  object        \n",
      " 14  director              162758 non-null  object        \n",
      " 15  boxOffice             162758 non-null  float64       \n",
      " 16  distributor           162758 non-null  object        \n",
      " 17  soundType             93466 non-null   object        \n",
      " 18  reviewYN              162758 non-null  int64         \n",
      " 19  reviewWC              162758 non-null  int64         \n",
      " 20  genreSorted           162758 non-null  object        \n",
      " 21  rcSorted              162758 non-null  object        \n",
      " 22  releaseDate           162758 non-null  datetime64[ns]\n",
      " 23  releaseYear           143073 non-null  float64       \n",
      " 24  releaseMonth          143073 non-null  float64       \n",
      " 25  releaseDiff           162758 non-null  float64       \n",
      "dtypes: bool(1), datetime64[ns](3), float64(6), int64(2), object(14)\n",
      "memory usage: 32.4+ MB\n",
      "None\n",
      "\n",
      "Missing values:\n",
      "movieid                     0\n",
      "reviewerName                0\n",
      "isFrequentReviewer          0\n",
      "reviewText                  0\n",
      "sentiment                   0\n",
      "title                       0\n",
      "audienceScore               0\n",
      "rating                      0\n",
      "ratingContents              0\n",
      "releaseDateTheaters     16355\n",
      "releaseDateStreaming     5405\n",
      "runtimeMinutes              0\n",
      "genre                       0\n",
      "originalLanguage            0\n",
      "director                    0\n",
      "boxOffice                   0\n",
      "distributor                 0\n",
      "soundType               69292\n",
      "reviewYN                    0\n",
      "reviewWC                    0\n",
      "genreSorted                 0\n",
      "rcSorted                    0\n",
      "releaseDate                 0\n",
      "releaseYear             19685\n",
      "releaseMonth            19685\n",
      "releaseDiff                 0\n",
      "dtype: int64\n"
     ]
    }
   ],
   "source": [
    "# Check out 'merged' df after imputation  \n",
    "inspect(merged)"
   ]
  },
  {
   "cell_type": "code",
   "execution_count": 46,
   "id": "175b820d",
   "metadata": {
    "execution": {
     "iopub.execute_input": "2023-08-22T19:51:30.922233Z",
     "iopub.status.busy": "2023-08-22T19:51:30.921795Z",
     "iopub.status.idle": "2023-08-22T19:51:30.979626Z",
     "shell.execute_reply": "2023-08-22T19:51:30.978740Z"
    },
    "papermill": {
     "duration": 0.168222,
     "end_time": "2023-08-22T19:51:30.981987",
     "exception": false,
     "start_time": "2023-08-22T19:51:30.813765",
     "status": "completed"
    },
    "tags": []
   },
   "outputs": [
    {
     "data": {
      "text/html": [
       "<div>\n",
       "<style scoped>\n",
       "    .dataframe tbody tr th:only-of-type {\n",
       "        vertical-align: middle;\n",
       "    }\n",
       "\n",
       "    .dataframe tbody tr th {\n",
       "        vertical-align: top;\n",
       "    }\n",
       "\n",
       "    .dataframe thead th {\n",
       "        text-align: right;\n",
       "    }\n",
       "</style>\n",
       "<table border=\"1\" class=\"dataframe\">\n",
       "  <thead>\n",
       "    <tr style=\"text-align: right;\">\n",
       "      <th></th>\n",
       "      <th>audienceScore</th>\n",
       "      <th>runtimeMinutes</th>\n",
       "      <th>boxOffice</th>\n",
       "    </tr>\n",
       "  </thead>\n",
       "  <tbody>\n",
       "    <tr>\n",
       "      <th>count</th>\n",
       "      <td>162758.000000</td>\n",
       "      <td>162758.000000</td>\n",
       "      <td>1.627580e+05</td>\n",
       "    </tr>\n",
       "    <tr>\n",
       "      <th>mean</th>\n",
       "      <td>65.062565</td>\n",
       "      <td>106.992019</td>\n",
       "      <td>4.160983e+07</td>\n",
       "    </tr>\n",
       "    <tr>\n",
       "      <th>std</th>\n",
       "      <td>19.844000</td>\n",
       "      <td>22.203778</td>\n",
       "      <td>7.932291e+07</td>\n",
       "    </tr>\n",
       "    <tr>\n",
       "      <th>min</th>\n",
       "      <td>0.000000</td>\n",
       "      <td>4.000000</td>\n",
       "      <td>0.000000e+00</td>\n",
       "    </tr>\n",
       "    <tr>\n",
       "      <th>25%</th>\n",
       "      <td>51.000000</td>\n",
       "      <td>93.000000</td>\n",
       "      <td>2.000000e+06</td>\n",
       "    </tr>\n",
       "    <tr>\n",
       "      <th>50%</th>\n",
       "      <td>68.000000</td>\n",
       "      <td>104.000000</td>\n",
       "      <td>1.430000e+07</td>\n",
       "    </tr>\n",
       "    <tr>\n",
       "      <th>75%</th>\n",
       "      <td>81.000000</td>\n",
       "      <td>118.000000</td>\n",
       "      <td>4.200000e+07</td>\n",
       "    </tr>\n",
       "    <tr>\n",
       "      <th>max</th>\n",
       "      <td>100.000000</td>\n",
       "      <td>561.000000</td>\n",
       "      <td>8.584000e+08</td>\n",
       "    </tr>\n",
       "  </tbody>\n",
       "</table>\n",
       "</div>"
      ],
      "text/plain": [
       "       audienceScore  runtimeMinutes     boxOffice\n",
       "count  162758.000000   162758.000000  1.627580e+05\n",
       "mean       65.062565      106.992019  4.160983e+07\n",
       "std        19.844000       22.203778  7.932291e+07\n",
       "min         0.000000        4.000000  0.000000e+00\n",
       "25%        51.000000       93.000000  2.000000e+06\n",
       "50%        68.000000      104.000000  1.430000e+07\n",
       "75%        81.000000      118.000000  4.200000e+07\n",
       "max       100.000000      561.000000  8.584000e+08"
      ]
     },
     "execution_count": 46,
     "metadata": {},
     "output_type": "execute_result"
    }
   ],
   "source": [
    "merged[['audienceScore', 'runtimeMinutes', 'boxOffice']].describe()"
   ]
  },
  {
   "cell_type": "markdown",
   "id": "6fdb2a94",
   "metadata": {
    "papermill": {
     "duration": 0.107522,
     "end_time": "2023-08-22T19:51:31.198879",
     "exception": false,
     "start_time": "2023-08-22T19:51:31.091357",
     "status": "completed"
    },
    "tags": []
   },
   "source": [
    "### EDA audienceScore  "
   ]
  },
  {
   "cell_type": "code",
   "execution_count": 47,
   "id": "43b78bb2",
   "metadata": {
    "execution": {
     "iopub.execute_input": "2023-08-22T19:51:31.417688Z",
     "iopub.status.busy": "2023-08-22T19:51:31.416546Z",
     "iopub.status.idle": "2023-08-22T19:51:31.813890Z",
     "shell.execute_reply": "2023-08-22T19:51:31.812921Z"
    },
    "papermill": {
     "duration": 0.509827,
     "end_time": "2023-08-22T19:51:31.816184",
     "exception": false,
     "start_time": "2023-08-22T19:51:31.306357",
     "status": "completed"
    },
    "tags": []
   },
   "outputs": [
    {
     "data": {
      "text/plain": [
       "<Axes: xlabel='sentiment', ylabel='audienceScore'>"
      ]
     },
     "execution_count": 47,
     "metadata": {},
     "output_type": "execute_result"
    },
    {
     "data": {
      "image/png": "[encoded data removed]",
      "text/plain": [
       "<Figure size 640x480 with 1 Axes>"
      ]
     },
     "metadata": {},
     "output_type": "display_data"
    }
   ],
   "source": [
    "sns.boxplot(y=merged[\"audienceScore\"], x=merged[\"sentiment\"])"
   ]
  },
  {
   "cell_type": "code",
   "execution_count": 48,
   "id": "40feaa38",
   "metadata": {
    "execution": {
     "iopub.execute_input": "2023-08-22T19:51:32.034389Z",
     "iopub.status.busy": "2023-08-22T19:51:32.033016Z",
     "iopub.status.idle": "2023-08-22T19:51:32.088712Z",
     "shell.execute_reply": "2023-08-22T19:51:32.087184Z"
    },
    "papermill": {
     "duration": 0.168432,
     "end_time": "2023-08-22T19:51:32.091477",
     "exception": false,
     "start_time": "2023-08-22T19:51:31.923045",
     "status": "completed"
    },
    "tags": []
   },
   "outputs": [
    {
     "data": {
      "text/html": [
       "<div>\n",
       "<style scoped>\n",
       "    .dataframe tbody tr th:only-of-type {\n",
       "        vertical-align: middle;\n",
       "    }\n",
       "\n",
       "    .dataframe tbody tr th {\n",
       "        vertical-align: top;\n",
       "    }\n",
       "\n",
       "    .dataframe thead th {\n",
       "        text-align: right;\n",
       "    }\n",
       "</style>\n",
       "<table border=\"1\" class=\"dataframe\">\n",
       "  <thead>\n",
       "    <tr style=\"text-align: right;\">\n",
       "      <th></th>\n",
       "      <th>count</th>\n",
       "      <th>mean</th>\n",
       "      <th>std</th>\n",
       "      <th>min</th>\n",
       "      <th>25%</th>\n",
       "      <th>50%</th>\n",
       "      <th>75%</th>\n",
       "      <th>max</th>\n",
       "    </tr>\n",
       "    <tr>\n",
       "      <th>sentiment</th>\n",
       "      <th></th>\n",
       "      <th></th>\n",
       "      <th></th>\n",
       "      <th></th>\n",
       "      <th></th>\n",
       "      <th></th>\n",
       "      <th></th>\n",
       "      <th></th>\n",
       "    </tr>\n",
       "  </thead>\n",
       "  <tbody>\n",
       "    <tr>\n",
       "      <th>NEGATIVE</th>\n",
       "      <td>53997.0</td>\n",
       "      <td>56.474786</td>\n",
       "      <td>19.902115</td>\n",
       "      <td>0.0</td>\n",
       "      <td>41.0</td>\n",
       "      <td>57.0</td>\n",
       "      <td>72.0</td>\n",
       "      <td>100.0</td>\n",
       "    </tr>\n",
       "    <tr>\n",
       "      <th>POSITIVE</th>\n",
       "      <td>108761.0</td>\n",
       "      <td>69.326174</td>\n",
       "      <td>18.380626</td>\n",
       "      <td>0.0</td>\n",
       "      <td>58.0</td>\n",
       "      <td>73.0</td>\n",
       "      <td>84.0</td>\n",
       "      <td>100.0</td>\n",
       "    </tr>\n",
       "  </tbody>\n",
       "</table>\n",
       "</div>"
      ],
      "text/plain": [
       "              count       mean        std  min   25%   50%   75%    max\n",
       "sentiment                                                              \n",
       "NEGATIVE    53997.0  56.474786  19.902115  0.0  41.0  57.0  72.0  100.0\n",
       "POSITIVE   108761.0  69.326174  18.380626  0.0  58.0  73.0  84.0  100.0"
      ]
     },
     "execution_count": 48,
     "metadata": {},
     "output_type": "execute_result"
    }
   ],
   "source": [
    "merged.groupby('sentiment')['audienceScore'].describe()"
   ]
  },
  {
   "cell_type": "code",
   "execution_count": 49,
   "id": "2bea1cd7",
   "metadata": {
    "execution": {
     "iopub.execute_input": "2023-08-22T19:51:32.314858Z",
     "iopub.status.busy": "2023-08-22T19:51:32.314390Z",
     "iopub.status.idle": "2023-08-22T19:51:32.378532Z",
     "shell.execute_reply": "2023-08-22T19:51:32.377294Z"
    },
    "papermill": {
     "duration": 0.177782,
     "end_time": "2023-08-22T19:51:32.381191",
     "exception": false,
     "start_time": "2023-08-22T19:51:32.203409",
     "status": "completed"
    },
    "tags": []
   },
   "outputs": [
    {
     "data": {
      "text/plain": [
       "(162758, 26)"
      ]
     },
     "execution_count": 49,
     "metadata": {},
     "output_type": "execute_result"
    }
   ],
   "source": [
    "merged.loc[merged['audienceScore'] >= 0].shape"
   ]
  },
  {
   "cell_type": "markdown",
   "id": "ecaf467e",
   "metadata": {
    "papermill": {
     "duration": 0.109692,
     "end_time": "2023-08-22T19:51:32.600448",
     "exception": false,
     "start_time": "2023-08-22T19:51:32.490756",
     "status": "completed"
    },
    "tags": []
   },
   "source": [
    "### EDA releaseDiff  "
   ]
  },
  {
   "cell_type": "code",
   "execution_count": 50,
   "id": "176ba5f3",
   "metadata": {
    "execution": {
     "iopub.execute_input": "2023-08-22T19:51:32.823008Z",
     "iopub.status.busy": "2023-08-22T19:51:32.822556Z",
     "iopub.status.idle": "2023-08-22T19:51:32.843613Z",
     "shell.execute_reply": "2023-08-22T19:51:32.842441Z"
    },
    "papermill": {
     "duration": 0.135596,
     "end_time": "2023-08-22T19:51:32.846119",
     "exception": false,
     "start_time": "2023-08-22T19:51:32.710523",
     "status": "completed"
    },
    "tags": []
   },
   "outputs": [
    {
     "data": {
      "text/plain": [
       "count    162758.000000\n",
       "mean       1653.469015\n",
       "std        4581.420922\n",
       "min           0.000000\n",
       "25%          65.000000\n",
       "50%         116.000000\n",
       "75%         375.000000\n",
       "max       38922.000000\n",
       "Name: releaseDiff, dtype: float64"
      ]
     },
     "execution_count": 50,
     "metadata": {},
     "output_type": "execute_result"
    }
   ],
   "source": [
    "# abs values\n",
    "merged[\"releaseDiff\"].describe()"
   ]
  },
  {
   "cell_type": "code",
   "execution_count": 51,
   "id": "3e5bfc96",
   "metadata": {
    "execution": {
     "iopub.execute_input": "2023-08-22T19:51:33.071399Z",
     "iopub.status.busy": "2023-08-22T19:51:33.070473Z",
     "iopub.status.idle": "2023-08-22T19:51:33.075579Z",
     "shell.execute_reply": "2023-08-22T19:51:33.074455Z"
    },
    "papermill": {
     "duration": 0.121729,
     "end_time": "2023-08-22T19:51:33.077913",
     "exception": false,
     "start_time": "2023-08-22T19:51:32.956184",
     "status": "completed"
    },
    "tags": []
   },
   "outputs": [],
   "source": [
    "# merged['releaseDiffBins'].value_counts()"
   ]
  },
  {
   "cell_type": "code",
   "execution_count": 52,
   "id": "a9be9f1b",
   "metadata": {
    "execution": {
     "iopub.execute_input": "2023-08-22T19:51:33.302487Z",
     "iopub.status.busy": "2023-08-22T19:51:33.301030Z",
     "iopub.status.idle": "2023-08-22T19:51:33.684085Z",
     "shell.execute_reply": "2023-08-22T19:51:33.682932Z"
    },
    "papermill": {
     "duration": 0.498073,
     "end_time": "2023-08-22T19:51:33.686483",
     "exception": false,
     "start_time": "2023-08-22T19:51:33.188410",
     "status": "completed"
    },
    "tags": []
   },
   "outputs": [
    {
     "data": {
      "text/plain": [
       "<Axes: xlabel='sentiment', ylabel='releaseDiff'>"
      ]
     },
     "execution_count": 52,
     "metadata": {},
     "output_type": "execute_result"
    },
    {
     "data": {
      "image/png": "[encoded data removed]",
      "text/plain": [
       "<Figure size 640x480 with 1 Axes>"
      ]
     },
     "metadata": {},
     "output_type": "display_data"
    }
   ],
   "source": [
    "sns.boxplot(x=merged['sentiment'], y=merged['releaseDiff'], showfliers=False)"
   ]
  },
  {
   "cell_type": "code",
   "execution_count": 53,
   "id": "b9377a09",
   "metadata": {
    "execution": {
     "iopub.execute_input": "2023-08-22T19:51:33.906820Z",
     "iopub.status.busy": "2023-08-22T19:51:33.906359Z",
     "iopub.status.idle": "2023-08-22T19:51:33.911258Z",
     "shell.execute_reply": "2023-08-22T19:51:33.910121Z"
    },
    "papermill": {
     "duration": 0.117761,
     "end_time": "2023-08-22T19:51:33.913455",
     "exception": false,
     "start_time": "2023-08-22T19:51:33.795694",
     "status": "completed"
    },
    "tags": []
   },
   "outputs": [],
   "source": [
    "# sns.displot(merged['releaseDiffBins'])"
   ]
  },
  {
   "cell_type": "code",
   "execution_count": 54,
   "id": "746f3276",
   "metadata": {
    "execution": {
     "iopub.execute_input": "2023-08-22T19:51:34.134922Z",
     "iopub.status.busy": "2023-08-22T19:51:34.134475Z",
     "iopub.status.idle": "2023-08-22T19:51:34.138587Z",
     "shell.execute_reply": "2023-08-22T19:51:34.137817Z"
    },
    "papermill": {
     "duration": 0.118043,
     "end_time": "2023-08-22T19:51:34.140848",
     "exception": false,
     "start_time": "2023-08-22T19:51:34.022805",
     "status": "completed"
    },
    "tags": []
   },
   "outputs": [],
   "source": [
    "# merged['sentiment'].loc[merged['releaseDiffBins'] > 0].value_counts()"
   ]
  },
  {
   "cell_type": "code",
   "execution_count": 55,
   "id": "3b8ab437",
   "metadata": {
    "execution": {
     "iopub.execute_input": "2023-08-22T19:51:34.362536Z",
     "iopub.status.busy": "2023-08-22T19:51:34.362085Z",
     "iopub.status.idle": "2023-08-22T19:51:34.366390Z",
     "shell.execute_reply": "2023-08-22T19:51:34.365637Z"
    },
    "papermill": {
     "duration": 0.118203,
     "end_time": "2023-08-22T19:51:34.369176",
     "exception": false,
     "start_time": "2023-08-22T19:51:34.250973",
     "status": "completed"
    },
    "tags": []
   },
   "outputs": [],
   "source": [
    "# merged['releaseDiffBins'].describe()"
   ]
  },
  {
   "cell_type": "markdown",
   "id": "54df5b75",
   "metadata": {
    "papermill": {
     "duration": 0.106779,
     "end_time": "2023-08-22T19:51:34.584510",
     "exception": false,
     "start_time": "2023-08-22T19:51:34.477731",
     "status": "completed"
    },
    "tags": []
   },
   "source": [
    "### EDA 'distributor'  "
   ]
  },
  {
   "cell_type": "code",
   "execution_count": 56,
   "id": "1c3baeda",
   "metadata": {
    "execution": {
     "iopub.execute_input": "2023-08-22T19:51:34.804412Z",
     "iopub.status.busy": "2023-08-22T19:51:34.803685Z",
     "iopub.status.idle": "2023-08-22T19:51:34.839815Z",
     "shell.execute_reply": "2023-08-22T19:51:34.838712Z"
    },
    "papermill": {
     "duration": 0.150767,
     "end_time": "2023-08-22T19:51:34.842423",
     "exception": false,
     "start_time": "2023-08-22T19:51:34.691656",
     "status": "completed"
    },
    "tags": []
   },
   "outputs": [
    {
     "data": {
      "text/plain": [
       "unknown                              20489\n",
       "Universal Pictures                    8847\n",
       "Warner Bros. Pictures                 8722\n",
       "Paramount Pictures                    7773\n",
       "20th Century Fox                      7007\n",
       "                                     ...  \n",
       "Almi Pictures                            1\n",
       "Koch Lorber                              1\n",
       "Magic Lamp                               1\n",
       "Fine Line Features, Miramax Films        1\n",
       "American Film Co.                        1\n",
       "Name: distributor, Length: 1796, dtype: int64"
      ]
     },
     "execution_count": 56,
     "metadata": {},
     "output_type": "execute_result"
    }
   ],
   "source": [
    "merged[\"distributor\"].value_counts()"
   ]
  },
  {
   "cell_type": "code",
   "execution_count": 57,
   "id": "4ca01d25",
   "metadata": {
    "execution": {
     "iopub.execute_input": "2023-08-22T19:51:35.068262Z",
     "iopub.status.busy": "2023-08-22T19:51:35.067803Z",
     "iopub.status.idle": "2023-08-22T19:51:35.087504Z",
     "shell.execute_reply": "2023-08-22T19:51:35.086027Z"
    },
    "papermill": {
     "duration": 0.13715,
     "end_time": "2023-08-22T19:51:35.090161",
     "exception": false,
     "start_time": "2023-08-22T19:51:34.953011",
     "status": "completed"
    },
    "tags": []
   },
   "outputs": [
    {
     "data": {
      "text/plain": [
       "count    162758.000000\n",
       "mean        106.992019\n",
       "std          22.203778\n",
       "min           4.000000\n",
       "25%          93.000000\n",
       "50%         104.000000\n",
       "75%         118.000000\n",
       "max         561.000000\n",
       "Name: runtimeMinutes, dtype: float64"
      ]
     },
     "execution_count": 57,
     "metadata": {},
     "output_type": "execute_result"
    }
   ],
   "source": [
    "merged[\"runtimeMinutes\"].describe()"
   ]
  },
  {
   "cell_type": "code",
   "execution_count": 58,
   "id": "ed9e1405",
   "metadata": {
    "execution": {
     "iopub.execute_input": "2023-08-22T19:51:35.316563Z",
     "iopub.status.busy": "2023-08-22T19:51:35.316140Z",
     "iopub.status.idle": "2023-08-22T19:51:35.735660Z",
     "shell.execute_reply": "2023-08-22T19:51:35.734473Z"
    },
    "papermill": {
     "duration": 0.53578,
     "end_time": "2023-08-22T19:51:35.738348",
     "exception": false,
     "start_time": "2023-08-22T19:51:35.202568",
     "status": "completed"
    },
    "tags": []
   },
   "outputs": [
    {
     "data": {
      "text/plain": [
       "<Axes: xlabel='sentiment', ylabel='runtimeMinutes'>"
      ]
     },
     "execution_count": 58,
     "metadata": {},
     "output_type": "execute_result"
    },
    {
     "data": {
      "image/png": "[encoded data removed]",
      "text/plain": [
       "<Figure size 640x480 with 1 Axes>"
      ]
     },
     "metadata": {},
     "output_type": "display_data"
    }
   ],
   "source": [
    "sns.boxplot(y=merged[\"runtimeMinutes\"], x=merged[\"sentiment\"])"
   ]
  },
  {
   "cell_type": "code",
   "execution_count": 59,
   "id": "09f2366e",
   "metadata": {
    "execution": {
     "iopub.execute_input": "2023-08-22T19:51:35.964816Z",
     "iopub.status.busy": "2023-08-22T19:51:35.963433Z",
     "iopub.status.idle": "2023-08-22T19:51:35.969195Z",
     "shell.execute_reply": "2023-08-22T19:51:35.968142Z"
    },
    "papermill": {
     "duration": 0.121013,
     "end_time": "2023-08-22T19:51:35.971749",
     "exception": false,
     "start_time": "2023-08-22T19:51:35.850736",
     "status": "completed"
    },
    "tags": []
   },
   "outputs": [],
   "source": [
    "# print(merged[\"boxOfficeBins\"].value_counts())\n",
    "# sns.displot(merged[\"boxOfficeBins\"])"
   ]
  },
  {
   "cell_type": "code",
   "execution_count": 60,
   "id": "d14b73f2",
   "metadata": {
    "execution": {
     "iopub.execute_input": "2023-08-22T19:51:36.198159Z",
     "iopub.status.busy": "2023-08-22T19:51:36.197713Z",
     "iopub.status.idle": "2023-08-22T19:51:36.206549Z",
     "shell.execute_reply": "2023-08-22T19:51:36.205002Z"
    },
    "papermill": {
     "duration": 0.125215,
     "end_time": "2023-08-22T19:51:36.208832",
     "exception": false,
     "start_time": "2023-08-22T19:51:36.083617",
     "status": "completed"
    },
    "tags": []
   },
   "outputs": [
    {
     "data": {
      "text/plain": [
       "0    Henry Selick’s first movie since ’s Coraline. ...\n",
       "1    With a cast that reads like the Vogue Oscar pa...\n",
       "2    Creed II does not give us anything but another...\n",
       "3    I know what you're thinking, but this is no Li...\n",
       "4    Director Fernando Meirelles tells the story wi...\n",
       "Name: reviewText, dtype: object"
      ]
     },
     "execution_count": 60,
     "metadata": {},
     "output_type": "execute_result"
    }
   ],
   "source": [
    "merged[\"reviewText\"].head()"
   ]
  },
  {
   "cell_type": "code",
   "execution_count": 61,
   "id": "07f6f9d0",
   "metadata": {
    "execution": {
     "iopub.execute_input": "2023-08-22T19:51:36.437515Z",
     "iopub.status.busy": "2023-08-22T19:51:36.436176Z",
     "iopub.status.idle": "2023-08-22T19:51:36.446031Z",
     "shell.execute_reply": "2023-08-22T19:51:36.444752Z"
    },
    "papermill": {
     "duration": 0.126625,
     "end_time": "2023-08-22T19:51:36.448646",
     "exception": false,
     "start_time": "2023-08-22T19:51:36.322021",
     "status": "completed"
    },
    "tags": []
   },
   "outputs": [
    {
     "data": {
      "text/plain": [
       "6447"
      ]
     },
     "execution_count": 61,
     "metadata": {},
     "output_type": "execute_result"
    }
   ],
   "source": [
    "merged[\"reviewYN\"].sum()"
   ]
  },
  {
   "cell_type": "code",
   "execution_count": 62,
   "id": "f03b782a",
   "metadata": {
    "execution": {
     "iopub.execute_input": "2023-08-22T19:51:36.672016Z",
     "iopub.status.busy": "2023-08-22T19:51:36.671551Z",
     "iopub.status.idle": "2023-08-22T19:51:36.680025Z",
     "shell.execute_reply": "2023-08-22T19:51:36.678883Z"
    },
    "papermill": {
     "duration": 0.123359,
     "end_time": "2023-08-22T19:51:36.682146",
     "exception": false,
     "start_time": "2023-08-22T19:51:36.558787",
     "status": "completed"
    },
    "tags": []
   },
   "outputs": [
    {
     "data": {
      "text/plain": [
       "0    11\n",
       "1    24\n",
       "2    22\n",
       "3    34\n",
       "4    20\n",
       "Name: reviewWC, dtype: int64"
      ]
     },
     "execution_count": 62,
     "metadata": {},
     "output_type": "execute_result"
    }
   ],
   "source": [
    "merged[\"reviewWC\"].head()"
   ]
  },
  {
   "cell_type": "code",
   "execution_count": 63,
   "id": "c025d1e5",
   "metadata": {
    "execution": {
     "iopub.execute_input": "2023-08-22T19:51:36.908445Z",
     "iopub.status.busy": "2023-08-22T19:51:36.908026Z",
     "iopub.status.idle": "2023-08-22T19:51:36.925896Z",
     "shell.execute_reply": "2023-08-22T19:51:36.924575Z"
    },
    "papermill": {
     "duration": 0.135516,
     "end_time": "2023-08-22T19:51:36.928762",
     "exception": false,
     "start_time": "2023-08-22T19:51:36.793246",
     "status": "completed"
    },
    "tags": []
   },
   "outputs": [
    {
     "data": {
      "text/plain": [
       "count    162758.000000\n",
       "mean         21.013707\n",
       "std          10.216532\n",
       "min           1.000000\n",
       "25%          14.000000\n",
       "50%          21.000000\n",
       "75%          28.000000\n",
       "max          54.000000\n",
       "Name: reviewWC, dtype: float64"
      ]
     },
     "execution_count": 63,
     "metadata": {},
     "output_type": "execute_result"
    }
   ],
   "source": [
    "merged[\"reviewWC\"].describe()"
   ]
  },
  {
   "cell_type": "code",
   "execution_count": 64,
   "id": "ddb08bf9",
   "metadata": {
    "execution": {
     "iopub.execute_input": "2023-08-22T19:51:37.158596Z",
     "iopub.status.busy": "2023-08-22T19:51:37.157187Z",
     "iopub.status.idle": "2023-08-22T19:51:37.848177Z",
     "shell.execute_reply": "2023-08-22T19:51:37.847034Z"
    },
    "papermill": {
     "duration": 0.808873,
     "end_time": "2023-08-22T19:51:37.850708",
     "exception": false,
     "start_time": "2023-08-22T19:51:37.041835",
     "status": "completed"
    },
    "tags": []
   },
   "outputs": [
    {
     "data": {
      "text/plain": [
       "<Axes: xlabel='reviewWC', ylabel='Count'>"
      ]
     },
     "execution_count": 64,
     "metadata": {},
     "output_type": "execute_result"
    },
    {
     "data": {
      "image/png": "[encoded data removed]",
      "text/plain": [
       "<Figure size 640x480 with 1 Axes>"
      ]
     },
     "metadata": {},
     "output_type": "display_data"
    }
   ],
   "source": [
    "sns.histplot(merged[\"reviewWC\"])"
   ]
  },
  {
   "cell_type": "code",
   "execution_count": 65,
   "id": "c6003773",
   "metadata": {
    "execution": {
     "iopub.execute_input": "2023-08-22T19:51:38.090071Z",
     "iopub.status.busy": "2023-08-22T19:51:38.089165Z",
     "iopub.status.idle": "2023-08-22T19:51:38.121840Z",
     "shell.execute_reply": "2023-08-22T19:51:38.120661Z"
    },
    "papermill": {
     "duration": 0.159522,
     "end_time": "2023-08-22T19:51:38.124235",
     "exception": false,
     "start_time": "2023-08-22T19:51:37.964713",
     "status": "completed"
    },
    "tags": []
   },
   "outputs": [
    {
     "data": {
      "text/plain": [
       "R          60248\n",
       "unknown    44587\n",
       "PG-13      42697\n",
       "PG         13669\n",
       "TV14         947\n",
       "NC-17        285\n",
       "TVPG         281\n",
       "TVMA          44\n",
       "Name: rating, dtype: int64"
      ]
     },
     "execution_count": 65,
     "metadata": {},
     "output_type": "execute_result"
    }
   ],
   "source": [
    "merged['rating'].value_counts()"
   ]
  },
  {
   "cell_type": "code",
   "execution_count": 66,
   "id": "874a7875",
   "metadata": {
    "execution": {
     "iopub.execute_input": "2023-08-22T19:51:38.376173Z",
     "iopub.status.busy": "2023-08-22T19:51:38.375436Z",
     "iopub.status.idle": "2023-08-22T19:51:38.386189Z",
     "shell.execute_reply": "2023-08-22T19:51:38.385064Z"
    },
    "papermill": {
     "duration": 0.148312,
     "end_time": "2023-08-22T19:51:38.388426",
     "exception": false,
     "start_time": "2023-08-22T19:51:38.240114",
     "status": "completed"
    },
    "tags": []
   },
   "outputs": [
    {
     "data": {
      "text/plain": [
       "False    113189\n",
       "True      49569\n",
       "Name: isFrequentReviewer, dtype: int64"
      ]
     },
     "execution_count": 66,
     "metadata": {},
     "output_type": "execute_result"
    }
   ],
   "source": [
    "merged['isFrequentReviewer'].value_counts()"
   ]
  },
  {
   "cell_type": "code",
   "execution_count": 67,
   "id": "fb206f1b",
   "metadata": {
    "execution": {
     "iopub.execute_input": "2023-08-22T19:51:38.640115Z",
     "iopub.status.busy": "2023-08-22T19:51:38.639383Z",
     "iopub.status.idle": "2023-08-22T19:51:38.647899Z",
     "shell.execute_reply": "2023-08-22T19:51:38.646880Z"
    },
    "papermill": {
     "duration": 0.132413,
     "end_time": "2023-08-22T19:51:38.650024",
     "exception": false,
     "start_time": "2023-08-22T19:51:38.517611",
     "status": "completed"
    },
    "tags": []
   },
   "outputs": [
    {
     "data": {
      "text/plain": [
       "0      Benjamin Henry\n",
       "1       Felicia Lopez\n",
       "2     Charles Burgess\n",
       "3        Ryan Barrett\n",
       "4    Alexander Glover\n",
       "Name: reviewerName, dtype: object"
      ]
     },
     "execution_count": 67,
     "metadata": {},
     "output_type": "execute_result"
    }
   ],
   "source": [
    "merged[\"reviewerName\"].head()"
   ]
  },
  {
   "cell_type": "code",
   "execution_count": 68,
   "id": "f50feab6",
   "metadata": {
    "execution": {
     "iopub.execute_input": "2023-08-22T19:51:38.896223Z",
     "iopub.status.busy": "2023-08-22T19:51:38.895286Z",
     "iopub.status.idle": "2023-08-22T19:51:38.910819Z",
     "shell.execute_reply": "2023-08-22T19:51:38.909231Z"
    },
    "papermill": {
     "duration": 0.145484,
     "end_time": "2023-08-22T19:51:38.913488",
     "exception": false,
     "start_time": "2023-08-22T19:51:38.768004",
     "status": "completed"
    },
    "tags": []
   },
   "outputs": [
    {
     "data": {
      "text/plain": [
       "14300000.0    32327\n",
       "2000000.0       922\n",
       "1100000.0       891\n",
       "1000000.0       834\n",
       "1200000.0       802\n",
       "              ...  \n",
       "58500.0           1\n",
       "500800.0          1\n",
       "265600.0          1\n",
       "292500.0          1\n",
       "799400.0          1\n",
       "Name: boxOffice, Length: 3819, dtype: int64"
      ]
     },
     "execution_count": 68,
     "metadata": {},
     "output_type": "execute_result"
    }
   ],
   "source": [
    "merged['boxOffice'].value_counts()"
   ]
  },
  {
   "cell_type": "code",
   "execution_count": 69,
   "id": "3ce42efc",
   "metadata": {
    "execution": {
     "iopub.execute_input": "2023-08-22T19:51:39.146921Z",
     "iopub.status.busy": "2023-08-22T19:51:39.146474Z",
     "iopub.status.idle": "2023-08-22T19:51:39.151897Z",
     "shell.execute_reply": "2023-08-22T19:51:39.150528Z"
    },
    "papermill": {
     "duration": 0.125238,
     "end_time": "2023-08-22T19:51:39.154348",
     "exception": false,
     "start_time": "2023-08-22T19:51:39.029110",
     "status": "completed"
    },
    "tags": []
   },
   "outputs": [],
   "source": [
    "# Check correlation between 'boxOffice' and ''sentiment'\n",
    "# bo_df = merged.copy()\n",
    "# print(bo_df[\"boxOffice\"])\n",
    "# bo_df[\"boxOffice\"] = bo_df[\"boxOffice\"].str[1:]\n",
    "# bo_df[\"boxOffice\"] = bo_df[\"boxOffice\"].replace(to_replace={\"M\": \"*1000000\", \"K\": \"*1000\"}, regex=True)\n",
    "# bo_df[\"boxOffice\"] = bo_df[\"boxOffice\"].loc[bo_df[\"boxOffice\"].notnull()].apply(lambda x: eval(str(x)))\n",
    "# bo_df[\"boxOffice\"] = bo_df[\"boxOffice\"].fillna(bo_df[\"boxOffice\"].median())\n",
    "# bo_df[\"boxOffice\"].describe()"
   ]
  },
  {
   "cell_type": "code",
   "execution_count": 70,
   "id": "24aa68a9",
   "metadata": {
    "execution": {
     "iopub.execute_input": "2023-08-22T19:51:39.478643Z",
     "iopub.status.busy": "2023-08-22T19:51:39.478224Z",
     "iopub.status.idle": "2023-08-22T19:51:39.483718Z",
     "shell.execute_reply": "2023-08-22T19:51:39.482051Z"
    },
    "papermill": {
     "duration": 0.215896,
     "end_time": "2023-08-22T19:51:39.486260",
     "exception": false,
     "start_time": "2023-08-22T19:51:39.270364",
     "status": "completed"
    },
    "tags": []
   },
   "outputs": [],
   "source": [
    "# median = bo_df[\"boxOffice\"].describe()['50%']\n",
    "# iqr = bo_df[\"boxOffice\"].describe()['75%'] - bo_df[\"boxOffice\"].describe()['25%']\n",
    "# median, iqr"
   ]
  },
  {
   "cell_type": "code",
   "execution_count": 71,
   "id": "97dbb0d6",
   "metadata": {
    "execution": {
     "iopub.execute_input": "2023-08-22T19:51:39.720518Z",
     "iopub.status.busy": "2023-08-22T19:51:39.720107Z",
     "iopub.status.idle": "2023-08-22T19:51:39.724912Z",
     "shell.execute_reply": "2023-08-22T19:51:39.723765Z"
    },
    "papermill": {
     "duration": 0.123913,
     "end_time": "2023-08-22T19:51:39.727613",
     "exception": false,
     "start_time": "2023-08-22T19:51:39.603700",
     "status": "completed"
    },
    "tags": []
   },
   "outputs": [],
   "source": [
    "# ll = median - (1.5*iqr)\n",
    "# ul = median + (1.5*iqr)\n",
    "# ll, ul"
   ]
  },
  {
   "cell_type": "code",
   "execution_count": 72,
   "id": "65e091a4",
   "metadata": {
    "execution": {
     "iopub.execute_input": "2023-08-22T19:51:39.958498Z",
     "iopub.status.busy": "2023-08-22T19:51:39.958091Z",
     "iopub.status.idle": "2023-08-22T19:51:39.962423Z",
     "shell.execute_reply": "2023-08-22T19:51:39.961447Z"
    },
    "papermill": {
     "duration": 0.123319,
     "end_time": "2023-08-22T19:51:39.964984",
     "exception": false,
     "start_time": "2023-08-22T19:51:39.841665",
     "status": "completed"
    },
    "tags": []
   },
   "outputs": [],
   "source": [
    "# bo_df[\"boxOffice\"].mean()"
   ]
  },
  {
   "cell_type": "code",
   "execution_count": 73,
   "id": "48a9e445",
   "metadata": {
    "execution": {
     "iopub.execute_input": "2023-08-22T19:51:40.192661Z",
     "iopub.status.busy": "2023-08-22T19:51:40.191157Z",
     "iopub.status.idle": "2023-08-22T19:51:40.196176Z",
     "shell.execute_reply": "2023-08-22T19:51:40.195274Z"
    },
    "papermill": {
     "duration": 0.120032,
     "end_time": "2023-08-22T19:51:40.198242",
     "exception": false,
     "start_time": "2023-08-22T19:51:40.078210",
     "status": "completed"
    },
    "tags": []
   },
   "outputs": [],
   "source": [
    "# bo_df.loc[bo_df[\"boxOffice\"] > ul, \"boxOffice\"] = median\n",
    "# bo_df[\"boxOffice\"].mean()"
   ]
  },
  {
   "cell_type": "code",
   "execution_count": 74,
   "id": "bf1acc5f",
   "metadata": {
    "execution": {
     "iopub.execute_input": "2023-08-22T19:51:40.429748Z",
     "iopub.status.busy": "2023-08-22T19:51:40.428909Z",
     "iopub.status.idle": "2023-08-22T19:51:40.433272Z",
     "shell.execute_reply": "2023-08-22T19:51:40.432447Z"
    },
    "papermill": {
     "duration": 0.124111,
     "end_time": "2023-08-22T19:51:40.436019",
     "exception": false,
     "start_time": "2023-08-22T19:51:40.311908",
     "status": "completed"
    },
    "tags": []
   },
   "outputs": [],
   "source": [
    "# bo_df[\"boxOffice\"].min(), bo_df[\"boxOffice\"].max()"
   ]
  },
  {
   "cell_type": "code",
   "execution_count": 75,
   "id": "bcb7f233",
   "metadata": {
    "execution": {
     "iopub.execute_input": "2023-08-22T19:51:40.669280Z",
     "iopub.status.busy": "2023-08-22T19:51:40.668827Z",
     "iopub.status.idle": "2023-08-22T19:51:40.673186Z",
     "shell.execute_reply": "2023-08-22T19:51:40.672385Z"
    },
    "papermill": {
     "duration": 0.123561,
     "end_time": "2023-08-22T19:51:40.675414",
     "exception": false,
     "start_time": "2023-08-22T19:51:40.551853",
     "status": "completed"
    },
    "tags": []
   },
   "outputs": [],
   "source": [
    "# sns.boxplot(x=\"sentiment\", y=\"boxOffice\", data=bo_df, showfliers = False)"
   ]
  },
  {
   "cell_type": "markdown",
   "id": "e7396668",
   "metadata": {
    "papermill": {
     "duration": 0.113922,
     "end_time": "2023-08-22T19:51:40.903139",
     "exception": false,
     "start_time": "2023-08-22T19:51:40.789217",
     "status": "completed"
    },
    "tags": []
   },
   "source": [
    "## EDA  "
   ]
  },
  {
   "cell_type": "markdown",
   "id": "87284cb0",
   "metadata": {
    "papermill": {
     "duration": 0.118819,
     "end_time": "2023-08-22T19:51:41.137271",
     "exception": false,
     "start_time": "2023-08-22T19:51:41.018452",
     "status": "completed"
    },
    "tags": []
   },
   "source": [
    "### An interesting finding through exploration  \n",
    "  \n",
    "* OHE and TfidfVectorizer on director column give the same result when ngram_range(2,2) is used (see code below)!"
   ]
  },
  {
   "cell_type": "code",
   "execution_count": 76,
   "id": "b821308b",
   "metadata": {
    "execution": {
     "iopub.execute_input": "2023-08-22T19:51:41.371472Z",
     "iopub.status.busy": "2023-08-22T19:51:41.370689Z",
     "iopub.status.idle": "2023-08-22T19:51:55.378022Z",
     "shell.execute_reply": "2023-08-22T19:51:55.376584Z"
    },
    "papermill": {
     "duration": 14.12734,
     "end_time": "2023-08-22T19:51:55.381084",
     "exception": false,
     "start_time": "2023-08-22T19:51:41.253744",
     "status": "completed"
    },
    "tags": []
   },
   "outputs": [
    {
     "name": "stdout",
     "output_type": "stream",
     "text": [
      "(162758,)\n",
      "9476\n",
      "(162758, 9476) <class 'numpy.ndarray'>\n",
      "(162758,)\n",
      "(162758, 9476) <class 'numpy.ndarray'>\n",
      "True\n"
     ]
    }
   ],
   "source": [
    "# Compare OHE and TfidfVectorizer on director column\n",
    "\n",
    "dirs = merged[\"director\"].copy()\n",
    "print(dirs.shape)\n",
    "dirs_uniq = merged[\"director\"].unique()\n",
    "print(len(dirs_uniq))\n",
    "\n",
    "du_ohe = OneHotEncoder(handle_unknown=\"ignore\", sparse_output=False).fit_transform(dirs.to_numpy().reshape(-1, 1))\n",
    "print(du_ohe.shape, type(du_ohe))\n",
    "\n",
    "dirs_2 = merged[\"director\"].copy()\n",
    "print(dirs_2.shape)\n",
    "du_tfidf = TfidfVectorizer(ngram_range=(2,2)).fit_transform(dirs_2).toarray()\n",
    "print(du_tfidf.shape, type(du_tfidf))\n",
    "\n",
    "print(np.array_equal(du_ohe, du_tfidf))"
   ]
  },
  {
   "cell_type": "code",
   "execution_count": 77,
   "id": "440dd7d2",
   "metadata": {
    "execution": {
     "iopub.execute_input": "2023-08-22T19:51:55.612895Z",
     "iopub.status.busy": "2023-08-22T19:51:55.611431Z",
     "iopub.status.idle": "2023-08-22T19:51:55.979129Z",
     "shell.execute_reply": "2023-08-22T19:51:55.977931Z"
    },
    "papermill": {
     "duration": 0.485785,
     "end_time": "2023-08-22T19:51:55.981754",
     "exception": false,
     "start_time": "2023-08-22T19:51:55.495969",
     "status": "completed"
    },
    "tags": []
   },
   "outputs": [
    {
     "name": "stdout",
     "output_type": "stream",
     "text": [
      "0       Bennie Basso\n",
      "1         Alma White\n",
      "2       Bobby Oleary\n",
      "3    Eric Hutcherson\n",
      "4         John Trent\n",
      "Name: director, dtype: object\n"
     ]
    },
    {
     "data": {
      "text/plain": [
       "2    162758\n",
       "Name: director, dtype: int64"
      ]
     },
     "execution_count": 77,
     "metadata": {},
     "output_type": "execute_result"
    }
   ],
   "source": [
    "print(dirs.head())\n",
    "d = dirs.copy()\n",
    "d[\"name_len\"] = d.apply(lambda x: len(x.split()))\n",
    "d[\"name_len\"].value_counts()"
   ]
  },
  {
   "cell_type": "code",
   "execution_count": 78,
   "id": "ef7eaf3c",
   "metadata": {
    "execution": {
     "iopub.execute_input": "2023-08-22T19:51:56.213213Z",
     "iopub.status.busy": "2023-08-22T19:51:56.212049Z",
     "iopub.status.idle": "2023-08-22T19:51:56.219235Z",
     "shell.execute_reply": "2023-08-22T19:51:56.218103Z"
    },
    "papermill": {
     "duration": 0.12621,
     "end_time": "2023-08-22T19:51:56.221832",
     "exception": false,
     "start_time": "2023-08-22T19:51:56.095622",
     "status": "completed"
    },
    "tags": []
   },
   "outputs": [],
   "source": [
    "# Compare OHE and TfidfVectorizer on reviewerName column\n",
    "# Note: reviewerName column has salutations like \"Mr. \" etc, and some names appear middle names. Therefore needs cleaning\n",
    "\n",
    "# def name_fl(name):\n",
    "#     l = name.split()\n",
    "#     n = ' '.join((l[0], l[-1]))\n",
    "#     return n\n",
    "\n",
    "# reviewers = merged[\"reviewerName\"].copy()\n",
    "# reviewers = pd.DataFrame(reviewers)\n",
    "# reviewers = reviewers.replace({\"Mr. \": \"\", \"Mrs. \": \"\"}, regex=True)\n",
    "# reviewers[\"reviewerName\"] = reviewers[\"reviewerName\"].apply(name_fl)\n",
    "# print(reviewers.shape)\n",
    "\n",
    "# reviewers_uniq = merged[\"reviewerName\"].unique()\n",
    "# print(len(reviewers_uniq))\n",
    "\n",
    "# reviewers_ohe = OneHotEncoder(handle_unknown=\"ignore\", sparse_output=False).fit_transform(reviewers.to_numpy().reshape(-1, 1))\n",
    "# print(reviewers_ohe.shape, type(reviewers_ohe))\n",
    "\n",
    "# reviewers_2 = merged[\"reviewerName\"].copy()\n",
    "# reviewers_2 = pd.DataFrame(reviewers_2)\n",
    "# print(reviewers_2.head())\n",
    "# reviewers_2 = reviewers_2.replace({\"Mr. \": \"\", \"Mrs. \": \"\"}, regex=True)\n",
    "# reviewers_2[\"reviewerName\"] = reviewers_2[\"reviewerName\"].apply(name_fl)\n",
    "# reviewers_2 = reviewers_2.squeeze()\n",
    "# print(reviewers_2.shape)\n",
    "# print(reviewers_2.head())\n",
    "\n",
    "# reviewers_tfidf = TfidfVectorizer(ngram_range=(2,2)).fit_transform(reviewers_2).toarray()\n",
    "# print(reviewers_tfidf.shape, type(reviewers_tfidf))\n",
    "\n",
    "# print(np.array_equal(reviewers_ohe, reviewers_tfidf))"
   ]
  },
  {
   "cell_type": "code",
   "execution_count": 79,
   "id": "3d594c62",
   "metadata": {
    "execution": {
     "iopub.execute_input": "2023-08-22T19:51:56.454727Z",
     "iopub.status.busy": "2023-08-22T19:51:56.454233Z",
     "iopub.status.idle": "2023-08-22T19:51:56.458641Z",
     "shell.execute_reply": "2023-08-22T19:51:56.457889Z"
    },
    "papermill": {
     "duration": 0.121703,
     "end_time": "2023-08-22T19:51:56.460577",
     "exception": false,
     "start_time": "2023-08-22T19:51:56.338874",
     "status": "completed"
    },
    "tags": []
   },
   "outputs": [],
   "source": [
    "# def name_fl(name):\n",
    "#     l = name.split()\n",
    "#     n = ' '.join((l[0], l[-1]))\n",
    "#     return n"
   ]
  },
  {
   "cell_type": "code",
   "execution_count": 80,
   "id": "e0fbd3aa",
   "metadata": {
    "execution": {
     "iopub.execute_input": "2023-08-22T19:51:56.692898Z",
     "iopub.status.busy": "2023-08-22T19:51:56.692067Z",
     "iopub.status.idle": "2023-08-22T19:51:56.697095Z",
     "shell.execute_reply": "2023-08-22T19:51:56.696094Z"
    },
    "papermill": {
     "duration": 0.123239,
     "end_time": "2023-08-22T19:51:56.699409",
     "exception": false,
     "start_time": "2023-08-22T19:51:56.576170",
     "status": "completed"
    },
    "tags": []
   },
   "outputs": [],
   "source": [
    "# print(reviewers.head())\n",
    "# r = pd.DataFrame(reviewers.copy())\n",
    "# r[\"reviewerName\"] = r[\"reviewerName\"].apply(name_fl)\n",
    "# r[\"name_len\"] = r[\"reviewerName\"].apply(lambda x: len(x.split()))\n",
    "# print(r.shape)\n",
    "# print(r.head())\n",
    "# print(r['name_len'].value_counts())"
   ]
  },
  {
   "cell_type": "code",
   "execution_count": 81,
   "id": "e1ae40bd",
   "metadata": {
    "execution": {
     "iopub.execute_input": "2023-08-22T19:51:56.926875Z",
     "iopub.status.busy": "2023-08-22T19:51:56.926105Z",
     "iopub.status.idle": "2023-08-22T19:51:56.930812Z",
     "shell.execute_reply": "2023-08-22T19:51:56.930009Z"
    },
    "papermill": {
     "duration": 0.120751,
     "end_time": "2023-08-22T19:51:56.933000",
     "exception": false,
     "start_time": "2023-08-22T19:51:56.812249",
     "status": "completed"
    },
    "tags": []
   },
   "outputs": [],
   "source": [
    "## Box plot audienceScore and sentiment  \n",
    "# plt.figure(figsize=(6, 4))\n",
    "# sns.boxplot(x=\"sentiment\", y=\"audienceScore\", data=merged, width=0.3)\n",
    "# plt.title(\"Box plot audienceScore and sentiment\")\n",
    "# plt.show()"
   ]
  },
  {
   "cell_type": "code",
   "execution_count": 82,
   "id": "93b3254a",
   "metadata": {
    "execution": {
     "iopub.execute_input": "2023-08-22T19:51:57.160195Z",
     "iopub.status.busy": "2023-08-22T19:51:57.159744Z",
     "iopub.status.idle": "2023-08-22T19:51:57.164645Z",
     "shell.execute_reply": "2023-08-22T19:51:57.163311Z"
    },
    "papermill": {
     "duration": 0.122159,
     "end_time": "2023-08-22T19:51:57.166955",
     "exception": false,
     "start_time": "2023-08-22T19:51:57.044796",
     "status": "completed"
    },
    "tags": []
   },
   "outputs": [],
   "source": [
    "## Box plot runtimeMinutes and sentiment  \n",
    "# plt.figure(figsize=(6, 4))\n",
    "# sns.boxplot(x=\"sentiment\", y=\"runtimeMinutes\", data=merged, width=0.3)\n",
    "# plt.title(\"Box plot runtimeMinutes and sentiment\")\n",
    "# plt.show()"
   ]
  },
  {
   "cell_type": "code",
   "execution_count": 83,
   "id": "27251534",
   "metadata": {
    "execution": {
     "iopub.execute_input": "2023-08-22T19:51:57.400811Z",
     "iopub.status.busy": "2023-08-22T19:51:57.399968Z",
     "iopub.status.idle": "2023-08-22T19:51:57.404616Z",
     "shell.execute_reply": "2023-08-22T19:51:57.403763Z"
    },
    "papermill": {
     "duration": 0.123492,
     "end_time": "2023-08-22T19:51:57.406772",
     "exception": false,
     "start_time": "2023-08-22T19:51:57.283280",
     "status": "completed"
    },
    "tags": []
   },
   "outputs": [],
   "source": [
    "## Column chart for sentiment and rating columns\n",
    "# plt.figure(figsize=(6, 4))\n",
    "# sns.countplot(x=\"sentiment\", hue=\"rating\", data=merged)\n",
    "# plt.title(\"Column chart for sentiment and rating columns\")\n",
    "# plt.show()"
   ]
  },
  {
   "cell_type": "code",
   "execution_count": 84,
   "id": "0506048c",
   "metadata": {
    "execution": {
     "iopub.execute_input": "2023-08-22T19:51:57.639483Z",
     "iopub.status.busy": "2023-08-22T19:51:57.638739Z",
     "iopub.status.idle": "2023-08-22T19:51:57.643384Z",
     "shell.execute_reply": "2023-08-22T19:51:57.642353Z"
    },
    "papermill": {
     "duration": 0.122802,
     "end_time": "2023-08-22T19:51:57.645633",
     "exception": false,
     "start_time": "2023-08-22T19:51:57.522831",
     "status": "completed"
    },
    "tags": []
   },
   "outputs": [],
   "source": [
    "# Correlation heatmap  \n",
    "# plt.figure(figsize=(10, 8))\n",
    "# sns.heatmap(merged.corr(), annot=True, cmap=\"coolwarm\")\n",
    "# plt.title(\"Correlation heatmap\")\n",
    "# plt.show()"
   ]
  },
  {
   "cell_type": "markdown",
   "id": "64107eae",
   "metadata": {
    "papermill": {
     "duration": 0.113451,
     "end_time": "2023-08-22T19:51:57.873090",
     "exception": false,
     "start_time": "2023-08-22T19:51:57.759639",
     "status": "completed"
    },
    "tags": []
   },
   "source": [
    "## Merge and preprocess \"test.csv\" and \"movies.csv\" files  "
   ]
  },
  {
   "cell_type": "code",
   "execution_count": 85,
   "id": "06243434",
   "metadata": {
    "execution": {
     "iopub.execute_input": "2023-08-22T19:51:58.107317Z",
     "iopub.status.busy": "2023-08-22T19:51:58.106876Z",
     "iopub.status.idle": "2023-08-22T19:52:04.429643Z",
     "shell.execute_reply": "2023-08-22T19:52:04.428249Z"
    },
    "papermill": {
     "duration": 6.4457,
     "end_time": "2023-08-22T19:52:04.432998",
     "exception": false,
     "start_time": "2023-08-22T19:51:57.987298",
     "status": "completed"
    },
    "tags": []
   },
   "outputs": [],
   "source": [
    "# Merge test and movies  \n",
    "merged_test = select_features(load_csv(\"test\"), load_csv(\"movies\"))"
   ]
  },
  {
   "cell_type": "code",
   "execution_count": 86,
   "id": "1546543b",
   "metadata": {
    "execution": {
     "iopub.execute_input": "2023-08-22T19:52:04.664727Z",
     "iopub.status.busy": "2023-08-22T19:52:04.663837Z",
     "iopub.status.idle": "2023-08-22T19:52:04.669021Z",
     "shell.execute_reply": "2023-08-22T19:52:04.668088Z"
    },
    "papermill": {
     "duration": 0.123012,
     "end_time": "2023-08-22T19:52:04.671359",
     "exception": false,
     "start_time": "2023-08-22T19:52:04.548347",
     "status": "completed"
    },
    "tags": []
   },
   "outputs": [],
   "source": [
    "# inspect(merged_test)      # Note the missing values in ['audienceScore', 'runtimeMinutes', 'boxOffice']"
   ]
  },
  {
   "cell_type": "code",
   "execution_count": 87,
   "id": "7da901d3",
   "metadata": {
    "execution": {
     "iopub.execute_input": "2023-08-22T19:52:04.989004Z",
     "iopub.status.busy": "2023-08-22T19:52:04.988165Z",
     "iopub.status.idle": "2023-08-22T19:52:05.008896Z",
     "shell.execute_reply": "2023-08-22T19:52:05.007585Z"
    },
    "papermill": {
     "duration": 0.225362,
     "end_time": "2023-08-22T19:52:05.011456",
     "exception": false,
     "start_time": "2023-08-22T19:52:04.786094",
     "status": "completed"
    },
    "tags": []
   },
   "outputs": [
    {
     "data": {
      "text/plain": [
       "array([6.80e+01, 1.04e+02, 1.43e+07])"
      ]
     },
     "execution_count": 87,
     "metadata": {},
     "output_type": "execute_result"
    }
   ],
   "source": [
    "# Transform ['audienceScore', 'runtimeMinutes', 'boxOffice'] columns in merged_test using 'si' fitted on 'merged' df  \n",
    "merged_test[['audienceScore', 'runtimeMinutes', 'boxOffice']] = si.transform(merged_test[['audienceScore', 'runtimeMinutes', 'boxOffice']])\n",
    "si.statistics_"
   ]
  },
  {
   "cell_type": "code",
   "execution_count": 88,
   "id": "38f18e6b",
   "metadata": {
    "execution": {
     "iopub.execute_input": "2023-08-22T19:52:05.239868Z",
     "iopub.status.busy": "2023-08-22T19:52:05.239383Z",
     "iopub.status.idle": "2023-08-22T19:52:05.252890Z",
     "shell.execute_reply": "2023-08-22T19:52:05.251441Z"
    },
    "papermill": {
     "duration": 0.130348,
     "end_time": "2023-08-22T19:52:05.255564",
     "exception": false,
     "start_time": "2023-08-22T19:52:05.125216",
     "status": "completed"
    },
    "tags": []
   },
   "outputs": [],
   "source": [
    "# Fill 'releaseDate' column in 'merged_test' df with median from the train (merged) df  \n",
    "merged_test['releaseDate'] = merged_test[\"releaseDate\"].fillna(merged[\"releaseDate\"].median())"
   ]
  },
  {
   "cell_type": "code",
   "execution_count": 89,
   "id": "2e105592",
   "metadata": {
    "execution": {
     "iopub.execute_input": "2023-08-22T19:52:05.484858Z",
     "iopub.status.busy": "2023-08-22T19:52:05.484384Z",
     "iopub.status.idle": "2023-08-22T19:52:05.999262Z",
     "shell.execute_reply": "2023-08-22T19:52:05.997334Z"
    },
    "papermill": {
     "duration": 0.633922,
     "end_time": "2023-08-22T19:52:06.002047",
     "exception": false,
     "start_time": "2023-08-22T19:52:05.368125",
     "status": "completed"
    },
    "tags": []
   },
   "outputs": [
    {
     "name": "stdout",
     "output_type": "stream",
     "text": [
      "Shape of the dataframe: (55315, 25)\n",
      "\n",
      "Columns in the dataframe:\n",
      "Index(['movieid', 'reviewerName', 'isFrequentReviewer', 'reviewText', 'title',\n",
      "       'audienceScore', 'rating', 'ratingContents', 'releaseDateTheaters',\n",
      "       'releaseDateStreaming', 'runtimeMinutes', 'genre', 'originalLanguage',\n",
      "       'director', 'boxOffice', 'distributor', 'soundType', 'reviewYN',\n",
      "       'reviewWC', 'genreSorted', 'rcSorted', 'releaseDate', 'releaseYear',\n",
      "       'releaseMonth', 'releaseDiff'],\n",
      "      dtype='object')\n",
      "\n",
      "<class 'pandas.core.frame.DataFrame'>\n",
      "Int64Index: 55315 entries, 0 to 55314\n",
      "Data columns (total 25 columns):\n",
      " #   Column                Non-Null Count  Dtype         \n",
      "---  ------                --------------  -----         \n",
      " 0   movieid               55315 non-null  object        \n",
      " 1   reviewerName          55315 non-null  object        \n",
      " 2   isFrequentReviewer    55315 non-null  bool          \n",
      " 3   reviewText            55315 non-null  object        \n",
      " 4   title                 55315 non-null  object        \n",
      " 5   audienceScore         55315 non-null  float64       \n",
      " 6   rating                55315 non-null  object        \n",
      " 7   ratingContents        55315 non-null  object        \n",
      " 8   releaseDateTheaters   47844 non-null  datetime64[ns]\n",
      " 9   releaseDateStreaming  52929 non-null  datetime64[ns]\n",
      " 10  runtimeMinutes        55315 non-null  float64       \n",
      " 11  genre                 55315 non-null  object        \n",
      " 12  originalLanguage      55315 non-null  object        \n",
      " 13  director              55315 non-null  object        \n",
      " 14  boxOffice             55315 non-null  float64       \n",
      " 15  distributor           55315 non-null  object        \n",
      " 16  soundType             29845 non-null  object        \n",
      " 17  reviewYN              55315 non-null  int64         \n",
      " 18  reviewWC              55315 non-null  int64         \n",
      " 19  genreSorted           55315 non-null  object        \n",
      " 20  rcSorted              55315 non-null  object        \n",
      " 21  releaseDate           55315 non-null  datetime64[ns]\n",
      " 22  releaseYear           46626 non-null  float64       \n",
      " 23  releaseMonth          46626 non-null  float64       \n",
      " 24  releaseDiff           55315 non-null  float64       \n",
      "dtypes: bool(1), datetime64[ns](3), float64(6), int64(2), object(13)\n",
      "memory usage: 10.6+ MB\n",
      "None\n",
      "\n",
      "Missing values:\n",
      "movieid                     0\n",
      "reviewerName                0\n",
      "isFrequentReviewer          0\n",
      "reviewText                  0\n",
      "title                       0\n",
      "audienceScore               0\n",
      "rating                      0\n",
      "ratingContents              0\n",
      "releaseDateTheaters      7471\n",
      "releaseDateStreaming     2386\n",
      "runtimeMinutes              0\n",
      "genre                       0\n",
      "originalLanguage            0\n",
      "director                    0\n",
      "boxOffice                   0\n",
      "distributor                 0\n",
      "soundType               25470\n",
      "reviewYN                    0\n",
      "reviewWC                    0\n",
      "genreSorted                 0\n",
      "rcSorted                    0\n",
      "releaseDate                 0\n",
      "releaseYear              8689\n",
      "releaseMonth             8689\n",
      "releaseDiff                 0\n",
      "dtype: int64\n"
     ]
    }
   ],
   "source": [
    "# After transforming merged_test  \n",
    "inspect(merged_test)"
   ]
  },
  {
   "cell_type": "code",
   "execution_count": 90,
   "id": "c1badeff",
   "metadata": {
    "execution": {
     "iopub.execute_input": "2023-08-22T19:52:06.239026Z",
     "iopub.status.busy": "2023-08-22T19:52:06.237960Z",
     "iopub.status.idle": "2023-08-22T19:52:06.246068Z",
     "shell.execute_reply": "2023-08-22T19:52:06.244635Z"
    },
    "papermill": {
     "duration": 0.129115,
     "end_time": "2023-08-22T19:52:06.248367",
     "exception": false,
     "start_time": "2023-08-22T19:52:06.119252",
     "status": "completed"
    },
    "tags": []
   },
   "outputs": [
    {
     "name": "stdout",
     "output_type": "stream",
     "text": [
      "2510\n",
      "4.537648015908886\n"
     ]
    }
   ],
   "source": [
    "print(merged_test[\"reviewYN\"].sum())\n",
    "print(merged_test[\"reviewYN\"].sum() * 100 / merged_test.shape[0])"
   ]
  },
  {
   "cell_type": "code",
   "execution_count": 91,
   "id": "1f06655f",
   "metadata": {
    "execution": {
     "iopub.execute_input": "2023-08-22T19:52:06.480811Z",
     "iopub.status.busy": "2023-08-22T19:52:06.480363Z",
     "iopub.status.idle": "2023-08-22T19:52:06.498072Z",
     "shell.execute_reply": "2023-08-22T19:52:06.496964Z"
    },
    "papermill": {
     "duration": 0.136971,
     "end_time": "2023-08-22T19:52:06.500295",
     "exception": false,
     "start_time": "2023-08-22T19:52:06.363324",
     "status": "completed"
    },
    "tags": []
   },
   "outputs": [
    {
     "data": {
      "text/plain": [
       "R          18934\n",
       "unknown    18386\n",
       "PG-13      13220\n",
       "PG          4200\n",
       "TV14         333\n",
       "TVPG         109\n",
       "NC-17        108\n",
       "TVMA          25\n",
       "Name: rating, dtype: int64"
      ]
     },
     "execution_count": 91,
     "metadata": {},
     "output_type": "execute_result"
    }
   ],
   "source": [
    "merged_test['rating'].value_counts()"
   ]
  },
  {
   "cell_type": "code",
   "execution_count": 92,
   "id": "22042633",
   "metadata": {
    "execution": {
     "iopub.execute_input": "2023-08-22T19:52:06.736787Z",
     "iopub.status.busy": "2023-08-22T19:52:06.736067Z",
     "iopub.status.idle": "2023-08-22T19:52:06.744637Z",
     "shell.execute_reply": "2023-08-22T19:52:06.743427Z"
    },
    "papermill": {
     "duration": 0.127234,
     "end_time": "2023-08-22T19:52:06.746787",
     "exception": false,
     "start_time": "2023-08-22T19:52:06.619553",
     "status": "completed"
    },
    "tags": []
   },
   "outputs": [
    {
     "data": {
      "text/plain": [
       "False    38428\n",
       "True     16887\n",
       "Name: isFrequentReviewer, dtype: int64"
      ]
     },
     "execution_count": 92,
     "metadata": {},
     "output_type": "execute_result"
    }
   ],
   "source": [
    "merged_test['isFrequentReviewer'].value_counts()"
   ]
  },
  {
   "cell_type": "code",
   "execution_count": 93,
   "id": "b9930f79",
   "metadata": {
    "execution": {
     "iopub.execute_input": "2023-08-22T19:52:06.979951Z",
     "iopub.status.busy": "2023-08-22T19:52:06.979298Z",
     "iopub.status.idle": "2023-08-22T19:52:06.989789Z",
     "shell.execute_reply": "2023-08-22T19:52:06.988719Z"
    },
    "papermill": {
     "duration": 0.129919,
     "end_time": "2023-08-22T19:52:06.992210",
     "exception": false,
     "start_time": "2023-08-22T19:52:06.862291",
     "status": "completed"
    },
    "tags": []
   },
   "outputs": [
    {
     "data": {
      "text/plain": [
       "14300000.0    13593\n",
       "1100000.0       311\n",
       "1000000.0       272\n",
       "1300000.0       263\n",
       "2000000.0       256\n",
       "              ...  \n",
       "200400.0          1\n",
       "23800000.0        1\n",
       "111200.0          1\n",
       "277800.0          1\n",
       "100600.0          1\n",
       "Name: boxOffice, Length: 3816, dtype: int64"
      ]
     },
     "execution_count": 93,
     "metadata": {},
     "output_type": "execute_result"
    }
   ],
   "source": [
    "merged_test['boxOffice'].value_counts()"
   ]
  },
  {
   "cell_type": "markdown",
   "id": "b022e47d",
   "metadata": {
    "papermill": {
     "duration": 0.116723,
     "end_time": "2023-08-22T19:52:07.226941",
     "exception": false,
     "start_time": "2023-08-22T19:52:07.110218",
     "status": "completed"
    },
    "tags": []
   },
   "source": [
    "## Work on vocabulary  \n",
    "\n",
    "`Build vocabulary from 'reviewText' column`  "
   ]
  },
  {
   "cell_type": "code",
   "execution_count": 94,
   "id": "0e279f54",
   "metadata": {
    "execution": {
     "iopub.execute_input": "2023-08-22T19:52:07.462322Z",
     "iopub.status.busy": "2023-08-22T19:52:07.461897Z",
     "iopub.status.idle": "2023-08-22T19:52:07.487208Z",
     "shell.execute_reply": "2023-08-22T19:52:07.485800Z"
    },
    "papermill": {
     "duration": 0.14517,
     "end_time": "2023-08-22T19:52:07.489638",
     "exception": false,
     "start_time": "2023-08-22T19:52:07.344468",
     "status": "completed"
    },
    "tags": []
   },
   "outputs": [
    {
     "data": {
      "text/plain": [
       "((162758, 2),\n",
       "                                           reviewText sentiment\n",
       " 0  Henry Selick’s first movie since ’s Coraline. ...  POSITIVE\n",
       " 1  With a cast that reads like the Vogue Oscar pa...  NEGATIVE\n",
       " 2  Creed II does not give us anything but another...  POSITIVE\n",
       " 3  I know what you're thinking, but this is no Li...  POSITIVE\n",
       " 4  Director Fernando Meirelles tells the story wi...  POSITIVE)"
      ]
     },
     "execution_count": 94,
     "metadata": {},
     "output_type": "execute_result"
    }
   ],
   "source": [
    "rt_senti = merged[[\"reviewText\", \"sentiment\"]].copy()\n",
    "rt_senti.shape, rt_senti.head()"
   ]
  },
  {
   "cell_type": "code",
   "execution_count": 95,
   "id": "4dc090c6",
   "metadata": {
    "execution": {
     "iopub.execute_input": "2023-08-22T19:52:07.725616Z",
     "iopub.status.busy": "2023-08-22T19:52:07.725127Z",
     "iopub.status.idle": "2023-08-22T19:52:07.738523Z",
     "shell.execute_reply": "2023-08-22T19:52:07.737286Z"
    },
    "papermill": {
     "duration": 0.133579,
     "end_time": "2023-08-22T19:52:07.741059",
     "exception": false,
     "start_time": "2023-08-22T19:52:07.607480",
     "status": "completed"
    },
    "tags": []
   },
   "outputs": [
    {
     "data": {
      "text/plain": [
       "((55315, 1),\n",
       "                                           reviewText\n",
       " 0  Green slowly cranks up the dread with style an...\n",
       " 1  Philip Noyce's direction is elegant and unforc...\n",
       " 2  It wouldn't do to say what path Maria ultimate...\n",
       " 3  Pig is not exactly the arthouse John Wick that...\n",
       " 4  An imaginative no-budget musical of sorts abou...)"
      ]
     },
     "execution_count": 95,
     "metadata": {},
     "output_type": "execute_result"
    }
   ],
   "source": [
    "rt_test = pd.DataFrame(merged_test[\"reviewText\"].copy())\n",
    "rt_test.shape, rt_test.head()"
   ]
  },
  {
   "cell_type": "code",
   "execution_count": 96,
   "id": "ffb622b0",
   "metadata": {
    "execution": {
     "iopub.execute_input": "2023-08-22T19:52:07.975661Z",
     "iopub.status.busy": "2023-08-22T19:52:07.975230Z",
     "iopub.status.idle": "2023-08-22T19:52:07.981733Z",
     "shell.execute_reply": "2023-08-22T19:52:07.980442Z"
    },
    "papermill": {
     "duration": 0.126841,
     "end_time": "2023-08-22T19:52:07.984126",
     "exception": false,
     "start_time": "2023-08-22T19:52:07.857285",
     "status": "completed"
    },
    "tags": []
   },
   "outputs": [],
   "source": [
    "def get_vocab(text_df, ngram_range=(1,1)):\n",
    "#     print(f\"Generating vocabulary for ngram_range: {ngram_range}...\")\n",
    "    tvec1 = CountVectorizer(ngram_range=ngram_range, stop_words='english', strip_accents='unicode')\n",
    "    tvec1.fit(text_df)\n",
    "    voc_ngram = set(tvec1.vocabulary_.keys())\n",
    "    return voc_ngram"
   ]
  },
  {
   "cell_type": "code",
   "execution_count": 97,
   "id": "18cb577e",
   "metadata": {
    "execution": {
     "iopub.execute_input": "2023-08-22T19:52:08.223883Z",
     "iopub.status.busy": "2023-08-22T19:52:08.223413Z",
     "iopub.status.idle": "2023-08-22T19:52:08.236427Z",
     "shell.execute_reply": "2023-08-22T19:52:08.234571Z"
    },
    "papermill": {
     "duration": 0.136484,
     "end_time": "2023-08-22T19:52:08.239688",
     "exception": false,
     "start_time": "2023-08-22T19:52:08.103204",
     "status": "completed"
    },
    "tags": []
   },
   "outputs": [],
   "source": [
    "def get_common_vocab(df_list: list, ngram_range_list: list):\n",
    "    \"\"\"\n",
    "    Get common vocabulary from a list of dataframes.\n",
    "    \"\"\"\n",
    "    final_common_vocab = set()\n",
    "    # Get vocabulary from each dataframe for a given ngram-range\n",
    "    for ngram_range in ngram_range_list:\n",
    "        vocab_ngram = set()\n",
    "        for num, df in enumerate(df_list, start=1):\n",
    "#             print(f\"Working on DF#{num} in the list of DFs provided\")\n",
    "            vocab_ngram_df = set(get_vocab(df['reviewText'], ngram_range))\n",
    "#             print(f\"Vocabulary size for ngram-range {ngram_range} in DF#{num}: {len(vocab_ngram_df)}\\n\")\n",
    "            if len(vocab_ngram) > 0:\n",
    "#                 print(f\"Keeping only the common (intersection) words for ngram-range {ngram_range}...\")\n",
    "                vocab_ngram = vocab_ngram.intersection(vocab_ngram_df)\n",
    "            else:\n",
    "#                 print(f\"Words from the first df for ngram-range {ngram_range} added.\\n\")\n",
    "                vocab_ngram = vocab_ngram_df\n",
    "        print(f\"Common vocabulary for ngram-range {ngram_range}: {len(vocab_ngram)}\\n\")\n",
    "        \n",
    "        if len(final_common_vocab) > 0:\n",
    "#             print(f\"Fusing (union) with final common vocabulary: ngram-range = {ngram_range}.\\n\")\n",
    "            final_common_vocab = final_common_vocab.union(vocab_ngram)\n",
    "        else:\n",
    "#             print(f\"Appended first time to final common vocabulary: ngram-range = {ngram_range}.\\n\")\n",
    "            final_common_vocab = vocab_ngram\n",
    "    print(f\"Size of the common vocabulary generated is: {len(final_common_vocab)}\")\n",
    "    return final_common_vocab"
   ]
  },
  {
   "cell_type": "code",
   "execution_count": 98,
   "id": "277c49fb",
   "metadata": {
    "execution": {
     "iopub.execute_input": "2023-08-22T19:52:08.491968Z",
     "iopub.status.busy": "2023-08-22T19:52:08.491492Z",
     "iopub.status.idle": "2023-08-22T19:52:08.496773Z",
     "shell.execute_reply": "2023-08-22T19:52:08.495651Z"
    },
    "papermill": {
     "duration": 0.122664,
     "end_time": "2023-08-22T19:52:08.498867",
     "exception": false,
     "start_time": "2023-08-22T19:52:08.376203",
     "status": "completed"
    },
    "tags": []
   },
   "outputs": [],
   "source": [
    "# voc_1gram = get_vocab(rt_senti[\"reviewText\"], ngram_range=(1,1))\n",
    "# len(voc_1gram), voc_1gram[:10]"
   ]
  },
  {
   "cell_type": "code",
   "execution_count": 99,
   "id": "a1ad6484",
   "metadata": {
    "execution": {
     "iopub.execute_input": "2023-08-22T19:52:08.737983Z",
     "iopub.status.busy": "2023-08-22T19:52:08.737554Z",
     "iopub.status.idle": "2023-08-22T19:52:08.742353Z",
     "shell.execute_reply": "2023-08-22T19:52:08.741091Z"
    },
    "papermill": {
     "duration": 0.126172,
     "end_time": "2023-08-22T19:52:08.744801",
     "exception": false,
     "start_time": "2023-08-22T19:52:08.618629",
     "status": "completed"
    },
    "tags": []
   },
   "outputs": [],
   "source": [
    "# voc_2gram = get_vocab(rt_senti[\"reviewText\"], ngram_range=(2,2))\n",
    "# len(voc_2gram), voc_2gram[:10]"
   ]
  },
  {
   "cell_type": "code",
   "execution_count": 100,
   "id": "50efa3b8",
   "metadata": {
    "execution": {
     "iopub.execute_input": "2023-08-22T19:52:08.980151Z",
     "iopub.status.busy": "2023-08-22T19:52:08.979664Z",
     "iopub.status.idle": "2023-08-22T19:52:08.985053Z",
     "shell.execute_reply": "2023-08-22T19:52:08.983645Z"
    },
    "papermill": {
     "duration": 0.125488,
     "end_time": "2023-08-22T19:52:08.987393",
     "exception": false,
     "start_time": "2023-08-22T19:52:08.861905",
     "status": "completed"
    },
    "tags": []
   },
   "outputs": [],
   "source": [
    "# voc_3gram = get_vocab(rt_senti[\"reviewText\"], ngram_range=(3,3))\n",
    "# len(voc_3gram), voc_3gram[:10]"
   ]
  },
  {
   "cell_type": "code",
   "execution_count": 101,
   "id": "a6ed7a90",
   "metadata": {
    "execution": {
     "iopub.execute_input": "2023-08-22T19:52:09.223070Z",
     "iopub.status.busy": "2023-08-22T19:52:09.222584Z",
     "iopub.status.idle": "2023-08-22T19:52:09.227913Z",
     "shell.execute_reply": "2023-08-22T19:52:09.226639Z"
    },
    "papermill": {
     "duration": 0.12564,
     "end_time": "2023-08-22T19:52:09.230044",
     "exception": false,
     "start_time": "2023-08-22T19:52:09.104404",
     "status": "completed"
    },
    "tags": []
   },
   "outputs": [],
   "source": [
    "# common_unigrams = get_common_vocab([rt_senti, rt_test], ngram_range_list=[(1,1)])\n",
    "# print(len(common_unigrams))\n",
    "# # sorted(list(common_unigrams))"
   ]
  },
  {
   "cell_type": "code",
   "execution_count": 102,
   "id": "e7e0b38d",
   "metadata": {
    "execution": {
     "iopub.execute_input": "2023-08-22T19:52:09.464159Z",
     "iopub.status.busy": "2023-08-22T19:52:09.463735Z",
     "iopub.status.idle": "2023-08-22T19:52:09.467689Z",
     "shell.execute_reply": "2023-08-22T19:52:09.466894Z"
    },
    "papermill": {
     "duration": 0.12305,
     "end_time": "2023-08-22T19:52:09.469691",
     "exception": false,
     "start_time": "2023-08-22T19:52:09.346641",
     "status": "completed"
    },
    "tags": []
   },
   "outputs": [],
   "source": [
    "# common_bigrams = get_common_vocab([rt_senti, rt_test], ngram_range_list=[(2,2)])\n",
    "# print(len(common_bigrams))\n",
    "# # # common_bigrams"
   ]
  },
  {
   "cell_type": "code",
   "execution_count": 103,
   "id": "56190181",
   "metadata": {
    "execution": {
     "iopub.execute_input": "2023-08-22T19:52:09.708607Z",
     "iopub.status.busy": "2023-08-22T19:52:09.707492Z",
     "iopub.status.idle": "2023-08-22T19:52:09.712458Z",
     "shell.execute_reply": "2023-08-22T19:52:09.711431Z"
    },
    "papermill": {
     "duration": 0.127792,
     "end_time": "2023-08-22T19:52:09.714819",
     "exception": false,
     "start_time": "2023-08-22T19:52:09.587027",
     "status": "completed"
    },
    "tags": []
   },
   "outputs": [],
   "source": [
    "# common_1_2_grams = get_common_vocab([rt_senti, rt_test], ngram_range_list=[(1,1), (2,2)])\n",
    "# print(len(common_1_2_grams))\n",
    "# # sorted(list(common_1_2_grams))\n",
    "\n",
    "# # common_1_2_grams = common_unigrams | common_bigrams    # older code"
   ]
  },
  {
   "cell_type": "code",
   "execution_count": 104,
   "id": "dfa0a852",
   "metadata": {
    "execution": {
     "iopub.execute_input": "2023-08-22T19:52:09.989793Z",
     "iopub.status.busy": "2023-08-22T19:52:09.988529Z",
     "iopub.status.idle": "2023-08-22T19:52:09.993581Z",
     "shell.execute_reply": "2023-08-22T19:52:09.992760Z"
    },
    "papermill": {
     "duration": 0.143521,
     "end_time": "2023-08-22T19:52:09.995883",
     "exception": false,
     "start_time": "2023-08-22T19:52:09.852362",
     "status": "completed"
    },
    "tags": []
   },
   "outputs": [],
   "source": [
    "# common_trigrams = get_common_vocab([rt_senti, rt_test], ngram_range_list=[(3,3)])\n",
    "# print(len(common_trigrams))\n",
    "# # common_trigrams"
   ]
  },
  {
   "cell_type": "code",
   "execution_count": 105,
   "id": "a82f5c67",
   "metadata": {
    "execution": {
     "iopub.execute_input": "2023-08-22T19:52:10.241281Z",
     "iopub.status.busy": "2023-08-22T19:52:10.239977Z",
     "iopub.status.idle": "2023-08-22T19:52:10.246418Z",
     "shell.execute_reply": "2023-08-22T19:52:10.245643Z"
    },
    "papermill": {
     "duration": 0.13514,
     "end_time": "2023-08-22T19:52:10.248658",
     "exception": false,
     "start_time": "2023-08-22T19:52:10.113518",
     "status": "completed"
    },
    "tags": []
   },
   "outputs": [],
   "source": [
    "# common_1_2_3_grams = get_common_vocab([rt_senti, rt_test], ngram_range_list=[(1,1), (2,2), (3,3)])\n",
    "# print(len(common_1_2_3_grams))\n",
    "# # sorted((common_1_2_3_grams))\n",
    "\n",
    "# # common_1_2_3_grams = common_unigrams | common_bigrams | common_trigrams    # Older code  "
   ]
  },
  {
   "cell_type": "markdown",
   "id": "d9c31741",
   "metadata": {
    "papermill": {
     "duration": 0.115553,
     "end_time": "2023-08-22T19:52:10.477706",
     "exception": false,
     "start_time": "2023-08-22T19:52:10.362153",
     "status": "completed"
    },
    "tags": []
   },
   "source": [
    "### Find common vocabulary between text with positive and negative sentiments in training dataset  "
   ]
  },
  {
   "cell_type": "code",
   "execution_count": 106,
   "id": "434a56f4",
   "metadata": {
    "execution": {
     "iopub.execute_input": "2023-08-22T19:52:10.714763Z",
     "iopub.status.busy": "2023-08-22T19:52:10.713913Z",
     "iopub.status.idle": "2023-08-22T19:52:10.763813Z",
     "shell.execute_reply": "2023-08-22T19:52:10.762518Z"
    },
    "papermill": {
     "duration": 0.171045,
     "end_time": "2023-08-22T19:52:10.766090",
     "exception": false,
     "start_time": "2023-08-22T19:52:10.595045",
     "status": "completed"
    },
    "tags": []
   },
   "outputs": [
    {
     "data": {
      "text/plain": [
       "(108761, 2)"
      ]
     },
     "execution_count": 106,
     "metadata": {},
     "output_type": "execute_result"
    }
   ],
   "source": [
    "# Dataframe for positive sentiment\n",
    "rt_senti_pos = rt_senti.loc[rt_senti['sentiment'] == 'POSITIVE'].copy()\n",
    "rt_senti_pos.shape"
   ]
  },
  {
   "cell_type": "code",
   "execution_count": 107,
   "id": "36692686",
   "metadata": {
    "execution": {
     "iopub.execute_input": "2023-08-22T19:52:11.000893Z",
     "iopub.status.busy": "2023-08-22T19:52:11.000433Z",
     "iopub.status.idle": "2023-08-22T19:52:11.044244Z",
     "shell.execute_reply": "2023-08-22T19:52:11.043079Z"
    },
    "papermill": {
     "duration": 0.163918,
     "end_time": "2023-08-22T19:52:11.046538",
     "exception": false,
     "start_time": "2023-08-22T19:52:10.882620",
     "status": "completed"
    },
    "tags": []
   },
   "outputs": [
    {
     "data": {
      "text/plain": [
       "(53997, 2)"
      ]
     },
     "execution_count": 107,
     "metadata": {},
     "output_type": "execute_result"
    }
   ],
   "source": [
    "# Dataframe for negative sentiment\n",
    "rt_senti_neg = rt_senti.loc[rt_senti['sentiment'] == 'NEGATIVE'].copy()\n",
    "rt_senti_neg.shape"
   ]
  },
  {
   "cell_type": "code",
   "execution_count": 108,
   "id": "84c6e40d",
   "metadata": {
    "execution": {
     "iopub.execute_input": "2023-08-22T19:52:11.278101Z",
     "iopub.status.busy": "2023-08-22T19:52:11.276614Z",
     "iopub.status.idle": "2023-08-22T19:52:11.283127Z",
     "shell.execute_reply": "2023-08-22T19:52:11.281547Z"
    },
    "papermill": {
     "duration": 0.126007,
     "end_time": "2023-08-22T19:52:11.285638",
     "exception": false,
     "start_time": "2023-08-22T19:52:11.159631",
     "status": "completed"
    },
    "tags": []
   },
   "outputs": [],
   "source": [
    "# Generate stop words/phrases specific for this project data  \n",
    "\n",
    "# common_1_2_3_grams_sentiment = get_common_vocab([rt_senti_pos, rt_senti_neg], ngram_range_list=[(1,1), (2,2), (3,3)])\n",
    "# print(len(common_1_2_3_grams_sentiment))\n",
    "# # sorted(list(common_1_2_3_grams_sentiment))"
   ]
  },
  {
   "cell_type": "code",
   "execution_count": 109,
   "id": "08788202",
   "metadata": {
    "execution": {
     "iopub.execute_input": "2023-08-22T19:52:11.519096Z",
     "iopub.status.busy": "2023-08-22T19:52:11.518649Z",
     "iopub.status.idle": "2023-08-22T19:52:11.523989Z",
     "shell.execute_reply": "2023-08-22T19:52:11.522755Z"
    },
    "papermill": {
     "duration": 0.123674,
     "end_time": "2023-08-22T19:52:11.526182",
     "exception": false,
     "start_time": "2023-08-22T19:52:11.402508",
     "status": "completed"
    },
    "tags": []
   },
   "outputs": [],
   "source": [
    "# Generate and store the entire vocabulary of training data  \n",
    "\n",
    "# train_1_2_3_grams = get_vocab(rt_senti['reviewText'], ngram_range=(1,3))\n",
    "# print(len(train_1_2_3_grams))\n",
    "# # sorted(train_1_2_3_grams)"
   ]
  },
  {
   "cell_type": "code",
   "execution_count": 110,
   "id": "4f4953e7",
   "metadata": {
    "execution": {
     "iopub.execute_input": "2023-08-22T19:52:11.763263Z",
     "iopub.status.busy": "2023-08-22T19:52:11.762835Z",
     "iopub.status.idle": "2023-08-22T19:52:11.768172Z",
     "shell.execute_reply": "2023-08-22T19:52:11.766879Z"
    },
    "papermill": {
     "duration": 0.125497,
     "end_time": "2023-08-22T19:52:11.770423",
     "exception": false,
     "start_time": "2023-08-22T19:52:11.644926",
     "status": "completed"
    },
    "tags": []
   },
   "outputs": [],
   "source": [
    "# type(train_1_2_3_grams)"
   ]
  },
  {
   "cell_type": "code",
   "execution_count": 111,
   "id": "ce7496f7",
   "metadata": {
    "execution": {
     "iopub.execute_input": "2023-08-22T19:52:12.091908Z",
     "iopub.status.busy": "2023-08-22T19:52:12.091474Z",
     "iopub.status.idle": "2023-08-22T19:52:12.096918Z",
     "shell.execute_reply": "2023-08-22T19:52:12.095701Z"
    },
    "papermill": {
     "duration": 0.211581,
     "end_time": "2023-08-22T19:52:12.099334",
     "exception": false,
     "start_time": "2023-08-22T19:52:11.887753",
     "status": "completed"
    },
    "tags": []
   },
   "outputs": [],
   "source": [
    "# Get the vocabulary that should be used in the final models  \n",
    "# relevant_vocab = train_1_2_3_grams - common_1_2_3_grams_sentiment\n",
    "# print(len(relevant_vocab))"
   ]
  },
  {
   "cell_type": "markdown",
   "id": "5d193970",
   "metadata": {
    "papermill": {
     "duration": 0.116949,
     "end_time": "2023-08-22T19:52:12.334204",
     "exception": false,
     "start_time": "2023-08-22T19:52:12.217255",
     "status": "completed"
    },
    "tags": []
   },
   "source": [
    "## Vocabulary based on audienceScore  "
   ]
  },
  {
   "cell_type": "code",
   "execution_count": 112,
   "id": "a8a07c97",
   "metadata": {
    "execution": {
     "iopub.execute_input": "2023-08-22T19:52:12.570829Z",
     "iopub.status.busy": "2023-08-22T19:52:12.570363Z",
     "iopub.status.idle": "2023-08-22T19:52:12.960061Z",
     "shell.execute_reply": "2023-08-22T19:52:12.958758Z"
    },
    "papermill": {
     "duration": 0.510803,
     "end_time": "2023-08-22T19:52:12.962789",
     "exception": false,
     "start_time": "2023-08-22T19:52:12.451986",
     "status": "completed"
    },
    "tags": []
   },
   "outputs": [
    {
     "data": {
      "text/plain": [
       "<Axes: xlabel='sentiment', ylabel='audienceScore'>"
      ]
     },
     "execution_count": 112,
     "metadata": {},
     "output_type": "execute_result"
    },
    {
     "data": {
      "image/png": "[encoded data removed]",
      "text/plain": [
       "<Figure size 640x480 with 1 Axes>"
      ]
     },
     "metadata": {},
     "output_type": "display_data"
    }
   ],
   "source": [
    "sns.boxplot(y=merged[\"audienceScore\"], x=merged[\"sentiment\"])"
   ]
  },
  {
   "cell_type": "code",
   "execution_count": 113,
   "id": "d90af0bf",
   "metadata": {
    "execution": {
     "iopub.execute_input": "2023-08-22T19:52:13.203729Z",
     "iopub.status.busy": "2023-08-22T19:52:13.202846Z",
     "iopub.status.idle": "2023-08-22T19:52:13.258860Z",
     "shell.execute_reply": "2023-08-22T19:52:13.257507Z"
    },
    "papermill": {
     "duration": 0.180843,
     "end_time": "2023-08-22T19:52:13.261665",
     "exception": false,
     "start_time": "2023-08-22T19:52:13.080822",
     "status": "completed"
    },
    "tags": []
   },
   "outputs": [
    {
     "data": {
      "text/html": [
       "<div>\n",
       "<style scoped>\n",
       "    .dataframe tbody tr th:only-of-type {\n",
       "        vertical-align: middle;\n",
       "    }\n",
       "\n",
       "    .dataframe tbody tr th {\n",
       "        vertical-align: top;\n",
       "    }\n",
       "\n",
       "    .dataframe thead th {\n",
       "        text-align: right;\n",
       "    }\n",
       "</style>\n",
       "<table border=\"1\" class=\"dataframe\">\n",
       "  <thead>\n",
       "    <tr style=\"text-align: right;\">\n",
       "      <th></th>\n",
       "      <th>count</th>\n",
       "      <th>mean</th>\n",
       "      <th>std</th>\n",
       "      <th>min</th>\n",
       "      <th>25%</th>\n",
       "      <th>50%</th>\n",
       "      <th>75%</th>\n",
       "      <th>max</th>\n",
       "    </tr>\n",
       "    <tr>\n",
       "      <th>sentiment</th>\n",
       "      <th></th>\n",
       "      <th></th>\n",
       "      <th></th>\n",
       "      <th></th>\n",
       "      <th></th>\n",
       "      <th></th>\n",
       "      <th></th>\n",
       "      <th></th>\n",
       "    </tr>\n",
       "  </thead>\n",
       "  <tbody>\n",
       "    <tr>\n",
       "      <th>NEGATIVE</th>\n",
       "      <td>53997.0</td>\n",
       "      <td>56.474786</td>\n",
       "      <td>19.902115</td>\n",
       "      <td>0.0</td>\n",
       "      <td>41.0</td>\n",
       "      <td>57.0</td>\n",
       "      <td>72.0</td>\n",
       "      <td>100.0</td>\n",
       "    </tr>\n",
       "    <tr>\n",
       "      <th>POSITIVE</th>\n",
       "      <td>108761.0</td>\n",
       "      <td>69.326174</td>\n",
       "      <td>18.380626</td>\n",
       "      <td>0.0</td>\n",
       "      <td>58.0</td>\n",
       "      <td>73.0</td>\n",
       "      <td>84.0</td>\n",
       "      <td>100.0</td>\n",
       "    </tr>\n",
       "  </tbody>\n",
       "</table>\n",
       "</div>"
      ],
      "text/plain": [
       "              count       mean        std  min   25%   50%   75%    max\n",
       "sentiment                                                              \n",
       "NEGATIVE    53997.0  56.474786  19.902115  0.0  41.0  57.0  72.0  100.0\n",
       "POSITIVE   108761.0  69.326174  18.380626  0.0  58.0  73.0  84.0  100.0"
      ]
     },
     "execution_count": 113,
     "metadata": {},
     "output_type": "execute_result"
    }
   ],
   "source": [
    "merged.groupby('sentiment')['audienceScore'].describe()"
   ]
  },
  {
   "cell_type": "code",
   "execution_count": 114,
   "id": "5c3c8d61",
   "metadata": {
    "execution": {
     "iopub.execute_input": "2023-08-22T19:52:13.502485Z",
     "iopub.status.busy": "2023-08-22T19:52:13.502002Z",
     "iopub.status.idle": "2023-08-22T19:52:13.507174Z",
     "shell.execute_reply": "2023-08-22T19:52:13.505972Z"
    },
    "papermill": {
     "duration": 0.128699,
     "end_time": "2023-08-22T19:52:13.509534",
     "exception": false,
     "start_time": "2023-08-22T19:52:13.380835",
     "status": "completed"
    },
    "tags": []
   },
   "outputs": [],
   "source": [
    "# pos_scores = merged[['reviewText', 'sentiment']].loc[(merged['audienceScore'] > 73) & (merged['sentiment'] == 'POSITIVE')].copy()\n",
    "# pos_scores.shape, pos_scores.head()"
   ]
  },
  {
   "cell_type": "code",
   "execution_count": 115,
   "id": "6356fb66",
   "metadata": {
    "execution": {
     "iopub.execute_input": "2023-08-22T19:52:13.749921Z",
     "iopub.status.busy": "2023-08-22T19:52:13.749500Z",
     "iopub.status.idle": "2023-08-22T19:52:13.754515Z",
     "shell.execute_reply": "2023-08-22T19:52:13.753334Z"
    },
    "papermill": {
     "duration": 0.126198,
     "end_time": "2023-08-22T19:52:13.757144",
     "exception": false,
     "start_time": "2023-08-22T19:52:13.630946",
     "status": "completed"
    },
    "tags": []
   },
   "outputs": [],
   "source": [
    "# pos_scores['sentiment'].value_counts()"
   ]
  },
  {
   "cell_type": "code",
   "execution_count": 116,
   "id": "a334e0f8",
   "metadata": {
    "execution": {
     "iopub.execute_input": "2023-08-22T19:52:13.993784Z",
     "iopub.status.busy": "2023-08-22T19:52:13.993313Z",
     "iopub.status.idle": "2023-08-22T19:52:13.998121Z",
     "shell.execute_reply": "2023-08-22T19:52:13.997161Z"
    },
    "papermill": {
     "duration": 0.126669,
     "end_time": "2023-08-22T19:52:14.000941",
     "exception": false,
     "start_time": "2023-08-22T19:52:13.874272",
     "status": "completed"
    },
    "tags": []
   },
   "outputs": [],
   "source": [
    "# neg_scores = merged[['reviewText', 'sentiment']].loc[(merged['audienceScore'] < 57) & (merged['sentiment'] == 'NEGATIVE')].copy()\n",
    "# neg_scores.shape, neg_scores.head()"
   ]
  },
  {
   "cell_type": "code",
   "execution_count": 117,
   "id": "521fce51",
   "metadata": {
    "execution": {
     "iopub.execute_input": "2023-08-22T19:52:14.239926Z",
     "iopub.status.busy": "2023-08-22T19:52:14.239083Z",
     "iopub.status.idle": "2023-08-22T19:52:14.243875Z",
     "shell.execute_reply": "2023-08-22T19:52:14.243107Z"
    },
    "papermill": {
     "duration": 0.127384,
     "end_time": "2023-08-22T19:52:14.246111",
     "exception": false,
     "start_time": "2023-08-22T19:52:14.118727",
     "status": "completed"
    },
    "tags": []
   },
   "outputs": [],
   "source": [
    "# neg_scores['sentiment'].value_counts()"
   ]
  },
  {
   "cell_type": "code",
   "execution_count": 118,
   "id": "c6b991ef",
   "metadata": {
    "execution": {
     "iopub.execute_input": "2023-08-22T19:52:14.485001Z",
     "iopub.status.busy": "2023-08-22T19:52:14.484152Z",
     "iopub.status.idle": "2023-08-22T19:52:14.489181Z",
     "shell.execute_reply": "2023-08-22T19:52:14.488316Z"
    },
    "papermill": {
     "duration": 0.127384,
     "end_time": "2023-08-22T19:52:14.491469",
     "exception": false,
     "start_time": "2023-08-22T19:52:14.364085",
     "status": "completed"
    },
    "tags": []
   },
   "outputs": [],
   "source": [
    "# common_pos_neg_scores = get_common_vocab([pos_scores, neg_scores], ngram_range_list=[(1,1), (2,2), (3,3)])\n",
    "# print(len(common_pos_neg_scores))\n",
    "# # sorted(list(common_pos_neg_scores))"
   ]
  },
  {
   "cell_type": "code",
   "execution_count": 119,
   "id": "13e991f9",
   "metadata": {
    "execution": {
     "iopub.execute_input": "2023-08-22T19:52:14.732544Z",
     "iopub.status.busy": "2023-08-22T19:52:14.731721Z",
     "iopub.status.idle": "2023-08-22T19:52:14.736528Z",
     "shell.execute_reply": "2023-08-22T19:52:14.735745Z"
    },
    "papermill": {
     "duration": 0.126656,
     "end_time": "2023-08-22T19:52:14.738877",
     "exception": false,
     "start_time": "2023-08-22T19:52:14.612221",
     "status": "completed"
    },
    "tags": []
   },
   "outputs": [],
   "source": [
    "# pos_vocab = get_common_vocab([pos_scores, pos_scores], ngram_range_list=[(1,1), (2,2), (3,3)])\n",
    "# print(len(pos_vocab))\n",
    "# # sorted(list(pos_vocab))"
   ]
  },
  {
   "cell_type": "code",
   "execution_count": 120,
   "id": "766355cd",
   "metadata": {
    "execution": {
     "iopub.execute_input": "2023-08-22T19:52:14.975759Z",
     "iopub.status.busy": "2023-08-22T19:52:14.974928Z",
     "iopub.status.idle": "2023-08-22T19:52:14.979921Z",
     "shell.execute_reply": "2023-08-22T19:52:14.978971Z"
    },
    "papermill": {
     "duration": 0.126913,
     "end_time": "2023-08-22T19:52:14.982338",
     "exception": false,
     "start_time": "2023-08-22T19:52:14.855425",
     "status": "completed"
    },
    "tags": []
   },
   "outputs": [],
   "source": [
    "# print(len(get_vocab(pos_scores['reviewText'], ngram_range=(1,1))))\n",
    "# print(len(get_vocab(pos_scores['reviewText'], ngram_range=(2,2))))\n",
    "# print(len(get_vocab(pos_scores['reviewText'], ngram_range=(3,3))))"
   ]
  },
  {
   "cell_type": "code",
   "execution_count": 121,
   "id": "d40969c2",
   "metadata": {
    "execution": {
     "iopub.execute_input": "2023-08-22T19:52:15.221323Z",
     "iopub.status.busy": "2023-08-22T19:52:15.220505Z",
     "iopub.status.idle": "2023-08-22T19:52:15.225513Z",
     "shell.execute_reply": "2023-08-22T19:52:15.224752Z"
    },
    "papermill": {
     "duration": 0.128189,
     "end_time": "2023-08-22T19:52:15.227807",
     "exception": false,
     "start_time": "2023-08-22T19:52:15.099618",
     "status": "completed"
    },
    "tags": []
   },
   "outputs": [],
   "source": [
    "# neg_vocab = get_common_vocab([neg_scores, neg_scores], ngram_range_list=[(1,1), (2,2), (3,3)])\n",
    "# print(len(neg_vocab))\n",
    "# # sorted(list(neg_vocab))"
   ]
  },
  {
   "cell_type": "code",
   "execution_count": 122,
   "id": "3010524e",
   "metadata": {
    "execution": {
     "iopub.execute_input": "2023-08-22T19:52:15.466923Z",
     "iopub.status.busy": "2023-08-22T19:52:15.466006Z",
     "iopub.status.idle": "2023-08-22T19:52:15.471310Z",
     "shell.execute_reply": "2023-08-22T19:52:15.470469Z"
    },
    "papermill": {
     "duration": 0.127047,
     "end_time": "2023-08-22T19:52:15.473584",
     "exception": false,
     "start_time": "2023-08-22T19:52:15.346537",
     "status": "completed"
    },
    "tags": []
   },
   "outputs": [],
   "source": [
    "# print(len(get_vocab(neg_scores['reviewText'], ngram_range=(1,1))))\n",
    "# print(len(get_vocab(neg_scores['reviewText'], ngram_range=(2,2))))\n",
    "# print(len(get_vocab(neg_scores['reviewText'], ngram_range=(3,3))))"
   ]
  },
  {
   "cell_type": "code",
   "execution_count": 123,
   "id": "448acf12",
   "metadata": {
    "execution": {
     "iopub.execute_input": "2023-08-22T19:52:15.713547Z",
     "iopub.status.busy": "2023-08-22T19:52:15.712773Z",
     "iopub.status.idle": "2023-08-22T19:52:15.717726Z",
     "shell.execute_reply": "2023-08-22T19:52:15.716911Z"
    },
    "papermill": {
     "duration": 0.12687,
     "end_time": "2023-08-22T19:52:15.720096",
     "exception": false,
     "start_time": "2023-08-22T19:52:15.593226",
     "status": "completed"
    },
    "tags": []
   },
   "outputs": [],
   "source": [
    "# len(pos_vocab), len(neg_vocab), len(pos_vocab - neg_vocab), len(neg_vocab - pos_vocab), len(pos_vocab & neg_vocab)"
   ]
  },
  {
   "cell_type": "markdown",
   "id": "68113cfe",
   "metadata": {
    "papermill": {
     "duration": 0.119224,
     "end_time": "2023-08-22T19:52:15.958124",
     "exception": false,
     "start_time": "2023-08-22T19:52:15.838900",
     "status": "completed"
    },
    "tags": []
   },
   "source": [
    "### Common pos, neg vocabs among train and test  "
   ]
  },
  {
   "cell_type": "code",
   "execution_count": 124,
   "id": "5e2f3e88",
   "metadata": {
    "execution": {
     "iopub.execute_input": "2023-08-22T19:52:16.195817Z",
     "iopub.status.busy": "2023-08-22T19:52:16.194954Z",
     "iopub.status.idle": "2023-08-22T19:52:16.200330Z",
     "shell.execute_reply": "2023-08-22T19:52:16.199375Z"
    },
    "papermill": {
     "duration": 0.12694,
     "end_time": "2023-08-22T19:52:16.202883",
     "exception": false,
     "start_time": "2023-08-22T19:52:16.075943",
     "status": "completed"
    },
    "tags": []
   },
   "outputs": [],
   "source": [
    "# len(common_1_2_3_grams & (pos_vocab - neg_vocab))"
   ]
  },
  {
   "cell_type": "code",
   "execution_count": 125,
   "id": "21019775",
   "metadata": {
    "execution": {
     "iopub.execute_input": "2023-08-22T19:52:16.518173Z",
     "iopub.status.busy": "2023-08-22T19:52:16.517707Z",
     "iopub.status.idle": "2023-08-22T19:52:16.523156Z",
     "shell.execute_reply": "2023-08-22T19:52:16.521998Z"
    },
    "papermill": {
     "duration": 0.123464,
     "end_time": "2023-08-22T19:52:16.525418",
     "exception": false,
     "start_time": "2023-08-22T19:52:16.401954",
     "status": "completed"
    },
    "tags": []
   },
   "outputs": [],
   "source": [
    "# len(common_1_2_3_grams & (neg_vocab - pos_vocab))"
   ]
  },
  {
   "cell_type": "code",
   "execution_count": 126,
   "id": "388c69bf",
   "metadata": {
    "execution": {
     "iopub.execute_input": "2023-08-22T19:52:16.761753Z",
     "iopub.status.busy": "2023-08-22T19:52:16.761247Z",
     "iopub.status.idle": "2023-08-22T19:52:16.771148Z",
     "shell.execute_reply": "2023-08-22T19:52:16.770215Z"
    },
    "papermill": {
     "duration": 0.131587,
     "end_time": "2023-08-22T19:52:16.773299",
     "exception": false,
     "start_time": "2023-08-22T19:52:16.641712",
     "status": "completed"
    },
    "tags": []
   },
   "outputs": [],
   "source": [
    "def audienceScore_vocab(df_list, scores=(57, 73), ngram_range_list=[(1,1), (2,2), (3,3)]):\n",
    "    train = df_list[0]\n",
    "    test = df_list[1]\n",
    "\n",
    "    lower_bound = scores[0]\n",
    "    upper_bound = scores[1]\n",
    "\n",
    "    common_ngrams = get_common_vocab([train, test], ngram_range_list=ngram_range_list)\n",
    "\n",
    "    pos_scores = train[['reviewText', 'sentiment']].loc[(train['audienceScore'] > upper_bound) & (train['sentiment'] == 'POSITIVE')].copy()\n",
    "    neg_scores = train[['reviewText', 'sentiment']].loc[(train['audienceScore'] < lower_bound) & (train['sentiment'] == 'NEGATIVE')].copy()\n",
    "\n",
    "    pos_vocab = get_common_vocab([pos_scores, pos_scores], ngram_range_list=ngram_range_list)\n",
    "    neg_vocab = get_common_vocab([neg_scores, neg_scores], ngram_range_list=ngram_range_list)\n",
    "\n",
    "    pure_common_pos = common_ngrams & (pos_vocab - neg_vocab)\n",
    "    pure_common_neg = common_ngrams & (neg_vocab - pos_vocab)\n",
    "\n",
    "    return pure_common_pos, pure_common_neg"
   ]
  },
  {
   "cell_type": "code",
   "execution_count": 127,
   "id": "f2470f4b",
   "metadata": {
    "execution": {
     "iopub.execute_input": "2023-08-22T19:52:17.005249Z",
     "iopub.status.busy": "2023-08-22T19:52:17.003805Z",
     "iopub.status.idle": "2023-08-22T19:52:17.008957Z",
     "shell.execute_reply": "2023-08-22T19:52:17.008030Z"
    },
    "papermill": {
     "duration": 0.123455,
     "end_time": "2023-08-22T19:52:17.011098",
     "exception": false,
     "start_time": "2023-08-22T19:52:16.887643",
     "status": "completed"
    },
    "tags": []
   },
   "outputs": [],
   "source": [
    "# pcp, pcn = audienceScore_vocab([merged, merged_test])\n",
    "# len(pcp), len(pcn)"
   ]
  },
  {
   "cell_type": "code",
   "execution_count": 128,
   "id": "f20893fa",
   "metadata": {
    "execution": {
     "iopub.execute_input": "2023-08-22T19:52:17.242858Z",
     "iopub.status.busy": "2023-08-22T19:52:17.242049Z",
     "iopub.status.idle": "2023-08-22T19:52:17.245967Z",
     "shell.execute_reply": "2023-08-22T19:52:17.245196Z"
    },
    "papermill": {
     "duration": 0.122464,
     "end_time": "2023-08-22T19:52:17.248204",
     "exception": false,
     "start_time": "2023-08-22T19:52:17.125740",
     "status": "completed"
    },
    "tags": []
   },
   "outputs": [],
   "source": [
    "# pc = pcp | pcn\n",
    "# sorted(list(pc))"
   ]
  },
  {
   "cell_type": "markdown",
   "id": "c60bf104",
   "metadata": {
    "papermill": {
     "duration": 0.114658,
     "end_time": "2023-08-22T19:52:17.478981",
     "exception": false,
     "start_time": "2023-08-22T19:52:17.364323",
     "status": "completed"
    },
    "tags": []
   },
   "source": [
    "# Submit_v5 for merged file models  "
   ]
  },
  {
   "cell_type": "markdown",
   "id": "121a9157",
   "metadata": {
    "papermill": {
     "duration": 0.116186,
     "end_time": "2023-08-22T19:52:17.710441",
     "exception": false,
     "start_time": "2023-08-22T19:52:17.594255",
     "status": "completed"
    },
    "tags": []
   },
   "source": [
    "### More Helper functions  "
   ]
  },
  {
   "cell_type": "code",
   "execution_count": 129,
   "id": "c4b791d0",
   "metadata": {
    "execution": {
     "iopub.execute_input": "2023-08-22T19:52:17.949127Z",
     "iopub.status.busy": "2023-08-22T19:52:17.948447Z",
     "iopub.status.idle": "2023-08-22T19:52:17.955321Z",
     "shell.execute_reply": "2023-08-22T19:52:17.954539Z"
    },
    "papermill": {
     "duration": 0.129281,
     "end_time": "2023-08-22T19:52:17.957630",
     "exception": false,
     "start_time": "2023-08-22T19:52:17.828349",
     "status": "completed"
    },
    "tags": []
   },
   "outputs": [],
   "source": [
    "# Testing predictions on missing reviewtext columns  \n",
    "\n",
    "def predict_on_missing_review_data(pipe, selected_features, merged_train):\n",
    "    missing_reviews_train = merged_train.loc[merged_train['reviewYN'] == 1]\n",
    "    missing_reviews_train.reset_index(drop=True)\n",
    "    X_train_miss_revs = missing_reviews_train.drop('sentiment', axis = 1)\n",
    "    X_train_miss_revs = X_train_miss_revs[selected_features]\n",
    "    y_train_miss_revs = missing_reviews_train['sentiment']\n",
    "    \n",
    "    y_pred_miss_revs = pipe.predict(X_train_miss_revs)\n",
    "#     print('Predictions on rows which had missing reviewText')\n",
    "    print(\"Confusion matrix and f1-score for rows which have no reviewText in X_train: \")\n",
    "    print(confusion_matrix(y_train_miss_revs, y_pred_miss_revs, labels=pipe.classes_))\n",
    "    \n",
    "    return f1_score(y_train_miss_revs, y_pred_miss_revs, average='micro')"
   ]
  },
  {
   "cell_type": "code",
   "execution_count": 130,
   "id": "83322fad",
   "metadata": {
    "execution": {
     "iopub.execute_input": "2023-08-22T19:52:18.200663Z",
     "iopub.status.busy": "2023-08-22T19:52:18.200011Z",
     "iopub.status.idle": "2023-08-22T19:52:18.235342Z",
     "shell.execute_reply": "2023-08-22T19:52:18.233756Z"
    },
    "papermill": {
     "duration": 0.159608,
     "end_time": "2023-08-22T19:52:18.239784",
     "exception": false,
     "start_time": "2023-08-22T19:52:18.080176",
     "status": "completed"
    },
    "tags": []
   },
   "outputs": [],
   "source": [
    "# Function to build pipelines for GridSearchCV which goes into the final 'submit' function  \n",
    "def build_pipeline(selected_model=LogisticRegression(), \n",
    "                   selected_features={'txt': ['reviewText']}, \n",
    "                   param_grid=None,\n",
    "                   vocab=None,\n",
    "                   vocab_usage='tfidf',\n",
    "                   strip_accents='unicode', \n",
    "                   add_countvec=False,\n",
    "                   vocab_audscore=None,\n",
    "                  poly=True):\n",
    "    # Encoders  \n",
    "    ohe = OneHotEncoder(sparse_output=False, handle_unknown='ignore')\n",
    "    MMscaler = MinMaxScaler()\n",
    "    StdScaler = StandardScaler()\n",
    "    RobScaler = RobustScaler()\n",
    "    \n",
    "    # Categorical features\n",
    "    cat_pipe = Pipeline(steps=[\n",
    "                            (\"ohe\", ohe),\n",
    "                        ])\n",
    "    \n",
    "    # Numerical features\n",
    "    num_pipe = Pipeline(steps=[\n",
    "                            (\"robscaler\", RobustScaler()),\n",
    "                            (\"stdscaler\", StandardScaler())\n",
    "                        ])\n",
    "    num_pipe_poly = Pipeline(steps=[\n",
    "                            (\"robscaler\", RobustScaler()),\n",
    "                            (\"stdscaler\", StandardScaler()),\n",
    "                            (\"poly\", PolynomialFeatures(degree=2, interaction_only=True, include_bias=False))\n",
    "                        ])\n",
    "    \n",
    "    # Text features ['reviewText', 'reviewerName', 'movieid', 'genre', 'director']\n",
    "    tfidf_vec = TfidfVectorizer(ngram_range=(1,2))\n",
    "    count_vec = CountVectorizer(ngram_range=(1,2))\n",
    "    txt_pipe = Pipeline(steps=[\n",
    "                            (\"tvec\", TfidfVectorizer(ngram_range=(1,4), strip_accents=strip_accents))    # Adjust ngram_range here for reviewText\n",
    "                        ])\n",
    "    txt_pipe_vocab = Pipeline(steps=[\n",
    "                            (\"tvec\", TfidfVectorizer(ngram_range=(1,4), strip_accents=strip_accents, vocabulary=vocab))    # Adjust ngram_range here for reviewText\n",
    "                        ])\n",
    "    txt_pipe_2 = Pipeline(steps=[\n",
    "                            (\"tvec\", TfidfVectorizer(ngram_range=(2,2)))\n",
    "                        ])\n",
    "    txt_pipe_3 = Pipeline(steps=[\n",
    "                            (\"tvec\", TfidfVectorizer(ngram_range=(1,1)))\n",
    "                        ])\n",
    "    txt_pipe_4 = Pipeline(steps=[\n",
    "                            (\"tvec\", TfidfVectorizer(ngram_range=(1,3)))    # Adjust ngram_range here for reviewText\n",
    "                        ])\n",
    "    txt_pipe_title  = Pipeline(steps=[\n",
    "                            (\"tvec\", TfidfVectorizer(ngram_range=(1,5)))    # Adjust ngram_range here for reviewText\n",
    "                        ])\n",
    "    \n",
    "    # Additional pipes for count vectorizer\n",
    "    txt_pipe_countvec = Pipeline(steps=[\n",
    "                            (\"cvec\", CountVectorizer(ngram_range=(1,4), strip_accents=strip_accents))    # Adjust ngram_range here for reviewText\n",
    "                        ])\n",
    "    txt_pipe_countvec_vocab = Pipeline(steps=[\n",
    "                            (\"cvec\", CountVectorizer(ngram_range=(1,4), strip_accents=strip_accents, vocabulary=vocab))    # Adjust ngram_range here for reviewText\n",
    "                        ])\n",
    "    txt_pipe_countvec_vocab_audscore = Pipeline(steps=[\n",
    "                            (\"cvec\", CountVectorizer(ngram_range=(1,4), strip_accents=strip_accents, vocabulary=vocab_audscore))    # Adjust ngram_range here for reviewText\n",
    "                        ])\n",
    "    \n",
    "    txt_pipe_countvec_ratingContents = Pipeline(steps=[\n",
    "                            (\"cvec\", CountVectorizer(ngram_range=(1,5)))    # Adjust ngram_range here for reviewText\n",
    "                        ])\n",
    "    txt_pipe_countvec_rcSorted = Pipeline(steps=[\n",
    "                            (\"cvec\", CountVectorizer(ngram_range=(1,1)))    # Adjust ngram_range here for reviewText\n",
    "                        ])\n",
    "    txt_pipe_countvec_genre = Pipeline(steps=[\n",
    "                            (\"cvec\", CountVectorizer(ngram_range=(1,1)))\n",
    "                        ])\n",
    "    txt_pipe_countvec_genreSorted = Pipeline(steps=[\n",
    "                            (\"cvec\", CountVectorizer(ngram_range=(1,5)))\n",
    "                        ])\n",
    "    txt_pipe_countvec_distributor = Pipeline(steps=[\n",
    "                            (\"cvec\", CountVectorizer(ngram_range=(1,3)))    # Adjust ngram_range here for reviewText\n",
    "                        ])\n",
    "    txt_pipe_countvec_title = Pipeline(steps=[\n",
    "                            (\"cvec\", CountVectorizer(ngram_range=(1,5), strip_accents=strip_accents))\n",
    "                        ])\n",
    "    txt_pipe_countvec_movieid = Pipeline(steps=[\n",
    "                            (\"cvec\", CountVectorizer(ngram_range=(1,1)))\n",
    "                        ])\n",
    "    # Basic pipes  \n",
    "    TFs = []\n",
    "    try:\n",
    "        TFs.append((f\"cat\", ohe, selected_features['cat']))\n",
    "#         for c in selected_features['cat']:\n",
    "#             TFs.append((f\"cat_{c}\", ohe, [c]))\n",
    "    except:\n",
    "        pass\n",
    "    \n",
    "    try:\n",
    "        if poly:\n",
    "            TFs.append((f\"num\", num_pipe_poly, selected_features['num']))\n",
    "        else:\n",
    "            TFs.append((f\"num\", num_pipe, selected_features['num']))\n",
    "#             for n in selected_features['num']:\n",
    "#                 if n in [\"runtimeMinutes\", \"boxOffice\", \"releaseDiff\"]:\n",
    "#                     TFs.append((f\"num_{n}\", RobScaler, [n]))\n",
    "#                     TFs.append((f\"num_{n}_ss\", StdScaler, [n]))\n",
    "\n",
    "#                 else:\n",
    "#                     TFs.append((f\"num_{n}\", StdScaler, [n]))\n",
    "    except:\n",
    "        pass\n",
    "    \n",
    "    try:\n",
    "        for t in selected_features['txt']:\n",
    "            if t in ['director', 'reviewerName']:\n",
    "                TFs.append((f\"txt_{t}\", txt_pipe_2, t))\n",
    "            elif t in [\"originalLanguage\", \"releaseYear\"]:\n",
    "                TFs.append((f\"txt_{t}\", txt_pipe_3, t))\n",
    "            elif t in ['genre']:\n",
    "                TFs.append((f\"txt_{t}\", txt_pipe_countvec_genre, t))\n",
    "            elif t in [\"genreSorted\"]:\n",
    "                TFs.append((f\"txt_{t}\", txt_pipe_countvec_genreSorted, t))\n",
    "            elif t in [\"distributor\"]:\n",
    "                TFs.append((f\"txt_{t}\", txt_pipe_countvec_distributor, t))\n",
    "                \n",
    "            elif t in ['reviewText']:\n",
    "#                 if vocab and (vocab_usage in [\"tfidf\", \"both\"]):\n",
    "#                     txt_pipe.set_params(tvec__vocabulary=vocab)\n",
    "#                     txt_pipe.set_params(tvec__stop_words='english')\n",
    "                TFs.append((f\"txt_{t}\", txt_pipe, t))\n",
    "            elif t in ['reviewText_2']:\n",
    "                if add_countvec:\n",
    "#                     if vocab and (vocab_usage in [\"count\", \"both\"]):\n",
    "#                         txt_pipe_countvec.set_params(cvec__vocabulary=vocab)\n",
    "#                         txt_pipe_countvec.set_params(cvec__stop_words='english')\n",
    "                    TFs.append((f\"txt_{t}\", txt_pipe_countvec, t))\n",
    "            elif t in ['reviewText_3']:\n",
    "                if vocab_usage == 'tfidf':\n",
    "                    TFs.append((f\"txt_{t}\", txt_pipe_vocab, t))\n",
    "                elif vocab_usage == 'count':\n",
    "                    TFs.append((f\"txt_{t}\", txt_pipe_countvec_vocab, t))\n",
    "            elif t in ['reviewText_4']:\n",
    "                if vocab_audscore:                    \n",
    "                    TFs.append((f\"txt_{t}\", txt_pipe_countvec_vocab_audscore, t))\n",
    "                    \n",
    "            elif t in [\"ratingContents\"]:\n",
    "                TFs.append((f\"txt_{t}\", txt_pipe_countvec_ratingContents, t))\n",
    "            elif t in [\"rcSorted\"]:\n",
    "                TFs.append((f\"txt_{t}\", txt_pipe_countvec_rcSorted, t))\n",
    "            elif t in [\"title\"]:\n",
    "                TFs.append((f\"txt_{t}\", txt_pipe_title, t))\n",
    "            elif t in [\"movieid\"]:\n",
    "                TFs.append((f\"txt_{t}\", txt_pipe_countvec_movieid, t))\n",
    "            else:\n",
    "                pass\n",
    "    except:\n",
    "        pass\n",
    "\n",
    "    # Build ColumnTransformer  \n",
    "    ct = ColumnTransformer(transformers=TFs, remainder='drop')\n",
    "\n",
    "    # Build Pipeline\n",
    "    pipe = Pipeline(steps=[('ct', ct), ('model', selected_model)])\n",
    "    print(\"\\nPipeline built successfully.\")\n",
    "\n",
    "    # Use the pipe in GridSearchCV\n",
    "    if param_grid == None:\n",
    "        param_grid_temp = {\"model__C\": [1],\n",
    "                     'model__solver': ['liblinear']}\n",
    "        print(\"Full GridSearchCV pipeline built successfully with basic default param_grid.\\n\")\n",
    "        pipeCV = GridSearchCV(pipe, param_grid_temp, cv=10, scoring=\"f1_micro\", n_jobs=-1)\n",
    "        return pipeCV\n",
    "    \n",
    "    # GridSearchCV if param_grid provided\n",
    "    if param_grid:\n",
    "        pipeCV = GridSearchCV(pipe, param_grid, cv=10, scoring=\"f1_micro\", n_jobs=-1)\n",
    "        print(\"\\nFull GridSearchCV pipeline built successfully.\")\n",
    "        return pipeCV"
   ]
  },
  {
   "cell_type": "code",
   "execution_count": 131,
   "id": "0bf5d6c7",
   "metadata": {
    "execution": {
     "iopub.execute_input": "2023-08-22T19:52:18.503452Z",
     "iopub.status.busy": "2023-08-22T19:52:18.502718Z",
     "iopub.status.idle": "2023-08-22T19:52:18.521283Z",
     "shell.execute_reply": "2023-08-22T19:52:18.520112Z"
    },
    "papermill": {
     "duration": 0.142425,
     "end_time": "2023-08-22T19:52:18.524263",
     "exception": false,
     "start_time": "2023-08-22T19:52:18.381838",
     "status": "completed"
    },
    "tags": []
   },
   "outputs": [],
   "source": [
    "def preprocessor(imputer_type='simple'):\n",
    "    \n",
    "    \"\"\"Preprocess train or test data. Choose 'simple' or 'knn' imputers to impute missing numerical values\"\"\"\n",
    "    \n",
    "    # Set imputer  \n",
    "    if imputer_type == 'simple':\n",
    "        imputer = SimpleImputer(strategy='median')\n",
    "        print(imputer)\n",
    "    elif imputer_type == 'knn':\n",
    "        imputer = KNNImputer(weights='distance', n_neighbors=3)    # Adjust KNNImputer params here\n",
    "        print(imputer)\n",
    "\n",
    "\n",
    "    \n",
    "    # Merge and preprocess train and movies data  \n",
    "    merged = select_features(load_csv(\"train\"), load_csv(\"movies\"), row_thresh_null=None)    # Decide if you want to drop any rows containing lot of nulls\n",
    "    \n",
    "    # Impute missing numerical values  \n",
    "    merged[['audienceScore', 'runtimeMinutes', 'boxOffice']] = imputer.fit_transform(merged[['audienceScore', 'runtimeMinutes', 'boxOffice']])\n",
    "    merged['releaseDate'] = merged[\"releaseDate\"].fillna(merged[\"releaseDate\"].median())\n",
    "\n",
    "    # Create new feature columns\n",
    "    \n",
    "    # Convert audienceScore to categories  \n",
    "    num_bins_as = 20\n",
    "    merged[\"audScoreBins\"] = pd.cut(merged['audienceScore'], bins=num_bins_as, labels=False)\n",
    "\n",
    "    # Convert runtimeMinutes to categories  \n",
    "#     num_bins_rt = 20\n",
    "    merged[\"runtimeBins\"] = pd.cut(merged['runtimeMinutes'], bins=[0,75,120,180,565], labels=[4,3,2,1])\n",
    "    \n",
    "    # Convert boxOffice to categories  \n",
    "    num_bins_bo = 5\n",
    "    merged[\"boxOfficeBins\"] = pd.cut(merged['boxOffice'], bins=num_bins_bo, labels=False)\n",
    "    \n",
    "    # Convert releaseDiff to categories  \n",
    "    num_bins_rd = 5\n",
    "    merged[\"releaseDiffBins\"] = pd.cut(merged['releaseDiff'], bins=[-1, 180, 360, 1000, 40000], labels=[0, 1, 2, 3])\n",
    "    \n",
    "    # Check1 (preprocessor)\n",
    "    print(\"\\nCheck 1 (preprocessor) complete.\")\n",
    "    print(f\"Shape of X_train: {merged.shape}\")\n",
    "    print(f\"Features in X_train: {merged.columns}\")\n",
    "\n",
    "\n",
    "    \n",
    "    # Merge and preprocess test and movies data  \n",
    "    merged_test = select_features(load_csv(\"test\"), load_csv(\"movies\"))\n",
    "    \n",
    "    # Transform ['audienceScore', 'runtimeMinutes', 'boxOffice'] columns in merged_test using 'imputer' fitted on 'merged' df  \n",
    "    merged_test[['audienceScore', 'runtimeMinutes', 'boxOffice']] = imputer.transform(merged_test[['audienceScore', 'runtimeMinutes', 'boxOffice']])\n",
    "    \n",
    "    # Fill 'releaseDate' column in 'merged_test' df with median from the train (merged) df  \n",
    "    merged_test['releaseDate'] = merged_test[\"releaseDate\"].fillna(merged[\"releaseDate\"].median())\n",
    "\n",
    "    \n",
    "    # Create new feature columns\n",
    "    \n",
    "    # Convert audienceScore to categories  \n",
    "    num_bins_as = 20\n",
    "    merged_test[\"audScoreBins\"] = pd.cut(merged_test['audienceScore'], bins=num_bins_as, labels=False)\n",
    "    \n",
    "    # Convert runtimeMinutes to categories  \n",
    "#     num_bins_rt = 20\n",
    "    merged_test[\"runtimeBins\"] = pd.cut(merged_test['runtimeMinutes'], bins=[0,75,120,180,565], labels=[4,3,2,1])\n",
    "    \n",
    "    # Convert boxOffice to categories  \n",
    "    num_bins_bo = 5\n",
    "    merged_test[\"boxOfficeBins\"] = pd.cut(merged_test['boxOffice'], bins=num_bins_bo, labels=False)\n",
    "    \n",
    "    # Convert releaseDiff to categories  \n",
    "    num_bins_rd = 5\n",
    "    merged_test[\"releaseDiffBins\"] = pd.cut(merged_test['releaseDiff'], bins=[-1, 180, 360, 1000, 40000], labels=[0, 1, 2, 3])\n",
    "    \n",
    "    \n",
    "    # Check2 (preprocessor)\n",
    "    print(\"\\nCheck 2 (preprocessor) complete.\")\n",
    "    print(f\"Shape of X_test: {merged_test.shape}\")\n",
    "    print(f\"Features in X_test: {merged_test.columns}\")\n",
    "\n",
    "    return merged, merged_test\n",
    "    "
   ]
  },
  {
   "cell_type": "code",
   "execution_count": 132,
   "id": "d5073d78",
   "metadata": {
    "execution": {
     "iopub.execute_input": "2023-08-22T19:52:18.762154Z",
     "iopub.status.busy": "2023-08-22T19:52:18.761716Z",
     "iopub.status.idle": "2023-08-22T19:52:18.766332Z",
     "shell.execute_reply": "2023-08-22T19:52:18.765120Z"
    },
    "papermill": {
     "duration": 0.126742,
     "end_time": "2023-08-22T19:52:18.768715",
     "exception": false,
     "start_time": "2023-08-22T19:52:18.641973",
     "status": "completed"
    },
    "tags": []
   },
   "outputs": [],
   "source": [
    "# merged, merged_test = preprocessor()\n",
    "# merged.shape, merged_test.shape"
   ]
  },
  {
   "cell_type": "code",
   "execution_count": 133,
   "id": "b4f24078",
   "metadata": {
    "execution": {
     "iopub.execute_input": "2023-08-22T19:52:19.004835Z",
     "iopub.status.busy": "2023-08-22T19:52:19.004374Z",
     "iopub.status.idle": "2023-08-22T19:52:19.021041Z",
     "shell.execute_reply": "2023-08-22T19:52:19.020141Z"
    },
    "papermill": {
     "duration": 0.138382,
     "end_time": "2023-08-22T19:52:19.023576",
     "exception": false,
     "start_time": "2023-08-22T19:52:18.885194",
     "status": "completed"
    },
    "tags": []
   },
   "outputs": [],
   "source": [
    "def voting_clf_custom(estimators: list, merged, merged_test):\n",
    "    print(f\"\\nRunning the voting_clf_custom function...\")\n",
    "    print(f\"\\nNumber of estimator pipelines provided: {len(estimators)}\")\n",
    "       \n",
    "    # Create X_train, y_train\n",
    "    X_train = merged.drop(labels=\"sentiment\", axis=1)\n",
    "    y_train = merged[\"sentiment\"]\n",
    "    print(f\"\\nX_train and y_train created.\")\n",
    "    print(f\"Shape of X_train: { X_train.shape}\")\n",
    "    print(f\"Columns in X_train: {X_train.columns}\")\n",
    "    print(f\"\\nShape of y_train: { y_train.shape}\")\n",
    "    print(f\"Inspect y_train: {y_train.head()}\")\n",
    "    \n",
    "    # Create X_test\n",
    "    X_test = merged_test.copy()\n",
    "    print(f\"\\nX_test created.\")\n",
    "    print(f\"Shape of X_test: { X_test.shape}\")\n",
    "    print(f\"Columns in X_test: {X_test.columns}\")\n",
    "\n",
    "    \n",
    "    # Create a list for estimators after fitting  \n",
    "    fitted_estimators = []\n",
    "    \n",
    "    # Build a dataframe of predictions  \n",
    "    predictions_df = pd.DataFrame()\n",
    "    \n",
    "    for n, item in enumerate(estimators, start=1):\n",
    "        \n",
    "        # Get the pipeline\n",
    "        pipe = item[1]\n",
    "        \n",
    "        # Fit \n",
    "        print(f\"\\nTraining started with full pipeline for classifier #{n}/{len(estimators)}...\")\n",
    "#         print(f\"Features included in the pipeline: {pipe.feature_names_in_}\")      # Gives an error\n",
    "        pipe.fit(X_train, y_train)\n",
    "        \n",
    "\n",
    "        # Check1\n",
    "        print(f\"\\nCheck #{n}.1 complete.\")\n",
    "        print(f\"Details of the best model using classifier #{n} (GridSearchCV) on X_train: \")\n",
    "        print(f\"Best Params: {pipe.best_params_}\")\n",
    "        print(f\"Best Score: {pipe.best_score_}\")\n",
    "        \n",
    "#         print(predict_on_missing_review_data(pipe, features, merged))    # Function defined above\n",
    "        \n",
    "        fitted_estimators.append((f\"classifier_{n}\", pipe))\n",
    "        print(f\"\\nclassifier_{n} successfully added to 'fitted_estimators' list\")\n",
    "\n",
    "        \n",
    "        # Predict on train data \n",
    "        y_train_pred = pipe.predict(X_train)\n",
    "        print(f\"\\nConfusion matrix for predictions on training data: \")\n",
    "        print(confusion_matrix(y_train, y_train_pred))\n",
    "        print(f\"\\nClassification report for predictions on training data: \")\n",
    "        print(classification_report(y_train, y_train_pred))\n",
    "        f1_train = f1_score(y_train, y_train_pred, average=\"micro\")\n",
    "        print(f\"F1-score on training data: {f1_train}\")\n",
    "        \n",
    "        # Predict on test data  \n",
    "        y_pred = pipe.predict(X_test)\n",
    "        \n",
    "        # Insert predictions in 'predictions_df' dataframe\n",
    "        predictions_df.insert(n-1, f\"pred_{n}\", y_pred, allow_duplicates=False)\n",
    "        print(predictions_df.shape)\n",
    "        print(predictions_df.head(10))\n",
    "        \n",
    "    \n",
    "        # Check2\n",
    "        print(f\"\\nCheck #{n}.2 complete.\")\n",
    "    #     cv_results_df = pd.DataFrame(pipe.cv_results_)\n",
    "        print(\"Details of the best model using full pipeline (GridSearchCV) on X_train: \")\n",
    "#         print(f\"Best Estimator: {pipe.best_estimator_}\")\n",
    "        print(f\"Best Params: {pipe.best_params_}\")\n",
    "        print(f\"Best Score: {pipe.best_score_}\")\n",
    "#         print(f\"Best Index: {pipe.best_index_}\")\n",
    "        print(f\"Refit Time: {pipe.refit_time_}\")\n",
    "    #     print(f\"Shape of CV results dataframe: {cv_results_df.shape}\")\n",
    "    \n",
    "    \n",
    "    # Voting classifier (custom) with hard voting\n",
    "    # Calculate the MODE for all predictions (Note that the 'predictions_df' generated above should have odd number of columns)\n",
    "    print(f\"\\nTaking votes from all the classifiers/estimators...\")\n",
    "    pred_df_final = predictions_df.mode('columns').iloc[: , 0]\n",
    "    pred_df_final.columns = [\"sentiment\"]\n",
    "    pred_df_final.index.name = \"id\"\n",
    "    pred_df_final.to_csv(\"submission.csv\")\n",
    "    \n",
    "    print(\"\\nSuccessfully created the submission file!!!\")\n",
    "    \n",
    "#     return pipe.cv_results_\n",
    "    return pred_df_final, fitted_estimators"
   ]
  },
  {
   "cell_type": "code",
   "execution_count": 134,
   "id": "08cb9ba5",
   "metadata": {
    "execution": {
     "iopub.execute_input": "2023-08-22T19:52:19.262659Z",
     "iopub.status.busy": "2023-08-22T19:52:19.262236Z",
     "iopub.status.idle": "2023-08-22T19:52:19.274708Z",
     "shell.execute_reply": "2023-08-22T19:52:19.273223Z"
    },
    "papermill": {
     "duration": 0.135922,
     "end_time": "2023-08-22T19:52:19.277171",
     "exception": false,
     "start_time": "2023-08-22T19:52:19.141249",
     "status": "completed"
    },
    "tags": []
   },
   "outputs": [],
   "source": [
    "def  stacking_clf(estimators: list, merged, merged_test):\n",
    "    print(f\"\\nRunning the stacking_clf function...\")\n",
    "    print(f\"\\nNumber of estimator pipelines provided: {len(estimators)}\")\n",
    "    \n",
    "    # Create X_train, y_train\n",
    "    X_train = merged.drop(labels=\"sentiment\", axis=1)\n",
    "    y_train = merged[\"sentiment\"]\n",
    "    print(f\"\\nX_train and y_train created.\")\n",
    "    print(f\"Shape of X_train: { X_train.shape}\")\n",
    "    print(f\"Columns in X_train: {X_train.columns}\")\n",
    "    print(f\"\\nShape of y_train: { y_train.shape}\")\n",
    "    print(f\"Inspect y_train: {y_train.head()}\")\n",
    "    \n",
    "    # Create X_test\n",
    "    X_test = merged_test.copy()\n",
    "    print(f\"\\nX_test created.\")\n",
    "    print(f\"Shape of X_test: { X_test.shape}\")\n",
    "    print(f\"Columns in X_test: {X_test.columns}\")\n",
    "    \n",
    "    # Build the stacking classifier\n",
    "    stacking_classifier = StackingClassifier(estimators=estimators, \n",
    "                                             final_estimator=LogisticRegression(),\n",
    "                                             cv=5,\n",
    "                                             stack_method = 'auto',\n",
    "                                             passthrough = False,\n",
    "                                            verbose = 10,  # Control how many messages are displayed\n",
    "                                            n_jobs = 1)    \n",
    "    print(f\"\\nstacking_classifier object created.\")\n",
    "    print(stacking_classifier)\n",
    "    \n",
    "    # Fit the stacking classifer\n",
    "    print(f\"\\nstacking_classifier has begun training. Be patient, this can take a long time...\")\n",
    "    stacking_classifier.fit(X_train, y_train)\n",
    "    \n",
    "    # Predict on X_test\n",
    "    y_pred = stacking_classifier.predict(X_test)\n",
    "    \n",
    "    # Create 'submission.csv' file\n",
    "    pred_df = pd.DataFrame(y_pred)\n",
    "    pred_df.columns = [\"sentiment\"]\n",
    "    pred_df.index.name = \"id\"\n",
    "    pred_df.to_csv(\"submission.csv\")\n",
    "    \n",
    "    print(\"\\nSuccessfully created the submission file!!!\")\n",
    "    \n",
    "    return pred_df, stacking_classifier"
   ]
  },
  {
   "cell_type": "code",
   "execution_count": 135,
   "id": "f6e22757",
   "metadata": {
    "execution": {
     "iopub.execute_input": "2023-08-22T19:52:19.516871Z",
     "iopub.status.busy": "2023-08-22T19:52:19.516437Z",
     "iopub.status.idle": "2023-08-22T19:52:19.546764Z",
     "shell.execute_reply": "2023-08-22T19:52:19.545574Z"
    },
    "papermill": {
     "duration": 0.152745,
     "end_time": "2023-08-22T19:52:19.549663",
     "exception": false,
     "start_time": "2023-08-22T19:52:19.396918",
     "status": "completed"
    },
    "tags": []
   },
   "outputs": [],
   "source": [
    "def submit_v5(classifiers= [\n",
    "                {'selected_model' : LogisticRegression(C=1, solver='saga', max_iter=100000),\n",
    "                 'param_grid' : None,\n",
    "                 'selected_features' : {'num': ['audienceScore']},\n",
    "                 'vocab' : None,\n",
    "                 'vocab_usage' : 'tfidf',\n",
    "                 'strip_accents' : 'unicode',\n",
    "                 'add_countvec' : False,\n",
    "                'vocab_audscore' : None}\n",
    "              ], \n",
    "            imputer_type='simple',\n",
    "              poly=True,\n",
    "              ensemble_type='voting_custom'\n",
    "            ):\n",
    "    \n",
    "    \"\"\"Takes a list of dictionaries each with same keys as mentioned in the default dictionary in function definition\"\"\"\n",
    "    \n",
    "    print(\"\\nRunning the submit_v5 function...\")\n",
    "    \n",
    "    print(f\"\\nData preprocessor initiated...\")\n",
    "    \n",
    "    imputer_type = imputer_type\n",
    "    print(f\"\\nImputer for missing numerical values: {imputer_type}\")\n",
    "    print(f\"Imputing missing values. (This could take a while if it is KNNImputer)\")\n",
    "    \n",
    "    merged, merged_test = preprocessor(imputer_type=imputer_type)\n",
    "    print(f\"\\nPreprocessing of train and test datasets complete.\")\n",
    "    \n",
    "    # Build vocabulary (if vocab is True)\n",
    "    ngram_range_vocab = (1,4)\n",
    "    ngram_range_vocab_list = [(1,1), (2,2), (3,3), (4,4)]\n",
    "    \n",
    "    vocab = None\n",
    "    vocab_audscore = None\n",
    "    for item in classifiers:\n",
    "        if item['vocab']:\n",
    "            vocab = True\n",
    "        if item['vocab_audscore']:\n",
    "            vocab_audscore = item['vocab_audscore']\n",
    "    \n",
    "    if vocab == True:\n",
    "        # Generate and store the entire vocabulary of training data  \n",
    "        print(f\"\\nGenerating vocabulary of entire training data...\")\n",
    "        train_ngrams = get_vocab(merged['reviewText'], ngram_range=ngram_range_vocab)\n",
    "        print(f\"Size of vocabulary of training data: {len(train_ngrams)}\")\n",
    "        # sorted(train_ngrams)\n",
    "\n",
    "        # Generate common vocabulary specific for this project data  \n",
    "        print(f\"\\nGenerating common vocabulary specific for this project data...\")\n",
    "        common_ngrams = get_common_vocab([merged, merged_test], ngram_range_list=ngram_range_vocab_list)\n",
    "        print(f\"Size of common vocabulary: {len(common_ngrams)}\")\n",
    "\n",
    "        # Get the speficic stop words that should be used in the final models  \n",
    "        print(f\"\\nGetting specific stop words for this project...\")\n",
    "        stop_words_specific = list(train_ngrams - common_ngrams)\n",
    "        print(f\"Size of 'stop_words_specific' generated: {len(stop_words_specific)}\")\n",
    "    else:\n",
    "        pass\n",
    "    \n",
    "    if vocab_audscore:\n",
    "        pure_common_pos, pure_common_neg = audienceScore_vocab([merged, merged_test], \n",
    "                                                               scores=(57, 73), \n",
    "                                                               ngram_range_list=ngram_range_vocab_list)\n",
    "        pure_common = pure_common_pos | pure_common_neg\n",
    "        print(f\"\\nSize of 'pure_common' vocabulary genrated: {len(pure_common)}\")\n",
    "    \n",
    "    \n",
    "    # Create a list to store estimators  \n",
    "    estimators = []     # List of tuples of the form ('classifier_name', 'classifer_instance')\n",
    "    \n",
    "#     # Build a dataframe of predictions  \n",
    "#     predictions_df = pd.DataFrame()\n",
    "    \n",
    "    # Build a separate pipeline and fit it on selected features (and param_grid) for each item in classifiers list\n",
    "    for n, item in enumerate(classifiers, start=1):\n",
    "        selected_model = item['selected_model']\n",
    "        selected_features = item['selected_features']\n",
    "        param_grid = item['param_grid']\n",
    "        vocab = item['vocab']\n",
    "        vocab_usage = item['vocab_usage']\n",
    "        strip_accents = item['strip_accents']\n",
    "        add_countvec = item['add_countvec']\n",
    "    \n",
    "    \n",
    "        # Fine tune selected_features\n",
    "        if add_countvec:\n",
    "            if 'txt' in selected_features.keys():\n",
    "                if \"reviewText_2\" not in selected_features['txt']:\n",
    "                    selected_features['txt'].append('reviewText_2')\n",
    "        if vocab:\n",
    "            if 'txt' in selected_features.keys():\n",
    "                if \"reviewText_3\" not in selected_features['txt']:\n",
    "                    selected_features['txt'].append('reviewText_3')\n",
    "        else:\n",
    "            print(f\"No vocabulary provided/used for this model.\")\n",
    "            \n",
    "        print(f\"\\nSelected features: {selected_features}\")\n",
    "        \n",
    "        if type(vocab) in [type([1, 2]), type({1, 2})]:\n",
    "            vocab = vocab\n",
    "            print(f\"Size of 'vocab' provided: {len(vocab)}\")\n",
    "        elif vocab == True:\n",
    "            vocab = common_ngrams    # Choose vocabulary here\n",
    "            print(f\"Size of 'vocab' generated by submit_v5: {len(vocab)}\")\n",
    "\n",
    "            \n",
    "        if vocab_audscore:\n",
    "            if 'txt' in selected_features.keys():\n",
    "                if \"reviewText_4\" not in selected_features['txt']:\n",
    "                    selected_features['txt'].append('reviewText_4')\n",
    "        else:\n",
    "            print(f\"No vocabulary based on audienceScore provided/used for this model.\")\n",
    "        if vocab_audscore:\n",
    "            vocab_audscore = pure_common\n",
    "            print(f\"Size of 'vocab_audscore' generated by submit_v5: {len(vocab_audscore)}\")\n",
    "            \n",
    "            \n",
    "        print(f\"\\nSelected features: {selected_features}\")\n",
    "\n",
    "        # Modify X_train for the given 'item' by creating a custom 'features' list\n",
    "        features = []\n",
    "        for item in selected_features.values():\n",
    "            features.extend(item)\n",
    "            \n",
    "        # Add new columns as needed  \n",
    "        if add_countvec:\n",
    "            merged['reviewText_2'] = merged['reviewText']\n",
    "        if vocab:\n",
    "            merged['reviewText_3'] = merged['reviewText']\n",
    "        if vocab_audscore:\n",
    "            merged['reviewText_4'] = merged['reviewText']\n",
    "        \n",
    "        # Create X_train, y_train\n",
    "        X_train = merged.drop(labels=\"sentiment\", axis=1)\n",
    "        y_train = merged[\"sentiment\"]\n",
    "        \n",
    "        X_train = merged[features].copy()\n",
    "        \n",
    "        # Create X_test\n",
    "        # Add new columns as needed \n",
    "        if add_countvec:\n",
    "            merged_test['reviewText_2'] = merged_test['reviewText']\n",
    "        if vocab:\n",
    "            merged_test['reviewText_3'] = merged_test['reviewText']\n",
    "        if vocab_audscore:\n",
    "            merged_test['reviewText_4'] = merged_test['reviewText']\n",
    "        \n",
    "        X_test = merged_test[features].copy()\n",
    "\n",
    "\n",
    "        # Build Pipeline\n",
    "        pipe = build_pipeline(selected_model, selected_features, param_grid=param_grid, \n",
    "                              vocab=vocab, vocab_usage='tfidf', \n",
    "                              strip_accents=strip_accents, add_countvec=add_countvec,\n",
    "                             poly=poly, vocab_audscore=vocab_audscore)\n",
    "        print(pipe)\n",
    "        \n",
    "        estimators.append((f\"classifier_{n}\", pipe))\n",
    "        print(f\"\\nclassifier_{n} successfully added to 'estimators' list\")\n",
    "    \n",
    "    # Choose the appropriate ensemble method for the 'ensemble_type' provided\n",
    "    if ensemble_type == 'voting_custom':\n",
    "        print(f\"\\nCalling function: 'voting_clf_custom'\")\n",
    "        pred_df_final, fitted_estimators = voting_clf_custom(estimators, merged, merged_test)\n",
    "        return pred_df_final, fitted_estimators\n",
    "    elif ensemble_type == 'stacking':\n",
    "        print(f\"\\nCalling function: 'stacking_clf'\")\n",
    "        pred_df, stacking_classifier = stacking_clf(estimators, merged, merged_test)\n",
    "        return pred_df, stacking_classifier"
   ]
  },
  {
   "cell_type": "markdown",
   "id": "6992d2b5",
   "metadata": {
    "papermill": {
     "duration": 0.117667,
     "end_time": "2023-08-22T19:52:19.786072",
     "exception": false,
     "start_time": "2023-08-22T19:52:19.668405",
     "status": "completed"
    },
    "tags": []
   },
   "source": [
    "# Use 'submit_v5' function  "
   ]
  },
  {
   "cell_type": "code",
   "execution_count": 136,
   "id": "8d330efe",
   "metadata": {
    "execution": {
     "iopub.execute_input": "2023-08-22T19:52:20.020222Z",
     "iopub.status.busy": "2023-08-22T19:52:20.019745Z",
     "iopub.status.idle": "2023-08-22T19:52:20.024539Z",
     "shell.execute_reply": "2023-08-22T19:52:20.023690Z"
    },
    "papermill": {
     "duration": 0.124675,
     "end_time": "2023-08-22T19:52:20.026894",
     "exception": false,
     "start_time": "2023-08-22T19:52:19.902219",
     "status": "completed"
    },
    "tags": []
   },
   "outputs": [],
   "source": [
    "# Try submit_v5 with default settings\n",
    "# submit_v5()"
   ]
  },
  {
   "cell_type": "code",
   "execution_count": 137,
   "id": "99de3df3",
   "metadata": {
    "execution": {
     "iopub.execute_input": "2023-08-22T19:52:20.262120Z",
     "iopub.status.busy": "2023-08-22T19:52:20.261336Z",
     "iopub.status.idle": "2023-08-22T19:53:38.084446Z",
     "shell.execute_reply": "2023-08-22T19:53:38.082927Z"
    },
    "papermill": {
     "duration": 78.059899,
     "end_time": "2023-08-22T19:53:38.202388",
     "exception": false,
     "start_time": "2023-08-22T19:52:20.142489",
     "status": "completed"
    },
    "tags": []
   },
   "outputs": [
    {
     "name": "stdout",
     "output_type": "stream",
     "text": [
      "\n",
      "Running the submit_v5 function...\n",
      "\n",
      "Data preprocessor initiated...\n",
      "\n",
      "Imputer for missing numerical values: simple\n",
      "Imputing missing values. (This could take a while if it is KNNImputer)\n",
      "SimpleImputer(strategy='median')\n",
      "\n",
      "Check 1 (preprocessor) complete.\n",
      "Shape of X_train: (162758, 30)\n",
      "Features in X_train: Index(['movieid', 'reviewerName', 'isFrequentReviewer', 'reviewText',\n",
      "       'sentiment', 'title', 'audienceScore', 'rating', 'ratingContents',\n",
      "       'releaseDateTheaters', 'releaseDateStreaming', 'runtimeMinutes',\n",
      "       'genre', 'originalLanguage', 'director', 'boxOffice', 'distributor',\n",
      "       'soundType', 'reviewYN', 'reviewWC', 'genreSorted', 'rcSorted',\n",
      "       'releaseDate', 'releaseYear', 'releaseMonth', 'releaseDiff',\n",
      "       'audScoreBins', 'runtimeBins', 'boxOfficeBins', 'releaseDiffBins'],\n",
      "      dtype='object')\n",
      "\n",
      "Check 2 (preprocessor) complete.\n",
      "Shape of X_test: (55315, 29)\n",
      "Features in X_test: Index(['movieid', 'reviewerName', 'isFrequentReviewer', 'reviewText', 'title',\n",
      "       'audienceScore', 'rating', 'ratingContents', 'releaseDateTheaters',\n",
      "       'releaseDateStreaming', 'runtimeMinutes', 'genre', 'originalLanguage',\n",
      "       'director', 'boxOffice', 'distributor', 'soundType', 'reviewYN',\n",
      "       'reviewWC', 'genreSorted', 'rcSorted', 'releaseDate', 'releaseYear',\n",
      "       'releaseMonth', 'releaseDiff', 'audScoreBins', 'runtimeBins',\n",
      "       'boxOfficeBins', 'releaseDiffBins'],\n",
      "      dtype='object')\n",
      "\n",
      "Preprocessing of train and test datasets complete.\n",
      "No vocabulary provided/used for this model.\n",
      "\n",
      "Selected features: {'num': ['audienceScore']}\n",
      "No vocabulary based on audienceScore provided/used for this model.\n",
      "\n",
      "Selected features: {'num': ['audienceScore']}\n",
      "\n",
      "Pipeline built successfully.\n",
      "\n",
      "Full GridSearchCV pipeline built successfully.\n",
      "GridSearchCV(cv=10,\n",
      "             estimator=Pipeline(steps=[('ct',\n",
      "                                        ColumnTransformer(transformers=[('num',\n",
      "                                                                         Pipeline(steps=[('robscaler',\n",
      "                                                                                          RobustScaler()),\n",
      "                                                                                         ('stdscaler',\n",
      "                                                                                          StandardScaler())]),\n",
      "                                                                         ['audienceScore'])])),\n",
      "                                       ('model',\n",
      "                                        SGDClassifier(loss='modified_huber',\n",
      "                                                      max_iter=1000000,\n",
      "                                                      n_iter_no_change=100,\n",
      "                                                      n_jobs=-1,\n",
      "                                                      tol=0.0001))]),\n",
      "             n_jobs=-1, param_grid={'model__alpha': [0.0001]},\n",
      "             scoring='f1_micro')\n",
      "\n",
      "classifier_1 successfully added to 'estimators' list\n",
      "\n",
      "Calling function: 'voting_clf_custom'\n",
      "\n",
      "Running the voting_clf_custom function...\n",
      "\n",
      "Number of estimator pipelines provided: 1\n",
      "\n",
      "X_train and y_train created.\n",
      "Shape of X_train: (162758, 29)\n",
      "Columns in X_train: Index(['movieid', 'reviewerName', 'isFrequentReviewer', 'reviewText', 'title',\n",
      "       'audienceScore', 'rating', 'ratingContents', 'releaseDateTheaters',\n",
      "       'releaseDateStreaming', 'runtimeMinutes', 'genre', 'originalLanguage',\n",
      "       'director', 'boxOffice', 'distributor', 'soundType', 'reviewYN',\n",
      "       'reviewWC', 'genreSorted', 'rcSorted', 'releaseDate', 'releaseYear',\n",
      "       'releaseMonth', 'releaseDiff', 'audScoreBins', 'runtimeBins',\n",
      "       'boxOfficeBins', 'releaseDiffBins'],\n",
      "      dtype='object')\n",
      "\n",
      "Shape of y_train: (162758,)\n",
      "Inspect y_train: 0    POSITIVE\n",
      "1    NEGATIVE\n",
      "2    POSITIVE\n",
      "3    POSITIVE\n",
      "4    POSITIVE\n",
      "Name: sentiment, dtype: object\n",
      "\n",
      "X_test created.\n",
      "Shape of X_test: (55315, 29)\n",
      "Columns in X_test: Index(['movieid', 'reviewerName', 'isFrequentReviewer', 'reviewText', 'title',\n",
      "       'audienceScore', 'rating', 'ratingContents', 'releaseDateTheaters',\n",
      "       'releaseDateStreaming', 'runtimeMinutes', 'genre', 'originalLanguage',\n",
      "       'director', 'boxOffice', 'distributor', 'soundType', 'reviewYN',\n",
      "       'reviewWC', 'genreSorted', 'rcSorted', 'releaseDate', 'releaseYear',\n",
      "       'releaseMonth', 'releaseDiff', 'audScoreBins', 'runtimeBins',\n",
      "       'boxOfficeBins', 'releaseDiffBins'],\n",
      "      dtype='object')\n",
      "\n",
      "Training started with full pipeline for classifier #1/1...\n",
      "\n",
      "Check #1.1 complete.\n",
      "Details of the best model using classifier #1 (GridSearchCV) on X_train: \n",
      "Best Params: {'model__alpha': 0.0001}\n",
      "Best Score: 0.6904545427776387\n",
      "\n",
      "classifier_1 successfully added to 'fitted_estimators' list\n",
      "\n",
      "Confusion matrix for predictions on training data: \n",
      "[[16444 37553]\n",
      " [12642 96119]]\n",
      "\n",
      "Classification report for predictions on training data: \n",
      "              precision    recall  f1-score   support\n",
      "\n",
      "    NEGATIVE       0.57      0.30      0.40     53997\n",
      "    POSITIVE       0.72      0.88      0.79    108761\n",
      "\n",
      "    accuracy                           0.69    162758\n",
      "   macro avg       0.64      0.59      0.59    162758\n",
      "weighted avg       0.67      0.69      0.66    162758\n",
      "\n",
      "F1-score on training data: 0.6915973408373167\n",
      "(55315, 1)\n",
      "     pred_1\n",
      "0  POSITIVE\n",
      "1  POSITIVE\n",
      "2  POSITIVE\n",
      "3  POSITIVE\n",
      "4  POSITIVE\n",
      "5  NEGATIVE\n",
      "6  POSITIVE\n",
      "7  POSITIVE\n",
      "8  POSITIVE\n",
      "9  POSITIVE\n",
      "\n",
      "Check #1.2 complete.\n",
      "Details of the best model using full pipeline (GridSearchCV) on X_train: \n",
      "Best Params: {'model__alpha': 0.0001}\n",
      "Best Score: 0.6904545427776387\n",
      "Refit Time: 2.839634418487549\n",
      "\n",
      "Taking votes from all the classifiers/estimators...\n",
      "\n",
      "Successfully created the submission file!!!\n"
     ]
    },
    {
     "data": {
      "text/plain": [
       "(55315,)"
      ]
     },
     "execution_count": 137,
     "metadata": {},
     "output_type": "execute_result"
    }
   ],
   "source": [
    "# Testing ONE classfier using submit_v5 function  \n",
    "\n",
    "# Feature dictionaries\n",
    "sfs = {'cat': ['isFrequentReviewer', 'rating'],\n",
    "       'num': [\"audienceScore\", \"runtimeMinutes\", \"boxOffice\", 'releaseDiff']}\n",
    "\n",
    "sf_best = {'cat': ['isFrequentReviewer'],\n",
    "            'num': [\"audienceScore\", \"boxOffice\", 'releaseDiff'],\n",
    "            'txt': ['reviewText', 'reviewerName', 'movieid', 'genre', 'director', \n",
    "                         'ratingContents', 'distributor']}\n",
    "\n",
    "alt_text = {'txt': ['reviewerName', 'movieid', 'genre', 'director', \n",
    "                         'ratingContents', 'distributor']}\n",
    "\n",
    "v88_dict = {'cat': ['isFrequentReviewer', 'audScoreBins', 'boxOfficeBins'],\n",
    "            'num': ['releaseDiff'],\n",
    "            'txt': ['reviewText', 'reviewerName', 'movieid', 'genre', 'director', \n",
    "                         'ratingContents', 'distributor']}\n",
    "\n",
    "# SGDClassifier hyperparameters  \n",
    "# \"model__loss\": ['hinge', 'log_loss', 'modified_huber', \n",
    "#                                                   'squared_hinge', 'perceptron', \n",
    "#                                                   'squared_error', 'huber', \n",
    "#                                                   'epsilon_insensitive', 'squared_epsilon_insensitive']\n",
    "\n",
    "# 'param_grid' : {\"model__alpha\": [0.0001], \n",
    "#                   'model__tol': [0.0001],\n",
    "#                   \"model__penalty\": [\"l2\"],\n",
    "#                   \"model__n_iter_no_change\": [100],\n",
    "#                  }\n",
    "\n",
    "# Best models \n",
    "# For sf_best features\n",
    "#                 {'selected_model' : SGDClassifier(loss='hinge', \n",
    "#                                      max_iter=1000000,\n",
    "#                                      alpha = 0.0001,\n",
    "#                                      tol = 0.0001,\n",
    "#                                      penalty = \"l2\",\n",
    "#                                      n_iter_no_change = 100,\n",
    "#                                      n_jobs = -1), \n",
    "#                   'selected_features' : sf_best, \n",
    "#                   'param_grid' : {\"model__alpha\": [ 0.0001]},\n",
    "#                   'vocab' : True,\n",
    "#                   'vocab_usage' : 'tfidf',\n",
    "#                   'strip_accents' : 'unicode', \n",
    "#                   'add_countvec' : True},\n",
    "\n",
    "# For sfs features\n",
    "#                 {'selected_model' : RandomForestClassifier(n_jobs = -1), \n",
    "#                   'selected_features' : sfs, \n",
    "#                   'param_grid': {'model__n_estimators': [100]},\n",
    "#                   'vocab' : None,\n",
    "#                   'vocab_usage' : 'tfidf',\n",
    "#                   'strip_accents' : 'unicode', \n",
    "#                   'add_countvec' : False}\n",
    "\n",
    "# Best SGD classifer (with params)  \n",
    "sgdc_modhuber = SGDClassifier(loss='modified_huber', \n",
    "                     max_iter=1000000,\n",
    "                     alpha = 0.0001,\n",
    "                     tol = 0.0001,\n",
    "                     penalty = \"l2\",\n",
    "                     n_iter_no_change = 100,\n",
    "                     n_jobs = -1)\n",
    "\n",
    "sgdc_logloss = SGDClassifier(loss='log_loss', \n",
    "                     max_iter=1000000,\n",
    "                     alpha = 0.0001,\n",
    "                     tol = 0.0001,\n",
    "                     penalty = \"l2\",\n",
    "                     n_iter_no_change = 100,\n",
    "                     n_jobs = -1)\n",
    "\n",
    "# Classifiers\n",
    "classifiers= [   \n",
    "                {'selected_model' : sgdc_modhuber, \n",
    "                  'selected_features' : {'num': ['audienceScore']}, \n",
    "                  'param_grid' : {\"model__alpha\": [0.0001]},\n",
    "                  'vocab' : None,\n",
    "                  'vocab_usage' : 'tfidf',\n",
    "                  'strip_accents' : 'unicode', \n",
    "                  'add_countvec' : False,\n",
    "                    'vocab_audscore' : False},\n",
    "    \n",
    "#                 {'selected_model' : sgdc_logloss, \n",
    "#                   'selected_features' : v88_dict, \n",
    "#                   'param_grid' : {\"model__alpha\": [0.0001]},\n",
    "#                   'vocab' : True,\n",
    "#                   'vocab_usage' : 'tfidf',\n",
    "#                   'strip_accents' : 'unicode', \n",
    "#                   'add_countvec' : True,\n",
    "#                     'vocab_audscore' : True}\n",
    "                \n",
    "#                 {'selected_model' : RandomForestClassifier(n_jobs = -1), \n",
    "#                   'selected_features' : sfs, \n",
    "#                   'param_grid': {'model__n_estimators': [100]},\n",
    "#                   'vocab' : None,\n",
    "#                   'vocab_usage' : 'tfidf',\n",
    "#                   'strip_accents' : 'unicode', \n",
    "#                   'add_countvec' : False,\n",
    "#                     'vocab_audscore' : False}\n",
    "            ]\n",
    "\n",
    "# classifiers= [\n",
    "#                 {'selected_model' : LogisticRegression(C=1, solver='saga', max_iter=100000), \n",
    "#                   'selected_features' : {'txt': [\"reviewText\"]}, \n",
    "#                   'param_grid' : {\"model__C\": [1], \n",
    "#                                   'model__solver': ['saga']},\n",
    "#                   'vocab' : None,\n",
    "#                   'vocab_usage' : 'tfidf',\n",
    "#                   'strip_accents' : 'unicode', \n",
    "#                   'add_countvec' : False},\n",
    "#             ]\n",
    "\n",
    "pred_df, estimators = submit_v5(classifiers=classifiers, imputer_type='simple', poly=False, ensemble_type='voting_custom')\n",
    "\n",
    "pred_df.shape"
   ]
  },
  {
   "cell_type": "code",
   "execution_count": 138,
   "id": "b275b124",
   "metadata": {
    "execution": {
     "iopub.execute_input": "2023-08-22T19:53:38.462013Z",
     "iopub.status.busy": "2023-08-22T19:53:38.461532Z",
     "iopub.status.idle": "2023-08-22T19:53:38.468294Z",
     "shell.execute_reply": "2023-08-22T19:53:38.467216Z"
    },
    "papermill": {
     "duration": 0.130888,
     "end_time": "2023-08-22T19:53:38.471312",
     "exception": false,
     "start_time": "2023-08-22T19:53:38.340424",
     "status": "completed"
    },
    "tags": []
   },
   "outputs": [
    {
     "name": "stdout",
     "output_type": "stream",
     "text": [
      "(55315,)\n",
      "id\n",
      "0    POSITIVE\n",
      "1    POSITIVE\n",
      "2    POSITIVE\n",
      "3    POSITIVE\n",
      "4    POSITIVE\n",
      "Name: 0, dtype: object\n"
     ]
    }
   ],
   "source": [
    "print(pred_df.shape)\n",
    "print(pred_df.head())"
   ]
  },
  {
   "cell_type": "code",
   "execution_count": 139,
   "id": "79d184af",
   "metadata": {
    "execution": {
     "iopub.execute_input": "2023-08-22T19:53:38.709919Z",
     "iopub.status.busy": "2023-08-22T19:53:38.708739Z",
     "iopub.status.idle": "2023-08-22T19:53:38.713500Z",
     "shell.execute_reply": "2023-08-22T19:53:38.712697Z"
    },
    "papermill": {
     "duration": 0.12664,
     "end_time": "2023-08-22T19:53:38.715554",
     "exception": false,
     "start_time": "2023-08-22T19:53:38.588914",
     "status": "completed"
    },
    "tags": []
   },
   "outputs": [],
   "source": [
    "# estimators"
   ]
  },
  {
   "cell_type": "code",
   "execution_count": 140,
   "id": "afeb7b12",
   "metadata": {
    "execution": {
     "iopub.execute_input": "2023-08-22T19:53:39.050111Z",
     "iopub.status.busy": "2023-08-22T19:53:39.048749Z",
     "iopub.status.idle": "2023-08-22T19:53:39.055562Z",
     "shell.execute_reply": "2023-08-22T19:53:39.054710Z"
    },
    "papermill": {
     "duration": 0.224076,
     "end_time": "2023-08-22T19:53:39.057943",
     "exception": false,
     "start_time": "2023-08-22T19:53:38.833867",
     "status": "completed"
    },
    "tags": []
   },
   "outputs": [],
   "source": [
    "# print(f\"Number of estimators: {len(estimators)}\\n\")\n",
    "# for est in estimators:\n",
    "#     print(f\"Estimator: {est[0]}\")\n",
    "# #     print(est[1].best_estimator_)\n",
    "#     print(est[1].best_params_)\n",
    "#     print(est[1].best_score_)\n",
    "#     print(est[1].refit_time_)\n",
    "#     print()"
   ]
  },
  {
   "cell_type": "code",
   "execution_count": 141,
   "id": "77452d66",
   "metadata": {
    "execution": {
     "iopub.execute_input": "2023-08-22T19:53:39.299428Z",
     "iopub.status.busy": "2023-08-22T19:53:39.298810Z",
     "iopub.status.idle": "2023-08-22T19:53:39.304616Z",
     "shell.execute_reply": "2023-08-22T19:53:39.303868Z"
    },
    "papermill": {
     "duration": 0.129256,
     "end_time": "2023-08-22T19:53:39.306865",
     "exception": false,
     "start_time": "2023-08-22T19:53:39.177609",
     "status": "completed"
    },
    "tags": []
   },
   "outputs": [],
   "source": [
    "# Testing full capabilites of submit_v5  \n",
    "\n",
    "# # Feature dictionaries\n",
    "# sf1 = {'cat': ['isFrequentReviewer', 'rating'],\n",
    "#        'num': [\"audienceScore\", \"runtimeMinutes\", \"boxOffice\"]}\n",
    "\n",
    "# sf2 = {'cat': ['isFrequentReviewer', 'rating'],\n",
    "#        'num': [\"audienceScore\", \"runtimeMinutes\", \"boxOffice\"]}\n",
    "\n",
    "# sf3 = {'cat': ['isFrequentReviewer'],\n",
    "#         'num': ['releaseDiff', 'audienceScore', 'boxOffice'],\n",
    "#         'txt': ['reviewText', 'reviewerName', 'movieid', 'genre', 'director', \n",
    "#                          'ratingContents', 'distributor']}\n",
    "\n",
    "# # Individual classifiers\n",
    "# clf1 =  {'selected_model' : AdaBoostClassifier(), \n",
    "#           'selected_features' : sf1, \n",
    "#           'param_grid' : {\"model__n_estimators\": [50]},\n",
    "#           'vocab' : None,\n",
    "#           'vocab_usage' : 'tfidf',\n",
    "#           'strip_accents' : 'unicode', \n",
    "#           'add_countvec' : False}\n",
    "\n",
    "# clf2 =  {'selected_model' : RandomForestClassifier(), \n",
    "#           'selected_features' : sf2,\n",
    "#           'param_grid' : {\"model__n_estimators\": [50], \n",
    "#                           'model__criterion': ['gini']},\n",
    "#           'vocab' : None,\n",
    "#           'vocab_usage' : 'tfidf',\n",
    "#           'strip_accents' : 'unicode', \n",
    "#           'add_countvec' : False}\n",
    "\n",
    "# clf3 =  {'selected_model' : LogisticRegression(C=1, solver='saga', max_iter=100000), \n",
    "#           'selected_features' : sf3, \n",
    "#           'param_grid' : {'model__C' : [1],\n",
    "#                             'model__solver': ['saga'],\n",
    "#                             \"model__fit_intercept\" : [True],\n",
    "#                             \"model__dual\" : [False]},\n",
    "#           'vocab' : None,\n",
    "#           'vocab_usage' : 'tfidf',\n",
    "#           'strip_accents' : 'unicode', \n",
    "#           'add_countvec' : True}\n",
    "\n",
    "\n",
    "# # List of classifiers for voting\n",
    "# classifiers= [clf1, clf2, clf3]\n",
    "\n",
    "# # Final predictions \n",
    "# pred_df = submit_v5(classifiers=classifiers)"
   ]
  },
  {
   "cell_type": "code",
   "execution_count": 142,
   "id": "649b07e7",
   "metadata": {
    "execution": {
     "iopub.execute_input": "2023-08-22T19:53:39.548714Z",
     "iopub.status.busy": "2023-08-22T19:53:39.547963Z",
     "iopub.status.idle": "2023-08-22T19:53:39.556613Z",
     "shell.execute_reply": "2023-08-22T19:53:39.555837Z"
    },
    "papermill": {
     "duration": 0.132062,
     "end_time": "2023-08-22T19:53:39.558703",
     "exception": false,
     "start_time": "2023-08-22T19:53:39.426641",
     "status": "completed"
    },
    "tags": []
   },
   "outputs": [
    {
     "name": "stdout",
     "output_type": "stream",
     "text": [
      "(55315,)\n"
     ]
    },
    {
     "data": {
      "text/plain": [
       "id\n",
       "0        POSITIVE\n",
       "1        POSITIVE\n",
       "2        POSITIVE\n",
       "3        POSITIVE\n",
       "4        POSITIVE\n",
       "           ...   \n",
       "55310    NEGATIVE\n",
       "55311    POSITIVE\n",
       "55312    POSITIVE\n",
       "55313    POSITIVE\n",
       "55314    POSITIVE\n",
       "Name: 0, Length: 55315, dtype: object"
      ]
     },
     "execution_count": 142,
     "metadata": {},
     "output_type": "execute_result"
    }
   ],
   "source": [
    "print(pred_df.shape)\n",
    "pred_df"
   ]
  },
  {
   "cell_type": "code",
   "execution_count": 143,
   "id": "77f17d2a",
   "metadata": {
    "execution": {
     "iopub.execute_input": "2023-08-22T19:53:39.800422Z",
     "iopub.status.busy": "2023-08-22T19:53:39.799636Z",
     "iopub.status.idle": "2023-08-22T19:53:39.803531Z",
     "shell.execute_reply": "2023-08-22T19:53:39.802826Z"
    },
    "papermill": {
     "duration": 0.127228,
     "end_time": "2023-08-22T19:53:39.805739",
     "exception": false,
     "start_time": "2023-08-22T19:53:39.678511",
     "status": "completed"
    },
    "tags": []
   },
   "outputs": [],
   "source": [
    "# pred_df_mode = pred_df.mode(axis='columns')\n",
    "# print(pred_df_mode.shape)\n",
    "# pred_df_mode"
   ]
  },
  {
   "cell_type": "code",
   "execution_count": 144,
   "id": "2d94cc66",
   "metadata": {
    "execution": {
     "iopub.execute_input": "2023-08-22T19:53:40.049196Z",
     "iopub.status.busy": "2023-08-22T19:53:40.048444Z",
     "iopub.status.idle": "2023-08-22T19:53:40.067812Z",
     "shell.execute_reply": "2023-08-22T19:53:40.066728Z"
    },
    "papermill": {
     "duration": 0.145289,
     "end_time": "2023-08-22T19:53:40.070277",
     "exception": false,
     "start_time": "2023-08-22T19:53:39.924988",
     "status": "completed"
    },
    "tags": []
   },
   "outputs": [
    {
     "data": {
      "text/plain": [
       "POSITIVE    45358\n",
       "NEGATIVE     9957\n",
       "Name: 0, dtype: int64"
      ]
     },
     "execution_count": 144,
     "metadata": {},
     "output_type": "execute_result"
    }
   ],
   "source": [
    "pred_df.value_counts()"
   ]
  },
  {
   "cell_type": "markdown",
   "id": "55338512",
   "metadata": {
    "papermill": {
     "duration": 0.121294,
     "end_time": "2023-08-22T19:53:40.310792",
     "exception": false,
     "start_time": "2023-08-22T19:53:40.189498",
     "status": "completed"
    },
    "tags": []
   },
   "source": [
    "# NOTE: Move submit_v4 submissions below the suubmit_v4 function  "
   ]
  },
  {
   "cell_type": "code",
   "execution_count": 145,
   "id": "4aa5c838",
   "metadata": {
    "execution": {
     "iopub.execute_input": "2023-08-22T19:53:40.555019Z",
     "iopub.status.busy": "2023-08-22T19:53:40.554534Z",
     "iopub.status.idle": "2023-08-22T19:53:40.559122Z",
     "shell.execute_reply": "2023-08-22T19:53:40.558262Z"
    },
    "papermill": {
     "duration": 0.128456,
     "end_time": "2023-08-22T19:53:40.561196",
     "exception": false,
     "start_time": "2023-08-22T19:53:40.432740",
     "status": "completed"
    },
    "tags": []
   },
   "outputs": [],
   "source": [
    "# Try 'submit_v4' function with default params (LogisticRegression model)  \n",
    "\n",
    "# submit_v4()\n",
    "\n",
    "#Default params to this function gave a score of 0.8259 - improvement over previous score of 0.82563!"
   ]
  },
  {
   "cell_type": "code",
   "execution_count": 146,
   "id": "a4b5bda5",
   "metadata": {
    "execution": {
     "iopub.execute_input": "2023-08-22T19:53:40.803771Z",
     "iopub.status.busy": "2023-08-22T19:53:40.803032Z",
     "iopub.status.idle": "2023-08-22T19:53:40.807015Z",
     "shell.execute_reply": "2023-08-22T19:53:40.806275Z"
    },
    "papermill": {
     "duration": 0.127984,
     "end_time": "2023-08-22T19:53:40.809172",
     "exception": false,
     "start_time": "2023-08-22T19:53:40.681188",
     "status": "completed"
    },
    "tags": []
   },
   "outputs": [],
   "source": [
    "# Try out GridSearchCV on \"submit_v4\" function with param_grid  \n",
    "# param_grid = {\n",
    "#     \"model__C\": [0.1, 1, 5, 10]\n",
    "# }\n",
    "\n",
    "# submit_v4(selected_features={'txt': ['genre']}, param_grid=param_grid)"
   ]
  },
  {
   "cell_type": "markdown",
   "id": "c3cc3bb0",
   "metadata": {
    "papermill": {
     "duration": 0.120881,
     "end_time": "2023-08-22T19:53:41.050205",
     "exception": false,
     "start_time": "2023-08-22T19:53:40.929324",
     "status": "completed"
    },
    "tags": []
   },
   "source": [
    "### Try LinearSVC with GridSearchCV  "
   ]
  },
  {
   "cell_type": "code",
   "execution_count": 147,
   "id": "b9f3179e",
   "metadata": {
    "execution": {
     "iopub.execute_input": "2023-08-22T19:53:41.292604Z",
     "iopub.status.busy": "2023-08-22T19:53:41.291908Z",
     "iopub.status.idle": "2023-08-22T19:53:41.296088Z",
     "shell.execute_reply": "2023-08-22T19:53:41.295297Z"
    },
    "papermill": {
     "duration": 0.128873,
     "end_time": "2023-08-22T19:53:41.298196",
     "exception": false,
     "start_time": "2023-08-22T19:53:41.169323",
     "status": "completed"
    },
    "tags": []
   },
   "outputs": [],
   "source": [
    "# all_dict = {'cat': [\"isFrequentReviewer\", \"rating\", \"originalLanguage\"],\n",
    "#              'num': [\"audienceScore\", \"runtimeMinutes\", \"boxOffice\"],\n",
    "#              'txt': ['reviewText', 'reviewerName', 'movieid', 'genre', 'director']}\n",
    "\n",
    "# param_grid_svc = {\n",
    "#     \"model__C\": [0.1, 1, 10, 100]\n",
    "# }\n",
    "# param_grid_svc"
   ]
  },
  {
   "cell_type": "code",
   "execution_count": 148,
   "id": "6208f4aa",
   "metadata": {
    "execution": {
     "iopub.execute_input": "2023-08-22T19:53:41.542446Z",
     "iopub.status.busy": "2023-08-22T19:53:41.541769Z",
     "iopub.status.idle": "2023-08-22T19:53:41.545796Z",
     "shell.execute_reply": "2023-08-22T19:53:41.545020Z"
    },
    "papermill": {
     "duration": 0.129549,
     "end_time": "2023-08-22T19:53:41.548570",
     "exception": false,
     "start_time": "2023-08-22T19:53:41.419021",
     "status": "completed"
    },
    "tags": []
   },
   "outputs": [],
   "source": [
    "# LinearSCV on single feature  \n",
    "\n",
    "# submit_v4(selected_model=LinearSVC(max_iter=100000, random_state=42), selected_features={'num': [\"audienceScore\"]}, param_grid=param_grid_svc)\n",
    "\n",
    "# Comment: LinearSVC even on single column feature set takes too long to converge."
   ]
  },
  {
   "cell_type": "code",
   "execution_count": 149,
   "id": "52245526",
   "metadata": {
    "execution": {
     "iopub.execute_input": "2023-08-22T19:53:41.787343Z",
     "iopub.status.busy": "2023-08-22T19:53:41.786359Z",
     "iopub.status.idle": "2023-08-22T19:53:41.790572Z",
     "shell.execute_reply": "2023-08-22T19:53:41.789858Z"
    },
    "papermill": {
     "duration": 0.128117,
     "end_time": "2023-08-22T19:53:41.793032",
     "exception": false,
     "start_time": "2023-08-22T19:53:41.664915",
     "status": "completed"
    },
    "tags": []
   },
   "outputs": [],
   "source": [
    "# LinearSCV on all available features\n",
    "\n",
    "# submit_v4(selected_model=LinearSVC(max_iter=100000, random_state=42), selected_features=all_dict, param_grid=param_grid_svc)\n",
    "\n",
    "# (Update): This took 66 mins to run and gave a public score of 0.84295 (lesser than logreg gridsearchcv wwhich gave 0.84441). Best C was 1.0.\n"
   ]
  },
  {
   "cell_type": "markdown",
   "id": "8373a4b3",
   "metadata": {
    "papermill": {
     "duration": 0.121895,
     "end_time": "2023-08-22T19:53:42.034041",
     "exception": false,
     "start_time": "2023-08-22T19:53:41.912146",
     "status": "completed"
    },
    "tags": []
   },
   "source": [
    "### Boosting techniques  "
   ]
  },
  {
   "cell_type": "code",
   "execution_count": 150,
   "id": "61dd2a96",
   "metadata": {
    "execution": {
     "iopub.execute_input": "2023-08-22T19:53:42.278227Z",
     "iopub.status.busy": "2023-08-22T19:53:42.277463Z",
     "iopub.status.idle": "2023-08-22T19:53:42.281428Z",
     "shell.execute_reply": "2023-08-22T19:53:42.280649Z"
    },
    "papermill": {
     "duration": 0.127426,
     "end_time": "2023-08-22T19:53:42.283538",
     "exception": false,
     "start_time": "2023-08-22T19:53:42.156112",
     "status": "completed"
    },
    "tags": []
   },
   "outputs": [],
   "source": [
    "# adc = AdaBoostClassifier(estimator=LogisticRegression(C=5, solver=\"saga\", max_iter=100000), n_estimators=50)\n",
    "# adc"
   ]
  },
  {
   "cell_type": "code",
   "execution_count": 151,
   "id": "8568a82d",
   "metadata": {
    "execution": {
     "iopub.execute_input": "2023-08-22T19:53:42.527651Z",
     "iopub.status.busy": "2023-08-22T19:53:42.526560Z",
     "iopub.status.idle": "2023-08-22T19:53:42.530861Z",
     "shell.execute_reply": "2023-08-22T19:53:42.530124Z"
    },
    "papermill": {
     "duration": 0.12947,
     "end_time": "2023-08-22T19:53:42.532928",
     "exception": false,
     "start_time": "2023-08-22T19:53:42.403458",
     "status": "completed"
    },
    "tags": []
   },
   "outputs": [],
   "source": [
    "# submit_v4(selected_model=adc, selected_features={'num': [\"audienceScore\"]}, param_grid=None)"
   ]
  },
  {
   "cell_type": "code",
   "execution_count": 152,
   "id": "b7b4bee0",
   "metadata": {
    "execution": {
     "iopub.execute_input": "2023-08-22T19:53:42.777443Z",
     "iopub.status.busy": "2023-08-22T19:53:42.776359Z",
     "iopub.status.idle": "2023-08-22T19:53:42.781913Z",
     "shell.execute_reply": "2023-08-22T19:53:42.780324Z"
    },
    "papermill": {
     "duration": 0.131085,
     "end_time": "2023-08-22T19:53:42.784392",
     "exception": false,
     "start_time": "2023-08-22T19:53:42.653307",
     "status": "completed"
    },
    "tags": []
   },
   "outputs": [],
   "source": [
    "# submit_v4(selected_model=adc, selected_features=all_dict, param_grid=None)\n",
    "\n",
    "# Took 1 hour 15 mins to run and gave a public score of only 0.71089. Discarded."
   ]
  },
  {
   "cell_type": "markdown",
   "id": "8905cce1",
   "metadata": {
    "papermill": {
     "duration": 0.121531,
     "end_time": "2023-08-22T19:53:43.028333",
     "exception": false,
     "start_time": "2023-08-22T19:53:42.906802",
     "status": "completed"
    },
    "tags": []
   },
   "source": [
    "### LightGBM  "
   ]
  },
  {
   "cell_type": "code",
   "execution_count": 153,
   "id": "9baf8f77",
   "metadata": {
    "execution": {
     "iopub.execute_input": "2023-08-22T19:53:43.274306Z",
     "iopub.status.busy": "2023-08-22T19:53:43.273847Z",
     "iopub.status.idle": "2023-08-22T19:53:43.278179Z",
     "shell.execute_reply": "2023-08-22T19:53:43.277072Z"
    },
    "papermill": {
     "duration": 0.130853,
     "end_time": "2023-08-22T19:53:43.280758",
     "exception": false,
     "start_time": "2023-08-22T19:53:43.149905",
     "status": "completed"
    },
    "tags": []
   },
   "outputs": [],
   "source": [
    "# lgb = ltb.LGBMClassifier()\n",
    "# lgb"
   ]
  },
  {
   "cell_type": "code",
   "execution_count": 154,
   "id": "fe528afa",
   "metadata": {
    "execution": {
     "iopub.execute_input": "2023-08-22T19:53:43.525570Z",
     "iopub.status.busy": "2023-08-22T19:53:43.524945Z",
     "iopub.status.idle": "2023-08-22T19:53:43.529953Z",
     "shell.execute_reply": "2023-08-22T19:53:43.528725Z"
    },
    "papermill": {
     "duration": 0.12977,
     "end_time": "2023-08-22T19:53:43.532119",
     "exception": false,
     "start_time": "2023-08-22T19:53:43.402349",
     "status": "completed"
    },
    "tags": []
   },
   "outputs": [],
   "source": [
    "# Try LightGBM with default settings\n",
    "# (Update): Public score only 0.77713. It was fast, took less than 5 mins (without GridSearchCV)\n",
    "\n",
    "# submit_v4(selected_model=ltb.LGBMClassifier(), selected_features=all_dict, param_grid=None)"
   ]
  },
  {
   "cell_type": "markdown",
   "id": "a614c5a1",
   "metadata": {
    "papermill": {
     "duration": 0.118674,
     "end_time": "2023-08-22T19:53:43.770407",
     "exception": false,
     "start_time": "2023-08-22T19:53:43.651733",
     "status": "completed"
    },
    "tags": []
   },
   "source": [
    "## Feature Engineering"
   ]
  },
  {
   "cell_type": "markdown",
   "id": "6b891f37",
   "metadata": {
    "papermill": {
     "duration": 0.130637,
     "end_time": "2023-08-22T19:53:44.020502",
     "exception": false,
     "start_time": "2023-08-22T19:53:43.889865",
     "status": "completed"
    },
    "tags": []
   },
   "source": [
    "### Plan  \n",
    "* Add a new column 'reviewWC' which has word count of 'reviewText'  \n",
    "    * Check if there is any relationship between 'reviewWC' and 'sentiment'\n",
    "* Work on vocabulary\n",
    "     * Use TfidfVectorizer and find out the vocabulary of 'reviewText' column for various ngrams\n",
    "     * Use RecursiveFeatureElimination (RFE) or RFECV to select 1000 top words/vocab for each ngram\n",
    "     * Use the final vocab (1000-3000 words) in the model and see how it performs compared to whole vocab\n",
    "\n",
    "`(Update): Code incorporated into the \"select_features\" function  `  \n",
    "`(Update): Many other new features incorporated into the \"select_features\" function too  `  \n",
    "\n"
   ]
  },
  {
   "cell_type": "markdown",
   "id": "d4b375f5",
   "metadata": {
    "papermill": {
     "duration": 0.126986,
     "end_time": "2023-08-22T19:53:44.271704",
     "exception": false,
     "start_time": "2023-08-22T19:53:44.144718",
     "status": "completed"
    },
    "tags": []
   },
   "source": [
    "# Back to vocab after success of version 63  "
   ]
  },
  {
   "cell_type": "code",
   "execution_count": 155,
   "id": "b30dff93",
   "metadata": {
    "execution": {
     "iopub.execute_input": "2023-08-22T19:53:44.535869Z",
     "iopub.status.busy": "2023-08-22T19:53:44.534926Z",
     "iopub.status.idle": "2023-08-22T19:53:44.562479Z",
     "shell.execute_reply": "2023-08-22T19:53:44.561275Z"
    },
    "papermill": {
     "duration": 0.156479,
     "end_time": "2023-08-22T19:53:44.565910",
     "exception": false,
     "start_time": "2023-08-22T19:53:44.409431",
     "status": "completed"
    },
    "tags": []
   },
   "outputs": [],
   "source": [
    "def submit_v4(selected_model=LogisticRegression(C=1, solver='liblinear', max_iter=100000), \n",
    "              selected_features={'txt': ['reviewText']}, \n",
    "              param_grid=None,\n",
    "              vocab=None,\n",
    "              vocab_usage='tfidf',\n",
    "              strip_accents='unicode', \n",
    "              add_countvec=False):\n",
    "    \n",
    "    print(\"\\nRunning the submit_v4 function...\")\n",
    "    \n",
    "    # Fine tune selected_features\n",
    "    if add_countvec:\n",
    "        if 'txt' in selected_features.keys():\n",
    "            if \"reviewText_2\" not in selected_features['txt']:\n",
    "                selected_features['txt'].append('reviewText_2')\n",
    "    if vocab:\n",
    "        if 'txt' in selected_features.keys():\n",
    "            if \"reviewText_3\" not in selected_features['txt']:\n",
    "                selected_features['txt'].append('reviewText_3')\n",
    "    print(f\"\\nSelected features: {selected_features}\")\n",
    "\n",
    "    \n",
    "    \n",
    "    # Build Pipeline\n",
    "    pipe = build_pipeline(selected_model, selected_features, param_grid=param_grid, \n",
    "                          vocab=vocab, vocab_usage='tfidf', \n",
    "                          strip_accents=strip_accents, add_countvec=add_countvec)\n",
    "    print(pipe)\n",
    "\n",
    "    \n",
    "    \n",
    "    # Features list\n",
    "    features = []\n",
    "    for item in selected_features.values():\n",
    "        features.extend(item)\n",
    " \n",
    "\n",
    "    # Merge and preprocess train and movies data  \n",
    "    merged = select_features(load_csv(\"train\"), load_csv(\"movies\"), row_thresh_null=None)    # Decide if you want to drop any rows containing lot of nulls\n",
    "    # Impute missing numerical values  \n",
    "    # Simple Imputer for ['audienceScore', 'runtimeMinutes', 'boxOffice'] and 'releaseDate' columns\n",
    "    si = SimpleImputer(strategy='median')\n",
    "    merged[['audienceScore', 'runtimeMinutes', 'boxOffice']] = si.fit_transform(merged[['audienceScore', 'runtimeMinutes', 'boxOffice']])\n",
    "    merged['releaseDate'] = merged[\"releaseDate\"].fillna(merged[\"releaseDate\"].median())    \n",
    "    # Add new columns as needed  \n",
    "    if add_countvec:\n",
    "        merged['reviewText_2'] = merged['reviewText']\n",
    "    if vocab:\n",
    "        merged['reviewText_3'] = merged['reviewText']\n",
    "        \n",
    "    X_train = merged.drop(labels=\"sentiment\", axis=1)\n",
    "    y_train = merged[\"sentiment\"]\n",
    "\n",
    "    X_train = X_train[features]\n",
    "    \n",
    "    \n",
    "    # Check1\n",
    "    print(\"\\nCheck 1 complete.\")\n",
    "    print(f\"Shape of X_train: {X_train.shape}\")\n",
    "    print(f\"Features in X_train: {X_train.columns}\")\n",
    "#     print(X_train.head())\n",
    "    \n",
    "    \n",
    "    # Fit \n",
    "    print(\"\\nTraining started with full pipeline...\")\n",
    "    pipe.fit(X_train, y_train)\n",
    "    \n",
    "    # Check2\n",
    "    print(\"\\nCheck 2 complete.\")\n",
    "    print(\"Details of the best model using full pipeline (GridSearchCV) on X_train: \")\n",
    "    print(f\"Best Params: {pipe.best_params_}\")\n",
    "    print(f\"Best Score: {pipe.best_score_}\")\n",
    "    \n",
    "    print(predict_on_missing_review_data(pipe, features, merged))    # Function defined above\n",
    "    \n",
    "        \n",
    "    # Predict on test.csv file\n",
    "    \n",
    "    # Merge and preprocess test and movies data  \n",
    "    merged_test = select_features(load_csv(\"test\"), load_csv(\"movies\"))\n",
    "    # Transform ['audienceScore', 'runtimeMinutes', 'boxOffice'] columns in merged_test using 'si' fitted on 'merged' df  \n",
    "    merged_test[['audienceScore', 'runtimeMinutes', 'boxOffice']] = si.transform(merged_test[['audienceScore', 'runtimeMinutes', 'boxOffice']])\n",
    "    # Fill 'releaseDate' column in 'merged_test' df with median from the train (merged) df  \n",
    "    merged_test['releaseDate'] = merged_test[\"releaseDate\"].fillna(merged[\"releaseDate\"].median())\n",
    "    # Add new columns as needed \n",
    "    if add_countvec:\n",
    "        merged_test['reviewText_2'] = merged_test['reviewText']\n",
    "    if vocab:\n",
    "        merged_test['reviewText_3'] = merged_test['reviewText']\n",
    "        \n",
    "    X_test = merged_test.copy()\n",
    "\n",
    "    X_test = X_test[features]\n",
    "    \n",
    "    \n",
    "    # Check3\n",
    "    print(\"\\nCheck 3 complete.\")\n",
    "    print(f\"Shape of X_test: {X_test.shape}\")\n",
    "    print(f\"Features in X_test: {X_test.columns}\")\n",
    "#     print(X_test.head())\n",
    "    \n",
    "    y_pred = pipe.predict(X_test)\n",
    "    \n",
    "    # Check4\n",
    "    print(\"\\nCheck 4 complete.\")\n",
    "#     cv_results_df = pd.DataFrame(pipe.cv_results_)\n",
    "    print(\"Details of the best model using full pipeline (GridSearchCV) on X_train: \")\n",
    "    print(f\"Best Estimator: {pipe.best_estimator_}\")\n",
    "    print(f\"Best Params: {pipe.best_params_}\")\n",
    "    print(f\"Best Score: {pipe.best_score_}\")\n",
    "    print(f\"Best Index: {pipe.best_index_}\")\n",
    "    print(f\"Refit Time: {pipe.refit_time_}\")\n",
    "#     print(f\"Shape of CV results dataframe: {cv_results_df.shape}\")\n",
    "    \n",
    "    pred_df = pd.DataFrame(y_pred)\n",
    "    pred_df.columns = [\"sentiment\"]\n",
    "    pred_df.index.name = \"id\"\n",
    "    pred_df.to_csv(\"submission.csv\")\n",
    "    \n",
    "    print(\"\\nSuccessfully created the submission file!!!\")\n",
    "    \n",
    "    return pipe.cv_results_"
   ]
  },
  {
   "cell_type": "code",
   "execution_count": 156,
   "id": "6c2ee721",
   "metadata": {
    "execution": {
     "iopub.execute_input": "2023-08-22T19:53:44.814387Z",
     "iopub.status.busy": "2023-08-22T19:53:44.813577Z",
     "iopub.status.idle": "2023-08-22T19:53:44.820980Z",
     "shell.execute_reply": "2023-08-22T19:53:44.820000Z"
    },
    "papermill": {
     "duration": 0.132288,
     "end_time": "2023-08-22T19:53:44.823203",
     "exception": false,
     "start_time": "2023-08-22T19:53:44.690915",
     "status": "completed"
    },
    "tags": []
   },
   "outputs": [
    {
     "data": {
      "text/plain": [
       "Index(['movieid', 'reviewerName', 'isFrequentReviewer', 'reviewText',\n",
       "       'sentiment', 'title', 'audienceScore', 'rating', 'ratingContents',\n",
       "       'releaseDateTheaters', 'releaseDateStreaming', 'runtimeMinutes',\n",
       "       'genre', 'originalLanguage', 'director', 'boxOffice', 'distributor',\n",
       "       'soundType', 'reviewYN', 'reviewWC', 'genreSorted', 'rcSorted',\n",
       "       'releaseDate', 'releaseYear', 'releaseMonth', 'releaseDiff'],\n",
       "      dtype='object')"
      ]
     },
     "execution_count": 156,
     "metadata": {},
     "output_type": "execute_result"
    }
   ],
   "source": [
    "merged.columns"
   ]
  },
  {
   "cell_type": "code",
   "execution_count": 157,
   "id": "f2d3141c",
   "metadata": {
    "execution": {
     "iopub.execute_input": "2023-08-22T19:53:45.074787Z",
     "iopub.status.busy": "2023-08-22T19:53:45.074010Z",
     "iopub.status.idle": "2023-08-22T19:53:45.083833Z",
     "shell.execute_reply": "2023-08-22T19:53:45.083049Z"
    },
    "papermill": {
     "duration": 0.141053,
     "end_time": "2023-08-22T19:53:45.086073",
     "exception": false,
     "start_time": "2023-08-22T19:53:44.945020",
     "status": "completed"
    },
    "tags": []
   },
   "outputs": [],
   "source": [
    "# Best #2\n",
    "v80_dict = {'cat': ['isFrequentReviewer', 'audScoreBins', 'boxOfficeBins'], \n",
    "                  'txt': ['reviewText', 'reviewerName', 'movieid', 'genre', 'director', \n",
    "                          'ratingContents', 'distributor']}\n",
    "# Best #1\n",
    "v88_dict = {'cat': ['isFrequentReviewer', 'audScoreBins', 'boxOfficeBins'],\n",
    "            'num': ['releaseDiff'],\n",
    "            'txt': ['reviewText', 'reviewerName', 'movieid', 'genre', 'director', \n",
    "                         'ratingContents', 'distributor']}\n",
    "\n",
    "v92_dict = {'cat': ['isFrequentReviewer', 'audScoreBins', 'boxOfficeBins', 'releaseDiffBins'],\n",
    "            'txt': ['reviewText', 'reviewerName', 'title', 'genre', 'director', \n",
    "                         'ratingContents', 'distributor']}\n",
    "\n",
    "# Best univariable datapoints dict\n",
    "best_uni_dict = {'cat': [\"isFrequentReviewer\", \"audScoreBins\"],\n",
    "                 'txt': ['reviewText','movieid', 'director', \"ratingContents\"]}\n",
    "\n",
    "# param_grids for LogisticRegression  \n",
    "\n",
    "# Best #1  \n",
    "# param_grid = {\n",
    "#     'model__C' : [1],\n",
    "#     'model__solver': ['saga'],\n",
    "#     \"model__fit_intercept\" : [True],\n",
    "#     \"model__dual\" : [False]\n",
    "#     }\n",
    "\n",
    "# working\n",
    "param_grid = {\n",
    "    'model__C' : [1],\n",
    "    'model__solver': ['saga'],\n",
    "    \"model__fit_intercept\" : [True],\n",
    "    \"model__dual\" : [False],\n",
    "#     \"model__class_weight\": ['balanced', None]\n",
    "}\n",
    "\n",
    "\n",
    "# param_grids for LinearSVC  \n",
    "\n",
    "# param_grid = {\n",
    "#     'model__C' : [1, 10, 20],\n",
    "#     'model__loss': ['hinge', 'squared_hinge'],\n",
    "#     \"model__fit_intercept\" : [True, False],\n",
    "# #     \"model__dual\" : [True, False] \n",
    "# }\n",
    "\n",
    "svm = LinearSVC(max_iter=10000, random_state=42)    # LinearSVC\n",
    "\n",
    "\n",
    "# Local testing\n",
    "# selected_mov = {'num': ['audienceScore', 'boxOffice', 'releaseDiff'], \n",
    "#                 'txt': ['movieid', 'genre', 'director', \n",
    "#                          'ratingContents', 'distributor']}\n",
    "# results = submit_v4(\n",
    "#             selected_features={'num': ['boxOffice']},\n",
    "#             add_countvec=False,\n",
    "#             vocab=None,\n",
    "#             vocab_usage='tfidf',\n",
    "#             param_grid=param_grid\n",
    "#          )\n",
    "\n",
    "# results = submit_v4(selected_model = DummyClassifier(strategy='constant', constant='NEGATIVE'),\n",
    "#             selected_features={'num': ['boxOffice']},\n",
    "#             add_countvec=False,\n",
    "#             vocab=None,\n",
    "#             vocab_usage='tfidf',\n",
    "#             param_grid={'model__strategy' : ['constant']}\n",
    "#          )\n",
    "\n",
    "# Main submission\n",
    "\n",
    "# results = submit_v4(\n",
    "#     selected_features=v88_dict,\n",
    "#     add_countvec=False,\n",
    "#     vocab=common_1_2_3_grams,\n",
    "#     vocab_usage='tfidf',\n",
    "#     param_grid=param_grid\n",
    "#     )\n",
    "\n",
    "# results"
   ]
  },
  {
   "cell_type": "markdown",
   "id": "52d48ca8",
   "metadata": {
    "papermill": {
     "duration": 0.121096,
     "end_time": "2023-08-22T19:53:45.328385",
     "exception": false,
     "start_time": "2023-08-22T19:53:45.207289",
     "status": "completed"
    },
    "tags": []
   },
   "source": [
    "### ratingContents analysis  "
   ]
  },
  {
   "cell_type": "code",
   "execution_count": 158,
   "id": "a3099005",
   "metadata": {
    "execution": {
     "iopub.execute_input": "2023-08-22T19:53:45.572852Z",
     "iopub.status.busy": "2023-08-22T19:53:45.572398Z",
     "iopub.status.idle": "2023-08-22T19:53:45.577056Z",
     "shell.execute_reply": "2023-08-22T19:53:45.575982Z"
    },
    "papermill": {
     "duration": 0.130473,
     "end_time": "2023-08-22T19:53:45.579391",
     "exception": false,
     "start_time": "2023-08-22T19:53:45.448918",
     "status": "completed"
    },
    "tags": []
   },
   "outputs": [],
   "source": [
    "# Try string split  \n",
    "# s = \"comedy, animation, adventure, fantasy\"\n",
    "# (\",\").join(sorted(s.split(\", \")))"
   ]
  },
  {
   "cell_type": "code",
   "execution_count": 159,
   "id": "eee27ed4",
   "metadata": {
    "execution": {
     "iopub.execute_input": "2023-08-22T19:53:45.822697Z",
     "iopub.status.busy": "2023-08-22T19:53:45.821948Z",
     "iopub.status.idle": "2023-08-22T19:53:45.826664Z",
     "shell.execute_reply": "2023-08-22T19:53:45.825810Z"
    },
    "papermill": {
     "duration": 0.128927,
     "end_time": "2023-08-22T19:53:45.828854",
     "exception": false,
     "start_time": "2023-08-22T19:53:45.699927",
     "status": "completed"
    },
    "tags": []
   },
   "outputs": [],
   "source": [
    "# ratingContents_analysis = merged[[\"ratingContents\", \"sentiment\"]].copy()\n",
    "# print(ratingContents_analysis.head())\n",
    "# ratingContents_analysis[\"rcSorted\"] = ratingContents_analysis[\"ratingContents\"].apply(lambda x: (\",\").join(sorted(x.strip(\"][\").split(\", \"))))\n",
    "# ratingContents_analysis[\"rcSorted\"] = ratingContents_analysis[\"rcSorted\"].apply(lambda x: re.sub(r\"'\", \"\", x))\n",
    "# ratingContents_analysis[\"rcSorted\"] = ratingContents_analysis[\"rcSorted\"].apply(lambda x: re.sub(r\"[/\\s]\", \"_\", x))\n",
    "# ratingContents_analysis.head(10)"
   ]
  },
  {
   "cell_type": "code",
   "execution_count": 160,
   "id": "45c97cf2",
   "metadata": {
    "execution": {
     "iopub.execute_input": "2023-08-22T19:53:46.162483Z",
     "iopub.status.busy": "2023-08-22T19:53:46.161755Z",
     "iopub.status.idle": "2023-08-22T19:53:46.165619Z",
     "shell.execute_reply": "2023-08-22T19:53:46.164894Z"
    },
    "papermill": {
     "duration": 0.130931,
     "end_time": "2023-08-22T19:53:46.167811",
     "exception": false,
     "start_time": "2023-08-22T19:53:46.036880",
     "status": "completed"
    },
    "tags": []
   },
   "outputs": [],
   "source": [
    "# cvec_rc = CountVectorizer(ngram_range=(1,1))\n",
    "# cvec_rc.fit(ratingContents_analysis['rcSorted'])\n",
    "# # len(cvec_rc.vocabulary_), cvec_rc.vocabulary_"
   ]
  },
  {
   "cell_type": "code",
   "execution_count": 161,
   "id": "d6adab4f",
   "metadata": {
    "execution": {
     "iopub.execute_input": "2023-08-22T19:53:46.411447Z",
     "iopub.status.busy": "2023-08-22T19:53:46.410728Z",
     "iopub.status.idle": "2023-08-22T19:53:46.414418Z",
     "shell.execute_reply": "2023-08-22T19:53:46.413729Z"
    },
    "papermill": {
     "duration": 0.12714,
     "end_time": "2023-08-22T19:53:46.416489",
     "exception": false,
     "start_time": "2023-08-22T19:53:46.289349",
     "status": "completed"
    },
    "tags": []
   },
   "outputs": [],
   "source": [
    "# genre_testing = cvec_g.transform(merged[\"genre\"])\n",
    "# print(genre_testing)"
   ]
  },
  {
   "cell_type": "markdown",
   "id": "107fef95",
   "metadata": {
    "papermill": {
     "duration": 0.120979,
     "end_time": "2023-08-22T19:53:46.659212",
     "exception": false,
     "start_time": "2023-08-22T19:53:46.538233",
     "status": "completed"
    },
    "tags": []
   },
   "source": [
    "## Statistical tests  "
   ]
  },
  {
   "cell_type": "markdown",
   "id": "df676530",
   "metadata": {
    "papermill": {
     "duration": 0.119179,
     "end_time": "2023-08-22T19:53:46.898483",
     "exception": false,
     "start_time": "2023-08-22T19:53:46.779304",
     "status": "completed"
    },
    "tags": []
   },
   "source": [
    "[Go to genre](#genre_analysis)"
   ]
  },
  {
   "cell_type": "code",
   "execution_count": 162,
   "id": "17410aee",
   "metadata": {
    "execution": {
     "iopub.execute_input": "2023-08-22T19:53:47.144407Z",
     "iopub.status.busy": "2023-08-22T19:53:47.143655Z",
     "iopub.status.idle": "2023-08-22T19:53:47.148166Z",
     "shell.execute_reply": "2023-08-22T19:53:47.147340Z"
    },
    "papermill": {
     "duration": 0.130994,
     "end_time": "2023-08-22T19:53:47.150377",
     "exception": false,
     "start_time": "2023-08-22T19:53:47.019383",
     "status": "completed"
    },
    "tags": []
   },
   "outputs": [],
   "source": [
    "# print(merged['boxOffice'].head())\n",
    "# merged[\"boxOffice\"].describe()"
   ]
  },
  {
   "cell_type": "code",
   "execution_count": 163,
   "id": "a8a75492",
   "metadata": {
    "execution": {
     "iopub.execute_input": "2023-08-22T19:53:47.393957Z",
     "iopub.status.busy": "2023-08-22T19:53:47.393183Z",
     "iopub.status.idle": "2023-08-22T19:53:47.397295Z",
     "shell.execute_reply": "2023-08-22T19:53:47.396586Z"
    },
    "papermill": {
     "duration": 0.128476,
     "end_time": "2023-08-22T19:53:47.399460",
     "exception": false,
     "start_time": "2023-08-22T19:53:47.270984",
     "status": "completed"
    },
    "tags": []
   },
   "outputs": [],
   "source": [
    "# Function for independent samples t-test on numerical columns  \n",
    "# def ttest_ind(feature):\n",
    "#     pos_grp = merged[feature].loc[merged['sentiment'] == \"POSITIVE\"]\n",
    "#     neg_grp = merged[feature].loc[merged['sentiment'] == \"NEGATIVE\"]\n",
    "\n",
    "#     print(pos_grp.shape, neg_grp.shape)\n",
    "#     print(pos_grp.describe(), neg_grp.describe())\n",
    "\n",
    "#     return stats.ttest_ind(pos_grp, neg_grp)"
   ]
  },
  {
   "cell_type": "code",
   "execution_count": 164,
   "id": "3bb45b2f",
   "metadata": {
    "execution": {
     "iopub.execute_input": "2023-08-22T19:53:47.643408Z",
     "iopub.status.busy": "2023-08-22T19:53:47.642661Z",
     "iopub.status.idle": "2023-08-22T19:53:47.646580Z",
     "shell.execute_reply": "2023-08-22T19:53:47.645852Z"
    },
    "papermill": {
     "duration": 0.129516,
     "end_time": "2023-08-22T19:53:47.648806",
     "exception": false,
     "start_time": "2023-08-22T19:53:47.519290",
     "status": "completed"
    },
    "tags": []
   },
   "outputs": [],
   "source": [
    "# ttest_ind('boxOffice')"
   ]
  },
  {
   "cell_type": "code",
   "execution_count": 165,
   "id": "c2cf56fd",
   "metadata": {
    "execution": {
     "iopub.execute_input": "2023-08-22T19:53:47.890086Z",
     "iopub.status.busy": "2023-08-22T19:53:47.889555Z",
     "iopub.status.idle": "2023-08-22T19:53:47.894327Z",
     "shell.execute_reply": "2023-08-22T19:53:47.893200Z"
    },
    "papermill": {
     "duration": 0.128545,
     "end_time": "2023-08-22T19:53:47.897111",
     "exception": false,
     "start_time": "2023-08-22T19:53:47.768566",
     "status": "completed"
    },
    "tags": []
   },
   "outputs": [],
   "source": [
    "# ttest_ind('runtimeMinutes')"
   ]
  },
  {
   "cell_type": "code",
   "execution_count": 166,
   "id": "2c62a365",
   "metadata": {
    "execution": {
     "iopub.execute_input": "2023-08-22T19:53:48.147962Z",
     "iopub.status.busy": "2023-08-22T19:53:48.147061Z",
     "iopub.status.idle": "2023-08-22T19:53:48.151334Z",
     "shell.execute_reply": "2023-08-22T19:53:48.150574Z"
    },
    "papermill": {
     "duration": 0.134397,
     "end_time": "2023-08-22T19:53:48.153507",
     "exception": false,
     "start_time": "2023-08-22T19:53:48.019110",
     "status": "completed"
    },
    "tags": []
   },
   "outputs": [],
   "source": [
    "# ttest_ind('audienceScore')"
   ]
  },
  {
   "cell_type": "code",
   "execution_count": 167,
   "id": "23aa25a6",
   "metadata": {
    "execution": {
     "iopub.execute_input": "2023-08-22T19:53:48.409793Z",
     "iopub.status.busy": "2023-08-22T19:53:48.408973Z",
     "iopub.status.idle": "2023-08-22T19:53:48.413595Z",
     "shell.execute_reply": "2023-08-22T19:53:48.412792Z"
    },
    "papermill": {
     "duration": 0.136152,
     "end_time": "2023-08-22T19:53:48.415693",
     "exception": false,
     "start_time": "2023-08-22T19:53:48.279541",
     "status": "completed"
    },
    "tags": []
   },
   "outputs": [],
   "source": [
    "# sns.boxplot(x=merged['sentiment'], y=merged['boxOffice'])"
   ]
  },
  {
   "cell_type": "markdown",
   "id": "d4f6d153",
   "metadata": {
    "papermill": {
     "duration": 0.116274,
     "end_time": "2023-08-22T19:53:48.648905",
     "exception": false,
     "start_time": "2023-08-22T19:53:48.532631",
     "status": "completed"
    },
    "tags": []
   },
   "source": [
    "## <div id='genre_analysis'>Genre analysis</div>"
   ]
  },
  {
   "cell_type": "code",
   "execution_count": 168,
   "id": "33a82aec",
   "metadata": {
    "execution": {
     "iopub.execute_input": "2023-08-22T19:53:48.884574Z",
     "iopub.status.busy": "2023-08-22T19:53:48.883821Z",
     "iopub.status.idle": "2023-08-22T19:53:48.888122Z",
     "shell.execute_reply": "2023-08-22T19:53:48.887276Z"
    },
    "papermill": {
     "duration": 0.125298,
     "end_time": "2023-08-22T19:53:48.890236",
     "exception": false,
     "start_time": "2023-08-22T19:53:48.764938",
     "status": "completed"
    },
    "tags": []
   },
   "outputs": [],
   "source": [
    "# genre_analysis = merged[[\"genre\", \"genreSorted\", \"sentiment\"]].copy()\n",
    "# # print(genre_analysis.head())\n",
    "# # genre_analysis[\"genre\"] = genre_analysis[\"genre\"].apply(lambda x: (\",\").join(sorted(x.split(\", \"))))\n",
    "# genre_analysis.head()"
   ]
  },
  {
   "cell_type": "code",
   "execution_count": 169,
   "id": "2ac7bb72",
   "metadata": {
    "execution": {
     "iopub.execute_input": "2023-08-22T19:53:49.132943Z",
     "iopub.status.busy": "2023-08-22T19:53:49.132220Z",
     "iopub.status.idle": "2023-08-22T19:53:49.136237Z",
     "shell.execute_reply": "2023-08-22T19:53:49.135427Z"
    },
    "papermill": {
     "duration": 0.12865,
     "end_time": "2023-08-22T19:53:49.138475",
     "exception": false,
     "start_time": "2023-08-22T19:53:49.009825",
     "status": "completed"
    },
    "tags": []
   },
   "outputs": [],
   "source": [
    "# cvec_g = CountVectorizer(ngram_range=(1,3))\n",
    "# cvec_g.fit(genre_analysis['genre'])\n",
    "# # len(cvec_g.vocabulary_), cvec_g.vocabulary_"
   ]
  },
  {
   "cell_type": "code",
   "execution_count": 170,
   "id": "f9c420be",
   "metadata": {
    "execution": {
     "iopub.execute_input": "2023-08-22T19:53:49.383038Z",
     "iopub.status.busy": "2023-08-22T19:53:49.382303Z",
     "iopub.status.idle": "2023-08-22T19:53:49.386848Z",
     "shell.execute_reply": "2023-08-22T19:53:49.385897Z"
    },
    "papermill": {
     "duration": 0.129191,
     "end_time": "2023-08-22T19:53:49.389132",
     "exception": false,
     "start_time": "2023-08-22T19:53:49.259941",
     "status": "completed"
    },
    "tags": []
   },
   "outputs": [],
   "source": [
    "# cvec_gSorted = CountVectorizer(ngram_range=(1,3))\n",
    "# cvec_gSorted.fit(genre_analysis['genreSorted'])\n",
    "# len(cvec_gSorted.vocabulary_), cvec_gSorted.vocabulary_"
   ]
  },
  {
   "cell_type": "code",
   "execution_count": 171,
   "id": "912b938d",
   "metadata": {
    "execution": {
     "iopub.execute_input": "2023-08-22T19:53:49.632806Z",
     "iopub.status.busy": "2023-08-22T19:53:49.632141Z",
     "iopub.status.idle": "2023-08-22T19:53:49.635943Z",
     "shell.execute_reply": "2023-08-22T19:53:49.635120Z"
    },
    "papermill": {
     "duration": 0.129435,
     "end_time": "2023-08-22T19:53:49.638246",
     "exception": false,
     "start_time": "2023-08-22T19:53:49.508811",
     "status": "completed"
    },
    "tags": []
   },
   "outputs": [],
   "source": [
    "# genre_testing = cvec_g.transform(merged[\"genre\"])\n",
    "# # print(genre_testing)"
   ]
  },
  {
   "cell_type": "code",
   "execution_count": 172,
   "id": "36e09df0",
   "metadata": {
    "execution": {
     "iopub.execute_input": "2023-08-22T19:53:49.881136Z",
     "iopub.status.busy": "2023-08-22T19:53:49.880659Z",
     "iopub.status.idle": "2023-08-22T19:53:49.885975Z",
     "shell.execute_reply": "2023-08-22T19:53:49.884752Z"
    },
    "papermill": {
     "duration": 0.129889,
     "end_time": "2023-08-22T19:53:49.888702",
     "exception": false,
     "start_time": "2023-08-22T19:53:49.758813",
     "status": "completed"
    },
    "tags": []
   },
   "outputs": [],
   "source": [
    "# genre_counts_testing = merged[[\"genre\", \"sentiment\"]].copy()\n",
    "# genre_counts_testing[\"gCount\"] = genre_counts_testing.apply(lambda x: len(str(x[\"genre\"]).split()), axis=1)\n",
    "# genre_counts_testing"
   ]
  },
  {
   "cell_type": "code",
   "execution_count": 173,
   "id": "b5759bfd",
   "metadata": {
    "execution": {
     "iopub.execute_input": "2023-08-22T19:53:50.210257Z",
     "iopub.status.busy": "2023-08-22T19:53:50.208804Z",
     "iopub.status.idle": "2023-08-22T19:53:50.214707Z",
     "shell.execute_reply": "2023-08-22T19:53:50.213878Z"
    },
    "papermill": {
     "duration": 0.125924,
     "end_time": "2023-08-22T19:53:50.216839",
     "exception": false,
     "start_time": "2023-08-22T19:53:50.090915",
     "status": "completed"
    },
    "tags": []
   },
   "outputs": [],
   "source": [
    "# sns.boxplot(y=genre_counts_testing[\"gCount\"], x=genre_counts_testing[\"sentiment\"])"
   ]
  },
  {
   "cell_type": "code",
   "execution_count": 174,
   "id": "3ce5fd99",
   "metadata": {
    "execution": {
     "iopub.execute_input": "2023-08-22T19:53:50.453968Z",
     "iopub.status.busy": "2023-08-22T19:53:50.453521Z",
     "iopub.status.idle": "2023-08-22T19:53:50.458181Z",
     "shell.execute_reply": "2023-08-22T19:53:50.457281Z"
    },
    "papermill": {
     "duration": 0.12542,
     "end_time": "2023-08-22T19:53:50.460586",
     "exception": false,
     "start_time": "2023-08-22T19:53:50.335166",
     "status": "completed"
    },
    "tags": []
   },
   "outputs": [],
   "source": [
    "# sns.boxplot(y=merged[\"reviewWC\"], x=merged[\"sentiment\"])"
   ]
  },
  {
   "cell_type": "code",
   "execution_count": 175,
   "id": "2edc94ac",
   "metadata": {
    "execution": {
     "iopub.execute_input": "2023-08-22T19:53:50.697952Z",
     "iopub.status.busy": "2023-08-22T19:53:50.697465Z",
     "iopub.status.idle": "2023-08-22T19:53:50.702173Z",
     "shell.execute_reply": "2023-08-22T19:53:50.701088Z"
    },
    "papermill": {
     "duration": 0.125108,
     "end_time": "2023-08-22T19:53:50.704495",
     "exception": false,
     "start_time": "2023-08-22T19:53:50.579387",
     "status": "completed"
    },
    "tags": []
   },
   "outputs": [],
   "source": [
    "# audienceScore bins\n",
    "# asc = merged[['audienceScore', 'sentiment']].copy()\n",
    "# asc.head()"
   ]
  },
  {
   "cell_type": "code",
   "execution_count": 176,
   "id": "bd9711f7",
   "metadata": {
    "execution": {
     "iopub.execute_input": "2023-08-22T19:53:50.944696Z",
     "iopub.status.busy": "2023-08-22T19:53:50.943901Z",
     "iopub.status.idle": "2023-08-22T19:53:50.948366Z",
     "shell.execute_reply": "2023-08-22T19:53:50.947235Z"
    },
    "papermill": {
     "duration": 0.128374,
     "end_time": "2023-08-22T19:53:50.950480",
     "exception": false,
     "start_time": "2023-08-22T19:53:50.822106",
     "status": "completed"
    },
    "tags": []
   },
   "outputs": [],
   "source": [
    "# Binning numerical features  \n",
    "\n",
    "# print(merged[\"runtimeBins\"].value_counts())\n",
    "# sns.displot(merged[\"runtimeBins\"])"
   ]
  },
  {
   "cell_type": "code",
   "execution_count": 177,
   "id": "03b5b2ad",
   "metadata": {
    "execution": {
     "iopub.execute_input": "2023-08-22T19:53:51.197097Z",
     "iopub.status.busy": "2023-08-22T19:53:51.196324Z",
     "iopub.status.idle": "2023-08-22T19:53:51.201013Z",
     "shell.execute_reply": "2023-08-22T19:53:51.199927Z"
    },
    "papermill": {
     "duration": 0.132493,
     "end_time": "2023-08-22T19:53:51.203333",
     "exception": false,
     "start_time": "2023-08-22T19:53:51.070840",
     "status": "completed"
    },
    "tags": []
   },
   "outputs": [],
   "source": [
    "# Chi-square test for isFrequentReviewer column and sentiment column   \n",
    "\n",
    "# contingency_table = pd.crosstab(traindf['isFrequentReviewer'], traindf['sentiment'])\n",
    "# print(contingency_table)\n",
    "# stats.chi2_contingency(contingency_table)"
   ]
  },
  {
   "cell_type": "markdown",
   "id": "60aefb6d",
   "metadata": {
    "papermill": {
     "duration": 0.120369,
     "end_time": "2023-08-22T19:53:51.446073",
     "exception": false,
     "start_time": "2023-08-22T19:53:51.325704",
     "status": "completed"
    },
    "tags": []
   },
   "source": [
    "## Baseline performance of 'reviewText' column  "
   ]
  },
  {
   "cell_type": "code",
   "execution_count": 178,
   "id": "d52568e4",
   "metadata": {
    "execution": {
     "iopub.execute_input": "2023-08-22T19:53:51.688700Z",
     "iopub.status.busy": "2023-08-22T19:53:51.687923Z",
     "iopub.status.idle": "2023-08-22T19:53:51.692242Z",
     "shell.execute_reply": "2023-08-22T19:53:51.691370Z"
    },
    "papermill": {
     "duration": 0.128399,
     "end_time": "2023-08-22T19:53:51.694315",
     "exception": false,
     "start_time": "2023-08-22T19:53:51.565916",
     "status": "completed"
    },
    "tags": []
   },
   "outputs": [],
   "source": [
    "# rt_dict = {'txt': ['reviewText']}\n",
    "# rt_dict"
   ]
  },
  {
   "cell_type": "code",
   "execution_count": 179,
   "id": "66d2a44c",
   "metadata": {
    "execution": {
     "iopub.execute_input": "2023-08-22T19:53:51.935452Z",
     "iopub.status.busy": "2023-08-22T19:53:51.934729Z",
     "iopub.status.idle": "2023-08-22T19:53:51.939231Z",
     "shell.execute_reply": "2023-08-22T19:53:51.938313Z"
    },
    "papermill": {
     "duration": 0.1274,
     "end_time": "2023-08-22T19:53:51.941385",
     "exception": false,
     "start_time": "2023-08-22T19:53:51.813985",
     "status": "completed"
    },
    "tags": []
   },
   "outputs": [],
   "source": [
    "# submit_v4(selected_model=LogisticRegression(C=5, solver=\"saga\", max_iter=100000),\n",
    "#           selected_features=rt_dict,\n",
    "#           param_grid=None,\n",
    "#           vocab=None)"
   ]
  },
  {
   "cell_type": "markdown",
   "id": "b58a3ab8",
   "metadata": {
    "papermill": {
     "duration": 0.120042,
     "end_time": "2023-08-22T19:53:52.181848",
     "exception": false,
     "start_time": "2023-08-22T19:53:52.061806",
     "status": "completed"
    },
    "tags": []
   },
   "source": [
    "## RFE  "
   ]
  },
  {
   "cell_type": "code",
   "execution_count": 180,
   "id": "3ab8d2e4",
   "metadata": {
    "execution": {
     "iopub.execute_input": "2023-08-22T19:53:52.425541Z",
     "iopub.status.busy": "2023-08-22T19:53:52.424822Z",
     "iopub.status.idle": "2023-08-22T19:53:52.429392Z",
     "shell.execute_reply": "2023-08-22T19:53:52.428656Z"
    },
    "papermill": {
     "duration": 0.127771,
     "end_time": "2023-08-22T19:53:52.431528",
     "exception": false,
     "start_time": "2023-08-22T19:53:52.303757",
     "status": "completed"
    },
    "tags": []
   },
   "outputs": [],
   "source": [
    "# def fs_rfe(selector, text_df, labels, ngram_range=(1,1)):\n",
    "#     text_df_ngram = TfidfVectorizer(ngram_range=ngram_range, stop_words='english').fit_transform(text_df)\n",
    "#     print(\"text_df was vectorized using TF-IDF vectorizer with ngram_range: \", ngram_range)\n",
    "#     print(\"text_df.shape: \", text_df.shape)\n",
    "#     print(\"labels.shape: \", labels.shape)\n",
    "#     print(\"text_df_ngram.shape: \", text_df_ngram.shape)\n",
    "#     print()\n",
    "\n",
    "#     print(\"Starting RFE fit...\")\n",
    "#     selector.fit(text_df_ngram, labels)\n",
    "#     print(\"RFE fit complete.\\n\")\n",
    "    \n",
    "#     print(\"selector.n_features_: \", selector.n_features_)   \n",
    "#     print(\"selector.n_features_in_: \", selector.n_features_in_)\n",
    "#     print(\"selector.support_.shape: \", selector.support_.shape)\n",
    "\n",
    "#     return selector.support_"
   ]
  },
  {
   "cell_type": "markdown",
   "id": "42238b2a",
   "metadata": {
    "papermill": {
     "duration": 0.122701,
     "end_time": "2023-08-22T19:53:52.674772",
     "exception": false,
     "start_time": "2023-08-22T19:53:52.552071",
     "status": "completed"
    },
    "tags": []
   },
   "source": [
    "`RFE for unigrams`  "
   ]
  },
  {
   "cell_type": "code",
   "execution_count": 181,
   "id": "93fac577",
   "metadata": {
    "execution": {
     "iopub.execute_input": "2023-08-22T19:53:52.918839Z",
     "iopub.status.busy": "2023-08-22T19:53:52.918060Z",
     "iopub.status.idle": "2023-08-22T19:53:52.922424Z",
     "shell.execute_reply": "2023-08-22T19:53:52.921556Z"
    },
    "papermill": {
     "duration": 0.128021,
     "end_time": "2023-08-22T19:53:52.924541",
     "exception": false,
     "start_time": "2023-08-22T19:53:52.796520",
     "status": "completed"
    },
    "tags": []
   },
   "outputs": [],
   "source": [
    "# estimator_rfe_1 = LogisticRegression(solver='saga', max_iter=100000)\n",
    "# selector_rfe_1 = RFE(estimator_rfe_1, step=0.1, n_features_to_select=30000)"
   ]
  },
  {
   "cell_type": "code",
   "execution_count": 182,
   "id": "9bf08f59",
   "metadata": {
    "execution": {
     "iopub.execute_input": "2023-08-22T19:53:53.170793Z",
     "iopub.status.busy": "2023-08-22T19:53:53.170331Z",
     "iopub.status.idle": "2023-08-22T19:53:53.175583Z",
     "shell.execute_reply": "2023-08-22T19:53:53.174292Z"
    },
    "papermill": {
     "duration": 0.132221,
     "end_time": "2023-08-22T19:53:53.177963",
     "exception": false,
     "start_time": "2023-08-22T19:53:53.045742",
     "status": "completed"
    },
    "tags": []
   },
   "outputs": [],
   "source": [
    "# rfe_1_feat_mask = fs_rfe(selector_rfe_1, rt_senti[\"reviewText\"], rt_senti[\"sentiment\"], ngram_range=(1,1))\n",
    "# rfe_1_feat_mask"
   ]
  },
  {
   "cell_type": "code",
   "execution_count": 183,
   "id": "c46e0f50",
   "metadata": {
    "execution": {
     "iopub.execute_input": "2023-08-22T19:53:53.413695Z",
     "iopub.status.busy": "2023-08-22T19:53:53.413231Z",
     "iopub.status.idle": "2023-08-22T19:53:53.418472Z",
     "shell.execute_reply": "2023-08-22T19:53:53.417061Z"
    },
    "papermill": {
     "duration": 0.126253,
     "end_time": "2023-08-22T19:53:53.421084",
     "exception": false,
     "start_time": "2023-08-22T19:53:53.294831",
     "status": "completed"
    },
    "tags": []
   },
   "outputs": [],
   "source": [
    "# voc_1gram_rfe = list(compress(voc_1gram, rfe_1_feat_mask))\n",
    "# len(voc_1gram_rfe), voc_1gram_rfe[:10]"
   ]
  },
  {
   "cell_type": "markdown",
   "id": "9d4dba84",
   "metadata": {
    "papermill": {
     "duration": 0.117192,
     "end_time": "2023-08-22T19:53:53.654194",
     "exception": false,
     "start_time": "2023-08-22T19:53:53.537002",
     "status": "completed"
    },
    "tags": []
   },
   "source": [
    "`RFE for bigrams`  "
   ]
  },
  {
   "cell_type": "code",
   "execution_count": 184,
   "id": "d48c7261",
   "metadata": {
    "execution": {
     "iopub.execute_input": "2023-08-22T19:53:53.889260Z",
     "iopub.status.busy": "2023-08-22T19:53:53.888853Z",
     "iopub.status.idle": "2023-08-22T19:53:53.894010Z",
     "shell.execute_reply": "2023-08-22T19:53:53.892613Z"
    },
    "papermill": {
     "duration": 0.125247,
     "end_time": "2023-08-22T19:53:53.896330",
     "exception": false,
     "start_time": "2023-08-22T19:53:53.771083",
     "status": "completed"
    },
    "tags": []
   },
   "outputs": [],
   "source": [
    "# estimator_rfe_2 = LogisticRegression(solver='saga', max_iter=100000)\n",
    "# selector_rfe_2 = RFE(estimator_rfe_2, step=0.1, n_features_to_select=50000)"
   ]
  },
  {
   "cell_type": "code",
   "execution_count": 185,
   "id": "0614c855",
   "metadata": {
    "execution": {
     "iopub.execute_input": "2023-08-22T19:53:54.138783Z",
     "iopub.status.busy": "2023-08-22T19:53:54.138336Z",
     "iopub.status.idle": "2023-08-22T19:53:54.142896Z",
     "shell.execute_reply": "2023-08-22T19:53:54.141869Z"
    },
    "papermill": {
     "duration": 0.130456,
     "end_time": "2023-08-22T19:53:54.145082",
     "exception": false,
     "start_time": "2023-08-22T19:53:54.014626",
     "status": "completed"
    },
    "tags": []
   },
   "outputs": [],
   "source": [
    "# rfe_2_feat_mask = fs_rfe(selector_rfe_2, rt_senti[\"reviewText\"], rt_senti[\"sentiment\"], ngram_range=(2,2))\n",
    "# rfe_2_feat_mask"
   ]
  },
  {
   "cell_type": "code",
   "execution_count": 186,
   "id": "85aea0f7",
   "metadata": {
    "execution": {
     "iopub.execute_input": "2023-08-22T19:53:54.390553Z",
     "iopub.status.busy": "2023-08-22T19:53:54.389305Z",
     "iopub.status.idle": "2023-08-22T19:53:54.395096Z",
     "shell.execute_reply": "2023-08-22T19:53:54.394020Z"
    },
    "papermill": {
     "duration": 0.131426,
     "end_time": "2023-08-22T19:53:54.397765",
     "exception": false,
     "start_time": "2023-08-22T19:53:54.266339",
     "status": "completed"
    },
    "tags": []
   },
   "outputs": [],
   "source": [
    "# voc_2gram_rfe = list(compress(voc_2gram, rfe_2_feat_mask))\n",
    "# len(voc_2gram_rfe), voc_2gram_rfe[:10]"
   ]
  },
  {
   "cell_type": "markdown",
   "id": "bacdf4f3",
   "metadata": {
    "papermill": {
     "duration": 0.116926,
     "end_time": "2023-08-22T19:53:54.631667",
     "exception": false,
     "start_time": "2023-08-22T19:53:54.514741",
     "status": "completed"
    },
    "tags": []
   },
   "source": [
    "## Final RFE-derived vocabulary  "
   ]
  },
  {
   "cell_type": "code",
   "execution_count": 187,
   "id": "b827a5a1",
   "metadata": {
    "execution": {
     "iopub.execute_input": "2023-08-22T19:53:54.940367Z",
     "iopub.status.busy": "2023-08-22T19:53:54.939876Z",
     "iopub.status.idle": "2023-08-22T19:53:54.945359Z",
     "shell.execute_reply": "2023-08-22T19:53:54.944161Z"
    },
    "papermill": {
     "duration": 0.126155,
     "end_time": "2023-08-22T19:53:54.947587",
     "exception": false,
     "start_time": "2023-08-22T19:53:54.821432",
     "status": "completed"
    },
    "tags": []
   },
   "outputs": [],
   "source": [
    "# rfe_vocab = voc_1gram_rfe + voc_2gram_rfe\n",
    "# len(rfe_vocab), rfe_vocab[:10], rfe_vocab[-10:]"
   ]
  },
  {
   "cell_type": "code",
   "execution_count": 188,
   "id": "be17157f",
   "metadata": {
    "execution": {
     "iopub.execute_input": "2023-08-22T19:53:55.194929Z",
     "iopub.status.busy": "2023-08-22T19:53:55.194436Z",
     "iopub.status.idle": "2023-08-22T19:53:55.198802Z",
     "shell.execute_reply": "2023-08-22T19:53:55.197951Z"
    },
    "papermill": {
     "duration": 0.131204,
     "end_time": "2023-08-22T19:53:55.201060",
     "exception": false,
     "start_time": "2023-08-22T19:53:55.069856",
     "status": "completed"
    },
    "tags": []
   },
   "outputs": [],
   "source": [
    "## Test RFE obtained vocabulary in final pipeline (only with reviewText)  \n",
    "# submit_v4(selected_model=LogisticRegression(C=5, solver=\"saga\", max_iter=100000),\n",
    "#           selected_features=rt_dict,\n",
    "#           param_grid=None,\n",
    "#           vocab=rfe_vocab)"
   ]
  },
  {
   "cell_type": "markdown",
   "id": "c0759453",
   "metadata": {
    "papermill": {
     "duration": 0.120453,
     "end_time": "2023-08-22T19:53:55.444947",
     "exception": false,
     "start_time": "2023-08-22T19:53:55.324494",
     "status": "completed"
    },
    "tags": []
   },
   "source": [
    "## Use rfe_vocab in final pipeline with all params  "
   ]
  },
  {
   "cell_type": "code",
   "execution_count": 189,
   "id": "e48dd988",
   "metadata": {
    "execution": {
     "iopub.execute_input": "2023-08-22T19:53:55.687898Z",
     "iopub.status.busy": "2023-08-22T19:53:55.687444Z",
     "iopub.status.idle": "2023-08-22T19:53:55.692571Z",
     "shell.execute_reply": "2023-08-22T19:53:55.691289Z"
    },
    "papermill": {
     "duration": 0.130229,
     "end_time": "2023-08-22T19:53:55.694917",
     "exception": false,
     "start_time": "2023-08-22T19:53:55.564688",
     "status": "completed"
    },
    "tags": []
   },
   "outputs": [],
   "source": [
    "# submit_v4(selected_model=LogisticRegression(max_iter=100000),\n",
    "#           selected_features=all_dict,\n",
    "#           param_grid=param_grid,\n",
    "#           vocab=rfe_vocab)"
   ]
  },
  {
   "cell_type": "code",
   "execution_count": 190,
   "id": "03ddd869",
   "metadata": {
    "execution": {
     "iopub.execute_input": "2023-08-22T19:53:55.940391Z",
     "iopub.status.busy": "2023-08-22T19:53:55.939908Z",
     "iopub.status.idle": "2023-08-22T19:53:55.952296Z",
     "shell.execute_reply": "2023-08-22T19:53:55.951530Z"
    },
    "papermill": {
     "duration": 0.136783,
     "end_time": "2023-08-22T19:53:55.954358",
     "exception": false,
     "start_time": "2023-08-22T19:53:55.817575",
     "status": "completed"
    },
    "tags": []
   },
   "outputs": [
    {
     "data": {
      "text/html": [
       "<style>#sk-container-id-1 {color: black;background-color: white;}#sk-container-id-1 pre{padding: 0;}#sk-container-id-1 div.sk-toggleable {background-color: white;}#sk-container-id-1 label.sk-toggleable__label {cursor: pointer;display: block;width: 100%;margin-bottom: 0;padding: 0.3em;box-sizing: border-box;text-align: center;}#sk-container-id-1 label.sk-toggleable__label-arrow:before {content: \"▸\";float: left;margin-right: 0.25em;color: #696969;}#sk-container-id-1 label.sk-toggleable__label-arrow:hover:before {color: black;}#sk-container-id-1 div.sk-estimator:hover label.sk-toggleable__label-arrow:before {color: black;}#sk-container-id-1 div.sk-toggleable__content {max-height: 0;max-width: 0;overflow: hidden;text-align: left;background-color: #f0f8ff;}#sk-container-id-1 div.sk-toggleable__content pre {margin: 0.2em;color: black;border-radius: 0.25em;background-color: #f0f8ff;}#sk-container-id-1 input.sk-toggleable__control:checked~div.sk-toggleable__content {max-height: 200px;max-width: 100%;overflow: auto;}#sk-container-id-1 input.sk-toggleable__control:checked~label.sk-toggleable__label-arrow:before {content: \"▾\";}#sk-container-id-1 div.sk-estimator input.sk-toggleable__control:checked~label.sk-toggleable__label {background-color: #d4ebff;}#sk-container-id-1 div.sk-label input.sk-toggleable__control:checked~label.sk-toggleable__label {background-color: #d4ebff;}#sk-container-id-1 input.sk-hidden--visually {border: 0;clip: rect(1px 1px 1px 1px);clip: rect(1px, 1px, 1px, 1px);height: 1px;margin: -1px;overflow: hidden;padding: 0;position: absolute;width: 1px;}#sk-container-id-1 div.sk-estimator {font-family: monospace;background-color: #f0f8ff;border: 1px dotted black;border-radius: 0.25em;box-sizing: border-box;margin-bottom: 0.5em;}#sk-container-id-1 div.sk-estimator:hover {background-color: #d4ebff;}#sk-container-id-1 div.sk-parallel-item::after {content: \"\";width: 100%;border-bottom: 1px solid gray;flex-grow: 1;}#sk-container-id-1 div.sk-label:hover label.sk-toggleable__label {background-color: #d4ebff;}#sk-container-id-1 div.sk-serial::before {content: \"\";position: absolute;border-left: 1px solid gray;box-sizing: border-box;top: 0;bottom: 0;left: 50%;z-index: 0;}#sk-container-id-1 div.sk-serial {display: flex;flex-direction: column;align-items: center;background-color: white;padding-right: 0.2em;padding-left: 0.2em;position: relative;}#sk-container-id-1 div.sk-item {position: relative;z-index: 1;}#sk-container-id-1 div.sk-parallel {display: flex;align-items: stretch;justify-content: center;background-color: white;position: relative;}#sk-container-id-1 div.sk-item::before, #sk-container-id-1 div.sk-parallel-item::before {content: \"\";position: absolute;border-left: 1px solid gray;box-sizing: border-box;top: 0;bottom: 0;left: 50%;z-index: -1;}#sk-container-id-1 div.sk-parallel-item {display: flex;flex-direction: column;z-index: 1;position: relative;background-color: white;}#sk-container-id-1 div.sk-parallel-item:first-child::after {align-self: flex-end;width: 50%;}#sk-container-id-1 div.sk-parallel-item:last-child::after {align-self: flex-start;width: 50%;}#sk-container-id-1 div.sk-parallel-item:only-child::after {width: 0;}#sk-container-id-1 div.sk-dashed-wrapped {border: 1px dashed gray;margin: 0 0.4em 0.5em 0.4em;box-sizing: border-box;padding-bottom: 0.4em;background-color: white;}#sk-container-id-1 div.sk-label label {font-family: monospace;font-weight: bold;display: inline-block;line-height: 1.2em;}#sk-container-id-1 div.sk-label-container {text-align: center;}#sk-container-id-1 div.sk-container {/* jupyter's `normalize.less` sets `[hidden] { display: none; }` but bootstrap.min.css set `[hidden] { display: none !important; }` so we also need the `!important` here to be able to override the default hidden behavior on the sphinx rendered scikit-learn.org. See: https://github.com/scikit-learn/scikit-learn/issues/21755 */display: inline-block !important;position: relative;}#sk-container-id-1 div.sk-text-repr-fallback {display: none;}</style><div id=\"sk-container-id-1\" class=\"sk-top-container\"><div class=\"sk-text-repr-fallback\"><pre>AdaBoostClassifier(estimator=LogisticRegression(C=5, max_iter=100000,\n",
       "                                                solver=&#x27;saga&#x27;))</pre><b>In a Jupyter environment, please rerun this cell to show the HTML representation or trust the notebook. <br />On GitHub, the HTML representation is unable to render, please try loading this page with nbviewer.org.</b></div><div class=\"sk-container\" hidden><div class=\"sk-item sk-dashed-wrapped\"><div class=\"sk-label-container\"><div class=\"sk-label sk-toggleable\"><input class=\"sk-toggleable__control sk-hidden--visually\" id=\"sk-estimator-id-1\" type=\"checkbox\" ><label for=\"sk-estimator-id-1\" class=\"sk-toggleable__label sk-toggleable__label-arrow\">AdaBoostClassifier</label><div class=\"sk-toggleable__content\"><pre>AdaBoostClassifier(estimator=LogisticRegression(C=5, max_iter=100000,\n",
       "                                                solver=&#x27;saga&#x27;))</pre></div></div></div><div class=\"sk-parallel\"><div class=\"sk-parallel-item\"><div class=\"sk-item\"><div class=\"sk-label-container\"><div class=\"sk-label sk-toggleable\"><input class=\"sk-toggleable__control sk-hidden--visually\" id=\"sk-estimator-id-2\" type=\"checkbox\" ><label for=\"sk-estimator-id-2\" class=\"sk-toggleable__label sk-toggleable__label-arrow\">estimator: LogisticRegression</label><div class=\"sk-toggleable__content\"><pre>LogisticRegression(C=5, max_iter=100000, solver=&#x27;saga&#x27;)</pre></div></div></div><div class=\"sk-serial\"><div class=\"sk-item\"><div class=\"sk-estimator sk-toggleable\"><input class=\"sk-toggleable__control sk-hidden--visually\" id=\"sk-estimator-id-3\" type=\"checkbox\" ><label for=\"sk-estimator-id-3\" class=\"sk-toggleable__label sk-toggleable__label-arrow\">LogisticRegression</label><div class=\"sk-toggleable__content\"><pre>LogisticRegression(C=5, max_iter=100000, solver=&#x27;saga&#x27;)</pre></div></div></div></div></div></div></div></div></div></div>"
      ],
      "text/plain": [
       "AdaBoostClassifier(estimator=LogisticRegression(C=5, max_iter=100000,\n",
       "                                                solver='saga'))"
      ]
     },
     "execution_count": 190,
     "metadata": {},
     "output_type": "execute_result"
    }
   ],
   "source": [
    "adc = AdaBoostClassifier(estimator=LogisticRegression(C=5, solver=\"saga\", max_iter=100000), n_estimators=50)\n",
    "adc"
   ]
  },
  {
   "cell_type": "code",
   "execution_count": 191,
   "id": "da3a2600",
   "metadata": {
    "execution": {
     "iopub.execute_input": "2023-08-22T19:53:56.204358Z",
     "iopub.status.busy": "2023-08-22T19:53:56.203957Z",
     "iopub.status.idle": "2023-08-22T19:53:56.208193Z",
     "shell.execute_reply": "2023-08-22T19:53:56.207150Z"
    },
    "papermill": {
     "duration": 0.133505,
     "end_time": "2023-08-22T19:53:56.211104",
     "exception": false,
     "start_time": "2023-08-22T19:53:56.077599",
     "status": "completed"
    },
    "tags": []
   },
   "outputs": [],
   "source": [
    "# submit_v4(selected_model=adc,\n",
    "#           selected_features={'cat': ['isFrequentReviewer']},\n",
    "#           param_grid=None,\n",
    "#           vocab=rfe_vocab)"
   ]
  },
  {
   "cell_type": "code",
   "execution_count": 192,
   "id": "ae8555f2",
   "metadata": {
    "execution": {
     "iopub.execute_input": "2023-08-22T19:53:56.449621Z",
     "iopub.status.busy": "2023-08-22T19:53:56.449235Z",
     "iopub.status.idle": "2023-08-22T19:53:56.453860Z",
     "shell.execute_reply": "2023-08-22T19:53:56.452764Z"
    },
    "papermill": {
     "duration": 0.125965,
     "end_time": "2023-08-22T19:53:56.456054",
     "exception": false,
     "start_time": "2023-08-22T19:53:56.330089",
     "status": "completed"
    },
    "tags": []
   },
   "outputs": [],
   "source": [
    "# AdaBoost on all features with RFE vocab on reviewText\n",
    "\n",
    "# submit_v4(selected_model=adc,\n",
    "#           selected_features=all_dict,\n",
    "#           param_grid=None,\n",
    "#           vocab=rfe_vocab)"
   ]
  },
  {
   "cell_type": "code",
   "execution_count": 193,
   "id": "88bbcac5",
   "metadata": {
    "execution": {
     "iopub.execute_input": "2023-08-22T19:53:56.694607Z",
     "iopub.status.busy": "2023-08-22T19:53:56.693760Z",
     "iopub.status.idle": "2023-08-22T19:53:56.698418Z",
     "shell.execute_reply": "2023-08-22T19:53:56.697651Z"
    },
    "papermill": {
     "duration": 0.126251,
     "end_time": "2023-08-22T19:53:56.700592",
     "exception": false,
     "start_time": "2023-08-22T19:53:56.574341",
     "status": "completed"
    },
    "tags": []
   },
   "outputs": [],
   "source": [
    "# RandomForestClassifier test run on one feature\n",
    "\n",
    "# rfc_2 = RandomForestClassifier()\n",
    "# rfc_2"
   ]
  },
  {
   "cell_type": "code",
   "execution_count": 194,
   "id": "f99a362a",
   "metadata": {
    "execution": {
     "iopub.execute_input": "2023-08-22T19:53:56.940531Z",
     "iopub.status.busy": "2023-08-22T19:53:56.939730Z",
     "iopub.status.idle": "2023-08-22T19:53:56.944497Z",
     "shell.execute_reply": "2023-08-22T19:53:56.943702Z"
    },
    "papermill": {
     "duration": 0.128481,
     "end_time": "2023-08-22T19:53:56.946796",
     "exception": false,
     "start_time": "2023-08-22T19:53:56.818315",
     "status": "completed"
    },
    "tags": []
   },
   "outputs": [],
   "source": [
    "# submit_v4(selected_model=rfc_2,\n",
    "#           selected_features={'txt': ['reviewerName']},\n",
    "#           param_grid=None,\n",
    "#           vocab=rfe_vocab)"
   ]
  },
  {
   "cell_type": "code",
   "execution_count": 195,
   "id": "7c7ea055",
   "metadata": {
    "execution": {
     "iopub.execute_input": "2023-08-22T19:53:57.192346Z",
     "iopub.status.busy": "2023-08-22T19:53:57.191919Z",
     "iopub.status.idle": "2023-08-22T19:53:57.197055Z",
     "shell.execute_reply": "2023-08-22T19:53:57.195878Z"
    },
    "papermill": {
     "duration": 0.133184,
     "end_time": "2023-08-22T19:53:57.199270",
     "exception": false,
     "start_time": "2023-08-22T19:53:57.066086",
     "status": "completed"
    },
    "tags": []
   },
   "outputs": [],
   "source": [
    "# RandomForestClassifier on all features with RFE vocab on reviewText\n",
    "\n",
    "# submit_v4(selected_model=rfc_2,\n",
    "#           selected_features=all_dict,\n",
    "#           param_grid=None,\n",
    "#           vocab=rfe_vocab)"
   ]
  },
  {
   "cell_type": "markdown",
   "id": "db6469cf",
   "metadata": {
    "papermill": {
     "duration": 0.120077,
     "end_time": "2023-08-22T19:53:57.441046",
     "exception": false,
     "start_time": "2023-08-22T19:53:57.320969",
     "status": "completed"
    },
    "tags": []
   },
   "source": [
    "## Submit_v2 for merged file models  "
   ]
  },
  {
   "cell_type": "code",
   "execution_count": 196,
   "id": "6ccb61bd",
   "metadata": {
    "execution": {
     "iopub.execute_input": "2023-08-22T19:53:57.684778Z",
     "iopub.status.busy": "2023-08-22T19:53:57.683903Z",
     "iopub.status.idle": "2023-08-22T19:53:57.691468Z",
     "shell.execute_reply": "2023-08-22T19:53:57.690441Z"
    },
    "papermill": {
     "duration": 0.132433,
     "end_time": "2023-08-22T19:53:57.693971",
     "exception": false,
     "start_time": "2023-08-22T19:53:57.561538",
     "status": "completed"
    },
    "tags": []
   },
   "outputs": [],
   "source": [
    "# def submit_v2(selected_model=pipe_final, selected_features=None):\n",
    "#     '''\n",
    "#     Note that \"selected_preprocessor\" is already used within selected_model or pipeline\n",
    "#     '''\n",
    "#     # Retrain on the whole train.csv file  \n",
    "#     merged = select_features(load_csv(\"train\"), load_csv(\"movies\"))\n",
    "#     X_train = merged.drop(labels=\"sentiment\", axis=1)\n",
    "#     y_train = merged[\"sentiment\"]\n",
    "    \n",
    "#     #Use selected features\n",
    "#     if selected_features:\n",
    "#         X_train = X_train[selected_features]\n",
    "    \n",
    "#     # Check1\n",
    "#     print(X_train.shape)\n",
    "#     print(X_train.head())\n",
    "#     try:\n",
    "#         print(selected_model.named_steps['model'].intercept_, selected_model.named_steps['model'].coef_)\n",
    "#     except:\n",
    "#         print(\"Model not trained yet!\")\n",
    "    \n",
    "#     # Fit \n",
    "#     selected_model.fit(X_train, y_train)\n",
    "    \n",
    "#     # Check2\n",
    "#     print(selected_model.named_steps['model'].intercept_, selected_model.named_steps['model'].coef_)\n",
    "    \n",
    "#     # Predict on test.csv file\n",
    "#     merged_test = select_features(load_csv(\"test\"), load_csv(\"movies\"))\n",
    "#     X_test = merged_test.copy()\n",
    "#     if selected_features:\n",
    "#         X_test = X_test[selected_features]\n",
    "    \n",
    "#     # Check3\n",
    "#     print(X_test.shape)\n",
    "#     print(X_test.head())\n",
    "    \n",
    "#     y_pred = selected_model.predict(X_test)\n",
    "    \n",
    "#     pred_df = pd.DataFrame(y_pred)\n",
    "#     pred_df.columns = [\"sentiment\"]\n",
    "#     pred_df.index.name = \"id\"\n",
    "#     pred_df.to_csv(\"submission.csv\")\n",
    "    \n",
    "#     return \"Successfully created the submission file!!!\""
   ]
  },
  {
   "cell_type": "code",
   "execution_count": 197,
   "id": "b92693a3",
   "metadata": {
    "execution": {
     "iopub.execute_input": "2023-08-22T19:53:57.935146Z",
     "iopub.status.busy": "2023-08-22T19:53:57.934693Z",
     "iopub.status.idle": "2023-08-22T19:53:57.939778Z",
     "shell.execute_reply": "2023-08-22T19:53:57.938629Z"
    },
    "papermill": {
     "duration": 0.12773,
     "end_time": "2023-08-22T19:53:57.942092",
     "exception": false,
     "start_time": "2023-08-22T19:53:57.814362",
     "status": "completed"
    },
    "tags": []
   },
   "outputs": [],
   "source": [
    "#     X_test = merged_test.copy()\n",
    "    \n",
    "#     y_pred = pipe_best4.predict(X_test)\n",
    "# #     np.unique(y_pred, return_counts=True)\n",
    "#     pred_df = pd.DataFrame(y_pred)\n",
    "#     pred_df.columns = [\"sentiment\"]\n",
    "#     pred_df.index.name = \"id\"\n",
    "#     pred_df.value_counts()"
   ]
  },
  {
   "cell_type": "code",
   "execution_count": 198,
   "id": "ef143855",
   "metadata": {
    "execution": {
     "iopub.execute_input": "2023-08-22T19:53:58.194514Z",
     "iopub.status.busy": "2023-08-22T19:53:58.193501Z",
     "iopub.status.idle": "2023-08-22T19:53:58.198291Z",
     "shell.execute_reply": "2023-08-22T19:53:58.197418Z"
    },
    "papermill": {
     "duration": 0.134472,
     "end_time": "2023-08-22T19:53:58.200552",
     "exception": false,
     "start_time": "2023-08-22T19:53:58.066080",
     "status": "completed"
    },
    "tags": []
   },
   "outputs": [],
   "source": [
    "# X_test.columns"
   ]
  },
  {
   "cell_type": "markdown",
   "id": "539b6120",
   "metadata": {
    "papermill": {
     "duration": 0.121397,
     "end_time": "2023-08-22T19:53:58.471118",
     "exception": false,
     "start_time": "2023-08-22T19:53:58.349721",
     "status": "completed"
    },
    "tags": []
   },
   "source": [
    "### Uncomment to submit using v2 of submit function  "
   ]
  },
  {
   "cell_type": "code",
   "execution_count": 199,
   "id": "2a91a731",
   "metadata": {
    "execution": {
     "iopub.execute_input": "2023-08-22T19:53:58.716435Z",
     "iopub.status.busy": "2023-08-22T19:53:58.716018Z",
     "iopub.status.idle": "2023-08-22T19:53:58.720280Z",
     "shell.execute_reply": "2023-08-22T19:53:58.719454Z"
    },
    "papermill": {
     "duration": 0.128976,
     "end_time": "2023-08-22T19:53:58.722371",
     "exception": false,
     "start_time": "2023-08-22T19:53:58.593395",
     "status": "completed"
    },
    "tags": []
   },
   "outputs": [],
   "source": [
    "# best4 = [\"audienceScore\", \"rating\", \"isFrequentReviewer\", \"reviewText\"]\n",
    "# best4"
   ]
  },
  {
   "cell_type": "code",
   "execution_count": 200,
   "id": "2d4b431c",
   "metadata": {
    "execution": {
     "iopub.execute_input": "2023-08-22T19:53:58.966798Z",
     "iopub.status.busy": "2023-08-22T19:53:58.966334Z",
     "iopub.status.idle": "2023-08-22T19:53:58.971369Z",
     "shell.execute_reply": "2023-08-22T19:53:58.970046Z"
    },
    "papermill": {
     "duration": 0.130207,
     "end_time": "2023-08-22T19:53:58.973841",
     "exception": false,
     "start_time": "2023-08-22T19:53:58.843634",
     "status": "completed"
    },
    "tags": []
   },
   "outputs": [],
   "source": [
    "# submit_v2(selected_model=pipe_RTonly, selected_features=['reviewText'])"
   ]
  },
  {
   "cell_type": "markdown",
   "id": "294df48c",
   "metadata": {
    "papermill": {
     "duration": 0.12435,
     "end_time": "2023-08-22T19:53:59.219795",
     "exception": false,
     "start_time": "2023-08-22T19:53:59.095445",
     "status": "completed"
    },
    "tags": []
   },
   "source": [
    "### Inspect the submission.csv file  "
   ]
  },
  {
   "cell_type": "code",
   "execution_count": 201,
   "id": "67f02358",
   "metadata": {
    "execution": {
     "iopub.execute_input": "2023-08-22T19:53:59.466101Z",
     "iopub.status.busy": "2023-08-22T19:53:59.465381Z",
     "iopub.status.idle": "2023-08-22T19:53:59.470273Z",
     "shell.execute_reply": "2023-08-22T19:53:59.469086Z"
    },
    "papermill": {
     "duration": 0.129817,
     "end_time": "2023-08-22T19:53:59.472634",
     "exception": false,
     "start_time": "2023-08-22T19:53:59.342817",
     "status": "completed"
    },
    "tags": []
   },
   "outputs": [],
   "source": [
    "# sub = pd.read_csv('submission.csv')\n",
    "# sub.shape, sub.head()"
   ]
  },
  {
   "cell_type": "code",
   "execution_count": 202,
   "id": "5b43c463",
   "metadata": {
    "execution": {
     "iopub.execute_input": "2023-08-22T19:53:59.715407Z",
     "iopub.status.busy": "2023-08-22T19:53:59.714994Z",
     "iopub.status.idle": "2023-08-22T19:53:59.719666Z",
     "shell.execute_reply": "2023-08-22T19:53:59.718539Z"
    },
    "papermill": {
     "duration": 0.12924,
     "end_time": "2023-08-22T19:53:59.722038",
     "exception": false,
     "start_time": "2023-08-22T19:53:59.592798",
     "status": "completed"
    },
    "tags": []
   },
   "outputs": [],
   "source": [
    "# sub['sentiment'].value_counts()"
   ]
  },
  {
   "cell_type": "markdown",
   "id": "a892db94",
   "metadata": {
    "papermill": {
     "duration": 0.119095,
     "end_time": "2023-08-22T19:53:59.961573",
     "exception": false,
     "start_time": "2023-08-22T19:53:59.842478",
     "status": "completed"
    },
    "tags": []
   },
   "source": [
    "## submit_v3 for merged file models - does not retrain on whole data  "
   ]
  },
  {
   "cell_type": "code",
   "execution_count": 203,
   "id": "676c96e5",
   "metadata": {
    "execution": {
     "iopub.execute_input": "2023-08-22T19:54:00.208935Z",
     "iopub.status.busy": "2023-08-22T19:54:00.208499Z",
     "iopub.status.idle": "2023-08-22T19:54:00.212862Z",
     "shell.execute_reply": "2023-08-22T19:54:00.212028Z"
    },
    "papermill": {
     "duration": 0.131624,
     "end_time": "2023-08-22T19:54:00.215290",
     "exception": false,
     "start_time": "2023-08-22T19:54:00.083666",
     "status": "completed"
    },
    "tags": []
   },
   "outputs": [],
   "source": [
    "# def submit_v3(selected_model=pipe_final):\n",
    "#     '''\n",
    "#     Note that \"selected_preprocessor\" is already used within selected_model or pipeline\n",
    "#     '''\n",
    "      \n",
    "#     # Predict on test.csv file\n",
    "#     merged_test = select_features(load_csv(\"test\"), load_csv(\"movies\"))\n",
    "#     X_test = merged_test.copy()\n",
    "    \n",
    "#     X_test = X_test[[\"audienceScore\", \"rating\", \"isFrequentReviewer\", \"reviewText\"]]    # This is a new line\n",
    "\n",
    "    \n",
    "#     y_pred = selected_model.predict(X_test)\n",
    "    \n",
    "#     pred_df = pd.DataFrame(y_pred)\n",
    "#     pred_df.columns = [\"sentiment\"]\n",
    "#     pred_df.index.name = \"id\"\n",
    "#     pred_df.to_csv(\"submission.csv\")\n",
    "    \n",
    "#     return \"Successfully created the submission file!!!\""
   ]
  },
  {
   "cell_type": "markdown",
   "id": "e2d76ace",
   "metadata": {
    "papermill": {
     "duration": 0.119791,
     "end_time": "2023-08-22T19:54:00.458154",
     "exception": false,
     "start_time": "2023-08-22T19:54:00.338363",
     "status": "completed"
    },
    "tags": []
   },
   "source": [
    "### Uncomment to submit using v3 of submit function  "
   ]
  },
  {
   "cell_type": "code",
   "execution_count": 204,
   "id": "9b1ac995",
   "metadata": {
    "execution": {
     "iopub.execute_input": "2023-08-22T19:54:00.701483Z",
     "iopub.status.busy": "2023-08-22T19:54:00.701057Z",
     "iopub.status.idle": "2023-08-22T19:54:00.706396Z",
     "shell.execute_reply": "2023-08-22T19:54:00.704988Z"
    },
    "papermill": {
     "duration": 0.130729,
     "end_time": "2023-08-22T19:54:00.708831",
     "exception": false,
     "start_time": "2023-08-22T19:54:00.578102",
     "status": "completed"
    },
    "tags": []
   },
   "outputs": [],
   "source": [
    "# submit_v3(selected_model=pipe_best4)"
   ]
  },
  {
   "cell_type": "markdown",
   "id": "d81669dc",
   "metadata": {
    "papermill": {
     "duration": 0.119478,
     "end_time": "2023-08-22T19:54:00.949455",
     "exception": false,
     "start_time": "2023-08-22T19:54:00.829977",
     "status": "completed"
    },
    "tags": []
   },
   "source": [
    "## Rough work  "
   ]
  },
  {
   "cell_type": "code",
   "execution_count": 205,
   "id": "4d029397",
   "metadata": {
    "execution": {
     "iopub.execute_input": "2023-08-22T19:54:01.193823Z",
     "iopub.status.busy": "2023-08-22T19:54:01.193375Z",
     "iopub.status.idle": "2023-08-22T19:54:07.732071Z",
     "shell.execute_reply": "2023-08-22T19:54:07.730747Z"
    },
    "papermill": {
     "duration": 6.664819,
     "end_time": "2023-08-22T19:54:07.735188",
     "exception": false,
     "start_time": "2023-08-22T19:54:01.070369",
     "status": "completed"
    },
    "tags": []
   },
   "outputs": [],
   "source": [
    "    # Predict on test.csv file\n",
    "    merged_test = select_features(load_csv(\"test\"), load_csv(\"movies\"))\n",
    "    X_test = merged_test.copy()\n",
    "    \n",
    "    X_test = X_test[[\"audienceScore\", \"rating\", \"isFrequentReviewer\", \"reviewText\"]]    # This is a new line"
   ]
  },
  {
   "cell_type": "code",
   "execution_count": 206,
   "id": "0923492c",
   "metadata": {
    "execution": {
     "iopub.execute_input": "2023-08-22T19:54:07.974205Z",
     "iopub.status.busy": "2023-08-22T19:54:07.973472Z",
     "iopub.status.idle": "2023-08-22T19:54:07.979045Z",
     "shell.execute_reply": "2023-08-22T19:54:07.977649Z"
    },
    "papermill": {
     "duration": 0.127398,
     "end_time": "2023-08-22T19:54:07.981592",
     "exception": false,
     "start_time": "2023-08-22T19:54:07.854194",
     "status": "completed"
    },
    "tags": []
   },
   "outputs": [],
   "source": [
    "# X_test.head()"
   ]
  },
  {
   "cell_type": "code",
   "execution_count": 207,
   "id": "73451d85",
   "metadata": {
    "execution": {
     "iopub.execute_input": "2023-08-22T19:54:08.319927Z",
     "iopub.status.busy": "2023-08-22T19:54:08.319473Z",
     "iopub.status.idle": "2023-08-22T19:54:08.324849Z",
     "shell.execute_reply": "2023-08-22T19:54:08.323282Z"
    },
    "papermill": {
     "duration": 0.226469,
     "end_time": "2023-08-22T19:54:08.328165",
     "exception": false,
     "start_time": "2023-08-22T19:54:08.101696",
     "status": "completed"
    },
    "tags": []
   },
   "outputs": [],
   "source": [
    "# X_test['audienceScore'].describe()"
   ]
  },
  {
   "cell_type": "code",
   "execution_count": 208,
   "id": "5f313d7f",
   "metadata": {
    "execution": {
     "iopub.execute_input": "2023-08-22T19:54:08.569299Z",
     "iopub.status.busy": "2023-08-22T19:54:08.568849Z",
     "iopub.status.idle": "2023-08-22T19:54:08.574174Z",
     "shell.execute_reply": "2023-08-22T19:54:08.572907Z"
    },
    "papermill": {
     "duration": 0.127697,
     "end_time": "2023-08-22T19:54:08.576650",
     "exception": false,
     "start_time": "2023-08-22T19:54:08.448953",
     "status": "completed"
    },
    "tags": []
   },
   "outputs": [],
   "source": [
    "# X_test['rating'].value_counts()"
   ]
  },
  {
   "cell_type": "code",
   "execution_count": 209,
   "id": "84fe17d3",
   "metadata": {
    "execution": {
     "iopub.execute_input": "2023-08-22T19:54:08.818441Z",
     "iopub.status.busy": "2023-08-22T19:54:08.818037Z",
     "iopub.status.idle": "2023-08-22T19:54:08.822131Z",
     "shell.execute_reply": "2023-08-22T19:54:08.821341Z"
    },
    "papermill": {
     "duration": 0.126645,
     "end_time": "2023-08-22T19:54:08.824286",
     "exception": false,
     "start_time": "2023-08-22T19:54:08.697641",
     "status": "completed"
    },
    "tags": []
   },
   "outputs": [],
   "source": [
    "# X_test['isFrequentReviewer'].value_counts()"
   ]
  },
  {
   "cell_type": "markdown",
   "id": "14ac0796",
   "metadata": {
    "papermill": {
     "duration": 0.118609,
     "end_time": "2023-08-22T19:54:09.061736",
     "exception": false,
     "start_time": "2023-08-22T19:54:08.943127",
     "status": "completed"
    },
    "tags": []
   },
   "source": [
    "## Implement KNN classifier  "
   ]
  },
  {
   "cell_type": "code",
   "execution_count": 210,
   "id": "693e9826",
   "metadata": {
    "execution": {
     "iopub.execute_input": "2023-08-22T19:54:09.302326Z",
     "iopub.status.busy": "2023-08-22T19:54:09.301910Z",
     "iopub.status.idle": "2023-08-22T19:54:09.306909Z",
     "shell.execute_reply": "2023-08-22T19:54:09.305710Z"
    },
    "papermill": {
     "duration": 0.129417,
     "end_time": "2023-08-22T19:54:09.309227",
     "exception": false,
     "start_time": "2023-08-22T19:54:09.179810",
     "status": "completed"
    },
    "tags": []
   },
   "outputs": [],
   "source": [
    "# from sklearn.neighbors import KNeighborsClassifier"
   ]
  },
  {
   "cell_type": "code",
   "execution_count": 211,
   "id": "8bd7b4ff",
   "metadata": {
    "execution": {
     "iopub.execute_input": "2023-08-22T19:54:09.554422Z",
     "iopub.status.busy": "2023-08-22T19:54:09.553996Z",
     "iopub.status.idle": "2023-08-22T19:54:09.559124Z",
     "shell.execute_reply": "2023-08-22T19:54:09.557880Z"
    },
    "papermill": {
     "duration": 0.129928,
     "end_time": "2023-08-22T19:54:09.561616",
     "exception": false,
     "start_time": "2023-08-22T19:54:09.431688",
     "status": "completed"
    },
    "tags": []
   },
   "outputs": [],
   "source": [
    "# Note that we are borrowing \"ct_final\" column transformer from above  "
   ]
  },
  {
   "cell_type": "code",
   "execution_count": 212,
   "id": "082deb9f",
   "metadata": {
    "execution": {
     "iopub.execute_input": "2023-08-22T19:54:09.807881Z",
     "iopub.status.busy": "2023-08-22T19:54:09.807423Z",
     "iopub.status.idle": "2023-08-22T19:54:09.812814Z",
     "shell.execute_reply": "2023-08-22T19:54:09.811539Z"
    },
    "papermill": {
     "duration": 0.130075,
     "end_time": "2023-08-22T19:54:09.815156",
     "exception": false,
     "start_time": "2023-08-22T19:54:09.685081",
     "status": "completed"
    },
    "tags": []
   },
   "outputs": [],
   "source": [
    "# pipe_knn = Pipeline(steps=[\n",
    "#                         (\"preprocessor\", ct_final),\n",
    "#                         (\"model\", KNeighborsClassifier())\n",
    "#                     ])\n",
    "# pipe_knn"
   ]
  },
  {
   "cell_type": "code",
   "execution_count": 213,
   "id": "1e5b1ec7",
   "metadata": {
    "execution": {
     "iopub.execute_input": "2023-08-22T19:54:10.061871Z",
     "iopub.status.busy": "2023-08-22T19:54:10.061425Z",
     "iopub.status.idle": "2023-08-22T19:54:10.066556Z",
     "shell.execute_reply": "2023-08-22T19:54:10.065144Z"
    },
    "papermill": {
     "duration": 0.129849,
     "end_time": "2023-08-22T19:54:10.069008",
     "exception": false,
     "start_time": "2023-08-22T19:54:09.939159",
     "status": "completed"
    },
    "tags": []
   },
   "outputs": [],
   "source": [
    "# Train and predict on merged training data  \n",
    "# split_train_predict(merged_train_features, merged_train_labels, pipe_knn, test_size=0.25, random_state=42)"
   ]
  },
  {
   "cell_type": "markdown",
   "id": "c809ae44",
   "metadata": {
    "papermill": {
     "duration": 0.122945,
     "end_time": "2023-08-22T19:54:10.316646",
     "exception": false,
     "start_time": "2023-08-22T19:54:10.193701",
     "status": "completed"
    },
    "tags": []
   },
   "source": [
    "# Part I (Older code)  "
   ]
  },
  {
   "cell_type": "markdown",
   "id": "a231bcd4",
   "metadata": {
    "papermill": {
     "duration": 0.117158,
     "end_time": "2023-08-22T19:54:10.554768",
     "exception": false,
     "start_time": "2023-08-22T19:54:10.437610",
     "status": "completed"
    },
    "tags": []
   },
   "source": [
    "### Logistic Regression with stop words  "
   ]
  },
  {
   "cell_type": "code",
   "execution_count": 214,
   "id": "c79c345a",
   "metadata": {
    "execution": {
     "iopub.execute_input": "2023-08-22T19:54:10.792768Z",
     "iopub.status.busy": "2023-08-22T19:54:10.792333Z",
     "iopub.status.idle": "2023-08-22T19:54:10.797340Z",
     "shell.execute_reply": "2023-08-22T19:54:10.795959Z"
    },
    "papermill": {
     "duration": 0.128007,
     "end_time": "2023-08-22T19:54:10.800093",
     "exception": false,
     "start_time": "2023-08-22T19:54:10.672086",
     "status": "completed"
    },
    "tags": []
   },
   "outputs": [],
   "source": [
    "# tvec_sw = TfidfVectorizer(stop_words=stop_words)"
   ]
  },
  {
   "cell_type": "code",
   "execution_count": 215,
   "id": "e618e481",
   "metadata": {
    "execution": {
     "iopub.execute_input": "2023-08-22T19:54:11.046434Z",
     "iopub.status.busy": "2023-08-22T19:54:11.044934Z",
     "iopub.status.idle": "2023-08-22T19:54:11.050120Z",
     "shell.execute_reply": "2023-08-22T19:54:11.049242Z"
    },
    "papermill": {
     "duration": 0.129497,
     "end_time": "2023-08-22T19:54:11.052313",
     "exception": false,
     "start_time": "2023-08-22T19:54:10.922816",
     "status": "completed"
    },
    "tags": []
   },
   "outputs": [],
   "source": [
    "# logreg_sw_pipe = preprocess_n_train(X_train, y_train, tvec_sw, logreg)\n",
    "# logreg_sw_pipe"
   ]
  },
  {
   "cell_type": "code",
   "execution_count": 216,
   "id": "315d4c8f",
   "metadata": {
    "execution": {
     "iopub.execute_input": "2023-08-22T19:54:11.292872Z",
     "iopub.status.busy": "2023-08-22T19:54:11.292042Z",
     "iopub.status.idle": "2023-08-22T19:54:11.296664Z",
     "shell.execute_reply": "2023-08-22T19:54:11.295734Z"
    },
    "papermill": {
     "duration": 0.127475,
     "end_time": "2023-08-22T19:54:11.298885",
     "exception": false,
     "start_time": "2023-08-22T19:54:11.171410",
     "status": "completed"
    },
    "tags": []
   },
   "outputs": [],
   "source": [
    "# y_pred_logreg_sw = predict_n_evaluate(logreg_sw_pipe, X_test, y_test)\n",
    "# y_pred_logreg_sw"
   ]
  },
  {
   "cell_type": "markdown",
   "id": "79eef022",
   "metadata": {
    "papermill": {
     "duration": 0.118233,
     "end_time": "2023-08-22T19:54:11.536778",
     "exception": false,
     "start_time": "2023-08-22T19:54:11.418545",
     "status": "completed"
    },
    "tags": []
   },
   "source": [
    "### Logistic regression with different ngram ranges  "
   ]
  },
  {
   "cell_type": "code",
   "execution_count": 217,
   "id": "6eee0968",
   "metadata": {
    "execution": {
     "iopub.execute_input": "2023-08-22T19:54:11.773646Z",
     "iopub.status.busy": "2023-08-22T19:54:11.772826Z",
     "iopub.status.idle": "2023-08-22T19:54:11.777190Z",
     "shell.execute_reply": "2023-08-22T19:54:11.776411Z"
    },
    "papermill": {
     "duration": 0.125423,
     "end_time": "2023-08-22T19:54:11.779260",
     "exception": false,
     "start_time": "2023-08-22T19:54:11.653837",
     "status": "completed"
    },
    "tags": []
   },
   "outputs": [],
   "source": [
    "# tvec_ngram_2 = TfidfVectorizer(ngram_range=(1,2))"
   ]
  },
  {
   "cell_type": "code",
   "execution_count": 218,
   "id": "13f92b45",
   "metadata": {
    "execution": {
     "iopub.execute_input": "2023-08-22T19:54:12.016822Z",
     "iopub.status.busy": "2023-08-22T19:54:12.016017Z",
     "iopub.status.idle": "2023-08-22T19:54:12.020707Z",
     "shell.execute_reply": "2023-08-22T19:54:12.019258Z"
    },
    "papermill": {
     "duration": 0.126074,
     "end_time": "2023-08-22T19:54:12.023069",
     "exception": false,
     "start_time": "2023-08-22T19:54:11.896995",
     "status": "completed"
    },
    "tags": []
   },
   "outputs": [],
   "source": [
    "# logreg_ng2_pipe = preprocess_n_train(X_train, y_train, tvec_ngram_2, logreg)\n",
    "# logreg_ng2_pipe"
   ]
  },
  {
   "cell_type": "code",
   "execution_count": 219,
   "id": "a7012cda",
   "metadata": {
    "execution": {
     "iopub.execute_input": "2023-08-22T19:54:12.336922Z",
     "iopub.status.busy": "2023-08-22T19:54:12.336261Z",
     "iopub.status.idle": "2023-08-22T19:54:12.340571Z",
     "shell.execute_reply": "2023-08-22T19:54:12.339261Z"
    },
    "papermill": {
     "duration": 0.201252,
     "end_time": "2023-08-22T19:54:12.342796",
     "exception": false,
     "start_time": "2023-08-22T19:54:12.141544",
     "status": "completed"
    },
    "tags": []
   },
   "outputs": [],
   "source": [
    "# y_pred_logreg_ng2 = predict_n_evaluate(logreg_ng2_pipe, X_test, y_test)\n",
    "# y_pred_logreg_ng2"
   ]
  },
  {
   "cell_type": "markdown",
   "id": "7e549f8e",
   "metadata": {
    "papermill": {
     "duration": 0.122962,
     "end_time": "2023-08-22T19:54:12.586723",
     "exception": false,
     "start_time": "2023-08-22T19:54:12.463761",
     "status": "completed"
    },
    "tags": []
   },
   "source": [
    "### Logistic regression with C=2, ngram range (1,2), stop words as None and min_df, max_df adjusted\n",
    "### Class weight balanced"
   ]
  },
  {
   "cell_type": "code",
   "execution_count": 220,
   "id": "ceca5a48",
   "metadata": {
    "execution": {
     "iopub.execute_input": "2023-08-22T19:54:12.831624Z",
     "iopub.status.busy": "2023-08-22T19:54:12.830995Z",
     "iopub.status.idle": "2023-08-22T19:54:12.835108Z",
     "shell.execute_reply": "2023-08-22T19:54:12.834069Z"
    },
    "papermill": {
     "duration": 0.130793,
     "end_time": "2023-08-22T19:54:12.837713",
     "exception": false,
     "start_time": "2023-08-22T19:54:12.706920",
     "status": "completed"
    },
    "tags": []
   },
   "outputs": [],
   "source": [
    "# logreg = LogisticRegression(max_iter=100000, C=2, class_weight=\"balanced\")"
   ]
  },
  {
   "cell_type": "code",
   "execution_count": 221,
   "id": "a49d7534",
   "metadata": {
    "execution": {
     "iopub.execute_input": "2023-08-22T19:54:13.085992Z",
     "iopub.status.busy": "2023-08-22T19:54:13.085539Z",
     "iopub.status.idle": "2023-08-22T19:54:13.089377Z",
     "shell.execute_reply": "2023-08-22T19:54:13.088626Z"
    },
    "papermill": {
     "duration": 0.129633,
     "end_time": "2023-08-22T19:54:13.091664",
     "exception": false,
     "start_time": "2023-08-22T19:54:12.962031",
     "status": "completed"
    },
    "tags": []
   },
   "outputs": [],
   "source": [
    "# tvec_ngram_2_sw_df = TfidfVectorizer(ngram_range=(1,2), stop_words=None, min_df=0.0001, max_df=0.50)\n",
    "# tvec_ngram_2_sw_df"
   ]
  },
  {
   "cell_type": "code",
   "execution_count": 222,
   "id": "8de8fb8c",
   "metadata": {
    "execution": {
     "iopub.execute_input": "2023-08-22T19:54:13.342137Z",
     "iopub.status.busy": "2023-08-22T19:54:13.341480Z",
     "iopub.status.idle": "2023-08-22T19:54:13.345187Z",
     "shell.execute_reply": "2023-08-22T19:54:13.344442Z"
    },
    "papermill": {
     "duration": 0.131933,
     "end_time": "2023-08-22T19:54:13.347314",
     "exception": false,
     "start_time": "2023-08-22T19:54:13.215381",
     "status": "completed"
    },
    "tags": []
   },
   "outputs": [],
   "source": [
    "# logreg_ng2_sw_df_pipe = preprocess_n_train(X_train, y_train, tvec_ngram_2_sw_df, logreg)\n",
    "# logreg_ng2_sw_df_pipe"
   ]
  },
  {
   "cell_type": "code",
   "execution_count": 223,
   "id": "c81b74f8",
   "metadata": {
    "execution": {
     "iopub.execute_input": "2023-08-22T19:54:13.591314Z",
     "iopub.status.busy": "2023-08-22T19:54:13.590432Z",
     "iopub.status.idle": "2023-08-22T19:54:13.594887Z",
     "shell.execute_reply": "2023-08-22T19:54:13.593854Z"
    },
    "papermill": {
     "duration": 0.128977,
     "end_time": "2023-08-22T19:54:13.597203",
     "exception": false,
     "start_time": "2023-08-22T19:54:13.468226",
     "status": "completed"
    },
    "tags": []
   },
   "outputs": [],
   "source": [
    "# y_pred_logreg_ng2_sw_df = predict_n_evaluate(logreg_ng2_sw_df_pipe, X_test, y_test)\n",
    "# y_pred_logreg_ng2_sw_df"
   ]
  },
  {
   "cell_type": "markdown",
   "id": "dc02dd06",
   "metadata": {
    "papermill": {
     "duration": 0.120586,
     "end_time": "2023-08-22T19:54:13.839635",
     "exception": false,
     "start_time": "2023-08-22T19:54:13.719049",
     "status": "completed"
    },
    "tags": []
   },
   "source": [
    "### Log reg with parameters from GridSearchCV  \n",
    "\n",
    "`This is the best score with \"reviewText column alone for analysis`  "
   ]
  },
  {
   "cell_type": "code",
   "execution_count": 224,
   "id": "c29f0275",
   "metadata": {
    "execution": {
     "iopub.execute_input": "2023-08-22T19:54:14.085870Z",
     "iopub.status.busy": "2023-08-22T19:54:14.085167Z",
     "iopub.status.idle": "2023-08-22T19:54:14.090128Z",
     "shell.execute_reply": "2023-08-22T19:54:14.089068Z"
    },
    "papermill": {
     "duration": 0.129897,
     "end_time": "2023-08-22T19:54:14.092398",
     "exception": false,
     "start_time": "2023-08-22T19:54:13.962501",
     "status": "completed"
    },
    "tags": []
   },
   "outputs": [],
   "source": [
    "logreg_cv1 = LogisticRegression(max_iter=100000, C=10)\n",
    "tvec_cv1 = TfidfVectorizer(max_features=None, ngram_range=(1,2))"
   ]
  },
  {
   "cell_type": "code",
   "execution_count": 225,
   "id": "ad2d41eb",
   "metadata": {
    "execution": {
     "iopub.execute_input": "2023-08-22T19:54:14.336644Z",
     "iopub.status.busy": "2023-08-22T19:54:14.336052Z",
     "iopub.status.idle": "2023-08-22T19:54:14.340373Z",
     "shell.execute_reply": "2023-08-22T19:54:14.339562Z"
    },
    "papermill": {
     "duration": 0.128526,
     "end_time": "2023-08-22T19:54:14.342883",
     "exception": false,
     "start_time": "2023-08-22T19:54:14.214357",
     "status": "completed"
    },
    "tags": []
   },
   "outputs": [],
   "source": [
    "pipe_cv1 = Pipeline(steps=[\n",
    "    (\"preprocessor\", tvec_cv1),\n",
    "    (\"model\", logreg_cv1)\n",
    "])"
   ]
  },
  {
   "cell_type": "code",
   "execution_count": 226,
   "id": "354cd86e",
   "metadata": {
    "execution": {
     "iopub.execute_input": "2023-08-22T19:54:14.589359Z",
     "iopub.status.busy": "2023-08-22T19:54:14.588719Z",
     "iopub.status.idle": "2023-08-22T19:54:14.593125Z",
     "shell.execute_reply": "2023-08-22T19:54:14.592099Z"
    },
    "papermill": {
     "duration": 0.130969,
     "end_time": "2023-08-22T19:54:14.595513",
     "exception": false,
     "start_time": "2023-08-22T19:54:14.464544",
     "status": "completed"
    },
    "tags": []
   },
   "outputs": [],
   "source": [
    "# pipe_cv1.fit(X_train, y_train)"
   ]
  },
  {
   "cell_type": "code",
   "execution_count": 227,
   "id": "d260e8c8",
   "metadata": {
    "execution": {
     "iopub.execute_input": "2023-08-22T19:54:14.838804Z",
     "iopub.status.busy": "2023-08-22T19:54:14.838081Z",
     "iopub.status.idle": "2023-08-22T19:54:14.843229Z",
     "shell.execute_reply": "2023-08-22T19:54:14.841894Z"
    },
    "papermill": {
     "duration": 0.12996,
     "end_time": "2023-08-22T19:54:14.845806",
     "exception": false,
     "start_time": "2023-08-22T19:54:14.715846",
     "status": "completed"
    },
    "tags": []
   },
   "outputs": [],
   "source": [
    "# pipe_cv1.score(X_train, y_train)"
   ]
  },
  {
   "cell_type": "markdown",
   "id": "329aa4f7",
   "metadata": {
    "papermill": {
     "duration": 0.121093,
     "end_time": "2023-08-22T19:54:15.091650",
     "exception": false,
     "start_time": "2023-08-22T19:54:14.970557",
     "status": "completed"
    },
    "tags": []
   },
   "source": [
    "### SVM model with stop words  "
   ]
  },
  {
   "cell_type": "code",
   "execution_count": 228,
   "id": "0eea67b0",
   "metadata": {
    "execution": {
     "iopub.execute_input": "2023-08-22T19:54:15.352644Z",
     "iopub.status.busy": "2023-08-22T19:54:15.352236Z",
     "iopub.status.idle": "2023-08-22T19:54:15.357341Z",
     "shell.execute_reply": "2023-08-22T19:54:15.355969Z"
    },
    "papermill": {
     "duration": 0.146921,
     "end_time": "2023-08-22T19:54:15.359535",
     "exception": false,
     "start_time": "2023-08-22T19:54:15.212614",
     "status": "completed"
    },
    "tags": []
   },
   "outputs": [],
   "source": [
    "# svm_sw_pipe = preprocess_n_train(X_train, y_train, tvec_sw, svm)\n",
    "# svm_sw_pipe"
   ]
  },
  {
   "cell_type": "code",
   "execution_count": 229,
   "id": "5f791920",
   "metadata": {
    "execution": {
     "iopub.execute_input": "2023-08-22T19:54:15.617026Z",
     "iopub.status.busy": "2023-08-22T19:54:15.616156Z",
     "iopub.status.idle": "2023-08-22T19:54:15.620936Z",
     "shell.execute_reply": "2023-08-22T19:54:15.620139Z"
    },
    "papermill": {
     "duration": 0.137057,
     "end_time": "2023-08-22T19:54:15.623194",
     "exception": false,
     "start_time": "2023-08-22T19:54:15.486137",
     "status": "completed"
    },
    "tags": []
   },
   "outputs": [],
   "source": [
    "# y_pred_svm_sw = predict_n_evaluate(svm_sw_pipe, X_test, y_test)\n",
    "# y_pred_svm_sw"
   ]
  },
  {
   "cell_type": "markdown",
   "id": "38c311bf",
   "metadata": {
    "papermill": {
     "duration": 0.118544,
     "end_time": "2023-08-22T19:54:15.877227",
     "exception": false,
     "start_time": "2023-08-22T19:54:15.758683",
     "status": "completed"
    },
    "tags": []
   },
   "source": [
    "### GaussianNB  "
   ]
  },
  {
   "cell_type": "markdown",
   "id": "21fc7276",
   "metadata": {
    "papermill": {
     "duration": 0.118179,
     "end_time": "2023-08-22T19:54:16.116365",
     "exception": false,
     "start_time": "2023-08-22T19:54:15.998186",
     "status": "completed"
    },
    "tags": []
   },
   "source": [
    "https://stackoverflow.com/questions/28384680/scikit-learns-pipeline-a-sparse-matrix-was-passed-but-dense-data-is-required"
   ]
  },
  {
   "cell_type": "code",
   "execution_count": 230,
   "id": "fad47b86",
   "metadata": {
    "execution": {
     "iopub.execute_input": "2023-08-22T19:54:16.361125Z",
     "iopub.status.busy": "2023-08-22T19:54:16.360217Z",
     "iopub.status.idle": "2023-08-22T19:54:16.366690Z",
     "shell.execute_reply": "2023-08-22T19:54:16.365386Z"
    },
    "papermill": {
     "duration": 0.130112,
     "end_time": "2023-08-22T19:54:16.368975",
     "exception": false,
     "start_time": "2023-08-22T19:54:16.238863",
     "status": "completed"
    },
    "tags": []
   },
   "outputs": [],
   "source": [
    "# gnb = GaussianNB()\n",
    "# gnb"
   ]
  },
  {
   "cell_type": "code",
   "execution_count": 231,
   "id": "d9bbf378",
   "metadata": {
    "execution": {
     "iopub.execute_input": "2023-08-22T19:54:16.611866Z",
     "iopub.status.busy": "2023-08-22T19:54:16.610614Z",
     "iopub.status.idle": "2023-08-22T19:54:16.614946Z",
     "shell.execute_reply": "2023-08-22T19:54:16.614209Z"
    },
    "papermill": {
     "duration": 0.129489,
     "end_time": "2023-08-22T19:54:16.617026",
     "exception": false,
     "start_time": "2023-08-22T19:54:16.487537",
     "status": "completed"
    },
    "tags": []
   },
   "outputs": [],
   "source": [
    "# gnb_pipe = preprocess_n_train(X_train, y_train, tvec, gnb)\n",
    "# gnb_pipe"
   ]
  },
  {
   "cell_type": "markdown",
   "id": "37a87713",
   "metadata": {
    "papermill": {
     "duration": 0.120793,
     "end_time": "2023-08-22T19:54:16.858356",
     "exception": false,
     "start_time": "2023-08-22T19:54:16.737563",
     "status": "completed"
    },
    "tags": []
   },
   "source": [
    "# Part II (Older code)  \n"
   ]
  },
  {
   "cell_type": "markdown",
   "id": "94d798c5",
   "metadata": {
    "papermill": {
     "duration": 0.211565,
     "end_time": "2023-08-22T19:54:17.192601",
     "exception": false,
     "start_time": "2023-08-22T19:54:16.981036",
     "status": "completed"
    },
    "tags": []
   },
   "source": [
    "### Separate features and labels from merged dataset  "
   ]
  },
  {
   "cell_type": "code",
   "execution_count": 232,
   "id": "7b4f3832",
   "metadata": {
    "execution": {
     "iopub.execute_input": "2023-08-22T19:54:17.438313Z",
     "iopub.status.busy": "2023-08-22T19:54:17.437676Z",
     "iopub.status.idle": "2023-08-22T19:54:17.441621Z",
     "shell.execute_reply": "2023-08-22T19:54:17.440765Z"
    },
    "papermill": {
     "duration": 0.12758,
     "end_time": "2023-08-22T19:54:17.443721",
     "exception": false,
     "start_time": "2023-08-22T19:54:17.316141",
     "status": "completed"
    },
    "tags": []
   },
   "outputs": [],
   "source": [
    "# merged_train_features = merged[['movieid', 'reviewerName', 'isFrequentReviewer', 'reviewText',\n",
    "#        'audienceScore', 'rating', 'runtimeMinutes', 'genre',\n",
    "#        'originalLanguage', 'director']]\n",
    "# merged_train_features.shape"
   ]
  },
  {
   "cell_type": "code",
   "execution_count": 233,
   "id": "13c0ca7b",
   "metadata": {
    "execution": {
     "iopub.execute_input": "2023-08-22T19:54:17.687319Z",
     "iopub.status.busy": "2023-08-22T19:54:17.686664Z",
     "iopub.status.idle": "2023-08-22T19:54:17.690321Z",
     "shell.execute_reply": "2023-08-22T19:54:17.689616Z"
    },
    "papermill": {
     "duration": 0.127748,
     "end_time": "2023-08-22T19:54:17.692310",
     "exception": false,
     "start_time": "2023-08-22T19:54:17.564562",
     "status": "completed"
    },
    "tags": []
   },
   "outputs": [],
   "source": [
    "# merged_train_labels = merged[\"sentiment\"]\n",
    "# merged_train_labels.shape"
   ]
  },
  {
   "cell_type": "markdown",
   "id": "1d14834b",
   "metadata": {
    "papermill": {
     "duration": 0.121105,
     "end_time": "2023-08-22T19:54:17.934083",
     "exception": false,
     "start_time": "2023-08-22T19:54:17.812978",
     "status": "completed"
    },
    "tags": []
   },
   "source": [
    "### Identify variable types for different preprocessing pipes  "
   ]
  },
  {
   "cell_type": "code",
   "execution_count": 234,
   "id": "696944e9",
   "metadata": {
    "execution": {
     "iopub.execute_input": "2023-08-22T19:54:18.188179Z",
     "iopub.status.busy": "2023-08-22T19:54:18.187746Z",
     "iopub.status.idle": "2023-08-22T19:54:18.192695Z",
     "shell.execute_reply": "2023-08-22T19:54:18.191260Z"
    },
    "papermill": {
     "duration": 0.13332,
     "end_time": "2023-08-22T19:54:18.195098",
     "exception": false,
     "start_time": "2023-08-22T19:54:18.061778",
     "status": "completed"
    },
    "tags": []
   },
   "outputs": [],
   "source": [
    "# num_vars = [\"audienceScore\", \"runtimeMinutes\"]\n",
    "# txt_vars = [\"originalLanguage\", \"genre\", \"director\", \"reviewerName\", \"reviewText\"]\n",
    "# cat_vars = [\"rating\", \"isFrequentReviewer\"]"
   ]
  },
  {
   "cell_type": "code",
   "execution_count": 235,
   "id": "4da71611",
   "metadata": {
    "execution": {
     "iopub.execute_input": "2023-08-22T19:54:18.467436Z",
     "iopub.status.busy": "2023-08-22T19:54:18.466716Z",
     "iopub.status.idle": "2023-08-22T19:54:18.471455Z",
     "shell.execute_reply": "2023-08-22T19:54:18.470308Z"
    },
    "papermill": {
     "duration": 0.128951,
     "end_time": "2023-08-22T19:54:18.473802",
     "exception": false,
     "start_time": "2023-08-22T19:54:18.344851",
     "status": "completed"
    },
    "tags": []
   },
   "outputs": [],
   "source": [
    "# num_pipe = Pipeline(steps=[\n",
    "#                             (\"imputer\", SimpleImputer(strategy=\"mean\", missing_values=np.nan)),\n",
    "#                             (\"scaler\", MinMaxScaler())\n",
    "#                         ])\n",
    "# num_pipe"
   ]
  },
  {
   "cell_type": "code",
   "execution_count": 236,
   "id": "ad8b14e1",
   "metadata": {
    "execution": {
     "iopub.execute_input": "2023-08-22T19:54:18.716592Z",
     "iopub.status.busy": "2023-08-22T19:54:18.715471Z",
     "iopub.status.idle": "2023-08-22T19:54:18.719915Z",
     "shell.execute_reply": "2023-08-22T19:54:18.719162Z"
    },
    "papermill": {
     "duration": 0.127526,
     "end_time": "2023-08-22T19:54:18.722138",
     "exception": false,
     "start_time": "2023-08-22T19:54:18.594612",
     "status": "completed"
    },
    "tags": []
   },
   "outputs": [],
   "source": [
    "# txt_pipe = Pipeline(steps=[\n",
    "#                             (\"tvec\", TfidfVectorizer())\n",
    "#                         ])\n",
    "# txt_pipe"
   ]
  },
  {
   "cell_type": "code",
   "execution_count": 237,
   "id": "2f4a8297",
   "metadata": {
    "execution": {
     "iopub.execute_input": "2023-08-22T19:54:18.963059Z",
     "iopub.status.busy": "2023-08-22T19:54:18.962199Z",
     "iopub.status.idle": "2023-08-22T19:54:18.967446Z",
     "shell.execute_reply": "2023-08-22T19:54:18.966370Z"
    },
    "papermill": {
     "duration": 0.128876,
     "end_time": "2023-08-22T19:54:18.969834",
     "exception": false,
     "start_time": "2023-08-22T19:54:18.840958",
     "status": "completed"
    },
    "tags": []
   },
   "outputs": [],
   "source": [
    "# cat_pipe = Pipeline(steps=[\n",
    "#                             (\"ohe\", OneHotEncoder(handle_unknown=\"ignore\"))\n",
    "#                         ])\n",
    "# cat_pipe"
   ]
  },
  {
   "cell_type": "code",
   "execution_count": 238,
   "id": "b862c5ef",
   "metadata": {
    "execution": {
     "iopub.execute_input": "2023-08-22T19:54:19.208858Z",
     "iopub.status.busy": "2023-08-22T19:54:19.208188Z",
     "iopub.status.idle": "2023-08-22T19:54:19.211907Z",
     "shell.execute_reply": "2023-08-22T19:54:19.211156Z"
    },
    "papermill": {
     "duration": 0.125186,
     "end_time": "2023-08-22T19:54:19.213952",
     "exception": false,
     "start_time": "2023-08-22T19:54:19.088766",
     "status": "completed"
    },
    "tags": []
   },
   "outputs": [],
   "source": [
    "# tfidf_vec_1 = TfidfVectorizer(ngram_range=(1,2))\n",
    "# tfidf_vec_1"
   ]
  },
  {
   "cell_type": "code",
   "execution_count": 239,
   "id": "d987843a",
   "metadata": {
    "execution": {
     "iopub.execute_input": "2023-08-22T19:54:19.455443Z",
     "iopub.status.busy": "2023-08-22T19:54:19.454629Z",
     "iopub.status.idle": "2023-08-22T19:54:19.460322Z",
     "shell.execute_reply": "2023-08-22T19:54:19.459162Z"
    },
    "papermill": {
     "duration": 0.129466,
     "end_time": "2023-08-22T19:54:19.462921",
     "exception": false,
     "start_time": "2023-08-22T19:54:19.333455",
     "status": "completed"
    },
    "tags": []
   },
   "outputs": [],
   "source": [
    "# ct_final = ColumnTransformer(transformers=[\n",
    "#                                         (\"num\", num_pipe, num_vars),\n",
    "#                                         (\"txt1\", txt_pipe, \"originalLanguage\"),\n",
    "#                                         (\"txt2\", txt_pipe, \"genre\"),\n",
    "#                                         (\"txt3\", txt_pipe, \"director\"),\n",
    "#                                         (\"cat\", cat_pipe, cat_vars),\n",
    "#                                         (\"txt4a\", tfidf_vec_1, \"reviewText\")\n",
    "# #                                         (\"txt4\", TfidfVectorizer(ngram_range=(1,2)), \"reviewText\"),\n",
    "# #                                         (\"cat2\", cat_pipe, [\"isFrequentReviewer\"])\n",
    "#                                         ], remainder=\"drop\", n_jobs=1)\n",
    "\n",
    "# # Note that this transformer drops \"movieid\" column and \"reviewerName\" column  \n",
    "# ct_final"
   ]
  },
  {
   "cell_type": "code",
   "execution_count": 240,
   "id": "6335e996",
   "metadata": {
    "execution": {
     "iopub.execute_input": "2023-08-22T19:54:19.712323Z",
     "iopub.status.busy": "2023-08-22T19:54:19.711666Z",
     "iopub.status.idle": "2023-08-22T19:54:19.715537Z",
     "shell.execute_reply": "2023-08-22T19:54:19.714814Z"
    },
    "papermill": {
     "duration": 0.12919,
     "end_time": "2023-08-22T19:54:19.717712",
     "exception": false,
     "start_time": "2023-08-22T19:54:19.588522",
     "status": "completed"
    },
    "tags": []
   },
   "outputs": [],
   "source": [
    "# pipe_final = Pipeline(steps=[\n",
    "#                         (\"preprocessor\", ct_final),\n",
    "#                         (\"model\", LogisticRegression(max_iter=100000))\n",
    "#                     ])\n",
    "# pipe_final"
   ]
  },
  {
   "cell_type": "code",
   "execution_count": 241,
   "id": "7583bda7",
   "metadata": {
    "execution": {
     "iopub.execute_input": "2023-08-22T19:54:19.967879Z",
     "iopub.status.busy": "2023-08-22T19:54:19.967032Z",
     "iopub.status.idle": "2023-08-22T19:54:19.971635Z",
     "shell.execute_reply": "2023-08-22T19:54:19.970770Z"
    },
    "papermill": {
     "duration": 0.134727,
     "end_time": "2023-08-22T19:54:19.973733",
     "exception": false,
     "start_time": "2023-08-22T19:54:19.839006",
     "status": "completed"
    },
    "tags": []
   },
   "outputs": [],
   "source": [
    "# final_vars = num_vars + txt_vars + cat_vars\n",
    "# len(final_vars), final_vars"
   ]
  },
  {
   "cell_type": "markdown",
   "id": "91e584ce",
   "metadata": {
    "papermill": {
     "duration": 0.121429,
     "end_time": "2023-08-22T19:54:20.217402",
     "exception": false,
     "start_time": "2023-08-22T19:54:20.095973",
     "status": "completed"
    },
    "tags": []
   },
   "source": [
    "### Use \"split_train_predict\" function to run end-to-end pipeline  "
   ]
  },
  {
   "cell_type": "code",
   "execution_count": 242,
   "id": "f56811b9",
   "metadata": {
    "execution": {
     "iopub.execute_input": "2023-08-22T19:54:20.463888Z",
     "iopub.status.busy": "2023-08-22T19:54:20.463138Z",
     "iopub.status.idle": "2023-08-22T19:54:20.467725Z",
     "shell.execute_reply": "2023-08-22T19:54:20.466917Z"
    },
    "papermill": {
     "duration": 0.128057,
     "end_time": "2023-08-22T19:54:20.469808",
     "exception": false,
     "start_time": "2023-08-22T19:54:20.341751",
     "status": "completed"
    },
    "tags": []
   },
   "outputs": [],
   "source": [
    "# split_train_predict(merged_train_features, merged_train_labels, pipe_final, test_size=0.25, random_state=42)"
   ]
  },
  {
   "cell_type": "markdown",
   "id": "c387040a",
   "metadata": {
    "papermill": {
     "duration": 0.119595,
     "end_time": "2023-08-22T19:54:20.713690",
     "exception": false,
     "start_time": "2023-08-22T19:54:20.594095",
     "status": "completed"
    },
    "tags": []
   },
   "source": [
    "## Try the best four features obtained on local machine  "
   ]
  },
  {
   "cell_type": "code",
   "execution_count": 243,
   "id": "47890270",
   "metadata": {
    "execution": {
     "iopub.execute_input": "2023-08-22T19:54:20.952376Z",
     "iopub.status.busy": "2023-08-22T19:54:20.951139Z",
     "iopub.status.idle": "2023-08-22T19:54:20.956454Z",
     "shell.execute_reply": "2023-08-22T19:54:20.955305Z"
    },
    "papermill": {
     "duration": 0.126578,
     "end_time": "2023-08-22T19:54:20.958932",
     "exception": false,
     "start_time": "2023-08-22T19:54:20.832354",
     "status": "completed"
    },
    "tags": []
   },
   "outputs": [],
   "source": [
    "# tfidf_vec_2 = TfidfVectorizer(ngram_range=(1,2))\n",
    "# tfidf_vec_2"
   ]
  },
  {
   "cell_type": "code",
   "execution_count": 244,
   "id": "351f3d94",
   "metadata": {
    "execution": {
     "iopub.execute_input": "2023-08-22T19:54:21.198693Z",
     "iopub.status.busy": "2023-08-22T19:54:21.198226Z",
     "iopub.status.idle": "2023-08-22T19:54:21.203350Z",
     "shell.execute_reply": "2023-08-22T19:54:21.202245Z"
    },
    "papermill": {
     "duration": 0.128051,
     "end_time": "2023-08-22T19:54:21.206064",
     "exception": false,
     "start_time": "2023-08-22T19:54:21.078013",
     "status": "completed"
    },
    "tags": []
   },
   "outputs": [],
   "source": [
    "# ct_best4 = ColumnTransformer(transformers=[\n",
    "#                                             (\"num\", num_pipe, [\"audienceScore\"]),\n",
    "#                                             (\"cat\", cat_pipe, [\"rating\", \"isFrequentReviewer\"]),\n",
    "#                                             (\"tvec\", tfidf_vec_2, \"reviewText\")\n",
    "#                             ])\n",
    "\n",
    "# pipe_best4 = Pipeline(steps=[\n",
    "#     (\"preprocessor\", ct_best4),\n",
    "#     (\"model\", LogisticRegression())\n",
    "# ])\n",
    "\n",
    "# pipe_best4.set_params(model__C=10, model__max_iter=100000)\n",
    "\n",
    "# pipe_best4"
   ]
  },
  {
   "cell_type": "code",
   "execution_count": 245,
   "id": "a5ee1d8e",
   "metadata": {
    "execution": {
     "iopub.execute_input": "2023-08-22T19:54:21.455762Z",
     "iopub.status.busy": "2023-08-22T19:54:21.454417Z",
     "iopub.status.idle": "2023-08-22T19:54:21.459931Z",
     "shell.execute_reply": "2023-08-22T19:54:21.458909Z"
    },
    "papermill": {
     "duration": 0.132805,
     "end_time": "2023-08-22T19:54:21.462330",
     "exception": false,
     "start_time": "2023-08-22T19:54:21.329525",
     "status": "completed"
    },
    "tags": []
   },
   "outputs": [],
   "source": [
    "# split_train_predict(merged[[\"audienceScore\", \"rating\", \"isFrequentReviewer\", \"reviewText\"]], merged[\"sentiment\"], pipe_best4, test_size=0.25)"
   ]
  },
  {
   "cell_type": "markdown",
   "id": "8c26879a",
   "metadata": {
    "papermill": {
     "duration": 0.119348,
     "end_time": "2023-08-22T19:54:21.702569",
     "exception": false,
     "start_time": "2023-08-22T19:54:21.583221",
     "status": "completed"
    },
    "tags": []
   },
   "source": [
    "## Try only 'reviewText' column  "
   ]
  },
  {
   "cell_type": "code",
   "execution_count": 246,
   "id": "2a291973",
   "metadata": {
    "execution": {
     "iopub.execute_input": "2023-08-22T19:54:21.941250Z",
     "iopub.status.busy": "2023-08-22T19:54:21.940784Z",
     "iopub.status.idle": "2023-08-22T19:54:21.945514Z",
     "shell.execute_reply": "2023-08-22T19:54:21.944261Z"
    },
    "papermill": {
     "duration": 0.126584,
     "end_time": "2023-08-22T19:54:21.947885",
     "exception": false,
     "start_time": "2023-08-22T19:54:21.821301",
     "status": "completed"
    },
    "tags": []
   },
   "outputs": [],
   "source": [
    "# tfidf_vec_3 = TfidfVectorizer(ngram_range=(1,2))\n",
    "# tfidf_vec_3"
   ]
  },
  {
   "cell_type": "code",
   "execution_count": 247,
   "id": "20d5008c",
   "metadata": {
    "execution": {
     "iopub.execute_input": "2023-08-22T19:54:22.186860Z",
     "iopub.status.busy": "2023-08-22T19:54:22.186413Z",
     "iopub.status.idle": "2023-08-22T19:54:22.191117Z",
     "shell.execute_reply": "2023-08-22T19:54:22.190376Z"
    },
    "papermill": {
     "duration": 0.126058,
     "end_time": "2023-08-22T19:54:22.193206",
     "exception": false,
     "start_time": "2023-08-22T19:54:22.067148",
     "status": "completed"
    },
    "tags": []
   },
   "outputs": [],
   "source": [
    "# ct_RTonly = ColumnTransformer(transformers=[\n",
    "#                                             ('txt', tfidf_vec_3, 'reviewText'),\n",
    "#                                             ], remainder='drop')\n",
    "# ct_RTonly"
   ]
  },
  {
   "cell_type": "code",
   "execution_count": 248,
   "id": "d27ff8b6",
   "metadata": {
    "execution": {
     "iopub.execute_input": "2023-08-22T19:54:22.431392Z",
     "iopub.status.busy": "2023-08-22T19:54:22.430476Z",
     "iopub.status.idle": "2023-08-22T19:54:22.435987Z",
     "shell.execute_reply": "2023-08-22T19:54:22.434843Z"
    },
    "papermill": {
     "duration": 0.126806,
     "end_time": "2023-08-22T19:54:22.438330",
     "exception": false,
     "start_time": "2023-08-22T19:54:22.311524",
     "status": "completed"
    },
    "tags": []
   },
   "outputs": [],
   "source": [
    "# pipe_RTonly = Pipeline(steps=[\n",
    "#     (\"preprocessor\", ct_RTonly),\n",
    "#     (\"model\", LogisticRegression())\n",
    "# ])\n",
    "\n",
    "# pipe_RTonly.set_params(model__C=10, model__max_iter=100000)\n",
    "\n",
    "# pipe_RTonly"
   ]
  },
  {
   "cell_type": "markdown",
   "id": "674ada56",
   "metadata": {
    "papermill": {
     "duration": 0.11942,
     "end_time": "2023-08-22T19:54:22.674722",
     "exception": false,
     "start_time": "2023-08-22T19:54:22.555302",
     "status": "completed"
    },
    "tags": []
   },
   "source": [
    "## Using the 'submit_v4' function  "
   ]
  },
  {
   "cell_type": "markdown",
   "id": "5721d97d",
   "metadata": {
    "papermill": {
     "duration": 0.12127,
     "end_time": "2023-08-22T19:54:22.917299",
     "exception": false,
     "start_time": "2023-08-22T19:54:22.796029",
     "status": "completed"
    },
    "tags": []
   },
   "source": [
    "### Try the best 4 parameters with submit_v4 function"
   ]
  },
  {
   "cell_type": "code",
   "execution_count": 249,
   "id": "48e647f7",
   "metadata": {
    "execution": {
     "iopub.execute_input": "2023-08-22T19:54:23.162501Z",
     "iopub.status.busy": "2023-08-22T19:54:23.162066Z",
     "iopub.status.idle": "2023-08-22T19:54:23.169433Z",
     "shell.execute_reply": "2023-08-22T19:54:23.168562Z"
    },
    "papermill": {
     "duration": 0.133426,
     "end_time": "2023-08-22T19:54:23.172269",
     "exception": false,
     "start_time": "2023-08-22T19:54:23.038843",
     "status": "completed"
    },
    "tags": []
   },
   "outputs": [],
   "source": [
    "# best4 = [\"audienceScore\", \"rating\", \"isFrequentReviewer\", \"reviewText\"]\n",
    "\n",
    "# best4_dict = {'cat': [\"rating\", \"isFrequentReviewer\"],\n",
    "#              'num': [\"audienceScore\"],\n",
    "#              'txt': ['reviewText']}\n",
    "\n",
    "# best4_dict = {'num': [\"audienceScore\"],\n",
    "#              'txt': ['reviewText', 'movieid', 'director']}\n",
    "\n",
    "# best4_dict"
   ]
  },
  {
   "cell_type": "code",
   "execution_count": 250,
   "id": "7a4619b4",
   "metadata": {
    "execution": {
     "iopub.execute_input": "2023-08-22T19:54:23.419240Z",
     "iopub.status.busy": "2023-08-22T19:54:23.418825Z",
     "iopub.status.idle": "2023-08-22T19:54:23.423500Z",
     "shell.execute_reply": "2023-08-22T19:54:23.422410Z"
    },
    "papermill": {
     "duration": 0.12983,
     "end_time": "2023-08-22T19:54:23.425973",
     "exception": false,
     "start_time": "2023-08-22T19:54:23.296143",
     "status": "completed"
    },
    "tags": []
   },
   "outputs": [],
   "source": [
    "# submit_v4(selected_features=best4_dict)"
   ]
  },
  {
   "cell_type": "markdown",
   "id": "2820a3b0",
   "metadata": {
    "papermill": {
     "duration": 0.12215,
     "end_time": "2023-08-22T19:54:23.669317",
     "exception": false,
     "start_time": "2023-08-22T19:54:23.547167",
     "status": "completed"
    },
    "tags": []
   },
   "source": [
    "### Try the best 3 parameters with submit_v4 function"
   ]
  },
  {
   "cell_type": "code",
   "execution_count": 251,
   "id": "22506b9d",
   "metadata": {
    "execution": {
     "iopub.execute_input": "2023-08-22T19:54:23.915112Z",
     "iopub.status.busy": "2023-08-22T19:54:23.914663Z",
     "iopub.status.idle": "2023-08-22T19:54:23.919660Z",
     "shell.execute_reply": "2023-08-22T19:54:23.918398Z"
    },
    "papermill": {
     "duration": 0.130571,
     "end_time": "2023-08-22T19:54:23.921880",
     "exception": false,
     "start_time": "2023-08-22T19:54:23.791309",
     "status": "completed"
    },
    "tags": []
   },
   "outputs": [],
   "source": [
    "# best3 = [\"audienceScore\", \"isFrequentReviewer\", \"reviewText\"]\n",
    "# best3_dict = {'cat': [\"isFrequentReviewer\"],\n",
    "#              'num': [\"audienceScore\"],\n",
    "#              'txt': ['reviewText']}\n",
    "# best3_dict"
   ]
  },
  {
   "cell_type": "code",
   "execution_count": 252,
   "id": "a54eed53",
   "metadata": {
    "execution": {
     "iopub.execute_input": "2023-08-22T19:54:24.255659Z",
     "iopub.status.busy": "2023-08-22T19:54:24.254445Z",
     "iopub.status.idle": "2023-08-22T19:54:24.260125Z",
     "shell.execute_reply": "2023-08-22T19:54:24.258638Z"
    },
    "papermill": {
     "duration": 0.131511,
     "end_time": "2023-08-22T19:54:24.263338",
     "exception": false,
     "start_time": "2023-08-22T19:54:24.131827",
     "status": "completed"
    },
    "tags": []
   },
   "outputs": [],
   "source": [
    "# submit_v4(selected_features=best3_dict)"
   ]
  },
  {
   "cell_type": "markdown",
   "id": "66262c5f",
   "metadata": {
    "papermill": {
     "duration": 0.117298,
     "end_time": "2023-08-22T19:54:24.500040",
     "exception": false,
     "start_time": "2023-08-22T19:54:24.382742",
     "status": "completed"
    },
    "tags": []
   },
   "source": [
    "## Try throwing almost everything (no boxOffice) at submit_v4!  "
   ]
  },
  {
   "cell_type": "code",
   "execution_count": 253,
   "id": "d15e418f",
   "metadata": {
    "execution": {
     "iopub.execute_input": "2023-08-22T19:54:24.740078Z",
     "iopub.status.busy": "2023-08-22T19:54:24.739612Z",
     "iopub.status.idle": "2023-08-22T19:54:24.746451Z",
     "shell.execute_reply": "2023-08-22T19:54:24.745697Z"
    },
    "papermill": {
     "duration": 0.130839,
     "end_time": "2023-08-22T19:54:24.748549",
     "exception": false,
     "start_time": "2023-08-22T19:54:24.617710",
     "status": "completed"
    },
    "tags": []
   },
   "outputs": [
    {
     "data": {
      "text/plain": [
       "\"Most from merged = ['movieid', 'reviewerName', 'isFrequentReviewer', 'reviewText',\\n       'audienceScore', 'rating', 'runtimeMinutes', 'genre', \\n       'originalLanguage', 'director']\""
      ]
     },
     "execution_count": 253,
     "metadata": {},
     "output_type": "execute_result"
    }
   ],
   "source": [
    "\"\"\"Most from merged = ['movieid', 'reviewerName', 'isFrequentReviewer', 'reviewText',\n",
    "       'audienceScore', 'rating', 'runtimeMinutes', 'genre', \n",
    "       'originalLanguage', 'director']\"\"\"\n",
    "\n",
    "# almost_dict = {'cat': [\"isFrequentReviewer\", \"rating\", \"originalLanguage\"],\n",
    "#              'num': [\"audienceScore\", \"runtimeMinutes\"],\n",
    "#              'txt': ['reviewText', 'reviewerName', 'movieid', 'genre', 'director']}\n",
    "# almost_dict"
   ]
  },
  {
   "cell_type": "code",
   "execution_count": 254,
   "id": "ee45dbb6",
   "metadata": {
    "execution": {
     "iopub.execute_input": "2023-08-22T19:54:24.997224Z",
     "iopub.status.busy": "2023-08-22T19:54:24.995939Z",
     "iopub.status.idle": "2023-08-22T19:54:25.001722Z",
     "shell.execute_reply": "2023-08-22T19:54:25.000850Z"
    },
    "papermill": {
     "duration": 0.132518,
     "end_time": "2023-08-22T19:54:25.003950",
     "exception": false,
     "start_time": "2023-08-22T19:54:24.871432",
     "status": "completed"
    },
    "tags": []
   },
   "outputs": [],
   "source": [
    "# submit_v4(selected_features=almost_dict)"
   ]
  },
  {
   "cell_type": "markdown",
   "id": "fd0bb318",
   "metadata": {
    "papermill": {
     "duration": 0.121189,
     "end_time": "2023-08-22T19:54:25.244664",
     "exception": false,
     "start_time": "2023-08-22T19:54:25.123475",
     "status": "completed"
    },
    "tags": []
   },
   "source": [
    "## Try throwing everything possible at submit_v4!  "
   ]
  },
  {
   "cell_type": "code",
   "execution_count": 255,
   "id": "c19530e0",
   "metadata": {
    "execution": {
     "iopub.execute_input": "2023-08-22T19:54:25.486053Z",
     "iopub.status.busy": "2023-08-22T19:54:25.485288Z",
     "iopub.status.idle": "2023-08-22T19:54:25.492100Z",
     "shell.execute_reply": "2023-08-22T19:54:25.491219Z"
    },
    "papermill": {
     "duration": 0.129623,
     "end_time": "2023-08-22T19:54:25.494160",
     "exception": false,
     "start_time": "2023-08-22T19:54:25.364537",
     "status": "completed"
    },
    "tags": []
   },
   "outputs": [
    {
     "data": {
      "text/plain": [
       "\"All from merged = ['movieid', 'reviewerName', 'isFrequentReviewer', 'reviewText',\\n       'audienceScore', 'rating', 'runtimeMinutes', 'genre', 'boxOffice',\\n       'originalLanguage', 'director']\""
      ]
     },
     "execution_count": 255,
     "metadata": {},
     "output_type": "execute_result"
    }
   ],
   "source": [
    "\"\"\"All from merged = ['movieid', 'reviewerName', 'isFrequentReviewer', 'reviewText',\n",
    "       'audienceScore', 'rating', 'runtimeMinutes', 'genre', 'boxOffice',\n",
    "       'originalLanguage', 'director']\"\"\"\n",
    "\n",
    "# all_dict = {'cat': [\"isFrequentReviewer\", \"rating\", \"originalLanguage\"],\n",
    "#              'num': [\"audienceScore\", \"runtimeMinutes\", \"boxOffice\"],\n",
    "#              'txt': ['reviewText', 'reviewerName', 'movieid', 'genre', 'director']}\n",
    "# all_dict"
   ]
  },
  {
   "cell_type": "code",
   "execution_count": 256,
   "id": "e297a097",
   "metadata": {
    "execution": {
     "iopub.execute_input": "2023-08-22T19:54:25.733924Z",
     "iopub.status.busy": "2023-08-22T19:54:25.732774Z",
     "iopub.status.idle": "2023-08-22T19:54:25.737381Z",
     "shell.execute_reply": "2023-08-22T19:54:25.736585Z"
    },
    "papermill": {
     "duration": 0.127672,
     "end_time": "2023-08-22T19:54:25.739471",
     "exception": false,
     "start_time": "2023-08-22T19:54:25.611799",
     "status": "completed"
    },
    "tags": []
   },
   "outputs": [],
   "source": [
    "# submit_v4(selected_features=all_dict)"
   ]
  },
  {
   "cell_type": "markdown",
   "id": "8f8ff64a",
   "metadata": {
    "papermill": {
     "duration": 0.121878,
     "end_time": "2023-08-22T19:54:25.983403",
     "exception": false,
     "start_time": "2023-08-22T19:54:25.861525",
     "status": "completed"
    },
    "tags": []
   },
   "source": [
    "## Try GridSearchCV on everything  "
   ]
  },
  {
   "cell_type": "code",
   "execution_count": 257,
   "id": "9eab5ef1",
   "metadata": {
    "execution": {
     "iopub.execute_input": "2023-08-22T19:54:26.228999Z",
     "iopub.status.busy": "2023-08-22T19:54:26.228269Z",
     "iopub.status.idle": "2023-08-22T19:54:26.233157Z",
     "shell.execute_reply": "2023-08-22T19:54:26.232203Z"
    },
    "papermill": {
     "duration": 0.130241,
     "end_time": "2023-08-22T19:54:26.235473",
     "exception": false,
     "start_time": "2023-08-22T19:54:26.105232",
     "status": "completed"
    },
    "tags": []
   },
   "outputs": [],
   "source": [
    "# param_grid = {\n",
    "#     \"model__C\": [0.5, 2, 5, 15]\n",
    "# }\n",
    "\n",
    "# param_grid = {\n",
    "#     'model__C' : [1, 5],\n",
    "#     'model__solver': ['lbfgs', 'liblinear', 'newton-cg', 'newton-cholesky', 'sag', 'saga']\n",
    "# }\n",
    "\n",
    "# param_grid = {\n",
    "#     'model__C' : [1, 5],\n",
    "#     'model__solver': ['lbfgs', 'liblinear', 'sag', 'saga']\n",
    "# }\n",
    "\n",
    "# param_grid = {\n",
    "#     'model__C' : [1, 5, 10, 15],\n",
    "#     'model__solver': ['lbfgs', 'liblinear', 'saga', 'newton-cg']\n",
    "# }\n",
    "\n",
    "# param_grid = {\n",
    "#     'model__C' : [1, 5, 10, 20],\n",
    "#     'model__solver': ['lbfgs', 'liblinear', 'saga']\n",
    "# }\n",
    "\n",
    "# param_grid"
   ]
  },
  {
   "cell_type": "code",
   "execution_count": 258,
   "id": "8a51b85e",
   "metadata": {
    "execution": {
     "iopub.execute_input": "2023-08-22T19:54:26.481289Z",
     "iopub.status.busy": "2023-08-22T19:54:26.480866Z",
     "iopub.status.idle": "2023-08-22T19:54:26.486086Z",
     "shell.execute_reply": "2023-08-22T19:54:26.484694Z"
    },
    "papermill": {
     "duration": 0.12948,
     "end_time": "2023-08-22T19:54:26.488271",
     "exception": false,
     "start_time": "2023-08-22T19:54:26.358791",
     "status": "completed"
    },
    "tags": []
   },
   "outputs": [],
   "source": [
    "# submit_v4(selected_features={'txt': [\"genre\"]}, param_grid=param_grid)"
   ]
  },
  {
   "cell_type": "code",
   "execution_count": 259,
   "id": "66540052",
   "metadata": {
    "execution": {
     "iopub.execute_input": "2023-08-22T19:54:26.731771Z",
     "iopub.status.busy": "2023-08-22T19:54:26.731083Z",
     "iopub.status.idle": "2023-08-22T19:54:26.739287Z",
     "shell.execute_reply": "2023-08-22T19:54:26.738007Z"
    },
    "papermill": {
     "duration": 0.132755,
     "end_time": "2023-08-22T19:54:26.741781",
     "exception": false,
     "start_time": "2023-08-22T19:54:26.609026",
     "status": "completed"
    },
    "tags": []
   },
   "outputs": [
    {
     "data": {
      "text/plain": [
       "\"Used 'groupby' function instead on 'drop_duplicates' on movies.csv file. \\nIt reduced the number of missing values significantly! \\nThen used LogisticRegression() with GridSearchCV on submit_v4 function with \\nparam_grid={'model__C': [1, 5, 10], 'model__solver': ['lbfgs', 'liblinear', 'saga']}. \\nThe best f1_micro score in GridSearchCV was 0.8399771362056203 which is highest among \\nall the versions so far. Best C was 5 and best solver was 'saga'.\\nScore obtained was 0.84385 which is lower than 0.84441.\""
      ]
     },
     "execution_count": 259,
     "metadata": {},
     "output_type": "execute_result"
    }
   ],
   "source": [
    "# submit_v4(selected_features=all_dict, param_grid=param_grid)\n",
    "\n",
    "# Best C was 5\n",
    "# Best solver was liblinear\n",
    "\n",
    "\"\"\"Used 'groupby' function instead on 'drop_duplicates' on movies.csv file. \n",
    "It reduced the number of missing values significantly! \n",
    "Then used LogisticRegression() with GridSearchCV on submit_v4 function with \n",
    "param_grid={'model__C': [1, 5, 10], 'model__solver': ['lbfgs', 'liblinear', 'saga']}. \n",
    "The best f1_micro score in GridSearchCV was 0.8399771362056203 which is highest among \n",
    "all the versions so far. Best C was 5 and best solver was 'saga'.\n",
    "Score obtained was 0.84385 which is lower than 0.84441.\"\"\""
   ]
  },
  {
   "cell_type": "code",
   "execution_count": 260,
   "id": "a668429c",
   "metadata": {
    "execution": {
     "iopub.execute_input": "2023-08-22T19:54:26.990450Z",
     "iopub.status.busy": "2023-08-22T19:54:26.989172Z",
     "iopub.status.idle": "2023-08-22T19:54:26.994541Z",
     "shell.execute_reply": "2023-08-22T19:54:26.993768Z"
    },
    "papermill": {
     "duration": 0.131714,
     "end_time": "2023-08-22T19:54:26.996758",
     "exception": false,
     "start_time": "2023-08-22T19:54:26.865044",
     "status": "completed"
    },
    "tags": []
   },
   "outputs": [],
   "source": [
    "# Best 5 parameters\n",
    "\n",
    "# best5_dict = {'num': [\"audienceScore\"],\n",
    "#              'txt': ['reviewText', 'reviewerName','movieid', 'director']}\n",
    "\n",
    "# best5_dict"
   ]
  },
  {
   "cell_type": "code",
   "execution_count": 261,
   "id": "0d297922",
   "metadata": {
    "execution": {
     "iopub.execute_input": "2023-08-22T19:54:27.245607Z",
     "iopub.status.busy": "2023-08-22T19:54:27.244937Z",
     "iopub.status.idle": "2023-08-22T19:54:27.253298Z",
     "shell.execute_reply": "2023-08-22T19:54:27.252209Z"
    },
    "papermill": {
     "duration": 0.136422,
     "end_time": "2023-08-22T19:54:27.255463",
     "exception": false,
     "start_time": "2023-08-22T19:54:27.119041",
     "status": "completed"
    },
    "tags": []
   },
   "outputs": [
    {
     "data": {
      "text/plain": [
       "\"(Update): Used both CountVectorizer and TfidfVectorizer on a massive GridSearchCV \\nwhich took 22527.2s  (6.25 hrs) to run! Gave a score of 0.8439093822800923 locally and did not overfit!\\nBest params: {'model__C': 1, 'model__solver': 'liblinear'}.\\nHighest public score yet: 0.84591 (Rank up from 9 to 5!)\""
      ]
     },
     "execution_count": 261,
     "metadata": {},
     "output_type": "execute_result"
    }
   ],
   "source": [
    "# Submit best 5 features\n",
    "\n",
    "\"\"\"(Update): Used both CountVectorizer and TfidfVectorizer on a massive GridSearchCV \n",
    "which took 22527.2s  (6.25 hrs) to run! Gave a score of 0.8439093822800923 locally and did not overfit!\n",
    "Best params: {'model__C': 1, 'model__solver': 'liblinear'}.\n",
    "Highest public score yet: 0.84591 (Rank up from 9 to 5!)\"\"\"\n",
    "\n",
    "# param_grid = {\n",
    "#     'model__C' : [5, 10, 15],\n",
    "#     'model__solver': ['lbfgs', 'liblinear', 'saga']\n",
    "# }\n",
    "\n",
    "\n",
    "# Try new param_grid with fit_intercept and dual in logreg\n",
    "\n",
    "# param_grid = {\n",
    "#     'model__C' : [1],\n",
    "#     'model__solver': ['liblinear'],\n",
    "#     \"model__fit_intercept\" : [True, False],\n",
    "#     \"model__dual\" : [True, False] \n",
    "# }\n",
    "\n",
    "\n",
    "# Local testing  \n",
    "# submit_v4(selected_features={'num': ['audienceScore']},\n",
    "#          add_countvec=True)\n",
    "\n",
    "# submit_v4(selected_features={'num': ['audienceScore']},\n",
    "#          add_countvec=True, \n",
    "#           param_grid=param_grid)\n",
    "\n",
    "\n",
    "# Main submission\n",
    "\n",
    "# submit_v4(selected_features=best5_dict,\n",
    "#          add_countvec=True)\n",
    "\n",
    "\n",
    "# submit_v4(selected_features=best5_dict,\n",
    "#           add_countvec=True,\n",
    "#           param_grid=param_grid)"
   ]
  },
  {
   "cell_type": "code",
   "execution_count": 262,
   "id": "dfa04e7d",
   "metadata": {
    "execution": {
     "iopub.execute_input": "2023-08-22T19:54:27.502820Z",
     "iopub.status.busy": "2023-08-22T19:54:27.502115Z",
     "iopub.status.idle": "2023-08-22T19:54:27.507621Z",
     "shell.execute_reply": "2023-08-22T19:54:27.506878Z"
    },
    "papermill": {
     "duration": 0.130805,
     "end_time": "2023-08-22T19:54:27.509808",
     "exception": false,
     "start_time": "2023-08-22T19:54:27.379003",
     "status": "completed"
    },
    "tags": []
   },
   "outputs": [],
   "source": [
    "## ALL DICT cv=10\n",
    "\n",
    "# all_dict = {'cat': [\"isFrequentReviewer\", \"rating\", \"originalLanguage\"],\n",
    "#              'num': [\"audienceScore\", \"runtimeMinutes\", \"boxOffice\"],\n",
    "#              'txt': ['reviewText', 'reviewerName', 'movieid', 'genre', 'director']}\n",
    "# print(all_dict)\n",
    "\n",
    "# param_grid = {\n",
    "#     'model__C' : [2, 5, 10],\n",
    "#     'model__solver': ['lbfgs', 'liblinear', 'saga']\n",
    "# }\n",
    "# print(param_grid)\n",
    "\n",
    "# param_grid = {\n",
    "#     'model__C' : [1, 5, 10],\n",
    "#     'model__solver': ['liblinear'],\n",
    "#     \"model__fit_intercept\" : [True, False],\n",
    "#     \"model__dual\" : [True, False] \n",
    "# }\n",
    "\n",
    "\n",
    "# Main submission\n",
    "\n",
    "# submit_v4(selected_model=LogisticRegression(C=5, solver='liblinear', max_iter=10000),\n",
    "#           selected_features=all_dict,\n",
    "#           param_grid=param_grid)\n",
    "\n",
    "# submit_v4(selected_features=all_dict,\n",
    "#           add_countvec=True,\n",
    "#           param_grid=param_grid)"
   ]
  },
  {
   "cell_type": "code",
   "execution_count": 263,
   "id": "0bfbe5cc",
   "metadata": {
    "execution": {
     "iopub.execute_input": "2023-08-22T19:54:27.754851Z",
     "iopub.status.busy": "2023-08-22T19:54:27.754175Z",
     "iopub.status.idle": "2023-08-22T19:54:27.758983Z",
     "shell.execute_reply": "2023-08-22T19:54:27.758213Z"
    },
    "papermill": {
     "duration": 0.130166,
     "end_time": "2023-08-22T19:54:27.761089",
     "exception": false,
     "start_time": "2023-08-22T19:54:27.630923",
     "status": "completed"
    },
    "tags": []
   },
   "outputs": [],
   "source": [
    "# Best 6 parameters\n",
    "\n",
    "# best6_dict = {'cat': [\"isFrequentReviewer\"],\n",
    "#              'num': [\"audienceScore\"],\n",
    "#              'txt': ['reviewText', 'reviewerName', 'genre', 'director']}\n",
    "\n",
    "# best6_dict = {'num': [\"audienceScore\"],\n",
    "#              'txt': ['reviewText', 'reviewerName', 'genre','movieid', 'director']}\n",
    "\n",
    "# best6_dict"
   ]
  },
  {
   "cell_type": "code",
   "execution_count": 264,
   "id": "f5aaa052",
   "metadata": {
    "execution": {
     "iopub.execute_input": "2023-08-22T19:54:28.007600Z",
     "iopub.status.busy": "2023-08-22T19:54:28.006907Z",
     "iopub.status.idle": "2023-08-22T19:54:28.011480Z",
     "shell.execute_reply": "2023-08-22T19:54:28.010741Z"
    },
    "papermill": {
     "duration": 0.130174,
     "end_time": "2023-08-22T19:54:28.013612",
     "exception": false,
     "start_time": "2023-08-22T19:54:27.883438",
     "status": "completed"
    },
    "tags": []
   },
   "outputs": [],
   "source": [
    "# Submit best 6 features (version 2)\n",
    "\n",
    "# submit_v4(selected_features=best6_dict,\n",
    "#           param_grid=param_grid)"
   ]
  },
  {
   "cell_type": "code",
   "execution_count": 265,
   "id": "ab149463",
   "metadata": {
    "execution": {
     "iopub.execute_input": "2023-08-22T19:54:28.374613Z",
     "iopub.status.busy": "2023-08-22T19:54:28.373918Z",
     "iopub.status.idle": "2023-08-22T19:54:28.378963Z",
     "shell.execute_reply": "2023-08-22T19:54:28.378070Z"
    },
    "papermill": {
     "duration": 0.153247,
     "end_time": "2023-08-22T19:54:28.381260",
     "exception": false,
     "start_time": "2023-08-22T19:54:28.228013",
     "status": "completed"
    },
    "tags": []
   },
   "outputs": [],
   "source": [
    "# Best 7 parameters\n",
    "\n",
    "# best7_dict = {'cat': [\"isFrequentReviewer\"],\n",
    "#              'num': [\"audienceScore\"],\n",
    "#              'txt': ['reviewText', 'reviewerName', 'movieid', 'genre', 'director']}\n",
    "# best7_dict"
   ]
  },
  {
   "cell_type": "code",
   "execution_count": 266,
   "id": "d0a12478",
   "metadata": {
    "execution": {
     "iopub.execute_input": "2023-08-22T19:54:28.630336Z",
     "iopub.status.busy": "2023-08-22T19:54:28.629348Z",
     "iopub.status.idle": "2023-08-22T19:54:28.634268Z",
     "shell.execute_reply": "2023-08-22T19:54:28.633506Z"
    },
    "papermill": {
     "duration": 0.130436,
     "end_time": "2023-08-22T19:54:28.636413",
     "exception": false,
     "start_time": "2023-08-22T19:54:28.505977",
     "status": "completed"
    },
    "tags": []
   },
   "outputs": [],
   "source": [
    "# Submit best 7 features\n",
    "\n",
    "# submit_v4(selected_features=best7_dict,\n",
    "#           param_grid=param_grid)"
   ]
  },
  {
   "cell_type": "code",
   "execution_count": 267,
   "id": "348c427f",
   "metadata": {
    "execution": {
     "iopub.execute_input": "2023-08-22T19:54:28.883247Z",
     "iopub.status.busy": "2023-08-22T19:54:28.882550Z",
     "iopub.status.idle": "2023-08-22T19:54:28.887385Z",
     "shell.execute_reply": "2023-08-22T19:54:28.886509Z"
    },
    "papermill": {
     "duration": 0.131691,
     "end_time": "2023-08-22T19:54:28.889696",
     "exception": false,
     "start_time": "2023-08-22T19:54:28.758005",
     "status": "completed"
    },
    "tags": []
   },
   "outputs": [],
   "source": [
    "# submit_v4(selected_features=best6_dict, param_grid=param_grid)"
   ]
  },
  {
   "cell_type": "markdown",
   "id": "38c7a932",
   "metadata": {
    "papermill": {
     "duration": 0.121653,
     "end_time": "2023-08-22T19:54:29.135427",
     "exception": false,
     "start_time": "2023-08-22T19:54:29.013774",
     "status": "completed"
    },
    "tags": []
   },
   "source": [
    "## Try a new feature dict  \n",
    "\n"
   ]
  },
  {
   "cell_type": "code",
   "execution_count": 268,
   "id": "cdb7e831",
   "metadata": {
    "execution": {
     "iopub.execute_input": "2023-08-22T19:54:29.386705Z",
     "iopub.status.busy": "2023-08-22T19:54:29.386030Z",
     "iopub.status.idle": "2023-08-22T19:54:29.390745Z",
     "shell.execute_reply": "2023-08-22T19:54:29.389957Z"
    },
    "papermill": {
     "duration": 0.133829,
     "end_time": "2023-08-22T19:54:29.392948",
     "exception": false,
     "start_time": "2023-08-22T19:54:29.259119",
     "status": "completed"
    },
    "tags": []
   },
   "outputs": [],
   "source": [
    "# all_dict_new = {'cat': [\"isFrequentReviewer\", \"rating\", \"originalLanguage\"],\n",
    "#              'num': [\"audienceScore\", \"runtimeMinutes\", \"boxOffice\"],\n",
    "#              'txt': ['reviewText', \"reviewerName\", 'movieid', 'genre', 'director']}\n",
    "# all_dict_new"
   ]
  },
  {
   "cell_type": "code",
   "execution_count": 269,
   "id": "41b9ca96",
   "metadata": {
    "execution": {
     "iopub.execute_input": "2023-08-22T19:54:29.641077Z",
     "iopub.status.busy": "2023-08-22T19:54:29.640352Z",
     "iopub.status.idle": "2023-08-22T19:54:29.645041Z",
     "shell.execute_reply": "2023-08-22T19:54:29.644243Z"
    },
    "papermill": {
     "duration": 0.130638,
     "end_time": "2023-08-22T19:54:29.647265",
     "exception": false,
     "start_time": "2023-08-22T19:54:29.516627",
     "status": "completed"
    },
    "tags": []
   },
   "outputs": [],
   "source": [
    "# submit_v4(selected_features={'txt': ['genre']}, param_grid=param_grid)"
   ]
  },
  {
   "cell_type": "code",
   "execution_count": 270,
   "id": "9d720193",
   "metadata": {
    "execution": {
     "iopub.execute_input": "2023-08-22T19:54:29.892777Z",
     "iopub.status.busy": "2023-08-22T19:54:29.892113Z",
     "iopub.status.idle": "2023-08-22T19:54:29.897106Z",
     "shell.execute_reply": "2023-08-22T19:54:29.896176Z"
    },
    "papermill": {
     "duration": 0.13098,
     "end_time": "2023-08-22T19:54:29.899383",
     "exception": false,
     "start_time": "2023-08-22T19:54:29.768403",
     "status": "completed"
    },
    "tags": []
   },
   "outputs": [],
   "source": [
    "# submit_v4(selected_features=all_dict_new, param_grid=param_grid)"
   ]
  },
  {
   "cell_type": "code",
   "execution_count": 271,
   "id": "4b9ca68b",
   "metadata": {
    "execution": {
     "iopub.execute_input": "2023-08-22T19:54:30.140811Z",
     "iopub.status.busy": "2023-08-22T19:54:30.140350Z",
     "iopub.status.idle": "2023-08-22T19:54:30.145249Z",
     "shell.execute_reply": "2023-08-22T19:54:30.144172Z"
    },
    "papermill": {
     "duration": 0.128194,
     "end_time": "2023-08-22T19:54:30.147495",
     "exception": false,
     "start_time": "2023-08-22T19:54:30.019301",
     "status": "completed"
    },
    "tags": []
   },
   "outputs": [],
   "source": [
    "# Try non-text based columns\n",
    "# num_cat_dict = {'cat': ['isFrequentReviewer', 'rating', 'originalLanguage'],\n",
    "#  'num': ['audienceScore', 'runtimeMinutes', 'boxOffice']}\n",
    "# num_cat_dict"
   ]
  },
  {
   "cell_type": "code",
   "execution_count": 272,
   "id": "11a3503a",
   "metadata": {
    "execution": {
     "iopub.execute_input": "2023-08-22T19:54:30.390441Z",
     "iopub.status.busy": "2023-08-22T19:54:30.389575Z",
     "iopub.status.idle": "2023-08-22T19:54:30.394366Z",
     "shell.execute_reply": "2023-08-22T19:54:30.393601Z"
    },
    "papermill": {
     "duration": 0.129401,
     "end_time": "2023-08-22T19:54:30.396533",
     "exception": false,
     "start_time": "2023-08-22T19:54:30.267132",
     "status": "completed"
    },
    "tags": []
   },
   "outputs": [],
   "source": [
    "# Use num_cat_dict features\n",
    "# (Update): Gets a local score of 0.7027181356991726. Not great.\n",
    "# submit_v4(selected_model=LogisticRegression(max_iter=100000), selected_features=num_cat_dict, param_grid=param_grid)"
   ]
  },
  {
   "cell_type": "code",
   "execution_count": 273,
   "id": "cac28a0e",
   "metadata": {
    "execution": {
     "iopub.execute_input": "2023-08-22T19:54:30.638952Z",
     "iopub.status.busy": "2023-08-22T19:54:30.638161Z",
     "iopub.status.idle": "2023-08-22T19:54:30.642853Z",
     "shell.execute_reply": "2023-08-22T19:54:30.642063Z"
    },
    "papermill": {
     "duration": 0.127368,
     "end_time": "2023-08-22T19:54:30.645034",
     "exception": false,
     "start_time": "2023-08-22T19:54:30.517666",
     "status": "completed"
    },
    "tags": []
   },
   "outputs": [],
   "source": [
    "# Try data other than reviewText\n",
    "\n",
    "# mov_dict = {'cat': ['rating', 'originalLanguage'],\n",
    "#  'num': ['audienceScore', 'runtimeMinutes', 'boxOffice'],\n",
    "#  'txt': ['movieid', 'genre', 'director']}\n",
    "# mov_dict"
   ]
  },
  {
   "cell_type": "code",
   "execution_count": 274,
   "id": "15cc5e52",
   "metadata": {
    "execution": {
     "iopub.execute_input": "2023-08-22T19:54:30.888052Z",
     "iopub.status.busy": "2023-08-22T19:54:30.887604Z",
     "iopub.status.idle": "2023-08-22T19:54:30.892109Z",
     "shell.execute_reply": "2023-08-22T19:54:30.890998Z"
    },
    "papermill": {
     "duration": 0.131283,
     "end_time": "2023-08-22T19:54:30.894523",
     "exception": false,
     "start_time": "2023-08-22T19:54:30.763240",
     "status": "completed"
    },
    "tags": []
   },
   "outputs": [],
   "source": [
    "# Use mov_dict features\n",
    "# (Update): Gets a local score of 0.7475454316469369, which is not bad at all.\n",
    "# submit_v4(selected_model=LogisticRegression(max_iter=100000), selected_features=mov_dict, param_grid=param_grid)"
   ]
  },
  {
   "cell_type": "markdown",
   "id": "34b8a5fe",
   "metadata": {
    "papermill": {
     "duration": 0.121819,
     "end_time": "2023-08-22T19:54:31.138603",
     "exception": false,
     "start_time": "2023-08-22T19:54:31.016784",
     "status": "completed"
    },
    "tags": []
   },
   "source": [
    "# Try a new column 'reviewYN'  \n",
    "\n"
   ]
  },
  {
   "cell_type": "code",
   "execution_count": 275,
   "id": "28d2c583",
   "metadata": {
    "execution": {
     "iopub.execute_input": "2023-08-22T19:54:31.387801Z",
     "iopub.status.busy": "2023-08-22T19:54:31.387364Z",
     "iopub.status.idle": "2023-08-22T19:54:31.391846Z",
     "shell.execute_reply": "2023-08-22T19:54:31.390757Z"
    },
    "papermill": {
     "duration": 0.132804,
     "end_time": "2023-08-22T19:54:31.394156",
     "exception": false,
     "start_time": "2023-08-22T19:54:31.261352",
     "status": "completed"
    },
    "tags": []
   },
   "outputs": [],
   "source": [
    "# all_dict_3 = {'cat': [\"isFrequentReviewer\", \"rating\", \"originalLanguage\", \"reviewYN\"],\n",
    "#              'num': [\"audienceScore\", \"runtimeMinutes\", \"boxOffice\"],\n",
    "#              'txt': ['reviewText', \"reviewerName\", 'movieid', 'genre', 'director']}\n",
    "# all_dict_3"
   ]
  },
  {
   "cell_type": "code",
   "execution_count": 276,
   "id": "3d4060d9",
   "metadata": {
    "execution": {
     "iopub.execute_input": "2023-08-22T19:54:31.644483Z",
     "iopub.status.busy": "2023-08-22T19:54:31.643604Z",
     "iopub.status.idle": "2023-08-22T19:54:31.648430Z",
     "shell.execute_reply": "2023-08-22T19:54:31.647664Z"
    },
    "papermill": {
     "duration": 0.133169,
     "end_time": "2023-08-22T19:54:31.650763",
     "exception": false,
     "start_time": "2023-08-22T19:54:31.517594",
     "status": "completed"
    },
    "tags": []
   },
   "outputs": [],
   "source": [
    "# submit_v4(selected_model=LogisticRegression(max_iter=100000),\n",
    "#          selected_features=all_dict_3, \n",
    "#           param_grid=param_grid)"
   ]
  },
  {
   "cell_type": "markdown",
   "id": "ee84742f",
   "metadata": {
    "papermill": {
     "duration": 0.122177,
     "end_time": "2023-08-22T19:54:31.894019",
     "exception": false,
     "start_time": "2023-08-22T19:54:31.771842",
     "status": "completed"
    },
    "tags": []
   },
   "source": [
    "### More GridSearchCV using LinearSVC  "
   ]
  },
  {
   "cell_type": "code",
   "execution_count": 277,
   "id": "a9c9f787",
   "metadata": {
    "execution": {
     "iopub.execute_input": "2023-08-22T19:54:32.140741Z",
     "iopub.status.busy": "2023-08-22T19:54:32.139861Z",
     "iopub.status.idle": "2023-08-22T19:54:32.144980Z",
     "shell.execute_reply": "2023-08-22T19:54:32.144043Z"
    },
    "papermill": {
     "duration": 0.131088,
     "end_time": "2023-08-22T19:54:32.147418",
     "exception": false,
     "start_time": "2023-08-22T19:54:32.016330",
     "status": "completed"
    },
    "tags": []
   },
   "outputs": [],
   "source": [
    "# param_grid_svc_2 = {\n",
    "#     'model__C': [1.0],\n",
    "#     'model__loss': ['hinge', 'squared_hinge'],\n",
    "#     'model__class_weight': ['balanced', None]\n",
    "# }\n",
    "# param_grid_svc_2"
   ]
  },
  {
   "cell_type": "code",
   "execution_count": 278,
   "id": "6038fd38",
   "metadata": {
    "execution": {
     "iopub.execute_input": "2023-08-22T19:54:32.399761Z",
     "iopub.status.busy": "2023-08-22T19:54:32.398902Z",
     "iopub.status.idle": "2023-08-22T19:54:32.403858Z",
     "shell.execute_reply": "2023-08-22T19:54:32.403060Z"
    },
    "papermill": {
     "duration": 0.135981,
     "end_time": "2023-08-22T19:54:32.406178",
     "exception": false,
     "start_time": "2023-08-22T19:54:32.270197",
     "status": "completed"
    },
    "tags": []
   },
   "outputs": [],
   "source": [
    "# submit_v4(selected_model=LinearSVC(max_iter=100000, random_state=42), selected_features={'num': [\"audienceScore\"]}, param_grid=param_grid_svc_2)"
   ]
  },
  {
   "cell_type": "code",
   "execution_count": 279,
   "id": "eac45ad0",
   "metadata": {
    "execution": {
     "iopub.execute_input": "2023-08-22T19:54:32.653830Z",
     "iopub.status.busy": "2023-08-22T19:54:32.653366Z",
     "iopub.status.idle": "2023-08-22T19:54:32.658183Z",
     "shell.execute_reply": "2023-08-22T19:54:32.657101Z"
    },
    "papermill": {
     "duration": 0.131049,
     "end_time": "2023-08-22T19:54:32.660612",
     "exception": false,
     "start_time": "2023-08-22T19:54:32.529563",
     "status": "completed"
    },
    "tags": []
   },
   "outputs": [],
   "source": [
    "# submit_v4(selected_model=LinearSVC(max_iter=100000, random_state=42), selected_features=all_dict, param_grid=param_grid_svc_2)"
   ]
  },
  {
   "cell_type": "markdown",
   "id": "70dd9cf6",
   "metadata": {
    "papermill": {
     "duration": 0.1233,
     "end_time": "2023-08-22T19:54:32.905598",
     "exception": false,
     "start_time": "2023-08-22T19:54:32.782298",
     "status": "completed"
    },
    "tags": []
   },
   "source": [
    "### Boosting techniques  "
   ]
  },
  {
   "cell_type": "code",
   "execution_count": 280,
   "id": "4584a60f",
   "metadata": {
    "execution": {
     "iopub.execute_input": "2023-08-22T19:54:33.229747Z",
     "iopub.status.busy": "2023-08-22T19:54:33.229315Z",
     "iopub.status.idle": "2023-08-22T19:54:33.234293Z",
     "shell.execute_reply": "2023-08-22T19:54:33.233076Z"
    },
    "papermill": {
     "duration": 0.127813,
     "end_time": "2023-08-22T19:54:33.236739",
     "exception": false,
     "start_time": "2023-08-22T19:54:33.108926",
     "status": "completed"
    },
    "tags": []
   },
   "outputs": [],
   "source": [
    "# adc = AdaBoostClassifier(estimator=LogisticRegression(C=5, solver=\"saga\", max_iter=100000), n_estimators=50)\n",
    "# adc"
   ]
  },
  {
   "cell_type": "code",
   "execution_count": 281,
   "id": "b459f1a4",
   "metadata": {
    "execution": {
     "iopub.execute_input": "2023-08-22T19:54:33.478860Z",
     "iopub.status.busy": "2023-08-22T19:54:33.478397Z",
     "iopub.status.idle": "2023-08-22T19:54:33.483182Z",
     "shell.execute_reply": "2023-08-22T19:54:33.482069Z"
    },
    "papermill": {
     "duration": 0.127548,
     "end_time": "2023-08-22T19:54:33.485493",
     "exception": false,
     "start_time": "2023-08-22T19:54:33.357945",
     "status": "completed"
    },
    "tags": []
   },
   "outputs": [],
   "source": [
    "# submit_v4(selected_model=adc, selected_features={'num': [\"audienceScore\"]}, param_grid=None)"
   ]
  },
  {
   "cell_type": "code",
   "execution_count": 282,
   "id": "5882b0c3",
   "metadata": {
    "execution": {
     "iopub.execute_input": "2023-08-22T19:54:33.724255Z",
     "iopub.status.busy": "2023-08-22T19:54:33.723434Z",
     "iopub.status.idle": "2023-08-22T19:54:33.728226Z",
     "shell.execute_reply": "2023-08-22T19:54:33.727338Z"
    },
    "papermill": {
     "duration": 0.126404,
     "end_time": "2023-08-22T19:54:33.730474",
     "exception": false,
     "start_time": "2023-08-22T19:54:33.604070",
     "status": "completed"
    },
    "tags": []
   },
   "outputs": [],
   "source": [
    "# submit_v4(selected_model=adc, selected_features=all_dict, param_grid=None)\n",
    "\n",
    "# Took 1 hour 15 mins to run and gave a public score of only 0.71089. Discarded."
   ]
  },
  {
   "cell_type": "markdown",
   "id": "a00023fb",
   "metadata": {
    "papermill": {
     "duration": 0.12177,
     "end_time": "2023-08-22T19:54:33.972112",
     "exception": false,
     "start_time": "2023-08-22T19:54:33.850342",
     "status": "completed"
    },
    "tags": []
   },
   "source": [
    "### LightGBM  "
   ]
  },
  {
   "cell_type": "code",
   "execution_count": 283,
   "id": "66d25599",
   "metadata": {
    "execution": {
     "iopub.execute_input": "2023-08-22T19:54:34.219628Z",
     "iopub.status.busy": "2023-08-22T19:54:34.219224Z",
     "iopub.status.idle": "2023-08-22T19:54:34.223905Z",
     "shell.execute_reply": "2023-08-22T19:54:34.222876Z"
    },
    "papermill": {
     "duration": 0.130161,
     "end_time": "2023-08-22T19:54:34.226090",
     "exception": false,
     "start_time": "2023-08-22T19:54:34.095929",
     "status": "completed"
    },
    "tags": []
   },
   "outputs": [],
   "source": [
    "# lgb = ltb.LGBMClassifier()\n",
    "# lgb"
   ]
  },
  {
   "cell_type": "code",
   "execution_count": 284,
   "id": "23296338",
   "metadata": {
    "execution": {
     "iopub.execute_input": "2023-08-22T19:54:34.471919Z",
     "iopub.status.busy": "2023-08-22T19:54:34.471165Z",
     "iopub.status.idle": "2023-08-22T19:54:34.475505Z",
     "shell.execute_reply": "2023-08-22T19:54:34.474746Z"
    },
    "papermill": {
     "duration": 0.130268,
     "end_time": "2023-08-22T19:54:34.477930",
     "exception": false,
     "start_time": "2023-08-22T19:54:34.347662",
     "status": "completed"
    },
    "tags": []
   },
   "outputs": [],
   "source": [
    "# Try LightGBM with default settings\n",
    "# (Update): Public score only 0.77713. It was fast, took less than 5 mins (without GridSearchCV)\n",
    "\n",
    "# submit_v4(selected_model=ltb.LGBMClassifier(), selected_features=all_dict, param_grid=None)"
   ]
  },
  {
   "cell_type": "markdown",
   "id": "945c474b",
   "metadata": {
    "papermill": {
     "duration": 0.121673,
     "end_time": "2023-08-22T19:54:34.722571",
     "exception": false,
     "start_time": "2023-08-22T19:54:34.600898",
     "status": "completed"
    },
    "tags": []
   },
   "source": [
    "# Try feature selection and vocab fine tuning of reviewText column"
   ]
  },
  {
   "cell_type": "markdown",
   "id": "fa382167",
   "metadata": {
    "papermill": {
     "duration": 0.122779,
     "end_time": "2023-08-22T19:54:34.967054",
     "exception": false,
     "start_time": "2023-08-22T19:54:34.844275",
     "status": "completed"
    },
    "tags": []
   },
   "source": [
    "## Plan  \n",
    "* Add a new column 'reviewWC' which has word count of 'reviewText'  \n",
    "    * Check if there is any relationship between 'reviewWC' and 'sentiment'\n",
    "* Work on vocabulary\n",
    "     * Use TfidfVectorizer and find out the vocabulary of 'reviewText' column for various ngrams\n",
    "     * Use RecursiveFeatureElimination (RFE) or RFECV to select 1000 top words/vocab for each ngram\n",
    "     * Use the final vocab (1000-3000 words) in the model and see how it performs compared to whole vocab\n"
   ]
  },
  {
   "cell_type": "code",
   "execution_count": 285,
   "id": "ee416411",
   "metadata": {
    "execution": {
     "iopub.execute_input": "2023-08-22T19:54:35.215049Z",
     "iopub.status.busy": "2023-08-22T19:54:35.214583Z",
     "iopub.status.idle": "2023-08-22T19:54:35.220085Z",
     "shell.execute_reply": "2023-08-22T19:54:35.218842Z"
    },
    "papermill": {
     "duration": 0.131751,
     "end_time": "2023-08-22T19:54:35.222372",
     "exception": false,
     "start_time": "2023-08-22T19:54:35.090621",
     "status": "completed"
    },
    "tags": []
   },
   "outputs": [],
   "source": [
    "# 'reviewWC' and 'sentiment'\n",
    "# (Conclusion): 'reviewWC' is practically same as DummyClassifier (accuracy of 0.6682375059904889 on train data). It just predicts 'positive' for all columns\n",
    "\n",
    "# reviewWC_dict = {\"num\": [\"reviewWC\"]}\n",
    "# submit_v4(selected_model=LogisticRegression(),\n",
    "#          selected_features=reviewWC_dict,\n",
    "#          param_grid=None)"
   ]
  },
  {
   "cell_type": "code",
   "execution_count": 286,
   "id": "002dbffa",
   "metadata": {
    "execution": {
     "iopub.execute_input": "2023-08-22T19:54:35.476302Z",
     "iopub.status.busy": "2023-08-22T19:54:35.475403Z",
     "iopub.status.idle": "2023-08-22T19:54:35.481038Z",
     "shell.execute_reply": "2023-08-22T19:54:35.479700Z"
    },
    "papermill": {
     "duration": 0.132795,
     "end_time": "2023-08-22T19:54:35.483262",
     "exception": false,
     "start_time": "2023-08-22T19:54:35.350467",
     "status": "completed"
    },
    "tags": []
   },
   "outputs": [],
   "source": [
    "# 'reviewYN' and 'sentiment'\n",
    "# (Conclusion): 'reviewYN' is practically same as DummyClassifier (accuracy of 0.6682375059904889 on train data). It just predicts 'positive' for all columns\n",
    "\n",
    "# reviewYN_dict = {\"cat\": [\"reviewYN\"]}\n",
    "# submit_v4(selected_model=LogisticRegression(),\n",
    "#          selected_features=reviewYN_dict,\n",
    "#          param_grid=None)"
   ]
  },
  {
   "cell_type": "markdown",
   "id": "b7350868",
   "metadata": {
    "papermill": {
     "duration": 0.123113,
     "end_time": "2023-08-22T19:54:35.730566",
     "exception": false,
     "start_time": "2023-08-22T19:54:35.607453",
     "status": "completed"
    },
    "tags": []
   },
   "source": [
    "## Submissions using 'vocabulary' built from 'reviewText' data  "
   ]
  },
  {
   "cell_type": "markdown",
   "id": "381e8a45",
   "metadata": {
    "papermill": {
     "duration": 0.124176,
     "end_time": "2023-08-22T19:54:35.977738",
     "exception": false,
     "start_time": "2023-08-22T19:54:35.853562",
     "status": "completed"
    },
    "tags": []
   },
   "source": [
    "### Submit best 6 features along with common vocab  "
   ]
  },
  {
   "cell_type": "code",
   "execution_count": 287,
   "id": "4f09c657",
   "metadata": {
    "execution": {
     "iopub.execute_input": "2023-08-22T19:54:36.225612Z",
     "iopub.status.busy": "2023-08-22T19:54:36.225178Z",
     "iopub.status.idle": "2023-08-22T19:54:36.230326Z",
     "shell.execute_reply": "2023-08-22T19:54:36.229049Z"
    },
    "papermill": {
     "duration": 0.132233,
     "end_time": "2023-08-22T19:54:36.232706",
     "exception": false,
     "start_time": "2023-08-22T19:54:36.100473",
     "status": "completed"
    },
    "tags": []
   },
   "outputs": [],
   "source": [
    "# Best 6 parameters (version 2)  \n",
    "\n",
    "# best6_dict = {'num': [\"audienceScore\"],\n",
    "#              'txt': ['reviewText', 'reviewerName', 'genre','movieid', 'director']}\n",
    "\n",
    "# best6_dict"
   ]
  },
  {
   "cell_type": "code",
   "execution_count": 288,
   "id": "92e17aa3",
   "metadata": {
    "execution": {
     "iopub.execute_input": "2023-08-22T19:54:36.476068Z",
     "iopub.status.busy": "2023-08-22T19:54:36.475627Z",
     "iopub.status.idle": "2023-08-22T19:54:36.481359Z",
     "shell.execute_reply": "2023-08-22T19:54:36.480080Z"
    },
    "papermill": {
     "duration": 0.127704,
     "end_time": "2023-08-22T19:54:36.483532",
     "exception": false,
     "start_time": "2023-08-22T19:54:36.355828",
     "status": "completed"
    },
    "tags": []
   },
   "outputs": [],
   "source": [
    "# Submit best 6 features (version 2) with common vocabulary (common_1_2_grams)\n",
    "# (Update): Score 0.82867\n",
    "\n",
    "# submit_v4(selected_features=best6_dict,\n",
    "#           param_grid=param_grid,\n",
    "#          vocab=common_1_2_grams)"
   ]
  },
  {
   "cell_type": "code",
   "execution_count": 289,
   "id": "ca805507",
   "metadata": {
    "execution": {
     "iopub.execute_input": "2023-08-22T19:54:36.720966Z",
     "iopub.status.busy": "2023-08-22T19:54:36.720536Z",
     "iopub.status.idle": "2023-08-22T19:54:36.725535Z",
     "shell.execute_reply": "2023-08-22T19:54:36.724349Z"
    },
    "papermill": {
     "duration": 0.126152,
     "end_time": "2023-08-22T19:54:36.727795",
     "exception": false,
     "start_time": "2023-08-22T19:54:36.601643",
     "status": "completed"
    },
    "tags": []
   },
   "outputs": [],
   "source": [
    "# Submit best 6 features (version 2) with common vocabulary (common_1_2_3_grams)\n",
    "# Note: for this submission submit_v4 function has to be modified: reviewText TfidfVectorizer must have ngram_range(1,3).\n",
    "# (Update): Score in the range 0.825+\n",
    "\n",
    "# submit_v4(selected_features=best6_dict,\n",
    "#           param_grid=param_grid,\n",
    "#          vocab=common_1_2_3_grams)"
   ]
  }
 ],
 "metadata": {
  "kernelspec": {
   "display_name": "Python 3",
   "language": "python",
   "name": "python3"
  },
  "language_info": {
   "codemirror_mode": {
    "name": "ipython",
    "version": 3
   },
   "file_extension": ".py",
   "mimetype": "text/x-python",
   "name": "python",
   "nbconvert_exporter": "python",
   "pygments_lexer": "ipython3",
   "version": "3.10.10"
  },
  "papermill": {
   "default_parameters": {},
   "duration": 247.350822,
   "end_time": "2023-08-22T19:54:39.669354",
   "environment_variables": {},
   "exception": null,
   "input_path": "__notebook__.ipynb",
   "output_path": "__notebook__.ipynb",
   "parameters": {},
   "start_time": "2023-08-22T19:50:32.318532",
   "version": "2.4.0"
  }
 },
 "nbformat": 4,
 "nbformat_minor": 5
}
